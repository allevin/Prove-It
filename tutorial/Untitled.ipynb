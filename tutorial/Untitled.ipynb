{
 "cells": [
  {
   "cell_type": "code",
   "execution_count": 3,
   "metadata": {},
   "outputs": [],
   "source": [
    "import proveit\n",
    "from proveit import defaults, Iter, Indexed, ExprList\n",
    "from proveit._common_ import a, b, f, g, i, n, x, xx, y, yy\n",
    "from proveit.logic import InSet, Equals, Forall\n",
    "\n",
    "from proveit.number import NaturalsPos, one\n",
    "from proveit.logic.equality._axioms_ import substitution\n",
    "from proveit.logic._common_ import xIter1n, yIter1n, yIter1nz, f_xIter1n, f_yIter1n, g_xIter1n, g_xIter1nz, g_yIter1nz\n",
    "from proveit.logic._common_ import iterA1m, iterC1m"
   ]
  },
  {
   "cell_type": "code",
   "execution_count": 2,
   "metadata": {},
   "outputs": [
    {
     "data": {
      "text/html": [
       "<span style=\"font-size:20px;\"> &#x22A2;&nbsp;<a class=\"ProveItLink\" href=\"../packages/proveit/logic/equality/__pv_it/6ec2193ff7f2a0001aea3e112ec0ee2dddc5beb10/expr.ipynb\"><img src=\"../packages/proveit/logic/equality/__pv_it/6ec2193ff7f2a0001aea3e112ec0ee2dddc5beb10/expr.png\" style=\"display:inline;vertical-align:middle;\" /></a></span>"
      ],
      "text/plain": [
       "|= forall_{f, x, y | x = y} (f(x) = f(y))"
      ]
     },
     "execution_count": 2,
     "metadata": {},
     "output_type": "execute_result"
    }
   ],
   "source": [
    "substitution"
   ]
  },
  {
   "cell_type": "code",
   "execution_count": 4,
   "metadata": {},
   "outputs": [
    {
     "data": {
      "text/html": [
       "<a class=\"ProveItLink\" href=\"../packages/proveit/logic/__pv_it/0e3205cfbcb0f55e1cf12245893bd5c9efd4b3000/expr.ipynb\"><img src=\"../packages/proveit/logic/__pv_it/0e3205cfbcb0f55e1cf12245893bd5c9efd4b3000/expr.png\" style=\"display:inline;vertical-align:middle;\" /></a>"
      ],
      "text/plain": [
       "A_1,...,A_m"
      ]
     },
     "execution_count": 4,
     "metadata": {},
     "output_type": "execute_result"
    }
   ],
   "source": [
    "iterA1m"
   ]
  },
  {
   "cell_type": "code",
   "execution_count": 10,
   "metadata": {},
   "outputs": [
    {
     "data": {
      "text/html": [
       "<span style=\"font-size:20px;\"><a class=\"ProveItLink\" href=\"__pv_it/658c8e5c80420d9d2afffc82cf2b53d3f561c40f0/expr.ipynb\"><img src=\"__pv_it/658c8e5c80420d9d2afffc82cf2b53d3f561c40f0/expr.png\" style=\"display:inline;vertical-align:middle;\" /></a> &#x22A2;&nbsp;<a class=\"ProveItLink\" href=\"__pv_it/0c3023a4c8d0efbc0387f8c4b545e88063f84c770/expr.ipynb\"><img src=\"__pv_it/0c3023a4c8d0efbc0387f8c4b545e88063f84c770/expr.png\" style=\"display:inline;vertical-align:middle;\" /></a></span>"
      ],
      "text/plain": [
       "{(a , A_1 ,  ...  , A_m , b) = (C_1 ,  ...  , C_m)} |= f(a , A_1 ,  ...  , A_m , b) = f(C_1 ,  ...  , C_m)"
      ]
     },
     "execution_count": 10,
     "metadata": {},
     "output_type": "execute_result"
    }
   ],
   "source": [
    "substitution.specialize({x:[a, iterA1m, b], y:ExprList(iterC1m)}, assumptions = {Equals(ExprList(a, iterA1m, b), ExprList(iterC1m))})"
   ]
  },
  {
   "cell_type": "code",
   "execution_count": 44,
   "metadata": {},
   "outputs": [
    {
     "data": {
      "text/html": [
       "<strong id=\"testString\">testString:</strong> This is a line.\n",
       "This is line 2. This is line 3.<br>"
      ],
      "text/plain": [
       "testString: 'This is a line.\\nThis is line 2. This is line 3.'"
      ]
     },
     "execution_count": 44,
     "metadata": {},
     "output_type": "execute_result"
    }
   ],
   "source": [
    "tempInt = 2\n",
    "testString = (\"This is a line.\\n\" +\n",
    "       \"This is line %d. \" +\n",
    "       \"This is line 3.\")%tempInt"
   ]
  },
  {
   "cell_type": "code",
   "execution_count": 45,
   "metadata": {},
   "outputs": [
    {
     "name": "stdout",
     "output_type": "stream",
     "text": [
      "This is a line.\n",
      "This is line 2. This is line 3.\n"
     ]
    }
   ],
   "source": [
    "print(testString)"
   ]
  },
  {
   "cell_type": "code",
   "execution_count": null,
   "metadata": {},
   "outputs": [],
   "source": []
  }
 ],
 "metadata": {
  "kernelspec": {
   "display_name": "Python 3",
   "language": "python",
   "name": "python3"
  },
  "language_info": {
   "codemirror_mode": {
    "name": "ipython",
    "version": 3
   },
   "file_extension": ".py",
   "mimetype": "text/x-python",
   "name": "python",
   "nbconvert_exporter": "python",
   "pygments_lexer": "ipython3",
   "version": "3.7.1"
  }
 },
 "nbformat": 4,
 "nbformat_minor": 2
}
