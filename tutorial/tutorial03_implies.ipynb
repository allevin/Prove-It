{
 "cells": [
  {
   "cell_type": "markdown",
   "metadata": {},
   "source": [
    "Chapter 3.  Implication\n",
    "=======\n",
    "\n",
    "An implication such as $P \\Rightarrow Q$ has an antecedent ($P$) and a consequent ($Q$).  If the antecedent is true, the consequent must also be true.  **Prove-It** has an `Implies` **operation** (a sub-class of **Expression**) that may be used to represent an implication, formatted with the $\\Rightarrow$ symbol.  While this is a concept used in the core, `Implies` is actually defined outside of the core in the `proveit.logic` package.  It is known in the core for use in the *modus ponens* and *hypothetical reasoning* derivation steps discussed below.\n",
    "\n",
    "Below we import some helpful and necessary elements, define the `Implies` object $A \\Rightarrow B$, and then take a brief tour of the `Implies` class:"
   ]
  },
  {
   "cell_type": "code",
   "execution_count": 1,
   "metadata": {},
   "outputs": [],
   "source": [
    "from proveit._common_ import A, B, C, X\n",
    "from proveit.logic import Implies \n",
    "%begin implication"
   ]
  },
  {
   "cell_type": "code",
   "execution_count": 2,
   "metadata": {},
   "outputs": [
    {
     "data": {
      "text/html": [
       "<strong id=\"A_impl_B\">A_impl_B:</strong> <a class=\"ProveItLink\" href=\"__pv_it/74709aae353dd47ed1086aae7a6650599fd919cf0/expr.ipynb\"><img src=\"__pv_it/74709aae353dd47ed1086aae7a6650599fd919cf0/expr.png\" style=\"display:inline;vertical-align:middle;\" /></a><br>"
      ],
      "text/plain": [
       "A_impl_B: A => B"
      ]
     },
     "execution_count": 2,
     "metadata": {},
     "output_type": "execute_result"
    }
   ],
   "source": [
    "A_impl_B = Implies(A, B)"
   ]
  },
  {
   "cell_type": "markdown",
   "metadata": {},
   "source": [
    "Implies is an `Operation` (a sub-class of `Expression`):"
   ]
  },
  {
   "cell_type": "code",
   "execution_count": 3,
   "metadata": {},
   "outputs": [
    {
     "data": {
      "text/html": [
       "<table><tr><th>&nbsp;</th><th>core type</th><th>sub-expressions</th><th>expression</th></tr>\n",
       "<tr><td>0</td><td>Operation</td><td>operator:&nbsp;1<br>operands:&nbsp;2<br></td><td><a class=\"ProveItLink\" href=\"__pv_it/74709aae353dd47ed1086aae7a6650599fd919cf0/expr.ipynb\"><img src=\"__pv_it/74709aae353dd47ed1086aae7a6650599fd919cf0/expr.png\" style=\"display:inline;vertical-align:middle;\" /></a></td></tr>\n",
       "<tr><td>1</td><td>Literal</td><td></td><td><a class=\"ProveItLink\" href=\"../packages/proveit/logic/boolean/implication/__pv_it/e5c030cabcb650938f92dee8256fe11cd12bf9b30/expr.ipynb\"><img src=\"../packages/proveit/logic/boolean/implication/__pv_it/e5c030cabcb650938f92dee8256fe11cd12bf9b30/expr.png\" style=\"display:inline;vertical-align:middle;\" /></a></td></tr>\n",
       "<tr><td>2</td><td>ExprList</td><td>3, 4</td><td><a class=\"ProveItLink\" href=\"__pv_it/06a72e8706d1c13b268a9445a249c41d479d50850/expr.ipynb\"><img src=\"__pv_it/06a72e8706d1c13b268a9445a249c41d479d50850/expr.png\" style=\"display:inline;vertical-align:middle;\" /></a></td></tr>\n",
       "<tr><td>3</td><td>Variable</td><td></td><td><a class=\"ProveItLink\" href=\"../packages/proveit/__pv_it/2cbe72a7ad6f655694dd697106680215e8489b600/expr.ipynb\"><img src=\"../packages/proveit/__pv_it/2cbe72a7ad6f655694dd697106680215e8489b600/expr.png\" style=\"display:inline;vertical-align:middle;\" /></a></td></tr>\n",
       "<tr><td>4</td><td>Variable</td><td></td><td><a class=\"ProveItLink\" href=\"../packages/proveit/__pv_it/077b2ff79244fb4582cbe22c6e3356fa92a52f2f0/expr.ipynb\"><img src=\"../packages/proveit/__pv_it/077b2ff79244fb4582cbe22c6e3356fa92a52f2f0/expr.png\" style=\"display:inline;vertical-align:middle;\" /></a></td></tr>\n",
       "</table>\n"
      ],
      "text/plain": [
       "0. A => B\n",
       "   core type: Operation\n",
       "   operator: 1\n",
       "   operands: 2\n",
       "1. =>\n",
       "   core type: Literal\n",
       "   sub-expressions: \n",
       "2. (A , B)\n",
       "   core type: ExprList\n",
       "   sub-expressions: 3, 4\n",
       "3. A\n",
       "   core type: Variable\n",
       "   sub-expressions: \n",
       "4. B\n",
       "   core type: Variable\n",
       "   sub-expressions: "
      ]
     },
     "execution_count": 3,
     "metadata": {},
     "output_type": "execute_result"
    }
   ],
   "source": [
    "A_impl_B.exprInfo()"
   ]
  },
  {
   "cell_type": "markdown",
   "metadata": {},
   "source": [
    "We can access the `antecedent` and the `consequent` of the implication as follows:"
   ]
  },
  {
   "cell_type": "code",
   "execution_count": 4,
   "metadata": {},
   "outputs": [
    {
     "data": {
      "text/html": [
       "<a class=\"ProveItLink\" href=\"../packages/proveit/__pv_it/2cbe72a7ad6f655694dd697106680215e8489b600/expr.ipynb\"><img src=\"../packages/proveit/__pv_it/2cbe72a7ad6f655694dd697106680215e8489b600/expr.png\" style=\"display:inline;vertical-align:middle;\" /></a>"
      ],
      "text/plain": [
       "A"
      ]
     },
     "execution_count": 4,
     "metadata": {},
     "output_type": "execute_result"
    }
   ],
   "source": [
    "A_impl_B.antecedent"
   ]
  },
  {
   "cell_type": "code",
   "execution_count": 5,
   "metadata": {},
   "outputs": [
    {
     "data": {
      "text/html": [
       "<a class=\"ProveItLink\" href=\"../packages/proveit/__pv_it/077b2ff79244fb4582cbe22c6e3356fa92a52f2f0/expr.ipynb\"><img src=\"../packages/proveit/__pv_it/077b2ff79244fb4582cbe22c6e3356fa92a52f2f0/expr.png\" style=\"display:inline;vertical-align:middle;\" /></a>"
      ],
      "text/plain": [
       "B"
      ]
     },
     "execution_count": 5,
     "metadata": {},
     "output_type": "execute_result"
    }
   ],
   "source": [
    "A_impl_B.consequent"
   ]
  },
  {
   "cell_type": "markdown",
   "metadata": {},
   "source": [
    "And we can take a peak at the instance attributes and methods:"
   ]
  },
  {
   "cell_type": "code",
   "execution_count": 6,
   "metadata": {},
   "outputs": [
    {
     "data": {
      "text/plain": [
       "['SequenceClass',\n",
       " 'StrongRelationClass',\n",
       " 'WeakRelationClass',\n",
       " '__class__',\n",
       " '__delattr__',\n",
       " '__dict__',\n",
       " '__dir__',\n",
       " '__doc__',\n",
       " '__eq__',\n",
       " '__format__',\n",
       " '__ge__',\n",
       " '__getattribute__',\n",
       " '__gt__',\n",
       " '__hash__',\n",
       " '__init__',\n",
       " '__init_subclass__',\n",
       " '__le__',\n",
       " '__lt__',\n",
       " '__module__',\n",
       " '__ne__',\n",
       " '__new__',\n",
       " '__reduce__',\n",
       " '__reduce_ex__',\n",
       " '__repr__',\n",
       " '__setattr__',\n",
       " '__sizeof__',\n",
       " '__str__',\n",
       " '__subclasshook__',\n",
       " '__weakref__',\n",
       " '_checkRelabelMap',\n",
       " '_checkedStrongRelationClass',\n",
       " '_checkedWeakRelationClass',\n",
       " '_class_path',\n",
       " '_clear_',\n",
       " '_config_latex_tool',\n",
       " '_coreInfo',\n",
       " '_expandingIterRanges',\n",
       " '_extractCoreInfo',\n",
       " '_extractExprClass',\n",
       " '_extractInitArgs',\n",
       " '_extractMyInitArgs',\n",
       " '_extractReferencedObjIds',\n",
       " '_extractStyle',\n",
       " '_fixedTransitivitySort',\n",
       " '_formatMultiOperator',\n",
       " '_formatted',\n",
       " '_generateSortingRelations',\n",
       " '_generate_unique_rep',\n",
       " '_implicitOperator',\n",
       " '_make',\n",
       " '_meaningData',\n",
       " '_meaning_id',\n",
       " '_operator_',\n",
       " '_repr_html_',\n",
       " '_requirements',\n",
       " '_restrictionChecked',\n",
       " '_setContext',\n",
       " '_styleData',\n",
       " '_style_id',\n",
       " '_subExpressions',\n",
       " '_transitivityInsert',\n",
       " '_transitivitySearch',\n",
       " '_transitivitySort',\n",
       " '_validateRelabelMap',\n",
       " 'antecedent',\n",
       " 'applyTransitivities',\n",
       " 'applyTransitivity',\n",
       " 'conclude',\n",
       " 'concludeNegation',\n",
       " 'concludeSelfImplication',\n",
       " 'concludeViaDoubleNegation',\n",
       " 'concludeViaImplication',\n",
       " 'concludeViaTransitivity',\n",
       " 'consequent',\n",
       " 'contexts',\n",
       " 'contrapose',\n",
       " 'copy',\n",
       " 'coreInfo',\n",
       " 'deduceInBool',\n",
       " 'deduceNegatedLeftImpl',\n",
       " 'deduceNegatedReflex',\n",
       " 'deduceNegatedRightImpl',\n",
       " 'denyAntecedent',\n",
       " 'deriveConsequent',\n",
       " 'deriveIff',\n",
       " 'deriveViaContradiction',\n",
       " 'displayed_expression_styles',\n",
       " 'disprove',\n",
       " 'evaluation',\n",
       " 'exprInfo',\n",
       " 'extractInitArgValue',\n",
       " 'extractMyInitArgValue',\n",
       " 'formatted',\n",
       " 'freeMultiVars',\n",
       " 'freeVars',\n",
       " 'generalize',\n",
       " 'getRequirements',\n",
       " 'getStyle',\n",
       " 'getStyles',\n",
       " 'in_progress_to_conclude',\n",
       " 'innerExpr',\n",
       " 'insert',\n",
       " 'knownLeftSides',\n",
       " 'knownRelationsFromLeft',\n",
       " 'knownRelationsFromRight',\n",
       " 'knownRightSides',\n",
       " 'latex',\n",
       " 'lhs',\n",
       " 'makeSequenceOrRelation',\n",
       " 'negationSideEffects',\n",
       " 'numSubExpr',\n",
       " 'operand_or_operands',\n",
       " 'operands',\n",
       " 'operationClassOfOperator',\n",
       " 'operator',\n",
       " 'operator_or_operators',\n",
       " 'operators',\n",
       " 'orderOfAppearance',\n",
       " 'prove',\n",
       " 'relabeled',\n",
       " 'remakeArguments',\n",
       " 'remakeConstructor',\n",
       " 'remakeWithStyleCalls',\n",
       " 'rhs',\n",
       " 'safeDummyVar',\n",
       " 'safeDummyVars',\n",
       " 'sideEffects',\n",
       " 'simplification',\n",
       " 'sort',\n",
       " 'string',\n",
       " 'styleNames',\n",
       " 'styleOptions',\n",
       " 'subExpr',\n",
       " 'subExprIter',\n",
       " 'substituted',\n",
       " 'usedVars',\n",
       " 'withJustification',\n",
       " 'withMatchingStyle',\n",
       " 'withStyles',\n",
       " 'withWrapAfterOperator',\n",
       " 'withWrapBeforeOperator',\n",
       " 'withWrappingAt',\n",
       " 'wrapPositions']"
      ]
     },
     "execution_count": 6,
     "metadata": {},
     "output_type": "execute_result"
    }
   ],
   "source": [
    "dir(A_impl_B)"
   ]
  },
  {
   "cell_type": "markdown",
   "metadata": {},
   "source": [
    "## Modus Ponens\n",
    "\n",
    "*Modus ponens* is a straightforward derivation step in which you can derive $B$ assuming that $A$ and $A \\Rightarrow B$ are both true statements.  You can apply this derivation step explicitly by calling the `deriveConsequent` method of any `Implies` object."
   ]
  },
  {
   "cell_type": "code",
   "execution_count": 7,
   "metadata": {},
   "outputs": [
    {
     "data": {
      "text/html": [
       "<strong id=\"B_from_A\">B_from_A:</strong> <span style=\"font-size:20px;\"><a class=\"ProveItLink\" href=\"__pv_it/60d37329e7d80ee80309a0873432cf950c8570af0/expr.ipynb\"><img src=\"__pv_it/60d37329e7d80ee80309a0873432cf950c8570af0/expr.png\" style=\"display:inline;vertical-align:middle;\" /></a> &#x22A2;&nbsp;<a class=\"ProveItLink\" href=\"../packages/proveit/__pv_it/077b2ff79244fb4582cbe22c6e3356fa92a52f2f0/expr.ipynb\"><img src=\"../packages/proveit/__pv_it/077b2ff79244fb4582cbe22c6e3356fa92a52f2f0/expr.png\" style=\"display:inline;vertical-align:middle;\" /></a></span><br>"
      ],
      "text/plain": [
       "B_from_A: {A , A => B} |= B"
      ]
     },
     "execution_count": 7,
     "metadata": {},
     "output_type": "execute_result"
    }
   ],
   "source": [
    "B_from_A = A_impl_B.deriveConsequent(assumptions=[A, A_impl_B])"
   ]
  },
  {
   "cell_type": "markdown",
   "metadata": {},
   "source": [
    "Recall from the previous tutorial chapter that **Prove-It**, in its core, is not concerned about truth-aptness.  Neither $A$ nor $B$ are required to be intrinsically truth-apt.  The above **known truth** simply means that $B$ is a true statement *if* we assume that $A$ and $A \\Rightarrow B$ are true statements. The associated proof makes explicit the application of modus ponens:"
   ]
  },
  {
   "cell_type": "code",
   "execution_count": 8,
   "metadata": {},
   "outputs": [
    {
     "data": {
      "text/html": [
       "<table><tr><th>&nbsp;</th><th>step type</th><th>requirements</th><th>statement</th></tr>\n",
       "<tr><td>0</td><td>modus ponens</td><td>1, 2</td><td><span style=\"font-size:20px;\"><a class=\"ProveItLink\" href=\"__pv_it/60d37329e7d80ee80309a0873432cf950c8570af0/expr.ipynb\"><img src=\"__pv_it/60d37329e7d80ee80309a0873432cf950c8570af0/expr.png\" style=\"display:inline;vertical-align:middle;\" /></a> &#x22A2;&nbsp;<a class=\"ProveItLink\" href=\"../packages/proveit/__pv_it/077b2ff79244fb4582cbe22c6e3356fa92a52f2f0/expr.ipynb\"><img src=\"../packages/proveit/__pv_it/077b2ff79244fb4582cbe22c6e3356fa92a52f2f0/expr.png\" style=\"display:inline;vertical-align:middle;\" /></a></span></td></tr>\n",
       "<tr><td>1</td><td>assumption</td><td></td><td><span style=\"font-size:20px;\"><a class=\"ProveItLink\" href=\"__pv_it/9654b2deb52acc32c7e7f9ddb0ac7acafab7fd220/expr.ipynb\"><img src=\"__pv_it/9654b2deb52acc32c7e7f9ddb0ac7acafab7fd220/expr.png\" style=\"display:inline;vertical-align:middle;\" /></a> &#x22A2;&nbsp;<a class=\"ProveItLink\" href=\"__pv_it/74709aae353dd47ed1086aae7a6650599fd919cf0/expr.ipynb\"><img src=\"__pv_it/74709aae353dd47ed1086aae7a6650599fd919cf0/expr.png\" style=\"display:inline;vertical-align:middle;\" /></a></span></td></tr>\n",
       "<tr><td>2</td><td>assumption</td><td></td><td><span style=\"font-size:20px;\"><a class=\"ProveItLink\" href=\"__pv_it/158bdc91074824c720728a23dba5d58593c8cc480/expr.ipynb\"><img src=\"__pv_it/158bdc91074824c720728a23dba5d58593c8cc480/expr.png\" style=\"display:inline;vertical-align:middle;\" /></a> &#x22A2;&nbsp;<a class=\"ProveItLink\" href=\"../packages/proveit/__pv_it/2cbe72a7ad6f655694dd697106680215e8489b600/expr.ipynb\"><img src=\"../packages/proveit/__pv_it/2cbe72a7ad6f655694dd697106680215e8489b600/expr.png\" style=\"display:inline;vertical-align:middle;\" /></a></span></td></tr>\n",
       "</table>"
      ],
      "text/plain": [
       "\tstep type\trequirements\tstatement\n",
       "0\tmodus ponens\t1, 2\t{A , A => B} |= B\n",
       "1\tassumption\t\t{A => B} |= A => B\n",
       "2\tassumption\t\t{A} |= A"
      ]
     },
     "execution_count": 8,
     "metadata": {},
     "output_type": "execute_result"
    }
   ],
   "source": [
    "B_from_A.proof()"
   ]
  },
  {
   "cell_type": "markdown",
   "metadata": {},
   "source": [
    "In order for the *modus ponens* derivation step to succeed, the implication and the hypothesis must be proven to be true or appear under the applicable assumptions. Below, we see errors in the attempted proof if we omit either of the assumptions $A$ or $A \\Rightarrow B$:"
   ]
  },
  {
   "cell_type": "code",
   "execution_count": 9,
   "metadata": {},
   "outputs": [
    {
     "name": "stdout",
     "output_type": "stream",
     "text": [
      "EXPECTED ERROR: Unable to prove B assuming {A}: Implication, A => B, is not proven\n"
     ]
    }
   ],
   "source": [
    "from proveit import ModusPonensFailure\n",
    "try:\n",
    "    A_impl_B.deriveConsequent(assumptions=[A])\n",
    "    assert False, \"Expecting a ModusPonensFailure error; should not make it to this point\"\n",
    "except ModusPonensFailure as e:\n",
    "    print(\"EXPECTED ERROR:\", e)"
   ]
  },
  {
   "cell_type": "code",
   "execution_count": 10,
   "metadata": {},
   "outputs": [
    {
     "name": "stdout",
     "output_type": "stream",
     "text": [
      "EXPECTED ERROR: Unable to prove B assuming {A => B}: Antecedent of A => B is not proven\n"
     ]
    }
   ],
   "source": [
    "from proveit import ModusPonensFailure\n",
    "try:\n",
    "    A_impl_B.deriveConsequent(assumptions=[A_impl_B])\n",
    "    assert False, \"Expecting an ModusPonensFailure error; should not make it to this point\"\n",
    "except ModusPonensFailure as e:\n",
    "    print(\"EXPECTED ERROR:\", e)"
   ]
  },
  {
   "cell_type": "markdown",
   "metadata": {},
   "source": [
    "When a **known truth** wraps an **implication**, the **assumptions** of the **known truth** are automatically added.  This is the case for any `Expression` method that accepts an `assumptions` argument and is called indirectly through a `KnownTruth` object that wraps the `Expression` object.  We demonstrate this in the following two cells:"
   ]
  },
  {
   "cell_type": "code",
   "execution_count": 11,
   "metadata": {},
   "outputs": [
    {
     "data": {
      "text/html": [
       "<strong id=\"A_impl_B_truth\">A_impl_B_truth:</strong> <span style=\"font-size:20px;\"><a class=\"ProveItLink\" href=\"__pv_it/9654b2deb52acc32c7e7f9ddb0ac7acafab7fd220/expr.ipynb\"><img src=\"__pv_it/9654b2deb52acc32c7e7f9ddb0ac7acafab7fd220/expr.png\" style=\"display:inline;vertical-align:middle;\" /></a> &#x22A2;&nbsp;<a class=\"ProveItLink\" href=\"__pv_it/74709aae353dd47ed1086aae7a6650599fd919cf0/expr.ipynb\"><img src=\"__pv_it/74709aae353dd47ed1086aae7a6650599fd919cf0/expr.png\" style=\"display:inline;vertical-align:middle;\" /></a></span><br>"
      ],
      "text/plain": [
       "A_impl_B_truth: {A => B} |= A => B"
      ]
     },
     "execution_count": 11,
     "metadata": {},
     "output_type": "execute_result"
    }
   ],
   "source": [
    "A_impl_B_truth = A_impl_B.prove([A_impl_B])"
   ]
  },
  {
   "cell_type": "code",
   "execution_count": 12,
   "metadata": {},
   "outputs": [
    {
     "data": {
      "text/html": [
       "<span style=\"font-size:20px;\"><a class=\"ProveItLink\" href=\"__pv_it/60d37329e7d80ee80309a0873432cf950c8570af0/expr.ipynb\"><img src=\"__pv_it/60d37329e7d80ee80309a0873432cf950c8570af0/expr.png\" style=\"display:inline;vertical-align:middle;\" /></a> &#x22A2;&nbsp;<a class=\"ProveItLink\" href=\"../packages/proveit/__pv_it/077b2ff79244fb4582cbe22c6e3356fa92a52f2f0/expr.ipynb\"><img src=\"../packages/proveit/__pv_it/077b2ff79244fb4582cbe22c6e3356fa92a52f2f0/expr.png\" style=\"display:inline;vertical-align:middle;\" /></a></span>"
      ],
      "text/plain": [
       "{A , A => B} |= B"
      ]
     },
     "execution_count": 12,
     "metadata": {},
     "output_type": "execute_result"
    }
   ],
   "source": [
    "# A => B is automatically included as an assumption because it is \n",
    "# an assumption of A_impl_B_truth\n",
    "A_impl_B_truth.deriveConsequent(assumptions=[A])"
   ]
  },
  {
   "cell_type": "markdown",
   "metadata": {
    "collapsed": true
   },
   "source": [
    "### Using an overcomplete set of assumptions\n",
    "\n",
    "When taking any derivation step under a set of assumptions, any assumptions that are unnecessary will be discarded.  In the example below, we include $C$ as an extra, irrelevant assumption.  It is discarded as it is not needed in the proof."
   ]
  },
  {
   "cell_type": "code",
   "execution_count": 13,
   "metadata": {},
   "outputs": [
    {
     "data": {
      "text/html": [
       "<span style=\"font-size:20px;\"><a class=\"ProveItLink\" href=\"__pv_it/a2e36143adb5c3bd3253747e981635e079c2ab500/expr.ipynb\"><img src=\"__pv_it/a2e36143adb5c3bd3253747e981635e079c2ab500/expr.png\" style=\"display:inline;vertical-align:middle;\" /></a> &#x22A2;&nbsp;<a class=\"ProveItLink\" href=\"../packages/proveit/__pv_it/077b2ff79244fb4582cbe22c6e3356fa92a52f2f0/expr.ipynb\"><img src=\"../packages/proveit/__pv_it/077b2ff79244fb4582cbe22c6e3356fa92a52f2f0/expr.png\" style=\"display:inline;vertical-align:middle;\" /></a></span>"
      ],
      "text/plain": [
       "{A => B , A} |= B"
      ]
     },
     "execution_count": 13,
     "metadata": {},
     "output_type": "execute_result"
    }
   ],
   "source": [
    "A_impl_B.deriveConsequent(assumptions=[A_impl_B, A, C]) "
   ]
  },
  {
   "cell_type": "markdown",
   "metadata": {},
   "source": [
    "## Hypothetical Reasoning\n",
    "\n",
    "*Hypothothetical reasoning* is, in some sense, the reverse process of *modus ponens*.  In *modus ponens* the consequent is derived from an implication (and its antecedent).  In *hypothetical reasoning* the implication is derived from the consequent, discarding the antecedent as an assumption.  A common notation to indicate a derivation rule is to display a horizontal line with a new truth below the line that can be derived from what is above the line.  Using this notation, we have\n",
    "\n",
    "Modus ponens: \n",
    "$\\begin{array}{c}\n",
    "\\vdash A \\Rightarrow B \\\\\n",
    "\\hline\n",
    "\\{A\\} \\vdash B\n",
    "\\end{array}$\n",
    "\n",
    "Hypothetical reasoning: \n",
    "$\\begin{array}{c}\n",
    "\\{A\\} \\vdash B \\\\\n",
    "\\hline\n",
    "\\vdash A \\Rightarrow B\n",
    "\\end{array}$\n",
    "\n",
    "We chose to write these in a form that exhibits the symmetry, though it does not matter whether something is an assumption or a prerequisite truth.  In our *modus ponens* example above, we actually had \n",
    "\n",
    "$\\begin{array}{c}\n",
    "\\hline\n",
    "\\{A, A \\Rightarrow B\\} \\vdash B\n",
    "\\end{array}$\n",
    "\n",
    "with no prerequisites, only assumptions.\n",
    "\n",
    "If $B$ is true assuming $A$, it follows, via *hypothetical reasoning*, that $A \\Rightarrow B$.  We prove an implication by assuming the antecedent and deriving the consequent, reasoning through a hypothetical scenario.  This step may be taken by calling `asImplication` (or `asImpl` as an abbreviation) on a `KnownTruth` object."
   ]
  },
  {
   "cell_type": "markdown",
   "metadata": {},
   "source": [
    "We will demonstrate *hypothetical reasoning* by proving the transitivity property of implications, $A \\Rightarrow C$ given $A \\Rightarrow B$ and $B \\Rightarrow C$.   We have already created the `A_impl_B` object to represent $A \\Rightarrow B$ and have proven $\\{A,A \\Rightarrow B\\} \\boldsymbol{\\vdash} B$.  Let us now create a `B_impl_C` object to represent $B \\Rightarrow C$:"
   ]
  },
  {
   "cell_type": "code",
   "execution_count": 14,
   "metadata": {},
   "outputs": [
    {
     "data": {
      "text/html": [
       "<strong id=\"B_impl_C\">B_impl_C:</strong> <a class=\"ProveItLink\" href=\"__pv_it/318ec56dfe326b491d8f5311d25e366580d46fdd0/expr.ipynb\"><img src=\"__pv_it/318ec56dfe326b491d8f5311d25e366580d46fdd0/expr.png\" style=\"display:inline;vertical-align:middle;\" /></a><br>"
      ],
      "text/plain": [
       "B_impl_C: B => C"
      ]
     },
     "execution_count": 14,
     "metadata": {},
     "output_type": "execute_result"
    }
   ],
   "source": [
    "B_impl_C = Implies(B, C)"
   ]
  },
  {
   "cell_type": "markdown",
   "metadata": {},
   "source": [
    "Now we can prove $C$ given $A$, $A \\Rightarrow B$, and $B \\Rightarrow C$.  This uses the previously derived proof of $\\{A,A \\Rightarrow B\\} \\boldsymbol{\\vdash} B$ and extends it by deriving the consequent of $B \\Rightarrow C$ under appropriate assumptions. "
   ]
  },
  {
   "cell_type": "code",
   "execution_count": 15,
   "metadata": {},
   "outputs": [
    {
     "data": {
      "text/html": [
       "<strong id=\"CviaTransitivity\">CviaTransitivity:</strong> <span style=\"font-size:20px;\"><a class=\"ProveItLink\" href=\"__pv_it/652eca88f9f296bcc6067327a71f5fb01d19fa570/expr.ipynb\"><img src=\"__pv_it/652eca88f9f296bcc6067327a71f5fb01d19fa570/expr.png\" style=\"display:inline;vertical-align:middle;\" /></a> &#x22A2;&nbsp;<a class=\"ProveItLink\" href=\"../packages/proveit/__pv_it/985a1bdf1540838275dec15f4ad6de261cca93ce0/expr.ipynb\"><img src=\"../packages/proveit/__pv_it/985a1bdf1540838275dec15f4ad6de261cca93ce0/expr.png\" style=\"display:inline;vertical-align:middle;\" /></a></span><br>"
      ],
      "text/plain": [
       "CviaTransitivity: {A , A => B , B => C} |= C"
      ]
     },
     "execution_count": 15,
     "metadata": {},
     "output_type": "execute_result"
    }
   ],
   "source": [
    "CviaTransitivity = B_impl_C.deriveConsequent([A, A_impl_B, B_impl_C])"
   ]
  },
  {
   "cell_type": "markdown",
   "metadata": {},
   "source": [
    "We are now ready to apply *hypothetical reasoning* by calling `asImplication` on this `KnownTruth**:"
   ]
  },
  {
   "cell_type": "code",
   "execution_count": 16,
   "metadata": {},
   "outputs": [
    {
     "data": {
      "text/html": [
       "<strong id=\"A_impl_C\">A_impl_C:</strong> <span style=\"font-size:20px;\"><a class=\"ProveItLink\" href=\"__pv_it/7d41e7f97f628659e5c64b283017b6020177068d0/expr.ipynb\"><img src=\"__pv_it/7d41e7f97f628659e5c64b283017b6020177068d0/expr.png\" style=\"display:inline;vertical-align:middle;\" /></a> &#x22A2;&nbsp;<a class=\"ProveItLink\" href=\"__pv_it/331937d6d92fa85ce5f21643895017d27da16a970/expr.ipynb\"><img src=\"__pv_it/331937d6d92fa85ce5f21643895017d27da16a970/expr.png\" style=\"display:inline;vertical-align:middle;\" /></a></span><br>"
      ],
      "text/plain": [
       "A_impl_C: {A => B , B => C} |= A => C"
      ]
     },
     "execution_count": 16,
     "metadata": {},
     "output_type": "execute_result"
    }
   ],
   "source": [
    "A_impl_C = CviaTransitivity.asImplication(A)"
   ]
  },
  {
   "cell_type": "markdown",
   "metadata": {},
   "source": [
    "Below is the full **proof** of this **known truth**:"
   ]
  },
  {
   "cell_type": "code",
   "execution_count": 17,
   "metadata": {},
   "outputs": [
    {
     "data": {
      "text/html": [
       "<table><tr><th>&nbsp;</th><th>step type</th><th>requirements</th><th>statement</th></tr>\n",
       "<tr><td>0</td><td>hypothetical reasoning</td><td>1</td><td><span style=\"font-size:20px;\"><a class=\"ProveItLink\" href=\"__pv_it/7d41e7f97f628659e5c64b283017b6020177068d0/expr.ipynb\"><img src=\"__pv_it/7d41e7f97f628659e5c64b283017b6020177068d0/expr.png\" style=\"display:inline;vertical-align:middle;\" /></a> &#x22A2;&nbsp;<a class=\"ProveItLink\" href=\"__pv_it/331937d6d92fa85ce5f21643895017d27da16a970/expr.ipynb\"><img src=\"__pv_it/331937d6d92fa85ce5f21643895017d27da16a970/expr.png\" style=\"display:inline;vertical-align:middle;\" /></a></span></td></tr>\n",
       "<tr><td>1</td><td>modus ponens</td><td>2, 3</td><td><span style=\"font-size:20px;\"><a class=\"ProveItLink\" href=\"__pv_it/652eca88f9f296bcc6067327a71f5fb01d19fa570/expr.ipynb\"><img src=\"__pv_it/652eca88f9f296bcc6067327a71f5fb01d19fa570/expr.png\" style=\"display:inline;vertical-align:middle;\" /></a> &#x22A2;&nbsp;<a class=\"ProveItLink\" href=\"../packages/proveit/__pv_it/985a1bdf1540838275dec15f4ad6de261cca93ce0/expr.ipynb\"><img src=\"../packages/proveit/__pv_it/985a1bdf1540838275dec15f4ad6de261cca93ce0/expr.png\" style=\"display:inline;vertical-align:middle;\" /></a></span></td></tr>\n",
       "<tr><td>2</td><td>assumption</td><td></td><td><span style=\"font-size:20px;\"><a class=\"ProveItLink\" href=\"__pv_it/4ae5a2d50b488dffa8d8e9314f0e0649390514520/expr.ipynb\"><img src=\"__pv_it/4ae5a2d50b488dffa8d8e9314f0e0649390514520/expr.png\" style=\"display:inline;vertical-align:middle;\" /></a> &#x22A2;&nbsp;<a class=\"ProveItLink\" href=\"__pv_it/318ec56dfe326b491d8f5311d25e366580d46fdd0/expr.ipynb\"><img src=\"__pv_it/318ec56dfe326b491d8f5311d25e366580d46fdd0/expr.png\" style=\"display:inline;vertical-align:middle;\" /></a></span></td></tr>\n",
       "<tr><td>3</td><td>modus ponens</td><td>4, 5</td><td><span style=\"font-size:20px;\"><a class=\"ProveItLink\" href=\"__pv_it/60d37329e7d80ee80309a0873432cf950c8570af0/expr.ipynb\"><img src=\"__pv_it/60d37329e7d80ee80309a0873432cf950c8570af0/expr.png\" style=\"display:inline;vertical-align:middle;\" /></a> &#x22A2;&nbsp;<a class=\"ProveItLink\" href=\"../packages/proveit/__pv_it/077b2ff79244fb4582cbe22c6e3356fa92a52f2f0/expr.ipynb\"><img src=\"../packages/proveit/__pv_it/077b2ff79244fb4582cbe22c6e3356fa92a52f2f0/expr.png\" style=\"display:inline;vertical-align:middle;\" /></a></span></td></tr>\n",
       "<tr><td>4</td><td>assumption</td><td></td><td><span style=\"font-size:20px;\"><a class=\"ProveItLink\" href=\"__pv_it/9654b2deb52acc32c7e7f9ddb0ac7acafab7fd220/expr.ipynb\"><img src=\"__pv_it/9654b2deb52acc32c7e7f9ddb0ac7acafab7fd220/expr.png\" style=\"display:inline;vertical-align:middle;\" /></a> &#x22A2;&nbsp;<a class=\"ProveItLink\" href=\"__pv_it/74709aae353dd47ed1086aae7a6650599fd919cf0/expr.ipynb\"><img src=\"__pv_it/74709aae353dd47ed1086aae7a6650599fd919cf0/expr.png\" style=\"display:inline;vertical-align:middle;\" /></a></span></td></tr>\n",
       "<tr><td>5</td><td>assumption</td><td></td><td><span style=\"font-size:20px;\"><a class=\"ProveItLink\" href=\"__pv_it/158bdc91074824c720728a23dba5d58593c8cc480/expr.ipynb\"><img src=\"__pv_it/158bdc91074824c720728a23dba5d58593c8cc480/expr.png\" style=\"display:inline;vertical-align:middle;\" /></a> &#x22A2;&nbsp;<a class=\"ProveItLink\" href=\"../packages/proveit/__pv_it/2cbe72a7ad6f655694dd697106680215e8489b600/expr.ipynb\"><img src=\"../packages/proveit/__pv_it/2cbe72a7ad6f655694dd697106680215e8489b600/expr.png\" style=\"display:inline;vertical-align:middle;\" /></a></span></td></tr>\n",
       "</table>"
      ],
      "text/plain": [
       "\tstep type\trequirements\tstatement\n",
       "0\thypothetical reasoning\t1\t{A => B , B => C} |= A => C\n",
       "1\tmodus ponens\t2, 3\t{A , A => B , B => C} |= C\n",
       "2\tassumption\t\t{B => C} |= B => C\n",
       "3\tmodus ponens\t4, 5\t{A , A => B} |= B\n",
       "4\tassumption\t\t{A => B} |= A => B\n",
       "5\tassumption\t\t{A} |= A"
      ]
     },
     "execution_count": 17,
     "metadata": {},
     "output_type": "execute_result"
    }
   ],
   "source": [
    "A_impl_C.proof()"
   ]
  },
  {
   "cell_type": "markdown",
   "metadata": {},
   "source": [
    "Note that we can take any of the assumption to be the antecedent and then that assumption will be eliminated:"
   ]
  },
  {
   "cell_type": "code",
   "execution_count": 18,
   "metadata": {},
   "outputs": [
    {
     "data": {
      "text/html": [
       "<strong id=\"A_impl_B__impl__C\">A_impl_B__impl__C:</strong> <span style=\"font-size:20px;\"><a class=\"ProveItLink\" href=\"__pv_it/95e2568e368be7aa9ad6aee17d8c4c9d96299f790/expr.ipynb\"><img src=\"__pv_it/95e2568e368be7aa9ad6aee17d8c4c9d96299f790/expr.png\" style=\"display:inline;vertical-align:middle;\" /></a> &#x22A2;&nbsp;<a class=\"ProveItLink\" href=\"__pv_it/ce99fa4b8f97ba3f5f87d49ca13c66f4639c4dc60/expr.ipynb\"><img src=\"__pv_it/ce99fa4b8f97ba3f5f87d49ca13c66f4639c4dc60/expr.png\" style=\"display:inline;vertical-align:middle;\" /></a></span><br>"
      ],
      "text/plain": [
       "A_impl_B__impl__C: {A , B => C} |= (A => B) => C"
      ]
     },
     "execution_count": 18,
     "metadata": {},
     "output_type": "execute_result"
    }
   ],
   "source": [
    "A_impl_B__impl__C = CviaTransitivity.asImplication(A_impl_B)"
   ]
  },
  {
   "cell_type": "code",
   "execution_count": 19,
   "metadata": {},
   "outputs": [
    {
     "data": {
      "text/html": [
       "<table><tr><th>&nbsp;</th><th>step type</th><th>requirements</th><th>statement</th></tr>\n",
       "<tr><td>0</td><td>hypothetical reasoning</td><td>1</td><td><span style=\"font-size:20px;\"><a class=\"ProveItLink\" href=\"__pv_it/95e2568e368be7aa9ad6aee17d8c4c9d96299f790/expr.ipynb\"><img src=\"__pv_it/95e2568e368be7aa9ad6aee17d8c4c9d96299f790/expr.png\" style=\"display:inline;vertical-align:middle;\" /></a> &#x22A2;&nbsp;<a class=\"ProveItLink\" href=\"__pv_it/ce99fa4b8f97ba3f5f87d49ca13c66f4639c4dc60/expr.ipynb\"><img src=\"__pv_it/ce99fa4b8f97ba3f5f87d49ca13c66f4639c4dc60/expr.png\" style=\"display:inline;vertical-align:middle;\" /></a></span></td></tr>\n",
       "<tr><td>1</td><td>modus ponens</td><td>2, 3</td><td><span style=\"font-size:20px;\"><a class=\"ProveItLink\" href=\"__pv_it/652eca88f9f296bcc6067327a71f5fb01d19fa570/expr.ipynb\"><img src=\"__pv_it/652eca88f9f296bcc6067327a71f5fb01d19fa570/expr.png\" style=\"display:inline;vertical-align:middle;\" /></a> &#x22A2;&nbsp;<a class=\"ProveItLink\" href=\"../packages/proveit/__pv_it/985a1bdf1540838275dec15f4ad6de261cca93ce0/expr.ipynb\"><img src=\"../packages/proveit/__pv_it/985a1bdf1540838275dec15f4ad6de261cca93ce0/expr.png\" style=\"display:inline;vertical-align:middle;\" /></a></span></td></tr>\n",
       "<tr><td>2</td><td>assumption</td><td></td><td><span style=\"font-size:20px;\"><a class=\"ProveItLink\" href=\"__pv_it/4ae5a2d50b488dffa8d8e9314f0e0649390514520/expr.ipynb\"><img src=\"__pv_it/4ae5a2d50b488dffa8d8e9314f0e0649390514520/expr.png\" style=\"display:inline;vertical-align:middle;\" /></a> &#x22A2;&nbsp;<a class=\"ProveItLink\" href=\"__pv_it/318ec56dfe326b491d8f5311d25e366580d46fdd0/expr.ipynb\"><img src=\"__pv_it/318ec56dfe326b491d8f5311d25e366580d46fdd0/expr.png\" style=\"display:inline;vertical-align:middle;\" /></a></span></td></tr>\n",
       "<tr><td>3</td><td>modus ponens</td><td>4, 5</td><td><span style=\"font-size:20px;\"><a class=\"ProveItLink\" href=\"__pv_it/60d37329e7d80ee80309a0873432cf950c8570af0/expr.ipynb\"><img src=\"__pv_it/60d37329e7d80ee80309a0873432cf950c8570af0/expr.png\" style=\"display:inline;vertical-align:middle;\" /></a> &#x22A2;&nbsp;<a class=\"ProveItLink\" href=\"../packages/proveit/__pv_it/077b2ff79244fb4582cbe22c6e3356fa92a52f2f0/expr.ipynb\"><img src=\"../packages/proveit/__pv_it/077b2ff79244fb4582cbe22c6e3356fa92a52f2f0/expr.png\" style=\"display:inline;vertical-align:middle;\" /></a></span></td></tr>\n",
       "<tr><td>4</td><td>assumption</td><td></td><td><span style=\"font-size:20px;\"><a class=\"ProveItLink\" href=\"__pv_it/9654b2deb52acc32c7e7f9ddb0ac7acafab7fd220/expr.ipynb\"><img src=\"__pv_it/9654b2deb52acc32c7e7f9ddb0ac7acafab7fd220/expr.png\" style=\"display:inline;vertical-align:middle;\" /></a> &#x22A2;&nbsp;<a class=\"ProveItLink\" href=\"__pv_it/74709aae353dd47ed1086aae7a6650599fd919cf0/expr.ipynb\"><img src=\"__pv_it/74709aae353dd47ed1086aae7a6650599fd919cf0/expr.png\" style=\"display:inline;vertical-align:middle;\" /></a></span></td></tr>\n",
       "<tr><td>5</td><td>assumption</td><td></td><td><span style=\"font-size:20px;\"><a class=\"ProveItLink\" href=\"__pv_it/158bdc91074824c720728a23dba5d58593c8cc480/expr.ipynb\"><img src=\"__pv_it/158bdc91074824c720728a23dba5d58593c8cc480/expr.png\" style=\"display:inline;vertical-align:middle;\" /></a> &#x22A2;&nbsp;<a class=\"ProveItLink\" href=\"../packages/proveit/__pv_it/2cbe72a7ad6f655694dd697106680215e8489b600/expr.ipynb\"><img src=\"../packages/proveit/__pv_it/2cbe72a7ad6f655694dd697106680215e8489b600/expr.png\" style=\"display:inline;vertical-align:middle;\" /></a></span></td></tr>\n",
       "</table>"
      ],
      "text/plain": [
       "\tstep type\trequirements\tstatement\n",
       "0\thypothetical reasoning\t1\t{A , B => C} |= (A => B) => C\n",
       "1\tmodus ponens\t2, 3\t{A , A => B , B => C} |= C\n",
       "2\tassumption\t\t{B => C} |= B => C\n",
       "3\tmodus ponens\t4, 5\t{A , A => B} |= B\n",
       "4\tassumption\t\t{A => B} |= A => B\n",
       "5\tassumption\t\t{A} |= A"
      ]
     },
     "execution_count": 19,
     "metadata": {},
     "output_type": "execute_result"
    }
   ],
   "source": [
    "A_impl_B__impl__C.proof()"
   ]
  },
  {
   "cell_type": "markdown",
   "metadata": {},
   "source": [
    "In the previous two demonstrations, where the new antecedent was drawn from the set of assumptions, we can think of *hypothetical reasoning* as a procedure in which we transform an \"implicit\" assumption to an \"explicit\" antecedent.  Similarly, *modus ponens* may be used to transform an \"explicit\" antecedent to an \"implicit\" assumption.  What is the difference between these two different forms of assumption/antecedent?  Why do we need both forms?  The explicit form is necessary because the implicit form cannot be nested.  For example, one could not precisely express $(A \\Rightarrow C) \\land (B \\Rightarrow C) \\Rightarrow [(A \\lor B) \\Rightarrow C]$ with assumptions alone.  The implicit form is also very important.  The implicit form (with assumptions) is extremely convenient, and necessary in the **Prove-It** framework, for accessing the consequent part of an implication directly and applying logical deductions that arise from that consequent (e.g., consider the role of $B$ as a consequent of $A \\Rightarrow B$ in the above examples)."
   ]
  },
  {
   "cell_type": "markdown",
   "metadata": {},
   "source": [
    "The new antecedent does not need to be one of the pre-existing assumptions, however.  After all, a **KnownTruth** is just as valid when extra assumptions are added (the requirements are simply over-complete).  For example,"
   ]
  },
  {
   "cell_type": "code",
   "execution_count": 20,
   "metadata": {},
   "outputs": [
    {
     "data": {
      "text/html": [
       "<strong id=\"X_impl_C\">X_impl_C:</strong> <span style=\"font-size:20px;\"><a class=\"ProveItLink\" href=\"__pv_it/652eca88f9f296bcc6067327a71f5fb01d19fa570/expr.ipynb\"><img src=\"__pv_it/652eca88f9f296bcc6067327a71f5fb01d19fa570/expr.png\" style=\"display:inline;vertical-align:middle;\" /></a> &#x22A2;&nbsp;<a class=\"ProveItLink\" href=\"__pv_it/a6f1bf5c2ec915cd8bbb2edaffebc11a41a7864c0/expr.ipynb\"><img src=\"__pv_it/a6f1bf5c2ec915cd8bbb2edaffebc11a41a7864c0/expr.png\" style=\"display:inline;vertical-align:middle;\" /></a></span><br>"
      ],
      "text/plain": [
       "X_impl_C: {A , A => B , B => C} |= X => C"
      ]
     },
     "execution_count": 20,
     "metadata": {},
     "output_type": "execute_result"
    }
   ],
   "source": [
    "X_impl_C = CviaTransitivity.asImplication(X)"
   ]
  },
  {
   "cell_type": "code",
   "execution_count": 21,
   "metadata": {},
   "outputs": [
    {
     "data": {
      "text/html": [
       "<table><tr><th>&nbsp;</th><th>step type</th><th>requirements</th><th>statement</th></tr>\n",
       "<tr><td>0</td><td>hypothetical reasoning</td><td>1</td><td><span style=\"font-size:20px;\"><a class=\"ProveItLink\" href=\"__pv_it/652eca88f9f296bcc6067327a71f5fb01d19fa570/expr.ipynb\"><img src=\"__pv_it/652eca88f9f296bcc6067327a71f5fb01d19fa570/expr.png\" style=\"display:inline;vertical-align:middle;\" /></a> &#x22A2;&nbsp;<a class=\"ProveItLink\" href=\"__pv_it/a6f1bf5c2ec915cd8bbb2edaffebc11a41a7864c0/expr.ipynb\"><img src=\"__pv_it/a6f1bf5c2ec915cd8bbb2edaffebc11a41a7864c0/expr.png\" style=\"display:inline;vertical-align:middle;\" /></a></span></td></tr>\n",
       "<tr><td>1</td><td>modus ponens</td><td>2, 3</td><td><span style=\"font-size:20px;\"><a class=\"ProveItLink\" href=\"__pv_it/652eca88f9f296bcc6067327a71f5fb01d19fa570/expr.ipynb\"><img src=\"__pv_it/652eca88f9f296bcc6067327a71f5fb01d19fa570/expr.png\" style=\"display:inline;vertical-align:middle;\" /></a> &#x22A2;&nbsp;<a class=\"ProveItLink\" href=\"../packages/proveit/__pv_it/985a1bdf1540838275dec15f4ad6de261cca93ce0/expr.ipynb\"><img src=\"../packages/proveit/__pv_it/985a1bdf1540838275dec15f4ad6de261cca93ce0/expr.png\" style=\"display:inline;vertical-align:middle;\" /></a></span></td></tr>\n",
       "<tr><td>2</td><td>assumption</td><td></td><td><span style=\"font-size:20px;\"><a class=\"ProveItLink\" href=\"__pv_it/4ae5a2d50b488dffa8d8e9314f0e0649390514520/expr.ipynb\"><img src=\"__pv_it/4ae5a2d50b488dffa8d8e9314f0e0649390514520/expr.png\" style=\"display:inline;vertical-align:middle;\" /></a> &#x22A2;&nbsp;<a class=\"ProveItLink\" href=\"__pv_it/318ec56dfe326b491d8f5311d25e366580d46fdd0/expr.ipynb\"><img src=\"__pv_it/318ec56dfe326b491d8f5311d25e366580d46fdd0/expr.png\" style=\"display:inline;vertical-align:middle;\" /></a></span></td></tr>\n",
       "<tr><td>3</td><td>modus ponens</td><td>4, 5</td><td><span style=\"font-size:20px;\"><a class=\"ProveItLink\" href=\"__pv_it/60d37329e7d80ee80309a0873432cf950c8570af0/expr.ipynb\"><img src=\"__pv_it/60d37329e7d80ee80309a0873432cf950c8570af0/expr.png\" style=\"display:inline;vertical-align:middle;\" /></a> &#x22A2;&nbsp;<a class=\"ProveItLink\" href=\"../packages/proveit/__pv_it/077b2ff79244fb4582cbe22c6e3356fa92a52f2f0/expr.ipynb\"><img src=\"../packages/proveit/__pv_it/077b2ff79244fb4582cbe22c6e3356fa92a52f2f0/expr.png\" style=\"display:inline;vertical-align:middle;\" /></a></span></td></tr>\n",
       "<tr><td>4</td><td>assumption</td><td></td><td><span style=\"font-size:20px;\"><a class=\"ProveItLink\" href=\"__pv_it/9654b2deb52acc32c7e7f9ddb0ac7acafab7fd220/expr.ipynb\"><img src=\"__pv_it/9654b2deb52acc32c7e7f9ddb0ac7acafab7fd220/expr.png\" style=\"display:inline;vertical-align:middle;\" /></a> &#x22A2;&nbsp;<a class=\"ProveItLink\" href=\"__pv_it/74709aae353dd47ed1086aae7a6650599fd919cf0/expr.ipynb\"><img src=\"__pv_it/74709aae353dd47ed1086aae7a6650599fd919cf0/expr.png\" style=\"display:inline;vertical-align:middle;\" /></a></span></td></tr>\n",
       "<tr><td>5</td><td>assumption</td><td></td><td><span style=\"font-size:20px;\"><a class=\"ProveItLink\" href=\"__pv_it/158bdc91074824c720728a23dba5d58593c8cc480/expr.ipynb\"><img src=\"__pv_it/158bdc91074824c720728a23dba5d58593c8cc480/expr.png\" style=\"display:inline;vertical-align:middle;\" /></a> &#x22A2;&nbsp;<a class=\"ProveItLink\" href=\"../packages/proveit/__pv_it/2cbe72a7ad6f655694dd697106680215e8489b600/expr.ipynb\"><img src=\"../packages/proveit/__pv_it/2cbe72a7ad6f655694dd697106680215e8489b600/expr.png\" style=\"display:inline;vertical-align:middle;\" /></a></span></td></tr>\n",
       "</table>"
      ],
      "text/plain": [
       "\tstep type\trequirements\tstatement\n",
       "0\thypothetical reasoning\t1\t{A , A => B , B => C} |= X => C\n",
       "1\tmodus ponens\t2, 3\t{A , A => B , B => C} |= C\n",
       "2\tassumption\t\t{B => C} |= B => C\n",
       "3\tmodus ponens\t4, 5\t{A , A => B} |= B\n",
       "4\tassumption\t\t{A => B} |= A => B\n",
       "5\tassumption\t\t{A} |= A"
      ]
     },
     "execution_count": 21,
     "metadata": {},
     "output_type": "execute_result"
    }
   ],
   "source": [
    "X_impl_C.proof()"
   ]
  },
  {
   "cell_type": "markdown",
   "metadata": {},
   "source": [
    "## Automation regarding `Implies` objects\n",
    "\n",
    "We will talk more generally about automation in the <a href=\"tutorial08_automation.ipynb\">automation</a> chapter, but in this section we will get a preview of that as we look at automation specific to **implications**.\n",
    "\n",
    "It is not always necessary to call the `deriveConsequent` method directly.  In fact, the `deriveConsequent` method is called automatically as a \"side-effect\" whenever a **known truth** for an `Implies` **expression** is created.  In the example below, a **known truth** for $P \\Rightarrow Q$ is created via proof-by-assumption which then triggers $Q$ to be derived as a consequent, adding the extra assumption for the antecedent $P$.  Then, a proof for $Q$, under the assumptions of $P \\Rightarrow Q$ and $P$, is automatically generated and available upon request:"
   ]
  },
  {
   "cell_type": "code",
   "execution_count": 22,
   "metadata": {},
   "outputs": [
    {
     "data": {
      "text/html": [
       "<strong id=\"QByAssumption\">QByAssumption:</strong> <span style=\"font-size:20px;\"><a class=\"ProveItLink\" href=\"__pv_it/4414f3dd1e27046cb1369d02904858fcd357f5890/expr.ipynb\"><img src=\"__pv_it/4414f3dd1e27046cb1369d02904858fcd357f5890/expr.png\" style=\"display:inline;vertical-align:middle;\" /></a> &#x22A2;&nbsp;<a class=\"ProveItLink\" href=\"../packages/proveit/__pv_it/98124f92e6e1fc3772af50ac63eaa1f5624776f20/expr.ipynb\"><img src=\"../packages/proveit/__pv_it/98124f92e6e1fc3772af50ac63eaa1f5624776f20/expr.png\" style=\"display:inline;vertical-align:middle;\" /></a></span><br>"
      ],
      "text/plain": [
       "QByAssumption: {P , P => Q} |= Q"
      ]
     },
     "execution_count": 22,
     "metadata": {},
     "output_type": "execute_result"
    }
   ],
   "source": [
    "from proveit._common_ import P, Q, R, S\n",
    "QByAssumption = Q.prove([P, Implies(P, Q)])"
   ]
  },
  {
   "cell_type": "code",
   "execution_count": 23,
   "metadata": {},
   "outputs": [
    {
     "data": {
      "text/html": [
       "<table><tr><th>&nbsp;</th><th>step type</th><th>requirements</th><th>statement</th></tr>\n",
       "<tr><td>0</td><td>modus ponens</td><td>1, 2</td><td><span style=\"font-size:20px;\"><a class=\"ProveItLink\" href=\"__pv_it/4414f3dd1e27046cb1369d02904858fcd357f5890/expr.ipynb\"><img src=\"__pv_it/4414f3dd1e27046cb1369d02904858fcd357f5890/expr.png\" style=\"display:inline;vertical-align:middle;\" /></a> &#x22A2;&nbsp;<a class=\"ProveItLink\" href=\"../packages/proveit/__pv_it/98124f92e6e1fc3772af50ac63eaa1f5624776f20/expr.ipynb\"><img src=\"../packages/proveit/__pv_it/98124f92e6e1fc3772af50ac63eaa1f5624776f20/expr.png\" style=\"display:inline;vertical-align:middle;\" /></a></span></td></tr>\n",
       "<tr><td>1</td><td>assumption</td><td></td><td><span style=\"font-size:20px;\"><a class=\"ProveItLink\" href=\"__pv_it/63031704f927ce631fed086823e41428213bbb1d0/expr.ipynb\"><img src=\"__pv_it/63031704f927ce631fed086823e41428213bbb1d0/expr.png\" style=\"display:inline;vertical-align:middle;\" /></a> &#x22A2;&nbsp;<a class=\"ProveItLink\" href=\"__pv_it/6391a272b0e3dd71e7bab66e79cde233b22580c30/expr.ipynb\"><img src=\"__pv_it/6391a272b0e3dd71e7bab66e79cde233b22580c30/expr.png\" style=\"display:inline;vertical-align:middle;\" /></a></span></td></tr>\n",
       "<tr><td>2</td><td>assumption</td><td></td><td><span style=\"font-size:20px;\"><a class=\"ProveItLink\" href=\"__pv_it/4a455e396ba375ed966209be89aba61d84cf85ba0/expr.ipynb\"><img src=\"__pv_it/4a455e396ba375ed966209be89aba61d84cf85ba0/expr.png\" style=\"display:inline;vertical-align:middle;\" /></a> &#x22A2;&nbsp;<a class=\"ProveItLink\" href=\"../packages/proveit/__pv_it/6369c6c8083c513ca7161ace249642d040f9327d0/expr.ipynb\"><img src=\"../packages/proveit/__pv_it/6369c6c8083c513ca7161ace249642d040f9327d0/expr.png\" style=\"display:inline;vertical-align:middle;\" /></a></span></td></tr>\n",
       "</table>"
      ],
      "text/plain": [
       "\tstep type\trequirements\tstatement\n",
       "0\tmodus ponens\t1, 2\t{P , P => Q} |= Q\n",
       "1\tassumption\t\t{P => Q} |= P => Q\n",
       "2\tassumption\t\t{P} |= P"
      ]
     },
     "execution_count": 23,
     "metadata": {},
     "output_type": "execute_result"
    }
   ],
   "source": [
    "QByAssumption.proof()"
   ]
  },
  {
   "cell_type": "markdown",
   "metadata": {},
   "source": [
    "This can be particularly useful when the proof request is made via some other automation (rather than the manual `prove` request that was demonstrated in the cell above).  This automation is enabled via a `sideEffects` method in the `Implies` class which yields `deriveConsequent` as a method that should be called when an `Implies` object is created."
   ]
  },
  {
   "cell_type": "code",
   "execution_count": 24,
   "metadata": {},
   "outputs": [
    {
     "name": "stdout",
     "output_type": "stream",
     "text": [
      "Help on function sideEffects in module proveit.logic.boolean.implication.implies:\n",
      "\n",
      "sideEffects(self, knownTruth)\n",
      "    Yield the TransitiveRelation side-effects (which also records knownLeftSides\n",
      "    and knownRightSides).  Also derive the consequent as a side-effect.\n",
      "    As a special case, if the consequent is FALSE, do deriveViaContradiction.\n",
      "\n"
     ]
    }
   ],
   "source": [
    "help(Implies.sideEffects)"
   ]
  },
  {
   "cell_type": "markdown",
   "metadata": {},
   "source": [
    "Note that there are several things that may be attempted as automation here, not just `deriveConsequent`.  In general, the `sideEffects` method of an **Expression** is called, if it exists, whenever a **KnownTruth** for that **Expression** is created.  The **KnownTruth** object is passed to this method and the method should yield methods that should be called for deriving desired side-effects.  This enables automation for a variety of **Expression** types, not just `Implies` objects.  Another way that automation may be performed is by implementing a `conclude` method which may attempt to automatically prove a particular type of expression under a given set of assumptions:"
   ]
  },
  {
   "cell_type": "code",
   "execution_count": 25,
   "metadata": {},
   "outputs": [
    {
     "name": "stdout",
     "output_type": "stream",
     "text": [
      "Help on function conclude in module proveit.logic.boolean.implication.implies:\n",
      "\n",
      "conclude(self, assumptions)\n",
      "    Try to automatically conclude this implication by reducing its operands\n",
      "    to true/false, or by doing a \"transitivity\" search amongst known true implications\n",
      "    whose assumptions are covered by the given assumptions.\n",
      "\n"
     ]
    }
   ],
   "source": [
    "help(Implies.conclude)"
   ]
  },
  {
   "cell_type": "markdown",
   "metadata": {},
   "source": [
    "The following example of automation relies on the `sideEffects` method to populate a dictionary of **KnownTruth** implications and also on `conclude` to perform a search over these implications to find a path to a conclusion from a hypothesis using intermediate implications via transitivity relations (from $A \\Rightarrow B$ and $B \\Rightarrow C$, we can obtain $A \\Rightarrow C$, as we proved in the previous section). "
   ]
  },
  {
   "cell_type": "code",
   "execution_count": 26,
   "metadata": {},
   "outputs": [
    {
     "data": {
      "text/html": [
       "<strong id=\"P_impl_S\">P_impl_S:</strong> <span style=\"font-size:20px;\"><a class=\"ProveItLink\" href=\"__pv_it/22918a9d2ff3f788e0a2367306e352687edfdeb60/expr.ipynb\"><img src=\"__pv_it/22918a9d2ff3f788e0a2367306e352687edfdeb60/expr.png\" style=\"display:inline;vertical-align:middle;\" /></a> &#x22A2;&nbsp;<a class=\"ProveItLink\" href=\"__pv_it/54813396390b8dda31c5526b3a23fcb30c05ab830/expr.ipynb\"><img src=\"__pv_it/54813396390b8dda31c5526b3a23fcb30c05ab830/expr.png\" style=\"display:inline;vertical-align:middle;\" /></a></span><br>"
      ],
      "text/plain": [
       "P_impl_S: {P => Q , Q => R , R => S} |= P => S"
      ]
     },
     "execution_count": 26,
     "metadata": {},
     "output_type": "execute_result"
    }
   ],
   "source": [
    "P_impl_S = Implies(P, S).prove([Implies(P, Q), Implies(Q, R), Implies(R, S)])"
   ]
  },
  {
   "cell_type": "markdown",
   "metadata": {},
   "source": [
    "Below, we display the proof for the above **known truth** that was proven via automation. Notice that the proof relies upon invoking a theorem and applying *specialization* which will be discussed in detail in later tutorial chapters.  Consider this to be a sneak peak."
   ]
  },
  {
   "cell_type": "code",
   "execution_count": 27,
   "metadata": {},
   "outputs": [
    {
     "data": {
      "text/html": [
       "<table><tr><th>&nbsp;</th><th>step type</th><th>requirements</th><th>statement</th></tr>\n",
       "<tr><td>0</td><td>specialization</td><td>3, 1, 2</td><td><span style=\"font-size:20px;\"><a class=\"ProveItLink\" href=\"__pv_it/22918a9d2ff3f788e0a2367306e352687edfdeb60/expr.ipynb\"><img src=\"__pv_it/22918a9d2ff3f788e0a2367306e352687edfdeb60/expr.png\" style=\"display:inline;vertical-align:middle;\" /></a> &#x22A2;&nbsp;<a class=\"ProveItLink\" href=\"__pv_it/54813396390b8dda31c5526b3a23fcb30c05ab830/expr.ipynb\"><img src=\"__pv_it/54813396390b8dda31c5526b3a23fcb30c05ab830/expr.png\" style=\"display:inline;vertical-align:middle;\" /></a></span></td></tr>\n",
       "<tr><td>&nbsp;</td><td colspan=4 style=\"text-align:left\"><span style=\"font-size:20px;\"><a class=\"ProveItLink\" href=\"../packages/proveit/__pv_it/2cbe72a7ad6f655694dd697106680215e8489b600/expr.ipynb\"><img src=\"../packages/proveit/__pv_it/2cbe72a7ad6f655694dd697106680215e8489b600/expr.png\" style=\"display:inline;vertical-align:middle;\" /></a> : <a class=\"ProveItLink\" href=\"../packages/proveit/__pv_it/6369c6c8083c513ca7161ace249642d040f9327d0/expr.ipynb\"><img src=\"../packages/proveit/__pv_it/6369c6c8083c513ca7161ace249642d040f9327d0/expr.png\" style=\"display:inline;vertical-align:middle;\" /></a>, <a class=\"ProveItLink\" href=\"../packages/proveit/__pv_it/077b2ff79244fb4582cbe22c6e3356fa92a52f2f0/expr.ipynb\"><img src=\"../packages/proveit/__pv_it/077b2ff79244fb4582cbe22c6e3356fa92a52f2f0/expr.png\" style=\"display:inline;vertical-align:middle;\" /></a> : <a class=\"ProveItLink\" href=\"../packages/proveit/__pv_it/e24df48bc297bbcf3538a62f5b4f635a392abfce0/expr.ipynb\"><img src=\"../packages/proveit/__pv_it/e24df48bc297bbcf3538a62f5b4f635a392abfce0/expr.png\" style=\"display:inline;vertical-align:middle;\" /></a>, <a class=\"ProveItLink\" href=\"../packages/proveit/__pv_it/985a1bdf1540838275dec15f4ad6de261cca93ce0/expr.ipynb\"><img src=\"../packages/proveit/__pv_it/985a1bdf1540838275dec15f4ad6de261cca93ce0/expr.png\" style=\"display:inline;vertical-align:middle;\" /></a> : <a class=\"ProveItLink\" href=\"../packages/proveit/__pv_it/abeee18594afe51bfb1be95d9591fbba24ac53f30/expr.ipynb\"><img src=\"../packages/proveit/__pv_it/abeee18594afe51bfb1be95d9591fbba24ac53f30/expr.png\" style=\"display:inline;vertical-align:middle;\" /></a></span></td></tr><tr><td>1</td><td>specialization</td><td>3, 4, 5</td><td><span style=\"font-size:20px;\"><a class=\"ProveItLink\" href=\"__pv_it/b5c97e0d5ec8020b62d0e8756c894ff667aeb3650/expr.ipynb\"><img src=\"__pv_it/b5c97e0d5ec8020b62d0e8756c894ff667aeb3650/expr.png\" style=\"display:inline;vertical-align:middle;\" /></a> &#x22A2;&nbsp;<a class=\"ProveItLink\" href=\"__pv_it/ba868b623e40178b3cab0e88847bb3c8abc799210/expr.ipynb\"><img src=\"__pv_it/ba868b623e40178b3cab0e88847bb3c8abc799210/expr.png\" style=\"display:inline;vertical-align:middle;\" /></a></span></td></tr>\n",
       "<tr><td>&nbsp;</td><td colspan=4 style=\"text-align:left\"><span style=\"font-size:20px;\"><a class=\"ProveItLink\" href=\"../packages/proveit/__pv_it/2cbe72a7ad6f655694dd697106680215e8489b600/expr.ipynb\"><img src=\"../packages/proveit/__pv_it/2cbe72a7ad6f655694dd697106680215e8489b600/expr.png\" style=\"display:inline;vertical-align:middle;\" /></a> : <a class=\"ProveItLink\" href=\"../packages/proveit/__pv_it/6369c6c8083c513ca7161ace249642d040f9327d0/expr.ipynb\"><img src=\"../packages/proveit/__pv_it/6369c6c8083c513ca7161ace249642d040f9327d0/expr.png\" style=\"display:inline;vertical-align:middle;\" /></a>, <a class=\"ProveItLink\" href=\"../packages/proveit/__pv_it/077b2ff79244fb4582cbe22c6e3356fa92a52f2f0/expr.ipynb\"><img src=\"../packages/proveit/__pv_it/077b2ff79244fb4582cbe22c6e3356fa92a52f2f0/expr.png\" style=\"display:inline;vertical-align:middle;\" /></a> : <a class=\"ProveItLink\" href=\"../packages/proveit/__pv_it/98124f92e6e1fc3772af50ac63eaa1f5624776f20/expr.ipynb\"><img src=\"../packages/proveit/__pv_it/98124f92e6e1fc3772af50ac63eaa1f5624776f20/expr.png\" style=\"display:inline;vertical-align:middle;\" /></a>, <a class=\"ProveItLink\" href=\"../packages/proveit/__pv_it/985a1bdf1540838275dec15f4ad6de261cca93ce0/expr.ipynb\"><img src=\"../packages/proveit/__pv_it/985a1bdf1540838275dec15f4ad6de261cca93ce0/expr.png\" style=\"display:inline;vertical-align:middle;\" /></a> : <a class=\"ProveItLink\" href=\"../packages/proveit/__pv_it/e24df48bc297bbcf3538a62f5b4f635a392abfce0/expr.ipynb\"><img src=\"../packages/proveit/__pv_it/e24df48bc297bbcf3538a62f5b4f635a392abfce0/expr.png\" style=\"display:inline;vertical-align:middle;\" /></a></span></td></tr><tr><td>2</td><td>assumption</td><td></td><td><span style=\"font-size:20px;\"><a class=\"ProveItLink\" href=\"__pv_it/865e8fb8be51631b85dbf421af6769ef70cca9150/expr.ipynb\"><img src=\"__pv_it/865e8fb8be51631b85dbf421af6769ef70cca9150/expr.png\" style=\"display:inline;vertical-align:middle;\" /></a> &#x22A2;&nbsp;<a class=\"ProveItLink\" href=\"__pv_it/1d25e0fab674756b8022481c598aed1c258ea8e50/expr.ipynb\"><img src=\"__pv_it/1d25e0fab674756b8022481c598aed1c258ea8e50/expr.png\" style=\"display:inline;vertical-align:middle;\" /></a></span></td></tr>\n",
       "<tr><td>3</td><td>theorem</td><td></td><td><span style=\"font-size:20px;\"> &#x22A2;&nbsp;<a class=\"ProveItLink\" href=\"../packages/proveit/logic/boolean/implication/__pv_it/58354b12dbd32d4ac7add309e5c18982ccfedc6a0/expr.ipynb\"><img src=\"../packages/proveit/logic/boolean/implication/__pv_it/58354b12dbd32d4ac7add309e5c18982ccfedc6a0/expr.png\" style=\"display:inline;vertical-align:middle;\" /></a></span></td></tr>\n",
       "<tr><td>&nbsp;</td><td colspan=4 style-\"text-align:left\"><a class=\"ProveItLink\" href=\"../packages/proveit/logic/boolean/implication/_proofs_/implicationTransitivity.ipynb\">proveit.logic.boolean.implication.implicationTransitivity</a></td></tr><tr><td>4</td><td>assumption</td><td></td><td><span style=\"font-size:20px;\"><a class=\"ProveItLink\" href=\"__pv_it/63031704f927ce631fed086823e41428213bbb1d0/expr.ipynb\"><img src=\"__pv_it/63031704f927ce631fed086823e41428213bbb1d0/expr.png\" style=\"display:inline;vertical-align:middle;\" /></a> &#x22A2;&nbsp;<a class=\"ProveItLink\" href=\"__pv_it/6391a272b0e3dd71e7bab66e79cde233b22580c30/expr.ipynb\"><img src=\"__pv_it/6391a272b0e3dd71e7bab66e79cde233b22580c30/expr.png\" style=\"display:inline;vertical-align:middle;\" /></a></span></td></tr>\n",
       "<tr><td>5</td><td>assumption</td><td></td><td><span style=\"font-size:20px;\"><a class=\"ProveItLink\" href=\"__pv_it/efccbf2572eba033757a05691eff79a7ff47c81a0/expr.ipynb\"><img src=\"__pv_it/efccbf2572eba033757a05691eff79a7ff47c81a0/expr.png\" style=\"display:inline;vertical-align:middle;\" /></a> &#x22A2;&nbsp;<a class=\"ProveItLink\" href=\"__pv_it/9f5a88a40609f2ce3beb8b43a7e4f27d5315d8230/expr.ipynb\"><img src=\"__pv_it/9f5a88a40609f2ce3beb8b43a7e4f27d5315d8230/expr.png\" style=\"display:inline;vertical-align:middle;\" /></a></span></td></tr>\n",
       "</table>"
      ],
      "text/plain": [
       "\tstep type\trequirements\tstatement\n",
       "0\tspecialization\t3, 1, 2\t{P => Q , Q => R , R => S} |= P => S\n",
       "\tA : P, B : R, C : S\n",
       "1\tspecialization\t3, 4, 5\t{P => Q , Q => R} |= P => R\n",
       "\tA : P, B : Q, C : R\n",
       "2\tassumption\t\t{R => S} |= R => S\n",
       "3\ttheorem\t\t|= forall_{A, B, C | A => B , B => C} (A => C)\n",
       "\tproveit.logic.boolean.implication.implicationTransitivity\n",
       "4\tassumption\t\t{P => Q} |= P => Q\n",
       "5\tassumption\t\t{Q => R} |= Q => R"
      ]
     },
     "execution_count": 27,
     "metadata": {},
     "output_type": "execute_result"
    }
   ],
   "source": [
    "P_impl_S.proof()"
   ]
  },
  {
   "cell_type": "markdown",
   "metadata": {},
   "source": [
    "We can disable this particular proof and obtain an alternate proof via automation as well."
   ]
  },
  {
   "cell_type": "code",
   "execution_count": 28,
   "metadata": {},
   "outputs": [],
   "source": [
    "P_impl_S.proof().disable()"
   ]
  },
  {
   "cell_type": "markdown",
   "metadata": {},
   "source": [
    "Note, below, that we do not need to supply the assumptions because `P_impl_S` is a `KnownTruth` object that automatically includes its own assumptions."
   ]
  },
  {
   "cell_type": "code",
   "execution_count": 29,
   "metadata": {},
   "outputs": [
    {
     "data": {
      "text/html": [
       "<table><tr><th>&nbsp;</th><th>step type</th><th>requirements</th><th>statement</th></tr>\n",
       "<tr><td>0</td><td>hypothetical reasoning</td><td>1</td><td><span style=\"font-size:20px;\"><a class=\"ProveItLink\" href=\"__pv_it/22918a9d2ff3f788e0a2367306e352687edfdeb60/expr.ipynb\"><img src=\"__pv_it/22918a9d2ff3f788e0a2367306e352687edfdeb60/expr.png\" style=\"display:inline;vertical-align:middle;\" /></a> &#x22A2;&nbsp;<a class=\"ProveItLink\" href=\"__pv_it/54813396390b8dda31c5526b3a23fcb30c05ab830/expr.ipynb\"><img src=\"__pv_it/54813396390b8dda31c5526b3a23fcb30c05ab830/expr.png\" style=\"display:inline;vertical-align:middle;\" /></a></span></td></tr>\n",
       "<tr><td>1</td><td>modus ponens</td><td>2, 3</td><td><span style=\"font-size:20px;\"><a class=\"ProveItLink\" href=\"__pv_it/1c75aed0deac9f6c687ff1a57bf16a86b4b163370/expr.ipynb\"><img src=\"__pv_it/1c75aed0deac9f6c687ff1a57bf16a86b4b163370/expr.png\" style=\"display:inline;vertical-align:middle;\" /></a> &#x22A2;&nbsp;<a class=\"ProveItLink\" href=\"../packages/proveit/__pv_it/abeee18594afe51bfb1be95d9591fbba24ac53f30/expr.ipynb\"><img src=\"../packages/proveit/__pv_it/abeee18594afe51bfb1be95d9591fbba24ac53f30/expr.png\" style=\"display:inline;vertical-align:middle;\" /></a></span></td></tr>\n",
       "<tr><td>2</td><td>assumption</td><td></td><td><span style=\"font-size:20px;\"><a class=\"ProveItLink\" href=\"__pv_it/865e8fb8be51631b85dbf421af6769ef70cca9150/expr.ipynb\"><img src=\"__pv_it/865e8fb8be51631b85dbf421af6769ef70cca9150/expr.png\" style=\"display:inline;vertical-align:middle;\" /></a> &#x22A2;&nbsp;<a class=\"ProveItLink\" href=\"__pv_it/1d25e0fab674756b8022481c598aed1c258ea8e50/expr.ipynb\"><img src=\"__pv_it/1d25e0fab674756b8022481c598aed1c258ea8e50/expr.png\" style=\"display:inline;vertical-align:middle;\" /></a></span></td></tr>\n",
       "<tr><td>3</td><td>modus ponens</td><td>4, 5</td><td><span style=\"font-size:20px;\"><a class=\"ProveItLink\" href=\"__pv_it/d88de5c240a04a98c3270237cf40b63aa8c551890/expr.ipynb\"><img src=\"__pv_it/d88de5c240a04a98c3270237cf40b63aa8c551890/expr.png\" style=\"display:inline;vertical-align:middle;\" /></a> &#x22A2;&nbsp;<a class=\"ProveItLink\" href=\"../packages/proveit/__pv_it/e24df48bc297bbcf3538a62f5b4f635a392abfce0/expr.ipynb\"><img src=\"../packages/proveit/__pv_it/e24df48bc297bbcf3538a62f5b4f635a392abfce0/expr.png\" style=\"display:inline;vertical-align:middle;\" /></a></span></td></tr>\n",
       "<tr><td>4</td><td>specialization</td><td>6, 7, 8</td><td><span style=\"font-size:20px;\"><a class=\"ProveItLink\" href=\"__pv_it/b5c97e0d5ec8020b62d0e8756c894ff667aeb3650/expr.ipynb\"><img src=\"__pv_it/b5c97e0d5ec8020b62d0e8756c894ff667aeb3650/expr.png\" style=\"display:inline;vertical-align:middle;\" /></a> &#x22A2;&nbsp;<a class=\"ProveItLink\" href=\"__pv_it/ba868b623e40178b3cab0e88847bb3c8abc799210/expr.ipynb\"><img src=\"__pv_it/ba868b623e40178b3cab0e88847bb3c8abc799210/expr.png\" style=\"display:inline;vertical-align:middle;\" /></a></span></td></tr>\n",
       "<tr><td>&nbsp;</td><td colspan=4 style=\"text-align:left\"><span style=\"font-size:20px;\"><a class=\"ProveItLink\" href=\"../packages/proveit/__pv_it/2cbe72a7ad6f655694dd697106680215e8489b600/expr.ipynb\"><img src=\"../packages/proveit/__pv_it/2cbe72a7ad6f655694dd697106680215e8489b600/expr.png\" style=\"display:inline;vertical-align:middle;\" /></a> : <a class=\"ProveItLink\" href=\"../packages/proveit/__pv_it/6369c6c8083c513ca7161ace249642d040f9327d0/expr.ipynb\"><img src=\"../packages/proveit/__pv_it/6369c6c8083c513ca7161ace249642d040f9327d0/expr.png\" style=\"display:inline;vertical-align:middle;\" /></a>, <a class=\"ProveItLink\" href=\"../packages/proveit/__pv_it/077b2ff79244fb4582cbe22c6e3356fa92a52f2f0/expr.ipynb\"><img src=\"../packages/proveit/__pv_it/077b2ff79244fb4582cbe22c6e3356fa92a52f2f0/expr.png\" style=\"display:inline;vertical-align:middle;\" /></a> : <a class=\"ProveItLink\" href=\"../packages/proveit/__pv_it/98124f92e6e1fc3772af50ac63eaa1f5624776f20/expr.ipynb\"><img src=\"../packages/proveit/__pv_it/98124f92e6e1fc3772af50ac63eaa1f5624776f20/expr.png\" style=\"display:inline;vertical-align:middle;\" /></a>, <a class=\"ProveItLink\" href=\"../packages/proveit/__pv_it/985a1bdf1540838275dec15f4ad6de261cca93ce0/expr.ipynb\"><img src=\"../packages/proveit/__pv_it/985a1bdf1540838275dec15f4ad6de261cca93ce0/expr.png\" style=\"display:inline;vertical-align:middle;\" /></a> : <a class=\"ProveItLink\" href=\"../packages/proveit/__pv_it/e24df48bc297bbcf3538a62f5b4f635a392abfce0/expr.ipynb\"><img src=\"../packages/proveit/__pv_it/e24df48bc297bbcf3538a62f5b4f635a392abfce0/expr.png\" style=\"display:inline;vertical-align:middle;\" /></a></span></td></tr><tr><td>5</td><td>assumption</td><td></td><td><span style=\"font-size:20px;\"><a class=\"ProveItLink\" href=\"__pv_it/4a455e396ba375ed966209be89aba61d84cf85ba0/expr.ipynb\"><img src=\"__pv_it/4a455e396ba375ed966209be89aba61d84cf85ba0/expr.png\" style=\"display:inline;vertical-align:middle;\" /></a> &#x22A2;&nbsp;<a class=\"ProveItLink\" href=\"../packages/proveit/__pv_it/6369c6c8083c513ca7161ace249642d040f9327d0/expr.ipynb\"><img src=\"../packages/proveit/__pv_it/6369c6c8083c513ca7161ace249642d040f9327d0/expr.png\" style=\"display:inline;vertical-align:middle;\" /></a></span></td></tr>\n",
       "<tr><td>6</td><td>theorem</td><td></td><td><span style=\"font-size:20px;\"> &#x22A2;&nbsp;<a class=\"ProveItLink\" href=\"../packages/proveit/logic/boolean/implication/__pv_it/58354b12dbd32d4ac7add309e5c18982ccfedc6a0/expr.ipynb\"><img src=\"../packages/proveit/logic/boolean/implication/__pv_it/58354b12dbd32d4ac7add309e5c18982ccfedc6a0/expr.png\" style=\"display:inline;vertical-align:middle;\" /></a></span></td></tr>\n",
       "<tr><td>&nbsp;</td><td colspan=4 style-\"text-align:left\"><a class=\"ProveItLink\" href=\"../packages/proveit/logic/boolean/implication/_proofs_/implicationTransitivity.ipynb\">proveit.logic.boolean.implication.implicationTransitivity</a></td></tr><tr><td>7</td><td>assumption</td><td></td><td><span style=\"font-size:20px;\"><a class=\"ProveItLink\" href=\"__pv_it/63031704f927ce631fed086823e41428213bbb1d0/expr.ipynb\"><img src=\"__pv_it/63031704f927ce631fed086823e41428213bbb1d0/expr.png\" style=\"display:inline;vertical-align:middle;\" /></a> &#x22A2;&nbsp;<a class=\"ProveItLink\" href=\"__pv_it/6391a272b0e3dd71e7bab66e79cde233b22580c30/expr.ipynb\"><img src=\"__pv_it/6391a272b0e3dd71e7bab66e79cde233b22580c30/expr.png\" style=\"display:inline;vertical-align:middle;\" /></a></span></td></tr>\n",
       "<tr><td>8</td><td>assumption</td><td></td><td><span style=\"font-size:20px;\"><a class=\"ProveItLink\" href=\"__pv_it/efccbf2572eba033757a05691eff79a7ff47c81a0/expr.ipynb\"><img src=\"__pv_it/efccbf2572eba033757a05691eff79a7ff47c81a0/expr.png\" style=\"display:inline;vertical-align:middle;\" /></a> &#x22A2;&nbsp;<a class=\"ProveItLink\" href=\"__pv_it/9f5a88a40609f2ce3beb8b43a7e4f27d5315d8230/expr.ipynb\"><img src=\"__pv_it/9f5a88a40609f2ce3beb8b43a7e4f27d5315d8230/expr.png\" style=\"display:inline;vertical-align:middle;\" /></a></span></td></tr>\n",
       "</table>"
      ],
      "text/plain": [
       "\tstep type\trequirements\tstatement\n",
       "0\thypothetical reasoning\t1\t{P => Q , Q => R , R => S} |= P => S\n",
       "1\tmodus ponens\t2, 3\t{P => Q , Q => R , R => S , P} |= S\n",
       "2\tassumption\t\t{R => S} |= R => S\n",
       "3\tmodus ponens\t4, 5\t{P => Q , Q => R , P} |= R\n",
       "4\tspecialization\t6, 7, 8\t{P => Q , Q => R} |= P => R\n",
       "\tA : P, B : Q, C : R\n",
       "5\tassumption\t\t{P} |= P\n",
       "6\ttheorem\t\t|= forall_{A, B, C | A => B , B => C} (A => C)\n",
       "\tproveit.logic.boolean.implication.implicationTransitivity\n",
       "7\tassumption\t\t{P => Q} |= P => Q\n",
       "8\tassumption\t\t{Q => R} |= Q => R"
      ]
     },
     "execution_count": 29,
     "metadata": {},
     "output_type": "execute_result"
    }
   ],
   "source": [
    "P_impl_S.prove().proof()"
   ]
  },
  {
   "cell_type": "markdown",
   "metadata": {},
   "source": [
    "This is a slightly longer proof but it demonstrates that *hypothetical reasoning* can also be automated.  That is, the `Implies.conclude()` method will attempt to apply `asImplication` automatically if other strategies fail (like the previous transitivity approach, which fails because that proof was disabled)."
   ]
  },
  {
   "cell_type": "markdown",
   "metadata": {
    "collapsed": true
   },
   "source": [
    "## Disabling/Enabling Automation"
   ]
  },
  {
   "cell_type": "markdown",
   "metadata": {},
   "source": [
    "If desired, for whatever reason, automation (via `sideEffects` and `conclude`) may be disabled by setting the `automation` flag of the `defaults` object to `False`:"
   ]
  },
  {
   "cell_type": "code",
   "execution_count": 30,
   "metadata": {},
   "outputs": [
    {
     "data": {
      "text/html": [
       "<strong id=\"defaults.automation\">defaults.automation:</strong> False<br>"
      ],
      "text/plain": [
       "defaults.automation: False"
      ]
     },
     "execution_count": 30,
     "metadata": {},
     "output_type": "execute_result"
    }
   ],
   "source": [
    "from proveit import defaults\n",
    "defaults.automation = False"
   ]
  },
  {
   "cell_type": "markdown",
   "metadata": {},
   "source": [
    "We now attempt an automated proof through transitivity relations similar to what we performed before. In this case we use the reverse direction, $\\{S \\Rightarrow R, R \\Rightarrow Q, Q \\Rightarrow P\\} \\vdash S \\Rightarrow P$, to make it different, otherwise it would remember the solution from before.  The proof will fail because automation is disabled."
   ]
  },
  {
   "cell_type": "code",
   "execution_count": 31,
   "metadata": {},
   "outputs": [
    {
     "name": "stdout",
     "output_type": "stream",
     "text": [
      "Expected error: Unable to prove S => P assuming {S => R, R => Q, Q => P}: No pre-existing proof\n"
     ]
    }
   ],
   "source": [
    "from proveit import ProofFailure\n",
    "try:\n",
    "    Implies(S, P).prove([Implies(S, R), Implies(R, Q), Implies(Q, P)])\n",
    "    assert False, \"Expecting an ProofFailure error; should not make it to this point\"\n",
    "except ProofFailure as e:\n",
    "    print(\"Expected error:\", e)"
   ]
  },
  {
   "cell_type": "markdown",
   "metadata": {},
   "source": [
    "It may be re-enabled by setting this flag back to `True`:"
   ]
  },
  {
   "cell_type": "code",
   "execution_count": 32,
   "metadata": {},
   "outputs": [
    {
     "data": {
      "text/html": [
       "<strong id=\"defaults.automation\">defaults.automation:</strong> True<br>"
      ],
      "text/plain": [
       "defaults.automation: True"
      ]
     },
     "execution_count": 32,
     "metadata": {},
     "output_type": "execute_result"
    }
   ],
   "source": [
    "defaults.automation = True"
   ]
  },
  {
   "cell_type": "markdown",
   "metadata": {},
   "source": [
    "Now the proof will go through via automation:"
   ]
  },
  {
   "cell_type": "code",
   "execution_count": 33,
   "metadata": {},
   "outputs": [
    {
     "data": {
      "text/html": [
       "<span style=\"font-size:20px;\"><a class=\"ProveItLink\" href=\"__pv_it/b9edc1d1844fbbd0b468bfb2d49802ed3e2322d60/expr.ipynb\"><img src=\"__pv_it/b9edc1d1844fbbd0b468bfb2d49802ed3e2322d60/expr.png\" style=\"display:inline;vertical-align:middle;\" /></a> &#x22A2;&nbsp;<a class=\"ProveItLink\" href=\"__pv_it/4bd3ff294328e971ff1a67d56bbb3eb1ea6a72010/expr.ipynb\"><img src=\"__pv_it/4bd3ff294328e971ff1a67d56bbb3eb1ea6a72010/expr.png\" style=\"display:inline;vertical-align:middle;\" /></a></span>"
      ],
      "text/plain": [
       "{S => R , R => Q , Q => P} |= S => P"
      ]
     },
     "execution_count": 33,
     "metadata": {},
     "output_type": "execute_result"
    }
   ],
   "source": [
    "Implies(S, P).prove([Implies(S, R), Implies(R, Q), Implies(Q, P)])"
   ]
  },
  {
   "cell_type": "markdown",
   "metadata": {
    "collapsed": true
   },
   "source": [
    "In addition to changing `defaults.automation`, it is also possible to disable automation for a particular instance when calling `prove` (by supplying the argument `automation=False` as part of the method call).  Basically, this just checks if something has been proven already (or is proven by the assumptions or their automatic side-effects) and raises a `ProofFailure` otherwise.  This can be useful in other automation to quickly check a possible proof pathway without potentially wasting the effort to commit to that pathway.\n",
    "\n",
    "For example, we can check if there already exists a proof for (or automatic side effect giving) $X \\Rightarrow Z$ given the assumptions that $X \\Rightarrow Y$ and $Y \\Rightarrow Z$:"
   ]
  },
  {
   "cell_type": "code",
   "execution_count": 34,
   "metadata": {},
   "outputs": [
    {
     "name": "stdout",
     "output_type": "stream",
     "text": [
      "Expected error: Unable to prove X => Z assuming {X => Y, Y => Z}: No pre-existing proof\n"
     ]
    }
   ],
   "source": [
    "from proveit._common_ import X, Y, Z\n",
    "try:\n",
    "    Implies(X, Z).prove([Implies(X, Y), Implies(Y, Z)], automation=False)\n",
    "    assert False, \"Expecting an ProofFailure error; should not make it to this point\"\n",
    "except ProofFailure as e:\n",
    "    print(\"Expected error:\", e)"
   ]
  },
  {
   "cell_type": "markdown",
   "metadata": {},
   "source": [
    "But using the default `automation=True` (*i.e.*, using the \"default\" by not even supplying the automation argument), we can automatically prove this implication via transitivity (just as we saw above using different labels)."
   ]
  },
  {
   "cell_type": "code",
   "execution_count": 35,
   "metadata": {},
   "outputs": [
    {
     "data": {
      "text/html": [
       "<strong id=\"X_impl_Z\">X_impl_Z:</strong> <span style=\"font-size:20px;\"><a class=\"ProveItLink\" href=\"__pv_it/d5585e20503b90284a5c6b4c20cd49456c0fcc030/expr.ipynb\"><img src=\"__pv_it/d5585e20503b90284a5c6b4c20cd49456c0fcc030/expr.png\" style=\"display:inline;vertical-align:middle;\" /></a> &#x22A2;&nbsp;<a class=\"ProveItLink\" href=\"__pv_it/f367be7c9affe943e3de15b4482a996e3f14fd120/expr.ipynb\"><img src=\"__pv_it/f367be7c9affe943e3de15b4482a996e3f14fd120/expr.png\" style=\"display:inline;vertical-align:middle;\" /></a></span><br>"
      ],
      "text/plain": [
       "X_impl_Z: {X => Y , Y => Z} |= X => Z"
      ]
     },
     "execution_count": 35,
     "metadata": {},
     "output_type": "execute_result"
    }
   ],
   "source": [
    "X_impl_Z = Implies(X, Z).prove([Implies(X, Y), Implies(Y, Z)])"
   ]
  },
  {
   "cell_type": "code",
   "execution_count": 36,
   "metadata": {},
   "outputs": [
    {
     "data": {
      "text/html": [
       "<table><tr><th>&nbsp;</th><th>step type</th><th>requirements</th><th>statement</th></tr>\n",
       "<tr><td>0</td><td>specialization</td><td>1, 2, 3</td><td><span style=\"font-size:20px;\"><a class=\"ProveItLink\" href=\"__pv_it/d5585e20503b90284a5c6b4c20cd49456c0fcc030/expr.ipynb\"><img src=\"__pv_it/d5585e20503b90284a5c6b4c20cd49456c0fcc030/expr.png\" style=\"display:inline;vertical-align:middle;\" /></a> &#x22A2;&nbsp;<a class=\"ProveItLink\" href=\"__pv_it/f367be7c9affe943e3de15b4482a996e3f14fd120/expr.ipynb\"><img src=\"__pv_it/f367be7c9affe943e3de15b4482a996e3f14fd120/expr.png\" style=\"display:inline;vertical-align:middle;\" /></a></span></td></tr>\n",
       "<tr><td>&nbsp;</td><td colspan=4 style=\"text-align:left\"><span style=\"font-size:20px;\"><a class=\"ProveItLink\" href=\"../packages/proveit/__pv_it/2cbe72a7ad6f655694dd697106680215e8489b600/expr.ipynb\"><img src=\"../packages/proveit/__pv_it/2cbe72a7ad6f655694dd697106680215e8489b600/expr.png\" style=\"display:inline;vertical-align:middle;\" /></a> : <a class=\"ProveItLink\" href=\"../packages/proveit/__pv_it/66cd610ba99eba68f315bbcf220cc988223124550/expr.ipynb\"><img src=\"../packages/proveit/__pv_it/66cd610ba99eba68f315bbcf220cc988223124550/expr.png\" style=\"display:inline;vertical-align:middle;\" /></a>, <a class=\"ProveItLink\" href=\"../packages/proveit/__pv_it/077b2ff79244fb4582cbe22c6e3356fa92a52f2f0/expr.ipynb\"><img src=\"../packages/proveit/__pv_it/077b2ff79244fb4582cbe22c6e3356fa92a52f2f0/expr.png\" style=\"display:inline;vertical-align:middle;\" /></a> : <a class=\"ProveItLink\" href=\"../packages/proveit/__pv_it/d787b05c0222bf7633141c210c6c9992f7bcfcbc0/expr.ipynb\"><img src=\"../packages/proveit/__pv_it/d787b05c0222bf7633141c210c6c9992f7bcfcbc0/expr.png\" style=\"display:inline;vertical-align:middle;\" /></a>, <a class=\"ProveItLink\" href=\"../packages/proveit/__pv_it/985a1bdf1540838275dec15f4ad6de261cca93ce0/expr.ipynb\"><img src=\"../packages/proveit/__pv_it/985a1bdf1540838275dec15f4ad6de261cca93ce0/expr.png\" style=\"display:inline;vertical-align:middle;\" /></a> : <a class=\"ProveItLink\" href=\"../packages/proveit/__pv_it/d36dfc8761400c6960a2e78b88a892781372a1a10/expr.ipynb\"><img src=\"../packages/proveit/__pv_it/d36dfc8761400c6960a2e78b88a892781372a1a10/expr.png\" style=\"display:inline;vertical-align:middle;\" /></a></span></td></tr><tr><td>1</td><td>theorem</td><td></td><td><span style=\"font-size:20px;\"> &#x22A2;&nbsp;<a class=\"ProveItLink\" href=\"../packages/proveit/logic/boolean/implication/__pv_it/58354b12dbd32d4ac7add309e5c18982ccfedc6a0/expr.ipynb\"><img src=\"../packages/proveit/logic/boolean/implication/__pv_it/58354b12dbd32d4ac7add309e5c18982ccfedc6a0/expr.png\" style=\"display:inline;vertical-align:middle;\" /></a></span></td></tr>\n",
       "<tr><td>&nbsp;</td><td colspan=4 style-\"text-align:left\"><a class=\"ProveItLink\" href=\"../packages/proveit/logic/boolean/implication/_proofs_/implicationTransitivity.ipynb\">proveit.logic.boolean.implication.implicationTransitivity</a></td></tr><tr><td>2</td><td>assumption</td><td></td><td><span style=\"font-size:20px;\"><a class=\"ProveItLink\" href=\"__pv_it/ce8ab26fc2da2d90ae646a77ecfaef3cf1e9a4960/expr.ipynb\"><img src=\"__pv_it/ce8ab26fc2da2d90ae646a77ecfaef3cf1e9a4960/expr.png\" style=\"display:inline;vertical-align:middle;\" /></a> &#x22A2;&nbsp;<a class=\"ProveItLink\" href=\"__pv_it/bcf1eb32cbd33f92b98d7e3882053351f223e6fe0/expr.ipynb\"><img src=\"__pv_it/bcf1eb32cbd33f92b98d7e3882053351f223e6fe0/expr.png\" style=\"display:inline;vertical-align:middle;\" /></a></span></td></tr>\n",
       "<tr><td>3</td><td>assumption</td><td></td><td><span style=\"font-size:20px;\"><a class=\"ProveItLink\" href=\"__pv_it/78cef14e17d02ce55a04152492946a52517210220/expr.ipynb\"><img src=\"__pv_it/78cef14e17d02ce55a04152492946a52517210220/expr.png\" style=\"display:inline;vertical-align:middle;\" /></a> &#x22A2;&nbsp;<a class=\"ProveItLink\" href=\"__pv_it/edc48910962c50f92a5db8a4b01562d6435c23960/expr.ipynb\"><img src=\"__pv_it/edc48910962c50f92a5db8a4b01562d6435c23960/expr.png\" style=\"display:inline;vertical-align:middle;\" /></a></span></td></tr>\n",
       "</table>"
      ],
      "text/plain": [
       "\tstep type\trequirements\tstatement\n",
       "0\tspecialization\t1, 2, 3\t{X => Y , Y => Z} |= X => Z\n",
       "\tA : X, B : Y, C : Z\n",
       "1\ttheorem\t\t|= forall_{A, B, C | A => B , B => C} (A => C)\n",
       "\tproveit.logic.boolean.implication.implicationTransitivity\n",
       "2\tassumption\t\t{X => Y} |= X => Y\n",
       "3\tassumption\t\t{Y => Z} |= Y => Z"
      ]
     },
     "execution_count": 36,
     "metadata": {},
     "output_type": "execute_result"
    }
   ],
   "source": [
    "X_impl_Z.proof()"
   ]
  },
  {
   "cell_type": "code",
   "execution_count": 37,
   "metadata": {},
   "outputs": [],
   "source": [
    "%end implication"
   ]
  },
  {
   "cell_type": "markdown",
   "metadata": {
    "collapsed": true
   },
   "source": [
    "# Next chapter: <a href=\"tutorial04_relabeling.ipynb\">Relabeling</a>\n",
    "\n",
    "## <a href=\"tutorial00_introduction.ipynb#contents\">Table of Contents</a>"
   ]
  },
  {
   "cell_type": "code",
   "execution_count": null,
   "metadata": {},
   "outputs": [],
   "source": []
  }
 ],
 "metadata": {
  "kernelspec": {
   "display_name": "Python 3",
   "language": "python",
   "name": "python3"
  },
  "language_info": {
   "codemirror_mode": {
    "name": "ipython",
    "version": 3
   },
   "file_extension": ".py",
   "mimetype": "text/x-python",
   "name": "python",
   "nbconvert_exporter": "python",
   "pygments_lexer": "ipython3",
   "version": "3.7.1"
  }
 },
 "nbformat": 4,
 "nbformat_minor": 1
}
