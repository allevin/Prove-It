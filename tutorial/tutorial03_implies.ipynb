{
 "cells": [
  {
   "cell_type": "markdown",
   "metadata": {},
   "source": [
    "Chapter 3.  Implication\n",
    "=======\n",
    "\n",
    "An implication such as $P \\Rightarrow Q$ has an antecedent ($P$) and a consequent ($Q$).  If the antecedent is true, the consequent must also be true.  **Prove-It** has an `Implies` **operation** (a sub-class of **Expression**) that may be used to represent an implication, formatted with the $\\Rightarrow$ symbol.  While this is a concept used in the core, `Implies` is actually defined outside of the core in the `proveit.logic` package.  It is known in the core for use in the *modus ponens* and *hypothetical reasoning* derivation steps discussed below.\n",
    "\n",
    "Below we import some helpful and necessary elements, define the `Implies` object $A \\Rightarrow B$, and then take a brief tour of the `Implies` class:"
   ]
  },
  {
   "cell_type": "code",
   "execution_count": 1,
   "metadata": {},
   "outputs": [],
   "source": [
    "from proveit._common_ import A, B, C, X\n",
    "from proveit.logic import Implies \n",
    "%begin implication"
   ]
  },
  {
   "cell_type": "code",
   "execution_count": 2,
   "metadata": {},
   "outputs": [
    {
     "data": {
      "text/html": [
       "<strong id=\"A_impl_B\">A_impl_B:</strong> <a class=\"ProveItLink\" href=\"__pv_it/ab822dd92f6f587d42cbcb4e55df2d568cc3b3260/expr.ipynb\"><img src=\"data:image/png;base64,iVBORw0KGgoAAAANSUhEUgAAAEAAAAAPBAMAAACmSdRUAAAAMFBMVEX///92dnYQEBBERERUVFS6\n",
       "urqIiIhmZmaqqqrc3Nzu7u6YmJgyMjIiIiLMzMwAAACFkkdwAAAAAXRSTlMAQObYZgAAAOhJREFU\n",
       "GNNjYACBtwxYwJb/Li42ARD2eWwKGJQZGNi/glnc9xcghOFMvm9A/AXMnFE/AaHgFIzB9hOo9SOY\n",
       "mZAfgFAQAmMwKzAw8GqBWKwL+jcgFDAmQBn8Dgych8EWLmV4DxZkvwsG36EK3rul1UI0BjDML0By\n",
       "PMdRCJ0/gYHrCti1Li7+BsjeW6MKpoxAikBGsDIwMB1Akuc7CPEpyIf7BYBEA9CxCkhuuAyR5/sN\n",
       "JPyBkpxAzPMByQkOiGDg/AOyEeTlXwgFc5CC4REw1Cbrn2Tgtv+D8IYlhGK3/+LicxpbFD1A5QIA\n",
       "YgVCLvPPxacAAAAASUVORK5CYII=\n",
       "\" style=\"display:inline;vertical-align:middle;\" /></a><br>"
      ],
      "text/plain": [
       "A_impl_B: A => B"
      ]
     },
     "execution_count": 2,
     "metadata": {},
     "output_type": "execute_result"
    }
   ],
   "source": [
    "A_impl_B = Implies(A, B)"
   ]
  },
  {
   "cell_type": "markdown",
   "metadata": {},
   "source": [
    "Implies is an `Operation` (a sub-class of `Expression`):"
   ]
  },
  {
   "cell_type": "code",
   "execution_count": 3,
   "metadata": {},
   "outputs": [
    {
     "data": {
      "text/html": [
       "<table><tr><th>&nbsp;</th><th>core type</th><th>sub-expressions</th><th>expression</th></tr>\n",
       "<tr><td>0</td><td>Operation</td><td>operator:&nbsp;1<br>operands:&nbsp;2<br></td><td><a class=\"ProveItLink\" href=\"__pv_it/ab822dd92f6f587d42cbcb4e55df2d568cc3b3260/expr.ipynb\"><img src=\"data:image/png;base64,iVBORw0KGgoAAAANSUhEUgAAAEAAAAAPBAMAAACmSdRUAAAAMFBMVEX///92dnYQEBBERERUVFS6\n",
       "urqIiIhmZmaqqqrc3Nzu7u6YmJgyMjIiIiLMzMwAAACFkkdwAAAAAXRSTlMAQObYZgAAAOhJREFU\n",
       "GNNjYACBtwxYwJb/Li42ARD2eWwKGJQZGNi/glnc9xcghOFMvm9A/AXMnFE/AaHgFIzB9hOo9SOY\n",
       "mZAfgFAQAmMwKzAw8GqBWKwL+jcgFDAmQBn8Dgych8EWLmV4DxZkvwsG36EK3rul1UI0BjDML0By\n",
       "PMdRCJ0/gYHrCti1Li7+BsjeW6MKpoxAikBGsDIwMB1Akuc7CPEpyIf7BYBEA9CxCkhuuAyR5/sN\n",
       "JPyBkpxAzPMByQkOiGDg/AOyEeTlXwgFc5CC4REw1Cbrn2Tgtv+D8IYlhGK3/+LicxpbFD1A5QIA\n",
       "YgVCLvPPxacAAAAASUVORK5CYII=\n",
       "\" style=\"display:inline;vertical-align:middle;\" /></a></td></tr>\n",
       "<tr><td>1</td><td>Literal</td><td></td><td><a class=\"ProveItLink\" href=\"../packages/proveit/logic/boolean/implication/__pv_it/e5c030cabcb650938f92dee8256fe11cd12bf9b30/expr.ipynb\"><img src=\"data:image/png;base64,iVBORw0KGgoAAAANSUhEUgAAABMAAAANBAMAAAC5okgUAAAALVBMVEX////c3NxERETMzMwQEBCq\n",
       "qqoiIiJmZmaIiIh2dnZUVFS6uroyMjLu7u4AAACPpZJTAAAAAXRSTlMAQObYZgAAAD1JREFUCNdj\n",
       "YAABXgY44LkAZ3IvQAjPABFlaSCQV4AQjtkAZ/IegbNt5sLUpunC5aPgLMYDcCaTAJzJDCIA2yMN\n",
       "HCCUuIIAAAAASUVORK5CYII=\n",
       "\" style=\"display:inline;vertical-align:middle;\" /></a></td></tr>\n",
       "<tr><td>2</td><td>ExprTuple</td><td>3, 4</td><td><a class=\"ProveItLink\" href=\"__pv_it/caee09fb4b5c95b986a9cee46a014afbad9bdc680/expr.ipynb\"><img src=\"data:image/png;base64,iVBORw0KGgoAAAANSUhEUgAAADUAAAAVBAMAAAAUZLt1AAAAMFBMVEX////c3NwiIiJERESqqqqY\n",
       "mJh2dnZmZmYQEBDu7u4yMjJUVFTMzMyIiIi6uroAAAAs73DqAAAAAXRSTlMAQObYZgAAATZJREFU\n",
       "KM9jYMAH+C5gFY4DEach7EMwQdb9v3dvXsfAfgDIXgkRWg/XwWHAwFD/gGEBAwMvxEhW/QkwufNA\n",
       "kfMbGMKAqiBiIvUCMLn7QFZ8AsMMBoZXEIEL9x/A5CyAWGMCA7MDQxnEsRP8A2ByvxkYpCwZGNgK\n",
       "GJaC+fPAtoABz++711WBNMsChj6wwAMG+QKoHO9HBoZJG4BGNTD8A6vdvXu/AVSOuQEo/xUo9gEi\n",
       "xwd07wKoHD9QD+s3sFwLiO/AwMDUAPMe0FHcX8BmmgK5jEA5rg8MDBNg3pMHGsK6gCEdyJ0FsuYn\n",
       "A+cnqPd4uiaA/fCIgUG4fyEDq/2vAs5+oJbi/7t3rwL5lesBA4cAUnQhsUFhxpqA4LIiR2AuIo7Q\n",
       "5ThBfpJG8JFTADfIfEbsaeIOAwMABOxNRsfkiy0AAAAASUVORK5CYII=\n",
       "\" style=\"display:inline;vertical-align:middle;\" /></a></td></tr>\n",
       "<tr><td>3</td><td>Variable</td><td></td><td><a class=\"ProveItLink\" href=\"../packages/proveit/__pv_it/2cbe72a7ad6f655694dd697106680215e8489b600/expr.ipynb\"><img src=\"data:image/png;base64,iVBORw0KGgoAAAANSUhEUgAAAA8AAAAOBAMAAAACpFvcAAAALVBMVEX///8QEBBERERUVFS6urqI\n",
       "iIhmZmaqqqrc3Nzu7u6YmJgyMjIiIiLMzMwAAADtIaYWAAAAAXRSTlMAQObYZgAAAFtJREFUCNdj\n",
       "YACBOwxQsA9Kc52bAGG05zVAGAFxDmCaZULdAjBjCsO9ADDDgaEvAUTzGhvbKYCVMDAwbgAxChgY\n",
       "eASANAeQwf0AyJgNxEwvGRia5HYwcOm9TgAA6BoR3jrzwFcAAAAASUVORK5CYII=\n",
       "\" style=\"display:inline;vertical-align:middle;\" /></a></td></tr>\n",
       "<tr><td>4</td><td>Variable</td><td></td><td><a class=\"ProveItLink\" href=\"../packages/proveit/__pv_it/077b2ff79244fb4582cbe22c6e3356fa92a52f2f0/expr.ipynb\"><img src=\"data:image/png;base64,iVBORw0KGgoAAAANSUhEUgAAABAAAAAOBAMAAADUAYG5AAAAMFBMVEX///+qqqru7u4iIiJ2dnbc\n",
       "3NyIiIjMzMxmZmYQEBC6uroyMjJERERUVFSYmJgAAADLUcuvAAAAAXRSTlMAQObYZgAAAGpJREFU\n",
       "CNdjYGB4+//u3dMLGIBgDgMDxy8gzf4NiP8CGWxfGRj4vgAZPBMYGJgnARn8FxhY9ygAGfXX0pof\n",
       "gDTlBzAw2YIYJ0EckBBI53sHoBH/gIz7AhBjWH9DjancBLTl/N+7t/cxMAAA3u4f/5xagjYAAAAA\n",
       "SUVORK5CYII=\n",
       "\" style=\"display:inline;vertical-align:middle;\" /></a></td></tr>\n",
       "</table>\n"
      ],
      "text/plain": [
       "0. A => B\n",
       "   core type: Operation\n",
       "   operator: 1\n",
       "   operands: 2\n",
       "1. =>\n",
       "   core type: Literal\n",
       "   sub-expressions: \n",
       "2. (A , B)\n",
       "   core type: ExprTuple\n",
       "   sub-expressions: 3, 4\n",
       "3. A\n",
       "   core type: Variable\n",
       "   sub-expressions: \n",
       "4. B\n",
       "   core type: Variable\n",
       "   sub-expressions: "
      ]
     },
     "execution_count": 3,
     "metadata": {},
     "output_type": "execute_result"
    }
   ],
   "source": [
    "A_impl_B.exprInfo()"
   ]
  },
  {
   "cell_type": "markdown",
   "metadata": {},
   "source": [
    "We can access the `antecedent` and the `consequent` of the implication as follows:"
   ]
  },
  {
   "cell_type": "code",
   "execution_count": 4,
   "metadata": {},
   "outputs": [
    {
     "data": {
      "text/html": [
       "<a class=\"ProveItLink\" href=\"../packages/proveit/__pv_it/2cbe72a7ad6f655694dd697106680215e8489b600/expr.ipynb\"><img src=\"data:image/png;base64,iVBORw0KGgoAAAANSUhEUgAAAA8AAAAOBAMAAAACpFvcAAAALVBMVEX///8QEBBERERUVFS6urqI\n",
       "iIhmZmaqqqrc3Nzu7u6YmJgyMjIiIiLMzMwAAADtIaYWAAAAAXRSTlMAQObYZgAAAFtJREFUCNdj\n",
       "YACBOwxQsA9Kc52bAGG05zVAGAFxDmCaZULdAjBjCsO9ADDDgaEvAUTzGhvbKYCVMDAwbgAxChgY\n",
       "eASANAeQwf0AyJgNxEwvGRia5HYwcOm9TgAA6BoR3jrzwFcAAAAASUVORK5CYII=\n",
       "\" style=\"display:inline;vertical-align:middle;\" /></a>"
      ],
      "text/plain": [
       "A"
      ]
     },
     "execution_count": 4,
     "metadata": {},
     "output_type": "execute_result"
    }
   ],
   "source": [
    "A_impl_B.antecedent"
   ]
  },
  {
   "cell_type": "code",
   "execution_count": 5,
   "metadata": {},
   "outputs": [
    {
     "data": {
      "text/html": [
       "<a class=\"ProveItLink\" href=\"../packages/proveit/__pv_it/077b2ff79244fb4582cbe22c6e3356fa92a52f2f0/expr.ipynb\"><img src=\"data:image/png;base64,iVBORw0KGgoAAAANSUhEUgAAABAAAAAOBAMAAADUAYG5AAAAMFBMVEX///+qqqru7u4iIiJ2dnbc\n",
       "3NyIiIjMzMxmZmYQEBC6uroyMjJERERUVFSYmJgAAADLUcuvAAAAAXRSTlMAQObYZgAAAGpJREFU\n",
       "CNdjYGB4+//u3dMLGIBgDgMDxy8gzf4NiP8CGWxfGRj4vgAZPBMYGJgnARn8FxhY9ygAGfXX0pof\n",
       "gDTlBzAw2YIYJ0EckBBI53sHoBH/gIz7AhBjWH9DjancBLTl/N+7t/cxMAAA3u4f/5xagjYAAAAA\n",
       "SUVORK5CYII=\n",
       "\" style=\"display:inline;vertical-align:middle;\" /></a>"
      ],
      "text/plain": [
       "B"
      ]
     },
     "execution_count": 5,
     "metadata": {},
     "output_type": "execute_result"
    }
   ],
   "source": [
    "A_impl_B.consequent"
   ]
  },
  {
   "cell_type": "markdown",
   "metadata": {},
   "source": [
    "And we can take a peak at the instance attributes and methods:"
   ]
  },
  {
   "cell_type": "code",
   "execution_count": 6,
   "metadata": {},
   "outputs": [
    {
     "data": {
      "text/plain": [
       "['EquivalenceClass',\n",
       " 'SequenceClass',\n",
       " 'StrongRelationClass',\n",
       " 'WeakRelationClass',\n",
       " '_RelationClasses',\n",
       " '__class__',\n",
       " '__delattr__',\n",
       " '__dict__',\n",
       " '__dir__',\n",
       " '__doc__',\n",
       " '__eq__',\n",
       " '__format__',\n",
       " '__ge__',\n",
       " '__getattribute__',\n",
       " '__gt__',\n",
       " '__hash__',\n",
       " '__init__',\n",
       " '__init_subclass__',\n",
       " '__le__',\n",
       " '__lt__',\n",
       " '__module__',\n",
       " '__ne__',\n",
       " '__new__',\n",
       " '__reduce__',\n",
       " '__reduce_ex__',\n",
       " '__repr__',\n",
       " '__setattr__',\n",
       " '__sizeof__',\n",
       " '__str__',\n",
       " '__subclasshook__',\n",
       " '__weakref__',\n",
       " '_checkRelabelMap',\n",
       " '_checkedStrongRelationClass',\n",
       " '_checkedWeakRelationClass',\n",
       " '_class_path',\n",
       " '_clear_',\n",
       " '_config_latex_tool',\n",
       " '_coreInfo',\n",
       " '_equiv_method_evaluate_',\n",
       " '_equiv_method_evaluated_',\n",
       " '_equiv_method_evaluation_',\n",
       " '_equiv_method_simplification_',\n",
       " '_equiv_method_simplified_',\n",
       " '_equiv_method_simplify_',\n",
       " '_extractCoreInfo',\n",
       " '_extractExprClass',\n",
       " '_extractInitArgs',\n",
       " '_extractMyInitArgs',\n",
       " '_extractReferencedObjIds',\n",
       " '_extractStyle',\n",
       " '_fixedTransitivitySort',\n",
       " '_formatted',\n",
       " '_formattedOperation',\n",
       " '_generate_unique_rep',\n",
       " '_genericExpr',\n",
       " '_implicitOperator',\n",
       " '_iterSubParamVals',\n",
       " '_make',\n",
       " '_meaningData',\n",
       " '_meaning_id',\n",
       " '_operator_',\n",
       " '_repr_html_',\n",
       " '_requirements',\n",
       " '_restrictionChecked',\n",
       " '_setContext',\n",
       " '_styleData',\n",
       " '_style_id',\n",
       " '_subExpressions',\n",
       " '_transitivitySearch',\n",
       " '_validateRelabelMap',\n",
       " '_withMatchingStyle',\n",
       " 'antecedent',\n",
       " 'applyTransitivities',\n",
       " 'applyTransitivity',\n",
       " 'conclude',\n",
       " 'concludeNegation',\n",
       " 'concludeSelfImplication',\n",
       " 'concludeViaDoubleNegation',\n",
       " 'concludeViaImplication',\n",
       " 'concludeViaTransitivity',\n",
       " 'consequent',\n",
       " 'contexts',\n",
       " 'contrapose',\n",
       " 'copy',\n",
       " 'coreInfo',\n",
       " 'deduceInBool',\n",
       " 'deduceNegatedLeftImpl',\n",
       " 'deduceNegatedReflex',\n",
       " 'deduceNegatedRightImpl',\n",
       " 'denyAntecedent',\n",
       " 'deriveConsequent',\n",
       " 'deriveIff',\n",
       " 'deriveViaContradiction',\n",
       " 'displayed_expression_styles',\n",
       " 'disprove',\n",
       " 'doReducedEvaluation',\n",
       " 'doReducedSimplification',\n",
       " 'evaluated',\n",
       " 'evaluation',\n",
       " 'exprInfo',\n",
       " 'extractInitArgValue',\n",
       " 'extractMyInitArgValue',\n",
       " 'formatted',\n",
       " 'freeMultiVars',\n",
       " 'freeVars',\n",
       " 'generalize',\n",
       " 'getRequirements',\n",
       " 'getStyle',\n",
       " 'getStyles',\n",
       " 'in_progress_to_conclude',\n",
       " 'innerExpr',\n",
       " 'insertion_point',\n",
       " 'knownLeftSides',\n",
       " 'knownRelationsFromLeft',\n",
       " 'knownRelationsFromRight',\n",
       " 'knownRightSides',\n",
       " 'latex',\n",
       " 'lhs',\n",
       " 'makeSequenceOrRelation',\n",
       " 'mergesort',\n",
       " 'mergesorted_items',\n",
       " 'negationSideEffects',\n",
       " 'numSubExpr',\n",
       " 'operand_or_operands',\n",
       " 'operands',\n",
       " 'operationClassOfOperator',\n",
       " 'operator',\n",
       " 'operator_or_operators',\n",
       " 'operators',\n",
       " 'orderOfAppearance',\n",
       " 'prove',\n",
       " 'relabeled',\n",
       " 'remakeArguments',\n",
       " 'remakeConstructor',\n",
       " 'remakeWithStyleCalls',\n",
       " 'rhs',\n",
       " 'safeDummyVar',\n",
       " 'safeDummyVars',\n",
       " 'sideEffects',\n",
       " 'simplification',\n",
       " 'simplified',\n",
       " 'sort',\n",
       " 'sorted_items',\n",
       " 'string',\n",
       " 'styleNames',\n",
       " 'styleOptions',\n",
       " 'subExpr',\n",
       " 'subExprIter',\n",
       " 'substituted',\n",
       " 'usedVars',\n",
       " 'withJustification',\n",
       " 'withMatchingStyle',\n",
       " 'withStyles',\n",
       " 'withWrapAfterOperator',\n",
       " 'withWrapBeforeOperator',\n",
       " 'withWrappingAt',\n",
       " 'wrapPositions']"
      ]
     },
     "execution_count": 6,
     "metadata": {},
     "output_type": "execute_result"
    }
   ],
   "source": [
    "dir(A_impl_B)"
   ]
  },
  {
   "cell_type": "markdown",
   "metadata": {},
   "source": [
    "## Modus Ponens\n",
    "\n",
    "*Modus ponens* is a straightforward derivation step in which you can derive $B$ assuming that $A$ and $A \\Rightarrow B$ are both true statements.  You can apply this derivation step explicitly by calling the `deriveConsequent` method of any `Implies` object."
   ]
  },
  {
   "cell_type": "code",
   "execution_count": 7,
   "metadata": {},
   "outputs": [
    {
     "data": {
      "text/html": [
       "<strong id=\"B_from_A\">B_from_A:</strong> <span style=\"font-size:20px;\"><a class=\"ProveItLink\" href=\"__pv_it/81e0c24d457c10dd479ddd274e4d0437d391c2ab0/expr.ipynb\"><img src=\"data:image/png;base64,iVBORw0KGgoAAAANSUhEUgAAAGsAAAAVBAMAAACzuQ2OAAAAMFBMVEX///9ERETc3NyqqqpUVFS6\n",
       "urrMzMwyMjIQEBCIiIh2dnYiIiLu7u5mZmaYmJgAAABJJ2g3AAAAAXRSTlMAQObYZgAAAaBJREFU\n",
       "OMtjYGDgu8dACmBbpQCieHYxkAbYmkEk5wcobwOSVDY29U/+u7iIBzAwXAdxuBogguwfkFTUY7Wn\n",
       "kYGB9ysDwwpkba//IOT59h+As3kQrvsJxF9QtTHZfkJoU76vAGezw03gBKrg+4WqjZPzK0LbhPkB\n",
       "cDarA4zFCFTJ3YOqLYb5H0LlAfsHCDNWwhj8DgxMhQeg2ngLwD4IALkcCo4y5E8A0bd3g8D+C1Dh\n",
       "fM+Zt0HGvQdxMsDuYWVg+gvXFsCgfwEpAM2hLp6vwMCzBeRboGRKG1goxcXlIzzEXFz8BZC08VRA\n",
       "9EmAtIKsEwcSEQkQCxja4V5jYOAoQNKWvgZCfwE5cAEwWICYgQWkghmId8CUGQBlGhB+2y0DdQQo\n",
       "zPwNoH7jAiUqZUjKAEctkwFqkjFBijam7wxIEcADslH+AMN5kBHHQVGESDJMBUjRllGDpI1J4rsC\n",
       "w8P/tQwngAYq9hcx8Ml/hwclIzTB8Mp/cXGvY2BAS5NgEIQln2CIYGp7QEyGA2vjI1kbOL/x7EQI\n",
       "cBKVu1shmWsx6WUJANQzceylMolFAAAAAElFTkSuQmCC\n",
       "\" style=\"display:inline;vertical-align:middle;\" /></a> <a class=\"ProveItLink\" href=\"__pv_it/ba520be1c30c7902b7c297757a68834bf4ce10b30/proof.ipynb\" style=\"text-decoration: none\">&#x22A2;&nbsp;</a><a class=\"ProveItLink\" href=\"../packages/proveit/__pv_it/077b2ff79244fb4582cbe22c6e3356fa92a52f2f0/expr.ipynb\"><img src=\"data:image/png;base64,iVBORw0KGgoAAAANSUhEUgAAABAAAAAOBAMAAADUAYG5AAAAMFBMVEX///+qqqru7u4iIiJ2dnbc\n",
       "3NyIiIjMzMxmZmYQEBC6uroyMjJERERUVFSYmJgAAADLUcuvAAAAAXRSTlMAQObYZgAAAGpJREFU\n",
       "CNdjYGB4+//u3dMLGIBgDgMDxy8gzf4NiP8CGWxfGRj4vgAZPBMYGJgnARn8FxhY9ygAGfXX0pof\n",
       "gDTlBzAw2YIYJ0EckBBI53sHoBH/gIz7AhBjWH9DjancBLTl/N+7t/cxMAAA3u4f/5xagjYAAAAA\n",
       "SUVORK5CYII=\n",
       "\" style=\"display:inline;vertical-align:middle;\" /></a></span><br>"
      ],
      "text/plain": [
       "B_from_A: {A , A => B} |- B"
      ]
     },
     "execution_count": 7,
     "metadata": {},
     "output_type": "execute_result"
    }
   ],
   "source": [
    "B_from_A = A_impl_B.deriveConsequent(assumptions=[A, A_impl_B])"
   ]
  },
  {
   "cell_type": "markdown",
   "metadata": {},
   "source": [
    "Recall from the previous tutorial chapter that **Prove-It**, in its core, is not concerned about truth-aptness.  Neither $A$ nor $B$ are required to be intrinsically truth-apt.  The above **known truth** simply means that $B$ is a true statement *if* we assume that $A$ and $A \\Rightarrow B$ are true statements. The associated proof makes explicit the application of modus ponens:"
   ]
  },
  {
   "cell_type": "code",
   "execution_count": 8,
   "metadata": {},
   "outputs": [
    {
     "data": {
      "text/html": [
       "<table><tr><th>&nbsp;</th><th>step type</th><th>requirements</th><th>statement</th></tr>\n",
       "<tr><td>0</td><td>modus ponens</td><td>1, 2</td><td><span style=\"font-size:20px;\"><a class=\"ProveItLink\" href=\"__pv_it/81e0c24d457c10dd479ddd274e4d0437d391c2ab0/expr.ipynb\"><img src=\"data:image/png;base64,iVBORw0KGgoAAAANSUhEUgAAAGsAAAAVBAMAAACzuQ2OAAAAMFBMVEX///9ERETc3NyqqqpUVFS6\n",
       "urrMzMwyMjIQEBCIiIh2dnYiIiLu7u5mZmaYmJgAAABJJ2g3AAAAAXRSTlMAQObYZgAAAaBJREFU\n",
       "OMtjYGDgu8dACmBbpQCieHYxkAbYmkEk5wcobwOSVDY29U/+u7iIBzAwXAdxuBogguwfkFTUY7Wn\n",
       "kYGB9ysDwwpkba//IOT59h+As3kQrvsJxF9QtTHZfkJoU76vAGezw03gBKrg+4WqjZPzK0LbhPkB\n",
       "cDarA4zFCFTJ3YOqLYb5H0LlAfsHCDNWwhj8DgxMhQeg2ngLwD4IALkcCo4y5E8A0bd3g8D+C1Dh\n",
       "fM+Zt0HGvQdxMsDuYWVg+gvXFsCgfwEpAM2hLp6vwMCzBeRboGRKG1goxcXlIzzEXFz8BZC08VRA\n",
       "9EmAtIKsEwcSEQkQCxja4V5jYOAoQNKWvgZCfwE5cAEwWICYgQWkghmId8CUGQBlGhB+2y0DdQQo\n",
       "zPwNoH7jAiUqZUjKAEctkwFqkjFBijam7wxIEcADslH+AMN5kBHHQVGESDJMBUjRllGDpI1J4rsC\n",
       "w8P/tQwngAYq9hcx8Ml/hwclIzTB8Mp/cXGvY2BAS5NgEIQln2CIYGp7QEyGA2vjI1kbOL/x7EQI\n",
       "cBKVu1shmWsx6WUJANQzceylMolFAAAAAElFTkSuQmCC\n",
       "\" style=\"display:inline;vertical-align:middle;\" /></a> <a class=\"ProveItLink\" href=\"__pv_it/ba520be1c30c7902b7c297757a68834bf4ce10b30/proof.ipynb\" style=\"text-decoration: none\">&#x22A2;&nbsp;</a><a class=\"ProveItLink\" href=\"../packages/proveit/__pv_it/077b2ff79244fb4582cbe22c6e3356fa92a52f2f0/expr.ipynb\"><img src=\"data:image/png;base64,iVBORw0KGgoAAAANSUhEUgAAABAAAAAOBAMAAADUAYG5AAAAMFBMVEX///+qqqru7u4iIiJ2dnbc\n",
       "3NyIiIjMzMxmZmYQEBC6uroyMjJERERUVFSYmJgAAADLUcuvAAAAAXRSTlMAQObYZgAAAGpJREFU\n",
       "CNdjYGB4+//u3dMLGIBgDgMDxy8gzf4NiP8CGWxfGRj4vgAZPBMYGJgnARn8FxhY9ygAGfXX0pof\n",
       "gDTlBzAw2YIYJ0EckBBI53sHoBH/gIz7AhBjWH9DjancBLTl/N+7t/cxMAAA3u4f/5xagjYAAAAA\n",
       "SUVORK5CYII=\n",
       "\" style=\"display:inline;vertical-align:middle;\" /></a></span></td></tr>\n",
       "<tr><td>1</td><td>assumption</td><td></td><td><span style=\"font-size:20px;\"><a class=\"ProveItLink\" href=\"__pv_it/06be501f646a7bac11b57bfea5020217a57c598d0/expr.ipynb\"><img src=\"data:image/png;base64,iVBORw0KGgoAAAANSUhEUgAAAFMAAAAVBAMAAADInc9CAAAAMFBMVEX///9ERETc3NyqqqpUVFS6\n",
       "urrMzMwyMjIQEBCIiIh2dnYiIiLu7u5mZmaYmJgAAABJJ2g3AAAAAXRSTlMAQObYZgAAAU9JREFU\n",
       "KM9jYGDgu8dACLCtUgBRPLsYCAO2ZhDJ+QHK24BFCZ//FxfHUiDjOojH1QARZf+AzTgOAQaG+wEM\n",
       "DCuQlb7+g1DAA2flTwBiB1SlTLafEErZD8BY84H+eb8AVSkn51eEUlYHGEsCiHccQFUaw/wPyYkr\n",
       "YYwvDAzqMgxQpbwFYNcFsP0Ey93eDQL7L0CD5cvMuftAjPcgIiMAbCUD019kn5sHQJwF9MBpkGvY\n",
       "gXpT2sBiKS4uH5GV8lSA1TICXccJdpn4AwaGiAQQCyjRjqw0fQ2Y4geayPcLyOAGhgIDC8itzCCP\n",
       "Irl1tww0WIFmsXyGuZULFKHKQFyPZKgJUrDqFzAgBRYPiCcPD3cGpgJEsLK1H0BSyiTxXYHh4f9a\n",
       "uFJGBQh98b+LS/kDBga0NICS5jBEcCplwK6Ujyil4PTKs5OYXNAKSemLictbAOAEWqBdr+e5AAAA\n",
       "AElFTkSuQmCC\n",
       "\" style=\"display:inline;vertical-align:middle;\" /></a> <a class=\"ProveItLink\" href=\"__pv_it/daefea40ee0d745c36e6a490f37edc56a08433c30/proof.ipynb\" style=\"text-decoration: none\">&#x22A2;&nbsp;</a><a class=\"ProveItLink\" href=\"__pv_it/ab822dd92f6f587d42cbcb4e55df2d568cc3b3260/expr.ipynb\"><img src=\"data:image/png;base64,iVBORw0KGgoAAAANSUhEUgAAAEAAAAAPBAMAAACmSdRUAAAAMFBMVEX///92dnYQEBBERERUVFS6\n",
       "urqIiIhmZmaqqqrc3Nzu7u6YmJgyMjIiIiLMzMwAAACFkkdwAAAAAXRSTlMAQObYZgAAAOhJREFU\n",
       "GNNjYACBtwxYwJb/Li42ARD2eWwKGJQZGNi/glnc9xcghOFMvm9A/AXMnFE/AaHgFIzB9hOo9SOY\n",
       "mZAfgFAQAmMwKzAw8GqBWKwL+jcgFDAmQBn8Dgych8EWLmV4DxZkvwsG36EK3rul1UI0BjDML0By\n",
       "PMdRCJ0/gYHrCti1Li7+BsjeW6MKpoxAikBGsDIwMB1Akuc7CPEpyIf7BYBEA9CxCkhuuAyR5/sN\n",
       "JPyBkpxAzPMByQkOiGDg/AOyEeTlXwgFc5CC4REw1Cbrn2Tgtv+D8IYlhGK3/+LicxpbFD1A5QIA\n",
       "YgVCLvPPxacAAAAASUVORK5CYII=\n",
       "\" style=\"display:inline;vertical-align:middle;\" /></a></span></td></tr>\n",
       "<tr><td>2</td><td>assumption</td><td></td><td><span style=\"font-size:20px;\"><a class=\"ProveItLink\" href=\"__pv_it/2700633c29669936275e69317ebd77c3a6285b9c0/expr.ipynb\"><img src=\"data:image/png;base64,iVBORw0KGgoAAAANSUhEUgAAACIAAAAVBAMAAADRFiHkAAAAMFBMVEX///9ERETc3NyqqqpUVFS6\n",
       "urrMzMwyMjIQEBCIiIh2dnYiIiLu7u5mZmaYmJgAAABJJ2g3AAAAAXRSTlMAQObYZgAAAK1JREFU\n",
       "GNNjYGDgu8cAA1mLQCTPLgYEyDAAEpwfIBy2DUCCtwBIcDVARNg/wDgwkdd/0ESYbD+hiXByfkUT\n",
       "iWH+B+OAjWfgCWD7CaT4QMZnBIBEWBmY/oLoWgaGlDawphQXl48gmrGOgSEiAcQCKmwH0SAPsIDM\n",
       "YQbiHTBzuECuVwbiemTbeUDq5A8gRJgkviswPPxfi+YvMMAhwocsAvYAz07kMAR7gG8xSjgDAMfT\n",
       "LYlEWPTfAAAAAElFTkSuQmCC\n",
       "\" style=\"display:inline;vertical-align:middle;\" /></a> <a class=\"ProveItLink\" href=\"__pv_it/0cbf4ba18936f5d879bcab1d3c6cf36bbb2fc9690/proof.ipynb\" style=\"text-decoration: none\">&#x22A2;&nbsp;</a><a class=\"ProveItLink\" href=\"../packages/proveit/__pv_it/2cbe72a7ad6f655694dd697106680215e8489b600/expr.ipynb\"><img src=\"data:image/png;base64,iVBORw0KGgoAAAANSUhEUgAAAA8AAAAOBAMAAAACpFvcAAAALVBMVEX///8QEBBERERUVFS6urqI\n",
       "iIhmZmaqqqrc3Nzu7u6YmJgyMjIiIiLMzMwAAADtIaYWAAAAAXRSTlMAQObYZgAAAFtJREFUCNdj\n",
       "YACBOwxQsA9Kc52bAGG05zVAGAFxDmCaZULdAjBjCsO9ADDDgaEvAUTzGhvbKYCVMDAwbgAxChgY\n",
       "eASANAeQwf0AyJgNxEwvGRia5HYwcOm9TgAA6BoR3jrzwFcAAAAASUVORK5CYII=\n",
       "\" style=\"display:inline;vertical-align:middle;\" /></a></span></td></tr>\n",
       "</table>"
      ],
      "text/plain": [
       "\tstep type\trequirements\tstatement\n",
       "0\tmodus ponens\t1, 2\t{A , A => B} |- B\n",
       "1\tassumption\t\t{A => B} |- A => B\n",
       "2\tassumption\t\t{A} |- A"
      ]
     },
     "execution_count": 8,
     "metadata": {},
     "output_type": "execute_result"
    }
   ],
   "source": [
    "B_from_A.proof()"
   ]
  },
  {
   "cell_type": "markdown",
   "metadata": {},
   "source": [
    "In order for the *modus ponens* derivation step to succeed, the implication and the hypothesis must be proven to be true or appear under the applicable assumptions. Below, we see errors in the attempted proof if we omit either of the assumptions $A$ or $A \\Rightarrow B$:"
   ]
  },
  {
   "cell_type": "code",
   "execution_count": 9,
   "metadata": {},
   "outputs": [
    {
     "name": "stdout",
     "output_type": "stream",
     "text": [
      "EXPECTED ERROR: Unable to prove B assuming {A}: Implication, A => B, is not proven\n"
     ]
    }
   ],
   "source": [
    "from proveit import ModusPonensFailure\n",
    "try:\n",
    "    A_impl_B.deriveConsequent(assumptions=[A])\n",
    "    assert False, \"Expecting a ModusPonensFailure error; should not make it to this point\"\n",
    "except ModusPonensFailure as e:\n",
    "    print(\"EXPECTED ERROR:\", e)"
   ]
  },
  {
   "cell_type": "code",
   "execution_count": 10,
   "metadata": {},
   "outputs": [
    {
     "name": "stdout",
     "output_type": "stream",
     "text": [
      "EXPECTED ERROR: Unable to prove B assuming {A => B}: Antecedent of A => B is not proven\n"
     ]
    }
   ],
   "source": [
    "from proveit import ModusPonensFailure\n",
    "try:\n",
    "    A_impl_B.deriveConsequent(assumptions=[A_impl_B])\n",
    "    assert False, \"Expecting an ModusPonensFailure error; should not make it to this point\"\n",
    "except ModusPonensFailure as e:\n",
    "    print(\"EXPECTED ERROR:\", e)"
   ]
  },
  {
   "cell_type": "markdown",
   "metadata": {},
   "source": [
    "When a **known truth** wraps an **implication**, the **assumptions** of the **known truth** are automatically added.  This is the case for any `Expression` method that accepts an `assumptions` argument and is called indirectly through a `KnownTruth` object that wraps the `Expression` object.  We demonstrate this in the following two cells:"
   ]
  },
  {
   "cell_type": "code",
   "execution_count": 11,
   "metadata": {},
   "outputs": [
    {
     "data": {
      "text/html": [
       "<strong id=\"A_impl_B_truth\">A_impl_B_truth:</strong> <span style=\"font-size:20px;\"><a class=\"ProveItLink\" href=\"__pv_it/06be501f646a7bac11b57bfea5020217a57c598d0/expr.ipynb\"><img src=\"data:image/png;base64,iVBORw0KGgoAAAANSUhEUgAAAFMAAAAVBAMAAADInc9CAAAAMFBMVEX///9ERETc3NyqqqpUVFS6\n",
       "urrMzMwyMjIQEBCIiIh2dnYiIiLu7u5mZmaYmJgAAABJJ2g3AAAAAXRSTlMAQObYZgAAAU9JREFU\n",
       "KM9jYGDgu8dACLCtUgBRPLsYCAO2ZhDJ+QHK24BFCZ//FxfHUiDjOojH1QARZf+AzTgOAQaG+wEM\n",
       "DCuQlb7+g1DAA2flTwBiB1SlTLafEErZD8BY84H+eb8AVSkn51eEUlYHGEsCiHccQFUaw/wPyYkr\n",
       "YYwvDAzqMgxQpbwFYNcFsP0Ey93eDQL7L0CD5cvMuftAjPcgIiMAbCUD019kn5sHQJwF9MBpkGvY\n",
       "gXpT2sBiKS4uH5GV8lSA1TICXccJdpn4AwaGiAQQCyjRjqw0fQ2Y4geayPcLyOAGhgIDC8itzCCP\n",
       "Irl1tww0WIFmsXyGuZULFKHKQFyPZKgJUrDqFzAgBRYPiCcPD3cGpgJEsLK1H0BSyiTxXYHh4f9a\n",
       "uFJGBQh98b+LS/kDBga0NICS5jBEcCplwK6Ujyil4PTKs5OYXNAKSemLictbAOAEWqBdr+e5AAAA\n",
       "AElFTkSuQmCC\n",
       "\" style=\"display:inline;vertical-align:middle;\" /></a> <a class=\"ProveItLink\" href=\"__pv_it/daefea40ee0d745c36e6a490f37edc56a08433c30/proof.ipynb\" style=\"text-decoration: none\">&#x22A2;&nbsp;</a><a class=\"ProveItLink\" href=\"__pv_it/ab822dd92f6f587d42cbcb4e55df2d568cc3b3260/expr.ipynb\"><img src=\"data:image/png;base64,iVBORw0KGgoAAAANSUhEUgAAAEAAAAAPBAMAAACmSdRUAAAAMFBMVEX///92dnYQEBBERERUVFS6\n",
       "urqIiIhmZmaqqqrc3Nzu7u6YmJgyMjIiIiLMzMwAAACFkkdwAAAAAXRSTlMAQObYZgAAAOhJREFU\n",
       "GNNjYACBtwxYwJb/Li42ARD2eWwKGJQZGNi/glnc9xcghOFMvm9A/AXMnFE/AaHgFIzB9hOo9SOY\n",
       "mZAfgFAQAmMwKzAw8GqBWKwL+jcgFDAmQBn8Dgych8EWLmV4DxZkvwsG36EK3rul1UI0BjDML0By\n",
       "PMdRCJ0/gYHrCti1Li7+BsjeW6MKpoxAikBGsDIwMB1Akuc7CPEpyIf7BYBEA9CxCkhuuAyR5/sN\n",
       "JPyBkpxAzPMByQkOiGDg/AOyEeTlXwgFc5CC4REw1Cbrn2Tgtv+D8IYlhGK3/+LicxpbFD1A5QIA\n",
       "YgVCLvPPxacAAAAASUVORK5CYII=\n",
       "\" style=\"display:inline;vertical-align:middle;\" /></a></span><br>"
      ],
      "text/plain": [
       "A_impl_B_truth: {A => B} |- A => B"
      ]
     },
     "execution_count": 11,
     "metadata": {},
     "output_type": "execute_result"
    }
   ],
   "source": [
    "A_impl_B_truth = A_impl_B.prove([A_impl_B])"
   ]
  },
  {
   "cell_type": "code",
   "execution_count": 12,
   "metadata": {},
   "outputs": [
    {
     "data": {
      "text/html": [
       "<span style=\"font-size:20px;\"><a class=\"ProveItLink\" href=\"__pv_it/81e0c24d457c10dd479ddd274e4d0437d391c2ab0/expr.ipynb\"><img src=\"data:image/png;base64,iVBORw0KGgoAAAANSUhEUgAAAGsAAAAVBAMAAACzuQ2OAAAAMFBMVEX///9ERETc3NyqqqpUVFS6\n",
       "urrMzMwyMjIQEBCIiIh2dnYiIiLu7u5mZmaYmJgAAABJJ2g3AAAAAXRSTlMAQObYZgAAAaBJREFU\n",
       "OMtjYGDgu8dACmBbpQCieHYxkAbYmkEk5wcobwOSVDY29U/+u7iIBzAwXAdxuBogguwfkFTUY7Wn\n",
       "kYGB9ysDwwpkba//IOT59h+As3kQrvsJxF9QtTHZfkJoU76vAGezw03gBKrg+4WqjZPzK0LbhPkB\n",
       "cDarA4zFCFTJ3YOqLYb5H0LlAfsHCDNWwhj8DgxMhQeg2ngLwD4IALkcCo4y5E8A0bd3g8D+C1Dh\n",
       "fM+Zt0HGvQdxMsDuYWVg+gvXFsCgfwEpAM2hLp6vwMCzBeRboGRKG1goxcXlIzzEXFz8BZC08VRA\n",
       "9EmAtIKsEwcSEQkQCxja4V5jYOAoQNKWvgZCfwE5cAEwWICYgQWkghmId8CUGQBlGhB+2y0DdQQo\n",
       "zPwNoH7jAiUqZUjKAEctkwFqkjFBijam7wxIEcADslH+AMN5kBHHQVGESDJMBUjRllGDpI1J4rsC\n",
       "w8P/tQwngAYq9hcx8Ml/hwclIzTB8Mp/cXGvY2BAS5NgEIQln2CIYGp7QEyGA2vjI1kbOL/x7EQI\n",
       "cBKVu1shmWsx6WUJANQzceylMolFAAAAAElFTkSuQmCC\n",
       "\" style=\"display:inline;vertical-align:middle;\" /></a> <a class=\"ProveItLink\" href=\"__pv_it/ba520be1c30c7902b7c297757a68834bf4ce10b30/proof.ipynb\" style=\"text-decoration: none\">&#x22A2;&nbsp;</a><a class=\"ProveItLink\" href=\"../packages/proveit/__pv_it/077b2ff79244fb4582cbe22c6e3356fa92a52f2f0/expr.ipynb\"><img src=\"data:image/png;base64,iVBORw0KGgoAAAANSUhEUgAAABAAAAAOBAMAAADUAYG5AAAAMFBMVEX///+qqqru7u4iIiJ2dnbc\n",
       "3NyIiIjMzMxmZmYQEBC6uroyMjJERERUVFSYmJgAAADLUcuvAAAAAXRSTlMAQObYZgAAAGpJREFU\n",
       "CNdjYGB4+//u3dMLGIBgDgMDxy8gzf4NiP8CGWxfGRj4vgAZPBMYGJgnARn8FxhY9ygAGfXX0pof\n",
       "gDTlBzAw2YIYJ0EckBBI53sHoBH/gIz7AhBjWH9DjancBLTl/N+7t/cxMAAA3u4f/5xagjYAAAAA\n",
       "SUVORK5CYII=\n",
       "\" style=\"display:inline;vertical-align:middle;\" /></a></span>"
      ],
      "text/plain": [
       "{A , A => B} |- B"
      ]
     },
     "execution_count": 12,
     "metadata": {},
     "output_type": "execute_result"
    }
   ],
   "source": [
    "# A => B is automatically included as an assumption because it is \n",
    "# an assumption of A_impl_B_truth\n",
    "A_impl_B_truth.deriveConsequent(assumptions=[A])"
   ]
  },
  {
   "cell_type": "markdown",
   "metadata": {},
   "source": [
    "### Using an overcomplete set of assumptions\n",
    "\n",
    "When taking any derivation step under a set of assumptions, any assumptions that are unnecessary will be discarded.  In the example below, we include $C$ as an extra, irrelevant assumption.  It is discarded as it is not needed in the proof."
   ]
  },
  {
   "cell_type": "code",
   "execution_count": 13,
   "metadata": {},
   "outputs": [
    {
     "data": {
      "text/html": [
       "<span style=\"font-size:20px;\"><a class=\"ProveItLink\" href=\"__pv_it/c2052c3dffd75b0f2ea6f413e47e8da6473765e40/expr.ipynb\"><img src=\"data:image/png;base64,iVBORw0KGgoAAAANSUhEUgAAAGwAAAAVBAMAAABRZRb3AAAAMFBMVEX///9ERETc3NyqqqpUVFS6\n",
       "urrMzMwyMjIQEBCIiIh2dnYiIiLu7u5mZmaYmJgAAABJJ2g3AAAAAXRSTlMAQObYZgAAAYJJREFU\n",
       "OMtjYGDgu8dAEshaBCJ5djGQCDIMgATnBwiHbQMWFXz+X1wcSxF8sCLeAiDB1QARYf+AzWQOAQaG\n",
       "+wFwLlgRWAdM2+s/CMUH4Kz8CUDsAOeCFSFrY7L9hNBWA2fNV2BgeL8AxoMoQtbGyfkVoS0EzpIA\n",
       "4h1wyyGKkLXFMP9DaOOaAGN9YWBQl4GLQxSBdYDDhYEngO0niObdDQZ/YSH3ZebcfXBdUEV8oHDJ\n",
       "AIcTKwPTX6QAZIYGOifQL6fhIQJTVMvAkNIGFklxcfmIHPDHW8EUI9A9nHDXwxQx1jEwRCSAWEAr\n",
       "25F0sVVBgoEfaBPfL5goTBEoXbGA/MYMCjAkv22EBl7+A6CCzzCXQxWB/cYFSi/KQFyP5DUHpGjT\n",
       "L4DGP0wRPAJ4QDbKI9KGOlK0sbUfYOD5zYCkCKaNSeK7AsPD/7VwbUJQ+uJ/F5dyoDt5+hWQFKGk\n",
       "SWSQgC7AqoDEwakNMwMxoGvjI1kbOF3x7CRC2wSU3A1OV3yLSS9LAHxvb5SGMlqOAAAAAElFTkSu\n",
       "QmCC\n",
       "\" style=\"display:inline;vertical-align:middle;\" /></a> <a class=\"ProveItLink\" href=\"__pv_it/fdc39327f8dd72e05015436ac7335ec2f29dd2c30/proof.ipynb\" style=\"text-decoration: none\">&#x22A2;&nbsp;</a><a class=\"ProveItLink\" href=\"../packages/proveit/__pv_it/077b2ff79244fb4582cbe22c6e3356fa92a52f2f0/expr.ipynb\"><img src=\"data:image/png;base64,iVBORw0KGgoAAAANSUhEUgAAABAAAAAOBAMAAADUAYG5AAAAMFBMVEX///+qqqru7u4iIiJ2dnbc\n",
       "3NyIiIjMzMxmZmYQEBC6uroyMjJERERUVFSYmJgAAADLUcuvAAAAAXRSTlMAQObYZgAAAGpJREFU\n",
       "CNdjYGB4+//u3dMLGIBgDgMDxy8gzf4NiP8CGWxfGRj4vgAZPBMYGJgnARn8FxhY9ygAGfXX0pof\n",
       "gDTlBzAw2YIYJ0EckBBI53sHoBH/gIz7AhBjWH9DjancBLTl/N+7t/cxMAAA3u4f/5xagjYAAAAA\n",
       "SUVORK5CYII=\n",
       "\" style=\"display:inline;vertical-align:middle;\" /></a></span>"
      ],
      "text/plain": [
       "{A => B , A} |- B"
      ]
     },
     "execution_count": 13,
     "metadata": {},
     "output_type": "execute_result"
    }
   ],
   "source": [
    "A_impl_B.deriveConsequent(assumptions=[A_impl_B, A, C]) "
   ]
  },
  {
   "cell_type": "markdown",
   "metadata": {},
   "source": [
    "## Hypothetical Reasoning\n",
    "\n",
    "*Hypothothetical reasoning* is, in some sense, the reverse process of *modus ponens*.  In *modus ponens* the consequent is derived from an implication (and its antecedent).  In *hypothetical reasoning* the implication is derived from the consequent, discarding the antecedent as an assumption.  A common notation to indicate a derivation rule is to display a horizontal line with a new truth below the line that can be derived from what is above the line.  Using this notation, we have\n",
    "\n",
    "Modus ponens: \n",
    "$\\begin{array}{c}\n",
    "\\vdash A \\Rightarrow B \\\\\n",
    "\\hline\n",
    "\\{A\\} \\vdash B\n",
    "\\end{array}$\n",
    "\n",
    "Hypothetical reasoning: \n",
    "$\\begin{array}{c}\n",
    "\\{A\\} \\vdash B \\\\\n",
    "\\hline\n",
    "\\vdash A \\Rightarrow B\n",
    "\\end{array}$\n",
    "\n",
    "We chose to write these in a form that exhibits the symmetry, though it does not matter whether something is an assumption or a prerequisite truth.  In our *modus ponens* example above, we actually had \n",
    "\n",
    "$\\begin{array}{c}\n",
    "\\hline\n",
    "\\{A, A \\Rightarrow B\\} \\vdash B\n",
    "\\end{array}$\n",
    "\n",
    "with no prerequisites, only assumptions.\n",
    "\n",
    "If $B$ is true assuming $A$, it follows, via *hypothetical reasoning*, that $A \\Rightarrow B$.  We prove an implication by assuming the antecedent and deriving the consequent, reasoning through a hypothetical scenario.  This step may be taken by calling `asImplication` (or `asImpl` as an abbreviation) on a `KnownTruth` object."
   ]
  },
  {
   "cell_type": "markdown",
   "metadata": {},
   "source": [
    "We will demonstrate *hypothetical reasoning* by proving the transitivity property of implications, $A \\Rightarrow C$ given $A \\Rightarrow B$ and $B \\Rightarrow C$.   We have already created the `A_impl_B` object to represent $A \\Rightarrow B$ and have proven $\\{A,A \\Rightarrow B\\} \\boldsymbol{\\vdash} B$.  Let us now create a `B_impl_C` object to represent $B \\Rightarrow C$:"
   ]
  },
  {
   "cell_type": "code",
   "execution_count": 14,
   "metadata": {},
   "outputs": [
    {
     "data": {
      "text/html": [
       "<strong id=\"B_impl_C\">B_impl_C:</strong> <a class=\"ProveItLink\" href=\"__pv_it/42830de3d5d651692ced1272b0fa0a601667b4020/expr.ipynb\"><img src=\"data:image/png;base64,iVBORw0KGgoAAAANSUhEUgAAAEEAAAAPBAMAAABJi79qAAAAMFBMVEX///+qqqru7u4iIiJ2dnbc\n",
       "3NyIiIjMzMxmZmYQEBC6uroyMjJERERUVFSYmJgAAADLUcuvAAAAAXRSTlMAQObYZgAAAPhJREFU\n",
       "GNNjYGB4+//u3dMLGDABU86NPtYGEGsOAwPHLywqPB8wcHU+ADLYvwHxX4ROGEPbCEj4BwAJtq8M\n",
       "DHxf4Cq4FaCMnSDGShCLZwIDA/MkuAquCxCa4yOIjAAR/BcYWPcoIKx3g1DxG0CkOoiov5bW/AAs\n",
       "2GwMAvZg5zP0P4DryQ9gYLJF9oM02Ov2AXCBkyBVD5DDYSdIyX8wG2w7yKPvHZBUVDuByPkggrEA\n",
       "FBz/gMR9AYQ7jA+B1d0HaedggAYH628kI2QhVH0CkHCCBUflJoQC1g0Qmg8YHitAruU4//fu7X1I\n",
       "RvDA/FC7t0OAARtgR+MDAAhbPiSyASIoAAAAAElFTkSuQmCC\n",
       "\" style=\"display:inline;vertical-align:middle;\" /></a><br>"
      ],
      "text/plain": [
       "B_impl_C: B => C"
      ]
     },
     "execution_count": 14,
     "metadata": {},
     "output_type": "execute_result"
    }
   ],
   "source": [
    "B_impl_C = Implies(B, C)"
   ]
  },
  {
   "cell_type": "markdown",
   "metadata": {},
   "source": [
    "Now we can prove $C$ given $A$, $A \\Rightarrow B$, and $B \\Rightarrow C$.  This uses the previously derived proof of $\\{A,A \\Rightarrow B\\} \\boldsymbol{\\vdash} B$ and extends it by deriving the consequent of $B \\Rightarrow C$ under appropriate assumptions. "
   ]
  },
  {
   "cell_type": "code",
   "execution_count": 15,
   "metadata": {},
   "outputs": [
    {
     "data": {
      "text/html": [
       "<strong id=\"CviaTransitivity\">CviaTransitivity:</strong> <span style=\"font-size:20px;\"><a class=\"ProveItLink\" href=\"__pv_it/736178d0c9979c0bae6a4fe7b8a249574760be180/expr.ipynb\"><img src=\"data:image/png;base64,iVBORw0KGgoAAAANSUhEUgAAALcAAAAVBAMAAAD2lGJJAAAAMFBMVEX///9ERETc3NyqqqpUVFS6\n",
       "urrMzMwyMjIQEBCIiIh2dnYiIiLu7u5mZmaYmJgAAABJJ2g3AAAAAXRSTlMAQObYZgAAAjlJREFU\n",
       "OMu1VT1IHFEQHlfvztPdNaTRQnCDRaqghZDSKxbEIpyIhU3AQlCw8AwKEkKMSFIF7iytFNKoCCrY\n",
       "+AN3TdTO6xREvSK9YhSJmpiZ97dv915xhTew875vdvbbt/PmvQUA9xye3+KrHg32DlTD4nPkk1eC\n",
       "jmm3xkz5v558v7nPRHSz59+dW0WAYyINX0R0RsuYMc5mFsC5NRLNlksQOynhqIu7+YJK0DEoGP+D\n",
       "142J4HwlONhDt+5FxNsvPJWqY/gkQfIaX3tvIgAJOYVpAoMQEc8tBhXUMQxIUIOZjd9NBCCW4qPz\n",
       "m/ybiHis0F1SmRrGhJwATSmwJgomgrbCh44M+X0p7jAKP2Fciijs7DL7K8LjvQun6qUBOWVJ+SIj\n",
       "Fyrhktwor0AfdBRlXMdotVN8XPTA3pLBECF7y3TyarESKDH8jS++76dfyEbQMO+Ar2xoIU05sxBh\n",
       "/TJN6k9BgzXj3cEhVmaA+owsuYbZyz7y2lLjXS6JYIiQjayRz7JPJclGulnHdDqRyd2ksKj5JteO\n",
       "/0OX7oQo4TXfbWXxNOU6quYNG+gsTEtc8e+RWJU8FXS2dSf2iyTKusQ6Uyewbwha8YA69xHshwAr\n",
       "e6119ijuqKMNjUizRB1d7PP3Xkj8VfYDuG13RTvrKayeeym2R9uN3/MZweG1RtQGk10yPHnGKxfa\n",
       "oXwtvfKTaCga6DedsOUHWJm4W8lRXaroQGfibpXE2Xlub2uRXAVPJSv7E/GN5/6o1j/0P+z2uKtH\n",
       "x+MYAAAAAElFTkSuQmCC\n",
       "\" style=\"display:inline;vertical-align:middle;\" /></a> <a class=\"ProveItLink\" href=\"__pv_it/11efcbcf719a7f2f0fe1976e596ddef692565c860/proof.ipynb\" style=\"text-decoration: none\">&#x22A2;&nbsp;</a><a class=\"ProveItLink\" href=\"../packages/proveit/__pv_it/985a1bdf1540838275dec15f4ad6de261cca93ce0/expr.ipynb\"><img src=\"data:image/png;base64,iVBORw0KGgoAAAANSUhEUgAAAA8AAAAOBAMAAAACpFvcAAAAMFBMVEX////MzMyqqqoiIiIyMjK6\n",
       "uroQEBB2dnbc3NyYmJhmZmZUVFRERESIiIju7u4AAAB204erAAAAAXRSTlMAQObYZgAAAGZJREFU\n",
       "CNdjYGDgu7NrJccCBgaGsgkMrMsmMDA8sQNy6hsYGNweABlhDAxcn4A0QxcDQ78DiPGQgWH9BAYI\n",
       "sG+AMv6DSaCGfBDNJMDAsB+kmwuI5S8AiTog5gSaEwXWIO29SgFIAQBC+RaDQlidVgAAAABJRU5E\n",
       "rkJggg==\n",
       "\" style=\"display:inline;vertical-align:middle;\" /></a></span><br>"
      ],
      "text/plain": [
       "CviaTransitivity: {A , A => B , B => C} |- C"
      ]
     },
     "execution_count": 15,
     "metadata": {},
     "output_type": "execute_result"
    }
   ],
   "source": [
    "CviaTransitivity = B_impl_C.deriveConsequent([A, A_impl_B, B_impl_C])"
   ]
  },
  {
   "cell_type": "markdown",
   "metadata": {},
   "source": [
    "We are now ready to apply *hypothetical reasoning* by calling `asImplication` on this `KnownTruth**:"
   ]
  },
  {
   "cell_type": "code",
   "execution_count": 16,
   "metadata": {},
   "outputs": [
    {
     "data": {
      "text/html": [
       "<strong id=\"A_impl_C\">A_impl_C:</strong> <span style=\"font-size:20px;\"><a class=\"ProveItLink\" href=\"__pv_it/a9b151a9a7e37090f228fdf5b78ade5acb5cd4560/expr.ipynb\"><img src=\"data:image/png;base64,iVBORw0KGgoAAAANSUhEUgAAAJ0AAAAVBAMAAACu6/FQAAAAMFBMVEX///9ERETc3NyqqqpUVFS6\n",
       "urrMzMwyMjIQEBCIiIh2dnYiIiLu7u5mZmaYmJgAAABJJ2g3AAAAAXRSTlMAQObYZgAAAf9JREFU\n",
       "OMtjYGDgu8dAFcC2SgFE8exioBJgawaRnB+gvA1YlPD5f3FxLMXGQQEnRe4+0GVguA5iczVAxNg/\n",
       "YFPJIcDAcD8AGwcJcPUxMMQC8Qpk817/QSg4AGflTwBiB2wcBh44oxqonusTqnlMtp8Q5tXAWfOB\n",
       "Yfx+ATYOAzvMVvYeIMHagGoeJ+dXhHkhcJYEEO84gI3DwApz6X0DkHsuoJoXw/wPKUAmwFhfGBjU\n",
       "ZbByGBhWQiim72BPJ0DN4y0AcwPYfoJ5u8HgLywJfJk5dx8DBuc2WNH+C2AOL9wh70FEBjjCWBmY\n",
       "/iLFGDM0WXACA/U0zF8oHBAwB2vlhgc8O9CClDYwM8XF5SNyEjjeCqYYgYHBCbMfhQP2VAXIQP4P\n",
       "8NgWf8DAEJEAYgEl2pGTehUk2PmBzuH7BRVE4YBA+hpwqgSbZwZyKSjuWUDhxwyKOaTw2wiNxXyg\n",
       "hSyfGdA5kPDbDYkbFnDCvQALPy5QPlMG4nqk4HNASnH6BdAEDuPAgAnUL6CI5AKpgKcXHpAqeUSu\n",
       "UEdKfmztBxh4fiNxYIAJZvR7AwbWSwxI5jFJfFdgePi/Fq5UCEpf/O/iUg70JU+/AoIDA4wKsMB2\n",
       "973MgGweBkhAF2BVwFI8YYjgNA+z3CKqAASbx0c988DlH89OIlROIKp8huQBvsVUrD8AopSgUXB2\n",
       "lz4AAAAASUVORK5CYII=\n",
       "\" style=\"display:inline;vertical-align:middle;\" /></a> <a class=\"ProveItLink\" href=\"__pv_it/3a701dc387d94d49d55cd5927d31eb6ffa0c23d90/proof.ipynb\" style=\"text-decoration: none\">&#x22A2;&nbsp;</a><a class=\"ProveItLink\" href=\"__pv_it/666bca2c98a55cab9264db49b27aa7da3ed1ce280/expr.ipynb\"><img src=\"data:image/png;base64,iVBORw0KGgoAAAANSUhEUgAAAD8AAAAPBAMAAAChCwpBAAAAMFBMVEX///92dnYQEBBERERUVFS6\n",
       "urqIiIhmZmaqqqrc3Nzu7u6YmJgyMjIiIiLMzMwAAACFkkdwAAAAAXRSTlMAQObYZgAAAOFJREFU\n",
       "GNNjYACBtwxYAFeyezVnAYR9HpsCoQ0MrEUbwEzu+wsQ+mCMNbeAhPwEMHtG/QS4Ah6Y2kMgRhCE\n",
       "nZAfAFfA6gCh2X+AyOkQsQX9GxBWi0Go+QdA5DoweynD+wQQXXsXBO5DHF6PpCeAYX4Bkut7wPbd\n",
       "RziLz8XF3wDZ/4dAKv6D2WAXszIwMB1AUvBGCkTqgwiOByCygYGBVwHhhrtWYGX+IM3sIBYnUAHP\n",
       "B4QBLRAK7G6wWWuAmPkXXJ4Tahs3MBzCQQ6drH+Sgdv+D9wbzDDXPzlS3oAtivjQ+AD0rD2U4WZv\n",
       "AQAAAABJRU5ErkJggg==\n",
       "\" style=\"display:inline;vertical-align:middle;\" /></a></span><br>"
      ],
      "text/plain": [
       "A_impl_C: {A => B , B => C} |- A => C"
      ]
     },
     "execution_count": 16,
     "metadata": {},
     "output_type": "execute_result"
    }
   ],
   "source": [
    "A_impl_C = CviaTransitivity.asImplication(A)"
   ]
  },
  {
   "cell_type": "markdown",
   "metadata": {},
   "source": [
    "Below is the full **proof** of this **known truth**:"
   ]
  },
  {
   "cell_type": "code",
   "execution_count": 17,
   "metadata": {},
   "outputs": [
    {
     "data": {
      "text/html": [
       "<table><tr><th>&nbsp;</th><th>step type</th><th>requirements</th><th>statement</th></tr>\n",
       "<tr><td>0</td><td>hypothetical reasoning</td><td>1</td><td><span style=\"font-size:20px;\"><a class=\"ProveItLink\" href=\"__pv_it/a9b151a9a7e37090f228fdf5b78ade5acb5cd4560/expr.ipynb\"><img src=\"data:image/png;base64,iVBORw0KGgoAAAANSUhEUgAAAJ0AAAAVBAMAAACu6/FQAAAAMFBMVEX///9ERETc3NyqqqpUVFS6\n",
       "urrMzMwyMjIQEBCIiIh2dnYiIiLu7u5mZmaYmJgAAABJJ2g3AAAAAXRSTlMAQObYZgAAAf9JREFU\n",
       "OMtjYGDgu8dAFcC2SgFE8exioBJgawaRnB+gvA1YlPD5f3FxLMXGQQEnRe4+0GVguA5iczVAxNg/\n",
       "YFPJIcDAcD8AGwcJcPUxMMQC8Qpk817/QSg4AGflTwBiB2wcBh44oxqonusTqnlMtp8Q5tXAWfOB\n",
       "Yfx+ATYOAzvMVvYeIMHagGoeJ+dXhHkhcJYEEO84gI3DwApz6X0DkHsuoJoXw/wPKUAmwFhfGBjU\n",
       "ZbByGBhWQiim72BPJ0DN4y0AcwPYfoJ5u8HgLywJfJk5dx8DBuc2WNH+C2AOL9wh70FEBjjCWBmY\n",
       "/iLFGDM0WXACA/U0zF8oHBAwB2vlhgc8O9CClDYwM8XF5SNyEjjeCqYYgYHBCbMfhQP2VAXIQP4P\n",
       "8NgWf8DAEJEAYgEl2pGTehUk2PmBzuH7BRVE4YBA+hpwqgSbZwZyKSjuWUDhxwyKOaTw2wiNxXyg\n",
       "hSyfGdA5kPDbDYkbFnDCvQALPy5QPlMG4nqk4HNASnH6BdAEDuPAgAnUL6CI5AKpgKcXHpAqeUSu\n",
       "UEdKfmztBxh4fiNxYIAJZvR7AwbWSwxI5jFJfFdgePi/Fq5UCEpf/O/iUg70JU+/AoIDA4wKsMB2\n",
       "973MgGweBkhAF2BVwFI8YYjgNA+z3CKqAASbx0c988DlH89OIlROIKp8huQBvsVUrD8AopSgUXB2\n",
       "lz4AAAAASUVORK5CYII=\n",
       "\" style=\"display:inline;vertical-align:middle;\" /></a> <a class=\"ProveItLink\" href=\"__pv_it/3a701dc387d94d49d55cd5927d31eb6ffa0c23d90/proof.ipynb\" style=\"text-decoration: none\">&#x22A2;&nbsp;</a><a class=\"ProveItLink\" href=\"__pv_it/666bca2c98a55cab9264db49b27aa7da3ed1ce280/expr.ipynb\"><img src=\"data:image/png;base64,iVBORw0KGgoAAAANSUhEUgAAAD8AAAAPBAMAAAChCwpBAAAAMFBMVEX///92dnYQEBBERERUVFS6\n",
       "urqIiIhmZmaqqqrc3Nzu7u6YmJgyMjIiIiLMzMwAAACFkkdwAAAAAXRSTlMAQObYZgAAAOFJREFU\n",
       "GNNjYACBtwxYAFeyezVnAYR9HpsCoQ0MrEUbwEzu+wsQ+mCMNbeAhPwEMHtG/QS4Ah6Y2kMgRhCE\n",
       "nZAfAFfA6gCh2X+AyOkQsQX9GxBWi0Go+QdA5DoweynD+wQQXXsXBO5DHF6PpCeAYX4Bkut7wPbd\n",
       "RziLz8XF3wDZ/4dAKv6D2WAXszIwMB1AUvBGCkTqgwiOByCygYGBVwHhhrtWYGX+IM3sIBYnUAHP\n",
       "B4QBLRAK7G6wWWuAmPkXXJ4Tahs3MBzCQQ6drH+Sgdv+D9wbzDDXPzlS3oAtivjQ+AD0rD2U4WZv\n",
       "AQAAAABJRU5ErkJggg==\n",
       "\" style=\"display:inline;vertical-align:middle;\" /></a></span></td></tr>\n",
       "<tr><td>1</td><td>modus ponens</td><td>2, 3</td><td><span style=\"font-size:20px;\"><a class=\"ProveItLink\" href=\"__pv_it/736178d0c9979c0bae6a4fe7b8a249574760be180/expr.ipynb\"><img src=\"data:image/png;base64,iVBORw0KGgoAAAANSUhEUgAAALcAAAAVBAMAAAD2lGJJAAAAMFBMVEX///9ERETc3NyqqqpUVFS6\n",
       "urrMzMwyMjIQEBCIiIh2dnYiIiLu7u5mZmaYmJgAAABJJ2g3AAAAAXRSTlMAQObYZgAAAjlJREFU\n",
       "OMu1VT1IHFEQHlfvztPdNaTRQnCDRaqghZDSKxbEIpyIhU3AQlCw8AwKEkKMSFIF7iytFNKoCCrY\n",
       "+AN3TdTO6xREvSK9YhSJmpiZ97dv915xhTew875vdvbbt/PmvQUA9xye3+KrHg32DlTD4nPkk1eC\n",
       "jmm3xkz5v558v7nPRHSz59+dW0WAYyINX0R0RsuYMc5mFsC5NRLNlksQOynhqIu7+YJK0DEoGP+D\n",
       "142J4HwlONhDt+5FxNsvPJWqY/gkQfIaX3tvIgAJOYVpAoMQEc8tBhXUMQxIUIOZjd9NBCCW4qPz\n",
       "m/ybiHis0F1SmRrGhJwATSmwJgomgrbCh44M+X0p7jAKP2Fciijs7DL7K8LjvQun6qUBOWVJ+SIj\n",
       "Fyrhktwor0AfdBRlXMdotVN8XPTA3pLBECF7y3TyarESKDH8jS++76dfyEbQMO+Ar2xoIU05sxBh\n",
       "/TJN6k9BgzXj3cEhVmaA+owsuYbZyz7y2lLjXS6JYIiQjayRz7JPJclGulnHdDqRyd2ksKj5JteO\n",
       "/0OX7oQo4TXfbWXxNOU6quYNG+gsTEtc8e+RWJU8FXS2dSf2iyTKusQ6Uyewbwha8YA69xHshwAr\n",
       "e6119ijuqKMNjUizRB1d7PP3Xkj8VfYDuG13RTvrKayeeym2R9uN3/MZweG1RtQGk10yPHnGKxfa\n",
       "oXwtvfKTaCga6DedsOUHWJm4W8lRXaroQGfibpXE2Xlub2uRXAVPJSv7E/GN5/6o1j/0P+z2uKtH\n",
       "x+MYAAAAAElFTkSuQmCC\n",
       "\" style=\"display:inline;vertical-align:middle;\" /></a> <a class=\"ProveItLink\" href=\"__pv_it/11efcbcf719a7f2f0fe1976e596ddef692565c860/proof.ipynb\" style=\"text-decoration: none\">&#x22A2;&nbsp;</a><a class=\"ProveItLink\" href=\"../packages/proveit/__pv_it/985a1bdf1540838275dec15f4ad6de261cca93ce0/expr.ipynb\"><img src=\"data:image/png;base64,iVBORw0KGgoAAAANSUhEUgAAAA8AAAAOBAMAAAACpFvcAAAAMFBMVEX////MzMyqqqoiIiIyMjK6\n",
       "uroQEBB2dnbc3NyYmJhmZmZUVFRERESIiIju7u4AAAB204erAAAAAXRSTlMAQObYZgAAAGZJREFU\n",
       "CNdjYGDgu7NrJccCBgaGsgkMrMsmMDA8sQNy6hsYGNweABlhDAxcn4A0QxcDQ78DiPGQgWH9BAYI\n",
       "sG+AMv6DSaCGfBDNJMDAsB+kmwuI5S8AiTog5gSaEwXWIO29SgFIAQBC+RaDQlidVgAAAABJRU5E\n",
       "rkJggg==\n",
       "\" style=\"display:inline;vertical-align:middle;\" /></a></span></td></tr>\n",
       "<tr><td>2</td><td>assumption</td><td></td><td><span style=\"font-size:20px;\"><a class=\"ProveItLink\" href=\"__pv_it/aec8eff27a3420fdfdb35204b36fc64201a582270/expr.ipynb\"><img src=\"data:image/png;base64,iVBORw0KGgoAAAANSUhEUgAAAFMAAAAVBAMAAADInc9CAAAAMFBMVEX////c3NxERESqqqpUVFS6\n",
       "urrMzMwyMjIQEBCIiIh2dnYiIiLu7u5mZmaYmJgAAABXZE4RAAAAAXRSTlMAQObYZgAAAVZJREFU\n",
       "KM9jYGDgu8dACLCtEgBRPLsYCAO2ZhDJ+QFI8Pl/cXEqxabopMrdB7IMDNdBbK4GEMmhwMBwPwBT\n",
       "JVcfA0MsEK9AKM2fAMQOcBUHoDRPNZDF9RFF6Xygu98vgCutgdLsPUCCtQFFqQYQ7zgAVxoCpe8b\n",
       "AAnGCyhKvzAwiOsgOXECmGL8DnZFAlQpbwEoML7MnLsPLMu7Gwz+Qjj/YHrfg4gMkL85gS4/7YDk\n",
       "c2ZwyHF/hPHZgY5IaQOxmICu4PyHHErHW4EE/wewA0CE+gMGhogEkBjQRL5fyNFTBfIjB1ipGch8\n",
       "UOiwgNyaD9TD8hnJrZvAocHyB0RegLmVawM0WOULkJwKcTfbT5ACkC5EYAGDla0dEawM4jCPGzCw\n",
       "XmRAVnrpv4tL+QMkpyrCnOzue5kBRSkGSEAXwK2UAatSPqKUgtMrz05ickErmOJbTFzeAgD9sl8j\n",
       "gQWWbAAAAABJRU5ErkJggg==\n",
       "\" style=\"display:inline;vertical-align:middle;\" /></a> <a class=\"ProveItLink\" href=\"__pv_it/964b1223c961b3c142cbad3085bd288f1145fcde0/proof.ipynb\" style=\"text-decoration: none\">&#x22A2;&nbsp;</a><a class=\"ProveItLink\" href=\"__pv_it/42830de3d5d651692ced1272b0fa0a601667b4020/expr.ipynb\"><img src=\"data:image/png;base64,iVBORw0KGgoAAAANSUhEUgAAAEEAAAAPBAMAAABJi79qAAAAMFBMVEX///+qqqru7u4iIiJ2dnbc\n",
       "3NyIiIjMzMxmZmYQEBC6uroyMjJERERUVFSYmJgAAADLUcuvAAAAAXRSTlMAQObYZgAAAPhJREFU\n",
       "GNNjYGB4+//u3dMLGDABU86NPtYGEGsOAwPHLywqPB8wcHU+ADLYvwHxX4ROGEPbCEj4BwAJtq8M\n",
       "DHxf4Cq4FaCMnSDGShCLZwIDA/MkuAquCxCa4yOIjAAR/BcYWPcoIKx3g1DxG0CkOoiov5bW/AAs\n",
       "2GwMAvZg5zP0P4DryQ9gYLJF9oM02Ov2AXCBkyBVD5DDYSdIyX8wG2w7yKPvHZBUVDuByPkggrEA\n",
       "FBz/gMR9AYQ7jA+B1d0HaedggAYH628kI2QhVH0CkHCCBUflJoQC1g0Qmg8YHitAruU4//fu7X1I\n",
       "RvDA/FC7t0OAARtgR+MDAAhbPiSyASIoAAAAAElFTkSuQmCC\n",
       "\" style=\"display:inline;vertical-align:middle;\" /></a></span></td></tr>\n",
       "<tr><td>3</td><td>modus ponens</td><td>4, 5</td><td><span style=\"font-size:20px;\"><a class=\"ProveItLink\" href=\"__pv_it/81e0c24d457c10dd479ddd274e4d0437d391c2ab0/expr.ipynb\"><img src=\"data:image/png;base64,iVBORw0KGgoAAAANSUhEUgAAAGsAAAAVBAMAAACzuQ2OAAAAMFBMVEX///9ERETc3NyqqqpUVFS6\n",
       "urrMzMwyMjIQEBCIiIh2dnYiIiLu7u5mZmaYmJgAAABJJ2g3AAAAAXRSTlMAQObYZgAAAaBJREFU\n",
       "OMtjYGDgu8dACmBbpQCieHYxkAbYmkEk5wcobwOSVDY29U/+u7iIBzAwXAdxuBogguwfkFTUY7Wn\n",
       "kYGB9ysDwwpkba//IOT59h+As3kQrvsJxF9QtTHZfkJoU76vAGezw03gBKrg+4WqjZPzK0LbhPkB\n",
       "cDarA4zFCFTJ3YOqLYb5H0LlAfsHCDNWwhj8DgxMhQeg2ngLwD4IALkcCo4y5E8A0bd3g8D+C1Dh\n",
       "fM+Zt0HGvQdxMsDuYWVg+gvXFsCgfwEpAM2hLp6vwMCzBeRboGRKG1goxcXlIzzEXFz8BZC08VRA\n",
       "9EmAtIKsEwcSEQkQCxja4V5jYOAoQNKWvgZCfwE5cAEwWICYgQWkghmId8CUGQBlGhB+2y0DdQQo\n",
       "zPwNoH7jAiUqZUjKAEctkwFqkjFBijam7wxIEcADslH+AMN5kBHHQVGESDJMBUjRllGDpI1J4rsC\n",
       "w8P/tQwngAYq9hcx8Ml/hwclIzTB8Mp/cXGvY2BAS5NgEIQln2CIYGp7QEyGA2vjI1kbOL/x7EQI\n",
       "cBKVu1shmWsx6WUJANQzceylMolFAAAAAElFTkSuQmCC\n",
       "\" style=\"display:inline;vertical-align:middle;\" /></a> <a class=\"ProveItLink\" href=\"__pv_it/ba520be1c30c7902b7c297757a68834bf4ce10b30/proof.ipynb\" style=\"text-decoration: none\">&#x22A2;&nbsp;</a><a class=\"ProveItLink\" href=\"../packages/proveit/__pv_it/077b2ff79244fb4582cbe22c6e3356fa92a52f2f0/expr.ipynb\"><img src=\"data:image/png;base64,iVBORw0KGgoAAAANSUhEUgAAABAAAAAOBAMAAADUAYG5AAAAMFBMVEX///+qqqru7u4iIiJ2dnbc\n",
       "3NyIiIjMzMxmZmYQEBC6uroyMjJERERUVFSYmJgAAADLUcuvAAAAAXRSTlMAQObYZgAAAGpJREFU\n",
       "CNdjYGB4+//u3dMLGIBgDgMDxy8gzf4NiP8CGWxfGRj4vgAZPBMYGJgnARn8FxhY9ygAGfXX0pof\n",
       "gDTlBzAw2YIYJ0EckBBI53sHoBH/gIz7AhBjWH9DjancBLTl/N+7t/cxMAAA3u4f/5xagjYAAAAA\n",
       "SUVORK5CYII=\n",
       "\" style=\"display:inline;vertical-align:middle;\" /></a></span></td></tr>\n",
       "<tr><td>4</td><td>assumption</td><td></td><td><span style=\"font-size:20px;\"><a class=\"ProveItLink\" href=\"__pv_it/06be501f646a7bac11b57bfea5020217a57c598d0/expr.ipynb\"><img src=\"data:image/png;base64,iVBORw0KGgoAAAANSUhEUgAAAFMAAAAVBAMAAADInc9CAAAAMFBMVEX///9ERETc3NyqqqpUVFS6\n",
       "urrMzMwyMjIQEBCIiIh2dnYiIiLu7u5mZmaYmJgAAABJJ2g3AAAAAXRSTlMAQObYZgAAAU9JREFU\n",
       "KM9jYGDgu8dACLCtUgBRPLsYCAO2ZhDJ+QHK24BFCZ//FxfHUiDjOojH1QARZf+AzTgOAQaG+wEM\n",
       "DCuQlb7+g1DAA2flTwBiB1SlTLafEErZD8BY84H+eb8AVSkn51eEUlYHGEsCiHccQFUaw/wPyYkr\n",
       "YYwvDAzqMgxQpbwFYNcFsP0Ey93eDQL7L0CD5cvMuftAjPcgIiMAbCUD019kn5sHQJwF9MBpkGvY\n",
       "gXpT2sBiKS4uH5GV8lSA1TICXccJdpn4AwaGiAQQCyjRjqw0fQ2Y4geayPcLyOAGhgIDC8itzCCP\n",
       "Irl1tww0WIFmsXyGuZULFKHKQFyPZKgJUrDqFzAgBRYPiCcPD3cGpgJEsLK1H0BSyiTxXYHh4f9a\n",
       "uFJGBQh98b+LS/kDBga0NICS5jBEcCplwK6Ujyil4PTKs5OYXNAKSemLictbAOAEWqBdr+e5AAAA\n",
       "AElFTkSuQmCC\n",
       "\" style=\"display:inline;vertical-align:middle;\" /></a> <a class=\"ProveItLink\" href=\"__pv_it/daefea40ee0d745c36e6a490f37edc56a08433c30/proof.ipynb\" style=\"text-decoration: none\">&#x22A2;&nbsp;</a><a class=\"ProveItLink\" href=\"__pv_it/ab822dd92f6f587d42cbcb4e55df2d568cc3b3260/expr.ipynb\"><img src=\"data:image/png;base64,iVBORw0KGgoAAAANSUhEUgAAAEAAAAAPBAMAAACmSdRUAAAAMFBMVEX///92dnYQEBBERERUVFS6\n",
       "urqIiIhmZmaqqqrc3Nzu7u6YmJgyMjIiIiLMzMwAAACFkkdwAAAAAXRSTlMAQObYZgAAAOhJREFU\n",
       "GNNjYACBtwxYwJb/Li42ARD2eWwKGJQZGNi/glnc9xcghOFMvm9A/AXMnFE/AaHgFIzB9hOo9SOY\n",
       "mZAfgFAQAmMwKzAw8GqBWKwL+jcgFDAmQBn8Dgych8EWLmV4DxZkvwsG36EK3rul1UI0BjDML0By\n",
       "PMdRCJ0/gYHrCti1Li7+BsjeW6MKpoxAikBGsDIwMB1Akuc7CPEpyIf7BYBEA9CxCkhuuAyR5/sN\n",
       "JPyBkpxAzPMByQkOiGDg/AOyEeTlXwgFc5CC4REw1Cbrn2Tgtv+D8IYlhGK3/+LicxpbFD1A5QIA\n",
       "YgVCLvPPxacAAAAASUVORK5CYII=\n",
       "\" style=\"display:inline;vertical-align:middle;\" /></a></span></td></tr>\n",
       "<tr><td>5</td><td>assumption</td><td></td><td><span style=\"font-size:20px;\"><a class=\"ProveItLink\" href=\"__pv_it/2700633c29669936275e69317ebd77c3a6285b9c0/expr.ipynb\"><img src=\"data:image/png;base64,iVBORw0KGgoAAAANSUhEUgAAACIAAAAVBAMAAADRFiHkAAAAMFBMVEX///9ERETc3NyqqqpUVFS6\n",
       "urrMzMwyMjIQEBCIiIh2dnYiIiLu7u5mZmaYmJgAAABJJ2g3AAAAAXRSTlMAQObYZgAAAK1JREFU\n",
       "GNNjYGDgu8cAA1mLQCTPLgYEyDAAEpwfIBy2DUCCtwBIcDVARNg/wDgwkdd/0ESYbD+hiXByfkUT\n",
       "iWH+B+OAjWfgCWD7CaT4QMZnBIBEWBmY/oLoWgaGlDawphQXl48gmrGOgSEiAcQCKmwH0SAPsIDM\n",
       "YQbiHTBzuECuVwbiemTbeUDq5A8gRJgkviswPPxfi+YvMMAhwocsAvYAz07kMAR7gG8xSjgDAMfT\n",
       "LYlEWPTfAAAAAElFTkSuQmCC\n",
       "\" style=\"display:inline;vertical-align:middle;\" /></a> <a class=\"ProveItLink\" href=\"__pv_it/0cbf4ba18936f5d879bcab1d3c6cf36bbb2fc9690/proof.ipynb\" style=\"text-decoration: none\">&#x22A2;&nbsp;</a><a class=\"ProveItLink\" href=\"../packages/proveit/__pv_it/2cbe72a7ad6f655694dd697106680215e8489b600/expr.ipynb\"><img src=\"data:image/png;base64,iVBORw0KGgoAAAANSUhEUgAAAA8AAAAOBAMAAAACpFvcAAAALVBMVEX///8QEBBERERUVFS6urqI\n",
       "iIhmZmaqqqrc3Nzu7u6YmJgyMjIiIiLMzMwAAADtIaYWAAAAAXRSTlMAQObYZgAAAFtJREFUCNdj\n",
       "YACBOwxQsA9Kc52bAGG05zVAGAFxDmCaZULdAjBjCsO9ADDDgaEvAUTzGhvbKYCVMDAwbgAxChgY\n",
       "eASANAeQwf0AyJgNxEwvGRia5HYwcOm9TgAA6BoR3jrzwFcAAAAASUVORK5CYII=\n",
       "\" style=\"display:inline;vertical-align:middle;\" /></a></span></td></tr>\n",
       "</table>"
      ],
      "text/plain": [
       "\tstep type\trequirements\tstatement\n",
       "0\thypothetical reasoning\t1\t{A => B , B => C} |- A => C\n",
       "1\tmodus ponens\t2, 3\t{A , A => B , B => C} |- C\n",
       "2\tassumption\t\t{B => C} |- B => C\n",
       "3\tmodus ponens\t4, 5\t{A , A => B} |- B\n",
       "4\tassumption\t\t{A => B} |- A => B\n",
       "5\tassumption\t\t{A} |- A"
      ]
     },
     "execution_count": 17,
     "metadata": {},
     "output_type": "execute_result"
    }
   ],
   "source": [
    "A_impl_C.proof()"
   ]
  },
  {
   "cell_type": "markdown",
   "metadata": {},
   "source": [
    "Note that we can take any of the assumptions to be the antecedent and then that assumption will be eliminated:"
   ]
  },
  {
   "cell_type": "code",
   "execution_count": 18,
   "metadata": {},
   "outputs": [
    {
     "data": {
      "text/html": [
       "<strong id=\"A_impl_B__impl__C\">A_impl_B__impl__C:</strong> <span style=\"font-size:20px;\"><a class=\"ProveItLink\" href=\"__pv_it/e2d366710bed94f75eebd60ae483c56f1f6f18370/expr.ipynb\"><img src=\"data:image/png;base64,iVBORw0KGgoAAAANSUhEUgAAAG0AAAAVBAMAAAC+p33JAAAAMFBMVEX///9ERETc3NyqqqpUVFS6\n",
       "urrMzMwyMjIQEBCIiIh2dnYiIiLu7u5mZmaYmJgAAABJJ2g3AAAAAXRSTlMAQObYZgAAAbJJREFU\n",
       "OMtjYGDgu8dAEmBbpQCieHYxkAjYmkEk5wcoNxsm/uS/i4t4ABYNPBN97zFdYGC4DuJwNUBF6+Hy\n",
       "jQwMvF+x6FvxgIH1xgMgjayPb/8BmDt+AvEXhC0wxvE9QGK9Apo+5fsKUHnOT0BTfsH1scPMqwAx\n",
       "IhjQ9E2YD/MSI1CEuweuj9UBQvN+BpG6aPpYD9g/gCrkd2BgKjyA8NZKCKVfACKPwfTxgrkMRxny\n",
       "J0DV5XvOvA0x4/ZuENh/Acy5DzOX4T2IyIA4L4BB/wJUeL4CA88W5HA0ByvZrwD3MVBlShskDF1c\n",
       "/AWgwhIgvQ+Q460CpPE/mA12vzhQNiIB7D0GBo4CqDJQFLxfgKQvfQ2I7AcRzCDV3CBJFrByAyAP\n",
       "GrBs/4CEvwHCf7tlwOL+IKt44f7j2gAkmIDK2D9AXAGKPqbvSNaZQIMLFG5gmxHxcBwUbX8YeH5D\n",
       "oy+jBqGNCep+PmD8xSqg6FPsL2Lgk/9+gadfgYFX/ouLex2SdYywcEwpuWvAwICeXiCxr4Al22Cm\n",
       "bwx9fERlQLA+PtL1gfMfz04kkQlE5fdWiB2LyShfAF2IdSlAaCzgAAAAAElFTkSuQmCC\n",
       "\" style=\"display:inline;vertical-align:middle;\" /></a> <a class=\"ProveItLink\" href=\"__pv_it/28fddcc4d844322e167f14f690d6272f006736620/proof.ipynb\" style=\"text-decoration: none\">&#x22A2;&nbsp;</a><a class=\"ProveItLink\" href=\"__pv_it/79c25f3573f21d9efed52012893d3b62661b27dd0/expr.ipynb\"><img src=\"data:image/png;base64,iVBORw0KGgoAAAANSUhEUgAAAH8AAAAVBAMAAACd/CwcAAAAMFBMVEX////c3NwiIiJERESqqqqY\n",
       "mJh2dnZmZmYQEBDu7u4yMjJUVFTMzMyIiIi6uroAAAAs73DqAAAAAXRSTlMAQObYZgAAAcRJREFU\n",
       "OMtjYKAY8F0gqCQOr+xpCHUIm1z0/927rR4wsB/AJsl5eXspYwEDw0oIdz1W05sZGNj/MTAswCaX\n",
       "EcDAVxHAwAvxAav+BITRcBbPXyD+zcAQxoApOUsTSOQLMHBANIrUC8DVcMHN4v0INPobA8MMBkzJ\n",
       "FSDGCwaGVxDuhfsPEMG6AcZibmBgYOoE0g4YkuxfQKQ4A0MZRHiCfwDCllwYg38DA+NioE1sBRiS\n",
       "8uBwmcPAsBTMncdwHhwWRUogoA9Tf37v3SKQwSwLMCTrYRb2gckHDPJIljB4Qf1zX4CBUxvkwAYM\n",
       "SX1YmP0Dh/bu3fsNkKN4BcQEC5AhQKt4PmBI/gezJ0AN4GNg4ECO61OZEBoYgwzxCWgGQCT7QQQL\n",
       "MIW1gBjAQGZqQHhTyRKaDL4Cif0OMC+gSO4HxSI7EJsCMSNQDReSJd5IyYDxFyiZLcCQBAc6yC3p\n",
       "oEQFivKfcCWMC5CSwQlQUkeKRpgkKzAdPAcF5CMGBuH+hQys9r/gipihAcxu/3v3LnA0cyFSGUyS\n",
       "4fTqcnDy4hDAyCU8GCIz8EiyJhBRZuTik1xJWD/nAnyy0oQN4BbAJ8tIuEi7g0cOAB2DcpoVpUDU\n",
       "AAAAAElFTkSuQmCC\n",
       "\" style=\"display:inline;vertical-align:middle;\" /></a></span><br>"
      ],
      "text/plain": [
       "A_impl_B__impl__C: {A , B => C} |- (A => B) => C"
      ]
     },
     "execution_count": 18,
     "metadata": {},
     "output_type": "execute_result"
    }
   ],
   "source": [
    "A_impl_B__impl__C = CviaTransitivity.asImplication(A_impl_B)"
   ]
  },
  {
   "cell_type": "code",
   "execution_count": 19,
   "metadata": {},
   "outputs": [
    {
     "data": {
      "text/html": [
       "<table><tr><th>&nbsp;</th><th>step type</th><th>requirements</th><th>statement</th></tr>\n",
       "<tr><td>0</td><td>hypothetical reasoning</td><td>1</td><td><span style=\"font-size:20px;\"><a class=\"ProveItLink\" href=\"__pv_it/e2d366710bed94f75eebd60ae483c56f1f6f18370/expr.ipynb\"><img src=\"data:image/png;base64,iVBORw0KGgoAAAANSUhEUgAAAG0AAAAVBAMAAAC+p33JAAAAMFBMVEX///9ERETc3NyqqqpUVFS6\n",
       "urrMzMwyMjIQEBCIiIh2dnYiIiLu7u5mZmaYmJgAAABJJ2g3AAAAAXRSTlMAQObYZgAAAbJJREFU\n",
       "OMtjYGDgu8dAEmBbpQCieHYxkAjYmkEk5wcoNxsm/uS/i4t4ABYNPBN97zFdYGC4DuJwNUBF6+Hy\n",
       "jQwMvF+x6FvxgIH1xgMgjayPb/8BmDt+AvEXhC0wxvE9QGK9Apo+5fsKUHnOT0BTfsH1scPMqwAx\n",
       "IhjQ9E2YD/MSI1CEuweuj9UBQvN+BpG6aPpYD9g/gCrkd2BgKjyA8NZKCKVfACKPwfTxgrkMRxny\n",
       "J0DV5XvOvA0x4/ZuENh/Acy5DzOX4T2IyIA4L4BB/wJUeL4CA88W5HA0ByvZrwD3MVBlShskDF1c\n",
       "/AWgwhIgvQ+Q460CpPE/mA12vzhQNiIB7D0GBo4CqDJQFLxfgKQvfQ2I7AcRzCDV3CBJFrByAyAP\n",
       "GrBs/4CEvwHCf7tlwOL+IKt44f7j2gAkmIDK2D9AXAGKPqbvSNaZQIMLFG5gmxHxcBwUbX8YeH5D\n",
       "oy+jBqGNCep+PmD8xSqg6FPsL2Lgk/9+gadfgYFX/ouLex2SdYywcEwpuWvAwICeXiCxr4Al22Cm\n",
       "bwx9fERlQLA+PtL1gfMfz04kkQlE5fdWiB2LyShfAF2IdSlAaCzgAAAAAElFTkSuQmCC\n",
       "\" style=\"display:inline;vertical-align:middle;\" /></a> <a class=\"ProveItLink\" href=\"__pv_it/28fddcc4d844322e167f14f690d6272f006736620/proof.ipynb\" style=\"text-decoration: none\">&#x22A2;&nbsp;</a><a class=\"ProveItLink\" href=\"__pv_it/79c25f3573f21d9efed52012893d3b62661b27dd0/expr.ipynb\"><img src=\"data:image/png;base64,iVBORw0KGgoAAAANSUhEUgAAAH8AAAAVBAMAAACd/CwcAAAAMFBMVEX////c3NwiIiJERESqqqqY\n",
       "mJh2dnZmZmYQEBDu7u4yMjJUVFTMzMyIiIi6uroAAAAs73DqAAAAAXRSTlMAQObYZgAAAcRJREFU\n",
       "OMtjYKAY8F0gqCQOr+xpCHUIm1z0/927rR4wsB/AJsl5eXspYwEDw0oIdz1W05sZGNj/MTAswCaX\n",
       "EcDAVxHAwAvxAav+BITRcBbPXyD+zcAQxoApOUsTSOQLMHBANIrUC8DVcMHN4v0INPobA8MMBkzJ\n",
       "FSDGCwaGVxDuhfsPEMG6AcZibmBgYOoE0g4YkuxfQKQ4A0MZRHiCfwDCllwYg38DA+NioE1sBRiS\n",
       "8uBwmcPAsBTMncdwHhwWRUogoA9Tf37v3SKQwSwLMCTrYRb2gckHDPJIljB4Qf1zX4CBUxvkwAYM\n",
       "SX1YmP0Dh/bu3fsNkKN4BcQEC5AhQKt4PmBI/gezJ0AN4GNg4ECO61OZEBoYgwzxCWgGQCT7QQQL\n",
       "MIW1gBjAQGZqQHhTyRKaDL4Cif0OMC+gSO4HxSI7EJsCMSNQDReSJd5IyYDxFyiZLcCQBAc6yC3p\n",
       "oEQFivKfcCWMC5CSwQlQUkeKRpgkKzAdPAcF5CMGBuH+hQys9r/gipihAcxu/3v3LnA0cyFSGUyS\n",
       "4fTqcnDy4hDAyCU8GCIz8EiyJhBRZuTik1xJWD/nAnyy0oQN4BbAJ8tIuEi7g0cOAB2DcpoVpUDU\n",
       "AAAAAElFTkSuQmCC\n",
       "\" style=\"display:inline;vertical-align:middle;\" /></a></span></td></tr>\n",
       "<tr><td>1</td><td>modus ponens</td><td>2, 3</td><td><span style=\"font-size:20px;\"><a class=\"ProveItLink\" href=\"__pv_it/736178d0c9979c0bae6a4fe7b8a249574760be180/expr.ipynb\"><img src=\"data:image/png;base64,iVBORw0KGgoAAAANSUhEUgAAALcAAAAVBAMAAAD2lGJJAAAAMFBMVEX///9ERETc3NyqqqpUVFS6\n",
       "urrMzMwyMjIQEBCIiIh2dnYiIiLu7u5mZmaYmJgAAABJJ2g3AAAAAXRSTlMAQObYZgAAAjlJREFU\n",
       "OMu1VT1IHFEQHlfvztPdNaTRQnCDRaqghZDSKxbEIpyIhU3AQlCw8AwKEkKMSFIF7iytFNKoCCrY\n",
       "+AN3TdTO6xREvSK9YhSJmpiZ97dv915xhTew875vdvbbt/PmvQUA9xye3+KrHg32DlTD4nPkk1eC\n",
       "jmm3xkz5v558v7nPRHSz59+dW0WAYyINX0R0RsuYMc5mFsC5NRLNlksQOynhqIu7+YJK0DEoGP+D\n",
       "142J4HwlONhDt+5FxNsvPJWqY/gkQfIaX3tvIgAJOYVpAoMQEc8tBhXUMQxIUIOZjd9NBCCW4qPz\n",
       "m/ybiHis0F1SmRrGhJwATSmwJgomgrbCh44M+X0p7jAKP2Fciijs7DL7K8LjvQun6qUBOWVJ+SIj\n",
       "Fyrhktwor0AfdBRlXMdotVN8XPTA3pLBECF7y3TyarESKDH8jS++76dfyEbQMO+Ar2xoIU05sxBh\n",
       "/TJN6k9BgzXj3cEhVmaA+owsuYbZyz7y2lLjXS6JYIiQjayRz7JPJclGulnHdDqRyd2ksKj5JteO\n",
       "/0OX7oQo4TXfbWXxNOU6quYNG+gsTEtc8e+RWJU8FXS2dSf2iyTKusQ6Uyewbwha8YA69xHshwAr\n",
       "e6119ijuqKMNjUizRB1d7PP3Xkj8VfYDuG13RTvrKayeeym2R9uN3/MZweG1RtQGk10yPHnGKxfa\n",
       "oXwtvfKTaCga6DedsOUHWJm4W8lRXaroQGfibpXE2Xlub2uRXAVPJSv7E/GN5/6o1j/0P+z2uKtH\n",
       "x+MYAAAAAElFTkSuQmCC\n",
       "\" style=\"display:inline;vertical-align:middle;\" /></a> <a class=\"ProveItLink\" href=\"__pv_it/11efcbcf719a7f2f0fe1976e596ddef692565c860/proof.ipynb\" style=\"text-decoration: none\">&#x22A2;&nbsp;</a><a class=\"ProveItLink\" href=\"../packages/proveit/__pv_it/985a1bdf1540838275dec15f4ad6de261cca93ce0/expr.ipynb\"><img src=\"data:image/png;base64,iVBORw0KGgoAAAANSUhEUgAAAA8AAAAOBAMAAAACpFvcAAAAMFBMVEX////MzMyqqqoiIiIyMjK6\n",
       "uroQEBB2dnbc3NyYmJhmZmZUVFRERESIiIju7u4AAAB204erAAAAAXRSTlMAQObYZgAAAGZJREFU\n",
       "CNdjYGDgu7NrJccCBgaGsgkMrMsmMDA8sQNy6hsYGNweABlhDAxcn4A0QxcDQ78DiPGQgWH9BAYI\n",
       "sG+AMv6DSaCGfBDNJMDAsB+kmwuI5S8AiTog5gSaEwXWIO29SgFIAQBC+RaDQlidVgAAAABJRU5E\n",
       "rkJggg==\n",
       "\" style=\"display:inline;vertical-align:middle;\" /></a></span></td></tr>\n",
       "<tr><td>2</td><td>assumption</td><td></td><td><span style=\"font-size:20px;\"><a class=\"ProveItLink\" href=\"__pv_it/aec8eff27a3420fdfdb35204b36fc64201a582270/expr.ipynb\"><img src=\"data:image/png;base64,iVBORw0KGgoAAAANSUhEUgAAAFMAAAAVBAMAAADInc9CAAAAMFBMVEX////c3NxERESqqqpUVFS6\n",
       "urrMzMwyMjIQEBCIiIh2dnYiIiLu7u5mZmaYmJgAAABXZE4RAAAAAXRSTlMAQObYZgAAAVZJREFU\n",
       "KM9jYGDgu8dACLCtEgBRPLsYCAO2ZhDJ+QFI8Pl/cXEqxabopMrdB7IMDNdBbK4GEMmhwMBwPwBT\n",
       "JVcfA0MsEK9AKM2fAMQOcBUHoDRPNZDF9RFF6Xygu98vgCutgdLsPUCCtQFFqQYQ7zgAVxoCpe8b\n",
       "AAnGCyhKvzAwiOsgOXECmGL8DnZFAlQpbwEoML7MnLsPLMu7Gwz+Qjj/YHrfg4gMkL85gS4/7YDk\n",
       "c2ZwyHF/hPHZgY5IaQOxmICu4PyHHErHW4EE/wewA0CE+gMGhogEkBjQRL5fyNFTBfIjB1ipGch8\n",
       "UOiwgNyaD9TD8hnJrZvAocHyB0RegLmVawM0WOULkJwKcTfbT5ACkC5EYAGDla0dEawM4jCPGzCw\n",
       "XmRAVnrpv4tL+QMkpyrCnOzue5kBRSkGSEAXwK2UAatSPqKUgtMrz05ickErmOJbTFzeAgD9sl8j\n",
       "gQWWbAAAAABJRU5ErkJggg==\n",
       "\" style=\"display:inline;vertical-align:middle;\" /></a> <a class=\"ProveItLink\" href=\"__pv_it/964b1223c961b3c142cbad3085bd288f1145fcde0/proof.ipynb\" style=\"text-decoration: none\">&#x22A2;&nbsp;</a><a class=\"ProveItLink\" href=\"__pv_it/42830de3d5d651692ced1272b0fa0a601667b4020/expr.ipynb\"><img src=\"data:image/png;base64,iVBORw0KGgoAAAANSUhEUgAAAEEAAAAPBAMAAABJi79qAAAAMFBMVEX///+qqqru7u4iIiJ2dnbc\n",
       "3NyIiIjMzMxmZmYQEBC6uroyMjJERERUVFSYmJgAAADLUcuvAAAAAXRSTlMAQObYZgAAAPhJREFU\n",
       "GNNjYGB4+//u3dMLGDABU86NPtYGEGsOAwPHLywqPB8wcHU+ADLYvwHxX4ROGEPbCEj4BwAJtq8M\n",
       "DHxf4Cq4FaCMnSDGShCLZwIDA/MkuAquCxCa4yOIjAAR/BcYWPcoIKx3g1DxG0CkOoiov5bW/AAs\n",
       "2GwMAvZg5zP0P4DryQ9gYLJF9oM02Ov2AXCBkyBVD5DDYSdIyX8wG2w7yKPvHZBUVDuByPkggrEA\n",
       "FBz/gMR9AYQ7jA+B1d0HaedggAYH628kI2QhVH0CkHCCBUflJoQC1g0Qmg8YHitAruU4//fu7X1I\n",
       "RvDA/FC7t0OAARtgR+MDAAhbPiSyASIoAAAAAElFTkSuQmCC\n",
       "\" style=\"display:inline;vertical-align:middle;\" /></a></span></td></tr>\n",
       "<tr><td>3</td><td>modus ponens</td><td>4, 5</td><td><span style=\"font-size:20px;\"><a class=\"ProveItLink\" href=\"__pv_it/81e0c24d457c10dd479ddd274e4d0437d391c2ab0/expr.ipynb\"><img src=\"data:image/png;base64,iVBORw0KGgoAAAANSUhEUgAAAGsAAAAVBAMAAACzuQ2OAAAAMFBMVEX///9ERETc3NyqqqpUVFS6\n",
       "urrMzMwyMjIQEBCIiIh2dnYiIiLu7u5mZmaYmJgAAABJJ2g3AAAAAXRSTlMAQObYZgAAAaBJREFU\n",
       "OMtjYGDgu8dACmBbpQCieHYxkAbYmkEk5wcobwOSVDY29U/+u7iIBzAwXAdxuBogguwfkFTUY7Wn\n",
       "kYGB9ysDwwpkba//IOT59h+As3kQrvsJxF9QtTHZfkJoU76vAGezw03gBKrg+4WqjZPzK0LbhPkB\n",
       "cDarA4zFCFTJ3YOqLYb5H0LlAfsHCDNWwhj8DgxMhQeg2ngLwD4IALkcCo4y5E8A0bd3g8D+C1Dh\n",
       "fM+Zt0HGvQdxMsDuYWVg+gvXFsCgfwEpAM2hLp6vwMCzBeRboGRKG1goxcXlIzzEXFz8BZC08VRA\n",
       "9EmAtIKsEwcSEQkQCxja4V5jYOAoQNKWvgZCfwE5cAEwWICYgQWkghmId8CUGQBlGhB+2y0DdQQo\n",
       "zPwNoH7jAiUqZUjKAEctkwFqkjFBijam7wxIEcADslH+AMN5kBHHQVGESDJMBUjRllGDpI1J4rsC\n",
       "w8P/tQwngAYq9hcx8Ml/hwclIzTB8Mp/cXGvY2BAS5NgEIQln2CIYGp7QEyGA2vjI1kbOL/x7EQI\n",
       "cBKVu1shmWsx6WUJANQzceylMolFAAAAAElFTkSuQmCC\n",
       "\" style=\"display:inline;vertical-align:middle;\" /></a> <a class=\"ProveItLink\" href=\"__pv_it/ba520be1c30c7902b7c297757a68834bf4ce10b30/proof.ipynb\" style=\"text-decoration: none\">&#x22A2;&nbsp;</a><a class=\"ProveItLink\" href=\"../packages/proveit/__pv_it/077b2ff79244fb4582cbe22c6e3356fa92a52f2f0/expr.ipynb\"><img src=\"data:image/png;base64,iVBORw0KGgoAAAANSUhEUgAAABAAAAAOBAMAAADUAYG5AAAAMFBMVEX///+qqqru7u4iIiJ2dnbc\n",
       "3NyIiIjMzMxmZmYQEBC6uroyMjJERERUVFSYmJgAAADLUcuvAAAAAXRSTlMAQObYZgAAAGpJREFU\n",
       "CNdjYGB4+//u3dMLGIBgDgMDxy8gzf4NiP8CGWxfGRj4vgAZPBMYGJgnARn8FxhY9ygAGfXX0pof\n",
       "gDTlBzAw2YIYJ0EckBBI53sHoBH/gIz7AhBjWH9DjancBLTl/N+7t/cxMAAA3u4f/5xagjYAAAAA\n",
       "SUVORK5CYII=\n",
       "\" style=\"display:inline;vertical-align:middle;\" /></a></span></td></tr>\n",
       "<tr><td>4</td><td>assumption</td><td></td><td><span style=\"font-size:20px;\"><a class=\"ProveItLink\" href=\"__pv_it/06be501f646a7bac11b57bfea5020217a57c598d0/expr.ipynb\"><img src=\"data:image/png;base64,iVBORw0KGgoAAAANSUhEUgAAAFMAAAAVBAMAAADInc9CAAAAMFBMVEX///9ERETc3NyqqqpUVFS6\n",
       "urrMzMwyMjIQEBCIiIh2dnYiIiLu7u5mZmaYmJgAAABJJ2g3AAAAAXRSTlMAQObYZgAAAU9JREFU\n",
       "KM9jYGDgu8dACLCtUgBRPLsYCAO2ZhDJ+QHK24BFCZ//FxfHUiDjOojH1QARZf+AzTgOAQaG+wEM\n",
       "DCuQlb7+g1DAA2flTwBiB1SlTLafEErZD8BY84H+eb8AVSkn51eEUlYHGEsCiHccQFUaw/wPyYkr\n",
       "YYwvDAzqMgxQpbwFYNcFsP0Ey93eDQL7L0CD5cvMuftAjPcgIiMAbCUD019kn5sHQJwF9MBpkGvY\n",
       "gXpT2sBiKS4uH5GV8lSA1TICXccJdpn4AwaGiAQQCyjRjqw0fQ2Y4geayPcLyOAGhgIDC8itzCCP\n",
       "Irl1tww0WIFmsXyGuZULFKHKQFyPZKgJUrDqFzAgBRYPiCcPD3cGpgJEsLK1H0BSyiTxXYHh4f9a\n",
       "uFJGBQh98b+LS/kDBga0NICS5jBEcCplwK6Ujyil4PTKs5OYXNAKSemLictbAOAEWqBdr+e5AAAA\n",
       "AElFTkSuQmCC\n",
       "\" style=\"display:inline;vertical-align:middle;\" /></a> <a class=\"ProveItLink\" href=\"__pv_it/daefea40ee0d745c36e6a490f37edc56a08433c30/proof.ipynb\" style=\"text-decoration: none\">&#x22A2;&nbsp;</a><a class=\"ProveItLink\" href=\"__pv_it/ab822dd92f6f587d42cbcb4e55df2d568cc3b3260/expr.ipynb\"><img src=\"data:image/png;base64,iVBORw0KGgoAAAANSUhEUgAAAEAAAAAPBAMAAACmSdRUAAAAMFBMVEX///92dnYQEBBERERUVFS6\n",
       "urqIiIhmZmaqqqrc3Nzu7u6YmJgyMjIiIiLMzMwAAACFkkdwAAAAAXRSTlMAQObYZgAAAOhJREFU\n",
       "GNNjYACBtwxYwJb/Li42ARD2eWwKGJQZGNi/glnc9xcghOFMvm9A/AXMnFE/AaHgFIzB9hOo9SOY\n",
       "mZAfgFAQAmMwKzAw8GqBWKwL+jcgFDAmQBn8Dgych8EWLmV4DxZkvwsG36EK3rul1UI0BjDML0By\n",
       "PMdRCJ0/gYHrCti1Li7+BsjeW6MKpoxAikBGsDIwMB1Akuc7CPEpyIf7BYBEA9CxCkhuuAyR5/sN\n",
       "JPyBkpxAzPMByQkOiGDg/AOyEeTlXwgFc5CC4REw1Cbrn2Tgtv+D8IYlhGK3/+LicxpbFD1A5QIA\n",
       "YgVCLvPPxacAAAAASUVORK5CYII=\n",
       "\" style=\"display:inline;vertical-align:middle;\" /></a></span></td></tr>\n",
       "<tr><td>5</td><td>assumption</td><td></td><td><span style=\"font-size:20px;\"><a class=\"ProveItLink\" href=\"__pv_it/2700633c29669936275e69317ebd77c3a6285b9c0/expr.ipynb\"><img src=\"data:image/png;base64,iVBORw0KGgoAAAANSUhEUgAAACIAAAAVBAMAAADRFiHkAAAAMFBMVEX///9ERETc3NyqqqpUVFS6\n",
       "urrMzMwyMjIQEBCIiIh2dnYiIiLu7u5mZmaYmJgAAABJJ2g3AAAAAXRSTlMAQObYZgAAAK1JREFU\n",
       "GNNjYGDgu8cAA1mLQCTPLgYEyDAAEpwfIBy2DUCCtwBIcDVARNg/wDgwkdd/0ESYbD+hiXByfkUT\n",
       "iWH+B+OAjWfgCWD7CaT4QMZnBIBEWBmY/oLoWgaGlDawphQXl48gmrGOgSEiAcQCKmwH0SAPsIDM\n",
       "YQbiHTBzuECuVwbiemTbeUDq5A8gRJgkviswPPxfi+YvMMAhwocsAvYAz07kMAR7gG8xSjgDAMfT\n",
       "LYlEWPTfAAAAAElFTkSuQmCC\n",
       "\" style=\"display:inline;vertical-align:middle;\" /></a> <a class=\"ProveItLink\" href=\"__pv_it/0cbf4ba18936f5d879bcab1d3c6cf36bbb2fc9690/proof.ipynb\" style=\"text-decoration: none\">&#x22A2;&nbsp;</a><a class=\"ProveItLink\" href=\"../packages/proveit/__pv_it/2cbe72a7ad6f655694dd697106680215e8489b600/expr.ipynb\"><img src=\"data:image/png;base64,iVBORw0KGgoAAAANSUhEUgAAAA8AAAAOBAMAAAACpFvcAAAALVBMVEX///8QEBBERERUVFS6urqI\n",
       "iIhmZmaqqqrc3Nzu7u6YmJgyMjIiIiLMzMwAAADtIaYWAAAAAXRSTlMAQObYZgAAAFtJREFUCNdj\n",
       "YACBOwxQsA9Kc52bAGG05zVAGAFxDmCaZULdAjBjCsO9ADDDgaEvAUTzGhvbKYCVMDAwbgAxChgY\n",
       "eASANAeQwf0AyJgNxEwvGRia5HYwcOm9TgAA6BoR3jrzwFcAAAAASUVORK5CYII=\n",
       "\" style=\"display:inline;vertical-align:middle;\" /></a></span></td></tr>\n",
       "</table>"
      ],
      "text/plain": [
       "\tstep type\trequirements\tstatement\n",
       "0\thypothetical reasoning\t1\t{A , B => C} |- (A => B) => C\n",
       "1\tmodus ponens\t2, 3\t{A , A => B , B => C} |- C\n",
       "2\tassumption\t\t{B => C} |- B => C\n",
       "3\tmodus ponens\t4, 5\t{A , A => B} |- B\n",
       "4\tassumption\t\t{A => B} |- A => B\n",
       "5\tassumption\t\t{A} |- A"
      ]
     },
     "execution_count": 19,
     "metadata": {},
     "output_type": "execute_result"
    }
   ],
   "source": [
    "A_impl_B__impl__C.proof()"
   ]
  },
  {
   "cell_type": "markdown",
   "metadata": {},
   "source": [
    "In the previous two demonstrations, where the new antecedent was drawn from the set of assumptions, we can think of *hypothetical reasoning* as a procedure in which we transform an \"implicit\" assumption to an \"explicit\" antecedent.  Similarly, *modus ponens* may be used to transform an \"explicit\" antecedent to an \"implicit\" assumption.  What is the difference between these two different forms of assumption/antecedent?  Why do we need both forms?  The explicit form is necessary because the implicit form cannot be nested.  For example, one could not precisely express $(A \\Rightarrow C) \\land (B \\Rightarrow C) \\Rightarrow [(A \\lor B) \\Rightarrow C]$ with assumptions alone.  The implicit form is also very important.  The implicit form (with assumptions) is extremely convenient, and necessary in the **Prove-It** framework, for accessing the consequent part of an implication directly and applying logical deductions that arise from that consequent (e.g., consider the role of $B$ as a consequent of $A \\Rightarrow B$ in the above examples)."
   ]
  },
  {
   "cell_type": "markdown",
   "metadata": {},
   "source": [
    "The new antecedent does not need to be one of the pre-existing assumptions, however.  After all, a **KnownTruth** is just as valid when extra assumptions are added (the requirements are simply over-complete).  For example,"
   ]
  },
  {
   "cell_type": "code",
   "execution_count": 20,
   "metadata": {},
   "outputs": [
    {
     "data": {
      "text/html": [
       "<strong id=\"X_impl_C\">X_impl_C:</strong> <span style=\"font-size:20px;\"><a class=\"ProveItLink\" href=\"__pv_it/736178d0c9979c0bae6a4fe7b8a249574760be180/expr.ipynb\"><img src=\"data:image/png;base64,iVBORw0KGgoAAAANSUhEUgAAALcAAAAVBAMAAAD2lGJJAAAAMFBMVEX///9ERETc3NyqqqpUVFS6\n",
       "urrMzMwyMjIQEBCIiIh2dnYiIiLu7u5mZmaYmJgAAABJJ2g3AAAAAXRSTlMAQObYZgAAAjlJREFU\n",
       "OMu1VT1IHFEQHlfvztPdNaTRQnCDRaqghZDSKxbEIpyIhU3AQlCw8AwKEkKMSFIF7iytFNKoCCrY\n",
       "+AN3TdTO6xREvSK9YhSJmpiZ97dv915xhTew875vdvbbt/PmvQUA9xye3+KrHg32DlTD4nPkk1eC\n",
       "jmm3xkz5v558v7nPRHSz59+dW0WAYyINX0R0RsuYMc5mFsC5NRLNlksQOynhqIu7+YJK0DEoGP+D\n",
       "142J4HwlONhDt+5FxNsvPJWqY/gkQfIaX3tvIgAJOYVpAoMQEc8tBhXUMQxIUIOZjd9NBCCW4qPz\n",
       "m/ybiHis0F1SmRrGhJwATSmwJgomgrbCh44M+X0p7jAKP2Fciijs7DL7K8LjvQun6qUBOWVJ+SIj\n",
       "Fyrhktwor0AfdBRlXMdotVN8XPTA3pLBECF7y3TyarESKDH8jS++76dfyEbQMO+Ar2xoIU05sxBh\n",
       "/TJN6k9BgzXj3cEhVmaA+owsuYbZyz7y2lLjXS6JYIiQjayRz7JPJclGulnHdDqRyd2ksKj5JteO\n",
       "/0OX7oQo4TXfbWXxNOU6quYNG+gsTEtc8e+RWJU8FXS2dSf2iyTKusQ6Uyewbwha8YA69xHshwAr\n",
       "e6119ijuqKMNjUizRB1d7PP3Xkj8VfYDuG13RTvrKayeeym2R9uN3/MZweG1RtQGk10yPHnGKxfa\n",
       "oXwtvfKTaCga6DedsOUHWJm4W8lRXaroQGfibpXE2Xlub2uRXAVPJSv7E/GN5/6o1j/0P+z2uKtH\n",
       "x+MYAAAAAElFTkSuQmCC\n",
       "\" style=\"display:inline;vertical-align:middle;\" /></a> <a class=\"ProveItLink\" href=\"__pv_it/da7024f3c4707a9d7662c5959a6dc800a3a41b300/proof.ipynb\" style=\"text-decoration: none\">&#x22A2;&nbsp;</a><a class=\"ProveItLink\" href=\"__pv_it/615486b6a93c64cff2bc4ee46d0c91c67ca5a7050/expr.ipynb\"><img src=\"data:image/png;base64,iVBORw0KGgoAAAANSUhEUgAAAEMAAAAPBAMAAABNfm9XAAAAMFBMVEX///9ERES6uroiIiKIiIju\n",
       "7u5mZmbMzMyqqqoyMjLc3Nx2dnYQEBBUVFSYmJgAAADDc6PYAAAAAXRSTlMAQObYZgAAAOlJREFU\n",
       "KM9jYGB4+/80w8o/NxgwAavjtTyuBBDrfgMDxwUsKhj2PGBgynkAYtVPYFiGrBfGiDQFEvsXgJic\n",
       "vyCmQQFnAJQxB8TQATM5vsUiG88EtZTtB4iEmn/+KooTtkCo9RNAZDiEs98BKplsDAL2EGvzHyBp\n",
       "u2+A6pNOBRBpvwAhwrb2E1p4zAGp+Q9mQ9yezv4RVUnlVrALwV4pAJHcCnAzIW4xFoVYDzKADcx0\n",
       "YmB4jxwuDL0Qqh7kCbB5bBsYGPg/IKngmgCh+YDhogYyXvG8EQPT/M9IIcMI80nt3LQGBqyAHY0P\n",
       "ALfoOsYKQDYqAAAAAElFTkSuQmCC\n",
       "\" style=\"display:inline;vertical-align:middle;\" /></a></span><br>"
      ],
      "text/plain": [
       "X_impl_C: {A , A => B , B => C} |- X => C"
      ]
     },
     "execution_count": 20,
     "metadata": {},
     "output_type": "execute_result"
    }
   ],
   "source": [
    "X_impl_C = CviaTransitivity.asImplication(X)"
   ]
  },
  {
   "cell_type": "code",
   "execution_count": 21,
   "metadata": {},
   "outputs": [
    {
     "data": {
      "text/html": [
       "<table><tr><th>&nbsp;</th><th>step type</th><th>requirements</th><th>statement</th></tr>\n",
       "<tr><td>0</td><td>hypothetical reasoning</td><td>1</td><td><span style=\"font-size:20px;\"><a class=\"ProveItLink\" href=\"__pv_it/736178d0c9979c0bae6a4fe7b8a249574760be180/expr.ipynb\"><img src=\"data:image/png;base64,iVBORw0KGgoAAAANSUhEUgAAALcAAAAVBAMAAAD2lGJJAAAAMFBMVEX///9ERETc3NyqqqpUVFS6\n",
       "urrMzMwyMjIQEBCIiIh2dnYiIiLu7u5mZmaYmJgAAABJJ2g3AAAAAXRSTlMAQObYZgAAAjlJREFU\n",
       "OMu1VT1IHFEQHlfvztPdNaTRQnCDRaqghZDSKxbEIpyIhU3AQlCw8AwKEkKMSFIF7iytFNKoCCrY\n",
       "+AN3TdTO6xREvSK9YhSJmpiZ97dv915xhTew875vdvbbt/PmvQUA9xye3+KrHg32DlTD4nPkk1eC\n",
       "jmm3xkz5v558v7nPRHSz59+dW0WAYyINX0R0RsuYMc5mFsC5NRLNlksQOynhqIu7+YJK0DEoGP+D\n",
       "142J4HwlONhDt+5FxNsvPJWqY/gkQfIaX3tvIgAJOYVpAoMQEc8tBhXUMQxIUIOZjd9NBCCW4qPz\n",
       "m/ybiHis0F1SmRrGhJwATSmwJgomgrbCh44M+X0p7jAKP2Fciijs7DL7K8LjvQun6qUBOWVJ+SIj\n",
       "Fyrhktwor0AfdBRlXMdotVN8XPTA3pLBECF7y3TyarESKDH8jS++76dfyEbQMO+Ar2xoIU05sxBh\n",
       "/TJN6k9BgzXj3cEhVmaA+owsuYbZyz7y2lLjXS6JYIiQjayRz7JPJclGulnHdDqRyd2ksKj5JteO\n",
       "/0OX7oQo4TXfbWXxNOU6quYNG+gsTEtc8e+RWJU8FXS2dSf2iyTKusQ6Uyewbwha8YA69xHshwAr\n",
       "e6119ijuqKMNjUizRB1d7PP3Xkj8VfYDuG13RTvrKayeeym2R9uN3/MZweG1RtQGk10yPHnGKxfa\n",
       "oXwtvfKTaCga6DedsOUHWJm4W8lRXaroQGfibpXE2Xlub2uRXAVPJSv7E/GN5/6o1j/0P+z2uKtH\n",
       "x+MYAAAAAElFTkSuQmCC\n",
       "\" style=\"display:inline;vertical-align:middle;\" /></a> <a class=\"ProveItLink\" href=\"__pv_it/da7024f3c4707a9d7662c5959a6dc800a3a41b300/proof.ipynb\" style=\"text-decoration: none\">&#x22A2;&nbsp;</a><a class=\"ProveItLink\" href=\"__pv_it/615486b6a93c64cff2bc4ee46d0c91c67ca5a7050/expr.ipynb\"><img src=\"data:image/png;base64,iVBORw0KGgoAAAANSUhEUgAAAEMAAAAPBAMAAABNfm9XAAAAMFBMVEX///9ERES6uroiIiKIiIju\n",
       "7u5mZmbMzMyqqqoyMjLc3Nx2dnYQEBBUVFSYmJgAAADDc6PYAAAAAXRSTlMAQObYZgAAAOlJREFU\n",
       "KM9jYGB4+/80w8o/NxgwAavjtTyuBBDrfgMDxwUsKhj2PGBgynkAYtVPYFiGrBfGiDQFEvsXgJic\n",
       "vyCmQQFnAJQxB8TQATM5vsUiG88EtZTtB4iEmn/+KooTtkCo9RNAZDiEs98BKplsDAL2EGvzHyBp\n",
       "u2+A6pNOBRBpvwAhwrb2E1p4zAGp+Q9mQ9yezv4RVUnlVrALwV4pAJHcCnAzIW4xFoVYDzKADcx0\n",
       "YmB4jxwuDL0Qqh7kCbB5bBsYGPg/IKngmgCh+YDhogYyXvG8EQPT/M9IIcMI80nt3LQGBqyAHY0P\n",
       "ALfoOsYKQDYqAAAAAElFTkSuQmCC\n",
       "\" style=\"display:inline;vertical-align:middle;\" /></a></span></td></tr>\n",
       "<tr><td>1</td><td>modus ponens</td><td>2, 3</td><td><span style=\"font-size:20px;\"><a class=\"ProveItLink\" href=\"__pv_it/736178d0c9979c0bae6a4fe7b8a249574760be180/expr.ipynb\"><img src=\"data:image/png;base64,iVBORw0KGgoAAAANSUhEUgAAALcAAAAVBAMAAAD2lGJJAAAAMFBMVEX///9ERETc3NyqqqpUVFS6\n",
       "urrMzMwyMjIQEBCIiIh2dnYiIiLu7u5mZmaYmJgAAABJJ2g3AAAAAXRSTlMAQObYZgAAAjlJREFU\n",
       "OMu1VT1IHFEQHlfvztPdNaTRQnCDRaqghZDSKxbEIpyIhU3AQlCw8AwKEkKMSFIF7iytFNKoCCrY\n",
       "+AN3TdTO6xREvSK9YhSJmpiZ97dv915xhTew875vdvbbt/PmvQUA9xye3+KrHg32DlTD4nPkk1eC\n",
       "jmm3xkz5v558v7nPRHSz59+dW0WAYyINX0R0RsuYMc5mFsC5NRLNlksQOynhqIu7+YJK0DEoGP+D\n",
       "142J4HwlONhDt+5FxNsvPJWqY/gkQfIaX3tvIgAJOYVpAoMQEc8tBhXUMQxIUIOZjd9NBCCW4qPz\n",
       "m/ybiHis0F1SmRrGhJwATSmwJgomgrbCh44M+X0p7jAKP2Fciijs7DL7K8LjvQun6qUBOWVJ+SIj\n",
       "Fyrhktwor0AfdBRlXMdotVN8XPTA3pLBECF7y3TyarESKDH8jS++76dfyEbQMO+Ar2xoIU05sxBh\n",
       "/TJN6k9BgzXj3cEhVmaA+owsuYbZyz7y2lLjXS6JYIiQjayRz7JPJclGulnHdDqRyd2ksKj5JteO\n",
       "/0OX7oQo4TXfbWXxNOU6quYNG+gsTEtc8e+RWJU8FXS2dSf2iyTKusQ6Uyewbwha8YA69xHshwAr\n",
       "e6119ijuqKMNjUizRB1d7PP3Xkj8VfYDuG13RTvrKayeeym2R9uN3/MZweG1RtQGk10yPHnGKxfa\n",
       "oXwtvfKTaCga6DedsOUHWJm4W8lRXaroQGfibpXE2Xlub2uRXAVPJSv7E/GN5/6o1j/0P+z2uKtH\n",
       "x+MYAAAAAElFTkSuQmCC\n",
       "\" style=\"display:inline;vertical-align:middle;\" /></a> <a class=\"ProveItLink\" href=\"__pv_it/11efcbcf719a7f2f0fe1976e596ddef692565c860/proof.ipynb\" style=\"text-decoration: none\">&#x22A2;&nbsp;</a><a class=\"ProveItLink\" href=\"../packages/proveit/__pv_it/985a1bdf1540838275dec15f4ad6de261cca93ce0/expr.ipynb\"><img src=\"data:image/png;base64,iVBORw0KGgoAAAANSUhEUgAAAA8AAAAOBAMAAAACpFvcAAAAMFBMVEX////MzMyqqqoiIiIyMjK6\n",
       "uroQEBB2dnbc3NyYmJhmZmZUVFRERESIiIju7u4AAAB204erAAAAAXRSTlMAQObYZgAAAGZJREFU\n",
       "CNdjYGDgu7NrJccCBgaGsgkMrMsmMDA8sQNy6hsYGNweABlhDAxcn4A0QxcDQ78DiPGQgWH9BAYI\n",
       "sG+AMv6DSaCGfBDNJMDAsB+kmwuI5S8AiTog5gSaEwXWIO29SgFIAQBC+RaDQlidVgAAAABJRU5E\n",
       "rkJggg==\n",
       "\" style=\"display:inline;vertical-align:middle;\" /></a></span></td></tr>\n",
       "<tr><td>2</td><td>assumption</td><td></td><td><span style=\"font-size:20px;\"><a class=\"ProveItLink\" href=\"__pv_it/aec8eff27a3420fdfdb35204b36fc64201a582270/expr.ipynb\"><img src=\"data:image/png;base64,iVBORw0KGgoAAAANSUhEUgAAAFMAAAAVBAMAAADInc9CAAAAMFBMVEX////c3NxERESqqqpUVFS6\n",
       "urrMzMwyMjIQEBCIiIh2dnYiIiLu7u5mZmaYmJgAAABXZE4RAAAAAXRSTlMAQObYZgAAAVZJREFU\n",
       "KM9jYGDgu8dACLCtEgBRPLsYCAO2ZhDJ+QFI8Pl/cXEqxabopMrdB7IMDNdBbK4GEMmhwMBwPwBT\n",
       "JVcfA0MsEK9AKM2fAMQOcBUHoDRPNZDF9RFF6Xygu98vgCutgdLsPUCCtQFFqQYQ7zgAVxoCpe8b\n",
       "AAnGCyhKvzAwiOsgOXECmGL8DnZFAlQpbwEoML7MnLsPLMu7Gwz+Qjj/YHrfg4gMkL85gS4/7YDk\n",
       "c2ZwyHF/hPHZgY5IaQOxmICu4PyHHErHW4EE/wewA0CE+gMGhogEkBjQRL5fyNFTBfIjB1ipGch8\n",
       "UOiwgNyaD9TD8hnJrZvAocHyB0RegLmVawM0WOULkJwKcTfbT5ACkC5EYAGDla0dEawM4jCPGzCw\n",
       "XmRAVnrpv4tL+QMkpyrCnOzue5kBRSkGSEAXwK2UAatSPqKUgtMrz05ickErmOJbTFzeAgD9sl8j\n",
       "gQWWbAAAAABJRU5ErkJggg==\n",
       "\" style=\"display:inline;vertical-align:middle;\" /></a> <a class=\"ProveItLink\" href=\"__pv_it/964b1223c961b3c142cbad3085bd288f1145fcde0/proof.ipynb\" style=\"text-decoration: none\">&#x22A2;&nbsp;</a><a class=\"ProveItLink\" href=\"__pv_it/42830de3d5d651692ced1272b0fa0a601667b4020/expr.ipynb\"><img src=\"data:image/png;base64,iVBORw0KGgoAAAANSUhEUgAAAEEAAAAPBAMAAABJi79qAAAAMFBMVEX///+qqqru7u4iIiJ2dnbc\n",
       "3NyIiIjMzMxmZmYQEBC6uroyMjJERERUVFSYmJgAAADLUcuvAAAAAXRSTlMAQObYZgAAAPhJREFU\n",
       "GNNjYGB4+//u3dMLGDABU86NPtYGEGsOAwPHLywqPB8wcHU+ADLYvwHxX4ROGEPbCEj4BwAJtq8M\n",
       "DHxf4Cq4FaCMnSDGShCLZwIDA/MkuAquCxCa4yOIjAAR/BcYWPcoIKx3g1DxG0CkOoiov5bW/AAs\n",
       "2GwMAvZg5zP0P4DryQ9gYLJF9oM02Ov2AXCBkyBVD5DDYSdIyX8wG2w7yKPvHZBUVDuByPkggrEA\n",
       "FBz/gMR9AYQ7jA+B1d0HaedggAYH628kI2QhVH0CkHCCBUflJoQC1g0Qmg8YHitAruU4//fu7X1I\n",
       "RvDA/FC7t0OAARtgR+MDAAhbPiSyASIoAAAAAElFTkSuQmCC\n",
       "\" style=\"display:inline;vertical-align:middle;\" /></a></span></td></tr>\n",
       "<tr><td>3</td><td>modus ponens</td><td>4, 5</td><td><span style=\"font-size:20px;\"><a class=\"ProveItLink\" href=\"__pv_it/81e0c24d457c10dd479ddd274e4d0437d391c2ab0/expr.ipynb\"><img src=\"data:image/png;base64,iVBORw0KGgoAAAANSUhEUgAAAGsAAAAVBAMAAACzuQ2OAAAAMFBMVEX///9ERETc3NyqqqpUVFS6\n",
       "urrMzMwyMjIQEBCIiIh2dnYiIiLu7u5mZmaYmJgAAABJJ2g3AAAAAXRSTlMAQObYZgAAAaBJREFU\n",
       "OMtjYGDgu8dACmBbpQCieHYxkAbYmkEk5wcobwOSVDY29U/+u7iIBzAwXAdxuBogguwfkFTUY7Wn\n",
       "kYGB9ysDwwpkba//IOT59h+As3kQrvsJxF9QtTHZfkJoU76vAGezw03gBKrg+4WqjZPzK0LbhPkB\n",
       "cDarA4zFCFTJ3YOqLYb5H0LlAfsHCDNWwhj8DgxMhQeg2ngLwD4IALkcCo4y5E8A0bd3g8D+C1Dh\n",
       "fM+Zt0HGvQdxMsDuYWVg+gvXFsCgfwEpAM2hLp6vwMCzBeRboGRKG1goxcXlIzzEXFz8BZC08VRA\n",
       "9EmAtIKsEwcSEQkQCxja4V5jYOAoQNKWvgZCfwE5cAEwWICYgQWkghmId8CUGQBlGhB+2y0DdQQo\n",
       "zPwNoH7jAiUqZUjKAEctkwFqkjFBijam7wxIEcADslH+AMN5kBHHQVGESDJMBUjRllGDpI1J4rsC\n",
       "w8P/tQwngAYq9hcx8Ml/hwclIzTB8Mp/cXGvY2BAS5NgEIQln2CIYGp7QEyGA2vjI1kbOL/x7EQI\n",
       "cBKVu1shmWsx6WUJANQzceylMolFAAAAAElFTkSuQmCC\n",
       "\" style=\"display:inline;vertical-align:middle;\" /></a> <a class=\"ProveItLink\" href=\"__pv_it/ba520be1c30c7902b7c297757a68834bf4ce10b30/proof.ipynb\" style=\"text-decoration: none\">&#x22A2;&nbsp;</a><a class=\"ProveItLink\" href=\"../packages/proveit/__pv_it/077b2ff79244fb4582cbe22c6e3356fa92a52f2f0/expr.ipynb\"><img src=\"data:image/png;base64,iVBORw0KGgoAAAANSUhEUgAAABAAAAAOBAMAAADUAYG5AAAAMFBMVEX///+qqqru7u4iIiJ2dnbc\n",
       "3NyIiIjMzMxmZmYQEBC6uroyMjJERERUVFSYmJgAAADLUcuvAAAAAXRSTlMAQObYZgAAAGpJREFU\n",
       "CNdjYGB4+//u3dMLGIBgDgMDxy8gzf4NiP8CGWxfGRj4vgAZPBMYGJgnARn8FxhY9ygAGfXX0pof\n",
       "gDTlBzAw2YIYJ0EckBBI53sHoBH/gIz7AhBjWH9DjancBLTl/N+7t/cxMAAA3u4f/5xagjYAAAAA\n",
       "SUVORK5CYII=\n",
       "\" style=\"display:inline;vertical-align:middle;\" /></a></span></td></tr>\n",
       "<tr><td>4</td><td>assumption</td><td></td><td><span style=\"font-size:20px;\"><a class=\"ProveItLink\" href=\"__pv_it/06be501f646a7bac11b57bfea5020217a57c598d0/expr.ipynb\"><img src=\"data:image/png;base64,iVBORw0KGgoAAAANSUhEUgAAAFMAAAAVBAMAAADInc9CAAAAMFBMVEX///9ERETc3NyqqqpUVFS6\n",
       "urrMzMwyMjIQEBCIiIh2dnYiIiLu7u5mZmaYmJgAAABJJ2g3AAAAAXRSTlMAQObYZgAAAU9JREFU\n",
       "KM9jYGDgu8dACLCtUgBRPLsYCAO2ZhDJ+QHK24BFCZ//FxfHUiDjOojH1QARZf+AzTgOAQaG+wEM\n",
       "DCuQlb7+g1DAA2flTwBiB1SlTLafEErZD8BY84H+eb8AVSkn51eEUlYHGEsCiHccQFUaw/wPyYkr\n",
       "YYwvDAzqMgxQpbwFYNcFsP0Ey93eDQL7L0CD5cvMuftAjPcgIiMAbCUD019kn5sHQJwF9MBpkGvY\n",
       "gXpT2sBiKS4uH5GV8lSA1TICXccJdpn4AwaGiAQQCyjRjqw0fQ2Y4geayPcLyOAGhgIDC8itzCCP\n",
       "Irl1tww0WIFmsXyGuZULFKHKQFyPZKgJUrDqFzAgBRYPiCcPD3cGpgJEsLK1H0BSyiTxXYHh4f9a\n",
       "uFJGBQh98b+LS/kDBga0NICS5jBEcCplwK6Ujyil4PTKs5OYXNAKSemLictbAOAEWqBdr+e5AAAA\n",
       "AElFTkSuQmCC\n",
       "\" style=\"display:inline;vertical-align:middle;\" /></a> <a class=\"ProveItLink\" href=\"__pv_it/daefea40ee0d745c36e6a490f37edc56a08433c30/proof.ipynb\" style=\"text-decoration: none\">&#x22A2;&nbsp;</a><a class=\"ProveItLink\" href=\"__pv_it/ab822dd92f6f587d42cbcb4e55df2d568cc3b3260/expr.ipynb\"><img src=\"data:image/png;base64,iVBORw0KGgoAAAANSUhEUgAAAEAAAAAPBAMAAACmSdRUAAAAMFBMVEX///92dnYQEBBERERUVFS6\n",
       "urqIiIhmZmaqqqrc3Nzu7u6YmJgyMjIiIiLMzMwAAACFkkdwAAAAAXRSTlMAQObYZgAAAOhJREFU\n",
       "GNNjYACBtwxYwJb/Li42ARD2eWwKGJQZGNi/glnc9xcghOFMvm9A/AXMnFE/AaHgFIzB9hOo9SOY\n",
       "mZAfgFAQAmMwKzAw8GqBWKwL+jcgFDAmQBn8Dgych8EWLmV4DxZkvwsG36EK3rul1UI0BjDML0By\n",
       "PMdRCJ0/gYHrCti1Li7+BsjeW6MKpoxAikBGsDIwMB1Akuc7CPEpyIf7BYBEA9CxCkhuuAyR5/sN\n",
       "JPyBkpxAzPMByQkOiGDg/AOyEeTlXwgFc5CC4REw1Cbrn2Tgtv+D8IYlhGK3/+LicxpbFD1A5QIA\n",
       "YgVCLvPPxacAAAAASUVORK5CYII=\n",
       "\" style=\"display:inline;vertical-align:middle;\" /></a></span></td></tr>\n",
       "<tr><td>5</td><td>assumption</td><td></td><td><span style=\"font-size:20px;\"><a class=\"ProveItLink\" href=\"__pv_it/2700633c29669936275e69317ebd77c3a6285b9c0/expr.ipynb\"><img src=\"data:image/png;base64,iVBORw0KGgoAAAANSUhEUgAAACIAAAAVBAMAAADRFiHkAAAAMFBMVEX///9ERETc3NyqqqpUVFS6\n",
       "urrMzMwyMjIQEBCIiIh2dnYiIiLu7u5mZmaYmJgAAABJJ2g3AAAAAXRSTlMAQObYZgAAAK1JREFU\n",
       "GNNjYGDgu8cAA1mLQCTPLgYEyDAAEpwfIBy2DUCCtwBIcDVARNg/wDgwkdd/0ESYbD+hiXByfkUT\n",
       "iWH+B+OAjWfgCWD7CaT4QMZnBIBEWBmY/oLoWgaGlDawphQXl48gmrGOgSEiAcQCKmwH0SAPsIDM\n",
       "YQbiHTBzuECuVwbiemTbeUDq5A8gRJgkviswPPxfi+YvMMAhwocsAvYAz07kMAR7gG8xSjgDAMfT\n",
       "LYlEWPTfAAAAAElFTkSuQmCC\n",
       "\" style=\"display:inline;vertical-align:middle;\" /></a> <a class=\"ProveItLink\" href=\"__pv_it/0cbf4ba18936f5d879bcab1d3c6cf36bbb2fc9690/proof.ipynb\" style=\"text-decoration: none\">&#x22A2;&nbsp;</a><a class=\"ProveItLink\" href=\"../packages/proveit/__pv_it/2cbe72a7ad6f655694dd697106680215e8489b600/expr.ipynb\"><img src=\"data:image/png;base64,iVBORw0KGgoAAAANSUhEUgAAAA8AAAAOBAMAAAACpFvcAAAALVBMVEX///8QEBBERERUVFS6urqI\n",
       "iIhmZmaqqqrc3Nzu7u6YmJgyMjIiIiLMzMwAAADtIaYWAAAAAXRSTlMAQObYZgAAAFtJREFUCNdj\n",
       "YACBOwxQsA9Kc52bAGG05zVAGAFxDmCaZULdAjBjCsO9ADDDgaEvAUTzGhvbKYCVMDAwbgAxChgY\n",
       "eASANAeQwf0AyJgNxEwvGRia5HYwcOm9TgAA6BoR3jrzwFcAAAAASUVORK5CYII=\n",
       "\" style=\"display:inline;vertical-align:middle;\" /></a></span></td></tr>\n",
       "</table>"
      ],
      "text/plain": [
       "\tstep type\trequirements\tstatement\n",
       "0\thypothetical reasoning\t1\t{A , A => B , B => C} |- X => C\n",
       "1\tmodus ponens\t2, 3\t{A , A => B , B => C} |- C\n",
       "2\tassumption\t\t{B => C} |- B => C\n",
       "3\tmodus ponens\t4, 5\t{A , A => B} |- B\n",
       "4\tassumption\t\t{A => B} |- A => B\n",
       "5\tassumption\t\t{A} |- A"
      ]
     },
     "execution_count": 21,
     "metadata": {},
     "output_type": "execute_result"
    }
   ],
   "source": [
    "X_impl_C.proof()"
   ]
  },
  {
   "cell_type": "markdown",
   "metadata": {},
   "source": [
    "## Automation regarding `Implies` objects\n",
    "\n",
    "We will talk more generally about automation in the <a href=\"tutorial08_automation.ipynb\">automation</a> chapter, but in this section we will get a preview of that as we look at automation specific to **implications**.\n",
    "\n",
    "It is not always necessary to call the `deriveConsequent` method directly.  In fact, the `deriveConsequent` method is called automatically as a \"side-effect\" whenever a **known truth** for an `Implies` **expression** is created.  In the example below, a **known truth** for $P \\Rightarrow Q$ is created via proof-by-assumption which then triggers $Q$ to be derived as a consequent, adding the extra assumption for the antecedent $P$.  Then, a proof for $Q$, under the assumptions of $P \\Rightarrow Q$ and $P$, is automatically generated and available upon request:"
   ]
  },
  {
   "cell_type": "code",
   "execution_count": 22,
   "metadata": {},
   "outputs": [
    {
     "data": {
      "text/html": [
       "<strong id=\"QByAssumption\">QByAssumption:</strong> <span style=\"font-size:20px;\"><a class=\"ProveItLink\" href=\"__pv_it/57bcbf6218ee89c2431b6de442573f62e736243c0/expr.ipynb\"><img src=\"data:image/png;base64,iVBORw0KGgoAAAANSUhEUgAAAGoAAAAVBAMAAABce2awAAAAMFBMVEX///9ERETc3NyqqqpUVFS6\n",
       "urrMzMwyMjIQEBCIiIh2dnYiIiLu7u5mZmaYmJgAAABJJ2g3AAAAAXRSTlMAQObYZgAAAbRJREFU\n",
       "OMtjYGDgu8dACshaBCJ5djGQBjIMgATnBxBzyn8Xly0KYFFO/y8u3k5YlDOtXeUJpHgLgARXA1jo\n",
       "OwMDYxNElh8oLKGAqWt5AgPLHqgGiC62XwwMzL8gsvkLGBjsF8DU8sAYxwWARAuKLs6vwGD5C5Ge\n",
       "H8DA8P4CTDH7ASijGkTcP4CsixHoO5bPEGl5IPY3gOlidYDQvN9A5PoAZF0gv5wXYIB5kecjwjsr\n",
       "IZQ+WHa9AUQDOEhAfmHbC5EGeTEb7MDbu0FgP8Sx9x+A3ZHAwAcK9IwAsF+8Vt2CBhvnl1VrFyGH\n",
       "nTlYxX6w/34AcS0DQ0obxC8H4IoY/6CFOE9FAFQ9JJgZ6xgYIhJA3N8IRfwb0HSlr4GrYO8BEqDE\n",
       "xALyF9tfhKJ8eKBD/LVbBsypBxH2QCvA/uLaAI0uIDgAiy5kYAKh7AM0p7G1MiDHMsQvPL/RvAhO\n",
       "fQUQmmvPAi5DBWRdZ+W/TADp6ldg4Ln43xNFFyMsRYZUzTZgSEBJUdB0gCXNsiEZkMCHTRcf/pzF\n",
       "eCEcpoGPeF0s/7/CEhPPToTwBPy62DoewBMT32KSyw0AFUN6gVp7F/8AAAAASUVORK5CYII=\n",
       "\" style=\"display:inline;vertical-align:middle;\" /></a> <a class=\"ProveItLink\" href=\"__pv_it/8eb4b18db7c361d571b1858a9a339f7519d2ea820/proof.ipynb\" style=\"text-decoration: none\">&#x22A2;&nbsp;</a><a class=\"ProveItLink\" href=\"../packages/proveit/__pv_it/98124f92e6e1fc3772af50ac63eaa1f5624776f20/expr.ipynb\"><img src=\"data:image/png;base64,iVBORw0KGgoAAAANSUhEUgAAAA8AAAASBAMAAAB2sJk8AAAAMFBMVEX///+YmJiqqqq6uroQEBBE\n",
       "RETu7u4iIiLMzMwyMjKIiIhUVFRmZmZ2dnbc3NwAAADS0us6AAAAAXRSTlMAQObYZgAAAHxJREFU\n",
       "CNdjYGDgu3N3FwMI3Gxg4C4D0pkBQMIbiKeDRM8nMPD8ADHuGzC8DwAzFBjOC4AY8Q0M9Qkgxhcw\n",
       "YmBg+svA8B3E4HRjYJgPYug3ALHBqxUczkAOb9kFXtUHIGHrucsVGBrAtrI2MEIZByzBNAP3/88Q\n",
       "BocL0BoActoerD1tNT4AAAAASUVORK5CYII=\n",
       "\" style=\"display:inline;vertical-align:middle;\" /></a></span><br>"
      ],
      "text/plain": [
       "QByAssumption: {P , P => Q} |- Q"
      ]
     },
     "execution_count": 22,
     "metadata": {},
     "output_type": "execute_result"
    }
   ],
   "source": [
    "from proveit._common_ import P, Q, R, S\n",
    "QByAssumption = Q.prove([P, Implies(P, Q)])"
   ]
  },
  {
   "cell_type": "code",
   "execution_count": 23,
   "metadata": {},
   "outputs": [
    {
     "data": {
      "text/html": [
       "<table><tr><th>&nbsp;</th><th>step type</th><th>requirements</th><th>statement</th></tr>\n",
       "<tr><td>0</td><td>modus ponens</td><td>1, 2</td><td><span style=\"font-size:20px;\"><a class=\"ProveItLink\" href=\"__pv_it/57bcbf6218ee89c2431b6de442573f62e736243c0/expr.ipynb\"><img src=\"data:image/png;base64,iVBORw0KGgoAAAANSUhEUgAAAGoAAAAVBAMAAABce2awAAAAMFBMVEX///9ERETc3NyqqqpUVFS6\n",
       "urrMzMwyMjIQEBCIiIh2dnYiIiLu7u5mZmaYmJgAAABJJ2g3AAAAAXRSTlMAQObYZgAAAbRJREFU\n",
       "OMtjYGDgu8dACshaBCJ5djGQBjIMgATnBxBzyn8Xly0KYFFO/y8u3k5YlDOtXeUJpHgLgARXA1jo\n",
       "OwMDYxNElh8oLKGAqWt5AgPLHqgGiC62XwwMzL8gsvkLGBjsF8DU8sAYxwWARAuKLs6vwGD5C5Ge\n",
       "H8DA8P4CTDH7ASijGkTcP4CsixHoO5bPEGl5IPY3gOlidYDQvN9A5PoAZF0gv5wXYIB5kecjwjsr\n",
       "IZQ+WHa9AUQDOEhAfmHbC5EGeTEb7MDbu0FgP8Sx9x+A3ZHAwAcK9IwAsF+8Vt2CBhvnl1VrFyGH\n",
       "nTlYxX6w/34AcS0DQ0obxC8H4IoY/6CFOE9FAFQ9JJgZ6xgYIhJA3N8IRfwb0HSlr4GrYO8BEqDE\n",
       "xALyF9tfhKJ8eKBD/LVbBsypBxH2QCvA/uLaAI0uIDgAiy5kYAKh7AM0p7G1MiDHMsQvPL/RvAhO\n",
       "fQUQmmvPAi5DBWRdZ+W/TADp6ldg4Ln43xNFFyMsRYZUzTZgSEBJUdB0gCXNsiEZkMCHTRcf/pzF\n",
       "eCEcpoGPeF0s/7/CEhPPToTwBPy62DoewBMT32KSyw0AFUN6gVp7F/8AAAAASUVORK5CYII=\n",
       "\" style=\"display:inline;vertical-align:middle;\" /></a> <a class=\"ProveItLink\" href=\"__pv_it/8eb4b18db7c361d571b1858a9a339f7519d2ea820/proof.ipynb\" style=\"text-decoration: none\">&#x22A2;&nbsp;</a><a class=\"ProveItLink\" href=\"../packages/proveit/__pv_it/98124f92e6e1fc3772af50ac63eaa1f5624776f20/expr.ipynb\"><img src=\"data:image/png;base64,iVBORw0KGgoAAAANSUhEUgAAAA8AAAASBAMAAAB2sJk8AAAAMFBMVEX///+YmJiqqqq6uroQEBBE\n",
       "RETu7u4iIiLMzMwyMjKIiIhUVFRmZmZ2dnbc3NwAAADS0us6AAAAAXRSTlMAQObYZgAAAHxJREFU\n",
       "CNdjYGDgu3N3FwMI3Gxg4C4D0pkBQMIbiKeDRM8nMPD8ADHuGzC8DwAzFBjOC4AY8Q0M9Qkgxhcw\n",
       "YmBg+svA8B3E4HRjYJgPYug3ALHBqxUczkAOb9kFXtUHIGHrucsVGBrAtrI2MEIZByzBNAP3/88Q\n",
       "BocL0BoActoerD1tNT4AAAAASUVORK5CYII=\n",
       "\" style=\"display:inline;vertical-align:middle;\" /></a></span></td></tr>\n",
       "<tr><td>1</td><td>assumption</td><td></td><td><span style=\"font-size:20px;\"><a class=\"ProveItLink\" href=\"__pv_it/d8ba906a57cf72979849dbaad1c6f164caf428570/expr.ipynb\"><img src=\"data:image/png;base64,iVBORw0KGgoAAAANSUhEUgAAAFMAAAAVBAMAAADInc9CAAAAMFBMVEX///9ERETc3NyqqqpUVFS6\n",
       "urrMzMwyMjIQEBCIiIh2dnYiIiLu7u5mZmaYmJgAAABJJ2g3AAAAAXRSTlMAQObYZgAAAV5JREFU\n",
       "KM9jYGDgu8dACLCtUgBRPLsYCAO2ZhDJ+QFE+H9x8XbCpkjr1pIJQOo6iM3VACL5CxgYJBQwVXKV\n",
       "MTB4H2BgWIFQmr+AgcF+AUwBD5xRCCQ4HFCUzg9gYHh/AaaC/QCMsQFI8P5BUSoPxP4GMKWsDlDG\n",
       "/QSQiq8oSr8DLfuIcOJKCMUEFuL6DFXKWwAKjF8MDNlg+2/vBoH9ELfw/gORjN+AjgMxMgJAgfVl\n",
       "1dpFyD43B4kycP8Bhw7QXnag3pQ2sMY/aIHEUxEAVQQNGfEHDAwRIJfzb0BTmr6GAS5cAQwPbpBy\n",
       "FpBb8+HhBHHrbhlIWIFikhnoVIhbuTZAgxUZmEAo5q9MMxPAnkEElvwBFJVMBVDG6lMMi4UYkJTy\n",
       "XPzviaKUEZYaWN1XbmZgQzEVPc0hscUYnuFTigxkWQtgSvkIKPX/HwBLrzw78SvN6AO5qBXM5ltM\n",
       "XN4CACBwYWeksR12AAAAAElFTkSuQmCC\n",
       "\" style=\"display:inline;vertical-align:middle;\" /></a> <a class=\"ProveItLink\" href=\"__pv_it/c830a869a1d91148b1558768ed5c64ed30fd0fff0/proof.ipynb\" style=\"text-decoration: none\">&#x22A2;&nbsp;</a><a class=\"ProveItLink\" href=\"__pv_it/0ecb625fde376e84d1f8fabde19ab0c6635d1e200/expr.ipynb\"><img src=\"data:image/png;base64,iVBORw0KGgoAAAANSUhEUgAAAEEAAAASBAMAAAD2w64vAAAAMFBMVEX////u7u5mZmaYmJi6urqq\n",
       "qqp2dnbMzMwQEBBEREQyMjLc3NwiIiJUVFSIiIgAAAAeC3ydAAAAAXRSTlMAQObYZgAAAP5JREFU\n",
       "KM9jYGB4+//u3bMbGDABd1LaPQjrFwMDZzcWFVkFDLwHQQz2bwwMrN/g4gIwhtQEINELYvF9YWBg\n",
       "/gRXsRDGWAMi9EEaOD8wMPB+havwhdJM30FkvgOQ4F/AwCA/Aa6C7QGE3g8Wyg8AEvUJDOyHwLrO\n",
       "gAHUQn0DEDm/AEi8v5amhuxZ1iVg6jzYyT/AygTQfCnVApeD+PEPmgL2ZQJwYa5GkADco1B3nISY\n",
       "uR5ExBdAgwMZsF6A0PEO+56zg+3j/IiqYhfM1wcT2CJBPhCa//cBiorZ8KBb9iaAoQBLfCGJcRYw\n",
       "Y1OBBDgVvPArYOD9/4WACvYOYMgDAPldSOLUB00KAAAAAElFTkSuQmCC\n",
       "\" style=\"display:inline;vertical-align:middle;\" /></a></span></td></tr>\n",
       "<tr><td>2</td><td>assumption</td><td></td><td><span style=\"font-size:20px;\"><a class=\"ProveItLink\" href=\"__pv_it/3b150b32aa1d2735d31e6130c9575c3cd6afb4720/expr.ipynb\"><img src=\"data:image/png;base64,iVBORw0KGgoAAAANSUhEUgAAACMAAAAVBAMAAAA+1EraAAAAMFBMVEX///9ERETc3NyqqqpUVFS6\n",
       "urrMzMwyMjIQEBCIiIh2dnYiIiLu7u5mZmaYmJgAAABJJ2g3AAAAAXRSTlMAQObYZgAAALtJREFU\n",
       "GNNjYGDgu8cAA2yrFEAUzy4GBGBrBpGcH0DklP8uLluASq6DOFwNYPnvDAyMTQwMKxBCbL8YGJh/\n",
       "oQhxfgXa8xdFiBFoIstnFCH+AgaG8wJQId4CEJm/gIFtL5B+D+JkBIDI+V6rboGcyX6BgSGlDewG\n",
       "+QNQx4o/YGCISACxfkNFuBcACRaQWWx/oUJgs7g2QJ0FBghHMP5BFzor/2UCuio4wCXEhyIEDi+e\n",
       "ncih2gqm+Bajhj0A3Sw0NKouzW0AAAAASUVORK5CYII=\n",
       "\" style=\"display:inline;vertical-align:middle;\" /></a> <a class=\"ProveItLink\" href=\"__pv_it/affcafcc9fa978c1a598648e204812ca9f5f144e0/proof.ipynb\" style=\"text-decoration: none\">&#x22A2;&nbsp;</a><a class=\"ProveItLink\" href=\"../packages/proveit/__pv_it/6369c6c8083c513ca7161ace249642d040f9327d0/expr.ipynb\"><img src=\"data:image/png;base64,iVBORw0KGgoAAAANSUhEUgAAABAAAAAOBAMAAADUAYG5AAAAMFBMVEX////u7u5mZmaYmJi6urqq\n",
       "qqp2dnbMzMwQEBBEREQyMjLc3NwiIiJUVFSIiIgAAAAeC3ydAAAAAXRSTlMAQObYZgAAAGBJREFU\n",
       "CNdjYGB4+//u3bMbGIDgFwMDZzeQZv/GwMAKxAx8XxgYmD8BGZwfGBh4vwIZ/AsYGOQnABn1CQzs\n",
       "h0Ca3l9LUwPrni/AAAF/oDT7JygDZAwYcH6E0ELz/z4A0QBnpRnRyxnfJQAAAABJRU5ErkJggg==\n",
       "\" style=\"display:inline;vertical-align:middle;\" /></a></span></td></tr>\n",
       "</table>"
      ],
      "text/plain": [
       "\tstep type\trequirements\tstatement\n",
       "0\tmodus ponens\t1, 2\t{P , P => Q} |- Q\n",
       "1\tassumption\t\t{P => Q} |- P => Q\n",
       "2\tassumption\t\t{P} |- P"
      ]
     },
     "execution_count": 23,
     "metadata": {},
     "output_type": "execute_result"
    }
   ],
   "source": [
    "QByAssumption.proof()"
   ]
  },
  {
   "cell_type": "markdown",
   "metadata": {},
   "source": [
    "This can be particularly useful when the proof request is made via some other automation (rather than the manual `prove` request that was demonstrated in the cell above).  This automation is enabled via a `sideEffects` method in the `Implies` class which yields `deriveConsequent` as a method that should be called when an `Implies` object is created."
   ]
  },
  {
   "cell_type": "code",
   "execution_count": 24,
   "metadata": {},
   "outputs": [
    {
     "name": "stdout",
     "output_type": "stream",
     "text": [
      "Help on function sideEffects in module proveit.logic.boolean.implication.implies:\n",
      "\n",
      "sideEffects(self, knownTruth)\n",
      "    Yield the TransitiveRelation side-effects (which also records knownLeftSides\n",
      "    and knownRightSides).  Also derive the consequent as a side-effect.\n",
      "    As a special case, if the consequent is FALSE, do deriveViaContradiction.\n",
      "\n"
     ]
    }
   ],
   "source": [
    "help(Implies.sideEffects)"
   ]
  },
  {
   "cell_type": "markdown",
   "metadata": {},
   "source": [
    "Note that there are several things that may be attempted as automation here, not just `deriveConsequent`.  In general, the `sideEffects` method of an **Expression** is called, if it exists, whenever a **KnownTruth** for that **Expression** is created.  The **KnownTruth** object is passed to this method and the method should yield methods that should be called for deriving desired side-effects.  This enables automation for a variety of **Expression** types, not just `Implies` objects.  Another way that automation may be performed is by implementing a `conclude` method which may attempt to automatically prove a particular type of expression under a given set of assumptions:"
   ]
  },
  {
   "cell_type": "code",
   "execution_count": 25,
   "metadata": {},
   "outputs": [
    {
     "name": "stdout",
     "output_type": "stream",
     "text": [
      "Help on function conclude in module proveit.logic.boolean.implication.implies:\n",
      "\n",
      "conclude(self, assumptions)\n",
      "    Try to automatically conclude this implication by reducing its operands\n",
      "    to true/false, or by doing a \"transitivity\" search amongst known true implications\n",
      "    whose assumptions are covered by the given assumptions.\n",
      "\n"
     ]
    }
   ],
   "source": [
    "help(Implies.conclude)"
   ]
  },
  {
   "cell_type": "markdown",
   "metadata": {},
   "source": [
    "The following example of automation relies on the `sideEffects` method to populate a dictionary of **KnownTruth** implications and also on `conclude` to perform a search over these implications to find a path to a conclusion from a hypothesis using intermediate implications via transitivity relations (from $A \\Rightarrow B$ and $B \\Rightarrow C$, we can obtain $A \\Rightarrow C$, as we proved in the previous section). "
   ]
  },
  {
   "cell_type": "code",
   "execution_count": 26,
   "metadata": {},
   "outputs": [
    {
     "data": {
      "text/html": [
       "<strong id=\"P_impl_S\">P_impl_S:</strong> <span style=\"font-size:20px;\"><a class=\"ProveItLink\" href=\"__pv_it/b27df375699b9b4bcb65612c9f871677bd3e36200/expr.ipynb\"><img src=\"data:image/png;base64,iVBORw0KGgoAAAANSUhEUgAAAOUAAAAVBAMAAABLdTQ8AAAAMFBMVEX///9ERETc3NyqqqpUVFS6\n",
       "urrMzMwyMjIQEBCIiIh2dnYiIiLu7u5mZmaYmJgAAABJJ2g3AAAAAXRSTlMAQObYZgAAAq1JREFU\n",
       "SMe9Vj1oFEEU/u72ds+77O6JhVoouU6w0EawzAUOxFh4hYXlFYLpEgslEQtRFAQxK4hgIQnEwkSL\n",
       "iDYxiGelCKKdEH9yRbSNZ3InJtHzzezM7szenAaEe8XMfrPfvO/NvHmzC8D/jJ6ZM1tknfsUPTTn\n",
       "Mmtz31h7q10uPykaSPsX7wVmEBtNHhw3AtWWP338Arxnj/mLfOQHkLrUScyfA47VTEC1BvBq1Ahi\n",
       "y9bxgpZ3P9Z01gFrPSJIx+4ZaraVDEAhwfkJZJomADdiD5HAqKaZI5b/KyJckMHNUeNtGoBCQq5F\n",
       "L1smgKwMLE1DTqBppmjZmdXI3QnRL1UZo2kACgkpcjFSMgHY8skm505V0yzQst9uj9MYHpV0g4PV\n",
       "TqCQaHIJ1jxMAJiR62zf5j3X9Hi+R6bgPONwgVu4zd5vHnkrCTQSTT5691okEoEPnPP8nRifbDdY\n",
       "Xayw5+EKHxmaXVRLxTrL2j6evEJ4sjWgkGhyDQNVOagBssMVsdDliesswRTDqat8pD9ZAi+vRAID\n",
       "U0ASKCRgN99RYRpgJ3esInPBN2pXHTjJg9pI3hfnWRAFdlIxFsajAYUErAEHIxkNkJ1+yDtScplm\n",
       "H4s5w/LpRGUiUvWIe8uyO8oSB18BGgkO+VqRy49BmM+FPeFqaUvT32U+83OiPFWzwkitZvpOlSW8\n",
       "poIEiVfkUuCGd4QE0g4JLq3MK0GtldSmrrlP9A9eY3oHRbmhgA4Sq+3J4EBIEkBy0uIW9Kh8bkLV\n",
       "fNO/pt/d0rV9ZOYxHLgTxRgkSXyyNx5wkgTRdSGKIWOXB+uaZocph30nvpJcUQEGUhig4bvkJAe6\n",
       "ayq216bt8VXQzfytfEC5pv8PzePtSuyOg//S5N9Pd/7vpOEb1AQq6GbBVv4TwlvEn+7x/9AfXyD5\n",
       "LaZB4qQAAAAASUVORK5CYII=\n",
       "\" style=\"display:inline;vertical-align:middle;\" /></a> <a class=\"ProveItLink\" href=\"__pv_it/ba804a8cab1d0c30310638a3b121fad0fd98eeaf0/proof.ipynb\" style=\"text-decoration: none\">&#x22A2;&nbsp;</a><a class=\"ProveItLink\" href=\"__pv_it/bf32bfdf201001610c81399c39e150760cefa8340/expr.ipynb\"><img src=\"data:image/png;base64,iVBORw0KGgoAAAANSUhEUgAAAD8AAAAPBAMAAAChCwpBAAAAMFBMVEX////u7u5mZmaYmJi6urqq\n",
       "qqp2dnbMzMwQEBBEREQyMjLc3NwiIiJUVFSIiIgAAAAeC3ydAAAAAXRSTlMAQObYZgAAAOJJREFU\n",
       "GNNjYGB4+//u3bMbGDAB8yUlYQcQ4xcDA2c3FgWLGRjng2j2bwwMrN/gwgIwBm8CA0MUiMH3BWja\n",
       "J7iChTDG/gIGhjoQg/MDUPVXuAJfGMM/gIGhHMTgX8DAID8BroDtAcyEfwUQRn0CA/shEIPpDBjA\n",
       "bOP7/382mPH+Wpoasi9Zl0AZm2/8ALt4vgCa96RaYKx8AxD5B02efRlYBzMQy4MUsMN9CHXDSYiJ\n",
       "QiB3boAGAzJgvQChQWGkCw6Gj6gKdkFpnQcMfCDPC83/+wBFwWwofcH37mQGbKAAlQsABaZAYPTC\n",
       "uLIAAAAASUVORK5CYII=\n",
       "\" style=\"display:inline;vertical-align:middle;\" /></a></span><br>"
      ],
      "text/plain": [
       "P_impl_S: {P => Q , Q => R , R => S} |- P => S"
      ]
     },
     "execution_count": 26,
     "metadata": {},
     "output_type": "execute_result"
    }
   ],
   "source": [
    "P_impl_S = Implies(P, S).prove([Implies(P, Q), Implies(Q, R), Implies(R, S)])"
   ]
  },
  {
   "cell_type": "markdown",
   "metadata": {},
   "source": [
    "Below, we display the proof for the above **known truth** that was proven via automation. Notice that the proof relies upon invoking a theorem and applying *specialization* which will be discussed in detail in later tutorial chapters.  Consider this to be a sneak peak."
   ]
  },
  {
   "cell_type": "code",
   "execution_count": 27,
   "metadata": {},
   "outputs": [
    {
     "data": {
      "text/html": [
       "<table><tr><th>&nbsp;</th><th>step type</th><th>requirements</th><th>statement</th></tr>\n",
       "<tr><td>0</td><td>specialization</td><td>3, 1, 2</td><td><span style=\"font-size:20px;\"><a class=\"ProveItLink\" href=\"__pv_it/b27df375699b9b4bcb65612c9f871677bd3e36200/expr.ipynb\"><img src=\"data:image/png;base64,iVBORw0KGgoAAAANSUhEUgAAAOUAAAAVBAMAAABLdTQ8AAAAMFBMVEX///9ERETc3NyqqqpUVFS6\n",
       "urrMzMwyMjIQEBCIiIh2dnYiIiLu7u5mZmaYmJgAAABJJ2g3AAAAAXRSTlMAQObYZgAAAq1JREFU\n",
       "SMe9Vj1oFEEU/u72ds+77O6JhVoouU6w0EawzAUOxFh4hYXlFYLpEgslEQtRFAQxK4hgIQnEwkSL\n",
       "iDYxiGelCKKdEH9yRbSNZ3InJtHzzezM7szenAaEe8XMfrPfvO/NvHmzC8D/jJ6ZM1tknfsUPTTn\n",
       "Mmtz31h7q10uPykaSPsX7wVmEBtNHhw3AtWWP338Arxnj/mLfOQHkLrUScyfA47VTEC1BvBq1Ahi\n",
       "y9bxgpZ3P9Z01gFrPSJIx+4ZaraVDEAhwfkJZJomADdiD5HAqKaZI5b/KyJckMHNUeNtGoBCQq5F\n",
       "L1smgKwMLE1DTqBppmjZmdXI3QnRL1UZo2kACgkpcjFSMgHY8skm505V0yzQst9uj9MYHpV0g4PV\n",
       "TqCQaHIJ1jxMAJiR62zf5j3X9Hi+R6bgPONwgVu4zd5vHnkrCTQSTT5691okEoEPnPP8nRifbDdY\n",
       "Xayw5+EKHxmaXVRLxTrL2j6evEJ4sjWgkGhyDQNVOagBssMVsdDliesswRTDqat8pD9ZAi+vRAID\n",
       "U0ASKCRgN99RYRpgJ3esInPBN2pXHTjJg9pI3hfnWRAFdlIxFsajAYUErAEHIxkNkJ1+yDtScplm\n",
       "H4s5w/LpRGUiUvWIe8uyO8oSB18BGgkO+VqRy49BmM+FPeFqaUvT32U+83OiPFWzwkitZvpOlSW8\n",
       "poIEiVfkUuCGd4QE0g4JLq3MK0GtldSmrrlP9A9eY3oHRbmhgA4Sq+3J4EBIEkBy0uIW9Kh8bkLV\n",
       "fNO/pt/d0rV9ZOYxHLgTxRgkSXyyNx5wkgTRdSGKIWOXB+uaZocph30nvpJcUQEGUhig4bvkJAe6\n",
       "ayq216bt8VXQzfytfEC5pv8PzePtSuyOg//S5N9Pd/7vpOEb1AQq6GbBVv4TwlvEn+7x/9AfXyD5\n",
       "LaZB4qQAAAAASUVORK5CYII=\n",
       "\" style=\"display:inline;vertical-align:middle;\" /></a> <a class=\"ProveItLink\" href=\"__pv_it/ba804a8cab1d0c30310638a3b121fad0fd98eeaf0/proof.ipynb\" style=\"text-decoration: none\">&#x22A2;&nbsp;</a><a class=\"ProveItLink\" href=\"__pv_it/bf32bfdf201001610c81399c39e150760cefa8340/expr.ipynb\"><img src=\"data:image/png;base64,iVBORw0KGgoAAAANSUhEUgAAAD8AAAAPBAMAAAChCwpBAAAAMFBMVEX////u7u5mZmaYmJi6urqq\n",
       "qqp2dnbMzMwQEBBEREQyMjLc3NwiIiJUVFSIiIgAAAAeC3ydAAAAAXRSTlMAQObYZgAAAOJJREFU\n",
       "GNNjYGB4+//u3bMbGDAB8yUlYQcQ4xcDA2c3FgWLGRjng2j2bwwMrN/gwgIwBm8CA0MUiMH3BWja\n",
       "J7iChTDG/gIGhjoQg/MDUPVXuAJfGMM/gIGhHMTgX8DAID8BroDtAcyEfwUQRn0CA/shEIPpDBjA\n",
       "bOP7/382mPH+Wpoasi9Zl0AZm2/8ALt4vgCa96RaYKx8AxD5B02efRlYBzMQy4MUsMN9CHXDSYiJ\n",
       "QiB3boAGAzJgvQChQWGkCw6Gj6gKdkFpnQcMfCDPC83/+wBFwWwofcH37mQGbKAAlQsABaZAYPTC\n",
       "uLIAAAAASUVORK5CYII=\n",
       "\" style=\"display:inline;vertical-align:middle;\" /></a></span></td></tr>\n",
       "<tr><td>&nbsp;</td><td colspan=4 style=\"text-align:left\"><span style=\"font-size:20px;\"><a class=\"ProveItLink\" href=\"../packages/proveit/__pv_it/2cbe72a7ad6f655694dd697106680215e8489b600/expr.ipynb\"><img src=\"data:image/png;base64,iVBORw0KGgoAAAANSUhEUgAAAA8AAAAOBAMAAAACpFvcAAAALVBMVEX///8QEBBERERUVFS6urqI\n",
       "iIhmZmaqqqrc3Nzu7u6YmJgyMjIiIiLMzMwAAADtIaYWAAAAAXRSTlMAQObYZgAAAFtJREFUCNdj\n",
       "YACBOwxQsA9Kc52bAGG05zVAGAFxDmCaZULdAjBjCsO9ADDDgaEvAUTzGhvbKYCVMDAwbgAxChgY\n",
       "eASANAeQwf0AyJgNxEwvGRia5HYwcOm9TgAA6BoR3jrzwFcAAAAASUVORK5CYII=\n",
       "\" style=\"display:inline;vertical-align:middle;\" /></a> : <a class=\"ProveItLink\" href=\"../packages/proveit/__pv_it/6369c6c8083c513ca7161ace249642d040f9327d0/expr.ipynb\"><img src=\"data:image/png;base64,iVBORw0KGgoAAAANSUhEUgAAABAAAAAOBAMAAADUAYG5AAAAMFBMVEX////u7u5mZmaYmJi6urqq\n",
       "qqp2dnbMzMwQEBBEREQyMjLc3NwiIiJUVFSIiIgAAAAeC3ydAAAAAXRSTlMAQObYZgAAAGBJREFU\n",
       "CNdjYGB4+//u3bMbGIDgFwMDZzeQZv/GwMAKxAx8XxgYmD8BGZwfGBh4vwIZ/AsYGOQnABn1CQzs\n",
       "h0Ca3l9LUwPrni/AAAF/oDT7JygDZAwYcH6E0ELz/z4A0QBnpRnRyxnfJQAAAABJRU5ErkJggg==\n",
       "\" style=\"display:inline;vertical-align:middle;\" /></a>, <a class=\"ProveItLink\" href=\"../packages/proveit/__pv_it/077b2ff79244fb4582cbe22c6e3356fa92a52f2f0/expr.ipynb\"><img src=\"data:image/png;base64,iVBORw0KGgoAAAANSUhEUgAAABAAAAAOBAMAAADUAYG5AAAAMFBMVEX///+qqqru7u4iIiJ2dnbc\n",
       "3NyIiIjMzMxmZmYQEBC6uroyMjJERERUVFSYmJgAAADLUcuvAAAAAXRSTlMAQObYZgAAAGpJREFU\n",
       "CNdjYGB4+//u3dMLGIBgDgMDxy8gzf4NiP8CGWxfGRj4vgAZPBMYGJgnARn8FxhY9ygAGfXX0pof\n",
       "gDTlBzAw2YIYJ0EckBBI53sHoBH/gIz7AhBjWH9DjancBLTl/N+7t/cxMAAA3u4f/5xagjYAAAAA\n",
       "SUVORK5CYII=\n",
       "\" style=\"display:inline;vertical-align:middle;\" /></a> : <a class=\"ProveItLink\" href=\"../packages/proveit/__pv_it/e24df48bc297bbcf3538a62f5b4f635a392abfce0/expr.ipynb\"><img src=\"data:image/png;base64,iVBORw0KGgoAAAANSUhEUgAAABAAAAAOBAMAAADUAYG5AAAAMFBMVEX///92dnaYmJjc3NxmZmYi\n",
       "IiKqqqq6urrMzMwQEBDu7u4yMjJERERUVFSIiIgAAAArjcN0AAAAAXRSTlMAQObYZgAAAG1JREFU\n",
       "CNdjYGB4+//unX0MIPCHgWHlBiDN8Y+Bgfc7kMH3g4GBG4gZeCYwMPRfADL4LzCwxYHU9t97Mg+s\n",
       "6f0ChvwGEOMkWBYI/jIw2IMYHJ8YGPQFoMb4P+ACGvMBqP6BEcOS838fMLDsewAAOpQikqrQNfgA\n",
       "AAAASUVORK5CYII=\n",
       "\" style=\"display:inline;vertical-align:middle;\" /></a>, <a class=\"ProveItLink\" href=\"../packages/proveit/__pv_it/985a1bdf1540838275dec15f4ad6de261cca93ce0/expr.ipynb\"><img src=\"data:image/png;base64,iVBORw0KGgoAAAANSUhEUgAAAA8AAAAOBAMAAAACpFvcAAAAMFBMVEX////MzMyqqqoiIiIyMjK6\n",
       "uroQEBB2dnbc3NyYmJhmZmZUVFRERESIiIju7u4AAAB204erAAAAAXRSTlMAQObYZgAAAGZJREFU\n",
       "CNdjYGDgu7NrJccCBgaGsgkMrMsmMDA8sQNy6hsYGNweABlhDAxcn4A0QxcDQ78DiPGQgWH9BAYI\n",
       "sG+AMv6DSaCGfBDNJMDAsB+kmwuI5S8AiTog5gSaEwXWIO29SgFIAQBC+RaDQlidVgAAAABJRU5E\n",
       "rkJggg==\n",
       "\" style=\"display:inline;vertical-align:middle;\" /></a> : <a class=\"ProveItLink\" href=\"../packages/proveit/__pv_it/abeee18594afe51bfb1be95d9591fbba24ac53f30/expr.ipynb\"><img src=\"data:image/png;base64,iVBORw0KGgoAAAANSUhEUgAAAA0AAAAOBAMAAAAGUYvhAAAAMFBMVEX///8iIiIQEBCIiIjMzMzc\n",
       "3Nyqqqp2dnZEREQyMjK6urru7u5mZmZUVFSYmJgAAACI6eGPAAAAAXRSTlMAQObYZgAAAF1JREFU\n",
       "CNdjYGDgu3Nm3wIGBoZ5DNz9QIq3gIEhE0jHOzAwOAPp9QkMDC4g/megABAw///fCmbEXfq0Acxg\n",
       "qH8ANAVI7wfSe0BKAyBGnAXigwYMzA1A+sLau31ACgAz0hhbkhGHbwAAAABJRU5ErkJggg==\n",
       "\" style=\"display:inline;vertical-align:middle;\" /></a></span></td></tr><tr><td>1</td><td>specialization</td><td>3, 4, 5</td><td><span style=\"font-size:20px;\"><a class=\"ProveItLink\" href=\"__pv_it/5e46717ba826679b2cc122a2a188b5438abc25690/expr.ipynb\"><img src=\"data:image/png;base64,iVBORw0KGgoAAAANSUhEUgAAAJ0AAAAVBAMAAACu6/FQAAAAMFBMVEX///9ERETc3NyqqqpUVFS6\n",
       "urrMzMwyMjIQEBCIiIh2dnYiIiLu7u5mZmaYmJgAAABJJ2g3AAAAAXRSTlMAQObYZgAAAnVJREFU\n",
       "OMutVU1oE0EUfvnbmO3upvSgPSjpTfSgEQSPiVKQ0kP2UNDjHgQLHhIPSlsFBa0oiO5BBBFJsII2\n",
       "Wox4qik0t4og1JOgYHryGotJ1FqN897M7M7GGC8ZyJs3u2+/ed/33kwAwPoEAxlaeQwn4xUMaGhX\n",
       "0Ca+oMk1xyeP9Qra/+GRK/3wUnmiV8ydzvjRWTa/x4V+GW2yADA69neofh5gsiYWjx2IrvQC3AR4\n",
       "zQCe+Hj5EkCmJN8bnnOWmR1ZvlgbZuaqj1LziP4AiLYCeEUboLEuA+IyNF5hxtzmiwto6h4KXJRO\n",
       "os0i2wG8FPvl0jIgJjKCuoMRLfLNNtrntoc3JZ0Qg8hnA3jfGLdNn8qiKAA90r/S4uAw4aV9bWWh\n",
       "klmILIPAMwuowBbAGaL7sYpjlVM3f9P2bZ7rBhHBjE0Kqv4SePmJBzdwbqCZRgKJZnnpoVqxI0Rr\n",
       "iJRLEgNYJeW+K0GRc3wu1iCD28RZFqeuUQrbXR1gzNgekqg7IUW21Ki1eZpGiTIbuxiFk4icrHTh\n",
       "nX4G3uMZXtKfVPCb6oGY42+aTFzEG8KNo6hf3msVrl91N28XPDsRLh9colwd8PV7weE0pnKjJPXT\n",
       "K6L91HFYCNQK33NQYPwwY++7q82r8mX99qu7htovqVoALlwQztM3sDDC1ESu+kpJP6Qeyb2y/RiL\n",
       "onvAxzPedYLnPCQ/ix1ffAkaGLfxwdTc/TQ4ftQIn96mmi6Ys26gn7tuHsXfCZ8ZLt8g5FgKntP9\n",
       "2T/x1LEnxshbIu/1E/1CCc/6D16uY3t40U6rXyjdf8Zyf7zpW8yIk6pd3+h3P/PiWwsD/P/4Axz1\n",
       "r8TldTChAAAAAElFTkSuQmCC\n",
       "\" style=\"display:inline;vertical-align:middle;\" /></a> <a class=\"ProveItLink\" href=\"__pv_it/601ec3baf662d9289194789dfbeaf5ca0c65f4020/proof.ipynb\" style=\"text-decoration: none\">&#x22A2;&nbsp;</a><a class=\"ProveItLink\" href=\"__pv_it/2266d8039de5c1c30d1c42a832a249ea3bd6dd070/expr.ipynb\"><img src=\"data:image/png;base64,iVBORw0KGgoAAAANSUhEUgAAAEEAAAAPBAMAAABJi79qAAAAMFBMVEX////u7u5mZmaYmJi6urqq\n",
       "qqp2dnbMzMwQEBBEREQyMjLc3NwiIiJUVFSIiIgAAAAeC3ydAAAAAXRSTlMAQObYZgAAAPFJREFU\n",
       "GNNjYGB4+//u3bMbGDAA3/2/d2c9ADN/MTBwdmOqYOCfwMDYBWKwf2NgYP0GFxeAs+qBBtx3AJn2\n",
       "hYGB+RNcfCGc9b6AgWE9EDNwfmBg4P0KF/eFs2YAzf8Ltm4BA4P8BLg42wMYCygbA+bUJzCwHwIx\n",
       "mM6AAcxC9r/vNCCq319LU0P2LOsSqG8/MrB+B7PmC6D5UqoFTHE2gC0Cgj9oCtiXQbTwX2DgBqtg\n",
       "h3sU6o6TUDPrDRiYwcEECg5kwHoBERxM/0AByPkRVcUuGGM+UPc/bgMGofl/H6ComA2hGDX/32Ng\n",
       "0HqHJb4K0PgA0SdLbLQ+4V8AAAAASUVORK5CYII=\n",
       "\" style=\"display:inline;vertical-align:middle;\" /></a></span></td></tr>\n",
       "<tr><td>&nbsp;</td><td colspan=4 style=\"text-align:left\"><span style=\"font-size:20px;\"><a class=\"ProveItLink\" href=\"../packages/proveit/__pv_it/2cbe72a7ad6f655694dd697106680215e8489b600/expr.ipynb\"><img src=\"data:image/png;base64,iVBORw0KGgoAAAANSUhEUgAAAA8AAAAOBAMAAAACpFvcAAAALVBMVEX///8QEBBERERUVFS6urqI\n",
       "iIhmZmaqqqrc3Nzu7u6YmJgyMjIiIiLMzMwAAADtIaYWAAAAAXRSTlMAQObYZgAAAFtJREFUCNdj\n",
       "YACBOwxQsA9Kc52bAGG05zVAGAFxDmCaZULdAjBjCsO9ADDDgaEvAUTzGhvbKYCVMDAwbgAxChgY\n",
       "eASANAeQwf0AyJgNxEwvGRia5HYwcOm9TgAA6BoR3jrzwFcAAAAASUVORK5CYII=\n",
       "\" style=\"display:inline;vertical-align:middle;\" /></a> : <a class=\"ProveItLink\" href=\"../packages/proveit/__pv_it/6369c6c8083c513ca7161ace249642d040f9327d0/expr.ipynb\"><img src=\"data:image/png;base64,iVBORw0KGgoAAAANSUhEUgAAABAAAAAOBAMAAADUAYG5AAAAMFBMVEX////u7u5mZmaYmJi6urqq\n",
       "qqp2dnbMzMwQEBBEREQyMjLc3NwiIiJUVFSIiIgAAAAeC3ydAAAAAXRSTlMAQObYZgAAAGBJREFU\n",
       "CNdjYGB4+//u3bMbGIDgFwMDZzeQZv/GwMAKxAx8XxgYmD8BGZwfGBh4vwIZ/AsYGOQnABn1CQzs\n",
       "h0Ca3l9LUwPrni/AAAF/oDT7JygDZAwYcH6E0ELz/z4A0QBnpRnRyxnfJQAAAABJRU5ErkJggg==\n",
       "\" style=\"display:inline;vertical-align:middle;\" /></a>, <a class=\"ProveItLink\" href=\"../packages/proveit/__pv_it/077b2ff79244fb4582cbe22c6e3356fa92a52f2f0/expr.ipynb\"><img src=\"data:image/png;base64,iVBORw0KGgoAAAANSUhEUgAAABAAAAAOBAMAAADUAYG5AAAAMFBMVEX///+qqqru7u4iIiJ2dnbc\n",
       "3NyIiIjMzMxmZmYQEBC6uroyMjJERERUVFSYmJgAAADLUcuvAAAAAXRSTlMAQObYZgAAAGpJREFU\n",
       "CNdjYGB4+//u3dMLGIBgDgMDxy8gzf4NiP8CGWxfGRj4vgAZPBMYGJgnARn8FxhY9ygAGfXX0pof\n",
       "gDTlBzAw2YIYJ0EckBBI53sHoBH/gIz7AhBjWH9DjancBLTl/N+7t/cxMAAA3u4f/5xagjYAAAAA\n",
       "SUVORK5CYII=\n",
       "\" style=\"display:inline;vertical-align:middle;\" /></a> : <a class=\"ProveItLink\" href=\"../packages/proveit/__pv_it/98124f92e6e1fc3772af50ac63eaa1f5624776f20/expr.ipynb\"><img src=\"data:image/png;base64,iVBORw0KGgoAAAANSUhEUgAAAA8AAAASBAMAAAB2sJk8AAAAMFBMVEX///+YmJiqqqq6uroQEBBE\n",
       "RETu7u4iIiLMzMwyMjKIiIhUVFRmZmZ2dnbc3NwAAADS0us6AAAAAXRSTlMAQObYZgAAAHxJREFU\n",
       "CNdjYGDgu3N3FwMI3Gxg4C4D0pkBQMIbiKeDRM8nMPD8ADHuGzC8DwAzFBjOC4AY8Q0M9Qkgxhcw\n",
       "YmBg+svA8B3E4HRjYJgPYug3ALHBqxUczkAOb9kFXtUHIGHrucsVGBrAtrI2MEIZByzBNAP3/88Q\n",
       "BocL0BoActoerD1tNT4AAAAASUVORK5CYII=\n",
       "\" style=\"display:inline;vertical-align:middle;\" /></a>, <a class=\"ProveItLink\" href=\"../packages/proveit/__pv_it/985a1bdf1540838275dec15f4ad6de261cca93ce0/expr.ipynb\"><img src=\"data:image/png;base64,iVBORw0KGgoAAAANSUhEUgAAAA8AAAAOBAMAAAACpFvcAAAAMFBMVEX////MzMyqqqoiIiIyMjK6\n",
       "uroQEBB2dnbc3NyYmJhmZmZUVFRERESIiIju7u4AAAB204erAAAAAXRSTlMAQObYZgAAAGZJREFU\n",
       "CNdjYGDgu7NrJccCBgaGsgkMrMsmMDA8sQNy6hsYGNweABlhDAxcn4A0QxcDQ78DiPGQgWH9BAYI\n",
       "sG+AMv6DSaCGfBDNJMDAsB+kmwuI5S8AiTog5gSaEwXWIO29SgFIAQBC+RaDQlidVgAAAABJRU5E\n",
       "rkJggg==\n",
       "\" style=\"display:inline;vertical-align:middle;\" /></a> : <a class=\"ProveItLink\" href=\"../packages/proveit/__pv_it/e24df48bc297bbcf3538a62f5b4f635a392abfce0/expr.ipynb\"><img src=\"data:image/png;base64,iVBORw0KGgoAAAANSUhEUgAAABAAAAAOBAMAAADUAYG5AAAAMFBMVEX///92dnaYmJjc3NxmZmYi\n",
       "IiKqqqq6urrMzMwQEBDu7u4yMjJERERUVFSIiIgAAAArjcN0AAAAAXRSTlMAQObYZgAAAG1JREFU\n",
       "CNdjYGB4+//unX0MIPCHgWHlBiDN8Y+Bgfc7kMH3g4GBG4gZeCYwMPRfADL4LzCwxYHU9t97Mg+s\n",
       "6f0ChvwGEOMkWBYI/jIw2IMYHJ8YGPQFoMb4P+ACGvMBqP6BEcOS838fMLDsewAAOpQikqrQNfgA\n",
       "AAAASUVORK5CYII=\n",
       "\" style=\"display:inline;vertical-align:middle;\" /></a></span></td></tr><tr><td>2</td><td>assumption</td><td></td><td><span style=\"font-size:20px;\"><a class=\"ProveItLink\" href=\"__pv_it/be2737bca3b99e18d22eeda10666e4a81c190d730/expr.ipynb\"><img src=\"data:image/png;base64,iVBORw0KGgoAAAANSUhEUgAAAFEAAAAVBAMAAADMaB9/AAAAMFBMVEX////c3NxERESqqqpUVFS6\n",
       "urrMzMwyMjIQEBCIiIh2dnYiIiLu7u5mZmaYmJgAAABXZE4RAAAAAXRSTlMAQObYZgAAAVRJREFU\n",
       "KM9jYGDgu8dAALCtEgBRPLsYCAK2ZhDJ+QFETvnv4lSJTdGTu3eeMjBcBzG5GsAinxgYThRgKmR/\n",
       "wHAIaNQKhEq2nwwMLF9h8jxwlV4MDMwFKCo5vwH1f4ObdADKYAQKsU1AUckEJPMdYCpZYSzWz0CV\n",
       "CSgq+R0YmHcinLcSZub/aWAarJIX7I98z7mdYLHbu0Fg/wWo0vn/P4HC8j2InREAFjnAYJ+A5Gfz\n",
       "AKihT/p7QA4H6kxpA4togB2AADwVUKUMXP9ApPoDBoYIsFFfGBjkkVWmrwFTQHkekEruBUCCBeRO\n",
       "NiD3/QKEO3frQEwGWsr4EeZOrg3Q4Lw/ARHgJhAKFOi8DgzIocQEjLH5E+RgChmh8coLDLhJDMgq\n",
       "z+p/mcDAWzkBppJJAEKzsLo4PUBRiZHK0AVwqmTAqpKPGJXg9Mmzk4g03wqm+BYTlY8Ak2lg4ttd\n",
       "9VwAAAAASUVORK5CYII=\n",
       "\" style=\"display:inline;vertical-align:middle;\" /></a> <a class=\"ProveItLink\" href=\"__pv_it/d2660deef828681313e6fe9161e64ceb839b0d590/proof.ipynb\" style=\"text-decoration: none\">&#x22A2;&nbsp;</a><a class=\"ProveItLink\" href=\"__pv_it/802c3043bd6a72e41e44712c2843c17c83a574050/expr.ipynb\"><img src=\"data:image/png;base64,iVBORw0KGgoAAAANSUhEUgAAAD4AAAAPBAMAAABOyWF/AAAAMFBMVEX///92dnaYmJjc3NxmZmYi\n",
       "IiKqqqq6urrMzMwQEBDu7u4yMjJERERUVFSIiIgAAAArjcN0AAAAAXRSTlMAQObYZgAAAPFJREFU\n",
       "GNNjYGB4+//unX0MWICui5c6iP7DwLByA6Y0twLDmg9AmuMfAwPvd5goF1z+IgMDG0gb3w+g2h9w\n",
       "XQugDGagEMcDIINnAgND/wWYPDuMxf4NKN8AZPBfYGCLQ1grB9P//wWE0X/vyTwwwzUUBOIdoAre\n",
       "//9jAKYXMOQ3ILk7uwBqgO78WSD6JNgKBODaCVXAwPgJRP5lYLBHlu+WAlMKQJUgeQ4goS+AsD/0\n",
       "FMQUoDOYP0O97/8AESy5EAoUNCwgY3mAYfj+gRFMmhka0ixAL78B0kvO/33AwLLvAUyexwBC87Lf\n",
       "vaOAJdI4ULkAzXFEBsI7SAUAAAAASUVORK5CYII=\n",
       "\" style=\"display:inline;vertical-align:middle;\" /></a></span></td></tr>\n",
       "<tr><td>3</td><td>theorem</td><td></td><td><span style=\"font-size:20px;\"> <a class=\"ProveItLink\" href=\"../packages/proveit/logic/boolean/implication/_proofs_/implicationTransitivity.ipynb\" style=\"text-decoration: none\">&#x22A2;&nbsp;</a><a class=\"ProveItLink\" href=\"../packages/proveit/logic/boolean/implication/__pv_it/ee719062273bab1aaecce9c77304c6feceb388740/expr.ipynb\"><img src=\"data:image/png;base64,iVBORw0KGgoAAAANSUhEUgAAAQMAAAAXBAMAAAD9zzfBAAAAMFBMVEX///8QEBC6urrMzMxUVFRm\n",
       "ZmZERETc3NwyMjKqqqp2dnaIiIiYmJgiIiLu7u4AAAAU9Wx4AAAAAXRSTlMAQObYZgAAA4hJREFU\n",
       "SMfFVj1MFFEQHu7YW+5uWYwW/hSIiVYauYJoQQxEgdhxxltIiEaI4bCSLVQwRjmMhmihNJDYYSxE\n",
       "SeCMqAWFq4VRjBELKRT1iJIYiT+RgCIIzszb3Xt3nmBzOsm+eTvvzXvf/O4C/H9KZPPwzcvuuI/P\n",
       "CE0eZweBt1ywkUyL+u3KfWpYCQFco9cL2YGQJ1yc9yXT4mULPHssiAEcwze1PjsQhgR7spAh7u9f\n",
       "4zBgwrBAqnRmB0Ihj2rXt6TI9Xc7gdkAMA6gXW1pOZkdBJ4Ys2Dwa1K20ebKLI1HAXxo/kw0+iI7\n",
       "EJQeZlv980lZIC54G8N7i4IwwC6AJpZ28Ng9bVSFBPrKukmTjHGzy0we5W82IgfTFAQNGv137P0W\n",
       "Z36Rd44BvWKaFmsHLOegGLlGZ0SacJe2AoIruJTGABpo4nMOf1ok3XQP4EaqgqAdFvjs1xze7wF1\n",
       "WtLzn2b2xjHHg5vzIciIJoS7lHLwcPoUo2ndMgTdRU4UwR1mioI4cQpvsQusgCGUVFTMyOF5v5LG\n",
       "Rac+vFixQSufK6X/OUvz46BQK9HX4VAqQwh8DDO/xONLgP0pCuCnuhrH+HvjMgQc1sjt6jzftp41\n",
       "QgKCHivhpXiUt3wOwUOyLkD95JMModQnrPPRsj4FWkeKgkipAVqziz+HMPnxeSblwqhYrCam2IGA\n",
       "pp0ky7WNKh4aPMzGue3KgVCOxtZEo9FDq0hzbqgqkVRQUB5tR6NGJYN9FLjj+FyUUkH0bCgjT/VT\n",
       "KlEidrEbH8FdXuvFTKOzC3rSIGidQbvRKnvRSTHQClMUkIwQ/JAgUL1xqjcnv4WtNtewL2wy7U2Q\n",
       "Q4D054bY2IiuJQfmIAQ9LkH4aNTYjdbbaIIvDDp3F1cBaVstUAZNOqk5AmrDdxMeLJ51ITQ5k5Iz\n",
       "BmvlUcJoHBYTyri6Z0UtgIKBCCQkCLXgnYJbBlIlOamTk99RCJI8ggbV2P5lWv17uwqlC8bd2RY8\n",
       "1VI7QF0AFUuj1dTXAlyRAuHBwM7DJ6QP5Ju2BJwMg6ug00IfndgJAfea4b9ooX3O5N0MqNVj3nno\n",
       "nTZ2o4PKLJiovJ5IQtCr6+HIT24MVECBi0bkHIbEVXD+DvRIXX/6x3opEm1RIs2dSV3Il7bpVEYF\n",
       "/CL+dqFaviyEXDNNsN1tIOafIWRUyEwnloVwM11gZbJuKQjWv/nBzc3y+b8A+cD8CqcAdasAAAAA\n",
       "SUVORK5CYII=\n",
       "\" style=\"display:inline;vertical-align:middle;\" /></a></span></td></tr>\n",
       "<tr><td>&nbsp;</td><td colspan=4 style-\"text-align:left\"><a class=\"ProveItLink\" href=\"../packages/proveit/logic/boolean/implication/_proofs_/implicationTransitivity.ipynb\">proveit.logic.boolean.implication.implicationTransitivity</a></td></tr><tr><td>4</td><td>assumption</td><td></td><td><span style=\"font-size:20px;\"><a class=\"ProveItLink\" href=\"__pv_it/d8ba906a57cf72979849dbaad1c6f164caf428570/expr.ipynb\"><img src=\"data:image/png;base64,iVBORw0KGgoAAAANSUhEUgAAAFMAAAAVBAMAAADInc9CAAAAMFBMVEX///9ERETc3NyqqqpUVFS6\n",
       "urrMzMwyMjIQEBCIiIh2dnYiIiLu7u5mZmaYmJgAAABJJ2g3AAAAAXRSTlMAQObYZgAAAV5JREFU\n",
       "KM9jYGDgu8dACLCtUgBRPLsYCAO2ZhDJ+QFE+H9x8XbCpkjr1pIJQOo6iM3VACL5CxgYJBQwVXKV\n",
       "MTB4H2BgWIFQmr+AgcF+AUwBD5xRCCQ4HFCUzg9gYHh/AaaC/QCMsQFI8P5BUSoPxP4GMKWsDlDG\n",
       "/QSQiq8oSr8DLfuIcOJKCMUEFuL6DFXKWwAKjF8MDNlg+2/vBoH9ELfw/gORjN+AjgMxMgJAgfVl\n",
       "1dpFyD43B4kycP8Bhw7QXnag3pQ2sMY/aIHEUxEAVQQNGfEHDAwRIJfzb0BTmr6GAS5cAQwPbpBy\n",
       "FpBb8+HhBHHrbhlIWIFikhnoVIhbuTZAgxUZmEAo5q9MMxPAnkEElvwBFJVMBVDG6lMMi4UYkJTy\n",
       "XPzviaKUEZYaWN1XbmZgQzEVPc0hscUYnuFTigxkWQtgSvkIKPX/HwBLrzw78SvN6AO5qBXM5ltM\n",
       "XN4CACBwYWeksR12AAAAAElFTkSuQmCC\n",
       "\" style=\"display:inline;vertical-align:middle;\" /></a> <a class=\"ProveItLink\" href=\"__pv_it/c830a869a1d91148b1558768ed5c64ed30fd0fff0/proof.ipynb\" style=\"text-decoration: none\">&#x22A2;&nbsp;</a><a class=\"ProveItLink\" href=\"__pv_it/0ecb625fde376e84d1f8fabde19ab0c6635d1e200/expr.ipynb\"><img src=\"data:image/png;base64,iVBORw0KGgoAAAANSUhEUgAAAEEAAAASBAMAAAD2w64vAAAAMFBMVEX////u7u5mZmaYmJi6urqq\n",
       "qqp2dnbMzMwQEBBEREQyMjLc3NwiIiJUVFSIiIgAAAAeC3ydAAAAAXRSTlMAQObYZgAAAP5JREFU\n",
       "KM9jYGB4+//u3bMbGDABd1LaPQjrFwMDZzcWFVkFDLwHQQz2bwwMrN/g4gIwhtQEINELYvF9YWBg\n",
       "/gRXsRDGWAMi9EEaOD8wMPB+havwhdJM30FkvgOQ4F/AwCA/Aa6C7QGE3g8Wyg8AEvUJDOyHwLrO\n",
       "gAHUQn0DEDm/AEi8v5amhuxZ1iVg6jzYyT/AygTQfCnVApeD+PEPmgL2ZQJwYa5GkADco1B3nISY\n",
       "uR5ExBdAgwMZsF6A0PEO+56zg+3j/IiqYhfM1wcT2CJBPhCa//cBiorZ8KBb9iaAoQBLfCGJcRYw\n",
       "Y1OBBDgVvPArYOD9/4WACvYOYMgDAPldSOLUB00KAAAAAElFTkSuQmCC\n",
       "\" style=\"display:inline;vertical-align:middle;\" /></a></span></td></tr>\n",
       "<tr><td>5</td><td>assumption</td><td></td><td><span style=\"font-size:20px;\"><a class=\"ProveItLink\" href=\"__pv_it/5350e6e1e4db3b53cfca23166e78e5787cc9c6620/expr.ipynb\"><img src=\"data:image/png;base64,iVBORw0KGgoAAAANSUhEUgAAAFMAAAAVBAMAAADInc9CAAAAMFBMVEX///9ERETc3NyqqqpUVFS6\n",
       "urrMzMwyMjIQEBCIiIh2dnYiIiLu7u5mZmaYmJgAAABJJ2g3AAAAAXRSTlMAQObYZgAAAW1JREFU\n",
       "KM9jYGDgu8dACLCtUgBRPLsYCAO2ZhDJ+QFEMq1d5YlNzZT/Lo6VQPo6iMPVACKXJzCw7MGm9iMD\n",
       "w4kCBoYVcKXHBYBEC0LBAbjNPxkYWL4iK60Gse7DFTDUwBic3xgY2L8hKeX9BmKtD4ArDYExGIGy\n",
       "+Q5ISvUFwEoN4Eq5JkAZ/A4MzDsZoEp5gY6+/wDEkk8AcXeDwV+o0nzPuZ0g+j2IyABaux/syh9I\n",
       "HmcuhdDzDzDYg0xgv8DAkNIGU8T8CzmQjreCKQmwG4BAHGhxBFDTbxCHvQc5eqogwfEF6BGQUu4F\n",
       "QIIF6NZ6kCjYIphbN0JUsv0DOnMBzK1cG4CqAjSnsbUiO9UBEaz3J/AgBRbXngVchgpIStVhwQpM\n",
       "IPMn6CHHVkjVbAOGBIRSIQh1Vv7LBAbeygnISoH6E/iQlCagpxoUpRfC8SVYsFI+iFKW/1/xKQWn\n",
       "V56dkGDpeIAvF0CCh28xcXkLAPbUZ+IXkf5UAAAAAElFTkSuQmCC\n",
       "\" style=\"display:inline;vertical-align:middle;\" /></a> <a class=\"ProveItLink\" href=\"__pv_it/07be3e73524ccc42dbedde2093760d1e1e6ede0d0/proof.ipynb\" style=\"text-decoration: none\">&#x22A2;&nbsp;</a><a class=\"ProveItLink\" href=\"__pv_it/42da45cbf8bed3ea5db43830de3adfb59444ab2a0/expr.ipynb\"><img src=\"data:image/png;base64,iVBORw0KGgoAAAANSUhEUgAAAEAAAAASBAMAAAAZAcURAAAAMFBMVEX///+YmJiqqqq6uroQEBBE\n",
       "RETu7u4iIiLMzMwyMjKIiIhUVFRmZmZ2dnbc3NwAAADS0us6AAAAAXRSTlMAQObYZgAAARNJREFU\n",
       "KM9jYGDgu3N3FwMWsPr/7q2zQIybDQzcZdhUfGVgSJnAwJAZAGR7I4QTYAyOXwwM3J8ZGKaDOOfh\n",
       "wgzTYAyuHwwMnD8YeH6AOPcN4AqsYQxWBwaG/g0M7wPAChTgCngXQBn8GxiYqoCGC4A48Q1Agqcc\n",
       "DP5AFfTvWuMFpOrBtn9BcjzTZAi9PoFBvwEqxfQX2XuZzmAqBGwLw3cQm9MNSZ5jLsRLvxkY3gMV\n",
       "zAexQUbB3VAKkef4yMAgfwEoZ/BqBYczshM2IILh/AI2Bt6yC7yqD5AUvIQFwwegOxc8BAbM3OUK\n",
       "DA0IBXEQKif+9wIGnlngQGFtYERS0IAZa6wHLBnwAu7/n/Er4HARwC0JAPZeS/+HiRyVAAAAAElF\n",
       "TkSuQmCC\n",
       "\" style=\"display:inline;vertical-align:middle;\" /></a></span></td></tr>\n",
       "</table>"
      ],
      "text/plain": [
       "\tstep type\trequirements\tstatement\n",
       "0\tspecialization\t3, 1, 2\t{P => Q , Q => R , R => S} |- P => S\n",
       "\tA : P, B : R, C : S\n",
       "1\tspecialization\t3, 4, 5\t{P => Q , Q => R} |- P => R\n",
       "\tA : P, B : Q, C : R\n",
       "2\tassumption\t\t{R => S} |- R => S\n",
       "3\ttheorem\t\t|- forall_{A, B, C | A => B , B => C} (A => C)\n",
       "\tproveit.logic.boolean.implication.implicationTransitivity\n",
       "4\tassumption\t\t{P => Q} |- P => Q\n",
       "5\tassumption\t\t{Q => R} |- Q => R"
      ]
     },
     "execution_count": 27,
     "metadata": {},
     "output_type": "execute_result"
    }
   ],
   "source": [
    "P_impl_S.proof()"
   ]
  },
  {
   "cell_type": "markdown",
   "metadata": {},
   "source": [
    "We can disable this particular proof and obtain an alternate proof via automation as well."
   ]
  },
  {
   "cell_type": "code",
   "execution_count": 28,
   "metadata": {},
   "outputs": [],
   "source": [
    "P_impl_S.proof().disable()"
   ]
  },
  {
   "cell_type": "markdown",
   "metadata": {},
   "source": [
    "Note, below, that we do not need to supply the assumptions because `P_impl_S` is a `KnownTruth` object that automatically includes its own assumptions."
   ]
  },
  {
   "cell_type": "code",
   "execution_count": 29,
   "metadata": {},
   "outputs": [
    {
     "data": {
      "text/html": [
       "<table><tr><th>&nbsp;</th><th>step type</th><th>requirements</th><th>statement</th></tr>\n",
       "<tr><td>0</td><td>hypothetical reasoning</td><td>1</td><td><span style=\"font-size:20px;\"><a class=\"ProveItLink\" href=\"__pv_it/b27df375699b9b4bcb65612c9f871677bd3e36200/expr.ipynb\"><img src=\"data:image/png;base64,iVBORw0KGgoAAAANSUhEUgAAAOUAAAAVBAMAAABLdTQ8AAAAMFBMVEX///9ERETc3NyqqqpUVFS6\n",
       "urrMzMwyMjIQEBCIiIh2dnYiIiLu7u5mZmaYmJgAAABJJ2g3AAAAAXRSTlMAQObYZgAAAq1JREFU\n",
       "SMe9Vj1oFEEU/u72ds+77O6JhVoouU6w0EawzAUOxFh4hYXlFYLpEgslEQtRFAQxK4hgIQnEwkSL\n",
       "iDYxiGelCKKdEH9yRbSNZ3InJtHzzezM7szenAaEe8XMfrPfvO/NvHmzC8D/jJ6ZM1tknfsUPTTn\n",
       "Mmtz31h7q10uPykaSPsX7wVmEBtNHhw3AtWWP338Arxnj/mLfOQHkLrUScyfA47VTEC1BvBq1Ahi\n",
       "y9bxgpZ3P9Z01gFrPSJIx+4ZaraVDEAhwfkJZJomADdiD5HAqKaZI5b/KyJckMHNUeNtGoBCQq5F\n",
       "L1smgKwMLE1DTqBppmjZmdXI3QnRL1UZo2kACgkpcjFSMgHY8skm505V0yzQst9uj9MYHpV0g4PV\n",
       "TqCQaHIJ1jxMAJiR62zf5j3X9Hi+R6bgPONwgVu4zd5vHnkrCTQSTT5691okEoEPnPP8nRifbDdY\n",
       "Xayw5+EKHxmaXVRLxTrL2j6evEJ4sjWgkGhyDQNVOagBssMVsdDliesswRTDqat8pD9ZAi+vRAID\n",
       "U0ASKCRgN99RYRpgJ3esInPBN2pXHTjJg9pI3hfnWRAFdlIxFsajAYUErAEHIxkNkJ1+yDtScplm\n",
       "H4s5w/LpRGUiUvWIe8uyO8oSB18BGgkO+VqRy49BmM+FPeFqaUvT32U+83OiPFWzwkitZvpOlSW8\n",
       "poIEiVfkUuCGd4QE0g4JLq3MK0GtldSmrrlP9A9eY3oHRbmhgA4Sq+3J4EBIEkBy0uIW9Kh8bkLV\n",
       "fNO/pt/d0rV9ZOYxHLgTxRgkSXyyNx5wkgTRdSGKIWOXB+uaZocph30nvpJcUQEGUhig4bvkJAe6\n",
       "ayq216bt8VXQzfytfEC5pv8PzePtSuyOg//S5N9Pd/7vpOEb1AQq6GbBVv4TwlvEn+7x/9AfXyD5\n",
       "LaZB4qQAAAAASUVORK5CYII=\n",
       "\" style=\"display:inline;vertical-align:middle;\" /></a> <a class=\"ProveItLink\" href=\"__pv_it/05ff78479d5f7111eaaf7b2b7b22cee5fcdb13a80/proof.ipynb\" style=\"text-decoration: none\">&#x22A2;&nbsp;</a><a class=\"ProveItLink\" href=\"__pv_it/bf32bfdf201001610c81399c39e150760cefa8340/expr.ipynb\"><img src=\"data:image/png;base64,iVBORw0KGgoAAAANSUhEUgAAAD8AAAAPBAMAAAChCwpBAAAAMFBMVEX////u7u5mZmaYmJi6urqq\n",
       "qqp2dnbMzMwQEBBEREQyMjLc3NwiIiJUVFSIiIgAAAAeC3ydAAAAAXRSTlMAQObYZgAAAOJJREFU\n",
       "GNNjYGB4+//u3bMbGDAB8yUlYQcQ4xcDA2c3FgWLGRjng2j2bwwMrN/gwgIwBm8CA0MUiMH3BWja\n",
       "J7iChTDG/gIGhjoQg/MDUPVXuAJfGMM/gIGhHMTgX8DAID8BroDtAcyEfwUQRn0CA/shEIPpDBjA\n",
       "bOP7/382mPH+Wpoasi9Zl0AZm2/8ALt4vgCa96RaYKx8AxD5B02efRlYBzMQy4MUsMN9CHXDSYiJ\n",
       "QiB3boAGAzJgvQChQWGkCw6Gj6gKdkFpnQcMfCDPC83/+wBFwWwofcH37mQGbKAAlQsABaZAYPTC\n",
       "uLIAAAAASUVORK5CYII=\n",
       "\" style=\"display:inline;vertical-align:middle;\" /></a></span></td></tr>\n",
       "<tr><td>1</td><td>modus ponens</td><td>2, 3</td><td><span style=\"font-size:20px;\"><a class=\"ProveItLink\" href=\"__pv_it/43e01bf63247d8f118093c454562336528f46f0f0/expr.ipynb\"><img src=\"data:image/png;base64,iVBORw0KGgoAAAANSUhEUgAAAP0AAAAVBAMAAAB/DPUgAAAAMFBMVEX///9ERETc3NyqqqpUVFS6\n",
       "urrMzMwyMjIQEBCIiIh2dnYiIiLu7u5mZmaYmJgAAABJJ2g3AAAAAXRSTlMAQObYZgAAAwtJREFU\n",
       "SMfFVj1oU1EUPvl7Nel7L8XBOijNJjjoIjg49BUC0jq0g4NjBsFu0UFpRVAUFUFsBBEySAp1sNWh\n",
       "okstYpwUQdRJqT/NUF3b2jSSNDae+3Puu+8nzSLkDLf3uznn+8675557CwD2D+iKGXMZ9sd8AV0y\n",
       "4xobk2tsvNfKZp9nQpwOLj0shAPXMHhoUs6To9Vsf5gTrHz/9lP5c7HPDKSu8LU/AJGrwaDUBYAT\n",
       "5TCg2zrA27Nynu4D82aIT08FXq/JuRR75OobDYBYg3xNNTmHwy4nBKCpTIw6QHxTgjx+/OhYgAlG\n",
       "UEDmSGKafhLD7b8qV6LumcfBaoYAtEs0Sdbwx5oEpRzA5VyAKYq/G7IuJKbpR3Br4hsUlaCPXGZE\n",
       "qc0QgHaSJhGkyFPIXtSpQoApgeSGTIvENP00bs2HPhU2K5Ne5x4bQcCndMzSDsQWaBW1j2nnb5a+\n",
       "v3VfrZEY17d4UfLTYLxkk6+LzF595I7WNk+35gcWd1qkeuWHH9xSZ6Fa/CLkPUxYl9Y69ReJrTIw\n",
       "zs9KaWRuSW+/o3y1lxc7LTrEA7jFzkvqMgxSxZNNiNUgwIQbsDJ1m1KRYj2Y2+kbfGnA11bmxJgS\n",
       "G5wG8ANhb65TydOOdhaqQSZer205UWL9FYBTPPMtX7eeecIl2YmHCeHuAWKvL5ap5Icd9yxEq0Em\n",
       "QCWT9Emsl31LnNXfUK0nqra4T3QPuzBoOzUg6/9UyBvIu0rbkq+A3QgymbjV0d8ybRLj9U/Ny47U\n",
       "7Ygs8Ga0mGMHpKwDVX7Hbf/lginuI2x/q+5eTYoJv9JyxLoSc/sv0vTIR+kyffwOZnZj9lsaUHYA\n",
       "3HYuFQ4JpwHkr0crfiYL+/Ou5FFiSv/9QNXzZESoFRLHZ5+BAeZUxgXKZC482JosMCfzU2sY35Vi\n",
       "gCmeyA5VBI8rpt0/vpdRm++BXyid0QBZzheVyOzMFHBpq6/b/gRuoa2DdmZ3fvK9Llzf7qA/2hpz\n",
       "4zj4b/r8/TcXdg4Zv4NDQQftrNBZ3+NiiNvLnuni/3//AOYVEyjA3W8IAAAAAElFTkSuQmCC\n",
       "\" style=\"display:inline;vertical-align:middle;\" /></a> <a class=\"ProveItLink\" href=\"__pv_it/298e89452fd88ed4cd440f76112320e45a3156510/proof.ipynb\" style=\"text-decoration: none\">&#x22A2;&nbsp;</a><a class=\"ProveItLink\" href=\"../packages/proveit/__pv_it/abeee18594afe51bfb1be95d9591fbba24ac53f30/expr.ipynb\"><img src=\"data:image/png;base64,iVBORw0KGgoAAAANSUhEUgAAAA0AAAAOBAMAAAAGUYvhAAAAMFBMVEX///8iIiIQEBCIiIjMzMzc\n",
       "3Nyqqqp2dnZEREQyMjK6urru7u5mZmZUVFSYmJgAAACI6eGPAAAAAXRSTlMAQObYZgAAAF1JREFU\n",
       "CNdjYGDgu3Nm3wIGBoZ5DNz9QIq3gIEhE0jHOzAwOAPp9QkMDC4g/megABAw///fCmbEXfq0Acxg\n",
       "qH8ANAVI7wfSe0BKAyBGnAXigwYMzA1A+sLau31ACgAz0hhbkhGHbwAAAABJRU5ErkJggg==\n",
       "\" style=\"display:inline;vertical-align:middle;\" /></a></span></td></tr>\n",
       "<tr><td>2</td><td>assumption</td><td></td><td><span style=\"font-size:20px;\"><a class=\"ProveItLink\" href=\"__pv_it/be2737bca3b99e18d22eeda10666e4a81c190d730/expr.ipynb\"><img src=\"data:image/png;base64,iVBORw0KGgoAAAANSUhEUgAAAFEAAAAVBAMAAADMaB9/AAAAMFBMVEX////c3NxERESqqqpUVFS6\n",
       "urrMzMwyMjIQEBCIiIh2dnYiIiLu7u5mZmaYmJgAAABXZE4RAAAAAXRSTlMAQObYZgAAAVRJREFU\n",
       "KM9jYGDgu8dAALCtEgBRPLsYCAK2ZhDJ+QFETvnv4lSJTdGTu3eeMjBcBzG5GsAinxgYThRgKmR/\n",
       "wHAIaNQKhEq2nwwMLF9h8jxwlV4MDMwFKCo5vwH1f4ObdADKYAQKsU1AUckEJPMdYCpZYSzWz0CV\n",
       "CSgq+R0YmHcinLcSZub/aWAarJIX7I98z7mdYLHbu0Fg/wWo0vn/P4HC8j2InREAFjnAYJ+A5Gfz\n",
       "AKihT/p7QA4H6kxpA4togB2AADwVUKUMXP9ApPoDBoYIsFFfGBjkkVWmrwFTQHkekEruBUCCBeRO\n",
       "NiD3/QKEO3frQEwGWsr4EeZOrg3Q4Lw/ARHgJhAKFOi8DgzIocQEjLH5E+RgChmh8coLDLhJDMgq\n",
       "z+p/mcDAWzkBppJJAEKzsLo4PUBRiZHK0AVwqmTAqpKPGJXg9Mmzk4g03wqm+BYTlY8Ak2lg4ttd\n",
       "9VwAAAAASUVORK5CYII=\n",
       "\" style=\"display:inline;vertical-align:middle;\" /></a> <a class=\"ProveItLink\" href=\"__pv_it/d2660deef828681313e6fe9161e64ceb839b0d590/proof.ipynb\" style=\"text-decoration: none\">&#x22A2;&nbsp;</a><a class=\"ProveItLink\" href=\"__pv_it/802c3043bd6a72e41e44712c2843c17c83a574050/expr.ipynb\"><img src=\"data:image/png;base64,iVBORw0KGgoAAAANSUhEUgAAAD4AAAAPBAMAAABOyWF/AAAAMFBMVEX///92dnaYmJjc3NxmZmYi\n",
       "IiKqqqq6urrMzMwQEBDu7u4yMjJERERUVFSIiIgAAAArjcN0AAAAAXRSTlMAQObYZgAAAPFJREFU\n",
       "GNNjYGB4+//unX0MWICui5c6iP7DwLByA6Y0twLDmg9AmuMfAwPvd5goF1z+IgMDG0gb3w+g2h9w\n",
       "XQugDGagEMcDIINnAgND/wWYPDuMxf4NKN8AZPBfYGCLQ1grB9P//wWE0X/vyTwwwzUUBOIdoAre\n",
       "//9jAKYXMOQ3ILk7uwBqgO78WSD6JNgKBODaCVXAwPgJRP5lYLBHlu+WAlMKQJUgeQ4goS+AsD/0\n",
       "FMQUoDOYP0O97/8AESy5EAoUNCwgY3mAYfj+gRFMmhka0ixAL78B0kvO/33AwLLvAUyexwBC87Lf\n",
       "vaOAJdI4ULkAzXFEBsI7SAUAAAAASUVORK5CYII=\n",
       "\" style=\"display:inline;vertical-align:middle;\" /></a></span></td></tr>\n",
       "<tr><td>3</td><td>modus ponens</td><td>4, 5</td><td><span style=\"font-size:20px;\"><a class=\"ProveItLink\" href=\"__pv_it/8f5e0f5ab8e502acbb69469f630347c5fe8cc3c90/expr.ipynb\"><img src=\"data:image/png;base64,iVBORw0KGgoAAAANSUhEUgAAALcAAAAVBAMAAAD2lGJJAAAAMFBMVEX///9ERETc3NyqqqpUVFS6\n",
       "urrMzMwyMjIQEBCIiIh2dnYiIiLu7u5mZmaYmJgAAABJJ2g3AAAAAXRSTlMAQObYZgAAAjVJREFU\n",
       "OMu1lb9PFEEUx7/HHnPesbdHKITGcB0JBf4JYEJixAIKCsorLOjAQiPEwmgwsdEtbCwMJFAgNhBs\n",
       "kJBcByEx0JFQgJUtErgzAgozb37s2709tZBXzN539vs+O/vmzR6A4AD/P8RSWV38z7iOEC/UmP+u\n",
       "xreXg4Ofyimm3v2FMF1EIZPvTDFBpD0lCs9o7geQed6YV3gM3K+mCR7HwNakFYa0GMHFGeCdObcl\n",
       "+A/lcGMgRTATxE8gW7PCkBg8L+8Fv1zeU3PNLcuheJEimAn5urxZt8KQGDwjK589cXmj5npYUY5a\n",
       "imAmZCRiwr6RJTF4SZZspz0qtd63lmMSJ42CmWTyALw1O2tJBC/STkzMQWyQXKfQFSr+prXUkyJm\n",
       "ksn33r9yj7SkIyXGR9Q4O7S0zzvRe6TGNipwSfdTTDCTTK6iv2InLSm3Czx4SVPdyQ7bnHGk/jkg\n",
       "KZgJ6KLKmHCkzq/AGD3zPHnAppWnpPoDT7Q9JpgJOAVuO7gltalVZFXNhetCU84VSsup0+uZJmMi\n",
       "ZoKQm3FkX8iRqOaFZdOcPDy9EK/W8q6iNqXKRcJEbX4Y+vpQOVLUipmLOLzHXD9uY75Dns1zJhpM\n",
       "qrNnwz5tciQH/9J9Gv8gWUbr3Q+rEPDflCORNFFycSokU0RihygRlejnTXyT3DITKSa9kthXtTmc\n",
       "xa1WueMBF80iQAM8+At8+HIkyiPxb3D6nvtrf4aPv5ZDyEWziG2b0OcrmL+u/9ArHQfMYi2r7k0A\n",
       "AAAASUVORK5CYII=\n",
       "\" style=\"display:inline;vertical-align:middle;\" /></a> <a class=\"ProveItLink\" href=\"__pv_it/86951f36334ded538f6311b2c0317490b54e13d90/proof.ipynb\" style=\"text-decoration: none\">&#x22A2;&nbsp;</a><a class=\"ProveItLink\" href=\"../packages/proveit/__pv_it/e24df48bc297bbcf3538a62f5b4f635a392abfce0/expr.ipynb\"><img src=\"data:image/png;base64,iVBORw0KGgoAAAANSUhEUgAAABAAAAAOBAMAAADUAYG5AAAAMFBMVEX///92dnaYmJjc3NxmZmYi\n",
       "IiKqqqq6urrMzMwQEBDu7u4yMjJERERUVFSIiIgAAAArjcN0AAAAAXRSTlMAQObYZgAAAG1JREFU\n",
       "CNdjYGB4+//unX0MIPCHgWHlBiDN8Y+Bgfc7kMH3g4GBG4gZeCYwMPRfADL4LzCwxYHU9t97Mg+s\n",
       "6f0ChvwGEOMkWBYI/jIw2IMYHJ8YGPQFoMb4P+ACGvMBqP6BEcOS838fMLDsewAAOpQikqrQNfgA\n",
       "AAAASUVORK5CYII=\n",
       "\" style=\"display:inline;vertical-align:middle;\" /></a></span></td></tr>\n",
       "<tr><td>4</td><td>specialization</td><td>6, 7, 8</td><td><span style=\"font-size:20px;\"><a class=\"ProveItLink\" href=\"__pv_it/5e46717ba826679b2cc122a2a188b5438abc25690/expr.ipynb\"><img src=\"data:image/png;base64,iVBORw0KGgoAAAANSUhEUgAAAJ0AAAAVBAMAAACu6/FQAAAAMFBMVEX///9ERETc3NyqqqpUVFS6\n",
       "urrMzMwyMjIQEBCIiIh2dnYiIiLu7u5mZmaYmJgAAABJJ2g3AAAAAXRSTlMAQObYZgAAAnVJREFU\n",
       "OMutVU1oE0EUfvnbmO3upvSgPSjpTfSgEQSPiVKQ0kP2UNDjHgQLHhIPSlsFBa0oiO5BBBFJsII2\n",
       "Wox4qik0t4og1JOgYHryGotJ1FqN897M7M7GGC8ZyJs3u2+/ed/33kwAwPoEAxlaeQwn4xUMaGhX\n",
       "0Ca+oMk1xyeP9Qra/+GRK/3wUnmiV8ydzvjRWTa/x4V+GW2yADA69neofh5gsiYWjx2IrvQC3AR4\n",
       "zQCe+Hj5EkCmJN8bnnOWmR1ZvlgbZuaqj1LziP4AiLYCeEUboLEuA+IyNF5hxtzmiwto6h4KXJRO\n",
       "os0i2wG8FPvl0jIgJjKCuoMRLfLNNtrntoc3JZ0Qg8hnA3jfGLdNn8qiKAA90r/S4uAw4aV9bWWh\n",
       "klmILIPAMwuowBbAGaL7sYpjlVM3f9P2bZ7rBhHBjE0Kqv4SePmJBzdwbqCZRgKJZnnpoVqxI0Rr\n",
       "iJRLEgNYJeW+K0GRc3wu1iCD28RZFqeuUQrbXR1gzNgekqg7IUW21Ki1eZpGiTIbuxiFk4icrHTh\n",
       "nX4G3uMZXtKfVPCb6oGY42+aTFzEG8KNo6hf3msVrl91N28XPDsRLh9colwd8PV7weE0pnKjJPXT\n",
       "K6L91HFYCNQK33NQYPwwY++7q82r8mX99qu7htovqVoALlwQztM3sDDC1ESu+kpJP6Qeyb2y/RiL\n",
       "onvAxzPedYLnPCQ/ix1ffAkaGLfxwdTc/TQ4ftQIn96mmi6Ys26gn7tuHsXfCZ8ZLt8g5FgKntP9\n",
       "2T/x1LEnxshbIu/1E/1CCc/6D16uY3t40U6rXyjdf8Zyf7zpW8yIk6pd3+h3P/PiWwsD/P/4Axz1\n",
       "r8TldTChAAAAAElFTkSuQmCC\n",
       "\" style=\"display:inline;vertical-align:middle;\" /></a> <a class=\"ProveItLink\" href=\"__pv_it/601ec3baf662d9289194789dfbeaf5ca0c65f4020/proof.ipynb\" style=\"text-decoration: none\">&#x22A2;&nbsp;</a><a class=\"ProveItLink\" href=\"__pv_it/2266d8039de5c1c30d1c42a832a249ea3bd6dd070/expr.ipynb\"><img src=\"data:image/png;base64,iVBORw0KGgoAAAANSUhEUgAAAEEAAAAPBAMAAABJi79qAAAAMFBMVEX////u7u5mZmaYmJi6urqq\n",
       "qqp2dnbMzMwQEBBEREQyMjLc3NwiIiJUVFSIiIgAAAAeC3ydAAAAAXRSTlMAQObYZgAAAPFJREFU\n",
       "GNNjYGB4+//u3bMbGDAA3/2/d2c9ADN/MTBwdmOqYOCfwMDYBWKwf2NgYP0GFxeAs+qBBtx3AJn2\n",
       "hYGB+RNcfCGc9b6AgWE9EDNwfmBg4P0KF/eFs2YAzf8Ltm4BA4P8BLg42wMYCygbA+bUJzCwHwIx\n",
       "mM6AAcxC9r/vNCCq319LU0P2LOsSqG8/MrB+B7PmC6D5UqoFTHE2gC0Cgj9oCtiXQbTwX2DgBqtg\n",
       "h3sU6o6TUDPrDRiYwcEECg5kwHoBERxM/0AByPkRVcUuGGM+UPc/bgMGofl/H6ComA2hGDX/32Ng\n",
       "0HqHJb4K0PgA0SdLbLQ+4V8AAAAASUVORK5CYII=\n",
       "\" style=\"display:inline;vertical-align:middle;\" /></a></span></td></tr>\n",
       "<tr><td>&nbsp;</td><td colspan=4 style=\"text-align:left\"><span style=\"font-size:20px;\"><a class=\"ProveItLink\" href=\"../packages/proveit/__pv_it/2cbe72a7ad6f655694dd697106680215e8489b600/expr.ipynb\"><img src=\"data:image/png;base64,iVBORw0KGgoAAAANSUhEUgAAAA8AAAAOBAMAAAACpFvcAAAALVBMVEX///8QEBBERERUVFS6urqI\n",
       "iIhmZmaqqqrc3Nzu7u6YmJgyMjIiIiLMzMwAAADtIaYWAAAAAXRSTlMAQObYZgAAAFtJREFUCNdj\n",
       "YACBOwxQsA9Kc52bAGG05zVAGAFxDmCaZULdAjBjCsO9ADDDgaEvAUTzGhvbKYCVMDAwbgAxChgY\n",
       "eASANAeQwf0AyJgNxEwvGRia5HYwcOm9TgAA6BoR3jrzwFcAAAAASUVORK5CYII=\n",
       "\" style=\"display:inline;vertical-align:middle;\" /></a> : <a class=\"ProveItLink\" href=\"../packages/proveit/__pv_it/6369c6c8083c513ca7161ace249642d040f9327d0/expr.ipynb\"><img src=\"data:image/png;base64,iVBORw0KGgoAAAANSUhEUgAAABAAAAAOBAMAAADUAYG5AAAAMFBMVEX////u7u5mZmaYmJi6urqq\n",
       "qqp2dnbMzMwQEBBEREQyMjLc3NwiIiJUVFSIiIgAAAAeC3ydAAAAAXRSTlMAQObYZgAAAGBJREFU\n",
       "CNdjYGB4+//u3bMbGIDgFwMDZzeQZv/GwMAKxAx8XxgYmD8BGZwfGBh4vwIZ/AsYGOQnABn1CQzs\n",
       "h0Ca3l9LUwPrni/AAAF/oDT7JygDZAwYcH6E0ELz/z4A0QBnpRnRyxnfJQAAAABJRU5ErkJggg==\n",
       "\" style=\"display:inline;vertical-align:middle;\" /></a>, <a class=\"ProveItLink\" href=\"../packages/proveit/__pv_it/077b2ff79244fb4582cbe22c6e3356fa92a52f2f0/expr.ipynb\"><img src=\"data:image/png;base64,iVBORw0KGgoAAAANSUhEUgAAABAAAAAOBAMAAADUAYG5AAAAMFBMVEX///+qqqru7u4iIiJ2dnbc\n",
       "3NyIiIjMzMxmZmYQEBC6uroyMjJERERUVFSYmJgAAADLUcuvAAAAAXRSTlMAQObYZgAAAGpJREFU\n",
       "CNdjYGB4+//u3dMLGIBgDgMDxy8gzf4NiP8CGWxfGRj4vgAZPBMYGJgnARn8FxhY9ygAGfXX0pof\n",
       "gDTlBzAw2YIYJ0EckBBI53sHoBH/gIz7AhBjWH9DjancBLTl/N+7t/cxMAAA3u4f/5xagjYAAAAA\n",
       "SUVORK5CYII=\n",
       "\" style=\"display:inline;vertical-align:middle;\" /></a> : <a class=\"ProveItLink\" href=\"../packages/proveit/__pv_it/98124f92e6e1fc3772af50ac63eaa1f5624776f20/expr.ipynb\"><img src=\"data:image/png;base64,iVBORw0KGgoAAAANSUhEUgAAAA8AAAASBAMAAAB2sJk8AAAAMFBMVEX///+YmJiqqqq6uroQEBBE\n",
       "RETu7u4iIiLMzMwyMjKIiIhUVFRmZmZ2dnbc3NwAAADS0us6AAAAAXRSTlMAQObYZgAAAHxJREFU\n",
       "CNdjYGDgu3N3FwMI3Gxg4C4D0pkBQMIbiKeDRM8nMPD8ADHuGzC8DwAzFBjOC4AY8Q0M9Qkgxhcw\n",
       "YmBg+svA8B3E4HRjYJgPYug3ALHBqxUczkAOb9kFXtUHIGHrucsVGBrAtrI2MEIZByzBNAP3/88Q\n",
       "BocL0BoActoerD1tNT4AAAAASUVORK5CYII=\n",
       "\" style=\"display:inline;vertical-align:middle;\" /></a>, <a class=\"ProveItLink\" href=\"../packages/proveit/__pv_it/985a1bdf1540838275dec15f4ad6de261cca93ce0/expr.ipynb\"><img src=\"data:image/png;base64,iVBORw0KGgoAAAANSUhEUgAAAA8AAAAOBAMAAAACpFvcAAAAMFBMVEX////MzMyqqqoiIiIyMjK6\n",
       "uroQEBB2dnbc3NyYmJhmZmZUVFRERESIiIju7u4AAAB204erAAAAAXRSTlMAQObYZgAAAGZJREFU\n",
       "CNdjYGDgu7NrJccCBgaGsgkMrMsmMDA8sQNy6hsYGNweABlhDAxcn4A0QxcDQ78DiPGQgWH9BAYI\n",
       "sG+AMv6DSaCGfBDNJMDAsB+kmwuI5S8AiTog5gSaEwXWIO29SgFIAQBC+RaDQlidVgAAAABJRU5E\n",
       "rkJggg==\n",
       "\" style=\"display:inline;vertical-align:middle;\" /></a> : <a class=\"ProveItLink\" href=\"../packages/proveit/__pv_it/e24df48bc297bbcf3538a62f5b4f635a392abfce0/expr.ipynb\"><img src=\"data:image/png;base64,iVBORw0KGgoAAAANSUhEUgAAABAAAAAOBAMAAADUAYG5AAAAMFBMVEX///92dnaYmJjc3NxmZmYi\n",
       "IiKqqqq6urrMzMwQEBDu7u4yMjJERERUVFSIiIgAAAArjcN0AAAAAXRSTlMAQObYZgAAAG1JREFU\n",
       "CNdjYGB4+//unX0MIPCHgWHlBiDN8Y+Bgfc7kMH3g4GBG4gZeCYwMPRfADL4LzCwxYHU9t97Mg+s\n",
       "6f0ChvwGEOMkWBYI/jIw2IMYHJ8YGPQFoMb4P+ACGvMBqP6BEcOS838fMLDsewAAOpQikqrQNfgA\n",
       "AAAASUVORK5CYII=\n",
       "\" style=\"display:inline;vertical-align:middle;\" /></a></span></td></tr><tr><td>5</td><td>assumption</td><td></td><td><span style=\"font-size:20px;\"><a class=\"ProveItLink\" href=\"__pv_it/3b150b32aa1d2735d31e6130c9575c3cd6afb4720/expr.ipynb\"><img src=\"data:image/png;base64,iVBORw0KGgoAAAANSUhEUgAAACMAAAAVBAMAAAA+1EraAAAAMFBMVEX///9ERETc3NyqqqpUVFS6\n",
       "urrMzMwyMjIQEBCIiIh2dnYiIiLu7u5mZmaYmJgAAABJJ2g3AAAAAXRSTlMAQObYZgAAALtJREFU\n",
       "GNNjYGDgu8cAA2yrFEAUzy4GBGBrBpGcH0DklP8uLluASq6DOFwNYPnvDAyMTQwMKxBCbL8YGJh/\n",
       "oQhxfgXa8xdFiBFoIstnFCH+AgaG8wJQId4CEJm/gIFtL5B+D+JkBIDI+V6rboGcyX6BgSGlDewG\n",
       "+QNQx4o/YGCISACxfkNFuBcACRaQWWx/oUJgs7g2QJ0FBghHMP5BFzor/2UCuio4wCXEhyIEDi+e\n",
       "ncih2gqm+Bajhj0A3Sw0NKouzW0AAAAASUVORK5CYII=\n",
       "\" style=\"display:inline;vertical-align:middle;\" /></a> <a class=\"ProveItLink\" href=\"__pv_it/affcafcc9fa978c1a598648e204812ca9f5f144e0/proof.ipynb\" style=\"text-decoration: none\">&#x22A2;&nbsp;</a><a class=\"ProveItLink\" href=\"../packages/proveit/__pv_it/6369c6c8083c513ca7161ace249642d040f9327d0/expr.ipynb\"><img src=\"data:image/png;base64,iVBORw0KGgoAAAANSUhEUgAAABAAAAAOBAMAAADUAYG5AAAAMFBMVEX////u7u5mZmaYmJi6urqq\n",
       "qqp2dnbMzMwQEBBEREQyMjLc3NwiIiJUVFSIiIgAAAAeC3ydAAAAAXRSTlMAQObYZgAAAGBJREFU\n",
       "CNdjYGB4+//u3bMbGIDgFwMDZzeQZv/GwMAKxAx8XxgYmD8BGZwfGBh4vwIZ/AsYGOQnABn1CQzs\n",
       "h0Ca3l9LUwPrni/AAAF/oDT7JygDZAwYcH6E0ELz/z4A0QBnpRnRyxnfJQAAAABJRU5ErkJggg==\n",
       "\" style=\"display:inline;vertical-align:middle;\" /></a></span></td></tr>\n",
       "<tr><td>6</td><td>theorem</td><td></td><td><span style=\"font-size:20px;\"> <a class=\"ProveItLink\" href=\"../packages/proveit/logic/boolean/implication/_proofs_/implicationTransitivity.ipynb\" style=\"text-decoration: none\">&#x22A2;&nbsp;</a><a class=\"ProveItLink\" href=\"../packages/proveit/logic/boolean/implication/__pv_it/ee719062273bab1aaecce9c77304c6feceb388740/expr.ipynb\"><img src=\"data:image/png;base64,iVBORw0KGgoAAAANSUhEUgAAAQMAAAAXBAMAAAD9zzfBAAAAMFBMVEX///8QEBC6urrMzMxUVFRm\n",
       "ZmZERETc3NwyMjKqqqp2dnaIiIiYmJgiIiLu7u4AAAAU9Wx4AAAAAXRSTlMAQObYZgAAA4hJREFU\n",
       "SMfFVj1MFFEQHu7YW+5uWYwW/hSIiVYauYJoQQxEgdhxxltIiEaI4bCSLVQwRjmMhmihNJDYYSxE\n",
       "SeCMqAWFq4VRjBELKRT1iJIYiT+RgCIIzszb3Xt3nmBzOsm+eTvvzXvf/O4C/H9KZPPwzcvuuI/P\n",
       "CE0eZweBt1ywkUyL+u3KfWpYCQFco9cL2YGQJ1yc9yXT4mULPHssiAEcwze1PjsQhgR7spAh7u9f\n",
       "4zBgwrBAqnRmB0Ihj2rXt6TI9Xc7gdkAMA6gXW1pOZkdBJ4Ys2Dwa1K20ebKLI1HAXxo/kw0+iI7\n",
       "EJQeZlv980lZIC54G8N7i4IwwC6AJpZ28Ng9bVSFBPrKukmTjHGzy0we5W82IgfTFAQNGv137P0W\n",
       "Z36Rd44BvWKaFmsHLOegGLlGZ0SacJe2AoIruJTGABpo4nMOf1ok3XQP4EaqgqAdFvjs1xze7wF1\n",
       "WtLzn2b2xjHHg5vzIciIJoS7lHLwcPoUo2ndMgTdRU4UwR1mioI4cQpvsQusgCGUVFTMyOF5v5LG\n",
       "Rac+vFixQSufK6X/OUvz46BQK9HX4VAqQwh8DDO/xONLgP0pCuCnuhrH+HvjMgQc1sjt6jzftp41\n",
       "QgKCHivhpXiUt3wOwUOyLkD95JMModQnrPPRsj4FWkeKgkipAVqziz+HMPnxeSblwqhYrCam2IGA\n",
       "pp0ky7WNKh4aPMzGue3KgVCOxtZEo9FDq0hzbqgqkVRQUB5tR6NGJYN9FLjj+FyUUkH0bCgjT/VT\n",
       "KlEidrEbH8FdXuvFTKOzC3rSIGidQbvRKnvRSTHQClMUkIwQ/JAgUL1xqjcnv4WtNtewL2wy7U2Q\n",
       "Q4D054bY2IiuJQfmIAQ9LkH4aNTYjdbbaIIvDDp3F1cBaVstUAZNOqk5AmrDdxMeLJ51ITQ5k5Iz\n",
       "BmvlUcJoHBYTyri6Z0UtgIKBCCQkCLXgnYJbBlIlOamTk99RCJI8ggbV2P5lWv17uwqlC8bd2RY8\n",
       "1VI7QF0AFUuj1dTXAlyRAuHBwM7DJ6QP5Ju2BJwMg6ug00IfndgJAfea4b9ooX3O5N0MqNVj3nno\n",
       "nTZ2o4PKLJiovJ5IQtCr6+HIT24MVECBi0bkHIbEVXD+DvRIXX/6x3opEm1RIs2dSV3Il7bpVEYF\n",
       "/CL+dqFaviyEXDNNsN1tIOafIWRUyEwnloVwM11gZbJuKQjWv/nBzc3y+b8A+cD8CqcAdasAAAAA\n",
       "SUVORK5CYII=\n",
       "\" style=\"display:inline;vertical-align:middle;\" /></a></span></td></tr>\n",
       "<tr><td>&nbsp;</td><td colspan=4 style-\"text-align:left\"><a class=\"ProveItLink\" href=\"../packages/proveit/logic/boolean/implication/_proofs_/implicationTransitivity.ipynb\">proveit.logic.boolean.implication.implicationTransitivity</a></td></tr><tr><td>7</td><td>assumption</td><td></td><td><span style=\"font-size:20px;\"><a class=\"ProveItLink\" href=\"__pv_it/d8ba906a57cf72979849dbaad1c6f164caf428570/expr.ipynb\"><img src=\"data:image/png;base64,iVBORw0KGgoAAAANSUhEUgAAAFMAAAAVBAMAAADInc9CAAAAMFBMVEX///9ERETc3NyqqqpUVFS6\n",
       "urrMzMwyMjIQEBCIiIh2dnYiIiLu7u5mZmaYmJgAAABJJ2g3AAAAAXRSTlMAQObYZgAAAV5JREFU\n",
       "KM9jYGDgu8dACLCtUgBRPLsYCAO2ZhDJ+QFE+H9x8XbCpkjr1pIJQOo6iM3VACL5CxgYJBQwVXKV\n",
       "MTB4H2BgWIFQmr+AgcF+AUwBD5xRCCQ4HFCUzg9gYHh/AaaC/QCMsQFI8P5BUSoPxP4GMKWsDlDG\n",
       "/QSQiq8oSr8DLfuIcOJKCMUEFuL6DFXKWwAKjF8MDNlg+2/vBoH9ELfw/gORjN+AjgMxMgJAgfVl\n",
       "1dpFyD43B4kycP8Bhw7QXnag3pQ2sMY/aIHEUxEAVQQNGfEHDAwRIJfzb0BTmr6GAS5cAQwPbpBy\n",
       "FpBb8+HhBHHrbhlIWIFikhnoVIhbuTZAgxUZmEAo5q9MMxPAnkEElvwBFJVMBVDG6lMMi4UYkJTy\n",
       "XPzviaKUEZYaWN1XbmZgQzEVPc0hscUYnuFTigxkWQtgSvkIKPX/HwBLrzw78SvN6AO5qBXM5ltM\n",
       "XN4CACBwYWeksR12AAAAAElFTkSuQmCC\n",
       "\" style=\"display:inline;vertical-align:middle;\" /></a> <a class=\"ProveItLink\" href=\"__pv_it/c830a869a1d91148b1558768ed5c64ed30fd0fff0/proof.ipynb\" style=\"text-decoration: none\">&#x22A2;&nbsp;</a><a class=\"ProveItLink\" href=\"__pv_it/0ecb625fde376e84d1f8fabde19ab0c6635d1e200/expr.ipynb\"><img src=\"data:image/png;base64,iVBORw0KGgoAAAANSUhEUgAAAEEAAAASBAMAAAD2w64vAAAAMFBMVEX////u7u5mZmaYmJi6urqq\n",
       "qqp2dnbMzMwQEBBEREQyMjLc3NwiIiJUVFSIiIgAAAAeC3ydAAAAAXRSTlMAQObYZgAAAP5JREFU\n",
       "KM9jYGB4+//u3bMbGDABd1LaPQjrFwMDZzcWFVkFDLwHQQz2bwwMrN/g4gIwhtQEINELYvF9YWBg\n",
       "/gRXsRDGWAMi9EEaOD8wMPB+havwhdJM30FkvgOQ4F/AwCA/Aa6C7QGE3g8Wyg8AEvUJDOyHwLrO\n",
       "gAHUQn0DEDm/AEi8v5amhuxZ1iVg6jzYyT/AygTQfCnVApeD+PEPmgL2ZQJwYa5GkADco1B3nISY\n",
       "uR5ExBdAgwMZsF6A0PEO+56zg+3j/IiqYhfM1wcT2CJBPhCa//cBiorZ8KBb9iaAoQBLfCGJcRYw\n",
       "Y1OBBDgVvPArYOD9/4WACvYOYMgDAPldSOLUB00KAAAAAElFTkSuQmCC\n",
       "\" style=\"display:inline;vertical-align:middle;\" /></a></span></td></tr>\n",
       "<tr><td>8</td><td>assumption</td><td></td><td><span style=\"font-size:20px;\"><a class=\"ProveItLink\" href=\"__pv_it/5350e6e1e4db3b53cfca23166e78e5787cc9c6620/expr.ipynb\"><img src=\"data:image/png;base64,iVBORw0KGgoAAAANSUhEUgAAAFMAAAAVBAMAAADInc9CAAAAMFBMVEX///9ERETc3NyqqqpUVFS6\n",
       "urrMzMwyMjIQEBCIiIh2dnYiIiLu7u5mZmaYmJgAAABJJ2g3AAAAAXRSTlMAQObYZgAAAW1JREFU\n",
       "KM9jYGDgu8dACLCtUgBRPLsYCAO2ZhDJ+QFEMq1d5YlNzZT/Lo6VQPo6iMPVACKXJzCw7MGm9iMD\n",
       "w4kCBoYVcKXHBYBEC0LBAbjNPxkYWL4iK60Gse7DFTDUwBic3xgY2L8hKeX9BmKtD4ArDYExGIGy\n",
       "+Q5ISvUFwEoN4Eq5JkAZ/A4MzDsZoEp5gY6+/wDEkk8AcXeDwV+o0nzPuZ0g+j2IyABaux/syh9I\n",
       "HmcuhdDzDzDYg0xgv8DAkNIGU8T8CzmQjreCKQmwG4BAHGhxBFDTbxCHvQc5eqogwfEF6BGQUu4F\n",
       "QIIF6NZ6kCjYIphbN0JUsv0DOnMBzK1cG4CqAjSnsbUiO9UBEaz3J/AgBRbXngVchgpIStVhwQpM\n",
       "IPMn6CHHVkjVbAOGBIRSIQh1Vv7LBAbeygnISoH6E/iQlCagpxoUpRfC8SVYsFI+iFKW/1/xKQWn\n",
       "V56dkGDpeIAvF0CCh28xcXkLAPbUZ+IXkf5UAAAAAElFTkSuQmCC\n",
       "\" style=\"display:inline;vertical-align:middle;\" /></a> <a class=\"ProveItLink\" href=\"__pv_it/07be3e73524ccc42dbedde2093760d1e1e6ede0d0/proof.ipynb\" style=\"text-decoration: none\">&#x22A2;&nbsp;</a><a class=\"ProveItLink\" href=\"__pv_it/42da45cbf8bed3ea5db43830de3adfb59444ab2a0/expr.ipynb\"><img src=\"data:image/png;base64,iVBORw0KGgoAAAANSUhEUgAAAEAAAAASBAMAAAAZAcURAAAAMFBMVEX///+YmJiqqqq6uroQEBBE\n",
       "RETu7u4iIiLMzMwyMjKIiIhUVFRmZmZ2dnbc3NwAAADS0us6AAAAAXRSTlMAQObYZgAAARNJREFU\n",
       "KM9jYGDgu3N3FwMWsPr/7q2zQIybDQzcZdhUfGVgSJnAwJAZAGR7I4QTYAyOXwwM3J8ZGKaDOOfh\n",
       "wgzTYAyuHwwMnD8YeH6AOPcN4AqsYQxWBwaG/g0M7wPAChTgCngXQBn8GxiYqoCGC4A48Q1Agqcc\n",
       "DP5AFfTvWuMFpOrBtn9BcjzTZAi9PoFBvwEqxfQX2XuZzmAqBGwLw3cQm9MNSZ5jLsRLvxkY3gMV\n",
       "zAexQUbB3VAKkef4yMAgfwEoZ/BqBYczshM2IILh/AI2Bt6yC7yqD5AUvIQFwwegOxc8BAbM3OUK\n",
       "DA0IBXEQKif+9wIGnlngQGFtYERS0IAZa6wHLBnwAu7/n/Er4HARwC0JAPZeS/+HiRyVAAAAAElF\n",
       "TkSuQmCC\n",
       "\" style=\"display:inline;vertical-align:middle;\" /></a></span></td></tr>\n",
       "</table>"
      ],
      "text/plain": [
       "\tstep type\trequirements\tstatement\n",
       "0\thypothetical reasoning\t1\t{P => Q , Q => R , R => S} |- P => S\n",
       "1\tmodus ponens\t2, 3\t{P => Q , Q => R , R => S , P} |- S\n",
       "2\tassumption\t\t{R => S} |- R => S\n",
       "3\tmodus ponens\t4, 5\t{P => Q , Q => R , P} |- R\n",
       "4\tspecialization\t6, 7, 8\t{P => Q , Q => R} |- P => R\n",
       "\tA : P, B : Q, C : R\n",
       "5\tassumption\t\t{P} |- P\n",
       "6\ttheorem\t\t|- forall_{A, B, C | A => B , B => C} (A => C)\n",
       "\tproveit.logic.boolean.implication.implicationTransitivity\n",
       "7\tassumption\t\t{P => Q} |- P => Q\n",
       "8\tassumption\t\t{Q => R} |- Q => R"
      ]
     },
     "execution_count": 29,
     "metadata": {},
     "output_type": "execute_result"
    }
   ],
   "source": [
    "P_impl_S.prove().proof()"
   ]
  },
  {
   "cell_type": "markdown",
   "metadata": {},
   "source": [
    "This is a slightly longer proof but it demonstrates that *hypothetical reasoning* can also be automated.  That is, the `Implies.conclude()` method will attempt to apply `asImplication` automatically if other strategies fail (like the previous transitivity approach, which fails because that proof was disabled)."
   ]
  },
  {
   "cell_type": "markdown",
   "metadata": {},
   "source": [
    "## Disabling/Enabling Automation"
   ]
  },
  {
   "cell_type": "markdown",
   "metadata": {},
   "source": [
    "If desired, for whatever reason, automation (via `sideEffects` and `conclude`) may be disabled by setting the `automation` flag of the `defaults` object to `False`:"
   ]
  },
  {
   "cell_type": "code",
   "execution_count": 30,
   "metadata": {},
   "outputs": [
    {
     "data": {
      "text/html": [
       "<strong id=\"defaults.automation\">defaults.automation:</strong> False<br>"
      ],
      "text/plain": [
       "defaults.automation: False"
      ]
     },
     "execution_count": 30,
     "metadata": {},
     "output_type": "execute_result"
    }
   ],
   "source": [
    "from proveit import defaults\n",
    "defaults.automation = False"
   ]
  },
  {
   "cell_type": "markdown",
   "metadata": {},
   "source": [
    "We now attempt an automated proof through transitivity relations similar to what we performed before. In this case we use the reverse direction, $\\{S \\Rightarrow R, R \\Rightarrow Q, Q \\Rightarrow P\\} \\vdash S \\Rightarrow P$, to make it different, otherwise it would remember the solution from before.  The proof will fail because automation is disabled."
   ]
  },
  {
   "cell_type": "code",
   "execution_count": 31,
   "metadata": {},
   "outputs": [
    {
     "name": "stdout",
     "output_type": "stream",
     "text": [
      "Expected error: Unable to prove S => P assuming {S => R, R => Q, Q => P}: No pre-existing proof\n"
     ]
    }
   ],
   "source": [
    "from proveit import ProofFailure\n",
    "try:\n",
    "    Implies(S, P).prove([Implies(S, R), Implies(R, Q), Implies(Q, P)])\n",
    "    assert False, \"Expecting an ProofFailure error; should not make it to this point\"\n",
    "except ProofFailure as e:\n",
    "    print(\"Expected error:\", e)"
   ]
  },
  {
   "cell_type": "markdown",
   "metadata": {},
   "source": [
    "It may be re-enabled by setting this flag back to `True`:"
   ]
  },
  {
   "cell_type": "code",
   "execution_count": 32,
   "metadata": {},
   "outputs": [
    {
     "data": {
      "text/html": [
       "<strong id=\"defaults.automation\">defaults.automation:</strong> True<br>"
      ],
      "text/plain": [
       "defaults.automation: True"
      ]
     },
     "execution_count": 32,
     "metadata": {},
     "output_type": "execute_result"
    }
   ],
   "source": [
    "defaults.automation = True"
   ]
  },
  {
   "cell_type": "markdown",
   "metadata": {},
   "source": [
    "Now the proof will go through via automation:"
   ]
  },
  {
   "cell_type": "code",
   "execution_count": 33,
   "metadata": {},
   "outputs": [
    {
     "data": {
      "text/html": [
       "<span style=\"font-size:20px;\"><a class=\"ProveItLink\" href=\"__pv_it/6552b7dad6407fa60e92b51960fd8cb62f953fc20/expr.ipynb\"><img src=\"data:image/png;base64,iVBORw0KGgoAAAANSUhEUgAAAOUAAAAVBAMAAABLdTQ8AAAAMFBMVEX////c3NxERESqqqpUVFS6\n",
       "urrMzMwyMjIQEBCIiIh2dnYiIiLu7u5mZmaYmJgAAABXZE4RAAAAAXRSTlMAQObYZgAAArRJREFU\n",
       "SMe9Vj1s00AY/Zw4iRJsJysLzVYGpFQIiYGhVpWlXRokJBg9IMHWjhSGgviXkGpVqFKFUCIxABGI\n",
       "DiylRY1Y6IJasRTxlwxl7l8aSNoSvjvfxXc+px2QcsP5nv3y3t337uwAgPUTetbi5Qy5GO+ghy1+\n",
       "m/TJTQrWf3z/pVIet/NDE2ycHK3n+90QHe11eTgcyEr5t7jINQJSN0mfqMGHzRDqNsDyOBuns2Dc\n",
       "D+E8d0BfDAVi+w0QuQXwwvccAYhybTD8UjQB9F0GxnCRowWF9DGL3Z0wICm10KElemoNvNupW6LC\n",
       "R0m8n2gwUHQAJh2FdIN01UoIkJRw5taB6BnbQc+OXMzmowg+HOPoJHLqECSZdEpvCiqQlTA5fUda\n",
       "Z3tGrP1LPkjbEJ3nAP3OuQqpL0ttBlQgK2FyK1nmadIYi+1tenK+LZC2tMojHH76sJNIffaLZymR\n",
       "qjXS55wgCCqVIP4erxsEXKWF0NanHgkLPcuqU6zAIC95ch+iDVBISzSyP94tCchKI+WvZFUJnMTl\n",
       "e+xh6q/ANK4VeIRpW8i2DgqJGpAdCUEgKeX4burHUlwi68CrIXpeedWJsM/2s9UkT4+0R/cnK5IE\n",
       "JKU9ho+VsNMxTwMXrG35US2cYhHiPDZKPJEaWC1QSJOk4wEIIKB0wFRonqk573Vg2v7kzgjHs+oa\n",
       "UGHH02xCJUgaLByfid9lx58DVYm/WDpnxcTzMC28QMeFQ1V0Txi0MDn8ZVOrBUmpxVLqNO6OlTkB\n",
       "qEr7QU89lh+q+cwI+9WnXN0Fc8I1pjJgfG7ju3ttViHBhetPBsCB5S0BhCrJnsEPTvBGLAOHkSKO\n",
       "hTbnRdBNqaun0qzDH0dWL3p73wddG/W0/t9Tb+/6nh7o2uj305g/2tM94uP/AP2SIuhO9Ta19azH\n",
       "/4f+ASEx+hb7Uzb3AAAAAElFTkSuQmCC\n",
       "\" style=\"display:inline;vertical-align:middle;\" /></a> <a class=\"ProveItLink\" href=\"__pv_it/ea50b2f1fe5c23599afa2896538d7498ffcfce490/proof.ipynb\" style=\"text-decoration: none\">&#x22A2;&nbsp;</a><a class=\"ProveItLink\" href=\"__pv_it/7f991460f042fb74ed15e0d42db6c655ae7118d70/expr.ipynb\"><img src=\"data:image/png;base64,iVBORw0KGgoAAAANSUhEUgAAAD4AAAAPBAMAAABOyWF/AAAAMFBMVEX///8iIiIQEBCIiIjMzMzc\n",
       "3Nyqqqp2dnZEREQyMjK6urru7u5mZmZUVFSYmJgAAACI6eGPAAAAAXRSTlMAQObYZgAAAOJJREFU\n",
       "GNNjYGDgu3Nm3wIGDGD7/+5d2QAgYx4Ddz8DFvCTgYFDlYGBt4CBIRMuyA1nsXxnYGAD4ngHBgZn\n",
       "uCjnBhiL+RfQ6j8MDOsTGBhc4PJcF2Asjg9As78B9X92QLa1GMbgn8DAsL8BaM7//61ggYOCICB/\n",
       "ACrvX8DAIgNixF36tAHJgEyoX+2vlx8PgDDrHyDJc0+CKOiHaOID4v3I8p7VEPojhNoDxPEBCPsF\n",
       "u6He/wO1DojPImnPRfI+WJcBA3MDQpp1Asz7vyH0hbV3+5C0c0CdvKf/rwG2SGFB4wMAWKA6BzO+\n",
       "gqYAAAAASUVORK5CYII=\n",
       "\" style=\"display:inline;vertical-align:middle;\" /></a></span>"
      ],
      "text/plain": [
       "{S => R , R => Q , Q => P} |- S => P"
      ]
     },
     "execution_count": 33,
     "metadata": {},
     "output_type": "execute_result"
    }
   ],
   "source": [
    "Implies(S, P).prove([Implies(S, R), Implies(R, Q), Implies(Q, P)])"
   ]
  },
  {
   "cell_type": "markdown",
   "metadata": {},
   "source": [
    "In addition to changing `defaults.automation`, it is also possible to disable automation for a particular instance when calling `prove` (by supplying the argument `automation=False` as part of the method call).  Basically, this just checks if something has been proven already (or is proven by the assumptions or their automatic side-effects) and raises a `ProofFailure` otherwise.  This can be useful in other automation to quickly check a possible proof pathway without potentially wasting the effort to commit to that pathway.\n",
    "\n",
    "For example, we can check if there already exists a proof for (or automatic side effect giving) $X \\Rightarrow Z$ given the assumptions that $X \\Rightarrow Y$ and $Y \\Rightarrow Z$:"
   ]
  },
  {
   "cell_type": "code",
   "execution_count": 34,
   "metadata": {},
   "outputs": [
    {
     "name": "stdout",
     "output_type": "stream",
     "text": [
      "Expected error: Unable to prove X => Z assuming {X => Y, Y => Z}: No pre-existing proof\n"
     ]
    }
   ],
   "source": [
    "from proveit._common_ import X, Y, Z\n",
    "try:\n",
    "    Implies(X, Z).prove([Implies(X, Y), Implies(Y, Z)], automation=False)\n",
    "    assert False, \"Expecting an ProofFailure error; should not make it to this point\"\n",
    "except ProofFailure as e:\n",
    "    print(\"Expected error:\", e)"
   ]
  },
  {
   "cell_type": "markdown",
   "metadata": {},
   "source": [
    "But using the default `automation=True` (*i.e.*, using the \"default\" by not even supplying the automation argument), we can automatically prove this implication via transitivity (just as we saw above using different labels)."
   ]
  },
  {
   "cell_type": "code",
   "execution_count": 35,
   "metadata": {},
   "outputs": [
    {
     "data": {
      "text/html": [
       "<strong id=\"X_impl_Z\">X_impl_Z:</strong> <span style=\"font-size:20px;\"><a class=\"ProveItLink\" href=\"__pv_it/41a855eb4960ef36460168c6785176b2f72735990/expr.ipynb\"><img src=\"data:image/png;base64,iVBORw0KGgoAAAANSUhEUgAAAJ0AAAAVBAMAAACu6/FQAAAAMFBMVEX///9ERETc3NyqqqpUVFS6\n",
       "urrMzMwyMjIQEBCIiIh2dnYiIiLu7u5mZmaYmJgAAABJJ2g3AAAAAXRSTlMAQObYZgAAAdtJREFU\n",
       "OMtjYGDgu8dAFcC2SgFE8exioBJgawaRnB9A5JP/XQzqP5zRlTB5/3diYLD4PQGFiQ44foi4yG9g\n",
       "YLgO4nA1gMX8DRiYHbDY+R1IMBqgMdFAvAEDz44DDAwrkMzLL2DQRVJyAMbYDwyUpRhMVDVXGRjY\n",
       "mxhQzWP/xHQBSW0NjDF/AQOfAQYTVQ1Qo3wCmnnMf48geyEExjjfwBCJyURVE8DA8pkBzTyGfh9k\n",
       "tVywYGf8yrYAk4mqhoFh/QO4ebwFUCGoLO9uMPgLVcn85SwDBhNNDQPnTzD1HkRkBEDE/DegxBlz\n",
       "KZTRj4j1frQEAFdjDwl6diCV0ga1UuUrquLjrRBaHh6NyEwUNaxfGBhA8cEgDvR2BJjFcI3tI2rC\n",
       "q4JqbkeItaMnTqgaYFoDxTEDNyh4WcDhxxUATl6IsNkINY7pFyKzwJmoapi6DzCwPoCFHxc43KYC\n",
       "ecjpD55X+L7Cky4fWojA1JzuAQbdAZT0wgt0Kf8HJLXqMAYLSJTnN5yJRU2FAgOTIEr6C+zfysBa\n",
       "/xspBQrBfOb/BZiOePoVYEwGDDUsvwUF9//DSM+oIAGVy6pAWA1e89AAH1EFINg8PuqZBy7/eHYS\n",
       "oXICUeUzJHXzLaZi/QEA6cuYdzQFgGsAAAAASUVORK5CYII=\n",
       "\" style=\"display:inline;vertical-align:middle;\" /></a> <a class=\"ProveItLink\" href=\"__pv_it/54fe81247d30895efa135b2dc41a79b08b8a7d2f0/proof.ipynb\" style=\"text-decoration: none\">&#x22A2;&nbsp;</a><a class=\"ProveItLink\" href=\"__pv_it/94c8e1a27364be622dc23e6f648cae8cdee5c3b50/expr.ipynb\"><img src=\"data:image/png;base64,iVBORw0KGgoAAAANSUhEUgAAAEIAAAAPBAMAAACivARpAAAAMFBMVEX///9ERES6uroiIiKIiIju\n",
       "7u5mZmbMzMyqqqoyMjLc3Nx2dnYQEBBUVFSYmJgAAADDc6PYAAAAAXRSTlMAQObYZgAAAOtJREFU\n",
       "GNNjYGB4+/80w8o/NxgwwfmDdy9+BjHuNzBwXMCigOkHA0PwURCrfgLDMiQJVhiDTYGBYc4CEIvz\n",
       "F1cCkgrOAJgKBgbG72AWx7dYFMNhNjKBHQBx0VUU+7fAWdz/oIz9DlBGsjEI2MPt9IdJ3DdA9USn\n",
       "AgPUepiL1n5CVcE6B6JE/wIDO5iRzv4RVUXlVjDF/hPsH6BzFBjsFyC7w1gUwltjysCgB2I4MTC8\n",
       "Rw4Phl6oXTbAgJkKcsUGBgb+D0gKuCZAQ+4UA8NCAQYGxfNGDEzzPyOFCCPUyvuGgsL/H2CJL6jz\n",
       "4QAAHxE54tiKc3UAAAAASUVORK5CYII=\n",
       "\" style=\"display:inline;vertical-align:middle;\" /></a></span><br>"
      ],
      "text/plain": [
       "X_impl_Z: {X => Y , Y => Z} |- X => Z"
      ]
     },
     "execution_count": 35,
     "metadata": {},
     "output_type": "execute_result"
    }
   ],
   "source": [
    "X_impl_Z = Implies(X, Z).prove([Implies(X, Y), Implies(Y, Z)])"
   ]
  },
  {
   "cell_type": "code",
   "execution_count": 36,
   "metadata": {},
   "outputs": [
    {
     "data": {
      "text/html": [
       "<table><tr><th>&nbsp;</th><th>step type</th><th>requirements</th><th>statement</th></tr>\n",
       "<tr><td>0</td><td>specialization</td><td>1, 2, 3</td><td><span style=\"font-size:20px;\"><a class=\"ProveItLink\" href=\"__pv_it/41a855eb4960ef36460168c6785176b2f72735990/expr.ipynb\"><img src=\"data:image/png;base64,iVBORw0KGgoAAAANSUhEUgAAAJ0AAAAVBAMAAACu6/FQAAAAMFBMVEX///9ERETc3NyqqqpUVFS6\n",
       "urrMzMwyMjIQEBCIiIh2dnYiIiLu7u5mZmaYmJgAAABJJ2g3AAAAAXRSTlMAQObYZgAAAdtJREFU\n",
       "OMtjYGDgu8dAFcC2SgFE8exioBJgawaRnB9A5JP/XQzqP5zRlTB5/3diYLD4PQGFiQ44foi4yG9g\n",
       "YLgO4nA1gMX8DRiYHbDY+R1IMBqgMdFAvAEDz44DDAwrkMzLL2DQRVJyAMbYDwyUpRhMVDVXGRjY\n",
       "mxhQzWP/xHQBSW0NjDF/AQOfAQYTVQ1Qo3wCmnnMf48geyEExjjfwBCJyURVE8DA8pkBzTyGfh9k\n",
       "tVywYGf8yrYAk4mqhoFh/QO4ebwFUCGoLO9uMPgLVcn85SwDBhNNDQPnTzD1HkRkBEDE/DegxBlz\n",
       "KZTRj4j1frQEAFdjDwl6diCV0ga1UuUrquLjrRBaHh6NyEwUNaxfGBhA8cEgDvR2BJjFcI3tI2rC\n",
       "q4JqbkeItaMnTqgaYFoDxTEDNyh4WcDhxxUATl6IsNkINY7pFyKzwJmoapi6DzCwPoCFHxc43KYC\n",
       "ecjpD55X+L7Cky4fWojA1JzuAQbdAZT0wgt0Kf8HJLXqMAYLSJTnN5yJRU2FAgOTIEr6C+zfysBa\n",
       "/xspBQrBfOb/BZiOePoVYEwGDDUsvwUF9//DSM+oIAGVy6pAWA1e89AAH1EFINg8PuqZBy7/eHYS\n",
       "oXICUeUzJHXzLaZi/QEA6cuYdzQFgGsAAAAASUVORK5CYII=\n",
       "\" style=\"display:inline;vertical-align:middle;\" /></a> <a class=\"ProveItLink\" href=\"__pv_it/54fe81247d30895efa135b2dc41a79b08b8a7d2f0/proof.ipynb\" style=\"text-decoration: none\">&#x22A2;&nbsp;</a><a class=\"ProveItLink\" href=\"__pv_it/94c8e1a27364be622dc23e6f648cae8cdee5c3b50/expr.ipynb\"><img src=\"data:image/png;base64,iVBORw0KGgoAAAANSUhEUgAAAEIAAAAPBAMAAACivARpAAAAMFBMVEX///9ERES6uroiIiKIiIju\n",
       "7u5mZmbMzMyqqqoyMjLc3Nx2dnYQEBBUVFSYmJgAAADDc6PYAAAAAXRSTlMAQObYZgAAAOtJREFU\n",
       "GNNjYGB4+/80w8o/NxgwwfmDdy9+BjHuNzBwXMCigOkHA0PwURCrfgLDMiQJVhiDTYGBYc4CEIvz\n",
       "F1cCkgrOAJgKBgbG72AWx7dYFMNhNjKBHQBx0VUU+7fAWdz/oIz9DlBGsjEI2MPt9IdJ3DdA9USn\n",
       "AgPUepiL1n5CVcE6B6JE/wIDO5iRzv4RVUXlVjDF/hPsH6BzFBjsFyC7w1gUwltjysCgB2I4MTC8\n",
       "Rw4Phl6oXTbAgJkKcsUGBgb+D0gKuCZAQ+4UA8NCAQYGxfNGDEzzPyOFCCPUyvuGgsL/H2CJL6jz\n",
       "4QAAHxE54tiKc3UAAAAASUVORK5CYII=\n",
       "\" style=\"display:inline;vertical-align:middle;\" /></a></span></td></tr>\n",
       "<tr><td>&nbsp;</td><td colspan=4 style=\"text-align:left\"><span style=\"font-size:20px;\"><a class=\"ProveItLink\" href=\"../packages/proveit/__pv_it/2cbe72a7ad6f655694dd697106680215e8489b600/expr.ipynb\"><img src=\"data:image/png;base64,iVBORw0KGgoAAAANSUhEUgAAAA8AAAAOBAMAAAACpFvcAAAALVBMVEX///8QEBBERERUVFS6urqI\n",
       "iIhmZmaqqqrc3Nzu7u6YmJgyMjIiIiLMzMwAAADtIaYWAAAAAXRSTlMAQObYZgAAAFtJREFUCNdj\n",
       "YACBOwxQsA9Kc52bAGG05zVAGAFxDmCaZULdAjBjCsO9ADDDgaEvAUTzGhvbKYCVMDAwbgAxChgY\n",
       "eASANAeQwf0AyJgNxEwvGRia5HYwcOm9TgAA6BoR3jrzwFcAAAAASUVORK5CYII=\n",
       "\" style=\"display:inline;vertical-align:middle;\" /></a> : <a class=\"ProveItLink\" href=\"../packages/proveit/__pv_it/66cd610ba99eba68f315bbcf220cc988223124550/expr.ipynb\"><img src=\"data:image/png;base64,iVBORw0KGgoAAAANSUhEUgAAABIAAAAOBAMAAADQ9FGEAAAAMFBMVEX///9ERES6uroiIiKIiIju\n",
       "7u5mZmbMzMyqqqoyMjLc3Nx2dnYQEBBUVFSYmJgAAADDc6PYAAAAAXRSTlMAQObYZgAAAGRJREFU\n",
       "CNdjYGB4+/80w8o/NxiA4H4DA8cFEIOhfgLDMjCDgfMXVwKExfEtlgEKzl+FsfY7wFj3DaAMtrWf\n",
       "oKx09o8QBrcCg/0CMMuJgeE92Dy2DQwM/B+ADMXzRgxM8z9fZQAAyVAaemEFKr0AAAAASUVORK5C\n",
       "YII=\n",
       "\" style=\"display:inline;vertical-align:middle;\" /></a>, <a class=\"ProveItLink\" href=\"../packages/proveit/__pv_it/077b2ff79244fb4582cbe22c6e3356fa92a52f2f0/expr.ipynb\"><img src=\"data:image/png;base64,iVBORw0KGgoAAAANSUhEUgAAABAAAAAOBAMAAADUAYG5AAAAMFBMVEX///+qqqru7u4iIiJ2dnbc\n",
       "3NyIiIjMzMxmZmYQEBC6uroyMjJERERUVFSYmJgAAADLUcuvAAAAAXRSTlMAQObYZgAAAGpJREFU\n",
       "CNdjYGB4+//u3dMLGIBgDgMDxy8gzf4NiP8CGWxfGRj4vgAZPBMYGJgnARn8FxhY9ygAGfXX0pof\n",
       "gDTlBzAw2YIYJ0EckBBI53sHoBH/gIz7AhBjWH9DjancBLTl/N+7t/cxMAAA3u4f/5xagjYAAAAA\n",
       "SUVORK5CYII=\n",
       "\" style=\"display:inline;vertical-align:middle;\" /></a> : <a class=\"ProveItLink\" href=\"../packages/proveit/__pv_it/d787b05c0222bf7633141c210c6c9992f7bcfcbc0/expr.ipynb\"><img src=\"data:image/png;base64,iVBORw0KGgoAAAANSUhEUgAAABAAAAAOBAMAAADUAYG5AAAAMFBMVEX///9mZmbu7u6YmJi6urp2\n",
       "dnZEREQyMjLMzMyIiIgQEBCqqqoiIiJUVFTc3NwAAAA2WfgnAAAAAXRSTlMAQObYZgAAAFlJREFU\n",
       "CNdjeHv+7wMG7vUnGRj6CxgYGLKBmOcfAwOrA5DB+ZWBwRpIMzD9YmCZAGIw5Du0gmmG/ZcEIAyu\n",
       "vxCage0TlMFVAGW8D4Ay7B2gjPtQWvb/TRAFACz0FH9TvjwoAAAAAElFTkSuQmCC\n",
       "\" style=\"display:inline;vertical-align:middle;\" /></a>, <a class=\"ProveItLink\" href=\"../packages/proveit/__pv_it/985a1bdf1540838275dec15f4ad6de261cca93ce0/expr.ipynb\"><img src=\"data:image/png;base64,iVBORw0KGgoAAAANSUhEUgAAAA8AAAAOBAMAAAACpFvcAAAAMFBMVEX////MzMyqqqoiIiIyMjK6\n",
       "uroQEBB2dnbc3NyYmJhmZmZUVFRERESIiIju7u4AAAB204erAAAAAXRSTlMAQObYZgAAAGZJREFU\n",
       "CNdjYGDgu7NrJccCBgaGsgkMrMsmMDA8sQNy6hsYGNweABlhDAxcn4A0QxcDQ78DiPGQgWH9BAYI\n",
       "sG+AMv6DSaCGfBDNJMDAsB+kmwuI5S8AiTog5gSaEwXWIO29SgFIAQBC+RaDQlidVgAAAABJRU5E\n",
       "rkJggg==\n",
       "\" style=\"display:inline;vertical-align:middle;\" /></a> : <a class=\"ProveItLink\" href=\"../packages/proveit/__pv_it/d36dfc8761400c6960a2e78b88a892781372a1a10/expr.ipynb\"><img src=\"data:image/png;base64,iVBORw0KGgoAAAANSUhEUgAAAA4AAAAOBAMAAADtZjDiAAAAMFBMVEX///+IiIiYmJh2dnbMzMzc\n",
       "3NwyMjJmZmbu7u6qqqq6uroiIiJUVFREREQQEBAAAACI0POCAAAAAXRSTlMAQObYZgAAAGZJREFU\n",
       "CNdjYGB4//bM2d8MDFw/GRi6XzAwsC9gYMgLANIMDLxfGIDiDAznJzCAAPMnMMUgLwCmOL9DuOsP\n",
       "MLAAKZZvYD0McTsYGBYxMHDsa2BgyGBgYHvKwBB7AWjG3ru3/yswAABx/Bk2qVjOoAAAAABJRU5E\n",
       "rkJggg==\n",
       "\" style=\"display:inline;vertical-align:middle;\" /></a></span></td></tr><tr><td>1</td><td>theorem</td><td></td><td><span style=\"font-size:20px;\"> <a class=\"ProveItLink\" href=\"../packages/proveit/logic/boolean/implication/_proofs_/implicationTransitivity.ipynb\" style=\"text-decoration: none\">&#x22A2;&nbsp;</a><a class=\"ProveItLink\" href=\"../packages/proveit/logic/boolean/implication/__pv_it/ee719062273bab1aaecce9c77304c6feceb388740/expr.ipynb\"><img src=\"data:image/png;base64,iVBORw0KGgoAAAANSUhEUgAAAQMAAAAXBAMAAAD9zzfBAAAAMFBMVEX///8QEBC6urrMzMxUVFRm\n",
       "ZmZERETc3NwyMjKqqqp2dnaIiIiYmJgiIiLu7u4AAAAU9Wx4AAAAAXRSTlMAQObYZgAAA4hJREFU\n",
       "SMfFVj1MFFEQHu7YW+5uWYwW/hSIiVYauYJoQQxEgdhxxltIiEaI4bCSLVQwRjmMhmihNJDYYSxE\n",
       "SeCMqAWFq4VRjBELKRT1iJIYiT+RgCIIzszb3Xt3nmBzOsm+eTvvzXvf/O4C/H9KZPPwzcvuuI/P\n",
       "CE0eZweBt1ywkUyL+u3KfWpYCQFco9cL2YGQJ1yc9yXT4mULPHssiAEcwze1PjsQhgR7spAh7u9f\n",
       "4zBgwrBAqnRmB0Ihj2rXt6TI9Xc7gdkAMA6gXW1pOZkdBJ4Ys2Dwa1K20ebKLI1HAXxo/kw0+iI7\n",
       "EJQeZlv980lZIC54G8N7i4IwwC6AJpZ28Ng9bVSFBPrKukmTjHGzy0we5W82IgfTFAQNGv137P0W\n",
       "Z36Rd44BvWKaFmsHLOegGLlGZ0SacJe2AoIruJTGABpo4nMOf1ok3XQP4EaqgqAdFvjs1xze7wF1\n",
       "WtLzn2b2xjHHg5vzIciIJoS7lHLwcPoUo2ndMgTdRU4UwR1mioI4cQpvsQusgCGUVFTMyOF5v5LG\n",
       "Rac+vFixQSufK6X/OUvz46BQK9HX4VAqQwh8DDO/xONLgP0pCuCnuhrH+HvjMgQc1sjt6jzftp41\n",
       "QgKCHivhpXiUt3wOwUOyLkD95JMModQnrPPRsj4FWkeKgkipAVqziz+HMPnxeSblwqhYrCam2IGA\n",
       "pp0ky7WNKh4aPMzGue3KgVCOxtZEo9FDq0hzbqgqkVRQUB5tR6NGJYN9FLjj+FyUUkH0bCgjT/VT\n",
       "KlEidrEbH8FdXuvFTKOzC3rSIGidQbvRKnvRSTHQClMUkIwQ/JAgUL1xqjcnv4WtNtewL2wy7U2Q\n",
       "Q4D054bY2IiuJQfmIAQ9LkH4aNTYjdbbaIIvDDp3F1cBaVstUAZNOqk5AmrDdxMeLJ51ITQ5k5Iz\n",
       "BmvlUcJoHBYTyri6Z0UtgIKBCCQkCLXgnYJbBlIlOamTk99RCJI8ggbV2P5lWv17uwqlC8bd2RY8\n",
       "1VI7QF0AFUuj1dTXAlyRAuHBwM7DJ6QP5Ju2BJwMg6ug00IfndgJAfea4b9ooX3O5N0MqNVj3nno\n",
       "nTZ2o4PKLJiovJ5IQtCr6+HIT24MVECBi0bkHIbEVXD+DvRIXX/6x3opEm1RIs2dSV3Il7bpVEYF\n",
       "/CL+dqFaviyEXDNNsN1tIOafIWRUyEwnloVwM11gZbJuKQjWv/nBzc3y+b8A+cD8CqcAdasAAAAA\n",
       "SUVORK5CYII=\n",
       "\" style=\"display:inline;vertical-align:middle;\" /></a></span></td></tr>\n",
       "<tr><td>&nbsp;</td><td colspan=4 style-\"text-align:left\"><a class=\"ProveItLink\" href=\"../packages/proveit/logic/boolean/implication/_proofs_/implicationTransitivity.ipynb\">proveit.logic.boolean.implication.implicationTransitivity</a></td></tr><tr><td>2</td><td>assumption</td><td></td><td><span style=\"font-size:20px;\"><a class=\"ProveItLink\" href=\"__pv_it/54f4bd464255bea4ab49cc5bc098c69c9bd746130/expr.ipynb\"><img src=\"data:image/png;base64,iVBORw0KGgoAAAANSUhEUgAAAFcAAAAVBAMAAADBdm84AAAAMFBMVEX///9ERETc3NyqqqpUVFS6\n",
       "urrMzMwyMjIQEBCIiIh2dnYiIiLu7u5mZmaYmJgAAABJJ2g3AAAAAXRSTlMAQObYZgAAAT5JREFU\n",
       "KM9jYGDgu8dAGLCtUgBRPLsYiAFszSCS8wOIfPK/i0H9hzO6Eibv/04MDBa/JzAwXAfxuRrAwv4G\n",
       "DMwOWAz8DiQYDYDECiTF+QUMukiKDsAY+4FuXcqAppj9E9MFJMU1MMb8BQx8BuiKmf8eQbY+BMY4\n",
       "38AQyYCumKHfB1kx1wQog/Er2wKEYt4CiOh6qDTvbjD4C1XM/OUshPEeRGQEQDj+G1CCgbkUyuiH\n",
       "hhE70EspbVADVb6iBtrxVggtDwsY8QcMDBEJYOY1to+oAVwFVdQOFeAGOZ0F7GauAHCIIty8EaqW\n",
       "6RcDkpu5wG6dCuQhhzM8NvlgrkMEHS/QDv4PSIrVYQyWD+iKA/u3MrDW/0YKaSEozev/ZQIDZqSg\n",
       "ggQMETyKGbAr5iNSMTg98+wkLqdA4ohvMbF5EAC68lmP4IlRJwAAAABJRU5ErkJggg==\n",
       "\" style=\"display:inline;vertical-align:middle;\" /></a> <a class=\"ProveItLink\" href=\"__pv_it/1173da343c4572341c526e713e1fb655b86fc3eb0/proof.ipynb\" style=\"text-decoration: none\">&#x22A2;&nbsp;</a><a class=\"ProveItLink\" href=\"__pv_it/814de01093c32d153fe0a3fa68716272cfff253d0/expr.ipynb\"><img src=\"data:image/png;base64,iVBORw0KGgoAAAANSUhEUgAAAEMAAAAPBAMAAABNfm9XAAAAMFBMVEX///9ERES6uroiIiKIiIju\n",
       "7u5mZmbMzMyqqqoyMjLc3Nx2dnYQEBBUVFSYmJgAAADDc6PYAAAAAXRSTlMAQObYZgAAANpJREFU\n",
       "KM9jYGB4+/80w8o/NxjQANfl/7cYGHo+O4A49xsYOC4wYAD2n0CCsQHMrp/AsAxJKgDGsF/AwLAJ\n",
       "wuT8xZWApGQqjOG/gYEPYggDx7dYZAt0YYz4AwwqMPb5q8hKuB2gDMZP7BtggvuhgmzGYPANKszx\n",
       "Nwyu774Bilc4JsFMh/uTbe0nVO9GHoLQ8nDPpbN/RA2Q2VCpk3DnKYBDAOEWQ6gKrt8wJU4MDO+R\n",
       "wwUe0nww+9mAHuP/gKRkJYzBCxVVPG/EwDT/M1LISMH03v/rwIAdFKDxAbfxOcdbbZgaAAAAAElF\n",
       "TkSuQmCC\n",
       "\" style=\"display:inline;vertical-align:middle;\" /></a></span></td></tr>\n",
       "<tr><td>3</td><td>assumption</td><td></td><td><span style=\"font-size:20px;\"><a class=\"ProveItLink\" href=\"__pv_it/bfc83f4ef8153deabfe72d7b6773e1d3407108600/expr.ipynb\"><img src=\"data:image/png;base64,iVBORw0KGgoAAAANSUhEUgAAAFMAAAAVBAMAAADInc9CAAAAMFBMVEX///9ERETc3NyqqqpUVFS6\n",
       "urrMzMwyMjIQEBCIiIh2dnYiIiLu7u5mZmaYmJgAAABJJ2g3AAAAAXRSTlMAQObYZgAAAUNJREFU\n",
       "KM9jYGDgu8dACLCtUgBRPLsYCAO2ZhDJ+YGByfu/EwODxe8JmGo4foi4yG9gYLgO4nA1ADV9BzIY\n",
       "DbAYF2/AwLPjAAPDCphShv1AtyxFUnEAxrjKwMDexICsdP4CBj5kQ2tgjAsMDPIJKErPNzBEItsb\n",
       "AmMEMLB8ZkBRyviVbQGyUi6ED9c/gCvlLQASzF/OQmV4d4PBX5hKzp9g6j2IyAgAkf0OqD5nLoUy\n",
       "7C+AKXYgldIGZsofQAul461givULAwPIWwziQHdEgFnt6NFTBdGbXwAOBQZukFdYQG5l+sWA6taN\n",
       "EJVM3QcYWB/A3MoFjDYGvq9oToU6/XQP0JkHUAKL5QOqUnUoXaHAwCSIEq68/l9Qk4oQhGL5LSi4\n",
       "/x9qFKCDBHQB3EoZsCrlI0opOL3y7CQmF0AihG8xcXkLAHtgWG0mtRZ0AAAAAElFTkSuQmCC\n",
       "\" style=\"display:inline;vertical-align:middle;\" /></a> <a class=\"ProveItLink\" href=\"__pv_it/5586b4ae8bde21ef0f2597419879e6b06a472cc90/proof.ipynb\" style=\"text-decoration: none\">&#x22A2;&nbsp;</a><a class=\"ProveItLink\" href=\"__pv_it/4ffb002e291c6c914ba3039ffb884547a56832d30/expr.ipynb\"><img src=\"data:image/png;base64,iVBORw0KGgoAAAANSUhEUgAAAEAAAAAPBAMAAACmSdRUAAAAMFBMVEX///9mZmbu7u6YmJi6urp2\n",
       "dnZEREQyMjLMzMyIiIgQEBCqqqoiIiJUVFTc3NwAAAA2WfgnAAAAAXRSTlMAQObYZgAAAOJJREFU\n",
       "GNNjeHv+7wMG7vUnGTDB+mV3r/1hYOgvALKzsciz/GZg0FnEwMDzj4GB1QEhzgRjMAIFqx4wMHB+\n",
       "ZWCwRtLIrgBTwMDA9gOk4xcDywRkky/AGAwM9zeAGPkOrSh2R8JZrJ/B1P5LAlABmTMgcB7GZZgP\n",
       "MZnrL5rzt0OdzP0RQrN9QlPAVAVR4X+BgQNsQgGagvYgMMXxHewTBob3AQwobjiTBOG9OsTA4Axi\n",
       "2DugGrAXatEpYIAUgVj3UeX5oDayr2NgeJYAZMj+v4migO0BhL5/LC3nvwGWOOJA5QIA7nY8/RcK\n",
       "CYkAAAAASUVORK5CYII=\n",
       "\" style=\"display:inline;vertical-align:middle;\" /></a></span></td></tr>\n",
       "</table>"
      ],
      "text/plain": [
       "\tstep type\trequirements\tstatement\n",
       "0\tspecialization\t1, 2, 3\t{X => Y , Y => Z} |- X => Z\n",
       "\tA : X, B : Y, C : Z\n",
       "1\ttheorem\t\t|- forall_{A, B, C | A => B , B => C} (A => C)\n",
       "\tproveit.logic.boolean.implication.implicationTransitivity\n",
       "2\tassumption\t\t{X => Y} |- X => Y\n",
       "3\tassumption\t\t{Y => Z} |- Y => Z"
      ]
     },
     "execution_count": 36,
     "metadata": {},
     "output_type": "execute_result"
    }
   ],
   "source": [
    "X_impl_Z.proof()"
   ]
  },
  {
   "cell_type": "code",
   "execution_count": 37,
   "metadata": {},
   "outputs": [],
   "source": [
    "%end implication"
   ]
  },
  {
   "cell_type": "markdown",
   "metadata": {},
   "source": [
    "# Next chapter: <a href=\"tutorial04_relabeling.ipynb\">Relabeling</a>\n",
    "\n",
    "## <a href=\"tutorial00_introduction.ipynb#contents\">Table of Contents</a>"
   ]
  },
  {
   "cell_type": "code",
   "execution_count": null,
   "metadata": {},
   "outputs": [],
   "source": []
  }
 ],
 "metadata": {
  "kernelspec": {
   "display_name": "Python 3",
   "language": "python",
   "name": "python3"
  }
 },
 "nbformat": 4,
 "nbformat_minor": 0
}
