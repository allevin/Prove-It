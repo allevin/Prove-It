{
 "cells": [
  {
   "cell_type": "markdown",
   "metadata": {
    "deletable": true,
    "editable": true
   },
   "source": [
    "Axioms for context <a href=\"_context_.ipynb\" class=\"ProveItLink\">socks_demo</a>\n",
    "========"
   ]
  },
  {
   "cell_type": "code",
   "execution_count": 1,
   "metadata": {
    "collapsed": false,
    "deletable": true,
    "editable": true,
    "scrolled": true
   },
   "outputs": [
    {
     "name": "stdout",
     "output_type": "stream",
     "text": [
      "Defining axioms for context 'socks_demo'\n",
      "Subsequent end-of-cell assignments will define axioms\n",
      "%end_axioms will finalize the definitions\n"
     ]
    }
   ],
   "source": [
    "import proveit\n",
    "# the context is in the current directory:\n",
    "context = proveit.Context('.') # adds context root to sys.path if necessary\n",
    "from socks_demo._common_ import color, WHITE, BLACK\n",
    "from socks_demo._common_ import Dsocks, Bsocks, Wsocks, cSocks, wSocks, bSocks, N\n",
    "from socks_demo._common_ import abIsMatch, abDistinct, abSameColor\n",
    "from socks_demo.socks import Color, MatchingSubset, IsMatch, ContainsMatch\n",
    "from proveit._common_ import a, b, s, S # 's' for sock, 'S' for set of socks\n",
    "from proveit.logic import Forall, Exists, Equals, NotEquals, And, Iff, SetOfAll, SubsetEq, Card\n",
    "%begin axioms"
   ]
  },
  {
   "cell_type": "markdown",
   "metadata": {
    "deletable": true,
    "editable": true
   },
   "source": [
    "A matching subset is the subset of a set of socks of a given color, defined for convenience."
   ]
  },
  {
   "cell_type": "code",
   "execution_count": 2,
   "metadata": {
    "collapsed": false,
    "deletable": true,
    "editable": true,
    "scrolled": true
   },
   "outputs": [
    {
     "data": {
      "text/html": [
       "<strong id=\"matchingSubsetDef\">matchingSubsetDef:</strong> <a href=\"__pv_it\\a7cddf22aa822698cfcd75e207a3bfa2feea5fd60\\expr.ipynb\" target=\"_blank\"><img src=\"__pv_it\\a7cddf22aa822698cfcd75e207a3bfa2feea5fd60\\expr.png\" style=\"display:inline;vertical-align:middle;\" /></a><br>"
      ],
      "text/plain": [
       "matchingSubsetDef: forall_{S, color} (MatchingSubset(S,color) = {s s.t. (Color(s) = color)}_{s in S})"
      ]
     },
     "execution_count": 2,
     "metadata": {},
     "output_type": "execute_result"
    }
   ],
   "source": [
    "matchingSubsetDef = Forall([S, color], \n",
    "                          Equals(MatchingSubset(S, color), \n",
    "                                 SetOfAll(s, s,\n",
    "                                          conditions=[Equals(Color(s), color)],\n",
    "                                          domain=S)))"
   ]
  },
  {
   "cell_type": "markdown",
   "metadata": {
    "deletable": true,
    "editable": true
   },
   "source": [
    "Let ${\\cal D}$ be the set of socks in the dresser.  Let ${\\cal W}$ be the set of white socks in the dresser.  Let ${\\cal B}$ be the set of black socks in the dresser."
   ]
  },
  {
   "cell_type": "code",
   "execution_count": 3,
   "metadata": {
    "collapsed": false,
    "deletable": true,
    "editable": true
   },
   "outputs": [
    {
     "data": {
      "text/html": [
       "<strong id=\"dresserWhiteSocks\">dresserWhiteSocks:</strong> <a href=\"__pv_it\\d5a436eba6297499f6fc74a9de972f952f0113940\\expr.ipynb\" target=\"_blank\"><img src=\"__pv_it\\d5a436eba6297499f6fc74a9de972f952f0113940\\expr.png\" style=\"display:inline;vertical-align:middle;\" /></a><br>"
      ],
      "text/plain": [
       "dresserWhiteSocks: W = MatchingSubset(D,WHITE)"
      ]
     },
     "execution_count": 3,
     "metadata": {},
     "output_type": "execute_result"
    }
   ],
   "source": [
    "dresserWhiteSocks = Equals(Wsocks, MatchingSubset(Dsocks, WHITE))"
   ]
  },
  {
   "cell_type": "code",
   "execution_count": 4,
   "metadata": {
    "collapsed": false,
    "deletable": true,
    "editable": true
   },
   "outputs": [
    {
     "data": {
      "text/html": [
       "<strong id=\"dresserBlackSocks\">dresserBlackSocks:</strong> <a href=\"__pv_it\\1d4fe8ba138b897e6b04ed02f58509472edf83b70\\expr.ipynb\" target=\"_blank\"><img src=\"__pv_it\\1d4fe8ba138b897e6b04ed02f58509472edf83b70\\expr.png\" style=\"display:inline;vertical-align:middle;\" /></a><br>"
      ],
      "text/plain": [
       "dresserBlackSocks: B = MatchingSubset(D,BLACK)"
      ]
     },
     "execution_count": 4,
     "metadata": {},
     "output_type": "execute_result"
    }
   ],
   "source": [
    "dresserBlackSocks = Equals(Bsocks, MatchingSubset(Dsocks, BLACK))"
   ]
  },
  {
   "cell_type": "markdown",
   "metadata": {
    "deletable": true,
    "editable": true
   },
   "source": [
    "Let $c$ be the set of \"chosen\" socks (pulled randomly from the drawer) and $N$ be the number of \"chosen\" socks.  Let $w$ be the set of chosen white socks.  Let $b$ be the set of chosen black sets.  We start by assuming that $c = w \\cup b$.  At some point, however, this axiom will be eliminated and we will prove that such a decomposition exists."
   ]
  },
  {
   "cell_type": "code",
   "execution_count": 5,
   "metadata": {
    "collapsed": false,
    "deletable": true,
    "editable": true
   },
   "outputs": [
    {
     "data": {
      "text/html": [
       "<strong id=\"chosenFromDrawer\">chosenFromDrawer:</strong> <a href=\"__pv_it\\a026630d9e4a151e6ad4f782d499964d6e5d61db0\\expr.ipynb\" target=\"_blank\"><img src=\"__pv_it\\a026630d9e4a151e6ad4f782d499964d6e5d61db0\\expr.png\" style=\"display:inline;vertical-align:middle;\" /></a><br>"
      ],
      "text/plain": [
       "chosenFromDrawer: c subseteq D"
      ]
     },
     "execution_count": 5,
     "metadata": {},
     "output_type": "execute_result"
    }
   ],
   "source": [
    "chosenFromDrawer = SubsetEq(cSocks, Dsocks)"
   ]
  },
  {
   "cell_type": "code",
   "execution_count": 6,
   "metadata": {
    "collapsed": false,
    "deletable": true,
    "editable": true
   },
   "outputs": [
    {
     "data": {
      "text/html": [
       "<strong id=\"numChosen\">numChosen:</strong> <a href=\"__pv_it\\4e0e7a9f53b52d815a8cbfa98629807fb85b42300\\expr.ipynb\" target=\"_blank\"><img src=\"__pv_it\\4e0e7a9f53b52d815a8cbfa98629807fb85b42300\\expr.png\" style=\"display:inline;vertical-align:middle;\" /></a><br>"
      ],
      "text/plain": [
       "numChosen: |c| = N"
      ]
     },
     "execution_count": 6,
     "metadata": {},
     "output_type": "execute_result"
    }
   ],
   "source": [
    "numChosen = Equals(Card(cSocks), N)"
   ]
  },
  {
   "cell_type": "code",
   "execution_count": 7,
   "metadata": {
    "collapsed": false,
    "deletable": true,
    "editable": true
   },
   "outputs": [
    {
     "data": {
      "text/html": [
       "<strong id=\"chosenWhiteSocks\">chosenWhiteSocks:</strong> <a href=\"__pv_it\\4ccbee9af46da5bc1f3bea54436c563700b0ea2b0\\expr.ipynb\" target=\"_blank\"><img src=\"__pv_it\\4ccbee9af46da5bc1f3bea54436c563700b0ea2b0\\expr.png\" style=\"display:inline;vertical-align:middle;\" /></a><br>"
      ],
      "text/plain": [
       "chosenWhiteSocks: w = MatchingSubset(c,WHITE)"
      ]
     },
     "execution_count": 7,
     "metadata": {},
     "output_type": "execute_result"
    }
   ],
   "source": [
    "chosenWhiteSocks = Equals(wSocks, MatchingSubset(cSocks, WHITE))"
   ]
  },
  {
   "cell_type": "code",
   "execution_count": 8,
   "metadata": {
    "collapsed": false,
    "deletable": true,
    "editable": true
   },
   "outputs": [
    {
     "data": {
      "text/html": [
       "<strong id=\"chosenBlackSocks\">chosenBlackSocks:</strong> <a href=\"__pv_it\\effe22ce8857e2751e2169707f2421e0ddda8e7c0\\expr.ipynb\" target=\"_blank\"><img src=\"__pv_it\\effe22ce8857e2751e2169707f2421e0ddda8e7c0\\expr.png\" style=\"display:inline;vertical-align:middle;\" /></a><br>"
      ],
      "text/plain": [
       "chosenBlackSocks: b = MatchingSubset(c,BLACK)"
      ]
     },
     "execution_count": 8,
     "metadata": {},
     "output_type": "execute_result"
    }
   ],
   "source": [
    "chosenBlackSocks = Equals(bSocks, MatchingSubset(cSocks, BLACK))"
   ]
  },
  {
   "cell_type": "markdown",
   "metadata": {
    "deletable": true,
    "editable": true
   },
   "source": [
    "Two socks match if and only if they are distinct and have the same color."
   ]
  },
  {
   "cell_type": "code",
   "execution_count": 9,
   "metadata": {
    "collapsed": false,
    "deletable": true,
    "editable": true
   },
   "outputs": [
    {
     "data": {
      "text/html": [
       "<strong id=\"isMatchDef\">isMatchDef:</strong> <a href=\"__pv_it\\aadb51a6b6050c0d8ccd91ef614ecef7045ce26f0\\expr.ipynb\" target=\"_blank\"><img src=\"__pv_it\\aadb51a6b6050c0d8ccd91ef614ecef7045ce26f0\\expr.png\" style=\"display:inline;vertical-align:middle;\" /></a><br>"
      ],
      "text/plain": [
       "isMatchDef: forall_{a, b in D} (IsMatch(a,b) <=> ((a != b) and (Color(a) = Color(b))))"
      ]
     },
     "execution_count": 9,
     "metadata": {},
     "output_type": "execute_result"
    }
   ],
   "source": [
    "isMatchDef = Forall((a, b), Iff(abIsMatch, And(abDistinct, abSameColor)), domain=Dsocks)"
   ]
  },
  {
   "cell_type": "markdown",
   "metadata": {
    "deletable": true,
    "editable": true
   },
   "source": [
    "A set of socks contains a match if and only if there exists a pair of socks within the set that are a match."
   ]
  },
  {
   "cell_type": "code",
   "execution_count": 10,
   "metadata": {
    "collapsed": false,
    "deletable": true,
    "editable": true,
    "scrolled": true
   },
   "outputs": [
    {
     "data": {
      "text/html": [
       "<strong id=\"containsMatchDef\">containsMatchDef:</strong> <a href=\"__pv_it\\79bbdb0fcd88592d2cb94449e25080ed5f7e1ffa0\\expr.ipynb\" target=\"_blank\"><img src=\"__pv_it\\79bbdb0fcd88592d2cb94449e25080ed5f7e1ffa0\\expr.png\" style=\"display:inline;vertical-align:middle;\" /></a><br>"
      ],
      "text/plain": [
       "containsMatchDef: forall_{S | (S subseteq D)} (ContainsMatch(S) <=> [exists_{a, b in S} IsMatch(a,b)])"
      ]
     },
     "execution_count": 10,
     "metadata": {},
     "output_type": "execute_result"
    }
   ],
   "source": [
    "containsMatchDef = Forall(S, Iff(ContainsMatch(S), \n",
    "                                 Exists((a, b), IsMatch(a, b), domain=S)), \n",
    "                          conditions=[SubsetEq(S, Dsocks)])"
   ]
  },
  {
   "cell_type": "code",
   "execution_count": 11,
   "metadata": {
    "collapsed": false,
    "deletable": true,
    "editable": true,
    "scrolled": true
   },
   "outputs": [
    {
     "name": "stdout",
     "output_type": "stream",
     "text": [
      "Axioms may be imported from autogenerated _axioms_.py\n"
     ]
    }
   ],
   "source": [
    "%end axioms"
   ]
  },
  {
   "cell_type": "code",
   "execution_count": 12,
   "metadata": {
    "collapsed": true,
    "deletable": true,
    "editable": true
   },
   "outputs": [],
   "source": []
  },
  {
   "cell_type": "code",
   "execution_count": 12,
   "metadata": {
    "collapsed": true,
    "deletable": true,
    "editable": true
   },
   "outputs": [],
   "source": []
  }
 ],
 "metadata": {
  "kernelspec": {
   "display_name": "Python 3",
   "language": "python",
   "name": "python3"
  },
  "language_info": {
   "codemirror_mode": {
    "name": "ipython",
    "version": 3
   },
   "file_extension": ".py",
   "mimetype": "text/x-python",
   "name": "python",
   "nbconvert_exporter": "python",
   "pygments_lexer": "ipython3"
  }
 },
 "nbformat": 4,
 "nbformat_minor": 0
}
