{
 "cells": [
  {
   "cell_type": "markdown",
   "metadata": {
    "collapsed": true,
    "deletable": true,
    "editable": true
   },
   "source": [
    "Proof of <a class=\"ProveItLink\" href=\"..\\_context_.ipynb\">socks_demo</a>.<a href=\"../_theorems_.ipynb#pairInChosenMatches\" class=\"ProveItLink\">pairInChosenMatches</a> theorem\n",
    "========"
   ]
  },
  {
   "cell_type": "code",
   "execution_count": 1,
   "metadata": {
    "collapsed": false,
    "deletable": true,
    "editable": true
   },
   "outputs": [],
   "source": [
    "import proveit\n",
    "context = proveit.Context('..') # the theorem's context is in the parent directory\n",
    "from socks_demo._common_ import color, chosenMatches, abDistinct, abIsMatch , aInChosenMatches, bInChosenMatches\n",
    "from socks_demo._axioms_ import chosenFromDrawer\n",
    "from proveit._common_ import a, b\n",
    "from proveit import defaults"
   ]
  },
  {
   "cell_type": "code",
   "execution_count": 2,
   "metadata": {
    "collapsed": false,
    "deletable": true,
    "editable": true
   },
   "outputs": [
    {
     "name": "stdout",
     "output_type": "stream",
     "text": [
      "Recorded 'presuming' information\n",
      "Presuming theorems in proveit.logic (except any that depend upon this theorem).\n",
      "Presuming previous theorems in this context (and any of their dependencies).\n",
      "Beginning proof of\n"
     ]
    },
    {
     "data": {
      "text/html": [
       "<strong id=\"pairInChosenMatches\">pairInChosenMatches:</strong> <a href=\"..\\__pv_it\\a8b56a1b491f457123824ecbf7e0ec475e7e58720\\expr.ipynb\" target=\"_blank\"><img src=\"..\\__pv_it\\a8b56a1b491f457123824ecbf7e0ec475e7e58720\\expr.png\" style=\"display:inline;vertical-align:middle;\" /></a><br>(see <a class=\"ProveItLink\" href=\"..\\__pv_it\\a8b56a1b491f457123824ecbf7e0ec475e7e58720\\dependencies.ipynb\" target=\"_blank\">dependencies</a>)"
      ],
      "text/plain": [
       "pairInChosenMatches: forall_{color} [forall_{a, b in MatchingSubset(c,color) | (a != b)} IsMatch(a,b)]"
      ]
     },
     "execution_count": 2,
     "metadata": {},
     "output_type": "execute_result"
    }
   ],
   "source": [
    "%begin_proof pairInChosenMatches presuming [proveit.logic]"
   ]
  },
  {
   "cell_type": "code",
   "execution_count": 3,
   "metadata": {
    "collapsed": true,
    "deletable": true,
    "editable": true
   },
   "outputs": [],
   "source": [
    "defaults.assumptions = [abDistinct, aInChosenMatches, bInChosenMatches]"
   ]
  },
  {
   "cell_type": "code",
   "execution_count": 4,
   "metadata": {
    "collapsed": false,
    "deletable": true,
    "editable": true
   },
   "outputs": [
    {
     "data": {
      "text/html": [
       "<strong id=\"unfolded_a_membership\">unfolded_a_membership:</strong> <span style=\"font-size:20px;\"><a href=\"..\\__pv_it\\d3e6d193987bd8a36ba8a8cfb2117023f2e228730\\expr.ipynb\" target=\"_blank\"><img src=\"..\\__pv_it\\d3e6d193987bd8a36ba8a8cfb2117023f2e228730\\expr.png\" style=\"display:inline;vertical-align:middle;\" /></a> &#x22A2;&nbsp;<a href=\"..\\__pv_it\\4fbe2296277f585dc5b1de82b7b94c8ca66d46680\\expr.ipynb\" target=\"_blank\"><img src=\"..\\__pv_it\\4fbe2296277f585dc5b1de82b7b94c8ca66d46680\\expr.png\" style=\"display:inline;vertical-align:middle;\" /></a></span><br>"
      ],
      "text/plain": [
       "unfolded_a_membership: {(a in MatchingSubset(c,color))} |= (a in c) and (Color(a) = color)"
      ]
     },
     "execution_count": 4,
     "metadata": {},
     "output_type": "execute_result"
    }
   ],
   "source": [
    "unfolded_a_membership = aInChosenMatches.unfold()"
   ]
  },
  {
   "cell_type": "code",
   "execution_count": 5,
   "metadata": {
    "collapsed": false,
    "deletable": true,
    "editable": true
   },
   "outputs": [
    {
     "data": {
      "text/html": [
       "<strong id=\"unfolded_b_membership\">unfolded_b_membership:</strong> <span style=\"font-size:20px;\"><a href=\"..\\__pv_it\\e8731aaeef94d6270428db5616b2845e849e299e0\\expr.ipynb\" target=\"_blank\"><img src=\"..\\__pv_it\\e8731aaeef94d6270428db5616b2845e849e299e0\\expr.png\" style=\"display:inline;vertical-align:middle;\" /></a> &#x22A2;&nbsp;<a href=\"..\\__pv_it\\cb176e219e7cbdd9e4fd11de4b050ab9513479df0\\expr.ipynb\" target=\"_blank\"><img src=\"..\\__pv_it\\cb176e219e7cbdd9e4fd11de4b050ab9513479df0\\expr.png\" style=\"display:inline;vertical-align:middle;\" /></a></span><br>"
      ],
      "text/plain": [
       "unfolded_b_membership: {(b in MatchingSubset(c,color))} |= (b in c) and (Color(b) = color)"
      ]
     },
     "execution_count": 5,
     "metadata": {},
     "output_type": "execute_result"
    }
   ],
   "source": [
    "unfolded_b_membership = bInChosenMatches.unfold()"
   ]
  },
  {
   "cell_type": "code",
   "execution_count": 6,
   "metadata": {
    "collapsed": false,
    "deletable": true,
    "editable": true
   },
   "outputs": [
    {
     "data": {
      "text/html": [
       "<strong id=\"aColor\">aColor:</strong> <span style=\"font-size:20px;\"><a href=\"..\\__pv_it\\d3e6d193987bd8a36ba8a8cfb2117023f2e228730\\expr.ipynb\" target=\"_blank\"><img src=\"..\\__pv_it\\d3e6d193987bd8a36ba8a8cfb2117023f2e228730\\expr.png\" style=\"display:inline;vertical-align:middle;\" /></a> &#x22A2;&nbsp;<a href=\"..\\__pv_it\\d71c3b6a15f3d7655ca3794fa32ea367d35f13050\\expr.ipynb\" target=\"_blank\"><img src=\"..\\__pv_it\\d71c3b6a15f3d7655ca3794fa32ea367d35f13050\\expr.png\" style=\"display:inline;vertical-align:middle;\" /></a></span><br>\n",
       "<strong id=\"bColor\">bColor:</strong> <span style=\"font-size:20px;\"><a href=\"..\\__pv_it\\e8731aaeef94d6270428db5616b2845e849e299e0\\expr.ipynb\" target=\"_blank\"><img src=\"..\\__pv_it\\e8731aaeef94d6270428db5616b2845e849e299e0\\expr.png\" style=\"display:inline;vertical-align:middle;\" /></a> &#x22A2;&nbsp;<a href=\"..\\__pv_it\\3c62dd4653957ca945e0a6fd64d22f1d943206f80\\expr.ipynb\" target=\"_blank\"><img src=\"..\\__pv_it\\3c62dd4653957ca945e0a6fd64d22f1d943206f80\\expr.png\" style=\"display:inline;vertical-align:middle;\" /></a></span><br>"
      ],
      "text/plain": [
       "aColor: {(a in MatchingSubset(c,color))} |= Color(a) = color\n",
       "bColor: {(b in MatchingSubset(c,color))} |= Color(b) = color"
      ]
     },
     "execution_count": 6,
     "metadata": {},
     "output_type": "execute_result"
    }
   ],
   "source": [
    "aColor, bColor = unfolded_a_membership.deriveRight(), unfolded_b_membership.deriveRight()"
   ]
  },
  {
   "cell_type": "code",
   "execution_count": 7,
   "metadata": {
    "collapsed": false,
    "deletable": true,
    "editable": true
   },
   "outputs": [
    {
     "data": {
      "text/html": [
       "<span style=\"font-size:20px;\"><a href=\"..\\__pv_it\\77e603087c475a0dd1dfcf7e9775470304d50fd80\\expr.ipynb\" target=\"_blank\"><img src=\"..\\__pv_it\\77e603087c475a0dd1dfcf7e9775470304d50fd80\\expr.png\" style=\"display:inline;vertical-align:middle;\" /></a> &#x22A2;&nbsp;<a href=\"..\\__pv_it\\8cd02fc3bdbde0df3d65273936add678edc51e570\\expr.ipynb\" target=\"_blank\"><img src=\"..\\__pv_it\\8cd02fc3bdbde0df3d65273936add678edc51e570\\expr.png\" style=\"display:inline;vertical-align:middle;\" /></a></span>"
      ],
      "text/plain": [
       "{(a in MatchingSubset(c,color)),(b in MatchingSubset(c,color))} |= Color(a) = Color(b)"
      ]
     },
     "execution_count": 7,
     "metadata": {},
     "output_type": "execute_result"
    }
   ],
   "source": [
    "aColor.applyTransitivity(bColor)"
   ]
  },
  {
   "cell_type": "code",
   "execution_count": 8,
   "metadata": {
    "collapsed": false,
    "deletable": true,
    "editable": true
   },
   "outputs": [
    {
     "data": {
      "text/html": [
       "<span style=\"font-size:20px;\"> &#x22A2;&nbsp;<a href=\"..\\__pv_it\\a026630d9e4a151e6ad4f782d499964d6e5d61db0\\expr.ipynb\" target=\"_blank\"><img src=\"..\\__pv_it\\a026630d9e4a151e6ad4f782d499964d6e5d61db0\\expr.png\" style=\"display:inline;vertical-align:middle;\" /></a></span>"
      ],
      "text/plain": [
       "|= c subseteq D"
      ]
     },
     "execution_count": 8,
     "metadata": {},
     "output_type": "execute_result"
    }
   ],
   "source": [
    "chosenFromDrawer"
   ]
  },
  {
   "cell_type": "code",
   "execution_count": 9,
   "metadata": {
    "collapsed": false,
    "deletable": true,
    "editable": true
   },
   "outputs": [
    {
     "data": {
      "text/html": [
       "<strong id=\"abIsMatchDef\">abIsMatchDef:</strong> <span style=\"font-size:20px;\"><a href=\"..\\__pv_it\\77e603087c475a0dd1dfcf7e9775470304d50fd80\\expr.ipynb\" target=\"_blank\"><img src=\"..\\__pv_it\\77e603087c475a0dd1dfcf7e9775470304d50fd80\\expr.png\" style=\"display:inline;vertical-align:middle;\" /></a> &#x22A2;&nbsp;<a href=\"..\\__pv_it\\341e938f66cd8efc9fd84026ffbd7f827c75e4f30\\expr.ipynb\" target=\"_blank\"><img src=\"..\\__pv_it\\341e938f66cd8efc9fd84026ffbd7f827c75e4f30\\expr.png\" style=\"display:inline;vertical-align:middle;\" /></a></span><br>"
      ],
      "text/plain": [
       "abIsMatchDef: {(a in MatchingSubset(c,color)),(b in MatchingSubset(c,color))} |= IsMatch(a,b) <=> ((a != b) and (Color(a) = Color(b)))"
      ]
     },
     "execution_count": 9,
     "metadata": {},
     "output_type": "execute_result"
    }
   ],
   "source": [
    "abIsMatchDef = abIsMatch.definition()"
   ]
  },
  {
   "cell_type": "code",
   "execution_count": 10,
   "metadata": {
    "collapsed": false,
    "deletable": true,
    "editable": true
   },
   "outputs": [
    {
     "data": {
      "text/html": [
       "<strong id=\"abIsMatch\">abIsMatch:</strong> <span style=\"font-size:20px;\"><a href=\"..\\__pv_it\\0d8bf8ca41aa1e555146238567afd2b7f4bb42920\\expr.ipynb\" target=\"_blank\"><img src=\"..\\__pv_it\\0d8bf8ca41aa1e555146238567afd2b7f4bb42920\\expr.png\" style=\"display:inline;vertical-align:middle;\" /></a> &#x22A2;&nbsp;<a href=\"..\\__pv_it\\022c8a855e5c870d930537c594ad5d28481a331a0\\expr.ipynb\" target=\"_blank\"><img src=\"..\\__pv_it\\022c8a855e5c870d930537c594ad5d28481a331a0\\expr.png\" style=\"display:inline;vertical-align:middle;\" /></a></span><br>"
      ],
      "text/plain": [
       "abIsMatch: {(a != b),(a in MatchingSubset(c,color)),(b in MatchingSubset(c,color))} |= IsMatch(a,b)"
      ]
     },
     "execution_count": 10,
     "metadata": {},
     "output_type": "execute_result"
    }
   ],
   "source": [
    "abIsMatch = abIsMatchDef.deriveLeft()"
   ]
  },
  {
   "cell_type": "code",
   "execution_count": 11,
   "metadata": {
    "collapsed": false,
    "deletable": true,
    "editable": true
   },
   "outputs": [
    {
     "name": "stdout",
     "output_type": "stream",
     "text": [
      "pairInChosenMatches has been proven.  Now simply execute \"%qed\".\n"
     ]
    },
    {
     "data": {
      "text/html": [
       "<span style=\"font-size:20px;\"> &#x22A2;&nbsp;<a href=\"..\\__pv_it\\a8b56a1b491f457123824ecbf7e0ec475e7e58720\\expr.ipynb\" target=\"_blank\"><img src=\"..\\__pv_it\\a8b56a1b491f457123824ecbf7e0ec475e7e58720\\expr.png\" style=\"display:inline;vertical-align:middle;\" /></a></span>"
      ],
      "text/plain": [
       "|= forall_{color} [forall_{a, b in MatchingSubset(c,color) | (a != b)} IsMatch(a,b)]"
      ]
     },
     "execution_count": 11,
     "metadata": {},
     "output_type": "execute_result"
    }
   ],
   "source": [
    "abIsMatch.generalize([[color], (a, b)], domains=[None, chosenMatches], conditions=[abDistinct])"
   ]
  },
  {
   "cell_type": "code",
   "execution_count": 12,
   "metadata": {
    "collapsed": false,
    "deletable": true,
    "editable": true
   },
   "outputs": [
    {
     "data": {
      "text/html": [
       "<table><tr><th>&nbsp;</th><th>step type</th><th>requirements</th><th>statement</th></tr>\n",
       "<tr><td>0</td><td>generalizaton</td><td>1</td><td><span style=\"font-size:20px;\"> &#x22A2;&nbsp;<a href=\"..\\__pv_it\\a8b56a1b491f457123824ecbf7e0ec475e7e58720\\expr.ipynb\" target=\"_blank\"><img src=\"..\\__pv_it\\a8b56a1b491f457123824ecbf7e0ec475e7e58720\\expr.png\" style=\"display:inline;vertical-align:middle;\" /></a></span></td></tr>\n",
       "<tr><td>1</td><td>specialization</td><td>2, 3, 4</td><td><span style=\"font-size:20px;\"><a href=\"..\\__pv_it\\0d8bf8ca41aa1e555146238567afd2b7f4bb42920\\expr.ipynb\" target=\"_blank\"><img src=\"..\\__pv_it\\0d8bf8ca41aa1e555146238567afd2b7f4bb42920\\expr.png\" style=\"display:inline;vertical-align:middle;\" /></a> &#x22A2;&nbsp;<a href=\"..\\__pv_it\\022c8a855e5c870d930537c594ad5d28481a331a0\\expr.ipynb\" target=\"_blank\"><img src=\"..\\__pv_it\\022c8a855e5c870d930537c594ad5d28481a331a0\\expr.png\" style=\"display:inline;vertical-align:middle;\" /></a></span></td></tr>\n",
       "<tr><td>&nbsp;</td><td colspan=4 style=\"text-align:left\"><span style=\"font-size:20px;\"><a href=\"..\\__pv_it\\4983258c4dc121f62793e442a5a2deee5de174160\\expr.ipynb\" target=\"_blank\"><img src=\"..\\__pv_it\\4983258c4dc121f62793e442a5a2deee5de174160\\expr.png\" style=\"display:inline;vertical-align:middle;\" /></a>, <a href=\"..\\__pv_it\\58d31a39b30ef44c4f1b3deadc20f513bfa0db9d0\\expr.ipynb\" target=\"_blank\"><img src=\"..\\__pv_it\\58d31a39b30ef44c4f1b3deadc20f513bfa0db9d0\\expr.png\" style=\"display:inline;vertical-align:middle;\" /></a></span></td></tr><tr><td>2</td><td>theorem</td><td></td><td><span style=\"font-size:20px;\"> &#x22A2;&nbsp;<a href=\"..\\..\\..\\packages\\proveit\\logic\\boolean\\implication\\__pv_it\\68ab413a595b1af69d2c75a8ae4224cd62b98c3f0\\expr.ipynb\" target=\"_blank\"><img src=\"..\\..\\..\\packages\\proveit\\logic\\boolean\\implication\\__pv_it\\68ab413a595b1af69d2c75a8ae4224cd62b98c3f0\\expr.png\" style=\"display:inline;vertical-align:middle;\" /></a></span></td></tr>\n",
       "<tr><td>&nbsp;</td><td colspan=4 style-\"text-align:left\"><a href=\"..\\..\\..\\packages\\proveit\\logic\\boolean\\implication\\_proofs_\\leftFromIff.ipynb\" target=\"_blank\">proveit.logic.boolean.implication.leftFromIff</a></td></tr><tr><td>3</td><td>specialization</td><td>5, 6, 7</td><td><span style=\"font-size:20px;\"><a href=\"..\\__pv_it\\77e603087c475a0dd1dfcf7e9775470304d50fd80\\expr.ipynb\" target=\"_blank\"><img src=\"..\\__pv_it\\77e603087c475a0dd1dfcf7e9775470304d50fd80\\expr.png\" style=\"display:inline;vertical-align:middle;\" /></a> &#x22A2;&nbsp;<a href=\"..\\__pv_it\\341e938f66cd8efc9fd84026ffbd7f827c75e4f30\\expr.ipynb\" target=\"_blank\"><img src=\"..\\__pv_it\\341e938f66cd8efc9fd84026ffbd7f827c75e4f30\\expr.png\" style=\"display:inline;vertical-align:middle;\" /></a></span></td></tr>\n",
       "<tr><td>&nbsp;</td><td colspan=4 style=\"text-align:left\"><span style=\"font-size:20px;\"><a href=\"..\\__pv_it\\8adced5a69dc9ace46cf016fbee217fd71cd9a560\\expr.ipynb\" target=\"_blank\"><img src=\"..\\__pv_it\\8adced5a69dc9ace46cf016fbee217fd71cd9a560\\expr.png\" style=\"display:inline;vertical-align:middle;\" /></a>, <a href=\"..\\__pv_it\\0801973c23995dd859d6e73c5479466cb7c1a8f60\\expr.ipynb\" target=\"_blank\"><img src=\"..\\__pv_it\\0801973c23995dd859d6e73c5479466cb7c1a8f60\\expr.png\" style=\"display:inline;vertical-align:middle;\" /></a></span></td></tr><tr><td>4</td><td>specialization</td><td>8, 9, 10</td><td><span style=\"font-size:20px;\"><a href=\"..\\__pv_it\\0d8bf8ca41aa1e555146238567afd2b7f4bb42920\\expr.ipynb\" target=\"_blank\"><img src=\"..\\__pv_it\\0d8bf8ca41aa1e555146238567afd2b7f4bb42920\\expr.png\" style=\"display:inline;vertical-align:middle;\" /></a> &#x22A2;&nbsp;<a href=\"..\\__pv_it\\079c2cd69581c264cfc1590725d08a1ad0a3f1ac0\\expr.ipynb\" target=\"_blank\"><img src=\"..\\__pv_it\\079c2cd69581c264cfc1590725d08a1ad0a3f1ac0\\expr.png\" style=\"display:inline;vertical-align:middle;\" /></a></span></td></tr>\n",
       "<tr><td>&nbsp;</td><td colspan=4 style=\"text-align:left\"><span style=\"font-size:20px;\"><a href=\"..\\__pv_it\\51bd1547bc8d9eea3c790e35820aad236542b46d0\\expr.ipynb\" target=\"_blank\"><img src=\"..\\__pv_it\\51bd1547bc8d9eea3c790e35820aad236542b46d0\\expr.png\" style=\"display:inline;vertical-align:middle;\" /></a>, <a href=\"..\\__pv_it\\bd9a635608f01fbc6b5a823cbff5ce24a7f1d9a50\\expr.ipynb\" target=\"_blank\"><img src=\"..\\__pv_it\\bd9a635608f01fbc6b5a823cbff5ce24a7f1d9a50\\expr.png\" style=\"display:inline;vertical-align:middle;\" /></a></span></td></tr><tr><td>5</td><td>axiom</td><td></td><td><span style=\"font-size:20px;\"> &#x22A2;&nbsp;<a href=\"..\\__pv_it\\aadb51a6b6050c0d8ccd91ef614ecef7045ce26f0\\expr.ipynb\" target=\"_blank\"><img src=\"..\\__pv_it\\aadb51a6b6050c0d8ccd91ef614ecef7045ce26f0\\expr.png\" style=\"display:inline;vertical-align:middle;\" /></a></span></td></tr>\n",
       "<tr><td>&nbsp;</td><td colspan=4 style-\"text-align:left\"><a href=\"..\\_axioms_.ipynb#isMatchDef\" target=\"_blank\">socks_demo.isMatchDef</a></td></tr><tr><td>6</td><td>specialization</td><td>12, 13, 11</td><td><span style=\"font-size:20px;\"><a href=\"..\\__pv_it\\d3e6d193987bd8a36ba8a8cfb2117023f2e228730\\expr.ipynb\" target=\"_blank\"><img src=\"..\\__pv_it\\d3e6d193987bd8a36ba8a8cfb2117023f2e228730\\expr.png\" style=\"display:inline;vertical-align:middle;\" /></a> &#x22A2;&nbsp;<a href=\"..\\__pv_it\\2918d5842c87d5229276d316a91c736e7a621da10\\expr.ipynb\" target=\"_blank\"><img src=\"..\\__pv_it\\2918d5842c87d5229276d316a91c736e7a621da10\\expr.png\" style=\"display:inline;vertical-align:middle;\" /></a></span></td></tr>\n",
       "<tr><td>&nbsp;</td><td colspan=4 style=\"text-align:left\"><span style=\"font-size:20px;\"><a href=\"..\\__pv_it\\f8ac5ee352e3f67f33114d39b9e9c125a229fce00\\expr.ipynb\" target=\"_blank\"><img src=\"..\\__pv_it\\f8ac5ee352e3f67f33114d39b9e9c125a229fce00\\expr.png\" style=\"display:inline;vertical-align:middle;\" /></a>, <a href=\"..\\__pv_it\\c202d1c4416cf0bdc1088d4ced76137814d5f3090\\expr.ipynb\" target=\"_blank\"><img src=\"..\\__pv_it\\c202d1c4416cf0bdc1088d4ced76137814d5f3090\\expr.png\" style=\"display:inline;vertical-align:middle;\" /></a></span></td></tr><tr><td>7</td><td>specialization</td><td>12, 13, 14</td><td><span style=\"font-size:20px;\"><a href=\"..\\__pv_it\\e8731aaeef94d6270428db5616b2845e849e299e0\\expr.ipynb\" target=\"_blank\"><img src=\"..\\__pv_it\\e8731aaeef94d6270428db5616b2845e849e299e0\\expr.png\" style=\"display:inline;vertical-align:middle;\" /></a> &#x22A2;&nbsp;<a href=\"..\\__pv_it\\33b4afbef35a169c6de4f10bdb7a1ddff6e72f8d0\\expr.ipynb\" target=\"_blank\"><img src=\"..\\__pv_it\\33b4afbef35a169c6de4f10bdb7a1ddff6e72f8d0\\expr.png\" style=\"display:inline;vertical-align:middle;\" /></a></span></td></tr>\n",
       "<tr><td>&nbsp;</td><td colspan=4 style=\"text-align:left\"><span style=\"font-size:20px;\"><a href=\"..\\__pv_it\\f8ac5ee352e3f67f33114d39b9e9c125a229fce00\\expr.ipynb\" target=\"_blank\"><img src=\"..\\__pv_it\\f8ac5ee352e3f67f33114d39b9e9c125a229fce00\\expr.png\" style=\"display:inline;vertical-align:middle;\" /></a>, <a href=\"..\\__pv_it\\23ee4315f290955a8fc81e6b0f3fb9602192b7e00\\expr.ipynb\" target=\"_blank\"><img src=\"..\\__pv_it\\23ee4315f290955a8fc81e6b0f3fb9602192b7e00\\expr.png\" style=\"display:inline;vertical-align:middle;\" /></a></span></td></tr><tr><td>8</td><td>theorem</td><td></td><td><span style=\"font-size:20px;\"> &#x22A2;&nbsp;<a href=\"..\\..\\..\\packages\\proveit\\logic\\boolean\\conjunction\\__pv_it\\22f91b4d488d0d03eb950f612755d066f75e3ac70\\expr.ipynb\" target=\"_blank\"><img src=\"..\\..\\..\\packages\\proveit\\logic\\boolean\\conjunction\\__pv_it\\22f91b4d488d0d03eb950f612755d066f75e3ac70\\expr.png\" style=\"display:inline;vertical-align:middle;\" /></a></span></td></tr>\n",
       "<tr><td>&nbsp;</td><td colspan=4 style-\"text-align:left\"><a href=\"..\\..\\..\\packages\\proveit\\logic\\boolean\\conjunction\\_proofs_\\andIfBoth.ipynb\" target=\"_blank\">proveit.logic.boolean.conjunction.andIfBoth</a></td></tr><tr><td>9</td><td>assumption</td><td></td><td><span style=\"font-size:20px;\"><a href=\"..\\__pv_it\\795e7c7a5301e10e05d2ff08db389bb98368920f0\\expr.ipynb\" target=\"_blank\"><img src=\"..\\__pv_it\\795e7c7a5301e10e05d2ff08db389bb98368920f0\\expr.png\" style=\"display:inline;vertical-align:middle;\" /></a> &#x22A2;&nbsp;<a href=\"..\\__pv_it\\34924a980be6fc8b9b8579ab4557d81b7912d4050\\expr.ipynb\" target=\"_blank\"><img src=\"..\\__pv_it\\34924a980be6fc8b9b8579ab4557d81b7912d4050\\expr.png\" style=\"display:inline;vertical-align:middle;\" /></a></span></td></tr>\n",
       "<tr><td>10</td><td>specialization</td><td>15, 16, 17</td><td><span style=\"font-size:20px;\"><a href=\"..\\__pv_it\\77e603087c475a0dd1dfcf7e9775470304d50fd80\\expr.ipynb\" target=\"_blank\"><img src=\"..\\__pv_it\\77e603087c475a0dd1dfcf7e9775470304d50fd80\\expr.png\" style=\"display:inline;vertical-align:middle;\" /></a> &#x22A2;&nbsp;<a href=\"..\\__pv_it\\8cd02fc3bdbde0df3d65273936add678edc51e570\\expr.ipynb\" target=\"_blank\"><img src=\"..\\__pv_it\\8cd02fc3bdbde0df3d65273936add678edc51e570\\expr.png\" style=\"display:inline;vertical-align:middle;\" /></a></span></td></tr>\n",
       "<tr><td>&nbsp;</td><td colspan=4 style=\"text-align:left\"><span style=\"font-size:20px;\"><a href=\"..\\__pv_it\\20dc8a0c9261986f3727940e92e1f3d75630c6440\\expr.ipynb\" target=\"_blank\"><img src=\"..\\__pv_it\\20dc8a0c9261986f3727940e92e1f3d75630c6440\\expr.png\" style=\"display:inline;vertical-align:middle;\" /></a>, <a href=\"..\\__pv_it\\24a4525acf6f853c33ab0d367de36f78b7be68220\\expr.ipynb\" target=\"_blank\"><img src=\"..\\__pv_it\\24a4525acf6f853c33ab0d367de36f78b7be68220\\expr.png\" style=\"display:inline;vertical-align:middle;\" /></a>, <a href=\"..\\__pv_it\\56b67f9457c850d549f7e3b3911f4e95f712a9fb0\\expr.ipynb\" target=\"_blank\"><img src=\"..\\__pv_it\\56b67f9457c850d549f7e3b3911f4e95f712a9fb0\\expr.png\" style=\"display:inline;vertical-align:middle;\" /></a></span></td></tr><tr><td>11</td><td>specialization</td><td>18, 19</td><td><span style=\"font-size:20px;\"><a href=\"..\\__pv_it\\d3e6d193987bd8a36ba8a8cfb2117023f2e228730\\expr.ipynb\" target=\"_blank\"><img src=\"..\\__pv_it\\d3e6d193987bd8a36ba8a8cfb2117023f2e228730\\expr.png\" style=\"display:inline;vertical-align:middle;\" /></a> &#x22A2;&nbsp;<a href=\"..\\__pv_it\\29270739ebf1a3e9d65a5ba3dfa78976b506afdc0\\expr.ipynb\" target=\"_blank\"><img src=\"..\\__pv_it\\29270739ebf1a3e9d65a5ba3dfa78976b506afdc0\\expr.png\" style=\"display:inline;vertical-align:middle;\" /></a></span></td></tr>\n",
       "<tr><td>&nbsp;</td><td colspan=4 style=\"text-align:left\"><span style=\"font-size:20px;\"><a href=\"..\\__pv_it\\c3487d7703f910c5d1d9180d0d247d836795bb9d0\\expr.ipynb\" target=\"_blank\"><img src=\"..\\__pv_it\\c3487d7703f910c5d1d9180d0d247d836795bb9d0\\expr.png\" style=\"display:inline;vertical-align:middle;\" /></a>, <a href=\"..\\__pv_it\\a8d3e9d10c9e879bf5db472531efb72e57c44bea0\\expr.ipynb\" target=\"_blank\"><img src=\"..\\__pv_it\\a8d3e9d10c9e879bf5db472531efb72e57c44bea0\\expr.png\" style=\"display:inline;vertical-align:middle;\" /></a></span></td></tr><tr><td>12</td><td>theorem</td><td></td><td><span style=\"font-size:20px;\"> &#x22A2;&nbsp;<a href=\"..\\..\\..\\packages\\proveit\\logic\\set_theory\\containment\\__pv_it\\9486244b9832ed3f7b0702be6580e16e2e1b87dc0\\expr.ipynb\" target=\"_blank\"><img src=\"..\\..\\..\\packages\\proveit\\logic\\set_theory\\containment\\__pv_it\\9486244b9832ed3f7b0702be6580e16e2e1b87dc0\\expr.png\" style=\"display:inline;vertical-align:middle;\" /></a></span></td></tr>\n",
       "<tr><td>&nbsp;</td><td colspan=4 style-\"text-align:left\"><a href=\"..\\..\\..\\packages\\proveit\\logic\\set_theory\\containment\\_proofs_\\unfoldSubsetEq.ipynb\" target=\"_blank\">proveit.logic.set_theory.containment.unfoldSubsetEq</a></td></tr><tr><td>13</td><td>axiom</td><td></td><td><span style=\"font-size:20px;\"> &#x22A2;&nbsp;<a href=\"..\\__pv_it\\a026630d9e4a151e6ad4f782d499964d6e5d61db0\\expr.ipynb\" target=\"_blank\"><img src=\"..\\__pv_it\\a026630d9e4a151e6ad4f782d499964d6e5d61db0\\expr.png\" style=\"display:inline;vertical-align:middle;\" /></a></span></td></tr>\n",
       "<tr><td>&nbsp;</td><td colspan=4 style-\"text-align:left\"><a href=\"..\\_axioms_.ipynb#chosenFromDrawer\" target=\"_blank\">socks_demo.chosenFromDrawer</a></td></tr><tr><td>14</td><td>specialization</td><td>18, 24</td><td><span style=\"font-size:20px;\"><a href=\"..\\__pv_it\\e8731aaeef94d6270428db5616b2845e849e299e0\\expr.ipynb\" target=\"_blank\"><img src=\"..\\__pv_it\\e8731aaeef94d6270428db5616b2845e849e299e0\\expr.png\" style=\"display:inline;vertical-align:middle;\" /></a> &#x22A2;&nbsp;<a href=\"..\\__pv_it\\8b281c0a36c6e29182f194a6de1d55b8fa816b440\\expr.ipynb\" target=\"_blank\"><img src=\"..\\__pv_it\\8b281c0a36c6e29182f194a6de1d55b8fa816b440\\expr.png\" style=\"display:inline;vertical-align:middle;\" /></a></span></td></tr>\n",
       "<tr><td>&nbsp;</td><td colspan=4 style=\"text-align:left\"><span style=\"font-size:20px;\"><a href=\"..\\__pv_it\\0c9cc7a471589d23fb4e0a9b942c25cec2d271e50\\expr.ipynb\" target=\"_blank\"><img src=\"..\\__pv_it\\0c9cc7a471589d23fb4e0a9b942c25cec2d271e50\\expr.png\" style=\"display:inline;vertical-align:middle;\" /></a>, <a href=\"..\\__pv_it\\6760ba10c088f2ce053e28e474ba9aa7a9afd7c00\\expr.ipynb\" target=\"_blank\"><img src=\"..\\__pv_it\\6760ba10c088f2ce053e28e474ba9aa7a9afd7c00\\expr.png\" style=\"display:inline;vertical-align:middle;\" /></a></span></td></tr><tr><td>15</td><td>axiom</td><td></td><td><span style=\"font-size:20px;\"> &#x22A2;&nbsp;<a href=\"..\\..\\..\\packages\\proveit\\logic\\equality\\__pv_it\\035a666cf34adcaab3a4e671008eefd05f40bf790\\expr.ipynb\" target=\"_blank\"><img src=\"..\\..\\..\\packages\\proveit\\logic\\equality\\__pv_it\\035a666cf34adcaab3a4e671008eefd05f40bf790\\expr.png\" style=\"display:inline;vertical-align:middle;\" /></a></span></td></tr>\n",
       "<tr><td>&nbsp;</td><td colspan=4 style-\"text-align:left\"><a href=\"..\\..\\..\\packages\\proveit\\logic\\equality\\_axioms_.ipynb#equalsTransitivity\" target=\"_blank\">proveit.logic.equality.equalsTransitivity</a></td></tr><tr><td>16</td><td>specialization</td><td>23, 19</td><td><span style=\"font-size:20px;\"><a href=\"..\\__pv_it\\d3e6d193987bd8a36ba8a8cfb2117023f2e228730\\expr.ipynb\" target=\"_blank\"><img src=\"..\\__pv_it\\d3e6d193987bd8a36ba8a8cfb2117023f2e228730\\expr.png\" style=\"display:inline;vertical-align:middle;\" /></a> &#x22A2;&nbsp;<a href=\"..\\__pv_it\\d71c3b6a15f3d7655ca3794fa32ea367d35f13050\\expr.ipynb\" target=\"_blank\"><img src=\"..\\__pv_it\\d71c3b6a15f3d7655ca3794fa32ea367d35f13050\\expr.png\" style=\"display:inline;vertical-align:middle;\" /></a></span></td></tr>\n",
       "<tr><td>&nbsp;</td><td colspan=4 style=\"text-align:left\"><span style=\"font-size:20px;\"><a href=\"..\\__pv_it\\c3487d7703f910c5d1d9180d0d247d836795bb9d0\\expr.ipynb\" target=\"_blank\"><img src=\"..\\__pv_it\\c3487d7703f910c5d1d9180d0d247d836795bb9d0\\expr.png\" style=\"display:inline;vertical-align:middle;\" /></a>, <a href=\"..\\__pv_it\\a8d3e9d10c9e879bf5db472531efb72e57c44bea0\\expr.ipynb\" target=\"_blank\"><img src=\"..\\__pv_it\\a8d3e9d10c9e879bf5db472531efb72e57c44bea0\\expr.png\" style=\"display:inline;vertical-align:middle;\" /></a></span></td></tr><tr><td>17</td><td>specialization</td><td>20, 21</td><td><span style=\"font-size:20px;\"><a href=\"..\\__pv_it\\e8731aaeef94d6270428db5616b2845e849e299e0\\expr.ipynb\" target=\"_blank\"><img src=\"..\\__pv_it\\e8731aaeef94d6270428db5616b2845e849e299e0\\expr.png\" style=\"display:inline;vertical-align:middle;\" /></a> &#x22A2;&nbsp;<a href=\"..\\__pv_it\\e31e9c9cb5edcaecf5d320bc6801a9b3545426350\\expr.ipynb\" target=\"_blank\"><img src=\"..\\__pv_it\\e31e9c9cb5edcaecf5d320bc6801a9b3545426350\\expr.png\" style=\"display:inline;vertical-align:middle;\" /></a></span></td></tr>\n",
       "<tr><td>&nbsp;</td><td colspan=4 style=\"text-align:left\"><span style=\"font-size:20px;\"><a href=\"..\\__pv_it\\0832fd662b596cfc2a9e00de6d3772e7ae0cb03f0\\expr.ipynb\" target=\"_blank\"><img src=\"..\\__pv_it\\0832fd662b596cfc2a9e00de6d3772e7ae0cb03f0\\expr.png\" style=\"display:inline;vertical-align:middle;\" /></a>, <a href=\"..\\__pv_it\\24a4525acf6f853c33ab0d367de36f78b7be68220\\expr.ipynb\" target=\"_blank\"><img src=\"..\\__pv_it\\24a4525acf6f853c33ab0d367de36f78b7be68220\\expr.png\" style=\"display:inline;vertical-align:middle;\" /></a></span></td></tr><tr><td>18</td><td>theorem</td><td></td><td><span style=\"font-size:20px;\"> &#x22A2;&nbsp;<a href=\"..\\..\\..\\packages\\proveit\\logic\\boolean\\conjunction\\__pv_it\\b16e3c5ced7c8ddbc6b4ee493488a525154bd5380\\expr.ipynb\" target=\"_blank\"><img src=\"..\\..\\..\\packages\\proveit\\logic\\boolean\\conjunction\\__pv_it\\b16e3c5ced7c8ddbc6b4ee493488a525154bd5380\\expr.png\" style=\"display:inline;vertical-align:middle;\" /></a></span></td></tr>\n",
       "<tr><td>&nbsp;</td><td colspan=4 style-\"text-align:left\"><a href=\"..\\..\\..\\packages\\proveit\\logic\\boolean\\conjunction\\_proofs_\\leftFromAnd.ipynb\" target=\"_blank\">proveit.logic.boolean.conjunction.leftFromAnd</a></td></tr><tr><td>19</td><td>specialization</td><td>25, 22</td><td><span style=\"font-size:20px;\"><a href=\"..\\__pv_it\\d3e6d193987bd8a36ba8a8cfb2117023f2e228730\\expr.ipynb\" target=\"_blank\"><img src=\"..\\__pv_it\\d3e6d193987bd8a36ba8a8cfb2117023f2e228730\\expr.png\" style=\"display:inline;vertical-align:middle;\" /></a> &#x22A2;&nbsp;<a href=\"..\\__pv_it\\4fbe2296277f585dc5b1de82b7b94c8ca66d46680\\expr.ipynb\" target=\"_blank\"><img src=\"..\\__pv_it\\4fbe2296277f585dc5b1de82b7b94c8ca66d46680\\expr.png\" style=\"display:inline;vertical-align:middle;\" /></a></span></td></tr>\n",
       "<tr><td>&nbsp;</td><td colspan=4 style=\"text-align:left\"><span style=\"font-size:20px;\"><a href=\"..\\__pv_it\\c5b417bd306f863391e9f5aec8105e074a66e8e10\\expr.ipynb\" target=\"_blank\"><img src=\"..\\__pv_it\\c5b417bd306f863391e9f5aec8105e074a66e8e10\\expr.png\" style=\"display:inline;vertical-align:middle;\" /></a>, <a href=\"..\\__pv_it\\c202d1c4416cf0bdc1088d4ced76137814d5f3090\\expr.ipynb\" target=\"_blank\"><img src=\"..\\__pv_it\\c202d1c4416cf0bdc1088d4ced76137814d5f3090\\expr.png\" style=\"display:inline;vertical-align:middle;\" /></a></span></td></tr><tr><td>20</td><td>theorem</td><td></td><td><span style=\"font-size:20px;\"> &#x22A2;&nbsp;<a href=\"..\\..\\..\\packages\\proveit\\logic\\equality\\__pv_it\\cac46856bf74ea5a1aa7df0d5d0912a3fb79d0500\\expr.ipynb\" target=\"_blank\"><img src=\"..\\..\\..\\packages\\proveit\\logic\\equality\\__pv_it\\cac46856bf74ea5a1aa7df0d5d0912a3fb79d0500\\expr.png\" style=\"display:inline;vertical-align:middle;\" /></a></span></td></tr>\n",
       "<tr><td>&nbsp;</td><td colspan=4 style-\"text-align:left\"><a href=\"..\\..\\..\\packages\\proveit\\logic\\equality\\_proofs_\\equalsReversal.ipynb\" target=\"_blank\">proveit.logic.equality.equalsReversal</a></td></tr><tr><td>21</td><td>specialization</td><td>23, 24</td><td><span style=\"font-size:20px;\"><a href=\"..\\__pv_it\\e8731aaeef94d6270428db5616b2845e849e299e0\\expr.ipynb\" target=\"_blank\"><img src=\"..\\__pv_it\\e8731aaeef94d6270428db5616b2845e849e299e0\\expr.png\" style=\"display:inline;vertical-align:middle;\" /></a> &#x22A2;&nbsp;<a href=\"..\\__pv_it\\3c62dd4653957ca945e0a6fd64d22f1d943206f80\\expr.ipynb\" target=\"_blank\"><img src=\"..\\__pv_it\\3c62dd4653957ca945e0a6fd64d22f1d943206f80\\expr.png\" style=\"display:inline;vertical-align:middle;\" /></a></span></td></tr>\n",
       "<tr><td>&nbsp;</td><td colspan=4 style=\"text-align:left\"><span style=\"font-size:20px;\"><a href=\"..\\__pv_it\\0c9cc7a471589d23fb4e0a9b942c25cec2d271e50\\expr.ipynb\" target=\"_blank\"><img src=\"..\\__pv_it\\0c9cc7a471589d23fb4e0a9b942c25cec2d271e50\\expr.png\" style=\"display:inline;vertical-align:middle;\" /></a>, <a href=\"..\\__pv_it\\6760ba10c088f2ce053e28e474ba9aa7a9afd7c00\\expr.ipynb\" target=\"_blank\"><img src=\"..\\__pv_it\\6760ba10c088f2ce053e28e474ba9aa7a9afd7c00\\expr.png\" style=\"display:inline;vertical-align:middle;\" /></a></span></td></tr><tr><td>22</td><td>assumption</td><td></td><td><span style=\"font-size:20px;\"><a href=\"..\\__pv_it\\d3e6d193987bd8a36ba8a8cfb2117023f2e228730\\expr.ipynb\" target=\"_blank\"><img src=\"..\\__pv_it\\d3e6d193987bd8a36ba8a8cfb2117023f2e228730\\expr.png\" style=\"display:inline;vertical-align:middle;\" /></a> &#x22A2;&nbsp;<a href=\"..\\__pv_it\\6cc181ba0d735c8e5b996da0e476f17f6dd7c3770\\expr.ipynb\" target=\"_blank\"><img src=\"..\\__pv_it\\6cc181ba0d735c8e5b996da0e476f17f6dd7c3770\\expr.png\" style=\"display:inline;vertical-align:middle;\" /></a></span></td></tr>\n",
       "<tr><td>23</td><td>theorem</td><td></td><td><span style=\"font-size:20px;\"> &#x22A2;&nbsp;<a href=\"..\\..\\..\\packages\\proveit\\logic\\boolean\\conjunction\\__pv_it\\e55e20fdc51ad3aaa101a1ee39fa2fbd7fe7ceb30\\expr.ipynb\" target=\"_blank\"><img src=\"..\\..\\..\\packages\\proveit\\logic\\boolean\\conjunction\\__pv_it\\e55e20fdc51ad3aaa101a1ee39fa2fbd7fe7ceb30\\expr.png\" style=\"display:inline;vertical-align:middle;\" /></a></span></td></tr>\n",
       "<tr><td>&nbsp;</td><td colspan=4 style-\"text-align:left\"><a href=\"..\\..\\..\\packages\\proveit\\logic\\boolean\\conjunction\\_proofs_\\rightFromAnd.ipynb\" target=\"_blank\">proveit.logic.boolean.conjunction.rightFromAnd</a></td></tr><tr><td>24</td><td>specialization</td><td>25, 26</td><td><span style=\"font-size:20px;\"><a href=\"..\\__pv_it\\e8731aaeef94d6270428db5616b2845e849e299e0\\expr.ipynb\" target=\"_blank\"><img src=\"..\\__pv_it\\e8731aaeef94d6270428db5616b2845e849e299e0\\expr.png\" style=\"display:inline;vertical-align:middle;\" /></a> &#x22A2;&nbsp;<a href=\"..\\__pv_it\\cb176e219e7cbdd9e4fd11de4b050ab9513479df0\\expr.ipynb\" target=\"_blank\"><img src=\"..\\__pv_it\\cb176e219e7cbdd9e4fd11de4b050ab9513479df0\\expr.png\" style=\"display:inline;vertical-align:middle;\" /></a></span></td></tr>\n",
       "<tr><td>&nbsp;</td><td colspan=4 style=\"text-align:left\"><span style=\"font-size:20px;\"><a href=\"..\\__pv_it\\c5b417bd306f863391e9f5aec8105e074a66e8e10\\expr.ipynb\" target=\"_blank\"><img src=\"..\\__pv_it\\c5b417bd306f863391e9f5aec8105e074a66e8e10\\expr.png\" style=\"display:inline;vertical-align:middle;\" /></a>, <a href=\"..\\__pv_it\\23ee4315f290955a8fc81e6b0f3fb9602192b7e00\\expr.ipynb\" target=\"_blank\"><img src=\"..\\__pv_it\\23ee4315f290955a8fc81e6b0f3fb9602192b7e00\\expr.png\" style=\"display:inline;vertical-align:middle;\" /></a></span></td></tr><tr><td>25</td><td>theorem</td><td></td><td><span style=\"font-size:20px;\"> &#x22A2;&nbsp;<a href=\"..\\__pv_it\\22a2e259cef342314ac62430079a7d9d2469f8460\\expr.ipynb\" target=\"_blank\"><img src=\"..\\__pv_it\\22a2e259cef342314ac62430079a7d9d2469f8460\\expr.png\" style=\"display:inline;vertical-align:middle;\" /></a></span></td></tr>\n",
       "<tr><td>&nbsp;</td><td colspan=4 style-\"text-align:left\"><a href=\"unfoldMatchingSubset.ipynb\" target=\"_blank\">socks_demo.unfoldMatchingSubset</a></td></tr><tr><td>26</td><td>assumption</td><td></td><td><span style=\"font-size:20px;\"><a href=\"..\\__pv_it\\e8731aaeef94d6270428db5616b2845e849e299e0\\expr.ipynb\" target=\"_blank\"><img src=\"..\\__pv_it\\e8731aaeef94d6270428db5616b2845e849e299e0\\expr.png\" style=\"display:inline;vertical-align:middle;\" /></a> &#x22A2;&nbsp;<a href=\"..\\__pv_it\\73b2f354ec03c45facc7a7eac0479d467cbc20360\\expr.ipynb\" target=\"_blank\"><img src=\"..\\__pv_it\\73b2f354ec03c45facc7a7eac0479d467cbc20360\\expr.png\" style=\"display:inline;vertical-align:middle;\" /></a></span></td></tr>\n"
      ],
      "text/plain": [
       "<proveit._core_.proof.Generalization instance at 0x0000000006988688>"
      ]
     },
     "execution_count": 12,
     "metadata": {},
     "output_type": "execute_result"
    }
   ],
   "source": [
    "%qed"
   ]
  },
  {
   "cell_type": "code",
   "execution_count": 13,
   "metadata": {
    "collapsed": true,
    "deletable": true,
    "editable": true
   },
   "outputs": [],
   "source": []
  }
 ],
 "metadata": {
  "kernelspec": {
   "display_name": "Python 3",
   "language": "python",
   "name": "python3"
  },
  "language_info": {
   "codemirror_mode": {
    "name": "ipython",
    "version": 3
   },
   "file_extension": ".py",
   "mimetype": "text/x-python",
   "name": "python",
   "nbconvert_exporter": "python",
   "pygments_lexer": "ipython3"
  }
 },
 "nbformat": 4,
 "nbformat_minor": 0
}
