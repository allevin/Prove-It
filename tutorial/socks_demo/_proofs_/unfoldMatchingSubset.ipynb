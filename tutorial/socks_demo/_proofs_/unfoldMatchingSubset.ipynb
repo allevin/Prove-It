{
 "cells": [
  {
   "cell_type": "markdown",
   "metadata": {
    "collapsed": true,
    "deletable": true,
    "editable": true
   },
   "source": [
    "Proof of <a class=\"ProveItLink\" href=\"..\\_context_.ipynb\">socks_demo</a>.<a href=\"../_theorems_.ipynb#unfoldMatchingSubset\" class=\"ProveItLink\">unfoldMatchingSubset</a> theorem\n",
    "========"
   ]
  },
  {
   "cell_type": "code",
   "execution_count": 1,
   "metadata": {
    "collapsed": false,
    "deletable": true,
    "editable": true
   },
   "outputs": [],
   "source": [
    "import proveit\n",
    "context = proveit.Context('..') # the theorem's context is in the parent directory\n",
    "from proveit._common_ import x, S\n",
    "from socks_demo._common_ import color, anyMatches\n",
    "from proveit.logic import InSet"
   ]
  },
  {
   "cell_type": "code",
   "execution_count": 2,
   "metadata": {
    "collapsed": false,
    "deletable": true,
    "editable": true,
    "scrolled": false
   },
   "outputs": [
    {
     "name": "stdout",
     "output_type": "stream",
     "text": [
      "Recorded 'presuming' information\n",
      "Presuming theorems in proveit.logic (except any that depend upon this theorem).\n",
      "Beginning proof of\n"
     ]
    },
    {
     "data": {
      "text/html": [
       "<strong id=\"unfoldMatchingSubset\">unfoldMatchingSubset:</strong> <a href=\"..\\__pv_it\\ec0fa7c7db1a703d8eab79217cb6a7dadb33f9ed0\\expr.ipynb\" target=\"_blank\"><img src=\"..\\__pv_it\\ec0fa7c7db1a703d8eab79217cb6a7dadb33f9ed0\\expr.png\" style=\"display:inline;vertical-align:middle;\" /></a><br>(see <a class=\"ProveItLink\" href=\"..\\__pv_it\\ec0fa7c7db1a703d8eab79217cb6a7dadb33f9ed0\\dependencies.ipynb\" target=\"_blank\">dependencies</a>)"
      ],
      "text/plain": [
       "unfoldMatchingSubset: forall_{S, color} [forall_{x in MatchingSubset(S,color)} ((x in S) and (Color(x) = color))]"
      ]
     },
     "execution_count": 2,
     "metadata": {},
     "output_type": "execute_result"
    }
   ],
   "source": [
    "%begin_proof unfoldMatchingSubset presuming [proveit.logic]"
   ]
  },
  {
   "cell_type": "code",
   "execution_count": 3,
   "metadata": {
    "collapsed": false,
    "deletable": true,
    "editable": true
   },
   "outputs": [
    {
     "data": {
      "text/html": [
       "<strong id=\"xInMatches\">xInMatches:</strong> <a href=\"..\\__pv_it\\627ed34e7fa4d9a6237d18c146a9586ae8e92cc70\\expr.ipynb\" target=\"_blank\"><img src=\"..\\__pv_it\\627ed34e7fa4d9a6237d18c146a9586ae8e92cc70\\expr.png\" style=\"display:inline;vertical-align:middle;\" /></a><br>"
      ],
      "text/plain": [
       "xInMatches: x in MatchingSubset(S,color)"
      ]
     },
     "execution_count": 3,
     "metadata": {},
     "output_type": "execute_result"
    }
   ],
   "source": [
    "xInMatches = InSet(x, anyMatches)"
   ]
  },
  {
   "cell_type": "code",
   "execution_count": 4,
   "metadata": {
    "collapsed": false,
    "deletable": true,
    "editable": true
   },
   "outputs": [
    {
     "data": {
      "text/html": [
       "<strong id=\"matchesDef\">matchesDef:</strong> <span style=\"font-size:20px;\"> &#x22A2;&nbsp;<a href=\"..\\__pv_it\\ff54bade775dc4c951489fe9c714d90397f158d60\\expr.ipynb\" target=\"_blank\"><img src=\"..\\__pv_it\\ff54bade775dc4c951489fe9c714d90397f158d60\\expr.png\" style=\"display:inline;vertical-align:middle;\" /></a></span><br>"
      ],
      "text/plain": [
       "matchesDef: |= MatchingSubset(S,color) = {s s.t. (Color(s) = color)}_{s in S}"
      ]
     },
     "execution_count": 4,
     "metadata": {},
     "output_type": "execute_result"
    }
   ],
   "source": [
    "matchesDef = anyMatches.definition()"
   ]
  },
  {
   "cell_type": "code",
   "execution_count": 5,
   "metadata": {
    "collapsed": false,
    "deletable": true,
    "editable": true
   },
   "outputs": [
    {
     "data": {
      "text/html": [
       "<strong id=\"xInMatchesDef\">xInMatchesDef:</strong> <span style=\"font-size:20px;\"><a href=\"..\\__pv_it\\6b6d45fbc021d4fb239bf50b3a0fa3b32097e3500\\expr.ipynb\" target=\"_blank\"><img src=\"..\\__pv_it\\6b6d45fbc021d4fb239bf50b3a0fa3b32097e3500\\expr.png\" style=\"display:inline;vertical-align:middle;\" /></a> &#x22A2;&nbsp;<a href=\"..\\__pv_it\\0b5ae837ab1d6c3f1d12ac1f08779ff0852a5bdf0\\expr.ipynb\" target=\"_blank\"><img src=\"..\\__pv_it\\0b5ae837ab1d6c3f1d12ac1f08779ff0852a5bdf0\\expr.png\" style=\"display:inline;vertical-align:middle;\" /></a></span><br>"
      ],
      "text/plain": [
       "xInMatchesDef: {(x in MatchingSubset(S,color))} |= x in {s s.t. (Color(s) = color)}_{s in S}"
      ]
     },
     "execution_count": 5,
     "metadata": {},
     "output_type": "execute_result"
    }
   ],
   "source": [
    "xInMatchesDef = matchesDef.rhsSubstitute(xInMatches, assumptions=[xInMatches])"
   ]
  },
  {
   "cell_type": "code",
   "execution_count": 6,
   "metadata": {
    "collapsed": false,
    "deletable": true,
    "editable": true
   },
   "outputs": [
    {
     "data": {
      "text/html": [
       "<strong id=\"unfolded\">unfolded:</strong> <span style=\"font-size:20px;\"><a href=\"..\\__pv_it\\6b6d45fbc021d4fb239bf50b3a0fa3b32097e3500\\expr.ipynb\" target=\"_blank\"><img src=\"..\\__pv_it\\6b6d45fbc021d4fb239bf50b3a0fa3b32097e3500\\expr.png\" style=\"display:inline;vertical-align:middle;\" /></a> &#x22A2;&nbsp;<a href=\"..\\__pv_it\\55312821858d7339af96d232d64c23c30dfe4e5c0\\expr.ipynb\" target=\"_blank\"><img src=\"..\\__pv_it\\55312821858d7339af96d232d64c23c30dfe4e5c0\\expr.png\" style=\"display:inline;vertical-align:middle;\" /></a></span><br>"
      ],
      "text/plain": [
       "unfolded: {(x in MatchingSubset(S,color))} |= (x in S) and (Color(x) = color)"
      ]
     },
     "execution_count": 6,
     "metadata": {},
     "output_type": "execute_result"
    }
   ],
   "source": [
    "unfolded = xInMatchesDef.unfold()"
   ]
  },
  {
   "cell_type": "code",
   "execution_count": 7,
   "metadata": {
    "collapsed": false,
    "deletable": true,
    "editable": true
   },
   "outputs": [
    {
     "name": "stdout",
     "output_type": "stream",
     "text": [
      "unfoldMatchingSubset has been proven.  Now simply execute \"%qed\".\n"
     ]
    },
    {
     "data": {
      "text/html": [
       "<span style=\"font-size:20px;\"> &#x22A2;&nbsp;<a href=\"..\\__pv_it\\ec0fa7c7db1a703d8eab79217cb6a7dadb33f9ed0\\expr.ipynb\" target=\"_blank\"><img src=\"..\\__pv_it\\ec0fa7c7db1a703d8eab79217cb6a7dadb33f9ed0\\expr.png\" style=\"display:inline;vertical-align:middle;\" /></a></span>"
      ],
      "text/plain": [
       "|= forall_{S, color} [forall_{x in MatchingSubset(S,color)} ((x in S) and (Color(x) = color))]"
      ]
     },
     "execution_count": 7,
     "metadata": {},
     "output_type": "execute_result"
    }
   ],
   "source": [
    "unfolded.generalize([[S, color], [x]], [None, anyMatches])"
   ]
  },
  {
   "cell_type": "code",
   "execution_count": 8,
   "metadata": {
    "collapsed": false,
    "deletable": true,
    "editable": true
   },
   "outputs": [
    {
     "data": {
      "text/html": [
       "<table><tr><th>&nbsp;</th><th>step type</th><th>requirements</th><th>statement</th></tr>\n",
       "<tr><td>0</td><td>generalizaton</td><td>1</td><td><span style=\"font-size:20px;\"> &#x22A2;&nbsp;<a href=\"..\\__pv_it\\ec0fa7c7db1a703d8eab79217cb6a7dadb33f9ed0\\expr.ipynb\" target=\"_blank\"><img src=\"..\\__pv_it\\ec0fa7c7db1a703d8eab79217cb6a7dadb33f9ed0\\expr.png\" style=\"display:inline;vertical-align:middle;\" /></a></span></td></tr>\n",
       "<tr><td>1</td><td>specialization</td><td>2, 3</td><td><span style=\"font-size:20px;\"><a href=\"..\\__pv_it\\6b6d45fbc021d4fb239bf50b3a0fa3b32097e3500\\expr.ipynb\" target=\"_blank\"><img src=\"..\\__pv_it\\6b6d45fbc021d4fb239bf50b3a0fa3b32097e3500\\expr.png\" style=\"display:inline;vertical-align:middle;\" /></a> &#x22A2;&nbsp;<a href=\"..\\__pv_it\\55312821858d7339af96d232d64c23c30dfe4e5c0\\expr.ipynb\" target=\"_blank\"><img src=\"..\\__pv_it\\55312821858d7339af96d232d64c23c30dfe4e5c0\\expr.png\" style=\"display:inline;vertical-align:middle;\" /></a></span></td></tr>\n",
       "<tr><td>&nbsp;</td><td colspan=4 style=\"text-align:left\"><span style=\"font-size:20px;\"><a href=\"..\\__pv_it\\3a7e0633202819f6821ad1f46bee8f6ffd4bdcae0\\expr.ipynb\" target=\"_blank\"><img src=\"..\\__pv_it\\3a7e0633202819f6821ad1f46bee8f6ffd4bdcae0\\expr.png\" style=\"display:inline;vertical-align:middle;\" /></a>, <a href=\"..\\__pv_it\\f6c18bc50f3a130f6aae0bc904866157ab83840f0\\expr.ipynb\" target=\"_blank\"><img src=\"..\\__pv_it\\f6c18bc50f3a130f6aae0bc904866157ab83840f0\\expr.png\" style=\"display:inline;vertical-align:middle;\" /></a>, relabeling <a href=\"..\\__pv_it\\7929e598c153669ed73d5dfa6803584e71b8ae110\\expr.ipynb\" target=\"_blank\"><img src=\"..\\__pv_it\\7929e598c153669ed73d5dfa6803584e71b8ae110\\expr.png\" style=\"display:inline;vertical-align:middle;\" /></a></span></td></tr><tr><td>2</td><td>theorem</td><td></td><td><span style=\"font-size:20px;\"> &#x22A2;&nbsp;<a href=\"..\\..\\..\\packages\\proveit\\logic\\set_theory\\comprehension\\__pv_it\\26f4fcf4cd5b7d45edf5f3314b23890f5b50cd0b0\\expr.ipynb\" target=\"_blank\"><img src=\"..\\..\\..\\packages\\proveit\\logic\\set_theory\\comprehension\\__pv_it\\26f4fcf4cd5b7d45edf5f3314b23890f5b50cd0b0\\expr.png\" style=\"display:inline;vertical-align:middle;\" /></a></span></td></tr>\n",
       "<tr><td>&nbsp;</td><td colspan=4 style-\"text-align:left\"><a href=\"..\\..\\..\\packages\\proveit\\logic\\set_theory\\comprehension\\_proofs_\\unfoldBasic1CondComprehension.ipynb\" target=\"_blank\">proveit.logic.set_theory.comprehension.unfoldBasic1CondComprehension</a></td></tr><tr><td>3</td><td>specialization</td><td>4, 5, 6</td><td><span style=\"font-size:20px;\"><a href=\"..\\__pv_it\\6b6d45fbc021d4fb239bf50b3a0fa3b32097e3500\\expr.ipynb\" target=\"_blank\"><img src=\"..\\__pv_it\\6b6d45fbc021d4fb239bf50b3a0fa3b32097e3500\\expr.png\" style=\"display:inline;vertical-align:middle;\" /></a> &#x22A2;&nbsp;<a href=\"..\\__pv_it\\0b5ae837ab1d6c3f1d12ac1f08779ff0852a5bdf0\\expr.ipynb\" target=\"_blank\"><img src=\"..\\__pv_it\\0b5ae837ab1d6c3f1d12ac1f08779ff0852a5bdf0\\expr.png\" style=\"display:inline;vertical-align:middle;\" /></a></span></td></tr>\n",
       "<tr><td>&nbsp;</td><td colspan=4 style=\"text-align:left\"><span style=\"font-size:20px;\"><a href=\"..\\__pv_it\\c8691758bb1410303a7f23c0f70d92f7b1dc2cf90\\expr.ipynb\" target=\"_blank\"><img src=\"..\\__pv_it\\c8691758bb1410303a7f23c0f70d92f7b1dc2cf90\\expr.png\" style=\"display:inline;vertical-align:middle;\" /></a>, <a href=\"..\\__pv_it\\abecb4658d08778dfc02dcbaef6ecb5bf3286eef0\\expr.ipynb\" target=\"_blank\"><img src=\"..\\__pv_it\\abecb4658d08778dfc02dcbaef6ecb5bf3286eef0\\expr.png\" style=\"display:inline;vertical-align:middle;\" /></a>, <a href=\"..\\__pv_it\\1e8b7fb58cc932739a9d2adbfebb98267782935d0\\expr.ipynb\" target=\"_blank\"><img src=\"..\\__pv_it\\1e8b7fb58cc932739a9d2adbfebb98267782935d0\\expr.png\" style=\"display:inline;vertical-align:middle;\" /></a></span></td></tr><tr><td>4</td><td>theorem</td><td></td><td><span style=\"font-size:20px;\"> &#x22A2;&nbsp;<a href=\"..\\..\\..\\packages\\proveit\\logic\\equality\\__pv_it\\22dd8e1c766360a90e962fac5bfe0529c88147fa0\\expr.ipynb\" target=\"_blank\"><img src=\"..\\..\\..\\packages\\proveit\\logic\\equality\\__pv_it\\22dd8e1c766360a90e962fac5bfe0529c88147fa0\\expr.png\" style=\"display:inline;vertical-align:middle;\" /></a></span></td></tr>\n",
       "<tr><td>&nbsp;</td><td colspan=4 style-\"text-align:left\"><a href=\"..\\..\\..\\packages\\proveit\\logic\\equality\\_proofs_\\rhsSubstitute.ipynb\" target=\"_blank\">proveit.logic.equality.rhsSubstitute</a></td></tr><tr><td>5</td><td>assumption</td><td></td><td><span style=\"font-size:20px;\"><a href=\"..\\__pv_it\\6b6d45fbc021d4fb239bf50b3a0fa3b32097e3500\\expr.ipynb\" target=\"_blank\"><img src=\"..\\__pv_it\\6b6d45fbc021d4fb239bf50b3a0fa3b32097e3500\\expr.png\" style=\"display:inline;vertical-align:middle;\" /></a> &#x22A2;&nbsp;<a href=\"..\\__pv_it\\627ed34e7fa4d9a6237d18c146a9586ae8e92cc70\\expr.ipynb\" target=\"_blank\"><img src=\"..\\__pv_it\\627ed34e7fa4d9a6237d18c146a9586ae8e92cc70\\expr.png\" style=\"display:inline;vertical-align:middle;\" /></a></span></td></tr>\n",
       "<tr><td>6</td><td>specialization</td><td>7</td><td><span style=\"font-size:20px;\"> &#x22A2;&nbsp;<a href=\"..\\__pv_it\\ff54bade775dc4c951489fe9c714d90397f158d60\\expr.ipynb\" target=\"_blank\"><img src=\"..\\__pv_it\\ff54bade775dc4c951489fe9c714d90397f158d60\\expr.png\" style=\"display:inline;vertical-align:middle;\" /></a></span></td></tr>\n",
       "<tr><td>&nbsp;</td><td colspan=4 style=\"text-align:left\"><span style=\"font-size:20px;\"><a href=\"..\\__pv_it\\6b3ee2e785966b922a45ee6db46f25a6112898360\\expr.ipynb\" target=\"_blank\"><img src=\"..\\__pv_it\\6b3ee2e785966b922a45ee6db46f25a6112898360\\expr.png\" style=\"display:inline;vertical-align:middle;\" /></a>, <a href=\"..\\__pv_it\\5ed87203f9d4ef79bdcfbd2e40705d65c06929200\\expr.ipynb\" target=\"_blank\"><img src=\"..\\__pv_it\\5ed87203f9d4ef79bdcfbd2e40705d65c06929200\\expr.png\" style=\"display:inline;vertical-align:middle;\" /></a></span></td></tr><tr><td>7</td><td>axiom</td><td></td><td><span style=\"font-size:20px;\"> &#x22A2;&nbsp;<a href=\"..\\__pv_it\\a7cddf22aa822698cfcd75e207a3bfa2feea5fd60\\expr.ipynb\" target=\"_blank\"><img src=\"..\\__pv_it\\a7cddf22aa822698cfcd75e207a3bfa2feea5fd60\\expr.png\" style=\"display:inline;vertical-align:middle;\" /></a></span></td></tr>\n",
       "<tr><td>&nbsp;</td><td colspan=4 style-\"text-align:left\"><a href=\"..\\_axioms_.ipynb#matchingSubsetDef\" target=\"_blank\">socks_demo.matchingSubsetDef</a></td></tr>"
      ],
      "text/plain": [
       "<proveit._core_.proof.Generalization instance at 0x000000000660CD08>"
      ]
     },
     "execution_count": 8,
     "metadata": {},
     "output_type": "execute_result"
    }
   ],
   "source": [
    "%qed"
   ]
  },
  {
   "cell_type": "code",
   "execution_count": 9,
   "metadata": {
    "collapsed": true,
    "deletable": true,
    "editable": true
   },
   "outputs": [],
   "source": []
  }
 ],
 "metadata": {
  "kernelspec": {
   "display_name": "Python 3",
   "language": "python",
   "name": "python3"
  },
  "language_info": {
   "codemirror_mode": {
    "name": "ipython",
    "version": 3
   },
   "file_extension": ".py",
   "mimetype": "text/x-python",
   "name": "python",
   "nbconvert_exporter": "python",
   "pygments_lexer": "ipython3"
  }
 },
 "nbformat": 4,
 "nbformat_minor": 0
}
