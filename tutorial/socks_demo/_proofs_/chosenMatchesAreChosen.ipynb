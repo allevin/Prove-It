{
 "cells": [
  {
   "cell_type": "markdown",
   "metadata": {
    "collapsed": true,
    "deletable": true,
    "editable": true
   },
   "source": [
    "Proof of <a class=\"ProveItLink\" href=\"..\\_context_.ipynb\">socks_demo</a>.<a href=\"../_theorems_.ipynb#chosenMatchesAreChosen\" class=\"ProveItLink\">chosenMatchesAreChosen</a> theorem\n",
    "========"
   ]
  },
  {
   "cell_type": "code",
   "execution_count": 1,
   "metadata": {
    "collapsed": true,
    "deletable": true,
    "editable": true
   },
   "outputs": [],
   "source": [
    "import proveit\n",
    "context = proveit.Context('..') # the theorem's context is in the parent directory\n",
    "from socks_demo._common_ import chosenMatches, cSocks, color\n",
    "from proveit.logic import SubsetEq\n",
    "import proveit"
   ]
  },
  {
   "cell_type": "code",
   "execution_count": 2,
   "metadata": {
    "collapsed": false,
    "deletable": true,
    "editable": true
   },
   "outputs": [
    {
     "name": "stdout",
     "output_type": "stream",
     "text": [
      "Recorded 'presuming' information\n",
      "Presuming theorems in proveit.logic (except any that depend upon this theorem).\n",
      "Presuming previous theorems in this context (and any of their dependencies).\n",
      "Beginning proof of\n"
     ]
    },
    {
     "data": {
      "text/html": [
       "<strong id=\"chosenMatchesAreChosen\">chosenMatchesAreChosen:</strong> <a class=\"ProveItLink\" href=\"..\\__pv_it\\16a07b4499ed1d2e6392d76080a35058d85dcf2f0\\expr.ipynb\"><img src=\"..\\__pv_it\\16a07b4499ed1d2e6392d76080a35058d85dcf2f0\\expr.png\" style=\"display:inline;vertical-align:middle;\" /></a><br>(see <a class=\"ProveItLink\" href=\"..\\__pv_it\\16a07b4499ed1d2e6392d76080a35058d85dcf2f0\\dependencies.ipynb\">dependencies</a>)"
      ],
      "text/plain": [
       "chosenMatchesAreChosen: forall_{color} (MatchingSubset(c,color) subseteq c)"
      ]
     },
     "execution_count": 2,
     "metadata": {},
     "output_type": "execute_result"
    }
   ],
   "source": [
    "%begin_proof chosenMatchesAreChosen presuming [proveit.logic]"
   ]
  },
  {
   "cell_type": "code",
   "execution_count": 3,
   "metadata": {
    "collapsed": false,
    "deletable": true,
    "editable": true
   },
   "outputs": [
    {
     "data": {
      "text/html": [
       "<a class=\"ProveItLink\" href=\"..\\__pv_it\\31d7edc4ac7f527e5e0e2dd2a132def79a5b1f8e0\\expr.ipynb\"><img src=\"..\\__pv_it\\31d7edc4ac7f527e5e0e2dd2a132def79a5b1f8e0\\expr.png\" style=\"display:inline;vertical-align:middle;\" /></a>"
      ],
      "text/plain": [
       "MatchingSubset(c,color)"
      ]
     },
     "execution_count": 3,
     "metadata": {},
     "output_type": "execute_result"
    }
   ],
   "source": [
    "chosenMatches"
   ]
  },
  {
   "cell_type": "code",
   "execution_count": 4,
   "metadata": {
    "collapsed": false,
    "deletable": true,
    "editable": true
   },
   "outputs": [
    {
     "data": {
      "text/html": [
       "<strong id=\"chosenMatchesDef\">chosenMatchesDef:</strong> <span style=\"font-size:20px;\"> &#x22A2;&nbsp;<a class=\"ProveItLink\" href=\"..\\__pv_it\\040274066444b5c80cf9dccd65d290868c16d8d60\\expr.ipynb\"><img src=\"..\\__pv_it\\040274066444b5c80cf9dccd65d290868c16d8d60\\expr.png\" style=\"display:inline;vertical-align:middle;\" /></a></span><br>"
      ],
      "text/plain": [
       "chosenMatchesDef: |= MatchingSubset(c,color) = {s s.t. (Color(s) = color)}_{s in c}"
      ]
     },
     "execution_count": 4,
     "metadata": {},
     "output_type": "execute_result"
    }
   ],
   "source": [
    "chosenMatchesDef = chosenMatches.definition()"
   ]
  },
  {
   "cell_type": "code",
   "execution_count": 5,
   "metadata": {
    "collapsed": false,
    "deletable": true,
    "editable": true
   },
   "outputs": [
    {
     "data": {
      "text/html": [
       "<strong id=\"subsetOfChosen\">subsetOfChosen:</strong> <span style=\"font-size:20px;\"> &#x22A2;&nbsp;<a class=\"ProveItLink\" href=\"..\\__pv_it\\e49b7e3805b8ca64834ec3866e174ffc147da1a70\\expr.ipynb\"><img src=\"..\\__pv_it\\e49b7e3805b8ca64834ec3866e174ffc147da1a70\\expr.png\" style=\"display:inline;vertical-align:middle;\" /></a></span><br>"
      ],
      "text/plain": [
       "subsetOfChosen: |= {s s.t. (Color(s) = color)}_{s in c} subseteq c"
      ]
     },
     "execution_count": 5,
     "metadata": {},
     "output_type": "execute_result"
    }
   ],
   "source": [
    "subsetOfChosen = SubsetEq(chosenMatchesDef.rhs, cSocks).prove()"
   ]
  },
  {
   "cell_type": "code",
   "execution_count": 6,
   "metadata": {
    "collapsed": false,
    "deletable": true,
    "editable": true
   },
   "outputs": [
    {
     "name": "stdout",
     "output_type": "stream",
     "text": [
      "chosenMatchesAreChosen has been proven.  Now simply execute \"%qed\".\n"
     ]
    },
    {
     "data": {
      "text/html": [
       "<span style=\"font-size:20px;\"> &#x22A2;&nbsp;<a class=\"ProveItLink\" href=\"..\\__pv_it\\16a07b4499ed1d2e6392d76080a35058d85dcf2f0\\expr.ipynb\"><img src=\"..\\__pv_it\\16a07b4499ed1d2e6392d76080a35058d85dcf2f0\\expr.png\" style=\"display:inline;vertical-align:middle;\" /></a></span>"
      ],
      "text/plain": [
       "|= forall_{color} (MatchingSubset(c,color) subseteq c)"
      ]
     },
     "execution_count": 6,
     "metadata": {},
     "output_type": "execute_result"
    }
   ],
   "source": [
    "chosenMatchesDef.lhsSubstitute(subsetOfChosen).generalize(color)"
   ]
  },
  {
   "cell_type": "code",
   "execution_count": 7,
   "metadata": {
    "collapsed": false,
    "deletable": true,
    "editable": true
   },
   "outputs": [
    {
     "data": {
      "text/html": [
       "<table><tr><th>&nbsp;</th><th>step type</th><th>requirements</th><th>statement</th></tr>\n",
       "<tr><td>0</td><td>generalizaton</td><td>1</td><td><span style=\"font-size:20px;\"> &#x22A2;&nbsp;<a class=\"ProveItLink\" href=\"..\\__pv_it\\16a07b4499ed1d2e6392d76080a35058d85dcf2f0\\expr.ipynb\"><img src=\"..\\__pv_it\\16a07b4499ed1d2e6392d76080a35058d85dcf2f0\\expr.png\" style=\"display:inline;vertical-align:middle;\" /></a></span></td></tr>\n",
       "<tr><td>1</td><td>specialization</td><td>2, 3, 4</td><td><span style=\"font-size:20px;\"> &#x22A2;&nbsp;<a class=\"ProveItLink\" href=\"..\\__pv_it\\d7bbc1f75c9689b712ea92dcc0a9408e24cf43190\\expr.ipynb\"><img src=\"..\\__pv_it\\d7bbc1f75c9689b712ea92dcc0a9408e24cf43190\\expr.png\" style=\"display:inline;vertical-align:middle;\" /></a></span></td></tr>\n",
       "<tr><td>&nbsp;</td><td colspan=4 style=\"text-align:left\"><span style=\"font-size:20px;\"><a class=\"ProveItLink\" href=\"..\\__pv_it\\b29c25dc5f6315d79802413aaf179bd598b106d50\\expr.ipynb\"><img src=\"..\\__pv_it\\b29c25dc5f6315d79802413aaf179bd598b106d50\\expr.png\" style=\"display:inline;vertical-align:middle;\" /></a>, <a class=\"ProveItLink\" href=\"..\\__pv_it\\77608ef4a0def24cc41501b27ad61fcc1f1cc6bc0\\expr.ipynb\"><img src=\"..\\__pv_it\\77608ef4a0def24cc41501b27ad61fcc1f1cc6bc0\\expr.png\" style=\"display:inline;vertical-align:middle;\" /></a>, <a class=\"ProveItLink\" href=\"..\\__pv_it\\5b99b425dd4e720979f05dcac56cf09390445aa30\\expr.ipynb\"><img src=\"..\\__pv_it\\5b99b425dd4e720979f05dcac56cf09390445aa30\\expr.png\" style=\"display:inline;vertical-align:middle;\" /></a></span></td></tr><tr><td>2</td><td>theorem</td><td></td><td><span style=\"font-size:20px;\"> &#x22A2;&nbsp;<a class=\"ProveItLink\" href=\"..\\..\\..\\packages\\proveit\\logic\\equality\\__pv_it\\ddf6dd80e23d6ec126eeff291ac5fb9fcc4663370\\expr.ipynb\"><img src=\"..\\..\\..\\packages\\proveit\\logic\\equality\\__pv_it\\ddf6dd80e23d6ec126eeff291ac5fb9fcc4663370\\expr.png\" style=\"display:inline;vertical-align:middle;\" /></a></span></td></tr>\n",
       "<tr><td>&nbsp;</td><td colspan=4 style-\"text-align:left\"><a class=\"ProveItLink\" href=\"..\\..\\..\\packages\\proveit\\logic\\equality\\_proofs_\\lhsSubstitute.ipynb\">proveit.logic.equality.lhsSubstitute</a></td></tr><tr><td>3</td><td>specialization</td><td>5</td><td><span style=\"font-size:20px;\"> &#x22A2;&nbsp;<a class=\"ProveItLink\" href=\"..\\__pv_it\\e49b7e3805b8ca64834ec3866e174ffc147da1a70\\expr.ipynb\"><img src=\"..\\__pv_it\\e49b7e3805b8ca64834ec3866e174ffc147da1a70\\expr.png\" style=\"display:inline;vertical-align:middle;\" /></a></span></td></tr>\n",
       "<tr><td>&nbsp;</td><td colspan=4 style=\"text-align:left\"><span style=\"font-size:20px;\"><a class=\"ProveItLink\" href=\"..\\__pv_it\\8260b044ee09e929a0d6b9fe81d52b1551683b540\\expr.ipynb\"><img src=\"..\\__pv_it\\8260b044ee09e929a0d6b9fe81d52b1551683b540\\expr.png\" style=\"display:inline;vertical-align:middle;\" /></a>, relabeling <a class=\"ProveItLink\" href=\"..\\__pv_it\\c782b9e513e7b36a4f4005525d6ed93ef756b3750\\expr.ipynb\"><img src=\"..\\__pv_it\\c782b9e513e7b36a4f4005525d6ed93ef756b3750\\expr.png\" style=\"display:inline;vertical-align:middle;\" /></a></span></td></tr><tr><td>4</td><td>specialization</td><td>6</td><td><span style=\"font-size:20px;\"> &#x22A2;&nbsp;<a class=\"ProveItLink\" href=\"..\\__pv_it\\040274066444b5c80cf9dccd65d290868c16d8d60\\expr.ipynb\"><img src=\"..\\__pv_it\\040274066444b5c80cf9dccd65d290868c16d8d60\\expr.png\" style=\"display:inline;vertical-align:middle;\" /></a></span></td></tr>\n",
       "<tr><td>&nbsp;</td><td colspan=4 style=\"text-align:left\"><span style=\"font-size:20px;\"><a class=\"ProveItLink\" href=\"..\\__pv_it\\9fd1fa5eec780c6a8a6c1399817de310af29b6080\\expr.ipynb\"><img src=\"..\\__pv_it\\9fd1fa5eec780c6a8a6c1399817de310af29b6080\\expr.png\" style=\"display:inline;vertical-align:middle;\" /></a>, <a class=\"ProveItLink\" href=\"..\\__pv_it\\5ed87203f9d4ef79bdcfbd2e40705d65c06929200\\expr.ipynb\"><img src=\"..\\__pv_it\\5ed87203f9d4ef79bdcfbd2e40705d65c06929200\\expr.png\" style=\"display:inline;vertical-align:middle;\" /></a></span></td></tr><tr><td>5</td><td>theorem</td><td></td><td><span style=\"font-size:20px;\"> &#x22A2;&nbsp;<a class=\"ProveItLink\" href=\"..\\..\\..\\packages\\proveit\\logic\\set_theory\\comprehension\\__pv_it\\3789f520db72ad01ef06fa9755928117a385b3370\\expr.ipynb\"><img src=\"..\\..\\..\\packages\\proveit\\logic\\set_theory\\comprehension\\__pv_it\\3789f520db72ad01ef06fa9755928117a385b3370\\expr.png\" style=\"display:inline;vertical-align:middle;\" /></a></span></td></tr>\n",
       "<tr><td>&nbsp;</td><td colspan=4 style-\"text-align:left\"><a class=\"ProveItLink\" href=\"..\\..\\..\\packages\\proveit\\logic\\set_theory\\comprehension\\_proofs_\\comprehensionIsSubset.ipynb\">proveit.logic.set_theory.comprehension.comprehensionIsSubset</a></td></tr><tr><td>6</td><td>axiom</td><td></td><td><span style=\"font-size:20px;\"> &#x22A2;&nbsp;<a class=\"ProveItLink\" href=\"..\\__pv_it\\a7cddf22aa822698cfcd75e207a3bfa2feea5fd60\\expr.ipynb\"><img src=\"..\\__pv_it\\a7cddf22aa822698cfcd75e207a3bfa2feea5fd60\\expr.png\" style=\"display:inline;vertical-align:middle;\" /></a></span></td></tr>\n",
       "<tr><td>&nbsp;</td><td colspan=4 style-\"text-align:left\"><a class=\"ProveItLink\" href=\"..\\_axioms_.ipynb#matchingSubsetDef\">socks_demo.matchingSubsetDef</a></td></tr>"
      ],
      "text/plain": [
       "<proveit._core_.proof.Generalization instance at 0x0000000006666EC8>"
      ]
     },
     "execution_count": 7,
     "metadata": {},
     "output_type": "execute_result"
    }
   ],
   "source": [
    "%qed"
   ]
  },
  {
   "cell_type": "code",
   "execution_count": 8,
   "metadata": {
    "collapsed": true,
    "deletable": true,
    "editable": true
   },
   "outputs": [],
   "source": []
  }
 ],
 "metadata": {
  "kernelspec": {
   "display_name": "Python 3",
   "language": "python",
   "name": "python3"
  },
  "language_info": {
   "codemirror_mode": {
    "name": "ipython",
    "version": 3
   },
   "file_extension": ".py",
   "mimetype": "text/x-python",
   "name": "python",
   "nbconvert_exporter": "python",
   "pygments_lexer": "ipython3"
  }
 },
 "nbformat": 4,
 "nbformat_minor": 0
}
