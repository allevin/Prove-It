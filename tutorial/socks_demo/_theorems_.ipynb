{
 "cells": [
  {
   "cell_type": "markdown",
   "metadata": {
    "deletable": true,
    "editable": true
   },
   "source": [
    "Theorems for context <a href=\"_context_.ipynb\" class=\"ProveItLink\">socks_demo</a>\n",
    "========\n",
    "\n",
    "Theorems created specifically for the \"matching socks\" demonstration problem.\n",
    "\n",
    "There are 10 black socks and 10 white socks in a dresser.  It is pitch black.  What is the minimum number of socks that must be randomly pulled from the dresser in order to guarantee that you have a matching pair?\n",
    "\n",
    "As defined in <a href=\"_axioms_.ipynb\" class=\"ProveItLink\">\\_axioms\\_</a>:\n",
    "* ${\\cal D}$ is the set of socks in the dresser.\n",
    "* ${\\cal W}$ is the set of white socks in the dresser.\n",
    "* ${\\cal B}$ is the set of black socks in the dresser.\n",
    "* $c$ is the set of randomly chosen socks.\n",
    "* $w$ is the set of chosen white socks.\n",
    "* $b$ is the set of chosen black socks.\n",
    "* $N$ is the number of randomly chosen socks.\n"
   ]
  },
  {
   "cell_type": "code",
   "execution_count": 1,
   "metadata": {
    "collapsed": false,
    "deletable": true,
    "editable": true
   },
   "outputs": [],
   "source": [
    "import proveit\n",
    "# the context is in the current directory:\n",
    "context = proveit.Context('.') # adds context root to sys.path if necessary\n",
    "from socks_demo._common_ import color, Dsocks, Ngeq3, cSocks, cSizeN\n",
    "from socks_demo._common_ import anyMatches, chosenMatches, abDistinct, abIsMatch, chose2orMoreOfEither\n",
    "from socks_demo.socks import Color\n",
    "from proveit.logic import Forall, And, Or, Implies, Iff, Equals, InSet, Card, SubsetEq\n",
    "from proveit.number import num, GreaterEq\n",
    "from proveit._common_ import a, b, c, x, S\n",
    "from socks_demo.socks import ContainsMatch, MatchingSubset"
   ]
  },
  {
   "cell_type": "code",
   "execution_count": 2,
   "metadata": {
    "collapsed": false,
    "deletable": true,
    "editable": true
   },
   "outputs": [
    {
     "name": "stdout",
     "output_type": "stream",
     "text": [
      "Defining theorems for context 'socks_demo'\n",
      "Subsequent end-of-cell assignments will define theorems\n",
      "'%end theorems' will finalize the definitions\n"
     ]
    }
   ],
   "source": [
    "%begin theorems"
   ]
  },
  {
   "cell_type": "code",
   "execution_count": 3,
   "metadata": {
    "collapsed": false,
    "deletable": true,
    "editable": true
   },
   "outputs": [
    {
     "data": {
      "text/html": [
       "<strong id=\"unfoldMatchingSubset\"><a class=\"ProveItLink\" href=\"_proofs_\\unfoldMatchingSubset.ipynb\" target=\"_blank\">unfoldMatchingSubset</a>:</strong> <a href=\"__pv_it\\ec0fa7c7db1a703d8eab79217cb6a7dadb33f9ed0\\expr.ipynb\" target=\"_blank\"><img src=\"__pv_it\\ec0fa7c7db1a703d8eab79217cb6a7dadb33f9ed0\\expr.png\" style=\"display:inline;vertical-align:middle;\" /></a><br>"
      ],
      "text/plain": [
       "unfoldMatchingSubset: forall_{S, color} [forall_{x in MatchingSubset(S,color)} ((x in S) and (Color(x) = color))]"
      ]
     },
     "execution_count": 3,
     "metadata": {},
     "output_type": "execute_result"
    }
   ],
   "source": [
    "unfoldMatchingSubset = Forall((S, color), Forall(x, And(InSet(x, S), Equals(Color(x), color)), domain=anyMatches))"
   ]
  },
  {
   "cell_type": "code",
   "execution_count": 4,
   "metadata": {
    "collapsed": false,
    "deletable": true,
    "editable": true
   },
   "outputs": [
    {
     "data": {
      "text/html": [
       "<strong id=\"pairInChosenMatches\"><a class=\"ProveItLink\" href=\"_proofs_\\pairInChosenMatches.ipynb\" target=\"_blank\">pairInChosenMatches</a>:</strong> <a href=\"__pv_it\\a8b56a1b491f457123824ecbf7e0ec475e7e58720\\expr.ipynb\" target=\"_blank\"><img src=\"__pv_it\\a8b56a1b491f457123824ecbf7e0ec475e7e58720\\expr.png\" style=\"display:inline;vertical-align:middle;\" /></a><br>"
      ],
      "text/plain": [
       "pairInChosenMatches: forall_{color} [forall_{a, b in MatchingSubset(c,color) | (a != b)} IsMatch(a,b)]"
      ]
     },
     "execution_count": 4,
     "metadata": {},
     "output_type": "execute_result"
    }
   ],
   "source": [
    "pairInChosenMatches = Forall(color, Forall((a, b), abIsMatch, domain=chosenMatches, conditions=[abDistinct]))"
   ]
  },
  {
   "cell_type": "code",
   "execution_count": 5,
   "metadata": {
    "collapsed": false,
    "deletable": true,
    "editable": true
   },
   "outputs": [
    {
     "data": {
      "text/html": [
       "<strong id=\"chosenMatchesAreChosen\"><a class=\"ProveItLink\" href=\"_proofs_\\chosenMatchesAreChosen.ipynb\" target=\"_blank\">chosenMatchesAreChosen</a>:</strong> <a href=\"__pv_it\\16a07b4499ed1d2e6392d76080a35058d85dcf2f0\\expr.ipynb\" target=\"_blank\"><img src=\"__pv_it\\16a07b4499ed1d2e6392d76080a35058d85dcf2f0\\expr.png\" style=\"display:inline;vertical-align:middle;\" /></a><br>"
      ],
      "text/plain": [
       "chosenMatchesAreChosen: forall_{color} (MatchingSubset(c,color) subseteq c)"
      ]
     },
     "execution_count": 5,
     "metadata": {},
     "output_type": "execute_result"
    }
   ],
   "source": [
    "chosenMatchesAreChosen = Forall(color, SubsetEq(chosenMatches, cSocks))"
   ]
  },
  {
   "cell_type": "markdown",
   "metadata": {
    "deletable": true,
    "editable": true
   },
   "source": [
    "Choosing 2 or more of either black or white socks ensures that there is a match among the chosen socks:"
   ]
  },
  {
   "cell_type": "code",
   "execution_count": 6,
   "metadata": {
    "collapsed": false,
    "deletable": true,
    "editable": true
   },
   "outputs": [
    {
     "data": {
      "text/html": [
       "<strong id=\"twoOrMoreIsSufficient\"><a class=\"ProveItLink\" href=\"_proofs_\\twoOrMoreIsSufficient.ipynb\" target=\"_blank\">twoOrMoreIsSufficient</a>:</strong> <a href=\"__pv_it\\c64aba2e030febe77d425e4b1baf766a9cd2024c0\\expr.ipynb\" target=\"_blank\"><img src=\"__pv_it\\c64aba2e030febe77d425e4b1baf766a9cd2024c0\\expr.png\" style=\"display:inline;vertical-align:middle;\" /></a><br>"
      ],
      "text/plain": [
       "twoOrMoreIsSufficient: forall_{color} ((|MatchingSubset(c,color)| >= 2) => ContainsMatch(c))"
      ]
     },
     "execution_count": 6,
     "metadata": {},
     "output_type": "execute_result"
    }
   ],
   "source": [
    "twoOrMoreIsSufficient = Forall(color, \n",
    "                           Implies(GreaterEq(Card(MatchingSubset(cSocks, \n",
    "                                                                color)),\n",
    "                                             num(2)),\n",
    "                                   ContainsMatch(cSocks)))"
   ]
  },
  {
   "cell_type": "markdown",
   "metadata": {
    "collapsed": true,
    "deletable": true,
    "editable": true
   },
   "source": [
    "Consider doing the contrapositive of the above theorem and do a proof by contradiction.  That is, from Not(ContainsMatch(c)) show that |w| <= 1 and |b| <= 1.  Therefore, |c| <= 2.  Therefore, |c| >= 3 implies ContainsMatch(c)."
   ]
  },
  {
   "cell_type": "code",
   "execution_count": 7,
   "metadata": {
    "collapsed": false,
    "deletable": true,
    "editable": true
   },
   "outputs": [
    {
     "data": {
      "text/html": [
       "<strong id=\"sufficientSubsets\"><a class=\"ProveItLink\" href=\"_proofs_\\sufficientSubsets.ipynb\" target=\"_blank\">sufficientSubsets</a>:</strong> <a href=\"__pv_it\\5f7681f3c578999d3539971fad431601bc8d4b350\\expr.ipynb\" target=\"_blank\"><img src=\"__pv_it\\5f7681f3c578999d3539971fad431601bc8d4b350\\expr.png\" style=\"display:inline;vertical-align:middle;\" /></a><br>"
      ],
      "text/plain": [
       "sufficientSubsets: ((|w| >= 2) or (|b| >= 2)) => ContainsMatch(c)"
      ]
     },
     "execution_count": 7,
     "metadata": {},
     "output_type": "execute_result"
    }
   ],
   "source": [
    "sufficientSubsets = Implies(chose2orMoreOfEither, ContainsMatch(cSocks))"
   ]
  },
  {
   "cell_type": "markdown",
   "metadata": {
    "deletable": true,
    "editable": true
   },
   "source": [
    "Conversely, if there is a match among the chosen socks, there must have been two or more of either black or white socks chosen:"
   ]
  },
  {
   "cell_type": "code",
   "execution_count": 8,
   "metadata": {
    "collapsed": false,
    "deletable": true,
    "editable": true
   },
   "outputs": [
    {
     "data": {
      "text/html": [
       "<strong id=\"necessarySubsets\"><a class=\"ProveItLink\" href=\"_proofs_\\necessarySubsets.ipynb\" target=\"_blank\">necessarySubsets</a>:</strong> <a href=\"__pv_it\\9285e334aabe3b2bb82be462af638f5630d1277d0\\expr.ipynb\" target=\"_blank\"><img src=\"__pv_it\\9285e334aabe3b2bb82be462af638f5630d1277d0\\expr.png\" style=\"display:inline;vertical-align:middle;\" /></a><br>"
      ],
      "text/plain": [
       "necessarySubsets: ContainsMatch(c) => ((|w| >= 2) or (|b| >= 2))"
      ]
     },
     "execution_count": 8,
     "metadata": {},
     "output_type": "execute_result"
    }
   ],
   "source": [
    "necessarySubsets = Implies(ContainsMatch(cSocks), chose2orMoreOfEither)"
   ]
  },
  {
   "cell_type": "markdown",
   "metadata": {
    "deletable": true,
    "editable": true
   },
   "source": [
    "If 3 or more socks were chosen, there must be a match.  Prove this by contradiction.  If there were no more than 1 chosen of each kind, there could not be more than 2 chosen in total.  But if there are 2 or more of either, by `sufficientSubsets` there must be a match."
   ]
  },
  {
   "cell_type": "code",
   "execution_count": 9,
   "metadata": {
    "collapsed": false,
    "deletable": true,
    "editable": true
   },
   "outputs": [
    {
     "data": {
      "text/html": [
       "<strong id=\"sufficientNum\"><a class=\"ProveItLink\" href=\"_proofs_\\sufficientNum.ipynb\" target=\"_blank\">sufficientNum</a>:</strong> <a href=\"__pv_it\\67a8e426de67bd55d72f1ee0800a541aae1afb6a0\\expr.ipynb\" target=\"_blank\"><img src=\"__pv_it\\67a8e426de67bd55d72f1ee0800a541aae1afb6a0\\expr.png\" style=\"display:inline;vertical-align:middle;\" /></a><br>"
      ],
      "text/plain": [
       "sufficientNum: (N >= 3) => ContainsMatch(c)"
      ]
     },
     "execution_count": 9,
     "metadata": {},
     "output_type": "execute_result"
    }
   ],
   "source": [
    "sufficientNum = Implies(Ngeq3, ContainsMatch(cSocks))"
   ]
  },
  {
   "cell_type": "markdown",
   "metadata": {
    "deletable": true,
    "editable": true
   },
   "source": [
    "To ensure that there is a match (considering all possible outcomes), 3 must be chosen.  Prove this by a counter-example.  If only 2 socks are drawn, it is possible that a black and white sock are chosen.  In that case, the necessary condition for a match indicated by `necessarySubsets` is not met."
   ]
  },
  {
   "cell_type": "code",
   "execution_count": 10,
   "metadata": {
    "collapsed": false,
    "deletable": true,
    "editable": true
   },
   "outputs": [
    {
     "data": {
      "text/html": [
       "<strong id=\"necessaryNum\"><a class=\"ProveItLink\" href=\"_proofs_\\necessaryNum.ipynb\" target=\"_blank\">necessaryNum</a>:</strong> <a href=\"__pv_it\\3042dd35ce509773b42c0cdc2fd358292925fd950\\expr.ipynb\" target=\"_blank\"><img src=\"__pv_it\\3042dd35ce509773b42c0cdc2fd358292925fd950\\expr.png\" style=\"display:inline;vertical-align:middle;\" /></a><br>"
      ],
      "text/plain": [
       "necessaryNum: [forall_{c | (c subseteq D),(|c| = N)} ContainsMatch(c)] => (N >= 3)"
      ]
     },
     "execution_count": 10,
     "metadata": {},
     "output_type": "execute_result"
    }
   ],
   "source": [
    "necessaryNum = Implies(Forall(c, ContainsMatch(c), conditions=[SubsetEq(c, Dsocks), cSizeN]), Ngeq3)"
   ]
  },
  {
   "cell_type": "markdown",
   "metadata": {
    "deletable": true,
    "editable": true
   },
   "source": [
    "Combining the necessary and sufficient conditions on the number of drawn socks, and generalizing over possible sets of chosen socks $c$, we have:"
   ]
  },
  {
   "cell_type": "code",
   "execution_count": 11,
   "metadata": {
    "collapsed": false,
    "deletable": true,
    "editable": true
   },
   "outputs": [
    {
     "data": {
      "text/html": [
       "<strong id=\"answer\"><a class=\"ProveItLink\" href=\"_proofs_\\answer.ipynb\" target=\"_blank\">answer</a>:</strong> <a href=\"__pv_it\\d4886d4d060a08d176a78ab3efc974929be9072f0\\expr.ipynb\" target=\"_blank\"><img src=\"__pv_it\\d4886d4d060a08d176a78ab3efc974929be9072f0\\expr.png\" style=\"display:inline;vertical-align:middle;\" /></a><br>"
      ],
      "text/plain": [
       "answer: (N >= 3) <=> [forall_{c | (c subseteq D),(|c| = N)} ContainsMatch(c)]"
      ]
     },
     "execution_count": 11,
     "metadata": {},
     "output_type": "execute_result"
    }
   ],
   "source": [
    "answer = Iff(Ngeq3, Forall(c, ContainsMatch(c), conditions=[SubsetEq(c, Dsocks), cSizeN]))"
   ]
  },
  {
   "cell_type": "code",
   "execution_count": 12,
   "metadata": {
    "collapsed": false,
    "deletable": true,
    "editable": true
   },
   "outputs": [
    {
     "name": "stdout",
     "output_type": "stream",
     "text": [
      "Theorems may be imported from autogenerated _theorems_.py\n"
     ]
    }
   ],
   "source": [
    "%end theorems"
   ]
  },
  {
   "cell_type": "code",
   "execution_count": 13,
   "metadata": {
    "collapsed": true,
    "deletable": true,
    "editable": true
   },
   "outputs": [],
   "source": []
  }
 ],
 "metadata": {
  "kernelspec": {
   "display_name": "Python 3",
   "language": "python",
   "name": "python3"
  },
  "language_info": {
   "codemirror_mode": {
    "name": "ipython",
    "version": 3
   },
   "file_extension": ".py",
   "mimetype": "text/x-python",
   "name": "python",
   "nbconvert_exporter": "python",
   "pygments_lexer": "ipython3"
  }
 },
 "nbformat": 4,
 "nbformat_minor": 0
}
