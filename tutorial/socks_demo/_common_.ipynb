{
 "cells": [
  {
   "cell_type": "markdown",
   "metadata": {
    "deletable": true,
    "editable": true
   },
   "source": [
    "Common expressions for context <a href=\"_context_.ipynb\" class=\"ProveItLink\">socks_demo</a>\n",
    "========"
   ]
  },
  {
   "cell_type": "code",
   "execution_count": 1,
   "metadata": {
    "collapsed": true,
    "deletable": true,
    "editable": true
   },
   "outputs": [],
   "source": [
    "import proveit\n",
    "# the context is in the current directory:\n",
    "context = proveit.Context('.') # adds context root to sys.path if necessary\n",
    "from proveit import Variable, Literal\n",
    "from proveit.logic import Equals, NotEquals, Or, Card, InSet\n",
    "from proveit.number import GreaterEq, num\n",
    "from proveit._common_ import a, b, c, S\n",
    "from socks_demo.socks import MatchingSubset, IsMatch, Color"
   ]
  },
  {
   "cell_type": "code",
   "execution_count": 2,
   "metadata": {
    "collapsed": false,
    "deletable": true,
    "editable": true,
    "scrolled": false
   },
   "outputs": [
    {
     "name": "stdout",
     "output_type": "stream",
     "text": [
      "Defining common sub-expressions for context 'socks_demo'\n",
      "Subsequent end-of-cell assignments will define common sub-expressions\n",
      "%end_common will finalize the definitions\n"
     ]
    }
   ],
   "source": [
    "%begin common"
   ]
  },
  {
   "cell_type": "markdown",
   "metadata": {
    "deletable": true,
    "editable": true
   },
   "source": [
    "**Variable used to represent sock color:**"
   ]
  },
  {
   "cell_type": "code",
   "execution_count": 3,
   "metadata": {
    "collapsed": false,
    "deletable": true,
    "editable": true
   },
   "outputs": [
    {
     "data": {
      "text/html": [
       "<strong id=\"color\">color:</strong> <a href=\"__pv_it\\ea113ba1f191f74eef2006b61952f3955888d3370\\expr.ipynb\" target=\"_blank\"><img src=\"__pv_it\\ea113ba1f191f74eef2006b61952f3955888d3370\\expr.png\" style=\"display:inline;vertical-align:middle;\" /></a><br>"
      ],
      "text/plain": [
       "color: color"
      ]
     },
     "execution_count": 3,
     "metadata": {},
     "output_type": "execute_result"
    }
   ],
   "source": [
    "color = Variable(stringFormat = 'color', latexFormat = r'{\\rm color}')"
   ]
  },
  {
   "cell_type": "markdown",
   "metadata": {
    "deletable": true,
    "editable": true
   },
   "source": [
    "**Color of the white socks:**"
   ]
  },
  {
   "cell_type": "code",
   "execution_count": 4,
   "metadata": {
    "collapsed": false,
    "deletable": true,
    "editable": true,
    "scrolled": true
   },
   "outputs": [
    {
     "data": {
      "text/html": [
       "<strong id=\"WHITE\">WHITE:</strong> <a href=\"..\\..\\packages\\proveit\\logic\\boolean\\__pv_it\\36332f5d4b46cbbb9bb038d6cb4bb9ebea4f79c00\\expr.ipynb\" target=\"_blank\"><img src=\"..\\..\\packages\\proveit\\logic\\boolean\\__pv_it\\36332f5d4b46cbbb9bb038d6cb4bb9ebea4f79c00\\expr.png\" style=\"display:inline;vertical-align:middle;\" /></a><br>"
      ],
      "text/plain": [
       "WHITE: WHITE"
      ]
     },
     "execution_count": 4,
     "metadata": {},
     "output_type": "execute_result"
    }
   ],
   "source": [
    "WHITE = Literal(stringFormat = 'WHITE', latexFormat = r'{\\rm WHITE}')"
   ]
  },
  {
   "cell_type": "markdown",
   "metadata": {
    "deletable": true,
    "editable": true
   },
   "source": [
    "**Color of the black socks:**"
   ]
  },
  {
   "cell_type": "code",
   "execution_count": 5,
   "metadata": {
    "collapsed": false,
    "deletable": true,
    "editable": true
   },
   "outputs": [
    {
     "data": {
      "text/html": [
       "<strong id=\"BLACK\">BLACK:</strong> <a href=\"..\\..\\packages\\proveit\\logic\\boolean\\__pv_it\\84c5ee862f3944dc0ff21eee5e74448c1b45b2130\\expr.ipynb\" target=\"_blank\"><img src=\"..\\..\\packages\\proveit\\logic\\boolean\\__pv_it\\84c5ee862f3944dc0ff21eee5e74448c1b45b2130\\expr.png\" style=\"display:inline;vertical-align:middle;\" /></a><br>"
      ],
      "text/plain": [
       "BLACK: BLACK"
      ]
     },
     "execution_count": 5,
     "metadata": {},
     "output_type": "execute_result"
    }
   ],
   "source": [
    "BLACK = Literal(stringFormat = 'BLACK', latexFormat = r'{\\rm BLACK}')"
   ]
  },
  {
   "cell_type": "markdown",
   "metadata": {
    "deletable": true,
    "editable": true
   },
   "source": [
    "**Set of dresser socks:**"
   ]
  },
  {
   "cell_type": "code",
   "execution_count": 6,
   "metadata": {
    "collapsed": false,
    "deletable": true,
    "editable": true
   },
   "outputs": [
    {
     "data": {
      "text/html": [
       "<strong id=\"Dsocks\">Dsocks:</strong> <a href=\"..\\..\\packages\\proveit\\logic\\boolean\\__pv_it\\e992ab40148e5b88681b413bf38f89dc5a9e35dc0\\expr.ipynb\" target=\"_blank\"><img src=\"..\\..\\packages\\proveit\\logic\\boolean\\__pv_it\\e992ab40148e5b88681b413bf38f89dc5a9e35dc0\\expr.png\" style=\"display:inline;vertical-align:middle;\" /></a><br>"
      ],
      "text/plain": [
       "Dsocks: D"
      ]
     },
     "execution_count": 6,
     "metadata": {},
     "output_type": "execute_result"
    }
   ],
   "source": [
    "Dsocks = Literal(stringFormat = 'D', latexFormat = r'{\\cal D}')"
   ]
  },
  {
   "cell_type": "markdown",
   "metadata": {
    "deletable": true,
    "editable": true
   },
   "source": [
    "**Set of white dresser socks:**"
   ]
  },
  {
   "cell_type": "code",
   "execution_count": 7,
   "metadata": {
    "collapsed": false,
    "deletable": true,
    "editable": true
   },
   "outputs": [
    {
     "data": {
      "text/html": [
       "<strong id=\"Wsocks\">Wsocks:</strong> <a href=\"..\\..\\packages\\proveit\\logic\\boolean\\__pv_it\\e48a95210d95439d3e93cdcdbe9a08138afdaf900\\expr.ipynb\" target=\"_blank\"><img src=\"..\\..\\packages\\proveit\\logic\\boolean\\__pv_it\\e48a95210d95439d3e93cdcdbe9a08138afdaf900\\expr.png\" style=\"display:inline;vertical-align:middle;\" /></a><br>"
      ],
      "text/plain": [
       "Wsocks: W"
      ]
     },
     "execution_count": 7,
     "metadata": {},
     "output_type": "execute_result"
    }
   ],
   "source": [
    "Wsocks = Literal(stringFormat = 'W', latexFormat = r'{\\cal W}')"
   ]
  },
  {
   "cell_type": "markdown",
   "metadata": {
    "deletable": true,
    "editable": true
   },
   "source": [
    "**Set of black dresser socks:**"
   ]
  },
  {
   "cell_type": "code",
   "execution_count": 8,
   "metadata": {
    "collapsed": false,
    "deletable": true,
    "editable": true
   },
   "outputs": [
    {
     "data": {
      "text/html": [
       "<strong id=\"Bsocks\">Bsocks:</strong> <a href=\"..\\..\\packages\\proveit\\logic\\boolean\\__pv_it\\d26f04f4a1c2025317e78132f3490197fb58b96f0\\expr.ipynb\" target=\"_blank\"><img src=\"..\\..\\packages\\proveit\\logic\\boolean\\__pv_it\\d26f04f4a1c2025317e78132f3490197fb58b96f0\\expr.png\" style=\"display:inline;vertical-align:middle;\" /></a><br>"
      ],
      "text/plain": [
       "Bsocks: B"
      ]
     },
     "execution_count": 8,
     "metadata": {},
     "output_type": "execute_result"
    }
   ],
   "source": [
    "Bsocks = Literal(stringFormat = 'B', latexFormat = r'{\\cal B}')"
   ]
  },
  {
   "cell_type": "markdown",
   "metadata": {
    "deletable": true,
    "editable": true
   },
   "source": [
    "**Set of chosen socks:**"
   ]
  },
  {
   "cell_type": "code",
   "execution_count": 9,
   "metadata": {
    "collapsed": false,
    "deletable": true,
    "editable": true
   },
   "outputs": [
    {
     "data": {
      "text/html": [
       "<strong id=\"cSocks\">cSocks:</strong> <a href=\"..\\..\\packages\\proveit\\logic\\boolean\\__pv_it\\ea4e8aa87db3fcbb156867812bfd42edd9ee21980\\expr.ipynb\" target=\"_blank\"><img src=\"..\\..\\packages\\proveit\\logic\\boolean\\__pv_it\\ea4e8aa87db3fcbb156867812bfd42edd9ee21980\\expr.png\" style=\"display:inline;vertical-align:middle;\" /></a><br>"
      ],
      "text/plain": [
       "cSocks: c"
      ]
     },
     "execution_count": 9,
     "metadata": {},
     "output_type": "execute_result"
    }
   ],
   "source": [
    "cSocks = Literal(stringFormat = 'c')"
   ]
  },
  {
   "cell_type": "markdown",
   "metadata": {
    "deletable": true,
    "editable": true
   },
   "source": [
    "**Set of chosen white socks:**"
   ]
  },
  {
   "cell_type": "code",
   "execution_count": 10,
   "metadata": {
    "collapsed": false,
    "deletable": true,
    "editable": true
   },
   "outputs": [
    {
     "data": {
      "text/html": [
       "<strong id=\"wSocks\">wSocks:</strong> <a href=\"..\\..\\packages\\proveit\\logic\\boolean\\__pv_it\\4b07afaa5d63bc05bed370f1f9cefc6fea7b46da0\\expr.ipynb\" target=\"_blank\"><img src=\"..\\..\\packages\\proveit\\logic\\boolean\\__pv_it\\4b07afaa5d63bc05bed370f1f9cefc6fea7b46da0\\expr.png\" style=\"display:inline;vertical-align:middle;\" /></a><br>"
      ],
      "text/plain": [
       "wSocks: w"
      ]
     },
     "execution_count": 10,
     "metadata": {},
     "output_type": "execute_result"
    }
   ],
   "source": [
    "wSocks = Literal(stringFormat = 'w')"
   ]
  },
  {
   "cell_type": "markdown",
   "metadata": {
    "deletable": true,
    "editable": true
   },
   "source": [
    "**Set of chosen black socks:**"
   ]
  },
  {
   "cell_type": "code",
   "execution_count": 11,
   "metadata": {
    "collapsed": false,
    "deletable": true,
    "editable": true
   },
   "outputs": [
    {
     "data": {
      "text/html": [
       "<strong id=\"bSocks\">bSocks:</strong> <a href=\"..\\..\\packages\\proveit\\logic\\boolean\\__pv_it\\44bf3490fde3cc75b1dc41cd43811120f68738580\\expr.ipynb\" target=\"_blank\"><img src=\"..\\..\\packages\\proveit\\logic\\boolean\\__pv_it\\44bf3490fde3cc75b1dc41cd43811120f68738580\\expr.png\" style=\"display:inline;vertical-align:middle;\" /></a><br>"
      ],
      "text/plain": [
       "bSocks: b"
      ]
     },
     "execution_count": 11,
     "metadata": {},
     "output_type": "execute_result"
    }
   ],
   "source": [
    "bSocks = Literal(stringFormat = 'b')"
   ]
  },
  {
   "cell_type": "markdown",
   "metadata": {
    "deletable": true,
    "editable": true
   },
   "source": [
    "**Number of chosen socks:**"
   ]
  },
  {
   "cell_type": "code",
   "execution_count": 12,
   "metadata": {
    "collapsed": false,
    "deletable": true,
    "editable": true
   },
   "outputs": [
    {
     "data": {
      "text/html": [
       "<strong id=\"N\">N:</strong> <a href=\"..\\..\\packages\\proveit\\logic\\boolean\\__pv_it\\cc521d174c442600836815268cce01c005bf0e200\\expr.ipynb\" target=\"_blank\"><img src=\"..\\..\\packages\\proveit\\logic\\boolean\\__pv_it\\cc521d174c442600836815268cce01c005bf0e200\\expr.png\" style=\"display:inline;vertical-align:middle;\" /></a><br>"
      ],
      "text/plain": [
       "N: N"
      ]
     },
     "execution_count": 12,
     "metadata": {},
     "output_type": "execute_result"
    }
   ],
   "source": [
    "N = Literal(stringFormat = 'N')"
   ]
  },
  {
   "cell_type": "markdown",
   "metadata": {
    "deletable": true,
    "editable": true
   },
   "source": [
    "**Expression for a generic matching subset:**"
   ]
  },
  {
   "cell_type": "code",
   "execution_count": 13,
   "metadata": {
    "collapsed": false,
    "deletable": true,
    "editable": true
   },
   "outputs": [
    {
     "data": {
      "text/html": [
       "<strong id=\"anyMatches\">anyMatches:</strong> <a href=\"__pv_it\\f82bfeb9f9b8c6521557be516d12c6379eeae6210\\expr.ipynb\" target=\"_blank\"><img src=\"__pv_it\\f82bfeb9f9b8c6521557be516d12c6379eeae6210\\expr.png\" style=\"display:inline;vertical-align:middle;\" /></a><br>"
      ],
      "text/plain": [
       "anyMatches: MatchingSubset(S,color)"
      ]
     },
     "execution_count": 13,
     "metadata": {},
     "output_type": "execute_result"
    }
   ],
   "source": [
    "anyMatches = MatchingSubset(S, color)"
   ]
  },
  {
   "cell_type": "markdown",
   "metadata": {
    "deletable": true,
    "editable": true
   },
   "source": [
    "**Matches of any color in the chosen socks:**"
   ]
  },
  {
   "cell_type": "code",
   "execution_count": 14,
   "metadata": {
    "collapsed": false,
    "deletable": true,
    "editable": true
   },
   "outputs": [
    {
     "data": {
      "text/html": [
       "<strong id=\"chosenMatches\">chosenMatches:</strong> <a href=\"__pv_it\\31d7edc4ac7f527e5e0e2dd2a132def79a5b1f8e0\\expr.ipynb\" target=\"_blank\"><img src=\"__pv_it\\31d7edc4ac7f527e5e0e2dd2a132def79a5b1f8e0\\expr.png\" style=\"display:inline;vertical-align:middle;\" /></a><br>"
      ],
      "text/plain": [
       "chosenMatches: MatchingSubset(c,color)"
      ]
     },
     "execution_count": 14,
     "metadata": {},
     "output_type": "execute_result"
    }
   ],
   "source": [
    "chosenMatches = MatchingSubset(cSocks, color)"
   ]
  },
  {
   "cell_type": "markdown",
   "metadata": {
    "deletable": true,
    "editable": true
   },
   "source": [
    "**$a$ in the chosen matches:**"
   ]
  },
  {
   "cell_type": "code",
   "execution_count": 15,
   "metadata": {
    "collapsed": false,
    "deletable": true,
    "editable": true
   },
   "outputs": [
    {
     "data": {
      "text/html": [
       "<strong id=\"aInChosenMatches\">aInChosenMatches:</strong> <a href=\"__pv_it\\6cc181ba0d735c8e5b996da0e476f17f6dd7c3770\\expr.ipynb\" target=\"_blank\"><img src=\"__pv_it\\6cc181ba0d735c8e5b996da0e476f17f6dd7c3770\\expr.png\" style=\"display:inline;vertical-align:middle;\" /></a><br>"
      ],
      "text/plain": [
       "aInChosenMatches: a in MatchingSubset(c,color)"
      ]
     },
     "execution_count": 15,
     "metadata": {},
     "output_type": "execute_result"
    }
   ],
   "source": [
    "aInChosenMatches = InSet(a, chosenMatches)"
   ]
  },
  {
   "cell_type": "markdown",
   "metadata": {
    "deletable": true,
    "editable": true
   },
   "source": [
    "**$b$ in the chosen matches:**"
   ]
  },
  {
   "cell_type": "code",
   "execution_count": 16,
   "metadata": {
    "collapsed": false,
    "deletable": true,
    "editable": true
   },
   "outputs": [
    {
     "data": {
      "text/html": [
       "<strong id=\"bInChosenMatches\">bInChosenMatches:</strong> <a href=\"__pv_it\\73b2f354ec03c45facc7a7eac0479d467cbc20360\\expr.ipynb\" target=\"_blank\"><img src=\"__pv_it\\73b2f354ec03c45facc7a7eac0479d467cbc20360\\expr.png\" style=\"display:inline;vertical-align:middle;\" /></a><br>"
      ],
      "text/plain": [
       "bInChosenMatches: b in MatchingSubset(c,color)"
      ]
     },
     "execution_count": 16,
     "metadata": {},
     "output_type": "execute_result"
    }
   ],
   "source": [
    "bInChosenMatches = InSet(b, chosenMatches)"
   ]
  },
  {
   "cell_type": "markdown",
   "metadata": {
    "deletable": true,
    "editable": true
   },
   "source": [
    "**Are $a$ and $b$ a matching pair of socks?**"
   ]
  },
  {
   "cell_type": "code",
   "execution_count": 17,
   "metadata": {
    "collapsed": false,
    "deletable": true,
    "editable": true,
    "scrolled": true
   },
   "outputs": [
    {
     "data": {
      "text/html": [
       "<strong id=\"abIsMatch\">abIsMatch:</strong> <a href=\"__pv_it\\022c8a855e5c870d930537c594ad5d28481a331a0\\expr.ipynb\" target=\"_blank\"><img src=\"__pv_it\\022c8a855e5c870d930537c594ad5d28481a331a0\\expr.png\" style=\"display:inline;vertical-align:middle;\" /></a><br>"
      ],
      "text/plain": [
       "abIsMatch: IsMatch(a,b)"
      ]
     },
     "execution_count": 17,
     "metadata": {},
     "output_type": "execute_result"
    }
   ],
   "source": [
    "abIsMatch = IsMatch(a, b)"
   ]
  },
  {
   "cell_type": "markdown",
   "metadata": {
    "deletable": true,
    "editable": true
   },
   "source": [
    "**Are $a$ and $b$ distinct?**"
   ]
  },
  {
   "cell_type": "code",
   "execution_count": 18,
   "metadata": {
    "collapsed": false,
    "deletable": true,
    "editable": true,
    "scrolled": true
   },
   "outputs": [
    {
     "data": {
      "text/html": [
       "<strong id=\"abDistinct\">abDistinct:</strong> <a href=\"__pv_it\\34924a980be6fc8b9b8579ab4557d81b7912d4050\\expr.ipynb\" target=\"_blank\"><img src=\"__pv_it\\34924a980be6fc8b9b8579ab4557d81b7912d4050\\expr.png\" style=\"display:inline;vertical-align:middle;\" /></a><br>"
      ],
      "text/plain": [
       "abDistinct: a != b"
      ]
     },
     "execution_count": 18,
     "metadata": {},
     "output_type": "execute_result"
    }
   ],
   "source": [
    "abDistinct = NotEquals(a, b)"
   ]
  },
  {
   "cell_type": "markdown",
   "metadata": {
    "deletable": true,
    "editable": true
   },
   "source": [
    "**Are $a$ and $b$ the same color?**"
   ]
  },
  {
   "cell_type": "code",
   "execution_count": 19,
   "metadata": {
    "collapsed": false,
    "deletable": true,
    "editable": true,
    "scrolled": true
   },
   "outputs": [
    {
     "data": {
      "text/html": [
       "<strong id=\"abSameColor\">abSameColor:</strong> <a href=\"__pv_it\\8cd02fc3bdbde0df3d65273936add678edc51e570\\expr.ipynb\" target=\"_blank\"><img src=\"__pv_it\\8cd02fc3bdbde0df3d65273936add678edc51e570\\expr.png\" style=\"display:inline;vertical-align:middle;\" /></a><br>"
      ],
      "text/plain": [
       "abSameColor: Color(a) = Color(b)"
      ]
     },
     "execution_count": 19,
     "metadata": {},
     "output_type": "execute_result"
    }
   ],
   "source": [
    "abSameColor = Equals(Color(a), Color(b))"
   ]
  },
  {
   "cell_type": "markdown",
   "metadata": {
    "deletable": true,
    "editable": true
   },
   "source": [
    "**Were there at least 3 socks chosen?**"
   ]
  },
  {
   "cell_type": "code",
   "execution_count": 20,
   "metadata": {
    "collapsed": false,
    "deletable": true,
    "editable": true
   },
   "outputs": [
    {
     "data": {
      "text/html": [
       "<strong id=\"Ngeq3\">Ngeq3:</strong> <a href=\"__pv_it\\ce70155897bf01128520772f4f666457bdc725650\\expr.ipynb\" target=\"_blank\"><img src=\"__pv_it\\ce70155897bf01128520772f4f666457bdc725650\\expr.png\" style=\"display:inline;vertical-align:middle;\" /></a><br>"
      ],
      "text/plain": [
       "Ngeq3: N >= 3"
      ]
     },
     "execution_count": 20,
     "metadata": {},
     "output_type": "execute_result"
    }
   ],
   "source": [
    "Ngeq3 = GreaterEq(N, num(3))"
   ]
  },
  {
   "cell_type": "markdown",
   "metadata": {
    "deletable": true,
    "editable": true
   },
   "source": [
    "**Let the cardinality of $c$ (the `Variable`, not the `Literal`) be $N$:**"
   ]
  },
  {
   "cell_type": "code",
   "execution_count": 21,
   "metadata": {
    "collapsed": false,
    "deletable": true,
    "editable": true
   },
   "outputs": [
    {
     "data": {
      "text/html": [
       "<strong id=\"cSizeN\">cSizeN:</strong> <a href=\"__pv_it\\f91e50da43591161073fb7952539b544c1bc698d0\\expr.ipynb\" target=\"_blank\"><img src=\"__pv_it\\f91e50da43591161073fb7952539b544c1bc698d0\\expr.png\" style=\"display:inline;vertical-align:middle;\" /></a><br>"
      ],
      "text/plain": [
       "cSizeN: |c| = N"
      ]
     },
     "execution_count": 21,
     "metadata": {},
     "output_type": "execute_result"
    }
   ],
   "source": [
    "cSizeN = Equals(Card(c), N)"
   ]
  },
  {
   "cell_type": "markdown",
   "metadata": {
    "deletable": true,
    "editable": true
   },
   "source": [
    "**Were there at least 2 white socks chosen?**"
   ]
  },
  {
   "cell_type": "code",
   "execution_count": 22,
   "metadata": {
    "collapsed": false,
    "deletable": true,
    "editable": true
   },
   "outputs": [
    {
     "data": {
      "text/html": [
       "<strong id=\"chose2orMoreWhite\">chose2orMoreWhite:</strong> <a href=\"__pv_it\\cc47b6a2697ce8c17a7770877b82f56e264f05d70\\expr.ipynb\" target=\"_blank\"><img src=\"__pv_it\\cc47b6a2697ce8c17a7770877b82f56e264f05d70\\expr.png\" style=\"display:inline;vertical-align:middle;\" /></a><br>"
      ],
      "text/plain": [
       "chose2orMoreWhite: |w| >= 2"
      ]
     },
     "execution_count": 22,
     "metadata": {},
     "output_type": "execute_result"
    }
   ],
   "source": [
    "chose2orMoreWhite = GreaterEq(Card(wSocks), num(2))"
   ]
  },
  {
   "cell_type": "markdown",
   "metadata": {
    "deletable": true,
    "editable": true
   },
   "source": [
    "**Were there at least 2 black socks chosen?**"
   ]
  },
  {
   "cell_type": "code",
   "execution_count": 23,
   "metadata": {
    "collapsed": false,
    "deletable": true,
    "editable": true
   },
   "outputs": [
    {
     "data": {
      "text/html": [
       "<strong id=\"chose2orMoreBlack\">chose2orMoreBlack:</strong> <a href=\"__pv_it\\2dceddbdd01c285a8f488403be3475011abbc3aa0\\expr.ipynb\" target=\"_blank\"><img src=\"__pv_it\\2dceddbdd01c285a8f488403be3475011abbc3aa0\\expr.png\" style=\"display:inline;vertical-align:middle;\" /></a><br>"
      ],
      "text/plain": [
       "chose2orMoreBlack: |b| >= 2"
      ]
     },
     "execution_count": 23,
     "metadata": {},
     "output_type": "execute_result"
    }
   ],
   "source": [
    "chose2orMoreBlack = GreaterEq(Card(bSocks), num(2))"
   ]
  },
  {
   "cell_type": "markdown",
   "metadata": {
    "deletable": true,
    "editable": true
   },
   "source": [
    "**Were there at least 2 white or 2 black socks chosen?**"
   ]
  },
  {
   "cell_type": "code",
   "execution_count": 24,
   "metadata": {
    "collapsed": false,
    "deletable": true,
    "editable": true
   },
   "outputs": [
    {
     "data": {
      "text/html": [
       "<strong id=\"chose2orMoreOfEither\">chose2orMoreOfEither:</strong> <a href=\"__pv_it\\2be1cb5c66bf63b7270a8cea86491e4c02a7c2910\\expr.ipynb\" target=\"_blank\"><img src=\"__pv_it\\2be1cb5c66bf63b7270a8cea86491e4c02a7c2910\\expr.png\" style=\"display:inline;vertical-align:middle;\" /></a><br>"
      ],
      "text/plain": [
       "chose2orMoreOfEither: (|w| >= 2) or (|b| >= 2)"
      ]
     },
     "execution_count": 24,
     "metadata": {},
     "output_type": "execute_result"
    }
   ],
   "source": [
    "chose2orMoreOfEither = Or(chose2orMoreWhite, chose2orMoreBlack)"
   ]
  },
  {
   "cell_type": "code",
   "execution_count": 25,
   "metadata": {
    "collapsed": false,
    "deletable": true,
    "editable": true,
    "scrolled": true
   },
   "outputs": [
    {
     "name": "stdout",
     "output_type": "stream",
     "text": [
      "Common expressions may be imported from autogenerated _common_.py\n"
     ]
    }
   ],
   "source": [
    "%end common"
   ]
  },
  {
   "cell_type": "code",
   "execution_count": 26,
   "metadata": {
    "collapsed": true,
    "deletable": true,
    "editable": true
   },
   "outputs": [],
   "source": []
  }
 ],
 "metadata": {
  "kernelspec": {
   "display_name": "Python 3",
   "language": "python",
   "name": "python3"
  },
  "language_info": {
   "codemirror_mode": {
    "name": "ipython",
    "version": 3
   },
   "file_extension": ".py",
   "mimetype": "text/x-python",
   "name": "python",
   "nbconvert_exporter": "python",
   "pygments_lexer": "ipython3"
  }
 },
 "nbformat": 4,
 "nbformat_minor": 0
}
