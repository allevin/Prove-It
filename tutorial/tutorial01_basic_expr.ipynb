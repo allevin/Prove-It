{
 "cells": [
  {
   "cell_type": "markdown",
   "metadata": {},
   "source": [
    "Chapter 1. Basic Expressions\n",
    "=======\n",
    "\n",
    "Expressions in **Prove-It** are fundamental and versatile.  In order to prove some statement to be true, you must be able to express the statement that you want to prove, and express each axiom and each theorem that is used to construct the proof as well as intermediate statements along the way.  \n",
    "**Expressions** form **known truths** that are used in the derivation steps of a **proof** and will be discussed later.\n",
    "An expression is a tree-like data structure (technically a directed acyclic graph, DAG, since there may be multiple instances of the same sub-expression).  As a Python object, its base class is `proveit._core_.expression.expr.Expression` (also aliased as `proveit.Expression` via \"`from ... import ...`\" Python statements within `__init__.py` files):"
   ]
  },
  {
   "cell_type": "code",
   "execution_count": 1,
   "metadata": {},
   "outputs": [
    {
     "data": {
      "text/plain": [
       "proveit._core_.expression.expr.Expression"
      ]
     },
     "execution_count": 1,
     "metadata": {},
     "output_type": "execute_result"
    }
   ],
   "source": [
    "from proveit import Expression\n",
    "%begin basic_expressions\n",
    "Expression"
   ]
  },
  {
   "cell_type": "markdown",
   "metadata": {},
   "source": [
    "An `Expression` object must be one of the \"core\" `Expression` classes listed below that is each derived from `proveit._core_.expression.expr.Expression`.  The list is reproduced from our <a class=\"ProveItLink\" href=\"../packages/brief_guide.ipynb\">brief guide</a> but more details and some code examples are provided below in this tutorial.  The \"basic\" types of expressions that are covered in this chapter are:\n",
    "* <a href=\"#Variable\">`Variable`</a>: A label that is interchangeable (as long as it is kept distinct from other labels) with no intrinsic meaning.  It is usually represented by a single letter but can have any representation.\n",
    "* <a href=\"#Literal\">`Literal`</a>: A label that is not interchangeable and has an intrinsic meaning.  Specific operators ($\\lnot, \\land, +, \\times$, etc.) and specific irreducibe values ($\\top, \\bot, 0, 5$, etc.) are all `Literal`s.  Furthermore, a problem-story `Variable` in a particular **context**, representing some unknown but particular value, should also be a `Literal` (e.g., \"Ann has $a$ apples...\").\n",
    "* <a href=\"#Operation\">`Operation`</a>: The application of *operator(s)* on *operand(s)*.  For example, $0 + 5 + 8$ and $1 < a \\leq b < 3$ are examples of *operation* expressions.  The **Prove-It** library defines many *types* derived from the *operation* type (e.g., for each specific operation), but the <a href=\"#proof_deriv\">derivation rules</a> only need to know that these are *operations*.\n",
    "* <a href=\"#Lambda\">`Lambda`</a>: A mapping defined by *parameter* `Variable`s transforming to some *body* `Expression` but only when the *parameter(s)* meet certain *condition(s)*.  For example, $(x, y, z) \\mapsto x+y/z~|~x \\in \\mathbb{R}, y \\in \\mathbb{R}, z \\in \\mathbb{R}, z \\neq 0$ is a conditional **lambda** that converts three real numbers $x, y, z$ to $x + y/z$ as long as $z$ is not zero.  Note that a `Lambda` introduces `Variables` into a new scope via the *parameters*.  These *parameter* `Variable`s are said to be *bound* in this new scope; occurrences outside this scope are not deemed to be the same thing. There is a special category of `Operation` types called `OperationOverInstances` that are essentially functionals acting on a `Lambda` operand.  $\\forall$, $\\exists$, $\\sum$, and $\\prod$ are examples of `OperationOverInstances`.  For example, $\\forall_{x~|~Q(x)} P(x)$ is an expression that translates to \"$P(x)$ is true for all values of $x$ for which $Q(x)$ is also true\".  Internally, this is represented as an $\\forall$ operator acting on the conditional `Lambda` map $x \\mapsto P(x)~|~Q(x)$.\n",
    "* <a href=\"#ExprList\">`ExprList`</a>: A list of `Expression`s that is used, for example, when there are multiple *operators* or *operands* of an `Operation` or multiple *parameters* of a `Lambda`.\n",
    "* <a href=\"#NamedExprs\">`NamedExprs`</a>: A mapping from keyword strings to `Expression`s.  This can be used to prevent ambiguity of an expression's internal representation.\n",
    "\n",
    "Advanced expressions covered in a <a href=\"tutorial10_advanced_expr.ipynb\">later chapter</a>:\n",
    "* <a href=\"tutorial10_advanced_expr.ipynb#ExprTensor\">`ExprTensor`</a>: A multi-dimensional (e.g., two-dimensional) array of `Expression`s. This can be used, for example, to represent a quantum circuit which is a two-dimensional graphical representation of a sequence of quantum operations.  A 2-D representation of a matrix is a more basic example.  More work is required to properly implement and test the *ExprTensor* class.\n",
    "* <a href=\"tutorial10_advanced_expr.ipynb#Indexed\">`Indexed`</a>: A particular indexed element of a `Variable` where the `Variable` is intended to serve as a placeholder for an `ExprList` or `ExprTensor`.  It has a *base* which determines the indexing offset, typically $0$ or $1$.  For example, $x_5$ represents the fifth or sixth element of $x$ in *base* $1$ or $0$ respectively.  The *base* is typically not displayed and must be inferred by the context, though it is explicitly revealed in the <a href=\"#expr_info\">expression information page</a>.  An `Indexed` expression is typically contained within an `Iter` (described next).\n",
    "* <a href=\"tutorial10_advanced_expr.ipynb#Iter\">`Iter`</a>: Represents an iteration of a *parameter* going from a *start* to an *end* in successive unit increments ($+1$).  For example, $x_1 +~\\ldots~+ x_n$ contains an `Iter` of `Indexed` `Variable`.  If we take $n$ to be $3$, this would expand to $x_1 + x_2 + x_3$.  An `Iter` has a *lambda map*, *start index(indices)*, and *end index(indices)*.  In our example, the `Iter` $x_1,~\\ldots,x_n$, is the *operand* of an `proveit.number.addition.Add` `Operation`.  The *lambda map*, *start index* and *end index* of the *iteration* are $i \\mapsto x_i$, $1$, and $n$, respectively.\n"
   ]
  },
  {
   "cell_type": "markdown",
   "metadata": {},
   "source": [
    "Developers and users may derive new classes from core `Expression` classes (`Literal` and `Operation` classes in * <a href=\"tutorial10_advanced_expr.ipynb#ExprTensor\">`ExprTensor`</a>: A multi-dimensional (e.g., two-dimensional) array of `Expression`s. This can be used, for example, to represent a quantum circuit which is a two-dimensional graphical representation of a sequence of quantum operations.  A 2-D representation of a matrix is a more basic example.  More work is required to properly implement and test the *ExprTensor* class.particular) to make their own `Expression` classes that have special formatting rules for displaying the **expression** and methods for manipulating and utilizing the expression (i.e., applying theorems or axioms as will be discussed in later tutorial chapters).  Ideally, the formatted should be in direct correspondence with the structure of the `Expression` as a true reflection of the internal representation, but there is no enforcement mechanism to ensure that this is the case.  Users are advised to inspect the fully explicit expression DAGs of important axioms and theorems (or rely on crowdsource checking).  Conveniently, clicking on any **expression** rendered as LaTeX will link to a notebook that, when executed, will reveal this internal structure.  (Alternatively, the `exprInfo()` method may be called).\n",
    "\n",
    "The remainder of this tutorial chapter will show examples and discuss details of the different core `Expression` classes.\n",
    "\n",
    "As we discuss these different core types we will discuss the instances when **expressions** are considered to be the same or different.  This is important because it corresponds to whether or not an **expression** is the same as one that has been proven to be a true statement (**known truth**).\n",
    "\n",
    "We will also discuss *expression substitution/relabeling* as we go through the different cases.  The following are related but distinct manipulations in **Prove-It**:\n",
    "* *Expression substutition*: creating a new **expression** from an existing **expression** by swapping one or more sub-expression(s) for other sub-expression(s) by using the `substituted` method.  This creates a new `Expression` but has nothing to do, intrinsically, with proving statements.\n",
    "* *Expression relabeling*: a restricted version of *expression substitution* in which any `Variable` may be relabeled only with another `Variable` by using the `relabeled` method.\n",
    "* *Specialization* derivation step: deriving a statement of the form $P(y)$ from a statement of the form $\\forall_x P(x)$.  Details of this will be discussed in a later tutorial chapter, but this manipulation uses *expression substitution* in generating $P(y)$.  However, specific rules and limitations apply to *specialization* that may not apply to *expression substitution* to ensure that the derivation is sound.  *Specialization* specifically involves statements (**known truths**) with the $\\forall$ quantifier (Forall).\n",
    "* *Relabeling* derivation step: deriving a statement (known truth) from another statement which differs only in its `Variable`s.  For example, from $\\forall_x P(x)$, we could use *relabeling* to derive $\\forall_y P(y)$.\n",
    "* *Equality substitution*: using the `substitution` axiom of `proveit.logic.equality` to prove that $f(x) = f(y)$ given $x = y$.  This uses *specialization* of the `substitution` axiom which state $\\forall_{f, x, y~|~x=y}~(f(x) = f(y))$.  This specifically involves statements (**known truths**) with the `proveit.logic.equality.equals._operator_` **Literal** (the `=` sign). This will be discussed in a later tutorial chapter.\n",
    "\n",
    "The focus here will be *expression substitution/relabeling* with some mention of the additional restrictions applicable to the *specialization/relabeling* derivation steps that will be discussed in detail in later tutorial chapters.  It is important to understand the distinction of these types of manipulations."
   ]
  },
  {
   "cell_type": "markdown",
   "metadata": {},
   "source": [
    "<a name=\"#Label\"></a>Labels (Variables and Literals)\n",
    "================================"
   ]
  },
  {
   "cell_type": "code",
   "execution_count": 2,
   "metadata": {
    "scrolled": true
   },
   "outputs": [],
   "source": [
    "from proveit import Label"
   ]
  },
  {
   "cell_type": "markdown",
   "metadata": {},
   "source": [
    "The `Variable` and `Literal` classes both derive from `Label`.  A `Label` is created with a string and LaTeX format to determine how it is displayed.  In a Jupyter notebook, the LaTeX is rendered and presented in the output:"
   ]
  },
  {
   "cell_type": "code",
   "execution_count": 3,
   "metadata": {},
   "outputs": [
    {
     "data": {
      "text/html": [
       "<strong id=\"tri\">tri:</strong> <a class=\"ProveItLink\" href=\"__pv_it/b8bc794ff7aade9592ba459dc1fb9c2587bb1feb0/expr.ipynb\"><img src=\"__pv_it/b8bc794ff7aade9592ba459dc1fb9c2587bb1feb0/expr.png\" style=\"display:inline;vertical-align:middle;\" /></a><br>"
      ],
      "text/plain": [
       "tri: triangle"
      ]
     },
     "execution_count": 3,
     "metadata": {},
     "output_type": "execute_result"
    }
   ],
   "source": [
    "tri = Label(stringFormat='triangle', latexFormat=r'\\triangle')"
   ]
  },
  {
   "cell_type": "markdown",
   "metadata": {},
   "source": [
    "After importing anything from `proveit` in a Jupyter notebook, whenever assignments are made at the end of an input cell the output shows the name of the assigned Python variable (not to be confused with a **Prove-It** *Variable*) followed by ':' and its rendered value.  In the above input, we have assigned `tri` to a `Label` object we have created which renders as a triangle shape.  For convenience, this Python variable name and shape appear in the output without any additional code.  The string format is presented when the object is converted to a string and is a useful alternate representation (used, for example, in error messages that are displayed as strings)."
   ]
  },
  {
   "cell_type": "code",
   "execution_count": 4,
   "metadata": {},
   "outputs": [
    {
     "data": {
      "text/plain": [
       "'triangle'"
      ]
     },
     "execution_count": 4,
     "metadata": {},
     "output_type": "execute_result"
    }
   ],
   "source": [
    "str(tri)"
   ]
  },
  {
   "cell_type": "markdown",
   "metadata": {},
   "source": [
    "The breakdown of an **expression** into its DAG structure is displayed by calling `exprInfo()`.  Clicking on the **expression** is also a way to view this information, linking to a page that shows a canonical way to build the **expression** and calling `exprInfo()` on that built **expression**.  Here we see that the `tri` is a `Label` with no sub-expressions."
   ]
  },
  {
   "cell_type": "code",
   "execution_count": 5,
   "metadata": {},
   "outputs": [
    {
     "data": {
      "text/html": [
       "<table><tr><th>&nbsp;</th><th>core type</th><th>sub-expressions</th><th>expression</th></tr>\n",
       "<tr><td>0</td><td>Label</td><td></td><td><a class=\"ProveItLink\" href=\"__pv_it/b8bc794ff7aade9592ba459dc1fb9c2587bb1feb0/expr.ipynb\"><img src=\"__pv_it/b8bc794ff7aade9592ba459dc1fb9c2587bb1feb0/expr.png\" style=\"display:inline;vertical-align:middle;\" /></a></td></tr>\n",
       "</table>\n"
      ],
      "text/plain": [
       "0. triangle\n",
       "   core type: Label\n",
       "   sub-expressions: "
      ]
     },
     "execution_count": 5,
     "metadata": {},
     "output_type": "execute_result"
    }
   ],
   "source": [
    "tri.exprInfo() # the expressions and sub-expressions are numbered with the top level being zero."
   ]
  },
  {
   "cell_type": "markdown",
   "metadata": {},
   "source": [
    "`Label` was not one of the core **expression** types listed above because it is not intended to be used except as the base class of `Variable` and `Literal`.  Notwithstanding, `Label` is displayed as the core type.\n",
    "Two Label's are regarded to be the same expression iff both formats, and the class, are the same:"
   ]
  },
  {
   "cell_type": "code",
   "execution_count": 6,
   "metadata": {},
   "outputs": [],
   "source": [
    "assert tri == Label('triangle', r'\\triangle') # equal when both formats are the same\n",
    "assert tri != Label('tri', r'\\triangle') # not equal when either is different"
   ]
  },
  {
   "cell_type": "markdown",
   "metadata": {},
   "source": [
    "Let's make another label to test out substituted and relabeled methods:"
   ]
  },
  {
   "cell_type": "code",
   "execution_count": 7,
   "metadata": {},
   "outputs": [
    {
     "data": {
      "text/html": [
       "<strong id=\"sq\">sq:</strong> <a class=\"ProveItLink\" href=\"__pv_it/8adaa68e2d53f0c6257301971714ca93abaf43930/expr.ipynb\"><img src=\"__pv_it/8adaa68e2d53f0c6257301971714ca93abaf43930/expr.png\" style=\"display:inline;vertical-align:middle;\" /></a><br>"
      ],
      "text/plain": [
       "sq: square"
      ]
     },
     "execution_count": 7,
     "metadata": {},
     "output_type": "execute_result"
    }
   ],
   "source": [
    "sq =  Label(stringFormat='square', latexFormat=r'\\Box')"
   ]
  },
  {
   "cell_type": "markdown",
   "metadata": {},
   "source": [
    "Using *expression substitution*, we can change one `Label` into another or any other `Expression`.  We'll see that *specialize* is more restrictive; only applicable to `Variable`s and not any `Label`, but for *expression substition* this is fine."
   ]
  },
  {
   "cell_type": "code",
   "execution_count": 8,
   "metadata": {},
   "outputs": [
    {
     "data": {
      "text/html": [
       "<a class=\"ProveItLink\" href=\"__pv_it/8adaa68e2d53f0c6257301971714ca93abaf43930/expr.ipynb\"><img src=\"__pv_it/8adaa68e2d53f0c6257301971714ca93abaf43930/expr.png\" style=\"display:inline;vertical-align:middle;\" /></a>"
      ],
      "text/plain": [
       "square"
      ]
     },
     "execution_count": 8,
     "metadata": {},
     "output_type": "execute_result"
    }
   ],
   "source": [
    "tri.substituted({tri:sq})"
   ]
  },
  {
   "cell_type": "markdown",
   "metadata": {},
   "source": [
    "<a href=\"#Variable\"></a>Variable\n",
    "===========\n",
    "A `Variable` is an interchangeable <a href=\"#Label\">Label</a> with no formal, contextual meaning."
   ]
  },
  {
   "cell_type": "code",
   "execution_count": 9,
   "metadata": {},
   "outputs": [
    {
     "data": {
      "text/html": [
       "<strong id=\"x\">x:</strong> <a class=\"ProveItLink\" href=\"__pv_it/530be409e3083890784cf1d7b28c9e67e90af9360/expr.ipynb\"><img src=\"__pv_it/530be409e3083890784cf1d7b28c9e67e90af9360/expr.png\" style=\"display:inline;vertical-align:middle;\" /></a><br>"
      ],
      "text/plain": [
       "x: x"
      ]
     },
     "execution_count": 9,
     "metadata": {},
     "output_type": "execute_result"
    }
   ],
   "source": [
    "from proveit import Variable\n",
    "x = Variable('x') # the string and latex formats are the same by default"
   ]
  },
  {
   "cell_type": "code",
   "execution_count": 10,
   "metadata": {},
   "outputs": [
    {
     "data": {
      "text/html": [
       "<strong id=\"omega\">omega:</strong> <a class=\"ProveItLink\" href=\"__pv_it/9d7c4e1c5ee4d34a7826567c9ff37cf313ab71e60/expr.ipynb\"><img src=\"__pv_it/9d7c4e1c5ee4d34a7826567c9ff37cf313ab71e60/expr.png\" style=\"display:inline;vertical-align:middle;\" /></a><br>"
      ],
      "text/plain": [
       "omega: omega"
      ]
     },
     "execution_count": 10,
     "metadata": {},
     "output_type": "execute_result"
    }
   ],
   "source": [
    "omega = Variable(stringFormat='omega', latexFormat=r'\\omega') # different string and latex format"
   ]
  },
  {
   "cell_type": "markdown",
   "metadata": {},
   "source": [
    "Convenient `Variable`s and other `Expression`s are accessible from `_common_.py` modules (generated from `_common_.ipynb` notebooks).  That is, `_common_.py` modules hold common expressions.  For example, from <a class=\"ProveItLink\" href=\"../packages/proveit/_common_.ipynb\">proveit.common</a> we can import the following."
   ]
  },
  {
   "cell_type": "code",
   "execution_count": 11,
   "metadata": {},
   "outputs": [
    {
     "data": {
      "text/html": [
       "<a class=\"ProveItLink\" href=\"__pv_it/e08431f5cebb9f04d3a14687a6117020e15c39f10/expr.ipynb\"><img src=\"__pv_it/e08431f5cebb9f04d3a14687a6117020e15c39f10/expr.png\" style=\"display:inline;vertical-align:middle;\" /></a>"
      ],
      "text/plain": [
       "(a , b , c , x , y , z , alpha)"
      ]
     },
     "execution_count": 11,
     "metadata": {},
     "output_type": "execute_result"
    }
   ],
   "source": [
    "from proveit._common_ import a, b, c, x, y, z, alpha\n",
    "from proveit import ExprList\n",
    "ExprList(a, b, c, x, y, z, alpha)"
   ]
  },
  {
   "cell_type": "markdown",
   "metadata": {},
   "source": [
    "We used an <a href=\"#ExprList\">ExprList</a> to conveniently render all of these `Variable`s as one `Expression`.  Expression information is similar to the `Label`, but with the different core type and class:"
   ]
  },
  {
   "cell_type": "code",
   "execution_count": 12,
   "metadata": {},
   "outputs": [
    {
     "data": {
      "text/html": [
       "<table><tr><th>&nbsp;</th><th>core type</th><th>sub-expressions</th><th>expression</th></tr>\n",
       "<tr><td>0</td><td>Variable</td><td></td><td><a class=\"ProveItLink\" href=\"../packages/proveit/__pv_it/965f7d5cdf9cb513de3a5460206eae877dc8125c0/expr.ipynb\"><img src=\"../packages/proveit/__pv_it/965f7d5cdf9cb513de3a5460206eae877dc8125c0/expr.png\" style=\"display:inline;vertical-align:middle;\" /></a></td></tr>\n",
       "</table>\n"
      ],
      "text/plain": [
       "0. alpha\n",
       "   core type: Variable\n",
       "   sub-expressions: "
      ]
     },
     "execution_count": 12,
     "metadata": {},
     "output_type": "execute_result"
    }
   ],
   "source": [
    "alpha.exprInfo()"
   ]
  },
  {
   "cell_type": "markdown",
   "metadata": {},
   "source": [
    "Just as we saw for the generic `Label` `Expression`s, we can use *expression substitution* to exchange one `Variable` for another or any other `Expression` or *expression relabeling* to exchange one `Variable` for another `Variable`.  Furthermore, we will see in a later tutorial chapter that `Variable`s have special properties with respect to *specialization* because they are defined as interchangeable labels."
   ]
  },
  {
   "cell_type": "code",
   "execution_count": 13,
   "metadata": {},
   "outputs": [
    {
     "data": {
      "text/html": [
       "<a class=\"ProveItLink\" href=\"__pv_it/8adaa68e2d53f0c6257301971714ca93abaf43930/expr.ipynb\"><img src=\"__pv_it/8adaa68e2d53f0c6257301971714ca93abaf43930/expr.png\" style=\"display:inline;vertical-align:middle;\" /></a>"
      ],
      "text/plain": [
       "square"
      ]
     },
     "execution_count": 13,
     "metadata": {},
     "output_type": "execute_result"
    }
   ],
   "source": [
    "alpha.substituted({alpha:sq}) # we can substitute a Variable for any other Expression"
   ]
  },
  {
   "cell_type": "code",
   "execution_count": 14,
   "metadata": {},
   "outputs": [
    {
     "data": {
      "text/html": [
       "<a class=\"ProveItLink\" href=\"__pv_it/9d7c4e1c5ee4d34a7826567c9ff37cf313ab71e60/expr.ipynb\"><img src=\"__pv_it/9d7c4e1c5ee4d34a7826567c9ff37cf313ab71e60/expr.png\" style=\"display:inline;vertical-align:middle;\" /></a>"
      ],
      "text/plain": [
       "omega"
      ]
     },
     "execution_count": 14,
     "metadata": {},
     "output_type": "execute_result"
    }
   ],
   "source": [
    "alpha.relabeled({alpha:omega}) # we can relabel a Variable to another Variable"
   ]
  },
  {
   "cell_type": "code",
   "execution_count": 15,
   "metadata": {},
   "outputs": [
    {
     "name": "stdout",
     "output_type": "stream",
     "text": [
      "EXPECTED ERROR: May only relabel Variable to Variable\n"
     ]
    }
   ],
   "source": [
    "from proveit import ImproperRelabeling\n",
    "try:\n",
    "    alpha.relabeled({alpha:sq}) # we can NOT relabel a Variable to a non-Variable\n",
    "    assert False, \"Expecting an ImproperRelabeling error; should not make it to this point\"\n",
    "except ImproperRelabeling as e:\n",
    "    print(\"EXPECTED ERROR:\", e)"
   ]
  },
  {
   "cell_type": "markdown",
   "metadata": {},
   "source": [
    "<a name=\"#Literal\"></a>Literal\n",
    "-------\n",
    "\n",
    "A `Literal` is another kind of <a href=\"#Label\">Label</a>.  In contrast to `Variable`s, `Literal`s have a formal, contextual meaning."
   ]
  },
  {
   "cell_type": "code",
   "execution_count": 16,
   "metadata": {},
   "outputs": [],
   "source": [
    "from proveit import Literal"
   ]
  },
  {
   "cell_type": "markdown",
   "metadata": {},
   "source": [
    "Below are different scenarios in which a `Literal` could appropriately be used."
   ]
  },
  {
   "cell_type": "markdown",
   "metadata": {},
   "source": [
    "### Specific operators"
   ]
  },
  {
   "cell_type": "code",
   "execution_count": 17,
   "metadata": {},
   "outputs": [
    {
     "data": {
      "text/html": [
       "<strong id=\"TIMES\">TIMES:</strong> <a class=\"ProveItLink\" href=\"__pv_it/7fa9fd20fee7806a99050bf24ffcbd2251e9b7fe0/expr.ipynb\"><img src=\"__pv_it/7fa9fd20fee7806a99050bf24ffcbd2251e9b7fe0/expr.png\" style=\"display:inline;vertical-align:middle;\" /></a><br>"
      ],
      "text/plain": [
       "TIMES: *"
      ]
     },
     "execution_count": 17,
     "metadata": {},
     "output_type": "execute_result"
    }
   ],
   "source": [
    "TIMES = Literal(stringFormat='*', latexFormat=r'\\times')"
   ]
  },
  {
   "cell_type": "code",
   "execution_count": 18,
   "metadata": {},
   "outputs": [
    {
     "data": {
      "text/html": [
       "<strong id=\"FACTORIAL\">FACTORIAL:</strong> <a class=\"ProveItLink\" href=\"__pv_it/d6af88116966bca28fcbee5fe103a74f1e8a81d50/expr.ipynb\"><img src=\"__pv_it/d6af88116966bca28fcbee5fe103a74f1e8a81d50/expr.png\" style=\"display:inline;vertical-align:middle;\" /></a><br>"
      ],
      "text/plain": [
       "FACTORIAL: !"
      ]
     },
     "execution_count": 18,
     "metadata": {},
     "output_type": "execute_result"
    }
   ],
   "source": [
    "FACTORIAL = Literal('!')"
   ]
  },
  {
   "cell_type": "code",
   "execution_count": 19,
   "metadata": {},
   "outputs": [
    {
     "data": {
      "text/html": [
       "<strong id=\"SUMMATION\">SUMMATION:</strong> <a class=\"ProveItLink\" href=\"__pv_it/5b704e102c6153cce716db994038e7433059b1730/expr.ipynb\"><img src=\"__pv_it/5b704e102c6153cce716db994038e7433059b1730/expr.png\" style=\"display:inline;vertical-align:middle;\" /></a><br>"
      ],
      "text/plain": [
       "SUMMATION: sum"
      ]
     },
     "execution_count": 19,
     "metadata": {},
     "output_type": "execute_result"
    }
   ],
   "source": [
    "SUMMATION = Literal('sum', r'\\sum')"
   ]
  },
  {
   "cell_type": "markdown",
   "metadata": {},
   "source": [
    "We will see in the <a href=\"#Operation\">Operation</a> section that the *operator* of an `Operation`-derived class should be stored as a Python class variable called `_operator_`.  We are using module-level Python variable names just for these examples."
   ]
  },
  {
   "cell_type": "markdown",
   "metadata": {},
   "source": [
    "### Constant values"
   ]
  },
  {
   "cell_type": "code",
   "execution_count": 20,
   "metadata": {},
   "outputs": [
    {
     "data": {
      "text/html": [
       "<strong id=\"FIVE\">FIVE:</strong> <a class=\"ProveItLink\" href=\"__pv_it/084027c5e7faf3e99fe505f569d22a93a32e5b730/expr.ipynb\"><img src=\"__pv_it/084027c5e7faf3e99fe505f569d22a93a32e5b730/expr.png\" style=\"display:inline;vertical-align:middle;\" /></a><br>"
      ],
      "text/plain": [
       "FIVE: 5"
      ]
     },
     "execution_count": 20,
     "metadata": {},
     "output_type": "execute_result"
    }
   ],
   "source": [
    "FIVE = Literal('5') # Literal constants are also ALL-CAPS"
   ]
  },
  {
   "cell_type": "code",
   "execution_count": 21,
   "metadata": {},
   "outputs": [
    {
     "data": {
      "text/html": [
       "<strong id=\"TRUE\">TRUE:</strong> <a class=\"ProveItLink\" href=\"__pv_it/567fef274ea4a346669c1cb3f9cc1731c13accd50/expr.ipynb\"><img src=\"__pv_it/567fef274ea4a346669c1cb3f9cc1731c13accd50/expr.png\" style=\"display:inline;vertical-align:middle;\" /></a><br>"
      ],
      "text/plain": [
       "TRUE: true"
      ]
     },
     "execution_count": 21,
     "metadata": {},
     "output_type": "execute_result"
    }
   ],
   "source": [
    "TRUE = Literal('true', r'\\top')"
   ]
  },
  {
   "cell_type": "code",
   "execution_count": 22,
   "metadata": {},
   "outputs": [
    {
     "data": {
      "text/html": [
       "<strong id=\"FALSE\">FALSE:</strong> <a class=\"ProveItLink\" href=\"__pv_it/ad3fe9d0b017afe72545320c02b720fcc151755f0/expr.ipynb\"><img src=\"__pv_it/ad3fe9d0b017afe72545320c02b720fcc151755f0/expr.png\" style=\"display:inline;vertical-align:middle;\" /></a><br>"
      ],
      "text/plain": [
       "FALSE: false"
      ]
     },
     "execution_count": 22,
     "metadata": {},
     "output_type": "execute_result"
    }
   ],
   "source": [
    "FALSE = Literal('false', r'\\bot')"
   ]
  },
  {
   "cell_type": "markdown",
   "metadata": {},
   "source": [
    "This will typically be defined as **common expressions** in the appropriate **context**, to be discussed in a later tutorial."
   ]
  },
  {
   "cell_type": "markdown",
   "metadata": {},
   "source": [
    "### Contextual \"variables\"\n",
    "\n",
    "This is appropriate when variables are given a specific meaning within the context of a problem.  For example, consider a math \"story problem\" where Andrea has $a$ apples and Bill has $b$ bananas.  These are variables in a sense, but here they have contextual meaning so they should be `Literal`s.  However, suppose one wants to prove a general theorem for any number of Andrea's apples and Bill's bananas.  One may start by using the $a$ and $b$ `Literal`s for convenience for some contextual \"lemmas\" (as an aside, though, **Prove-It** does not distinguish between lemmas and theorems), but then demote them to `Variable`s in order to make a statement of the form $\\forall_{a, b} P(a, b)$ (`Literal`s may not be quantified over).  This is done by using a process called axiom elimination that will be discussed later.  For now, we just note that \"variables\" with contextual meaning need to be `Literal`s."
   ]
  },
  {
   "cell_type": "code",
   "execution_count": 23,
   "metadata": {},
   "outputs": [
    {
     "data": {
      "text/html": [
       "<strong id=\"aLit\">aLit:</strong> <a class=\"ProveItLink\" href=\"__pv_it/2bb97c217fcb1fb3c3ee70ce478b8849ff22d3950/expr.ipynb\"><img src=\"__pv_it/2bb97c217fcb1fb3c3ee70ce478b8849ff22d3950/expr.png\" style=\"display:inline;vertical-align:middle;\" /></a><br>"
      ],
      "text/plain": [
       "aLit: a"
      ]
     },
     "execution_count": 23,
     "metadata": {},
     "output_type": "execute_result"
    }
   ],
   "source": [
    "aLit = Literal('a')"
   ]
  },
  {
   "cell_type": "code",
   "execution_count": 24,
   "metadata": {},
   "outputs": [
    {
     "data": {
      "text/html": [
       "<strong id=\"bLit\">bLit:</strong> <a class=\"ProveItLink\" href=\"__pv_it/1ff8d729167878a0309a8d0ba2bd23282d7fa6770/expr.ipynb\"><img src=\"__pv_it/1ff8d729167878a0309a8d0ba2bd23282d7fa6770/expr.png\" style=\"display:inline;vertical-align:middle;\" /></a><br>"
      ],
      "text/plain": [
       "bLit: b"
      ]
     },
     "execution_count": 24,
     "metadata": {},
     "output_type": "execute_result"
    }
   ],
   "source": [
    "bLit = Literal('b')"
   ]
  },
  {
   "cell_type": "code",
   "execution_count": 25,
   "metadata": {},
   "outputs": [],
   "source": [
    "assert a != aLit # different because one is a Variable and one is a Literal\n",
    "assert a == aLit.asVariable() # same after converting the Literal to a Variable"
   ]
  },
  {
   "cell_type": "markdown",
   "metadata": {},
   "source": [
    "### Literal substitution\n",
    "It is possible to perform *expression substitution* on a `Literal`."
   ]
  },
  {
   "cell_type": "code",
   "execution_count": 26,
   "metadata": {},
   "outputs": [
    {
     "data": {
      "text/html": [
       "<a class=\"ProveItLink\" href=\"__pv_it/1ff8d729167878a0309a8d0ba2bd23282d7fa6770/expr.ipynb\"><img src=\"__pv_it/1ff8d729167878a0309a8d0ba2bd23282d7fa6770/expr.png\" style=\"display:inline;vertical-align:middle;\" /></a>"
      ],
      "text/plain": [
       "b"
      ]
     },
     "execution_count": 26,
     "metadata": {},
     "output_type": "execute_result"
    }
   ],
   "source": [
    "aLit.substituted({aLit:bLit})"
   ]
  },
  {
   "cell_type": "code",
   "execution_count": 27,
   "metadata": {},
   "outputs": [
    {
     "data": {
      "text/html": [
       "<a class=\"ProveItLink\" href=\"__pv_it/9d7c4e1c5ee4d34a7826567c9ff37cf313ab71e60/expr.ipynb\"><img src=\"__pv_it/9d7c4e1c5ee4d34a7826567c9ff37cf313ab71e60/expr.png\" style=\"display:inline;vertical-align:middle;\" /></a>"
      ],
      "text/plain": [
       "omega"
      ]
     },
     "execution_count": 27,
     "metadata": {},
     "output_type": "execute_result"
    }
   ],
   "source": [
    "aLit.substituted({aLit:omega})"
   ]
  },
  {
   "cell_type": "markdown",
   "metadata": {},
   "source": [
    "However, we cannot *relabel* a `Literal` since a **literal** is not an interchangeable label.  Furthermore, we will see in a later chapter that *specialization* is not allowed because you cannot quantify over a `Literal` like you can a `Variable`."
   ]
  },
  {
   "cell_type": "code",
   "execution_count": 28,
   "metadata": {},
   "outputs": [
    {
     "name": "stdout",
     "output_type": "stream",
     "text": [
      "EXPECTED ERROR:  relabelMap keys must be Variables\n"
     ]
    }
   ],
   "source": [
    "try:\n",
    "    aLit.relabeled({aLit:omega}) # we cannot relabel Literals\n",
    "    assert False, \"Expecting a TypeError; should not make it to this point\"\n",
    "except TypeError as e:\n",
    "    print(\"EXPECTED ERROR: \", e)"
   ]
  },
  {
   "cell_type": "markdown",
   "metadata": {},
   "source": [
    "### Literal contexts\n",
    "\n",
    "A `Literal` is distinguished not only by its formatting but also by its **context**.  Axioms and theorems of **Prove-It** are organized via **contexts** which we will discuss later in more detail.  Each `Literal` belongs to a **context** which is typically the one corresponding to the package (directory) in which it is defined.  This is particularly important for *contextual variable* types of `Literal`s that are very *context*-specific."
   ]
  },
  {
   "cell_type": "code",
   "execution_count": 29,
   "metadata": {},
   "outputs": [],
   "source": [
    "import proveit.logic as logic"
   ]
  },
  {
   "cell_type": "code",
   "execution_count": 30,
   "metadata": {},
   "outputs": [
    {
     "data": {
      "text/html": [
       "<a class=\"ProveItLink\" href=\"../packages/proveit/logic/boolean/__pv_it/68a87cc3370287d726c7086ace789e680e4461c30/expr.ipynb\"><img src=\"../packages/proveit/logic/boolean/__pv_it/68a87cc3370287d726c7086ace789e680e4461c30/expr.png\" style=\"display:inline;vertical-align:middle;\" /></a>"
      ],
      "text/plain": [
       "TRUE"
      ]
     },
     "execution_count": 30,
     "metadata": {},
     "output_type": "execute_result"
    }
   ],
   "source": [
    "logic.TRUE"
   ]
  },
  {
   "cell_type": "markdown",
   "metadata": {},
   "source": [
    "*If the above output is not the $\\top$ symbol when you execute this, you probably need to <a class=\"ProveItLink\" href=\"tutorial00_introduction.ipynb#build\">build or download the Prove-It database</a>.*"
   ]
  },
  {
   "cell_type": "code",
   "execution_count": 31,
   "metadata": {},
   "outputs": [
    {
     "data": {
      "text/plain": [
       "False"
      ]
     },
     "execution_count": 31,
     "metadata": {},
     "output_type": "execute_result"
    }
   ],
   "source": [
    "# When the context is different, they are not the same.\n",
    "TRUE == logic.TRUE"
   ]
  },
  {
   "cell_type": "markdown",
   "metadata": {},
   "source": [
    "The detailed expression information reveals the differences:"
   ]
  },
  {
   "cell_type": "code",
   "execution_count": 32,
   "metadata": {},
   "outputs": [
    {
     "data": {
      "text/html": [
       "<table><tr><th>&nbsp;</th><th>core type</th><th>sub-expressions</th><th>expression</th></tr>\n",
       "<tr><td>0</td><td>Literal</td><td></td><td><a class=\"ProveItLink\" href=\"__pv_it/567fef274ea4a346669c1cb3f9cc1731c13accd50/expr.ipynb\"><img src=\"__pv_it/567fef274ea4a346669c1cb3f9cc1731c13accd50/expr.png\" style=\"display:inline;vertical-align:middle;\" /></a></td></tr>\n",
       "<tr><td colspan=4 style=\"text-align:left\"><strong>context:</strong> tutorial</td></tr>\n",
       "</table>\n"
      ],
      "text/plain": [
       "0. true\n",
       "   core type: Literal\n",
       "   latexFormat: \\top\n",
       "   context: tutorial\n",
       "   class: <class 'proveit._core_.expression.label.literal.Literal'>\n",
       "   sub-expressions: "
      ]
     },
     "execution_count": 32,
     "metadata": {},
     "output_type": "execute_result"
    }
   ],
   "source": [
    "TRUE.exprInfo(details=True)"
   ]
  },
  {
   "cell_type": "code",
   "execution_count": 33,
   "metadata": {},
   "outputs": [
    {
     "data": {
      "text/html": [
       "<table><tr><th>&nbsp;</th><th>core type</th><th>sub-expressions</th><th>expression</th></tr>\n",
       "<tr><td>0</td><td>Literal</td><td></td><td><a class=\"ProveItLink\" href=\"../packages/proveit/logic/boolean/__pv_it/68a87cc3370287d726c7086ace789e680e4461c30/expr.ipynb\"><img src=\"../packages/proveit/logic/boolean/__pv_it/68a87cc3370287d726c7086ace789e680e4461c30/expr.png\" style=\"display:inline;vertical-align:middle;\" /></a></td></tr>\n",
       "<tr><td colspan=4 style=\"text-align:left\"><strong>class:</strong> proveit.logic.boolean.booleans.TrueLiteral</td></tr>\n",
       "<tr><td colspan=4 style=\"text-align:left\"><strong>context:</strong> proveit.logic.boolean</td></tr>\n",
       "</table>\n"
      ],
      "text/plain": [
       "0. TRUE\n",
       "   core type: Literal\n",
       "   latexFormat: \\top\n",
       "   context: proveit.logic.boolean\n",
       "   class: <class 'proveit.logic.boolean.booleans.TrueLiteral'>\n",
       "   sub-expressions: "
      ]
     },
     "execution_count": 33,
     "metadata": {},
     "output_type": "execute_result"
    }
   ],
   "source": [
    "logic.TRUE.exprInfo(details=True)"
   ]
  },
  {
   "cell_type": "markdown",
   "metadata": {},
   "source": [
    "**Expressions** are also distinguished by their class (derived from the *core type*).  In the above example, `logic.TRUE` is an object of the `proveit.logic.boolean.booleans.TrueLiteral` class.  `logic.TRUE` and `logic.FALSE` have an `evalEquality(..)` method defined in their respective classes which is convenient method for deriving any of the following: $(\\top = \\top) = \\top$, $(\\bot = \\bot) = \\top$, $(\\top = \\bot) = \\bot$, or $(\\bot = \\top) = \\bot$ (these are proven theorems within `proveit.logic`)."
   ]
  },
  {
   "cell_type": "code",
   "execution_count": 34,
   "metadata": {
    "scrolled": true
   },
   "outputs": [
    {
     "data": {
      "text/html": [
       "<span style=\"font-size:20px;\"> &#x22A2;&nbsp;<a class=\"ProveItLink\" href=\"__pv_it/635413d1dd6bf978ca929368d609ada728787e280/expr.ipynb\"><img src=\"__pv_it/635413d1dd6bf978ca929368d609ada728787e280/expr.png\" style=\"display:inline;vertical-align:middle;\" /></a></span>"
      ],
      "text/plain": [
       "|= (TRUE = FALSE) = FALSE"
      ]
     },
     "execution_count": 34,
     "metadata": {},
     "output_type": "execute_result"
    }
   ],
   "source": [
    "logic.TRUE.evalEquality(logic.FALSE)"
   ]
  },
  {
   "cell_type": "markdown",
   "metadata": {},
   "source": [
    "This is a sneak preview of a known truth (**KnownTruth** object) that uses the turnstile notation, $\\boldsymbol{\\vdash}$, to indicate that the expression is a proven statement.  There will be more on this in later tutorial chapters."
   ]
  },
  {
   "cell_type": "markdown",
   "metadata": {},
   "source": [
    "<a name=\"Lambda\"></a>Lambda\n",
    "====\n",
    "\n",
    "This type of **expression** represents a mathematical mapping or function.  It contains *parameter(s)* (one or more `Variable`s and may also include `Iteration`s of `Indexed` `Variable`s that will be discussed in the <a href=\"tutorial10_advanced_expr.ipynb#Iteration\">Iteration</a> section of the <a href=\"tutorial10_advanced_expr.ipynb\">advanced expressions</a> chapter), a *body* (any `Expression` that the parameters are to be mapped into), and optional *conditions* (any `Expression`s).  The mapping is only defined when the *conditions* are satisfied (derivable as **known truths**).  Below is an example with a single *parameter* and no *conditions*, mapping any input to the $5$ **Literal**:"
   ]
  },
  {
   "cell_type": "code",
   "execution_count": 35,
   "metadata": {},
   "outputs": [],
   "source": [
    "from proveit import Lambda"
   ]
  },
  {
   "cell_type": "code",
   "execution_count": 36,
   "metadata": {},
   "outputs": [
    {
     "data": {
      "text/html": [
       "<a class=\"ProveItLink\" href=\"__pv_it/ee0040d5dfe477769750d3eee2534a9fec12dcae0/expr.ipynb\"><img src=\"__pv_it/ee0040d5dfe477769750d3eee2534a9fec12dcae0/expr.png\" style=\"display:inline;vertical-align:middle;\" /></a>"
      ],
      "text/plain": [
       "x -> 5"
      ]
     },
     "execution_count": 36,
     "metadata": {},
     "output_type": "execute_result"
    }
   ],
   "source": [
    "# maps any value to 5\n",
    "mapTo5 = Lambda(x, FIVE) \n",
    "mapTo5"
   ]
  },
  {
   "cell_type": "code",
   "execution_count": 37,
   "metadata": {},
   "outputs": [
    {
     "data": {
      "text/html": [
       "<table><tr><th>&nbsp;</th><th>core type</th><th>sub-expressions</th><th>expression</th></tr>\n",
       "<tr><td>0</td><td>Lambda</td><td>parameter:&nbsp;1<br>body:&nbsp;2<br></td><td><a class=\"ProveItLink\" href=\"__pv_it/ee0040d5dfe477769750d3eee2534a9fec12dcae0/expr.ipynb\"><img src=\"__pv_it/ee0040d5dfe477769750d3eee2534a9fec12dcae0/expr.png\" style=\"display:inline;vertical-align:middle;\" /></a></td></tr>\n",
       "<tr><td>1</td><td>Variable</td><td></td><td><a class=\"ProveItLink\" href=\"../packages/proveit/__pv_it/530be409e3083890784cf1d7b28c9e67e90af9360/expr.ipynb\"><img src=\"__pv_it/530be409e3083890784cf1d7b28c9e67e90af9360/expr.png\" style=\"display:inline;vertical-align:middle;\" /></a></td></tr>\n",
       "<tr><td>2</td><td>Literal</td><td></td><td><a class=\"ProveItLink\" href=\"__pv_it/084027c5e7faf3e99fe505f569d22a93a32e5b730/expr.ipynb\"><img src=\"__pv_it/084027c5e7faf3e99fe505f569d22a93a32e5b730/expr.png\" style=\"display:inline;vertical-align:middle;\" /></a></td></tr>\n",
       "</table>\n"
      ],
      "text/plain": [
       "0. x -> 5\n",
       "   core type: Lambda\n",
       "   parameter: 1\n",
       "   body: 2\n",
       "1. x\n",
       "   core type: Variable\n",
       "   sub-expressions: \n",
       "2. 5\n",
       "   core type: Literal\n",
       "   sub-expressions: "
      ]
     },
     "execution_count": 37,
     "metadata": {},
     "output_type": "execute_result"
    }
   ],
   "source": [
    "# Let's look at the Expression info\n",
    "mapTo5.exprInfo()"
   ]
  },
  {
   "cell_type": "markdown",
   "metadata": {},
   "source": [
    "Here is an example with multiple *parameters* and *conditions* that are represented by `ExprList`s.  This maps a pair of real numbers to the first element (invoking the `InSet` <a href=\"#Operation\">Operation</a>):"
   ]
  },
  {
   "cell_type": "code",
   "execution_count": 38,
   "metadata": {},
   "outputs": [
    {
     "data": {
      "text/html": [
       "<a class=\"ProveItLink\" href=\"__pv_it/48f3705c8022ba41a43bdd723b2c086a636bb8220/expr.ipynb\"><img src=\"__pv_it/48f3705c8022ba41a43bdd723b2c086a636bb8220/expr.png\" style=\"display:inline;vertical-align:middle;\" /></a>"
      ],
      "text/plain": [
       "(x, omega) -> x | x in Reals , omega in Reals"
      ]
     },
     "execution_count": 38,
     "metadata": {},
     "output_type": "execute_result"
    }
   ],
   "source": [
    "# Can have multiple arguments\n",
    "from proveit.logic import InSet\n",
    "from proveit.number import Reals\n",
    "lambdaExpr = Lambda([x, omega], x, conditions=[InSet(x, Reals), InSet(omega, Reals)])\n",
    "lambdaExpr"
   ]
  },
  {
   "cell_type": "code",
   "execution_count": 39,
   "metadata": {},
   "outputs": [
    {
     "data": {
      "text/html": [
       "<table><tr><th>&nbsp;</th><th>core type</th><th>sub-expressions</th><th>expression</th></tr>\n",
       "<tr><td>0</td><td>Lambda</td><td>parameters:&nbsp;1<br>body:&nbsp;8<br>conditions:&nbsp;2<br></td><td><a class=\"ProveItLink\" href=\"__pv_it/48f3705c8022ba41a43bdd723b2c086a636bb8220/expr.ipynb\"><img src=\"__pv_it/48f3705c8022ba41a43bdd723b2c086a636bb8220/expr.png\" style=\"display:inline;vertical-align:middle;\" /></a></td></tr>\n",
       "<tr><td>1</td><td>ExprList</td><td>8, 9</td><td><a class=\"ProveItLink\" href=\"__pv_it/97449121e318e189a0d4bb0910874f0c49a240330/expr.ipynb\"><img src=\"__pv_it/97449121e318e189a0d4bb0910874f0c49a240330/expr.png\" style=\"display:inline;vertical-align:middle;\" /></a></td></tr>\n",
       "<tr><td>2</td><td>ExprList</td><td>3, 4</td><td><a class=\"ProveItLink\" href=\"__pv_it/c9d63c653903cf2523c86222d70fac337a216f5a0/expr.ipynb\"><img src=\"__pv_it/c9d63c653903cf2523c86222d70fac337a216f5a0/expr.png\" style=\"display:inline;vertical-align:middle;\" /></a></td></tr>\n",
       "<tr><td>3</td><td>Operation</td><td>operator:&nbsp;6<br>operands:&nbsp;5<br></td><td><a class=\"ProveItLink\" href=\"__pv_it/2fc5984e10bab9f1946bcf65549aeb2930f8c5e70/expr.ipynb\"><img src=\"__pv_it/2fc5984e10bab9f1946bcf65549aeb2930f8c5e70/expr.png\" style=\"display:inline;vertical-align:middle;\" /></a></td></tr>\n",
       "<tr><td>4</td><td>Operation</td><td>operator:&nbsp;6<br>operands:&nbsp;7<br></td><td><a class=\"ProveItLink\" href=\"__pv_it/81e258a9dae780f678de8a7e0ff6e8e63f3a72760/expr.ipynb\"><img src=\"__pv_it/81e258a9dae780f678de8a7e0ff6e8e63f3a72760/expr.png\" style=\"display:inline;vertical-align:middle;\" /></a></td></tr>\n",
       "<tr><td>5</td><td>ExprList</td><td>8, 10</td><td><a class=\"ProveItLink\" href=\"__pv_it/cbc1578dc647a7c4d69c129f984f3e34fd78456e0/expr.ipynb\"><img src=\"__pv_it/cbc1578dc647a7c4d69c129f984f3e34fd78456e0/expr.png\" style=\"display:inline;vertical-align:middle;\" /></a></td></tr>\n",
       "<tr><td>6</td><td>Literal</td><td></td><td><a class=\"ProveItLink\" href=\"../packages/proveit/logic/set_theory/membership/__pv_it/088cbc857536a28d4119ad9639a84270ccb0545d0/expr.ipynb\"><img src=\"../packages/proveit/logic/set_theory/membership/__pv_it/088cbc857536a28d4119ad9639a84270ccb0545d0/expr.png\" style=\"display:inline;vertical-align:middle;\" /></a></td></tr>\n",
       "<tr><td>7</td><td>ExprList</td><td>9, 10</td><td><a class=\"ProveItLink\" href=\"__pv_it/9b58220d001997c3a394379b32c0e142ab00f71e0/expr.ipynb\"><img src=\"__pv_it/9b58220d001997c3a394379b32c0e142ab00f71e0/expr.png\" style=\"display:inline;vertical-align:middle;\" /></a></td></tr>\n",
       "<tr><td>8</td><td>Variable</td><td></td><td><a class=\"ProveItLink\" href=\"../packages/proveit/__pv_it/530be409e3083890784cf1d7b28c9e67e90af9360/expr.ipynb\"><img src=\"__pv_it/530be409e3083890784cf1d7b28c9e67e90af9360/expr.png\" style=\"display:inline;vertical-align:middle;\" /></a></td></tr>\n",
       "<tr><td>9</td><td>Variable</td><td></td><td><a class=\"ProveItLink\" href=\"__pv_it/9d7c4e1c5ee4d34a7826567c9ff37cf313ab71e60/expr.ipynb\"><img src=\"__pv_it/9d7c4e1c5ee4d34a7826567c9ff37cf313ab71e60/expr.png\" style=\"display:inline;vertical-align:middle;\" /></a></td></tr>\n",
       "<tr><td>10</td><td>Literal</td><td></td><td><a class=\"ProveItLink\" href=\"../packages/proveit/number/sets/real/__pv_it/c69b21a7605f74b7de6f2b0e27a26f9af7918cb30/expr.ipynb\"><img src=\"../packages/proveit/number/sets/real/__pv_it/c69b21a7605f74b7de6f2b0e27a26f9af7918cb30/expr.png\" style=\"display:inline;vertical-align:middle;\" /></a></td></tr>\n",
       "</table>\n"
      ],
      "text/plain": [
       "0. (x, omega) -> x | x in Reals , omega in Reals\n",
       "   core type: Lambda\n",
       "   parameters: 1\\n   body: 8\n",
       "   conditions: 2\\n1. (x , omega)\n",
       "   core type: ExprList\n",
       "   sub-expressions: 8, 9\n",
       "2. (x in Reals , omega in Reals)\n",
       "   core type: ExprList\n",
       "   sub-expressions: 3, 4\n",
       "3. x in Reals\n",
       "   core type: Operation\n",
       "   operator: 6\n",
       "   operands: 5\n",
       "4. omega in Reals\n",
       "   core type: Operation\n",
       "   operator: 6\n",
       "   operands: 7\n",
       "5. (x , Reals)\n",
       "   core type: ExprList\n",
       "   sub-expressions: 8, 10\n",
       "6. in\n",
       "   core type: Literal\n",
       "   sub-expressions: \n",
       "7. (omega , Reals)\n",
       "   core type: ExprList\n",
       "   sub-expressions: 9, 10\n",
       "8. x\n",
       "   core type: Variable\n",
       "   sub-expressions: \n",
       "9. omega\n",
       "   core type: Variable\n",
       "   sub-expressions: \n",
       "10. Reals\n",
       "    core type: Literal\n",
       "    sub-expressions: "
      ]
     },
     "execution_count": 39,
     "metadata": {},
     "output_type": "execute_result"
    }
   ],
   "source": [
    "# Expression info shows how the Lambda is broken down into arguments and the expression as sub-expression.\n",
    "lambdaExpr.exprInfo()"
   ]
  },
  {
   "cell_type": "markdown",
   "metadata": {},
   "source": [
    "### Lambda substitution/relabeling"
   ]
  },
  {
   "cell_type": "markdown",
   "metadata": {},
   "source": [
    "A very important property of a `Lambda` is that it defines a new \"scope\" for its parameters.  The parameter **Variable**s may be *relabeled*, but they will not be substituted."
   ]
  },
  {
   "cell_type": "code",
   "execution_count": 40,
   "metadata": {
    "scrolled": true
   },
   "outputs": [
    {
     "data": {
      "text/html": [
       "<a class=\"ProveItLink\" href=\"__pv_it/fd38c308bf28bc38c8631c21ebad6d5486b9f9590/expr.ipynb\"><img src=\"__pv_it/fd38c308bf28bc38c8631c21ebad6d5486b9f9590/expr.png\" style=\"display:inline;vertical-align:middle;\" /></a>"
      ],
      "text/plain": [
       "(x, y) -> x | x in Reals , y in Reals"
      ]
     },
     "execution_count": 40,
     "metadata": {},
     "output_type": "execute_result"
    }
   ],
   "source": [
    "lambdaExpr.relabeled({omega:y})"
   ]
  },
  {
   "cell_type": "code",
   "execution_count": 41,
   "metadata": {},
   "outputs": [
    {
     "data": {
      "text/html": [
       "<a class=\"ProveItLink\" href=\"__pv_it/48f3705c8022ba41a43bdd723b2c086a636bb8220/expr.ipynb\"><img src=\"__pv_it/48f3705c8022ba41a43bdd723b2c086a636bb8220/expr.png\" style=\"display:inline;vertical-align:middle;\" /></a>"
      ],
      "text/plain": [
       "(x, omega) -> x | x in Reals , omega in Reals"
      ]
     },
     "execution_count": 41,
     "metadata": {},
     "output_type": "execute_result"
    }
   ],
   "source": [
    "lambdaExpr.substituted({x:aLit})"
   ]
  },
  {
   "cell_type": "markdown",
   "metadata": {},
   "source": [
    "We can substitute a Variable that is not an argument, however:"
   ]
  },
  {
   "cell_type": "code",
   "execution_count": 42,
   "metadata": {},
   "outputs": [
    {
     "data": {
      "text/html": [
       "<a class=\"ProveItLink\" href=\"__pv_it/ac7170fa482eae45767253b96d2614478a09413a0/expr.ipynb\"><img src=\"__pv_it/ac7170fa482eae45767253b96d2614478a09413a0/expr.png\" style=\"display:inline;vertical-align:middle;\" /></a>"
      ],
      "text/plain": [
       "x -> a"
      ]
     },
     "execution_count": 42,
     "metadata": {},
     "output_type": "execute_result"
    }
   ],
   "source": [
    "mapTo5.substituted({FIVE:aLit})"
   ]
  },
  {
   "cell_type": "markdown",
   "metadata": {},
   "source": [
    "There are important limits regarding *relabeling* and *substitution* within the \"scope\" of the `Lambda`.  In particular, parameters of the Lambda function are \"reserved\" and may not be used in *substitution* or *relabeling*.  Otherwise, you could alter the meaning of the **expression** in ways that can invalidate a proof (i.e., via a *specialization* step which relies upon *expression substitution* internally)."
   ]
  },
  {
   "cell_type": "code",
   "execution_count": 43,
   "metadata": {},
   "outputs": [
    {
     "name": "stdout",
     "output_type": "stream",
     "text": [
      "EXPECTED ERROR:  Must not make substitution with reserved variables  (i.e., parameters of a Lambda function)\n",
      "EXPECTED ERROR:  Relabeling in violation of Variable scoping restrictions.\n"
     ]
    }
   ],
   "source": [
    "from proveit import ScopingViolation\n",
    "try:\n",
    "    Lambda([x, omega], z).substituted({z:omega})\n",
    "    assert False, \"Expecting an ScopingViolation error; should not make it to this point\"\n",
    "except ScopingViolation as e:\n",
    "    print(\"EXPECTED ERROR: \", e)\n",
    "try:\n",
    "    Lambda([x, omega], z).relabeled({z:omega})\n",
    "    assert False, \"Expecting an ScopingViolation error; should not make it to this point\"\n",
    "except ScopingViolation as e:\n",
    "    print(\"EXPECTED ERROR: \", e)"
   ]
  },
  {
   "cell_type": "markdown",
   "metadata": {},
   "source": [
    "In addition, Lambda parameters must be distinct."
   ]
  },
  {
   "cell_type": "code",
   "execution_count": 44,
   "metadata": {},
   "outputs": [
    {
     "name": "stdout",
     "output_type": "stream",
     "text": [
      "EXPECTED ERROR:  Lambda parameters Variables must be unique with respect to each other.\n"
     ]
    }
   ],
   "source": [
    "from proveit import ImproperSubstitution\n",
    "try:\n",
    "    Lambda([x, omega], z).relabeled({x:omega})\n",
    "    assert False, \"Expecting an ImproperSubstitution error; should not make it to this point\"    \n",
    "except ImproperSubstitution as e:\n",
    "    print(\"EXPECTED ERROR: \", e)"
   ]
  },
  {
   "cell_type": "markdown",
   "metadata": {},
   "source": [
    "It is possible, however, to perform simultaneous *relabeling* that is consistent (retains the meaning)."
   ]
  },
  {
   "cell_type": "code",
   "execution_count": 45,
   "metadata": {},
   "outputs": [
    {
     "data": {
      "text/html": [
       "<a class=\"ProveItLink\" href=\"__pv_it/e8dbd5bafcfa85e15a5fbbda00b55f482657c0760/expr.ipynb\"><img src=\"__pv_it/e8dbd5bafcfa85e15a5fbbda00b55f482657c0760/expr.png\" style=\"display:inline;vertical-align:middle;\" /></a>"
      ],
      "text/plain": [
       "(omega, x) -> omega | omega in Reals , x in Reals"
      ]
     },
     "execution_count": 45,
     "metadata": {},
     "output_type": "execute_result"
    }
   ],
   "source": [
    "lambdaExpr.relabeled({x:omega, omega:x})"
   ]
  },
  {
   "cell_type": "markdown",
   "metadata": {},
   "source": [
    "<a name=\"Operation\"></a>Operation\n",
    "=========\n",
    "\n",
    "This type of **expression** represents an applied operation.  It contains *operator(s)* (one or more `Label`s and may also include `Iteration`s of `Indexed` `Label`s that will be discussed in the <a href=\"tutorial10_advanced_expr.ipynb#Iteration\">Iteration</a> section of the <a href=\"tutorial10_advanced_expr.ipynb\">advanced expressions</a> chapter) and *operand(s)* (one or more of any `Expression`).  The default formatting of an `Operation` with one *operator* and more than one *operand* is to place the *operator* between each successive pair of *operands* as follows."
   ]
  },
  {
   "cell_type": "code",
   "execution_count": 46,
   "metadata": {},
   "outputs": [
    {
     "data": {
      "text/html": [
       "<a class=\"ProveItLink\" href=\"__pv_it/0f0f6371a074271c355012223df7e4ba9a8cec0a0/expr.ipynb\"><img src=\"__pv_it/0f0f6371a074271c355012223df7e4ba9a8cec0a0/expr.png\" style=\"display:inline;vertical-align:middle;\" /></a>"
      ],
      "text/plain": [
       "x * y * omega"
      ]
     },
     "execution_count": 46,
     "metadata": {},
     "output_type": "execute_result"
    }
   ],
   "source": [
    "from proveit import Operation\n",
    "Operation(TIMES, [x, y, omega])"
   ]
  },
  {
   "cell_type": "markdown",
   "metadata": {},
   "source": [
    "A `Function` is derived from `Operation`.  It behaves in the same manner except it formats it in a \"function\" style:"
   ]
  },
  {
   "cell_type": "code",
   "execution_count": 47,
   "metadata": {},
   "outputs": [
    {
     "data": {
      "text/html": [
       "<a class=\"ProveItLink\" href=\"../packages/proveit/__pv_it/182d3f256e21dc75ea1ec3168bda49a871e4700a0/expr.ipynb\"><img src=\"../packages/proveit/__pv_it/182d3f256e21dc75ea1ec3168bda49a871e4700a0/expr.png\" style=\"display:inline;vertical-align:middle;\" /></a>"
      ],
      "text/plain": [
       "f(x)"
      ]
     },
     "execution_count": 47,
     "metadata": {},
     "output_type": "execute_result"
    }
   ],
   "source": [
    "from proveit import Function\n",
    "\n",
    "# Simple case: a Variable operator with a single Variable operand\n",
    "f = Variable('f')\n",
    "fx = Function(f, x)\n",
    "fx # f(x)"
   ]
  },
  {
   "cell_type": "markdown",
   "metadata": {},
   "source": [
    "Common forms of these are available from <a class=\"ProveItLink\" href=\"../packages/proveit/_common_.ipynb\">proveit.common</a>:"
   ]
  },
  {
   "cell_type": "code",
   "execution_count": 48,
   "metadata": {},
   "outputs": [
    {
     "data": {
      "text/html": [
       "<a class=\"ProveItLink\" href=\"__pv_it/971db30bb17e901491764a0cf080fc8a710701230/expr.ipynb\"><img src=\"__pv_it/971db30bb17e901491764a0cf080fc8a710701230/expr.png\" style=\"display:inline;vertical-align:middle;\" /></a>"
      ],
      "text/plain": [
       "(f(x) , g(x) , P(x) , Q(x))"
      ]
     },
     "execution_count": 48,
     "metadata": {},
     "output_type": "execute_result"
    }
   ],
   "source": [
    "from proveit._common_ import fx, gx, Px, Qx\n",
    "ExprList(fx, gx, Px, Qx)"
   ]
  },
  {
   "cell_type": "markdown",
   "metadata": {},
   "source": [
    "Let's derive a couple of classes from `Operation` to represent operations with specific literal operators.\n",
    "This is commonly done within Prove-It library modules.  We use the `%load` magic command to display (and execute) the contents of <a href=\"demo_operations.py\">demo_operations.py</a>."
   ]
  },
  {
   "cell_type": "code",
   "execution_count": 49,
   "metadata": {},
   "outputs": [],
   "source": [
    "# %load demo_operations.py\n",
    "'''\n",
    "Module that defines a Factorial Operation purely for purposes of a\n",
    "tutorial.\n",
    "'''\n",
    "\n",
    "from proveit import Operation, Literal\n",
    "\n",
    "class Factorial(Operation):\n",
    "    # _operator_ is a special class variable name, defining specific literal operator of the Operation class.\n",
    "    # It is not only used for default formatting but also when performing substitutions for rebuilding expressions.\n",
    "    _operator_ = Literal('!')\n",
    "    \n",
    "    def __init__(self, operand):\n",
    "        # creates the Operation with FACTORIAL as the operator and the provided operand as its only operand.\n",
    "        Operation.__init__(self, Factorial._operator_, operand) # initializes self.operand\n",
    "\n",
    "    def string(self, **kwargs): # should accept kwargs even when not used (e.g., 'fence')\n",
    "        # the operand should be fenced (wrapped in parentheses) to prevent ambiguity\n",
    "        return self.operand.string(fence=True) + Factorial._operator_.string()\n",
    "    \n",
    "    def latex(self, **kwargs): # should accept kwargs even when not used (e.g., 'fence')\n",
    "        # the operand should be fenced (wrapped in parentheses) to prevent ambiguity\n",
    "        return self.operand.latex(fence=True) + Factorial._operator_.latex() \n",
    "\n",
    "class Multiply(Operation):\n",
    "    \n",
    "    # This operator Literal has a LaTeX format that differs from the string format.\n",
    "    _operator_ = Literal('*', r'\\times')\n",
    "    \n",
    "    def __init__(self, *operands): # takes a list of arguments as the operands\n",
    "        # creates the AssociativeOperation with TIMES as the operator and any number of operands.\n",
    "        Operation.__init__(self, Multiply._operator_, operands)\n",
    "    \n",
    "    # The default formatting will display the operator between the operands\n"
   ]
  },
  {
   "cell_type": "markdown",
   "metadata": {},
   "source": [
    "In order to work properly, however, we need to import these classes from the module (as Prove-It will use the `__file__` attribute of this module for its internal purposes)."
   ]
  },
  {
   "cell_type": "code",
   "execution_count": 50,
   "metadata": {},
   "outputs": [],
   "source": [
    "from demo_operations import Factorial, Multiply"
   ]
  },
  {
   "cell_type": "markdown",
   "metadata": {},
   "source": [
    "A `Factorial` is an `Operation` with \"!\" as the format of the `Literal` operator.  Its formatting is altered from the default but is still true to the core `Expression` structure (the formatting is a reflection of the internal structure)."
   ]
  },
  {
   "cell_type": "code",
   "execution_count": 51,
   "metadata": {},
   "outputs": [
    {
     "data": {
      "text/html": [
       "<strong id=\"xFactorial\">xFactorial:</strong> <a class=\"ProveItLink\" href=\"__pv_it/f298b6802ab61432aea8682a150b9f30732ed7760/expr.ipynb\"><img src=\"__pv_it/f298b6802ab61432aea8682a150b9f30732ed7760/expr.png\" style=\"display:inline;vertical-align:middle;\" /></a><br>"
      ],
      "text/plain": [
       "xFactorial: x!"
      ]
     },
     "execution_count": 51,
     "metadata": {},
     "output_type": "execute_result"
    }
   ],
   "source": [
    "# Now we can make an object with this new class\n",
    "xFactorial = Factorial(x)"
   ]
  },
  {
   "cell_type": "code",
   "execution_count": 52,
   "metadata": {},
   "outputs": [
    {
     "data": {
      "text/html": [
       "<table><tr><th>&nbsp;</th><th>core type</th><th>sub-expressions</th><th>expression</th></tr>\n",
       "<tr><td>0</td><td>Operation</td><td>operator:&nbsp;1<br>operand:&nbsp;2<br></td><td><a class=\"ProveItLink\" href=\"__pv_it/f298b6802ab61432aea8682a150b9f30732ed7760/expr.ipynb\"><img src=\"__pv_it/f298b6802ab61432aea8682a150b9f30732ed7760/expr.png\" style=\"display:inline;vertical-align:middle;\" /></a></td></tr>\n",
       "<tr><td>1</td><td>Literal</td><td></td><td><a class=\"ProveItLink\" href=\"__pv_it/d6af88116966bca28fcbee5fe103a74f1e8a81d50/expr.ipynb\"><img src=\"__pv_it/d6af88116966bca28fcbee5fe103a74f1e8a81d50/expr.png\" style=\"display:inline;vertical-align:middle;\" /></a></td></tr>\n",
       "<tr><td>2</td><td>Variable</td><td></td><td><a class=\"ProveItLink\" href=\"../packages/proveit/__pv_it/530be409e3083890784cf1d7b28c9e67e90af9360/expr.ipynb\"><img src=\"__pv_it/530be409e3083890784cf1d7b28c9e67e90af9360/expr.png\" style=\"display:inline;vertical-align:middle;\" /></a></td></tr>\n",
       "</table>\n"
      ],
      "text/plain": [
       "0. x!\n",
       "   core type: Operation\n",
       "   operator: 1\n",
       "   operand: 2\n",
       "1. !\n",
       "   core type: Literal\n",
       "   sub-expressions: \n",
       "2. x\n",
       "   core type: Variable\n",
       "   sub-expressions: "
      ]
     },
     "execution_count": 52,
     "metadata": {},
     "output_type": "execute_result"
    }
   ],
   "source": [
    "# show core structure\n",
    "xFactorial.exprInfo()"
   ]
  },
  {
   "cell_type": "markdown",
   "metadata": {},
   "source": [
    "In the Jupyter notebook setting, we typically only use LaTeX formatting, but it is important to define the string formatting as well for whenever it is needed (e.g., when error messages are displayed).  The `fence=True` above indicates that parentheses should be used when it could be ambiguous otherwise.  Our example above has no ambiguity, so parentheses are not used.  We will show a case below where the parentheses are required."
   ]
  },
  {
   "cell_type": "markdown",
   "metadata": {},
   "source": [
    "Next we consider a multiple *operand* example using the `Multiply` class that we imported from <a href=\"demo_operations.py\">demo_operations.py</a> above."
   ]
  },
  {
   "cell_type": "code",
   "execution_count": 53,
   "metadata": {},
   "outputs": [
    {
     "data": {
      "text/html": [
       "<strong id=\"multExpr\">multExpr:</strong> <a class=\"ProveItLink\" href=\"__pv_it/2565fdf1866ce9fc049e408921515bff5bff5a040/expr.ipynb\"><img src=\"__pv_it/2565fdf1866ce9fc049e408921515bff5bff5a040/expr.png\" style=\"display:inline;vertical-align:middle;\" /></a><br>"
      ],
      "text/plain": [
       "multExpr: x * 5 * omega"
      ]
     },
     "execution_count": 53,
     "metadata": {},
     "output_type": "execute_result"
    }
   ],
   "source": [
    "# Demonstrating an Operation with multiple operands\n",
    "multExpr = Multiply(x, FIVE, omega)"
   ]
  },
  {
   "cell_type": "code",
   "execution_count": 54,
   "metadata": {},
   "outputs": [
    {
     "data": {
      "text/html": [
       "<strong id=\"nestedOperation\">nestedOperation:</strong> <a class=\"ProveItLink\" href=\"__pv_it/1ad9438eec31cc6ab76c401e45ba17180946b8060/expr.ipynb\"><img src=\"__pv_it/1ad9438eec31cc6ab76c401e45ba17180946b8060/expr.png\" style=\"display:inline;vertical-align:middle;\" /></a><br>"
      ],
      "text/plain": [
       "nestedOperation: (x * 5 * omega)!"
      ]
     },
     "execution_count": 54,
     "metadata": {},
     "output_type": "execute_result"
    }
   ],
   "source": [
    "# Let's nest Operations and show proper fencing behavior\n",
    "nestedOperation = Factorial(multExpr)"
   ]
  },
  {
   "cell_type": "code",
   "execution_count": 55,
   "metadata": {},
   "outputs": [
    {
     "data": {
      "text/html": [
       "<table><tr><th>&nbsp;</th><th>core type</th><th>sub-expressions</th><th>expression</th></tr>\n",
       "<tr><td>0</td><td>Operation</td><td>operator:&nbsp;1<br>operand:&nbsp;2<br></td><td><a class=\"ProveItLink\" href=\"__pv_it/1ad9438eec31cc6ab76c401e45ba17180946b8060/expr.ipynb\"><img src=\"__pv_it/1ad9438eec31cc6ab76c401e45ba17180946b8060/expr.png\" style=\"display:inline;vertical-align:middle;\" /></a></td></tr>\n",
       "<tr><td>1</td><td>Literal</td><td></td><td><a class=\"ProveItLink\" href=\"__pv_it/d6af88116966bca28fcbee5fe103a74f1e8a81d50/expr.ipynb\"><img src=\"__pv_it/d6af88116966bca28fcbee5fe103a74f1e8a81d50/expr.png\" style=\"display:inline;vertical-align:middle;\" /></a></td></tr>\n",
       "<tr><td>2</td><td>Operation</td><td>operator:&nbsp;3<br>operands:&nbsp;4<br></td><td><a class=\"ProveItLink\" href=\"__pv_it/2565fdf1866ce9fc049e408921515bff5bff5a040/expr.ipynb\"><img src=\"__pv_it/2565fdf1866ce9fc049e408921515bff5bff5a040/expr.png\" style=\"display:inline;vertical-align:middle;\" /></a></td></tr>\n",
       "<tr><td>3</td><td>Literal</td><td></td><td><a class=\"ProveItLink\" href=\"__pv_it/7fa9fd20fee7806a99050bf24ffcbd2251e9b7fe0/expr.ipynb\"><img src=\"__pv_it/7fa9fd20fee7806a99050bf24ffcbd2251e9b7fe0/expr.png\" style=\"display:inline;vertical-align:middle;\" /></a></td></tr>\n",
       "<tr><td>4</td><td>ExprList</td><td>5, 6, 7</td><td><a class=\"ProveItLink\" href=\"__pv_it/ef75f1d75018e14cfdae0b795a5d0b669cfa9c940/expr.ipynb\"><img src=\"__pv_it/ef75f1d75018e14cfdae0b795a5d0b669cfa9c940/expr.png\" style=\"display:inline;vertical-align:middle;\" /></a></td></tr>\n",
       "<tr><td>5</td><td>Variable</td><td></td><td><a class=\"ProveItLink\" href=\"../packages/proveit/__pv_it/530be409e3083890784cf1d7b28c9e67e90af9360/expr.ipynb\"><img src=\"__pv_it/530be409e3083890784cf1d7b28c9e67e90af9360/expr.png\" style=\"display:inline;vertical-align:middle;\" /></a></td></tr>\n",
       "<tr><td>6</td><td>Literal</td><td></td><td><a class=\"ProveItLink\" href=\"__pv_it/084027c5e7faf3e99fe505f569d22a93a32e5b730/expr.ipynb\"><img src=\"__pv_it/084027c5e7faf3e99fe505f569d22a93a32e5b730/expr.png\" style=\"display:inline;vertical-align:middle;\" /></a></td></tr>\n",
       "<tr><td>7</td><td>Variable</td><td></td><td><a class=\"ProveItLink\" href=\"__pv_it/9d7c4e1c5ee4d34a7826567c9ff37cf313ab71e60/expr.ipynb\"><img src=\"__pv_it/9d7c4e1c5ee4d34a7826567c9ff37cf313ab71e60/expr.png\" style=\"display:inline;vertical-align:middle;\" /></a></td></tr>\n",
       "</table>\n"
      ],
      "text/plain": [
       "0. (x * 5 * omega)!\n",
       "   core type: Operation\n",
       "   operator: 1\n",
       "   operand: 2\n",
       "1. !\n",
       "   core type: Literal\n",
       "   sub-expressions: \n",
       "2. x * 5 * omega\n",
       "   core type: Operation\n",
       "   operator: 3\n",
       "   operands: 4\n",
       "3. *\n",
       "   core type: Literal\n",
       "   sub-expressions: \n",
       "4. (x , 5 , omega)\n",
       "   core type: ExprList\n",
       "   sub-expressions: 5, 6, 7\n",
       "5. x\n",
       "   core type: Variable\n",
       "   sub-expressions: \n",
       "6. 5\n",
       "   core type: Literal\n",
       "   sub-expressions: \n",
       "7. omega\n",
       "   core type: Variable\n",
       "   sub-expressions: "
      ]
     },
     "execution_count": 55,
     "metadata": {},
     "output_type": "execute_result"
    }
   ],
   "source": [
    "nestedOperation.exprInfo()"
   ]
  },
  {
   "cell_type": "markdown",
   "metadata": {},
   "source": [
    "### Operand substitution/relabeling\n",
    "\n",
    "*Substitution* and *relabeling* of *operands* is straightforward in the way it works."
   ]
  },
  {
   "cell_type": "code",
   "execution_count": 56,
   "metadata": {},
   "outputs": [
    {
     "data": {
      "text/html": [
       "<a class=\"ProveItLink\" href=\"__pv_it/17856ef61df51dccbc9c97ee8f8f57a7620651070/expr.ipynb\"><img src=\"__pv_it/17856ef61df51dccbc9c97ee8f8f57a7620651070/expr.png\" style=\"display:inline;vertical-align:middle;\" /></a>"
      ],
      "text/plain": [
       "omega!"
      ]
     },
     "execution_count": 56,
     "metadata": {},
     "output_type": "execute_result"
    }
   ],
   "source": [
    "xFactorial.relabeled({x:omega})"
   ]
  },
  {
   "cell_type": "code",
   "execution_count": 57,
   "metadata": {},
   "outputs": [
    {
     "data": {
      "text/html": [
       "<strong id=\"nestedOperationFromSub\">nestedOperationFromSub:</strong> <a class=\"ProveItLink\" href=\"__pv_it/1ad9438eec31cc6ab76c401e45ba17180946b8060/expr.ipynb\"><img src=\"__pv_it/1ad9438eec31cc6ab76c401e45ba17180946b8060/expr.png\" style=\"display:inline;vertical-align:middle;\" /></a><br>"
      ],
      "text/plain": [
       "nestedOperationFromSub: (x * 5 * omega)!"
      ]
     },
     "execution_count": 57,
     "metadata": {},
     "output_type": "execute_result"
    }
   ],
   "source": [
    "nestedOperationFromSub = xFactorial.substituted({x:multExpr})"
   ]
  },
  {
   "cell_type": "markdown",
   "metadata": {},
   "source": [
    "Internally, however, there is specific machinery required to regenerate these objects and construct them with the proper classes.  In order for this machinery to work, the `_operator_` class attribute must be properly defined (e.g., `Factorial._operator_` and `Multiply._operator_`).  To demonstrate that this is working properly, note that the classes displayed in the detailed expression info are as they should be:"
   ]
  },
  {
   "cell_type": "code",
   "execution_count": 58,
   "metadata": {},
   "outputs": [
    {
     "data": {
      "text/html": [
       "<table><tr><th>&nbsp;</th><th>core type</th><th>sub-expressions</th><th>expression</th></tr>\n",
       "<tr><td>0</td><td>Operation</td><td>operator:&nbsp;1<br>operand:&nbsp;2<br></td><td><a class=\"ProveItLink\" href=\"__pv_it/1ad9438eec31cc6ab76c401e45ba17180946b8060/expr.ipynb\"><img src=\"__pv_it/1ad9438eec31cc6ab76c401e45ba17180946b8060/expr.png\" style=\"display:inline;vertical-align:middle;\" /></a></td></tr>\n",
       "<tr><td colspan=4 style=\"text-align:left\"><strong>class:</strong> tutorial.demo_operations.Factorial</td></tr>\n",
       "<tr><td>1</td><td>Literal</td><td></td><td><a class=\"ProveItLink\" href=\"__pv_it/d6af88116966bca28fcbee5fe103a74f1e8a81d50/expr.ipynb\"><img src=\"__pv_it/d6af88116966bca28fcbee5fe103a74f1e8a81d50/expr.png\" style=\"display:inline;vertical-align:middle;\" /></a></td></tr>\n",
       "<tr><td colspan=4 style=\"text-align:left\"><strong>context:</strong> tutorial</td></tr>\n",
       "<tr><td>2</td><td>Operation</td><td>operator:&nbsp;3<br>operands:&nbsp;4<br></td><td><a class=\"ProveItLink\" href=\"__pv_it/2565fdf1866ce9fc049e408921515bff5bff5a040/expr.ipynb\"><img src=\"__pv_it/2565fdf1866ce9fc049e408921515bff5bff5a040/expr.png\" style=\"display:inline;vertical-align:middle;\" /></a></td></tr>\n",
       "<tr><td colspan=4 style=\"text-align:left\"><strong>class:</strong> tutorial.demo_operations.Multiply</td></tr>\n",
       "<tr><td>3</td><td>Literal</td><td></td><td><a class=\"ProveItLink\" href=\"__pv_it/7fa9fd20fee7806a99050bf24ffcbd2251e9b7fe0/expr.ipynb\"><img src=\"__pv_it/7fa9fd20fee7806a99050bf24ffcbd2251e9b7fe0/expr.png\" style=\"display:inline;vertical-align:middle;\" /></a></td></tr>\n",
       "<tr><td colspan=4 style=\"text-align:left\"><strong>context:</strong> tutorial</td></tr>\n",
       "<tr><td>4</td><td>ExprList</td><td>5, 6, 7</td><td><a class=\"ProveItLink\" href=\"__pv_it/ef75f1d75018e14cfdae0b795a5d0b669cfa9c940/expr.ipynb\"><img src=\"__pv_it/ef75f1d75018e14cfdae0b795a5d0b669cfa9c940/expr.png\" style=\"display:inline;vertical-align:middle;\" /></a></td></tr>\n",
       "<tr><td>5</td><td>Variable</td><td></td><td><a class=\"ProveItLink\" href=\"../packages/proveit/__pv_it/530be409e3083890784cf1d7b28c9e67e90af9360/expr.ipynb\"><img src=\"__pv_it/530be409e3083890784cf1d7b28c9e67e90af9360/expr.png\" style=\"display:inline;vertical-align:middle;\" /></a></td></tr>\n",
       "<tr><td>6</td><td>Literal</td><td></td><td><a class=\"ProveItLink\" href=\"__pv_it/084027c5e7faf3e99fe505f569d22a93a32e5b730/expr.ipynb\"><img src=\"__pv_it/084027c5e7faf3e99fe505f569d22a93a32e5b730/expr.png\" style=\"display:inline;vertical-align:middle;\" /></a></td></tr>\n",
       "<tr><td colspan=4 style=\"text-align:left\"><strong>context:</strong> tutorial</td></tr>\n",
       "<tr><td>7</td><td>Variable</td><td></td><td><a class=\"ProveItLink\" href=\"__pv_it/9d7c4e1c5ee4d34a7826567c9ff37cf313ab71e60/expr.ipynb\"><img src=\"__pv_it/9d7c4e1c5ee4d34a7826567c9ff37cf313ab71e60/expr.png\" style=\"display:inline;vertical-align:middle;\" /></a></td></tr>\n",
       "</table>\n"
      ],
      "text/plain": [
       "0. (x * 5 * omega)!\n",
       "   core type: Operation\n",
       "   class: <class 'demo_operations.Factorial'>\n",
       "   operator: 1\n",
       "   operand: 2\n",
       "1. !\n",
       "   core type: Literal\n",
       "   latexFormat: !\n",
       "   context: tutorial\n",
       "   class: <class 'proveit._core_.expression.label.literal.Literal'>\n",
       "   sub-expressions: \n",
       "2. x * 5 * omega\n",
       "   core type: Operation\n",
       "   class: <class 'demo_operations.Multiply'>\n",
       "   operator: 3\n",
       "   operands: 4\n",
       "3. *\n",
       "   core type: Literal\n",
       "   latexFormat: \\times\n",
       "   context: tutorial\n",
       "   class: <class 'proveit._core_.expression.label.literal.Literal'>\n",
       "   sub-expressions: \n",
       "4. (x , 5 , omega)\n",
       "   core type: ExprList\n",
       "   class: <class 'proveit._core_.expression.composite.expr_list.ExprList'>\n",
       "   sub-expressions: 5, 6, 7\n",
       "5. x\n",
       "   core type: Variable\n",
       "   latexFormat: x\n",
       "   class: <class 'proveit._core_.expression.label.var.Variable'>\n",
       "   sub-expressions: \n",
       "6. 5\n",
       "   core type: Literal\n",
       "   latexFormat: 5\n",
       "   context: tutorial\n",
       "   class: <class 'proveit._core_.expression.label.literal.Literal'>\n",
       "   sub-expressions: \n",
       "7. omega\n",
       "   core type: Variable\n",
       "   latexFormat: \\omega\n",
       "   class: <class 'proveit._core_.expression.label.var.Variable'>\n",
       "   sub-expressions: "
      ]
     },
     "execution_count": 58,
     "metadata": {},
     "output_type": "execute_result"
    }
   ],
   "source": [
    "nestedOperationFromSub.exprInfo(details=True)"
   ]
  },
  {
   "cell_type": "markdown",
   "metadata": {},
   "source": [
    "Furthermore, this expression that we obtained via substitution is equivalent to the one constructed directly:"
   ]
  },
  {
   "cell_type": "code",
   "execution_count": 59,
   "metadata": {},
   "outputs": [
    {
     "name": "stdout",
     "output_type": "stream",
     "text": [
      "Expressions, generated in different ways, are the same: True\n"
     ]
    }
   ],
   "source": [
    "print(\"Expressions, generated in different ways, are the same:\", (nestedOperationFromSub == nestedOperation))"
   ]
  },
  {
   "cell_type": "markdown",
   "metadata": {},
   "source": [
    "### Operator substitution/relabeling\n",
    "\n",
    "The *operator* may likewise be *substituted* or *relabeled*, but with some interesting extra capabilities."
   ]
  },
  {
   "cell_type": "markdown",
   "metadata": {},
   "source": [
    "It is straightforward to *relabel* a **Variable** *operator* with another **Variable**."
   ]
  },
  {
   "cell_type": "code",
   "execution_count": 60,
   "metadata": {},
   "outputs": [
    {
     "data": {
      "text/html": [
       "<a class=\"ProveItLink\" href=\"../packages/proveit/__pv_it/89d5be7a1c57e84a6e56aa45006f938a851d441b0/expr.ipynb\"><img src=\"../packages/proveit/__pv_it/89d5be7a1c57e84a6e56aa45006f938a851d441b0/expr.png\" style=\"display:inline;vertical-align:middle;\" /></a>"
      ],
      "text/plain": [
       "g(x)"
      ]
     },
     "execution_count": 60,
     "metadata": {},
     "output_type": "execute_result"
    }
   ],
   "source": [
    "from proveit._common_ import g\n",
    "fx.relabeled({f:g}) # Variable operator to a different Variable"
   ]
  },
  {
   "cell_type": "markdown",
   "metadata": {},
   "source": [
    "And it is straightforward to *substitute* a **Variable** *operator* with a **Literal**.  This is generally not desirable, however, because it may not have the appropriate class."
   ]
  },
  {
   "cell_type": "code",
   "execution_count": 61,
   "metadata": {},
   "outputs": [
    {
     "data": {
      "text/html": [
       "<strong id=\"xFactorial_from_fx\">xFactorial_from_fx:</strong> <a class=\"ProveItLink\" href=\"__pv_it/10c7cba2d7a518a9580def8d63c8f9295fd8d63e0/expr.ipynb\"><img src=\"__pv_it/10c7cba2d7a518a9580def8d63c8f9295fd8d63e0/expr.png\" style=\"display:inline;vertical-align:middle;\" /></a><br>"
      ],
      "text/plain": [
       "xFactorial_from_fx: x!"
      ]
     },
     "execution_count": 61,
     "metadata": {},
     "output_type": "execute_result"
    }
   ],
   "source": [
    "xFactorial_from_fx = fx.substituted({f:FACTORIAL})"
   ]
  },
  {
   "cell_type": "code",
   "execution_count": 62,
   "metadata": {},
   "outputs": [
    {
     "data": {
      "text/html": [
       "<table><tr><th>&nbsp;</th><th>core type</th><th>sub-expressions</th><th>expression</th></tr>\n",
       "<tr><td>0</td><td>Operation</td><td>operator:&nbsp;1<br>operand:&nbsp;2<br></td><td><a class=\"ProveItLink\" href=\"__pv_it/10c7cba2d7a518a9580def8d63c8f9295fd8d63e0/expr.ipynb\"><img src=\"__pv_it/10c7cba2d7a518a9580def8d63c8f9295fd8d63e0/expr.png\" style=\"display:inline;vertical-align:middle;\" /></a></td></tr>\n",
       "<tr><td colspan=4 style=\"text-align:left\"><strong>class:</strong> tutorial.demo_operations.Factorial</td></tr>\n",
       "<tr><td>1</td><td>Literal</td><td></td><td><a class=\"ProveItLink\" href=\"__pv_it/d6af88116966bca28fcbee5fe103a74f1e8a81d50/expr.ipynb\"><img src=\"__pv_it/d6af88116966bca28fcbee5fe103a74f1e8a81d50/expr.png\" style=\"display:inline;vertical-align:middle;\" /></a></td></tr>\n",
       "<tr><td colspan=4 style=\"text-align:left\"><strong>context:</strong> tutorial</td></tr>\n",
       "<tr><td>2</td><td>Variable</td><td></td><td><a class=\"ProveItLink\" href=\"../packages/proveit/__pv_it/530be409e3083890784cf1d7b28c9e67e90af9360/expr.ipynb\"><img src=\"__pv_it/530be409e3083890784cf1d7b28c9e67e90af9360/expr.png\" style=\"display:inline;vertical-align:middle;\" /></a></td></tr>\n",
       "</table>\n"
      ],
      "text/plain": [
       "0. x!\n",
       "   core type: Operation\n",
       "   class: <class 'demo_operations.Factorial'>\n",
       "   operator: 1\n",
       "   operand: 2\n",
       "1. !\n",
       "   core type: Literal\n",
       "   latexFormat: !\n",
       "   context: tutorial\n",
       "   class: <class 'proveit._core_.expression.label.literal.Literal'>\n",
       "   sub-expressions: \n",
       "2. x\n",
       "   core type: Variable\n",
       "   latexFormat: x\n",
       "   class: <class 'proveit._core_.expression.label.var.Variable'>\n",
       "   sub-expressions: "
      ]
     },
     "execution_count": 62,
     "metadata": {},
     "output_type": "execute_result"
    }
   ],
   "source": [
    "xFactorial_from_fx.exprInfo(details=True)"
   ]
  },
  {
   "cell_type": "code",
   "execution_count": 63,
   "metadata": {},
   "outputs": [],
   "source": [
    "assert xFactorial_from_fx == xFactorial # Same"
   ]
  },
  {
   "cell_type": "markdown",
   "metadata": {},
   "source": [
    "It is able to produce generate the new **expression** in the appropriate `Factorial` class via the internal mechanisms that use its `_operator_` class attribute."
   ]
  },
  {
   "cell_type": "markdown",
   "metadata": {},
   "source": [
    "Performing an *expression substitution* of a `Literal` *operator* within an `Operation` class will typically be blocked because it will not know how to make the new **expression**:"
   ]
  },
  {
   "cell_type": "code",
   "execution_count": 64,
   "metadata": {},
   "outputs": [
    {
     "name": "stdout",
     "output_type": "stream",
     "text": [
      "EXPECTED ERROR: An implicit operator may not be changed\n"
     ]
    }
   ],
   "source": [
    "from proveit import OperationError\n",
    "# But this will typically be prevented (appropriately) in trying to remake a derived Operation class:\n",
    "try:\n",
    "    xFactorial.substituted({FACTORIAL:SUMMATION})\n",
    "    assert False, \"Expecting an OperationError error; should not make it to this point\"\n",
    "except OperationError as e:\n",
    "    print(\"EXPECTED ERROR:\", e)"
   ]
  },
  {
   "cell_type": "markdown",
   "metadata": {},
   "source": [
    "### Operation substitution"
   ]
  },
  {
   "cell_type": "markdown",
   "metadata": {},
   "source": [
    "The more interesting and useful case is to *substitute* the `Operation` itself."
   ]
  },
  {
   "cell_type": "code",
   "execution_count": 65,
   "metadata": {
    "scrolled": false
   },
   "outputs": [
    {
     "data": {
      "text/html": [
       "<a class=\"ProveItLink\" href=\"__pv_it/f298b6802ab61432aea8682a150b9f30732ed7760/expr.ipynb\"><img src=\"__pv_it/f298b6802ab61432aea8682a150b9f30732ed7760/expr.png\" style=\"display:inline;vertical-align:middle;\" /></a>"
      ],
      "text/plain": [
       "x!"
      ]
     },
     "execution_count": 65,
     "metadata": {},
     "output_type": "execute_result"
    }
   ],
   "source": [
    "fx.substituted({f:Lambda(y, Factorial(y))})"
   ]
  },
  {
   "cell_type": "markdown",
   "metadata": {},
   "source": [
    "Note that the operand is still $x$ (not $y$).  This is substituting the operation, not the operand.  If desired, however, it could be substituted simultaneously:"
   ]
  },
  {
   "cell_type": "code",
   "execution_count": 66,
   "metadata": {},
   "outputs": [
    {
     "data": {
      "text/html": [
       "<a class=\"ProveItLink\" href=\"__pv_it/17856ef61df51dccbc9c97ee8f8f57a7620651070/expr.ipynb\"><img src=\"__pv_it/17856ef61df51dccbc9c97ee8f8f57a7620651070/expr.png\" style=\"display:inline;vertical-align:middle;\" /></a>"
      ],
      "text/plain": [
       "omega!"
      ]
     },
     "execution_count": 66,
     "metadata": {},
     "output_type": "execute_result"
    }
   ],
   "source": [
    "omegaFactorial = fx.substituted({f:Lambda(y, Factorial(y)), x:omega})\n",
    "omegaFactorial"
   ]
  },
  {
   "cell_type": "code",
   "execution_count": 67,
   "metadata": {},
   "outputs": [
    {
     "data": {
      "text/html": [
       "<table><tr><th>&nbsp;</th><th>core type</th><th>sub-expressions</th><th>expression</th></tr>\n",
       "<tr><td>0</td><td>Operation</td><td>operator:&nbsp;1<br>operand:&nbsp;2<br></td><td><a class=\"ProveItLink\" href=\"__pv_it/17856ef61df51dccbc9c97ee8f8f57a7620651070/expr.ipynb\"><img src=\"__pv_it/17856ef61df51dccbc9c97ee8f8f57a7620651070/expr.png\" style=\"display:inline;vertical-align:middle;\" /></a></td></tr>\n",
       "<tr><td colspan=4 style=\"text-align:left\"><strong>class:</strong> tutorial.demo_operations.Factorial</td></tr>\n",
       "<tr><td>1</td><td>Literal</td><td></td><td><a class=\"ProveItLink\" href=\"__pv_it/d6af88116966bca28fcbee5fe103a74f1e8a81d50/expr.ipynb\"><img src=\"__pv_it/d6af88116966bca28fcbee5fe103a74f1e8a81d50/expr.png\" style=\"display:inline;vertical-align:middle;\" /></a></td></tr>\n",
       "<tr><td colspan=4 style=\"text-align:left\"><strong>context:</strong> tutorial</td></tr>\n",
       "<tr><td>2</td><td>Variable</td><td></td><td><a class=\"ProveItLink\" href=\"__pv_it/9d7c4e1c5ee4d34a7826567c9ff37cf313ab71e60/expr.ipynb\"><img src=\"__pv_it/9d7c4e1c5ee4d34a7826567c9ff37cf313ab71e60/expr.png\" style=\"display:inline;vertical-align:middle;\" /></a></td></tr>\n",
       "</table>\n"
      ],
      "text/plain": [
       "0. omega!\n",
       "   core type: Operation\n",
       "   class: <class 'demo_operations.Factorial'>\n",
       "   operator: 1\n",
       "   operand: 2\n",
       "1. !\n",
       "   core type: Literal\n",
       "   latexFormat: !\n",
       "   context: tutorial\n",
       "   class: <class 'proveit._core_.expression.label.literal.Literal'>\n",
       "   sub-expressions: \n",
       "2. omega\n",
       "   core type: Variable\n",
       "   latexFormat: \\omega\n",
       "   class: <class 'proveit._core_.expression.label.var.Variable'>\n",
       "   sub-expressions: "
      ]
     },
     "execution_count": 67,
     "metadata": {},
     "output_type": "execute_result"
    }
   ],
   "source": [
    "omegaFactorial.exprInfo(details=True)"
   ]
  },
  {
   "cell_type": "markdown",
   "metadata": {},
   "source": [
    "Note that by substituting $f$ with a `Lambda` expression, the entire `Operation` is substituted, not just the *operator*.  This is why `Lambda` *operator*s (only `Label` operators) are not allowed; otherwise, such a substitution could be ambiguous or confusing (should it substitute the `Operation` or substitute the *operator* with the `Lambda` expression?).  This also highlights the fact that **Prove-It** is not a functional programming or lambda calculus.  Rather, **Prove-It** is designed for manipulating expressions as desired, and *operation substitution* is a useful and powerful, yet relatively straightforward tool for doing so."
   ]
  },
  {
   "cell_type": "markdown",
   "metadata": {},
   "source": [
    "### Mocking up **Lambda** operators\n",
    "\n",
    "It would not be consistent with the **Prove-It** philosophy of *freedom of expression* to completely disallow expressions involving a `Lambda` function applied to operand(s).  While having a `Lambda` *operator* for an `Operation` is not allowed, we are free to make an `Operation` class whose *operands* are the `Lambda` function as well as the operand on which we wish to apply the function. As a demonstration, we define such an `Operation`, called `LambdaApplication`, in <a href=\"demo_lambda_app_operation.py\">demo_lambda_app_operation.py</a>."
   ]
  },
  {
   "cell_type": "code",
   "execution_count": 68,
   "metadata": {},
   "outputs": [],
   "source": [
    "# %load demo_lambda_app_operation\n",
    "'''\n",
    "Module that defines a LambdaApplication Operation\n",
    "class for demonstration purposes in this tutorial.\n",
    "'''\n",
    "\n",
    "from proveit import Operation, Literal, NamedExprs\n",
    "\n",
    "class LambdaApplication(Operation):\n",
    "    _operator_ = Literal('LAMBDA_APPLICATION', r'\\rm{LAMBDA\\_APPLICATION}')\n",
    "    \n",
    "    def __init__(self, lambdaFn, operand):\n",
    "        Operation.__init__(self, LambdaApplication._operator_, NamedExprs([('lambdaFn',lambdaFn), ('operand',operand)]))\n",
    "        self.lambdaFn = self.operands['lambdaFn'] # The Lambda function operand\n",
    "        self.lambdaOperand = self.operands['operand'] # The operand of the Lambda function\n",
    "    \n",
    "    def string(self, **kwargs): # should accept kwargs even when not used (e.g., 'fence')\n",
    "        return self.lambdaFn.string(fence=True) + '(' + self.lambdaOperand.string() + ')'\n",
    "    \n",
    "    def latex(self, **kwargs): # should accept kwargs even when not used (e.g., 'fence')\n",
    "        return self.lambdaFn.latex(fence=True) + '(' + self.lambdaOperand.latex() + ')'\n"
   ]
  },
  {
   "cell_type": "code",
   "execution_count": 69,
   "metadata": {},
   "outputs": [],
   "source": [
    "from demo_lambda_app_operation import LambdaApplication"
   ]
  },
  {
   "cell_type": "code",
   "execution_count": 70,
   "metadata": {},
   "outputs": [
    {
     "data": {
      "text/html": [
       "<strong id=\"lambdaAppExpr\">lambdaAppExpr:</strong> <a class=\"ProveItLink\" href=\"__pv_it/ea69319740ece1b99b3f7ca7398eddbe4b49d0f40/expr.ipynb\"><img src=\"__pv_it/ea69319740ece1b99b3f7ca7398eddbe4b49d0f40/expr.png\" style=\"display:inline;vertical-align:middle;\" /></a><br>"
      ],
      "text/plain": [
       "lambdaAppExpr: [y -> y!](x)"
      ]
     },
     "execution_count": 70,
     "metadata": {},
     "output_type": "execute_result"
    }
   ],
   "source": [
    "lambdaAppExpr = LambdaApplication(Lambda(y, Factorial(y)), x)"
   ]
  },
  {
   "cell_type": "markdown",
   "metadata": {},
   "source": [
    "Note that the `_operator_` of the `LambdaApplication` s not displayed but is implicit in the context of the lambda application formatting.  Also, we made use of `NamedExprs` which will be discussed next.  Let us take a look at the expression information."
   ]
  },
  {
   "cell_type": "code",
   "execution_count": 71,
   "metadata": {},
   "outputs": [
    {
     "data": {
      "text/html": [
       "<table><tr><th>&nbsp;</th><th>core type</th><th>sub-expressions</th><th>expression</th></tr>\n",
       "<tr><td>0</td><td>Operation</td><td>operator:&nbsp;1<br>operands:&nbsp;2<br></td><td><a class=\"ProveItLink\" href=\"__pv_it/ea69319740ece1b99b3f7ca7398eddbe4b49d0f40/expr.ipynb\"><img src=\"__pv_it/ea69319740ece1b99b3f7ca7398eddbe4b49d0f40/expr.png\" style=\"display:inline;vertical-align:middle;\" /></a></td></tr>\n",
       "<tr><td colspan=4 style=\"text-align:left\"><strong>class:</strong> tutorial.demo_lambda_app_operation.LambdaApplication</td></tr>\n",
       "<tr><td>1</td><td>Literal</td><td></td><td><a class=\"ProveItLink\" href=\"__pv_it/b972b254f0859e9da344ee20375eddf3388d76660/expr.ipynb\"><img src=\"__pv_it/b972b254f0859e9da344ee20375eddf3388d76660/expr.png\" style=\"display:inline;vertical-align:middle;\" /></a></td></tr>\n",
       "<tr><td colspan=4 style=\"text-align:left\"><strong>context:</strong> tutorial</td></tr>\n",
       "<tr><td>2</td><td>NamedExprs</td><td>lambdaFn: 3<br>operand: 4<br></td><td><a class=\"ProveItLink\" href=\"__pv_it/d02eb9893db949c88d9d38f1d0d29ee34d9e51e10/expr.ipynb\"><img src=\"__pv_it/d02eb9893db949c88d9d38f1d0d29ee34d9e51e10/expr.png\" style=\"display:inline;vertical-align:middle;\" /></a></td></tr>\n",
       "<tr><td>3</td><td>Lambda</td><td>parameter:&nbsp;7<br>body:&nbsp;5<br></td><td><a class=\"ProveItLink\" href=\"__pv_it/6416a795026847564c8dd831a4e74090b86f10750/expr.ipynb\"><img src=\"__pv_it/6416a795026847564c8dd831a4e74090b86f10750/expr.png\" style=\"display:inline;vertical-align:middle;\" /></a></td></tr>\n",
       "<tr><td>4</td><td>Variable</td><td></td><td><a class=\"ProveItLink\" href=\"../packages/proveit/__pv_it/530be409e3083890784cf1d7b28c9e67e90af9360/expr.ipynb\"><img src=\"__pv_it/530be409e3083890784cf1d7b28c9e67e90af9360/expr.png\" style=\"display:inline;vertical-align:middle;\" /></a></td></tr>\n",
       "<tr><td>5</td><td>Operation</td><td>operator:&nbsp;6<br>operand:&nbsp;7<br></td><td><a class=\"ProveItLink\" href=\"__pv_it/26a0e35b392fe0647ba3a0907c7e4dd1d46cdbc60/expr.ipynb\"><img src=\"__pv_it/26a0e35b392fe0647ba3a0907c7e4dd1d46cdbc60/expr.png\" style=\"display:inline;vertical-align:middle;\" /></a></td></tr>\n",
       "<tr><td colspan=4 style=\"text-align:left\"><strong>class:</strong> tutorial.demo_operations.Factorial</td></tr>\n",
       "<tr><td>6</td><td>Literal</td><td></td><td><a class=\"ProveItLink\" href=\"__pv_it/d6af88116966bca28fcbee5fe103a74f1e8a81d50/expr.ipynb\"><img src=\"__pv_it/d6af88116966bca28fcbee5fe103a74f1e8a81d50/expr.png\" style=\"display:inline;vertical-align:middle;\" /></a></td></tr>\n",
       "<tr><td colspan=4 style=\"text-align:left\"><strong>context:</strong> tutorial</td></tr>\n",
       "<tr><td>7</td><td>Variable</td><td></td><td><a class=\"ProveItLink\" href=\"../packages/proveit/__pv_it/f8b9edf8e16034727f0aad55bb83e392c3db40d40/expr.ipynb\"><img src=\"../packages/proveit/__pv_it/f8b9edf8e16034727f0aad55bb83e392c3db40d40/expr.png\" style=\"display:inline;vertical-align:middle;\" /></a></td></tr>\n",
       "</table>\n"
      ],
      "text/plain": [
       "0. [y -> y!](x)\n",
       "   core type: Operation\n",
       "   class: <class 'demo_lambda_app_operation.LambdaApplication'>\n",
       "   operator: 1\n",
       "   operands: 2\n",
       "1. LAMBDA_APPLICATION\n",
       "   core type: Literal\n",
       "   latexFormat: {\\rm LAMBDA\\_APPLICATION}\n",
       "   context: tutorial\n",
       "   class: <class 'proveit._core_.expression.label.literal.Literal'>\n",
       "   sub-expressions: \n",
       "2. {lambdaFn:[y -> y!], operand:x}\n",
       "   core type: NamedExprs\n",
       "   class: <class 'proveit._core_.expression.composite.named_exprs.NamedExprs'>\n",
       "   lambdaFn: 3\n",
       "   operand: 4\n",
       "3. y -> y!\n",
       "   core type: Lambda\n",
       "   class: <class 'proveit._core_.expression.lambda_expr.lambda_expr.Lambda'>\n",
       "   parameter: 7\n",
       "   body: 5\n",
       "4. x\n",
       "   core type: Variable\n",
       "   latexFormat: x\n",
       "   class: <class 'proveit._core_.expression.label.var.Variable'>\n",
       "   sub-expressions: \n",
       "5. y!\n",
       "   core type: Operation\n",
       "   class: <class 'demo_operations.Factorial'>\n",
       "   operator: 6\n",
       "   operand: 7\n",
       "6. !\n",
       "   core type: Literal\n",
       "   latexFormat: !\n",
       "   context: tutorial\n",
       "   class: <class 'proveit._core_.expression.label.literal.Literal'>\n",
       "   sub-expressions: \n",
       "7. y\n",
       "   core type: Variable\n",
       "   latexFormat: y\n",
       "   class: <class 'proveit._core_.expression.label.var.Variable'>\n",
       "   sub-expressions: "
      ]
     },
     "execution_count": 71,
     "metadata": {},
     "output_type": "execute_result"
    }
   ],
   "source": [
    "lambdaAppExpr.exprInfo(details=True)"
   ]
  },
  {
   "cell_type": "markdown",
   "metadata": {},
   "source": [
    "**Axioms** could then be created to define how the `LambdaApplication` **operation** actually operates, but **axioms** will be discussed in a later chapter."
   ]
  },
  {
   "cell_type": "markdown",
   "metadata": {},
   "source": [
    "NamedExprs\n",
    "=========\n",
    "\n",
    "`NamedExprs` is a composite **expression** that maps string keywords to sub-**expressions**.  The reason that this may be desired is to be explicit in the internal representation about the role of each sub-**expression** so there is no ambiguity between the internal and external representation.  A good example is `lambdaAppExpr` above where one *operand* plays the role of the lambda function and the other *operand* plays the role of the lambda function's operand."
   ]
  },
  {
   "cell_type": "markdown",
   "metadata": {},
   "source": [
    "Here is a more rudimentary demonstration of using **NamedExpressions**:"
   ]
  },
  {
   "cell_type": "code",
   "execution_count": 72,
   "metadata": {},
   "outputs": [
    {
     "data": {
      "text/html": [
       "<a class=\"ProveItLink\" href=\"__pv_it/9941d721133c0007c4611b8db3d6d78ef27ca3a50/expr.ipynb\"><img src=\"__pv_it/9941d721133c0007c4611b8db3d6d78ef27ca3a50/expr.png\" style=\"display:inline;vertical-align:middle;\" /></a>"
      ],
      "text/plain": [
       "{left:x, right:y, product:(x * y)}"
      ]
     },
     "execution_count": 72,
     "metadata": {},
     "output_type": "execute_result"
    }
   ],
   "source": [
    "from proveit import NamedExprs\n",
    "NamedExprs([('left',x), ('right',y), ('product',Multiply(x, y))])"
   ]
  },
  {
   "cell_type": "markdown",
   "metadata": {},
   "source": [
    "To produce a `NamedExprs` object, you must supply a list of (keyword, `Expression`) pairs.  The keywords must be strings.  When the **NamedExprs** is displayed, it will show each of these pairs in the order that they were originally provided."
   ]
  },
  {
   "cell_type": "markdown",
   "metadata": {},
   "source": [
    "<a name=\"ExprList\"></a>ExprList\n",
    "====================\n",
    "\n",
    "We have seen examples of `ExprList`s above.  On its own, it is simple.  It becomes more interesting when we discuss `Iter`s below."
   ]
  },
  {
   "cell_type": "code",
   "execution_count": 73,
   "metadata": {},
   "outputs": [
    {
     "data": {
      "text/html": [
       "<strong id=\"xy\">xy:</strong> <a class=\"ProveItLink\" href=\"__pv_it/456ecced626d4e9a804b9e6eae2e02d31d6a33f50/expr.ipynb\"><img src=\"__pv_it/456ecced626d4e9a804b9e6eae2e02d31d6a33f50/expr.png\" style=\"display:inline;vertical-align:middle;\" /></a><br>"
      ],
      "text/plain": [
       "xy: (x , y)"
      ]
     },
     "execution_count": 73,
     "metadata": {},
     "output_type": "execute_result"
    }
   ],
   "source": [
    "from proveit import ExprList\n",
    "xy = ExprList(x, y)"
   ]
  },
  {
   "cell_type": "code",
   "execution_count": 74,
   "metadata": {},
   "outputs": [
    {
     "data": {
      "text/html": [
       "<strong id=\"xyz\">xyz:</strong> <a class=\"ProveItLink\" href=\"__pv_it/296479de65b64e4916937db7d77282be287cb5880/expr.ipynb\"><img src=\"__pv_it/296479de65b64e4916937db7d77282be287cb5880/expr.png\" style=\"display:inline;vertical-align:middle;\" /></a><br>"
      ],
      "text/plain": [
       "xyz: (x , y , z)"
      ]
     },
     "execution_count": 74,
     "metadata": {},
     "output_type": "execute_result"
    }
   ],
   "source": [
    "xyz = ExprList(x, y, z)"
   ]
  },
  {
   "cell_type": "markdown",
   "metadata": {},
   "source": [
    "Substitution is straightforward:"
   ]
  },
  {
   "cell_type": "code",
   "execution_count": 75,
   "metadata": {},
   "outputs": [
    {
     "data": {
      "text/html": [
       "<a class=\"ProveItLink\" href=\"__pv_it/7df2039d553fc10d4e49382fa5720113d57f297d0/expr.ipynb\"><img src=\"__pv_it/7df2039d553fc10d4e49382fa5720113d57f297d0/expr.png\" style=\"display:inline;vertical-align:middle;\" /></a>"
      ],
      "text/plain": [
       "(x , y , (x * 5 * omega)!)"
      ]
     },
     "execution_count": 75,
     "metadata": {},
     "output_type": "execute_result"
    }
   ],
   "source": [
    "fancyList = xyz.substituted({z:nestedOperation})\n",
    "fancyList"
   ]
  },
  {
   "cell_type": "code",
   "execution_count": 76,
   "metadata": {},
   "outputs": [
    {
     "data": {
      "text/html": [
       "<a class=\"ProveItLink\" href=\"__pv_it/5b005c6472db4ab258e4291113f06672c66ba34c0/expr.ipynb\"><img src=\"__pv_it/5b005c6472db4ab258e4291113f06672c66ba34c0/expr.png\" style=\"display:inline;vertical-align:middle;\" /></a>"
      ],
      "text/plain": [
       "((x * 5 * omega)! , y , ((x * 5 * omega)! * 5 * omega)!)"
      ]
     },
     "execution_count": 76,
     "metadata": {},
     "output_type": "execute_result"
    }
   ],
   "source": [
    "# Let's keep it up\n",
    "fancierList = fancyList.substituted({x:nestedOperation})\n",
    "fancierList"
   ]
  },
  {
   "cell_type": "markdown",
   "metadata": {},
   "source": [
    "Nesting `ExprList`s is possible:"
   ]
  },
  {
   "cell_type": "code",
   "execution_count": 77,
   "metadata": {},
   "outputs": [
    {
     "data": {
      "text/html": [
       "<a class=\"ProveItLink\" href=\"__pv_it/2d8e27e22afab372709b887cd57c1c8c475b4b3d0/expr.ipynb\"><img src=\"__pv_it/2d8e27e22afab372709b887cd57c1c8c475b4b3d0/expr.png\" style=\"display:inline;vertical-align:middle;\" /></a>"
      ],
      "text/plain": [
       "(x , (y , z))"
      ]
     },
     "execution_count": 77,
     "metadata": {},
     "output_type": "execute_result"
    }
   ],
   "source": [
    "ExprList(x, ExprList(y, z))"
   ]
  },
  {
   "cell_type": "markdown",
   "metadata": {},
   "source": [
    "It is also useful to note that, as a convenience, python lists of **expressions** are typically transformed automatically into an `ExprList` when they are passed into **Prove-It** methods that accept or expect them for that argument.  For example, the following generates the same **expression** as above."
   ]
  },
  {
   "cell_type": "code",
   "execution_count": 78,
   "metadata": {},
   "outputs": [
    {
     "data": {
      "text/html": [
       "<a class=\"ProveItLink\" href=\"__pv_it/2d8e27e22afab372709b887cd57c1c8c475b4b3d0/expr.ipynb\"><img src=\"__pv_it/2d8e27e22afab372709b887cd57c1c8c475b4b3d0/expr.png\" style=\"display:inline;vertical-align:middle;\" /></a>"
      ],
      "text/plain": [
       "(x , (y , z))"
      ]
     },
     "execution_count": 78,
     "metadata": {},
     "output_type": "execute_result"
    }
   ],
   "source": [
    "ExprList(x, [y, z])"
   ]
  },
  {
   "cell_type": "markdown",
   "metadata": {},
   "source": [
    "<a name=\"AdvancedExprs\"></a>Advanced Expressions\n",
    "====================\n",
    "\n",
    "More advanced types of expressions will be discussed in a <a href=\"tutorial10_advanced_expr.ipynb\">later chapter</a>.  These advanced expressions allow multi-dimensional representations of mathematical structure (for example, explicit matrix representations or quantum circuits) via the <a href=\"tutorial10_advanced_expr.ipynb#ExprT?ensor\">`ExprTensor`</a> type as well as iterated ranges within lists or tensors via the <a href=\"tutorial10_advanced_expr.ipynb#ExprTensor\">`Iter`</a> type (e.g., $x_1 +~\\ldots~+ x_n$).  These advanced expression types are useful in forming explicit representations commonly used to communicate mathematical concepts.  They are not necessary, however, in general theorem proving.  One could choose not to use such constructs and only represent such concepts via implicit representations and recursion.  Following the **Prove-It** philosophy, however, we want to allow the use of explicit representation tied as directly as possible into our formal proofs.  But we will skip these for now so we can cover our theorem proving concepts without this extra complication."
   ]
  },
  {
   "cell_type": "code",
   "execution_count": 79,
   "metadata": {},
   "outputs": [],
   "source": [
    "%end basic_expressions"
   ]
  },
  {
   "cell_type": "markdown",
   "metadata": {},
   "source": [
    "# Next chapter: <a class=\"ProveItLink\" href=\"tutorial02_proof_basics.ipynb\">Proof Basics</a>\n",
    "\n",
    "## <a class=\"ProveItLink\" href=\"tutorial00_introduction.ipynb#contents\">Table of Contents</a>"
   ]
  }
 ],
 "metadata": {
  "kernelspec": {
   "display_name": "Python 3",
   "language": "python",
   "name": "python3"
  },
  "language_info": {
   "codemirror_mode": {
    "name": "ipython",
    "version": 3
   },
   "file_extension": ".py",
   "mimetype": "text/x-python",
   "name": "python",
   "nbconvert_exporter": "python",
   "pygments_lexer": "ipython3",
   "version": "3.7.3"
  }
 },
 "nbformat": 4,
 "nbformat_minor": 1
}
