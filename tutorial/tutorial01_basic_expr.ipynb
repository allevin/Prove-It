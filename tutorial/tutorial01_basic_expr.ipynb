{
 "cells": [
  {
   "cell_type": "markdown",
   "metadata": {},
   "source": [
    "Chapter 1. Basic Expressions\n",
    "=======\n",
    "\n",
    "Expressions in **Prove-It** are fundamental and versatile.  In order to prove some statement to be true, you must be able to express the statement that you want to prove, and express each axiom and each theorem that is used to construct the proof as well as intermediate statements along the way.  \n",
    "**Expressions** form the basis for **known truths** that are used in the derivation steps of a **proof** and will be discussed later.\n",
    "An expression is a tree-like data structure (technically a directed acyclic graph, DAG, since there may be multiple instances of the same sub-expression).  As a Python object, its base class is `proveit._core_.expression.expr.Expression` (also aliased as `proveit.Expression` via \"`from ... import ...`\" Python statements within `__init__.py` files):"
   ]
  },
  {
   "cell_type": "code",
   "execution_count": 1,
   "metadata": {},
   "outputs": [
    {
     "data": {
      "text/plain": [
       "proveit._core_.expression.expr.Expression"
      ]
     },
     "execution_count": 1,
     "metadata": {},
     "output_type": "execute_result"
    }
   ],
   "source": [
    "from proveit import Expression\n",
    "%begin basic_expressions\n",
    "Expression"
   ]
  },
  {
   "cell_type": "markdown",
   "metadata": {},
   "source": [
    "Each `Expression` object has a class that is derived one of the \"core\" `Expression` classes listed below (each of which is derived from `proveit._core_.expression.expr.Expression`).  The list is reproduced from our <a class=\"ProveItLink\" href=\"../guide.ipynb\">Guide to the Prove-It Library of Proofs</a> but more details and some code examples are provided below in this tutorial.  These \"core\" types of expressions, in the order that we will be discussing the below, are:\n",
    "* <a href=\"#Variable\">`Variable`</a>: A label that is interchangeable (as long as it is kept distinct from different labels) with no intrinsic meaning.  It is often represented by a single letter ($a$, $b$, $x$, $y$, etc.) but can have any representation.\n",
    "* <a href=\"#Literal\">`Literal`</a>: A label that is not interchangeable and has an intrinsic meaning.  Specific operators ($\\lnot, \\land, +, \\times$, etc.) and specific irreducibe values ($\\top, \\bot, 0, 5$, etc.) are all `Literal`s.  Furthermore, a problem-story `Variable` in a particular **context**, representing some unknown but particular value, should also be a `Literal` (e.g., \"Ann has $a$ apples...\").\n",
    "* <a href=\"#ExprTuple\">`ExprTuple`</a>: A list of `Expression`s that is used, for example, when there are multiple *operators* or *operands* of an `Operation`, or multiple *parameters* of a `Lambda`, or multiple *conditions* and corresponding *values* of a `Conditional`.\n",
    "* <a href=\"#Operation\">`Operation`</a>: The application of *operator(s)* on *operand(s)*.  For example, $0 + 5 + 8$ and $1 < a \\leq b < 3$ are examples of *operation* expressions.  The **Prove-It** library defines many *types* derived from the *operation* type (e.g., for each specific operation), but all *operations* have the same behavior with respect to substitution rules that will be described below.\n",
    "* <a href=\"#Conditional\">`Conditional`</a>: An expression that has one or more *conditions* with associated *values*.  For example, consider this definition for the absolute value of an integer: $\\{x~|~x \\geq 0; -x~|~x < 0\\}$ A *value* is only pertinent if its associated *condition* is satisfied (a **known truth**).  Via axioms, a `Conditional` equates to one of its *values* if its associated *condition* is proven the be true and all of its other *conditions* are proven to false.  With respect to substitution rules, the substitution of a *value* may utilize the fact that its *condition* must be satisfied in order to be pertinent, and therefore its *condition* may be assumed within the context of performing substution for the *value*.\n",
    "* <a href=\"#Lambda\">`Lambda`</a>: A mapping defined by *parameter* `Variable`s (and/or *iterations* of *indexed variables* described below with the `Iter` and `IndexedVar` core classes) transforming to some *body* `Expression`.  For example, $(x, y, z) \\mapsto \\{x+y/z~|~(x \\in \\mathbb{R}) \\land (y \\in \\mathbb{R}) \\land (z \\in \\mathbb{R}) \\land (z \\neq 0)\\}$ is a `Lambda` with a `Conditional` *body* that converts three real numbers $x, y, z$ to $x + y/z$ as long as $z$ is not zero.  Note that a `Lambda` introduces `Variables` into a new scope via the *parameters*.  These *parameter* `Variable`s are said to be *bound* in this new scope; occurrences outside this scope are not deemed to be the same thing. There is a special category of `Operation` types called `OperationOverInstances` that are essentially functionals acting on a `Lambda` operand.  $\\forall$, $\\exists$, $\\sum$, and $\\prod$ are examples of `OperationOverInstances`.  For example, $\\forall_{x~|~Q(x)} P(x)$ is an expression that translates to \"$P(x)$ is true for all values of $x$ for which $Q(x)$ is also true\".  Internally, this is represented as an $\\forall$ operator acting on the `Lambda` map with a `Conditional` *body*: $x \\mapsto \\{P(x)~|~Q(x)\\}$.\n",
    "* <a href=\"#NamedExprs\">`NamedExprs`</a>: A mapping from keyword strings to `Expression`s.  This can be used to prevent ambiguity of an expression's internal representation.\n",
    "* <a href=\"#Iter\">`Iter`</a>: Represents an iteration of a *parameter* going from a *start* index to an *end* index in successive unit increments ($+1$).  It has a `Lambda` map with a `Conditional` body as its sole sub-expression.\n",
    "For example, $1/(x+i) + ... + 1/(x+j)$ is essentially an `Operation` with `+` as the *operator* and an `Iter` as the *operand*.  This `Iter` in this case is $1/(x+i), ..., 1/(x+j)$.  The sub-expression of this `Iter` may be denoted as $k \\mapsto \\{1/(x+k)~|~k \\in i .. j\\}$ where $k$ is an arbitrary `Lambda` *parameter* and $i .. j$ denotes an integer interval. \n",
    "* <a href=\"#IndexedVar\">`IndexedVar`</a>: A special kind of `Operation` that indexes a `Variable`.  It treats the `Variable` being indexed as the *operator* and the *index* as the *operand*.  For example: $a_1$, $x_i$, $x_{i+1}$, etc.  An *iteration* if *indexed* *variables* acts as a collection of labels, however.  For example: $a_1, ..., a_n$ is a collection of $n$ labels and can be used as *parameters* of a `Lambda` map and has special substitution rules in which an `Iter` may be expanded to multiple entries within an `ExprTuple`."
   ]
  },
  {
   "cell_type": "markdown",
   "metadata": {},
   "source": [
    "Developers and users may derive new classes from core `Expression` classes (`Literal` and `Operation` classes in order to make their own `Expression` classes that have special formatting rules for displaying the **expression** and methods for manipulating and utilizing the expression (i.e., applying theorems or axioms as will be discussed in later tutorial chapters).  Ideally, the formatting should be in direct correspondence with the structure of the `Expression` as a true reflection of the internal representation, but there is no enforcement mechanism to ensure that this is the case.  Users are advised to inspect the fully explicit expression DAGs of important axioms and theorems (or rely on crowdsource checking).  Conveniently, clicking on any **expression** rendered as LaTeX will link to a notebook that, when executed, will reveal this internal structure.  (Alternatively, the `exprInfo()` method may be called).\n",
    "\n",
    "The remainder of this tutorial chapter will show examples and discuss details of the different core `Expression` classes and discuss their distinct behaviors with respect to *substitution* as well as *meaning* versus *style* equivalence.\n",
    "\n",
    "The following are related but distinct manipulations in **Prove-It**:\n",
    "* *Expression substutition*: creating a new **expression** from an existing **expression** by swapping one or more sub-expression(s) for other sub-expression(s) by using the `substituted` method.  This creates a new `Expression` but has nothing to do, intrinsically, with proving statements.\n",
    "* *Instantiation* derivation step: deriving a new **known truth** from an existing **known truth** via *expression substitution* using specific rules and limitations to ensure that the derivation is sound.  This will be discussed in a later tutorial chapter.\n",
    "* *Equality substitution*: using the `substitution` axiom of `proveit.logic.equality` to prove that $f(x) = f(y)$ given $x = y$.  This uses *instantiation* of the `substitution` axiom which states $\\forall_{f, x, y~|~x=y}~(f(x) = f(y))$.  This specifically involves statements (**known truths**) with the `proveit.logic.equality.equals._operator_` **Literal** (the `=` sign). This will be discussed in a later tutorial chapter.\n",
    "\n",
    "The focus here will be *expression substitution* with some mention of the additional restrictions applicable to the *instantiation* derivation step before delving into more details in later chapters.  It is important to understand the distinctions among these types of manipulations."
   ]
  },
  {
   "cell_type": "markdown",
   "metadata": {},
   "source": [
    "<a name=\"#Label\"></a>Labels (Variables, IndexedVars, and Literals)\n",
    "================================"
   ]
  },
  {
   "cell_type": "code",
   "execution_count": 2,
   "metadata": {},
   "outputs": [],
   "source": [
    "from proveit import Label"
   ]
  },
  {
   "cell_type": "markdown",
   "metadata": {},
   "source": [
    "The `Variable` and `Literal` classes both derive from `Label`.  A `Label` is created with a string and a LaTeX format specification to determine how it is displayed.  In a Jupyter notebook, the LaTeX is rendered and presented in the output:"
   ]
  },
  {
   "cell_type": "code",
   "execution_count": 3,
   "metadata": {},
   "outputs": [
    {
     "data": {
      "text/html": [
       "<strong id=\"tri\">tri:</strong> <a class=\"ProveItLink\" href=\"__pv_it/7c8c594fe44b5ca95e7230a15dd7d6577c99fa460/expr.ipynb\"><img src=\"data:image/png;base64,iVBORw0KGgoAAAANSUhEUgAAABEAAAAPBAMAAADwnzkiAAAAMFBMVEX///8QEBBERER2dnaIiIiY\n",
       "mJju7u4iIiLc3NxmZmaqqqrMzMwyMjJUVFS6uroAAAAvYYvtAAAAAXRSTlMAQObYZgAAAAlwSFlz\n",
       "AAAOxAAADsQBlSsOGwAAAGFJREFUCNdjYGBg4LvAAAU8p2GslT0wVhnvAwiD1YHtAITFzsBgCmEB\n",
       "qXQwg62AgYHFAcTiXAAkCkAssBHBIOIeWFcCAwOHAojFNYGBgWkDWN8JBoa9EKPeMjBcLAeD+gQA\n",
       "Nu4SiD+3xFAAAAAASUVORK5CYII=\n",
       "\" style=\"display:inline;vertical-align:middle;\" /></a><br>"
      ],
      "text/plain": [
       "tri: triangle"
      ]
     },
     "execution_count": 3,
     "metadata": {},
     "output_type": "execute_result"
    }
   ],
   "source": [
    "tri = Label(stringFormat='triangle', latexFormat=r'\\triangle')"
   ]
  },
  {
   "cell_type": "markdown",
   "metadata": {},
   "source": [
    "After importing anything from `proveit` in a Jupyter notebook, whenever assignments are made at the end of an input cell the output shows the name of the assigned Python variable (not to be confused with a **Prove-It** *Variable*) followed by ':' and its rendered value.  In the above input, we have assigned `tri` to a `Label` object we have created which renders as a triangle shape.  For convenience, this Python variable name and shape appear in the output without any additional code.  The string format is presented when the object is converted to a string and is a useful alternate representation (used, for example, in error messages that are displayed as strings)."
   ]
  },
  {
   "cell_type": "code",
   "execution_count": 4,
   "metadata": {},
   "outputs": [
    {
     "data": {
      "text/plain": [
       "'triangle'"
      ]
     },
     "execution_count": 4,
     "metadata": {},
     "output_type": "execute_result"
    }
   ],
   "source": [
    "str(tri)"
   ]
  },
  {
   "cell_type": "markdown",
   "metadata": {},
   "source": [
    "The breakdown of an **expression** into its DAG structure is displayed by calling `exprInfo()`.  Clicking on the **expression** is also a way to view this information, linking to a page that shows a canonical way to build the **expression** and calling `exprInfo()` on that built **expression**.  Here we see that the `tri` is a `Label` with no sub-expressions."
   ]
  },
  {
   "cell_type": "code",
   "execution_count": 5,
   "metadata": {},
   "outputs": [
    {
     "data": {
      "text/html": [
       "<table><tr><th>&nbsp;</th><th>core type</th><th>sub-expressions</th><th>expression</th></tr>\n",
       "<tr><td>0</td><td>Label</td><td></td><td><a class=\"ProveItLink\" href=\"__pv_it/7c8c594fe44b5ca95e7230a15dd7d6577c99fa460/expr.ipynb\"><img src=\"data:image/png;base64,iVBORw0KGgoAAAANSUhEUgAAABEAAAAPBAMAAADwnzkiAAAAMFBMVEX///8QEBBERER2dnaIiIiY\n",
       "mJju7u4iIiLc3NxmZmaqqqrMzMwyMjJUVFS6uroAAAAvYYvtAAAAAXRSTlMAQObYZgAAAAlwSFlz\n",
       "AAAOxAAADsQBlSsOGwAAAGFJREFUCNdjYGBg4LvAAAU8p2GslT0wVhnvAwiD1YHtAITFzsBgCmEB\n",
       "qXQwg62AgYHFAcTiXAAkCkAssBHBIOIeWFcCAwOHAojFNYGBgWkDWN8JBoa9EKPeMjBcLAeD+gQA\n",
       "Nu4SiD+3xFAAAAAASUVORK5CYII=\n",
       "\" style=\"display:inline;vertical-align:middle;\" /></a></td></tr>\n",
       "</table>\n"
      ],
      "text/plain": [
       "0. triangle\n",
       "   core type: Label\n",
       "   sub-expressions: "
      ]
     },
     "execution_count": 5,
     "metadata": {},
     "output_type": "execute_result"
    }
   ],
   "source": [
    "tri.exprInfo() # the expressions and sub-expressions are numbered with the top level being zero."
   ]
  },
  {
   "cell_type": "markdown",
   "metadata": {},
   "source": [
    "`Label` was not one of the core **expression** types listed above because it is not intended to be used except as the base class of `Variable`, `IndexedVar`, and `Literal`.  Notwithstanding, `Label` is displayed as the core type.\n",
    "Two Label's are regarded to be the same expression if and only if the class and both formats (string and LaTeX), are the same:"
   ]
  },
  {
   "cell_type": "code",
   "execution_count": 6,
   "metadata": {},
   "outputs": [],
   "source": [
    "assert tri == Label('triangle', r'\\triangle') # equal b/c class (Label) is the same and\n",
    "                                              # the string and LaTex formats are the same\n",
    "    \n",
    "assert tri != Label('tri', r'\\triangle')      # not equal when class or either format is different\n",
    "                                              # Class for both is Label, but string format different"
   ]
  },
  {
   "cell_type": "markdown",
   "metadata": {},
   "source": [
    "Let's make another label to test out `substituted()` method."
   ]
  },
  {
   "cell_type": "code",
   "execution_count": 7,
   "metadata": {},
   "outputs": [
    {
     "data": {
      "text/html": [
       "<strong id=\"sq\">sq:</strong> <a class=\"ProveItLink\" href=\"__pv_it/2b0e32e81242cecdb075604772e2c9a0692a492f0/expr.ipynb\"><img src=\"data:image/png;base64,iVBORw0KGgoAAAANSUhEUgAAAA4AAAAOAgMAAABiJsVCAAAADFBMVEX///8iIiIyMjIAAAB/i5ic\n",
       "AAAAAXRSTlMAQObYZgAAAAlwSFlzAAAOxAAADsQBlSsOGwAAABZJREFUCNdjmBoaGsDgwMAgQC4B\n",
       "MgAA9M8G39geguYAAAAASUVORK5CYII=\n",
       "\" style=\"display:inline;vertical-align:middle;\" /></a><br>"
      ],
      "text/plain": [
       "sq: square"
      ]
     },
     "execution_count": 7,
     "metadata": {},
     "output_type": "execute_result"
    }
   ],
   "source": [
    "sq =  Label(stringFormat='square', latexFormat=r'\\Box')"
   ]
  },
  {
   "cell_type": "markdown",
   "metadata": {},
   "source": [
    "Using *expression substitution*, we can change one `Label` into another or into any other `Expression`.  Later we'll see that *instantiation* is more restrictive, only being applicable to `Variable`s and not any `Label`, but for *expression substitution* this is fine."
   ]
  },
  {
   "cell_type": "code",
   "execution_count": 8,
   "metadata": {},
   "outputs": [
    {
     "data": {
      "text/html": [
       "<a class=\"ProveItLink\" href=\"__pv_it/2b0e32e81242cecdb075604772e2c9a0692a492f0/expr.ipynb\"><img src=\"data:image/png;base64,iVBORw0KGgoAAAANSUhEUgAAAA4AAAAOAgMAAABiJsVCAAAADFBMVEX///8iIiIyMjIAAAB/i5ic\n",
       "AAAAAXRSTlMAQObYZgAAAAlwSFlzAAAOxAAADsQBlSsOGwAAABZJREFUCNdjmBoaGsDgwMAgQC4B\n",
       "MgAA9M8G39geguYAAAAASUVORK5CYII=\n",
       "\" style=\"display:inline;vertical-align:middle;\" /></a>"
      ],
      "text/plain": [
       "square"
      ]
     },
     "execution_count": 8,
     "metadata": {},
     "output_type": "execute_result"
    }
   ],
   "source": [
    "tri.substituted({tri:sq})"
   ]
  },
  {
   "cell_type": "markdown",
   "metadata": {},
   "source": [
    "Notice that the `substituted()` method is non-mutating, leaving the tri `Label` as it was originally defined:"
   ]
  },
  {
   "cell_type": "code",
   "execution_count": 9,
   "metadata": {},
   "outputs": [
    {
     "data": {
      "text/html": [
       "<a class=\"ProveItLink\" href=\"__pv_it/7c8c594fe44b5ca95e7230a15dd7d6577c99fa460/expr.ipynb\"><img src=\"data:image/png;base64,iVBORw0KGgoAAAANSUhEUgAAABEAAAAPBAMAAADwnzkiAAAAMFBMVEX///8QEBBERER2dnaIiIiY\n",
       "mJju7u4iIiLc3NxmZmaqqqrMzMwyMjJUVFS6uroAAAAvYYvtAAAAAXRSTlMAQObYZgAAAAlwSFlz\n",
       "AAAOxAAADsQBlSsOGwAAAGFJREFUCNdjYGBg4LvAAAU8p2GslT0wVhnvAwiD1YHtAITFzsBgCmEB\n",
       "qXQwg62AgYHFAcTiXAAkCkAssBHBIOIeWFcCAwOHAojFNYGBgWkDWN8JBoa9EKPeMjBcLAeD+gQA\n",
       "Nu4SiD+3xFAAAAAASUVORK5CYII=\n",
       "\" style=\"display:inline;vertical-align:middle;\" /></a>"
      ],
      "text/plain": [
       "triangle"
      ]
     },
     "execution_count": 9,
     "metadata": {},
     "output_type": "execute_result"
    }
   ],
   "source": [
    "tri"
   ]
  },
  {
   "cell_type": "markdown",
   "metadata": {},
   "source": [
    "<a href=\"#Variable\"></a>Variable\n",
    "===========\n",
    "A `Variable` is an interchangeable <a href=\"#Label\">Label</a> with no formal, contextual meaning."
   ]
  },
  {
   "cell_type": "code",
   "execution_count": 10,
   "metadata": {},
   "outputs": [
    {
     "data": {
      "text/html": [
       "<strong id=\"x\">x:</strong> <a class=\"ProveItLink\" href=\"__pv_it/72df168d2bfb4e0140af90912ebf83b13772060b0/expr.ipynb\"><img src=\"data:image/png;base64,iVBORw0KGgoAAAANSUhEUgAAAAsAAAAJBAMAAAAWSsseAAAAMFBMVEX///8QEBC6uroyMjJERETc\n",
       "3NyYmJgiIiJmZmaqqqp2dnbMzMxUVFSIiIju7u4AAAAoIwv1AAAAAXRSTlMAQObYZgAAAAlwSFlz\n",
       "AAAOxAAADsQBlSsOGwAAAENJREFUCNdjYHh75/WqCQwMDbxnOQoY2AJ4v/IkMHAzsBgwgAD/BTCl\n",
       "H8D3gOGJwnkGLgaG+fsaGTQZGF7c5WybwAAAJGsQ2L2rVEcAAAAASUVORK5CYII=\n",
       "\" style=\"display:inline;vertical-align:middle;\" /></a><br>"
      ],
      "text/plain": [
       "x: x"
      ]
     },
     "execution_count": 10,
     "metadata": {},
     "output_type": "execute_result"
    }
   ],
   "source": [
    "from proveit import Variable\n",
    "x = Variable('x')  # the string and latex formats\n",
    "                   # are the same by default"
   ]
  },
  {
   "cell_type": "code",
   "execution_count": 11,
   "metadata": {},
   "outputs": [
    {
     "data": {
      "text/html": [
       "<strong id=\"omega\">omega:</strong> <a class=\"ProveItLink\" href=\"__pv_it/2ddb9b2c59c2ec7c4cf837f36c192819a0ae0e4a0/expr.ipynb\"><img src=\"data:image/png;base64,iVBORw0KGgoAAAANSUhEUgAAAA0AAAAJBAMAAAAbVLtZAAAAMFBMVEX///8QEBAyMjLu7u6YmJhE\n",
       "RES6urp2dnZmZmaIiIiqqqrMzMwiIiLc3NxUVFQAAACnaCMxAAAAAXRSTlMAQObYZgAAAAlwSFlz\n",
       "AAAOxAAADsQBlSsOGwAAAE9JREFUCNdjYHjAwMBwZwMD1wIgfX8CAweQYmBfwJDGwBDAwHKBYQID\n",
       "dwMDOwNDAwPnAobrDAzRDPsbmJUZGArrpP41OjAwmH66MFGSgQEAOl8RCvglkDgAAAAASUVORK5C\n",
       "YII=\n",
       "\" style=\"display:inline;vertical-align:middle;\" /></a><br>"
      ],
      "text/plain": [
       "omega: omega"
      ]
     },
     "execution_count": 11,
     "metadata": {},
     "output_type": "execute_result"
    }
   ],
   "source": [
    "# different string and latex formats:\n",
    "omega = Variable(stringFormat='omega', latexFormat=r'\\omega') "
   ]
  },
  {
   "cell_type": "markdown",
   "metadata": {},
   "source": [
    "Convenient `Variable`s and other `Expression`s are accessible from `_common_.py` modules (generated from `_common_.ipynb` notebooks).  That is, `_common_.py` modules hold common expressions.  For example, from <a class=\"ProveItLink\" href=\"../packages/proveit/_common_.ipynb\">proveit.\\_common\\_</a> we can import a collection of commonly-used variables:"
   ]
  },
  {
   "cell_type": "code",
   "execution_count": 12,
   "metadata": {},
   "outputs": [
    {
     "data": {
      "text/html": [
       "<a class=\"ProveItLink\" href=\"__pv_it/7d7c2129a0d0aee9dfb1483c97bca3b1f7327f5c0/expr.ipynb\"><img src=\"data:image/png;base64,iVBORw0KGgoAAAANSUhEUgAAAI8AAAAVBAMAAACNsKCFAAAAMFBMVEX////MzMxUVFREREQiIiK6\n",
       "uroQEBCYmJhmZmYyMjLu7u52dnaqqqqIiIjc3NwAAACFAiZ1AAAAAXRSTlMAQObYZgAAAAlwSFlz\n",
       "AAAOxAAADsQBlSsOGwAAAj9JREFUOMullE1o1FAQx//Zr6RJNpu7lwUPgiAsgmKRlR56EOlhD6J4\n",
       "kF0Q8eAHOXqQWvxAa5UuggjiIdSLCLJZKQWtS/ckopfoxYJEgxQE9dCepCuK8zIvTba9ZRey75f/\n",
       "vDczb968AAgx8i9yUe6P7ui0+HufEvSDE5kciWT0dloZm8mW0iNAc9JCJeM+LwOlIaHpZnNUcnFq\n",
       "SFjMWO0xB3M0WHNffBbuB3elyQi6XP9g767XTKs+FtioTNrf5bzlVVvMruIhDSfC/IDnbrodbitr\n",
       "Ctcj0PDRv8GuzRauygQ+1+WprDX0S1YfahtTtPwcND52c4AK51bwcDGCaXwN90T0S2tjNy//AUMm\n",
       "dB44VHZhTuAsBR2IdVH4NjpM83HVbYxLcku+dE6x7/BISzFLTpV14ahUQ6cRt1GTG+BMUsi/yZEq\n",
       "GxJ/xqdVA5ZeAcUWHkMkIfdecWQq+p8tP8V/eMY0i3JLaj44Y5H/CoWmrdXprY9xM9SFowbVSwB+\n",
       "02wxWT+QW4fH2n7kq0wnASaKjCUa1Rpe0IZ89aiBDt2VnJOfiQC3ga6+SaE2nraKfdauoelEpByu\n",
       "L9oRaVWoKwqNPo5T1H3dbx9QOEZ0j9pIAIxe4GLSJcV/e0VqC735MCIDbx5IbfmTo/WIyWDHxXi3\n",
       "A8zkwrD2Mm1NEdZod1v33dsBRjLTE72hX0hbU4Rb9ByJW8PfDniefKhIK/g5L21NCBZ1AZ7IFxXb\n",
       "AckXRmhmcHPImhDyogaWM/qndhr4D3DLmY+euBlIAAAAAElFTkSuQmCC\n",
       "\" style=\"display:inline;vertical-align:middle;\" /></a>"
      ],
      "text/plain": [
       "(a , b , c , x , y , z , alpha)"
      ]
     },
     "execution_count": 12,
     "metadata": {},
     "output_type": "execute_result"
    }
   ],
   "source": [
    "from proveit._common_ import a, b, c, x, y, z, alpha\n",
    "from proveit import ExprTuple\n",
    "ExprTuple(a, b, c, x, y, z, alpha)"
   ]
  },
  {
   "cell_type": "markdown",
   "metadata": {},
   "source": [
    "We used an <a href=\"#ExprTuple\">ExprTuple</a> to conveniently render all of those `Variable`s as a single `Expression`.\n",
    "\n",
    "Expression information for a `Variable` is similar to that for a `Label`, but with the different core type and class:"
   ]
  },
  {
   "cell_type": "code",
   "execution_count": 13,
   "metadata": {},
   "outputs": [
    {
     "data": {
      "text/html": [
       "<table><tr><th>&nbsp;</th><th>core type</th><th>sub-expressions</th><th>expression</th></tr>\n",
       "<tr><td>0</td><td>Variable</td><td></td><td><a class=\"ProveItLink\" href=\"../packages/proveit/__pv_it/186b4b5c9925c86cfc381a01181526b85fd087620/expr.ipynb\"><img src=\"data:image/png;base64,iVBORw0KGgoAAAANSUhEUgAAAA0AAAAJBAMAAAAbVLtZAAAAMFBMVEX///9UVFSYmJgyMjJERESq\n",
       "qqoQEBDu7u66uroiIiLc3NzMzMxmZmaIiIh2dnYAAADysKFQAAAAAXRSTlMAQObYZgAAAAlwSFlz\n",
       "AAAOxAAADsQBlSsOGwAAAEtJREFUCNdjYGB4d2cDAxCsbGDP4gpgYMhjYPDhLWDg+c7AcJiPgYHN\n",
       "gYHh2XMGhvoHDAzvgdL8CkA+UDmPAAPTe24g490lBZ63DABvyxExowZjGwAAAABJRU5ErkJggg==\n",
       "\" style=\"display:inline;vertical-align:middle;\" /></a></td></tr>\n",
       "</table>\n"
      ],
      "text/plain": [
       "0. alpha\n",
       "   core type: Variable\n",
       "   sub-expressions: "
      ]
     },
     "execution_count": 13,
     "metadata": {},
     "output_type": "execute_result"
    }
   ],
   "source": [
    "alpha.exprInfo()"
   ]
  },
  {
   "cell_type": "markdown",
   "metadata": {},
   "source": [
    "Just as we saw for the generic `Label` `Expression`s, we can use *expression substitution* to exchange one `Variable` for another or for any other `Expression`.  Furthermore, we will see in a later tutorial chapter that `Variable`s have special properties with respect to *instantiation* because they are defined as interchangeable labels."
   ]
  },
  {
   "cell_type": "code",
   "execution_count": 14,
   "metadata": {},
   "outputs": [
    {
     "data": {
      "text/html": [
       "<a class=\"ProveItLink\" href=\"__pv_it/2b0e32e81242cecdb075604772e2c9a0692a492f0/expr.ipynb\"><img src=\"data:image/png;base64,iVBORw0KGgoAAAANSUhEUgAAAA4AAAAOAgMAAABiJsVCAAAADFBMVEX///8iIiIyMjIAAAB/i5ic\n",
       "AAAAAXRSTlMAQObYZgAAAAlwSFlzAAAOxAAADsQBlSsOGwAAABZJREFUCNdjmBoaGsDgwMAgQC4B\n",
       "MgAA9M8G39geguYAAAAASUVORK5CYII=\n",
       "\" style=\"display:inline;vertical-align:middle;\" /></a>"
      ],
      "text/plain": [
       "square"
      ]
     },
     "execution_count": 14,
     "metadata": {},
     "output_type": "execute_result"
    }
   ],
   "source": [
    "alpha.substituted({alpha:sq}) # we can substitute a Variable for any other Expression"
   ]
  },
  {
   "cell_type": "markdown",
   "metadata": {},
   "source": [
    "<a name=\"#Literal\"></a>Literal\n",
    "-------\n",
    "\n",
    "A `Literal` is another kind of <a href=\"#Label\">Label</a>.  In contrast to `Variable`s, `Literal`s have a formal, contextual meaning."
   ]
  },
  {
   "cell_type": "code",
   "execution_count": 15,
   "metadata": {},
   "outputs": [],
   "source": [
    "from proveit import Literal"
   ]
  },
  {
   "cell_type": "markdown",
   "metadata": {},
   "source": [
    "Below are different scenarios in which a `Literal` could appropriately be used."
   ]
  },
  {
   "cell_type": "markdown",
   "metadata": {},
   "source": [
    "### Specific operators"
   ]
  },
  {
   "cell_type": "code",
   "execution_count": 16,
   "metadata": {},
   "outputs": [
    {
     "data": {
      "text/html": [
       "<strong id=\"TIMES\">TIMES:</strong> <a class=\"ProveItLink\" href=\"__pv_it/2aa2770ecd6df3980d5a7bf9fb8028f2e7bacc6b0/expr.ipynb\"><img src=\"data:image/png;base64,iVBORw0KGgoAAAANSUhEUgAAAAsAAAAKBAMAAACQ3rmwAAAAGFBMVEX///9ERETMzMwiIiIyMjLc\n",
       "3NxUVFQAAAAgG4XFAAAAAXRSTlMAQObYZgAAAAlwSFlzAAAOxAAADsQBlSsOGwAAACxJREFUCNdj\n",
       "SGVgYAhhYAhWYGA1YgBhIAvIVQVygFxjBSQKIghVAtUgBNYOANfZBcwBxOcJAAAAAElFTkSuQmCC\n",
       "\" style=\"display:inline;vertical-align:middle;\" /></a><br>"
      ],
      "text/plain": [
       "TIMES: *"
      ]
     },
     "execution_count": 16,
     "metadata": {},
     "output_type": "execute_result"
    }
   ],
   "source": [
    "TIMES = Literal(stringFormat='*', latexFormat=r'\\times')"
   ]
  },
  {
   "cell_type": "code",
   "execution_count": 17,
   "metadata": {},
   "outputs": [
    {
     "data": {
      "text/html": [
       "<strong id=\"FACTORIAL\">FACTORIAL:</strong> <a class=\"ProveItLink\" href=\"__pv_it/78dd4cc5361370b310f93f7eedb52f594829fd9b0/expr.ipynb\"><img src=\"data:image/png;base64,iVBORw0KGgoAAAANSUhEUgAAAAMAAAAPBAMAAADTxGj3AAAAJ1BMVEX///+6urqqqqqYmJh2dnZm\n",
       "ZmYyMjLu7u4QEBDc3NxUVFQiIiIAAABmOgpVAAAAAXRSTlMAQObYZgAAAAlwSFlzAAAOxAAADsQB\n",
       "lSsOGwAAADBJREFUCNdj4F7AMKeBoWYDA08CA8cCBu4ABjYHBi4DBlYFBhYBBuYJDBBQkwCUAgC+\n",
       "PgbmD97N+AAAAABJRU5ErkJggg==\n",
       "\" style=\"display:inline;vertical-align:middle;\" /></a><br>"
      ],
      "text/plain": [
       "FACTORIAL: !"
      ]
     },
     "execution_count": 17,
     "metadata": {},
     "output_type": "execute_result"
    }
   ],
   "source": [
    "FACTORIAL = Literal('!')"
   ]
  },
  {
   "cell_type": "code",
   "execution_count": 18,
   "metadata": {},
   "outputs": [
    {
     "data": {
      "text/html": [
       "<strong id=\"SUMMATION\">SUMMATION:</strong> <a class=\"ProveItLink\" href=\"__pv_it/3ea057dc96abb06b89bab4919d33ccb8b9c4b3f90/expr.ipynb\"><img src=\"data:image/png;base64,iVBORw0KGgoAAAANSUhEUgAAABwAAAAdBAMAAABLfxECAAAAMFBMVEX///92dnZERERmZmaYmJgi\n",
       "IiIQEBBUVFS6urrc3Nzu7u7MzMyqqqqIiIgyMjIAAAAO+LikAAAAAXRSTlMAQObYZgAAAAlwSFlz\n",
       "AAAOxAAADsQBlSsOGwAAALJJREFUGNNjeP8fAf4yMJz/v4EBBLhmXM//xsDA/j+AAQpY4g8wMMR/\n",
       "h3EZmBUYGPb/d4DzLRkYeP//hHNZgFj/KwMyWPbfAJnL8f8PirT8twXIXL7/D5C5XPkfUVTDHApz\n",
       "zf8sFOn4vyjc+QEo3GsTUBzyG0Vy/wEUe3NRJPlQvMCghMJjjoIzeYDYDWGLD4otPAlAF8Ft4bI3\n",
       "QLJlTj3QY3z/3oFBGDBSgGFojxRHXxgA6YROj7EG6sQAAAAASUVORK5CYII=\n",
       "\" style=\"display:inline;vertical-align:middle;\" /></a><br>"
      ],
      "text/plain": [
       "SUMMATION: sum"
      ]
     },
     "execution_count": 18,
     "metadata": {},
     "output_type": "execute_result"
    }
   ],
   "source": [
    "SUMMATION = Literal('sum', r'\\sum')"
   ]
  },
  {
   "cell_type": "markdown",
   "metadata": {},
   "source": [
    "We will see in the <a href=\"#Operation\">Operation</a> section that the *operator* of an `Operation`-derived class should be stored as a Python class variable called `_operator_`.  We are using module-level Python variable names just for these examples."
   ]
  },
  {
   "cell_type": "markdown",
   "metadata": {},
   "source": [
    "### Constant values"
   ]
  },
  {
   "cell_type": "code",
   "execution_count": 19,
   "metadata": {},
   "outputs": [
    {
     "data": {
      "text/html": [
       "<strong id=\"FIVE\">FIVE:</strong> <a class=\"ProveItLink\" href=\"__pv_it/f0000a69129f8d8810bf110adab7d1d66f92f6fb0/expr.ipynb\"><img src=\"data:image/png;base64,iVBORw0KGgoAAAANSUhEUgAAAAkAAAAPBAMAAADE5vg+AAAALVBMVEX///+6urpERERmZmaIiIiY\n",
       "mJhUVFR2dnYiIiIyMjIQEBDc3Nzu7u7MzMwAAACupZ0AAAAAAXRSTlMAQObYZgAAAAlwSFlzAAAO\n",
       "xAAADsQBlSsOGwAAAE5JREFUCNdj4GVgOM3AwPVyRg8DA0df+wEGBjYGEEAhQ5wvMDAwHeB+COZq\n",
       "gEm7DQyaQPICwwoGhjwGhgIGhkUMDJsZWNYwMHAbJx9gAACR9A8z434veQAAAABJRU5ErkJggg==\n",
       "\" style=\"display:inline;vertical-align:middle;\" /></a><br>"
      ],
      "text/plain": [
       "FIVE: 5"
      ]
     },
     "execution_count": 19,
     "metadata": {},
     "output_type": "execute_result"
    }
   ],
   "source": [
    "FIVE = Literal('5') # Literal constants are also ALL-CAPS"
   ]
  },
  {
   "cell_type": "code",
   "execution_count": 20,
   "metadata": {},
   "outputs": [
    {
     "data": {
      "text/html": [
       "<strong id=\"TRUE\">TRUE:</strong> <a class=\"ProveItLink\" href=\"__pv_it/9d17e49c74862c57f0d8d7dd8a5342271ef7800a0/expr.ipynb\"><img src=\"data:image/png;base64,iVBORw0KGgoAAAANSUhEUgAAAA4AAAAOBAMAAADtZjDiAAAAG1BMVEX///+YmJi6urqIiIiqqqpU\n",
       "VFQiIiJmZmYAAAD2GhH1AAAAAXRSTlMAQObYZgAAAAlwSFlzAAAOxAAADsQBlSsOGwAAABhJREFU\n",
       "CNdjKEsDgVQGIHBmgABa0YpADADkogYfXGfJdgAAAABJRU5ErkJggg==\n",
       "\" style=\"display:inline;vertical-align:middle;\" /></a><br>"
      ],
      "text/plain": [
       "TRUE: true"
      ]
     },
     "execution_count": 20,
     "metadata": {},
     "output_type": "execute_result"
    }
   ],
   "source": [
    "TRUE = Literal('true', r'\\top')"
   ]
  },
  {
   "cell_type": "code",
   "execution_count": 21,
   "metadata": {},
   "outputs": [
    {
     "data": {
      "text/html": [
       "<strong id=\"FALSE\">FALSE:</strong> <a class=\"ProveItLink\" href=\"__pv_it/b86b92673fd9f2fbafa403b4133f4e3e71191c9a0/expr.ipynb\"><img src=\"data:image/png;base64,iVBORw0KGgoAAAANSUhEUgAAAA4AAAAPBAMAAAAmOuNHAAAAHlBMVEX///9UVFQQEBAiIiJmZmaI\n",
       "iIiqqqqYmJi6uroAAAAAFVhYAAAAAXRSTlMAQObYZgAAAAlwSFlzAAAOxAAADsQBlSsOGwAAABhJ\n",
       "REFUCNdjYECAdiidSkva2dhYydjYEABIWQamWbU+1AAAAABJRU5ErkJggg==\n",
       "\" style=\"display:inline;vertical-align:middle;\" /></a><br>"
      ],
      "text/plain": [
       "FALSE: false"
      ]
     },
     "execution_count": 21,
     "metadata": {},
     "output_type": "execute_result"
    }
   ],
   "source": [
    "FALSE = Literal('false', r'\\bot')"
   ]
  },
  {
   "cell_type": "markdown",
   "metadata": {},
   "source": [
    "Such constants will typically be defined as **common expressions** in the appropriate **context**, to be discussed in a later tutorial."
   ]
  },
  {
   "cell_type": "markdown",
   "metadata": {},
   "source": [
    "### Contextual \"variables\"\n",
    "\n",
    "This is appropriate when variables are given a specific meaning within the context of a problem.  For example, consider a math \"story problem\" where Andrea has $a$ apples and Bill has $b$ bananas.  These are variables in a sense, but here they have contextual meaning so they should be `Literal`s.  However, suppose one wants to prove a general theorem for any number of Andrea's apples and Bill's bananas.  One may start by using the $a$ and $b$ `Literal`s for convenience for some contextual \"lemmas\" (as an aside, though, **Prove-It** does not distinguish between lemmas and theorems), but then demote them to `Variable`s in order to make a statement of the form $\\forall_{a, b} P(a, b)$ (`Literal`s may not be quantified over).  This is done by using a process called axiom elimination that will be discussed later.  For now, we just note that \"variables\" with contextual meaning need to be `Literal`s."
   ]
  },
  {
   "cell_type": "code",
   "execution_count": 22,
   "metadata": {},
   "outputs": [
    {
     "data": {
      "text/html": [
       "<strong id=\"aLit\">aLit:</strong> <a class=\"ProveItLink\" href=\"__pv_it/c0a5259c8a3480de321d9ff669d58d3f479cab6a0/expr.ipynb\"><img src=\"data:image/png;base64,iVBORw0KGgoAAAANSUhEUgAAAAsAAAAJBAMAAAAWSsseAAAAMFBMVEX////MzMxUVFQyMjKqqqoi\n",
       "IiKYmJju7u5EREQQEBC6urqIiIh2dnZmZmbc3NwAAAD0tjQRAAAAAXRSTlMAQObYZgAAAAlwSFlz\n",
       "AAAOxAAADsQBlSsOGwAAAEdJREFUCNdjYOC7s28DAwPDygcc3xkY2Kcx8AYwMPB+Z2A9wMDA2cBQ\n",
       "v4CBof4AQz5QRb0DQzPLAwbmDWyxPECV2gcfbWQAABp5EMgcedARAAAAAElFTkSuQmCC\n",
       "\" style=\"display:inline;vertical-align:middle;\" /></a><br>"
      ],
      "text/plain": [
       "aLit: a"
      ]
     },
     "execution_count": 22,
     "metadata": {},
     "output_type": "execute_result"
    }
   ],
   "source": [
    "aLit = Literal('a')"
   ]
  },
  {
   "cell_type": "code",
   "execution_count": 23,
   "metadata": {},
   "outputs": [
    {
     "data": {
      "text/html": [
       "<strong id=\"bLit\">bLit:</strong> <a class=\"ProveItLink\" href=\"__pv_it/abb859bf6fb130140b2a1b313fc3d8390d9ca3dc0/expr.ipynb\"><img src=\"data:image/png;base64,iVBORw0KGgoAAAANSUhEUgAAAAkAAAAOBAMAAAAPuiubAAAALVBMVEX///+YmJjc3NyIiIhUVFR2\n",
       "dna6urqqqqpmZmYyMjIiIiIQEBBERETu7u4AAAALjtrwAAAAAXRSTlMAQObYZgAAAAlwSFlzAAAO\n",
       "xAAADsQBlSsOGwAAAE5JREFUCNdj4D29gAEIOBtAJF8BiMy7ACKjQATDFON2BgbelxfuKTCwv2Xg\n",
       "M2DgmMBwLwCkPK+AgU+Aoe8CA18C70YGBhYBHqARvM1A5QCqGhDobJhHyAAAAABJRU5ErkJggg==\n",
       "\" style=\"display:inline;vertical-align:middle;\" /></a><br>"
      ],
      "text/plain": [
       "bLit: b"
      ]
     },
     "execution_count": 23,
     "metadata": {},
     "output_type": "execute_result"
    }
   ],
   "source": [
    "bLit = Literal('b')"
   ]
  },
  {
   "cell_type": "code",
   "execution_count": 24,
   "metadata": {},
   "outputs": [],
   "source": [
    "# different because one is a Variable and one is a Literal\n",
    "assert a != aLit \n",
    "# same after converting the Literal to a Variable\n",
    "assert a == aLit.asVariable() "
   ]
  },
  {
   "cell_type": "markdown",
   "metadata": {},
   "source": [
    "### Literal substitution\n",
    "It is possible to perform *expression substitution* on a `Literal`."
   ]
  },
  {
   "cell_type": "code",
   "execution_count": 25,
   "metadata": {},
   "outputs": [
    {
     "data": {
      "text/html": [
       "<a class=\"ProveItLink\" href=\"__pv_it/abb859bf6fb130140b2a1b313fc3d8390d9ca3dc0/expr.ipynb\"><img src=\"data:image/png;base64,iVBORw0KGgoAAAANSUhEUgAAAAkAAAAOBAMAAAAPuiubAAAALVBMVEX///+YmJjc3NyIiIhUVFR2\n",
       "dna6urqqqqpmZmYyMjIiIiIQEBBERETu7u4AAAALjtrwAAAAAXRSTlMAQObYZgAAAAlwSFlzAAAO\n",
       "xAAADsQBlSsOGwAAAE5JREFUCNdj4D29gAEIOBtAJF8BiMy7ACKjQATDFON2BgbelxfuKTCwv2Xg\n",
       "M2DgmMBwLwCkPK+AgU+Aoe8CA18C70YGBhYBHqARvM1A5QCqGhDobJhHyAAAAABJRU5ErkJggg==\n",
       "\" style=\"display:inline;vertical-align:middle;\" /></a>"
      ],
      "text/plain": [
       "b"
      ]
     },
     "execution_count": 25,
     "metadata": {},
     "output_type": "execute_result"
    }
   ],
   "source": [
    "aLit.substituted({aLit:bLit})"
   ]
  },
  {
   "cell_type": "code",
   "execution_count": 26,
   "metadata": {},
   "outputs": [
    {
     "data": {
      "text/html": [
       "<a class=\"ProveItLink\" href=\"__pv_it/2ddb9b2c59c2ec7c4cf837f36c192819a0ae0e4a0/expr.ipynb\"><img src=\"data:image/png;base64,iVBORw0KGgoAAAANSUhEUgAAAA0AAAAJBAMAAAAbVLtZAAAAMFBMVEX///8QEBAyMjLu7u6YmJhE\n",
       "RES6urp2dnZmZmaIiIiqqqrMzMwiIiLc3NxUVFQAAACnaCMxAAAAAXRSTlMAQObYZgAAAAlwSFlz\n",
       "AAAOxAAADsQBlSsOGwAAAE9JREFUCNdjYHjAwMBwZwMD1wIgfX8CAweQYmBfwJDGwBDAwHKBYQID\n",
       "dwMDOwNDAwPnAobrDAzRDPsbmJUZGArrpP41OjAwmH66MFGSgQEAOl8RCvglkDgAAAAASUVORK5C\n",
       "YII=\n",
       "\" style=\"display:inline;vertical-align:middle;\" /></a>"
      ],
      "text/plain": [
       "omega"
      ]
     },
     "execution_count": 26,
     "metadata": {},
     "output_type": "execute_result"
    }
   ],
   "source": [
    "aLit.substituted({aLit:omega})"
   ]
  },
  {
   "cell_type": "markdown",
   "metadata": {},
   "source": [
    "As noted earlier, the `substituted()` method is non-mutating, leaving the aLit `Literal` as it was originally defined:"
   ]
  },
  {
   "cell_type": "code",
   "execution_count": 27,
   "metadata": {},
   "outputs": [
    {
     "data": {
      "text/html": [
       "<a class=\"ProveItLink\" href=\"__pv_it/c0a5259c8a3480de321d9ff669d58d3f479cab6a0/expr.ipynb\"><img src=\"data:image/png;base64,iVBORw0KGgoAAAANSUhEUgAAAAsAAAAJBAMAAAAWSsseAAAAMFBMVEX////MzMxUVFQyMjKqqqoi\n",
       "IiKYmJju7u5EREQQEBC6urqIiIh2dnZmZmbc3NwAAAD0tjQRAAAAAXRSTlMAQObYZgAAAAlwSFlz\n",
       "AAAOxAAADsQBlSsOGwAAAEdJREFUCNdjYOC7s28DAwPDygcc3xkY2Kcx8AYwMPB+Z2A9wMDA2cBQ\n",
       "v4CBof4AQz5QRb0DQzPLAwbmDWyxPECV2gcfbWQAABp5EMgcedARAAAAAElFTkSuQmCC\n",
       "\" style=\"display:inline;vertical-align:middle;\" /></a>"
      ],
      "text/plain": [
       "a"
      ]
     },
     "execution_count": 27,
     "metadata": {},
     "output_type": "execute_result"
    }
   ],
   "source": [
    "aLit"
   ]
  },
  {
   "cell_type": "markdown",
   "metadata": {},
   "source": [
    "While we are able to replace a `Literal` via *expression substitution*, we may not replace them via *instantiation* because `Literal`s are not interchangeable labels."
   ]
  },
  {
   "cell_type": "markdown",
   "metadata": {},
   "source": [
    "### Literal contexts\n",
    "\n",
    "A `Literal` is distinguished not only by its formatting but also by its **context**.  Axioms and theorems of **Prove-It** are organized via **contexts** which we will discuss later in more detail.  Each `Literal` belongs to a **context** which is typically the one corresponding to the package (directory) in which it is defined.  This is particularly important for *contextual variable* types of `Literal`s that are very *context*-specific."
   ]
  },
  {
   "cell_type": "code",
   "execution_count": 28,
   "metadata": {},
   "outputs": [],
   "source": [
    "import proveit.logic as logic"
   ]
  },
  {
   "cell_type": "code",
   "execution_count": 29,
   "metadata": {},
   "outputs": [
    {
     "data": {
      "text/html": [
       "<a class=\"ProveItLink\" href=\"../packages/proveit/logic/boolean/__pv_it/b5b8ce0f03ab68a7c7bb937dfeb4112a686e3cbb0/expr.ipynb\"><img src=\"data:image/png;base64,iVBORw0KGgoAAAANSUhEUgAAAA4AAAAOBAMAAADtZjDiAAAAG1BMVEX///+YmJi6urqIiIiqqqpU\n",
       "VFQiIiJmZmYAAAD2GhH1AAAAAXRSTlMAQObYZgAAAAlwSFlzAAAOxAAADsQBlSsOGwAAABhJREFU\n",
       "CNdjKEsDgVQGIHBmgABa0YpADADkogYfXGfJdgAAAABJRU5ErkJggg==\n",
       "\" style=\"display:inline;vertical-align:middle;\" /></a>"
      ],
      "text/plain": [
       "TRUE"
      ]
     },
     "execution_count": 29,
     "metadata": {},
     "output_type": "execute_result"
    }
   ],
   "source": [
    "logic.TRUE"
   ]
  },
  {
   "cell_type": "markdown",
   "metadata": {},
   "source": [
    "*If the above output is not the $\\top$ symbol when you execute this, you probably need to <a class=\"ProveItLink\" href=\"tutorial00_introduction.ipynb#build\">build or download the Prove-It database</a>.*"
   ]
  },
  {
   "cell_type": "code",
   "execution_count": 30,
   "metadata": {},
   "outputs": [
    {
     "data": {
      "text/plain": [
       "False"
      ]
     },
     "execution_count": 30,
     "metadata": {},
     "output_type": "execute_result"
    }
   ],
   "source": [
    "# When the context is different, they are not the same.\n",
    "TRUE == logic.TRUE"
   ]
  },
  {
   "cell_type": "markdown",
   "metadata": {},
   "source": [
    "The detailed expression information reveals the differences:"
   ]
  },
  {
   "cell_type": "code",
   "execution_count": 31,
   "metadata": {},
   "outputs": [
    {
     "data": {
      "text/html": [
       "<table><tr><th>&nbsp;</th><th>core type</th><th>sub-expressions</th><th>expression</th></tr>\n",
       "<tr><td>0</td><td>Literal</td><td></td><td><a class=\"ProveItLink\" href=\"__pv_it/9d17e49c74862c57f0d8d7dd8a5342271ef7800a0/expr.ipynb\"><img src=\"data:image/png;base64,iVBORw0KGgoAAAANSUhEUgAAAA4AAAAOBAMAAADtZjDiAAAAG1BMVEX///+YmJi6urqIiIiqqqpU\n",
       "VFQiIiJmZmYAAAD2GhH1AAAAAXRSTlMAQObYZgAAAAlwSFlzAAAOxAAADsQBlSsOGwAAABhJREFU\n",
       "CNdjKEsDgVQGIHBmgABa0YpADADkogYfXGfJdgAAAABJRU5ErkJggg==\n",
       "\" style=\"display:inline;vertical-align:middle;\" /></a></td></tr>\n",
       "<tr><td colspan=4 style=\"text-align:left\"><strong>context:</strong> tutorial</td></tr>\n",
       "</table>\n"
      ],
      "text/plain": [
       "0. true\n",
       "   core type: Literal\n",
       "   latexFormat: \\top\n",
       "   context: tutorial\n",
       "   class: <class 'proveit._core_.expression.label.literal.Literal'>\n",
       "   sub-expressions: "
      ]
     },
     "execution_count": 31,
     "metadata": {},
     "output_type": "execute_result"
    }
   ],
   "source": [
    "TRUE.exprInfo(details=True)"
   ]
  },
  {
   "cell_type": "code",
   "execution_count": 32,
   "metadata": {},
   "outputs": [
    {
     "data": {
      "text/html": [
       "<table><tr><th>&nbsp;</th><th>core type</th><th>sub-expressions</th><th>expression</th></tr>\n",
       "<tr><td>0</td><td>Literal</td><td></td><td><a class=\"ProveItLink\" href=\"../packages/proveit/logic/boolean/__pv_it/b5b8ce0f03ab68a7c7bb937dfeb4112a686e3cbb0/expr.ipynb\"><img src=\"data:image/png;base64,iVBORw0KGgoAAAANSUhEUgAAAA4AAAAOBAMAAADtZjDiAAAAG1BMVEX///+YmJi6urqIiIiqqqpU\n",
       "VFQiIiJmZmYAAAD2GhH1AAAAAXRSTlMAQObYZgAAAAlwSFlzAAAOxAAADsQBlSsOGwAAABhJREFU\n",
       "CNdjKEsDgVQGIHBmgABa0YpADADkogYfXGfJdgAAAABJRU5ErkJggg==\n",
       "\" style=\"display:inline;vertical-align:middle;\" /></a></td></tr>\n",
       "<tr><td colspan=4 style=\"text-align:left\"><strong>class:</strong> proveit.logic.boolean.booleans.TrueLiteral</td></tr>\n",
       "<tr><td colspan=4 style=\"text-align:left\"><strong>context:</strong> proveit.logic.boolean</td></tr>\n",
       "</table>\n"
      ],
      "text/plain": [
       "0. TRUE\n",
       "   core type: Literal\n",
       "   latexFormat: \\top\n",
       "   context: proveit.logic.boolean\n",
       "   class: <class 'proveit.logic.boolean.booleans.TrueLiteral'>\n",
       "   sub-expressions: "
      ]
     },
     "execution_count": 32,
     "metadata": {},
     "output_type": "execute_result"
    }
   ],
   "source": [
    "logic.TRUE.exprInfo(details=True)"
   ]
  },
  {
   "cell_type": "markdown",
   "metadata": {},
   "source": [
    "**Expressions** are also distinguished by their class (derived from the *core type*).  In the above example, `logic.TRUE` is an object of the `proveit.logic.boolean.booleans.TrueLiteral` class.  `logic.TRUE` and `logic.FALSE` have an `evalEquality(..)` method defined in their respective classes which is a convenient method for deriving any of the following: $(\\top = \\top) = \\top$, $(\\bot = \\bot) = \\top$, $(\\top = \\bot) = \\bot$, or $(\\bot = \\top) = \\bot$ (these are proven theorems within `proveit.logic`). For example:"
   ]
  },
  {
   "cell_type": "code",
   "execution_count": 33,
   "metadata": {},
   "outputs": [
    {
     "data": {
      "text/html": [
       "<span style=\"font-size:20px;\"> <a class=\"ProveItLink\" href=\"__pv_it/01852d9c1246c33d4f7cadae5ef3b93d59b3f3b60/proof.ipynb\" style=\"text-decoration: none\">&#x22A2;&nbsp;</a><a class=\"ProveItLink\" href=\"__pv_it/24ac03b791bcc7c544dee86be320e3770a2e57740/expr.ipynb\"><img src=\"data:image/png;base64,iVBORw0KGgoAAAANSUhEUgAAAHUAAAAVBAMAAACK3rzVAAAAMFBMVEX////MzMxUVFREREQiIiK6\n",
       "uroQEBCYmJhmZmYyMjLu7u52dnaqqqqIiIjc3NwAAACFAiZ1AAAAAXRSTlMAQObYZgAAAAlwSFlz\n",
       "AAAOxAAADsQBlSsOGwAAALlJREFUOMtjYGB4wIAX8OGR4z2AXy/rBdxypxk4XMBAAVNbAYi8g81A\n",
       "sAzXBBDJg9VwiCjnAlwyHAWE9LI34JJhYyCklyELl0wkYb3Tccl0E9a7CZfMdBS9qEEOFa3EJeND\n",
       "2N4juGRSCeuVp0BvGC6ZOYT9ewSXjC1he4txyWwirLcXl0wIUtpGAUBHuqWAHemHS4ZFgIEA4HPA\n",
       "JYMtpaNZU4BTyo6Q3se4pRYT0muFxzsF+LWy4yzPAJofQf4aSm7/AAAAAElFTkSuQmCC\n",
       "\" style=\"display:inline;vertical-align:middle;\" /></a></span>"
      ],
      "text/plain": [
       "|- (TRUE = FALSE) = FALSE"
      ]
     },
     "execution_count": 33,
     "metadata": {},
     "output_type": "execute_result"
    }
   ],
   "source": [
    "logic.TRUE.evalEquality(logic.FALSE)"
   ]
  },
  {
   "cell_type": "markdown",
   "metadata": {},
   "source": [
    "That is a sneak preview of a known truth (**KnownTruth** object) that uses the turnstile notation, $\\boldsymbol{\\vdash}$, to indicate that the expression is a proven statement.  There will be more on this in later tutorial chapters."
   ]
  },
  {
   "cell_type": "markdown",
   "metadata": {},
   "source": [
    "<a name=\"ExprTuple\"></a>ExprTuple\n",
    "=========\n",
    "\n",
    "An `ExprTuple` is an ordered collection of **expression** objects which we previewed briefly already.  Here is another example:"
   ]
  },
  {
   "cell_type": "code",
   "execution_count": 34,
   "metadata": {},
   "outputs": [
    {
     "data": {
      "text/html": [
       "<strong id=\"et\">et:</strong> <a class=\"ProveItLink\" href=\"__pv_it/fc7c59bb0fdda9d6215af12825de4923cab109a90/expr.ipynb\"><img src=\"data:image/png;base64,iVBORw0KGgoAAAANSUhEUgAAAJMAAAAVBAMAAACwIsHjAAAAMFBMVEX////MzMxUVFREREQiIiK6\n",
       "uroQEBCYmJhmZmYyMjLu7u52dnaqqqqIiIjc3NwAAACFAiZ1AAAAAXRSTlMAQObYZgAAAAlwSFlz\n",
       "AAAOxAAADsQBlSsOGwAAAhdJREFUOMutVEFrE0EYfU1idrubbvMTcutJ6EmsUAmSg0gPOUiLh1Kh\n",
       "FA+i7tGTTbVQtRZDL0XxMNBzSSKlh5bSnFsK8aJeIkFy8NYIgjSF0u/b2WSm2YlI6EIyb97Me/N9\n",
       "M98MgAau4AtMRqr/L0jD6bPwLP8daYRzI9s7ZznH3x3ZefYhJ8xWHJBT1JnhgmHacRfl/uz2C/gj\n",
       "YPs6MVr9p1Wmf+7PgeQlYk4MapUUeHCJ2MagVsM+VqnxVn/UJLFefxcOufVK1GqsvhQiJcHe9zTP\n",
       "z2CDmulGvC1P8FSU5Gl7U3gVtbqFk7xEXQmaeeepV4VVxBQZPIItiyDVxqhcLFHGk6gVEJcTlQSP\n",
       "gZsjAqksFugQ26zkzy6iJNF7YdormnEuGyWh4N64wFCLrZLjKOU7ZTUny2HetO3xIuzf8ry6EkLY\n",
       "oWq79hCfwIEshmXlh+E4ZyarZBaxVoCUhLM4oOUpwUnqVTGRajhsladNYIC/tA6EZsWsGwTBrCah\n",
       "Et+h1hrHZ0qrZt11UaIbFPPjhQDgNVBxTjUrZr0CvoqAVRI7A+tgiNoa7tOC1ys/vyBxj9AalRUD\n",
       "uPt1gfDuzgRHyuyvl28RsEqCvW++vU/jDSTSnZ04jICUfo1M7KEablKO3begHAGufjNMbFnBFfrd\n",
       "7rxVtV6ALf0pM7CKg0c1gc2wY6EXQH9/TKyl3QLO2vOv4m1/AVwAHOuZUgjIl28AAAAASUVORK5C\n",
       "YII=\n",
       "\" style=\"display:inline;vertical-align:middle;\" /></a><br>"
      ],
      "text/plain": [
       "et: (a , b , c , true , 5 , a , alpha)"
      ]
     },
     "execution_count": 34,
     "metadata": {},
     "output_type": "execute_result"
    }
   ],
   "source": [
    "et = ExprTuple(a, b, c, TRUE, FIVE, a, alpha)"
   ]
  },
  {
   "cell_type": "markdown",
   "metadata": {},
   "source": [
    "An `ExprTuple` may be used as the *operands* or *operations* of an `Operation`, the *parameters* of a `Lambda` map, or the *values* and *conditions* of a `Conditional`.  A Python tuple (or any iterable) will automatically be converted to an `ExprTuple` when it is passed in for any of these roles when constructing an `Operation`, `Lambda`, or `Conditional`. "
   ]
  },
  {
   "cell_type": "markdown",
   "metadata": {},
   "source": [
    "Substitution typically carries forward in a straightforward manner."
   ]
  },
  {
   "cell_type": "code",
   "execution_count": 35,
   "metadata": {},
   "outputs": [
    {
     "data": {
      "text/html": [
       "<a class=\"ProveItLink\" href=\"__pv_it/24440de94ba5fb1aeaee0727cf352ecbdcbce52c0/expr.ipynb\"><img src=\"data:image/png;base64,iVBORw0KGgoAAAANSUhEUgAAAJ0AAAAVBAMAAACu6/FQAAAAMFBMVEX////MzMxUVFREREQiIiK6\n",
       "uroQEBCYmJhmZmYyMjLu7u52dnaqqqqIiIjc3NwAAACFAiZ1AAAAAXRSTlMAQObYZgAAAAlwSFlz\n",
       "AAAOxAAADsQBlSsOGwAAAfRJREFUOMtjYGB4wEAtADaJ9wApWhgZGNbhlIwFEadBBGsBTGxxCroq\n",
       "DhcwUABz2H5O8YLLhKOpBDmNawKIxXMBLjgDi8UIaRZ/7wVw4bPo6mYBbS9AM+8PXvOYkIUxzKsA\n",
       "egBNA+svCsxjW8AQiaaB24EC8zgLGLrRNHDq3oBF+N7bApjm1d4QwGbebrAwtwLDdDQN62dx/YOw\n",
       "nhzgMMAwj3kB31cs5j0J4MrjO8DAPoHBB03D+QUMfyEsbwa2CxjmAYEJFvOyGRgseBcw8DgwpKJp\n",
       "6GTg+g1Jdr+whR8Q9D/AMA+ktpMbmNo/YJg3g4EVkmLYDLCZZwk0TwDDPJDabbuAiSOBYQ6ahu8w\n",
       "h63fgM08YO7Rx/QvSO1+YDQC/WuLpAGU8r8yLCsAM/iBCT2AiwFNGqgxmYEL2TwuqNptQJrdgGET\n",
       "QgPXTyChzmABYXA0MHALrJ+AJv2CgTeLASoKMQ/E4VBgYN8PLCo4LjCEgDO8Wwoow7sAXbAClPxA\n",
       "DIbdd28xsEAyP6S4AInydWgsgIi2uLikubg4QTi7rxdw7AXm7gcMLAJIwbQAncFwigGLNIooMucJ\n",
       "0MsNCC43BoMBKVJwiCJz2oHYDsFdi8HgQk542EWROHygJLYYIVWAwWBHdgh2USQOMyhA+AqoVn/U\n",
       "MTAAALUokWxLlH5pAAAAAElFTkSuQmCC\n",
       "\" style=\"display:inline;vertical-align:middle;\" /></a>"
      ],
      "text/plain": [
       "(false , b , c , true , 5 , false , alpha)"
      ]
     },
     "execution_count": 35,
     "metadata": {},
     "output_type": "execute_result"
    }
   ],
   "source": [
    "et.substituted({a:FALSE})"
   ]
  },
  {
   "cell_type": "markdown",
   "metadata": {},
   "source": [
    "Note that the *substitution* occurs on all relevant instances.  And, as always, `substituted` is non-mutating:"
   ]
  },
  {
   "cell_type": "code",
   "execution_count": 36,
   "metadata": {},
   "outputs": [
    {
     "data": {
      "text/html": [
       "<a class=\"ProveItLink\" href=\"__pv_it/fc7c59bb0fdda9d6215af12825de4923cab109a90/expr.ipynb\"><img src=\"data:image/png;base64,iVBORw0KGgoAAAANSUhEUgAAAJMAAAAVBAMAAACwIsHjAAAAMFBMVEX////MzMxUVFREREQiIiK6\n",
       "uroQEBCYmJhmZmYyMjLu7u52dnaqqqqIiIjc3NwAAACFAiZ1AAAAAXRSTlMAQObYZgAAAAlwSFlz\n",
       "AAAOxAAADsQBlSsOGwAAAhdJREFUOMutVEFrE0EYfU1idrubbvMTcutJ6EmsUAmSg0gPOUiLh1Kh\n",
       "FA+i7tGTTbVQtRZDL0XxMNBzSSKlh5bSnFsK8aJeIkFy8NYIgjSF0u/b2WSm2YlI6EIyb97Me/N9\n",
       "M98MgAau4AtMRqr/L0jD6bPwLP8daYRzI9s7ZznH3x3ZefYhJ8xWHJBT1JnhgmHacRfl/uz2C/gj\n",
       "YPs6MVr9p1Wmf+7PgeQlYk4MapUUeHCJ2MagVsM+VqnxVn/UJLFefxcOufVK1GqsvhQiJcHe9zTP\n",
       "z2CDmulGvC1P8FSU5Gl7U3gVtbqFk7xEXQmaeeepV4VVxBQZPIItiyDVxqhcLFHGk6gVEJcTlQSP\n",
       "gZsjAqksFugQ26zkzy6iJNF7YdormnEuGyWh4N64wFCLrZLjKOU7ZTUny2HetO3xIuzf8ry6EkLY\n",
       "oWq79hCfwIEshmXlh+E4ZyarZBaxVoCUhLM4oOUpwUnqVTGRajhsladNYIC/tA6EZsWsGwTBrCah\n",
       "Et+h1hrHZ0qrZt11UaIbFPPjhQDgNVBxTjUrZr0CvoqAVRI7A+tgiNoa7tOC1ys/vyBxj9AalRUD\n",
       "uPt1gfDuzgRHyuyvl28RsEqCvW++vU/jDSTSnZ04jICUfo1M7KEablKO3begHAGufjNMbFnBFfrd\n",
       "7rxVtV6ALf0pM7CKg0c1gc2wY6EXQH9/TKyl3QLO2vOv4m1/AVwAHOuZUgjIl28AAAAASUVORK5C\n",
       "YII=\n",
       "\" style=\"display:inline;vertical-align:middle;\" /></a>"
      ],
      "text/plain": [
       "(a , b , c , true , 5 , a , alpha)"
      ]
     },
     "execution_count": 36,
     "metadata": {},
     "output_type": "execute_result"
    }
   ],
   "source": [
    "et"
   ]
  },
  {
   "cell_type": "markdown",
   "metadata": {},
   "source": [
    "The **expression** constituents of an `ExprTuple` are known as *entries*:"
   ]
  },
  {
   "cell_type": "code",
   "execution_count": 37,
   "metadata": {},
   "outputs": [
    {
     "data": {
      "text/html": [
       "<a class=\"ProveItLink\" href=\"../packages/proveit/__pv_it/a8d4b3a34d2189508f9082853fbac36935714f280/expr.ipynb\"><img src=\"data:image/png;base64,iVBORw0KGgoAAAANSUhEUgAAAAsAAAAJBAMAAAAWSsseAAAAMFBMVEX////MzMxUVFQyMjKqqqoi\n",
       "IiKYmJju7u5EREQQEBC6urqIiIh2dnZmZmbc3NwAAAD0tjQRAAAAAXRSTlMAQObYZgAAAAlwSFlz\n",
       "AAAOxAAADsQBlSsOGwAAAEdJREFUCNdjYOC7s28DAwPDygcc3xkY2Kcx8AYwMPB+Z2A9wMDA2cBQ\n",
       "v4CBof4AQz5QRb0DQzPLAwbmDWyxPECV2gcfbWQAABp5EMgcedARAAAAAElFTkSuQmCC\n",
       "\" style=\"display:inline;vertical-align:middle;\" /></a>"
      ],
      "text/plain": [
       "a"
      ]
     },
     "execution_count": 37,
     "metadata": {},
     "output_type": "execute_result"
    }
   ],
   "source": [
    "et.entries[5]"
   ]
  },
  {
   "cell_type": "markdown",
   "metadata": {},
   "source": [
    "The enumerated mathematical objects represented by the `ExprTuple` are known as *elements*.  The *elements* and *entries* are in correspondence except when the `ExprTuple` contains an `Iter`.  A contained `Iter` is a single *entry* but may represent multiple elements.  For example, the second *entry* of $(a, b_1, ..., b_n)$ is the `Iter` $b_1, ..., b_n$, but the second *element*, assuming $n \\geq 1$, is $b_1$.  We will revisit this in the <a href=\"#Iter\">Iter</a> section."
   ]
  },
  {
   "cell_type": "markdown",
   "metadata": {},
   "source": [
    "`ExprTuple` *substitution* is more interesting when an `Iter` containing an `IndexedVar` is expanded such that the `Iter` splits into multiple *entries*.  This will be demonstrated in the <a href=\"#IndexedVar\">IndexedVar</a> section.  "
   ]
  },
  {
   "cell_type": "markdown",
   "metadata": {},
   "source": [
    "<a name=\"Operation\"></a>Operation\n",
    "=========\n",
    "\n",
    "This type of **expression** represents an applied operation.  It contains *operator(s)* and *operand(s)*.  The default formatting of an `Operation` with one *operator* and more than one *operand* is to place the *operator* between each successive pair of *operands* as follows."
   ]
  },
  {
   "cell_type": "code",
   "execution_count": 38,
   "metadata": {},
   "outputs": [
    {
     "data": {
      "text/html": [
       "<strong id=\"triple_prod\">triple_prod:</strong> <a class=\"ProveItLink\" href=\"__pv_it/7a35d52888c4e1a38dd158db571b62cc688c0c290/expr.ipynb\"><img src=\"data:image/png;base64,iVBORw0KGgoAAAANSUhEUgAAAFcAAAAOBAMAAACoZ51gAAAAMFBMVEX///8QEBC6uroyMjJERETc\n",
       "3NyYmJgiIiJmZmaqqqp2dnbMzMxUVFSIiIju7u4AAAAoIwv1AAAAAXRSTlMAQObYZgAAAAlwSFlz\n",
       "AAAOxAAADsQBlSsOGwAAAQRJREFUKM9jYICDo0AczIAMMEXe3nm9agKIEb6BgbUaLNLLwHcARYTh\n",
       "AITH0MB7lqMAJAAUB/EZGBZMZGD7gCLCCTIt/gIDWwDvV54EsPbwrWBjWCc0M/A4IIswcIAIrgkM\n",
       "3AwsBlAHsZaDjeFjkGVgvIAswqDEwOAANBbI4r+AqpiB6R/D/g0oIhcYuBsYuEAs/QC+B6iWGjBc\n",
       "ZEARaWDgncAQxcDwROE8RA/COywHGHxQRbwZ9jfw2TEwzN/XyKDJgBJQHAeYvqGKLFwj+acRGAov\n",
       "7nK2gYMZqB0aBXynbnxFFXnyOeCiLAMOwGXAQCxoZng4gWjFtQyniFbLMPeGAnYJAP35UAHKoGi+\n",
       "AAAAAElFTkSuQmCC\n",
       "\" style=\"display:inline;vertical-align:middle;\" /></a><br>"
      ],
      "text/plain": [
       "triple_prod: x * y * omega"
      ]
     },
     "execution_count": 38,
     "metadata": {},
     "output_type": "execute_result"
    }
   ],
   "source": [
    "from proveit import Operation\n",
    "triple_prod = Operation(TIMES, [x, y, omega])"
   ]
  },
  {
   "cell_type": "markdown",
   "metadata": {},
   "source": [
    "A `Function` is derived from `Operation`.  It behaves in the same manner except it formats it in a \"function\" style:"
   ]
  },
  {
   "cell_type": "code",
   "execution_count": 39,
   "metadata": {},
   "outputs": [
    {
     "data": {
      "text/html": [
       "<strong id=\"fx\">fx:</strong> <a class=\"ProveItLink\" href=\"__pv_it/840097fffde26d8a6a04023d39acdd6f7351d11a0/expr.ipynb\"><img src=\"data:image/png;base64,iVBORw0KGgoAAAANSUhEUgAAACkAAAAVBAMAAAAp9toTAAAAMFBMVEX///8yMjLc3NyIiIiYmJgi\n",
       "IiJERES6urqqqqoQEBDMzMxUVFTu7u52dnZmZmYAAAD1zdHuAAAAAXRSTlMAQObYZgAAAAlwSFlz\n",
       "AAAOxAAADsQBlSsOGwAAAQJJREFUGNNjYIADJiitwIAMLKB0MYTiu3sASHJcgIoyN4Cp2ytB9EG4\n",
       "JhkwOaMMpPYJXNQPRLD/AbMnwEU5QYp4A8ByAnBRRgcGBpad0Q9AVgIt4zHes/YGUNkGIJ/fAKaA\n",
       "j8Ha4ClQHUib/gKQKCvQHU4M9gpbgG4EGdkPsaKAgWEBQyKIyfUBSFyFizIwfAZbDHJONsRikE/Y\n",
       "PzGcgZowGSzKZsDAk879gQHoFJYEYFD9AosCncPx69wEdqAWPqCjOD6ARdkDGHgeG/R5gJwDDEu+\n",
       "DRAfRcH9psrA0M3YgBQmYAAMpzBYCLLB4oAJaJnzIyiHJwEmfQA5hlSgtBMDAwB4pDQ5CynbdAAA\n",
       "AABJRU5ErkJggg==\n",
       "\" style=\"display:inline;vertical-align:middle;\" /></a><br>"
      ],
      "text/plain": [
       "fx: f(x)"
      ]
     },
     "execution_count": 39,
     "metadata": {},
     "output_type": "execute_result"
    }
   ],
   "source": [
    "from proveit import Function\n",
    "\n",
    "# Simple case: a Variable operator with a single Variable operand\n",
    "f = Variable('f')\n",
    "fx = Function(f, x)"
   ]
  },
  {
   "cell_type": "markdown",
   "metadata": {},
   "source": [
    "Common forms of these are available from <a class=\"ProveItLink\" href=\"../packages/proveit/_common_.ipynb\">proveit._common_</a>:"
   ]
  },
  {
   "cell_type": "code",
   "execution_count": 40,
   "metadata": {},
   "outputs": [
    {
     "data": {
      "text/html": [
       "<a class=\"ProveItLink\" href=\"__pv_it/72cd3477d9bfffca270432703e067d832a100cbb0/expr.ipynb\"><img src=\"data:image/png;base64,iVBORw0KGgoAAAANSUhEUgAAAOcAAAAVBAMAAABPgOQBAAAAMFBMVEX////MzMxUVFREREQiIiK6\n",
       "uroQEBCYmJhmZmYyMjLu7u52dnaqqqqIiIjc3NwAAACFAiZ1AAAAAXRSTlMAQObYZgAAAAlwSFlz\n",
       "AAAOxAAADsQBlSsOGwAAA2JJREFUSMedVk9IFGEUf+v+G2d3x6FDhzpoBZVCKEGBkrpBh4gIiYiM\n",
       "wgXzUEhIQRSFSVhGIhodghDa8KKBKCIE2cFDgdTBxUNEJS4oeIhoN+kQ6Np7b+b7Zr5xBqSB+fbN\n",
       "/H7f73vfe+97swCQB+eybQO2XoZK+S/UEIzUrAMKO5rbOvG7/XvZV3Z7KOky4xM/9r91bBfLuZKT\n",
       "HsfIbF7bW/8kCAX40T/VpaCkSwx9iB4SezpB2HSVZ72LjknrhfOyAicczQahiacA1epc0kWGxr7E\n",
       "PjSAsOmK93gX7ZPWbedlJYZrPheA6s9IuEdBSRcZMX5o453FHLlr3kUz0oo5UVgy8Z4MQMvTOJQV\n",
       "FJR0kdHK9jSPrQ743LNmdMgJkYwHNNNtBqCDJoW4qKCki4x+Mm9cOcjVhPf4wqsZTPWUpM0trlLk\n",
       "cT/6Ys3ud6hTJbE1VNwIQI01GrU/FurSRYa1pQ25vZ7UIQ3jckdWw5DRbm9Ag4VcL+ZFOh7aAGN6\n",
       "NgDV1nnjJXvzji4yTrNXReahHc+nSmVIei+E57PsUQS1u2EpfwAPQFoemd8zb1ogAI2UaJzIWKhL\n",
       "FxkdfJAKzEM7BGF2tVIIt0OIZsdQ3IR63l9BYGFh+aEVbNzvslCXLjJ40URaLIpk7kbnRQTXIZWx\n",
       "Ze0sRDPuYyoX9aIR0tSvSlTqImOYXbayz3ZbXs864Y2XLLCcUhctwWt3eCtFp/FD8bBcAu26QB1d\n",
       "ZDSyp1avRXukpRYSaN4kN2nRAkxQHYRzoB9BHVwmXofPfBqXWkScfdDQeupi7lbeQt26yOCz8cvk\n",
       "uWjP73qEDgIMUBFg9PQS1JIE1nmyOJqJotMaauh/if9Slrgf+vknPK6xUbcuMs5xiVpz0R5dTPZR\n",
       "NM5QVk7hcPZbL6cqDfpAbu4evSbvT6An1ZuNonX4oBDaN9OBBcSoWxcZEdrkAzv3pvwAcmY+sn2S\n",
       "x+OyI6xwvatfhAD0GHxVUdJd4RacrBr2tnmr9WOKdmRDRU8j5/adULtkAHo4WaeipEuMJog0iNJv\n",
       "EuAyfyYwPfuzY1aRhcV/AoN1xtVFA9DBTVNBSZcZIxD/Il6OCLCBN473hbsP7Q9VndDn0HWpiwag\n",
       "OztVlHSZYbjmCzvu81dn1f7t9v1Dsj2UdJHxD3zGFM449a6wAAAAAElFTkSuQmCC\n",
       "\" style=\"display:inline;vertical-align:middle;\" /></a>"
      ],
      "text/plain": [
       "(f(x) , g(x) , P(x) , Q(x))"
      ]
     },
     "execution_count": 40,
     "metadata": {},
     "output_type": "execute_result"
    }
   ],
   "source": [
    "from proveit._common_ import fx, gx, Px, Qx\n",
    "ExprTuple(fx, gx, Px, Qx)"
   ]
  },
  {
   "cell_type": "markdown",
   "metadata": {},
   "source": [
    "An `Operation` may have a single *operator* that is a *label* (*variable* or *literal*), or it may have multiple *operators* that are *labels* and/or *iterations of indexed variables.*"
   ]
  },
  {
   "cell_type": "code",
   "execution_count": 41,
   "metadata": {},
   "outputs": [
    {
     "name": "stdout",
     "output_type": "stream",
     "text": [
      "Expected TypeError: operator(s) must be a Label, an indexed variable (IndexedVar), or iteration (Iter) over indexedvariables (IndexedVar). f(x) is none of those.\n"
     ]
    }
   ],
   "source": [
    "try:\n",
    "    Operation(fx, fx)\n",
    "    assert False, \"Expecting a TypeError; should not make it to this point\"\n",
    "except TypeError as e:\n",
    "    print(\"Expected TypeError: %s\"%str(e))"
   ]
  },
  {
   "cell_type": "markdown",
   "metadata": {},
   "source": [
    "The `operators` and `operands` attributes access the *operators* and *operands* respectively as `ExprTuple`s:"
   ]
  },
  {
   "cell_type": "code",
   "execution_count": 42,
   "metadata": {},
   "outputs": [
    {
     "data": {
      "text/html": [
       "<a class=\"ProveItLink\" href=\"__pv_it/13ea3be10e356d99c9d0fc96f3f1218a968e1bbc0/expr.ipynb\"><img src=\"data:image/png;base64,iVBORw0KGgoAAAANSUhEUgAAABwAAAAVBAMAAACnLJNvAAAAMFBMVEX////MzMxUVFREREQiIiK6\n",
       "uroQEBCYmJhmZmYyMjLu7u52dnaqqqqIiIjc3NwAAACFAiZ1AAAAAXRSTlMAQObYZgAAAAlwSFlz\n",
       "AAAOxAAADsQBlSsOGwAAAJxJREFUGNNjYGB4wAAFfCCC9wCMy3oBSJxmgIM7DAxcExBczgUMHAUI\n",
       "LnsDAxsDEshiiASSTEDD+UCapjN0g2xwZGB4IgBkbAIKMIDYIBEGhkoGH7ADHMGSDEcYUsFmPAFL\n",
       "MsijcsMY5qAqtkU2qhhoNpJFvQwhQJJZAOoMPwYWAYQb+RxAzoYDkHfsENzHQLwYwbUCaYB7mP0B\n",
       "AwDoUyE4tYcTggAAAABJRU5ErkJggg==\n",
       "\" style=\"display:inline;vertical-align:middle;\" /></a>"
      ],
      "text/plain": [
       "(*)"
      ]
     },
     "execution_count": 42,
     "metadata": {},
     "output_type": "execute_result"
    }
   ],
   "source": [
    "triple_prod.operators"
   ]
  },
  {
   "cell_type": "code",
   "execution_count": 43,
   "metadata": {},
   "outputs": [
    {
     "data": {
      "text/html": [
       "<a class=\"ProveItLink\" href=\"__pv_it/9bbc1d9bc554a6fa3a3b354704953db632831e720/expr.ipynb\"><img src=\"data:image/png;base64,iVBORw0KGgoAAAANSUhEUgAAAEMAAAAVBAMAAADvM06qAAAAMFBMVEX////MzMxUVFREREQiIiK6\n",
       "uroQEBCYmJhmZmYyMjLu7u52dnaqqqqIiIjc3NwAAACFAiZ1AAAAAXRSTlMAQObYZgAAAAlwSFlz\n",
       "AAAOxAAADsQBlSsOGwAAAV1JREFUKM+Fkj1LA0EQhp/k8uUld6YUG68SIYjBXo1gqZDCRlC0UQsR\n",
       "UlpJKkMQ4TpBRCIB0SIQbLVIZaOSYCEpFK7wB6TzAwzO7t2158DOPTvz7s3ssIBHhOmk1YmSbCj3\n",
       "GKXQPzDdSAlnkKlESw4gFa0g1WDtH8lIhWP5tF4u7/x7tU4wHU1xWfYiZB1OBavWdKakE+0H0gNN\n",
       "T0ryC2mXZfGeNYzrru1OnXhRS6rK3UOuxDbEMIKbm+yT6ilKljHgUJIDJYHRXtBc8oeJvB4ZjEld\n",
       "iWxxrgKbntnQkozLqw/wht3WheagWZ4hC0pkOMxqMvKxL24E0kVuoTt+xDrmtzrsJD81Zfcmu1O7\n",
       "KtJjFa7fczUZy5KcMQv9oSZz4cLaUR0mPBL5cI453U7WDcm3D6lVDTfSDnWuOj6FVpM1H25aslYo\n",
       "BBSYrQbZDHdqvs/9ckCBGaqmHflgZL5/m+xNbhqL7s4AAAAASUVORK5CYII=\n",
       "\" style=\"display:inline;vertical-align:middle;\" /></a>"
      ],
      "text/plain": [
       "(x , y , omega)"
      ]
     },
     "execution_count": 43,
     "metadata": {},
     "output_type": "execute_result"
    }
   ],
   "source": [
    "triple_prod.operands"
   ]
  },
  {
   "cell_type": "markdown",
   "metadata": {},
   "source": [
    "If there is only one *operator* or *operand*, it may be accessed via the respective `operator` and `operand` attributes: "
   ]
  },
  {
   "cell_type": "code",
   "execution_count": 44,
   "metadata": {},
   "outputs": [
    {
     "data": {
      "text/html": [
       "<a class=\"ProveItLink\" href=\"__pv_it/2aa2770ecd6df3980d5a7bf9fb8028f2e7bacc6b0/expr.ipynb\"><img src=\"data:image/png;base64,iVBORw0KGgoAAAANSUhEUgAAAAsAAAAKBAMAAACQ3rmwAAAAGFBMVEX///9ERETMzMwiIiIyMjLc\n",
       "3NxUVFQAAAAgG4XFAAAAAXRSTlMAQObYZgAAAAlwSFlzAAAOxAAADsQBlSsOGwAAACxJREFUCNdj\n",
       "SGVgYAhhYAhWYGA1YgBhIAvIVQVygFxjBSQKIghVAtUgBNYOANfZBcwBxOcJAAAAAElFTkSuQmCC\n",
       "\" style=\"display:inline;vertical-align:middle;\" /></a>"
      ],
      "text/plain": [
       "*"
      ]
     },
     "execution_count": 44,
     "metadata": {},
     "output_type": "execute_result"
    }
   ],
   "source": [
    "triple_prod.operator"
   ]
  },
  {
   "cell_type": "code",
   "execution_count": 45,
   "metadata": {},
   "outputs": [
    {
     "data": {
      "text/html": [
       "<a class=\"ProveItLink\" href=\"__pv_it/72df168d2bfb4e0140af90912ebf83b13772060b0/expr.ipynb\"><img src=\"data:image/png;base64,iVBORw0KGgoAAAANSUhEUgAAAAsAAAAJBAMAAAAWSsseAAAAMFBMVEX///8QEBC6uroyMjJERETc\n",
       "3NyYmJgiIiJmZmaqqqp2dnbMzMxUVFSIiIju7u4AAAAoIwv1AAAAAXRSTlMAQObYZgAAAAlwSFlz\n",
       "AAAOxAAADsQBlSsOGwAAAENJREFUCNdjYHh75/WqCQwMDbxnOQoY2AJ4v/IkMHAzsBgwgAD/BTCl\n",
       "H8D3gOGJwnkGLgaG+fsaGTQZGF7c5WybwAAAJGsQ2L2rVEcAAAAASUVORK5CYII=\n",
       "\" style=\"display:inline;vertical-align:middle;\" /></a>"
      ],
      "text/plain": [
       "x"
      ]
     },
     "execution_count": 45,
     "metadata": {},
     "output_type": "execute_result"
    }
   ],
   "source": [
    "fx.operand"
   ]
  },
  {
   "cell_type": "code",
   "execution_count": 46,
   "metadata": {},
   "outputs": [
    {
     "data": {
      "text/plain": [
       "False"
      ]
     },
     "execution_count": 46,
     "metadata": {},
     "output_type": "execute_result"
    }
   ],
   "source": [
    "# An Operation does not have an `operand` attribute\n",
    "# if there is more than one *operand*.\n",
    "hasattr(triple_prod, 'operand')"
   ]
  },
  {
   "cell_type": "markdown",
   "metadata": {},
   "source": [
    "Looking at the expression information, we see that `triple_prod` has `operands` that is an `ExprTuple` but a single `operator` that is a `Literal`."
   ]
  },
  {
   "cell_type": "code",
   "execution_count": 47,
   "metadata": {},
   "outputs": [
    {
     "data": {
      "text/html": [
       "<table><tr><th>&nbsp;</th><th>core type</th><th>sub-expressions</th><th>expression</th></tr>\n",
       "<tr><td>0</td><td>Operation</td><td>operator:&nbsp;1<br>operands:&nbsp;2<br></td><td><a class=\"ProveItLink\" href=\"__pv_it/7a35d52888c4e1a38dd158db571b62cc688c0c290/expr.ipynb\"><img src=\"data:image/png;base64,iVBORw0KGgoAAAANSUhEUgAAAFcAAAAOBAMAAACoZ51gAAAAMFBMVEX///8QEBC6uroyMjJERETc\n",
       "3NyYmJgiIiJmZmaqqqp2dnbMzMxUVFSIiIju7u4AAAAoIwv1AAAAAXRSTlMAQObYZgAAAAlwSFlz\n",
       "AAAOxAAADsQBlSsOGwAAAQRJREFUKM9jYICDo0AczIAMMEXe3nm9agKIEb6BgbUaLNLLwHcARYTh\n",
       "AITH0MB7lqMAJAAUB/EZGBZMZGD7gCLCCTIt/gIDWwDvV54EsPbwrWBjWCc0M/A4IIswcIAIrgkM\n",
       "3AwsBlAHsZaDjeFjkGVgvIAswqDEwOAANBbI4r+AqpiB6R/D/g0oIhcYuBsYuEAs/QC+B6iWGjBc\n",
       "ZEARaWDgncAQxcDwROE8RA/COywHGHxQRbwZ9jfw2TEwzN/XyKDJgBJQHAeYvqGKLFwj+acRGAov\n",
       "7nK2gYMZqB0aBXynbnxFFXnyOeCiLAMOwGXAQCxoZng4gWjFtQyniFbLMPeGAnYJAP35UAHKoGi+\n",
       "AAAAAElFTkSuQmCC\n",
       "\" style=\"display:inline;vertical-align:middle;\" /></a></td></tr>\n",
       "<tr><td>1</td><td>Literal</td><td></td><td><a class=\"ProveItLink\" href=\"__pv_it/2aa2770ecd6df3980d5a7bf9fb8028f2e7bacc6b0/expr.ipynb\"><img src=\"data:image/png;base64,iVBORw0KGgoAAAANSUhEUgAAAAsAAAAKBAMAAACQ3rmwAAAAGFBMVEX///9ERETMzMwiIiIyMjLc\n",
       "3NxUVFQAAAAgG4XFAAAAAXRSTlMAQObYZgAAAAlwSFlzAAAOxAAADsQBlSsOGwAAACxJREFUCNdj\n",
       "SGVgYAhhYAhWYGA1YgBhIAvIVQVygFxjBSQKIghVAtUgBNYOANfZBcwBxOcJAAAAAElFTkSuQmCC\n",
       "\" style=\"display:inline;vertical-align:middle;\" /></a></td></tr>\n",
       "<tr><td>2</td><td>ExprTuple</td><td>3, 4, 5</td><td><a class=\"ProveItLink\" href=\"__pv_it/9bbc1d9bc554a6fa3a3b354704953db632831e720/expr.ipynb\"><img src=\"data:image/png;base64,iVBORw0KGgoAAAANSUhEUgAAAEMAAAAVBAMAAADvM06qAAAAMFBMVEX////MzMxUVFREREQiIiK6\n",
       "uroQEBCYmJhmZmYyMjLu7u52dnaqqqqIiIjc3NwAAACFAiZ1AAAAAXRSTlMAQObYZgAAAAlwSFlz\n",
       "AAAOxAAADsQBlSsOGwAAAV1JREFUKM+Fkj1LA0EQhp/k8uUld6YUG68SIYjBXo1gqZDCRlC0UQsR\n",
       "UlpJKkMQ4TpBRCIB0SIQbLVIZaOSYCEpFK7wB6TzAwzO7t2158DOPTvz7s3ssIBHhOmk1YmSbCj3\n",
       "GKXQPzDdSAlnkKlESw4gFa0g1WDtH8lIhWP5tF4u7/x7tU4wHU1xWfYiZB1OBavWdKakE+0H0gNN\n",
       "T0ryC2mXZfGeNYzrru1OnXhRS6rK3UOuxDbEMIKbm+yT6ilKljHgUJIDJYHRXtBc8oeJvB4ZjEld\n",
       "iWxxrgKbntnQkozLqw/wht3WheagWZ4hC0pkOMxqMvKxL24E0kVuoTt+xDrmtzrsJD81Zfcmu1O7\n",
       "KtJjFa7fczUZy5KcMQv9oSZz4cLaUR0mPBL5cI453U7WDcm3D6lVDTfSDnWuOj6FVpM1H25aslYo\n",
       "BBSYrQbZDHdqvs/9ckCBGaqmHflgZL5/m+xNbhqL7s4AAAAASUVORK5CYII=\n",
       "\" style=\"display:inline;vertical-align:middle;\" /></a></td></tr>\n",
       "<tr><td>3</td><td>Variable</td><td></td><td><a class=\"ProveItLink\" href=\"../packages/proveit/__pv_it/72df168d2bfb4e0140af90912ebf83b13772060b0/expr.ipynb\"><img src=\"data:image/png;base64,iVBORw0KGgoAAAANSUhEUgAAAAsAAAAJBAMAAAAWSsseAAAAMFBMVEX///8QEBC6uroyMjJERETc\n",
       "3NyYmJgiIiJmZmaqqqp2dnbMzMxUVFSIiIju7u4AAAAoIwv1AAAAAXRSTlMAQObYZgAAAAlwSFlz\n",
       "AAAOxAAADsQBlSsOGwAAAENJREFUCNdjYHh75/WqCQwMDbxnOQoY2AJ4v/IkMHAzsBgwgAD/BTCl\n",
       "H8D3gOGJwnkGLgaG+fsaGTQZGF7c5WybwAAAJGsQ2L2rVEcAAAAASUVORK5CYII=\n",
       "\" style=\"display:inline;vertical-align:middle;\" /></a></td></tr>\n",
       "<tr><td>4</td><td>Variable</td><td></td><td><a class=\"ProveItLink\" href=\"../packages/proveit/__pv_it/c6e291955561f22a0e6708fd793ea93f1c7dbb5d0/expr.ipynb\"><img src=\"data:image/png;base64,iVBORw0KGgoAAAANSUhEUgAAAAsAAAANBAMAAACN24kIAAAAMFBMVEX///8iIiLMzMy6urpEREQy\n",
       "MjLc3NyYmJgQEBCqqqp2dnZUVFRmZmaIiIju7u4AAACJ/BCYAAAAAXRSTlMAQObYZgAAAAlwSFlz\n",
       "AAAOxAAADsQBlSsOGwAAAFdJREFUCNdj4LtzgeE1AwMXZwNDPQNDJk8AwxYGhgccFxh6GRgY7B8w\n",
       "fQJSRxl4G4CUNwPLBiB1msG+AEi9Xns+gQEElgIxTwBfJ5BivMC9AEhx3j0MJAH6nBTYXSPRQAAA\n",
       "AABJRU5ErkJggg==\n",
       "\" style=\"display:inline;vertical-align:middle;\" /></a></td></tr>\n",
       "<tr><td>5</td><td>Variable</td><td></td><td><a class=\"ProveItLink\" href=\"__pv_it/2ddb9b2c59c2ec7c4cf837f36c192819a0ae0e4a0/expr.ipynb\"><img src=\"data:image/png;base64,iVBORw0KGgoAAAANSUhEUgAAAA0AAAAJBAMAAAAbVLtZAAAAMFBMVEX///8QEBAyMjLu7u6YmJhE\n",
       "RES6urp2dnZmZmaIiIiqqqrMzMwiIiLc3NxUVFQAAACnaCMxAAAAAXRSTlMAQObYZgAAAAlwSFlz\n",
       "AAAOxAAADsQBlSsOGwAAAE9JREFUCNdjYHjAwMBwZwMD1wIgfX8CAweQYmBfwJDGwBDAwHKBYQID\n",
       "dwMDOwNDAwPnAobrDAzRDPsbmJUZGArrpP41OjAwmH66MFGSgQEAOl8RCvglkDgAAAAASUVORK5C\n",
       "YII=\n",
       "\" style=\"display:inline;vertical-align:middle;\" /></a></td></tr>\n",
       "</table>\n"
      ],
      "text/plain": [
       "0. x * y * omega\n",
       "   core type: Operation\n",
       "   operator: 1\n",
       "   operands: 2\n",
       "1. *\n",
       "   core type: Literal\n",
       "   sub-expressions: \n",
       "2. (x , y , omega)\n",
       "   core type: ExprTuple\n",
       "   sub-expressions: 3, 4, 5\n",
       "3. x\n",
       "   core type: Variable\n",
       "   sub-expressions: \n",
       "4. y\n",
       "   core type: Variable\n",
       "   sub-expressions: \n",
       "5. omega\n",
       "   core type: Variable\n",
       "   sub-expressions: "
      ]
     },
     "execution_count": 47,
     "metadata": {},
     "output_type": "execute_result"
    }
   ],
   "source": [
    "triple_prod.exprInfo()"
   ]
  },
  {
   "cell_type": "markdown",
   "metadata": {},
   "source": [
    "### Defining an `Operation` sub-class\n",
    "\n",
    "Let's derive a couple of classes from `Operation` to represent operations with specific literal operators.\n",
    "This is commonly done within Prove-It library modules.  We use the `%load` magic command to display (and execute) the contents of <a href=\"demo_operations.py\">demo_operations.py</a>."
   ]
  },
  {
   "cell_type": "code",
   "execution_count": 48,
   "metadata": {},
   "outputs": [],
   "source": [
    "# %load demo_operations.py\n",
    "'''\n",
    "Module that defines a Operations for demonstration\n",
    "purposes in this tutorial.\n",
    "'''\n",
    "\n",
    "from proveit import Operation, Literal\n",
    "\n",
    "class Factorial(Operation):\n",
    "    # _operator_ is a special class variable name, defining specific literal operator of the Operation class.\n",
    "    # It is not only used for default formatting but also when performing substitutions for rebuilding expressions.\n",
    "    _operator_ = Literal('!')\n",
    "    \n",
    "    def __init__(self, operand):\n",
    "        # creates the Operation with FACTORIAL as the operator and the provided operand as its only operand.\n",
    "        Operation.__init__(self, Factorial._operator_, operand) # initializes self.operand\n",
    "\n",
    "    def string(self, **kwargs): # should accept kwargs even when not used (e.g., 'fence')\n",
    "        # the operand should be fenced (wrapped in parentheses) to prevent ambiguity\n",
    "        return self.operand.string(fence=True) + Factorial._operator_.string()\n",
    "    \n",
    "    def latex(self, **kwargs): # should accept kwargs even when not used (e.g., 'fence')\n",
    "        # the operand should be fenced (wrapped in parentheses) to prevent ambiguity\n",
    "        return self.operand.latex(fence=True) + Factorial._operator_.latex() \n",
    "\n",
    "class Multiply(Operation):\n",
    "    \n",
    "    # This operator Literal has a LaTeX format that differs from the string format.\n",
    "    _operator_ = Literal('*', r'\\times')\n",
    "    \n",
    "    def __init__(self, *operands): # takes a list of arguments as the operands\n",
    "        # creates the AssociativeOperation with TIMES as the operator and any number of operands.\n",
    "        Operation.__init__(self, Multiply._operator_, operands)\n",
    "    \n",
    "    # The default formatting will display the operator between the operands\n"
   ]
  },
  {
   "cell_type": "markdown",
   "metadata": {},
   "source": [
    "In order to work properly, however, we need to import these classes from the module (as Prove-It will use the `__file__` attribute of this module for its internal purposes)."
   ]
  },
  {
   "cell_type": "code",
   "execution_count": 49,
   "metadata": {},
   "outputs": [],
   "source": [
    "from demo_operations import Factorial, Multiply"
   ]
  },
  {
   "cell_type": "markdown",
   "metadata": {},
   "source": [
    "A `Factorial` is an `Operation` with \"!\" as the format of the `Literal` operator.  Its formatting is altered from the default but is still true to the core `Expression` structure (the formatting is a reflection of the internal structure)."
   ]
  },
  {
   "cell_type": "code",
   "execution_count": 50,
   "metadata": {},
   "outputs": [
    {
     "data": {
      "text/html": [
       "<strong id=\"x_factorial\">x_factorial:</strong> <a class=\"ProveItLink\" href=\"__pv_it/b807fb49e2504e02d5450f1cc8f0da5b0dddad130/expr.ipynb\"><img src=\"data:image/png;base64,iVBORw0KGgoAAAANSUhEUgAAABAAAAAPBAMAAAAfXVIcAAAAMFBMVEX///8QEBC6uroyMjJERETc\n",
       "3NyYmJgiIiJmZmaqqqp2dnbMzMxUVFSIiIju7u4AAAAoIwv1AAAAAXRSTlMAQObYZgAAAAlwSFlz\n",
       "AAAOxAAADsQBlSsOGwAAAGdJREFUCNdjYICAGijN+hHK4PsOZTB8hjFkYIwKBoa3d16vmsBgxcDQ\n",
       "wHuWo4DhGANbAO9XngSGTgZuBhYDoJpFQMx/AUikArF+AN8DIPVE4TwDF8iA+fsaGTQZ+D4zvLjL\n",
       "2TYBaCAAFMIY38B4044AAAAASUVORK5CYII=\n",
       "\" style=\"display:inline;vertical-align:middle;\" /></a><br>"
      ],
      "text/plain": [
       "x_factorial: x!"
      ]
     },
     "execution_count": 50,
     "metadata": {},
     "output_type": "execute_result"
    }
   ],
   "source": [
    "# Now we can make an object with this new class\n",
    "x_factorial = Factorial(x)"
   ]
  },
  {
   "cell_type": "code",
   "execution_count": 51,
   "metadata": {},
   "outputs": [
    {
     "data": {
      "text/html": [
       "<table><tr><th>&nbsp;</th><th>core type</th><th>sub-expressions</th><th>expression</th></tr>\n",
       "<tr><td>0</td><td>Operation</td><td>operator:&nbsp;1<br>operand:&nbsp;2<br></td><td><a class=\"ProveItLink\" href=\"__pv_it/b807fb49e2504e02d5450f1cc8f0da5b0dddad130/expr.ipynb\"><img src=\"data:image/png;base64,iVBORw0KGgoAAAANSUhEUgAAABAAAAAPBAMAAAAfXVIcAAAAMFBMVEX///8QEBC6uroyMjJERETc\n",
       "3NyYmJgiIiJmZmaqqqp2dnbMzMxUVFSIiIju7u4AAAAoIwv1AAAAAXRSTlMAQObYZgAAAAlwSFlz\n",
       "AAAOxAAADsQBlSsOGwAAAGdJREFUCNdjYICAGijN+hHK4PsOZTB8hjFkYIwKBoa3d16vmsBgxcDQ\n",
       "wHuWo4DhGANbAO9XngSGTgZuBhYDoJpFQMx/AUikArF+AN8DIPVE4TwDF8iA+fsaGTQZ+D4zvLjL\n",
       "2TYBaCAAFMIY38B4044AAAAASUVORK5CYII=\n",
       "\" style=\"display:inline;vertical-align:middle;\" /></a></td></tr>\n",
       "<tr><td>1</td><td>Literal</td><td></td><td><a class=\"ProveItLink\" href=\"__pv_it/78dd4cc5361370b310f93f7eedb52f594829fd9b0/expr.ipynb\"><img src=\"data:image/png;base64,iVBORw0KGgoAAAANSUhEUgAAAAMAAAAPBAMAAADTxGj3AAAAJ1BMVEX///+6urqqqqqYmJh2dnZm\n",
       "ZmYyMjLu7u4QEBDc3NxUVFQiIiIAAABmOgpVAAAAAXRSTlMAQObYZgAAAAlwSFlzAAAOxAAADsQB\n",
       "lSsOGwAAADBJREFUCNdj4F7AMKeBoWYDA08CA8cCBu4ABjYHBi4DBlYFBhYBBuYJDBBQkwCUAgC+\n",
       "PgbmD97N+AAAAABJRU5ErkJggg==\n",
       "\" style=\"display:inline;vertical-align:middle;\" /></a></td></tr>\n",
       "<tr><td>2</td><td>Variable</td><td></td><td><a class=\"ProveItLink\" href=\"../packages/proveit/__pv_it/72df168d2bfb4e0140af90912ebf83b13772060b0/expr.ipynb\"><img src=\"data:image/png;base64,iVBORw0KGgoAAAANSUhEUgAAAAsAAAAJBAMAAAAWSsseAAAAMFBMVEX///8QEBC6uroyMjJERETc\n",
       "3NyYmJgiIiJmZmaqqqp2dnbMzMxUVFSIiIju7u4AAAAoIwv1AAAAAXRSTlMAQObYZgAAAAlwSFlz\n",
       "AAAOxAAADsQBlSsOGwAAAENJREFUCNdjYHh75/WqCQwMDbxnOQoY2AJ4v/IkMHAzsBgwgAD/BTCl\n",
       "H8D3gOGJwnkGLgaG+fsaGTQZGF7c5WybwAAAJGsQ2L2rVEcAAAAASUVORK5CYII=\n",
       "\" style=\"display:inline;vertical-align:middle;\" /></a></td></tr>\n",
       "</table>\n"
      ],
      "text/plain": [
       "0. x!\n",
       "   core type: Operation\n",
       "   operator: 1\n",
       "   operand: 2\n",
       "1. !\n",
       "   core type: Literal\n",
       "   sub-expressions: \n",
       "2. x\n",
       "   core type: Variable\n",
       "   sub-expressions: "
      ]
     },
     "execution_count": 51,
     "metadata": {},
     "output_type": "execute_result"
    }
   ],
   "source": [
    "# show core structure\n",
    "x_factorial.exprInfo()"
   ]
  },
  {
   "cell_type": "markdown",
   "metadata": {},
   "source": [
    "In the Jupyter notebook setting, we typically only use LaTeX formatting, but it is important to define the string formatting as well for whenever it is needed (e.g., when error messages are displayed).  The `fence=True` above indicates that parentheses should be used when it could be ambiguous otherwise.  Our example above has no ambiguity, so parentheses are not used.  We will show a case below where the parentheses are required."
   ]
  },
  {
   "cell_type": "markdown",
   "metadata": {},
   "source": [
    "Next we consider a multiple *operand* example using the `Multiply` class that we imported from <a href=\"demo_operations.py\">demo_operations.py</a> above."
   ]
  },
  {
   "cell_type": "code",
   "execution_count": 52,
   "metadata": {},
   "outputs": [
    {
     "data": {
      "text/html": [
       "<strong id=\"mult_expr\">mult_expr:</strong> <a class=\"ProveItLink\" href=\"__pv_it/42a9eb4d14b52c7a2716863d6bed00956f589ac50/expr.ipynb\"><img src=\"data:image/png;base64,iVBORw0KGgoAAAANSUhEUgAAAFYAAAAPBAMAAACM+SX7AAAAMFBMVEX///8QEBC6uroyMjJERETc\n",
       "3NyYmJgiIiJmZmaqqqp2dnbMzMxUVFSIiIju7u4AAAAoIwv1AAAAAXRSTlMAQObYZgAAAAlwSFlz\n",
       "AAAOxAAADsQBlSsOGwAAAPlJREFUKM9jYMACNjDwBTAQCeSNyx8Qq7b8+zpilTIcYGCgotqjQByM\n",
       "ohYhAgVv77xeNQHECN/AwFoNFjp2t5sBRYQHiEGsBt6zHAUMEA5QEgT8GOIVUERmgjh/GdgCeL/y\n",
       "JECM2VoNs4ylAEWkAUSsZOBmYDGAKmAt3wBTy/EVWYRJgYGFgSEVyOK/gKYWqJnjN7IILwPDDgaG\n",
       "BUCWfgDfAxQbGQsYeD4gi3AwMNxkYF3A8EThPAMXA4pPgFxGB2QRlg3cPxgeP2CYv6+RQRM1hFgb\n",
       "GC4+QBbhkjo4/4QYA8OLu5xt4OBl8IaHfERPH4oIn78pr+AFBgBEnUuADtJypQAAAABJRU5ErkJg\n",
       "gg==\n",
       "\" style=\"display:inline;vertical-align:middle;\" /></a><br>"
      ],
      "text/plain": [
       "mult_expr: x * 5 * omega"
      ]
     },
     "execution_count": 52,
     "metadata": {},
     "output_type": "execute_result"
    }
   ],
   "source": [
    "# Demonstrating an Operation with multiple operands\n",
    "mult_expr = Multiply(x, FIVE, omega)"
   ]
  },
  {
   "cell_type": "code",
   "execution_count": 53,
   "metadata": {},
   "outputs": [
    {
     "data": {
      "text/html": [
       "<strong id=\"nested_operation\">nested_operation:</strong> <a class=\"ProveItLink\" href=\"__pv_it/9bc11d1e75941cd7045436313018a9d93a1d93080/expr.ipynb\"><img src=\"data:image/png;base64,iVBORw0KGgoAAAANSUhEUgAAAGkAAAAVBAMAAAC3TN2zAAAAMFBMVEX////MzMxUVFREREQiIiK6\n",
       "uroQEBCYmJhmZmYyMjLu7u52dnaqqqqIiIjc3NwAAACFAiZ1AAAAAXRSTlMAQObYZgAAAAlwSFlz\n",
       "AAAOxAAADsQBlSsOGwAAAZRJREFUOMuVkz1Iw0AUx/9t2iRNbMwoCJLJioPo4KCgttDRoYOLg9BF\n",
       "HRzM6CAliiAoQjZRRAou6tLiKA4dBQWDg5PFDB10agsOLi2+u7SaSBzy4L5+9/7v3n0BcBHB+s7p\n",
       "WtisDiU02gqVhAE8hMbcPMmXwzhbo1mEYoeq8p+34SmeApUsZDN00vhvY1vAoA0R0VRiGaKBZT+a\n",
       "oPIRUP2SnqVMJCwcUk+pjw/fMdTQoeX4ZKa+gwCJU2E91UCqimMayXh29uBhcmM2i2YhQB7ZoANI\n",
       "NuImFmlUwpub8UKP5PqpCNkAsVhFCQ3QAdawyq90pueq5fW+Su76SbIAgYVHrAW1wFVA549KsCG3\n",
       "/SQNDAFVkhchuTjjkbq4DuQjZhFv+YkMvEKr8gzJ5ugIp8mjGti7SsJJPxH02Beu6JFJHN+QvH1Z\n",
       "TNYC56xZeCn7ibox+jS2zhZ1ULGxRGsdOffbPJ2pnzt93z0IEGXhPL3msAfvsltO6IhkDV5LVjTV\n",
       "vtfMRxJpk157EUkl9P6qZkZRlXj9DWKFYb2Z+S5YAAAAAElFTkSuQmCC\n",
       "\" style=\"display:inline;vertical-align:middle;\" /></a><br>"
      ],
      "text/plain": [
       "nested_operation: (x * 5 * omega)!"
      ]
     },
     "execution_count": 53,
     "metadata": {},
     "output_type": "execute_result"
    }
   ],
   "source": [
    "# Let's nest Operations and show proper fencing behavior\n",
    "nested_operation = Factorial(mult_expr)"
   ]
  },
  {
   "cell_type": "code",
   "execution_count": 54,
   "metadata": {},
   "outputs": [
    {
     "data": {
      "text/html": [
       "<table><tr><th>&nbsp;</th><th>core type</th><th>sub-expressions</th><th>expression</th></tr>\n",
       "<tr><td>0</td><td>Operation</td><td>operator:&nbsp;1<br>operand:&nbsp;2<br></td><td><a class=\"ProveItLink\" href=\"__pv_it/9bc11d1e75941cd7045436313018a9d93a1d93080/expr.ipynb\"><img src=\"data:image/png;base64,iVBORw0KGgoAAAANSUhEUgAAAGkAAAAVBAMAAAC3TN2zAAAAMFBMVEX////MzMxUVFREREQiIiK6\n",
       "uroQEBCYmJhmZmYyMjLu7u52dnaqqqqIiIjc3NwAAACFAiZ1AAAAAXRSTlMAQObYZgAAAAlwSFlz\n",
       "AAAOxAAADsQBlSsOGwAAAZRJREFUOMuVkz1Iw0AUx/9t2iRNbMwoCJLJioPo4KCgttDRoYOLg9BF\n",
       "HRzM6CAliiAoQjZRRAou6tLiKA4dBQWDg5PFDB10agsOLi2+u7SaSBzy4L5+9/7v3n0BcBHB+s7p\n",
       "WtisDiU02gqVhAE8hMbcPMmXwzhbo1mEYoeq8p+34SmeApUsZDN00vhvY1vAoA0R0VRiGaKBZT+a\n",
       "oPIRUP2SnqVMJCwcUk+pjw/fMdTQoeX4ZKa+gwCJU2E91UCqimMayXh29uBhcmM2i2YhQB7ZoANI\n",
       "NuImFmlUwpub8UKP5PqpCNkAsVhFCQ3QAdawyq90pueq5fW+Su76SbIAgYVHrAW1wFVA549KsCG3\n",
       "/SQNDAFVkhchuTjjkbq4DuQjZhFv+YkMvEKr8gzJ5ugIp8mjGti7SsJJPxH02Beu6JFJHN+QvH1Z\n",
       "TNYC56xZeCn7ibox+jS2zhZ1ULGxRGsdOffbPJ2pnzt93z0IEGXhPL3msAfvsltO6IhkDV5LVjTV\n",
       "vtfMRxJpk157EUkl9P6qZkZRlXj9DWKFYb2Z+S5YAAAAAElFTkSuQmCC\n",
       "\" style=\"display:inline;vertical-align:middle;\" /></a></td></tr>\n",
       "<tr><td>1</td><td>Literal</td><td></td><td><a class=\"ProveItLink\" href=\"__pv_it/78dd4cc5361370b310f93f7eedb52f594829fd9b0/expr.ipynb\"><img src=\"data:image/png;base64,iVBORw0KGgoAAAANSUhEUgAAAAMAAAAPBAMAAADTxGj3AAAAJ1BMVEX///+6urqqqqqYmJh2dnZm\n",
       "ZmYyMjLu7u4QEBDc3NxUVFQiIiIAAABmOgpVAAAAAXRSTlMAQObYZgAAAAlwSFlzAAAOxAAADsQB\n",
       "lSsOGwAAADBJREFUCNdj4F7AMKeBoWYDA08CA8cCBu4ABjYHBi4DBlYFBhYBBuYJDBBQkwCUAgC+\n",
       "PgbmD97N+AAAAABJRU5ErkJggg==\n",
       "\" style=\"display:inline;vertical-align:middle;\" /></a></td></tr>\n",
       "<tr><td>2</td><td>Operation</td><td>operator:&nbsp;3<br>operands:&nbsp;4<br></td><td><a class=\"ProveItLink\" href=\"__pv_it/42a9eb4d14b52c7a2716863d6bed00956f589ac50/expr.ipynb\"><img src=\"data:image/png;base64,iVBORw0KGgoAAAANSUhEUgAAAFYAAAAPBAMAAACM+SX7AAAAMFBMVEX///8QEBC6uroyMjJERETc\n",
       "3NyYmJgiIiJmZmaqqqp2dnbMzMxUVFSIiIju7u4AAAAoIwv1AAAAAXRSTlMAQObYZgAAAAlwSFlz\n",
       "AAAOxAAADsQBlSsOGwAAAPlJREFUKM9jYMACNjDwBTAQCeSNyx8Qq7b8+zpilTIcYGCgotqjQByM\n",
       "ohYhAgVv77xeNQHECN/AwFoNFjp2t5sBRYQHiEGsBt6zHAUMEA5QEgT8GOIVUERmgjh/GdgCeL/y\n",
       "JECM2VoNs4ylAEWkAUSsZOBmYDGAKmAt3wBTy/EVWYRJgYGFgSEVyOK/gKYWqJnjN7IILwPDDgaG\n",
       "BUCWfgDfAxQbGQsYeD4gi3AwMNxkYF3A8EThPAMXA4pPgFxGB2QRlg3cPxgeP2CYv6+RQRM1hFgb\n",
       "GC4+QBbhkjo4/4QYA8OLu5xt4OBl8IaHfERPH4oIn78pr+AFBgBEnUuADtJypQAAAABJRU5ErkJg\n",
       "gg==\n",
       "\" style=\"display:inline;vertical-align:middle;\" /></a></td></tr>\n",
       "<tr><td>3</td><td>Literal</td><td></td><td><a class=\"ProveItLink\" href=\"__pv_it/2aa2770ecd6df3980d5a7bf9fb8028f2e7bacc6b0/expr.ipynb\"><img src=\"data:image/png;base64,iVBORw0KGgoAAAANSUhEUgAAAAsAAAAKBAMAAACQ3rmwAAAAGFBMVEX///9ERETMzMwiIiIyMjLc\n",
       "3NxUVFQAAAAgG4XFAAAAAXRSTlMAQObYZgAAAAlwSFlzAAAOxAAADsQBlSsOGwAAACxJREFUCNdj\n",
       "SGVgYAhhYAhWYGA1YgBhIAvIVQVygFxjBSQKIghVAtUgBNYOANfZBcwBxOcJAAAAAElFTkSuQmCC\n",
       "\" style=\"display:inline;vertical-align:middle;\" /></a></td></tr>\n",
       "<tr><td>4</td><td>ExprTuple</td><td>5, 6, 7</td><td><a class=\"ProveItLink\" href=\"__pv_it/b42432ac324a0c94dbce00361f5286c7d373760b0/expr.ipynb\"><img src=\"data:image/png;base64,iVBORw0KGgoAAAANSUhEUgAAAEMAAAAVBAMAAADvM06qAAAAMFBMVEX////MzMxUVFREREQiIiK6\n",
       "uroQEBCYmJhmZmYyMjLu7u52dnaqqqqIiIjc3NwAAACFAiZ1AAAAAXRSTlMAQObYZgAAAAlwSFlz\n",
       "AAAOxAAADsQBlSsOGwAAAW1JREFUKM9jYGB4wIAHgCV5DyALCTBwoWiJBRGnUXTlz3RZgMwHGcA1\n",
       "AUWJy5ddqDbNYmDgKEARUUB3TAUDAxsDfiVsCxgiCSjhLGDoBlJcd7Wk90BE1O82QhhMQMznyMDA\n",
       "rcAwHcjkYLh0oQUiY8XwPgDMOANS8peBgX0Cgw+QWcdw/4E6zGRmBzDVACKARvM4MKSCw8sSYTnH\n",
       "PxDJGsDADNLLwPgBrISB4S/MiAkMHB/BQcbAIMHAsAGoNoFhDljPP4ZVEC86MDB9AJvFwHCHgW8D\n",
       "2CJboIdMgcIbGLiAMtxAVQYMwChgFmD8wbASyGA3YNgEVPhxRQLrAYb1wKjga2C4toDrJ1Btttp5\n",
       "jXSQcRcYQoCm9F44UcPAwOIFFHnR1AWMqAUMXPbzeNMuAAVYHjCwCMD9cgrG4EGK7CdAuxrgvA0w\n",
       "BjdSBLQDsR2Mw3UBxlqLUMFnACQWw3jscHGk9MEMspOvAF/aBYYvAPUPTFlmvxPoAAAAAElFTkSu\n",
       "QmCC\n",
       "\" style=\"display:inline;vertical-align:middle;\" /></a></td></tr>\n",
       "<tr><td>5</td><td>Variable</td><td></td><td><a class=\"ProveItLink\" href=\"../packages/proveit/__pv_it/72df168d2bfb4e0140af90912ebf83b13772060b0/expr.ipynb\"><img src=\"data:image/png;base64,iVBORw0KGgoAAAANSUhEUgAAAAsAAAAJBAMAAAAWSsseAAAAMFBMVEX///8QEBC6uroyMjJERETc\n",
       "3NyYmJgiIiJmZmaqqqp2dnbMzMxUVFSIiIju7u4AAAAoIwv1AAAAAXRSTlMAQObYZgAAAAlwSFlz\n",
       "AAAOxAAADsQBlSsOGwAAAENJREFUCNdjYHh75/WqCQwMDbxnOQoY2AJ4v/IkMHAzsBgwgAD/BTCl\n",
       "H8D3gOGJwnkGLgaG+fsaGTQZGF7c5WybwAAAJGsQ2L2rVEcAAAAASUVORK5CYII=\n",
       "\" style=\"display:inline;vertical-align:middle;\" /></a></td></tr>\n",
       "<tr><td>6</td><td>Literal</td><td></td><td><a class=\"ProveItLink\" href=\"__pv_it/f0000a69129f8d8810bf110adab7d1d66f92f6fb0/expr.ipynb\"><img src=\"data:image/png;base64,iVBORw0KGgoAAAANSUhEUgAAAAkAAAAPBAMAAADE5vg+AAAALVBMVEX///+6urpERERmZmaIiIiY\n",
       "mJhUVFR2dnYiIiIyMjIQEBDc3Nzu7u7MzMwAAACupZ0AAAAAAXRSTlMAQObYZgAAAAlwSFlzAAAO\n",
       "xAAADsQBlSsOGwAAAE5JREFUCNdj4GVgOM3AwPVyRg8DA0df+wEGBjYGEEAhQ5wvMDAwHeB+COZq\n",
       "gEm7DQyaQPICwwoGhjwGhgIGhkUMDJsZWNYwMHAbJx9gAACR9A8z434veQAAAABJRU5ErkJggg==\n",
       "\" style=\"display:inline;vertical-align:middle;\" /></a></td></tr>\n",
       "<tr><td>7</td><td>Variable</td><td></td><td><a class=\"ProveItLink\" href=\"__pv_it/2ddb9b2c59c2ec7c4cf837f36c192819a0ae0e4a0/expr.ipynb\"><img src=\"data:image/png;base64,iVBORw0KGgoAAAANSUhEUgAAAA0AAAAJBAMAAAAbVLtZAAAAMFBMVEX///8QEBAyMjLu7u6YmJhE\n",
       "RES6urp2dnZmZmaIiIiqqqrMzMwiIiLc3NxUVFQAAACnaCMxAAAAAXRSTlMAQObYZgAAAAlwSFlz\n",
       "AAAOxAAADsQBlSsOGwAAAE9JREFUCNdjYHjAwMBwZwMD1wIgfX8CAweQYmBfwJDGwBDAwHKBYQID\n",
       "dwMDOwNDAwPnAobrDAzRDPsbmJUZGArrpP41OjAwmH66MFGSgQEAOl8RCvglkDgAAAAASUVORK5C\n",
       "YII=\n",
       "\" style=\"display:inline;vertical-align:middle;\" /></a></td></tr>\n",
       "</table>\n"
      ],
      "text/plain": [
       "0. (x * 5 * omega)!\n",
       "   core type: Operation\n",
       "   operator: 1\n",
       "   operand: 2\n",
       "1. !\n",
       "   core type: Literal\n",
       "   sub-expressions: \n",
       "2. x * 5 * omega\n",
       "   core type: Operation\n",
       "   operator: 3\n",
       "   operands: 4\n",
       "3. *\n",
       "   core type: Literal\n",
       "   sub-expressions: \n",
       "4. (x , 5 , omega)\n",
       "   core type: ExprTuple\n",
       "   sub-expressions: 5, 6, 7\n",
       "5. x\n",
       "   core type: Variable\n",
       "   sub-expressions: \n",
       "6. 5\n",
       "   core type: Literal\n",
       "   sub-expressions: \n",
       "7. omega\n",
       "   core type: Variable\n",
       "   sub-expressions: "
      ]
     },
     "execution_count": 54,
     "metadata": {},
     "output_type": "execute_result"
    }
   ],
   "source": [
    "nested_operation.exprInfo()"
   ]
  },
  {
   "cell_type": "markdown",
   "metadata": {},
   "source": [
    "### Operand substitution\n",
    "\n",
    "*Substitution* of *operands* is straightforward in the way it works."
   ]
  },
  {
   "cell_type": "code",
   "execution_count": 55,
   "metadata": {},
   "outputs": [
    {
     "data": {
      "text/html": [
       "<a class=\"ProveItLink\" href=\"__pv_it/ef36d85b33386fb7d68f5a7af1f4a8d4727fe5b90/expr.ipynb\"><img src=\"data:image/png;base64,iVBORw0KGgoAAAANSUhEUgAAABIAAAAPBAMAAAAbqIIhAAAAMFBMVEX///8QEBAyMjLu7u6YmJhE\n",
       "RES6urp2dnZmZmaIiIiqqqrMzMwiIiLc3NxUVFQAAACnaCMxAAAAAXRSTlMAQObYZgAAAAlwSFlz\n",
       "AAAOxAAADsQBlSsOGwAAAG9JREFUCNdjYICCczAG70cYi/kPjMXwCc6Sg7NOMDA8AFJ3NjCoM3At\n",
       "ALLuT2B4wsABkmJfwNDFkMbAEMDAcoGhjGECA3cDAzsDgy9DAwPnAobrICXRDPsbmJVBrMI6qX+N\n",
       "DgzMnxhMP12YKAkyGQCdwxnCo1/h8wAAAABJRU5ErkJggg==\n",
       "\" style=\"display:inline;vertical-align:middle;\" /></a>"
      ],
      "text/plain": [
       "omega!"
      ]
     },
     "execution_count": 55,
     "metadata": {},
     "output_type": "execute_result"
    }
   ],
   "source": [
    "x_factorial.substituted({x:omega})"
   ]
  },
  {
   "cell_type": "markdown",
   "metadata": {},
   "source": [
    "Notice that the substituted() method is non-mutating, leaving the **xFactorial** expression as it was originally defined:"
   ]
  },
  {
   "cell_type": "code",
   "execution_count": 56,
   "metadata": {},
   "outputs": [
    {
     "data": {
      "text/html": [
       "<a class=\"ProveItLink\" href=\"__pv_it/b807fb49e2504e02d5450f1cc8f0da5b0dddad130/expr.ipynb\"><img src=\"data:image/png;base64,iVBORw0KGgoAAAANSUhEUgAAABAAAAAPBAMAAAAfXVIcAAAAMFBMVEX///8QEBC6uroyMjJERETc\n",
       "3NyYmJgiIiJmZmaqqqp2dnbMzMxUVFSIiIju7u4AAAAoIwv1AAAAAXRSTlMAQObYZgAAAAlwSFlz\n",
       "AAAOxAAADsQBlSsOGwAAAGdJREFUCNdjYICAGijN+hHK4PsOZTB8hjFkYIwKBoa3d16vmsBgxcDQ\n",
       "wHuWo4DhGANbAO9XngSGTgZuBhYDoJpFQMx/AUikArF+AN8DIPVE4TwDF8iA+fsaGTQZ+D4zvLjL\n",
       "2TYBaCAAFMIY38B4044AAAAASUVORK5CYII=\n",
       "\" style=\"display:inline;vertical-align:middle;\" /></a>"
      ],
      "text/plain": [
       "x!"
      ]
     },
     "execution_count": 56,
     "metadata": {},
     "output_type": "execute_result"
    }
   ],
   "source": [
    "x_factorial"
   ]
  },
  {
   "cell_type": "markdown",
   "metadata": {},
   "source": [
    "We can also substitute an entire expression in for the variable $x$:"
   ]
  },
  {
   "cell_type": "code",
   "execution_count": 57,
   "metadata": {},
   "outputs": [
    {
     "data": {
      "text/html": [
       "<strong id=\"nested_operation_from_sub\">nested_operation_from_sub:</strong> <a class=\"ProveItLink\" href=\"__pv_it/9bc11d1e75941cd7045436313018a9d93a1d93080/expr.ipynb\"><img src=\"data:image/png;base64,iVBORw0KGgoAAAANSUhEUgAAAGkAAAAVBAMAAAC3TN2zAAAAMFBMVEX////MzMxUVFREREQiIiK6\n",
       "uroQEBCYmJhmZmYyMjLu7u52dnaqqqqIiIjc3NwAAACFAiZ1AAAAAXRSTlMAQObYZgAAAAlwSFlz\n",
       "AAAOxAAADsQBlSsOGwAAAZRJREFUOMuVkz1Iw0AUx/9t2iRNbMwoCJLJioPo4KCgttDRoYOLg9BF\n",
       "HRzM6CAliiAoQjZRRAou6tLiKA4dBQWDg5PFDB10agsOLi2+u7SaSBzy4L5+9/7v3n0BcBHB+s7p\n",
       "WtisDiU02gqVhAE8hMbcPMmXwzhbo1mEYoeq8p+34SmeApUsZDN00vhvY1vAoA0R0VRiGaKBZT+a\n",
       "oPIRUP2SnqVMJCwcUk+pjw/fMdTQoeX4ZKa+gwCJU2E91UCqimMayXh29uBhcmM2i2YhQB7ZoANI\n",
       "NuImFmlUwpub8UKP5PqpCNkAsVhFCQ3QAdawyq90pueq5fW+Su76SbIAgYVHrAW1wFVA549KsCG3\n",
       "/SQNDAFVkhchuTjjkbq4DuQjZhFv+YkMvEKr8gzJ5ugIp8mjGti7SsJJPxH02Beu6JFJHN+QvH1Z\n",
       "TNYC56xZeCn7ibox+jS2zhZ1ULGxRGsdOffbPJ2pnzt93z0IEGXhPL3msAfvsltO6IhkDV5LVjTV\n",
       "vtfMRxJpk157EUkl9P6qZkZRlXj9DWKFYb2Z+S5YAAAAAElFTkSuQmCC\n",
       "\" style=\"display:inline;vertical-align:middle;\" /></a><br>"
      ],
      "text/plain": [
       "nested_operation_from_sub: (x * 5 * omega)!"
      ]
     },
     "execution_count": 57,
     "metadata": {},
     "output_type": "execute_result"
    }
   ],
   "source": [
    "nested_operation_from_sub = x_factorial.substituted({x:mult_expr})"
   ]
  },
  {
   "cell_type": "markdown",
   "metadata": {},
   "source": [
    "Internally, however, there is specific machinery required to regenerate these objects and construct them with the proper classes.  In order for this machinery to work, the `_operator_` class attribute must be properly defined (e.g., `Factorial._operator_` and `Multiply._operator_`).  To demonstrate that this is working properly, note that the classes displayed in the detailed expression info from `exprInfo()` are as they should be:"
   ]
  },
  {
   "cell_type": "code",
   "execution_count": 58,
   "metadata": {},
   "outputs": [
    {
     "data": {
      "text/html": [
       "<table><tr><th>&nbsp;</th><th>core type</th><th>sub-expressions</th><th>expression</th></tr>\n",
       "<tr><td>0</td><td>Operation</td><td>operator:&nbsp;1<br>operand:&nbsp;2<br></td><td><a class=\"ProveItLink\" href=\"__pv_it/9bc11d1e75941cd7045436313018a9d93a1d93080/expr.ipynb\"><img src=\"data:image/png;base64,iVBORw0KGgoAAAANSUhEUgAAAGkAAAAVBAMAAAC3TN2zAAAAMFBMVEX////MzMxUVFREREQiIiK6\n",
       "uroQEBCYmJhmZmYyMjLu7u52dnaqqqqIiIjc3NwAAACFAiZ1AAAAAXRSTlMAQObYZgAAAAlwSFlz\n",
       "AAAOxAAADsQBlSsOGwAAAZRJREFUOMuVkz1Iw0AUx/9t2iRNbMwoCJLJioPo4KCgttDRoYOLg9BF\n",
       "HRzM6CAliiAoQjZRRAou6tLiKA4dBQWDg5PFDB10agsOLi2+u7SaSBzy4L5+9/7v3n0BcBHB+s7p\n",
       "WtisDiU02gqVhAE8hMbcPMmXwzhbo1mEYoeq8p+34SmeApUsZDN00vhvY1vAoA0R0VRiGaKBZT+a\n",
       "oPIRUP2SnqVMJCwcUk+pjw/fMdTQoeX4ZKa+gwCJU2E91UCqimMayXh29uBhcmM2i2YhQB7ZoANI\n",
       "NuImFmlUwpub8UKP5PqpCNkAsVhFCQ3QAdawyq90pueq5fW+Su76SbIAgYVHrAW1wFVA549KsCG3\n",
       "/SQNDAFVkhchuTjjkbq4DuQjZhFv+YkMvEKr8gzJ5ugIp8mjGti7SsJJPxH02Beu6JFJHN+QvH1Z\n",
       "TNYC56xZeCn7ibox+jS2zhZ1ULGxRGsdOffbPJ2pnzt93z0IEGXhPL3msAfvsltO6IhkDV5LVjTV\n",
       "vtfMRxJpk157EUkl9P6qZkZRlXj9DWKFYb2Z+S5YAAAAAElFTkSuQmCC\n",
       "\" style=\"display:inline;vertical-align:middle;\" /></a></td></tr>\n",
       "<tr><td colspan=4 style=\"text-align:left\"><strong>class:</strong> tutorial.demo_operations.Factorial</td></tr>\n",
       "<tr><td>1</td><td>Literal</td><td></td><td><a class=\"ProveItLink\" href=\"__pv_it/78dd4cc5361370b310f93f7eedb52f594829fd9b0/expr.ipynb\"><img src=\"data:image/png;base64,iVBORw0KGgoAAAANSUhEUgAAAAMAAAAPBAMAAADTxGj3AAAAJ1BMVEX///+6urqqqqqYmJh2dnZm\n",
       "ZmYyMjLu7u4QEBDc3NxUVFQiIiIAAABmOgpVAAAAAXRSTlMAQObYZgAAAAlwSFlzAAAOxAAADsQB\n",
       "lSsOGwAAADBJREFUCNdj4F7AMKeBoWYDA08CA8cCBu4ABjYHBi4DBlYFBhYBBuYJDBBQkwCUAgC+\n",
       "PgbmD97N+AAAAABJRU5ErkJggg==\n",
       "\" style=\"display:inline;vertical-align:middle;\" /></a></td></tr>\n",
       "<tr><td colspan=4 style=\"text-align:left\"><strong>context:</strong> tutorial</td></tr>\n",
       "<tr><td>2</td><td>Operation</td><td>operator:&nbsp;3<br>operands:&nbsp;4<br></td><td><a class=\"ProveItLink\" href=\"__pv_it/42a9eb4d14b52c7a2716863d6bed00956f589ac50/expr.ipynb\"><img src=\"data:image/png;base64,iVBORw0KGgoAAAANSUhEUgAAAFYAAAAPBAMAAACM+SX7AAAAMFBMVEX///8QEBC6uroyMjJERETc\n",
       "3NyYmJgiIiJmZmaqqqp2dnbMzMxUVFSIiIju7u4AAAAoIwv1AAAAAXRSTlMAQObYZgAAAAlwSFlz\n",
       "AAAOxAAADsQBlSsOGwAAAPlJREFUKM9jYMACNjDwBTAQCeSNyx8Qq7b8+zpilTIcYGCgotqjQByM\n",
       "ohYhAgVv77xeNQHECN/AwFoNFjp2t5sBRYQHiEGsBt6zHAUMEA5QEgT8GOIVUERmgjh/GdgCeL/y\n",
       "JECM2VoNs4ylAEWkAUSsZOBmYDGAKmAt3wBTy/EVWYRJgYGFgSEVyOK/gKYWqJnjN7IILwPDDgaG\n",
       "BUCWfgDfAxQbGQsYeD4gi3AwMNxkYF3A8EThPAMXA4pPgFxGB2QRlg3cPxgeP2CYv6+RQRM1hFgb\n",
       "GC4+QBbhkjo4/4QYA8OLu5xt4OBl8IaHfERPH4oIn78pr+AFBgBEnUuADtJypQAAAABJRU5ErkJg\n",
       "gg==\n",
       "\" style=\"display:inline;vertical-align:middle;\" /></a></td></tr>\n",
       "<tr><td colspan=4 style=\"text-align:left\"><strong>class:</strong> tutorial.demo_operations.Multiply</td></tr>\n",
       "<tr><td>3</td><td>Literal</td><td></td><td><a class=\"ProveItLink\" href=\"__pv_it/2aa2770ecd6df3980d5a7bf9fb8028f2e7bacc6b0/expr.ipynb\"><img src=\"data:image/png;base64,iVBORw0KGgoAAAANSUhEUgAAAAsAAAAKBAMAAACQ3rmwAAAAGFBMVEX///9ERETMzMwiIiIyMjLc\n",
       "3NxUVFQAAAAgG4XFAAAAAXRSTlMAQObYZgAAAAlwSFlzAAAOxAAADsQBlSsOGwAAACxJREFUCNdj\n",
       "SGVgYAhhYAhWYGA1YgBhIAvIVQVygFxjBSQKIghVAtUgBNYOANfZBcwBxOcJAAAAAElFTkSuQmCC\n",
       "\" style=\"display:inline;vertical-align:middle;\" /></a></td></tr>\n",
       "<tr><td colspan=4 style=\"text-align:left\"><strong>context:</strong> tutorial</td></tr>\n",
       "<tr><td>4</td><td>ExprTuple</td><td>5, 6, 7</td><td><a class=\"ProveItLink\" href=\"__pv_it/b42432ac324a0c94dbce00361f5286c7d373760b0/expr.ipynb\"><img src=\"data:image/png;base64,iVBORw0KGgoAAAANSUhEUgAAAEMAAAAVBAMAAADvM06qAAAAMFBMVEX////MzMxUVFREREQiIiK6\n",
       "uroQEBCYmJhmZmYyMjLu7u52dnaqqqqIiIjc3NwAAACFAiZ1AAAAAXRSTlMAQObYZgAAAAlwSFlz\n",
       "AAAOxAAADsQBlSsOGwAAAW1JREFUKM9jYGB4wIAHgCV5DyALCTBwoWiJBRGnUXTlz3RZgMwHGcA1\n",
       "AUWJy5ddqDbNYmDgKEARUUB3TAUDAxsDfiVsCxgiCSjhLGDoBlJcd7Wk90BE1O82QhhMQMznyMDA\n",
       "rcAwHcjkYLh0oQUiY8XwPgDMOANS8peBgX0Cgw+QWcdw/4E6zGRmBzDVACKARvM4MKSCw8sSYTnH\n",
       "PxDJGsDADNLLwPgBrISB4S/MiAkMHB/BQcbAIMHAsAGoNoFhDljPP4ZVEC86MDB9AJvFwHCHgW8D\n",
       "2CJboIdMgcIbGLiAMtxAVQYMwChgFmD8wbASyGA3YNgEVPhxRQLrAYb1wKjga2C4toDrJ1Btttp5\n",
       "jXSQcRcYQoCm9F44UcPAwOIFFHnR1AWMqAUMXPbzeNMuAAVYHjCwCMD9cgrG4EGK7CdAuxrgvA0w\n",
       "BjdSBLQDsR2Mw3UBxlqLUMFnACQWw3jscHGk9MEMspOvAF/aBYYvAPUPTFlmvxPoAAAAAElFTkSu\n",
       "QmCC\n",
       "\" style=\"display:inline;vertical-align:middle;\" /></a></td></tr>\n",
       "<tr><td>5</td><td>Variable</td><td></td><td><a class=\"ProveItLink\" href=\"../packages/proveit/__pv_it/72df168d2bfb4e0140af90912ebf83b13772060b0/expr.ipynb\"><img src=\"data:image/png;base64,iVBORw0KGgoAAAANSUhEUgAAAAsAAAAJBAMAAAAWSsseAAAAMFBMVEX///8QEBC6uroyMjJERETc\n",
       "3NyYmJgiIiJmZmaqqqp2dnbMzMxUVFSIiIju7u4AAAAoIwv1AAAAAXRSTlMAQObYZgAAAAlwSFlz\n",
       "AAAOxAAADsQBlSsOGwAAAENJREFUCNdjYHh75/WqCQwMDbxnOQoY2AJ4v/IkMHAzsBgwgAD/BTCl\n",
       "H8D3gOGJwnkGLgaG+fsaGTQZGF7c5WybwAAAJGsQ2L2rVEcAAAAASUVORK5CYII=\n",
       "\" style=\"display:inline;vertical-align:middle;\" /></a></td></tr>\n",
       "<tr><td>6</td><td>Literal</td><td></td><td><a class=\"ProveItLink\" href=\"__pv_it/f0000a69129f8d8810bf110adab7d1d66f92f6fb0/expr.ipynb\"><img src=\"data:image/png;base64,iVBORw0KGgoAAAANSUhEUgAAAAkAAAAPBAMAAADE5vg+AAAALVBMVEX///+6urpERERmZmaIiIiY\n",
       "mJhUVFR2dnYiIiIyMjIQEBDc3Nzu7u7MzMwAAACupZ0AAAAAAXRSTlMAQObYZgAAAAlwSFlzAAAO\n",
       "xAAADsQBlSsOGwAAAE5JREFUCNdj4GVgOM3AwPVyRg8DA0df+wEGBjYGEEAhQ5wvMDAwHeB+COZq\n",
       "gEm7DQyaQPICwwoGhjwGhgIGhkUMDJsZWNYwMHAbJx9gAACR9A8z434veQAAAABJRU5ErkJggg==\n",
       "\" style=\"display:inline;vertical-align:middle;\" /></a></td></tr>\n",
       "<tr><td colspan=4 style=\"text-align:left\"><strong>context:</strong> tutorial</td></tr>\n",
       "<tr><td>7</td><td>Variable</td><td></td><td><a class=\"ProveItLink\" href=\"__pv_it/2ddb9b2c59c2ec7c4cf837f36c192819a0ae0e4a0/expr.ipynb\"><img src=\"data:image/png;base64,iVBORw0KGgoAAAANSUhEUgAAAA0AAAAJBAMAAAAbVLtZAAAAMFBMVEX///8QEBAyMjLu7u6YmJhE\n",
       "RES6urp2dnZmZmaIiIiqqqrMzMwiIiLc3NxUVFQAAACnaCMxAAAAAXRSTlMAQObYZgAAAAlwSFlz\n",
       "AAAOxAAADsQBlSsOGwAAAE9JREFUCNdjYHjAwMBwZwMD1wIgfX8CAweQYmBfwJDGwBDAwHKBYQID\n",
       "dwMDOwNDAwPnAobrDAzRDPsbmJUZGArrpP41OjAwmH66MFGSgQEAOl8RCvglkDgAAAAASUVORK5C\n",
       "YII=\n",
       "\" style=\"display:inline;vertical-align:middle;\" /></a></td></tr>\n",
       "</table>\n"
      ],
      "text/plain": [
       "0. (x * 5 * omega)!\n",
       "   core type: Operation\n",
       "   class: <class 'demo_operations.Factorial'>\n",
       "   operator: 1\n",
       "   operand: 2\n",
       "1. !\n",
       "   core type: Literal\n",
       "   latexFormat: !\n",
       "   context: tutorial\n",
       "   class: <class 'proveit._core_.expression.label.literal.Literal'>\n",
       "   sub-expressions: \n",
       "2. x * 5 * omega\n",
       "   core type: Operation\n",
       "   class: <class 'demo_operations.Multiply'>\n",
       "   operator: 3\n",
       "   operands: 4\n",
       "3. *\n",
       "   core type: Literal\n",
       "   latexFormat: \\times\n",
       "   context: tutorial\n",
       "   class: <class 'proveit._core_.expression.label.literal.Literal'>\n",
       "   sub-expressions: \n",
       "4. (x , 5 , omega)\n",
       "   core type: ExprTuple\n",
       "   class: <class 'proveit._core_.expression.composite.expr_tuple.ExprTuple'>\n",
       "   sub-expressions: 5, 6, 7\n",
       "5. x\n",
       "   core type: Variable\n",
       "   latexFormat: x\n",
       "   class: <class 'proveit._core_.expression.label.var.Variable'>\n",
       "   sub-expressions: \n",
       "6. 5\n",
       "   core type: Literal\n",
       "   latexFormat: 5\n",
       "   context: tutorial\n",
       "   class: <class 'proveit._core_.expression.label.literal.Literal'>\n",
       "   sub-expressions: \n",
       "7. omega\n",
       "   core type: Variable\n",
       "   latexFormat: \\omega\n",
       "   class: <class 'proveit._core_.expression.label.var.Variable'>\n",
       "   sub-expressions: "
      ]
     },
     "execution_count": 58,
     "metadata": {},
     "output_type": "execute_result"
    }
   ],
   "source": [
    "nested_operation_from_sub.exprInfo(details=True)"
   ]
  },
  {
   "cell_type": "markdown",
   "metadata": {},
   "source": [
    "Furthermore, this expression that we obtained via substitution is equivalent to the one constructed directly:"
   ]
  },
  {
   "cell_type": "code",
   "execution_count": 59,
   "metadata": {},
   "outputs": [
    {
     "name": "stdout",
     "output_type": "stream",
     "text": [
      "Expressions, generated in different ways, are the same: True\n"
     ]
    }
   ],
   "source": [
    "print(\"Expressions, generated in different ways, are the same:\", \n",
    "      (nested_operation_from_sub == nested_operation))"
   ]
  },
  {
   "cell_type": "markdown",
   "metadata": {},
   "source": [
    "### Operator substitution\n",
    "\n",
    "The *operator* itself may likewise be *substituted*, but with some interesting extra capabilities."
   ]
  },
  {
   "cell_type": "markdown",
   "metadata": {},
   "source": [
    "It is straightforward to substitute a **Variable** *operator* with another **Variable** (i.e., relabel). Here we relabel the $f$ in $f(x)$ to $g$ to obtain $g(x)$:"
   ]
  },
  {
   "cell_type": "code",
   "execution_count": 60,
   "metadata": {},
   "outputs": [
    {
     "data": {
      "text/html": [
       "<a class=\"ProveItLink\" href=\"../packages/proveit/__pv_it/03cd40cb9846d2ffe540afad16f613712699495e0/expr.ipynb\"><img src=\"data:image/png;base64,iVBORw0KGgoAAAANSUhEUgAAACgAAAAVBAMAAADGNLEtAAAAMFBMVEX///8iIiK6urpUVFTMzMzu\n",
       "7u5EREQQEBAyMjJ2dnaYmJjc3NyIiIhmZmaqqqoAAABI0TZoAAAAAXRSTlMAQObYZgAAAAlwSFlz\n",
       "AAAOxAAADsQBlSsOGwAAAQNJREFUGNNjYICDDRCKmwEJ8DyA0EwHkARfwhjnEGKsDTAWRwBckHcB\n",
       "jMV1AS7IjtBUCmdpIAS7gPjtmV1A8iYQxxwOmQl0w2QGBs4G7jKo9AUeG14BBoYVDAzvAxj+AAXk\n",
       "gDZs4PnNDLTvIQNDGQPLb6BgEQMDCwMb2F3+DCz/GHgKIIIMDPxg36gzcP1mYDMAsvpAXP0NrAEg\n",
       "7VwfGOJB7s5hYAhTsGfgBDKXMbD+ZrAH+Qvojveu1xn0gMw7DAzKJy+CdCoyMMSe4bsFCippEF8W\n",
       "RDA6wDzELcDgHMDyBTUYgEFjHhABCdVsmOA2BgbdlZcg7DCYYCpSyHNDA5RrAwMANX05DrHAGMoA\n",
       "AAAASUVORK5CYII=\n",
       "\" style=\"display:inline;vertical-align:middle;\" /></a>"
      ],
      "text/plain": [
       "g(x)"
      ]
     },
     "execution_count": 60,
     "metadata": {},
     "output_type": "execute_result"
    }
   ],
   "source": [
    "from proveit._common_ import g\n",
    "fx.substituted({f:g}) # Variable operator to a different Variable"
   ]
  },
  {
   "cell_type": "markdown",
   "metadata": {},
   "source": [
    "And it is straightforward to *substitute* a **Variable** *operator* with a **Literal**."
   ]
  },
  {
   "cell_type": "code",
   "execution_count": 61,
   "metadata": {
    "scrolled": true
   },
   "outputs": [
    {
     "data": {
      "text/html": [
       "<strong id=\"x_factorial_from_fx\">x_factorial_from_fx:</strong> <a class=\"ProveItLink\" href=\"__pv_it/b807fb49e2504e02d5450f1cc8f0da5b0dddad130/expr.ipynb\"><img src=\"data:image/png;base64,iVBORw0KGgoAAAANSUhEUgAAABAAAAAPBAMAAAAfXVIcAAAAMFBMVEX///8QEBC6uroyMjJERETc\n",
       "3NyYmJgiIiJmZmaqqqp2dnbMzMxUVFSIiIju7u4AAAAoIwv1AAAAAXRSTlMAQObYZgAAAAlwSFlz\n",
       "AAAOxAAADsQBlSsOGwAAAGdJREFUCNdjYICAGijN+hHK4PsOZTB8hjFkYIwKBoa3d16vmsBgxcDQ\n",
       "wHuWo4DhGANbAO9XngSGTgZuBhYDoJpFQMx/AUikArF+AN8DIPVE4TwDF8iA+fsaGTQZ+D4zvLjL\n",
       "2TYBaCAAFMIY38B4044AAAAASUVORK5CYII=\n",
       "\" style=\"display:inline;vertical-align:middle;\" /></a><br>"
      ],
      "text/plain": [
       "x_factorial_from_fx: x!"
      ]
     },
     "execution_count": 61,
     "metadata": {},
     "output_type": "execute_result"
    }
   ],
   "source": [
    "x_factorial_from_fx = fx.substituted({f:FACTORIAL})"
   ]
  },
  {
   "cell_type": "code",
   "execution_count": 62,
   "metadata": {},
   "outputs": [
    {
     "data": {
      "text/html": [
       "<table><tr><th>&nbsp;</th><th>core type</th><th>sub-expressions</th><th>expression</th></tr>\n",
       "<tr><td>0</td><td>Operation</td><td>operator:&nbsp;1<br>operand:&nbsp;2<br></td><td><a class=\"ProveItLink\" href=\"__pv_it/b807fb49e2504e02d5450f1cc8f0da5b0dddad130/expr.ipynb\"><img src=\"data:image/png;base64,iVBORw0KGgoAAAANSUhEUgAAABAAAAAPBAMAAAAfXVIcAAAAMFBMVEX///8QEBC6uroyMjJERETc\n",
       "3NyYmJgiIiJmZmaqqqp2dnbMzMxUVFSIiIju7u4AAAAoIwv1AAAAAXRSTlMAQObYZgAAAAlwSFlz\n",
       "AAAOxAAADsQBlSsOGwAAAGdJREFUCNdjYICAGijN+hHK4PsOZTB8hjFkYIwKBoa3d16vmsBgxcDQ\n",
       "wHuWo4DhGANbAO9XngSGTgZuBhYDoJpFQMx/AUikArF+AN8DIPVE4TwDF8iA+fsaGTQZ+D4zvLjL\n",
       "2TYBaCAAFMIY38B4044AAAAASUVORK5CYII=\n",
       "\" style=\"display:inline;vertical-align:middle;\" /></a></td></tr>\n",
       "<tr><td colspan=4 style=\"text-align:left\"><strong>class:</strong> tutorial.demo_operations.Factorial</td></tr>\n",
       "<tr><td>1</td><td>Literal</td><td></td><td><a class=\"ProveItLink\" href=\"__pv_it/78dd4cc5361370b310f93f7eedb52f594829fd9b0/expr.ipynb\"><img src=\"data:image/png;base64,iVBORw0KGgoAAAANSUhEUgAAAAMAAAAPBAMAAADTxGj3AAAAJ1BMVEX///+6urqqqqqYmJh2dnZm\n",
       "ZmYyMjLu7u4QEBDc3NxUVFQiIiIAAABmOgpVAAAAAXRSTlMAQObYZgAAAAlwSFlzAAAOxAAADsQB\n",
       "lSsOGwAAADBJREFUCNdj4F7AMKeBoWYDA08CA8cCBu4ABjYHBi4DBlYFBhYBBuYJDBBQkwCUAgC+\n",
       "PgbmD97N+AAAAABJRU5ErkJggg==\n",
       "\" style=\"display:inline;vertical-align:middle;\" /></a></td></tr>\n",
       "<tr><td colspan=4 style=\"text-align:left\"><strong>context:</strong> tutorial</td></tr>\n",
       "<tr><td>2</td><td>Variable</td><td></td><td><a class=\"ProveItLink\" href=\"../packages/proveit/__pv_it/72df168d2bfb4e0140af90912ebf83b13772060b0/expr.ipynb\"><img src=\"data:image/png;base64,iVBORw0KGgoAAAANSUhEUgAAAAsAAAAJBAMAAAAWSsseAAAAMFBMVEX///8QEBC6uroyMjJERETc\n",
       "3NyYmJgiIiJmZmaqqqp2dnbMzMxUVFSIiIju7u4AAAAoIwv1AAAAAXRSTlMAQObYZgAAAAlwSFlz\n",
       "AAAOxAAADsQBlSsOGwAAAENJREFUCNdjYHh75/WqCQwMDbxnOQoY2AJ4v/IkMHAzsBgwgAD/BTCl\n",
       "H8D3gOGJwnkGLgaG+fsaGTQZGF7c5WybwAAAJGsQ2L2rVEcAAAAASUVORK5CYII=\n",
       "\" style=\"display:inline;vertical-align:middle;\" /></a></td></tr>\n",
       "</table>\n"
      ],
      "text/plain": [
       "0. x!\n",
       "   core type: Operation\n",
       "   class: <class 'demo_operations.Factorial'>\n",
       "   operator: 1\n",
       "   operand: 2\n",
       "1. !\n",
       "   core type: Literal\n",
       "   latexFormat: !\n",
       "   context: tutorial\n",
       "   class: <class 'proveit._core_.expression.label.literal.Literal'>\n",
       "   sub-expressions: \n",
       "2. x\n",
       "   core type: Variable\n",
       "   latexFormat: x\n",
       "   class: <class 'proveit._core_.expression.label.var.Variable'>\n",
       "   sub-expressions: "
      ]
     },
     "execution_count": 62,
     "metadata": {},
     "output_type": "execute_result"
    }
   ],
   "source": [
    "x_factorial_from_fx.exprInfo(details=True)"
   ]
  },
  {
   "cell_type": "code",
   "execution_count": 63,
   "metadata": {},
   "outputs": [],
   "source": [
    "assert x_factorial_from_fx == x_factorial # Same"
   ]
  },
  {
   "cell_type": "markdown",
   "metadata": {},
   "source": [
    "It is able to generate the new **expression** in the appropriate `Factorial` class via the internal mechanisms that use its `_operator_` class attribute."
   ]
  },
  {
   "cell_type": "markdown",
   "metadata": {},
   "source": [
    "Performing an *expression substitution* of a `Literal` *operator* within an `Operation` class will typically be blocked because it will not know how to make the new **expression**:"
   ]
  },
  {
   "cell_type": "code",
   "execution_count": 64,
   "metadata": {},
   "outputs": [
    {
     "name": "stdout",
     "output_type": "stream",
     "text": [
      "EXPECTED ERROR: An implicit operator may not be changed\n"
     ]
    }
   ],
   "source": [
    "from proveit import OperationError\n",
    "# But this will typically be prevented (appropriately) in trying to remake a derived Operation class:\n",
    "try:\n",
    "    x_factorial.substituted({FACTORIAL:SUMMATION})\n",
    "    assert False, \"Expecting an OperationError error; should not make it to this point\"\n",
    "except OperationError as e:\n",
    "    print(\"EXPECTED ERROR:\", e)"
   ]
  },
  {
   "cell_type": "markdown",
   "metadata": {},
   "source": [
    "### <a name=\"OperationSub\"></a>Operation substitution"
   ]
  },
  {
   "cell_type": "markdown",
   "metadata": {},
   "source": [
    "The more interesting and useful case is to *substitute* the `Operation` itself. Here we convert $f(x)$ to $x!$ by substituting a `Lambda` mapping for the function variabe $f$:"
   ]
  },
  {
   "cell_type": "code",
   "execution_count": 65,
   "metadata": {},
   "outputs": [
    {
     "data": {
      "text/html": [
       "<strong id=\"fancy_factorial_map\">fancy_factorial_map:</strong> <a class=\"ProveItLink\" href=\"__pv_it/cc99d6e53f98efc91723307b380a004c393c76b70/expr.ipynb\"><img src=\"data:image/png;base64,iVBORw0KGgoAAAANSUhEUgAAAG4AAAAVCAMAAACQYCvLAAAANlBMVEX///8WFhYNDQ0iIiLMzMy6\n",
       "urpEREQyMjLc3NyYmJgQEBCqqqp2dnZUVFRmZmaIiIju7u4AAACsdILgAAAAAXRSTlMAQObYZgAA\n",
       "AAlwSFlzAAAOxAAADsQBlSsOGwAAAXFJREFUSMedVel6hCAMpEUOuXn/l61AaAlkvyL+kHWdMcnk\n",
       "YuztpdnZdcaL9j2H++cm4oE16w7iyubQ0aQOXEyZ11Olt8xwnyQgNyfv8G+mpgSbo3wbDycRHvrL\n",
       "YofEBy09eKXp9xy+oh5tUgylZpLv7zASa9kKZaYwza/hWDAK6ss9D47ZItGdSQNWjk+qpW6mgKHR\n",
       "GsJ4yPitmLYsFAm8JM2xKAd1ea3lhdLsIWsIE6AFLC+pMiVq07vw+4ujK2fxl3MB2cWUZm+0hjEO\n",
       "vnCVUEVO5ddFRyeUYJO5hUKYQ5gbKkkUeWvQ0dDFcaHeVKDKRCHEpDBFTMak7zfCnEKNJ0G+iUKV\n",
       "yop5oqyJ9CXy33EhkCK47xywJwrVCAMmwVRh0BouhkzvhzDlA0KfKfJa23zA9DbnneE2R+/g/g4F\n",
       "YzSHlCazuRzalN2hEJg63/kjqN/eYlJvUlaMrlPBxhjE/u6Sm5QVI9PBMtFHG6/3+g9slQ9UV7vT\n",
       "oQAAAABJRU5ErkJggg==\n",
       "\" style=\"display:inline;vertical-align:middle;\" /></a><br>"
      ],
      "text/plain": [
       "fancy_factorial_map: y -> (y * y!)"
      ]
     },
     "execution_count": 65,
     "metadata": {},
     "output_type": "execute_result"
    }
   ],
   "source": [
    "from proveit import Lambda\n",
    "fancy_factorial_map = Lambda(y, Multiply(y, Factorial(y)))"
   ]
  },
  {
   "cell_type": "markdown",
   "metadata": {},
   "source": [
    "The <a href=\"#Lambda\">`Lambda`</a> core type will be discussed in more detail below.  We use it here for a quick example."
   ]
  },
  {
   "cell_type": "code",
   "execution_count": 66,
   "metadata": {},
   "outputs": [
    {
     "data": {
      "text/html": [
       "<a class=\"ProveItLink\" href=\"__pv_it/1a04c78ec2f0915eb28da32b4c155352aec651590/expr.ipynb\"><img src=\"data:image/png;base64,iVBORw0KGgoAAAANSUhEUgAAADYAAAAPBAMAAABdHiGLAAAAMFBMVEX///8QEBC6uroyMjJERETc\n",
       "3NyYmJgiIiJmZmaqqqp2dnbMzMxUVFSIiIju7u4AAAAoIwv1AAAAAXRSTlMAQObYZgAAAAlwSFlz\n",
       "AAAOxAAADsQBlSsOGwAAAJ5JREFUGNNjYMAJanBLsX7ELcf3Hbccw2c8cjJI7KNAHIzEr2BgeHvn\n",
       "9aoJIHb4BgbWarAoRMiKgaGB9yxHAdhh1SBpEIAIHWNgC+D9ypMAFgrfCtEGFepk4GZgMYD5qByi\n",
       "DSq0CIj5L6DJQYVSgVg/gO8BiplwoScK5xm4GFDcAheav6+RQZMBxQ8QIb7PDC/ucraBvcfgDfM7\n",
       "VKgCALDQNu5RaZuLAAAAAElFTkSuQmCC\n",
       "\" style=\"display:inline;vertical-align:middle;\" /></a>"
      ],
      "text/plain": [
       "x * x!"
      ]
     },
     "execution_count": 66,
     "metadata": {},
     "output_type": "execute_result"
    }
   ],
   "source": [
    "fx.substituted({f:fancy_factorial_map})"
   ]
  },
  {
   "cell_type": "markdown",
   "metadata": {},
   "source": [
    "Note that the operand is still $x$ (not $y$).  This is substituting the *operation*, not the operand.  If desired, however, it could be substituted simultaneously:"
   ]
  },
  {
   "cell_type": "code",
   "execution_count": 67,
   "metadata": {},
   "outputs": [
    {
     "data": {
      "text/html": [
       "<strong id=\"fancy_omega_fn\">fancy_omega_fn:</strong> <a class=\"ProveItLink\" href=\"__pv_it/9772a39eb04885adee8730f3104800b312eb3a3e0/expr.ipynb\"><img src=\"data:image/png;base64,iVBORw0KGgoAAAANSUhEUgAAADkAAAAPBAMAAACsFXoGAAAAMFBMVEX///8QEBAyMjLu7u6YmJhE\n",
       "RES6urp2dnZmZmaIiIiqqqrMzMwiIiLc3NxUVFQAAACnaCMxAAAAAXRSTlMAQObYZgAAAAlwSFlz\n",
       "AAAOxAAADsQBlSsOGwAAAK1JREFUGNNjYMANeB7gkWS4L4BP1v4APll+BXyyjCj2vgXiS8iuamBg\n",
       "ACm4s4EBQvKeBotDxJgKGLgWgFw3ASQGlIIog4rxOTBwgLjsC8Ba7uyFaIWKcSxgSGNgCGBguQAW\n",
       "5T0D1goTY09gmMDA3cDAzoAiCxUD6mlg4FzAcJ0BxWSEWDTD/gZmZQYUVyHECuuk/jU6MKD4CCpm\n",
       "r8Bg+unCREmIwdGw0ICK8TQAACIvPm0Yk+oBAAAAAElFTkSuQmCC\n",
       "\" style=\"display:inline;vertical-align:middle;\" /></a><br>"
      ],
      "text/plain": [
       "fancy_omega_fn: omega * omega!"
      ]
     },
     "execution_count": 67,
     "metadata": {},
     "output_type": "execute_result"
    }
   ],
   "source": [
    "fancy_omega_fn = fx.substituted({f:fancy_factorial_map, x:omega})"
   ]
  },
  {
   "cell_type": "code",
   "execution_count": 68,
   "metadata": {},
   "outputs": [
    {
     "data": {
      "text/html": [
       "<table><tr><th>&nbsp;</th><th>core type</th><th>sub-expressions</th><th>expression</th></tr>\n",
       "<tr><td>0</td><td>Operation</td><td>operator:&nbsp;1<br>operands:&nbsp;2<br></td><td><a class=\"ProveItLink\" href=\"__pv_it/9772a39eb04885adee8730f3104800b312eb3a3e0/expr.ipynb\"><img src=\"data:image/png;base64,iVBORw0KGgoAAAANSUhEUgAAADkAAAAPBAMAAACsFXoGAAAAMFBMVEX///8QEBAyMjLu7u6YmJhE\n",
       "RES6urp2dnZmZmaIiIiqqqrMzMwiIiLc3NxUVFQAAACnaCMxAAAAAXRSTlMAQObYZgAAAAlwSFlz\n",
       "AAAOxAAADsQBlSsOGwAAAK1JREFUGNNjYMANeB7gkWS4L4BP1v4APll+BXyyjCj2vgXiS8iuamBg\n",
       "ACm4s4EBQvKeBotDxJgKGLgWgFw3ASQGlIIog4rxOTBwgLjsC8Ba7uyFaIWKcSxgSGNgCGBguQAW\n",
       "5T0D1goTY09gmMDA3cDAzoAiCxUD6mlg4FzAcJ0BxWSEWDTD/gZmZQYUVyHECuuk/jU6MKD4CCpm\n",
       "r8Bg+unCREmIwdGw0ICK8TQAACIvPm0Yk+oBAAAAAElFTkSuQmCC\n",
       "\" style=\"display:inline;vertical-align:middle;\" /></a></td></tr>\n",
       "<tr><td colspan=4 style=\"text-align:left\"><strong>class:</strong> tutorial.demo_operations.Multiply</td></tr>\n",
       "<tr><td>1</td><td>Literal</td><td></td><td><a class=\"ProveItLink\" href=\"__pv_it/2aa2770ecd6df3980d5a7bf9fb8028f2e7bacc6b0/expr.ipynb\"><img src=\"data:image/png;base64,iVBORw0KGgoAAAANSUhEUgAAAAsAAAAKBAMAAACQ3rmwAAAAGFBMVEX///9ERETMzMwiIiIyMjLc\n",
       "3NxUVFQAAAAgG4XFAAAAAXRSTlMAQObYZgAAAAlwSFlzAAAOxAAADsQBlSsOGwAAACxJREFUCNdj\n",
       "SGVgYAhhYAhWYGA1YgBhIAvIVQVygFxjBSQKIghVAtUgBNYOANfZBcwBxOcJAAAAAElFTkSuQmCC\n",
       "\" style=\"display:inline;vertical-align:middle;\" /></a></td></tr>\n",
       "<tr><td colspan=4 style=\"text-align:left\"><strong>context:</strong> tutorial</td></tr>\n",
       "<tr><td>2</td><td>ExprTuple</td><td>5, 3</td><td><a class=\"ProveItLink\" href=\"__pv_it/b5619c96287e8f0e7baa9e6841b04a2af1474c580/expr.ipynb\"><img src=\"data:image/png;base64,iVBORw0KGgoAAAANSUhEUgAAADcAAAAVBAMAAAAQkWtIAAAAMFBMVEX////MzMxUVFREREQiIiK6\n",
       "uroQEBCYmJhmZmYyMjLu7u52dnaqqqqIiIjc3NwAAACFAiZ1AAAAAXRSTlMAQObYZgAAAAlwSFlz\n",
       "AAAOxAAADsQBlSsOGwAAARhJREFUKM9tkq9Pw0AUxz9bu7Vb1zKJrCLI/QPASJCICcwEyQwgMJUo\n",
       "UofAzJEQQi5BIcgWNAIPCfsDEBN4kCBIeO9SDprcJa/9/si7vvv2gCXeZeX00eOEOfv6fvK1vU9s\n",
       "U3fqM2dDuIS48Jkr0nICbe807VzKMPaaYQmdgnOBTals26oV7MwhybkQ9qzKtzUr2JRJoim7wkqV\n",
       "H6xZwVjO0RtyAK0RAZyq/AuTETQ+1ExhFeY2rgpGEl5rwpUcFV7JrPkP6rYbEPQbn9wazB/UFQ24\n",
       "l5mP117Wj+h+OchMEooX7Em8W9fp4QJ2jIMaQrgk7LtYeqaW0pvsXDqW1CM8k9p07K7mZQN53Dha\n",
       "/3mBfiQr/HdIEvsBwvM89TpgiAgAAAAASUVORK5CYII=\n",
       "\" style=\"display:inline;vertical-align:middle;\" /></a></td></tr>\n",
       "<tr><td>3</td><td>Operation</td><td>operator:&nbsp;4<br>operand:&nbsp;5<br></td><td><a class=\"ProveItLink\" href=\"__pv_it/ef36d85b33386fb7d68f5a7af1f4a8d4727fe5b90/expr.ipynb\"><img src=\"data:image/png;base64,iVBORw0KGgoAAAANSUhEUgAAABIAAAAPBAMAAAAbqIIhAAAAMFBMVEX///8QEBAyMjLu7u6YmJhE\n",
       "RES6urp2dnZmZmaIiIiqqqrMzMwiIiLc3NxUVFQAAACnaCMxAAAAAXRSTlMAQObYZgAAAAlwSFlz\n",
       "AAAOxAAADsQBlSsOGwAAAG9JREFUCNdjYICCczAG70cYi/kPjMXwCc6Sg7NOMDA8AFJ3NjCoM3At\n",
       "ALLuT2B4wsABkmJfwNDFkMbAEMDAcoGhjGECA3cDAzsDgy9DAwPnAobrICXRDPsbmJVBrMI6qX+N\n",
       "DgzMnxhMP12YKAkyGQCdwxnCo1/h8wAAAABJRU5ErkJggg==\n",
       "\" style=\"display:inline;vertical-align:middle;\" /></a></td></tr>\n",
       "<tr><td colspan=4 style=\"text-align:left\"><strong>class:</strong> tutorial.demo_operations.Factorial</td></tr>\n",
       "<tr><td>4</td><td>Literal</td><td></td><td><a class=\"ProveItLink\" href=\"__pv_it/78dd4cc5361370b310f93f7eedb52f594829fd9b0/expr.ipynb\"><img src=\"data:image/png;base64,iVBORw0KGgoAAAANSUhEUgAAAAMAAAAPBAMAAADTxGj3AAAAJ1BMVEX///+6urqqqqqYmJh2dnZm\n",
       "ZmYyMjLu7u4QEBDc3NxUVFQiIiIAAABmOgpVAAAAAXRSTlMAQObYZgAAAAlwSFlzAAAOxAAADsQB\n",
       "lSsOGwAAADBJREFUCNdj4F7AMKeBoWYDA08CA8cCBu4ABjYHBi4DBlYFBhYBBuYJDBBQkwCUAgC+\n",
       "PgbmD97N+AAAAABJRU5ErkJggg==\n",
       "\" style=\"display:inline;vertical-align:middle;\" /></a></td></tr>\n",
       "<tr><td colspan=4 style=\"text-align:left\"><strong>context:</strong> tutorial</td></tr>\n",
       "<tr><td>5</td><td>Variable</td><td></td><td><a class=\"ProveItLink\" href=\"__pv_it/2ddb9b2c59c2ec7c4cf837f36c192819a0ae0e4a0/expr.ipynb\"><img src=\"data:image/png;base64,iVBORw0KGgoAAAANSUhEUgAAAA0AAAAJBAMAAAAbVLtZAAAAMFBMVEX///8QEBAyMjLu7u6YmJhE\n",
       "RES6urp2dnZmZmaIiIiqqqrMzMwiIiLc3NxUVFQAAACnaCMxAAAAAXRSTlMAQObYZgAAAAlwSFlz\n",
       "AAAOxAAADsQBlSsOGwAAAE9JREFUCNdjYHjAwMBwZwMD1wIgfX8CAweQYmBfwJDGwBDAwHKBYQID\n",
       "dwMDOwNDAwPnAobrDAzRDPsbmJUZGArrpP41OjAwmH66MFGSgQEAOl8RCvglkDgAAAAASUVORK5C\n",
       "YII=\n",
       "\" style=\"display:inline;vertical-align:middle;\" /></a></td></tr>\n",
       "</table>\n"
      ],
      "text/plain": [
       "0. omega * omega!\n",
       "   core type: Operation\n",
       "   class: <class 'demo_operations.Multiply'>\n",
       "   operator: 1\n",
       "   operands: 2\n",
       "1. *\n",
       "   core type: Literal\n",
       "   latexFormat: \\times\n",
       "   context: tutorial\n",
       "   class: <class 'proveit._core_.expression.label.literal.Literal'>\n",
       "   sub-expressions: \n",
       "2. (omega , omega!)\n",
       "   core type: ExprTuple\n",
       "   class: <class 'proveit._core_.expression.composite.expr_tuple.ExprTuple'>\n",
       "   sub-expressions: 5, 3\n",
       "3. omega!\n",
       "   core type: Operation\n",
       "   class: <class 'demo_operations.Factorial'>\n",
       "   operator: 4\n",
       "   operand: 5\n",
       "4. !\n",
       "   core type: Literal\n",
       "   latexFormat: !\n",
       "   context: tutorial\n",
       "   class: <class 'proveit._core_.expression.label.literal.Literal'>\n",
       "   sub-expressions: \n",
       "5. omega\n",
       "   core type: Variable\n",
       "   latexFormat: \\omega\n",
       "   class: <class 'proveit._core_.expression.label.var.Variable'>\n",
       "   sub-expressions: "
      ]
     },
     "execution_count": 68,
     "metadata": {},
     "output_type": "execute_result"
    }
   ],
   "source": [
    "fancy_omega_fn.exprInfo(details=True)"
   ]
  },
  {
   "cell_type": "markdown",
   "metadata": {},
   "source": [
    "Note that by substituting $f$ with a `Lambda` expression, the entire `Operation` is substituted, not just the *operator*.  This is why `Lambda` *operator*s are not allowed (only `Label` operators); otherwise, such a substitution could be ambiguous or confusing (should it substitute the `Operation` or substitute the *operator* with the `Lambda` expression?).  This also highlights the fact that **Prove-It** is not a functional programming or lambda calculus.  Rather, **Prove-It** is designed for manipulating expressions as desired, and *operation substitution* is a useful and powerful, yet relatively straightforward tool for doing so."
   ]
  },
  {
   "cell_type": "markdown",
   "metadata": {},
   "source": [
    "<a name=\"Conditional\"></a>Conditional\n",
    "====\n",
    "\n",
    "A `Conditional` has one or more *values* associated with one or more *conditions*.  A given *value* is only pertinent if its associated *condition* is satisfied (known to be true)."
   ]
  },
  {
   "cell_type": "code",
   "execution_count": 69,
   "metadata": {},
   "outputs": [],
   "source": [
    "from proveit import Conditional"
   ]
  },
  {
   "cell_type": "markdown",
   "metadata": {},
   "source": [
    "To create the `Conditional`, supply the *values* and *conditions* as separate arguments in the constructor.  This example invokes the `Neg`, `Less`, and `GreaterEq`  <a href=\"#Operation\">`Operation`</a>s as well as the `zero` <a href=\"#Literal\">`Literal`</a>)"
   ]
  },
  {
   "cell_type": "code",
   "execution_count": 70,
   "metadata": {},
   "outputs": [
    {
     "data": {
      "text/html": [
       "<strong id=\"abs_cond\">abs_cond:</strong> <a class=\"ProveItLink\" href=\"__pv_it/a103997c126476aa8f2cf805da9d2f3a79ffe5d30/expr.ipynb\"><img src=\"data:image/png;base64,iVBORw0KGgoAAAANSUhEUgAAAHoAAAAyBAMAAABhfNLWAAAAMFBMVEX///+qqqoyMjIiIiIQEBDM\n",
       "zMxUVFRmZma6urqYmJh2dnbu7u6IiIhERETc3NwAAABX2VgGAAAAAXRSTlMAQObYZgAAAAlwSFlz\n",
       "AAAOxAAADsQBlSsOGwAAAgtJREFUSMfFljtLw1AUgE8GbdKkD1wcrQgVB8HHIIiD4C6ZdbAIDqJg\n",
       "oV2kIvUX+Nql4qaCgSqFqlgQXCy0ODnmD4h1kKLWYm6T2pP2pJLcwTP0Jm2+3NNzT/JdACNeyuAU\n",
       "FfgrlG+Ng77YA++0WAUvtP98mw2Biid6ELK6MYTKXmhpDPwMvIu5pPtUlnEMhC9Gx93Rhyn2GYqD\n",
       "+EbTNw9Xp2FEy8W1hWPrt/uzxmBQ4gdNx5V13xiiffBQSJj3OSmYl7xmoKdG0pKu1Hv3EH0EJX2V\n",
       "HQQTzd5g9KeNlocmWag9EIjY/rcKT+bpcrh57V0GxJpD1UKFtqrV2mmjaoJD1WBXlzVMi3W4tmce\n",
       "KINEr9htegP8aG75ubcCGXvVpFnwRUh6YDEJO4gW3nOzopWzfP9oHozDpUrSuaKwGcZzbxX691vd\n",
       "Yi54vrgCHnoNDlR04pq2xVKGhy6leeg54KB98zx0UuWgs3HgoVPwb5lzVg0mvNGWDVx0izzSYQM3\n",
       "nZqf6bCBm6dEmbZ8680GkoU72KBlAtoGwrDexQYtE1A2YG/IqOZoA2QCwgYNelQjbcACmYCwAcs8\n",
       "qnezwa8JCBsYuU1pXW3wawLCBmjFSBsgExA2QN1C2gCZoNMGQdSppA2QCRxs0GxaywYxnieUj3ax\n",
       "45Inze0B+irwxTN3o+E4drlhHlqp8tDed/c/n1Htw++lAx8AAAAASUVORK5CYII=\n",
       "\" style=\"display:inline;vertical-align:middle;\" /></a><br>"
      ],
      "text/plain": [
       "abs_cond: {-x | x < 0; x | x >= 0}"
      ]
     },
     "execution_count": 70,
     "metadata": {},
     "output_type": "execute_result"
    }
   ],
   "source": [
    "from proveit.number import zero, Neg, Less, GreaterEq\n",
    "abs_cond = Conditional((Neg(x), x), \n",
    "                       (Less(x, zero), GreaterEq(x, zero)))"
   ]
  },
  {
   "cell_type": "code",
   "execution_count": 71,
   "metadata": {},
   "outputs": [
    {
     "data": {
      "text/plain": [
       "'{-x | x < 0; x | x >= 0}'"
      ]
     },
     "execution_count": 71,
     "metadata": {},
     "output_type": "execute_result"
    }
   ],
   "source": [
    "# The string formatting is somewhat different:\n",
    "str(abs_cond)"
   ]
  },
  {
   "cell_type": "markdown",
   "metadata": {},
   "source": [
    "The `conditions` and `values` attributes may be used to access the *conditions* and *values* respectively."
   ]
  },
  {
   "cell_type": "code",
   "execution_count": 72,
   "metadata": {},
   "outputs": [
    {
     "data": {
      "text/html": [
       "<a class=\"ProveItLink\" href=\"__pv_it/e75046940807799564eead1e444cb3892e272e8d0/expr.ipynb\"><img src=\"data:image/png;base64,iVBORw0KGgoAAAANSUhEUgAAAHkAAAAVBAMAAACQ4lxbAAAAMFBMVEX////MzMxUVFREREQiIiK6\n",
       "uroQEBCYmJhmZmYyMjLu7u52dnaqqqqIiIjc3NwAAACFAiZ1AAAAAXRSTlMAQObYZgAAAAlwSFlz\n",
       "AAAOxAAADsQBlSsOGwAAAfNJREFUOMudlE9oE0EUxn9psk06u4k568F6EgtqUDxYUCL0WMSDl4KS\n",
       "ePC+hyAKUnMoFitKbgXxsNIiVSkN6sla2KPioUvoQYTgHrx4sp78U1ucmWQ3zTTsIQM7vDdvvnnv\n",
       "ffPNAiHDDY3L+0Oir6vp0+CYvfE4Abn+OdRpRWNw/CnLRksv3Ngc88VleAI5dyA4W8Yu9S+Jt0Fk\n",
       "1uAN3IbRA8CPRTmlx3H+mpGtd13jDGx6jHrMmFtqC2o+VMf6d+DgWhf+Gyo+Yy4PpbPaerbu95+/\n",
       "JtG/OgW3J468j+vSVAqFdrHHWZRePX8yV+7v7UeT1K62crSCuTj7zIScCjtwNCDbYFoyFOb3RjR5\n",
       "hbmIQ4Xe0dYsX8PjPfRkhG7ilLkJKdLdazsRK2etidXJXeT8PkZP6QoluhKQ2lZoyVFgoiVrTsTa\n",
       "rsGoZm3Tx6pKVchRCYXXX3m6RLZ7Y9YeL40bOwv3PFX5BVi6chrbUES2Sq6BPFKcG9mmaajlFjyQ\n",
       "e0q8lkUcvs+1SFBbXzrGNM+L4g84P1eqlm7oe0+VGV/ckLcRcBVW2s68byriVfsYTHmIR8GHu6Zq\n",
       "xEZLCjITkimaoTu9FcdLeqLfZPH1hLid+MDn5XcxIb6631meUuNS7BfUG1xKQLtJqdOqrYI75J9p\n",
       "Fv4D8EmICfaE9lwAAAAASUVORK5CYII=\n",
       "\" style=\"display:inline;vertical-align:middle;\" /></a>"
      ],
      "text/plain": [
       "(x < 0 , x >= 0)"
      ]
     },
     "execution_count": 72,
     "metadata": {},
     "output_type": "execute_result"
    }
   ],
   "source": [
    "abs_cond.conditions"
   ]
  },
  {
   "cell_type": "code",
   "execution_count": 73,
   "metadata": {},
   "outputs": [
    {
     "data": {
      "text/html": [
       "<a class=\"ProveItLink\" href=\"__pv_it/088c3bc17859479299b1755914adf544ba49b48d0/expr.ipynb\"><img src=\"data:image/png;base64,iVBORw0KGgoAAAANSUhEUgAAAD0AAAAVBAMAAAAHs/uBAAAAMFBMVEX////MzMxUVFREREQiIiK6\n",
       "uroQEBCYmJhmZmYyMjLu7u52dnaqqqqIiIjc3NwAAACFAiZ1AAAAAXRSTlMAQObYZgAAAAlwSFlz\n",
       "AAAOxAAADsQBlSsOGwAAARZJREFUKM9jYGB4wIALgGV4D+CUjwURp3FKg7VyTcAtzzCLgYGjAI98\n",
       "BQMDGx5pBrYFDJH45DkLGLqRuGsvLdwN8Q3XXS3pPQwM3AoM05HkG3h1ORzALA6GSxdaGBjYJzD4\n",
       "IKTZH/D+Y4I4t47h/gN1BgYeB4ZUoGFTXEBAgJGBGeZZAQZLEMX4ASSPAPwX4My/III1gWEOsnz8\n",
       "A64FEBbrP4ZVYPNtEbKLA/QZuBkYgCq4TJk+MGwAusiAYRNC/rxUG0MMA9dPoL6PKxJYgT7luMAQ\n",
       "gpBfcZenHSjosoCBq/fCiRqgCMsDBhYB9EDjWQBnPgFa0YAuz41gtgOxHbr8WjiLzwDkanR5RIQz\n",
       "g2ziw50A6hgYAFsYPPBCQBH4AAAAAElFTkSuQmCC\n",
       "\" style=\"display:inline;vertical-align:middle;\" /></a>"
      ],
      "text/plain": [
       "(-x , x)"
      ]
     },
     "execution_count": 73,
     "metadata": {},
     "output_type": "execute_result"
    }
   ],
   "source": [
    "abs_cond.values"
   ]
  },
  {
   "cell_type": "markdown",
   "metadata": {},
   "source": [
    "This is the expression information breakdown for our `Conditional` example."
   ]
  },
  {
   "cell_type": "code",
   "execution_count": 74,
   "metadata": {},
   "outputs": [
    {
     "data": {
      "text/html": [
       "<table><tr><th>&nbsp;</th><th>core type</th><th>sub-expressions</th><th>expression</th></tr>\n",
       "<tr><td>0</td><td>Conditional</td><td>values:&nbsp;1<br>conditions:&nbsp;2<br></td><td><a class=\"ProveItLink\" href=\"__pv_it/a103997c126476aa8f2cf805da9d2f3a79ffe5d30/expr.ipynb\"><img src=\"data:image/png;base64,iVBORw0KGgoAAAANSUhEUgAAAHoAAAAyBAMAAABhfNLWAAAAMFBMVEX///+qqqoyMjIiIiIQEBDM\n",
       "zMxUVFRmZma6urqYmJh2dnbu7u6IiIhERETc3NwAAABX2VgGAAAAAXRSTlMAQObYZgAAAAlwSFlz\n",
       "AAAOxAAADsQBlSsOGwAAAgtJREFUSMfFljtLw1AUgE8GbdKkD1wcrQgVB8HHIIiD4C6ZdbAIDqJg\n",
       "oV2kIvUX+Nql4qaCgSqFqlgQXCy0ODnmD4h1kKLWYm6T2pP2pJLcwTP0Jm2+3NNzT/JdACNeyuAU\n",
       "FfgrlG+Ng77YA++0WAUvtP98mw2Biid6ELK6MYTKXmhpDPwMvIu5pPtUlnEMhC9Gx93Rhyn2GYqD\n",
       "+EbTNw9Xp2FEy8W1hWPrt/uzxmBQ4gdNx5V13xiiffBQSJj3OSmYl7xmoKdG0pKu1Hv3EH0EJX2V\n",
       "HQQTzd5g9KeNlocmWag9EIjY/rcKT+bpcrh57V0GxJpD1UKFtqrV2mmjaoJD1WBXlzVMi3W4tmce\n",
       "KINEr9htegP8aG75ubcCGXvVpFnwRUh6YDEJO4gW3nOzopWzfP9oHozDpUrSuaKwGcZzbxX691vd\n",
       "Yi54vrgCHnoNDlR04pq2xVKGhy6leeg54KB98zx0UuWgs3HgoVPwb5lzVg0mvNGWDVx0izzSYQM3\n",
       "nZqf6bCBm6dEmbZ8680GkoU72KBlAtoGwrDexQYtE1A2YG/IqOZoA2QCwgYNelQjbcACmYCwAcs8\n",
       "qnezwa8JCBsYuU1pXW3wawLCBmjFSBsgExA2QN1C2gCZoNMGQdSppA2QCRxs0GxaywYxnieUj3ax\n",
       "45Inze0B+irwxTN3o+E4drlhHlqp8tDed/c/n1Htw++lAx8AAAAASUVORK5CYII=\n",
       "\" style=\"display:inline;vertical-align:middle;\" /></a></td></tr>\n",
       "<tr><td>1</td><td>ExprTuple</td><td>3, 10</td><td><a class=\"ProveItLink\" href=\"__pv_it/088c3bc17859479299b1755914adf544ba49b48d0/expr.ipynb\"><img src=\"data:image/png;base64,iVBORw0KGgoAAAANSUhEUgAAAD0AAAAVBAMAAAAHs/uBAAAAMFBMVEX////MzMxUVFREREQiIiK6\n",
       "uroQEBCYmJhmZmYyMjLu7u52dnaqqqqIiIjc3NwAAACFAiZ1AAAAAXRSTlMAQObYZgAAAAlwSFlz\n",
       "AAAOxAAADsQBlSsOGwAAARZJREFUKM9jYGB4wIALgGV4D+CUjwURp3FKg7VyTcAtzzCLgYGjAI98\n",
       "BQMDGx5pBrYFDJH45DkLGLqRuGsvLdwN8Q3XXS3pPQwM3AoM05HkG3h1ORzALA6GSxdaGBjYJzD4\n",
       "IKTZH/D+Y4I4t47h/gN1BgYeB4ZUoGFTXEBAgJGBGeZZAQZLEMX4ASSPAPwX4My/III1gWEOsnz8\n",
       "A64FEBbrP4ZVYPNtEbKLA/QZuBkYgCq4TJk+MGwAusiAYRNC/rxUG0MMA9dPoL6PKxJYgT7luMAQ\n",
       "gpBfcZenHSjosoCBq/fCiRqgCMsDBhYB9EDjWQBnPgFa0YAuz41gtgOxHbr8WjiLzwDkanR5RIQz\n",
       "g2ziw50A6hgYAFsYPPBCQBH4AAAAAElFTkSuQmCC\n",
       "\" style=\"display:inline;vertical-align:middle;\" /></a></td></tr>\n",
       "<tr><td>2</td><td>ExprTuple</td><td>4, 5</td><td><a class=\"ProveItLink\" href=\"__pv_it/e75046940807799564eead1e444cb3892e272e8d0/expr.ipynb\"><img src=\"data:image/png;base64,iVBORw0KGgoAAAANSUhEUgAAAHkAAAAVBAMAAACQ4lxbAAAAMFBMVEX////MzMxUVFREREQiIiK6\n",
       "uroQEBCYmJhmZmYyMjLu7u52dnaqqqqIiIjc3NwAAACFAiZ1AAAAAXRSTlMAQObYZgAAAAlwSFlz\n",
       "AAAOxAAADsQBlSsOGwAAAfNJREFUOMudlE9oE0EUxn9psk06u4k568F6EgtqUDxYUCL0WMSDl4KS\n",
       "ePC+hyAKUnMoFitKbgXxsNIiVSkN6sla2KPioUvoQYTgHrx4sp78U1ucmWQ3zTTsIQM7vDdvvnnv\n",
       "ffPNAiHDDY3L+0Oir6vp0+CYvfE4Abn+OdRpRWNw/CnLRksv3Ngc88VleAI5dyA4W8Yu9S+Jt0Fk\n",
       "1uAN3IbRA8CPRTmlx3H+mpGtd13jDGx6jHrMmFtqC2o+VMf6d+DgWhf+Gyo+Yy4PpbPaerbu95+/\n",
       "JtG/OgW3J468j+vSVAqFdrHHWZRePX8yV+7v7UeT1K62crSCuTj7zIScCjtwNCDbYFoyFOb3RjR5\n",
       "hbmIQ4Xe0dYsX8PjPfRkhG7ilLkJKdLdazsRK2etidXJXeT8PkZP6QoluhKQ2lZoyVFgoiVrTsTa\n",
       "rsGoZm3Tx6pKVchRCYXXX3m6RLZ7Y9YeL40bOwv3PFX5BVi6chrbUES2Sq6BPFKcG9mmaajlFjyQ\n",
       "e0q8lkUcvs+1SFBbXzrGNM+L4g84P1eqlm7oe0+VGV/ckLcRcBVW2s68byriVfsYTHmIR8GHu6Zq\n",
       "xEZLCjITkimaoTu9FcdLeqLfZPH1hLid+MDn5XcxIb6631meUuNS7BfUG1xKQLtJqdOqrYI75J9p\n",
       "Fv4D8EmICfaE9lwAAAAASUVORK5CYII=\n",
       "\" style=\"display:inline;vertical-align:middle;\" /></a></td></tr>\n",
       "<tr><td>3</td><td>Operation</td><td>operator:&nbsp;6<br>operand:&nbsp;10<br></td><td><a class=\"ProveItLink\" href=\"__pv_it/aa232eb431e10f8843527754be9617e19b60ef1e0/expr.ipynb\"><img src=\"data:image/png;base64,iVBORw0KGgoAAAANSUhEUgAAABoAAAAJBAMAAADeJiHIAAAAMFBMVEX///8QEBC6urpERETc3NyY\n",
       "mJhmZmaqqqp2dnZUVFSIiIjMzMwiIiIyMjLu7u4AAADHOaskAAAAAXRSTlMAQObYZgAAAAlwSFlz\n",
       "AAAOxAAADsQBlSsOGwAAAEpJREFUCNdjYIACvlXzdrTDOAxsDCsX5MB5IQzrHaYyvD0DAqcZNjDY\n",
       "MiCDX8gcpi8M7+BGGnF+YGiA8dh/PxNgKoDLZS0oC2cAAHc5FbBuw8z8AAAAAElFTkSuQmCC\n",
       "\" style=\"display:inline;vertical-align:middle;\" /></a></td></tr>\n",
       "<tr><td>4</td><td>Operation</td><td>operator:&nbsp;7<br>operands:&nbsp;9<br></td><td><a class=\"ProveItLink\" href=\"__pv_it/fa9ea0382a72c72a9d31dc8232c720687ee04c3c0/expr.ipynb\"><img src=\"data:image/png;base64,iVBORw0KGgoAAAANSUhEUgAAADEAAAAQBAMAAABNQoq8AAAAMFBMVEX///8QEBC6uroyMjJERETc\n",
       "3NyYmJgiIiJmZmaqqqp2dnbMzMxUVFSIiIju7u4AAAAoIwv1AAAAAXRSTlMAQObYZgAAAAlwSFlz\n",
       "AAAOxAAADsQBlSsOGwAAAMNJREFUGNNjYMAGVt0IwCrOwDyBrxS7TDoDwxJ0MU5rEOnDwDD/AaoE\n",
       "WwVY4AcDg/4EBoa3d16vmgCR4K0CS/CBZBIYGBp4z3IUgCVe1UIUsP5iYNh/gYEtgPcrTwJIIKKM\n",
       "AUlmAQM3A4sBmM9jCbONDyijfwHI4L+AJgNywXyQ1foBfA9QTGNwYWDIf8DwROE8AxcDigsYEhkY\n",
       "moHa9jUyaEJF3tZC/Mc+gU+ageHFXc62CXCfQj209s4G9NBhs2YgDACmnTRipqRnpAAAAABJRU5E\n",
       "rkJggg==\n",
       "\" style=\"display:inline;vertical-align:middle;\" /></a></td></tr>\n",
       "<tr><td>5</td><td>Operation</td><td>operator:&nbsp;8<br>operands:&nbsp;9<br></td><td><a class=\"ProveItLink\" href=\"__pv_it/ea333025565dd8951020e47e49c09c68e6e664040/expr.ipynb\"><img src=\"data:image/png;base64,iVBORw0KGgoAAAANSUhEUgAAADEAAAARBAMAAACGHlkZAAAAMFBMVEX///8QEBC6uroyMjJERETc\n",
       "3NyYmJgiIiJmZmaqqqp2dnbMzMxUVFSIiIju7u4AAAAoIwv1AAAAAXRSTlMAQObYZgAAAAlwSFlz\n",
       "AAAOxAAADsQBlSsOGwAAAMNJREFUGNNjYMAGVt0IQOI9ToAzmSfwlSLJ8C2/AGOmMzAsQTHj+joo\n",
       "w4eBYf4DFKl0qNQPBgb9CQwMb++8XjUBKjW5FWwuSAZoawPvWY4CmC7lc0CC9RcDw/4LDGwBvF95\n",
       "4M5S9oPJLGDgZmAxgFs0+SjYNKCMPsih/AjX9sFdMB9ktX4A3wNUV7swMOQ/YHiicJ6BC82niQwM\n",
       "zUBt+xoZNEHcYETosE/gk2ZgeHGXs20CWoDyrb2zgYEy8LwcBKrhfABLZjoVtQ9p3AAAAABJRU5E\n",
       "rkJggg==\n",
       "\" style=\"display:inline;vertical-align:middle;\" /></a></td></tr>\n",
       "<tr><td>6</td><td>Literal</td><td></td><td><a class=\"ProveItLink\" href=\"../packages/proveit/number/negation/__pv_it/2867787e35502987d81a45cac8e7f1c6996d6ff40/expr.ipynb\"><img src=\"data:image/png;base64,iVBORw0KGgoAAAANSUhEUgAAAA4AAAABBAMAAAAcMII3AAAAElBMVEX////MzMwiIiIyMjLu7u4A\n",
       "AADe/Ps1AAAAAXRSTlMAQObYZgAAAAlwSFlzAAAOxAAADsQBlSsOGwAAAA1JREFUCNdjcFYCAUUA\n",
       "BKYBD24TAeoAAAAASUVORK5CYII=\n",
       "\" style=\"display:inline;vertical-align:middle;\" /></a></td></tr>\n",
       "<tr><td>7</td><td>Literal</td><td></td><td><a class=\"ProveItLink\" href=\"../packages/proveit/number/ordering/__pv_it/f3d9fbb51fcb1b5a2184b502c51efff1714101450/expr.ipynb\"><img src=\"data:image/png;base64,iVBORw0KGgoAAAANSUhEUgAAAA4AAAAOBAMAAADtZjDiAAAAJ1BMVEX///9UVFTc3Nx2dnaIiIju\n",
       "7u5mZmYiIiKYmJjMzMwyMjKqqqoAAAA1lN/NAAAAAXRSTlMAQObYZgAAAAlwSFlzAAAOxAAADsQB\n",
       "lSsOGwAAADVJREFUCNdjYEAG3CvBFEdZAIhiKQZTwSVgQbUKMMW4mgGFhonD1TEwhJQEQBgcxTDG\n",
       "SpgNAOs2CQB60bxLAAAAAElFTkSuQmCC\n",
       "\" style=\"display:inline;vertical-align:middle;\" /></a></td></tr>\n",
       "<tr><td>8</td><td>Literal</td><td></td><td><a class=\"ProveItLink\" href=\"../packages/proveit/number/ordering/__pv_it/cef35580c31dcaee082f4b9a008104845b0dfa860/expr.ipynb\"><img src=\"data:image/png;base64,iVBORw0KGgoAAAANSUhEUgAAAA4AAAAQBAMAAADUulMJAAAALVBMVEX////MzMxERERUVFS6urrc\n",
       "3NxmZmaqqqqIiIgiIiJ2dnaYmJgyMjLu7u4AAAAzo2S2AAAAAXRSTlMAQObYZgAAAAlwSFlzAAAO\n",
       "xAAADsQBlSsOGwAAADZJREFUCNdjuLOBAQx4VzZAGAyda6GMnTBGTSqU4WMLpXUh4qYQdblI+mDm\n",
       "xEDNxQVuzgSBiQAjaBD4XzpIGAAAAABJRU5ErkJggg==\n",
       "\" style=\"display:inline;vertical-align:middle;\" /></a></td></tr>\n",
       "<tr><td>9</td><td>ExprTuple</td><td>10, 11</td><td><a class=\"ProveItLink\" href=\"__pv_it/c0d1f4705d07c98ccdeca4548c639760e3ab3a1e0/expr.ipynb\"><img src=\"data:image/png;base64,iVBORw0KGgoAAAANSUhEUgAAACsAAAAVBAMAAAAtAwouAAAAMFBMVEX////MzMxUVFREREQiIiK6\n",
       "uroQEBCYmJhmZmYyMjLu7u52dnaqqqqIiIjc3NwAAACFAiZ1AAAAAXRSTlMAQObYZgAAAAlwSFlz\n",
       "AAAOxAAADsQBlSsOGwAAARdJREFUGNNdkT1LA0EQhp+YmI+9j6S20T8gBq2VFJYiFjYB5bSwv0LE\n",
       "SlMZxCadIBYraWwComUQrrfIkcpGuMIfYKkI4uzhnrlb2GHfZ2bfnd0FEgojBV5UxPsmvOTQ+DVJ\n",
       "C9VgljYitQ03UA9n8TE8wSlUcx6rMNFUNd0c/oQgohFyJWI0vRun/SiDQ5wlrkX1vOV6x2D/GxZj\n",
       "agO2oJZ4P3Nhhh9wOxxBifJfl0pwEFP6MBia8f+Rk4j5A26NChKlU7wG59qYrMNwZwUHTOIELuWw\n",
       "No+ybeGCPdSX4EqkDuXmMbtw/+b2pe1NKVfP05YkEyote0NX29W7+PSscLIn6MvcsGJkF35bwtCq\n",
       "7IXLxs0Pi592Br9zN0IjG+0kiAAAAABJRU5ErkJggg==\n",
       "\" style=\"display:inline;vertical-align:middle;\" /></a></td></tr>\n",
       "<tr><td>10</td><td>Variable</td><td></td><td><a class=\"ProveItLink\" href=\"../packages/proveit/__pv_it/72df168d2bfb4e0140af90912ebf83b13772060b0/expr.ipynb\"><img src=\"data:image/png;base64,iVBORw0KGgoAAAANSUhEUgAAAAsAAAAJBAMAAAAWSsseAAAAMFBMVEX///8QEBC6uroyMjJERETc\n",
       "3NyYmJgiIiJmZmaqqqp2dnbMzMxUVFSIiIju7u4AAAAoIwv1AAAAAXRSTlMAQObYZgAAAAlwSFlz\n",
       "AAAOxAAADsQBlSsOGwAAAENJREFUCNdjYHh75/WqCQwMDbxnOQoY2AJ4v/IkMHAzsBgwgAD/BTCl\n",
       "H8D3gOGJwnkGLgaG+fsaGTQZGF7c5WybwAAAJGsQ2L2rVEcAAAAASUVORK5CYII=\n",
       "\" style=\"display:inline;vertical-align:middle;\" /></a></td></tr>\n",
       "<tr><td>11</td><td>Literal</td><td></td><td><a class=\"ProveItLink\" href=\"../packages/proveit/number/numeral/__pv_it/bcb6bc33e5975ec2290a3272bf7802d26ab8421d0/expr.ipynb\"><img src=\"data:image/png;base64,iVBORw0KGgoAAAANSUhEUgAAAAoAAAAOBAMAAADkjZCYAAAAMFBMVEX///8QEBDMzMy6urpUVFRE\n",
       "RESYmJgiIiLu7u6qqqoyMjLc3NxmZmaIiIh2dnYAAABjjC/7AAAAAXRSTlMAQObYZgAAAAlwSFlz\n",
       "AAAOxAAADsQBlSsOGwAAAFdJREFUCNdjYOB7e5qBgWElQ/sGBrYCBr4ABlYHBs4fDPwHGJh/MvQD\n",
       "yW8M+x8wMP0Fk/8Y+h8wMP8FyXL+ZGANYGD7wcAmwMCzgIGhkqFRgYGh764TAwAMEBgt0IBciQAA\n",
       "AABJRU5ErkJggg==\n",
       "\" style=\"display:inline;vertical-align:middle;\" /></a></td></tr>\n",
       "</table>\n"
      ],
      "text/plain": [
       "0. {-x | x < 0; x | x >= 0}\n",
       "   core type: Conditional\n",
       "   values: 1\n",
       "   conditions: 2\n",
       "1. (-x , x)\n",
       "   core type: ExprTuple\n",
       "   sub-expressions: 3, 10\n",
       "2. (x < 0 , x >= 0)\n",
       "   core type: ExprTuple\n",
       "   sub-expressions: 4, 5\n",
       "3. -x\n",
       "   core type: Operation\n",
       "   operator: 6\n",
       "   operand: 10\n",
       "4. x < 0\n",
       "   core type: Operation\n",
       "   operator: 7\n",
       "   operands: 9\n",
       "5. x >= 0\n",
       "   core type: Operation\n",
       "   operator: 8\n",
       "   operands: 9\n",
       "6. -\n",
       "   core type: Literal\n",
       "   sub-expressions: \n",
       "7. <\n",
       "   core type: Literal\n",
       "   sub-expressions: \n",
       "8. >=\n",
       "   core type: Literal\n",
       "   sub-expressions: \n",
       "9. (x , 0)\n",
       "   core type: ExprTuple\n",
       "   sub-expressions: 10, 11\n",
       "10. x\n",
       "    core type: Variable\n",
       "    sub-expressions: \n",
       "11. 0\n",
       "    core type: Literal\n",
       "    sub-expressions: "
      ]
     },
     "execution_count": 74,
     "metadata": {},
     "output_type": "execute_result"
    }
   ],
   "source": [
    "abs_cond.exprInfo()"
   ]
  },
  {
   "cell_type": "markdown",
   "metadata": {},
   "source": [
    "It is actually common to have only one *condition*, indicating a value that is only defined when the condition is satisfied."
   ]
  },
  {
   "cell_type": "code",
   "execution_count": 75,
   "metadata": {},
   "outputs": [
    {
     "data": {
      "text/html": [
       "<strong id=\"div_cancel_cond\">div_cancel_cond:</strong> <a class=\"ProveItLink\" href=\"__pv_it/def95386cf7df0c96901ca85e8ae50275cfe933e0/expr.ipynb\"><img src=\"data:image/png;base64,iVBORw0KGgoAAAANSUhEUgAAALwAAAAaCAMAAAA60sZqAAAAPFBMVEX///8NDQ0WFhYLCwsYGBhm\n",
       "Zma6urrc3NwiIiKIiIjMzMyYmJgQEBB2dnbu7u5EREQyMjJUVFSqqqoAAAC8bp8oAAAAAXRSTlMA\n",
       "QObYZgAAAAlwSFlzAAAOxAAADsQBlSsOGwAAAoNJREFUWMPFWNG2nCAMpL0FDEgQ+P9/bQC9ohuF\n",
       "uz12fdjjGo1DmBmCQnz6SP+aIIbIXVU/SOE+BX7xyGGXvecUBPr15dz4z4B3M3cVl4FqJxRmfdrC\n",
       "R8AHFqa3vec0qkkI2Eo+4aPgA58+cDOu55GExPSwVbxw6DHwB1o6B1LfgJcjCpxI0rPZeJbwQfDe\n",
       "NBole8FJX4NPI1YzGaH2ly/2OfCmmVY7ler7S/BmqIxRWr8LRvrnwHvdnJeBxIqQAw/TQEbUB13D\n",
       "/Bh41eopFQ9XqaxN3t84EAIENM5xqxhpVTVOpbqzhSCzvDFcgOfilZFN4XEDb8sfhqvfA5LZRkBI\n",
       "biaiBXeg2i4qOTVH2BeGmGfHpgvwL/E1zZ+vJo1Orr6NxmkWbnVZ1jstDRmSFmFAjLonch2FXM48\n",
       "TZ34ufA7eEfS1ayPrL1BrmWjSZqm/U/6PrZYBzyxas6VmoEHz8YzQw6NClbwKlde3Va+pAdmVGzl\n",
       "TVd4WRbmcF/qxM+F3wQbi2BZzjfgFbFG4IBzmqQ7nK+sOLrSAfw5XtL8/nVMU/Voqz2wblOvoVci\n",
       "pMGOt+821aJ9uATPxKmQp7R2/h7nhc/X0cdkUNKpigPgbd/nZdg87qLyr3GmNZ9ye7C2JRz4tYoo\n",
       "AfI6OoK9vLln9IFaqqQvwTPxl8LTXY4WH3PTmM0jvQ1Qc+e2/m60t3HL/Qp7isd7xr7dVYLOzy5x\n",
       "uKvMPMU5XoLn4gv+HLwZaFSo0h7E5mu2z5oJ6h7gCjwTt+6dnVQY4nljyfxqd6QA8UzdNGZMvLc/\n",
       "g3f3sNnaaW16dA/bXfeWIN75ekA7xSyuOq/6Q18P3v1ug8EqB67Oq8P/D/4vBlUfIMYXzoQAAAAA\n",
       "SUVORK5CYII=\n",
       "\" style=\"display:inline;vertical-align:middle;\" /></a><br>"
      ],
      "text/plain": [
       "div_cancel_cond: {(x * (y / x)) = y | y != 0}"
      ]
     },
     "execution_count": 75,
     "metadata": {},
     "output_type": "execute_result"
    }
   ],
   "source": [
    "from proveit.logic import Equals, NotEquals\n",
    "from proveit.number import zero, Mult, frac\n",
    "div_cancel_cond = Conditional(Equals(Mult(x, frac(y, x)), y),\n",
    "                              NotEquals(y, zero))"
   ]
  },
  {
   "cell_type": "markdown",
   "metadata": {},
   "source": [
    "It will then have singular `condition` and `value` attributes."
   ]
  },
  {
   "cell_type": "code",
   "execution_count": 76,
   "metadata": {},
   "outputs": [
    {
     "data": {
      "text/html": [
       "<a class=\"ProveItLink\" href=\"__pv_it/e029dbc8be585bae1222b5f5c59c4825e8aeed6e0/expr.ipynb\"><img src=\"data:image/png;base64,iVBORw0KGgoAAAANSUhEUgAAADEAAAAUCAMAAAATIyWrAAAAPFBMVEX///8NDQ0WFhYLCwsYGBgi\n",
       "IiLMzMy6urpEREQyMjLc3NyYmJgQEBCqqqp2dnZUVFRmZmaIiIju7u4AAABqHtxTAAAAAXRSTlMA\n",
       "QObYZgAAAAlwSFlzAAAOxAAADsQBlSsOGwAAAORJREFUKM+VU1kSgyAMTRcRZEvg/nctibVGOxPH\n",
       "fDBGfHkLCGBVbXCvnNddKYTLBcI71YQM0CYb4qpq4iQ83qbQA73Ac7eczZoCOsq7ztoIaTy3ekYE\n",
       "TdE2RBzSICfW2bdNnKTeL163OUsvYq0TLBkwcPTeotgRBYaTxKpk0S7w0LYVMXeStTHYWRSb88zO\n",
       "V1GU4ODj+Vjd/PLwojpKupK0P0UVzrlHGSnTAes3NVUZ/45n4pNIor3VccX6YlOMzwpR3c2WcKQo\n",
       "1u1haS3lKwqtbyRcjzOjSQGZCOfTkLu/Hjhr8wOewwmKKhUpCgAAAABJRU5ErkJggg==\n",
       "\" style=\"display:inline;vertical-align:middle;\" /></a>"
      ],
      "text/plain": [
       "y != 0"
      ]
     },
     "execution_count": 76,
     "metadata": {},
     "output_type": "execute_result"
    }
   ],
   "source": [
    "div_cancel_cond.condition"
   ]
  },
  {
   "cell_type": "code",
   "execution_count": 77,
   "metadata": {},
   "outputs": [
    {
     "data": {
      "text/html": [
       "<a class=\"ProveItLink\" href=\"__pv_it/77934d72b362d5f02eba6d5508cdc6dc9ad97b200/expr.ipynb\"><img src=\"data:image/png;base64,iVBORw0KGgoAAAANSUhEUgAAAGgAAAAmBAMAAADaYMOOAAAAMFBMVEX///+IiIi6urrc3NxEREQi\n",
       "IiKqqqp2dnbu7u4QEBDMzMwyMjJUVFSYmJhmZmYAAAD4FjilAAAAAXRSTlMAQObYZgAAAAlwSFlz\n",
       "AAAOxAAADsQBlSsOGwAAAe5JREFUOMuNlT1IQlEUx4/fV9Pnc4zCnFp1b7BaGvqgiLaI19iSTrUm\n",
       "FFSDGkFDk1tFg241viCoJQqCIFpqaAgLLMHEsHr3XkN495xHZ/Bdjv6u5+t/HgCAdgOYsVNwsFe7\n",
       "I/cEzAQ4XqOZSMXuyS5BpGZ9MUxDR/YLPUYVwhwYoaETJRnYgaBuHdIpivE3FZe7CeUSrxAZny+r\n",
       "uLQK9Io46xRUVmvkNWFCHMYo6Fx1aaa7LQ73FNRG2noRl4GlDZwJoXEHZO98j0Rra6qvClvGX0VQ\n",
       "CyP+GbiQB1cNh4Km6luMJzo9bOFQNOswyqEGAQld5Pq3V5FKsTYuAFnVR9eZNo1c+S4+n+e4zXcF\n",
       "UOZQJOWqhzEpfuICSPKcQ+AVRWRfIuIfbqJw37gAyjKVqC4eC7YffeMC6EDJFEPEzZScpADSPJX1\n",
       "xDUEkJQ8bVwABR5X5vAFBv/VJymAIJ/JfMz/hg20+wMXQI/DyoFIExeAVnSA1IZLAWCXdfeHiQuA\n",
       "NRygwg0hgCkHKEMtPmR5sNjlwYrMgAohoeYP/fozP+xRUEDV+y0MpK642unK7iueEozLVWCQ0AMp\n",
       "vj66RD26Oj512LTGdZeG2KzdMRqugbVvNgyHbgzZlORv5YtuC5h0eud6SrZ/etKX76xHggJ+AerP\n",
       "h1vE62NSAAAAAElFTkSuQmCC\n",
       "\" style=\"display:inline;vertical-align:middle;\" /></a>"
      ],
      "text/plain": [
       "(x * (y / x)) = y"
      ]
     },
     "execution_count": 77,
     "metadata": {},
     "output_type": "execute_result"
    }
   ],
   "source": [
    "div_cancel_cond.value"
   ]
  },
  {
   "cell_type": "markdown",
   "metadata": {},
   "source": [
    "<a name=\"Lambda\"></a>Lambda\n",
    "====\n",
    "\n",
    "This type of **expression** represents a mathematical mapping or function.  It contains *parameter(s)* (one or more *variables* and/or *iteration* of *indexed* *variables* that will be discussed in the <a href=\"#IndexedVar\">IndexedVar</a> section below) and a *body* (any **expression** that the *parameters* are to be mapped into)."
   ]
  },
  {
   "cell_type": "code",
   "execution_count": 78,
   "metadata": {},
   "outputs": [],
   "source": [
    "from proveit import Lambda"
   ]
  },
  {
   "cell_type": "code",
   "execution_count": 79,
   "metadata": {},
   "outputs": [
    {
     "data": {
      "text/html": [
       "<strong id=\"map_to_5\">map_to_5:</strong> <a class=\"ProveItLink\" href=\"__pv_it/3a8a6881a2ba4a8a0846814f53bd469178743d6a0/expr.ipynb\"><img src=\"data:image/png;base64,iVBORw0KGgoAAAANSUhEUgAAADcAAAAPCAMAAAB3LKe0AAAANlBMVEX///8WFhYNDQ0QEBC6uroy\n",
       "MjJERETc3NyYmJgiIiJmZmaqqqp2dnbMzMxUVFSIiIju7u4AAAANq5mNAAAAAXRSTlMAQObYZgAA\n",
       "AAlwSFlzAAAOxAAADsQBlSsOGwAAAMBJREFUKM+VktkSgzAIRWmzCVmA///ZYnRq0tGZhgc1yoEL\n",
       "V4C1qPtFEqyG0xAQZZlDVCzrGLR/Ezn9zU0yMj1xwtyklpK/M8wTzdzGTH2pYAW5MRDeZ+Y4nqKJ\n",
       "SertabMBWJNVuueA4+/+Ip5OxjC+fr9wCu31hyA9l6X8PBH4cGFHA9JjQr/zIvdcDYNM1781tfTo\n",
       "+x3KQ78wGngkOVtV1irkrGe+hE0qJ//SfmJnCoSYzdwtP/wEp1kXSI0M+wCGPgao+xJPJwAAAABJ\n",
       "RU5ErkJggg==\n",
       "\" style=\"display:inline;vertical-align:middle;\" /></a><br>"
      ],
      "text/plain": [
       "map_to_5: x -> 5"
      ]
     },
     "execution_count": 79,
     "metadata": {},
     "output_type": "execute_result"
    }
   ],
   "source": [
    "# maps any value to 5\n",
    "map_to_5 = Lambda(x, FIVE)"
   ]
  },
  {
   "cell_type": "code",
   "execution_count": 80,
   "metadata": {},
   "outputs": [
    {
     "data": {
      "text/html": [
       "<table><tr><th>&nbsp;</th><th>core type</th><th>sub-expressions</th><th>expression</th></tr>\n",
       "<tr><td>0</td><td>Lambda</td><td>parameter:&nbsp;1<br>body:&nbsp;2<br></td><td><a class=\"ProveItLink\" href=\"__pv_it/3a8a6881a2ba4a8a0846814f53bd469178743d6a0/expr.ipynb\"><img src=\"data:image/png;base64,iVBORw0KGgoAAAANSUhEUgAAADcAAAAPCAMAAAB3LKe0AAAANlBMVEX///8WFhYNDQ0QEBC6uroy\n",
       "MjJERETc3NyYmJgiIiJmZmaqqqp2dnbMzMxUVFSIiIju7u4AAAANq5mNAAAAAXRSTlMAQObYZgAA\n",
       "AAlwSFlzAAAOxAAADsQBlSsOGwAAAMBJREFUKM+VktkSgzAIRWmzCVmA///ZYnRq0tGZhgc1yoEL\n",
       "V4C1qPtFEqyG0xAQZZlDVCzrGLR/Ezn9zU0yMj1xwtyklpK/M8wTzdzGTH2pYAW5MRDeZ+Y4nqKJ\n",
       "SertabMBWJNVuueA4+/+Ip5OxjC+fr9wCu31hyA9l6X8PBH4cGFHA9JjQr/zIvdcDYNM1781tfTo\n",
       "+x3KQ78wGngkOVtV1irkrGe+hE0qJ//SfmJnCoSYzdwtP/wEp1kXSI0M+wCGPgao+xJPJwAAAABJ\n",
       "RU5ErkJggg==\n",
       "\" style=\"display:inline;vertical-align:middle;\" /></a></td></tr>\n",
       "<tr><td>1</td><td>Variable</td><td></td><td><a class=\"ProveItLink\" href=\"../packages/proveit/__pv_it/72df168d2bfb4e0140af90912ebf83b13772060b0/expr.ipynb\"><img src=\"data:image/png;base64,iVBORw0KGgoAAAANSUhEUgAAAAsAAAAJBAMAAAAWSsseAAAAMFBMVEX///8QEBC6uroyMjJERETc\n",
       "3NyYmJgiIiJmZmaqqqp2dnbMzMxUVFSIiIju7u4AAAAoIwv1AAAAAXRSTlMAQObYZgAAAAlwSFlz\n",
       "AAAOxAAADsQBlSsOGwAAAENJREFUCNdjYHh75/WqCQwMDbxnOQoY2AJ4v/IkMHAzsBgwgAD/BTCl\n",
       "H8D3gOGJwnkGLgaG+fsaGTQZGF7c5WybwAAAJGsQ2L2rVEcAAAAASUVORK5CYII=\n",
       "\" style=\"display:inline;vertical-align:middle;\" /></a></td></tr>\n",
       "<tr><td>2</td><td>Literal</td><td></td><td><a class=\"ProveItLink\" href=\"__pv_it/f0000a69129f8d8810bf110adab7d1d66f92f6fb0/expr.ipynb\"><img src=\"data:image/png;base64,iVBORw0KGgoAAAANSUhEUgAAAAkAAAAPBAMAAADE5vg+AAAALVBMVEX///+6urpERERmZmaIiIiY\n",
       "mJhUVFR2dnYiIiIyMjIQEBDc3Nzu7u7MzMwAAACupZ0AAAAAAXRSTlMAQObYZgAAAAlwSFlzAAAO\n",
       "xAAADsQBlSsOGwAAAE5JREFUCNdj4GVgOM3AwPVyRg8DA0df+wEGBjYGEEAhQ5wvMDAwHeB+COZq\n",
       "gEm7DQyaQPICwwoGhjwGhgIGhkUMDJsZWNYwMHAbJx9gAACR9A8z434veQAAAABJRU5ErkJggg==\n",
       "\" style=\"display:inline;vertical-align:middle;\" /></a></td></tr>\n",
       "</table>\n"
      ],
      "text/plain": [
       "0. x -> 5\n",
       "   core type: Lambda\n",
       "   parameter: 1\n",
       "   body: 2\n",
       "1. x\n",
       "   core type: Variable\n",
       "   sub-expressions: \n",
       "2. 5\n",
       "   core type: Literal\n",
       "   sub-expressions: "
      ]
     },
     "execution_count": 80,
     "metadata": {},
     "output_type": "execute_result"
    }
   ],
   "source": [
    "# Let's look at the Expression info\n",
    "map_to_5.exprInfo()"
   ]
  },
  {
   "cell_type": "markdown",
   "metadata": {},
   "source": [
    "Here is an example with multiple *parameters* represented by an `ExprTuple` and a `Conditional` *body* .  This maps a pair of real numbers to the first element (invoking the `And`, `Add`, and `InSet` <a href=\"#Operation\">`Operation`</a>s and using the `Reals` <a href=\"#Literal\">`Literal`</a>):"
   ]
  },
  {
   "cell_type": "code",
   "execution_count": 81,
   "metadata": {},
   "outputs": [
    {
     "data": {
      "text/html": [
       "<strong id=\"lambda_expr\">lambda_expr:</strong> <a class=\"ProveItLink\" href=\"__pv_it/606d81db2f5c591a46fb2987b140fd2d3a6e8d930/expr.ipynb\"><img src=\"data:image/png;base64,iVBORw0KGgoAAAANSUhEUgAAAWwAAAAZCAMAAAAi2eRNAAAANlBMVEX///8WFhYNDQ3MzMxUVFRE\n",
       "REQiIiK6uroQEBCYmJhmZmYyMjLu7u52dnaqqqqIiIjc3NwAAACgirQNAAAAAXRSTlMAQObYZgAA\n",
       "AAlwSFlzAAAOxAAADsQBlSsOGwAAA6lJREFUaN7tmulypCAURplhE7iyvP/Ljlu3LBcEp00qVfFH\n",
       "0qlKDh/Hy6Yh5ImLCSH88dky+zFuID/1cosR+wzaRB85kOdk+3sc/7FfGvhDpQaw/o7sefrkTcxl\n",
       "u85iUWLiPJjl695h6TpqsbsQO+m77E5sT8JCNjMPyrbzQCLPli4wtQ+06y4PsDvpm+xubP+9jmTz\n",
       "52TDwI3kxM/bN8r2hNnkNmd9g6EiuaK/ZQ9gDTwnW6ph2VoN69D+yKZ06lZkFkbYl/RT9gAWZXxI\n",
       "tnXDslvLgePL8h8ZPHUcgaakcJxisptdwK/op+yRFWyqlLbz3yBb1oekNA7Q2mMA7IiY1JgglHey\n",
       "EfgV/S1bjkxOESNpz+oB2eAcAzpns2Qum732QIJWZOu5xvPlfLfroNyaoy5mlq2GxiNsJAUCv6Cf\n",
       "suuRkbYihiBpZVRk81L2cmMcc0SLlmz7yuGDq8h+3fmSZzymYzIiiHdRqrjI1j9ICuZgYykQ+AX9\n",
       "lF2PjLQVMTJVHJcNoRhPagnrgidMtWRrdJ+QyD5OZAjP4EuYUtFmwEYd2PcQAgo2lsKQQXokux4Z\n",
       "aStiiHzNAEQ2NeVMvI4RHifW62ojpmn7dgwdKfc+HMlQ2ZPEeYTuqOXi6UDnoN55aMRi27h1Lmdj\n",
       "KTB4mx7JrkbG2ooYf/+I5ApBFrKVqJw6g7tYILcf6HazZ9KWXfKAVzZnC/A9Ccgp31ODyNlYCgze\n",
       "pCOyMQVlWxFD5Eu0RCpbGnSPIZchRAAasvX7EOWrso2t8URtJ6yp5+VAf00R2mZsNIUgY/Rkzq5G\n",
       "RtqqTiM0XaIbczZwSVjIKraQzek6jPRadVCTzV2N51xFx1KWx+MgonjRFW8yNpoCgTfpsWwsMtR6\n",
       "jCREl+jGbsQGCnoZINK2ZM/TzCYbmJ5UdZ+9b41QnrHlMWvbAi8dPk4v+t3eOdNymrLxFCW8RU9k\n",
       "I5EhmEqPI0Zy4JL9+2zQS2lYrWxzzgYelvvnpsk1DjWiygPGJZTP5fx6803YfvVcTs6lnc4ZG02R\n",
       "w9v09FCDRBb7Lqhsq7bgafodx3VBG8e8macn6vx5sWi31GJfwnH6OsVgWAu3En7xg6juRzVYeagP\n",
       "PQbqp6+yMex8L+EXP2Il/P7LlMtY99k1+rZ4llhwNxN+sWy4Db9+Vwf/ERynb7JLrLqbEJH95Jsa\n",
       "4tU9juoo27vsKn3fFnZiVf/AOg27R99B/qhLqWe48dt19iv7Ydm//zeSXU6ISf0Dcn0wEpaPnEsA\n",
       "AAAASUVORK5CYII=\n",
       "\" style=\"display:inline;vertical-align:middle;\" /></a><br>"
      ],
      "text/plain": [
       "lambda_expr: (x, omega) -> {x + omega | (x in Reals) and (omega in Reals)}"
      ]
     },
     "execution_count": 81,
     "metadata": {},
     "output_type": "execute_result"
    }
   ],
   "source": [
    "# Can have multiple arguments\n",
    "from proveit.logic import InSet, And\n",
    "from proveit.number import Add, Reals\n",
    "from proveit import Conditional\n",
    "lambda_expr = Lambda([x, omega], \n",
    "                     Conditional(Add(x, omega), \n",
    "                                 And(InSet(x, Reals), \n",
    "                                     InSet(omega, Reals))))"
   ]
  },
  {
   "cell_type": "code",
   "execution_count": 82,
   "metadata": {},
   "outputs": [
    {
     "data": {
      "text/html": [
       "<table><tr><th>&nbsp;</th><th>core type</th><th>sub-expressions</th><th>expression</th></tr>\n",
       "<tr><td>0</td><td>Lambda</td><td>parameters:&nbsp;5<br>body:&nbsp;1<br></td><td><a class=\"ProveItLink\" href=\"__pv_it/606d81db2f5c591a46fb2987b140fd2d3a6e8d930/expr.ipynb\"><img src=\"data:image/png;base64,iVBORw0KGgoAAAANSUhEUgAAAWwAAAAZCAMAAAAi2eRNAAAANlBMVEX///8WFhYNDQ3MzMxUVFRE\n",
       "REQiIiK6uroQEBCYmJhmZmYyMjLu7u52dnaqqqqIiIjc3NwAAACgirQNAAAAAXRSTlMAQObYZgAA\n",
       "AAlwSFlzAAAOxAAADsQBlSsOGwAAA6lJREFUaN7tmulypCAURplhE7iyvP/Ljlu3LBcEp00qVfFH\n",
       "0qlKDh/Hy6Yh5ImLCSH88dky+zFuID/1cosR+wzaRB85kOdk+3sc/7FfGvhDpQaw/o7sefrkTcxl\n",
       "u85iUWLiPJjl695h6TpqsbsQO+m77E5sT8JCNjMPyrbzQCLPli4wtQ+06y4PsDvpm+xubP+9jmTz\n",
       "52TDwI3kxM/bN8r2hNnkNmd9g6EiuaK/ZQ9gDTwnW6ph2VoN69D+yKZ06lZkFkbYl/RT9gAWZXxI\n",
       "tnXDslvLgePL8h8ZPHUcgaakcJxisptdwK/op+yRFWyqlLbz3yBb1oekNA7Q2mMA7IiY1JgglHey\n",
       "EfgV/S1bjkxOESNpz+oB2eAcAzpns2Qum732QIJWZOu5xvPlfLfroNyaoy5mlq2GxiNsJAUCv6Cf\n",
       "suuRkbYihiBpZVRk81L2cmMcc0SLlmz7yuGDq8h+3fmSZzymYzIiiHdRqrjI1j9ICuZgYykQ+AX9\n",
       "lF2PjLQVMTJVHJcNoRhPagnrgidMtWRrdJ+QyD5OZAjP4EuYUtFmwEYd2PcQAgo2lsKQQXokux4Z\n",
       "aStiiHzNAEQ2NeVMvI4RHifW62ojpmn7dgwdKfc+HMlQ2ZPEeYTuqOXi6UDnoN55aMRi27h1Lmdj\n",
       "KTB4mx7JrkbG2ooYf/+I5ApBFrKVqJw6g7tYILcf6HazZ9KWXfKAVzZnC/A9Ccgp31ODyNlYCgze\n",
       "pCOyMQVlWxFD5Eu0RCpbGnSPIZchRAAasvX7EOWrso2t8URtJ6yp5+VAf00R2mZsNIUgY/Rkzq5G\n",
       "RtqqTiM0XaIbczZwSVjIKraQzek6jPRadVCTzV2N51xFx1KWx+MgonjRFW8yNpoCgTfpsWwsMtR6\n",
       "jCREl+jGbsQGCnoZINK2ZM/TzCYbmJ5UdZ+9b41QnrHlMWvbAi8dPk4v+t3eOdNymrLxFCW8RU9k\n",
       "I5EhmEqPI0Zy4JL9+2zQS2lYrWxzzgYelvvnpsk1DjWiygPGJZTP5fx6803YfvVcTs6lnc4ZG02R\n",
       "w9v09FCDRBb7Lqhsq7bgafodx3VBG8e8macn6vx5sWi31GJfwnH6OsVgWAu3En7xg6juRzVYeagP\n",
       "PQbqp6+yMex8L+EXP2Il/P7LlMtY99k1+rZ4llhwNxN+sWy4Db9+Vwf/ERynb7JLrLqbEJH95Jsa\n",
       "4tU9juoo27vsKn3fFnZiVf/AOg27R99B/qhLqWe48dt19iv7Ydm//zeSXU6ISf0Dcn0wEpaPnEsA\n",
       "AAAASUVORK5CYII=\n",
       "\" style=\"display:inline;vertical-align:middle;\" /></a></td></tr>\n",
       "<tr><td>1</td><td>Conditional</td><td>value:&nbsp;2<br>condition:&nbsp;3<br></td><td><a class=\"ProveItLink\" href=\"__pv_it/a9bfa0780825fc41a26162b9c5893650e98afa9c0/expr.ipynb\"><img src=\"data:image/png;base64,iVBORw0KGgoAAAANSUhEUgAAAPwAAAAZBAMAAADnDF5lAAAAMFBMVEX///9mZma6urrc3NwiIiKI\n",
       "iIjMzMyYmJgQEBB2dnbu7u5EREQyMjJUVFSqqqoAAABfjFPjAAAAAXRSTlMAQObYZgAAAAlwSFlz\n",
       "AAAOxAAADsQBlSsOGwAAAzRJREFUSMfFlk1oE0EUx182yW67uwkBWz8uUkTxgwp7KGhpxYCrFKya\n",
       "S0EUNeJFEWlKKwGrUkRBrEhuCtIST0JjcalVIS0aSEshYg29FCrIFvQgeCj4carizOx2902aLF1Q\n",
       "Ooed2d23/9/OmzfvDQBEP8Fa2hL8n/Yu6wsf9LDR1vDEbUypfgB84c9Wedc3+HZqMAWwo/JF2Kxi\n",
       "LXVMLHe8BhAS5CZS8IWPZqq9LByAvf3Z1bSvVaXUYFmYz1sziRi+8M+qvjRaQRHLACX7ftjq5OpT\n",
       "U4IZMK6Q38jWwO+sid9UCx/QCKvHxnZafSBVE79BJasQq4H/UhPPRUp4XO908USozgrj8I0m1tfx\n",
       "Eqd1veDgFTK45xcvYHcK01l39pER4nzVmm5ItESbOYXmU2j2C6NkMIPxctfCpWEeTxShJYnwgQyy\n",
       "a88i51/+RjZZfdmOuCLrt2CJYAk5X3xDLYbI2MEH4EyigcNHaSQfTCA8nZ5jV3TXfv/UDzo3yXJO\n",
       "ERZZP4MlVM3F3z9xmP76dYDnTnj0wjltnsMHWGIwET5kIrsCCr002xLROL2SPRBijjmOJVQUeg+v\n",
       "sW8/gzjtPE3CJOsbdP2urh8jo21EGCQN4euaXDvxtq7rR2288pTOUGRWkSSEmctuYYmLxFo3bOfn\n",
       "r9JBN/ThtPizIvQSIMagHirwK3aygWYvxuhSCAN2bpDjNt6VyOGNd54txS4SvSiSv8MIh4/RPNaK\n",
       "8aqJ7OJ4329sc5xP43IrHcxiiRDGBy4YzPnu2stjkSXIcPhX0B2TSxivJJBdF8bnJCIkGSu/1U4H\n",
       "L7GEtR42XjbSZNCPIj/668mAYHL4R0MPfm9OYTzZWa6d6qT4wihIqTkSaBQh0YuStDYWkph1cr5c\n",
       "hnSELGMj2vdyY2LxJr/2uWXt5B0+7cSRnfxxj1PxijDxwYQQXVGFRr1I/bOdkxgdyzoVT1Mm/wAc\n",
       "8p10j+BnwmM76a60Fv6bUJK73T2uczUoGPddcno8y2JFQaI1xaPRiuSz4Cqe55dKrReekm3+673s\n",
       "Za5UnttynpJ5/6cd2Odh07vKHSkPa5YLwz7Pev+6vV9f/Hqe8/8COkL9xobuCVIAAAAASUVORK5C\n",
       "YII=\n",
       "\" style=\"display:inline;vertical-align:middle;\" /></a></td></tr>\n",
       "<tr><td>2</td><td>Operation</td><td>operator:&nbsp;4<br>operands:&nbsp;5<br></td><td><a class=\"ProveItLink\" href=\"__pv_it/cea5418c4fe78b42e90a859df44351462f7829dc0/expr.ipynb\"><img src=\"data:image/png;base64,iVBORw0KGgoAAAANSUhEUgAAADIAAAAOBAMAAACfqVJUAAAAMFBMVEX///8QEBC6uroyMjJERETc\n",
       "3NyYmJgiIiJmZmaqqqp2dnbMzMxUVFSIiIju7u4AAAAoIwv1AAAAAXRSTlMAQObYZgAAAAlwSFlz\n",
       "AAAOxAAADsQBlSsOGwAAAJ9JREFUGNNjYEACagy4wFxiZd7eeb1qAooMDxCzVjMwNPCe5ShAkZkJ\n",
       "kvnLwBbA+5UnAUWmAUSsZOBmYDEA89vLywXLy2sYGJgUGFgYGFKBQvwXUF3Ay8Cwg4FhAZClH8D3\n",
       "AFmGg4HhJgPrAoYnCucZuFD0sGzg/sHw+AHD/H2NDJooMlxSB+efEGNgeHGXs20Cigyfvymv4AVi\n",
       "QwclRAHJsSj1IPHiDQAAAABJRU5ErkJggg==\n",
       "\" style=\"display:inline;vertical-align:middle;\" /></a></td></tr>\n",
       "<tr><td>3</td><td>Operation</td><td>operator:&nbsp;6<br>operands:&nbsp;7<br></td><td><a class=\"ProveItLink\" href=\"__pv_it/43a3be15325576d80c52b70268fd8c5069e627b60/expr.ipynb\"><img src=\"data:image/png;base64,iVBORw0KGgoAAAANSUhEUgAAAJ0AAAAVBAMAAACu6/FQAAAAMFBMVEX////MzMxUVFREREQiIiK6\n",
       "uroQEBCYmJhmZmYyMjLu7u52dnaqqqqIiIjc3NwAAACFAiZ1AAAAAXRSTlMAQObYZgAAAAlwSFlz\n",
       "AAAOxAAADsQBlSsOGwAAArNJREFUOMuNVEtoE1EUPZNJOpNJZiwWpChoRPwgiCOtiEHtFIeC4ieI\n",
       "CPWDhfpB3QQqpApK3NiFKFkUhFJjTAtaQSi6cKGLLNyIQoMuBDEwWFHEjQsXCiq++94kM5NMgm8x\n",
       "79377px3P+deAA7aLuM/NL7FkfRK64Uy1PdraBsQqzbffAjDuTg6MDmaBU6Q8CrMIm6kYuvTrb8n\n",
       "50MdK3zEobESd00rhBnIxjzMpQy3JOSEG8RceKDmN8hSCpgC1Gw7vFtxFnheyLPuqxNt8VSHmYwD\n",
       "XYELvd/e08CT2eG80L9bK/aRIM5b2y408EwGVsKw/z52p+T5t7HMDreFbPWI+2Byht97/kUesnjj\n",
       "Wdxg4qM3957xBH0tefFKO4rs8NgtQ5xzQWXliBBrBjl3pnzx9rxkFokUdyCvb1It0he9/J07uJ/A\n",
       "L4lyO0meSPY+XhPSH6Ft4H2e/EG+KgXsY19H/xvhZSl4eE8vc+EFF1ml99IeZVFw4Occz1ePHK98\n",
       "0sJpQIIsgKRTtm3vduNNX6HDKn6xGqjR3pVBLANWp6skLWPWtinw5PtEfek74QFLRB9opo8vvTyc\n",
       "I1zPnpt18XSgF+C0nvH5J+UpV7ERTJN80tF4JSwfnrrSrMdLbFapYPEKVGoag+NF/fy7tiji3cne\n",
       "yWxGgutrPjzNzLHDWP1Hg1IiVyF3Sz8xx1/Xqz68GYVVQDGJEAvLr+O4qGN9NsS1FHKRDHCTJJ7J\n",
       "LeB8SFxYt7DhrLCabvRvGUqWUV6t4jDwoJacEEDamqON+eLI238DB0hM02cF5ceCNlDUz7iOlbeW\n",
       "6vOliL67FUQdRLsDDfJE9Ftj3FnBBhsMisf67UDHfPI6Pnw1T4txdFw0LnZ1MlhsnjtOJ2vDDLAo\n",
       "ZKWbZI+hoVOO0mlk2xsoLe586YTHuuYf7IqmaD8gvPwAAAAASUVORK5CYII=\n",
       "\" style=\"display:inline;vertical-align:middle;\" /></a></td></tr>\n",
       "<tr><td>4</td><td>Literal</td><td></td><td><a class=\"ProveItLink\" href=\"../packages/proveit/number/addition/__pv_it/65ad7e8aee19b10110d590375ba95a879c4fb7ea0/expr.ipynb\"><img src=\"data:image/png;base64,iVBORw0KGgoAAAANSUhEUgAAAA4AAAAOBAMAAADtZjDiAAAAHlBMVEX///9UVFQQEBAiIiJmZmaI\n",
       "iIiqqqqYmJi6uroAAAAAFVhYAAAAAXRSTlMAQObYZgAAAAlwSFlzAAAOxAAADsQBlSsOGwAAAB9J\n",
       "REFUCNdjYGBgaGeAgFRiaGdjYyVjY0Oi1SPRIHsAgDEGyG9xCpgAAAAASUVORK5CYII=\n",
       "\" style=\"display:inline;vertical-align:middle;\" /></a></td></tr>\n",
       "<tr><td>5</td><td>ExprTuple</td><td>13, 14</td><td><a class=\"ProveItLink\" href=\"__pv_it/01269d29c46521aa8bb1e5f51f8141f2c82639d20/expr.ipynb\"><img src=\"data:image/png;base64,iVBORw0KGgoAAAANSUhEUgAAAC8AAAAVBAMAAAAk6KpUAAAAMFBMVEX////MzMxUVFREREQiIiK6\n",
       "uroQEBCYmJhmZmYyMjLu7u52dnaqqqqIiIjc3NwAAACFAiZ1AAAAAXRSTlMAQObYZgAAAAlwSFlz\n",
       "AAAOxAAADsQBlSsOGwAAARhJREFUKM9tkT9LA0EQxX/JxeRy/0wZrKzERswXUCNYWqSwEQzaqIVN\n",
       "Siu5yhQ26QQROUmjRSDYxsJeIcFa4Qo/gKUWBmcuORK4XZiZnfd2Z+fNAjGZlUD+S5ZoqnvN4slh\n",
       "p2MguAG7ZSLOoWjCKUbsG4lyiysJvff7waS3vFiwDe4y17IN/TW7nhBvSvxBqcOu+Ngf5yc9hOqe\n",
       "watzDDmsac8LDSy4EOhbCVgcTYVBFfpy4ohbBQ5jJ9JowwdBPym1Ad3GOi4IZVVyPzzKplTjCYZL\n",
       "lxzg/EqXZyvD1VO9OmIPHj69tsjYiXC27vwTfa8QU6ikar1opvxLqoVp4s6NpC22mSa9GR7UxHXT\n",
       "bG7+llYNDB8i2v8B4BY3VQPYJ5gAAAAASUVORK5CYII=\n",
       "\" style=\"display:inline;vertical-align:middle;\" /></a></td></tr>\n",
       "<tr><td>6</td><td>Literal</td><td></td><td><a class=\"ProveItLink\" href=\"../packages/proveit/logic/boolean/conjunction/__pv_it/f41cc6b553210927c09f19a8a39cdf860a5585930/expr.ipynb\"><img src=\"data:image/png;base64,iVBORw0KGgoAAAANSUhEUgAAAAwAAAANBAMAAABvB5JxAAAALVBMVEX///9mZmbc3NxERETMzMy6\n",
       "urpUVFSYmJiIiIgyMjIiIiLu7u6qqqp2dnYAAACMfHT6AAAAAXRSTlMAQObYZgAAAAlwSFlzAAAO\n",
       "xAAADsQBlSsOGwAAAEpJREFUCNdjYGDgPcAAArsmgKn2VDC1wBlE8lzgVABSnAo8AkDKjYFhNZBK\n",
       "YWDoYGDgBirfBdHMeICBCyjONIGhAqTJhMEaRPkCACemC8GDBfsjAAAAAElFTkSuQmCC\n",
       "\" style=\"display:inline;vertical-align:middle;\" /></a></td></tr>\n",
       "<tr><td>7</td><td>ExprTuple</td><td>8, 9</td><td><a class=\"ProveItLink\" href=\"__pv_it/8e62382c744cfd378d596eda9e701236cbf961de0/expr.ipynb\"><img src=\"data:image/png;base64,iVBORw0KGgoAAAANSUhEUgAAAH8AAAAVBAMAAACd/CwcAAAAMFBMVEX////MzMxUVFREREQiIiK6\n",
       "uroQEBCYmJhmZmYyMjLu7u52dnaqqqqIiIjc3NwAAACFAiZ1AAAAAXRSTlMAQObYZgAAAAlwSFlz\n",
       "AAAOxAAADsQBlSsOGwAAAipJREFUOMtjYGB4wEA2AGvlPYApwe5m/NPNHLfGkmT7KckFDAyxIM5p\n",
       "bCo4+RRY1a1wmzDhEUNQ8QKw5VwTsClg5tvAYCCE2wCD1wzMjAoMDLMYGDgKcBnQx4nXAI4HQKsr\n",
       "GBjYUCR4TVw84QYwY2q87OIyAW6AAVD3AoZIZHnWuQsQLtBahKE/8hbCBUyrgF7gLGDoBnLXXlq4\n",
       "GxwXLxcgvMBoMw/CZgJiPkcQi28WkheETwIjkVuBYTqQ28Cry+EAEp+HCINMf1+oaWdAWv+C4wae\n",
       "ZAyeTfkCcg37BAYfIPmA9x8TOCwnIAzYXgXjNICIPWADkAKxfCWI5nFgSGVgYGRghihmTHFxcXGG\n",
       "esGqFhouAQzA0KwDMcWA0i4GEAOYl18A6fgAMoCBgf8CWC2XAVI0SkAdzMvAIMHAsAHEXIzkAsYG\n",
       "kH9ZExjmgPjxD7jAHnZAMoBDDmIcBwPDHQY+sAEsyOmg8THEC7ZAgwP0GbjB4neRDOAyKGdgABrL\n",
       "LMD4g2El2HzeC0gGLGYHBhu7AcMmBobzUm0MMZAsAMtYnFwKDOVMAVw/gTGVrXZeIx0iPAeeFxYx\n",
       "sBeoAp13gSGEgWHFXZ52iE4u5Sh4bnzAbPmHwWUBA5f9PN40qNWLTBfAcuM8BuP5BxhYHjCwCKAk\n",
       "xc2QpAwDPAtQk2K0iQtK5nsCtKwBX4nBTaBEaQdiO3wK1uLXz2eAErlYQAF+A5hBPuQrIL9MBKZP\n",
       "AH2hiCZr9KExAAAAAElFTkSuQmCC\n",
       "\" style=\"display:inline;vertical-align:middle;\" /></a></td></tr>\n",
       "<tr><td>8</td><td>Operation</td><td>operator:&nbsp;11<br>operands:&nbsp;10<br></td><td><a class=\"ProveItLink\" href=\"__pv_it/f1784aa03c46dfb30a1acf8a770625e16608c54d0/expr.ipynb\"><img src=\"data:image/png;base64,iVBORw0KGgoAAAANSUhEUgAAADQAAAAQBAMAAACra0H4AAAAMFBMVEX///8QEBC6uroyMjJERETc\n",
       "3NyYmJgiIiJmZmaqqqp2dnbMzMxUVFSIiIju7u4AAAAoIwv1AAAAAXRSTlMAQObYZgAAAAlwSFlz\n",
       "AAAOxAAADsQBlSsOGwAAAMxJREFUGNNjYMAAbIUunwvdGLACZtYDTMf8sEqxsC5gcNiDU6qVGUXo\n",
       "Snm5AVyKBVlG+R6SrnNvgIy3d16vmgCkWe2QDOT2NAUyGnjPchSA3BWAkBKur30A9EUA71eeBJAU\n",
       "kjOW5YEs5WZgAdvNsLEcCBygBvrlgsX4L4CpJ8iO3wExXj+AD2gwAzuyFMdWoP4nCucZuEACvBeQ\n",
       "pPgc0hgY5u9rZNAEi1jCw5DvAEMajwLDi7ucbRPAIm+cHsBDPoDF+SdycGi5QwIKCgDjfjY5+SH4\n",
       "KwAAAABJRU5ErkJggg==\n",
       "\" style=\"display:inline;vertical-align:middle;\" /></a></td></tr>\n",
       "<tr><td>9</td><td>Operation</td><td>operator:&nbsp;11<br>operands:&nbsp;12<br></td><td><a class=\"ProveItLink\" href=\"__pv_it/18e2c73aeff3cf9e71c0fe47c5c9cc0b04d2c8380/expr.ipynb\"><img src=\"data:image/png;base64,iVBORw0KGgoAAAANSUhEUgAAADYAAAAQBAMAAACvnpHFAAAAMFBMVEX///8QEBAyMjLu7u6YmJhE\n",
       "RES6urp2dnZmZmaIiIiqqqrMzMwiIiLc3NxUVFQAAACnaCMxAAAAAXRSTlMAQObYZgAAAAlwSFlz\n",
       "AAAOxAAADsQBlSsOGwAAANZJREFUGNNjYMAELAdDPx0MYcAOmHgfsD0Jxi7HylvAELAPt1wvE6rY\n",
       "1DNnFOByrChSSZOR9D22AzIeAPGdDUCCVxnJTO4oXQYGrgVAzv0JINddQMgJnT9pwMDAAeKwgxQw\n",
       "IbmlxBlkcRoDQwADC0jLxjNAEAA1M9gTSE9g4G5gYAeJmCL7YQfIhgYGzgUM10EiPMhyHHuBJkQz\n",
       "7G9gBruQcwKSHHOACwNDYZ3Uv0YHsJAWPDyZHzC48CUwmH66MFESImQXZgCPhwusQb9QAiY9BhJm\n",
       "UAAAqlU3JKupv6YAAAAASUVORK5CYII=\n",
       "\" style=\"display:inline;vertical-align:middle;\" /></a></td></tr>\n",
       "<tr><td>10</td><td>ExprTuple</td><td>13, 15</td><td><a class=\"ProveItLink\" href=\"__pv_it/13d9b55217711e993da5004e63d451ef59f2a79a0/expr.ipynb\"><img src=\"data:image/png;base64,iVBORw0KGgoAAAANSUhEUgAAADAAAAAVBAMAAADyTXAxAAAAMFBMVEX////MzMxUVFREREQiIiK6\n",
       "uroQEBCYmJhmZmYyMjLu7u52dnaqqqqIiIjc3NwAAACFAiZ1AAAAAXRSTlMAQObYZgAAAAlwSFlz\n",
       "AAAOxAAADsQBlSsOGwAAASRJREFUKM9jYGB4wIAB+EAE7wGEALub8U83cwYG1gtAzmlkpZx8Cqzq\n",
       "VgwMdxgYuCYgSzDzbWAwEAIqWMDAUYAu0ccJNLOBgY0BQ4IZyMhiiMSQ0FoEZExn6AaSay8t3H0A\n",
       "JsFoMw/I2ASUYmBo4NXlcIBKZPr7LgAyKhl8gDY94P3HVACV2F4FduYRhlQGBkYG5gkIO6xqQQx5\n",
       "kAQDA/8FhIQEJyiMwhjmgPjxD7gWwCQ45AzARtkyMCwO0GfgZmBYAJHgMigHMoqB7mI4L9XGEMPA\n",
       "9RMUVlwKDOVMAQwMvQwhDAwr7vK0A73hsgAcug+YLf8wMPgxsAjAfM2zAClCHEDBBQXcSEEDClo7\n",
       "GGctksRjIF4M4yCHvxXIuALMOGd/wAAAxGtA9P8O3VkAAAAASUVORK5CYII=\n",
       "\" style=\"display:inline;vertical-align:middle;\" /></a></td></tr>\n",
       "<tr><td>11</td><td>Literal</td><td></td><td><a class=\"ProveItLink\" href=\"../packages/proveit/logic/set_theory/membership/__pv_it/7776fc89cb67d0b5b1ec2c0c8e08da5587921ccf0/expr.ipynb\"><img src=\"data:image/png;base64,iVBORw0KGgoAAAANSUhEUgAAAAwAAAAMBAMAAACkW0HUAAAAKlBMVEX///92dnZUVFSqqqoQEBDM\n",
       "zMzc3Nzu7u66uroyMjIiIiJERESIiIgAAACm0meuAAAAAXRSTlMAQObYZgAAAAlwSFlzAAAOxAAA\n",
       "DsQBlSsOGwAAADxJREFUCNdjYGA4vWrVBAaGzuMMQMA2HUQycCZAKDDJELIKCDYwVEN4XBCK5wCE\n",
       "ngyhinYUgOnGXasmAABvGQ6ucz2C1gAAAABJRU5ErkJggg==\n",
       "\" style=\"display:inline;vertical-align:middle;\" /></a></td></tr>\n",
       "<tr><td>12</td><td>ExprTuple</td><td>14, 15</td><td><a class=\"ProveItLink\" href=\"__pv_it/9d4e7aa88686e61516b7779d7706d96b33fa958e0/expr.ipynb\"><img src=\"data:image/png;base64,iVBORw0KGgoAAAANSUhEUgAAADIAAAAVBAMAAAD2uKAMAAAAMFBMVEX////MzMxUVFREREQiIiK6\n",
       "uroQEBCYmJhmZmYyMjLu7u52dnaqqqqIiIjc3NwAAACFAiZ1AAAAAXRSTlMAQObYZgAAAAlwSFlz\n",
       "AAAOxAAADsQBlSsOGwAAASlJREFUKM9jYGB4wIAJ+EAE7wEkEXY3459u5gwMrBeAnNMoijn5FFjV\n",
       "rRgY7jAwcE1AkWHm28BgIARUsYCBowBDpo8TaGwDAxsDpgwzkJHFEIkpo7UIyJjO0A0kFYD4iQBM\n",
       "htFmHpCxCSjHwANy9/sLUJlMf98FQEYlgw8DAwdIiPsAVGZ7Fdi1RxhSGRhCGRgMGNgfwEyzqgUx\n",
       "5EEyFxgYGxi44S6Q4AQpCmOYw8DQAAqh13AZDjkDsGm2DAyGDPINXLMYuKAyXAblQEYx0HUM2zbl\n",
       "fGorYFgPspmTS4GhnCmAgaGXIYSBYfHPB9dyGRhYvCBh/YDZ8g8Dgx8DiwDc/6eQI8gBFHQwsAFJ\n",
       "BhTQdjAO1wUkmcdAvBgen8ghawUysQBLOgCGCABgkEK/PnRIDwAAAABJRU5ErkJggg==\n",
       "\" style=\"display:inline;vertical-align:middle;\" /></a></td></tr>\n",
       "<tr><td>13</td><td>Variable</td><td></td><td><a class=\"ProveItLink\" href=\"../packages/proveit/__pv_it/72df168d2bfb4e0140af90912ebf83b13772060b0/expr.ipynb\"><img src=\"data:image/png;base64,iVBORw0KGgoAAAANSUhEUgAAAAsAAAAJBAMAAAAWSsseAAAAMFBMVEX///8QEBC6uroyMjJERETc\n",
       "3NyYmJgiIiJmZmaqqqp2dnbMzMxUVFSIiIju7u4AAAAoIwv1AAAAAXRSTlMAQObYZgAAAAlwSFlz\n",
       "AAAOxAAADsQBlSsOGwAAAENJREFUCNdjYHh75/WqCQwMDbxnOQoY2AJ4v/IkMHAzsBgwgAD/BTCl\n",
       "H8D3gOGJwnkGLgaG+fsaGTQZGF7c5WybwAAAJGsQ2L2rVEcAAAAASUVORK5CYII=\n",
       "\" style=\"display:inline;vertical-align:middle;\" /></a></td></tr>\n",
       "<tr><td>14</td><td>Variable</td><td></td><td><a class=\"ProveItLink\" href=\"__pv_it/2ddb9b2c59c2ec7c4cf837f36c192819a0ae0e4a0/expr.ipynb\"><img src=\"data:image/png;base64,iVBORw0KGgoAAAANSUhEUgAAAA0AAAAJBAMAAAAbVLtZAAAAMFBMVEX///8QEBAyMjLu7u6YmJhE\n",
       "RES6urp2dnZmZmaIiIiqqqrMzMwiIiLc3NxUVFQAAACnaCMxAAAAAXRSTlMAQObYZgAAAAlwSFlz\n",
       "AAAOxAAADsQBlSsOGwAAAE9JREFUCNdjYHjAwMBwZwMD1wIgfX8CAweQYmBfwJDGwBDAwHKBYQID\n",
       "dwMDOwNDAwPnAobrDAzRDPsbmJUZGArrpP41OjAwmH66MFGSgQEAOl8RCvglkDgAAAAASUVORK5C\n",
       "YII=\n",
       "\" style=\"display:inline;vertical-align:middle;\" /></a></td></tr>\n",
       "<tr><td>15</td><td>Literal</td><td></td><td><a class=\"ProveItLink\" href=\"../packages/proveit/number/sets/real/__pv_it/83c2d223a7b04200651811c8b29e747fd8f853510/expr.ipynb\"><img src=\"data:image/png;base64,iVBORw0KGgoAAAANSUhEUgAAAA8AAAAPBAMAAADJ+Ih5AAAAMFBMVEX///+IiIiqqqpmZmbMzMx2\n",
       "dnbu7u66urpUVFTc3NwyMjJEREQQEBAiIiKYmJgAAABVO1C1AAAAAXRSTlMAQObYZgAAAAlwSFlz\n",
       "AAAOxAAADsQBlSsOGwAAAGFJREFUCNdjeHt6/9rTDxiAYMEMhorXCUDGhqkM3CwNEAbzhAUwxgYI\n",
       "gyMNKuWtNQHEmLP2rxgDWORdFgOEwZ0nAGGwGKyEMBhMZkMZ2XwgyxZkMPA9aGdgANq+kmH3egUA\n",
       "5QYojoP7RysAAAAASUVORK5CYII=\n",
       "\" style=\"display:inline;vertical-align:middle;\" /></a></td></tr>\n",
       "</table>\n"
      ],
      "text/plain": [
       "0. (x, omega) -> {x + omega | (x in Reals) and (omega in Reals)}\n",
       "   core type: Lambda\n",
       "   parameters: 5\\n   body: 1\n",
       "1. {x + omega | (x in Reals) and (omega in Reals)}\n",
       "   core type: Conditional\n",
       "   value: 2\n",
       "   condition: 3\n",
       "2. x + omega\n",
       "   core type: Operation\n",
       "   operator: 4\n",
       "   operands: 5\n",
       "3. (x in Reals) and (omega in Reals)\n",
       "   core type: Operation\n",
       "   operator: 6\n",
       "   operands: 7\n",
       "4. +\n",
       "   core type: Literal\n",
       "   sub-expressions: \n",
       "5. (x , omega)\n",
       "   core type: ExprTuple\n",
       "   sub-expressions: 13, 14\n",
       "6. and\n",
       "   core type: Literal\n",
       "   sub-expressions: \n",
       "7. (x in Reals , omega in Reals)\n",
       "   core type: ExprTuple\n",
       "   sub-expressions: 8, 9\n",
       "8. x in Reals\n",
       "   core type: Operation\n",
       "   operator: 11\n",
       "   operands: 10\n",
       "9. omega in Reals\n",
       "   core type: Operation\n",
       "   operator: 11\n",
       "   operands: 12\n",
       "10. (x , Reals)\n",
       "    core type: ExprTuple\n",
       "    sub-expressions: 13, 15\n",
       "11. in\n",
       "    core type: Literal\n",
       "    sub-expressions: \n",
       "12. (omega , Reals)\n",
       "    core type: ExprTuple\n",
       "    sub-expressions: 14, 15\n",
       "13. x\n",
       "    core type: Variable\n",
       "    sub-expressions: \n",
       "14. omega\n",
       "    core type: Variable\n",
       "    sub-expressions: \n",
       "15. Reals\n",
       "    core type: Literal\n",
       "    sub-expressions: "
      ]
     },
     "execution_count": 82,
     "metadata": {},
     "output_type": "execute_result"
    }
   ],
   "source": [
    "lambda_expr.exprInfo()"
   ]
  },
  {
   "cell_type": "markdown",
   "metadata": {},
   "source": [
    "The `parameters` and `body` attributes access these respective sub-expressions:"
   ]
  },
  {
   "cell_type": "code",
   "execution_count": 83,
   "metadata": {},
   "outputs": [
    {
     "data": {
      "text/html": [
       "<a class=\"ProveItLink\" href=\"__pv_it/01269d29c46521aa8bb1e5f51f8141f2c82639d20/expr.ipynb\"><img src=\"data:image/png;base64,iVBORw0KGgoAAAANSUhEUgAAAC8AAAAVBAMAAAAk6KpUAAAAMFBMVEX////MzMxUVFREREQiIiK6\n",
       "uroQEBCYmJhmZmYyMjLu7u52dnaqqqqIiIjc3NwAAACFAiZ1AAAAAXRSTlMAQObYZgAAAAlwSFlz\n",
       "AAAOxAAADsQBlSsOGwAAARhJREFUKM9tkT9LA0EQxX/JxeRy/0wZrKzERswXUCNYWqSwEQzaqIVN\n",
       "Siu5yhQ26QQROUmjRSDYxsJeIcFa4Qo/gKUWBmcuORK4XZiZnfd2Z+fNAjGZlUD+S5ZoqnvN4slh\n",
       "p2MguAG7ZSLOoWjCKUbsG4lyiysJvff7waS3vFiwDe4y17IN/TW7nhBvSvxBqcOu+Ngf5yc9hOqe\n",
       "watzDDmsac8LDSy4EOhbCVgcTYVBFfpy4ohbBQ5jJ9JowwdBPym1Ad3GOi4IZVVyPzzKplTjCYZL\n",
       "lxzg/EqXZyvD1VO9OmIPHj69tsjYiXC27vwTfa8QU6ikar1opvxLqoVp4s6NpC22mSa9GR7UxHXT\n",
       "bG7+llYNDB8i2v8B4BY3VQPYJ5gAAAAASUVORK5CYII=\n",
       "\" style=\"display:inline;vertical-align:middle;\" /></a>"
      ],
      "text/plain": [
       "(x , omega)"
      ]
     },
     "execution_count": 83,
     "metadata": {},
     "output_type": "execute_result"
    }
   ],
   "source": [
    "lambda_expr.parameters"
   ]
  },
  {
   "cell_type": "code",
   "execution_count": 84,
   "metadata": {},
   "outputs": [
    {
     "data": {
      "text/html": [
       "<a class=\"ProveItLink\" href=\"__pv_it/a9bfa0780825fc41a26162b9c5893650e98afa9c0/expr.ipynb\"><img src=\"data:image/png;base64,iVBORw0KGgoAAAANSUhEUgAAAPwAAAAZBAMAAADnDF5lAAAAMFBMVEX///9mZma6urrc3NwiIiKI\n",
       "iIjMzMyYmJgQEBB2dnbu7u5EREQyMjJUVFSqqqoAAABfjFPjAAAAAXRSTlMAQObYZgAAAAlwSFlz\n",
       "AAAOxAAADsQBlSsOGwAAAzRJREFUSMfFlk1oE0EUx182yW67uwkBWz8uUkTxgwp7KGhpxYCrFKya\n",
       "S0EUNeJFEWlKKwGrUkRBrEhuCtIST0JjcalVIS0aSEshYg29FCrIFvQgeCj4carizOx2902aLF1Q\n",
       "Ooed2d23/9/OmzfvDQBEP8Fa2hL8n/Yu6wsf9LDR1vDEbUypfgB84c9Wedc3+HZqMAWwo/JF2Kxi\n",
       "LXVMLHe8BhAS5CZS8IWPZqq9LByAvf3Z1bSvVaXUYFmYz1sziRi+8M+qvjRaQRHLACX7ftjq5OpT\n",
       "U4IZMK6Q38jWwO+sid9UCx/QCKvHxnZafSBVE79BJasQq4H/UhPPRUp4XO908USozgrj8I0m1tfx\n",
       "Eqd1veDgFTK45xcvYHcK01l39pER4nzVmm5ItESbOYXmU2j2C6NkMIPxctfCpWEeTxShJYnwgQyy\n",
       "a88i51/+RjZZfdmOuCLrt2CJYAk5X3xDLYbI2MEH4EyigcNHaSQfTCA8nZ5jV3TXfv/UDzo3yXJO\n",
       "ERZZP4MlVM3F3z9xmP76dYDnTnj0wjltnsMHWGIwET5kIrsCCr002xLROL2SPRBijjmOJVQUeg+v\n",
       "sW8/gzjtPE3CJOsbdP2urh8jo21EGCQN4euaXDvxtq7rR2288pTOUGRWkSSEmctuYYmLxFo3bOfn\n",
       "r9JBN/ThtPizIvQSIMagHirwK3aygWYvxuhSCAN2bpDjNt6VyOGNd54txS4SvSiSv8MIh4/RPNaK\n",
       "8aqJ7OJ4329sc5xP43IrHcxiiRDGBy4YzPnu2stjkSXIcPhX0B2TSxivJJBdF8bnJCIkGSu/1U4H\n",
       "L7GEtR42XjbSZNCPIj/668mAYHL4R0MPfm9OYTzZWa6d6qT4wihIqTkSaBQh0YuStDYWkph1cr5c\n",
       "hnSELGMj2vdyY2LxJr/2uWXt5B0+7cSRnfxxj1PxijDxwYQQXVGFRr1I/bOdkxgdyzoVT1Mm/wAc\n",
       "8p10j+BnwmM76a60Fv6bUJK73T2uczUoGPddcno8y2JFQaI1xaPRiuSz4Cqe55dKrReekm3+673s\n",
       "Za5UnttynpJ5/6cd2Odh07vKHSkPa5YLwz7Pev+6vV9f/Hqe8/8COkL9xobuCVIAAAAASUVORK5C\n",
       "YII=\n",
       "\" style=\"display:inline;vertical-align:middle;\" /></a>"
      ],
      "text/plain": [
       "{x + omega | (x in Reals) and (omega in Reals)}"
      ]
     },
     "execution_count": 84,
     "metadata": {},
     "output_type": "execute_result"
    }
   ],
   "source": [
    "lambda_expr.body"
   ]
  },
  {
   "cell_type": "markdown",
   "metadata": {},
   "source": [
    "If a `Lambda` map has one *parameter*, it will have a `parameter` attribute."
   ]
  },
  {
   "cell_type": "code",
   "execution_count": 85,
   "metadata": {},
   "outputs": [
    {
     "data": {
      "text/html": [
       "<strong id=\"single_param_lambda\">single_param_lambda:</strong> <a class=\"ProveItLink\" href=\"__pv_it/88aa6e24e26c242634379f7a1843f74a4b5efee10/expr.ipynb\"><img src=\"data:image/png;base64,iVBORw0KGgoAAAANSUhEUgAAAF8AAAAVCAMAAAAXUcLNAAAANlBMVEX///8WFhYNDQ0QEBC6uroy\n",
       "MjJERETc3NyYmJgiIiJmZmaqqqp2dnbMzMxUVFSIiIju7u4AAAANq5mNAAAAAXRSTlMAQObYZgAA\n",
       "AAlwSFlzAAAOxAAADsQBlSsOGwAAAW5JREFUOMutVdmWgyAMZYY1bEn+/2cHRFtR2kLP5EGUE643\n",
       "NwtCrJv9V7ebYSiPVN/oLYTCr+BDrE/JWgPQZyKrRnpbABgiffDVtI7v3bbkGV/nJ9S+aCzFPL6Q\n",
       "wwC6zdBzUHoFX9dgCTFTivGRDeh8+i8fd3yH6NOwLH1Eu5dOrDQKQcwoPIwRg7kxKmZKkJbVoCpl\n",
       "EdRw08CVaF35RraF0RhfoDkJBueaM3DXVlaYg2uA1ilGn31+f6AzPvGUZ8qe9+QT68dWJQO7ionb\n",
       "yvha8ZLSE+aO3wh5PjIARxVIs/1OHWK1pfIgGuOnrkt000duPplv8nBl7o79og8Z1fziC/66awDT\n",
       "Io1Pshf80KIL2ylnROBEvoShnonrqkL19R/zXoQ18YP20eX/rqjVCHgU5BFLE7lXs+hS5AqOKvfZ\n",
       "D7qTMsZkM7ZTsD6jIS1cFLA+32Zm1mUWrpmZjtmab+4Xmj5l6Bt8YSejroNH/AGswgwF4StB+gAA\n",
       "AABJRU5ErkJggg==\n",
       "\" style=\"display:inline;vertical-align:middle;\" /></a><br>"
      ],
      "text/plain": [
       "single_param_lambda: x -> (5 * a)"
      ]
     },
     "execution_count": 85,
     "metadata": {},
     "output_type": "execute_result"
    }
   ],
   "source": [
    "single_param_lambda = Lambda(x, Mult(FIVE, a))"
   ]
  },
  {
   "cell_type": "code",
   "execution_count": 86,
   "metadata": {},
   "outputs": [
    {
     "data": {
      "text/html": [
       "<a class=\"ProveItLink\" href=\"__pv_it/72df168d2bfb4e0140af90912ebf83b13772060b0/expr.ipynb\"><img src=\"data:image/png;base64,iVBORw0KGgoAAAANSUhEUgAAAAsAAAAJBAMAAAAWSsseAAAAMFBMVEX///8QEBC6uroyMjJERETc\n",
       "3NyYmJgiIiJmZmaqqqp2dnbMzMxUVFSIiIju7u4AAAAoIwv1AAAAAXRSTlMAQObYZgAAAAlwSFlz\n",
       "AAAOxAAADsQBlSsOGwAAAENJREFUCNdjYHh75/WqCQwMDbxnOQoY2AJ4v/IkMHAzsBgwgAD/BTCl\n",
       "H8D3gOGJwnkGLgaG+fsaGTQZGF7c5WybwAAAJGsQ2L2rVEcAAAAASUVORK5CYII=\n",
       "\" style=\"display:inline;vertical-align:middle;\" /></a>"
      ],
      "text/plain": [
       "x"
      ]
     },
     "execution_count": 86,
     "metadata": {},
     "output_type": "execute_result"
    }
   ],
   "source": [
    "single_param_lambda.parameter"
   ]
  },
  {
   "cell_type": "markdown",
   "metadata": {},
   "source": [
    "### Lambda relabeling and relabeled equivalence"
   ]
  },
  {
   "cell_type": "markdown",
   "metadata": {},
   "source": [
    "The choice of *parameter* *labels* has no effect on the meaning of a `Lambda` map.  We are free to \"relabel\" the *parameters* (via `Lambda.relabeled`) as long as it is done consistently and distinct labels remain distinct."
   ]
  },
  {
   "cell_type": "code",
   "execution_count": 87,
   "metadata": {},
   "outputs": [
    {
     "data": {
      "text/html": [
       "<a class=\"ProveItLink\" href=\"__pv_it/606d81db2f5c591a46fb2987b140fd2d3a6e8d930/expr.ipynb\"><img src=\"data:image/png;base64,iVBORw0KGgoAAAANSUhEUgAAAWwAAAAZCAMAAAAi2eRNAAAANlBMVEX///8WFhYNDQ3MzMxUVFRE\n",
       "REQiIiK6uroQEBCYmJhmZmYyMjLu7u52dnaqqqqIiIjc3NwAAACgirQNAAAAAXRSTlMAQObYZgAA\n",
       "AAlwSFlzAAAOxAAADsQBlSsOGwAAA6lJREFUaN7tmulypCAURplhE7iyvP/Ljlu3LBcEp00qVfFH\n",
       "0qlKDh/Hy6Yh5ImLCSH88dky+zFuID/1cosR+wzaRB85kOdk+3sc/7FfGvhDpQaw/o7sefrkTcxl\n",
       "u85iUWLiPJjl695h6TpqsbsQO+m77E5sT8JCNjMPyrbzQCLPli4wtQ+06y4PsDvpm+xubP+9jmTz\n",
       "52TDwI3kxM/bN8r2hNnkNmd9g6EiuaK/ZQ9gDTwnW6ph2VoN69D+yKZ06lZkFkbYl/RT9gAWZXxI\n",
       "tnXDslvLgePL8h8ZPHUcgaakcJxisptdwK/op+yRFWyqlLbz3yBb1oekNA7Q2mMA7IiY1JgglHey\n",
       "EfgV/S1bjkxOESNpz+oB2eAcAzpns2Qum732QIJWZOu5xvPlfLfroNyaoy5mlq2GxiNsJAUCv6Cf\n",
       "suuRkbYihiBpZVRk81L2cmMcc0SLlmz7yuGDq8h+3fmSZzymYzIiiHdRqrjI1j9ICuZgYykQ+AX9\n",
       "lF2PjLQVMTJVHJcNoRhPagnrgidMtWRrdJ+QyD5OZAjP4EuYUtFmwEYd2PcQAgo2lsKQQXokux4Z\n",
       "aStiiHzNAEQ2NeVMvI4RHifW62ojpmn7dgwdKfc+HMlQ2ZPEeYTuqOXi6UDnoN55aMRi27h1Lmdj\n",
       "KTB4mx7JrkbG2ooYf/+I5ApBFrKVqJw6g7tYILcf6HazZ9KWXfKAVzZnC/A9Ccgp31ODyNlYCgze\n",
       "pCOyMQVlWxFD5Eu0RCpbGnSPIZchRAAasvX7EOWrso2t8URtJ6yp5+VAf00R2mZsNIUgY/Rkzq5G\n",
       "RtqqTiM0XaIbczZwSVjIKraQzek6jPRadVCTzV2N51xFx1KWx+MgonjRFW8yNpoCgTfpsWwsMtR6\n",
       "jCREl+jGbsQGCnoZINK2ZM/TzCYbmJ5UdZ+9b41QnrHlMWvbAi8dPk4v+t3eOdNymrLxFCW8RU9k\n",
       "I5EhmEqPI0Zy4JL9+2zQS2lYrWxzzgYelvvnpsk1DjWiygPGJZTP5fx6803YfvVcTs6lnc4ZG02R\n",
       "w9v09FCDRBb7Lqhsq7bgafodx3VBG8e8macn6vx5sWi31GJfwnH6OsVgWAu3En7xg6juRzVYeagP\n",
       "PQbqp6+yMex8L+EXP2Il/P7LlMtY99k1+rZ4llhwNxN+sWy4Db9+Vwf/ERynb7JLrLqbEJH95Jsa\n",
       "4tU9juoo27vsKn3fFnZiVf/AOg27R99B/qhLqWe48dt19iv7Ydm//zeSXU6ISf0Dcn0wEpaPnEsA\n",
       "AAAASUVORK5CYII=\n",
       "\" style=\"display:inline;vertical-align:middle;\" /></a>"
      ],
      "text/plain": [
       "(x, omega) -> {x + omega | (x in Reals) and (omega in Reals)}"
      ]
     },
     "execution_count": 87,
     "metadata": {},
     "output_type": "execute_result"
    }
   ],
   "source": [
    "lambda_expr"
   ]
  },
  {
   "cell_type": "code",
   "execution_count": 88,
   "metadata": {},
   "outputs": [
    {
     "data": {
      "text/html": [
       "<strong id=\"lambda_expr_v2\">lambda_expr_v2:</strong> <a class=\"ProveItLink\" href=\"__pv_it/7f43e93e1c75a9ac1fc84b189752c5c9707f79490/expr.ipynb\"><img src=\"data:image/png;base64,iVBORw0KGgoAAAANSUhEUgAAAWgAAAAZCAMAAAArMkQ3AAAANlBMVEX///8WFhYNDQ3MzMxUVFRE\n",
       "REQiIiK6uroQEBCYmJhmZmYyMjLu7u52dnaqqqqIiIjc3NwAAACgirQNAAAAAXRSTlMAQObYZgAA\n",
       "AAlwSFlzAAAOxAAADsQBlSsOGwAAA8dJREFUaN7tmumynCAQhU3Yd3j/l42IoywNonesVKrij1nu\n",
       "zHwcDg3d4F2WFy5MKfXppcX2a9iw/JuXW+2wr5DV+Yro5T2j/SOM/9J37vxQiFeaPow2/JvjVxvt\n",
       "5sJEUE5IUOtj6i1z1zE4HYCT8GT0FHZCXms0Vi8abc28Ho/XHmCR5tdlf+fJs/DN6Ens/ChnRpP3\n",
       "jNbzg0gWb7YnhJO+aj0z9il5An4YPY1V+jWjmbhvtBR3vZB+VyZkaSxVT8nX8NPoaSxI+I7R1t03\n",
       "ur/8O7Km+dy804tdDy9ixgnM5sgQ/QJ+Gj2fr3gnpJ3/C0az3kRkymk46LDWeBdYBBddEJkhw/QL\n",
       "+GE0m1+QMkLRmJU3jNZORlc/qmCjPx96inpGSwPjPLDCJS8QsWoPCYOr1Kd8QwZFAPQx/DS6Jxho\n",
       "KiPQpQyJjtGkNdosNs4hEQZG209y8sH1jN5HvcEpDy6jXNFAj2AUeXTFX+SxspNBEQB9DD+N7gkG\n",
       "msoIpbWWwEbr0MwibxepmlivjJZwPVAYnfZaLU518pUQWda3mf5ULFBdkWER6iY8M7onGGgqI9A6\n",
       "QWjAaKTapXf9Ho9/5ftHMmYWyvn2tM8YxlIHokDfM5ozCLegRFovUs1uosUhB2UovM1W5yoyKAKi\n",
       "D+GZ0R3BUFMZ4fcvWlwhsMZoQcHdJAs6olA/orc3SKaJNja6wWnSq8BW4DHxGa+LZk0rMigCoo/g\n",
       "rdFQ/5umMgKtczEDIpopqJjYZo7jg6pDHvsj3zdaWRhHu6WuRJ60s/uzLkhbkmER9B68WKNtr/9N\n",
       "U92lA1W5eLBGr8Lw56FnNEFxyGWMNt01mjgY51zPizUc97OdRZCmJ16VZFgEQB/Bc6MBwbrTX0Ae\n",
       "nItHVcci48lANQKl0YYbzG3Akot+Hf0pgRqcssAGaqum1t7uOxN5tHcurQQV5I6Ilj6AF0a3gnVQ\n",
       "cH8zQrFSsDt19CrLOBn8wGhNwjp0jnM32rDQDk5jwjRwwObjuKuwGXVmjzOLI1OQOyJq+hBeblha\n",
       "wTTVOk1TtHNUKtHdnaFRP9+CZ9uICscMKbfgTY1Jh+1QNDyXuaCD8LisAIKtfiBv0uiYCzS3Pz9U\n",
       "SkcvIO7qujjemT/UmYZHowHB5om8SaPpGrzYPOpCVZ8S/xDnr05giH/uMwzfEmUjWLtH8uaMts5J\n",
       "9o3z6FTUPsFd3l7TPzhGh+Gb0Y1g8UweZPSbd1gWLx5hxHW8PiT34an0m8KKG9PpsNe9es/wH7qE\n",
       "eAWb3QXH/41+0+j//9dRnN1QysUfaTkw9uqZ4BMAAAAASUVORK5CYII=\n",
       "\" style=\"display:inline;vertical-align:middle;\" /></a><br>"
      ],
      "text/plain": [
       "lambda_expr_v2: (y, omega) -> {y + omega | (y in Reals) and (omega in Reals)}"
      ]
     },
     "execution_count": 88,
     "metadata": {},
     "output_type": "execute_result"
    }
   ],
   "source": [
    "lambda_expr_v2 = lambda_expr.relabeled({x:y})"
   ]
  },
  {
   "cell_type": "markdown",
   "metadata": {},
   "source": [
    "We can even simultaneously swap labels:"
   ]
  },
  {
   "cell_type": "code",
   "execution_count": 89,
   "metadata": {},
   "outputs": [
    {
     "data": {
      "text/html": [
       "<strong id=\"lambda_expr_v3\">lambda_expr_v3:</strong> <a class=\"ProveItLink\" href=\"__pv_it/db28ced5b96c5e89c32800fe0317284c7547d4290/expr.ipynb\"><img src=\"data:image/png;base64,iVBORw0KGgoAAAANSUhEUgAAAWwAAAAZCAMAAAAi2eRNAAAANlBMVEX///8WFhYNDQ3MzMxUVFRE\n",
       "REQiIiK6uroQEBCYmJhmZmYyMjLu7u52dnaqqqqIiIjc3NwAAACgirQNAAAAAXRSTlMAQObYZgAA\n",
       "AAlwSFlzAAAOxAAADsQBlSsOGwAAA6dJREFUaN7tmtd24yAQQNmlF1H+/2cXFVuUAYRiJSfnrB5i\n",
       "P9iX4TJDcxB64iGMMX+8t8R+jBvQb31cNGKfQevkLTXoOdn+Lsl/6DMT35NygurvyF7EJwexlO0u\n",
       "J4tkgtKg49+9y9yNk9F+lr3Lvki9EF8tm+gHZdtlqto8iZ0gci+1Yadn4JfYm+zL1Ot5lMimz8k2\n",
       "UwNJkV+2F0z2GIvpbbH34SP2W/YEVZsnZXM5KVvJG7KVP6KTKpfL9H34gH3KnqCCjI/Jtm5Sdn85\n",
       "cDRuABKDp5AjJJGljpOEX4WX6BH7lD2zgolGajv/A7J5ryS5dgbMPmIMOYLMsowhTK/Ba/SI/ZbN\n",
       "Z+amhJG1Z9WEbPLa3TDclW2cIwYv6VyayVZLm+frGW8XgqnVR2YspFgOta/hdRAAesA+ZfdCrhpL\n",
       "GAzledGQTSvZ9hW3D64rOw6gIw4p1pB9jDzI0x4SIjQL7J2WMk2z9QtpyrzSqg4CQA/Yp+xeyFVj\n",
       "CSPXayks24SqnlRr/S9ky9gpFzwisiH7OJGBPA0vYlIm2wGbdGHfRTBTwoEgNJpkJ7J7IVeNJQxW\n",
       "rhkGkI11NQ9zvkd3wPfG1/WGCbG9vIpnLTCqO3O24C0ewjsqPjQvdWrkOyKc0MhWzs4VcCAICN1n\n",
       "J7I7IdeNJYy/f1j2hMAr2ZLVJbfFg7exXYYLZDHRQLJBnqGN7Vn84Hsa4KLcVBtWyq6DgNBddi27\n",
       "rSBrLGGwconmQGbzOrPV+3jkh7J5rClkTGvOtm0ea+2FFfa0LvVXNSubw6EgGJpjZ3O27SvIGmtO\n",
       "IzhfojtzNsVrgag1m0xPtqEckVAMfiabujbPuYaQmJjHhRCStOqM1zkcCgJAd9mpbDhkA/cYiA9c\n",
       "oju7kUUsRNhAlJDdfbYN2KhYSNy2ZO9bowZP2/qgtW2CY5eP04t6t3fOtRRncDCIGt1jZ7LBkE3Q\n",
       "YI8TRnbc4tf32YaGODJOCNc/1BgVU8gqaduHGtbhGUK5qW/m/Dr8OmzQc0E5F3e85HAoiBLdZ+eH\n",
       "GjBktu+CysZY45pV4Z84rheHonL6W2h+pi5vjFm3qR58hIbZ6xQDU62Zj++7L6IuX9XACSI/cw90\n",
       "mb3KhqnLjfi++4oVUX8f5UeBfQEOs7fFE6Iadye+75ZtvgAf/lr3BTjM3mRDVHkrPkj2k7/UIC/v\n",
       "kuQ4b2/DG+x9W3iRKq/X1WnYPfob5K96pHyGm/66Tv7Lflj2//8bKa+EGBPyH0EhMBJwIdAFAAAA\n",
       "AElFTkSuQmCC\n",
       "\" style=\"display:inline;vertical-align:middle;\" /></a><br>"
      ],
      "text/plain": [
       "lambda_expr_v3: (omega, x) -> {omega + x | (omega in Reals) and (x in Reals)}"
      ]
     },
     "execution_count": 89,
     "metadata": {},
     "output_type": "execute_result"
    }
   ],
   "source": [
    "lambda_expr_v3 = lambda_expr.relabeled({x:omega, omega:x})"
   ]
  },
  {
   "cell_type": "markdown",
   "metadata": {},
   "source": [
    "But we cannot allow a collision of the label mappings:"
   ]
  },
  {
   "cell_type": "code",
   "execution_count": 90,
   "metadata": {},
   "outputs": [
    {
     "name": "stdout",
     "output_type": "stream",
     "text": [
      "EXPECTED ERROR:  Parameter variables must be unique.  [y, y] does not satisfy this criterion.\n"
     ]
    }
   ],
   "source": [
    "from proveit import ParameterCollisionError\n",
    "try:\n",
    "    lambda_expr.relabeled({x:y, omega:y})\n",
    "    assert False, (\"Expecting a ParameterCollisionError error; \"\n",
    "                   \"should not make it to this point.\")\n",
    "except ParameterCollisionError as e:\n",
    "    print(\"EXPECTED ERROR: \", e)"
   ]
  },
  {
   "cell_type": "code",
   "execution_count": 91,
   "metadata": {},
   "outputs": [
    {
     "name": "stdout",
     "output_type": "stream",
     "text": [
      "EXPECTED ERROR:  Parameter variables must be unique.  [omega, omega] does not satisfy this criterion.\n"
     ]
    }
   ],
   "source": [
    "try:\n",
    "    lambda_expr.relabeled({x:omega})\n",
    "    assert False, (\"Expecting a ParameterCollisionError error; \"\n",
    "                   \"should not make it to this point.\")\n",
    "except ParameterCollisionError as e:\n",
    "    print(\"EXPECTED ERROR: \", e)"
   ]
  },
  {
   "cell_type": "markdown",
   "metadata": {},
   "source": [
    "Also, an exception is raised if we attempt to relabel to/from a non-Variable."
   ]
  },
  {
   "cell_type": "code",
   "execution_count": 92,
   "metadata": {},
   "outputs": [
    {
     "name": "stdout",
     "output_type": "stream",
     "text": [
      "EXPECTED ERROR:  relabel_map must map Variables to Variables. f(x) value is not a Variable.\n"
     ]
    }
   ],
   "source": [
    "try:\n",
    "    lambda_expr.relabeled({x:fx})\n",
    "    assert False, (\"Expecting a TypeError error; \"\n",
    "                   \"should not make it to this point.\")\n",
    "except TypeError as e:\n",
    "    print(\"EXPECTED ERROR: \", e)"
   ]
  },
  {
   "cell_type": "code",
   "execution_count": 93,
   "metadata": {},
   "outputs": [
    {
     "name": "stdout",
     "output_type": "stream",
     "text": [
      "EXPECTED ERROR:  relabel_map must map Variables to Variables. f(x) key is not a Variable.\n"
     ]
    }
   ],
   "source": [
    "try:\n",
    "    lambda_expr.relabeled({fx:x})\n",
    "    assert False, (\"Expecting a TypeError error; \"\n",
    "                   \"should not make it to this point.\")\n",
    "except TypeError as e:\n",
    "    print(\"EXPECTED ERROR: \", e)"
   ]
  },
  {
   "cell_type": "markdown",
   "metadata": {},
   "source": [
    "Moreover, **Prove-It** recognizes the different valid relabeled versions of *Lambda* expressions as the *same* **expression** with respect to *meaning*.  They are regarded as equal."
   ]
  },
  {
   "cell_type": "code",
   "execution_count": 94,
   "metadata": {},
   "outputs": [],
   "source": [
    "assert lambda_expr == lambda_expr_v2 == lambda_expr_v3"
   ]
  },
  {
   "cell_type": "markdown",
   "metadata": {},
   "source": [
    "These are recognized as having distinct *styles* of presentation, however.    **Prove-It** provides flexibility with respect to presentation style of expressions while recognizing the *meaning* equivalence when style is the only distinction.  This is the first of many examples to be encountered."
   ]
  },
  {
   "cell_type": "markdown",
   "metadata": {},
   "source": [
    "### Lambda scope and substitution rules"
   ]
  },
  {
   "cell_type": "markdown",
   "metadata": {},
   "source": [
    "It is important to understand that a `Lambda` expression defines a new scope within its *body* with respect to the *parameters*.  This has two important consequences with respect to substitution rules."
   ]
  },
  {
   "cell_type": "markdown",
   "metadata": {},
   "source": [
    "The first consequence of the internal `Lambda` scope is that the `Lambda` masks the substitution of variables that happen to be the same as any of the `Lambda` parameters.  For example,"
   ]
  },
  {
   "cell_type": "code",
   "execution_count": 95,
   "metadata": {},
   "outputs": [
    {
     "data": {
      "text/html": [
       "<strong id=\"tuple_with_lambda\">tuple_with_lambda:</strong> <a class=\"ProveItLink\" href=\"__pv_it/511e793fc4723c31b7e6aece423c7909d6fd59ab0/expr.ipynb\"><img src=\"data:image/png;base64,iVBORw0KGgoAAAANSUhEUgAAAZQAAAAZCAMAAAAhQiggAAAANlBMVEX///8WFhYNDQ1UVFQiIiKI\n",
       "iIjMzMx2dnYQEBDc3NyYmJhEREQyMjLu7u5mZma6urqqqqoAAACpA+f/AAAAAXRSTlMAQObYZgAA\n",
       "AAlwSFlzAAAOxAAADsQBlSsOGwAABEFJREFUaN7tWleS3CAQlU0QqQn3v6xRRECDwoStrTIfK82O\n",
       "5nV40AE0DHF4N3xzEEqpXO898W/DDcMvHSw6ZHHDuP/P2+/qYA63GobPkSKf4cg3PXPnh0rNF67X\n",
       "z2DeIV8+IWUU7yS7JIVdXISKCq2DiX8Xzzh2Prcvr++L4Cspg1q/Xp9+Uf4FS2pSiPkgKX68oZEk\n",
       "0QSiloV7avIN6IvgGykDnR+S4j3yr0+eAyn6c6TADcL1IMf5wsmiYRFUR/8Y+hw8J4XND9mu12/I\n",
       "N/A5Upy6TYpVt/1m5aqbyrMsUPMY+hS8IAXC5MbQLb1uyFf2c6R4dpuUTgBgOpY7R0cnv60KiWyC\n",
       "MUXcRWgE/QS8IGUw8Y6H7gS/k4kFjsTkT5DimkvcGQb4ZCYAJHkmDZqqoj40in4CXpJi9VQjd8PG\n",
       "neiZhGVqVRV3lxRgjAAfiyhekEK2ko/yFilbVK7wJBJmF79x7c06gUZSpFUja2hMCwS9D16RwsSh\n",
       "AEK90TQNUyoJy4mmTVJ0TYqdch0bLO2Q4jc1ZGAtUrYZUuEZiYZ9YWig+yRXx8k4/eI4s1ZoVAsE\n",
       "vQ9ekeJi6Nr9gnqjaRqmVBJWeFQ3SIFQLWQVjWJBDkR1SLF4WZSRsrbINZ5p5GKlDkWNP1iwFE0U\n",
       "SmhUC3MTvCaFBz4Y0vNG0zRMqSSMlqkPMFK4qTPFtOb00TI7ZU0qxHxZdHVusXVVDCdFOByPL0hx\n",
       "6CLCaFAseeYQEOY4wFgBjWqBoXfBa1JkrLyobXijaxqqVBL29w/NRshKPLP1uo1dgMD6iX6+5zbf\n",
       "K2qQUuGBblWtEXEPPk6UTQHQAhrVAkPvgSOkQPSVIT1vtExDlUrCaFkuOGylOIPWVC4uyQGgTYrd\n",
       "e1XZJsX4Bh5tthKWS11HmC02WZ9D41rQe+DoSuFHUhBvNE3DlGqFL15UJJ2cAtoNJJRLoCBF82lV\n",
       "2mkSQ5MUzRp4jLX8Fqf5vgWlKzdLk0PjWiDoPXA0p8itKs21h55p0HJNEpaTUlYknerLBw42Ljjn\n",
       "O6SMYiTCB2KFavcpSymI4RmPtLNzDxE9s3aJdpeXUoHmGXRDixq9A96qvpiovQHBtE3bvqyVSsKy\n",
       "aOVu9Clg41TzVvleTgEdIs9MCNZrHmkLD4h2gGzkymmSmDA/mtJdqlH4mEPjWpToXXCMFCUWYirt\n",
       "6VYAYqatX9ZKNRK35T+yzUJ5uyUedb7NUg7Z7ah70BfQUfBDR0/yXH5wAnTke3hiybc3JNULR3cn\n",
       "O37qpVNBFDzf+8J3icee/PHFvcvvbN0P+vnp4Jlaz6Fb4MUuMUeqZmAd+cCeWfJtUuAx+OkZNbyg\n",
       "Nw6+k6KWahh5dUH15KuHlmCkfPLkcZDqGY46XwdPoZvg6eRRHlvWF+Wr6ys6yWMfPaP/TaM8o//R\n",
       "t1nIf1KOpBxywJff+zL/3/sqdqwoXZu9cc4B/wCoIjZBwhFtMAAAAABJRU5ErkJggg==\n",
       "\" style=\"display:inline;vertical-align:middle;\" /></a><br>"
      ],
      "text/plain": [
       "tuple_with_lambda: (x , (x, omega) -> {x + omega | (x in Reals) and (omega in Reals)})"
      ]
     },
     "execution_count": 95,
     "metadata": {},
     "output_type": "execute_result"
    }
   ],
   "source": [
    "tuple_with_lambda = ExprTuple(x, lambda_expr)"
   ]
  },
  {
   "cell_type": "code",
   "execution_count": 96,
   "metadata": {},
   "outputs": [
    {
     "data": {
      "text/html": [
       "<a class=\"ProveItLink\" href=\"__pv_it/e9c87c0067831d5a75285e3c98467b49c30e711c0/expr.ipynb\"><img src=\"data:image/png;base64,iVBORw0KGgoAAAANSUhEUgAAAZIAAAAZCAMAAAAsXFhnAAAANlBMVEX///8WFhYNDQ1UVFQiIiKI\n",
       "iIjMzMx2dnYQEBDc3NyYmJhEREQyMjLu7u5mZma6urqqqqoAAACpA+f/AAAAAXRSTlMAQObYZgAA\n",
       "AAlwSFlzAAAOxAAADsQBlSsOGwAABFpJREFUaN7tWteS4yoQ5V6CSE34/59dlAE1yMhjT23V6sHj\n",
       "NKfD6YhMSLqCJ9+7KGNMbc8DDT+GG8nfevHkkcUP0/FWcN9UwGZPDZDPUaIeAqkf+s7IP2o9Pwqz\n",
       "vQT7vnD1hJJJ/iTVNSX81QTUTBoTbXpc/EI8v4/rl5P7RfCVEqK3T7cvvyX8BTOulFD7QUrCNBIl\n",
       "iiYbqF6z9tbmEezXwDdKCFu+o+RPCH89bjJKzOcogRG6DVHT8kfQVcWynk6VbUPYd+AlJXz5jut4\n",
       "fUC4hc9R4vUwJU6Pe82pTTldNFdglReGsG/AK0ogzm6MnXFrQLh2n6Mk8GFKeqnPTRpxcj+fXts0\n",
       "knl8cU39y9ij4BUlxKYnInbCe6T/ygYOV79AiW+nt7cc8ECmAPR0zHGxcxK6wx4HrylxZh6KewJG\n",
       "2tgpqdCqHrH7lADnFMRUlu+aErrPeUw0KNmr8RVOIRV29ZowwW7hM9GynVqFYCNaDINfKOEyG3uU\n",
       "m7gqbW8bhmiUSSpZZi1KDEKJm1scJ451KAm7HiryBiV7fFzhrELLvbQssiPCdb48qSqsNmxMi2Hw\n",
       "CyU+Fa3dL14mOFNWsbZhiEaZpJKEYHBKIF4zWCcleFSE6g4lDp2FCkrWbRiDs40OrHU2y4TTgnVO\n",
       "YnDBxrQYBb9SIqIgdg1ukPObrorv0PbTRaNMEqs7HiCUCIt0iDnhTGaYm3slk3L5s6Wh96ulm2Yo\n",
       "JdKjcOmdFSpdpqotBvShkDjB6FIDOK+xMS2Gwa+UqDRtsdW3bskPVg7ETcMwjTJJ///HiivmU53d\n",
       "19rWxh95v70vL4QrD4VwSq5wYFpzakI86o6X1RoArMbGtBgFRyiB5KotS6TZXr9kGKZRJonVU4JH\n",
       "ssRbfI7yKR8JQJsSd6ymqkmJDS041lwdnFDmUlv2ouRChY1qMQiOZsleuCDOuLpKqbZhiEbNwiXK\n",
       "MaTXS8B4QmMV/jUlRswp6eYIhhYlhrfgOG95LcX47hltalOUrbBRLQbB0V6itkkUYlirU1DZDIsZ\n",
       "Bi2/ZJJKSqoxpDdxhSjApWzzoUPJJCcqQ6RO6uZeso5/KJwNyPa67AzJL9tS6HaBZwcwosTGtRgC\n",
       "b01cfK03cxXRqa/MhEbbNmz/8KpRJqkof35gLwGX4iw4HXq9BExMLHMpeWdVZE04oMYDclg7D5zG\n",
       "LqFJjj53DiZiqrBRLYbAMUq0XGlZsPgkFOVzLLB95MMM2z68atRq1078xoEKE50NeDLlmUd9KdaV\n",
       "1MN+CH5u77Ts4YcLoCM8wBMzvn3sqN+5LXdztPcWNg5enHFhJ8FTT/j05gnldw7niXl844+oO73e\n",
       "wG6AlyfBQl7PmTrCgT8z49uUwHPw29vPb2A3wI9pbF1JLj9J0D3h+qEZGCWfvKtIlH4IpO9z4DF2\n",
       "C/y4q6jyBfUt4fr1VD6l8Y/ee/+rrure+y/+QoX+oySnJKv+X/0dl/33O67q4oyt2920VP8/LDc2\n",
       "OWD+qacAAAAASUVORK5CYII=\n",
       "\" style=\"display:inline;vertical-align:middle;\" /></a>"
      ],
      "text/plain": [
       "(a , (x, omega) -> {x + omega | (x in Reals) and (omega in Reals)})"
      ]
     },
     "execution_count": 96,
     "metadata": {},
     "output_type": "execute_result"
    }
   ],
   "source": [
    "tuple_with_lambda.substituted({x:aLit}) "
   ]
  },
  {
   "cell_type": "markdown",
   "metadata": {},
   "source": [
    "Here we see that $x$ is altered external to the `Lambda` expression, but the $x$ within the `Lambda` expression is left alone.  This is fine because the internal $x$ is essentially a different $x$; the scope is different."
   ]
  },
  {
   "cell_type": "markdown",
   "metadata": {},
   "source": [
    "For convenience, `substituted` will perform relabeling if the replacement of a `Lambda` *parameter* is another `Variable`.  For example,"
   ]
  },
  {
   "cell_type": "code",
   "execution_count": 97,
   "metadata": {},
   "outputs": [
    {
     "data": {
      "text/html": [
       "<a class=\"ProveItLink\" href=\"__pv_it/f5948f00a2ffd5a993fab4d9bb94f042010a895c0/expr.ipynb\"><img src=\"data:image/png;base64,iVBORw0KGgoAAAANSUhEUgAAAZAAAAAZCAMAAAAoqYhaAAAANlBMVEX///8WFhYNDQ1UVFQiIiKI\n",
       "iIjMzMx2dnYQEBDc3NyYmJhEREQyMjLu7u5mZma6urqqqqoAAACpA+f/AAAAAXRSTlMAQObYZgAA\n",
       "AAlwSFlzAAAOxAAADsQBlSsOGwAABGtJREFUaN7tWtmS4yAM9C73Df//s4tPDAiM7clMTdX6IcmM\n",
       "naalFkiCTFO8vJu+70IYY7F99sh/FWyYfudFojtWJ7Djf95+JwN9+qjM9DFBxCMY8UXP3PmilMsb\n",
       "VdvfRr8fXjwRhPEv1LkUhIzNPYm5UkHH19UrjlzH9PCsHgTfBJnkdnt7+tXwA3bUgiD9OUE8G+cj\n",
       "UDQAyXW6Xto7jjwKvgsy4eUhwb9i+PGwOQmiPiaIGddaTYItbxSt/IpllPmnyAPguSBkecj2XD4+\n",
       "vDYfE8TJ24JYeddnVmzMZJ5RDdZPka/BC0FMmJ0YeiXW+PDSfkwQT24L0p71RMWy5uzk5LONDs9C\n",
       "i0jkxpAh9AvwQpBJx0809EL7RtrlMA4RPyCIa01sp4mBgxgZg5JX0oVT9dNFhtEvwEtBrJrr4O4I\n",
       "N/LXAZuRqmrqniCG2Nn5O3tYkP2mwLQlyLYMV3ACWFhXn1Hl9RY6DBU5VIsKGSQBoPfBK0EIT6UO\n",
       "6IuWYRClNFQuMW4KoipB2OTnOSlDRxC/J1kRSEuQLTgqOC3AZZ5rHPAR3PIchfM3zjG1IYMkAPQ+\n",
       "eCWIi8vV7hXQFy3DIEppqFwCrxqCmFBOX+Enq+upkwti4fon4732vjWcbuRdKU/Viz/xX4sjbApk\n",
       "mIS+CV4LQgOdNOr4omUYRCkNhctEZyBBqK5SQ3yOz//k+x07p0jM+fK2EnVuNXQ2RLQE4Q6EoytQ\n",
       "vFSxqigjSfLKaRlYZj8hBTJIAkLvgteCiFhhYQv7omcYSCkN9fcPzq6QFXJ672Kh7n6es0ucNGfI\n",
       "8pnafPMHFqSCM6pVmUbAY8FxvKz6DS6QQRIQeg8cEMRET2nU8UXDMJBSGgqXlYGDZojTQPG0zETC\n",
       "O1WWPdpQ0RZEexgON1sFS4WqV5V9PbI+R4ZJ4Hvg4AyhSRDIFy3DIEqtJYsWtUcnh0QD0P7SEkTR\n",
       "OTTsHL2mKYgiMBwhLZ/F8D62lFTlYqFzZJgEgN4DB3OISIkhkTc9w0zLL2moXJCy9uhVWZOdd35K\n",
       "oTJBGGeI+4Asl+0+ZK/4KjjtgUZ1qR6jV7YO0B7DpaVf0Qy5QaJG74C3qqwj7g/yJui2YfvNmlIa\n",
       "Kluh3J0+JNJnxAbREcSoECUmnJNeY4gbcAYpZ4ANWTGHhw6LQ1NyS9UIZRlyg0SJ3gWHBJF8Sw85\n",
       "eXyUeYBh282aEoa34C2926kz/X7r5NSuFXCOqXzrpDpJwN1xMO1uu12gg+CnTh2dEveJvDcdw7x5\n",
       "YseYIHOuMty/31xcd9ZguIvrYvtOvjrNA8Hzvay9Gz+TZz3D2MttyJ4gOM4FxB6ZWtT3SjyEE1cb\n",
       "bEo81wMGL3Z7KS99YUjHMEOe2TEkiCfEPjzfLwRZmoIncJenyubFKQ4Mfggi15S9/tDgRF72DJMP\n",
       "7YAE+eCJ4STkIxh5Hf8Pkdvg6cRQnNvRV8PL8XmcRiOfPFP/RVd5pv6DvzpB/wVJgpxW/W/9XZb+\n",
       "/7usbOsV462VY8uq/w8nFzdpOXlCfQAAAABJRU5ErkJggg==\n",
       "\" style=\"display:inline;vertical-align:middle;\" /></a>"
      ],
      "text/plain": [
       "(y , (y, omega) -> {y + omega | (y in Reals) and (omega in Reals)})"
      ]
     },
     "execution_count": 97,
     "metadata": {},
     "output_type": "execute_result"
    }
   ],
   "source": [
    "tuple_with_lambda.substituted({x:y}) "
   ]
  },
  {
   "cell_type": "markdown",
   "metadata": {},
   "source": [
    "The inner and outer $y$ *variables* are still regarded as distinct, but it doesn't hurt to relabel the one within the `Lambda` as we wish.  If we do not want this behavior when performing *expression substitution* or *instantiation*, we can *relabel* the map with a distinct variable first.  This feature simply provides a convenient way to perform inner relabeling simultaneously with other substitutions."
   ]
  },
  {
   "cell_type": "markdown",
   "metadata": {},
   "source": [
    "The other consequence for of `Lambda` scoping with respect to substitution is that we must not allow any expression within the `Lambda` *body* to be replaced with something that contains one of its *parameters*.  That is because those *parameters* are, with respect to scope, distinct from anything outside of the `Lambda` expression.  So bringing in a replacement defined for external use would have a different meaning when applied internally, and this must not be allowed.  Otherwise, you could alter the meaning of the expression in ways that can invalidate a proof (e.g., via a *instantiation* step which relies upon *expression substitution* internally).  Thus, the parameters of the Lambda function are \"reserved\" and may not be used in substitution. \n",
    "\n",
    "Consider the mapping defined below:"
   ]
  },
  {
   "cell_type": "code",
   "execution_count": 98,
   "metadata": {},
   "outputs": [
    {
     "data": {
      "text/html": [
       "<strong id=\"map_to_new_var\">map_to_new_var:</strong> <a class=\"ProveItLink\" href=\"__pv_it/63f8ec1a8b4cfdb8aefc6263b0c0ba601d2d59eb0/expr.ipynb\"><img src=\"data:image/png;base64,iVBORw0KGgoAAAANSUhEUgAAAFsAAAAVCAMAAAAeumK3AAAANlBMVEX///8WFhYNDQ3MzMxUVFRE\n",
       "REQiIiK6uroQEBCYmJhmZmYyMjLu7u52dnaqqqqIiIjc3NwAAACgirQNAAAAAXRSTlMAQObYZgAA\n",
       "AAlwSFlzAAAOxAAADsQBlSsOGwAAAWtJREFUOMutVQluxCAMpOUwh8Hw/8+WMxtSkIJaS6sNZDLY\n",
       "4wPGskX2xt6hHkbhFQzonDr4//XhZuheQx0eclvzGmrsIbc+wa4dp02awR1wuyvG6ZCwicf2TCKR\n",
       "QO79lC8xyk/x+u/HBlMTybxiXGV8NJcr+WgSxOwdFsZBMbX6M27NFuQcHnlJmVC1702WjFJk4p7Z\n",
       "T6g9nKA2npK8iRTLc5FDQwsj/+RDeqiv5Di6oNJ49/2lJksJpsK2+OEulh6NV5e8Ot+TAnrjN7iJ\n",
       "Oja8u5IHWRKG+JCkNmPHbjXhc1fV6ZB3ZPUOJTCRhoMdKHlRwZbW7TtGrrndVOBgeo21sgqJo80B\n",
       "Q/ESUxPeay90SMLqkWB7qTZJAFN9c5mrxJeqBdW0J8otYJpASmELJmWHSOuLUa0b0PL7KocedNNf\n",
       "8cVoXPd2VIfzZDWA/J/HWjf5K1Bc3wJRHt8N+OuTjXsSj7nLVHkl3umF+QMM7AuJbb/ViwAAAABJ\n",
       "RU5ErkJggg==\n",
       "\" style=\"display:inline;vertical-align:middle;\" /></a><br>"
      ],
      "text/plain": [
       "map_to_new_var: (x, omega) -> z"
      ]
     },
     "execution_count": 98,
     "metadata": {},
     "output_type": "execute_result"
    }
   ],
   "source": [
    "map_to_new_var = Lambda([x, omega], z)"
   ]
  },
  {
   "cell_type": "markdown",
   "metadata": {},
   "source": [
    "Expressions involving $x$ and/or $w$ are not allowed to be used in the substitutions for $z$. For example, we are not allowed to transform this map to $(x, \\omega) \\mapsto \\omega$ via substitution."
   ]
  },
  {
   "cell_type": "code",
   "execution_count": 99,
   "metadata": {},
   "outputs": [
    {
     "name": "stdout",
     "output_type": "stream",
     "text": [
      "EXPECTED ERROR:  Must not make substitution with reserved variables (i.e., parameters of a Lambda function).\n",
      "These variables are in violation: Scoping violation while substituting(x, omega) -> z.  Must not make substitution with reserved variables (i.e., parameters of a Lambda function).\n",
      "These variables are in violation: {omega}\n"
     ]
    }
   ],
   "source": [
    "from proveit import ScopingViolation\n",
    "try:\n",
    "    map_to_new_var.substituted({z:omega})\n",
    "    assert False, (\"Expecting a ScopingViolation error; \"\n",
    "                   \"should not make it to this point\")\n",
    "except ScopingViolation as e:\n",
    "    print(\"EXPECTED ERROR: \", e)"
   ]
  },
  {
   "cell_type": "markdown",
   "metadata": {},
   "source": [
    "And we are not allowed to change the map to $(x, \\omega) \\mapsto f(x)$ via substitution."
   ]
  },
  {
   "cell_type": "code",
   "execution_count": 100,
   "metadata": {},
   "outputs": [
    {
     "name": "stdout",
     "output_type": "stream",
     "text": [
      "EXPECTED ERROR:  Must not make substitution with reserved variables (i.e., parameters of a Lambda function).\n",
      "These variables are in violation: Scoping violation while substituting(x, omega) -> z.  Must not make substitution with reserved variables (i.e., parameters of a Lambda function).\n",
      "These variables are in violation: {x}\n"
     ]
    }
   ],
   "source": [
    "from proveit import ScopingViolation\n",
    "try:\n",
    "    map_to_new_var.substituted({z:fx})\n",
    "    assert False, (\"Expecting a ScopingViolation error; \"\n",
    "                   \"should not make it to this point\")\n",
    "except ScopingViolation as e:\n",
    "    print(\"EXPECTED ERROR: \", e)"
   ]
  },
  {
   "cell_type": "markdown",
   "metadata": {},
   "source": [
    "If it does not involve any of the parameter variables, however, that is okay."
   ]
  },
  {
   "cell_type": "code",
   "execution_count": 101,
   "metadata": {},
   "outputs": [
    {
     "data": {
      "text/html": [
       "<a class=\"ProveItLink\" href=\"__pv_it/f5948f00a2ffd5a993fab4d9bb94f042010a895c0/expr.ipynb\"><img src=\"data:image/png;base64,iVBORw0KGgoAAAANSUhEUgAAAZAAAAAZCAMAAAAoqYhaAAAANlBMVEX///8WFhYNDQ1UVFQiIiKI\n",
       "iIjMzMx2dnYQEBDc3NyYmJhEREQyMjLu7u5mZma6urqqqqoAAACpA+f/AAAAAXRSTlMAQObYZgAA\n",
       "AAlwSFlzAAAOxAAADsQBlSsOGwAABGtJREFUaN7tWtmS4yAM9C73Df//s4tPDAiM7clMTdX6IcmM\n",
       "naalFkiCTFO8vJu+70IYY7F99sh/FWyYfudFojtWJ7Djf95+JwN9+qjM9DFBxCMY8UXP3PmilMsb\n",
       "VdvfRr8fXjwRhPEv1LkUhIzNPYm5UkHH19UrjlzH9PCsHgTfBJnkdnt7+tXwA3bUgiD9OUE8G+cj\n",
       "UDQAyXW6Xto7jjwKvgsy4eUhwb9i+PGwOQmiPiaIGddaTYItbxSt/IpllPmnyAPguSBkecj2XD4+\n",
       "vDYfE8TJ24JYeddnVmzMZJ5RDdZPka/BC0FMmJ0YeiXW+PDSfkwQT24L0p71RMWy5uzk5LONDs9C\n",
       "i0jkxpAh9AvwQpBJx0809EL7RtrlMA4RPyCIa01sp4mBgxgZg5JX0oVT9dNFhtEvwEtBrJrr4O4I\n",
       "N/LXAZuRqmrqniCG2Nn5O3tYkP2mwLQlyLYMV3ACWFhXn1Hl9RY6DBU5VIsKGSQBoPfBK0EIT6UO\n",
       "6IuWYRClNFQuMW4KoipB2OTnOSlDRxC/J1kRSEuQLTgqOC3AZZ5rHPAR3PIchfM3zjG1IYMkAPQ+\n",
       "eCWIi8vV7hXQFy3DIEppqFwCrxqCmFBOX+Enq+upkwti4fon4732vjWcbuRdKU/Viz/xX4sjbApk\n",
       "mIS+CV4LQgOdNOr4omUYRCkNhctEZyBBqK5SQ3yOz//k+x07p0jM+fK2EnVuNXQ2RLQE4Q6EoytQ\n",
       "vFSxqigjSfLKaRlYZj8hBTJIAkLvgteCiFhhYQv7omcYSCkN9fcPzq6QFXJ672Kh7n6es0ucNGfI\n",
       "8pnafPMHFqSCM6pVmUbAY8FxvKz6DS6QQRIQeg8cEMRET2nU8UXDMJBSGgqXlYGDZojTQPG0zETC\n",
       "O1WWPdpQ0RZEexgON1sFS4WqV5V9PbI+R4ZJ4Hvg4AyhSRDIFy3DIEqtJYsWtUcnh0QD0P7SEkTR\n",
       "OTTsHL2mKYgiMBwhLZ/F8D62lFTlYqFzZJgEgN4DB3OISIkhkTc9w0zLL2moXJCy9uhVWZOdd35K\n",
       "oTJBGGeI+4Asl+0+ZK/4KjjtgUZ1qR6jV7YO0B7DpaVf0Qy5QaJG74C3qqwj7g/yJui2YfvNmlIa\n",
       "Kluh3J0+JNJnxAbREcSoECUmnJNeY4gbcAYpZ4ANWTGHhw6LQ1NyS9UIZRlyg0SJ3gWHBJF8Sw85\n",
       "eXyUeYBh282aEoa34C2926kz/X7r5NSuFXCOqXzrpDpJwN1xMO1uu12gg+CnTh2dEveJvDcdw7x5\n",
       "YseYIHOuMty/31xcd9ZguIvrYvtOvjrNA8Hzvay9Gz+TZz3D2MttyJ4gOM4FxB6ZWtT3SjyEE1cb\n",
       "bEo81wMGL3Z7KS99YUjHMEOe2TEkiCfEPjzfLwRZmoIncJenyubFKQ4Mfggi15S9/tDgRF72DJMP\n",
       "7YAE+eCJ4STkIxh5Hf8Pkdvg6cRQnNvRV8PL8XmcRiOfPFP/RVd5pv6DvzpB/wVJgpxW/W/9XZb+\n",
       "/7usbOsV462VY8uq/w8nFzdpOXlCfQAAAABJRU5ErkJggg==\n",
       "\" style=\"display:inline;vertical-align:middle;\" /></a>"
      ],
      "text/plain": [
       "(y , (y, omega) -> {y + omega | (y in Reals) and (omega in Reals)})"
      ]
     },
     "execution_count": 101,
     "metadata": {},
     "output_type": "execute_result"
    }
   ],
   "source": [
    "tuple_with_lambda.substituted({x:y}) "
   ]
  },
  {
   "cell_type": "code",
   "execution_count": 102,
   "metadata": {},
   "outputs": [
    {
     "data": {
      "text/html": [
       "<a class=\"ProveItLink\" href=\"__pv_it/f97adc7072a6c0546dd1846b03f69339ce39e1260/expr.ipynb\"><img src=\"data:image/png;base64,iVBORw0KGgoAAAANSUhEUgAAAFsAAAAVCAMAAAAeumK3AAAANlBMVEX///8WFhYNDQ3MzMxUVFRE\n",
       "REQiIiK6uroQEBCYmJhmZmYyMjLu7u52dnaqqqqIiIjc3NwAAACgirQNAAAAAXRSTlMAQObYZgAA\n",
       "AAlwSFlzAAAOxAAADsQBlSsOGwAAAXhJREFUOMutVdmOgCAMZJe7VAr//7PLpYJKAsnyYIIM0+kJ\n",
       "Y2kFtrLWUI9FfgmmaZGP5w8WKf74Xw3MROeUwmzALTvocAmmVFRHgYJd5rawBBO3BxuZMRPhFD65\n",
       "tdvgdrePgxUPn9zQMolEAvlx+C9UUCX37LjdVWOIh1uWCHgnJVkmQQx6lD8NhVjrz7oJt5fdRmK+\n",
       "oROm3rcpYhRDstmBbk+bO15NuBnJRypkAhh91bt8hF6XI3mazqh4Hf7+qGHFqIfLkISa+1d8NF7Z\n",
       "8iK+JUWbmW7tLp4qESJn7kqeTpYY4iMkpRlD457GhHdtZcqRSC7Kog6lLrsqsOEkz1GA3Lrtj5UT\n",
       "btcVeNVh5FlWPnKE5LDOKjHWwB/mEMZHAeZMMNxRG6Kr+/oOeUO5zXQRgECUOsD6NhCwOhOTHjLm\n",
       "YlSTOQt8GMYAAgqD4m+s/+7toDan99cAmkzdjbF21szLUfx+BYLcfnbwdWUiT+I2NwtrrtrdB/MP\n",
       "ZHUMQmZcs7AAAAAASUVORK5CYII=\n",
       "\" style=\"display:inline;vertical-align:middle;\" /></a>"
      ],
      "text/plain": [
       "(x, omega) -> 5"
      ]
     },
     "execution_count": 102,
     "metadata": {},
     "output_type": "execute_result"
    }
   ],
   "source": [
    "map_to_new_var.substituted({z:FIVE})"
   ]
  },
  {
   "cell_type": "markdown",
   "metadata": {},
   "source": [
    "### Applying the Lambda map\n",
    "\n",
    "In addition to the `substituted` method, the `Lambda` class has an `apply` method.  As arguments, the `apply` method should be given the operands to be mapped.  The `apply` method will apply the proper substitution replacements to the `Lambda` *body* to effect the application of the map to the operands.  Internally, <a href=\"#OperationSub\">*operation substitution*</a> is effected via the `Lambda.apply` method."
   ]
  },
  {
   "cell_type": "code",
   "execution_count": 103,
   "metadata": {},
   "outputs": [
    {
     "data": {
      "text/html": [
       "<a class=\"ProveItLink\" href=\"__pv_it/606d81db2f5c591a46fb2987b140fd2d3a6e8d930/expr.ipynb\"><img src=\"data:image/png;base64,iVBORw0KGgoAAAANSUhEUgAAAWwAAAAZCAMAAAAi2eRNAAAANlBMVEX///8WFhYNDQ3MzMxUVFRE\n",
       "REQiIiK6uroQEBCYmJhmZmYyMjLu7u52dnaqqqqIiIjc3NwAAACgirQNAAAAAXRSTlMAQObYZgAA\n",
       "AAlwSFlzAAAOxAAADsQBlSsOGwAAA6lJREFUaN7tmulypCAURplhE7iyvP/Ljlu3LBcEp00qVfFH\n",
       "0qlKDh/Hy6Yh5ImLCSH88dky+zFuID/1cosR+wzaRB85kOdk+3sc/7FfGvhDpQaw/o7sefrkTcxl\n",
       "u85iUWLiPJjl695h6TpqsbsQO+m77E5sT8JCNjMPyrbzQCLPli4wtQ+06y4PsDvpm+xubP+9jmTz\n",
       "52TDwI3kxM/bN8r2hNnkNmd9g6EiuaK/ZQ9gDTwnW6ph2VoN69D+yKZ06lZkFkbYl/RT9gAWZXxI\n",
       "tnXDslvLgePL8h8ZPHUcgaakcJxisptdwK/op+yRFWyqlLbz3yBb1oekNA7Q2mMA7IiY1JgglHey\n",
       "EfgV/S1bjkxOESNpz+oB2eAcAzpns2Qum732QIJWZOu5xvPlfLfroNyaoy5mlq2GxiNsJAUCv6Cf\n",
       "suuRkbYihiBpZVRk81L2cmMcc0SLlmz7yuGDq8h+3fmSZzymYzIiiHdRqrjI1j9ICuZgYykQ+AX9\n",
       "lF2PjLQVMTJVHJcNoRhPagnrgidMtWRrdJ+QyD5OZAjP4EuYUtFmwEYd2PcQAgo2lsKQQXokux4Z\n",
       "aStiiHzNAEQ2NeVMvI4RHifW62ojpmn7dgwdKfc+HMlQ2ZPEeYTuqOXi6UDnoN55aMRi27h1Lmdj\n",
       "KTB4mx7JrkbG2ooYf/+I5ApBFrKVqJw6g7tYILcf6HazZ9KWXfKAVzZnC/A9Ccgp31ODyNlYCgze\n",
       "pCOyMQVlWxFD5Eu0RCpbGnSPIZchRAAasvX7EOWrso2t8URtJ6yp5+VAf00R2mZsNIUgY/Rkzq5G\n",
       "RtqqTiM0XaIbczZwSVjIKraQzek6jPRadVCTzV2N51xFx1KWx+MgonjRFW8yNpoCgTfpsWwsMtR6\n",
       "jCREl+jGbsQGCnoZINK2ZM/TzCYbmJ5UdZ+9b41QnrHlMWvbAi8dPk4v+t3eOdNymrLxFCW8RU9k\n",
       "I5EhmEqPI0Zy4JL9+2zQS2lYrWxzzgYelvvnpsk1DjWiygPGJZTP5fx6803YfvVcTs6lnc4ZG02R\n",
       "w9v09FCDRBb7Lqhsq7bgafodx3VBG8e8macn6vx5sWi31GJfwnH6OsVgWAu3En7xg6juRzVYeagP\n",
       "PQbqp6+yMex8L+EXP2Il/P7LlMtY99k1+rZ4llhwNxN+sWy4Db9+Vwf/ERynb7JLrLqbEJH95Jsa\n",
       "4tU9juoo27vsKn3fFnZiVf/AOg27R99B/qhLqWe48dt19iv7Ydm//zeSXU6ISf0Dcn0wEpaPnEsA\n",
       "AAAASUVORK5CYII=\n",
       "\" style=\"display:inline;vertical-align:middle;\" /></a>"
      ],
      "text/plain": [
       "(x, omega) -> {x + omega | (x in Reals) and (omega in Reals)}"
      ]
     },
     "execution_count": 103,
     "metadata": {},
     "output_type": "execute_result"
    }
   ],
   "source": [
    "lambda_expr"
   ]
  },
  {
   "cell_type": "code",
   "execution_count": 104,
   "metadata": {},
   "outputs": [
    {
     "data": {
      "text/html": [
       "<a class=\"ProveItLink\" href=\"__pv_it/55d4a5957ae7c691f8abc6a0950a6523ac055ee90/expr.ipynb\"><img src=\"data:image/png;base64,iVBORw0KGgoAAAANSUhEUgAAAXQAAAAZBAMAAADTUMhQAAAAMFBMVEX///9mZma6urrc3NwiIiKI\n",
       "iIjMzMyYmJgQEBB2dnbu7u5EREQyMjJUVFSqqqoAAABfjFPjAAAAAXRSTlMAQObYZgAAAAlwSFlz\n",
       "AAAOxAAADsQBlSsOGwAAA+BJREFUWMPVmEtoE0EYgP/s5tHsJjUgpR5KCYJQwUMOhSIKjbgtPSim\n",
       "t6JQUnrxIm2pUvABOVh8oBK86KWSiyC0pYtIhfoKFBErSsRDrQeJoKAXjagoUsV/9jE7k05nAgrF\n",
       "hWV3Z//9/i/z3A0ANL+Gv99qsBHbkxI91eWRulpdV1MyDdN1hUq8EBQMylLuBy2nVB9UUMIV2FZX\n",
       "FOu7s9p3GwR0AYgLTpZpeXNRVuU/ZFK1gCCldBcgUq0rS+gVbXlhLV0IYoOTNi2ekVW68RWfKynU\n",
       "Z1SUuSzAUl2ZqRfBPhLQr8l02GBGvVXaR1exuVLuqTa6jnqrirIJ23hMYLM5QenGPpkOG8yoF6Tq\n",
       "F3E/7zVlbh31gorSVMHdq91DllWmNialR06lBTqi4EBdK7OxL3DfzRbswf2RXJ0Q5JQwVlbCbbMd\n",
       "B5mKfDVL6eGovVZHGByoh3BYJMmA7CVXnXnvBCru1WM8TPHq11vAqDDqhCCnJPBu3HlEX2L6QPT+\n",
       "IqV/gEUK8xOIg02qTmrjI4n7Bm5qzEs8yYzQnYNlPJzk1YvvIVZj1AlBTkni3ZhTnYlMYHPhQE+J\n",
       "0hfhDYX5CcTBc3TIhZGeCoZ457BbXSFn9q9COx7ecup6tc1vtBolyCkhvNucdcyYkXfluPNrHHq0\n",
       "AuGSB6MJhMHRh8EQSoOWBhwC466Y5VQXbAWwIZaBy3g+QiQsq++0ZWE7GjAJTTlGHQkKShwjok7w\n",
       "YQs32+sDC8fAo0MyD5GcB6MJhMFHM6x6BGAIm4lLmoNoCuKuSgffYbSfMJJfqy6hYBWA5kwd0+x8\n",
       "N+T0iA5vNjeyPsxPIAzWglpPVEmzDoJe5Jo6Rda/nW4I32EgVIYBdoZBQgMUt8OEWZvQsO3TST9r\n",
       "92F+AnFw0NfNHJj56GeYKXEDbB5GUoY3wk/w6mYF7rHqSGiAEnNaPpJjbAx7wqdn/enUgXkJxMHB\n",
       "DIOTVvzcy0/PzwA3rV2duvRryygYuJpCS12tV7TvrDqZ9uSUORxiIffpZ7S1cf6bSKZdeozcNPMe\n",
       "jCYQBjNLUhaMB4uRsy553v/106uZgUlvSdrLqxsr/V+4JSmropAlKewOr9mbJfoymDHv/nbpJimM\n",
       "Fj0YTSAMZl4EelWv9nq2fjWNl7kXgd5GKJ3ecfstqyyiczp+AlEwoz6mShoa5V+/2uBGlVMfa4TS\n",
       "qqAzOkECUTCjbmYUSXfVXffACv/6RQgqim43SEdQkEAUzKgbtkJ9oe76XX+aVycEFcUsNUhHUJBA\n",
       "FMx8JUGXPGkso/zA61JTxhumdylUIoV/8W2+Mf8IPP1/1f/X/2H+AE2TXNVgVEZrAAAAAElFTkSu\n",
       "QmCC\n",
       "\" style=\"display:inline;vertical-align:middle;\" /></a>"
      ],
      "text/plain": [
       "{(omega * omega!) + y | ((omega * omega!) in Reals) and (y in Reals)}"
      ]
     },
     "execution_count": 104,
     "metadata": {},
     "output_type": "execute_result"
    }
   ],
   "source": [
    "lambda_expr.apply(fancy_omega_fn, y)"
   ]
  },
  {
   "cell_type": "markdown",
   "metadata": {},
   "source": [
    "### Mocking up **Lambda** operators\n",
    "\n",
    "What if we wanted to represent an expression involving a `Lambda` function applied to operand(s).  We cannot do this using the `Lambda` and `Operation` expression types directly because an `Operation` is only allowed to have *variable* or *iterated indexed variables* as *operators*.   But it would not be consistent with the **Prove-It** philosophy of *freedom of expression* to completely disallow representing such an expression if so desired.  We can, in fact, represent such a thing in **Prove-It** by making an `Operation` class whose *operands* are the `Lambda` function as well as the operand on which we wish to apply the function. As a demonstration, we define such an `Operation`, called `LambdaApplication`, in <a href=\"demo_lambda_app_operation.py\">demo_lambda_app_operation.py</a>."
   ]
  },
  {
   "cell_type": "code",
   "execution_count": 105,
   "metadata": {},
   "outputs": [],
   "source": [
    "# %load demo_lambda_app_operation\n",
    "'''\n",
    "Module that defines a LambdaApplication Operation\n",
    "class for demonstration purposes in this tutorial.\n",
    "'''\n",
    "\n",
    "from proveit import Operation, Literal, NamedExprs\n",
    "\n",
    "class LambdaApplication(Operation):\n",
    "    _operator_ = Literal('LAMBDA_APPLICATION', r'{\\rm LAMBDA\\_APPLICATION}')\n",
    "    \n",
    "    def __init__(self, lambdaFn, operand):\n",
    "        Operation.__init__(self, LambdaApplication._operator_, NamedExprs([('lambdaFn',lambdaFn), ('operand',operand)]))\n",
    "        self.lambdaFn = self.operands['lambdaFn'] # The Lambda function operand\n",
    "        self.lambdaOperand = self.operands['operand'] # The operand of the Lambda function\n",
    "\n",
    "    @classmethod\n",
    "    def extractInitArgValue(operationClass, argName, operator, operand):\n",
    "        '''\n",
    "        Given a name of one of the arguments of the __init__ method,\n",
    "        return the corresponding value as determined by the operator and\n",
    "        operand of the LambdaApplication Operation.\n",
    "        (This is important so that Prove-It knows how to 'make' an altered\n",
    "        copy of this Operation).\n",
    "        '''\n",
    "        assert isinstance(operand, NamedExprs), \"Expecting LambdaApplication operand to be a NamedExprs object\"\n",
    "        if argName=='lambdaFn': \n",
    "            return operand['lambdaFn']\n",
    "        elif argName=='operand':\n",
    "            return operand['operand']\n",
    "\n",
    "    def string(self, **kwargs): # should accept kwargs even when not used (e.g., 'fence')\n",
    "        return self.lambdaFn.string(fence=True) + '(' + self.lambdaOperand.string() + ')'\n",
    "    \n",
    "    def latex(self, **kwargs): # should accept kwargs even when not used (e.g., 'fence')\n",
    "        return self.lambdaFn.latex(fence=True) + '(' + self.lambdaOperand.latex() + ')'\n"
   ]
  },
  {
   "cell_type": "code",
   "execution_count": 106,
   "metadata": {},
   "outputs": [],
   "source": [
    "from demo_lambda_app_operation import LambdaApplication"
   ]
  },
  {
   "cell_type": "code",
   "execution_count": 107,
   "metadata": {},
   "outputs": [
    {
     "data": {
      "text/html": [
       "<strong id=\"lambdaAppExpr\">lambdaAppExpr:</strong> <a class=\"ProveItLink\" href=\"__pv_it/83cfc7154c4727031db76628cab04cdd55606ee70/expr.ipynb\"><img src=\"data:image/png;base64,iVBORw0KGgoAAAANSUhEUgAAAGMAAAAVCAMAAABlnqB7AAAANlBMVEX///8WFhYNDQ1EREQyMjLc\n",
       "3NyYmJgQEBCqqqpUVFRmZmbu7u66urp2dnbMzMwiIiKIiIgAAAABdwX/AAAAAXRSTlMAQObYZgAA\n",
       "AAlwSFlzAAAOxAAADsQBlSsOGwAAAZlJREFUSMelldmOgCAMRZlhpyDl/392WFQoYGJGHozEYy9d\n",
       "YRjjwT6s6X9Jv7Zt8P+3H+1sAQ0lPH7UkElPFkxY3DTfNCBFqgFihQR8i1USVMOplVHulQbKhw96\n",
       "yofeQvCgAePGuKecO6LhxQ4SqhGArhQA2PtvamtUH1ARiIYLF4IWjhBajQXbiMBM8VOlvYbh/X1E\n",
       "rSIa4kxH9g4tMteMKFEJaZgrflq+12DIr+AR1BmiEdvBVU4fJnmegJlYiWxAlwDUR12/P5GslPyd\n",
       "qI4267eGbi+l7XlPzZFOwicou+PBDy96ZQyokjuNWtXYeX0S1X/UbK9xiKHOZnTIh+nnyOoAY6yy\n",
       "b/Z67DTE2CAz2jV4PTxwz2yq1dHSwy8/bBHvbUqaxpP+6ChMfR6qsEkHuOymP73Kpd4IsAFdeuhn\n",
       "R4b/gM49WL0Hh5jbVl2Bi3Lo8yBeDyqCdgu7m0jGkyh5BG3emF/RrqE2Q6fMyUrEnC0b3t1LCzpM\n",
       "PL5EW/KLMIju5Yxf0UED+IzXARE+3+dD6zE53SC1S/8AyX0Sdss7ZwQAAAAASUVORK5CYII=\n",
       "\" style=\"display:inline;vertical-align:middle;\" /></a><br>"
      ],
      "text/plain": [
       "lambdaAppExpr: [y -> y!](x)"
      ]
     },
     "execution_count": 107,
     "metadata": {},
     "output_type": "execute_result"
    }
   ],
   "source": [
    "lambdaAppExpr = LambdaApplication(Lambda(y, Factorial(y)), x)"
   ]
  },
  {
   "cell_type": "markdown",
   "metadata": {},
   "source": [
    "Note that the `_operator_` of the `LambdaApplication` is not displayed but is implicit in the context of the lambda application formatting.  Also, we made use of `NamedExprs` which will be discussed next.  Let us take a look at the expression information."
   ]
  },
  {
   "cell_type": "code",
   "execution_count": 108,
   "metadata": {},
   "outputs": [
    {
     "data": {
      "text/html": [
       "<table><tr><th>&nbsp;</th><th>core type</th><th>sub-expressions</th><th>expression</th></tr>\n",
       "<tr><td>0</td><td>Operation</td><td>operator:&nbsp;1<br>operands:&nbsp;2<br></td><td><a class=\"ProveItLink\" href=\"__pv_it/83cfc7154c4727031db76628cab04cdd55606ee70/expr.ipynb\"><img src=\"data:image/png;base64,iVBORw0KGgoAAAANSUhEUgAAAGMAAAAVCAMAAABlnqB7AAAANlBMVEX///8WFhYNDQ1EREQyMjLc\n",
       "3NyYmJgQEBCqqqpUVFRmZmbu7u66urp2dnbMzMwiIiKIiIgAAAABdwX/AAAAAXRSTlMAQObYZgAA\n",
       "AAlwSFlzAAAOxAAADsQBlSsOGwAAAZlJREFUSMelldmOgCAMRZlhpyDl/392WFQoYGJGHozEYy9d\n",
       "YRjjwT6s6X9Jv7Zt8P+3H+1sAQ0lPH7UkElPFkxY3DTfNCBFqgFihQR8i1USVMOplVHulQbKhw96\n",
       "yofeQvCgAePGuKecO6LhxQ4SqhGArhQA2PtvamtUH1ARiIYLF4IWjhBajQXbiMBM8VOlvYbh/X1E\n",
       "rSIa4kxH9g4tMteMKFEJaZgrflq+12DIr+AR1BmiEdvBVU4fJnmegJlYiWxAlwDUR12/P5GslPyd\n",
       "qI4267eGbi+l7XlPzZFOwicou+PBDy96ZQyokjuNWtXYeX0S1X/UbK9xiKHOZnTIh+nnyOoAY6yy\n",
       "b/Z67DTE2CAz2jV4PTxwz2yq1dHSwy8/bBHvbUqaxpP+6ChMfR6qsEkHuOymP73Kpd4IsAFdeuhn\n",
       "R4b/gM49WL0Hh5jbVl2Bi3Lo8yBeDyqCdgu7m0jGkyh5BG3emF/RrqE2Q6fMyUrEnC0b3t1LCzpM\n",
       "PL5EW/KLMIju5Yxf0UED+IzXARE+3+dD6zE53SC1S/8AyX0Sdss7ZwQAAAAASUVORK5CYII=\n",
       "\" style=\"display:inline;vertical-align:middle;\" /></a></td></tr>\n",
       "<tr><td colspan=4 style=\"text-align:left\"><strong>class:</strong> tutorial.demo_lambda_app_operation.LambdaApplication</td></tr>\n",
       "<tr><td>1</td><td>Literal</td><td></td><td><a class=\"ProveItLink\" href=\"__pv_it/fbb646c2d3d2a69a7335a128097e9ec6e4f167220/expr.ipynb\"><img src=\"data:image/png;base64,iVBORw0KGgoAAAANSUhEUgAAAPYAAAAPBAMAAAAloS8qAAAAMFBMVEX///+YmJiqqqqIiIhmZmbu\n",
       "7u66urpERER2dnbc3NwyMjIQEBAiIiJUVFTMzMwAAAB3DMT4AAAAAXRSTlMAQObYZgAAAAlwSFlz\n",
       "AAAOxAAADsQBlSsOGwAAA09JREFUOMuNlU9IFFEcx386O+uM7k5ziSgQvXR2ySKCwj14DBzoElG4\n",
       "h6CT7BzCyFX0IhhELigYhOxCByWEtaACI/VgJJXMQoZlO2UQdKjY/LvuH5t+79/MWEv1A9/vjb/3\n",
       "+37ee7/33gK41g1/N1+8Lgb/Zf+Q/G7NfKAdeQsbtbdM+g2V62NzBbtnENSE07e6aIg4t84oNmTE\n",
       "PV04phPsLV8FqLlmRy6JlKmJ3IuVKfOK9RiTzrS/NkBbreD05xYA8lmmJ1Gq2q9j21gESEVBfokD\n",
       "9wACs26cWds0aTFTnfE7NK2AGs/X4HOPSNkAaR1qpyFvAnyNgPQIB2Vw7EWMpTg73EE2Uj6dxvb4\n",
       "NltbHGWRDR2GiDNb3gGe2TTgd0CH38GePMMl5Sxhg0ni2ib+syUGauMGLsjHvk0nLrfikrXLnN05\n",
       "z9gHsiJOTb21J9j5eb9jbIuU6AiXVHXKHiTxENmu+mlQDz4x9rFPhX4Q9gmskRTg7Ba+7rqiiLPy\n",
       "JC3Bjqf9jrJr6cQucEktRtmHSbyFHBP8UvW4uY+dVTYIO/Iezwpny68MxlY2RZyVB4abeSZ2fI6y\n",
       "w+ukE3QlKZuO/kjOUrCA7MC6n61GKEWOxJvhKGXfbT2rs00EaUvEqY2wJGxG7vsdY9eLOYoUl50h\n",
       "M9bKpA5W0sdWkmBRdsiECF93cMFj8zi1G0D3P7U4dMzn/mCLlGrsfFqwNYCQbVvNhC0V1Ziod2ea\n",
       "sQO7Ik5tyc4R/ZRJv4SjOu6ey67kb3teWyJsZVOwFYBPSDIJW96VQLDrdhg7/FPE6R3WQS5UZSve\n",
       "WfMkPXZTlp0dZIM1ynPC5BJA/TZhQ6LGZeMSKBsleJzK4h3KGNXYYe+OnXMlPXYDqVTDQ8rOL/Cc\n",
       "MTyTbAyy429cdqjI2MNJEWfHHF82vRp7jA6nlY+6kh5bI29sW4xsHEgF/jIuQQ0KaCW8ATg7E8Ls\n",
       "TYWOCH1TlVk3TuwQyUqzP/Ac1RFv6vk1L4WxyZv6LQrSAyz5AH5PAHyZ27Mzu1qmYsBNZ1JNlHQp\n",
       "JiUq78atp3ZPN6g5x16ZNEQcHMcpOc9AsUoD41aBaHDHdII5h/6WLA+Cm9KVKPetQZdVwMWcbH+L\n",
       "PxH9JTyCo/ALl522Z/o9OJYAAAAASUVORK5CYII=\n",
       "\" style=\"display:inline;vertical-align:middle;\" /></a></td></tr>\n",
       "<tr><td colspan=4 style=\"text-align:left\"><strong>context:</strong> tutorial</td></tr>\n",
       "<tr><td>2</td><td>NamedExprs</td><td>lambdaFn: 3<br>operand: 4<br></td><td><a class=\"ProveItLink\" href=\"__pv_it/e6920e7e27367c223f9e767066ae2427123113e90/expr.ipynb\"><img src=\"data:image/png;base64,iVBORw0KGgoAAAANSUhEUgAAAOQAAAAyCAMAAAB77oeNAAAANlBMVEX///8WFhYNDQ2qqqoyMjIi\n",
       "IiIQEBDMzMxUVFRmZma6urqYmJh2dnbu7u6IiIhERETc3NwAAAByUcp+AAAAAXRSTlMAQObYZgAA\n",
       "AAlwSFlzAAAOxAAADsQBlSsOGwAABGdJREFUaN7lmtli4yoMhplhxyDg/V/2sNkWGCedpqlbHy5m\n",
       "cUDwARLitwlpJXhPblWkgPERRO8uHRNwLr+2vRE8dA9sXC6eeGs+35arqQXHBKY0UR9Wmwn10LLh\n",
       "wo6TKbp+pOdCeKXyX+6NkCGKuQUnsAv6eDo/D8oISWQc+jHRt50j3wjpIj+xYCPqN86Cjn8GyUZI\n",
       "MkKG2Gws9J3bNbITCzICmgr1ZkgHr0NCON1S6sRCQG7oji75lZAhOeTnIDtPpvo08OgTC+6DkAuA\n",
       "takzyYUOAGohBsAXe0ynH3XbiNYCNJ9cm6yQS1mC1QCMg9shHej8q9tml/cs3fhR3Trbn4ekOQpr\n",
       "VjcF5F2+JFtLCWesnENMlzhGi5+bvkmBDOtx1QyEvVvWQ9rUNk9KnENSHDlwXbV8AaQpA/Nii1F1\n",
       "pEzVCJqM+8Zk+iYpuCvFVqxmYJnuxjTEQOvcKD+HJLAnLF3dupte2K7pV2MrZOk72gIp1zVMT3Qy\n",
       "ANWO6ZvU7apXyGoAznwyEZRUbM/H/v7hXYmb03d1K94LkE4rSjEkHCD9Gqob5N6kQtIPQub1d6vx\n",
       "2UoaZvAZvNWtTv/KdjXr7jyFHFYSNQnd2fQcsuxAEPNQk5IwvL/Hui9ACl0mLcgwgVRk/Tfzu0+i\n",
       "Jv8KWbpER1cPycJhePiY+zxk+QWiTDuCHSB5nlmVnTSUrFWVH1ET2UGyAfIQXYlWeXr2yNQN2/SD\n",
       "3Ou604znGaT0Ufg0TAUUnGVQ/i+X9KcilsV8NHlHjYFq2ulyTubcY2+iUqRgSiKD2cCeE4/nZDr1\n",
       "LOh4ktnoPv9FdV9IBi66aln2D40YeXG7fj9kjiU1rXhejnWnkAol6/ZHQHJoLv6Ri/Kh7iz7Rdcr\n",
       "iOZHQNKUCn90JMe6M0i2X5QFv153si9rPGICSbdQrUUgdy1rrNZCkvsWnRfYcU1uXWjK4ROkuzWk\n",
       "yXH49ttV3j7w7KIkZ+/pYR7Wv3Wv7tn+25IBeXWWgVTz96V1V0Oiy9z7EvSLIXGCfmPIZ1ctp2sO\n",
       "nF9fLVqr5sIhPy5PgdqsSIzyc7v5I7X5cEN2qZqT1tKrIWXRhH3R/VBqJPN5A6zIHDSk4HWUn3M7\n",
       "rDYftY5kKU+G5ldDcrvLVKpm9GZbkJgQOC/y51F+zkuO1ebWyW46S4iQWqjlYkgZ617Kgbdqj6WW\n",
       "rAdPlnjY5tSD/AzkoDYPtrdZuBiStvHlu/WuIqfHeslFbk+n8rN8CLnWuhxyW0k9rOQWLNqbu6n8\n",
       "7J5Blv3t3NU+WTTiNBjkk5KsLzyzItog5/IzVpsPXXtDVE5FLLk8upb0vZCUryhci0QlHbVhOxPm\n",
       "8jNWm8fommbL6RSjDL0cMh2I1qr6tlWls1C1RQkqPQ/EZK04j/IoPxf1GKnN4zmZD2BC9UK/2Scf\n",
       "vzlnv1U8+F9A4g8j5p+4oLxA/VLI7nrl44Ngbuqrn99YAH+s9BPeE7zDJQXrpRB6Q0Y2iFcQbye/\n",
       "Gs5HJ7vzR73/AZZKQexSmSR+AAAAAElFTkSuQmCC\n",
       "\" style=\"display:inline;vertical-align:middle;\" /></a></td></tr>\n",
       "<tr><td>3</td><td>Lambda</td><td>parameter:&nbsp;7<br>body:&nbsp;5<br></td><td><a class=\"ProveItLink\" href=\"__pv_it/5d5f9dd04ff796361d972471e8c7b891f650f1c50/expr.ipynb\"><img src=\"data:image/png;base64,iVBORw0KGgoAAAANSUhEUgAAADoAAAATCAMAAAD2xu7kAAAANlBMVEX///8WFhYNDQ0iIiLMzMy6\n",
       "urpEREQyMjLc3NyYmJgQEBCqqqp2dnZUVFRmZmaIiIju7u4AAACsdILgAAAAAXRSTlMAQObYZgAA\n",
       "AAlwSFlzAAAOxAAADsQBlSsOGwAAANNJREFUOMudk1kOwyAMRN2yhc3g+1+2caQEjIiK4APJ8IaM\n",
       "lwBsLpV3lQeFXWkltSsFcn+AcrzdhEmutQ8ivpbpvKkFCyvuV2QOIupRlwASRC6Wp6k02i7o0ezh\n",
       "iICccbZTKRT7ZCBQjJxaYBfXxuv7UWIRmVaFhiY+NXSeadLzrxpnuqChnmt/mShhWhjQrq/4gILN\n",
       "9zaROtHYAQXM7MQ/poRd2deG1muaak4FaT42qOW4NFTdjya3PLwdyqnXEFdUI6rOLuW09nsPaCwF\n",
       "zZpXif4AktEIW4A5+q8AAAAASUVORK5CYII=\n",
       "\" style=\"display:inline;vertical-align:middle;\" /></a></td></tr>\n",
       "<tr><td>4</td><td>Variable</td><td></td><td><a class=\"ProveItLink\" href=\"../packages/proveit/__pv_it/72df168d2bfb4e0140af90912ebf83b13772060b0/expr.ipynb\"><img src=\"data:image/png;base64,iVBORw0KGgoAAAANSUhEUgAAAAsAAAAJBAMAAAAWSsseAAAAMFBMVEX///8QEBC6uroyMjJERETc\n",
       "3NyYmJgiIiJmZmaqqqp2dnbMzMxUVFSIiIju7u4AAAAoIwv1AAAAAXRSTlMAQObYZgAAAAlwSFlz\n",
       "AAAOxAAADsQBlSsOGwAAAENJREFUCNdjYHh75/WqCQwMDbxnOQoY2AJ4v/IkMHAzsBgwgAD/BTCl\n",
       "H8D3gOGJwnkGLgaG+fsaGTQZGF7c5WybwAAAJGsQ2L2rVEcAAAAASUVORK5CYII=\n",
       "\" style=\"display:inline;vertical-align:middle;\" /></a></td></tr>\n",
       "<tr><td>5</td><td>Operation</td><td>operator:&nbsp;6<br>operand:&nbsp;7<br></td><td><a class=\"ProveItLink\" href=\"__pv_it/aa12b7bd0644650f874cca2fe3ca8fd00ba1705d0/expr.ipynb\"><img src=\"data:image/png;base64,iVBORw0KGgoAAAANSUhEUgAAAA8AAAATBAMAAAC97EqZAAAAMFBMVEX///8iIiLMzMy6urpEREQy\n",
       "MjLc3NyYmJgQEBCqqqp2dnZUVFRmZmaIiIju7u4AAACJ/BCYAAAAAXRSTlMAQObYZgAAAAlwSFlz\n",
       "AAAOxAAADsQBlSsOGwAAAH5JREFUCNdjYAADxg0QmiG/Acp4LwBl8AdAGRwwNYwHGPjuXGB4zcC6\n",
       "gIGLs4GhnoG7gCGTJ4BhCwPPBIYHHBcYehm4DBgY7B8wfWJgT2BgOMrACzHWm4EFYshpBvsChvdA\n",
       "k1+vPZ8AMhAIloJleAL4OiG2XOBeAGZw3j0MpgHekh2sPl68lQAAAABJRU5ErkJggg==\n",
       "\" style=\"display:inline;vertical-align:middle;\" /></a></td></tr>\n",
       "<tr><td colspan=4 style=\"text-align:left\"><strong>class:</strong> tutorial.demo_operations.Factorial</td></tr>\n",
       "<tr><td>6</td><td>Literal</td><td></td><td><a class=\"ProveItLink\" href=\"__pv_it/78dd4cc5361370b310f93f7eedb52f594829fd9b0/expr.ipynb\"><img src=\"data:image/png;base64,iVBORw0KGgoAAAANSUhEUgAAAAMAAAAPBAMAAADTxGj3AAAAJ1BMVEX///+6urqqqqqYmJh2dnZm\n",
       "ZmYyMjLu7u4QEBDc3NxUVFQiIiIAAABmOgpVAAAAAXRSTlMAQObYZgAAAAlwSFlzAAAOxAAADsQB\n",
       "lSsOGwAAADBJREFUCNdj4F7AMKeBoWYDA08CA8cCBu4ABjYHBi4DBlYFBhYBBuYJDBBQkwCUAgC+\n",
       "PgbmD97N+AAAAABJRU5ErkJggg==\n",
       "\" style=\"display:inline;vertical-align:middle;\" /></a></td></tr>\n",
       "<tr><td colspan=4 style=\"text-align:left\"><strong>context:</strong> tutorial</td></tr>\n",
       "<tr><td>7</td><td>Variable</td><td></td><td><a class=\"ProveItLink\" href=\"../packages/proveit/__pv_it/c6e291955561f22a0e6708fd793ea93f1c7dbb5d0/expr.ipynb\"><img src=\"data:image/png;base64,iVBORw0KGgoAAAANSUhEUgAAAAsAAAANBAMAAACN24kIAAAAMFBMVEX///8iIiLMzMy6urpEREQy\n",
       "MjLc3NyYmJgQEBCqqqp2dnZUVFRmZmaIiIju7u4AAACJ/BCYAAAAAXRSTlMAQObYZgAAAAlwSFlz\n",
       "AAAOxAAADsQBlSsOGwAAAFdJREFUCNdj4LtzgeE1AwMXZwNDPQNDJk8AwxYGhgccFxh6GRgY7B8w\n",
       "fQJSRxl4G4CUNwPLBiB1msG+AEi9Xns+gQEElgIxTwBfJ5BivMC9AEhx3j0MJAH6nBTYXSPRQAAA\n",
       "AABJRU5ErkJggg==\n",
       "\" style=\"display:inline;vertical-align:middle;\" /></a></td></tr>\n",
       "</table>\n"
      ],
      "text/plain": [
       "0. [y -> y!](x)\n",
       "   core type: Operation\n",
       "   class: <class 'demo_lambda_app_operation.LambdaApplication'>\n",
       "   operator: 1\n",
       "   operands: 2\n",
       "1. LAMBDA_APPLICATION\n",
       "   core type: Literal\n",
       "   latexFormat: {\\rm LAMBDA\\_APPLICATION}\n",
       "   context: tutorial\n",
       "   class: <class 'proveit._core_.expression.label.literal.Literal'>\n",
       "   sub-expressions: \n",
       "2. {lambdaFn:[y -> y!], operand:x}\n",
       "   core type: NamedExprs\n",
       "   class: <class 'proveit._core_.expression.composite.named_exprs.NamedExprs'>\n",
       "   lambdaFn: 3\n",
       "   operand: 4\n",
       "3. y -> y!\n",
       "   core type: Lambda\n",
       "   class: <class 'proveit._core_.expression.lambda_expr.lambda_expr.Lambda'>\n",
       "   parameter: 7\n",
       "   body: 5\n",
       "4. x\n",
       "   core type: Variable\n",
       "   latexFormat: x\n",
       "   class: <class 'proveit._core_.expression.label.var.Variable'>\n",
       "   sub-expressions: \n",
       "5. y!\n",
       "   core type: Operation\n",
       "   class: <class 'demo_operations.Factorial'>\n",
       "   operator: 6\n",
       "   operand: 7\n",
       "6. !\n",
       "   core type: Literal\n",
       "   latexFormat: !\n",
       "   context: tutorial\n",
       "   class: <class 'proveit._core_.expression.label.literal.Literal'>\n",
       "   sub-expressions: \n",
       "7. y\n",
       "   core type: Variable\n",
       "   latexFormat: y\n",
       "   class: <class 'proveit._core_.expression.label.var.Variable'>\n",
       "   sub-expressions: "
      ]
     },
     "execution_count": 108,
     "metadata": {},
     "output_type": "execute_result"
    }
   ],
   "source": [
    "lambdaAppExpr.exprInfo(details=True)"
   ]
  },
  {
   "cell_type": "markdown",
   "metadata": {},
   "source": [
    "**Axioms** could then be created to define how the `LambdaApplication` **operation** actually operates, but **axioms** will be discussed in a later chapter."
   ]
  },
  {
   "cell_type": "markdown",
   "metadata": {},
   "source": [
    "NamedExprs\n",
    "=========\n",
    "\n",
    "`NamedExprs` is a composite **expression** that maps string keywords to sub-**expressions**.  The reason that this may be desired is to be explicit in the internal representation about the role of each sub-**expression** so there is no ambiguity between the internal and external representation.  A good example is the `lambdaAppExpr` $[y \\mapsto y!](x)$ defined above, where one *operand* plays the role of the lambda function and the other *operand* plays the role of the lambda function's operand."
   ]
  },
  {
   "cell_type": "markdown",
   "metadata": {},
   "source": [
    "Here is a more rudimentary demonstration of using **NamedExpressions**:"
   ]
  },
  {
   "cell_type": "code",
   "execution_count": 109,
   "metadata": {},
   "outputs": [
    {
     "data": {
      "text/html": [
       "<a class=\"ProveItLink\" href=\"__pv_it/fb6f2108416533d7b26cfacb27c836737b91efdd0/expr.ipynb\"><img src=\"data:image/png;base64,iVBORw0KGgoAAAANSUhEUgAAAMsAAABMCAMAAAD0kLNhAAAAOVBMVEX///96enoQEBDc3Nyjo6Mh\n",
       "ISHMzMwyMjJ2dnYiIiK6urpERESIiIhmZmZUVFSYmJiqqqru7u4AAACUtAQIAAAAAXRSTlMAQObY\n",
       "ZgAAAAlwSFlzAAAOxAAADsQBlSsOGwAABVVJREFUaN7tm9l22yAQhik07Pv7P2zZZAECW1FtRc4x\n",
       "F2ktSz58zAwMPyMAbs1Z8H4N8dFV4/UbsnAv3OaiekuUCMNQd0l68fg5I/klYfoLvjcVJrCzFLHY\n",
       "XxCm9yjm6fYm1t5jGEDaAXo1Fuc9vm+W0ETLotNHpC5nGNEYRnsCHrMkCnk9FtNYgnm1kwV7dcHo\n",
       "r53MezllQUpGW2ANodZWexb+VqOwojkptcOU2h8IGLuLBcMwfUtyixem2p9ZnTN8IbUEip1uGO/N\n",
       "5EPLkvsewUcsYHVUE5k9AtpclQXnbwidsFTrUXyC/EjA7GSxXpnY8EOW9Dvyyix4DauVhU4nlOBn\n",
       "zl02XkoiwxcWMmFxgodlCoCfyAv2smAYUzAaBlyk7JOSurvrPGY9dgoGaHtBFiw8FAEBaUUDChbQ\n",
       "C5lcjaLB+uLCMgSsMvaa8fI2ren+19ffd2Zpuv+b7PJh+bB8WD4sH5YPy9NY5GTD3DcEG1BMoLoc\n",
       "y5rt4lYt2+xKur43GuAVpD9WCWTG+7s6x1CfKUa7go1UpaDo72n8NcslpD+8in3urot1wdOyXET6\n",
       "Y7fgp8MOcQalpQShovdzTbWRlkUWJKMSFjaTrfTXCH8q3uD0SYYpohzyE3XOK4viZJ1iHUczhhmN\n",
       "x82yiZ9RL8vUwh8FFqZIPMcwNBvGMYgmlmM57pNPabb8AQImUtOzVJMEskAlrVOc5GU6riqOiZkI\n",
       "RHQV6zVL6mAeiYlcFm0Yv4enCWYywNh53BNVsfDoY8zsZCn34/2Tyn+32Cs6zV8IrVicirEPRizD\n",
       "5TK5mIRnkSDGXFppzA4Wy5sRWFhm0l9+SJx1No0gdGV2HnvC4j+p75xgjPL9pGKppb96HgNKRz87\n",
       "K2Uly6EwH07KPGp9Nmp+EMbpgfjQmMwaIDbC57Sslv6aCVpTqTw6K/Bvowh3jF/Ecsiy70xM9KQj\n",
       "jJC48FFuNmm2LBRm54IRQ9/BkwRZ42E1f/pHBw2O4Zt5dmVIwX76rP2AqIpGsH9cT+EolZKqveuF\n",
       "lVKdVqMBfX3y8Hv2yB/t4sPyYbk2C3riIz/MIg8so1y+lEUyeGgVsfSZA/Aku9ytWpx22B1M1Ijb\n",
       "w/LncNzNWeY6oDo4dEZNWP48JV7usMx1wMPbTeheGftzlrkOyGcupstUhWY3EHOIhTNIjVJpj7/o\n",
       "frm8YkkaY7aZ4iWX/xqWVRenaCzum+uAQJVA2lQCopyNl3/KPbVoSPVBu8A4R7lSDJd1P5yKtFMt\n",
       "Sd6d0GwXJlKKKtPWO1znEM91wNvobisBE0WN0omGhhxkyfqYTb0tuh+j2XvwUveGMkslZ5B43Ub9\n",
       "cKIDhi+yIUaVgIGjQelEQ8uOsqg8ourGtVSThf2CK6pnz+LWvcRUOytr0rASELEapRcNsf8vFpA2\n",
       "bfn/tkR6uIQnLHjdSzxiWdWcOUsnGnL4DLvQxi7qjl1UzTJcLoldO9pVAvY+1omGx32sxAtedb98\n",
       "VMnjpayS1fGC1ngJj93TAfMwDCoBt7HfioZj6aRjGaVtJAawy+Fe/AXDGxhKnqLzkzKOl0mk+ag2\n",
       "imZTHZAug9RXAg7m5FY0VHIsKdXV38NljWgTFgBe6X4xL6FUZ3cP60hcX/JJE6XGOAhJWgpSIeAd\n",
       "HZCz/PymElDg7VrZiIZslPej5lxv/G4Cedn5Hfum/L+IhoiN5bFaEhsLZK9jMft/uRENxzlpd3TM\n",
       "RgHDXqfSi93bylo0RMPId526x/0mA+WlDvYlze0++6tFw/EJ3uZEn578Gh86kJib4cgOTin0BV/S\n",
       "2SUC+MHRsXzLFyyxHzoeest3eKtO/wMxj0zW+yPhoQAAAABJRU5ErkJggg==\n",
       "\" style=\"display:inline;vertical-align:middle;\" /></a>"
      ],
      "text/plain": [
       "{left:x, right:y, product:(x * y)}"
      ]
     },
     "execution_count": 109,
     "metadata": {},
     "output_type": "execute_result"
    }
   ],
   "source": [
    "from proveit import NamedExprs\n",
    "NamedExprs([('left',x), ('right',y), ('product',Multiply(x, y))])"
   ]
  },
  {
   "cell_type": "markdown",
   "metadata": {},
   "source": [
    "To produce a `NamedExprs` object, you must supply a list of (keyword, `Expression`) pairs.  The keywords must be strings, but can be any string desired.  When the **NamedExprs** is displayed, it will show each of these pairs in the order that they were originally provided."
   ]
  },
  {
   "cell_type": "markdown",
   "metadata": {},
   "source": [
    "Iter\n",
    "=========\n",
    "\n",
    "It is common in mathematical notation to use ellipses ($...$) in representing an unspecified number of parameters or operands.  The `Iter` expression type serves this purpose."
   ]
  },
  {
   "cell_type": "markdown",
   "metadata": {},
   "source": [
    "To create an `Iter`, supply a *parameter*, *body*, and *start* and *end* indices."
   ]
  },
  {
   "cell_type": "code",
   "execution_count": 110,
   "metadata": {},
   "outputs": [
    {
     "data": {
      "text/html": [
       "<strong id=\"it\">it:</strong> <a class=\"ProveItLink\" href=\"__pv_it/d3d528d5753ef121f69e0610cd4a243f2297595c0/expr.ipynb\"><img src=\"data:image/png;base64,iVBORw0KGgoAAAANSUhEUgAAAI8AAAAuBAMAAADjDVfrAAAAMFBMVEX///+6urrc3NyYmJiqqqp2\n",
       "dnYQEBBERESIiIgyMjJmZmZUVFTu7u4iIiLMzMwAAACTvm51AAAAAXRSTlMAQObYZgAAAAlwSFlz\n",
       "AAAOxAAADsQBlSsOGwAAAX9JREFUSMdjYIADvjsMpIG3B7AKn175hyRjeHbNx24QA8cfEl3UP2rQ\n",
       "qEEjySDusr87SDJne/7tBoZRMAqoC/5jBR9IVI9Hw+ADPJhCB8gy6PwEKMHzE5lBOuAFVeC8C4DE\n",
       "LRjjLulO6gJiHwxRFpwG8dXgkLgKxAEYoqw4LeaYgMoXRg5szELrBBqf0QCXwR5IbGZMaXR9LA3E\n",
       "GEQEQDPoRPe5UAcUg3i68JXFCPVwg060g8gFHDu4LqAYxMqYgMcghHq4QQvYgL5mVuD4xG2AYpAK\n",
       "1wTc5iCphxnErMAPdCIfAztE29q7d9Pu3r0Nygr8eLwGU8919+613Lt3N4AF/cEpDKENFtj+eJMw\n",
       "XD0isNeCSXkFngOoBs3GG1lw9QiDQAn4uMB+eJKFxdoX3GkYWT3cIKaPIG+8WcYggmoQ4wdl3AYh\n",
       "qYcbxAwqH091sCx2QAujCgPcBiGphxvEXUCllM2GHsvCpBkEzbTcDvbklZ3o4L3DFeqU7lxdAkAS\n",
       "AAUCqfVfXUXTAAAAAElFTkSuQmCC\n",
       "\" style=\"display:inline;vertical-align:middle;\" /></a><br>"
      ],
      "text/plain": [
       "it: (1 / (x + i)),...,(1 / (x + j))"
      ]
     },
     "execution_count": 110,
     "metadata": {},
     "output_type": "execute_result"
    }
   ],
   "source": [
    "from proveit import Iter\n",
    "from proveit._common_ import i, j, k\n",
    "from proveit.number import one, Add, frac\n",
    "it = Iter(k, frac(one, Add(x, k)), i, j)"
   ]
  },
  {
   "cell_type": "markdown",
   "metadata": {},
   "source": [
    "For compactness, we only show the start and the end instances.  It is implicit that our index parameter ($k$, which is not explicitly shown) is that our index ranges from $i$ to $j$ in increments of $1$.  (Future style options could be implemented, if desired, to make the representation more explicit at the expense of being less compact without changing any of the inner workings of the `Iter` expression type.)"
   ]
  },
  {
   "cell_type": "markdown",
   "metadata": {},
   "source": [
    "Looking at the expression information, we see that there is just one direct sub-expression of the `Iter` object which is a `Lambda` with a `Conditional` body.  The *condition* of the `Conditional` is that the index is in the integer interval between $i$ and $j$ inclusively. "
   ]
  },
  {
   "cell_type": "code",
   "execution_count": 111,
   "metadata": {},
   "outputs": [
    {
     "data": {
      "text/html": [
       "<table><tr><th>&nbsp;</th><th>core type</th><th>sub-expressions</th><th>expression</th></tr>\n",
       "<tr><td>0</td><td>Iter</td><td>lambda_map:&nbsp;1<br></td><td><a class=\"ProveItLink\" href=\"__pv_it/d3d528d5753ef121f69e0610cd4a243f2297595c0/expr.ipynb\"><img src=\"data:image/png;base64,iVBORw0KGgoAAAANSUhEUgAAAI8AAAAuBAMAAADjDVfrAAAAMFBMVEX///+6urrc3NyYmJiqqqp2\n",
       "dnYQEBBERESIiIgyMjJmZmZUVFTu7u4iIiLMzMwAAACTvm51AAAAAXRSTlMAQObYZgAAAAlwSFlz\n",
       "AAAOxAAADsQBlSsOGwAAAX9JREFUSMdjYIADvjsMpIG3B7AKn175hyRjeHbNx24QA8cfEl3UP2rQ\n",
       "qEEjySDusr87SDJne/7tBoZRMAqoC/5jBR9IVI9Hw+ADPJhCB8gy6PwEKMHzE5lBOuAFVeC8C4DE\n",
       "LRjjLulO6gJiHwxRFpwG8dXgkLgKxAEYoqw4LeaYgMoXRg5szELrBBqf0QCXwR5IbGZMaXR9LA3E\n",
       "GEQEQDPoRPe5UAcUg3i68JXFCPVwg060g8gFHDu4LqAYxMqYgMcghHq4QQvYgL5mVuD4xG2AYpAK\n",
       "1wTc5iCphxnErMAPdCIfAztE29q7d9Pu3r0Nygr8eLwGU8919+613Lt3N4AF/cEpDKENFtj+eJMw\n",
       "XD0isNeCSXkFngOoBs3GG1lw9QiDQAn4uMB+eJKFxdoX3GkYWT3cIKaPIG+8WcYggmoQ4wdl3AYh\n",
       "qYcbxAwqH091sCx2QAujCgPcBiGphxvEXUCllM2GHsvCpBkEzbTcDvbklZ3o4L3DFeqU7lxdAkAS\n",
       "AAUCqfVfXUXTAAAAAElFTkSuQmCC\n",
       "\" style=\"display:inline;vertical-align:middle;\" /></a></td></tr>\n",
       "<tr><td>1</td><td>Lambda</td><td>parameter:&nbsp;17<br>body:&nbsp;2<br></td><td><a class=\"ProveItLink\" href=\"__pv_it/a004b8978f8801c74d8eb50f2801cdbbd71e359c0/expr.ipynb\"><img src=\"data:image/png;base64,iVBORw0KGgoAAAANSUhEUgAAAP8AAAAbCAMAAACEA6lsAAAANlBMVEX///8WFhYNDQ3MzMzc3NyY\n",
       "mJiIiIhUVFR2dna6urqqqqpmZmYyMjIiIiIQEBBERETu7u4AAADpXcuUAAAAAXRSTlMAQObYZgAA\n",
       "AAlwSFlzAAAOxAAADsQBlSsOGwAAAr5JREFUWMPdmNm2pCAMRekmhHn6/5+9WLdwQFAcaujOQy1X\n",
       "CR63CUmAkJdZYGbjbiT/pHFrLTyvFVcbIymi/Wp+TCjq6KSZS40P22PV/fxByuOTQEHjDmPn+YXb\n",
       "G3s/PxoVTkyjvOGqK/zc3McfvLMd4ipmDNS96L/knjf5O7XX/P5O/5seIDE+0IruiClmVvxv9Of5\n",
       "ozrEf9Q2+aP6OL+MqwWKPuVna17PX9GeXgLew79KptJgeJP/C+2FrNKn+UGYqLGT36T8pFCP2mBC\n",
       "myLgxnMXKIh+n7/QXo60TX7vyRVb5v/IiFLgxnJkqhVbP5MZka5LIznv+Uh07fxfaC+JlW/wD9Nu\n",
       "41cRpCJ0oq7WVviVBJU/xI4xGHMb1HPcwF9q2zINhRo/NbUQjDvW4teO0UXVdvZpftbEWJkXaMTO\n",
       "rzx2DOCNqvOX2n//2IXFKNf8zMLF7nvBb40WdNEP1VazzklBxd4uUGdvCiMb/i+1bZmIZc3/0uB9\n",
       "/CF9Yhk3XiKnHD5lyz7LfVIK8kb8r7SX0rRIxOfWP7O4xc/i8DxFpkGIG1VsGNrX/0GOXdHMfyvt\n",
       "JX+ZiA/l/6l4OrnFP5TSkHwwg6qt1swvIwGWvWBaF/nD7tS/lfbiTeX5+j98oskPm/Hv1WNLM+94\n",
       "AvcytLoYj2PsWd28mL9jm7+iPfcgPciPqEFoKPiZJ1Bs2Xb3v1L4y/2vw57+/+T+19f75fR/Dt5x\n",
       "BEdQwcHV/f8hfq5S+Ic387MhOAkt49+JdINePv9A1z+Wppw2HW81Gqbb+QewB6f2ydzww4blr1cL\n",
       "6Qx/cAd2qhq1nCayd53/0AQGhf/T8peWwPXzL9BcHZ9FRWvWFf5aMIJLjRYZa4kflz+htijZX3H+\n",
       "fYW/1oUFzqRAEQr+oYngjP4X/N3n//P8t3/+9QFDax17qYL+av6H/QBgxiBxkShuIwAAAABJRU5E\n",
       "rkJggg==\n",
       "\" style=\"display:inline;vertical-align:middle;\" /></a></td></tr>\n",
       "<tr><td>2</td><td>Conditional</td><td>value:&nbsp;3<br>condition:&nbsp;4<br></td><td><a class=\"ProveItLink\" href=\"__pv_it/683a5715cda20918f6e6ad6c99b8d4ec093c97e90/expr.ipynb\"><img src=\"data:image/png;base64,iVBORw0KGgoAAAANSUhEUgAAALUAAAAbBAMAAADIa9MEAAAAMFBMVEX///9mZma6urrc3NwiIiKI\n",
       "iIjMzMyYmJgQEBB2dnbu7u5EREQyMjJUVFSqqqoAAABfjFPjAAAAAXRSTlMAQObYZgAAAAlwSFlz\n",
       "AAAOxAAADsQBlSsOGwAAAjtJREFUSMdjYMAAyw+gcD8wUAD47qFw2UIdqGf26QVodhFt9iIFXDLM\n",
       "j8EUZwMDmWaznluAUy53F4jkPUCM2Vw7HDD0vwcZHYjFYDagwXvBZm8gyt08AhhGTAERntg8dAAq\n",
       "SaTZ/A+wm40LkGK2PixsWbe4+FDZ7BlQLtPRBeS7m3nOxwAsZp9leCoFom0WIGvnCgzANHZpNMxs\n",
       "7g34kz80nXzne9wOYhxGyMgAEzBTA6YOAY4CBoYIEGt9ATFm833WYwMbi0ixzN8ZGOwYD2BoYDcA\n",
       "xbs9ELMdhQvy/0cFH5DMZmxPgCTdFhcXF28w6wowVy7gxxIm4ITPvOcBQ4kBAzHuZjk4DRI2iBBc\n",
       "eAqWf9CBCCi7HwLFO1Fmr1fQhzgcKRHtBUcxFgDKT+8NcIY3uyuq2fUM6x+AvR+Kksy4/nFiKag+\n",
       "wdIsZjoB5+4mVLNvM6xPmADO+w+QzWb6YA5yHjBCuf4wQAkG9g848w4DSID5A6rZ+xhYRcFBy3Vb\n",
       "Czl7bAX5mgXkGkcGGAE2Ed1s1kBLYajZ7BtMBbCXsUyzCeV5jgAsZgfzbjgHNZs3+FUzofIbu9m8\n",
       "D+oXYDG7gDsgAWo2x3SGBEJmR2AVzX/gB820qOHNn8DAuHt39+7tDPaCCQTrnRUPsIkyBoJqOq52\n",
       "9Honn8EA6u5qJgcDQmYzyz7AJcU2FyzFCi9tmBvmMEyAmn2VzWECFep5eNbiuq4ZuQBq9mGG6wlU\n",
       "MButfQIxm0rtEwas+ZIKZgMAyou5m55fgs8AAAAASUVORK5CYII=\n",
       "\" style=\"display:inline;vertical-align:middle;\" /></a></td></tr>\n",
       "<tr><td>3</td><td>Operation</td><td>operator:&nbsp;5<br>operands:&nbsp;6<br></td><td><a class=\"ProveItLink\" href=\"__pv_it/c51919144d22bfa91f2d151611906e9172f55b9d0/expr.ipynb\"><img src=\"data:image/png;base64,iVBORw0KGgoAAAANSUhEUgAAADEAAAAsBAMAAAA++k1qAAAAMFBMVEX///+6urrc3NyYmJiqqqp2\n",
       "dnYQEBBERESIiIgyMjJmZmZUVFTu7u4iIiLMzMwAAACTvm51AAAAAXRSTlMAQObYZgAAAAlwSFlz\n",
       "AAAOxAAADsQBlSsOGwAAAMRJREFUOMtjYEACbw8wYAU8u+bjkGFg6B+VwS2zPf92A8PwBf9xgA+D\n",
       "1L3Hc3FKzUIXEIYxvqDLeEBpxj+4ZFgTwNSJ7nOhDqgynBtYuoCJZQHHDq4LqDLnDVzUDBiYFTg+\n",
       "cRugyvgrOrxUYOBjYJ8A5q69ezft7t3bIOYyO4gK/gZ0F9xc+gBMyyvwHECR4fnI+A8UEgL7GVhR\n",
       "9TB/4PnCAbTtzTIGEVQZ7gKef0DFpzpYFjugyrA7MHT1YA8DTCCMzAEACQdYHkHzWwQAAAAASUVO\n",
       "RK5CYII=\n",
       "\" style=\"display:inline;vertical-align:middle;\" /></a></td></tr>\n",
       "<tr><td>4</td><td>Operation</td><td>operator:&nbsp;7<br>operands:&nbsp;8<br></td><td><a class=\"ProveItLink\" href=\"__pv_it/fc8b9b3dd5f4c3723a7bc7f59762e46e8d46dbf50/expr.ipynb\"><img src=\"data:image/png;base64,iVBORw0KGgoAAAANSUhEUgAAAGcAAAAVBAMAAACphe0AAAAAMFBMVEX////MzMzc3NyYmJiIiIhU\n",
       "VFR2dna6urqqqqpmZmYyMjIiIiIQEBBERETu7u4AAADM1VnsAAAAAXRSTlMAQObYZgAAAAlwSFlz\n",
       "AAAOxAAADsQBlSsOGwAAAWBJREFUOMtjYMAGnhcw4ABMTbhkWFY8wCXFIHoPSPDd2YAh0Q/S44lF\n",
       "hyxQ4iqIwTUBQy4bRGzDoskLJsnfgF0TLgCWrIe5n+X27l3EasqBctiXPCDepqUMLfNAtNYDZHE+\n",
       "TwcM5XwuF6Ca+D5zNB0GCS1CyM5iYGBjP4ChiZMBpNAHiDk+VTCC1S9AROBnBgYNzgUYmowYfgBJ\n",
       "fWDAcR4WAIswnt69e/deMCsamB4e8GM6j4HjH8jIWw0M3CsTIQ6+AJd7uQ4WwejuA6UDtuUMDO8L\n",
       "6iFWISWMq+DwwQTcCSDTFBgY7BneN4Bd4oISqnw/2DA16RdAoyiW4b1AAjg5NSBrYv+gDGS8B4YG\n",
       "3y8oA2QBNMhvMLBMATufL7YOOf6uGIDcA0qXO2EMoAUYMc+eSygZHcEniV08gvkfPk0+2AQZf3A3\n",
       "QJMLVvCmAZvolOlgrx/GVRBMbcCVxhlTgVIACshcgJzv/isAAAAASUVORK5CYII=\n",
       "\" style=\"display:inline;vertical-align:middle;\" /></a></td></tr>\n",
       "<tr><td>5</td><td>Literal</td><td></td><td><a class=\"ProveItLink\" href=\"../packages/proveit/number/division/__pv_it/7a11ad25d6e61156459ac6819a1cec8fded2dde30/expr.ipynb\"><img src=\"data:image/png;base64,iVBORw0KGgoAAAANSUhEUgAAAA4AAAAMBAMAAACgrpHpAAAAJFBMVEX///9UVFQiIiJmZmaIiIiY\n",
       "mJi6urrc3Nzu7u4yMjJEREQAAABC8rhfAAAAAXRSTlMAQObYZgAAAAlwSFlzAAAOxAAADsQBlSsO\n",
       "GwAAACNJREFUCNdjYGBgWNnAAALsuxPANEMIAxZgpAQCigx4ADZzADtEBjyBzt3FAAAAAElFTkSu\n",
       "QmCC\n",
       "\" style=\"display:inline;vertical-align:middle;\" /></a></td></tr>\n",
       "<tr><td>6</td><td>ExprTuple</td><td>9, 10</td><td><a class=\"ProveItLink\" href=\"__pv_it/9ec4022bd366258bd6779a46130ba3b73153c39c0/expr.ipynb\"><img src=\"data:image/png;base64,iVBORw0KGgoAAAANSUhEUgAAAFEAAAAVBAMAAADMaB9/AAAAMFBMVEX////MzMxUVFREREQiIiK6\n",
       "uroQEBCYmJhmZmYyMjLu7u52dnaqqqqIiIjc3NwAAACFAiZ1AAAAAXRSTlMAQObYZgAAAAlwSFlz\n",
       "AAAOxAAADsQBlSsOGwAAAU5JREFUKM9jYGB4wEAYgNXwHiBCZSyIOA3EjF441XCZOUCN45rAwLCo\n",
       "8xdu4zgbQOQsBgaOApAWLCrDoTQ/2HUVDAxsDDhUnoXS8QtAJNsChkhCKrdB3FDA0I2icu2lhbsP\n",
       "oKqcxHC2i4GBW4FhOorKBl5dDgcUlVzfec6lMzCwT2DwQVbJ/oD3H1MBikqefzGM84CUA0MqskpG\n",
       "BuYJYEaLi0uai4sTkMWRLgCW+YCqEhgmF9B8xDJjI4hiTWCYg6oy/gHXAhSV6wPiQYYCbbeFqeQC\n",
       "0osD9Bm4Uc2sZ1h/AGgPuwHDJpjK9UAXnpdqY4hBVanMsF5gA9C5FxhCgDwmsy+6DCzAVLLiLk/7\n",
       "AVSVNgy8vUD3sDxgYBGAOfEU9jiCgCdABzTAOBuwpxAIaAdiO1hCvIAnJfMZgPwL5bDjS/PMoKDj\n",
       "KyAid9QxMAAA949XTjHAguoAAAAASUVORK5CYII=\n",
       "\" style=\"display:inline;vertical-align:middle;\" /></a></td></tr>\n",
       "<tr><td>7</td><td>Literal</td><td></td><td><a class=\"ProveItLink\" href=\"../packages/proveit/logic/set_theory/membership/__pv_it/7776fc89cb67d0b5b1ec2c0c8e08da5587921ccf0/expr.ipynb\"><img src=\"data:image/png;base64,iVBORw0KGgoAAAANSUhEUgAAAAwAAAAMBAMAAACkW0HUAAAAKlBMVEX///92dnZUVFSqqqoQEBDM\n",
       "zMzc3Nzu7u66uroyMjIiIiJERESIiIgAAACm0meuAAAAAXRSTlMAQObYZgAAAAlwSFlzAAAOxAAA\n",
       "DsQBlSsOGwAAADxJREFUCNdjYGA4vWrVBAaGzuMMQMA2HUQycCZAKDDJELIKCDYwVEN4XBCK5wCE\n",
       "ngyhinYUgOnGXasmAABvGQ6ucz2C1gAAAABJRU5ErkJggg==\n",
       "\" style=\"display:inline;vertical-align:middle;\" /></a></td></tr>\n",
       "<tr><td>8</td><td>ExprTuple</td><td>17, 11</td><td><a class=\"ProveItLink\" href=\"__pv_it/de6ae7bfb7d2f9dc5f9ee77cbbd1f3a721d8b4bd0/expr.ipynb\"><img src=\"data:image/png;base64,iVBORw0KGgoAAAANSUhEUgAAAGUAAAAVBAMAAACtcD09AAAAMFBMVEX////MzMxUVFREREQiIiK6\n",
       "uroQEBCYmJhmZmYyMjLu7u52dnaqqqqIiIjc3NwAAACFAiZ1AAAAAXRSTlMAQObYZgAAAAlwSFlz\n",
       "AAAOxAAADsQBlSsOGwAAAa1JREFUOMuVUjtIw1AUPfbftIniJg4WXB06C0oXwU+HDio4iB10c4ib\n",
       "k3YQpRQhmyIOgYJbaXFzy1yFFhysTgU/OAi2QwdLFe9N86o1idAHyb28c8979517ANTxe0krcFtv\n",
       "XGlWy0YfcF925QxN6sA6Z9dAfrO3H23zMRkHwjTgjXWvkDTaOO1BkQT9fCU7R9Ys8AwIqRQ7/Ry3\n",
       "ZYK7QICCvz0AJ6BjjfP0AJywihyHWLSm/2wXju3lhVvBicRwQqGo3ryoXSxETy2t2jmZABXI3E9Q\n",
       "Q5JC5dkYsyb7rkIxsjZKsD5MGiusVTSBLQqHOwIbnSP18enwlgo3/3hOg2qYnIXciHBOVrfm+ncd\n",
       "8O8qRSKnQUyp5W8KiEcdjjlwlritr25vM9RsQ+rI1JLQrWjYfaC0xEyCcVwCnrjUjKCoCc6GQhpJ\n",
       "HyyoZiV0rtA6VMUy9WOg9gDfouB47zibZ+NlrITO7ZmxDp94Psr/+SBQFeATXdrzfcmd4zH2dQEe\n",
       "0TcrZK6alk87cSaMpDCJwk3mxai7zG0nTqiW4nBB2nj5QkXtg1+nXG09ztAe8A1M9GWJp3nvMAAA\n",
       "AABJRU5ErkJggg==\n",
       "\" style=\"display:inline;vertical-align:middle;\" /></a></td></tr>\n",
       "<tr><td>9</td><td>Literal</td><td></td><td><a class=\"ProveItLink\" href=\"../packages/proveit/number/numeral/__pv_it/f086f8c372bd40a2458306ddfdbb29f3dc6f63030/expr.ipynb\"><img src=\"data:image/png;base64,iVBORw0KGgoAAAANSUhEUgAAAAgAAAAOBAMAAADgeEClAAAAIVBMVEX///8QEBBERESIiIgyMjJm\n",
       "ZmZUVFTu7u4iIiLMzMwAAAAWRytzAAAAAXRSTlMAQObYZgAAAAlwSFlzAAAOxAAADsQBlSsOGwAA\n",
       "ABtJREFUCNdjYOBsZ2AoC1nOwMDATBbBprgiGQBsuwqCZsDj4wAAAABJRU5ErkJggg==\n",
       "\" style=\"display:inline;vertical-align:middle;\" /></a></td></tr>\n",
       "<tr><td>10</td><td>Operation</td><td>operator:&nbsp;12<br>operands:&nbsp;13<br></td><td><a class=\"ProveItLink\" href=\"__pv_it/50df52f558793eebb62d95114efe9322ec7c608a0/expr.ipynb\"><img src=\"data:image/png;base64,iVBORw0KGgoAAAANSUhEUgAAADEAAAAQBAMAAABNQoq8AAAAMFBMVEX///8QEBC6uroyMjJERETc\n",
       "3NyYmJgiIiJmZmaqqqp2dnbMzMxUVFSIiIju7u4AAAAoIwv1AAAAAXRSTlMAQObYZgAAAAlwSFlz\n",
       "AAAOxAAADsQBlSsOGwAAAKVJREFUGNNjYMACnogz4AIW6AJqMMZPdJm5UJrpHy4ZLgEw9fbO61UT\n",
       "UGWYD3DeeMDA0MB7lqMAVeZ9wszABAa2AN6vPAmoMvODJmwOYOBmYDEAc9vLywXLy2tAzMZsiAr+\n",
       "C+guKO7aAKb1A/geoMjwfWL6DQoJhfMMXKh62D7w/eQF2ravkUETVYbHge83UPGLu5xtE1BlWCYw\n",
       "3LiHPQwwgRoyBwBI6zADMi88bAAAAABJRU5ErkJggg==\n",
       "\" style=\"display:inline;vertical-align:middle;\" /></a></td></tr>\n",
       "<tr><td>11</td><td>Operation</td><td>operator:&nbsp;14<br>operands:&nbsp;15<br></td><td><a class=\"ProveItLink\" href=\"__pv_it/0c4e72617576ad64d646775796d37f7627bd7dbd0/expr.ipynb\"><img src=\"data:image/png;base64,iVBORw0KGgoAAAANSUhEUgAAAEMAAAAVBAMAAADvM06qAAAAMFBMVEX///8QEBBERERUVFTMzMyY\n",
       "mJjc3NxmZmYiIiJ2dnaqqqoyMjKIiIi6urru7u4AAAAvZeGPAAAAAXRSTlMAQObYZgAAAAlwSFlz\n",
       "AAAOxAAADsQBlSsOGwAAAOVJREFUKM9jYGDgu8uAC7Atg9Cn1+FUwuCsByK5/gEJngIs8k4PGBiU\n",
       "QQzOBiDBMQGLktNAPAOuBCegspI3NZiSfGcUYErYNzAwTLiIqYSdQRRIHgQx8wMY2BZUYyoJY/gF\n",
       "kl0ADJxeoJkMf7A4AxxgbNoLGPiqH0B5GDaB/MG5F0gwGTAwcBtgUQIOzvUJUB+9X4AldPMvAImJ\n",
       "ME/fZwsAuug3A5R4vwEkEY8SLkxHQax2GMEBjlQjwqErQ0iJFes/uBIeAWwqWH5xLADR4DDlk8Jq\n",
       "Sk0tWFIUzEm3whnPLJOBRgEArsE34LVhimYAAAAASUVORK5CYII=\n",
       "\" style=\"display:inline;vertical-align:middle;\" /></a></td></tr>\n",
       "<tr><td>12</td><td>Literal</td><td></td><td><a class=\"ProveItLink\" href=\"../packages/proveit/number/addition/__pv_it/65ad7e8aee19b10110d590375ba95a879c4fb7ea0/expr.ipynb\"><img src=\"data:image/png;base64,iVBORw0KGgoAAAANSUhEUgAAAA4AAAAOBAMAAADtZjDiAAAAHlBMVEX///9UVFQQEBAiIiJmZmaI\n",
       "iIiqqqqYmJi6uroAAAAAFVhYAAAAAXRSTlMAQObYZgAAAAlwSFlzAAAOxAAADsQBlSsOGwAAAB9J\n",
       "REFUCNdjYGBgaGeAgFRiaGdjYyVjY0Oi1SPRIHsAgDEGyG9xCpgAAAAASUVORK5CYII=\n",
       "\" style=\"display:inline;vertical-align:middle;\" /></a></td></tr>\n",
       "<tr><td>13</td><td>ExprTuple</td><td>16, 17</td><td><a class=\"ProveItLink\" href=\"__pv_it/1c086c138db0ec5096d6d163427daec939e0d5c70/expr.ipynb\"><img src=\"data:image/png;base64,iVBORw0KGgoAAAANSUhEUgAAAC0AAAAVBAMAAAAgHXppAAAAMFBMVEX////MzMxUVFREREQiIiK6\n",
       "uroQEBCYmJhmZmYyMjLu7u52dnaqqqqIiIjc3NwAAACFAiZ1AAAAAXRSTlMAQObYZgAAAAlwSFlz\n",
       "AAAOxAAADsQBlSsOGwAAARtJREFUGNNjYGB4wIAOwCK8BzDEY0HEaRShxSlQpVwTUNXOABGzGBg4\n",
       "ClDF/4CICgYGNlRh1l8gkm0BQySqOHcCiOQsYOgGUmsvLdwNdRWnAs+NBQzcCgzTgZwGXl0OB4j4\n",
       "+oIzzwoY2Ccw+DAwsD/g/ccEtf780wOSDxh4HBhSGRgYGZjhjm0rBJGMH0DiDAz8F2Dint0CIFcl\n",
       "MMwB8eIfcC0AC3N9Zf0IpIDm2AL9HqDPwM3AAJJh/8D1hxdIGTBsAtol1cYQw8D1EyjOZMD1EaiE\n",
       "4wJDCAPDirs87UDnuwA1MB9guHGLgYHlAQOLAMxKngVwXz8BGtUADwJEaLQDsR2MsxYuzGcAigkY\n",
       "DxHgzCAT+Qow4rGOgQEAiDpAEsguFkoAAAAASUVORK5CYII=\n",
       "\" style=\"display:inline;vertical-align:middle;\" /></a></td></tr>\n",
       "<tr><td>14</td><td>Literal</td><td></td><td><a class=\"ProveItLink\" href=\"../packages/proveit/number/sets/integer/__pv_it/9c81416d3aeee14eb5f33b511a478176b3f50d040/expr.ipynb\"><img src=\"data:image/png;base64,iVBORw0KGgoAAAANSUhEUgAAAE4AAAAOBAMAAABz3DdCAAAAMFBMVEX///9mZmaqqqqYmJgQEBDu\n",
       "7u66urqIiIjMzMwiIiLc3NxUVFQyMjJERER2dnYAAACymdVkAAAAAXRSTlMAQObYZgAAAAlwSFlz\n",
       "AAAOxAAADsQBlSsOGwAAAWhJREFUKM99UT1Lw1AUPf3IZ0niJoUSMzhIF4NOTnYThEJEQcTBLg5d\n",
       "bJwchJLZqb9A6iAOUs1WUArZHBzqHxDfZBFaLIptrbR6XwrZ4oN34Lx37rn3nQeg9/tYx//rbcTx\n",
       "O+J7MQWpPoE8jfhyjF8iIJAGEc/F6BSXQOtH/DxGd+sRGGR6dHdz6oqtSRNC59iRe6ppY3ceioWL\n",
       "zhWwzsUVMmXPrjBGkpzLnswkzdQLYItI++ImXhy0uO7dg1wqQh3xcdVPSKVtpZZgqpVDku3YyAIb\n",
       "XNcGBGHA364waMPqKy4Nm87oVrQWHBpaHnPdhDZ1zDzhoATDD0dxCMQvSCiCLKQCp0OCTADDdioQ\n",
       "DMZ12TC0GnRhyvtoPtXp/E/SjDJmXeSpNaxZPpqPJeEDWpA3bHqq0p8F1E3V7wU3FWCrrobJ64HK\n",
       "8IC1OWYcurhu/5BFGWisoLEKVE9ciLUwXZPofvWs6aVM/AGcHGdEQUdQPwAAAABJRU5ErkJggg==\n",
       "\" style=\"display:inline;vertical-align:middle;\" /></a></td></tr>\n",
       "<tr><td>15</td><td>ExprTuple</td><td>18, 19</td><td><a class=\"ProveItLink\" href=\"__pv_it/c7eddd53541f05f73d4fa416d098659fb54408690/expr.ipynb\"><img src=\"data:image/png;base64,iVBORw0KGgoAAAANSUhEUgAAACYAAAAVBAMAAADY/YGeAAAAMFBMVEX////MzMxUVFREREQiIiK6\n",
       "uroQEBCYmJhmZmYyMjLu7u52dnaqqqqIiIjc3NwAAACFAiZ1AAAAAXRSTlMAQObYZgAAAAlwSFlz\n",
       "AAAOxAAADsQBlSsOGwAAAPRJREFUGNNjYGB4wIAM+EAE7wEUMdYLQOI0EN+AiQgvYLjDwMA1Acj0\n",
       "hondZGDgXMDAUcCACtgbGNgY0EEWQySG2HSGbqCRNy5AeFx3DYDkJqAoAzdrAkSMgyEdSFYy+DAw\n",
       "vOGYABGrY/gDJI8wpDIwLOCH6mXg+QUk5EFiDOcXQMU4HIBEGMMcIDkJZiXLBrBeW6B1f7gZuMBi\n",
       "7wOARDHQZgbWD88Z1oOtqQcRvQwhQNK2gIHFC8RVBhF+DCwCEKNOgYhcUAA6gLwMBkDTddhBTgEF\n",
       "ih3EWxcYGP+wgIL3MRAvhoQQyPBWEMsKpB81ANkfMAAA7o0x3PCvjEMAAAAASUVORK5CYII=\n",
       "\" style=\"display:inline;vertical-align:middle;\" /></a></td></tr>\n",
       "<tr><td>16</td><td>Variable</td><td></td><td><a class=\"ProveItLink\" href=\"../packages/proveit/__pv_it/72df168d2bfb4e0140af90912ebf83b13772060b0/expr.ipynb\"><img src=\"data:image/png;base64,iVBORw0KGgoAAAANSUhEUgAAAAsAAAAJBAMAAAAWSsseAAAAMFBMVEX///8QEBC6uroyMjJERETc\n",
       "3NyYmJgiIiJmZmaqqqp2dnbMzMxUVFSIiIju7u4AAAAoIwv1AAAAAXRSTlMAQObYZgAAAAlwSFlz\n",
       "AAAOxAAADsQBlSsOGwAAAENJREFUCNdjYHh75/WqCQwMDbxnOQoY2AJ4v/IkMHAzsBgwgAD/BTCl\n",
       "H8D3gOGJwnkGLgaG+fsaGTQZGF7c5WybwAAAJGsQ2L2rVEcAAAAASUVORK5CYII=\n",
       "\" style=\"display:inline;vertical-align:middle;\" /></a></td></tr>\n",
       "<tr><td>17</td><td>Variable</td><td></td><td><a class=\"ProveItLink\" href=\"../packages/proveit/__pv_it/273f49450ca25e1b56abbd98a7aef618f8f6c1360/expr.ipynb\"><img src=\"data:image/png;base64,iVBORw0KGgoAAAANSUhEUgAAAAoAAAAOBAMAAADkjZCYAAAAMFBMVEX////MzMzc3NyYmJiIiIhU\n",
       "VFR2dna6urqqqqpmZmYyMjIiIiIQEBBERETu7u4AAADM1VnsAAAAAXRSTlMAQObYZgAAAAlwSFlz\n",
       "AAAOxAAADsQBlSsOGwAAAE9JREFUCNdj4LuzgQEIuCaASP4GEFn/AETmgAiGpQwt8xj4PnM0HWbg\n",
       "+FTBuIiB87AAUJh7ZSKQfF9QD+TYM7xvcGCIZXgvkMBwg4FlygMA76IUkutkA5UAAAAASUVORK5C\n",
       "YII=\n",
       "\" style=\"display:inline;vertical-align:middle;\" /></a></td></tr>\n",
       "<tr><td>18</td><td>Variable</td><td></td><td><a class=\"ProveItLink\" href=\"../packages/proveit/__pv_it/557ab5defdcd46aa58168b08767502985122cd490/expr.ipynb\"><img src=\"data:image/png;base64,iVBORw0KGgoAAAANSUhEUgAAAAcAAAAOBAMAAAARcxsoAAAALVBMVEX///9ERESYmJhUVFQyMjKq\n",
       "qqrc3NwQEBC6urru7u52dnYiIiJmZmaIiIgAAAD/UVazAAAAAXRSTlMAQObYZgAAAAlwSFlzAAAO\n",
       "xAAADsQBlSsOGwAAADlJREFUCNdjYGC4wwAEuxjQAeedCwwMXBwFDAypPA4MDBP4gFyGuAlAwhkk\n",
       "+5SLgYHjQRKQKavAAAAx5QmdfgFqMAAAAABJRU5ErkJggg==\n",
       "\" style=\"display:inline;vertical-align:middle;\" /></a></td></tr>\n",
       "<tr><td>19</td><td>Variable</td><td></td><td><a class=\"ProveItLink\" href=\"../packages/proveit/__pv_it/6a5b5879f51878868f626bf09e4d76392d4779cd0/expr.ipynb\"><img src=\"data:image/png;base64,iVBORw0KGgoAAAANSUhEUgAAAAoAAAASBAMAAACQmVJ4AAAAMFBMVEX///9UVFS6urp2dnYiIiKq\n",
       "qqrc3NyYmJgQEBBmZmYyMjKIiIju7u5ERETMzMwAAAC4hZuzAAAAAXRSTlMAQObYZgAAAAlwSFlz\n",
       "AAAOxAAADsQBlSsOGwAAAEtJREFUCNdjYGBg4LsDJBi4FzBgA6f3gsgJHAUMDOwJ/AEgTvwBEDkF\n",
       "LO0MItg+gUj2DyCS8QKI5NgAZAXUAxW+D3AF8jl3KjAwAACAGg5QwkhbIAAAAABJRU5ErkJggg==\n",
       "\" style=\"display:inline;vertical-align:middle;\" /></a></td></tr>\n",
       "</table>\n"
      ],
      "text/plain": [
       "0. (1 / (x + i)),...,(1 / (x + j))\n",
       "   core type: Iter\n",
       "   lambda_map: 1\n",
       "   start_index: 18\n",
       "   end_index: 19\n",
       "1. k -> {1 / (x + k) | k in {i...j}}\n",
       "   core type: Lambda\n",
       "   parameter: 17\n",
       "   body: 2\n",
       "2. {1 / (x + k) | k in {i...j}}\n",
       "   core type: Conditional\n",
       "   value: 3\n",
       "   condition: 4\n",
       "3. 1 / (x + k)\n",
       "   core type: Operation\n",
       "   operator: 5\n",
       "   operands: 6\n",
       "4. k in {i...j}\n",
       "   core type: Operation\n",
       "   operator: 7\n",
       "   operands: 8\n",
       "5. /\n",
       "   core type: Literal\n",
       "   sub-expressions: \n",
       "6. (1 , x + k)\n",
       "   core type: ExprTuple\n",
       "   sub-expressions: 9, 10\n",
       "7. in\n",
       "   core type: Literal\n",
       "   sub-expressions: \n",
       "8. (k , {i...j})\n",
       "   core type: ExprTuple\n",
       "   sub-expressions: 17, 11\n",
       "9. 1\n",
       "   core type: Literal\n",
       "   sub-expressions: \n",
       "10. x + k\n",
       "    core type: Operation\n",
       "    operator: 12\n",
       "    operands: 13\n",
       "11. {i...j}\n",
       "    core type: Operation\n",
       "    operator: 14\n",
       "    operands: 15\n",
       "12. +\n",
       "    core type: Literal\n",
       "    sub-expressions: \n",
       "13. (x , k)\n",
       "    core type: ExprTuple\n",
       "    sub-expressions: 16, 17\n",
       "14. Interval\n",
       "    core type: Literal\n",
       "    sub-expressions: \n",
       "15. (i , j)\n",
       "    core type: ExprTuple\n",
       "    sub-expressions: 18, 19\n",
       "16. x\n",
       "    core type: Variable\n",
       "    sub-expressions: \n",
       "17. k\n",
       "    core type: Variable\n",
       "    sub-expressions: \n",
       "18. i\n",
       "    core type: Variable\n",
       "    sub-expressions: \n",
       "19. j\n",
       "    core type: Variable\n",
       "    sub-expressions: "
      ]
     },
     "execution_count": 111,
     "metadata": {},
     "output_type": "execute_result"
    }
   ],
   "source": [
    "it.exprInfo()"
   ]
  },
  {
   "cell_type": "markdown",
   "metadata": {},
   "source": [
    "The `lambda_map` attributes provides access to the one direct sub-expression.  The `parameter`, `body`, `start_index`, and `end_index` attributes provide convient access to some important indirect sub-expressions."
   ]
  },
  {
   "cell_type": "code",
   "execution_count": 112,
   "metadata": {},
   "outputs": [
    {
     "data": {
      "text/html": [
       "<a class=\"ProveItLink\" href=\"__pv_it/a004b8978f8801c74d8eb50f2801cdbbd71e359c0/expr.ipynb\"><img src=\"data:image/png;base64,iVBORw0KGgoAAAANSUhEUgAAAP8AAAAbCAMAAACEA6lsAAAANlBMVEX///8WFhYNDQ3MzMzc3NyY\n",
       "mJiIiIhUVFR2dna6urqqqqpmZmYyMjIiIiIQEBBERETu7u4AAADpXcuUAAAAAXRSTlMAQObYZgAA\n",
       "AAlwSFlzAAAOxAAADsQBlSsOGwAAAr5JREFUWMPdmNm2pCAMRekmhHn6/5+9WLdwQFAcaujOQy1X\n",
       "CR63CUmAkJdZYGbjbiT/pHFrLTyvFVcbIymi/Wp+TCjq6KSZS40P22PV/fxByuOTQEHjDmPn+YXb\n",
       "G3s/PxoVTkyjvOGqK/zc3McfvLMd4ipmDNS96L/knjf5O7XX/P5O/5seIDE+0IruiClmVvxv9Of5\n",
       "ozrEf9Q2+aP6OL+MqwWKPuVna17PX9GeXgLew79KptJgeJP/C+2FrNKn+UGYqLGT36T8pFCP2mBC\n",
       "myLgxnMXKIh+n7/QXo60TX7vyRVb5v/IiFLgxnJkqhVbP5MZka5LIznv+Uh07fxfaC+JlW/wD9Nu\n",
       "41cRpCJ0oq7WVviVBJU/xI4xGHMb1HPcwF9q2zINhRo/NbUQjDvW4teO0UXVdvZpftbEWJkXaMTO\n",
       "rzx2DOCNqvOX2n//2IXFKNf8zMLF7nvBb40WdNEP1VazzklBxd4uUGdvCiMb/i+1bZmIZc3/0uB9\n",
       "/CF9Yhk3XiKnHD5lyz7LfVIK8kb8r7SX0rRIxOfWP7O4xc/i8DxFpkGIG1VsGNrX/0GOXdHMfyvt\n",
       "JX+ZiA/l/6l4OrnFP5TSkHwwg6qt1swvIwGWvWBaF/nD7tS/lfbiTeX5+j98oskPm/Hv1WNLM+94\n",
       "AvcytLoYj2PsWd28mL9jm7+iPfcgPciPqEFoKPiZJ1Bs2Xb3v1L4y/2vw57+/+T+19f75fR/Dt5x\n",
       "BEdQwcHV/f8hfq5S+Ic387MhOAkt49+JdINePv9A1z+Wppw2HW81Gqbb+QewB6f2ydzww4blr1cL\n",
       "6Qx/cAd2qhq1nCayd53/0AQGhf/T8peWwPXzL9BcHZ9FRWvWFf5aMIJLjRYZa4kflz+htijZX3H+\n",
       "fYW/1oUFzqRAEQr+oYngjP4X/N3n//P8t3/+9QFDax17qYL+av6H/QBgxiBxkShuIwAAAABJRU5E\n",
       "rkJggg==\n",
       "\" style=\"display:inline;vertical-align:middle;\" /></a>"
      ],
      "text/plain": [
       "k -> {1 / (x + k) | k in {i...j}}"
      ]
     },
     "execution_count": 112,
     "metadata": {},
     "output_type": "execute_result"
    }
   ],
   "source": [
    "it.lambda_map"
   ]
  },
  {
   "cell_type": "code",
   "execution_count": 113,
   "metadata": {},
   "outputs": [
    {
     "data": {
      "text/html": [
       "<a class=\"ProveItLink\" href=\"../packages/proveit/__pv_it/273f49450ca25e1b56abbd98a7aef618f8f6c1360/expr.ipynb\"><img src=\"data:image/png;base64,iVBORw0KGgoAAAANSUhEUgAAAAoAAAAOBAMAAADkjZCYAAAAMFBMVEX////MzMzc3NyYmJiIiIhU\n",
       "VFR2dna6urqqqqpmZmYyMjIiIiIQEBBERETu7u4AAADM1VnsAAAAAXRSTlMAQObYZgAAAAlwSFlz\n",
       "AAAOxAAADsQBlSsOGwAAAE9JREFUCNdj4LuzgQEIuCaASP4GEFn/AETmgAiGpQwt8xj4PnM0HWbg\n",
       "+FTBuIiB87AAUJh7ZSKQfF9QD+TYM7xvcGCIZXgvkMBwg4FlygMA76IUkutkA5UAAAAASUVORK5C\n",
       "YII=\n",
       "\" style=\"display:inline;vertical-align:middle;\" /></a>"
      ],
      "text/plain": [
       "k"
      ]
     },
     "execution_count": 113,
     "metadata": {},
     "output_type": "execute_result"
    }
   ],
   "source": [
    "it.parameter"
   ]
  },
  {
   "cell_type": "code",
   "execution_count": 114,
   "metadata": {},
   "outputs": [
    {
     "data": {
      "text/html": [
       "<a class=\"ProveItLink\" href=\"__pv_it/c51919144d22bfa91f2d151611906e9172f55b9d0/expr.ipynb\"><img src=\"data:image/png;base64,iVBORw0KGgoAAAANSUhEUgAAADEAAAAsBAMAAAA++k1qAAAAMFBMVEX///+6urrc3NyYmJiqqqp2\n",
       "dnYQEBBERESIiIgyMjJmZmZUVFTu7u4iIiLMzMwAAACTvm51AAAAAXRSTlMAQObYZgAAAAlwSFlz\n",
       "AAAOxAAADsQBlSsOGwAAAMRJREFUOMtjYEACbw8wYAU8u+bjkGFg6B+VwS2zPf92A8PwBf9xgA+D\n",
       "1L3Hc3FKzUIXEIYxvqDLeEBpxj+4ZFgTwNSJ7nOhDqgynBtYuoCJZQHHDq4LqDLnDVzUDBiYFTg+\n",
       "cRugyvgrOrxUYOBjYJ8A5q69ezft7t3bIOYyO4gK/gZ0F9xc+gBMyyvwHECR4fnI+A8UEgL7GVhR\n",
       "9TB/4PnCAbTtzTIGEVQZ7gKef0DFpzpYFjugyrA7MHT1YA8DTCCMzAEACQdYHkHzWwQAAAAASUVO\n",
       "RK5CYII=\n",
       "\" style=\"display:inline;vertical-align:middle;\" /></a>"
      ],
      "text/plain": [
       "1 / (x + k)"
      ]
     },
     "execution_count": 114,
     "metadata": {},
     "output_type": "execute_result"
    }
   ],
   "source": [
    "it.body"
   ]
  },
  {
   "cell_type": "code",
   "execution_count": 115,
   "metadata": {},
   "outputs": [
    {
     "data": {
      "text/html": [
       "<a class=\"ProveItLink\" href=\"../packages/proveit/__pv_it/557ab5defdcd46aa58168b08767502985122cd490/expr.ipynb\"><img src=\"data:image/png;base64,iVBORw0KGgoAAAANSUhEUgAAAAcAAAAOBAMAAAARcxsoAAAALVBMVEX///9ERESYmJhUVFQyMjKq\n",
       "qqrc3NwQEBC6urru7u52dnYiIiJmZmaIiIgAAAD/UVazAAAAAXRSTlMAQObYZgAAAAlwSFlzAAAO\n",
       "xAAADsQBlSsOGwAAADlJREFUCNdjYGC4wwAEuxjQAeedCwwMXBwFDAypPA4MDBP4gFyGuAlAwhkk\n",
       "+5SLgYHjQRKQKavAAAAx5QmdfgFqMAAAAABJRU5ErkJggg==\n",
       "\" style=\"display:inline;vertical-align:middle;\" /></a>"
      ],
      "text/plain": [
       "i"
      ]
     },
     "execution_count": 115,
     "metadata": {},
     "output_type": "execute_result"
    }
   ],
   "source": [
    "it.start_index"
   ]
  },
  {
   "cell_type": "code",
   "execution_count": 116,
   "metadata": {},
   "outputs": [
    {
     "data": {
      "text/html": [
       "<a class=\"ProveItLink\" href=\"../packages/proveit/__pv_it/6a5b5879f51878868f626bf09e4d76392d4779cd0/expr.ipynb\"><img src=\"data:image/png;base64,iVBORw0KGgoAAAANSUhEUgAAAAoAAAASBAMAAACQmVJ4AAAAMFBMVEX///9UVFS6urp2dnYiIiKq\n",
       "qqrc3NyYmJgQEBBmZmYyMjKIiIju7u5ERETMzMwAAAC4hZuzAAAAAXRSTlMAQObYZgAAAAlwSFlz\n",
       "AAAOxAAADsQBlSsOGwAAAEtJREFUCNdjYGBg4LsDJBi4FzBgA6f3gsgJHAUMDOwJ/AEgTvwBEDkF\n",
       "LO0MItg+gUj2DyCS8QKI5NgAZAXUAxW+D3AF8jl3KjAwAACAGg5QwkhbIAAAAABJRU5ErkJggg==\n",
       "\" style=\"display:inline;vertical-align:middle;\" /></a>"
      ],
      "text/plain": [
       "j"
      ]
     },
     "execution_count": 116,
     "metadata": {},
     "output_type": "execute_result"
    }
   ],
   "source": [
    "it.end_index"
   ]
  },
  {
   "cell_type": "markdown",
   "metadata": {},
   "source": [
    "We have special formatting features when an `Iter` is used as *operands* of an `Operator`.  As stated previously, **Prove-It** is flexible in its formatting."
   ]
  },
  {
   "cell_type": "code",
   "execution_count": 117,
   "metadata": {},
   "outputs": [
    {
     "data": {
      "text/html": [
       "<strong id=\"add_it\">add_it:</strong> <a class=\"ProveItLink\" href=\"__pv_it/8bbe493bdd891fad05cccbabc77dfb58b2e53f550/expr.ipynb\"><img src=\"data:image/png;base64,iVBORw0KGgoAAAANSUhEUgAAAKsAAAAuBAMAAAClu/RBAAAAMFBMVEX///+6urrc3NyYmJiqqqp2\n",
       "dnYQEBBERESIiIgyMjJmZmZUVFTu7u4iIiLMzMwAAACTvm51AAAAAXRSTlMAQObYZgAAAAlwSFlz\n",
       "AAAOxAAADsQBlSsOGwAAAVpJREFUSMdjYIADvjsMlAAc2k+v/EOJqTi1c1BkLE7to8aOGjtqLI2N\n",
       "5S77u4MCUynUPogBowEOCWGKjGVpwCHhMWrswBn7Hyv4AJThunv3Wu7duxswtKy9ezft7t3buHWD\n",
       "tY+GLVHG8vyEEecnUNO1t2AE7wIKjOVYQFkgPD+AVZg3gLKippOa5RJO3ZRFhAc9jD3RfS7UAUXi\n",
       "xArizcLUzcDTUQAkF3Ds4LqAIhEgRryxmLoZuBiSGRiYFTg+cRsgSzA5rCTaVEzdDAxGDF+ATX4G\n",
       "9gmo5RIPww/iOwwYukGpHdxi4G9AC3QWUtohGLqBoQAOFXkFngMoEpwbSDAWQzckNx0X2M/Aimrf\n",
       "eYcAYg3FopuBQV+AgcH/zTIGEVQJeSYDYo3FopuBwR6IT3WwLHZAlWBvJjoIsOhmYNhOm1yWwUCD\n",
       "omYLM2UNWhwp+QuvAy2agysWAgkADECtmMiAC2oAAAAASUVORK5CYII=\n",
       "\" style=\"display:inline;vertical-align:middle;\" /></a><br>"
      ],
      "text/plain": [
       "add_it: (1 / (x + i)) +  ...  + (1 / (x + j))"
      ]
     },
     "execution_count": 117,
     "metadata": {},
     "output_type": "execute_result"
    }
   ],
   "source": [
    "add_it = Add(it)"
   ]
  },
  {
   "cell_type": "markdown",
   "metadata": {},
   "source": [
    "To really understand how **Prove-It** recognizes an expression, one must look at the expression information. "
   ]
  },
  {
   "cell_type": "code",
   "execution_count": 118,
   "metadata": {},
   "outputs": [
    {
     "data": {
      "text/html": [
       "<table><tr><th>&nbsp;</th><th>core type</th><th>sub-expressions</th><th>expression</th></tr>\n",
       "<tr><td>0</td><td>Operation</td><td>operator:&nbsp;14<br>operands:&nbsp;1<br></td><td><a class=\"ProveItLink\" href=\"__pv_it/8bbe493bdd891fad05cccbabc77dfb58b2e53f550/expr.ipynb\"><img src=\"data:image/png;base64,iVBORw0KGgoAAAANSUhEUgAAAKsAAAAuBAMAAAClu/RBAAAAMFBMVEX///+6urrc3NyYmJiqqqp2\n",
       "dnYQEBBERESIiIgyMjJmZmZUVFTu7u4iIiLMzMwAAACTvm51AAAAAXRSTlMAQObYZgAAAAlwSFlz\n",
       "AAAOxAAADsQBlSsOGwAAAVpJREFUSMdjYIADvjsMlAAc2k+v/EOJqTi1c1BkLE7to8aOGjtqLI2N\n",
       "5S77u4MCUynUPogBowEOCWGKjGVpwCHhMWrswBn7Hyv4AJThunv3Wu7duxswtKy9ezft7t3buHWD\n",
       "tY+GLVHG8vyEEecnUNO1t2AE7wIKjOVYQFkgPD+AVZg3gLKippOa5RJO3ZRFhAc9jD3RfS7UAUXi\n",
       "xArizcLUzcDTUQAkF3Ds4LqAIhEgRryxmLoZuBiSGRiYFTg+cRsgSzA5rCTaVEzdDAxGDF+ATX4G\n",
       "9gmo5RIPww/iOwwYukGpHdxi4G9AC3QWUtohGLqBoQAOFXkFngMoEpwbSDAWQzckNx0X2M/Aimrf\n",
       "eYcAYg3FopuBQV+AgcH/zTIGEVQJeSYDYo3FopuBwR6IT3WwLHZAlWBvJjoIsOhmYNhOm1yWwUCD\n",
       "omYLM2UNWhwp+QuvAy2agysWAgkADECtmMiAC2oAAAAASUVORK5CYII=\n",
       "\" style=\"display:inline;vertical-align:middle;\" /></a></td></tr>\n",
       "<tr><td>1</td><td>ExprTuple</td><td>2</td><td><a class=\"ProveItLink\" href=\"__pv_it/530862fccee679074598e9cca6aa52198d0dca070/expr.ipynb\"><img src=\"data:image/png;base64,iVBORw0KGgoAAAANSUhEUgAAAKkAAAAyBAMAAADVWuacAAAAMFBMVEX///8yMjKqqqpmZmZERETu\n",
       "7u6IiIgQEBDMzMzc3NwiIiJ2dnaYmJi6urpUVFQAAABiWEJZAAAAAXRSTlMAQObYZgAAAAlwSFlz\n",
       "AAAOxAAADsQBlSsOGwAAAqVJREFUWMNjYAACvgsM1AIhAXDmG6oZysAhCmPxbUAW7wog0ZylKFwt\n",
       "GOMUkiDrY3nSTI0z/IrCZ34AoTl/oAjnk+hWNlRTGdZAKK4NVDVVHaL/OANVTWU0AFPV1DWV9yc2\n",
       "UUpNZRAGB+sDKpuqDzKgv4HKpsYnAInnDFQ2lWUBkKijtqk8wOji+ENtU1mBJnL/pLapIN+zFKAK\n",
       "Palfl0CKoXzuv56hCXkxMLA7MFAb7AemAwOqm3r+AkN/AtVNBRqpr0B1U4HeP99AdVP5HzDkT6C+\n",
       "qQ4M+wOobiq7AIM99U3lWsDwHuLo/1gBbk/+x6OBqwBqKnXdWkCjENiPPw1g2slKTGzl402vrB9h\n",
       "RLwAEoOAqQ8I5YJVIMcuBnnLAMZYSjC9GjDo424PsgENYsIMAlWcGlogiuM3MPQfwB3qwEYNN6bw\n",
       "BpwaEuGlCz9GSciLbE8YZlCjF3J30FUACywujMBnQtaG6RMedAE1dAFg0cJXgNdUIgCGqcCMxQOp\n",
       "zFjTnnZvQjU1zAxfkkOoV4MLQSurEmDN/QnSmGXIS7BCNXXDdTymIqlXgwvVQNrD3+CtjJPA0HiD\n",
       "YiqngiEeU5HUq8GFPsFbGQzmYGYDgyPEwlWrlletWvUAlDO/4TEVpt5q1aryVavWQZwDCUw+UIvo\n",
       "PjQbfEOPLaaveCPpG0ZsMS+AZK0EWFYEN2ZDUU1lfIDPUIR6NeRcA6q4QTkMnAhYffk+wDINzNR4\n",
       "Bdy5CFk93NT5EF+vg7fgmX4EF/AqoJp6nxN3ZkZWDzf1PFILHuxiVrME5UNo4cqSgye5IqmHm/oE\n",
       "og0ScIwbqJS3yiBehBRcHJV4ShciALR0eQTNpUWoBRiF3eJPXOBw5nuAtXdMLjCzBVOKcAEfWvTk\n",
       "GVioN+oQCI4rAJsV4NEUUWWHAAAAAElFTkSuQmCC\n",
       "\" style=\"display:inline;vertical-align:middle;\" /></a></td></tr>\n",
       "<tr><td>2</td><td>Iter</td><td>lambda_map:&nbsp;3<br></td><td><a class=\"ProveItLink\" href=\"__pv_it/d3d528d5753ef121f69e0610cd4a243f2297595c0/expr.ipynb\"><img src=\"data:image/png;base64,iVBORw0KGgoAAAANSUhEUgAAAI8AAAAuBAMAAADjDVfrAAAAMFBMVEX///+6urrc3NyYmJiqqqp2\n",
       "dnYQEBBERESIiIgyMjJmZmZUVFTu7u4iIiLMzMwAAACTvm51AAAAAXRSTlMAQObYZgAAAAlwSFlz\n",
       "AAAOxAAADsQBlSsOGwAAAX9JREFUSMdjYIADvjsMpIG3B7AKn175hyRjeHbNx24QA8cfEl3UP2rQ\n",
       "qEEjySDusr87SDJne/7tBoZRMAqoC/5jBR9IVI9Hw+ADPJhCB8gy6PwEKMHzE5lBOuAFVeC8C4DE\n",
       "LRjjLulO6gJiHwxRFpwG8dXgkLgKxAEYoqw4LeaYgMoXRg5szELrBBqf0QCXwR5IbGZMaXR9LA3E\n",
       "GEQEQDPoRPe5UAcUg3i68JXFCPVwg060g8gFHDu4LqAYxMqYgMcghHq4QQvYgL5mVuD4xG2AYpAK\n",
       "1wTc5iCphxnErMAPdCIfAztE29q7d9Pu3r0Nygr8eLwGU8919+613Lt3N4AF/cEpDKENFtj+eJMw\n",
       "XD0isNeCSXkFngOoBs3GG1lw9QiDQAn4uMB+eJKFxdoX3GkYWT3cIKaPIG+8WcYggmoQ4wdl3AYh\n",
       "qYcbxAwqH091sCx2QAujCgPcBiGphxvEXUCllM2GHsvCpBkEzbTcDvbklZ3o4L3DFeqU7lxdAkAS\n",
       "AAUCqfVfXUXTAAAAAElFTkSuQmCC\n",
       "\" style=\"display:inline;vertical-align:middle;\" /></a></td></tr>\n",
       "<tr><td>3</td><td>Lambda</td><td>parameter:&nbsp;19<br>body:&nbsp;4<br></td><td><a class=\"ProveItLink\" href=\"__pv_it/a004b8978f8801c74d8eb50f2801cdbbd71e359c0/expr.ipynb\"><img src=\"data:image/png;base64,iVBORw0KGgoAAAANSUhEUgAAAP8AAAAbCAMAAACEA6lsAAAANlBMVEX///8WFhYNDQ3MzMzc3NyY\n",
       "mJiIiIhUVFR2dna6urqqqqpmZmYyMjIiIiIQEBBERETu7u4AAADpXcuUAAAAAXRSTlMAQObYZgAA\n",
       "AAlwSFlzAAAOxAAADsQBlSsOGwAAAr5JREFUWMPdmNm2pCAMRekmhHn6/5+9WLdwQFAcaujOQy1X\n",
       "CR63CUmAkJdZYGbjbiT/pHFrLTyvFVcbIymi/Wp+TCjq6KSZS40P22PV/fxByuOTQEHjDmPn+YXb\n",
       "G3s/PxoVTkyjvOGqK/zc3McfvLMd4ipmDNS96L/knjf5O7XX/P5O/5seIDE+0IruiClmVvxv9Of5\n",
       "ozrEf9Q2+aP6OL+MqwWKPuVna17PX9GeXgLew79KptJgeJP/C+2FrNKn+UGYqLGT36T8pFCP2mBC\n",
       "myLgxnMXKIh+n7/QXo60TX7vyRVb5v/IiFLgxnJkqhVbP5MZka5LIznv+Uh07fxfaC+JlW/wD9Nu\n",
       "41cRpCJ0oq7WVviVBJU/xI4xGHMb1HPcwF9q2zINhRo/NbUQjDvW4teO0UXVdvZpftbEWJkXaMTO\n",
       "rzx2DOCNqvOX2n//2IXFKNf8zMLF7nvBb40WdNEP1VazzklBxd4uUGdvCiMb/i+1bZmIZc3/0uB9\n",
       "/CF9Yhk3XiKnHD5lyz7LfVIK8kb8r7SX0rRIxOfWP7O4xc/i8DxFpkGIG1VsGNrX/0GOXdHMfyvt\n",
       "JX+ZiA/l/6l4OrnFP5TSkHwwg6qt1swvIwGWvWBaF/nD7tS/lfbiTeX5+j98oskPm/Hv1WNLM+94\n",
       "AvcytLoYj2PsWd28mL9jm7+iPfcgPciPqEFoKPiZJ1Bs2Xb3v1L4y/2vw57+/+T+19f75fR/Dt5x\n",
       "BEdQwcHV/f8hfq5S+Ic387MhOAkt49+JdINePv9A1z+Wppw2HW81Gqbb+QewB6f2ydzww4blr1cL\n",
       "6Qx/cAd2qhq1nCayd53/0AQGhf/T8peWwPXzL9BcHZ9FRWvWFf5aMIJLjRYZa4kflz+htijZX3H+\n",
       "fYW/1oUFzqRAEQr+oYngjP4X/N3n//P8t3/+9QFDax17qYL+av6H/QBgxiBxkShuIwAAAABJRU5E\n",
       "rkJggg==\n",
       "\" style=\"display:inline;vertical-align:middle;\" /></a></td></tr>\n",
       "<tr><td>4</td><td>Conditional</td><td>value:&nbsp;5<br>condition:&nbsp;6<br></td><td><a class=\"ProveItLink\" href=\"__pv_it/683a5715cda20918f6e6ad6c99b8d4ec093c97e90/expr.ipynb\"><img src=\"data:image/png;base64,iVBORw0KGgoAAAANSUhEUgAAALUAAAAbBAMAAADIa9MEAAAAMFBMVEX///9mZma6urrc3NwiIiKI\n",
       "iIjMzMyYmJgQEBB2dnbu7u5EREQyMjJUVFSqqqoAAABfjFPjAAAAAXRSTlMAQObYZgAAAAlwSFlz\n",
       "AAAOxAAADsQBlSsOGwAAAjtJREFUSMdjYMAAyw+gcD8wUAD47qFw2UIdqGf26QVodhFt9iIFXDLM\n",
       "j8EUZwMDmWaznluAUy53F4jkPUCM2Vw7HDD0vwcZHYjFYDagwXvBZm8gyt08AhhGTAERntg8dAAq\n",
       "SaTZ/A+wm40LkGK2PixsWbe4+FDZ7BlQLtPRBeS7m3nOxwAsZp9leCoFom0WIGvnCgzANHZpNMxs\n",
       "7g34kz80nXzne9wOYhxGyMgAEzBTA6YOAY4CBoYIEGt9ATFm833WYwMbi0ixzN8ZGOwYD2BoYDcA\n",
       "xbs9ELMdhQvy/0cFH5DMZmxPgCTdFhcXF28w6wowVy7gxxIm4ITPvOcBQ4kBAzHuZjk4DRI2iBBc\n",
       "eAqWf9CBCCi7HwLFO1Fmr1fQhzgcKRHtBUcxFgDKT+8NcIY3uyuq2fUM6x+AvR+Kksy4/nFiKag+\n",
       "wdIsZjoB5+4mVLNvM6xPmADO+w+QzWb6YA5yHjBCuf4wQAkG9g848w4DSID5A6rZ+xhYRcFBy3Vb\n",
       "Czl7bAX5mgXkGkcGGAE2Ed1s1kBLYajZ7BtMBbCXsUyzCeV5jgAsZgfzbjgHNZs3+FUzofIbu9m8\n",
       "D+oXYDG7gDsgAWo2x3SGBEJmR2AVzX/gB820qOHNn8DAuHt39+7tDPaCCQTrnRUPsIkyBoJqOq52\n",
       "9Honn8EA6u5qJgcDQmYzyz7AJcU2FyzFCi9tmBvmMEyAmn2VzWECFep5eNbiuq4ZuQBq9mGG6wlU\n",
       "MButfQIxm0rtEwas+ZIKZgMAyou5m55fgs8AAAAASUVORK5CYII=\n",
       "\" style=\"display:inline;vertical-align:middle;\" /></a></td></tr>\n",
       "<tr><td>5</td><td>Operation</td><td>operator:&nbsp;7<br>operands:&nbsp;8<br></td><td><a class=\"ProveItLink\" href=\"__pv_it/c51919144d22bfa91f2d151611906e9172f55b9d0/expr.ipynb\"><img src=\"data:image/png;base64,iVBORw0KGgoAAAANSUhEUgAAADEAAAAsBAMAAAA++k1qAAAAMFBMVEX///+6urrc3NyYmJiqqqp2\n",
       "dnYQEBBERESIiIgyMjJmZmZUVFTu7u4iIiLMzMwAAACTvm51AAAAAXRSTlMAQObYZgAAAAlwSFlz\n",
       "AAAOxAAADsQBlSsOGwAAAMRJREFUOMtjYEACbw8wYAU8u+bjkGFg6B+VwS2zPf92A8PwBf9xgA+D\n",
       "1L3Hc3FKzUIXEIYxvqDLeEBpxj+4ZFgTwNSJ7nOhDqgynBtYuoCJZQHHDq4LqDLnDVzUDBiYFTg+\n",
       "cRugyvgrOrxUYOBjYJ8A5q69ezft7t3bIOYyO4gK/gZ0F9xc+gBMyyvwHECR4fnI+A8UEgL7GVhR\n",
       "9TB/4PnCAbTtzTIGEVQZ7gKef0DFpzpYFjugyrA7MHT1YA8DTCCMzAEACQdYHkHzWwQAAAAASUVO\n",
       "RK5CYII=\n",
       "\" style=\"display:inline;vertical-align:middle;\" /></a></td></tr>\n",
       "<tr><td>6</td><td>Operation</td><td>operator:&nbsp;9<br>operands:&nbsp;10<br></td><td><a class=\"ProveItLink\" href=\"__pv_it/fc8b9b3dd5f4c3723a7bc7f59762e46e8d46dbf50/expr.ipynb\"><img src=\"data:image/png;base64,iVBORw0KGgoAAAANSUhEUgAAAGcAAAAVBAMAAACphe0AAAAAMFBMVEX////MzMzc3NyYmJiIiIhU\n",
       "VFR2dna6urqqqqpmZmYyMjIiIiIQEBBERETu7u4AAADM1VnsAAAAAXRSTlMAQObYZgAAAAlwSFlz\n",
       "AAAOxAAADsQBlSsOGwAAAWBJREFUOMtjYMAGnhcw4ABMTbhkWFY8wCXFIHoPSPDd2YAh0Q/S44lF\n",
       "hyxQ4iqIwTUBQy4bRGzDoskLJsnfgF0TLgCWrIe5n+X27l3EasqBctiXPCDepqUMLfNAtNYDZHE+\n",
       "TwcM5XwuF6Ca+D5zNB0GCS1CyM5iYGBjP4ChiZMBpNAHiDk+VTCC1S9AROBnBgYNzgUYmowYfgBJ\n",
       "fWDAcR4WAIswnt69e/deMCsamB4e8GM6j4HjH8jIWw0M3CsTIQ6+AJd7uQ4WwejuA6UDtuUMDO8L\n",
       "6iFWISWMq+DwwQTcCSDTFBgY7BneN4Bd4oISqnw/2DA16RdAoyiW4b1AAjg5NSBrYv+gDGS8B4YG\n",
       "3y8oA2QBNMhvMLBMATufL7YOOf6uGIDcA0qXO2EMoAUYMc+eSygZHcEniV08gvkfPk0+2AQZf3A3\n",
       "QJMLVvCmAZvolOlgrx/GVRBMbcCVxhlTgVIACshcgJzv/isAAAAASUVORK5CYII=\n",
       "\" style=\"display:inline;vertical-align:middle;\" /></a></td></tr>\n",
       "<tr><td>7</td><td>Literal</td><td></td><td><a class=\"ProveItLink\" href=\"../packages/proveit/number/division/__pv_it/7a11ad25d6e61156459ac6819a1cec8fded2dde30/expr.ipynb\"><img src=\"data:image/png;base64,iVBORw0KGgoAAAANSUhEUgAAAA4AAAAMBAMAAACgrpHpAAAAJFBMVEX///9UVFQiIiJmZmaIiIiY\n",
       "mJi6urrc3Nzu7u4yMjJEREQAAABC8rhfAAAAAXRSTlMAQObYZgAAAAlwSFlzAAAOxAAADsQBlSsO\n",
       "GwAAACNJREFUCNdjYGBgWNnAAALsuxPANEMIAxZgpAQCigx4ADZzADtEBjyBzt3FAAAAAElFTkSu\n",
       "QmCC\n",
       "\" style=\"display:inline;vertical-align:middle;\" /></a></td></tr>\n",
       "<tr><td>8</td><td>ExprTuple</td><td>11, 12</td><td><a class=\"ProveItLink\" href=\"__pv_it/9ec4022bd366258bd6779a46130ba3b73153c39c0/expr.ipynb\"><img src=\"data:image/png;base64,iVBORw0KGgoAAAANSUhEUgAAAFEAAAAVBAMAAADMaB9/AAAAMFBMVEX////MzMxUVFREREQiIiK6\n",
       "uroQEBCYmJhmZmYyMjLu7u52dnaqqqqIiIjc3NwAAACFAiZ1AAAAAXRSTlMAQObYZgAAAAlwSFlz\n",
       "AAAOxAAADsQBlSsOGwAAAU5JREFUKM9jYGB4wEAYgNXwHiBCZSyIOA3EjF441XCZOUCN45rAwLCo\n",
       "8xdu4zgbQOQsBgaOApAWLCrDoTQ/2HUVDAxsDDhUnoXS8QtAJNsChkhCKrdB3FDA0I2icu2lhbsP\n",
       "oKqcxHC2i4GBW4FhOorKBl5dDgcUlVzfec6lMzCwT2DwQVbJ/oD3H1MBikqefzGM84CUA0MqskpG\n",
       "BuYJYEaLi0uai4sTkMWRLgCW+YCqEhgmF9B8xDJjI4hiTWCYg6oy/gHXAhSV6wPiQYYCbbeFqeQC\n",
       "0osD9Bm4Uc2sZ1h/AGgPuwHDJpjK9UAXnpdqY4hBVanMsF5gA9C5FxhCgDwmsy+6DCzAVLLiLk/7\n",
       "AVSVNgy8vUD3sDxgYBGAOfEU9jiCgCdABzTAOBuwpxAIaAdiO1hCvIAnJfMZgPwL5bDjS/PMoKDj\n",
       "KyAid9QxMAAA949XTjHAguoAAAAASUVORK5CYII=\n",
       "\" style=\"display:inline;vertical-align:middle;\" /></a></td></tr>\n",
       "<tr><td>9</td><td>Literal</td><td></td><td><a class=\"ProveItLink\" href=\"../packages/proveit/logic/set_theory/membership/__pv_it/7776fc89cb67d0b5b1ec2c0c8e08da5587921ccf0/expr.ipynb\"><img src=\"data:image/png;base64,iVBORw0KGgoAAAANSUhEUgAAAAwAAAAMBAMAAACkW0HUAAAAKlBMVEX///92dnZUVFSqqqoQEBDM\n",
       "zMzc3Nzu7u66uroyMjIiIiJERESIiIgAAACm0meuAAAAAXRSTlMAQObYZgAAAAlwSFlzAAAOxAAA\n",
       "DsQBlSsOGwAAADxJREFUCNdjYGA4vWrVBAaGzuMMQMA2HUQycCZAKDDJELIKCDYwVEN4XBCK5wCE\n",
       "ngyhinYUgOnGXasmAABvGQ6ucz2C1gAAAABJRU5ErkJggg==\n",
       "\" style=\"display:inline;vertical-align:middle;\" /></a></td></tr>\n",
       "<tr><td>10</td><td>ExprTuple</td><td>19, 13</td><td><a class=\"ProveItLink\" href=\"__pv_it/de6ae7bfb7d2f9dc5f9ee77cbbd1f3a721d8b4bd0/expr.ipynb\"><img src=\"data:image/png;base64,iVBORw0KGgoAAAANSUhEUgAAAGUAAAAVBAMAAACtcD09AAAAMFBMVEX////MzMxUVFREREQiIiK6\n",
       "uroQEBCYmJhmZmYyMjLu7u52dnaqqqqIiIjc3NwAAACFAiZ1AAAAAXRSTlMAQObYZgAAAAlwSFlz\n",
       "AAAOxAAADsQBlSsOGwAAAa1JREFUOMuVUjtIw1AUPfbftIniJg4WXB06C0oXwU+HDio4iB10c4ib\n",
       "k3YQpRQhmyIOgYJbaXFzy1yFFhysTgU/OAi2QwdLFe9N86o1idAHyb28c8979517ANTxe0krcFtv\n",
       "XGlWy0YfcF925QxN6sA6Z9dAfrO3H23zMRkHwjTgjXWvkDTaOO1BkQT9fCU7R9Ys8AwIqRQ7/Ry3\n",
       "ZYK7QICCvz0AJ6BjjfP0AJywihyHWLSm/2wXju3lhVvBicRwQqGo3ryoXSxETy2t2jmZABXI3E9Q\n",
       "Q5JC5dkYsyb7rkIxsjZKsD5MGiusVTSBLQqHOwIbnSP18enwlgo3/3hOg2qYnIXciHBOVrfm+ncd\n",
       "8O8qRSKnQUyp5W8KiEcdjjlwlritr25vM9RsQ+rI1JLQrWjYfaC0xEyCcVwCnrjUjKCoCc6GQhpJ\n",
       "HyyoZiV0rtA6VMUy9WOg9gDfouB47zibZ+NlrITO7ZmxDp94Psr/+SBQFeATXdrzfcmd4zH2dQEe\n",
       "0TcrZK6alk87cSaMpDCJwk3mxai7zG0nTqiW4nBB2nj5QkXtg1+nXG09ztAe8A1M9GWJp3nvMAAA\n",
       "AABJRU5ErkJggg==\n",
       "\" style=\"display:inline;vertical-align:middle;\" /></a></td></tr>\n",
       "<tr><td>11</td><td>Literal</td><td></td><td><a class=\"ProveItLink\" href=\"../packages/proveit/number/numeral/__pv_it/f086f8c372bd40a2458306ddfdbb29f3dc6f63030/expr.ipynb\"><img src=\"data:image/png;base64,iVBORw0KGgoAAAANSUhEUgAAAAgAAAAOBAMAAADgeEClAAAAIVBMVEX///8QEBBERESIiIgyMjJm\n",
       "ZmZUVFTu7u4iIiLMzMwAAAAWRytzAAAAAXRSTlMAQObYZgAAAAlwSFlzAAAOxAAADsQBlSsOGwAA\n",
       "ABtJREFUCNdjYOBsZ2AoC1nOwMDATBbBprgiGQBsuwqCZsDj4wAAAABJRU5ErkJggg==\n",
       "\" style=\"display:inline;vertical-align:middle;\" /></a></td></tr>\n",
       "<tr><td>12</td><td>Operation</td><td>operator:&nbsp;14<br>operands:&nbsp;15<br></td><td><a class=\"ProveItLink\" href=\"__pv_it/50df52f558793eebb62d95114efe9322ec7c608a0/expr.ipynb\"><img src=\"data:image/png;base64,iVBORw0KGgoAAAANSUhEUgAAADEAAAAQBAMAAABNQoq8AAAAMFBMVEX///8QEBC6uroyMjJERETc\n",
       "3NyYmJgiIiJmZmaqqqp2dnbMzMxUVFSIiIju7u4AAAAoIwv1AAAAAXRSTlMAQObYZgAAAAlwSFlz\n",
       "AAAOxAAADsQBlSsOGwAAAKVJREFUGNNjYMACnogz4AIW6AJqMMZPdJm5UJrpHy4ZLgEw9fbO61UT\n",
       "UGWYD3DeeMDA0MB7lqMAVeZ9wszABAa2AN6vPAmoMvODJmwOYOBmYDEAc9vLywXLy2tAzMZsiAr+\n",
       "C+guKO7aAKb1A/geoMjwfWL6DQoJhfMMXKh62D7w/eQF2ravkUETVYbHge83UPGLu5xtE1BlWCYw\n",
       "3LiHPQwwgRoyBwBI6zADMi88bAAAAABJRU5ErkJggg==\n",
       "\" style=\"display:inline;vertical-align:middle;\" /></a></td></tr>\n",
       "<tr><td>13</td><td>Operation</td><td>operator:&nbsp;16<br>operands:&nbsp;17<br></td><td><a class=\"ProveItLink\" href=\"__pv_it/0c4e72617576ad64d646775796d37f7627bd7dbd0/expr.ipynb\"><img src=\"data:image/png;base64,iVBORw0KGgoAAAANSUhEUgAAAEMAAAAVBAMAAADvM06qAAAAMFBMVEX///8QEBBERERUVFTMzMyY\n",
       "mJjc3NxmZmYiIiJ2dnaqqqoyMjKIiIi6urru7u4AAAAvZeGPAAAAAXRSTlMAQObYZgAAAAlwSFlz\n",
       "AAAOxAAADsQBlSsOGwAAAOVJREFUKM9jYGDgu8uAC7Atg9Cn1+FUwuCsByK5/gEJngIs8k4PGBiU\n",
       "QQzOBiDBMQGLktNAPAOuBCegspI3NZiSfGcUYErYNzAwTLiIqYSdQRRIHgQx8wMY2BZUYyoJY/gF\n",
       "kl0ADJxeoJkMf7A4AxxgbNoLGPiqH0B5GDaB/MG5F0gwGTAwcBtgUQIOzvUJUB+9X4AldPMvAImJ\n",
       "ME/fZwsAuug3A5R4vwEkEY8SLkxHQax2GMEBjlQjwqErQ0iJFes/uBIeAWwqWH5xLADR4DDlk8Jq\n",
       "Sk0tWFIUzEm3whnPLJOBRgEArsE34LVhimYAAAAASUVORK5CYII=\n",
       "\" style=\"display:inline;vertical-align:middle;\" /></a></td></tr>\n",
       "<tr><td>14</td><td>Literal</td><td></td><td><a class=\"ProveItLink\" href=\"../packages/proveit/number/addition/__pv_it/65ad7e8aee19b10110d590375ba95a879c4fb7ea0/expr.ipynb\"><img src=\"data:image/png;base64,iVBORw0KGgoAAAANSUhEUgAAAA4AAAAOBAMAAADtZjDiAAAAHlBMVEX///9UVFQQEBAiIiJmZmaI\n",
       "iIiqqqqYmJi6uroAAAAAFVhYAAAAAXRSTlMAQObYZgAAAAlwSFlzAAAOxAAADsQBlSsOGwAAAB9J\n",
       "REFUCNdjYGBgaGeAgFRiaGdjYyVjY0Oi1SPRIHsAgDEGyG9xCpgAAAAASUVORK5CYII=\n",
       "\" style=\"display:inline;vertical-align:middle;\" /></a></td></tr>\n",
       "<tr><td>15</td><td>ExprTuple</td><td>18, 19</td><td><a class=\"ProveItLink\" href=\"__pv_it/1c086c138db0ec5096d6d163427daec939e0d5c70/expr.ipynb\"><img src=\"data:image/png;base64,iVBORw0KGgoAAAANSUhEUgAAAC0AAAAVBAMAAAAgHXppAAAAMFBMVEX////MzMxUVFREREQiIiK6\n",
       "uroQEBCYmJhmZmYyMjLu7u52dnaqqqqIiIjc3NwAAACFAiZ1AAAAAXRSTlMAQObYZgAAAAlwSFlz\n",
       "AAAOxAAADsQBlSsOGwAAARtJREFUGNNjYGB4wIAOwCK8BzDEY0HEaRShxSlQpVwTUNXOABGzGBg4\n",
       "ClDF/4CICgYGNlRh1l8gkm0BQySqOHcCiOQsYOgGUmsvLdwNdRWnAs+NBQzcCgzTgZwGXl0OB4j4\n",
       "+oIzzwoY2Ccw+DAwsD/g/ccEtf780wOSDxh4HBhSGRgYGZjhjm0rBJGMH0DiDAz8F2Dint0CIFcl\n",
       "MMwB8eIfcC0AC3N9Zf0IpIDm2AL9HqDPwM3AAJJh/8D1hxdIGTBsAtol1cYQw8D1EyjOZMD1EaiE\n",
       "4wJDCAPDirs87UDnuwA1MB9guHGLgYHlAQOLAMxKngVwXz8BGtUADwJEaLQDsR2MsxYuzGcAigkY\n",
       "DxHgzCAT+Qow4rGOgQEAiDpAEsguFkoAAAAASUVORK5CYII=\n",
       "\" style=\"display:inline;vertical-align:middle;\" /></a></td></tr>\n",
       "<tr><td>16</td><td>Literal</td><td></td><td><a class=\"ProveItLink\" href=\"../packages/proveit/number/sets/integer/__pv_it/9c81416d3aeee14eb5f33b511a478176b3f50d040/expr.ipynb\"><img src=\"data:image/png;base64,iVBORw0KGgoAAAANSUhEUgAAAE4AAAAOBAMAAABz3DdCAAAAMFBMVEX///9mZmaqqqqYmJgQEBDu\n",
       "7u66urqIiIjMzMwiIiLc3NxUVFQyMjJERER2dnYAAACymdVkAAAAAXRSTlMAQObYZgAAAAlwSFlz\n",
       "AAAOxAAADsQBlSsOGwAAAWhJREFUKM99UT1Lw1AUPf3IZ0niJoUSMzhIF4NOTnYThEJEQcTBLg5d\n",
       "bJwchJLZqb9A6iAOUs1WUArZHBzqHxDfZBFaLIptrbR6XwrZ4oN34Lx37rn3nQeg9/tYx//rbcTx\n",
       "O+J7MQWpPoE8jfhyjF8iIJAGEc/F6BSXQOtH/DxGd+sRGGR6dHdz6oqtSRNC59iRe6ppY3ceioWL\n",
       "zhWwzsUVMmXPrjBGkpzLnswkzdQLYItI++ImXhy0uO7dg1wqQh3xcdVPSKVtpZZgqpVDku3YyAIb\n",
       "XNcGBGHA364waMPqKy4Nm87oVrQWHBpaHnPdhDZ1zDzhoATDD0dxCMQvSCiCLKQCp0OCTADDdioQ\n",
       "DMZ12TC0GnRhyvtoPtXp/E/SjDJmXeSpNaxZPpqPJeEDWpA3bHqq0p8F1E3V7wU3FWCrrobJ64HK\n",
       "8IC1OWYcurhu/5BFGWisoLEKVE9ciLUwXZPofvWs6aVM/AGcHGdEQUdQPwAAAABJRU5ErkJggg==\n",
       "\" style=\"display:inline;vertical-align:middle;\" /></a></td></tr>\n",
       "<tr><td>17</td><td>ExprTuple</td><td>20, 21</td><td><a class=\"ProveItLink\" href=\"__pv_it/c7eddd53541f05f73d4fa416d098659fb54408690/expr.ipynb\"><img src=\"data:image/png;base64,iVBORw0KGgoAAAANSUhEUgAAACYAAAAVBAMAAADY/YGeAAAAMFBMVEX////MzMxUVFREREQiIiK6\n",
       "uroQEBCYmJhmZmYyMjLu7u52dnaqqqqIiIjc3NwAAACFAiZ1AAAAAXRSTlMAQObYZgAAAAlwSFlz\n",
       "AAAOxAAADsQBlSsOGwAAAPRJREFUGNNjYGB4wIAM+EAE7wEUMdYLQOI0EN+AiQgvYLjDwMA1Acj0\n",
       "hondZGDgXMDAUcCACtgbGNgY0EEWQySG2HSGbqCRNy5AeFx3DYDkJqAoAzdrAkSMgyEdSFYy+DAw\n",
       "vOGYABGrY/gDJI8wpDIwLOCH6mXg+QUk5EFiDOcXQMU4HIBEGMMcIDkJZiXLBrBeW6B1f7gZuMBi\n",
       "7wOARDHQZgbWD88Z1oOtqQcRvQwhQNK2gIHFC8RVBhF+DCwCEKNOgYhcUAA6gLwMBkDTddhBTgEF\n",
       "ih3EWxcYGP+wgIL3MRAvhoQQyPBWEMsKpB81ANkfMAAA7o0x3PCvjEMAAAAASUVORK5CYII=\n",
       "\" style=\"display:inline;vertical-align:middle;\" /></a></td></tr>\n",
       "<tr><td>18</td><td>Variable</td><td></td><td><a class=\"ProveItLink\" href=\"../packages/proveit/__pv_it/72df168d2bfb4e0140af90912ebf83b13772060b0/expr.ipynb\"><img src=\"data:image/png;base64,iVBORw0KGgoAAAANSUhEUgAAAAsAAAAJBAMAAAAWSsseAAAAMFBMVEX///8QEBC6uroyMjJERETc\n",
       "3NyYmJgiIiJmZmaqqqp2dnbMzMxUVFSIiIju7u4AAAAoIwv1AAAAAXRSTlMAQObYZgAAAAlwSFlz\n",
       "AAAOxAAADsQBlSsOGwAAAENJREFUCNdjYHh75/WqCQwMDbxnOQoY2AJ4v/IkMHAzsBgwgAD/BTCl\n",
       "H8D3gOGJwnkGLgaG+fsaGTQZGF7c5WybwAAAJGsQ2L2rVEcAAAAASUVORK5CYII=\n",
       "\" style=\"display:inline;vertical-align:middle;\" /></a></td></tr>\n",
       "<tr><td>19</td><td>Variable</td><td></td><td><a class=\"ProveItLink\" href=\"../packages/proveit/__pv_it/273f49450ca25e1b56abbd98a7aef618f8f6c1360/expr.ipynb\"><img src=\"data:image/png;base64,iVBORw0KGgoAAAANSUhEUgAAAAoAAAAOBAMAAADkjZCYAAAAMFBMVEX////MzMzc3NyYmJiIiIhU\n",
       "VFR2dna6urqqqqpmZmYyMjIiIiIQEBBERETu7u4AAADM1VnsAAAAAXRSTlMAQObYZgAAAAlwSFlz\n",
       "AAAOxAAADsQBlSsOGwAAAE9JREFUCNdj4LuzgQEIuCaASP4GEFn/AETmgAiGpQwt8xj4PnM0HWbg\n",
       "+FTBuIiB87AAUJh7ZSKQfF9QD+TYM7xvcGCIZXgvkMBwg4FlygMA76IUkutkA5UAAAAASUVORK5C\n",
       "YII=\n",
       "\" style=\"display:inline;vertical-align:middle;\" /></a></td></tr>\n",
       "<tr><td>20</td><td>Variable</td><td></td><td><a class=\"ProveItLink\" href=\"../packages/proveit/__pv_it/557ab5defdcd46aa58168b08767502985122cd490/expr.ipynb\"><img src=\"data:image/png;base64,iVBORw0KGgoAAAANSUhEUgAAAAcAAAAOBAMAAAARcxsoAAAALVBMVEX///9ERESYmJhUVFQyMjKq\n",
       "qqrc3NwQEBC6urru7u52dnYiIiJmZmaIiIgAAAD/UVazAAAAAXRSTlMAQObYZgAAAAlwSFlzAAAO\n",
       "xAAADsQBlSsOGwAAADlJREFUCNdjYGC4wwAEuxjQAeedCwwMXBwFDAypPA4MDBP4gFyGuAlAwhkk\n",
       "+5SLgYHjQRKQKavAAAAx5QmdfgFqMAAAAABJRU5ErkJggg==\n",
       "\" style=\"display:inline;vertical-align:middle;\" /></a></td></tr>\n",
       "<tr><td>21</td><td>Variable</td><td></td><td><a class=\"ProveItLink\" href=\"../packages/proveit/__pv_it/6a5b5879f51878868f626bf09e4d76392d4779cd0/expr.ipynb\"><img src=\"data:image/png;base64,iVBORw0KGgoAAAANSUhEUgAAAAoAAAASBAMAAACQmVJ4AAAAMFBMVEX///9UVFS6urp2dnYiIiKq\n",
       "qqrc3NyYmJgQEBBmZmYyMjKIiIju7u5ERETMzMwAAAC4hZuzAAAAAXRSTlMAQObYZgAAAAlwSFlz\n",
       "AAAOxAAADsQBlSsOGwAAAEtJREFUCNdjYGBg4LsDJBi4FzBgA6f3gsgJHAUMDOwJ/AEgTvwBEDkF\n",
       "LO0MItg+gUj2DyCS8QKI5NgAZAXUAxW+D3AF8jl3KjAwAACAGg5QwkhbIAAAAABJRU5ErkJggg==\n",
       "\" style=\"display:inline;vertical-align:middle;\" /></a></td></tr>\n",
       "</table>\n"
      ],
      "text/plain": [
       "0. (1 / (x + i)) +  ...  + (1 / (x + j))\n",
       "   core type: Operation\n",
       "   operator: 14\n",
       "   operands: 1\n",
       "1. (1 / (x + i) ,  ...  , 1 / (x + j))\n",
       "   core type: ExprTuple\n",
       "   sub-expressions: 2\n",
       "2. (1 / (x + i)),...,(1 / (x + j))\n",
       "   core type: Iter\n",
       "   lambda_map: 3\n",
       "   start_index: 20\n",
       "   end_index: 21\n",
       "3. k -> {1 / (x + k) | k in {i...j}}\n",
       "   core type: Lambda\n",
       "   parameter: 19\n",
       "   body: 4\n",
       "4. {1 / (x + k) | k in {i...j}}\n",
       "   core type: Conditional\n",
       "   value: 5\n",
       "   condition: 6\n",
       "5. 1 / (x + k)\n",
       "   core type: Operation\n",
       "   operator: 7\n",
       "   operands: 8\n",
       "6. k in {i...j}\n",
       "   core type: Operation\n",
       "   operator: 9\n",
       "   operands: 10\n",
       "7. /\n",
       "   core type: Literal\n",
       "   sub-expressions: \n",
       "8. (1 , x + k)\n",
       "   core type: ExprTuple\n",
       "   sub-expressions: 11, 12\n",
       "9. in\n",
       "   core type: Literal\n",
       "   sub-expressions: \n",
       "10. (k , {i...j})\n",
       "    core type: ExprTuple\n",
       "    sub-expressions: 19, 13\n",
       "11. 1\n",
       "    core type: Literal\n",
       "    sub-expressions: \n",
       "12. x + k\n",
       "    core type: Operation\n",
       "    operator: 14\n",
       "    operands: 15\n",
       "13. {i...j}\n",
       "    core type: Operation\n",
       "    operator: 16\n",
       "    operands: 17\n",
       "14. +\n",
       "    core type: Literal\n",
       "    sub-expressions: \n",
       "15. (x , k)\n",
       "    core type: ExprTuple\n",
       "    sub-expressions: 18, 19\n",
       "16. Interval\n",
       "    core type: Literal\n",
       "    sub-expressions: \n",
       "17. (i , j)\n",
       "    core type: ExprTuple\n",
       "    sub-expressions: 20, 21\n",
       "18. x\n",
       "    core type: Variable\n",
       "    sub-expressions: \n",
       "19. k\n",
       "    core type: Variable\n",
       "    sub-expressions: \n",
       "20. i\n",
       "    core type: Variable\n",
       "    sub-expressions: \n",
       "21. j\n",
       "    core type: Variable\n",
       "    sub-expressions: "
      ]
     },
     "execution_count": 118,
     "metadata": {},
     "output_type": "execute_result"
    }
   ],
   "source": [
    "add_it.exprInfo()"
   ]
  },
  {
   "cell_type": "markdown",
   "metadata": {},
   "source": [
    "IndexedVar\n",
    "=========\n",
    "\n",
    "To truly understand what can be done with `Iter` expressions, we must see how they can be used with `IndexedVar` expressions.  On its own, an `IndexedVar` if fairly straightforward.  An `IndexedVar` is effectively an `Operation` where the *operator* is the variable being indexed and the *operand* is the *index*, but it does have some special properties related to <a href=\"#IterParams\">iterated parameters</a> which justifies makin `IndexedVar` a core expression type."
   ]
  },
  {
   "cell_type": "code",
   "execution_count": 119,
   "metadata": {},
   "outputs": [
    {
     "data": {
      "text/html": [
       "<strong id=\"a_i\">a_i:</strong> <a class=\"ProveItLink\" href=\"__pv_it/d74751540be9df95cda93c3cd8d5de0bfd6502660/expr.ipynb\"><img src=\"data:image/png;base64,iVBORw0KGgoAAAANSUhEUgAAABEAAAAMBAMAAAB2C0uMAAAAMFBMVEX////MzMxUVFQyMjKqqqoi\n",
       "IiKYmJju7u5EREQQEBC6urqIiIh2dnZmZmbc3NwAAAD0tjQRAAAAAXRSTlMAQObYZgAAAAlwSFlz\n",
       "AAAOxAAADsQBlSsOGwAAAGNJREFUCNdjYOC7s28DAxisfMDxnYGhjoGBfRoDbwADw2kGBt7vDKwH\n",
       "wJKcDQz1C8Cs+gMM+QwMqxWALAeGZpYHx4GamDewxfLwlQA1sWsffLSRgQNqJFBNIYzlzANjFe1j\n",
       "AABv8BiTNNuvBAAAAABJRU5ErkJggg==\n",
       "\" style=\"display:inline;vertical-align:middle;\" /></a><br>"
      ],
      "text/plain": [
       "a_i: a_{i}"
      ]
     },
     "execution_count": 119,
     "metadata": {},
     "output_type": "execute_result"
    }
   ],
   "source": [
    "from proveit import IndexedVar\n",
    "a_i = IndexedVar(a, i)"
   ]
  },
  {
   "cell_type": "code",
   "execution_count": 120,
   "metadata": {},
   "outputs": [
    {
     "data": {
      "text/html": [
       "<table><tr><th>&nbsp;</th><th>core type</th><th>sub-expressions</th><th>expression</th></tr>\n",
       "<tr><td>0</td><td>IndexedVar</td><td>variable:&nbsp;1<br>index:&nbsp;2<br></td><td><a class=\"ProveItLink\" href=\"__pv_it/d74751540be9df95cda93c3cd8d5de0bfd6502660/expr.ipynb\"><img src=\"data:image/png;base64,iVBORw0KGgoAAAANSUhEUgAAABEAAAAMBAMAAAB2C0uMAAAAMFBMVEX////MzMxUVFQyMjKqqqoi\n",
       "IiKYmJju7u5EREQQEBC6urqIiIh2dnZmZmbc3NwAAAD0tjQRAAAAAXRSTlMAQObYZgAAAAlwSFlz\n",
       "AAAOxAAADsQBlSsOGwAAAGNJREFUCNdjYOC7s28DAxisfMDxnYGhjoGBfRoDbwADw2kGBt7vDKwH\n",
       "wJKcDQz1C8Cs+gMM+QwMqxWALAeGZpYHx4GamDewxfLwlQA1sWsffLSRgQNqJFBNIYzlzANjFe1j\n",
       "AABv8BiTNNuvBAAAAABJRU5ErkJggg==\n",
       "\" style=\"display:inline;vertical-align:middle;\" /></a></td></tr>\n",
       "<tr><td>1</td><td>Variable</td><td></td><td><a class=\"ProveItLink\" href=\"../packages/proveit/__pv_it/a8d4b3a34d2189508f9082853fbac36935714f280/expr.ipynb\"><img src=\"data:image/png;base64,iVBORw0KGgoAAAANSUhEUgAAAAsAAAAJBAMAAAAWSsseAAAAMFBMVEX////MzMxUVFQyMjKqqqoi\n",
       "IiKYmJju7u5EREQQEBC6urqIiIh2dnZmZmbc3NwAAAD0tjQRAAAAAXRSTlMAQObYZgAAAAlwSFlz\n",
       "AAAOxAAADsQBlSsOGwAAAEdJREFUCNdjYOC7s28DAwPDygcc3xkY2Kcx8AYwMPB+Z2A9wMDA2cBQ\n",
       "v4CBof4AQz5QRb0DQzPLAwbmDWyxPECV2gcfbWQAABp5EMgcedARAAAAAElFTkSuQmCC\n",
       "\" style=\"display:inline;vertical-align:middle;\" /></a></td></tr>\n",
       "<tr><td>2</td><td>Variable</td><td></td><td><a class=\"ProveItLink\" href=\"../packages/proveit/__pv_it/557ab5defdcd46aa58168b08767502985122cd490/expr.ipynb\"><img src=\"data:image/png;base64,iVBORw0KGgoAAAANSUhEUgAAAAcAAAAOBAMAAAARcxsoAAAALVBMVEX///9ERESYmJhUVFQyMjKq\n",
       "qqrc3NwQEBC6urru7u52dnYiIiJmZmaIiIgAAAD/UVazAAAAAXRSTlMAQObYZgAAAAlwSFlzAAAO\n",
       "xAAADsQBlSsOGwAAADlJREFUCNdjYGC4wwAEuxjQAeedCwwMXBwFDAypPA4MDBP4gFyGuAlAwhkk\n",
       "+5SLgYHjQRKQKavAAAAx5QmdfgFqMAAAAABJRU5ErkJggg==\n",
       "\" style=\"display:inline;vertical-align:middle;\" /></a></td></tr>\n",
       "</table>\n"
      ],
      "text/plain": [
       "0. a_{i}\n",
       "   core type: IndexedVar\n",
       "variable: 1\n",
       "index: 2\n",
       "1. a\n",
       "   core type: Variable\n",
       "   sub-expressions: \n",
       "2. i\n",
       "   core type: Variable\n",
       "   sub-expressions: "
      ]
     },
     "execution_count": 120,
     "metadata": {},
     "output_type": "execute_result"
    }
   ],
   "source": [
    "a_i.exprInfo()"
   ]
  },
  {
   "cell_type": "markdown",
   "metadata": {},
   "source": [
    "This \"operator\" must be a `Variable` or `IndexedVar`:"
   ]
  },
  {
   "cell_type": "code",
   "execution_count": 121,
   "metadata": {},
   "outputs": [
    {
     "name": "stdout",
     "output_type": "stream",
     "text": [
      "EXPECTED ERROR:  'var' being indexed should be a Variable an IndexedVaritself, got f(x)\n"
     ]
    }
   ],
   "source": [
    "try:\n",
    "    IndexedVar(fx, i)\n",
    "    assert False, (\"Expecting a TypeError error; \"\n",
    "                   \"should not make it to this point\")\n",
    "except TypeError as e:\n",
    "    print(\"EXPECTED ERROR: \", e)"
   ]
  },
  {
   "cell_type": "markdown",
   "metadata": {},
   "source": [
    "By default, a nested `IndexedVar` is formated as having multiple indices:"
   ]
  },
  {
   "cell_type": "code",
   "execution_count": 122,
   "metadata": {},
   "outputs": [
    {
     "data": {
      "text/html": [
       "<strong id=\"a_ij\">a_ij:</strong> <a class=\"ProveItLink\" href=\"__pv_it/523daf944abc6806cc0edb1a8004e6f057e521f50/expr.ipynb\"><img src=\"data:image/png;base64,iVBORw0KGgoAAAANSUhEUgAAAB0AAAAPBAMAAADqo9msAAAAMFBMVEX////MzMxUVFQyMjKqqqoi\n",
       "IiKYmJju7u5EREQQEBC6urqIiIh2dnZmZmbc3NwAAAD0tjQRAAAAAXRSTlMAQObYZgAAAAlwSFlz\n",
       "AAAOxAAADsQBlSsOGwAAAJlJREFUCNdjYOC7s28DAxJY+YDjOwNDHZjNyMDAPo2BN4CB4TSYzyrA\n",
       "wPudgfUAknLOBob6BUj8+gMM+QwMqxVA7OorQL4DQzPLg+PfQfwLzgwMzBvYYnn4SoBGMrAXnAUS\n",
       "2gcfbWTggDjBDG5KIZj6B+M78zDUAJ0zAcYv2scg6cDArYDscAcG5gQkLkuBlSSyNBvD7esMDAAR\n",
       "BCI2dSlV4gAAAABJRU5ErkJggg==\n",
       "\" style=\"display:inline;vertical-align:middle;\" /></a><br>"
      ],
      "text/plain": [
       "a_ij: a_{i,j}"
      ]
     },
     "execution_count": 122,
     "metadata": {},
     "output_type": "execute_result"
    }
   ],
   "source": [
    "a_ij = IndexedVar(a_i, j)"
   ]
  },
  {
   "cell_type": "markdown",
   "metadata": {},
   "source": [
    "This can be altered by setting the `flatten_nested_indexing` flag to False which changes style options"
   ]
  },
  {
   "cell_type": "code",
   "execution_count": 123,
   "metadata": {},
   "outputs": [
    {
     "data": {
      "text/html": [
       "<strong id=\"a_ij_v2\">a_ij_v2:</strong> <a class=\"ProveItLink\" href=\"__pv_it/76ab1ab4e6f70731bebf54e9f46d71e45f074cce0/expr.ipynb\"><img src=\"data:image/png;base64,iVBORw0KGgoAAAANSUhEUgAAACcAAAAZBAMAAABA/SrbAAAAMFBMVEX////MzMxUVFREREQiIiK6\n",
       "uroQEBCYmJhmZmYyMjLu7u52dnaqqqqIiIjc3NwAAACFAiZ1AAAAAXRSTlMAQObYZgAAAAlwSFlz\n",
       "AAAOxAAADsQBlSsOGwAAAP9JREFUKM9jYGB4wAADfHAW7wE4k/UCjHWaAQHuQGmuCUiCnAsgNEcB\n",
       "kiB7A4RmY0AGWRAqEkVwOoTqBjml+x7U3k0IubAHzL8YGNYBWZUQQR+gA9IZOBwYGPYCeUcggqlA\n",
       "B/xiYNkA4cnDBdkMGNYHQHhhQMzIwDCHgWH9BoZ6BoZYBah2FgEGW6DgAQZLnge7gHYxFMMdwXmB\n",
       "3YObbw3QLoZeiGAI0HbdjY8uMjCDnOrHwLC2B2wCBKxfCPQFUHXDSUQYMJzkBocO14IdQI4dVHDR\n",
       "PQaGxzA/LkYKDysQ8Q8UGogAZQdFF2MCAybgVcAiyFmAKTZVDIvC3i4GBgDaFzbt14PQ3AAAAABJ\n",
       "RU5ErkJggg==\n",
       "\" style=\"display:inline;vertical-align:middle;\" /></a><br>"
      ],
      "text/plain": [
       "a_ij_v2: (a_{i})_{j}"
      ]
     },
     "execution_count": 123,
     "metadata": {},
     "output_type": "execute_result"
    }
   ],
   "source": [
    "a_ij_v2 = IndexedVar(a_i, j, flatten_nested_indexing=False)"
   ]
  },
  {
   "cell_type": "markdown",
   "metadata": {},
   "source": [
    "This is just a style change, so these two versions are considered to be the same expression with respect to *meaning*."
   ]
  },
  {
   "cell_type": "code",
   "execution_count": 124,
   "metadata": {},
   "outputs": [],
   "source": [
    "assert a_ij == a_ij_v2"
   ]
  },
  {
   "cell_type": "markdown",
   "metadata": {},
   "source": [
    "The real purpose of the `IndexedVar` expression type is to be used within an iteration.  So there is a convenient method called `varIter` for generating an iteration over an indexed variable."
   ]
  },
  {
   "cell_type": "code",
   "execution_count": 125,
   "metadata": {
    "scrolled": true
   },
   "outputs": [
    {
     "data": {
      "text/html": [
       "<strong id=\"a_iter_i_j\">a_iter_i_j:</strong> <a class=\"ProveItLink\" href=\"__pv_it/54a72bb37ae70d8c9d5c3feee44f5c2d042cdac00/expr.ipynb\"><img src=\"data:image/png;base64,iVBORw0KGgoAAAANSUhEUgAAAFIAAAAPBAMAAACFEoWBAAAAMFBMVEX////MzMxUVFQyMjKqqqoi\n",
       "IiKYmJju7u5EREQQEBC6urqIiIh2dnZmZmbc3NwAAAD0tjQRAAAAAXRSTlMAQObYZgAAAAlwSFlz\n",
       "AAAOxAAADsQBlSsOGwAAANtJREFUKM9jYOC7s28DAx6AkF/5gOM7A0MdTpUQeQYBBvZpDLwBDAyn\n",
       "cSmEyjMEMvB+Z2A9gMdyhDxnA0P9AjwqEfL1BxjyGRhWK+BSCZFn3+vAUO/A0Mzy4DjQ0QWYbgSp\n",
       "BMvzshgwMG9gi+XhKwlgYP8MEjdgQDDABFieoZznAgO79sFHGxk4gEEWCjSU9QJQQSwDlMEazgCV\n",
       "Z2BOgLmmkIGBBdN6dziL/wGU4czDwMCD6R1E8EnCGEX7GBiqMX2EiOZNyOIJGCrZEEwzBuIA88IJ\n",
       "RKrk3VvAAADXcTvTISkvegAAAABJRU5ErkJggg==\n",
       "\" style=\"display:inline;vertical-align:middle;\" /></a><br>"
      ],
      "text/plain": [
       "a_iter_i_j: a_{i},...,a_{j}"
      ]
     },
     "execution_count": 125,
     "metadata": {},
     "output_type": "execute_result"
    }
   ],
   "source": [
    "from proveit import varIter\n",
    "a_iter_i_j = varIter(a, i, j)"
   ]
  },
  {
   "cell_type": "markdown",
   "metadata": {},
   "source": [
    "### <a name=\"IterParams\"></a>Iterated parameters\n",
    "\n",
    "When a `Lambda` expression has iterated parameters, a parameter entry that is an `Iter` over `IndexedVar`s, the `apply` method offers some interesting versatility.  Consider the following example representing a map which distributes a product over a sum of an unspecified number of terms."
   ]
  },
  {
   "cell_type": "code",
   "execution_count": 126,
   "metadata": {},
   "outputs": [
    {
     "data": {
      "text/html": [
       "<strong id=\"distribution_map\">distribution_map:</strong> <a class=\"ProveItLink\" href=\"__pv_it/6c43ac79c3fbfd62913746f7bcfe6711dc72de870/expr.ipynb\"><img src=\"data:image/png;base64,iVBORw0KGgoAAAANSUhEUgAAAWMAAAAWCAMAAAAihA0VAAAANlBMVEX///8WFhYNDQ3MzMxUVFRE\n",
       "REQiIiK6uroQEBCYmJhmZmYyMjLu7u52dnaqqqqIiIjc3NwAAACgirQNAAAAAXRSTlMAQObYZgAA\n",
       "AAlwSFlzAAAOxAAADsQBlSsOGwAAAzJJREFUWMPdmctirCAMQGmVh4CI//+zlwGFiRIBiy6um9CB\n",
       "kJMYAlJC3GPJS4+9Ndg+ZeG5ee1RbTFvxZgv9WMjVRNeiwVyA6YRY5dmfjq0mgrWyhqpqvDuWGh4\n",
       "akN0xghSqxcSWMm9oStp1bHR20JLjqj7jnoppxdivO7ZNck6hUhVi4db4M0OHjUaQnTC8FK8UYfX\n",
       "mFwCSbMF7iri1LhtwTSX6KOG+IujTvI3SsXM0mJKOQFiYUD6RapavLyFPjFuCFEGw0m5l3Mr58X+\n",
       "YVe+0lfjssiwiuYx/srAGPBXpKrFy1voE+OGEGUwnNzDzYVbrDSkur5xyvzWJ2SAe8bqKr9e/ayT\n",
       "QmJs6DfrdGgU8BALfWKcYzi6iGM4yULUtfhMJIPbc3s6A30XPkBgPNfqZzUMiTFZaCoezMBGCQ+x\n",
       "0CfGOYajiziGk4KH9eB72e2j8qW+VP4d+85hjT///jDwrCuPGwaHjfz0Lm0uLUg/rRBejFVu5DRK\n",
       "IbrGcHKbQFDfy+/G+FLfHxp5ONZwgeUxV0n7GGNkeiavLfTJ42KILjGcVOFDxMd+WsP339heKr70\n",
       "id7Lfjw0TjEN8FoxfH88KAMaRTzEQqd6bMou4hhO0iVM8FGhihhLZr1tLVXB3WOc9IkkRoHD2efd\n",
       "h2rmICkSY/W9k9EFNHJ40Lm8hT4xPjMkF8sYTm5HDOXmmVzOz8Tq8AZilUnl5vxTbCR9ojWZJegc\n",
       "nVW6rSeZ+MGq4+B8HM9fKB58EAu5iF04gWicGJKLFRhO8kCsx2Ue7LgMKYkY04dyk1qpsQ361o+n\n",
       "ndgp09JiyLlQgm2aM9jI4MHAXVg45nHGCXn9DcJwF8sYH3k6g7i1GH4yNdUiO2i1WKdldcs1UuF4\n",
       "2LcQI72/pXPHtLXwDbFjeHm6Q3GVJpxPqg5yuUGDQDtrr1ciFY5Xuk3qdyeUucgaSncYO0aQ9PBG\n",
       "3JqwYe+s2fNyg/ad/9xpaa2fkQrDw/KHkv4PtZiLJYxNaoSq6vVnB+216txJqy93I5VuCxrVD8T4\n",
       "zKCmOoxd2q43yIrj62hquAiJVE140zP/0IMMVy5CjIdw3Naqyf/9NLr4D1xmLF1EcE5EAAAAAElF\n",
       "TkSuQmCC\n",
       "\" style=\"display:inline;vertical-align:middle;\" /></a><br>"
      ],
      "text/plain": [
       "distribution_map: (a_{i},...,a_{j}, b) -> ((a_{i} * b) +  ...  + (a_{j} * b))"
      ]
     },
     "execution_count": 126,
     "metadata": {},
     "output_type": "execute_result"
    }
   ],
   "source": [
    "a_k = IndexedVar(a, k)\n",
    "distribution_map = Lambda((a_iter_i_j, b),\n",
    "                          Add(Iter(k, Mult(a_k, b), i, j)))"
   ]
  },
  {
   "cell_type": "markdown",
   "metadata": {},
   "source": [
    "We can apply a map which splits $a_i, ..., a_j$ into multiple entries.  In so doing, the `Iter` of the result is split in the same manner.  For example, consider the following substitution into $a_i, ..., a_j$:"
   ]
  },
  {
   "cell_type": "code",
   "execution_count": 127,
   "metadata": {},
   "outputs": [
    {
     "data": {
      "text/html": [
       "<strong id=\"a_sub\">a_sub:</strong> <a class=\"ProveItLink\" href=\"__pv_it/fa2e70024215f9010b891359bf8b8c925193b7c00/expr.ipynb\"><img src=\"data:image/png;base64,iVBORw0KGgoAAAANSUhEUgAAAN8AAAAVBAMAAAA0pCbNAAAAMFBMVEX////MzMxUVFREREQiIiK6\n",
       "uroQEBCYmJhmZmYyMjLu7u52dnaqqqqIiIjc3NwAAACFAiZ1AAAAAXRSTlMAQObYZgAAAAlwSFlz\n",
       "AAAOxAAADsQBlSsOGwAAAllJREFUSMe9lU+I00AUxr+kTZNNk2xBT4pQ8SAIxSJ48KB0QUHEwyKy\n",
       "ICgbBRFBIR6EPchaRC2yiL0JohB3Dy5CMbinRYV6Ez04FMHCEszBkwh2D4IeXJzM5G9jg6cEOp15\n",
       "+X3z5b28JAA8FHYwK71fnOE5f/hQnB9LTu0WaIhHgGIVabgAVIr0Q8XGmUINpyws0b/e4Omr3F5V\n",
       "3X07X6cjQ4LlXMk4sH3GsFCt4yGdt/WG0spTKxiQ26lIVTNxM0+SAZ6sDQG5i5N09PQt0cKzyf26\n",
       "iC/e3lTku9LFnjwJB+LDsOEAWgsXAQElKhTcyUnWcGgsYlcIruZJGJCKrNrUZOQbAtMEzH3y8Wc8\n",
       "MG8Lm7kSBiRTpAlCMvGYnfRUO1ctbeE5Fq659c+7g8g96GauxAfkzq5h/FpTWVKHgZXZ/ajyDNV/\n",
       "1IZGD4ojegeuX8IFDALoAEp1bmhnOzQE5Dmr4vGlZEGk7dLES+Djjrs4yw1f+F3gD+rvxETbXDWl\n",
       "vtFr4af/GDHoFuYtfo1JMl4x4NsnTNt8uW1tY4a2O8FpejddrdPnhuUT9Fy5TYfj4eSoDfU+eXcD\n",
       "EIlg+l3NoOU3DzyeIQViCddFQANzwdLRLs/SqYdyLSwEU7/P1EeLSlap6U1jVAuh9UCiZWsaAeex\n",
       "JCQ3/Uqr2k4ZOtknOJr9oDnKTYdBSle9Ekiq2fseAsYIx94mN+3Q35Gwbdd/EagkI+5Fs1OY8oyG\n",
       "zaAyER0uSQBR04SAVMeGldjUaNJhJYnK2avNfr58SHPv/DcQb1ryq28U+EFcBP4CUsOwIRqvFB8A\n",
       "AAAASUVORK5CYII=\n",
       "\" style=\"display:inline;vertical-align:middle;\" /></a><br>"
      ],
      "text/plain": [
       "a_sub: (x_{1} ,  ...  , x_{m} , y_{1} ,  ...  , y_{n} , z)"
      ]
     },
     "execution_count": 127,
     "metadata": {},
     "output_type": "execute_result"
    }
   ],
   "source": [
    "from proveit._common_ import m, n\n",
    "x_iter_1_m = varIter(x, one, m)\n",
    "y_iter_1_n = varIter(y, one, n)\n",
    "a_sub = ExprTuple(x_iter_1_m, y_iter_1_n, z)"
   ]
  },
  {
   "cell_type": "markdown",
   "metadata": {},
   "source": [
    "But to allow this as a subtitution, we must prove (or assume) that the lengths of these `ExprTuple`s match (that the have the same number of elements).  We could prove this assuming $j-i+1 = m+n+1$, but for this demonstration we will simply assume what we require to be true."
   ]
  },
  {
   "cell_type": "code",
   "execution_count": 128,
   "metadata": {},
   "outputs": [
    {
     "data": {
      "text/html": [
       "<strong id=\"a_required_len\">a_required_len:</strong> <a class=\"ProveItLink\" href=\"__pv_it/e3cdd89c19bc5e7300d3fe388eb406d7ad766d410/expr.ipynb\"><img src=\"data:image/png;base64,iVBORw0KGgoAAAANSUhEUgAAAW8AAAAVBAMAAAB73HI0AAAAMFBMVEX///9UVFREREQiIiIQEBCY\n",
       "mJhmZmYyMjLu7u6qqqrMzMyIiIi6urp2dnbc3NwAAABm9RoHAAAAAXRSTlMAQObYZgAAAAlwSFlz\n",
       "AAAOxAAADsQBlSsOGwAAA3xJREFUSMe9l01oE0EUx18+drP5WoMgqKWYnhSqECiIVpB4KCgFCR4i\n",
       "itSIlgpRzEXw4GErWsUcGrCI4MHFkxfpFmzFBjFCPRQPXREpYoVFKehBmovaVinOm02ys1lnmtPO\n",
       "4bH5Z/7zfpl5OzMBC7Cp4F+zmOiRNwVRm3GJPrzwEfwtjUvtcocgCQNjsmb3j5o+gscrfHAEiRf4\n",
       "3sea/dOa4LfBz3aND44gIcEsPgeIaAz4sK/geT54ByBSgQHP+goe1rjgnYAcdcATJV/BIzkeeEcg\n",
       "Vx1wGauqPHX3c0VkUKrbn350KzMGjIos5SIoKeZzrE9fJllTPHAEIR4+QZrEdw44nYJCvEvOiChk\n",
       "mDLOu5RkNAtnRRZzAqQ6O9cve0mFSqUmuNxHW6oJjiDmnIBggMSTDniIzLRkxTcCObjFX6wheGVt\n",
       "cynf5RJsFVjUyggE0ozwDZK452V4M05A0MMnWCPxngMerpFVhCABiFX5k67D7jZFCxswKLAoMAhh\n",
       "w6VcxIKp88AJiAJ/+CsYXSVh0g0OsMVozgaveYZc0GLrIktiFSZ1VvhB1awA3Ibj1QqmmmNqnL6U\n",
       "C5aiCcETG3AH8qerqemdDWUE4lmRhZTSM3QUnPNaY0vFU+MEJJLiE9CziSmVIJnrG7VdWIA4qOJ1\n",
       "kHTK3kAdTDgzAEdgiioAPRBMCSz4bQ86jjd6vAEgWFKaN+MIMl4x7cHbqg7bCpbGCQcc96dHTy7A\n",
       "vA0+Topd+Q3MA4bo+lg2UVHLGfgLl20ZzsFCzm1x++RU4ic6Vm0ttq/3Pakc2eCBI8iCmvMmp5/A\n",
       "3sKKzAFEUo9Vo8MVGzx0gGj7cWUKjQfo00ApGvdPAQSMWBYOUgVg9NMVy21xfNhB6Z7ZIA4sauyR\n",
       "hInr+LXFPYDIUMFp2+skp0NiArKFkXaYOfL7nfcW6++B93VuLV5Yj6fVut5UFjexJEvEIZs62+Mr\n",
       "/67S356u1ah9EPfYDAOed4N7r2fJ1tMKmUEpbVJFLinHhJYRuFkhjtC8zvYY5oPn29M5ZxnADgk3\n",
       "HDnHgAeb/0fUxV8GKIb37G49vYaIpXZpVAkZAVNoOQTd6Ih/AKaHmuaDN0DK3pfTgNgaHpTwhb2P\n",
       "K2nXxdH7e3P/VaLVS2LLw5mad9CgxgdvgHjTob1Is+1pgM9SfdnHy+EQjbPtcocgEl2TuP4PUZMj\n",
       "P4QY9wQAAAAASUVORK5CYII=\n",
       "\" style=\"display:inline;vertical-align:middle;\" /></a><br>"
      ],
      "text/plain": [
       "a_required_len: |(x_{1} ,  ...  , x_{m} , y_{1} ,  ...  , y_{n} , z)| = |(i ,  ...  , j)|"
      ]
     },
     "execution_count": 128,
     "metadata": {},
     "output_type": "execute_result"
    }
   ],
   "source": [
    "from proveit.iteration import Len\n",
    "a_len = Len(Iter(k, k, i, j))\n",
    "a_required_len = Equals(Len(a_sub), a_len)"
   ]
  },
  {
   "cell_type": "markdown",
   "metadata": {},
   "source": [
    "Using `a_required_len` as an assumption, we can `apply`  `distribution_map` to the operands $(x_1, ..., x_m, y_1, ..., y_n, z)$ to obtain the following"
   ]
  },
  {
   "cell_type": "code",
   "execution_count": 129,
   "metadata": {},
   "outputs": [
    {
     "data": {
      "text/html": [
       "<a class=\"ProveItLink\" href=\"__pv_it/111a7dd140b2af0753aaf81ec2c12094cea6f3510/expr.ipynb\"><img src=\"data:image/png;base64,iVBORw0KGgoAAAANSUhEUgAAAfEAAAAVBAMAAACkvspuAAAAMFBMVEX////MzMxUVFREREQiIiK6\n",
       "uroQEBCYmJhmZmYyMjLu7u52dnaqqqqIiIjc3NwAAACFAiZ1AAAAAXRSTlMAQObYZgAAAAlwSFlz\n",
       "AAAOxAAADsQBlSsOGwAABE5JREFUWMO1WE2IE0kUfvlvO50ouHgQxICHPchg8CAi7JKRrHhQyUFG\n",
       "BGUiOC6KQrNexssaFjWIDgYvivjTOuDPQRLUi8hCBPEiwaAiYXWgUUFQYfUg6qw7+F5P/6S6q6Zq\n",
       "1p2CdOiuL9/3vapXr7oCADbwm+j5LLF5pUf/m6KtJOegcm0Bx3Z1G0IObKlu5NHzOVTkcDwXoB5w\n",
       "fq6vKs0cTqg9EDwf38kTNlpzoyjgCMn5KL3BI55Xw8sZVRt8DmqnicsKPbw2V4p8jmsClGbyOObT\n",
       "yI16+WqKEtnt0EQA+IqfTM292eJ+16WKW0R8XsdsXNcFqDRXYZjmKe1OltEV+PA60sI1PknXPe5d\n",
       "x/2uShU7IkKvYzauqwLUVi7HLSctTMXIt4qMZkt0PcXaTjWkitLIZ+E6IuehjuHX9UcX77CF4eTE\n",
       "cfRdUIycz0H8Az18doO1rWHFuT4GekGsKI0cFfVeFy6B3DXJwQ+DeTOMogmp5Qa0ElNAvlhNGzIN\n",
       "xci5HNSaZ/QpgAOsbZqU1n3IvBcrSiNHxaxRhYMgd+3kwLmbvQhqA5YgOzcVN+FKkBbGJMzvglFS\n",
       "jDzgCLWHFvwLcI+1nWxDvn0U4kX9AAgUpZGj4jutActYO1zXKAd5C1oR1AhADBIYdGyiND0klCEN\n",
       "aLYgRrOilcvrdpbLhYiJvg6fo3+66fYo6P8ALKX7Q+XyrnJ5LRWXCuiwD9LdJU8CZJ9igAy1vg5U\n",
       "tNJdZPEnUuga5bBdtSKoEafQ0/i4g7V+essbbkOqqjjnAUfQkjVnO0/hvjbEThhZwaK/dIGbDA6S\n",
       "VZTO+YhTo2Mf/A6xayfyfCuKOusUelu3/DShKEw4Yalnu8+RqS95lPttgQ/4BNpkJNvntZ2Bfxp0\n",
       "RBSlkZ91EipXRcGexDXJ4duqHkH9hO+YlRWQBSbyiv4rrt2iYuQ+R2bITBdywcr4CJdx7e9nbSfw\n",
       "V4kCrGQjZxSlkaMiEiQKJGjP7Jrk8K0mHkHhlvNw8RHYxkQeNxOYglqX5aAF6SyVZqh8+hxvniCx\n",
       "Frwn/wir8TrG2qZtRyukPjGRs4qdvtXriDVDRZ82yj9g2CRBa2bXJLfw5rPBCGozrv4Jo95mItfH\n",
       "jtMCtENVsuYulWSN7Qg4BmCRU0zddpW2c9gUepNBHX15b4qJnFXs9K1eR8xT9DpQES79ecJGwSGJ\n",
       "a5JrGbsrEVTSX5VGeDt+BYrZHnDsgMfwdyx0PC6FUtUZ/myDiZxVlGb7tOJtEjwWk7ge5BG96jtP\n",
       "RCOvq55YfI78e5yE/dnQ9meGjhujVJ0utzmR11VPLKioNfS9JPjLXYnrUR4RoX72XN/+zM5tvqh8\n",
       "WvY4UgU4Dy/+YjtfhtEJGzbCcoC3F8bgvysmu/EWCT4zJRwJ3t80hBoXkScsZR/jM3WuiRyui9Dp\n",
       "Vb5X0Zg4rOZaLwpQeVEu/67+35CQgxIzOuSv51CRw/Gai/oGFtid/rDeGkEAAAAASUVORK5CYII=\n",
       "\" style=\"display:inline;vertical-align:middle;\" /></a>"
      ],
      "text/plain": [
       "(x_{1} * b) +  ...  + (x_{m} * b) + (y_{1} * b) +  ...  + (y_{n} * b) + (z * b)"
      ]
     },
     "execution_count": 129,
     "metadata": {},
     "output_type": "execute_result"
    }
   ],
   "source": [
    "requirements = []\n",
    "distribution_map.apply(*a_sub, b, assumptions=[a_required_len],\n",
    "                      requirements=requirements)"
   ]
  },
  {
   "cell_type": "markdown",
   "metadata": {},
   "source": [
    "The `requirements` is appended with facts that were needed to make this happen.  Here, there is just one requirement which is the statement we assumed.  It is a **KnownTruth** proven by *assumption*; these concepts will be discussed in future chapters."
   ]
  },
  {
   "cell_type": "code",
   "execution_count": 130,
   "metadata": {},
   "outputs": [
    {
     "name": "stdout",
     "output_type": "stream",
     "text": [
      "1\n"
     ]
    },
    {
     "data": {
      "text/html": [
       "<span style=\"font-size:20px;\"><a class=\"ProveItLink\" href=\"__pv_it/01df4db08c37bd76bf717740d6e2774b04a6a6320/expr.ipynb\"><img src=\"data:image/png;base64,iVBORw0KGgoAAAANSUhEUgAAAYUAAAAVBAMAAABbHO+MAAAAMFBMVEX///8QEBBERERUVFTMzMyY\n",
       "mJjc3NxmZmYiIiJ2dnaqqqoyMjKIiIi6urru7u4AAAAvZeGPAAAAAXRSTlMAQObYZgAAAAlwSFlz\n",
       "AAAOxAAADsQBlSsOGwAAA9hJREFUWMO9V0toE1EUvWmSmUw6mWahm/qhILhRSxBcKEWj3SiIDRUq\n",
       "6MJBET8LW5GCJRULitZiJerGL0QQPyBtQHQhfqIVYrVouyt+6FgFN0Wz0C784b1vZpKZzLzXrPJg\n",
       "3szcuee9c9697zMAoH0ECVjRoWZFctQe89xEdKuWbprvr4dAGacHNVs7DbE81Wa/jlItkQ+svgbQ\n",
       "2kwP0X829A7UsLwSaCAiBT401GypRA2whMH6LKiWq6WGeoOrgRE5zYeq+P2JreGiS4OcqqWGcBdX\n",
       "QzVEtvlrCEBNy2KuhmqIBAxfDe9rq+E+V0M1ROpTvhp6KBXH1m66LATPjHy55F42ZnpBSwgQWiEP\n",
       "n52GjSckZHCBq6HHxHAZPCfHhFODnLOgNDAyjOSPCDV0qS1yn8uSuQ7hogChROOw02l4dJ4WnR0l\n",
       "DUf6qRwvaUAiSizOZxDAEQjnLA3PyNSZsqADeHXAW30VaDv4U1FXZ4OuOSdl0xBsEkAO4CitdAIM\n",
       "yODtNjcOAyaGy6AB8yDaZ2noxJfWQRu6CK8kLMN680v+2gx1Fa1rsBACeQHECOTRxVm+0oRs42pA\n",
       "IkYDP5dgGOGhoqVBWpYFLW04NAD8AWuMeMXTeuwftCVFkCkj9MMVOQoDTIg0MJ68QsnOco00KI+x\n",
       "qktY0IeM0Cx8E2uY0jUj3L15RN2aNA0Y9mdCSBrUOCIK5YOC5sqlyvlARO4JGND2V8qlYd25Li3H\n",
       "vFgRLFKyUvvegaCep8fXgQLhiVQgoSaYhQZhiQiCX+sShNBNj1gKgnhr58aBiPxSTGxFWrIw/qVZ\n",
       "0WRpOOdaW3Gxi/74Go9lGSHtN5q+5xwPrBrecgjewcGX0DAuZ0yznIj9dEMqcIdhKkUIw7RtOD96\n",
       "Am+9XA1IJFbc49M5ezMXQTnvuz9MolNv/tZ2K879KDpCB4JTYD1EzuJ0HIt2o8gWWA+RLLOAtrow\n",
       "WwEp48jh89VjOiImLI9MdAF1d5KrYZJikTKx5c67LDgugvSq+2qIJEtNEaGoNzOGSk/z4Dl0hmyL\n",
       "kpsDcoUQPSGnh9TH1WATGfK0xuABCsE+//MSO4WVNSjedMyUCBRxXNsV05KGT1kRRM5pjYQYvOH0\n",
       "YAc7fw02kYx3u8QoZHeSkG6XBjVut7XUdt3/FJN1xjtBS6tqLAEPYPcb03IGVgshkXwwQ4jRlNNj\n",
       "l+D/YWlFd+VjBm4rWdqLpSZbQ5q5NtrQaZe/9wAc9rfcLYwLIdGxoz6NNgs0THO6I7jMeqszLA3a\n",
       "fPZh7xpQWQZKNfyBCLM/YjVZ+XtTJZEOVr+A0AVM4//EXFPHJ0SV3wAAAABJRU5ErkJggg==\n",
       "\" style=\"display:inline;vertical-align:middle;\" /></a> <a class=\"ProveItLink\" href=\"__pv_it/caa121e824fb8a27d1dde41dbda6a9e7934c6df40/proof.ipynb\" style=\"text-decoration: none\">&#x22A2;&nbsp;</a><a class=\"ProveItLink\" href=\"__pv_it/e3cdd89c19bc5e7300d3fe388eb406d7ad766d410/expr.ipynb\"><img src=\"data:image/png;base64,iVBORw0KGgoAAAANSUhEUgAAAW8AAAAVBAMAAAB73HI0AAAAMFBMVEX///9UVFREREQiIiIQEBCY\n",
       "mJhmZmYyMjLu7u6qqqrMzMyIiIi6urp2dnbc3NwAAABm9RoHAAAAAXRSTlMAQObYZgAAAAlwSFlz\n",
       "AAAOxAAADsQBlSsOGwAAA3xJREFUSMe9l01oE0EUx18+drP5WoMgqKWYnhSqECiIVpB4KCgFCR4i\n",
       "itSIlgpRzEXw4GErWsUcGrCI4MHFkxfpFmzFBjFCPRQPXREpYoVFKehBmovaVinOm02ys1lnmtPO\n",
       "4bH5Z/7zfpl5OzMBC7Cp4F+zmOiRNwVRm3GJPrzwEfwtjUvtcocgCQNjsmb3j5o+gscrfHAEiRf4\n",
       "3sea/dOa4LfBz3aND44gIcEsPgeIaAz4sK/geT54ByBSgQHP+goe1rjgnYAcdcATJV/BIzkeeEcg\n",
       "Vx1wGauqPHX3c0VkUKrbn350KzMGjIos5SIoKeZzrE9fJllTPHAEIR4+QZrEdw44nYJCvEvOiChk\n",
       "mDLOu5RkNAtnRRZzAqQ6O9cve0mFSqUmuNxHW6oJjiDmnIBggMSTDniIzLRkxTcCObjFX6wheGVt\n",
       "cynf5RJsFVjUyggE0ozwDZK452V4M05A0MMnWCPxngMerpFVhCABiFX5k67D7jZFCxswKLAoMAhh\n",
       "w6VcxIKp88AJiAJ/+CsYXSVh0g0OsMVozgaveYZc0GLrIktiFSZ1VvhB1awA3Ibj1QqmmmNqnL6U\n",
       "C5aiCcETG3AH8qerqemdDWUE4lmRhZTSM3QUnPNaY0vFU+MEJJLiE9CziSmVIJnrG7VdWIA4qOJ1\n",
       "kHTK3kAdTDgzAEdgiioAPRBMCSz4bQ86jjd6vAEgWFKaN+MIMl4x7cHbqg7bCpbGCQcc96dHTy7A\n",
       "vA0+Topd+Q3MA4bo+lg2UVHLGfgLl20ZzsFCzm1x++RU4ic6Vm0ttq/3Pakc2eCBI8iCmvMmp5/A\n",
       "3sKKzAFEUo9Vo8MVGzx0gGj7cWUKjQfo00ApGvdPAQSMWBYOUgVg9NMVy21xfNhB6Z7ZIA4sauyR\n",
       "hInr+LXFPYDIUMFp2+skp0NiArKFkXaYOfL7nfcW6++B93VuLV5Yj6fVut5UFjexJEvEIZs62+Mr\n",
       "/67S356u1ah9EPfYDAOed4N7r2fJ1tMKmUEpbVJFLinHhJYRuFkhjtC8zvYY5oPn29M5ZxnADgk3\n",
       "HDnHgAeb/0fUxV8GKIb37G49vYaIpXZpVAkZAVNoOQTd6Ih/AKaHmuaDN0DK3pfTgNgaHpTwhb2P\n",
       "K2nXxdH7e3P/VaLVS2LLw5mad9CgxgdvgHjTob1Is+1pgM9SfdnHy+EQjbPtcocgEl2TuP4PUZMj\n",
       "P4QY9wQAAAAASUVORK5CYII=\n",
       "\" style=\"display:inline;vertical-align:middle;\" /></a></span>"
      ],
      "text/plain": [
       "{|(x_{1} ,  ...  , x_{m} , y_{1} ,  ...  , y_{n} , z)| = |(i ,  ...  , j)|} |- |(x_{1} ,  ...  , x_{m} , y_{1} ,  ...  , y_{n} , z)| = |(i ,  ...  , j)|"
      ]
     },
     "execution_count": 130,
     "metadata": {},
     "output_type": "execute_result"
    }
   ],
   "source": [
    "print(len(requirements))\n",
    "requirements[0]"
   ]
  },
  {
   "cell_type": "markdown",
   "metadata": {},
   "source": [
    "Recall that the `apply` method is used in the implementation of <a href=\"#OperationSub\">*operation substitution*</a>.  Iterated parameters can be used in that setting as well.  Furthermore, this code is used in *instantiation* of iterated parameters that are universally quantified which will be discussed in a later chapter."
   ]
  },
  {
   "cell_type": "markdown",
   "metadata": {},
   "source": [
    "We will remark here that there are limitations in this capability for the sake of simplicity.  We deal with multiple `IndexedVar`s in an iteration, but their subsitutions must be aligned.  For example,"
   ]
  },
  {
   "cell_type": "code",
   "execution_count": 131,
   "metadata": {},
   "outputs": [
    {
     "data": {
      "text/html": [
       "<strong id=\"dot_prod_map\">dot_prod_map:</strong> <a class=\"ProveItLink\" href=\"__pv_it/8f4602ac5c744d449524bd3a92ec1d513b3585e30/expr.ipynb\"><img src=\"data:image/png;base64,iVBORw0KGgoAAAANSUhEUgAAAbkAAAAWCAMAAABqtxKVAAAANlBMVEX///8WFhYNDQ3MzMxUVFRE\n",
       "REQiIiK6uroQEBCYmJhmZmYyMjLu7u52dnaqqqqIiIjc3NwAAACgirQNAAAAAXRSTlMAQObYZgAA\n",
       "AAlwSFlzAAAOxAAADsQBlSsOGwAAA79JREFUaN7VWum6oyAMZUYRBFR8/5cdqkS2UIFi56t/0luz\n",
       "nJNAWHoJMY8mv/XoFmX9dKDn/SZUtvXHKse2cl0g10SyJhCpx9QKB+S6PJ1pRfnU1bqcOpArI5mE\n",
       "emRQlyY8JR4OQyW/MEuk6GstVSF5GcrqUKWBakaibCcOcA4p5i9Ubl/7Ws+FIwHIFZOMQ8WBWHW2\n",
       "EouKhCfEAc4h+TcWpl11tua4wy1a+3kk60NFgdbqlS+x4J8QBzhGsm80y2XqbS2vgRuQW8MpAuSK\n",
       "Saah5Ny5chUJR4gDHCMFLJdaLJv+YC/1zl6O2yaaGyZmvYzwKWQX/gXkikmmoVygTpWrSDhCHOAY\n",
       "CUVk3DQaek5P1XDe8O0JGcI1eTcrqtp1m2vP2jmeJV6rlWZGaBFJBOgsO1cOwxInLE8c4Bg5nTVV\n",
       "/OVQnGlY6qdeYG/SGSBZD3z71ubas3aO1wmvHNmo1z4tuWKSCNB16lw5DEucsDxxgGMkZ+ccPrSm\n",
       "5qPdW3shjxHU6By1Hnb49PfPFDz7ztx6zgKZAWnGdj7UFUgc3jk/xFgEHLW4SbgDgxIHOEZaR5we\n",
       "Wqy1cm/tj2MJaz0ZoNaMZ+Yckx6GqHI5kJPIh2K885y7S/gFBiUOcIyU53H8qOy8n3crY32z9OyJ\n",
       "ipfVfbaDrMW1s/Yd57rlEByd5erLe5II0O7dMsWSJixP3OuWdDsdvd5QSVZNFmWX8KKSQeWcPRFk\n",
       "lcGG/TWyjr7e4tpZO8eGM8UrJ4N9B918iZGMchUD9QN1qlyKxeeFovEUAI6Rdpspjb/ZTNSFaHXW\n",
       "9Wq46QfkK2dPlCKLCF6OJjo1X7W5Bmvn+MXlykfQb5jI7aFxktETAw0CYXV4RyBTuQRLwAtD4ysA\n",
       "HCPZCVGN2zLocRvcSJ0mFXVe14LdV1bJt792vtdLAbO9ybVwzeQ6F0/46UKEWzRL7g3JaJrHQJNA\n",
       "yU7xDYHMSXzKJyyHxikAnJdM9qOmUdgdaElTQ5XsGSR5+bFrcKwLL2WAXJ5kbt22r+NAHW6/sAPA\n",
       "fnfMtQoA55DJ5a1pqedGtGgXjykNPPPyU9eX49Jb2+CGFkWSSTe8jgN1uHFGbsuHu7tMUAhv0GlU\n",
       "bzOP9bnjKdlGYEqwMUtefuoaHGtamjcglyOZi21flweqeKjO8co+VgHgWKky6IpGF6oETXmusipQ\n",
       "Ase0+KcHIKfaSkDVA5VLsci7hFgFgANSd/2FTrLhmR+OnOO54vITyDWRnJ/5R5QQy23CLgWA8xAs\n",
       "syFSv+X4Pz+3vHCFfyjjNhnpCiXhAAAAAElFTkSuQmCC\n",
       "\" style=\"display:inline;vertical-align:middle;\" /></a><br>"
      ],
      "text/plain": [
       "dot_prod_map: (a_{i},...,a_{j}, b_{i},...,b_{j}) -> ((a_{i} * b_{i}) +  ...  + (a_{j} * b_{j}))"
      ]
     },
     "execution_count": 131,
     "metadata": {},
     "output_type": "execute_result"
    }
   ],
   "source": [
    "b_k = IndexedVar(b, k)\n",
    "b_iter_i_j = varIter(b, i, j)\n",
    "dot_prod_map = Lambda((a_iter_i_j, b_iter_i_j),\n",
    "                          Add(Iter(k, Mult(a_k, b_k), i, j)))"
   ]
  },
  {
   "cell_type": "code",
   "execution_count": 132,
   "metadata": {},
   "outputs": [
    {
     "data": {
      "text/html": [
       "<a class=\"ProveItLink\" href=\"__pv_it/657c87f350438d3f06a98b36cbe33f83fc7f45640/expr.ipynb\"><img src=\"data:image/png;base64,iVBORw0KGgoAAAANSUhEUgAAAikAAAAVBAMAAABxmmPSAAAAMFBMVEX////MzMxUVFREREQiIiK6\n",
       "uroQEBCYmJhmZmYyMjLu7u52dnaqqqqIiIjc3NwAAACFAiZ1AAAAAXRSTlMAQObYZgAAAAlwSFlz\n",
       "AAAOxAAADsQBlSsOGwAABJ5JREFUWMO9WF1oHFUUPvu/mexOF/RJKV3xQbAEl4IPCpatrJIHLUEk\n",
       "pWDoKlZRLGwphRQkBqkuoSzum1AU1wa0CsXFPhUVVhARSnEIRQN16YABQQW3D1IrGHrunb97zmQy\n",
       "R4mdh2Tvd79zvnPPnPs3AODCdo8N8kfEdUXQ/6Hvyiw0rTra1lXBkUf1k4S0EEO2jWAH9RdkFpp2\n",
       "eSeGqp/KUMKK5+DyHdKPK29poWhWP0VraiCN6hMZ7Sxrp0Swg/pnZRZIK3dSXJWW/VJOIoYdXVnw\n",
       "i8wuJYJAHw4lMQ5J9RdlESOtmDqKV/1qS5rgYUdblpXigNoVZfpwJYlwRarPlRMskHY4dRTvCrNS\n",
       "6MuyMtWhdodl+qlZSdfnygkWSDuD/y6sffgFXYlM5HNhVsq4dFnjB+/9khMYOF2ndhiBte7AORpA\n",
       "D6w60U/NitaPOTIRrqws4O4DdjSFdQNp6k0sV2fKTeLLRE4Js6LeRBnWnNOcwMBSn9phBNOVNrxB\n",
       "bIbfQmlC9FOzovTjjkyEK+vaef/iesTWDaQ9hX/d6ma2Ax9H9USQb4RZyWNxLcF19wFOYGClSe0w\n",
       "gt/LfbjfDMAerUC2YZ0y9FOzovQ9R+ZjIlxZWdgDiLZnr4G0owAZyGE8mbG2sW4BQ/ao191qPfli\n",
       "q1WPRWR0FOcAavAI6f5MDZSBmQm1wwgGRQeO+XLaxoJjUHR2Xw304XSr9VKr9Xg8JVGH0teOwsmj\n",
       "hmIiXFlZAJwfBFy/gbSj6vcuJ8rkLDBkXlgrnsY/pC/vbasELLSpnYrgyCBzIwhA2xT+hj01r0zm\n",
       "hbWi9bWj4NFDMRCurC3soTFs3UDae9rStQZhfQFDpDNoSi3PhU34FBaPj+s/3mfkgYC8jlUEK1Bt\n",
       "kwCw7n/wpaUzSOsrR6XubmOpMBCurC0WsDCN076laY8BrM49BNNgBkWQE8Ks5BywHs5OcGaefBle\n",
       "gLWwkBlYalA7jAD2Qa5OsoLNfX5CTgizknN8R6X5TjG6CRoIV1YWeKLLmgfSrKbhvvf9PW/DcyQr\n",
       "BOlRV3ra3zKmYtCBG1rlxvl2YWRfaMKfesv3+hlYdqid2nnfhCMdWiv1wk0/Kz06eC0bBmF06H1X\n",
       "Ofr1KuyKrgkGwpWVxV0Xrx0IuV4Dac/iCjOudEckKwQ5yBbu5WAWzrIzUROsnvPd6wBZJ9NWW4s/\n",
       "DAbmXWqHEcC5r95xSVasveubflYOslqZJUEYp7hm4GgmXIsowpWVxbDyylx0HtANpOVrfMdke6jd\n",
       "lJ74w5wXa9WGPamxc3QAbvAdXRMv8QCm+15WAv30E7+nj46ehzMZoz9ENhIjJs+GcflKykpweUu/\n",
       "HQaXL/gDC6PUYLf0EOwyO4yg3LdeowGswEcjLyvh5TH1drgIniN7Ak98HS3bEdJNjJg8irY/OMFc\n",
       "+otVg4f8LP6+kQuWuGdgyrVn2BeAALQb3G4/5J3skAbwNOwF+O2D3r/U144KdbgWvkIDiSvntvoK\n",
       "qGmrKVqPiqOyGqLYY99LVqEyfovPivW5/6Ifd2QgceUtI9Y0O+Xzhiv/QviLhLQUfzmdO6O/JLNA\n",
       "2m0rdbn1HS5cDwAAAABJRU5ErkJggg==\n",
       "\" style=\"display:inline;vertical-align:middle;\" /></a>"
      ],
      "text/plain": [
       "(x_{1} * x_{1}) +  ...  + (x_{m} * x_{m}) + (y_{1} * y_{1}) +  ...  + (y_{n} * y_{n}) + (z * z)"
      ]
     },
     "execution_count": 132,
     "metadata": {},
     "output_type": "execute_result"
    }
   ],
   "source": [
    "requirements = []\n",
    "dot_prod_map.apply(*a_sub, *a_sub, assumptions=[a_required_len],\n",
    "                   requirements=requirements)"
   ]
  },
  {
   "cell_type": "markdown",
   "metadata": {},
   "source": [
    "As long as the iteration ranges are aligned, we are okay"
   ]
  },
  {
   "cell_type": "code",
   "execution_count": 133,
   "metadata": {},
   "outputs": [
    {
     "data": {
      "text/html": [
       "<strong id=\"b_sub\">b_sub:</strong> <a class=\"ProveItLink\" href=\"__pv_it/0ef54ea7be1197889c73fbe04cc5f688868701a70/expr.ipynb\"><img src=\"data:image/png;base64,iVBORw0KGgoAAAANSUhEUgAAAN8AAAAVBAMAAAA0pCbNAAAAMFBMVEX////MzMxUVFREREQiIiK6\n",
       "uroQEBCYmJhmZmYyMjLu7u52dnaqqqqIiIjc3NwAAACFAiZ1AAAAAXRSTlMAQObYZgAAAAlwSFlz\n",
       "AAAOxAAADsQBlSsOGwAAAllJREFUSMe9lU9o01Acx79pkybm3waKB2UQ8CAIxSF48KB0oCDioQcZ\n",
       "CEq7gwdBIehFQWYRtcgY5iaIf+I8WIRhcaehQoUeRA+GukNxFIN4UsHupgeHv/eSrYlZcsyDvr7f\n",
       "L59vvnnv9yMB4CO3wa2MTn6GZ9n0IT8/vjnVydEQ9wHFztPwClDK0w8lF6dzNdxmY47K2PewkIUl\n",
       "AXWwb/frzFsv9p68ivX/jinThmbhHqDpdVzPEicBBT3vZqZhwygrlWji4VIfkB2cBH4qDvbgWXq7\n",
       "BkB0zOKLvxfq1VSJ7BvrhWg/mi7agF7BOcAtebgoDCqpag7EMuM4RPPESqpEQPH/DbRcSg+ZIWqu\n",
       "sMbMUwcH4uMvm7oZZzrmxWOTNgipjgf0dwdGPdOQAXJzomdcGg8z0jqeZxvWfNUlTX/0WlP5kR6m\n",
       "9QEUrcDQTXYoQkCetkuWYXFGPVgYspJ0UyVPq/uhgWn84BaSjQKVdhIvKbiBms0N1T8UvXAii2Bi\n",
       "wPcVjFWVNr+kr7XqUocbxsnN6OOu2zgDpnGDq9uXVqeouz2comDhzV0/2OFRel6xQYvjCBfiiQ2g\n",
       "jJ0QO5xR571318IabkpGOpK0BnqT2DKmw1u09fNVWvoQeVWWERjqyQN6jxCYwSf8EmJMN0vCxgzm\n",
       "hGj8jU61AcVRL4SGWrL4VCoOmEN63stajOmmSsLOHOLY20iMJv2OQPQKbZjLv6mPF5MdQFkOSBYe\n",
       "4evnKPPj8XyaJOxlC6t2JDYnWT9BH9zayCS/VTI7tRGQZLaWbB0X2fGbOX4QZ4F/IUmxPoYWVzwA\n",
       "AAAASUVORK5CYII=\n",
       "\" style=\"display:inline;vertical-align:middle;\" /></a><br>"
      ],
      "text/plain": [
       "b_sub: (y_{1} ,  ...  , y_{m} , x_{1} ,  ...  , x_{n} , z)"
      ]
     },
     "execution_count": 133,
     "metadata": {},
     "output_type": "execute_result"
    }
   ],
   "source": [
    "x_iter_1_n = varIter(x, one, n)\n",
    "y_iter_1_m = varIter(y, one, m)\n",
    "b_sub = ExprTuple(y_iter_1_m, x_iter_1_n, z)"
   ]
  },
  {
   "cell_type": "code",
   "execution_count": 134,
   "metadata": {},
   "outputs": [
    {
     "data": {
      "text/html": [
       "<strong id=\"b_required_len\">b_required_len:</strong> <a class=\"ProveItLink\" href=\"__pv_it/b1f749554ca9daf9a3a6b215690fe385f38f65e80/expr.ipynb\"><img src=\"data:image/png;base64,iVBORw0KGgoAAAANSUhEUgAAAW8AAAAVBAMAAAB73HI0AAAAMFBMVEX///9UVFREREQiIiIQEBCY\n",
       "mJhmZmYyMjLu7u6qqqrMzMyIiIi6urp2dnbc3NwAAABm9RoHAAAAAXRSTlMAQObYZgAAAAlwSFlz\n",
       "AAAOxAAADsQBlSsOGwAAA4JJREFUSMe9lk9o01Acx3/9kzRN1yx40zHMbsIQCoOhU6QeBuouxUMF\n",
       "kVnBMqEOexE8eMjEP+AOK7iD6MHiSfCwDF3FlUGFeRAPrXjYwQlBGcyDrBd1Uxm+30uyvDR9sac8\n",
       "6CP59ff9vU9++b33C5iAQ4HwhsnMPvN/QRRnXqcXr0MEf0/n9U5zjyB9Bs7phuWfbIUInqrwwREk\n",
       "VeBrn+rWozng9yDMcYMPjiCxgCy+AkjoDHgxVPA8H7wHEKHAgGdDBY/rXPBeQE654H3lUMETOR54\n",
       "TyDXXXCRVJVUM2AmyH+2BJLqtSze/1wJXKPTQx6pbpBVVR44gpB1eEOqa2T+4IJjCtLJLFwMgmjN\n",
       "g9D2WAqpATETCN7pkVgZJhUqlB1wcYQO1QFHkNYqN5wI42Q+54LHSFa+iWXYB3e470qpTEFE8+wS\n",
       "M7UbyQVIHA93bEIaz7wML+MEBNfhjUnYIfMDFzzeANDjBkzIdW4GJZiAuMFaZIgS5gCJ7eGJcgXN\n",
       "bR44AZHgD/8NJrfJtOAFh6Yu/7aSwWlZ27BQ9Zr6DSd/vNFveO+/00jZAHALjlcruNYqU+O4gaYg\n",
       "lQ2iIKX0EvLn6+rSAcfUNCU9GBw9hOLzmtuvdbZUfDVOQBIqPxztTUypRDEvQxBVaUzJL8CDl/w7\n",
       "BBfG4SQsWj63GgexZCmG3lVieQirubhpRX0LQLAEjZdxBJmrtLqEs6C2sDTOuuD0fLoEzRylmCN1\n",
       "Kf0C68K9E9W+H8psBv7CtGV98uwyvLPA99y9F5bH5gvo16lRPjz8kVSbaPDAEaSp5LxRXBbr2Csx\n",
       "DQiTNvPpmkkpYkfI3Si+mIIzjZAUSIO1XYgYchaOWj5368lixc44OlDPUVZiewxgWaIiDfM38X+T\n",
       "24BIrOhSRzgrJkKRY4+ME0zLH6PSNZvioX8303eXLkO8mtKUdpX1oZKk3l1CxxmYllnFV/63yphP\n",
       "7Awqn8BzOcOA53HvSadtCv/XWZpu3tsV2CI5F7QW60Ml6a4SuwO04fgjVlHkg+c7xW7/A9gv4IEj\n",
       "5hjwqAkxI9ICZe2nAZLhb93kdwwGAd5AwlQGdMaHSqiDX2IfJSqs5FiFxgePmh3ivc1pgLyDjRK+\n",
       "sN/jkgbJ+lWn3/kfFx/yca3B9MQuDsEWVxHV+eCSxgmH8hIlPGSDL1P7Rogfh5N0Xu409wgi0HeS\n",
       "qv4DfD8iXq3qzAgAAAAASUVORK5CYII=\n",
       "\" style=\"display:inline;vertical-align:middle;\" /></a><br>"
      ],
      "text/plain": [
       "b_required_len: |(y_{1} ,  ...  , y_{m} , x_{1} ,  ...  , x_{n} , z)| = |(i ,  ...  , j)|"
      ]
     },
     "execution_count": 134,
     "metadata": {},
     "output_type": "execute_result"
    }
   ],
   "source": [
    "b_required_len = Equals(Len(b_sub), a_len)"
   ]
  },
  {
   "cell_type": "code",
   "execution_count": 135,
   "metadata": {},
   "outputs": [
    {
     "data": {
      "text/html": [
       "<a class=\"ProveItLink\" href=\"__pv_it/f0933dbd63ff7dcaa40a4b144d68e164c5c633650/expr.ipynb\"><img src=\"data:image/png;base64,iVBORw0KGgoAAAANSUhEUgAAAikAAAAVBAMAAABxmmPSAAAAMFBMVEX////MzMxUVFREREQiIiK6\n",
       "uroQEBCYmJhmZmYyMjLu7u52dnaqqqqIiIjc3NwAAACFAiZ1AAAAAXRSTlMAQObYZgAAAAlwSFlz\n",
       "AAAOxAAADsQBlSsOGwAABLtJREFUWMOlWF2IG1UUPvmfnSTTgOKDUjbig2BZDAUfWmhJJco+VAlS\n",
       "VgqWRnEVi0JsEVqQdZFqWJZg3hakamxBW2ExtE9FhQhFhFIc1mKDbXDQBUGFpg+lKnTxzp07c8+d\n",
       "35N6HyYz537n+849uefemQsAFsQ0A+jNuDdMvJs1RQDW1N1GFKw8jGPKmfSgbhAwIXzxbofo+vEj\n",
       "CaW6EQW7/P+H6rTS4J5Sl+CWNFTULk+dtVBtG6b34qlm+tSgzpFQAb4ktw+p+kkjCaE6FwXT2vFM\n",
       "hWVx83xUTbgEHVLsLh/Z7XiCvteRNBJJlaDNYPkkqiPi90pU4bgrRYv2lx6Z0i3fj9f3OhJH4lEl\n",
       "aDPYwSSqNWJWcj1aVtamdJtpE7NyMLl62yRtBltlP+sbn36lrET6yITT4v48MSsaW7n08WMPfR2o\n",
       "d0Qm+bDbehf0quKDIipWiVlZDUj5mDwqrA337zNk6fEHBrP/uuXynFbHVMVSC94R9yeIWbH/CA02\n",
       "zJN+ACaTfNht8B0UJooPiqjQI2ZlLSDlY/KosDZ8dGEk0fyBwfazq1XeSrfhczmf/tJ68IgwXCJm\n",
       "Jcv+kSX4xXrUD3DIvHYp4GYMVyBd00+gJRlFVKoTs7I/ICWZhGY9GLLRB7k9Ow8MtgiQggyTT425\n",
       "j/4Pu/TzJrwhDLP25WSj8Uqj8WQgIq3RePrlRsOemfkmQAV2Kd1f9lwyaZsNuOmsO29uvypdcESp\n",
       "SYw+7lj0SfGROEyicSpfyABn+y5YPDDYon2/zZSZnLcvh/upW8KwQJwrjsRdpS+77JF5bSHolvsX\n",
       "ZitiEjkuKKJcizhXFv1S85JJrK6tkJCNAQLzBwY7xeO29L43v+y2AuWWMFAraMZe03Jb8AUcf3Nc\n",
       "vfawSlbobN8oH60EK8h2Y/P+JykEakTkCjolpUY+JmHyVxAP+RCbq+htX+ewPQBnmo9DEZSs7IRM\n",
       "VRiOEbOSMUF/Ij1hhfnWq/ASbKhkhYV2vlquSj7kZmvtVLKCIyrUiFnZg6QslUmYXCqszd7o0viN\n",
       "NM1hbKP84cH34QU1K+/C4bYwdFVxXvf2xa1EV4LtZ6VbZ1u5obFeh9t8x0dkf1yFbU2+E3YDbqBV\n",
       "c3eUrOCINFPR57JeEDgr55FUX2USJpcKa9934fo+T9d5YLADbIUZlzpDNSunv/nAEoZn1azwuueX\n",
       "ed8rUR30rvn92wBpM9WydwSFbA4e4Gu+y4fcQN8x2lKygiPKWurg55UgUMcBKbXgZ3JMLhXWHpRe\n",
       "a3po54HBshXw7VtOuygMRp36xu+lPF8p14xJRSV7EX6EmynJp7oVe751RUa0CcQKckbCpVZTPoxj\n",
       "2owMWWmb6OsPZ0Xr6a+7E7hN/Tp0v73gJpsthdpAITMm7P86VpR82G0FPhtGZqVD/TpkI3GlnvrW\n",
       "d7jkmDqRISvNhu11PS/+7e1hWTM9EIbfyMcbGXeJew5mLGOur5DlqvAx/PpzCB9zewZ2APz5Sdd/\n",
       "UGYHYNTIAez1pK77Pp8dU5AqE3Z6x2Fnwqpi/J57u5sclB4RPyIL42NuV0bN6FyTz3fYSFSpZKrQ\n",
       "kDnMiD2WKExxbvo75XjFmtJtaYpz44QDliVayAz2H9RxuBX8ev0iAAAAAElFTkSuQmCC\n",
       "\" style=\"display:inline;vertical-align:middle;\" /></a>"
      ],
      "text/plain": [
       "(x_{1} * y_{1}) +  ...  + (x_{m} * y_{m}) + (y_{1} * x_{1}) +  ...  + (y_{n} * x_{n}) + (z * z)"
      ]
     },
     "execution_count": 135,
     "metadata": {},
     "output_type": "execute_result"
    }
   ],
   "source": [
    "dot_prod_map.apply(*a_sub, *b_sub, assumptions=[a_required_len,\n",
    "                                               b_required_len],\n",
    "                   requirements=requirements)"
   ]
  },
  {
   "cell_type": "markdown",
   "metadata": {},
   "source": [
    "If the ranges are not aligned, this will fail"
   ]
  },
  {
   "cell_type": "code",
   "execution_count": 136,
   "metadata": {},
   "outputs": [
    {
     "data": {
      "text/html": [
       "<strong id=\"b_sub\">b_sub:</strong> <a class=\"ProveItLink\" href=\"__pv_it/b8869e85d1fa8806b7a950641c37288aa7a16b0b0/expr.ipynb\"><img src=\"data:image/png;base64,iVBORw0KGgoAAAANSUhEUgAAAN8AAAAVBAMAAAA0pCbNAAAAMFBMVEX////MzMxUVFREREQiIiK6\n",
       "uroQEBCYmJhmZmYyMjLu7u52dnaqqqqIiIjc3NwAAACFAiZ1AAAAAXRSTlMAQObYZgAAAAlwSFlz\n",
       "AAAOxAAADsQBlSsOGwAAAllJREFUSMe9VU1o1EAU/vYnm5i/FhQPSiHgQRAWi+DBQ2ULCiIe9iAF\n",
       "QdntwYOgEPSiIHURdSmlmJsg/sR6cBGKiz0VFVboQfRgWHtYLItBPKng9qYHi28mic0mmxzzIJN5\n",
       "b75vvpn3HgkAF5kZl9I62QmeY8OH7PT45WQrQ0HcByQzS8GrQClLPZRsnMlUcIeJBSpjz8FSGiwK\n",
       "kPsH9r5O3Xi5++RVpPt3TesmFAP3AEWt40YaPQqQ0HVupQo2tLJUGQ49XOkBooVTwE/Jwj48S25X\n",
       "D7Btc/ji7od8LZEgutpWfrgbdRttQK3gPGCXHFzK9SuJfA4I+eM4QuPEeiIhh0L8+C2bFgZMEDU7\n",
       "t8nEE40DwvaXDWspOR1zohGdLgihjgf0modWTxVkALE50Qt8YQvP0wVrrmwTo6tdHv//WZN5Sqdo\n",
       "fggFwxO04x0KHyDOmCWXu/Lh/IAVZC2R8LR6EAoYw9AMbwvBRJ6KO4mX5NxEzeSC8h/yXlihiTcw\n",
       "wPd1jNncVTdbdaHDBRMIH/fcwVkwRlVqe+GdKxvT1N8OTpOz9Oau693wGJ242KDJCfiT4skAUMaM\n",
       "58qLzrvrfg1HE1p9tUknKmM3ih1vi7Z6oUqLLoo8x6vwBNV4it7DB8xiIRe4CJomkcBsFp/wa4jz\n",
       "jbLagGTJF31BJV5+KhYH6AMcf8vdsOBogt+XA7rjFSXMadJzFEUn34a++ps6eTneAxTlAMHAhsld\n",
       "3348Xkwi+L1s4BG+fg5F9EnWUVD7t4NI/F8lsrxtA8TI8mhCUqTACqBn+EOcA/4BlTaw1Vuz1yEA\n",
       "AAAASUVORK5CYII=\n",
       "\" style=\"display:inline;vertical-align:middle;\" /></a><br>"
      ],
      "text/plain": [
       "b_sub: (y_{1} ,  ...  , y_{n} , x_{1} ,  ...  , x_{m} , z)"
      ]
     },
     "execution_count": 136,
     "metadata": {},
     "output_type": "execute_result"
    }
   ],
   "source": [
    "b_sub = ExprTuple(y_iter_1_n, x_iter_1_m, z)"
   ]
  },
  {
   "cell_type": "code",
   "execution_count": 137,
   "metadata": {},
   "outputs": [
    {
     "data": {
      "text/html": [
       "<strong id=\"b_required_len\">b_required_len:</strong> <a class=\"ProveItLink\" href=\"__pv_it/586baaddbc76a38bdd86f40de62ab579a62a5a7e0/expr.ipynb\"><img src=\"data:image/png;base64,iVBORw0KGgoAAAANSUhEUgAAAW8AAAAVBAMAAAB73HI0AAAAMFBMVEX///9UVFREREQiIiIQEBCY\n",
       "mJhmZmYyMjLu7u6qqqrMzMyIiIi6urp2dnbc3NwAAABm9RoHAAAAAXRSTlMAQObYZgAAAAlwSFlz\n",
       "AAAOxAAADsQBlSsOGwAAA31JREFUSMe9lk9IFFEcx7/7b5z92xIElUjjqcACQYgyiO0gFEIsHYwi\n",
       "bKPEYIu8BB06jFEWeXAhiaBDS6cu4Qhp5BKtYAfp4EaERAZDIdQh9FKphfR+b3ad507vtaf5gY+Z\n",
       "5+/7e5/9vd97v4ENshT8M1sYPdP/BUnVxgX+8MJH8Dd8XKifbhAkYdGYLDv+0YqP4PGCHJxA4jm5\n",
       "9rHp/LQa+G34adfk4AQSUmTxOdBkCuB9voL3yMEbAInkBPCMr+BhUwreCMhRFzwx4Ct4U1YG3hDI\n",
       "VRdcY1WlT1oYVPkP56Gnxffxu58KKoFe2v70w+apWEdxka2aloETCFtHHtFg41sXnFKQjGZwVsVR\n",
       "GUVkWXjPxZu1dpVAw7h1vi7XL9tYhUYGauBaB7d0DZxAKjOKiF1sPOmCh1jmvmkD2Ipb0r1KFfoR\n",
       "MIQzYsfXA1mFAL14ZW/bPPUVSbrz2mUZZyC0jjziKhvvueDhMmCGLXTHStIc6uhG2BJ2HUHGrBCg\n",
       "iN3eKBdJuiwDZyA6fss3MbrChrHN4JgzY2tOMiQtawVjRXFii1XLnsy8CN95pIwC3IGT1QqtNiPU\n",
       "OB2yfsQzKg5WSs/Qc7q00dfmbN1UgifWcYcU6Ymdbr82xVLx1DgDaUrLI/LeJJRKkHLXimCax9S9\n",
       "Arp42X9bcaYLxx2PG+VdVLBygb43sIwKKY5gvOr0GmBYEUOWcQIZKVT4evWVSrZEpXHCBef30znM\n",
       "ZTnHCKtd/RecB/dNSyd+pIbbseLMPXpyAbNQCKJrQ5lEgRR/cNmZju1re8eqTbNk4AQyl8puBOMP\n",
       "bmjn2ssLDYj2bvDjFZtzhA6wt/20Mbna0EEZbJlcR8CiAiWPoVK0rwCFQM9b90+BKWIZHHSckhi9\n",
       "Th62tAGxaMEJZz0eh6I6oWkNdu0xOyy0/E4una+W3wPvaeZ7lxxAuKhViqKHUsD7ezFupJY3ab7I\n",
       "v1U66+UbxuXddC+3C+A9dPb0Y1UO79dZkh/emwUsITRbFD0UAseWWM4jRkV06pOD99TL3f4H7IjQ\n",
       "haNlBfCgjZAVqCA1/9OCbnnbPfs7hBZgGvH3EDxUAsem0WSnmk1RY8jBg3adfONwWoitUqPEZ/F7\n",
       "XDcQLV2q9UTvz6Uf+XCyjH97SAQyp6ApB9cNhTzPCfdUwaf4/KKPH4e9fJyqn24QJML3JF78C0u+\n",
       "I10T+JpXAAAAAElFTkSuQmCC\n",
       "\" style=\"display:inline;vertical-align:middle;\" /></a><br>"
      ],
      "text/plain": [
       "b_required_len: |(y_{1} ,  ...  , y_{n} , x_{1} ,  ...  , x_{m} , z)| = |(i ,  ...  , j)|"
      ]
     },
     "execution_count": 137,
     "metadata": {},
     "output_type": "execute_result"
    }
   ],
   "source": [
    "b_required_len = Equals(Len(b_sub), a_len)"
   ]
  },
  {
   "cell_type": "code",
   "execution_count": 138,
   "metadata": {},
   "outputs": [
    {
     "name": "stdout",
     "output_type": "stream",
     "text": [
      "Expected ImproperSubstitution: When expanding IndexedVar's within an Iter whose parameter is the index, their expansion Iter indices must all match. (x_{1} ,  ...  , x_{m} , y_{1} ,  ...  , y_{n} , z) vs (y_{1} ,  ...  , y_{n} , x_{1} ,  ...  , x_{m} , z) do not match.\n"
     ]
    }
   ],
   "source": [
    "from proveit import ImproperSubstitution\n",
    "try:\n",
    "    dot_prod_map.apply(*a_sub, *b_sub, assumptions=[a_required_len,\n",
    "                                                   b_required_len],\n",
    "                       requirements=requirements)\n",
    "    assert False, \"Expecting a ImproperSubstitution error; should not make it to this point\"\n",
    "except ImproperSubstitution as e:\n",
    "    print(\"Expected ImproperSubstitution: %s\"%str(e))"
   ]
  },
  {
   "cell_type": "markdown",
   "metadata": {},
   "source": [
    "Such cases may still be handled, but the iterations must be first be substituted, via axioms/theorems, to split them apart along the common boundaries.  For example, given the following for the $a$ and $b$ substitutions"
   ]
  },
  {
   "cell_type": "code",
   "execution_count": 139,
   "metadata": {},
   "outputs": [
    {
     "data": {
      "text/html": [
       "<a class=\"ProveItLink\" href=\"__pv_it/fa2e70024215f9010b891359bf8b8c925193b7c00/expr.ipynb\"><img src=\"data:image/png;base64,iVBORw0KGgoAAAANSUhEUgAAAN8AAAAVBAMAAAA0pCbNAAAAMFBMVEX////MzMxUVFREREQiIiK6\n",
       "uroQEBCYmJhmZmYyMjLu7u52dnaqqqqIiIjc3NwAAACFAiZ1AAAAAXRSTlMAQObYZgAAAAlwSFlz\n",
       "AAAOxAAADsQBlSsOGwAAAllJREFUSMe9lU+I00AUxr+kTZNNk2xBT4pQ8SAIxSJ48KB0QUHEwyKy\n",
       "ICgbBRFBIR6EPchaRC2yiL0JohB3Dy5CMbinRYV6Ez04FMHCEszBkwh2D4IeXJzM5G9jg6cEOp15\n",
       "+X3z5b28JAA8FHYwK71fnOE5f/hQnB9LTu0WaIhHgGIVabgAVIr0Q8XGmUINpyws0b/e4Omr3F5V\n",
       "3X07X6cjQ4LlXMk4sH3GsFCt4yGdt/WG0spTKxiQ26lIVTNxM0+SAZ6sDQG5i5N09PQt0cKzyf26\n",
       "iC/e3lTku9LFnjwJB+LDsOEAWgsXAQElKhTcyUnWcGgsYlcIruZJGJCKrNrUZOQbAtMEzH3y8Wc8\n",
       "MG8Lm7kSBiRTpAlCMvGYnfRUO1ctbeE5Fq659c+7g8g96GauxAfkzq5h/FpTWVKHgZXZ/ajyDNV/\n",
       "1IZGD4ojegeuX8IFDALoAEp1bmhnOzQE5Dmr4vGlZEGk7dLES+Djjrs4yw1f+F3gD+rvxETbXDWl\n",
       "vtFr4af/GDHoFuYtfo1JMl4x4NsnTNt8uW1tY4a2O8FpejddrdPnhuUT9Fy5TYfj4eSoDfU+eXcD\n",
       "EIlg+l3NoOU3DzyeIQViCddFQANzwdLRLs/SqYdyLSwEU7/P1EeLSlap6U1jVAuh9UCiZWsaAeex\n",
       "JCQ3/Uqr2k4ZOtknOJr9oDnKTYdBSle9Ekiq2fseAsYIx94mN+3Q35Gwbdd/EagkI+5Fs1OY8oyG\n",
       "zaAyER0uSQBR04SAVMeGldjUaNJhJYnK2avNfr58SHPv/DcQb1ryq28U+EFcBP4CUsOwIRqvFB8A\n",
       "AAAASUVORK5CYII=\n",
       "\" style=\"display:inline;vertical-align:middle;\" /></a>"
      ],
      "text/plain": [
       "(x_{1} ,  ...  , x_{m} , y_{1} ,  ...  , y_{n} , z)"
      ]
     },
     "execution_count": 139,
     "metadata": {},
     "output_type": "execute_result"
    }
   ],
   "source": [
    "a_sub"
   ]
  },
  {
   "cell_type": "code",
   "execution_count": 140,
   "metadata": {},
   "outputs": [
    {
     "data": {
      "text/html": [
       "<a class=\"ProveItLink\" href=\"__pv_it/b8869e85d1fa8806b7a950641c37288aa7a16b0b0/expr.ipynb\"><img src=\"data:image/png;base64,iVBORw0KGgoAAAANSUhEUgAAAN8AAAAVBAMAAAA0pCbNAAAAMFBMVEX////MzMxUVFREREQiIiK6\n",
       "uroQEBCYmJhmZmYyMjLu7u52dnaqqqqIiIjc3NwAAACFAiZ1AAAAAXRSTlMAQObYZgAAAAlwSFlz\n",
       "AAAOxAAADsQBlSsOGwAAAllJREFUSMe9VU1o1EAU/vYnm5i/FhQPSiHgQRAWi+DBQ2ULCiIe9iAF\n",
       "QdntwYOgEPSiIHURdSmlmJsg/sR6cBGKiz0VFVboQfRgWHtYLItBPKng9qYHi28mic0mmxzzIJN5\n",
       "b75vvpn3HgkAF5kZl9I62QmeY8OH7PT45WQrQ0HcByQzS8GrQClLPZRsnMlUcIeJBSpjz8FSGiwK\n",
       "kPsH9r5O3Xi5++RVpPt3TesmFAP3AEWt40YaPQqQ0HVupQo2tLJUGQ49XOkBooVTwE/Jwj48S25X\n",
       "D7Btc/ji7od8LZEgutpWfrgbdRttQK3gPGCXHFzK9SuJfA4I+eM4QuPEeiIhh0L8+C2bFgZMEDU7\n",
       "t8nEE40DwvaXDWspOR1zohGdLgihjgf0modWTxVkALE50Qt8YQvP0wVrrmwTo6tdHv//WZN5Sqdo\n",
       "fggFwxO04x0KHyDOmCWXu/Lh/IAVZC2R8LR6EAoYw9AMbwvBRJ6KO4mX5NxEzeSC8h/yXlihiTcw\n",
       "wPd1jNncVTdbdaHDBRMIH/fcwVkwRlVqe+GdKxvT1N8OTpOz9Oau693wGJ242KDJCfiT4skAUMaM\n",
       "58qLzrvrfg1HE1p9tUknKmM3ih1vi7Z6oUqLLoo8x6vwBNV4it7DB8xiIRe4CJomkcBsFp/wa4jz\n",
       "jbLagGTJF31BJV5+KhYH6AMcf8vdsOBogt+XA7rjFSXMadJzFEUn34a++ps6eTneAxTlAMHAhsld\n",
       "3348Xkwi+L1s4BG+fg5F9EnWUVD7t4NI/F8lsrxtA8TI8mhCUqTACqBn+EOcA/4BlTaw1Vuz1yEA\n",
       "AAAASUVORK5CYII=\n",
       "\" style=\"display:inline;vertical-align:middle;\" /></a>"
      ],
      "text/plain": [
       "(y_{1} ,  ...  , y_{n} , x_{1} ,  ...  , x_{m} , z)"
      ]
     },
     "execution_count": 140,
     "metadata": {},
     "output_type": "execute_result"
    }
   ],
   "source": [
    "b_sub"
   ]
  },
  {
   "cell_type": "markdown",
   "metadata": {},
   "source": [
    "If we know that $m$ and $n$ are natural numbers and $m \\leq n$, then we can split `a_sub` and `b_sub` respectively into"
   ]
  },
  {
   "cell_type": "code",
   "execution_count": 141,
   "metadata": {},
   "outputs": [
    {
     "data": {
      "text/html": [
       "<strong id=\"a_sub\">a_sub:</strong> <a class=\"ProveItLink\" href=\"__pv_it/b4f2fe9c30f3d4135db770c944c3651094fa23860/expr.ipynb\"><img src=\"data:image/png;base64,iVBORw0KGgoAAAANSUhEUgAAAeAAAAAZBAMAAAAbEODDAAAAMFBMVEX///9UVFQiIiKIiIjMzMx2\n",
       "dnYQEBDc3NyYmJhEREQyMjLu7u5mZma6urqqqqoAAACMi3WHAAAAAXRSTlMAQObYZgAAAAlwSFlz\n",
       "AAAOxAAADsQBlSsOGwAAA9dJREFUWMPlWD1oFEEU/u72LnuX3bscxEYLDSJYGGWTI6KY4jAgBAsP\n",
       "RNAE5MSAP4WchYUIZgM2isGzUa+LWFhYuCEWRgKJiKJCMCIJ2CRBBAsVUwQENeDMzsze7u3cJCRF\n",
       "ih3IZO+9733z3szbmTcL4Cci04q0y05FJ+Be2r2ITrxIWaR7EKGAsQfQS1EKuAMwi1EKeNJBy0yU\n",
       "Am62ccyJUsBmBZ1RihdaCdvIv7GOZycWlcAQwui2MKqyUAJWtV6trYPg8C7dRuYvquR5Sms125To\n",
       "ECKZLeGOykIJ4MpvMp21Fu8VBFoDk0enuoHEMh6S47is/Y7ZeD7S+MBmCF+7bo5gq8qEAZTKlHS/\n",
       "NGvLeAvrIZBXjrpDC0t9Be0kbKSJ44l840VmCH9zmiycVZm4ALVSnpOZovC6pxPrIZgNTpvXJsj2\n",
       "bKzQFQZaaB5lVVndUp9pCw5JD5WJC1Aqp+W6J7Sr0O4L1kPQTM+ddHiJ6UTqyyzghbLhqAOmiNTb\n",
       "ng5tqMAE7+mOpzKhAGLRLX7fvpHPHdjiU6LNFYoM9NhPryVgTiAbILnIAw74i08wSKr+pu/Z+MwO\n",
       "JNkKG5LsgUCk5uymnJZjoLtI51jA4YPcA1CLMhcOn8cZWtp5Sn3EFZ4TAXN2/AgE7EgdEgSyAdzr\n",
       "X9rH6I6YsRED3aX3A7+OvsE8C3iSvqq0M/74HxjiWiepy0gp6oJeYsFmcxRAer9cALXgHutjbVjB\n",
       "a58yU3GFf7m/gh2f/QEH2b0HQSAbIFPhAQf87T3VtYvMQYm8DJjIZ98usoDj5DqBOJ2idvGwkxBy\n",
       "RCuOIL7IQKPHP5TZClOAZ8LsPEAr5pCoknYfMStRwj6fMktWM2ZlSuilgLJgJ5dWs1q9UH3AVjjA\n",
       "7jnkEUgGSFTwrnqvWrUD/hazF8mebubQ5G3trvffQxmUrSXVAA5iMCFAfdwkG846DzCA1wkuaypo\n",
       "FX2pUFMSx4jQLBbq2IMpHWbnEkYgGcBL6Tp/eS1duy253ofvTsnaPrdE5uxm0gWZI8YlbpKUfkpx\n",
       "AcRi71cuGyRLkKoUfdZtVBifL9Sx5wMBJ6UOCQLZAJrFA/b7W7stJcR9WO/7Z8EI1zljtRMyh8e4\n",
       "fMgFxa1YkZn4AN6mJQDEokvUKx/RXNZbnZoS96lQO1nHTsUs4CtPX8nYqUQQyAZIl3nAfn95GyJ/\n",
       "2wMlVXi17HDdRdMhP71mQCPlrLxMrngrLGe3VyEYR9057Atq96Z+0zLL0jLZaVwfromgv0GlJb5p\n",
       "beJXy36ZcHiDBCnFF42rbr9536UNaZm8QQJDPUH/ATYtV3wzkvMwAAAAAElFTkSuQmCC\n",
       "\" style=\"display:inline;vertical-align:middle;\" /></a><br>"
      ],
      "text/plain": [
       "a_sub: (x_{1} ,  ...  , x_{m} , y_{1} ,  ...  , y_{n - m} , y_{(n - m) + 1} ,  ...  , y_{(n - m) + m} , z)"
      ]
     },
     "execution_count": 141,
     "metadata": {},
     "output_type": "execute_result"
    }
   ],
   "source": [
    "from proveit.number import subtract\n",
    "a_sub = ExprTuple(x_iter_1_m, varIter(y, one, subtract(n, m)),\n",
    "                  Iter(k, IndexedVar(y, Add(subtract(n, m), k)),\n",
    "                       one, m), z)"
   ]
  },
  {
   "cell_type": "code",
   "execution_count": 142,
   "metadata": {},
   "outputs": [
    {
     "data": {
      "text/html": [
       "<strong id=\"b_sub\">b_sub:</strong> <a class=\"ProveItLink\" href=\"__pv_it/a8a3c3bf7ecc6fa05befe48407c9821018ecbc4e0/expr.ipynb\"><img src=\"data:image/png;base64,iVBORw0KGgoAAAANSUhEUgAAAaUAAAAZBAMAAABjgywnAAAAMFBMVEX///9UVFQiIiKIiIjMzMx2\n",
       "dnYQEBDc3NyYmJhEREQyMjLu7u5mZma6urqqqqoAAACMi3WHAAAAAXRSTlMAQObYZgAAAAlwSFlz\n",
       "AAAOxAAADsQBlSsOGwAAA8JJREFUWMPdWEtoE1EUPfknnZk0UAt+QEtdKjJtsCgWDIhCcdGgCOJC\n",
       "IgrqRsaFIBZMpKIoViOiNoIQVwoiTlHEH1gt/ipi3YhubFTophULFipWwfeZSeZlJmNKBWHe4mXm\n",
       "5twz97zPfXcGwFd4qIVYHx/0kqZgnvb34anWS7t+b2ny60Ak4y1NgQQgp72lSZoBGke8pQnXgG7d\n",
       "Y5peAu0ek4QOYCH5uTUEKeGGswGkThUD9T/nrw+we7Td3lJy3TfJReu3V51NramDwKiOArlJjyE6\n",
       "6UZgA4TiGZypP0KnB8Q1B6BqXgwGmuQWN0oZbeoT0dSw8hypH7pTuELSeWkYvrx0sqY/B1gth+Ui\n",
       "FlSh7hbr9yetzzlS3qJaYNqXc6HEcazV5oumHlYZZUewnEwjdiKsrqu9szjAatHJ7U4xlGCypV5/\n",
       "Wo05r0XFOFmCiBVdKZHCJftzXpHu0QidJygzdMY+155oDrC2UT04VbmLscXUUq8/nTLZ+Qy5bl40\n",
       "qu6UwHeb5QDtsmztgSwkki1cNDHAqaPJxKp5hmUYgUz0xbq2wJFUHZqq/KkmP6jBrJ/LVOVtP6pJ\n",
       "uqsmZRoPxJgUFeRg6tbYroglcJZr0h3WjQno24MdaDMsZ4kt+i4XTtBapKJJsj9br/bnmg6BGnab\n",
       "mkyqCe5wb2QJ3Ry1KaXLvkmkxZjeAwmW9zroMCaUH0yT9BNG96houWCAyK0W/MZTw/IYo7medlKF\n",
       "sNqqrElwq7AJ/lzTB1DDjLm9TaoP3OHbxmf46EBZvotPPcwoJSGm4Plzm8hMH2OyIDV3TvN5aqWD\n",
       "tJwujUHzYhkMgE8NZrDCsAxsfqOhCRvgL+Fl4UKhkGMBsP8Ef0Zp9ZcLhb2FfnwCMSgZdBVIK1Oh\n",
       "izs8TMZflOBAyTqCkIbUidMQYgph7AYbbYTZXg0Vuaa4ffGNwwCEU4F8ZDJlWrYBu7Aa2aCwn8Zt\n",
       "/pzS6s/miQQfTslpM3OYVBNCDK6UtFXFZNR7dMKHcafENYUczksYgCwZlWg+zSxyUdqHyCQZ3hMh\n",
       "QVPa8W1a9DdzRBb+j4amMlVSiMGFkjdrTJW6nMwdlqKZJMKbQ6QksecImlMZ4C0atEiTzix+1ZeG\n",
       "ksBV7F9jaIps+6VydFWVU+3PNcU0YghsNVOWSXXRGoMbJW/WmIxsQ3PWYuBLp3lY5Gz+UdpVAIYl\n",
       "nnxtBcUEtNhy1f5ck+L43iblbTHUoKwF8mv/6HuEPDs4O5WeO372mfObT+///G7kGH7fXFkjvKz8\n",
       "X9/39Dptsx6pP144Mn0BlL4qAAAAAElFTkSuQmCC\n",
       "\" style=\"display:inline;vertical-align:middle;\" /></a><br>"
      ],
      "text/plain": [
       "b_sub: (y_{1} ,  ...  , y_{m} , y_{m + 1} ,  ...  , y_{m + (n - m)} , x_{1} ,  ...  , x_{m} , z)"
      ]
     },
     "execution_count": 142,
     "metadata": {},
     "output_type": "execute_result"
    }
   ],
   "source": [
    "b_sub = ExprTuple(y_iter_1_m, Iter(k, IndexedVar(y, Add(m, k)), \n",
    "                                   one, subtract(n, m)),\n",
    "                  x_iter_1_m, z)"
   ]
  },
  {
   "cell_type": "markdown",
   "metadata": {},
   "source": [
    "Now the `Iter` start and end indices line up: $1$ to $m$, $1$ to $n-m$, and $1$ to $m$, and the last entry is a singular element for both of them.  Now we can apply the map:"
   ]
  },
  {
   "cell_type": "code",
   "execution_count": 143,
   "metadata": {},
   "outputs": [
    {
     "data": {
      "text/html": [
       "<a class=\"ProveItLink\" href=\"__pv_it/4e252c908c08162eaeaebe25eccd05bf1086beda0/expr.ipynb\"><img src=\"data:image/png;base64,iVBORw0KGgoAAAANSUhEUgAAA9YAAAAZBAMAAAAmkat9AAAAMFBMVEX////MzMxUVFREREQiIiK6\n",
       "uroQEBCYmJhmZmYyMjLu7u52dnaqqqqIiIjc3NwAAACFAiZ1AAAAAXRSTlMAQObYZgAAAAlwSFlz\n",
       "AAAOxAAADsQBlSsOGwAAB+9JREFUaN7lWn2IlEUYf/b28/Z214UD/yjkNvwjyqQXl5KKky22OKJk\n",
       "UTFEw7WyQCou5UIh7fCjw+RqEeJAojaF0kBcJAi1YBOTA7GWS+rIjpaMRA28++MohY7m631n5t2Z\n",
       "d969XTaq+WNhZp7n9/zmeWae+XgX4F9fvm4rWo+rnii0glbpDP8ev4L1eXf6FnHJpHwPwodkYrit\n",
       "sQ5Ycn28JbTezvB3k65rPJmseqE8a7Tjra+E+cn3IMI1o8ixNqeJnVItXmoJLNoh/juNISGevNBi\n",
       "JC/44SLBJCr+B2GeFsvbHOtQWawFB1tDe7Iz/GXSFzSeNE3cQwYrPif+oXnO5O6yKcsX2xzrZEas\n",
       "/dYi2gR0hL9EWh0S5MmYYeJuJ7/PqPIr0Yz5m/gizEgzSXCYm3IVChartDnW8dvC6OBAi2gnyh3h\n",
       "L5FWhwR5MmJAiRCyF1WHCrIXRfyREWGamslbuClXoWALCm2ONYwJo4PZFsG6BzvDf8wcki2wzhdZ\n",
       "fazXNTNmAhMuNT0ID1/1ldsd6z3C6AK3WwSLWZ3hv8cckjGSpI5PfHRGOoPFJ2twmF3dMt6xVurj\n",
       "cnwU4nwXEWBw1pI7QdFgl5MGX12S2KqLFlxZvhdGl8w1qw2yP5LFNvBXZu2pe+/8Qk0ahySQT1/l\n",
       "VzJSOUnWzXByaSwn3c0TRXiTpfmSd6yV+uQZ4TxEp/luwWHwEpc7QdFglx0GX90jsdW8aOjAlWVj\n",
       "mZvsKjWrDbI/wrfbwF+ZMGCitldNGoek+3I/v7fTyg54CsWhnpzrkvbz32MlWMwimvOOtVIfny+r\n",
       "+6GLX/EFmFDV3QmNDU45Z/BVVmKrPuqqwBOqJyBipi/NTQYtW1spn1SfJwV/BGZ88/8GdIxUZRf8\n",
       "XL+bV0XSKCRwXXxLo5VzsBnxgSBedZ+QpRe/hX7KkRq8QhsC07A3n38xn39Mnlb5/BMv5PMZQZ+n\n",
       "FwwRRwARzlSAiRRYZ3wHPaqWGqQpDOnu46bE4nA6aLNVZzoFFVqG1IsFlZsFbrI7Y2sPqVewTJaM\n",
       "RfJnatYv/2hBy0gxJkjDQ2KjSHozkXrb4cMqfbRjAfJEYIqmnQGaEgIztCFc9F7Xjr5QBlj2opON\n",
       "5jIOg2JNOxddou8Aww3SxIe0e61hXQwwtprpr6BCwNU7cBhfgE4UuEnMjWhrduz1Mlk6FtGf8Vm/\n",
       "/NU7NmEUU4wJ4C/pbldwheSGyOcG9eT7JLT1eJmlWVr240MFaTDlcK7vnpEldmBw5/Duqt15TicN\n",
       "lpO+TTn8oM3Wa29rBI8VtE8+N4V0iNY11dbIk6ceTtbZPR1/pmb88t+nf4QKKmfBHHwqrOu0HJJw\n",
       "Dcri+2gZM+wHOFK4Hyd0MdbLIJihDVHLO9aOfnRk0URyK18+CGAZbH9tKvPDXTJMsMY6Rf/I0oL7\n",
       "tvnwFWaLzE86DzcOjhY8RKTsFOxwxyfbvroca6IdIkINFnqqiliL/gzM+eQPOT2joNjAEvkDXdNQ\n",
       "4YMSSffTh5qM+GqTwZ5Ed5pv73gLNsix3g0bB2lDrObwIsmf7K63OLCjH107GMkIb3WxTPgPGHoJ\n",
       "niPvhAIMvn6RTmldS9KC+0YdU3TvveXsQtRXixlbbN4+PnEcLfg1IvWq7Vmb+7j7HG4x7WtUyG2B\n",
       "fKRyx1r0p3AO9+afKukZBcUGttBmjhbDVT4okTQKSeCR/s+cecEqo7AG4OhUYqQqx/rwl+/WaUOo\n",
       "zg/Qw/bPAAd29K9fggUF4cUvvmRyLnU8B7PkvifAhHO0U/KPLC24byU3NWD/0F3oonOxxGyxeZa1\n",
       "BBwt+GoiZb+UONxXo8rr4v26yLiupkJuC2FLEWvRn9GiT/4IScsoKDawIY3Wxt8QRiqSXoM/aJ9/\n",
       "j9+gaWUlhNLylmqXU6zhV/DO4Vx/KSzE9ynhll6CrlqgSO4AIsyjrFPe47h0LJt9PrucdqdyhhxI\n",
       "J/QpbH4tBLKorOBW9eBn0ZqtoQNjL9aoO9x7ySrjJumyRNpnQWkhYIlkXf4haTHjk38io2O0J/tg\n",
       "NjvY6F6Sd+yR7laGRLp55tjHBVesY6X4y6xhxPDtg+tvgu/gZkA43n1chUg6aaWm0zLMdtYp+keW\n",
       "5kuFvuN7fDtAp3rKdhMcsI1zHC14L5aKVdIu7uPO0zIzuZlp94LSgjKHi/7s9ssf/91AxyiocK9r\n",
       "pGPKkEgHVNS3QhHrUK2rQhtSlukBx9ZPTaOpt43f4J+GJeh4iGZe1KrIMME67RT9I0kL7rtifD+q\n",
       "ULbI/ONf2YdSB0cLHsINoQ1pF/cp55MRKweYdgiUFpI1Q6xPlH3yx2czDSMSa7d7ZR4y6RUqQ9iT\n",
       "R+xYnfrTyTSJqX2sIWh8mrf1wxn4AH75kaeoSXRNWQXd9dTSsgwTt2jnjQ9H1dLUfaT7YZN5lMMI\n",
       "W2T+sr16OI4WHM23VZD83M0deSkq3aQXMm0kr7IQrItk5ZxJ/LnVL39sWsOIxNrtXpmHTPqIyhD2\n",
       "ZMrzA/Qu48Nsys8HbBnmqlHecp4bjaL3Nf1NyLLfKBqfpCz7FOlsiFXhTUMz0b1S30rf/NeDjpH6\n",
       "fi0VmbQqJD48+Q+VYf+ix+YH/o6qp6es/b+ZUh5OG8g28X+zWF3HSPVQ6io74X9R5vk/zB7V5jTU\n",
       "eEAZ95KPmv5ocKUJ/qdBzchHMZ+q/iNlnv+vLqvb3DF1/h+uko+bjJxugn/cL0ufE7eh/A1I4UF3\n",
       "WTo0UQAAAABJRU5ErkJggg==\n",
       "\" style=\"display:inline;vertical-align:middle;\" /></a>"
      ],
      "text/plain": [
       "(x_{1} * y_{1}) +  ...  + (x_{m} * y_{m}) + (y_{1} * y_{m + 1}) +  ...  + (y_{n - m} * y_{m + (n - m)}) + (y_{(n - m) + 1} * x_{1}) +  ...  + (y_{(n - m) + m} * x_{m}) + (z * z)"
      ]
     },
     "execution_count": 143,
     "metadata": {},
     "output_type": "execute_result"
    }
   ],
   "source": [
    "a_required_len = Equals(Len(a_sub), a_len)\n",
    "b_required_len = Equals(Len(b_sub), a_len)\n",
    "dot_prod_map.apply(*a_sub, *b_sub, assumptions=[a_required_len,\n",
    "                                               b_required_len],\n",
    "                   requirements=requirements)"
   ]
  },
  {
   "cell_type": "code",
   "execution_count": null,
   "metadata": {},
   "outputs": [],
   "source": []
  },
  {
   "cell_type": "markdown",
   "metadata": {},
   "source": [
    "**But not everything is working right, yet.  This is wrong:**"
   ]
  },
  {
   "cell_type": "code",
   "execution_count": 144,
   "metadata": {},
   "outputs": [
    {
     "data": {
      "text/html": [
       "<strong id=\"dot_prod_and_more_map\">dot_prod_and_more_map:</strong> <a class=\"ProveItLink\" href=\"__pv_it/ddc8997ee118f6bc09e992528a99fc2407a50d5e0/expr.ipynb\"><img src=\"data:image/png;base64,iVBORw0KGgoAAAANSUhEUgAAAegAAAAWCAMAAAA8Yf/jAAAANlBMVEX///8WFhYNDQ3MzMxUVFRE\n",
       "REQiIiK6uroQEBCYmJhmZmYyMjLu7u52dnaqqqqIiIjc3NwAAACgirQNAAAAAXRSTlMAQObYZgAA\n",
       "AAlwSFlzAAAOxAAADsQBlSsOGwAABDtJREFUaN7VWtuaoyAMdlcRBRR8/5ddipwhGhza2XqT+RqS\n",
       "/DkQA84w6EcNX/WoR6vV75j/RcWF53L/rkRT2bDYOdfPySbzD5B2j5Oj+/buzAiyzD2lG0LinMM5\n",
       "eQtUsrdtDGQacLEciSiKXPAPbELOukpzgS0SntKfAp23JvMt5cx7xlLyJE6GsvUDiT72rtIrtm6c\n",
       "c2gnUUAL87Q5hoUEPg0NsXRADV0+8VY9RF/pBdAns4FmyWgnoLn5vfm1XUgsb4mlA6op/UTn3ubO\n",
       "0jzUf+L2nu415xzaSSRQvvZOND4NTbF0QDVlbgZQbJPqBwPllTyfpGSPu3dFepvCazN9iab9cEvp\n",
       "rZOXQIVksjDfKdH4NNzHUkhJsjhp6nJOF931yNkWxIMTXSyvp77U8qGnAXGoZ6ojaa945UBqdwIU\n",
       "NMrJa6Cbli/Md0p0DWEeRjAa+etet+o1BarpfBaHMCx2Rm1r39iJvI5+AmE3wA/5THUk7RXvM5Do\n",
       "QZKol1vn0E5eAlX7wGzc9rl3omsI8zCC0cgmMBUGNgdU04WeVWDk58dH6kt5Ex9xPFRekx4P/+ff\n",
       "P3PyHAcNswhNaB2k3iNXpjxb+PhG5pmxuSyGTCh3qhI3aQgYgVhGTvhqiIBqai0sxKymTxN9KW9O\n",
       "fvTpEasmTRdoR1MeYcgSDYCc2SXQwPbxo0vvHX2XBg8CiuXMkmLK4qQpP29NTImsx3ljNrV37kj+\n",
       "NbSkOI7VFusT1UE6Ugy27jG5zOB7TO+dvAHK3Y/9W3eJsAwjGA3gXidt3USeFl4yhA+7GjZhpxVM\n",
       "gn2ig7weBnaeKHhVqHn7WNWog2Ap7RXrWBAg0TyZoYiMac3JLIoZ0Lya92HLzXdKdIkw8rYKEeCb\n",
       "acK3BAdUUzuAc21o1dt/G5Q4yyC8mxB/RPKDEMPGEuakcRH9k1UdGCjVTtorfjkZ4pS0OcqqpzDQ\n",
       "yezJgBZXFYNac/O1tF15AyS6QBh7W4MI8YfQEiKgmtLTIzHJbVSTHMM+mGeRtf/KH25NLO8OC4HJ\n",
       "XJc5VXsGTjULPcqdQmbglMbSMdQ6d+FktmczoEO+7QDzxQwNuwVdmMxgGCGIdb4pBt9wHNAXLUZ0\n",
       "3bXsGQbRYutr7DGvYDrVGM3VRVaxwt4OOedgJ6GZ44pdmO9wBVo7KR03lw4Qf5EZUEOLG3rd+Td7\n",
       "QYC4kKv9OC4A06lGHbQ2WDH6C0Byq191EsjDJbsw3+GjRuU7zXhz/13lT7vu3CIDelKS1YVuH+qc\n",
       "+hATU3WNHVlLplWN0VxdZBUrgg6ocw5yEjJ+xW4w3/AQBXgLPjX+qMc5d03kgVoqANyYKl2vrtLX\n",
       "NinEIquY4L/fOOdEx+QQ8Y5Elwj5TZyqfP0KpzlQR1XXL9Kcju/58ukVry335c65fk6ub/qnsRTh\n",
       "XRgRYXZA3wRYl5T4LsX/5XPnbWs0/gETTDocHPVziAAAAABJRU5ErkJggg==\n",
       "\" style=\"display:inline;vertical-align:middle;\" /></a><br>"
      ],
      "text/plain": [
       "dot_prod_and_more_map: (a_{i},...,a_{j}, b_{i},...,b_{j}) -> ((a_{i} * b_{i} * i) +  ...  + (a_{j} * b_{j} * j))"
      ]
     },
     "execution_count": 144,
     "metadata": {},
     "output_type": "execute_result"
    }
   ],
   "source": [
    "dot_prod_and_more_map = Lambda((a_iter_i_j, b_iter_i_j),\n",
    "                               Add(Iter(k, Mult(a_k, b_k, k), \n",
    "                                        i, j)))"
   ]
  },
  {
   "cell_type": "code",
   "execution_count": 145,
   "metadata": {},
   "outputs": [
    {
     "data": {
      "text/html": [
       "<a class=\"ProveItLink\" href=\"__pv_it/9a8f7fcffebbe9dbff5944fba13994a9e0abd2e40/expr.ipynb\"><img src=\"data:image/png;base64,iVBORw0KGgoAAAANSUhEUgAABPEAAAAZBAMAAACiK6ZXAAAAMFBMVEX////MzMxUVFREREQiIiK6\n",
       "uroQEBCYmJhmZmYyMjLu7u52dnaqqqqIiIjc3NwAAACFAiZ1AAAAAXRSTlMAQObYZgAAAAlwSFlz\n",
       "AAAOxAAADsQBlSsOGwAACYlJREFUaN7tW3uIXNUZ/2Z2Xnt35mZgrX9UJFP8o1W77cVBpS0bNjKW\n",
       "YNswGEkRFbe1tqhVpwkrCfgYfC2rrB2CEujL2wTqA8IOWihJG9iKDQFJM6xBg3Hr0AREI91daFC3\n",
       "uHge995zzr3ncedOZoPU88fuzLnn/L7f7/u+87jn3gH4Pyr/uGCW2wNj0r5AukfOA0Y3bkP7vDQx\n",
       "EbCTqYjRrdgcUF7ZRnmjA2MyeoF0p5yEWcRal+bjNs92jE3eTSLitv4hYpF7aVAz2rtGefnOoJjk\n",
       "L5Tuh4Rv8bOIhfyNeG0vcmMkRbGdRIPAOhFELHJw7YASz0CZyLthEExSN0SQ1093xuW/vdF7yK1W\n",
       "nJbWN55HhobdwYyu3/QHEZOcPTmgzHsphryFATDZN7MaRl5H3aUKH4JW7yEvNOI1fQ8FNk83DD+W\n",
       "XKZ108lE7OoXgpHLNpTkCu0BZd50DHlz7gCYlFbDyOuo21oF5vC4WcT7JNdDcOFu8vGY5DKtSzi6\n",
       "cm6fEIxcsaMkt6E+oMybjCFvuDEAJiTzBOT11L0XmMNzCUJ+cy/B3asXmW0l00Cd1wcEI6fJvI3u\n",
       "YCJgpIzlFZwBMCGZJyCvp+7HuMy7OUHIn0b/Diz88a/CvYl1sgP7JMF9RS8Sz+vW4hWX/C0yM0fx\n",
       "AG751tmFziVvohE5UhEgDsyCVTF2l5PTZN6JGEAR0zEKpky06OSVJntkEl3doo4lmScgK3Qn0iWN\n",
       "ZPaV/xweSx2+Gn18i8s8nEWpWvl9ds+32W7ofIt8gmeKZmmsMME3GilOwiOS4O7WiySDGxY6j4ev\n",
       "SvAA2tWO9XEdXYF8S4BoH4H8srG7nJwm8y6PARQxHXPGxlrWdPKyqz0yiSZ41LEk8wRkhe5EuuSR\n",
       "HBqHuSk4gj7e7jKH4ywaPjXeDNr9/tWTWt8in/wQ/e2W1tJChn5UaMFlkuC+rheZQRPnw/Be9+vh\n",
       "qxI8SNXvAPt/hExxgoew52cg7Zi6K8hpMq9qBoqaxpBdSUvODKJMtKzo5KVWpEz+CXpsrkgcSzJP\n",
       "QFbo9nSZlBgNAnwl58BSmwyajWXmcJRF8CH3XMN2Iw9XRN8in9yJuMMQnnReIDOP9Sn64+Y6cC9f\n",
       "4QV3I8DjtdrPa7XrBFC/LoeWljJ8R5yzGR4rcwjZss5BcZWQSS3zEBZqmutYu9XdQWQbkCvUat//\n",
       "Wa1WkZKDPXIgnic1HboyJZ8QfB2EMtJCxrP1bA2Xclge2OdkTPJ1NTYhtZuJpI7la2jmCcgK3Z6u\n",
       "Kb01MT6KSM7V4bhLhu9SnTn8TtLgqaAvwIsu9wUivkU+IX02oJrUIl1wtwCZSVMrQgUN7nb98MoR\n",
       "R34mXgnw+FNIPC0XlwENfEwmOylAoPVjY/nSE8ru2Fcqcpo5b0uUR4QnMc3qME35/ijbDnRgykhL\n",
       "eK4U5aE8lDCR7/QoNob2nEBFEscKNSTzBGSVbqJLp6QpnhI3QRXJ4wAzQIbvXJ05nGTRWa6v3eaB\n",
       "IOJb5JPfkch2Lddb82iZwRtXviLWajuMb1Oya/By5PKMvxHmSroFmTYy7fKrLYZAAXvLtyXrPuRN\n",
       "1z2utnsUPIQJoOVtnGnByVSoG06/MWWkZUPD1cizV2RMnlAfPRPbghOoY18Pr7a2abXd4+vSKXFk\n",
       "OSmLJNo1/gBdsdCcx622OIuyHWAeuA3NcTrfIp+MA+yvfxsv0Xwsr4KhiiS4O/UihzpgXZ1eRkv8\n",
       "rl8tVt7+moiXn750obSDzSi5Nh42l9vzkHd4CGz6KtHFYndF5u2MkXkeULD7DfMkplkl5pUhrfyx\n",
       "G7Bgd32YMtJyPLSzEeWl1iRMYEKDHco8z7HRzBOQVbqJrozBmugMRSTvwZNsuvUR2t10mcPH6bl1\n",
       "MKlmG5AOs6Fh9a07+Czi+FefhFvFWD4KtzckwZ1lgshW7dNgKT/m3SoXV16czM7D1C/gp/xzHYyX\n",
       "397IVbhnLmjMoI3qb1HOFzo8BBQq2Y9FF4vdFZk3GziC7tlC5MjexAfyt9phnsQ0q8Tx+IC0us/3\n",
       "mM/iKHAHBFjLwby4fxflCXegPhO7pcEOZZ7n2Gjm8ciyoBBrRNcHBmuiM+SRRDMs2tAOt9vivS3K\n",
       "otT3xv8cTCujr57aHJnzSFj9Lx24CW0GF4vT82Is9x3+dVeouOz+65CJrdx9bNNb+elSTo+BJ8Ca\n",
       "7Rx9EOwDE3COHPJweB+egA117lEOsozmnqP/QhBdHgKsK0+uiS4Wu0cyjyNHHbEFouTIVO8DectC\n",
       "hCc2zVXieGwjrVa9BgGLbWxRmiBaTj8oOlqUl+dP3XwmWUeDHZ7ziGMFt6Sv+e+YiCwLCrFGXLpN\n",
       "by3kDHkkkdhSE4qzSNID3HneTfiFvSPPsROU4l2RpZ2G1d9JdiFT5pZerhwMV+BATRgm9iDP053U\n",
       "JLnV5vHG4GJy8BIpZ8IQIy0x8/juj1WvqVYbKnKa1ZaOUQK0HVJVVDZJeCLTXmWhWr2jei28htWg\n",
       "DfEo7tENRHDvxW02HIydIQNewqRYUWF7tkNOCO/8vKnEEBRqDel6zWAt6gxpJNlCxByeKWv0e/YI\n",
       "B//zmeAtADHzCi3rl5LM854Lqx9O7wo2OeWSYy+XRbyfwJuwlJJ0nhYhZuBP4rIS6h5dbRk5zRsD\n",
       "6B7UB3o6JedJTbNKPO+M4laFtt/GZ8FWW6ZaUaaDB4QhJvjtSiW2I82zaM2wKSj43pvoGjVYCztD\n",
       "6iFW9gJzeL5pPpmmYeV8skmSeZlOui0J7mkT+JC/1VlCYyXvtAU8exkNs52St6htR4T4EVwpujjU\n",
       "XZ55RnJoZfGBrv+7nCc1zSq9O4wlyNzq+T5gsShRrTiexihzroQJvsNQYsfNvDnXrJvqyhishZ0h\n",
       "9RBbPFf5b5vMmUfDyvlkv//l4CfBSlVcfEKsoOW7xkd9fg7dCMNde8wV8LIV+AP8+x1JvroixLGT\n",
       "aJSefX4WFN2HIBE5tGr4QKcacp7UNKt0aF7dCKW/+Pscn8UmiWrFcMRIO2RMMIgSG4PyTqAlWrMj\n",
       "hm6qS6fEkThD6iF2dyqcDu43Zx7hwPvEjv1qVb5rbPI+JCgP9wgxlJDcN3tm5gQnrcoxZqZM5G2V\n",
       "MrlFM36dmBy3xtatU+L07JuM4HC70UfIvzClkLBf7687k93LM7IrI25PQIrfYRS6auxmImSt7mf6\n",
       "tsaVh+DLErck/A2WNMmmesM4rWByCPrFPt2D7vOhRLo5/7IYSsLfnbox6zTlkIKJBf1iH+pF93lQ\n",
       "knDSj5bPAfwCFKh4V/6mAAAAAElFTkSuQmCC\n",
       "\" style=\"display:inline;vertical-align:middle;\" /></a>"
      ],
      "text/plain": [
       "(x_{1} * y_{1} * 1) +  ...  + (x_{m} * y_{m} * m) + (y_{1} * y_{m + 1} * 1) +  ...  + (y_{n - m} * y_{m + (n - m)} * (n - m)) + (y_{(n - m) + 1} * x_{1} * 1) +  ...  + (y_{(n - m) + m} * x_{m} * m) + (z * z * _y_)"
      ]
     },
     "execution_count": 145,
     "metadata": {},
     "output_type": "execute_result"
    }
   ],
   "source": [
    "a_required_len = Equals(Len(a_sub), a_len)\n",
    "b_required_len = Equals(Len(b_sub), a_len)\n",
    "dot_prod_and_more_map.apply(*a_sub, *b_sub, \n",
    "                            assumptions=[a_required_len,\n",
    "                                         b_required_len],\n",
    "                            requirements=requirements)"
   ]
  },
  {
   "cell_type": "markdown",
   "metadata": {},
   "source": [
    "**For a case like this, the requirement should be that the indices match exactly, not just their lengths.**"
   ]
  },
  {
   "cell_type": "code",
   "execution_count": 146,
   "metadata": {},
   "outputs": [],
   "source": [
    "%end basic_expressions"
   ]
  },
  {
   "cell_type": "markdown",
   "metadata": {},
   "source": [
    "# Next chapter: <a class=\"ProveItLink\" href=\"tutorial02_proof_basics.ipynb\">Proof Basics</a>\n",
    "\n",
    "## <a class=\"ProveItLink\" href=\"tutorial00_introduction.ipynb#contents\">Table of Contents</a>"
   ]
  },
  {
   "cell_type": "code",
   "execution_count": null,
   "metadata": {},
   "outputs": [],
   "source": []
  }
 ],
 "metadata": {
  "kernelspec": {
   "display_name": "Python 3",
   "language": "python",
   "name": "python3"
  },
  "language_info": {
   "codemirror_mode": {
    "name": "ipython",
    "version": 3
   },
   "file_extension": ".py",
   "mimetype": "text/x-python",
   "name": "python",
   "nbconvert_exporter": "python",
   "pygments_lexer": "ipython3",
   "version": "3.7.4"
  }
 },
 "nbformat": 4,
 "nbformat_minor": 1
}
