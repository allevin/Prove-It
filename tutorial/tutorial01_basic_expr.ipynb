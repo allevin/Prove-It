{
 "cells": [
  {
   "cell_type": "markdown",
   "metadata": {},
   "source": [
    "Chapter 1. Basic Expressions\n",
    "=======\n",
    "\n",
    "Expressions in **Prove-It** are fundamental and versatile.  In order to prove some statement to be true, you must be able to express the statement that you want to prove, and express each axiom and each theorem that is used to construct the proof as well as intermediate statements along the way.  \n",
    "**Expressions** form the basis for **known truths** that are used in the derivation steps of a **proof** and will be discussed later.\n",
    "An expression is a tree-like data structure (technically a directed acyclic graph, DAG, since there may be multiple instances of the same sub-expression).  As a Python object, its base class is `proveit._core_.expression.expr.Expression` (also aliased as `proveit.Expression` via \"`from ... import ...`\" Python statements within `__init__.py` files):"
   ]
  },
  {
   "cell_type": "code",
   "execution_count": 1,
   "metadata": {},
   "outputs": [
    {
     "data": {
      "text/plain": [
       "proveit._core_.expression.expr.Expression"
      ]
     },
     "execution_count": 1,
     "metadata": {},
     "output_type": "execute_result"
    }
   ],
   "source": [
    "from proveit import Expression\n",
    "%begin basic_expressions\n",
    "Expression"
   ]
  },
  {
   "cell_type": "markdown",
   "metadata": {},
   "source": [
    "An `Expression` object must be one of the \"core\" `Expression` classes listed below that is each derived from `proveit._core_.expression.expr.Expression`.  The list is reproduced from our <a class=\"ProveItLink\" href=\"../guide.ipynb\">Guide to the Prove-It Library of Proofs</a> but more details and some code examples are provided below in this tutorial.  The \"basic\" types of expressions that are covered in this chapter are:\n",
    "* <a href=\"#Variable\">`Variable`</a>: A label that is interchangeable (as long as it is kept distinct from other labels) with no intrinsic meaning.  It is usually represented by a single letter but can have any representation.\n",
    "* <a href=\"#Literal\">`Literal`</a>: A label that is not interchangeable and has an intrinsic meaning.  Specific operators ($\\lnot, \\land, +, \\times$, etc.) and specific irreducibe values ($\\top, \\bot, 0, 5$, etc.) are all `Literal`s.  Furthermore, a problem-story `Variable` in a particular **context**, representing some unknown but particular value, should also be a `Literal` (e.g., \"Ann has $a$ apples...\").\n",
    "* <a href=\"#Operation\">`Operation`</a>: The application of *operator(s)* on *operand(s)*.  For example, $0 + 5 + 8$ and $1 < a \\leq b < 3$ are examples of *operation* expressions.  The **Prove-It** library defines many *types* derived from the *operation* type (e.g., for each specific operation), but the <a href=\"#proof_deriv\">derivation rules</a> only need to know that these are *operations*.\n",
    "* <a href=\"#Lambda\">`Lambda`</a>: A mapping defined by *parameter* `Variable`s transforming to some *body* `Expression` but only when the *parameter(s)* meet certain *condition(s)*.  For example, $(x, y, z) \\mapsto x+y/z~|~x \\in \\mathbb{R}, y \\in \\mathbb{R}, z \\in \\mathbb{R}, z \\neq 0$ is a conditional **lambda** that converts three real numbers $x, y, z$ to $x + y/z$ as long as $z$ is not zero.  Note that a `Lambda` introduces `Variables` into a new scope via the *parameters*.  These *parameter* `Variable`s are said to be *bound* in this new scope; occurrences outside this scope are not deemed to be the same thing. There is a special category of `Operation` types called `OperationOverInstances` that are essentially functionals acting on a `Lambda` operand.  $\\forall$, $\\exists$, $\\sum$, and $\\prod$ are examples of `OperationOverInstances`.  For example, $\\forall_{x~|~Q(x)} P(x)$ is an expression that translates to \"$P(x)$ is true for all values of $x$ for which $Q(x)$ is also true\".  Internally, this is represented as an $\\forall$ operator acting on the conditional `Lambda` map $x \\mapsto P(x)~|~Q(x)$.\n",
    "* <a href=\"#ExprTuple\">`ExprTuple`</a>: A list of `Expression`s that is used, for example, when there are multiple *operators* or *operands* of an `Operation` or multiple *parameters* of a `Lambda`.\n",
    "* <a href=\"#NamedExprs\">`NamedExprs`</a>: A mapping from keyword strings to `Expression`s.  This can be used to prevent ambiguity of an expression's internal representation.\n",
    "\n",
    "Advanced expressions covered in a <a href=\"tutorial10_advanced_expr.ipynb\">later chapter</a>:\n",
    "* <a href=\"tutorial10_advanced_expr.ipynb#ExprArray\">`ExprArray`</a>: A multi-dimensional (e.g., two-dimensional) array of `Expression`s. This can be used, for example, to represent a quantum circuit which is a two-dimensional graphical representation of a sequence of quantum operations.  A 2-D representation of a matrix is a more basic example.  More work is required to properly implement and test the *ExprArray* class.\n",
    "* <a href=\"tutorial10_advanced_expr.ipynb#Indexed\">`Indexed`</a>: A particular indexed element of a `Variable` where the `Variable` is intended to serve as a placeholder for an `ExprTuple` or `ExprArray`.  It has a *base* which determines the indexing offset, typically $0$ or $1$.  For example, $x_5$ represents the fifth or sixth element of $x$ in *base* $1$ or $0$ respectively.  The *base* is typically not displayed and must be inferred by the context, though it is explicitly revealed in the <a href=\"#expr_info\">expression information page</a>.  An `Indexed` expression is typically contained within an `Iter` (described next).\n",
    "* <a href=\"tutorial10_advanced_expr.ipynb#Iter\">`Iter`</a>: Represents an iteration of a *parameter* going from a *start* to an *end* in successive unit increments ($+1$).  For example, $x_1 +~\\ldots~+ x_n$ contains an `Iter` of `Indexed` `Variable`.  If we take $n$ to be $3$, this would expand to $x_1 + x_2 + x_3$.  An `Iter` has a *lambda map*, *start index(indices)*, and *end index(indices)*.  In our example, the `Iter` $x_1,~\\ldots,x_n$, is the *operand* of an `proveit.number.addition.Add` `Operation`.  The *lambda map*, *start index* and *end index* of the *iteration* are $i \\mapsto x_i$, $1$, and $n$, respectively.\n"
   ]
  },
  {
   "cell_type": "markdown",
   "metadata": {},
   "source": [
    "Developers and users may derive new classes from core `Expression` classes (`Literal` and `Operation` classes in * <a href=\"tutorial10_advanced_expr.ipynb#ExprArray\">`ExprArray`</a>: A multi-dimensional (e.g., two-dimensional) array of `Expression`s. This can be used, for example, to represent a quantum circuit which is a two-dimensional graphical representation of a sequence of quantum operations.  A 2-D representation of a matrix is a more basic example.  More work is required to properly implement and test the *ExprArray* class.particular) to make their own `Expression` classes that have special formatting rules for displaying the **expression** and methods for manipulating and utilizing the expression (i.e., applying theorems or axioms as will be discussed in later tutorial chapters).  Ideally, the formatted should be in direct correspondence with the structure of the `Expression` as a true reflection of the internal representation, but there is no enforcement mechanism to ensure that this is the case.  Users are advised to inspect the fully explicit expression DAGs of important axioms and theorems (or rely on crowdsource checking).  Conveniently, clicking on any **expression** rendered as LaTeX will link to a notebook that, when executed, will reveal this internal structure.  (Alternatively, the `exprInfo()` method may be called).\n",
    "\n",
    "The remainder of this tutorial chapter will show examples and discuss details of the different core `Expression` classes.\n",
    "\n",
    "As we discuss these different core types we will discuss the instances when **expressions** are considered to be the same or different.  This is important because it corresponds to whether or not an **expression** is the same as one that has been proven to be a true statement (**known truth**).\n",
    "\n",
    "We will also discuss *expression substitution/relabeling* as we go through the different cases.  The following are related but distinct manipulations in **Prove-It**:\n",
    "* *Expression substutition*: creating a new **expression** from an existing **expression** by swapping one or more sub-expression(s) for other sub-expression(s) by using the `substituted` method.  This creates a new `Expression` but has nothing to do, intrinsically, with proving statements.\n",
    "* *Expression relabeling*: a restricted version of *expression substitution* in which any `Variable` may be relabeled only with another `Variable` by using the `relabeled` method.\n",
    "* *Specialization* derivation step: deriving a statement of the form $P(y)$ from a statement of the form $\\forall_x P(x)$.  Details of this will be discussed in a <a href=\"tutorial05_forall.ipynb\">later tutorial chapter</a>, but this manipulation uses *expression substitution* in generating $P(y)$.  However, specific rules and limitations apply to *specialization* that may not apply to *expression substitution* to ensure that the derivation is sound.  *Specialization* specifically involves statements (**known truths**) with the $\\forall$ quantifier (`Forall`).\n",
    "* *Relabeling* derivation step: deriving a statement (known truth) from another statement which differs only in its `Variable`s.  For example, from $\\forall_x P(x)$, we could use *relabeling* to derive $\\forall_y P(y)$.\n",
    "* *Equality substitution*: using the `substitution` axiom of `proveit.logic.equality` to prove that $f(x) = f(y)$ given $x = y$.  This uses *specialization* of the `substitution` axiom which states $\\forall_{f, x, y~|~x=y}~(f(x) = f(y))$.  This specifically involves statements (**known truths**) with the `proveit.logic.equality.equals._operator_` **Literal** (the `=` sign). This will be discussed in a later tutorial chapter.\n",
    "\n",
    "The focus here will be *expression substitution/relabeling* with some mention of the additional restrictions applicable to the *specialization/relabeling* derivation steps that will be discussed in detail in later tutorial chapters.  It is important to understand the distinctions among these types of manipulations."
   ]
  },
  {
   "cell_type": "markdown",
   "metadata": {},
   "source": [
    "<a name=\"#Label\"></a>Labels (Variables and Literals)\n",
    "================================"
   ]
  },
  {
   "cell_type": "code",
   "execution_count": 2,
   "metadata": {},
   "outputs": [],
   "source": [
    "from proveit import Label"
   ]
  },
  {
   "cell_type": "markdown",
   "metadata": {},
   "source": [
    "The `Variable` and `Literal` classes both derive from `Label`.  A `Label` is created with a string and a LaTeX format specification to determine how it is displayed.  In a Jupyter notebook, the LaTeX is rendered and presented in the output:"
   ]
  },
  {
   "cell_type": "code",
   "execution_count": 3,
   "metadata": {},
   "outputs": [
    {
     "data": {
      "text/html": [
       "<strong id=\"tri\">tri:</strong> <a class=\"ProveItLink\" href=\"__pv_it/b8bc794ff7aade9592ba459dc1fb9c2587bb1feb0/expr.ipynb\"><img src=\"data:image/png;base64,iVBORw0KGgoAAAANSUhEUgAAABEAAAAPBAMAAADwnzkiAAAAMFBMVEX///8QEBC6urqIiIhmZmaY\n",
       "mJju7u5ERERUVFSqqqrc3NwiIiIyMjJ2dnbMzMwAAADBkaYtAAAAAXRSTlMAQObYZgAAAF5JREFU\n",
       "CNdjYGBg4LvAAAU8u2CsGc9hrGMcDyAM1gtcByAs7gQGTwjLmIEhG8xg28DAwBsAYoHJDSBWDlQF\n",
       "A0MTVBcDVwGIxenAwMAOMfUUA8MLiFEaDAyNu8FgfwIA3xQU9d3v5zQAAAAASUVORK5CYII=\n",
       "\" style=\"display:inline;vertical-align:middle;\" /></a><br>"
      ],
      "text/plain": [
       "tri: triangle"
      ]
     },
     "execution_count": 3,
     "metadata": {},
     "output_type": "execute_result"
    }
   ],
   "source": [
    "tri = Label(stringFormat='triangle', latexFormat=r'\\triangle')"
   ]
  },
  {
   "cell_type": "markdown",
   "metadata": {},
   "source": [
    "After importing anything from `proveit` in a Jupyter notebook, whenever assignments are made at the end of an input cell the output shows the name of the assigned Python variable (not to be confused with a **Prove-It** *Variable*) followed by ':' and its rendered value.  In the above input, we have assigned `tri` to a `Label` object we have created which renders as a triangle shape.  For convenience, this Python variable name and shape appear in the output without any additional code.  The string format is presented when the object is converted to a string and is a useful alternate representation (used, for example, in error messages that are displayed as strings)."
   ]
  },
  {
   "cell_type": "code",
   "execution_count": 4,
   "metadata": {},
   "outputs": [
    {
     "data": {
      "text/plain": [
       "'triangle'"
      ]
     },
     "execution_count": 4,
     "metadata": {},
     "output_type": "execute_result"
    }
   ],
   "source": [
    "str(tri)"
   ]
  },
  {
   "cell_type": "markdown",
   "metadata": {},
   "source": [
    "The breakdown of an **expression** into its DAG structure is displayed by calling `exprInfo()`.  Clicking on the **expression** is also a way to view this information, linking to a page that shows a canonical way to build the **expression** and calling `exprInfo()` on that built **expression**.  Here we see that the `tri` is a `Label` with no sub-expressions."
   ]
  },
  {
   "cell_type": "code",
   "execution_count": 5,
   "metadata": {},
   "outputs": [
    {
     "data": {
      "text/html": [
       "<table><tr><th>&nbsp;</th><th>core type</th><th>sub-expressions</th><th>expression</th></tr>\n",
       "<tr><td>0</td><td>Label</td><td></td><td><a class=\"ProveItLink\" href=\"__pv_it/b8bc794ff7aade9592ba459dc1fb9c2587bb1feb0/expr.ipynb\"><img src=\"data:image/png;base64,iVBORw0KGgoAAAANSUhEUgAAABEAAAAPBAMAAADwnzkiAAAAMFBMVEX///8QEBC6urqIiIhmZmaY\n",
       "mJju7u5ERERUVFSqqqrc3NwiIiIyMjJ2dnbMzMwAAADBkaYtAAAAAXRSTlMAQObYZgAAAF5JREFU\n",
       "CNdjYGBg4LvAAAU8u2CsGc9hrGMcDyAM1gtcByAs7gQGTwjLmIEhG8xg28DAwBsAYoHJDSBWDlQF\n",
       "A0MTVBcDVwGIxenAwMAOMfUUA8MLiFEaDAyNu8FgfwIA3xQU9d3v5zQAAAAASUVORK5CYII=\n",
       "\" style=\"display:inline;vertical-align:middle;\" /></a></td></tr>\n",
       "</table>\n"
      ],
      "text/plain": [
       "0. triangle\n",
       "   core type: Label\n",
       "   sub-expressions: "
      ]
     },
     "execution_count": 5,
     "metadata": {},
     "output_type": "execute_result"
    }
   ],
   "source": [
    "tri.exprInfo() # the expressions and sub-expressions are numbered with the top level being zero."
   ]
  },
  {
   "cell_type": "markdown",
   "metadata": {},
   "source": [
    "`Label` was not one of the core **expression** types listed above because it is not intended to be used except as the base class of `Variable` and `Literal`.  Notwithstanding, `Label` is displayed as the core type.\n",
    "Two Label's are regarded to be the same expression if and only if the class and both formats (string and LaTeX), are the same:"
   ]
  },
  {
   "cell_type": "code",
   "execution_count": 6,
   "metadata": {},
   "outputs": [],
   "source": [
    "assert tri == Label('triangle', r'\\triangle') # equal b/c class (Label) is the same and\n",
    "                                              # the string and LaTex formats are the same\n",
    "    \n",
    "assert tri != Label('tri', r'\\triangle')      # not equal when class or either format is different\n",
    "                                              # Class for both is Label, but string format different"
   ]
  },
  {
   "cell_type": "markdown",
   "metadata": {},
   "source": [
    "Let's make another label to test out `substituted()` and `relabeled()` methods:"
   ]
  },
  {
   "cell_type": "code",
   "execution_count": 7,
   "metadata": {},
   "outputs": [
    {
     "data": {
      "text/html": [
       "<strong id=\"sq\">sq:</strong> <a class=\"ProveItLink\" href=\"__pv_it/8adaa68e2d53f0c6257301971714ca93abaf43930/expr.ipynb\"><img src=\"data:image/png;base64,iVBORw0KGgoAAAANSUhEUgAAAA4AAAAPBAMAAAAmOuNHAAAAD1BMVEX///8iIiIQEBAyMjIAAABP\n",
       "vViSAAAAAXRSTlMAQObYZgAAABpJREFUCNdjYIACYzAwYhAA8xhpRhsKgoAQAMgkAslOqdIiAAAA\n",
       "AElFTkSuQmCC\n",
       "\" style=\"display:inline;vertical-align:middle;\" /></a><br>"
      ],
      "text/plain": [
       "sq: square"
      ]
     },
     "execution_count": 7,
     "metadata": {},
     "output_type": "execute_result"
    }
   ],
   "source": [
    "sq =  Label(stringFormat='square', latexFormat=r'\\Box')"
   ]
  },
  {
   "cell_type": "markdown",
   "metadata": {},
   "source": [
    "Using *expression substitution*, we can change one `Label` into another or into any other `Expression`.  Later we'll see that *specialization* is more restrictive, only being applicable to `Variable`s and not any `Label`, but for *expression substitution* this is fine."
   ]
  },
  {
   "cell_type": "code",
   "execution_count": 8,
   "metadata": {},
   "outputs": [
    {
     "data": {
      "text/html": [
       "<a class=\"ProveItLink\" href=\"__pv_it/8adaa68e2d53f0c6257301971714ca93abaf43930/expr.ipynb\"><img src=\"data:image/png;base64,iVBORw0KGgoAAAANSUhEUgAAAA4AAAAPBAMAAAAmOuNHAAAAD1BMVEX///8iIiIQEBAyMjIAAABP\n",
       "vViSAAAAAXRSTlMAQObYZgAAABpJREFUCNdjYIACYzAwYhAA8xhpRhsKgoAQAMgkAslOqdIiAAAA\n",
       "AElFTkSuQmCC\n",
       "\" style=\"display:inline;vertical-align:middle;\" /></a>"
      ],
      "text/plain": [
       "square"
      ]
     },
     "execution_count": 8,
     "metadata": {},
     "output_type": "execute_result"
    }
   ],
   "source": [
    "tri.substituted({tri:sq})"
   ]
  },
  {
   "cell_type": "markdown",
   "metadata": {},
   "source": [
    "Notice that the `substituted()` method is non-mutating, leaving the tri `Label` as it was originally defined:"
   ]
  },
  {
   "cell_type": "code",
   "execution_count": 9,
   "metadata": {},
   "outputs": [
    {
     "data": {
      "text/html": [
       "<a class=\"ProveItLink\" href=\"__pv_it/b8bc794ff7aade9592ba459dc1fb9c2587bb1feb0/expr.ipynb\"><img src=\"data:image/png;base64,iVBORw0KGgoAAAANSUhEUgAAABEAAAAPBAMAAADwnzkiAAAAMFBMVEX///8QEBC6urqIiIhmZmaY\n",
       "mJju7u5ERERUVFSqqqrc3NwiIiIyMjJ2dnbMzMwAAADBkaYtAAAAAXRSTlMAQObYZgAAAF5JREFU\n",
       "CNdjYGBg4LvAAAU8u2CsGc9hrGMcDyAM1gtcByAs7gQGTwjLmIEhG8xg28DAwBsAYoHJDSBWDlQF\n",
       "A0MTVBcDVwGIxenAwMAOMfUUA8MLiFEaDAyNu8FgfwIA3xQU9d3v5zQAAAAASUVORK5CYII=\n",
       "\" style=\"display:inline;vertical-align:middle;\" /></a>"
      ],
      "text/plain": [
       "triangle"
      ]
     },
     "execution_count": 9,
     "metadata": {},
     "output_type": "execute_result"
    }
   ],
   "source": [
    "tri"
   ]
  },
  {
   "cell_type": "markdown",
   "metadata": {},
   "source": [
    "<a href=\"#Variable\"></a>Variable\n",
    "===========\n",
    "A `Variable` is an interchangeable <a href=\"#Label\">Label</a> with no formal, contextual meaning."
   ]
  },
  {
   "cell_type": "code",
   "execution_count": 10,
   "metadata": {},
   "outputs": [
    {
     "data": {
      "text/html": [
       "<strong id=\"x\">x:</strong> <a class=\"ProveItLink\" href=\"__pv_it/530be409e3083890784cf1d7b28c9e67e90af9360/expr.ipynb\"><img src=\"data:image/png;base64,iVBORw0KGgoAAAANSUhEUgAAAAsAAAAJBAMAAAAWSsseAAAAKlBMVEX///9ERETMzMwQEBAiIiKY\n",
       "mJju7u5mZmaqqqpUVFSIiIh2dnbc3NwAAAA/vyDhAAAAAXRSTlMAQObYZgAAAENJREFUCNdjYDi9\n",
       "8sTyBQxsG1hdmR0YuBm4LnAoMLAxcAowgADzAjB1VoEhgYH1wFoGrgSG3gBhhlMMDImrs3cFMAAA\n",
       "t0YN+iTRa+sAAAAASUVORK5CYII=\n",
       "\" style=\"display:inline;vertical-align:middle;\" /></a><br>"
      ],
      "text/plain": [
       "x: x"
      ]
     },
     "execution_count": 10,
     "metadata": {},
     "output_type": "execute_result"
    }
   ],
   "source": [
    "from proveit import Variable\n",
    "x = Variable('x')                                             # the string and latex formats\n",
    "                                                              # are the same by default"
   ]
  },
  {
   "cell_type": "code",
   "execution_count": 11,
   "metadata": {},
   "outputs": [
    {
     "data": {
      "text/html": [
       "<strong id=\"omega\">omega:</strong> <a class=\"ProveItLink\" href=\"__pv_it/9d7c4e1c5ee4d34a7826567c9ff37cf313ab71e60/expr.ipynb\"><img src=\"data:image/png;base64,iVBORw0KGgoAAAANSUhEUgAAAA0AAAAJBAMAAAAbVLtZAAAALVBMVEX///9mZmYyMjJERERUVFS6\n",
       "urqYmJju7u7c3NyIiIiqqqoQEBDMzMx2dnYAAACcB6guAAAAAXRSTlMAQObYZgAAAExJREFUCNdj\n",
       "YLjAwMBwegEDZwOQ7r7AwMvAUMDAmcAQw8C+gYHtAFCaywEkCCQWMPQyMNgwnAvgUGdguD1xy07p\n",
       "BQwMRY+O66kyMAAAM0ARC3HE760AAAAASUVORK5CYII=\n",
       "\" style=\"display:inline;vertical-align:middle;\" /></a><br>"
      ],
      "text/plain": [
       "omega: omega"
      ]
     },
     "execution_count": 11,
     "metadata": {},
     "output_type": "execute_result"
    }
   ],
   "source": [
    "omega = Variable(stringFormat='omega', latexFormat=r'\\omega') # different string and latex formats"
   ]
  },
  {
   "cell_type": "markdown",
   "metadata": {},
   "source": [
    "Convenient `Variable`s and other `Expression`s are accessible from `_common_.py` modules (generated from `_common_.ipynb` notebooks).  That is, `_common_.py` modules hold common expressions.  For example, from <a class=\"ProveItLink\" href=\"../packages/proveit/_common_.ipynb\">proveit.\\_common\\_</a> we can import a collection of commonly-used variables:"
   ]
  },
  {
   "cell_type": "code",
   "execution_count": 12,
   "metadata": {},
   "outputs": [
    {
     "data": {
      "text/html": [
       "<a class=\"ProveItLink\" href=\"__pv_it/6b365705f69c34226e246c8c9d56c6dd8bfa18cc0/expr.ipynb\"><img src=\"data:image/png;base64,iVBORw0KGgoAAAANSUhEUgAAAI8AAAAVBAMAAACNsKCFAAAAMFBMVEX////c3NwiIiJERESqqqqY\n",
       "mJh2dnZmZmYQEBDu7u4yMjJUVFTMzMyIiIi6uroAAAAs73DqAAAAAXRSTlMAQObYZgAAAjpJREFU\n",
       "OMutlE9o03AUx79pkqaxTVPwKLLevA7Ekwg9eVIWPXgQ1LDDNsFoETZB0VUp4sFtAUEGHlqEIeKl\n",
       "IqIIYwU9CF5y8VA0s3pRvCw6ehA28eX3fllThwjdesjv0+/L++b33u8PsGu/YrBzj7Px411KMF+W\n",
       "hzIy2vR4nFb2tIabUhOwBiqzK8MZnQJyflpY84czWgS+DwjjQ3ZbrWCGBmX54k0WnoTPZei+91GM\n",
       "ivf0+HVeiUkXIzzj4p3ufrk8Ex+6NGSrWKLhW0mNWF6H3RZUmMdDNsRJ55agbDHCJ07fe+bKKNPb\n",
       "rnnXdKA1MU8f7cFgXfuFnMtFBzgkwKXkY4LeGGUc5HQfD3hq5hxw2PJRrOE3kI+Q4bUzmrCrglaS\n",
       "6n08SygXYFOyIrcJpeJylgqIYiN7FA0uKFPFmiNovd/IuQTG/MKGxK/JdqFKpjrCqA6MBBiDL7fR\n",
       "rABlc8tH2YDJdBVWjUlzZZBScYn2HpVGnWhU8Eprx29Tp29zWg/QhfkJK0KHtUdQW0xHASab5j9F\n",
       "o97EJJ0LRzuQRYOOWb5itATgBXDB/Enf7qk1JWDtWlx3TIWl6dNdTqhCXyn48fJ/ibfR6utVLP6g\n",
       "RViehgAYXuibCyWYR85PvJfavXC2JMjAubrUZsKO6tFcusiVkmZ83gbFrZjUxtPRFMVHRE/6Bmcb\n",
       "6P03ScuXzXo6miJ46Wvkf0YZV3X/YWTSNYJ98o+FvwH9GybWtPDGQLRPyMc9UHbhqqXz/Qf8+pZr\n",
       "BGHSWQAAAABJRU5ErkJggg==\n",
       "\" style=\"display:inline;vertical-align:middle;\" /></a>"
      ],
      "text/plain": [
       "(a , b , c , x , y , z , alpha)"
      ]
     },
     "execution_count": 12,
     "metadata": {},
     "output_type": "execute_result"
    }
   ],
   "source": [
    "from proveit._common_ import a, b, c, x, y, z, alpha\n",
    "from proveit import ExprTuple\n",
    "ExprTuple(a, b, c, x, y, z, alpha)"
   ]
  },
  {
   "cell_type": "markdown",
   "metadata": {},
   "source": [
    "We used an <a href=\"#ExprTuple\">ExprTuple</a> to conveniently render all of those `Variable`s as a single `Expression`.\n",
    "\n",
    "Expression information for a `Variable` is similar to that for a `Label`, but with the different core type and class:"
   ]
  },
  {
   "cell_type": "code",
   "execution_count": 13,
   "metadata": {},
   "outputs": [
    {
     "data": {
      "text/html": [
       "<table><tr><th>&nbsp;</th><th>core type</th><th>sub-expressions</th><th>expression</th></tr>\n",
       "<tr><td>0</td><td>Variable</td><td></td><td><a class=\"ProveItLink\" href=\"../packages/proveit/__pv_it/965f7d5cdf9cb513de3a5460206eae877dc8125c0/expr.ipynb\"><img src=\"data:image/png;base64,iVBORw0KGgoAAAANSUhEUgAAAA0AAAAJBAMAAAAbVLtZAAAALVBMVEX///+qqqrc3NwiIiJmZmZE\n",
       "RESYmJgQEBDMzMy6urpUVFSIiIh2dnbu7u4AAADXQqzcAAAAAXRSTlMAQObYZgAAAE1JREFUCNdj\n",
       "YOA9s2sCAxC0T+Ct4E1g4K1mYIjivsDA9YCBwZmHgYEvgIHh+F4GBr0NDAznBID8BCAfqJzLgYFt\n",
       "HccFBgaf3XtZTzMAAEWkEGDD5xaKAAAAAElFTkSuQmCC\n",
       "\" style=\"display:inline;vertical-align:middle;\" /></a></td></tr>\n",
       "</table>\n"
      ],
      "text/plain": [
       "0. alpha\n",
       "   core type: Variable\n",
       "   sub-expressions: "
      ]
     },
     "execution_count": 13,
     "metadata": {},
     "output_type": "execute_result"
    }
   ],
   "source": [
    "alpha.exprInfo()"
   ]
  },
  {
   "cell_type": "markdown",
   "metadata": {},
   "source": [
    "Just as we saw for the generic `Label` `Expression`s, we can use *expression substitution* to exchange one `Variable` for another or for any other `Expression` or *expression relabeling* to exchange one `Variable` for another `Variable`.  Furthermore, we will see in a later tutorial chapter that `Variable`s have special properties with respect to *specialization* because they are defined as interchangeable labels."
   ]
  },
  {
   "cell_type": "code",
   "execution_count": 14,
   "metadata": {},
   "outputs": [
    {
     "data": {
      "text/html": [
       "<a class=\"ProveItLink\" href=\"__pv_it/8adaa68e2d53f0c6257301971714ca93abaf43930/expr.ipynb\"><img src=\"data:image/png;base64,iVBORw0KGgoAAAANSUhEUgAAAA4AAAAPBAMAAAAmOuNHAAAAD1BMVEX///8iIiIQEBAyMjIAAABP\n",
       "vViSAAAAAXRSTlMAQObYZgAAABpJREFUCNdjYIACYzAwYhAA8xhpRhsKgoAQAMgkAslOqdIiAAAA\n",
       "AElFTkSuQmCC\n",
       "\" style=\"display:inline;vertical-align:middle;\" /></a>"
      ],
      "text/plain": [
       "square"
      ]
     },
     "execution_count": 14,
     "metadata": {},
     "output_type": "execute_result"
    }
   ],
   "source": [
    "alpha.substituted({alpha:sq}) # we can substitute a Variable for any other Expression"
   ]
  },
  {
   "cell_type": "code",
   "execution_count": 15,
   "metadata": {},
   "outputs": [
    {
     "data": {
      "text/html": [
       "<a class=\"ProveItLink\" href=\"__pv_it/9d7c4e1c5ee4d34a7826567c9ff37cf313ab71e60/expr.ipynb\"><img src=\"data:image/png;base64,iVBORw0KGgoAAAANSUhEUgAAAA0AAAAJBAMAAAAbVLtZAAAALVBMVEX///9mZmYyMjJERERUVFS6\n",
       "urqYmJju7u7c3NyIiIiqqqoQEBDMzMx2dnYAAACcB6guAAAAAXRSTlMAQObYZgAAAExJREFUCNdj\n",
       "YLjAwMBwegEDZwOQ7r7AwMvAUMDAmcAQw8C+gYHtAFCaywEkCCQWMPQyMNgwnAvgUGdguD1xy07p\n",
       "BQwMRY+O66kyMAAAM0ARC3HE760AAAAASUVORK5CYII=\n",
       "\" style=\"display:inline;vertical-align:middle;\" /></a>"
      ],
      "text/plain": [
       "omega"
      ]
     },
     "execution_count": 15,
     "metadata": {},
     "output_type": "execute_result"
    }
   ],
   "source": [
    "alpha.relabeled({alpha:omega}) # we can relabel a Variable to another Variable"
   ]
  },
  {
   "cell_type": "markdown",
   "metadata": {},
   "source": [
    "But we cannot relabel a `Variable` to a non-Variable, as seen below when we try to relabel the `Variable` $\\alpha$ to the generic `Label` sq $\\Box$ we defined earlier:"
   ]
  },
  {
   "cell_type": "code",
   "execution_count": 16,
   "metadata": {},
   "outputs": [
    {
     "name": "stdout",
     "output_type": "stream",
     "text": [
      "EXPECTED ERROR: May only relabel Variable to Variable\n"
     ]
    }
   ],
   "source": [
    "from proveit import ImproperRelabeling\n",
    "try:\n",
    "    alpha.relabeled({alpha:sq}) # we can NOT relabel a Variable to a non-Variable\n",
    "    assert False, \"Expecting an ImproperRelabeling error; should not make it to this point\"\n",
    "except ImproperRelabeling as e:\n",
    "    print(\"EXPECTED ERROR:\", e)"
   ]
  },
  {
   "cell_type": "markdown",
   "metadata": {},
   "source": [
    "<a name=\"#Literal\"></a>Literal\n",
    "-------\n",
    "\n",
    "A `Literal` is another kind of <a href=\"#Label\">Label</a>.  In contrast to `Variable`s, `Literal`s have a formal, contextual meaning."
   ]
  },
  {
   "cell_type": "code",
   "execution_count": 17,
   "metadata": {},
   "outputs": [],
   "source": [
    "from proveit import Literal"
   ]
  },
  {
   "cell_type": "markdown",
   "metadata": {},
   "source": [
    "Below are different scenarios in which a `Literal` could appropriately be used."
   ]
  },
  {
   "cell_type": "markdown",
   "metadata": {},
   "source": [
    "### Specific operators"
   ]
  },
  {
   "cell_type": "code",
   "execution_count": 18,
   "metadata": {},
   "outputs": [
    {
     "data": {
      "text/html": [
       "<strong id=\"TIMES\">TIMES:</strong> <a class=\"ProveItLink\" href=\"__pv_it/7fa9fd20fee7806a99050bf24ffcbd2251e9b7fe0/expr.ipynb\"><img src=\"data:image/png;base64,iVBORw0KGgoAAAANSUhEUgAAAAsAAAAKBAMAAACQ3rmwAAAAElBMVEX///8iIiLc3NzMzMwyMjIA\n",
       "AAASH0o5AAAAAXRSTlMAQObYZgAAACtJREFUCNdjcGZgYFBhYFA0YGASZgBhIAvINQJygFxBAyQK\n",
       "IghVAtUA0Q4AhEYDuQjrDycAAAAASUVORK5CYII=\n",
       "\" style=\"display:inline;vertical-align:middle;\" /></a><br>"
      ],
      "text/plain": [
       "TIMES: *"
      ]
     },
     "execution_count": 18,
     "metadata": {},
     "output_type": "execute_result"
    }
   ],
   "source": [
    "TIMES = Literal(stringFormat='*', latexFormat=r'\\times')"
   ]
  },
  {
   "cell_type": "code",
   "execution_count": 19,
   "metadata": {},
   "outputs": [
    {
     "data": {
      "text/html": [
       "<strong id=\"FACTORIAL\">FACTORIAL:</strong> <a class=\"ProveItLink\" href=\"__pv_it/d6af88116966bca28fcbee5fe103a74f1e8a81d50/expr.ipynb\"><img src=\"data:image/png;base64,iVBORw0KGgoAAAANSUhEUgAAAAMAAAAOBAMAAAAYmLtSAAAALVBMVEX////MzMyIiIiqqqqYmJh2\n",
       "dnZmZmZUVFQyMjIiIiLc3NxEREQQEBDu7u4AAACiA/ybAAAAAXRSTlMAQObYZgAAADBJREFUCNdj\n",
       "uLOBYd0DhnsTGPgaGHgKGDgTGLgDGNgdGFgNGJgEGBgvMAABUPbOBgD2TQqw6cTpzgAAAABJRU5E\n",
       "rkJggg==\n",
       "\" style=\"display:inline;vertical-align:middle;\" /></a><br>"
      ],
      "text/plain": [
       "FACTORIAL: !"
      ]
     },
     "execution_count": 19,
     "metadata": {},
     "output_type": "execute_result"
    }
   ],
   "source": [
    "FACTORIAL = Literal('!')"
   ]
  },
  {
   "cell_type": "code",
   "execution_count": 20,
   "metadata": {},
   "outputs": [
    {
     "data": {
      "text/html": [
       "<strong id=\"SUMMATION\">SUMMATION:</strong> <a class=\"ProveItLink\" href=\"__pv_it/5b704e102c6153cce716db994038e7433059b1730/expr.ipynb\"><img src=\"data:image/png;base64,iVBORw0KGgoAAAANSUhEUgAAABwAAAAeBAMAAADN62OsAAAAMFBMVEX///9ERER2dnYyMjJUVFQQ\n",
       "EBBmZmaYmJi6urrc3Nzu7u7MzMyqqqqIiIgiIiIAAABU1bTfAAAAAXRSTlMAQObYZgAAALRJREFU\n",
       "GNNjeP8fAf4yMJz/v4EBBLhmlMV/ZWBg+f+AAQo47A8wMLz/AuMyMBkwMOz/XwDnZzMwsP//Ceey\n",
       "A7H8PwZksPR/AjKX4/8fFGn9rwuQucz/DZC5XPGfUFSf/9+AzGX7H4Ui/R5V9fxXKNyrE1Ac8htF\n",
       "cv8BFHtjUSSZHVC4wig8JoQtPEBcirDlDIotHAFAFyFs0U9g4AqCcebkA2OA+bMxGNjF//8PDMN8\n",
       "1DhCBQDFuEvkgeDDagAAAABJRU5ErkJggg==\n",
       "\" style=\"display:inline;vertical-align:middle;\" /></a><br>"
      ],
      "text/plain": [
       "SUMMATION: sum"
      ]
     },
     "execution_count": 20,
     "metadata": {},
     "output_type": "execute_result"
    }
   ],
   "source": [
    "SUMMATION = Literal('sum', r'\\sum')"
   ]
  },
  {
   "cell_type": "markdown",
   "metadata": {},
   "source": [
    "We will see in the <a href=\"#Operation\">Operation</a> section that the *operator* of an `Operation`-derived class should be stored as a Python class variable called `_operator_`.  We are using module-level Python variable names just for these examples."
   ]
  },
  {
   "cell_type": "markdown",
   "metadata": {},
   "source": [
    "### Constant values"
   ]
  },
  {
   "cell_type": "code",
   "execution_count": 21,
   "metadata": {},
   "outputs": [
    {
     "data": {
      "text/html": [
       "<strong id=\"FIVE\">FIVE:</strong> <a class=\"ProveItLink\" href=\"__pv_it/084027c5e7faf3e99fe505f569d22a93a32e5b730/expr.ipynb\"><img src=\"data:image/png;base64,iVBORw0KGgoAAAANSUhEUgAAAAkAAAAOBAMAAAAPuiubAAAAMFBMVEX///8iIiJERES6urqIiIjM\n",
       "zMxUVFRmZmYQEBCqqqp2dnbc3Nzu7u6YmJgyMjIAAADYGhJvAAAAAXRSTlMAQObYZgAAAE1JREFU\n",
       "CNdj4LvDvZKBgeP//wUMDHxlSxkYGNgYGBCki5sBAwPTAZ7PYG4GmFwfwKAIJA0YGhkY6jcwFDAw\n",
       "vGNg2M7A2c3AwFqetoEBAKS8EE1WXEJLAAAAAElFTkSuQmCC\n",
       "\" style=\"display:inline;vertical-align:middle;\" /></a><br>"
      ],
      "text/plain": [
       "FIVE: 5"
      ]
     },
     "execution_count": 21,
     "metadata": {},
     "output_type": "execute_result"
    }
   ],
   "source": [
    "FIVE = Literal('5') # Literal constants are also ALL-CAPS"
   ]
  },
  {
   "cell_type": "code",
   "execution_count": 22,
   "metadata": {},
   "outputs": [
    {
     "data": {
      "text/html": [
       "<strong id=\"TRUE\">TRUE:</strong> <a class=\"ProveItLink\" href=\"__pv_it/567fef274ea4a346669c1cb3f9cc1731c13accd50/expr.ipynb\"><img src=\"data:image/png;base64,iVBORw0KGgoAAAANSUhEUgAAAA4AAAAOBAMAAADtZjDiAAAAFVBMVEX///92dnbMzMxEREQiIiJm\n",
       "ZmYAAABAT6GXAAAAAXRSTlMAQObYZgAAABhJREFUCNdjCHEBAWcGIFBlgABa0YpADAAxegPJJk4d\n",
       "XAAAAABJRU5ErkJggg==\n",
       "\" style=\"display:inline;vertical-align:middle;\" /></a><br>"
      ],
      "text/plain": [
       "TRUE: true"
      ]
     },
     "execution_count": 22,
     "metadata": {},
     "output_type": "execute_result"
    }
   ],
   "source": [
    "TRUE = Literal('true', r'\\top')"
   ]
  },
  {
   "cell_type": "code",
   "execution_count": 23,
   "metadata": {},
   "outputs": [
    {
     "data": {
      "text/html": [
       "<strong id=\"FALSE\">FALSE:</strong> <a class=\"ProveItLink\" href=\"__pv_it/ad3fe9d0b017afe72545320c02b720fcc151755f0/expr.ipynb\"><img src=\"data:image/png;base64,iVBORw0KGgoAAAANSUhEUgAAAA4AAAAOBAMAAADtZjDiAAAAG1BMVEX///9EREQQEBAiIiJmZmbM\n",
       "zMyIiIjc3NwAAACryk5kAAAAAXRSTlMAQObYZgAAABlJREFUCNdjYGBgKGOAgBBa0s7GxkbGxoYA\n",
       "FMUF2aBfHgoAAAAASUVORK5CYII=\n",
       "\" style=\"display:inline;vertical-align:middle;\" /></a><br>"
      ],
      "text/plain": [
       "FALSE: false"
      ]
     },
     "execution_count": 23,
     "metadata": {},
     "output_type": "execute_result"
    }
   ],
   "source": [
    "FALSE = Literal('false', r'\\bot')"
   ]
  },
  {
   "cell_type": "markdown",
   "metadata": {},
   "source": [
    "Such constants will typically be defined as **common expressions** in the appropriate **context**, to be discussed in a later tutorial."
   ]
  },
  {
   "cell_type": "markdown",
   "metadata": {},
   "source": [
    "### Contextual \"variables\"\n",
    "\n",
    "This is appropriate when variables are given a specific meaning within the context of a problem.  For example, consider a math \"story problem\" where Andrea has $a$ apples and Bill has $b$ bananas.  These are variables in a sense, but here they have contextual meaning so they should be `Literal`s.  However, suppose one wants to prove a general theorem for any number of Andrea's apples and Bill's bananas.  One may start by using the $a$ and $b$ `Literal`s for convenience for some contextual \"lemmas\" (as an aside, though, **Prove-It** does not distinguish between lemmas and theorems), but then demote them to `Variable`s in order to make a statement of the form $\\forall_{a, b} P(a, b)$ (`Literal`s may not be quantified over).  This is done by using a process called axiom elimination that will be discussed later.  For now, we just note that \"variables\" with contextual meaning need to be `Literal`s."
   ]
  },
  {
   "cell_type": "code",
   "execution_count": 24,
   "metadata": {},
   "outputs": [
    {
     "data": {
      "text/html": [
       "<strong id=\"aLit\">aLit:</strong> <a class=\"ProveItLink\" href=\"__pv_it/2bb97c217fcb1fb3c3ee70ce478b8849ff22d3950/expr.ipynb\"><img src=\"data:image/png;base64,iVBORw0KGgoAAAANSUhEUgAAAAsAAAAJBAMAAAAWSsseAAAAMFBMVEX///8yMjKqqqrMzMzu7u4i\n",
       "IiJmZmaYmJhEREQQEBC6urp2dnaIiIhUVFTc3NwAAAD87Fq/AAAAAXRSTlMAQObYZgAAAEhJREFU\n",
       "CNdjYOC7s2seAwPDygccHxgY+L4zsDUwMPB+YGA9wMDA38Dgb8DA8P4Agz6DA4O/AsNFJgMGxgKm\n",
       "MG6gyjunLE4xAAAZTBA5TB6DCwAAAABJRU5ErkJggg==\n",
       "\" style=\"display:inline;vertical-align:middle;\" /></a><br>"
      ],
      "text/plain": [
       "aLit: a"
      ]
     },
     "execution_count": 24,
     "metadata": {},
     "output_type": "execute_result"
    }
   ],
   "source": [
    "aLit = Literal('a')"
   ]
  },
  {
   "cell_type": "code",
   "execution_count": 25,
   "metadata": {},
   "outputs": [
    {
     "data": {
      "text/html": [
       "<strong id=\"bLit\">bLit:</strong> <a class=\"ProveItLink\" href=\"__pv_it/1ff8d729167878a0309a8d0ba2bd23282d7fa6770/expr.ipynb\"><img src=\"data:image/png;base64,iVBORw0KGgoAAAANSUhEUgAAAAkAAAAOBAMAAAAPuiubAAAALVBMVEX///9mZmbMzMxERESYmJiI\n",
       "iIh2dna6urqqqqoyMjIiIiIQEBBUVFTu7u4AAAD9S1JeAAAAAXRSTlMAQObYZgAAAE1JREFUCNdj\n",
       "4D29gAEIOA+ASL4GEFl3AURmgQiGOaFHGBh4HzPwKTBwvGXgTmBgnMDAJ8DAJcBQ5wBSLncBJLWN\n",
       "gYGngRFoBO9REQYGAGrcDtUkVqASAAAAAElFTkSuQmCC\n",
       "\" style=\"display:inline;vertical-align:middle;\" /></a><br>"
      ],
      "text/plain": [
       "bLit: b"
      ]
     },
     "execution_count": 25,
     "metadata": {},
     "output_type": "execute_result"
    }
   ],
   "source": [
    "bLit = Literal('b')"
   ]
  },
  {
   "cell_type": "code",
   "execution_count": 26,
   "metadata": {},
   "outputs": [],
   "source": [
    "assert a != aLit # different because one is a Variable and one is a Literal\n",
    "assert a == aLit.asVariable() # same after converting the Literal to a Variable"
   ]
  },
  {
   "cell_type": "markdown",
   "metadata": {},
   "source": [
    "### Literal substitution\n",
    "It is possible to perform *expression substitution* on a `Literal`."
   ]
  },
  {
   "cell_type": "code",
   "execution_count": 27,
   "metadata": {},
   "outputs": [
    {
     "data": {
      "text/html": [
       "<a class=\"ProveItLink\" href=\"__pv_it/1ff8d729167878a0309a8d0ba2bd23282d7fa6770/expr.ipynb\"><img src=\"data:image/png;base64,iVBORw0KGgoAAAANSUhEUgAAAAkAAAAOBAMAAAAPuiubAAAALVBMVEX///9mZmbMzMxERESYmJiI\n",
       "iIh2dna6urqqqqoyMjIiIiIQEBBUVFTu7u4AAAD9S1JeAAAAAXRSTlMAQObYZgAAAE1JREFUCNdj\n",
       "4D29gAEIOA+ASL4GEFl3AURmgQiGOaFHGBh4HzPwKTBwvGXgTmBgnMDAJ8DAJcBQ5wBSLncBJLWN\n",
       "gYGngRFoBO9REQYGAGrcDtUkVqASAAAAAElFTkSuQmCC\n",
       "\" style=\"display:inline;vertical-align:middle;\" /></a>"
      ],
      "text/plain": [
       "b"
      ]
     },
     "execution_count": 27,
     "metadata": {},
     "output_type": "execute_result"
    }
   ],
   "source": [
    "aLit.substituted({aLit:bLit})"
   ]
  },
  {
   "cell_type": "code",
   "execution_count": 28,
   "metadata": {},
   "outputs": [
    {
     "data": {
      "text/html": [
       "<a class=\"ProveItLink\" href=\"__pv_it/9d7c4e1c5ee4d34a7826567c9ff37cf313ab71e60/expr.ipynb\"><img src=\"data:image/png;base64,iVBORw0KGgoAAAANSUhEUgAAAA0AAAAJBAMAAAAbVLtZAAAALVBMVEX///9mZmYyMjJERERUVFS6\n",
       "urqYmJju7u7c3NyIiIiqqqoQEBDMzMx2dnYAAACcB6guAAAAAXRSTlMAQObYZgAAAExJREFUCNdj\n",
       "YLjAwMBwegEDZwOQ7r7AwMvAUMDAmcAQw8C+gYHtAFCaywEkCCQWMPQyMNgwnAvgUGdguD1xy07p\n",
       "BQwMRY+O66kyMAAAM0ARC3HE760AAAAASUVORK5CYII=\n",
       "\" style=\"display:inline;vertical-align:middle;\" /></a>"
      ],
      "text/plain": [
       "omega"
      ]
     },
     "execution_count": 28,
     "metadata": {},
     "output_type": "execute_result"
    }
   ],
   "source": [
    "aLit.substituted({aLit:omega})"
   ]
  },
  {
   "cell_type": "markdown",
   "metadata": {},
   "source": [
    "As noted earlier, the `substituted()` method is non-mutating, leaving the aLit `Literal` as it was originally defined:"
   ]
  },
  {
   "cell_type": "code",
   "execution_count": 29,
   "metadata": {},
   "outputs": [
    {
     "data": {
      "text/html": [
       "<a class=\"ProveItLink\" href=\"__pv_it/2bb97c217fcb1fb3c3ee70ce478b8849ff22d3950/expr.ipynb\"><img src=\"data:image/png;base64,iVBORw0KGgoAAAANSUhEUgAAAAsAAAAJBAMAAAAWSsseAAAAMFBMVEX///8yMjKqqqrMzMzu7u4i\n",
       "IiJmZmaYmJhEREQQEBC6urp2dnaIiIhUVFTc3NwAAAD87Fq/AAAAAXRSTlMAQObYZgAAAEhJREFU\n",
       "CNdjYOC7s2seAwPDygccHxgY+L4zsDUwMPB+YGA9wMDA38Dgb8DA8P4Agz6DA4O/AsNFJgMGxgKm\n",
       "MG6gyjunLE4xAAAZTBA5TB6DCwAAAABJRU5ErkJggg==\n",
       "\" style=\"display:inline;vertical-align:middle;\" /></a>"
      ],
      "text/plain": [
       "a"
      ]
     },
     "execution_count": 29,
     "metadata": {},
     "output_type": "execute_result"
    }
   ],
   "source": [
    "aLit"
   ]
  },
  {
   "cell_type": "markdown",
   "metadata": {},
   "source": [
    "We cannot, however, *relabel* a `Literal` since a `Literal` is not an interchangeable label.  Furthermore, we will see in a later chapter that *specialization* is not allowed because you cannot quantify over a `Literal` like you can a `Variable`."
   ]
  },
  {
   "cell_type": "code",
   "execution_count": 30,
   "metadata": {},
   "outputs": [
    {
     "name": "stdout",
     "output_type": "stream",
     "text": [
      "EXPECTED ERROR:  relabelMap keys must be Variables\n"
     ]
    }
   ],
   "source": [
    "try:\n",
    "    aLit.relabeled({aLit:omega}) # we cannot relabel Literals\n",
    "    assert False, \"Expecting a TypeError; should not make it to this point\"\n",
    "except TypeError as e:\n",
    "    print(\"EXPECTED ERROR: \", e)"
   ]
  },
  {
   "cell_type": "markdown",
   "metadata": {},
   "source": [
    "### Literal contexts\n",
    "\n",
    "A `Literal` is distinguished not only by its formatting but also by its **context**.  Axioms and theorems of **Prove-It** are organized via **contexts** which we will discuss later in more detail.  Each `Literal` belongs to a **context** which is typically the one corresponding to the package (directory) in which it is defined.  This is particularly important for *contextual variable* types of `Literal`s that are very *context*-specific."
   ]
  },
  {
   "cell_type": "code",
   "execution_count": 31,
   "metadata": {},
   "outputs": [],
   "source": [
    "import proveit.logic as logic"
   ]
  },
  {
   "cell_type": "code",
   "execution_count": 32,
   "metadata": {},
   "outputs": [
    {
     "data": {
      "text/html": [
       "<a class=\"ProveItLink\" href=\"../packages/proveit/logic/boolean/__pv_it/68a87cc3370287d726c7086ace789e680e4461c30/expr.ipynb\"><img src=\"data:image/png;base64,iVBORw0KGgoAAAANSUhEUgAAAA4AAAAOBAMAAADtZjDiAAAAFVBMVEX///92dnbMzMxEREQiIiJm\n",
       "ZmYAAABAT6GXAAAAAXRSTlMAQObYZgAAABhJREFUCNdjCHEBAWcGIFBlgABa0YpADAAxegPJJk4d\n",
       "XAAAAABJRU5ErkJggg==\n",
       "\" style=\"display:inline;vertical-align:middle;\" /></a>"
      ],
      "text/plain": [
       "TRUE"
      ]
     },
     "execution_count": 32,
     "metadata": {},
     "output_type": "execute_result"
    }
   ],
   "source": [
    "logic.TRUE"
   ]
  },
  {
   "cell_type": "markdown",
   "metadata": {},
   "source": [
    "*If the above output is not the $\\top$ symbol when you execute this, you probably need to <a class=\"ProveItLink\" href=\"tutorial00_introduction.ipynb#build\">build or download the Prove-It database</a>.*"
   ]
  },
  {
   "cell_type": "code",
   "execution_count": 33,
   "metadata": {},
   "outputs": [
    {
     "data": {
      "text/plain": [
       "False"
      ]
     },
     "execution_count": 33,
     "metadata": {},
     "output_type": "execute_result"
    }
   ],
   "source": [
    "# When the context is different, they are not the same.\n",
    "TRUE == logic.TRUE"
   ]
  },
  {
   "cell_type": "markdown",
   "metadata": {},
   "source": [
    "The detailed expression information reveals the differences:"
   ]
  },
  {
   "cell_type": "code",
   "execution_count": 34,
   "metadata": {},
   "outputs": [
    {
     "data": {
      "text/html": [
       "<table><tr><th>&nbsp;</th><th>core type</th><th>sub-expressions</th><th>expression</th></tr>\n",
       "<tr><td>0</td><td>Literal</td><td></td><td><a class=\"ProveItLink\" href=\"__pv_it/567fef274ea4a346669c1cb3f9cc1731c13accd50/expr.ipynb\"><img src=\"data:image/png;base64,iVBORw0KGgoAAAANSUhEUgAAAA4AAAAOBAMAAADtZjDiAAAAFVBMVEX///92dnbMzMxEREQiIiJm\n",
       "ZmYAAABAT6GXAAAAAXRSTlMAQObYZgAAABhJREFUCNdjCHEBAWcGIFBlgABa0YpADAAxegPJJk4d\n",
       "XAAAAABJRU5ErkJggg==\n",
       "\" style=\"display:inline;vertical-align:middle;\" /></a></td></tr>\n",
       "<tr><td colspan=4 style=\"text-align:left\"><strong>context:</strong> tutorial</td></tr>\n",
       "</table>\n"
      ],
      "text/plain": [
       "0. true\n",
       "   core type: Literal\n",
       "   latexFormat: \\top\n",
       "   context: tutorial\n",
       "   class: <class 'proveit._core_.expression.label.literal.Literal'>\n",
       "   sub-expressions: "
      ]
     },
     "execution_count": 34,
     "metadata": {},
     "output_type": "execute_result"
    }
   ],
   "source": [
    "TRUE.exprInfo(details=True)"
   ]
  },
  {
   "cell_type": "code",
   "execution_count": 35,
   "metadata": {},
   "outputs": [
    {
     "data": {
      "text/html": [
       "<table><tr><th>&nbsp;</th><th>core type</th><th>sub-expressions</th><th>expression</th></tr>\n",
       "<tr><td>0</td><td>Literal</td><td></td><td><a class=\"ProveItLink\" href=\"../packages/proveit/logic/boolean/__pv_it/68a87cc3370287d726c7086ace789e680e4461c30/expr.ipynb\"><img src=\"data:image/png;base64,iVBORw0KGgoAAAANSUhEUgAAAA4AAAAOBAMAAADtZjDiAAAAFVBMVEX///92dnbMzMxEREQiIiJm\n",
       "ZmYAAABAT6GXAAAAAXRSTlMAQObYZgAAABhJREFUCNdjCHEBAWcGIFBlgABa0YpADAAxegPJJk4d\n",
       "XAAAAABJRU5ErkJggg==\n",
       "\" style=\"display:inline;vertical-align:middle;\" /></a></td></tr>\n",
       "<tr><td colspan=4 style=\"text-align:left\"><strong>class:</strong> proveit.logic.boolean.booleans.TrueLiteral</td></tr>\n",
       "<tr><td colspan=4 style=\"text-align:left\"><strong>context:</strong> proveit.logic.boolean</td></tr>\n",
       "</table>\n"
      ],
      "text/plain": [
       "0. TRUE\n",
       "   core type: Literal\n",
       "   latexFormat: \\top\n",
       "   context: proveit.logic.boolean\n",
       "   class: <class 'proveit.logic.boolean.booleans.TrueLiteral'>\n",
       "   sub-expressions: "
      ]
     },
     "execution_count": 35,
     "metadata": {},
     "output_type": "execute_result"
    }
   ],
   "source": [
    "logic.TRUE.exprInfo(details=True)"
   ]
  },
  {
   "cell_type": "markdown",
   "metadata": {},
   "source": [
    "**Expressions** are also distinguished by their class (derived from the *core type*).  In the above example, `logic.TRUE` is an object of the `proveit.logic.boolean.booleans.TrueLiteral` class.  `logic.TRUE` and `logic.FALSE` have an `evalEquality(..)` method defined in their respective classes which is a convenient method for deriving any of the following: $(\\top = \\top) = \\top$, $(\\bot = \\bot) = \\top$, $(\\top = \\bot) = \\bot$, or $(\\bot = \\top) = \\bot$ (these are proven theorems within `proveit.logic`). For example:"
   ]
  },
  {
   "cell_type": "code",
   "execution_count": 36,
   "metadata": {},
   "outputs": [
    {
     "data": {
      "text/html": [
       "<span style=\"font-size:20px;\"> <a class=\"ProveItLink\" href=\"__pv_it/397c38c4945bbeede958c7d5b2ce0d53dccf988b0/proof.ipynb\" style=\"text-decoration: none\">&#x22A2;&nbsp;</a><a class=\"ProveItLink\" href=\"__pv_it/1ae518bffd72d1b2d31db057b6c402ccdd1b830b0/expr.ipynb\"><img src=\"data:image/png;base64,iVBORw0KGgoAAAANSUhEUgAAAHUAAAAVBAMAAACK3rzVAAAAMFBMVEX////c3NwiIiJERESqqqqY\n",
       "mJh2dnZmZmYQEBDu7u4yMjJUVFTMzMyIiIi6uroAAAAs73DqAAAAAXRSTlMAQObYZgAAALZJREFU\n",
       "OMtjYKAE8F3AL8/6ALfcaQZ2JTAwwJBiBBtbg0UTRIZhJYjgKcBmLESUC6cM7wVCelkTcMlwTCCk\n",
       "l7MBl8wrBkJ6GUxwyZQR1puOS2Ypil72VWCwAUWvFy6ZPsL2vsAl84+w3vO00NuC6l+UJIbsZmwy\n",
       "poTtjcIlk05BHD2CsDHTHciRTWBHrsMlwyFAKJNiS5PQ7JlASC8b7gy+kpDeWbilpAnp3YhbipFA\n",
       "mcN7AJcMABivOrC0WkZ0AAAAAElFTkSuQmCC\n",
       "\" style=\"display:inline;vertical-align:middle;\" /></a></span>"
      ],
      "text/plain": [
       "|- (TRUE = FALSE) = FALSE"
      ]
     },
     "execution_count": 36,
     "metadata": {},
     "output_type": "execute_result"
    }
   ],
   "source": [
    "logic.TRUE.evalEquality(logic.FALSE)"
   ]
  },
  {
   "cell_type": "markdown",
   "metadata": {},
   "source": [
    "That is a sneak preview of a known truth (**KnownTruth** object) that uses the turnstile notation, $\\boldsymbol{\\vdash}$, to indicate that the expression is a proven statement.  There will be more on this in later tutorial chapters."
   ]
  },
  {
   "cell_type": "markdown",
   "metadata": {},
   "source": [
    "<a name=\"Lambda\"></a>Lambda\n",
    "====\n",
    "\n",
    "This type of **expression** represents a mathematical mapping or function.  It contains *parameter(s)* (one or more `Variable`s and possibly `Iteration`s of `Indexed` `Variable`s that will be discussed in the <a href=\"tutorial10_advanced_expr.ipynb#Iteration\">Iteration</a> section of the <a href=\"tutorial10_advanced_expr.ipynb\">advanced expressions</a> chapter), a *body* (any `Expression` that the parameters are to be mapped into), and optional *conditions* (any `Expression`s).  The mapping is only defined when the *conditions* are satisfied (derivable as **known truths**).  Below is an example with a single *parameter* and no *conditions*, mapping any input to the $5$ **Literal**:"
   ]
  },
  {
   "cell_type": "code",
   "execution_count": 37,
   "metadata": {},
   "outputs": [],
   "source": [
    "from proveit import Lambda"
   ]
  },
  {
   "cell_type": "code",
   "execution_count": 38,
   "metadata": {},
   "outputs": [
    {
     "data": {
      "text/html": [
       "<a class=\"ProveItLink\" href=\"__pv_it/ee0040d5dfe477769750d3eee2534a9fec12dcae0/expr.ipynb\"><img src=\"data:image/png;base64,iVBORw0KGgoAAAANSUhEUgAAADcAAAAOCAMAAAC8cHQRAAAANlBMVEX///+6uroUFBQNDQ0yMjJE\n",
       "RETMzMwQEBAiIiKYmJju7u5mZmaqqqpUVFSIiIh2dnbc3NwAAACltDI1AAAAAXRSTlMAQObYZgAA\n",
       "ALRJREFUKM+dkdkSwyAIRWkbN1TA///ZYmwbzExmYu+ToIflCrCmLSEIF1hVaCpexmDLlf06BhX+\n",
       "k+GEqUqhTL9ZppdlMqESUX30E+qWKSYI8XsXTy3QBE4DbB3s5lDTuv6CwyrnYUNP94Oz6dczTgp7\n",
       "fSNunx6BbDqeyx+Yi4MbGdl5vOCyGXOYkJumkuzrAV1w3s6Sh+HqeGkJnO4pxzXNtthAOliCtkNH\n",
       "jMyU7v27z7l2f9/yLgZjaLJwAQAAAABJRU5ErkJggg==\n",
       "\" style=\"display:inline;vertical-align:middle;\" /></a>"
      ],
      "text/plain": [
       "x -> 5"
      ]
     },
     "execution_count": 38,
     "metadata": {},
     "output_type": "execute_result"
    }
   ],
   "source": [
    "# maps any value to 5\n",
    "mapTo5 = Lambda(x, FIVE) \n",
    "mapTo5"
   ]
  },
  {
   "cell_type": "code",
   "execution_count": 39,
   "metadata": {},
   "outputs": [
    {
     "data": {
      "text/html": [
       "<table><tr><th>&nbsp;</th><th>core type</th><th>sub-expressions</th><th>expression</th></tr>\n",
       "<tr><td>0</td><td>Lambda</td><td>parameter:&nbsp;1<br>body:&nbsp;2<br></td><td><a class=\"ProveItLink\" href=\"__pv_it/ee0040d5dfe477769750d3eee2534a9fec12dcae0/expr.ipynb\"><img src=\"data:image/png;base64,iVBORw0KGgoAAAANSUhEUgAAADcAAAAOCAMAAAC8cHQRAAAANlBMVEX///+6uroUFBQNDQ0yMjJE\n",
       "RETMzMwQEBAiIiKYmJju7u5mZmaqqqpUVFSIiIh2dnbc3NwAAACltDI1AAAAAXRSTlMAQObYZgAA\n",
       "ALRJREFUKM+dkdkSwyAIRWkbN1TA///ZYmwbzExmYu+ToIflCrCmLSEIF1hVaCpexmDLlf06BhX+\n",
       "k+GEqUqhTL9ZppdlMqESUX30E+qWKSYI8XsXTy3QBE4DbB3s5lDTuv6CwyrnYUNP94Oz6dczTgp7\n",
       "fSNunx6BbDqeyx+Yi4MbGdl5vOCyGXOYkJumkuzrAV1w3s6Sh+HqeGkJnO4pxzXNtthAOliCtkNH\n",
       "jMyU7v27z7l2f9/yLgZjaLJwAQAAAABJRU5ErkJggg==\n",
       "\" style=\"display:inline;vertical-align:middle;\" /></a></td></tr>\n",
       "<tr><td>1</td><td>Variable</td><td></td><td><a class=\"ProveItLink\" href=\"../packages/proveit/__pv_it/530be409e3083890784cf1d7b28c9e67e90af9360/expr.ipynb\"><img src=\"data:image/png;base64,iVBORw0KGgoAAAANSUhEUgAAAAsAAAAJBAMAAAAWSsseAAAAKlBMVEX///9ERETMzMwQEBAiIiKY\n",
       "mJju7u5mZmaqqqpUVFSIiIh2dnbc3NwAAAA/vyDhAAAAAXRSTlMAQObYZgAAAENJREFUCNdjYDi9\n",
       "8sTyBQxsG1hdmR0YuBm4LnAoMLAxcAowgADzAjB1VoEhgYH1wFoGrgSG3gBhhlMMDImrs3cFMAAA\n",
       "t0YN+iTRa+sAAAAASUVORK5CYII=\n",
       "\" style=\"display:inline;vertical-align:middle;\" /></a></td></tr>\n",
       "<tr><td>2</td><td>Literal</td><td></td><td><a class=\"ProveItLink\" href=\"__pv_it/084027c5e7faf3e99fe505f569d22a93a32e5b730/expr.ipynb\"><img src=\"data:image/png;base64,iVBORw0KGgoAAAANSUhEUgAAAAkAAAAOBAMAAAAPuiubAAAAMFBMVEX///8iIiJERES6urqIiIjM\n",
       "zMxUVFRmZmYQEBCqqqp2dnbc3Nzu7u6YmJgyMjIAAADYGhJvAAAAAXRSTlMAQObYZgAAAE1JREFU\n",
       "CNdj4LvDvZKBgeP//wUMDHxlSxkYGNgYGBCki5sBAwPTAZ7PYG4GmFwfwKAIJA0YGhkY6jcwFDAw\n",
       "vGNg2M7A2c3AwFqetoEBAKS8EE1WXEJLAAAAAElFTkSuQmCC\n",
       "\" style=\"display:inline;vertical-align:middle;\" /></a></td></tr>\n",
       "</table>\n"
      ],
      "text/plain": [
       "0. x -> 5\n",
       "   core type: Lambda\n",
       "   parameter: 1\n",
       "   body: 2\n",
       "1. x\n",
       "   core type: Variable\n",
       "   sub-expressions: \n",
       "2. 5\n",
       "   core type: Literal\n",
       "   sub-expressions: "
      ]
     },
     "execution_count": 39,
     "metadata": {},
     "output_type": "execute_result"
    }
   ],
   "source": [
    "# Let's look at the Expression info\n",
    "mapTo5.exprInfo()"
   ]
  },
  {
   "cell_type": "markdown",
   "metadata": {},
   "source": [
    "Here is an example with multiple *parameters* and *conditions* that are represented by `ExprTuple`s.  This maps a pair of real numbers to the first element (invoking the `InSet` <a href=\"#Operation\">Operation</a>):"
   ]
  },
  {
   "cell_type": "code",
   "execution_count": 40,
   "metadata": {},
   "outputs": [
    {
     "data": {
      "text/html": [
       "<a class=\"ProveItLink\" href=\"__pv_it/10b5a03a8bdf7be69daf0a7e71153b100c649d780/expr.ipynb\"><img src=\"data:image/png;base64,iVBORw0KGgoAAAANSUhEUgAAAOQAAAAVCAMAAABhR7IDAAAANlBMVEX///8UFBQNDQ3c3NwiIiJE\n",
       "RESqqqqYmJh2dnZmZmYQEBDu7u4yMjJUVFTMzMyIiIi6uroAAABQuW4xAAAAAXRSTlMAQObYZgAA\n",
       "AjJJREFUWMPFWEli4yAQJGET0Gz//+wAsmRWu2OPZR2cQ6uKKnoBhZBLHkHJl5/gMW/J8MYSW/iy\n",
       "R2dx7yl3nUkJkfMIoMG/stwIB4OEwpWZ5ISmzXdcwEuV3sE9eq/kdq1Jlf8Yyl80WcM1NpHE6I+Z\n",
       "NB5YemBQuTmCMPkMHv5QhFx8yKQDaeapQJl8Cle3GqSbt1R41RTvUZ9OF3ubWvSnaNxPqGqTY5hy\n",
       "s6o325drJwkHB7knPIElk0Sz6k1/9DzVhVvcrbGW01bLzKgqk5Mwp6umCky2g6eXhIPrcG6Qj8mH\n",
       "63etyPdlK4JemTSWNqieqjI5hg2fTw6d26zrkF4SDh735TPOdm8Hd04bWRS5eMZ+f1jz6HjamFHV\n",
       "mRzCQR8s3eQIinSVOEjCwe/iiPaTXRP23gmVyS6TxLaTZaB6FJ7eRkq9qdDFBkk4eNW/0R2lcBNe\n",
       "uESZFeRxuaq2LQaq1mQXNmx50IE5q3IuCQfnO4mkpVGIN/flucvJS/Lo7VIkV4PH1ZlpqEaTk7CV\n",
       "K5UpE9aRB5Jw8P1YEFESnvJEs1oTdwub9krb/HPLdnWEtOVYN05DNZqchQ0LqzMgZS0Pz6UkHDyw\n",
       "fUL5zWzbnlyjY6k+AxFc/jk4AHM5a6hGk9Mwhe72v9+wc96AQxRrSTg40ZNTJtCLr3VpmEA7HnGS\n",
       "sPDZtVvOlfrPmXz+dfAefPKpNWU0l35q/WeTdDhn5hmz9Ism/bubRFEM3r2j8av//vgHtuMchv5A\n",
       "yF4AAAAASUVORK5CYII=\n",
       "\" style=\"display:inline;vertical-align:middle;\" /></a>"
      ],
      "text/plain": [
       "(x, omega) -> x | x in Reals , omega in Reals"
      ]
     },
     "execution_count": 40,
     "metadata": {},
     "output_type": "execute_result"
    }
   ],
   "source": [
    "# Can have multiple arguments\n",
    "from proveit.logic import InSet\n",
    "from proveit.number import Reals\n",
    "lambdaExpr = Lambda([x, omega], x, conditions=[InSet(x, Reals), InSet(omega, Reals)])\n",
    "lambdaExpr"
   ]
  },
  {
   "cell_type": "code",
   "execution_count": 41,
   "metadata": {},
   "outputs": [
    {
     "data": {
      "text/html": [
       "<table><tr><th>&nbsp;</th><th>core type</th><th>sub-expressions</th><th>expression</th></tr>\n",
       "<tr><td>0</td><td>Lambda</td><td>parameters:&nbsp;1<br>body:&nbsp;8<br>conditions:&nbsp;2<br></td><td><a class=\"ProveItLink\" href=\"__pv_it/10b5a03a8bdf7be69daf0a7e71153b100c649d780/expr.ipynb\"><img src=\"data:image/png;base64,iVBORw0KGgoAAAANSUhEUgAAAOQAAAAVCAMAAABhR7IDAAAANlBMVEX///8UFBQNDQ3c3NwiIiJE\n",
       "RESqqqqYmJh2dnZmZmYQEBDu7u4yMjJUVFTMzMyIiIi6uroAAABQuW4xAAAAAXRSTlMAQObYZgAA\n",
       "AjJJREFUWMPFWEli4yAQJGET0Gz//+wAsmRWu2OPZR2cQ6uKKnoBhZBLHkHJl5/gMW/J8MYSW/iy\n",
       "R2dx7yl3nUkJkfMIoMG/stwIB4OEwpWZ5ISmzXdcwEuV3sE9eq/kdq1Jlf8Yyl80WcM1NpHE6I+Z\n",
       "NB5YemBQuTmCMPkMHv5QhFx8yKQDaeapQJl8Cle3GqSbt1R41RTvUZ9OF3ubWvSnaNxPqGqTY5hy\n",
       "s6o325drJwkHB7knPIElk0Sz6k1/9DzVhVvcrbGW01bLzKgqk5Mwp6umCky2g6eXhIPrcG6Qj8mH\n",
       "63etyPdlK4JemTSWNqieqjI5hg2fTw6d26zrkF4SDh735TPOdm8Hd04bWRS5eMZ+f1jz6HjamFHV\n",
       "mRzCQR8s3eQIinSVOEjCwe/iiPaTXRP23gmVyS6TxLaTZaB6FJ7eRkq9qdDFBkk4eNW/0R2lcBNe\n",
       "uESZFeRxuaq2LQaq1mQXNmx50IE5q3IuCQfnO4mkpVGIN/flucvJS/Lo7VIkV4PH1ZlpqEaTk7CV\n",
       "K5UpE9aRB5Jw8P1YEFESnvJEs1oTdwub9krb/HPLdnWEtOVYN05DNZqchQ0LqzMgZS0Pz6UkHDyw\n",
       "fUL5zWzbnlyjY6k+AxFc/jk4AHM5a6hGk9Mwhe72v9+wc96AQxRrSTg40ZNTJtCLr3VpmEA7HnGS\n",
       "sPDZtVvOlfrPmXz+dfAefPKpNWU0l35q/WeTdDhn5hmz9Ism/bubRFEM3r2j8av//vgHtuMchv5A\n",
       "yF4AAAAASUVORK5CYII=\n",
       "\" style=\"display:inline;vertical-align:middle;\" /></a></td></tr>\n",
       "<tr><td>1</td><td>ExprTuple</td><td>8, 9</td><td><a class=\"ProveItLink\" href=\"__pv_it/23d210a3806a1b340308a9989b39892823a769160/expr.ipynb\"><img src=\"data:image/png;base64,iVBORw0KGgoAAAANSUhEUgAAAC8AAAAVBAMAAAAk6KpUAAAAMFBMVEX////c3NwiIiJERESqqqqY\n",
       "mJh2dnZmZmYQEBDu7u4yMjJUVFTMzMyIiIi6uroAAAAs73DqAAAAAXRSTlMAQObYZgAAAQtJREFU\n",
       "KM9jYMAJ+C5gisWBiNNYFLMfABIrsRmzgIGB9wI2iTAGBo4J2CRmMDC8wuoiZgeGMiAldlvkOsRE\n",
       "NiDmaQHSBQxLGRg4E1hVORTAEheBmLGNgYFlAUMfSBnvB5YDYIkEBk4GhqtAzzUw/APqYOA2gHr2\n",
       "AMjaGKBxH0ASQKdB3Qy0whukDSTRAhKQP8AAdjU3A0MKA2MC2ChTBgZWgfsMvBNAUswHeP4xSAEZ\n",
       "rAsY0hkY/AMsGGQZOD8Bjeqt2HEdZAbQuY8YGCZfm5YbwMDZL8DAuX7NrF8PgBJcDxg4BODhL4AS\n",
       "JKwJMA4rUpDkIgc7kgQnMNgZpGE8pPDnBpnKiCVC7jAwAAD7Jjg6jISTPwAAAABJRU5ErkJggg==\n",
       "\" style=\"display:inline;vertical-align:middle;\" /></a></td></tr>\n",
       "<tr><td>2</td><td>ExprTuple</td><td>3, 4</td><td><a class=\"ProveItLink\" href=\"__pv_it/1a1a88d506faa63190734b6f3b5ec348407c183c0/expr.ipynb\"><img src=\"data:image/png;base64,iVBORw0KGgoAAAANSUhEUgAAAH8AAAAVBAMAAACd/CwcAAAAMFBMVEX////c3NwiIiJERESqqqqY\n",
       "mJh2dnZmZmYQEBDu7u4yMjJUVFTMzMyIiIi6uroAAAAs73DqAAAAAXRSTlMAQObYZgAAAgtJREFU\n",
       "OMtjYKAY8F0gX28ciDiNRYJ1vfGvFWtxa4z6bL+qC2gx+wEgZyU2FcyMG3hMFuI2wUCa4bCXAAPD\n",
       "AgYG3gvYDShgsBTGY4A4A/NEAwaGMAYGjgnIEnMXKWnBDMhhxtDHeUtJaQHUALYDQANmMDC8QlbA\n",
       "s3QCwgVYDDgViXAB2ABmB4YyIFfstsh1sE+EJyB5YSfUC2wgk1tALEZLJC9wg7zAVsCwFOiwBFZV\n",
       "DgWQuCFSGPCpQgPxIkhrG1hUAMmAR1FAHssChj6QFbwfWEARwmmAMKBJaQmUncDAycBwFcSajAhE\n",
       "CSUtB1AiamD4B9THwA3RydekpAQLxLoCqHv5DoCCKgbEfAGUhgXic2aQd3k+gAwARgUkLnk2IHmh\n",
       "7jQ8CLxBzkBJcwbi7G82QAwAh478AQaQeZwKSAZwzQ0AM7kZGFIYGMEGTEJOByuvQrxgCky4AvcZ\n",
       "eMHhvxXJAJ4NexhAxjIf4PnHIAWW5g5AMuA0NzDYWBcwpDMw+AdYMMiCxSc9QIrGFGYBzk9AL/RW\n",
       "7LjeAklHekgGsDkYgqPxETBwr03LhZjNuPwALDN9PsBl9YWzX4CBc/2aWb+gBkvVwDOTDcPi9Q4M\n",
       "XA8YOASQkxrLLkgswPO6AGpS9F4EiQUYAMYPawK+DM9KoEDIxZWdiTSAE+QcaXwqCJRW3CAfMlJQ\n",
       "pN1hYAAA40l6PKEWz5YAAAAASUVORK5CYII=\n",
       "\" style=\"display:inline;vertical-align:middle;\" /></a></td></tr>\n",
       "<tr><td>3</td><td>Operation</td><td>operator:&nbsp;6<br>operands:&nbsp;5<br></td><td><a class=\"ProveItLink\" href=\"__pv_it/eb0bb41bc490216efda167f494078b4b6d7870100/expr.ipynb\"><img src=\"data:image/png;base64,iVBORw0KGgoAAAANSUhEUgAAADQAAAAPBAMAAABZ6/G2AAAAMFBMVEX///+6uroyMjJERETMzMwQ\n",
       "EBAiIiKYmJju7u5mZmaqqqpUVFSIiIh2dnbc3NwAAAAWgogoAAAAAXRSTlMAQObYZgAAAL9JREFU\n",
       "GNNjYMAA7PrGn1R1GLACZr4NLFZ6OKQmMFg8RhbhOJSWpgCTusKMLOVUgaQLLPX29KuTB4A0nwWy\n",
       "gTuABnJcYE9nTQAJPECSYkwHOoOXgecDlwNQoBnJGWFpWiDLGbgNwAKiaWlwZ0ycADGd9QCY8kZ2\n",
       "/EQI770DQwOQakOWYuopAAbLg/MMPCAp7gIkKZYNWxgY1heYMrwB+zgR2fG3gA5uPtt7B6L+0RR4\n",
       "8H52YDL6hRwcq9UgLoQCAPaLM5068DIIAAAAAElFTkSuQmCC\n",
       "\" style=\"display:inline;vertical-align:middle;\" /></a></td></tr>\n",
       "<tr><td>4</td><td>Operation</td><td>operator:&nbsp;6<br>operands:&nbsp;7<br></td><td><a class=\"ProveItLink\" href=\"__pv_it/e1d7792fcf55928b0fb378c0e7132e25e4ff27af0/expr.ipynb\"><img src=\"data:image/png;base64,iVBORw0KGgoAAAANSUhEUgAAADYAAAAPBAMAAABdHiGLAAAAMFBMVEX///8iIiJmZmYyMjJERERU\n",
       "VFS6urqYmJju7u7c3NyIiIiqqqoQEBDMzMx2dnYAAACMQNsoAAAAAXRSTlMAQObYZgAAAMpJREFU\n",
       "GNNjYMAE7PYun22sGLADFs4AXm9LXHIKDB5TUIQ4FgsKGsDk3rKgyF2uQNIHlnsAxHc2AAlOD2Qz\n",
       "I4Bmck0AcuaAFLBMQJJjEwe6hY+BoYGBqwAo0oLkloOC1kA6l4HjAAP7BSArR1AQ7hY1BQ+wddwB\n",
       "IM0MDFeR/aAG4gElNjDMA4k0IssxdwGt8WW4n8BpARJhLUCS4w2IZWB4s+joKZ0NYK+LIfvhNdDZ\n",
       "zZ9v2JtBhCbrwsP6ywVm598oAbPVEOJOKAAAoactYTiUOqIAAAAASUVORK5CYII=\n",
       "\" style=\"display:inline;vertical-align:middle;\" /></a></td></tr>\n",
       "<tr><td>5</td><td>ExprTuple</td><td>8, 10</td><td><a class=\"ProveItLink\" href=\"__pv_it/a1cedba931058bda2f9ec2b9f707d89f469f1fb80/expr.ipynb\"><img src=\"data:image/png;base64,iVBORw0KGgoAAAANSUhEUgAAADAAAAAVBAMAAADyTXAxAAAAMFBMVEX////c3NwiIiJERESqqqqY\n",
       "mJh2dnZmZmYQEBDu7u4yMjJUVFTMzMyIiIi6uroAAAAs73DqAAAAAXRSTlMAQObYZgAAARBJREFU\n",
       "KM9jYMAJ+C5girE+ABKnkQXWG/9asRbIqAHilchKmRk38JgsZGDgYmDgvYAqUcBgKQzUmsDAMQFd\n",
       "IoeZgYGzgeEVAzYJBhOGMiApdlvk+gW4xE6gUQzpDEuB+hJYVTkUYBJ8qkDLGbwY+hgY2Bh4P7Ac\n",
       "gEo0KS0BMV4w/APqYOA2gNtRV2AJYpwHSTAwcFxAWF53GiLRAqLkDzBMgElwzQ0AG2UK9I3AfQbe\n",
       "CWApoATPhj1ARhTQXQz+ARYMsgycn6DOTWEWADn3EQPD5GvTcgMYOPsFQIH4+QCX1RcGhnUMHALw\n",
       "8BdAhAAwSIDBBQtzpKBhu4AU7MgSs4BYGsZBDv+NQMyIJWp5DzAAABMaPkMdIdlaAAAAAElFTkSu\n",
       "QmCC\n",
       "\" style=\"display:inline;vertical-align:middle;\" /></a></td></tr>\n",
       "<tr><td>6</td><td>Literal</td><td></td><td><a class=\"ProveItLink\" href=\"../packages/proveit/logic/set_theory/membership/__pv_it/088cbc857536a28d4119ad9639a84270ccb0545d0/expr.ipynb\"><img src=\"data:image/png;base64,iVBORw0KGgoAAAANSUhEUgAAAAwAAAAMBAMAAACkW0HUAAAALVBMVEX///+qqqpmZmZUVFQQEBC6\n",
       "urpERETc3NyYmJjMzMwiIiIyMjKIiIju7u4AAACYsrA9AAAAAXRSTlMAQObYZgAAADxJREFUCNdj\n",
       "YOA9vWrVBgaG2b0MQMCeCyIZ2ArA1DUwyRCyahVIyWQI7xaEYm4AU7xLIdxqTQgtvGvVBgCkcQ7e\n",
       "geM/tQAAAABJRU5ErkJggg==\n",
       "\" style=\"display:inline;vertical-align:middle;\" /></a></td></tr>\n",
       "<tr><td>7</td><td>ExprTuple</td><td>9, 10</td><td><a class=\"ProveItLink\" href=\"__pv_it/c385210077734df8740547ef697a763fd618a8130/expr.ipynb\"><img src=\"data:image/png;base64,iVBORw0KGgoAAAANSUhEUgAAADIAAAAVBAMAAAD2uKAMAAAAMFBMVEX////c3NwiIiJERESqqqqY\n",
       "mJh2dnZmZmYQEBDu7u4yMjJUVFTMzMyIiIi6uroAAAAs73DqAAAAAXRSTlMAQObYZgAAARdJREFU\n",
       "KM9jYMAN+C5gEWR9ACROo4isN/61Yi2QUQPEK1EUMzNu4DFZyMDAxcDAewFNpoDBUhioOYGBYwKG\n",
       "TA4zAwNnA8MrBqwyDCYMZUAyAYhPOMBldgJNY0hnWAq0SgDIkkiAyfCpAl3A4MXQx8DAxsAwgYE3\n",
       "ACrTpLQExHjB8I+B4Q3IPtYDUJm6AksQ4zxIJoGBZQNII9S0utMQmRYGBqCwA4MYXIZrbgDYNFMG\n",
       "BhuG8w8YVzJwQmV4NuwBMqKArmPIuN7dW+HAMF8B6uoUZgGQqx8xMMz6dXL9OgaGGR/BIfr5AJfV\n",
       "FwaGdQwcAnD/P0QKC5BrE+C8ACQZtgvIsYAsMwuIpWEcXuSQ3QjEjNhim/cAAwDU2UKrSAiI0gAA\n",
       "AABJRU5ErkJggg==\n",
       "\" style=\"display:inline;vertical-align:middle;\" /></a></td></tr>\n",
       "<tr><td>8</td><td>Variable</td><td></td><td><a class=\"ProveItLink\" href=\"../packages/proveit/__pv_it/530be409e3083890784cf1d7b28c9e67e90af9360/expr.ipynb\"><img src=\"data:image/png;base64,iVBORw0KGgoAAAANSUhEUgAAAAsAAAAJBAMAAAAWSsseAAAAKlBMVEX///9ERETMzMwQEBAiIiKY\n",
       "mJju7u5mZmaqqqpUVFSIiIh2dnbc3NwAAAA/vyDhAAAAAXRSTlMAQObYZgAAAENJREFUCNdjYDi9\n",
       "8sTyBQxsG1hdmR0YuBm4LnAoMLAxcAowgADzAjB1VoEhgYH1wFoGrgSG3gBhhlMMDImrs3cFMAAA\n",
       "t0YN+iTRa+sAAAAASUVORK5CYII=\n",
       "\" style=\"display:inline;vertical-align:middle;\" /></a></td></tr>\n",
       "<tr><td>9</td><td>Variable</td><td></td><td><a class=\"ProveItLink\" href=\"__pv_it/9d7c4e1c5ee4d34a7826567c9ff37cf313ab71e60/expr.ipynb\"><img src=\"data:image/png;base64,iVBORw0KGgoAAAANSUhEUgAAAA0AAAAJBAMAAAAbVLtZAAAALVBMVEX///9mZmYyMjJERERUVFS6\n",
       "urqYmJju7u7c3NyIiIiqqqoQEBDMzMx2dnYAAACcB6guAAAAAXRSTlMAQObYZgAAAExJREFUCNdj\n",
       "YLjAwMBwegEDZwOQ7r7AwMvAUMDAmcAQw8C+gYHtAFCaywEkCCQWMPQyMNgwnAvgUGdguD1xy07p\n",
       "BQwMRY+O66kyMAAAM0ARC3HE760AAAAASUVORK5CYII=\n",
       "\" style=\"display:inline;vertical-align:middle;\" /></a></td></tr>\n",
       "<tr><td>10</td><td>Literal</td><td></td><td><a class=\"ProveItLink\" href=\"../packages/proveit/number/sets/real/__pv_it/9e7645ee1117062e179dd6264898f99ed95b157c0/expr.ipynb\"><img src=\"data:image/png;base64,iVBORw0KGgoAAAANSUhEUgAAAA8AAAAOBAMAAAACpFvcAAAAMFBMVEX///8iIiK6urp2dnbu7u5m\n",
       "ZmaqqqrMzMxUVFTc3NyIiIgQEBBEREQyMjKYmJgAAAA9nvXMAAAAAXRSTlMAQObYZgAAAFJJREFU\n",
       "CNdjePvn/N29CxiA4MAMhprcCSDGVAYezwMQBnMBOoMDJqX4Fqx4tqBsAlj7VFUeBwiDVb0BwmC4\n",
       "sg7KqOAogJqTcJKBAWjpcYY79xMAyqEnfsw4ApEAAAAASUVORK5CYII=\n",
       "\" style=\"display:inline;vertical-align:middle;\" /></a></td></tr>\n",
       "</table>\n"
      ],
      "text/plain": [
       "0. (x, omega) -> x | x in Reals , omega in Reals\n",
       "   core type: Lambda\n",
       "   parameters: 1\\n   body: 8\n",
       "   conditions: 2\\n1. (x , omega)\n",
       "   core type: ExprTuple\n",
       "   sub-expressions: 8, 9\n",
       "2. (x in Reals , omega in Reals)\n",
       "   core type: ExprTuple\n",
       "   sub-expressions: 3, 4\n",
       "3. x in Reals\n",
       "   core type: Operation\n",
       "   operator: 6\n",
       "   operands: 5\n",
       "4. omega in Reals\n",
       "   core type: Operation\n",
       "   operator: 6\n",
       "   operands: 7\n",
       "5. (x , Reals)\n",
       "   core type: ExprTuple\n",
       "   sub-expressions: 8, 10\n",
       "6. in\n",
       "   core type: Literal\n",
       "   sub-expressions: \n",
       "7. (omega , Reals)\n",
       "   core type: ExprTuple\n",
       "   sub-expressions: 9, 10\n",
       "8. x\n",
       "   core type: Variable\n",
       "   sub-expressions: \n",
       "9. omega\n",
       "   core type: Variable\n",
       "   sub-expressions: \n",
       "10. Reals\n",
       "    core type: Literal\n",
       "    sub-expressions: "
      ]
     },
     "execution_count": 41,
     "metadata": {},
     "output_type": "execute_result"
    }
   ],
   "source": [
    "# Expression info shows how the Lambda is broken down into arguments and the expression as sub-expression.\n",
    "lambdaExpr.exprInfo()"
   ]
  },
  {
   "cell_type": "markdown",
   "metadata": {},
   "source": [
    "### Lambda substitution/relabeling"
   ]
  },
  {
   "cell_type": "markdown",
   "metadata": {},
   "source": [
    "A very important property of a `Lambda` is that it defines a new \"scope\" for its parameters.  The parameter **Variable**s may be *relabeled*, but they will not be substituted."
   ]
  },
  {
   "cell_type": "code",
   "execution_count": 42,
   "metadata": {},
   "outputs": [
    {
     "data": {
      "text/html": [
       "<a class=\"ProveItLink\" href=\"__pv_it/3dd282ddd0235516e5e0f2242f0c4ad7096e94880/expr.ipynb\"><img src=\"data:image/png;base64,iVBORw0KGgoAAAANSUhEUgAAAN8AAAAVCAMAAADxVMvMAAAANlBMVEX///8UFBQNDQ3c3NwiIiJE\n",
       "RESqqqqYmJh2dnZmZmYQEBDu7u4yMjJUVFTMzMyIiIi6uroAAABQuW4xAAAAAXRSTlMAQObYZgAA\n",
       "AklJREFUWMPFWNmS4jAM9K7v2/7/n504DkHyQUxRBL9MTUQr3bosIOSGIyj55Unx+jMyffAClX4p\n",
       "L/iVT+lwnz7pMufZOePi2+/qsc4uAd2d+eOEblEPXLj3S7vBxsUYSXWvPl3+WMrJh1izlj5izdf0\n",
       "2ejYdlzHUQVype8Km5brjosv6QtO2nEOrvVdYvVRdlRFT0XUqFqt2s00Fx9KT3pRIOEDR1Bfb6bc\n",
       "zmrMN/WJ+KxhnTyQW4cxSQxDgScplxbNu4ynKoY9egsp9I6AvoGZ01kPJSbxfEF81rAmHcgKE/Aa\n",
       "CILowoPvQUxmps96Cij0joC+3mz5eEaY0lW4JTCfNWyu7y4Z8O2nt4em1FHeiymcUSP//zF0TE4A\n",
       "0zmC+evMyTy8NDMiadJUH+azhn0yq9hmsyqVHnJo9DX5Ix4PkNaRemUerhd7jenU2SCfNaw5S4Du\n",
       "MBwxXeISDXldnxp3QecI62vMlk3vMGejJFM+a1hePUhauzZaRM3tN6U/Np+JvgDzgRz1+gZmL2cc\n",
       "txT4QCAhyGcNW6e+yJLwLSy0ULX55K83VylXJ+B+iG1bgAICjnp9I7NlaTbjldgn5JMQ5LOGTawO\n",
       "oqisUjWl1mR6DqgY9fGfW9mykKNe39BMXbO81x2Zbw8dd1kAQpDPGpaYwRWS4DPFvr2fEeEdnoGv\n",
       "CCn2Fna0Nz/C61nRVSeQit/Td73c93yWz+D70UMf27Tzqt/e+v1oQgjwWT+0u0TOTImt2g9unv5Q\n",
       "X+z5vCNwofJi+ITe736f+AMg1R06o+AstgAAAABJRU5ErkJggg==\n",
       "\" style=\"display:inline;vertical-align:middle;\" /></a>"
      ],
      "text/plain": [
       "(x, y) -> x | x in Reals , y in Reals"
      ]
     },
     "execution_count": 42,
     "metadata": {},
     "output_type": "execute_result"
    }
   ],
   "source": [
    "lambdaExpr.relabeled({omega:y})  # the omega is relabeled with y"
   ]
  },
  {
   "cell_type": "code",
   "execution_count": 43,
   "metadata": {},
   "outputs": [
    {
     "data": {
      "text/html": [
       "<a class=\"ProveItLink\" href=\"__pv_it/10b5a03a8bdf7be69daf0a7e71153b100c649d780/expr.ipynb\"><img src=\"data:image/png;base64,iVBORw0KGgoAAAANSUhEUgAAAOQAAAAVCAMAAABhR7IDAAAANlBMVEX///8UFBQNDQ3c3NwiIiJE\n",
       "RESqqqqYmJh2dnZmZmYQEBDu7u4yMjJUVFTMzMyIiIi6uroAAABQuW4xAAAAAXRSTlMAQObYZgAA\n",
       "AjJJREFUWMPFWEli4yAQJGET0Gz//+wAsmRWu2OPZR2cQ6uKKnoBhZBLHkHJl5/gMW/J8MYSW/iy\n",
       "R2dx7yl3nUkJkfMIoMG/stwIB4OEwpWZ5ISmzXdcwEuV3sE9eq/kdq1Jlf8Yyl80WcM1NpHE6I+Z\n",
       "NB5YemBQuTmCMPkMHv5QhFx8yKQDaeapQJl8Cle3GqSbt1R41RTvUZ9OF3ubWvSnaNxPqGqTY5hy\n",
       "s6o325drJwkHB7knPIElk0Sz6k1/9DzVhVvcrbGW01bLzKgqk5Mwp6umCky2g6eXhIPrcG6Qj8mH\n",
       "63etyPdlK4JemTSWNqieqjI5hg2fTw6d26zrkF4SDh735TPOdm8Hd04bWRS5eMZ+f1jz6HjamFHV\n",
       "mRzCQR8s3eQIinSVOEjCwe/iiPaTXRP23gmVyS6TxLaTZaB6FJ7eRkq9qdDFBkk4eNW/0R2lcBNe\n",
       "uESZFeRxuaq2LQaq1mQXNmx50IE5q3IuCQfnO4mkpVGIN/flucvJS/Lo7VIkV4PH1ZlpqEaTk7CV\n",
       "K5UpE9aRB5Jw8P1YEFESnvJEs1oTdwub9krb/HPLdnWEtOVYN05DNZqchQ0LqzMgZS0Pz6UkHDyw\n",
       "fUL5zWzbnlyjY6k+AxFc/jk4AHM5a6hGk9Mwhe72v9+wc96AQxRrSTg40ZNTJtCLr3VpmEA7HnGS\n",
       "sPDZtVvOlfrPmXz+dfAefPKpNWU0l35q/WeTdDhn5hmz9Ism/bubRFEM3r2j8av//vgHtuMchv5A\n",
       "yF4AAAAASUVORK5CYII=\n",
       "\" style=\"display:inline;vertical-align:middle;\" /></a>"
      ],
      "text/plain": [
       "(x, omega) -> x | x in Reals , omega in Reals"
      ]
     },
     "execution_count": 43,
     "metadata": {},
     "output_type": "execute_result"
    }
   ],
   "source": [
    "lambdaExpr.substituted({x:aLit}) # the attempted substitution is ignored"
   ]
  },
  {
   "cell_type": "markdown",
   "metadata": {},
   "source": [
    "We can substitute a Variable that is not an argument, however:"
   ]
  },
  {
   "cell_type": "code",
   "execution_count": 44,
   "metadata": {},
   "outputs": [
    {
     "data": {
      "text/html": [
       "<a class=\"ProveItLink\" href=\"__pv_it/ac7170fa482eae45767253b96d2614478a09413a0/expr.ipynb\"><img src=\"data:image/png;base64,iVBORw0KGgoAAAANSUhEUgAAADcAAAAKCAMAAAAn4TYHAAAANlBMVEX///+6uroUFBQNDQ0yMjJE\n",
       "RETMzMwQEBAiIiKYmJju7u5mZmaqqqpUVFSIiIh2dnbc3NwAAACltDI1AAAAAXRSTlMAQObYZgAA\n",
       "AKpJREFUKM+dUe0OAyEIw+38QkR5/5cdmHmnyy5Z5g/TAG2lAvx9euPaiQvPwrG1ibbhys3Frggb\n",
       "QE4ZYpq9tOtWvPCgeDGoNGBFFG54WPvpJlnv4kfZJP06+Hyk7URx03o4pXOjyCvvww/qpIGYPko4\n",
       "7cPb+BuvLM80fZIxm/tYD/iGF663oFi29bAsSFf1UbWuNu+xLPjQWCgVyxI9N2yN809fXZld8Ozg\n",
       "BS1VBib4pzOIAAAAAElFTkSuQmCC\n",
       "\" style=\"display:inline;vertical-align:middle;\" /></a>"
      ],
      "text/plain": [
       "x -> a"
      ]
     },
     "execution_count": 44,
     "metadata": {},
     "output_type": "execute_result"
    }
   ],
   "source": [
    "mapTo5.substituted({FIVE:aLit})"
   ]
  },
  {
   "cell_type": "markdown",
   "metadata": {},
   "source": [
    "There are important limits regarding *relabeling* and *substitution* within the \"scope\" of the `Lambda`.  In particular, parameters of the Lambda function are \"reserved\" and may not be used in *substitution* or *relabeling*.  Otherwise, you could alter the meaning of the **expression** in ways that can invalidate a proof (*e.g.*, via a *specialization* step which relies upon *expression substitution* internally).\n",
    "\n",
    "For example, consider the mapping $(x, \\omega) \\mapsto z$, defined below:"
   ]
  },
  {
   "cell_type": "code",
   "execution_count": 45,
   "metadata": {},
   "outputs": [
    {
     "data": {
      "text/html": [
       "<a class=\"ProveItLink\" href=\"__pv_it/802791a0c78db5d39765026988ea6f1c925142460/expr.ipynb\"><img src=\"data:image/png;base64,iVBORw0KGgoAAAANSUhEUgAAAFsAAAAVCAMAAAAeumK3AAAANlBMVEX///8UFBQNDQ3c3NwiIiJE\n",
       "RESqqqqYmJh2dnZmZmYQEBDu7u4yMjJUVFTMzMyIiIi6uroAAABQuW4xAAAAAXRSTlMAQObYZgAA\n",
       "AU9JREFUOMu1VddyxCAMJJFBIIrg/382mOIzDpeBmYsfGJdlWa2KhfjfK/ISDOM+dfCLQBO2uZ1d\n",
       "Ru5SMy9DUW9y07JsYWkzkTuBSrXFbVqcoNmDYjM41D0IVEm1mVuvxjMjURTAwmENN9PggYKOeyqg\n",
       "3QDVU9RFeYwK/d1YkMjGyGx3vBRyyrvDU3bZxdgEveG2Hm4P5UVeU7yevXykIlz5w3pkSP3b99cx\n",
       "XJSGzoLSM7d39KjGIlv5m/Ev7odu4QfqWPNCVxoghW5BwxdWVRIt/vbEwJDaBpfVSYRit2D74pfh\n",
       "VJoFQW9dfJPLwL+pfS8rlVDILApOkE11pyY25M+lx/aqwdG+of2CQ4PosqZYeKxkbbWu5WAplRCt\n",
       "Sy6cy+WlWxmF+XxMVQ7BpFnhIz0/HUA4h2r+wIydc9vtGdvqfBi7c6CH/R8PrIXKu7+dHw64Cu4V\n",
       "B/uEAAAAAElFTkSuQmCC\n",
       "\" style=\"display:inline;vertical-align:middle;\" /></a>"
      ],
      "text/plain": [
       "(x, omega) -> z"
      ]
     },
     "execution_count": 45,
     "metadata": {},
     "output_type": "execute_result"
    }
   ],
   "source": [
    "mapXOmegaToZ = Lambda([x, omega], z)\n",
    "mapXOmegaToZ"
   ]
  },
  {
   "cell_type": "markdown",
   "metadata": {},
   "source": [
    "The $x$ and $w$ are not allowed to be used as substitutions. For example, we are not allowed to substitute $\\omega$ for $z$, which would create a potentially non-equivalent function $(x, \\omega) \\mapsto \\omega$:"
   ]
  },
  {
   "cell_type": "code",
   "execution_count": 46,
   "metadata": {},
   "outputs": [
    {
     "name": "stdout",
     "output_type": "stream",
     "text": [
      "EXPECTED ERROR:  Scoping violation while substituting(x, omega) -> z.  Must not make substitution with reserved variables (i.e., parameters of a Lambda function).\n",
      "These variables are in violation: {omega}\n"
     ]
    }
   ],
   "source": [
    "from proveit import ScopingViolation\n",
    "try:\n",
    "    mapXOmegaToZ.substituted({z:omega})\n",
    "    assert False, \"Expecting a ScopingViolation error; should not make it to this point\"\n",
    "except ScopingViolation as e:\n",
    "    print(\"EXPECTED ERROR: \", e)"
   ]
  },
  {
   "cell_type": "markdown",
   "metadata": {},
   "source": [
    "And we are not allowed to simply relabel $z$ as $\\omega$:"
   ]
  },
  {
   "cell_type": "code",
   "execution_count": 47,
   "metadata": {},
   "outputs": [
    {
     "name": "stdout",
     "output_type": "stream",
     "text": [
      "EXPECTED ERROR:  Scoping violation while substituting(x, omega) -> z.  Relabeling in violation of Variable scoping restrictions.\n"
     ]
    }
   ],
   "source": [
    "from proveit import ScopingViolation\n",
    "try:\n",
    "    mapXOmegaToZ.relabeled({z:omega})\n",
    "    assert False, \"Expecting a ScopingViolation error; should not make it to this point\"\n",
    "except ScopingViolation as e:\n",
    "    print(\"EXPECTED ERROR: \", e)"
   ]
  },
  {
   "cell_type": "markdown",
   "metadata": {},
   "source": [
    "In addition, Lambda parameters must be distinct."
   ]
  },
  {
   "cell_type": "code",
   "execution_count": 48,
   "metadata": {},
   "outputs": [
    {
     "name": "stdout",
     "output_type": "stream",
     "text": [
      "EXPECTED ERROR:  Lambda parameters Variables must be unique with respect to each other.\n"
     ]
    }
   ],
   "source": [
    "from proveit import ImproperSubstitution\n",
    "try:\n",
    "    mapXOmegaToZ.relabeled({x:omega})\n",
    "    assert False, \"Expecting an ImproperSubstitution error; should not make it to this point\"    \n",
    "except ImproperSubstitution as e:\n",
    "    print(\"EXPECTED ERROR: \", e)"
   ]
  },
  {
   "cell_type": "markdown",
   "metadata": {},
   "source": [
    "It is possible, however, to perform simultaneous *relabeling* that is consistent (retains the meaning). For example, recall our earlier `Lambda` expression $(x, \\omega) \\mapsto x$:"
   ]
  },
  {
   "cell_type": "code",
   "execution_count": 49,
   "metadata": {},
   "outputs": [
    {
     "data": {
      "text/html": [
       "<a class=\"ProveItLink\" href=\"__pv_it/10b5a03a8bdf7be69daf0a7e71153b100c649d780/expr.ipynb\"><img src=\"data:image/png;base64,iVBORw0KGgoAAAANSUhEUgAAAOQAAAAVCAMAAABhR7IDAAAANlBMVEX///8UFBQNDQ3c3NwiIiJE\n",
       "RESqqqqYmJh2dnZmZmYQEBDu7u4yMjJUVFTMzMyIiIi6uroAAABQuW4xAAAAAXRSTlMAQObYZgAA\n",
       "AjJJREFUWMPFWEli4yAQJGET0Gz//+wAsmRWu2OPZR2cQ6uKKnoBhZBLHkHJl5/gMW/J8MYSW/iy\n",
       "R2dx7yl3nUkJkfMIoMG/stwIB4OEwpWZ5ISmzXdcwEuV3sE9eq/kdq1Jlf8Yyl80WcM1NpHE6I+Z\n",
       "NB5YemBQuTmCMPkMHv5QhFx8yKQDaeapQJl8Cle3GqSbt1R41RTvUZ9OF3ubWvSnaNxPqGqTY5hy\n",
       "s6o325drJwkHB7knPIElk0Sz6k1/9DzVhVvcrbGW01bLzKgqk5Mwp6umCky2g6eXhIPrcG6Qj8mH\n",
       "63etyPdlK4JemTSWNqieqjI5hg2fTw6d26zrkF4SDh735TPOdm8Hd04bWRS5eMZ+f1jz6HjamFHV\n",
       "mRzCQR8s3eQIinSVOEjCwe/iiPaTXRP23gmVyS6TxLaTZaB6FJ7eRkq9qdDFBkk4eNW/0R2lcBNe\n",
       "uESZFeRxuaq2LQaq1mQXNmx50IE5q3IuCQfnO4mkpVGIN/flucvJS/Lo7VIkV4PH1ZlpqEaTk7CV\n",
       "K5UpE9aRB5Jw8P1YEFESnvJEs1oTdwub9krb/HPLdnWEtOVYN05DNZqchQ0LqzMgZS0Pz6UkHDyw\n",
       "fUL5zWzbnlyjY6k+AxFc/jk4AHM5a6hGk9Mwhe72v9+wc96AQxRrSTg40ZNTJtCLr3VpmEA7HnGS\n",
       "sPDZtVvOlfrPmXz+dfAefPKpNWU0l35q/WeTdDhn5hmz9Ism/bubRFEM3r2j8av//vgHtuMchv5A\n",
       "yF4AAAAASUVORK5CYII=\n",
       "\" style=\"display:inline;vertical-align:middle;\" /></a>"
      ],
      "text/plain": [
       "(x, omega) -> x | x in Reals , omega in Reals"
      ]
     },
     "execution_count": 49,
     "metadata": {},
     "output_type": "execute_result"
    }
   ],
   "source": [
    "lambdaExpr = Lambda([x, omega], x, conditions=[InSet(x, Reals), InSet(omega, Reals)])\n",
    "lambdaExpr"
   ]
  },
  {
   "cell_type": "markdown",
   "metadata": {},
   "source": [
    "We can simultaneously relabel $x$ as $\\omega$ and $\\omega$ as $x$ to obtain the equivalent mapping $(\\omega, x) \\mapsto \\omega$:"
   ]
  },
  {
   "cell_type": "code",
   "execution_count": 50,
   "metadata": {},
   "outputs": [
    {
     "data": {
      "text/html": [
       "<a class=\"ProveItLink\" href=\"__pv_it/86aeffdc8c446b38ba3412b7603c93bfc98c5cc40/expr.ipynb\"><img src=\"data:image/png;base64,iVBORw0KGgoAAAANSUhEUgAAAOYAAAAVCAMAAABlsmI+AAAANlBMVEX///8UFBQNDQ3c3NwiIiJE\n",
       "RESqqqqYmJh2dnZmZmYQEBDu7u4yMjJUVFTMzMyIiIi6uroAAABQuW4xAAAAAXRSTlMAQObYZgAA\n",
       "AkxJREFUWMPVWNt24yAMpJUxGMTt/392bRPbIMSGTU6cszy4TaoRM+iCXCFuWjOIL68YhsxUfGcT\n",
       "Hb+s0rtBw8XfKVNhkjIhGgwvbNei0Y5i8d5oSgFrBLyc8ZWEJ+gwflhK3y1z2X5YkK/JLNFmOJjC\n",
       "mk/KtAGndSElqr14LrMBE3T8l0yU8+dkelSWjceIzBZM0MsjEY989KaSAjo4mMOSM1svfJnOFYZ1\n",
       "VcrkDEDaTto5mrQ1pw6YoFHtX4ajysGUBWjXD2pSwkxZzqluqn26YhveVSGTNZDQIRonVbcgwqkD\n",
       "JmgTrwPeuQZFAhPSqi/fJdF0ZFoHdawaV4VMzsBKlqjZ6o1UCuHUARN02reP/uwwqrwdNzLucuLT\n",
       "8dvvz1Qtkw4ZHVeXTNYgmsNT3YLiImhCEk4dMEFnevsBz64snHOZwMgk0RQuVrFqXem/G3Azyp52\n",
       "S+T+ZMLTAadG5y6QN533+ibmkPyRY/2kXa6c7bi6ZLIGdupVF9qqjBpOHTBBy/z0W6hWJrDPRKcD\n",
       "BXsZiGAfIxQv0xeHS1y1MnkDpzpE13A4LwpShFMHTND5jtAmLMZtj+2UbXqomJMSco0gPGRcF0po\n",
       "yuXUU7nikpY1sFPsXAlr4LdOepCinDpggo472GJCvz1innYSPFpY0FbrM2twYGKrXTEyOwaA9atB\n",
       "Hr630KPENJ+kKCcW3KCF4ebiCPcPe2tbwrpZDpEaBLPzuOKpho/KfPrm8BaaexFTfDqK/1gmtLcO\n",
       "HzUHX5UZ3sTDmIPg3yL51X+S/AHKQRzeDFgiMQAAAABJRU5ErkJggg==\n",
       "\" style=\"display:inline;vertical-align:middle;\" /></a>"
      ],
      "text/plain": [
       "(omega, x) -> omega | omega in Reals , x in Reals"
      ]
     },
     "execution_count": 50,
     "metadata": {},
     "output_type": "execute_result"
    }
   ],
   "source": [
    "lambdaExpr.relabeled({x:omega, omega:x})"
   ]
  },
  {
   "cell_type": "markdown",
   "metadata": {},
   "source": [
    "<a name=\"Operation\"></a>Operation\n",
    "=========\n",
    "\n",
    "This type of **expression** represents an applied operation.  It contains *operator(s)* (one or more `Label`s and possibly `Iteration`s of `Indexed` `Label`s that will be discussed in the <a href=\"tutorial10_advanced_expr.ipynb#Iter\">Iter</a> section of the <a href=\"tutorial10_advanced_expr.ipynb\">advanced expressions</a> chapter) and *operand(s)* (one or more of any `Expression`).  The default formatting of an `Operation` with one *operator* and more than one *operand* is to place the *operator* between each successive pair of *operands* as follows."
   ]
  },
  {
   "cell_type": "code",
   "execution_count": 51,
   "metadata": {},
   "outputs": [
    {
     "data": {
      "text/html": [
       "<a class=\"ProveItLink\" href=\"__pv_it/f107855802d6bee2e3c44fae1062b54d2b57660b0/expr.ipynb\"><img src=\"data:image/png;base64,iVBORw0KGgoAAAANSUhEUgAAAFcAAAAOBAMAAACoZ51gAAAAMFBMVEX///+6uroyMjJERETMzMwQ\n",
       "EBAiIiKYmJju7u5mZmaqqqpUVFSIiIh2dnbc3NwAAAAWgogoAAAAAXRSTlMAQObYZgAAAQdJREFU\n",
       "KM9jYIADFSB+xIAMMEXenn518gCI8cyBgS8FxOidy8D3A0WE4QIQuy5g4LjAns6aABIAigNlQTLy\n",
       "DDwfUER4HgCJpxcYeIESXGARhmd+YGNYFkxjYDZAFgEqYmhg4Clg4GDgNoA6iC8NrImDIYaB/wCy\n",
       "CIMIA0cAAzuIzXoAVTED1w8GfwcUkQsMXBtAxjMwvHcA2oFsKacCw1EGFBGgygUMbxkY2B+cZ+Bp\n",
       "QPEO0wQGawYUERMGfwE+DQaG9QWmDG8YUAKKcwPjd1SRqyejY6YuYGBoPtt7pwA1CjhsTv5DFWn6\n",
       "5KGvyIAD8CYwEAu2MbQuIFpxLoMt0WoZ1pwUwC4BAGIpTiAtJKbsAAAAAElFTkSuQmCC\n",
       "\" style=\"display:inline;vertical-align:middle;\" /></a>"
      ],
      "text/plain": [
       "x * y * omega"
      ]
     },
     "execution_count": 51,
     "metadata": {},
     "output_type": "execute_result"
    }
   ],
   "source": [
    "from proveit import Operation\n",
    "Operation(TIMES, [x, y, omega])"
   ]
  },
  {
   "cell_type": "markdown",
   "metadata": {},
   "source": [
    "A `Function` is derived from `Operation`.  It behaves in the same manner except it formats it in a \"function\" style:"
   ]
  },
  {
   "cell_type": "code",
   "execution_count": 52,
   "metadata": {},
   "outputs": [
    {
     "data": {
      "text/html": [
       "<a class=\"ProveItLink\" href=\"__pv_it/0ee628b342190d38a98c6097747770817f67b5f60/expr.ipynb\"><img src=\"data:image/png;base64,iVBORw0KGgoAAAANSUhEUgAAACkAAAAVBAMAAAAp9toTAAAAMFBMVEX///8yMjLMzMwQEBAiIiJm\n",
       "Zma6urqYmJiqqqp2dnZERETc3NyIiIhUVFTu7u4AAAAe+HC4AAAAAXRSTlMAQObYZgAAAPpJREFU\n",
       "GNNjYCAAcqB0GYR6e3YDkGS6ABVlVQBTK/sLgCTjA5gmARDB9+0FiDoDN6oSRHB8ALPt4KKPweY4\n",
       "gEg2AbgoVwMDA/tl3wCQ3AQGBu45t3tiGBg4QXz+AyAFjEAbXzKUFJgAjQRp2w92CXMCA8MEhvMM\n",
       "TUDDDID8frBh/EDRBwy3QEwmkPVT4KIMDDZw0bVgUWagxQzcnxj4oCbYQJwDtK2a5wPDOaCrBEBe\n",
       "A4sCncPxncuA+wDEZWz/wKJsDgx8a+bNPA5yJNAKHqinrJF9XAsyEB4mYDCHgcHwCZQND0k+oObK\n",
       "aCiHGxbqvBuQY2gPlD7EwAAAkqk1TOFGkRwAAAAASUVORK5CYII=\n",
       "\" style=\"display:inline;vertical-align:middle;\" /></a>"
      ],
      "text/plain": [
       "f(x)"
      ]
     },
     "execution_count": 52,
     "metadata": {},
     "output_type": "execute_result"
    }
   ],
   "source": [
    "from proveit import Function\n",
    "\n",
    "# Simple case: a Variable operator with a single Variable operand\n",
    "f = Variable('f')\n",
    "fx = Function(f, x)\n",
    "fx # f(x)"
   ]
  },
  {
   "cell_type": "markdown",
   "metadata": {},
   "source": [
    "Common forms of these are available from <a class=\"ProveItLink\" href=\"../packages/proveit/_common_.ipynb\">proveit.common</a>:"
   ]
  },
  {
   "cell_type": "code",
   "execution_count": 53,
   "metadata": {},
   "outputs": [
    {
     "data": {
      "text/html": [
       "<a class=\"ProveItLink\" href=\"__pv_it/7b8a64a84c83d0e0992dddb4e4f76fb5a9c572f00/expr.ipynb\"><img src=\"data:image/png;base64,iVBORw0KGgoAAAANSUhEUgAAAOcAAAAVBAMAAABPgOQBAAAAMFBMVEX////c3NwiIiJERESqqqqY\n",
       "mJh2dnZmZmYQEBDu7u4yMjJUVFTMzMyIiIi6uroAAAAs73DqAAAAAXRSTlMAQObYZgAAA0tJREFU\n",
       "SMfFVk1oE1EQnphNuptmkxykl1LMQe8KlvagGPAmSquCgoqNUlpEAkWxJ6W16EFEDQhFemlBBAsi\n",
       "aT0ISknwVPDQXKz4E1o9aUVMbarE1taZefve7kuy0JsL2Z193/e+mcybN28B/ssVK9bbocV63nfn\n",
       "ebahytZQ0mXGa7pZM1PKputq3bxozjGaCmrMzq+9nJ7yQwFaBi8WNZR0mTFJL8HeVZA2XZE6p5Gs\n",
       "tCbcwTjanQk/NPwEYDqroRHBsDmW8a8pkDbnIV3rtKSsE+7gHNK60j6o9RBvZk5DSRcZJkfRxUOm\n",
       "isgarnV6S1kP3MEFXKOeAR80kqR0VzWUdJGxxC+X+L7kyu2tLTc3bcGUMg/gL5/yQYdo8cIbGkq6\n",
       "yBgk8/TIc3qQ3fJh+1vMcr+inZw/ThFjXgKZqSPXUGdAYX8w9hUfNLDC61oRqEcXGY+Y8ZfvaFvp\n",
       "0C4T83JI6jblAr8pV90Ao3CsewTAUIFHfwG8GvBBm7g0g+sC9egi4y5Htc48tMNglw3Myxcp3JOF\n",
       "Ci03rl4aFuAwZkutt73W138OfNBtVa7vYYF6dJGxQZBRZh7aFjTv5rqUwrchukyTcWIWnvH/K6v1\n",
       "q8qt0wCNs3eqbUI9ushgp+GkdIpxFb1OjQrYSUcW4I7uNJ70OK1FBfg4K1Gli4wbHLJoGWzvKGDQ\n",
       "Kr32MgRp1cyUWAXLm945WTSN0Ah5N9Yl6uoio92NguxQYgFsBE/RpqLdXIY4zQliMRy1y/AOh6hU\n",
       "snKbijw3QI2NQKkwu+igHl1k8N4YF7PR7uruhDZhwjgmyKpCnvoc1rmxGhwOFMWmsH7yNpXNpCF6\n",
       "fhR69zioVxdfP9PwDzEb7fvzoxkMDJ5Sc6EK+lbixhFLgrX/Qt8byhvVxb0EWJc3Z2TrqEdx8EVm\n",
       "J0QF6tVFhkn4e2dpEnob/MR2B9+v640ultAalg+6D87oqNMGsQWHcu21bT7Mi4yhxcCq1DTyDFP1\n",
       "LumDdogO6KKkm+HjzJyUpa+OtjFwnA4lmnP60WZNNHDqg+Y3F/VjccxhtEKoX+aqVYJ8Mtv4O1i6\n",
       "4rRSeRA3M7moO/VBZ2/qKOkyI+CZL227UP/J0eY8Pzb8INkaSrrI+AfS/BIHYzxYNAAAAABJRU5E\n",
       "rkJggg==\n",
       "\" style=\"display:inline;vertical-align:middle;\" /></a>"
      ],
      "text/plain": [
       "(f(x) , g(x) , P(x) , Q(x))"
      ]
     },
     "execution_count": 53,
     "metadata": {},
     "output_type": "execute_result"
    }
   ],
   "source": [
    "from proveit._common_ import fx, gx, Px, Qx\n",
    "ExprTuple(fx, gx, Px, Qx)"
   ]
  },
  {
   "cell_type": "markdown",
   "metadata": {},
   "source": [
    "Let's derive a couple of classes from `Operation` to represent operations with specific literal operators.\n",
    "This is commonly done within Prove-It library modules.  We use the `%load` magic command to display (and execute) the contents of <a href=\"demo_operations.py\">demo_operations.py</a>."
   ]
  },
  {
   "cell_type": "code",
   "execution_count": 54,
   "metadata": {},
   "outputs": [],
   "source": [
    "# %load demo_operations.py\n",
    "'''\n",
    "Module that defines a Factorial Operation purely for purposes of a\n",
    "tutorial.\n",
    "'''\n",
    "\n",
    "from proveit import Operation, Literal\n",
    "\n",
    "class Factorial(Operation):\n",
    "    # _operator_ is a special class variable name, defining specific literal operator of the Operation class.\n",
    "    # It is not only used for default formatting but also when performing substitutions for rebuilding expressions.\n",
    "    _operator_ = Literal('!')\n",
    "    \n",
    "    def __init__(self, operand):\n",
    "        # creates the Operation with FACTORIAL as the operator and the provided operand as its only operand.\n",
    "        Operation.__init__(self, Factorial._operator_, operand) # initializes self.operand\n",
    "\n",
    "    def string(self, **kwargs): # should accept kwargs even when not used (e.g., 'fence')\n",
    "        # the operand should be fenced (wrapped in parentheses) to prevent ambiguity\n",
    "        return self.operand.string(fence=True) + Factorial._operator_.string()\n",
    "    \n",
    "    def latex(self, **kwargs): # should accept kwargs even when not used (e.g., 'fence')\n",
    "        # the operand should be fenced (wrapped in parentheses) to prevent ambiguity\n",
    "        return self.operand.latex(fence=True) + Factorial._operator_.latex() \n",
    "\n",
    "class Multiply(Operation):\n",
    "    \n",
    "    # This operator Literal has a LaTeX format that differs from the string format.\n",
    "    _operator_ = Literal('*', r'\\times')\n",
    "    \n",
    "    def __init__(self, *operands): # takes a list of arguments as the operands\n",
    "        # creates the AssociativeOperation with TIMES as the operator and any number of operands.\n",
    "        Operation.__init__(self, Multiply._operator_, operands)\n",
    "    \n",
    "    # The default formatting will display the operator between the operands\n"
   ]
  },
  {
   "cell_type": "markdown",
   "metadata": {},
   "source": [
    "In order to work properly, however, we need to import these classes from the module (as Prove-It will use the `__file__` attribute of this module for its internal purposes)."
   ]
  },
  {
   "cell_type": "code",
   "execution_count": 55,
   "metadata": {},
   "outputs": [],
   "source": [
    "from demo_operations import Factorial, Multiply"
   ]
  },
  {
   "cell_type": "markdown",
   "metadata": {},
   "source": [
    "A `Factorial` is an `Operation` with \"!\" as the format of the `Literal` operator.  Its formatting is altered from the default but is still true to the core `Expression` structure (the formatting is a reflection of the internal structure)."
   ]
  },
  {
   "cell_type": "code",
   "execution_count": 56,
   "metadata": {},
   "outputs": [
    {
     "data": {
      "text/html": [
       "<strong id=\"xFactorial\">xFactorial:</strong> <a class=\"ProveItLink\" href=\"__pv_it/f298b6802ab61432aea8682a150b9f30732ed7760/expr.ipynb\"><img src=\"data:image/png;base64,iVBORw0KGgoAAAANSUhEUgAAABAAAAAOBAMAAADUAYG5AAAALVBMVEX///8yMjJERETMzMwQEBAi\n",
       "IiKYmJju7u5mZmaqqqpUVFSIiIh2dnbc3NwAAAASYyFDAAAAAXRSTlMAQObYZgAAAGZJREFUCNdj\n",
       "YAADdicIzcD7DspgfwplMDyEMbwYGO7surljA0MEA/sBtjCWAAYdBh4G7gecBgzLGNgZuBSAak4C\n",
       "McsGILEZiO8ZMBQwmDOwXdjHwF0A5M9LUGG4DTK5aE/N6QSgpQBu6hcw6Hx/hgAAAABJRU5ErkJg\n",
       "gg==\n",
       "\" style=\"display:inline;vertical-align:middle;\" /></a><br>"
      ],
      "text/plain": [
       "xFactorial: x!"
      ]
     },
     "execution_count": 56,
     "metadata": {},
     "output_type": "execute_result"
    }
   ],
   "source": [
    "# Now we can make an object with this new class\n",
    "xFactorial = Factorial(x)"
   ]
  },
  {
   "cell_type": "code",
   "execution_count": 57,
   "metadata": {},
   "outputs": [
    {
     "data": {
      "text/html": [
       "<table><tr><th>&nbsp;</th><th>core type</th><th>sub-expressions</th><th>expression</th></tr>\n",
       "<tr><td>0</td><td>Operation</td><td>operator:&nbsp;1<br>operand:&nbsp;2<br></td><td><a class=\"ProveItLink\" href=\"__pv_it/f298b6802ab61432aea8682a150b9f30732ed7760/expr.ipynb\"><img src=\"data:image/png;base64,iVBORw0KGgoAAAANSUhEUgAAABAAAAAOBAMAAADUAYG5AAAALVBMVEX///8yMjJERETMzMwQEBAi\n",
       "IiKYmJju7u5mZmaqqqpUVFSIiIh2dnbc3NwAAAASYyFDAAAAAXRSTlMAQObYZgAAAGZJREFUCNdj\n",
       "YAADdicIzcD7DspgfwplMDyEMbwYGO7surljA0MEA/sBtjCWAAYdBh4G7gecBgzLGNgZuBSAak4C\n",
       "McsGILEZiO8ZMBQwmDOwXdjHwF0A5M9LUGG4DTK5aE/N6QSgpQBu6hcw6Hx/hgAAAABJRU5ErkJg\n",
       "gg==\n",
       "\" style=\"display:inline;vertical-align:middle;\" /></a></td></tr>\n",
       "<tr><td>1</td><td>Literal</td><td></td><td><a class=\"ProveItLink\" href=\"__pv_it/d6af88116966bca28fcbee5fe103a74f1e8a81d50/expr.ipynb\"><img src=\"data:image/png;base64,iVBORw0KGgoAAAANSUhEUgAAAAMAAAAOBAMAAAAYmLtSAAAALVBMVEX////MzMyIiIiqqqqYmJh2\n",
       "dnZmZmZUVFQyMjIiIiLc3NxEREQQEBDu7u4AAACiA/ybAAAAAXRSTlMAQObYZgAAADBJREFUCNdj\n",
       "uLOBYd0DhnsTGPgaGHgKGDgTGLgDGNgdGFgNGJgEGBgvMAABUPbOBgD2TQqw6cTpzgAAAABJRU5E\n",
       "rkJggg==\n",
       "\" style=\"display:inline;vertical-align:middle;\" /></a></td></tr>\n",
       "<tr><td>2</td><td>Variable</td><td></td><td><a class=\"ProveItLink\" href=\"../packages/proveit/__pv_it/530be409e3083890784cf1d7b28c9e67e90af9360/expr.ipynb\"><img src=\"data:image/png;base64,iVBORw0KGgoAAAANSUhEUgAAAAsAAAAJBAMAAAAWSsseAAAAKlBMVEX///9ERETMzMwQEBAiIiKY\n",
       "mJju7u5mZmaqqqpUVFSIiIh2dnbc3NwAAAA/vyDhAAAAAXRSTlMAQObYZgAAAENJREFUCNdjYDi9\n",
       "8sTyBQxsG1hdmR0YuBm4LnAoMLAxcAowgADzAjB1VoEhgYH1wFoGrgSG3gBhhlMMDImrs3cFMAAA\n",
       "t0YN+iTRa+sAAAAASUVORK5CYII=\n",
       "\" style=\"display:inline;vertical-align:middle;\" /></a></td></tr>\n",
       "</table>\n"
      ],
      "text/plain": [
       "0. x!\n",
       "   core type: Operation\n",
       "   operator: 1\n",
       "   operand: 2\n",
       "1. !\n",
       "   core type: Literal\n",
       "   sub-expressions: \n",
       "2. x\n",
       "   core type: Variable\n",
       "   sub-expressions: "
      ]
     },
     "execution_count": 57,
     "metadata": {},
     "output_type": "execute_result"
    }
   ],
   "source": [
    "# show core structure\n",
    "xFactorial.exprInfo()"
   ]
  },
  {
   "cell_type": "markdown",
   "metadata": {},
   "source": [
    "In the Jupyter notebook setting, we typically only use LaTeX formatting, but it is important to define the string formatting as well for whenever it is needed (e.g., when error messages are displayed).  The `fence=True` above indicates that parentheses should be used when it could be ambiguous otherwise.  Our example above has no ambiguity, so parentheses are not used.  We will show a case below where the parentheses are required."
   ]
  },
  {
   "cell_type": "markdown",
   "metadata": {},
   "source": [
    "Next we consider a multiple *operand* example using the `Multiply` class that we imported from <a href=\"demo_operations.py\">demo_operations.py</a> above."
   ]
  },
  {
   "cell_type": "code",
   "execution_count": 58,
   "metadata": {},
   "outputs": [
    {
     "data": {
      "text/html": [
       "<strong id=\"multExpr\">multExpr:</strong> <a class=\"ProveItLink\" href=\"__pv_it/39dcf270b64d65a7b0f8dfcc8ac8fe099a141acb0/expr.ipynb\"><img src=\"data:image/png;base64,iVBORw0KGgoAAAANSUhEUgAAAFYAAAAOBAMAAABHpfZeAAAAMFBMVEX///+6uroyMjJERETMzMwQ\n",
       "EBAiIiKYmJju7u5mZmaqqqpUVFSIiIh2dnbc3NwAAAAWgogoAAAAAXRSTlMAQObYZgAAAPVJREFU\n",
       "KM9jYMAC1BveLmAgEsT//0usUgbNvQ5Eq91AUIUKED9CUYsQgYK3p1+dPABiPHNg4EsBC+05s5EB\n",
       "RYQXiFmiGDgusKezJoAEgMLPIO60YOgXQBE5B+LEArXwfOCCKHnmlwKzjDsAReQCAwcDw3EgwW0A\n",
       "VcCXBvc+7xdkEUYHhlYGhhIgi/UAmlrmBAbej8giQOeuBhnOwPDegaEBxUag8zn/IYtwMzDcYuC7\n",
       "wMD+4DwDTwOKTzgZGJgUkEWYHVg+MjxqYFhfYMrwBjWE+CYwLH2ALMIbM3XrySgGhuazvXcK0ELe\n",
       "c/Y+FBEOfZWmTwIMAHt6TOm5ikbeAAAAAElFTkSuQmCC\n",
       "\" style=\"display:inline;vertical-align:middle;\" /></a><br>"
      ],
      "text/plain": [
       "multExpr: x * 5 * omega"
      ]
     },
     "execution_count": 58,
     "metadata": {},
     "output_type": "execute_result"
    }
   ],
   "source": [
    "# Demonstrating an Operation with multiple operands\n",
    "multExpr = Multiply(x, FIVE, omega)"
   ]
  },
  {
   "cell_type": "code",
   "execution_count": 59,
   "metadata": {},
   "outputs": [
    {
     "data": {
      "text/html": [
       "<strong id=\"nestedOperation\">nestedOperation:</strong> <a class=\"ProveItLink\" href=\"__pv_it/3be8bf6adf5676835058983839089d37ac50da220/expr.ipynb\"><img src=\"data:image/png;base64,iVBORw0KGgoAAAANSUhEUgAAAGkAAAAVBAMAAAC3TN2zAAAAMFBMVEX////c3NwiIiJERESqqqqY\n",
       "mJh2dnZmZmYQEBDu7u4yMjJUVFTMzMyIiIi6uroAAAAs73DqAAAAAXRSTlMAQObYZgAAAZNJREFU\n",
       "OMudlD9Iw0AUxr8zNk2atpYODnWwOHdwcXAQOgpVqA5OIhlEcSh0EkGEIsWtmkmKS7MUKRRsEcRF\n",
       "iZODSx2KCIrF0akOOkipvkuiJiUO8eDucr93X+79uQT4X4u2/OxesecbT2tVG0178aABlCeBmqfq\n",
       "4PPd+zAdGO8i4u3g8ZnhrVoCKklImqex8VdgZWBEx4sT1aknXKpfYjchDamBTXpiueb8DkdxAyxl\n",
       "Gi8eL+EiIvVwkeY8hvKo0uoQi9ldbqINcSueaVQ6LnLLF3vAsA5BxT6tVDxhznr1VerbFaXgIipk\n",
       "oE3lLUDJok9Ew6m9lU38pE7sOUnU4HlYJi+7ENOmCigNqIQkxL6TUFgZfiBXRQwUTVOPn+/wR0oi\n",
       "+OokCrAKppoehjVMEVqIdHHvij0IhHQnEYxwHwmqbcDE65SWN6HAWq48szxmY04ilrbO77hflHm6\n",
       "G8+APLOx1h6o6fV200Xkk/rRB69FqMNvrxTz92GVzTGg+lPlrKnmSyTr1jzmS6XYATFff4AHc/wC\n",
       "HphkT5B69/UAAAAASUVORK5CYII=\n",
       "\" style=\"display:inline;vertical-align:middle;\" /></a><br>"
      ],
      "text/plain": [
       "nestedOperation: (x * 5 * omega)!"
      ]
     },
     "execution_count": 59,
     "metadata": {},
     "output_type": "execute_result"
    }
   ],
   "source": [
    "# Let's nest Operations and show proper fencing behavior\n",
    "nestedOperation = Factorial(multExpr)"
   ]
  },
  {
   "cell_type": "code",
   "execution_count": 60,
   "metadata": {},
   "outputs": [
    {
     "data": {
      "text/html": [
       "<table><tr><th>&nbsp;</th><th>core type</th><th>sub-expressions</th><th>expression</th></tr>\n",
       "<tr><td>0</td><td>Operation</td><td>operator:&nbsp;1<br>operand:&nbsp;2<br></td><td><a class=\"ProveItLink\" href=\"__pv_it/3be8bf6adf5676835058983839089d37ac50da220/expr.ipynb\"><img src=\"data:image/png;base64,iVBORw0KGgoAAAANSUhEUgAAAGkAAAAVBAMAAAC3TN2zAAAAMFBMVEX////c3NwiIiJERESqqqqY\n",
       "mJh2dnZmZmYQEBDu7u4yMjJUVFTMzMyIiIi6uroAAAAs73DqAAAAAXRSTlMAQObYZgAAAZNJREFU\n",
       "OMudlD9Iw0AUxr8zNk2atpYODnWwOHdwcXAQOgpVqA5OIhlEcSh0EkGEIsWtmkmKS7MUKRRsEcRF\n",
       "iZODSx2KCIrF0akOOkipvkuiJiUO8eDucr93X+79uQT4X4u2/OxesecbT2tVG0178aABlCeBmqfq\n",
       "4PPd+zAdGO8i4u3g8ZnhrVoCKklImqex8VdgZWBEx4sT1aknXKpfYjchDamBTXpiueb8DkdxAyxl\n",
       "Gi8eL+EiIvVwkeY8hvKo0uoQi9ldbqINcSueaVQ6LnLLF3vAsA5BxT6tVDxhznr1VerbFaXgIipk\n",
       "oE3lLUDJok9Ew6m9lU38pE7sOUnU4HlYJi+7ENOmCigNqIQkxL6TUFgZfiBXRQwUTVOPn+/wR0oi\n",
       "+OokCrAKppoehjVMEVqIdHHvij0IhHQnEYxwHwmqbcDE65SWN6HAWq48szxmY04ilrbO77hflHm6\n",
       "G8+APLOx1h6o6fV200Xkk/rRB69FqMNvrxTz92GVzTGg+lPlrKnmSyTr1jzmS6XYATFff4AHc/wC\n",
       "HphkT5B69/UAAAAASUVORK5CYII=\n",
       "\" style=\"display:inline;vertical-align:middle;\" /></a></td></tr>\n",
       "<tr><td>1</td><td>Literal</td><td></td><td><a class=\"ProveItLink\" href=\"__pv_it/d6af88116966bca28fcbee5fe103a74f1e8a81d50/expr.ipynb\"><img src=\"data:image/png;base64,iVBORw0KGgoAAAANSUhEUgAAAAMAAAAOBAMAAAAYmLtSAAAALVBMVEX////MzMyIiIiqqqqYmJh2\n",
       "dnZmZmZUVFQyMjIiIiLc3NxEREQQEBDu7u4AAACiA/ybAAAAAXRSTlMAQObYZgAAADBJREFUCNdj\n",
       "uLOBYd0DhnsTGPgaGHgKGDgTGLgDGNgdGFgNGJgEGBgvMAABUPbOBgD2TQqw6cTpzgAAAABJRU5E\n",
       "rkJggg==\n",
       "\" style=\"display:inline;vertical-align:middle;\" /></a></td></tr>\n",
       "<tr><td>2</td><td>Operation</td><td>operator:&nbsp;3<br>operands:&nbsp;4<br></td><td><a class=\"ProveItLink\" href=\"__pv_it/39dcf270b64d65a7b0f8dfcc8ac8fe099a141acb0/expr.ipynb\"><img src=\"data:image/png;base64,iVBORw0KGgoAAAANSUhEUgAAAFYAAAAOBAMAAABHpfZeAAAAMFBMVEX///+6uroyMjJERETMzMwQ\n",
       "EBAiIiKYmJju7u5mZmaqqqpUVFSIiIh2dnbc3NwAAAAWgogoAAAAAXRSTlMAQObYZgAAAPVJREFU\n",
       "KM9jYMAC1BveLmAgEsT//0usUgbNvQ5Eq91AUIUKED9CUYsQgYK3p1+dPABiPHNg4EsBC+05s5EB\n",
       "RYQXiFmiGDgusKezJoAEgMLPIO60YOgXQBE5B+LEArXwfOCCKHnmlwKzjDsAReQCAwcDw3EgwW0A\n",
       "VcCXBvc+7xdkEUYHhlYGhhIgi/UAmlrmBAbej8giQOeuBhnOwPDegaEBxUag8zn/IYtwMzDcYuC7\n",
       "wMD+4DwDTwOKTzgZGJgUkEWYHVg+MjxqYFhfYMrwBjWE+CYwLH2ALMIbM3XrySgGhuazvXcK0ELe\n",
       "c/Y+FBEOfZWmTwIMAHt6TOm5ikbeAAAAAElFTkSuQmCC\n",
       "\" style=\"display:inline;vertical-align:middle;\" /></a></td></tr>\n",
       "<tr><td>3</td><td>Literal</td><td></td><td><a class=\"ProveItLink\" href=\"__pv_it/7fa9fd20fee7806a99050bf24ffcbd2251e9b7fe0/expr.ipynb\"><img src=\"data:image/png;base64,iVBORw0KGgoAAAANSUhEUgAAAAsAAAAKBAMAAACQ3rmwAAAAElBMVEX///8iIiLc3NzMzMwyMjIA\n",
       "AAASH0o5AAAAAXRSTlMAQObYZgAAACtJREFUCNdjcGZgYFBhYFA0YGASZgBhIAvINQJygFxBAyQK\n",
       "IghVAtUA0Q4AhEYDuQjrDycAAAAASUVORK5CYII=\n",
       "\" style=\"display:inline;vertical-align:middle;\" /></a></td></tr>\n",
       "<tr><td>4</td><td>ExprTuple</td><td>5, 6, 7</td><td><a class=\"ProveItLink\" href=\"__pv_it/96b715de406ac1217fe654696d37608ed7ec20da0/expr.ipynb\"><img src=\"data:image/png;base64,iVBORw0KGgoAAAANSUhEUgAAAEMAAAAVBAMAAADvM06qAAAAMFBMVEX////c3NwiIiJERESqqqqY\n",
       "mJh2dnZmZmYQEBDu7u4yMjJUVFTMzMyIiIi6uroAAAAs73DqAAAAAXRSTlMAQObYZgAAAV5JREFU\n",
       "KM9jYCAC8F3AJxsHIk6jCC2dIOaAzGc/ACRWoijp//8N1ZgFDAy8qPYs33YAVUkYAwPHBBSRDeiO\n",
       "mcHA8IoBvxJmB4YyIMWYu9G3FiKy9+4+CIMNiHlagHQBw1IgcxpDUEATRMaSYf4DMOMiSGsbAwPL\n",
       "AoY+IDOB4T6DD8xk7gYwlcDAycBwFRhsDQz/gNwJDJsRlrP9AQfoAZBDY4CWfQArYWDohTlOgYHt\n",
       "H9Qp3iCjQEpaQAKMf0DGAgGHAgP7R7B1DAwpDIwJYItMgfxA3g8MN8GK2BkYuBYALWZgPsDzj0EK\n",
       "yGBdwJAOdPRX5gbGCwzzFYDGFTB4CHB+AlrUW7HjOsgGoKcfMTBw2mamAd0+A2TD8eqNDJz9Agyc\n",
       "69fM+gXyPtcDBg4BuF8ewtOHAEoEsCbAeQEwBitSBOSiJAZsSjiBiYFBGsbjhYsjpQ9ukJ2MeBPm\n",
       "HQYGAH6CUF6urHX7AAAAAElFTkSuQmCC\n",
       "\" style=\"display:inline;vertical-align:middle;\" /></a></td></tr>\n",
       "<tr><td>5</td><td>Variable</td><td></td><td><a class=\"ProveItLink\" href=\"../packages/proveit/__pv_it/530be409e3083890784cf1d7b28c9e67e90af9360/expr.ipynb\"><img src=\"data:image/png;base64,iVBORw0KGgoAAAANSUhEUgAAAAsAAAAJBAMAAAAWSsseAAAAKlBMVEX///9ERETMzMwQEBAiIiKY\n",
       "mJju7u5mZmaqqqpUVFSIiIh2dnbc3NwAAAA/vyDhAAAAAXRSTlMAQObYZgAAAENJREFUCNdjYDi9\n",
       "8sTyBQxsG1hdmR0YuBm4LnAoMLAxcAowgADzAjB1VoEhgYH1wFoGrgSG3gBhhlMMDImrs3cFMAAA\n",
       "t0YN+iTRa+sAAAAASUVORK5CYII=\n",
       "\" style=\"display:inline;vertical-align:middle;\" /></a></td></tr>\n",
       "<tr><td>6</td><td>Literal</td><td></td><td><a class=\"ProveItLink\" href=\"__pv_it/084027c5e7faf3e99fe505f569d22a93a32e5b730/expr.ipynb\"><img src=\"data:image/png;base64,iVBORw0KGgoAAAANSUhEUgAAAAkAAAAOBAMAAAAPuiubAAAAMFBMVEX///8iIiJERES6urqIiIjM\n",
       "zMxUVFRmZmYQEBCqqqp2dnbc3Nzu7u6YmJgyMjIAAADYGhJvAAAAAXRSTlMAQObYZgAAAE1JREFU\n",
       "CNdj4LvDvZKBgeP//wUMDHxlSxkYGNgYGBCki5sBAwPTAZ7PYG4GmFwfwKAIJA0YGhkY6jcwFDAw\n",
       "vGNg2M7A2c3AwFqetoEBAKS8EE1WXEJLAAAAAElFTkSuQmCC\n",
       "\" style=\"display:inline;vertical-align:middle;\" /></a></td></tr>\n",
       "<tr><td>7</td><td>Variable</td><td></td><td><a class=\"ProveItLink\" href=\"__pv_it/9d7c4e1c5ee4d34a7826567c9ff37cf313ab71e60/expr.ipynb\"><img src=\"data:image/png;base64,iVBORw0KGgoAAAANSUhEUgAAAA0AAAAJBAMAAAAbVLtZAAAALVBMVEX///9mZmYyMjJERERUVFS6\n",
       "urqYmJju7u7c3NyIiIiqqqoQEBDMzMx2dnYAAACcB6guAAAAAXRSTlMAQObYZgAAAExJREFUCNdj\n",
       "YLjAwMBwegEDZwOQ7r7AwMvAUMDAmcAQw8C+gYHtAFCaywEkCCQWMPQyMNgwnAvgUGdguD1xy07p\n",
       "BQwMRY+O66kyMAAAM0ARC3HE760AAAAASUVORK5CYII=\n",
       "\" style=\"display:inline;vertical-align:middle;\" /></a></td></tr>\n",
       "</table>\n"
      ],
      "text/plain": [
       "0. (x * 5 * omega)!\n",
       "   core type: Operation\n",
       "   operator: 1\n",
       "   operand: 2\n",
       "1. !\n",
       "   core type: Literal\n",
       "   sub-expressions: \n",
       "2. x * 5 * omega\n",
       "   core type: Operation\n",
       "   operator: 3\n",
       "   operands: 4\n",
       "3. *\n",
       "   core type: Literal\n",
       "   sub-expressions: \n",
       "4. (x , 5 , omega)\n",
       "   core type: ExprTuple\n",
       "   sub-expressions: 5, 6, 7\n",
       "5. x\n",
       "   core type: Variable\n",
       "   sub-expressions: \n",
       "6. 5\n",
       "   core type: Literal\n",
       "   sub-expressions: \n",
       "7. omega\n",
       "   core type: Variable\n",
       "   sub-expressions: "
      ]
     },
     "execution_count": 60,
     "metadata": {},
     "output_type": "execute_result"
    }
   ],
   "source": [
    "nestedOperation.exprInfo()"
   ]
  },
  {
   "cell_type": "markdown",
   "metadata": {},
   "source": [
    "### Operand substitution/relabeling\n",
    "\n",
    "*Substitution* and *relabeling* of *operands* is straightforward in the way it works."
   ]
  },
  {
   "cell_type": "code",
   "execution_count": 61,
   "metadata": {},
   "outputs": [
    {
     "data": {
      "text/html": [
       "<a class=\"ProveItLink\" href=\"__pv_it/17856ef61df51dccbc9c97ee8f8f57a7620651070/expr.ipynb\"><img src=\"data:image/png;base64,iVBORw0KGgoAAAANSUhEUgAAABIAAAAOBAMAAADQ9FGEAAAAMFBMVEX///8iIiJmZmYyMjJERERU\n",
       "VFS6urqYmJju7u7c3NyIiIiqqqoQEBDMzMx2dnYAAACMQNsoAAAAAXRSTlMAQObYZgAAAG1JREFU\n",
       "CNdjYIAAjiNQBgPnfxiL4yOMxfAZzjrKwPAASN3ZwCDEwDUByJrzgMGPgY+BoYGBq4AhnCGXgeMA\n",
       "A/sFhtdAZdwBIIm1DEBqA8M8BoYbDL4M9xM4LUDmvFl09JTOBpAdzZ9v2JuBXAAAt+wchvePqAsA\n",
       "AAAASUVORK5CYII=\n",
       "\" style=\"display:inline;vertical-align:middle;\" /></a>"
      ],
      "text/plain": [
       "omega!"
      ]
     },
     "execution_count": 61,
     "metadata": {},
     "output_type": "execute_result"
    }
   ],
   "source": [
    "xFactorial.relabeled({x:omega})"
   ]
  },
  {
   "cell_type": "markdown",
   "metadata": {},
   "source": [
    "Notice that the relabeled() method is non-mutating, leaving the **xFactorial** expression as it was originally defined:"
   ]
  },
  {
   "cell_type": "code",
   "execution_count": 62,
   "metadata": {},
   "outputs": [
    {
     "data": {
      "text/html": [
       "<a class=\"ProveItLink\" href=\"__pv_it/f298b6802ab61432aea8682a150b9f30732ed7760/expr.ipynb\"><img src=\"data:image/png;base64,iVBORw0KGgoAAAANSUhEUgAAABAAAAAOBAMAAADUAYG5AAAALVBMVEX///8yMjJERETMzMwQEBAi\n",
       "IiKYmJju7u5mZmaqqqpUVFSIiIh2dnbc3NwAAAASYyFDAAAAAXRSTlMAQObYZgAAAGZJREFUCNdj\n",
       "YAADdicIzcD7DspgfwplMDyEMbwYGO7surljA0MEA/sBtjCWAAYdBh4G7gecBgzLGNgZuBSAak4C\n",
       "McsGILEZiO8ZMBQwmDOwXdjHwF0A5M9LUGG4DTK5aE/N6QSgpQBu6hcw6Hx/hgAAAABJRU5ErkJg\n",
       "gg==\n",
       "\" style=\"display:inline;vertical-align:middle;\" /></a>"
      ],
      "text/plain": [
       "x!"
      ]
     },
     "execution_count": 62,
     "metadata": {},
     "output_type": "execute_result"
    }
   ],
   "source": [
    "xFactorial"
   ]
  },
  {
   "cell_type": "markdown",
   "metadata": {},
   "source": [
    "We can also substitute an entire expression in for the variable $x$:"
   ]
  },
  {
   "cell_type": "code",
   "execution_count": 63,
   "metadata": {},
   "outputs": [
    {
     "data": {
      "text/html": [
       "<strong id=\"nestedOperationFromSub\">nestedOperationFromSub:</strong> <a class=\"ProveItLink\" href=\"__pv_it/3be8bf6adf5676835058983839089d37ac50da220/expr.ipynb\"><img src=\"data:image/png;base64,iVBORw0KGgoAAAANSUhEUgAAAGkAAAAVBAMAAAC3TN2zAAAAMFBMVEX////c3NwiIiJERESqqqqY\n",
       "mJh2dnZmZmYQEBDu7u4yMjJUVFTMzMyIiIi6uroAAAAs73DqAAAAAXRSTlMAQObYZgAAAZNJREFU\n",
       "OMudlD9Iw0AUxr8zNk2atpYODnWwOHdwcXAQOgpVqA5OIhlEcSh0EkGEIsWtmkmKS7MUKRRsEcRF\n",
       "iZODSx2KCIrF0akOOkipvkuiJiUO8eDucr93X+79uQT4X4u2/OxesecbT2tVG0178aABlCeBmqfq\n",
       "4PPd+zAdGO8i4u3g8ZnhrVoCKklImqex8VdgZWBEx4sT1aknXKpfYjchDamBTXpiueb8DkdxAyxl\n",
       "Gi8eL+EiIvVwkeY8hvKo0uoQi9ldbqINcSueaVQ6LnLLF3vAsA5BxT6tVDxhznr1VerbFaXgIipk\n",
       "oE3lLUDJok9Ew6m9lU38pE7sOUnU4HlYJi+7ENOmCigNqIQkxL6TUFgZfiBXRQwUTVOPn+/wR0oi\n",
       "+OokCrAKppoehjVMEVqIdHHvij0IhHQnEYxwHwmqbcDE65SWN6HAWq48szxmY04ilrbO77hflHm6\n",
       "G8+APLOx1h6o6fV200Xkk/rRB69FqMNvrxTz92GVzTGg+lPlrKnmSyTr1jzmS6XYATFff4AHc/wC\n",
       "HphkT5B69/UAAAAASUVORK5CYII=\n",
       "\" style=\"display:inline;vertical-align:middle;\" /></a><br>"
      ],
      "text/plain": [
       "nestedOperationFromSub: (x * 5 * omega)!"
      ]
     },
     "execution_count": 63,
     "metadata": {},
     "output_type": "execute_result"
    }
   ],
   "source": [
    "nestedOperationFromSub = xFactorial.substituted({x:multExpr})"
   ]
  },
  {
   "cell_type": "markdown",
   "metadata": {},
   "source": [
    "Internally, however, there is specific machinery required to regenerate these objects and construct them with the proper classes.  In order for this machinery to work, the `_operator_` class attribute must be properly defined (e.g., `Factorial._operator_` and `Multiply._operator_`).  To demonstrate that this is working properly, note that the classes displayed in the detailed expression info from `exprInfo()` are as they should be:"
   ]
  },
  {
   "cell_type": "code",
   "execution_count": 64,
   "metadata": {},
   "outputs": [
    {
     "data": {
      "text/html": [
       "<table><tr><th>&nbsp;</th><th>core type</th><th>sub-expressions</th><th>expression</th></tr>\n",
       "<tr><td>0</td><td>Operation</td><td>operator:&nbsp;1<br>operand:&nbsp;2<br></td><td><a class=\"ProveItLink\" href=\"__pv_it/3be8bf6adf5676835058983839089d37ac50da220/expr.ipynb\"><img src=\"data:image/png;base64,iVBORw0KGgoAAAANSUhEUgAAAGkAAAAVBAMAAAC3TN2zAAAAMFBMVEX////c3NwiIiJERESqqqqY\n",
       "mJh2dnZmZmYQEBDu7u4yMjJUVFTMzMyIiIi6uroAAAAs73DqAAAAAXRSTlMAQObYZgAAAZNJREFU\n",
       "OMudlD9Iw0AUxr8zNk2atpYODnWwOHdwcXAQOgpVqA5OIhlEcSh0EkGEIsWtmkmKS7MUKRRsEcRF\n",
       "iZODSx2KCIrF0akOOkipvkuiJiUO8eDucr93X+79uQT4X4u2/OxesecbT2tVG0178aABlCeBmqfq\n",
       "4PPd+zAdGO8i4u3g8ZnhrVoCKklImqex8VdgZWBEx4sT1aknXKpfYjchDamBTXpiueb8DkdxAyxl\n",
       "Gi8eL+EiIvVwkeY8hvKo0uoQi9ldbqINcSueaVQ6LnLLF3vAsA5BxT6tVDxhznr1VerbFaXgIipk\n",
       "oE3lLUDJok9Ew6m9lU38pE7sOUnU4HlYJi+7ENOmCigNqIQkxL6TUFgZfiBXRQwUTVOPn+/wR0oi\n",
       "+OokCrAKppoehjVMEVqIdHHvij0IhHQnEYxwHwmqbcDE65SWN6HAWq48szxmY04ilrbO77hflHm6\n",
       "G8+APLOx1h6o6fV200Xkk/rRB69FqMNvrxTz92GVzTGg+lPlrKnmSyTr1jzmS6XYATFff4AHc/wC\n",
       "HphkT5B69/UAAAAASUVORK5CYII=\n",
       "\" style=\"display:inline;vertical-align:middle;\" /></a></td></tr>\n",
       "<tr><td colspan=4 style=\"text-align:left\"><strong>class:</strong> tutorial.demo_operations.Factorial</td></tr>\n",
       "<tr><td>1</td><td>Literal</td><td></td><td><a class=\"ProveItLink\" href=\"__pv_it/d6af88116966bca28fcbee5fe103a74f1e8a81d50/expr.ipynb\"><img src=\"data:image/png;base64,iVBORw0KGgoAAAANSUhEUgAAAAMAAAAOBAMAAAAYmLtSAAAALVBMVEX////MzMyIiIiqqqqYmJh2\n",
       "dnZmZmZUVFQyMjIiIiLc3NxEREQQEBDu7u4AAACiA/ybAAAAAXRSTlMAQObYZgAAADBJREFUCNdj\n",
       "uLOBYd0DhnsTGPgaGHgKGDgTGLgDGNgdGFgNGJgEGBgvMAABUPbOBgD2TQqw6cTpzgAAAABJRU5E\n",
       "rkJggg==\n",
       "\" style=\"display:inline;vertical-align:middle;\" /></a></td></tr>\n",
       "<tr><td colspan=4 style=\"text-align:left\"><strong>context:</strong> tutorial</td></tr>\n",
       "<tr><td>2</td><td>Operation</td><td>operator:&nbsp;3<br>operands:&nbsp;4<br></td><td><a class=\"ProveItLink\" href=\"__pv_it/39dcf270b64d65a7b0f8dfcc8ac8fe099a141acb0/expr.ipynb\"><img src=\"data:image/png;base64,iVBORw0KGgoAAAANSUhEUgAAAFYAAAAOBAMAAABHpfZeAAAAMFBMVEX///+6uroyMjJERETMzMwQ\n",
       "EBAiIiKYmJju7u5mZmaqqqpUVFSIiIh2dnbc3NwAAAAWgogoAAAAAXRSTlMAQObYZgAAAPVJREFU\n",
       "KM9jYMAC1BveLmAgEsT//0usUgbNvQ5Eq91AUIUKED9CUYsQgYK3p1+dPABiPHNg4EsBC+05s5EB\n",
       "RYQXiFmiGDgusKezJoAEgMLPIO60YOgXQBE5B+LEArXwfOCCKHnmlwKzjDsAReQCAwcDw3EgwW0A\n",
       "VcCXBvc+7xdkEUYHhlYGhhIgi/UAmlrmBAbej8giQOeuBhnOwPDegaEBxUag8zn/IYtwMzDcYuC7\n",
       "wMD+4DwDTwOKTzgZGJgUkEWYHVg+MjxqYFhfYMrwBjWE+CYwLH2ALMIbM3XrySgGhuazvXcK0ELe\n",
       "c/Y+FBEOfZWmTwIMAHt6TOm5ikbeAAAAAElFTkSuQmCC\n",
       "\" style=\"display:inline;vertical-align:middle;\" /></a></td></tr>\n",
       "<tr><td colspan=4 style=\"text-align:left\"><strong>class:</strong> tutorial.demo_operations.Multiply</td></tr>\n",
       "<tr><td>3</td><td>Literal</td><td></td><td><a class=\"ProveItLink\" href=\"__pv_it/7fa9fd20fee7806a99050bf24ffcbd2251e9b7fe0/expr.ipynb\"><img src=\"data:image/png;base64,iVBORw0KGgoAAAANSUhEUgAAAAsAAAAKBAMAAACQ3rmwAAAAElBMVEX///8iIiLc3NzMzMwyMjIA\n",
       "AAASH0o5AAAAAXRSTlMAQObYZgAAACtJREFUCNdjcGZgYFBhYFA0YGASZgBhIAvINQJygFxBAyQK\n",
       "IghVAtUA0Q4AhEYDuQjrDycAAAAASUVORK5CYII=\n",
       "\" style=\"display:inline;vertical-align:middle;\" /></a></td></tr>\n",
       "<tr><td colspan=4 style=\"text-align:left\"><strong>context:</strong> tutorial</td></tr>\n",
       "<tr><td>4</td><td>ExprTuple</td><td>5, 6, 7</td><td><a class=\"ProveItLink\" href=\"__pv_it/96b715de406ac1217fe654696d37608ed7ec20da0/expr.ipynb\"><img src=\"data:image/png;base64,iVBORw0KGgoAAAANSUhEUgAAAEMAAAAVBAMAAADvM06qAAAAMFBMVEX////c3NwiIiJERESqqqqY\n",
       "mJh2dnZmZmYQEBDu7u4yMjJUVFTMzMyIiIi6uroAAAAs73DqAAAAAXRSTlMAQObYZgAAAV5JREFU\n",
       "KM9jYCAC8F3AJxsHIk6jCC2dIOaAzGc/ACRWoijp//8N1ZgFDAy8qPYs33YAVUkYAwPHBBSRDeiO\n",
       "mcHA8IoBvxJmB4YyIMWYu9G3FiKy9+4+CIMNiHlagHQBw1IgcxpDUEATRMaSYf4DMOMiSGsbAwPL\n",
       "AoY+IDOB4T6DD8xk7gYwlcDAycBwFRhsDQz/gNwJDJsRlrP9AQfoAZBDY4CWfQArYWDohTlOgYHt\n",
       "H9Qp3iCjQEpaQAKMf0DGAgGHAgP7R7B1DAwpDIwJYItMgfxA3g8MN8GK2BkYuBYALWZgPsDzj0EK\n",
       "yGBdwJAOdPRX5gbGCwzzFYDGFTB4CHB+AlrUW7HjOsgGoKcfMTBw2mamAd0+A2TD8eqNDJz9Agyc\n",
       "69fM+gXyPtcDBg4BuF8ewtOHAEoEsCbAeQEwBitSBOSiJAZsSjiBiYFBGsbjhYsjpQ9ukJ2MeBPm\n",
       "HQYGAH6CUF6urHX7AAAAAElFTkSuQmCC\n",
       "\" style=\"display:inline;vertical-align:middle;\" /></a></td></tr>\n",
       "<tr><td>5</td><td>Variable</td><td></td><td><a class=\"ProveItLink\" href=\"../packages/proveit/__pv_it/530be409e3083890784cf1d7b28c9e67e90af9360/expr.ipynb\"><img src=\"data:image/png;base64,iVBORw0KGgoAAAANSUhEUgAAAAsAAAAJBAMAAAAWSsseAAAAKlBMVEX///9ERETMzMwQEBAiIiKY\n",
       "mJju7u5mZmaqqqpUVFSIiIh2dnbc3NwAAAA/vyDhAAAAAXRSTlMAQObYZgAAAENJREFUCNdjYDi9\n",
       "8sTyBQxsG1hdmR0YuBm4LnAoMLAxcAowgADzAjB1VoEhgYH1wFoGrgSG3gBhhlMMDImrs3cFMAAA\n",
       "t0YN+iTRa+sAAAAASUVORK5CYII=\n",
       "\" style=\"display:inline;vertical-align:middle;\" /></a></td></tr>\n",
       "<tr><td>6</td><td>Literal</td><td></td><td><a class=\"ProveItLink\" href=\"__pv_it/084027c5e7faf3e99fe505f569d22a93a32e5b730/expr.ipynb\"><img src=\"data:image/png;base64,iVBORw0KGgoAAAANSUhEUgAAAAkAAAAOBAMAAAAPuiubAAAAMFBMVEX///8iIiJERES6urqIiIjM\n",
       "zMxUVFRmZmYQEBCqqqp2dnbc3Nzu7u6YmJgyMjIAAADYGhJvAAAAAXRSTlMAQObYZgAAAE1JREFU\n",
       "CNdj4LvDvZKBgeP//wUMDHxlSxkYGNgYGBCki5sBAwPTAZ7PYG4GmFwfwKAIJA0YGhkY6jcwFDAw\n",
       "vGNg2M7A2c3AwFqetoEBAKS8EE1WXEJLAAAAAElFTkSuQmCC\n",
       "\" style=\"display:inline;vertical-align:middle;\" /></a></td></tr>\n",
       "<tr><td colspan=4 style=\"text-align:left\"><strong>context:</strong> tutorial</td></tr>\n",
       "<tr><td>7</td><td>Variable</td><td></td><td><a class=\"ProveItLink\" href=\"__pv_it/9d7c4e1c5ee4d34a7826567c9ff37cf313ab71e60/expr.ipynb\"><img src=\"data:image/png;base64,iVBORw0KGgoAAAANSUhEUgAAAA0AAAAJBAMAAAAbVLtZAAAALVBMVEX///9mZmYyMjJERERUVFS6\n",
       "urqYmJju7u7c3NyIiIiqqqoQEBDMzMx2dnYAAACcB6guAAAAAXRSTlMAQObYZgAAAExJREFUCNdj\n",
       "YLjAwMBwegEDZwOQ7r7AwMvAUMDAmcAQw8C+gYHtAFCaywEkCCQWMPQyMNgwnAvgUGdguD1xy07p\n",
       "BQwMRY+O66kyMAAAM0ARC3HE760AAAAASUVORK5CYII=\n",
       "\" style=\"display:inline;vertical-align:middle;\" /></a></td></tr>\n",
       "</table>\n"
      ],
      "text/plain": [
       "0. (x * 5 * omega)!\n",
       "   core type: Operation\n",
       "   class: <class 'demo_operations.Factorial'>\n",
       "   operator: 1\n",
       "   operand: 2\n",
       "1. !\n",
       "   core type: Literal\n",
       "   latexFormat: !\n",
       "   context: tutorial\n",
       "   class: <class 'proveit._core_.expression.label.literal.Literal'>\n",
       "   sub-expressions: \n",
       "2. x * 5 * omega\n",
       "   core type: Operation\n",
       "   class: <class 'demo_operations.Multiply'>\n",
       "   operator: 3\n",
       "   operands: 4\n",
       "3. *\n",
       "   core type: Literal\n",
       "   latexFormat: \\times\n",
       "   context: tutorial\n",
       "   class: <class 'proveit._core_.expression.label.literal.Literal'>\n",
       "   sub-expressions: \n",
       "4. (x , 5 , omega)\n",
       "   core type: ExprTuple\n",
       "   class: <class 'proveit._core_.expression.composite.expr_tuple.ExprTuple'>\n",
       "   sub-expressions: 5, 6, 7\n",
       "5. x\n",
       "   core type: Variable\n",
       "   latexFormat: x\n",
       "   class: <class 'proveit._core_.expression.label.var.Variable'>\n",
       "   sub-expressions: \n",
       "6. 5\n",
       "   core type: Literal\n",
       "   latexFormat: 5\n",
       "   context: tutorial\n",
       "   class: <class 'proveit._core_.expression.label.literal.Literal'>\n",
       "   sub-expressions: \n",
       "7. omega\n",
       "   core type: Variable\n",
       "   latexFormat: \\omega\n",
       "   class: <class 'proveit._core_.expression.label.var.Variable'>\n",
       "   sub-expressions: "
      ]
     },
     "execution_count": 64,
     "metadata": {},
     "output_type": "execute_result"
    }
   ],
   "source": [
    "nestedOperationFromSub.exprInfo(details=True)"
   ]
  },
  {
   "cell_type": "markdown",
   "metadata": {},
   "source": [
    "Furthermore, this expression that we obtained via substitution is equivalent to the one constructed directly:"
   ]
  },
  {
   "cell_type": "code",
   "execution_count": 65,
   "metadata": {},
   "outputs": [
    {
     "name": "stdout",
     "output_type": "stream",
     "text": [
      "Expressions, generated in different ways, are the same: True\n"
     ]
    }
   ],
   "source": [
    "print(\"Expressions, generated in different ways, are the same:\", (nestedOperationFromSub == nestedOperation))"
   ]
  },
  {
   "cell_type": "markdown",
   "metadata": {},
   "source": [
    "### Operator substitution/relabeling\n",
    "\n",
    "The *operator* itself may likewise be *substituted* or *relabeled*, but with some interesting extra capabilities."
   ]
  },
  {
   "cell_type": "markdown",
   "metadata": {},
   "source": [
    "It is straightforward to *relabel* a **Variable** *operator* with another **Variable**. Here we relabel the $f$ in $f(x)$ to $g$ to obtain $g(x)$:"
   ]
  },
  {
   "cell_type": "code",
   "execution_count": 66,
   "metadata": {},
   "outputs": [
    {
     "data": {
      "text/html": [
       "<a class=\"ProveItLink\" href=\"../packages/proveit/__pv_it/89d5be7a1c57e84a6e56aa45006f938a851d441b0/expr.ipynb\"><img src=\"data:image/png;base64,iVBORw0KGgoAAAANSUhEUgAAACgAAAAVBAMAAADGNLEtAAAAMFBMVEX///8yMjK6uroiIiLMzMwQ\n",
       "EBCqqqru7u7c3NxUVFRERER2dnaIiIhmZmaYmJgAAAAgbmjVAAAAAXRSTlMAQObYZgAAAPlJREFU\n",
       "GNNjYMALmA5AaD4FJEFPGOMKkqA4jMGIEOM5AGPxbYALshbAWOwBcEFFhKZlQPz29CsgeRuIu0+2\n",
       "nQWaspeBgXcCx1+ggBxQ3wY+O1YDBoZEBob3BQzfgIJBDAzcDDwf2BwYGFQZGCIZWH4ABT8BVTJw\n",
       "LgCZ6c/A9o2BxwAiCHTCAYggzw8GrgtAVhiI2+/AUADSzveBgT8ByF8HdHXDeQYeoOBDBvbvDPMb\n",
       "GMDuyH+wlKEHwtQ8cxmkU5mBoep09Z4HQKYQiL8WbEcDkjeZGNi/oQYD9wGG+w2cE1CDrpCBIevM\n",
       "PQi7EyY4AymQOaAByuPAAADpfDmRy2jJwwAAAABJRU5ErkJggg==\n",
       "\" style=\"display:inline;vertical-align:middle;\" /></a>"
      ],
      "text/plain": [
       "g(x)"
      ]
     },
     "execution_count": 66,
     "metadata": {},
     "output_type": "execute_result"
    }
   ],
   "source": [
    "from proveit._common_ import g\n",
    "fx.relabeled({f:g}) # Variable operator to a different Variable"
   ]
  },
  {
   "cell_type": "markdown",
   "metadata": {},
   "source": [
    "And it is straightforward to *substitute* a **Variable** *operator* with a **Literal**."
   ]
  },
  {
   "cell_type": "code",
   "execution_count": 67,
   "metadata": {},
   "outputs": [
    {
     "data": {
      "text/html": [
       "<strong id=\"xFactorial_from_fx\">xFactorial_from_fx:</strong> <a class=\"ProveItLink\" href=\"__pv_it/f298b6802ab61432aea8682a150b9f30732ed7760/expr.ipynb\"><img src=\"data:image/png;base64,iVBORw0KGgoAAAANSUhEUgAAABAAAAAOBAMAAADUAYG5AAAALVBMVEX///8yMjJERETMzMwQEBAi\n",
       "IiKYmJju7u5mZmaqqqpUVFSIiIh2dnbc3NwAAAASYyFDAAAAAXRSTlMAQObYZgAAAGZJREFUCNdj\n",
       "YAADdicIzcD7DspgfwplMDyEMbwYGO7surljA0MEA/sBtjCWAAYdBh4G7gecBgzLGNgZuBSAak4C\n",
       "McsGILEZiO8ZMBQwmDOwXdjHwF0A5M9LUGG4DTK5aE/N6QSgpQBu6hcw6Hx/hgAAAABJRU5ErkJg\n",
       "gg==\n",
       "\" style=\"display:inline;vertical-align:middle;\" /></a><br>"
      ],
      "text/plain": [
       "xFactorial_from_fx: x!"
      ]
     },
     "execution_count": 67,
     "metadata": {},
     "output_type": "execute_result"
    }
   ],
   "source": [
    "xFactorial_from_fx = fx.substituted({f:FACTORIAL})"
   ]
  },
  {
   "cell_type": "code",
   "execution_count": 68,
   "metadata": {},
   "outputs": [
    {
     "data": {
      "text/html": [
       "<table><tr><th>&nbsp;</th><th>core type</th><th>sub-expressions</th><th>expression</th></tr>\n",
       "<tr><td>0</td><td>Operation</td><td>operator:&nbsp;1<br>operand:&nbsp;2<br></td><td><a class=\"ProveItLink\" href=\"__pv_it/f298b6802ab61432aea8682a150b9f30732ed7760/expr.ipynb\"><img src=\"data:image/png;base64,iVBORw0KGgoAAAANSUhEUgAAABAAAAAOBAMAAADUAYG5AAAALVBMVEX///8yMjJERETMzMwQEBAi\n",
       "IiKYmJju7u5mZmaqqqpUVFSIiIh2dnbc3NwAAAASYyFDAAAAAXRSTlMAQObYZgAAAGZJREFUCNdj\n",
       "YAADdicIzcD7DspgfwplMDyEMbwYGO7surljA0MEA/sBtjCWAAYdBh4G7gecBgzLGNgZuBSAak4C\n",
       "McsGILEZiO8ZMBQwmDOwXdjHwF0A5M9LUGG4DTK5aE/N6QSgpQBu6hcw6Hx/hgAAAABJRU5ErkJg\n",
       "gg==\n",
       "\" style=\"display:inline;vertical-align:middle;\" /></a></td></tr>\n",
       "<tr><td colspan=4 style=\"text-align:left\"><strong>class:</strong> tutorial.demo_operations.Factorial</td></tr>\n",
       "<tr><td>1</td><td>Literal</td><td></td><td><a class=\"ProveItLink\" href=\"__pv_it/d6af88116966bca28fcbee5fe103a74f1e8a81d50/expr.ipynb\"><img src=\"data:image/png;base64,iVBORw0KGgoAAAANSUhEUgAAAAMAAAAOBAMAAAAYmLtSAAAALVBMVEX////MzMyIiIiqqqqYmJh2\n",
       "dnZmZmZUVFQyMjIiIiLc3NxEREQQEBDu7u4AAACiA/ybAAAAAXRSTlMAQObYZgAAADBJREFUCNdj\n",
       "uLOBYd0DhnsTGPgaGHgKGDgTGLgDGNgdGFgNGJgEGBgvMAABUPbOBgD2TQqw6cTpzgAAAABJRU5E\n",
       "rkJggg==\n",
       "\" style=\"display:inline;vertical-align:middle;\" /></a></td></tr>\n",
       "<tr><td colspan=4 style=\"text-align:left\"><strong>context:</strong> tutorial</td></tr>\n",
       "<tr><td>2</td><td>Variable</td><td></td><td><a class=\"ProveItLink\" href=\"../packages/proveit/__pv_it/530be409e3083890784cf1d7b28c9e67e90af9360/expr.ipynb\"><img src=\"data:image/png;base64,iVBORw0KGgoAAAANSUhEUgAAAAsAAAAJBAMAAAAWSsseAAAAKlBMVEX///9ERETMzMwQEBAiIiKY\n",
       "mJju7u5mZmaqqqpUVFSIiIh2dnbc3NwAAAA/vyDhAAAAAXRSTlMAQObYZgAAAENJREFUCNdjYDi9\n",
       "8sTyBQxsG1hdmR0YuBm4LnAoMLAxcAowgADzAjB1VoEhgYH1wFoGrgSG3gBhhlMMDImrs3cFMAAA\n",
       "t0YN+iTRa+sAAAAASUVORK5CYII=\n",
       "\" style=\"display:inline;vertical-align:middle;\" /></a></td></tr>\n",
       "</table>\n"
      ],
      "text/plain": [
       "0. x!\n",
       "   core type: Operation\n",
       "   class: <class 'demo_operations.Factorial'>\n",
       "   operator: 1\n",
       "   operand: 2\n",
       "1. !\n",
       "   core type: Literal\n",
       "   latexFormat: !\n",
       "   context: tutorial\n",
       "   class: <class 'proveit._core_.expression.label.literal.Literal'>\n",
       "   sub-expressions: \n",
       "2. x\n",
       "   core type: Variable\n",
       "   latexFormat: x\n",
       "   class: <class 'proveit._core_.expression.label.var.Variable'>\n",
       "   sub-expressions: "
      ]
     },
     "execution_count": 68,
     "metadata": {},
     "output_type": "execute_result"
    }
   ],
   "source": [
    "xFactorial_from_fx.exprInfo(details=True)"
   ]
  },
  {
   "cell_type": "code",
   "execution_count": 69,
   "metadata": {},
   "outputs": [],
   "source": [
    "assert xFactorial_from_fx == xFactorial # Same"
   ]
  },
  {
   "cell_type": "markdown",
   "metadata": {},
   "source": [
    "It is able to generate the new **expression** in the appropriate `Factorial` class via the internal mechanisms that use its `_operator_` class attribute."
   ]
  },
  {
   "cell_type": "markdown",
   "metadata": {},
   "source": [
    "Performing an *expression substitution* of a `Literal` *operator* within an `Operation` class will typically be blocked because it will not know how to make the new **expression**:"
   ]
  },
  {
   "cell_type": "code",
   "execution_count": 70,
   "metadata": {},
   "outputs": [
    {
     "name": "stdout",
     "output_type": "stream",
     "text": [
      "EXPECTED ERROR: An implicit operator may not be changed\n"
     ]
    }
   ],
   "source": [
    "from proveit import OperationError\n",
    "# But this will typically be prevented (appropriately) in trying to remake a derived Operation class:\n",
    "try:\n",
    "    xFactorial.substituted({FACTORIAL:SUMMATION})\n",
    "    assert False, \"Expecting an OperationError error; should not make it to this point\"\n",
    "except OperationError as e:\n",
    "    print(\"EXPECTED ERROR:\", e)"
   ]
  },
  {
   "cell_type": "markdown",
   "metadata": {},
   "source": [
    "### Operation substitution"
   ]
  },
  {
   "cell_type": "markdown",
   "metadata": {},
   "source": [
    "The more interesting and useful case is to *substitute* the `Operation` itself. Here we convert $f(x)$ to $x!$ by substituting a `Lambda` mapping for the function variabe $f$:"
   ]
  },
  {
   "cell_type": "code",
   "execution_count": 71,
   "metadata": {},
   "outputs": [
    {
     "data": {
      "text/html": [
       "<strong id=\"fancy_factorial_map\">fancy_factorial_map:</strong> <a class=\"ProveItLink\" href=\"__pv_it/61c4abe679ced9f2556a50214a11fbbcfc9700130/expr.ipynb\"><img src=\"data:image/png;base64,iVBORw0KGgoAAAANSUhEUgAAAG4AAAAVCAMAAACQYCvLAAAANlBMVEX///8UFBQNDQ2YmJhUVFQy\n",
       "MjIQEBBEREQiIiKqqqrMzMyIiIi6urrc3NxmZmZ2dnbu7u4AAACrLjZHAAAAAXRSTlMAQObYZgAA\n",
       "AWtJREFUSMfNltmSgyAQRUlEVtn+/2eHpVUaSBXwNL6g5p662Bsh5H9fl94Ej2sDUnSd8Yynxap1\n",
       "9PTrjAmhsMuk3gmlD6KE062SzO+kLZwQ1NU6+RGPE9Jixr8zSDiX0dNZlwMMG8eElPWTLeFoEWKE\n",
       "qpZOI2x55+LqyJUyqQPoBN4ZrcN3HgVrEDCq3ZCGQ9LkSZQkNjlwPrbz1FRRyb3TIcUPuSENPSAX\n",
       "jMTNs1Ru4a6570egi4W3P8tthxS/2g1rHGREpU+VKbwqqPHXEVpNg9u5QQZ2SKNVZWdTceinSBs7\n",
       "a+oSg202yCCYSKP8E8yY/1Q3nI7tFOprDklokFGp9JrY52kHNr66wvEMDlwp6MlBRTfIqBEqzT1V\n",
       "Cu651jaYqTYHrkVGbf5qYERH2V0GTkwOsddiBsGaPMSoSDdy8tDKDTuDDDQu5Um4t+0nD6AZpNf4\n",
       "HGkZQzx/0Bo6ifQaajYOE7P75yH3+h9LqxCcLVsAKAAAAABJRU5ErkJggg==\n",
       "\" style=\"display:inline;vertical-align:middle;\" /></a><br>"
      ],
      "text/plain": [
       "fancy_factorial_map: y -> (y * y!)"
      ]
     },
     "execution_count": 71,
     "metadata": {},
     "output_type": "execute_result"
    }
   ],
   "source": [
    "fancy_factorial_map = Lambda(y, Multiply(y, Factorial(y)))"
   ]
  },
  {
   "cell_type": "code",
   "execution_count": 72,
   "metadata": {},
   "outputs": [
    {
     "data": {
      "text/html": [
       "<a class=\"ProveItLink\" href=\"__pv_it/26a10770926a1c253fe9c918ab88d77630e3ab7a0/expr.ipynb\"><img src=\"data:image/png;base64,iVBORw0KGgoAAAANSUhEUgAAADYAAAAOBAMAAACWQvIuAAAALVBMVEX///8yMjJERETMzMwQEBAi\n",
       "IiKYmJju7u5mZmaqqqpUVFSIiIh2dnbc3NwAAAASYyFDAAAAAXRSTlMAQObYZgAAAJ1JREFUGNNj\n",
       "YMAF2J1wSjHwvsMtx/4UtxzDQyS2MBBfROJ7MTDc2XVzxwYQ+6oBA28wWBQiFMHAfoAtjCUAbHkw\n",
       "SBpkE0RIh4GHgfsBJ1iI4aotRBtUaBkDOwOXAszVoRA1UKGTQMyyAU0OKrQZiO8ZMBSgmAkVMmdg\n",
       "u7CPgbsAxS1woXkJKgy3GVD8ABEChkvRnprTCah+hwixOwEAkgMyPFt8phAAAAAASUVORK5CYII=\n",
       "\" style=\"display:inline;vertical-align:middle;\" /></a>"
      ],
      "text/plain": [
       "x * x!"
      ]
     },
     "execution_count": 72,
     "metadata": {},
     "output_type": "execute_result"
    }
   ],
   "source": [
    "fx.substituted({f:fancy_factorial_map})"
   ]
  },
  {
   "cell_type": "markdown",
   "metadata": {},
   "source": [
    "Note that the operand is still $x$ (not $y$).  This is substituting the *operation*, not the operand.  If desired, however, it could be substituted simultaneously:"
   ]
  },
  {
   "cell_type": "code",
   "execution_count": 73,
   "metadata": {},
   "outputs": [
    {
     "data": {
      "text/html": [
       "<a class=\"ProveItLink\" href=\"__pv_it/17856ef61df51dccbc9c97ee8f8f57a7620651070/expr.ipynb\"><img src=\"data:image/png;base64,iVBORw0KGgoAAAANSUhEUgAAABIAAAAOBAMAAADQ9FGEAAAAMFBMVEX///8iIiJmZmYyMjJERERU\n",
       "VFS6urqYmJju7u7c3NyIiIiqqqoQEBDMzMx2dnYAAACMQNsoAAAAAXRSTlMAQObYZgAAAG1JREFU\n",
       "CNdjYIAAjiNQBgPnfxiL4yOMxfAZzjrKwPAASN3ZwCDEwDUByJrzgMGPgY+BoYGBq4AhnCGXgeMA\n",
       "A/sFhtdAZdwBIIm1DEBqA8M8BoYbDL4M9xM4LUDmvFl09JTOBpAdzZ9v2JuBXAAAt+wchvePqAsA\n",
       "AAAASUVORK5CYII=\n",
       "\" style=\"display:inline;vertical-align:middle;\" /></a>"
      ],
      "text/plain": [
       "omega!"
      ]
     },
     "execution_count": 73,
     "metadata": {},
     "output_type": "execute_result"
    }
   ],
   "source": [
    "omegaFactorial = fx.substituted({f:Lambda(y, Factorial(y)), x:omega})\n",
    "omegaFactorial"
   ]
  },
  {
   "cell_type": "code",
   "execution_count": 74,
   "metadata": {},
   "outputs": [
    {
     "data": {
      "text/html": [
       "<table><tr><th>&nbsp;</th><th>core type</th><th>sub-expressions</th><th>expression</th></tr>\n",
       "<tr><td>0</td><td>Operation</td><td>operator:&nbsp;1<br>operand:&nbsp;2<br></td><td><a class=\"ProveItLink\" href=\"__pv_it/17856ef61df51dccbc9c97ee8f8f57a7620651070/expr.ipynb\"><img src=\"data:image/png;base64,iVBORw0KGgoAAAANSUhEUgAAABIAAAAOBAMAAADQ9FGEAAAAMFBMVEX///8iIiJmZmYyMjJERERU\n",
       "VFS6urqYmJju7u7c3NyIiIiqqqoQEBDMzMx2dnYAAACMQNsoAAAAAXRSTlMAQObYZgAAAG1JREFU\n",
       "CNdjYIAAjiNQBgPnfxiL4yOMxfAZzjrKwPAASN3ZwCDEwDUByJrzgMGPgY+BoYGBq4AhnCGXgeMA\n",
       "A/sFhtdAZdwBIIm1DEBqA8M8BoYbDL4M9xM4LUDmvFl09JTOBpAdzZ9v2JuBXAAAt+wchvePqAsA\n",
       "AAAASUVORK5CYII=\n",
       "\" style=\"display:inline;vertical-align:middle;\" /></a></td></tr>\n",
       "<tr><td colspan=4 style=\"text-align:left\"><strong>class:</strong> tutorial.demo_operations.Factorial</td></tr>\n",
       "<tr><td>1</td><td>Literal</td><td></td><td><a class=\"ProveItLink\" href=\"__pv_it/d6af88116966bca28fcbee5fe103a74f1e8a81d50/expr.ipynb\"><img src=\"data:image/png;base64,iVBORw0KGgoAAAANSUhEUgAAAAMAAAAOBAMAAAAYmLtSAAAALVBMVEX////MzMyIiIiqqqqYmJh2\n",
       "dnZmZmZUVFQyMjIiIiLc3NxEREQQEBDu7u4AAACiA/ybAAAAAXRSTlMAQObYZgAAADBJREFUCNdj\n",
       "uLOBYd0DhnsTGPgaGHgKGDgTGLgDGNgdGFgNGJgEGBgvMAABUPbOBgD2TQqw6cTpzgAAAABJRU5E\n",
       "rkJggg==\n",
       "\" style=\"display:inline;vertical-align:middle;\" /></a></td></tr>\n",
       "<tr><td colspan=4 style=\"text-align:left\"><strong>context:</strong> tutorial</td></tr>\n",
       "<tr><td>2</td><td>Variable</td><td></td><td><a class=\"ProveItLink\" href=\"__pv_it/9d7c4e1c5ee4d34a7826567c9ff37cf313ab71e60/expr.ipynb\"><img src=\"data:image/png;base64,iVBORw0KGgoAAAANSUhEUgAAAA0AAAAJBAMAAAAbVLtZAAAALVBMVEX///9mZmYyMjJERERUVFS6\n",
       "urqYmJju7u7c3NyIiIiqqqoQEBDMzMx2dnYAAACcB6guAAAAAXRSTlMAQObYZgAAAExJREFUCNdj\n",
       "YLjAwMBwegEDZwOQ7r7AwMvAUMDAmcAQw8C+gYHtAFCaywEkCCQWMPQyMNgwnAvgUGdguD1xy07p\n",
       "BQwMRY+O66kyMAAAM0ARC3HE760AAAAASUVORK5CYII=\n",
       "\" style=\"display:inline;vertical-align:middle;\" /></a></td></tr>\n",
       "</table>\n"
      ],
      "text/plain": [
       "0. omega!\n",
       "   core type: Operation\n",
       "   class: <class 'demo_operations.Factorial'>\n",
       "   operator: 1\n",
       "   operand: 2\n",
       "1. !\n",
       "   core type: Literal\n",
       "   latexFormat: !\n",
       "   context: tutorial\n",
       "   class: <class 'proveit._core_.expression.label.literal.Literal'>\n",
       "   sub-expressions: \n",
       "2. omega\n",
       "   core type: Variable\n",
       "   latexFormat: \\omega\n",
       "   class: <class 'proveit._core_.expression.label.var.Variable'>\n",
       "   sub-expressions: "
      ]
     },
     "execution_count": 74,
     "metadata": {},
     "output_type": "execute_result"
    }
   ],
   "source": [
    "omegaFactorial.exprInfo(details=True)"
   ]
  },
  {
   "cell_type": "markdown",
   "metadata": {},
   "source": [
    "Note that by substituting $f$ with a `Lambda` expression, the entire `Operation` is substituted, not just the *operator*.  This is why `Lambda` *operator*s are not allowed (only `Label` operators); otherwise, such a substitution could be ambiguous or confusing (should it substitute the `Operation` or substitute the *operator* with the `Lambda` expression?).  This also highlights the fact that **Prove-It** is not a functional programming or lambda calculus.  Rather, **Prove-It** is designed for manipulating expressions as desired, and *operation substitution* is a useful and powerful, yet relatively straightforward tool for doing so."
   ]
  },
  {
   "cell_type": "markdown",
   "metadata": {},
   "source": [
    "### Mocking up **Lambda** operators\n",
    "\n",
    "It would not be consistent with the **Prove-It** philosophy of *freedom of expression* to completely disallow expressions involving a `Lambda` function applied to operand(s).  While having a `Lambda` *operator* for an `Operation` is not allowed, we are free to make an `Operation` class whose *operands* are the `Lambda` function as well as the operand on which we wish to apply the function. As a demonstration, we define such an `Operation`, called `LambdaApplication`, in <a href=\"demo_lambda_app_operation.py\">demo_lambda_app_operation.py</a>."
   ]
  },
  {
   "cell_type": "code",
   "execution_count": 75,
   "metadata": {},
   "outputs": [],
   "source": [
    "# %load demo_lambda_app_operation\n",
    "'''\n",
    "Module that defines a LambdaApplication Operation\n",
    "class for demonstration purposes in this tutorial.\n",
    "'''\n",
    "\n",
    "from proveit import Operation, Literal, NamedExprs\n",
    "\n",
    "class LambdaApplication(Operation):\n",
    "    _operator_ = Literal('LAMBDA_APPLICATION', r'{\\rm LAMBDA\\_APPLICATION}')\n",
    "    \n",
    "    def __init__(self, lambdaFn, operand):\n",
    "        Operation.__init__(self, LambdaApplication._operator_, NamedExprs([('lambdaFn',lambdaFn), ('operand',operand)]))\n",
    "        self.lambdaFn = self.operands['lambdaFn'] # The Lambda function operand\n",
    "        self.lambdaOperand = self.operands['operand'] # The operand of the Lambda function\n",
    "\n",
    "    @classmethod\n",
    "    def extractInitArgValue(operationClass, argName, operator, operand):\n",
    "        '''\n",
    "        Given a name of one of the arguments of the __init__ method,\n",
    "        return the corresponding value as determined by the operator and\n",
    "        operand of the LambdaApplication Operation.\n",
    "        (This is important so that Prove-It knows how to 'make' an altered\n",
    "        copy of this Operation).\n",
    "        '''\n",
    "        assert isinstance(operand, NamedExprs), \"Expecting LambdaApplication operand to be a NamedExprs object\"\n",
    "        if argName=='lambdaFn': \n",
    "            return operand['lambdaFn']\n",
    "        elif argName=='operand':\n",
    "            return operand['operand']\n",
    "\n",
    "    def string(self, **kwargs): # should accept kwargs even when not used (e.g., 'fence')\n",
    "        return self.lambdaFn.string(fence=True) + '(' + self.lambdaOperand.string() + ')'\n",
    "    \n",
    "    def latex(self, **kwargs): # should accept kwargs even when not used (e.g., 'fence')\n",
    "        return self.lambdaFn.latex(fence=True) + '(' + self.lambdaOperand.latex() + ')'\n"
   ]
  },
  {
   "cell_type": "code",
   "execution_count": 76,
   "metadata": {},
   "outputs": [],
   "source": [
    "from demo_lambda_app_operation import LambdaApplication"
   ]
  },
  {
   "cell_type": "code",
   "execution_count": 77,
   "metadata": {},
   "outputs": [
    {
     "data": {
      "text/html": [
       "<strong id=\"lambdaAppExpr\">lambdaAppExpr:</strong> <a class=\"ProveItLink\" href=\"__pv_it/ea69319740ece1b99b3f7ca7398eddbe4b49d0f40/expr.ipynb\"><img src=\"data:image/png;base64,iVBORw0KGgoAAAANSUhEUgAAAGMAAAAVCAMAAABlnqB7AAAANlBMVEX///8UFBQNDQ2YmJhUVFQQ\n",
       "EBBERESqqqrc3NxmZmbu7u66urp2dnbMzMwyMjIiIiKIiIgAAAD6r9qQAAAAAXRSTlMAQObYZgAA\n",
       "AYhJREFUSMe9ldl2hCAMhmnZIUB4/5etLApBnXrqOeVqHD7yZyGBsX9YmGJ4c57H5MeXx2W37oH/\n",
       "s3kn1WIhiJWx4Z2GyXnRiO4ExZdx5EQ1EC9yCa80WI5UQ7qrhL7TkIJo+HgFKd0IBxZqgt2UxbG0\n",
       "nvya0GSJRt0oe4DCaLQtc2AbAcyX8mHeLSXqixhJmFEFRCPy7sVWhcSZbEZ0rETQzJY/lLrRcMLs\n",
       "t3NGBSca0ncvmgu69Z2Xldi8lCWwfNyL769ElszdEEFBE43OlJiFGj2TO6FLekMON3EwMW7GhGK4\n",
       "0qgh4VnDliKjZDca1ky/BxoczZUe3Rl6QEeutnKVG6LEjUaYe2tFh4ZqNeem3Qh0faDtcWxnfOZj\n",
       "UtKSk5gOdO1zsC2XnKktTIOM3F3mFKLN5tEEOdB1JvrU98EB4O5w9FOfQ3rc4ASdZon5MEtEKh/6\n",
       "ifkzOjQ4XLiDnUiwN+2v64x+nO3umO16S/HD2XhGJw1zeqPqgMCUXr212/lJ0iwvSO3SHytqEh4e\n",
       "1DOwAAAAAElFTkSuQmCC\n",
       "\" style=\"display:inline;vertical-align:middle;\" /></a><br>"
      ],
      "text/plain": [
       "lambdaAppExpr: [y -> y!](x)"
      ]
     },
     "execution_count": 77,
     "metadata": {},
     "output_type": "execute_result"
    }
   ],
   "source": [
    "lambdaAppExpr = LambdaApplication(Lambda(y, Factorial(y)), x)"
   ]
  },
  {
   "cell_type": "markdown",
   "metadata": {},
   "source": [
    "Note that the `_operator_` of the `LambdaApplication` is not displayed but is implicit in the context of the lambda application formatting.  Also, we made use of `NamedExprs` which will be discussed next.  Let us take a look at the expression information."
   ]
  },
  {
   "cell_type": "code",
   "execution_count": 78,
   "metadata": {},
   "outputs": [
    {
     "data": {
      "text/html": [
       "<table><tr><th>&nbsp;</th><th>core type</th><th>sub-expressions</th><th>expression</th></tr>\n",
       "<tr><td>0</td><td>Operation</td><td>operator:&nbsp;1<br>operands:&nbsp;2<br></td><td><a class=\"ProveItLink\" href=\"__pv_it/ea69319740ece1b99b3f7ca7398eddbe4b49d0f40/expr.ipynb\"><img src=\"data:image/png;base64,iVBORw0KGgoAAAANSUhEUgAAAGMAAAAVCAMAAABlnqB7AAAANlBMVEX///8UFBQNDQ2YmJhUVFQQ\n",
       "EBBERESqqqrc3NxmZmbu7u66urp2dnbMzMwyMjIiIiKIiIgAAAD6r9qQAAAAAXRSTlMAQObYZgAA\n",
       "AYhJREFUSMe9ldl2hCAMhmnZIUB4/5etLApBnXrqOeVqHD7yZyGBsX9YmGJ4c57H5MeXx2W37oH/\n",
       "s3kn1WIhiJWx4Z2GyXnRiO4ExZdx5EQ1EC9yCa80WI5UQ7qrhL7TkIJo+HgFKd0IBxZqgt2UxbG0\n",
       "nvya0GSJRt0oe4DCaLQtc2AbAcyX8mHeLSXqixhJmFEFRCPy7sVWhcSZbEZ0rETQzJY/lLrRcMLs\n",
       "t3NGBSca0ncvmgu69Z2Xldi8lCWwfNyL769ElszdEEFBE43OlJiFGj2TO6FLekMON3EwMW7GhGK4\n",
       "0qgh4VnDliKjZDca1ky/BxoczZUe3Rl6QEeutnKVG6LEjUaYe2tFh4ZqNeem3Qh0faDtcWxnfOZj\n",
       "UtKSk5gOdO1zsC2XnKktTIOM3F3mFKLN5tEEOdB1JvrU98EB4O5w9FOfQ3rc4ASdZon5MEtEKh/6\n",
       "ifkzOjQ4XLiDnUiwN+2v64x+nO3umO16S/HD2XhGJw1zeqPqgMCUXr212/lJ0iwvSO3SHytqEh4e\n",
       "1DOwAAAAAElFTkSuQmCC\n",
       "\" style=\"display:inline;vertical-align:middle;\" /></a></td></tr>\n",
       "<tr><td colspan=4 style=\"text-align:left\"><strong>class:</strong> tutorial.demo_lambda_app_operation.LambdaApplication</td></tr>\n",
       "<tr><td>1</td><td>Literal</td><td></td><td><a class=\"ProveItLink\" href=\"__pv_it/b972b254f0859e9da344ee20375eddf3388d76660/expr.ipynb\"><img src=\"data:image/png;base64,iVBORw0KGgoAAAANSUhEUgAAAPYAAAAQBAMAAADXIZ9kAAAAMFBMVEX///+qqqqIiIiYmJi6uroQ\n",
       "EBAiIiJERETu7u52dnbMzMxUVFQyMjJmZmbc3NwAAAD+VqVwAAAAAXRSTlMAQObYZgAAAyRJREFU\n",
       "OMvFlV9IU3EUx8/u3Lr36m6DXnrz4kMIEa63wMC9+BTiggLByr1GyfYSKQm7L+JDgnuKpNA9FhHz\n",
       "JSNmbkUQEbG9BAmlexdZTufc3Lyd35/zu0p798B+57ff93fO5/7+A5yh7RSPNkXtC/6sNZdVA631\n",
       "7eJ4bu0XNtRyuW8O6dJ6oliwHjM2OZHH/O1uAPgff7SfUsjEk9WDXCr+tthOg355ccMB833Nge6J\n",
       "SYDsishnHbFST0WwHDwEqJQAihnebNxSurDKiiz1h8qJPCb2Mh84sD1DIfdA2wMrxvXhCPhuYocU\n",
       "1ufBYxsuG51+qYDlFcnOFkT8cpl0YcuH9AVDJXIem9X0OzKlXmJsWGGtZhUbe6NgDu4ChE6wzy2z\n",
       "Eet9TUwwItkLMcE+XyBd2PQesbMxch47wT7yukxpRTi7n+nBGFuvMTCv3XZOsV9X2Ij1/jaAFpLs\n",
       "3pJgdzdJ52YutRQ7Tk6xfXxx5mVKK8PZr5jem8ZGrQpmZDR5ir0ZPGZsO497RbLNcblmRpV0bqFy\n",
       "okxzbpNT7G4+KZpKydmck2cz19VCdmjvFDupVTl7NAwXOftz3zNbsrU26WJ5YMAWbPOucood3KV+\n",
       "MkSxE+x4mDVkQ6J8gu2L6AecHSyATXP+Tuxz8B+Rzu0CLMQZ+/7in4xy/7MpxGOHFTtbILaFY3HY\n",
       "iUK2dmxFiR0Yk+NukM5tCnqajJ0UB044kUfNOaiUHpufXx+bc1xFYhsAs7lcscTYesMPxMY0Yq/t\n",
       "k87vALx12h3ZhrfXvJQee4hNjdFgbEjsyBj8hqt4kmKMDY88dqgq2IE46cz8OHW1juyQd8YMldJj\n",
       "B/6iDx5ydmVSxszhvsDIXc4eXVfsQFOwBzKki60GsBXuxJ5Tdws8Vyk9dleD5QpztlYXbfp36ML+\n",
       "Jv41SxBIKvZWmrO1faUzu8Gikh3YmIfuVCPqhSg2DNvgxzvVx875V4A3ifFcqmGm6g68dKetfCti\n",
       "hLV8a5M9EaufxFvywyEdXNetu1NgFOvpnWLb5o8RdzIPvSVLoEJGftbwHIi35MXiB4cpOGvbZ/mC\n",
       "wj9cPLyHYckQpwAAAABJRU5ErkJggg==\n",
       "\" style=\"display:inline;vertical-align:middle;\" /></a></td></tr>\n",
       "<tr><td colspan=4 style=\"text-align:left\"><strong>context:</strong> tutorial</td></tr>\n",
       "<tr><td>2</td><td>NamedExprs</td><td>lambdaFn: 3<br>operand: 4<br></td><td><a class=\"ProveItLink\" href=\"__pv_it/d02eb9893db949c88d9d38f1d0d29ee34d9e51e10/expr.ipynb\"><img src=\"data:image/png;base64,iVBORw0KGgoAAAANSUhEUgAAAOQAAAAyCAMAAAB77oeNAAAANlBMVEX///8UFBQNDQ0QEBAyMjK6\n",
       "urp2dnYiIiLMzMyIiIiYmJjc3NxERESqqqpUVFRmZmbu7u4AAABG+8EjAAAAAXRSTlMAQObYZgAA\n",
       "BEtJREFUaN7lmtmCqygQhpkBgZL9/V/2UKCkcEnS7RhzHK66DZR8Qi38ytjUYvDsVk0Lt7zkkjX3\n",
       "gmQjt7G/kODnj2pYPJaoh/jrKYES+hCSUMPiUlSKzkensELwQj5nDMtBzibXm1Ap+dxESi/p5fBr\n",
       "vsjttgWTLPnPbk1CvXJStXwyMS3cQKdqw3B9IqRJaceCTOS+HXEjfwUp3oZkoztzJZPasaCTJL38\n",
       "yZARToRkSexYiMSjToZEV5BnQnK/C+nfghwBAs5QWx40gAXmAGoKEiH/6McpzUqAoULOQ2bIsUTh\n",
       "h4FFwHhARlnGmRYhRB/Y6COkfWtw+D2kU3mGodxM2BG7So1ZtVzgZu5mON4BCiQZUiHnDDwZGBa+\n",
       "9ICUbEjFTAtt/Yw8CY+0r5XHIEeMT0MqNLzsf18mj1FL+BrbHM6//UmH6MR9ziMT5GSALGW/XbVj\n",
       "AbGs3YGMvmXmrm/dTQe2Kxsk1Ehc713mSCER29SZm8kn25C6kvPUiIFNn8zMHLoe//6jusbbNuj6\n",
       "SncM0oi8R/RTSC7yuo0PSDKE+uRrSHSDOBvfWknmB1qItr6gj0EKUZlifHslyRDdGX4NWTwZONuB\n",
       "DLSOJH11PAQZy5Rc0oPeg9S4hdTDPemQn0KWpERSVw+pYZXAaJr7/UqWFJQdzJkNSFHiUWgXQllJ\n",
       "MuQ55Cq6MjzuTVu/Vu39lPtlbX33K55XkNrn4towYwNAlALK/zrX4DwwEAmrdxsxT9ZYY3zJk5ix\n",
       "2hATcmXu5z1GDezkSRZtTrHpvTPfo+9ugf7GSn62tSlK9YNBih3crp+H9AqXxb3Vf933BaRZHycv\n",
       "gVRyrl5et3XfreqXQI7JfQVkrorDu3X6uu8WpCDpSF3OyEApfXD8BqRry9edn2/WPDcT48Du2yxS\n",
       "RnE7LXKpTAIzysdbQzqFdVPgd96uYRIKTws8h9Tm/4ixFYlnpZCl2vz5Rqr98az4Gq+GFImUdfKm\n",
       "kEQ1j2fVrldDfuQU8v2QJp99Q57kILgcpZxVYR1Aeo1XwUmMz2v5udgkavPqhGwkeOMgwNWQurzc\n",
       "8zh9VUqjquM4VYIW6tZ+QAFrLT9jFKNq80rriNnoqEbG1dWQXNaYpGfFqlb0Re1kWEUIVWSXtfwM\n",
       "rFebVwqNZFX6dvpiyHmnYUx6aI+ZNIy5oWbd3vdsyM8LtXl5b9wi9gt8cs6d+FpshhTd+XqC3JSf\n",
       "O7V5s3H4Asj5uIk/kZUkJcQEuSk/P1/J2Q1Y/A6fLNLx7JO4tjVI4kvVCrkjPxO1eeP0Y+rbKLgc\n",
       "cuBNOhY1uobqq4gqY1vJZ/Jz2IyuLu8GjFEGrt6uqAZLWV+KCf9QkZnxQUrDBp94ubQpP3dq8zJP\n",
       "RgsySgnjV1U84m/9WOt/Ahk2i/VbQdJPXLY/VmoRKHtf+DvFLqAHZf0F7wnO2K1c9MhwQ0bFl59J\n",
       "3k6ZdFwskcxHKuZPBh3V8vAf4LFDvMaw/noAAAAASUVORK5CYII=\n",
       "\" style=\"display:inline;vertical-align:middle;\" /></a></td></tr>\n",
       "<tr><td>3</td><td>Lambda</td><td>parameter:&nbsp;7<br>body:&nbsp;5<br></td><td><a class=\"ProveItLink\" href=\"__pv_it/6416a795026847564c8dd831a4e74090b86f10750/expr.ipynb\"><img src=\"data:image/png;base64,iVBORw0KGgoAAAANSUhEUgAAADoAAAASCAMAAAA9mj1BAAAANlBMVEX///8UFBQNDQ2YmJhUVFQy\n",
       "MjIQEBBEREQiIiKqqqrMzMyIiIi6urrc3NxmZmZ2dnbu7u4AAACrLjZHAAAAAXRSTlMAQObYZgAA\n",
       "AMhJREFUOMudktkOxCAIRZmpdUNR/v9nR9qxLumDkYcGmnPxQgDYi6zNphIi8640s92VAp/bUq3K\n",
       "04nSZT7f/8ZuzvUuO9QSQIIgE2Mde5pB5Zb3qEngHZDQxrxLs4o1HVB1QGmqUcbGP/D92CE0h9ql\n",
       "R5NM4sS6Z//+KqjQTd5QlA/JYlDDu5RiXzTUyw5OEv/qXeqxryYUqKSBj1riuKXRwoPe15QNInFc\n",
       "Or8Hbeef1i+yQ5WVHm5FNaM2XaexEjPqiv2w5nVEfyVpCI/cxazrAAAAAElFTkSuQmCC\n",
       "\" style=\"display:inline;vertical-align:middle;\" /></a></td></tr>\n",
       "<tr><td>4</td><td>Variable</td><td></td><td><a class=\"ProveItLink\" href=\"../packages/proveit/__pv_it/530be409e3083890784cf1d7b28c9e67e90af9360/expr.ipynb\"><img src=\"data:image/png;base64,iVBORw0KGgoAAAANSUhEUgAAAAsAAAAJBAMAAAAWSsseAAAAKlBMVEX///9ERETMzMwQEBAiIiKY\n",
       "mJju7u5mZmaqqqpUVFSIiIh2dnbc3NwAAAA/vyDhAAAAAXRSTlMAQObYZgAAAENJREFUCNdjYDi9\n",
       "8sTyBQxsG1hdmR0YuBm4LnAoMLAxcAowgADzAjB1VoEhgYH1wFoGrgSG3gBhhlMMDImrs3cFMAAA\n",
       "t0YN+iTRa+sAAAAASUVORK5CYII=\n",
       "\" style=\"display:inline;vertical-align:middle;\" /></a></td></tr>\n",
       "<tr><td>5</td><td>Operation</td><td>operator:&nbsp;6<br>operand:&nbsp;7<br></td><td><a class=\"ProveItLink\" href=\"__pv_it/26a0e35b392fe0647ba3a0907c7e4dd1d46cdbc60/expr.ipynb\"><img src=\"data:image/png;base64,iVBORw0KGgoAAAANSUhEUgAAAA8AAAASBAMAAAB2sJk8AAAAMFBMVEX///+YmJhUVFQyMjIQEBBE\n",
       "REQiIiKqqqrMzMyIiIi6urrc3NxmZmZ2dnbu7u4AAADXeCicAAAAAXRSTlMAQObYZgAAAH5JREFU\n",
       "CNdjYACDJwEQmmH/ByjjfQKUwW8AZbAoMPDducCw/wHbAQZerg8M8xlYLzC08yQwhDIwCTA8YJnA\n",
       "8JOBt4CBof4Bxw8GzgYGhsMMnA4MHA8YGGwYWBXARhxiWC8ANvnpzPMboJZeA8swJfC5gxlsF4Cm\n",
       "ggD7zFNgGgDXOyBURHxQQwAAAABJRU5ErkJggg==\n",
       "\" style=\"display:inline;vertical-align:middle;\" /></a></td></tr>\n",
       "<tr><td colspan=4 style=\"text-align:left\"><strong>class:</strong> tutorial.demo_operations.Factorial</td></tr>\n",
       "<tr><td>6</td><td>Literal</td><td></td><td><a class=\"ProveItLink\" href=\"__pv_it/d6af88116966bca28fcbee5fe103a74f1e8a81d50/expr.ipynb\"><img src=\"data:image/png;base64,iVBORw0KGgoAAAANSUhEUgAAAAMAAAAOBAMAAAAYmLtSAAAALVBMVEX////MzMyIiIiqqqqYmJh2\n",
       "dnZmZmZUVFQyMjIiIiLc3NxEREQQEBDu7u4AAACiA/ybAAAAAXRSTlMAQObYZgAAADBJREFUCNdj\n",
       "uLOBYd0DhnsTGPgaGHgKGDgTGLgDGNgdGFgNGJgEGBgvMAABUPbOBgD2TQqw6cTpzgAAAABJRU5E\n",
       "rkJggg==\n",
       "\" style=\"display:inline;vertical-align:middle;\" /></a></td></tr>\n",
       "<tr><td colspan=4 style=\"text-align:left\"><strong>context:</strong> tutorial</td></tr>\n",
       "<tr><td>7</td><td>Variable</td><td></td><td><a class=\"ProveItLink\" href=\"../packages/proveit/__pv_it/f8b9edf8e16034727f0aad55bb83e392c3db40d40/expr.ipynb\"><img src=\"data:image/png;base64,iVBORw0KGgoAAAANSUhEUgAAAAsAAAANBAMAAACN24kIAAAAMFBMVEX///+YmJhUVFQyMjIQEBBE\n",
       "REQiIiKqqqrMzMyIiIi6urrc3NxmZmZ2dnbu7u4AAADXeCicAAAAAXRSTlMAQObYZgAAAFhJREFU\n",
       "CNdj4LtzgWH/AwZerg8M8xkY2nkSGEIZGB6wTGD4ycDAUP+A4weQOszA6QCkbBhYFYDUIYb1AkDq\n",
       "6czzGxhA4BoQMyXwuQMptgusF4AU+8xTQBIAUqMVoSp/SLMAAAAASUVORK5CYII=\n",
       "\" style=\"display:inline;vertical-align:middle;\" /></a></td></tr>\n",
       "</table>\n"
      ],
      "text/plain": [
       "0. [y -> y!](x)\n",
       "   core type: Operation\n",
       "   class: <class 'demo_lambda_app_operation.LambdaApplication'>\n",
       "   operator: 1\n",
       "   operands: 2\n",
       "1. LAMBDA_APPLICATION\n",
       "   core type: Literal\n",
       "   latexFormat: {\\rm LAMBDA\\_APPLICATION}\n",
       "   context: tutorial\n",
       "   class: <class 'proveit._core_.expression.label.literal.Literal'>\n",
       "   sub-expressions: \n",
       "2. {lambdaFn:[y -> y!], operand:x}\n",
       "   core type: NamedExprs\n",
       "   class: <class 'proveit._core_.expression.composite.named_exprs.NamedExprs'>\n",
       "   lambdaFn: 3\n",
       "   operand: 4\n",
       "3. y -> y!\n",
       "   core type: Lambda\n",
       "   class: <class 'proveit._core_.expression.lambda_expr.lambda_expr.Lambda'>\n",
       "   parameter: 7\n",
       "   body: 5\n",
       "4. x\n",
       "   core type: Variable\n",
       "   latexFormat: x\n",
       "   class: <class 'proveit._core_.expression.label.var.Variable'>\n",
       "   sub-expressions: \n",
       "5. y!\n",
       "   core type: Operation\n",
       "   class: <class 'demo_operations.Factorial'>\n",
       "   operator: 6\n",
       "   operand: 7\n",
       "6. !\n",
       "   core type: Literal\n",
       "   latexFormat: !\n",
       "   context: tutorial\n",
       "   class: <class 'proveit._core_.expression.label.literal.Literal'>\n",
       "   sub-expressions: \n",
       "7. y\n",
       "   core type: Variable\n",
       "   latexFormat: y\n",
       "   class: <class 'proveit._core_.expression.label.var.Variable'>\n",
       "   sub-expressions: "
      ]
     },
     "execution_count": 78,
     "metadata": {},
     "output_type": "execute_result"
    }
   ],
   "source": [
    "lambdaAppExpr.exprInfo(details=True)"
   ]
  },
  {
   "cell_type": "markdown",
   "metadata": {},
   "source": [
    "**Axioms** could then be created to define how the `LambdaApplication` **operation** actually operates, but **axioms** will be discussed in a later chapter."
   ]
  },
  {
   "cell_type": "markdown",
   "metadata": {},
   "source": [
    "NamedExprs\n",
    "=========\n",
    "\n",
    "`NamedExprs` is a composite **expression** that maps string keywords to sub-**expressions**.  The reason that this may be desired is to be explicit in the internal representation about the role of each sub-**expression** so there is no ambiguity between the internal and external representation.  A good example is the `lambdaAppExpr` $[y \\mapsto y!](x)$ defined above, where one *operand* plays the role of the lambda function and the other *operand* plays the role of the lambda function's operand."
   ]
  },
  {
   "cell_type": "markdown",
   "metadata": {},
   "source": [
    "Here is a more rudimentary demonstration of using **NamedExpressions**:"
   ]
  },
  {
   "cell_type": "code",
   "execution_count": 79,
   "metadata": {},
   "outputs": [
    {
     "data": {
      "text/html": [
       "<a class=\"ProveItLink\" href=\"__pv_it/2fb13b91e298881dd60e61c00e83cb667d95e6960/expr.ipynb\"><img src=\"data:image/png;base64,iVBORw0KGgoAAAANSUhEUgAAAMsAAABLCAMAAADplYPZAAAAPFBMVEX///9jY2N/f392dnYyMjKq\n",
       "qqoNDQ0dHR2YmJiIiIhmZmZERETc3Ny6uroQEBDMzMwiIiJUVFTu7u4AAAAkkAi0AAAAAXRSTlMA\n",
       "QObYZgAABTZJREFUaN7tm2uDmyoQhmkHerhf//9/PdwSQSFx3caaNn7YXVk1PA4zw7wQhG6Hdxa9\n",
       "30E12TYarc0bsiAX+LpJBS0Rek8Y1zd4HdTaUA5D30IcYH89GBtYdy7WcPmivk1pTwJB6mosJgTZ\n",
       "nw6cRfQsLp5Gs/DLGQZ3LsPDKIYNWGLguB4LC6Ebcm4ni9LXY+lHVVi5T8tiOANnYijQ2jnqgnWO\n",
       "NDFD3P+WwJwkjLOzWXwIdBcLsTliR0dxuduW94+5D04fox61FOnzU27X/QcsOv/HsjELWmI05JEb\n",
       "4c1VWUjgNB6OTlh6Kif+iMPsZKHh7hxPWNDdiFdlUYtbLSyzHsscT/x1/SUT+M5fYDhjldldELsu\n",
       "i8oTNYgdFJmF45ZliWMkGlDoaBt2wTFmXAguTnSk4wAy/oqncbx54UAO8osXDDwAo9f0l7c5uu7/\n",
       "94u+M0vX/b/JLh+WD8uH5cPyYfmwnM5iQjcvNgLDhVli8U/mV6qVYus7DfAK0p9u3rbqlb9R9bvV\n",
       "Z+pxBYkJN5IYC/ort7Ysl5D+2v7bh64vjZmyXEP684vYp4ZmUVgzAtrIuihAHOOMMZtYDGMi4ffS\n",
       "Xyv8eeCQFYBTKma4DzI88XzrlEwWq7WyzzJZ7KHAqb4sixytLNMIf/EylYv/cI5lbDUMzEYYtsXv\n",
       "M4tI/eTZgCL/LHd1EtNiA0MQTzeIkwQzqa1/hIIwb/wjr2aWJc3SwQFLR5W1stNysLTYIxqmmmnH\n",
       "YuJ1vix07mBJuowvN511CByBhN/DIhkwKD1bswzffdKeENOnobAkSnpr5Q4WuiT4NQtMbxbuLBRe\n",
       "4pcM1j9nUcIYIzcsrfTXxjHEewH35UEZbuYZvT7lgk6pI2t+KR6HdPBybogIOU220l+bX5L2x3g4\n",
       "aZ1dLW8xhKczRI/TJV7Zr8yR4axlJdso+OFpGqD1CrIzYaTo7TU5yyyhiZ9P07O0NYbt9IBkPwGn\n",
       "OT5eOrpnkAEwBnxvviDRW04rbWxTYfULsZ96/8PyYfmw/Ess3qhjRbA68IFUvZQlTssO5XZzaAI9\n",
       "y26/aYz5hyrhXNE6Zk28i+XnK1imehM7+OooTFh+tic/XsAy1wH1QaXJ6wnLj983xqQyOQ505cpc\n",
       "B1R4NoaqQ8jZBYIc8heFNVCArOnddL/4KTxOGssDPY+zTZVYJKSiIRZv+Sl5owZ5oAMiXofKZidg\n",
       "nY3fJuVlTtuKhsAP+r5N26+rql91P5PLaZefrlWuSdfSjElzbpO4ZzogwrR2c7MTMFO0KCvRkOCD\n",
       "LLhor7m3VffTUGqE+GFYlD/XLLk9K1UTHTA+RdVubncCRo4OZSUaKv0tFpTVgKJjqOrpsV6QdUCt\n",
       "WeSyFjLVzmq1NNwJKG2LshYNTfgmC76z0NqL2FQ1lg1Lo708Y8kmYo9ZVqLht1kWu5CbXdzULqa3\n",
       "yzA+LjrAZifgeoytRMNvjjGS32LVyoq/ZPcuMaFlKXi2uCd9oANW0WCwE3Dr+71oSA/7foljvNH9\n",
       "VP5mieDoZvaqF6ZlGUR1aU8tTD7QAaEaebMTcBCTe9FwV0yGoV0oYzlD3HS/NCkEcOXB0uX8Ulh5\n",
       "zDvS5pWDmF+K8jzVAZWtauB6J+AoV3aiIVbDfN1OPvBQucQvU4O/+r2hm2g4nsP0S8fjxdfXsdD9\n",
       "ylknGsIwlED3LZHxAv/rWL4w529FQz+epune2yFsLks+wl+lbcvdr6kVDd2wO3Q9qPDJFf+Rbcxs\n",
       "WFbKzXeqvA0EveMx6rgXAd4QxWg9CtPkHVkULFHkf1BTUmz/aGGrAAAAAElFTkSuQmCC\n",
       "\" style=\"display:inline;vertical-align:middle;\" /></a>"
      ],
      "text/plain": [
       "{left:x, right:y, product:(x * y)}"
      ]
     },
     "execution_count": 79,
     "metadata": {},
     "output_type": "execute_result"
    }
   ],
   "source": [
    "from proveit import NamedExprs\n",
    "NamedExprs([('left',x), ('right',y), ('product',Multiply(x, y))])"
   ]
  },
  {
   "cell_type": "markdown",
   "metadata": {},
   "source": [
    "To produce a `NamedExprs` object, you must supply a list of (keyword, `Expression`) pairs.  The keywords must be strings, but can be any string desired.  When the **NamedExprs** is displayed, it will show each of these pairs in the order that they were originally provided."
   ]
  },
  {
   "cell_type": "markdown",
   "metadata": {},
   "source": [
    "<a name=\"ExprTuple\"></a>ExprTuple\n",
    "====================\n",
    "\n",
    "We have seen examples of `ExprTuple`s above.  On its own, it is simple.  It becomes more interesting when we discuss `Iter`s below."
   ]
  },
  {
   "cell_type": "code",
   "execution_count": 80,
   "metadata": {},
   "outputs": [
    {
     "data": {
      "text/html": [
       "<strong id=\"xy\">xy:</strong> <a class=\"ProveItLink\" href=\"__pv_it/09912770ce2e9f38355b68491a61d87f8a42e8820/expr.ipynb\"><img src=\"data:image/png;base64,iVBORw0KGgoAAAANSUhEUgAAACwAAAAVBAMAAADP3xFXAAAAMFBMVEX////c3NwiIiJERESqqqqY\n",
       "mJh2dnZmZmYQEBDu7u4yMjJUVFTMzMyIiIi6uroAAAAs73DqAAAAAXRSTlMAQObYZgAAAQtJREFU\n",
       "GNNjYMAB+C6gi7A+ABKnMVXWAPFKTGEuBgbeC5jCrAkMHBMwhTkbGF5hc4YJQxmQFLstch1i1rQy\n",
       "BsafDAzpDEuBehJYVTkUwMIJ7xl4PzAweDH0MTCwAZksB0CiPA5FDMwGDAwvGP4BVTNwG0DtYuhl\n",
       "4Acadx4kzMDAAXMly0+G8wdAwi0gnvwBBog72Rcw3GAAGWIKdL3AfQbeCWAJrgIGayAVBXQLg3+A\n",
       "BYMsA+cnkOoNfF8ZQA58xMAw+dq03AAGzn4BoJ221z8ChdcxcAjAQxjMYlMAex4YLLAAAuJNDDMc\n",
       "gFIXkAIWJKzGYAYkZwGxNEwY5Hbf66CY2QjEjBgBznuAAQAt5DtyKXSr1gAAAABJRU5ErkJggg==\n",
       "\" style=\"display:inline;vertical-align:middle;\" /></a><br>"
      ],
      "text/plain": [
       "xy: (x , y)"
      ]
     },
     "execution_count": 80,
     "metadata": {},
     "output_type": "execute_result"
    }
   ],
   "source": [
    "from proveit import ExprTuple\n",
    "xy = ExprTuple(x, y)"
   ]
  },
  {
   "cell_type": "code",
   "execution_count": 81,
   "metadata": {},
   "outputs": [
    {
     "data": {
      "text/html": [
       "<strong id=\"xyz\">xyz:</strong> <a class=\"ProveItLink\" href=\"__pv_it/7aa19ce438477f7d17aecded0ee3c81375181b1d0/expr.ipynb\"><img src=\"data:image/png;base64,iVBORw0KGgoAAAANSUhEUgAAAEAAAAAVBAMAAAAEBPWpAAAAMFBMVEX////c3NwiIiJERESqqqqY\n",
       "mJh2dnZmZmYQEBDu7u4yMjJUVFTMzMyIiIi6uroAAAAs73DqAAAAAXRSTlMAQObYZgAAAT1JREFU\n",
       "KM9jYCAI+C7glmN9ACRO49NdA8Qr8SngYmDgvYBPAWsCA8cEfAo4Gxhe4feCCUMZkBS7LXIdYtO0\n",
       "MgbGnxCpF32MQLF0hqVAcxJYVTkUwKIJ7xl4P4BZjKbXi4GUF0MfAwMbUJDlAEiUx6GIgdkAYjsD\n",
       "506QOQz/QGxuA6ibGHoZ+GHekgYR50EKGBg4YIIsPxnOH4CGcAFEQQuIkj/AAPEt+wKGG1C1bhCn\n",
       "MpgCQ0PgPgPvBLASrgIGawYwiyWBgRtIRQH9weAfYMEgy8D5CWTCBr6vENap8NB1DCBvPmJgmHxt\n",
       "Wm4AA2e/ANCVttc/QlgFrD8cgArWMXAIwOMdzGJTgLGgQQ2MDljEAPEmhhkOEBYEsF1Aim6QsBqD\n",
       "GQOyglmw8AABUFj4Xn8AZUHARlCg40kQvAcYAIc5SE6AwGiIAAAAAElFTkSuQmCC\n",
       "\" style=\"display:inline;vertical-align:middle;\" /></a><br>"
      ],
      "text/plain": [
       "xyz: (x , y , z)"
      ]
     },
     "execution_count": 81,
     "metadata": {},
     "output_type": "execute_result"
    }
   ],
   "source": [
    "xyz = ExprTuple(x, y, z)"
   ]
  },
  {
   "cell_type": "markdown",
   "metadata": {},
   "source": [
    "Substitution is straightforward:"
   ]
  },
  {
   "cell_type": "code",
   "execution_count": 82,
   "metadata": {},
   "outputs": [
    {
     "data": {
      "text/html": [
       "<a class=\"ProveItLink\" href=\"__pv_it/9ddd9d0945cc56449b04f36d86f6ec098ed73fa30/expr.ipynb\"><img src=\"data:image/png;base64,iVBORw0KGgoAAAANSUhEUgAAAKIAAAAVBAMAAAA3EyjlAAAAMFBMVEX////c3NwiIiJERESqqqqY\n",
       "mJh2dnZmZmYQEBDu7u4yMjJUVFTMzMyIiIi6uroAAAAs73DqAAAAAXRSTlMAQObYZgAAAmpJREFU\n",
       "OMutVE1oE0EU/oYkm2zbTUOQIEoxCOqlhx5UFBVyFLEYPXjoaQ9i9VAIHoqghfhzkVK7IBTpxVyK\n",
       "FKRuFL0p8aTFQ3LRKFq6eBJRtEKFlpL65s1ukpXMYcGB3e/Nmzffe2/emwH+/0g3NAs/orAkvA68\n",
       "1dgMuL20C06u0NP8OmDeYsCihrHP6aWd3f6jMQfENoOlS3qlp/bh85ombRvmb4aUo2G801Pr6g7S\n",
       "LAObDN90Bat0p0SBiUo34yP6doU2HASmGSbpn/u0o6mSn5uE2GApaRPJRHV0Sk7EMJDldF+svORl\n",
       "mkklDbLDG6rWOHAAEhYoUjuxL5VXyz9h/VJhFYkf54o3fQJ//1E88HwfyoWVod9Ooj0FHIaEu4BB\n",
       "LHFeHihcQWyEt6Y86X4Vp6EIskFF+svKxyvlwgAcWOT+K/AMEloUI/pH/OPFDAZV/oOeNH0anFJ2\n",
       "OJCMLeVjr3LxXRYjQXIduAAJLQ4oaKH4Buq1NiPIQZgxlofRCjHaiLsyUMn4meG2VO+pQTVRsoIP\n",
       "iiIlr4bYorC7s6bjTq6Fsia6AnKcLpYZDlFXZlZhOczZV8IxsBSjozlLVfoYqkySTCqhyhxH3RPy\n",
       "3o2pSMZk0c8Uj2CIOx5JN72uJKOE+HqsLBqh7hElnMyEuudSc3rmaoHbhveN4wtw7/3cRBHmLJma\n",
       "J5prSkrnaXL54rt/Ovz1tWq4w+c3lx8vSWGJXwqCVKZ9S1gy8r50I9qjaJYDSNjtu07fE9wvKAnn\n",
       "ozEajTYsdjPu575P6F8z7ZjvwO5AJ52MNj1fgnAjMVY7IHQP5FAUQqsWwF+4EqK+aoBkJAAAAABJ\n",
       "RU5ErkJggg==\n",
       "\" style=\"display:inline;vertical-align:middle;\" /></a>"
      ],
      "text/plain": [
       "(x , y , (x * 5 * omega)!)"
      ]
     },
     "execution_count": 82,
     "metadata": {},
     "output_type": "execute_result"
    }
   ],
   "source": [
    "fancyList = xyz.substituted({z:nestedOperation})\n",
    "fancyList"
   ]
  },
  {
   "cell_type": "code",
   "execution_count": 83,
   "metadata": {},
   "outputs": [
    {
     "data": {
      "text/html": [
       "<a class=\"ProveItLink\" href=\"__pv_it/0045d6045e526d6ce49eeaf82278d665584df5dc0/expr.ipynb\"><img src=\"data:image/png;base64,iVBORw0KGgoAAAANSUhEUgAAAWQAAAAVBAMAAACDPInDAAAAMFBMVEX////c3NwiIiJERESqqqqY\n",
       "mJh2dnZmZmYQEBDu7u4yMjJUVFTMzMyIiIi6uroAAAAs73DqAAAAAXRSTlMAQObYZgAAA05JREFU\n",
       "SMfVVk1oE0EU/rZJNrtNNoYiVSrSIIiXHsQ/FDzkKHpoToIisohQDxZ70mJFqxYvpXWhIKGX5lKk\n",
       "Utp4UAqirCBo8dB40B7a0OhJimD04KHUxjczm3Sn+bHJxoMDb/bl5Zvvzcyb92aA/7BFMkK23y7+\n",
       "Y6Ja2ECOuveOlLXWc8rliqODNpA8WGZuDtGk1R6vhtXvA7dIn3KkrGmFgll5xSmgM19mbQ7Rw8Kv\n",
       "qlilQOsHjIyQCpszcLVKkM4CE7GtxiYRPX5uV8XqP+lkmNAscClvoarnKgnsSJXtZXOI0jWwWKNp\n",
       "D2KVtFX3X9MkHW5PrbRsRSL2xaGVUXsiKmFLU960bGIxTN8juE49k/alnYs8rG02lC7uKbvE0pP/\n",
       "auPRUknCQ/TtQ0sf59F7THSKrfVEVMLiZfYVZAvLg3dxhsUBUnswybKUfJuB/VrMIRa8PkvfcEY7\n",
       "gz+wvx8A/hR8IqHUSB4rTqp7ISphcQITOcliRKnbbTIsjpF6GqPUj7J1G3m/GNT2uqsYjDmI0Q6d\n",
       "CR34SNV3EKEEt7wJxnBYYL0RubChQclCEbFgJBgWz+j3V7D1k+gIFQuksq+Us9cc32JwxGY5cIFi\n",
       "mocqiqelZfBbYL0RubDqumT5xjIuYDMsWHlfKHqibM9s8XSIPOXcnmi9Z/jRotGG46HbCq9LU26Q\n",
       "qIj1xaBuSBY6Emk2gk15mU+ZkoALOm1YUkTuAXei7niG2DIVk8cz7JSzmzBEHD0SFbGUBsEfkiXN\n",
       "AtHOsZjnB+Mo9SSB6AoMSzr3lKFPpKzx2eENdBAowCuVzis/fGmhNU7kxgapFqYky0ks5JSpTex5\n",
       "qhmsbqA7cRx75eqyC/67Um1SR/rnFtlGUr2hS4vfWwP4nhBa40RurNKHU1HJcmVxeKQ/zrHs9iMf\n",
       "X6gnGfv0qDch1/DwjRdR6QbQZ6fH19ihbM2x10ySBXAsSzHnWuNE0sXxduCpPHp8bX52RmDZswgz\n",
       "0IhNi9b3Xk2Kz2feX3I0D0T1YFn5MPlTo67WKz60maGYPiQ0L0T1YNVMjTdj1aanSlNuMfntlaj5\n",
       "+PwrUT3YcZI9jmy/hUT4DRJ/9rajeSCqC8tOupIRsv22XNncNKJaWLp5/gA5Skjn5trLhgAAAABJ\n",
       "RU5ErkJggg==\n",
       "\" style=\"display:inline;vertical-align:middle;\" /></a>"
      ],
      "text/plain": [
       "((x * 5 * omega)! , y , ((x * 5 * omega)! * 5 * omega)!)"
      ]
     },
     "execution_count": 83,
     "metadata": {},
     "output_type": "execute_result"
    }
   ],
   "source": [
    "# Let's keep it up\n",
    "fancierList = fancyList.substituted({x:nestedOperation})\n",
    "fancierList"
   ]
  },
  {
   "cell_type": "markdown",
   "metadata": {},
   "source": [
    "Nesting `ExprTuple`s is possible:"
   ]
  },
  {
   "cell_type": "code",
   "execution_count": 84,
   "metadata": {},
   "outputs": [
    {
     "data": {
      "text/html": [
       "<a class=\"ProveItLink\" href=\"__pv_it/f0b5f81d7215760ba17fb6f7b0c1218bc292a6ee0/expr.ipynb\"><img src=\"data:image/png;base64,iVBORw0KGgoAAAANSUhEUgAAAFAAAAAVBAMAAAAjqnRBAAAAMFBMVEX////c3NwiIiJERESqqqqY\n",
       "mJh2dnZmZmYQEBDu7u4yMjJUVFTMzMyIiIi6uroAAAAs73DqAAAAAXRSTlMAQObYZgAAAYNJREFU\n",
       "KM+NkjtIA0EQhv8jufMu70JsQjCN1imMCCKkshDENCpYpbMSgkIqCwUbC2NACGKVxiJNiHZ2qbVI\n",
       "Kk8QMViJID5AME1wdnbPZHMWLnx7++/Ozc5jgX+PWEeTr6PnZleCG2070vR52lXUtd1QxWcYkkT1\n",
       "mx/8sZkFxtZdHPoNnT3mRc+s9ke6M0yJ5on7cVdGMEbXVEswetLkuWzQ/iYE5+S3YE7ZaRl4Hii8\n",
       "IfrOysi6O/RZYsqARQfBFh/ZXURy2whkZHRwroRfpi90OKPCiXdJHSHulSIppjbTZ0edgSGCPbRb\n",
       "KrfiwPBALCdbkFWyc5RQDXfqv0WZEpOlaiYeEa2waYCSCRUxD1bBAsL02WAo95X8HFJwPklbdNdY\n",
       "M/Yl1fX6agNeeZ6Ak9vqVh7OcYKCoio5C+6HVEXzm0JBg7ETv10Rq32xstJKDbdQtFw1X0xrwCVO\n",
       "c0rxsDqSumZIz2wasxg2PFMkvQ2updHEstv1FI8LhaE/yNTo24m2mB/3kV88f8uVXAAAAABJRU5E\n",
       "rkJggg==\n",
       "\" style=\"display:inline;vertical-align:middle;\" /></a>"
      ],
      "text/plain": [
       "(x , (y , z))"
      ]
     },
     "execution_count": 84,
     "metadata": {},
     "output_type": "execute_result"
    }
   ],
   "source": [
    "ExprTuple(x, ExprTuple(y, z))"
   ]
  },
  {
   "cell_type": "markdown",
   "metadata": {},
   "source": [
    "It is also useful to note that, as a convenience, python lists of **expressions** are typically transformed automatically into an `ExprTuple` when they are passed into **Prove-It** methods that accept or expect them for that argument.  For example, the following generates the same **expression** as above."
   ]
  },
  {
   "cell_type": "code",
   "execution_count": 85,
   "metadata": {},
   "outputs": [
    {
     "data": {
      "text/html": [
       "<a class=\"ProveItLink\" href=\"__pv_it/f0b5f81d7215760ba17fb6f7b0c1218bc292a6ee0/expr.ipynb\"><img src=\"data:image/png;base64,iVBORw0KGgoAAAANSUhEUgAAAFAAAAAVBAMAAAAjqnRBAAAAMFBMVEX////c3NwiIiJERESqqqqY\n",
       "mJh2dnZmZmYQEBDu7u4yMjJUVFTMzMyIiIi6uroAAAAs73DqAAAAAXRSTlMAQObYZgAAAYNJREFU\n",
       "KM+NkjtIA0EQhv8jufMu70JsQjCN1imMCCKkshDENCpYpbMSgkIqCwUbC2NACGKVxiJNiHZ2qbVI\n",
       "Kk8QMViJID5AME1wdnbPZHMWLnx7++/Ozc5jgX+PWEeTr6PnZleCG2070vR52lXUtd1QxWcYkkT1\n",
       "mx/8sZkFxtZdHPoNnT3mRc+s9ke6M0yJ5on7cVdGMEbXVEswetLkuWzQ/iYE5+S3YE7ZaRl4Hii8\n",
       "IfrOysi6O/RZYsqARQfBFh/ZXURy2whkZHRwroRfpi90OKPCiXdJHSHulSIppjbTZ0edgSGCPbRb\n",
       "KrfiwPBALCdbkFWyc5RQDXfqv0WZEpOlaiYeEa2waYCSCRUxD1bBAsL02WAo95X8HFJwPklbdNdY\n",
       "M/Yl1fX6agNeeZ6Ak9vqVh7OcYKCoio5C+6HVEXzm0JBg7ETv10Rq32xstJKDbdQtFw1X0xrwCVO\n",
       "c0rxsDqSumZIz2wasxg2PFMkvQ2updHEstv1FI8LhaE/yNTo24m2mB/3kV88f8uVXAAAAABJRU5E\n",
       "rkJggg==\n",
       "\" style=\"display:inline;vertical-align:middle;\" /></a>"
      ],
      "text/plain": [
       "(x , (y , z))"
      ]
     },
     "execution_count": 85,
     "metadata": {},
     "output_type": "execute_result"
    }
   ],
   "source": [
    "ExprTuple(x, [y, z])"
   ]
  },
  {
   "cell_type": "markdown",
   "metadata": {},
   "source": [
    "<a name=\"AdvancedExprs\"></a>Advanced Expressions\n",
    "====================\n",
    "\n",
    "More advanced types of expressions will be discussed in a <a href=\"tutorial10_advanced_expr.ipynb\">later chapter</a>.  These advanced expressions allow multi-dimensional representations of mathematical structure (for example, explicit matrix representations or quantum circuits) via the <a href=\"tutorial10_advanced_expr.ipynb#ExprT?ensor\">`ExprArray`</a> type as well as iterated ranges within lists or tensors via the <a href=\"tutorial10_advanced_expr.ipynb#ExprArray\">`Iter`</a> type (e.g., $x_1 +~\\ldots~+ x_n$).  These advanced expression types are useful in forming explicit representations commonly used to communicate mathematical concepts.  They are not necessary, however, in general theorem proving.  One could choose not to use such constructs and only represent such concepts via implicit representations and recursion.  Following the **Prove-It** philosophy, however, we want to allow the use of explicit representation tied as directly as possible into our formal proofs.  But we will skip these for now so we can cover our theorem proving concepts without this extra complication."
   ]
  },
  {
   "cell_type": "code",
   "execution_count": 86,
   "metadata": {},
   "outputs": [],
   "source": [
    "%end basic_expressions"
   ]
  },
  {
   "cell_type": "markdown",
   "metadata": {},
   "source": [
    "# Next chapter: <a class=\"ProveItLink\" href=\"tutorial02_proof_basics.ipynb\">Proof Basics</a>\n",
    "\n",
    "## <a class=\"ProveItLink\" href=\"tutorial00_introduction.ipynb#contents\">Table of Contents</a>"
   ]
  }
 ],
 "metadata": {
  "kernelspec": {
   "display_name": "Python 3",
   "language": "python",
   "name": "python3"
  }
 },
 "nbformat": 4,
 "nbformat_minor": 0
}
