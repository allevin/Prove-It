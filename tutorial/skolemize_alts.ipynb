{
 "cells": [
  {
   "cell_type": "markdown",
   "metadata": {},
   "source": [
    "Alternative Skolemization Ideas\n",
    "==================\n",
    "\n",
    "UNDER CONSTRUCTION\n",
    "\n",
    "This is a temporary notebook for exploring issues related to a skolemize() method for KnownTruth objects, in particular for known truths involving universal ($\\forall$) and existential ($\\exists$) quantifiers, with skolemization eventually being part of a more general instantiation or specialization method.\n",
    "\n",
    "The notebook was generated initially as a copy of the Forall tutorial notebook, and thus while under construction many of the cells and other elements of the original notebook remain.\n",
    "\n",
    "We import some necessary information then consider an example of a `Forall` object like $\\forall_{x \\,\\in\\, S \\,|\\, Q(x), R(x)} P(x)$:"
   ]
  },
  {
   "cell_type": "code",
   "execution_count": null,
   "metadata": {},
   "outputs": [],
   "source": [
    "from proveit import Function, ExprList, Lambda, Literal\n",
    "from proveit.logic import Forall, Exists, InSet, Equals\n",
    "from proveit.logic.equality._axioms_ import substitution\n",
    "from proveit.number import Less, Add, Frac, zero\n",
    "from proveit._common_ import a, b, c, f, x, y, z, fx, P, Px, Pxy, Q, Qx, R, Rx, Ry, S, t, T\n",
    "%begin skolemization_explorations"
   ]
  },
  {
   "cell_type": "code",
   "execution_count": 1,
   "metadata": {},
   "outputs": [],
   "source": [
    "# intended to operate on expression, not full known truth\n",
    "# an initial effort to allow skolemization of nested Exists expressions\n",
    "# and allow skipping over Exists in the nesting\n",
    "# see skolemize3 and skolemizeHelper for further inroads to the problem\n",
    "# using a recursive approach\n",
    "def skolemize2(inputExpr, skMap, nonSkVars=set()):\n",
    "    from proveit.logic import Exists\n",
    "    setOfResults = [inputExpr]\n",
    "    print(\"setOfResults = \", setOfResults)\n",
    "    print(\"len(setOfResults) = \", len(setOfResults))\n",
    "    \n",
    "    while len(skMap)>0:\n",
    "        tempResults = []\n",
    "        # currentSkMapping = {}\n",
    "        for theExpr in setOfResults:\n",
    "    \n",
    "            # check if outer expression is an Exists operation\n",
    "            if isinstance(theExpr, Exists):\n",
    "                print(\"1 Input was an Exists operation.\")\n",
    "                print(\"    1.1 the input was theExpr = \", theExpr)\n",
    "                tempInstanceVar = theExpr.instanceVar\n",
    "                print(\"    1.2 with tempInstanceVar = \", tempInstanceVar)\n",
    "                \n",
    "                # check if skolemization appropriate\n",
    "                # i.e. if instance variable appears in skMap as a key\n",
    "                if tempInstanceVar in skMap:\n",
    "                    print(\"    1.3 Found the instanceVar as a key in the map!\")\n",
    "                    # perform skolemization\n",
    "                    tempInstanceExpr = theExpr.instanceExpr\n",
    "                    print(\"        theExpr.tempInstanceExpr = \", tempInstanceExpr)\n",
    "                    tempInstanceExprSubbed = tempInstanceExpr.substituted({tempInstanceVar:skMap[tempInstanceVar]})\n",
    "                    print(\"        tempInstanceExprSubbed = \", tempInstanceExprSubbed)\n",
    "                    tempResults.append(tempInstanceExprSubbed)\n",
    "                    print(\"        tempResults = \", tempResults)\n",
    "                    tempConditions = theExpr.conditions\n",
    "                    print(\"        tempConditions = \", tempConditions)\n",
    "                    tempConditionsSubbed = []\n",
    "                    tempConditionsCompletelySubbed = []\n",
    "                    tempConditionsIncompletelySubbed = []\n",
    "                    for oldExpr in tempConditions:\n",
    "                        # interestingly here: the subbed conditions will not necessarily reduce to \n",
    "                        # completely skolemized conditions, and thus must be checked\n",
    "                        # if completely skolemized, then continue as originally planned, appending\n",
    "                        # them to the tempResults;\n",
    "                        # if not completely skolemized, hold them separately in another list\n",
    "                        # which will eventually need to be used in the “else” portion below\n",
    "                        # can eventually delete the next line\n",
    "                        newExpr = oldExpr.substituted({tempInstanceVar:skMap[tempInstanceVar]})\n",
    "                        # check if vars in newExpr include any vars in nonSkVars\n",
    "                        print(\"        vars appearing in newExpr = \", newExpr.freeVars())\n",
    "                        print(\"        vars appearing in nonSkVars = \", nonSkVars)\n",
    "                        print(\"        vars in intersection: \", nonSkVars.intersection(newExpr.freeVars()))\n",
    "                        tempIntersection = nonSkVars.intersection(newExpr.freeVars())\n",
    "                        if len(tempIntersection)==0:\n",
    "                            tempConditionsCompletelySubbed.append(newExpr)\n",
    "                        else:\n",
    "                            tempConditionsIncompletelySubbed.append(newExpr)\n",
    "                            \n",
    "                        tempConditionsSubbed.append(oldExpr.substituted({tempInstanceVar:skMap[tempInstanceVar]}))\n",
    "                        # the following used to produce flat list\n",
    "                        tempResults.append(oldExpr.substituted({tempInstanceVar:skMap[tempInstanceVar]}))\n",
    "                        \n",
    "                    print(\"        tempConditionsCompletelySubbed = \", tempConditionsCompletelySubbed)\n",
    "                    print(\"        tempConditionsIncompletelySubbed = \", tempConditionsIncompletelySubbed)\n",
    "                    # we make a list of lists, consisting of the\n",
    "                    # instanceExpressionSubbed, tempConditionsCompletelySubbed, tempConditionsIncompletelySubbed\n",
    "                    # tempResults.append(tempConditionsCompletelySubbed)\n",
    "                    # tempResults.append(tempConditionsIncompletelySubbed)\n",
    "                    print(\"        tempResults = \", tempResults)\n",
    "                    # remove the Skolem constant from the skMap\n",
    "                    del skMap[tempInstanceVar]\n",
    "                    print(\"        skMap now = \", skMap)\n",
    "                    # setOfResults = tempResults\n",
    "                    print(\"        tempResults now = \", tempResults)\n",
    "                    \n",
    "                else:\n",
    "                    print(\"    1.4 Did NOT find the instanceVar as a key in the map!\")\n",
    "                    nonSkVars.add(tempInstanceVar) # adding to a SET\n",
    "                    # try constructing the input expression around an attempted\n",
    "                    # skolemization on an inner expression (if it exists)\n",
    "                    tempInstanceExpr = theExpr.instanceExpr\n",
    "                    print(\"        tempInstanceExpr = \", tempInstanceExpr)\n",
    "                    # for testing; delete the following line later\n",
    "                    # print(\"    1.4 skolomize2() = \", skolemize2(tempInstanceExpr, skMap))\n",
    "                    tempSkolemizeResult = skolemize2(tempInstanceExpr, skMap, nonSkVars)\n",
    "                    print(\"    1.4 skolomize2() = \", tempSkolemizeResult)\n",
    "                    A = tempSkolemizeResult[0]  # the 1st item\n",
    "                    B = tempSkolemizeResult[1:] # all other items\n",
    "                    print(\"        A = \", A)\n",
    "                    print(\"        B = \", B)\n",
    "                    print(\"        just after A, B, tempResults = \", tempResults)\n",
    "                    tempConstructed = Exists(theExpr.instanceVar,\n",
    "                                             A,\n",
    "                                             conditions=theExpr.conditions)\n",
    "                    print(\"        tempConstructed = \", tempConstructed)\n",
    "                    tempResults.append(tempConstructed)\n",
    "                    print(\"        tempResults = \", tempResults)\n",
    "                    tempResults.extend(B)\n",
    "                    print(\"        tempResults = \", tempResults)\n",
    "                    \n",
    "\n",
    "            else:\n",
    "                print(\"2 Input was NOT an Exists operation.\")\n",
    "                print(\"    2.1 input was theExpr = \", theExpr)\n",
    "                tempResults.append(theExpr) # perhaps we need to acknowledge a possible substitution?\n",
    "                print(\"    2.2 tempResults = \", tempResults)\n",
    "        \n",
    "        # end for loop\n",
    "\n",
    "        setOfResults = tempResults\n",
    "    \n",
    "    # end while loop\n",
    "    \n",
    "    print(\"Returning from skolomize2 call, setOfResults = \", setOfResults)\n",
    "    return setOfResults"
   ]
  },
  {
   "cell_type": "code",
   "execution_count": 2,
   "metadata": {},
   "outputs": [],
   "source": [
    "def skolemize3(inputExpr, skMap):\n",
    "    '''\n",
    "    inputExpr should be an Exists or nested Exists expressions;\n",
    "    skMap is a dictionary of the form {x:La, y:Lb, ...} specifying\n",
    "    the desired mapping(s) from Exists instance variable(s) to\n",
    "    constant Literal(s).\n",
    "    This is part of an extended version of skolemize meant to allow\n",
    "    processing of nested Exists expressions and the possible skipping\n",
    "    over of items in the nesting. This is a recursive approach that\n",
    "    uses the skolemizeHelper() function.\n",
    "    '''\n",
    "    \n",
    "    # from proveit.logic import Exists\n",
    "    setOfResults = [inputExpr]\n",
    "\n",
    "    while len(skMap)>0:\n",
    "        tempResults = skolemizeHelper(setOfResults, skMap)\n",
    "        setOfResults = [tempResults[0], *tempResults[1]]\n",
    "        skMap = tempResults[3]\n",
    "    # end while loop\n",
    "\n",
    "    return setOfResults"
   ]
  },
  {
   "cell_type": "code",
   "execution_count": 3,
   "metadata": {},
   "outputs": [],
   "source": [
    "def skolemizeHelper(setOfResults, skMap, nonSkVars=set()):\n",
    "    '''\n",
    "    used by skolemize3() function to perform a recursive skolemization\n",
    "    on a possibly nested sequence of Exists functions where we might also\n",
    "    want to skip over some of the nested Exists and skolemize just some\n",
    "    subset\n",
    "    '''\n",
    "    \n",
    "    from proveit.logic import Exists\n",
    "    \n",
    "    tempResults = []\n",
    "    tempConditionsCompletelySubbed = []\n",
    "    tempConditionsIncompletelySubbed = []\n",
    "    \n",
    "    for theExpr in setOfResults:\n",
    "\n",
    "        # check if outer expression is an Exists operation\n",
    "        if isinstance(theExpr, Exists):\n",
    "            tempInstanceVar = theExpr.instanceVar\n",
    "\n",
    "            # check if skolemization appropriate\n",
    "            # i.e. if instance variable appears in skMap as a key\n",
    "            if tempInstanceVar in skMap:\n",
    "                # perform skolemization\n",
    "                tempInstanceExpr = theExpr.instanceExpr\n",
    "                tempInstanceExprSubbed = tempInstanceExpr.substituted({tempInstanceVar:skMap[tempInstanceVar]})\n",
    "                tempResults.append(tempInstanceExprSubbed)\n",
    "                tempConditions = theExpr.conditions\n",
    "                tempConditionsSubbed = []\n",
    "                for oldExpr in tempConditions:\n",
    "                    # Notice that any resulting subbed conditions will not necessarily reduce to \n",
    "                    # completely Skolemized conditions, and thus must be checked.\n",
    "                    # If completely skolemized, append them to the completely subbed conditions;\n",
    "                    # if not completely skolemized, hold them in the separate incompletely\n",
    "                    # subbed conditions list which will eventually need to be used in the “else”\n",
    "                    # portion below\n",
    "                    newExpr = oldExpr.substituted({tempInstanceVar:skMap[tempInstanceVar]})\n",
    "                    # check if vars in newExpr include any vars in nonSkVars\n",
    "                    tempIntersection = nonSkVars.intersection(newExpr.freeVars())\n",
    "                    if len(tempIntersection)==0:\n",
    "                        tempConditionsCompletelySubbed.append(newExpr)\n",
    "                    else:\n",
    "                        tempConditionsIncompletelySubbed.append(newExpr)\n",
    "\n",
    "                    # probably don't need following line anymore\n",
    "                    # tempConditionsSubbed.append(oldExpr.substituted({tempInstanceVar:skMap[tempInstanceVar]}))\n",
    "\n",
    "                # remove the Skolem constant from the skMap\n",
    "                del skMap[tempInstanceVar]\n",
    "\n",
    "            else:\n",
    "                nonSkVars.add(tempInstanceVar) # adding to a SET\n",
    "                # try constructing the input expression around an attempted\n",
    "                # skolemization on an inner expression (if it exists)\n",
    "                tempInstanceExpr = theExpr.instanceExpr\n",
    "                tempSkolemizeResult = skolemizeHelper([tempInstanceExpr], skMap, nonSkVars)\n",
    "                A = tempSkolemizeResult[0]  # the 1st item\n",
    "                B = tempSkolemizeResult[1]  # completely subbed conditions\n",
    "                C = tempSkolemizeResult[2]  # incompletely subbed conditions\n",
    "                if len(C) != 0:\n",
    "                    theExprConditions = ExprList(*theExpr.conditions, *C)\n",
    "                else:\n",
    "                    theExprConditions = theExpr.conditions\n",
    "                tempConstructed = Exists(theExpr.instanceVar,\n",
    "                                         A,\n",
    "                                         conditions=theExprConditions)\n",
    "                tempResults.append(tempConstructed)\n",
    "                # tempResults.append(B)\n",
    "                tempConditionsCompletelySubbed.append(B)\n",
    "\n",
    "\n",
    "        else:\n",
    "            # tempResults.append(theExpr) # perhaps we need to acknowledge a possible substitution?\n",
    "            # instead, pop them back into the tempConditionsCompletelySubbed set\n",
    "            tempConditionsCompletelySubbed.append(theExpr)\n",
    "\n",
    "    # end for loop\n",
    "    \n",
    "    # we compile the results, consisting of the\n",
    "    # instanceExpressionSubbed, tempConditionsCompletelySubbed,\n",
    "    # tempConditionsIncompletelySubbed, and the (possibly modified) skMap\n",
    "    tempResults.append(tempConditionsCompletelySubbed)\n",
    "    tempResults.append(tempConditionsIncompletelySubbed)\n",
    "    tempResults.append(skMap)\n",
    "\n",
    "    return tempResults"
   ]
  },
  {
   "cell_type": "code",
   "execution_count": 46,
   "metadata": {},
   "outputs": [
    {
     "data": {
      "text/html": [
       "<strong id=\"basicThereExistsExpr00\">basicThereExistsExpr00:</strong> <a class=\"ProveItLink\" href=\"__pv_it/d4ccef0ee95df789ab54a4ff4fc6b20ea2cb9fbf0/expr.ipynb\"><img src=\"__pv_it/d4ccef0ee95df789ab54a4ff4fc6b20ea2cb9fbf0/expr.png\" style=\"display:inline;vertical-align:middle;\" /></a><br>"
      ],
      "text/plain": [
       "basicThereExistsExpr00: exists_{x} P(x)"
      ]
     },
     "execution_count": 46,
     "metadata": {},
     "output_type": "execute_result"
    }
   ],
   "source": [
    "basicThereExistsExpr00 = Exists(x, Px)"
   ]
  },
  {
   "cell_type": "code",
   "execution_count": 47,
   "metadata": {},
   "outputs": [
    {
     "data": {
      "text/html": [
       "<strong id=\"basicThereExistsExpr00KT\">basicThereExistsExpr00KT:</strong> <span style=\"font-size:20px;\"><a class=\"ProveItLink\" href=\"__pv_it/107234af7e43a502874f0f2b7c6f383e7621dd960/expr.ipynb\"><img src=\"__pv_it/107234af7e43a502874f0f2b7c6f383e7621dd960/expr.png\" style=\"display:inline;vertical-align:middle;\" /></a> &#x22A2;&nbsp;<a class=\"ProveItLink\" href=\"__pv_it/d4ccef0ee95df789ab54a4ff4fc6b20ea2cb9fbf0/expr.ipynb\"><img src=\"__pv_it/d4ccef0ee95df789ab54a4ff4fc6b20ea2cb9fbf0/expr.png\" style=\"display:inline;vertical-align:middle;\" /></a></span><br>"
      ],
      "text/plain": [
       "basicThereExistsExpr00KT: {exists_{x} P(x)} |- exists_{x} P(x)"
      ]
     },
     "execution_count": 47,
     "metadata": {},
     "output_type": "execute_result"
    }
   ],
   "source": [
    "basicThereExistsExpr00KT = basicThereExistsExpr00.prove(assumptions={basicThereExistsExpr00})"
   ]
  },
  {
   "cell_type": "code",
   "execution_count": 48,
   "metadata": {},
   "outputs": [
    {
     "data": {
      "text/html": [
       "<strong id=\"basicThereExistsExpr01\">basicThereExistsExpr01:</strong> <a class=\"ProveItLink\" href=\"__pv_it/11291b09019345a9e54a72fa3716278b269968a20/expr.ipynb\"><img src=\"__pv_it/11291b09019345a9e54a72fa3716278b269968a20/expr.png\" style=\"display:inline;vertical-align:middle;\" /></a><br>"
      ],
      "text/plain": [
       "basicThereExistsExpr01: exists_{x in S | Q(x)} P(x)"
      ]
     },
     "execution_count": 48,
     "metadata": {},
     "output_type": "execute_result"
    }
   ],
   "source": [
    "basicThereExistsExpr01 = Exists(x, Px, conditions=[Qx], domain=S)"
   ]
  },
  {
   "cell_type": "code",
   "execution_count": 49,
   "metadata": {},
   "outputs": [
    {
     "data": {
      "text/html": [
       "<strong id=\"basicThereExistsExpr01KT\">basicThereExistsExpr01KT:</strong> <span style=\"font-size:20px;\"><a class=\"ProveItLink\" href=\"__pv_it/954cee1c4073f510d0948b56ad1440c2b496228a0/expr.ipynb\"><img src=\"__pv_it/954cee1c4073f510d0948b56ad1440c2b496228a0/expr.png\" style=\"display:inline;vertical-align:middle;\" /></a> &#x22A2;&nbsp;<a class=\"ProveItLink\" href=\"__pv_it/11291b09019345a9e54a72fa3716278b269968a20/expr.ipynb\"><img src=\"__pv_it/11291b09019345a9e54a72fa3716278b269968a20/expr.png\" style=\"display:inline;vertical-align:middle;\" /></a></span><br>"
      ],
      "text/plain": [
       "basicThereExistsExpr01KT: {exists_{x in S | Q(x)} P(x)} |- exists_{x in S | Q(x)} P(x)"
      ]
     },
     "execution_count": 49,
     "metadata": {},
     "output_type": "execute_result"
    }
   ],
   "source": [
    "basicThereExistsExpr01KT = basicThereExistsExpr01.prove(assumptions={basicThereExistsExpr01})"
   ]
  },
  {
   "cell_type": "code",
   "execution_count": 50,
   "metadata": {},
   "outputs": [
    {
     "data": {
      "text/html": [
       "<strong id=\"basicThereExistsExpr02\">basicThereExistsExpr02:</strong> <a class=\"ProveItLink\" href=\"__pv_it/7d58c403737a339ebc09833c6f006c6af30cb7300/expr.ipynb\"><img src=\"__pv_it/7d58c403737a339ebc09833c6f006c6af30cb7300/expr.png\" style=\"display:inline;vertical-align:middle;\" /></a><br>"
      ],
      "text/plain": [
       "basicThereExistsExpr02: exists_{x, y in S | Q(x) , R(y)} P(x , y)"
      ]
     },
     "execution_count": 50,
     "metadata": {},
     "output_type": "execute_result"
    }
   ],
   "source": [
    "basicThereExistsExpr02 = Exists([x, y], Pxy, conditions=[Qx, Ry], domain=S)"
   ]
  },
  {
   "cell_type": "code",
   "execution_count": 51,
   "metadata": {},
   "outputs": [
    {
     "data": {
      "text/html": [
       "<strong id=\"basicThereExistsExpr02KT\">basicThereExistsExpr02KT:</strong> <span style=\"font-size:20px;\"><a class=\"ProveItLink\" href=\"__pv_it/bbf1011ee15f6385948117e235a8c8b6f6351f0c0/expr.ipynb\"><img src=\"__pv_it/bbf1011ee15f6385948117e235a8c8b6f6351f0c0/expr.png\" style=\"display:inline;vertical-align:middle;\" /></a> &#x22A2;&nbsp;<a class=\"ProveItLink\" href=\"__pv_it/7d58c403737a339ebc09833c6f006c6af30cb7300/expr.ipynb\"><img src=\"__pv_it/7d58c403737a339ebc09833c6f006c6af30cb7300/expr.png\" style=\"display:inline;vertical-align:middle;\" /></a></span><br>"
      ],
      "text/plain": [
       "basicThereExistsExpr02KT: {exists_{x, y in S | Q(x) , R(y)} P(x , y)} |- exists_{x, y in S | Q(x) , R(y)} P(x , y)"
      ]
     },
     "execution_count": 51,
     "metadata": {},
     "output_type": "execute_result"
    }
   ],
   "source": [
    "basicThereExistsExpr02KT = basicThereExistsExpr02.prove(assumptions = {basicThereExistsExpr02} )"
   ]
  },
  {
   "cell_type": "code",
   "execution_count": 52,
   "metadata": {},
   "outputs": [
    {
     "data": {
      "text/html": [
       "<strong id=\"basicThereExistsExpr03\">basicThereExistsExpr03:</strong> <a class=\"ProveItLink\" href=\"__pv_it/34cf482ba9d190d710555d841ecdbd9b9fc171570/expr.ipynb\"><img src=\"__pv_it/34cf482ba9d190d710555d841ecdbd9b9fc171570/expr.png\" style=\"display:inline;vertical-align:middle;\" /></a><br>"
      ],
      "text/plain": [
       "basicThereExistsExpr03: exists_{x, y in S | T(x , y) , Q(x) , R(y)} P(x , y)"
      ]
     },
     "execution_count": 52,
     "metadata": {},
     "output_type": "execute_result"
    }
   ],
   "source": [
    "Txy = Function(T, {x, y})\n",
    "basicThereExistsExpr03 = Exists([x, y], Pxy, conditions=[Txy, Qx, Ry], domain=S)"
   ]
  },
  {
   "cell_type": "code",
   "execution_count": 25,
   "metadata": {},
   "outputs": [
    {
     "data": {
      "text/html": [
       "<a class=\"ProveItLink\" href=\"__pv_it/e09ff51bf125698636b0e032cf763077cdd6790c0/expr.ipynb\"><img src=\"__pv_it/e09ff51bf125698636b0e032cf763077cdd6790c0/expr.png\" style=\"display:inline;vertical-align:middle;\" /></a>"
      ],
      "text/plain": [
       "(y in S , T(x , y) , Q(x) , R(y))"
      ]
     },
     "execution_count": 25,
     "metadata": {},
     "output_type": "execute_result"
    }
   ],
   "source": [
    "basicThereExistsExpr03.instanceExpr.conditions"
   ]
  },
  {
   "cell_type": "code",
   "execution_count": 53,
   "metadata": {},
   "outputs": [
    {
     "data": {
      "text/html": [
       "<a class=\"ProveItLink\" href=\"__pv_it/5ef366488d2b0e90fe93bac2b46228a02f9c71270/expr.ipynb\"><img src=\"__pv_it/5ef366488d2b0e90fe93bac2b46228a02f9c71270/expr.png\" style=\"display:inline;vertical-align:middle;\" /></a>"
      ],
      "text/plain": [
       "T(x , y)"
      ]
     },
     "execution_count": 53,
     "metadata": {},
     "output_type": "execute_result"
    }
   ],
   "source": [
    "(basicThereExistsExpr03.instanceExpr.allConditions()[1]).substituted({z:a})"
   ]
  },
  {
   "cell_type": "code",
   "execution_count": 54,
   "metadata": {},
   "outputs": [
    {
     "data": {
      "text/html": [
       "<strong id=\"basicThereExistsExpr04\">basicThereExistsExpr04:</strong> <a class=\"ProveItLink\" href=\"__pv_it/f4b0af3588744f266e4ecf1f364d6e5eaa5c04f80/expr.ipynb\"><img src=\"__pv_it/f4b0af3588744f266e4ecf1f364d6e5eaa5c04f80/expr.png\" style=\"display:inline;vertical-align:middle;\" /></a><br>"
      ],
      "text/plain": [
       "basicThereExistsExpr04: exists_{x, y, z in S | Q(x) , R(y) , T(z)} P(x , y , z)"
      ]
     },
     "execution_count": 54,
     "metadata": {},
     "output_type": "execute_result"
    }
   ],
   "source": [
    "Tz = Function(T, z)\n",
    "Pxyz = Function(P, [x, y, z])\n",
    "basicThereExistsExpr04 = Exists([x, y, z], Pxyz, conditions=[Qx, Ry, Tz], domain=S)"
   ]
  },
  {
   "cell_type": "code",
   "execution_count": 55,
   "metadata": {},
   "outputs": [
    {
     "data": {
      "text/html": [
       "<strong id=\"basicThereExistsExpr05\">basicThereExistsExpr05:</strong> <a class=\"ProveItLink\" href=\"__pv_it/fb9f0cfc53fda9882c0b098a0536a9e374066ae40/expr.ipynb\"><img src=\"__pv_it/fb9f0cfc53fda9882c0b098a0536a9e374066ae40/expr.png\" style=\"display:inline;vertical-align:middle;\" /></a><br>"
      ],
      "text/plain": [
       "basicThereExistsExpr05: exists_{x, y, z in S | Q(x , y , z)} P(x , y , z)"
      ]
     },
     "execution_count": 55,
     "metadata": {},
     "output_type": "execute_result"
    }
   ],
   "source": [
    "Tz = Function(T, z)\n",
    "Pxyz = Function(P, [x, y, z])\n",
    "Qxyz = Function(Q, [x, y, z])\n",
    "basicThereExistsExpr05 = Exists([x, y, z], Pxyz, conditions=[Qxyz], domain=S)"
   ]
  },
  {
   "cell_type": "code",
   "execution_count": 56,
   "metadata": {},
   "outputs": [
    {
     "data": {
      "text/html": [
       "<strong id=\"basicThereExistsExpr05KT\">basicThereExistsExpr05KT:</strong> <span style=\"font-size:20px;\"><a class=\"ProveItLink\" href=\"__pv_it/d5625845f96af41071302d1e59bd9d17f56d4af10/expr.ipynb\"><img src=\"__pv_it/d5625845f96af41071302d1e59bd9d17f56d4af10/expr.png\" style=\"display:inline;vertical-align:middle;\" /></a> &#x22A2;&nbsp;<a class=\"ProveItLink\" href=\"__pv_it/fb9f0cfc53fda9882c0b098a0536a9e374066ae40/expr.ipynb\"><img src=\"__pv_it/fb9f0cfc53fda9882c0b098a0536a9e374066ae40/expr.png\" style=\"display:inline;vertical-align:middle;\" /></a></span><br>"
      ],
      "text/plain": [
       "basicThereExistsExpr05KT: {exists_{x, y, z in S | Q(x , y , z)} P(x , y , z)} |- exists_{x, y, z in S | Q(x , y , z)} P(x , y , z)"
      ]
     },
     "execution_count": 56,
     "metadata": {},
     "output_type": "execute_result"
    }
   ],
   "source": [
    "basicThereExistsExpr05KT = basicThereExistsExpr05.prove(assumptions = {basicThereExistsExpr05} )"
   ]
  },
  {
   "cell_type": "code",
   "execution_count": 57,
   "metadata": {},
   "outputs": [
    {
     "data": {
      "text/html": [
       "<strong id=\"basicThereExistsExpr06\">basicThereExistsExpr06:</strong> <a class=\"ProveItLink\" href=\"__pv_it/6b3732ef82821c2a044b5eb756933e0f886f5cb10/expr.ipynb\"><img src=\"__pv_it/6b3732ef82821c2a044b5eb756933e0f886f5cb10/expr.png\" style=\"display:inline;vertical-align:middle;\" /></a><br>"
      ],
      "text/plain": [
       "basicThereExistsExpr06: exists_{x, y, z, t in S | Q(x , y , z , t)} P(x , y , z , t)"
      ]
     },
     "execution_count": 57,
     "metadata": {},
     "output_type": "execute_result"
    }
   ],
   "source": [
    "Pxyzt = Function(P, [x, y, z, t])\n",
    "Qxyzt = Function(Q, [x, y, z, t])\n",
    "basicThereExistsExpr06 = Exists([x, y, z, t], Pxyzt, conditions=[Qxyzt], domain=S)"
   ]
  },
  {
   "cell_type": "code",
   "execution_count": 31,
   "metadata": {},
   "outputs": [
    {
     "data": {
      "text/html": [
       "<span style=\"font-size:20px;\"><a class=\"ProveItLink\" href=\"__pv_it/107234af7e43a502874f0f2b7c6f383e7621dd960/expr.ipynb\"><img src=\"__pv_it/107234af7e43a502874f0f2b7c6f383e7621dd960/expr.png\" style=\"display:inline;vertical-align:middle;\" /></a> &#x22A2;&nbsp;<a class=\"ProveItLink\" href=\"__pv_it/d4ccef0ee95df789ab54a4ff4fc6b20ea2cb9fbf0/expr.ipynb\"><img src=\"__pv_it/d4ccef0ee95df789ab54a4ff4fc6b20ea2cb9fbf0/expr.png\" style=\"display:inline;vertical-align:middle;\" /></a></span>"
      ],
      "text/plain": [
       "{exists_{x} P(x)} |- exists_{x} P(x)"
      ]
     },
     "execution_count": 31,
     "metadata": {},
     "output_type": "execute_result"
    }
   ],
   "source": [
    "basicThereExistsExpr00KT"
   ]
  },
  {
   "cell_type": "code",
   "execution_count": 58,
   "metadata": {},
   "outputs": [
    {
     "name": "stdout",
     "output_type": "stream",
     "text": [
      "ENTERING KT.skolemize()\n",
      "        processedSubMap so far =  {x: c}\n",
      "ENTERING KT._skolemized_expressions\n"
     ]
    },
    {
     "data": {
      "text/html": [
       "<strong id=\"basicThereExistsExpr00KTSkolemized\">basicThereExistsExpr00KTSkolemized:</strong> <span style=\"font-size:20px;\"><a class=\"ProveItLink\" href=\"__pv_it/107234af7e43a502874f0f2b7c6f383e7621dd960/expr.ipynb\"><img src=\"__pv_it/107234af7e43a502874f0f2b7c6f383e7621dd960/expr.png\" style=\"display:inline;vertical-align:middle;\" /></a> &#x22A2;&nbsp;<a class=\"ProveItLink\" href=\"__pv_it/76cd2d4b729791c81c2e53a61349c21933710fd60/expr.ipynb\"><img src=\"__pv_it/76cd2d4b729791c81c2e53a61349c21933710fd60/expr.png\" style=\"display:inline;vertical-align:middle;\" /></a></span><br>"
      ],
      "text/plain": [
       "basicThereExistsExpr00KTSkolemized: {exists_{x} P(x)} |- P(c)"
      ]
     },
     "execution_count": 58,
     "metadata": {},
     "output_type": "execute_result"
    }
   ],
   "source": [
    "QLc = Function(Q, Lc)\n",
    "basicThereExistsExpr00KTSkolemized = basicThereExistsExpr00KT.skolemize({x:Lc}, assumptions={QLc, InSet(Lc, S)})"
   ]
  },
  {
   "cell_type": "code",
   "execution_count": 34,
   "metadata": {},
   "outputs": [
    {
     "data": {
      "text/html": [
       "<table><tr><th>&nbsp;</th><th>step type</th><th>requirements</th><th>statement</th></tr>\n",
       "<tr><td>0</td><td>skolemization</td><td>1</td><td><span style=\"font-size:20px;\"><a class=\"ProveItLink\" href=\"__pv_it/107234af7e43a502874f0f2b7c6f383e7621dd960/expr.ipynb\"><img src=\"__pv_it/107234af7e43a502874f0f2b7c6f383e7621dd960/expr.png\" style=\"display:inline;vertical-align:middle;\" /></a> &#x22A2;&nbsp;<a class=\"ProveItLink\" href=\"__pv_it/76cd2d4b729791c81c2e53a61349c21933710fd60/expr.ipynb\"><img src=\"__pv_it/76cd2d4b729791c81c2e53a61349c21933710fd60/expr.png\" style=\"display:inline;vertical-align:middle;\" /></a></span></td></tr>\n",
       "<tr><td>&nbsp;</td><td colspan=4 style=\"text-align:left\"><span style=\"font-size:20px;\"><a class=\"ProveItLink\" href=\"../packages/proveit/__pv_it/530be409e3083890784cf1d7b28c9e67e90af9360/expr.ipynb\"><img src=\"../packages/proveit/__pv_it/530be409e3083890784cf1d7b28c9e67e90af9360/expr.png\" style=\"display:inline;vertical-align:middle;\" /></a> : <a class=\"ProveItLink\" href=\"__pv_it/518589cfbcd61e7b8428f9d3eb7a281cbca4eef70/expr.ipynb\"><img src=\"__pv_it/518589cfbcd61e7b8428f9d3eb7a281cbca4eef70/expr.png\" style=\"display:inline;vertical-align:middle;\" /></a></span></td></tr><tr><td>1</td><td>assumption</td><td></td><td><span style=\"font-size:20px;\"><a class=\"ProveItLink\" href=\"__pv_it/107234af7e43a502874f0f2b7c6f383e7621dd960/expr.ipynb\"><img src=\"__pv_it/107234af7e43a502874f0f2b7c6f383e7621dd960/expr.png\" style=\"display:inline;vertical-align:middle;\" /></a> &#x22A2;&nbsp;<a class=\"ProveItLink\" href=\"__pv_it/d4ccef0ee95df789ab54a4ff4fc6b20ea2cb9fbf0/expr.ipynb\"><img src=\"__pv_it/d4ccef0ee95df789ab54a4ff4fc6b20ea2cb9fbf0/expr.png\" style=\"display:inline;vertical-align:middle;\" /></a></span></td></tr>\n",
       "</table>"
      ],
      "text/plain": [
       "\tstep type\trequirements\tstatement\n",
       "0\tskolemization\t1\t{exists_{x} P(x)} |- P(c)\n",
       "1\tassumption\t\t{exists_{x} P(x)} |- exists_{x} P(x)"
      ]
     },
     "execution_count": 34,
     "metadata": {},
     "output_type": "execute_result"
    }
   ],
   "source": [
    "basicThereExistsExpr00KTSkolemized.proof()"
   ]
  },
  {
   "cell_type": "code",
   "execution_count": 63,
   "metadata": {},
   "outputs": [
    {
     "data": {
      "text/html": [
       "<span style=\"font-size:20px;\"><a class=\"ProveItLink\" href=\"__pv_it/954cee1c4073f510d0948b56ad1440c2b496228a0/expr.ipynb\"><img src=\"__pv_it/954cee1c4073f510d0948b56ad1440c2b496228a0/expr.png\" style=\"display:inline;vertical-align:middle;\" /></a> &#x22A2;&nbsp;<a class=\"ProveItLink\" href=\"__pv_it/11291b09019345a9e54a72fa3716278b269968a20/expr.ipynb\"><img src=\"__pv_it/11291b09019345a9e54a72fa3716278b269968a20/expr.png\" style=\"display:inline;vertical-align:middle;\" /></a></span>"
      ],
      "text/plain": [
       "{exists_{x in S | Q(x)} P(x)} |- exists_{x in S | Q(x)} P(x)"
      ]
     },
     "execution_count": 63,
     "metadata": {},
     "output_type": "execute_result"
    }
   ],
   "source": [
    "basicThereExistsExpr01KT"
   ]
  },
  {
   "cell_type": "code",
   "execution_count": 60,
   "metadata": {},
   "outputs": [
    {
     "name": "stdout",
     "output_type": "stream",
     "text": [
      "ENTERING KT.skolemize()\n",
      "        processedSubMap so far =  {x: d}\n",
      "ENTERING KT._skolemized_expressions\n"
     ]
    },
    {
     "data": {
      "text/html": [
       "<strong id=\"A\">A:</strong> <span style=\"font-size:20px;\"><a class=\"ProveItLink\" href=\"__pv_it/954cee1c4073f510d0948b56ad1440c2b496228a0/expr.ipynb\"><img src=\"__pv_it/954cee1c4073f510d0948b56ad1440c2b496228a0/expr.png\" style=\"display:inline;vertical-align:middle;\" /></a> &#x22A2;&nbsp;<a class=\"ProveItLink\" href=\"__pv_it/82f52d715bfa2603b913d3a6e0ecc4e0d9e69afb0/expr.ipynb\"><img src=\"__pv_it/82f52d715bfa2603b913d3a6e0ecc4e0d9e69afb0/expr.png\" style=\"display:inline;vertical-align:middle;\" /></a></span><br>\n",
       "<strong id=\"B\">B:</strong> <span style=\"font-size:20px;\"><a class=\"ProveItLink\" href=\"__pv_it/954cee1c4073f510d0948b56ad1440c2b496228a0/expr.ipynb\"><img src=\"__pv_it/954cee1c4073f510d0948b56ad1440c2b496228a0/expr.png\" style=\"display:inline;vertical-align:middle;\" /></a> &#x22A2;&nbsp;<a class=\"ProveItLink\" href=\"__pv_it/979560dcaf45a2b91d900e8c0a596e38a8707b700/expr.ipynb\"><img src=\"__pv_it/979560dcaf45a2b91d900e8c0a596e38a8707b700/expr.png\" style=\"display:inline;vertical-align:middle;\" /></a></span><br>\n",
       "<strong id=\"C\">C:</strong> <span style=\"font-size:20px;\"><a class=\"ProveItLink\" href=\"__pv_it/954cee1c4073f510d0948b56ad1440c2b496228a0/expr.ipynb\"><img src=\"__pv_it/954cee1c4073f510d0948b56ad1440c2b496228a0/expr.png\" style=\"display:inline;vertical-align:middle;\" /></a> &#x22A2;&nbsp;<a class=\"ProveItLink\" href=\"__pv_it/11113384052d0aef6f850866259f01ec241454990/expr.ipynb\"><img src=\"__pv_it/11113384052d0aef6f850866259f01ec241454990/expr.png\" style=\"display:inline;vertical-align:middle;\" /></a></span><br>"
      ],
      "text/plain": [
       "A: {exists_{x in S | Q(x)} P(x)} |- P(d)\n",
       "B: {exists_{x in S | Q(x)} P(x)} |- d in S\n",
       "C: {exists_{x in S | Q(x)} P(x)} |- Q(d)"
      ]
     },
     "execution_count": 60,
     "metadata": {},
     "output_type": "execute_result"
    }
   ],
   "source": [
    "Ld = Literal('d')\n",
    "QLd = Function(Q, Ld)\n",
    "# A, B, C = (\n",
    "#     basicThereExistsExpr01KT.skolemize(\n",
    "#         {x:Ld},\n",
    "#         assumptions={InSet(Ld, S), QLd}\n",
    "#     )\n",
    "# )\n",
    "basicThereExistsExpr01KTSkolemized = (\n",
    "    basicThereExistsExpr01KT.skolemize(\n",
    "        {x:Ld},\n",
    "        assumptions={InSet(Ld, S), QLd}\n",
    "    )\n",
    ")\n",
    "# skolemizing just one of two possible instance vars\n",
    "# This is not quite working — somehow subbing into one of the conditions\n",
    "# but not explicitly then including that condition in the\n",
    "# subbedConditions list\n",
    "# basicThereExistsExpr03ThmSkolemized = (\n",
    "#     basicThereExistsExpr03Thm.skolemize(\n",
    "#         {y:Ld},\n",
    "#         assumptions={InSet(Ld, S), RLd}\n",
    "#     )\n",
    "# )\n",
    "A, B, C = basicThereExistsExpr01KTSkolemized"
   ]
  },
  {
   "cell_type": "code",
   "execution_count": 37,
   "metadata": {},
   "outputs": [
    {
     "data": {
      "text/html": [
       "<table><tr><th>&nbsp;</th><th>step type</th><th>requirements</th><th>statement</th></tr>\n",
       "<tr><td>0</td><td>skolemization</td><td>1</td><td><span style=\"font-size:20px;\"><a class=\"ProveItLink\" href=\"__pv_it/954cee1c4073f510d0948b56ad1440c2b496228a0/expr.ipynb\"><img src=\"__pv_it/954cee1c4073f510d0948b56ad1440c2b496228a0/expr.png\" style=\"display:inline;vertical-align:middle;\" /></a> &#x22A2;&nbsp;<a class=\"ProveItLink\" href=\"__pv_it/82f52d715bfa2603b913d3a6e0ecc4e0d9e69afb0/expr.ipynb\"><img src=\"__pv_it/82f52d715bfa2603b913d3a6e0ecc4e0d9e69afb0/expr.png\" style=\"display:inline;vertical-align:middle;\" /></a></span></td></tr>\n",
       "<tr><td>&nbsp;</td><td colspan=4 style=\"text-align:left\"><span style=\"font-size:20px;\"><a class=\"ProveItLink\" href=\"../packages/proveit/__pv_it/530be409e3083890784cf1d7b28c9e67e90af9360/expr.ipynb\"><img src=\"../packages/proveit/__pv_it/530be409e3083890784cf1d7b28c9e67e90af9360/expr.png\" style=\"display:inline;vertical-align:middle;\" /></a> : <a class=\"ProveItLink\" href=\"__pv_it/6006e36dbb724a89a34f2b13857b63971b5e19a00/expr.ipynb\"><img src=\"__pv_it/6006e36dbb724a89a34f2b13857b63971b5e19a00/expr.png\" style=\"display:inline;vertical-align:middle;\" /></a></span></td></tr><tr><td>1</td><td>assumption</td><td></td><td><span style=\"font-size:20px;\"><a class=\"ProveItLink\" href=\"__pv_it/954cee1c4073f510d0948b56ad1440c2b496228a0/expr.ipynb\"><img src=\"__pv_it/954cee1c4073f510d0948b56ad1440c2b496228a0/expr.png\" style=\"display:inline;vertical-align:middle;\" /></a> &#x22A2;&nbsp;<a class=\"ProveItLink\" href=\"__pv_it/11291b09019345a9e54a72fa3716278b269968a20/expr.ipynb\"><img src=\"__pv_it/11291b09019345a9e54a72fa3716278b269968a20/expr.png\" style=\"display:inline;vertical-align:middle;\" /></a></span></td></tr>\n",
       "</table>"
      ],
      "text/plain": [
       "\tstep type\trequirements\tstatement\n",
       "0\tskolemization\t1\t{exists_{x in S | Q(x)} P(x)} |- P(d)\n",
       "1\tassumption\t\t{exists_{x in S | Q(x)} P(x)} |- exists_{x in S | Q(x)} P(x)"
      ]
     },
     "execution_count": 37,
     "metadata": {},
     "output_type": "execute_result"
    }
   ],
   "source": [
    "A.proof()"
   ]
  },
  {
   "cell_type": "code",
   "execution_count": 38,
   "metadata": {},
   "outputs": [
    {
     "data": {
      "text/html": [
       "<table><tr><th>&nbsp;</th><th>step type</th><th>requirements</th><th>statement</th></tr>\n",
       "<tr><td>0</td><td>skolemization</td><td>1</td><td><span style=\"font-size:20px;\"><a class=\"ProveItLink\" href=\"__pv_it/954cee1c4073f510d0948b56ad1440c2b496228a0/expr.ipynb\"><img src=\"__pv_it/954cee1c4073f510d0948b56ad1440c2b496228a0/expr.png\" style=\"display:inline;vertical-align:middle;\" /></a> &#x22A2;&nbsp;<a class=\"ProveItLink\" href=\"__pv_it/979560dcaf45a2b91d900e8c0a596e38a8707b700/expr.ipynb\"><img src=\"__pv_it/979560dcaf45a2b91d900e8c0a596e38a8707b700/expr.png\" style=\"display:inline;vertical-align:middle;\" /></a></span></td></tr>\n",
       "<tr><td>&nbsp;</td><td colspan=4 style=\"text-align:left\"><span style=\"font-size:20px;\"><a class=\"ProveItLink\" href=\"../packages/proveit/__pv_it/530be409e3083890784cf1d7b28c9e67e90af9360/expr.ipynb\"><img src=\"../packages/proveit/__pv_it/530be409e3083890784cf1d7b28c9e67e90af9360/expr.png\" style=\"display:inline;vertical-align:middle;\" /></a> : <a class=\"ProveItLink\" href=\"__pv_it/6006e36dbb724a89a34f2b13857b63971b5e19a00/expr.ipynb\"><img src=\"__pv_it/6006e36dbb724a89a34f2b13857b63971b5e19a00/expr.png\" style=\"display:inline;vertical-align:middle;\" /></a></span></td></tr><tr><td>1</td><td>assumption</td><td></td><td><span style=\"font-size:20px;\"><a class=\"ProveItLink\" href=\"__pv_it/954cee1c4073f510d0948b56ad1440c2b496228a0/expr.ipynb\"><img src=\"__pv_it/954cee1c4073f510d0948b56ad1440c2b496228a0/expr.png\" style=\"display:inline;vertical-align:middle;\" /></a> &#x22A2;&nbsp;<a class=\"ProveItLink\" href=\"__pv_it/11291b09019345a9e54a72fa3716278b269968a20/expr.ipynb\"><img src=\"__pv_it/11291b09019345a9e54a72fa3716278b269968a20/expr.png\" style=\"display:inline;vertical-align:middle;\" /></a></span></td></tr>\n",
       "</table>"
      ],
      "text/plain": [
       "\tstep type\trequirements\tstatement\n",
       "0\tskolemization\t1\t{exists_{x in S | Q(x)} P(x)} |- d in S\n",
       "1\tassumption\t\t{exists_{x in S | Q(x)} P(x)} |- exists_{x in S | Q(x)} P(x)"
      ]
     },
     "execution_count": 38,
     "metadata": {},
     "output_type": "execute_result"
    }
   ],
   "source": [
    "B.proof()"
   ]
  },
  {
   "cell_type": "code",
   "execution_count": 39,
   "metadata": {},
   "outputs": [
    {
     "data": {
      "text/html": [
       "<table><tr><th>&nbsp;</th><th>step type</th><th>requirements</th><th>statement</th></tr>\n",
       "<tr><td>0</td><td>skolemization</td><td>1</td><td><span style=\"font-size:20px;\"><a class=\"ProveItLink\" href=\"__pv_it/954cee1c4073f510d0948b56ad1440c2b496228a0/expr.ipynb\"><img src=\"__pv_it/954cee1c4073f510d0948b56ad1440c2b496228a0/expr.png\" style=\"display:inline;vertical-align:middle;\" /></a> &#x22A2;&nbsp;<a class=\"ProveItLink\" href=\"__pv_it/11113384052d0aef6f850866259f01ec241454990/expr.ipynb\"><img src=\"__pv_it/11113384052d0aef6f850866259f01ec241454990/expr.png\" style=\"display:inline;vertical-align:middle;\" /></a></span></td></tr>\n",
       "<tr><td>&nbsp;</td><td colspan=4 style=\"text-align:left\"><span style=\"font-size:20px;\"><a class=\"ProveItLink\" href=\"../packages/proveit/__pv_it/530be409e3083890784cf1d7b28c9e67e90af9360/expr.ipynb\"><img src=\"../packages/proveit/__pv_it/530be409e3083890784cf1d7b28c9e67e90af9360/expr.png\" style=\"display:inline;vertical-align:middle;\" /></a> : <a class=\"ProveItLink\" href=\"__pv_it/6006e36dbb724a89a34f2b13857b63971b5e19a00/expr.ipynb\"><img src=\"__pv_it/6006e36dbb724a89a34f2b13857b63971b5e19a00/expr.png\" style=\"display:inline;vertical-align:middle;\" /></a></span></td></tr><tr><td>1</td><td>assumption</td><td></td><td><span style=\"font-size:20px;\"><a class=\"ProveItLink\" href=\"__pv_it/954cee1c4073f510d0948b56ad1440c2b496228a0/expr.ipynb\"><img src=\"__pv_it/954cee1c4073f510d0948b56ad1440c2b496228a0/expr.png\" style=\"display:inline;vertical-align:middle;\" /></a> &#x22A2;&nbsp;<a class=\"ProveItLink\" href=\"__pv_it/11291b09019345a9e54a72fa3716278b269968a20/expr.ipynb\"><img src=\"__pv_it/11291b09019345a9e54a72fa3716278b269968a20/expr.png\" style=\"display:inline;vertical-align:middle;\" /></a></span></td></tr>\n",
       "</table>"
      ],
      "text/plain": [
       "\tstep type\trequirements\tstatement\n",
       "0\tskolemization\t1\t{exists_{x in S | Q(x)} P(x)} |- Q(d)\n",
       "1\tassumption\t\t{exists_{x in S | Q(x)} P(x)} |- exists_{x in S | Q(x)} P(x)"
      ]
     },
     "execution_count": 39,
     "metadata": {},
     "output_type": "execute_result"
    }
   ],
   "source": [
    "C.proof()"
   ]
  },
  {
   "cell_type": "code",
   "execution_count": 113,
   "metadata": {},
   "outputs": [
    {
     "data": {
      "text/html": [
       "<span style=\"font-size:20px;\"><a class=\"ProveItLink\" href=\"__pv_it/954cee1c4073f510d0948b56ad1440c2b496228a0/expr.ipynb\"><img src=\"__pv_it/954cee1c4073f510d0948b56ad1440c2b496228a0/expr.png\" style=\"display:inline;vertical-align:middle;\" /></a> &#x22A2;&nbsp;<a class=\"ProveItLink\" href=\"__pv_it/11291b09019345a9e54a72fa3716278b269968a20/expr.ipynb\"><img src=\"__pv_it/11291b09019345a9e54a72fa3716278b269968a20/expr.png\" style=\"display:inline;vertical-align:middle;\" /></a></span>"
      ],
      "text/plain": [
       "{exists_{x in S | Q(x)} P(x)} |- exists_{x in S | Q(x)} P(x)"
      ]
     },
     "execution_count": 113,
     "metadata": {},
     "output_type": "execute_result"
    }
   ],
   "source": [
    "basicThereExistsExpr01KT"
   ]
  },
  {
   "cell_type": "markdown",
   "metadata": {},
   "source": [
    "Very generally when skolemizing, we need to acknowledge free variables.\n",
    "For example, in the expression $\\forall x \\exists y [x+y=0]$, we can skolemize y to a constant $y_0$, but need to acknowledge that that constant depends on x, so we might have something like $x + y_0(x) = 0$.\n",
    "For skolemizing in Prove-It, however, we let the user decide how to specify the Skolem constant(s) and then constrain the resulting expressions later in the context of possible generalizations. For example, if the user has skolemized as discussed above to get the expression $x + y_0(x) = 0$, we could generalize back to obtain $\\forall x \\exists y [x+y=0]$. If the original skolemization was less explicit, however, producing something like: $x + y_0 = 0$, attempted generalization would simply fail (and the generalization step would have looked for )\n",
    "\n",
    "This is how Wayne has described it:\n",
    "$\\ldots$ I think I have a better solution that maximizes flexibility and choice for the user.  Let's allow the user to Skolemize either to a simple constant, or a function with a Skolem constant operator and variable operands (we may want to allow literal operands as well).  Now, the rule is simple.  You are not allowed to perform universal generalization if there are any Skolem constants or Skolem functions except Skolem functions that contain the variable being generalized as an argument.  In other words:\n",
    "\n",
    "1. If your \"known truth\" contains one or more Skolem constants, you cannot do universal generalization over any variable.\n",
    "\n",
    "2. If your \"known truth\" contains any Skolem functions that do not depend upon x, you cannot universally generalize x.\n",
    "\n",
    "3. If your \"known truth\" contains only Skolem functions that do depend upon x (e.g., u0(x)), you can universally generalize x.\n",
    "\n",
    "This allows us to use Skolem functions when we want and simply use Skolem constants when that is just fine for our purposes."
   ]
  },
  {
   "cell_type": "code",
   "execution_count": 40,
   "metadata": {},
   "outputs": [
    {
     "data": {
      "text/html": [
       "<span style=\"font-size:20px;\"><a class=\"ProveItLink\" href=\"__pv_it/bbf1011ee15f6385948117e235a8c8b6f6351f0c0/expr.ipynb\"><img src=\"__pv_it/bbf1011ee15f6385948117e235a8c8b6f6351f0c0/expr.png\" style=\"display:inline;vertical-align:middle;\" /></a> &#x22A2;&nbsp;<a class=\"ProveItLink\" href=\"__pv_it/7d58c403737a339ebc09833c6f006c6af30cb7300/expr.ipynb\"><img src=\"__pv_it/7d58c403737a339ebc09833c6f006c6af30cb7300/expr.png\" style=\"display:inline;vertical-align:middle;\" /></a></span>"
      ],
      "text/plain": [
       "{exists_{x, y in S | Q(x) , R(y)} P(x , y)} |- exists_{x, y in S | Q(x) , R(y)} P(x , y)"
      ]
     },
     "execution_count": 40,
     "metadata": {},
     "output_type": "execute_result"
    }
   ],
   "source": [
    "basicThereExistsExpr02KT"
   ]
  },
  {
   "cell_type": "code",
   "execution_count": 44,
   "metadata": {},
   "outputs": [
    {
     "data": {
      "text/html": [
       "<strong id=\"innerExists\">innerExists:</strong> <a class=\"ProveItLink\" href=\"__pv_it/1223cf9ed60754508cd7aac104ca6c25866d8b9d0/expr.ipynb\"><img src=\"__pv_it/1223cf9ed60754508cd7aac104ca6c25866d8b9d0/expr.png\" style=\"display:inline;vertical-align:middle;\" /></a><br>"
      ],
      "text/plain": [
       "innerExists: exists_{y in S | R(y)} P(x , y)"
      ]
     },
     "execution_count": 44,
     "metadata": {},
     "output_type": "execute_result"
    }
   ],
   "source": [
    "innerExists = basicThereExistsExpr02KT.instanceExpr"
   ]
  },
  {
   "cell_type": "code",
   "execution_count": 45,
   "metadata": {},
   "outputs": [
    {
     "data": {
      "text/html": [
       "<a class=\"ProveItLink\" href=\"__pv_it/a542620b2775667eaa55c18f6add4023fdc8de1a0/expr.ipynb\"><img src=\"__pv_it/a542620b2775667eaa55c18f6add4023fdc8de1a0/expr.png\" style=\"display:inline;vertical-align:middle;\" /></a>"
      ],
      "text/plain": [
       "(y in S , R(y))"
      ]
     },
     "execution_count": 45,
     "metadata": {},
     "output_type": "execute_result"
    }
   ],
   "source": [
    "innerExists.conditions"
   ]
  },
  {
   "cell_type": "code",
   "execution_count": 46,
   "metadata": {},
   "outputs": [
    {
     "data": {
      "text/html": [
       "<a class=\"ProveItLink\" href=\"__pv_it/791f2789282299961de027ef1695e340869ac4090/expr.ipynb\"><img src=\"__pv_it/791f2789282299961de027ef1695e340869ac4090/expr.png\" style=\"display:inline;vertical-align:middle;\" /></a>"
      ],
      "text/plain": [
       "P(x , a)"
      ]
     },
     "execution_count": 46,
     "metadata": {},
     "output_type": "execute_result"
    }
   ],
   "source": [
    "innerExists.instanceExpr.substituted({y:a},)"
   ]
  },
  {
   "cell_type": "code",
   "execution_count": 47,
   "metadata": {},
   "outputs": [
    {
     "data": {
      "text/html": [
       "<a class=\"ProveItLink\" href=\"__pv_it/1223cf9ed60754508cd7aac104ca6c25866d8b9d0/expr.ipynb\"><img src=\"__pv_it/1223cf9ed60754508cd7aac104ca6c25866d8b9d0/expr.png\" style=\"display:inline;vertical-align:middle;\" /></a>"
      ],
      "text/plain": [
       "exists_{y in S | R(y)} P(x , y)"
      ]
     },
     "execution_count": 47,
     "metadata": {},
     "output_type": "execute_result"
    }
   ],
   "source": [
    "innerExists.substituted({y:a},)"
   ]
  },
  {
   "cell_type": "code",
   "execution_count": 48,
   "metadata": {},
   "outputs": [
    {
     "data": {
      "text/html": [
       "<strong id=\"rebuiltExists\">rebuiltExists:</strong> <a class=\"ProveItLink\" href=\"__pv_it/85ce4bf95070346674477f8ef729fa9eb0662a780/expr.ipynb\"><img src=\"__pv_it/85ce4bf95070346674477f8ef729fa9eb0662a780/expr.png\" style=\"display:inline;vertical-align:middle;\" /></a><br>"
      ],
      "text/plain": [
       "rebuiltExists: exists_{a | (a in S , R(a))} P(x , a)"
      ]
     },
     "execution_count": 48,
     "metadata": {},
     "output_type": "execute_result"
    }
   ],
   "source": [
    "rebuiltExists = Exists((a,), innerExists.instanceExpr.substituted({y:a},), conditions=[innerExists.conditions.substituted({y:a},)])"
   ]
  },
  {
   "cell_type": "code",
   "execution_count": 49,
   "metadata": {},
   "outputs": [
    {
     "data": {
      "text/plain": [
       "{S, y}"
      ]
     },
     "execution_count": 49,
     "metadata": {},
     "output_type": "execute_result"
    }
   ],
   "source": [
    "innerExists.conditions[0].freeVars()"
   ]
  },
  {
   "cell_type": "code",
   "execution_count": 66,
   "metadata": {},
   "outputs": [
    {
     "data": {
      "text/html": [
       "<a class=\"ProveItLink\" href=\"__pv_it/f4b0af3588744f266e4ecf1f364d6e5eaa5c04f80/expr.ipynb\"><img src=\"__pv_it/f4b0af3588744f266e4ecf1f364d6e5eaa5c04f80/expr.png\" style=\"display:inline;vertical-align:middle;\" /></a>"
      ],
      "text/plain": [
       "exists_{x, y, z in S | Q(x) , R(y) , T(z)} P(x , y , z)"
      ]
     },
     "execution_count": 66,
     "metadata": {},
     "output_type": "execute_result"
    }
   ],
   "source": [
    "basicThereExistsExpr04"
   ]
  },
  {
   "cell_type": "code",
   "execution_count": 67,
   "metadata": {},
   "outputs": [
    {
     "ename": "NameError",
     "evalue": "name 'skolemize3' is not defined",
     "output_type": "error",
     "traceback": [
      "\u001b[0;31m---------------------------------------------------------------------------\u001b[0m",
      "\u001b[0;31mNameError\u001b[0m                                 Traceback (most recent call last)",
      "\u001b[0;32m<ipython-input-67-dcc729530b21>\u001b[0m in \u001b[0;36m<module>\u001b[0;34m\u001b[0m\n\u001b[0;32m----> 1\u001b[0;31m \u001b[0mtempResult0401\u001b[0m \u001b[0;34m=\u001b[0m \u001b[0mskolemize3\u001b[0m\u001b[0;34m(\u001b[0m\u001b[0mbasicThereExistsExpr04\u001b[0m\u001b[0;34m,\u001b[0m \u001b[0;34m{\u001b[0m\u001b[0my\u001b[0m\u001b[0;34m:\u001b[0m\u001b[0mb\u001b[0m\u001b[0;34m,\u001b[0m \u001b[0mz\u001b[0m\u001b[0;34m:\u001b[0m\u001b[0mc\u001b[0m\u001b[0;34m}\u001b[0m\u001b[0;34m)\u001b[0m\u001b[0;34m\u001b[0m\u001b[0;34m\u001b[0m\u001b[0m\n\u001b[0m\u001b[1;32m      2\u001b[0m \u001b[0mproveit\u001b[0m\u001b[0;34m.\u001b[0m\u001b[0mmagics\u001b[0m\u001b[0;34m.\u001b[0m\u001b[0mAssignments\u001b[0m\u001b[0;34m(\u001b[0m\u001b[0;34m[\u001b[0m\u001b[0;34m'tempResult0401'\u001b[0m\u001b[0;34m]\u001b[0m\u001b[0;34m,\u001b[0m \u001b[0;34m[\u001b[0m\u001b[0mtempResult0401\u001b[0m\u001b[0;34m]\u001b[0m\u001b[0;34m)\u001b[0m\u001b[0;34m\u001b[0m\u001b[0;34m\u001b[0m\u001b[0m\n",
      "\u001b[0;31mNameError\u001b[0m: name 'skolemize3' is not defined"
     ]
    }
   ],
   "source": [
    "tempResult0401 = skolemize3(basicThereExistsExpr04, {y:b, z:c})"
   ]
  },
  {
   "cell_type": "code",
   "execution_count": 56,
   "metadata": {},
   "outputs": [
    {
     "data": {
      "text/html": [
       "<strong id=\"tempResult0402\">tempResult0402:</strong> <a class=\"ProveItLink\" href=\"__pv_it/46f95d4374f8d188537d566066e98bdd8b47a2e10/expr.ipynb\"><img src=\"__pv_it/46f95d4374f8d188537d566066e98bdd8b47a2e10/expr.png\" style=\"display:inline;vertical-align:middle;\" /></a><br>"
      ],
      "text/plain": [
       "tempResult0402: (P(a , b , c) , c in S , T(c) , b in S , R(b) , a in S , Q(a))"
      ]
     },
     "execution_count": 56,
     "metadata": {},
     "output_type": "execute_result"
    }
   ],
   "source": [
    "tempResult0402 = skolemize3(basicThereExistsExpr04, {x:a, y:b, z:c})"
   ]
  },
  {
   "cell_type": "code",
   "execution_count": 57,
   "metadata": {},
   "outputs": [
    {
     "data": {
      "text/html": [
       "<strong id=\"tempResult0403\">tempResult0403:</strong> <a class=\"ProveItLink\" href=\"__pv_it/f6c75d37d2931b78722496c060ec94a80f9702200/expr.ipynb\"><img src=\"__pv_it/f6c75d37d2931b78722496c060ec94a80f9702200/expr.png\" style=\"display:inline;vertical-align:middle;\" /></a><br>"
      ],
      "text/plain": [
       "tempResult0403: (exists_{y in S | R(y)} P(a , y , c) , (c in S , T(c)) , a in S , Q(a))"
      ]
     },
     "execution_count": 57,
     "metadata": {},
     "output_type": "execute_result"
    }
   ],
   "source": [
    "tempResult0403 = skolemize3(basicThereExistsExpr04, {x:a, z:c})"
   ]
  },
  {
   "cell_type": "code",
   "execution_count": 58,
   "metadata": {},
   "outputs": [
    {
     "data": {
      "text/html": [
       "<a class=\"ProveItLink\" href=\"__pv_it/fb9f0cfc53fda9882c0b098a0536a9e374066ae40/expr.ipynb\"><img src=\"__pv_it/fb9f0cfc53fda9882c0b098a0536a9e374066ae40/expr.png\" style=\"display:inline;vertical-align:middle;\" /></a>"
      ],
      "text/plain": [
       "exists_{x, y, z in S | Q(x , y , z)} P(x , y , z)"
      ]
     },
     "execution_count": 58,
     "metadata": {},
     "output_type": "execute_result"
    }
   ],
   "source": [
    "basicThereExistsExpr05"
   ]
  },
  {
   "cell_type": "code",
   "execution_count": 64,
   "metadata": {},
   "outputs": [
    {
     "data": {
      "text/html": [
       "<strong id=\"tempResult0601\">tempResult0601:</strong> <a class=\"ProveItLink\" href=\"__pv_it/f2d4741cb96cbf0c5dfd0118832dfd9ac11901af0/expr.ipynb\"><img src=\"__pv_it/f2d4741cb96cbf0c5dfd0118832dfd9ac11901af0/expr.png\" style=\"display:inline;vertical-align:middle;\" /></a><br>"
      ],
      "text/plain": [
       "tempResult0601: (P(a , b , c , d) , d in S , Q(a , b , c , d) , c in S , b in S , a in S)"
      ]
     },
     "execution_count": 64,
     "metadata": {},
     "output_type": "execute_result"
    }
   ],
   "source": [
    "tempResult0601 = skolemize3(basicThereExistsExpr06, {x:La, y:Lb, z:Lc, t:Ld})"
   ]
  },
  {
   "cell_type": "code",
   "execution_count": 65,
   "metadata": {},
   "outputs": [
    {
     "data": {
      "text/html": [
       "<strong id=\"tempResult0602\">tempResult0602:</strong> <a class=\"ProveItLink\" href=\"__pv_it/f1100161ef54af4f2eb7f6590301364fb41d87960/expr.ipynb\"><img src=\"__pv_it/f1100161ef54af4f2eb7f6590301364fb41d87960/expr.png\" style=\"display:inline;vertical-align:middle;\" /></a><br>"
      ],
      "text/plain": [
       "tempResult0602: (exists_{x in S} [exists_{z in S | Q(x , b , z , d)} P(x , b , z , d)] , ((d in S)) , (b in S))"
      ]
     },
     "execution_count": 65,
     "metadata": {},
     "output_type": "execute_result"
    }
   ],
   "source": [
    "tempResult0602 = skolemize3(basicThereExistsExpr06, {y:Lb, t:Ld})"
   ]
  },
  {
   "cell_type": "code",
   "execution_count": 66,
   "metadata": {},
   "outputs": [
    {
     "data": {
      "text/html": [
       "<strong id=\"tempResult0603\">tempResult0603:</strong> <a class=\"ProveItLink\" href=\"__pv_it/9c35a0a57fb57eaa78ce8cf23eebe216aca6386d0/expr.ipynb\"><img src=\"__pv_it/9c35a0a57fb57eaa78ce8cf23eebe216aca6386d0/expr.png\" style=\"display:inline;vertical-align:middle;\" /></a><br>"
      ],
      "text/plain": [
       "tempResult0603: (exists_{x in S} [exists_{y in S} [exists_{z in S | Q(x , y , z , d)} P(x , y , z , d)]] , (((d in S))))"
      ]
     },
     "execution_count": 66,
     "metadata": {},
     "output_type": "execute_result"
    }
   ],
   "source": [
    "tempResult0603 = skolemize3(basicThereExistsExpr06, {t:Ld})"
   ]
  },
  {
   "cell_type": "code",
   "execution_count": 67,
   "metadata": {},
   "outputs": [
    {
     "data": {
      "text/html": [
       "<span style=\"font-size:20px;\"><a class=\"ProveItLink\" href=\"__pv_it/bbf1011ee15f6385948117e235a8c8b6f6351f0c0/expr.ipynb\"><img src=\"__pv_it/bbf1011ee15f6385948117e235a8c8b6f6351f0c0/expr.png\" style=\"display:inline;vertical-align:middle;\" /></a> &#x22A2;&nbsp;<a class=\"ProveItLink\" href=\"__pv_it/7d58c403737a339ebc09833c6f006c6af30cb7300/expr.ipynb\"><img src=\"__pv_it/7d58c403737a339ebc09833c6f006c6af30cb7300/expr.png\" style=\"display:inline;vertical-align:middle;\" /></a></span>"
      ],
      "text/plain": [
       "{exists_{x, y in S | Q(x) , R(y)} P(x , y)} |- exists_{x, y in S | Q(x) , R(y)} P(x , y)"
      ]
     },
     "execution_count": 67,
     "metadata": {},
     "output_type": "execute_result"
    }
   ],
   "source": [
    "basicThereExistsExpr02KT"
   ]
  },
  {
   "cell_type": "code",
   "execution_count": null,
   "metadata": {},
   "outputs": [],
   "source": []
  }
 ],
 "metadata": {
  "kernelspec": {
   "display_name": "Python 3",
   "language": "python",
   "name": "python3"
  },
  "language_info": {
   "codemirror_mode": {
    "name": "ipython",
    "version": 3
   },
   "file_extension": ".py",
   "mimetype": "text/x-python",
   "name": "python",
   "nbconvert_exporter": "python",
   "pygments_lexer": "ipython3",
   "version": "3.7.1"
  }
 },
 "nbformat": 4,
 "nbformat_minor": 2
}
