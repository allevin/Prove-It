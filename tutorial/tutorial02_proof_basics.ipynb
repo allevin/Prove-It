{
 "cells": [
  {
   "cell_type": "markdown",
   "metadata": {
    "collapsed": true
   },
   "source": [
    "Chapter 2.  Proof Basics\n",
    "================\n",
    "\n",
    "In **Prove-It**, proving an **expression** to be a true statement under some set of assumptions creates a **known truth** object and a **proof** object.  **Prove-It**, in its core, is agnostic to intrinsic truth-aptness of **expressions** except when they are proven and become \"known truths\".  The `proveit.logic` package defines the Boolean concept which may be used for making statements of the form $A \\in \\mathbb{B}$ (where $\\mathbb{B}$ represents the Boolean set of true or false), but this is outside **Prove-It**'s core.  As far as the core is concerned, an **expression** is either proven or not; if it is not proven, it may or may not be truth-apt."
   ]
  },
  {
   "cell_type": "markdown",
   "metadata": {},
   "source": [
    "A **known truth** contains assumptions, as **expressions**, and the single **expression** that is known to be a true statement under these assumptions.  It also has an associated **proof**.  The associated **proof** may get updated over time with a stronger proof (fewer assumption requirements) or newer proof that is as strong and has fewer proof steps.  A **proof** may also be disabled (via its `disable` method) to force an alternate or avoid its use.  Conveniently, a **known truth** object accesses the methods of the underlying proven **expression** seemlessly.  Using Python tricks (specifically, overloading the `__getattr__` and `__dir__` methods), the **known truth** behaves in most ways as if it were the known true **expression** it is wrapping.  This is useful because **expression** objects typically have convenience methods that are specific to the kind of expression, but it is also nice to display the object as a **known truth** (discussed next)."
   ]
  },
  {
   "cell_type": "markdown",
   "metadata": {},
   "source": [
    "A **known truth** with some set of assumptions ${\\cal A}$ is displayed in the form ${\\cal A} \\vdash S$ (or simply $\\vdash S$ if ${\\cal A}$ is empty), where $S$ is the (conditionally) true statement.  This single turnstyle $\\vdash$ is **Prove-It**'s indication that the **expression** on the right is derivable from the assumptions on the left."
   ]
  },
  {
   "cell_type": "markdown",
   "metadata": {},
   "source": [
    "For example, let us produce a trivial proof of the form $X \\vdash X$:"
   ]
  },
  {
   "cell_type": "code",
   "execution_count": 1,
   "metadata": {},
   "outputs": [
    {
     "data": {
      "text/html": [
       "<table><tr><th>&nbsp;</th><th>core type</th><th>sub-expressions</th><th>expression</th></tr>\n",
       "<tr><td>0</td><td>Operation</td><td>operator:&nbsp;1<br>operand:&nbsp;2<br></td><td><a class=\"ProveItLink\" href=\"../packages/proveit/__pv_it/182d3f256e21dc75ea1ec3168bda49a871e4700a0/expr.ipynb\"><img src=\"../packages/proveit/__pv_it/182d3f256e21dc75ea1ec3168bda49a871e4700a0/expr.png\" style=\"display:inline;vertical-align:middle;\" /></a></td></tr>\n",
       "<tr><td>1</td><td>Variable</td><td></td><td><a class=\"ProveItLink\" href=\"__pv_it/4d51ee1e62d011d06d4528b97697bf3da60c9de60/expr.ipynb\"><img src=\"__pv_it/4d51ee1e62d011d06d4528b97697bf3da60c9de60/expr.png\" style=\"display:inline;vertical-align:middle;\" /></a></td></tr>\n",
       "<tr><td>2</td><td>Variable</td><td></td><td><a class=\"ProveItLink\" href=\"__pv_it/530be409e3083890784cf1d7b28c9e67e90af9360/expr.ipynb\"><img src=\"__pv_it/530be409e3083890784cf1d7b28c9e67e90af9360/expr.png\" style=\"display:inline;vertical-align:middle;\" /></a></td></tr>\n",
       "</table>\n"
      ],
      "text/plain": [
       "0. f(x)\n",
       "   core type: Operation\n",
       "   operator: 1\n",
       "   operand: 2\n",
       "1. f\n",
       "   core type: Variable\n",
       "   sub-expressions: \n",
       "2. x\n",
       "   core type: Variable\n",
       "   sub-expressions: "
      ]
     },
     "execution_count": 1,
     "metadata": {},
     "output_type": "execute_result"
    }
   ],
   "source": [
    "from proveit._common_ import fx\n",
    "%begin proof_basics\n",
    "# fx is f(x) which is simply an Operation with a Variable operator and a Variable operand,\n",
    "# but that is irrelevant.  It was chosen arbitrarily.\n",
    "fx.exprInfo()"
   ]
  },
  {
   "cell_type": "code",
   "execution_count": 2,
   "metadata": {},
   "outputs": [
    {
     "data": {
      "text/html": [
       "<strong id=\"fxTruth\">fxTruth:</strong> <span style=\"font-size:20px;\"><a class=\"ProveItLink\" href=\"__pv_it/d0c5fc989dedd8ca4aa72d3f8410379816b3106a0/expr.ipynb\"><img src=\"__pv_it/d0c5fc989dedd8ca4aa72d3f8410379816b3106a0/expr.png\" style=\"display:inline;vertical-align:middle;\" /></a> &#x22A2;&nbsp;<a class=\"ProveItLink\" href=\"../packages/proveit/__pv_it/182d3f256e21dc75ea1ec3168bda49a871e4700a0/expr.ipynb\"><img src=\"../packages/proveit/__pv_it/182d3f256e21dc75ea1ec3168bda49a871e4700a0/expr.png\" style=\"display:inline;vertical-align:middle;\" /></a></span><br>"
      ],
      "text/plain": [
       "fxTruth: {f(x)} |= f(x)"
      ]
     },
     "execution_count": 2,
     "metadata": {},
     "output_type": "execute_result"
    }
   ],
   "source": [
    "fxTruth = fx.prove(assumptions=[fx])"
   ]
  },
  {
   "cell_type": "markdown",
   "metadata": {},
   "source": [
    "The `prove` method attempts to prove that the **expression** is a true statement under the given set of assumptions and returns the **known truth** object if it is successful.  Automation strategies may be employed in the process and will be discussed in the <a href=\"tutorial08_automation.ipynb\">automation</a> chapter.  In this case, $f(x)$ is trivially true if we use $f(x)$ as an assumption.  Again, **Prove-It** is agnostic to whether or not $f(x)$ is truth-apt.  This simply says that if $f(x)$ is assumed to be a true statement, then $f(x)$ is a true statement.  If `prove` is not successful, it raises a `ProofFailure` exception."
   ]
  },
  {
   "cell_type": "code",
   "execution_count": 3,
   "metadata": {},
   "outputs": [
    {
     "name": "stdout",
     "output_type": "stream",
     "text": [
      "EXPECTED ERROR:  Unable to prove f(x): 'conclude' method not implemented for proof automation\n"
     ]
    }
   ],
   "source": [
    "from proveit import ProofFailure\n",
    "try:\n",
    "    fx.prove()\n",
    "except ProofFailure as e:\n",
    "    print(\"EXPECTED ERROR: \", e)"
   ]
  },
  {
   "cell_type": "markdown",
   "metadata": {},
   "source": [
    "To obtain the **expression** from the **known truth**, and be able to display it as the **expression** only, access the `expr` attribute:"
   ]
  },
  {
   "cell_type": "code",
   "execution_count": 4,
   "metadata": {},
   "outputs": [
    {
     "data": {
      "text/html": [
       "<a class=\"ProveItLink\" href=\"../packages/proveit/__pv_it/182d3f256e21dc75ea1ec3168bda49a871e4700a0/expr.ipynb\"><img src=\"../packages/proveit/__pv_it/182d3f256e21dc75ea1ec3168bda49a871e4700a0/expr.png\" style=\"display:inline;vertical-align:middle;\" /></a>"
      ],
      "text/plain": [
       "f(x)"
      ]
     },
     "execution_count": 4,
     "metadata": {},
     "output_type": "execute_result"
    }
   ],
   "source": [
    "fxTruth.expr"
   ]
  },
  {
   "cell_type": "markdown",
   "metadata": {},
   "source": [
    "Its assumptions are accessible from its `assumptions` attribute (as a tuple)."
   ]
  },
  {
   "cell_type": "code",
   "execution_count": 5,
   "metadata": {},
   "outputs": [
    {
     "data": {
      "text/plain": [
       "(f(x),)"
      ]
     },
     "execution_count": 5,
     "metadata": {},
     "output_type": "execute_result"
    }
   ],
   "source": [
    "fxTruth.assumptions"
   ]
  },
  {
   "cell_type": "markdown",
   "metadata": {},
   "source": [
    "But note that we may use the `KnownTruth` object as if it were the `Expression` object for most practical purposes.  It aquires all of the `Expression` object's attributes, except for some that it has overridden (such as `__class__`, `latex`, and `string`)."
   ]
  },
  {
   "cell_type": "code",
   "execution_count": 6,
   "metadata": {},
   "outputs": [
    {
     "name": "stdout",
     "output_type": "stream",
     "text": [
      "['__class__', '__delattr__', '__dict__', '__dir__', '__doc__', '__eq__', '__format__', '__ge__', '__getattr__', '__getattribute__', '__gt__', '__hash__', '__init__', '__init_subclass__', '__le__', '__lt__', '__module__', '__ne__', '__new__', '__reduce__', '__reduce_ex__', '__repr__', '__setattr__', '__sizeof__', '__str__', '__subclasshook__', '__weakref__', '_addProof', '_checkIfReadyForQED', '_checkRelabelMap', '_checkedTruth', '_class_path', '_clear_', '_config_latex_tool', '_coreInfo', '_discardProof', '_expandingIterRanges', '_exprProofs', '_extractCoreInfo', '_extractExprClass', '_extractInitArgs', '_extractMyInitArgs', '_extractReferencedObjIds', '_extractStyle', '_formatMultiOperator', '_formatted', '_generate_unique_rep', '_implicitOperator', '_make', '_meaningData', '_meaning_id', '_qed', '_repr_html_', '_requirements', '_restrictionChecked', '_reviseProof', '_setContext', '_styleData', '_style_id', '_subExpressions', '_updateProof', '_validateRelabelMap', 'asImpl', 'asImplication', 'asTheoremOrAxiom', 'assumptions', 'assumptionsSet', 'beginProof', 'conclude', 'concludeNegation', 'concludeViaImplication', 'context', 'contexts', 'copy', 'coreInfo', 'deriveSideEffects', 'displayed_expression_styles', 'disprove', 'evaluation', 'expr', 'exprInfo', 'extractInitArgValue', 'extractMyInitArgValue', 'findKnownTruth', 'forgetKnownTruths', 'formatted', 'freeMultiVars', 'freeVars', 'generalize', 'getRequirements', 'getStyle', 'getStyles', 'hasBeenProven', 'in_progress_to_conclude', 'in_progress_to_derive_sideeffects', 'innerExpr', 'isSufficient', 'isUsable', 'latex', 'lookup_dict', 'numSubExpr', 'operand', 'operand_or_operands', 'operands', 'operationClassOfOperator', 'operator', 'operator_or_operators', 'operators', 'orderOfAppearance', 'presumingPrefixes', 'presumingTheoremNamess', 'printDependents', 'printRequirements', 'proof', 'prove', 'qedInProgress', 'raiseUnusableProof', 'relabel', 'relabeled', 'remakeArguments', 'remakeConstructor', 'remakeWithStyleCalls', 'safeDummyVar', 'safeDummyVars', 'sideEffects', 'sideeffect_processed', 'simplification', 'specialize', 'string', 'styleNames', 'styleOptions', 'subExpr', 'subExprIter', 'substituted', 'theoremBeingProven', 'usedVars', 'withJustification', 'withMatchingStyle', 'withMatchingStyles', 'withStyles', 'withWrapAfterOperator', 'withWrapBeforeOperator', 'withWrappingAt', 'wrapPositions']\n"
     ]
    }
   ],
   "source": [
    "print(dir(fxTruth))"
   ]
  },
  {
   "cell_type": "code",
   "execution_count": 7,
   "metadata": {},
   "outputs": [
    {
     "name": "stdout",
     "output_type": "stream",
     "text": [
      "['__class__', '__delattr__', '__dict__', '__dir__', '__doc__', '__eq__', '__format__', '__ge__', '__getattribute__', '__gt__', '__hash__', '__init__', '__init_subclass__', '__le__', '__lt__', '__module__', '__ne__', '__new__', '__reduce__', '__reduce_ex__', '__repr__', '__setattr__', '__sizeof__', '__str__', '__subclasshook__', '__weakref__', '_checkRelabelMap', '_class_path', '_clear_', '_config_latex_tool', '_coreInfo', '_expandingIterRanges', '_extractCoreInfo', '_extractExprClass', '_extractInitArgs', '_extractMyInitArgs', '_extractReferencedObjIds', '_extractStyle', '_formatMultiOperator', '_formatted', '_generate_unique_rep', '_implicitOperator', '_make', '_meaningData', '_meaning_id', '_repr_html_', '_requirements', '_restrictionChecked', '_setContext', '_styleData', '_style_id', '_subExpressions', '_validateRelabelMap', 'conclude', 'concludeNegation', 'concludeViaImplication', 'context', 'contexts', 'copy', 'coreInfo', 'displayed_expression_styles', 'disprove', 'evaluation', 'exprInfo', 'extractInitArgValue', 'extractMyInitArgValue', 'formatted', 'freeMultiVars', 'freeVars', 'getRequirements', 'getStyle', 'getStyles', 'in_progress_to_conclude', 'innerExpr', 'latex', 'numSubExpr', 'operand', 'operand_or_operands', 'operands', 'operationClassOfOperator', 'operator', 'operator_or_operators', 'operators', 'orderOfAppearance', 'prove', 'relabeled', 'remakeArguments', 'remakeConstructor', 'remakeWithStyleCalls', 'safeDummyVar', 'safeDummyVars', 'sideEffects', 'simplification', 'string', 'styleNames', 'styleOptions', 'subExpr', 'subExprIter', 'substituted', 'usedVars', 'withJustification', 'withMatchingStyle', 'withStyles', 'withWrapAfterOperator', 'withWrapBeforeOperator', 'withWrappingAt', 'wrapPositions']\n"
     ]
    }
   ],
   "source": [
    "print(dir(fxTruth.expr))"
   ]
  },
  {
   "cell_type": "code",
   "execution_count": 8,
   "metadata": {},
   "outputs": [
    {
     "data": {
      "text/html": [
       "<a class=\"ProveItLink\" href=\"__pv_it/c31dc9fec092400b99d255b4d8fb2898ff247b6e0/expr.ipynb\"><img src=\"__pv_it/c31dc9fec092400b99d255b4d8fb2898ff247b6e0/expr.png\" style=\"display:inline;vertical-align:middle;\" /></a>"
      ],
      "text/plain": [
       "(x)"
      ]
     },
     "execution_count": 8,
     "metadata": {},
     "output_type": "execute_result"
    }
   ],
   "source": [
    "fxTruth.operands"
   ]
  },
  {
   "cell_type": "code",
   "execution_count": 9,
   "metadata": {},
   "outputs": [
    {
     "name": "stdout",
     "output_type": "stream",
     "text": [
      "<class 'proveit._core_.known_truth.KnownTruth'>\n"
     ]
    }
   ],
   "source": [
    "print(fxTruth.__class__) # this is a giveaway that it is not an actual Expression"
   ]
  },
  {
   "cell_type": "code",
   "execution_count": 10,
   "metadata": {},
   "outputs": [
    {
     "name": "stdout",
     "output_type": "stream",
     "text": [
      "<class 'proveit._core_.expression.operation.function.Function'>\n"
     ]
    }
   ],
   "source": [
    "print(fxTruth.expr.__class__) # here it is"
   ]
  },
  {
   "cell_type": "markdown",
   "metadata": {},
   "source": [
    "### Proof objects\n",
    "\n",
    "Call the `proof` method of the **KnownTruth** to access the associated **Proof** object that proves the known truth.  A **Proof** is a DAG (directed, acyclic graph) of derivation steps that connect the known truth to *axioms*, *theorems*, or *assumptions*."
   ]
  },
  {
   "cell_type": "code",
   "execution_count": 11,
   "metadata": {},
   "outputs": [
    {
     "data": {
      "text/html": [
       "<table><tr><th>&nbsp;</th><th>step type</th><th>requirements</th><th>statement</th></tr>\n",
       "<tr><td>0</td><td>assumption</td><td></td><td><span style=\"font-size:20px;\"><a class=\"ProveItLink\" href=\"__pv_it/d0c5fc989dedd8ca4aa72d3f8410379816b3106a0/expr.ipynb\"><img src=\"__pv_it/d0c5fc989dedd8ca4aa72d3f8410379816b3106a0/expr.png\" style=\"display:inline;vertical-align:middle;\" /></a> &#x22A2;&nbsp;<a class=\"ProveItLink\" href=\"../packages/proveit/__pv_it/182d3f256e21dc75ea1ec3168bda49a871e4700a0/expr.ipynb\"><img src=\"../packages/proveit/__pv_it/182d3f256e21dc75ea1ec3168bda49a871e4700a0/expr.png\" style=\"display:inline;vertical-align:middle;\" /></a></span></td></tr>\n",
       "</table>"
      ],
      "text/plain": [
       "\tstep type\trequirements\tstatement\n",
       "0\tassumption\t\t{f(x)} |= f(x)"
      ]
     },
     "execution_count": 11,
     "metadata": {},
     "output_type": "execute_result"
    }
   ],
   "source": [
    "fxTruth.proof()"
   ]
  },
  {
   "cell_type": "markdown",
   "metadata": {},
   "source": [
    "The **KnownTruth** that is proven by a **Proof** object is accessible via the `provenTruth` attribute."
   ]
  },
  {
   "cell_type": "code",
   "execution_count": 12,
   "metadata": {},
   "outputs": [
    {
     "data": {
      "text/html": [
       "<span style=\"font-size:20px;\"><a class=\"ProveItLink\" href=\"__pv_it/d0c5fc989dedd8ca4aa72d3f8410379816b3106a0/expr.ipynb\"><img src=\"__pv_it/d0c5fc989dedd8ca4aa72d3f8410379816b3106a0/expr.png\" style=\"display:inline;vertical-align:middle;\" /></a> &#x22A2;&nbsp;<a class=\"ProveItLink\" href=\"../packages/proveit/__pv_it/182d3f256e21dc75ea1ec3168bda49a871e4700a0/expr.ipynb\"><img src=\"../packages/proveit/__pv_it/182d3f256e21dc75ea1ec3168bda49a871e4700a0/expr.png\" style=\"display:inline;vertical-align:middle;\" /></a></span>"
      ],
      "text/plain": [
       "{f(x)} |= f(x)"
      ]
     },
     "execution_count": 12,
     "metadata": {},
     "output_type": "execute_result"
    }
   ],
   "source": [
    "fxTruth.proof().provenTruth"
   ]
  },
  {
   "cell_type": "markdown",
   "metadata": {},
   "source": [
    "The required sub-proofs are accessible via `requiredProofs`.  In this example, this is an empty list.  $\\{f(x)\\} \\vdash f(x)$ has no requirements."
   ]
  },
  {
   "cell_type": "code",
   "execution_count": 13,
   "metadata": {},
   "outputs": [
    {
     "data": {
      "text/plain": [
       "[]"
      ]
     },
     "execution_count": 13,
     "metadata": {},
     "output_type": "execute_result"
    }
   ],
   "source": [
    "fxTruth.proof().requiredProofs # no requirements for {f(x)} |- f(x)"
   ]
  },
  {
   "cell_type": "markdown",
   "metadata": {},
   "source": [
    "This is a trivial example.  In the next few tutorial chapters, we will be examining the different kinds of derivation steps for making proofs and we will see more interesting examples of **known truths** and **proofs**.  For now, we simply note that **proof** display is similar to the way that the **expression** DAG is displayed using `exprInfo`.  The \"root\" node is the known truth that is proven and is indexed as `0`.  In general, with exception to trivial examples like this one, it will have requirements supplied as a list of other indices (similarly to the **sub-expressions** in `exprInfo`)."
   ]
  },
  {
   "cell_type": "markdown",
   "metadata": {},
   "source": [
    "### Default assumptions\n",
    "\n",
    "If you do not supply a set of assumptions into the `prove` method (or any other **Prove-It** method that accepts an `assumptions` argument), it will use `proveit._core_.defaults.defaults.assumptions` (aliased as `proveit.defaults.assumptions`).  By default, this \"default\" is the empty set, but it can be changed for convenience."
   ]
  },
  {
   "cell_type": "code",
   "execution_count": 14,
   "metadata": {},
   "outputs": [
    {
     "data": {
      "text/html": [
       "<span style=\"font-size:20px;\"><a class=\"ProveItLink\" href=\"__pv_it/d0c5fc989dedd8ca4aa72d3f8410379816b3106a0/expr.ipynb\"><img src=\"__pv_it/d0c5fc989dedd8ca4aa72d3f8410379816b3106a0/expr.png\" style=\"display:inline;vertical-align:middle;\" /></a> &#x22A2;&nbsp;<a class=\"ProveItLink\" href=\"../packages/proveit/__pv_it/182d3f256e21dc75ea1ec3168bda49a871e4700a0/expr.ipynb\"><img src=\"../packages/proveit/__pv_it/182d3f256e21dc75ea1ec3168bda49a871e4700a0/expr.png\" style=\"display:inline;vertical-align:middle;\" /></a></span>"
      ],
      "text/plain": [
       "{f(x)} |= f(x)"
      ]
     },
     "execution_count": 14,
     "metadata": {},
     "output_type": "execute_result"
    }
   ],
   "source": [
    "from proveit import defaults\n",
    "defaults.assumptions = [fx]\n",
    "newFxTruth = fx.prove()\n",
    "newFxTruth"
   ]
  },
  {
   "cell_type": "code",
   "execution_count": 15,
   "metadata": {},
   "outputs": [
    {
     "data": {
      "text/html": [
       "<table><tr><th>&nbsp;</th><th>step type</th><th>requirements</th><th>statement</th></tr>\n",
       "<tr><td>0</td><td>assumption</td><td></td><td><span style=\"font-size:20px;\"><a class=\"ProveItLink\" href=\"__pv_it/d0c5fc989dedd8ca4aa72d3f8410379816b3106a0/expr.ipynb\"><img src=\"__pv_it/d0c5fc989dedd8ca4aa72d3f8410379816b3106a0/expr.png\" style=\"display:inline;vertical-align:middle;\" /></a> &#x22A2;&nbsp;<a class=\"ProveItLink\" href=\"../packages/proveit/__pv_it/182d3f256e21dc75ea1ec3168bda49a871e4700a0/expr.ipynb\"><img src=\"../packages/proveit/__pv_it/182d3f256e21dc75ea1ec3168bda49a871e4700a0/expr.png\" style=\"display:inline;vertical-align:middle;\" /></a></span></td></tr>\n",
       "</table>"
      ],
      "text/plain": [
       "\tstep type\trequirements\tstatement\n",
       "0\tassumption\t\t{f(x)} |= f(x)"
      ]
     },
     "execution_count": 15,
     "metadata": {},
     "output_type": "execute_result"
    }
   ],
   "source": [
    "newFxTruth.proof()"
   ]
  },
  {
   "cell_type": "code",
   "execution_count": 16,
   "metadata": {},
   "outputs": [],
   "source": [
    "%end proof_basics"
   ]
  },
  {
   "cell_type": "markdown",
   "metadata": {
    "collapsed": true
   },
   "source": [
    "# Next chapter: <a href=\"tutorial03_implies.ipynb\">Implication</a>\n",
    "\n",
    "## <a href=\"tutorial00_introduction.ipynb#contents\">Table of Contents</a>"
   ]
  },
  {
   "cell_type": "code",
   "execution_count": null,
   "metadata": {},
   "outputs": [],
   "source": []
  }
 ],
 "metadata": {
  "kernelspec": {
   "display_name": "Python 3",
   "language": "python",
   "name": "python3"
  },
  "language_info": {
   "codemirror_mode": {
    "name": "ipython",
    "version": 3
   },
   "file_extension": ".py",
   "mimetype": "text/x-python",
   "name": "python",
   "nbconvert_exporter": "python",
   "pygments_lexer": "ipython3",
   "version": "3.7.3"
  }
 },
 "nbformat": 4,
 "nbformat_minor": 1
}
