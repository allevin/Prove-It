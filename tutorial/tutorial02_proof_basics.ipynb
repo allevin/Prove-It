{
 "cells": [
  {
   "cell_type": "markdown",
   "metadata": {},
   "source": [
    "Chapter 2.  Proof Basics\n",
    "================\n",
    "\n",
    "In **Prove-It**, proving an **expression** to be a true statement under some set of assumptions creates a **known truth** object and a **proof** object.  **Prove-It**, in its core, is agnostic to intrinsic truth-aptness of **expressions** except when they are proven and become \"known truths\".  The `proveit.logic` package defines the Boolean concept which may be used for making statements of the form $A \\in \\mathbb{B}$ (where $\\mathbb{B}$ represents the Boolean set of True or False), but this is outside **Prove-It**'s core.  As far as the core is concerned, an **expression** is either proven or not. If an expression is not proven, it may or may not be truth-apt (*i.e.*, it may or may not be able to be shown to be true in some context)."
   ]
  },
  {
   "cell_type": "markdown",
   "metadata": {},
   "source": [
    "A **known truth** contains assumptions, as **expressions**, and the single **expression** that is known to be a true statement under these assumptions.  It also has an associated **proof**.  The associated **proof** may get updated over time with a stronger proof (fewer assumption requirements) or newer proof that is as strong and has fewer proof steps.  A **proof** may also be disabled (via its `disable` method) to force an alternate or avoid its use.  Conveniently, a **known truth** object accesses the methods of the underlying proven **expression** seamlessly.  Using Python tricks (specifically, overloading the `__getattr__` and `__dir__` methods), the **known truth** behaves in most ways as if it were the known true **expression** it is wrapping.  This is useful because **expression** objects typically have convenience methods that are specific to the kind of expression, but it is also nice to display the object as a **known truth** (discussed next)."
   ]
  },
  {
   "cell_type": "markdown",
   "metadata": {},
   "source": [
    "A **known truth** with some set of assumptions ${\\cal A}$ is displayed in the form ${\\cal A} \\vdash S$ (or simply $\\vdash S$ if ${\\cal A}$ is empty), where $S$ is the (conditionally) true statement.  This single turnstile $\\vdash$ is **Prove-It**'s indication that the **expression** on the right is derivable from the assumptions on the left."
   ]
  },
  {
   "cell_type": "markdown",
   "metadata": {},
   "source": [
    "For example, let us produce a trivial proof of the form $X \\vdash X$:"
   ]
  },
  {
   "cell_type": "code",
   "execution_count": 1,
   "metadata": {},
   "outputs": [
    {
     "data": {
      "text/html": [
       "<table><tr><th>&nbsp;</th><th>core type</th><th>sub-expressions</th><th>expression</th></tr>\n",
       "<tr><td>0</td><td>Operation</td><td>operator:&nbsp;1<br>operand:&nbsp;2<br></td><td><a class=\"ProveItLink\" href=\"../packages/proveit/__pv_it/182d3f256e21dc75ea1ec3168bda49a871e4700a0/expr.ipynb\"><img src=\"data:image/png;base64,iVBORw0KGgoAAAANSUhEUgAAACkAAAAVBAMAAAAp9toTAAAAMFBMVEX///8yMjLMzMwQEBAiIiJm\n",
       "Zma6urqYmJiqqqp2dnZERETc3NyIiIhUVFTu7u4AAAAe+HC4AAAAAXRSTlMAQObYZgAAAPpJREFU\n",
       "GNNjYCAAcqB0GYR6e3YDkGS6ABVlVQBTK/sLgCTjA5gmARDB9+0FiDoDN6oSRHB8ALPt4KKPweY4\n",
       "gEg2AbgoVwMDA/tl3wCQ3AQGBu45t3tiGBg4QXz+AyAFjEAbXzKUFJgAjQRp2w92CXMCA8MEhvMM\n",
       "TUDDDID8frBh/EDRBwy3QEwmkPVT4KIMDDZw0bVgUWagxQzcnxj4oCbYQJwDtK2a5wPDOaCrBEBe\n",
       "A4sCncPxncuA+wDEZWz/wKJsDgx8a+bNPA5yJNAKHqinrJF9XAsyEB4mYDCHgcHwCZQND0k+oObK\n",
       "aCiHGxbqvBuQY2gPlD7EwAAAkqk1TOFGkRwAAAAASUVORK5CYII=\n",
       "\" style=\"display:inline;vertical-align:middle;\" /></a></td></tr>\n",
       "<tr><td>1</td><td>Variable</td><td></td><td><a class=\"ProveItLink\" href=\"__pv_it/4d51ee1e62d011d06d4528b97697bf3da60c9de60/expr.ipynb\"><img src=\"data:image/png;base64,iVBORw0KGgoAAAANSUhEUgAAAAsAAAASBAMAAAB/WzlGAAAAMFBMVEX///8yMjLMzMwQEBAiIiJm\n",
       "Zma6urqYmJiqqqp2dnZERETc3NyIiIhUVFTu7u4AAAAe+HC4AAAAAXRSTlMAQObYZgAAAFVJREFU\n",
       "CNdjYGBgeHt2A5BkWNlfACT5vr0AcTg+gEgGVgcQyX7ZNwBE8x8AC+5XAFP9YJJhCoRaC6FswCTf\n",
       "NzDF9g9M8QiAyFoukPEMhk/AYpXRIBIAEwsRcZ82juYAAAAASUVORK5CYII=\n",
       "\" style=\"display:inline;vertical-align:middle;\" /></a></td></tr>\n",
       "<tr><td>2</td><td>Variable</td><td></td><td><a class=\"ProveItLink\" href=\"__pv_it/530be409e3083890784cf1d7b28c9e67e90af9360/expr.ipynb\"><img src=\"data:image/png;base64,iVBORw0KGgoAAAANSUhEUgAAAAsAAAAJBAMAAAAWSsseAAAAKlBMVEX///9ERETMzMwQEBAiIiKY\n",
       "mJju7u5mZmaqqqpUVFSIiIh2dnbc3NwAAAA/vyDhAAAAAXRSTlMAQObYZgAAAENJREFUCNdjYDi9\n",
       "8sTyBQxsG1hdmR0YuBm4LnAoMLAxcAowgADzAjB1VoEhgYH1wFoGrgSG3gBhhlMMDImrs3cFMAAA\n",
       "t0YN+iTRa+sAAAAASUVORK5CYII=\n",
       "\" style=\"display:inline;vertical-align:middle;\" /></a></td></tr>\n",
       "</table>\n"
      ],
      "text/plain": [
       "0. f(x)\n",
       "   core type: Operation\n",
       "   operator: 1\n",
       "   operand: 2\n",
       "1. f\n",
       "   core type: Variable\n",
       "   sub-expressions: \n",
       "2. x\n",
       "   core type: Variable\n",
       "   sub-expressions: "
      ]
     },
     "execution_count": 1,
     "metadata": {},
     "output_type": "execute_result"
    }
   ],
   "source": [
    "from proveit._common_ import fx\n",
    "%begin proof_basics\n",
    "# fx is f(x) which is simply an Operation with a Variable operator and a Variable operand,\n",
    "# but that is irrelevant.  It was chosen arbitrarily.\n",
    "fx.exprInfo()"
   ]
  },
  {
   "cell_type": "code",
   "execution_count": 2,
   "metadata": {},
   "outputs": [
    {
     "data": {
      "text/html": [
       "<strong id=\"fxTruth\">fxTruth:</strong> <span style=\"font-size:20px;\"><a class=\"ProveItLink\" href=\"__pv_it/6a01a22e238ca092b43a74c66ed2e9c914ec077f0/expr.ipynb\"><img src=\"data:image/png;base64,iVBORw0KGgoAAAANSUhEUgAAAD8AAAAVBAMAAAADRiu8AAAAMFBMVEX///9ERETc3NyqqqpUVFS6\n",
       "urrMzMwyMjIQEBCIiIh2dnYiIiLu7u5mZmaYmJgAAABJJ2g3AAAAAXRSTlMAQObYZgAAAU1JREFU\n",
       "KM9jYGDgu8eAHbCtUgBRPLuQBVknQGi+AJCKZhCT8wNYhMfTCUSlwFReAxHXQQRXA1iAcfE/EFUD\n",
       "U8AOIlYgKTgfYwAybgJMAd8CNAX2YJLjAEwBTwOagttgMhzhXGFUBU+6fUHULSDWmqI8F2jTWpgC\n",
       "3gKwhp9gsg5o9gK+fRwbGBjMgdz3ILEMkI8ZmL6BFbQCTQR6nDmBgSEC5JULQI+3gWWYIaHxFWgC\n",
       "A4sAiJkPIsQfAFUmgF2yAaYA6JUJMAXcIL+ygN3A6ABWAA5b/QSGAxAr3iP0QnQxyAFDSGE+AydQ\n",
       "wXNUb54HOxXkN/sHEgyaDEjehCiIhwRhNAPDwVmnVgKdxlCKqmA6JPg4FLAHNZ+DHFIUgQHXBJgC\n",
       "PqACjpoNUHF4dB+HpweenUBFa2FGq8AUgJIPWyvE2MVISY4JmiA4E6BpEgDDJE+YBEt5uQAAAABJ\n",
       "RU5ErkJggg==\n",
       "\" style=\"display:inline;vertical-align:middle;\" /></a> <a class=\"ProveItLink\" href=\"__pv_it/714282722932e80e6b71557a79bd6d997e6067200/proof.ipynb\" style=\"text-decoration: none\">&#x22A2;&nbsp;</a><a class=\"ProveItLink\" href=\"../packages/proveit/__pv_it/182d3f256e21dc75ea1ec3168bda49a871e4700a0/expr.ipynb\"><img src=\"data:image/png;base64,iVBORw0KGgoAAAANSUhEUgAAACkAAAAVBAMAAAAp9toTAAAAMFBMVEX///8yMjLMzMwQEBAiIiJm\n",
       "Zma6urqYmJiqqqp2dnZERETc3NyIiIhUVFTu7u4AAAAe+HC4AAAAAXRSTlMAQObYZgAAAPpJREFU\n",
       "GNNjYCAAcqB0GYR6e3YDkGS6ABVlVQBTK/sLgCTjA5gmARDB9+0FiDoDN6oSRHB8ALPt4KKPweY4\n",
       "gEg2AbgoVwMDA/tl3wCQ3AQGBu45t3tiGBg4QXz+AyAFjEAbXzKUFJgAjQRp2w92CXMCA8MEhvMM\n",
       "TUDDDID8frBh/EDRBwy3QEwmkPVT4KIMDDZw0bVgUWagxQzcnxj4oCbYQJwDtK2a5wPDOaCrBEBe\n",
       "A4sCncPxncuA+wDEZWz/wKJsDgx8a+bNPA5yJNAKHqinrJF9XAsyEB4mYDCHgcHwCZQND0k+oObK\n",
       "aCiHGxbqvBuQY2gPlD7EwAAAkqk1TOFGkRwAAAAASUVORK5CYII=\n",
       "\" style=\"display:inline;vertical-align:middle;\" /></a></span><br>"
      ],
      "text/plain": [
       "fxTruth: {f(x)} |- f(x)"
      ]
     },
     "execution_count": 2,
     "metadata": {},
     "output_type": "execute_result"
    }
   ],
   "source": [
    "fxTruth = fx.prove(assumptions=[fx])"
   ]
  },
  {
   "cell_type": "markdown",
   "metadata": {},
   "source": [
    "The `prove` method attempts to prove that the **expression** is a true statement under the given set of assumptions and returns the **known truth** object if it is successful.  Automation strategies may be employed in the process and will be discussed in the <a href=\"tutorial08_automation.ipynb\">automation</a> chapter.  In this case, $f(x)$ is trivially true if we use $f(x)$ as an assumption.  Again, **Prove-It** is agnostic to whether or not $f(x)$ is truth-apt.  This simply says that if $f(x)$ is assumed to be a true statement, then $f(x)$ is a true statement.  If `prove` is not successful, it raises a `ProofFailure` exception."
   ]
  },
  {
   "cell_type": "code",
   "execution_count": 3,
   "metadata": {},
   "outputs": [
    {
     "name": "stdout",
     "output_type": "stream",
     "text": [
      "EXPECTED ERROR:  Unable to prove f(x): 'conclude' method not implemented for proof automation\n"
     ]
    }
   ],
   "source": [
    "from proveit import ProofFailure\n",
    "try:\n",
    "    fx.prove()\n",
    "except ProofFailure as e:\n",
    "    print(\"EXPECTED ERROR: \", e)"
   ]
  },
  {
   "cell_type": "markdown",
   "metadata": {},
   "source": [
    "To obtain the **expression** from the **known truth**, and be able to display it as the **expression** only, access the `expr` attribute:"
   ]
  },
  {
   "cell_type": "code",
   "execution_count": 4,
   "metadata": {},
   "outputs": [
    {
     "data": {
      "text/html": [
       "<a class=\"ProveItLink\" href=\"../packages/proveit/__pv_it/182d3f256e21dc75ea1ec3168bda49a871e4700a0/expr.ipynb\"><img src=\"data:image/png;base64,iVBORw0KGgoAAAANSUhEUgAAACkAAAAVBAMAAAAp9toTAAAAMFBMVEX///8yMjLMzMwQEBAiIiJm\n",
       "Zma6urqYmJiqqqp2dnZERETc3NyIiIhUVFTu7u4AAAAe+HC4AAAAAXRSTlMAQObYZgAAAPpJREFU\n",
       "GNNjYCAAcqB0GYR6e3YDkGS6ABVlVQBTK/sLgCTjA5gmARDB9+0FiDoDN6oSRHB8ALPt4KKPweY4\n",
       "gEg2AbgoVwMDA/tl3wCQ3AQGBu45t3tiGBg4QXz+AyAFjEAbXzKUFJgAjQRp2w92CXMCA8MEhvMM\n",
       "TUDDDID8frBh/EDRBwy3QEwmkPVT4KIMDDZw0bVgUWagxQzcnxj4oCbYQJwDtK2a5wPDOaCrBEBe\n",
       "A4sCncPxncuA+wDEZWz/wKJsDgx8a+bNPA5yJNAKHqinrJF9XAsyEB4mYDCHgcHwCZQND0k+oObK\n",
       "aCiHGxbqvBuQY2gPlD7EwAAAkqk1TOFGkRwAAAAASUVORK5CYII=\n",
       "\" style=\"display:inline;vertical-align:middle;\" /></a>"
      ],
      "text/plain": [
       "f(x)"
      ]
     },
     "execution_count": 4,
     "metadata": {},
     "output_type": "execute_result"
    }
   ],
   "source": [
    "fxTruth.expr"
   ]
  },
  {
   "cell_type": "markdown",
   "metadata": {},
   "source": [
    "Its assumptions are accessible from its `assumptions` attribute (as a tuple)."
   ]
  },
  {
   "cell_type": "code",
   "execution_count": 5,
   "metadata": {},
   "outputs": [
    {
     "data": {
      "text/plain": [
       "(f(x),)"
      ]
     },
     "execution_count": 5,
     "metadata": {},
     "output_type": "execute_result"
    }
   ],
   "source": [
    "fxTruth.assumptions"
   ]
  },
  {
   "cell_type": "markdown",
   "metadata": {},
   "source": [
    "But note that we may use the `KnownTruth` object as if it were the `Expression` object for most practical purposes.  It aquires all of the `Expression` object's attributes, except for some that it has overridden (such as `__class__`, `latex`, and `string`)."
   ]
  },
  {
   "cell_type": "code",
   "execution_count": 6,
   "metadata": {},
   "outputs": [
    {
     "name": "stdout",
     "output_type": "stream",
     "text": [
      "['__class__', '__delattr__', '__dict__', '__dir__', '__doc__', '__eq__', '__format__', '__ge__', '__getattr__', '__getattribute__', '__gt__', '__hash__', '__init__', '__init_subclass__', '__le__', '__lt__', '__module__', '__ne__', '__new__', '__reduce__', '__reduce_ex__', '__repr__', '__setattr__', '__sizeof__', '__str__', '__subclasshook__', '__weakref__', '_addProof', '_checkIfReadyForQED', '_checkRelabelMap', '_checkedTruth', '_class_path', '_clear_', '_config_latex_tool', '_coreInfo', '_discardProof', '_equiv_method_evaluate_', '_equiv_method_evaluated_', '_equiv_method_evaluation_', '_equiv_method_simplification_', '_equiv_method_simplified_', '_equiv_method_simplify_', '_exprProofs', '_extractCoreInfo', '_extractExprClass', '_extractInitArgs', '_extractMyInitArgs', '_extractReferencedObjIds', '_extractStyle', '_formatted', '_formattedOperation', '_generate_unique_rep', '_genericExpr', '_implicitOperator', '_iterSubParamVals', '_make', '_meaningData', '_meaning_id', '_qed', '_repr_html_', '_requirements', '_restrictionChecked', '_reviseProof', '_setContext', '_styleData', '_style_id', '_subExpressions', '_updateProof', '_validateRelabelMap', '_withMatchingStyle', 'asImpl', 'asImplication', 'asTheoremOrAxiom', 'assumptions', 'assumptionsSet', 'beginProof', 'conclude', 'concludeNegation', 'concludeViaImplication', 'context', 'contexts', 'copy', 'coreInfo', 'deriveSideEffects', 'displayed_expression_styles', 'disprove', 'doReducedEvaluation', 'doReducedSimplification', 'evaluated', 'evaluation', 'expr', 'exprInfo', 'extractInitArgValue', 'extractMyInitArgValue', 'findKnownTruth', 'forgetKnownTruths', 'formatted', 'freeMultiVars', 'freeVars', 'generalize', 'getRequirements', 'getStyle', 'getStyles', 'hasBeenProven', 'hyperlinked_proof_styles', 'in_progress_to_conclude', 'in_progress_to_derive_sideeffects', 'innerExpr', 'isSufficient', 'isUsable', 'latex', 'lookup_dict', 'numSubExpr', 'operand', 'operand_or_operands', 'operands', 'operationClassOfOperator', 'operator', 'operator_or_operators', 'operators', 'orderOfAppearance', 'presumingPrefixes', 'presumingTheoremNames', 'presumingTheoremNamess', 'presumingTheorems', 'printDependents', 'printRequirements', 'proof', 'prove', 'qedInProgress', 'raiseUnusableProof', 'relabel', 'relabeled', 'remakeArguments', 'remakeConstructor', 'remakeWithStyleCalls', 'safeDummyVar', 'safeDummyVars', 'sideEffects', 'sideeffect_processed', 'simplification', 'simplified', 'specialize', 'string', 'styleNames', 'styleOptions', 'subExpr', 'subExprIter', 'substituted', 'theoremBeingProven', 'usedVars', 'withJustification', 'withMatchingStyle', 'withMatchingStyles', 'withStyles', 'withWrapAfterOperator', 'withWrapBeforeOperator', 'withWrappingAt', 'wrapPositions']\n"
     ]
    }
   ],
   "source": [
    "print(dir(fxTruth))"
   ]
  },
  {
   "cell_type": "code",
   "execution_count": 7,
   "metadata": {},
   "outputs": [
    {
     "name": "stdout",
     "output_type": "stream",
     "text": [
      "['__class__', '__delattr__', '__dict__', '__dir__', '__doc__', '__eq__', '__format__', '__ge__', '__getattribute__', '__gt__', '__hash__', '__init__', '__init_subclass__', '__le__', '__lt__', '__module__', '__ne__', '__new__', '__reduce__', '__reduce_ex__', '__repr__', '__setattr__', '__sizeof__', '__str__', '__subclasshook__', '__weakref__', '_checkRelabelMap', '_class_path', '_clear_', '_config_latex_tool', '_coreInfo', '_equiv_method_evaluate_', '_equiv_method_evaluated_', '_equiv_method_evaluation_', '_equiv_method_simplification_', '_equiv_method_simplified_', '_equiv_method_simplify_', '_extractCoreInfo', '_extractExprClass', '_extractInitArgs', '_extractMyInitArgs', '_extractReferencedObjIds', '_extractStyle', '_formatted', '_formattedOperation', '_generate_unique_rep', '_genericExpr', '_implicitOperator', '_iterSubParamVals', '_make', '_meaningData', '_meaning_id', '_repr_html_', '_requirements', '_restrictionChecked', '_setContext', '_styleData', '_style_id', '_subExpressions', '_validateRelabelMap', '_withMatchingStyle', 'conclude', 'concludeNegation', 'concludeViaImplication', 'context', 'contexts', 'copy', 'coreInfo', 'displayed_expression_styles', 'disprove', 'doReducedEvaluation', 'doReducedSimplification', 'evaluated', 'evaluation', 'exprInfo', 'extractInitArgValue', 'extractMyInitArgValue', 'formatted', 'freeMultiVars', 'freeVars', 'getRequirements', 'getStyle', 'getStyles', 'in_progress_to_conclude', 'innerExpr', 'latex', 'numSubExpr', 'operand', 'operand_or_operands', 'operands', 'operationClassOfOperator', 'operator', 'operator_or_operators', 'operators', 'orderOfAppearance', 'prove', 'relabeled', 'remakeArguments', 'remakeConstructor', 'remakeWithStyleCalls', 'safeDummyVar', 'safeDummyVars', 'sideEffects', 'simplification', 'simplified', 'string', 'styleNames', 'styleOptions', 'subExpr', 'subExprIter', 'substituted', 'usedVars', 'withJustification', 'withMatchingStyle', 'withStyles', 'withWrapAfterOperator', 'withWrapBeforeOperator', 'withWrappingAt', 'wrapPositions']\n"
     ]
    }
   ],
   "source": [
    "print(dir(fxTruth.expr))"
   ]
  },
  {
   "cell_type": "code",
   "execution_count": 8,
   "metadata": {},
   "outputs": [
    {
     "data": {
      "text/html": [
       "<a class=\"ProveItLink\" href=\"__pv_it/f9a1a188af6f6ae40f5e9ef341dc35255883888a0/expr.ipynb\"><img src=\"data:image/png;base64,iVBORw0KGgoAAAANSUhEUgAAABgAAAAVBAMAAACuxzMVAAAAMFBMVEX////c3NwiIiJERESqqqqY\n",
       "mJh2dnZmZmYQEBDu7u4yMjJUVFTMzMyIiIi6uroAAAAs73DqAAAAAXRSTlMAQObYZgAAAKxJREFU\n",
       "GNNjYEABfBcgNOsDIHEaJloDxCthHC4GBt4LMA5rAgPHBBiHs4HhFcIoE4YyICl2W+Q6UHU6w1Kg\n",
       "fAKrKocCA4MXQx8DAxsD7weWAwwMLxj+AWUYuA1Aes6DOAwMHBcgnBYQJX+AYQJImSnQNoH7DLxA\n",
       "ThTQPAb/AAsGWQaQ0Y8YGCZfm5YbAOSsY+AQQHIO0HlQwHYByQuzgFgaxtkIxIxQD/EeYAAAhW8k\n",
       "93ErH/0AAAAASUVORK5CYII=\n",
       "\" style=\"display:inline;vertical-align:middle;\" /></a>"
      ],
      "text/plain": [
       "(x)"
      ]
     },
     "execution_count": 8,
     "metadata": {},
     "output_type": "execute_result"
    }
   ],
   "source": [
    "fxTruth.operands"
   ]
  },
  {
   "cell_type": "code",
   "execution_count": 9,
   "metadata": {},
   "outputs": [
    {
     "name": "stdout",
     "output_type": "stream",
     "text": [
      "<class 'proveit._core_.known_truth.KnownTruth'>\n"
     ]
    }
   ],
   "source": [
    "print(fxTruth.__class__) # this is a giveaway that it is not an actual Expression"
   ]
  },
  {
   "cell_type": "code",
   "execution_count": 10,
   "metadata": {},
   "outputs": [
    {
     "name": "stdout",
     "output_type": "stream",
     "text": [
      "<class 'proveit._core_.expression.operation.function.Function'>\n"
     ]
    }
   ],
   "source": [
    "print(fxTruth.expr.__class__) # here it is"
   ]
  },
  {
   "cell_type": "markdown",
   "metadata": {},
   "source": [
    "### Proof objects\n",
    "\n",
    "Call the `proof` method of the **KnownTruth** to access the associated **Proof** object that proves the known truth.  A **Proof** is a DAG (directed, acyclic graph) of derivation steps that connect the known truth to *axioms*, *theorems*, or *assumptions*."
   ]
  },
  {
   "cell_type": "code",
   "execution_count": 11,
   "metadata": {},
   "outputs": [
    {
     "data": {
      "text/html": [
       "<table><tr><th>&nbsp;</th><th>step type</th><th>requirements</th><th>statement</th></tr>\n",
       "<tr><td>0</td><td>assumption</td><td></td><td><span style=\"font-size:20px;\"><a class=\"ProveItLink\" href=\"__pv_it/6a01a22e238ca092b43a74c66ed2e9c914ec077f0/expr.ipynb\"><img src=\"data:image/png;base64,iVBORw0KGgoAAAANSUhEUgAAAD8AAAAVBAMAAAADRiu8AAAAMFBMVEX///9ERETc3NyqqqpUVFS6\n",
       "urrMzMwyMjIQEBCIiIh2dnYiIiLu7u5mZmaYmJgAAABJJ2g3AAAAAXRSTlMAQObYZgAAAU1JREFU\n",
       "KM9jYGDgu8eAHbCtUgBRPLuQBVknQGi+AJCKZhCT8wNYhMfTCUSlwFReAxHXQQRXA1iAcfE/EFUD\n",
       "U8AOIlYgKTgfYwAybgJMAd8CNAX2YJLjAEwBTwOagttgMhzhXGFUBU+6fUHULSDWmqI8F2jTWpgC\n",
       "3gKwhp9gsg5o9gK+fRwbGBjMgdz3ILEMkI8ZmL6BFbQCTQR6nDmBgSEC5JULQI+3gWWYIaHxFWgC\n",
       "A4sAiJkPIsQfAFUmgF2yAaYA6JUJMAXcIL+ygN3A6ABWAA5b/QSGAxAr3iP0QnQxyAFDSGE+AydQ\n",
       "wXNUb54HOxXkN/sHEgyaDEjehCiIhwRhNAPDwVmnVgKdxlCKqmA6JPg4FLAHNZ+DHFIUgQHXBJgC\n",
       "PqACjpoNUHF4dB+HpweenUBFa2FGq8AUgJIPWyvE2MVISY4JmiA4E6BpEgDDJE+YBEt5uQAAAABJ\n",
       "RU5ErkJggg==\n",
       "\" style=\"display:inline;vertical-align:middle;\" /></a> <a class=\"ProveItLink\" href=\"__pv_it/714282722932e80e6b71557a79bd6d997e6067200/proof.ipynb\" style=\"text-decoration: none\">&#x22A2;&nbsp;</a><a class=\"ProveItLink\" href=\"../packages/proveit/__pv_it/182d3f256e21dc75ea1ec3168bda49a871e4700a0/expr.ipynb\"><img src=\"data:image/png;base64,iVBORw0KGgoAAAANSUhEUgAAACkAAAAVBAMAAAAp9toTAAAAMFBMVEX///8yMjLMzMwQEBAiIiJm\n",
       "Zma6urqYmJiqqqp2dnZERETc3NyIiIhUVFTu7u4AAAAe+HC4AAAAAXRSTlMAQObYZgAAAPpJREFU\n",
       "GNNjYCAAcqB0GYR6e3YDkGS6ABVlVQBTK/sLgCTjA5gmARDB9+0FiDoDN6oSRHB8ALPt4KKPweY4\n",
       "gEg2AbgoVwMDA/tl3wCQ3AQGBu45t3tiGBg4QXz+AyAFjEAbXzKUFJgAjQRp2w92CXMCA8MEhvMM\n",
       "TUDDDID8frBh/EDRBwy3QEwmkPVT4KIMDDZw0bVgUWagxQzcnxj4oCbYQJwDtK2a5wPDOaCrBEBe\n",
       "A4sCncPxncuA+wDEZWz/wKJsDgx8a+bNPA5yJNAKHqinrJF9XAsyEB4mYDCHgcHwCZQND0k+oObK\n",
       "aCiHGxbqvBuQY2gPlD7EwAAAkqk1TOFGkRwAAAAASUVORK5CYII=\n",
       "\" style=\"display:inline;vertical-align:middle;\" /></a></span></td></tr>\n",
       "</table>"
      ],
      "text/plain": [
       "\tstep type\trequirements\tstatement\n",
       "0\tassumption\t\t{f(x)} |- f(x)"
      ]
     },
     "execution_count": 11,
     "metadata": {},
     "output_type": "execute_result"
    }
   ],
   "source": [
    "fxTruth.proof()"
   ]
  },
  {
   "cell_type": "markdown",
   "metadata": {},
   "source": [
    "The **KnownTruth** that is proven by a **Proof** object is accessible via the `provenTruth` attribute."
   ]
  },
  {
   "cell_type": "code",
   "execution_count": 12,
   "metadata": {},
   "outputs": [
    {
     "data": {
      "text/html": [
       "<span style=\"font-size:20px;\"><a class=\"ProveItLink\" href=\"__pv_it/6a01a22e238ca092b43a74c66ed2e9c914ec077f0/expr.ipynb\"><img src=\"data:image/png;base64,iVBORw0KGgoAAAANSUhEUgAAAD8AAAAVBAMAAAADRiu8AAAAMFBMVEX///9ERETc3NyqqqpUVFS6\n",
       "urrMzMwyMjIQEBCIiIh2dnYiIiLu7u5mZmaYmJgAAABJJ2g3AAAAAXRSTlMAQObYZgAAAU1JREFU\n",
       "KM9jYGDgu8eAHbCtUgBRPLuQBVknQGi+AJCKZhCT8wNYhMfTCUSlwFReAxHXQQRXA1iAcfE/EFUD\n",
       "U8AOIlYgKTgfYwAybgJMAd8CNAX2YJLjAEwBTwOagttgMhzhXGFUBU+6fUHULSDWmqI8F2jTWpgC\n",
       "3gKwhp9gsg5o9gK+fRwbGBjMgdz3ILEMkI8ZmL6BFbQCTQR6nDmBgSEC5JULQI+3gWWYIaHxFWgC\n",
       "A4sAiJkPIsQfAFUmgF2yAaYA6JUJMAXcIL+ygN3A6ABWAA5b/QSGAxAr3iP0QnQxyAFDSGE+AydQ\n",
       "wXNUb54HOxXkN/sHEgyaDEjehCiIhwRhNAPDwVmnVgKdxlCKqmA6JPg4FLAHNZ+DHFIUgQHXBJgC\n",
       "PqACjpoNUHF4dB+HpweenUBFa2FGq8AUgJIPWyvE2MVISY4JmiA4E6BpEgDDJE+YBEt5uQAAAABJ\n",
       "RU5ErkJggg==\n",
       "\" style=\"display:inline;vertical-align:middle;\" /></a> <a class=\"ProveItLink\" href=\"__pv_it/714282722932e80e6b71557a79bd6d997e6067200/proof.ipynb\" style=\"text-decoration: none\">&#x22A2;&nbsp;</a><a class=\"ProveItLink\" href=\"../packages/proveit/__pv_it/182d3f256e21dc75ea1ec3168bda49a871e4700a0/expr.ipynb\"><img src=\"data:image/png;base64,iVBORw0KGgoAAAANSUhEUgAAACkAAAAVBAMAAAAp9toTAAAAMFBMVEX///8yMjLMzMwQEBAiIiJm\n",
       "Zma6urqYmJiqqqp2dnZERETc3NyIiIhUVFTu7u4AAAAe+HC4AAAAAXRSTlMAQObYZgAAAPpJREFU\n",
       "GNNjYCAAcqB0GYR6e3YDkGS6ABVlVQBTK/sLgCTjA5gmARDB9+0FiDoDN6oSRHB8ALPt4KKPweY4\n",
       "gEg2AbgoVwMDA/tl3wCQ3AQGBu45t3tiGBg4QXz+AyAFjEAbXzKUFJgAjQRp2w92CXMCA8MEhvMM\n",
       "TUDDDID8frBh/EDRBwy3QEwmkPVT4KIMDDZw0bVgUWagxQzcnxj4oCbYQJwDtK2a5wPDOaCrBEBe\n",
       "A4sCncPxncuA+wDEZWz/wKJsDgx8a+bNPA5yJNAKHqinrJF9XAsyEB4mYDCHgcHwCZQND0k+oObK\n",
       "aCiHGxbqvBuQY2gPlD7EwAAAkqk1TOFGkRwAAAAASUVORK5CYII=\n",
       "\" style=\"display:inline;vertical-align:middle;\" /></a></span>"
      ],
      "text/plain": [
       "{f(x)} |- f(x)"
      ]
     },
     "execution_count": 12,
     "metadata": {},
     "output_type": "execute_result"
    }
   ],
   "source": [
    "fxTruth.proof().provenTruth"
   ]
  },
  {
   "cell_type": "markdown",
   "metadata": {},
   "source": [
    "The required sub-proofs are accessible via `requiredProofs`.  In this example, this is an empty list.  $\\{f(x)\\} \\vdash f(x)$ has no requirements."
   ]
  },
  {
   "cell_type": "code",
   "execution_count": 13,
   "metadata": {},
   "outputs": [
    {
     "data": {
      "text/plain": [
       "[]"
      ]
     },
     "execution_count": 13,
     "metadata": {},
     "output_type": "execute_result"
    }
   ],
   "source": [
    "fxTruth.proof().requiredProofs # no requirements for {f(x)} |- f(x)"
   ]
  },
  {
   "cell_type": "markdown",
   "metadata": {},
   "source": [
    "This is a trivial example.  In the next few tutorial chapters, we will be examining the different kinds of derivation steps for making proofs and we will see more interesting examples of **known truths** and **proofs**.  For now, we simply note that **proof** display is similar to the way that the **expression** DAG is displayed using `exprInfo`.  The \"root\" node is the known truth that is proven and is indexed as `0`.  In general, with exception to trivial examples like this one, it will have requirements supplied as a list of other indices (similarly to the **sub-expressions** in `exprInfo`)."
   ]
  },
  {
   "cell_type": "markdown",
   "metadata": {},
   "source": [
    "### 2 Additional Examples\n",
    "\n",
    "As another simple example, consider the claim that $y$ is True if we know that $x$ is True and $x \\Rightarrow y$ (an application of modus ponens).\n",
    "\n",
    "As part of the example, we import `Variable` so we can give an example of defining the variables $x$ and $y$ from scratch, and we import the `Implies` expression constructor from proveit.logic. Then we prove $y$ as a result of the assumptions $x$ and $x \\Rightarrow y$:"
   ]
  },
  {
   "cell_type": "code",
   "execution_count": 14,
   "metadata": {},
   "outputs": [
    {
     "data": {
      "text/html": [
       "<strong id=\"yTruthFromModusPonens\">yTruthFromModusPonens:</strong> <span style=\"font-size:20px;\"><a class=\"ProveItLink\" href=\"__pv_it/884a7b3f2dd255142e3e470d1a98c43c46ea728b0/expr.ipynb\"><img src=\"data:image/png;base64,iVBORw0KGgoAAAANSUhEUgAAAF8AAAAVBAMAAADSoS/MAAAAMFBMVEX///9ERETc3NyqqqpUVFS6\n",
       "urrMzMwyMjIQEBCIiIh2dnYiIiLu7u5mZmaYmJgAAABJJ2g3AAAAAXRSTlMAQObYZgAAAV1JREFU\n",
       "OMtjYGDgu8dAHGBbpQCieHYxEAvYmkEk5weiNTBcBxFcDcRrWEFQwwFSNdSQqiEElwatKcpzJ4DF\n",
       "mFY6Wd6Eq+CCCDKcusXA9AeqgbcAGLQL+PZxbIBIMbx+0A0S3g0GfyEaFsSDQ/M9iJ0RADQIyGVO\n",
       "gEgxzGcwQziCuRQcAQa3GRgFGBjYLzAwpLSBIo+BRQAeLo4ozj7eCpbvZOAHuU78AQNDBNhkjglw\n",
       "JZ0okVsFDlnmPwz5QHXcC4BslgKQiH4CLMyZvgENhPthI0QU6NEZDFA/cAE9y6cwn4HzAFjLI6Dn\n",
       "5iC84AChgY4XQQ5W+wcSDJoMPL+BKv4xNjAhnKcOpXkdWP8hazg469TKBww8/QoMPJJrVs1DeEEI\n",
       "SvNIzv2EJaZZFdBjOgERhRuwaODDmUS8GU4YwDTwEaNhF4MUPD/w7IQLT8CpwXJuAChSWiHmLiYl\n",
       "TwMACvVhT2p0snQAAAAASUVORK5CYII=\n",
       "\" style=\"display:inline;vertical-align:middle;\" /></a> <a class=\"ProveItLink\" href=\"__pv_it/78211904c04808588a4abfac0c50b7b54fadb83d0/proof.ipynb\" style=\"text-decoration: none\">&#x22A2;&nbsp;</a><a class=\"ProveItLink\" href=\"../packages/proveit/__pv_it/f8b9edf8e16034727f0aad55bb83e392c3db40d40/expr.ipynb\"><img src=\"data:image/png;base64,iVBORw0KGgoAAAANSUhEUgAAAAsAAAANBAMAAACN24kIAAAAMFBMVEX///+YmJhUVFQyMjIQEBBE\n",
       "REQiIiKqqqrMzMyIiIi6urrc3NxmZmZ2dnbu7u4AAADXeCicAAAAAXRSTlMAQObYZgAAAFhJREFU\n",
       "CNdj4LtzgWH/AwZerg8M8xkY2nkSGEIZGB6wTGD4ycDAUP+A4weQOszA6QCkbBhYFYDUIYb1AkDq\n",
       "6czzGxhA4BoQMyXwuQMptgusF4AU+8xTQBIAUqMVoSp/SLMAAAAASUVORK5CYII=\n",
       "\" style=\"display:inline;vertical-align:middle;\" /></a></span><br>"
      ],
      "text/plain": [
       "yTruthFromModusPonens: {x , x => y} |- y"
      ]
     },
     "execution_count": 14,
     "metadata": {},
     "output_type": "execute_result"
    }
   ],
   "source": [
    "from proveit import Variable\n",
    "x = Variable('x')\n",
    "y = Variable('y')\n",
    "from proveit.logic import Implies\n",
    "yTruthFromModusPonens = y.prove(assumptions={x, Implies(x, y)})"
   ]
  },
  {
   "cell_type": "markdown",
   "metadata": {},
   "source": [
    "We can then look at the underlying proof, which is indeed a straightforward application of modus ponens:"
   ]
  },
  {
   "cell_type": "code",
   "execution_count": 15,
   "metadata": {},
   "outputs": [
    {
     "data": {
      "text/html": [
       "<table><tr><th>&nbsp;</th><th>step type</th><th>requirements</th><th>statement</th></tr>\n",
       "<tr><td>0</td><td>modus ponens</td><td>1, 2</td><td><span style=\"font-size:20px;\"><a class=\"ProveItLink\" href=\"__pv_it/884a7b3f2dd255142e3e470d1a98c43c46ea728b0/expr.ipynb\"><img src=\"data:image/png;base64,iVBORw0KGgoAAAANSUhEUgAAAF8AAAAVBAMAAADSoS/MAAAAMFBMVEX///9ERETc3NyqqqpUVFS6\n",
       "urrMzMwyMjIQEBCIiIh2dnYiIiLu7u5mZmaYmJgAAABJJ2g3AAAAAXRSTlMAQObYZgAAAV1JREFU\n",
       "OMtjYGDgu8dAHGBbpQCieHYxEAvYmkEk5weiNTBcBxFcDcRrWEFQwwFSNdSQqiEElwatKcpzJ4DF\n",
       "mFY6Wd6Eq+CCCDKcusXA9AeqgbcAGLQL+PZxbIBIMbx+0A0S3g0GfyEaFsSDQ/M9iJ0RADQIyGVO\n",
       "gEgxzGcwQziCuRQcAQa3GRgFGBjYLzAwpLSBIo+BRQAeLo4ozj7eCpbvZOAHuU78AQNDBNhkjglw\n",
       "JZ0okVsFDlnmPwz5QHXcC4BslgKQiH4CLMyZvgENhPthI0QU6NEZDFA/cAE9y6cwn4HzAFjLI6Dn\n",
       "5iC84AChgY4XQQ5W+wcSDJoMPL+BKv4xNjAhnKcOpXkdWP8hazg469TKBww8/QoMPJJrVs1DeEEI\n",
       "SvNIzv2EJaZZFdBjOgERhRuwaODDmUS8GU4YwDTwEaNhF4MUPD/w7IQLT8CpwXJuAChSWiHmLiYl\n",
       "TwMACvVhT2p0snQAAAAASUVORK5CYII=\n",
       "\" style=\"display:inline;vertical-align:middle;\" /></a> <a class=\"ProveItLink\" href=\"__pv_it/78211904c04808588a4abfac0c50b7b54fadb83d0/proof.ipynb\" style=\"text-decoration: none\">&#x22A2;&nbsp;</a><a class=\"ProveItLink\" href=\"../packages/proveit/__pv_it/f8b9edf8e16034727f0aad55bb83e392c3db40d40/expr.ipynb\"><img src=\"data:image/png;base64,iVBORw0KGgoAAAANSUhEUgAAAAsAAAANBAMAAACN24kIAAAAMFBMVEX///+YmJhUVFQyMjIQEBBE\n",
       "REQiIiKqqqrMzMyIiIi6urrc3NxmZmZ2dnbu7u4AAADXeCicAAAAAXRSTlMAQObYZgAAAFhJREFU\n",
       "CNdj4LtzgWH/AwZerg8M8xkY2nkSGEIZGB6wTGD4ycDAUP+A4weQOszA6QCkbBhYFYDUIYb1AkDq\n",
       "6czzGxhA4BoQMyXwuQMptgusF4AU+8xTQBIAUqMVoSp/SLMAAAAASUVORK5CYII=\n",
       "\" style=\"display:inline;vertical-align:middle;\" /></a></span></td></tr>\n",
       "<tr><td>1</td><td>assumption</td><td></td><td><span style=\"font-size:20px;\"><a class=\"ProveItLink\" href=\"__pv_it/e92f653f9a6c39b583b16d81be1219e0d6f43d930/expr.ipynb\"><img src=\"data:image/png;base64,iVBORw0KGgoAAAANSUhEUgAAAEkAAAAVBAMAAAD4Ed5jAAAAMFBMVEX///9ERETc3NyqqqpUVFS6\n",
       "urrMzMwyMjIQEBCIiIh2dnYiIiLu7u5mZmaYmJgAAABJJ2g3AAAAAXRSTlMAQObYZgAAARxJREFU\n",
       "KM9jYGDgu8eAB7CtUgBRPLsY8AK2ZhDJ+QG/KobrIIKrgYCqFdhV8RCliv0AMapYHbCrYlrpZHkT\n",
       "Ib4SQp26xcD0B6qKtwDIZ3j9oBvEub0bBPZfAKtaEA8OgPcgdkYAkM8wn8EMyRLzAFBAGdxmYBQA\n",
       "OhOoJ6UNKHCAwRHVlxUBIK92MvBPAPLEHzAwRCSAxDtRVKWvAZHMfxjygZLcC4BsFqC7GJi+QUIJ\n",
       "4q7dMgxQF89ggLqLawMDwyOgK+cgjDKBhtsFBhGkkGD+x9jANAGuiKkAQvM6sP5DUsUjuWbVPIRR\n",
       "jApQP0jO/YQ77NngLJBrcKmCAW+GEwYwVXw4Ve1ikIKnL56duFRZzgVHQSuYw7eYYLoHAD7QTr3l\n",
       "h9LtAAAAAElFTkSuQmCC\n",
       "\" style=\"display:inline;vertical-align:middle;\" /></a> <a class=\"ProveItLink\" href=\"__pv_it/067861e1a9de84e4adfb63709883df8aa7ad47da0/proof.ipynb\" style=\"text-decoration: none\">&#x22A2;&nbsp;</a><a class=\"ProveItLink\" href=\"__pv_it/5b2f3efb1c9d40ea85e1c6cb7db455d3d049d2670/expr.ipynb\"><img src=\"data:image/png;base64,iVBORw0KGgoAAAANSUhEUgAAADcAAAAQBAMAAABAXPr7AAAAMFBMVEX///+6uroyMjJERETMzMwQ\n",
       "EBAiIiKYmJju7u5mZmaqqqpUVFSIiIh2dnbc3NwAAAAWgogoAAAAAXRSTlMAQObYZgAAAMNJREFU\n",
       "GNNjYEAFDQx4gAY+SWlU7tvTr04egPN4IUyOmxcY3jcwcFxgT2dNAPI508DgJ0QN4weG80CKgecD\n",
       "lwPCIC5FEOnFmcBgDDSAgdsAxZqmQJCjWQ8w/AHxWA8gy7Hogn2zvoHlC4h+7wD2HdTOZIhPJzHw\n",
       "BDAwsD84z8CD8DrXBgitycAMZK0vMGV4gzD1EZSezSBfwMDQfLb3TgFC0g5KN5+Z/wAjhBCeuoYz\n",
       "FLkTOKJwSrJdYL6AU5LrzEQgCQAs9DJLrF+J5gAAAABJRU5ErkJggg==\n",
       "\" style=\"display:inline;vertical-align:middle;\" /></a></span></td></tr>\n",
       "<tr><td>2</td><td>assumption</td><td></td><td><span style=\"font-size:20px;\"><a class=\"ProveItLink\" href=\"__pv_it/cdc0491f7d62b66b9dbe2f8a1aa3faded9a07d0f0/expr.ipynb\"><img src=\"data:image/png;base64,iVBORw0KGgoAAAANSUhEUgAAAB8AAAAVBAMAAABMGyhsAAAAMFBMVEX///9ERETc3NyqqqpUVFS6\n",
       "urrMzMwyMjIQEBCIiIh2dnYiIiLu7u5mZmaYmJgAAABJJ2g3AAAAAXRSTlMAQObYZgAAAJ5JREFU\n",
       "GNNjYGDgu8cAAWyrFEAUzy4GGGBrBpGcH+ACDNdBBFcDQmAFJQJaU5TnToAK8BYArV7At49jAwPD\n",
       "e5BARgBQFdBy5gQGBvYLDAwpbSDHMbAIgA0Rf8DAEJEAYnFMAJHcC4AESwGIqZ/AcABqBhfQMD6F\n",
       "+QycB5CstX8gwaCJ7I6Ds06tfEC80/ka0MKDZycixFrBFN9i5DAFABG/KycTh4UTAAAAAElFTkSu\n",
       "QmCC\n",
       "\" style=\"display:inline;vertical-align:middle;\" /></a> <a class=\"ProveItLink\" href=\"__pv_it/84206dddb1b176f38e4ac3dab82159c3a33288d20/proof.ipynb\" style=\"text-decoration: none\">&#x22A2;&nbsp;</a><a class=\"ProveItLink\" href=\"__pv_it/530be409e3083890784cf1d7b28c9e67e90af9360/expr.ipynb\"><img src=\"data:image/png;base64,iVBORw0KGgoAAAANSUhEUgAAAAsAAAAJBAMAAAAWSsseAAAAKlBMVEX///9ERETMzMwQEBAiIiKY\n",
       "mJju7u5mZmaqqqpUVFSIiIh2dnbc3NwAAAA/vyDhAAAAAXRSTlMAQObYZgAAAENJREFUCNdjYDi9\n",
       "8sTyBQxsG1hdmR0YuBm4LnAoMLAxcAowgADzAjB1VoEhgYH1wFoGrgSG3gBhhlMMDImrs3cFMAAA\n",
       "t0YN+iTRa+sAAAAASUVORK5CYII=\n",
       "\" style=\"display:inline;vertical-align:middle;\" /></a></span></td></tr>\n",
       "</table>"
      ],
      "text/plain": [
       "\tstep type\trequirements\tstatement\n",
       "0\tmodus ponens\t1, 2\t{x , x => y} |- y\n",
       "1\tassumption\t\t{x => y} |- x => y\n",
       "2\tassumption\t\t{x} |- x"
      ]
     },
     "execution_count": 15,
     "metadata": {},
     "output_type": "execute_result"
    }
   ],
   "source": [
    "yTruthFromModusPonens.proof()"
   ]
  },
  {
   "cell_type": "markdown",
   "metadata": {},
   "source": [
    "We can increase the complexity slightly, looking at a proof of $z$ given $x$, $x \\Rightarrow y$, and $y \\Rightarrow z$. The proof uses repeated application of modus ponens:"
   ]
  },
  {
   "cell_type": "code",
   "execution_count": 16,
   "metadata": {},
   "outputs": [
    {
     "data": {
      "text/html": [
       "<table><tr><th>&nbsp;</th><th>step type</th><th>requirements</th><th>statement</th></tr>\n",
       "<tr><td>0</td><td>modus ponens</td><td>1, 2</td><td><span style=\"font-size:20px;\"><a class=\"ProveItLink\" href=\"__pv_it/72da2fb8cff71b4b8179730b2aaaccd7e3e782090/expr.ipynb\"><img src=\"data:image/png;base64,iVBORw0KGgoAAAANSUhEUgAAAJ0AAAAVBAMAAACu6/FQAAAAMFBMVEX///9ERETc3NyqqqpUVFS6\n",
       "urrMzMwyMjIQEBCIiIh2dnYiIiLu7u5mZmaYmJgAAABJJ2g3AAAAAXRSTlMAQObYZgAAAfBJREFU\n",
       "OMtjYGDgu8dAFcC2SgFE8exioBJgawaRnB+oZR7DdRDB1UA181ZgN4+HgLYDJJrHfgC/eTUkmsfq\n",
       "gN+8EILmMa10sryJEF8JoU7dYmD6g8YC65gAZUS0MkGYWlOU506AmsdbAFTP8PpBN4hzezcI7L8A\n",
       "VrUgHhb5MBYvWHr3X4hxTHJzL0ICfAHfPo4NDAzvQZyMAKB6hvkMZkgONw8AJSeD2wyMAgwoLAhg\n",
       "LoXGG48PxMFA25gTgAEPdEdKGzjGHFFjuCIApLyTgX8CRCOMBQXHWyG0CixBsEBsE38ADIQEEKsT\n",
       "xbz0NWBn/GHIT2BAZUEyQhUkBbBegIlwgG3jXgAkWApAQfENkuog4bdbhgEasjMYUFjQ8NsITVBW\n",
       "cBv0E0CpEhx+XMCAfAQM7TkI+02g6fACgwgk9UJY8OCDpifmBQwsYGfwKcxn4DyASC/M/xgbmBDh\n",
       "w1QAdZUD6z8Gnt8wFhyow0Ll7btShvNA59g/kGDQREp/PJJrVs1DqGdUgAaz5NxPDDz9ClAWHAhB\n",
       "6Qt8PwwYTgAlDs46tfIB7vzBhki5QMtZFWAsGEhAUR1EML/BgDfDCQNg4MBZ2MEDNPP4cJq3i0GK\n",
       "AWIehEXQPHD5x7MTl0rLuaBsMgHOwgo4kcIJksr5FlOx/gAA6VmSxnbKAJIAAAAASUVORK5CYII=\n",
       "\" style=\"display:inline;vertical-align:middle;\" /></a> <a class=\"ProveItLink\" href=\"__pv_it/d5ec387db45dd2a43b3ee6dee198a34b689af9350/proof.ipynb\" style=\"text-decoration: none\">&#x22A2;&nbsp;</a><a class=\"ProveItLink\" href=\"../packages/proveit/__pv_it/251502494639118b4892de8e9d720a5fcce840e10/expr.ipynb\"><img src=\"data:image/png;base64,iVBORw0KGgoAAAANSUhEUgAAAAoAAAAJBAMAAAD5iKAgAAAALVBMVEX///8yMjLMzMx2dnaqqqpU\n",
       "VFTu7u5mZmaYmJhERESIiIjc3NwQEBC6uroAAAB+iRisAAAAAXRSTlMAQObYZgAAADlJREFUCNdj\n",
       "YOA9c2EXA8POrvIJDAwJDKkJDAwM3AFAguE6iGAxAJHODAwBDEwSFY0XGNgZ+o4wAABKtAsIcBKm\n",
       "agAAAABJRU5ErkJggg==\n",
       "\" style=\"display:inline;vertical-align:middle;\" /></a></span></td></tr>\n",
       "<tr><td>1</td><td>assumption</td><td></td><td><span style=\"font-size:20px;\"><a class=\"ProveItLink\" href=\"__pv_it/9f31b40b2b02a7d2ae19c50b1014a5a565a3118a0/expr.ipynb\"><img src=\"data:image/png;base64,iVBORw0KGgoAAAANSUhEUgAAAEkAAAAVBAMAAAD4Ed5jAAAAMFBMVEX///9ERETc3NyqqqpUVFS6\n",
       "urrMzMwyMjIQEBCIiIh2dnYiIiLu7u5mZmaYmJgAAABJJ2g3AAAAAXRSTlMAQObYZgAAAQ5JREFU\n",
       "KM9jYGDgu8eAB7CtUgBRPLsY8AK2ZhDJ+QG/KobrIIKrgYCqFdhV8RCliv0AMapYHbCr4lm7gEEf\n",
       "YcJKKB3RyjQBqoq3AKiS9QPDfBDn9m4Q2H8BrIhJbu5FIPUexM4IYGBI5t3AIIhkiXkAxBc8PiBn\n",
       "AvWktAEZBzgmMPxE9mUFWBmDCpgUfwC0PAHIsD/A9g1JVfoaiDfANnMvABIsBeDw5WxAuGu3DESx\n",
       "FZgEu4trA5CoZWBE8r4JhGJewMCCEl5XGOIfwBUxFUDtffuuFEXVwZn3FeCqGKHMC3w/DNDCfjVS\n",
       "WsERjywbeJrxpwm+BpBnGRfgT188O4G+mXkVd1ptBVN8iwmmewDdCUvOfhSdtgAAAABJRU5ErkJg\n",
       "gg==\n",
       "\" style=\"display:inline;vertical-align:middle;\" /></a> <a class=\"ProveItLink\" href=\"__pv_it/a30e8051ea5193fd82639d56c9ee06a7ad0c20290/proof.ipynb\" style=\"text-decoration: none\">&#x22A2;&nbsp;</a><a class=\"ProveItLink\" href=\"__pv_it/7fabcdfac94a94d639f6a5d2f072a262670f257b0/expr.ipynb\"><img src=\"data:image/png;base64,iVBORw0KGgoAAAANSUhEUgAAADUAAAAQBAMAAABEqSrGAAAAMFBMVEX///+YmJhUVFQyMjIQEBBE\n",
       "REQiIiKqqqrMzMyIiIi6urrc3NxmZmZ2dnbu7u4AAADXeCicAAAAAXRSTlMAQObYZgAAALdJREFU\n",
       "GNNjYEABfAy4AfMD3HJcCiim3LnAsB+h+iaUXuLFPYGBl+sDw3wQ71gaCOQfAEtxB845ysDQzpPA\n",
       "EIpkTvECiJv49BgYHrBMYPiJbIcJWJJhE4iof8DxA0mu+R7EUWCzDzNwOiDsS4uDKKkFkzYMrEgO\n",
       "L4JQ7BcYmIDUIYb1AnApbgOoyTKCVkDq6czzG+ByrFDmAcYvBWDGNYSRHCihxJTA544rBNkusF7A\n",
       "Jcc+8xQuKQBgzS1BkMulYgAAAABJRU5ErkJggg==\n",
       "\" style=\"display:inline;vertical-align:middle;\" /></a></span></td></tr>\n",
       "<tr><td>2</td><td>modus ponens</td><td>3, 4</td><td><span style=\"font-size:20px;\"><a class=\"ProveItLink\" href=\"__pv_it/884a7b3f2dd255142e3e470d1a98c43c46ea728b0/expr.ipynb\"><img src=\"data:image/png;base64,iVBORw0KGgoAAAANSUhEUgAAAF8AAAAVBAMAAADSoS/MAAAAMFBMVEX///9ERETc3NyqqqpUVFS6\n",
       "urrMzMwyMjIQEBCIiIh2dnYiIiLu7u5mZmaYmJgAAABJJ2g3AAAAAXRSTlMAQObYZgAAAV1JREFU\n",
       "OMtjYGDgu8dAHGBbpQCieHYxEAvYmkEk5weiNTBcBxFcDcRrWEFQwwFSNdSQqiEElwatKcpzJ4DF\n",
       "mFY6Wd6Eq+CCCDKcusXA9AeqgbcAGLQL+PZxbIBIMbx+0A0S3g0GfyEaFsSDQ/M9iJ0RADQIyGVO\n",
       "gEgxzGcwQziCuRQcAQa3GRgFGBjYLzAwpLSBIo+BRQAeLo4ozj7eCpbvZOAHuU78AQNDBNhkjglw\n",
       "JZ0okVsFDlnmPwz5QHXcC4BslgKQiH4CLMyZvgENhPthI0QU6NEZDFA/cAE9y6cwn4HzAFjLI6Dn\n",
       "5iC84AChgY4XQQ5W+wcSDJoMPL+BKv4xNjAhnKcOpXkdWP8hazg469TKBww8/QoMPJJrVs1DeEEI\n",
       "SvNIzv2EJaZZFdBjOgERhRuwaODDmUS8GU4YwDTwEaNhF4MUPD/w7IQLT8CpwXJuAChSWiHmLiYl\n",
       "TwMACvVhT2p0snQAAAAASUVORK5CYII=\n",
       "\" style=\"display:inline;vertical-align:middle;\" /></a> <a class=\"ProveItLink\" href=\"__pv_it/78211904c04808588a4abfac0c50b7b54fadb83d0/proof.ipynb\" style=\"text-decoration: none\">&#x22A2;&nbsp;</a><a class=\"ProveItLink\" href=\"../packages/proveit/__pv_it/f8b9edf8e16034727f0aad55bb83e392c3db40d40/expr.ipynb\"><img src=\"data:image/png;base64,iVBORw0KGgoAAAANSUhEUgAAAAsAAAANBAMAAACN24kIAAAAMFBMVEX///+YmJhUVFQyMjIQEBBE\n",
       "REQiIiKqqqrMzMyIiIi6urrc3NxmZmZ2dnbu7u4AAADXeCicAAAAAXRSTlMAQObYZgAAAFhJREFU\n",
       "CNdj4LtzgWH/AwZerg8M8xkY2nkSGEIZGB6wTGD4ycDAUP+A4weQOszA6QCkbBhYFYDUIYb1AkDq\n",
       "6czzGxhA4BoQMyXwuQMptgusF4AU+8xTQBIAUqMVoSp/SLMAAAAASUVORK5CYII=\n",
       "\" style=\"display:inline;vertical-align:middle;\" /></a></span></td></tr>\n",
       "<tr><td>3</td><td>assumption</td><td></td><td><span style=\"font-size:20px;\"><a class=\"ProveItLink\" href=\"__pv_it/e92f653f9a6c39b583b16d81be1219e0d6f43d930/expr.ipynb\"><img src=\"data:image/png;base64,iVBORw0KGgoAAAANSUhEUgAAAEkAAAAVBAMAAAD4Ed5jAAAAMFBMVEX///9ERETc3NyqqqpUVFS6\n",
       "urrMzMwyMjIQEBCIiIh2dnYiIiLu7u5mZmaYmJgAAABJJ2g3AAAAAXRSTlMAQObYZgAAARxJREFU\n",
       "KM9jYGDgu8eAB7CtUgBRPLsY8AK2ZhDJ+QG/KobrIIKrgYCqFdhV8RCliv0AMapYHbCrYlrpZHkT\n",
       "Ib4SQp26xcD0B6qKtwDIZ3j9oBvEub0bBPZfAKtaEA8OgPcgdkYAkM8wn8EMyRLzAFBAGdxmYBQA\n",
       "OhOoJ6UNKHCAwRHVlxUBIK92MvBPAPLEHzAwRCSAxDtRVKWvAZHMfxjygZLcC4BsFqC7GJi+QUIJ\n",
       "4q7dMgxQF89ggLqLawMDwyOgK+cgjDKBhtsFBhGkkGD+x9jANAGuiKkAQvM6sP5DUsUjuWbVPIRR\n",
       "jApQP0jO/YQ77NngLJBrcKmCAW+GEwYwVXw4Ve1ikIKnL56duFRZzgVHQSuYw7eYYLoHAD7QTr3l\n",
       "h9LtAAAAAElFTkSuQmCC\n",
       "\" style=\"display:inline;vertical-align:middle;\" /></a> <a class=\"ProveItLink\" href=\"__pv_it/067861e1a9de84e4adfb63709883df8aa7ad47da0/proof.ipynb\" style=\"text-decoration: none\">&#x22A2;&nbsp;</a><a class=\"ProveItLink\" href=\"__pv_it/5b2f3efb1c9d40ea85e1c6cb7db455d3d049d2670/expr.ipynb\"><img src=\"data:image/png;base64,iVBORw0KGgoAAAANSUhEUgAAADcAAAAQBAMAAABAXPr7AAAAMFBMVEX///+6uroyMjJERETMzMwQ\n",
       "EBAiIiKYmJju7u5mZmaqqqpUVFSIiIh2dnbc3NwAAAAWgogoAAAAAXRSTlMAQObYZgAAAMNJREFU\n",
       "GNNjYEAFDQx4gAY+SWlU7tvTr04egPN4IUyOmxcY3jcwcFxgT2dNAPI508DgJ0QN4weG80CKgecD\n",
       "lwPCIC5FEOnFmcBgDDSAgdsAxZqmQJCjWQ8w/AHxWA8gy7Hogn2zvoHlC4h+7wD2HdTOZIhPJzHw\n",
       "BDAwsD84z8CD8DrXBgitycAMZK0vMGV4gzD1EZSezSBfwMDQfLb3TgFC0g5KN5+Z/wAjhBCeuoYz\n",
       "FLkTOKJwSrJdYL6AU5LrzEQgCQAs9DJLrF+J5gAAAABJRU5ErkJggg==\n",
       "\" style=\"display:inline;vertical-align:middle;\" /></a></span></td></tr>\n",
       "<tr><td>4</td><td>assumption</td><td></td><td><span style=\"font-size:20px;\"><a class=\"ProveItLink\" href=\"__pv_it/cdc0491f7d62b66b9dbe2f8a1aa3faded9a07d0f0/expr.ipynb\"><img src=\"data:image/png;base64,iVBORw0KGgoAAAANSUhEUgAAAB8AAAAVBAMAAABMGyhsAAAAMFBMVEX///9ERETc3NyqqqpUVFS6\n",
       "urrMzMwyMjIQEBCIiIh2dnYiIiLu7u5mZmaYmJgAAABJJ2g3AAAAAXRSTlMAQObYZgAAAJ5JREFU\n",
       "GNNjYGDgu8cAAWyrFEAUzy4GGGBrBpGcH+ACDNdBBFcDQmAFJQJaU5TnToAK8BYArV7At49jAwPD\n",
       "e5BARgBQFdBy5gQGBvYLDAwpbSDHMbAIgA0Rf8DAEJEAYnFMAJHcC4AESwGIqZ/AcABqBhfQMD6F\n",
       "+QycB5CstX8gwaCJ7I6Ds06tfEC80/ka0MKDZycixFrBFN9i5DAFABG/KycTh4UTAAAAAElFTkSu\n",
       "QmCC\n",
       "\" style=\"display:inline;vertical-align:middle;\" /></a> <a class=\"ProveItLink\" href=\"__pv_it/84206dddb1b176f38e4ac3dab82159c3a33288d20/proof.ipynb\" style=\"text-decoration: none\">&#x22A2;&nbsp;</a><a class=\"ProveItLink\" href=\"__pv_it/530be409e3083890784cf1d7b28c9e67e90af9360/expr.ipynb\"><img src=\"data:image/png;base64,iVBORw0KGgoAAAANSUhEUgAAAAsAAAAJBAMAAAAWSsseAAAAKlBMVEX///9ERETMzMwQEBAiIiKY\n",
       "mJju7u5mZmaqqqpUVFSIiIh2dnbc3NwAAAA/vyDhAAAAAXRSTlMAQObYZgAAAENJREFUCNdjYDi9\n",
       "8sTyBQxsG1hdmR0YuBm4LnAoMLAxcAowgADzAjB1VoEhgYH1wFoGrgSG3gBhhlMMDImrs3cFMAAA\n",
       "t0YN+iTRa+sAAAAASUVORK5CYII=\n",
       "\" style=\"display:inline;vertical-align:middle;\" /></a></span></td></tr>\n",
       "</table>"
      ],
      "text/plain": [
       "\tstep type\trequirements\tstatement\n",
       "0\tmodus ponens\t1, 2\t{x => y , y => z , x} |- z\n",
       "1\tassumption\t\t{y => z} |- y => z\n",
       "2\tmodus ponens\t3, 4\t{x , x => y} |- y\n",
       "3\tassumption\t\t{x => y} |- x => y\n",
       "4\tassumption\t\t{x} |- x"
      ]
     },
     "execution_count": 16,
     "metadata": {},
     "output_type": "execute_result"
    }
   ],
   "source": [
    "from proveit import Variable, ExprTuple\n",
    "from proveit.logic import Implies\n",
    "x = Variable('x')\n",
    "y = Variable('y')\n",
    "z = Variable('z')\n",
    "someAssumptions = ExprTuple(Implies(x, y), Implies(y, z), x)\n",
    "claim = z\n",
    "claim.prove(assumptions=someAssumptions).proof()"
   ]
  },
  {
   "cell_type": "markdown",
   "metadata": {},
   "source": [
    "Proofs of more interesting claims will need to wait until later tutorial chapters. What might seem like simple applications of modus tollens, for example, actually involve derived theorems, `Forall` expressions, and `Forall` specializations (universal instantiations), which are covered in later tutorials."
   ]
  },
  {
   "cell_type": "markdown",
   "metadata": {},
   "source": [
    "### Default assumptions\n",
    "\n",
    "If you do not supply a set of assumptions into the `prove` method (or any other **Prove-It** method that accepts an `assumptions` argument), it will use `proveit._core_.defaults.defaults.assumptions` (aliased as `proveit.defaults.assumptions`).  By default, this \"default\" is the empty set, but it can be changed for convenience.\n",
    "\n",
    "For example, we can repeat our earlier proof of $f(x)$ by shifting the assumption into the default assumptions and calling `.prove()` without explicitly including the assumption:"
   ]
  },
  {
   "cell_type": "code",
   "execution_count": 17,
   "metadata": {},
   "outputs": [
    {
     "data": {
      "text/html": [
       "<span style=\"font-size:20px;\"><a class=\"ProveItLink\" href=\"__pv_it/6a01a22e238ca092b43a74c66ed2e9c914ec077f0/expr.ipynb\"><img src=\"data:image/png;base64,iVBORw0KGgoAAAANSUhEUgAAAD8AAAAVBAMAAAADRiu8AAAAMFBMVEX///9ERETc3NyqqqpUVFS6\n",
       "urrMzMwyMjIQEBCIiIh2dnYiIiLu7u5mZmaYmJgAAABJJ2g3AAAAAXRSTlMAQObYZgAAAU1JREFU\n",
       "KM9jYGDgu8eAHbCtUgBRPLuQBVknQGi+AJCKZhCT8wNYhMfTCUSlwFReAxHXQQRXA1iAcfE/EFUD\n",
       "U8AOIlYgKTgfYwAybgJMAd8CNAX2YJLjAEwBTwOagttgMhzhXGFUBU+6fUHULSDWmqI8F2jTWpgC\n",
       "3gKwhp9gsg5o9gK+fRwbGBjMgdz3ILEMkI8ZmL6BFbQCTQR6nDmBgSEC5JULQI+3gWWYIaHxFWgC\n",
       "A4sAiJkPIsQfAFUmgF2yAaYA6JUJMAXcIL+ygN3A6ABWAA5b/QSGAxAr3iP0QnQxyAFDSGE+AydQ\n",
       "wXNUb54HOxXkN/sHEgyaDEjehCiIhwRhNAPDwVmnVgKdxlCKqmA6JPg4FLAHNZ+DHFIUgQHXBJgC\n",
       "PqACjpoNUHF4dB+HpweenUBFa2FGq8AUgJIPWyvE2MVISY4JmiA4E6BpEgDDJE+YBEt5uQAAAABJ\n",
       "RU5ErkJggg==\n",
       "\" style=\"display:inline;vertical-align:middle;\" /></a> <a class=\"ProveItLink\" href=\"__pv_it/714282722932e80e6b71557a79bd6d997e6067200/proof.ipynb\" style=\"text-decoration: none\">&#x22A2;&nbsp;</a><a class=\"ProveItLink\" href=\"../packages/proveit/__pv_it/182d3f256e21dc75ea1ec3168bda49a871e4700a0/expr.ipynb\"><img src=\"data:image/png;base64,iVBORw0KGgoAAAANSUhEUgAAACkAAAAVBAMAAAAp9toTAAAAMFBMVEX///8yMjLMzMwQEBAiIiJm\n",
       "Zma6urqYmJiqqqp2dnZERETc3NyIiIhUVFTu7u4AAAAe+HC4AAAAAXRSTlMAQObYZgAAAPpJREFU\n",
       "GNNjYCAAcqB0GYR6e3YDkGS6ABVlVQBTK/sLgCTjA5gmARDB9+0FiDoDN6oSRHB8ALPt4KKPweY4\n",
       "gEg2AbgoVwMDA/tl3wCQ3AQGBu45t3tiGBg4QXz+AyAFjEAbXzKUFJgAjQRp2w92CXMCA8MEhvMM\n",
       "TUDDDID8frBh/EDRBwy3QEwmkPVT4KIMDDZw0bVgUWagxQzcnxj4oCbYQJwDtK2a5wPDOaCrBEBe\n",
       "A4sCncPxncuA+wDEZWz/wKJsDgx8a+bNPA5yJNAKHqinrJF9XAsyEB4mYDCHgcHwCZQND0k+oObK\n",
       "aCiHGxbqvBuQY2gPlD7EwAAAkqk1TOFGkRwAAAAASUVORK5CYII=\n",
       "\" style=\"display:inline;vertical-align:middle;\" /></a></span>"
      ],
      "text/plain": [
       "{f(x)} |- f(x)"
      ]
     },
     "execution_count": 17,
     "metadata": {},
     "output_type": "execute_result"
    }
   ],
   "source": [
    "from proveit import defaults\n",
    "defaults.assumptions = [fx]\n",
    "newFxTruth = fx.prove()\n",
    "newFxTruth"
   ]
  },
  {
   "cell_type": "code",
   "execution_count": 18,
   "metadata": {},
   "outputs": [
    {
     "data": {
      "text/html": [
       "<table><tr><th>&nbsp;</th><th>step type</th><th>requirements</th><th>statement</th></tr>\n",
       "<tr><td>0</td><td>assumption</td><td></td><td><span style=\"font-size:20px;\"><a class=\"ProveItLink\" href=\"__pv_it/6a01a22e238ca092b43a74c66ed2e9c914ec077f0/expr.ipynb\"><img src=\"data:image/png;base64,iVBORw0KGgoAAAANSUhEUgAAAD8AAAAVBAMAAAADRiu8AAAAMFBMVEX///9ERETc3NyqqqpUVFS6\n",
       "urrMzMwyMjIQEBCIiIh2dnYiIiLu7u5mZmaYmJgAAABJJ2g3AAAAAXRSTlMAQObYZgAAAU1JREFU\n",
       "KM9jYGDgu8eAHbCtUgBRPLuQBVknQGi+AJCKZhCT8wNYhMfTCUSlwFReAxHXQQRXA1iAcfE/EFUD\n",
       "U8AOIlYgKTgfYwAybgJMAd8CNAX2YJLjAEwBTwOagttgMhzhXGFUBU+6fUHULSDWmqI8F2jTWpgC\n",
       "3gKwhp9gsg5o9gK+fRwbGBjMgdz3ILEMkI8ZmL6BFbQCTQR6nDmBgSEC5JULQI+3gWWYIaHxFWgC\n",
       "A4sAiJkPIsQfAFUmgF2yAaYA6JUJMAXcIL+ygN3A6ABWAA5b/QSGAxAr3iP0QnQxyAFDSGE+AydQ\n",
       "wXNUb54HOxXkN/sHEgyaDEjehCiIhwRhNAPDwVmnVgKdxlCKqmA6JPg4FLAHNZ+DHFIUgQHXBJgC\n",
       "PqACjpoNUHF4dB+HpweenUBFa2FGq8AUgJIPWyvE2MVISY4JmiA4E6BpEgDDJE+YBEt5uQAAAABJ\n",
       "RU5ErkJggg==\n",
       "\" style=\"display:inline;vertical-align:middle;\" /></a> <a class=\"ProveItLink\" href=\"__pv_it/714282722932e80e6b71557a79bd6d997e6067200/proof.ipynb\" style=\"text-decoration: none\">&#x22A2;&nbsp;</a><a class=\"ProveItLink\" href=\"../packages/proveit/__pv_it/182d3f256e21dc75ea1ec3168bda49a871e4700a0/expr.ipynb\"><img src=\"data:image/png;base64,iVBORw0KGgoAAAANSUhEUgAAACkAAAAVBAMAAAAp9toTAAAAMFBMVEX///8yMjLMzMwQEBAiIiJm\n",
       "Zma6urqYmJiqqqp2dnZERETc3NyIiIhUVFTu7u4AAAAe+HC4AAAAAXRSTlMAQObYZgAAAPpJREFU\n",
       "GNNjYCAAcqB0GYR6e3YDkGS6ABVlVQBTK/sLgCTjA5gmARDB9+0FiDoDN6oSRHB8ALPt4KKPweY4\n",
       "gEg2AbgoVwMDA/tl3wCQ3AQGBu45t3tiGBg4QXz+AyAFjEAbXzKUFJgAjQRp2w92CXMCA8MEhvMM\n",
       "TUDDDID8frBh/EDRBwy3QEwmkPVT4KIMDDZw0bVgUWagxQzcnxj4oCbYQJwDtK2a5wPDOaCrBEBe\n",
       "A4sCncPxncuA+wDEZWz/wKJsDgx8a+bNPA5yJNAKHqinrJF9XAsyEB4mYDCHgcHwCZQND0k+oObK\n",
       "aCiHGxbqvBuQY2gPlD7EwAAAkqk1TOFGkRwAAAAASUVORK5CYII=\n",
       "\" style=\"display:inline;vertical-align:middle;\" /></a></span></td></tr>\n",
       "</table>"
      ],
      "text/plain": [
       "\tstep type\trequirements\tstatement\n",
       "0\tassumption\t\t{f(x)} |- f(x)"
      ]
     },
     "execution_count": 18,
     "metadata": {},
     "output_type": "execute_result"
    }
   ],
   "source": [
    "newFxTruth.proof()"
   ]
  },
  {
   "cell_type": "code",
   "execution_count": 19,
   "metadata": {},
   "outputs": [],
   "source": [
    "%end proof_basics"
   ]
  },
  {
   "cell_type": "markdown",
   "metadata": {},
   "source": [
    "# Next chapter: <a href=\"tutorial03_implies.ipynb\">Implication</a>\n",
    "\n",
    "## <a href=\"tutorial00_introduction.ipynb#contents\">Table of Contents</a>"
   ]
  },
  {
   "cell_type": "code",
   "execution_count": null,
   "metadata": {},
   "outputs": [],
   "source": []
  }
 ],
 "metadata": {
  "kernelspec": {
   "display_name": "Python 3",
   "language": "python",
   "name": "python3"
  }
 },
 "nbformat": 4,
 "nbformat_minor": 0
}
