{
 "cells": [
  {
   "cell_type": "markdown",
   "metadata": {},
   "source": [
    "Chapter 2.  Proof Basics\n",
    "================\n",
    "\n",
    "In **Prove-It**, proving an **expression** to be a true statement under some set of assumptions creates a **known truth** object and a **proof** object.  **Prove-It**, in its core, is agnostic to intrinsic truth-aptness of **expressions** except when they are proven and become \"known truths\".  The `proveit.logic` package defines the Boolean concept which may be used for making statements of the form $A \\in \\mathbb{B}$ (where $\\mathbb{B}$ represents the Boolean set of true or false), but this is outside **Prove-It**'s core.  As far as the core is concerned, an **expression** is either proven or not; if it is not proven, it may or may not be truth-apt."
   ]
  },
  {
   "cell_type": "markdown",
   "metadata": {},
   "source": [
    "A **known truth** contains assumptions, as **expressions**, and the single **expression** that is known to be a true statement under these assumptions.  It also has an associated **proof**.  The associated **proof** may get updated over time with a stronger proof (fewer assumption requirements) or newer proof that is as strong and has fewer proof steps.  A **proof** may also be disabled (via its `disable` method) to force an alternate or avoid its use.  Conveniently, a **known truth** object accesses the methods of the underlying proven **expression** seemlessly.  Using Python tricks (specifically, overloading the `__getattr__` and `__dir__` methods), the **known truth** behaves in most ways as if it were the known true **expression** it is wrapping.  This is useful because **expression** objects typically have convenience methods that are specific to the kind of expression, but it is also nice to display the object as a **known truth** (discussed next)."
   ]
  },
  {
   "cell_type": "markdown",
   "metadata": {},
   "source": [
    "A **known truth** with some set of assumptions ${\\cal A}$ is displayed in the form ${\\cal A} \\vdash S$ (or simply $\\vdash S$ if ${\\cal A}$ is empty), where $S$ is the (conditionally) true statement.  This single turnstyle $\\vdash$ is **Prove-It**'s indication that the **expression** on the right is derivable from the assumptions on the left."
   ]
  },
  {
   "cell_type": "markdown",
   "metadata": {},
   "source": [
    "For example, let us produce a trivial proof of the form $X \\vdash X$:"
   ]
  },
  {
   "cell_type": "code",
   "execution_count": null,
   "metadata": {},
   "outputs": [],
   "source": [
    "from proveit._common_ import fx\n",
    "%begin proof_basics\n",
    "# fx is f(x) which is simply an Operation with a Variable operator and a Variable operand,\n",
    "# but that is irrelevant.  It was chosen arbitrarily.\n",
    "fx.exprInfo()"
   ]
  },
  {
   "cell_type": "code",
   "execution_count": null,
   "metadata": {},
   "outputs": [],
   "source": [
    "fxTruth = fx.prove(assumptions=[fx])"
   ]
  },
  {
   "cell_type": "markdown",
   "metadata": {},
   "source": [
    "The `prove` method attempts to prove that the **expression** is a true statement under the given set of assumptions and returns the **known truth** object if it is successful.  Automation strategies may be employed in the process and will be discussed in the <a href=\"tutorial08_automation.ipynb\">automation</a> chapter.  In this case, $f(x)$ is trivially true if we use $f(x)$ as an assumption.  Again, **Prove-It** is agnostic to whether or not $f(x)$ is truth-apt.  This simply says that if $f(x)$ is assumed to be a true statement, then $f(x)$ is a true statement.  If `prove` is not successful, it raises a `ProofFailure` exception."
   ]
  },
  {
   "cell_type": "code",
   "execution_count": null,
   "metadata": {},
   "outputs": [],
   "source": [
    "from proveit import ProofFailure\n",
    "try:\n",
    "    fx.prove()\n",
    "except ProofFailure as e:\n",
    "    print(\"EXPECTED ERROR: \", e)"
   ]
  },
  {
   "cell_type": "markdown",
   "metadata": {},
   "source": [
    "To obtain the **expression** from the **known truth**, and be able to display it as the **expression** only, access the `expr` attribute:"
   ]
  },
  {
   "cell_type": "code",
   "execution_count": null,
   "metadata": {},
   "outputs": [],
   "source": [
    "fxTruth.expr"
   ]
  },
  {
   "cell_type": "markdown",
   "metadata": {},
   "source": [
    "Its assumptions are accessible from its `assumptions` attribute (as a tuple)."
   ]
  },
  {
   "cell_type": "code",
   "execution_count": null,
   "metadata": {},
   "outputs": [],
   "source": [
    "fxTruth.assumptions"
   ]
  },
  {
   "cell_type": "markdown",
   "metadata": {},
   "source": [
    "But note that we may use the `KnownTruth` object as if it were the `Expression` object for most practical purposes.  It aquires all of the `Expression` object's attributes, except for some that it has overridden (such as `__class__`, `latex`, and `string`)."
   ]
  },
  {
   "cell_type": "code",
   "execution_count": null,
   "metadata": {},
   "outputs": [],
   "source": [
    "print(dir(fxTruth))"
   ]
  },
  {
   "cell_type": "code",
   "execution_count": null,
   "metadata": {},
   "outputs": [],
   "source": [
    "print(dir(fxTruth.expr))"
   ]
  },
  {
   "cell_type": "code",
   "execution_count": null,
   "metadata": {},
   "outputs": [],
   "source": [
    "fxTruth.operands"
   ]
  },
  {
   "cell_type": "code",
   "execution_count": null,
   "metadata": {},
   "outputs": [],
   "source": [
    "print(fxTruth.__class__) # this is a giveaway that it is not an actual Expression"
   ]
  },
  {
   "cell_type": "code",
   "execution_count": null,
   "metadata": {},
   "outputs": [],
   "source": [
    "print(fxTruth.expr.__class__) # here it is"
   ]
  },
  {
   "cell_type": "markdown",
   "metadata": {},
   "source": [
    "### Proof objects\n",
    "\n",
    "Call the `proof` method of the **KnownTruth** to access the associated **Proof** object that proves the known truth.  A **Proof** is a DAG (directed, acyclic graph) of derivation steps that connect the known truth to *axioms*, *theorems*, or *assumptions*."
   ]
  },
  {
   "cell_type": "code",
   "execution_count": null,
   "metadata": {},
   "outputs": [],
   "source": [
    "fxTruth.proof()"
   ]
  },
  {
   "cell_type": "markdown",
   "metadata": {},
   "source": [
    "The **KnownTruth** that is proven by a **Proof** object is accessible via the `provenTruth` attribute."
   ]
  },
  {
   "cell_type": "code",
   "execution_count": null,
   "metadata": {},
   "outputs": [],
   "source": [
    "fxTruth.proof().provenTruth"
   ]
  },
  {
   "cell_type": "markdown",
   "metadata": {},
   "source": [
    "The required sub-proofs are accessible via `requiredProofs`.  In this example, this is an empty list.  $\\{f(x)\\} \\vdash f(x)$ has no requirements."
   ]
  },
  {
   "cell_type": "code",
   "execution_count": null,
   "metadata": {},
   "outputs": [],
   "source": [
    "fxTruth.proof().requiredProofs # no requirements for {f(x)} |- f(x)"
   ]
  },
  {
   "cell_type": "markdown",
   "metadata": {},
   "source": [
    "This is a trivial example.  In the next few tutorial chapters, we will be examining the different kinds of derivation steps for making proofs and we will see more interesting examples of **known truths** and **proofs**.  For now, we simply note that **proof** display is similar to the way that the **expression** DAG is displayed using `exprInfo`.  The \"root\" node is the known truth that is proven and is indexed as `0`.  In general, with exception to trivial examples like this one, it will have requirements supplied as a list of other indices (similarly to the **sub-expressions** in `exprInfo`)."
   ]
  },
  {
   "cell_type": "markdown",
   "metadata": {},
   "source": [
    "### Default assumptions\n",
    "\n",
    "If you do not supply a set of assumptions into the `prove` method (or any other **Prove-It** method that accepts an `assumptions` argument), it will use `proveit._core_.defaults.defaults.assumptions` (aliased as `proveit.defaults.assumptions`).  By default, this \"default\" is the empty set, but it can be changed for convenience."
   ]
  },
  {
   "cell_type": "code",
   "execution_count": null,
   "metadata": {},
   "outputs": [],
   "source": [
    "from proveit import defaults\n",
    "defaults.assumptions = [fx]\n",
    "newFxTruth = fx.prove()\n",
    "newFxTruth"
   ]
  },
  {
   "cell_type": "code",
   "execution_count": null,
   "metadata": {},
   "outputs": [],
   "source": [
    "newFxTruth.proof()"
   ]
  },
  {
   "cell_type": "code",
   "execution_count": null,
   "metadata": {},
   "outputs": [],
   "source": [
    "%end proof_basics"
   ]
  },
  {
   "cell_type": "markdown",
   "metadata": {},
   "source": [
    "# Next chapter: <a href=\"tutorial03_implies.ipynb\">Implication</a>\n",
    "\n",
    "## <a href=\"tutorial00_introduction.ipynb#contents\">Table of Contents</a>"
   ]
  },
  {
   "cell_type": "code",
   "execution_count": null,
   "metadata": {},
   "outputs": [],
   "source": []
  }
 ],
 "metadata": {
  "kernelspec": {
   "display_name": "Python 3",
   "language": "python",
   "name": "python3"
  }
 },
 "nbformat": 4,
 "nbformat_minor": 0
}
