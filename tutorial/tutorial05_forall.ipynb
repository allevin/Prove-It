{
 "cells": [
  {
   "cell_type": "markdown",
   "metadata": {},
   "source": [
    "Chapter 5. Universal Quantification (Forall)\n",
    "==================\n",
    "\n",
    "Universal quantification is another core concept in **Prove-It**.  A `Forall` operation, formatted with the $\\forall$ symbol, is used to represent universal quantification.  For example, $\\forall_x P(x)$ means that $P(x)$ is true for any instance of $x$.  $P(x)$ holds true universally over instances of $x$.  Like `Implies`, `Forall` is a core concept but is defined outside of the core in the `proveit.logic` package. It is known in the core for use in the *specialization* and *generalization* derivation steps discussed below.  First, let us given an example of a `Forall` object."
   ]
  },
  {
   "cell_type": "code",
   "execution_count": 1,
   "metadata": {},
   "outputs": [],
   "source": [
    "from proveit.logic import Forall\n",
    "from proveit._common_ import x, P, Px, Q, Qx, R, Rx, S"
   ]
  },
  {
   "cell_type": "code",
   "execution_count": 2,
   "metadata": {},
   "outputs": [
    {
     "data": {
      "text/html": [
       "<strong id=\"basicForallExpr\">basicForallExpr:</strong> <a class=\"ProveItLink\" href=\"__pv_it/7468d4916c89bdc1b293f9e1bedcf688fd61bc5a0/expr.ipynb\"><img src=\"__pv_it/7468d4916c89bdc1b293f9e1bedcf688fd61bc5a0/expr.png\" style=\"display:inline;vertical-align:middle;\" /></a><br>"
      ],
      "text/plain": [
       "basicForallExpr: forall_{x in S | Q(x) , R(x)} P(x)"
      ]
     },
     "execution_count": 2,
     "metadata": {},
     "output_type": "execute_result"
    }
   ],
   "source": [
    "basicForallExpr = Forall(x, Px, conditions=[Qx, Rx], domain=S)"
   ]
  },
  {
   "cell_type": "markdown",
   "metadata": {},
   "source": [
    "The meaning of this **Expression** is that $P(x)$ is a true statement for all instances of $x$ for which $x \\in S$ and $Q(x)$ is true.  Let us examine the internal structure of this expression."
   ]
  },
  {
   "cell_type": "code",
   "execution_count": 3,
   "metadata": {},
   "outputs": [
    {
     "data": {
      "text/html": [
       "<table><tr><th>&nbsp;</th><th>core type</th><th>sub-expressions</th><th>expression</th></tr>\n",
       "<tr><td>0</td><td>Operation</td><td>operator:&nbsp;1<br>operand:&nbsp;2<br></td><td><a class=\"ProveItLink\" href=\"__pv_it/7468d4916c89bdc1b293f9e1bedcf688fd61bc5a0/expr.ipynb\"><img src=\"__pv_it/7468d4916c89bdc1b293f9e1bedcf688fd61bc5a0/expr.png\" style=\"display:inline;vertical-align:middle;\" /></a></td></tr>\n",
       "<tr><td>1</td><td>Literal</td><td></td><td><a class=\"ProveItLink\" href=\"../packages/proveit/logic/boolean/quantification/universal/__pv_it/265f8c02ac1094d56e0e6410a1c1fd3500dc9f540/expr.ipynb\"><img src=\"../packages/proveit/logic/boolean/quantification/universal/__pv_it/265f8c02ac1094d56e0e6410a1c1fd3500dc9f540/expr.png\" style=\"display:inline;vertical-align:middle;\" /></a></td></tr>\n",
       "<tr><td>2</td><td>Lambda</td><td>parameter:&nbsp;13<br>body:&nbsp;3<br>conditions:&nbsp;4<br></td><td><a class=\"ProveItLink\" href=\"__pv_it/c783c3d0ddceffe458a468f833f77851b5e5488e0/expr.ipynb\"><img src=\"__pv_it/c783c3d0ddceffe458a468f833f77851b5e5488e0/expr.png\" style=\"display:inline;vertical-align:middle;\" /></a></td></tr>\n",
       "<tr><td>3</td><td>Operation</td><td>operator:&nbsp;5<br>operand:&nbsp;13<br></td><td><a class=\"ProveItLink\" href=\"../packages/proveit/__pv_it/8c735c381b4cbf3c87e86ca2468da4e5c976f9b00/expr.ipynb\"><img src=\"../packages/proveit/__pv_it/8c735c381b4cbf3c87e86ca2468da4e5c976f9b00/expr.png\" style=\"display:inline;vertical-align:middle;\" /></a></td></tr>\n",
       "<tr><td>4</td><td>ExprList</td><td>6, 7, 8</td><td><a class=\"ProveItLink\" href=\"__pv_it/25b4fb40e880d04b05e4f76c95553f0c0b3b76b20/expr.ipynb\"><img src=\"__pv_it/25b4fb40e880d04b05e4f76c95553f0c0b3b76b20/expr.png\" style=\"display:inline;vertical-align:middle;\" /></a></td></tr>\n",
       "<tr><td>5</td><td>Variable</td><td></td><td><a class=\"ProveItLink\" href=\"../packages/proveit/__pv_it/6369c6c8083c513ca7161ace249642d040f9327d0/expr.ipynb\"><img src=\"../packages/proveit/__pv_it/6369c6c8083c513ca7161ace249642d040f9327d0/expr.png\" style=\"display:inline;vertical-align:middle;\" /></a></td></tr>\n",
       "<tr><td>6</td><td>Operation</td><td>operator:&nbsp;9<br>operands:&nbsp;10<br></td><td><a class=\"ProveItLink\" href=\"__pv_it/e2a5d0d2b35dbe8e279c49a9a93d84141b6063d40/expr.ipynb\"><img src=\"__pv_it/e2a5d0d2b35dbe8e279c49a9a93d84141b6063d40/expr.png\" style=\"display:inline;vertical-align:middle;\" /></a></td></tr>\n",
       "<tr><td>7</td><td>Operation</td><td>operator:&nbsp;11<br>operand:&nbsp;13<br></td><td><a class=\"ProveItLink\" href=\"../packages/proveit/__pv_it/050bcffbb388a0b365dac8afc3d37833b4bb47300/expr.ipynb\"><img src=\"../packages/proveit/__pv_it/050bcffbb388a0b365dac8afc3d37833b4bb47300/expr.png\" style=\"display:inline;vertical-align:middle;\" /></a></td></tr>\n",
       "<tr><td>8</td><td>Operation</td><td>operator:&nbsp;12<br>operand:&nbsp;13<br></td><td><a class=\"ProveItLink\" href=\"../packages/proveit/__pv_it/d01cfc83d8b4aad8e81bd51bd1f9adb62576a1e70/expr.ipynb\"><img src=\"../packages/proveit/__pv_it/d01cfc83d8b4aad8e81bd51bd1f9adb62576a1e70/expr.png\" style=\"display:inline;vertical-align:middle;\" /></a></td></tr>\n",
       "<tr><td>9</td><td>Literal</td><td></td><td><a class=\"ProveItLink\" href=\"../packages/proveit/logic/set_theory/membership/__pv_it/088cbc857536a28d4119ad9639a84270ccb0545d0/expr.ipynb\"><img src=\"../packages/proveit/logic/set_theory/membership/__pv_it/088cbc857536a28d4119ad9639a84270ccb0545d0/expr.png\" style=\"display:inline;vertical-align:middle;\" /></a></td></tr>\n",
       "<tr><td>10</td><td>ExprList</td><td>13, 14</td><td><a class=\"ProveItLink\" href=\"__pv_it/36fdea86647c815a13bd2d80d0c25d06692bc3ac0/expr.ipynb\"><img src=\"__pv_it/36fdea86647c815a13bd2d80d0c25d06692bc3ac0/expr.png\" style=\"display:inline;vertical-align:middle;\" /></a></td></tr>\n",
       "<tr><td>11</td><td>Variable</td><td></td><td><a class=\"ProveItLink\" href=\"../packages/proveit/__pv_it/98124f92e6e1fc3772af50ac63eaa1f5624776f20/expr.ipynb\"><img src=\"../packages/proveit/__pv_it/98124f92e6e1fc3772af50ac63eaa1f5624776f20/expr.png\" style=\"display:inline;vertical-align:middle;\" /></a></td></tr>\n",
       "<tr><td>12</td><td>Variable</td><td></td><td><a class=\"ProveItLink\" href=\"../packages/proveit/__pv_it/e24df48bc297bbcf3538a62f5b4f635a392abfce0/expr.ipynb\"><img src=\"../packages/proveit/__pv_it/e24df48bc297bbcf3538a62f5b4f635a392abfce0/expr.png\" style=\"display:inline;vertical-align:middle;\" /></a></td></tr>\n",
       "<tr><td>13</td><td>Variable</td><td></td><td><a class=\"ProveItLink\" href=\"../packages/proveit/__pv_it/530be409e3083890784cf1d7b28c9e67e90af9360/expr.ipynb\"><img src=\"../packages/proveit/__pv_it/530be409e3083890784cf1d7b28c9e67e90af9360/expr.png\" style=\"display:inline;vertical-align:middle;\" /></a></td></tr>\n",
       "<tr><td>14</td><td>Variable</td><td></td><td><a class=\"ProveItLink\" href=\"../packages/proveit/__pv_it/abeee18594afe51bfb1be95d9591fbba24ac53f30/expr.ipynb\"><img src=\"../packages/proveit/__pv_it/abeee18594afe51bfb1be95d9591fbba24ac53f30/expr.png\" style=\"display:inline;vertical-align:middle;\" /></a></td></tr>\n",
       "</table>\n"
      ],
      "text/plain": [
       "0. forall_{x in S | Q(x) , R(x)} P(x)\n",
       "   core type: Operation\n",
       "   operator: 1\n",
       "   operand: 2\n",
       "1. forall\n",
       "   core type: Literal\n",
       "   sub-expressions: \n",
       "2. x -> P(x) | x in S , Q(x) , R(x)\n",
       "   core type: Lambda\n",
       "   parameter: 13\n",
       "   body: 3\n",
       "   conditions: 4\\n3. P(x)\n",
       "   core type: Operation\n",
       "   operator: 5\n",
       "   operand: 13\n",
       "4. (x in S , Q(x) , R(x))\n",
       "   core type: ExprList\n",
       "   sub-expressions: 6, 7, 8\n",
       "5. P\n",
       "   core type: Variable\n",
       "   sub-expressions: \n",
       "6. x in S\n",
       "   core type: Operation\n",
       "   operator: 9\n",
       "   operands: 10\n",
       "7. Q(x)\n",
       "   core type: Operation\n",
       "   operator: 11\n",
       "   operand: 13\n",
       "8. R(x)\n",
       "   core type: Operation\n",
       "   operator: 12\n",
       "   operand: 13\n",
       "9. in\n",
       "   core type: Literal\n",
       "   sub-expressions: \n",
       "10. (x , S)\n",
       "    core type: ExprList\n",
       "    sub-expressions: 13, 14\n",
       "11. Q\n",
       "    core type: Variable\n",
       "    sub-expressions: \n",
       "12. R\n",
       "    core type: Variable\n",
       "    sub-expressions: \n",
       "13. x\n",
       "    core type: Variable\n",
       "    sub-expressions: \n",
       "14. S\n",
       "    core type: Variable\n",
       "    sub-expressions: "
      ]
     },
     "execution_count": 3,
     "metadata": {},
     "output_type": "execute_result"
    }
   ],
   "source": [
    "basicForallExpr.exprInfo()"
   ]
  },
  {
   "cell_type": "markdown",
   "metadata": {},
   "source": [
    "`Forall` derives from `OperationOverInstances` (`proveit._core_.expression.operation.operation_over_instances.OperationOverInstances` aliased as `proveit.OperationOverInstances`) which generally defines an operation that acts on a **lambda** map with optional conditions.  The idea is like a \"functional\" (a function of a function).  It operates over the range of instances for the **lambda** parameters for which the condition is satisfied.  Other examples of **expression** types that derive from `OperationOverInstances` are $\\exists$, $\\sum$, $\\prod$.  \n",
    "\n",
    "In our example above, we see that the $S$ domain is internally represented via the first condition of the conditional **lambda**.  In the external representation, it is displayed more compactly along with the introduction of $x$ before the vertical line that precedes the other conditions.  This is a matter of presentation style that is independent of how **Prove-It** treats this expression.  As far as **Prove-It** is concerned, $x \\in S$ is simply a condition no different than $Q(x)$ and $R(x)$.  The various parts of the `Forall` **expression** may be accessed as follows:"
   ]
  },
  {
   "cell_type": "code",
   "execution_count": 4,
   "metadata": {},
   "outputs": [
    {
     "data": {
      "text/html": [
       "<a class=\"ProveItLink\" href=\"../packages/proveit/__pv_it/530be409e3083890784cf1d7b28c9e67e90af9360/expr.ipynb\"><img src=\"../packages/proveit/__pv_it/530be409e3083890784cf1d7b28c9e67e90af9360/expr.png\" style=\"display:inline;vertical-align:middle;\" /></a>"
      ],
      "text/plain": [
       "x"
      ]
     },
     "execution_count": 4,
     "metadata": {},
     "output_type": "execute_result"
    }
   ],
   "source": [
    "# Variable whose value defines the instance.\n",
    "basicForallExpr.instanceVar # This attribute only exists when there is only one."
   ]
  },
  {
   "cell_type": "code",
   "execution_count": 5,
   "metadata": {},
   "outputs": [
    {
     "data": {
      "text/html": [
       "<a class=\"ProveItLink\" href=\"__pv_it/1259beaa2045d2a0acbc82c87734ac2007f6dc7b0/expr.ipynb\"><img src=\"__pv_it/1259beaa2045d2a0acbc82c87734ac2007f6dc7b0/expr.png\" style=\"display:inline;vertical-align:middle;\" /></a>"
      ],
      "text/plain": [
       "(x)"
      ]
     },
     "execution_count": 5,
     "metadata": {},
     "output_type": "execute_result"
    }
   ],
   "source": [
    "basicForallExpr.instanceVars # The list of variables whose values define the instance (may be one or more)."
   ]
  },
  {
   "cell_type": "code",
   "execution_count": 6,
   "metadata": {},
   "outputs": [
    {
     "data": {
      "text/html": [
       "<a class=\"ProveItLink\" href=\"../packages/proveit/__pv_it/8c735c381b4cbf3c87e86ca2468da4e5c976f9b00/expr.ipynb\"><img src=\"../packages/proveit/__pv_it/8c735c381b4cbf3c87e86ca2468da4e5c976f9b00/expr.png\" style=\"display:inline;vertical-align:middle;\" /></a>"
      ],
      "text/plain": [
       "P(x)"
      ]
     },
     "execution_count": 6,
     "metadata": {},
     "output_type": "execute_result"
    }
   ],
   "source": [
    "basicForallExpr.instanceExpr # The expression being quantified over."
   ]
  },
  {
   "cell_type": "code",
   "execution_count": 7,
   "metadata": {
    "scrolled": true
   },
   "outputs": [
    {
     "data": {
      "text/html": [
       "<a class=\"ProveItLink\" href=\"__pv_it/25b4fb40e880d04b05e4f76c95553f0c0b3b76b20/expr.ipynb\"><img src=\"__pv_it/25b4fb40e880d04b05e4f76c95553f0c0b3b76b20/expr.png\" style=\"display:inline;vertical-align:middle;\" /></a>"
      ],
      "text/plain": [
       "(x in S , Q(x) , R(x))"
      ]
     },
     "execution_count": 7,
     "metadata": {},
     "output_type": "execute_result"
    }
   ],
   "source": [
    "basicForallExpr.conditions # The list of conditions of the universal quantification."
   ]
  },
  {
   "cell_type": "code",
   "execution_count": 8,
   "metadata": {},
   "outputs": [
    {
     "data": {
      "text/html": [
       "<a class=\"ProveItLink\" href=\"../packages/proveit/__pv_it/abeee18594afe51bfb1be95d9591fbba24ac53f30/expr.ipynb\"><img src=\"../packages/proveit/__pv_it/abeee18594afe51bfb1be95d9591fbba24ac53f30/expr.png\" style=\"display:inline;vertical-align:middle;\" /></a>"
      ],
      "text/plain": [
       "S"
      ]
     },
     "execution_count": 8,
     "metadata": {},
     "output_type": "execute_result"
    }
   ],
   "source": [
    "# Domain of the instance variable.\n",
    "basicForallExpr.domain # This attribute only exists when there is only one instance variable (otherwise use `domains`)."
   ]
  },
  {
   "cell_type": "code",
   "execution_count": 9,
   "metadata": {},
   "outputs": [
    {
     "data": {
      "text/html": [
       "<a class=\"ProveItLink\" href=\"__pv_it/6fddfcabc8af257c9fd69b275108d5e0522962a70/expr.ipynb\"><img src=\"__pv_it/6fddfcabc8af257c9fd69b275108d5e0522962a70/expr.png\" style=\"display:inline;vertical-align:middle;\" /></a>"
      ],
      "text/plain": [
       "(Q(x) , R(x))"
      ]
     },
     "execution_count": 9,
     "metadata": {},
     "output_type": "execute_result"
    }
   ],
   "source": [
    "# Returns the list of conditions that appear after the vertical line in the notation,\n",
    "basicForallExpr.explicitConditions()  # exluding the domain condition(s)."
   ]
  },
  {
   "cell_type": "markdown",
   "metadata": {},
   "source": [
    "Specialization\n",
    "======\n",
    "\n",
    "The *specialization* derivation step uses *expression substitution* internally.  The difference is that *specialization* has proof implications and enforces the extra restrictions to justify these proof implications.  It also eliminates one or more of the outer $\\forall$ operations."
   ]
  },
  {
   "cell_type": "markdown",
   "metadata": {},
   "source": [
    "\n",
    "### Basic Specialization\n",
    "\n",
    "Let us take our basic/generic example of the `Forall` expression above and specialize it with a particular \"instance\" expression.  To do so, we will make assumptions to trivially allow this derivation step is taken (just to show how this works)."
   ]
  },
  {
   "cell_type": "code",
   "execution_count": 10,
   "metadata": {},
   "outputs": [
    {
     "data": {
      "text/html": [
       "<strong id=\"assumptions\">assumptions:</strong> <a class=\"ProveItLink\" href=\"__pv_it/e368e2db9ada4682da453f47c725818d16c554ff0/expr.ipynb\"><img src=\"__pv_it/e368e2db9ada4682da453f47c725818d16c554ff0/expr.png\" style=\"display:inline;vertical-align:middle;\" /></a><br>"
      ],
      "text/plain": [
       "assumptions: (forall_{x in S | Q(x) , R(x)} P(x) , f(y) in S , Q(f(y)) , R(f(y)))"
      ]
     },
     "execution_count": 10,
     "metadata": {},
     "output_type": "execute_result"
    }
   ],
   "source": [
    "from proveit import Function, ExprList\n",
    "from proveit._common_ import fy\n",
    "from proveit.logic import InSet\n",
    "assumptions = ExprList(basicForallExpr, InSet(fy, S), Function(Q, fy), Function(R, fy))"
   ]
  },
  {
   "cell_type": "markdown",
   "metadata": {},
   "source": [
    "`InSet` is another core concept that is defined outside of the core in `proveit.logic`.  It represents the set membership operation using the $\\in$ symbol.  It is needed as a core concept specifically for the purpose of ensuring that universal quantification requirements are met (the \"instance\" expression must be \"in\" the domain set)."
   ]
  },
  {
   "cell_type": "code",
   "execution_count": 11,
   "metadata": {
    "scrolled": true
   },
   "outputs": [
    {
     "data": {
      "text/html": [
       "<span style=\"font-size:20px;\"><a class=\"ProveItLink\" href=\"__pv_it/d70b5ee31736f58e8e966eeca387b659561c3db30/expr.ipynb\"><img src=\"__pv_it/d70b5ee31736f58e8e966eeca387b659561c3db30/expr.png\" style=\"display:inline;vertical-align:middle;\" /></a> &#x22A2;&nbsp;<a class=\"ProveItLink\" href=\"__pv_it/e16eba53b0be132ecdb115b19c32e9f6e91766930/expr.ipynb\"><img src=\"__pv_it/e16eba53b0be132ecdb115b19c32e9f6e91766930/expr.png\" style=\"display:inline;vertical-align:middle;\" /></a></span>"
      ],
      "text/plain": [
       "{forall_{x in S | Q(x) , R(x)} P(x) , f(y) in S , Q(f(y)) , R(f(y))} |= P(f(y))"
      ]
     },
     "execution_count": 11,
     "metadata": {},
     "output_type": "execute_result"
    }
   ],
   "source": [
    "basicForallSpec = basicForallExpr.specialize({x:fy}, assumptions=assumptions)\n",
    "basicForallSpec"
   ]
  },
  {
   "cell_type": "markdown",
   "metadata": {},
   "source": [
    "We have proven, somewhat trivially, that $P(f(y))$ is true assuming that $\\forall_{x \\in S~|~Q(x)} P(x)$, $f(y) \\in S$, $Q(f(y))$ are all true statements.  Let is take a look at the proof for this statement."
   ]
  },
  {
   "cell_type": "code",
   "execution_count": 12,
   "metadata": {},
   "outputs": [
    {
     "data": {
      "text/html": [
       "<table><tr><th>&nbsp;</th><th>step type</th><th>requirements</th><th>statement</th></tr>\n",
       "<tr><td>0</td><td>specialization</td><td>1, 2, 3, 4</td><td><span style=\"font-size:20px;\"><a class=\"ProveItLink\" href=\"__pv_it/d70b5ee31736f58e8e966eeca387b659561c3db30/expr.ipynb\"><img src=\"__pv_it/d70b5ee31736f58e8e966eeca387b659561c3db30/expr.png\" style=\"display:inline;vertical-align:middle;\" /></a> &#x22A2;&nbsp;<a class=\"ProveItLink\" href=\"__pv_it/e16eba53b0be132ecdb115b19c32e9f6e91766930/expr.ipynb\"><img src=\"__pv_it/e16eba53b0be132ecdb115b19c32e9f6e91766930/expr.png\" style=\"display:inline;vertical-align:middle;\" /></a></span></td></tr>\n",
       "<tr><td>&nbsp;</td><td colspan=4 style=\"text-align:left\"><span style=\"font-size:20px;\"><a class=\"ProveItLink\" href=\"__pv_it/7006eaf09ee48a8dd6eaab02e4c610d12b7e22dc0/expr.ipynb\"><img src=\"__pv_it/7006eaf09ee48a8dd6eaab02e4c610d12b7e22dc0/expr.png\" style=\"display:inline;vertical-align:middle;\" /></a></span></td></tr><tr><td>1</td><td>assumption</td><td></td><td><span style=\"font-size:20px;\"><a class=\"ProveItLink\" href=\"__pv_it/2fc942ec13b08c0708ed52aea6f50c6d2ef23ba80/expr.ipynb\"><img src=\"__pv_it/2fc942ec13b08c0708ed52aea6f50c6d2ef23ba80/expr.png\" style=\"display:inline;vertical-align:middle;\" /></a> &#x22A2;&nbsp;<a class=\"ProveItLink\" href=\"__pv_it/7468d4916c89bdc1b293f9e1bedcf688fd61bc5a0/expr.ipynb\"><img src=\"__pv_it/7468d4916c89bdc1b293f9e1bedcf688fd61bc5a0/expr.png\" style=\"display:inline;vertical-align:middle;\" /></a></span></td></tr>\n",
       "<tr><td>2</td><td>assumption</td><td></td><td><span style=\"font-size:20px;\"><a class=\"ProveItLink\" href=\"__pv_it/268f310cadeea8c32912ea7c8328fa40b11fa53c0/expr.ipynb\"><img src=\"__pv_it/268f310cadeea8c32912ea7c8328fa40b11fa53c0/expr.png\" style=\"display:inline;vertical-align:middle;\" /></a> &#x22A2;&nbsp;<a class=\"ProveItLink\" href=\"__pv_it/ec2c2fa1ecba6bd2da2def76efbae1904f43053d0/expr.ipynb\"><img src=\"__pv_it/ec2c2fa1ecba6bd2da2def76efbae1904f43053d0/expr.png\" style=\"display:inline;vertical-align:middle;\" /></a></span></td></tr>\n",
       "<tr><td>3</td><td>assumption</td><td></td><td><span style=\"font-size:20px;\"><a class=\"ProveItLink\" href=\"__pv_it/fac784b6f51600f981c380d5f3e3cd5cbb4e2b5f0/expr.ipynb\"><img src=\"__pv_it/fac784b6f51600f981c380d5f3e3cd5cbb4e2b5f0/expr.png\" style=\"display:inline;vertical-align:middle;\" /></a> &#x22A2;&nbsp;<a class=\"ProveItLink\" href=\"__pv_it/a42dcb2a1478b3b87b8f129e549a557692557fd00/expr.ipynb\"><img src=\"__pv_it/a42dcb2a1478b3b87b8f129e549a557692557fd00/expr.png\" style=\"display:inline;vertical-align:middle;\" /></a></span></td></tr>\n",
       "<tr><td>4</td><td>assumption</td><td></td><td><span style=\"font-size:20px;\"><a class=\"ProveItLink\" href=\"__pv_it/58a41dc1621297c1cdfcccc8ead95654fb69a7df0/expr.ipynb\"><img src=\"__pv_it/58a41dc1621297c1cdfcccc8ead95654fb69a7df0/expr.png\" style=\"display:inline;vertical-align:middle;\" /></a> &#x22A2;&nbsp;<a class=\"ProveItLink\" href=\"__pv_it/7aa454bcc8446e5a1c8515a46db6a919038056c50/expr.ipynb\"><img src=\"__pv_it/7aa454bcc8446e5a1c8515a46db6a919038056c50/expr.png\" style=\"display:inline;vertical-align:middle;\" /></a></span></td></tr>\n",
       "</table>"
      ],
      "text/plain": [
       "\tstep type\trequirements\tstatement\n",
       "0\tspecialization\t1, 2, 3, 4\t{forall_{x in S | Q(x) , R(x)} P(x) , f(y) in S , Q(f(y)) , R(f(y))} |= P(f(y))\n",
       "\tx -> f(y)\n",
       "1\tassumption\t\t{forall_{x in S | Q(x) , R(x)} P(x)} |= forall_{x in S | Q(x) , R(x)} P(x)\n",
       "2\tassumption\t\t{f(y) in S} |= f(y) in S\n",
       "3\tassumption\t\t{Q(f(y))} |= Q(f(y))\n",
       "4\tassumption\t\t{R(f(y))} |= R(f(y))"
      ]
     },
     "execution_count": 12,
     "metadata": {},
     "output_type": "execute_result"
    }
   ],
   "source": [
    "basicForallSpec.proof()"
   ]
  },
  {
   "cell_type": "markdown",
   "metadata": {},
   "source": [
    "This indicates that the proof requires a *specialization* step (step 0) and explicitly indicates, in the row under step 0, the mapping being performed (mapping $x$ to $f(y)$).  The subsequent proof steps that are required are simply proofs by assumption.  Specifically, the original `Forall` expression must be true and the conditions must be satisfied for the instance $x \\mapsto f(y)$: $f(y) \\in S$, $Q(f(x))$, and $R(f(y))$.  If any of these are not known to be true under the provided assumptions, this step will fail.  In this example, they are trivially true because we our assumptions were chosen to be precisely what needed to be true for the *specialization* step to succeed."
   ]
  },
  {
   "cell_type": "markdown",
   "metadata": {},
   "source": [
    "If we leave out our first assumption, **Prove-It** is unable to prove the original `Forall` expression even after attempting to perform automation and the *specialization* step will fail."
   ]
  },
  {
   "cell_type": "code",
   "execution_count": 13,
   "metadata": {},
   "outputs": [
    {
     "name": "stdout",
     "output_type": "stream",
     "text": [
      "EXPECTED ERROR: Unable to prove forall_{x in S | Q(x) , R(x)} P(x) assuming {f(y) in S, Q(f(y)), R(f(y))}: Unable to conclude automatically; the domain has no 'foldAsForall' method and automated generalization failed.\n"
     ]
    }
   ],
   "source": [
    "from proveit import ProofFailure\n",
    "try:\n",
    "    basicForallExpr.specialize({x:fy}, assumptions=assumptions[1:])\n",
    "    assert False, \"Expecting an ProofFailure error; should not make it to this point\"\n",
    "except ProofFailure as e:\n",
    "    print \"EXPECTED ERROR:\", e"
   ]
  },
  {
   "cell_type": "markdown",
   "metadata": {},
   "source": [
    "The automation checks to see of the $S$ **Expression** has a `foldAsForall` method that would automate a proof for universal quantification over $S$.  Since $S$ is a simple **Variable** object, no such automation exists.  Next we'll see what happens when the \"instance\" is not in the $S$ domain."
   ]
  },
  {
   "cell_type": "code",
   "execution_count": 14,
   "metadata": {},
   "outputs": [
    {
     "name": "stdout",
     "output_type": "stream",
     "text": [
      "EXPECTED ERROR: Unable to prove P(f(y)) assuming {forall_{x in S | Q(x) , R(x)} P(x), Q(f(y)), R(f(y))}: Unmet specialization requirement: f(y) in S\n"
     ]
    }
   ],
   "source": [
    "from proveit import SpecializationFailure\n",
    "try:\n",
    "    basicForallExpr.specialize({x:fy}, assumptions=assumptions[:1]+assumptions[2:])\n",
    "    assert False, \"Expecting an SpecializationFailure error; should not make it to this point\"\n",
    "except SpecializationFailure as e:\n",
    "    print \"EXPECTED ERROR:\", e"
   ]
  },
  {
   "cell_type": "markdown",
   "metadata": {},
   "source": [
    "Finally, we demonstrate the case when one of the \"explicit\" conditions is not met."
   ]
  },
  {
   "cell_type": "code",
   "execution_count": 15,
   "metadata": {},
   "outputs": [
    {
     "name": "stdout",
     "output_type": "stream",
     "text": [
      "EXPECTED ERROR: Unable to prove P(f(y)) assuming {forall_{x in S | Q(x) , R(x)} P(x), f(y) in S, R(f(y))}: Unmet specialization requirement: Q(f(y))\n"
     ]
    }
   ],
   "source": [
    "try:\n",
    "    basicForallExpr.specialize({x:fy}, assumptions=assumptions[:2]+assumptions[3:])\n",
    "    assert False, \"Expecting an SpecializationFailure error; should not make it to this point\"\n",
    "except SpecializationFailure as e:\n",
    "    print \"EXPECTED ERROR:\", e"
   ]
  },
  {
   "cell_type": "code",
   "execution_count": 16,
   "metadata": {},
   "outputs": [
    {
     "name": "stdout",
     "output_type": "stream",
     "text": [
      "EXPECTED ERROR: Unable to prove P(f(y)) assuming {forall_{x in S | Q(x) , R(x)} P(x), f(y) in S, Q(f(y))}: Unmet specialization requirement: R(f(y))\n"
     ]
    }
   ],
   "source": [
    "try:\n",
    "    basicForallExpr.specialize({x:fy}, assumptions=assumptions[:3])\n",
    "    assert False, \"Expecting an SpecializationFailure error; should not make it to this point\"\n",
    "except SpecializationFailure as e:\n",
    "    print \"EXPECTED ERROR:\", e"
   ]
  },
  {
   "cell_type": "markdown",
   "metadata": {},
   "source": [
    "Also note that you cannot *specialize* a variable that is not one of the `Forall` instance variables."
   ]
  },
  {
   "cell_type": "code",
   "execution_count": 17,
   "metadata": {},
   "outputs": [
    {
     "data": {
      "text/html": [
       "<a class=\"ProveItLink\" href=\"__pv_it/7468d4916c89bdc1b293f9e1bedcf688fd61bc5a0/expr.ipynb\"><img src=\"__pv_it/7468d4916c89bdc1b293f9e1bedcf688fd61bc5a0/expr.png\" style=\"display:inline;vertical-align:middle;\" /></a>"
      ],
      "text/plain": [
       "forall_{x in S | Q(x) , R(x)} P(x)"
      ]
     },
     "execution_count": 17,
     "metadata": {},
     "output_type": "execute_result"
    }
   ],
   "source": [
    "basicForallExpr"
   ]
  },
  {
   "cell_type": "code",
   "execution_count": 18,
   "metadata": {},
   "outputs": [
    {
     "name": "stdout",
     "output_type": "stream",
     "text": [
      "EXPECTED ERROR: Proof step failed assuming {forall_{x in S | Q(x) , R(x)} P(x), f(y) in S, Q(f(y)), R(f(y)), forall_{x in S | Q(x) , R(x)} P(x)}: May only specialize instance variables of directly nested Forall operations\n"
     ]
    }
   ],
   "source": [
    "try:\n",
    "    basicForallExpr.specialize({x:fy, Q:R}, assumptions=assumptions)\n",
    "    assert False, \"Expecting an SpecializationFailure error; should not make it to this point\"\n",
    "except SpecializationFailure as e:\n",
    "    print \"EXPECTED ERROR:\", e"
   ]
  },
  {
   "cell_type": "markdown",
   "metadata": {},
   "source": [
    "You can *relabel* **Variable**s that are not `Forall` instance variables.  Later we will show that you can *relabel* and *specialize* simultaneously.  You can also *specialize* multiple levels of `Forall` operations simultaneously which is why the previous error message mentions \"nested Forall operations\". "
   ]
  },
  {
   "cell_type": "markdown",
   "metadata": {},
   "source": [
    "### Universal quantification without a domain\n",
    "\n",
    "It is not necessary to specify a domain in a `Forall` **Expression**.  For example, the condition(s) may provide sufficient restrictions for the universal quantification.  Also, any number of conditions may be specified (including no conditions)."
   ]
  },
  {
   "cell_type": "code",
   "execution_count": 19,
   "metadata": {},
   "outputs": [
    {
     "data": {
      "text/html": [
       "<strong id=\"noDomainForallExpr\">noDomainForallExpr:</strong> <a class=\"ProveItLink\" href=\"__pv_it/58673fc9b8851b97c322597e130727fc619224a70/expr.ipynb\"><img src=\"__pv_it/58673fc9b8851b97c322597e130727fc619224a70/expr.png\" style=\"display:inline;vertical-align:middle;\" /></a><br>"
      ],
      "text/plain": [
       "noDomainForallExpr: forall_{x | Q(x)} P(x)"
      ]
     },
     "execution_count": 19,
     "metadata": {},
     "output_type": "execute_result"
    }
   ],
   "source": [
    "noDomainForallExpr = Forall(x, Px, conditions=[Qx])"
   ]
  },
  {
   "cell_type": "code",
   "execution_count": 20,
   "metadata": {},
   "outputs": [],
   "source": [
    "assert not hasattr(noDomainForallExpr, 'domain') # it should not have a domain attribute"
   ]
  },
  {
   "cell_type": "code",
   "execution_count": 21,
   "metadata": {},
   "outputs": [
    {
     "data": {
      "text/html": [
       "<table><tr><th>&nbsp;</th><th>core type</th><th>sub-expressions</th><th>expression</th></tr>\n",
       "<tr><td>0</td><td>Operation</td><td>operator:&nbsp;1<br>operand:&nbsp;2<br></td><td><a class=\"ProveItLink\" href=\"__pv_it/58673fc9b8851b97c322597e130727fc619224a70/expr.ipynb\"><img src=\"__pv_it/58673fc9b8851b97c322597e130727fc619224a70/expr.png\" style=\"display:inline;vertical-align:middle;\" /></a></td></tr>\n",
       "<tr><td>1</td><td>Literal</td><td></td><td><a class=\"ProveItLink\" href=\"../packages/proveit/logic/boolean/quantification/universal/__pv_it/265f8c02ac1094d56e0e6410a1c1fd3500dc9f540/expr.ipynb\"><img src=\"../packages/proveit/logic/boolean/quantification/universal/__pv_it/265f8c02ac1094d56e0e6410a1c1fd3500dc9f540/expr.png\" style=\"display:inline;vertical-align:middle;\" /></a></td></tr>\n",
       "<tr><td>2</td><td>Lambda</td><td>parameter:&nbsp;8<br>body:&nbsp;3<br>conditions:&nbsp;4<br></td><td><a class=\"ProveItLink\" href=\"__pv_it/b8a7d976e666ff37f706887e3ed1646edb7975140/expr.ipynb\"><img src=\"__pv_it/b8a7d976e666ff37f706887e3ed1646edb7975140/expr.png\" style=\"display:inline;vertical-align:middle;\" /></a></td></tr>\n",
       "<tr><td>3</td><td>Operation</td><td>operator:&nbsp;5<br>operand:&nbsp;8<br></td><td><a class=\"ProveItLink\" href=\"../packages/proveit/__pv_it/8c735c381b4cbf3c87e86ca2468da4e5c976f9b00/expr.ipynb\"><img src=\"../packages/proveit/__pv_it/8c735c381b4cbf3c87e86ca2468da4e5c976f9b00/expr.png\" style=\"display:inline;vertical-align:middle;\" /></a></td></tr>\n",
       "<tr><td>4</td><td>ExprList</td><td>6</td><td><a class=\"ProveItLink\" href=\"__pv_it/a422a8eec4da2178db83f3d719e826b5246a80ac0/expr.ipynb\"><img src=\"__pv_it/a422a8eec4da2178db83f3d719e826b5246a80ac0/expr.png\" style=\"display:inline;vertical-align:middle;\" /></a></td></tr>\n",
       "<tr><td>5</td><td>Variable</td><td></td><td><a class=\"ProveItLink\" href=\"../packages/proveit/__pv_it/6369c6c8083c513ca7161ace249642d040f9327d0/expr.ipynb\"><img src=\"../packages/proveit/__pv_it/6369c6c8083c513ca7161ace249642d040f9327d0/expr.png\" style=\"display:inline;vertical-align:middle;\" /></a></td></tr>\n",
       "<tr><td>6</td><td>Operation</td><td>operator:&nbsp;7<br>operand:&nbsp;8<br></td><td><a class=\"ProveItLink\" href=\"../packages/proveit/__pv_it/050bcffbb388a0b365dac8afc3d37833b4bb47300/expr.ipynb\"><img src=\"../packages/proveit/__pv_it/050bcffbb388a0b365dac8afc3d37833b4bb47300/expr.png\" style=\"display:inline;vertical-align:middle;\" /></a></td></tr>\n",
       "<tr><td>7</td><td>Variable</td><td></td><td><a class=\"ProveItLink\" href=\"../packages/proveit/__pv_it/98124f92e6e1fc3772af50ac63eaa1f5624776f20/expr.ipynb\"><img src=\"../packages/proveit/__pv_it/98124f92e6e1fc3772af50ac63eaa1f5624776f20/expr.png\" style=\"display:inline;vertical-align:middle;\" /></a></td></tr>\n",
       "<tr><td>8</td><td>Variable</td><td></td><td><a class=\"ProveItLink\" href=\"../packages/proveit/__pv_it/530be409e3083890784cf1d7b28c9e67e90af9360/expr.ipynb\"><img src=\"../packages/proveit/__pv_it/530be409e3083890784cf1d7b28c9e67e90af9360/expr.png\" style=\"display:inline;vertical-align:middle;\" /></a></td></tr>\n",
       "</table>\n"
      ],
      "text/plain": [
       "0. forall_{x | Q(x)} P(x)\n",
       "   core type: Operation\n",
       "   operator: 1\n",
       "   operand: 2\n",
       "1. forall\n",
       "   core type: Literal\n",
       "   sub-expressions: \n",
       "2. x -> P(x) | Q(x)\n",
       "   core type: Lambda\n",
       "   parameter: 8\n",
       "   body: 3\n",
       "   conditions: 4\\n3. P(x)\n",
       "   core type: Operation\n",
       "   operator: 5\n",
       "   operand: 8\n",
       "4. (Q(x))\n",
       "   core type: ExprList\n",
       "   sub-expressions: 6\n",
       "5. P\n",
       "   core type: Variable\n",
       "   sub-expressions: \n",
       "6. Q(x)\n",
       "   core type: Operation\n",
       "   operator: 7\n",
       "   operand: 8\n",
       "7. Q\n",
       "   core type: Variable\n",
       "   sub-expressions: \n",
       "8. x\n",
       "   core type: Variable\n",
       "   sub-expressions: "
      ]
     },
     "execution_count": 21,
     "metadata": {},
     "output_type": "execute_result"
    }
   ],
   "source": [
    "noDomainForallExpr.exprInfo()"
   ]
  },
  {
   "cell_type": "code",
   "execution_count": 22,
   "metadata": {},
   "outputs": [
    {
     "data": {
      "text/html": [
       "<span style=\"font-size:20px;\"><a class=\"ProveItLink\" href=\"__pv_it/5cbfed4332a2c113aa4f33485ec5dfa050f08c7d0/expr.ipynb\"><img src=\"__pv_it/5cbfed4332a2c113aa4f33485ec5dfa050f08c7d0/expr.png\" style=\"display:inline;vertical-align:middle;\" /></a> &#x22A2;&nbsp;<a class=\"ProveItLink\" href=\"__pv_it/e16eba53b0be132ecdb115b19c32e9f6e91766930/expr.ipynb\"><img src=\"__pv_it/e16eba53b0be132ecdb115b19c32e9f6e91766930/expr.png\" style=\"display:inline;vertical-align:middle;\" /></a></span>"
      ],
      "text/plain": [
       "{forall_{x | Q(x)} P(x) , Q(f(y))} |= P(f(y))"
      ]
     },
     "execution_count": 22,
     "metadata": {},
     "output_type": "execute_result"
    }
   ],
   "source": [
    "noDomainForallExpr.specialize({x:fy}, assumptions=[noDomainForallExpr, Function(Q, fy)])"
   ]
  },
  {
   "cell_type": "markdown",
   "metadata": {},
   "source": [
    "### Lambda scope restrictions\n",
    "\n",
    "In `tutorial01_core_expr`, we noted scoping restrictions that apply to **Lambda** expressions in the context of *expression substitution*.  That restriction carries over to *specialization* and is very important.  Consider the following example."
   ]
  },
  {
   "cell_type": "code",
   "execution_count": 23,
   "metadata": {},
   "outputs": [
    {
     "data": {
      "text/html": [
       "<strong id=\"forallExistsExpr\">forallExistsExpr:</strong> <a class=\"ProveItLink\" href=\"__pv_it/f0b0026e24a7b2593efe5bc60479c25de97b9c860/expr.ipynb\"><img src=\"__pv_it/f0b0026e24a7b2593efe5bc60479c25de97b9c860/expr.png\" style=\"display:inline;vertical-align:middle;\" /></a><br>"
      ],
      "text/plain": [
       "forallExistsExpr: forall_{x} [exists_{y} (x != y)]"
      ]
     },
     "execution_count": 23,
     "metadata": {},
     "output_type": "execute_result"
    }
   ],
   "source": [
    "from proveit.logic import NotEquals, Exists\n",
    "from proveit._common_ import Pxy, y, fy\n",
    "forallExistsExpr = Forall(x, Exists(y, NotEquals(x, y)))"
   ]
  },
  {
   "cell_type": "markdown",
   "metadata": {},
   "source": [
    "Note, while `Forall` ($\\forall$) has a special meaning in the **Prove-It** core, `Exists` ($\\exists$) and `Equals` ($\\neq$) do not (they are defined via **axioms** within the `proveit.logic` package which we will explain in a later chapter).  We are using them here to make our point more clear.  Just note that `Exists` is another kind of `OperationOverInstances` that is operates on a **lambda** function:"
   ]
  },
  {
   "cell_type": "code",
   "execution_count": 24,
   "metadata": {},
   "outputs": [
    {
     "data": {
      "text/html": [
       "<table><tr><th>&nbsp;</th><th>core type</th><th>sub-expressions</th><th>expression</th></tr>\n",
       "<tr><td>0</td><td>Operation</td><td>operator:&nbsp;1<br>operand:&nbsp;2<br></td><td><a class=\"ProveItLink\" href=\"__pv_it/a8ff817d909a6dc2fa458a429c20989768d498ed0/expr.ipynb\"><img src=\"__pv_it/a8ff817d909a6dc2fa458a429c20989768d498ed0/expr.png\" style=\"display:inline;vertical-align:middle;\" /></a></td></tr>\n",
       "<tr><td>1</td><td>Literal</td><td></td><td><a class=\"ProveItLink\" href=\"../packages/proveit/logic/boolean/quantification/existential/__pv_it/da19b8f23feda7f65e2e1ac67a7814d51a597b7d0/expr.ipynb\"><img src=\"../packages/proveit/logic/boolean/quantification/existential/__pv_it/da19b8f23feda7f65e2e1ac67a7814d51a597b7d0/expr.png\" style=\"display:inline;vertical-align:middle;\" /></a></td></tr>\n",
       "<tr><td>2</td><td>Lambda</td><td>parameter:&nbsp;7<br>body:&nbsp;3<br></td><td><a class=\"ProveItLink\" href=\"__pv_it/f47970b0618b7a114650a19137c544a3ff825aec0/expr.ipynb\"><img src=\"__pv_it/f47970b0618b7a114650a19137c544a3ff825aec0/expr.png\" style=\"display:inline;vertical-align:middle;\" /></a></td></tr>\n",
       "<tr><td>3</td><td>Operation</td><td>operator:&nbsp;4<br>operands:&nbsp;5<br></td><td><a class=\"ProveItLink\" href=\"../packages/proveit/__pv_it/92792620911245cd88aade372409a600d29637930/expr.ipynb\"><img src=\"../packages/proveit/__pv_it/92792620911245cd88aade372409a600d29637930/expr.png\" style=\"display:inline;vertical-align:middle;\" /></a></td></tr>\n",
       "<tr><td>4</td><td>Variable</td><td></td><td><a class=\"ProveItLink\" href=\"../packages/proveit/__pv_it/6369c6c8083c513ca7161ace249642d040f9327d0/expr.ipynb\"><img src=\"../packages/proveit/__pv_it/6369c6c8083c513ca7161ace249642d040f9327d0/expr.png\" style=\"display:inline;vertical-align:middle;\" /></a></td></tr>\n",
       "<tr><td>5</td><td>ExprList</td><td>6, 7</td><td><a class=\"ProveItLink\" href=\"../packages/proveit/logic/equality/__pv_it/49ffa46c24d385ebbd0014895cf61cc7cb8bd9bb0/expr.ipynb\"><img src=\"../packages/proveit/logic/equality/__pv_it/49ffa46c24d385ebbd0014895cf61cc7cb8bd9bb0/expr.png\" style=\"display:inline;vertical-align:middle;\" /></a></td></tr>\n",
       "<tr><td>6</td><td>Variable</td><td></td><td><a class=\"ProveItLink\" href=\"../packages/proveit/__pv_it/530be409e3083890784cf1d7b28c9e67e90af9360/expr.ipynb\"><img src=\"../packages/proveit/__pv_it/530be409e3083890784cf1d7b28c9e67e90af9360/expr.png\" style=\"display:inline;vertical-align:middle;\" /></a></td></tr>\n",
       "<tr><td>7</td><td>Variable</td><td></td><td><a class=\"ProveItLink\" href=\"../packages/proveit/__pv_it/f8b9edf8e16034727f0aad55bb83e392c3db40d40/expr.ipynb\"><img src=\"../packages/proveit/__pv_it/f8b9edf8e16034727f0aad55bb83e392c3db40d40/expr.png\" style=\"display:inline;vertical-align:middle;\" /></a></td></tr>\n",
       "</table>\n"
      ],
      "text/plain": [
       "0. exists_{y} P(x , y)\n",
       "   core type: Operation\n",
       "   operator: 1\n",
       "   operand: 2\n",
       "1. exists\n",
       "   core type: Literal\n",
       "   sub-expressions: \n",
       "2. y -> P(x , y)\n",
       "   core type: Lambda\n",
       "   parameter: 7\n",
       "   body: 3\n",
       "3. P(x , y)\n",
       "   core type: Operation\n",
       "   operator: 4\n",
       "   operands: 5\n",
       "4. P\n",
       "   core type: Variable\n",
       "   sub-expressions: \n",
       "5. (x , y)\n",
       "   core type: ExprList\n",
       "   sub-expressions: 6, 7\n",
       "6. x\n",
       "   core type: Variable\n",
       "   sub-expressions: \n",
       "7. y\n",
       "   core type: Variable\n",
       "   sub-expressions: "
      ]
     },
     "execution_count": 24,
     "metadata": {},
     "output_type": "execute_result"
    }
   ],
   "source": [
    "Exists(y, Pxy).exprInfo()"
   ]
  },
  {
   "cell_type": "markdown",
   "metadata": {},
   "source": [
    "If we try to specialize $x$ as $y$ in `nestedForall`, this will fail:"
   ]
  },
  {
   "cell_type": "code",
   "execution_count": 25,
   "metadata": {},
   "outputs": [
    {
     "name": "stdout",
     "output_type": "stream",
     "text": [
      "EXPECTED ERROR: Must not make substitution with reserved variables  (i.e., parameters of a Lambda function)\n"
     ]
    }
   ],
   "source": [
    "from proveit import ScopingViolation\n",
    "try:\n",
    "    forallExistsExpr.specialize({x:y}, assumptions={forallExistsExpr})\n",
    "    assert False, \"Expecting an ScopingViolation error; should not make it to this point\"\n",
    "except ScopingViolation as e:\n",
    "    print \"EXPECTED ERROR:\", e"
   ]
  },
  {
   "cell_type": "markdown",
   "metadata": {},
   "source": [
    "This should fail.  We cannot derive $\\exists_y y \\neq y$ by assuming $\\forall_{ x } \\left[\\exists_y x \\neq y \\right]$.  The former is a stronger statement.  We chose this example, in fact, because the latter can be argued as typically true but the former is never true using reasonable definitions.  Where this goes wrong is in violating the scope of $\\exists_y$.  It is introducing $y$ as a new **variable** within the sub-expression $\\exists_y x \\neq y$.  This **label** is off limits to $x$ which is quantified outside of this sub-expression.  We can *specialize* $x$ to whatever we want as long as we respect these scoping restrictions.  It is not simply $y$ that is off limits; all **expressions** involving $y$ are off limits:"
   ]
  },
  {
   "cell_type": "code",
   "execution_count": 26,
   "metadata": {},
   "outputs": [
    {
     "name": "stdout",
     "output_type": "stream",
     "text": [
      "EXPECTED ERROR: Must not make substitution with reserved variables  (i.e., parameters of a Lambda function)\n"
     ]
    }
   ],
   "source": [
    "from proveit import ScopingViolation\n",
    "try:\n",
    "    forallExistsExpr.specialize({x:fy}, assumptions={forallExistsExpr})\n",
    "    assert False, \"Expecting an ScopingViolation error; should not make it to this point\"\n",
    "except ScopingViolation as e:\n",
    "    print \"EXPECTED ERROR:\", e"
   ]
  },
  {
   "cell_type": "markdown",
   "metadata": {},
   "source": [
    "It should also be noted that within a scope, a **variable** may be reused with a different meaning.  This should generally be avoided as it makes **expressions** unclear, but the functionality should be well-defined in case it ever happens.  If this happens, we treat it as a distinct **variable** from anything outside of the scope (that just happens to have the same name).  It can be confusing and should be avoided, but it is well-defined.  For example,"
   ]
  },
  {
   "cell_type": "code",
   "execution_count": 27,
   "metadata": {},
   "outputs": [
    {
     "data": {
      "text/html": [
       "<strong id=\"redundantInstanceVarExpr\">redundantInstanceVarExpr:</strong> <a class=\"ProveItLink\" href=\"__pv_it/e754a50c6dd78482a69f91a97cda1cdc7e384a1a0/expr.ipynb\"><img src=\"__pv_it/e754a50c6dd78482a69f91a97cda1cdc7e384a1a0/expr.png\" style=\"display:inline;vertical-align:middle;\" /></a><br>"
      ],
      "text/plain": [
       "redundantInstanceVarExpr: forall_{x} (P(x) and [forall_{x} Q(x)])"
      ]
     },
     "execution_count": 27,
     "metadata": {},
     "output_type": "execute_result"
    }
   ],
   "source": [
    "from proveit.logic import And\n",
    "redundantInstanceVarExpr = Forall(x, And(Px, Forall(x, Qx)))"
   ]
  },
  {
   "cell_type": "code",
   "execution_count": 28,
   "metadata": {},
   "outputs": [
    {
     "data": {
      "text/html": [
       "<span style=\"font-size:20px;\"><a class=\"ProveItLink\" href=\"__pv_it/d2ec915b8069a0ef78008038a1d59d2b27ec773d0/expr.ipynb\"><img src=\"__pv_it/d2ec915b8069a0ef78008038a1d59d2b27ec773d0/expr.png\" style=\"display:inline;vertical-align:middle;\" /></a> &#x22A2;&nbsp;<a class=\"ProveItLink\" href=\"__pv_it/e4ac55d31d40232db48b076f33836d06b44c226e0/expr.ipynb\"><img src=\"__pv_it/e4ac55d31d40232db48b076f33836d06b44c226e0/expr.png\" style=\"display:inline;vertical-align:middle;\" /></a></span>"
      ],
      "text/plain": [
       "{forall_{x} (P(x) and [forall_{x} Q(x)])} |= P(f(y)) and [forall_{x} Q(x)]"
      ]
     },
     "execution_count": 28,
     "metadata": {},
     "output_type": "execute_result"
    }
   ],
   "source": [
    "# specializing the outer x does not and should not change the inner x which is treated as a distinct Variable\n",
    "redundantInstanceVarExpr.specialize({x:fy}, assumptions={redundantInstanceVarExpr})"
   ]
  },
  {
   "cell_type": "markdown",
   "metadata": {},
   "source": [
    "### Operand, operator, or operation specialization\n",
    "\n",
    "*Specializing* different parts of an **operation** works essentially the same way as it does with *expression substition*.\n",
    "\n",
    "We will use the `substitution` axiom of `proveit.logic.equality` for demonstrations in this section out of convenience.  **Axioms** and the `proveit.logic` package will be discussed in more detail later.  For now, we note that **axioms** (and **theorems**) are taken to be true statements without proof as you can see below."
   ]
  },
  {
   "cell_type": "code",
   "execution_count": 29,
   "metadata": {},
   "outputs": [
    {
     "data": {
      "text/html": [
       "<span style=\"font-size:20px;\"> &#x22A2;&nbsp;<a class=\"ProveItLink\" href=\"../packages/proveit/logic/equality/__pv_it/bbfdd4b897b23eab94ccd38e967c2b310ba4362c0/expr.ipynb\"><img src=\"../packages/proveit/logic/equality/__pv_it/bbfdd4b897b23eab94ccd38e967c2b310ba4362c0/expr.png\" style=\"display:inline;vertical-align:middle;\" /></a></span>"
      ],
      "text/plain": [
       "|= forall_{f, x, y | x = y} (f(x) = f(y))"
      ]
     },
     "execution_count": 29,
     "metadata": {},
     "output_type": "execute_result"
    }
   ],
   "source": [
    "from proveit.logic.equality._axioms_ import substitution\n",
    "substitution"
   ]
  },
  {
   "cell_type": "code",
   "execution_count": 30,
   "metadata": {},
   "outputs": [
    {
     "data": {
      "text/html": [
       "<table><tr><th>&nbsp;</th><th>step type</th><th>requirements</th><th>statement</th></tr>\n",
       "<tr><td>0</td><td>axiom</td><td></td><td><span style=\"font-size:20px;\"> &#x22A2;&nbsp;<a class=\"ProveItLink\" href=\"../packages/proveit/logic/equality/__pv_it/bbfdd4b897b23eab94ccd38e967c2b310ba4362c0/expr.ipynb\"><img src=\"../packages/proveit/logic/equality/__pv_it/bbfdd4b897b23eab94ccd38e967c2b310ba4362c0/expr.png\" style=\"display:inline;vertical-align:middle;\" /></a></span></td></tr>\n",
       "<tr><td>&nbsp;</td><td colspan=4 style-\"text-align:left\"><a class=\"ProveItLink\" href=\"../packages/proveit/logic/equality/_axioms_.ipynb#substitution\">proveit.logic.equality.substitution</a></td></tr></table>"
      ],
      "text/plain": [
       "\tstep type\trequirements\tstatement\n",
       "0\taxiom\t\t|= forall_{f, x, y | x = y} (f(x) = f(y))\n",
       "\tproveit.logic.equality.substitution"
      ]
     },
     "execution_count": 30,
     "metadata": {},
     "output_type": "execute_result"
    }
   ],
   "source": [
    "substitution.proof()"
   ]
  },
  {
   "cell_type": "markdown",
   "metadata": {},
   "source": [
    "Let's grab the $x=y$ condition for use below."
   ]
  },
  {
   "cell_type": "code",
   "execution_count": 31,
   "metadata": {},
   "outputs": [
    {
     "data": {
      "text/html": [
       "<strong id=\"x_eq_y\">x_eq_y:</strong> <a class=\"ProveItLink\" href=\"../packages/proveit/logic/equality/__pv_it/4c4fb7e6d6cc6c4aef91243b02a9bdb408e1b6510/expr.ipynb\"><img src=\"../packages/proveit/logic/equality/__pv_it/4c4fb7e6d6cc6c4aef91243b02a9bdb408e1b6510/expr.png\" style=\"display:inline;vertical-align:middle;\" /></a><br>"
      ],
      "text/plain": [
       "x_eq_y: x = y"
      ]
     },
     "execution_count": 31,
     "metadata": {},
     "output_type": "execute_result"
    }
   ],
   "source": [
    "x_eq_y = substitution.conditions[0]"
   ]
  },
  {
   "cell_type": "markdown",
   "metadata": {},
   "source": [
    "Operator and operand *specialization* are straightforward:"
   ]
  },
  {
   "cell_type": "code",
   "execution_count": 32,
   "metadata": {},
   "outputs": [
    {
     "data": {
      "text/html": [
       "<strong id=\"operatorSubstitution\">operatorSubstitution:</strong> <span style=\"font-size:20px;\"><a class=\"ProveItLink\" href=\"__pv_it/d4a3dd3c85f470d315b548d612a9396dbfc1efd10/expr.ipynb\"><img src=\"__pv_it/d4a3dd3c85f470d315b548d612a9396dbfc1efd10/expr.png\" style=\"display:inline;vertical-align:middle;\" /></a> &#x22A2;&nbsp;<a class=\"ProveItLink\" href=\"__pv_it/9a43788d782722b48403b1a66a78de580c4856b70/expr.ipynb\"><img src=\"__pv_it/9a43788d782722b48403b1a66a78de580c4856b70/expr.png\" style=\"display:inline;vertical-align:middle;\" /></a></span><br>"
      ],
      "text/plain": [
       "operatorSubstitution: {x = y} |= g(x) = g(y)"
      ]
     },
     "execution_count": 32,
     "metadata": {},
     "output_type": "execute_result"
    }
   ],
   "source": [
    "from proveit._common_ import f, g\n",
    "operatorSubstitution = substitution.specialize({f:g}, assumptions=[x_eq_y])"
   ]
  },
  {
   "cell_type": "code",
   "execution_count": 33,
   "metadata": {},
   "outputs": [
    {
     "data": {
      "text/html": [
       "<table><tr><th>&nbsp;</th><th>step type</th><th>requirements</th><th>statement</th></tr>\n",
       "<tr><td>0</td><td>specialization</td><td>1, 2</td><td><span style=\"font-size:20px;\"><a class=\"ProveItLink\" href=\"__pv_it/d4a3dd3c85f470d315b548d612a9396dbfc1efd10/expr.ipynb\"><img src=\"__pv_it/d4a3dd3c85f470d315b548d612a9396dbfc1efd10/expr.png\" style=\"display:inline;vertical-align:middle;\" /></a> &#x22A2;&nbsp;<a class=\"ProveItLink\" href=\"__pv_it/9a43788d782722b48403b1a66a78de580c4856b70/expr.ipynb\"><img src=\"__pv_it/9a43788d782722b48403b1a66a78de580c4856b70/expr.png\" style=\"display:inline;vertical-align:middle;\" /></a></span></td></tr>\n",
       "<tr><td>&nbsp;</td><td colspan=4 style=\"text-align:left\"><span style=\"font-size:20px;\"><a class=\"ProveItLink\" href=\"__pv_it/ed721174d97fc06cf541d00b9fac07a680b63ce90/expr.ipynb\"><img src=\"__pv_it/ed721174d97fc06cf541d00b9fac07a680b63ce90/expr.png\" style=\"display:inline;vertical-align:middle;\" /></a>, <a class=\"ProveItLink\" href=\"__pv_it/e27c209c015cc043c1b7408e3a1c61c1e6cf62cb0/expr.ipynb\"><img src=\"__pv_it/e27c209c015cc043c1b7408e3a1c61c1e6cf62cb0/expr.png\" style=\"display:inline;vertical-align:middle;\" /></a>, <a class=\"ProveItLink\" href=\"__pv_it/3445fe6c471b67d680f9bda79b8e38ba83ee52910/expr.ipynb\"><img src=\"__pv_it/3445fe6c471b67d680f9bda79b8e38ba83ee52910/expr.png\" style=\"display:inline;vertical-align:middle;\" /></a></span></td></tr><tr><td>1</td><td>axiom</td><td></td><td><span style=\"font-size:20px;\"> &#x22A2;&nbsp;<a class=\"ProveItLink\" href=\"../packages/proveit/logic/equality/__pv_it/bbfdd4b897b23eab94ccd38e967c2b310ba4362c0/expr.ipynb\"><img src=\"../packages/proveit/logic/equality/__pv_it/bbfdd4b897b23eab94ccd38e967c2b310ba4362c0/expr.png\" style=\"display:inline;vertical-align:middle;\" /></a></span></td></tr>\n",
       "<tr><td>&nbsp;</td><td colspan=4 style-\"text-align:left\"><a class=\"ProveItLink\" href=\"../packages/proveit/logic/equality/_axioms_.ipynb#substitution\">proveit.logic.equality.substitution</a></td></tr><tr><td>2</td><td>assumption</td><td></td><td><span style=\"font-size:20px;\"><a class=\"ProveItLink\" href=\"__pv_it/d4a3dd3c85f470d315b548d612a9396dbfc1efd10/expr.ipynb\"><img src=\"__pv_it/d4a3dd3c85f470d315b548d612a9396dbfc1efd10/expr.png\" style=\"display:inline;vertical-align:middle;\" /></a> &#x22A2;&nbsp;<a class=\"ProveItLink\" href=\"../packages/proveit/logic/equality/__pv_it/4c4fb7e6d6cc6c4aef91243b02a9bdb408e1b6510/expr.ipynb\"><img src=\"../packages/proveit/logic/equality/__pv_it/4c4fb7e6d6cc6c4aef91243b02a9bdb408e1b6510/expr.png\" style=\"display:inline;vertical-align:middle;\" /></a></span></td></tr>\n",
       "</table>"
      ],
      "text/plain": [
       "\tstep type\trequirements\tstatement\n",
       "0\tspecialization\t1, 2\t{x = y} |= g(x) = g(y)\n",
       "\tf -> g, x -> x, y -> y\n",
       "1\taxiom\t\t|= forall_{f, x, y | x = y} (f(x) = f(y))\n",
       "\tproveit.logic.equality.substitution\n",
       "2\tassumption\t\t{x = y} |= x = y"
      ]
     },
     "execution_count": 33,
     "metadata": {},
     "output_type": "execute_result"
    }
   ],
   "source": [
    "operatorSubstitution.proof()"
   ]
  },
  {
   "cell_type": "markdown",
   "metadata": {},
   "source": [
    "Note that $x$ and $y$ mapped to themselves by default.  When a mapping is not specified, the default is to map the **variable** to itself."
   ]
  },
  {
   "cell_type": "code",
   "execution_count": 34,
   "metadata": {},
   "outputs": [
    {
     "data": {
      "text/html": [
       "<strong id=\"operandSubstitution\">operandSubstitution:</strong> <span style=\"font-size:20px;\"><a class=\"ProveItLink\" href=\"__pv_it/8d8a3084855486e794f4b554588278ace1f481070/expr.ipynb\"><img src=\"__pv_it/8d8a3084855486e794f4b554588278ace1f481070/expr.png\" style=\"display:inline;vertical-align:middle;\" /></a> &#x22A2;&nbsp;<a class=\"ProveItLink\" href=\"__pv_it/a89a86e29c59ae3a015546dc7d1a6b5ee9e564870/expr.ipynb\"><img src=\"__pv_it/a89a86e29c59ae3a015546dc7d1a6b5ee9e564870/expr.png\" style=\"display:inline;vertical-align:middle;\" /></a></span><br>"
      ],
      "text/plain": [
       "operandSubstitution: {a = b} |= f(a) = f(b)"
      ]
     },
     "execution_count": 34,
     "metadata": {},
     "output_type": "execute_result"
    }
   ],
   "source": [
    "from proveit._common_ import a, b\n",
    "from proveit.logic import Equals\n",
    "a_eq_b = Equals(a, b)\n",
    "operandSubstitution = substitution.specialize({x:a, y:b}, assumptions=[a_eq_b])"
   ]
  },
  {
   "cell_type": "code",
   "execution_count": 35,
   "metadata": {},
   "outputs": [
    {
     "data": {
      "text/html": [
       "<table><tr><th>&nbsp;</th><th>step type</th><th>requirements</th><th>statement</th></tr>\n",
       "<tr><td>0</td><td>specialization</td><td>1, 2</td><td><span style=\"font-size:20px;\"><a class=\"ProveItLink\" href=\"__pv_it/8d8a3084855486e794f4b554588278ace1f481070/expr.ipynb\"><img src=\"__pv_it/8d8a3084855486e794f4b554588278ace1f481070/expr.png\" style=\"display:inline;vertical-align:middle;\" /></a> &#x22A2;&nbsp;<a class=\"ProveItLink\" href=\"__pv_it/a89a86e29c59ae3a015546dc7d1a6b5ee9e564870/expr.ipynb\"><img src=\"__pv_it/a89a86e29c59ae3a015546dc7d1a6b5ee9e564870/expr.png\" style=\"display:inline;vertical-align:middle;\" /></a></span></td></tr>\n",
       "<tr><td>&nbsp;</td><td colspan=4 style=\"text-align:left\"><span style=\"font-size:20px;\"><a class=\"ProveItLink\" href=\"__pv_it/bef4581c5ddd43939ea0db0f3d33f2c491bba78a0/expr.ipynb\"><img src=\"__pv_it/bef4581c5ddd43939ea0db0f3d33f2c491bba78a0/expr.png\" style=\"display:inline;vertical-align:middle;\" /></a>, <a class=\"ProveItLink\" href=\"__pv_it/578d1f969e46862b5928198e6899708bb091728e0/expr.ipynb\"><img src=\"__pv_it/578d1f969e46862b5928198e6899708bb091728e0/expr.png\" style=\"display:inline;vertical-align:middle;\" /></a>, <a class=\"ProveItLink\" href=\"__pv_it/c08fc498ec01648d821999678fed089ce6d774860/expr.ipynb\"><img src=\"__pv_it/c08fc498ec01648d821999678fed089ce6d774860/expr.png\" style=\"display:inline;vertical-align:middle;\" /></a></span></td></tr><tr><td>1</td><td>axiom</td><td></td><td><span style=\"font-size:20px;\"> &#x22A2;&nbsp;<a class=\"ProveItLink\" href=\"../packages/proveit/logic/equality/__pv_it/bbfdd4b897b23eab94ccd38e967c2b310ba4362c0/expr.ipynb\"><img src=\"../packages/proveit/logic/equality/__pv_it/bbfdd4b897b23eab94ccd38e967c2b310ba4362c0/expr.png\" style=\"display:inline;vertical-align:middle;\" /></a></span></td></tr>\n",
       "<tr><td>&nbsp;</td><td colspan=4 style-\"text-align:left\"><a class=\"ProveItLink\" href=\"../packages/proveit/logic/equality/_axioms_.ipynb#substitution\">proveit.logic.equality.substitution</a></td></tr><tr><td>2</td><td>assumption</td><td></td><td><span style=\"font-size:20px;\"><a class=\"ProveItLink\" href=\"__pv_it/8d8a3084855486e794f4b554588278ace1f481070/expr.ipynb\"><img src=\"__pv_it/8d8a3084855486e794f4b554588278ace1f481070/expr.png\" style=\"display:inline;vertical-align:middle;\" /></a> &#x22A2;&nbsp;<a class=\"ProveItLink\" href=\"__pv_it/8fb8e18e6a4a7fe5a24ad35251804ca6599d89310/expr.ipynb\"><img src=\"__pv_it/8fb8e18e6a4a7fe5a24ad35251804ca6599d89310/expr.png\" style=\"display:inline;vertical-align:middle;\" /></a></span></td></tr>\n",
       "</table>"
      ],
      "text/plain": [
       "\tstep type\trequirements\tstatement\n",
       "0\tspecialization\t1, 2\t{a = b} |= f(a) = f(b)\n",
       "\tf -> f, x -> a, y -> b\n",
       "1\taxiom\t\t|= forall_{f, x, y | x = y} (f(x) = f(y))\n",
       "\tproveit.logic.equality.substitution\n",
       "2\tassumption\t\t{a = b} |= a = b"
      ]
     },
     "execution_count": 35,
     "metadata": {},
     "output_type": "execute_result"
    }
   ],
   "source": [
    "operandSubstitution.proof()"
   ]
  },
  {
   "cell_type": "markdown",
   "metadata": {},
   "source": [
    "Operation substitution can be done explicitly via a **lambda** expression just as we saw with *expression substitution*.  The **lambda** expression is not literally substituted in; rather, the function that it represents is applied as the operation."
   ]
  },
  {
   "cell_type": "code",
   "execution_count": 36,
   "metadata": {},
   "outputs": [
    {
     "data": {
      "text/html": [
       "<strong id=\"operationSubstitution\">operationSubstitution:</strong> <span style=\"font-size:20px;\"><a class=\"ProveItLink\" href=\"__pv_it/d4a3dd3c85f470d315b548d612a9396dbfc1efd10/expr.ipynb\"><img src=\"__pv_it/d4a3dd3c85f470d315b548d612a9396dbfc1efd10/expr.png\" style=\"display:inline;vertical-align:middle;\" /></a> &#x22A2;&nbsp;<a class=\"ProveItLink\" href=\"__pv_it/2c97a10aa7f7a70eaba5874c63aa02c18c9ec5630/expr.ipynb\"><img src=\"__pv_it/2c97a10aa7f7a70eaba5874c63aa02c18c9ec5630/expr.png\" style=\"display:inline;vertical-align:middle;\" /></a></span><br>"
      ],
      "text/plain": [
       "operationSubstitution: {x = y} |= (x + a) = (y + a)"
      ]
     },
     "execution_count": 36,
     "metadata": {},
     "output_type": "execute_result"
    }
   ],
   "source": [
    "from proveit import Lambda\n",
    "from proveit.number import Add\n",
    "operationSubstitution = substitution.specialize({f:Lambda(x, Add(x, a))}, assumptions=[x_eq_y])"
   ]
  },
  {
   "cell_type": "code",
   "execution_count": 37,
   "metadata": {},
   "outputs": [
    {
     "data": {
      "text/html": [
       "<table><tr><th>&nbsp;</th><th>step type</th><th>requirements</th><th>statement</th></tr>\n",
       "<tr><td>0</td><td>specialization</td><td>1, 2</td><td><span style=\"font-size:20px;\"><a class=\"ProveItLink\" href=\"__pv_it/d4a3dd3c85f470d315b548d612a9396dbfc1efd10/expr.ipynb\"><img src=\"__pv_it/d4a3dd3c85f470d315b548d612a9396dbfc1efd10/expr.png\" style=\"display:inline;vertical-align:middle;\" /></a> &#x22A2;&nbsp;<a class=\"ProveItLink\" href=\"__pv_it/2c97a10aa7f7a70eaba5874c63aa02c18c9ec5630/expr.ipynb\"><img src=\"__pv_it/2c97a10aa7f7a70eaba5874c63aa02c18c9ec5630/expr.png\" style=\"display:inline;vertical-align:middle;\" /></a></span></td></tr>\n",
       "<tr><td>&nbsp;</td><td colspan=4 style=\"text-align:left\"><span style=\"font-size:20px;\"><a class=\"ProveItLink\" href=\"__pv_it/d093c50ac9da1a2220f02c13d218766198a095a50/expr.ipynb\"><img src=\"__pv_it/d093c50ac9da1a2220f02c13d218766198a095a50/expr.png\" style=\"display:inline;vertical-align:middle;\" /></a>, <a class=\"ProveItLink\" href=\"__pv_it/e27c209c015cc043c1b7408e3a1c61c1e6cf62cb0/expr.ipynb\"><img src=\"__pv_it/e27c209c015cc043c1b7408e3a1c61c1e6cf62cb0/expr.png\" style=\"display:inline;vertical-align:middle;\" /></a>, <a class=\"ProveItLink\" href=\"__pv_it/3445fe6c471b67d680f9bda79b8e38ba83ee52910/expr.ipynb\"><img src=\"__pv_it/3445fe6c471b67d680f9bda79b8e38ba83ee52910/expr.png\" style=\"display:inline;vertical-align:middle;\" /></a></span></td></tr><tr><td>1</td><td>axiom</td><td></td><td><span style=\"font-size:20px;\"> &#x22A2;&nbsp;<a class=\"ProveItLink\" href=\"../packages/proveit/logic/equality/__pv_it/bbfdd4b897b23eab94ccd38e967c2b310ba4362c0/expr.ipynb\"><img src=\"../packages/proveit/logic/equality/__pv_it/bbfdd4b897b23eab94ccd38e967c2b310ba4362c0/expr.png\" style=\"display:inline;vertical-align:middle;\" /></a></span></td></tr>\n",
       "<tr><td>&nbsp;</td><td colspan=4 style-\"text-align:left\"><a class=\"ProveItLink\" href=\"../packages/proveit/logic/equality/_axioms_.ipynb#substitution\">proveit.logic.equality.substitution</a></td></tr><tr><td>2</td><td>assumption</td><td></td><td><span style=\"font-size:20px;\"><a class=\"ProveItLink\" href=\"__pv_it/d4a3dd3c85f470d315b548d612a9396dbfc1efd10/expr.ipynb\"><img src=\"__pv_it/d4a3dd3c85f470d315b548d612a9396dbfc1efd10/expr.png\" style=\"display:inline;vertical-align:middle;\" /></a> &#x22A2;&nbsp;<a class=\"ProveItLink\" href=\"../packages/proveit/logic/equality/__pv_it/4c4fb7e6d6cc6c4aef91243b02a9bdb408e1b6510/expr.ipynb\"><img src=\"../packages/proveit/logic/equality/__pv_it/4c4fb7e6d6cc6c4aef91243b02a9bdb408e1b6510/expr.png\" style=\"display:inline;vertical-align:middle;\" /></a></span></td></tr>\n",
       "</table>"
      ],
      "text/plain": [
       "\tstep type\trequirements\tstatement\n",
       "0\tspecialization\t1, 2\t{x = y} |= (x + a) = (y + a)\n",
       "\tf -> [x -> (x + a)], x -> x, y -> y\n",
       "1\taxiom\t\t|= forall_{f, x, y | x = y} (f(x) = f(y))\n",
       "\tproveit.logic.equality.substitution\n",
       "2\tassumption\t\t{x = y} |= x = y"
      ]
     },
     "execution_count": 37,
     "metadata": {},
     "output_type": "execute_result"
    }
   ],
   "source": [
    "operationSubstitution.proof()"
   ]
  },
  {
   "cell_type": "markdown",
   "metadata": {},
   "source": [
    "An alternative way to specify an operation substitution is to map the operation applied to a **variable** onto an **expression** that uses this same **variable**.  In this example, mapping $f(x)$ to $x + a$.  This will be internally translated to the same **lambda** expression as before: $x \\mapsto x + a$."
   ]
  },
  {
   "cell_type": "code",
   "execution_count": 38,
   "metadata": {},
   "outputs": [
    {
     "data": {
      "text/html": [
       "<strong id=\"operationSubstitution2\">operationSubstitution2:</strong> <span style=\"font-size:20px;\"><a class=\"ProveItLink\" href=\"__pv_it/d4a3dd3c85f470d315b548d612a9396dbfc1efd10/expr.ipynb\"><img src=\"__pv_it/d4a3dd3c85f470d315b548d612a9396dbfc1efd10/expr.png\" style=\"display:inline;vertical-align:middle;\" /></a> &#x22A2;&nbsp;<a class=\"ProveItLink\" href=\"__pv_it/2c97a10aa7f7a70eaba5874c63aa02c18c9ec5630/expr.ipynb\"><img src=\"__pv_it/2c97a10aa7f7a70eaba5874c63aa02c18c9ec5630/expr.png\" style=\"display:inline;vertical-align:middle;\" /></a></span><br>"
      ],
      "text/plain": [
       "operationSubstitution2: {x = y} |= (x + a) = (y + a)"
      ]
     },
     "execution_count": 38,
     "metadata": {},
     "output_type": "execute_result"
    }
   ],
   "source": [
    "from proveit._common_ import fx\n",
    "operationSubstitution2 = substitution.specialize({fx:Add(x, a)}, assumptions=[x_eq_y])"
   ]
  },
  {
   "cell_type": "markdown",
   "metadata": {},
   "source": [
    "The proof is exactly the same as before."
   ]
  },
  {
   "cell_type": "code",
   "execution_count": 39,
   "metadata": {},
   "outputs": [
    {
     "data": {
      "text/html": [
       "<table><tr><th>&nbsp;</th><th>step type</th><th>requirements</th><th>statement</th></tr>\n",
       "<tr><td>0</td><td>specialization</td><td>1, 2</td><td><span style=\"font-size:20px;\"><a class=\"ProveItLink\" href=\"__pv_it/d4a3dd3c85f470d315b548d612a9396dbfc1efd10/expr.ipynb\"><img src=\"__pv_it/d4a3dd3c85f470d315b548d612a9396dbfc1efd10/expr.png\" style=\"display:inline;vertical-align:middle;\" /></a> &#x22A2;&nbsp;<a class=\"ProveItLink\" href=\"__pv_it/2c97a10aa7f7a70eaba5874c63aa02c18c9ec5630/expr.ipynb\"><img src=\"__pv_it/2c97a10aa7f7a70eaba5874c63aa02c18c9ec5630/expr.png\" style=\"display:inline;vertical-align:middle;\" /></a></span></td></tr>\n",
       "<tr><td>&nbsp;</td><td colspan=4 style=\"text-align:left\"><span style=\"font-size:20px;\"><a class=\"ProveItLink\" href=\"__pv_it/d093c50ac9da1a2220f02c13d218766198a095a50/expr.ipynb\"><img src=\"__pv_it/d093c50ac9da1a2220f02c13d218766198a095a50/expr.png\" style=\"display:inline;vertical-align:middle;\" /></a>, <a class=\"ProveItLink\" href=\"__pv_it/e27c209c015cc043c1b7408e3a1c61c1e6cf62cb0/expr.ipynb\"><img src=\"__pv_it/e27c209c015cc043c1b7408e3a1c61c1e6cf62cb0/expr.png\" style=\"display:inline;vertical-align:middle;\" /></a>, <a class=\"ProveItLink\" href=\"__pv_it/3445fe6c471b67d680f9bda79b8e38ba83ee52910/expr.ipynb\"><img src=\"__pv_it/3445fe6c471b67d680f9bda79b8e38ba83ee52910/expr.png\" style=\"display:inline;vertical-align:middle;\" /></a></span></td></tr><tr><td>1</td><td>axiom</td><td></td><td><span style=\"font-size:20px;\"> &#x22A2;&nbsp;<a class=\"ProveItLink\" href=\"../packages/proveit/logic/equality/__pv_it/bbfdd4b897b23eab94ccd38e967c2b310ba4362c0/expr.ipynb\"><img src=\"../packages/proveit/logic/equality/__pv_it/bbfdd4b897b23eab94ccd38e967c2b310ba4362c0/expr.png\" style=\"display:inline;vertical-align:middle;\" /></a></span></td></tr>\n",
       "<tr><td>&nbsp;</td><td colspan=4 style-\"text-align:left\"><a class=\"ProveItLink\" href=\"../packages/proveit/logic/equality/_axioms_.ipynb#substitution\">proveit.logic.equality.substitution</a></td></tr><tr><td>2</td><td>assumption</td><td></td><td><span style=\"font-size:20px;\"><a class=\"ProveItLink\" href=\"__pv_it/d4a3dd3c85f470d315b548d612a9396dbfc1efd10/expr.ipynb\"><img src=\"__pv_it/d4a3dd3c85f470d315b548d612a9396dbfc1efd10/expr.png\" style=\"display:inline;vertical-align:middle;\" /></a> &#x22A2;&nbsp;<a class=\"ProveItLink\" href=\"../packages/proveit/logic/equality/__pv_it/4c4fb7e6d6cc6c4aef91243b02a9bdb408e1b6510/expr.ipynb\"><img src=\"../packages/proveit/logic/equality/__pv_it/4c4fb7e6d6cc6c4aef91243b02a9bdb408e1b6510/expr.png\" style=\"display:inline;vertical-align:middle;\" /></a></span></td></tr>\n",
       "</table>"
      ],
      "text/plain": [
       "\tstep type\trequirements\tstatement\n",
       "0\tspecialization\t1, 2\t{x = y} |= (x + a) = (y + a)\n",
       "\tf -> [x -> (x + a)], x -> x, y -> y\n",
       "1\taxiom\t\t|= forall_{f, x, y | x = y} (f(x) = f(y))\n",
       "\tproveit.logic.equality.substitution\n",
       "2\tassumption\t\t{x = y} |= x = y"
      ]
     },
     "execution_count": 39,
     "metadata": {},
     "output_type": "execute_result"
    }
   ],
   "source": [
    "operationSubstitution2.proof()"
   ]
  },
  {
   "cell_type": "markdown",
   "metadata": {},
   "source": [
    "### Specializing multiple levels simultaneously\n",
    "\n",
    "When `Forall` operations are nested, the universal quantifications may be specialized separately.  For example:"
   ]
  },
  {
   "cell_type": "code",
   "execution_count": 40,
   "metadata": {},
   "outputs": [
    {
     "data": {
      "text/html": [
       "<strong id=\"nestedForall\">nestedForall:</strong> <a class=\"ProveItLink\" href=\"__pv_it/53266cdd913e26b8e2cca9e5073392a688a843320/expr.ipynb\"><img src=\"__pv_it/53266cdd913e26b8e2cca9e5073392a688a843320/expr.png\" style=\"display:inline;vertical-align:middle;\" /></a><br>"
      ],
      "text/plain": [
       "nestedForall: forall_{x} [forall_{y} [forall_{z | z < (x + y)} P(x , y , z)]]"
      ]
     },
     "execution_count": 40,
     "metadata": {},
     "output_type": "execute_result"
    }
   ],
   "source": [
    "from proveit._common_ import z, Pxyz\n",
    "from proveit.number import Less\n",
    "nestedForall = Forall(x, Forall(y, Forall(z, Pxyz, conditions=[Less(z, Add(x, y))])))"
   ]
  },
  {
   "cell_type": "code",
   "execution_count": 41,
   "metadata": {},
   "outputs": [
    {
     "data": {
      "text/html": [
       "<strong id=\"nestedForallSpec1\">nestedForallSpec1:</strong> <span style=\"font-size:20px;\"><a class=\"ProveItLink\" href=\"__pv_it/3ae1d9cea7ca7aeee9f665953679f37311464ba50/expr.ipynb\"><img src=\"__pv_it/3ae1d9cea7ca7aeee9f665953679f37311464ba50/expr.png\" style=\"display:inline;vertical-align:middle;\" /></a> &#x22A2;&nbsp;<a class=\"ProveItLink\" href=\"__pv_it/0a525fa1d71ceca7adfa7cd27987034ebd661b500/expr.ipynb\"><img src=\"__pv_it/0a525fa1d71ceca7adfa7cd27987034ebd661b500/expr.png\" style=\"display:inline;vertical-align:middle;\" /></a></span><br>"
      ],
      "text/plain": [
       "nestedForallSpec1: {forall_{x} [forall_{y} [forall_{z | z < (x + y)} P(x , y , z)]]} |= forall_{y} [forall_{z | z < (x + y)} P(x , y , z)]"
      ]
     },
     "execution_count": 41,
     "metadata": {},
     "output_type": "execute_result"
    }
   ],
   "source": [
    "nestedForallSpec1 = nestedForall.specialize(assumptions=[nestedForall])"
   ]
  },
  {
   "cell_type": "code",
   "execution_count": 42,
   "metadata": {},
   "outputs": [
    {
     "data": {
      "text/html": [
       "<strong id=\"nestedForallSpec2\">nestedForallSpec2:</strong> <span style=\"font-size:20px;\"><a class=\"ProveItLink\" href=\"__pv_it/3ae1d9cea7ca7aeee9f665953679f37311464ba50/expr.ipynb\"><img src=\"__pv_it/3ae1d9cea7ca7aeee9f665953679f37311464ba50/expr.png\" style=\"display:inline;vertical-align:middle;\" /></a> &#x22A2;&nbsp;<a class=\"ProveItLink\" href=\"__pv_it/bfbc1da9f6a1907bc7db9ae37bb0895c7aac64ec0/expr.ipynb\"><img src=\"__pv_it/bfbc1da9f6a1907bc7db9ae37bb0895c7aac64ec0/expr.png\" style=\"display:inline;vertical-align:middle;\" /></a></span><br>"
      ],
      "text/plain": [
       "nestedForallSpec2: {forall_{x} [forall_{y} [forall_{z | z < (x + y)} P(x , y , z)]]} |= forall_{z | z < (x + y)} P(x , y , z)"
      ]
     },
     "execution_count": 42,
     "metadata": {},
     "output_type": "execute_result"
    }
   ],
   "source": [
    "nestedForallSpec2 = nestedForallSpec1.specialize()"
   ]
  },
  {
   "cell_type": "code",
   "execution_count": 43,
   "metadata": {},
   "outputs": [
    {
     "data": {
      "text/html": [
       "<strong id=\"nestedForallSpec3\">nestedForallSpec3:</strong> <span style=\"font-size:20px;\"><a class=\"ProveItLink\" href=\"__pv_it/0902d33de19aff0b5edc20423202039c14e4dd3d0/expr.ipynb\"><img src=\"__pv_it/0902d33de19aff0b5edc20423202039c14e4dd3d0/expr.png\" style=\"display:inline;vertical-align:middle;\" /></a> &#x22A2;&nbsp;<a class=\"ProveItLink\" href=\"../packages/proveit/__pv_it/df540adc6e8d855f0a63a7c5310d0c98c511d9120/expr.ipynb\"><img src=\"../packages/proveit/__pv_it/df540adc6e8d855f0a63a7c5310d0c98c511d9120/expr.png\" style=\"display:inline;vertical-align:middle;\" /></a></span><br>"
      ],
      "text/plain": [
       "nestedForallSpec3: {z < (x + y) , forall_{x} [forall_{y} [forall_{z | z < (x + y)} P(x , y , z)]]} |= P(x , y , z)"
      ]
     },
     "execution_count": 43,
     "metadata": {},
     "output_type": "execute_result"
    }
   ],
   "source": [
    "nestedForallSpec3 = nestedForallSpec2.specialize(assumptions=[nestedForallSpec2.conditions[0]])"
   ]
  },
  {
   "cell_type": "code",
   "execution_count": 44,
   "metadata": {},
   "outputs": [
    {
     "data": {
      "text/html": [
       "<table><tr><th>&nbsp;</th><th>step type</th><th>requirements</th><th>statement</th></tr>\n",
       "<tr><td>0</td><td>specialization</td><td>1, 2</td><td><span style=\"font-size:20px;\"><a class=\"ProveItLink\" href=\"__pv_it/0902d33de19aff0b5edc20423202039c14e4dd3d0/expr.ipynb\"><img src=\"__pv_it/0902d33de19aff0b5edc20423202039c14e4dd3d0/expr.png\" style=\"display:inline;vertical-align:middle;\" /></a> &#x22A2;&nbsp;<a class=\"ProveItLink\" href=\"../packages/proveit/__pv_it/df540adc6e8d855f0a63a7c5310d0c98c511d9120/expr.ipynb\"><img src=\"../packages/proveit/__pv_it/df540adc6e8d855f0a63a7c5310d0c98c511d9120/expr.png\" style=\"display:inline;vertical-align:middle;\" /></a></span></td></tr>\n",
       "<tr><td>&nbsp;</td><td colspan=4 style=\"text-align:left\"><span style=\"font-size:20px;\"><a class=\"ProveItLink\" href=\"__pv_it/a568ca367ee13d082d4710223d4d1673f89a09be0/expr.ipynb\"><img src=\"__pv_it/a568ca367ee13d082d4710223d4d1673f89a09be0/expr.png\" style=\"display:inline;vertical-align:middle;\" /></a></span></td></tr><tr><td>1</td><td>specialization</td><td>3</td><td><span style=\"font-size:20px;\"><a class=\"ProveItLink\" href=\"__pv_it/3ae1d9cea7ca7aeee9f665953679f37311464ba50/expr.ipynb\"><img src=\"__pv_it/3ae1d9cea7ca7aeee9f665953679f37311464ba50/expr.png\" style=\"display:inline;vertical-align:middle;\" /></a> &#x22A2;&nbsp;<a class=\"ProveItLink\" href=\"__pv_it/bfbc1da9f6a1907bc7db9ae37bb0895c7aac64ec0/expr.ipynb\"><img src=\"__pv_it/bfbc1da9f6a1907bc7db9ae37bb0895c7aac64ec0/expr.png\" style=\"display:inline;vertical-align:middle;\" /></a></span></td></tr>\n",
       "<tr><td>&nbsp;</td><td colspan=4 style=\"text-align:left\"><span style=\"font-size:20px;\"><a class=\"ProveItLink\" href=\"__pv_it/3445fe6c471b67d680f9bda79b8e38ba83ee52910/expr.ipynb\"><img src=\"__pv_it/3445fe6c471b67d680f9bda79b8e38ba83ee52910/expr.png\" style=\"display:inline;vertical-align:middle;\" /></a></span></td></tr><tr><td>2</td><td>assumption</td><td></td><td><span style=\"font-size:20px;\"><a class=\"ProveItLink\" href=\"__pv_it/a96da4f9f1109b5ad2dc1f246edecee60d131dce0/expr.ipynb\"><img src=\"__pv_it/a96da4f9f1109b5ad2dc1f246edecee60d131dce0/expr.png\" style=\"display:inline;vertical-align:middle;\" /></a> &#x22A2;&nbsp;<a class=\"ProveItLink\" href=\"__pv_it/c6bdc66e04b441083c77c882afeb137ea3d0c38c0/expr.ipynb\"><img src=\"__pv_it/c6bdc66e04b441083c77c882afeb137ea3d0c38c0/expr.png\" style=\"display:inline;vertical-align:middle;\" /></a></span></td></tr>\n",
       "<tr><td>3</td><td>specialization</td><td>4</td><td><span style=\"font-size:20px;\"><a class=\"ProveItLink\" href=\"__pv_it/3ae1d9cea7ca7aeee9f665953679f37311464ba50/expr.ipynb\"><img src=\"__pv_it/3ae1d9cea7ca7aeee9f665953679f37311464ba50/expr.png\" style=\"display:inline;vertical-align:middle;\" /></a> &#x22A2;&nbsp;<a class=\"ProveItLink\" href=\"__pv_it/0a525fa1d71ceca7adfa7cd27987034ebd661b500/expr.ipynb\"><img src=\"__pv_it/0a525fa1d71ceca7adfa7cd27987034ebd661b500/expr.png\" style=\"display:inline;vertical-align:middle;\" /></a></span></td></tr>\n",
       "<tr><td>&nbsp;</td><td colspan=4 style=\"text-align:left\"><span style=\"font-size:20px;\"><a class=\"ProveItLink\" href=\"__pv_it/e27c209c015cc043c1b7408e3a1c61c1e6cf62cb0/expr.ipynb\"><img src=\"__pv_it/e27c209c015cc043c1b7408e3a1c61c1e6cf62cb0/expr.png\" style=\"display:inline;vertical-align:middle;\" /></a></span></td></tr><tr><td>4</td><td>assumption</td><td></td><td><span style=\"font-size:20px;\"><a class=\"ProveItLink\" href=\"__pv_it/3ae1d9cea7ca7aeee9f665953679f37311464ba50/expr.ipynb\"><img src=\"__pv_it/3ae1d9cea7ca7aeee9f665953679f37311464ba50/expr.png\" style=\"display:inline;vertical-align:middle;\" /></a> &#x22A2;&nbsp;<a class=\"ProveItLink\" href=\"__pv_it/53266cdd913e26b8e2cca9e5073392a688a843320/expr.ipynb\"><img src=\"__pv_it/53266cdd913e26b8e2cca9e5073392a688a843320/expr.png\" style=\"display:inline;vertical-align:middle;\" /></a></span></td></tr>\n",
       "</table>"
      ],
      "text/plain": [
       "\tstep type\trequirements\tstatement\n",
       "0\tspecialization\t1, 2\t{z < (x + y) , forall_{x} [forall_{y} [forall_{z | z < (x + y)} P(x , y , z)]]} |= P(x , y , z)\n",
       "\tz -> z\n",
       "1\tspecialization\t3\t{forall_{x} [forall_{y} [forall_{z | z < (x + y)} P(x , y , z)]]} |= forall_{z | z < (x + y)} P(x , y , z)\n",
       "\ty -> y\n",
       "2\tassumption\t\t{z < (x + y)} |= z < (x + y)\n",
       "3\tspecialization\t4\t{forall_{x} [forall_{y} [forall_{z | z < (x + y)} P(x , y , z)]]} |= forall_{y} [forall_{z | z < (x + y)} P(x , y , z)]\n",
       "\tx -> x\n",
       "4\tassumption\t\t{forall_{x} [forall_{y} [forall_{z | z < (x + y)} P(x , y , z)]]} |= forall_{x} [forall_{y} [forall_{z | z < (x + y)} P(x , y , z)]]"
      ]
     },
     "execution_count": 44,
     "metadata": {},
     "output_type": "execute_result"
    }
   ],
   "source": [
    "nestedForallSpec3.proof()"
   ]
  },
  {
   "cell_type": "markdown",
   "metadata": {},
   "source": [
    "But for the sake of convenience and efficiency, **Prove-It** also allows nested `Forall` operations to be specialized simultaneously:"
   ]
  },
  {
   "cell_type": "code",
   "execution_count": 45,
   "metadata": {},
   "outputs": [
    {
     "data": {
      "text/html": [
       "<strong id=\"nestedForallSimultaneousSpec\">nestedForallSimultaneousSpec:</strong> <span style=\"font-size:20px;\"><a class=\"ProveItLink\" href=\"__pv_it/a9632a03ebd54e53971b0168a7231859d018c1f00/expr.ipynb\"><img src=\"__pv_it/a9632a03ebd54e53971b0168a7231859d018c1f00/expr.png\" style=\"display:inline;vertical-align:middle;\" /></a> &#x22A2;&nbsp;<a class=\"ProveItLink\" href=\"../packages/proveit/__pv_it/df540adc6e8d855f0a63a7c5310d0c98c511d9120/expr.ipynb\"><img src=\"../packages/proveit/__pv_it/df540adc6e8d855f0a63a7c5310d0c98c511d9120/expr.png\" style=\"display:inline;vertical-align:middle;\" /></a></span><br>"
      ],
      "text/plain": [
       "nestedForallSimultaneousSpec: {forall_{x} [forall_{y} [forall_{z | z < (x + y)} P(x , y , z)]] , z < (x + y)} |= P(x , y , z)"
      ]
     },
     "execution_count": 45,
     "metadata": {},
     "output_type": "execute_result"
    }
   ],
   "source": [
    "assumptions = ExprList(nestedForall, nestedForallSpec2.conditions[0])\n",
    "nestedForallSimultaneousSpec = nestedForall.specialize({z:z}, assumptions=assumptions)"
   ]
  },
  {
   "cell_type": "markdown",
   "metadata": {},
   "source": [
    "We just need to include an explicit mapping for an inner quantified **variable**.  So we indicated above that we want to map $z$ to $z$ even though this is typically the default in order to force it to specialize all three `Forall` operations simultaneously.  The proof is shorter, doing a single all-in-one *specialization*:"
   ]
  },
  {
   "cell_type": "code",
   "execution_count": 46,
   "metadata": {},
   "outputs": [
    {
     "data": {
      "text/html": [
       "<table><tr><th>&nbsp;</th><th>step type</th><th>requirements</th><th>statement</th></tr>\n",
       "<tr><td>0</td><td>specialization</td><td>1, 2</td><td><span style=\"font-size:20px;\"><a class=\"ProveItLink\" href=\"__pv_it/a9632a03ebd54e53971b0168a7231859d018c1f00/expr.ipynb\"><img src=\"__pv_it/a9632a03ebd54e53971b0168a7231859d018c1f00/expr.png\" style=\"display:inline;vertical-align:middle;\" /></a> &#x22A2;&nbsp;<a class=\"ProveItLink\" href=\"../packages/proveit/__pv_it/df540adc6e8d855f0a63a7c5310d0c98c511d9120/expr.ipynb\"><img src=\"../packages/proveit/__pv_it/df540adc6e8d855f0a63a7c5310d0c98c511d9120/expr.png\" style=\"display:inline;vertical-align:middle;\" /></a></span></td></tr>\n",
       "<tr><td>&nbsp;</td><td colspan=4 style=\"text-align:left\"><span style=\"font-size:20px;\"><a class=\"ProveItLink\" href=\"__pv_it/28827b442668a37c9b396d0be08fc0142c90740c0/expr.ipynb\"><img src=\"__pv_it/28827b442668a37c9b396d0be08fc0142c90740c0/expr.png\" style=\"display:inline;vertical-align:middle;\" /></a>, <a class=\"ProveItLink\" href=\"__pv_it/70d4c246439193d063d7f22fdadcd1094f921d0d0/expr.ipynb\"><img src=\"__pv_it/70d4c246439193d063d7f22fdadcd1094f921d0d0/expr.png\" style=\"display:inline;vertical-align:middle;\" /></a>, <a class=\"ProveItLink\" href=\"__pv_it/3ea644a9898be7b7cde8a6ff6dadfb2eb33653e90/expr.ipynb\"><img src=\"__pv_it/3ea644a9898be7b7cde8a6ff6dadfb2eb33653e90/expr.png\" style=\"display:inline;vertical-align:middle;\" /></a></span></td></tr><tr><td>1</td><td>assumption</td><td></td><td><span style=\"font-size:20px;\"><a class=\"ProveItLink\" href=\"__pv_it/3ae1d9cea7ca7aeee9f665953679f37311464ba50/expr.ipynb\"><img src=\"__pv_it/3ae1d9cea7ca7aeee9f665953679f37311464ba50/expr.png\" style=\"display:inline;vertical-align:middle;\" /></a> &#x22A2;&nbsp;<a class=\"ProveItLink\" href=\"__pv_it/53266cdd913e26b8e2cca9e5073392a688a843320/expr.ipynb\"><img src=\"__pv_it/53266cdd913e26b8e2cca9e5073392a688a843320/expr.png\" style=\"display:inline;vertical-align:middle;\" /></a></span></td></tr>\n",
       "<tr><td>2</td><td>assumption</td><td></td><td><span style=\"font-size:20px;\"><a class=\"ProveItLink\" href=\"__pv_it/a96da4f9f1109b5ad2dc1f246edecee60d131dce0/expr.ipynb\"><img src=\"__pv_it/a96da4f9f1109b5ad2dc1f246edecee60d131dce0/expr.png\" style=\"display:inline;vertical-align:middle;\" /></a> &#x22A2;&nbsp;<a class=\"ProveItLink\" href=\"__pv_it/c6bdc66e04b441083c77c882afeb137ea3d0c38c0/expr.ipynb\"><img src=\"__pv_it/c6bdc66e04b441083c77c882afeb137ea3d0c38c0/expr.png\" style=\"display:inline;vertical-align:middle;\" /></a></span></td></tr>\n",
       "</table>"
      ],
      "text/plain": [
       "\tstep type\trequirements\tstatement\n",
       "0\tspecialization\t1, 2\t{forall_{x} [forall_{y} [forall_{z | z < (x + y)} P(x , y , z)]] , z < (x + y)} |= P(x , y , z)\n",
       "\t{x -> x}, {y -> y}, {z -> z}\n",
       "1\tassumption\t\t{forall_{x} [forall_{y} [forall_{z | z < (x + y)} P(x , y , z)]]} |= forall_{x} [forall_{y} [forall_{z | z < (x + y)} P(x , y , z)]]\n",
       "2\tassumption\t\t{z < (x + y)} |= z < (x + y)"
      ]
     },
     "execution_count": 46,
     "metadata": {},
     "output_type": "execute_result"
    }
   ],
   "source": [
    "nestedForallSimultaneousSpec.proof()"
   ]
  },
  {
   "cell_type": "markdown",
   "metadata": {},
   "source": [
    "In the mapping that is indicated below step 0, enumerated set notation (with curly braces) is used to separate the mappings at different levels.  In this way, there can be no ambiguity.  Simultaneous *specialization* can be done for any number of nested levels."
   ]
  },
  {
   "cell_type": "markdown",
   "metadata": {},
   "source": [
    "### Specializing and relabeling simultaneously\n",
    "\n",
    "It is also possible to *relabeling* and *specialization* (over any number of nested levels) in one step.  For example: "
   ]
  },
  {
   "cell_type": "code",
   "execution_count": 47,
   "metadata": {},
   "outputs": [
    {
     "data": {
      "text/html": [
       "<strong id=\"nestedForallSpecAndRelab\">nestedForallSpecAndRelab:</strong> <span style=\"font-size:20px;\"><a class=\"ProveItLink\" href=\"__pv_it/3ae1d9cea7ca7aeee9f665953679f37311464ba50/expr.ipynb\"><img src=\"__pv_it/3ae1d9cea7ca7aeee9f665953679f37311464ba50/expr.png\" style=\"display:inline;vertical-align:middle;\" /></a> &#x22A2;&nbsp;<a class=\"ProveItLink\" href=\"__pv_it/3e26c42ce59826520d7541df9bee8e35b46726740/expr.ipynb\"><img src=\"__pv_it/3e26c42ce59826520d7541df9bee8e35b46726740/expr.png\" style=\"display:inline;vertical-align:middle;\" /></a></span><br>"
      ],
      "text/plain": [
       "nestedForallSpecAndRelab: {forall_{x} [forall_{y} [forall_{z | z < (x + y)} P(x , y , z)]]} |= forall_{a | a < (x + y)} P(x , y , a)"
      ]
     },
     "execution_count": 47,
     "metadata": {},
     "output_type": "execute_result"
    }
   ],
   "source": [
    "nestedForallSpecAndRelab = nestedForall.specialize(specializeMap={y:y}, relabelMap={z:a}, assumptions=[nestedForall])"
   ]
  },
  {
   "cell_type": "markdown",
   "metadata": {},
   "source": [
    "The `relabelMap` is specified separately from the `specializeMap` to be unambiguous."
   ]
  },
  {
   "cell_type": "code",
   "execution_count": 48,
   "metadata": {},
   "outputs": [
    {
     "data": {
      "text/html": [
       "<table><tr><th>&nbsp;</th><th>step type</th><th>requirements</th><th>statement</th></tr>\n",
       "<tr><td>0</td><td>specialization</td><td>1</td><td><span style=\"font-size:20px;\"><a class=\"ProveItLink\" href=\"__pv_it/3ae1d9cea7ca7aeee9f665953679f37311464ba50/expr.ipynb\"><img src=\"__pv_it/3ae1d9cea7ca7aeee9f665953679f37311464ba50/expr.png\" style=\"display:inline;vertical-align:middle;\" /></a> &#x22A2;&nbsp;<a class=\"ProveItLink\" href=\"__pv_it/3e26c42ce59826520d7541df9bee8e35b46726740/expr.ipynb\"><img src=\"__pv_it/3e26c42ce59826520d7541df9bee8e35b46726740/expr.png\" style=\"display:inline;vertical-align:middle;\" /></a></span></td></tr>\n",
       "<tr><td>&nbsp;</td><td colspan=4 style=\"text-align:left\"><span style=\"font-size:20px;\"><a class=\"ProveItLink\" href=\"__pv_it/28827b442668a37c9b396d0be08fc0142c90740c0/expr.ipynb\"><img src=\"__pv_it/28827b442668a37c9b396d0be08fc0142c90740c0/expr.png\" style=\"display:inline;vertical-align:middle;\" /></a>, <a class=\"ProveItLink\" href=\"__pv_it/70d4c246439193d063d7f22fdadcd1094f921d0d0/expr.ipynb\"><img src=\"__pv_it/70d4c246439193d063d7f22fdadcd1094f921d0d0/expr.png\" style=\"display:inline;vertical-align:middle;\" /></a>, relabeling <a class=\"ProveItLink\" href=\"__pv_it/d3df99223f12414c896d8b1096760ce0a55097ce0/expr.ipynb\"><img src=\"__pv_it/d3df99223f12414c896d8b1096760ce0a55097ce0/expr.png\" style=\"display:inline;vertical-align:middle;\" /></a></span></td></tr><tr><td>1</td><td>assumption</td><td></td><td><span style=\"font-size:20px;\"><a class=\"ProveItLink\" href=\"__pv_it/3ae1d9cea7ca7aeee9f665953679f37311464ba50/expr.ipynb\"><img src=\"__pv_it/3ae1d9cea7ca7aeee9f665953679f37311464ba50/expr.png\" style=\"display:inline;vertical-align:middle;\" /></a> &#x22A2;&nbsp;<a class=\"ProveItLink\" href=\"__pv_it/53266cdd913e26b8e2cca9e5073392a688a843320/expr.ipynb\"><img src=\"__pv_it/53266cdd913e26b8e2cca9e5073392a688a843320/expr.png\" style=\"display:inline;vertical-align:middle;\" /></a></span></td></tr>\n",
       "</table>"
      ],
      "text/plain": [
       "\tstep type\trequirements\tstatement\n",
       "0\tspecialization\t1\t{forall_{x} [forall_{y} [forall_{z | z < (x + y)} P(x , y , z)]]} |= forall_{a | a < (x + y)} P(x , y , a)\n",
       "\t{x -> x}, {y -> y}, relabeling {z -> a}\n",
       "1\tassumption\t\t{forall_{x} [forall_{y} [forall_{z | z < (x + y)} P(x , y , z)]]} |= forall_{x} [forall_{y} [forall_{z | z < (x + y)} P(x , y , z)]]"
      ]
     },
     "execution_count": 48,
     "metadata": {},
     "output_type": "execute_result"
    }
   ],
   "source": [
    "nestedForallSpecAndRelab.proof()"
   ]
  },
  {
   "cell_type": "markdown",
   "metadata": {},
   "source": [
    "The *relabeling* map is always shown after the last comma in the mapping under the *specialization* step.  When any *specialization* occurs, the \"step type\" is labeled \"specialization\".  If there is only *relabeling*, the \"step type\" will indicate \"relabeling\". "
   ]
  },
  {
   "cell_type": "markdown",
   "metadata": {},
   "source": [
    "You are not allowed to specify that the same **variable** is to be *specialized* and *relabeled*."
   ]
  },
  {
   "cell_type": "code",
   "execution_count": 49,
   "metadata": {},
   "outputs": [
    {
     "data": {
      "text/html": [
       "<a class=\"ProveItLink\" href=\"__pv_it/fb46a0f64a49976248366d63d21332070cb0cb6e0/expr.ipynb\"><img src=\"__pv_it/fb46a0f64a49976248366d63d21332070cb0cb6e0/expr.png\" style=\"display:inline;vertical-align:middle;\" /></a>"
      ],
      "text/plain": [
       "(forall_{x} [forall_{y} [forall_{z | z < (x + y)} P(x , y , z)]] , z < (x + y))"
      ]
     },
     "execution_count": 49,
     "metadata": {},
     "output_type": "execute_result"
    }
   ],
   "source": [
    "assumptions"
   ]
  },
  {
   "cell_type": "code",
   "execution_count": 50,
   "metadata": {},
   "outputs": [
    {
     "data": {
      "text/html": [
       "<a class=\"ProveItLink\" href=\"__pv_it/53266cdd913e26b8e2cca9e5073392a688a843320/expr.ipynb\"><img src=\"__pv_it/53266cdd913e26b8e2cca9e5073392a688a843320/expr.png\" style=\"display:inline;vertical-align:middle;\" /></a>"
      ],
      "text/plain": [
       "forall_{x} [forall_{y} [forall_{z | z < (x + y)} P(x , y , z)]]"
      ]
     },
     "execution_count": 50,
     "metadata": {},
     "output_type": "execute_result"
    }
   ],
   "source": [
    "nestedForall"
   ]
  },
  {
   "cell_type": "code",
   "execution_count": 51,
   "metadata": {},
   "outputs": [
    {
     "name": "stdout",
     "output_type": "stream",
     "text": [
      "EXPECTED ERROR: Proof step failed assuming {forall_{x} [forall_{y} [forall_{z | z < (x + y)} P(x , y , z)]]}: Attempting to specialize and relabel the same variable: y\n"
     ]
    }
   ],
   "source": [
    "try:\n",
    "    nestedForall.specialize({y:z}, {y:a}, assumptions=[nestedForall])\n",
    "    assert False, \"Expecting an SpecializationFailure error; should not make it to this point\"\n",
    "except SpecializationFailure as e:\n",
    "    print \"EXPECTED ERROR:\", e"
   ]
  },
  {
   "cell_type": "markdown",
   "metadata": {},
   "source": [
    "As noted in the previous tutorial chapter, relabeling has another important limitation.  You cannot relabel something using assumptions that involve any of the relabeling variables.  For example, we cannot relabel $P$ to $R$ in `nestedForall` while assuming `nestedForall`.  "
   ]
  },
  {
   "cell_type": "code",
   "execution_count": 52,
   "metadata": {},
   "outputs": [
    {
     "name": "stdout",
     "output_type": "stream",
     "text": [
      "EXPECTED ERROR: Proof step failed assuming {forall_{x} [forall_{y} [forall_{z | z < (x + y)} P(x , y , z)]]}: Cannot relabel using assumptions that involve any of the relabeling variables\n"
     ]
    }
   ],
   "source": [
    "from proveit import RelabelingFailure\n",
    "try:\n",
    "    nestedForall.specialize({y:y}, {P:R}, assumptions=[nestedForall])\n",
    "    assert False, \"Expecting an RelabelingFailure error; should not make it to this point\"\n",
    "except RelabelingFailure as e:\n",
    "    print \"EXPECTED ERROR:\", e"
   ]
  },
  {
   "cell_type": "markdown",
   "metadata": {},
   "source": [
    "### Universal quantification over multiple variables\n",
    "\n",
    "Rather than nesting `Forall` operations, you can quantify over multiple instance variables for a more succinct expression."
   ]
  },
  {
   "cell_type": "code",
   "execution_count": 53,
   "metadata": {},
   "outputs": [
    {
     "data": {
      "text/html": [
       "<strong id=\"multiVarForall\">multiVarForall:</strong> <a class=\"ProveItLink\" href=\"__pv_it/77d59f110bcab543c608f636d8de0bf7b170046c0/expr.ipynb\"><img src=\"__pv_it/77d59f110bcab543c608f636d8de0bf7b170046c0/expr.png\" style=\"display:inline;vertical-align:middle;\" /></a><br>"
      ],
      "text/plain": [
       "multiVarForall: forall_{x, y in S} P(x , y)"
      ]
     },
     "execution_count": 53,
     "metadata": {},
     "output_type": "execute_result"
    }
   ],
   "source": [
    "multiVarForall = Forall((x, y), Pxy, domain=S)"
   ]
  },
  {
   "cell_type": "code",
   "execution_count": 54,
   "metadata": {},
   "outputs": [
    {
     "data": {
      "text/html": [
       "<strong id=\"multiVarForallSpec\">multiVarForallSpec:</strong> <span style=\"font-size:20px;\"><a class=\"ProveItLink\" href=\"__pv_it/89c59f1c48e1ea34b1aead2f5f3dbb68859f3efd0/expr.ipynb\"><img src=\"__pv_it/89c59f1c48e1ea34b1aead2f5f3dbb68859f3efd0/expr.png\" style=\"display:inline;vertical-align:middle;\" /></a> &#x22A2;&nbsp;<a class=\"ProveItLink\" href=\"../packages/proveit/__pv_it/92792620911245cd88aade372409a600d29637930/expr.ipynb\"><img src=\"../packages/proveit/__pv_it/92792620911245cd88aade372409a600d29637930/expr.png\" style=\"display:inline;vertical-align:middle;\" /></a></span><br>"
      ],
      "text/plain": [
       "multiVarForallSpec: {forall_{x, y in S} P(x , y) , x in S , y in S} |= P(x , y)"
      ]
     },
     "execution_count": 54,
     "metadata": {},
     "output_type": "execute_result"
    }
   ],
   "source": [
    "assumptions = [multiVarForall, InSet(x, S), InSet(y, S)]\n",
    "multiVarForallSpec = multiVarForall.specialize(assumptions=assumptions)"
   ]
  },
  {
   "cell_type": "code",
   "execution_count": 55,
   "metadata": {},
   "outputs": [
    {
     "data": {
      "text/html": [
       "<table><tr><th>&nbsp;</th><th>step type</th><th>requirements</th><th>statement</th></tr>\n",
       "<tr><td>0</td><td>specialization</td><td>1, 2, 3</td><td><span style=\"font-size:20px;\"><a class=\"ProveItLink\" href=\"__pv_it/89c59f1c48e1ea34b1aead2f5f3dbb68859f3efd0/expr.ipynb\"><img src=\"__pv_it/89c59f1c48e1ea34b1aead2f5f3dbb68859f3efd0/expr.png\" style=\"display:inline;vertical-align:middle;\" /></a> &#x22A2;&nbsp;<a class=\"ProveItLink\" href=\"../packages/proveit/__pv_it/92792620911245cd88aade372409a600d29637930/expr.ipynb\"><img src=\"../packages/proveit/__pv_it/92792620911245cd88aade372409a600d29637930/expr.png\" style=\"display:inline;vertical-align:middle;\" /></a></span></td></tr>\n",
       "<tr><td>&nbsp;</td><td colspan=4 style=\"text-align:left\"><span style=\"font-size:20px;\"><a class=\"ProveItLink\" href=\"__pv_it/e27c209c015cc043c1b7408e3a1c61c1e6cf62cb0/expr.ipynb\"><img src=\"__pv_it/e27c209c015cc043c1b7408e3a1c61c1e6cf62cb0/expr.png\" style=\"display:inline;vertical-align:middle;\" /></a>, <a class=\"ProveItLink\" href=\"__pv_it/3445fe6c471b67d680f9bda79b8e38ba83ee52910/expr.ipynb\"><img src=\"__pv_it/3445fe6c471b67d680f9bda79b8e38ba83ee52910/expr.png\" style=\"display:inline;vertical-align:middle;\" /></a></span></td></tr><tr><td>1</td><td>assumption</td><td></td><td><span style=\"font-size:20px;\"><a class=\"ProveItLink\" href=\"__pv_it/25eca37f0c02c79006b823409ab9dafd423b4f2a0/expr.ipynb\"><img src=\"__pv_it/25eca37f0c02c79006b823409ab9dafd423b4f2a0/expr.png\" style=\"display:inline;vertical-align:middle;\" /></a> &#x22A2;&nbsp;<a class=\"ProveItLink\" href=\"__pv_it/77d59f110bcab543c608f636d8de0bf7b170046c0/expr.ipynb\"><img src=\"__pv_it/77d59f110bcab543c608f636d8de0bf7b170046c0/expr.png\" style=\"display:inline;vertical-align:middle;\" /></a></span></td></tr>\n",
       "<tr><td>2</td><td>assumption</td><td></td><td><span style=\"font-size:20px;\"><a class=\"ProveItLink\" href=\"__pv_it/98af5737a9597412d38c1dd0437c30eb2330cbe00/expr.ipynb\"><img src=\"__pv_it/98af5737a9597412d38c1dd0437c30eb2330cbe00/expr.png\" style=\"display:inline;vertical-align:middle;\" /></a> &#x22A2;&nbsp;<a class=\"ProveItLink\" href=\"__pv_it/e2a5d0d2b35dbe8e279c49a9a93d84141b6063d40/expr.ipynb\"><img src=\"__pv_it/e2a5d0d2b35dbe8e279c49a9a93d84141b6063d40/expr.png\" style=\"display:inline;vertical-align:middle;\" /></a></span></td></tr>\n",
       "<tr><td>3</td><td>assumption</td><td></td><td><span style=\"font-size:20px;\"><a class=\"ProveItLink\" href=\"__pv_it/311805b89cabf2ef63666ab4088164e01061ea790/expr.ipynb\"><img src=\"__pv_it/311805b89cabf2ef63666ab4088164e01061ea790/expr.png\" style=\"display:inline;vertical-align:middle;\" /></a> &#x22A2;&nbsp;<a class=\"ProveItLink\" href=\"__pv_it/81ec0d05b79ee4039a86d6b039a2bc74013abbb90/expr.ipynb\"><img src=\"__pv_it/81ec0d05b79ee4039a86d6b039a2bc74013abbb90/expr.png\" style=\"display:inline;vertical-align:middle;\" /></a></span></td></tr>\n",
       "</table>"
      ],
      "text/plain": [
       "\tstep type\trequirements\tstatement\n",
       "0\tspecialization\t1, 2, 3\t{forall_{x, y in S} P(x , y) , x in S , y in S} |= P(x , y)\n",
       "\tx -> x, y -> y\n",
       "1\tassumption\t\t{forall_{x, y in S} P(x , y)} |= forall_{x, y in S} P(x , y)\n",
       "2\tassumption\t\t{x in S} |= x in S\n",
       "3\tassumption\t\t{y in S} |= y in S"
      ]
     },
     "execution_count": 55,
     "metadata": {},
     "output_type": "execute_result"
    }
   ],
   "source": [
    "multiVarForallSpec.proof()"
   ]
  },
  {
   "cell_type": "markdown",
   "metadata": {},
   "source": [
    "If you attempt to use the same **variable** multiple times in the list of instance variables, you will get an error."
   ]
  },
  {
   "cell_type": "code",
   "execution_count": 56,
   "metadata": {},
   "outputs": [
    {
     "name": "stdout",
     "output_type": "stream",
     "text": [
      "EXPECTED ERROR: Lambda parameters Variables must be unique with respect to each other.\n"
     ]
    }
   ],
   "source": [
    "try:\n",
    "    Forall((x, x), Px)\n",
    "except ValueError as e:\n",
    "    print 'EXPECTED ERROR:', e"
   ]
  },
  {
   "cell_type": "markdown",
   "metadata": {},
   "source": [
    "You can also specify different domains for each of the **variables** as a list (or `ExprList`) by setting `domains` rather than `domain`.  The notation will use indicate a cartesian product set."
   ]
  },
  {
   "cell_type": "code",
   "execution_count": 57,
   "metadata": {},
   "outputs": [
    {
     "data": {
      "text/html": [
       "<strong id=\"multiDomainForall\">multiDomainForall:</strong> <a class=\"ProveItLink\" href=\"__pv_it/c93638ab383d38574013716b762714e2aa08331b0/expr.ipynb\"><img src=\"__pv_it/c93638ab383d38574013716b762714e2aa08331b0/expr.png\" style=\"display:inline;vertical-align:middle;\" /></a><br>"
      ],
      "text/plain": [
       "multiDomainForall: forall_{(x, y) in S * R} P(x , y)"
      ]
     },
     "execution_count": 57,
     "metadata": {},
     "output_type": "execute_result"
    }
   ],
   "source": [
    "multiDomainForall = Forall((x, y), Pxy, domains=[S, R])"
   ]
  },
  {
   "cell_type": "markdown",
   "metadata": {},
   "source": [
    "However, internally it simply splits off a condition for each *instance variable*."
   ]
  },
  {
   "cell_type": "code",
   "execution_count": 58,
   "metadata": {},
   "outputs": [
    {
     "data": {
      "text/html": [
       "<table><tr><th>&nbsp;</th><th>core type</th><th>sub-expressions</th><th>expression</th></tr>\n",
       "<tr><td>0</td><td>Operation</td><td>operator:&nbsp;1<br>operand:&nbsp;2<br></td><td><a class=\"ProveItLink\" href=\"__pv_it/c93638ab383d38574013716b762714e2aa08331b0/expr.ipynb\"><img src=\"__pv_it/c93638ab383d38574013716b762714e2aa08331b0/expr.png\" style=\"display:inline;vertical-align:middle;\" /></a></td></tr>\n",
       "<tr><td>1</td><td>Literal</td><td></td><td><a class=\"ProveItLink\" href=\"../packages/proveit/logic/boolean/quantification/universal/__pv_it/265f8c02ac1094d56e0e6410a1c1fd3500dc9f540/expr.ipynb\"><img src=\"../packages/proveit/logic/boolean/quantification/universal/__pv_it/265f8c02ac1094d56e0e6410a1c1fd3500dc9f540/expr.png\" style=\"display:inline;vertical-align:middle;\" /></a></td></tr>\n",
       "<tr><td>2</td><td>Lambda</td><td>parameters:&nbsp;6<br>body:&nbsp;3<br>conditions:&nbsp;4<br></td><td><a class=\"ProveItLink\" href=\"__pv_it/bd0946616ec5c9883cc0f749ab9a516b98c8d4490/expr.ipynb\"><img src=\"__pv_it/bd0946616ec5c9883cc0f749ab9a516b98c8d4490/expr.png\" style=\"display:inline;vertical-align:middle;\" /></a></td></tr>\n",
       "<tr><td>3</td><td>Operation</td><td>operator:&nbsp;5<br>operands:&nbsp;6<br></td><td><a class=\"ProveItLink\" href=\"../packages/proveit/__pv_it/92792620911245cd88aade372409a600d29637930/expr.ipynb\"><img src=\"../packages/proveit/__pv_it/92792620911245cd88aade372409a600d29637930/expr.png\" style=\"display:inline;vertical-align:middle;\" /></a></td></tr>\n",
       "<tr><td>4</td><td>ExprList</td><td>7, 8</td><td><a class=\"ProveItLink\" href=\"__pv_it/051890a131d326b961b541c6193f1cd21f7a9a5f0/expr.ipynb\"><img src=\"__pv_it/051890a131d326b961b541c6193f1cd21f7a9a5f0/expr.png\" style=\"display:inline;vertical-align:middle;\" /></a></td></tr>\n",
       "<tr><td>5</td><td>Variable</td><td></td><td><a class=\"ProveItLink\" href=\"../packages/proveit/__pv_it/6369c6c8083c513ca7161ace249642d040f9327d0/expr.ipynb\"><img src=\"../packages/proveit/__pv_it/6369c6c8083c513ca7161ace249642d040f9327d0/expr.png\" style=\"display:inline;vertical-align:middle;\" /></a></td></tr>\n",
       "<tr><td>6</td><td>ExprList</td><td>12, 14</td><td><a class=\"ProveItLink\" href=\"../packages/proveit/logic/equality/__pv_it/49ffa46c24d385ebbd0014895cf61cc7cb8bd9bb0/expr.ipynb\"><img src=\"../packages/proveit/logic/equality/__pv_it/49ffa46c24d385ebbd0014895cf61cc7cb8bd9bb0/expr.png\" style=\"display:inline;vertical-align:middle;\" /></a></td></tr>\n",
       "<tr><td>7</td><td>Operation</td><td>operator:&nbsp;10<br>operands:&nbsp;9<br></td><td><a class=\"ProveItLink\" href=\"__pv_it/e2a5d0d2b35dbe8e279c49a9a93d84141b6063d40/expr.ipynb\"><img src=\"__pv_it/e2a5d0d2b35dbe8e279c49a9a93d84141b6063d40/expr.png\" style=\"display:inline;vertical-align:middle;\" /></a></td></tr>\n",
       "<tr><td>8</td><td>Operation</td><td>operator:&nbsp;10<br>operands:&nbsp;11<br></td><td><a class=\"ProveItLink\" href=\"__pv_it/dafad4e20b325bc824e76db2777fa980b12f309d0/expr.ipynb\"><img src=\"__pv_it/dafad4e20b325bc824e76db2777fa980b12f309d0/expr.png\" style=\"display:inline;vertical-align:middle;\" /></a></td></tr>\n",
       "<tr><td>9</td><td>ExprList</td><td>12, 13</td><td><a class=\"ProveItLink\" href=\"__pv_it/36fdea86647c815a13bd2d80d0c25d06692bc3ac0/expr.ipynb\"><img src=\"__pv_it/36fdea86647c815a13bd2d80d0c25d06692bc3ac0/expr.png\" style=\"display:inline;vertical-align:middle;\" /></a></td></tr>\n",
       "<tr><td>10</td><td>Literal</td><td></td><td><a class=\"ProveItLink\" href=\"../packages/proveit/logic/set_theory/membership/__pv_it/088cbc857536a28d4119ad9639a84270ccb0545d0/expr.ipynb\"><img src=\"../packages/proveit/logic/set_theory/membership/__pv_it/088cbc857536a28d4119ad9639a84270ccb0545d0/expr.png\" style=\"display:inline;vertical-align:middle;\" /></a></td></tr>\n",
       "<tr><td>11</td><td>ExprList</td><td>14, 15</td><td><a class=\"ProveItLink\" href=\"__pv_it/a9f2b84479a5c326e23d93bff2165e49befdd8ef0/expr.ipynb\"><img src=\"__pv_it/a9f2b84479a5c326e23d93bff2165e49befdd8ef0/expr.png\" style=\"display:inline;vertical-align:middle;\" /></a></td></tr>\n",
       "<tr><td>12</td><td>Variable</td><td></td><td><a class=\"ProveItLink\" href=\"../packages/proveit/__pv_it/530be409e3083890784cf1d7b28c9e67e90af9360/expr.ipynb\"><img src=\"../packages/proveit/__pv_it/530be409e3083890784cf1d7b28c9e67e90af9360/expr.png\" style=\"display:inline;vertical-align:middle;\" /></a></td></tr>\n",
       "<tr><td>13</td><td>Variable</td><td></td><td><a class=\"ProveItLink\" href=\"../packages/proveit/__pv_it/abeee18594afe51bfb1be95d9591fbba24ac53f30/expr.ipynb\"><img src=\"../packages/proveit/__pv_it/abeee18594afe51bfb1be95d9591fbba24ac53f30/expr.png\" style=\"display:inline;vertical-align:middle;\" /></a></td></tr>\n",
       "<tr><td>14</td><td>Variable</td><td></td><td><a class=\"ProveItLink\" href=\"../packages/proveit/__pv_it/f8b9edf8e16034727f0aad55bb83e392c3db40d40/expr.ipynb\"><img src=\"../packages/proveit/__pv_it/f8b9edf8e16034727f0aad55bb83e392c3db40d40/expr.png\" style=\"display:inline;vertical-align:middle;\" /></a></td></tr>\n",
       "<tr><td>15</td><td>Variable</td><td></td><td><a class=\"ProveItLink\" href=\"../packages/proveit/__pv_it/e24df48bc297bbcf3538a62f5b4f635a392abfce0/expr.ipynb\"><img src=\"../packages/proveit/__pv_it/e24df48bc297bbcf3538a62f5b4f635a392abfce0/expr.png\" style=\"display:inline;vertical-align:middle;\" /></a></td></tr>\n",
       "</table>\n"
      ],
      "text/plain": [
       "0. forall_{(x, y) in S * R} P(x , y)\n",
       "   core type: Operation\n",
       "   operator: 1\n",
       "   operand: 2\n",
       "1. forall\n",
       "   core type: Literal\n",
       "   sub-expressions: \n",
       "2. (x, y) -> P(x , y) | x in S , y in R\n",
       "   core type: Lambda\n",
       "   parameters: 6\\n   body: 3\n",
       "   conditions: 4\\n3. P(x , y)\n",
       "   core type: Operation\n",
       "   operator: 5\n",
       "   operands: 6\n",
       "4. (x in S , y in R)\n",
       "   core type: ExprList\n",
       "   sub-expressions: 7, 8\n",
       "5. P\n",
       "   core type: Variable\n",
       "   sub-expressions: \n",
       "6. (x , y)\n",
       "   core type: ExprList\n",
       "   sub-expressions: 12, 14\n",
       "7. x in S\n",
       "   core type: Operation\n",
       "   operator: 10\n",
       "   operands: 9\n",
       "8. y in R\n",
       "   core type: Operation\n",
       "   operator: 10\n",
       "   operands: 11\n",
       "9. (x , S)\n",
       "   core type: ExprList\n",
       "   sub-expressions: 12, 13\n",
       "10. in\n",
       "    core type: Literal\n",
       "    sub-expressions: \n",
       "11. (y , R)\n",
       "    core type: ExprList\n",
       "    sub-expressions: 14, 15\n",
       "12. x\n",
       "    core type: Variable\n",
       "    sub-expressions: \n",
       "13. S\n",
       "    core type: Variable\n",
       "    sub-expressions: \n",
       "14. y\n",
       "    core type: Variable\n",
       "    sub-expressions: \n",
       "15. R\n",
       "    core type: Variable\n",
       "    sub-expressions: "
      ]
     },
     "execution_count": 58,
     "metadata": {},
     "output_type": "execute_result"
    }
   ],
   "source": [
    "multiDomainForall.exprInfo()"
   ]
  },
  {
   "cell_type": "code",
   "execution_count": 59,
   "metadata": {},
   "outputs": [
    {
     "data": {
      "text/html": [
       "<strong id=\"multiDomainForallSpec\">multiDomainForallSpec:</strong> <span style=\"font-size:20px;\"><a class=\"ProveItLink\" href=\"__pv_it/574185f8e215e320c0eb13845212784ebe92379d0/expr.ipynb\"><img src=\"__pv_it/574185f8e215e320c0eb13845212784ebe92379d0/expr.png\" style=\"display:inline;vertical-align:middle;\" /></a> &#x22A2;&nbsp;<a class=\"ProveItLink\" href=\"../packages/proveit/__pv_it/92792620911245cd88aade372409a600d29637930/expr.ipynb\"><img src=\"../packages/proveit/__pv_it/92792620911245cd88aade372409a600d29637930/expr.png\" style=\"display:inline;vertical-align:middle;\" /></a></span><br>"
      ],
      "text/plain": [
       "multiDomainForallSpec: {forall_{(x, y) in S * R} P(x , y) , x in S , y in R} |= P(x , y)"
      ]
     },
     "execution_count": 59,
     "metadata": {},
     "output_type": "execute_result"
    }
   ],
   "source": [
    "assumptions = [multiDomainForall, InSet(x, S), InSet(y, R)]\n",
    "multiDomainForallSpec = multiDomainForall.specialize(assumptions=assumptions)"
   ]
  },
  {
   "cell_type": "code",
   "execution_count": 60,
   "metadata": {},
   "outputs": [
    {
     "data": {
      "text/html": [
       "<table><tr><th>&nbsp;</th><th>step type</th><th>requirements</th><th>statement</th></tr>\n",
       "<tr><td>0</td><td>specialization</td><td>1, 2, 3</td><td><span style=\"font-size:20px;\"><a class=\"ProveItLink\" href=\"__pv_it/574185f8e215e320c0eb13845212784ebe92379d0/expr.ipynb\"><img src=\"__pv_it/574185f8e215e320c0eb13845212784ebe92379d0/expr.png\" style=\"display:inline;vertical-align:middle;\" /></a> &#x22A2;&nbsp;<a class=\"ProveItLink\" href=\"../packages/proveit/__pv_it/92792620911245cd88aade372409a600d29637930/expr.ipynb\"><img src=\"../packages/proveit/__pv_it/92792620911245cd88aade372409a600d29637930/expr.png\" style=\"display:inline;vertical-align:middle;\" /></a></span></td></tr>\n",
       "<tr><td>&nbsp;</td><td colspan=4 style=\"text-align:left\"><span style=\"font-size:20px;\"><a class=\"ProveItLink\" href=\"__pv_it/e27c209c015cc043c1b7408e3a1c61c1e6cf62cb0/expr.ipynb\"><img src=\"__pv_it/e27c209c015cc043c1b7408e3a1c61c1e6cf62cb0/expr.png\" style=\"display:inline;vertical-align:middle;\" /></a>, <a class=\"ProveItLink\" href=\"__pv_it/3445fe6c471b67d680f9bda79b8e38ba83ee52910/expr.ipynb\"><img src=\"__pv_it/3445fe6c471b67d680f9bda79b8e38ba83ee52910/expr.png\" style=\"display:inline;vertical-align:middle;\" /></a></span></td></tr><tr><td>1</td><td>assumption</td><td></td><td><span style=\"font-size:20px;\"><a class=\"ProveItLink\" href=\"__pv_it/d3179a9566b65681f7187e1a5eed2d2c2ad4d7940/expr.ipynb\"><img src=\"__pv_it/d3179a9566b65681f7187e1a5eed2d2c2ad4d7940/expr.png\" style=\"display:inline;vertical-align:middle;\" /></a> &#x22A2;&nbsp;<a class=\"ProveItLink\" href=\"__pv_it/c93638ab383d38574013716b762714e2aa08331b0/expr.ipynb\"><img src=\"__pv_it/c93638ab383d38574013716b762714e2aa08331b0/expr.png\" style=\"display:inline;vertical-align:middle;\" /></a></span></td></tr>\n",
       "<tr><td>2</td><td>assumption</td><td></td><td><span style=\"font-size:20px;\"><a class=\"ProveItLink\" href=\"__pv_it/98af5737a9597412d38c1dd0437c30eb2330cbe00/expr.ipynb\"><img src=\"__pv_it/98af5737a9597412d38c1dd0437c30eb2330cbe00/expr.png\" style=\"display:inline;vertical-align:middle;\" /></a> &#x22A2;&nbsp;<a class=\"ProveItLink\" href=\"__pv_it/e2a5d0d2b35dbe8e279c49a9a93d84141b6063d40/expr.ipynb\"><img src=\"__pv_it/e2a5d0d2b35dbe8e279c49a9a93d84141b6063d40/expr.png\" style=\"display:inline;vertical-align:middle;\" /></a></span></td></tr>\n",
       "<tr><td>3</td><td>assumption</td><td></td><td><span style=\"font-size:20px;\"><a class=\"ProveItLink\" href=\"__pv_it/45bd47a8a0ce95b6ee6bff63cc0cecd06683889f0/expr.ipynb\"><img src=\"__pv_it/45bd47a8a0ce95b6ee6bff63cc0cecd06683889f0/expr.png\" style=\"display:inline;vertical-align:middle;\" /></a> &#x22A2;&nbsp;<a class=\"ProveItLink\" href=\"__pv_it/dafad4e20b325bc824e76db2777fa980b12f309d0/expr.ipynb\"><img src=\"__pv_it/dafad4e20b325bc824e76db2777fa980b12f309d0/expr.png\" style=\"display:inline;vertical-align:middle;\" /></a></span></td></tr>\n",
       "</table>"
      ],
      "text/plain": [
       "\tstep type\trequirements\tstatement\n",
       "0\tspecialization\t1, 2, 3\t{forall_{(x, y) in S * R} P(x , y) , x in S , y in R} |= P(x , y)\n",
       "\tx -> x, y -> y\n",
       "1\tassumption\t\t{forall_{(x, y) in S * R} P(x , y)} |= forall_{(x, y) in S * R} P(x , y)\n",
       "2\tassumption\t\t{x in S} |= x in S\n",
       "3\tassumption\t\t{y in R} |= y in R"
      ]
     },
     "execution_count": 60,
     "metadata": {},
     "output_type": "execute_result"
    }
   ],
   "source": [
    "multiDomainForallSpec.proof()"
   ]
  },
  {
   "cell_type": "markdown",
   "metadata": {},
   "source": [
    "Universal quantification over an unspecified number of **variables** via **iterations** will be discussed in the chapter on <a href=\"tutorial11_advanced_proofs.ipynb\">proofs using advanced expressions</a>."
   ]
  },
  {
   "cell_type": "markdown",
   "metadata": {},
   "source": [
    "Generalization\n",
    "========\n",
    "\n",
    "*Generalization* is the \"inverse\" of *specialization* just as *hypothetical reasoning* was the \"inverse\" of *modus ponens*.  We can write these derivation rules in a manner that makes this relationship clear (just as we did for *hypothetical reasoning* and *modus ponens*):\n",
    "\n",
    "Specialization: \n",
    "$\\begin{array}{c}\n",
    "\\boldsymbol{\\vdash} \\forall_{x \\in S~|~Q(x)} P(x) \\\\\n",
    "\\hline\n",
    "\\left \\{\\clubsuit \\in S,~Q(\\clubsuit) \\right \\} \\boldsymbol{\\vdash} P(\\clubsuit)\n",
    "\\end{array}$\n",
    "\n",
    "Generalization: \n",
    "$\\begin{array}{c}\n",
    "\\left \\{ x \\in S,~Q(x) \\right \\} \\boldsymbol{\\vdash} P(x) \\\\\n",
    "\\hline\n",
    "\\boldsymbol{\\vdash} \\forall_{x \\in S~|~Q(x)} P(x)\n",
    "\\end{array}$\n",
    "\n",
    "$P(x)$ and $Q(x)$ are intended to represent any function of $x$.\n",
    "There is some asymmetry between *specialization* and *generalization*.  $\\clubsuit$ here is meant to represent *any* **expression**, not necessarily a **variable**, as long is it does not violate scoping restrictions (e.g., having a free **variable** that is the same as a **lambda** *parameter* within the $P$ or $Q$ functions).  However, *generalization* only applies to an unbound **variable**.  In Prove-It, an unbound **variable** is regarded as an \"arbitrary\" variable.  Essentially, it is implicitly universally quantified.  Recall that *modus ponens* converts an explicit antecedent to an implicit assumption and *hypothetical reasoning* does the opposite.  Similarly, *specialization* converts an explicit universal quantification to implicit arbitrary variables and *generalization* does the opposite.  The reason for having the explicit and implicit forms is much the same as it was for the antecedent versus assumption.  The explicit form allows nesting but the implicit form provides direct access to the instance expression.  Furthermore, explicit universal quantification offers the power of being able to *specialize* an instance variable to an arbitrary **expression**.\n",
    "\n",
    "The above derivation rules are expressed for a single **variable**.  Such rules apply more generally to any number of **variables** (including an unspecified number of **variables** via **iterations** discussed in in the chapter on <a href=\"tutorial11_advanced_proofs.ipynb\">proofs using advanced expressions</a>).\n",
    "\n",
    "Our following examples will start from one of the derived *specialization* instances above.  Specifically:"
   ]
  },
  {
   "cell_type": "code",
   "execution_count": 61,
   "metadata": {},
   "outputs": [
    {
     "data": {
      "text/html": [
       "<span style=\"font-size:20px;\"><a class=\"ProveItLink\" href=\"__pv_it/d4a3dd3c85f470d315b548d612a9396dbfc1efd10/expr.ipynb\"><img src=\"__pv_it/d4a3dd3c85f470d315b548d612a9396dbfc1efd10/expr.png\" style=\"display:inline;vertical-align:middle;\" /></a> &#x22A2;&nbsp;<a class=\"ProveItLink\" href=\"__pv_it/2c97a10aa7f7a70eaba5874c63aa02c18c9ec5630/expr.ipynb\"><img src=\"__pv_it/2c97a10aa7f7a70eaba5874c63aa02c18c9ec5630/expr.png\" style=\"display:inline;vertical-align:middle;\" /></a></span>"
      ],
      "text/plain": [
       "{x = y} |= (x + a) = (y + a)"
      ]
     },
     "execution_count": 61,
     "metadata": {},
     "output_type": "execute_result"
    }
   ],
   "source": [
    "operationSubstitution"
   ]
  },
  {
   "cell_type": "markdown",
   "metadata": {},
   "source": [
    "First, we try to *generalize* this **known truth** for all instances of $a$, $x$, and $y$ without any conditions or domain restrictions:"
   ]
  },
  {
   "cell_type": "code",
   "execution_count": 62,
   "metadata": {},
   "outputs": [
    {
     "name": "stdout",
     "output_type": "stream",
     "text": [
      "EXPECTED ERROR: Unable to prove forall_{a, x, y} ((x + a) = (y + a)) assuming {x = y}: Cannot generalize using assumptions that involve any of the new forall variables (except as assumptions are eliminated via conditions or domains)\n"
     ]
    }
   ],
   "source": [
    "from proveit import GeneralizationFailure\n",
    "try:\n",
    "    operationSubstitution.generalize((a, x, y))\n",
    "    assert False, \"Expecting an GeneralizationFailure error; should not make it to this point\"\n",
    "except GeneralizationFailure as e:\n",
    "    print 'EXPECTED ERROR:', e"
   ]
  },
  {
   "cell_type": "markdown",
   "metadata": {},
   "source": [
    "This fails because the assumptions of the original **known truth** involve the same **variables** that we are trying to *generalize* over.  That is not allowed because universal quantification introduces a new scope for $x$ and $y$ (as well as $a$) and the $x=y$ assumption would be external to this scope.  If, however, this assumption is introduced as a condition of the new universal quantification, then we no longer need to retain it as assumptions.  That assumptions will be absorbed into the universal quantification conditions."
   ]
  },
  {
   "cell_type": "code",
   "execution_count": 63,
   "metadata": {},
   "outputs": [
    {
     "data": {
      "text/html": [
       "<span style=\"font-size:20px;\"> &#x22A2;&nbsp;<a class=\"ProveItLink\" href=\"__pv_it/e85b1dcc67057524327cdd06565f5193ef94bf760/expr.ipynb\"><img src=\"__pv_it/e85b1dcc67057524327cdd06565f5193ef94bf760/expr.png\" style=\"display:inline;vertical-align:middle;\" /></a></span>"
      ],
      "text/plain": [
       "|= forall_{a, x, y | x = y} ((x + a) = (y + a))"
      ]
     },
     "execution_count": 63,
     "metadata": {},
     "output_type": "execute_result"
    }
   ],
   "source": [
    "operationSubstitution.generalize((a, x, y), conditions=[x_eq_y])"
   ]
  },
  {
   "cell_type": "markdown",
   "metadata": {},
   "source": [
    "Adding additional restrictions, such as a domain and/or extra conditions, only makes the statement weaker and is therefore allowed:"
   ]
  },
  {
   "cell_type": "code",
   "execution_count": 64,
   "metadata": {},
   "outputs": [
    {
     "data": {
      "text/html": [
       "<span style=\"font-size:20px;\"> &#x22A2;&nbsp;<a class=\"ProveItLink\" href=\"__pv_it/93612e430b5cab985aa89dedddd0fc4ffc9e6e440/expr.ipynb\"><img src=\"__pv_it/93612e430b5cab985aa89dedddd0fc4ffc9e6e440/expr.png\" style=\"display:inline;vertical-align:middle;\" /></a></span>"
      ],
      "text/plain": [
       "|= forall_{a, x, y in S | x = y} ((x + a) = (y + a))"
      ]
     },
     "execution_count": 64,
     "metadata": {},
     "output_type": "execute_result"
    }
   ],
   "source": [
    "operationSubstitution.generalize((a, x, y), conditions=[x_eq_y], domain=S)"
   ]
  },
  {
   "cell_type": "code",
   "execution_count": 65,
   "metadata": {
    "scrolled": true
   },
   "outputs": [
    {
     "data": {
      "text/html": [
       "<span style=\"font-size:20px;\"> &#x22A2;&nbsp;<a class=\"ProveItLink\" href=\"__pv_it/73cb16db97f46e0125f523873758d7052de926d80/expr.ipynb\"><img src=\"__pv_it/73cb16db97f46e0125f523873758d7052de926d80/expr.png\" style=\"display:inline;vertical-align:middle;\" /></a></span>"
      ],
      "text/plain": [
       "|= forall_{a, x, y in S | x = y , Q(x)} ((x + a) = (y + a))"
      ]
     },
     "execution_count": 65,
     "metadata": {},
     "output_type": "execute_result"
    }
   ],
   "source": [
    "operationSubstitution.generalize((a, x, y), conditions=[x_eq_y, Qx], domain=S)"
   ]
  },
  {
   "cell_type": "markdown",
   "metadata": {},
   "source": [
    "It is also possible to create multiple levels of nested `Forall` operations in one step with possibly different domains.  Simply provide a list of lists of **Variable**s as the first argument to `generalize` and a corresponding list of `domains`.  The conditions are applied at the outermost level possible (as soon as all of the relevant variables have been introduced) but otherwise retaining the order that the `conditions` were supplied."
   ]
  },
  {
   "cell_type": "code",
   "execution_count": 66,
   "metadata": {
    "scrolled": false
   },
   "outputs": [
    {
     "data": {
      "text/html": [
       "<strong id=\"nestedGenExample\">nestedGenExample:</strong> <span style=\"font-size:20px;\"> &#x22A2;&nbsp;<a class=\"ProveItLink\" href=\"__pv_it/2b844ae4c2fe43c11c4bb9c8c8d18a416f73a0940/expr.ipynb\"><img src=\"__pv_it/2b844ae4c2fe43c11c4bb9c8c8d18a416f73a0940/expr.png\" style=\"display:inline;vertical-align:middle;\" /></a></span><br>"
      ],
      "text/plain": [
       "nestedGenExample: |= forall_{a in P | Q(a)} [forall_{(x, y) in R * S | x = y , Q(x)} ((x + a) = (y + a))]"
      ]
     },
     "execution_count": 66,
     "metadata": {},
     "output_type": "execute_result"
    }
   ],
   "source": [
    "Qa = Function(Q, a)\n",
    "nestedGenExample = operationSubstitution.generalize([[a], [x, y]], domainLists=[[P], [R, S]], conditions=[x_eq_y, Qx, Qa])"
   ]
  },
  {
   "cell_type": "markdown",
   "metadata": {},
   "source": [
    "Note that the $Q(a)$ condition was moved to the front even though it was the last supplied condition because it can be applied before the others.  The *generalization* with multiple leves of nested `Forall` operations takes one step in the proof:"
   ]
  },
  {
   "cell_type": "code",
   "execution_count": 67,
   "metadata": {
    "scrolled": true
   },
   "outputs": [
    {
     "data": {
      "text/html": [
       "<table><tr><th>&nbsp;</th><th>step type</th><th>requirements</th><th>statement</th></tr>\n",
       "<tr><td>0</td><td>generalizaton</td><td>1</td><td><span style=\"font-size:20px;\"> &#x22A2;&nbsp;<a class=\"ProveItLink\" href=\"__pv_it/2b844ae4c2fe43c11c4bb9c8c8d18a416f73a0940/expr.ipynb\"><img src=\"__pv_it/2b844ae4c2fe43c11c4bb9c8c8d18a416f73a0940/expr.png\" style=\"display:inline;vertical-align:middle;\" /></a></span></td></tr>\n",
       "<tr><td>1</td><td>specialization</td><td>2, 3</td><td><span style=\"font-size:20px;\"><a class=\"ProveItLink\" href=\"__pv_it/d4a3dd3c85f470d315b548d612a9396dbfc1efd10/expr.ipynb\"><img src=\"__pv_it/d4a3dd3c85f470d315b548d612a9396dbfc1efd10/expr.png\" style=\"display:inline;vertical-align:middle;\" /></a> &#x22A2;&nbsp;<a class=\"ProveItLink\" href=\"__pv_it/2c97a10aa7f7a70eaba5874c63aa02c18c9ec5630/expr.ipynb\"><img src=\"__pv_it/2c97a10aa7f7a70eaba5874c63aa02c18c9ec5630/expr.png\" style=\"display:inline;vertical-align:middle;\" /></a></span></td></tr>\n",
       "<tr><td>&nbsp;</td><td colspan=4 style=\"text-align:left\"><span style=\"font-size:20px;\"><a class=\"ProveItLink\" href=\"__pv_it/d093c50ac9da1a2220f02c13d218766198a095a50/expr.ipynb\"><img src=\"__pv_it/d093c50ac9da1a2220f02c13d218766198a095a50/expr.png\" style=\"display:inline;vertical-align:middle;\" /></a>, <a class=\"ProveItLink\" href=\"__pv_it/e27c209c015cc043c1b7408e3a1c61c1e6cf62cb0/expr.ipynb\"><img src=\"__pv_it/e27c209c015cc043c1b7408e3a1c61c1e6cf62cb0/expr.png\" style=\"display:inline;vertical-align:middle;\" /></a>, <a class=\"ProveItLink\" href=\"__pv_it/3445fe6c471b67d680f9bda79b8e38ba83ee52910/expr.ipynb\"><img src=\"__pv_it/3445fe6c471b67d680f9bda79b8e38ba83ee52910/expr.png\" style=\"display:inline;vertical-align:middle;\" /></a></span></td></tr><tr><td>2</td><td>axiom</td><td></td><td><span style=\"font-size:20px;\"> &#x22A2;&nbsp;<a class=\"ProveItLink\" href=\"../packages/proveit/logic/equality/__pv_it/bbfdd4b897b23eab94ccd38e967c2b310ba4362c0/expr.ipynb\"><img src=\"../packages/proveit/logic/equality/__pv_it/bbfdd4b897b23eab94ccd38e967c2b310ba4362c0/expr.png\" style=\"display:inline;vertical-align:middle;\" /></a></span></td></tr>\n",
       "<tr><td>&nbsp;</td><td colspan=4 style-\"text-align:left\"><a class=\"ProveItLink\" href=\"../packages/proveit/logic/equality/_axioms_.ipynb#substitution\">proveit.logic.equality.substitution</a></td></tr><tr><td>3</td><td>assumption</td><td></td><td><span style=\"font-size:20px;\"><a class=\"ProveItLink\" href=\"__pv_it/d4a3dd3c85f470d315b548d612a9396dbfc1efd10/expr.ipynb\"><img src=\"__pv_it/d4a3dd3c85f470d315b548d612a9396dbfc1efd10/expr.png\" style=\"display:inline;vertical-align:middle;\" /></a> &#x22A2;&nbsp;<a class=\"ProveItLink\" href=\"../packages/proveit/logic/equality/__pv_it/4c4fb7e6d6cc6c4aef91243b02a9bdb408e1b6510/expr.ipynb\"><img src=\"../packages/proveit/logic/equality/__pv_it/4c4fb7e6d6cc6c4aef91243b02a9bdb408e1b6510/expr.png\" style=\"display:inline;vertical-align:middle;\" /></a></span></td></tr>\n",
       "</table>"
      ],
      "text/plain": [
       "\tstep type\trequirements\tstatement\n",
       "0\tgeneralizaton\t1\t|= forall_{a in P | Q(a)} [forall_{(x, y) in R * S | x = y , Q(x)} ((x + a) = (y + a))]\n",
       "1\tspecialization\t2, 3\t{x = y} |= (x + a) = (y + a)\n",
       "\tf -> [x -> (x + a)], x -> x, y -> y\n",
       "2\taxiom\t\t|= forall_{f, x, y | x = y} (f(x) = f(y))\n",
       "\tproveit.logic.equality.substitution\n",
       "3\tassumption\t\t{x = y} |= x = y"
      ]
     },
     "execution_count": 67,
     "metadata": {},
     "output_type": "execute_result"
    }
   ],
   "source": [
    "nestedGenExample.proof()"
   ]
  },
  {
   "cell_type": "markdown",
   "metadata": {},
   "source": [
    "For any level in which multiple instance variables are introduced, a domain can be supplied for each new variable (as above) or one may be specified as the same domain for each of them:"
   ]
  },
  {
   "cell_type": "code",
   "execution_count": 68,
   "metadata": {},
   "outputs": [
    {
     "data": {
      "text/html": [
       "<span style=\"font-size:20px;\"> &#x22A2;&nbsp;<a class=\"ProveItLink\" href=\"__pv_it/b123eb4d26741ba34e664d64356cdd3631b94f310/expr.ipynb\"><img src=\"__pv_it/b123eb4d26741ba34e664d64356cdd3631b94f310/expr.png\" style=\"display:inline;vertical-align:middle;\" /></a></span>"
      ],
      "text/plain": [
       "|= forall_{a in P | Q(a)} [forall_{x, y in R | x = y , Q(x)} ((x + a) = (y + a))]"
      ]
     },
     "execution_count": 68,
     "metadata": {},
     "output_type": "execute_result"
    }
   ],
   "source": [
    "operationSubstitution.generalize([[a], [x, y]], domainLists=[[P], [R]], conditions=[x_eq_y, Qx, Qa])"
   ]
  },
  {
   "cell_type": "markdown",
   "metadata": {},
   "source": [
    "When *generalizing* over a single **variable**, the first argument may be just that **variable** rather than a list or tuple:"
   ]
  },
  {
   "cell_type": "code",
   "execution_count": 69,
   "metadata": {},
   "outputs": [
    {
     "data": {
      "text/html": [
       "<span style=\"font-size:20px;\"><a class=\"ProveItLink\" href=\"__pv_it/d4a3dd3c85f470d315b548d612a9396dbfc1efd10/expr.ipynb\"><img src=\"__pv_it/d4a3dd3c85f470d315b548d612a9396dbfc1efd10/expr.png\" style=\"display:inline;vertical-align:middle;\" /></a> &#x22A2;&nbsp;<a class=\"ProveItLink\" href=\"__pv_it/73d659e189407f80a78d9244a08f7e8bea32e2030/expr.ipynb\"><img src=\"__pv_it/73d659e189407f80a78d9244a08f7e8bea32e2030/expr.png\" style=\"display:inline;vertical-align:middle;\" /></a></span>"
      ],
      "text/plain": [
       "{x = y} |= forall_{a | Q(a)} ((x + a) = (y + a))"
      ]
     },
     "execution_count": 69,
     "metadata": {},
     "output_type": "execute_result"
    }
   ],
   "source": [
    "operationSubstitution.generalize(a, conditions=[Qa])"
   ]
  },
  {
   "cell_type": "markdown",
   "metadata": {},
   "source": [
    "We may only *generalize* over **variables** (or **iterations** of **variables**) however:"
   ]
  },
  {
   "cell_type": "code",
   "execution_count": 70,
   "metadata": {
    "scrolled": true
   },
   "outputs": [
    {
     "name": "stdout",
     "output_type": "stream",
     "text": [
      "EXPECTED ERROR: Must supply 'generalize' with a Variable, list of Variables, or list of Variable lists.\n"
     ]
    }
   ],
   "source": [
    "try:\n",
    "    operationSubstitution.generalize(Qx, conditions=[Qa])\n",
    "    assert False, \"Expecting an ValueError error; should not make it to this point\"    \n",
    "except ValueError as e:\n",
    "    print 'EXPECTED ERROR:', e"
   ]
  },
  {
   "cell_type": "code",
   "execution_count": 71,
   "metadata": {
    "scrolled": true
   },
   "outputs": [
    {
     "name": "stdout",
     "output_type": "stream",
     "text": [
      "EXPECTED ERROR: Forall variables of a generalization must be Variable objects\n"
     ]
    }
   ],
   "source": [
    "try:\n",
    "    operationSubstitution.generalize([[a], [Qx]], conditions=[Qa])\n",
    "    assert False, \"Expecting an ValueError error; should not make it to this point\"\n",
    "except ValueError as e:\n",
    "    print 'EXPECTED ERROR:', e"
   ]
  },
  {
   "cell_type": "markdown",
   "metadata": {},
   "source": [
    "*Generalizing* an unspecified number of **variables** via an **iteration** will be discussed in the chapter on <a href=\"tutorial11_advanced_proofs.ipynb\">proofs using advanced expressions</a>."
   ]
  },
  {
   "cell_type": "markdown",
   "metadata": {
    "collapsed": true
   },
   "source": [
    "# Next chapter: <a href=\"tutorial06_theorem_proving.ipynb\">Theorem Proving</a>\n",
    "\n",
    "## <a href=\"tutorial00_introduction.ipynb#contents\">Table of Contents</a>"
   ]
  }
 ],
 "metadata": {
  "kernelspec": {
   "display_name": "Python 2",
   "language": "python",
   "name": "python2"
  },
  "language_info": {
   "codemirror_mode": {
    "name": "ipython",
    "version": 2
   },
   "file_extension": ".py",
   "mimetype": "text/x-python",
   "name": "python",
   "nbconvert_exporter": "python",
   "pygments_lexer": "ipython2",
   "version": "2.7.11"
  }
 },
 "nbformat": 4,
 "nbformat_minor": 1
}
