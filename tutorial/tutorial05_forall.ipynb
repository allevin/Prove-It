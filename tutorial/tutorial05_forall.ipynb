{
 "cells": [
  {
   "cell_type": "markdown",
   "metadata": {},
   "source": [
    "Chapter 5. Universal Quantification (Forall)\n",
    "==================\n",
    "\n",
    "Universal quantification is another core concept in **Prove-It**.  A `Forall` operation, formatted with the $\\forall$ symbol, is used to represent universal quantification.  For example, $\\forall_x P(x)$ means that $P(x)$ is true for any instance of $x$.  $P(x)$ holds true universally over instances of $x$.  Like `Implies`, `Forall` is a core concept but is defined outside of the core in the `proveit.logic` package. It is known in the core for use in the *specialization* and *generalization* derivation steps discussed below.  First, let us given an example of a `Forall` object."
   ]
  },
  {
   "cell_type": "code",
   "execution_count": 1,
   "metadata": {},
   "outputs": [],
   "source": [
    "from proveit.logic import Forall\n",
    "from proveit._common_ import x, P, Px, Q, Qx, R, Rx, S\n",
    "%begin universal_quantification"
   ]
  },
  {
   "cell_type": "code",
   "execution_count": 2,
   "metadata": {},
   "outputs": [
    {
     "data": {
      "text/html": [
       "<strong id=\"basicForallExpr\">basicForallExpr:</strong> <a class=\"ProveItLink\" href=\"__pv_it/768e0ea8953379b26e536b52c663304c5502b1240/expr.ipynb\"><img src=\"__pv_it/768e0ea8953379b26e536b52c663304c5502b1240/expr.png\" style=\"display:inline;vertical-align:middle;\" /></a><br>"
      ],
      "text/plain": [
       "basicForallExpr: forall_{x in S | Q(x) , R(x)} P(x)"
      ]
     },
     "execution_count": 2,
     "metadata": {},
     "output_type": "execute_result"
    }
   ],
   "source": [
    "basicForallExpr = Forall(x, Px, conditions=[Qx, Rx], domain=S)"
   ]
  },
  {
   "cell_type": "markdown",
   "metadata": {},
   "source": [
    "The meaning of this **Expression** is that $P(x)$ is a true statement for all instances of $x$ for which $x \\in S$ and $Q(x)$ is true.  Let us examine the internal structure of this expression."
   ]
  },
  {
   "cell_type": "code",
   "execution_count": 3,
   "metadata": {},
   "outputs": [
    {
     "data": {
      "text/html": [
       "<table><tr><th>&nbsp;</th><th>core type</th><th>sub-expressions</th><th>expression</th></tr>\n",
       "<tr><td>0</td><td>Operation</td><td>operator:&nbsp;1<br>operand:&nbsp;2<br></td><td><a class=\"ProveItLink\" href=\"__pv_it/768e0ea8953379b26e536b52c663304c5502b1240/expr.ipynb\"><img src=\"__pv_it/768e0ea8953379b26e536b52c663304c5502b1240/expr.png\" style=\"display:inline;vertical-align:middle;\" /></a></td></tr>\n",
       "<tr><td>1</td><td>Literal</td><td></td><td><a class=\"ProveItLink\" href=\"../packages/proveit/logic/boolean/quantification/universal/__pv_it/265f8c02ac1094d56e0e6410a1c1fd3500dc9f540/expr.ipynb\"><img src=\"../packages/proveit/logic/boolean/quantification/universal/__pv_it/265f8c02ac1094d56e0e6410a1c1fd3500dc9f540/expr.png\" style=\"display:inline;vertical-align:middle;\" /></a></td></tr>\n",
       "<tr><td>2</td><td>Lambda</td><td>parameter:&nbsp;13<br>body:&nbsp;3<br>conditions:&nbsp;4<br></td><td><a class=\"ProveItLink\" href=\"__pv_it/c783c3d0ddceffe458a468f833f77851b5e5488e0/expr.ipynb\"><img src=\"__pv_it/c783c3d0ddceffe458a468f833f77851b5e5488e0/expr.png\" style=\"display:inline;vertical-align:middle;\" /></a></td></tr>\n",
       "<tr><td>3</td><td>Operation</td><td>operator:&nbsp;5<br>operand:&nbsp;13<br></td><td><a class=\"ProveItLink\" href=\"../packages/proveit/__pv_it/8c735c381b4cbf3c87e86ca2468da4e5c976f9b00/expr.ipynb\"><img src=\"../packages/proveit/__pv_it/8c735c381b4cbf3c87e86ca2468da4e5c976f9b00/expr.png\" style=\"display:inline;vertical-align:middle;\" /></a></td></tr>\n",
       "<tr><td>4</td><td>ExprList</td><td>6, 7, 8</td><td><a class=\"ProveItLink\" href=\"__pv_it/25b4fb40e880d04b05e4f76c95553f0c0b3b76b20/expr.ipynb\"><img src=\"__pv_it/25b4fb40e880d04b05e4f76c95553f0c0b3b76b20/expr.png\" style=\"display:inline;vertical-align:middle;\" /></a></td></tr>\n",
       "<tr><td>5</td><td>Variable</td><td></td><td><a class=\"ProveItLink\" href=\"../packages/proveit/__pv_it/6369c6c8083c513ca7161ace249642d040f9327d0/expr.ipynb\"><img src=\"../packages/proveit/__pv_it/6369c6c8083c513ca7161ace249642d040f9327d0/expr.png\" style=\"display:inline;vertical-align:middle;\" /></a></td></tr>\n",
       "<tr><td>6</td><td>Operation</td><td>operator:&nbsp;9<br>operands:&nbsp;10<br></td><td><a class=\"ProveItLink\" href=\"__pv_it/e2a5d0d2b35dbe8e279c49a9a93d84141b6063d40/expr.ipynb\"><img src=\"__pv_it/e2a5d0d2b35dbe8e279c49a9a93d84141b6063d40/expr.png\" style=\"display:inline;vertical-align:middle;\" /></a></td></tr>\n",
       "<tr><td>7</td><td>Operation</td><td>operator:&nbsp;11<br>operand:&nbsp;13<br></td><td><a class=\"ProveItLink\" href=\"../packages/proveit/__pv_it/050bcffbb388a0b365dac8afc3d37833b4bb47300/expr.ipynb\"><img src=\"../packages/proveit/__pv_it/050bcffbb388a0b365dac8afc3d37833b4bb47300/expr.png\" style=\"display:inline;vertical-align:middle;\" /></a></td></tr>\n",
       "<tr><td>8</td><td>Operation</td><td>operator:&nbsp;12<br>operand:&nbsp;13<br></td><td><a class=\"ProveItLink\" href=\"../packages/proveit/__pv_it/d01cfc83d8b4aad8e81bd51bd1f9adb62576a1e70/expr.ipynb\"><img src=\"../packages/proveit/__pv_it/d01cfc83d8b4aad8e81bd51bd1f9adb62576a1e70/expr.png\" style=\"display:inline;vertical-align:middle;\" /></a></td></tr>\n",
       "<tr><td>9</td><td>Literal</td><td></td><td><a class=\"ProveItLink\" href=\"../packages/proveit/logic/set_theory/membership/__pv_it/088cbc857536a28d4119ad9639a84270ccb0545d0/expr.ipynb\"><img src=\"../packages/proveit/logic/set_theory/membership/__pv_it/088cbc857536a28d4119ad9639a84270ccb0545d0/expr.png\" style=\"display:inline;vertical-align:middle;\" /></a></td></tr>\n",
       "<tr><td>10</td><td>ExprList</td><td>13, 14</td><td><a class=\"ProveItLink\" href=\"__pv_it/36fdea86647c815a13bd2d80d0c25d06692bc3ac0/expr.ipynb\"><img src=\"__pv_it/36fdea86647c815a13bd2d80d0c25d06692bc3ac0/expr.png\" style=\"display:inline;vertical-align:middle;\" /></a></td></tr>\n",
       "<tr><td>11</td><td>Variable</td><td></td><td><a class=\"ProveItLink\" href=\"../packages/proveit/__pv_it/98124f92e6e1fc3772af50ac63eaa1f5624776f20/expr.ipynb\"><img src=\"../packages/proveit/__pv_it/98124f92e6e1fc3772af50ac63eaa1f5624776f20/expr.png\" style=\"display:inline;vertical-align:middle;\" /></a></td></tr>\n",
       "<tr><td>12</td><td>Variable</td><td></td><td><a class=\"ProveItLink\" href=\"../packages/proveit/__pv_it/e24df48bc297bbcf3538a62f5b4f635a392abfce0/expr.ipynb\"><img src=\"../packages/proveit/__pv_it/e24df48bc297bbcf3538a62f5b4f635a392abfce0/expr.png\" style=\"display:inline;vertical-align:middle;\" /></a></td></tr>\n",
       "<tr><td>13</td><td>Variable</td><td></td><td><a class=\"ProveItLink\" href=\"../packages/proveit/__pv_it/530be409e3083890784cf1d7b28c9e67e90af9360/expr.ipynb\"><img src=\"../packages/proveit/__pv_it/530be409e3083890784cf1d7b28c9e67e90af9360/expr.png\" style=\"display:inline;vertical-align:middle;\" /></a></td></tr>\n",
       "<tr><td>14</td><td>Variable</td><td></td><td><a class=\"ProveItLink\" href=\"../packages/proveit/__pv_it/abeee18594afe51bfb1be95d9591fbba24ac53f30/expr.ipynb\"><img src=\"../packages/proveit/__pv_it/abeee18594afe51bfb1be95d9591fbba24ac53f30/expr.png\" style=\"display:inline;vertical-align:middle;\" /></a></td></tr>\n",
       "</table>\n"
      ],
      "text/plain": [
       "0. forall_{x in S | Q(x) , R(x)} P(x)\n",
       "   core type: Operation\n",
       "   operator: 1\n",
       "   operand: 2\n",
       "1. forall\n",
       "   core type: Literal\n",
       "   sub-expressions: \n",
       "2. x -> P(x) | x in S , Q(x) , R(x)\n",
       "   core type: Lambda\n",
       "   parameter: 13\n",
       "   body: 3\n",
       "   conditions: 4\\n3. P(x)\n",
       "   core type: Operation\n",
       "   operator: 5\n",
       "   operand: 13\n",
       "4. (x in S , Q(x) , R(x))\n",
       "   core type: ExprList\n",
       "   sub-expressions: 6, 7, 8\n",
       "5. P\n",
       "   core type: Variable\n",
       "   sub-expressions: \n",
       "6. x in S\n",
       "   core type: Operation\n",
       "   operator: 9\n",
       "   operands: 10\n",
       "7. Q(x)\n",
       "   core type: Operation\n",
       "   operator: 11\n",
       "   operand: 13\n",
       "8. R(x)\n",
       "   core type: Operation\n",
       "   operator: 12\n",
       "   operand: 13\n",
       "9. in\n",
       "   core type: Literal\n",
       "   sub-expressions: \n",
       "10. (x , S)\n",
       "    core type: ExprList\n",
       "    sub-expressions: 13, 14\n",
       "11. Q\n",
       "    core type: Variable\n",
       "    sub-expressions: \n",
       "12. R\n",
       "    core type: Variable\n",
       "    sub-expressions: \n",
       "13. x\n",
       "    core type: Variable\n",
       "    sub-expressions: \n",
       "14. S\n",
       "    core type: Variable\n",
       "    sub-expressions: "
      ]
     },
     "execution_count": 3,
     "metadata": {},
     "output_type": "execute_result"
    }
   ],
   "source": [
    "basicForallExpr.exprInfo()"
   ]
  },
  {
   "cell_type": "markdown",
   "metadata": {},
   "source": [
    "`Forall` derives from `OperationOverInstances` (`proveit._core_.expression.operation.operation_over_instances.OperationOverInstances` aliased as `proveit.OperationOverInstances`) which generally defines an operation that acts on a **lambda** map with optional conditions.  The idea is like a \"functional\" (a function of a function).  It operates over the range of instances for the **lambda** parameters for which the condition is satisfied.  Other examples of **expression** types that derive from `OperationOverInstances` are $\\exists$, $\\sum$, $\\prod$.  \n",
    "\n",
    "In our example above, we see that the $S$ domain is internally represented via the first condition of the conditional **lambda**.  In the external representation, it is displayed more compactly along with the introduction of $x$ before the vertical line that precedes the other conditions.  This is a matter of presentation style that is independent of how **Prove-It** treats this expression.  As far as **Prove-It** is concerned, $x \\in S$ is simply a condition no different than $Q(x)$ and $R(x)$.  The various parts of the `Forall` **expression** may be accessed as follows:"
   ]
  },
  {
   "cell_type": "code",
   "execution_count": 4,
   "metadata": {},
   "outputs": [
    {
     "data": {
      "text/html": [
       "<a class=\"ProveItLink\" href=\"../packages/proveit/__pv_it/530be409e3083890784cf1d7b28c9e67e90af9360/expr.ipynb\"><img src=\"../packages/proveit/__pv_it/530be409e3083890784cf1d7b28c9e67e90af9360/expr.png\" style=\"display:inline;vertical-align:middle;\" /></a>"
      ],
      "text/plain": [
       "x"
      ]
     },
     "execution_count": 4,
     "metadata": {},
     "output_type": "execute_result"
    }
   ],
   "source": [
    "# Variable whose value defines the instance.\n",
    "basicForallExpr.instanceVar # This attribute only exists when there is only one."
   ]
  },
  {
   "cell_type": "code",
   "execution_count": 5,
   "metadata": {},
   "outputs": [
    {
     "data": {
      "text/html": [
       "<a class=\"ProveItLink\" href=\"../packages/proveit/__pv_it/530be409e3083890784cf1d7b28c9e67e90af9360/expr.ipynb\"><img src=\"../packages/proveit/__pv_it/530be409e3083890784cf1d7b28c9e67e90af9360/expr.png\" style=\"display:inline;vertical-align:middle;\" /></a>"
      ],
      "text/plain": [
       "x"
      ]
     },
     "execution_count": 5,
     "metadata": {},
     "output_type": "execute_result"
    }
   ],
   "source": [
    "basicForallExpr.instanceVar # The list of variables whose values define the instance (may be one or more)."
   ]
  },
  {
   "cell_type": "code",
   "execution_count": 6,
   "metadata": {},
   "outputs": [
    {
     "data": {
      "text/html": [
       "<a class=\"ProveItLink\" href=\"../packages/proveit/__pv_it/8c735c381b4cbf3c87e86ca2468da4e5c976f9b00/expr.ipynb\"><img src=\"../packages/proveit/__pv_it/8c735c381b4cbf3c87e86ca2468da4e5c976f9b00/expr.png\" style=\"display:inline;vertical-align:middle;\" /></a>"
      ],
      "text/plain": [
       "P(x)"
      ]
     },
     "execution_count": 6,
     "metadata": {},
     "output_type": "execute_result"
    }
   ],
   "source": [
    "basicForallExpr.instanceExpr # The expression being quantified over."
   ]
  },
  {
   "cell_type": "code",
   "execution_count": 7,
   "metadata": {
    "scrolled": true
   },
   "outputs": [
    {
     "data": {
      "text/html": [
       "<a class=\"ProveItLink\" href=\"__pv_it/25b4fb40e880d04b05e4f76c95553f0c0b3b76b20/expr.ipynb\"><img src=\"__pv_it/25b4fb40e880d04b05e4f76c95553f0c0b3b76b20/expr.png\" style=\"display:inline;vertical-align:middle;\" /></a>"
      ],
      "text/plain": [
       "(x in S , Q(x) , R(x))"
      ]
     },
     "execution_count": 7,
     "metadata": {},
     "output_type": "execute_result"
    }
   ],
   "source": [
    "basicForallExpr.conditions # The list of conditions of the universal quantification."
   ]
  },
  {
   "cell_type": "code",
   "execution_count": 8,
   "metadata": {},
   "outputs": [
    {
     "data": {
      "text/html": [
       "<a class=\"ProveItLink\" href=\"../packages/proveit/__pv_it/abeee18594afe51bfb1be95d9591fbba24ac53f30/expr.ipynb\"><img src=\"../packages/proveit/__pv_it/abeee18594afe51bfb1be95d9591fbba24ac53f30/expr.png\" style=\"display:inline;vertical-align:middle;\" /></a>"
      ],
      "text/plain": [
       "S"
      ]
     },
     "execution_count": 8,
     "metadata": {},
     "output_type": "execute_result"
    }
   ],
   "source": [
    "# Domain of the instance variable.\n",
    "basicForallExpr.domain # This attribute only exists when there is only one instance variable (otherwise use `domains`)."
   ]
  },
  {
   "cell_type": "code",
   "execution_count": 9,
   "metadata": {},
   "outputs": [
    {
     "data": {
      "text/plain": [
       "[Q(x), R(x)]"
      ]
     },
     "execution_count": 9,
     "metadata": {},
     "output_type": "execute_result"
    }
   ],
   "source": [
    "# Returns the list of conditions that appear after the vertical line in the notation,\n",
    "basicForallExpr.explicitConditions()  # exluding the domain condition(s)."
   ]
  },
  {
   "cell_type": "markdown",
   "metadata": {},
   "source": [
    "Specialization\n",
    "======\n",
    "\n",
    "The *specialization* derivation step uses *expression substitution* internally.  The difference is that *specialization* has proof implications and enforces the extra restrictions to justify these proof implications.  It also eliminates one or more of the outer $\\forall$ operations."
   ]
  },
  {
   "cell_type": "markdown",
   "metadata": {},
   "source": [
    "\n",
    "### Basic Specialization\n",
    "\n",
    "Let us take our basic/generic example of the `Forall` expression above and specialize it with a particular \"instance\" expression.  To do so, we will make assumptions to trivially allow this derivation step is taken (just to show how this works)."
   ]
  },
  {
   "cell_type": "code",
   "execution_count": 10,
   "metadata": {},
   "outputs": [
    {
     "data": {
      "text/html": [
       "<strong id=\"assumptions\">assumptions:</strong> <a class=\"ProveItLink\" href=\"__pv_it/2d694bde19f975ef229ae6675712fa738d8f57670/expr.ipynb\"><img src=\"__pv_it/2d694bde19f975ef229ae6675712fa738d8f57670/expr.png\" style=\"display:inline;vertical-align:middle;\" /></a><br>"
      ],
      "text/plain": [
       "assumptions: (forall_{x in S | Q(x) , R(x)} P(x) , f(y) in S , Q(f(y)) , R(f(y)))"
      ]
     },
     "execution_count": 10,
     "metadata": {},
     "output_type": "execute_result"
    }
   ],
   "source": [
    "from proveit import Function, ExprList\n",
    "from proveit._common_ import fy\n",
    "from proveit.logic import InSet\n",
    "assumptions = ExprList(basicForallExpr, InSet(fy, S), Function(Q, fy), Function(R, fy))"
   ]
  },
  {
   "cell_type": "markdown",
   "metadata": {},
   "source": [
    "`InSet` is another core concept that is defined outside of the core in `proveit.logic`.  It represents the set membership operation using the $\\in$ symbol.  It is needed as a core concept specifically for the purpose of ensuring that universal quantification requirements are met (the \"instance\" expression must be \"in\" the domain set)."
   ]
  },
  {
   "cell_type": "code",
   "execution_count": 11,
   "metadata": {
    "scrolled": true
   },
   "outputs": [
    {
     "data": {
      "text/html": [
       "<span style=\"font-size:20px;\"><a class=\"ProveItLink\" href=\"__pv_it/526dde690b463cf3c56abb3913076e117d60dabf0/expr.ipynb\"><img src=\"__pv_it/526dde690b463cf3c56abb3913076e117d60dabf0/expr.png\" style=\"display:inline;vertical-align:middle;\" /></a> &#x22A2;&nbsp;<a class=\"ProveItLink\" href=\"__pv_it/e16eba53b0be132ecdb115b19c32e9f6e91766930/expr.ipynb\"><img src=\"__pv_it/e16eba53b0be132ecdb115b19c32e9f6e91766930/expr.png\" style=\"display:inline;vertical-align:middle;\" /></a></span>"
      ],
      "text/plain": [
       "{forall_{x in S | Q(x) , R(x)} P(x) , f(y) in S , Q(f(y)) , R(f(y))} |= P(f(y))"
      ]
     },
     "execution_count": 11,
     "metadata": {},
     "output_type": "execute_result"
    }
   ],
   "source": [
    "basicForallSpec = basicForallExpr.specialize({x:fy}, assumptions=assumptions)\n",
    "basicForallSpec"
   ]
  },
  {
   "cell_type": "markdown",
   "metadata": {},
   "source": [
    "We have proven, somewhat trivially, that $P(f(y))$ is true assuming that $\\forall_{x \\in S~|~Q(x)} P(x)$, $f(y) \\in S$, $Q(f(y))$ are all true statements.  Let is take a look at the proof for this statement."
   ]
  },
  {
   "cell_type": "code",
   "execution_count": 12,
   "metadata": {},
   "outputs": [
    {
     "data": {
      "text/html": [
       "<table><tr><th>&nbsp;</th><th>step type</th><th>requirements</th><th>statement</th></tr>\n",
       "<tr><td>0</td><td>specialization</td><td>1, 2, 3, 4</td><td><span style=\"font-size:20px;\"><a class=\"ProveItLink\" href=\"__pv_it/526dde690b463cf3c56abb3913076e117d60dabf0/expr.ipynb\"><img src=\"__pv_it/526dde690b463cf3c56abb3913076e117d60dabf0/expr.png\" style=\"display:inline;vertical-align:middle;\" /></a> &#x22A2;&nbsp;<a class=\"ProveItLink\" href=\"__pv_it/e16eba53b0be132ecdb115b19c32e9f6e91766930/expr.ipynb\"><img src=\"__pv_it/e16eba53b0be132ecdb115b19c32e9f6e91766930/expr.png\" style=\"display:inline;vertical-align:middle;\" /></a></span></td></tr>\n",
       "<tr><td>&nbsp;</td><td colspan=4 style=\"text-align:left\"><span style=\"font-size:20px;\"><a class=\"ProveItLink\" href=\"__pv_it/7006eaf09ee48a8dd6eaab02e4c610d12b7e22dc0/expr.ipynb\"><img src=\"__pv_it/7006eaf09ee48a8dd6eaab02e4c610d12b7e22dc0/expr.png\" style=\"display:inline;vertical-align:middle;\" /></a></span></td></tr><tr><td>1</td><td>assumption</td><td></td><td><span style=\"font-size:20px;\"><a class=\"ProveItLink\" href=\"__pv_it/12753cd3c714840b6ba0f971efe02ce4088257570/expr.ipynb\"><img src=\"__pv_it/12753cd3c714840b6ba0f971efe02ce4088257570/expr.png\" style=\"display:inline;vertical-align:middle;\" /></a> &#x22A2;&nbsp;<a class=\"ProveItLink\" href=\"__pv_it/768e0ea8953379b26e536b52c663304c5502b1240/expr.ipynb\"><img src=\"__pv_it/768e0ea8953379b26e536b52c663304c5502b1240/expr.png\" style=\"display:inline;vertical-align:middle;\" /></a></span></td></tr>\n",
       "<tr><td>2</td><td>assumption</td><td></td><td><span style=\"font-size:20px;\"><a class=\"ProveItLink\" href=\"__pv_it/268f310cadeea8c32912ea7c8328fa40b11fa53c0/expr.ipynb\"><img src=\"__pv_it/268f310cadeea8c32912ea7c8328fa40b11fa53c0/expr.png\" style=\"display:inline;vertical-align:middle;\" /></a> &#x22A2;&nbsp;<a class=\"ProveItLink\" href=\"__pv_it/ec2c2fa1ecba6bd2da2def76efbae1904f43053d0/expr.ipynb\"><img src=\"__pv_it/ec2c2fa1ecba6bd2da2def76efbae1904f43053d0/expr.png\" style=\"display:inline;vertical-align:middle;\" /></a></span></td></tr>\n",
       "<tr><td>3</td><td>assumption</td><td></td><td><span style=\"font-size:20px;\"><a class=\"ProveItLink\" href=\"__pv_it/fac784b6f51600f981c380d5f3e3cd5cbb4e2b5f0/expr.ipynb\"><img src=\"__pv_it/fac784b6f51600f981c380d5f3e3cd5cbb4e2b5f0/expr.png\" style=\"display:inline;vertical-align:middle;\" /></a> &#x22A2;&nbsp;<a class=\"ProveItLink\" href=\"__pv_it/a42dcb2a1478b3b87b8f129e549a557692557fd00/expr.ipynb\"><img src=\"__pv_it/a42dcb2a1478b3b87b8f129e549a557692557fd00/expr.png\" style=\"display:inline;vertical-align:middle;\" /></a></span></td></tr>\n",
       "<tr><td>4</td><td>assumption</td><td></td><td><span style=\"font-size:20px;\"><a class=\"ProveItLink\" href=\"__pv_it/58a41dc1621297c1cdfcccc8ead95654fb69a7df0/expr.ipynb\"><img src=\"__pv_it/58a41dc1621297c1cdfcccc8ead95654fb69a7df0/expr.png\" style=\"display:inline;vertical-align:middle;\" /></a> &#x22A2;&nbsp;<a class=\"ProveItLink\" href=\"__pv_it/7aa454bcc8446e5a1c8515a46db6a919038056c50/expr.ipynb\"><img src=\"__pv_it/7aa454bcc8446e5a1c8515a46db6a919038056c50/expr.png\" style=\"display:inline;vertical-align:middle;\" /></a></span></td></tr>\n",
       "</table>"
      ],
      "text/plain": [
       "\tstep type\trequirements\tstatement\n",
       "0\tspecialization\t1, 2, 3, 4\t{forall_{x in S | Q(x) , R(x)} P(x) , f(y) in S , Q(f(y)) , R(f(y))} |= P(f(y))\n",
       "\tx -> f(y)\n",
       "1\tassumption\t\t{forall_{x in S | Q(x) , R(x)} P(x)} |= forall_{x in S | Q(x) , R(x)} P(x)\n",
       "2\tassumption\t\t{f(y) in S} |= f(y) in S\n",
       "3\tassumption\t\t{Q(f(y))} |= Q(f(y))\n",
       "4\tassumption\t\t{R(f(y))} |= R(f(y))"
      ]
     },
     "execution_count": 12,
     "metadata": {},
     "output_type": "execute_result"
    }
   ],
   "source": [
    "basicForallSpec.proof()"
   ]
  },
  {
   "cell_type": "markdown",
   "metadata": {},
   "source": [
    "This indicates that the proof requires a *specialization* step (step 0) and explicitly indicates, in the row under step 0, the mapping being performed (mapping $x$ to $f(y)$).  The subsequent proof steps that are required are simply proofs by assumption.  Specifically, the original `Forall` expression must be true and the conditions must be satisfied for the instance $x \\mapsto f(y)$: $f(y) \\in S$, $Q(f(x))$, and $R(f(y))$.  If any of these are not known to be true under the provided assumptions, this step will fail.  In this example, they are trivially true because we our assumptions were chosen to be precisely what needed to be true for the *specialization* step to succeed."
   ]
  },
  {
   "cell_type": "markdown",
   "metadata": {},
   "source": [
    "If we leave out our first assumption, **Prove-It** is unable to prove the original `Forall` expression even after attempting to perform automation and the *specialization* step will fail."
   ]
  },
  {
   "cell_type": "code",
   "execution_count": 13,
   "metadata": {},
   "outputs": [
    {
     "name": "stdout",
     "output_type": "stream",
     "text": [
      "EXPECTED ERROR: Unable to prove forall_{x in S | Q(x) , R(x)} P(x) assuming {f(y) in S, Q(f(y)), R(f(y))}: Unable to conclude automatically; the domain has no 'foldAsForall' method and automated generalization failed.\n"
     ]
    }
   ],
   "source": [
    "from proveit import ProofFailure\n",
    "try:\n",
    "    basicForallExpr.specialize({x:fy}, assumptions=assumptions[1:])\n",
    "    assert False, \"Expecting an ProofFailure error; should not make it to this point\"\n",
    "except ProofFailure as e:\n",
    "    print(\"EXPECTED ERROR:\", e)"
   ]
  },
  {
   "cell_type": "markdown",
   "metadata": {},
   "source": [
    "The automation checks to see of the $S$ **Expression** has a `foldAsForall` method that would automate a proof for universal quantification over $S$.  Since $S$ is a simple **Variable** object, no such automation exists.  Next we'll see what happens when the \"instance\" is not in the $S$ domain."
   ]
  },
  {
   "cell_type": "code",
   "execution_count": 14,
   "metadata": {},
   "outputs": [
    {
     "name": "stdout",
     "output_type": "stream",
     "text": [
      "EXPECTED ERROR: Unable to prove P(f(y)) assuming {forall_{x in S | Q(x) , R(x)} P(x), Q(f(y)), R(f(y))}: Unmet specialization requirement: f(y) in S\n"
     ]
    }
   ],
   "source": [
    "from proveit import SpecializationFailure\n",
    "try:\n",
    "    basicForallExpr.specialize({x:fy}, assumptions=assumptions[:1]+assumptions[2:])\n",
    "    assert False, \"Expecting an SpecializationFailure error; should not make it to this point\"\n",
    "except SpecializationFailure as e:\n",
    "    print(\"EXPECTED ERROR:\", e)"
   ]
  },
  {
   "cell_type": "markdown",
   "metadata": {},
   "source": [
    "Finally, we demonstrate the case when one of the \"explicit\" conditions is not met."
   ]
  },
  {
   "cell_type": "code",
   "execution_count": 15,
   "metadata": {},
   "outputs": [
    {
     "name": "stdout",
     "output_type": "stream",
     "text": [
      "EXPECTED ERROR: Unable to prove P(f(y)) assuming {forall_{x in S | Q(x) , R(x)} P(x), f(y) in S, R(f(y))}: Unmet specialization requirement: Q(f(y))\n"
     ]
    }
   ],
   "source": [
    "try:\n",
    "    basicForallExpr.specialize({x:fy}, assumptions=assumptions[:2]+assumptions[3:])\n",
    "    assert False, \"Expecting an SpecializationFailure error; should not make it to this point\"\n",
    "except SpecializationFailure as e:\n",
    "    print(\"EXPECTED ERROR:\", e)"
   ]
  },
  {
   "cell_type": "code",
   "execution_count": 16,
   "metadata": {},
   "outputs": [
    {
     "name": "stdout",
     "output_type": "stream",
     "text": [
      "EXPECTED ERROR: Unable to prove P(f(y)) assuming {forall_{x in S | Q(x) , R(x)} P(x), f(y) in S, Q(f(y))}: Unmet specialization requirement: R(f(y))\n"
     ]
    }
   ],
   "source": [
    "try:\n",
    "    basicForallExpr.specialize({x:fy}, assumptions=assumptions[:3])\n",
    "    assert False, \"Expecting an SpecializationFailure error; should not make it to this point\"\n",
    "except SpecializationFailure as e:\n",
    "    print(\"EXPECTED ERROR:\", e)"
   ]
  },
  {
   "cell_type": "markdown",
   "metadata": {},
   "source": [
    "Also note that you cannot *specialize* a variable that is not one of the `Forall` instance variables."
   ]
  },
  {
   "cell_type": "code",
   "execution_count": 17,
   "metadata": {},
   "outputs": [
    {
     "data": {
      "text/html": [
       "<a class=\"ProveItLink\" href=\"__pv_it/768e0ea8953379b26e536b52c663304c5502b1240/expr.ipynb\"><img src=\"__pv_it/768e0ea8953379b26e536b52c663304c5502b1240/expr.png\" style=\"display:inline;vertical-align:middle;\" /></a>"
      ],
      "text/plain": [
       "forall_{x in S | Q(x) , R(x)} P(x)"
      ]
     },
     "execution_count": 17,
     "metadata": {},
     "output_type": "execute_result"
    }
   ],
   "source": [
    "basicForallExpr"
   ]
  },
  {
   "cell_type": "code",
   "execution_count": 18,
   "metadata": {},
   "outputs": [
    {
     "name": "stdout",
     "output_type": "stream",
     "text": [
      "EXPECTED ERROR: Proof step failed assuming {forall_{x in S | Q(x) , R(x)} P(x), f(y) in S, Q(f(y)), R(f(y)), forall_{x in S | Q(x) , R(x)} P(x)}: May only specialize instance variables of directly nested Forall operations\n"
     ]
    }
   ],
   "source": [
    "try:\n",
    "    basicForallExpr.specialize({x:fy, Q:R}, assumptions=assumptions)\n",
    "    assert False, \"Expecting an SpecializationFailure error; should not make it to this point\"\n",
    "except SpecializationFailure as e:\n",
    "    print(\"EXPECTED ERROR:\", e)"
   ]
  },
  {
   "cell_type": "markdown",
   "metadata": {},
   "source": [
    "You can *relabel* **Variable**s that are not `Forall` instance variables.  Later we will show that you can *relabel* and *specialize* simultaneously.  You can also *specialize* multiple levels of `Forall` operations simultaneously which is why the previous error message mentions \"nested Forall operations\". "
   ]
  },
  {
   "cell_type": "markdown",
   "metadata": {},
   "source": [
    "### Universal quantification without a domain\n",
    "\n",
    "It is not necessary to specify a domain in a `Forall` **Expression**.  For example, the condition(s) may provide sufficient restrictions for the universal quantification.  Also, any number of conditions may be specified (including no conditions)."
   ]
  },
  {
   "cell_type": "code",
   "execution_count": 19,
   "metadata": {},
   "outputs": [
    {
     "data": {
      "text/html": [
       "<strong id=\"noDomainForallExpr\">noDomainForallExpr:</strong> <a class=\"ProveItLink\" href=\"__pv_it/a2ebf99e8e39eb09c8e8634a38eff06a38fbda4c0/expr.ipynb\"><img src=\"__pv_it/a2ebf99e8e39eb09c8e8634a38eff06a38fbda4c0/expr.png\" style=\"display:inline;vertical-align:middle;\" /></a><br>"
      ],
      "text/plain": [
       "noDomainForallExpr: forall_{x | Q(x)} P(x)"
      ]
     },
     "execution_count": 19,
     "metadata": {},
     "output_type": "execute_result"
    }
   ],
   "source": [
    "noDomainForallExpr = Forall(x, Px, conditions=[Qx])"
   ]
  },
  {
   "cell_type": "code",
   "execution_count": 20,
   "metadata": {},
   "outputs": [
    {
     "ename": "AssertionError",
     "evalue": "",
     "output_type": "error",
     "traceback": [
      "\u001b[0;31m---------------------------------------------------------------------------\u001b[0m",
      "\u001b[0;31mAssertionError\u001b[0m                            Traceback (most recent call last)",
      "\u001b[0;32m<ipython-input-20-be97e0e447b2>\u001b[0m in \u001b[0;36m<module>\u001b[0;34m\u001b[0m\n\u001b[0;32m----> 1\u001b[0;31m \u001b[0;32massert\u001b[0m \u001b[0;32mnot\u001b[0m \u001b[0mhasattr\u001b[0m\u001b[0;34m(\u001b[0m\u001b[0mnoDomainForallExpr\u001b[0m\u001b[0;34m,\u001b[0m \u001b[0;34m'domain'\u001b[0m\u001b[0;34m)\u001b[0m \u001b[0;31m# it should not have a domain attribute\u001b[0m\u001b[0;34m\u001b[0m\u001b[0;34m\u001b[0m\u001b[0m\n\u001b[0m",
      "\u001b[0;31mAssertionError\u001b[0m: "
     ]
    }
   ],
   "source": [
    "assert not hasattr(noDomainForallExpr, 'domain') # it should not have a domain attribute"
   ]
  },
  {
   "cell_type": "code",
   "execution_count": 21,
   "metadata": {},
   "outputs": [
    {
     "data": {
      "text/html": [
       "<table><tr><th>&nbsp;</th><th>core type</th><th>sub-expressions</th><th>expression</th></tr>\n",
       "<tr><td>0</td><td>Operation</td><td>operator:&nbsp;1<br>operand:&nbsp;2<br></td><td><a class=\"ProveItLink\" href=\"__pv_it/a2ebf99e8e39eb09c8e8634a38eff06a38fbda4c0/expr.ipynb\"><img src=\"__pv_it/a2ebf99e8e39eb09c8e8634a38eff06a38fbda4c0/expr.png\" style=\"display:inline;vertical-align:middle;\" /></a></td></tr>\n",
       "<tr><td>1</td><td>Literal</td><td></td><td><a class=\"ProveItLink\" href=\"../packages/proveit/logic/boolean/quantification/universal/__pv_it/265f8c02ac1094d56e0e6410a1c1fd3500dc9f540/expr.ipynb\"><img src=\"../packages/proveit/logic/boolean/quantification/universal/__pv_it/265f8c02ac1094d56e0e6410a1c1fd3500dc9f540/expr.png\" style=\"display:inline;vertical-align:middle;\" /></a></td></tr>\n",
       "<tr><td>2</td><td>Lambda</td><td>parameter:&nbsp;8<br>body:&nbsp;3<br>conditions:&nbsp;4<br></td><td><a class=\"ProveItLink\" href=\"__pv_it/b8a7d976e666ff37f706887e3ed1646edb7975140/expr.ipynb\"><img src=\"__pv_it/b8a7d976e666ff37f706887e3ed1646edb7975140/expr.png\" style=\"display:inline;vertical-align:middle;\" /></a></td></tr>\n",
       "<tr><td>3</td><td>Operation</td><td>operator:&nbsp;5<br>operand:&nbsp;8<br></td><td><a class=\"ProveItLink\" href=\"../packages/proveit/__pv_it/8c735c381b4cbf3c87e86ca2468da4e5c976f9b00/expr.ipynb\"><img src=\"../packages/proveit/__pv_it/8c735c381b4cbf3c87e86ca2468da4e5c976f9b00/expr.png\" style=\"display:inline;vertical-align:middle;\" /></a></td></tr>\n",
       "<tr><td>4</td><td>ExprList</td><td>6</td><td><a class=\"ProveItLink\" href=\"__pv_it/a422a8eec4da2178db83f3d719e826b5246a80ac0/expr.ipynb\"><img src=\"__pv_it/a422a8eec4da2178db83f3d719e826b5246a80ac0/expr.png\" style=\"display:inline;vertical-align:middle;\" /></a></td></tr>\n",
       "<tr><td>5</td><td>Variable</td><td></td><td><a class=\"ProveItLink\" href=\"../packages/proveit/__pv_it/6369c6c8083c513ca7161ace249642d040f9327d0/expr.ipynb\"><img src=\"../packages/proveit/__pv_it/6369c6c8083c513ca7161ace249642d040f9327d0/expr.png\" style=\"display:inline;vertical-align:middle;\" /></a></td></tr>\n",
       "<tr><td>6</td><td>Operation</td><td>operator:&nbsp;7<br>operand:&nbsp;8<br></td><td><a class=\"ProveItLink\" href=\"../packages/proveit/__pv_it/050bcffbb388a0b365dac8afc3d37833b4bb47300/expr.ipynb\"><img src=\"../packages/proveit/__pv_it/050bcffbb388a0b365dac8afc3d37833b4bb47300/expr.png\" style=\"display:inline;vertical-align:middle;\" /></a></td></tr>\n",
       "<tr><td>7</td><td>Variable</td><td></td><td><a class=\"ProveItLink\" href=\"../packages/proveit/__pv_it/98124f92e6e1fc3772af50ac63eaa1f5624776f20/expr.ipynb\"><img src=\"../packages/proveit/__pv_it/98124f92e6e1fc3772af50ac63eaa1f5624776f20/expr.png\" style=\"display:inline;vertical-align:middle;\" /></a></td></tr>\n",
       "<tr><td>8</td><td>Variable</td><td></td><td><a class=\"ProveItLink\" href=\"../packages/proveit/__pv_it/530be409e3083890784cf1d7b28c9e67e90af9360/expr.ipynb\"><img src=\"../packages/proveit/__pv_it/530be409e3083890784cf1d7b28c9e67e90af9360/expr.png\" style=\"display:inline;vertical-align:middle;\" /></a></td></tr>\n",
       "</table>\n"
      ],
      "text/plain": [
       "0. forall_{x | Q(x)} P(x)\n",
       "   core type: Operation\n",
       "   operator: 1\n",
       "   operand: 2\n",
       "1. forall\n",
       "   core type: Literal\n",
       "   sub-expressions: \n",
       "2. x -> P(x) | Q(x)\n",
       "   core type: Lambda\n",
       "   parameter: 8\n",
       "   body: 3\n",
       "   conditions: 4\\n3. P(x)\n",
       "   core type: Operation\n",
       "   operator: 5\n",
       "   operand: 8\n",
       "4. (Q(x))\n",
       "   core type: ExprList\n",
       "   sub-expressions: 6\n",
       "5. P\n",
       "   core type: Variable\n",
       "   sub-expressions: \n",
       "6. Q(x)\n",
       "   core type: Operation\n",
       "   operator: 7\n",
       "   operand: 8\n",
       "7. Q\n",
       "   core type: Variable\n",
       "   sub-expressions: \n",
       "8. x\n",
       "   core type: Variable\n",
       "   sub-expressions: "
      ]
     },
     "execution_count": 21,
     "metadata": {},
     "output_type": "execute_result"
    }
   ],
   "source": [
    "noDomainForallExpr.exprInfo()"
   ]
  },
  {
   "cell_type": "code",
   "execution_count": 22,
   "metadata": {},
   "outputs": [
    {
     "data": {
      "text/html": [
       "<span style=\"font-size:20px;\"><a class=\"ProveItLink\" href=\"__pv_it/9a66db7b6809c51a3500072de1f3869c3d3ac6220/expr.ipynb\"><img src=\"__pv_it/9a66db7b6809c51a3500072de1f3869c3d3ac6220/expr.png\" style=\"display:inline;vertical-align:middle;\" /></a> &#x22A2;&nbsp;<a class=\"ProveItLink\" href=\"__pv_it/e16eba53b0be132ecdb115b19c32e9f6e91766930/expr.ipynb\"><img src=\"__pv_it/e16eba53b0be132ecdb115b19c32e9f6e91766930/expr.png\" style=\"display:inline;vertical-align:middle;\" /></a></span>"
      ],
      "text/plain": [
       "{forall_{x | Q(x)} P(x) , Q(f(y))} |= P(f(y))"
      ]
     },
     "execution_count": 22,
     "metadata": {},
     "output_type": "execute_result"
    }
   ],
   "source": [
    "noDomainForallExpr.specialize({x:fy}, assumptions=[noDomainForallExpr, Function(Q, fy)])"
   ]
  },
  {
   "cell_type": "markdown",
   "metadata": {},
   "source": [
    "### Lambda scope restrictions\n",
    "\n",
    "In `tutorial01_core_expr`, we noted scoping restrictions that apply to **Lambda** expressions in the context of *expression substitution*.  That restriction carries over to *specialization* and is very important.  Consider the following example."
   ]
  },
  {
   "cell_type": "code",
   "execution_count": 23,
   "metadata": {},
   "outputs": [
    {
     "data": {
      "text/html": [
       "<strong id=\"forallExistsExpr\">forallExistsExpr:</strong> <a class=\"ProveItLink\" href=\"__pv_it/5385a41e4d26dd6b26883c027350694807c8c9aa0/expr.ipynb\"><img src=\"__pv_it/5385a41e4d26dd6b26883c027350694807c8c9aa0/expr.png\" style=\"display:inline;vertical-align:middle;\" /></a><br>"
      ],
      "text/plain": [
       "forallExistsExpr: forall_{x} [exists_{y} (x != y)]"
      ]
     },
     "execution_count": 23,
     "metadata": {},
     "output_type": "execute_result"
    }
   ],
   "source": [
    "from proveit.logic import NotEquals, Exists\n",
    "from proveit._common_ import Pxy, y, fy\n",
    "forallExistsExpr = Forall(x, Exists(y, NotEquals(x, y)))"
   ]
  },
  {
   "cell_type": "markdown",
   "metadata": {},
   "source": [
    "Note, while `Forall` ($\\forall$) has a special meaning in the **Prove-It** core, `Exists` ($\\exists$) and `Equals` ($\\neq$) do not (they are defined via **axioms** within the `proveit.logic` package which we will explain in a later chapter).  We are using them here to make our point more clear.  Just note that `Exists` is another kind of `OperationOverInstances` that is operates on a **lambda** function:"
   ]
  },
  {
   "cell_type": "code",
   "execution_count": 24,
   "metadata": {},
   "outputs": [
    {
     "data": {
      "text/html": [
       "<table><tr><th>&nbsp;</th><th>core type</th><th>sub-expressions</th><th>expression</th></tr>\n",
       "<tr><td>0</td><td>Operation</td><td>operator:&nbsp;1<br>operand:&nbsp;2<br></td><td><a class=\"ProveItLink\" href=\"__pv_it/c91bd187d105e662a2ac9785afe36fc99798fddf0/expr.ipynb\"><img src=\"__pv_it/c91bd187d105e662a2ac9785afe36fc99798fddf0/expr.png\" style=\"display:inline;vertical-align:middle;\" /></a></td></tr>\n",
       "<tr><td>1</td><td>Literal</td><td></td><td><a class=\"ProveItLink\" href=\"../packages/proveit/logic/boolean/quantification/existential/__pv_it/da19b8f23feda7f65e2e1ac67a7814d51a597b7d0/expr.ipynb\"><img src=\"../packages/proveit/logic/boolean/quantification/existential/__pv_it/da19b8f23feda7f65e2e1ac67a7814d51a597b7d0/expr.png\" style=\"display:inline;vertical-align:middle;\" /></a></td></tr>\n",
       "<tr><td>2</td><td>Lambda</td><td>parameter:&nbsp;7<br>body:&nbsp;3<br></td><td><a class=\"ProveItLink\" href=\"__pv_it/99678345bb5656bb610f512dd78c93f69740ec410/expr.ipynb\"><img src=\"__pv_it/99678345bb5656bb610f512dd78c93f69740ec410/expr.png\" style=\"display:inline;vertical-align:middle;\" /></a></td></tr>\n",
       "<tr><td>3</td><td>Operation</td><td>operator:&nbsp;4<br>operands:&nbsp;5<br></td><td><a class=\"ProveItLink\" href=\"../packages/proveit/__pv_it/4ebbf9cd5f2e78405c64e81897dc9bd29f55abca0/expr.ipynb\"><img src=\"../packages/proveit/__pv_it/4ebbf9cd5f2e78405c64e81897dc9bd29f55abca0/expr.png\" style=\"display:inline;vertical-align:middle;\" /></a></td></tr>\n",
       "<tr><td>4</td><td>Variable</td><td></td><td><a class=\"ProveItLink\" href=\"../packages/proveit/__pv_it/6369c6c8083c513ca7161ace249642d040f9327d0/expr.ipynb\"><img src=\"../packages/proveit/__pv_it/6369c6c8083c513ca7161ace249642d040f9327d0/expr.png\" style=\"display:inline;vertical-align:middle;\" /></a></td></tr>\n",
       "<tr><td>5</td><td>ExprList</td><td>6, 7</td><td><a class=\"ProveItLink\" href=\"__pv_it/49ffa46c24d385ebbd0014895cf61cc7cb8bd9bb0/expr.ipynb\"><img src=\"__pv_it/49ffa46c24d385ebbd0014895cf61cc7cb8bd9bb0/expr.png\" style=\"display:inline;vertical-align:middle;\" /></a></td></tr>\n",
       "<tr><td>6</td><td>Variable</td><td></td><td><a class=\"ProveItLink\" href=\"../packages/proveit/__pv_it/530be409e3083890784cf1d7b28c9e67e90af9360/expr.ipynb\"><img src=\"../packages/proveit/__pv_it/530be409e3083890784cf1d7b28c9e67e90af9360/expr.png\" style=\"display:inline;vertical-align:middle;\" /></a></td></tr>\n",
       "<tr><td>7</td><td>Variable</td><td></td><td><a class=\"ProveItLink\" href=\"../packages/proveit/__pv_it/f8b9edf8e16034727f0aad55bb83e392c3db40d40/expr.ipynb\"><img src=\"../packages/proveit/__pv_it/f8b9edf8e16034727f0aad55bb83e392c3db40d40/expr.png\" style=\"display:inline;vertical-align:middle;\" /></a></td></tr>\n",
       "</table>\n"
      ],
      "text/plain": [
       "0. exists_{y} P(x , y)\n",
       "   core type: Operation\n",
       "   operator: 1\n",
       "   operand: 2\n",
       "1. exists\n",
       "   core type: Literal\n",
       "   sub-expressions: \n",
       "2. y -> P(x , y)\n",
       "   core type: Lambda\n",
       "   parameter: 7\n",
       "   body: 3\n",
       "3. P(x , y)\n",
       "   core type: Operation\n",
       "   operator: 4\n",
       "   operands: 5\n",
       "4. P\n",
       "   core type: Variable\n",
       "   sub-expressions: \n",
       "5. (x , y)\n",
       "   core type: ExprList\n",
       "   sub-expressions: 6, 7\n",
       "6. x\n",
       "   core type: Variable\n",
       "   sub-expressions: \n",
       "7. y\n",
       "   core type: Variable\n",
       "   sub-expressions: "
      ]
     },
     "execution_count": 24,
     "metadata": {},
     "output_type": "execute_result"
    }
   ],
   "source": [
    "Exists(y, Pxy).exprInfo()"
   ]
  },
  {
   "cell_type": "markdown",
   "metadata": {},
   "source": [
    "If we try to specialize $x$ as $y$ in `nestedForall`, this will fail:"
   ]
  },
  {
   "cell_type": "code",
   "execution_count": 25,
   "metadata": {},
   "outputs": [
    {
     "name": "stdout",
     "output_type": "stream",
     "text": [
      "EXPECTED ERROR: Must not make substitution with reserved variables  (i.e., parameters of a Lambda function)\n"
     ]
    }
   ],
   "source": [
    "from proveit import ScopingViolation\n",
    "try:\n",
    "    forallExistsExpr.specialize({x:y}, assumptions={forallExistsExpr})\n",
    "    assert False, \"Expecting an ScopingViolation error; should not make it to this point\"\n",
    "except ScopingViolation as e:\n",
    "    print(\"EXPECTED ERROR:\", e)"
   ]
  },
  {
   "cell_type": "markdown",
   "metadata": {},
   "source": [
    "This should fail.  We cannot derive $\\exists_y y \\neq y$ by assuming $\\forall_{ x } \\left[\\exists_y x \\neq y \\right]$.  The former is a stronger statement.  We chose this example, in fact, because the latter can be argued as typically true but the former is never true using reasonable definitions.  Where this goes wrong is in violating the scope of $\\exists_y$.  It is introducing $y$ as a new **variable** within the sub-expression $\\exists_y x \\neq y$.  This **label** is off limits to $x$ which is quantified outside of this sub-expression.  We can *specialize* $x$ to whatever we want as long as we respect these scoping restrictions.  It is not simply $y$ that is off limits; all **expressions** involving $y$ are off limits:"
   ]
  },
  {
   "cell_type": "code",
   "execution_count": 26,
   "metadata": {},
   "outputs": [
    {
     "name": "stdout",
     "output_type": "stream",
     "text": [
      "EXPECTED ERROR: Must not make substitution with reserved variables  (i.e., parameters of a Lambda function)\n"
     ]
    }
   ],
   "source": [
    "from proveit import ScopingViolation\n",
    "try:\n",
    "    forallExistsExpr.specialize({x:fy}, assumptions={forallExistsExpr})\n",
    "    assert False, \"Expecting an ScopingViolation error; should not make it to this point\"\n",
    "except ScopingViolation as e:\n",
    "    print(\"EXPECTED ERROR:\", e)"
   ]
  },
  {
   "cell_type": "markdown",
   "metadata": {},
   "source": [
    "It should also be noted that within a scope, a **variable** may be reused with a different meaning.  This should generally be avoided as it makes **expressions** unclear, but the functionality should be well-defined in case it ever happens.  If this happens, we treat it as a distinct **variable** from anything outside of the scope (that just happens to have the same name).  It can be confusing and should be avoided, but it is well-defined.  For example,"
   ]
  },
  {
   "cell_type": "code",
   "execution_count": 27,
   "metadata": {},
   "outputs": [
    {
     "data": {
      "text/html": [
       "<strong id=\"redundantInstanceVarExpr\">redundantInstanceVarExpr:</strong> <a class=\"ProveItLink\" href=\"__pv_it/5a94d88ea85e1efd767b80cc81315847ebcfb1d50/expr.ipynb\"><img src=\"__pv_it/5a94d88ea85e1efd767b80cc81315847ebcfb1d50/expr.png\" style=\"display:inline;vertical-align:middle;\" /></a><br>"
      ],
      "text/plain": [
       "redundantInstanceVarExpr: forall_{x} (P(x) and [forall_{x} Q(x)])"
      ]
     },
     "execution_count": 27,
     "metadata": {},
     "output_type": "execute_result"
    }
   ],
   "source": [
    "from proveit.logic import And\n",
    "redundantInstanceVarExpr = Forall(x, And(Px, Forall(x, Qx)))"
   ]
  },
  {
   "cell_type": "code",
   "execution_count": 28,
   "metadata": {},
   "outputs": [
    {
     "data": {
      "text/html": [
       "<span style=\"font-size:20px;\"><a class=\"ProveItLink\" href=\"__pv_it/16e810f7f86c7c6190927b4fdf7d7cdbd02b8e260/expr.ipynb\"><img src=\"__pv_it/16e810f7f86c7c6190927b4fdf7d7cdbd02b8e260/expr.png\" style=\"display:inline;vertical-align:middle;\" /></a> &#x22A2;&nbsp;<a class=\"ProveItLink\" href=\"__pv_it/26d51d99df9f26dc929d10a047c477e374bd9a870/expr.ipynb\"><img src=\"__pv_it/26d51d99df9f26dc929d10a047c477e374bd9a870/expr.png\" style=\"display:inline;vertical-align:middle;\" /></a></span>"
      ],
      "text/plain": [
       "{forall_{x} (P(x) and [forall_{x} Q(x)])} |= P(f(y)) and [forall_{x} Q(x)]"
      ]
     },
     "execution_count": 28,
     "metadata": {},
     "output_type": "execute_result"
    }
   ],
   "source": [
    "# specializing the outer x does not and should not change the inner x which is treated as a distinct Variable\n",
    "redundantInstanceVarExpr.specialize({x:fy}, assumptions={redundantInstanceVarExpr})"
   ]
  },
  {
   "cell_type": "markdown",
   "metadata": {},
   "source": [
    "### Operand, operator, or operation specialization\n",
    "\n",
    "*Specializing* different parts of an **operation** works essentially the same way as it does with *expression substition*.\n",
    "\n",
    "We will use the `substitution` axiom of `proveit.logic.equality` for demonstrations in this section out of convenience.  **Axioms** and the `proveit.logic` package will be discussed in more detail later.  For now, we note that **axioms** (and **theorems**) are taken to be true statements without proof as you can see below."
   ]
  },
  {
   "cell_type": "code",
   "execution_count": 29,
   "metadata": {},
   "outputs": [
    {
     "data": {
      "text/html": [
       "<span style=\"font-size:20px;\"> &#x22A2;&nbsp;<a class=\"ProveItLink\" href=\"../packages/proveit/logic/equality/__pv_it/6ec2193ff7f2a0001aea3e112ec0ee2dddc5beb10/expr.ipynb\"><img src=\"../packages/proveit/logic/equality/__pv_it/6ec2193ff7f2a0001aea3e112ec0ee2dddc5beb10/expr.png\" style=\"display:inline;vertical-align:middle;\" /></a></span>"
      ],
      "text/plain": [
       "|= forall_{f, x, y | x = y} (f(x) = f(y))"
      ]
     },
     "execution_count": 29,
     "metadata": {},
     "output_type": "execute_result"
    }
   ],
   "source": [
    "from proveit.logic.equality._axioms_ import substitution\n",
    "substitution"
   ]
  },
  {
   "cell_type": "code",
   "execution_count": 30,
   "metadata": {},
   "outputs": [
    {
     "data": {
      "text/html": [
       "<table><tr><th>&nbsp;</th><th>step type</th><th>requirements</th><th>statement</th></tr>\n",
       "<tr><td>0</td><td>axiom</td><td></td><td><span style=\"font-size:20px;\"> &#x22A2;&nbsp;<a class=\"ProveItLink\" href=\"../packages/proveit/logic/equality/__pv_it/6ec2193ff7f2a0001aea3e112ec0ee2dddc5beb10/expr.ipynb\"><img src=\"../packages/proveit/logic/equality/__pv_it/6ec2193ff7f2a0001aea3e112ec0ee2dddc5beb10/expr.png\" style=\"display:inline;vertical-align:middle;\" /></a></span></td></tr>\n",
       "<tr><td>&nbsp;</td><td colspan=4 style-\"text-align:left\"><a class=\"ProveItLink\" href=\"../packages/proveit/logic/equality/_axioms_.ipynb#substitution\">proveit.logic.equality.substitution</a></td></tr></table>"
      ],
      "text/plain": [
       "\tstep type\trequirements\tstatement\n",
       "0\taxiom\t\t|= forall_{f, x, y | x = y} (f(x) = f(y))\n",
       "\tproveit.logic.equality.substitution"
      ]
     },
     "execution_count": 30,
     "metadata": {},
     "output_type": "execute_result"
    }
   ],
   "source": [
    "substitution.proof()\n"
   ]
  },
  {
   "cell_type": "markdown",
   "metadata": {},
   "source": [
    "Let's grab the $x=y$ condition for use below."
   ]
  },
  {
   "cell_type": "code",
   "execution_count": 31,
   "metadata": {},
   "outputs": [
    {
     "ename": "IndexError",
     "evalue": "list index out of range",
     "output_type": "error",
     "traceback": [
      "\u001b[0;31m---------------------------------------------------------------------------\u001b[0m",
      "\u001b[0;31mIndexError\u001b[0m                                Traceback (most recent call last)",
      "\u001b[0;32m<ipython-input-31-ac7ef6dcc4ee>\u001b[0m in \u001b[0;36m<module>\u001b[0;34m\u001b[0m\n\u001b[0;32m----> 1\u001b[0;31m \u001b[0mx_eq_y\u001b[0m \u001b[0;34m=\u001b[0m \u001b[0msubstitution\u001b[0m\u001b[0;34m.\u001b[0m\u001b[0mconditions\u001b[0m\u001b[0;34m[\u001b[0m\u001b[0;36m0\u001b[0m\u001b[0;34m]\u001b[0m\u001b[0;34m\u001b[0m\u001b[0;34m\u001b[0m\u001b[0m\n\u001b[0m\u001b[1;32m      2\u001b[0m \u001b[0mproveit\u001b[0m\u001b[0;34m.\u001b[0m\u001b[0mmagics\u001b[0m\u001b[0;34m.\u001b[0m\u001b[0mAssignments\u001b[0m\u001b[0;34m(\u001b[0m\u001b[0;34m[\u001b[0m\u001b[0;34m'x_eq_y'\u001b[0m\u001b[0;34m]\u001b[0m\u001b[0;34m,\u001b[0m \u001b[0;34m[\u001b[0m\u001b[0mx_eq_y\u001b[0m\u001b[0;34m]\u001b[0m\u001b[0;34m)\u001b[0m\u001b[0;34m\u001b[0m\u001b[0;34m\u001b[0m\u001b[0m\n",
      "\u001b[0;32m~/ProveIt/Prove-It/packages/proveit/_core_/expression/composite/expr_list.py\u001b[0m in \u001b[0;36m__getitem__\u001b[0;34m(self, i)\u001b[0m\n\u001b[1;32m     85\u001b[0m         \u001b[0mvia\u001b[0m \u001b[0miterations\u001b[0m \u001b[0;34m(\u001b[0m\u001b[0mIter\u001b[0m\u001b[0;34m)\u001b[0m\u001b[0;34m.\u001b[0m\u001b[0;34m\u001b[0m\u001b[0;34m\u001b[0m\u001b[0m\n\u001b[1;32m     86\u001b[0m         '''\n\u001b[0;32m---> 87\u001b[0;31m         \u001b[0;32mreturn\u001b[0m \u001b[0mself\u001b[0m\u001b[0;34m.\u001b[0m\u001b[0mentries\u001b[0m\u001b[0;34m[\u001b[0m\u001b[0mi\u001b[0m\u001b[0;34m]\u001b[0m\u001b[0;34m\u001b[0m\u001b[0;34m\u001b[0m\u001b[0m\n\u001b[0m\u001b[1;32m     88\u001b[0m \u001b[0;34m\u001b[0m\u001b[0m\n\u001b[1;32m     89\u001b[0m     \u001b[0;32mdef\u001b[0m \u001b[0mgetElem\u001b[0m\u001b[0;34m(\u001b[0m\u001b[0mself\u001b[0m\u001b[0;34m,\u001b[0m \u001b[0mindex\u001b[0m\u001b[0;34m,\u001b[0m \u001b[0mbase\u001b[0m\u001b[0;34m=\u001b[0m\u001b[0;36m1\u001b[0m\u001b[0;34m,\u001b[0m \u001b[0massumptions\u001b[0m\u001b[0;34m=\u001b[0m\u001b[0mUSE_DEFAULTS\u001b[0m\u001b[0;34m,\u001b[0m \u001b[0mrequirements\u001b[0m\u001b[0;34m=\u001b[0m\u001b[0;32mNone\u001b[0m\u001b[0;34m)\u001b[0m\u001b[0;34m:\u001b[0m\u001b[0;34m\u001b[0m\u001b[0;34m\u001b[0m\u001b[0m\n",
      "\u001b[0;31mIndexError\u001b[0m: list index out of range"
     ]
    }
   ],
   "source": [
    "x_eq_y = substitution.conditions[0]"
   ]
  },
  {
   "cell_type": "markdown",
   "metadata": {},
   "source": [
    "Operator and operand *specialization* are straightforward:"
   ]
  },
  {
   "cell_type": "code",
   "execution_count": 32,
   "metadata": {},
   "outputs": [
    {
     "data": {
      "text/html": [
       "<strong id=\"operatorSubstitution\">operatorSubstitution:</strong> <span style=\"font-size:20px;\"> &#x22A2;&nbsp;<a class=\"ProveItLink\" href=\"__pv_it/4e77880421ab00090db64434c64e718abd28fb6e0/expr.ipynb\"><img src=\"__pv_it/4e77880421ab00090db64434c64e718abd28fb6e0/expr.png\" style=\"display:inline;vertical-align:middle;\" /></a></span><br>"
      ],
      "text/plain": [
       "operatorSubstitution: |= forall_{x, y | x = y} (g(x) = g(y))"
      ]
     },
     "execution_count": 32,
     "metadata": {},
     "output_type": "execute_result"
    }
   ],
   "source": [
    "from proveit._common_ import f, g, x, y\n",
    "from proveit.logic import Equals\n",
    "x_eq_y = Equals(x, y)\n",
    "operatorSubstitution = substitution.specialize({f:g}, assumptions=[x_eq_y])"
   ]
  },
  {
   "cell_type": "code",
   "execution_count": 33,
   "metadata": {},
   "outputs": [
    {
     "data": {
      "text/html": [
       "<table><tr><th>&nbsp;</th><th>step type</th><th>requirements</th><th>statement</th></tr>\n",
       "<tr><td>0</td><td>specialization</td><td>1</td><td><span style=\"font-size:20px;\"> &#x22A2;&nbsp;<a class=\"ProveItLink\" href=\"__pv_it/4e77880421ab00090db64434c64e718abd28fb6e0/expr.ipynb\"><img src=\"__pv_it/4e77880421ab00090db64434c64e718abd28fb6e0/expr.png\" style=\"display:inline;vertical-align:middle;\" /></a></span></td></tr>\n",
       "<tr><td>&nbsp;</td><td colspan=4 style=\"text-align:left\"><span style=\"font-size:20px;\"><a class=\"ProveItLink\" href=\"__pv_it/ed721174d97fc06cf541d00b9fac07a680b63ce90/expr.ipynb\"><img src=\"__pv_it/ed721174d97fc06cf541d00b9fac07a680b63ce90/expr.png\" style=\"display:inline;vertical-align:middle;\" /></a></span></td></tr><tr><td>1</td><td>axiom</td><td></td><td><span style=\"font-size:20px;\"> &#x22A2;&nbsp;<a class=\"ProveItLink\" href=\"../packages/proveit/logic/equality/__pv_it/6ec2193ff7f2a0001aea3e112ec0ee2dddc5beb10/expr.ipynb\"><img src=\"../packages/proveit/logic/equality/__pv_it/6ec2193ff7f2a0001aea3e112ec0ee2dddc5beb10/expr.png\" style=\"display:inline;vertical-align:middle;\" /></a></span></td></tr>\n",
       "<tr><td>&nbsp;</td><td colspan=4 style-\"text-align:left\"><a class=\"ProveItLink\" href=\"../packages/proveit/logic/equality/_axioms_.ipynb#substitution\">proveit.logic.equality.substitution</a></td></tr></table>"
      ],
      "text/plain": [
       "\tstep type\trequirements\tstatement\n",
       "0\tspecialization\t1\t|= forall_{x, y | x = y} (g(x) = g(y))\n",
       "\tf -> g\n",
       "1\taxiom\t\t|= forall_{f, x, y | x = y} (f(x) = f(y))\n",
       "\tproveit.logic.equality.substitution"
      ]
     },
     "execution_count": 33,
     "metadata": {},
     "output_type": "execute_result"
    }
   ],
   "source": [
    "operatorSubstitution.proof()"
   ]
  },
  {
   "cell_type": "markdown",
   "metadata": {},
   "source": [
    "Note that $x$ and $y$ mapped to themselves by default.  When a mapping is not specified, the default is to map the **variable** to itself."
   ]
  },
  {
   "cell_type": "code",
   "execution_count": 34,
   "metadata": {},
   "outputs": [
    {
     "data": {
      "text/html": [
       "<strong id=\"operandSubstitution\">operandSubstitution:</strong> <span style=\"font-size:20px;\"><a class=\"ProveItLink\" href=\"__pv_it/8d8a3084855486e794f4b554588278ace1f481070/expr.ipynb\"><img src=\"__pv_it/8d8a3084855486e794f4b554588278ace1f481070/expr.png\" style=\"display:inline;vertical-align:middle;\" /></a> &#x22A2;&nbsp;<a class=\"ProveItLink\" href=\"__pv_it/a89a86e29c59ae3a015546dc7d1a6b5ee9e564870/expr.ipynb\"><img src=\"__pv_it/a89a86e29c59ae3a015546dc7d1a6b5ee9e564870/expr.png\" style=\"display:inline;vertical-align:middle;\" /></a></span><br>"
      ],
      "text/plain": [
       "operandSubstitution: {a = b} |= f(a) = f(b)"
      ]
     },
     "execution_count": 34,
     "metadata": {},
     "output_type": "execute_result"
    }
   ],
   "source": [
    "from proveit._common_ import a, b\n",
    "from proveit.logic import Equals\n",
    "a_eq_b = Equals(a, b)\n",
    "operandSubstitution = substitution.specialize({x:a, y:b}, assumptions=[a_eq_b])"
   ]
  },
  {
   "cell_type": "code",
   "execution_count": 35,
   "metadata": {},
   "outputs": [
    {
     "data": {
      "text/html": [
       "<table><tr><th>&nbsp;</th><th>step type</th><th>requirements</th><th>statement</th></tr>\n",
       "<tr><td>0</td><td>specialization</td><td>1, 2</td><td><span style=\"font-size:20px;\"><a class=\"ProveItLink\" href=\"__pv_it/8d8a3084855486e794f4b554588278ace1f481070/expr.ipynb\"><img src=\"__pv_it/8d8a3084855486e794f4b554588278ace1f481070/expr.png\" style=\"display:inline;vertical-align:middle;\" /></a> &#x22A2;&nbsp;<a class=\"ProveItLink\" href=\"__pv_it/a89a86e29c59ae3a015546dc7d1a6b5ee9e564870/expr.ipynb\"><img src=\"__pv_it/a89a86e29c59ae3a015546dc7d1a6b5ee9e564870/expr.png\" style=\"display:inline;vertical-align:middle;\" /></a></span></td></tr>\n",
       "<tr><td>&nbsp;</td><td colspan=4 style=\"text-align:left\"><span style=\"font-size:20px;\"><a class=\"ProveItLink\" href=\"__pv_it/feedebbb42251a5f70c1bf9cbbcac3001574518f0/expr.ipynb\"><img src=\"__pv_it/feedebbb42251a5f70c1bf9cbbcac3001574518f0/expr.png\" style=\"display:inline;vertical-align:middle;\" /></a>, <a class=\"ProveItLink\" href=\"__pv_it/8d6a9d7bda11b3b076ffa338da28ff7913d93fec0/expr.ipynb\"><img src=\"__pv_it/8d6a9d7bda11b3b076ffa338da28ff7913d93fec0/expr.png\" style=\"display:inline;vertical-align:middle;\" /></a>, <a class=\"ProveItLink\" href=\"__pv_it/ac3f5b71fc3446ca5f61b92ec1a9e89f3cbcd8e20/expr.ipynb\"><img src=\"__pv_it/ac3f5b71fc3446ca5f61b92ec1a9e89f3cbcd8e20/expr.png\" style=\"display:inline;vertical-align:middle;\" /></a></span></td></tr><tr><td>1</td><td>axiom</td><td></td><td><span style=\"font-size:20px;\"> &#x22A2;&nbsp;<a class=\"ProveItLink\" href=\"../packages/proveit/logic/equality/__pv_it/6ec2193ff7f2a0001aea3e112ec0ee2dddc5beb10/expr.ipynb\"><img src=\"../packages/proveit/logic/equality/__pv_it/6ec2193ff7f2a0001aea3e112ec0ee2dddc5beb10/expr.png\" style=\"display:inline;vertical-align:middle;\" /></a></span></td></tr>\n",
       "<tr><td>&nbsp;</td><td colspan=4 style-\"text-align:left\"><a class=\"ProveItLink\" href=\"../packages/proveit/logic/equality/_axioms_.ipynb#substitution\">proveit.logic.equality.substitution</a></td></tr><tr><td>2</td><td>assumption</td><td></td><td><span style=\"font-size:20px;\"><a class=\"ProveItLink\" href=\"__pv_it/8d8a3084855486e794f4b554588278ace1f481070/expr.ipynb\"><img src=\"__pv_it/8d8a3084855486e794f4b554588278ace1f481070/expr.png\" style=\"display:inline;vertical-align:middle;\" /></a> &#x22A2;&nbsp;<a class=\"ProveItLink\" href=\"__pv_it/8fb8e18e6a4a7fe5a24ad35251804ca6599d89310/expr.ipynb\"><img src=\"__pv_it/8fb8e18e6a4a7fe5a24ad35251804ca6599d89310/expr.png\" style=\"display:inline;vertical-align:middle;\" /></a></span></td></tr>\n",
       "</table>"
      ],
      "text/plain": [
       "\tstep type\trequirements\tstatement\n",
       "0\tspecialization\t1, 2\t{a = b} |= f(a) = f(b)\n",
       "\t{f -> f}, {x -> a}, {y -> b}\n",
       "1\taxiom\t\t|= forall_{f, x, y | x = y} (f(x) = f(y))\n",
       "\tproveit.logic.equality.substitution\n",
       "2\tassumption\t\t{a = b} |= a = b"
      ]
     },
     "execution_count": 35,
     "metadata": {},
     "output_type": "execute_result"
    }
   ],
   "source": [
    "operandSubstitution.proof()"
   ]
  },
  {
   "cell_type": "markdown",
   "metadata": {},
   "source": [
    "Operation substitution can be done explicitly via a **lambda** expression just as we saw with *expression substitution*.  The **lambda** expression is not literally substituted in; rather, the function that it represents is applied as the operation."
   ]
  },
  {
   "cell_type": "code",
   "execution_count": null,
   "metadata": {},
   "outputs": [],
   "source": [
    "from proveit import Lambda\n",
    "from proveit.number import Add\n",
    "operationSubstitution = substitution.specialize({f:Lambda(x, Add(x, a))}, assumptions=[x_eq_y])"
   ]
  },
  {
   "cell_type": "code",
   "execution_count": null,
   "metadata": {},
   "outputs": [],
   "source": [
    "operationSubstitution.proof()"
   ]
  },
  {
   "cell_type": "markdown",
   "metadata": {},
   "source": [
    "An alternative way to specify an operation substitution is to map the operation applied to a **variable** onto an **expression** that uses this same **variable**.  In this example, mapping $f(x)$ to $x + a$.  This will be internally translated to the same **lambda** expression as before: $x \\mapsto x + a$."
   ]
  },
  {
   "cell_type": "code",
   "execution_count": null,
   "metadata": {},
   "outputs": [],
   "source": [
    "from proveit._common_ import fx\n",
    "operationSubstitution2 = substitution.specialize({fx:Add(x, a)}, assumptions=[x_eq_y])"
   ]
  },
  {
   "cell_type": "markdown",
   "metadata": {},
   "source": [
    "The proof is exactly the same as before."
   ]
  },
  {
   "cell_type": "code",
   "execution_count": null,
   "metadata": {},
   "outputs": [],
   "source": [
    "operationSubstitution2.proof()"
   ]
  },
  {
   "cell_type": "markdown",
   "metadata": {},
   "source": [
    "### Specializing multiple levels simultaneously\n",
    "\n",
    "When `Forall` operations are nested, the universal quantifications may be specialized separately.  For example:"
   ]
  },
  {
   "cell_type": "code",
   "execution_count": null,
   "metadata": {},
   "outputs": [],
   "source": [
    "from proveit._common_ import z, Pxyz\n",
    "from proveit.number import Less\n",
    "nestedForall = Forall(x, Forall(y, Forall(z, Pxyz, conditions=[Less(z, Add(x, y))])))"
   ]
  },
  {
   "cell_type": "code",
   "execution_count": null,
   "metadata": {},
   "outputs": [],
   "source": [
    "nestedForallSpec1 = nestedForall.specialize(assumptions=[nestedForall])"
   ]
  },
  {
   "cell_type": "code",
   "execution_count": null,
   "metadata": {},
   "outputs": [],
   "source": [
    "nestedForallSpec2 = nestedForallSpec1.specialize()"
   ]
  },
  {
   "cell_type": "code",
   "execution_count": null,
   "metadata": {},
   "outputs": [],
   "source": [
    "nestedForallSpec3 = nestedForallSpec2.specialize(assumptions=[nestedForallSpec2.conditions[0]])"
   ]
  },
  {
   "cell_type": "code",
   "execution_count": null,
   "metadata": {},
   "outputs": [],
   "source": [
    "nestedForallSpec3.proof()"
   ]
  },
  {
   "cell_type": "markdown",
   "metadata": {},
   "source": [
    "But for the sake of convenience and efficiency, **Prove-It** also allows nested `Forall` operations to be specialized simultaneously:"
   ]
  },
  {
   "cell_type": "code",
   "execution_count": null,
   "metadata": {},
   "outputs": [],
   "source": [
    "assumptions = ExprList(nestedForall, nestedForallSpec2.conditions[0])\n",
    "nestedForallSimultaneousSpec = nestedForall.specialize({z:z}, assumptions=assumptions)"
   ]
  },
  {
   "cell_type": "markdown",
   "metadata": {},
   "source": [
    "We just need to include an explicit mapping for an inner quantified **variable**.  So we indicated above that we want to map $z$ to $z$ even though this is typically the default in order to force it to specialize all three `Forall` operations simultaneously.  The proof is shorter, doing a single all-in-one *specialization*:"
   ]
  },
  {
   "cell_type": "code",
   "execution_count": null,
   "metadata": {},
   "outputs": [],
   "source": [
    "\n",
    "nestedForallSimultaneousSpec.proof()"
   ]
  },
  {
   "cell_type": "markdown",
   "metadata": {},
   "source": [
    "In the mapping that is indicated below step 0, enumerated set notation (with curly braces) is used to separate the mappings at different levels.  In this way, there can be no ambiguity.  Simultaneous *specialization* can be done for any number of nested levels."
   ]
  },
  {
   "cell_type": "markdown",
   "metadata": {},
   "source": [
    "### Specializing and relabeling simultaneously\n",
    "\n",
    "It is also possible to *relabeling* and *specialization* (over any number of nested levels) in one step.  For example: "
   ]
  },
  {
   "cell_type": "code",
   "execution_count": null,
   "metadata": {},
   "outputs": [],
   "source": [
    "nestedForallSpecAndRelab = nestedForall.specialize(specializeMap={y:y}, relabelMap={z:a}, assumptions=[nestedForall])"
   ]
  },
  {
   "cell_type": "markdown",
   "metadata": {},
   "source": [
    "The `relabelMap` is specified separately from the `specializeMap` to be unambiguous."
   ]
  },
  {
   "cell_type": "code",
   "execution_count": null,
   "metadata": {},
   "outputs": [],
   "source": [
    "nestedForallSpecAndRelab.proof()"
   ]
  },
  {
   "cell_type": "markdown",
   "metadata": {},
   "source": [
    "The *relabeling* map is always shown after the last comma in the mapping under the *specialization* step.  When any *specialization* occurs, the \"step type\" is labeled \"specialization\".  If there is only *relabeling*, the \"step type\" will indicate \"relabeling\". "
   ]
  },
  {
   "cell_type": "markdown",
   "metadata": {},
   "source": [
    "You are not allowed to specify that the same **variable** is to be *specialized* and *relabeled*."
   ]
  },
  {
   "cell_type": "code",
   "execution_count": null,
   "metadata": {},
   "outputs": [],
   "source": [
    "assumptions"
   ]
  },
  {
   "cell_type": "code",
   "execution_count": null,
   "metadata": {},
   "outputs": [],
   "source": [
    "nestedForall"
   ]
  },
  {
   "cell_type": "code",
   "execution_count": null,
   "metadata": {},
   "outputs": [],
   "source": [
    "try:\n",
    "    nestedForall.specialize({y:z}, {y:a}, assumptions=[nestedForall])\n",
    "    assert False, \"Expecting an SpecializationFailure error; should not make it to this point\"\n",
    "except SpecializationFailure as e:\n",
    "    print(\"EXPECTED ERROR:\", e)"
   ]
  },
  {
   "cell_type": "markdown",
   "metadata": {},
   "source": [
    "As noted in the previous tutorial chapter, relabeling has another important limitation.  You cannot relabel something using assumptions that involve any of the relabeling variables.  For example, we cannot relabel $P$ to $R$ in `nestedForall` while assuming `nestedForall`.  "
   ]
  },
  {
   "cell_type": "code",
   "execution_count": null,
   "metadata": {},
   "outputs": [],
   "source": [
    "from proveit import RelabelingFailure\n",
    "try:\n",
    "    nestedForall.specialize({y:y}, {P:R}, assumptions=[nestedForall])\n",
    "    assert False, \"Expecting an RelabelingFailure error; should not make it to this point\"\n",
    "except RelabelingFailure as e:\n",
    "    print(\"EXPECTED ERROR:\", e)"
   ]
  },
  {
   "cell_type": "markdown",
   "metadata": {},
   "source": [
    "### Universal quantification over multiple variables\n",
    "\n",
    "Rather than nesting `Forall` operations, you can quantify over multiple instance variables for a more succinct expression."
   ]
  },
  {
   "cell_type": "code",
   "execution_count": null,
   "metadata": {},
   "outputs": [],
   "source": [
    "\n",
    "multiVarForall = Forall((x, y), Pxy, domain=S)"
   ]
  },
  {
   "cell_type": "code",
   "execution_count": null,
   "metadata": {},
   "outputs": [],
   "source": [
    "assumptions = [multiVarForall, InSet(x, S), InSet(y, S)]\n",
    "multiVarForallSpec = multiVarForall.specialize(assumptions=assumptions)"
   ]
  },
  {
   "cell_type": "code",
   "execution_count": null,
   "metadata": {},
   "outputs": [],
   "source": [
    "multiVarForallSpec.proof()"
   ]
  },
  {
   "cell_type": "markdown",
   "metadata": {},
   "source": [
    "If you attempt to use the same **variable** multiple times in the list of instance variables, you will get an error."
   ]
  },
  {
   "cell_type": "code",
   "execution_count": null,
   "metadata": {},
   "outputs": [],
   "source": [
    "try:\n",
    "    Forall((x, x), Px)\n",
    "except ValueError as e:\n",
    "    print('EXPECTED ERROR:', e)"
   ]
  },
  {
   "cell_type": "markdown",
   "metadata": {},
   "source": [
    "You can also specify different domains for each of the **variables** as a list (or `ExprList`) by setting `domains` rather than `domain`.  The notation will use indicate a cartesian product set."
   ]
  },
  {
   "cell_type": "code",
   "execution_count": null,
   "metadata": {},
   "outputs": [],
   "source": [
    "multiDomainForall = Forall((x, y), Pxy, domains=[S, R])"
   ]
  },
  {
   "cell_type": "markdown",
   "metadata": {},
   "source": [
    "However, internally it simply splits off a condition for each *instance variable*."
   ]
  },
  {
   "cell_type": "code",
   "execution_count": null,
   "metadata": {},
   "outputs": [],
   "source": [
    "multiDomainForall.exprInfo()"
   ]
  },
  {
   "cell_type": "code",
   "execution_count": null,
   "metadata": {},
   "outputs": [],
   "source": [
    "assumptions = [multiDomainForall, InSet(x, S), InSet(y, R)]\n",
    "multiDomainForallSpec = multiDomainForall.specialize(assumptions=assumptions)"
   ]
  },
  {
   "cell_type": "code",
   "execution_count": null,
   "metadata": {},
   "outputs": [],
   "source": [
    "multiDomainForallSpec.proof()"
   ]
  },
  {
   "cell_type": "markdown",
   "metadata": {},
   "source": [
    "Universal quantification over an unspecified number of **variables** via **iterations** will be discussed in the chapter on <a href=\"tutorial11_advanced_proofs.ipynb\">proofs using advanced expressions</a>."
   ]
  },
  {
   "cell_type": "markdown",
   "metadata": {},
   "source": [
    "Generalization\n",
    "========\n",
    "\n",
    "*Generalization* is the \"inverse\" of *specialization* just as *hypothetical reasoning* was the \"inverse\" of *modus ponens*.  We can write these derivation rules in a manner that makes this relationship clear (just as we did for *hypothetical reasoning* and *modus ponens*):\n",
    "\n",
    "Specialization: \n",
    "$\\begin{array}{c}\n",
    "\\boldsymbol{\\vdash} \\forall_{x \\in S~|~Q(x)} P(x) \\\\\n",
    "\\hline\n",
    "\\left \\{\\clubsuit \\in S,~Q(\\clubsuit) \\right \\} \\boldsymbol{\\vdash} P(\\clubsuit)\n",
    "\\end{array}$\n",
    "\n",
    "Generalization: \n",
    "$\\begin{array}{c}\n",
    "\\left \\{ x \\in S,~Q(x) \\right \\} \\boldsymbol{\\vdash} P(x) \\\\\n",
    "\\hline\n",
    "\\boldsymbol{\\vdash} \\forall_{x \\in S~|~Q(x)} P(x)\n",
    "\\end{array}$\n",
    "\n",
    "$P(x)$ and $Q(x)$ are intended to represent any function of $x$.\n",
    "There is some asymmetry between *specialization* and *generalization*.  $\\clubsuit$ here is meant to represent *any* **expression**, not necessarily a **variable**, as long is it does not violate scoping restrictions (e.g., having a free **variable** that is the same as a **lambda** *parameter* within the $P$ or $Q$ functions).  However, *generalization* only applies to an unbound **variable**.  In Prove-It, an unbound **variable** is regarded as an \"arbitrary\" variable.  Essentially, it is implicitly universally quantified.  Recall that *modus ponens* converts an explicit antecedent to an implicit assumption and *hypothetical reasoning* does the opposite.  Similarly, *specialization* converts an explicit universal quantification to implicit arbitrary variables and *generalization* does the opposite.  The reason for having the explicit and implicit forms is much the same as it was for the antecedent versus assumption.  The explicit form allows nesting but the implicit form provides direct access to the instance expression.  Furthermore, explicit universal quantification offers the power of being able to *specialize* an instance variable to an arbitrary **expression**.\n",
    "\n",
    "The above derivation rules are expressed for a single **variable**.  Such rules apply more generally to any number of **variables** (including an unspecified number of **variables** via **iterations** discussed in in the chapter on <a href=\"tutorial11_advanced_proofs.ipynb\">proofs using advanced expressions</a>).\n",
    "\n",
    "Our following examples will start from one of the derived *specialization* instances above.  Specifically:"
   ]
  },
  {
   "cell_type": "code",
   "execution_count": null,
   "metadata": {},
   "outputs": [],
   "source": [
    "operationSubstitution"
   ]
  },
  {
   "cell_type": "markdown",
   "metadata": {},
   "source": [
    "First, we try to *generalize* this **known truth** for all instances of $a$, $x$, and $y$ without any conditions or domain restrictions:"
   ]
  },
  {
   "cell_type": "code",
   "execution_count": null,
   "metadata": {},
   "outputs": [],
   "source": [
    "from proveit import GeneralizationFailure\n",
    "try:\n",
    "    operationSubstitution.generalize((a, x, y))\n",
    "    assert False, \"Expecting an GeneralizationFailure error; should not make it to this point\"\n",
    "except GeneralizationFailure as e:\n",
    "    print('EXPECTED ERROR:', e)"
   ]
  },
  {
   "cell_type": "markdown",
   "metadata": {},
   "source": [
    "This fails because the assumptions of the original **known truth** involve the same **variables** that we are trying to *generalize* over.  That is not allowed because universal quantification introduces a new scope for $x$ and $y$ (as well as $a$) and the $x=y$ assumption would be external to this scope.  If, however, this assumption is introduced as a condition of the new universal quantification, then we no longer need to retain it as assumptions.  That assumptions will be absorbed into the universal quantification conditions."
   ]
  },
  {
   "cell_type": "code",
   "execution_count": null,
   "metadata": {},
   "outputs": [],
   "source": [
    "operationSubstitution.generalize((a, x, y), conditions=[x_eq_y])"
   ]
  },
  {
   "cell_type": "markdown",
   "metadata": {},
   "source": [
    "Adding additional restrictions, such as a domain and/or extra conditions, only makes the statement weaker and is therefore allowed:"
   ]
  },
  {
   "cell_type": "code",
   "execution_count": null,
   "metadata": {},
   "outputs": [],
   "source": [
    "operationSubstitution.generalize((a, x, y), conditions=[x_eq_y], domain=S)"
   ]
  },
  {
   "cell_type": "code",
   "execution_count": null,
   "metadata": {
    "scrolled": true
   },
   "outputs": [],
   "source": [
    "operationSubstitution.generalize((a, x, y), conditions=[x_eq_y, Qx], domain=S)"
   ]
  },
  {
   "cell_type": "markdown",
   "metadata": {},
   "source": [
    "It is also possible to create multiple levels of nested `Forall` operations in one step with possibly different domains.  Simply provide a list of lists of **Variable**s as the first argument to `generalize` and a corresponding list of `domains`.  The conditions are applied at the outermost level possible (as soon as all of the relevant variables have been introduced) but otherwise retaining the order that the `conditions` were supplied."
   ]
  },
  {
   "cell_type": "code",
   "execution_count": null,
   "metadata": {
    "scrolled": false
   },
   "outputs": [],
   "source": [
    "Qa = Function(Q, a)\n",
    "nestedGenExample = operationSubstitution.generalize([[a], [x, y]], domainLists=[[P], [R, S]], conditions=[x_eq_y, Qx, Qa])"
   ]
  },
  {
   "cell_type": "markdown",
   "metadata": {},
   "source": [
    "Note that the $Q(a)$ condition was moved to the front even though it was the last supplied condition because it can be applied before the others.  The *generalization* with multiple leves of nested `Forall` operations takes one step in the proof:"
   ]
  },
  {
   "cell_type": "code",
   "execution_count": null,
   "metadata": {
    "scrolled": true
   },
   "outputs": [],
   "source": [
    "nestedGenExample.proof()"
   ]
  },
  {
   "cell_type": "markdown",
   "metadata": {},
   "source": [
    "For any level in which multiple instance variables are introduced, a domain can be supplied for each new variable (as above) or one may be specified as the same domain for each of them:"
   ]
  },
  {
   "cell_type": "code",
   "execution_count": null,
   "metadata": {},
   "outputs": [],
   "source": [
    "operationSubstitution.generalize([[a], [x, y]], domainLists=[[P], [R]], conditions=[x_eq_y, Qx, Qa])"
   ]
  },
  {
   "cell_type": "markdown",
   "metadata": {},
   "source": [
    "When *generalizing* over a single **variable**, the first argument may be just that **variable** rather than a list or tuple:"
   ]
  },
  {
   "cell_type": "code",
   "execution_count": null,
   "metadata": {},
   "outputs": [],
   "source": [
    "operationSubstitution.generalize(a, conditions=[Qa])"
   ]
  },
  {
   "cell_type": "markdown",
   "metadata": {},
   "source": [
    "We may only *generalize* over **variables** (or **iterations** of **variables**) however:"
   ]
  },
  {
   "cell_type": "code",
   "execution_count": null,
   "metadata": {
    "scrolled": true
   },
   "outputs": [],
   "source": [
    "try:\n",
    "    operationSubstitution.generalize(Qx, conditions=[Qa])\n",
    "    assert False, \"Expecting an ValueError error; should not make it to this point\"    \n",
    "except ValueError as e:\n",
    "    print('EXPECTED ERROR:', e)"
   ]
  },
  {
   "cell_type": "code",
   "execution_count": null,
   "metadata": {
    "scrolled": true
   },
   "outputs": [],
   "source": [
    "try:\n",
    "    operationSubstitution.generalize([[a], [Qx]], conditions=[Qa])\n",
    "    assert False, \"Expecting an ValueError error; should not make it to this point\"\n",
    "except ValueError as e:\n",
    "    print('EXPECTED ERROR:', e)"
   ]
  },
  {
   "cell_type": "code",
   "execution_count": null,
   "metadata": {},
   "outputs": [],
   "source": [
    "%end universal_quantification"
   ]
  },
  {
   "cell_type": "markdown",
   "metadata": {},
   "source": [
    "*Generalizing* an unspecified number of **variables** via an **iteration** will be discussed in the chapter on <a href=\"tutorial11_advanced_proofs.ipynb\">proofs using advanced expressions</a>."
   ]
  },
  {
   "cell_type": "markdown",
   "metadata": {
    "collapsed": true
   },
   "source": [
    "# Next chapter: <a href=\"tutorial06_theorem_proving.ipynb\">Theorem Proving</a>\n",
    "\n",
    "## <a href=\"tutorial00_introduction.ipynb#contents\">Table of Contents</a>"
   ]
  }
 ],
 "metadata": {
  "kernelspec": {
   "display_name": "Python 3",
   "language": "python",
   "name": "python3"
  },
  "language_info": {
   "codemirror_mode": {
    "name": "ipython",
    "version": 3
   },
   "file_extension": ".py",
   "mimetype": "text/x-python",
   "name": "python",
   "nbconvert_exporter": "python",
   "pygments_lexer": "ipython3",
   "version": "3.7.3"
  }
 },
 "nbformat": 4,
 "nbformat_minor": 1
}
