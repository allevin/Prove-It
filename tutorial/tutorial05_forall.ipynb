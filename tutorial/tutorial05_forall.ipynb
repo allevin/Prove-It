{
 "cells": [
  {
   "cell_type": "markdown",
   "metadata": {},
   "source": [
    "Chapter 5. Universal Quantification (Forall)\n",
    "==================\n",
    "\n",
    "Universal quantification is another core concept in **Prove-It**.  A `Forall` operation, formatted with the $\\forall$ symbol, is used to represent universal quantification.  For example, $\\forall_x P(x)$ means that $P(x)$ is true for any instance of $x$.  $P(x)$ holds true universally over instances of $x$.  Like `Implies`, `Forall` is a core concept but is defined outside of the core in the `proveit.logic` package. It is known in the core for use in the *specialization* and *generalization* derivation steps discussed below.\n",
    "\n",
    "First, let us import some necessary information then consider an example of a `Forall` object like $\\forall_{x \\,\\in\\, S \\,|\\, Q(x), R(x)} P(x)$:"
   ]
  },
  {
   "cell_type": "code",
   "execution_count": 1,
   "metadata": {},
   "outputs": [],
   "source": [
    "from proveit import Function, ExprTuple, Lambda\n",
    "from proveit.logic import Forall\n",
    "from proveit.number import Less, Add\n",
    "from proveit._common_ import a, b, x, y, z, P, Px, Pxy, Q, Qx, R, Rx, Ry, S, T\n",
    "%begin universal_quantification"
   ]
  },
  {
   "cell_type": "code",
   "execution_count": 2,
   "metadata": {},
   "outputs": [
    {
     "data": {
      "text/html": [
       "<strong id=\"basicForallExpr\">basicForallExpr:</strong> <a class=\"ProveItLink\" href=\"__pv_it/2e0510d8a2c6ac8754072c25d302dfbfdfd144ab0/expr.ipynb\"><img src=\"data:image/png;base64,iVBORw0KGgoAAAANSUhEUgAAAL8AAAAXBAMAAACoi4O2AAAAMFBMVEX///8QEBC6urrMzMxUVFRm\n",
       "ZmZERETc3NwyMjKqqqp2dnaIiIiYmJgiIiLu7u4AAAAU9Wx4AAAAAXRSTlMAQObYZgAAAvNJREFU\n",
       "SMe1VV1IFFEU/tbZndmf2dmBHiQr2Yd+Hnpwo6QIQlHRhwinUIMkWHtYIR/cB0lIgqUegogY6Aei\n",
       "IHsITUEW+oFQcuklKMJ9rpcVooeiXEjtB9HOvXPvzjiBRqwHZu65354537nnnHsW2GopbYXT/WJ9\n",
       "RU+RKW+r4TXWudh2ooNpSrOAQingMVNuVCXuRA7oy5ISrqSFkAu0aOmqEDSNAg/owXQFeuOwheyq\n",
       "EMwmgTmLlPoKNA/oY8PDl6pT2kF6OinWmlwFUmm7nMm83/xjLcUXeyPsJ2Ass9JSmrTJjnu9QJQO\n",
       "1Ar0r/PVODHDv0w62y9nuqhwF53NUWe5s9Q94Meg/AaOsQyFC8BnvCvsAiJ0mN0wcl7/NRYauOJU\n",
       "XrkCrVZuEHVYdRNhy4chtjjxaIwpAQJGMYub5MwE4ogVhG/jWXeB9lA9BAco/B5E8sLCiSWYRrDo\n",
       "w6CuynZNsvvbzsMrE3EhLtv2+b5vJSyUoLsExk56zUHNCpNW/o7nEbB8GBJFDwGwQxIYuUOkTbY8\n",
       "TekW/7hOHJkTxExOEBAmosUXUujyY2iyBEGAlV37DsNJEfpbKI+l9oAddk58cs12CeLs1p/FEWFC\n",
       "FWPSMP0w6cf4NXByRSl/HSvjJRWLpe82Ha0G1912GDJdggRLdB3zwU2YV5JxxHJ+DIMy09SbkRXV\n",
       "1PJOmyLAi/WDeiyTyeSNJIyyh4CiidTjljARzs4jUvZhRs/acdmHRRgDUxMzrGPZqXTGrJgKPrJf\n",
       "IzaUtEugWiP2fBJ7hQlXgF8ImX7MI7XeUSEKFM1FEWRtEUrLluEE2rb83cvAV2FC00u7CmUVavGg\n",
       "B/OJC0xK5dOL3ikY5xhBY/dpTxdh6FpbKQXqZG6CU1BWML6UVT7kPZhPKuN6/RWmklAN3J2c4Xuo\n",
       "WjHbHfC6/IPxYL7BJf9wgtmN5pskaOorwRAbdnsPy/A8mE9GxPoE/0IQ3k6v+yIkeuRg8WL/Jc3e\n",
       "je6M5qnNsL/kDzvlwW8VdFq5AAAAAElFTkSuQmCC\n",
       "\" style=\"display:inline;vertical-align:middle;\" /></a><br>"
      ],
      "text/plain": [
       "basicForallExpr: forall_{x in S | Q(x) , R(x)} P(x)"
      ]
     },
     "execution_count": 2,
     "metadata": {},
     "output_type": "execute_result"
    }
   ],
   "source": [
    "basicForallExpr = Forall(x, Px, conditions=[Qx, Rx], domain=S)"
   ]
  },
  {
   "cell_type": "markdown",
   "metadata": {},
   "source": [
    "The meaning of this `Forall` **Expression** is that $P(x)$ is a true statement for all instances of $x$ for which $x \\in S$ and both $Q(x)$ and $R(x)$ are true.\n",
    "\n",
    "We can use the `exprInfo()` method to examine the internal structure of the expression:"
   ]
  },
  {
   "cell_type": "code",
   "execution_count": 3,
   "metadata": {},
   "outputs": [
    {
     "data": {
      "text/html": [
       "<table><tr><th>&nbsp;</th><th>core type</th><th>sub-expressions</th><th>expression</th></tr>\n",
       "<tr><td>0</td><td>Operation</td><td>operator:&nbsp;1<br>operand:&nbsp;2<br></td><td><a class=\"ProveItLink\" href=\"__pv_it/2e0510d8a2c6ac8754072c25d302dfbfdfd144ab0/expr.ipynb\"><img src=\"data:image/png;base64,iVBORw0KGgoAAAANSUhEUgAAAL8AAAAXBAMAAACoi4O2AAAAMFBMVEX///8QEBC6urrMzMxUVFRm\n",
       "ZmZERETc3NwyMjKqqqp2dnaIiIiYmJgiIiLu7u4AAAAU9Wx4AAAAAXRSTlMAQObYZgAAAvNJREFU\n",
       "SMe1VV1IFFEU/tbZndmf2dmBHiQr2Yd+Hnpwo6QIQlHRhwinUIMkWHtYIR/cB0lIgqUegogY6Aei\n",
       "IHsITUEW+oFQcuklKMJ9rpcVooeiXEjtB9HOvXPvzjiBRqwHZu65354537nnnHsW2GopbYXT/WJ9\n",
       "RU+RKW+r4TXWudh2ooNpSrOAQingMVNuVCXuRA7oy5ISrqSFkAu0aOmqEDSNAg/owXQFeuOwheyq\n",
       "EMwmgTmLlPoKNA/oY8PDl6pT2kF6OinWmlwFUmm7nMm83/xjLcUXeyPsJ2Ass9JSmrTJjnu9QJQO\n",
       "1Ar0r/PVODHDv0w62y9nuqhwF53NUWe5s9Q94Meg/AaOsQyFC8BnvCvsAiJ0mN0wcl7/NRYauOJU\n",
       "XrkCrVZuEHVYdRNhy4chtjjxaIwpAQJGMYub5MwE4ogVhG/jWXeB9lA9BAco/B5E8sLCiSWYRrDo\n",
       "w6CuynZNsvvbzsMrE3EhLtv2+b5vJSyUoLsExk56zUHNCpNW/o7nEbB8GBJFDwGwQxIYuUOkTbY8\n",
       "TekW/7hOHJkTxExOEBAmosUXUujyY2iyBEGAlV37DsNJEfpbKI+l9oAddk58cs12CeLs1p/FEWFC\n",
       "FWPSMP0w6cf4NXByRSl/HSvjJRWLpe82Ha0G1912GDJdggRLdB3zwU2YV5JxxHJ+DIMy09SbkRXV\n",
       "1PJOmyLAi/WDeiyTyeSNJIyyh4CiidTjljARzs4jUvZhRs/acdmHRRgDUxMzrGPZqXTGrJgKPrJf\n",
       "IzaUtEugWiP2fBJ7hQlXgF8ImX7MI7XeUSEKFM1FEWRtEUrLluEE2rb83cvAV2FC00u7CmUVavGg\n",
       "B/OJC0xK5dOL3ikY5xhBY/dpTxdh6FpbKQXqZG6CU1BWML6UVT7kPZhPKuN6/RWmklAN3J2c4Xuo\n",
       "WjHbHfC6/IPxYL7BJf9wgtmN5pskaOorwRAbdnsPy/A8mE9GxPoE/0IQ3k6v+yIkeuRg8WL/Jc3e\n",
       "je6M5qnNsL/kDzvlwW8VdFq5AAAAAElFTkSuQmCC\n",
       "\" style=\"display:inline;vertical-align:middle;\" /></a></td></tr>\n",
       "<tr><td>1</td><td>Literal</td><td></td><td><a class=\"ProveItLink\" href=\"../packages/proveit/logic/boolean/quantification/universal/__pv_it/265f8c02ac1094d56e0e6410a1c1fd3500dc9f540/expr.ipynb\"><img src=\"data:image/png;base64,iVBORw0KGgoAAAANSUhEUgAAAAwAAAAQBAMAAADQT4M0AAAAMFBMVEX///8QEBC6urrMzMxUVFRm\n",
       "ZmZERETc3NwyMjKqqqp2dnaIiIiYmJgiIiLu7u4AAAAU9Wx4AAAAAXRSTlMAQObYZgAAAFhJREFU\n",
       "CNdjeMAABhdAxGmGlSCqj6EMSLInMHAAJVknMPAsLy+vBYp8S0u7BaScGRjSgZQKA18DkOJl4D4A\n",
       "pLgP8IJM4mswARuX7gSmpoKNZWDcAKZ4gCoAgTQTILaSE58AAAAASUVORK5CYII=\n",
       "\" style=\"display:inline;vertical-align:middle;\" /></a></td></tr>\n",
       "<tr><td>2</td><td>Lambda</td><td>parameter:&nbsp;13<br>body:&nbsp;3<br>conditions:&nbsp;4<br></td><td><a class=\"ProveItLink\" href=\"__pv_it/f8b3cf989c69eb7cf2287e941538dc85a8161cae0/expr.ipynb\"><img src=\"data:image/png;base64,iVBORw0KGgoAAAANSUhEUgAAARgAAAAVCAMAAACquQHUAAAANlBMVEX///+6uroUFBQNDQ0yMjJE\n",
       "RETMzMwQEBAiIiKYmJju7u5mZmaqqqpUVFSIiIh2dnbc3NwAAACltDI1AAAAAXRSTlMAQObYZgAA\n",
       "Az5JREFUWMPlmNtipCAMhmGX85n3f9miAkJArK07N8vFdDoa8vkTkiBCHxomoP9vYAd+kHi4x+OP\n",
       "Ikj8GdtzOBujTUPYGgLMDndp9o4w0mqtFSQNXntv28cZEUaChp4S99z2dkSy/6G8KEPUeBN5RRgi\n",
       "04eiEUxFdnArTr8TBHJBT7dPxckPbNeDRX8kjfwXOTdbav+CMDZ76jgVofkbr0s9QxgIMv1xq434\n",
       "se3dXspTyqgz3yRg0pI8FEY5ItJoNQjxCGnWoRNRIz4WzzOEgSDTH3OSyB7b3owS2DaaI3XN446a\n",
       "R8IwIgdAnD2wdsvr+kTIl1WfI0CCnABy4JRoW9gG72wwTrvpBjNmnmJUzBGtfU2J7TxeL4SBLlGg\n",
       "k3ULMTo2/EbPKbNwFWFNcNDvghhRPV/bqnRFCol4CVEBNrqapRgmdJsg0TCPIdfCDC4RDfO4T6O/\n",
       "pKNsYpd1CDcEOVKc09yB/D619TtB+s7mwigbeljrfSqX9UeenxjMg/m1MINLRecbLEjLY5cERDz/\n",
       "i7xHuCE46NVeN85AvLbd7rQt2N8/ohs84i7FgKAvV8E8LC4iBrrEvDgbV9k3MdKI0ZTFgnBD0KSY\n",
       "aCH+hW0bWzBikO3SZoSXW9maeVbCDC4nLWKK7KxiL8zpntRQahAWBKciYRRmbnvURTUXRod+k8KU\n",
       "xg2or+p2Kw0ulZiUTF3ubAFIPAOGjQgrgp1eHp2GR/e2MuybC7m5MH0TUbuYJjrzgoJ55CL5Di6R\n",
       "leOpM0+gLWokNMl/cKlYMY4hwhWBgl2M3ro8dWNrkojbzgtVgF4JBbsYWFdzVYTzLMr16DKFzNDm\n",
       "6KOkuqOFr1vIi62AeNMWq8PXFcFpW3owl4QJ8sZWUeeV905+o7dTmqYzGGihsciFpZ+H4EthZi4D\n",
       "gSc3i/B23MvVlNcNhS3xTmwbgPUIVwTFtqHXpB4E1ra/Gjy8cSRAxpJpVSoP0HmhSRTJlggNAQ4P\n",
       "8X90JPjeicu7l9/H9BFNddfLzxAaAvkU37tXXhJNzu3qndcOl8LY1BLjJUJLIB/iK/KKLiiMXYgN\n",
       "LwsDlpBxLtcIDYF7im/feg0boGs3vgJz//bVJkRw7Je2X+3uKTyWObr7AAAAAElFTkSuQmCC\n",
       "\" style=\"display:inline;vertical-align:middle;\" /></a></td></tr>\n",
       "<tr><td>3</td><td>Operation</td><td>operator:&nbsp;5<br>operand:&nbsp;13<br></td><td><a class=\"ProveItLink\" href=\"../packages/proveit/__pv_it/8c735c381b4cbf3c87e86ca2468da4e5c976f9b00/expr.ipynb\"><img src=\"data:image/png;base64,iVBORw0KGgoAAAANSUhEUgAAAC4AAAAVBAMAAADLKsFqAAAAMFBMVEX////u7u5mZmaYmJi6urqq\n",
       "qqp2dnbMzMwQEBBEREQyMjLc3NwiIiJUVFSIiIgAAAAeC3ydAAAAAXRSTlMAQObYZgAAAQlJREFU\n",
       "GNNjYCACsDyA0MwOIPLt/7t3z24AsWphCtTB5C8GBs5uEGMhTJwLRLB/Y2BgBWIGvgcwceYEEPcL\n",
       "kPEJyOAQgIkzNgAJzg8MDLxfgQwvhAumAjH/AgYG+QlAhhoQb3u79RHQuCQgsz6Bgf0QSNFioAEJ\n",
       "zIc5DjAwRAG576+lqYGd2cLAwMbA94G1gIHBA8idD7MOaD8jAy/IRIZ6IP7DgBAHOuoBVJz9E0y8\n",
       "FUTsL2AQAJvD9wUmPhnojw3vGfiA4lZA53+EiQMdF28wg2EfmCk0/y/M+z4MDJLPxPIMgMwlyMHM\n",
       "sQElHBhQQgsM2B6gxAs8nKVQ42svjHEbVZwbqp2vgAEAALg9cr1t3EsAAAAASUVORK5CYII=\n",
       "\" style=\"display:inline;vertical-align:middle;\" /></a></td></tr>\n",
       "<tr><td>4</td><td>ExprTuple</td><td>6, 7, 8</td><td><a class=\"ProveItLink\" href=\"__pv_it/00c5a15a1de83ba2c3d61ad9684c56221b29f7230/expr.ipynb\"><img src=\"data:image/png;base64,iVBORw0KGgoAAAANSUhEUgAAALMAAAAVBAMAAAD/f8IzAAAAMFBMVEX////c3NwiIiJERESqqqqY\n",
       "mJh2dnZmZmYQEBDu7u4yMjJUVFTMzMyIiIi6uroAAAAs73DqAAAAAXRSTlMAQObYZgAAAsRJREFU\n",
       "OMu1VU1oE0EUfkt2k2yzGwNaLxISAh4qiPEg9CIJeBOl0YNH3VOLQrB40INI0uLBIq1BsQZBGgpR\n",
       "PBQjRRRLIXeVLoIWaSXVY4sYlUqhqfHN29m/TGz1YOHtvu73zTfzvnkzAfiPf1Hz77lf+Pvsjigx\n",
       "XnVXUZ5fubtipdLQ4DwlWo2DobpLXGrPzc4IKDEed5eugprh6YU6RPpY0lOy0YqH+QOgXBFQDL27\n",
       "HxED4LiV3k/j4ybLPjrwGZepbSH7l4BihEtexQfTqQOUJLCgN9a3afYoMNqYwyu7Q/QWLrgloBir\n",
       "XmWtak/0NQvw2nKODYOL6HvUtSGQddMiwEJNQDEuY7p3ac8i+bLbKSGxZe9UIk3SyA6hSVL+6clr\n",
       "AMFhR2dXDeSDIKAYVQDVUPaHk4x22C2z3eb/FHLsmcGZejCbhNO5UQDZXeLC/OI47bEfxZjACUBv\n",
       "ymyRatr1pvfFhlXCIXptYITRFAMacAKrLzrERgkG6iKKgXurQsTSjI6mUnwbmQe0XBIF+ScrHQeX\n",
       "YJY2pelI95MnAorB2gbCpv9IgIIxZUl/p2rH+GCA8Q7pTdyOmohiXOetxspWkzb/HvsYo/QJe1gl\n",
       "s7aQWlilxxBtHeCcIaIYR3CJsQbo5OgzewA7LVeB5htYiS9rE9RTWMYpvQkfcAjbRtVu64KpCijG\n",
       "EA7O9UOcFG/zWwMumaCnQWVmBPuM4DEqAPtJXg8UJZM33xQrMoDFN8xeAcX4DHDn/WTe8lV6xLu5\n",
       "tjaH5ai3mOTaw7dZYN+jSVCPnh98x7xnayh/Q+cymyaEZkwBxQjHvMdRful2CBOzwEBdoSlHOg76\n",
       "J9+1M9J50BVjm/tZ4Qd3eLXjUsrTM+cj+9H8ny9Vr3SkTS3qXptqpYu0DyXGvm2k+YWr3eBbYfd9\n",
       "hIzS/WQfSgzpH37A4vy9vCOK8RugXtaoLvLlPwAAAABJRU5ErkJggg==\n",
       "\" style=\"display:inline;vertical-align:middle;\" /></a></td></tr>\n",
       "<tr><td>5</td><td>Variable</td><td></td><td><a class=\"ProveItLink\" href=\"../packages/proveit/__pv_it/6369c6c8083c513ca7161ace249642d040f9327d0/expr.ipynb\"><img src=\"data:image/png;base64,iVBORw0KGgoAAAANSUhEUgAAABAAAAAOBAMAAADUAYG5AAAAMFBMVEX////u7u5mZmaYmJi6urqq\n",
       "qqp2dnbMzMwQEBBEREQyMjLc3NwiIiJUVFSIiIgAAAAeC3ydAAAAAXRSTlMAQObYZgAAAGBJREFU\n",
       "CNdjYGB4+//u3bMbGIDgFwMDZzeQZv/GwMAKxAx8XxgYmD8BGZwfGBh4vwIZ/AsYGOQnABn1CQzs\n",
       "h0Ca3l9LUwPrni/AAAF/oDT7JygDZAwYcH6E0ELz/z4A0QBnpRnRyxnfJQAAAABJRU5ErkJggg==\n",
       "\" style=\"display:inline;vertical-align:middle;\" /></a></td></tr>\n",
       "<tr><td>6</td><td>Operation</td><td>operator:&nbsp;9<br>operands:&nbsp;10<br></td><td><a class=\"ProveItLink\" href=\"__pv_it/1a5edcc057c65f4f25007410b60206f5c08ed0560/expr.ipynb\"><img src=\"data:image/png;base64,iVBORw0KGgoAAAANSUhEUgAAADMAAAAPBAMAAAC7N+rPAAAAMFBMVEX///+6uroyMjJERETMzMwQ\n",
       "EBAiIiKYmJju7u5mZmaqqqpUVFSIiIh2dnbc3NwAAAAWgogoAAAAAXRSTlMAQObYZgAAAM1JREFU\n",
       "GNNjYMAG2HfObBfAKsOgzsBhj12G+wIDwyIUkR61tCQw470DA4MPsgyLegOUJb+AgcEFSL89/erk\n",
       "AZDAY5gMw/s/DiCK4wJ7OmsCiGUH18/z/z+Iw8vA84ELpIjDAGH2861fgUZwMHBDxBjD0tKgzgCC\n",
       "+wUgkvUAxBUb4B4G4v4CqFNBDuBIgEl1ggQfAJU8OM/AA3bbdpgUyLezgXh9gSnDG7BIGyzUph1g\n",
       "4AHZ33y29w7YXAY+TQeI1Abp3eZoQce1CeFCIAAAnqEy768c/WoAAAAASUVORK5CYII=\n",
       "\" style=\"display:inline;vertical-align:middle;\" /></a></td></tr>\n",
       "<tr><td>7</td><td>Operation</td><td>operator:&nbsp;11<br>operand:&nbsp;13<br></td><td><a class=\"ProveItLink\" href=\"../packages/proveit/__pv_it/050bcffbb388a0b365dac8afc3d37833b4bb47300/expr.ipynb\"><img src=\"data:image/png;base64,iVBORw0KGgoAAAANSUhEUgAAAC0AAAAVBAMAAAAgHXppAAAAMFBMVEX///+YmJiqqqq6uroQEBBE\n",
       "RETu7u4iIiLMzMwyMjKIiIhUVFRmZmZ2dnbc3NwAAADS0us6AAAAAXRSTlMAQObYZgAAASNJREFU\n",
       "GNNjYCACWEFpYTDJd+fuLjCDYwNUnKcBRN5sYOAuAzE4E2AaJwBxZgCQ8AbxVsENlAXi6SDGeZBS\n",
       "N7h4CtCsHyDGfQMGBuYJcHFWBYb3AWBxBaCKC0A33NqndYqBgfcAw3kBkHg80AWcQFYug7iAOwMD\n",
       "0wSGerAjvgAxC9CsCwzrGTSARjqARRiY/gIJfqB4AsNWsE8+MHwHu9wNKs7A4AUVnw+i9UEeZFEA\n",
       "ef4HAxvYHH2DVys4nMGOA9orx/WBYRkDA+MEBt6yC7yqD0DiQMcxfWR14FsAZjJYz12uwAAyh7mA\n",
       "gS3q2t2FIPvAVrE2MIID0A85HEDiByzhoQUBt8Ak9//PDCjhzAYJKQ4XAUgEweKF+wFqPL6C0isY\n",
       "GABRcT+tFx/ALwAAAABJRU5ErkJggg==\n",
       "\" style=\"display:inline;vertical-align:middle;\" /></a></td></tr>\n",
       "<tr><td>8</td><td>Operation</td><td>operator:&nbsp;12<br>operand:&nbsp;13<br></td><td><a class=\"ProveItLink\" href=\"../packages/proveit/__pv_it/d01cfc83d8b4aad8e81bd51bd1f9adb62576a1e70/expr.ipynb\"><img src=\"data:image/png;base64,iVBORw0KGgoAAAANSUhEUgAAAC0AAAAVBAMAAAAgHXppAAAAMFBMVEX///92dnaYmJjc3NxmZmYi\n",
       "IiKqqqq6urrMzMwQEBDu7u4yMjJERERUVFSIiIgAAAArjcN0AAAAAXRSTlMAQObYZgAAARhJREFU\n",
       "GNONkbFKA0EQhj+9cImXTTxbixARsVR8APUJ1CcQSyvNE4hvkIDYWIQTbNLdE6S30YBtlENSiKAX\n",
       "0pjCqDPr3eF2Luw/sz8z//zMwj/OWRbXLb59Pw77mlQGGV86t+ETerHEapQ3xrbsC2ofkrwXgisK\n",
       "9amUyuWq4HsKpgNtkS7HBW+OBBYH+Ic6LQSv8XCyB3O78m4/jbpaVG3CNWvNS/C1NY04VWMLLQhJ\n",
       "ORZJkebWSgkIHzG0FscCM9jJeejmfGUCG6HqqAlvSvCro/b3E3kYmbtaH/MK8zLXSE+abFlz/sR0\n",
       "vMSmN/ezhFJfHuUDgrvlpWe13Pq75gt3D+627Gk4fLHnIHZ4L/+X2qb7j9tZfIEfFLhE91nD3UMA\n",
       "AAAASUVORK5CYII=\n",
       "\" style=\"display:inline;vertical-align:middle;\" /></a></td></tr>\n",
       "<tr><td>9</td><td>Literal</td><td></td><td><a class=\"ProveItLink\" href=\"../packages/proveit/logic/set_theory/membership/__pv_it/088cbc857536a28d4119ad9639a84270ccb0545d0/expr.ipynb\"><img src=\"data:image/png;base64,iVBORw0KGgoAAAANSUhEUgAAAAwAAAAMBAMAAACkW0HUAAAALVBMVEX///+qqqpmZmZUVFQQEBC6\n",
       "urpERETc3NyYmJjMzMwiIiIyMjKIiIju7u4AAACYsrA9AAAAAXRSTlMAQObYZgAAADxJREFUCNdj\n",
       "YOA9vWrVBgaG2b0MQMCeCyIZ2ArA1DUwyRCyahVIyWQI7xaEYm4AU7xLIdxqTQgtvGvVBgCkcQ7e\n",
       "geM/tQAAAABJRU5ErkJggg==\n",
       "\" style=\"display:inline;vertical-align:middle;\" /></a></td></tr>\n",
       "<tr><td>10</td><td>ExprTuple</td><td>13, 14</td><td><a class=\"ProveItLink\" href=\"__pv_it/75ea65b79fca5a7e0a4b0a55cd46edaf622a0d8e0/expr.ipynb\"><img src=\"data:image/png;base64,iVBORw0KGgoAAAANSUhEUgAAAC8AAAAVBAMAAAAk6KpUAAAAMFBMVEX////c3NwiIiJERESqqqqY\n",
       "mJh2dnZmZmYQEBDu7u4yMjJUVFTMzMyIiIi6uroAAAAs73DqAAAAAXRSTlMAQObYZgAAARhJREFU\n",
       "KM9jYMAJ+C5gisWBiNOoYqzby6c+YD8AZK1ElVjKwGnPwLCAgYEX1STuBAYGLwaGMAYGjgkoEvJA\n",
       "Q84yMMxgYHiFatJ7BwaGMwwMzA4MZUCe2G2R61AT5f+C7GVgKwBaxsCZwKrKoQCR4P3/3xBIsSxg\n",
       "6ANKM/B+YDkANUt0xw+grXwNDP+AOhi4DZCsyQ9gYOD5AJIAOg3mZlYgng+RaIE6EuLq6SCOANgo\n",
       "U6AygfsMvBPAUkC/MVSDdC5gSGdg8A+wYJBl4PwEFCi6wMBrAHHuIwaGydem5QYwcPYDjdjwercp\n",
       "yEiuBwwcAvDwF0C4DBgkrAkMSC6CgVzkYEeS4AQGO4M0jIcU/twgUxmxRO0dBgYA4X0+BGW7KnUA\n",
       "AAAASUVORK5CYII=\n",
       "\" style=\"display:inline;vertical-align:middle;\" /></a></td></tr>\n",
       "<tr><td>11</td><td>Variable</td><td></td><td><a class=\"ProveItLink\" href=\"../packages/proveit/__pv_it/98124f92e6e1fc3772af50ac63eaa1f5624776f20/expr.ipynb\"><img src=\"data:image/png;base64,iVBORw0KGgoAAAANSUhEUgAAAA8AAAASBAMAAAB2sJk8AAAAMFBMVEX///+YmJiqqqq6uroQEBBE\n",
       "RETu7u4iIiLMzMwyMjKIiIhUVFRmZmZ2dnbc3NwAAADS0us6AAAAAXRSTlMAQObYZgAAAHxJREFU\n",
       "CNdjYGDgu3N3FwMI3Gxg4C4D0pkBQMIbiKeDRM8nMPD8ADHuGzC8DwAzFBjOC4AY8Q0M9Qkgxhcw\n",
       "YmBg+svA8B3E4HRjYJgPYug3ALHBqxUczkAOb9kFXtUHIGHrucsVGBrAtrI2MEIZByzBNAP3/88Q\n",
       "BocL0BoActoerD1tNT4AAAAASUVORK5CYII=\n",
       "\" style=\"display:inline;vertical-align:middle;\" /></a></td></tr>\n",
       "<tr><td>12</td><td>Variable</td><td></td><td><a class=\"ProveItLink\" href=\"../packages/proveit/__pv_it/e24df48bc297bbcf3538a62f5b4f635a392abfce0/expr.ipynb\"><img src=\"data:image/png;base64,iVBORw0KGgoAAAANSUhEUgAAABAAAAAOBAMAAADUAYG5AAAAMFBMVEX///92dnaYmJjc3NxmZmYi\n",
       "IiKqqqq6urrMzMwQEBDu7u4yMjJERERUVFSIiIgAAAArjcN0AAAAAXRSTlMAQObYZgAAAG1JREFU\n",
       "CNdjYGB4+//unX0MIPCHgWHlBiDN8Y+Bgfc7kMH3g4GBG4gZeCYwMPRfADL4LzCwxYHU9t97Mg+s\n",
       "6f0ChvwGEOMkWBYI/jIw2IMYHJ8YGPQFoMb4P+ACGvMBqP6BEcOS838fMLDsewAAOpQikqrQNfgA\n",
       "AAAASUVORK5CYII=\n",
       "\" style=\"display:inline;vertical-align:middle;\" /></a></td></tr>\n",
       "<tr><td>13</td><td>Variable</td><td></td><td><a class=\"ProveItLink\" href=\"../packages/proveit/__pv_it/530be409e3083890784cf1d7b28c9e67e90af9360/expr.ipynb\"><img src=\"data:image/png;base64,iVBORw0KGgoAAAANSUhEUgAAAAsAAAAJBAMAAAAWSsseAAAAKlBMVEX///9ERETMzMwQEBAiIiKY\n",
       "mJju7u5mZmaqqqpUVFSIiIh2dnbc3NwAAAA/vyDhAAAAAXRSTlMAQObYZgAAAENJREFUCNdjYDi9\n",
       "8sTyBQxsG1hdmR0YuBm4LnAoMLAxcAowgADzAjB1VoEhgYH1wFoGrgSG3gBhhlMMDImrs3cFMAAA\n",
       "t0YN+iTRa+sAAAAASUVORK5CYII=\n",
       "\" style=\"display:inline;vertical-align:middle;\" /></a></td></tr>\n",
       "<tr><td>14</td><td>Variable</td><td></td><td><a class=\"ProveItLink\" href=\"../packages/proveit/__pv_it/abeee18594afe51bfb1be95d9591fbba24ac53f30/expr.ipynb\"><img src=\"data:image/png;base64,iVBORw0KGgoAAAANSUhEUgAAAA0AAAAOBAMAAAAGUYvhAAAAMFBMVEX///8iIiIQEBCIiIjMzMzc\n",
       "3Nyqqqp2dnZEREQyMjK6urru7u5mZmZUVFSYmJgAAACI6eGPAAAAAXRSTlMAQObYZgAAAF1JREFU\n",
       "CNdjYGDgu3Nm3wIGBoZ5DNz9QIq3gIEhE0jHOzAwOAPp9QkMDC4g/megABAw///fCmbEXfq0Acxg\n",
       "qH8ANAVI7wfSe0BKAyBGnAXigwYMzA1A+sLau31ACgAz0hhbkhGHbwAAAABJRU5ErkJggg==\n",
       "\" style=\"display:inline;vertical-align:middle;\" /></a></td></tr>\n",
       "</table>\n"
      ],
      "text/plain": [
       "0. forall_{x in S | Q(x) , R(x)} P(x)\n",
       "   core type: Operation\n",
       "   operator: 1\n",
       "   operand: 2\n",
       "1. forall\n",
       "   core type: Literal\n",
       "   sub-expressions: \n",
       "2. x -> P(x) | x in S , Q(x) , R(x)\n",
       "   core type: Lambda\n",
       "   parameter: 13\n",
       "   body: 3\n",
       "   conditions: 4\\n3. P(x)\n",
       "   core type: Operation\n",
       "   operator: 5\n",
       "   operand: 13\n",
       "4. (x in S , Q(x) , R(x))\n",
       "   core type: ExprTuple\n",
       "   sub-expressions: 6, 7, 8\n",
       "5. P\n",
       "   core type: Variable\n",
       "   sub-expressions: \n",
       "6. x in S\n",
       "   core type: Operation\n",
       "   operator: 9\n",
       "   operands: 10\n",
       "7. Q(x)\n",
       "   core type: Operation\n",
       "   operator: 11\n",
       "   operand: 13\n",
       "8. R(x)\n",
       "   core type: Operation\n",
       "   operator: 12\n",
       "   operand: 13\n",
       "9. in\n",
       "   core type: Literal\n",
       "   sub-expressions: \n",
       "10. (x , S)\n",
       "    core type: ExprTuple\n",
       "    sub-expressions: 13, 14\n",
       "11. Q\n",
       "    core type: Variable\n",
       "    sub-expressions: \n",
       "12. R\n",
       "    core type: Variable\n",
       "    sub-expressions: \n",
       "13. x\n",
       "    core type: Variable\n",
       "    sub-expressions: \n",
       "14. S\n",
       "    core type: Variable\n",
       "    sub-expressions: "
      ]
     },
     "execution_count": 3,
     "metadata": {},
     "output_type": "execute_result"
    }
   ],
   "source": [
    "basicForallExpr.exprInfo()"
   ]
  },
  {
   "cell_type": "markdown",
   "metadata": {},
   "source": [
    "`Forall` derives from `OperationOverInstances` (`proveit._core_.expression.operation.operation_over_instances.OperationOverInstances` aliased as `proveit.OperationOverInstances`) which generally defines an operation that acts on a **lambda** map with optional conditions.  The idea is like a \"functional\" (a function of a function).  It operates over the range of instances for the **lambda** parameters for which the condition is satisfied.  Other examples of **expression** types that derive from `OperationOverInstances` are $\\exists$, $\\sum$, and $\\prod$.  \n",
    "\n",
    "In our example above, we see that the domain $S$ is internally represented via the first condition of the conditional **lambda** (see Line 2 of the `exprInfo()` output).  In the external representation, it is displayed more compactly along with the introduction of $x$ before the vertical line that precedes the other conditions.  This is a matter of presentation style that is independent of how **Prove-It** treats this expression.  As far as **Prove-It** is concerned, $x \\in S$ is simply a condition no different from $Q(x)$ and $R(x)$.\n",
    "\n",
    "We can view a formatted version of the original object like this:"
   ]
  },
  {
   "cell_type": "code",
   "execution_count": 4,
   "metadata": {},
   "outputs": [
    {
     "data": {
      "text/html": [
       "<a class=\"ProveItLink\" href=\"__pv_it/2e0510d8a2c6ac8754072c25d302dfbfdfd144ab0/expr.ipynb\"><img src=\"data:image/png;base64,iVBORw0KGgoAAAANSUhEUgAAAL8AAAAXBAMAAACoi4O2AAAAMFBMVEX///8QEBC6urrMzMxUVFRm\n",
       "ZmZERETc3NwyMjKqqqp2dnaIiIiYmJgiIiLu7u4AAAAU9Wx4AAAAAXRSTlMAQObYZgAAAvNJREFU\n",
       "SMe1VV1IFFEU/tbZndmf2dmBHiQr2Yd+Hnpwo6QIQlHRhwinUIMkWHtYIR/cB0lIgqUegogY6Aei\n",
       "IHsITUEW+oFQcuklKMJ9rpcVooeiXEjtB9HOvXPvzjiBRqwHZu65354537nnnHsW2GopbYXT/WJ9\n",
       "RU+RKW+r4TXWudh2ooNpSrOAQingMVNuVCXuRA7oy5ISrqSFkAu0aOmqEDSNAg/owXQFeuOwheyq\n",
       "EMwmgTmLlPoKNA/oY8PDl6pT2kF6OinWmlwFUmm7nMm83/xjLcUXeyPsJ2Ass9JSmrTJjnu9QJQO\n",
       "1Ar0r/PVODHDv0w62y9nuqhwF53NUWe5s9Q94Meg/AaOsQyFC8BnvCvsAiJ0mN0wcl7/NRYauOJU\n",
       "XrkCrVZuEHVYdRNhy4chtjjxaIwpAQJGMYub5MwE4ogVhG/jWXeB9lA9BAco/B5E8sLCiSWYRrDo\n",
       "w6CuynZNsvvbzsMrE3EhLtv2+b5vJSyUoLsExk56zUHNCpNW/o7nEbB8GBJFDwGwQxIYuUOkTbY8\n",
       "TekW/7hOHJkTxExOEBAmosUXUujyY2iyBEGAlV37DsNJEfpbKI+l9oAddk58cs12CeLs1p/FEWFC\n",
       "FWPSMP0w6cf4NXByRSl/HSvjJRWLpe82Ha0G1912GDJdggRLdB3zwU2YV5JxxHJ+DIMy09SbkRXV\n",
       "1PJOmyLAi/WDeiyTyeSNJIyyh4CiidTjljARzs4jUvZhRs/acdmHRRgDUxMzrGPZqXTGrJgKPrJf\n",
       "IzaUtEugWiP2fBJ7hQlXgF8ImX7MI7XeUSEKFM1FEWRtEUrLluEE2rb83cvAV2FC00u7CmUVavGg\n",
       "B/OJC0xK5dOL3ikY5xhBY/dpTxdh6FpbKQXqZG6CU1BWML6UVT7kPZhPKuN6/RWmklAN3J2c4Xuo\n",
       "WjHbHfC6/IPxYL7BJf9wgtmN5pskaOorwRAbdnsPy/A8mE9GxPoE/0IQ3k6v+yIkeuRg8WL/Jc3e\n",
       "je6M5qnNsL/kDzvlwW8VdFq5AAAAAElFTkSuQmCC\n",
       "\" style=\"display:inline;vertical-align:middle;\" /></a>"
      ],
      "text/plain": [
       "forall_{x in S | Q(x) , R(x)} P(x)"
      ]
     },
     "execution_count": 4,
     "metadata": {},
     "output_type": "execute_result"
    }
   ],
   "source": [
    "basicForallExpr"
   ]
  },
  {
   "cell_type": "markdown",
   "metadata": {},
   "source": [
    "We can use Python's `dir()` function to get a list of our `Forall` object's attributes and methods:"
   ]
  },
  {
   "cell_type": "code",
   "execution_count": 5,
   "metadata": {},
   "outputs": [
    {
     "data": {
      "text/plain": [
       "['__class__',\n",
       " '__delattr__',\n",
       " '__dict__',\n",
       " '__dir__',\n",
       " '__doc__',\n",
       " '__eq__',\n",
       " '__format__',\n",
       " '__ge__',\n",
       " '__getattribute__',\n",
       " '__gt__',\n",
       " '__hash__',\n",
       " '__init__',\n",
       " '__init_subclass__',\n",
       " '__le__',\n",
       " '__lt__',\n",
       " '__module__',\n",
       " '__ne__',\n",
       " '__new__',\n",
       " '__reduce__',\n",
       " '__reduce_ex__',\n",
       " '__repr__',\n",
       " '__setattr__',\n",
       " '__sizeof__',\n",
       " '__str__',\n",
       " '__subclasshook__',\n",
       " '__weakref__',\n",
       " '_allConditions',\n",
       " '_allDomains',\n",
       " '_allInstanceVars',\n",
       " '_checkRelabelMap',\n",
       " '_class_path',\n",
       " '_clear_',\n",
       " '_config_latex_tool',\n",
       " '_coreInfo',\n",
       " '_createOperand',\n",
       " '_equiv_method_evaluate_',\n",
       " '_equiv_method_evaluated_',\n",
       " '_equiv_method_evaluation_',\n",
       " '_equiv_method_simplification_',\n",
       " '_equiv_method_simplified_',\n",
       " '_equiv_method_simplify_',\n",
       " '_extractCoreInfo',\n",
       " '_extractExprClass',\n",
       " '_extractInitArgs',\n",
       " '_extractMyInitArgs',\n",
       " '_extractReferencedObjIds',\n",
       " '_extractStyle',\n",
       " '_formatted',\n",
       " '_formattedOperation',\n",
       " '_generate_unique_rep',\n",
       " '_genericExpr',\n",
       " '_implicitOperator',\n",
       " '_init_argname_mapping_',\n",
       " '_instanceVarLists',\n",
       " '_iterSubParamVals',\n",
       " '_joinedNestings',\n",
       " '_make',\n",
       " '_meaningData',\n",
       " '_meaning_id',\n",
       " '_operator_',\n",
       " '_repr_html_',\n",
       " '_requirements',\n",
       " '_restrictionChecked',\n",
       " '_setContext',\n",
       " '_specializeUnravelingTheorem',\n",
       " '_styleData',\n",
       " '_style_id',\n",
       " '_subExpressions',\n",
       " '_validateRelabelMap',\n",
       " '_withMatchingStyle',\n",
       " 'allConditions',\n",
       " 'allDomains',\n",
       " 'allInstanceVars',\n",
       " 'conclude',\n",
       " 'concludeAsFolded',\n",
       " 'concludeNegation',\n",
       " 'concludeViaImplication',\n",
       " 'conditions',\n",
       " 'contexts',\n",
       " 'copy',\n",
       " 'coreInfo',\n",
       " 'deduceInBool',\n",
       " 'deriveBundled',\n",
       " 'deriveUnraveled',\n",
       " 'deriveUnraveledEquiv',\n",
       " 'displayed_expression_styles',\n",
       " 'disprove',\n",
       " 'doReducedEvaluation',\n",
       " 'doReducedSimplification',\n",
       " 'domain',\n",
       " 'evaluated',\n",
       " 'evaluation',\n",
       " 'explicitConditions',\n",
       " 'explicitDomains',\n",
       " 'explicitInstanceExpr',\n",
       " 'explicitInstanceVars',\n",
       " 'exprInfo',\n",
       " 'extractInitArgValue',\n",
       " 'extractMyInitArgValue',\n",
       " 'formatted',\n",
       " 'freeMultiVars',\n",
       " 'freeVars',\n",
       " 'getRequirements',\n",
       " 'getStyle',\n",
       " 'getStyles',\n",
       " 'hasDomain',\n",
       " 'in_progress_to_conclude',\n",
       " 'inclusiveConditions',\n",
       " 'innerExpr',\n",
       " 'instanceExpr',\n",
       " 'instanceVar',\n",
       " 'instanceVarLists',\n",
       " 'joinedNestings',\n",
       " 'latex',\n",
       " 'numSubExpr',\n",
       " 'operand',\n",
       " 'operand_or_operands',\n",
       " 'operands',\n",
       " 'operationClassOfOperator',\n",
       " 'operator',\n",
       " 'operator_or_operators',\n",
       " 'operators',\n",
       " 'orderOfAppearance',\n",
       " 'prove',\n",
       " 'relabeled',\n",
       " 'remakeArguments',\n",
       " 'remakeConstructor',\n",
       " 'remakeWithStyleCalls',\n",
       " 'safeDummyVar',\n",
       " 'safeDummyVars',\n",
       " 'sideEffects',\n",
       " 'simplification',\n",
       " 'simplified',\n",
       " 'specialize',\n",
       " 'string',\n",
       " 'styleNames',\n",
       " 'styleOptions',\n",
       " 'subExpr',\n",
       " 'subExprIter',\n",
       " 'substituted',\n",
       " 'unfold',\n",
       " 'unraveled',\n",
       " 'usedVars',\n",
       " 'withJustification',\n",
       " 'withMatchingStyle',\n",
       " 'withStyles',\n",
       " 'withWrapAfterOperator',\n",
       " 'withWrapBeforeOperator',\n",
       " 'withWrappingAt',\n",
       " 'wrapPositions']"
      ]
     },
     "execution_count": 5,
     "metadata": {},
     "output_type": "execute_result"
    }
   ],
   "source": [
    "dir(basicForallExpr)"
   ]
  },
  {
   "cell_type": "markdown",
   "metadata": {},
   "source": [
    "and the general Python-provided object attribute `__dict__` (using two underscores on each end) to view all the attribute names and values for our specific `Forall` object:"
   ]
  },
  {
   "cell_type": "code",
   "execution_count": 6,
   "metadata": {},
   "outputs": [
    {
     "data": {
      "text/plain": [
       "{'operator_or_operators': forall,\n",
       " 'operand_or_operands': x -> P(x) | x in S , Q(x) , R(x),\n",
       " 'operator': forall,\n",
       " 'operators': (forall),\n",
       " 'operand': x -> P(x) | x in S , Q(x) , R(x),\n",
       " 'operands': (x -> P(x) | x in S , Q(x) , R(x)),\n",
       " '_subExpressions': (forall, x -> P(x) | x in S , Q(x) , R(x)),\n",
       " '_genericExpr': forall_{_x_ in S | Q(_x_) , R(_x_)} P(_x_),\n",
       " '_meaningData': <proveit._core_._unique_data._MeaningData at 0x7f94ead8fda0>,\n",
       " '_styleData': <proveit._core_._unique_data._StyleData at 0x7f94ead8fe80>,\n",
       " '_meaning_id': 2969317993312282215,\n",
       " '_coreInfo': ('Operation',),\n",
       " '_requirements': (),\n",
       " '_style_id': 8973348365719977112,\n",
       " 'instanceExpr': P(x),\n",
       " 'instanceVar': x,\n",
       " 'domain': S,\n",
       " 'conditions': (x in S , Q(x) , R(x))}"
      ]
     },
     "execution_count": 6,
     "metadata": {},
     "output_type": "execute_result"
    }
   ],
   "source": [
    "basicForallExpr.__dict__"
   ]
  },
  {
   "cell_type": "markdown",
   "metadata": {},
   "source": [
    "Some of the various parts of the `Forall` **expression** may be accessed as follows:"
   ]
  },
  {
   "cell_type": "code",
   "execution_count": 7,
   "metadata": {},
   "outputs": [
    {
     "data": {
      "text/html": [
       "<a class=\"ProveItLink\" href=\"../packages/proveit/__pv_it/530be409e3083890784cf1d7b28c9e67e90af9360/expr.ipynb\"><img src=\"data:image/png;base64,iVBORw0KGgoAAAANSUhEUgAAAAsAAAAJBAMAAAAWSsseAAAAKlBMVEX///9ERETMzMwQEBAiIiKY\n",
       "mJju7u5mZmaqqqpUVFSIiIh2dnbc3NwAAAA/vyDhAAAAAXRSTlMAQObYZgAAAENJREFUCNdjYDi9\n",
       "8sTyBQxsG1hdmR0YuBm4LnAoMLAxcAowgADzAjB1VoEhgYH1wFoGrgSG3gBhhlMMDImrs3cFMAAA\n",
       "t0YN+iTRa+sAAAAASUVORK5CYII=\n",
       "\" style=\"display:inline;vertical-align:middle;\" /></a>"
      ],
      "text/plain": [
       "x"
      ]
     },
     "execution_count": 7,
     "metadata": {},
     "output_type": "execute_result"
    }
   ],
   "source": [
    "basicForallExpr.instanceVar        # Variable whose value defines the instance.\n",
    "                                   # This attribute returns just the first instance variable\n",
    "                                   # if there is more than one."
   ]
  },
  {
   "cell_type": "code",
   "execution_count": 8,
   "metadata": {},
   "outputs": [
    {
     "data": {
      "text/plain": [
       "[x]"
      ]
     },
     "execution_count": 8,
     "metadata": {},
     "output_type": "execute_result"
    }
   ],
   "source": [
    "basicForallExpr.allInstanceVars()  # The list of all variables whose values define the instance\n",
    "                                   # (may be one or more variables)."
   ]
  },
  {
   "cell_type": "code",
   "execution_count": 9,
   "metadata": {},
   "outputs": [
    {
     "data": {
      "text/html": [
       "<a class=\"ProveItLink\" href=\"../packages/proveit/__pv_it/8c735c381b4cbf3c87e86ca2468da4e5c976f9b00/expr.ipynb\"><img src=\"data:image/png;base64,iVBORw0KGgoAAAANSUhEUgAAAC4AAAAVBAMAAADLKsFqAAAAMFBMVEX////u7u5mZmaYmJi6urqq\n",
       "qqp2dnbMzMwQEBBEREQyMjLc3NwiIiJUVFSIiIgAAAAeC3ydAAAAAXRSTlMAQObYZgAAAQlJREFU\n",
       "GNNjYCACsDyA0MwOIPLt/7t3z24AsWphCtTB5C8GBs5uEGMhTJwLRLB/Y2BgBWIGvgcwceYEEPcL\n",
       "kPEJyOAQgIkzNgAJzg8MDLxfgQwvhAumAjH/AgYG+QlAhhoQb3u79RHQuCQgsz6Bgf0QSNFioAEJ\n",
       "zIc5DjAwRAG576+lqYGd2cLAwMbA94G1gIHBA8idD7MOaD8jAy/IRIZ6IP7DgBAHOuoBVJz9E0y8\n",
       "FUTsL2AQAJvD9wUmPhnojw3vGfiA4lZA53+EiQMdF28wg2EfmCk0/y/M+z4MDJLPxPIMgMwlyMHM\n",
       "sQElHBhQQgsM2B6gxAs8nKVQ42svjHEbVZwbqp2vgAEAALg9cr1t3EsAAAAASUVORK5CYII=\n",
       "\" style=\"display:inline;vertical-align:middle;\" /></a>"
      ],
      "text/plain": [
       "P(x)"
      ]
     },
     "execution_count": 9,
     "metadata": {},
     "output_type": "execute_result"
    }
   ],
   "source": [
    "basicForallExpr.instanceExpr       # The expression being quantified over."
   ]
  },
  {
   "cell_type": "code",
   "execution_count": 10,
   "metadata": {},
   "outputs": [
    {
     "data": {
      "text/html": [
       "<a class=\"ProveItLink\" href=\"__pv_it/00c5a15a1de83ba2c3d61ad9684c56221b29f7230/expr.ipynb\"><img src=\"data:image/png;base64,iVBORw0KGgoAAAANSUhEUgAAALMAAAAVBAMAAAD/f8IzAAAAMFBMVEX////c3NwiIiJERESqqqqY\n",
       "mJh2dnZmZmYQEBDu7u4yMjJUVFTMzMyIiIi6uroAAAAs73DqAAAAAXRSTlMAQObYZgAAAsRJREFU\n",
       "OMu1VU1oE0EUfkt2k2yzGwNaLxISAh4qiPEg9CIJeBOl0YNH3VOLQrB40INI0uLBIq1BsQZBGgpR\n",
       "PBQjRRRLIXeVLoIWaSXVY4sYlUqhqfHN29m/TGz1YOHtvu73zTfzvnkzAfiPf1Hz77lf+Pvsjigx\n",
       "XnVXUZ5fubtipdLQ4DwlWo2DobpLXGrPzc4IKDEed5eugprh6YU6RPpY0lOy0YqH+QOgXBFQDL27\n",
       "HxED4LiV3k/j4ybLPjrwGZepbSH7l4BihEtexQfTqQOUJLCgN9a3afYoMNqYwyu7Q/QWLrgloBir\n",
       "XmWtak/0NQvw2nKODYOL6HvUtSGQddMiwEJNQDEuY7p3ac8i+bLbKSGxZe9UIk3SyA6hSVL+6clr\n",
       "AMFhR2dXDeSDIKAYVQDVUPaHk4x22C2z3eb/FHLsmcGZejCbhNO5UQDZXeLC/OI47bEfxZjACUBv\n",
       "ymyRatr1pvfFhlXCIXptYITRFAMacAKrLzrERgkG6iKKgXurQsTSjI6mUnwbmQe0XBIF+ScrHQeX\n",
       "YJY2pelI95MnAorB2gbCpv9IgIIxZUl/p2rH+GCA8Q7pTdyOmohiXOetxspWkzb/HvsYo/QJe1gl\n",
       "s7aQWlilxxBtHeCcIaIYR3CJsQbo5OgzewA7LVeB5htYiS9rE9RTWMYpvQkfcAjbRtVu64KpCijG\n",
       "EA7O9UOcFG/zWwMumaCnQWVmBPuM4DEqAPtJXg8UJZM33xQrMoDFN8xeAcX4DHDn/WTe8lV6xLu5\n",
       "tjaH5ai3mOTaw7dZYN+jSVCPnh98x7xnayh/Q+cymyaEZkwBxQjHvMdRful2CBOzwEBdoSlHOg76\n",
       "J9+1M9J50BVjm/tZ4Qd3eLXjUsrTM+cj+9H8ny9Vr3SkTS3qXptqpYu0DyXGvm2k+YWr3eBbYfd9\n",
       "hIzS/WQfSgzpH37A4vy9vCOK8RugXtaoLvLlPwAAAABJRU5ErkJggg==\n",
       "\" style=\"display:inline;vertical-align:middle;\" /></a>"
      ],
      "text/plain": [
       "(x in S , Q(x) , R(x))"
      ]
     },
     "execution_count": 10,
     "metadata": {},
     "output_type": "execute_result"
    }
   ],
   "source": [
    "basicForallExpr.conditions         # The list of conditions of the universal quantification."
   ]
  },
  {
   "cell_type": "code",
   "execution_count": 11,
   "metadata": {},
   "outputs": [
    {
     "data": {
      "text/html": [
       "<a class=\"ProveItLink\" href=\"../packages/proveit/__pv_it/abeee18594afe51bfb1be95d9591fbba24ac53f30/expr.ipynb\"><img src=\"data:image/png;base64,iVBORw0KGgoAAAANSUhEUgAAAA0AAAAOBAMAAAAGUYvhAAAAMFBMVEX///8iIiIQEBCIiIjMzMzc\n",
       "3Nyqqqp2dnZEREQyMjK6urru7u5mZmZUVFSYmJgAAACI6eGPAAAAAXRSTlMAQObYZgAAAF1JREFU\n",
       "CNdjYGDgu3Nm3wIGBoZ5DNz9QIq3gIEhE0jHOzAwOAPp9QkMDC4g/megABAw///fCmbEXfq0Acxg\n",
       "qH8ANAVI7wfSe0BKAyBGnAXigwYMzA1A+sLau31ACgAz0hhbkhGHbwAAAABJRU5ErkJggg==\n",
       "\" style=\"display:inline;vertical-align:middle;\" /></a>"
      ],
      "text/plain": [
       "S"
      ]
     },
     "execution_count": 11,
     "metadata": {},
     "output_type": "execute_result"
    }
   ],
   "source": [
    "basicForallExpr.domain             # Domain of the instance variable.\n",
    "                                   # If there are multiple instance variables each with its own domain,\n",
    "                                   # this attribute returns just the domain for the 1st variable."
   ]
  },
  {
   "cell_type": "code",
   "execution_count": 12,
   "metadata": {},
   "outputs": [
    {
     "data": {
      "text/plain": [
       "[S]"
      ]
     },
     "execution_count": 12,
     "metadata": {},
     "output_type": "execute_result"
    }
   ],
   "source": [
    "basicForallExpr.allDomains()       # The set of all domains for all instance variables\n",
    "                                   # (might be 0, 1, or more in the list)"
   ]
  },
  {
   "cell_type": "code",
   "execution_count": 13,
   "metadata": {},
   "outputs": [
    {
     "data": {
      "text/plain": [
       "[Q(x), R(x)]"
      ]
     },
     "execution_count": 13,
     "metadata": {},
     "output_type": "execute_result"
    }
   ],
   "source": [
    "basicForallExpr.explicitConditions()  # Returns the list of conditions that appear after the\n",
    "                                      # vertical line in the notation (i.e., exluding the domain condition(s))."
   ]
  },
  {
   "cell_type": "markdown",
   "metadata": {},
   "source": [
    "### A More Complex Forall Example\n",
    "\n",
    "We can construct more complex `Forall` **expression**s involving multiple instance-defining variables, each from the same domain, like this:"
   ]
  },
  {
   "cell_type": "code",
   "execution_count": 14,
   "metadata": {},
   "outputs": [
    {
     "data": {
      "text/html": [
       "<strong id=\"secondForallExpr\">secondForallExpr:</strong> <a class=\"ProveItLink\" href=\"__pv_it/c1491f49e20b211b80866dcd8187979a8d3f4f510/expr.ipynb\"><img src=\"data:image/png;base64,iVBORw0KGgoAAAANSUhEUgAAAOAAAAAXBAMAAADglF5zAAAAMFBMVEX///8QEBC6urrMzMxUVFRm\n",
       "ZmZERETc3NwyMjKqqqp2dnaIiIiYmJgiIiLu7u4AAAAU9Wx4AAAAAXRSTlMAQObYZgAAA6dJREFU\n",
       "SMe9VVtIVEEY/nbPXjy761lRIiSoDQqCiDaICKLWMjSUwggNrGCL2koLjxTZhWwLegszSDB88BDZ\n",
       "TYgNVNIe2ogg6GUD68EiVkGJgpJKzS7WPzNn3JtWD1sD58x/vpkz38z3Xwb43y3+75a2RtIRjw+I\n",
       "MeNpFmm6fm7c2K8za2Xm4DbgFuubsnmwL4Bj7iyr5gDHqHMGs8infAVUeuCOZA56DOSQE+3NWSR0\n",
       "f6R1x8iwzBAeWh48NxoaTmdTUccoYJskY8lMoweB8VBo4K9XO8Lf6u8wbxj4wHxUTc/JrhPdQtm3\n",
       "1XBOAR1AMbB/JldUdz7isW1q0d1RSs42xJjo1LrKqkgaBgQMKM+ZcYH+MjyvLDwPYCyHm87eCiyC\n",
       "Fp6BcDGso1wh8bnaj3pdfuCq6B4C59MxPCi7Xc2zIh9wEYnq5/tp3gUHnXshkAt3NJXrXeVOnp/B\n",
       "BKFCcW4Pos2c8UZ0JcDmdAx1MlYoeDTYzATQMA9eEjdAURXNTQ0n957G99BI72iCcJBsz+i09ja+\n",
       "a7wE5qRj+IEEIYWqzA11CgE/J9TCrCJ0buiiT2sPBfNjPuGZKZEgvAtOmEcqdS0tNlNM+wR7EcOW\n",
       "BjFfpp0yJgkL2euM3yye9jBfhCTF/g20TLzEQsn4zquvgPDo8ILJJMJ+9ktMoaE7tmAhrEU8nr71\n",
       "5YMwLTKh5JkYT0PRDtEe9QdwxzllTgX2UveEnpYYi8ULbE7jMvTIcHOuTyL8xtQx2Jq+HFJX4Zty\n",
       "hXGP8TiHYu6gicExJQkpA9qju3EKGlPZXmT9LkBT5gk+qQzlyotQqBZDlExJhGzupbjKDuHVJaHD\n",
       "QDsYZjNsERMbrvssvbYMGOl72xmFtoB+0Wq7GcU55ht2YiVPEaFcoHFprgCrkgj3OXu1fFhZyK2A\n",
       "XxjwNmMrNy0+i8SSmkWfvqe45Yrx0mZmqyvswnEdBZR8pQyokuVAENavUVt90GJQRm/CYDWYJgfi\n",
       "OKyso2Us/uW8LmcUammB5c8gBYlLHn+kd8cdBKK43BPGiI9dXJWVehKhc9O1LSTBa1KmpS8Ou48m\n",
       "uy5ux9r7hEEtPwCGpbWmZMIB1CQlq9miTp2cgevkw0QtlrJUnAJ6E9caZLUgrAHlAkttR6XBjtXW\n",
       "zTZUmlo+dYeRUeIloTI+n4QwP9rYZCkOUGMNY7riJJoz40J0+1NFh3rfmI0QZ8kFqnmsIiGTKCFR\n",
       "tPUJLCvNlvLFLxAqE3/CZm+/ALAR8BpjOWtvAAAAAElFTkSuQmCC\n",
       "\" style=\"display:inline;vertical-align:middle;\" /></a><br>"
      ],
      "text/plain": [
       "secondForallExpr: forall_{x, y in S | Q(x) , R(y)} P(x , y)"
      ]
     },
     "execution_count": 14,
     "metadata": {},
     "output_type": "execute_result"
    }
   ],
   "source": [
    "secondForallExpr = Forall([x, y], Pxy, conditions=[Qx, Ry], domain = S)"
   ]
  },
  {
   "cell_type": "markdown",
   "metadata": {},
   "source": [
    "or specify individual domains for the instance variables:"
   ]
  },
  {
   "cell_type": "code",
   "execution_count": 15,
   "metadata": {},
   "outputs": [
    {
     "data": {
      "text/html": [
       "<strong id=\"thirdForallExpr\">thirdForallExpr:</strong> <a class=\"ProveItLink\" href=\"__pv_it/1fb04dca2b179681b0103fd61cda544eb0b9f8920/expr.ipynb\"><img src=\"data:image/png;base64,iVBORw0KGgoAAAANSUhEUgAAAQYAAAAXBAMAAAAb5vyFAAAAMFBMVEX///8QEBC6urrMzMxUVFRm\n",
       "ZmZERETc3NwyMjKqqqp2dnaIiIiYmJgiIiLu7u4AAAAU9Wx4AAAAAXRSTlMAQObYZgAABDpJREFU\n",
       "SMfNVmtoFFcU/nZm9jGzm9kQLcUHdgvSFkSygkKp6AYVtYaWVZPaphS2Ytf6KBmpmLbSugr+E90W\n",
       "pUJ+OJSKVjGskIQmaXGKCKX9sz/sHytlLG0oCk3Q+GhtY8+589jJbpI2P7Z4YXLPnnu/c797HvcE\n",
       "eAyG/b+eJpWqNYkUUGbh+/qe3PtozZqrBktLaxc3A1/wfLTO138ARJ6c4qAYsI+maK6+FOQ/AZU+\n",
       "xEu1iwkTMUqIcLG+HOK36ai7JIQmyT69EYkzXV0f1jkUkVFA+YOE5yZb3QHcy+evkfRuUD0TvzhA\n",
       "dTpdsgCMcLw76Pug9/0+JyQ3OxAdB04Dq4HtlBJm0MYLvrTs3FdpN26z28ba54sCc53Yd3qdD5Sd\n",
       "Se1sf6VUpQMyJuQfWDhCKDNxPSSKEWYz4uShk8BC6EQzMuEeWsqr5yyaXVGxE6P4RLjWUTyfxh7D\n",
       "B37mTN8Ah6t1uLThXIcozSYyTeeq4lpy8Q1EyDtPAw2IW0D3xDwp8DXbLVr0Dd5COIdPKxxkKjbS\n",
       "eMDfnGkt8FK1Dp1eKlJu6lDcKtQxD0mKSoaS1mqwRTiCgwLU/+zvNkZsJCBRelzGSjSYSFU43CDm\n",
       "5BkPqDgh+xF4olqHv1HhQMXhFag6jkxacNAL/Hg1AudX9ZJG6ucKGkIiy9sa5vKprzm/RtwIORwu\n",
       "QnAgoNa7aLVb+vodhFtYtyiHBd5zIN/1OMzhPwfSboMIF4QRigW2r6JtBWj22hBd+FbSWMJJEnP8\n",
       "tfFRkd+PK/yj2Q5yuMpWygREj5KbA6lF5M/DwSY2ppfuy42uTjwPzthNtI1LiNuCRSyLbTR9S98J\n",
       "ylLaLXHWAh8tRj/lm18ae+lSaBNOuYAgh4fsVpOPScUscQtO5gK+ZGPRn8vxnKtDZNzjQGV4ynoT\n",
       "+6FzeMIt0l+OUsRHZcb3xb4NaGUOK/L5fElPQafqwdcWr2ybwIHhH9sCmDQ8DhETp4QxxVRKru7X\n",
       "zjEvAxYDw4M3z1vQnyKIvquPjzzEQSW/SJSrcqPs1M8s4Bn8IrKmCJlWEtkXvVMrHN6KDuhNAogl\n",
       "SDsCkkVsFGIoFfJ0gREy/CYuJK0s3mq3TsrIaAUN7xmYJdHNv4PCm6j2IjRfER0lemcChz3L1ZMp\n",
       "BsqjZ2Fy6yFwxsY78kqyHEo3i3ZU0588CVzEN8is5vexnzA88HoPMhaO95MHN0HfyhyWtW8RDxV1\n",
       "eenVsWyQQ3T95y/LDNR3nRi0EU4RWDu2BSuGSAe19W2wrmocDXK4hp2BRwQYcGcralAgQTQ0yocp\n",
       "WpD/iO6vALmOrIqxLs6qWA10ryew6e4+5rjOXxx2O70RMam5qaVp26D3b8G9BT6Q30bZqBjbKRWq\n",
       "H1/hvBrD8bQvqpbrInWIYqbgv3DAwaIPRIvjX89Y96Cjm9G4HPzRM+1WZRKgZv+bburxDy/sEaeI\n",
       "njK0AAAAAElFTkSuQmCC\n",
       "\" style=\"display:inline;vertical-align:middle;\" /></a><br>"
      ],
      "text/plain": [
       "thirdForallExpr: forall_{(x, y) in S * T | Q(x) , R(y)} P(x , y)"
      ]
     },
     "execution_count": 15,
     "metadata": {},
     "output_type": "execute_result"
    }
   ],
   "source": [
    "thirdForallExpr = Forall([x, y], Pxy, conditions=[Qx, Ry], domains = [S, T])"
   ]
  },
  {
   "cell_type": "markdown",
   "metadata": {},
   "source": [
    "The various parts of such `Forall` **expression**s may be accessed as before, with a few special circumstances:"
   ]
  },
  {
   "cell_type": "code",
   "execution_count": 16,
   "metadata": {},
   "outputs": [
    {
     "data": {
      "text/html": [
       "<a class=\"ProveItLink\" href=\"../packages/proveit/__pv_it/530be409e3083890784cf1d7b28c9e67e90af9360/expr.ipynb\"><img src=\"data:image/png;base64,iVBORw0KGgoAAAANSUhEUgAAAAsAAAAJBAMAAAAWSsseAAAAKlBMVEX///9ERETMzMwQEBAiIiKY\n",
       "mJju7u5mZmaqqqpUVFSIiIh2dnbc3NwAAAA/vyDhAAAAAXRSTlMAQObYZgAAAENJREFUCNdjYDi9\n",
       "8sTyBQxsG1hdmR0YuBm4LnAoMLAxcAowgADzAjB1VoEhgYH1wFoGrgSG3gBhhlMMDImrs3cFMAAA\n",
       "t0YN+iTRa+sAAAAASUVORK5CYII=\n",
       "\" style=\"display:inline;vertical-align:middle;\" /></a>"
      ],
      "text/plain": [
       "x"
      ]
     },
     "execution_count": 16,
     "metadata": {},
     "output_type": "execute_result"
    }
   ],
   "source": [
    "thirdForallExpr.instanceVar              # Obtain the first of the instance-defining variables"
   ]
  },
  {
   "cell_type": "code",
   "execution_count": 17,
   "metadata": {},
   "outputs": [
    {
     "data": {
      "text/plain": [
       "[x, y]"
      ]
     },
     "execution_count": 17,
     "metadata": {},
     "output_type": "execute_result"
    }
   ],
   "source": [
    "thirdForallExpr.allInstanceVars()        # Obtain a list of ALL instance-defining variables"
   ]
  },
  {
   "cell_type": "code",
   "execution_count": 18,
   "metadata": {},
   "outputs": [
    {
     "data": {
      "text/html": [
       "<a class=\"ProveItLink\" href=\"../packages/proveit/__pv_it/f8b9edf8e16034727f0aad55bb83e392c3db40d40/expr.ipynb\"><img src=\"data:image/png;base64,iVBORw0KGgoAAAANSUhEUgAAAAsAAAANBAMAAACN24kIAAAAMFBMVEX///+YmJhUVFQyMjIQEBBE\n",
       "REQiIiKqqqrMzMyIiIi6urrc3NxmZmZ2dnbu7u4AAADXeCicAAAAAXRSTlMAQObYZgAAAFhJREFU\n",
       "CNdj4LtzgWH/AwZerg8M8xkY2nkSGEIZGB6wTGD4ycDAUP+A4weQOszA6QCkbBhYFYDUIYb1AkDq\n",
       "6czzGxhA4BoQMyXwuQMptgusF4AU+8xTQBIAUqMVoSp/SLMAAAAASUVORK5CYII=\n",
       "\" style=\"display:inline;vertical-align:middle;\" /></a>"
      ],
      "text/plain": [
       "y"
      ]
     },
     "execution_count": 18,
     "metadata": {},
     "output_type": "execute_result"
    }
   ],
   "source": [
    "thirdForallExpr.allInstanceVars()[-1]    # Obtain the LAST of all instance-defining variables"
   ]
  },
  {
   "cell_type": "code",
   "execution_count": 19,
   "metadata": {},
   "outputs": [
    {
     "data": {
      "text/html": [
       "<a class=\"ProveItLink\" href=\"__pv_it/1c3eee6aca959033a12f1c2dfa7d4b7fb02533860/expr.ipynb\"><img src=\"data:image/png;base64,iVBORw0KGgoAAAANSUhEUgAAAKsAAAAXBAMAAACGzqIkAAAAMFBMVEX///8QEBC6urrMzMxUVFRm\n",
       "ZmZERETc3NwyMjKqqqp2dnaIiIiYmJgiIiLu7u4AAAAU9Wx4AAAAAXRSTlMAQObYZgAAAt1JREFU\n",
       "OMu1VU1oE1EQ/pJsdrPJZhusIOIPOYgVRFrRgwq1YsWCRRqklYIHU5EU7MGcLChqLl6laNWDQtdD\n",
       "aW2xBMRcIjZ4ERRxz3rZgniwaANN61+pztv3dt11gxqKC4/Mznz7vffNzJsA/+ex1kqwM+B5Rstk\n",
       "xstGuRI9tSPHu5gVORQIRtuAB8y43vAZmwrAQJ6MWB25FLtAP0q2YdoOAxijhXKd4Au+W3SkYdrZ\n",
       "NPA6Q8bWOsE5QJsYHr7ceKHO0+qh04QLdYIyBZZzuTd/p1Ha7B9X1hdAX2bloUQo0113T9lefdzA\n",
       "VQtxktEJDHq+19b31vo2MyvMHbeX+oaAi/zlgEBFvgHtLAexCvABrypbbHc8XMUsoJKEbdC9QiRL\n",
       "q+KGLUXsk0IsA1HUeFo0WG1qfIIZIXIYRHXTdu+PmsjRgVJAEomKoNQf91XmEc3ijodWykIy1aJA\n",
       "iBPIq06jpdmNOurcrVAR30lLlTauJJ3WK7V8sg4iaSDtoU0WEcrIeQHpFGymhxbY5GgdsyKLnFYv\n",
       "7KVjlxCytIwdWhBCBe1CG3oREhCnTTsygifEiqgsQuev/UikeBIweBiYb8rvRoyHWi0fbWv5fhr7\n",
       "BIQq4bYtB1ECnyeqeMqJr0Gmy6yxVN0iQVd2oeSU+SF8tJNIFBibDWH8dts6eaNeUlfklFLEAstL\n",
       "L1ortpN0sHIcQzfac7kc2Wf9tOegVjEqIJxWP/mjW4DCJvShmakndLU+0+v78mmqQoxp0djO69CM\n",
       "dxy54qf9imgK2wXENnzPBtdqcbXOub5mamTJLjfl30sbWYVs7vkoIGyKBMaKeEi9ZOobyZp2faOl\n",
       "AvQzTFV/LeOlnVzKR94WWQ8yCE78TvtrMBJt0pANeK6Xkpcoq3E7t/Angd+qEQEJTBbFGeMJWmqZ\n",
       "bSvlXQpjR3AOeWw9yyFqMQC7FPA8ci21bPyRFvc4RFr7n6ePQuODceYfv/0JELm0589poJkAAAAA\n",
       "SUVORK5CYII=\n",
       "\" style=\"display:inline;vertical-align:middle;\" /></a>"
      ],
      "text/plain": [
       "forall_{y in T | R(y)} P(x , y)"
      ]
     },
     "execution_count": 19,
     "metadata": {},
     "output_type": "execute_result"
    }
   ],
   "source": [
    "thirdForallExpr.instanceExpr             # Obtain the first nested expression being quantified over"
   ]
  },
  {
   "cell_type": "code",
   "execution_count": 20,
   "metadata": {},
   "outputs": [
    {
     "data": {
      "text/html": [
       "<a class=\"ProveItLink\" href=\"../packages/proveit/__pv_it/e0e45b9393452be20ed9dd804d04d86a2899b1ba0/expr.ipynb\"><img src=\"data:image/png;base64,iVBORw0KGgoAAAANSUhEUgAAAEIAAAAVBAMAAAAA8SWUAAAAMFBMVEX////u7u5mZmaYmJi6urqq\n",
       "qqp2dnbMzMwQEBBEREQyMjLc3NwiIiJUVFSIiIgAAAAeC3ydAAAAAXRSTlMAQObYZgAAAWhJREFU\n",
       "KM+VUjtPwlAYPaWF0hJK40DURSZcHJgcnBydlNlBGwdH039QnUmUReOiMPgDWHREgombCZOLkhAG\n",
       "44IIPgYf0XOvNzxSFm9yv3v63XPP9yrwr7Ua8ujLwnZ+ms2bCoHZCD+al/YDsAo8bTfMsIUx34Eo\n",
       "N54mBNY9GueVoE+wN4Gh7dJYz0DyDTDKk7I/5E7xZq4IRITgRee83ZJX6SwSPWCLMPBg1kVSOYp6\n",
       "+lW8JhneGhyqrxN2b7ezotg4a4/RG/Vl/vkFWFReIS6pIlNkaEgWVYrYR4rxAuIvDBlUaqnPaA+B\n",
       "LxlmX7nieWEvffxpRsp4hIwi2iGXxUz1SheOKzl2Bic8lnjRU4xYBtjMHaMKTQSONIwXiGqnSt8q\n",
       "ssEqZx7SOzloB6xNO21/0ns22r7CABkVKVpTXR+sxeG8uO8xzdRjrbFJu6OMaxzRzo4NKTH4g8TD\n",
       "jbboz934HKuhyTo+fgFmwVFLOVAG8QAAAABJRU5ErkJggg==\n",
       "\" style=\"display:inline;vertical-align:middle;\" /></a>"
      ],
      "text/plain": [
       "P(x , y)"
      ]
     },
     "execution_count": 20,
     "metadata": {},
     "output_type": "execute_result"
    }
   ],
   "source": [
    "thirdForallExpr.explicitInstanceExpr()   # Obtain the explicit final expression being quantified over"
   ]
  },
  {
   "cell_type": "code",
   "execution_count": 21,
   "metadata": {},
   "outputs": [
    {
     "data": {
      "text/html": [
       "<a class=\"ProveItLink\" href=\"../packages/proveit/__pv_it/abeee18594afe51bfb1be95d9591fbba24ac53f30/expr.ipynb\"><img src=\"data:image/png;base64,iVBORw0KGgoAAAANSUhEUgAAAA0AAAAOBAMAAAAGUYvhAAAAMFBMVEX///8iIiIQEBCIiIjMzMzc\n",
       "3Nyqqqp2dnZEREQyMjK6urru7u5mZmZUVFSYmJgAAACI6eGPAAAAAXRSTlMAQObYZgAAAF1JREFU\n",
       "CNdjYGDgu3Nm3wIGBoZ5DNz9QIq3gIEhE0jHOzAwOAPp9QkMDC4g/megABAw///fCmbEXfq0Acxg\n",
       "qH8ANAVI7wfSe0BKAyBGnAXigwYMzA1A+sLau31ACgAz0hhbkhGHbwAAAABJRU5ErkJggg==\n",
       "\" style=\"display:inline;vertical-align:middle;\" /></a>"
      ],
      "text/plain": [
       "S"
      ]
     },
     "execution_count": 21,
     "metadata": {},
     "output_type": "execute_result"
    }
   ],
   "source": [
    "thirdForallExpr.domain                   # Obtain the domain if just a single domain, or the domain of\n",
    "                                         # the 1st instance-defining variable if multiple domains"
   ]
  },
  {
   "cell_type": "code",
   "execution_count": 22,
   "metadata": {},
   "outputs": [
    {
     "data": {
      "text/plain": [
       "[S, T]"
      ]
     },
     "execution_count": 22,
     "metadata": {},
     "output_type": "execute_result"
    }
   ],
   "source": [
    "thirdForallExpr.allDomains()             # Obtain a list of all domains"
   ]
  },
  {
   "cell_type": "code",
   "execution_count": 23,
   "metadata": {},
   "outputs": [
    {
     "data": {
      "text/plain": [
       "[x in S, Q(x)]"
      ]
     },
     "execution_count": 23,
     "metadata": {},
     "output_type": "execute_result"
    }
   ],
   "source": [
    "thirdForallExpr.conditions               # Obtain conditions for first instance-defining variable"
   ]
  },
  {
   "cell_type": "code",
   "execution_count": 24,
   "metadata": {},
   "outputs": [
    {
     "data": {
      "text/plain": [
       "[x in S, Q(x), y in T, R(y)]"
      ]
     },
     "execution_count": 24,
     "metadata": {},
     "output_type": "execute_result"
    }
   ],
   "source": [
    "thirdForallExpr.allConditions()          # Obtain conditions for all instance-defining variables"
   ]
  },
  {
   "cell_type": "code",
   "execution_count": 25,
   "metadata": {},
   "outputs": [
    {
     "data": {
      "text/html": [
       "<a class=\"ProveItLink\" href=\"__pv_it/bb8431450455922ada5e3c2de392a0cd4a3f0dfb0/expr.ipynb\"><img src=\"data:image/png;base64,iVBORw0KGgoAAAANSUhEUgAAAHYAAAAVBAMAAABh6QfWAAAAMFBMVEX////c3NwiIiJERESqqqqY\n",
       "mJh2dnZmZmYQEBDu7u4yMjJUVFTMzMyIiIi6uroAAAAs73DqAAAAAXRSTlMAQObYZgAAAjVJREFU\n",
       "OMulVE1oE1EQ/tbdze6m2STgUaRLDh48VfxBGsTgURB78uDFxUuvRaGIisbSi4K6KIgIQhFK6cVG\n",
       "xYtFkoM3D8mtXkIXTyJI678hjXVm9u1PJUKlD7638/bNt2/eNzML7GQUO9v3/RQ9zDAC3g7x0X5V\n",
       "m1+Xl3xZuM3+8rgcUGio/asKi0O4uQ5sD7mJaFUag3OLjXyg9vMR3GEhjwCjUzDCaNUmlybb3Xjf\n",
       "9AV2kOE8flLZz883wLkaXLW12gKWCLgZ+zl1wccMtTCvvOmQZgBDvT5KO31WdS7xPCSYpi9M+hhl\n",
       "1u5MDDOpSbwTfDOLIn0wDa0HTIIxT8oU17HKTgcySv9Mo+l3L4koedLOX4O7DpwE4w7dzvJwkG8x\n",
       "lnLNb4np9mBssGGHKNQuQCe3D2D8BgK7gwHfZ6ZSibQipXsJV69L2JSrEA5uo0RBtFl+5uJ0UNjI\n",
       "pp7P8BKz1IAWc2H00G7F3FmaL8Otc8ypP6c3Hu0JmD/kezXSaw7vEMd8mOYF6HLky5RL6aURqPRa\n",
       "AzZ10io/hSq9Oytgta9gTcrvXphwjzPN+SImyTXQyCFHsViN4nfEOXpP8/3u9bIkZqEVMa0Xm1VS\n",
       "xLlbhnNx8zXdisuxSHdyjq18JvOpwBbW+YhjvIp1Vv1Z3lLmN6RPvKQmqaRHPGd2eL+aW5dngOd4\n",
       "WJM+Eyxil6/72+JSD+7DETIeKeyB0b32j//EX/2pNXBqhfV8pqD9xz9nr6rSluAPYkqW7dRyTZEA\n",
       "AAAASUVORK5CYII=\n",
       "\" style=\"display:inline;vertical-align:middle;\" /></a>"
      ],
      "text/plain": [
       "(y in T , R(y))"
      ]
     },
     "execution_count": 25,
     "metadata": {},
     "output_type": "execute_result"
    }
   ],
   "source": [
    "thirdForallExpr.instanceExpr.conditions  # Obtain conditions for 2nd (or 1st-nested) instance-defining variable"
   ]
  },
  {
   "cell_type": "markdown",
   "metadata": {},
   "source": [
    "Specialization (or Universal Instantiation)\n",
    "======\n",
    "\n",
    "The *specialization* derivation (or universal instantiation) step uses *expression substitution* internally.  The difference is that *specialization* has proof implications and enforces the extra restrictions to justify these proof implications.  It also eliminates one or more of the outer $\\forall$ operations."
   ]
  },
  {
   "cell_type": "markdown",
   "metadata": {},
   "source": [
    "\n",
    "### Basic Specialization\n",
    "\n",
    "Let us take our basic/generic example of the `Forall` expression above and specialize it with a particular \"instance\" expression.  To do so, we will make assumptions to trivially allow this derivation step to be taken (just to show how this works)."
   ]
  },
  {
   "cell_type": "code",
   "execution_count": 26,
   "metadata": {},
   "outputs": [
    {
     "data": {
      "text/html": [
       "<strong id=\"assumptions\">assumptions:</strong> <a class=\"ProveItLink\" href=\"__pv_it/c8603d704a16db75974d998df941e7d450ccb8710/expr.ipynb\"><img src=\"data:image/png;base64,iVBORw0KGgoAAAANSUhEUgAAAeAAAAAaBAMAAACdhJJtAAAAMFBMVEX///+qqqp2dnYiIiJERESI\n",
       "iIhmZmYQEBDc3NyYmJgyMjLu7u5UVFTMzMy6uroAAACGxKilAAAAAXRSTlMAQObYZgAABqdJREFU\n",
       "WMPlWH1sVEUQn7ve9T7eveuZoCbEpE+wNQGjl1T8SFEPLCLRyCukGEhJT9TGD7AlhkjE4GkkgGJ6\n",
       "EuMfiniB4EcwekqlsRp7MXyJYE4j0RBIL/EDgkRahIKWtu7Mvt23997jw6Qmmm5ye3szv9mZ2Z2d\n",
       "nT0A+B3GTDOw0wtjx+FD2HXnx47DQZN1X4H2b8wdN/l3pHR+3sZ/NpVTdOOloskGQt8CEG6HCiKa\n",
       "o+Fm88i+fVMzMnqwLVHY2s49Kq+y6Jogsqv1U2uJwrUTdtqBCJ83ZxyiqjhTvGOLjXYoWiKUNbPv\n",
       "NPgTbBgdncj+CyCwHAdbBSWqcANX/1nGy7nk3wNttjWcVIRYvQ2fXp11iqripwC6chLtUBQVEj15\n",
       "CJUgnGLDF0bFX/0kgO+kOC18zwyb3fNbooy33ikfY+DxfNiNVj0j4drwRy5RRVw/zYSHJcKhiGxA\n",
       "dEUWeq2FeGB0sgLTGRlgg5AMGK3dZldTb/O6LMiCujq+Wx0s7g5w4mbs2vIC7utzi3YpiofYPg5J\n",
       "hEMR2YDoyhTcj76vWbMmOSoOB5hZsX42OGbTptnDB6m3eYEEfR18QxBOMMJhfkjRerihJOCVSbeo\n",
       "JU4/mUu9BYlwKppmSUT6YC8bVjU03Glc3JuXqU9ciFbFNqoHY3ER+zzf/Nw8FlS1ErzhyV3AeVqt\n",
       "AR158KcpO90jER2nRSLqSJHDCT4VRHZPTbtEuThXXADfFGtyD0VoA6Ljg3AvnpwiBDJlR3FRzZuU\n",
       "1q2ImFfLkl6Yr8l3nDZuoHWGk8YW2QD9Jp58QDMit4aS8kxiO20lJvDH+6CFxSkFsqI7ODJyNx+1\n",
       "YYqC2UWCo0emW9RnZ63enfOWick9FKENiNaH4G30qwDdZfv2K8TpyAT4z4NFWJ0RP/z81oi0QzTt\n",
       "oAG0fDlhEZm/khEh2OdjBh+R04YpTJH3LYvQBqaYznenonnt7jP84N1BX2c43DrdTtG4nR5a8lAt\n",
       "EB6K0AZEh4eB9iMJ84XkJ62P4m9I2Q7ry+m0X25tN1/WWApiSQeN7YhIEyx5aYjBxZdW8cSDvHzI\n",
       "xF3QiXCkrk4kLYxi2lpylSf8YSXflYtycWozKaoF2qUIbUC01s8dng/1Iqbue+kz0AYBsrbDXVk6\n",
       "7VaswX7qK0wIpR00gD/AdphlSbPcYX9S8qrzLLosiw/ZZQfeKFl7pugK6fBED1HF4XMsBmyHXYqE\n",
       "w2yH36c7D18Q/uZf9sNrhLz5eiv3UY+JnDnMIqLmm+YiNPErtQiLwUEDfUAYsNQKw7wa0oGC5D0G\n",
       "QRmT2yRgOwrxE/0hbWtRTEW5xilqh7TO6oy3DKnYpUiG9BDsIMA6dggnx1JLreJl+7P9isNT6VbQ\n",
       "c+DP7wgl4Di/QJquLYGDRtcwb7PYGmVaIMgcfh1jHuwdRx5LHWhUhNTFskIKc8tiDq4urVqorxRw\n",
       "gGUeoiSuiWu4zdQE2qUIbUB0/CzMpZjHe6sUzYJu3U7h3YrDmPJCBstsccqBB3nhB8EcOGgQGBSm\n",
       "s3ugOjsTVvEh9FCM9ZQEj7l1IivuFe12eU+bEExxsL/e8I/LCDgrtDxESZzQeP+3mGsF2qVIXEss\n",
       "UE/Y61eVAf3GhoYZ8AUTURzGsvTKvA/D5Kx0bjpmBgdt++xzopj7iSXfOR/X4N59gGngLEVFXvCg\n",
       "s6mNeRPlhr0oHhiF4/tmCfDxTXMTULTgeIG6RUkc0aS4cosp0C5FaAOi/TmoomROpc4PUNQo+C8D\n",
       "+F5x+K5wo7YS4izl6u06wM9E7IfKdidNaaFMeWl5FLsFKm+iUhtetblOfQgcteKlGCkKeDDnIdql\n",
       "olXFTkWytIyaVK7zc983CQygV9VDYKVf7vDqA77xJdCS0OvP+bEID78L+iAEkocVmvOZJys3P206\n",
       "JvrCLMmLJTXMKDXeJZ11pgPpY2KqDYGsh2iNirYVuxWRDYjuYUEsimhtxhVz8tCJUbKktTWjOBze\n",
       "e93XbBfrobPx4ckAT2BOnDSQ0aeYCs3Z5DuuW1gV2pqUvAojYCjXt7fDsZFhMdXT2zxELfGsU7Fb\n",
       "UbeoFV4tr+2xXcPOsH2PiH8O0iz7NNov0YgANJ73YbtODChmgrjetRnJ8zXhEsUy3k8uEXNPZcVU\n",
       "6x/xEOXiQZdit6I9QtltmDEu9PgRqk+tkBWgj4XHjwKg0BwtbJGC7n81JG/hpT3Bwqa36MJLRZMN\n",
       "iI5gWvcZF3cY3mGvFh9f75gaRQrt/9D4vxyvnB9Q7gg9oGDyRWn/3fY4jL32NzG7JUmvQm7wAAAA\n",
       "AElFTkSuQmCC\n",
       "\" style=\"display:inline;vertical-align:middle;\" /></a><br>"
      ],
      "text/plain": [
       "assumptions: (forall_{x in S | Q(x) , R(x)} P(x) , f(y) in S , Q(f(y)) , R(f(y)))"
      ]
     },
     "execution_count": 26,
     "metadata": {},
     "output_type": "execute_result"
    }
   ],
   "source": [
    "from proveit import Function, ExprTuple\n",
    "from proveit._common_ import fy\n",
    "from proveit.logic import InSet\n",
    "assumptions = ExprTuple(basicForallExpr, InSet(fy, S), Function(Q, fy), Function(R, fy))"
   ]
  },
  {
   "cell_type": "markdown",
   "metadata": {},
   "source": [
    "`InSet()` is another core concept that is defined outside of the core in `proveit.logic`.  It represents the set membership operation using the $\\in$ symbol.  It is needed as a core concept specifically for the purpose of ensuring that universal quantification requirements are met (the \"instance\" expression must be \"in\" the domain set).\n",
    "\n",
    "To implement the specialization or universal instantiation where the instance variable $x$ is replaced with the specific instance or value $f(y)$, we have:"
   ]
  },
  {
   "cell_type": "code",
   "execution_count": 27,
   "metadata": {},
   "outputs": [
    {
     "data": {
      "text/html": [
       "<span style=\"font-size:20px;\"><a class=\"ProveItLink\" href=\"__pv_it/c490834fe238a72b9d23405f02d775f1c58d12ec0/expr.ipynb\"><img src=\"data:image/png;base64,iVBORw0KGgoAAAANSUhEUgAAAeYAAAAaBAMAAACQmuIqAAAAMFBMVEX///+6urp2dnaqqqoiIiIQ\n",
       "EBBERETu7u6IiIjc3NwyMjJUVFSYmJhmZmbMzMwAAAD0pS5FAAAAAXRSTlMAQObYZgAABqBJREFU\n",
       "WMPlV11sFFUUPrvT7uy0sz8vKMYYKpBQNE020RiCYhvkgejLCiT8BKWCNOAfE6RI4IENRmz43RBD\n",
       "QB5cjcoDf4vBhrZIF4KJQiIbAghocWPgRUOWH9MW21DPPXfunbt3pohJTTSdZHdm7jnnnvPde853\n",
       "7gBA/GcYPde0JN06s6MIs9XC/qN9MJqu6iL+1eYAnH9j9rHu/cTwMjv5z6bSTIcxD9A+IZ1Fci7m\n",
       "Jvb23UgAjXYPdB3pYE/xvDsUKynydZuzquyqf4YzPT+KVdpx7smMN5V5tEM3vVrp+A1Fu9IRxUDa\n",
       "tQLzBPa2d0R2N4HTLWXuamTy5BTx4saCKqvx2dcUYPVN/hg+CHDEkeqRCYO6qWqeaAZzAUgNzVFO\n",
       "aEvMO1l1N48I5nIdQCP+oE0OnfSk5q13QZXZdbr9VwAGXyTzS1Z+eam+/uGUbqqal3GTu5NCQ3d0\n",
       "UjiTmNlyxFIjgnk7uj3LeGKuHGr1pAbfQikz0/y+5vMZL3JevYcJmeEbySou1ifVG/2mwpwcY/oe\n",
       "KgkN3VGrcCYx25N37/5oZJhrBf66cflCXkZHvNWMEXMosiX0H98vcjB0B984AfzCbuFbUv18gOkS\n",
       "z/FSNByQGrojimGJwBxhOd3b0jL9AZobBWPcd+xPXM9e5hQTyarvmHIJ4y7KfPz6paIrW3kOLNzD\n",
       "BhrfKWvfGtomnnqppu9wdeS2Od/4TRu8QBDv0xlXw++IYmgQmKuZ4nGA5RVQbozfQmDcbrDm3E/I\n",
       "Szv4pvAiMlb0XMxoY/hwG+BakXMRrIRThTmyPoloMi5PQd04iGL+TaVhxff2oV5+RooN0v7c4+p4\n",
       "9QeYTpV28YG2C3JyvyOKgWnbuFrWPiZ8FEyVXSFUhHH0wIktfhCs+eIFHue3bwEO6GMQHRjfMJl6\n",
       "P65WHWyH53Eyr+o+KbmyeOo8ZdgYKk2FPq0zi3gRVtFZKZHmU/FK95mO8XpVHxhCI8ARxUDaV7Jw\n",
       "ioRVEC0IbtjaU8B3iCiYr+PSXwSDcwus5bd27CT6GETEqS6RZEeddlqxmzKyRiEzYR7tRZlWeM6M\n",
       "GS6HsXQeBIGWt4BE0mMlzbTskUaa0lto644oBtK2ZoIxk1apUCVKauMj7zmw3gHbw2wuxL+zEHEP\n",
       "5rWcY9DwFX0MEk0KZkB/lZgnSpnRB+WSG4Y8ZwDgypuDykxfOGKqcFOAqYc5kQdLwaw78jCfQjZb\n",
       "zzbYzP2O//WHN5dsIpyqWW4hE+ZomjBXo+PNY49DlPbWvAexvDaG0wq+qk7xfDQrcvtNKYvl4AOR\n",
       "bmaTbEBobt3lrYpFSelKU0EkH2Dq5Xa5APZt6djnSOa2cVfwNiw/jME77dUpfrQxLwylPMxVeWoV\n",
       "vwFMqm2eDSHyHurf8DJoY7w981zDpfweyeNDpA1GFTyN5klZTZHiOk0Dx2T/RlVcSaZs3LLaSteT\n",
       "rrrLtbopmTtue471s0eurTuiGE6r/Rm/K3GpQ7Af4FfX+560h5lIcBYSHSQZE8bJIpyDTaCNYXsW\n",
       "JYLNwRiMpK0M71XmH/x0JGSILDQom80qsVIxLJiNrvLElTBhuVDHfEwGmLIf18ZzQbTfKrjaPkeV\n",
       "vYpj5quI+36tpaUlY2Lt31Qw41TGXHiWPWYFvkgdI4rKMfPi0FHB/E1gLps0fgvLUozWXMQKP9Qn\n",
       "ZCjcyrLsU07WB1w6qA11tReEcmf9CxB31QHGOQGm7Me0ueMrbULb54jFQNoKZpvNGE/HYR2lWAri\n",
       "zR7mSHFXqjUJDzEGhxKE+EKk4AJoY+o1v/LsGWIwojlFxkhJHB6NTo+3hTJe78APUn1TgCk3D2V9\n",
       "jn2O/GdPlwbCuTDUsglizYKQCYr1auYpXKNVyH5PYNPFs/rHWSg78Hq8pIxpl/dlUU+Lyo5SkYKU\n",
       "HYFWZIxwJvDAZ7v3t/nhEdXt/FsBptzc9jn2O2IxkLaGefX7lyaB+RrDfKPnssLbsOezLqcEVY65\n",
       "bNoGB2JJZMnwoctwrU0d0z8KRWXz0w4LbMEqTzYdFittfRjM3UNJV716b1OA6VoIwIwaPkcUw1rw\n",
       "Y3bJB+vZexMp+xiSUTTlfbmKE4w6ph3ORdOlzAE258nLnmzKVganIxizCOD6QqFuN2QDTDsqtL3J\n",
       "fY4ohg6JOZy+32eFwFxe6sgj4hSsfFFCyph+7XLv22BYWbT0YB9ru4JNhzEP0N4mnVHfNfc9COaa\n",
       "2fj3HH/Oq+nkjf0/rvNUcvax+6hUYLFppcLO3439h69nCjAqr78AhMMfCwNELz0AAAAASUVORK5C\n",
       "YII=\n",
       "\" style=\"display:inline;vertical-align:middle;\" /></a> <a class=\"ProveItLink\" href=\"__pv_it/27e1fbd3e839b56413b718b861688376f7c2caa00/proof.ipynb\" style=\"text-decoration: none\">&#x22A2;&nbsp;</a><a class=\"ProveItLink\" href=\"__pv_it/e16eba53b0be132ecdb115b19c32e9f6e91766930/expr.ipynb\"><img src=\"data:image/png;base64,iVBORw0KGgoAAAANSUhEUgAAAE0AAAAVBAMAAADx+n4ZAAAAMFBMVEX////u7u5mZmaYmJi6urqq\n",
       "qqp2dnbMzMwQEBBEREQyMjLc3NwiIiJUVFSIiIgAAAAeC3ydAAAAAXRSTlMAQObYZgAAAXJJREFU\n",
       "KM+dkT9Lw0AYh39t2iaxNgYnneogHUTRQdyEuhah/QYNAZ1EXBzFDjrpIHRyaqpfoF9ADO5CcXCR\n",
       "SjZBsI21WhD/3XuXuwa6+YPnzdPkTS/3HvCPpIJxX40AXn47ndsW2QGVxOODcpbknoDlEzBPSJpU\n",
       "zK035RQvAvoHkGbA4kvlNyrKKWsRsAaA1mdi2PSzyp8Kp8xEwAyB3DuTEr+/yGtJbcisCDDFVs+f\n",
       "MSnQ7fXTOwhPuA6ubWTmwMGhA/2Gnl3y938QeSYVosc+3ROgd79d4GM5opIdIvL9pI9zNsiaAA35\n",
       "yQMq6VC6bQT053oowBfifRlfedXWh6M+vS/7jvn22soXYNVG61oD2VfngwuUX/CXNE9gvso+lx9H\n",
       "UfkSyiuQc5lufMsj2qRStpXPdpfZHCaKglEMms5zzLETPzcVzYHWrivP+QnazW5ELE0YTV/5pGM6\n",
       "7PQ8QTxX0NyW8nR3nl1zLUE82WDcnwR/Yg9mYrHVncgAAAAASUVORK5CYII=\n",
       "\" style=\"display:inline;vertical-align:middle;\" /></a></span>"
      ],
      "text/plain": [
       "{forall_{x in S | Q(x) , R(x)} P(x) , f(y) in S , Q(f(y)) , R(f(y))} |- P(f(y))"
      ]
     },
     "execution_count": 27,
     "metadata": {},
     "output_type": "execute_result"
    }
   ],
   "source": [
    "basicForallSpec = basicForallExpr.specialize({x:fy}, assumptions=assumptions)\n",
    "basicForallSpec"
   ]
  },
  {
   "cell_type": "markdown",
   "metadata": {},
   "source": [
    "We have proven, somewhat trivially, that $P(f(y))$ is true assuming that $\\forall_{x \\in S~|~Q(x)} P(x)$, $f(y) \\in S$, $Q(f(y))$ are all true statements.\n",
    "\n",
    "Let us take a look at the proof for this statement:"
   ]
  },
  {
   "cell_type": "code",
   "execution_count": 28,
   "metadata": {},
   "outputs": [
    {
     "data": {
      "text/html": [
       "<table><tr><th>&nbsp;</th><th>step type</th><th>requirements</th><th>statement</th></tr>\n",
       "<tr><td>0</td><td>specialization</td><td>1, 2, 3, 4</td><td><span style=\"font-size:20px;\"><a class=\"ProveItLink\" href=\"__pv_it/c490834fe238a72b9d23405f02d775f1c58d12ec0/expr.ipynb\"><img src=\"data:image/png;base64,iVBORw0KGgoAAAANSUhEUgAAAeYAAAAaBAMAAACQmuIqAAAAMFBMVEX///+6urp2dnaqqqoiIiIQ\n",
       "EBBERETu7u6IiIjc3NwyMjJUVFSYmJhmZmbMzMwAAAD0pS5FAAAAAXRSTlMAQObYZgAABqBJREFU\n",
       "WMPlV11sFFUUPrvT7uy0sz8vKMYYKpBQNE020RiCYhvkgejLCiT8BKWCNOAfE6RI4IENRmz43RBD\n",
       "QB5cjcoDf4vBhrZIF4KJQiIbAghocWPgRUOWH9MW21DPPXfunbt3pohJTTSdZHdm7jnnnvPde853\n",
       "7gBA/GcYPde0JN06s6MIs9XC/qN9MJqu6iL+1eYAnH9j9rHu/cTwMjv5z6bSTIcxD9A+IZ1Fci7m\n",
       "Jvb23UgAjXYPdB3pYE/xvDsUKynydZuzquyqf4YzPT+KVdpx7smMN5V5tEM3vVrp+A1Fu9IRxUDa\n",
       "tQLzBPa2d0R2N4HTLWXuamTy5BTx4saCKqvx2dcUYPVN/hg+CHDEkeqRCYO6qWqeaAZzAUgNzVFO\n",
       "aEvMO1l1N48I5nIdQCP+oE0OnfSk5q13QZXZdbr9VwAGXyTzS1Z+eam+/uGUbqqal3GTu5NCQ3d0\n",
       "UjiTmNlyxFIjgnk7uj3LeGKuHGr1pAbfQikz0/y+5vMZL3JevYcJmeEbySou1ifVG/2mwpwcY/oe\n",
       "KgkN3VGrcCYx25N37/5oZJhrBf66cflCXkZHvNWMEXMosiX0H98vcjB0B984AfzCbuFbUv18gOkS\n",
       "z/FSNByQGrojimGJwBxhOd3b0jL9AZobBWPcd+xPXM9e5hQTyarvmHIJ4y7KfPz6paIrW3kOLNzD\n",
       "BhrfKWvfGtomnnqppu9wdeS2Od/4TRu8QBDv0xlXw++IYmgQmKuZ4nGA5RVQbozfQmDcbrDm3E/I\n",
       "Szv4pvAiMlb0XMxoY/hwG+BakXMRrIRThTmyPoloMi5PQd04iGL+TaVhxff2oV5+RooN0v7c4+p4\n",
       "9QeYTpV28YG2C3JyvyOKgWnbuFrWPiZ8FEyVXSFUhHH0wIktfhCs+eIFHue3bwEO6GMQHRjfMJl6\n",
       "P65WHWyH53Eyr+o+KbmyeOo8ZdgYKk2FPq0zi3gRVtFZKZHmU/FK95mO8XpVHxhCI8ARxUDaV7Jw\n",
       "ioRVEC0IbtjaU8B3iCiYr+PSXwSDcwus5bd27CT6GETEqS6RZEeddlqxmzKyRiEzYR7tRZlWeM6M\n",
       "GS6HsXQeBIGWt4BE0mMlzbTskUaa0lto644oBtK2ZoIxk1apUCVKauMj7zmw3gHbw2wuxL+zEHEP\n",
       "5rWcY9DwFX0MEk0KZkB/lZgnSpnRB+WSG4Y8ZwDgypuDykxfOGKqcFOAqYc5kQdLwaw78jCfQjZb\n",
       "zzbYzP2O//WHN5dsIpyqWW4hE+ZomjBXo+PNY49DlPbWvAexvDaG0wq+qk7xfDQrcvtNKYvl4AOR\n",
       "bmaTbEBobt3lrYpFSelKU0EkH2Dq5Xa5APZt6djnSOa2cVfwNiw/jME77dUpfrQxLwylPMxVeWoV\n",
       "vwFMqm2eDSHyHurf8DJoY7w981zDpfweyeNDpA1GFTyN5klZTZHiOk0Dx2T/RlVcSaZs3LLaSteT\n",
       "rrrLtbopmTtue471s0eurTuiGE6r/Rm/K3GpQ7Af4FfX+560h5lIcBYSHSQZE8bJIpyDTaCNYXsW\n",
       "JYLNwRiMpK0M71XmH/x0JGSILDQom80qsVIxLJiNrvLElTBhuVDHfEwGmLIf18ZzQbTfKrjaPkeV\n",
       "vYpj5quI+36tpaUlY2Lt31Qw41TGXHiWPWYFvkgdI4rKMfPi0FHB/E1gLps0fgvLUozWXMQKP9Qn\n",
       "ZCjcyrLsU07WB1w6qA11tReEcmf9CxB31QHGOQGm7Me0ueMrbULb54jFQNoKZpvNGE/HYR2lWAri\n",
       "zR7mSHFXqjUJDzEGhxKE+EKk4AJoY+o1v/LsGWIwojlFxkhJHB6NTo+3hTJe78APUn1TgCk3D2V9\n",
       "jn2O/GdPlwbCuTDUsglizYKQCYr1auYpXKNVyH5PYNPFs/rHWSg78Hq8pIxpl/dlUU+Lyo5SkYKU\n",
       "HYFWZIxwJvDAZ7v3t/nhEdXt/FsBptzc9jn2O2IxkLaGefX7lyaB+RrDfKPnssLbsOezLqcEVY65\n",
       "bNoGB2JJZMnwoctwrU0d0z8KRWXz0w4LbMEqTzYdFittfRjM3UNJV716b1OA6VoIwIwaPkcUw1rw\n",
       "Y3bJB+vZexMp+xiSUTTlfbmKE4w6ph3ORdOlzAE258nLnmzKVganIxizCOD6QqFuN2QDTDsqtL3J\n",
       "fY4ohg6JOZy+32eFwFxe6sgj4hSsfFFCyph+7XLv22BYWbT0YB9ru4JNhzEP0N4mnVHfNfc9COaa\n",
       "2fj3HH/Oq+nkjf0/rvNUcvax+6hUYLFppcLO3439h69nCjAqr78AhMMfCwNELz0AAAAASUVORK5C\n",
       "YII=\n",
       "\" style=\"display:inline;vertical-align:middle;\" /></a> <a class=\"ProveItLink\" href=\"__pv_it/27e1fbd3e839b56413b718b861688376f7c2caa00/proof.ipynb\" style=\"text-decoration: none\">&#x22A2;&nbsp;</a><a class=\"ProveItLink\" href=\"__pv_it/e16eba53b0be132ecdb115b19c32e9f6e91766930/expr.ipynb\"><img src=\"data:image/png;base64,iVBORw0KGgoAAAANSUhEUgAAAE0AAAAVBAMAAADx+n4ZAAAAMFBMVEX////u7u5mZmaYmJi6urqq\n",
       "qqp2dnbMzMwQEBBEREQyMjLc3NwiIiJUVFSIiIgAAAAeC3ydAAAAAXRSTlMAQObYZgAAAXJJREFU\n",
       "KM+dkT9Lw0AYh39t2iaxNgYnneogHUTRQdyEuhah/QYNAZ1EXBzFDjrpIHRyaqpfoF9ADO5CcXCR\n",
       "SjZBsI21WhD/3XuXuwa6+YPnzdPkTS/3HvCPpIJxX40AXn47ndsW2QGVxOODcpbknoDlEzBPSJpU\n",
       "zK035RQvAvoHkGbA4kvlNyrKKWsRsAaA1mdi2PSzyp8Kp8xEwAyB3DuTEr+/yGtJbcisCDDFVs+f\n",
       "MSnQ7fXTOwhPuA6ubWTmwMGhA/2Gnl3y938QeSYVosc+3ROgd79d4GM5opIdIvL9pI9zNsiaAA35\n",
       "yQMq6VC6bQT053oowBfifRlfedXWh6M+vS/7jvn22soXYNVG61oD2VfngwuUX/CXNE9gvso+lx9H\n",
       "UfkSyiuQc5lufMsj2qRStpXPdpfZHCaKglEMms5zzLETPzcVzYHWrivP+QnazW5ELE0YTV/5pGM6\n",
       "7PQ8QTxX0NyW8nR3nl1zLUE82WDcnwR/Yg9mYrHVncgAAAAASUVORK5CYII=\n",
       "\" style=\"display:inline;vertical-align:middle;\" /></a></span></td></tr>\n",
       "<tr><td>&nbsp;</td><td colspan=4 style=\"text-align:left\"><span style=\"font-size:20px;\"><a class=\"ProveItLink\" href=\"../packages/proveit/__pv_it/530be409e3083890784cf1d7b28c9e67e90af9360/expr.ipynb\"><img src=\"data:image/png;base64,iVBORw0KGgoAAAANSUhEUgAAAAsAAAAJBAMAAAAWSsseAAAAKlBMVEX///9ERETMzMwQEBAiIiKY\n",
       "mJju7u5mZmaqqqpUVFSIiIh2dnbc3NwAAAA/vyDhAAAAAXRSTlMAQObYZgAAAENJREFUCNdjYDi9\n",
       "8sTyBQxsG1hdmR0YuBm4LnAoMLAxcAowgADzAjB1VoEhgYH1wFoGrgSG3gBhhlMMDImrs3cFMAAA\n",
       "t0YN+iTRa+sAAAAASUVORK5CYII=\n",
       "\" style=\"display:inline;vertical-align:middle;\" /></a> : <a class=\"ProveItLink\" href=\"../packages/proveit/__pv_it/e4f99fbf53c5e24e1c1e622903a7736f418f26ef0/expr.ipynb\"><img src=\"data:image/png;base64,iVBORw0KGgoAAAANSUhEUgAAACgAAAAVBAMAAADGNLEtAAAAMFBMVEX///8yMjLMzMwQEBAiIiJm\n",
       "Zma6urqYmJiqqqp2dnZERETc3NyIiIhUVFTu7u4AAAAe+HC4AAAAAXRSTlMAQObYZgAAAQlJREFU\n",
       "GNNjYMAPciAUewKYent2A5BkugCVDAKTK/sLgCTjA6ggI4jg+/YCRJ2BGcM+AUhwfACz7WCCfAZA\n",
       "gtUBxGQTgNu4Aqj6sm8ASAqo6WUkA/c/BoapQC7/AbDxQMsm5DPwAM1qBHL3K4AEmRMYmBpCGLgW\n",
       "MDAkA7n9YIP4Exj4GGzA2vSB3CkwQQaOfwz6ChDBtWBB5gagZQIMhxkg2m3AglxAixgDwCoKQR4C\n",
       "C3IC3cV6ge07A9hJbP/AgmxAL/CtOfobyBRjYOCBesUarN4B7M1akGEgUMnAcIXhMdA6zgMMhk9g\n",
       "IfaAwZNhJZDxEKggGirIfYGh5ygo1G8jR8ceCMWjwAAAl6o3tGQ/mUwAAAAASUVORK5CYII=\n",
       "\" style=\"display:inline;vertical-align:middle;\" /></a></span></td></tr><tr><td>1</td><td>assumption</td><td></td><td><span style=\"font-size:20px;\"><a class=\"ProveItLink\" href=\"__pv_it/cc34f7b5315f3d6574fd3a62154971f4c078f5e40/expr.ipynb\"><img src=\"data:image/png;base64,iVBORw0KGgoAAAANSUhEUgAAANUAAAAaBAMAAADS0ATRAAAAMFBMVEX///+6urp2dnaqqqoiIiIQ\n",
       "EBBERETu7u6IiIjc3NwyMjJUVFSYmJhmZmbMzMwAAAD0pS5FAAAAAXRSTlMAQObYZgAAA1lJREFU\n",
       "SMe9Vl1IFFEU/tyfmZ39md2nKCIUI9QgGAgi6MelHhJ6GSwwoWILXDQCl8gKenAgKCFLCRHFl62X\n",
       "ECMUQjJDt/ChnlyjxDBhiXqoMJcCpdTs3jv37swOpj2sHtgz934cznfuOeeeuwDUD9hwcU+Y32ft\n",
       "G8+FzhjVvgVshpyhKpAEEhvhfSv/vmD6guCK0sWrQhD4RheHnwzRldrPoVCGVUpw7aSLhwU5TZi4\n",
       "q6Md4M8lK5nH1Um+SqwgXHMlQCX5oSUHvczjojGEtIJwtUWA8TRZ1OSgpjyuYEV3d0dhOqKR/EZJ\n",
       "2EXJHCRpgkuiuZuPx4+s70dhVYa2FvYbkOdpR5A8KuVD+6cAV1pweQ2iRoCGPLezpa3MScTcXnsz\n",
       "Tep9z9x8ND/7lmfqnRjUH8An6tufAi5hLHWSDA16xHFSJqWPmmyHnLRTFaVRzBZmw6iPodSKDVxm\n",
       "AEEd/rQDg2+xdE8FOwIBStCGw8SZTs/ZC4yx8D3wpTiNfGcmRfaQbFyfyaEm4Ta4hRlWIIZA1IFB\n",
       "ElMoHKEjYpBFmqW6w4C7ioWT8ojrcHPb1QSaEwhaXPJpmgRIYnCOMO0x4E07MISjNi7gVI4reJSo\n",
       "5hQL6xvR5QO3M8E081PNc2KOTJ1xebkJvzrNGUw7McylOZeXdovyBzLPYWW76EM0DJCcJwa9mt9M\n",
       "ybsVzeLy0HHzFl+5CakuleKWXREnxq6XmUxyhNe+LG6RIyXt9ws4RM5ehEdWQ/XoFleYFqWaumMm\n",
       "lIDIbviSTgyNohSk0d1Lkq4Y9p43uVjn4xdp2Hg8bsgRyFkbF4nRXYMD3IT7PQ931oHJkytPRSdH\n",
       "IdeXlbbS9o/kcwVpPKqu4jp7RjWoMYtLSndpTRFs4SZsAfxESHdiNqn9x4zidXUlXQjQGoZioukY\n",
       "l3LW2HsfuMxNyDBVeqEuQIp+t2EOsYDyVbiu3Jgqg3yOcs3OvLf1IXoeDCcyINeCmWAC6hJ2L7er\n",
       "VYYNc0juTZGTq3DxopJ6WTvx0OwgRfZp1oMUFG+jZn+k8galeCtZpkwul77WuBVcc3UJyHxDZ8UX\n",
       "EbQNc0gX/95l+jiz7vsfLv8Jog7yQMlPTDQ7tpaEjpkz9PkaNv32TdB8P8rWw1b5f3gRmyt/ATXl\n",
       "7zwy9ARtAAAAAElFTkSuQmCC\n",
       "\" style=\"display:inline;vertical-align:middle;\" /></a> <a class=\"ProveItLink\" href=\"__pv_it/97f65e66334f81f9bc96ba788d4ee9fa9db76fe10/proof.ipynb\" style=\"text-decoration: none\">&#x22A2;&nbsp;</a><a class=\"ProveItLink\" href=\"__pv_it/2e0510d8a2c6ac8754072c25d302dfbfdfd144ab0/expr.ipynb\"><img src=\"data:image/png;base64,iVBORw0KGgoAAAANSUhEUgAAAL8AAAAXBAMAAACoi4O2AAAAMFBMVEX///8QEBC6urrMzMxUVFRm\n",
       "ZmZERETc3NwyMjKqqqp2dnaIiIiYmJgiIiLu7u4AAAAU9Wx4AAAAAXRSTlMAQObYZgAAAvNJREFU\n",
       "SMe1VV1IFFEU/tbZndmf2dmBHiQr2Yd+Hnpwo6QIQlHRhwinUIMkWHtYIR/cB0lIgqUegogY6Aei\n",
       "IHsITUEW+oFQcuklKMJ9rpcVooeiXEjtB9HOvXPvzjiBRqwHZu65354537nnnHsW2GopbYXT/WJ9\n",
       "RU+RKW+r4TXWudh2ooNpSrOAQingMVNuVCXuRA7oy5ISrqSFkAu0aOmqEDSNAg/owXQFeuOwheyq\n",
       "EMwmgTmLlPoKNA/oY8PDl6pT2kF6OinWmlwFUmm7nMm83/xjLcUXeyPsJ2Ass9JSmrTJjnu9QJQO\n",
       "1Ar0r/PVODHDv0w62y9nuqhwF53NUWe5s9Q94Meg/AaOsQyFC8BnvCvsAiJ0mN0wcl7/NRYauOJU\n",
       "XrkCrVZuEHVYdRNhy4chtjjxaIwpAQJGMYub5MwE4ogVhG/jWXeB9lA9BAco/B5E8sLCiSWYRrDo\n",
       "w6CuynZNsvvbzsMrE3EhLtv2+b5vJSyUoLsExk56zUHNCpNW/o7nEbB8GBJFDwGwQxIYuUOkTbY8\n",
       "TekW/7hOHJkTxExOEBAmosUXUujyY2iyBEGAlV37DsNJEfpbKI+l9oAddk58cs12CeLs1p/FEWFC\n",
       "FWPSMP0w6cf4NXByRSl/HSvjJRWLpe82Ha0G1912GDJdggRLdB3zwU2YV5JxxHJ+DIMy09SbkRXV\n",
       "1PJOmyLAi/WDeiyTyeSNJIyyh4CiidTjljARzs4jUvZhRs/acdmHRRgDUxMzrGPZqXTGrJgKPrJf\n",
       "IzaUtEugWiP2fBJ7hQlXgF8ImX7MI7XeUSEKFM1FEWRtEUrLluEE2rb83cvAV2FC00u7CmUVavGg\n",
       "B/OJC0xK5dOL3ikY5xhBY/dpTxdh6FpbKQXqZG6CU1BWML6UVT7kPZhPKuN6/RWmklAN3J2c4Xuo\n",
       "WjHbHfC6/IPxYL7BJf9wgtmN5pskaOorwRAbdnsPy/A8mE9GxPoE/0IQ3k6v+yIkeuRg8WL/Jc3e\n",
       "je6M5qnNsL/kDzvlwW8VdFq5AAAAAElFTkSuQmCC\n",
       "\" style=\"display:inline;vertical-align:middle;\" /></a></span></td></tr>\n",
       "<tr><td>2</td><td>assumption</td><td></td><td><span style=\"font-size:20px;\"><a class=\"ProveItLink\" href=\"__pv_it/ff5ef57408b631e3fcbb7041c8d2110fc29968820/expr.ipynb\"><img src=\"data:image/png;base64,iVBORw0KGgoAAAANSUhEUgAAAGUAAAAVBAMAAACtcD09AAAAMFBMVEX///9ERETc3NyqqqpUVFS6\n",
       "urrMzMwyMjIQEBCIiIh2dnYiIiLu7u5mZmaYmJgAAABJJ2g3AAAAAXRSTlMAQObYZgAAAeNJREFU\n",
       "OMuNlD0sQ1EUx/9tPf3w3vM12ITRxGZUIhESYiSRaMJg08XkI0JYSNRCOmliEdKkm9ClJhEDg4/B\n",
       "51CRWBSJxIJzzn237SMVHc6999zzO/d8vFMA9i3+/SvfbuDF3C9WDqrF7i8FzbMM5uRgdnewKuzc\n",
       "Xfw2z95cPwCXvA3Nisaz+UnSn3EM/L8Q/z0OyP1WEXMy1EIyri3sxE+mB/BF3UybyGVtYSotjibT\n",
       "u7LxvlPkMTdzxcKI5t3WqpRndLDGG50iLia71EvSoojMZALNGSTFslEj8H6tySqMpXx/OHkiZOSw\n",
       "AbSKtqaQz8bXC/fmmfdj/TpcIED7ESuFamBAsqoqMN7sCmfrPwVGF0Xjky5VEpMJxPjRcUliKZ12\n",
       "asBZcDdQR7EMROSc0gzaMuXvDpNvMUCWJjMV3IQyyccjtwHu0SWCszq2VL72FJL3VeejXqCAmCRv\n",
       "mBYHj2LapxlupxWGq9YnUokQecMZhglVtT7W36q1B6zCzQxLIwx+8yB+R0WdUMWajiimzOhsv//B\n",
       "rKurOZE7hW/H11WoG1yMHa5XmifymDJpRkKxEgMkjE1MYMopEM1CRcJD5TwsNakyPyZlZycbnGaH\n",
       "4Yuf06aj1JwuqFHZLNI1qSUY+eP/4BsM/XwEOw1GmQAAAABJRU5ErkJggg==\n",
       "\" style=\"display:inline;vertical-align:middle;\" /></a> <a class=\"ProveItLink\" href=\"__pv_it/85a2fba5b525f179cf213d9593cd76399494ca160/proof.ipynb\" style=\"text-decoration: none\">&#x22A2;&nbsp;</a><a class=\"ProveItLink\" href=\"__pv_it/61e78fb3db4ab1d80e53b282290f659b16dcb5260/expr.ipynb\"><img src=\"data:image/png;base64,iVBORw0KGgoAAAANSUhEUgAAAFEAAAAVBAMAAADMaB9/AAAAMFBMVEX///8yMjLMzMwQEBAiIiJm\n",
       "Zma6urqYmJiqqqp2dnZERETc3NyIiIhUVFTu7u4AAAAe+HC4AAAAAXRSTlMAQObYZgAAAZBJREFU\n",
       "KM9jYCAdsB2A0GV41Lw9uwFI6kJ5rAoYCtivhj5PADFW9hcASTmYuACGSnEGvvUgmu/bCyDJcwAm\n",
       "XomukHcCA0MjiMHxAUQyP4BJPIZQfAddXCDG7we6RwfsMAcQmQg3gqsBTCnWwQTygQJKIOde9g0A\n",
       "UpFA/DKSgfsfAyeIy8C9Dq51/x+oJ/kPQFzNwDAhn4HnAwMH2E6uDXCVPP//r4Y7g4HBjIGBqSGE\n",
       "gWsBA5sBiP8KyUvbL38G+6IfzPsG9AODDcgCJrAPk11cYD4CgvmgcGSYAlPJwPGPQV8BqlIXEe5A\n",
       "/B6sci2YbwEKBQGGwwxQ25/AVT4FuRDsahswfzkQMwaAtLGD7eQtgKkEBXosJIrA/KkgMy+wfWeA\n",
       "hhKfG0xlyAEGngXgNPQPzE8Bya45+htoMjgxMGwMgqq8kHt3OSS0IB5kBruE0wEemwy9Ii4oiaWW\n",
       "C+IgdmAyuMLwGBhxc3AkTkOYJ4GpzpNhJdAJAjhUVkZDGXsZGHqOAp3Iu4FQ7uCGJtBDOOQB/WVa\n",
       "/6Nv0sgAAAAASUVORK5CYII=\n",
       "\" style=\"display:inline;vertical-align:middle;\" /></a></span></td></tr>\n",
       "<tr><td>3</td><td>assumption</td><td></td><td><span style=\"font-size:20px;\"><a class=\"ProveItLink\" href=\"__pv_it/7d9bd72453095aac9b98adab765d973f84f35f320/expr.ipynb\"><img src=\"data:image/png;base64,iVBORw0KGgoAAAANSUhEUgAAAGEAAAAVBAMAAACkm51HAAAAMFBMVEX///9ERETc3NyqqqpUVFS6\n",
       "urrMzMwyMjIQEBCIiIh2dnYiIiLu7u5mZmaYmJgAAABJJ2g3AAAAAXRSTlMAQObYZgAAAe9JREFU\n",
       "OMuNUz1IHGEQfd6fut5tBAWJjbZWXqqQ6o5UBhsLQa2yRQo7bdJooZiYRLC4QkQR4cAioogWNoqg\n",
       "oJCQNEcKBQVNIQg2CYIhJEfivJlv93K5xoU3+75l33xv5psPgH+Oez6ptU6+0rvVn4dqud9nQOoV\n",
       "l43fGWMba88sT57xaK4z4vIcO+CEwZtkfB8gsUdSf8DYnvsacRIHrEaKD80SXnO5qE5vDyOutoqG\n",
       "fxTjZBdMOUsWV6fGNcOkoaLI/CDblOKSo2SZLUbj+rQ4RIruZlVk5V/u7fdsl2D80yliZWADBlVk\n",
       "JNMF60RHIPUpe1DQeoUXn2szH8Pwjd+Hxcu+NuWnoIFtR3cA46nsGerEwCAM9bL3izfuX8R/Mbsq\n",
       "cmpeeBozuuEIDGiTfQcl3281MRsp1kMF4mWMBBVFE8tMSB0TmphWGrKkraoglyoXUHGldXjSyVxf\n",
       "13xqmqs6rXwGIRfjlF85RN319oreI51Lr6RHjpBn8sk/+K+7eub9Y0tZ0FWSZ5csq4I8/XD5RuhL\n",
       "h4pCLAS+tnSK4+wOeyp0XTslVJQG9H0NXFoxynvxUer3CgZT+KZI/DXzMuFvP4dDfoBdtHO0Hex+\n",
       "pHfsJr2zxLE8rr84hfAnyzygpw7WT/grVbe2q5Y3Bga953c0QIftveUS0AAAAABJRU5ErkJggg==\n",
       "\" style=\"display:inline;vertical-align:middle;\" /></a> <a class=\"ProveItLink\" href=\"__pv_it/d5ecc35fc6d698863275d5d80b7ba540db5b77e80/proof.ipynb\" style=\"text-decoration: none\">&#x22A2;&nbsp;</a><a class=\"ProveItLink\" href=\"__pv_it/a42dcb2a1478b3b87b8f129e549a557692557fd00/expr.ipynb\"><img src=\"data:image/png;base64,iVBORw0KGgoAAAANSUhEUgAAAEwAAAAVBAMAAAAeOBUnAAAAMFBMVEX///+YmJiqqqq6uroQEBBE\n",
       "RETu7u4iIiLMzMwyMjKIiIhUVFRmZmZ2dnbc3NwAAADS0us6AAAAAXRSTlMAQObYZgAAAZdJREFU\n",
       "KM+Vkr1LA0EQxV+8JOTjLtqKBK6x0CYpbNRCQQkYIQRLJRhEEBEhVRoR7z9IwMJKTCEomiKFIFjI\n",
       "ddporhMhonWaKIZo48fM7N0hpHLhLb+7fTszO7vA/8dUPwfSSkCi9XQlvyINnrfOX3ymcesKjxbi\n",
       "ZYZokedCashnBlebeZoW+c8ZT+H3NZ8lq6N0wB9N3pxhGniV1YxnC8+K9E/+eKYqtSqTXuJZsYwl\n",
       "UScvNpMMDue42LGhePsOiR7QAqvJBWPVokKFBmtSOLEzgxhVMAbWnhypSwpKezoWFEfMG4Qo1QRY\n",
       "Xan7i+OILSUFEYeRldAVsD4kR8a3PXg2DPRQsTzbkYTgTEGTcUVszHoVx/CSptLt08gcL4XkCFl4\n",
       "HLVlz7DIKDvGKN8iDFsuAR7rDe0NXkMwfXhigpNq3FitJzbm8HL9m3DfFUJWQLqQI8Xc9uckZsm/\n",
       "LLbZk7KUBEZUgcKXWKeDGDUlIP6jCqLHs7DhvZ8idlHgB+SKnuC8CpFoIHnv2ojH69zIa1d/Rruf\n",
       "Y5boFwSzY5YYqpq0AAAAAElFTkSuQmCC\n",
       "\" style=\"display:inline;vertical-align:middle;\" /></a></span></td></tr>\n",
       "<tr><td>4</td><td>assumption</td><td></td><td><span style=\"font-size:20px;\"><a class=\"ProveItLink\" href=\"__pv_it/1121cdd28130e69f2d6028d91531dd15e9b047a90/expr.ipynb\"><img src=\"data:image/png;base64,iVBORw0KGgoAAAANSUhEUgAAAGEAAAAVBAMAAACkm51HAAAAMFBMVEX////c3NxERESqqqpUVFS6\n",
       "urrMzMwyMjIQEBCIiIh2dnYiIiLu7u5mZmaYmJgAAABXZE4RAAAAAXRSTlMAQObYZgAAAdRJREFU\n",
       "OMuNUz8sA1EY/7XVq9bdsZpISIqFTcTQSgzEUCOTGwy2djGrCCIxGAwMQmIRIjFYdJKQEBYMCIl0\n",
       "kEgsKilJpcH3fe/17orBS37f/b6793vfv3cA7Af8cxnbDfwwc9WvR39ze1gBxgy70QKbVLE/viTn\n",
       "JNkeLze4nNa1Bm7YxLJs65thzjOJHLLtSORdzkQDW54iTQFSHHhVMn07QoVLWhsKfsW6A0wRsMhe\n",
       "qCAbFysKM6vgV7RR1kV6hjPsWXtwuawWDZ+Cdvdy5RbHtgf2LzQ/u0OgDOxCQRQWn2QUV2+lVZG8\n",
       "9MHlG2PSzG4ovPD7Ca43Wkbonb1a9tDkaG503SPYDIxAIUKxx+f4YzAridHpokhAcxMLEjANBcQp\n",
       "7gifV59EwKfYqSgQKiPteIo6LrOG60jnYX9IJl1sW1HhVOUKvKykjtieGodVAo04KJUviII5Jc7y\n",
       "Jw2vu51UfClAO2IXMnJRMLeS4U/86C4pzKuvQbplfCnCHDFcFgVzs33tleikhm+C7prmXmc8Lln/\n",
       "dUvc9Qw8qmKED+GU6o8tKSiFXa2gGz5/7vEcOoicaKj/wzyoUgSSeL70eM8aD6hPw5hVl3+zStL4\n",
       "m0cdBfnPvwF384WxkjQTGwAAAABJRU5ErkJggg==\n",
       "\" style=\"display:inline;vertical-align:middle;\" /></a> <a class=\"ProveItLink\" href=\"__pv_it/964214268e3c781f93b8decc5ac417ba2f6fb9990/proof.ipynb\" style=\"text-decoration: none\">&#x22A2;&nbsp;</a><a class=\"ProveItLink\" href=\"__pv_it/7aa454bcc8446e5a1c8515a46db6a919038056c50/expr.ipynb\"><img src=\"data:image/png;base64,iVBORw0KGgoAAAANSUhEUgAAAE0AAAAVBAMAAADx+n4ZAAAAMFBMVEX///92dnaYmJjc3NxmZmYi\n",
       "IiKqqqq6urrMzMwQEBDu7u4yMjJERERUVFSIiIgAAAArjcN0AAAAAXRSTlMAQObYZgAAAYJJREFU\n",
       "KM+dkbFLw0AUxr+mNU1iWjNUR9HJSSzuog7iINL8BdL/oF1c7FAnN2kXdZMMLgXBIE4dOnQTBAs6\n",
       "asngIIhtcbGDrd57d00C3fzge/nl3bs73jvgH0oH07yiDHz+vr60mE4pWN2nkIVSx9JCP0DDJ2hS\n",
       "sBe+Qib5yjDGQOZbQJavujkqhkxaVkZ2CMwKw/Tot8SrkkkNZdh1oNYRUOH8DsdK2JBdlMZcB/oB\n",
       "ZbYprJ49K7ZyDjY9JLbARq37dsk7bzmOJ5xID9AHdF8afQ8lbvyCQnIIxScpFw9ikHVp3PPVQtQz\n",
       "9AEUe2ZAhxsDaYyAzagu4U7qUPKMYVRniLGuObR2zu3xFuY9ZOvRvTS+QmCJfJsHJwdMfMebNF/a\n",
       "Fmf2g3WRz/FzlLmOeB/VJUzmcvU4CpBq0SmHVFCVD0F83SvkxVOVpSOZIouPGGM+/m6hNAdapx1y\n",
       "xrWom0XlmJowm27IM44txmD50nFtQMvlQ9Z7u+KbyUvHlQym+V36DyXQcmvYczA1AAAAAElFTkSu\n",
       "QmCC\n",
       "\" style=\"display:inline;vertical-align:middle;\" /></a></span></td></tr>\n",
       "</table>"
      ],
      "text/plain": [
       "\tstep type\trequirements\tstatement\n",
       "0\tspecialization\t1, 2, 3, 4\t{forall_{x in S | Q(x) , R(x)} P(x) , f(y) in S , Q(f(y)) , R(f(y))} |- P(f(y))\n",
       "\tx : f(y)\n",
       "1\tassumption\t\t{forall_{x in S | Q(x) , R(x)} P(x)} |- forall_{x in S | Q(x) , R(x)} P(x)\n",
       "2\tassumption\t\t{f(y) in S} |- f(y) in S\n",
       "3\tassumption\t\t{Q(f(y))} |- Q(f(y))\n",
       "4\tassumption\t\t{R(f(y))} |- R(f(y))"
      ]
     },
     "execution_count": 28,
     "metadata": {},
     "output_type": "execute_result"
    }
   ],
   "source": [
    "basicForallSpec.proof()"
   ]
  },
  {
   "cell_type": "markdown",
   "metadata": {},
   "source": [
    "This indicates that the proof requires a *specialization* step (step 0) and explicitly indicates, in the row under step 0, the mapping being performed (mapping $x$ to $f(y)$).  The subsequent proof steps that are required are simply proofs by assumption.  Specifically, the original `Forall` expression must be true and the conditions must be satisfied for the instance $x \\mapsto f(y)$: $f(y) \\in S$, $Q(f(x))$, and $R(f(y))$.  If any of these are not known to be true under the provided assumptions, this step will fail.  In this example, they are trivially true because our assumptions were chosen to be precisely what needed to be true for the *specialization* step to succeed."
   ]
  },
  {
   "cell_type": "markdown",
   "metadata": {},
   "source": [
    "If we leave out our first assumption (*i.e.*, the original `Forall` object itself), **Prove-It** is unable to prove the original `Forall` expression even after attempting to perform automation and the *specialization* step will fail."
   ]
  },
  {
   "cell_type": "code",
   "execution_count": 29,
   "metadata": {},
   "outputs": [
    {
     "name": "stdout",
     "output_type": "stream",
     "text": [
      "EXPECTED ERROR: Unable to prove forall_{x in S | Q(x) , R(x)} P(x) assuming {f(y) in S, Q(f(y)), R(f(y))}: Unable to conclude automatically; the domain has no 'foldAsForall' method and automated generalization failed.\n"
     ]
    }
   ],
   "source": [
    "from proveit import ProofFailure\n",
    "try:\n",
    "    basicForallExpr.specialize({x:fy}, assumptions=assumptions[1:])\n",
    "    assert False, \"Expecting an ProofFailure error; should not make it to this point\"\n",
    "except ProofFailure as e:\n",
    "    print(\"EXPECTED ERROR:\", e)"
   ]
  },
  {
   "cell_type": "markdown",
   "metadata": {},
   "source": [
    "The automation checks to see if the $S$ **Expression** has a `foldAsForall` method that would automate a proof for universal quantification over $S$.  Since $S$ is a simple **Variable** object, no such automation exists.\n",
    "\n",
    "Next we'll see what happens when the instantiated \"instance\" $f(y)$ is not known to be in the domain $S$ (*i.e.*, we omit the assumption that $f(y) \\in S$):"
   ]
  },
  {
   "cell_type": "code",
   "execution_count": 30,
   "metadata": {},
   "outputs": [
    {
     "name": "stdout",
     "output_type": "stream",
     "text": [
      "EXPECTED ERROR: Proof step failed assuming {forall_{x in S | Q(x) , R(x)} P(x), Q(f(y)), R(f(y))}: Unmet specialization requirement: f(y) in S when specializing {forall_{x in S | Q(x) , R(x)} P(x)} |- forall_{x in S | Q(x) , R(x)} P(x) with {x: f(y)}\n"
     ]
    }
   ],
   "source": [
    "from proveit import SpecializationFailure\n",
    "try:\n",
    "    basicForallExpr.specialize({x:fy}, assumptions=assumptions[:1]+assumptions[2:])\n",
    "    assert False, \"Expecting an SpecializationFailure error; should not make it to this point\"\n",
    "except SpecializationFailure as e:\n",
    "    print(\"EXPECTED ERROR:\", e)"
   ]
  },
  {
   "cell_type": "markdown",
   "metadata": {},
   "source": [
    "Finally, we demonstrate the case when one of the \"explicit\" conditions is not met -- first omitting the assumption that $Q(f(y))$ is TRUE:"
   ]
  },
  {
   "cell_type": "code",
   "execution_count": 31,
   "metadata": {},
   "outputs": [
    {
     "name": "stdout",
     "output_type": "stream",
     "text": [
      "EXPECTED ERROR: Proof step failed assuming {forall_{x in S | Q(x) , R(x)} P(x), f(y) in S, R(f(y))}: Unmet specialization requirement: Q(f(y)) when specializing {forall_{x in S | Q(x) , R(x)} P(x)} |- forall_{x in S | Q(x) , R(x)} P(x) with {x: f(y)}\n"
     ]
    }
   ],
   "source": [
    "try:\n",
    "    basicForallExpr.specialize({x:fy}, assumptions=assumptions[:2]+assumptions[3:])\n",
    "    assert False, \"Expecting an SpecializationFailure error; should not make it to this point\"\n",
    "except SpecializationFailure as e:\n",
    "    print(\"EXPECTED ERROR:\", e)"
   ]
  },
  {
   "cell_type": "markdown",
   "metadata": {},
   "source": [
    "then omitting the assumption that $R(f(y))$ is TRUE:"
   ]
  },
  {
   "cell_type": "code",
   "execution_count": 32,
   "metadata": {},
   "outputs": [
    {
     "name": "stdout",
     "output_type": "stream",
     "text": [
      "EXPECTED ERROR: Proof step failed assuming {forall_{x in S | Q(x) , R(x)} P(x), f(y) in S, Q(f(y))}: Unmet specialization requirement: R(f(y)) when specializing {forall_{x in S | Q(x) , R(x)} P(x)} |- forall_{x in S | Q(x) , R(x)} P(x) with {x: f(y)}\n"
     ]
    }
   ],
   "source": [
    "try:\n",
    "    basicForallExpr.specialize({x:fy}, assumptions=assumptions[:3])\n",
    "    assert False, \"Expecting a SpecializationFailure error; should not make it to this point\"\n",
    "except SpecializationFailure as e:\n",
    "    print(\"EXPECTED ERROR:\", e)"
   ]
  },
  {
   "cell_type": "markdown",
   "metadata": {},
   "source": [
    "Also note that you cannot *specialize* a variable that is not one of the `Forall` instance variables. For example, we cannot specialize the propositional function variable $Q$. Recall our basic expression first:"
   ]
  },
  {
   "cell_type": "code",
   "execution_count": 33,
   "metadata": {},
   "outputs": [
    {
     "data": {
      "text/html": [
       "<a class=\"ProveItLink\" href=\"__pv_it/2e0510d8a2c6ac8754072c25d302dfbfdfd144ab0/expr.ipynb\"><img src=\"data:image/png;base64,iVBORw0KGgoAAAANSUhEUgAAAL8AAAAXBAMAAACoi4O2AAAAMFBMVEX///8QEBC6urrMzMxUVFRm\n",
       "ZmZERETc3NwyMjKqqqp2dnaIiIiYmJgiIiLu7u4AAAAU9Wx4AAAAAXRSTlMAQObYZgAAAvNJREFU\n",
       "SMe1VV1IFFEU/tbZndmf2dmBHiQr2Yd+Hnpwo6QIQlHRhwinUIMkWHtYIR/cB0lIgqUegogY6Aei\n",
       "IHsITUEW+oFQcuklKMJ9rpcVooeiXEjtB9HOvXPvzjiBRqwHZu65354537nnnHsW2GopbYXT/WJ9\n",
       "RU+RKW+r4TXWudh2ooNpSrOAQingMVNuVCXuRA7oy5ISrqSFkAu0aOmqEDSNAg/owXQFeuOwheyq\n",
       "EMwmgTmLlPoKNA/oY8PDl6pT2kF6OinWmlwFUmm7nMm83/xjLcUXeyPsJ2Ass9JSmrTJjnu9QJQO\n",
       "1Ar0r/PVODHDv0w62y9nuqhwF53NUWe5s9Q94Meg/AaOsQyFC8BnvCvsAiJ0mN0wcl7/NRYauOJU\n",
       "XrkCrVZuEHVYdRNhy4chtjjxaIwpAQJGMYub5MwE4ogVhG/jWXeB9lA9BAco/B5E8sLCiSWYRrDo\n",
       "w6CuynZNsvvbzsMrE3EhLtv2+b5vJSyUoLsExk56zUHNCpNW/o7nEbB8GBJFDwGwQxIYuUOkTbY8\n",
       "TekW/7hOHJkTxExOEBAmosUXUujyY2iyBEGAlV37DsNJEfpbKI+l9oAddk58cs12CeLs1p/FEWFC\n",
       "FWPSMP0w6cf4NXByRSl/HSvjJRWLpe82Ha0G1912GDJdggRLdB3zwU2YV5JxxHJ+DIMy09SbkRXV\n",
       "1PJOmyLAi/WDeiyTyeSNJIyyh4CiidTjljARzs4jUvZhRs/acdmHRRgDUxMzrGPZqXTGrJgKPrJf\n",
       "IzaUtEugWiP2fBJ7hQlXgF8ImX7MI7XeUSEKFM1FEWRtEUrLluEE2rb83cvAV2FC00u7CmUVavGg\n",
       "B/OJC0xK5dOL3ikY5xhBY/dpTxdh6FpbKQXqZG6CU1BWML6UVT7kPZhPKuN6/RWmklAN3J2c4Xuo\n",
       "WjHbHfC6/IPxYL7BJf9wgtmN5pskaOorwRAbdnsPy/A8mE9GxPoE/0IQ3k6v+yIkeuRg8WL/Jc3e\n",
       "je6M5qnNsL/kDzvlwW8VdFq5AAAAAElFTkSuQmCC\n",
       "\" style=\"display:inline;vertical-align:middle;\" /></a>"
      ],
      "text/plain": [
       "forall_{x in S | Q(x) , R(x)} P(x)"
      ]
     },
     "execution_count": 33,
     "metadata": {},
     "output_type": "execute_result"
    }
   ],
   "source": [
    "basicForallExpr"
   ]
  },
  {
   "cell_type": "markdown",
   "metadata": {},
   "source": [
    "Then try to *specialize* our `Forall` object by instantiating $Q$ with $R$:"
   ]
  },
  {
   "cell_type": "code",
   "execution_count": 34,
   "metadata": {},
   "outputs": [
    {
     "name": "stdout",
     "output_type": "stream",
     "text": [
      "EXPECTED ERROR: Proof step failed assuming {forall_{x in S | Q(x) , R(x)} P(x), f(y) in S, Q(f(y)), R(f(y)), forall_{x in S | Q(x) , R(x)} P(x)}: May only specialize instance variables of directly nested Forall operations when specializing {forall_{x in S | Q(x) , R(x)} P(x)} |- forall_{x in S | Q(x) , R(x)} P(x) with {x: f(y), Q: R}\n"
     ]
    }
   ],
   "source": [
    "try:\n",
    "    basicForallExpr.specialize({x:fy, Q:R}, assumptions=assumptions)\n",
    "    assert False, \"Expecting a SpecializationFailure error; should not make it to this point\"\n",
    "except SpecializationFailure as e:\n",
    "    print(\"EXPECTED ERROR:\", e)"
   ]
  },
  {
   "cell_type": "markdown",
   "metadata": {},
   "source": [
    "You can, of course, *relabel* **Variable**s that are not `Forall` instance variables.  Later in this tutorial we will show that you can *relabel* and *specialize* simultaneously (see the sub-section on ***Specializing and Relabeling Simultaneously***).  You can also *specialize* multiple levels of `Forall` operations simultaneously which is why the previous error message mentions \"nested Forall operations\". "
   ]
  },
  {
   "cell_type": "markdown",
   "metadata": {},
   "source": [
    "### Universal quantification without a domain\n",
    "\n",
    "It is not necessary to specify a domain in a `Forall` **Expression**.  For example, the condition(s) may provide sufficient restrictions for the universal quantification.  Also, any number of conditions may be specified (including no conditions)."
   ]
  },
  {
   "cell_type": "code",
   "execution_count": 35,
   "metadata": {},
   "outputs": [
    {
     "data": {
      "text/html": [
       "<strong id=\"noDomainForallExpr\">noDomainForallExpr:</strong> <a class=\"ProveItLink\" href=\"__pv_it/388b2a6d7ede43340aff64412a75633c2c726c6e0/expr.ipynb\"><img src=\"data:image/png;base64,iVBORw0KGgoAAAANSUhEUgAAAIEAAAAXBAMAAADesTE9AAAAMFBMVEX///8QEBC6urrMzMxUVFRm\n",
       "ZmZERETc3NwyMjKqqqp2dnaIiIiYmJgiIiLu7u4AAAAU9Wx4AAAAAXRSTlMAQObYZgAAAjdJREFU\n",
       "OMulVD9IG1Ec/pJr7pJccgY6BKuVDOrikoKDCCUSRYciBikOlUJddOhgBlGoFIJuIiWgHURBF5Ea\n",
       "CIG6iKKhi2ApZu50Lh1aCkLFShHt79177+56ELnqwd37ve/4fb9/33vAvR/zTl4dYv1Eb40Zn325\n",
       "6UPnfYMDzFJ6BBRKAx+Y8c5f5IYCMJYnI2xnTsg0LdorfwyZDWCdXuzZ0DGnCxX9MRymgJMcGS02\n",
       "dArEtmZm3vrs3yS9QxQtWLAhlbYX4+Nf63hoaWuxM7wEjAvWP6pEKw2sjgJRSqkXmHCcUnz58eI5\n",
       "dewN33SLf8of4CkrIlwFvuNL9TEQoXRaYThJgfdUmYeWlBtEBa1+vr25xYwAARs4xBIVlADi0Kte\n",
       "hieUwAgiFY7JCOq1nGqKKbHfinVGzNW46WEwmulzAjUvwF7hWHMxAE2SwSh0klXK7qRtBj1hMQQk\n",
       "LsafyQmGAOut9gsGrwITWSrV7LdgzhBnon2JLom3OnLg5VDZR/oZDkgMrML3lFwQi64qGlgDHjFH\n",
       "jncJOchqaYSRKzWhVfg0EbAa9tvNQDEiLViWuMVgjNw8EwzBGozX5e19NliWV4xRKwnFYVBzs8XT\n",
       "FNol3u6VWtKtatGkaCHqMGgPKytzwE+JH3sZHKAkjW+7o2WXHqYW+sw0aMocH/Yy2KfbLcZ/FAW0\n",
       "UZv0onMJeA6MvGEe5OsyZMZMGGIjtel6ZsX6EXUZwo30WROB/usK7XFvYvx0l2/1+AtKHIIOJzuX\n",
       "rwAAAABJRU5ErkJggg==\n",
       "\" style=\"display:inline;vertical-align:middle;\" /></a><br>"
      ],
      "text/plain": [
       "noDomainForallExpr: forall_{x | Q(x)} P(x)"
      ]
     },
     "execution_count": 35,
     "metadata": {},
     "output_type": "execute_result"
    }
   ],
   "source": [
    "noDomainForallExpr = Forall(x, Px, conditions=[Qx])"
   ]
  },
  {
   "cell_type": "markdown",
   "metadata": {},
   "source": [
    "We can verify the absence of an explicit domain in a variety of ways:"
   ]
  },
  {
   "cell_type": "code",
   "execution_count": 36,
   "metadata": {},
   "outputs": [
    {
     "data": {
      "text/plain": [
       "False"
      ]
     },
     "execution_count": 36,
     "metadata": {},
     "output_type": "execute_result"
    }
   ],
   "source": [
    "noDomainForallExpr.hasDomain()"
   ]
  },
  {
   "cell_type": "code",
   "execution_count": 37,
   "metadata": {},
   "outputs": [],
   "source": [
    "assert noDomainForallExpr.domain is None  # The Forall object's domain is None"
   ]
  },
  {
   "cell_type": "markdown",
   "metadata": {},
   "source": [
    "We can use the `exprInfo()` method to examine the internal structure of the expression:"
   ]
  },
  {
   "cell_type": "code",
   "execution_count": 38,
   "metadata": {},
   "outputs": [
    {
     "data": {
      "text/html": [
       "<table><tr><th>&nbsp;</th><th>core type</th><th>sub-expressions</th><th>expression</th></tr>\n",
       "<tr><td>0</td><td>Operation</td><td>operator:&nbsp;1<br>operand:&nbsp;2<br></td><td><a class=\"ProveItLink\" href=\"__pv_it/388b2a6d7ede43340aff64412a75633c2c726c6e0/expr.ipynb\"><img src=\"data:image/png;base64,iVBORw0KGgoAAAANSUhEUgAAAIEAAAAXBAMAAADesTE9AAAAMFBMVEX///8QEBC6urrMzMxUVFRm\n",
       "ZmZERETc3NwyMjKqqqp2dnaIiIiYmJgiIiLu7u4AAAAU9Wx4AAAAAXRSTlMAQObYZgAAAjdJREFU\n",
       "OMulVD9IG1Ec/pJr7pJccgY6BKuVDOrikoKDCCUSRYciBikOlUJddOhgBlGoFIJuIiWgHURBF5Ea\n",
       "CIG6iKKhi2ApZu50Lh1aCkLFShHt79177+56ELnqwd37ve/4fb9/33vAvR/zTl4dYv1Eb40Zn325\n",
       "6UPnfYMDzFJ6BBRKAx+Y8c5f5IYCMJYnI2xnTsg0LdorfwyZDWCdXuzZ0DGnCxX9MRymgJMcGS02\n",
       "dArEtmZm3vrs3yS9QxQtWLAhlbYX4+Nf63hoaWuxM7wEjAvWP6pEKw2sjgJRSqkXmHCcUnz58eI5\n",
       "dewN33SLf8of4CkrIlwFvuNL9TEQoXRaYThJgfdUmYeWlBtEBa1+vr25xYwAARs4xBIVlADi0Kte\n",
       "hieUwAgiFY7JCOq1nGqKKbHfinVGzNW46WEwmulzAjUvwF7hWHMxAE2SwSh0klXK7qRtBj1hMQQk\n",
       "LsafyQmGAOut9gsGrwITWSrV7LdgzhBnon2JLom3OnLg5VDZR/oZDkgMrML3lFwQi64qGlgDHjFH\n",
       "jncJOchqaYSRKzWhVfg0EbAa9tvNQDEiLViWuMVgjNw8EwzBGozX5e19NliWV4xRKwnFYVBzs8XT\n",
       "FNol3u6VWtKtatGkaCHqMGgPKytzwE+JH3sZHKAkjW+7o2WXHqYW+sw0aMocH/Yy2KfbLcZ/FAW0\n",
       "UZv0onMJeA6MvGEe5OsyZMZMGGIjtel6ZsX6EXUZwo30WROB/usK7XFvYvx0l2/1+AtKHIIOJzuX\n",
       "rwAAAABJRU5ErkJggg==\n",
       "\" style=\"display:inline;vertical-align:middle;\" /></a></td></tr>\n",
       "<tr><td>1</td><td>Literal</td><td></td><td><a class=\"ProveItLink\" href=\"../packages/proveit/logic/boolean/quantification/universal/__pv_it/265f8c02ac1094d56e0e6410a1c1fd3500dc9f540/expr.ipynb\"><img src=\"data:image/png;base64,iVBORw0KGgoAAAANSUhEUgAAAAwAAAAQBAMAAADQT4M0AAAAMFBMVEX///8QEBC6urrMzMxUVFRm\n",
       "ZmZERETc3NwyMjKqqqp2dnaIiIiYmJgiIiLu7u4AAAAU9Wx4AAAAAXRSTlMAQObYZgAAAFhJREFU\n",
       "CNdjeMAABhdAxGmGlSCqj6EMSLInMHAAJVknMPAsLy+vBYp8S0u7BaScGRjSgZQKA18DkOJl4D4A\n",
       "pLgP8IJM4mswARuX7gSmpoKNZWDcAKZ4gCoAgTQTILaSE58AAAAASUVORK5CYII=\n",
       "\" style=\"display:inline;vertical-align:middle;\" /></a></td></tr>\n",
       "<tr><td>2</td><td>Lambda</td><td>parameter:&nbsp;8<br>body:&nbsp;3<br>conditions:&nbsp;4<br></td><td><a class=\"ProveItLink\" href=\"__pv_it/66a073c6ffa60e82b679d7973b0705c4caf215460/expr.ipynb\"><img src=\"data:image/png;base64,iVBORw0KGgoAAAANSUhEUgAAAKEAAAAVCAMAAAAZ1H7nAAAANlBMVEX///+6uroUFBQNDQ0yMjJE\n",
       "RETMzMwQEBAiIiKYmJju7u5mZmaqqqpUVFSIiIh2dnbc3NwAAACltDI1AAAAAXRSTlMAQObYZgAA\n",
       "AeVJREFUSMfFlll2hCAQRSFhnora/2aDQ4sgAnpykvrBbvHyqAkI+Stzkfyj0VD+1vQ6B+ivYMYW\n",
       "PKJPpnz2ifD1LCuGCiNYAH/WNIWZMWTrwOUhkZnLJDZSCGxd3av87RRmwgTCllf7mNwarrM0dBUa\n",
       "xvcneThuDjMTZtyW0mg/i1z3TozsKmTqCCSaR5gJ47iNHt2e381QcNdRaPFIMNg33MNECD66YEM7\n",
       "+M4109DgJ04WPql/5oC9VxiPbxeFboQx6Y1WmsjD8apEe9NIQ6EOBUxvkkuOY/cKLepTSMQIA2tu\n",
       "pWdxo9D4WKShB0iNIv8nt6UrDpX3ChXmTaMcYpbJnp9Z31+qMIn0nIZ1Qu9vK47Ae4WY1eeO0MfI\n",
       "otArHxJ/rkJUpK2w4nQVZgY7KriLiWsumBuFNhZpWFcAkS5XQOb0oswwu1CMMTqucSfhRqEIrW54\n",
       "bghbilcc3akUlyAxBEGEpGOMS3XFk9CYhZS93VTd8NJXt75Sc3rdhoBaShYcjxMYwwMYgKAnmrWx\n",
       "PF0b6sOJrj6vOYz2zhTqGQS1xFU8xLwyGR+fels8kjotHmJeWet4hzCh0BZH3RzmnV2vTWZ4+1pP\n",
       "dizqbgrzzuLl6unjhEIhpX6MeSuxCkZo3I0DfYf5Aat2F2VUKUO/AAAAAElFTkSuQmCC\n",
       "\" style=\"display:inline;vertical-align:middle;\" /></a></td></tr>\n",
       "<tr><td>3</td><td>Operation</td><td>operator:&nbsp;5<br>operand:&nbsp;8<br></td><td><a class=\"ProveItLink\" href=\"../packages/proveit/__pv_it/8c735c381b4cbf3c87e86ca2468da4e5c976f9b00/expr.ipynb\"><img src=\"data:image/png;base64,iVBORw0KGgoAAAANSUhEUgAAAC4AAAAVBAMAAADLKsFqAAAAMFBMVEX////u7u5mZmaYmJi6urqq\n",
       "qqp2dnbMzMwQEBBEREQyMjLc3NwiIiJUVFSIiIgAAAAeC3ydAAAAAXRSTlMAQObYZgAAAQlJREFU\n",
       "GNNjYCACsDyA0MwOIPLt/7t3z24AsWphCtTB5C8GBs5uEGMhTJwLRLB/Y2BgBWIGvgcwceYEEPcL\n",
       "kPEJyOAQgIkzNgAJzg8MDLxfgQwvhAumAjH/AgYG+QlAhhoQb3u79RHQuCQgsz6Bgf0QSNFioAEJ\n",
       "zIc5DjAwRAG576+lqYGd2cLAwMbA94G1gIHBA8idD7MOaD8jAy/IRIZ6IP7DgBAHOuoBVJz9E0y8\n",
       "FUTsL2AQAJvD9wUmPhnojw3vGfiA4lZA53+EiQMdF28wg2EfmCk0/y/M+z4MDJLPxPIMgMwlyMHM\n",
       "sQElHBhQQgsM2B6gxAs8nKVQ42svjHEbVZwbqp2vgAEAALg9cr1t3EsAAAAASUVORK5CYII=\n",
       "\" style=\"display:inline;vertical-align:middle;\" /></a></td></tr>\n",
       "<tr><td>4</td><td>ExprTuple</td><td>6</td><td><a class=\"ProveItLink\" href=\"__pv_it/391c07dca19d75c8ff66d450f9282cbcf4bcd79c0/expr.ipynb\"><img src=\"data:image/png;base64,iVBORw0KGgoAAAANSUhEUgAAADwAAAAVBAMAAADocZC/AAAAMFBMVEX////c3NwiIiJERESqqqqY\n",
       "mJh2dnZmZmYQEBDu7u4yMjJUVFTMzMyIiIi6uroAAAAs73DqAAAAAXRSTlMAQObYZgAAAVNJREFU\n",
       "KM+Fkr9Lw0AUx7/RJibV1AziUkQH3RUUHfwLXNpZHIoIDtI1k6CDrhIQOjgJIiiIaEcXMxY6mEkH\n",
       "EcVJOhXUQZDo990PiiL44HO8b753997dBfgnStlfyn3SoC1qNN7Q39t23qbhlHhnQDOBUSqKmpCr\n",
       "giPm/gW0MrvXFD4XFSeoBz5kTmLtYFvRYbqVSoGcQ6fX5KwiBpxXkd4bh1javB+5Y411CMfc9l3s\n",
       "/k8OVEHNnfJZbQnCHtAnVTHMYqI8hN0Cq71AyI2BClsVFWBwWvSNQmxpHCeJttl+1rN3eK4us4KU\n",
       "FgWMp0js5nN0cuchbckFi3KjR4S0lyFI/6sNrM2ow1JVqgsYgz3YszzTVX0SQ2JT7d826lWm5wo/\n",
       "UssWsaK6in5dqlw9Y750aB9Ch5dp9BNef6nWeg96YCgr1drVX8vWvjQ4P34mq8JU8Q0x71wzGFfP\n",
       "FwAAAABJRU5ErkJggg==\n",
       "\" style=\"display:inline;vertical-align:middle;\" /></a></td></tr>\n",
       "<tr><td>5</td><td>Variable</td><td></td><td><a class=\"ProveItLink\" href=\"../packages/proveit/__pv_it/6369c6c8083c513ca7161ace249642d040f9327d0/expr.ipynb\"><img src=\"data:image/png;base64,iVBORw0KGgoAAAANSUhEUgAAABAAAAAOBAMAAADUAYG5AAAAMFBMVEX////u7u5mZmaYmJi6urqq\n",
       "qqp2dnbMzMwQEBBEREQyMjLc3NwiIiJUVFSIiIgAAAAeC3ydAAAAAXRSTlMAQObYZgAAAGBJREFU\n",
       "CNdjYGB4+//u3bMbGIDgFwMDZzeQZv/GwMAKxAx8XxgYmD8BGZwfGBh4vwIZ/AsYGOQnABn1CQzs\n",
       "h0Ca3l9LUwPrni/AAAF/oDT7JygDZAwYcH6E0ELz/z4A0QBnpRnRyxnfJQAAAABJRU5ErkJggg==\n",
       "\" style=\"display:inline;vertical-align:middle;\" /></a></td></tr>\n",
       "<tr><td>6</td><td>Operation</td><td>operator:&nbsp;7<br>operand:&nbsp;8<br></td><td><a class=\"ProveItLink\" href=\"../packages/proveit/__pv_it/050bcffbb388a0b365dac8afc3d37833b4bb47300/expr.ipynb\"><img src=\"data:image/png;base64,iVBORw0KGgoAAAANSUhEUgAAAC0AAAAVBAMAAAAgHXppAAAAMFBMVEX///+YmJiqqqq6uroQEBBE\n",
       "RETu7u4iIiLMzMwyMjKIiIhUVFRmZmZ2dnbc3NwAAADS0us6AAAAAXRSTlMAQObYZgAAASNJREFU\n",
       "GNNjYCACWEFpYTDJd+fuLjCDYwNUnKcBRN5sYOAuAzE4E2AaJwBxZgCQ8AbxVsENlAXi6SDGeZBS\n",
       "N7h4CtCsHyDGfQMGBuYJcHFWBYb3AWBxBaCKC0A33NqndYqBgfcAw3kBkHg80AWcQFYug7iAOwMD\n",
       "0wSGerAjvgAxC9CsCwzrGTSARjqARRiY/gIJfqB4AsNWsE8+MHwHu9wNKs7A4AUVnw+i9UEeZFEA\n",
       "ef4HAxvYHH2DVys4nMGOA9orx/WBYRkDA+MEBt6yC7yqD0DiQMcxfWR14FsAZjJYz12uwAAyh7mA\n",
       "gS3q2t2FIPvAVrE2MIID0A85HEDiByzhoQUBt8Ak9//PDCjhzAYJKQ4XAUgEweKF+wFqPL6C0isY\n",
       "GABRcT+tFx/ALwAAAABJRU5ErkJggg==\n",
       "\" style=\"display:inline;vertical-align:middle;\" /></a></td></tr>\n",
       "<tr><td>7</td><td>Variable</td><td></td><td><a class=\"ProveItLink\" href=\"../packages/proveit/__pv_it/98124f92e6e1fc3772af50ac63eaa1f5624776f20/expr.ipynb\"><img src=\"data:image/png;base64,iVBORw0KGgoAAAANSUhEUgAAAA8AAAASBAMAAAB2sJk8AAAAMFBMVEX///+YmJiqqqq6uroQEBBE\n",
       "RETu7u4iIiLMzMwyMjKIiIhUVFRmZmZ2dnbc3NwAAADS0us6AAAAAXRSTlMAQObYZgAAAHxJREFU\n",
       "CNdjYGDgu3N3FwMI3Gxg4C4D0pkBQMIbiKeDRM8nMPD8ADHuGzC8DwAzFBjOC4AY8Q0M9Qkgxhcw\n",
       "YmBg+svA8B3E4HRjYJgPYug3ALHBqxUczkAOb9kFXtUHIGHrucsVGBrAtrI2MEIZByzBNAP3/88Q\n",
       "BocL0BoActoerD1tNT4AAAAASUVORK5CYII=\n",
       "\" style=\"display:inline;vertical-align:middle;\" /></a></td></tr>\n",
       "<tr><td>8</td><td>Variable</td><td></td><td><a class=\"ProveItLink\" href=\"../packages/proveit/__pv_it/530be409e3083890784cf1d7b28c9e67e90af9360/expr.ipynb\"><img src=\"data:image/png;base64,iVBORw0KGgoAAAANSUhEUgAAAAsAAAAJBAMAAAAWSsseAAAAKlBMVEX///9ERETMzMwQEBAiIiKY\n",
       "mJju7u5mZmaqqqpUVFSIiIh2dnbc3NwAAAA/vyDhAAAAAXRSTlMAQObYZgAAAENJREFUCNdjYDi9\n",
       "8sTyBQxsG1hdmR0YuBm4LnAoMLAxcAowgADzAjB1VoEhgYH1wFoGrgSG3gBhhlMMDImrs3cFMAAA\n",
       "t0YN+iTRa+sAAAAASUVORK5CYII=\n",
       "\" style=\"display:inline;vertical-align:middle;\" /></a></td></tr>\n",
       "</table>\n"
      ],
      "text/plain": [
       "0. forall_{x | Q(x)} P(x)\n",
       "   core type: Operation\n",
       "   operator: 1\n",
       "   operand: 2\n",
       "1. forall\n",
       "   core type: Literal\n",
       "   sub-expressions: \n",
       "2. x -> P(x) | Q(x)\n",
       "   core type: Lambda\n",
       "   parameter: 8\n",
       "   body: 3\n",
       "   conditions: 4\\n3. P(x)\n",
       "   core type: Operation\n",
       "   operator: 5\n",
       "   operand: 8\n",
       "4. (Q(x))\n",
       "   core type: ExprTuple\n",
       "   sub-expressions: 6\n",
       "5. P\n",
       "   core type: Variable\n",
       "   sub-expressions: \n",
       "6. Q(x)\n",
       "   core type: Operation\n",
       "   operator: 7\n",
       "   operand: 8\n",
       "7. Q\n",
       "   core type: Variable\n",
       "   sub-expressions: \n",
       "8. x\n",
       "   core type: Variable\n",
       "   sub-expressions: "
      ]
     },
     "execution_count": 38,
     "metadata": {},
     "output_type": "execute_result"
    }
   ],
   "source": [
    "noDomainForallExpr.exprInfo()"
   ]
  },
  {
   "cell_type": "markdown",
   "metadata": {},
   "source": [
    "As before, we can implement a specialization or univeral instantiation, where the variable $x$ is replaced with the specific instance $f(y)$. To do so, we include the original `Forall` expression as an assumption, along with the assumption that $Q(f(y))$ is TRUE:"
   ]
  },
  {
   "cell_type": "code",
   "execution_count": 39,
   "metadata": {},
   "outputs": [
    {
     "data": {
      "text/html": [
       "<span style=\"font-size:20px;\"><a class=\"ProveItLink\" href=\"__pv_it/8b1a2320b858064be2887d3d5636c270c16752750/expr.ipynb\"><img src=\"data:image/png;base64,iVBORw0KGgoAAAANSUhEUgAAAPMAAAAaBAMAAACQk3dGAAAAMFBMVEX///+6urp2dnaqqqoiIiIQ\n",
       "EBBERETu7u6IiIjc3NwyMjJUVFSYmJhmZmbMzMwAAAD0pS5FAAAAAXRSTlMAQObYZgAABChJREFU\n",
       "SMfFVl1oXEUU/vbu7r37v3mQWivSpS1kqQQWfBH8yUIfFIqwmkINVMmDhirRXoopUpAs+mAwpQ1F\n",
       "SkMeXAUNUi2rSLGJ1m0oSBG0iUWKFbooeakP3aho1Tb1nDM/d/8Ki5R2YWfOzPlmvpnzNxdA5ifc\n",
       "7l94SfXz07edGkdGuI39hTvwe4abZAXw/tfy9bo/3VUbKnfKpy36RUMdYSFV7olw6sbCwnb2Uaaq\n",
       "Z9L1JvXh5fvVPr9y431+0soaqdDzhtopkJDwe7vsP4A73IKvBErnOPCZKOa4cTdfs7JBVlqo4+z1\n",
       "I70xZ36jCKU/Ju3UopW8D6iJsjlicveJuwtWNsjFFmo51ve9UcdWyTfXSdhpp8atlCiyWTlwo3L1\n",
       "QZmN+s3I8VbqxZmZmWJv1G6D1vxOoROY2S0Y6RI70qHDYYOMz0u7oQUpaKF22djZ0dHnct2p4iqI\n",
       "7O5ZopygNWnCx/MnH7xAXOcM9k/xNx0Myyx9s+NLKNkbyOEdX5CCFuooOyJZhxtUlj7Vvbp8keYO\n",
       "q8HPRnklh8wTbNsasBdnajvI9cYAaQkqd42aj2TiqrQkO6EGDimkoL8jH8SPSeJVsT+46IiKp+OI\n",
       "D5sBHH0eHPp00zKfMkoTOdruUVpd0rqIlKcsD58UK6zJNMm/pIsYVUhBpz8Ezih7FnGgnXqFCH5A\n",
       "WEenZ262R8dMlqh9nJBDNowz5AyD7LpVqdVKQbJPxr2qkAr9dhnhx0V7AI+1UXu72C6BH07p/g8E\n",
       "1MDTrdQSqu/7htopGmoM+pm1JurUNk69Gmv3c21yptafstSxklBHqc1/MlU3aZy5rmmiBWVRr8ng\n",
       "Cd41LFYeEq+rgsfyj7KhNfjgtIlwuLN0if7kyJCljlQlOS7TifwTxHNvkNYqT+jIZ2MNvElXYGfw\n",
       "OxBejU/WV8QcYzaElfyxnIORgg7yGmHOwL5ELTB4lpc9xYwhCdfLmtE8dJQj4WtuKV7W6TLBxt2y\n",
       "F5tfEPWAFLM+K1/ExhrakktRK6dlp5uoCRneiYdY/ttSv7bnXx13oSK83f2bODoTzDDOoNB8fhsy\n",
       "rL6Lm40qJFneN3lpWiEF3Uz9tQQ16pbaPXe0MN6HdezfEu22rr3WDLcV0nvU4GV8K7bmW7ylw0Ju\n",
       "tKV7IVUR1NiKnKWOP1t+4F3gFSoiTsVpfiM6Ho28tMpZeElV2FQOqeqYmiI5WfSGNDLfhdrb/cjr\n",
       "fpDXs+8t+HVEfOx740I/sNRObR9NnfKa+qsbysFziM6ZZ2EOkZybU0iv0oW6raQA91EMxQqdj7Iu\n",
       "2OZTISn2jOnRyi7VzyI1YGrCLMKTSxqp0ELtlG5KfeV5H54ehDu/YY7q/mD3Z6fcKR+06O1irmM3\n",
       "pU6wex7WV7ulX4VpVTtTX7Qrqs2DlCry/bf0O3wMd/T3H9k3GI6eKq8SAAAAAElFTkSuQmCC\n",
       "\" style=\"display:inline;vertical-align:middle;\" /></a> <a class=\"ProveItLink\" href=\"__pv_it/bbcc8143b9565da81e5de4cfabae4666c3f4a36a0/proof.ipynb\" style=\"text-decoration: none\">&#x22A2;&nbsp;</a><a class=\"ProveItLink\" href=\"__pv_it/e16eba53b0be132ecdb115b19c32e9f6e91766930/expr.ipynb\"><img src=\"data:image/png;base64,iVBORw0KGgoAAAANSUhEUgAAAE0AAAAVBAMAAADx+n4ZAAAAMFBMVEX////u7u5mZmaYmJi6urqq\n",
       "qqp2dnbMzMwQEBBEREQyMjLc3NwiIiJUVFSIiIgAAAAeC3ydAAAAAXRSTlMAQObYZgAAAXJJREFU\n",
       "KM+dkT9Lw0AYh39t2iaxNgYnneogHUTRQdyEuhah/QYNAZ1EXBzFDjrpIHRyaqpfoF9ADO5CcXCR\n",
       "SjZBsI21WhD/3XuXuwa6+YPnzdPkTS/3HvCPpIJxX40AXn47ndsW2QGVxOODcpbknoDlEzBPSJpU\n",
       "zK035RQvAvoHkGbA4kvlNyrKKWsRsAaA1mdi2PSzyp8Kp8xEwAyB3DuTEr+/yGtJbcisCDDFVs+f\n",
       "MSnQ7fXTOwhPuA6ubWTmwMGhA/2Gnl3y938QeSYVosc+3ROgd79d4GM5opIdIvL9pI9zNsiaAA35\n",
       "yQMq6VC6bQT053oowBfifRlfedXWh6M+vS/7jvn22soXYNVG61oD2VfngwuUX/CXNE9gvso+lx9H\n",
       "UfkSyiuQc5lufMsj2qRStpXPdpfZHCaKglEMms5zzLETPzcVzYHWrivP+QnazW5ELE0YTV/5pGM6\n",
       "7PQ8QTxX0NyW8nR3nl1zLUE82WDcnwR/Yg9mYrHVncgAAAAASUVORK5CYII=\n",
       "\" style=\"display:inline;vertical-align:middle;\" /></a></span>"
      ],
      "text/plain": [
       "{forall_{x | Q(x)} P(x) , Q(f(y))} |- P(f(y))"
      ]
     },
     "execution_count": 39,
     "metadata": {},
     "output_type": "execute_result"
    }
   ],
   "source": [
    "noDomainForallExpr.specialize({x:fy}, assumptions=[noDomainForallExpr, Function(Q, fy)])"
   ]
  },
  {
   "cell_type": "markdown",
   "metadata": {},
   "source": [
    "### Lambda scope restrictions\n",
    "\n",
    "In `tutorial01_core_expr`, we noted scoping restrictions that apply to **Lambda** expressions in the context of *expression substitution*.  That restriction carries over to *specialization* and is very important.  Consider the following example."
   ]
  },
  {
   "cell_type": "code",
   "execution_count": 40,
   "metadata": {},
   "outputs": [
    {
     "data": {
      "text/html": [
       "<strong id=\"forallExistsExpr\">forallExistsExpr:</strong> <a class=\"ProveItLink\" href=\"__pv_it/c6e8126a3ff210efa36c5254ef7d335b12bd2da40/expr.ipynb\"><img src=\"data:image/png;base64,iVBORw0KGgoAAAANSUhEUgAAAIwAAAAWCAMAAAAl44QpAAAAPFBMVEX///8LCwsYGBgNDQ0oKCgQ\n",
       "EBC6urrMzMxUVFRmZmZERETc3NwyMjKqqqp2dnaIiIiYmJgiIiLu7u4AAACwKje0AAAAAXRSTlMA\n",
       "QObYZgAAAhhJREFUSMfNVtly4yAQZDfLfQzH//9rGBBIkQA5VlK1PNhlPKhbPd0jEfI/rXhbAcFw\n",
       "ottaFDJYX8gND3tWv0xgJOy7k2s5rBbbonPyXKy5aDPel7zjONs2TVyQaUvNpTE3Igs2O9hxtGrE\n",
       "FXlEBuA9YXJLXMdpNyTtMzL0XWFIpB3Hu+rMQB6RYWbNhav5f8p2nKRwBfeMjNzOawdCW5Dnpin+\n",
       "RQxX6nUqcjq5B4Wv9S9FLtSVZmXGbyhZ6+AJbUJLU9a/D/zseXOEJfRZKr+s6TgMS+Jc5deUoWxD\n",
       "qRCWr4Thlkhkq2rvGN1xcBv8QzKJ9RkqrvZg4jxpKfYx1WbytOMgkRB/hkwR6Rpycz5m0S088QuZ\n",
       "3KI2PbP7GAi+JsNAXaNM+2TQBaL9K9Fpf/9Ux+2SSbQFUHJpU0bYhoCLqDG1SzIRSLYxpydT1D57\n",
       "XV0JcSkMMRggtUngzQHHys37rKdiQUZHlsvhZIwaT5s8UZmmhoVjijJ5iyV/PNtwDl2+ZrcUmRbt\n",
       "4tCcGXEyBiv3ExW46NwpDldhsBBkwzLsSMZ3UVF9vlCmx5jy8+Z0UFk5SUa4PA6O8U/EmTor1mR4\n",
       "nVmjx91gDZIqAnKwLTUjnKydlVnnOzJWgDIvv0KMhMGHj9rYRzPDuZszJbv6ahncFi8LQ2x2TLus\n",
       "0N8gAyF89Ue+peEzWo/faG4wgDeUV8iMbsv9yvv4J/2PGZBopJaSAAAAAElFTkSuQmCC\n",
       "\" style=\"display:inline;vertical-align:middle;\" /></a><br>"
      ],
      "text/plain": [
       "forallExistsExpr: forall_{x} [exists_{y} (x != y)]"
      ]
     },
     "execution_count": 40,
     "metadata": {},
     "output_type": "execute_result"
    }
   ],
   "source": [
    "from proveit.logic import NotEquals, Exists\n",
    "from proveit._common_ import Pxy, y, fy\n",
    "forallExistsExpr = Forall(x, Exists(y, NotEquals(x, y)))"
   ]
  },
  {
   "cell_type": "markdown",
   "metadata": {},
   "source": [
    "Note that, while `Forall` ($\\forall$) has a special meaning in the **Prove-It** core, `Exists` ($\\exists$) and `Equals` ($\\neq$) do not (they are defined via **axioms** within the `proveit.logic` package, which we will explain in a later chapter).  We are using them here to make our point more clear.  Just note that `Exists` is another kind of `OperationOverInstances` that operates on a **lambda** function:"
   ]
  },
  {
   "cell_type": "code",
   "execution_count": 41,
   "metadata": {},
   "outputs": [
    {
     "data": {
      "text/html": [
       "<table><tr><th>&nbsp;</th><th>core type</th><th>sub-expressions</th><th>expression</th></tr>\n",
       "<tr><td>0</td><td>Operation</td><td>operator:&nbsp;1<br>operand:&nbsp;2<br></td><td><a class=\"ProveItLink\" href=\"__pv_it/4a1b4a20b7eebdf83e71002c84bfb7ea6ee82aa20/expr.ipynb\"><img src=\"data:image/png;base64,iVBORw0KGgoAAAANSUhEUgAAAF4AAAAWBAMAAAC79zZcAAAAMFBMVEX///9mZmaYmJiqqqrMzMyI\n",
       "iIi6uroyMjIiIiJ2dnZERETu7u4QEBBUVFTc3NwAAADd92qAAAAAAXRSTlMAQObYZgAAAbhJREFU\n",
       "OMtjYCAR8L0DAqwybAHoIkwJDAy8d+/evbMBIRb7/+7d3gcgli+mESIQiusBkth3IP8ciFGNqZ4d\n",
       "Uz3LTwYGZiBmYA3AVM80AUM96zeg8Ecgg2cDpnruAxjquT4A/fQZyEjHFgaLMdTzFzAw7F8AZEgC\n",
       "8cvYx4EQZ+2UZOD7zcAwkYGzo6OjH0m9/wQGlkYQowho/QSmJp4GsPCEfAZWoM3mGObH35wpCeYe\n",
       "Y2DgBKphdgCHgoEEAxfQ1hwM9eth3gT6m5uBdwHUowxHGfiBLvPHUP+DAaEeGEiwQGX+zeDvgFDP\n",
       "FgUNP5aPMPWHQcR7BwaIfYwFDDEMCPds5X/gAw9+CFgEjIcH8QysG8A62AUY1gIpdaj61xkMURDm\n",
       "b5j6iQwM9gprGJ4ycIOcyHiB7RNYkB0UnhsYbjJcBSnauP4vzMUZDAy7IndOVWDgPg/0HvfSwH9A\n",
       "wTKYaccYjqBFJQ88ENjALM4GeHoAgiNsH7CnLRALiG8w7DEA6oGnQduoAvS0Uo2svpNhJZDcDs9l\n",
       "D3gxku9bGAMkYxoIzFsM9+CpcgJmcuTDMIHVAcZiDp1AXHYHAB16eWOM7hkyAAAAAElFTkSuQmCC\n",
       "\" style=\"display:inline;vertical-align:middle;\" /></a></td></tr>\n",
       "<tr><td>1</td><td>Literal</td><td></td><td><a class=\"ProveItLink\" href=\"../packages/proveit/logic/boolean/quantification/existential/__pv_it/da19b8f23feda7f65e2e1ac67a7814d51a597b7d0/expr.ipynb\"><img src=\"data:image/png;base64,iVBORw0KGgoAAAANSUhEUgAAAAsAAAAPBAMAAADAEygDAAAAHlBMVEX///8yMjIiIiJ2dnZERETu\n",
       "7u4QEBBUVFTc3NwAAAASHk26AAAAAXRSTlMAQObYZgAAAClJREFUCNdj4OgAAgYG9vLy8rIABhBg\n",
       "acBLMSspKWk2EKMSSjGCNAQAAOmBC/mFU4xZAAAAAElFTkSuQmCC\n",
       "\" style=\"display:inline;vertical-align:middle;\" /></a></td></tr>\n",
       "<tr><td>2</td><td>Lambda</td><td>parameter:&nbsp;7<br>body:&nbsp;3<br></td><td><a class=\"ProveItLink\" href=\"__pv_it/2694eeb839a76f8c434e6a54deeed37a608d58440/expr.ipynb\"><img src=\"data:image/png;base64,iVBORw0KGgoAAAANSUhEUgAAAG0AAAAVCAMAAAB7V5DIAAAANlBMVEX///8UFBQNDQ2YmJhUVFQy\n",
       "MjIQEBBEREQiIiKqqqrMzMyIiIi6urrc3NxmZmZ2dnbu7u4AAACrLjZHAAAAAXRSTlMAQObYZgAA\n",
       "AZ1JREFUSMfVldtiwyAIht00nk+8/8sOjKZq7ebS3cwbUysf8oPI2L8b3v28h/sbYCcABA4twrVm\n",
       "xY5ltHcCgaNMSl7ujrxleNxwZiGV2dQZw3V7ljzdkBLOBHCIdUXuhcay/L03BecswNQS2VZIoUVO\n",
       "kUIMkJf6GrNMWwbVsl8FCsmJYFzsdR3ZCdVIzENRqG3RI17kRdqsjlfyeQWjupoz2ZuPbHMwa1ik\n",
       "DUq98Ja7WidDkRKe+LEmfQWfVNMV+sT2kuHJJQUPlwKfH3oYEnyftrkm6r+0LNR00JFtodRypi/7\n",
       "IjYm+i4Amq29lTCf7sLALt4i5d09ynPixTCkLc5AeZVRKNQh9oHtaT4IoMQLb9atbltf12eV8HAW\n",
       "g8u9x4HNyXXEHx74gzhrz75LW6lrkoxjM8P4XLke7cQDu+zMyrkIYaMZRIUtec6NL2SEpJyS42fX\n",
       "aLiBfTRdkr7/3sjFQX231tilcwlNH+a+t1W3rdoN7ESqaNysEntjLF6c6q1n59LyDCrr33HGwtNr\n",
       "2nLbs0VgfzPCxgvn6C5+ATRsEJTVt17iAAAAAElFTkSuQmCC\n",
       "\" style=\"display:inline;vertical-align:middle;\" /></a></td></tr>\n",
       "<tr><td>3</td><td>Operation</td><td>operator:&nbsp;4<br>operands:&nbsp;5<br></td><td><a class=\"ProveItLink\" href=\"../packages/proveit/__pv_it/e0e45b9393452be20ed9dd804d04d86a2899b1ba0/expr.ipynb\"><img src=\"data:image/png;base64,iVBORw0KGgoAAAANSUhEUgAAAEIAAAAVBAMAAAAA8SWUAAAAMFBMVEX////u7u5mZmaYmJi6urqq\n",
       "qqp2dnbMzMwQEBBEREQyMjLc3NwiIiJUVFSIiIgAAAAeC3ydAAAAAXRSTlMAQObYZgAAAWhJREFU\n",
       "KM+VUjtPwlAYPaWF0hJK40DURSZcHJgcnBydlNlBGwdH039QnUmUReOiMPgDWHREgombCZOLkhAG\n",
       "44IIPgYf0XOvNzxSFm9yv3v63XPP9yrwr7Ua8ujLwnZ+ms2bCoHZCD+al/YDsAo8bTfMsIUx34Eo\n",
       "N54mBNY9GueVoE+wN4Gh7dJYz0DyDTDKk7I/5E7xZq4IRITgRee83ZJX6SwSPWCLMPBg1kVSOYp6\n",
       "+lW8JhneGhyqrxN2b7ezotg4a4/RG/Vl/vkFWFReIS6pIlNkaEgWVYrYR4rxAuIvDBlUaqnPaA+B\n",
       "LxlmX7nieWEvffxpRsp4hIwi2iGXxUz1SheOKzl2Bic8lnjRU4xYBtjMHaMKTQSONIwXiGqnSt8q\n",
       "ssEqZx7SOzloB6xNO21/0ns22r7CABkVKVpTXR+sxeG8uO8xzdRjrbFJu6OMaxzRzo4NKTH4g8TD\n",
       "jbboz934HKuhyTo+fgFmwVFLOVAG8QAAAABJRU5ErkJggg==\n",
       "\" style=\"display:inline;vertical-align:middle;\" /></a></td></tr>\n",
       "<tr><td>4</td><td>Variable</td><td></td><td><a class=\"ProveItLink\" href=\"../packages/proveit/__pv_it/6369c6c8083c513ca7161ace249642d040f9327d0/expr.ipynb\"><img src=\"data:image/png;base64,iVBORw0KGgoAAAANSUhEUgAAABAAAAAOBAMAAADUAYG5AAAAMFBMVEX////u7u5mZmaYmJi6urqq\n",
       "qqp2dnbMzMwQEBBEREQyMjLc3NwiIiJUVFSIiIgAAAAeC3ydAAAAAXRSTlMAQObYZgAAAGBJREFU\n",
       "CNdjYGB4+//u3bMbGIDgFwMDZzeQZv/GwMAKxAx8XxgYmD8BGZwfGBh4vwIZ/AsYGOQnABn1CQzs\n",
       "h0Ca3l9LUwPrni/AAAF/oDT7JygDZAwYcH6E0ELz/z4A0QBnpRnRyxnfJQAAAABJRU5ErkJggg==\n",
       "\" style=\"display:inline;vertical-align:middle;\" /></a></td></tr>\n",
       "<tr><td>5</td><td>ExprTuple</td><td>6, 7</td><td><a class=\"ProveItLink\" href=\"__pv_it/a6a2ac9310c73e21661c7634808321702fb219240/expr.ipynb\"><img src=\"data:image/png;base64,iVBORw0KGgoAAAANSUhEUgAAACwAAAAVBAMAAADP3xFXAAAAMFBMVEX////c3NwiIiJERESqqqqY\n",
       "mJh2dnZmZmYQEBDu7u4yMjJUVFTMzMyIiIi6uroAAAAs73DqAAAAAXRSTlMAQObYZgAAAQtJREFU\n",
       "GNNjYMAB+C6gi7A+ABKnMVXWAPFKTGEuBgbeC5jCrAkMHBMwhTkbGF5hc4YJQxmQFLstch1i1rQy\n",
       "BsafDAzpDEuBehJYVTkUwMIJ7xl4PzAweDH0MTCwAZksB0CiPA5FDMwGDAwvGP4BVTNwG0DtYuhl\n",
       "4Acadx4kzMDAAXMly0+G8wdAwi0gnvwBBog72Rcw3GAAGWIKdL3AfQbeCWAJrgIGayAVBXQLg3+A\n",
       "BYMsA+cnkOoNfF8ZQA58xMAw+dq03AAGzn4BoJ221z8ChdcxcAjAQxjMYlMAex4YLLAAAuJNDDMc\n",
       "gFIXkAIWJKzGYAYkZwGxNEwY5Hbf66CY2QjEjBgBznuAAQAt5DtyKXSr1gAAAABJRU5ErkJggg==\n",
       "\" style=\"display:inline;vertical-align:middle;\" /></a></td></tr>\n",
       "<tr><td>6</td><td>Variable</td><td></td><td><a class=\"ProveItLink\" href=\"../packages/proveit/__pv_it/530be409e3083890784cf1d7b28c9e67e90af9360/expr.ipynb\"><img src=\"data:image/png;base64,iVBORw0KGgoAAAANSUhEUgAAAAsAAAAJBAMAAAAWSsseAAAAKlBMVEX///9ERETMzMwQEBAiIiKY\n",
       "mJju7u5mZmaqqqpUVFSIiIh2dnbc3NwAAAA/vyDhAAAAAXRSTlMAQObYZgAAAENJREFUCNdjYDi9\n",
       "8sTyBQxsG1hdmR0YuBm4LnAoMLAxcAowgADzAjB1VoEhgYH1wFoGrgSG3gBhhlMMDImrs3cFMAAA\n",
       "t0YN+iTRa+sAAAAASUVORK5CYII=\n",
       "\" style=\"display:inline;vertical-align:middle;\" /></a></td></tr>\n",
       "<tr><td>7</td><td>Variable</td><td></td><td><a class=\"ProveItLink\" href=\"../packages/proveit/__pv_it/f8b9edf8e16034727f0aad55bb83e392c3db40d40/expr.ipynb\"><img src=\"data:image/png;base64,iVBORw0KGgoAAAANSUhEUgAAAAsAAAANBAMAAACN24kIAAAAMFBMVEX///+YmJhUVFQyMjIQEBBE\n",
       "REQiIiKqqqrMzMyIiIi6urrc3NxmZmZ2dnbu7u4AAADXeCicAAAAAXRSTlMAQObYZgAAAFhJREFU\n",
       "CNdj4LtzgWH/AwZerg8M8xkY2nkSGEIZGB6wTGD4ycDAUP+A4weQOszA6QCkbBhYFYDUIYb1AkDq\n",
       "6czzGxhA4BoQMyXwuQMptgusF4AU+8xTQBIAUqMVoSp/SLMAAAAASUVORK5CYII=\n",
       "\" style=\"display:inline;vertical-align:middle;\" /></a></td></tr>\n",
       "</table>\n"
      ],
      "text/plain": [
       "0. exists_{y} P(x , y)\n",
       "   core type: Operation\n",
       "   operator: 1\n",
       "   operand: 2\n",
       "1. exists\n",
       "   core type: Literal\n",
       "   sub-expressions: \n",
       "2. y -> P(x , y)\n",
       "   core type: Lambda\n",
       "   parameter: 7\n",
       "   body: 3\n",
       "3. P(x , y)\n",
       "   core type: Operation\n",
       "   operator: 4\n",
       "   operands: 5\n",
       "4. P\n",
       "   core type: Variable\n",
       "   sub-expressions: \n",
       "5. (x , y)\n",
       "   core type: ExprTuple\n",
       "   sub-expressions: 6, 7\n",
       "6. x\n",
       "   core type: Variable\n",
       "   sub-expressions: \n",
       "7. y\n",
       "   core type: Variable\n",
       "   sub-expressions: "
      ]
     },
     "execution_count": 41,
     "metadata": {},
     "output_type": "execute_result"
    }
   ],
   "source": [
    "Exists(y, Pxy).exprInfo()"
   ]
  },
  {
   "cell_type": "markdown",
   "metadata": {},
   "source": [
    "If we try to specialize $x$ as $y$ in `nestedForall`, this will fail:"
   ]
  },
  {
   "cell_type": "code",
   "execution_count": 42,
   "metadata": {},
   "outputs": [
    {
     "name": "stdout",
     "output_type": "stream",
     "text": [
      "EXPECTED ERROR: Scoping violation while substitutingy -> (x != y).  Must not make substitution with reserved variables (i.e., parameters of a Lambda function).\n",
      "These variables are in violation: {y}\n"
     ]
    }
   ],
   "source": [
    "from proveit import ScopingViolation\n",
    "try:\n",
    "    forallExistsExpr.specialize({x:y}, assumptions={forallExistsExpr})\n",
    "    assert False, \"Expecting an ScopingViolation error; should not make it to this point\"\n",
    "except ScopingViolation as e:\n",
    "    print(\"EXPECTED ERROR:\", e)"
   ]
  },
  {
   "cell_type": "markdown",
   "metadata": {},
   "source": [
    "And of course this *should* fail.  We cannot derive $\\exists_y y \\neq y$ by assuming $\\forall_{ x } \\left[\\exists_y x \\neq y \\right]$.  The former is a stronger statement.  We chose this example, in fact, because the latter can be argued as typically true but the former is never true using reasonable definitions.  Where this goes wrong is in violating the scope of $\\exists_y$.  It is introducing $y$ as a new **variable** within the sub-expression $\\exists_y x \\neq y$.  This **label** is off limits to $x$ which is quantified outside of this sub-expression.  We can *specialize* $x$ to whatever we want as long as we respect these scoping restrictions.\n",
    "\n",
    "In fact, it is not simply $y$ that is off limits; all **expressions** involving $y$ are off limits. Assuming $\\forall_{ x } \\left[\\exists_y x \\neq y \\right]$ should not allow us to derive $\\exists_y f(y) \\neq y$, and the attempted specialization does indeed fail:"
   ]
  },
  {
   "cell_type": "code",
   "execution_count": 43,
   "metadata": {},
   "outputs": [
    {
     "name": "stdout",
     "output_type": "stream",
     "text": [
      "EXPECTED ERROR: Scoping violation while substitutingy -> (x != y).  Must not make substitution with reserved variables (i.e., parameters of a Lambda function).\n",
      "These variables are in violation: {y}\n"
     ]
    }
   ],
   "source": [
    "from proveit import ScopingViolation\n",
    "try:\n",
    "    forallExistsExpr.specialize({x:fy}, assumptions={forallExistsExpr})\n",
    "    assert False, \"Expecting an ScopingViolation error; should not make it to this point\"\n",
    "except ScopingViolation as e:\n",
    "    print(\"EXPECTED ERROR:\", e)"
   ]
  },
  {
   "cell_type": "markdown",
   "metadata": {},
   "source": [
    "It should also be noted that within a scope, a **variable** may be reused with a different meaning.  This should generally be avoided as it makes **expressions** unclear, but the functionality should be well-defined in case it ever happens.  If this happens, we treat it as a distinct **variable** from anything outside of the scope (that just happens to have the same name).  It can be confusing and should be avoided, but it is well-defined.  For example, consider the following nested `Forall` expression:"
   ]
  },
  {
   "cell_type": "code",
   "execution_count": 44,
   "metadata": {},
   "outputs": [
    {
     "data": {
      "text/html": [
       "<strong id=\"redundantInstanceVarExpr\">redundantInstanceVarExpr:</strong> <a class=\"ProveItLink\" href=\"__pv_it/598a1f083de29dd2bccd6e2daa204f8d66f305280/expr.ipynb\"><img src=\"data:image/png;base64,iVBORw0KGgoAAAANSUhEUgAAAM0AAAAVBAMAAAAX/3cYAAAAMFBMVEX///8QEBC6urrMzMxUVFRm\n",
       "ZmZERETc3NwyMjKqqqp2dnaIiIiYmJgiIiLu7u4AAAAU9Wx4AAAAAXRSTlMAQObYZgAAAxpJREFU\n",
       "SMe9lU1oE0EUx19287mbpMGLiB4ieBBE2IL0aEtbVARR8GRFrIgpotI9lAYrYlTwJNJLwVtDULQG\n",
       "S8B4sK006KVUkFIUVLSsB0vpxdAvbdHW92Zms5PM9upAZvLfmf/7zb75WID/VBzliVbyU/F0/Sjz\n",
       "0+Htg8qmqVl4g39nSL+TBx3CX3mrs/OD7SpWTteHMtIJFkme1EDXoxIopgKELIARkg/kCEz8Bgjv\n",
       "rOuKijbiCI4xSE+lfBh3AU44iqkAkAPoJ2u3nBCakr4BENtwFc9BXlhPCQ5z9XvG5D2sAm2KCTnT\n",
       "fEKhQYkToBmZSzhm1VU8TIq3LXOCw2Z9xjNGaQlCm4oJOd8x2pNs9qactv1UhasAwXVX8XKZN+3j\n",
       "Lmc6m83OeP3nLXq8pJiQE8YXWctkvsicLqqaMKM/u4UaKF9/iZl4zGeYS7icpkzmWr7mi6yxx+uK\n",
       "CTkG5roDoEfm3KeqNQ/6R6GS+fjXAM77IY9f4VlGTtCCsF3zhf6wRCwrJuTEcNr7cIoyZwdVk8ef\n",
       "ddlCGWBWY5iTvaw7AZGc4GhtsOD5EpssESnFhBwtRUazInMowdDreCoJQbYfW0EctQ7BwbM34fkY\n",
       "AYbzigk5Oi63WUk4CudvnQqUPM6cOIXEmYA5icO2xG1HMQlOMke+YnvZ4uN30fFZdd2k4JZF1xPL\n",
       "WwxXNGoLzoKOp8UoH2AvGK1S97JqEnmDnnYc7BwJiEN0VRyfmorbk2CiZYpFszmLccJ9WI0Gu1nc\n",
       "2FJk3GpOqybkxGlJh/CFNb7NqND2DW9KarhyAW6IDmgBcScSJ3YO/6SjYnmfL8JIj49J7GuRyF9u\n",
       "5IMAP3pXSp6aH1ssUqg77JRSNS44sJstjNjb2rHiZ9BVE3KiNDhOS6endPfeseVd4Sl+77C8aC7n\n",
       "PalmsNwxF+GtauL3Di+tRs5ouC8blVFq+C7wVq8+hdqYS1pONSGn6Or5V2dH674LoKgF8OUkrwyN\n",
       "1c7Fya20aio0XARu6fNXR/05daV5j4+pAEHbjxMp+SnTavhuf7O2/27Lptez8ALgH4AO6GvgsxT4\n",
       "AAAAAElFTkSuQmCC\n",
       "\" style=\"display:inline;vertical-align:middle;\" /></a><br>"
      ],
      "text/plain": [
       "redundantInstanceVarExpr: forall_{x} (P(x) and [forall_{x} Q(x)])"
      ]
     },
     "execution_count": 44,
     "metadata": {},
     "output_type": "execute_result"
    }
   ],
   "source": [
    "from proveit.logic import And\n",
    "redundantInstanceVarExpr = Forall(x, And(Px, Forall(x, Qx)))"
   ]
  },
  {
   "cell_type": "markdown",
   "metadata": {},
   "source": [
    "Specializing the outer $x$ does not and should not change the inner $x$, which is treated as a distinct **variable**:"
   ]
  },
  {
   "cell_type": "code",
   "execution_count": 45,
   "metadata": {},
   "outputs": [
    {
     "data": {
      "text/html": [
       "<span style=\"font-size:20px;\"><a class=\"ProveItLink\" href=\"__pv_it/f0e632a6c49db51adc435ec3fd1d6ae1b94454670/expr.ipynb\"><img src=\"data:image/png;base64,iVBORw0KGgoAAAANSUhEUgAAAOEAAAAVBAMAAABCnpRGAAAAMFBMVEX///9ERETc3NyqqqpUVFS6\n",
       "urrMzMwyMjIQEBCIiIh2dnYiIiLu7u5mZmaYmJgAAABJJ2g3AAAAAXRSTlMAQObYZgAAA25JREFU\n",
       "SMe9lk1oE0EUx1+STdJsNpumHrT00BgEKQrGi+Kh9ANbKB66h4LtbQ89CB4SCnqwfoRWRbGHgKWg\n",
       "lTa0SG1obU6CteB6qniKCEoR7CKIWIW2UqtUsc6bncnO7kaPDuzMvJ35z2/2zbyZBQD1HfynFCom\n",
       "sVAWQfE29lW1Prh6jZ83/j6+IFIHNVVD5DC+iGxAFEs1L86mlTR0b5081c4tmmK6c9D7UMLik/DK\n",
       "P1/sAo9I1uA11t9gJudATpMyLE6XGvEswL6koynLysOcOI3FRUE5o4O0BG4RIYax+oAR/bWk3C9O\n",
       "/g5mmQJAS4FbNK2x8hInoorKWVrG+lVwiwhRLQhEOslXInEEs0ni+vUyt2h6zpzeYDAifkksbQsH\n",
       "MVs13CJCVHIicS2VSpUEYJB6r5E83Wlu0eSzBpf68oyoTqVSh2xhbBvzBc0tIkTYIxLjiURDQSDG\n",
       "qPGdbORNZvln20+skM5ly3fWjiFE2EwkFm3hEerghbRbhMR5ToyRyUg6+JLixjHRdTsAZ8vMegGf\n",
       "zVsAAWvmD9kaEGInQJ0tXDWpc3S3CInHScs6Np9BF7SSaQupBoMnslWcn+JWASbhGOmYo+0lOMiJ\n",
       "PaDY/oOndH1/eERI7MXJky/ov24NMSES40j0/RIsA9roltlgoSvpjBiFiGkLkQWBHY8IiRms7yWd\n",
       "e1E7AUseYrwkWnDTJkYNFt+EGDGjQiD/pGsy4hFxYhQ3iIROWcYR5NG+TuZV3JKZMgiWfxsPQ8ur\n",
       "zeQZYEQl208qsx2j9KOvYNaie0Tcq3QdZfwU3wHyak6qHWb72WThWLHek8PwHvEnXbMBRkUi1HWQ\n",
       "MYw2SoAWrWksdM0rQuJHMTog8JZkWpivCA2CRsO2Ar99OX+eNYQwBKKc2ExmHITLrOtSQT6a9Ioc\n",
       "0UGJlsPjPEKCJVBe7nYJVv1cEfdWGL9bojs5z4g19DD4yvr2XBhPg+4RIfGck/iFBgrwu2HIcUUM\n",
       "OU+5IK1qjKiiK0K5UOWE0VXdI/KcctZhuTEDBdeJ7bZm3beVlTJyVq4Qy6e9IkKU85yocqJS33zX\n",
       "EG8r591Fu2SrE5/dXpnj76Tdb14RIS5X7kflcZX7299a1ZKS1YmOX4sbpldEiHi3W9sY1Okquqaq\n",
       "1pj7r+PRP/5qBFHkiRbR2X/OH0yyA9bO3j6VAAAAAElFTkSuQmCC\n",
       "\" style=\"display:inline;vertical-align:middle;\" /></a> <a class=\"ProveItLink\" href=\"__pv_it/c4c1779f11cb91b5f9c683a5668cfbf589a473d70/proof.ipynb\" style=\"text-decoration: none\">&#x22A2;&nbsp;</a><a class=\"ProveItLink\" href=\"__pv_it/8ce3e89efbbc0ba67be45d8868c65bd6fe91958d0/expr.ipynb\"><img src=\"data:image/png;base64,iVBORw0KGgoAAAANSUhEUgAAALwAAAAVBAMAAAAOdJm+AAAAMFBMVEX////u7u5mZmaYmJi6urqq\n",
       "qqp2dnbMzMwQEBBEREQyMjLc3NwiIiJUVFSIiIgAAAAeC3ydAAAAAXRSTlMAQObYZgAAAz1JREFU\n",
       "OMu9lU1oE1EQxycfm2TzsQmCRYNiL8aDBeOlQkHpUURq8ejBRKkeRMt6aw9Si3pRKEWxWtQ2oqDe\n",
       "clGQUk21ehALORQV22JooXgwbdNGxS/qzLy3b19ie/XB7P53svPbNzPvvQD8v9H2r/a1CtOH9ebs\n",
       "+gx/yQ1sGUdRXp2ZmcijCBbJv7Xsahw7pGkj0BplQEnzPUmdEY/nQAvsIPETwLyC93CCngYyaaVJ\n",
       "SKMRSUh8oF1/hVwPAKb5+S5ogYQPfgMw0GCBvJ7qRnA0zzErjCMaJT7Sj7enLt3zCC8hStgq6YGE\n",
       "t6qol1H0ktdY4h97VeR5YTS6xySe57jdxYcLePFW6BsJPZDwJgJjX7EpOfJ6C9ygnAq9Lg3H5IKD\n",
       "bx4ZGSm4+F02uXGacAD0QMLHEbUNs/VSCXwfJqgCpBtSEMEJHQdhOJ9c1MHHBwdvZxUo8oPdOEVI\n",
       "UZvLj2dLHET4niwEX1CG1FKIc/FIZw+BhYkdAWEYn/a2S3zMBjOv8N4Vuprf8XIPZ5H1vQwVOIjw\n",
       "i+9OpujVEC/v55Qn6WB7E5iY1H4QBhCFSE7i/UVIumWIVnhi1KGL+DPOyrA5iPDDshtxxmcc7YE+\n",
       "TqUHhAHsA3gv8VCAORfPYMhQtbD+HojRwqIgwv8GHX9aaaMCPbaOH5ObhvBzMKbhucsPEwKPuZdc\n",
       "fHBZvhTiwt5R2puDz6AVx8Ceh/MSn6RtHSi3cTphWswGlR4uyQInnOJYVYk3ubV9SuMmom+1SGM0\n",
       "fYLx5ihejsX6GWdUIwt2Fyd/DRdffhGsBAch3qw4G7uRN63S3qJ/BbSF2U2XgsQbTShaxWLDijbA\n",
       "iVus8M1M+iY8A7kwNwz/kfvYT6H+itKeodlfKO9Lg0nnsCC8yDIuF6f/Y+crCJI6CLB5vqEzLYI6\n",
       "9JOQjjUr52oIFPRDgZP3O/jd9NQFthN8A/Zw0/L1h4IazQB7zbTS07AJGxwoCas5kMU9uHQK1Na9\n",
       "Ks4Rn3JQUA0eT9jLW1z9GgZQJKWtgfcMHZ5XJ9inVeFVB3IS6vCRIjTvdPXRWQqYkrYGvmZ0XRD3\n",
       "UccxVY/nftdpyxZW82f41l7/zzBScgO/jP8F7BDZBjyMa14AAAAASUVORK5CYII=\n",
       "\" style=\"display:inline;vertical-align:middle;\" /></a></span>"
      ],
      "text/plain": [
       "{forall_{x} (P(x) and [forall_{x} Q(x)])} |- P(f(y)) and [forall_{x} Q(x)]"
      ]
     },
     "execution_count": 45,
     "metadata": {},
     "output_type": "execute_result"
    }
   ],
   "source": [
    "redundantInstanceVarExpr.specialize({x:fy}, assumptions={redundantInstanceVarExpr})"
   ]
  },
  {
   "cell_type": "code",
   "execution_count": 46,
   "metadata": {},
   "outputs": [
    {
     "data": {
      "text/html": [
       "<a class=\"ProveItLink\" href=\"__pv_it/4563eab2b8c591bff856226e6e9a5437899e38b90/expr.ipynb\"><img src=\"data:image/png;base64,iVBORw0KGgoAAAANSUhEUgAAAMsAAAAWBAMAAACcdXXxAAAAMFBMVEX///8QEBC6urrMzMxUVFRm\n",
       "ZmZERETc3NwyMjKqqqp2dnaIiIiYmJgiIiLu7u4AAAAU9Wx4AAAAAXRSTlMAQObYZgAAAudJREFU\n",
       "SMe9lk1oE0EYhr/sbjb/P9iDCB724EGQYgJePFm0B6mIIh40lxbE5KJ0D8WKYI2U2ouKB3vuUixS\n",
       "ayGg5BKkQW96CagHBWE9KKIHQ2KLrZo63+xMd34iiAcHMtM3u888k5nZ2QL8n+Jr3xi1fumpcteT\n",
       "af+PfQpM+pZD0RbmF+JNB8jn8dbw8CuXJyzRgtzVgk5eKd2rgcokHdosYb4tdkDDdwB7p3Spytop\n",
       "rlHJ5DTAcV9liAabSyTFxgRLCkdkbgIkNnmi5TlrZ7hGIbM3SBUZUhnUkCZO/NE7giaCA0p1yLSu\n",
       "8UTL+6AxL/pMo5BxnMRoT2VQQ5r0/cnJq+Kc7cXKbgNYGzzRYgc9WvtqTKOQo7h4yY7KoAbR9XL5\n",
       "ragpYZUj0/l1LEjZRQ+u+ZA8SS9/CpaeaGQytk7XZ0NlUIPoEYCKqLmJ1SEPzNcsJY02rJKlCvbA\n",
       "QzjLNRIZ/UmH31UZ1CC6B7JVUbMDq9WRByWXpYPRFpTJw5Cnl1twmWskMtOjs5BXGdQgmoFUU9Tg\n",
       "7MK4HyY/UoMfZO3bmNM1sApMI5FUAPOeyqAG0VQz42uaX2Ka980u15B7zSGmkcgcXbLrvspwTbZK\n",
       "Hlqjvr0Nd+GuXeM0pjOQyvNJmyOfWaaRyDiOItHVGD5pUDkM8CXnFlnHF9hjE6YZsMkPSNN1mGUq\n",
       "1EhkohNrFIqOxqCGonPk504NQp11vIgbpgdCOg37m8GuBBM3eYZrJHLlMyxVdIZvaIjg8zYCx1jH\n",
       "gwAfxr/VwgQfG6Nk18VxpJbDD5MFlTSOLr8BU2NQQ9G0TzfhAD9sXHFDBGmFHzYG/dJhGoWEc/BM\n",
       "Y9hhw8qA0WZ/pT1RQ5LVyuKiLqsvAo2E80ZVY1ATonfrVelFILwWMp7tgfIMCxqBPLHlaAzRhGjM\n",
       "tbZP7wmpuwlINE7hqrj9NSJZ3K0zRBOithceqzHpJc3TI/Ul/VIn+zCpd46AJhreP/4v8Xfkb1lO\n",
       "+qr6ouxfAAAAAElFTkSuQmCC\n",
       "\" style=\"display:inline;vertical-align:middle;\" /></a>"
      ],
      "text/plain": [
       "forall_{y} (P(y) and [forall_{y} Q(y)])"
      ]
     },
     "execution_count": 46,
     "metadata": {},
     "output_type": "execute_result"
    }
   ],
   "source": [
    "redundantInstanceVarExpr.relabeled({x:y})"
   ]
  },
  {
   "cell_type": "markdown",
   "metadata": {},
   "source": [
    "At this time, there is no straightforward way to specialize the inner $x$ itself (another reason to avoid such potentially confusing constructions)."
   ]
  },
  {
   "cell_type": "markdown",
   "metadata": {},
   "source": [
    "### Operand, operator, or operation specialization\n",
    "\n",
    "*Specializing* different parts of an **operation** works essentially the same way as it does with *expression substition*.\n",
    "\n",
    "We will use the `substitution` axiom of `proveit.logic.equality` for demonstrations in this section out of convenience.  **Axioms** and the `proveit.logic` package will be discussed in more detail later.  For now, we note that **axioms** (and **theorems**) are taken to be true statements without proof, as you can see below."
   ]
  },
  {
   "cell_type": "code",
   "execution_count": 47,
   "metadata": {},
   "outputs": [
    {
     "data": {
      "text/html": [
       "<span style=\"font-size:20px;\"> <a class=\"ProveItLink\" href=\"../packages/proveit/logic/equality/_axioms_.ipynb#substitution\" style=\"text-decoration: none\">&#x22A2;&nbsp;</a><a class=\"ProveItLink\" href=\"../packages/proveit/logic/equality/__pv_it/8d36a51e21a3e1f2d1a576f0cfdfe721d403af1e0/expr.ipynb\"><img src=\"data:image/png;base64,iVBORw0KGgoAAAANSUhEUgAAAO8AAAAXBAMAAAARnwX+AAAAMFBMVEX///8QEBC6urrMzMxUVFRm\n",
       "ZmZERETc3NwyMjKqqqp2dnaIiIiYmJgiIiLu7u4AAAAU9Wx4AAAAAXRSTlMAQObYZgAAAvdJREFU\n",
       "SMfFVj1oFEEUfvef293bHKayECJYpIk5wcYqRyRGTBPUQgyiNonCgVuI8QfNIggWEq5QsLttDglB\n",
       "OTAemhRZJIVoc7UorE0QLXIYMIUiznszO7O3uznJQfDBm/123jfzZt+99+YA/pd4vS5MNqLYGPw3\n",
       "/63QFr586MHxURzMyQmJUc7EEEOcTInrIr4s9OCY1mQXf3es74shhjk21xvskbu0e786RW7zcFVi\n",
       "irUTZYY577n2sR85U9294wQlRy2AKazFKDPM+cLVeDY3d7eHSA/ReCGASa5GmWFOtsr158zMxx4c\n",
       "n8dh/cC4j28v33rFolmPEBXHrDsw74E2BaTHAWYxSOON6O5dquMRjb98bDrGpwSrkKeUuA9JytDJ\n",
       "0ZJtWAPI21wPgYl5llmZiu7eJen24ZDb8rEGejvPiuRghKg4xzItmGEFXeRaAN1lhkLc13Vx/AOH\n",
       "fNvHJqSJPBohKo6XaODnp9pcdbeACdfv9eBYaymcaMQ7DnBqXmpLOTZt7CnGtWk0L40ts3glmyL7\n",
       "uWM+SW2vKctiPyVoWeH5ErZfCnXmMwlfHeCcA72oQg2zY2h4R6fzTiRYon/vt46oL6bJk5gtDWkA\n",
       "qKivRGxYa6B7YpvOgpcceECnMGyu8IRiQXWQ5Ml6bxiayrGY7DAI/uagj2vuZbgDceWkOHAWRlyQ\n",
       "5SSOVOG0bRpPwWTwN96Wu/gGgGEcRjwfb6x8W8IcvR9xrDiwsXrRYr1ykCsYniwPSBVT/GUg4Bgn\n",
       "r1CopYEdl20BrwN4p5bZwXmuWqa/4g/ATWtUszX2gIFkWzmmSSG+ga4Do1wJXw1auAsFOemWiSm2\n",
       "JBTEVzEP7sab6RfsAY+btnJMk0J8A11ziYVW8IpE+RpJrQCn4GQdoHZl2upk+Gu7HLs5K92IrWNp\n",
       "YHIdjLolsZCJsOMgJ796mj3TFldxga+zSk3x15SVdYbiG4g04CECUfWxXtq54/icl0LF/xEMuiEO\n",
       "yY7mxDuWhr2W8t5t/RfNBeNeS11EOAAAAABJRU5ErkJggg==\n",
       "\" style=\"display:inline;vertical-align:middle;\" /></a></span>"
      ],
      "text/plain": [
       "|- forall_{f, x, y | x = y} (f(x) = f(y))"
      ]
     },
     "execution_count": 47,
     "metadata": {},
     "output_type": "execute_result"
    }
   ],
   "source": [
    "from proveit.logic.equality._axioms_ import substitution\n",
    "substitution"
   ]
  },
  {
   "cell_type": "code",
   "execution_count": 48,
   "metadata": {},
   "outputs": [
    {
     "data": {
      "text/html": [
       "<table><tr><th>&nbsp;</th><th>step type</th><th>requirements</th><th>statement</th></tr>\n",
       "<tr><td>0</td><td>axiom</td><td></td><td><span style=\"font-size:20px;\"> <a class=\"ProveItLink\" href=\"../packages/proveit/logic/equality/_axioms_.ipynb#substitution\" style=\"text-decoration: none\">&#x22A2;&nbsp;</a><a class=\"ProveItLink\" href=\"../packages/proveit/logic/equality/__pv_it/8d36a51e21a3e1f2d1a576f0cfdfe721d403af1e0/expr.ipynb\"><img src=\"data:image/png;base64,iVBORw0KGgoAAAANSUhEUgAAAO8AAAAXBAMAAAARnwX+AAAAMFBMVEX///8QEBC6urrMzMxUVFRm\n",
       "ZmZERETc3NwyMjKqqqp2dnaIiIiYmJgiIiLu7u4AAAAU9Wx4AAAAAXRSTlMAQObYZgAAAvdJREFU\n",
       "SMfFVj1oFEEUfvef293bHKayECJYpIk5wcYqRyRGTBPUQgyiNonCgVuI8QfNIggWEq5QsLttDglB\n",
       "OTAemhRZJIVoc7UorE0QLXIYMIUiznszO7O3uznJQfDBm/123jfzZt+99+YA/pd4vS5MNqLYGPw3\n",
       "/63QFr586MHxURzMyQmJUc7EEEOcTInrIr4s9OCY1mQXf3es74shhjk21xvskbu0e786RW7zcFVi\n",
       "irUTZYY577n2sR85U9294wQlRy2AKazFKDPM+cLVeDY3d7eHSA/ReCGASa5GmWFOtsr158zMxx4c\n",
       "n8dh/cC4j28v33rFolmPEBXHrDsw74E2BaTHAWYxSOON6O5dquMRjb98bDrGpwSrkKeUuA9JytDJ\n",
       "0ZJtWAPI21wPgYl5llmZiu7eJen24ZDb8rEGejvPiuRghKg4xzItmGEFXeRaAN1lhkLc13Vx/AOH\n",
       "fNvHJqSJPBohKo6XaODnp9pcdbeACdfv9eBYaymcaMQ7DnBqXmpLOTZt7CnGtWk0L40ts3glmyL7\n",
       "uWM+SW2vKctiPyVoWeH5ErZfCnXmMwlfHeCcA72oQg2zY2h4R6fzTiRYon/vt46oL6bJk5gtDWkA\n",
       "qKivRGxYa6B7YpvOgpcceECnMGyu8IRiQXWQ5Ml6bxiayrGY7DAI/uagj2vuZbgDceWkOHAWRlyQ\n",
       "5SSOVOG0bRpPwWTwN96Wu/gGgGEcRjwfb6x8W8IcvR9xrDiwsXrRYr1ykCsYniwPSBVT/GUg4Bgn\n",
       "r1CopYEdl20BrwN4p5bZwXmuWqa/4g/ATWtUszX2gIFkWzmmSSG+ga4Do1wJXw1auAsFOemWiSm2\n",
       "JBTEVzEP7sab6RfsAY+btnJMk0J8A11ziYVW8IpE+RpJrQCn4GQdoHZl2upk+Gu7HLs5K92IrWNp\n",
       "YHIdjLolsZCJsOMgJ796mj3TFldxga+zSk3x15SVdYbiG4g04CECUfWxXtq54/icl0LF/xEMuiEO\n",
       "yY7mxDuWhr2W8t5t/RfNBeNeS11EOAAAAABJRU5ErkJggg==\n",
       "\" style=\"display:inline;vertical-align:middle;\" /></a></span></td></tr>\n",
       "<tr><td>&nbsp;</td><td colspan=4 style-\"text-align:left\"><a class=\"ProveItLink\" href=\"../packages/proveit/logic/equality/_axioms_.ipynb#substitution\">proveit.logic.equality.substitution</a></td></tr></table>"
      ],
      "text/plain": [
       "\tstep type\trequirements\tstatement\n",
       "0\taxiom\t\t|- forall_{f, x, y | x = y} (f(x) = f(y))\n",
       "\tproveit.logic.equality.substitution"
      ]
     },
     "execution_count": 48,
     "metadata": {},
     "output_type": "execute_result"
    }
   ],
   "source": [
    "substitution.proof()"
   ]
  },
  {
   "cell_type": "markdown",
   "metadata": {},
   "source": [
    "Let's grab the $x=y$ condition for use below."
   ]
  },
  {
   "cell_type": "code",
   "execution_count": 49,
   "metadata": {},
   "outputs": [
    {
     "data": {
      "text/html": [
       "<strong id=\"x_eq_y\">x_eq_y:</strong> <a class=\"ProveItLink\" href=\"__pv_it/11c10f4bba158f3c28c22f8b0eddbb73cf6480560/expr.ipynb\"><img src=\"data:image/png;base64,iVBORw0KGgoAAAANSUhEUgAAADMAAAANBAMAAAD2/0vEAAAAMFBMVEX///+6uroyMjJERETMzMwQ\n",
       "EBAiIiKYmJju7u5mZmaqqqpUVFSIiIh2dnbc3NwAAAAWgogoAAAAAXRSTlMAQObYZgAAAKRJREFU\n",
       "GNNjYHh7+tXJAwwogOPmBYb3DQwcF9jTWROAfE4lMNgAZPIyfmA4D6QYeD5wOaDq8uJMYDAGambg\n",
       "NmBAAw2sBxj+gBisB9ClGNY3sHwB0e8dGBpAdqWBAdiISQw8AQwM7A/OM/A0oOnSZGAGOmd9gSnD\n",
       "G3QDZzPIFzAwNJ/tvVOALtV8Zv4DBlzgGg5x7gSOKBxSbBeYL+CQ4jozEUgCABYeKl4jfnQmAAAA\n",
       "AElFTkSuQmCC\n",
       "\" style=\"display:inline;vertical-align:middle;\" /></a><br>"
      ],
      "text/plain": [
       "x_eq_y: x = y"
      ]
     },
     "execution_count": 49,
     "metadata": {},
     "output_type": "execute_result"
    }
   ],
   "source": [
    "x_eq_y = substitution.allConditions()[0]"
   ]
  },
  {
   "cell_type": "markdown",
   "metadata": {},
   "source": [
    "Operator and operand *specialization* are straightforward:"
   ]
  },
  {
   "cell_type": "code",
   "execution_count": 50,
   "metadata": {},
   "outputs": [
    {
     "data": {
      "text/html": [
       "<strong id=\"operatorSubstitution\">operatorSubstitution:</strong> <span style=\"font-size:20px;\"> <a class=\"ProveItLink\" href=\"__pv_it/5964b218b37162f3cd092f7c9c00c4a02cb0a8ff0/proof.ipynb\" style=\"text-decoration: none\">&#x22A2;&nbsp;</a><a class=\"ProveItLink\" href=\"__pv_it/d81d18c668286f2b101d5c1d889a0d141989665f0/expr.ipynb\"><img src=\"data:image/png;base64,iVBORw0KGgoAAAANSUhEUgAAAP8AAAAZBAMAAAAMO+VmAAAAMFBMVEX///8QEBC6urrMzMxUVFRm\n",
       "ZmZERETc3NwyMjKqqqp2dnaIiIiYmJgiIiLu7u4AAAAU9Wx4AAAAAXRSTlMAQObYZgAAA0NJREFU\n",
       "SMfFl0toE1EUhv80k3c6yU5ElAjuinQE9wmttIsiBHShlkIWmmqLkIU0CxGDuBAUGZCC0IWzER+V\n",
       "ErFZWKsNbpSKOiuFQmXqQko3LQgGQYr3MZnHnUkzLlovnORMzp+5X+4959wJ4BnR1a/Yo3F0VfP5\n",
       "tBd7N2KF/w9g+ADI/3CLPq/7tqs6neNGAXT6wQc3AFuDdD3I/OGC140oXdWnTCMAT+j1XTdAUiVv\n",
       "cSMIgENlu7Wu6rhpBGCKvpXcAOx6KtAOvPJzl7uq0xo3AkChIqqQhHRFzgYCOOTnrnVVy1luBCD9\n",
       "qFq9JlbBcrVa1YPM31Pzc6NqV/UlbrQMf5XLKyJAply+rAUBiFBVevRZibux2eGZUSBZFHW2ZOMc\n",
       "YtvAQzCjAIPAuAggKYhWbPAdcrBJXk7jepG7G/jYPAgk2C89c4uOm0xnS7R+pLaA+2BGAY5ArokA\n",
       "PQWsO3pzZ4AQLehtZFTualjCPfL1rLgAliSsjiFKFuMwmFGAXqSank6oYzEQQIbMGiogX+GugSFW\n",
       "7lsipyWRcQAZ0mHyYEYBUs1ewwOwiG+BAR6oeG26ILf3A3BIEtvIKy4AuXacXMwOzCsOgHXas/pK\n",
       "vG44QHK+b7DdUEvtggqRhV2q4ILpIvaT9nG+BWOrdHyhrkMSqeE5XFuA8QFyd2MopDoAolfIatVb\n",
       "4awNMCeV9ks0rW5bARIiu/cZ+G2670h+vSFbLrZChyRexHnivufGAKZ1muh3XFuQGCPB73qqZAPk\n",
       "4u1UsQK84DYNqcXdxJ9oNlb3KUNbgkih5w9cZYgQO3Va7uOY7qWkSXVHDmSswmwHCDiFH2no3JUn\n",
       "557S5I3nxA5kSYimQae6wY0BpGkOhrNhF8AnVmMhxQFwDEqUbYEVIGMfExQtt1MrdkiSuqsV85FP\n",
       "1pKeB5KQ0m9XQXjrMTQhwM+dHDZV9xE0K07vkJzEGnGTdW4WwI+Xo3MegMTIRRtAnpxeMIQAO2Aj\n",
       "LZxwn7WymINOyQomaJWZtvMjWRUj/n2gHWB3SEw2mu7nO6ki6J2SmQZNkGHTdgaYME8vD8CE41i7\n",
       "Co/7onPjMiUphVsXgJmFDp2wHditp2Lxf4G0i/8LCn8BBrrpgFNquAYAAAAASUVORK5CYII=\n",
       "\" style=\"display:inline;vertical-align:middle;\" /></a></span><br>"
      ],
      "text/plain": [
       "operatorSubstitution: |- forall_{x} [forall_{y | x = y} (g(x) = g(y))]"
      ]
     },
     "execution_count": 50,
     "metadata": {},
     "output_type": "execute_result"
    }
   ],
   "source": [
    "from proveit._common_ import f, g\n",
    "operatorSubstitution = substitution.specialize({f:g})"
   ]
  },
  {
   "cell_type": "code",
   "execution_count": 51,
   "metadata": {},
   "outputs": [
    {
     "data": {
      "text/html": [
       "<table><tr><th>&nbsp;</th><th>step type</th><th>requirements</th><th>statement</th></tr>\n",
       "<tr><td>0</td><td>specialization</td><td>1</td><td><span style=\"font-size:20px;\"> <a class=\"ProveItLink\" href=\"__pv_it/5964b218b37162f3cd092f7c9c00c4a02cb0a8ff0/proof.ipynb\" style=\"text-decoration: none\">&#x22A2;&nbsp;</a><a class=\"ProveItLink\" href=\"__pv_it/d81d18c668286f2b101d5c1d889a0d141989665f0/expr.ipynb\"><img src=\"data:image/png;base64,iVBORw0KGgoAAAANSUhEUgAAAP8AAAAZBAMAAAAMO+VmAAAAMFBMVEX///8QEBC6urrMzMxUVFRm\n",
       "ZmZERETc3NwyMjKqqqp2dnaIiIiYmJgiIiLu7u4AAAAU9Wx4AAAAAXRSTlMAQObYZgAAA0NJREFU\n",
       "SMfFl0toE1EUhv80k3c6yU5ElAjuinQE9wmttIsiBHShlkIWmmqLkIU0CxGDuBAUGZCC0IWzER+V\n",
       "ErFZWKsNbpSKOiuFQmXqQko3LQgGQYr3MZnHnUkzLlovnORMzp+5X+4959wJ4BnR1a/Yo3F0VfP5\n",
       "tBd7N2KF/w9g+ADI/3CLPq/7tqs6neNGAXT6wQc3AFuDdD3I/OGC140oXdWnTCMAT+j1XTdAUiVv\n",
       "cSMIgENlu7Wu6rhpBGCKvpXcAOx6KtAOvPJzl7uq0xo3AkChIqqQhHRFzgYCOOTnrnVVy1luBCD9\n",
       "qFq9JlbBcrVa1YPM31Pzc6NqV/UlbrQMf5XLKyJAply+rAUBiFBVevRZibux2eGZUSBZFHW2ZOMc\n",
       "YtvAQzCjAIPAuAggKYhWbPAdcrBJXk7jepG7G/jYPAgk2C89c4uOm0xnS7R+pLaA+2BGAY5ArokA\n",
       "PQWsO3pzZ4AQLehtZFTualjCPfL1rLgAliSsjiFKFuMwmFGAXqSank6oYzEQQIbMGiogX+GugSFW\n",
       "7lsipyWRcQAZ0mHyYEYBUs1ewwOwiG+BAR6oeG26ILf3A3BIEtvIKy4AuXacXMwOzCsOgHXas/pK\n",
       "vG44QHK+b7DdUEvtggqRhV2q4ILpIvaT9nG+BWOrdHyhrkMSqeE5XFuA8QFyd2MopDoAolfIatVb\n",
       "4awNMCeV9ks0rW5bARIiu/cZ+G2670h+vSFbLrZChyRexHnivufGAKZ1muh3XFuQGCPB73qqZAPk\n",
       "4u1UsQK84DYNqcXdxJ9oNlb3KUNbgkih5w9cZYgQO3Va7uOY7qWkSXVHDmSswmwHCDiFH2no3JUn\n",
       "557S5I3nxA5kSYimQae6wY0BpGkOhrNhF8AnVmMhxQFwDEqUbYEVIGMfExQtt1MrdkiSuqsV85FP\n",
       "1pKeB5KQ0m9XQXjrMTQhwM+dHDZV9xE0K07vkJzEGnGTdW4WwI+Xo3MegMTIRRtAnpxeMIQAO2Aj\n",
       "LZxwn7WymINOyQomaJWZtvMjWRUj/n2gHWB3SEw2mu7nO6ki6J2SmQZNkGHTdgaYME8vD8CE41i7\n",
       "Co/7onPjMiUphVsXgJmFDp2wHditp2Lxf4G0i/8LCn8BBrrpgFNquAYAAAAASUVORK5CYII=\n",
       "\" style=\"display:inline;vertical-align:middle;\" /></a></span></td></tr>\n",
       "<tr><td>&nbsp;</td><td colspan=4 style=\"text-align:left\"><span style=\"font-size:20px;\"><a class=\"ProveItLink\" href=\"../packages/proveit/__pv_it/4d51ee1e62d011d06d4528b97697bf3da60c9de60/expr.ipynb\"><img src=\"data:image/png;base64,iVBORw0KGgoAAAANSUhEUgAAAAsAAAASBAMAAAB/WzlGAAAAMFBMVEX///8yMjLMzMwQEBAiIiJm\n",
       "Zma6urqYmJiqqqp2dnZERETc3NyIiIhUVFTu7u4AAAAe+HC4AAAAAXRSTlMAQObYZgAAAFVJREFU\n",
       "CNdjYGBgeHt2A5BkWNlfACT5vr0AcTg+gEgGVgcQyX7ZNwBE8x8AC+5XAFP9YJJhCoRaC6FswCTf\n",
       "NzDF9g9M8QiAyFoukPEMhk/AYpXRIBIAEwsRcZ82juYAAAAASUVORK5CYII=\n",
       "\" style=\"display:inline;vertical-align:middle;\" /></a> : <a class=\"ProveItLink\" href=\"../packages/proveit/__pv_it/b5004dd09038f1a7d88dab9010b943185ce1d3ea0/expr.ipynb\"><img src=\"data:image/png;base64,iVBORw0KGgoAAAANSUhEUgAAAAoAAAANBAMAAABiGeI2AAAALVBMVEX///+6uroiIiLMzMwQEBCq\n",
       "qqru7u7c3NxUVFRERER2dnaIiIhmZmaYmJgAAABs7E5IAAAAAXRSTlMAQObYZgAAAFRJREFUCNdj\n",
       "YGC4s+smAwNPA/sbBoZ7CQxPGRg8GJifM7A+ZeBWYOB+zsB5gIH3AQNfAAPbM4a+AgYGid2HGEBg\n",
       "DgMDIwMbUPm5Ao4GBobI3WcZGAA0kxQNEIuRVgAAAABJRU5ErkJggg==\n",
       "\" style=\"display:inline;vertical-align:middle;\" /></a></span></td></tr><tr><td>1</td><td>axiom</td><td></td><td><span style=\"font-size:20px;\"> <a class=\"ProveItLink\" href=\"../packages/proveit/logic/equality/_axioms_.ipynb#substitution\" style=\"text-decoration: none\">&#x22A2;&nbsp;</a><a class=\"ProveItLink\" href=\"../packages/proveit/logic/equality/__pv_it/8d36a51e21a3e1f2d1a576f0cfdfe721d403af1e0/expr.ipynb\"><img src=\"data:image/png;base64,iVBORw0KGgoAAAANSUhEUgAAAO8AAAAXBAMAAAARnwX+AAAAMFBMVEX///8QEBC6urrMzMxUVFRm\n",
       "ZmZERETc3NwyMjKqqqp2dnaIiIiYmJgiIiLu7u4AAAAU9Wx4AAAAAXRSTlMAQObYZgAAAvdJREFU\n",
       "SMfFVj1oFEEUfvef293bHKayECJYpIk5wcYqRyRGTBPUQgyiNonCgVuI8QfNIggWEq5QsLttDglB\n",
       "OTAemhRZJIVoc7UorE0QLXIYMIUiznszO7O3uznJQfDBm/123jfzZt+99+YA/pd4vS5MNqLYGPw3\n",
       "/63QFr586MHxURzMyQmJUc7EEEOcTInrIr4s9OCY1mQXf3es74shhjk21xvskbu0e786RW7zcFVi\n",
       "irUTZYY577n2sR85U9294wQlRy2AKazFKDPM+cLVeDY3d7eHSA/ReCGASa5GmWFOtsr158zMxx4c\n",
       "n8dh/cC4j28v33rFolmPEBXHrDsw74E2BaTHAWYxSOON6O5dquMRjb98bDrGpwSrkKeUuA9JytDJ\n",
       "0ZJtWAPI21wPgYl5llmZiu7eJen24ZDb8rEGejvPiuRghKg4xzItmGEFXeRaAN1lhkLc13Vx/AOH\n",
       "fNvHJqSJPBohKo6XaODnp9pcdbeACdfv9eBYaymcaMQ7DnBqXmpLOTZt7CnGtWk0L40ts3glmyL7\n",
       "uWM+SW2vKctiPyVoWeH5ErZfCnXmMwlfHeCcA72oQg2zY2h4R6fzTiRYon/vt46oL6bJk5gtDWkA\n",
       "qKivRGxYa6B7YpvOgpcceECnMGyu8IRiQXWQ5Ml6bxiayrGY7DAI/uagj2vuZbgDceWkOHAWRlyQ\n",
       "5SSOVOG0bRpPwWTwN96Wu/gGgGEcRjwfb6x8W8IcvR9xrDiwsXrRYr1ykCsYniwPSBVT/GUg4Bgn\n",
       "r1CopYEdl20BrwN4p5bZwXmuWqa/4g/ATWtUszX2gIFkWzmmSSG+ga4Do1wJXw1auAsFOemWiSm2\n",
       "JBTEVzEP7sab6RfsAY+btnJMk0J8A11ziYVW8IpE+RpJrQCn4GQdoHZl2upk+Gu7HLs5K92IrWNp\n",
       "YHIdjLolsZCJsOMgJ796mj3TFldxga+zSk3x15SVdYbiG4g04CECUfWxXtq54/icl0LF/xEMuiEO\n",
       "yY7mxDuWhr2W8t5t/RfNBeNeS11EOAAAAABJRU5ErkJggg==\n",
       "\" style=\"display:inline;vertical-align:middle;\" /></a></span></td></tr>\n",
       "<tr><td>&nbsp;</td><td colspan=4 style-\"text-align:left\"><a class=\"ProveItLink\" href=\"../packages/proveit/logic/equality/_axioms_.ipynb#substitution\">proveit.logic.equality.substitution</a></td></tr></table>"
      ],
      "text/plain": [
       "\tstep type\trequirements\tstatement\n",
       "0\tspecialization\t1\t|- forall_{x} [forall_{y | x = y} (g(x) = g(y))]\n",
       "\tf : g\n",
       "1\taxiom\t\t|- forall_{f, x, y | x = y} (f(x) = f(y))\n",
       "\tproveit.logic.equality.substitution"
      ]
     },
     "execution_count": 51,
     "metadata": {},
     "output_type": "execute_result"
    }
   ],
   "source": [
    "operatorSubstitution.proof()"
   ]
  },
  {
   "cell_type": "markdown",
   "metadata": {},
   "source": [
    "Note that $x$ and $y$ mapped to themselves by default.  When a mapping is not specified, the default is to map the **variable** to itself.\n",
    "\n",
    "Next we explicitly specialize the operands $x$ and $y$ to $a$ and $b$, respectively, in the original `substitution` axiom (and notice that we must explicitly include the assumption that $a = b$, else the `substitution` axiom will not apply):"
   ]
  },
  {
   "cell_type": "code",
   "execution_count": 52,
   "metadata": {},
   "outputs": [
    {
     "data": {
      "text/html": [
       "<strong id=\"operandSubstitution\">operandSubstitution:</strong> <span style=\"font-size:20px;\"><a class=\"ProveItLink\" href=\"__pv_it/4063298914e48da9080f3519f906780c348a1de40/expr.ipynb\"><img src=\"data:image/png;base64,iVBORw0KGgoAAAANSUhEUgAAAEIAAAAVBAMAAAAA8SWUAAAAMFBMVEX///9ERETc3NyqqqpUVFS6\n",
       "urrMzMwyMjIQEBCIiIh2dnYiIiLu7u5mZmaYmJgAAABJJ2g3AAAAAXRSTlMAQObYZgAAAPVJREFU\n",
       "KM9jYGDgu8eAC2QtApE8uxhwgwwDIMH5Aascj8cGIMlbACS4GrBrZ3eASeJSwW9ASEX8AUIqVjOg\n",
       "qFCZFaGApqJkph9UEuRc1iYGeZAobzkYgNzI85GBP4GBD+TRjAAGBv0HDBfRjGD+w8CxgIGhloEh\n",
       "pQ3I9Wdg2ImmAmg0/wUGBsY6BoaIBAaGjww839BUcF9giH/AwAAKcJYCBqafDMwfeEAad4OBACQ4\n",
       "7h+AuINrAwPPZ6A6M7QAS2DoQvJtHYP1hQWoKlgMeB2QVKjMDJMMQIs5z3uEwpSBgXgVfPhUgNMH\n",
       "z058aQzsOr7FeNMpAKA7QF+x84JNAAAAAElFTkSuQmCC\n",
       "\" style=\"display:inline;vertical-align:middle;\" /></a> <a class=\"ProveItLink\" href=\"__pv_it/45ddd87f46f9c8c5f6125280d2982d0203610b030/proof.ipynb\" style=\"text-decoration: none\">&#x22A2;&nbsp;</a><a class=\"ProveItLink\" href=\"__pv_it/cd0cdac6d02db17fd5ae981e1964728e7496d5ce0/expr.ipynb\"><img src=\"data:image/png;base64,iVBORw0KGgoAAAANSUhEUgAAAGwAAAAVBAMAAABRZRb3AAAAMFBMVEX///8yMjLMzMwQEBAiIiJm\n",
       "Zma6urqYmJiqqqp2dnZERETc3NyIiIhUVFTu7u4AAAAe+HC4AAAAAXRSTlMAQObYZgAAAa5JREFU\n",
       "OMul1E9LAkEUAPBny+5W2mqXOhV+gwq8hBEe6lZg0akIJK9R29GDYNFdDwkdvVVQ5AdQ3A4dAgUh\n",
       "gkAhgw5dxBBSCZHe/FtYZ6tDc9iZnfk9Z3wzswD/Lfus0mN/ES6alTw+R6p8bNPFG/UaI82QLa7S\n",
       "Jj49DU48LmHj511OZoQwOu+kKguiZ+Sw1kGKk54Qox90ZNle0LwclhZEGwihRkiXFrDNpRy2JchY\n",
       "hAv9cT1KgsnExYc4ZicrRSVDT5x46hWTCb9FE4FvWhhusXlM3tVJWnh6+4K0ctBmohQkfQpuRsmE\n",
       "bWzGpdm8bUHSDVhkgv1dP/a9AKxhc04KY1kjZAPgk4kzO+wLjLZrGEsEIaugdZm4oSNKCrx9/FmD\n",
       "L1JdoSXHdrvKCW6bOmBiiY2YYPRgInACcCTNplicYD6UDBVGh60Dd2EaTqMZtw1oxQR5hl2ggu47\n",
       "Vrj8YnnvGsGUFHbYEKR5T84vCh8/HuFfDtedk6BIkhWTkrDTZg0F6dULJ0Gx8Cbui7g4r1JCZiNO\n",
       "giKxI06CuKa14TA9m3cShyiwyhf8+aNQEOIbdC1xAnqw6OUAAAAASUVORK5CYII=\n",
       "\" style=\"display:inline;vertical-align:middle;\" /></a></span><br>"
      ],
      "text/plain": [
       "operandSubstitution: {a = b} |- f(a) = f(b)"
      ]
     },
     "execution_count": 52,
     "metadata": {},
     "output_type": "execute_result"
    }
   ],
   "source": [
    "from proveit._common_ import a, b\n",
    "from proveit.logic import Equals\n",
    "a_eq_b = Equals(a, b)\n",
    "operandSubstitution = substitution.specialize({x:a, y:b}, assumptions=[a_eq_b])"
   ]
  },
  {
   "cell_type": "code",
   "execution_count": 53,
   "metadata": {},
   "outputs": [
    {
     "data": {
      "text/html": [
       "<table><tr><th>&nbsp;</th><th>step type</th><th>requirements</th><th>statement</th></tr>\n",
       "<tr><td>0</td><td>specialization</td><td>1, 2</td><td><span style=\"font-size:20px;\"><a class=\"ProveItLink\" href=\"__pv_it/4063298914e48da9080f3519f906780c348a1de40/expr.ipynb\"><img src=\"data:image/png;base64,iVBORw0KGgoAAAANSUhEUgAAAEIAAAAVBAMAAAAA8SWUAAAAMFBMVEX///9ERETc3NyqqqpUVFS6\n",
       "urrMzMwyMjIQEBCIiIh2dnYiIiLu7u5mZmaYmJgAAABJJ2g3AAAAAXRSTlMAQObYZgAAAPVJREFU\n",
       "KM9jYGDgu8eAC2QtApE8uxhwgwwDIMH5Aascj8cGIMlbACS4GrBrZ3eASeJSwW9ASEX8AUIqVjOg\n",
       "qFCZFaGApqJkph9UEuRc1iYGeZAobzkYgNzI85GBP4GBD+TRjAAGBv0HDBfRjGD+w8CxgIGhloEh\n",
       "pQ3I9Wdg2ImmAmg0/wUGBsY6BoaIBAaGjww839BUcF9giH/AwAAKcJYCBqafDMwfeEAad4OBACQ4\n",
       "7h+AuINrAwPPZ6A6M7QAS2DoQvJtHYP1hQWoKlgMeB2QVKjMDJMMQIs5z3uEwpSBgXgVfPhUgNMH\n",
       "z058aQzsOr7FeNMpAKA7QF+x84JNAAAAAElFTkSuQmCC\n",
       "\" style=\"display:inline;vertical-align:middle;\" /></a> <a class=\"ProveItLink\" href=\"__pv_it/45ddd87f46f9c8c5f6125280d2982d0203610b030/proof.ipynb\" style=\"text-decoration: none\">&#x22A2;&nbsp;</a><a class=\"ProveItLink\" href=\"__pv_it/cd0cdac6d02db17fd5ae981e1964728e7496d5ce0/expr.ipynb\"><img src=\"data:image/png;base64,iVBORw0KGgoAAAANSUhEUgAAAGwAAAAVBAMAAABRZRb3AAAAMFBMVEX///8yMjLMzMwQEBAiIiJm\n",
       "Zma6urqYmJiqqqp2dnZERETc3NyIiIhUVFTu7u4AAAAe+HC4AAAAAXRSTlMAQObYZgAAAa5JREFU\n",
       "OMul1E9LAkEUAPBny+5W2mqXOhV+gwq8hBEe6lZg0akIJK9R29GDYNFdDwkdvVVQ5AdQ3A4dAgUh\n",
       "gkAhgw5dxBBSCZHe/FtYZ6tDc9iZnfk9Z3wzswD/Lfus0mN/ES6alTw+R6p8bNPFG/UaI82QLa7S\n",
       "Jj49DU48LmHj511OZoQwOu+kKguiZ+Sw1kGKk54Qox90ZNle0LwclhZEGwihRkiXFrDNpRy2JchY\n",
       "hAv9cT1KgsnExYc4ZicrRSVDT5x46hWTCb9FE4FvWhhusXlM3tVJWnh6+4K0ctBmohQkfQpuRsmE\n",
       "bWzGpdm8bUHSDVhkgv1dP/a9AKxhc04KY1kjZAPgk4kzO+wLjLZrGEsEIaugdZm4oSNKCrx9/FmD\n",
       "L1JdoSXHdrvKCW6bOmBiiY2YYPRgInACcCTNplicYD6UDBVGh60Dd2EaTqMZtw1oxQR5hl2ggu47\n",
       "Vrj8YnnvGsGUFHbYEKR5T84vCh8/HuFfDtedk6BIkhWTkrDTZg0F6dULJ0Gx8Cbui7g4r1JCZiNO\n",
       "giKxI06CuKa14TA9m3cShyiwyhf8+aNQEOIbdC1xAnqw6OUAAAAASUVORK5CYII=\n",
       "\" style=\"display:inline;vertical-align:middle;\" /></a></span></td></tr>\n",
       "<tr><td>&nbsp;</td><td colspan=4 style=\"text-align:left\"><span style=\"font-size:20px;\"><a class=\"ProveItLink\" href=\"../packages/proveit/__pv_it/4d51ee1e62d011d06d4528b97697bf3da60c9de60/expr.ipynb\"><img src=\"data:image/png;base64,iVBORw0KGgoAAAANSUhEUgAAAAsAAAASBAMAAAB/WzlGAAAAMFBMVEX///8yMjLMzMwQEBAiIiJm\n",
       "Zma6urqYmJiqqqp2dnZERETc3NyIiIhUVFTu7u4AAAAe+HC4AAAAAXRSTlMAQObYZgAAAFVJREFU\n",
       "CNdjYGBgeHt2A5BkWNlfACT5vr0AcTg+gEgGVgcQyX7ZNwBE8x8AC+5XAFP9YJJhCoRaC6FswCTf\n",
       "NzDF9g9M8QiAyFoukPEMhk/AYpXRIBIAEwsRcZ82juYAAAAASUVORK5CYII=\n",
       "\" style=\"display:inline;vertical-align:middle;\" /></a> : <a class=\"ProveItLink\" href=\"../packages/proveit/__pv_it/4d51ee1e62d011d06d4528b97697bf3da60c9de60/expr.ipynb\"><img src=\"data:image/png;base64,iVBORw0KGgoAAAANSUhEUgAAAAsAAAASBAMAAAB/WzlGAAAAMFBMVEX///8yMjLMzMwQEBAiIiJm\n",
       "Zma6urqYmJiqqqp2dnZERETc3NyIiIhUVFTu7u4AAAAe+HC4AAAAAXRSTlMAQObYZgAAAFVJREFU\n",
       "CNdjYGBgeHt2A5BkWNlfACT5vr0AcTg+gEgGVgcQyX7ZNwBE8x8AC+5XAFP9YJJhCoRaC6FswCTf\n",
       "NzDF9g9M8QiAyFoukPEMhk/AYpXRIBIAEwsRcZ82juYAAAAASUVORK5CYII=\n",
       "\" style=\"display:inline;vertical-align:middle;\" /></a>, <a class=\"ProveItLink\" href=\"../packages/proveit/__pv_it/530be409e3083890784cf1d7b28c9e67e90af9360/expr.ipynb\"><img src=\"data:image/png;base64,iVBORw0KGgoAAAANSUhEUgAAAAsAAAAJBAMAAAAWSsseAAAAKlBMVEX///9ERETMzMwQEBAiIiKY\n",
       "mJju7u5mZmaqqqpUVFSIiIh2dnbc3NwAAAA/vyDhAAAAAXRSTlMAQObYZgAAAENJREFUCNdjYDi9\n",
       "8sTyBQxsG1hdmR0YuBm4LnAoMLAxcAowgADzAjB1VoEhgYH1wFoGrgSG3gBhhlMMDImrs3cFMAAA\n",
       "t0YN+iTRa+sAAAAASUVORK5CYII=\n",
       "\" style=\"display:inline;vertical-align:middle;\" /></a> : <a class=\"ProveItLink\" href=\"../packages/proveit/__pv_it/07527342713064c87612d00d8557c53d53d5324a0/expr.ipynb\"><img src=\"data:image/png;base64,iVBORw0KGgoAAAANSUhEUgAAAAsAAAAJBAMAAAAWSsseAAAAMFBMVEX///8yMjKqqqrMzMzu7u4i\n",
       "IiJmZmaYmJhEREQQEBC6urp2dnaIiIhUVFTc3NwAAAD87Fq/AAAAAXRSTlMAQObYZgAAAEhJREFU\n",
       "CNdjYOC7s2seAwPDygccHxgY+L4zsDUwMPB+YGA9wMDA38Dgb8DA8P4Agz6DA4O/AsNFJgMGxgKm\n",
       "MG6gyjunLE4xAAAZTBA5TB6DCwAAAABJRU5ErkJggg==\n",
       "\" style=\"display:inline;vertical-align:middle;\" /></a>, <a class=\"ProveItLink\" href=\"../packages/proveit/__pv_it/f8b9edf8e16034727f0aad55bb83e392c3db40d40/expr.ipynb\"><img src=\"data:image/png;base64,iVBORw0KGgoAAAANSUhEUgAAAAsAAAANBAMAAACN24kIAAAAMFBMVEX///+YmJhUVFQyMjIQEBBE\n",
       "REQiIiKqqqrMzMyIiIi6urrc3NxmZmZ2dnbu7u4AAADXeCicAAAAAXRSTlMAQObYZgAAAFhJREFU\n",
       "CNdj4LtzgWH/AwZerg8M8xkY2nkSGEIZGB6wTGD4ycDAUP+A4weQOszA6QCkbBhYFYDUIYb1AkDq\n",
       "6czzGxhA4BoQMyXwuQMptgusF4AU+8xTQBIAUqMVoSp/SLMAAAAASUVORK5CYII=\n",
       "\" style=\"display:inline;vertical-align:middle;\" /></a> : <a class=\"ProveItLink\" href=\"../packages/proveit/__pv_it/6840a4fa6c106149dc16a131294d0c5e44f1b0480/expr.ipynb\"><img src=\"data:image/png;base64,iVBORw0KGgoAAAANSUhEUgAAAAkAAAAOBAMAAAAPuiubAAAALVBMVEX///9mZmbMzMxERESYmJiI\n",
       "iIh2dna6urqqqqoyMjIiIiIQEBBUVFTu7u4AAAD9S1JeAAAAAXRSTlMAQObYZgAAAE1JREFUCNdj\n",
       "4D29gAEIOA+ASL4GEFl3AURmgQiGOaFHGBh4HzPwKTBwvGXgTmBgnMDAJ8DAJcBQ5wBSLncBJLWN\n",
       "gYGngRFoBO9REQYGAGrcDtUkVqASAAAAAElFTkSuQmCC\n",
       "\" style=\"display:inline;vertical-align:middle;\" /></a></span></td></tr><tr><td>1</td><td>axiom</td><td></td><td><span style=\"font-size:20px;\"> <a class=\"ProveItLink\" href=\"../packages/proveit/logic/equality/_axioms_.ipynb#substitution\" style=\"text-decoration: none\">&#x22A2;&nbsp;</a><a class=\"ProveItLink\" href=\"../packages/proveit/logic/equality/__pv_it/8d36a51e21a3e1f2d1a576f0cfdfe721d403af1e0/expr.ipynb\"><img src=\"data:image/png;base64,iVBORw0KGgoAAAANSUhEUgAAAO8AAAAXBAMAAAARnwX+AAAAMFBMVEX///8QEBC6urrMzMxUVFRm\n",
       "ZmZERETc3NwyMjKqqqp2dnaIiIiYmJgiIiLu7u4AAAAU9Wx4AAAAAXRSTlMAQObYZgAAAvdJREFU\n",
       "SMfFVj1oFEEUfvef293bHKayECJYpIk5wcYqRyRGTBPUQgyiNonCgVuI8QfNIggWEq5QsLttDglB\n",
       "OTAemhRZJIVoc7UorE0QLXIYMIUiznszO7O3uznJQfDBm/123jfzZt+99+YA/pd4vS5MNqLYGPw3\n",
       "/63QFr586MHxURzMyQmJUc7EEEOcTInrIr4s9OCY1mQXf3es74shhjk21xvskbu0e786RW7zcFVi\n",
       "irUTZYY577n2sR85U9294wQlRy2AKazFKDPM+cLVeDY3d7eHSA/ReCGASa5GmWFOtsr158zMxx4c\n",
       "n8dh/cC4j28v33rFolmPEBXHrDsw74E2BaTHAWYxSOON6O5dquMRjb98bDrGpwSrkKeUuA9JytDJ\n",
       "0ZJtWAPI21wPgYl5llmZiu7eJen24ZDb8rEGejvPiuRghKg4xzItmGEFXeRaAN1lhkLc13Vx/AOH\n",
       "fNvHJqSJPBohKo6XaODnp9pcdbeACdfv9eBYaymcaMQ7DnBqXmpLOTZt7CnGtWk0L40ts3glmyL7\n",
       "uWM+SW2vKctiPyVoWeH5ErZfCnXmMwlfHeCcA72oQg2zY2h4R6fzTiRYon/vt46oL6bJk5gtDWkA\n",
       "qKivRGxYa6B7YpvOgpcceECnMGyu8IRiQXWQ5Ml6bxiayrGY7DAI/uagj2vuZbgDceWkOHAWRlyQ\n",
       "5SSOVOG0bRpPwWTwN96Wu/gGgGEcRjwfb6x8W8IcvR9xrDiwsXrRYr1ykCsYniwPSBVT/GUg4Bgn\n",
       "r1CopYEdl20BrwN4p5bZwXmuWqa/4g/ATWtUszX2gIFkWzmmSSG+ga4Do1wJXw1auAsFOemWiSm2\n",
       "JBTEVzEP7sab6RfsAY+btnJMk0J8A11ziYVW8IpE+RpJrQCn4GQdoHZl2upk+Gu7HLs5K92IrWNp\n",
       "YHIdjLolsZCJsOMgJ796mj3TFldxga+zSk3x15SVdYbiG4g04CECUfWxXtq54/icl0LF/xEMuiEO\n",
       "yY7mxDuWhr2W8t5t/RfNBeNeS11EOAAAAABJRU5ErkJggg==\n",
       "\" style=\"display:inline;vertical-align:middle;\" /></a></span></td></tr>\n",
       "<tr><td>&nbsp;</td><td colspan=4 style-\"text-align:left\"><a class=\"ProveItLink\" href=\"../packages/proveit/logic/equality/_axioms_.ipynb#substitution\">proveit.logic.equality.substitution</a></td></tr><tr><td>2</td><td>assumption</td><td></td><td><span style=\"font-size:20px;\"><a class=\"ProveItLink\" href=\"__pv_it/4063298914e48da9080f3519f906780c348a1de40/expr.ipynb\"><img src=\"data:image/png;base64,iVBORw0KGgoAAAANSUhEUgAAAEIAAAAVBAMAAAAA8SWUAAAAMFBMVEX///9ERETc3NyqqqpUVFS6\n",
       "urrMzMwyMjIQEBCIiIh2dnYiIiLu7u5mZmaYmJgAAABJJ2g3AAAAAXRSTlMAQObYZgAAAPVJREFU\n",
       "KM9jYGDgu8eAC2QtApE8uxhwgwwDIMH5Aascj8cGIMlbACS4GrBrZ3eASeJSwW9ASEX8AUIqVjOg\n",
       "qFCZFaGApqJkph9UEuRc1iYGeZAobzkYgNzI85GBP4GBD+TRjAAGBv0HDBfRjGD+w8CxgIGhloEh\n",
       "pQ3I9Wdg2ImmAmg0/wUGBsY6BoaIBAaGjww839BUcF9giH/AwAAKcJYCBqafDMwfeEAad4OBACQ4\n",
       "7h+AuINrAwPPZ6A6M7QAS2DoQvJtHYP1hQWoKlgMeB2QVKjMDJMMQIs5z3uEwpSBgXgVfPhUgNMH\n",
       "z058aQzsOr7FeNMpAKA7QF+x84JNAAAAAElFTkSuQmCC\n",
       "\" style=\"display:inline;vertical-align:middle;\" /></a> <a class=\"ProveItLink\" href=\"__pv_it/08efb1a3f5b413f8cea0419619c84ec74ef6be650/proof.ipynb\" style=\"text-decoration: none\">&#x22A2;&nbsp;</a><a class=\"ProveItLink\" href=\"__pv_it/23bffc7ff072686d34d692c39e9119cd224ecdd70/expr.ipynb\"><img src=\"data:image/png;base64,iVBORw0KGgoAAAANSUhEUgAAADAAAAAOBAMAAACbXIJpAAAAMFBMVEX///8yMjKqqqrMzMzu7u4i\n",
       "IiJmZmaYmJhEREQQEBC6urp2dnaIiIhUVFTc3NwAAAD87Fq/AAAAAXRSTlMAQObYZgAAAJVJREFU\n",
       "GNNjYMACfKcy4ACyuCQ+4RDn+oJDgjsARPLd2TUPTYLxztkCBoaVDzg+gHiJgiAAtta/geEzA993\n",
       "BrYGNB36DgyzGXg/MLAeQJNIZGD4xsDfwOBvgCYRxsD1neH9AQZ9BgcgLzUUBCIg3mD7wuCvwHCR\n",
       "CU3LZwbODQyMBUxh3GhGXWLIBXnjlMUp9EA8VsAAAM4dJKpjP/uaAAAAAElFTkSuQmCC\n",
       "\" style=\"display:inline;vertical-align:middle;\" /></a></span></td></tr>\n",
       "</table>"
      ],
      "text/plain": [
       "\tstep type\trequirements\tstatement\n",
       "0\tspecialization\t1, 2\t{a = b} |- f(a) = f(b)\n",
       "\tf : f, x : a, y : b\n",
       "1\taxiom\t\t|- forall_{f, x, y | x = y} (f(x) = f(y))\n",
       "\tproveit.logic.equality.substitution\n",
       "2\tassumption\t\t{a = b} |- a = b"
      ]
     },
     "execution_count": 53,
     "metadata": {},
     "output_type": "execute_result"
    }
   ],
   "source": [
    "operandSubstitution.proof()"
   ]
  },
  {
   "cell_type": "markdown",
   "metadata": {},
   "source": [
    "Operation substitution can be done explicitly via a **lambda** expression just as we saw with *expression substitution*.  The **lambda** expression is not literally substituted in; rather, the function that it represents is applied as the operation."
   ]
  },
  {
   "cell_type": "code",
   "execution_count": 54,
   "metadata": {},
   "outputs": [
    {
     "data": {
      "text/html": [
       "<strong id=\"operationSubstitution\">operationSubstitution:</strong> <span style=\"font-size:20px;\"> <a class=\"ProveItLink\" href=\"__pv_it/a592de664501f9bb7a00a3839e0b1d5fa86df4890/proof.ipynb\" style=\"text-decoration: none\">&#x22A2;&nbsp;</a><a class=\"ProveItLink\" href=\"__pv_it/f0bf9db6ac82dd242a4b7637dfc1af155b627fe60/expr.ipynb\"><img src=\"data:image/png;base64,iVBORw0KGgoAAAANSUhEUgAAASwAAAAZBAMAAAB5kw7sAAAAMFBMVEX///8QEBC6urrMzMxUVFRm\n",
       "ZmZERETc3NwyMjKqqqp2dnaIiIiYmJgiIiLu7u4AAAAU9Wx4AAAAAXRSTlMAQObYZgAAA6NJREFU\n",
       "SMfNl01oE0EUx182H9tN0k2whwqipOhBKNIVxGtDhbYYxIIgainkIG1tEXMIzUG0i3jIoUpABSGI\n",
       "QRDRQonVFmyLBi9KRYngB1QqqQct9dBAoUUsxZmdSXZndzbdglgf/LMfvLf57bw3b2YBLOab/wzb\n",
       "asL8HOduPWy7Jf9XrBIHS97CE5qp+PbSJoJrwQgRxiriwxsWSxuvYN4JlTtKZGNehRthYyeoENZD\n",
       "fLjOYvkz6FBXcoKFvWp5qtwIu4dRIawh9CvGWSzteshRDqepdJMTxqtZboRuP5gs5ogQFob3Zkwl\n",
       "j0fvtCOsPVS6SUzyF7gRumWZNwoTIazgg1TqknkmzqZSqaKjFqMS2WL5MpwIOyw4R4UaxGpv75wZ\n",
       "K9Tbez7nBMubIxJHO7LdLJYYu9cI4O/iRCydAXGDxUpONaHk3wcihHUEoM+M5VHAp5eIUKPiC0RL\n",
       "8Lawm8VqSvjK6EobnFNpbFcrEbkWCJQZLKERLqDDbSqEtQ9k1YwlRGHRkAh7LFeEKAcv4AaDJa6D\n",
       "F80cIWyNcGd6wBdnsIYLcBK/ClUSUwQKli5fhBlHWKEIUQnaTbXlKUM9OnOXrREy7IJQnsE6DvAF\n",
       "HVqpEFagUF+yYM3A1y1hAfonrXLS6Ws702nUMUNxWFb4WCBtQKtCcvue5HYV5BUWS1YPoZPRtqeK\n",
       "AWsR9+LmOJnNBEv3ECbBRd/ElSECcaWyZNHRGs7DXTSIJIk989g+VSK8KjxmZqL4G6SyzCQR+trQ\n",
       "hCm1uzIGLF8SjXV+zR2uYmkenbhy8z9DiYOVgSwQvUIl/JzBWs5Ap6RA0NzmsXddF5xlsORf4FFR\n",
       "bb4GIox1q4gn2wiTRKkHvcK3YiBexTJ4XD4Ak/QUz38kad0XFvMMVl1B+ujnNAh8wxsV1tm+NQJ3\n",
       "unJMgwCX9pw1dmODS8WT8+QNtaV7HIVYpXcUNcmDY49m2JIXY+OHxxFdxNxOUYQ8OLHGYiWn9w4i\n",
       "zytAhLGCuE7cYTeD9U6byy5Fx8Ie/VoSYQc0VJwbqZwvPpq3v7jJ4kOs1a/6LdtAl9Kiz0SjR4NQ\n",
       "Ni7F7HIsMFijFizkfQwWMrzNlz9PVMX6/qx7zIIlxfp1LKPHzUnV4cZG5m5s5mCA671IVXvTnKIl\n",
       "ZO5bYsJTHRExSmRjnoTlFvLOTkS43h1UtbEG6GpvxvLl9usXF6n49oRzz9Y7oBBtgpWd4nd5adrR\n",
       "7uJvf/mYvxM9//w78cMfdQj9puIpUMcAAAAASUVORK5CYII=\n",
       "\" style=\"display:inline;vertical-align:middle;\" /></a></span><br>"
      ],
      "text/plain": [
       "operationSubstitution: |- forall_{x} [forall_{y | x = y} ((x + a) = (y + a))]"
      ]
     },
     "execution_count": 54,
     "metadata": {},
     "output_type": "execute_result"
    }
   ],
   "source": [
    "operationSubstitution = substitution.specialize({f:Lambda(x, Add(x, a))})"
   ]
  },
  {
   "cell_type": "code",
   "execution_count": 55,
   "metadata": {},
   "outputs": [
    {
     "data": {
      "text/html": [
       "<table><tr><th>&nbsp;</th><th>step type</th><th>requirements</th><th>statement</th></tr>\n",
       "<tr><td>0</td><td>specialization</td><td>1</td><td><span style=\"font-size:20px;\"> <a class=\"ProveItLink\" href=\"__pv_it/a592de664501f9bb7a00a3839e0b1d5fa86df4890/proof.ipynb\" style=\"text-decoration: none\">&#x22A2;&nbsp;</a><a class=\"ProveItLink\" href=\"__pv_it/f0bf9db6ac82dd242a4b7637dfc1af155b627fe60/expr.ipynb\"><img src=\"data:image/png;base64,iVBORw0KGgoAAAANSUhEUgAAASwAAAAZBAMAAAB5kw7sAAAAMFBMVEX///8QEBC6urrMzMxUVFRm\n",
       "ZmZERETc3NwyMjKqqqp2dnaIiIiYmJgiIiLu7u4AAAAU9Wx4AAAAAXRSTlMAQObYZgAAA6NJREFU\n",
       "SMfNl01oE0EUx182H9tN0k2whwqipOhBKNIVxGtDhbYYxIIgainkIG1tEXMIzUG0i3jIoUpABSGI\n",
       "QRDRQonVFmyLBi9KRYngB1QqqQct9dBAoUUsxZmdSXZndzbdglgf/LMfvLf57bw3b2YBLOab/wzb\n",
       "asL8HOduPWy7Jf9XrBIHS97CE5qp+PbSJoJrwQgRxiriwxsWSxuvYN4JlTtKZGNehRthYyeoENZD\n",
       "fLjOYvkz6FBXcoKFvWp5qtwIu4dRIawh9CvGWSzteshRDqepdJMTxqtZboRuP5gs5ogQFob3Zkwl\n",
       "j0fvtCOsPVS6SUzyF7gRumWZNwoTIazgg1TqknkmzqZSqaKjFqMS2WL5MpwIOyw4R4UaxGpv75wZ\n",
       "K9Tbez7nBMubIxJHO7LdLJYYu9cI4O/iRCydAXGDxUpONaHk3wcihHUEoM+M5VHAp5eIUKPiC0RL\n",
       "8Lawm8VqSvjK6EobnFNpbFcrEbkWCJQZLKERLqDDbSqEtQ9k1YwlRGHRkAh7LFeEKAcv4AaDJa6D\n",
       "F80cIWyNcGd6wBdnsIYLcBK/ClUSUwQKli5fhBlHWKEIUQnaTbXlKUM9OnOXrREy7IJQnsE6DvAF\n",
       "HVqpEFagUF+yYM3A1y1hAfonrXLS6Ws702nUMUNxWFb4WCBtQKtCcvue5HYV5BUWS1YPoZPRtqeK\n",
       "AWsR9+LmOJnNBEv3ECbBRd/ElSECcaWyZNHRGs7DXTSIJIk989g+VSK8KjxmZqL4G6SyzCQR+trQ\n",
       "hCm1uzIGLF8SjXV+zR2uYmkenbhy8z9DiYOVgSwQvUIl/JzBWs5Ap6RA0NzmsXddF5xlsORf4FFR\n",
       "bb4GIox1q4gn2wiTRKkHvcK3YiBexTJ4XD4Ak/QUz38kad0XFvMMVl1B+ujnNAh8wxsV1tm+NQJ3\n",
       "unJMgwCX9pw1dmODS8WT8+QNtaV7HIVYpXcUNcmDY49m2JIXY+OHxxFdxNxOUYQ8OLHGYiWn9w4i\n",
       "zytAhLGCuE7cYTeD9U6byy5Fx8Ie/VoSYQc0VJwbqZwvPpq3v7jJ4kOs1a/6LdtAl9Kiz0SjR4NQ\n",
       "Ni7F7HIsMFijFizkfQwWMrzNlz9PVMX6/qx7zIIlxfp1LKPHzUnV4cZG5m5s5mCA671IVXvTnKIl\n",
       "ZO5bYsJTHRExSmRjnoTlFvLOTkS43h1UtbEG6GpvxvLl9usXF6n49oRzz9Y7oBBtgpWd4nd5adrR\n",
       "7uJvf/mYvxM9//w78cMfdQj9puIpUMcAAAAASUVORK5CYII=\n",
       "\" style=\"display:inline;vertical-align:middle;\" /></a></span></td></tr>\n",
       "<tr><td>&nbsp;</td><td colspan=4 style=\"text-align:left\"><span style=\"font-size:20px;\"><a class=\"ProveItLink\" href=\"../packages/proveit/__pv_it/182d3f256e21dc75ea1ec3168bda49a871e4700a0/expr.ipynb\"><img src=\"data:image/png;base64,iVBORw0KGgoAAAANSUhEUgAAACkAAAAVBAMAAAAp9toTAAAAMFBMVEX///8yMjLMzMwQEBAiIiJm\n",
       "Zma6urqYmJiqqqp2dnZERETc3NyIiIhUVFTu7u4AAAAe+HC4AAAAAXRSTlMAQObYZgAAAPpJREFU\n",
       "GNNjYCAAcqB0GYR6e3YDkGS6ABVlVQBTK/sLgCTjA5gmARDB9+0FiDoDN6oSRHB8ALPt4KKPweY4\n",
       "gEg2AbgoVwMDA/tl3wCQ3AQGBu45t3tiGBg4QXz+AyAFjEAbXzKUFJgAjQRp2w92CXMCA8MEhvMM\n",
       "TUDDDID8frBh/EDRBwy3QEwmkPVT4KIMDDZw0bVgUWagxQzcnxj4oCbYQJwDtK2a5wPDOaCrBEBe\n",
       "A4sCncPxncuA+wDEZWz/wKJsDgx8a+bNPA5yJNAKHqinrJF9XAsyEB4mYDCHgcHwCZQND0k+oObK\n",
       "aCiHGxbqvBuQY2gPlD7EwAAAkqk1TOFGkRwAAAAASUVORK5CYII=\n",
       "\" style=\"display:inline;vertical-align:middle;\" /></a> : <a class=\"ProveItLink\" href=\"__pv_it/5e04529b99e523a721e16b8843eb98a945b79f260/expr.ipynb\"><img src=\"data:image/png;base64,iVBORw0KGgoAAAANSUhEUgAAADAAAAAOBAMAAACbXIJpAAAAMFBMVEX///+6uroyMjJERETMzMwQ\n",
       "EBAiIiKYmJju7u5mZmaqqqpUVFSIiIh2dnbc3NwAAAAWgogoAAAAAXRSTlMAQObYZgAAAJdJREFU\n",
       "GNNjYEAAjgcM2AHXAeIk3p5+dfIAqsTrs6IPGDgusKezJqBIMMYx2DMw8DLwfOByQJF4X8AwGegU\n",
       "Bm4DNDv2MzDkgGhWMJ9TSUktSElpA5D5mYHjC1inA0MDsg6+PwxcHzgY2B+cZ+BBkeD4xcCtsIRh\n",
       "fYEpwxtUO9QZlk24wNB8tvdOAarE6zMiNgJEBQkjsgQAgewuFP+EDy8AAAAASUVORK5CYII=\n",
       "\" style=\"display:inline;vertical-align:middle;\" /></a></span></td></tr><tr><td>1</td><td>axiom</td><td></td><td><span style=\"font-size:20px;\"> <a class=\"ProveItLink\" href=\"../packages/proveit/logic/equality/_axioms_.ipynb#substitution\" style=\"text-decoration: none\">&#x22A2;&nbsp;</a><a class=\"ProveItLink\" href=\"../packages/proveit/logic/equality/__pv_it/8d36a51e21a3e1f2d1a576f0cfdfe721d403af1e0/expr.ipynb\"><img src=\"data:image/png;base64,iVBORw0KGgoAAAANSUhEUgAAAO8AAAAXBAMAAAARnwX+AAAAMFBMVEX///8QEBC6urrMzMxUVFRm\n",
       "ZmZERETc3NwyMjKqqqp2dnaIiIiYmJgiIiLu7u4AAAAU9Wx4AAAAAXRSTlMAQObYZgAAAvdJREFU\n",
       "SMfFVj1oFEEUfvef293bHKayECJYpIk5wcYqRyRGTBPUQgyiNonCgVuI8QfNIggWEq5QsLttDglB\n",
       "OTAemhRZJIVoc7UorE0QLXIYMIUiznszO7O3uznJQfDBm/123jfzZt+99+YA/pd4vS5MNqLYGPw3\n",
       "/63QFr586MHxURzMyQmJUc7EEEOcTInrIr4s9OCY1mQXf3es74shhjk21xvskbu0e786RW7zcFVi\n",
       "irUTZYY577n2sR85U9294wQlRy2AKazFKDPM+cLVeDY3d7eHSA/ReCGASa5GmWFOtsr158zMxx4c\n",
       "n8dh/cC4j28v33rFolmPEBXHrDsw74E2BaTHAWYxSOON6O5dquMRjb98bDrGpwSrkKeUuA9JytDJ\n",
       "0ZJtWAPI21wPgYl5llmZiu7eJen24ZDb8rEGejvPiuRghKg4xzItmGEFXeRaAN1lhkLc13Vx/AOH\n",
       "fNvHJqSJPBohKo6XaODnp9pcdbeACdfv9eBYaymcaMQ7DnBqXmpLOTZt7CnGtWk0L40ts3glmyL7\n",
       "uWM+SW2vKctiPyVoWeH5ErZfCnXmMwlfHeCcA72oQg2zY2h4R6fzTiRYon/vt46oL6bJk5gtDWkA\n",
       "qKivRGxYa6B7YpvOgpcceECnMGyu8IRiQXWQ5Ml6bxiayrGY7DAI/uagj2vuZbgDceWkOHAWRlyQ\n",
       "5SSOVOG0bRpPwWTwN96Wu/gGgGEcRjwfb6x8W8IcvR9xrDiwsXrRYr1ykCsYniwPSBVT/GUg4Bgn\n",
       "r1CopYEdl20BrwN4p5bZwXmuWqa/4g/ATWtUszX2gIFkWzmmSSG+ga4Do1wJXw1auAsFOemWiSm2\n",
       "JBTEVzEP7sab6RfsAY+btnJMk0J8A11ziYVW8IpE+RpJrQCn4GQdoHZl2upk+Gu7HLs5K92IrWNp\n",
       "YHIdjLolsZCJsOMgJ796mj3TFldxga+zSk3x15SVdYbiG4g04CECUfWxXtq54/icl0LF/xEMuiEO\n",
       "yY7mxDuWhr2W8t5t/RfNBeNeS11EOAAAAABJRU5ErkJggg==\n",
       "\" style=\"display:inline;vertical-align:middle;\" /></a></span></td></tr>\n",
       "<tr><td>&nbsp;</td><td colspan=4 style-\"text-align:left\"><a class=\"ProveItLink\" href=\"../packages/proveit/logic/equality/_axioms_.ipynb#substitution\">proveit.logic.equality.substitution</a></td></tr></table>"
      ],
      "text/plain": [
       "\tstep type\trequirements\tstatement\n",
       "0\tspecialization\t1\t|- forall_{x} [forall_{y | x = y} ((x + a) = (y + a))]\n",
       "\tf(x) : x + a\n",
       "1\taxiom\t\t|- forall_{f, x, y | x = y} (f(x) = f(y))\n",
       "\tproveit.logic.equality.substitution"
      ]
     },
     "execution_count": 55,
     "metadata": {},
     "output_type": "execute_result"
    }
   ],
   "source": [
    "operationSubstitution.proof()"
   ]
  },
  {
   "cell_type": "markdown",
   "metadata": {},
   "source": [
    "An alternative way to specify an operation substitution is to map the operation applied to a **variable** (*e.g.*, the operation $f$ applied to $x$ as $f(x)$) onto an **expression** that uses this same **variable** (*e.g.*, `Add(x, a)`).  In the example below, we map $f(x)$ to $x + a$.  This will be internally translated to the same **lambda** expression as before: $x \\mapsto x + a$."
   ]
  },
  {
   "cell_type": "code",
   "execution_count": 56,
   "metadata": {},
   "outputs": [
    {
     "data": {
      "text/html": [
       "<strong id=\"operationSubstitution2\">operationSubstitution2:</strong> <span style=\"font-size:20px;\"> <a class=\"ProveItLink\" href=\"__pv_it/a592de664501f9bb7a00a3839e0b1d5fa86df4890/proof.ipynb\" style=\"text-decoration: none\">&#x22A2;&nbsp;</a><a class=\"ProveItLink\" href=\"__pv_it/f0bf9db6ac82dd242a4b7637dfc1af155b627fe60/expr.ipynb\"><img src=\"data:image/png;base64,iVBORw0KGgoAAAANSUhEUgAAASwAAAAZBAMAAAB5kw7sAAAAMFBMVEX///8QEBC6urrMzMxUVFRm\n",
       "ZmZERETc3NwyMjKqqqp2dnaIiIiYmJgiIiLu7u4AAAAU9Wx4AAAAAXRSTlMAQObYZgAAA6NJREFU\n",
       "SMfNl01oE0EUx182H9tN0k2whwqipOhBKNIVxGtDhbYYxIIgainkIG1tEXMIzUG0i3jIoUpABSGI\n",
       "QRDRQonVFmyLBi9KRYngB1QqqQct9dBAoUUsxZmdSXZndzbdglgf/LMfvLf57bw3b2YBLOab/wzb\n",
       "asL8HOduPWy7Jf9XrBIHS97CE5qp+PbSJoJrwQgRxiriwxsWSxuvYN4JlTtKZGNehRthYyeoENZD\n",
       "fLjOYvkz6FBXcoKFvWp5qtwIu4dRIawh9CvGWSzteshRDqepdJMTxqtZboRuP5gs5ogQFob3Zkwl\n",
       "j0fvtCOsPVS6SUzyF7gRumWZNwoTIazgg1TqknkmzqZSqaKjFqMS2WL5MpwIOyw4R4UaxGpv75wZ\n",
       "K9Tbez7nBMubIxJHO7LdLJYYu9cI4O/iRCydAXGDxUpONaHk3wcihHUEoM+M5VHAp5eIUKPiC0RL\n",
       "8Lawm8VqSvjK6EobnFNpbFcrEbkWCJQZLKERLqDDbSqEtQ9k1YwlRGHRkAh7LFeEKAcv4AaDJa6D\n",
       "F80cIWyNcGd6wBdnsIYLcBK/ClUSUwQKli5fhBlHWKEIUQnaTbXlKUM9OnOXrREy7IJQnsE6DvAF\n",
       "HVqpEFagUF+yYM3A1y1hAfonrXLS6Ws702nUMUNxWFb4WCBtQKtCcvue5HYV5BUWS1YPoZPRtqeK\n",
       "AWsR9+LmOJnNBEv3ECbBRd/ElSECcaWyZNHRGs7DXTSIJIk989g+VSK8KjxmZqL4G6SyzCQR+trQ\n",
       "hCm1uzIGLF8SjXV+zR2uYmkenbhy8z9DiYOVgSwQvUIl/JzBWs5Ap6RA0NzmsXddF5xlsORf4FFR\n",
       "bb4GIox1q4gn2wiTRKkHvcK3YiBexTJ4XD4Ak/QUz38kad0XFvMMVl1B+ujnNAh8wxsV1tm+NQJ3\n",
       "unJMgwCX9pw1dmODS8WT8+QNtaV7HIVYpXcUNcmDY49m2JIXY+OHxxFdxNxOUYQ8OLHGYiWn9w4i\n",
       "zytAhLGCuE7cYTeD9U6byy5Fx8Ie/VoSYQc0VJwbqZwvPpq3v7jJ4kOs1a/6LdtAl9Kiz0SjR4NQ\n",
       "Ni7F7HIsMFijFizkfQwWMrzNlz9PVMX6/qx7zIIlxfp1LKPHzUnV4cZG5m5s5mCA671IVXvTnKIl\n",
       "ZO5bYsJTHRExSmRjnoTlFvLOTkS43h1UtbEG6GpvxvLl9usXF6n49oRzz9Y7oBBtgpWd4nd5adrR\n",
       "7uJvf/mYvxM9//w78cMfdQj9puIpUMcAAAAASUVORK5CYII=\n",
       "\" style=\"display:inline;vertical-align:middle;\" /></a></span><br>"
      ],
      "text/plain": [
       "operationSubstitution2: |- forall_{x} [forall_{y | x = y} ((x + a) = (y + a))]"
      ]
     },
     "execution_count": 56,
     "metadata": {},
     "output_type": "execute_result"
    }
   ],
   "source": [
    "from proveit._common_ import fx\n",
    "operationSubstitution2 = substitution.specialize({fx:Add(x, a)})"
   ]
  },
  {
   "cell_type": "markdown",
   "metadata": {},
   "source": [
    "The proof is exactly the same as before."
   ]
  },
  {
   "cell_type": "code",
   "execution_count": 57,
   "metadata": {},
   "outputs": [
    {
     "data": {
      "text/html": [
       "<table><tr><th>&nbsp;</th><th>step type</th><th>requirements</th><th>statement</th></tr>\n",
       "<tr><td>0</td><td>specialization</td><td>1</td><td><span style=\"font-size:20px;\"> <a class=\"ProveItLink\" href=\"__pv_it/a592de664501f9bb7a00a3839e0b1d5fa86df4890/proof.ipynb\" style=\"text-decoration: none\">&#x22A2;&nbsp;</a><a class=\"ProveItLink\" href=\"__pv_it/f0bf9db6ac82dd242a4b7637dfc1af155b627fe60/expr.ipynb\"><img src=\"data:image/png;base64,iVBORw0KGgoAAAANSUhEUgAAASwAAAAZBAMAAAB5kw7sAAAAMFBMVEX///8QEBC6urrMzMxUVFRm\n",
       "ZmZERETc3NwyMjKqqqp2dnaIiIiYmJgiIiLu7u4AAAAU9Wx4AAAAAXRSTlMAQObYZgAAA6NJREFU\n",
       "SMfNl01oE0EUx182H9tN0k2whwqipOhBKNIVxGtDhbYYxIIgainkIG1tEXMIzUG0i3jIoUpABSGI\n",
       "QRDRQonVFmyLBi9KRYngB1QqqQct9dBAoUUsxZmdSXZndzbdglgf/LMfvLf57bw3b2YBLOab/wzb\n",
       "asL8HOduPWy7Jf9XrBIHS97CE5qp+PbSJoJrwQgRxiriwxsWSxuvYN4JlTtKZGNehRthYyeoENZD\n",
       "fLjOYvkz6FBXcoKFvWp5qtwIu4dRIawh9CvGWSzteshRDqepdJMTxqtZboRuP5gs5ogQFob3Zkwl\n",
       "j0fvtCOsPVS6SUzyF7gRumWZNwoTIazgg1TqknkmzqZSqaKjFqMS2WL5MpwIOyw4R4UaxGpv75wZ\n",
       "K9Tbez7nBMubIxJHO7LdLJYYu9cI4O/iRCydAXGDxUpONaHk3wcihHUEoM+M5VHAp5eIUKPiC0RL\n",
       "8Lawm8VqSvjK6EobnFNpbFcrEbkWCJQZLKERLqDDbSqEtQ9k1YwlRGHRkAh7LFeEKAcv4AaDJa6D\n",
       "F80cIWyNcGd6wBdnsIYLcBK/ClUSUwQKli5fhBlHWKEIUQnaTbXlKUM9OnOXrREy7IJQnsE6DvAF\n",
       "HVqpEFagUF+yYM3A1y1hAfonrXLS6Ws702nUMUNxWFb4WCBtQKtCcvue5HYV5BUWS1YPoZPRtqeK\n",
       "AWsR9+LmOJnNBEv3ECbBRd/ElSECcaWyZNHRGs7DXTSIJIk989g+VSK8KjxmZqL4G6SyzCQR+trQ\n",
       "hCm1uzIGLF8SjXV+zR2uYmkenbhy8z9DiYOVgSwQvUIl/JzBWs5Ap6RA0NzmsXddF5xlsORf4FFR\n",
       "bb4GIox1q4gn2wiTRKkHvcK3YiBexTJ4XD4Ak/QUz38kad0XFvMMVl1B+ujnNAh8wxsV1tm+NQJ3\n",
       "unJMgwCX9pw1dmODS8WT8+QNtaV7HIVYpXcUNcmDY49m2JIXY+OHxxFdxNxOUYQ8OLHGYiWn9w4i\n",
       "zytAhLGCuE7cYTeD9U6byy5Fx8Ie/VoSYQc0VJwbqZwvPpq3v7jJ4kOs1a/6LdtAl9Kiz0SjR4NQ\n",
       "Ni7F7HIsMFijFizkfQwWMrzNlz9PVMX6/qx7zIIlxfp1LKPHzUnV4cZG5m5s5mCA671IVXvTnKIl\n",
       "ZO5bYsJTHRExSmRjnoTlFvLOTkS43h1UtbEG6GpvxvLl9usXF6n49oRzz9Y7oBBtgpWd4nd5adrR\n",
       "7uJvf/mYvxM9//w78cMfdQj9puIpUMcAAAAASUVORK5CYII=\n",
       "\" style=\"display:inline;vertical-align:middle;\" /></a></span></td></tr>\n",
       "<tr><td>&nbsp;</td><td colspan=4 style=\"text-align:left\"><span style=\"font-size:20px;\"><a class=\"ProveItLink\" href=\"../packages/proveit/__pv_it/182d3f256e21dc75ea1ec3168bda49a871e4700a0/expr.ipynb\"><img src=\"data:image/png;base64,iVBORw0KGgoAAAANSUhEUgAAACkAAAAVBAMAAAAp9toTAAAAMFBMVEX///8yMjLMzMwQEBAiIiJm\n",
       "Zma6urqYmJiqqqp2dnZERETc3NyIiIhUVFTu7u4AAAAe+HC4AAAAAXRSTlMAQObYZgAAAPpJREFU\n",
       "GNNjYCAAcqB0GYR6e3YDkGS6ABVlVQBTK/sLgCTjA5gmARDB9+0FiDoDN6oSRHB8ALPt4KKPweY4\n",
       "gEg2AbgoVwMDA/tl3wCQ3AQGBu45t3tiGBg4QXz+AyAFjEAbXzKUFJgAjQRp2w92CXMCA8MEhvMM\n",
       "TUDDDID8frBh/EDRBwy3QEwmkPVT4KIMDDZw0bVgUWagxQzcnxj4oCbYQJwDtK2a5wPDOaCrBEBe\n",
       "A4sCncPxncuA+wDEZWz/wKJsDgx8a+bNPA5yJNAKHqinrJF9XAsyEB4mYDCHgcHwCZQND0k+oObK\n",
       "aCiHGxbqvBuQY2gPlD7EwAAAkqk1TOFGkRwAAAAASUVORK5CYII=\n",
       "\" style=\"display:inline;vertical-align:middle;\" /></a> : <a class=\"ProveItLink\" href=\"__pv_it/5e04529b99e523a721e16b8843eb98a945b79f260/expr.ipynb\"><img src=\"data:image/png;base64,iVBORw0KGgoAAAANSUhEUgAAADAAAAAOBAMAAACbXIJpAAAAMFBMVEX///+6uroyMjJERETMzMwQ\n",
       "EBAiIiKYmJju7u5mZmaqqqpUVFSIiIh2dnbc3NwAAAAWgogoAAAAAXRSTlMAQObYZgAAAJdJREFU\n",
       "GNNjYEAAjgcM2AHXAeIk3p5+dfIAqsTrs6IPGDgusKezJqBIMMYx2DMw8DLwfOByQJF4X8AwGegU\n",
       "Bm4DNDv2MzDkgGhWMJ9TSUktSElpA5D5mYHjC1inA0MDsg6+PwxcHzgY2B+cZ+BBkeD4xcCtsIRh\n",
       "fYEpwxtUO9QZlk24wNB8tvdOAarE6zMiNgJEBQkjsgQAgewuFP+EDy8AAAAASUVORK5CYII=\n",
       "\" style=\"display:inline;vertical-align:middle;\" /></a></span></td></tr><tr><td>1</td><td>axiom</td><td></td><td><span style=\"font-size:20px;\"> <a class=\"ProveItLink\" href=\"../packages/proveit/logic/equality/_axioms_.ipynb#substitution\" style=\"text-decoration: none\">&#x22A2;&nbsp;</a><a class=\"ProveItLink\" href=\"../packages/proveit/logic/equality/__pv_it/8d36a51e21a3e1f2d1a576f0cfdfe721d403af1e0/expr.ipynb\"><img src=\"data:image/png;base64,iVBORw0KGgoAAAANSUhEUgAAAO8AAAAXBAMAAAARnwX+AAAAMFBMVEX///8QEBC6urrMzMxUVFRm\n",
       "ZmZERETc3NwyMjKqqqp2dnaIiIiYmJgiIiLu7u4AAAAU9Wx4AAAAAXRSTlMAQObYZgAAAvdJREFU\n",
       "SMfFVj1oFEEUfvef293bHKayECJYpIk5wcYqRyRGTBPUQgyiNonCgVuI8QfNIggWEq5QsLttDglB\n",
       "OTAemhRZJIVoc7UorE0QLXIYMIUiznszO7O3uznJQfDBm/123jfzZt+99+YA/pd4vS5MNqLYGPw3\n",
       "/63QFr586MHxURzMyQmJUc7EEEOcTInrIr4s9OCY1mQXf3es74shhjk21xvskbu0e786RW7zcFVi\n",
       "irUTZYY577n2sR85U9294wQlRy2AKazFKDPM+cLVeDY3d7eHSA/ReCGASa5GmWFOtsr158zMxx4c\n",
       "n8dh/cC4j28v33rFolmPEBXHrDsw74E2BaTHAWYxSOON6O5dquMRjb98bDrGpwSrkKeUuA9JytDJ\n",
       "0ZJtWAPI21wPgYl5llmZiu7eJen24ZDb8rEGejvPiuRghKg4xzItmGEFXeRaAN1lhkLc13Vx/AOH\n",
       "fNvHJqSJPBohKo6XaODnp9pcdbeACdfv9eBYaymcaMQ7DnBqXmpLOTZt7CnGtWk0L40ts3glmyL7\n",
       "uWM+SW2vKctiPyVoWeH5ErZfCnXmMwlfHeCcA72oQg2zY2h4R6fzTiRYon/vt46oL6bJk5gtDWkA\n",
       "qKivRGxYa6B7YpvOgpcceECnMGyu8IRiQXWQ5Ml6bxiayrGY7DAI/uagj2vuZbgDceWkOHAWRlyQ\n",
       "5SSOVOG0bRpPwWTwN96Wu/gGgGEcRjwfb6x8W8IcvR9xrDiwsXrRYr1ykCsYniwPSBVT/GUg4Bgn\n",
       "r1CopYEdl20BrwN4p5bZwXmuWqa/4g/ATWtUszX2gIFkWzmmSSG+ga4Do1wJXw1auAsFOemWiSm2\n",
       "JBTEVzEP7sab6RfsAY+btnJMk0J8A11ziYVW8IpE+RpJrQCn4GQdoHZl2upk+Gu7HLs5K92IrWNp\n",
       "YHIdjLolsZCJsOMgJ796mj3TFldxga+zSk3x15SVdYbiG4g04CECUfWxXtq54/icl0LF/xEMuiEO\n",
       "yY7mxDuWhr2W8t5t/RfNBeNeS11EOAAAAABJRU5ErkJggg==\n",
       "\" style=\"display:inline;vertical-align:middle;\" /></a></span></td></tr>\n",
       "<tr><td>&nbsp;</td><td colspan=4 style-\"text-align:left\"><a class=\"ProveItLink\" href=\"../packages/proveit/logic/equality/_axioms_.ipynb#substitution\">proveit.logic.equality.substitution</a></td></tr></table>"
      ],
      "text/plain": [
       "\tstep type\trequirements\tstatement\n",
       "0\tspecialization\t1\t|- forall_{x} [forall_{y | x = y} ((x + a) = (y + a))]\n",
       "\tf(x) : x + a\n",
       "1\taxiom\t\t|- forall_{f, x, y | x = y} (f(x) = f(y))\n",
       "\tproveit.logic.equality.substitution"
      ]
     },
     "execution_count": 57,
     "metadata": {},
     "output_type": "execute_result"
    }
   ],
   "source": [
    "operationSubstitution2.proof()"
   ]
  },
  {
   "cell_type": "markdown",
   "metadata": {},
   "source": [
    "### Specializing multiple levels simultaneously\n",
    "\n",
    "When `Forall` operations are nested, the universal quantifications may be specialized separately.\n",
    "\n",
    "Consider, for example, the nested quantification expression $\\forall_x [\\forall_y [\\forall_{z|z<(x+y)} P(x, y, z)]]$, defined below:"
   ]
  },
  {
   "cell_type": "code",
   "execution_count": 58,
   "metadata": {},
   "outputs": [
    {
     "data": {
      "text/html": [
       "<strong id=\"nestedForall\">nestedForall:</strong> <a class=\"ProveItLink\" href=\"__pv_it/8b65507d111fd345c6cbab939ef0863fd5f116e60/expr.ipynb\"><img src=\"data:image/png;base64,iVBORw0KGgoAAAANSUhEUgAAAScAAAAZBAMAAACBc/UbAAAAMFBMVEX///8QEBC6urrMzMxUVFRm\n",
       "ZmZERETc3NwyMjKqqqp2dnaIiIiYmJgiIiLu7u4AAAAU9Wx4AAAAAXRSTlMAQObYZgAABAFJREFU\n",
       "SMfNl11IFFEUgM/OjOvuzjqKLxVCbdBDUdJEUr1Ei0VBUghBkCFsP2hZ0VLSUhEtvSQksi9G5EOD\n",
       "EP0IsoGCiuBCCFER+1AUkrIFlvmSRWVFWfdnfu6PbRMUdGD2njlz7p1v77nn3DsAkgTHn/qy/QOp\n",
       "HrfIJUuZT9u/kNI4vf5HqMI8AMZ8UIW/8E4l++tn0ZgHlceGBzwAmZdoloeSHf1K348tWx4nsVZT\n",
       "zG2XB3UL33fwUJEMakIFHkp29C2fUaYs+G33kAd1CqsJHorcnxLCJzv6FfUrQBhdoGeLuUUtFwpP\n",
       "SElGAMD/aI9gkx39iv4evfEjUgJF16VR4UJFb6RS58RFfT+VSuUFm+zoV4IzANoXpCwv7nfYKwmf\n",
       "mprGRKjypqZjllgSJEdeToqGsKOUpwHe4sA3oOtM3+l+GsXpBiidox5LK0uR7boHtRmgWYTSTAgm\n",
       "RSjOUZEqjFSHVceyyQL1CVbaUYys6PMADYK1GvQZ2vdo/27UXPGgloGRFqGUOExJxZNzDPJEBcbg\n",
       "rrtuux3ZfruB/MVKgAgCCZuEOdMIQZo4Bhg78Xx5UGWg5ySAPAxLNs6RgzJ2J6HLvXMz1Plfx531\n",
       "/R6/X7OfG1AF5U46tpIZ9aD0XFlBAhiGCcnGObJQxs0YG1kXSjNp+x08KJSCDkh4DjbZHkq9AGWk\n",
       "cZ3tqe0zGYApFT1ZmYDFjI06buw47UGpz16jYA3ggKF8jvSt3GxDka52WVI/OlCL8M95096xStJw\n",
       "x35wlS53ZkNurkXjFbYGMgxAsDUGRnZWrWA3ZOwItaOWB6WtQgk1gIOqouXWqyUWUSjaVYm7ZYrK\n",
       "UVRYkiOgFwhWqB4O0i01bIGGmnsMVGceJ1M7F6pwI3r4Mq8nWKhOkjVv2PAZGdhI5gMDxEI5O3y0\n",
       "q0rzIjjnjIxy/lpuH5wFA0e0JK58o9qG0YcXgCsJdpBn+WNKFZ4HS8uyNuJYGmOhTgBM7icLBI9U\n",
       "ngStrW1h2yXalUJNHv/gjFIN8GpouicHxhKUjcaR/lmq1Uff4TBdYKCieAbVCpWDeoQhYgF2nVHH\n",
       "tbCeWVOmmoTJA3im8JyuAdNeU6SrIu6UAbf2KUSL5B1N2Gbs+hZJR6QDXcBcLdnU7SsSHlRN92Wc\n",
       "z9vQiHlQZ26C5UDhrlFrni3X1tC1A15kqEYlkhWgXg3u7ZUAwnWHJJuuLEx6UNmlF3GzDlFNoHB0\n",
       "DhVsKNK1JCYW+Q4WagxagIWa8nUcTkHdL4/DfEVfZ8IgV6dI15A0dKuj4FXW1R+zNSrbfEG1KGmf\n",
       "UHiuXS3udO2Sj+BFDlS66Quqawj8Q4W5vYp0jf/Nr5l5vvEkmya53BUNkT//1Kgej+PrJ0cVB7QF\n",
       "WmZWAAAAAElFTkSuQmCC\n",
       "\" style=\"display:inline;vertical-align:middle;\" /></a><br>"
      ],
      "text/plain": [
       "nestedForall: forall_{x} [forall_{y} [forall_{z | z < (x + y)} P(x , y , z)]]"
      ]
     },
     "execution_count": 58,
     "metadata": {},
     "output_type": "execute_result"
    }
   ],
   "source": [
    "from proveit._common_ import z, Pxyz\n",
    "from proveit.number import Less, Add\n",
    "nestedForall = Forall(x, Forall(y, Forall(z, Pxyz, conditions=[Less(z, Add(x, y))])))"
   ]
  },
  {
   "cell_type": "markdown",
   "metadata": {},
   "source": [
    "We can successively specialize to reach the inner-most instance-defining variable $z$:"
   ]
  },
  {
   "cell_type": "code",
   "execution_count": 59,
   "metadata": {},
   "outputs": [
    {
     "data": {
      "text/html": [
       "<strong id=\"nestedForallSpec1\">nestedForallSpec1:</strong> <span style=\"font-size:20px;\"><a class=\"ProveItLink\" href=\"__pv_it/482dc020459256bd00f80ffb36546af4670aa6240/expr.ipynb\"><img src=\"data:image/png;base64,iVBORw0KGgoAAAANSUhEUgAAAT8AAAAaBAMAAAAznkapAAAAMFBMVEX///+6urp2dnaqqqoiIiIQ\n",
       "EBBERETu7u6IiIjc3NwyMjJUVFSYmJhmZmbMzMwAAAD0pS5FAAAAAXRSTlMAQObYZgAABGdJREFU\n",
       "WMPVl11oFFcUgM/MuDu7O7OThUaQKjjaB39AWPpQghBcbMC/ChEftELpqjWoDXVVKhgILpG+GIPr\n",
       "D6FLQNenaPRhI6X1p8gigiJa01TEBynzYIVWqFHbSvxB77l3ZvfeuZPpiAp6YHbOnjl35pt7fu4d\n",
       "ALBugyzxtiWRbG9BmttseoD2KzOcLQV4TYpoexuSrLID+vP4N/EY3lVA+AJ/jApAIQBGDwIsvIHn\n",
       "K8WJr5kZAXCzB5hD5bIIQ+fLLIqAsmNU6X1x7twymkz3wtx+FwDPeoAfoTIoAqpZckoVREDZMbI8\n",
       "IVX2+f8OTwUD9qM5LwLS//2+EMuOUcV6SMryIeZ8MczNtAMBcaLSWR8MvulvPpvsGFUSD8jTnxMl\n",
       "FprHensgoDmnXD7kL4gL5XI557PJjlElPkYe9YgoH4b7rZcA4xix/zo6FvoBmzo6vrL9bUZyFOWw\n",
       "36B5ShOZh134qFFyHOg92McivW0Ukm6fm7wiSWzzJMAYep4H2OQHNByIl/yAgqMidTBbSj3Pct8G\n",
       "azkqJ0kcbfOzGAuOPR0SY2xsZ99NcprPA14n6ZA8gdpU0Ct+QKUKXVKjFhzjIl2BM9TzdIZ73ndq\n",
       "5ih93RUAKoHSHMqfvcFCSKhB/wnnkQdMHwe46LBnJ2oSTA72SjbBUQDUb5agpf6vXuneO27xauMB\n",
       "shjudR1WQ5NX1gN0pnlAOFQEbTGtsdqkggSzFxZJNsGRB9TnZvjo1wENh53/gQagm1c0Rx/DfddD\n",
       "GZEAzU/Jzy6cEb2C/X32cK/DwXRZxGtKHlZxNuZ4Z/BgA9BaupMEdA8GlfQItXfKeReQDnXbnvXc\n",
       "A1yJP0ccd9VMV+A798LHrFR4wAUlr4ph0zC5d+HHWJaDiQ9kQC+OW+38ZgEdYfia3QA0ppHC3IOv\n",
       "aZH0nGXkVzJANlSp1tsgk04yMaV9kChQxNQIfM2WeM0Gg5yuBPZBgNYcFuVJIZzaDeK4NZfI84Ct\n",
       "tPq28yHWs3CHzhPCZFI1N8RsqMVqKl7fM5E+sqC2Ab4HHaOerirPmPbXtatHIajNMECWFOPi1mo1\n",
       "XraNIm+jjskMD7gfoHstTSi8a1MJjKGhNUPH2FAG2L3lqXeXZoAdPdtm10D/kgRQ39g3zrQR818M\n",
       "39EJAE2cZavdEgAvIVAmxuclc/wb/uRy0LFK0P0NziDO9R/guDlIhyr+lTtW760K1dScp4UsdW4v\n",
       "VSuqtDmNOdMlm3Xqg3wD8N6MT7BHnCF3z4E1NhdsDxCHmnbAdsDVyPEDfJtlGhO1GAK4Y/etWRKM\n",
       "dnqzZEsoa0oNwOLk43i6SwgXkZC19hRcQDo0nfEvLoM84EJYBzxgF4QABm7vy3B6wi2/uJLcdWC3\n",
       "0Afp0JR06wFPwaxs6cu4GpMzMqDaHgq4TqlEBMQY1LWqN7RF/uQI2RAmHAFwGU3LE6GALT0QHVAT\n",
       "1ks6tPoaH01ptpKZPwcBBnwDSzZDcvnFb1Bf/TOrua1KD9A64T2QlwAcL4FFPLf2AAAAAElFTkSu\n",
       "QmCC\n",
       "\" style=\"display:inline;vertical-align:middle;\" /></a> <a class=\"ProveItLink\" href=\"__pv_it/6779d186bcfb34a308beb07b85b1b3cfe93b44320/proof.ipynb\" style=\"text-decoration: none\">&#x22A2;&nbsp;</a><a class=\"ProveItLink\" href=\"__pv_it/ca468cdca179d7508ee942e12a040cd182fa3bea0/expr.ipynb\"><img src=\"data:image/png;base64,iVBORw0KGgoAAAANSUhEUgAAAPYAAAAZBAMAAADwLs6sAAAAMFBMVEX///8QEBC6urrMzMxUVFRm\n",
       "ZmZERETc3NwyMjKqqqp2dnaIiIiYmJgiIiLu7u4AAAAU9Wx4AAAAAXRSTlMAQObYZgAAA69JREFU\n",
       "SMfFlltIFFEYx/+7M+64zu5o+VARxQbdwKIVfKggkoyCIhIp6UpGsUYhDSEuFNUSREYRC10eKmgI\n",
       "xC4kC4UPGbX0UhTlPvQQhjFGFzEiQdGoqM5tdmZndIvF6sDMfN93zpzf+b7znQvgKU29Ov5+8ff2\n",
       "jGHN4N+U5v/KNsdgaxPRdUWeuoeczbx8mssO008oVQBQXT+8ct1qKknVeZoVRRn7OpXP5LJLkuRT\n",
       "bBbibWkC2Kn/9vcEY7eQt9KQy2Z6S0GRXm4AV8iDrrzNnjA2HV9R0pVrNA6bC2I/iADdtUSYmbdZ\n",
       "H2OH2uPxw+48fxKPxwtL9/3kWU9c8SfyNgsk2RobicV63OzSWKzJGP9PJeq2ZAP3BdBGaDaR35Wb\n",
       "qy9tZVatzcBRngD+SZFDQEktY9cAjW62HEXA3twibtJBz2iWiq/0FVhGQ16cBgbwLD2DmUv8g3jA\n",
       "W7Q83UiyKZhg7NnQEm62vxr9tiEnE3HEYci6WyLGpw7faGungo8YDMI7y8xLijKI8RYm3pIA+MsY\n",
       "Oww17dnXMrg3DvtdI4IpT401/MAPa61FKGaV0ExfCt+sCaMLXxpkbDUdNj3se3g9NnvgGBzTYdfU\n",
       "CGTGwQamW9VXTGlIiHNgs7VEFYlBJ3ymg91PtyXp5YdklsAV9SSNJ4nxnYoaUVPRQNeTWM7La0Un\n",
       "PvqnMmRtz5uglnEpyHJYxByNK4CPpXql0+9AMxm3vGCL7R1T1NNUXAx0yA3TeI2WGpXKaNZklzcP\n",
       "PpnHR+og7nP6cQSquXQRIG6FeK7hPIEdWYhOJzu4nc1i0hFZokivmEQ4keK0qFHeZNQGNh62vK3g\n",
       "kUUU/B4oU1L4TPvbgEVpJkmntz2OZNcYfDR11mBtzhnKZuqAc1aJotUzt87R+dQht7ZObT0F2ZBT\n",
       "gq3V/7R68ZPTcF/HDZKxfaNEfd+1Q2dSEbppwIojnB2iY52M8hz2czrFUUm355sqWj3dVeaSpxJR\n",
       "UeOL+KLcllOmZKV57H0rK9l7qijlZPW77w5VVy/YfnNFWUlG84mk6TUYFju6SBwOntOCFzI7ckab\n",
       "xiVRbjrZ5zoTHnZq1gmbLRRpt46wqe07f9cUNcG1e8i7zs22z1BCDBsBw8nWEg62osupce9MOXuL\n",
       "tAtq0lkTZ5niOToU6+6g0vF11QmJF1l3sAPGfPwZm446a6D976VHVtB7yTmU5xi77bwrBruMP2fj\n",
       "slO5dJc6MkH31F73/dxz8wp5ztCOAu7nL34Badz59Nu7XaUAAAAASUVORK5CYII=\n",
       "\" style=\"display:inline;vertical-align:middle;\" /></a></span><br>"
      ],
      "text/plain": [
       "nestedForallSpec1: {forall_{x} [forall_{y} [forall_{z | z < (x + y)} P(x , y , z)]]} |- forall_{y} [forall_{z | z < (x + y)} P(x , y , z)]"
      ]
     },
     "execution_count": 59,
     "metadata": {},
     "output_type": "execute_result"
    }
   ],
   "source": [
    "nestedForallSpec1 = nestedForall.specialize(assumptions=[nestedForall])"
   ]
  },
  {
   "cell_type": "code",
   "execution_count": 60,
   "metadata": {},
   "outputs": [
    {
     "data": {
      "text/html": [
       "<strong id=\"nestedForallSpec2\">nestedForallSpec2:</strong> <span style=\"font-size:20px;\"><a class=\"ProveItLink\" href=\"__pv_it/482dc020459256bd00f80ffb36546af4670aa6240/expr.ipynb\"><img src=\"data:image/png;base64,iVBORw0KGgoAAAANSUhEUgAAAT8AAAAaBAMAAAAznkapAAAAMFBMVEX///+6urp2dnaqqqoiIiIQ\n",
       "EBBERETu7u6IiIjc3NwyMjJUVFSYmJhmZmbMzMwAAAD0pS5FAAAAAXRSTlMAQObYZgAABGdJREFU\n",
       "WMPVl11oFFcUgM/MuDu7O7OThUaQKjjaB39AWPpQghBcbMC/ChEftELpqjWoDXVVKhgILpG+GIPr\n",
       "D6FLQNenaPRhI6X1p8gigiJa01TEBynzYIVWqFHbSvxB77l3ZvfeuZPpiAp6YHbOnjl35pt7fu4d\n",
       "ALBugyzxtiWRbG9BmttseoD2KzOcLQV4TYpoexuSrLID+vP4N/EY3lVA+AJ/jApAIQBGDwIsvIHn\n",
       "K8WJr5kZAXCzB5hD5bIIQ+fLLIqAsmNU6X1x7twymkz3wtx+FwDPeoAfoTIoAqpZckoVREDZMbI8\n",
       "IVX2+f8OTwUD9qM5LwLS//2+EMuOUcV6SMryIeZ8MczNtAMBcaLSWR8MvulvPpvsGFUSD8jTnxMl\n",
       "FprHensgoDmnXD7kL4gL5XI557PJjlElPkYe9YgoH4b7rZcA4xix/zo6FvoBmzo6vrL9bUZyFOWw\n",
       "36B5ShOZh134qFFyHOg92McivW0Ukm6fm7wiSWzzJMAYep4H2OQHNByIl/yAgqMidTBbSj3Pct8G\n",
       "azkqJ0kcbfOzGAuOPR0SY2xsZ99NcprPA14n6ZA8gdpU0Ct+QKUKXVKjFhzjIl2BM9TzdIZ73ndq\n",
       "5ih93RUAKoHSHMqfvcFCSKhB/wnnkQdMHwe46LBnJ2oSTA72SjbBUQDUb5agpf6vXuneO27xauMB\n",
       "shjudR1WQ5NX1gN0pnlAOFQEbTGtsdqkggSzFxZJNsGRB9TnZvjo1wENh53/gQagm1c0Rx/DfddD\n",
       "GZEAzU/Jzy6cEb2C/X32cK/DwXRZxGtKHlZxNuZ4Z/BgA9BaupMEdA8GlfQItXfKeReQDnXbnvXc\n",
       "A1yJP0ccd9VMV+A798LHrFR4wAUlr4ph0zC5d+HHWJaDiQ9kQC+OW+38ZgEdYfia3QA0ppHC3IOv\n",
       "aZH0nGXkVzJANlSp1tsgk04yMaV9kChQxNQIfM2WeM0Gg5yuBPZBgNYcFuVJIZzaDeK4NZfI84Ct\n",
       "tPq28yHWs3CHzhPCZFI1N8RsqMVqKl7fM5E+sqC2Ab4HHaOerirPmPbXtatHIajNMECWFOPi1mo1\n",
       "XraNIm+jjskMD7gfoHstTSi8a1MJjKGhNUPH2FAG2L3lqXeXZoAdPdtm10D/kgRQ39g3zrQR818M\n",
       "39EJAE2cZavdEgAvIVAmxuclc/wb/uRy0LFK0P0NziDO9R/guDlIhyr+lTtW760K1dScp4UsdW4v\n",
       "VSuqtDmNOdMlm3Xqg3wD8N6MT7BHnCF3z4E1NhdsDxCHmnbAdsDVyPEDfJtlGhO1GAK4Y/etWRKM\n",
       "dnqzZEsoa0oNwOLk43i6SwgXkZC19hRcQDo0nfEvLoM84EJYBzxgF4QABm7vy3B6wi2/uJLcdWC3\n",
       "0Afp0JR06wFPwaxs6cu4GpMzMqDaHgq4TqlEBMQY1LWqN7RF/uQI2RAmHAFwGU3LE6GALT0QHVAT\n",
       "1ks6tPoaH01ptpKZPwcBBnwDSzZDcvnFb1Bf/TOrua1KD9A64T2QlwAcL4FFPLf2AAAAAElFTkSu\n",
       "QmCC\n",
       "\" style=\"display:inline;vertical-align:middle;\" /></a> <a class=\"ProveItLink\" href=\"__pv_it/19a2d2c5ad3b4fa6e35eebbcc7b70f2e2067b8160/proof.ipynb\" style=\"text-decoration: none\">&#x22A2;&nbsp;</a><a class=\"ProveItLink\" href=\"__pv_it/e605d4728e0f556fed05dce39165fd2afb13575b0/expr.ipynb\"><img src=\"data:image/png;base64,iVBORw0KGgoAAAANSUhEUgAAAMYAAAAXBAMAAACi1y3kAAAAMFBMVEX///8QEBC6urrMzMxUVFRm\n",
       "ZmZERETc3NwyMjKqqqp2dnaIiIiYmJgiIiLu7u4AAAAU9Wx4AAAAAXRSTlMAQObYZgAAAwtJREFU\n",
       "SMe9Vl1IFFEU/nZndHd21lF8SQlqhR4KCycS60UUFQSlEAIfhGD7QcsEh5LEIlp6SShkX4xoHxqE\n",
       "yApiAxfMFxdCCOphHwpCIrZAM18yyawo69y5d3bHXRtpiw7cPWfuPXO+e79zzp0F/oOk/0EMb/z3\n",
       "a8EQkGLG00IiT/xsaXluMKvWze0wcJfpkYK2/wUo3rLp637gHClfuBAI6Rug0IAad3MLmvBTQoqi\n",
       "hWCoyxRghQyPa061MgTvDA5eLIiq4iVA/krGTne/U8Dn7u5ZF4+zuROKbZRGgA+M5S4a5yeGEpyy\n",
       "xS741rhHVbmP5m4DzUBPtgpzI/rMvDTYMw0mpBfMuEaEmMFXHqtEYdZAXeLv9iU6Sd0AdkCLZM+/\n",
       "HiDtmMjkbEzo6bZ7XVbplgMBiqvo1haiR1DMa0iDdoidBiiBmtwYQ+s0EMs8ZWpvQeh+O9XLLJws\n",
       "1jVsRaldaAPWeak8kiXpDTG08ZCTxgyGrHP9A1kMKi47rrKGBuHh7RAYWoS1af3IUBZDevmOmJlk\n",
       "7JQRDxPVzQKjOoxtdjtIKzZGJfu5pItrqSiCh2LhJs88jZ4m+mmaMbMY8m4qlUnGoESpeiCHKzmG\n",
       "Fl+VyuBtzLQHlz7qE2MaatpC8XfgBL8GFRMyqSc0Rq16eO/kSoui3totixfyJwVXvrcpNWzhMtc1\n",
       "G4OK81byKC5AY/QVNXq/c+vAzLPLfJkz6Qs5Mc4Ac8csctmeSw3Iw8MVw1chm3JcYMz1f7IzsAeY\n",
       "n1q8n4S2nepMO51Y5VZH8COjm+EE2bn2Yb8jH7pkYO44OwfLwl7oIh+ekEfnc07xGJn2sqxAyrbE\n",
       "XSIaq21XOItRO3adFV4rOaQgLY3DtDH0GuuSy7v1bIvGQbyJcotLwD6u6q0wshjxqitM1RHIazr7\n",
       "6FRaYCjtJ4nwUG7rjzgxZtELJ8ZC3j237qlOx6N1/TGIduuDkCMDtsG2HEuEhMWl1R2DZD5jsez3\n",
       "einfsTwMn8sHRNU3xVCSzqfYlAD7G5HzZh7nTgT++F/GL8oLtHh3ij6DAAAAAElFTkSuQmCC\n",
       "\" style=\"display:inline;vertical-align:middle;\" /></a></span><br>"
      ],
      "text/plain": [
       "nestedForallSpec2: {forall_{x} [forall_{y} [forall_{z | z < (x + y)} P(x , y , z)]]} |- forall_{z | z < (x + y)} P(x , y , z)"
      ]
     },
     "execution_count": 60,
     "metadata": {},
     "output_type": "execute_result"
    }
   ],
   "source": [
    "nestedForallSpec2 = nestedForallSpec1.specialize()"
   ]
  },
  {
   "cell_type": "code",
   "execution_count": 61,
   "metadata": {},
   "outputs": [
    {
     "data": {
      "text/html": [
       "<strong id=\"nestedForallSpec3\">nestedForallSpec3:</strong> <span style=\"font-size:20px;\"><a class=\"ProveItLink\" href=\"__pv_it/c0151b80e54da1c2e7c9c8b48fce0f23c8ac1d670/expr.ipynb\"><img src=\"data:image/png;base64,iVBORw0KGgoAAAANSUhEUgAAAbIAAAAaBAMAAAAgZcQYAAAAMFBMVEX///+6urp2dnaqqqoiIiIQ\n",
       "EBBERETu7u6IiIjc3NwyMjJUVFSYmJhmZmbMzMwAAAD0pS5FAAAAAXRSTlMAQObYZgAABaxJREFU\n",
       "WMPdmF1oHFUUx8/s18xmdycLJlJbJdMaSCsEFh9KSI1ZwoL14yESxZKHuvRjaazYNdqiEekSNA20\n",
       "oWMraZcg3aJQ3VbYliJNK+0iAWtAGmsoWqsu2D5owESRxtpSPffe+bh3ZjfZaOpDL+zs2bMzd/6/\n",
       "e885984AgHoFFrEFEo+7nZsSOtz5VpfQQEp0oNUWpY7Ti3pXXzlnHP6XFizgYYQYKfJTmYW7jgz8\n",
       "E3gI5SqcJ2Uq9RCOmpZcjixdhiy9CMIrCzIk2WSB3FxkU5X7+UGYoXBGJKMzdF4kc/uqbcq5m2dO\n",
       "js4jiEmyyUJzkh2p3E2NaXhi5FdaJHvQdXW8jK/qVosCN+vzXV5TDdl7JTpWwtzLQpkJa2ZkJ/Ew\n",
       "7IjGYfMPjsztq7pN483aNacgVzhq85NNHaZffiE1vCJnJz+xXzvIyBxGYiKZ21d124spdGHCKcjZ\n",
       "iKR5yJaeNb6hMhlsNI3Pstls3EEWXpXNvuuoIG5f1W0bfs7FnIJcbaOLLEBiRHo2epCd0PqtceZF\n",
       "/OzbvX8oI5D1XoQgLhPNVhKkUps0Z9W/nkp1OKu+y+co2CWHw2tZf+GEXDcEBVeOtnzD5qhZg0Ns\n",
       "Fpn4ZheZn2gePv89S4K3mswOj+HVWvgpf1wg0xpAmUF+86xQCQK6kwxnvcdJJvgkF9k+p0M1x0v9\n",
       "HeDqBBMEvTBWfIbVLmkG9rIzmPhWniyMox88Sqw0vEH5G+2gexqvRgpviSdTY5N0kustjQXoc63U\n",
       "y0DOOckEX0CkOABgFRcrF5ebVf/miuZVhiDQkOZR6v4pEocUO4OJr+fJ4LIOYyV7+QY5Za3B8BtZ\n",
       "h0NJMc9kWAe1aE5zove4yHygFJ1kgk8ke7OHS2ML0RywwKwtCCE+MX6lMdb+5Pce0wJZcC1411Lr\n",
       "AWPqT8c4MiNUIZLPf9Cdz5PrvLMwXeLJ9sBjLjKl6Es7yQSfQNaLtdiO6CQX5yyT47wgHFmjtafV\n",
       "24ZJxYtkY8ixkwyl11qgJs2R7SKHQyVjX2QOaiQHbwMXjdCnYnee3UvOcmRyDrcL0oBdp+OGD64e\n",
       "2W+TqU+8jvdX3icjaPVByJYk4Tlr+Zqe4AUFb5s7usugGGsPEy9Eo/eGWRsfBigY60LjLma8iHmo\n",
       "7wVFJKuZgK34Nc7im1w+ggHcFEp28futnuMAr9Xq1/gdMfHB8S81myx0P5Y7hRQG+MXqA9XImRtq\n",
       "J8lgazkzBcEXWL52MbaPIVBgFhM/XnY9U49dGbcybIyVR6yi7cXNcFBczyIF6Rb7E+Q/6B+TeIjW\n",
       "FIWdZBuiHKiDAZ6sjUbVK3w0yjFQWTIss/pAsuDLcSUJqlFwtpkTj/f03gp0BjOwk3T1HTQUqWWI\n",
       "by5LFoELXXbgt9IIrwPY0d+7siiSyVuGyESTbYr8vG4Ffq0ukNH0PAGneDLqC0Z5snewk0vUs4b1\n",
       "Ecrnu/MfQkgLZQwy+dLfZi915O5NK7BgbScSdgz+qFPLEH+46h2xXy+/B/HEzd2VRM/4nByuQUnY\n",
       "/adplV7Pk1Hfr/Azl2clVUfp5Mp7rT5Ibvij/hJIycqC7qPHRsuqbnfl2vUKz0YnYTtmvYf+Clur\n",
       "6sxDoLmePNfjWup48lRP3JO0yaaWrybTeAYVv2r1QclKDc77i4IwkEJxuYtZxoBn/uNTTAdssNYa\n",
       "i0ze0tafdpGtGcg5yRSpW7fJMvUfUdytOvjSZh+EzHvqBQyyaGVByOPTAhpP1reA57ORcs6WIXLD\n",
       "UaZszrcFQT2UqfS2QFyp1ZdAifHrWZZkaE1lQQqhH/zKsFgbdZN5OittUis+DymlKt6DBLSlUB0Z\n",
       "mXUrqYi4DRIKa1mAIEOSTeYjlnz0zrzh8Q5q1ZPBI0Jg9IO1vv67NzyTNDnCny4qWbn3jQnH+8aQ\n",
       "u145w8Cz8HdCdYkCSIkn0VpdhLu4/QMWl4hRKPD07gAAAABJRU5ErkJggg==\n",
       "\" style=\"display:inline;vertical-align:middle;\" /></a> <a class=\"ProveItLink\" href=\"__pv_it/0bf02eb10cfaae8debfb161ac166ea0d1b8639760/proof.ipynb\" style=\"text-decoration: none\">&#x22A2;&nbsp;</a><a class=\"ProveItLink\" href=\"../packages/proveit/__pv_it/083d1a4d47b38d668346e2f448c1cdc323a8bf1b0/expr.ipynb\"><img src=\"data:image/png;base64,iVBORw0KGgoAAAANSUhEUgAAAFUAAAAVBAMAAADFg78FAAAAMFBMVEX////u7u5mZmaYmJi6urqq\n",
       "qqp2dnbMzMwQEBBEREQyMjLc3NwiIiJUVFSIiIgAAAAeC3ydAAAAAXRSTlMAQObYZgAAAZhJREFU\n",
       "KM+dkr1Lw1AUxU/apmkamhaHUic7FQSHouLcUUSwk6MGB8fSWZB2qJOghYK4aFv0D+iiW7UouAm6\n",
       "OFkoGdSl9MMq4gd633tJbAczeOHd/Mg9yXv33Af8M3ytv2uzPLe/m83rGqNNl/94svzxDqjbDKpu\n",
       "m1ZYUl4BmRb0lpt2jiV9AHj7BIGImzbGktoFQi8EC66Nq2lKYTrJRJEgQeu0fWKKo0QT0HpCNl/Q\n",
       "WvDHiXIGlAv26giQDO9loMEFxhL0LietZE5SS6y5zt16gltWAPxUl7k7SnoKapFrJUi3ZH6esGy3\n",
       "NGCvQ6JOtIOwbUydfcw2+cSvlsyw63IPuaw1z7ilVfq2doul8yzEPp4KnqzCMv8gL+wVUSKfax3o\n",
       "Ea4OxnEATrKBEJWoN7Vna9eA1eQ+ziCxY3lufM+CNqZnjsE8Gyt/2SdcBMYfopkkpF3yRTo0PwTF\n",
       "vW80h2BqeDKBmnM5OfkbNjkzdsJrOETrHrG0IBGZ0ZFXh7VX2MOQVqqMaus2sA5WzJRFPEK1Ua3m\n",
       "coEfgR+y/WIlsnhbtgAAAABJRU5ErkJggg==\n",
       "\" style=\"display:inline;vertical-align:middle;\" /></a></span><br>"
      ],
      "text/plain": [
       "nestedForallSpec3: {z < (x + y) , forall_{x} [forall_{y} [forall_{z | z < (x + y)} P(x , y , z)]]} |- P(x , y , z)"
      ]
     },
     "execution_count": 61,
     "metadata": {},
     "output_type": "execute_result"
    }
   ],
   "source": [
    "nestedForallSpec3 = nestedForallSpec2.specialize(assumptions=[nestedForallSpec2.conditions[0]])"
   ]
  },
  {
   "cell_type": "code",
   "execution_count": 62,
   "metadata": {},
   "outputs": [
    {
     "data": {
      "text/html": [
       "<table><tr><th>&nbsp;</th><th>step type</th><th>requirements</th><th>statement</th></tr>\n",
       "<tr><td>0</td><td>specialization</td><td>1, 2</td><td><span style=\"font-size:20px;\"><a class=\"ProveItLink\" href=\"__pv_it/c0151b80e54da1c2e7c9c8b48fce0f23c8ac1d670/expr.ipynb\"><img src=\"data:image/png;base64,iVBORw0KGgoAAAANSUhEUgAAAbIAAAAaBAMAAAAgZcQYAAAAMFBMVEX///+6urp2dnaqqqoiIiIQ\n",
       "EBBERETu7u6IiIjc3NwyMjJUVFSYmJhmZmbMzMwAAAD0pS5FAAAAAXRSTlMAQObYZgAABaxJREFU\n",
       "WMPdmF1oHFUUx8/s18xmdycLJlJbJdMaSCsEFh9KSI1ZwoL14yESxZKHuvRjaazYNdqiEekSNA20\n",
       "oWMraZcg3aJQ3VbYliJNK+0iAWtAGmsoWqsu2D5owESRxtpSPffe+bh3ZjfZaOpDL+zs2bMzd/6/\n",
       "e885984AgHoFFrEFEo+7nZsSOtz5VpfQQEp0oNUWpY7Ti3pXXzlnHP6XFizgYYQYKfJTmYW7jgz8\n",
       "E3gI5SqcJ2Uq9RCOmpZcjixdhiy9CMIrCzIk2WSB3FxkU5X7+UGYoXBGJKMzdF4kc/uqbcq5m2dO\n",
       "js4jiEmyyUJzkh2p3E2NaXhi5FdaJHvQdXW8jK/qVosCN+vzXV5TDdl7JTpWwtzLQpkJa2ZkJ/Ew\n",
       "7IjGYfMPjsztq7pN483aNacgVzhq85NNHaZffiE1vCJnJz+xXzvIyBxGYiKZ21d124spdGHCKcjZ\n",
       "iKR5yJaeNb6hMhlsNI3Pstls3EEWXpXNvuuoIG5f1W0bfs7FnIJcbaOLLEBiRHo2epCd0PqtceZF\n",
       "/OzbvX8oI5D1XoQgLhPNVhKkUps0Z9W/nkp1OKu+y+co2CWHw2tZf+GEXDcEBVeOtnzD5qhZg0Ns\n",
       "Fpn4ZheZn2gePv89S4K3mswOj+HVWvgpf1wg0xpAmUF+86xQCQK6kwxnvcdJJvgkF9k+p0M1x0v9\n",
       "HeDqBBMEvTBWfIbVLmkG9rIzmPhWniyMox88Sqw0vEH5G+2gexqvRgpviSdTY5N0kustjQXoc63U\n",
       "y0DOOckEX0CkOABgFRcrF5ebVf/miuZVhiDQkOZR6v4pEocUO4OJr+fJ4LIOYyV7+QY5Za3B8BtZ\n",
       "h0NJMc9kWAe1aE5zove4yHygFJ1kgk8ke7OHS2ML0RywwKwtCCE+MX6lMdb+5Pce0wJZcC1411Lr\n",
       "AWPqT8c4MiNUIZLPf9Cdz5PrvLMwXeLJ9sBjLjKl6Es7yQSfQNaLtdiO6CQX5yyT47wgHFmjtafV\n",
       "24ZJxYtkY8ixkwyl11qgJs2R7SKHQyVjX2QOaiQHbwMXjdCnYnee3UvOcmRyDrcL0oBdp+OGD64e\n",
       "2W+TqU+8jvdX3icjaPVByJYk4Tlr+Zqe4AUFb5s7usugGGsPEy9Eo/eGWRsfBigY60LjLma8iHmo\n",
       "7wVFJKuZgK34Nc7im1w+ggHcFEp28futnuMAr9Xq1/gdMfHB8S81myx0P5Y7hRQG+MXqA9XImRtq\n",
       "J8lgazkzBcEXWL52MbaPIVBgFhM/XnY9U49dGbcybIyVR6yi7cXNcFBczyIF6Rb7E+Q/6B+TeIjW\n",
       "FIWdZBuiHKiDAZ6sjUbVK3w0yjFQWTIss/pAsuDLcSUJqlFwtpkTj/f03gp0BjOwk3T1HTQUqWWI\n",
       "by5LFoELXXbgt9IIrwPY0d+7siiSyVuGyESTbYr8vG4Ffq0ukNH0PAGneDLqC0Z5snewk0vUs4b1\n",
       "Ecrnu/MfQkgLZQwy+dLfZi915O5NK7BgbScSdgz+qFPLEH+46h2xXy+/B/HEzd2VRM/4nByuQUnY\n",
       "/adplV7Pk1Hfr/Azl2clVUfp5Mp7rT5Ibvij/hJIycqC7qPHRsuqbnfl2vUKz0YnYTtmvYf+Clur\n",
       "6sxDoLmePNfjWup48lRP3JO0yaaWrybTeAYVv2r1QclKDc77i4IwkEJxuYtZxoBn/uNTTAdssNYa\n",
       "i0ze0tafdpGtGcg5yRSpW7fJMvUfUdytOvjSZh+EzHvqBQyyaGVByOPTAhpP1reA57ORcs6WIXLD\n",
       "UaZszrcFQT2UqfS2QFyp1ZdAifHrWZZkaE1lQQqhH/zKsFgbdZN5OittUis+DymlKt6DBLSlUB0Z\n",
       "mXUrqYi4DRIKa1mAIEOSTeYjlnz0zrzh8Q5q1ZPBI0Jg9IO1vv67NzyTNDnCny4qWbn3jQnH+8aQ\n",
       "u145w8Cz8HdCdYkCSIkn0VpdhLu4/QMWl4hRKPD07gAAAABJRU5ErkJggg==\n",
       "\" style=\"display:inline;vertical-align:middle;\" /></a> <a class=\"ProveItLink\" href=\"__pv_it/0bf02eb10cfaae8debfb161ac166ea0d1b8639760/proof.ipynb\" style=\"text-decoration: none\">&#x22A2;&nbsp;</a><a class=\"ProveItLink\" href=\"../packages/proveit/__pv_it/083d1a4d47b38d668346e2f448c1cdc323a8bf1b0/expr.ipynb\"><img src=\"data:image/png;base64,iVBORw0KGgoAAAANSUhEUgAAAFUAAAAVBAMAAADFg78FAAAAMFBMVEX////u7u5mZmaYmJi6urqq\n",
       "qqp2dnbMzMwQEBBEREQyMjLc3NwiIiJUVFSIiIgAAAAeC3ydAAAAAXRSTlMAQObYZgAAAZhJREFU\n",
       "KM+dkr1Lw1AUxU/apmkamhaHUic7FQSHouLcUUSwk6MGB8fSWZB2qJOghYK4aFv0D+iiW7UouAm6\n",
       "OFkoGdSl9MMq4gd633tJbAczeOHd/Mg9yXv33Af8M3ytv2uzPLe/m83rGqNNl/94svzxDqjbDKpu\n",
       "m1ZYUl4BmRb0lpt2jiV9AHj7BIGImzbGktoFQi8EC66Nq2lKYTrJRJEgQeu0fWKKo0QT0HpCNl/Q\n",
       "WvDHiXIGlAv26giQDO9loMEFxhL0LietZE5SS6y5zt16gltWAPxUl7k7SnoKapFrJUi3ZH6esGy3\n",
       "NGCvQ6JOtIOwbUydfcw2+cSvlsyw63IPuaw1z7ilVfq2doul8yzEPp4KnqzCMv8gL+wVUSKfax3o\n",
       "Ea4OxnEATrKBEJWoN7Vna9eA1eQ+ziCxY3lufM+CNqZnjsE8Gyt/2SdcBMYfopkkpF3yRTo0PwTF\n",
       "vW80h2BqeDKBmnM5OfkbNjkzdsJrOETrHrG0IBGZ0ZFXh7VX2MOQVqqMaus2sA5WzJRFPEK1Ua3m\n",
       "coEfgR+y/WIlsnhbtgAAAABJRU5ErkJggg==\n",
       "\" style=\"display:inline;vertical-align:middle;\" /></a></span></td></tr>\n",
       "<tr><td>&nbsp;</td><td colspan=4 style=\"text-align:left\"><span style=\"font-size:20px;\"><a class=\"ProveItLink\" href=\"../packages/proveit/__pv_it/251502494639118b4892de8e9d720a5fcce840e10/expr.ipynb\"><img src=\"data:image/png;base64,iVBORw0KGgoAAAANSUhEUgAAAAoAAAAJBAMAAAD5iKAgAAAALVBMVEX///8yMjLMzMx2dnaqqqpU\n",
       "VFTu7u5mZmaYmJhERESIiIjc3NwQEBC6uroAAAB+iRisAAAAAXRSTlMAQObYZgAAADlJREFUCNdj\n",
       "YOA9c2EXA8POrvIJDAwJDKkJDAwM3AFAguE6iGAxAJHODAwBDEwSFY0XGNgZ+o4wAABKtAsIcBKm\n",
       "agAAAABJRU5ErkJggg==\n",
       "\" style=\"display:inline;vertical-align:middle;\" /></a> : <a class=\"ProveItLink\" href=\"../packages/proveit/__pv_it/251502494639118b4892de8e9d720a5fcce840e10/expr.ipynb\"><img src=\"data:image/png;base64,iVBORw0KGgoAAAANSUhEUgAAAAoAAAAJBAMAAAD5iKAgAAAALVBMVEX///8yMjLMzMx2dnaqqqpU\n",
       "VFTu7u5mZmaYmJhERESIiIjc3NwQEBC6uroAAAB+iRisAAAAAXRSTlMAQObYZgAAADlJREFUCNdj\n",
       "YOA9c2EXA8POrvIJDAwJDKkJDAwM3AFAguE6iGAxAJHODAwBDEwSFY0XGNgZ+o4wAABKtAsIcBKm\n",
       "agAAAABJRU5ErkJggg==\n",
       "\" style=\"display:inline;vertical-align:middle;\" /></a></span></td></tr><tr><td>1</td><td>specialization</td><td>3</td><td><span style=\"font-size:20px;\"><a class=\"ProveItLink\" href=\"__pv_it/482dc020459256bd00f80ffb36546af4670aa6240/expr.ipynb\"><img src=\"data:image/png;base64,iVBORw0KGgoAAAANSUhEUgAAAT8AAAAaBAMAAAAznkapAAAAMFBMVEX///+6urp2dnaqqqoiIiIQ\n",
       "EBBERETu7u6IiIjc3NwyMjJUVFSYmJhmZmbMzMwAAAD0pS5FAAAAAXRSTlMAQObYZgAABGdJREFU\n",
       "WMPVl11oFFcUgM/MuDu7O7OThUaQKjjaB39AWPpQghBcbMC/ChEftELpqjWoDXVVKhgILpG+GIPr\n",
       "D6FLQNenaPRhI6X1p8gigiJa01TEBynzYIVWqFHbSvxB77l3ZvfeuZPpiAp6YHbOnjl35pt7fu4d\n",
       "ALBugyzxtiWRbG9BmttseoD2KzOcLQV4TYpoexuSrLID+vP4N/EY3lVA+AJ/jApAIQBGDwIsvIHn\n",
       "K8WJr5kZAXCzB5hD5bIIQ+fLLIqAsmNU6X1x7twymkz3wtx+FwDPeoAfoTIoAqpZckoVREDZMbI8\n",
       "IVX2+f8OTwUD9qM5LwLS//2+EMuOUcV6SMryIeZ8MczNtAMBcaLSWR8MvulvPpvsGFUSD8jTnxMl\n",
       "FprHensgoDmnXD7kL4gL5XI557PJjlElPkYe9YgoH4b7rZcA4xix/zo6FvoBmzo6vrL9bUZyFOWw\n",
       "36B5ShOZh134qFFyHOg92McivW0Ukm6fm7wiSWzzJMAYep4H2OQHNByIl/yAgqMidTBbSj3Pct8G\n",
       "azkqJ0kcbfOzGAuOPR0SY2xsZ99NcprPA14n6ZA8gdpU0Ct+QKUKXVKjFhzjIl2BM9TzdIZ73ndq\n",
       "5ih93RUAKoHSHMqfvcFCSKhB/wnnkQdMHwe46LBnJ2oSTA72SjbBUQDUb5agpf6vXuneO27xauMB\n",
       "shjudR1WQ5NX1gN0pnlAOFQEbTGtsdqkggSzFxZJNsGRB9TnZvjo1wENh53/gQagm1c0Rx/DfddD\n",
       "GZEAzU/Jzy6cEb2C/X32cK/DwXRZxGtKHlZxNuZ4Z/BgA9BaupMEdA8GlfQItXfKeReQDnXbnvXc\n",
       "A1yJP0ccd9VMV+A798LHrFR4wAUlr4ph0zC5d+HHWJaDiQ9kQC+OW+38ZgEdYfia3QA0ppHC3IOv\n",
       "aZH0nGXkVzJANlSp1tsgk04yMaV9kChQxNQIfM2WeM0Gg5yuBPZBgNYcFuVJIZzaDeK4NZfI84Ct\n",
       "tPq28yHWs3CHzhPCZFI1N8RsqMVqKl7fM5E+sqC2Ab4HHaOerirPmPbXtatHIajNMECWFOPi1mo1\n",
       "XraNIm+jjskMD7gfoHstTSi8a1MJjKGhNUPH2FAG2L3lqXeXZoAdPdtm10D/kgRQ39g3zrQR818M\n",
       "39EJAE2cZavdEgAvIVAmxuclc/wb/uRy0LFK0P0NziDO9R/guDlIhyr+lTtW760K1dScp4UsdW4v\n",
       "VSuqtDmNOdMlm3Xqg3wD8N6MT7BHnCF3z4E1NhdsDxCHmnbAdsDVyPEDfJtlGhO1GAK4Y/etWRKM\n",
       "dnqzZEsoa0oNwOLk43i6SwgXkZC19hRcQDo0nfEvLoM84EJYBzxgF4QABm7vy3B6wi2/uJLcdWC3\n",
       "0Afp0JR06wFPwaxs6cu4GpMzMqDaHgq4TqlEBMQY1LWqN7RF/uQI2RAmHAFwGU3LE6GALT0QHVAT\n",
       "1ks6tPoaH01ptpKZPwcBBnwDSzZDcvnFb1Bf/TOrua1KD9A64T2QlwAcL4FFPLf2AAAAAElFTkSu\n",
       "QmCC\n",
       "\" style=\"display:inline;vertical-align:middle;\" /></a> <a class=\"ProveItLink\" href=\"__pv_it/19a2d2c5ad3b4fa6e35eebbcc7b70f2e2067b8160/proof.ipynb\" style=\"text-decoration: none\">&#x22A2;&nbsp;</a><a class=\"ProveItLink\" href=\"__pv_it/e605d4728e0f556fed05dce39165fd2afb13575b0/expr.ipynb\"><img src=\"data:image/png;base64,iVBORw0KGgoAAAANSUhEUgAAAMYAAAAXBAMAAACi1y3kAAAAMFBMVEX///8QEBC6urrMzMxUVFRm\n",
       "ZmZERETc3NwyMjKqqqp2dnaIiIiYmJgiIiLu7u4AAAAU9Wx4AAAAAXRSTlMAQObYZgAAAwtJREFU\n",
       "SMe9Vl1IFFEU/nZndHd21lF8SQlqhR4KCycS60UUFQSlEAIfhGD7QcsEh5LEIlp6SShkX4xoHxqE\n",
       "yApiAxfMFxdCCOphHwpCIrZAM18yyawo69y5d3bHXRtpiw7cPWfuPXO+e79zzp0F/oOk/0EMb/z3\n",
       "a8EQkGLG00IiT/xsaXluMKvWze0wcJfpkYK2/wUo3rLp637gHClfuBAI6Rug0IAad3MLmvBTQoqi\n",
       "hWCoyxRghQyPa061MgTvDA5eLIiq4iVA/krGTne/U8Dn7u5ZF4+zuROKbZRGgA+M5S4a5yeGEpyy\n",
       "xS741rhHVbmP5m4DzUBPtgpzI/rMvDTYMw0mpBfMuEaEmMFXHqtEYdZAXeLv9iU6Sd0AdkCLZM+/\n",
       "HiDtmMjkbEzo6bZ7XVbplgMBiqvo1haiR1DMa0iDdoidBiiBmtwYQ+s0EMs8ZWpvQeh+O9XLLJws\n",
       "1jVsRaldaAPWeak8kiXpDTG08ZCTxgyGrHP9A1kMKi47rrKGBuHh7RAYWoS1af3IUBZDevmOmJlk\n",
       "7JQRDxPVzQKjOoxtdjtIKzZGJfu5pItrqSiCh2LhJs88jZ4m+mmaMbMY8m4qlUnGoESpeiCHKzmG\n",
       "Fl+VyuBtzLQHlz7qE2MaatpC8XfgBL8GFRMyqSc0Rq16eO/kSoui3totixfyJwVXvrcpNWzhMtc1\n",
       "G4OK81byKC5AY/QVNXq/c+vAzLPLfJkz6Qs5Mc4Ac8csctmeSw3Iw8MVw1chm3JcYMz1f7IzsAeY\n",
       "n1q8n4S2nepMO51Y5VZH8COjm+EE2bn2Yb8jH7pkYO44OwfLwl7oIh+ekEfnc07xGJn2sqxAyrbE\n",
       "XSIaq21XOItRO3adFV4rOaQgLY3DtDH0GuuSy7v1bIvGQbyJcotLwD6u6q0wshjxqitM1RHIazr7\n",
       "6FRaYCjtJ4nwUG7rjzgxZtELJ8ZC3j237qlOx6N1/TGIduuDkCMDtsG2HEuEhMWl1R2DZD5jsez3\n",
       "einfsTwMn8sHRNU3xVCSzqfYlAD7G5HzZh7nTgT++F/GL8oLtHh3ij6DAAAAAElFTkSuQmCC\n",
       "\" style=\"display:inline;vertical-align:middle;\" /></a></span></td></tr>\n",
       "<tr><td>&nbsp;</td><td colspan=4 style=\"text-align:left\"><span style=\"font-size:20px;\"><a class=\"ProveItLink\" href=\"../packages/proveit/__pv_it/f8b9edf8e16034727f0aad55bb83e392c3db40d40/expr.ipynb\"><img src=\"data:image/png;base64,iVBORw0KGgoAAAANSUhEUgAAAAsAAAANBAMAAACN24kIAAAAMFBMVEX///+YmJhUVFQyMjIQEBBE\n",
       "REQiIiKqqqrMzMyIiIi6urrc3NxmZmZ2dnbu7u4AAADXeCicAAAAAXRSTlMAQObYZgAAAFhJREFU\n",
       "CNdj4LtzgWH/AwZerg8M8xkY2nkSGEIZGB6wTGD4ycDAUP+A4weQOszA6QCkbBhYFYDUIYb1AkDq\n",
       "6czzGxhA4BoQMyXwuQMptgusF4AU+8xTQBIAUqMVoSp/SLMAAAAASUVORK5CYII=\n",
       "\" style=\"display:inline;vertical-align:middle;\" /></a> : <a class=\"ProveItLink\" href=\"../packages/proveit/__pv_it/f8b9edf8e16034727f0aad55bb83e392c3db40d40/expr.ipynb\"><img src=\"data:image/png;base64,iVBORw0KGgoAAAANSUhEUgAAAAsAAAANBAMAAACN24kIAAAAMFBMVEX///+YmJhUVFQyMjIQEBBE\n",
       "REQiIiKqqqrMzMyIiIi6urrc3NxmZmZ2dnbu7u4AAADXeCicAAAAAXRSTlMAQObYZgAAAFhJREFU\n",
       "CNdj4LtzgWH/AwZerg8M8xkY2nkSGEIZGB6wTGD4ycDAUP+A4weQOszA6QCkbBhYFYDUIYb1AkDq\n",
       "6czzGxhA4BoQMyXwuQMptgusF4AU+8xTQBIAUqMVoSp/SLMAAAAASUVORK5CYII=\n",
       "\" style=\"display:inline;vertical-align:middle;\" /></a></span></td></tr><tr><td>2</td><td>assumption</td><td></td><td><span style=\"font-size:20px;\"><a class=\"ProveItLink\" href=\"__pv_it/2617ee670b831fb3d4e38e12288f4d70850354170/expr.ipynb\"><img src=\"data:image/png;base64,iVBORw0KGgoAAAANSUhEUgAAAHkAAAAVBAMAAACQ4lxbAAAAMFBMVEX///9ERETc3NyqqqpUVFS6\n",
       "urrMzMwyMjIQEBCIiIh2dnYiIiLu7u5mZmaYmJgAAABJJ2g3AAAAAXRSTlMAQObYZgAAAc1JREFU\n",
       "OMtjYGDgu8dABmBbpQCieHbhkGedgEsnXwBIezOIyfkBh5oU3BZfAxHXQQRXAw4lNbh1s4OIFdh1\n",
       "6yaA3YTicB4FFKcvwKk7pRRMcRxAFmRGNasBl+5wNyjNgFs3gzCK7ohWJqi0+SWogltArDVFee4E\n",
       "FN2nbjEw/WFgWAvTzVvAwMAkN/ciRHb2GpjxdUAHLuDbx7EBRfeCeHAkmQOZ70H8DGDk8TDw+IAl\n",
       "VyMc2Ap0FlAlcwKybjaD2wyMAkC3ggL+AjCM2sDCKpDQEAyA6/4KMpRFANXfPAydDPxAZj6II/4A\n",
       "aAzIcNYL0PTnboCkGxjwYE285eXV7eXlDiBT/jDkJ0B0c4OijQXobwYrmB6m2w+gLHBC1E9gOIDi\n",
       "b2AozWCAuBzsby5gsDAvYGCBReXqORCGHDBRKMxn4ETVDfSsCJB6jhxj6W/flcI9/BoS7MBIsX8g\n",
       "waCJGt+8Dqz/GJBiDKT7At8PA0RSMAcHczQDw8FZp1Y+QNXNIzn3E5AqxZ3OIYBDAXtaA/kUd0pF\n",
       "yQkYmd2b4QTQlVwTYLr5SMqhuxikgORxeP7m2YlDtwo2Qcu5oPTkBEoarRAnLsaumwlnycSZAC3X\n",
       "AKJNcQuS6o1EAAAAAElFTkSuQmCC\n",
       "\" style=\"display:inline;vertical-align:middle;\" /></a> <a class=\"ProveItLink\" href=\"__pv_it/d6f06c6c7176bd3eb69672f5a9331723c61806bc0/proof.ipynb\" style=\"text-decoration: none\">&#x22A2;&nbsp;</a><a class=\"ProveItLink\" href=\"__pv_it/f939d204ddb18c9833bf0e9cd40af9ed0c961c270/expr.ipynb\"><img src=\"data:image/png;base64,iVBORw0KGgoAAAANSUhEUgAAAGUAAAAVBAMAAACtcD09AAAAMFBMVEX///8iIiIyMjLMzMx2dnaq\n",
       "qqpUVFTu7u5mZmaYmJhERESIiIjc3NwQEBC6uroAAABuzmuqAAAAAXRSTlMAQObYZgAAAXtJREFU\n",
       "OMtjYKAaeI1TZh4uCeYEnHo4DHBIMBXgdoICugBPM5jajSJYg8Kbgu6mpAdg+jqKaDQKrxZVC58a\n",
       "xLF8Cnj0cAUAFdx9cBrCY9U4APWnA9CV3jnR3Sh62D0cGM4XMLA0MDCcmt2xACzGLQLzOdMEBoYS\n",
       "hokTLqLoYeH7wLAfaDLQEQUMZWC1LNJw63mBvnIAygej6DHlEGBYBXTXBVBYQSKjah1cD/8DkFFZ\n",
       "aP4p4N3A8BsYTh+A7BdQKTNVZD0MDLfB7CYlJVklJTUQM76A+TNED6sDTOkJSZjbAkDWf2ZgRw23\n",
       "JgbuCxC3hTAwwFJKiTQkFLiAYTCH+wPDdlQ9GgxcQJWcCgzMmp2THsBs4oQEHTA4WX9yXeDZgKqn\n",
       "jeH9BLAkB8P8q4gIY1UGx6kAA/tqd5edaHFatbsfGIFMD7Cnwzs40oEjZtrBkQ6hmYlNgB3kIm9S\n",
       "8gKjAxcwiNkVcOjhwZbnWHf3gWw7gCtjncaZ5TYzMAAAROlSV4nISxAAAAAASUVORK5CYII=\n",
       "\" style=\"display:inline;vertical-align:middle;\" /></a></span></td></tr>\n",
       "<tr><td>3</td><td>specialization</td><td>4</td><td><span style=\"font-size:20px;\"><a class=\"ProveItLink\" href=\"__pv_it/482dc020459256bd00f80ffb36546af4670aa6240/expr.ipynb\"><img src=\"data:image/png;base64,iVBORw0KGgoAAAANSUhEUgAAAT8AAAAaBAMAAAAznkapAAAAMFBMVEX///+6urp2dnaqqqoiIiIQ\n",
       "EBBERETu7u6IiIjc3NwyMjJUVFSYmJhmZmbMzMwAAAD0pS5FAAAAAXRSTlMAQObYZgAABGdJREFU\n",
       "WMPVl11oFFcUgM/MuDu7O7OThUaQKjjaB39AWPpQghBcbMC/ChEftELpqjWoDXVVKhgILpG+GIPr\n",
       "D6FLQNenaPRhI6X1p8gigiJa01TEBynzYIVWqFHbSvxB77l3ZvfeuZPpiAp6YHbOnjl35pt7fu4d\n",
       "ALBugyzxtiWRbG9BmttseoD2KzOcLQV4TYpoexuSrLID+vP4N/EY3lVA+AJ/jApAIQBGDwIsvIHn\n",
       "K8WJr5kZAXCzB5hD5bIIQ+fLLIqAsmNU6X1x7twymkz3wtx+FwDPeoAfoTIoAqpZckoVREDZMbI8\n",
       "IVX2+f8OTwUD9qM5LwLS//2+EMuOUcV6SMryIeZ8MczNtAMBcaLSWR8MvulvPpvsGFUSD8jTnxMl\n",
       "FprHensgoDmnXD7kL4gL5XI557PJjlElPkYe9YgoH4b7rZcA4xix/zo6FvoBmzo6vrL9bUZyFOWw\n",
       "36B5ShOZh134qFFyHOg92McivW0Ukm6fm7wiSWzzJMAYep4H2OQHNByIl/yAgqMidTBbSj3Pct8G\n",
       "azkqJ0kcbfOzGAuOPR0SY2xsZ99NcprPA14n6ZA8gdpU0Ct+QKUKXVKjFhzjIl2BM9TzdIZ73ndq\n",
       "5ih93RUAKoHSHMqfvcFCSKhB/wnnkQdMHwe46LBnJ2oSTA72SjbBUQDUb5agpf6vXuneO27xauMB\n",
       "shjudR1WQ5NX1gN0pnlAOFQEbTGtsdqkggSzFxZJNsGRB9TnZvjo1wENh53/gQagm1c0Rx/DfddD\n",
       "GZEAzU/Jzy6cEb2C/X32cK/DwXRZxGtKHlZxNuZ4Z/BgA9BaupMEdA8GlfQItXfKeReQDnXbnvXc\n",
       "A1yJP0ccd9VMV+A798LHrFR4wAUlr4ph0zC5d+HHWJaDiQ9kQC+OW+38ZgEdYfia3QA0ppHC3IOv\n",
       "aZH0nGXkVzJANlSp1tsgk04yMaV9kChQxNQIfM2WeM0Gg5yuBPZBgNYcFuVJIZzaDeK4NZfI84Ct\n",
       "tPq28yHWs3CHzhPCZFI1N8RsqMVqKl7fM5E+sqC2Ab4HHaOerirPmPbXtatHIajNMECWFOPi1mo1\n",
       "XraNIm+jjskMD7gfoHstTSi8a1MJjKGhNUPH2FAG2L3lqXeXZoAdPdtm10D/kgRQ39g3zrQR818M\n",
       "39EJAE2cZavdEgAvIVAmxuclc/wb/uRy0LFK0P0NziDO9R/guDlIhyr+lTtW760K1dScp4UsdW4v\n",
       "VSuqtDmNOdMlm3Xqg3wD8N6MT7BHnCF3z4E1NhdsDxCHmnbAdsDVyPEDfJtlGhO1GAK4Y/etWRKM\n",
       "dnqzZEsoa0oNwOLk43i6SwgXkZC19hRcQDo0nfEvLoM84EJYBzxgF4QABm7vy3B6wi2/uJLcdWC3\n",
       "0Afp0JR06wFPwaxs6cu4GpMzMqDaHgq4TqlEBMQY1LWqN7RF/uQI2RAmHAFwGU3LE6GALT0QHVAT\n",
       "1ks6tPoaH01ptpKZPwcBBnwDSzZDcvnFb1Bf/TOrua1KD9A64T2QlwAcL4FFPLf2AAAAAElFTkSu\n",
       "QmCC\n",
       "\" style=\"display:inline;vertical-align:middle;\" /></a> <a class=\"ProveItLink\" href=\"__pv_it/6779d186bcfb34a308beb07b85b1b3cfe93b44320/proof.ipynb\" style=\"text-decoration: none\">&#x22A2;&nbsp;</a><a class=\"ProveItLink\" href=\"__pv_it/ca468cdca179d7508ee942e12a040cd182fa3bea0/expr.ipynb\"><img src=\"data:image/png;base64,iVBORw0KGgoAAAANSUhEUgAAAPYAAAAZBAMAAADwLs6sAAAAMFBMVEX///8QEBC6urrMzMxUVFRm\n",
       "ZmZERETc3NwyMjKqqqp2dnaIiIiYmJgiIiLu7u4AAAAU9Wx4AAAAAXRSTlMAQObYZgAAA69JREFU\n",
       "SMfFlltIFFEYx/+7M+64zu5o+VARxQbdwKIVfKggkoyCIhIp6UpGsUYhDSEuFNUSREYRC10eKmgI\n",
       "xC4kC4UPGbX0UhTlPvQQhjFGFzEiQdGoqM5tdmZndIvF6sDMfN93zpzf+b7znQvgKU29Ov5+8ff2\n",
       "jGHN4N+U5v/KNsdgaxPRdUWeuoeczbx8mssO008oVQBQXT+8ct1qKknVeZoVRRn7OpXP5LJLkuRT\n",
       "bBbibWkC2Kn/9vcEY7eQt9KQy2Z6S0GRXm4AV8iDrrzNnjA2HV9R0pVrNA6bC2I/iADdtUSYmbdZ\n",
       "H2OH2uPxw+48fxKPxwtL9/3kWU9c8SfyNgsk2RobicV63OzSWKzJGP9PJeq2ZAP3BdBGaDaR35Wb\n",
       "qy9tZVatzcBRngD+SZFDQEktY9cAjW62HEXA3twibtJBz2iWiq/0FVhGQ16cBgbwLD2DmUv8g3jA\n",
       "W7Q83UiyKZhg7NnQEm62vxr9tiEnE3HEYci6WyLGpw7faGungo8YDMI7y8xLijKI8RYm3pIA+MsY\n",
       "Oww17dnXMrg3DvtdI4IpT401/MAPa61FKGaV0ExfCt+sCaMLXxpkbDUdNj3se3g9NnvgGBzTYdfU\n",
       "CGTGwQamW9VXTGlIiHNgs7VEFYlBJ3ymg91PtyXp5YdklsAV9SSNJ4nxnYoaUVPRQNeTWM7La0Un\n",
       "PvqnMmRtz5uglnEpyHJYxByNK4CPpXql0+9AMxm3vGCL7R1T1NNUXAx0yA3TeI2WGpXKaNZklzcP\n",
       "PpnHR+og7nP6cQSquXQRIG6FeK7hPIEdWYhOJzu4nc1i0hFZokivmEQ4keK0qFHeZNQGNh62vK3g\n",
       "kUUU/B4oU1L4TPvbgEVpJkmntz2OZNcYfDR11mBtzhnKZuqAc1aJotUzt87R+dQht7ZObT0F2ZBT\n",
       "gq3V/7R68ZPTcF/HDZKxfaNEfd+1Q2dSEbppwIojnB2iY52M8hz2czrFUUm355sqWj3dVeaSpxJR\n",
       "UeOL+KLcllOmZKV57H0rK9l7qijlZPW77w5VVy/YfnNFWUlG84mk6TUYFju6SBwOntOCFzI7ckab\n",
       "xiVRbjrZ5zoTHnZq1gmbLRRpt46wqe07f9cUNcG1e8i7zs22z1BCDBsBw8nWEg62osupce9MOXuL\n",
       "tAtq0lkTZ5niOToU6+6g0vF11QmJF1l3sAPGfPwZm446a6D976VHVtB7yTmU5xi77bwrBruMP2fj\n",
       "slO5dJc6MkH31F73/dxz8wp5ztCOAu7nL34Badz59Nu7XaUAAAAASUVORK5CYII=\n",
       "\" style=\"display:inline;vertical-align:middle;\" /></a></span></td></tr>\n",
       "<tr><td>&nbsp;</td><td colspan=4 style=\"text-align:left\"><span style=\"font-size:20px;\"><a class=\"ProveItLink\" href=\"../packages/proveit/__pv_it/530be409e3083890784cf1d7b28c9e67e90af9360/expr.ipynb\"><img src=\"data:image/png;base64,iVBORw0KGgoAAAANSUhEUgAAAAsAAAAJBAMAAAAWSsseAAAAKlBMVEX///9ERETMzMwQEBAiIiKY\n",
       "mJju7u5mZmaqqqpUVFSIiIh2dnbc3NwAAAA/vyDhAAAAAXRSTlMAQObYZgAAAENJREFUCNdjYDi9\n",
       "8sTyBQxsG1hdmR0YuBm4LnAoMLAxcAowgADzAjB1VoEhgYH1wFoGrgSG3gBhhlMMDImrs3cFMAAA\n",
       "t0YN+iTRa+sAAAAASUVORK5CYII=\n",
       "\" style=\"display:inline;vertical-align:middle;\" /></a> : <a class=\"ProveItLink\" href=\"../packages/proveit/__pv_it/530be409e3083890784cf1d7b28c9e67e90af9360/expr.ipynb\"><img src=\"data:image/png;base64,iVBORw0KGgoAAAANSUhEUgAAAAsAAAAJBAMAAAAWSsseAAAAKlBMVEX///9ERETMzMwQEBAiIiKY\n",
       "mJju7u5mZmaqqqpUVFSIiIh2dnbc3NwAAAA/vyDhAAAAAXRSTlMAQObYZgAAAENJREFUCNdjYDi9\n",
       "8sTyBQxsG1hdmR0YuBm4LnAoMLAxcAowgADzAjB1VoEhgYH1wFoGrgSG3gBhhlMMDImrs3cFMAAA\n",
       "t0YN+iTRa+sAAAAASUVORK5CYII=\n",
       "\" style=\"display:inline;vertical-align:middle;\" /></a></span></td></tr><tr><td>4</td><td>assumption</td><td></td><td><span style=\"font-size:20px;\"><a class=\"ProveItLink\" href=\"__pv_it/482dc020459256bd00f80ffb36546af4670aa6240/expr.ipynb\"><img src=\"data:image/png;base64,iVBORw0KGgoAAAANSUhEUgAAAT8AAAAaBAMAAAAznkapAAAAMFBMVEX///+6urp2dnaqqqoiIiIQ\n",
       "EBBERETu7u6IiIjc3NwyMjJUVFSYmJhmZmbMzMwAAAD0pS5FAAAAAXRSTlMAQObYZgAABGdJREFU\n",
       "WMPVl11oFFcUgM/MuDu7O7OThUaQKjjaB39AWPpQghBcbMC/ChEftELpqjWoDXVVKhgILpG+GIPr\n",
       "D6FLQNenaPRhI6X1p8gigiJa01TEBynzYIVWqFHbSvxB77l3ZvfeuZPpiAp6YHbOnjl35pt7fu4d\n",
       "ALBugyzxtiWRbG9BmttseoD2KzOcLQV4TYpoexuSrLID+vP4N/EY3lVA+AJ/jApAIQBGDwIsvIHn\n",
       "K8WJr5kZAXCzB5hD5bIIQ+fLLIqAsmNU6X1x7twymkz3wtx+FwDPeoAfoTIoAqpZckoVREDZMbI8\n",
       "IVX2+f8OTwUD9qM5LwLS//2+EMuOUcV6SMryIeZ8MczNtAMBcaLSWR8MvulvPpvsGFUSD8jTnxMl\n",
       "FprHensgoDmnXD7kL4gL5XI557PJjlElPkYe9YgoH4b7rZcA4xix/zo6FvoBmzo6vrL9bUZyFOWw\n",
       "36B5ShOZh134qFFyHOg92McivW0Ukm6fm7wiSWzzJMAYep4H2OQHNByIl/yAgqMidTBbSj3Pct8G\n",
       "azkqJ0kcbfOzGAuOPR0SY2xsZ99NcprPA14n6ZA8gdpU0Ct+QKUKXVKjFhzjIl2BM9TzdIZ73ndq\n",
       "5ih93RUAKoHSHMqfvcFCSKhB/wnnkQdMHwe46LBnJ2oSTA72SjbBUQDUb5agpf6vXuneO27xauMB\n",
       "shjudR1WQ5NX1gN0pnlAOFQEbTGtsdqkggSzFxZJNsGRB9TnZvjo1wENh53/gQagm1c0Rx/DfddD\n",
       "GZEAzU/Jzy6cEb2C/X32cK/DwXRZxGtKHlZxNuZ4Z/BgA9BaupMEdA8GlfQItXfKeReQDnXbnvXc\n",
       "A1yJP0ccd9VMV+A798LHrFR4wAUlr4ph0zC5d+HHWJaDiQ9kQC+OW+38ZgEdYfia3QA0ppHC3IOv\n",
       "aZH0nGXkVzJANlSp1tsgk04yMaV9kChQxNQIfM2WeM0Gg5yuBPZBgNYcFuVJIZzaDeK4NZfI84Ct\n",
       "tPq28yHWs3CHzhPCZFI1N8RsqMVqKl7fM5E+sqC2Ab4HHaOerirPmPbXtatHIajNMECWFOPi1mo1\n",
       "XraNIm+jjskMD7gfoHstTSi8a1MJjKGhNUPH2FAG2L3lqXeXZoAdPdtm10D/kgRQ39g3zrQR818M\n",
       "39EJAE2cZavdEgAvIVAmxuclc/wb/uRy0LFK0P0NziDO9R/guDlIhyr+lTtW760K1dScp4UsdW4v\n",
       "VSuqtDmNOdMlm3Xqg3wD8N6MT7BHnCF3z4E1NhdsDxCHmnbAdsDVyPEDfJtlGhO1GAK4Y/etWRKM\n",
       "dnqzZEsoa0oNwOLk43i6SwgXkZC19hRcQDo0nfEvLoM84EJYBzxgF4QABm7vy3B6wi2/uJLcdWC3\n",
       "0Afp0JR06wFPwaxs6cu4GpMzMqDaHgq4TqlEBMQY1LWqN7RF/uQI2RAmHAFwGU3LE6GALT0QHVAT\n",
       "1ks6tPoaH01ptpKZPwcBBnwDSzZDcvnFb1Bf/TOrua1KD9A64T2QlwAcL4FFPLf2AAAAAElFTkSu\n",
       "QmCC\n",
       "\" style=\"display:inline;vertical-align:middle;\" /></a> <a class=\"ProveItLink\" href=\"__pv_it/f9bbb30196536973d9ff1ffeb7b5e1709c7d76500/proof.ipynb\" style=\"text-decoration: none\">&#x22A2;&nbsp;</a><a class=\"ProveItLink\" href=\"__pv_it/8b65507d111fd345c6cbab939ef0863fd5f116e60/expr.ipynb\"><img src=\"data:image/png;base64,iVBORw0KGgoAAAANSUhEUgAAAScAAAAZBAMAAACBc/UbAAAAMFBMVEX///8QEBC6urrMzMxUVFRm\n",
       "ZmZERETc3NwyMjKqqqp2dnaIiIiYmJgiIiLu7u4AAAAU9Wx4AAAAAXRSTlMAQObYZgAABAFJREFU\n",
       "SMfNl11IFFEUgM/OjOvuzjqKLxVCbdBDUdJEUr1Ei0VBUghBkCFsP2hZ0VLSUhEtvSQksi9G5EOD\n",
       "EP0IsoGCiuBCCFER+1AUkrIFlvmSRWVFWfdnfu6PbRMUdGD2njlz7p1v77nn3DsAkgTHn/qy/QOp\n",
       "HrfIJUuZT9u/kNI4vf5HqMI8AMZ8UIW/8E4l++tn0ZgHlceGBzwAmZdoloeSHf1K348tWx4nsVZT\n",
       "zG2XB3UL33fwUJEMakIFHkp29C2fUaYs+G33kAd1CqsJHorcnxLCJzv6FfUrQBhdoGeLuUUtFwpP\n",
       "SElGAMD/aI9gkx39iv4evfEjUgJF16VR4UJFb6RS58RFfT+VSuUFm+zoV4IzANoXpCwv7nfYKwmf\n",
       "mprGRKjypqZjllgSJEdeToqGsKOUpwHe4sA3oOtM3+l+GsXpBiidox5LK0uR7boHtRmgWYTSTAgm\n",
       "RSjOUZEqjFSHVceyyQL1CVbaUYys6PMADYK1GvQZ2vdo/27UXPGgloGRFqGUOExJxZNzDPJEBcbg\n",
       "rrtuux3ZfruB/MVKgAgCCZuEOdMIQZo4Bhg78Xx5UGWg5ySAPAxLNs6RgzJ2J6HLvXMz1Plfx531\n",
       "/R6/X7OfG1AF5U46tpIZ9aD0XFlBAhiGCcnGObJQxs0YG1kXSjNp+x08KJSCDkh4DjbZHkq9AGWk\n",
       "cZ3tqe0zGYApFT1ZmYDFjI06buw47UGpz16jYA3ggKF8jvSt3GxDka52WVI/OlCL8M95096xStJw\n",
       "x35wlS53ZkNurkXjFbYGMgxAsDUGRnZWrWA3ZOwItaOWB6WtQgk1gIOqouXWqyUWUSjaVYm7ZYrK\n",
       "UVRYkiOgFwhWqB4O0i01bIGGmnsMVGceJ1M7F6pwI3r4Mq8nWKhOkjVv2PAZGdhI5gMDxEI5O3y0\n",
       "q0rzIjjnjIxy/lpuH5wFA0e0JK58o9qG0YcXgCsJdpBn+WNKFZ4HS8uyNuJYGmOhTgBM7icLBI9U\n",
       "ngStrW1h2yXalUJNHv/gjFIN8GpouicHxhKUjcaR/lmq1Uff4TBdYKCieAbVCpWDeoQhYgF2nVHH\n",
       "tbCeWVOmmoTJA3im8JyuAdNeU6SrIu6UAbf2KUSL5B1N2Gbs+hZJR6QDXcBcLdnU7SsSHlRN92Wc\n",
       "z9vQiHlQZ26C5UDhrlFrni3X1tC1A15kqEYlkhWgXg3u7ZUAwnWHJJuuLEx6UNmlF3GzDlFNoHB0\n",
       "DhVsKNK1JCYW+Q4WagxagIWa8nUcTkHdL4/DfEVfZ8IgV6dI15A0dKuj4FXW1R+zNSrbfEG1KGmf\n",
       "UHiuXS3udO2Sj+BFDlS66Quqawj8Q4W5vYp0jf/Nr5l5vvEkmya53BUNkT//1Kgej+PrJ0cVB7QF\n",
       "WmZWAAAAAElFTkSuQmCC\n",
       "\" style=\"display:inline;vertical-align:middle;\" /></a></span></td></tr>\n",
       "</table>"
      ],
      "text/plain": [
       "\tstep type\trequirements\tstatement\n",
       "0\tspecialization\t1, 2\t{z < (x + y) , forall_{x} [forall_{y} [forall_{z | z < (x + y)} P(x , y , z)]]} |- P(x , y , z)\n",
       "\tz : z\n",
       "1\tspecialization\t3\t{forall_{x} [forall_{y} [forall_{z | z < (x + y)} P(x , y , z)]]} |- forall_{z | z < (x + y)} P(x , y , z)\n",
       "\ty : y\n",
       "2\tassumption\t\t{z < (x + y)} |- z < (x + y)\n",
       "3\tspecialization\t4\t{forall_{x} [forall_{y} [forall_{z | z < (x + y)} P(x , y , z)]]} |- forall_{y} [forall_{z | z < (x + y)} P(x , y , z)]\n",
       "\tx : x\n",
       "4\tassumption\t\t{forall_{x} [forall_{y} [forall_{z | z < (x + y)} P(x , y , z)]]} |- forall_{x} [forall_{y} [forall_{z | z < (x + y)} P(x , y , z)]]"
      ]
     },
     "execution_count": 62,
     "metadata": {},
     "output_type": "execute_result"
    }
   ],
   "source": [
    "nestedForallSpec3.proof()"
   ]
  },
  {
   "cell_type": "markdown",
   "metadata": {},
   "source": [
    "But for the sake of convenience and efficiency, **Prove-It** also allows nested `Forall` operations to be specialized simultaneously:"
   ]
  },
  {
   "cell_type": "code",
   "execution_count": 63,
   "metadata": {},
   "outputs": [
    {
     "data": {
      "text/html": [
       "<strong id=\"nestedForallSimultaneousSpec\">nestedForallSimultaneousSpec:</strong> <span style=\"font-size:20px;\"><a class=\"ProveItLink\" href=\"__pv_it/4eac1c9d7af67d86fcbbb85ebaac26581977953d0/expr.ipynb\"><img src=\"data:image/png;base64,iVBORw0KGgoAAAANSUhEUgAAAbIAAAAaBAMAAAAgZcQYAAAAMFBMVEX///+6urp2dnaqqqoiIiIQ\n",
       "EBBERETu7u6IiIjc3NwyMjJUVFSYmJhmZmbMzMwAAAD0pS5FAAAAAXRSTlMAQObYZgAABZ1JREFU\n",
       "WMPdmG9oHEUUwN/d5W7vcnebAxupVchaC4lC4fBDCRH1CIFWi3BFQdMPNdZytCr2VFK0UHJYTUPb\n",
       "2BWlegR1A0rxqpCEUptUylkC/sFKGkOpVfTwT8EGTNRqjbbV92Z3Njs7e5vDaD/0we3Ovd19M7+Z\n",
       "N2/eDACoX4Esmzp0SRfpuAv+fwl0tAMs6dAWY+P2FLuN6R7PMh66OrgyMoC/2NBiLMRydI1egKuO\n",
       "DMITeIkbAHkPMsWDTPkvGr7U59kHNZJVt5FgjhgxLDI2Qh+JZGyEEgWBTNbVLHv+Pnp0Lfm96tfm\n",
       "ZKUmMj8bX4MFxS430b8DIlkwjbf6vEAm62qXP7EnOxf83KiJzM9GvUC2n2x1iWTs/37RG2VdzaL+\n",
       "AhDCH/T5vnZ8AbLXaFBdNhQhBCY0Jxn1QTLtiiA0hp+7Ioikq1miP2Oll7Bwv+9r3f5k04PsJtoI\n",
       "CdNDyTrJEjcXiy+7Y+PxYrGYcZFJupolMotV/YrLleH/WtqPbNkxc8kzfMjgYU4WIQ/7PZdrd5M1\n",
       "5HKbNBeZpHPJ626F7QgNWFcPVpXEz2Mto62nzQ5eqcEb1qRpXBcrQHBCImN6Jm1fWHFGsGGTPTkJ\n",
       "MVzCVnKyMOmxL7a4yeIViOguMlGXklZIifpbXpjRQL2HJngZmwDj5fuYNhiYhX3Wt4/1n8JWGm4y\n",
       "U0/yXDMPEoINm0xrgih6RhtNNiSMHSTl9aAYbrLAEGx3r9SirkvEykPEdhBeCHL6fSPLJ6lPwqjQ\n",
       "kOYOpv0umYGcNT9AeQ8ryLrJTD3KCtvpRBucTE1PMQdspD9ndBivmI2OlqUcJAN7pRxE0Alkyikd\n",
       "Wu3pYmt5h221fK4hRYnBYUubR4/5w5l7qLPyPBswLeVsFxFtcDIFHoAGLM6wbl4DoTUscpXr8hLZ\n",
       "XlgtkQk6J5lyS8rh0TYZHLPu5x2tAmyDJXfm1cs8FZ7wJmN6ejSW9rCRLJXeXF8q0euhCzBTscjG\n",
       "8d2eMuvaaby2DO+pOMi201K/tMuOsXVcp979THqe7PsDL+F1N2my3AaRBXohnOdLj3qJexK9F7vM\n",
       "E7UzEM1aT25lGJI3mno2DlNlTxt8niUNeB5MbwzN8dgIW4ZxTuQPh9MOsshACpTCnJp1kJEO4jdM\n",
       "OsZs+ATGjd1UqWpwG0T2dIP+A81gezkzRxNf/Bgn+i6zXe9CZMgshTSI49QXIkje1pt+sWKXy4ZA\n",
       "Vj8Bj+LtE+d6hjsaChnwjuCNoSms4YlMtMtBRjqsIu30xqdw3JhxjC+WDSJ7ZQn0ApyzgPiOAsN6\n",
       "6GIki4G8h+r4EprKZunciU8HQYz6ynlbb8l4s2hDHLOhwEVwRH2TjMV+mBN3MeTJcS1ecO5imHe/\n",
       "6JxnMRzFHQ+xKoZMG2Olt0qlAozAEU62Y+tflpUA7iI2Ny/HONRNtW3r+0Y3SxOJ37C/6lNOsgd1\n",
       "rufSVhFsCGTK5n4yNCiSJWjg1awqkH3IImy44iQjnVpR9Xmyn+BHbPrjVGMXt8EiyDrYAHCte4Xr\n",
       "tEvXmcHcLsnZVUD3Tgg6q+QgwYw7u7IW06ARlHae4UqTtPOcvnHV/JipI9fQfWAUjWa4DUa2AZdh\n",
       "luJKOa8pOFviGeVes2RJi0CW8MmbHecLFtkh6MbRDRZksm07TzdLZKEjj0hkhca358migfWsZ88i\n",
       "2mpug5Hd1oumT1bfgSBPnRbRnGSKUROZ9y6mHTZS9AaZzPO0oEiTpcppgZiDnK3ATud6FtNphkrW\n",
       "7XgepX7rO2mVTInrAlm1Pa53vtzaT+vcqE0WzPqSbZxPrBcgo1G3W0h02jIpDyd51SejfqHG04Lq\n",
       "NqJmTsUC0EFfstZnoXaykDNFC/VpYC9FV/iEZ4q5a+J9j0cdHueNde7zRrn2z9yK5n9x3riWzhsX\n",
       "RbaqDFex/ANN+I/RSLuAyAAAAABJRU5ErkJggg==\n",
       "\" style=\"display:inline;vertical-align:middle;\" /></a> <a class=\"ProveItLink\" href=\"__pv_it/8cfb85ff0b99b8f24b7bea1bd7f4293ea6ac5bb50/proof.ipynb\" style=\"text-decoration: none\">&#x22A2;&nbsp;</a><a class=\"ProveItLink\" href=\"../packages/proveit/__pv_it/083d1a4d47b38d668346e2f448c1cdc323a8bf1b0/expr.ipynb\"><img src=\"data:image/png;base64,iVBORw0KGgoAAAANSUhEUgAAAFUAAAAVBAMAAADFg78FAAAAMFBMVEX////u7u5mZmaYmJi6urqq\n",
       "qqp2dnbMzMwQEBBEREQyMjLc3NwiIiJUVFSIiIgAAAAeC3ydAAAAAXRSTlMAQObYZgAAAZhJREFU\n",
       "KM+dkr1Lw1AUxU/apmkamhaHUic7FQSHouLcUUSwk6MGB8fSWZB2qJOghYK4aFv0D+iiW7UouAm6\n",
       "OFkoGdSl9MMq4gd633tJbAczeOHd/Mg9yXv33Af8M3ytv2uzPLe/m83rGqNNl/94svzxDqjbDKpu\n",
       "m1ZYUl4BmRb0lpt2jiV9AHj7BIGImzbGktoFQi8EC66Nq2lKYTrJRJEgQeu0fWKKo0QT0HpCNl/Q\n",
       "WvDHiXIGlAv26giQDO9loMEFxhL0LietZE5SS6y5zt16gltWAPxUl7k7SnoKapFrJUi3ZH6esGy3\n",
       "NGCvQ6JOtIOwbUydfcw2+cSvlsyw63IPuaw1z7ilVfq2doul8yzEPp4KnqzCMv8gL+wVUSKfax3o\n",
       "Ea4OxnEATrKBEJWoN7Vna9eA1eQ+ziCxY3lufM+CNqZnjsE8Gyt/2SdcBMYfopkkpF3yRTo0PwTF\n",
       "vW80h2BqeDKBmnM5OfkbNjkzdsJrOETrHrG0IBGZ0ZFXh7VX2MOQVqqMaus2sA5WzJRFPEK1Ua3m\n",
       "coEfgR+y/WIlsnhbtgAAAABJRU5ErkJggg==\n",
       "\" style=\"display:inline;vertical-align:middle;\" /></a></span><br>"
      ],
      "text/plain": [
       "nestedForallSimultaneousSpec: {forall_{x} [forall_{y} [forall_{z | z < (x + y)} P(x , y , z)]] , z < (x + y)} |- P(x , y , z)"
      ]
     },
     "execution_count": 63,
     "metadata": {},
     "output_type": "execute_result"
    }
   ],
   "source": [
    "assumptions = ExprTuple(nestedForall, nestedForallSpec2.conditions[0])\n",
    "nestedForallSimultaneousSpec = nestedForall.specialize({z:z}, assumptions=assumptions)"
   ]
  },
  {
   "cell_type": "markdown",
   "metadata": {},
   "source": [
    "We just need to include an explicit mapping for an inner quantified **variable**.  So we indicated above that we want to map $z$ to $z$, even though this is typically the default, in order to force it to specialize all three `Forall` operations simultaneously.  The proof is shorter, doing a single all-in-one *specialization*:"
   ]
  },
  {
   "cell_type": "code",
   "execution_count": 64,
   "metadata": {},
   "outputs": [
    {
     "data": {
      "text/html": [
       "<table><tr><th>&nbsp;</th><th>step type</th><th>requirements</th><th>statement</th></tr>\n",
       "<tr><td>0</td><td>specialization</td><td>1, 2</td><td><span style=\"font-size:20px;\"><a class=\"ProveItLink\" href=\"__pv_it/4eac1c9d7af67d86fcbbb85ebaac26581977953d0/expr.ipynb\"><img src=\"data:image/png;base64,iVBORw0KGgoAAAANSUhEUgAAAbIAAAAaBAMAAAAgZcQYAAAAMFBMVEX///+6urp2dnaqqqoiIiIQ\n",
       "EBBERETu7u6IiIjc3NwyMjJUVFSYmJhmZmbMzMwAAAD0pS5FAAAAAXRSTlMAQObYZgAABZ1JREFU\n",
       "WMPdmG9oHEUUwN/d5W7vcnebAxupVchaC4lC4fBDCRH1CIFWi3BFQdMPNdZytCr2VFK0UHJYTUPb\n",
       "2BWlegR1A0rxqpCEUptUylkC/sFKGkOpVfTwT8EGTNRqjbbV92Z3Njs7e5vDaD/0we3Ovd19M7+Z\n",
       "N2/eDACoX4Esmzp0SRfpuAv+fwl0tAMs6dAWY+P2FLuN6R7PMh66OrgyMoC/2NBiLMRydI1egKuO\n",
       "DMITeIkbAHkPMsWDTPkvGr7U59kHNZJVt5FgjhgxLDI2Qh+JZGyEEgWBTNbVLHv+Pnp0Lfm96tfm\n",
       "ZKUmMj8bX4MFxS430b8DIlkwjbf6vEAm62qXP7EnOxf83KiJzM9GvUC2n2x1iWTs/37RG2VdzaL+\n",
       "AhDCH/T5vnZ8AbLXaFBdNhQhBCY0Jxn1QTLtiiA0hp+7Ioikq1miP2Oll7Bwv+9r3f5k04PsJtoI\n",
       "CdNDyTrJEjcXiy+7Y+PxYrGYcZFJupolMotV/YrLleH/WtqPbNkxc8kzfMjgYU4WIQ/7PZdrd5M1\n",
       "5HKbNBeZpHPJ626F7QgNWFcPVpXEz2Mto62nzQ5eqcEb1qRpXBcrQHBCImN6Jm1fWHFGsGGTPTkJ\n",
       "MVzCVnKyMOmxL7a4yeIViOguMlGXklZIifpbXpjRQL2HJngZmwDj5fuYNhiYhX3Wt4/1n8JWGm4y\n",
       "U0/yXDMPEoINm0xrgih6RhtNNiSMHSTl9aAYbrLAEGx3r9SirkvEykPEdhBeCHL6fSPLJ6lPwqjQ\n",
       "kOYOpv0umYGcNT9AeQ8ryLrJTD3KCtvpRBucTE1PMQdspD9ndBivmI2OlqUcJAN7pRxE0Alkyikd\n",
       "Wu3pYmt5h221fK4hRYnBYUubR4/5w5l7qLPyPBswLeVsFxFtcDIFHoAGLM6wbl4DoTUscpXr8hLZ\n",
       "XlgtkQk6J5lyS8rh0TYZHLPu5x2tAmyDJXfm1cs8FZ7wJmN6ejSW9rCRLJXeXF8q0euhCzBTscjG\n",
       "8d2eMuvaaby2DO+pOMi201K/tMuOsXVcp979THqe7PsDL+F1N2my3AaRBXohnOdLj3qJexK9F7vM\n",
       "E7UzEM1aT25lGJI3mno2DlNlTxt8niUNeB5MbwzN8dgIW4ZxTuQPh9MOsshACpTCnJp1kJEO4jdM\n",
       "OsZs+ATGjd1UqWpwG0T2dIP+A81gezkzRxNf/Bgn+i6zXe9CZMgshTSI49QXIkje1pt+sWKXy4ZA\n",
       "Vj8Bj+LtE+d6hjsaChnwjuCNoSms4YlMtMtBRjqsIu30xqdw3JhxjC+WDSJ7ZQn0ApyzgPiOAsN6\n",
       "6GIki4G8h+r4EprKZunciU8HQYz6ynlbb8l4s2hDHLOhwEVwRH2TjMV+mBN3MeTJcS1ecO5imHe/\n",
       "6JxnMRzFHQ+xKoZMG2Olt0qlAozAEU62Y+tflpUA7iI2Ny/HONRNtW3r+0Y3SxOJ37C/6lNOsgd1\n",
       "rufSVhFsCGTK5n4yNCiSJWjg1awqkH3IImy44iQjnVpR9Xmyn+BHbPrjVGMXt8EiyDrYAHCte4Xr\n",
       "tEvXmcHcLsnZVUD3Tgg6q+QgwYw7u7IW06ARlHae4UqTtPOcvnHV/JipI9fQfWAUjWa4DUa2AZdh\n",
       "luJKOa8pOFviGeVes2RJi0CW8MmbHecLFtkh6MbRDRZksm07TzdLZKEjj0hkhca358migfWsZ88i\n",
       "2mpug5Hd1oumT1bfgSBPnRbRnGSKUROZ9y6mHTZS9AaZzPO0oEiTpcppgZiDnK3ATud6FtNphkrW\n",
       "7XgepX7rO2mVTInrAlm1Pa53vtzaT+vcqE0WzPqSbZxPrBcgo1G3W0h02jIpDyd51SejfqHG04Lq\n",
       "NqJmTsUC0EFfstZnoXaykDNFC/VpYC9FV/iEZ4q5a+J9j0cdHueNde7zRrn2z9yK5n9x3riWzhsX\n",
       "RbaqDFex/ANN+I/RSLuAyAAAAABJRU5ErkJggg==\n",
       "\" style=\"display:inline;vertical-align:middle;\" /></a> <a class=\"ProveItLink\" href=\"__pv_it/8cfb85ff0b99b8f24b7bea1bd7f4293ea6ac5bb50/proof.ipynb\" style=\"text-decoration: none\">&#x22A2;&nbsp;</a><a class=\"ProveItLink\" href=\"../packages/proveit/__pv_it/083d1a4d47b38d668346e2f448c1cdc323a8bf1b0/expr.ipynb\"><img src=\"data:image/png;base64,iVBORw0KGgoAAAANSUhEUgAAAFUAAAAVBAMAAADFg78FAAAAMFBMVEX////u7u5mZmaYmJi6urqq\n",
       "qqp2dnbMzMwQEBBEREQyMjLc3NwiIiJUVFSIiIgAAAAeC3ydAAAAAXRSTlMAQObYZgAAAZhJREFU\n",
       "KM+dkr1Lw1AUxU/apmkamhaHUic7FQSHouLcUUSwk6MGB8fSWZB2qJOghYK4aFv0D+iiW7UouAm6\n",
       "OFkoGdSl9MMq4gd633tJbAczeOHd/Mg9yXv33Af8M3ytv2uzPLe/m83rGqNNl/94svzxDqjbDKpu\n",
       "m1ZYUl4BmRb0lpt2jiV9AHj7BIGImzbGktoFQi8EC66Nq2lKYTrJRJEgQeu0fWKKo0QT0HpCNl/Q\n",
       "WvDHiXIGlAv26giQDO9loMEFxhL0LietZE5SS6y5zt16gltWAPxUl7k7SnoKapFrJUi3ZH6esGy3\n",
       "NGCvQ6JOtIOwbUydfcw2+cSvlsyw63IPuaw1z7ilVfq2doul8yzEPp4KnqzCMv8gL+wVUSKfax3o\n",
       "Ea4OxnEATrKBEJWoN7Vna9eA1eQ+ziCxY3lufM+CNqZnjsE8Gyt/2SdcBMYfopkkpF3yRTo0PwTF\n",
       "vW80h2BqeDKBmnM5OfkbNjkzdsJrOETrHrG0IBGZ0ZFXh7VX2MOQVqqMaus2sA5WzJRFPEK1Ua3m\n",
       "coEfgR+y/WIlsnhbtgAAAABJRU5ErkJggg==\n",
       "\" style=\"display:inline;vertical-align:middle;\" /></a></span></td></tr>\n",
       "<tr><td>&nbsp;</td><td colspan=4 style=\"text-align:left\"><span style=\"font-size:20px;\"><a class=\"ProveItLink\" href=\"../packages/proveit/__pv_it/530be409e3083890784cf1d7b28c9e67e90af9360/expr.ipynb\"><img src=\"data:image/png;base64,iVBORw0KGgoAAAANSUhEUgAAAAsAAAAJBAMAAAAWSsseAAAAKlBMVEX///9ERETMzMwQEBAiIiKY\n",
       "mJju7u5mZmaqqqpUVFSIiIh2dnbc3NwAAAA/vyDhAAAAAXRSTlMAQObYZgAAAENJREFUCNdjYDi9\n",
       "8sTyBQxsG1hdmR0YuBm4LnAoMLAxcAowgADzAjB1VoEhgYH1wFoGrgSG3gBhhlMMDImrs3cFMAAA\n",
       "t0YN+iTRa+sAAAAASUVORK5CYII=\n",
       "\" style=\"display:inline;vertical-align:middle;\" /></a> : <a class=\"ProveItLink\" href=\"../packages/proveit/__pv_it/530be409e3083890784cf1d7b28c9e67e90af9360/expr.ipynb\"><img src=\"data:image/png;base64,iVBORw0KGgoAAAANSUhEUgAAAAsAAAAJBAMAAAAWSsseAAAAKlBMVEX///9ERETMzMwQEBAiIiKY\n",
       "mJju7u5mZmaqqqpUVFSIiIh2dnbc3NwAAAA/vyDhAAAAAXRSTlMAQObYZgAAAENJREFUCNdjYDi9\n",
       "8sTyBQxsG1hdmR0YuBm4LnAoMLAxcAowgADzAjB1VoEhgYH1wFoGrgSG3gBhhlMMDImrs3cFMAAA\n",
       "t0YN+iTRa+sAAAAASUVORK5CYII=\n",
       "\" style=\"display:inline;vertical-align:middle;\" /></a>, <a class=\"ProveItLink\" href=\"../packages/proveit/__pv_it/f8b9edf8e16034727f0aad55bb83e392c3db40d40/expr.ipynb\"><img src=\"data:image/png;base64,iVBORw0KGgoAAAANSUhEUgAAAAsAAAANBAMAAACN24kIAAAAMFBMVEX///+YmJhUVFQyMjIQEBBE\n",
       "REQiIiKqqqrMzMyIiIi6urrc3NxmZmZ2dnbu7u4AAADXeCicAAAAAXRSTlMAQObYZgAAAFhJREFU\n",
       "CNdj4LtzgWH/AwZerg8M8xkY2nkSGEIZGB6wTGD4ycDAUP+A4weQOszA6QCkbBhYFYDUIYb1AkDq\n",
       "6czzGxhA4BoQMyXwuQMptgusF4AU+8xTQBIAUqMVoSp/SLMAAAAASUVORK5CYII=\n",
       "\" style=\"display:inline;vertical-align:middle;\" /></a> : <a class=\"ProveItLink\" href=\"../packages/proveit/__pv_it/f8b9edf8e16034727f0aad55bb83e392c3db40d40/expr.ipynb\"><img src=\"data:image/png;base64,iVBORw0KGgoAAAANSUhEUgAAAAsAAAANBAMAAACN24kIAAAAMFBMVEX///+YmJhUVFQyMjIQEBBE\n",
       "REQiIiKqqqrMzMyIiIi6urrc3NxmZmZ2dnbu7u4AAADXeCicAAAAAXRSTlMAQObYZgAAAFhJREFU\n",
       "CNdj4LtzgWH/AwZerg8M8xkY2nkSGEIZGB6wTGD4ycDAUP+A4weQOszA6QCkbBhYFYDUIYb1AkDq\n",
       "6czzGxhA4BoQMyXwuQMptgusF4AU+8xTQBIAUqMVoSp/SLMAAAAASUVORK5CYII=\n",
       "\" style=\"display:inline;vertical-align:middle;\" /></a>, <a class=\"ProveItLink\" href=\"../packages/proveit/__pv_it/251502494639118b4892de8e9d720a5fcce840e10/expr.ipynb\"><img src=\"data:image/png;base64,iVBORw0KGgoAAAANSUhEUgAAAAoAAAAJBAMAAAD5iKAgAAAALVBMVEX///8yMjLMzMx2dnaqqqpU\n",
       "VFTu7u5mZmaYmJhERESIiIjc3NwQEBC6uroAAAB+iRisAAAAAXRSTlMAQObYZgAAADlJREFUCNdj\n",
       "YOA9c2EXA8POrvIJDAwJDKkJDAwM3AFAguE6iGAxAJHODAwBDEwSFY0XGNgZ+o4wAABKtAsIcBKm\n",
       "agAAAABJRU5ErkJggg==\n",
       "\" style=\"display:inline;vertical-align:middle;\" /></a> : <a class=\"ProveItLink\" href=\"../packages/proveit/__pv_it/251502494639118b4892de8e9d720a5fcce840e10/expr.ipynb\"><img src=\"data:image/png;base64,iVBORw0KGgoAAAANSUhEUgAAAAoAAAAJBAMAAAD5iKAgAAAALVBMVEX///8yMjLMzMx2dnaqqqpU\n",
       "VFTu7u5mZmaYmJhERESIiIjc3NwQEBC6uroAAAB+iRisAAAAAXRSTlMAQObYZgAAADlJREFUCNdj\n",
       "YOA9c2EXA8POrvIJDAwJDKkJDAwM3AFAguE6iGAxAJHODAwBDEwSFY0XGNgZ+o4wAABKtAsIcBKm\n",
       "agAAAABJRU5ErkJggg==\n",
       "\" style=\"display:inline;vertical-align:middle;\" /></a></span></td></tr><tr><td>1</td><td>assumption</td><td></td><td><span style=\"font-size:20px;\"><a class=\"ProveItLink\" href=\"__pv_it/482dc020459256bd00f80ffb36546af4670aa6240/expr.ipynb\"><img src=\"data:image/png;base64,iVBORw0KGgoAAAANSUhEUgAAAT8AAAAaBAMAAAAznkapAAAAMFBMVEX///+6urp2dnaqqqoiIiIQ\n",
       "EBBERETu7u6IiIjc3NwyMjJUVFSYmJhmZmbMzMwAAAD0pS5FAAAAAXRSTlMAQObYZgAABGdJREFU\n",
       "WMPVl11oFFcUgM/MuDu7O7OThUaQKjjaB39AWPpQghBcbMC/ChEftELpqjWoDXVVKhgILpG+GIPr\n",
       "D6FLQNenaPRhI6X1p8gigiJa01TEBynzYIVWqFHbSvxB77l3ZvfeuZPpiAp6YHbOnjl35pt7fu4d\n",
       "ALBugyzxtiWRbG9BmttseoD2KzOcLQV4TYpoexuSrLID+vP4N/EY3lVA+AJ/jApAIQBGDwIsvIHn\n",
       "K8WJr5kZAXCzB5hD5bIIQ+fLLIqAsmNU6X1x7twymkz3wtx+FwDPeoAfoTIoAqpZckoVREDZMbI8\n",
       "IVX2+f8OTwUD9qM5LwLS//2+EMuOUcV6SMryIeZ8MczNtAMBcaLSWR8MvulvPpvsGFUSD8jTnxMl\n",
       "FprHensgoDmnXD7kL4gL5XI557PJjlElPkYe9YgoH4b7rZcA4xix/zo6FvoBmzo6vrL9bUZyFOWw\n",
       "36B5ShOZh134qFFyHOg92McivW0Ukm6fm7wiSWzzJMAYep4H2OQHNByIl/yAgqMidTBbSj3Pct8G\n",
       "azkqJ0kcbfOzGAuOPR0SY2xsZ99NcprPA14n6ZA8gdpU0Ct+QKUKXVKjFhzjIl2BM9TzdIZ73ndq\n",
       "5ih93RUAKoHSHMqfvcFCSKhB/wnnkQdMHwe46LBnJ2oSTA72SjbBUQDUb5agpf6vXuneO27xauMB\n",
       "shjudR1WQ5NX1gN0pnlAOFQEbTGtsdqkggSzFxZJNsGRB9TnZvjo1wENh53/gQagm1c0Rx/DfddD\n",
       "GZEAzU/Jzy6cEb2C/X32cK/DwXRZxGtKHlZxNuZ4Z/BgA9BaupMEdA8GlfQItXfKeReQDnXbnvXc\n",
       "A1yJP0ccd9VMV+A798LHrFR4wAUlr4ph0zC5d+HHWJaDiQ9kQC+OW+38ZgEdYfia3QA0ppHC3IOv\n",
       "aZH0nGXkVzJANlSp1tsgk04yMaV9kChQxNQIfM2WeM0Gg5yuBPZBgNYcFuVJIZzaDeK4NZfI84Ct\n",
       "tPq28yHWs3CHzhPCZFI1N8RsqMVqKl7fM5E+sqC2Ab4HHaOerirPmPbXtatHIajNMECWFOPi1mo1\n",
       "XraNIm+jjskMD7gfoHstTSi8a1MJjKGhNUPH2FAG2L3lqXeXZoAdPdtm10D/kgRQ39g3zrQR818M\n",
       "39EJAE2cZavdEgAvIVAmxuclc/wb/uRy0LFK0P0NziDO9R/guDlIhyr+lTtW760K1dScp4UsdW4v\n",
       "VSuqtDmNOdMlm3Xqg3wD8N6MT7BHnCF3z4E1NhdsDxCHmnbAdsDVyPEDfJtlGhO1GAK4Y/etWRKM\n",
       "dnqzZEsoa0oNwOLk43i6SwgXkZC19hRcQDo0nfEvLoM84EJYBzxgF4QABm7vy3B6wi2/uJLcdWC3\n",
       "0Afp0JR06wFPwaxs6cu4GpMzMqDaHgq4TqlEBMQY1LWqN7RF/uQI2RAmHAFwGU3LE6GALT0QHVAT\n",
       "1ks6tPoaH01ptpKZPwcBBnwDSzZDcvnFb1Bf/TOrua1KD9A64T2QlwAcL4FFPLf2AAAAAElFTkSu\n",
       "QmCC\n",
       "\" style=\"display:inline;vertical-align:middle;\" /></a> <a class=\"ProveItLink\" href=\"__pv_it/f9bbb30196536973d9ff1ffeb7b5e1709c7d76500/proof.ipynb\" style=\"text-decoration: none\">&#x22A2;&nbsp;</a><a class=\"ProveItLink\" href=\"__pv_it/8b65507d111fd345c6cbab939ef0863fd5f116e60/expr.ipynb\"><img src=\"data:image/png;base64,iVBORw0KGgoAAAANSUhEUgAAAScAAAAZBAMAAACBc/UbAAAAMFBMVEX///8QEBC6urrMzMxUVFRm\n",
       "ZmZERETc3NwyMjKqqqp2dnaIiIiYmJgiIiLu7u4AAAAU9Wx4AAAAAXRSTlMAQObYZgAABAFJREFU\n",
       "SMfNl11IFFEUgM/OjOvuzjqKLxVCbdBDUdJEUr1Ei0VBUghBkCFsP2hZ0VLSUhEtvSQksi9G5EOD\n",
       "EP0IsoGCiuBCCFER+1AUkrIFlvmSRWVFWfdnfu6PbRMUdGD2njlz7p1v77nn3DsAkgTHn/qy/QOp\n",
       "HrfIJUuZT9u/kNI4vf5HqMI8AMZ8UIW/8E4l++tn0ZgHlceGBzwAmZdoloeSHf1K348tWx4nsVZT\n",
       "zG2XB3UL33fwUJEMakIFHkp29C2fUaYs+G33kAd1CqsJHorcnxLCJzv6FfUrQBhdoGeLuUUtFwpP\n",
       "SElGAMD/aI9gkx39iv4evfEjUgJF16VR4UJFb6RS58RFfT+VSuUFm+zoV4IzANoXpCwv7nfYKwmf\n",
       "mprGRKjypqZjllgSJEdeToqGsKOUpwHe4sA3oOtM3+l+GsXpBiidox5LK0uR7boHtRmgWYTSTAgm\n",
       "RSjOUZEqjFSHVceyyQL1CVbaUYys6PMADYK1GvQZ2vdo/27UXPGgloGRFqGUOExJxZNzDPJEBcbg\n",
       "rrtuux3ZfruB/MVKgAgCCZuEOdMIQZo4Bhg78Xx5UGWg5ySAPAxLNs6RgzJ2J6HLvXMz1Plfx531\n",
       "/R6/X7OfG1AF5U46tpIZ9aD0XFlBAhiGCcnGObJQxs0YG1kXSjNp+x08KJSCDkh4DjbZHkq9AGWk\n",
       "cZ3tqe0zGYApFT1ZmYDFjI06buw47UGpz16jYA3ggKF8jvSt3GxDka52WVI/OlCL8M95096xStJw\n",
       "x35wlS53ZkNurkXjFbYGMgxAsDUGRnZWrWA3ZOwItaOWB6WtQgk1gIOqouXWqyUWUSjaVYm7ZYrK\n",
       "UVRYkiOgFwhWqB4O0i01bIGGmnsMVGceJ1M7F6pwI3r4Mq8nWKhOkjVv2PAZGdhI5gMDxEI5O3y0\n",
       "q0rzIjjnjIxy/lpuH5wFA0e0JK58o9qG0YcXgCsJdpBn+WNKFZ4HS8uyNuJYGmOhTgBM7icLBI9U\n",
       "ngStrW1h2yXalUJNHv/gjFIN8GpouicHxhKUjcaR/lmq1Uff4TBdYKCieAbVCpWDeoQhYgF2nVHH\n",
       "tbCeWVOmmoTJA3im8JyuAdNeU6SrIu6UAbf2KUSL5B1N2Gbs+hZJR6QDXcBcLdnU7SsSHlRN92Wc\n",
       "z9vQiHlQZ26C5UDhrlFrni3X1tC1A15kqEYlkhWgXg3u7ZUAwnWHJJuuLEx6UNmlF3GzDlFNoHB0\n",
       "DhVsKNK1JCYW+Q4WagxagIWa8nUcTkHdL4/DfEVfZ8IgV6dI15A0dKuj4FXW1R+zNSrbfEG1KGmf\n",
       "UHiuXS3udO2Sj+BFDlS66Quqawj8Q4W5vYp0jf/Nr5l5vvEkmya53BUNkT//1Kgej+PrJ0cVB7QF\n",
       "WmZWAAAAAElFTkSuQmCC\n",
       "\" style=\"display:inline;vertical-align:middle;\" /></a></span></td></tr>\n",
       "<tr><td>2</td><td>assumption</td><td></td><td><span style=\"font-size:20px;\"><a class=\"ProveItLink\" href=\"__pv_it/2617ee670b831fb3d4e38e12288f4d70850354170/expr.ipynb\"><img src=\"data:image/png;base64,iVBORw0KGgoAAAANSUhEUgAAAHkAAAAVBAMAAACQ4lxbAAAAMFBMVEX///9ERETc3NyqqqpUVFS6\n",
       "urrMzMwyMjIQEBCIiIh2dnYiIiLu7u5mZmaYmJgAAABJJ2g3AAAAAXRSTlMAQObYZgAAAc1JREFU\n",
       "OMtjYGDgu8dABmBbpQCieHbhkGedgEsnXwBIezOIyfkBh5oU3BZfAxHXQQRXAw4lNbh1s4OIFdh1\n",
       "6yaA3YTicB4FFKcvwKk7pRRMcRxAFmRGNasBl+5wNyjNgFs3gzCK7ohWJqi0+SWogltArDVFee4E\n",
       "FN2nbjEw/WFgWAvTzVvAwMAkN/ciRHb2GpjxdUAHLuDbx7EBRfeCeHAkmQOZ70H8DGDk8TDw+IAl\n",
       "VyMc2Ap0FlAlcwKybjaD2wyMAkC3ggL+AjCM2sDCKpDQEAyA6/4KMpRFANXfPAydDPxAZj6II/4A\n",
       "aAzIcNYL0PTnboCkGxjwYE285eXV7eXlDiBT/jDkJ0B0c4OijQXobwYrmB6m2w+gLHBC1E9gOIDi\n",
       "b2AozWCAuBzsby5gsDAvYGCBReXqORCGHDBRKMxn4ETVDfSsCJB6jhxj6W/flcI9/BoS7MBIsX8g\n",
       "waCJGt+8Dqz/GJBiDKT7At8PA0RSMAcHczQDw8FZp1Y+QNXNIzn3E5AqxZ3OIYBDAXtaA/kUd0pF\n",
       "yQkYmd2b4QTQlVwTYLr5SMqhuxikgORxeP7m2YlDtwo2Qcu5oPTkBEoarRAnLsaumwlnycSZAC3X\n",
       "AKJNcQuS6o1EAAAAAElFTkSuQmCC\n",
       "\" style=\"display:inline;vertical-align:middle;\" /></a> <a class=\"ProveItLink\" href=\"__pv_it/d6f06c6c7176bd3eb69672f5a9331723c61806bc0/proof.ipynb\" style=\"text-decoration: none\">&#x22A2;&nbsp;</a><a class=\"ProveItLink\" href=\"__pv_it/f939d204ddb18c9833bf0e9cd40af9ed0c961c270/expr.ipynb\"><img src=\"data:image/png;base64,iVBORw0KGgoAAAANSUhEUgAAAGUAAAAVBAMAAACtcD09AAAAMFBMVEX///8iIiIyMjLMzMx2dnaq\n",
       "qqpUVFTu7u5mZmaYmJhERESIiIjc3NwQEBC6uroAAABuzmuqAAAAAXRSTlMAQObYZgAAAXtJREFU\n",
       "OMtjYKAaeI1TZh4uCeYEnHo4DHBIMBXgdoICugBPM5jajSJYg8Kbgu6mpAdg+jqKaDQKrxZVC58a\n",
       "xLF8Cnj0cAUAFdx9cBrCY9U4APWnA9CV3jnR3Sh62D0cGM4XMLA0MDCcmt2xACzGLQLzOdMEBoYS\n",
       "hokTLqLoYeH7wLAfaDLQEQUMZWC1LNJw63mBvnIAygej6DHlEGBYBXTXBVBYQSKjah1cD/8DkFFZ\n",
       "aP4p4N3A8BsYTh+A7BdQKTNVZD0MDLfB7CYlJVklJTUQM76A+TNED6sDTOkJSZjbAkDWf2ZgRw23\n",
       "JgbuCxC3hTAwwFJKiTQkFLiAYTCH+wPDdlQ9GgxcQJWcCgzMmp2THsBs4oQEHTA4WX9yXeDZgKqn\n",
       "jeH9BLAkB8P8q4gIY1UGx6kAA/tqd5edaHFatbsfGIFMD7Cnwzs40oEjZtrBkQ6hmYlNgB3kIm9S\n",
       "8gKjAxcwiNkVcOjhwZbnWHf3gWw7gCtjncaZ5TYzMAAAROlSV4nISxAAAAAASUVORK5CYII=\n",
       "\" style=\"display:inline;vertical-align:middle;\" /></a></span></td></tr>\n",
       "</table>"
      ],
      "text/plain": [
       "\tstep type\trequirements\tstatement\n",
       "0\tspecialization\t1, 2\t{forall_{x} [forall_{y} [forall_{z | z < (x + y)} P(x , y , z)]] , z < (x + y)} |- P(x , y , z)\n",
       "\tx : x, y : y, z : z\n",
       "1\tassumption\t\t{forall_{x} [forall_{y} [forall_{z | z < (x + y)} P(x , y , z)]]} |- forall_{x} [forall_{y} [forall_{z | z < (x + y)} P(x , y , z)]]\n",
       "2\tassumption\t\t{z < (x + y)} |- z < (x + y)"
      ]
     },
     "execution_count": 64,
     "metadata": {},
     "output_type": "execute_result"
    }
   ],
   "source": [
    "nestedForallSimultaneousSpec.proof()"
   ]
  },
  {
   "cell_type": "markdown",
   "metadata": {},
   "source": [
    "Such simultaneous *specialization* can be done for any number of nested levels.\n",
    "\n",
    "As a quick aside, it worth noting that the original nested `Forall` involving the instance variables $x$, $y$, and $z$ could have instead been expressed as $\\forall_{x, y, z | z < x + y} P(x, y, z)$, constructed in the following way (also see the section further below on “Universal quantification over multiple variables”):"
   ]
  },
  {
   "cell_type": "code",
   "execution_count": 65,
   "metadata": {},
   "outputs": [
    {
     "data": {
      "text/html": [
       "<strong id=\"altNestedForall\">altNestedForall:</strong> <a class=\"ProveItLink\" href=\"__pv_it/b6ba1ece242440572af21522ef158c1030467d480/expr.ipynb\"><img src=\"data:image/png;base64,iVBORw0KGgoAAAANSUhEUgAAAOIAAAAXBAMAAADkYY5OAAAAMFBMVEX///8QEBC6urrMzMxUVFRm\n",
       "ZmZERETc3NwyMjKqqqp2dnaIiIiYmJgiIiLu7u4AAAAU9Wx4AAAAAXRSTlMAQObYZgAAA1JJREFU\n",
       "SMe9VktIVFEY/mbu1Xl6Z9BFSVAjtAhMvIJYm1BUEpRCCFwYgT3QMsFLSfagGtooJDKLjGgWXYTI\n",
       "EmSCUdQWDkQQ1GIWBSERU6CJLTLJrDDrP/ecO95xmMlQOnD8H+f3/+7/VOC/n8SWe7RHMr95A0Cc\n",
       "MS82jxP9XVv7SmNceTazI8BDRvu3ILTvQO62vzpzAheIOFo2Dyj9BFx04YlkM/PqcFIhc0KbR/Qs\n",
       "krslYmxZO0Pxw/ugu/vqFiQ1dwGQfxCzJ7vdGeBba+v0hv2eX69wmYwvCHxm1Wmmezl6aZQnd74Z\n",
       "jlVuUZTvIN19oAZoy9Tn6xUOPa18pqZSh/SaMX2UOt371mYMAfRSeBb473aMNhG5A+yGEsyUqVS4\n",
       "hEWRrPygoFP1j5qN4cgH3ITiUo0PCh1DLu9LBcphFimQB09sI4hKk4ZwUkp295ygnWbDLDLnsnhX\n",
       "sAM+s3m7jFxQk8XyEhtAVIYC1vQnEWWV019YQ6SGNVFcq6gUFvZGgagE2ZIYro7Sg33MaG7pzcfQ\n",
       "GiKXxpnGTxmLFtcIxOIW7DTHT1oyEQvZj+uqWJ85QTwWD3d5/9BtqyY/iYM2cvnJp5Wx797bbInR\n",
       "kMZZ5iUq+IjcUsgRlciy5Ie9KjmO/HTQXGpT8CQMTGcjTvHl7dIhE3lOdyDOurKPWV8rwZiRwpA1\n",
       "qyQdMCJh3gPOmMiq40Pc02J8BTNdNRGp/e/FjuMKFJbonCr7Cuf2P3t5gz+LnC8b5vVoYORcSh1J\n",
       "mjlhFIXF49Mg9/Zu770JWZcjAnGm86tZuRJgdnJ+OAZlF/WucnZ0mXON3i8sDobqZTFLfom3dgET\n",
       "VEmz1JFJMydZjKx6ZVBFHW0Bm8p11mPTkuNscO64yYktJ+bXHXTjooYC+4KjB+WDty0xcqmrjszj\n",
       "kBaGoJuIaqmxmtN2tcnRPYT3Ic7x4zZTMTtxdASVMdwaC0oriBT1WBCFVEGQ7yhLA5MJgehqOE2F\n",
       "CqyfqX4r4jTaYUWcS7WNOTSqjDfDzqlQMZEyj92s6M60Ke4yGRZOeDQgOH7qUneklqvT5t+XAZGl\n",
       "IsmxHmq3U9eE0xAdWf5AetTUCsD1hIoQy4zoStmH4UkBvXVHTtM8Xa9w//N/Zn8AZLbP15BXQTEA\n",
       "AAAASUVORK5CYII=\n",
       "\" style=\"display:inline;vertical-align:middle;\" /></a><br>"
      ],
      "text/plain": [
       "altNestedForall: forall_{x, y, z | z < (x + y)} P(x , y , z)"
      ]
     },
     "execution_count": 65,
     "metadata": {},
     "output_type": "execute_result"
    }
   ],
   "source": [
    "altNestedForall = Forall([x, y, z], Pxyz, conditions=[Less(z, Add(x, y))])"
   ]
  },
  {
   "cell_type": "markdown",
   "metadata": {},
   "source": [
    "Note that the *meaning* of the original **nestedForall** object $\\forall_x [\\forall_y [\\forall_{z|z<x+y} P(x, y, z)]]$ and the meaning of our alternative **altNestedForall** object $\\forall_{x, y, z | z < x + y} P(x, y, z)$ are the same:"
   ]
  },
  {
   "cell_type": "code",
   "execution_count": 66,
   "metadata": {},
   "outputs": [
    {
     "data": {
      "text/plain": [
       "True"
      ]
     },
     "execution_count": 66,
     "metadata": {},
     "output_type": "execute_result"
    }
   ],
   "source": [
    "altNestedForall == nestedForall"
   ]
  },
  {
   "cell_type": "markdown",
   "metadata": {},
   "source": [
    "We can now accomplish the same specialization as follows:"
   ]
  },
  {
   "cell_type": "code",
   "execution_count": 67,
   "metadata": {},
   "outputs": [
    {
     "data": {
      "text/html": [
       "<strong id=\"altNestedForallSpec\">altNestedForallSpec:</strong> <span style=\"font-size:20px;\"><a class=\"ProveItLink\" href=\"__pv_it/cee518a35aa3fbad254e0e663d65183640fda55e0/expr.ipynb\"><img src=\"data:image/png;base64,iVBORw0KGgoAAAANSUhEUgAAAWsAAAAaBAMAAACDYWCbAAAAMFBMVEX///+6urp2dnaqqqoiIiIQ\n",
       "EBBERETu7u6IiIjc3NwyMjJUVFSYmJhmZmbMzMwAAAD0pS5FAAAAAXRSTlMAQObYZgAABTlJREFU\n",
       "WMPVl39oHEUUx9/e5W53b+82BzYSWiXbKiQVAod/SLDWHPEPi/aPlCpqwHpWGhob7Blt0Ip4RIyB\n",
       "GLO2pU1apFcUYi9pSUqpSSvtWfpHLZbEIqFo1QPbP2zAVNHW2FJ982t/3O2tAUMhA7szOzs785l5\n",
       "3/dmFgD0S7CYUvAblh83FxU27E6Ru3IDFll6nty0LEB6wbuWMuXfReP+31aXffMlvb8ssJOkcPb/\n",
       "wyqnbp44OkFKM37NfvTtRB8t+ypWoKoW2PeRwtACLHIldrbJ/K/OIr59RHxsn3Vh78ZcTS0A9qwB\n",
       "0IiXkvFrFTU8q1VmhR5XpewKGKdd2GSCscQCYPejbCenAEK+3iI3e4rjONP8M+5451qAbS7s6MrB\n",
       "wV0L4Ylb8TqF81/q3+wlLyceLrA864MdTgjsMBHH9dbWpnmzqYXiHcAq/Y1LeR3zC3jt6N3Zx8bs\n",
       "uAAqD7PS0/EBgHrrg6p1KmsTPMTVEEMFqXUTDRdd2HK9AfvTEJgS2CFSfxKgrVwoK6nZUWJeoVX9\n",
       "d4DLpOcRHMiIrg3REAVGDSjX+F5x9gdcpoetFWjvm2YxqEnIKpLHecKZ/FMu7IB0DfrxiZhiEpuq\n",
       "w6R2GcjZMthh9+MeAMt3LW9YLgLgzRX1K0lhHQ6EqEFqFz3xLbMpkB3iLRy0ylI5yJ9TqjXWACFU\n",
       "uIGIj7qwf44loRXXkHhF7CDAGdpzBSj5eWG/3eZQm8W/XbQVO+5vhEhLCbZnoVJ8pJKoPGt3uI/e\n",
       "O1+0Y2icTO5YkbbTKIq/cAWo0XZlIEjnqeQr0vPB7jiAFWYJtsbVXpm0sbn86NA3YFb4w73gwpam\n",
       "WD7ziRMbcKJU57ncpy25HJlpY1q/zbGjj+HtHbLMcpZsa3Vjvdi71M3i1+WhnTa2/sSbKAmFdB5C\n",
       "m/ZWn+TY1SmMWCJMz3IIWE9u+wv81BDLwntiBtQNLJHAg6Lw8VohEiI99TbayBVJvgOlmYuk0RSR\n",
       "BNrGECZ9jHzzRqV5hVSNnTdsbO0eDA7KCCleBajVUusZtpyZ05tBGrXDNk3tuCZmPyhpCh6Zgi38\n",
       "4IOY2PYckzmdhSYMuYbNMYzL+BV68Ptu7EMQxg+jWWfcBlidJDGDYu1ZAt205WtOkcgJ0JnfLAOI\n",
       "R/JcJOqrSSUFOvfnrUJpGOEa85tgAOQ/yGqPSrdYSR+5dC7OAiB9vnr+6wPW3smCCca44K1wM4+L\n",
       "Fvb3UJMHRwBk2EyHc7TFERinzhN3Yn+EA03TmlVEgCZouVxL7jPQDC3DseXpf8Y5whL0sq6OujzI\n",
       "L6BF5c19c6wUg0liJoJKn6eif9qbc/AwVXsS29eu+KBou+ns+QnbR+Ju7CiZqd6ss+i1gWS/wi8O\n",
       "bRd0E7mIY92N1xUocG2H4qECSMXnmZDlthItBZKiZG/uUpnfk+fK7JL3l2zu3KEC2QDsNWEDhva9\n",
       "pn7krpSNPbP8IWKAEzjU6+jPD4AhsAs1HmcjuyKK11HYlmAllgIZ8cYrnfY6uGtJmZipzgO7892L\n",
       "tTCbh1XdWcwUqcW0sTNVB+mibzGhIi1vXt2V5tjBcTy1x0oO/kNO7CbY6MLcDn7YngfXCiNsAN8T\n",
       "i7BZyqsmqhXy3tuN/gooCWfcHiSOUHqA3icKZLEa+uK8xNKE9cbzyOP1mxDsIX++mmlhB9ynSN0M\n",
       "G0tJVmZzxylbQib9byQntobSsX0O3ErB/6g2UPbNh/T+JKUYdqsSJ2Y4LViCDY84Hxq6OP8dS7HH\n",
       "GegXvq200p+T4tUKpO8gdbAdFm36FyKFRgBJo76ZAAAAAElFTkSuQmCC\n",
       "\" style=\"display:inline;vertical-align:middle;\" /></a> <a class=\"ProveItLink\" href=\"__pv_it/1225a4ccdc0fbdabcaa2371e74c67df854d75bc30/proof.ipynb\" style=\"text-decoration: none\">&#x22A2;&nbsp;</a><a class=\"ProveItLink\" href=\"../packages/proveit/__pv_it/083d1a4d47b38d668346e2f448c1cdc323a8bf1b0/expr.ipynb\"><img src=\"data:image/png;base64,iVBORw0KGgoAAAANSUhEUgAAAFUAAAAVBAMAAADFg78FAAAAMFBMVEX////u7u5mZmaYmJi6urqq\n",
       "qqp2dnbMzMwQEBBEREQyMjLc3NwiIiJUVFSIiIgAAAAeC3ydAAAAAXRSTlMAQObYZgAAAZhJREFU\n",
       "KM+dkr1Lw1AUxU/apmkamhaHUic7FQSHouLcUUSwk6MGB8fSWZB2qJOghYK4aFv0D+iiW7UouAm6\n",
       "OFkoGdSl9MMq4gd633tJbAczeOHd/Mg9yXv33Af8M3ytv2uzPLe/m83rGqNNl/94svzxDqjbDKpu\n",
       "m1ZYUl4BmRb0lpt2jiV9AHj7BIGImzbGktoFQi8EC66Nq2lKYTrJRJEgQeu0fWKKo0QT0HpCNl/Q\n",
       "WvDHiXIGlAv26giQDO9loMEFxhL0LietZE5SS6y5zt16gltWAPxUl7k7SnoKapFrJUi3ZH6esGy3\n",
       "NGCvQ6JOtIOwbUydfcw2+cSvlsyw63IPuaw1z7ilVfq2doul8yzEPp4KnqzCMv8gL+wVUSKfax3o\n",
       "Ea4OxnEATrKBEJWoN7Vna9eA1eQ+ziCxY3lufM+CNqZnjsE8Gyt/2SdcBMYfopkkpF3yRTo0PwTF\n",
       "vW80h2BqeDKBmnM5OfkbNjkzdsJrOETrHrG0IBGZ0ZFXh7VX2MOQVqqMaus2sA5WzJRFPEK1Ua3m\n",
       "coEfgR+y/WIlsnhbtgAAAABJRU5ErkJggg==\n",
       "\" style=\"display:inline;vertical-align:middle;\" /></a></span><br>"
      ],
      "text/plain": [
       "altNestedForallSpec: {forall_{x, y, z | z < (x + y)} P(x , y , z) , z < (x + y)} |- P(x , y , z)"
      ]
     },
     "execution_count": 67,
     "metadata": {},
     "output_type": "execute_result"
    }
   ],
   "source": [
    "altNestedForallSpec = altNestedForall.specialize(assumptions=[altNestedForall, Less(z, Add(x, y))])"
   ]
  },
  {
   "cell_type": "markdown",
   "metadata": {},
   "source": [
    "with similar proof details:"
   ]
  },
  {
   "cell_type": "code",
   "execution_count": 68,
   "metadata": {},
   "outputs": [
    {
     "data": {
      "text/html": [
       "<table><tr><th>&nbsp;</th><th>step type</th><th>requirements</th><th>statement</th></tr>\n",
       "<tr><td>0</td><td>specialization</td><td>1, 2</td><td><span style=\"font-size:20px;\"><a class=\"ProveItLink\" href=\"__pv_it/cee518a35aa3fbad254e0e663d65183640fda55e0/expr.ipynb\"><img src=\"data:image/png;base64,iVBORw0KGgoAAAANSUhEUgAAAWsAAAAaBAMAAACDYWCbAAAAMFBMVEX///+6urp2dnaqqqoiIiIQ\n",
       "EBBERETu7u6IiIjc3NwyMjJUVFSYmJhmZmbMzMwAAAD0pS5FAAAAAXRSTlMAQObYZgAABTlJREFU\n",
       "WMPVl39oHEUUx9/e5W53b+82BzYSWiXbKiQVAod/SLDWHPEPi/aPlCpqwHpWGhob7Blt0Ip4RIyB\n",
       "GLO2pU1apFcUYi9pSUqpSSvtWfpHLZbEIqFo1QPbP2zAVNHW2FJ982t/3O2tAUMhA7szOzs785l5\n",
       "3/dmFgD0S7CYUvAblh83FxU27E6Ru3IDFll6nty0LEB6wbuWMuXfReP+31aXffMlvb8ssJOkcPb/\n",
       "wyqnbp44OkFKM37NfvTtRB8t+ypWoKoW2PeRwtACLHIldrbJ/K/OIr59RHxsn3Vh78ZcTS0A9qwB\n",
       "0IiXkvFrFTU8q1VmhR5XpewKGKdd2GSCscQCYPejbCenAEK+3iI3e4rjONP8M+5451qAbS7s6MrB\n",
       "wV0L4Ylb8TqF81/q3+wlLyceLrA864MdTgjsMBHH9dbWpnmzqYXiHcAq/Y1LeR3zC3jt6N3Zx8bs\n",
       "uAAqD7PS0/EBgHrrg6p1KmsTPMTVEEMFqXUTDRdd2HK9AfvTEJgS2CFSfxKgrVwoK6nZUWJeoVX9\n",
       "d4DLpOcRHMiIrg3REAVGDSjX+F5x9gdcpoetFWjvm2YxqEnIKpLHecKZ/FMu7IB0DfrxiZhiEpuq\n",
       "w6R2GcjZMthh9+MeAMt3LW9YLgLgzRX1K0lhHQ6EqEFqFz3xLbMpkB3iLRy0ylI5yJ9TqjXWACFU\n",
       "uIGIj7qwf44loRXXkHhF7CDAGdpzBSj5eWG/3eZQm8W/XbQVO+5vhEhLCbZnoVJ8pJKoPGt3uI/e\n",
       "O1+0Y2icTO5YkbbTKIq/cAWo0XZlIEjnqeQr0vPB7jiAFWYJtsbVXpm0sbn86NA3YFb4w73gwpam\n",
       "WD7ziRMbcKJU57ncpy25HJlpY1q/zbGjj+HtHbLMcpZsa3Vjvdi71M3i1+WhnTa2/sSbKAmFdB5C\n",
       "m/ZWn+TY1SmMWCJMz3IIWE9u+wv81BDLwntiBtQNLJHAg6Lw8VohEiI99TbayBVJvgOlmYuk0RSR\n",
       "BNrGECZ9jHzzRqV5hVSNnTdsbO0eDA7KCCleBajVUusZtpyZ05tBGrXDNk3tuCZmPyhpCh6Zgi38\n",
       "4IOY2PYckzmdhSYMuYbNMYzL+BV68Ptu7EMQxg+jWWfcBlidJDGDYu1ZAt205WtOkcgJ0JnfLAOI\n",
       "R/JcJOqrSSUFOvfnrUJpGOEa85tgAOQ/yGqPSrdYSR+5dC7OAiB9vnr+6wPW3smCCca44K1wM4+L\n",
       "Fvb3UJMHRwBk2EyHc7TFERinzhN3Yn+EA03TmlVEgCZouVxL7jPQDC3DseXpf8Y5whL0sq6OujzI\n",
       "L6BF5c19c6wUg0liJoJKn6eif9qbc/AwVXsS29eu+KBou+ns+QnbR+Ju7CiZqd6ss+i1gWS/wi8O\n",
       "bRd0E7mIY92N1xUocG2H4qECSMXnmZDlthItBZKiZG/uUpnfk+fK7JL3l2zu3KEC2QDsNWEDhva9\n",
       "pn7krpSNPbP8IWKAEzjU6+jPD4AhsAs1HmcjuyKK11HYlmAllgIZ8cYrnfY6uGtJmZipzgO7892L\n",
       "tTCbh1XdWcwUqcW0sTNVB+mibzGhIi1vXt2V5tjBcTy1x0oO/kNO7CbY6MLcDn7YngfXCiNsAN8T\n",
       "i7BZyqsmqhXy3tuN/gooCWfcHiSOUHqA3icKZLEa+uK8xNKE9cbzyOP1mxDsIX++mmlhB9ynSN0M\n",
       "G0tJVmZzxylbQib9byQntobSsX0O3ErB/6g2UPbNh/T+JKUYdqsSJ2Y4LViCDY84Hxq6OP8dS7HH\n",
       "GegXvq200p+T4tUKpO8gdbAdFm36FyKFRgBJo76ZAAAAAElFTkSuQmCC\n",
       "\" style=\"display:inline;vertical-align:middle;\" /></a> <a class=\"ProveItLink\" href=\"__pv_it/1225a4ccdc0fbdabcaa2371e74c67df854d75bc30/proof.ipynb\" style=\"text-decoration: none\">&#x22A2;&nbsp;</a><a class=\"ProveItLink\" href=\"../packages/proveit/__pv_it/083d1a4d47b38d668346e2f448c1cdc323a8bf1b0/expr.ipynb\"><img src=\"data:image/png;base64,iVBORw0KGgoAAAANSUhEUgAAAFUAAAAVBAMAAADFg78FAAAAMFBMVEX////u7u5mZmaYmJi6urqq\n",
       "qqp2dnbMzMwQEBBEREQyMjLc3NwiIiJUVFSIiIgAAAAeC3ydAAAAAXRSTlMAQObYZgAAAZhJREFU\n",
       "KM+dkr1Lw1AUxU/apmkamhaHUic7FQSHouLcUUSwk6MGB8fSWZB2qJOghYK4aFv0D+iiW7UouAm6\n",
       "OFkoGdSl9MMq4gd633tJbAczeOHd/Mg9yXv33Af8M3ytv2uzPLe/m83rGqNNl/94svzxDqjbDKpu\n",
       "m1ZYUl4BmRb0lpt2jiV9AHj7BIGImzbGktoFQi8EC66Nq2lKYTrJRJEgQeu0fWKKo0QT0HpCNl/Q\n",
       "WvDHiXIGlAv26giQDO9loMEFxhL0LietZE5SS6y5zt16gltWAPxUl7k7SnoKapFrJUi3ZH6esGy3\n",
       "NGCvQ6JOtIOwbUydfcw2+cSvlsyw63IPuaw1z7ilVfq2doul8yzEPp4KnqzCMv8gL+wVUSKfax3o\n",
       "Ea4OxnEATrKBEJWoN7Vna9eA1eQ+ziCxY3lufM+CNqZnjsE8Gyt/2SdcBMYfopkkpF3yRTo0PwTF\n",
       "vW80h2BqeDKBmnM5OfkbNjkzdsJrOETrHrG0IBGZ0ZFXh7VX2MOQVqqMaus2sA5WzJRFPEK1Ua3m\n",
       "coEfgR+y/WIlsnhbtgAAAABJRU5ErkJggg==\n",
       "\" style=\"display:inline;vertical-align:middle;\" /></a></span></td></tr>\n",
       "<tr><td>&nbsp;</td><td colspan=4 style=\"text-align:left\"><span style=\"font-size:20px;\"><a class=\"ProveItLink\" href=\"../packages/proveit/__pv_it/530be409e3083890784cf1d7b28c9e67e90af9360/expr.ipynb\"><img src=\"data:image/png;base64,iVBORw0KGgoAAAANSUhEUgAAAAsAAAAJBAMAAAAWSsseAAAAKlBMVEX///9ERETMzMwQEBAiIiKY\n",
       "mJju7u5mZmaqqqpUVFSIiIh2dnbc3NwAAAA/vyDhAAAAAXRSTlMAQObYZgAAAENJREFUCNdjYDi9\n",
       "8sTyBQxsG1hdmR0YuBm4LnAoMLAxcAowgADzAjB1VoEhgYH1wFoGrgSG3gBhhlMMDImrs3cFMAAA\n",
       "t0YN+iTRa+sAAAAASUVORK5CYII=\n",
       "\" style=\"display:inline;vertical-align:middle;\" /></a> : <a class=\"ProveItLink\" href=\"../packages/proveit/__pv_it/530be409e3083890784cf1d7b28c9e67e90af9360/expr.ipynb\"><img src=\"data:image/png;base64,iVBORw0KGgoAAAANSUhEUgAAAAsAAAAJBAMAAAAWSsseAAAAKlBMVEX///9ERETMzMwQEBAiIiKY\n",
       "mJju7u5mZmaqqqpUVFSIiIh2dnbc3NwAAAA/vyDhAAAAAXRSTlMAQObYZgAAAENJREFUCNdjYDi9\n",
       "8sTyBQxsG1hdmR0YuBm4LnAoMLAxcAowgADzAjB1VoEhgYH1wFoGrgSG3gBhhlMMDImrs3cFMAAA\n",
       "t0YN+iTRa+sAAAAASUVORK5CYII=\n",
       "\" style=\"display:inline;vertical-align:middle;\" /></a>, <a class=\"ProveItLink\" href=\"../packages/proveit/__pv_it/f8b9edf8e16034727f0aad55bb83e392c3db40d40/expr.ipynb\"><img src=\"data:image/png;base64,iVBORw0KGgoAAAANSUhEUgAAAAsAAAANBAMAAACN24kIAAAAMFBMVEX///+YmJhUVFQyMjIQEBBE\n",
       "REQiIiKqqqrMzMyIiIi6urrc3NxmZmZ2dnbu7u4AAADXeCicAAAAAXRSTlMAQObYZgAAAFhJREFU\n",
       "CNdj4LtzgWH/AwZerg8M8xkY2nkSGEIZGB6wTGD4ycDAUP+A4weQOszA6QCkbBhYFYDUIYb1AkDq\n",
       "6czzGxhA4BoQMyXwuQMptgusF4AU+8xTQBIAUqMVoSp/SLMAAAAASUVORK5CYII=\n",
       "\" style=\"display:inline;vertical-align:middle;\" /></a> : <a class=\"ProveItLink\" href=\"../packages/proveit/__pv_it/f8b9edf8e16034727f0aad55bb83e392c3db40d40/expr.ipynb\"><img src=\"data:image/png;base64,iVBORw0KGgoAAAANSUhEUgAAAAsAAAANBAMAAACN24kIAAAAMFBMVEX///+YmJhUVFQyMjIQEBBE\n",
       "REQiIiKqqqrMzMyIiIi6urrc3NxmZmZ2dnbu7u4AAADXeCicAAAAAXRSTlMAQObYZgAAAFhJREFU\n",
       "CNdj4LtzgWH/AwZerg8M8xkY2nkSGEIZGB6wTGD4ycDAUP+A4weQOszA6QCkbBhYFYDUIYb1AkDq\n",
       "6czzGxhA4BoQMyXwuQMptgusF4AU+8xTQBIAUqMVoSp/SLMAAAAASUVORK5CYII=\n",
       "\" style=\"display:inline;vertical-align:middle;\" /></a>, <a class=\"ProveItLink\" href=\"../packages/proveit/__pv_it/251502494639118b4892de8e9d720a5fcce840e10/expr.ipynb\"><img src=\"data:image/png;base64,iVBORw0KGgoAAAANSUhEUgAAAAoAAAAJBAMAAAD5iKAgAAAALVBMVEX///8yMjLMzMx2dnaqqqpU\n",
       "VFTu7u5mZmaYmJhERESIiIjc3NwQEBC6uroAAAB+iRisAAAAAXRSTlMAQObYZgAAADlJREFUCNdj\n",
       "YOA9c2EXA8POrvIJDAwJDKkJDAwM3AFAguE6iGAxAJHODAwBDEwSFY0XGNgZ+o4wAABKtAsIcBKm\n",
       "agAAAABJRU5ErkJggg==\n",
       "\" style=\"display:inline;vertical-align:middle;\" /></a> : <a class=\"ProveItLink\" href=\"../packages/proveit/__pv_it/251502494639118b4892de8e9d720a5fcce840e10/expr.ipynb\"><img src=\"data:image/png;base64,iVBORw0KGgoAAAANSUhEUgAAAAoAAAAJBAMAAAD5iKAgAAAALVBMVEX///8yMjLMzMx2dnaqqqpU\n",
       "VFTu7u5mZmaYmJhERESIiIjc3NwQEBC6uroAAAB+iRisAAAAAXRSTlMAQObYZgAAADlJREFUCNdj\n",
       "YOA9c2EXA8POrvIJDAwJDKkJDAwM3AFAguE6iGAxAJHODAwBDEwSFY0XGNgZ+o4wAABKtAsIcBKm\n",
       "agAAAABJRU5ErkJggg==\n",
       "\" style=\"display:inline;vertical-align:middle;\" /></a></span></td></tr><tr><td>1</td><td>assumption</td><td></td><td><span style=\"font-size:20px;\"><a class=\"ProveItLink\" href=\"__pv_it/17d83498a926b5565c43d38591de5dea53035a610/expr.ipynb\"><img src=\"data:image/png;base64,iVBORw0KGgoAAAANSUhEUgAAAPgAAAAaBAMAAABoc4yxAAAAMFBMVEX///+6urp2dnaqqqoiIiIQ\n",
       "EBBERETu7u6IiIjc3NwyMjJUVFSYmJhmZmbMzMwAAAD0pS5FAAAAAXRSTlMAQObYZgAAA71JREFU\n",
       "SMfFll1IFFEUgM/uus7uzjruQ0JU4FgPmhAsPYgU0tJL0g8YPfTzYFYkWZKbkJQgLkYSiTj9UJlQ\n",
       "21NpPlhEaYXMQw8RFbKIRETsQwrlg2t/Yil1zr13phmH3SwFL+zcc+7cud89f/cuACjvYAlaWYh1\n",
       "j7WlgPur6embgiVp3iF8yHGA6KIv7YqlfxdkHs+OC3iEtOcLR7b9evJkG4vieKZp70Fw2WMNabcX\n",
       "weAfaNHevy4WsMGvUAZULZytfAbwfKZEimWaFlSt8AAGPSe8cLhvEleepWzKmEVShRUeXNvZeXkR\n",
       "vJ6dwvW+oLAi87xDBjyb3P29unrzvBE35g54DCEXF2ym9RL4u9h2qZ17vz4BflHQeTv9OLbOgHtp\n",
       "wiBATbqicRwPqiPUxsiECsoOEnrRt2pwu5eVEaj54Evxb2vbR7DbQIHH7fjv0uBKkOLpXGknRy0D\n",
       "ZpYUiL7j/uoEq7SdAG4EepJsb+Fh7l/cEUiPyH6S32rwjL3PAp8+H7g0okGpqZn10Sj6OiPPJokj\n",
       "i/cS7IFcI/27mIeYHeXgKWdpqmdF5wGXikPW+JhwOcn7r/AHLgLKcmIKJsQM15AJf4aOayaTpTgd\n",
       "SUX32nCOq5VVirL1dPgPnGvnaQTrxN22fFDAl1fBbqOslVkDvoseN5Pi3M6Jw1nxYj1PO9rRtJHt\n",
       "UHMPl4w+9OLqp3K1UbJmVcJiOdPO0z4VTI5CuWoXh0uxaaUCXH1mmfNWiwmldYAvyvCBITjGLxCP\n",
       "CjJ2L6x1jtdrhPK6l8Sry6CV+ThsdTtqH5h9BAoFdOF2/4mIr4ptiKaaFyTW0ib9MFwDiSKR0+ea\n",
       "4dKnVy9vgaXUOJzHZ5p9eR/6qbtgizlqTQdYAMnKXA3knp59PXdAVuWYgDfV/TSivAygoaW+SAdp\n",
       "P2a/dKR9mktDwW9k0i07PEhOUSoUXieVpCQVzRJz0pqOk+UUplFIiph7Q94kH7Nd1uYfFBeT3BFD\n",
       "ch6v4ohwx91wXYNKV8rfDeMFJRbLudY1gF9GQEkVg2rAk/nipnBcHVzC3wM4GeYSb+6YE95w5k0h\n",
       "TOiwsTWuzEAsr9sCF9oY0regG8taogLu6T+KQQ3NLdDbVvhmOAhWeCM44bzpfg2jGExzwo0l4Yyt\n",
       "zjspQQKO06HLEMjI0vaQkHgbMOHuCvs5rWWreCd9TAMnB5kSpd5BFy5S6vx/mOFC9/FDlb6W7tqj\n",
       "BZ5zGDA9PdxjO4hLW8Qu/rUNswMo+DTjJNkx8nrugPs//oCW6LC07TeG7u/i6lxlugAAAABJRU5E\n",
       "rkJggg==\n",
       "\" style=\"display:inline;vertical-align:middle;\" /></a> <a class=\"ProveItLink\" href=\"__pv_it/e4c7dedab3145c518fafc41dd28909b5bf4cdaae0/proof.ipynb\" style=\"text-decoration: none\">&#x22A2;&nbsp;</a><a class=\"ProveItLink\" href=\"__pv_it/b6ba1ece242440572af21522ef158c1030467d480/expr.ipynb\"><img src=\"data:image/png;base64,iVBORw0KGgoAAAANSUhEUgAAAOIAAAAXBAMAAADkYY5OAAAAMFBMVEX///8QEBC6urrMzMxUVFRm\n",
       "ZmZERETc3NwyMjKqqqp2dnaIiIiYmJgiIiLu7u4AAAAU9Wx4AAAAAXRSTlMAQObYZgAAA1JJREFU\n",
       "SMe9VktIVFEY/mbu1Xl6Z9BFSVAjtAhMvIJYm1BUEpRCCFwYgT3QMsFLSfagGtooJDKLjGgWXYTI\n",
       "EmSCUdQWDkQQ1GIWBSERU6CJLTLJrDDrP/ecO95xmMlQOnD8H+f3/+7/VOC/n8SWe7RHMr95A0Cc\n",
       "MS82jxP9XVv7SmNceTazI8BDRvu3ILTvQO62vzpzAheIOFo2Dyj9BFx04YlkM/PqcFIhc0KbR/Qs\n",
       "krslYmxZO0Pxw/ugu/vqFiQ1dwGQfxCzJ7vdGeBba+v0hv2eX69wmYwvCHxm1Wmmezl6aZQnd74Z\n",
       "jlVuUZTvIN19oAZoy9Tn6xUOPa18pqZSh/SaMX2UOt371mYMAfRSeBb473aMNhG5A+yGEsyUqVS4\n",
       "hEWRrPygoFP1j5qN4cgH3ITiUo0PCh1DLu9LBcphFimQB09sI4hKk4ZwUkp295ygnWbDLDLnsnhX\n",
       "sAM+s3m7jFxQk8XyEhtAVIYC1vQnEWWV019YQ6SGNVFcq6gUFvZGgagE2ZIYro7Sg33MaG7pzcfQ\n",
       "GiKXxpnGTxmLFtcIxOIW7DTHT1oyEQvZj+uqWJ85QTwWD3d5/9BtqyY/iYM2cvnJp5Wx797bbInR\n",
       "kMZZ5iUq+IjcUsgRlciy5Ie9KjmO/HTQXGpT8CQMTGcjTvHl7dIhE3lOdyDOurKPWV8rwZiRwpA1\n",
       "qyQdMCJh3gPOmMiq40Pc02J8BTNdNRGp/e/FjuMKFJbonCr7Cuf2P3t5gz+LnC8b5vVoYORcSh1J\n",
       "mjlhFIXF49Mg9/Zu770JWZcjAnGm86tZuRJgdnJ+OAZlF/WucnZ0mXON3i8sDobqZTFLfom3dgET\n",
       "VEmz1JFJMydZjKx6ZVBFHW0Bm8p11mPTkuNscO64yYktJ+bXHXTjooYC+4KjB+WDty0xcqmrjszj\n",
       "kBaGoJuIaqmxmtN2tcnRPYT3Ic7x4zZTMTtxdASVMdwaC0oriBT1WBCFVEGQ7yhLA5MJgehqOE2F\n",
       "CqyfqX4r4jTaYUWcS7WNOTSqjDfDzqlQMZEyj92s6M60Ke4yGRZOeDQgOH7qUneklqvT5t+XAZGl\n",
       "IsmxHmq3U9eE0xAdWf5AetTUCsD1hIoQy4zoStmH4UkBvXVHTtM8Xa9w//N/Zn8AZLbP15BXQTEA\n",
       "AAAASUVORK5CYII=\n",
       "\" style=\"display:inline;vertical-align:middle;\" /></a></span></td></tr>\n",
       "<tr><td>2</td><td>assumption</td><td></td><td><span style=\"font-size:20px;\"><a class=\"ProveItLink\" href=\"__pv_it/2617ee670b831fb3d4e38e12288f4d70850354170/expr.ipynb\"><img src=\"data:image/png;base64,iVBORw0KGgoAAAANSUhEUgAAAHkAAAAVBAMAAACQ4lxbAAAAMFBMVEX///9ERETc3NyqqqpUVFS6\n",
       "urrMzMwyMjIQEBCIiIh2dnYiIiLu7u5mZmaYmJgAAABJJ2g3AAAAAXRSTlMAQObYZgAAAc1JREFU\n",
       "OMtjYGDgu8dABmBbpQCieHbhkGedgEsnXwBIezOIyfkBh5oU3BZfAxHXQQRXAw4lNbh1s4OIFdh1\n",
       "6yaA3YTicB4FFKcvwKk7pRRMcRxAFmRGNasBl+5wNyjNgFs3gzCK7ohWJqi0+SWogltArDVFee4E\n",
       "FN2nbjEw/WFgWAvTzVvAwMAkN/ciRHb2GpjxdUAHLuDbx7EBRfeCeHAkmQOZ70H8DGDk8TDw+IAl\n",
       "VyMc2Ap0FlAlcwKybjaD2wyMAkC3ggL+AjCM2sDCKpDQEAyA6/4KMpRFANXfPAydDPxAZj6II/4A\n",
       "aAzIcNYL0PTnboCkGxjwYE285eXV7eXlDiBT/jDkJ0B0c4OijQXobwYrmB6m2w+gLHBC1E9gOIDi\n",
       "b2AozWCAuBzsby5gsDAvYGCBReXqORCGHDBRKMxn4ETVDfSsCJB6jhxj6W/flcI9/BoS7MBIsX8g\n",
       "waCJGt+8Dqz/GJBiDKT7At8PA0RSMAcHczQDw8FZp1Y+QNXNIzn3E5AqxZ3OIYBDAXtaA/kUd0pF\n",
       "yQkYmd2b4QTQlVwTYLr5SMqhuxikgORxeP7m2YlDtwo2Qcu5oPTkBEoarRAnLsaumwlnycSZAC3X\n",
       "AKJNcQuS6o1EAAAAAElFTkSuQmCC\n",
       "\" style=\"display:inline;vertical-align:middle;\" /></a> <a class=\"ProveItLink\" href=\"__pv_it/d6f06c6c7176bd3eb69672f5a9331723c61806bc0/proof.ipynb\" style=\"text-decoration: none\">&#x22A2;&nbsp;</a><a class=\"ProveItLink\" href=\"__pv_it/f939d204ddb18c9833bf0e9cd40af9ed0c961c270/expr.ipynb\"><img src=\"data:image/png;base64,iVBORw0KGgoAAAANSUhEUgAAAGUAAAAVBAMAAACtcD09AAAAMFBMVEX///8iIiIyMjLMzMx2dnaq\n",
       "qqpUVFTu7u5mZmaYmJhERESIiIjc3NwQEBC6uroAAABuzmuqAAAAAXRSTlMAQObYZgAAAXtJREFU\n",
       "OMtjYKAaeI1TZh4uCeYEnHo4DHBIMBXgdoICugBPM5jajSJYg8Kbgu6mpAdg+jqKaDQKrxZVC58a\n",
       "xLF8Cnj0cAUAFdx9cBrCY9U4APWnA9CV3jnR3Sh62D0cGM4XMLA0MDCcmt2xACzGLQLzOdMEBoYS\n",
       "hokTLqLoYeH7wLAfaDLQEQUMZWC1LNJw63mBvnIAygej6DHlEGBYBXTXBVBYQSKjah1cD/8DkFFZ\n",
       "aP4p4N3A8BsYTh+A7BdQKTNVZD0MDLfB7CYlJVklJTUQM76A+TNED6sDTOkJSZjbAkDWf2ZgRw23\n",
       "JgbuCxC3hTAwwFJKiTQkFLiAYTCH+wPDdlQ9GgxcQJWcCgzMmp2THsBs4oQEHTA4WX9yXeDZgKqn\n",
       "jeH9BLAkB8P8q4gIY1UGx6kAA/tqd5edaHFatbsfGIFMD7Cnwzs40oEjZtrBkQ6hmYlNgB3kIm9S\n",
       "8gKjAxcwiNkVcOjhwZbnWHf3gWw7gCtjncaZ5TYzMAAAROlSV4nISxAAAAAASUVORK5CYII=\n",
       "\" style=\"display:inline;vertical-align:middle;\" /></a></span></td></tr>\n",
       "</table>"
      ],
      "text/plain": [
       "\tstep type\trequirements\tstatement\n",
       "0\tspecialization\t1, 2\t{forall_{x, y, z | z < (x + y)} P(x , y , z) , z < (x + y)} |- P(x , y , z)\n",
       "\tx : x, y : y, z : z\n",
       "1\tassumption\t\t{forall_{x, y, z | z < (x + y)} P(x , y , z)} |- forall_{x, y, z | z < (x + y)} P(x , y , z)\n",
       "2\tassumption\t\t{z < (x + y)} |- z < (x + y)"
      ]
     },
     "execution_count": 68,
     "metadata": {},
     "output_type": "execute_result"
    }
   ],
   "source": [
    "altNestedForallSpec.proof()"
   ]
  },
  {
   "cell_type": "markdown",
   "metadata": {},
   "source": [
    "### Specializing and relabeling simultaneously\n",
    "\n",
    "It is also possible to achieve *relabeling* and *specialization* (over any number of nested levels) in a single step.\n",
    "\n",
    "For example, recall our nested `Forall` object $\\forall_x [\\forall_y [\\forall_{z|z<x+y} P(x, y, z)]]$ from above (explicitly redefined here in case changes were made above): "
   ]
  },
  {
   "cell_type": "code",
   "execution_count": 69,
   "metadata": {},
   "outputs": [
    {
     "data": {
      "text/html": [
       "<strong id=\"nestedForall\">nestedForall:</strong> <a class=\"ProveItLink\" href=\"__pv_it/8b65507d111fd345c6cbab939ef0863fd5f116e60/expr.ipynb\"><img src=\"data:image/png;base64,iVBORw0KGgoAAAANSUhEUgAAAScAAAAZBAMAAACBc/UbAAAAMFBMVEX///8QEBC6urrMzMxUVFRm\n",
       "ZmZERETc3NwyMjKqqqp2dnaIiIiYmJgiIiLu7u4AAAAU9Wx4AAAAAXRSTlMAQObYZgAABAFJREFU\n",
       "SMfNl11IFFEUgM/OjOvuzjqKLxVCbdBDUdJEUr1Ei0VBUghBkCFsP2hZ0VLSUhEtvSQksi9G5EOD\n",
       "EP0IsoGCiuBCCFER+1AUkrIFlvmSRWVFWfdnfu6PbRMUdGD2njlz7p1v77nn3DsAkgTHn/qy/QOp\n",
       "HrfIJUuZT9u/kNI4vf5HqMI8AMZ8UIW/8E4l++tn0ZgHlceGBzwAmZdoloeSHf1K348tWx4nsVZT\n",
       "zG2XB3UL33fwUJEMakIFHkp29C2fUaYs+G33kAd1CqsJHorcnxLCJzv6FfUrQBhdoGeLuUUtFwpP\n",
       "SElGAMD/aI9gkx39iv4evfEjUgJF16VR4UJFb6RS58RFfT+VSuUFm+zoV4IzANoXpCwv7nfYKwmf\n",
       "mprGRKjypqZjllgSJEdeToqGsKOUpwHe4sA3oOtM3+l+GsXpBiidox5LK0uR7boHtRmgWYTSTAgm\n",
       "RSjOUZEqjFSHVceyyQL1CVbaUYys6PMADYK1GvQZ2vdo/27UXPGgloGRFqGUOExJxZNzDPJEBcbg\n",
       "rrtuux3ZfruB/MVKgAgCCZuEOdMIQZo4Bhg78Xx5UGWg5ySAPAxLNs6RgzJ2J6HLvXMz1Plfx531\n",
       "/R6/X7OfG1AF5U46tpIZ9aD0XFlBAhiGCcnGObJQxs0YG1kXSjNp+x08KJSCDkh4DjbZHkq9AGWk\n",
       "cZ3tqe0zGYApFT1ZmYDFjI06buw47UGpz16jYA3ggKF8jvSt3GxDka52WVI/OlCL8M95096xStJw\n",
       "x35wlS53ZkNurkXjFbYGMgxAsDUGRnZWrWA3ZOwItaOWB6WtQgk1gIOqouXWqyUWUSjaVYm7ZYrK\n",
       "UVRYkiOgFwhWqB4O0i01bIGGmnsMVGceJ1M7F6pwI3r4Mq8nWKhOkjVv2PAZGdhI5gMDxEI5O3y0\n",
       "q0rzIjjnjIxy/lpuH5wFA0e0JK58o9qG0YcXgCsJdpBn+WNKFZ4HS8uyNuJYGmOhTgBM7icLBI9U\n",
       "ngStrW1h2yXalUJNHv/gjFIN8GpouicHxhKUjcaR/lmq1Uff4TBdYKCieAbVCpWDeoQhYgF2nVHH\n",
       "tbCeWVOmmoTJA3im8JyuAdNeU6SrIu6UAbf2KUSL5B1N2Gbs+hZJR6QDXcBcLdnU7SsSHlRN92Wc\n",
       "z9vQiHlQZ26C5UDhrlFrni3X1tC1A15kqEYlkhWgXg3u7ZUAwnWHJJuuLEx6UNmlF3GzDlFNoHB0\n",
       "DhVsKNK1JCYW+Q4WagxagIWa8nUcTkHdL4/DfEVfZ8IgV6dI15A0dKuj4FXW1R+zNSrbfEG1KGmf\n",
       "UHiuXS3udO2Sj+BFDlS66Quqawj8Q4W5vYp0jf/Nr5l5vvEkmya53BUNkT//1Kgej+PrJ0cVB7QF\n",
       "WmZWAAAAAElFTkSuQmCC\n",
       "\" style=\"display:inline;vertical-align:middle;\" /></a><br>"
      ],
      "text/plain": [
       "nestedForall: forall_{x} [forall_{y} [forall_{z | z < (x + y)} P(x , y , z)]]"
      ]
     },
     "execution_count": 69,
     "metadata": {},
     "output_type": "execute_result"
    }
   ],
   "source": [
    "nestedForall = Forall(x, Forall(y, Forall(z, Pxyz, conditions=[Less(z, Add(x, y))])))"
   ]
  },
  {
   "cell_type": "markdown",
   "metadata": {},
   "source": [
    "We can specialize the outermost instance variable $x$ while simultaneously relabeling the instance variable $z$ to $a$:"
   ]
  },
  {
   "cell_type": "code",
   "execution_count": 70,
   "metadata": {},
   "outputs": [
    {
     "data": {
      "text/html": [
       "<span style=\"font-size:20px;\"><a class=\"ProveItLink\" href=\"__pv_it/482dc020459256bd00f80ffb36546af4670aa6240/expr.ipynb\"><img src=\"data:image/png;base64,iVBORw0KGgoAAAANSUhEUgAAAT8AAAAaBAMAAAAznkapAAAAMFBMVEX///+6urp2dnaqqqoiIiIQ\n",
       "EBBERETu7u6IiIjc3NwyMjJUVFSYmJhmZmbMzMwAAAD0pS5FAAAAAXRSTlMAQObYZgAABGdJREFU\n",
       "WMPVl11oFFcUgM/MuDu7O7OThUaQKjjaB39AWPpQghBcbMC/ChEftELpqjWoDXVVKhgILpG+GIPr\n",
       "D6FLQNenaPRhI6X1p8gigiJa01TEBynzYIVWqFHbSvxB77l3ZvfeuZPpiAp6YHbOnjl35pt7fu4d\n",
       "ALBugyzxtiWRbG9BmttseoD2KzOcLQV4TYpoexuSrLID+vP4N/EY3lVA+AJ/jApAIQBGDwIsvIHn\n",
       "K8WJr5kZAXCzB5hD5bIIQ+fLLIqAsmNU6X1x7twymkz3wtx+FwDPeoAfoTIoAqpZckoVREDZMbI8\n",
       "IVX2+f8OTwUD9qM5LwLS//2+EMuOUcV6SMryIeZ8MczNtAMBcaLSWR8MvulvPpvsGFUSD8jTnxMl\n",
       "FprHensgoDmnXD7kL4gL5XI557PJjlElPkYe9YgoH4b7rZcA4xix/zo6FvoBmzo6vrL9bUZyFOWw\n",
       "36B5ShOZh134qFFyHOg92McivW0Ukm6fm7wiSWzzJMAYep4H2OQHNByIl/yAgqMidTBbSj3Pct8G\n",
       "azkqJ0kcbfOzGAuOPR0SY2xsZ99NcprPA14n6ZA8gdpU0Ct+QKUKXVKjFhzjIl2BM9TzdIZ73ndq\n",
       "5ih93RUAKoHSHMqfvcFCSKhB/wnnkQdMHwe46LBnJ2oSTA72SjbBUQDUb5agpf6vXuneO27xauMB\n",
       "shjudR1WQ5NX1gN0pnlAOFQEbTGtsdqkggSzFxZJNsGRB9TnZvjo1wENh53/gQagm1c0Rx/DfddD\n",
       "GZEAzU/Jzy6cEb2C/X32cK/DwXRZxGtKHlZxNuZ4Z/BgA9BaupMEdA8GlfQItXfKeReQDnXbnvXc\n",
       "A1yJP0ccd9VMV+A798LHrFR4wAUlr4ph0zC5d+HHWJaDiQ9kQC+OW+38ZgEdYfia3QA0ppHC3IOv\n",
       "aZH0nGXkVzJANlSp1tsgk04yMaV9kChQxNQIfM2WeM0Gg5yuBPZBgNYcFuVJIZzaDeK4NZfI84Ct\n",
       "tPq28yHWs3CHzhPCZFI1N8RsqMVqKl7fM5E+sqC2Ab4HHaOerirPmPbXtatHIajNMECWFOPi1mo1\n",
       "XraNIm+jjskMD7gfoHstTSi8a1MJjKGhNUPH2FAG2L3lqXeXZoAdPdtm10D/kgRQ39g3zrQR818M\n",
       "39EJAE2cZavdEgAvIVAmxuclc/wb/uRy0LFK0P0NziDO9R/guDlIhyr+lTtW760K1dScp4UsdW4v\n",
       "VSuqtDmNOdMlm3Xqg3wD8N6MT7BHnCF3z4E1NhdsDxCHmnbAdsDVyPEDfJtlGhO1GAK4Y/etWRKM\n",
       "dnqzZEsoa0oNwOLk43i6SwgXkZC19hRcQDo0nfEvLoM84EJYBzxgF4QABm7vy3B6wi2/uJLcdWC3\n",
       "0Afp0JR06wFPwaxs6cu4GpMzMqDaHgq4TqlEBMQY1LWqN7RF/uQI2RAmHAFwGU3LE6GALT0QHVAT\n",
       "1ks6tPoaH01ptpKZPwcBBnwDSzZDcvnFb1Bf/TOrua1KD9A64T2QlwAcL4FFPLf2AAAAAElFTkSu\n",
       "QmCC\n",
       "\" style=\"display:inline;vertical-align:middle;\" /></a> <a class=\"ProveItLink\" href=\"__pv_it/6779d186bcfb34a308beb07b85b1b3cfe93b44320/proof.ipynb\" style=\"text-decoration: none\">&#x22A2;&nbsp;</a><a class=\"ProveItLink\" href=\"__pv_it/56aadda93537af5fa12d8a86f4c8a1b03e457edb0/expr.ipynb\"><img src=\"data:image/png;base64,iVBORw0KGgoAAAANSUhEUgAAAPcAAAAZBAMAAAAf7KWSAAAAMFBMVEX///8QEBC6urrMzMxUVFRm\n",
       "ZmZERETc3NwyMjKqqqp2dnaIiIiYmJgiIiLu7u4AAAAU9Wx4AAAAAXRSTlMAQObYZgAAA8tJREFU\n",
       "SMfFll1oFFcUx/87M9nd2dnMBvNgg6ArtSBIyAiSJyVLTREUMVAQGhVWLfEjhiy4zdKW1qVPAUUC\n",
       "ViiE0qHgZ6FsIQm6BlzwRSqEfbAIamQsxAZFsjSNMVXTnjt3ZnY+kkUX0QOz9+w9d+7v3vNx5wIB\n",
       "6ZvM4B1I66S+RG8Z70YiqfcLN5aAq29jbqGwvC2e5HBzn7e88EZzQKEe5Mh/nZ23zZzZVGvYpxx+\n",
       "iemnvfDYEDVRo64NPwfCKwNz+iXK4QOsSXvh5v+Butjiv4BMD5SajovrJpxtsGHIl3Bs1Z/VBVf+\n",
       "ppnnSAnVdJzaZMLjF3K5b/zZ/nsul6sv6cMVQFogZX3tcUd4qT3r6bnrhyd6evr0Gq8e93fItpLI\n",
       "AzMsat30fDXy5Sj3/uNuRBb5iGxxLSXkOQ7fChzywyUN4eoxlwxUaGBhot3ToUP8gymnyLd6/H6I\n",
       "O1Bvg1LhFbgS/dT8wOHroOb9cCGF6WpH2ks2EHb+OMnys9Ve336521z2CiBGQFkz1za0D2E+zYkS\n",
       "dlOzlsMboZQCJ1wZ48vA1d0ZDAdN9lr77TyjxFMhWXYVq5DgAdgF3GMe4nCl1GgE4ON4sDRcvZh0\n",
       "h8kxSRpvX6EKp5S3601eRAcf8QzqbBWu5uksEsaqtcHg0yJZInvOa1XCF8WD9HuFOZrqJDayYatl\n",
       "2pDGarusxTkb3mL6WLOO74Y8fuNBewG5ojpux6GPgSeJzEb3zsNZ2uDTzAnDgat3WLpeYRESKUd+\n",
       "ldIt3KQW5sUmliV2mXM5RvWeuQ7FMPHRLnwOpqkLkPJngJsW/CzRvm3FmBsu76OfT7Cl6lupSyxj\n",
       "i7k/BkpGS5Yp8mdZSZsLYotetGehWvqptB9fQ2WRaEgJL7l2Cj926U6p8cBsxw7PJ3WVGbaRKjyR\n",
       "VFKYOmAGkL2VyEAaHPxg8CQkXSpY8Kn+f+wotwKPio9/KUFdQ9mv9o7Ocy177cNe8up3FjxumJXR\n",
       "7IFP0AuLOPaXA58xwhMZTLG4C6xjIzTLFEqGNN7nlpBzTgimFivbmut4taRZqAQuE6vF2QkHHjI6\n",
       "NtMqs9vozTLEykXoNlxr41+KwKfD0ujZiYdDXOMSK7jh34/lA/CPxkdLDlzYc2sva9uJ/oDceLZo\n",
       "WCZ5x2EKauAYPO2G38VRuOHT7mtUJCMVlr1GeT3aruGqx5Rj6RINnP9ZW2ETD48mLY3LNjc8rK/H\n",
       "a8JJHjkae/+oQE4bDl7RanzQFc0Nl6/pbwCXPefxcNFaxdu4vU767+3BQTf8HbE3v3O1Tqb+Bx3r\n",
       "B3m1Z0iuAAAAAElFTkSuQmCC\n",
       "\" style=\"display:inline;vertical-align:middle;\" /></a></span>"
      ],
      "text/plain": [
       "{forall_{x} [forall_{y} [forall_{z | z < (x + y)} P(x , y , z)]]} |- forall_{y} [forall_{a | a < (x + y)} P(x , y , a)]"
      ]
     },
     "execution_count": 70,
     "metadata": {},
     "output_type": "execute_result"
    }
   ],
   "source": [
    "nestedForall.specialize(relabelMap={z:a}, assumptions=[nestedForall])"
   ]
  },
  {
   "cell_type": "markdown",
   "metadata": {},
   "source": [
    "Or we can specialize all the way down to the innermost instance variable ($z$) while simultaneously relabeling the instance variable $z$ to $a$:"
   ]
  },
  {
   "cell_type": "code",
   "execution_count": 71,
   "metadata": {},
   "outputs": [
    {
     "data": {
      "text/html": [
       "<strong id=\"nestedForallSpecAndRelab\">nestedForallSpecAndRelab:</strong> <span style=\"font-size:20px;\"><a class=\"ProveItLink\" href=\"__pv_it/482dc020459256bd00f80ffb36546af4670aa6240/expr.ipynb\"><img src=\"data:image/png;base64,iVBORw0KGgoAAAANSUhEUgAAAT8AAAAaBAMAAAAznkapAAAAMFBMVEX///+6urp2dnaqqqoiIiIQ\n",
       "EBBERETu7u6IiIjc3NwyMjJUVFSYmJhmZmbMzMwAAAD0pS5FAAAAAXRSTlMAQObYZgAABGdJREFU\n",
       "WMPVl11oFFcUgM/MuDu7O7OThUaQKjjaB39AWPpQghBcbMC/ChEftELpqjWoDXVVKhgILpG+GIPr\n",
       "D6FLQNenaPRhI6X1p8gigiJa01TEBynzYIVWqFHbSvxB77l3ZvfeuZPpiAp6YHbOnjl35pt7fu4d\n",
       "ALBugyzxtiWRbG9BmttseoD2KzOcLQV4TYpoexuSrLID+vP4N/EY3lVA+AJ/jApAIQBGDwIsvIHn\n",
       "K8WJr5kZAXCzB5hD5bIIQ+fLLIqAsmNU6X1x7twymkz3wtx+FwDPeoAfoTIoAqpZckoVREDZMbI8\n",
       "IVX2+f8OTwUD9qM5LwLS//2+EMuOUcV6SMryIeZ8MczNtAMBcaLSWR8MvulvPpvsGFUSD8jTnxMl\n",
       "FprHensgoDmnXD7kL4gL5XI557PJjlElPkYe9YgoH4b7rZcA4xix/zo6FvoBmzo6vrL9bUZyFOWw\n",
       "36B5ShOZh134qFFyHOg92McivW0Ukm6fm7wiSWzzJMAYep4H2OQHNByIl/yAgqMidTBbSj3Pct8G\n",
       "azkqJ0kcbfOzGAuOPR0SY2xsZ99NcprPA14n6ZA8gdpU0Ct+QKUKXVKjFhzjIl2BM9TzdIZ73ndq\n",
       "5ih93RUAKoHSHMqfvcFCSKhB/wnnkQdMHwe46LBnJ2oSTA72SjbBUQDUb5agpf6vXuneO27xauMB\n",
       "shjudR1WQ5NX1gN0pnlAOFQEbTGtsdqkggSzFxZJNsGRB9TnZvjo1wENh53/gQagm1c0Rx/DfddD\n",
       "GZEAzU/Jzy6cEb2C/X32cK/DwXRZxGtKHlZxNuZ4Z/BgA9BaupMEdA8GlfQItXfKeReQDnXbnvXc\n",
       "A1yJP0ccd9VMV+A798LHrFR4wAUlr4ph0zC5d+HHWJaDiQ9kQC+OW+38ZgEdYfia3QA0ppHC3IOv\n",
       "aZH0nGXkVzJANlSp1tsgk04yMaV9kChQxNQIfM2WeM0Gg5yuBPZBgNYcFuVJIZzaDeK4NZfI84Ct\n",
       "tPq28yHWs3CHzhPCZFI1N8RsqMVqKl7fM5E+sqC2Ab4HHaOerirPmPbXtatHIajNMECWFOPi1mo1\n",
       "XraNIm+jjskMD7gfoHstTSi8a1MJjKGhNUPH2FAG2L3lqXeXZoAdPdtm10D/kgRQ39g3zrQR818M\n",
       "39EJAE2cZavdEgAvIVAmxuclc/wb/uRy0LFK0P0NziDO9R/guDlIhyr+lTtW760K1dScp4UsdW4v\n",
       "VSuqtDmNOdMlm3Xqg3wD8N6MT7BHnCF3z4E1NhdsDxCHmnbAdsDVyPEDfJtlGhO1GAK4Y/etWRKM\n",
       "dnqzZEsoa0oNwOLk43i6SwgXkZC19hRcQDo0nfEvLoM84EJYBzxgF4QABm7vy3B6wi2/uJLcdWC3\n",
       "0Afp0JR06wFPwaxs6cu4GpMzMqDaHgq4TqlEBMQY1LWqN7RF/uQI2RAmHAFwGU3LE6GALT0QHVAT\n",
       "1ks6tPoaH01ptpKZPwcBBnwDSzZDcvnFb1Bf/TOrua1KD9A64T2QlwAcL4FFPLf2AAAAAElFTkSu\n",
       "QmCC\n",
       "\" style=\"display:inline;vertical-align:middle;\" /></a> <a class=\"ProveItLink\" href=\"__pv_it/291298fdc5b74433576a46a9e3d7df2a55365ded0/proof.ipynb\" style=\"text-decoration: none\">&#x22A2;&nbsp;</a><a class=\"ProveItLink\" href=\"__pv_it/3d18818a5f6362712485879646bfa284af02b6b10/expr.ipynb\"><img src=\"data:image/png;base64,iVBORw0KGgoAAAANSUhEUgAAAMcAAAAXBAMAAABNFUbaAAAAMFBMVEX///8QEBC6urrMzMxUVFRm\n",
       "ZmZERETc3NwyMjKqqqp2dnaIiIiYmJgiIiLu7u4AAAAU9Wx4AAAAAXRSTlMAQObYZgAAAypJREFU\n",
       "SMe9VV1IFFEU/nZnd8fd2R2XfJCIxKA/iGiDiIpEMVNpCUVCgg0yDH0oaF5KKNItCAwkhOypwCUw\n",
       "SUkWM6FWcuklSKp9iaBepocMDNklxaLEOvfemdl1tybaogt35pszZ853fu45A/yPpf8LI9ts3j2h\n",
       "nWJgphjLStNi3eEGhqQaGzV3CLjLwLWi/C+NAic0AiW26SCtc3ST24oiqY4Bg7SRsFV7Jrxw9xdF\n",
       "Ml0JvGwmUGGr9g7wD3d1XSyu3GdoN5F/zqitmodUljo63tioyKF8iRX2F0BdYqWllMmjDTcjXKoO\n",
       "xdAjiiSHb5cDPgr2ANCZtVCZb/J8Ae0+4y59BapYtkqSwByeJ9dzsc+ZwbTQ2KB5MoCXAt0INSfc\n",
       "1UegO0fgNYHPcERZHBkaZsBBghgZvs7Fe90pdIhAluGmz51BIAAl+QuS953wxq3UmsD0ybNiHuVK\n",
       "1tP1Znc74vjGkSuDAH0uUTRKMqD/nGTuMlnSCkhYgrntVA4JsM58PahLC0LehnRIkKjRXSQ4+6g9\n",
       "SyJH7tBL5SpLBe3R2omQIHFOwqGbbVHdbFh1sKMgL0AVj0ehBDnoiWOQQmTpQmctMb2WV7Ik8xod\n",
       "D6WPwT1UA72emWEkH0u1nayKVpuIGCndT5UMHguaK/DUcJTuR6M3BD9L7w0K29UspbIkB1EF6S1/\n",
       "JoNO9Jnp6t6OSU7M28TMMp1R77InKMeRZkaOYEeSo5Kk95VPHGFQoSitSk2W5BMmoLZyRwfY5TPQ\n",
       "2HuptzeOQwgbJGrr97BB4kxBPTU2MkXNTZqYTRzXOJLD47vHiYsZ8pNHad3zQjNJ1BWc/kBWWBtu\n",
       "Zg0RlMzCr0GZkK1a5Rbawq/3LGSMFaN2evV+3YqkQlp4QY7UEe08FdgX9ZkkZdRpbOIVjEBjUXVc\n",
       "KXWtQMYaNYEzMnMsm65NUw+YjnRSAx3v2YeRMZNkYJKq2JJPkh319Fkg5onlkqiFk21VM0rtUPpz\n",
       "+0TWXHH+g8ibb+ZPS2GTIdFiILFcmj0J88MSuBhRbCtyhoC1LthM2Pv4LQlu5T54EzHB9ner4G/t\n",
       "Lxj1Y39s9AdlAcYm3CefLAAAAABJRU5ErkJggg==\n",
       "\" style=\"display:inline;vertical-align:middle;\" /></a></span><br>"
      ],
      "text/plain": [
       "nestedForallSpecAndRelab: {forall_{x} [forall_{y} [forall_{z | z < (x + y)} P(x , y , z)]]} |- forall_{a | a < (x + y)} P(x , y , a)"
      ]
     },
     "execution_count": 71,
     "metadata": {},
     "output_type": "execute_result"
    }
   ],
   "source": [
    "nestedForallSpecAndRelab = nestedForall.specialize(specializeMap={y:y}, relabelMap={z:a}, assumptions=[nestedForall])"
   ]
  },
  {
   "cell_type": "markdown",
   "metadata": {},
   "source": [
    "In that `specialize()` command, we used the explicit `specializeMap` and `relabelMap` designations to distinguish the two types of mappings, but we could have relied simply on the order of the input arguments instead, with the specialization mapping(s) expected first and the relabel mapping(s) expected second:"
   ]
  },
  {
   "cell_type": "code",
   "execution_count": 72,
   "metadata": {},
   "outputs": [
    {
     "data": {
      "text/html": [
       "<span style=\"font-size:20px;\"><a class=\"ProveItLink\" href=\"__pv_it/482dc020459256bd00f80ffb36546af4670aa6240/expr.ipynb\"><img src=\"data:image/png;base64,iVBORw0KGgoAAAANSUhEUgAAAT8AAAAaBAMAAAAznkapAAAAMFBMVEX///+6urp2dnaqqqoiIiIQ\n",
       "EBBERETu7u6IiIjc3NwyMjJUVFSYmJhmZmbMzMwAAAD0pS5FAAAAAXRSTlMAQObYZgAABGdJREFU\n",
       "WMPVl11oFFcUgM/MuDu7O7OThUaQKjjaB39AWPpQghBcbMC/ChEftELpqjWoDXVVKhgILpG+GIPr\n",
       "D6FLQNenaPRhI6X1p8gigiJa01TEBynzYIVWqFHbSvxB77l3ZvfeuZPpiAp6YHbOnjl35pt7fu4d\n",
       "ALBugyzxtiWRbG9BmttseoD2KzOcLQV4TYpoexuSrLID+vP4N/EY3lVA+AJ/jApAIQBGDwIsvIHn\n",
       "K8WJr5kZAXCzB5hD5bIIQ+fLLIqAsmNU6X1x7twymkz3wtx+FwDPeoAfoTIoAqpZckoVREDZMbI8\n",
       "IVX2+f8OTwUD9qM5LwLS//2+EMuOUcV6SMryIeZ8MczNtAMBcaLSWR8MvulvPpvsGFUSD8jTnxMl\n",
       "FprHensgoDmnXD7kL4gL5XI557PJjlElPkYe9YgoH4b7rZcA4xix/zo6FvoBmzo6vrL9bUZyFOWw\n",
       "36B5ShOZh134qFFyHOg92McivW0Ukm6fm7wiSWzzJMAYep4H2OQHNByIl/yAgqMidTBbSj3Pct8G\n",
       "azkqJ0kcbfOzGAuOPR0SY2xsZ99NcprPA14n6ZA8gdpU0Ct+QKUKXVKjFhzjIl2BM9TzdIZ73ndq\n",
       "5ih93RUAKoHSHMqfvcFCSKhB/wnnkQdMHwe46LBnJ2oSTA72SjbBUQDUb5agpf6vXuneO27xauMB\n",
       "shjudR1WQ5NX1gN0pnlAOFQEbTGtsdqkggSzFxZJNsGRB9TnZvjo1wENh53/gQagm1c0Rx/DfddD\n",
       "GZEAzU/Jzy6cEb2C/X32cK/DwXRZxGtKHlZxNuZ4Z/BgA9BaupMEdA8GlfQItXfKeReQDnXbnvXc\n",
       "A1yJP0ccd9VMV+A798LHrFR4wAUlr4ph0zC5d+HHWJaDiQ9kQC+OW+38ZgEdYfia3QA0ppHC3IOv\n",
       "aZH0nGXkVzJANlSp1tsgk04yMaV9kChQxNQIfM2WeM0Gg5yuBPZBgNYcFuVJIZzaDeK4NZfI84Ct\n",
       "tPq28yHWs3CHzhPCZFI1N8RsqMVqKl7fM5E+sqC2Ab4HHaOerirPmPbXtatHIajNMECWFOPi1mo1\n",
       "XraNIm+jjskMD7gfoHstTSi8a1MJjKGhNUPH2FAG2L3lqXeXZoAdPdtm10D/kgRQ39g3zrQR818M\n",
       "39EJAE2cZavdEgAvIVAmxuclc/wb/uRy0LFK0P0NziDO9R/guDlIhyr+lTtW760K1dScp4UsdW4v\n",
       "VSuqtDmNOdMlm3Xqg3wD8N6MT7BHnCF3z4E1NhdsDxCHmnbAdsDVyPEDfJtlGhO1GAK4Y/etWRKM\n",
       "dnqzZEsoa0oNwOLk43i6SwgXkZC19hRcQDo0nfEvLoM84EJYBzxgF4QABm7vy3B6wi2/uJLcdWC3\n",
       "0Afp0JR06wFPwaxs6cu4GpMzMqDaHgq4TqlEBMQY1LWqN7RF/uQI2RAmHAFwGU3LE6GALT0QHVAT\n",
       "1ks6tPoaH01ptpKZPwcBBnwDSzZDcvnFb1Bf/TOrua1KD9A64T2QlwAcL4FFPLf2AAAAAElFTkSu\n",
       "QmCC\n",
       "\" style=\"display:inline;vertical-align:middle;\" /></a> <a class=\"ProveItLink\" href=\"__pv_it/291298fdc5b74433576a46a9e3d7df2a55365ded0/proof.ipynb\" style=\"text-decoration: none\">&#x22A2;&nbsp;</a><a class=\"ProveItLink\" href=\"__pv_it/3d18818a5f6362712485879646bfa284af02b6b10/expr.ipynb\"><img src=\"data:image/png;base64,iVBORw0KGgoAAAANSUhEUgAAAMcAAAAXBAMAAABNFUbaAAAAMFBMVEX///8QEBC6urrMzMxUVFRm\n",
       "ZmZERETc3NwyMjKqqqp2dnaIiIiYmJgiIiLu7u4AAAAU9Wx4AAAAAXRSTlMAQObYZgAAAypJREFU\n",
       "SMe9VV1IFFEU/nZnd8fd2R2XfJCIxKA/iGiDiIpEMVNpCUVCgg0yDH0oaF5KKNItCAwkhOypwCUw\n",
       "SUkWM6FWcuklSKp9iaBepocMDNklxaLEOvfemdl1tybaogt35pszZ853fu45A/yPpf8LI9ts3j2h\n",
       "nWJgphjLStNi3eEGhqQaGzV3CLjLwLWi/C+NAic0AiW26SCtc3ST24oiqY4Bg7SRsFV7Jrxw9xdF\n",
       "Ml0JvGwmUGGr9g7wD3d1XSyu3GdoN5F/zqitmodUljo63tioyKF8iRX2F0BdYqWllMmjDTcjXKoO\n",
       "xdAjiiSHb5cDPgr2ANCZtVCZb/J8Ae0+4y59BapYtkqSwByeJ9dzsc+ZwbTQ2KB5MoCXAt0INSfc\n",
       "1UegO0fgNYHPcERZHBkaZsBBghgZvs7Fe90pdIhAluGmz51BIAAl+QuS953wxq3UmsD0ybNiHuVK\n",
       "1tP1Znc74vjGkSuDAH0uUTRKMqD/nGTuMlnSCkhYgrntVA4JsM58PahLC0LehnRIkKjRXSQ4+6g9\n",
       "SyJH7tBL5SpLBe3R2omQIHFOwqGbbVHdbFh1sKMgL0AVj0ehBDnoiWOQQmTpQmctMb2WV7Ik8xod\n",
       "D6WPwT1UA72emWEkH0u1nayKVpuIGCndT5UMHguaK/DUcJTuR6M3BD9L7w0K29UspbIkB1EF6S1/\n",
       "JoNO9Jnp6t6OSU7M28TMMp1R77InKMeRZkaOYEeSo5Kk95VPHGFQoSitSk2W5BMmoLZyRwfY5TPQ\n",
       "2HuptzeOQwgbJGrr97BB4kxBPTU2MkXNTZqYTRzXOJLD47vHiYsZ8pNHad3zQjNJ1BWc/kBWWBtu\n",
       "Zg0RlMzCr0GZkK1a5Rbawq/3LGSMFaN2evV+3YqkQlp4QY7UEe08FdgX9ZkkZdRpbOIVjEBjUXVc\n",
       "KXWtQMYaNYEzMnMsm65NUw+YjnRSAx3v2YeRMZNkYJKq2JJPkh319Fkg5onlkqiFk21VM0rtUPpz\n",
       "+0TWXHH+g8ibb+ZPS2GTIdFiILFcmj0J88MSuBhRbCtyhoC1LthM2Pv4LQlu5T54EzHB9ner4G/t\n",
       "Lxj1Y39s9AdlAcYm3CefLAAAAABJRU5ErkJggg==\n",
       "\" style=\"display:inline;vertical-align:middle;\" /></a></span>"
      ],
      "text/plain": [
       "{forall_{x} [forall_{y} [forall_{z | z < (x + y)} P(x , y , z)]]} |- forall_{a | a < (x + y)} P(x , y , a)"
      ]
     },
     "execution_count": 72,
     "metadata": {},
     "output_type": "execute_result"
    }
   ],
   "source": [
    "nestedForall.specialize({y:y}, {z:a}, assumptions=[nestedForall, Less(a, Add(x, y))])"
   ]
  },
  {
   "cell_type": "markdown",
   "metadata": {},
   "source": [
    "We can take a quick look at the related proof to see how the specialization and relabeling mappings are indicated:"
   ]
  },
  {
   "cell_type": "code",
   "execution_count": 73,
   "metadata": {},
   "outputs": [
    {
     "data": {
      "text/html": [
       "<table><tr><th>&nbsp;</th><th>step type</th><th>requirements</th><th>statement</th></tr>\n",
       "<tr><td>0</td><td>specialization</td><td>1</td><td><span style=\"font-size:20px;\"><a class=\"ProveItLink\" href=\"__pv_it/482dc020459256bd00f80ffb36546af4670aa6240/expr.ipynb\"><img src=\"data:image/png;base64,iVBORw0KGgoAAAANSUhEUgAAAT8AAAAaBAMAAAAznkapAAAAMFBMVEX///+6urp2dnaqqqoiIiIQ\n",
       "EBBERETu7u6IiIjc3NwyMjJUVFSYmJhmZmbMzMwAAAD0pS5FAAAAAXRSTlMAQObYZgAABGdJREFU\n",
       "WMPVl11oFFcUgM/MuDu7O7OThUaQKjjaB39AWPpQghBcbMC/ChEftELpqjWoDXVVKhgILpG+GIPr\n",
       "D6FLQNenaPRhI6X1p8gigiJa01TEBynzYIVWqFHbSvxB77l3ZvfeuZPpiAp6YHbOnjl35pt7fu4d\n",
       "ALBugyzxtiWRbG9BmttseoD2KzOcLQV4TYpoexuSrLID+vP4N/EY3lVA+AJ/jApAIQBGDwIsvIHn\n",
       "K8WJr5kZAXCzB5hD5bIIQ+fLLIqAsmNU6X1x7twymkz3wtx+FwDPeoAfoTIoAqpZckoVREDZMbI8\n",
       "IVX2+f8OTwUD9qM5LwLS//2+EMuOUcV6SMryIeZ8MczNtAMBcaLSWR8MvulvPpvsGFUSD8jTnxMl\n",
       "FprHensgoDmnXD7kL4gL5XI557PJjlElPkYe9YgoH4b7rZcA4xix/zo6FvoBmzo6vrL9bUZyFOWw\n",
       "36B5ShOZh134qFFyHOg92McivW0Ukm6fm7wiSWzzJMAYep4H2OQHNByIl/yAgqMidTBbSj3Pct8G\n",
       "azkqJ0kcbfOzGAuOPR0SY2xsZ99NcprPA14n6ZA8gdpU0Ct+QKUKXVKjFhzjIl2BM9TzdIZ73ndq\n",
       "5ih93RUAKoHSHMqfvcFCSKhB/wnnkQdMHwe46LBnJ2oSTA72SjbBUQDUb5agpf6vXuneO27xauMB\n",
       "shjudR1WQ5NX1gN0pnlAOFQEbTGtsdqkggSzFxZJNsGRB9TnZvjo1wENh53/gQagm1c0Rx/DfddD\n",
       "GZEAzU/Jzy6cEb2C/X32cK/DwXRZxGtKHlZxNuZ4Z/BgA9BaupMEdA8GlfQItXfKeReQDnXbnvXc\n",
       "A1yJP0ccd9VMV+A798LHrFR4wAUlr4ph0zC5d+HHWJaDiQ9kQC+OW+38ZgEdYfia3QA0ppHC3IOv\n",
       "aZH0nGXkVzJANlSp1tsgk04yMaV9kChQxNQIfM2WeM0Gg5yuBPZBgNYcFuVJIZzaDeK4NZfI84Ct\n",
       "tPq28yHWs3CHzhPCZFI1N8RsqMVqKl7fM5E+sqC2Ab4HHaOerirPmPbXtatHIajNMECWFOPi1mo1\n",
       "XraNIm+jjskMD7gfoHstTSi8a1MJjKGhNUPH2FAG2L3lqXeXZoAdPdtm10D/kgRQ39g3zrQR818M\n",
       "39EJAE2cZavdEgAvIVAmxuclc/wb/uRy0LFK0P0NziDO9R/guDlIhyr+lTtW760K1dScp4UsdW4v\n",
       "VSuqtDmNOdMlm3Xqg3wD8N6MT7BHnCF3z4E1NhdsDxCHmnbAdsDVyPEDfJtlGhO1GAK4Y/etWRKM\n",
       "dnqzZEsoa0oNwOLk43i6SwgXkZC19hRcQDo0nfEvLoM84EJYBzxgF4QABm7vy3B6wi2/uJLcdWC3\n",
       "0Afp0JR06wFPwaxs6cu4GpMzMqDaHgq4TqlEBMQY1LWqN7RF/uQI2RAmHAFwGU3LE6GALT0QHVAT\n",
       "1ks6tPoaH01ptpKZPwcBBnwDSzZDcvnFb1Bf/TOrua1KD9A64T2QlwAcL4FFPLf2AAAAAElFTkSu\n",
       "QmCC\n",
       "\" style=\"display:inline;vertical-align:middle;\" /></a> <a class=\"ProveItLink\" href=\"__pv_it/291298fdc5b74433576a46a9e3d7df2a55365ded0/proof.ipynb\" style=\"text-decoration: none\">&#x22A2;&nbsp;</a><a class=\"ProveItLink\" href=\"__pv_it/3d18818a5f6362712485879646bfa284af02b6b10/expr.ipynb\"><img src=\"data:image/png;base64,iVBORw0KGgoAAAANSUhEUgAAAMcAAAAXBAMAAABNFUbaAAAAMFBMVEX///8QEBC6urrMzMxUVFRm\n",
       "ZmZERETc3NwyMjKqqqp2dnaIiIiYmJgiIiLu7u4AAAAU9Wx4AAAAAXRSTlMAQObYZgAAAypJREFU\n",
       "SMe9VV1IFFEU/nZnd8fd2R2XfJCIxKA/iGiDiIpEMVNpCUVCgg0yDH0oaF5KKNItCAwkhOypwCUw\n",
       "SUkWM6FWcuklSKp9iaBepocMDNklxaLEOvfemdl1tybaogt35pszZ853fu45A/yPpf8LI9ts3j2h\n",
       "nWJgphjLStNi3eEGhqQaGzV3CLjLwLWi/C+NAic0AiW26SCtc3ST24oiqY4Bg7SRsFV7Jrxw9xdF\n",
       "Ml0JvGwmUGGr9g7wD3d1XSyu3GdoN5F/zqitmodUljo63tioyKF8iRX2F0BdYqWllMmjDTcjXKoO\n",
       "xdAjiiSHb5cDPgr2ANCZtVCZb/J8Ae0+4y59BapYtkqSwByeJ9dzsc+ZwbTQ2KB5MoCXAt0INSfc\n",
       "1UegO0fgNYHPcERZHBkaZsBBghgZvs7Fe90pdIhAluGmz51BIAAl+QuS953wxq3UmsD0ybNiHuVK\n",
       "1tP1Znc74vjGkSuDAH0uUTRKMqD/nGTuMlnSCkhYgrntVA4JsM58PahLC0LehnRIkKjRXSQ4+6g9\n",
       "SyJH7tBL5SpLBe3R2omQIHFOwqGbbVHdbFh1sKMgL0AVj0ehBDnoiWOQQmTpQmctMb2WV7Ik8xod\n",
       "D6WPwT1UA72emWEkH0u1nayKVpuIGCndT5UMHguaK/DUcJTuR6M3BD9L7w0K29UspbIkB1EF6S1/\n",
       "JoNO9Jnp6t6OSU7M28TMMp1R77InKMeRZkaOYEeSo5Kk95VPHGFQoSitSk2W5BMmoLZyRwfY5TPQ\n",
       "2HuptzeOQwgbJGrr97BB4kxBPTU2MkXNTZqYTRzXOJLD47vHiYsZ8pNHad3zQjNJ1BWc/kBWWBtu\n",
       "Zg0RlMzCr0GZkK1a5Rbawq/3LGSMFaN2evV+3YqkQlp4QY7UEe08FdgX9ZkkZdRpbOIVjEBjUXVc\n",
       "KXWtQMYaNYEzMnMsm65NUw+YjnRSAx3v2YeRMZNkYJKq2JJPkh319Fkg5onlkqiFk21VM0rtUPpz\n",
       "+0TWXHH+g8ibb+ZPS2GTIdFiILFcmj0J88MSuBhRbCtyhoC1LthM2Pv4LQlu5T54EzHB9ner4G/t\n",
       "Lxj1Y39s9AdlAcYm3CefLAAAAABJRU5ErkJggg==\n",
       "\" style=\"display:inline;vertical-align:middle;\" /></a></span></td></tr>\n",
       "<tr><td>&nbsp;</td><td colspan=4 style=\"text-align:left\"><span style=\"font-size:20px;\"><a class=\"ProveItLink\" href=\"../packages/proveit/__pv_it/530be409e3083890784cf1d7b28c9e67e90af9360/expr.ipynb\"><img src=\"data:image/png;base64,iVBORw0KGgoAAAANSUhEUgAAAAsAAAAJBAMAAAAWSsseAAAAKlBMVEX///9ERETMzMwQEBAiIiKY\n",
       "mJju7u5mZmaqqqpUVFSIiIh2dnbc3NwAAAA/vyDhAAAAAXRSTlMAQObYZgAAAENJREFUCNdjYDi9\n",
       "8sTyBQxsG1hdmR0YuBm4LnAoMLAxcAowgADzAjB1VoEhgYH1wFoGrgSG3gBhhlMMDImrs3cFMAAA\n",
       "t0YN+iTRa+sAAAAASUVORK5CYII=\n",
       "\" style=\"display:inline;vertical-align:middle;\" /></a> : <a class=\"ProveItLink\" href=\"../packages/proveit/__pv_it/530be409e3083890784cf1d7b28c9e67e90af9360/expr.ipynb\"><img src=\"data:image/png;base64,iVBORw0KGgoAAAANSUhEUgAAAAsAAAAJBAMAAAAWSsseAAAAKlBMVEX///9ERETMzMwQEBAiIiKY\n",
       "mJju7u5mZmaqqqpUVFSIiIh2dnbc3NwAAAA/vyDhAAAAAXRSTlMAQObYZgAAAENJREFUCNdjYDi9\n",
       "8sTyBQxsG1hdmR0YuBm4LnAoMLAxcAowgADzAjB1VoEhgYH1wFoGrgSG3gBhhlMMDImrs3cFMAAA\n",
       "t0YN+iTRa+sAAAAASUVORK5CYII=\n",
       "\" style=\"display:inline;vertical-align:middle;\" /></a>, <a class=\"ProveItLink\" href=\"../packages/proveit/__pv_it/f8b9edf8e16034727f0aad55bb83e392c3db40d40/expr.ipynb\"><img src=\"data:image/png;base64,iVBORw0KGgoAAAANSUhEUgAAAAsAAAANBAMAAACN24kIAAAAMFBMVEX///+YmJhUVFQyMjIQEBBE\n",
       "REQiIiKqqqrMzMyIiIi6urrc3NxmZmZ2dnbu7u4AAADXeCicAAAAAXRSTlMAQObYZgAAAFhJREFU\n",
       "CNdj4LtzgWH/AwZerg8M8xkY2nkSGEIZGB6wTGD4ycDAUP+A4weQOszA6QCkbBhYFYDUIYb1AkDq\n",
       "6czzGxhA4BoQMyXwuQMptgusF4AU+8xTQBIAUqMVoSp/SLMAAAAASUVORK5CYII=\n",
       "\" style=\"display:inline;vertical-align:middle;\" /></a> : <a class=\"ProveItLink\" href=\"../packages/proveit/__pv_it/f8b9edf8e16034727f0aad55bb83e392c3db40d40/expr.ipynb\"><img src=\"data:image/png;base64,iVBORw0KGgoAAAANSUhEUgAAAAsAAAANBAMAAACN24kIAAAAMFBMVEX///+YmJhUVFQyMjIQEBBE\n",
       "REQiIiKqqqrMzMyIiIi6urrc3NxmZmZ2dnbu7u4AAADXeCicAAAAAXRSTlMAQObYZgAAAFhJREFU\n",
       "CNdj4LtzgWH/AwZerg8M8xkY2nkSGEIZGB6wTGD4ycDAUP+A4weQOszA6QCkbBhYFYDUIYb1AkDq\n",
       "6czzGxhA4BoQMyXwuQMptgusF4AU+8xTQBIAUqMVoSp/SLMAAAAASUVORK5CYII=\n",
       "\" style=\"display:inline;vertical-align:middle;\" /></a>, relabeling <a class=\"ProveItLink\" href=\"../packages/proveit/__pv_it/251502494639118b4892de8e9d720a5fcce840e10/expr.ipynb\"><img src=\"data:image/png;base64,iVBORw0KGgoAAAANSUhEUgAAAAoAAAAJBAMAAAD5iKAgAAAALVBMVEX///8yMjLMzMx2dnaqqqpU\n",
       "VFTu7u5mZmaYmJhERESIiIjc3NwQEBC6uroAAAB+iRisAAAAAXRSTlMAQObYZgAAADlJREFUCNdj\n",
       "YOA9c2EXA8POrvIJDAwJDKkJDAwM3AFAguE6iGAxAJHODAwBDEwSFY0XGNgZ+o4wAABKtAsIcBKm\n",
       "agAAAABJRU5ErkJggg==\n",
       "\" style=\"display:inline;vertical-align:middle;\" /></a> : <a class=\"ProveItLink\" href=\"../packages/proveit/__pv_it/07527342713064c87612d00d8557c53d53d5324a0/expr.ipynb\"><img src=\"data:image/png;base64,iVBORw0KGgoAAAANSUhEUgAAAAsAAAAJBAMAAAAWSsseAAAAMFBMVEX///8yMjKqqqrMzMzu7u4i\n",
       "IiJmZmaYmJhEREQQEBC6urp2dnaIiIhUVFTc3NwAAAD87Fq/AAAAAXRSTlMAQObYZgAAAEhJREFU\n",
       "CNdjYOC7s2seAwPDygccHxgY+L4zsDUwMPB+YGA9wMDA38Dgb8DA8P4Agz6DA4O/AsNFJgMGxgKm\n",
       "MG6gyjunLE4xAAAZTBA5TB6DCwAAAABJRU5ErkJggg==\n",
       "\" style=\"display:inline;vertical-align:middle;\" /></a></span></td></tr><tr><td>1</td><td>assumption</td><td></td><td><span style=\"font-size:20px;\"><a class=\"ProveItLink\" href=\"__pv_it/482dc020459256bd00f80ffb36546af4670aa6240/expr.ipynb\"><img src=\"data:image/png;base64,iVBORw0KGgoAAAANSUhEUgAAAT8AAAAaBAMAAAAznkapAAAAMFBMVEX///+6urp2dnaqqqoiIiIQ\n",
       "EBBERETu7u6IiIjc3NwyMjJUVFSYmJhmZmbMzMwAAAD0pS5FAAAAAXRSTlMAQObYZgAABGdJREFU\n",
       "WMPVl11oFFcUgM/MuDu7O7OThUaQKjjaB39AWPpQghBcbMC/ChEftELpqjWoDXVVKhgILpG+GIPr\n",
       "D6FLQNenaPRhI6X1p8gigiJa01TEBynzYIVWqFHbSvxB77l3ZvfeuZPpiAp6YHbOnjl35pt7fu4d\n",
       "ALBugyzxtiWRbG9BmttseoD2KzOcLQV4TYpoexuSrLID+vP4N/EY3lVA+AJ/jApAIQBGDwIsvIHn\n",
       "K8WJr5kZAXCzB5hD5bIIQ+fLLIqAsmNU6X1x7twymkz3wtx+FwDPeoAfoTIoAqpZckoVREDZMbI8\n",
       "IVX2+f8OTwUD9qM5LwLS//2+EMuOUcV6SMryIeZ8MczNtAMBcaLSWR8MvulvPpvsGFUSD8jTnxMl\n",
       "FprHensgoDmnXD7kL4gL5XI557PJjlElPkYe9YgoH4b7rZcA4xix/zo6FvoBmzo6vrL9bUZyFOWw\n",
       "36B5ShOZh134qFFyHOg92McivW0Ukm6fm7wiSWzzJMAYep4H2OQHNByIl/yAgqMidTBbSj3Pct8G\n",
       "azkqJ0kcbfOzGAuOPR0SY2xsZ99NcprPA14n6ZA8gdpU0Ct+QKUKXVKjFhzjIl2BM9TzdIZ73ndq\n",
       "5ih93RUAKoHSHMqfvcFCSKhB/wnnkQdMHwe46LBnJ2oSTA72SjbBUQDUb5agpf6vXuneO27xauMB\n",
       "shjudR1WQ5NX1gN0pnlAOFQEbTGtsdqkggSzFxZJNsGRB9TnZvjo1wENh53/gQagm1c0Rx/DfddD\n",
       "GZEAzU/Jzy6cEb2C/X32cK/DwXRZxGtKHlZxNuZ4Z/BgA9BaupMEdA8GlfQItXfKeReQDnXbnvXc\n",
       "A1yJP0ccd9VMV+A798LHrFR4wAUlr4ph0zC5d+HHWJaDiQ9kQC+OW+38ZgEdYfia3QA0ppHC3IOv\n",
       "aZH0nGXkVzJANlSp1tsgk04yMaV9kChQxNQIfM2WeM0Gg5yuBPZBgNYcFuVJIZzaDeK4NZfI84Ct\n",
       "tPq28yHWs3CHzhPCZFI1N8RsqMVqKl7fM5E+sqC2Ab4HHaOerirPmPbXtatHIajNMECWFOPi1mo1\n",
       "XraNIm+jjskMD7gfoHstTSi8a1MJjKGhNUPH2FAG2L3lqXeXZoAdPdtm10D/kgRQ39g3zrQR818M\n",
       "39EJAE2cZavdEgAvIVAmxuclc/wb/uRy0LFK0P0NziDO9R/guDlIhyr+lTtW760K1dScp4UsdW4v\n",
       "VSuqtDmNOdMlm3Xqg3wD8N6MT7BHnCF3z4E1NhdsDxCHmnbAdsDVyPEDfJtlGhO1GAK4Y/etWRKM\n",
       "dnqzZEsoa0oNwOLk43i6SwgXkZC19hRcQDo0nfEvLoM84EJYBzxgF4QABm7vy3B6wi2/uJLcdWC3\n",
       "0Afp0JR06wFPwaxs6cu4GpMzMqDaHgq4TqlEBMQY1LWqN7RF/uQI2RAmHAFwGU3LE6GALT0QHVAT\n",
       "1ks6tPoaH01ptpKZPwcBBnwDSzZDcvnFb1Bf/TOrua1KD9A64T2QlwAcL4FFPLf2AAAAAElFTkSu\n",
       "QmCC\n",
       "\" style=\"display:inline;vertical-align:middle;\" /></a> <a class=\"ProveItLink\" href=\"__pv_it/f9bbb30196536973d9ff1ffeb7b5e1709c7d76500/proof.ipynb\" style=\"text-decoration: none\">&#x22A2;&nbsp;</a><a class=\"ProveItLink\" href=\"__pv_it/8b65507d111fd345c6cbab939ef0863fd5f116e60/expr.ipynb\"><img src=\"data:image/png;base64,iVBORw0KGgoAAAANSUhEUgAAAScAAAAZBAMAAACBc/UbAAAAMFBMVEX///8QEBC6urrMzMxUVFRm\n",
       "ZmZERETc3NwyMjKqqqp2dnaIiIiYmJgiIiLu7u4AAAAU9Wx4AAAAAXRSTlMAQObYZgAABAFJREFU\n",
       "SMfNl11IFFEUgM/OjOvuzjqKLxVCbdBDUdJEUr1Ei0VBUghBkCFsP2hZ0VLSUhEtvSQksi9G5EOD\n",
       "EP0IsoGCiuBCCFER+1AUkrIFlvmSRWVFWfdnfu6PbRMUdGD2njlz7p1v77nn3DsAkgTHn/qy/QOp\n",
       "HrfIJUuZT9u/kNI4vf5HqMI8AMZ8UIW/8E4l++tn0ZgHlceGBzwAmZdoloeSHf1K348tWx4nsVZT\n",
       "zG2XB3UL33fwUJEMakIFHkp29C2fUaYs+G33kAd1CqsJHorcnxLCJzv6FfUrQBhdoGeLuUUtFwpP\n",
       "SElGAMD/aI9gkx39iv4evfEjUgJF16VR4UJFb6RS58RFfT+VSuUFm+zoV4IzANoXpCwv7nfYKwmf\n",
       "mprGRKjypqZjllgSJEdeToqGsKOUpwHe4sA3oOtM3+l+GsXpBiidox5LK0uR7boHtRmgWYTSTAgm\n",
       "RSjOUZEqjFSHVceyyQL1CVbaUYys6PMADYK1GvQZ2vdo/27UXPGgloGRFqGUOExJxZNzDPJEBcbg\n",
       "rrtuux3ZfruB/MVKgAgCCZuEOdMIQZo4Bhg78Xx5UGWg5ySAPAxLNs6RgzJ2J6HLvXMz1Plfx531\n",
       "/R6/X7OfG1AF5U46tpIZ9aD0XFlBAhiGCcnGObJQxs0YG1kXSjNp+x08KJSCDkh4DjbZHkq9AGWk\n",
       "cZ3tqe0zGYApFT1ZmYDFjI06buw47UGpz16jYA3ggKF8jvSt3GxDka52WVI/OlCL8M95096xStJw\n",
       "x35wlS53ZkNurkXjFbYGMgxAsDUGRnZWrWA3ZOwItaOWB6WtQgk1gIOqouXWqyUWUSjaVYm7ZYrK\n",
       "UVRYkiOgFwhWqB4O0i01bIGGmnsMVGceJ1M7F6pwI3r4Mq8nWKhOkjVv2PAZGdhI5gMDxEI5O3y0\n",
       "q0rzIjjnjIxy/lpuH5wFA0e0JK58o9qG0YcXgCsJdpBn+WNKFZ4HS8uyNuJYGmOhTgBM7icLBI9U\n",
       "ngStrW1h2yXalUJNHv/gjFIN8GpouicHxhKUjcaR/lmq1Uff4TBdYKCieAbVCpWDeoQhYgF2nVHH\n",
       "tbCeWVOmmoTJA3im8JyuAdNeU6SrIu6UAbf2KUSL5B1N2Gbs+hZJR6QDXcBcLdnU7SsSHlRN92Wc\n",
       "z9vQiHlQZ26C5UDhrlFrni3X1tC1A15kqEYlkhWgXg3u7ZUAwnWHJJuuLEx6UNmlF3GzDlFNoHB0\n",
       "DhVsKNK1JCYW+Q4WagxagIWa8nUcTkHdL4/DfEVfZ8IgV6dI15A0dKuj4FXW1R+zNSrbfEG1KGmf\n",
       "UHiuXS3udO2Sj+BFDlS66Quqawj8Q4W5vYp0jf/Nr5l5vvEkmya53BUNkT//1Kgej+PrJ0cVB7QF\n",
       "WmZWAAAAAElFTkSuQmCC\n",
       "\" style=\"display:inline;vertical-align:middle;\" /></a></span></td></tr>\n",
       "</table>"
      ],
      "text/plain": [
       "\tstep type\trequirements\tstatement\n",
       "0\tspecialization\t1\t{forall_{x} [forall_{y} [forall_{z | z < (x + y)} P(x , y , z)]]} |- forall_{a | a < (x + y)} P(x , y , a)\n",
       "\tx : x, y : y, relabeling z : a\n",
       "1\tassumption\t\t{forall_{x} [forall_{y} [forall_{z | z < (x + y)} P(x , y , z)]]} |- forall_{x} [forall_{y} [forall_{z | z < (x + y)} P(x , y , z)]]"
      ]
     },
     "execution_count": 73,
     "metadata": {},
     "output_type": "execute_result"
    }
   ],
   "source": [
    "nestedForallSpecAndRelab.proof()"
   ]
  },
  {
   "cell_type": "markdown",
   "metadata": {},
   "source": [
    "The *relabeling* map is always shown after the last comma in the mapping under the *specialization* step.  When any *specialization* occurs, the \"step type\" is labeled \"specialization\".  If there is only *relabeling*, the \"step type\" will indicate \"relabeling\". "
   ]
  },
  {
   "cell_type": "markdown",
   "metadata": {},
   "source": [
    "You are not allowed to specify that the same **variable** is to be *specialized* and *relabeled*. For example, recall once again our nested `Forall` object:"
   ]
  },
  {
   "cell_type": "code",
   "execution_count": 74,
   "metadata": {},
   "outputs": [
    {
     "data": {
      "text/html": [
       "<a class=\"ProveItLink\" href=\"__pv_it/8b65507d111fd345c6cbab939ef0863fd5f116e60/expr.ipynb\"><img src=\"data:image/png;base64,iVBORw0KGgoAAAANSUhEUgAAAScAAAAZBAMAAACBc/UbAAAAMFBMVEX///8QEBC6urrMzMxUVFRm\n",
       "ZmZERETc3NwyMjKqqqp2dnaIiIiYmJgiIiLu7u4AAAAU9Wx4AAAAAXRSTlMAQObYZgAABAFJREFU\n",
       "SMfNl11IFFEUgM/OjOvuzjqKLxVCbdBDUdJEUr1Ei0VBUghBkCFsP2hZ0VLSUhEtvSQksi9G5EOD\n",
       "EP0IsoGCiuBCCFER+1AUkrIFlvmSRWVFWfdnfu6PbRMUdGD2njlz7p1v77nn3DsAkgTHn/qy/QOp\n",
       "HrfIJUuZT9u/kNI4vf5HqMI8AMZ8UIW/8E4l++tn0ZgHlceGBzwAmZdoloeSHf1K348tWx4nsVZT\n",
       "zG2XB3UL33fwUJEMakIFHkp29C2fUaYs+G33kAd1CqsJHorcnxLCJzv6FfUrQBhdoGeLuUUtFwpP\n",
       "SElGAMD/aI9gkx39iv4evfEjUgJF16VR4UJFb6RS58RFfT+VSuUFm+zoV4IzANoXpCwv7nfYKwmf\n",
       "mprGRKjypqZjllgSJEdeToqGsKOUpwHe4sA3oOtM3+l+GsXpBiidox5LK0uR7boHtRmgWYTSTAgm\n",
       "RSjOUZEqjFSHVceyyQL1CVbaUYys6PMADYK1GvQZ2vdo/27UXPGgloGRFqGUOExJxZNzDPJEBcbg\n",
       "rrtuux3ZfruB/MVKgAgCCZuEOdMIQZo4Bhg78Xx5UGWg5ySAPAxLNs6RgzJ2J6HLvXMz1Plfx531\n",
       "/R6/X7OfG1AF5U46tpIZ9aD0XFlBAhiGCcnGObJQxs0YG1kXSjNp+x08KJSCDkh4DjbZHkq9AGWk\n",
       "cZ3tqe0zGYApFT1ZmYDFjI06buw47UGpz16jYA3ggKF8jvSt3GxDka52WVI/OlCL8M95096xStJw\n",
       "x35wlS53ZkNurkXjFbYGMgxAsDUGRnZWrWA3ZOwItaOWB6WtQgk1gIOqouXWqyUWUSjaVYm7ZYrK\n",
       "UVRYkiOgFwhWqB4O0i01bIGGmnsMVGceJ1M7F6pwI3r4Mq8nWKhOkjVv2PAZGdhI5gMDxEI5O3y0\n",
       "q0rzIjjnjIxy/lpuH5wFA0e0JK58o9qG0YcXgCsJdpBn+WNKFZ4HS8uyNuJYGmOhTgBM7icLBI9U\n",
       "ngStrW1h2yXalUJNHv/gjFIN8GpouicHxhKUjcaR/lmq1Uff4TBdYKCieAbVCpWDeoQhYgF2nVHH\n",
       "tbCeWVOmmoTJA3im8JyuAdNeU6SrIu6UAbf2KUSL5B1N2Gbs+hZJR6QDXcBcLdnU7SsSHlRN92Wc\n",
       "z9vQiHlQZ26C5UDhrlFrni3X1tC1A15kqEYlkhWgXg3u7ZUAwnWHJJuuLEx6UNmlF3GzDlFNoHB0\n",
       "DhVsKNK1JCYW+Q4WagxagIWa8nUcTkHdL4/DfEVfZ8IgV6dI15A0dKuj4FXW1R+zNSrbfEG1KGmf\n",
       "UHiuXS3udO2Sj+BFDlS66Quqawj8Q4W5vYp0jf/Nr5l5vvEkmya53BUNkT//1Kgej+PrJ0cVB7QF\n",
       "WmZWAAAAAElFTkSuQmCC\n",
       "\" style=\"display:inline;vertical-align:middle;\" /></a>"
      ],
      "text/plain": [
       "forall_{x} [forall_{y} [forall_{z | z < (x + y)} P(x , y , z)]]"
      ]
     },
     "execution_count": 74,
     "metadata": {},
     "output_type": "execute_result"
    }
   ],
   "source": [
    "nestedForall"
   ]
  },
  {
   "cell_type": "markdown",
   "metadata": {},
   "source": [
    "We can specialize the inner instance variable $y$ to $b$:"
   ]
  },
  {
   "cell_type": "code",
   "execution_count": 75,
   "metadata": {},
   "outputs": [
    {
     "data": {
      "text/html": [
       "<span style=\"font-size:20px;\"><a class=\"ProveItLink\" href=\"__pv_it/482dc020459256bd00f80ffb36546af4670aa6240/expr.ipynb\"><img src=\"data:image/png;base64,iVBORw0KGgoAAAANSUhEUgAAAT8AAAAaBAMAAAAznkapAAAAMFBMVEX///+6urp2dnaqqqoiIiIQ\n",
       "EBBERETu7u6IiIjc3NwyMjJUVFSYmJhmZmbMzMwAAAD0pS5FAAAAAXRSTlMAQObYZgAABGdJREFU\n",
       "WMPVl11oFFcUgM/MuDu7O7OThUaQKjjaB39AWPpQghBcbMC/ChEftELpqjWoDXVVKhgILpG+GIPr\n",
       "D6FLQNenaPRhI6X1p8gigiJa01TEBynzYIVWqFHbSvxB77l3ZvfeuZPpiAp6YHbOnjl35pt7fu4d\n",
       "ALBugyzxtiWRbG9BmttseoD2KzOcLQV4TYpoexuSrLID+vP4N/EY3lVA+AJ/jApAIQBGDwIsvIHn\n",
       "K8WJr5kZAXCzB5hD5bIIQ+fLLIqAsmNU6X1x7twymkz3wtx+FwDPeoAfoTIoAqpZckoVREDZMbI8\n",
       "IVX2+f8OTwUD9qM5LwLS//2+EMuOUcV6SMryIeZ8MczNtAMBcaLSWR8MvulvPpvsGFUSD8jTnxMl\n",
       "FprHensgoDmnXD7kL4gL5XI557PJjlElPkYe9YgoH4b7rZcA4xix/zo6FvoBmzo6vrL9bUZyFOWw\n",
       "36B5ShOZh134qFFyHOg92McivW0Ukm6fm7wiSWzzJMAYep4H2OQHNByIl/yAgqMidTBbSj3Pct8G\n",
       "azkqJ0kcbfOzGAuOPR0SY2xsZ99NcprPA14n6ZA8gdpU0Ct+QKUKXVKjFhzjIl2BM9TzdIZ73ndq\n",
       "5ih93RUAKoHSHMqfvcFCSKhB/wnnkQdMHwe46LBnJ2oSTA72SjbBUQDUb5agpf6vXuneO27xauMB\n",
       "shjudR1WQ5NX1gN0pnlAOFQEbTGtsdqkggSzFxZJNsGRB9TnZvjo1wENh53/gQagm1c0Rx/DfddD\n",
       "GZEAzU/Jzy6cEb2C/X32cK/DwXRZxGtKHlZxNuZ4Z/BgA9BaupMEdA8GlfQItXfKeReQDnXbnvXc\n",
       "A1yJP0ccd9VMV+A798LHrFR4wAUlr4ph0zC5d+HHWJaDiQ9kQC+OW+38ZgEdYfia3QA0ppHC3IOv\n",
       "aZH0nGXkVzJANlSp1tsgk04yMaV9kChQxNQIfM2WeM0Gg5yuBPZBgNYcFuVJIZzaDeK4NZfI84Ct\n",
       "tPq28yHWs3CHzhPCZFI1N8RsqMVqKl7fM5E+sqC2Ab4HHaOerirPmPbXtatHIajNMECWFOPi1mo1\n",
       "XraNIm+jjskMD7gfoHstTSi8a1MJjKGhNUPH2FAG2L3lqXeXZoAdPdtm10D/kgRQ39g3zrQR818M\n",
       "39EJAE2cZavdEgAvIVAmxuclc/wb/uRy0LFK0P0NziDO9R/guDlIhyr+lTtW760K1dScp4UsdW4v\n",
       "VSuqtDmNOdMlm3Xqg3wD8N6MT7BHnCF3z4E1NhdsDxCHmnbAdsDVyPEDfJtlGhO1GAK4Y/etWRKM\n",
       "dnqzZEsoa0oNwOLk43i6SwgXkZC19hRcQDo0nfEvLoM84EJYBzxgF4QABm7vy3B6wi2/uJLcdWC3\n",
       "0Afp0JR06wFPwaxs6cu4GpMzMqDaHgq4TqlEBMQY1LWqN7RF/uQI2RAmHAFwGU3LE6GALT0QHVAT\n",
       "1ks6tPoaH01ptpKZPwcBBnwDSzZDcvnFb1Bf/TOrua1KD9A64T2QlwAcL4FFPLf2AAAAAElFTkSu\n",
       "QmCC\n",
       "\" style=\"display:inline;vertical-align:middle;\" /></a> <a class=\"ProveItLink\" href=\"__pv_it/f44e48debf1dbd1ae3bce11790dfbf8a5d25ea540/proof.ipynb\" style=\"text-decoration: none\">&#x22A2;&nbsp;</a><a class=\"ProveItLink\" href=\"__pv_it/0b61ee2e831c4d4c9144608c0669b1113d8f04da0/expr.ipynb\"><img src=\"data:image/png;base64,iVBORw0KGgoAAAANSUhEUgAAAMIAAAAXBAMAAACrPI2eAAAAMFBMVEX///8QEBC6urrMzMxUVFRm\n",
       "ZmZERETc3NwyMjKqqqp2dnaIiIiYmJgiIiLu7u4AAAAU9Wx4AAAAAXRSTlMAQObYZgAAAuhJREFU\n",
       "SMe1VU1IVFEU/ubN6Djz3jzFTT8QTRBRi2CgMAlEMckyCKmQ0I0VKIHgQJJYRFO0mEDETRC18G2i\n",
       "H0FmMYLWwgchRLWYRW4i4i1Uyk2mWdn/uT/vvXnzdKKRHtx3z7nn3vvd851z7gX++2dtfAsls65J\n",
       "iwM5JrwoYd/s76amV0km7c8fnt3mmXUSeMj6oVKO/hUo3+RffcOjVQAXqQt3lgAQ/AZEqEH1krTq\n",
       "pclABQWibLgEBHWJ1q+QEPCEUvnlmaVXQbvf33+lFJLKF4EQO/Buz3A05512Hvjc1fW6yEYXCnTH\n",
       "3coU8IHR207tUnZgXJBVcSxrigk7qsM0dA84BHS7PhYChI18BtLAQVupNxCcYcIgcWFobwLi8AS6\n",
       "LFb2jLdRdxvYCT3luu7d3nIHIuxHB4rG5cBUy6N2nqzVNAh1MZLgwyMWtooIQD/OPAFiUM21EfS2\n",
       "JO56LDfhHqfXDvAS2y1kp+NpYEWKfdxVygkzZq2JoD+I5xHILV/AWeXfT7gIlFB2ys5A+SE5bZUI\n",
       "eorVZN3QgIsglAkW1CpgtDGbEBble9bCE1kO9kmxhf2uJuT9s4oyma93RLypdTfSr3HacBG4MsG4\n",
       "C6YQtQ4HhoVFzWkNFDenHMTXQ3WRnIJqcYxlBAwuRAyEqHtG7RZPgvf5LJFSx91WGii9Bm1LeUbL\n",
       "oVay5lQWhX/EPIPL0BlxR3FKCLXTL68Lq6AwHM9DYMrcWZ5BDYL9I+lr6XQmkCjrlAhzvZ9s5vcC\n",
       "848XRk3o2ym3Zsel0Kp9ZDQzFI35tA8HXASuzJ1jPlCKBKuC0lKJmIldhSUTSDr1kiwU2K0h49ay\n",
       "p9NBkEpfM03IoT6aikpLjNXPc98b4BSl5hMQtT1Vlc1JB8FWagjiLeYnO8akRemgzU74LpahIgjv\n",
       "fNeZR6tJYNJnSfkQ+mwh4xPQXByBvnlbCNm3h//JDK//iqqJvyJEzIKB0AYfdf/6pwX62L9u+Qek\n",
       "z7AzFtxpxQAAAABJRU5ErkJggg==\n",
       "\" style=\"display:inline;vertical-align:middle;\" /></a></span>"
      ],
      "text/plain": [
       "{forall_{x} [forall_{y} [forall_{z | z < (x + y)} P(x , y , z)]]} |- forall_{z | z < (x + b)} P(x , b , z)"
      ]
     },
     "execution_count": 75,
     "metadata": {},
     "output_type": "execute_result"
    }
   ],
   "source": [
    "nestedForall.specialize({y:b}, assumptions=[nestedForall])"
   ]
  },
  {
   "cell_type": "markdown",
   "metadata": {},
   "source": [
    "But we cannot simultaneously specialize $y$ to $b$ *and also* relabel $y$ with $a$:"
   ]
  },
  {
   "cell_type": "code",
   "execution_count": 76,
   "metadata": {},
   "outputs": [
    {
     "name": "stdout",
     "output_type": "stream",
     "text": [
      "EXPECTED ERROR: Proof step failed assuming {forall_{x} [forall_{y} [forall_{z | z < (x + y)} P(x , y , z)]]}: Attempting to specialize and relabel the same variable: y when specializing forall_{x} [forall_{y} [forall_{z | z < (x + y)} P(x , y , z)]] with {y: b, x: x} and {y: a}\n"
     ]
    }
   ],
   "source": [
    "try:\n",
    "    nestedForall.specialize({y:b}, {y:a}, assumptions=[nestedForall])\n",
    "    assert False, \"Expecting a SpecializationFailure error; should not make it to this point\"\n",
    "except SpecializationFailure as e:\n",
    "    print(\"EXPECTED ERROR:\", e)"
   ]
  },
  {
   "cell_type": "markdown",
   "metadata": {},
   "source": [
    "As noted in the previous tutorial chapter (tutorial04_relabeling), relabeling has another important limitation.  You cannot relabel something using assumptions that involve any of the relabeling variables.  For example, we cannot relabel $P$ to $R$ in `nestedForall` while assuming `nestedForall`. (Would be nice to elaborate on this briefly.)"
   ]
  },
  {
   "cell_type": "code",
   "execution_count": 77,
   "metadata": {},
   "outputs": [
    {
     "name": "stdout",
     "output_type": "stream",
     "text": [
      "EXPECTED ERROR: Proof step failed assuming {forall_{x} [forall_{y} [forall_{z | z < (x + y)} P(x , y , z)]]}: Attempting to relabel variable(s) that are free in the assumptions: {P} when relabeling forall_{x} [forall_{y} [forall_{z | z < (x + y)} P(x , y , z)]]\n"
     ]
    }
   ],
   "source": [
    "from proveit import RelabelingFailure\n",
    "try:\n",
    "    nestedForall.specialize({y:y}, {P:R}, assumptions=[nestedForall])\n",
    "    assert False, \"Expecting an RelabelingFailure error; should not make it to this point\"\n",
    "except RelabelingFailure as e:\n",
    "    print(\"EXPECTED ERROR:\", e)"
   ]
  },
  {
   "cell_type": "markdown",
   "metadata": {},
   "source": [
    "### Universal quantification over multiple variables\n",
    "\n",
    "Rather than nesting `Forall` operations, you can quantify over multiple instance variables for a more succinct expression. For example, instead of writing $\\forall_{x\\,\\in\\ S} [\\forall_{y\\,\\in\\, S} P(x, y)]$, you could write $\\forall_{x, y\\,\\in\\, S} P(x, y)$, constructed like this:"
   ]
  },
  {
   "cell_type": "code",
   "execution_count": 78,
   "metadata": {},
   "outputs": [
    {
     "data": {
      "text/html": [
       "<strong id=\"multiVarForall\">multiVarForall:</strong> <a class=\"ProveItLink\" href=\"__pv_it/922477d3bdbec3e97dd5abd212249d554f90c2bd0/expr.ipynb\"><img src=\"data:image/png;base64,iVBORw0KGgoAAAANSUhEUgAAAIMAAAAWBAMAAAARGDKlAAAAMFBMVEX///8QEBC6urrMzMxUVFRm\n",
       "ZmZERETc3NwyMjKqqqp2dnaIiIiYmJgiIiLu7u4AAAAU9Wx4AAAAAXRSTlMAQObYZgAAAmdJREFU\n",
       "OMulVE1o1FAQ/nazm+xusq/BHkRF2YNQQaQt2INCqVRpwSJdxarQg9VDevBgDmIFUXPxJrKgnjw0\n",
       "l1LcYllQF2SLDV4ERdyzpwjSg4JdaKlixTqTn9Y1IVAMvGTezLx58818E+D/H3c7zgcjmte0miy8\n",
       "Szqnjq6eODXMknQsYsz2AE9YuJ94d4cFXDJJyMWkTLbr9FEmEkMM2MA0LTRijG/9yNlKYojFEvCh\n",
       "TMK+GOMnQJudmrqVXMSrtEbplrQVY5TJsGYYH5ND/ADEGpeOwChzw4/HPa2YsXHHRYHSOw5Mxh3s\n",
       "qy70eIL0E+hnHDkH+IL3zl5PXUi3sAjkKbX9EHEJpsvoDpq6Wp2ZZSFFNbHp2ANPfSTbhEF+OlCE\n",
       "6rSfFi/GHFJDDtD+DptbYiYOhZxM1bBOObboEqf4T7vrXd9cLLvQgpPNv0IAe0K3aVda8UMI6zDt\n",
       "5wafE/J0HSlXY9wo7i6FtCgHQop7r6xA+NsLUHUfCCYHqTbuEDt87TB7kfPRnN6obNHCR0SA36gt\n",
       "vPKD3IVMhNe4kI8o0TTusfb2IdRxNDhxTQ9oEeKk/uV/ybpSwzJjO4tux1NSfjW2f/e8TmIE/YZh\n",
       "1EQJouVlc25jJGxSE+LKfHWBKMneS42LNDg5zlHjWyRdYq8d6MRnFvIVSJHJ2bkpdXnvpz7Bg5IV\n",
       "rAJumOgkvmR4KLMTkM2YkQoeQpBpil3ch1C19HJ8HgMOHtYtiMscom/sfIRuW8NOIYq2bCNCS0cx\n",
       "M1SYAtUidliU8JejMtTGGXpn2lOVTNk+kDhwNyOaZ+1bjSLb2//7/gGtw5MDe9k1IQAAAABJRU5E\n",
       "rkJggg==\n",
       "\" style=\"display:inline;vertical-align:middle;\" /></a><br>"
      ],
      "text/plain": [
       "multiVarForall: forall_{x, y in S} P(x , y)"
      ]
     },
     "execution_count": 78,
     "metadata": {},
     "output_type": "execute_result"
    }
   ],
   "source": [
    "multiVarForall = Forall((x, y), Pxy, domain=S)"
   ]
  },
  {
   "cell_type": "markdown",
   "metadata": {},
   "source": [
    "Specialization is still achieved in the same way. Here, for example, we assume the `Forall` expression along with specific $x$ and $y$ values in set $S$:"
   ]
  },
  {
   "cell_type": "code",
   "execution_count": 79,
   "metadata": {},
   "outputs": [
    {
     "data": {
      "text/html": [
       "<strong id=\"multiVarForallSpec\">multiVarForallSpec:</strong> <span style=\"font-size:20px;\"><a class=\"ProveItLink\" href=\"__pv_it/fe5169a7b8c27f75e8dfe153ce6efe0841dbda170/expr.ipynb\"><img src=\"data:image/png;base64,iVBORw0KGgoAAAANSUhEUgAAAREAAAAWBAMAAAAVyLWxAAAAMFBMVEX///9ERETc3NyqqqpUVFS6\n",
       "urrMzMwyMjIQEBCIiIh2dnYiIiLu7u5mZmaYmJgAAABJJ2g3AAAAAXRSTlMAQObYZgAABBRJREFU\n",
       "SMfFVl1oHFUU/nZ2ZvYndze7rVJTxW5joSiFFhQlD9K0BLUVJPhiS5GsVbBvCYJP/SFYKkgLWSGo\n",
       "DaYZEdHEFlZQtF2VzUNpTVuqaFNMm7pIbcFWjKmtWNPEc+6du7szs5koCh2YmTP3u+fe7373nHMH\n",
       "QPoCbvNlj+T4JY5A/Bs3q+BvSXf+Zyq7+ZmYQpMcrxDWt3+uo+NjyfyFIDgePs/FyfM/LQCeZTPZ\n",
       "i+QaesfKocP9AUReYWNHEIuFesYqGJ1aAPzAZWJk6L08XL+bQPQmS9hAurQT5rqRPHsWADUTuc5v\n",
       "Q5kkrtOEt8iIN5BO9Abbvtpe+lQaxg1ah4++eLNU6qkHq0x+bm1tLYYyiZCE5jUynmmELg5quEsz\n",
       "tsjLznvRF6/6wCqT5mz27lCF0UxLOM2bOEH3A/33DapVjk3AmAEO6W7G8Pq279lYXpXOmHtDK3HI\n",
       "wWpuN+7xg5JJiuYw84jkGkXHxPAlZXU7sL9gYxeN6KS/jCsJnS7OPTyiHcZwpbKXjUW1QYbmflNj\n",
       "J60pDEmBc37wV7a3UTWw2nGskRLPwnKjfmjjyIT030Mj0uxRqbe95hwipNQm7eDQVA/z8jO1QYyL\n",
       "ffuk8XyqiCwbowEw9jWVh1e5oYgD/oibvMDNcIdcptWmyBUw3VaB19BM+9StvcpYp/Z/b6nkRiyL\n",
       "MavAeAF/srGJwFKPB1xSoWZe3QF87suVO1edhKAQqKjvv1BjQgmkcyE6g+58HRMQNSlWe7WBBhCK\n",
       "CdaW7Rve4qjBJo5Sk8kdY9dk/+bHyN6cwT78Ijt+9p4OmFvaV9bl1XkojSjI3kLd7nBa8tkhqpko\n",
       "SHdjWtlnkZD5fiIAyjhJslNkBUXLQTND84jCtN0Lpd2pvmu1cqKue6mu5IaQKEsutL930Ouy3Cm6\n",
       "fqT4fZuNp3R/rlupdoXuRERqZVa8YF0WI3qOHp0x7mEcLSYytpvTxhNuOZnRI1PCrq3chfsheMNS\n",
       "7dasasRpWlF0NtJryJ07oU/F1GHgdYXiO3RJDuITL1jPRG1vs8wO0zEL9kfZbAuO0ghKm2W/68jY\n",
       "QqE/MDZcgeij3qJlkMV9me7j0/x5cESFvrHTLWam1bGuolCM7v9B5e/KcQ/oYSKL3jawe7wznhdS\n",
       "xQeB5/yJHa/WAiunN1dV+6c9/aKP13Knhn7ofj20veQ5iuqYcFROvQ/HeAnxfBewnlu+8VQo/2mX\n",
       "pvtJHKdzPFlw8yDkItQsit3zoJJJWjMRLY8OlO1ZRDcsISF5n8cnJ4OVd0c9kyNYypmHf8SkyYnM\n",
       "d6TI/xNx2LtmtGIDvd+hOGl4rdAGC9E2yIylgInws5w3bP+Z+f459qi5361v3IqlVk/YmEbgByWR\n",
       "/3/+YwMqtg3clt/qvwGuxSOcIOHhUgAAAABJRU5ErkJggg==\n",
       "\" style=\"display:inline;vertical-align:middle;\" /></a> <a class=\"ProveItLink\" href=\"__pv_it/b07aa9b652626a9f34810c2e6b322da0c102c7a20/proof.ipynb\" style=\"text-decoration: none\">&#x22A2;&nbsp;</a><a class=\"ProveItLink\" href=\"../packages/proveit/__pv_it/e0e45b9393452be20ed9dd804d04d86a2899b1ba0/expr.ipynb\"><img src=\"data:image/png;base64,iVBORw0KGgoAAAANSUhEUgAAAEIAAAAVBAMAAAAA8SWUAAAAMFBMVEX////u7u5mZmaYmJi6urqq\n",
       "qqp2dnbMzMwQEBBEREQyMjLc3NwiIiJUVFSIiIgAAAAeC3ydAAAAAXRSTlMAQObYZgAAAWhJREFU\n",
       "KM+VUjtPwlAYPaWF0hJK40DURSZcHJgcnBydlNlBGwdH039QnUmUReOiMPgDWHREgombCZOLkhAG\n",
       "44IIPgYf0XOvNzxSFm9yv3v63XPP9yrwr7Ua8ujLwnZ+ms2bCoHZCD+al/YDsAo8bTfMsIUx34Eo\n",
       "N54mBNY9GueVoE+wN4Gh7dJYz0DyDTDKk7I/5E7xZq4IRITgRee83ZJX6SwSPWCLMPBg1kVSOYp6\n",
       "+lW8JhneGhyqrxN2b7ezotg4a4/RG/Vl/vkFWFReIS6pIlNkaEgWVYrYR4rxAuIvDBlUaqnPaA+B\n",
       "LxlmX7nieWEvffxpRsp4hIwi2iGXxUz1SheOKzl2Bic8lnjRU4xYBtjMHaMKTQSONIwXiGqnSt8q\n",
       "ssEqZx7SOzloB6xNO21/0ns22r7CABkVKVpTXR+sxeG8uO8xzdRjrbFJu6OMaxzRzo4NKTH4g8TD\n",
       "jbboz934HKuhyTo+fgFmwVFLOVAG8QAAAABJRU5ErkJggg==\n",
       "\" style=\"display:inline;vertical-align:middle;\" /></a></span><br>"
      ],
      "text/plain": [
       "multiVarForallSpec: {forall_{x, y in S} P(x , y) , x in S , y in S} |- P(x , y)"
      ]
     },
     "execution_count": 79,
     "metadata": {},
     "output_type": "execute_result"
    }
   ],
   "source": [
    "assumptions = [multiVarForall, InSet(x, S), InSet(y, S)]\n",
    "multiVarForallSpec = multiVarForall.specialize(assumptions=assumptions)"
   ]
  },
  {
   "cell_type": "markdown",
   "metadata": {},
   "source": [
    "We can see how **ProveIt** conceptualizes that specialization by calling its `proof()` method:"
   ]
  },
  {
   "cell_type": "code",
   "execution_count": 80,
   "metadata": {},
   "outputs": [
    {
     "data": {
      "text/html": [
       "<table><tr><th>&nbsp;</th><th>step type</th><th>requirements</th><th>statement</th></tr>\n",
       "<tr><td>0</td><td>specialization</td><td>1, 2, 3</td><td><span style=\"font-size:20px;\"><a class=\"ProveItLink\" href=\"__pv_it/fe5169a7b8c27f75e8dfe153ce6efe0841dbda170/expr.ipynb\"><img src=\"data:image/png;base64,iVBORw0KGgoAAAANSUhEUgAAAREAAAAWBAMAAAAVyLWxAAAAMFBMVEX///9ERETc3NyqqqpUVFS6\n",
       "urrMzMwyMjIQEBCIiIh2dnYiIiLu7u5mZmaYmJgAAABJJ2g3AAAAAXRSTlMAQObYZgAABBRJREFU\n",
       "SMfFVl1oHFUU/nZ2ZvYndze7rVJTxW5joSiFFhQlD9K0BLUVJPhiS5GsVbBvCYJP/SFYKkgLWSGo\n",
       "DaYZEdHEFlZQtF2VzUNpTVuqaFNMm7pIbcFWjKmtWNPEc+6du7szs5koCh2YmTP3u+fe7373nHMH\n",
       "QPoCbvNlj+T4JY5A/Bs3q+BvSXf+Zyq7+ZmYQpMcrxDWt3+uo+NjyfyFIDgePs/FyfM/LQCeZTPZ\n",
       "i+QaesfKocP9AUReYWNHEIuFesYqGJ1aAPzAZWJk6L08XL+bQPQmS9hAurQT5rqRPHsWADUTuc5v\n",
       "Q5kkrtOEt8iIN5BO9Abbvtpe+lQaxg1ah4++eLNU6qkHq0x+bm1tLYYyiZCE5jUynmmELg5quEsz\n",
       "tsjLznvRF6/6wCqT5mz27lCF0UxLOM2bOEH3A/33DapVjk3AmAEO6W7G8Pq279lYXpXOmHtDK3HI\n",
       "wWpuN+7xg5JJiuYw84jkGkXHxPAlZXU7sL9gYxeN6KS/jCsJnS7OPTyiHcZwpbKXjUW1QYbmflNj\n",
       "J60pDEmBc37wV7a3UTWw2nGskRLPwnKjfmjjyIT030Mj0uxRqbe95hwipNQm7eDQVA/z8jO1QYyL\n",
       "ffuk8XyqiCwbowEw9jWVh1e5oYgD/oibvMDNcIdcptWmyBUw3VaB19BM+9StvcpYp/Z/b6nkRiyL\n",
       "MavAeAF/srGJwFKPB1xSoWZe3QF87suVO1edhKAQqKjvv1BjQgmkcyE6g+58HRMQNSlWe7WBBhCK\n",
       "CdaW7Rve4qjBJo5Sk8kdY9dk/+bHyN6cwT78Ijt+9p4OmFvaV9bl1XkojSjI3kLd7nBa8tkhqpko\n",
       "SHdjWtlnkZD5fiIAyjhJslNkBUXLQTND84jCtN0Lpd2pvmu1cqKue6mu5IaQKEsutL930Ouy3Cm6\n",
       "fqT4fZuNp3R/rlupdoXuRERqZVa8YF0WI3qOHp0x7mEcLSYytpvTxhNuOZnRI1PCrq3chfsheMNS\n",
       "7dasasRpWlF0NtJryJ07oU/F1GHgdYXiO3RJDuITL1jPRG1vs8wO0zEL9kfZbAuO0ghKm2W/68jY\n",
       "QqE/MDZcgeij3qJlkMV9me7j0/x5cESFvrHTLWam1bGuolCM7v9B5e/KcQ/oYSKL3jawe7wznhdS\n",
       "xQeB5/yJHa/WAiunN1dV+6c9/aKP13Knhn7ofj20veQ5iuqYcFROvQ/HeAnxfBewnlu+8VQo/2mX\n",
       "pvtJHKdzPFlw8yDkItQsit3zoJJJWjMRLY8OlO1ZRDcsISF5n8cnJ4OVd0c9kyNYypmHf8SkyYnM\n",
       "d6TI/xNx2LtmtGIDvd+hOGl4rdAGC9E2yIylgInws5w3bP+Z+f459qi5361v3IqlVk/YmEbgByWR\n",
       "/3/+YwMqtg3clt/qvwGuxSOcIOHhUgAAAABJRU5ErkJggg==\n",
       "\" style=\"display:inline;vertical-align:middle;\" /></a> <a class=\"ProveItLink\" href=\"__pv_it/b07aa9b652626a9f34810c2e6b322da0c102c7a20/proof.ipynb\" style=\"text-decoration: none\">&#x22A2;&nbsp;</a><a class=\"ProveItLink\" href=\"../packages/proveit/__pv_it/e0e45b9393452be20ed9dd804d04d86a2899b1ba0/expr.ipynb\"><img src=\"data:image/png;base64,iVBORw0KGgoAAAANSUhEUgAAAEIAAAAVBAMAAAAA8SWUAAAAMFBMVEX////u7u5mZmaYmJi6urqq\n",
       "qqp2dnbMzMwQEBBEREQyMjLc3NwiIiJUVFSIiIgAAAAeC3ydAAAAAXRSTlMAQObYZgAAAWhJREFU\n",
       "KM+VUjtPwlAYPaWF0hJK40DURSZcHJgcnBydlNlBGwdH039QnUmUReOiMPgDWHREgombCZOLkhAG\n",
       "44IIPgYf0XOvNzxSFm9yv3v63XPP9yrwr7Ua8ujLwnZ+ms2bCoHZCD+al/YDsAo8bTfMsIUx34Eo\n",
       "N54mBNY9GueVoE+wN4Gh7dJYz0DyDTDKk7I/5E7xZq4IRITgRee83ZJX6SwSPWCLMPBg1kVSOYp6\n",
       "+lW8JhneGhyqrxN2b7ezotg4a4/RG/Vl/vkFWFReIS6pIlNkaEgWVYrYR4rxAuIvDBlUaqnPaA+B\n",
       "LxlmX7nieWEvffxpRsp4hIwi2iGXxUz1SheOKzl2Bic8lnjRU4xYBtjMHaMKTQSONIwXiGqnSt8q\n",
       "ssEqZx7SOzloB6xNO21/0ns22r7CABkVKVpTXR+sxeG8uO8xzdRjrbFJu6OMaxzRzo4NKTH4g8TD\n",
       "jbboz934HKuhyTo+fgFmwVFLOVAG8QAAAABJRU5ErkJggg==\n",
       "\" style=\"display:inline;vertical-align:middle;\" /></a></span></td></tr>\n",
       "<tr><td>&nbsp;</td><td colspan=4 style=\"text-align:left\"><span style=\"font-size:20px;\"><a class=\"ProveItLink\" href=\"../packages/proveit/__pv_it/530be409e3083890784cf1d7b28c9e67e90af9360/expr.ipynb\"><img src=\"data:image/png;base64,iVBORw0KGgoAAAANSUhEUgAAAAsAAAAJBAMAAAAWSsseAAAAKlBMVEX///9ERETMzMwQEBAiIiKY\n",
       "mJju7u5mZmaqqqpUVFSIiIh2dnbc3NwAAAA/vyDhAAAAAXRSTlMAQObYZgAAAENJREFUCNdjYDi9\n",
       "8sTyBQxsG1hdmR0YuBm4LnAoMLAxcAowgADzAjB1VoEhgYH1wFoGrgSG3gBhhlMMDImrs3cFMAAA\n",
       "t0YN+iTRa+sAAAAASUVORK5CYII=\n",
       "\" style=\"display:inline;vertical-align:middle;\" /></a> : <a class=\"ProveItLink\" href=\"../packages/proveit/__pv_it/530be409e3083890784cf1d7b28c9e67e90af9360/expr.ipynb\"><img src=\"data:image/png;base64,iVBORw0KGgoAAAANSUhEUgAAAAsAAAAJBAMAAAAWSsseAAAAKlBMVEX///9ERETMzMwQEBAiIiKY\n",
       "mJju7u5mZmaqqqpUVFSIiIh2dnbc3NwAAAA/vyDhAAAAAXRSTlMAQObYZgAAAENJREFUCNdjYDi9\n",
       "8sTyBQxsG1hdmR0YuBm4LnAoMLAxcAowgADzAjB1VoEhgYH1wFoGrgSG3gBhhlMMDImrs3cFMAAA\n",
       "t0YN+iTRa+sAAAAASUVORK5CYII=\n",
       "\" style=\"display:inline;vertical-align:middle;\" /></a>, <a class=\"ProveItLink\" href=\"../packages/proveit/__pv_it/f8b9edf8e16034727f0aad55bb83e392c3db40d40/expr.ipynb\"><img src=\"data:image/png;base64,iVBORw0KGgoAAAANSUhEUgAAAAsAAAANBAMAAACN24kIAAAAMFBMVEX///+YmJhUVFQyMjIQEBBE\n",
       "REQiIiKqqqrMzMyIiIi6urrc3NxmZmZ2dnbu7u4AAADXeCicAAAAAXRSTlMAQObYZgAAAFhJREFU\n",
       "CNdj4LtzgWH/AwZerg8M8xkY2nkSGEIZGB6wTGD4ycDAUP+A4weQOszA6QCkbBhYFYDUIYb1AkDq\n",
       "6czzGxhA4BoQMyXwuQMptgusF4AU+8xTQBIAUqMVoSp/SLMAAAAASUVORK5CYII=\n",
       "\" style=\"display:inline;vertical-align:middle;\" /></a> : <a class=\"ProveItLink\" href=\"../packages/proveit/__pv_it/f8b9edf8e16034727f0aad55bb83e392c3db40d40/expr.ipynb\"><img src=\"data:image/png;base64,iVBORw0KGgoAAAANSUhEUgAAAAsAAAANBAMAAACN24kIAAAAMFBMVEX///+YmJhUVFQyMjIQEBBE\n",
       "REQiIiKqqqrMzMyIiIi6urrc3NxmZmZ2dnbu7u4AAADXeCicAAAAAXRSTlMAQObYZgAAAFhJREFU\n",
       "CNdj4LtzgWH/AwZerg8M8xkY2nkSGEIZGB6wTGD4ycDAUP+A4weQOszA6QCkbBhYFYDUIYb1AkDq\n",
       "6czzGxhA4BoQMyXwuQMptgusF4AU+8xTQBIAUqMVoSp/SLMAAAAASUVORK5CYII=\n",
       "\" style=\"display:inline;vertical-align:middle;\" /></a></span></td></tr><tr><td>1</td><td>assumption</td><td></td><td><span style=\"font-size:20px;\"><a class=\"ProveItLink\" href=\"__pv_it/be94a5512d24b8bc68d23f6864972f9dfc6af9200/expr.ipynb\"><img src=\"data:image/png;base64,iVBORw0KGgoAAAANSUhEUgAAAJcAAAAWBAMAAAA/XRM3AAAAMFBMVEX///9ERETc3NyqqqpUVFS6\n",
       "urrMzMwyMjIQEBCIiIh2dnYiIiLu7u5mZmaYmJgAAABJJ2g3AAAAAXRSTlMAQObYZgAAArZJREFU\n",
       "OMulVU1oE0EU/pJstkk6zY8/1FawMfaiCBY8SA9ikCJWL7lpEekqHrylCN6KBKWCIDSHHqTQdkVE\n",
       "WxQqeNCiEg+lWhQVoUJKSk4KohhaRahp9b2ZbLpJlgV1YGfevJ393nvffDMLILyE/2/6VJwHMQPx\n",
       "N5/5s/WecIrRrrAZLKFZurJuECO/e3oeyuDnGl8ucPeBu1AGoS4am3KuCf0EPJfZGGx818Td3QqY\n",
       "N0rjTndOVgHfKhfiUEDYtIHJaO9dwYI/6Js1MgIOBYiMHexzIpGYdgXzlABthYwTTm8328Eisdh2\n",
       "0xUsMgC8YTby9OwZ2TWmqp3Pw1sG7ltgLbRMM+CJOzGVn/yorLQJ/Skbl6gqM/wsoAox+1kNOEDm\n",
       "N56fJ5X4k5hzyuc0/CVlTRybystwQ1QLAfgMGaxrER7K9yRv6VuSzVX2TmO8DudlYYndiKpph8U7\n",
       "bYSAVvEKXEOECk7zpLVIqBxjHE/qdm/r3lcQREdRzX9hA4y21NKHr4y0ocCamXSNOMOcnqT0R/qO\n",
       "kN0XxXV8lWsf3bbIW7PA5KnZZ0BlSoTfgCpTchZiKj2dxNw9LUpLRXZZz2BArn09vLIhM9V2kN7i\n",
       "EwjmJBwRtYWGT3ZpwLdIXaqJa/LOTgejekUo3qMVmZUtMFLBoeI27IbgyluS/nXYpCHBiEgWk9wv\n",
       "zdSy+oNYrA2zpC2VYcd3i6VTwPPR+ckixDCtFm1jy+S8WAv2RaoEvBmBVMAQSZ7vB87UqyVQ1aM/\n",
       "brFUe5wUyaU7ML0XEDD6gcPseQdscjzUyqLnOF7QjRPKWmBhC0y0HRzN6evw9bZSKXzhLRQKjedi\n",
       "0A42g3bWQvU+E49rIyOBXhpvEmeOrdMyOJ3uMQ7KZehD6vNb9rVn0e4fcDvy3oYLLWhU/wF1rYju\n",
       "0X/9q/wBC4moCzz5digAAAAASUVORK5CYII=\n",
       "\" style=\"display:inline;vertical-align:middle;\" /></a> <a class=\"ProveItLink\" href=\"__pv_it/d416afd4577e8efc0aefba1794d6dfe7e7d479b30/proof.ipynb\" style=\"text-decoration: none\">&#x22A2;&nbsp;</a><a class=\"ProveItLink\" href=\"__pv_it/922477d3bdbec3e97dd5abd212249d554f90c2bd0/expr.ipynb\"><img src=\"data:image/png;base64,iVBORw0KGgoAAAANSUhEUgAAAIMAAAAWBAMAAAARGDKlAAAAMFBMVEX///8QEBC6urrMzMxUVFRm\n",
       "ZmZERETc3NwyMjKqqqp2dnaIiIiYmJgiIiLu7u4AAAAU9Wx4AAAAAXRSTlMAQObYZgAAAmdJREFU\n",
       "OMulVE1o1FAQ/nazm+xusq/BHkRF2YNQQaQt2INCqVRpwSJdxarQg9VDevBgDmIFUXPxJrKgnjw0\n",
       "l1LcYllQF2SLDV4ERdyzpwjSg4JdaKlixTqTn9Y1IVAMvGTezLx58818E+D/H3c7zgcjmte0miy8\n",
       "Szqnjq6eODXMknQsYsz2AE9YuJ94d4cFXDJJyMWkTLbr9FEmEkMM2MA0LTRijG/9yNlKYojFEvCh\n",
       "TMK+GOMnQJudmrqVXMSrtEbplrQVY5TJsGYYH5ND/ADEGpeOwChzw4/HPa2YsXHHRYHSOw5Mxh3s\n",
       "qy70eIL0E+hnHDkH+IL3zl5PXUi3sAjkKbX9EHEJpsvoDpq6Wp2ZZSFFNbHp2ANPfSTbhEF+OlCE\n",
       "6rSfFi/GHFJDDtD+DptbYiYOhZxM1bBOObboEqf4T7vrXd9cLLvQgpPNv0IAe0K3aVda8UMI6zDt\n",
       "5wafE/J0HSlXY9wo7i6FtCgHQop7r6xA+NsLUHUfCCYHqTbuEDt87TB7kfPRnN6obNHCR0SA36gt\n",
       "vPKD3IVMhNe4kI8o0TTusfb2IdRxNDhxTQ9oEeKk/uV/ybpSwzJjO4tux1NSfjW2f/e8TmIE/YZh\n",
       "1EQJouVlc25jJGxSE+LKfHWBKMneS42LNDg5zlHjWyRdYq8d6MRnFvIVSJHJ2bkpdXnvpz7Bg5IV\n",
       "rAJumOgkvmR4KLMTkM2YkQoeQpBpil3ch1C19HJ8HgMOHtYtiMscom/sfIRuW8NOIYq2bCNCS0cx\n",
       "M1SYAtUidliU8JejMtTGGXpn2lOVTNk+kDhwNyOaZ+1bjSLb2//7/gGtw5MDe9k1IQAAAABJRU5E\n",
       "rkJggg==\n",
       "\" style=\"display:inline;vertical-align:middle;\" /></a></span></td></tr>\n",
       "<tr><td>2</td><td>assumption</td><td></td><td><span style=\"font-size:20px;\"><a class=\"ProveItLink\" href=\"__pv_it/99f29ad2cfa2aa35db8f5c4e30883916a5719d960/expr.ipynb\"><img src=\"data:image/png;base64,iVBORw0KGgoAAAANSUhEUgAAAEUAAAAVBAMAAADiLT7tAAAAMFBMVEX///9ERETc3NyqqqpUVFS6\n",
       "urrMzMwyMjIQEBCIiIh2dnYiIiLu7u5mZmaYmJgAAABJJ2g3AAAAAXRSTlMAQObYZgAAAS5JREFU\n",
       "KM9jYGDgu8eAE7CtUgBRPLsY8AC2ZhDJ+QGH9JO7d54yMFwHMbkasCthf8BwEKh9BT41XgwMzAVY\n",
       "1fBM3727AMRg+gZ0zASsatLfQBmsn4FqEpDUMK10srwJ1i0DU8z0fxqYBqvhBRp9iuH1g24Qh1EB\n",
       "buL8/x9BnPcgdkYAA8MChvkMZiDOQYStTE/6e0Deu8DAkNIGZBxgcIRIROzeDXUzyBX/QKT4A6Bw\n",
       "AojVCRFOgRsDlOEBqeFeACRYCiA+5QHJnIaHAdAKpk8w93BtYGB4BIyQOSAOywOoGlDw8TowIPzO\n",
       "/I+xgWkCWPtWqBrenQwMExmQ1PBIrlk1DyKnfg1Cs7C6OD5AVoMMTKrh/mLApQYdgNXw4VcDTj88\n",
       "O/Gmw1YwxbeYQHoGAFY/Uyol8OnkAAAAAElFTkSuQmCC\n",
       "\" style=\"display:inline;vertical-align:middle;\" /></a> <a class=\"ProveItLink\" href=\"__pv_it/30cdef8b38e61bf13828c7ce4c78cf6d4928a2650/proof.ipynb\" style=\"text-decoration: none\">&#x22A2;&nbsp;</a><a class=\"ProveItLink\" href=\"__pv_it/1a5edcc057c65f4f25007410b60206f5c08ed0560/expr.ipynb\"><img src=\"data:image/png;base64,iVBORw0KGgoAAAANSUhEUgAAADMAAAAPBAMAAAC7N+rPAAAAMFBMVEX///+6uroyMjJERETMzMwQ\n",
       "EBAiIiKYmJju7u5mZmaqqqpUVFSIiIh2dnbc3NwAAAAWgogoAAAAAXRSTlMAQObYZgAAAM1JREFU\n",
       "GNNjYMAG2HfObBfAKsOgzsBhj12G+wIDwyIUkR61tCQw470DA4MPsgyLegOUJb+AgcEFSL89/erk\n",
       "AZDAY5gMw/s/DiCK4wJ7OmsCiGUH18/z/z+Iw8vA84ELpIjDAGH2861fgUZwMHBDxBjD0tKgzgCC\n",
       "+wUgkvUAxBUb4B4G4v4CqFNBDuBIgEl1ggQfAJU8OM/AA3bbdpgUyLezgXh9gSnDG7BIGyzUph1g\n",
       "4AHZ33y29w7YXAY+TQeI1Abp3eZoQce1CeFCIAAAnqEy768c/WoAAAAASUVORK5CYII=\n",
       "\" style=\"display:inline;vertical-align:middle;\" /></a></span></td></tr>\n",
       "<tr><td>3</td><td>assumption</td><td></td><td><span style=\"font-size:20px;\"><a class=\"ProveItLink\" href=\"__pv_it/69e41f20c0489c9eb8f63a5b5fc4447a8e1835e80/expr.ipynb\"><img src=\"data:image/png;base64,iVBORw0KGgoAAAANSUhEUgAAAEUAAAAVBAMAAADiLT7tAAAAMFBMVEX///9ERETc3NyqqqpUVFS6\n",
       "urrMzMwyMjIQEBCIiIh2dnYiIiLu7u5mZmaYmJgAAABJJ2g3AAAAAXRSTlMAQObYZgAAAUZJREFU\n",
       "KM9jYGDgu8eAE7CtUgBRPLsY8AC2ZhDJ+QGH9JO7d54yMFwHMbkasCthf8BwEKh9BT41XgwMzAVY\n",
       "1Zys3r0dzGD6BnTMBGxq2OoOQFmsn4G8BCQ1PGsXMOiDZBVhShiY/k8D02A1vEBLuVg/MMwHcYQQ\n",
       "Rs7//xEUNu9B7IwABoZk3g0MgqCwEkCoYXrS3wPy3gUGhpQ2IOMAxwSGnyBHdO/eDXUzyBX/QKT4\n",
       "AwaGCKDDGOwPsH0DOdkBbgxQhgekhnsBkGABugcYmpwg7/FsgCnhAVrB9AnmHi6QeC0DI9gIP5ga\n",
       "UPDxOjAgh88VhvgHIM7pAKga3p0MDBMZUNQcnHkfnAiYahMgalhYXRwfoKphYFgNtcMd4S8GFDUs\n",
       "G3iacaQQsBq+BpAHGRfgUANOPzxA1zHPvIorHbaCKb7FBNIzAPpmV0hGw9O0AAAAAElFTkSuQmCC\n",
       "\" style=\"display:inline;vertical-align:middle;\" /></a> <a class=\"ProveItLink\" href=\"__pv_it/774b76540b5622cef10ed7be5a6dde94fe3862d40/proof.ipynb\" style=\"text-decoration: none\">&#x22A2;&nbsp;</a><a class=\"ProveItLink\" href=\"__pv_it/1023ee2e650e711a947cf3bc458aeb5945a2f53c0/expr.ipynb\"><img src=\"data:image/png;base64,iVBORw0KGgoAAAANSUhEUgAAADIAAAASBAMAAADrvZC0AAAAMFBMVEX///+YmJhUVFQyMjIQEBBE\n",
       "REQiIiKqqqrMzMyIiIi6urrc3NxmZmZ2dnbu7u4AAADXeCicAAAAAXRSTlMAQObYZgAAAOVJREFU\n",
       "GNNjYMAGhM6ck8IqwSzA8PQDVhldBgZ2AyT+S7O0ZDCD+wcDA8cEhASH4QMoi+s7kNfAwHfnAsN+\n",
       "kNhWmAQD9/8ZIIqX6wPDfBAjGqF9/v+vGxgY2nkSGEKBPL4AhAy3kL8fA8MDlgkMP0GGu6WlQV0A\n",
       "MukjkKh/wPED5AAFuBYBoAkgmcMMnA4g0xJgEnwHgOb9BjJsGFjByhVhMiBP8oCEDjGsFwAJPFsA\n",
       "leHJZGCYCmI8nXl+A9hBNg0QGSYuJVUBCPMa1BRlhNvAKhL43LEGKwPbBdYL2GXYZ57CLgEAmWsz\n",
       "Uj3ZETAAAAAASUVORK5CYII=\n",
       "\" style=\"display:inline;vertical-align:middle;\" /></a></span></td></tr>\n",
       "</table>"
      ],
      "text/plain": [
       "\tstep type\trequirements\tstatement\n",
       "0\tspecialization\t1, 2, 3\t{forall_{x, y in S} P(x , y) , x in S , y in S} |- P(x , y)\n",
       "\tx : x, y : y\n",
       "1\tassumption\t\t{forall_{x, y in S} P(x , y)} |- forall_{x, y in S} P(x , y)\n",
       "2\tassumption\t\t{x in S} |- x in S\n",
       "3\tassumption\t\t{y in S} |- y in S"
      ]
     },
     "execution_count": 80,
     "metadata": {},
     "output_type": "execute_result"
    }
   ],
   "source": [
    "multiVarForallSpec.proof()"
   ]
  },
  {
   "cell_type": "markdown",
   "metadata": {},
   "source": [
    "Note that when constructing a `Forall` object, if you attempt to use the same **variable** multiple times in the list of instance variables, you will get an error:"
   ]
  },
  {
   "cell_type": "code",
   "execution_count": 81,
   "metadata": {},
   "outputs": [],
   "source": [
    "try:\n",
    "    Forall((x, x), Px)\n",
    "except ValueError as e:\n",
    "    print('EXPECTED ERROR:', e)"
   ]
  },
  {
   "cell_type": "markdown",
   "metadata": {},
   "source": [
    "You can also specify different domains for each a set of instance **variables**, providing a list (or `ExprTuple`) for `domains` rather than `domain`.  The display notation will indicate a cartesian product set."
   ]
  },
  {
   "cell_type": "code",
   "execution_count": 82,
   "metadata": {},
   "outputs": [
    {
     "data": {
      "text/html": [
       "<strong id=\"multiDomainForall\">multiDomainForall:</strong> <a class=\"ProveItLink\" href=\"__pv_it/cd25ad242d6abbbc7fa1cc90a723fe6ddf0c080f0/expr.ipynb\"><img src=\"data:image/png;base64,iVBORw0KGgoAAAANSUhEUgAAAKkAAAAXBAMAAACCO3IZAAAAMFBMVEX///8QEBC6urrMzMxUVFRm\n",
       "ZmZERETc3NwyMjKqqqp2dnaIiIiYmJgiIiLu7u4AAAAU9Wx4AAAAAXRSTlMAQObYZgAAAw1JREFU\n",
       "OMu1VUtoE2EQ/pLdbJJNsg32UFSUHNQqIq1oQQVpqbVCvcTSorUHi4cU7KELihVEzcWbSMHHpQfX\n",
       "g1hbLAvWQEmxi1IERchBLyqygvagYII1an20zuxuHm0CNVQXNv/szD+P//u/mQD/5TFX6L+1RPOQ\n",
       "3hQLTyuNNb7Q0vJcJUFoKrF56oE7LFyuuMTvgFRDq6/MWePAaVq8PZUGFX4AfnqRLGN8YifzDFYa\n",
       "NfAZCGZJWF/G+JZstwcGzlUMgJQBxDnAHS9npCK/xmIvSTxZrF+29iqKlibcPBrhN3pgqNvSKrc0\n",
       "XDAhR4F9QC+ZtGKnPXmpYWSyPidfz3b2OWKjBuEFX5YBfMAzY52lld0ZTBHglHIDFPqVFpUiRxzB\n",
       "HUVdXhsMwxe1xam2kaNMLBdt1CjSFUu725NCjJzCQAgBSji0KCrnUe53GmQsyif2QEzZYr9DqKoI\n",
       "91FrrqNcOn4SQQj0gBEyLRCKH4IlUfvJRNpEENhCdRIOIR0up9bfKEQF1ubcbpjCrB1Vie+kbyp6\n",
       "tHmcXN0JuEyiYdDyD61hN2LeNC3penQ4dM06YVx8r95ZKPbnEQTCNgLobaZtcchmK+/5WKVuZ7B9\n",
       "NhSHFtivy8pRl7wZKdDVJhGB9ziQwQM77kVI1MFBpts1wsrdBDcuseH8NiSAXXkanOLEnv0sDiPg\n",
       "0FOaz11rFP5fUtirI82Id6DOsJR0Cp3IwEPim7WxDQc56t5YLKYrESgZru01W07An7G2vO//ojsc\n",
       "SUHpGxuZpIZi75nkMWKGj08UpMtyE6OFsMAbV6Ea2IR3LPsHIfCMmBYZhzl4wkvboSYv1Vq/d+2O\n",
       "daiUQqMcl3FGRTVRmQaEyHT09ECilVDtoqzzkFI7SieJ89DRxZSymqTRvO4NZia6x9Bo4GqCwGuH\n",
       "cpyjNnQepmWjNTSHs6rwSl8StTAJKWpIkzSb7M4zkbN5VVG3RqRMuC4/Zry5qR1gwJLt3Cxq3jrj\n",
       "EFGVtM1k1v96ep0t0dwriH7DbnXKR4cQ/9W/4qPij7EVBvsDfRe8Yd7EKjcAAAAASUVORK5CYII=\n",
       "\" style=\"display:inline;vertical-align:middle;\" /></a><br>"
      ],
      "text/plain": [
       "multiDomainForall: forall_{(x, y) in S * R} P(x , y)"
      ]
     },
     "execution_count": 82,
     "metadata": {},
     "output_type": "execute_result"
    }
   ],
   "source": [
    "multiDomainForall = Forall((x, y), Pxy, domains=[S, R])"
   ]
  },
  {
   "cell_type": "markdown",
   "metadata": {},
   "source": [
    "Internally, however, **ProveIt** simply splits off a condition for each *instance variable*. Notice lines 6 and 12 in the following `exprInfo()` details:"
   ]
  },
  {
   "cell_type": "code",
   "execution_count": 83,
   "metadata": {},
   "outputs": [
    {
     "data": {
      "text/html": [
       "<table><tr><th>&nbsp;</th><th>core type</th><th>sub-expressions</th><th>expression</th></tr>\n",
       "<tr><td>0</td><td>Operation</td><td>operator:&nbsp;4<br>operand:&nbsp;1<br></td><td><a class=\"ProveItLink\" href=\"__pv_it/cd25ad242d6abbbc7fa1cc90a723fe6ddf0c080f0/expr.ipynb\"><img src=\"data:image/png;base64,iVBORw0KGgoAAAANSUhEUgAAAKkAAAAXBAMAAACCO3IZAAAAMFBMVEX///8QEBC6urrMzMxUVFRm\n",
       "ZmZERETc3NwyMjKqqqp2dnaIiIiYmJgiIiLu7u4AAAAU9Wx4AAAAAXRSTlMAQObYZgAAAw1JREFU\n",
       "OMu1VUtoE2EQ/pLdbJJNsg32UFSUHNQqIq1oQQVpqbVCvcTSorUHi4cU7KELihVEzcWbSMHHpQfX\n",
       "g1hbLAvWQEmxi1IERchBLyqygvagYII1an20zuxuHm0CNVQXNv/szD+P//u/mQD/5TFX6L+1RPOQ\n",
       "3hQLTyuNNb7Q0vJcJUFoKrF56oE7LFyuuMTvgFRDq6/MWePAaVq8PZUGFX4AfnqRLGN8YifzDFYa\n",
       "NfAZCGZJWF/G+JZstwcGzlUMgJQBxDnAHS9npCK/xmIvSTxZrF+29iqKlibcPBrhN3pgqNvSKrc0\n",
       "XDAhR4F9QC+ZtGKnPXmpYWSyPidfz3b2OWKjBuEFX5YBfMAzY52lld0ZTBHglHIDFPqVFpUiRxzB\n",
       "HUVdXhsMwxe1xam2kaNMLBdt1CjSFUu725NCjJzCQAgBSji0KCrnUe53GmQsyif2QEzZYr9DqKoI\n",
       "91FrrqNcOn4SQQj0gBEyLRCKH4IlUfvJRNpEENhCdRIOIR0up9bfKEQF1ubcbpjCrB1Vie+kbyp6\n",
       "tHmcXN0JuEyiYdDyD61hN2LeNC3penQ4dM06YVx8r95ZKPbnEQTCNgLobaZtcchmK+/5WKVuZ7B9\n",
       "NhSHFtivy8pRl7wZKdDVJhGB9ziQwQM77kVI1MFBpts1wsrdBDcuseH8NiSAXXkanOLEnv0sDiPg\n",
       "0FOaz11rFP5fUtirI82Id6DOsJR0Cp3IwEPim7WxDQc56t5YLKYrESgZru01W07An7G2vO//ojsc\n",
       "SUHpGxuZpIZi75nkMWKGj08UpMtyE6OFsMAbV6Ea2IR3LPsHIfCMmBYZhzl4wkvboSYv1Vq/d+2O\n",
       "daiUQqMcl3FGRTVRmQaEyHT09ECilVDtoqzzkFI7SieJ89DRxZSymqTRvO4NZia6x9Bo4GqCwGuH\n",
       "cpyjNnQepmWjNTSHs6rwSl8StTAJKWpIkzSb7M4zkbN5VVG3RqRMuC4/Zry5qR1gwJLt3Cxq3jrj\n",
       "EFGVtM1k1v96ep0t0dwriH7DbnXKR4cQ/9W/4qPij7EVBvsDfRe8Yd7EKjcAAAAASUVORK5CYII=\n",
       "\" style=\"display:inline;vertical-align:middle;\" /></a></td></tr>\n",
       "<tr><td>1</td><td>Lambda</td><td>parameter:&nbsp;14<br>body:&nbsp;2<br>conditions:&nbsp;3<br></td><td><a class=\"ProveItLink\" href=\"__pv_it/2a8efe2ba8f28dcab22026526ff09c76934d0c680/expr.ipynb\"><img src=\"data:image/png;base64,iVBORw0KGgoAAAANSUhEUgAAAPoAAAAWCAMAAADetHH2AAAANlBMVEX///+6uroUFBQNDQ0yMjJE\n",
       "RETMzMwQEBAiIiKYmJju7u5mZmaqqqpUVFSIiIh2dnbc3NwAAACltDI1AAAAAXRSTlMAQObYZgAA\n",
       "AzhJREFUWMPVWFd24zAMFHfZC0jc/7LLKovFkazoZV/4YccqAAbADMhs2y9eNvygM5CU6ycNEjh/\n",
       "RpHyRSXpb3jyg9CTM/mKCT5Km0N0cUn3KhZ3V940fA31HnTljDFakRvQvW2/6IcNgDR/MRE+tEAf\n",
       "hE5V/NAM71Q9sPpj/+Pi4ugLRet3bISLbaP8Y9BdjYHegb6XytgPhQIradHUK+Ji22hxC7oGKuM6\n",
       "ogxYyMPhFnTlQ17yw5dbkzmsOSOXU8/sDeicqim1pPrmOQPBgwsWDPTEagPEzs6QpSX9dovqGhtR\n",
       "TLUwRpCf8vluwBy9N6fQJyOBLXoqIAJ/+Yh1lGoTrYhDMZ2enLn8Mns7VS3DKKIMllTn0nSKs4gg\n",
       "e4oFyiQ5UPMr6LORdXyAcdVbvjqwfA1dH2ZRdUbSSNJfdKvK3KRmcOq8j7V8mRNkHUFKkN1MCoSV\n",
       "DiHiDPpkRL8R4aCcwCIy6cMdH/v7R3ZLIBmdpaBATaISS10uFntODlQfG7AaniIo10TqGoTaMadV\n",
       "H40Q0QDMNfK4By+OvTmqlyOTswRbDkCAkaB1uSizPdFXHSdZPORUTIprU6Z4E2S8InOdkeVuqSLW\n",
       "O/Si+HoN3YTZWWz2apkAK0NKHXDqbM+4gepmDETYbRlB8ZuKBWK72PCTEb0YQNq0JzMoFYqWwBp6\n",
       "PwCbMxZKL2jYohUu+rlAEMALsp7qRwqU3HcR7PCzUrCaPnUqcxOMzalZf2uUpSo21p7F0MMOEUbS\n",
       "LZxZUxIUNJGp1zd+nHQ+F4xuJ1SvI6uLQO+0SOGR1pinw22GEcs+5doUJgKrQgheew/q+pamo1Xa\n",
       "GDqIIyvP+jLQmM/BdJ3G4tll5DORUwRaYGgKDWDaD0pOoK9gBGr4IFtxODnHrmF9B33fJ6W+FjyO\n",
       "wKN8JQ4bcW5OLEYvOc5S+a2N7GYdXSr8t6C/oudl73E8iebWZrLuFs+PJSsRTpNRNx308OCh9THo\n",
       "1gGjuePIznRMU4HLC+eyxaG1Qk/bZFYzo588tD4GPYRM9Xxv5/r1Fabh2wzYyPTmrHXUf4UOUvZN\n",
       "HAtDvsOlcCFX9bwRfY/z8iehz0ISJ/gv/afmP7gUI0gpCXheAAAAAElFTkSuQmCC\n",
       "\" style=\"display:inline;vertical-align:middle;\" /></a></td></tr>\n",
       "<tr><td>2</td><td>Operation</td><td>operator:&nbsp;4<br>operand:&nbsp;5<br></td><td><a class=\"ProveItLink\" href=\"__pv_it/21e5d018ac1d4764ac8d8c95e634ff476f1daacb0/expr.ipynb\"><img src=\"data:image/png;base64,iVBORw0KGgoAAAANSUhEUgAAAHYAAAAWBAMAAADnfXV4AAAAMFBMVEX///8QEBC6urrMzMxUVFRm\n",
       "ZmZERETc3NwyMjKqqqp2dnaIiIiYmJgiIiLu7u4AAAAU9Wx4AAAAAXRSTlMAQObYZgAAAkRJREFU\n",
       "OMulVE1oE0EU/pJNNtlsugn2INKDFTz0Urqi9xRbKFQKgu0lKFSRLRqhexCLiu3iWUoPthR66PbQ\n",
       "H+0lQpODPTQXQfCSg3qoHuLBIhVsEKNWbOqb2Z30Z3dF6cDsfMy8b+a97723wBFG5Z+swvnDO8lW\n",
       "oMzAK3/Gym5392uToXPew0vAE7aOBzz3E5CPBxjEgTu0xAb9qdIvQKEJNe89TNqIU8DRCX+u+pVM\n",
       "agRCPqpoaSQXR0YeBLgsV4HINoE2v9MbwHfDWA/gpixgi8WTpXlv5W7BcX0zi1gdmAe6gKH9hKna\n",
       "QM6FGRvSGwYekYt28n2IJwV2B1TyaBo4Dc06oEEa8YsOXOt9muUpOgYkyF7RuYITVyCTN6eAJqgl\n",
       "l/Z54DIFOIiIcz+GhUSkmcYOHJHQghR5nyExS02uiXpt9AvdlUfIfXcHe1wSWyRKqSOjc65mUdGE\n",
       "i5SHF/xkS0e/m96a4J5gnzHdLeCohWfgPmPoPHmbMs/ACbtjda51L73OuEUymGtQK5xNclyn5SXN\n",
       "SYputB1FyeZ2S1Bd7eS64FI6ZktXcR8aCyPaGf7tbDpx9OKC9NYwKDs3oVQ54ePwNxFhO7DxfHO5\n",
       "BO0k6a7lCj9o8yFLSoVnoVnr5HbbiKYPF0nIbDQjR4kyr0l3NIer6OEC1SGXz3rrXiCaffhADZBo\n",
       "9MfjooUNptFSzZTeedpmfD93neICPomtmBkh+wUjF1DZtwVgt84U2CM9jY6x2/76z4l5PFF1gZRV\n",
       "+/9/dX8ApQONaxtLipEAAAAASUVORK5CYII=\n",
       "\" style=\"display:inline;vertical-align:middle;\" /></a></td></tr>\n",
       "<tr><td>3</td><td>ExprTuple</td><td>6</td><td><a class=\"ProveItLink\" href=\"__pv_it/fb4b58b42616fe0f04290bfd9475683bbfa6f1fa0/expr.ipynb\"><img src=\"data:image/png;base64,iVBORw0KGgoAAAANSUhEUgAAAD8AAAAVBAMAAAADRiu8AAAAMFBMVEX////c3NwiIiJERESqqqqY\n",
       "mJh2dnZmZmYQEBDu7u4yMjJUVFTMzMyIiIi6uroAAAAs73DqAAAAAXRSTlMAQObYZgAAATxJREFU\n",
       "KM9jYCAI+C7glosDEaexy7FuL5/6gP0AkLUSu4KlDJz2DAwLGBh4sdvAncDA4MXAEMbAwDEBWXzu\n",
       "IiUtMEMeaPhZBoYZDAyvkOV5lsKUv3dgYDjDwMDswFAG5IndFrkOtkkYbpz8X5D7GNgKgI5h4Exg\n",
       "VeVQAPEN4Wbx/v8P4rAsYOgDKmPg/cAC0sBpgLBNdMcPoHF8DQz/gOIM3BAZviYlJagjgSA/AOio\n",
       "DyAFQK9A/MqzAR5MQDwfoqAF6imQ8zgVYAqmgwQFwFaYApUL3GfgBbt/K0wBMIwYqkEmLWBIZ2Dw\n",
       "D7BgkAWLT3oAVVB0gYHXAOLNRwwMk69Nyw0AizMuPwBRsOH1blMQzfWAgUMAOShZdiF8AQLAoGZN\n",
       "wJdYcnFHNxhwAqObQRqPAm6Q/Yx4ktwdBgYAeCZFUIOujisAAAAASUVORK5CYII=\n",
       "\" style=\"display:inline;vertical-align:middle;\" /></a></td></tr>\n",
       "<tr><td>4</td><td>Literal</td><td></td><td><a class=\"ProveItLink\" href=\"../packages/proveit/logic/boolean/quantification/universal/__pv_it/265f8c02ac1094d56e0e6410a1c1fd3500dc9f540/expr.ipynb\"><img src=\"data:image/png;base64,iVBORw0KGgoAAAANSUhEUgAAAAwAAAAQBAMAAADQT4M0AAAAMFBMVEX///8QEBC6urrMzMxUVFRm\n",
       "ZmZERETc3NwyMjKqqqp2dnaIiIiYmJgiIiLu7u4AAAAU9Wx4AAAAAXRSTlMAQObYZgAAAFhJREFU\n",
       "CNdjeMAABhdAxGmGlSCqj6EMSLInMHAAJVknMPAsLy+vBYp8S0u7BaScGRjSgZQKA18DkOJl4D4A\n",
       "pLgP8IJM4mswARuX7gSmpoKNZWDcAKZ4gCoAgTQTILaSE58AAAAASUVORK5CYII=\n",
       "\" style=\"display:inline;vertical-align:middle;\" /></a></td></tr>\n",
       "<tr><td>5</td><td>Lambda</td><td>parameter:&nbsp;17<br>body:&nbsp;7<br>conditions:&nbsp;8<br></td><td><a class=\"ProveItLink\" href=\"__pv_it/24a15c858c0cd698eb1171e116560cf9eb458b530/expr.ipynb\"><img src=\"data:image/png;base64,iVBORw0KGgoAAAANSUhEUgAAALoAAAAVCAMAAADGmgT4AAAANlBMVEX///8UFBQNDQ2YmJhUVFQy\n",
       "MjIQEBBEREQiIiKqqqrMzMyIiIi6urrc3NxmZmZ2dnbu7u4AAACrLjZHAAAAAXRSTlMAQObYZgAA\n",
       "AlFJREFUSMfFl9l26yAMRWmZEeP//+xldM1g6jhZt35IsrCRNtKRrCD0d5c06K8vDTcewnpacvq/\n",
       "YgIJgcRLkCNkitzaadUH0Kt7TuEJfKD5i7PGTv29jfQjUQ88fXpGX9+qgitCrd8I7gYAuw+gq1Dc\n",
       "kfAgZXUPDrYssJtBj5F6Dd0DFfGig/uiOxrUy+g8oHpsWWr0fua4fAVdUbwICmc1+KnAvLMpkyb4\n",
       "lSSlXEvdF83F6msyMA6IkWDP+ultO3uNPlIgw5fZzMhIiuzFIR1yJupN0T9L/ErqSjQMipvvKCKB\n",
       "ETvv721Leo0+UiBu1lInAJaV8CiJbPLG+RrdE9NrjTgXI3QsMt18F8fypMHBtmaX6BOF5xeV5nOL\n",
       "yE7iz3yI0BL9/SW6i3W1zMOQx3Y3LZPB32BbhUv0iUKz5p8upB7qq0QmGnVU7BB1RLpiCuPt88HY\n",
       "1Cc72xv0ieLiPVeYTUO36VxwJHNgs6bX2lBqiP3UscmOu6x0tjeCmSi8WEsdl8ZcewNNNJys0RUs\n",
       "u/ophbVMsSk1Bv6M39nGmzIdKRDBS6nnrNikq+TDxud1OJ6EUa5oJ/XW8WQ0kIRoIHfOdv7O9q45\n",
       "jhQx7PrypQIR3eBczLHfhBsDqLc8Dj+DnrWoHQGcdw5weW82c51tqjfoE4Whw8B2cm/pz/jhxONZ\n",
       "kq0OrU+Lzfbvg8BAIQmdBoG+g4hkVT5Gn6aqvLiw7WCD/ohCRNfcvTHCr4ZePNv226H3EYWMGnvr\n",
       "74qZWzAsbBOzQ3+b4iH7nYkd5iEV3mP9B8zvG0DqPwuMAAAAAElFTkSuQmCC\n",
       "\" style=\"display:inline;vertical-align:middle;\" /></a></td></tr>\n",
       "<tr><td>6</td><td>Operation</td><td>operator:&nbsp;15<br>operands:&nbsp;9<br></td><td><a class=\"ProveItLink\" href=\"__pv_it/1a5edcc057c65f4f25007410b60206f5c08ed0560/expr.ipynb\"><img src=\"data:image/png;base64,iVBORw0KGgoAAAANSUhEUgAAADMAAAAPBAMAAAC7N+rPAAAAMFBMVEX///+6uroyMjJERETMzMwQ\n",
       "EBAiIiKYmJju7u5mZmaqqqpUVFSIiIh2dnbc3NwAAAAWgogoAAAAAXRSTlMAQObYZgAAAM1JREFU\n",
       "GNNjYMAG2HfObBfAKsOgzsBhj12G+wIDwyIUkR61tCQw470DA4MPsgyLegOUJb+AgcEFSL89/erk\n",
       "AZDAY5gMw/s/DiCK4wJ7OmsCiGUH18/z/z+Iw8vA84ELpIjDAGH2861fgUZwMHBDxBjD0tKgzgCC\n",
       "+wUgkvUAxBUb4B4G4v4CqFNBDuBIgEl1ggQfAJU8OM/AA3bbdpgUyLezgXh9gSnDG7BIGyzUph1g\n",
       "4AHZ33y29w7YXAY+TQeI1Abp3eZoQce1CeFCIAAAnqEy768c/WoAAAAASUVORK5CYII=\n",
       "\" style=\"display:inline;vertical-align:middle;\" /></a></td></tr>\n",
       "<tr><td>7</td><td>Operation</td><td>operator:&nbsp;10<br>operands:&nbsp;11<br></td><td><a class=\"ProveItLink\" href=\"../packages/proveit/__pv_it/e0e45b9393452be20ed9dd804d04d86a2899b1ba0/expr.ipynb\"><img src=\"data:image/png;base64,iVBORw0KGgoAAAANSUhEUgAAAEIAAAAVBAMAAAAA8SWUAAAAMFBMVEX////u7u5mZmaYmJi6urqq\n",
       "qqp2dnbMzMwQEBBEREQyMjLc3NwiIiJUVFSIiIgAAAAeC3ydAAAAAXRSTlMAQObYZgAAAWhJREFU\n",
       "KM+VUjtPwlAYPaWF0hJK40DURSZcHJgcnBydlNlBGwdH039QnUmUReOiMPgDWHREgombCZOLkhAG\n",
       "44IIPgYf0XOvNzxSFm9yv3v63XPP9yrwr7Ua8ujLwnZ+ms2bCoHZCD+al/YDsAo8bTfMsIUx34Eo\n",
       "N54mBNY9GueVoE+wN4Gh7dJYz0DyDTDKk7I/5E7xZq4IRITgRee83ZJX6SwSPWCLMPBg1kVSOYp6\n",
       "+lW8JhneGhyqrxN2b7ezotg4a4/RG/Vl/vkFWFReIS6pIlNkaEgWVYrYR4rxAuIvDBlUaqnPaA+B\n",
       "LxlmX7nieWEvffxpRsp4hIwi2iGXxUz1SheOKzl2Bic8lnjRU4xYBtjMHaMKTQSONIwXiGqnSt8q\n",
       "ssEqZx7SOzloB6xNO21/0ns22r7CABkVKVpTXR+sxeG8uO8xzdRjrbFJu6OMaxzRzo4NKTH4g8TD\n",
       "jbboz934HKuhyTo+fgFmwVFLOVAG8QAAAABJRU5ErkJggg==\n",
       "\" style=\"display:inline;vertical-align:middle;\" /></a></td></tr>\n",
       "<tr><td>8</td><td>ExprTuple</td><td>12</td><td><a class=\"ProveItLink\" href=\"__pv_it/42e9baad04548e332542e34ecb0067b3944c15010/expr.ipynb\"><img src=\"data:image/png;base64,iVBORw0KGgoAAAANSUhEUgAAAEAAAAAVBAMAAAAEBPWpAAAAMFBMVEX////c3NwiIiJERESqqqqY\n",
       "mJh2dnZmZmYQEBDu7u4yMjJUVFTMzMyIiIi6uroAAAAs73DqAAAAAXRSTlMAQObYZgAAAVNJREFU\n",
       "KM+Fkr9LQlEUxz/lz6c+C6KpQXEMgqKCtvYWm1t6tPgfNFSkhGvxqKEIgghEGgwjWorAoa3BtzWE\n",
       "KE3RkhBN/qhz30ufg68u3HPuPed7fh/498Qtb12gIeRpqOrl+/6mBDvyvBxu/Akn50RAHx4h1oFo\n",
       "l4BB2BwQn12kpp2X3oZIGy3H+6BZoY/25aBahgU2QcsYJJRqwvU2VsY/IzxDAYLxJnUlnXOdVR+e\n",
       "9xVf4QAeQ0nm5aPNuoC6Sboi/I0umGGLjmrZXirVS3LJjiKeFIC0GWurHMuuhxYkHEBe6BZ6ToVI\n",
       "uvV8wbphh1gUWsRnG9/2AaoNWUuDNakDtvlYVeLDRr8NTcnTmlRlvsr3qJYdV+KRYsXRHy+3LEIl\n",
       "mcIVYVu14Sj8d70qfo+0WsYRTWp5j4UIWmrco4bP8ACcyp3CX9v1WqlrldkfK6dX+AEXrVT3J00t\n",
       "+gAAAABJRU5ErkJggg==\n",
       "\" style=\"display:inline;vertical-align:middle;\" /></a></td></tr>\n",
       "<tr><td>9</td><td>ExprTuple</td><td>14, 13</td><td><a class=\"ProveItLink\" href=\"__pv_it/75ea65b79fca5a7e0a4b0a55cd46edaf622a0d8e0/expr.ipynb\"><img src=\"data:image/png;base64,iVBORw0KGgoAAAANSUhEUgAAAC8AAAAVBAMAAAAk6KpUAAAAMFBMVEX////c3NwiIiJERESqqqqY\n",
       "mJh2dnZmZmYQEBDu7u4yMjJUVFTMzMyIiIi6uroAAAAs73DqAAAAAXRSTlMAQObYZgAAARhJREFU\n",
       "KM9jYMAJ+C5gisWBiNOoYqzby6c+YD8AZK1ElVjKwGnPwLCAgYEX1STuBAYGLwaGMAYGjgkoEvJA\n",
       "Q84yMMxgYHiFatJ7BwaGMwwMzA4MZUCe2G2R61AT5f+C7GVgKwBaxsCZwKrKoQCR4P3/3xBIsSxg\n",
       "6ANKM/B+YDkANUt0xw+grXwNDP+AOhi4DZCsyQ9gYOD5AJIAOg3mZlYgng+RaIE6EuLq6SCOANgo\n",
       "U6AygfsMvBPAUkC/MVSDdC5gSGdg8A+wYJBl4PwEFCi6wMBrAHHuIwaGydem5QYwcPYDjdjwercp\n",
       "yEiuBwwcAvDwF0C4DBgkrAkMSC6CgVzkYEeS4AQGO4M0jIcU/twgUxmxRO0dBgYA4X0+BGW7KnUA\n",
       "AAAASUVORK5CYII=\n",
       "\" style=\"display:inline;vertical-align:middle;\" /></a></td></tr>\n",
       "<tr><td>10</td><td>Variable</td><td></td><td><a class=\"ProveItLink\" href=\"../packages/proveit/__pv_it/6369c6c8083c513ca7161ace249642d040f9327d0/expr.ipynb\"><img src=\"data:image/png;base64,iVBORw0KGgoAAAANSUhEUgAAABAAAAAOBAMAAADUAYG5AAAAMFBMVEX////u7u5mZmaYmJi6urqq\n",
       "qqp2dnbMzMwQEBBEREQyMjLc3NwiIiJUVFSIiIgAAAAeC3ydAAAAAXRSTlMAQObYZgAAAGBJREFU\n",
       "CNdjYGB4+//u3bMbGIDgFwMDZzeQZv/GwMAKxAx8XxgYmD8BGZwfGBh4vwIZ/AsYGOQnABn1CQzs\n",
       "h0Ca3l9LUwPrni/AAAF/oDT7JygDZAwYcH6E0ELz/z4A0QBnpRnRyxnfJQAAAABJRU5ErkJggg==\n",
       "\" style=\"display:inline;vertical-align:middle;\" /></a></td></tr>\n",
       "<tr><td>11</td><td>ExprTuple</td><td>14, 17</td><td><a class=\"ProveItLink\" href=\"__pv_it/a6a2ac9310c73e21661c7634808321702fb219240/expr.ipynb\"><img src=\"data:image/png;base64,iVBORw0KGgoAAAANSUhEUgAAACwAAAAVBAMAAADP3xFXAAAAMFBMVEX////c3NwiIiJERESqqqqY\n",
       "mJh2dnZmZmYQEBDu7u4yMjJUVFTMzMyIiIi6uroAAAAs73DqAAAAAXRSTlMAQObYZgAAAQtJREFU\n",
       "GNNjYMAB+C6gi7A+ABKnMVXWAPFKTGEuBgbeC5jCrAkMHBMwhTkbGF5hc4YJQxmQFLstch1i1rQy\n",
       "BsafDAzpDEuBehJYVTkUwMIJ7xl4PzAweDH0MTCwAZksB0CiPA5FDMwGDAwvGP4BVTNwG0DtYuhl\n",
       "4Acadx4kzMDAAXMly0+G8wdAwi0gnvwBBog72Rcw3GAAGWIKdL3AfQbeCWAJrgIGayAVBXQLg3+A\n",
       "BYMsA+cnkOoNfF8ZQA58xMAw+dq03AAGzn4BoJ221z8ChdcxcAjAQxjMYlMAex4YLLAAAuJNDDMc\n",
       "gFIXkAIWJKzGYAYkZwGxNEwY5Hbf66CY2QjEjBgBznuAAQAt5DtyKXSr1gAAAABJRU5ErkJggg==\n",
       "\" style=\"display:inline;vertical-align:middle;\" /></a></td></tr>\n",
       "<tr><td>12</td><td>Operation</td><td>operator:&nbsp;15<br>operands:&nbsp;16<br></td><td><a class=\"ProveItLink\" href=\"__pv_it/304f80a086ce2279ef7adb379c5e865af0d14e320/expr.ipynb\"><img src=\"data:image/png;base64,iVBORw0KGgoAAAANSUhEUgAAADQAAAASBAMAAADmo+DzAAAAMFBMVEX///+YmJhUVFQyMjIQEBBE\n",
       "REQiIiKqqqrMzMyIiIi6urrc3NxmZmZ2dnbu7u4AAADXeCicAAAAAXRSTlMAQObYZgAAAPVJREFU\n",
       "GNNjYMACJv1XUrVkwA6+MjA8McAqw/GTgYHpF5LAS7O0ZAiL8wcDA/MPJKWGD2BMVgcGhn4FBr47\n",
       "Fxj2gwS3wmUY+BUY2DMZGHi5PjDMB/GjEQb0a87xBFLtPAkMoUCaLwAhNf8BQ30DA8MDlgkMQAcx\n",
       "cLmlpcGcEQI2k4Gh/gEHyDEcCghdnxgY9oO4hxk4HUAGJiDc+pGBQf4CkGHDwArWoAiXAnnr/AQ+\n",
       "BoZDDOsFQALPFsC99QHokgkbGRiezjy/ASTAbdMAkXkT/2kCA4/lBBD7GkSIXRnmQihgSuBzxxH+\n",
       "bBdYL+CQYp95CocMAERHO66SNiCSAAAAAElFTkSuQmCC\n",
       "\" style=\"display:inline;vertical-align:middle;\" /></a></td></tr>\n",
       "<tr><td>13</td><td>Variable</td><td></td><td><a class=\"ProveItLink\" href=\"../packages/proveit/__pv_it/abeee18594afe51bfb1be95d9591fbba24ac53f30/expr.ipynb\"><img src=\"data:image/png;base64,iVBORw0KGgoAAAANSUhEUgAAAA0AAAAOBAMAAAAGUYvhAAAAMFBMVEX///8iIiIQEBCIiIjMzMzc\n",
       "3Nyqqqp2dnZEREQyMjK6urru7u5mZmZUVFSYmJgAAACI6eGPAAAAAXRSTlMAQObYZgAAAF1JREFU\n",
       "CNdjYGDgu3Nm3wIGBoZ5DNz9QIq3gIEhE0jHOzAwOAPp9QkMDC4g/megABAw///fCmbEXfq0Acxg\n",
       "qH8ANAVI7wfSe0BKAyBGnAXigwYMzA1A+sLau31ACgAz0hhbkhGHbwAAAABJRU5ErkJggg==\n",
       "\" style=\"display:inline;vertical-align:middle;\" /></a></td></tr>\n",
       "<tr><td>14</td><td>Variable</td><td></td><td><a class=\"ProveItLink\" href=\"../packages/proveit/__pv_it/530be409e3083890784cf1d7b28c9e67e90af9360/expr.ipynb\"><img src=\"data:image/png;base64,iVBORw0KGgoAAAANSUhEUgAAAAsAAAAJBAMAAAAWSsseAAAAKlBMVEX///9ERETMzMwQEBAiIiKY\n",
       "mJju7u5mZmaqqqpUVFSIiIh2dnbc3NwAAAA/vyDhAAAAAXRSTlMAQObYZgAAAENJREFUCNdjYDi9\n",
       "8sTyBQxsG1hdmR0YuBm4LnAoMLAxcAowgADzAjB1VoEhgYH1wFoGrgSG3gBhhlMMDImrs3cFMAAA\n",
       "t0YN+iTRa+sAAAAASUVORK5CYII=\n",
       "\" style=\"display:inline;vertical-align:middle;\" /></a></td></tr>\n",
       "<tr><td>15</td><td>Literal</td><td></td><td><a class=\"ProveItLink\" href=\"../packages/proveit/logic/set_theory/membership/__pv_it/088cbc857536a28d4119ad9639a84270ccb0545d0/expr.ipynb\"><img src=\"data:image/png;base64,iVBORw0KGgoAAAANSUhEUgAAAAwAAAAMBAMAAACkW0HUAAAALVBMVEX///+qqqpmZmZUVFQQEBC6\n",
       "urpERETc3NyYmJjMzMwiIiIyMjKIiIju7u4AAACYsrA9AAAAAXRSTlMAQObYZgAAADxJREFUCNdj\n",
       "YOA9vWrVBgaG2b0MQMCeCyIZ2ArA1DUwyRCyahVIyWQI7xaEYm4AU7xLIdxqTQgtvGvVBgCkcQ7e\n",
       "geM/tQAAAABJRU5ErkJggg==\n",
       "\" style=\"display:inline;vertical-align:middle;\" /></a></td></tr>\n",
       "<tr><td>16</td><td>ExprTuple</td><td>17, 18</td><td><a class=\"ProveItLink\" href=\"__pv_it/3262eb6624ddd5fc354c569eb33e7f80af392b380/expr.ipynb\"><img src=\"data:image/png;base64,iVBORw0KGgoAAAANSUhEUgAAADAAAAAVBAMAAADyTXAxAAAAMFBMVEX////c3NwiIiJERESqqqqY\n",
       "mJh2dnZmZmYQEBDu7u4yMjJUVFTMzMyIiIi6uroAAAAs73DqAAAAAXRSTlMAQObYZgAAAStJREFU\n",
       "KM91kStPA0EUhT/YPnbbbqlBIbp/AAUkODym1Rg2mP4DBBC6AgvZBEGDAUMIomQJkpBU1CG6DkGa\n",
       "AopgKCGobgt3ypDs8pjkPmbO3DP3noF/VzH8fZa+F3eTOLr7uLpswpakZ8nLb9A4Jgd2kqkwhPyI\n",
       "tIvpJwA7glyE5fGcZDI86AQwzzpYNZeyLpwKSM1KrHECmWKfnq7oXN/uqrjMHrSzDnMa6PlUWhKf\n",
       "GIFvhgw1sDhmk0oFUPELkQYGUP4CdsRvYHt6jHdYdcdUC+JPMQKs7zHqoaQr0hds8lLlyFFj9OX9\n",
       "cFq1+yjb/W69ROMVDpYGIdmmqHSOWVIUa2IPMQFEEpEr71iqhWoMyIRK9knXcH8Ah2IzpLrbqqG4\n",
       "lhdiE398rd3iE5PgTl+ILaFHAAAAAElFTkSuQmCC\n",
       "\" style=\"display:inline;vertical-align:middle;\" /></a></td></tr>\n",
       "<tr><td>17</td><td>Variable</td><td></td><td><a class=\"ProveItLink\" href=\"../packages/proveit/__pv_it/f8b9edf8e16034727f0aad55bb83e392c3db40d40/expr.ipynb\"><img src=\"data:image/png;base64,iVBORw0KGgoAAAANSUhEUgAAAAsAAAANBAMAAACN24kIAAAAMFBMVEX///+YmJhUVFQyMjIQEBBE\n",
       "REQiIiKqqqrMzMyIiIi6urrc3NxmZmZ2dnbu7u4AAADXeCicAAAAAXRSTlMAQObYZgAAAFhJREFU\n",
       "CNdj4LtzgWH/AwZerg8M8xkY2nkSGEIZGB6wTGD4ycDAUP+A4weQOszA6QCkbBhYFYDUIYb1AkDq\n",
       "6czzGxhA4BoQMyXwuQMptgusF4AU+8xTQBIAUqMVoSp/SLMAAAAASUVORK5CYII=\n",
       "\" style=\"display:inline;vertical-align:middle;\" /></a></td></tr>\n",
       "<tr><td>18</td><td>Variable</td><td></td><td><a class=\"ProveItLink\" href=\"../packages/proveit/__pv_it/e24df48bc297bbcf3538a62f5b4f635a392abfce0/expr.ipynb\"><img src=\"data:image/png;base64,iVBORw0KGgoAAAANSUhEUgAAABAAAAAOBAMAAADUAYG5AAAAMFBMVEX///92dnaYmJjc3NxmZmYi\n",
       "IiKqqqq6urrMzMwQEBDu7u4yMjJERERUVFSIiIgAAAArjcN0AAAAAXRSTlMAQObYZgAAAG1JREFU\n",
       "CNdjYGB4+//unX0MIPCHgWHlBiDN8Y+Bgfc7kMH3g4GBG4gZeCYwMPRfADL4LzCwxYHU9t97Mg+s\n",
       "6f0ChvwGEOMkWBYI/jIw2IMYHJ8YGPQFoMb4P+ACGvMBqP6BEcOS838fMLDsewAAOpQikqrQNfgA\n",
       "AAAASUVORK5CYII=\n",
       "\" style=\"display:inline;vertical-align:middle;\" /></a></td></tr>\n",
       "</table>\n"
      ],
      "text/plain": [
       "0. forall_{(x, y) in S * R} P(x , y)\n",
       "   core type: Operation\n",
       "   operator: 4\n",
       "   operand: 1\n",
       "1. x -> [forall_{y in R} P(x , y)] | x in S\n",
       "   core type: Lambda\n",
       "   parameter: 14\n",
       "   body: 2\n",
       "   conditions: 3\\n2. forall_{y in R} P(x , y)\n",
       "   core type: Operation\n",
       "   operator: 4\n",
       "   operand: 5\n",
       "3. (x in S)\n",
       "   core type: ExprTuple\n",
       "   sub-expressions: 6\n",
       "4. forall\n",
       "   core type: Literal\n",
       "   sub-expressions: \n",
       "5. y -> P(x , y) | y in R\n",
       "   core type: Lambda\n",
       "   parameter: 17\n",
       "   body: 7\n",
       "   conditions: 8\\n6. x in S\n",
       "   core type: Operation\n",
       "   operator: 15\n",
       "   operands: 9\n",
       "7. P(x , y)\n",
       "   core type: Operation\n",
       "   operator: 10\n",
       "   operands: 11\n",
       "8. (y in R)\n",
       "   core type: ExprTuple\n",
       "   sub-expressions: 12\n",
       "9. (x , S)\n",
       "   core type: ExprTuple\n",
       "   sub-expressions: 14, 13\n",
       "10. P\n",
       "    core type: Variable\n",
       "    sub-expressions: \n",
       "11. (x , y)\n",
       "    core type: ExprTuple\n",
       "    sub-expressions: 14, 17\n",
       "12. y in R\n",
       "    core type: Operation\n",
       "    operator: 15\n",
       "    operands: 16\n",
       "13. S\n",
       "    core type: Variable\n",
       "    sub-expressions: \n",
       "14. x\n",
       "    core type: Variable\n",
       "    sub-expressions: \n",
       "15. in\n",
       "    core type: Literal\n",
       "    sub-expressions: \n",
       "16. (y , R)\n",
       "    core type: ExprTuple\n",
       "    sub-expressions: 17, 18\n",
       "17. y\n",
       "    core type: Variable\n",
       "    sub-expressions: \n",
       "18. R\n",
       "    core type: Variable\n",
       "    sub-expressions: "
      ]
     },
     "execution_count": 83,
     "metadata": {},
     "output_type": "execute_result"
    }
   ],
   "source": [
    "multiDomainForall.exprInfo()"
   ]
  },
  {
   "cell_type": "markdown",
   "metadata": {},
   "source": [
    "We can perform a specialization of $\\forall_{(x, y)\\,\\in\\, S \\,\\times\\, R} P(x, y)$ analogous to the previous specialization of $\\forall_{x, y\\,\\in\\, S} P(x, y)$, but now specifying distinct set-inclusion assumptions for the variables $x$ and $y$:"
   ]
  },
  {
   "cell_type": "code",
   "execution_count": 84,
   "metadata": {},
   "outputs": [
    {
     "data": {
      "text/html": [
       "<strong id=\"multiDomainForallSpec\">multiDomainForallSpec:</strong> <span style=\"font-size:20px;\"><a class=\"ProveItLink\" href=\"__pv_it/ecb1d69e6fed3a3dc03eb739c41b1d43f71a0b3d0/expr.ipynb\"><img src=\"data:image/png;base64,iVBORw0KGgoAAAANSUhEUgAAATsAAAAaBAMAAAA6debTAAAAMFBMVEX///+6urp2dnaqqqoiIiIQ\n",
       "EBBERETu7u6IiIjc3NwyMjJUVFSYmJhmZmbMzMwAAAD0pS5FAAAAAXRSTlMAQObYZgAABOJJREFU\n",
       "WMPNV1toXEUY/vZ2LnsHRYxFskQlaaGYB5GgaJYaaNE+rFpQC9ZVyJLUQpdiY0ElB4txoY1ZtNRW\n",
       "xeyDINIWt1JLL9YcpQ/6UJvaVmprMGgFUdqEqk1q2sT/n3Nm95xkd5vFQjOw58ycf+af7799Mwsg\n",
       "+hMWYvOdsN6H8gsSHran+alNYIG2Z/kRKgDZ/6no9jlfvroB8NZKeEnufFPnam1o6vC+g9yLFucI\n",
       "I6M114aPjLwar6F3rcFZJ+HdxZ2P67UuRis7OXGDFbxfqLl0N9T11fWmoa52wttObz1dL7yxBNBO\n",
       "P+QqCL+utTJEqx6orpdcNxR3wGPzI631whsgFceHqfNUBeHGCt82fdTxqOgMUuh/rybEAEk/HXXA\n",
       "Cy/euXNb3anL4RkiozyVAqnMtTa6WyZBIwkvVhOik0ZTMrgKB/VyJrOMXh86F1zXm/8C6mUuAwqV\n",
       "3nKw7Yz4qi5NYDAL77Cc9vaWd/oNQWQlAIOTsnI2fA99wi0EQbuvVBoB7n0JdNMeCefuv5R6F5q2\n",
       "lgrx/msjXba9l4DzDCJo0jY4aq4Sn72ecQwQ6UuXqonwyoCghu5ycc7M2INEI7RxtzA6lTstzDlO\n",
       "iPVd3FsEldQpLud4ZeV7htFYpoQUgpZjtKmmpYuFgTQxQZAeFp9/jSSRoUUpqYb297F1qqP2Pvj8\n",
       "H+GtaOspK3wOIZ0TvmlBTp8AR4Vf/NDIBW0ueAxY7R8xSegAHkojlLSySx43sTgT+357lKVwTNLG\n",
       "41INLxFWrurokNkP3GtawqcRM9xCJSXiS22bAd8Kgdj0Z50OFo0i3tfwcha9WYSBW8hzZIrfQMDy\n",
       "XizpgAfax27t2ei0A56dPk7yJm3oNa2DfwJjo25mjxWhC3jhR+Q8tfAnPQl2y94tNNvTh0CW6Cws\n",
       "gPif4P2JeI7x9FGcs+lJJn+Ai0ifJleIdhZayhFcQSMcSVWag9f4o3URiRTwBlxCjJkIXxJ25mXl\n",
       "onsvWVCAN7ufN9sUy//GCRm0wnN6hgGcFGAbc/fEy7RnRYMM/JYS/E0L4B4o5IpwQcSOOvkBaCLR\n",
       "vpAAmJHPWSc95fGLcAmZ9iKTLCzxHvAQofcU4aHjhtq7t6IP+KNUvO+zKyJHuLsEml2T6yUVEIf4\n",
       "riop3UBvUmzcaMIiFh63m53YIea9JO05ZUCjg+tvVlr0XHULmU61Sd10weP88HH8r4gpn+EAwzuf\n",
       "yWQMNQ6VE0lbyZIX4BNZpf4wc0BWdhJqV3PTVjoqeHVP7meKSpC343HP6xtarDzT99j0VFx0eB1p\n",
       "eI6mqV39V1xCS+/ZHFzwwuQKD4U5mory8HGsAW7DKyJ7WxHlBDgW4hD/hUhqNj8/U+o1iOfdpUOt\n",
       "wX0BPlSuXDZLpJ83WVHohmen55i34MV7eawhbqVTPcQKImko9KbMO0nwJ6AkL1Y9/slNoaT6JPVa\n",
       "5LjGrYp++7Cx6uk0Cx6Wo2fzmWYunQf76OsJqM8zvAsjP9LrTnGJW3ItH11hzNJTvlARHH9CSVik\n",
       "OR94yyhb5gtvs9xEz4cMcWXzUu5d/26gS9LSOEg5/g8j/C7G1RtrbuuP14bnLadSj33o5ZXEHbSP\n",
       "Me+7y445X966AZf5x0TG7Sqnrmk73Zej+IRu8j+hyHILTZkRv3OKm2/y/9x1WPDtP8CiUe4TfPUA\n",
       "AAAAAElFTkSuQmCC\n",
       "\" style=\"display:inline;vertical-align:middle;\" /></a> <a class=\"ProveItLink\" href=\"__pv_it/c57cb621afe804b483bbcf74223f83a841687f720/proof.ipynb\" style=\"text-decoration: none\">&#x22A2;&nbsp;</a><a class=\"ProveItLink\" href=\"../packages/proveit/__pv_it/e0e45b9393452be20ed9dd804d04d86a2899b1ba0/expr.ipynb\"><img src=\"data:image/png;base64,iVBORw0KGgoAAAANSUhEUgAAAEIAAAAVBAMAAAAA8SWUAAAAMFBMVEX////u7u5mZmaYmJi6urqq\n",
       "qqp2dnbMzMwQEBBEREQyMjLc3NwiIiJUVFSIiIgAAAAeC3ydAAAAAXRSTlMAQObYZgAAAWhJREFU\n",
       "KM+VUjtPwlAYPaWF0hJK40DURSZcHJgcnBydlNlBGwdH039QnUmUReOiMPgDWHREgombCZOLkhAG\n",
       "44IIPgYf0XOvNzxSFm9yv3v63XPP9yrwr7Ua8ujLwnZ+ms2bCoHZCD+al/YDsAo8bTfMsIUx34Eo\n",
       "N54mBNY9GueVoE+wN4Gh7dJYz0DyDTDKk7I/5E7xZq4IRITgRee83ZJX6SwSPWCLMPBg1kVSOYp6\n",
       "+lW8JhneGhyqrxN2b7ezotg4a4/RG/Vl/vkFWFReIS6pIlNkaEgWVYrYR4rxAuIvDBlUaqnPaA+B\n",
       "LxlmX7nieWEvffxpRsp4hIwi2iGXxUz1SheOKzl2Bic8lnjRU4xYBtjMHaMKTQSONIwXiGqnSt8q\n",
       "ssEqZx7SOzloB6xNO21/0ns22r7CABkVKVpTXR+sxeG8uO8xzdRjrbFJu6OMaxzRzo4NKTH4g8TD\n",
       "jbboz934HKuhyTo+fgFmwVFLOVAG8QAAAABJRU5ErkJggg==\n",
       "\" style=\"display:inline;vertical-align:middle;\" /></a></span><br>"
      ],
      "text/plain": [
       "multiDomainForallSpec: {forall_{(x, y) in S * R} P(x , y) , x in S , y in R} |- P(x , y)"
      ]
     },
     "execution_count": 84,
     "metadata": {},
     "output_type": "execute_result"
    }
   ],
   "source": [
    "assumptions = [multiDomainForall, InSet(x, S), InSet(y, R)]\n",
    "multiDomainForallSpec = multiDomainForall.specialize(assumptions=assumptions)"
   ]
  },
  {
   "cell_type": "code",
   "execution_count": 85,
   "metadata": {},
   "outputs": [
    {
     "data": {
      "text/html": [
       "<table><tr><th>&nbsp;</th><th>step type</th><th>requirements</th><th>statement</th></tr>\n",
       "<tr><td>0</td><td>specialization</td><td>1, 2, 3</td><td><span style=\"font-size:20px;\"><a class=\"ProveItLink\" href=\"__pv_it/ecb1d69e6fed3a3dc03eb739c41b1d43f71a0b3d0/expr.ipynb\"><img src=\"data:image/png;base64,iVBORw0KGgoAAAANSUhEUgAAATsAAAAaBAMAAAA6debTAAAAMFBMVEX///+6urp2dnaqqqoiIiIQ\n",
       "EBBERETu7u6IiIjc3NwyMjJUVFSYmJhmZmbMzMwAAAD0pS5FAAAAAXRSTlMAQObYZgAABOJJREFU\n",
       "WMPNV1toXEUY/vZ2LnsHRYxFskQlaaGYB5GgaJYaaNE+rFpQC9ZVyJLUQpdiY0ElB4txoY1ZtNRW\n",
       "xeyDINIWt1JLL9YcpQ/6UJvaVmprMGgFUdqEqk1q2sT/n3Nm95xkd5vFQjOw58ycf+af7799Mwsg\n",
       "+hMWYvOdsN6H8gsSHran+alNYIG2Z/kRKgDZ/6no9jlfvroB8NZKeEnufFPnam1o6vC+g9yLFucI\n",
       "I6M114aPjLwar6F3rcFZJ+HdxZ2P67UuRis7OXGDFbxfqLl0N9T11fWmoa52wttObz1dL7yxBNBO\n",
       "P+QqCL+utTJEqx6orpdcNxR3wGPzI631whsgFceHqfNUBeHGCt82fdTxqOgMUuh/rybEAEk/HXXA\n",
       "Cy/euXNb3anL4RkiozyVAqnMtTa6WyZBIwkvVhOik0ZTMrgKB/VyJrOMXh86F1zXm/8C6mUuAwqV\n",
       "3nKw7Yz4qi5NYDAL77Cc9vaWd/oNQWQlAIOTsnI2fA99wi0EQbuvVBoB7n0JdNMeCefuv5R6F5q2\n",
       "lgrx/msjXba9l4DzDCJo0jY4aq4Sn72ecQwQ6UuXqonwyoCghu5ycc7M2INEI7RxtzA6lTstzDlO\n",
       "iPVd3FsEldQpLud4ZeV7htFYpoQUgpZjtKmmpYuFgTQxQZAeFp9/jSSRoUUpqYb297F1qqP2Pvj8\n",
       "H+GtaOspK3wOIZ0TvmlBTp8AR4Vf/NDIBW0ueAxY7R8xSegAHkojlLSySx43sTgT+357lKVwTNLG\n",
       "41INLxFWrurokNkP3GtawqcRM9xCJSXiS22bAd8Kgdj0Z50OFo0i3tfwcha9WYSBW8hzZIrfQMDy\n",
       "XizpgAfax27t2ei0A56dPk7yJm3oNa2DfwJjo25mjxWhC3jhR+Q8tfAnPQl2y94tNNvTh0CW6Cws\n",
       "gPif4P2JeI7x9FGcs+lJJn+Ai0ifJleIdhZayhFcQSMcSVWag9f4o3URiRTwBlxCjJkIXxJ25mXl\n",
       "onsvWVCAN7ufN9sUy//GCRm0wnN6hgGcFGAbc/fEy7RnRYMM/JYS/E0L4B4o5IpwQcSOOvkBaCLR\n",
       "vpAAmJHPWSc95fGLcAmZ9iKTLCzxHvAQofcU4aHjhtq7t6IP+KNUvO+zKyJHuLsEml2T6yUVEIf4\n",
       "riop3UBvUmzcaMIiFh63m53YIea9JO05ZUCjg+tvVlr0XHULmU61Sd10weP88HH8r4gpn+EAwzuf\n",
       "yWQMNQ6VE0lbyZIX4BNZpf4wc0BWdhJqV3PTVjoqeHVP7meKSpC343HP6xtarDzT99j0VFx0eB1p\n",
       "eI6mqV39V1xCS+/ZHFzwwuQKD4U5mory8HGsAW7DKyJ7WxHlBDgW4hD/hUhqNj8/U+o1iOfdpUOt\n",
       "wX0BPlSuXDZLpJ83WVHohmen55i34MV7eawhbqVTPcQKImko9KbMO0nwJ6AkL1Y9/slNoaT6JPVa\n",
       "5LjGrYp++7Cx6uk0Cx6Wo2fzmWYunQf76OsJqM8zvAsjP9LrTnGJW3ItH11hzNJTvlARHH9CSVik\n",
       "OR94yyhb5gtvs9xEz4cMcWXzUu5d/26gS9LSOEg5/g8j/C7G1RtrbuuP14bnLadSj33o5ZXEHbSP\n",
       "Me+7y445X966AZf5x0TG7Sqnrmk73Zej+IRu8j+hyHILTZkRv3OKm2/y/9x1WPDtP8CiUe4TfPUA\n",
       "AAAAAElFTkSuQmCC\n",
       "\" style=\"display:inline;vertical-align:middle;\" /></a> <a class=\"ProveItLink\" href=\"__pv_it/c57cb621afe804b483bbcf74223f83a841687f720/proof.ipynb\" style=\"text-decoration: none\">&#x22A2;&nbsp;</a><a class=\"ProveItLink\" href=\"../packages/proveit/__pv_it/e0e45b9393452be20ed9dd804d04d86a2899b1ba0/expr.ipynb\"><img src=\"data:image/png;base64,iVBORw0KGgoAAAANSUhEUgAAAEIAAAAVBAMAAAAA8SWUAAAAMFBMVEX////u7u5mZmaYmJi6urqq\n",
       "qqp2dnbMzMwQEBBEREQyMjLc3NwiIiJUVFSIiIgAAAAeC3ydAAAAAXRSTlMAQObYZgAAAWhJREFU\n",
       "KM+VUjtPwlAYPaWF0hJK40DURSZcHJgcnBydlNlBGwdH039QnUmUReOiMPgDWHREgombCZOLkhAG\n",
       "44IIPgYf0XOvNzxSFm9yv3v63XPP9yrwr7Ua8ujLwnZ+ms2bCoHZCD+al/YDsAo8bTfMsIUx34Eo\n",
       "N54mBNY9GueVoE+wN4Gh7dJYz0DyDTDKk7I/5E7xZq4IRITgRee83ZJX6SwSPWCLMPBg1kVSOYp6\n",
       "+lW8JhneGhyqrxN2b7ezotg4a4/RG/Vl/vkFWFReIS6pIlNkaEgWVYrYR4rxAuIvDBlUaqnPaA+B\n",
       "LxlmX7nieWEvffxpRsp4hIwi2iGXxUz1SheOKzl2Bic8lnjRU4xYBtjMHaMKTQSONIwXiGqnSt8q\n",
       "ssEqZx7SOzloB6xNO21/0ns22r7CABkVKVpTXR+sxeG8uO8xzdRjrbFJu6OMaxzRzo4NKTH4g8TD\n",
       "jbboz934HKuhyTo+fgFmwVFLOVAG8QAAAABJRU5ErkJggg==\n",
       "\" style=\"display:inline;vertical-align:middle;\" /></a></span></td></tr>\n",
       "<tr><td>&nbsp;</td><td colspan=4 style=\"text-align:left\"><span style=\"font-size:20px;\"><a class=\"ProveItLink\" href=\"../packages/proveit/__pv_it/530be409e3083890784cf1d7b28c9e67e90af9360/expr.ipynb\"><img src=\"data:image/png;base64,iVBORw0KGgoAAAANSUhEUgAAAAsAAAAJBAMAAAAWSsseAAAAKlBMVEX///9ERETMzMwQEBAiIiKY\n",
       "mJju7u5mZmaqqqpUVFSIiIh2dnbc3NwAAAA/vyDhAAAAAXRSTlMAQObYZgAAAENJREFUCNdjYDi9\n",
       "8sTyBQxsG1hdmR0YuBm4LnAoMLAxcAowgADzAjB1VoEhgYH1wFoGrgSG3gBhhlMMDImrs3cFMAAA\n",
       "t0YN+iTRa+sAAAAASUVORK5CYII=\n",
       "\" style=\"display:inline;vertical-align:middle;\" /></a> : <a class=\"ProveItLink\" href=\"../packages/proveit/__pv_it/530be409e3083890784cf1d7b28c9e67e90af9360/expr.ipynb\"><img src=\"data:image/png;base64,iVBORw0KGgoAAAANSUhEUgAAAAsAAAAJBAMAAAAWSsseAAAAKlBMVEX///9ERETMzMwQEBAiIiKY\n",
       "mJju7u5mZmaqqqpUVFSIiIh2dnbc3NwAAAA/vyDhAAAAAXRSTlMAQObYZgAAAENJREFUCNdjYDi9\n",
       "8sTyBQxsG1hdmR0YuBm4LnAoMLAxcAowgADzAjB1VoEhgYH1wFoGrgSG3gBhhlMMDImrs3cFMAAA\n",
       "t0YN+iTRa+sAAAAASUVORK5CYII=\n",
       "\" style=\"display:inline;vertical-align:middle;\" /></a>, <a class=\"ProveItLink\" href=\"../packages/proveit/__pv_it/f8b9edf8e16034727f0aad55bb83e392c3db40d40/expr.ipynb\"><img src=\"data:image/png;base64,iVBORw0KGgoAAAANSUhEUgAAAAsAAAANBAMAAACN24kIAAAAMFBMVEX///+YmJhUVFQyMjIQEBBE\n",
       "REQiIiKqqqrMzMyIiIi6urrc3NxmZmZ2dnbu7u4AAADXeCicAAAAAXRSTlMAQObYZgAAAFhJREFU\n",
       "CNdj4LtzgWH/AwZerg8M8xkY2nkSGEIZGB6wTGD4ycDAUP+A4weQOszA6QCkbBhYFYDUIYb1AkDq\n",
       "6czzGxhA4BoQMyXwuQMptgusF4AU+8xTQBIAUqMVoSp/SLMAAAAASUVORK5CYII=\n",
       "\" style=\"display:inline;vertical-align:middle;\" /></a> : <a class=\"ProveItLink\" href=\"../packages/proveit/__pv_it/f8b9edf8e16034727f0aad55bb83e392c3db40d40/expr.ipynb\"><img src=\"data:image/png;base64,iVBORw0KGgoAAAANSUhEUgAAAAsAAAANBAMAAACN24kIAAAAMFBMVEX///+YmJhUVFQyMjIQEBBE\n",
       "REQiIiKqqqrMzMyIiIi6urrc3NxmZmZ2dnbu7u4AAADXeCicAAAAAXRSTlMAQObYZgAAAFhJREFU\n",
       "CNdj4LtzgWH/AwZerg8M8xkY2nkSGEIZGB6wTGD4ycDAUP+A4weQOszA6QCkbBhYFYDUIYb1AkDq\n",
       "6czzGxhA4BoQMyXwuQMptgusF4AU+8xTQBIAUqMVoSp/SLMAAAAASUVORK5CYII=\n",
       "\" style=\"display:inline;vertical-align:middle;\" /></a></span></td></tr><tr><td>1</td><td>assumption</td><td></td><td><span style=\"font-size:20px;\"><a class=\"ProveItLink\" href=\"__pv_it/e89a1914697bfd1c523afceda4a33dc6b77367570/expr.ipynb\"><img src=\"data:image/png;base64,iVBORw0KGgoAAAANSUhEUgAAAL8AAAAaBAMAAAAUFZBoAAAAMFBMVEX///+6urp2dnaqqqoiIiIQ\n",
       "EBBERETu7u6IiIjc3NwyMjJUVFSYmJhmZmbMzMwAAAD0pS5FAAAAAXRSTlMAQObYZgAAA3NJREFU\n",
       "SMe9Vl1IVEEU/vbv3l1397pQRBbhYoUmBD6FEOVSDwoWbD9QPiTWw6IReAmyIMILggla7oNYFtS+\n",
       "RVigPkhlxRY+1INlSWCZJP28FOaWkf2pnTP33v1xF2wRG9iZc8/MnO/Md86cWQDKayxPsz3Txzvh\n",
       "ZQJAZw33zhksWzvEnTsCqEs0tDpN80D0R02AAAuPsjXbOj8wUMn8Kj1pc94Jwb4JsJ6Fa1k7/guQ\n",
       "qmjMycBAJAWgk0ZXTbb2la+UKfRDS4bJhykA7IK3JFsA5xfAM0vCgQyTJ1IAPJu6ujqyZkiK0e5p\n",
       "wBLJNFliAkhMzfdQaAcNV5KXLHqiXDLcSLu9fiK46HbpqNDKm/24qsI6bAI4NOruA3W0yp+8/21c\n",
       "mixomzDlLbPjtYY45Yeym2McBY5jMLpfaK2WGNopOHysp0S9q5u1ayGTQkpx0OozBMsw8uNaTxA5\n",
       "w7rY3lfwnLPUQQv9ZHS70L7zBhCiTUFO1uvAoPDNDie5UZoCwJDyufEoTSZBu2vgDuhivZGduT6+\n",
       "qv3GApUo+UEpFuOPDg22CpEQUbsqWEpuxFtz3kkVjSo8wArynpyxa3AYJ/iGBABw0NxWpipzBoBn\n",
       "J3WNUeHtJ+rpVEW9rWTF0gyHSuntEabse9kCpfEQL5/AmHENZg2LDk4H1xxk/fMVnEGDorKwmUWo\n",
       "66UdEVjVfl5+Kjf8gQOTo3P1Yp5NjAi4/JaNvsQ10DOSXHzsjOGsDnETEpUOTyT5HgDbiFdLDyy4\n",
       "wV8XVqIZ+BhPpMsiYvdYLIbTSHvJLMOUkbY/UtCloZGjM4b8KJLSVAfgZLVxzfop9vThFgO8D4VC\n",
       "muyDzIQ6d/HMEdhE+HCm/rdmZFkAcm1hQRtdX97d0PKGmMnxpQJ4KMYWIksJKvy5B9XAKpwWD1MJ\n",
       "FKZxyM1ETcMbXHjjquJSnug3pJUKIy8DmLJGrLgURjXdFqpXbg6StwYSjRSBEXJgBlLgc6bCJhpx\n",
       "4w7I+0gqygCAcjQ0jRZiKoqtzaR9BvkwA0yOv6RhnSjyxbNhpUJbAJAo1wRg90t+/RKlAzSZy1xh\n",
       "tyZKupVisHjVc5kPjpMZbeG3XpxdB7AmKG0wEjws+dfQSu2f6+rFNM150VcK5rsT/zOierkhL+iU\n",
       "7iW/+d5y3d7duOZJ8nThkv8XHcN/aH8BkNLcQqEU1PQAAAAASUVORK5CYII=\n",
       "\" style=\"display:inline;vertical-align:middle;\" /></a> <a class=\"ProveItLink\" href=\"__pv_it/67677f4e9ffe995b9723d8557b85b526903ec5b40/proof.ipynb\" style=\"text-decoration: none\">&#x22A2;&nbsp;</a><a class=\"ProveItLink\" href=\"__pv_it/cd25ad242d6abbbc7fa1cc90a723fe6ddf0c080f0/expr.ipynb\"><img src=\"data:image/png;base64,iVBORw0KGgoAAAANSUhEUgAAAKkAAAAXBAMAAACCO3IZAAAAMFBMVEX///8QEBC6urrMzMxUVFRm\n",
       "ZmZERETc3NwyMjKqqqp2dnaIiIiYmJgiIiLu7u4AAAAU9Wx4AAAAAXRSTlMAQObYZgAAAw1JREFU\n",
       "OMu1VUtoE2EQ/pLdbJJNsg32UFSUHNQqIq1oQQVpqbVCvcTSorUHi4cU7KELihVEzcWbSMHHpQfX\n",
       "g1hbLAvWQEmxi1IERchBLyqygvagYII1an20zuxuHm0CNVQXNv/szD+P//u/mQD/5TFX6L+1RPOQ\n",
       "3hQLTyuNNb7Q0vJcJUFoKrF56oE7LFyuuMTvgFRDq6/MWePAaVq8PZUGFX4AfnqRLGN8YifzDFYa\n",
       "NfAZCGZJWF/G+JZstwcGzlUMgJQBxDnAHS9npCK/xmIvSTxZrF+29iqKlibcPBrhN3pgqNvSKrc0\n",
       "XDAhR4F9QC+ZtGKnPXmpYWSyPidfz3b2OWKjBuEFX5YBfMAzY52lld0ZTBHglHIDFPqVFpUiRxzB\n",
       "HUVdXhsMwxe1xam2kaNMLBdt1CjSFUu725NCjJzCQAgBSji0KCrnUe53GmQsyif2QEzZYr9DqKoI\n",
       "91FrrqNcOn4SQQj0gBEyLRCKH4IlUfvJRNpEENhCdRIOIR0up9bfKEQF1ubcbpjCrB1Vie+kbyp6\n",
       "tHmcXN0JuEyiYdDyD61hN2LeNC3penQ4dM06YVx8r95ZKPbnEQTCNgLobaZtcchmK+/5WKVuZ7B9\n",
       "NhSHFtivy8pRl7wZKdDVJhGB9ziQwQM77kVI1MFBpts1wsrdBDcuseH8NiSAXXkanOLEnv0sDiPg\n",
       "0FOaz11rFP5fUtirI82Id6DOsJR0Cp3IwEPim7WxDQc56t5YLKYrESgZru01W07An7G2vO//ojsc\n",
       "SUHpGxuZpIZi75nkMWKGj08UpMtyE6OFsMAbV6Ea2IR3LPsHIfCMmBYZhzl4wkvboSYv1Vq/d+2O\n",
       "daiUQqMcl3FGRTVRmQaEyHT09ECilVDtoqzzkFI7SieJ89DRxZSymqTRvO4NZia6x9Bo4GqCwGuH\n",
       "cpyjNnQepmWjNTSHs6rwSl8StTAJKWpIkzSb7M4zkbN5VVG3RqRMuC4/Zry5qR1gwJLt3Cxq3jrj\n",
       "EFGVtM1k1v96ep0t0dwriH7DbnXKR4cQ/9W/4qPij7EVBvsDfRe8Yd7EKjcAAAAASUVORK5CYII=\n",
       "\" style=\"display:inline;vertical-align:middle;\" /></a></span></td></tr>\n",
       "<tr><td>2</td><td>assumption</td><td></td><td><span style=\"font-size:20px;\"><a class=\"ProveItLink\" href=\"__pv_it/99f29ad2cfa2aa35db8f5c4e30883916a5719d960/expr.ipynb\"><img src=\"data:image/png;base64,iVBORw0KGgoAAAANSUhEUgAAAEUAAAAVBAMAAADiLT7tAAAAMFBMVEX///9ERETc3NyqqqpUVFS6\n",
       "urrMzMwyMjIQEBCIiIh2dnYiIiLu7u5mZmaYmJgAAABJJ2g3AAAAAXRSTlMAQObYZgAAAS5JREFU\n",
       "KM9jYGDgu8eAE7CtUgBRPLsY8AC2ZhDJ+QGH9JO7d54yMFwHMbkasCthf8BwEKh9BT41XgwMzAVY\n",
       "1fBM3727AMRg+gZ0zASsatLfQBmsn4FqEpDUMK10srwJ1i0DU8z0fxqYBqvhBRp9iuH1g24Qh1EB\n",
       "buL8/x9BnPcgdkYAA8MChvkMZiDOQYStTE/6e0Deu8DAkNIGZBxgcIRIROzeDXUzyBX/QKT4A6Bw\n",
       "AojVCRFOgRsDlOEBqeFeACRYCiA+5QHJnIaHAdAKpk8w93BtYGB4BIyQOSAOywOoGlDw8TowIPzO\n",
       "/I+xgWkCWPtWqBrenQwMExmQ1PBIrlk1DyKnfg1Cs7C6OD5AVoMMTKrh/mLApQYdgNXw4VcDTj88\n",
       "O/Gmw1YwxbeYQHoGAFY/Uyol8OnkAAAAAElFTkSuQmCC\n",
       "\" style=\"display:inline;vertical-align:middle;\" /></a> <a class=\"ProveItLink\" href=\"__pv_it/30cdef8b38e61bf13828c7ce4c78cf6d4928a2650/proof.ipynb\" style=\"text-decoration: none\">&#x22A2;&nbsp;</a><a class=\"ProveItLink\" href=\"__pv_it/1a5edcc057c65f4f25007410b60206f5c08ed0560/expr.ipynb\"><img src=\"data:image/png;base64,iVBORw0KGgoAAAANSUhEUgAAADMAAAAPBAMAAAC7N+rPAAAAMFBMVEX///+6uroyMjJERETMzMwQ\n",
       "EBAiIiKYmJju7u5mZmaqqqpUVFSIiIh2dnbc3NwAAAAWgogoAAAAAXRSTlMAQObYZgAAAM1JREFU\n",
       "GNNjYMAG2HfObBfAKsOgzsBhj12G+wIDwyIUkR61tCQw470DA4MPsgyLegOUJb+AgcEFSL89/erk\n",
       "AZDAY5gMw/s/DiCK4wJ7OmsCiGUH18/z/z+Iw8vA84ELpIjDAGH2861fgUZwMHBDxBjD0tKgzgCC\n",
       "+wUgkvUAxBUb4B4G4v4CqFNBDuBIgEl1ggQfAJU8OM/AA3bbdpgUyLezgXh9gSnDG7BIGyzUph1g\n",
       "4AHZ33y29w7YXAY+TQeI1Abp3eZoQce1CeFCIAAAnqEy768c/WoAAAAASUVORK5CYII=\n",
       "\" style=\"display:inline;vertical-align:middle;\" /></a></span></td></tr>\n",
       "<tr><td>3</td><td>assumption</td><td></td><td><span style=\"font-size:20px;\"><a class=\"ProveItLink\" href=\"__pv_it/434ace3bf8d0b4b5b5603304cac3e418941f0e280/expr.ipynb\"><img src=\"data:image/png;base64,iVBORw0KGgoAAAANSUhEUgAAAEcAAAAVBAMAAADm2O7QAAAAMFBMVEX///9ERETc3NyqqqpUVFS6\n",
       "urrMzMwyMjIQEBCIiIh2dnYiIiLu7u5mZmaYmJgAAABJJ2g3AAAAAXRSTlMAQObYZgAAAU5JREFU\n",
       "KM9jYGDgu8eAG7CtUgBRPLsY8AG2ZhDJ+QG77JT/Lo6VQPo6iMPVgMOMjwwMJwoYGFbgU8T2k4GB\n",
       "5StWRSerd2+HsDi/MTCwf8OmiK3uAIzJCBTPd0BSxLN2AYM+SFoRroaB34GBeScDVBEv0HFcrB8Y\n",
       "5oM4QghD8z3ndoLo9yAiI4CBIZl3A4MgKMwEEIrmH2CwTwDS7BcYGFLagIwDHBMYgJ5hYO3evRvm\n",
       "cAmwjUAg/oCBIQKk3P4A2zeQux0QJn1hYNAHcbkXAAmWAnCwcoI8ybMB4c9/QOcsgLmJCyRRy8AI\n",
       "NsQPrggUTPcn8CCH0xWG+AcgzukAeDABo3T+BD1kRQdn3gcnCabaBIias/JfJjDwVk5ADfHVEElm\n",
       "d5jvYACuiGUDTzOuBAVWxNcA8ibjAlyKwOmJBxhBzDOv4kyZrWCKbzGhNA4AlldaZ/AH334AAAAA\n",
       "SUVORK5CYII=\n",
       "\" style=\"display:inline;vertical-align:middle;\" /></a> <a class=\"ProveItLink\" href=\"__pv_it/dbc17b0169743ee40da7c993f2b9324fe95844ac0/proof.ipynb\" style=\"text-decoration: none\">&#x22A2;&nbsp;</a><a class=\"ProveItLink\" href=\"__pv_it/304f80a086ce2279ef7adb379c5e865af0d14e320/expr.ipynb\"><img src=\"data:image/png;base64,iVBORw0KGgoAAAANSUhEUgAAADQAAAASBAMAAADmo+DzAAAAMFBMVEX///+YmJhUVFQyMjIQEBBE\n",
       "REQiIiKqqqrMzMyIiIi6urrc3NxmZmZ2dnbu7u4AAADXeCicAAAAAXRSTlMAQObYZgAAAPVJREFU\n",
       "GNNjYMACJv1XUrVkwA6+MjA8McAqw/GTgYHpF5LAS7O0ZAiL8wcDA/MPJKWGD2BMVgcGhn4FBr47\n",
       "Fxj2gwS3wmUY+BUY2DMZGHi5PjDMB/GjEQb0a87xBFLtPAkMoUCaLwAhNf8BQ30DA8MDlgkMQAcx\n",
       "cLmlpcGcEQI2k4Gh/gEHyDEcCghdnxgY9oO4hxk4HUAGJiDc+pGBQf4CkGHDwArWoAiXAnnr/AQ+\n",
       "BoZDDOsFQALPFsC99QHokgkbGRiezjy/ASTAbdMAkXkT/2kCA4/lBBD7GkSIXRnmQihgSuBzxxH+\n",
       "bBdYL+CQYp95CocMAERHO66SNiCSAAAAAElFTkSuQmCC\n",
       "\" style=\"display:inline;vertical-align:middle;\" /></a></span></td></tr>\n",
       "</table>"
      ],
      "text/plain": [
       "\tstep type\trequirements\tstatement\n",
       "0\tspecialization\t1, 2, 3\t{forall_{(x, y) in S * R} P(x , y) , x in S , y in R} |- P(x , y)\n",
       "\tx : x, y : y\n",
       "1\tassumption\t\t{forall_{(x, y) in S * R} P(x , y)} |- forall_{(x, y) in S * R} P(x , y)\n",
       "2\tassumption\t\t{x in S} |- x in S\n",
       "3\tassumption\t\t{y in R} |- y in R"
      ]
     },
     "execution_count": 85,
     "metadata": {},
     "output_type": "execute_result"
    }
   ],
   "source": [
    "multiDomainForallSpec.proof()"
   ]
  },
  {
   "cell_type": "markdown",
   "metadata": {},
   "source": [
    "Universal quantification over an unspecified number of **variables** via **iterations** will be discussed in the chapter on <a href=\"tutorial11_advanced_proofs.ipynb\">proofs using advanced expressions</a>."
   ]
  },
  {
   "cell_type": "markdown",
   "metadata": {},
   "source": [
    "Generalization\n",
    "========\n",
    "\n",
    "*Generalization* is the \"inverse\" of *specialization* just as *hypothetical reasoning* was the \"inverse\" of *modus ponens*.  We can write these derivation rules in a manner that makes this relationship clear (just as we did for *hypothetical reasoning* and *modus ponens*):\n",
    "\n",
    "Specialization: \n",
    "$\\begin{array}{c}\n",
    "\\boldsymbol{\\vdash} \\forall_{x \\in S~|~Q(x)} P(x) \\\\\n",
    "\\hline\n",
    "\\left \\{\\clubsuit \\in S,~Q(\\clubsuit) \\right \\} \\boldsymbol{\\vdash} P(\\clubsuit)\n",
    "\\end{array}$\n",
    "\n",
    "Generalization: \n",
    "$\\begin{array}{c}\n",
    "\\left \\{ x \\in S,~Q(x) \\right \\} \\boldsymbol{\\vdash} P(x) \\\\\n",
    "\\hline\n",
    "\\boldsymbol{\\vdash} \\forall_{x \\in S~|~Q(x)} P(x)\n",
    "\\end{array}$\n",
    "\n",
    "$P(x)$ and $Q(x)$ are intended to represent any function of $x$.\n",
    "There is some asymmetry between *specialization* and *generalization*.  $\\clubsuit$ here is meant to represent *any* **expression**, not necessarily a **variable**, as long is it does not violate scoping restrictions (*e.g.*, having a free **variable** that is the same as a **lambda** *parameter* within the $P$ or $Q$ functions).  However, *generalization* only applies to an unbound **variable**.  In Prove-It, an unbound **variable** is regarded as an \"arbitrary\" variable.  Essentially, it is implicitly universally quantified.  Recall that *modus ponens* converts an explicit antecedent to an implicit assumption and *hypothetical reasoning* does the opposite.  Similarly, *specialization* converts an explicit universal quantification to implicit arbitrary variables and *generalization* does the opposite.  The reason for having the explicit and implicit forms is much the same as it was for the antecedent versus assumption.  The explicit form allows nesting but the implicit form provides direct access to the instance expression.  Furthermore, explicit universal quantification offers the power of being able to *specialize* an instance variable to an arbitrary **expression**.\n",
    "\n",
    "The above derivation rules are expressed for a single **variable**.  Such rules apply more generally to any number of **variables** (including an unspecified number of **variables** via **iterations** discussed in in the chapter on <a href=\"tutorial11_advanced_proofs.ipynb\">proofs using advanced expressions</a>).\n",
    "\n",
    "The following examples will start from a *specialization* instance of the `substitution` **known truth** visited earlier:"
   ]
  },
  {
   "cell_type": "code",
   "execution_count": 86,
   "metadata": {},
   "outputs": [
    {
     "data": {
      "text/html": [
       "<span style=\"font-size:20px;\"> <a class=\"ProveItLink\" href=\"../packages/proveit/logic/equality/_axioms_.ipynb#substitution\" style=\"text-decoration: none\">&#x22A2;&nbsp;</a><a class=\"ProveItLink\" href=\"../packages/proveit/logic/equality/__pv_it/8d36a51e21a3e1f2d1a576f0cfdfe721d403af1e0/expr.ipynb\"><img src=\"data:image/png;base64,iVBORw0KGgoAAAANSUhEUgAAAO8AAAAXBAMAAAARnwX+AAAAMFBMVEX///8QEBC6urrMzMxUVFRm\n",
       "ZmZERETc3NwyMjKqqqp2dnaIiIiYmJgiIiLu7u4AAAAU9Wx4AAAAAXRSTlMAQObYZgAAAvdJREFU\n",
       "SMfFVj1oFEEUfvef293bHKayECJYpIk5wcYqRyRGTBPUQgyiNonCgVuI8QfNIggWEq5QsLttDglB\n",
       "OTAemhRZJIVoc7UorE0QLXIYMIUiznszO7O3uznJQfDBm/123jfzZt+99+YA/pd4vS5MNqLYGPw3\n",
       "/63QFr586MHxURzMyQmJUc7EEEOcTInrIr4s9OCY1mQXf3es74shhjk21xvskbu0e786RW7zcFVi\n",
       "irUTZYY577n2sR85U9294wQlRy2AKazFKDPM+cLVeDY3d7eHSA/ReCGASa5GmWFOtsr158zMxx4c\n",
       "n8dh/cC4j28v33rFolmPEBXHrDsw74E2BaTHAWYxSOON6O5dquMRjb98bDrGpwSrkKeUuA9JytDJ\n",
       "0ZJtWAPI21wPgYl5llmZiu7eJen24ZDb8rEGejvPiuRghKg4xzItmGEFXeRaAN1lhkLc13Vx/AOH\n",
       "fNvHJqSJPBohKo6XaODnp9pcdbeACdfv9eBYaymcaMQ7DnBqXmpLOTZt7CnGtWk0L40ts3glmyL7\n",
       "uWM+SW2vKctiPyVoWeH5ErZfCnXmMwlfHeCcA72oQg2zY2h4R6fzTiRYon/vt46oL6bJk5gtDWkA\n",
       "qKivRGxYa6B7YpvOgpcceECnMGyu8IRiQXWQ5Ml6bxiayrGY7DAI/uagj2vuZbgDceWkOHAWRlyQ\n",
       "5SSOVOG0bRpPwWTwN96Wu/gGgGEcRjwfb6x8W8IcvR9xrDiwsXrRYr1ykCsYniwPSBVT/GUg4Bgn\n",
       "r1CopYEdl20BrwN4p5bZwXmuWqa/4g/ATWtUszX2gIFkWzmmSSG+ga4Do1wJXw1auAsFOemWiSm2\n",
       "JBTEVzEP7sab6RfsAY+btnJMk0J8A11ziYVW8IpE+RpJrQCn4GQdoHZl2upk+Gu7HLs5K92IrWNp\n",
       "YHIdjLolsZCJsOMgJ796mj3TFldxga+zSk3x15SVdYbiG4g04CECUfWxXtq54/icl0LF/xEMuiEO\n",
       "yY7mxDuWhr2W8t5t/RfNBeNeS11EOAAAAABJRU5ErkJggg==\n",
       "\" style=\"display:inline;vertical-align:middle;\" /></a></span>"
      ],
      "text/plain": [
       "|- forall_{f, x, y | x = y} (f(x) = f(y))"
      ]
     },
     "execution_count": 86,
     "metadata": {},
     "output_type": "execute_result"
    }
   ],
   "source": [
    "substitution"
   ]
  },
  {
   "cell_type": "code",
   "execution_count": 87,
   "metadata": {},
   "outputs": [
    {
     "data": {
      "text/html": [
       "<strong id=\"operationSubstitution\">operationSubstitution:</strong> <span style=\"font-size:20px;\"><a class=\"ProveItLink\" href=\"__pv_it/827d9b00c56febbd74ae7433c9d042fcf629f8d90/expr.ipynb\"><img src=\"data:image/png;base64,iVBORw0KGgoAAAANSUhEUgAAAEUAAAAVBAMAAADiLT7tAAAAMFBMVEX///9ERETc3NyqqqpUVFS6\n",
       "urrMzMwyMjIQEBCIiIh2dnYiIiLu7u5mZmaYmJgAAABJJ2g3AAAAAXRSTlMAQObYZgAAAPZJREFU\n",
       "KM9jYGDgu8eAE7CtUgBRPLsY8AC2ZhDJ+QGfGobrIIKrAa+aFQOhhmmlk+VNNMlTtxiY/kDV8BYA\n",
       "+QyvH3SDfVEOAiUg5oJ4sJffg9gZAUA+w3wGM7SAMbjNwCjAwMB+gYEhpQ0ocIDBEd0dPAydDPwT\n",
       "gAzxBwwMEQkgoU4MxzL/YcgHSnEvALJZgO5hYPoG1AgEt3eDwEaoO2cwQN3DtYGB4RHQdXPQzAE6\n",
       "RATJ78z/GBuYJqCp4XVg/Yekhkdyzap5GI6WnPuJcDiDXIFfjTfDCQOYGj4canYxSMHTD89O7Gos\n",
       "5waAgrsVzOFbTCA9AwDSkUcoxLKrOwAAAABJRU5ErkJggg==\n",
       "\" style=\"display:inline;vertical-align:middle;\" /></a> <a class=\"ProveItLink\" href=\"__pv_it/201edbfee8a0422018f00801786c27aa59e973a20/proof.ipynb\" style=\"text-decoration: none\">&#x22A2;&nbsp;</a><a class=\"ProveItLink\" href=\"__pv_it/d85965e01e600ea9fa6e3165887470cf8b919ee00/expr.ipynb\"><img src=\"data:image/png;base64,iVBORw0KGgoAAAANSUhEUgAAAJcAAAAVBAMAAAC5yWGZAAAAMFBMVEX////c3NwiIiJERESqqqqY\n",
       "mJh2dnZmZmYQEBDu7u4yMjJUVFTMzMyIiIi6uroAAAAs73DqAAAAAXRSTlMAQObYZgAAAgJJREFU\n",
       "OMutlD9IHEEUxr/z9v6s655biM0hdwiSNMJBDNiEiKUYbqsUFmGxsTIIgRQmJCdYpZAVIYiNiyDi\n",
       "CmLagGQh6VJ4lRbxVKwkJLgQ7TTkzWhxb3ZHEDLFzsybb3773puZB/zXVmrqVnIn91G/EJ/v+v+8\n",
       "TZr06kJEn009rDNpukMdADb3e5HF6akbuNp02mfPgaLP1M+YuKHCuNpg6GXgJ/QwDKkwruaw7Ahe\n",
       "U9f7o+egyWHl/TOKYUqFkdqc8lDxGSyz+3IOyM9gnZa93ECxymClOTylbkweUyjbjhiTOl+Kccw9\n",
       "O3OyMc0CLNAy7NiIGKzi4pVQqZ6R+luhikcMlrlEoUYONPCXPINVU3L2BRikbk+FkdovNnHNYFaM\n",
       "Dhp1xWKZDunGOhuGD8Nwi0Z/YF5pYKj7XVc30a99kNF317AaSdi8jCqC3+5Z5hpGbN6GWeiXTTov\n",
       "1LOwG8yzShN12k9hPqa76RzDZjDzAlYwDkyonpEaG8juMNjqCD5TznOBOP26O4w+nrN1jM54KVdD\n",
       "GN7g3GWwTtd4kJdX4xRY2v847XJYufXrCdWMbRVGaiy13jv8NHePvh4R8wRF517PSaondc9Jecy/\n",
       "2yf5RPEitVU151OL2/TdRWUlrQR1eFkvTWwGIj162KekqQyj9S5VbIkMZLSF2I6SNr36EPgH20mL\n",
       "sNLZVokAAAAASUVORK5CYII=\n",
       "\" style=\"display:inline;vertical-align:middle;\" /></a></span><br>"
      ],
      "text/plain": [
       "operationSubstitution: {x = y} |- (x + a) = (y + a)"
      ]
     },
     "execution_count": 87,
     "metadata": {},
     "output_type": "execute_result"
    }
   ],
   "source": [
    "operationSubstitution = substitution.specialize({f:Lambda(x, Add(x, a)), x:x, y:y}, assumptions=[Equals(x, y)])"
   ]
  },
  {
   "cell_type": "markdown",
   "metadata": {},
   "source": [
    "First, we try to *generalize* this **known truth** for all instances of $a$, $x$, and $y$ without any conditions or domain restrictions:"
   ]
  },
  {
   "cell_type": "code",
   "execution_count": 88,
   "metadata": {},
   "outputs": [
    {
     "name": "stdout",
     "output_type": "stream",
     "text": [
      "EXPECTED ERROR: Unable to prove forall_{a, x, y} ((x + a) = (y + a)) assuming {x = y}: Cannot generalize using assumptions that involve any of the new forall variables (except as assumptions are eliminated via conditions or domains)\n"
     ]
    }
   ],
   "source": [
    "from proveit import GeneralizationFailure\n",
    "try:\n",
    "    operationSubstitution.generalize((a, x, y))\n",
    "    assert False, \"Expecting a GeneralizationFailure error; should not make it to this point\"\n",
    "except GeneralizationFailure as e:\n",
    "    print('EXPECTED ERROR:', e)"
   ]
  },
  {
   "cell_type": "markdown",
   "metadata": {},
   "source": [
    "That `generalize()` attempt fails because the assumptions of the original **known truth** involve the same **variables** that we are trying to *generalize* over.  That is not allowed because universal quantification introduces a new scope for $x$ and $y$ (as well as $a$) and the $x=y$ assumption would be external to this scope.  If, however, this assumption is introduced as a condition of the new universal quantification, then we no longer need to retain it as an assumption.  That assumption will be absorbed into the universal quantification conditions."
   ]
  },
  {
   "cell_type": "code",
   "execution_count": 89,
   "metadata": {},
   "outputs": [
    {
     "data": {
      "text/html": [
       "<span style=\"font-size:20px;\"> <a class=\"ProveItLink\" href=\"__pv_it/a355ad9d86e3cd058a9b06d4963963fbd3031fe80/proof.ipynb\" style=\"text-decoration: none\">&#x22A2;&nbsp;</a><a class=\"ProveItLink\" href=\"__pv_it/57abf339b446eaa6b6388fa97de341808dd8a4520/expr.ipynb\"><img src=\"data:image/png;base64,iVBORw0KGgoAAAANSUhEUgAAARcAAAAXBAMAAADTihZTAAAAMFBMVEX///8QEBC6urrMzMxUVFRm\n",
       "ZmZERETc3NwyMjKqqqp2dnaIiIiYmJgiIiLu7u4AAAAU9Wx4AAAAAXRSTlMAQObYZgAAA2FJREFU\n",
       "SMfNVl9o00Ac/rVJmzZp0+Ie5l6kQx8GYywDEQShYwMV++BQkeEEK8KmTjAP001FG0Sh4BwDHQhD\n",
       "FoShMhxlzoHtw4JP4kDqgwj+gejDFH1YcbAhE/GSu6y57jJcH9QffL1ccl/v437/DuB/MrNaoj+H\n",
       "wbZIgs1g2zOCojWZq0LMdgIPO8hmsC2gYDy0JkNViBlanxdiMzxMwziPBiG9cS1SDsNlnyk/6SxG\n",
       "2WTVPXuBEUJBExjeuBifieGyUWqzOItRtjAl7SNG5H5//+UqvNRA4CUGTrEYXmKCwxhL3d1vqxBz\n",
       "hODi9IUnOVpMX74e+WCcwZDHdciYlBghda8WQOzAaAfo8dox4S1mEEPWI+99RUqMvxbOouGOnSZZ\n",
       "21oJQ/SXYJY+mXo1WEIzDWMbyJrXjusE9iYMEaRSWKHEZAw4bO3CYOwMFKGbEiP8hADaxR/HiIJk\n",
       "VCHmO4YMfLoiZvYDvENDksEwfTlYocTwJYiiJ66EIRlRs3oxKEnwv3Zms6+y2WvoaQnkRQ8xMGZy\n",
       "i9h7Nzfb3oulYUEpi5E1qzKey5+wCBNt0+iTf4bkoS1GnG5sJ//XmIYt5LGOADKK01LwyQgrEC7J\n",
       "xE2BD7alHUYnSHHqZDI5GEN8x03Q04YUvRF+Wfuau30owb7F1JbyyUzy6TreCsMbcm6Zc8rHGYyI\n",
       "OgsSJUb+Abx2C+B55clYjOsQbKXELAzDXhRzERS2FmAEJQPfwVkp4beTBK40wUxZTCLkxJTwqSg5\n",
       "nhvHGDOOwyU6ZgbhbofOSG3rxSFoNigxISP8Wiyntu30WELCipft332QcsVMbLVy8zrv1KomjPn8\n",
       "1wmDFtNX2NqLasLVSjEWY75wTKWzKTW1YwppSmBABJ3yghl8aa3i4hzOwhqXmBZQgrabwJfwKU5x\n",
       "VzE20A7s1Y/WawdO30juMgfUpKiJMKBCDSpOjhiu9ACcpudTmt2NsKIZNron4prLC1rNF+U65uVm\n",
       "ggB/6po7Cklj/mnXJBrg9oy2KkbuHck7uR9OnfzTK8QX1hUiqgd11mKr7FaWXuJ8Q1BJaFTWmX4S\n",
       "S3ZoEHjYnrWv+iBcOMBczKsYLuNUMgT1BnbRO+0vyxdyGB7XHWXtO+/VjwncTnWGcEFnixnN/8Pb\n",
       "euvf3e43g1L5CejeiO4AAAAASUVORK5CYII=\n",
       "\" style=\"display:inline;vertical-align:middle;\" /></a></span>"
      ],
      "text/plain": [
       "|- forall_{a, x, y | x = y} ((x + a) = (y + a))"
      ]
     },
     "execution_count": 89,
     "metadata": {},
     "output_type": "execute_result"
    }
   ],
   "source": [
    "operationSubstitution.generalize((a, x, y), conditions=[x_eq_y])"
   ]
  },
  {
   "cell_type": "markdown",
   "metadata": {},
   "source": [
    "Adding additional restrictions, such as a domain and/or other conditions, only makes the statement weaker and is therefore allowed:"
   ]
  },
  {
   "cell_type": "code",
   "execution_count": 90,
   "metadata": {},
   "outputs": [
    {
     "data": {
      "text/html": [
       "<span style=\"font-size:20px;\"> <a class=\"ProveItLink\" href=\"__pv_it/987cecbc60613622d539fe1cbd16a2bfb6b009400/proof.ipynb\" style=\"text-decoration: none\">&#x22A2;&nbsp;</a><a class=\"ProveItLink\" href=\"__pv_it/f0ffbeafb8843fbe26f8b284eeb93c551a5e26e10/expr.ipynb\"><img src=\"data:image/png;base64,iVBORw0KGgoAAAANSUhEUgAAAS4AAAAXBAMAAABHbL+hAAAAMFBMVEX///8QEBC6urrMzMxUVFRm\n",
       "ZmZERETc3NwyMjKqqqp2dnaIiIiYmJgiIiLu7u4AAAAU9Wx4AAAAAXRSTlMAQObYZgAAA5lJREFU\n",
       "SMfNVm1IU1EYfvft7u6uI3+Y/ZoUJES4IIOimBiU5I/sw5IMWgWzKOj+sLSiHFGwHyaDCoIIRyBR\n",
       "UgzTQRp46VckxPoRQR9wg7AoaCNBCaM6X/Pes507jUX1wLtzz8773PNw349zAP5T6H/gHfYUNTHk\n",
       "oJghxmPGyODJZHm61jKzwC4xQwxXiDLu4El/ebr6S7+iQsywQIwyTqHBEylLli9FzYQPXCCTIoYB\n",
       "RTXPnlJGBUowV6IsXTadmgk3uH0DIoYBL6fyHWXIt7u7z5UXxjpmVrrgqIhhpcudoIyZaPRVebr2\n",
       "MTszcno0xevqGqtFQRoUMJTBJPTqnC5Py61qAKkVCGMzQGeJTRvuPsIVAkFrlz5qSlJ+Y8twuuzV\n",
       "cAIN10mhxQkaGUOy52CC/161qjuHZjHKWAFKrERraoV68lCiNJZQk8CX84Y4Xb0a7MEbChjrXRmI\n",
       "cro838GFdrEHKMMPPk24nTLapqFVcC+k6ys1BZyRgvzaDvAaDWEBQ7elYI7T5cyBHz05cpTh0/zi\n",
       "np9e+UWHrA7yInWhMqMbtMfjz+Pxi+hpBpRpC10woDumaXgvLyXhrYxANmToUmK4+Z4cO4wJQ00j\n",
       "aMmeRpUs4/wD/zKWWFQXXScBTs9Xew0z6A3ljzX6vTxz4M0pLI6utwSRPKMdfAHue/WmYADx83GE\n",
       "ziYk7qXnB3qU9C02VKafK9U1rEsrO34mDF1kvRmnb4r4UBynJqsT4ON0Kd/AGbsC8KTwe2HGJXA3\n",
       "crqyCWhG+SnjbMeMa6iGnK0OXEl2UltwfjWkYUO+1AOGLrY+70MxSG1AOwhn+fzqg5utSUGfwH/s\n",
       "hnqN01WheV9IRp8gWVEZ9FHxs+R3G7TApmg0mlKCoOTM+TU7/27sQ7Ga2tTYpyGN19U1vvwYyoML\n",
       "hbowY2r8gMrXY8vwumEkDycOZsjo22d19zPs5Qg4aB1XwXtCSYAjYtKF14+QOBIfdqqo1H7jHCLe\n",
       "90qdQ/kDK7xR71HDUkyCHhWqUNNzYi5qKG7V0EXWGbCPcS4XnM2rzBOp6LKFvJ0ZpUZ4GRsyM+wd\n",
       "k/shrE097LiPBriajoFyCOtqaNtrqkeyzoB9FnfP+Si65/iT7qSwa8aKGSw7NI/qRIIllF/GWmH/\n",
       "oj4sjZhZYGvxX13gHd8pdCZh4hkOlQ3uZF2Rf6Eus48nRc3iehYq/s/a+0ExQ84P3vHkgrpEPv8C\n",
       "jX93u18jDg0pGbE6rAAAAABJRU5ErkJggg==\n",
       "\" style=\"display:inline;vertical-align:middle;\" /></a></span>"
      ],
      "text/plain": [
       "|- forall_{a, x, y in S | x = y} ((x + a) = (y + a))"
      ]
     },
     "execution_count": 90,
     "metadata": {},
     "output_type": "execute_result"
    }
   ],
   "source": [
    "operationSubstitution.generalize((a, x, y), conditions=[x_eq_y], domain=S)"
   ]
  },
  {
   "cell_type": "code",
   "execution_count": 91,
   "metadata": {},
   "outputs": [
    {
     "data": {
      "text/html": [
       "<span style=\"font-size:20px;\"> <a class=\"ProveItLink\" href=\"__pv_it/21d4a7a9a8261f9e2bb0cf7d49b810b558bd2a700/proof.ipynb\" style=\"text-decoration: none\">&#x22A2;&nbsp;</a><a class=\"ProveItLink\" href=\"__pv_it/6f5443b599417e353ce3f7d4d7358788f8e29ce30/expr.ipynb\"><img src=\"data:image/png;base64,iVBORw0KGgoAAAANSUhEUgAAAVYAAAAXBAMAAACi8nrNAAAAMFBMVEX///8QEBC6urrMzMxUVFRm\n",
       "ZmZERETc3NwyMjKqqqp2dnaIiIiYmJgiIiLu7u4AAAAU9Wx4AAAAAXRSTlMAQObYZgAABGZJREFU\n",
       "SMfVV3+IFFUc/+7O7M7Nzt67Rf+w+6dWMhAOcYQwo+A2hU5aqCM7ERXaCtfqgka6Okv0tihayOSi\n",
       "BEPiBun6wZFseh7c3h8OSRAJsoIW9ItRcBWFbkk4EQ/p+37M7rzdmTujFeoLn3sz732/bz773uf7\n",
       "fe8A/kfm3qV5oyWOEPsuOCLYkmmOCn053X6uDwqEWMwMjAixTRxf0+cD7ed6YJFpC4ERIdbB8QY2\n",
       "Wq7tVI0Sh88uS28/BkU0jFiSCGyGDhRsbLTtXCMuh88OS28XgiIapsvMUwzJL4eH97ZfAisFQrnG\n",
       "RwMiwrjCSxxz+fwv/57ba/wL9fetAm9NvnmiJHPVskeWAST6m2ZAbzJuw4grcx0qL0c5jAPDBoCd\n",
       "4RyUrROnWEEJcyAnxvvw+zb3tr3u/RzETv4Wqchcl1vxGpKhyRUrMsuIiES0BifldY0ug1exOcSx\n",
       "AkghnOsDgPF0y8Ic1pmwy6oPH/G6l3AkwKjppsRVm4cY5nI01TQRej8cq0Be5jriwGb6+zg6wXAC\n",
       "WVwb2M7Kb24hrgpuJ37aW7MrXv9fHATUXJNe1Rp0IhGl1jQTeruREtySuT4F8Cs2vRyG0xl4dhnP\n",
       "7/sTyG0AZyGuF3A0WaurSDVlrpje/KNbisWzxeK7+NSVg1kzmCuMucp1Lo0P7+HSmANyvcGVFOiB\n",
       "8Xr5BRowsX4S54lOYQX5ns1wVuwq55qY7Nkgpu7Jwb3YfAuMa0qM1YtktwCMmN4xLtZ1pARj2MU0\n",
       "EPudWc6L2AJGSlpX7RboNVLXAOxcj4R/1m5TLu7jEawl17qsNeJguXTfTR/Xo2quW6XZ8AEp3VDo\n",
       "tOfoFytKgY9BNCO4vsKRtE6CIXOdHYWNKOFkc5LQiPcgnpG4kpugFj4G+AE4DqIm1X6lwrKd5i/s\n",
       "WwVTXkprj/m4pjs8aWsXKwZdDiqviE0psjHFYyCKzJjzHOyR9drh6OcTATWLRjwDqx1Zr/vhs367\n",
       "Ph1TVFfa4D/oBvv7BGSVn/L5QbiI6+DjCl31o0+1VTrdPOIjV8+IsTrXVRzV8tUJR+aqZY+tPYaU\n",
       "001caUR15llL5jo0c/8ger4DHEnco1k3foZ6KSmF14+lhHH/FGCtn+saMONMAxBJR2ge7dCmyRKI\n",
       "5vgYf2ApZXH8gzOWeX+z0BnrHca9j7q7rd5EIQG7LViKRbWP9m/2DgrGVal9BV61j5irQXsfdj2i\n",
       "H0oDqYixpC3fNvzWI71NtFxSbVArpDvwMpsocfChbae3Q69Tnd52FBv4ZKoAVbpJmwYGrAZXMniw\n",
       "7NU3PfsiKPOgbfz8SdyKP8RYLH2Hd0ISdCfstON2oPcVf+nmJpTlaBbV4heo18ZVozl8GLK4FvRn\n",
       "9mPyTPsumkJoAiGmWi1dQ6DPPB3s3SfgO4Ms0cTtlc3eLVxfjuLKPETd57DOVls0qZU4Qux4a1e4\n",
       "t2Fy+BXjNfqMvSjXw2VvI97GiqyLLcn8F/6FVBcZP8VzwL2bHP4GSC055RYYqsUAAAAASUVORK5C\n",
       "YII=\n",
       "\" style=\"display:inline;vertical-align:middle;\" /></a></span>"
      ],
      "text/plain": [
       "|- forall_{a, x, y in S | x = y , Q(x)} ((x + a) = (y + a))"
      ]
     },
     "execution_count": 91,
     "metadata": {},
     "output_type": "execute_result"
    }
   ],
   "source": [
    "operationSubstitution.generalize((a, x, y), conditions=[x_eq_y, Qx], domain=S)"
   ]
  },
  {
   "cell_type": "markdown",
   "metadata": {},
   "source": [
    "It is also possible to create multiple levels of nested `Forall` operations in one step with possibly different domains.  Simply provide a list of lists of **Variable**s as the first argument to `generalize` and a corresponding list of `domains`.  The conditions are applied at the outermost level possible (as soon as all of the relevant variables have been introduced) but otherwise retaining the order that the `conditions` were supplied."
   ]
  },
  {
   "cell_type": "code",
   "execution_count": 92,
   "metadata": {},
   "outputs": [
    {
     "data": {
      "text/html": [
       "<strong id=\"nestedGenExample\">nestedGenExample:</strong> <span style=\"font-size:20px;\"> <a class=\"ProveItLink\" href=\"__pv_it/a0509564ad5468087ce58dbbfe40a2e4a494f8b70/proof.ipynb\" style=\"text-decoration: none\">&#x22A2;&nbsp;</a><a class=\"ProveItLink\" href=\"__pv_it/a7124485ce29180b3ea7489d86bb17806908d1eb0/expr.ipynb\"><img src=\"data:image/png;base64,iVBORw0KGgoAAAANSUhEUgAAAewAAAAZBAMAAAABLABNAAAAMFBMVEX///8QEBC6urrMzMxUVFRm\n",
       "ZmZERETc3NwyMjKqqqp2dnaIiIiYmJgiIiLu7u4AAAAU9Wx4AAAAAXRSTlMAQObYZgAABgBJREFU\n",
       "WMPlWH1sFEUUf3d7H9zddtvAH+g/eET8ijGc0SB+kJ4gtrGJXig1YEmsGK8qGpZQRSXS02jsH6g1\n",
       "fgRjDCehiDaQE2mTUhNWCYmBBI8EJRFKFqOFSKQXCTUV0vhm3uztzt5eP9aoIb7ktbcz7/fe/Gbe\n",
       "vJldAL/y7JAOV6YEh370Dy7ClSsd/1fapn/a5r8xwpuFeoua9EZ4yzdCkTZftMO+aPuGTkOUNGk1\n",
       "afZEVJFwihRpf8ae3/JF2zd0GjLDJK3a74moJjmhHfA8/o22+aLtGzoNGRRqiyYdIGreC2HLGenp\n",
       "kNAOPjnhbl+0fUOnIXOE2hIrSJNQ54Ww5SPp6bTQDlA/3bDhZX8lzTd0GkdsjrQqbXjKA1GVdqSb\n",
       "FA+w0Wx2Kqf3eoopHWACul4a1d/jSb7KKRTOk8JLe1/sK8i0O/bNxXzvcZcttNZ68tBpSrSjTdtm\n",
       "A8QzpEh7CUC7NO61Lct5Q1CkUV9PA8JoDyl5J22CRqXtZVt8cLFljd38SO8Bh9NKkcLcVa5PBqmW\n",
       "V08GihLt4GxYi/+2cK5dXNICEQ+WYL+82nP1SAmxOVKkPQ80OS++BtjFM4IeF6ZgnW49wDYnbYJG\n",
       "5PGXLdQ6mJGxHq4DHApUGNsihYlbx3EgSRqHRCmWkmh3GvAw4+Pyw6zvDBchK9GOXoYwFt9gHSnS\n",
       "roGEUZ7xFvx5H8B3ZnmECuYGIqxZO+ukTVB5+3CLcy2rAEJtECo6rNsmoi2HKS9EbZJUY97kvf0Q\n",
       "wAn8V+9yxKzNQAEuSbRDJahBnFIiRdoJo8Y66fpvOI8/TwI02iM8jcTUUnkfhFIOIgRtl+OiRWL1\n",
       "pvPA4gQycBPCU6CNAxgT0XaFWeKijatYENn85lWUzaOgXahCG7aaCutb0dV1tKvrNdbaBiMpibaW\n",
       "ux3bn9v3OKg8JdGZetwe4RfAx4OZEW3dgYwKDtoExa7exXvRabAfAiazOMgNMM5yfsKxx6Mi98kp\n",
       "2fMdyjHOMLzPOnwD3aSY0ylxGRarHb0EsZImkjw8xKVNIGAFJOqk1e4swFbEO5Ic2hcjgePRcXHj\n",
       "Cf75+SrHCI8xr0UFs+43HatjMO18FWFQ7Iqb97No52r1W4FZUIrOH/yEzfxKPpu/XDNmO+X2jawI\n",
       "FQjjCEO+5lknjkGq6vshIdHWxiCUexfgW9dqM2t4HSJpifZINzRibVBxZCqVNHgfCYQySlHUz7i1\n",
       "r4g22yOBPGO7FBZxkg7aDIpdQdjMWjbdAv3MQhTznZBgxuGltDr32k6FvY1xhKG+haLbOnG2Go/B\n",
       "Rnlvb4aPM/nKA4xZY5bNNyTaM4zY93HpAOO7pjaZSMOibDZbgEhGon0Z9R0zhrR/h71u2gzKuuAP\n",
       "3vQANHHaP2SzeHQ9jVmIjQmsFfATTrjDqbAvY5xheJ9FO1gkHd73a68h0+4YvHYNZtOr7usKG9fw\n",
       "4KO6XMmb9izYg+yTpIy2iskzYkaO6D9TTeiWaD8RHdBmQrCNVaVnzrAfDtoMylqUOoU1zYRZ7Fmj\n",
       "BBuDMNtgB0Po8EOABQ6nzP5JnuSEcYQhX9dbUWYLnfrllKx3TXI5FaXDrL/HDPEZqtcl2uvujm1J\n",
       "goYk5ygXjjiu/tbZhF318VwcXtBhFjub0aKBUxuHSPE2VidXAjth222n3F4Iw0TfsMNQ3yH3y4Nj\n",
       "OSXa8YKbNlqHitrVni/fvUIt2sHWw6tAW838vN0s0Y42bn8Qp/8U3ji+6jMgnKz4unIKhgdad0O9\n",
       "Ae/14xZAi2FmtPOirpwo4D2FveI2t7TotlNuL4RhlMt2GOpbNtUXz7NeL541+Uje8yaYE1cC+aNS\n",
       "nO1tuyZaU5LBYjJQ8X5bpm11GVE9VCCLHdk1VYbpPrcJo7rDlCtINE1aTRoqWtA6NrjM05ilM0/p\n",
       "ib6lWSNURvFdbrhir5Rpiy5Fj+RvrNhNk9EmzB2uMI79u1GotyRSlW3Vrb8UOiXa8ArWpJioo+lK\n",
       "2qJLxUnOSxZToU0YwxUm9B9+OZVjH6BtYG+zofJ38gPSRpn4w+JkhMjX7n/4O/mxvwALx+AmqY4R\n",
       "WAAAAABJRU5ErkJggg==\n",
       "\" style=\"display:inline;vertical-align:middle;\" /></a></span><br>"
      ],
      "text/plain": [
       "nestedGenExample: |- forall_{a in P | Q(a)} [forall_{(x, y) in R * S | x = y , Q(x)} ((x + a) = (y + a))]"
      ]
     },
     "execution_count": 92,
     "metadata": {},
     "output_type": "execute_result"
    }
   ],
   "source": [
    "Qa = Function(Q, a)\n",
    "nestedGenExample = operationSubstitution.generalize([[a], [x, y]], domainLists=[[P], [R, S]], conditions=[x_eq_y, Qx, Qa])"
   ]
  },
  {
   "cell_type": "markdown",
   "metadata": {},
   "source": [
    "Note that the $Q(a)$ condition was moved to the front even though it was the last supplied condition because it can be applied before the others.  The *generalization* with multiple leves of nested `Forall` operations takes one step in the proof:"
   ]
  },
  {
   "cell_type": "code",
   "execution_count": 93,
   "metadata": {},
   "outputs": [
    {
     "data": {
      "text/html": [
       "<table><tr><th>&nbsp;</th><th>step type</th><th>requirements</th><th>statement</th></tr>\n",
       "<tr><td>0</td><td>generalizaton</td><td>1</td><td><span style=\"font-size:20px;\"> <a class=\"ProveItLink\" href=\"__pv_it/a0509564ad5468087ce58dbbfe40a2e4a494f8b70/proof.ipynb\" style=\"text-decoration: none\">&#x22A2;&nbsp;</a><a class=\"ProveItLink\" href=\"__pv_it/a7124485ce29180b3ea7489d86bb17806908d1eb0/expr.ipynb\"><img src=\"data:image/png;base64,iVBORw0KGgoAAAANSUhEUgAAAewAAAAZBAMAAAABLABNAAAAMFBMVEX///8QEBC6urrMzMxUVFRm\n",
       "ZmZERETc3NwyMjKqqqp2dnaIiIiYmJgiIiLu7u4AAAAU9Wx4AAAAAXRSTlMAQObYZgAABgBJREFU\n",
       "WMPlWH1sFEUUf3d7H9zddtvAH+g/eET8ijGc0SB+kJ4gtrGJXig1YEmsGK8qGpZQRSXS02jsH6g1\n",
       "fgRjDCehiDaQE2mTUhNWCYmBBI8EJRFKFqOFSKQXCTUV0vhm3uztzt5eP9aoIb7ktbcz7/fe/Gbe\n",
       "vJldAL/y7JAOV6YEh370Dy7ClSsd/1fapn/a5r8xwpuFeoua9EZ4yzdCkTZftMO+aPuGTkOUNGk1\n",
       "afZEVJFwihRpf8ae3/JF2zd0GjLDJK3a74moJjmhHfA8/o22+aLtGzoNGRRqiyYdIGreC2HLGenp\n",
       "kNAOPjnhbl+0fUOnIXOE2hIrSJNQ54Ww5SPp6bTQDlA/3bDhZX8lzTd0GkdsjrQqbXjKA1GVdqSb\n",
       "FA+w0Wx2Kqf3eoopHWACul4a1d/jSb7KKRTOk8JLe1/sK8i0O/bNxXzvcZcttNZ68tBpSrSjTdtm\n",
       "A8QzpEh7CUC7NO61Lct5Q1CkUV9PA8JoDyl5J22CRqXtZVt8cLFljd38SO8Bh9NKkcLcVa5PBqmW\n",
       "V08GihLt4GxYi/+2cK5dXNICEQ+WYL+82nP1SAmxOVKkPQ80OS++BtjFM4IeF6ZgnW49wDYnbYJG\n",
       "5PGXLdQ6mJGxHq4DHApUGNsihYlbx3EgSRqHRCmWkmh3GvAw4+Pyw6zvDBchK9GOXoYwFt9gHSnS\n",
       "roGEUZ7xFvx5H8B3ZnmECuYGIqxZO+ukTVB5+3CLcy2rAEJtECo6rNsmoi2HKS9EbZJUY97kvf0Q\n",
       "wAn8V+9yxKzNQAEuSbRDJahBnFIiRdoJo8Y66fpvOI8/TwI02iM8jcTUUnkfhFIOIgRtl+OiRWL1\n",
       "pvPA4gQycBPCU6CNAxgT0XaFWeKijatYENn85lWUzaOgXahCG7aaCutb0dV1tKvrNdbaBiMpibaW\n",
       "ux3bn9v3OKg8JdGZetwe4RfAx4OZEW3dgYwKDtoExa7exXvRabAfAiazOMgNMM5yfsKxx6Mi98kp\n",
       "2fMdyjHOMLzPOnwD3aSY0ylxGRarHb0EsZImkjw8xKVNIGAFJOqk1e4swFbEO5Ic2hcjgePRcXHj\n",
       "Cf75+SrHCI8xr0UFs+43HatjMO18FWFQ7Iqb97No52r1W4FZUIrOH/yEzfxKPpu/XDNmO+X2jawI\n",
       "FQjjCEO+5lknjkGq6vshIdHWxiCUexfgW9dqM2t4HSJpifZINzRibVBxZCqVNHgfCYQySlHUz7i1\n",
       "r4g22yOBPGO7FBZxkg7aDIpdQdjMWjbdAv3MQhTznZBgxuGltDr32k6FvY1xhKG+haLbOnG2Go/B\n",
       "Rnlvb4aPM/nKA4xZY5bNNyTaM4zY93HpAOO7pjaZSMOibDZbgEhGon0Z9R0zhrR/h71u2gzKuuAP\n",
       "3vQANHHaP2SzeHQ9jVmIjQmsFfATTrjDqbAvY5xheJ9FO1gkHd73a68h0+4YvHYNZtOr7usKG9fw\n",
       "4KO6XMmb9izYg+yTpIy2iskzYkaO6D9TTeiWaD8RHdBmQrCNVaVnzrAfDtoMylqUOoU1zYRZ7Fmj\n",
       "BBuDMNtgB0Po8EOABQ6nzP5JnuSEcYQhX9dbUWYLnfrllKx3TXI5FaXDrL/HDPEZqtcl2uvujm1J\n",
       "goYk5ygXjjiu/tbZhF318VwcXtBhFjub0aKBUxuHSPE2VidXAjth222n3F4Iw0TfsMNQ3yH3y4Nj\n",
       "OSXa8YKbNlqHitrVni/fvUIt2sHWw6tAW838vN0s0Y42bn8Qp/8U3ji+6jMgnKz4unIKhgdad0O9\n",
       "Ae/14xZAi2FmtPOirpwo4D2FveI2t7TotlNuL4RhlMt2GOpbNtUXz7NeL541+Uje8yaYE1cC+aNS\n",
       "nO1tuyZaU5LBYjJQ8X5bpm11GVE9VCCLHdk1VYbpPrcJo7rDlCtINE1aTRoqWtA6NrjM05ilM0/p\n",
       "ib6lWSNURvFdbrhir5Rpiy5Fj+RvrNhNk9EmzB2uMI79u1GotyRSlW3Vrb8UOiXa8ArWpJioo+lK\n",
       "2qJLxUnOSxZToU0YwxUm9B9+OZVjH6BtYG+zofJ38gPSRpn4w+JkhMjX7n/4O/mxvwALx+AmqY4R\n",
       "WAAAAABJRU5ErkJggg==\n",
       "\" style=\"display:inline;vertical-align:middle;\" /></a></span></td></tr>\n",
       "<tr><td>1</td><td>specialization</td><td>2, 3</td><td><span style=\"font-size:20px;\"><a class=\"ProveItLink\" href=\"__pv_it/827d9b00c56febbd74ae7433c9d042fcf629f8d90/expr.ipynb\"><img src=\"data:image/png;base64,iVBORw0KGgoAAAANSUhEUgAAAEUAAAAVBAMAAADiLT7tAAAAMFBMVEX///9ERETc3NyqqqpUVFS6\n",
       "urrMzMwyMjIQEBCIiIh2dnYiIiLu7u5mZmaYmJgAAABJJ2g3AAAAAXRSTlMAQObYZgAAAPZJREFU\n",
       "KM9jYGDgu8eAE7CtUgBRPLsY8AC2ZhDJ+QGfGobrIIKrAa+aFQOhhmmlk+VNNMlTtxiY/kDV8BYA\n",
       "+QyvH3SDfVEOAiUg5oJ4sJffg9gZAUA+w3wGM7SAMbjNwCjAwMB+gYEhpQ0ocIDBEd0dPAydDPwT\n",
       "gAzxBwwMEQkgoU4MxzL/YcgHSnEvALJZgO5hYPoG1AgEt3eDwEaoO2cwQN3DtYGB4RHQdXPQzAE6\n",
       "RATJ78z/GBuYJqCp4XVg/Yekhkdyzap5GI6WnPuJcDiDXIFfjTfDCQOYGj4canYxSMHTD89O7Gos\n",
       "5waAgrsVzOFbTCA9AwDSkUcoxLKrOwAAAABJRU5ErkJggg==\n",
       "\" style=\"display:inline;vertical-align:middle;\" /></a> <a class=\"ProveItLink\" href=\"__pv_it/201edbfee8a0422018f00801786c27aa59e973a20/proof.ipynb\" style=\"text-decoration: none\">&#x22A2;&nbsp;</a><a class=\"ProveItLink\" href=\"__pv_it/d85965e01e600ea9fa6e3165887470cf8b919ee00/expr.ipynb\"><img src=\"data:image/png;base64,iVBORw0KGgoAAAANSUhEUgAAAJcAAAAVBAMAAAC5yWGZAAAAMFBMVEX////c3NwiIiJERESqqqqY\n",
       "mJh2dnZmZmYQEBDu7u4yMjJUVFTMzMyIiIi6uroAAAAs73DqAAAAAXRSTlMAQObYZgAAAgJJREFU\n",
       "OMutlD9IHEEUxr/z9v6s655biM0hdwiSNMJBDNiEiKUYbqsUFmGxsTIIgRQmJCdYpZAVIYiNiyDi\n",
       "CmLagGQh6VJ4lRbxVKwkJLgQ7TTkzWhxb3ZHEDLFzsybb3773puZB/zXVmrqVnIn91G/EJ/v+v+8\n",
       "TZr06kJEn009rDNpukMdADb3e5HF6akbuNp02mfPgaLP1M+YuKHCuNpg6GXgJ/QwDKkwruaw7Ahe\n",
       "U9f7o+egyWHl/TOKYUqFkdqc8lDxGSyz+3IOyM9gnZa93ECxymClOTylbkweUyjbjhiTOl+Kccw9\n",
       "O3OyMc0CLNAy7NiIGKzi4pVQqZ6R+luhikcMlrlEoUYONPCXPINVU3L2BRikbk+FkdovNnHNYFaM\n",
       "Dhp1xWKZDunGOhuGD8Nwi0Z/YF5pYKj7XVc30a99kNF317AaSdi8jCqC3+5Z5hpGbN6GWeiXTTov\n",
       "1LOwG8yzShN12k9hPqa76RzDZjDzAlYwDkyonpEaG8juMNjqCD5TznOBOP26O4w+nrN1jM54KVdD\n",
       "GN7g3GWwTtd4kJdX4xRY2v847XJYufXrCdWMbRVGaiy13jv8NHePvh4R8wRF517PSaondc9Jecy/\n",
       "2yf5RPEitVU151OL2/TdRWUlrQR1eFkvTWwGIj162KekqQyj9S5VbIkMZLSF2I6SNr36EPgH20mL\n",
       "sNLZVokAAAAASUVORK5CYII=\n",
       "\" style=\"display:inline;vertical-align:middle;\" /></a></span></td></tr>\n",
       "<tr><td>&nbsp;</td><td colspan=4 style=\"text-align:left\"><span style=\"font-size:20px;\"><a class=\"ProveItLink\" href=\"../packages/proveit/__pv_it/182d3f256e21dc75ea1ec3168bda49a871e4700a0/expr.ipynb\"><img src=\"data:image/png;base64,iVBORw0KGgoAAAANSUhEUgAAACkAAAAVBAMAAAAp9toTAAAAMFBMVEX///8yMjLMzMwQEBAiIiJm\n",
       "Zma6urqYmJiqqqp2dnZERETc3NyIiIhUVFTu7u4AAAAe+HC4AAAAAXRSTlMAQObYZgAAAPpJREFU\n",
       "GNNjYCAAcqB0GYR6e3YDkGS6ABVlVQBTK/sLgCTjA5gmARDB9+0FiDoDN6oSRHB8ALPt4KKPweY4\n",
       "gEg2AbgoVwMDA/tl3wCQ3AQGBu45t3tiGBg4QXz+AyAFjEAbXzKUFJgAjQRp2w92CXMCA8MEhvMM\n",
       "TUDDDID8frBh/EDRBwy3QEwmkPVT4KIMDDZw0bVgUWagxQzcnxj4oCbYQJwDtK2a5wPDOaCrBEBe\n",
       "A4sCncPxncuA+wDEZWz/wKJsDgx8a+bNPA5yJNAKHqinrJF9XAsyEB4mYDCHgcHwCZQND0k+oObK\n",
       "aCiHGxbqvBuQY2gPlD7EwAAAkqk1TOFGkRwAAAAASUVORK5CYII=\n",
       "\" style=\"display:inline;vertical-align:middle;\" /></a> : <a class=\"ProveItLink\" href=\"__pv_it/5e04529b99e523a721e16b8843eb98a945b79f260/expr.ipynb\"><img src=\"data:image/png;base64,iVBORw0KGgoAAAANSUhEUgAAADAAAAAOBAMAAACbXIJpAAAAMFBMVEX///+6uroyMjJERETMzMwQ\n",
       "EBAiIiKYmJju7u5mZmaqqqpUVFSIiIh2dnbc3NwAAAAWgogoAAAAAXRSTlMAQObYZgAAAJdJREFU\n",
       "GNNjYEAAjgcM2AHXAeIk3p5+dfIAqsTrs6IPGDgusKezJqBIMMYx2DMw8DLwfOByQJF4X8AwGegU\n",
       "Bm4DNDv2MzDkgGhWMJ9TSUktSElpA5D5mYHjC1inA0MDsg6+PwxcHzgY2B+cZ+BBkeD4xcCtsIRh\n",
       "fYEpwxtUO9QZlk24wNB8tvdOAarE6zMiNgJEBQkjsgQAgewuFP+EDy8AAAAASUVORK5CYII=\n",
       "\" style=\"display:inline;vertical-align:middle;\" /></a>, <a class=\"ProveItLink\" href=\"../packages/proveit/__pv_it/530be409e3083890784cf1d7b28c9e67e90af9360/expr.ipynb\"><img src=\"data:image/png;base64,iVBORw0KGgoAAAANSUhEUgAAAAsAAAAJBAMAAAAWSsseAAAAKlBMVEX///9ERETMzMwQEBAiIiKY\n",
       "mJju7u5mZmaqqqpUVFSIiIh2dnbc3NwAAAA/vyDhAAAAAXRSTlMAQObYZgAAAENJREFUCNdjYDi9\n",
       "8sTyBQxsG1hdmR0YuBm4LnAoMLAxcAowgADzAjB1VoEhgYH1wFoGrgSG3gBhhlMMDImrs3cFMAAA\n",
       "t0YN+iTRa+sAAAAASUVORK5CYII=\n",
       "\" style=\"display:inline;vertical-align:middle;\" /></a> : <a class=\"ProveItLink\" href=\"../packages/proveit/__pv_it/530be409e3083890784cf1d7b28c9e67e90af9360/expr.ipynb\"><img src=\"data:image/png;base64,iVBORw0KGgoAAAANSUhEUgAAAAsAAAAJBAMAAAAWSsseAAAAKlBMVEX///9ERETMzMwQEBAiIiKY\n",
       "mJju7u5mZmaqqqpUVFSIiIh2dnbc3NwAAAA/vyDhAAAAAXRSTlMAQObYZgAAAENJREFUCNdjYDi9\n",
       "8sTyBQxsG1hdmR0YuBm4LnAoMLAxcAowgADzAjB1VoEhgYH1wFoGrgSG3gBhhlMMDImrs3cFMAAA\n",
       "t0YN+iTRa+sAAAAASUVORK5CYII=\n",
       "\" style=\"display:inline;vertical-align:middle;\" /></a>, <a class=\"ProveItLink\" href=\"../packages/proveit/__pv_it/f8b9edf8e16034727f0aad55bb83e392c3db40d40/expr.ipynb\"><img src=\"data:image/png;base64,iVBORw0KGgoAAAANSUhEUgAAAAsAAAANBAMAAACN24kIAAAAMFBMVEX///+YmJhUVFQyMjIQEBBE\n",
       "REQiIiKqqqrMzMyIiIi6urrc3NxmZmZ2dnbu7u4AAADXeCicAAAAAXRSTlMAQObYZgAAAFhJREFU\n",
       "CNdj4LtzgWH/AwZerg8M8xkY2nkSGEIZGB6wTGD4ycDAUP+A4weQOszA6QCkbBhYFYDUIYb1AkDq\n",
       "6czzGxhA4BoQMyXwuQMptgusF4AU+8xTQBIAUqMVoSp/SLMAAAAASUVORK5CYII=\n",
       "\" style=\"display:inline;vertical-align:middle;\" /></a> : <a class=\"ProveItLink\" href=\"../packages/proveit/__pv_it/f8b9edf8e16034727f0aad55bb83e392c3db40d40/expr.ipynb\"><img src=\"data:image/png;base64,iVBORw0KGgoAAAANSUhEUgAAAAsAAAANBAMAAACN24kIAAAAMFBMVEX///+YmJhUVFQyMjIQEBBE\n",
       "REQiIiKqqqrMzMyIiIi6urrc3NxmZmZ2dnbu7u4AAADXeCicAAAAAXRSTlMAQObYZgAAAFhJREFU\n",
       "CNdj4LtzgWH/AwZerg8M8xkY2nkSGEIZGB6wTGD4ycDAUP+A4weQOszA6QCkbBhYFYDUIYb1AkDq\n",
       "6czzGxhA4BoQMyXwuQMptgusF4AU+8xTQBIAUqMVoSp/SLMAAAAASUVORK5CYII=\n",
       "\" style=\"display:inline;vertical-align:middle;\" /></a></span></td></tr><tr><td>2</td><td>axiom</td><td></td><td><span style=\"font-size:20px;\"> <a class=\"ProveItLink\" href=\"../packages/proveit/logic/equality/_axioms_.ipynb#substitution\" style=\"text-decoration: none\">&#x22A2;&nbsp;</a><a class=\"ProveItLink\" href=\"../packages/proveit/logic/equality/__pv_it/8d36a51e21a3e1f2d1a576f0cfdfe721d403af1e0/expr.ipynb\"><img src=\"data:image/png;base64,iVBORw0KGgoAAAANSUhEUgAAAO8AAAAXBAMAAAARnwX+AAAAMFBMVEX///8QEBC6urrMzMxUVFRm\n",
       "ZmZERETc3NwyMjKqqqp2dnaIiIiYmJgiIiLu7u4AAAAU9Wx4AAAAAXRSTlMAQObYZgAAAvdJREFU\n",
       "SMfFVj1oFEEUfvef293bHKayECJYpIk5wcYqRyRGTBPUQgyiNonCgVuI8QfNIggWEq5QsLttDglB\n",
       "OTAemhRZJIVoc7UorE0QLXIYMIUiznszO7O3uznJQfDBm/123jfzZt+99+YA/pd4vS5MNqLYGPw3\n",
       "/63QFr586MHxURzMyQmJUc7EEEOcTInrIr4s9OCY1mQXf3es74shhjk21xvskbu0e786RW7zcFVi\n",
       "irUTZYY577n2sR85U9294wQlRy2AKazFKDPM+cLVeDY3d7eHSA/ReCGASa5GmWFOtsr158zMxx4c\n",
       "n8dh/cC4j28v33rFolmPEBXHrDsw74E2BaTHAWYxSOON6O5dquMRjb98bDrGpwSrkKeUuA9JytDJ\n",
       "0ZJtWAPI21wPgYl5llmZiu7eJen24ZDb8rEGejvPiuRghKg4xzItmGEFXeRaAN1lhkLc13Vx/AOH\n",
       "fNvHJqSJPBohKo6XaODnp9pcdbeACdfv9eBYaymcaMQ7DnBqXmpLOTZt7CnGtWk0L40ts3glmyL7\n",
       "uWM+SW2vKctiPyVoWeH5ErZfCnXmMwlfHeCcA72oQg2zY2h4R6fzTiRYon/vt46oL6bJk5gtDWkA\n",
       "qKivRGxYa6B7YpvOgpcceECnMGyu8IRiQXWQ5Ml6bxiayrGY7DAI/uagj2vuZbgDceWkOHAWRlyQ\n",
       "5SSOVOG0bRpPwWTwN96Wu/gGgGEcRjwfb6x8W8IcvR9xrDiwsXrRYr1ykCsYniwPSBVT/GUg4Bgn\n",
       "r1CopYEdl20BrwN4p5bZwXmuWqa/4g/ATWtUszX2gIFkWzmmSSG+ga4Do1wJXw1auAsFOemWiSm2\n",
       "JBTEVzEP7sab6RfsAY+btnJMk0J8A11ziYVW8IpE+RpJrQCn4GQdoHZl2upk+Gu7HLs5K92IrWNp\n",
       "YHIdjLolsZCJsOMgJ796mj3TFldxga+zSk3x15SVdYbiG4g04CECUfWxXtq54/icl0LF/xEMuiEO\n",
       "yY7mxDuWhr2W8t5t/RfNBeNeS11EOAAAAABJRU5ErkJggg==\n",
       "\" style=\"display:inline;vertical-align:middle;\" /></a></span></td></tr>\n",
       "<tr><td>&nbsp;</td><td colspan=4 style-\"text-align:left\"><a class=\"ProveItLink\" href=\"../packages/proveit/logic/equality/_axioms_.ipynb#substitution\">proveit.logic.equality.substitution</a></td></tr><tr><td>3</td><td>assumption</td><td></td><td><span style=\"font-size:20px;\"><a class=\"ProveItLink\" href=\"__pv_it/827d9b00c56febbd74ae7433c9d042fcf629f8d90/expr.ipynb\"><img src=\"data:image/png;base64,iVBORw0KGgoAAAANSUhEUgAAAEUAAAAVBAMAAADiLT7tAAAAMFBMVEX///9ERETc3NyqqqpUVFS6\n",
       "urrMzMwyMjIQEBCIiIh2dnYiIiLu7u5mZmaYmJgAAABJJ2g3AAAAAXRSTlMAQObYZgAAAPZJREFU\n",
       "KM9jYGDgu8eAE7CtUgBRPLsY8AC2ZhDJ+QGfGobrIIKrAa+aFQOhhmmlk+VNNMlTtxiY/kDV8BYA\n",
       "+QyvH3SDfVEOAiUg5oJ4sJffg9gZAUA+w3wGM7SAMbjNwCjAwMB+gYEhpQ0ocIDBEd0dPAydDPwT\n",
       "gAzxBwwMEQkgoU4MxzL/YcgHSnEvALJZgO5hYPoG1AgEt3eDwEaoO2cwQN3DtYGB4RHQdXPQzAE6\n",
       "RATJ78z/GBuYJqCp4XVg/Yekhkdyzap5GI6WnPuJcDiDXIFfjTfDCQOYGj4canYxSMHTD89O7Gos\n",
       "5waAgrsVzOFbTCA9AwDSkUcoxLKrOwAAAABJRU5ErkJggg==\n",
       "\" style=\"display:inline;vertical-align:middle;\" /></a> <a class=\"ProveItLink\" href=\"__pv_it/bb80663aa5df5cb272a7f6cb970dfb40a6374f1c0/proof.ipynb\" style=\"text-decoration: none\">&#x22A2;&nbsp;</a><a class=\"ProveItLink\" href=\"__pv_it/11c10f4bba158f3c28c22f8b0eddbb73cf6480560/expr.ipynb\"><img src=\"data:image/png;base64,iVBORw0KGgoAAAANSUhEUgAAADMAAAANBAMAAAD2/0vEAAAAMFBMVEX///+6uroyMjJERETMzMwQ\n",
       "EBAiIiKYmJju7u5mZmaqqqpUVFSIiIh2dnbc3NwAAAAWgogoAAAAAXRSTlMAQObYZgAAAKRJREFU\n",
       "GNNjYHh7+tXJAwwogOPmBYb3DQwcF9jTWROAfE4lMNgAZPIyfmA4D6QYeD5wOaDq8uJMYDAGambg\n",
       "NmBAAw2sBxj+gBisB9ClGNY3sHwB0e8dGBpAdqWBAdiISQw8AQwM7A/OM/A0oOnSZGAGOmd9gSnD\n",
       "G3QDZzPIFzAwNJ/tvVOALtV8Zv4DBlzgGg5x7gSOKBxSbBeYL+CQ4jozEUgCABYeKl4jfnQmAAAA\n",
       "AElFTkSuQmCC\n",
       "\" style=\"display:inline;vertical-align:middle;\" /></a></span></td></tr>\n",
       "</table>"
      ],
      "text/plain": [
       "\tstep type\trequirements\tstatement\n",
       "0\tgeneralizaton\t1\t|- forall_{a in P | Q(a)} [forall_{(x, y) in R * S | x = y , Q(x)} ((x + a) = (y + a))]\n",
       "1\tspecialization\t2, 3\t{x = y} |- (x + a) = (y + a)\n",
       "\tf(x) : x + a, x : x, y : y\n",
       "2\taxiom\t\t|- forall_{f, x, y | x = y} (f(x) = f(y))\n",
       "\tproveit.logic.equality.substitution\n",
       "3\tassumption\t\t{x = y} |- x = y"
      ]
     },
     "execution_count": 93,
     "metadata": {},
     "output_type": "execute_result"
    }
   ],
   "source": [
    "nestedGenExample.proof()"
   ]
  },
  {
   "cell_type": "markdown",
   "metadata": {},
   "source": [
    "For any level in which multiple instance variables are introduced, a domain can be supplied for each new variable (as above) or one may be specified as the same domain for each of them:"
   ]
  },
  {
   "cell_type": "code",
   "execution_count": 94,
   "metadata": {},
   "outputs": [
    {
     "data": {
      "text/html": [
       "<span style=\"font-size:20px;\"> <a class=\"ProveItLink\" href=\"__pv_it/ea3c3bb24f65aac2870310d2e1937335fa1d68650/proof.ipynb\" style=\"text-decoration: none\">&#x22A2;&nbsp;</a><a class=\"ProveItLink\" href=\"__pv_it/a6ef727f55a9bb7f8e89452ef5c9cf49f306ef510/expr.ipynb\"><img src=\"data:image/png;base64,iVBORw0KGgoAAAANSUhEUgAAAccAAAAZBAMAAAC2kfhqAAAAMFBMVEX///8QEBC6urrMzMxUVFRm\n",
       "ZmZERETc3NwyMjKqqqp2dnaIiIiYmJgiIiLu7u4AAAAU9Wx4AAAAAXRSTlMAQObYZgAABZ1JREFU\n",
       "WMPlWGtoHFUU/nb2MdlHJqFF4rOkaFUopVMQLWLYpda2GMRoH2rTwPpgWxtD90dsxKJdfGCQqgu2\n",
       "oERxKfhqMIy1CZoEXf2jpJjGH1qoRqYiNrTULhZatCF47r3zutPZNKwRKR74dmfn3vvt+e6cc+6d\n",
       "C9RqXZN5XA62bLJU++AJXCamZv4fIs3aRWrz79BSC8H2VZURgZZqFmAi+QM5XJPIes5lzKPGcEag\n",
       "ikX1wBFVbL0FEvkh+/1qTSITRfqqM+dRJCObjbAQOKIamQUSuZN9ZWsSyYftnM9oHbHgmiaV8LHA\n",
       "Ea6dkOK1JEAi2VREi7UVHhYAD82nyEUWXItL2XA8cIRrfdL8NAqQyNT7PT3P1Fhdx3p6euazyCoF\n",
       "gaoiY8WAEdVE4nEBtoScy+WOzaUQ86SPSyIbcrmuf7DSWpxwPI+WBNT+tX3tski1dX8TkGjzlyLq\n",
       "fXIz1BlZZPfwYgrzd8HBRN4JbJXmbsfGDeJGs7hxavMGGvG0KGYlr8iIjljAtocYNhlehovNy4nb\n",
       "nVJRFjiJb8vXySIX52MV+sUf3IO9zF6wR5SWI1mRRCpN2EFfbwgwkTdAk5/5l8BH/EKUo/DzUJvs\n",
       "H9jvFalkMBUkgRhe9DAELBUSZ8Kei1CzQAlf4HVJpDqNKPVWGn1E1Dtc7EAsK4ncXcYmNjECTGQ9\n",
       "kmU7VQc30uVq4IjpuriCpnyTM6NT0o5nAqPynwqGNcA9s4qUOZ1JbmgWMBmDJDJSQT1dhSs+Iuqt\n",
       "4Ro0GJLIe4Ef6SstwEQmy/X2WjN00+90+ROwznVRu5Y+jjhhGdG9Ikfxs/yngoH+4YrZRPo4WcZI\n",
       "IkF+84zr7X3lyt5ecrIhizN6sEjEZ5DWRRR/J6L4HLSzskitcAv9eHL4UaR4WlN76qjrYrKROxSi\n",
       "zu3v6UgaXpFTbMOROLSUebk0i0UOQzTjEdm/6pA1NcoQQqaXU7TZi12oKAD1rL1ntJ7kbgPv0AMW\n",
       "4doxyewHe0S0gI+l6qpeQLyiSeGKravIr6NUoOqEI38d2ALXxXrWpQMrgdP53SZLQ4/IWDfN5EAk\n",
       "exUxGOfDjRbDheEFHoaEuSZUXMdqhXGqIb9C4uRtVBasFaIs8DUVks8lkWeKWBfXkfJveVjvujY8\n",
       "JonU/kSkQDn9DTi4yH2sTraFJ6wql3CIuIs83K9mftyFFgqYgldkvIOVUFbioP4ykcw6DJ96GBTs\n",
       "scc8uwxDEqdoW2k1sxWCEJ+ONaqGJLKuHP8+EbCEsBvRjDItr5N78HZbSVpCEDJYbCczaMnlcgZi\n",
       "bbJIUhBfhL3AHzjkFylyp4HnVqQUMSyGEsWWNyfPO07djVaJU7TZIpUJDq1z4MCoXHjU1oO3HiSt\n",
       "/jWJjdA6B8/LIrtHru+kns+Bg4tMUZacMWPj+V9FLhclkbG2XcXjzbgR2gyeOAElK4kc57USOq/m\n",
       "Id1huM8rMtwYxjYerliAhV5O0cYvuDVZmPu2jvdOTFxiW2elvJm+w4zwJ5LOSyLVhcabNB2naZsY\n",
       "PjvOd7zyS3O48gFK6ksI6cthMZjoCusOQzpRSNiDFioVPJV3OUXbmHcDLm/CFUlk/0Uix9hqdbwY\n",
       "9HKZMAQckUr74S3QHmFNr62XRKL75dWmDlpmlowOlhFt9ovUOvcNm+FpxFu32QwPoGXEZfjts/YB\n",
       "e9DeoQLSZZdTtN0/x1ctLfBV6xi2B/aesuA7/kiwjHLNjswlVAWSRfclLej4I4Uelm5VGJzNaj5C\n",
       "zWUfp/uayPyZ5Ugmkg862+gbDN49rrUw+xmP7WL6YRNa1h/1ssjbsF0pVGVwKn7pZorvvI/Tk3e7\n",
       "LATbJwH3qvZO6gJzFFlHyyDeEteZKiLL6BvGJUXGR9iLrJ8z8l+e1kmNKV0s7M6NyTmcu17iMFBw\n",
       "YuBfPnfN/A0roauX2K3WLwAAAABJRU5ErkJggg==\n",
       "\" style=\"display:inline;vertical-align:middle;\" /></a></span>"
      ],
      "text/plain": [
       "|- forall_{a in P | Q(a)} [forall_{x, y in R | x = y , Q(x)} ((x + a) = (y + a))]"
      ]
     },
     "execution_count": 94,
     "metadata": {},
     "output_type": "execute_result"
    }
   ],
   "source": [
    "operationSubstitution.generalize([[a], [x, y]], domainLists=[[P], [R]], conditions=[x_eq_y, Qx, Qa])"
   ]
  },
  {
   "cell_type": "markdown",
   "metadata": {},
   "source": [
    "When *generalizing* over a single **variable**, the first argument may be just that **variable** rather than a list or tuple:"
   ]
  },
  {
   "cell_type": "code",
   "execution_count": 95,
   "metadata": {},
   "outputs": [
    {
     "data": {
      "text/html": [
       "<span style=\"font-size:20px;\"><a class=\"ProveItLink\" href=\"__pv_it/827d9b00c56febbd74ae7433c9d042fcf629f8d90/expr.ipynb\"><img src=\"data:image/png;base64,iVBORw0KGgoAAAANSUhEUgAAAEUAAAAVBAMAAADiLT7tAAAAMFBMVEX///9ERETc3NyqqqpUVFS6\n",
       "urrMzMwyMjIQEBCIiIh2dnYiIiLu7u5mZmaYmJgAAABJJ2g3AAAAAXRSTlMAQObYZgAAAPZJREFU\n",
       "KM9jYGDgu8eAE7CtUgBRPLsY8AC2ZhDJ+QGfGobrIIKrAa+aFQOhhmmlk+VNNMlTtxiY/kDV8BYA\n",
       "+QyvH3SDfVEOAiUg5oJ4sJffg9gZAUA+w3wGM7SAMbjNwCjAwMB+gYEhpQ0ocIDBEd0dPAydDPwT\n",
       "gAzxBwwMEQkgoU4MxzL/YcgHSnEvALJZgO5hYPoG1AgEt3eDwEaoO2cwQN3DtYGB4RHQdXPQzAE6\n",
       "RATJ78z/GBuYJqCp4XVg/Yekhkdyzap5GI6WnPuJcDiDXIFfjTfDCQOYGj4canYxSMHTD89O7Gos\n",
       "5waAgrsVzOFbTCA9AwDSkUcoxLKrOwAAAABJRU5ErkJggg==\n",
       "\" style=\"display:inline;vertical-align:middle;\" /></a> <a class=\"ProveItLink\" href=\"__pv_it/95d5bdfc5878a76d233ea1ad0171f232f5d6a34c0/proof.ipynb\" style=\"text-decoration: none\">&#x22A2;&nbsp;</a><a class=\"ProveItLink\" href=\"__pv_it/c7d658e7878edecb3e4d294bbd8ee70c2ac4a55b0/expr.ipynb\"><img src=\"data:image/png;base64,iVBORw0KGgoAAAANSUhEUgAAAP8AAAAXBAMAAAA2MYQWAAAAMFBMVEX///8QEBC6urrMzMxUVFRm\n",
       "ZmZERETc3NwyMjKqqqp2dnaIiIiYmJgiIiLu7u4AAAAU9Wx4AAAAAXRSTlMAQObYZgAAA15JREFU\n",
       "SMfFll1IFFEUx8/uzO44u+sovpgvslJBENE8RBQVLkUoCLVUhGTQRqREQiNtSUXsFgX7YGJEIES4\n",
       "SFuEBJvpgxo41EskxAZF0Bfji0oQLglCKNK5e+/seGdnZH2oDvyZuXPPmflxzrn3DsD/NmM9zt4s\n",
       "lbOFws4RzvaKKUcGU2UC7GBysaPOEc7mU6mekkFvmQC9a/tWOEe4WJLqMl6kWHnfD2apLFM0rgZp\n",
       "pwjLZrm5t1QV2AS+vvIAPAaVZTKPU+0UYdkDbm6aKvSku/t6mRXYwuQGAOecItwA/H1Ui+3tn10+\n",
       "eJF+pDg+wXR15MpolgeIjzdgNTL2N6C3kklDwuAApJbBWoBAlOoAQIe1alguRzNN6EdLKhQr20Ol\n",
       "pENfPTkOwFsLF/DSX2jvVMEiLCLgzcMkn4EGzZ/H2CTVJlCSVlroZZcKXZo5gEFztoYqAMG8rHIA\n",
       "CR2OkzfbM4Deu305aOcApGXwYdt7q6kqIajbAARMELqYwHPm7C8qBcSYrQcOA3zBS6MdAL0NTxaW\n",
       "OAAxD5UYJ+SpgnqlYQOYRqJQvlgZUeUBsLmzLNd3NtBcL4Ky4AIAA4ZA5lpTqfep1C28q4rBvGoB\n",
       "KEmyW10aP2MBPIcCAKZHanusWou5jgkSKtvCWQakJZDzCiuB71vBYmZEKwSruQwksjCA8WYJoGM/\n",
       "UnySViyAD+Q1OQFb46eGDeyNMIBOqpA2CUEOQPkNYvIewBt7BkjEbfBHOID5PmjGHgrh+4ngPja0\n",
       "GBVyFgApmSdNvnsQ9mGezCbNUA3op+Ea3wM98DCadliG5MEx2K5zABW6/DFgLcNCQavCwYgFsIy6\n",
       "a8gRUsORVQDbqGbGfwzpPEB8YuN5PAtv2gFIxMzEKY1fBS3DO4eRI0wFIczmvOF/pxUBzkpjSg14\n",
       "Y6CsQOcsuWEbq0a1jq244P1sra3Y3LMb9xpFgK49cn8YFCxKvbDwzjpjyA1/4PDHfaDk8EdvMafU\n",
       "sdFWbm6Iib6obeqkVQKp+dEhAeA7wOaXozr4wmUex3NOx3Fl2p92cibb36otkN8JwRvFLhsrOebj\n",
       "TC7WVPooDvLEEUdnUaNyBhAW67F7SkonZalcfhfU0mfu3i+YnAHgBp6TMmv1yD/8RRW50WvaWsbf\n",
       "/OIfVd7x9Z6Jdg0AAAAASUVORK5CYII=\n",
       "\" style=\"display:inline;vertical-align:middle;\" /></a></span>"
      ],
      "text/plain": [
       "{x = y} |- forall_{a | Q(a)} ((x + a) = (y + a))"
      ]
     },
     "execution_count": 95,
     "metadata": {},
     "output_type": "execute_result"
    }
   ],
   "source": [
    "operationSubstitution.generalize(a, conditions=[Qa])"
   ]
  },
  {
   "cell_type": "markdown",
   "metadata": {},
   "source": [
    "We may only *generalize* over **variables** (or **iterations** of **variables**) however:"
   ]
  },
  {
   "cell_type": "code",
   "execution_count": 96,
   "metadata": {},
   "outputs": [
    {
     "name": "stdout",
     "output_type": "stream",
     "text": [
      "EXPECTED ERROR: Must supply 'generalize' with a Variable, list of Variables, or list of Variable lists.\n"
     ]
    }
   ],
   "source": [
    "try:\n",
    "    operationSubstitution.generalize(Qx, conditions=[Qa])\n",
    "    assert False, \"Expecting an ValueError error; should not make it to this point\"    \n",
    "except ValueError as e:\n",
    "    print('EXPECTED ERROR:', e)"
   ]
  },
  {
   "cell_type": "code",
   "execution_count": 97,
   "metadata": {},
   "outputs": [
    {
     "name": "stdout",
     "output_type": "stream",
     "text": [
      "EXPECTED ERROR: Forall variables of a generalization must be Variable objects\n"
     ]
    }
   ],
   "source": [
    "try:\n",
    "    operationSubstitution.generalize([[a], [Qx]], conditions=[Qa])\n",
    "    assert False, \"Expecting an ValueError error; should not make it to this point\"\n",
    "except ValueError as e:\n",
    "    print('EXPECTED ERROR:', e)"
   ]
  },
  {
   "cell_type": "code",
   "execution_count": 98,
   "metadata": {},
   "outputs": [],
   "source": [
    "%end universal_quantification"
   ]
  },
  {
   "cell_type": "markdown",
   "metadata": {},
   "source": [
    "*Generalizing* an unspecified number of **variables** via an **iteration** will be discussed in the chapter on <a href=\"tutorial11_advanced_proofs.ipynb\">proofs using advanced expressions</a>."
   ]
  },
  {
   "cell_type": "markdown",
   "metadata": {},
   "source": [
    "# Next chapter: <a href=\"tutorial06_theorem_proving.ipynb\">Theorem Proving</a>\n",
    "\n",
    "## <a href=\"tutorial00_introduction.ipynb#contents\">Table of Contents</a>"
   ]
  }
 ],
 "metadata": {
  "kernelspec": {
   "display_name": "Python 3",
   "language": "python",
   "name": "python3"
  }
 },
 "nbformat": 4,
 "nbformat_minor": 0
}
