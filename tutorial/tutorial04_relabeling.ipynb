{
 "cells": [
  {
   "cell_type": "markdown",
   "metadata": {},
   "source": [
    "Chapter 4. Relabeling\n",
    "=======\n",
    "\n",
    "Recall that **Variable**s in **Prove-It** are arbitrary labels that are interchangeable. In `tutorial_01_core_expr`, we demonstrated using the `relabeled` method of **Expression** to transform an expression to one with **Variable**s swapped for other **Variable**s.  This was, however, only a transformation of the expression with no proof implication.  Here we will discuss the *relabeling* derivation step in which we can derive a new **KnownTruth** from an existing **KnownTruth** by swapping **Variable**s for other **Variable**s.\n",
    "\n",
    "## Attempting to relabel a free Variable of an assumption\n",
    "\n",
    "Let us take an example from the previous tutorial chapter:"
   ]
  },
  {
   "cell_type": "code",
   "execution_count": 1,
   "metadata": {},
   "outputs": [],
   "source": [
    "from proveit._common_ import A, B, C\n",
    "from proveit.logic import Implies\n",
    "%begin relabeling"
   ]
  },
  {
   "cell_type": "code",
   "execution_count": 2,
   "metadata": {},
   "outputs": [
    {
     "data": {
      "text/html": [
       "<strong id=\"A_impl_B\">A_impl_B:</strong> <a class=\"ProveItLink\" href=\"__pv_it/74709aae353dd47ed1086aae7a6650599fd919cf0/expr.ipynb\"><img src=\"__pv_it/74709aae353dd47ed1086aae7a6650599fd919cf0/expr.png\" style=\"display:inline;vertical-align:middle;\" /></a><br>"
      ],
      "text/plain": [
       "A_impl_B: A => B"
      ]
     },
     "execution_count": 2,
     "metadata": {},
     "output_type": "execute_result"
    }
   ],
   "source": [
    "A_impl_B = Implies(A, B)"
   ]
  },
  {
   "cell_type": "code",
   "execution_count": 3,
   "metadata": {},
   "outputs": [
    {
     "data": {
      "text/html": [
       "<strong id=\"B_from_A\">B_from_A:</strong> <span style=\"font-size:20px;\"><a class=\"ProveItLink\" href=\"__pv_it/a2e36143adb5c3bd3253747e981635e079c2ab500/expr.ipynb\"><img src=\"__pv_it/a2e36143adb5c3bd3253747e981635e079c2ab500/expr.png\" style=\"display:inline;vertical-align:middle;\" /></a> &#x22A2;&nbsp;<a class=\"ProveItLink\" href=\"../packages/proveit/__pv_it/077b2ff79244fb4582cbe22c6e3356fa92a52f2f0/expr.ipynb\"><img src=\"../packages/proveit/__pv_it/077b2ff79244fb4582cbe22c6e3356fa92a52f2f0/expr.png\" style=\"display:inline;vertical-align:middle;\" /></a></span><br>"
      ],
      "text/plain": [
       "B_from_A: {A => B , A} |= B"
      ]
     },
     "execution_count": 3,
     "metadata": {},
     "output_type": "execute_result"
    }
   ],
   "source": [
    "B_from_A = A_impl_B.deriveConsequent(assumptions={A, A_impl_B})"
   ]
  },
  {
   "cell_type": "markdown",
   "metadata": {},
   "source": [
    "Now we will attempt to perform a relabeling derivation step by calling the `relabel` method on a **KnownTruth**.  This will not work because we are not allowed to relabel a **Variable** in the list of assumptions.  Otherwise we would end up being able to prove false statements (unless we relabeled the assumptions in a consistent manner, but **Prove-It** has a different mechanism for doing this as we shall see next)."
   ]
  },
  {
   "cell_type": "code",
   "execution_count": 4,
   "metadata": {},
   "outputs": [
    {
     "name": "stdout",
     "output_type": "stream",
     "text": [
      "EXPECTED ERROR: Proof step failed assuming {A => B, A}: Cannot relabel using assumptions that involve any of the relabeling variables\n"
     ]
    }
   ],
   "source": [
    "from proveit import RelabelingFailure\n",
    "try:\n",
    "    B_from_A.relabel({B:C})\n",
    "    assert False, \"Expecting an RelabelingFailure error; should not make it to this point\"\n",
    "except RelabelingFailure as e:\n",
    "    print(\"EXPECTED ERROR:\", e)"
   ]
  },
  {
   "cell_type": "markdown",
   "metadata": {},
   "source": [
    "## Basic relabeling\n",
    "\n",
    "If we convert the assumptions to explicit hypotheses first, then we can do the relabeling that we failed to do before."
   ]
  },
  {
   "cell_type": "code",
   "execution_count": 5,
   "metadata": {},
   "outputs": [
    {
     "data": {
      "text/html": [
       "<strong id=\"explicit_B_from_A\">explicit_B_from_A:</strong> <span style=\"font-size:20px;\"> &#x22A2;&nbsp;<a class=\"ProveItLink\" href=\"__pv_it/9664e16d4e603eda486e2dcc84584c0b1747fff00/expr.ipynb\"><img src=\"__pv_it/9664e16d4e603eda486e2dcc84584c0b1747fff00/expr.png\" style=\"display:inline;vertical-align:middle;\" /></a></span><br>"
      ],
      "text/plain": [
       "explicit_B_from_A: |= A => ((A => B) => B)"
      ]
     },
     "execution_count": 5,
     "metadata": {},
     "output_type": "execute_result"
    }
   ],
   "source": [
    "explicit_B_from_A = B_from_A.asImplication(A_impl_B).asImplication(A)"
   ]
  },
  {
   "cell_type": "markdown",
   "metadata": {},
   "source": [
    "This is a true statement that requires no assumptions.  This statement is valid for any value of $A$ and $B$ according to the rule that an implication is true as long as the conclusion is true whenever the hypothesis is true (but otherwise being indifferent to truth-aptness).  Now we will relabel $B$ to $C$ by calling **KnownTruth**'s `relabel` method."
   ]
  },
  {
   "cell_type": "code",
   "execution_count": 6,
   "metadata": {},
   "outputs": [
    {
     "data": {
      "text/html": [
       "<strong id=\"explicit_C_from_A\">explicit_C_from_A:</strong> <span style=\"font-size:20px;\"> &#x22A2;&nbsp;<a class=\"ProveItLink\" href=\"__pv_it/5d066b98939e0d1f8ed903b4728249ea4e6920580/expr.ipynb\"><img src=\"__pv_it/5d066b98939e0d1f8ed903b4728249ea4e6920580/expr.png\" style=\"display:inline;vertical-align:middle;\" /></a></span><br>"
      ],
      "text/plain": [
       "explicit_C_from_A: |= A => ((A => C) => C)"
      ]
     },
     "execution_count": 6,
     "metadata": {},
     "output_type": "execute_result"
    }
   ],
   "source": [
    "explicit_C_from_A = explicit_B_from_A.relabel({B:C})"
   ]
  },
  {
   "cell_type": "markdown",
   "metadata": {},
   "source": [
    "Here is the full proof:"
   ]
  },
  {
   "cell_type": "code",
   "execution_count": 7,
   "metadata": {},
   "outputs": [
    {
     "data": {
      "text/html": [
       "<table><tr><th>&nbsp;</th><th>step type</th><th>requirements</th><th>statement</th></tr>\n",
       "<tr><td>0</td><td>relabeling</td><td>1</td><td><span style=\"font-size:20px;\"> &#x22A2;&nbsp;<a class=\"ProveItLink\" href=\"__pv_it/5d066b98939e0d1f8ed903b4728249ea4e6920580/expr.ipynb\"><img src=\"__pv_it/5d066b98939e0d1f8ed903b4728249ea4e6920580/expr.png\" style=\"display:inline;vertical-align:middle;\" /></a></span></td></tr>\n",
       "<tr><td>&nbsp;</td><td colspan=4 style=\"text-align:left\"><span style=\"font-size:20px;\"><a class=\"ProveItLink\" href=\"__pv_it/980e1b45d0249a0ec2ea73c3cc60691f9afcb8530/expr.ipynb\"><img src=\"__pv_it/980e1b45d0249a0ec2ea73c3cc60691f9afcb8530/expr.png\" style=\"display:inline;vertical-align:middle;\" /></a></span></td></tr><tr><td>1</td><td>hypothetical reasoning</td><td>2</td><td><span style=\"font-size:20px;\"> &#x22A2;&nbsp;<a class=\"ProveItLink\" href=\"__pv_it/9664e16d4e603eda486e2dcc84584c0b1747fff00/expr.ipynb\"><img src=\"__pv_it/9664e16d4e603eda486e2dcc84584c0b1747fff00/expr.png\" style=\"display:inline;vertical-align:middle;\" /></a></span></td></tr>\n",
       "<tr><td>2</td><td>hypothetical reasoning</td><td>3</td><td><span style=\"font-size:20px;\"><a class=\"ProveItLink\" href=\"__pv_it/158bdc91074824c720728a23dba5d58593c8cc480/expr.ipynb\"><img src=\"__pv_it/158bdc91074824c720728a23dba5d58593c8cc480/expr.png\" style=\"display:inline;vertical-align:middle;\" /></a> &#x22A2;&nbsp;<a class=\"ProveItLink\" href=\"__pv_it/25e4440aa57c7bfc46ec2daf3980295fc0375a430/expr.ipynb\"><img src=\"__pv_it/25e4440aa57c7bfc46ec2daf3980295fc0375a430/expr.png\" style=\"display:inline;vertical-align:middle;\" /></a></span></td></tr>\n",
       "<tr><td>3</td><td>modus ponens</td><td>4, 5</td><td><span style=\"font-size:20px;\"><a class=\"ProveItLink\" href=\"__pv_it/a2e36143adb5c3bd3253747e981635e079c2ab500/expr.ipynb\"><img src=\"__pv_it/a2e36143adb5c3bd3253747e981635e079c2ab500/expr.png\" style=\"display:inline;vertical-align:middle;\" /></a> &#x22A2;&nbsp;<a class=\"ProveItLink\" href=\"../packages/proveit/__pv_it/077b2ff79244fb4582cbe22c6e3356fa92a52f2f0/expr.ipynb\"><img src=\"../packages/proveit/__pv_it/077b2ff79244fb4582cbe22c6e3356fa92a52f2f0/expr.png\" style=\"display:inline;vertical-align:middle;\" /></a></span></td></tr>\n",
       "<tr><td>4</td><td>assumption</td><td></td><td><span style=\"font-size:20px;\"><a class=\"ProveItLink\" href=\"__pv_it/9654b2deb52acc32c7e7f9ddb0ac7acafab7fd220/expr.ipynb\"><img src=\"__pv_it/9654b2deb52acc32c7e7f9ddb0ac7acafab7fd220/expr.png\" style=\"display:inline;vertical-align:middle;\" /></a> &#x22A2;&nbsp;<a class=\"ProveItLink\" href=\"__pv_it/74709aae353dd47ed1086aae7a6650599fd919cf0/expr.ipynb\"><img src=\"__pv_it/74709aae353dd47ed1086aae7a6650599fd919cf0/expr.png\" style=\"display:inline;vertical-align:middle;\" /></a></span></td></tr>\n",
       "<tr><td>5</td><td>assumption</td><td></td><td><span style=\"font-size:20px;\"><a class=\"ProveItLink\" href=\"__pv_it/158bdc91074824c720728a23dba5d58593c8cc480/expr.ipynb\"><img src=\"__pv_it/158bdc91074824c720728a23dba5d58593c8cc480/expr.png\" style=\"display:inline;vertical-align:middle;\" /></a> &#x22A2;&nbsp;<a class=\"ProveItLink\" href=\"../packages/proveit/__pv_it/2cbe72a7ad6f655694dd697106680215e8489b600/expr.ipynb\"><img src=\"../packages/proveit/__pv_it/2cbe72a7ad6f655694dd697106680215e8489b600/expr.png\" style=\"display:inline;vertical-align:middle;\" /></a></span></td></tr>\n",
       "</table>"
      ],
      "text/plain": [
       "\tstep type\trequirements\tstatement\n",
       "0\trelabeling\t1\t|= A => ((A => C) => C)\n",
       "\tB -> C\n",
       "1\thypothetical reasoning\t2\t|= A => ((A => B) => B)\n",
       "2\thypothetical reasoning\t3\t{A} |= (A => B) => B\n",
       "3\tmodus ponens\t4, 5\t{A => B , A} |= B\n",
       "4\tassumption\t\t{A => B} |= A => B\n",
       "5\tassumption\t\t{A} |= A"
      ]
     },
     "execution_count": 7,
     "metadata": {},
     "output_type": "execute_result"
    }
   ],
   "source": [
    "explicit_C_from_A.proof()"
   ]
  },
  {
   "cell_type": "markdown",
   "metadata": {},
   "source": [
    "Note, however, that a **Variable** may only be relabeled to another **Variable**.  To do anything else, *specialization* would be required.  We will discuss *specialization* in the next tutorial chapter."
   ]
  },
  {
   "cell_type": "code",
   "execution_count": 8,
   "metadata": {},
   "outputs": [
    {
     "name": "stdout",
     "output_type": "stream",
     "text": [
      "EXPECTED ERROR: Proof step failed: May only relabel a Variable to a Variable.\n"
     ]
    }
   ],
   "source": [
    "from proveit.logic import And\n",
    "try:\n",
    "    explicit_B_from_A.relabel({B:And(B, C)})\n",
    "    assert False, \"Expecting an RelabelingFailure error; should not make it to this point\"\n",
    "except RelabelingFailure as e:\n",
    "    print(\"EXPECTED ERROR:\", e)"
   ]
  },
  {
   "cell_type": "markdown",
   "metadata": {},
   "source": [
    "## Simultaneous relabeling\n",
    "\n",
    "Relabeling will occur simultaneously in a consistent manner.  For example, we can switch labels."
   ]
  },
  {
   "cell_type": "code",
   "execution_count": 9,
   "metadata": {},
   "outputs": [
    {
     "data": {
      "text/html": [
       "<span style=\"font-size:20px;\"> &#x22A2;&nbsp;<a class=\"ProveItLink\" href=\"__pv_it/adbd90f22d46b6ff95dc06d0293af1f441ebce2a0/expr.ipynb\"><img src=\"__pv_it/adbd90f22d46b6ff95dc06d0293af1f441ebce2a0/expr.png\" style=\"display:inline;vertical-align:middle;\" /></a></span>"
      ],
      "text/plain": [
       "|= B => ((B => A) => A)"
      ]
     },
     "execution_count": 9,
     "metadata": {},
     "output_type": "execute_result"
    }
   ],
   "source": [
    "explicit_B_from_A.relabel({A:B, B:A})"
   ]
  },
  {
   "cell_type": "markdown",
   "metadata": {},
   "source": [
    "Let us try a case with three labels that we will cycle."
   ]
  },
  {
   "cell_type": "code",
   "execution_count": 10,
   "metadata": {},
   "outputs": [
    {
     "data": {
      "text/html": [
       "<strong id=\"nestedImpl\">nestedImpl:</strong> <a class=\"ProveItLink\" href=\"__pv_it/9488ee792e0b5d7105f5afbdb46e950ac1fc8c330/expr.ipynb\"><img src=\"__pv_it/9488ee792e0b5d7105f5afbdb46e950ac1fc8c330/expr.png\" style=\"display:inline;vertical-align:middle;\" /></a><br>"
      ],
      "text/plain": [
       "nestedImpl: A => (B => C)"
      ]
     },
     "execution_count": 10,
     "metadata": {},
     "output_type": "execute_result"
    }
   ],
   "source": [
    "nestedImpl = Implies(A, Implies(B, C))"
   ]
  },
  {
   "cell_type": "code",
   "execution_count": 11,
   "metadata": {},
   "outputs": [
    {
     "data": {
      "text/html": [
       "<strong id=\"CfromNestedImpl\">CfromNestedImpl:</strong> <span style=\"font-size:20px;\"><a class=\"ProveItLink\" href=\"__pv_it/6ead5107cfaaf8790db35e84ec4393a9b1cd356e0/expr.ipynb\"><img src=\"__pv_it/6ead5107cfaaf8790db35e84ec4393a9b1cd356e0/expr.png\" style=\"display:inline;vertical-align:middle;\" /></a> &#x22A2;&nbsp;<a class=\"ProveItLink\" href=\"../packages/proveit/__pv_it/985a1bdf1540838275dec15f4ad6de261cca93ce0/expr.ipynb\"><img src=\"../packages/proveit/__pv_it/985a1bdf1540838275dec15f4ad6de261cca93ce0/expr.png\" style=\"display:inline;vertical-align:middle;\" /></a></span><br>"
      ],
      "text/plain": [
       "CfromNestedImpl: {A => (B => C) , A , B} |= C"
      ]
     },
     "execution_count": 11,
     "metadata": {},
     "output_type": "execute_result"
    }
   ],
   "source": [
    "CfromNestedImpl = nestedImpl.deriveConsequent([nestedImpl, A]).deriveConsequent([nestedImpl, A, B])"
   ]
  },
  {
   "cell_type": "code",
   "execution_count": 12,
   "metadata": {},
   "outputs": [
    {
     "data": {
      "text/html": [
       "<strong id=\"cascadingImpl\">cascadingImpl:</strong> <span style=\"font-size:20px;\"> &#x22A2;&nbsp;<a class=\"ProveItLink\" href=\"__pv_it/afa1c0e6d0abb4443a94b8664b10b511ae8a03110/expr.ipynb\"><img src=\"__pv_it/afa1c0e6d0abb4443a94b8664b10b511ae8a03110/expr.png\" style=\"display:inline;vertical-align:middle;\" /></a></span><br>"
      ],
      "text/plain": [
       "cascadingImpl: |= A => (B => ((A => (B => C)) => C))"
      ]
     },
     "execution_count": 12,
     "metadata": {},
     "output_type": "execute_result"
    }
   ],
   "source": [
    "cascadingImpl = CfromNestedImpl.asImplication(nestedImpl).asImplication(B).asImplication(A)"
   ]
  },
  {
   "cell_type": "markdown",
   "metadata": {},
   "source": [
    "Convincing yourself that this is correct is left as an exercise to the reader (you could make a truth table and/or check the logic that got us to this point).  In any case, now we will demonstrate cyclic relabeling."
   ]
  },
  {
   "cell_type": "code",
   "execution_count": 13,
   "metadata": {},
   "outputs": [
    {
     "data": {
      "text/html": [
       "<strong id=\"relabeledCascadingImpl\">relabeledCascadingImpl:</strong> <span style=\"font-size:20px;\"> &#x22A2;&nbsp;<a class=\"ProveItLink\" href=\"__pv_it/96888aef4fe0321f02ec9e0fbc807282503d81af0/expr.ipynb\"><img src=\"__pv_it/96888aef4fe0321f02ec9e0fbc807282503d81af0/expr.png\" style=\"display:inline;vertical-align:middle;\" /></a></span><br>"
      ],
      "text/plain": [
       "relabeledCascadingImpl: |= B => (C => ((B => (C => A)) => A))"
      ]
     },
     "execution_count": 13,
     "metadata": {},
     "output_type": "execute_result"
    }
   ],
   "source": [
    "relabeledCascadingImpl = cascadingImpl.relabel({A:B, B:C, C:A})"
   ]
  },
  {
   "cell_type": "markdown",
   "metadata": {},
   "source": [
    "Let us look at this proof:"
   ]
  },
  {
   "cell_type": "code",
   "execution_count": 14,
   "metadata": {},
   "outputs": [
    {
     "data": {
      "text/html": [
       "<table><tr><th>&nbsp;</th><th>step type</th><th>requirements</th><th>statement</th></tr>\n",
       "<tr><td>0</td><td>relabeling</td><td>1</td><td><span style=\"font-size:20px;\"> &#x22A2;&nbsp;<a class=\"ProveItLink\" href=\"__pv_it/96888aef4fe0321f02ec9e0fbc807282503d81af0/expr.ipynb\"><img src=\"__pv_it/96888aef4fe0321f02ec9e0fbc807282503d81af0/expr.png\" style=\"display:inline;vertical-align:middle;\" /></a></span></td></tr>\n",
       "<tr><td>&nbsp;</td><td colspan=4 style=\"text-align:left\"><span style=\"font-size:20px;\"><a class=\"ProveItLink\" href=\"__pv_it/788ef5511dfca54206679fdb7d1131e45dc4c3d50/expr.ipynb\"><img src=\"__pv_it/788ef5511dfca54206679fdb7d1131e45dc4c3d50/expr.png\" style=\"display:inline;vertical-align:middle;\" /></a>, <a class=\"ProveItLink\" href=\"__pv_it/980e1b45d0249a0ec2ea73c3cc60691f9afcb8530/expr.ipynb\"><img src=\"__pv_it/980e1b45d0249a0ec2ea73c3cc60691f9afcb8530/expr.png\" style=\"display:inline;vertical-align:middle;\" /></a>, <a class=\"ProveItLink\" href=\"__pv_it/f5bda95417ce7ad57302047628c0ad6b31a6cea00/expr.ipynb\"><img src=\"__pv_it/f5bda95417ce7ad57302047628c0ad6b31a6cea00/expr.png\" style=\"display:inline;vertical-align:middle;\" /></a></span></td></tr><tr><td>1</td><td>hypothetical reasoning</td><td>2</td><td><span style=\"font-size:20px;\"> &#x22A2;&nbsp;<a class=\"ProveItLink\" href=\"__pv_it/afa1c0e6d0abb4443a94b8664b10b511ae8a03110/expr.ipynb\"><img src=\"__pv_it/afa1c0e6d0abb4443a94b8664b10b511ae8a03110/expr.png\" style=\"display:inline;vertical-align:middle;\" /></a></span></td></tr>\n",
       "<tr><td>2</td><td>hypothetical reasoning</td><td>3</td><td><span style=\"font-size:20px;\"><a class=\"ProveItLink\" href=\"__pv_it/158bdc91074824c720728a23dba5d58593c8cc480/expr.ipynb\"><img src=\"__pv_it/158bdc91074824c720728a23dba5d58593c8cc480/expr.png\" style=\"display:inline;vertical-align:middle;\" /></a> &#x22A2;&nbsp;<a class=\"ProveItLink\" href=\"__pv_it/76075210eb78ca55aac33dc62ad5dcb364c5dc700/expr.ipynb\"><img src=\"__pv_it/76075210eb78ca55aac33dc62ad5dcb364c5dc700/expr.png\" style=\"display:inline;vertical-align:middle;\" /></a></span></td></tr>\n",
       "<tr><td>3</td><td>hypothetical reasoning</td><td>4</td><td><span style=\"font-size:20px;\"><a class=\"ProveItLink\" href=\"__pv_it/5cd9b33b88e1a628ed00ab113cff428eab1aa3cc0/expr.ipynb\"><img src=\"__pv_it/5cd9b33b88e1a628ed00ab113cff428eab1aa3cc0/expr.png\" style=\"display:inline;vertical-align:middle;\" /></a> &#x22A2;&nbsp;<a class=\"ProveItLink\" href=\"__pv_it/1d467b424f18c70fb33e47756e595dbfcf5161820/expr.ipynb\"><img src=\"__pv_it/1d467b424f18c70fb33e47756e595dbfcf5161820/expr.png\" style=\"display:inline;vertical-align:middle;\" /></a></span></td></tr>\n",
       "<tr><td>4</td><td>modus ponens</td><td>5, 6</td><td><span style=\"font-size:20px;\"><a class=\"ProveItLink\" href=\"__pv_it/6ead5107cfaaf8790db35e84ec4393a9b1cd356e0/expr.ipynb\"><img src=\"__pv_it/6ead5107cfaaf8790db35e84ec4393a9b1cd356e0/expr.png\" style=\"display:inline;vertical-align:middle;\" /></a> &#x22A2;&nbsp;<a class=\"ProveItLink\" href=\"../packages/proveit/__pv_it/985a1bdf1540838275dec15f4ad6de261cca93ce0/expr.ipynb\"><img src=\"../packages/proveit/__pv_it/985a1bdf1540838275dec15f4ad6de261cca93ce0/expr.png\" style=\"display:inline;vertical-align:middle;\" /></a></span></td></tr>\n",
       "<tr><td>5</td><td>modus ponens</td><td>7, 8</td><td><span style=\"font-size:20px;\"><a class=\"ProveItLink\" href=\"__pv_it/52bd2565e36c49449a6974c5da771dd21e90d03e0/expr.ipynb\"><img src=\"__pv_it/52bd2565e36c49449a6974c5da771dd21e90d03e0/expr.png\" style=\"display:inline;vertical-align:middle;\" /></a> &#x22A2;&nbsp;<a class=\"ProveItLink\" href=\"__pv_it/318ec56dfe326b491d8f5311d25e366580d46fdd0/expr.ipynb\"><img src=\"__pv_it/318ec56dfe326b491d8f5311d25e366580d46fdd0/expr.png\" style=\"display:inline;vertical-align:middle;\" /></a></span></td></tr>\n",
       "<tr><td>6</td><td>assumption</td><td></td><td><span style=\"font-size:20px;\"><a class=\"ProveItLink\" href=\"__pv_it/1612ee39be24e00576045a5f0471ba42a9eab2970/expr.ipynb\"><img src=\"__pv_it/1612ee39be24e00576045a5f0471ba42a9eab2970/expr.png\" style=\"display:inline;vertical-align:middle;\" /></a> &#x22A2;&nbsp;<a class=\"ProveItLink\" href=\"../packages/proveit/__pv_it/077b2ff79244fb4582cbe22c6e3356fa92a52f2f0/expr.ipynb\"><img src=\"../packages/proveit/__pv_it/077b2ff79244fb4582cbe22c6e3356fa92a52f2f0/expr.png\" style=\"display:inline;vertical-align:middle;\" /></a></span></td></tr>\n",
       "<tr><td>7</td><td>assumption</td><td></td><td><span style=\"font-size:20px;\"><a class=\"ProveItLink\" href=\"__pv_it/83f8c6ae742b1055ddd92b2e3844fde6f3c7726c0/expr.ipynb\"><img src=\"__pv_it/83f8c6ae742b1055ddd92b2e3844fde6f3c7726c0/expr.png\" style=\"display:inline;vertical-align:middle;\" /></a> &#x22A2;&nbsp;<a class=\"ProveItLink\" href=\"__pv_it/9488ee792e0b5d7105f5afbdb46e950ac1fc8c330/expr.ipynb\"><img src=\"__pv_it/9488ee792e0b5d7105f5afbdb46e950ac1fc8c330/expr.png\" style=\"display:inline;vertical-align:middle;\" /></a></span></td></tr>\n",
       "<tr><td>8</td><td>assumption</td><td></td><td><span style=\"font-size:20px;\"><a class=\"ProveItLink\" href=\"__pv_it/158bdc91074824c720728a23dba5d58593c8cc480/expr.ipynb\"><img src=\"__pv_it/158bdc91074824c720728a23dba5d58593c8cc480/expr.png\" style=\"display:inline;vertical-align:middle;\" /></a> &#x22A2;&nbsp;<a class=\"ProveItLink\" href=\"../packages/proveit/__pv_it/2cbe72a7ad6f655694dd697106680215e8489b600/expr.ipynb\"><img src=\"../packages/proveit/__pv_it/2cbe72a7ad6f655694dd697106680215e8489b600/expr.png\" style=\"display:inline;vertical-align:middle;\" /></a></span></td></tr>\n",
       "</table>"
      ],
      "text/plain": [
       "\tstep type\trequirements\tstatement\n",
       "0\trelabeling\t1\t|= B => (C => ((B => (C => A)) => A))\n",
       "\tA -> B, B -> C, C -> A\n",
       "1\thypothetical reasoning\t2\t|= A => (B => ((A => (B => C)) => C))\n",
       "2\thypothetical reasoning\t3\t{A} |= B => ((A => (B => C)) => C)\n",
       "3\thypothetical reasoning\t4\t{A , B} |= (A => (B => C)) => C\n",
       "4\tmodus ponens\t5, 6\t{A => (B => C) , A , B} |= C\n",
       "5\tmodus ponens\t7, 8\t{A => (B => C) , A} |= B => C\n",
       "6\tassumption\t\t{B} |= B\n",
       "7\tassumption\t\t{A => (B => C)} |= A => (B => C)\n",
       "8\tassumption\t\t{A} |= A"
      ]
     },
     "execution_count": 14,
     "metadata": {},
     "output_type": "execute_result"
    }
   ],
   "source": [
    "relabeledCascadingImpl.proof()"
   ]
  },
  {
   "cell_type": "markdown",
   "metadata": {},
   "source": [
    "## Duplicated relabeling\n",
    "\n",
    "It is possible to relabel multiple **Variable**s to the same **Variable** to derive a **KnownTruth** that is weaker than the original statement."
   ]
  },
  {
   "cell_type": "code",
   "execution_count": 15,
   "metadata": {},
   "outputs": [
    {
     "data": {
      "text/html": [
       "<strong id=\"redundantCascadingImpl\">redundantCascadingImpl:</strong> <span style=\"font-size:20px;\"> &#x22A2;&nbsp;<a class=\"ProveItLink\" href=\"__pv_it/cd0c787fb7a0b3b371c668e4d0994c9d3f603f940/expr.ipynb\"><img src=\"__pv_it/cd0c787fb7a0b3b371c668e4d0994c9d3f603f940/expr.png\" style=\"display:inline;vertical-align:middle;\" /></a></span><br>"
      ],
      "text/plain": [
       "redundantCascadingImpl: |= B => (B => ((B => (B => C)) => C))"
      ]
     },
     "execution_count": 15,
     "metadata": {},
     "output_type": "execute_result"
    }
   ],
   "source": [
    "redundantCascadingImpl = cascadingImpl.relabel({A:B})"
   ]
  },
  {
   "cell_type": "code",
   "execution_count": 16,
   "metadata": {},
   "outputs": [
    {
     "data": {
      "text/html": [
       "<table><tr><th>&nbsp;</th><th>step type</th><th>requirements</th><th>statement</th></tr>\n",
       "<tr><td>0</td><td>relabeling</td><td>1</td><td><span style=\"font-size:20px;\"> &#x22A2;&nbsp;<a class=\"ProveItLink\" href=\"__pv_it/cd0c787fb7a0b3b371c668e4d0994c9d3f603f940/expr.ipynb\"><img src=\"__pv_it/cd0c787fb7a0b3b371c668e4d0994c9d3f603f940/expr.png\" style=\"display:inline;vertical-align:middle;\" /></a></span></td></tr>\n",
       "<tr><td>&nbsp;</td><td colspan=4 style=\"text-align:left\"><span style=\"font-size:20px;\"><a class=\"ProveItLink\" href=\"__pv_it/788ef5511dfca54206679fdb7d1131e45dc4c3d50/expr.ipynb\"><img src=\"__pv_it/788ef5511dfca54206679fdb7d1131e45dc4c3d50/expr.png\" style=\"display:inline;vertical-align:middle;\" /></a></span></td></tr><tr><td>1</td><td>hypothetical reasoning</td><td>2</td><td><span style=\"font-size:20px;\"> &#x22A2;&nbsp;<a class=\"ProveItLink\" href=\"__pv_it/afa1c0e6d0abb4443a94b8664b10b511ae8a03110/expr.ipynb\"><img src=\"__pv_it/afa1c0e6d0abb4443a94b8664b10b511ae8a03110/expr.png\" style=\"display:inline;vertical-align:middle;\" /></a></span></td></tr>\n",
       "<tr><td>2</td><td>hypothetical reasoning</td><td>3</td><td><span style=\"font-size:20px;\"><a class=\"ProveItLink\" href=\"__pv_it/158bdc91074824c720728a23dba5d58593c8cc480/expr.ipynb\"><img src=\"__pv_it/158bdc91074824c720728a23dba5d58593c8cc480/expr.png\" style=\"display:inline;vertical-align:middle;\" /></a> &#x22A2;&nbsp;<a class=\"ProveItLink\" href=\"__pv_it/76075210eb78ca55aac33dc62ad5dcb364c5dc700/expr.ipynb\"><img src=\"__pv_it/76075210eb78ca55aac33dc62ad5dcb364c5dc700/expr.png\" style=\"display:inline;vertical-align:middle;\" /></a></span></td></tr>\n",
       "<tr><td>3</td><td>hypothetical reasoning</td><td>4</td><td><span style=\"font-size:20px;\"><a class=\"ProveItLink\" href=\"__pv_it/5cd9b33b88e1a628ed00ab113cff428eab1aa3cc0/expr.ipynb\"><img src=\"__pv_it/5cd9b33b88e1a628ed00ab113cff428eab1aa3cc0/expr.png\" style=\"display:inline;vertical-align:middle;\" /></a> &#x22A2;&nbsp;<a class=\"ProveItLink\" href=\"__pv_it/1d467b424f18c70fb33e47756e595dbfcf5161820/expr.ipynb\"><img src=\"__pv_it/1d467b424f18c70fb33e47756e595dbfcf5161820/expr.png\" style=\"display:inline;vertical-align:middle;\" /></a></span></td></tr>\n",
       "<tr><td>4</td><td>modus ponens</td><td>5, 6</td><td><span style=\"font-size:20px;\"><a class=\"ProveItLink\" href=\"__pv_it/6ead5107cfaaf8790db35e84ec4393a9b1cd356e0/expr.ipynb\"><img src=\"__pv_it/6ead5107cfaaf8790db35e84ec4393a9b1cd356e0/expr.png\" style=\"display:inline;vertical-align:middle;\" /></a> &#x22A2;&nbsp;<a class=\"ProveItLink\" href=\"../packages/proveit/__pv_it/985a1bdf1540838275dec15f4ad6de261cca93ce0/expr.ipynb\"><img src=\"../packages/proveit/__pv_it/985a1bdf1540838275dec15f4ad6de261cca93ce0/expr.png\" style=\"display:inline;vertical-align:middle;\" /></a></span></td></tr>\n",
       "<tr><td>5</td><td>modus ponens</td><td>7, 8</td><td><span style=\"font-size:20px;\"><a class=\"ProveItLink\" href=\"__pv_it/52bd2565e36c49449a6974c5da771dd21e90d03e0/expr.ipynb\"><img src=\"__pv_it/52bd2565e36c49449a6974c5da771dd21e90d03e0/expr.png\" style=\"display:inline;vertical-align:middle;\" /></a> &#x22A2;&nbsp;<a class=\"ProveItLink\" href=\"__pv_it/318ec56dfe326b491d8f5311d25e366580d46fdd0/expr.ipynb\"><img src=\"__pv_it/318ec56dfe326b491d8f5311d25e366580d46fdd0/expr.png\" style=\"display:inline;vertical-align:middle;\" /></a></span></td></tr>\n",
       "<tr><td>6</td><td>assumption</td><td></td><td><span style=\"font-size:20px;\"><a class=\"ProveItLink\" href=\"__pv_it/1612ee39be24e00576045a5f0471ba42a9eab2970/expr.ipynb\"><img src=\"__pv_it/1612ee39be24e00576045a5f0471ba42a9eab2970/expr.png\" style=\"display:inline;vertical-align:middle;\" /></a> &#x22A2;&nbsp;<a class=\"ProveItLink\" href=\"../packages/proveit/__pv_it/077b2ff79244fb4582cbe22c6e3356fa92a52f2f0/expr.ipynb\"><img src=\"../packages/proveit/__pv_it/077b2ff79244fb4582cbe22c6e3356fa92a52f2f0/expr.png\" style=\"display:inline;vertical-align:middle;\" /></a></span></td></tr>\n",
       "<tr><td>7</td><td>assumption</td><td></td><td><span style=\"font-size:20px;\"><a class=\"ProveItLink\" href=\"__pv_it/83f8c6ae742b1055ddd92b2e3844fde6f3c7726c0/expr.ipynb\"><img src=\"__pv_it/83f8c6ae742b1055ddd92b2e3844fde6f3c7726c0/expr.png\" style=\"display:inline;vertical-align:middle;\" /></a> &#x22A2;&nbsp;<a class=\"ProveItLink\" href=\"__pv_it/9488ee792e0b5d7105f5afbdb46e950ac1fc8c330/expr.ipynb\"><img src=\"__pv_it/9488ee792e0b5d7105f5afbdb46e950ac1fc8c330/expr.png\" style=\"display:inline;vertical-align:middle;\" /></a></span></td></tr>\n",
       "<tr><td>8</td><td>assumption</td><td></td><td><span style=\"font-size:20px;\"><a class=\"ProveItLink\" href=\"__pv_it/158bdc91074824c720728a23dba5d58593c8cc480/expr.ipynb\"><img src=\"__pv_it/158bdc91074824c720728a23dba5d58593c8cc480/expr.png\" style=\"display:inline;vertical-align:middle;\" /></a> &#x22A2;&nbsp;<a class=\"ProveItLink\" href=\"../packages/proveit/__pv_it/2cbe72a7ad6f655694dd697106680215e8489b600/expr.ipynb\"><img src=\"../packages/proveit/__pv_it/2cbe72a7ad6f655694dd697106680215e8489b600/expr.png\" style=\"display:inline;vertical-align:middle;\" /></a></span></td></tr>\n",
       "</table>"
      ],
      "text/plain": [
       "\tstep type\trequirements\tstatement\n",
       "0\trelabeling\t1\t|= B => (B => ((B => (B => C)) => C))\n",
       "\tA -> B\n",
       "1\thypothetical reasoning\t2\t|= A => (B => ((A => (B => C)) => C))\n",
       "2\thypothetical reasoning\t3\t{A} |= B => ((A => (B => C)) => C)\n",
       "3\thypothetical reasoning\t4\t{A , B} |= (A => (B => C)) => C\n",
       "4\tmodus ponens\t5, 6\t{A => (B => C) , A , B} |= C\n",
       "5\tmodus ponens\t7, 8\t{A => (B => C) , A} |= B => C\n",
       "6\tassumption\t\t{B} |= B\n",
       "7\tassumption\t\t{A => (B => C)} |= A => (B => C)\n",
       "8\tassumption\t\t{A} |= A"
      ]
     },
     "execution_count": 16,
     "metadata": {},
     "output_type": "execute_result"
    }
   ],
   "source": [
    "redundantCascadingImpl.proof()"
   ]
  },
  {
   "cell_type": "markdown",
   "metadata": {},
   "source": [
    "## Literals cannot be relabeled\n",
    "\n",
    "We saw that **Literals** cannot be relabeled in *expression relabeling* in the <a href=\"tutorial01_basic_expr.ipynb\">basic expressions chapter</a>.  Let us revisit this and verify that we cannot perform a relabeling derivation step."
   ]
  },
  {
   "cell_type": "code",
   "execution_count": 17,
   "metadata": {},
   "outputs": [
    {
     "data": {
      "text/html": [
       "<strong id=\"X\">X:</strong> <a class=\"ProveItLink\" href=\"__pv_it/6e1b408243d9b1d364bd9ad249c1e854d92ba3a50/expr.ipynb\"><img src=\"__pv_it/6e1b408243d9b1d364bd9ad249c1e854d92ba3a50/expr.png\" style=\"display:inline;vertical-align:middle;\" /></a><br>\n",
       "<strong id=\"Y\">Y:</strong> <a class=\"ProveItLink\" href=\"__pv_it/6cc660794416efade8d57c502e2b99e8c6a1df6d0/expr.ipynb\"><img src=\"__pv_it/6cc660794416efade8d57c502e2b99e8c6a1df6d0/expr.png\" style=\"display:inline;vertical-align:middle;\" /></a><br>\n",
       "<strong id=\"Z\">Z:</strong> <a class=\"ProveItLink\" href=\"__pv_it/01fa066582b7adbef724608a37ea3a7e68200f710/expr.ipynb\"><img src=\"__pv_it/01fa066582b7adbef724608a37ea3a7e68200f710/expr.png\" style=\"display:inline;vertical-align:middle;\" /></a><br>"
      ],
      "text/plain": [
       "X: tutorial\n",
       "Y: tutorial\n",
       "Z: tutorial"
      ]
     },
     "execution_count": 17,
     "metadata": {},
     "output_type": "execute_result"
    }
   ],
   "source": [
    "from proveit import Literal\n",
    "X, Y, Z = Literal('tutorial', 'X'), Literal('tutorial', 'Y'), Literal('tutorial', 'Z')"
   ]
  },
  {
   "cell_type": "code",
   "execution_count": 18,
   "metadata": {},
   "outputs": [
    {
     "data": {
      "text/html": [
       "<strong id=\"XYZimpl\">XYZimpl:</strong> <a class=\"ProveItLink\" href=\"__pv_it/132a69527fa96b17292d0263cb7e2bee6841dd190/expr.ipynb\"><img src=\"__pv_it/132a69527fa96b17292d0263cb7e2bee6841dd190/expr.png\" style=\"display:inline;vertical-align:middle;\" /></a><br>"
      ],
      "text/plain": [
       "XYZimpl: tutorial => (tutorial => tutorial)"
      ]
     },
     "execution_count": 18,
     "metadata": {},
     "output_type": "execute_result"
    }
   ],
   "source": [
    "XYZimpl = Implies(X, Implies(Y, Z))"
   ]
  },
  {
   "cell_type": "markdown",
   "metadata": {},
   "source": [
    "Let us try to relabel this.  Our first mistake will be that the expression is not a **KnownTruth**.  **Expression** has a `relabeled` method, but to call `relabel` (and make an actual derivation step), we need to start with a **KnownTruth**."
   ]
  },
  {
   "cell_type": "code",
   "execution_count": 19,
   "metadata": {},
   "outputs": [
    {
     "name": "stdout",
     "output_type": "stream",
     "text": [
      "EXPECTED ERROR: 'Implies' object has no attribute 'relabel'\n"
     ]
    }
   ],
   "source": [
    "from proveit import RelabelingFailure\n",
    "try:\n",
    "    XYZimpl.relabel({Y:C})\n",
    "except AttributeError as e:\n",
    "    print(\"EXPECTED ERROR:\", e)"
   ]
  },
  {
   "cell_type": "markdown",
   "metadata": {},
   "source": [
    "Let us make this an axiom to make it a **KnownTruth** by fiat.  This is not normally how axioms are created, but we will get into that in a later tutorial chapter"
   ]
  },
  {
   "cell_type": "code",
   "execution_count": 20,
   "metadata": {},
   "outputs": [
    {
     "data": {
      "text/html": [
       "<strong id=\"XYZimplAxiom\">XYZimplAxiom:</strong> <table><tr><th>&nbsp;</th><th>step type</th><th>requirements</th><th>statement</th></tr>\n",
       "<tr><td>0</td><td>axiom</td><td></td><td><span style=\"font-size:20px;\"> &#x22A2;&nbsp;<a class=\"ProveItLink\" href=\"__pv_it/132a69527fa96b17292d0263cb7e2bee6841dd190/expr.ipynb\"><img src=\"__pv_it/132a69527fa96b17292d0263cb7e2bee6841dd190/expr.png\" style=\"display:inline;vertical-align:middle;\" /></a></span></td></tr>\n",
       "<tr><td>&nbsp;</td><td colspan=4 style-\"text-align:left\"><a class=\"ProveItLink\" href=\"_axioms_.ipynb#XYZimplAxiom\">tutorial.XYZimplAxiom</a></td></tr></table><br>"
      ],
      "text/plain": [
       "XYZimplAxiom: \tstep type\trequirements\tstatement\n",
       "0\taxiom\t\t|= tutorial => (tutorial => tutorial)\n",
       "\ttutorial.XYZimplAxiom"
      ]
     },
     "execution_count": 20,
     "metadata": {},
     "output_type": "execute_result"
    }
   ],
   "source": [
    "from proveit import Axiom, Context\n",
    "XYZimplAxiom = Axiom(XYZimpl, Context(), 'XYZimplAxiom')"
   ]
  },
  {
   "cell_type": "markdown",
   "metadata": {},
   "source": [
    "Now we will try to `relabel`:"
   ]
  },
  {
   "cell_type": "code",
   "execution_count": 21,
   "metadata": {},
   "outputs": [
    {
     "name": "stdout",
     "output_type": "stream",
     "text": [
      "EXPECTED ERROR: Proof step failed: May only relabel a Variable\n"
     ]
    }
   ],
   "source": [
    "from proveit import RelabelingFailure\n",
    "try:\n",
    "    XYZimplAxiom.provenTruth.relabel({Y:C})\n",
    "except RelabelingFailure as e:\n",
    "    print(\"EXPECTED ERROR:\", e)"
   ]
  },
  {
   "cell_type": "markdown",
   "metadata": {},
   "source": [
    "That time, we got the error message that only **Variable**s may be relabeled."
   ]
  },
  {
   "cell_type": "markdown",
   "metadata": {},
   "source": [
    "## Scoping violation\n",
    "\n",
    "We also noted with *expression relabeling* in <a href=\"tutorial01_basic_expr.ipynb\">basic expressions chapter</a> that we are not allowed to violate the scoping restrictions of **Lambda** expressions.  We revisit this for the case of the *relabeling* derivation step."
   ]
  },
  {
   "cell_type": "markdown",
   "metadata": {},
   "source": [
    "For our examples, we will invoke the infinite geometic series theorem from `proveit.number.summation`:"
   ]
  },
  {
   "cell_type": "code",
   "execution_count": 22,
   "metadata": {
    "scrolled": true
   },
   "outputs": [],
   "source": [
    "from proveit.number.summation._theorems_ import infGeomSum"
   ]
  },
  {
   "cell_type": "code",
   "execution_count": 23,
   "metadata": {},
   "outputs": [
    {
     "data": {
      "text/html": [
       "<span style=\"font-size:20px;\"> &#x22A2;&nbsp;<a class=\"ProveItLink\" href=\"../packages/proveit/number/summation/__pv_it/594f5d478c27f74a39bdceb9b35e378b6d0473800/expr.ipynb\"><img src=\"../packages/proveit/number/summation/__pv_it/594f5d478c27f74a39bdceb9b35e378b6d0473800/expr.png\" style=\"display:inline;vertical-align:middle;\" /></a></span>"
      ],
      "text/plain": [
       "|= forall_{x in Complexes} ((Sum_{m=0}^{infinity} x^{m}) = (1 / (1 - x)))"
      ]
     },
     "execution_count": 23,
     "metadata": {},
     "output_type": "execute_result"
    }
   ],
   "source": [
    "infGeomSum"
   ]
  },
  {
   "cell_type": "markdown",
   "metadata": {},
   "source": [
    "Let us look how this expression is deconstructed in the expression information.  Note the use of **Lambda** mappings for the `Forall` *instance expression* (entry 2 below) and the `Sum` *summand* (entry 12 below).  These **Lambda** mappings define new scopes for $x$ and $m$ respectively.  This concept of operating on a **lambda** map will be discussed more in the next chapter."
   ]
  },
  {
   "cell_type": "code",
   "execution_count": 24,
   "metadata": {},
   "outputs": [
    {
     "data": {
      "text/html": [
       "<table><tr><th>&nbsp;</th><th>core type</th><th>sub-expressions</th><th>expression</th></tr>\n",
       "<tr><td>0</td><td>Operation</td><td>operator:&nbsp;1<br>operand:&nbsp;2<br></td><td><a class=\"ProveItLink\" href=\"../packages/proveit/number/summation/__pv_it/594f5d478c27f74a39bdceb9b35e378b6d0473800/expr.ipynb\"><img src=\"../packages/proveit/number/summation/__pv_it/594f5d478c27f74a39bdceb9b35e378b6d0473800/expr.png\" style=\"display:inline;vertical-align:middle;\" /></a></td></tr>\n",
       "<tr><td>1</td><td>Literal</td><td></td><td><a class=\"ProveItLink\" href=\"../packages/proveit/logic/boolean/quantification/universal/__pv_it/265f8c02ac1094d56e0e6410a1c1fd3500dc9f540/expr.ipynb\"><img src=\"../packages/proveit/logic/boolean/quantification/universal/__pv_it/265f8c02ac1094d56e0e6410a1c1fd3500dc9f540/expr.png\" style=\"display:inline;vertical-align:middle;\" /></a></td></tr>\n",
       "<tr><td>2</td><td>Lambda</td><td>parameter:&nbsp;27<br>body:&nbsp;3<br>conditions:&nbsp;4<br></td><td><a class=\"ProveItLink\" href=\"__pv_it/0ec3a67ef7ad3390771ef7729e3f7bb26f127bce0/expr.ipynb\"><img src=\"__pv_it/0ec3a67ef7ad3390771ef7729e3f7bb26f127bce0/expr.png\" style=\"display:inline;vertical-align:middle;\" /></a></td></tr>\n",
       "<tr><td>3</td><td>Operation</td><td>operator:&nbsp;5<br>operands:&nbsp;6<br></td><td><a class=\"ProveItLink\" href=\"__pv_it/b09b04cd1c28de9a05e72a4af817ae845c50aac90/expr.ipynb\"><img src=\"__pv_it/b09b04cd1c28de9a05e72a4af817ae845c50aac90/expr.png\" style=\"display:inline;vertical-align:middle;\" /></a></td></tr>\n",
       "<tr><td>4</td><td>ExprList</td><td>7</td><td><a class=\"ProveItLink\" href=\"__pv_it/02600a40e8387f0e9b9ac8b68849d0b79892d25a0/expr.ipynb\"><img src=\"__pv_it/02600a40e8387f0e9b9ac8b68849d0b79892d25a0/expr.png\" style=\"display:inline;vertical-align:middle;\" /></a></td></tr>\n",
       "<tr><td>5</td><td>Literal</td><td></td><td><a class=\"ProveItLink\" href=\"../packages/proveit/logic/equality/__pv_it/2fb26078095930560931daa0500ce419a39ea6cd0/expr.ipynb\"><img src=\"../packages/proveit/logic/equality/__pv_it/2fb26078095930560931daa0500ce419a39ea6cd0/expr.png\" style=\"display:inline;vertical-align:middle;\" /></a></td></tr>\n",
       "<tr><td>6</td><td>ExprList</td><td>8, 9</td><td><a class=\"ProveItLink\" href=\"__pv_it/10a26d1ddc90c80f9c864a77616929e772549c6f0/expr.ipynb\"><img src=\"__pv_it/10a26d1ddc90c80f9c864a77616929e772549c6f0/expr.png\" style=\"display:inline;vertical-align:middle;\" /></a></td></tr>\n",
       "<tr><td>7</td><td>Operation</td><td>operator:&nbsp;24<br>operands:&nbsp;10<br></td><td><a class=\"ProveItLink\" href=\"__pv_it/5c60ad8ec27d814114e4daf357da6bc586e6941f0/expr.ipynb\"><img src=\"__pv_it/5c60ad8ec27d814114e4daf357da6bc586e6941f0/expr.png\" style=\"display:inline;vertical-align:middle;\" /></a></td></tr>\n",
       "<tr><td>8</td><td>Operation</td><td>operator:&nbsp;11<br>operand:&nbsp;12<br></td><td><a class=\"ProveItLink\" href=\"__pv_it/9c904aad32feaffbc3f4e4aacebb2dbbab1950e30/expr.ipynb\"><img src=\"__pv_it/9c904aad32feaffbc3f4e4aacebb2dbbab1950e30/expr.png\" style=\"display:inline;vertical-align:middle;\" /></a></td></tr>\n",
       "<tr><td>9</td><td>Operation</td><td>operator:&nbsp;13<br>operands:&nbsp;14<br></td><td><a class=\"ProveItLink\" href=\"__pv_it/95dde3fd4f51a831d555bfd54dbbde170c35e8330/expr.ipynb\"><img src=\"__pv_it/95dde3fd4f51a831d555bfd54dbbde170c35e8330/expr.png\" style=\"display:inline;vertical-align:middle;\" /></a></td></tr>\n",
       "<tr><td>10</td><td>ExprList</td><td>27, 15</td><td><a class=\"ProveItLink\" href=\"__pv_it/3cc22ed4b06d8862c71f572e1902cae2f397d5050/expr.ipynb\"><img src=\"__pv_it/3cc22ed4b06d8862c71f572e1902cae2f397d5050/expr.png\" style=\"display:inline;vertical-align:middle;\" /></a></td></tr>\n",
       "<tr><td>11</td><td>Literal</td><td></td><td><a class=\"ProveItLink\" href=\"../packages/proveit/number/summation/__pv_it/0a16045c678b35f122c8085ab544f65a80626c0a0/expr.ipynb\"><img src=\"../packages/proveit/number/summation/__pv_it/0a16045c678b35f122c8085ab544f65a80626c0a0/expr.png\" style=\"display:inline;vertical-align:middle;\" /></a></td></tr>\n",
       "<tr><td>12</td><td>Lambda</td><td>parameter:&nbsp;28<br>body:&nbsp;16<br>conditions:&nbsp;17<br></td><td><a class=\"ProveItLink\" href=\"__pv_it/3dfd73f02326fa65b434b0da92f7928174b46a330/expr.ipynb\"><img src=\"__pv_it/3dfd73f02326fa65b434b0da92f7928174b46a330/expr.png\" style=\"display:inline;vertical-align:middle;\" /></a></td></tr>\n",
       "<tr><td>13</td><td>Literal</td><td></td><td><a class=\"ProveItLink\" href=\"../packages/proveit/number/division/__pv_it/089f5ca61fe425d4f6ef7efa2138c1a2fa47180c0/expr.ipynb\"><img src=\"../packages/proveit/number/division/__pv_it/089f5ca61fe425d4f6ef7efa2138c1a2fa47180c0/expr.png\" style=\"display:inline;vertical-align:middle;\" /></a></td></tr>\n",
       "<tr><td>14</td><td>ExprList</td><td>26, 18</td><td><a class=\"ProveItLink\" href=\"__pv_it/1a2a1c148bc9bb8cff1c4c81cdd5325bc6efede60/expr.ipynb\"><img src=\"__pv_it/1a2a1c148bc9bb8cff1c4c81cdd5325bc6efede60/expr.png\" style=\"display:inline;vertical-align:middle;\" /></a></td></tr>\n",
       "<tr><td>15</td><td>Literal</td><td></td><td><a class=\"ProveItLink\" href=\"../packages/proveit/number/sets/complex/__pv_it/c357845f93a5a2d9f649129d299e7ec28dda4b960/expr.ipynb\"><img src=\"../packages/proveit/number/sets/complex/__pv_it/c357845f93a5a2d9f649129d299e7ec28dda4b960/expr.png\" style=\"display:inline;vertical-align:middle;\" /></a></td></tr>\n",
       "<tr><td>16</td><td>Operation</td><td>operator:&nbsp;19<br>operands:&nbsp;20<br></td><td><a class=\"ProveItLink\" href=\"__pv_it/886ee3e28a191f18e6e8cc904d1893467290ddcf0/expr.ipynb\"><img src=\"__pv_it/886ee3e28a191f18e6e8cc904d1893467290ddcf0/expr.png\" style=\"display:inline;vertical-align:middle;\" /></a></td></tr>\n",
       "<tr><td>17</td><td>ExprList</td><td>21</td><td><a class=\"ProveItLink\" href=\"__pv_it/0ca3e352532fa3e98f53fc80f72c2c8cc0e1d2c00/expr.ipynb\"><img src=\"__pv_it/0ca3e352532fa3e98f53fc80f72c2c8cc0e1d2c00/expr.png\" style=\"display:inline;vertical-align:middle;\" /></a></td></tr>\n",
       "<tr><td>18</td><td>Operation</td><td>operator:&nbsp;22<br>operands:&nbsp;23<br></td><td><a class=\"ProveItLink\" href=\"__pv_it/b5e15f5164530c86c391d8d0a96d05e8ad65e1710/expr.ipynb\"><img src=\"__pv_it/b5e15f5164530c86c391d8d0a96d05e8ad65e1710/expr.png\" style=\"display:inline;vertical-align:middle;\" /></a></td></tr>\n",
       "<tr><td>19</td><td>Literal</td><td></td><td><a class=\"ProveItLink\" href=\"../packages/proveit/number/exponentiation/__pv_it/deb2bf23cbccdd6e6791e1b35b5b9794ce12dbd50/expr.ipynb\"><img src=\"../packages/proveit/number/exponentiation/__pv_it/deb2bf23cbccdd6e6791e1b35b5b9794ce12dbd50/expr.png\" style=\"display:inline;vertical-align:middle;\" /></a></td></tr>\n",
       "<tr><td>20</td><td>ExprList</td><td>27, 28</td><td><a class=\"ProveItLink\" href=\"__pv_it/f2b5fc3540d31286926c9195258165a9fb5254840/expr.ipynb\"><img src=\"__pv_it/f2b5fc3540d31286926c9195258165a9fb5254840/expr.png\" style=\"display:inline;vertical-align:middle;\" /></a></td></tr>\n",
       "<tr><td>21</td><td>Operation</td><td>operator:&nbsp;24<br>operands:&nbsp;25<br></td><td><a class=\"ProveItLink\" href=\"__pv_it/9b588a851be939a6c5368d50a6c0a531b4fed56e0/expr.ipynb\"><img src=\"__pv_it/9b588a851be939a6c5368d50a6c0a531b4fed56e0/expr.png\" style=\"display:inline;vertical-align:middle;\" /></a></td></tr>\n",
       "<tr><td>22</td><td>Literal</td><td></td><td><a class=\"ProveItLink\" href=\"../packages/proveit/number/subtraction/__pv_it/03194771b14a60816113e61ba63a976d1ba784d70/expr.ipynb\"><img src=\"../packages/proveit/number/subtraction/__pv_it/03194771b14a60816113e61ba63a976d1ba784d70/expr.png\" style=\"display:inline;vertical-align:middle;\" /></a></td></tr>\n",
       "<tr><td>23</td><td>ExprList</td><td>26, 27</td><td><a class=\"ProveItLink\" href=\"__pv_it/caaa7e4c422ef0a1cb986c4acf50e1ba9b1ced2d0/expr.ipynb\"><img src=\"__pv_it/caaa7e4c422ef0a1cb986c4acf50e1ba9b1ced2d0/expr.png\" style=\"display:inline;vertical-align:middle;\" /></a></td></tr>\n",
       "<tr><td>24</td><td>Literal</td><td></td><td><a class=\"ProveItLink\" href=\"../packages/proveit/logic/set_theory/membership/__pv_it/088cbc857536a28d4119ad9639a84270ccb0545d0/expr.ipynb\"><img src=\"../packages/proveit/logic/set_theory/membership/__pv_it/088cbc857536a28d4119ad9639a84270ccb0545d0/expr.png\" style=\"display:inline;vertical-align:middle;\" /></a></td></tr>\n",
       "<tr><td>25</td><td>ExprList</td><td>28, 29</td><td><a class=\"ProveItLink\" href=\"__pv_it/1698d6bbebf04149fb67ff2d5ff63f777a912dcd0/expr.ipynb\"><img src=\"__pv_it/1698d6bbebf04149fb67ff2d5ff63f777a912dcd0/expr.png\" style=\"display:inline;vertical-align:middle;\" /></a></td></tr>\n",
       "<tr><td>26</td><td>Literal</td><td></td><td><a class=\"ProveItLink\" href=\"../packages/proveit/number/numeral/__pv_it/9be8badea4c35b9724062cecc501d17a3158d1d20/expr.ipynb\"><img src=\"../packages/proveit/number/numeral/__pv_it/9be8badea4c35b9724062cecc501d17a3158d1d20/expr.png\" style=\"display:inline;vertical-align:middle;\" /></a></td></tr>\n",
       "<tr><td>27</td><td>Variable</td><td></td><td><a class=\"ProveItLink\" href=\"../packages/proveit/__pv_it/530be409e3083890784cf1d7b28c9e67e90af9360/expr.ipynb\"><img src=\"../packages/proveit/__pv_it/530be409e3083890784cf1d7b28c9e67e90af9360/expr.png\" style=\"display:inline;vertical-align:middle;\" /></a></td></tr>\n",
       "<tr><td>28</td><td>Variable</td><td></td><td><a class=\"ProveItLink\" href=\"../packages/proveit/__pv_it/78af03acba5349fd70398a32ce59bae1da52f0870/expr.ipynb\"><img src=\"../packages/proveit/__pv_it/78af03acba5349fd70398a32ce59bae1da52f0870/expr.png\" style=\"display:inline;vertical-align:middle;\" /></a></td></tr>\n",
       "<tr><td>29</td><td>Operation</td><td>operator:&nbsp;30<br>operands:&nbsp;31<br></td><td><a class=\"ProveItLink\" href=\"__pv_it/891707711a255fe9653cf66f7877333f97ee63d40/expr.ipynb\"><img src=\"__pv_it/891707711a255fe9653cf66f7877333f97ee63d40/expr.png\" style=\"display:inline;vertical-align:middle;\" /></a></td></tr>\n",
       "<tr><td>30</td><td>Literal</td><td></td><td><a class=\"ProveItLink\" href=\"../packages/proveit/number/sets/integer/__pv_it/6e5362d7b256561b61a1b512bf7dc507dcde5dcf0/expr.ipynb\"><img src=\"../packages/proveit/number/sets/integer/__pv_it/6e5362d7b256561b61a1b512bf7dc507dcde5dcf0/expr.png\" style=\"display:inline;vertical-align:middle;\" /></a></td></tr>\n",
       "<tr><td>31</td><td>ExprList</td><td>32, 33</td><td><a class=\"ProveItLink\" href=\"__pv_it/8f0d1ab5a4a90210654735ae66dae40d5c9998720/expr.ipynb\"><img src=\"__pv_it/8f0d1ab5a4a90210654735ae66dae40d5c9998720/expr.png\" style=\"display:inline;vertical-align:middle;\" /></a></td></tr>\n",
       "<tr><td>32</td><td>Literal</td><td></td><td><a class=\"ProveItLink\" href=\"../packages/proveit/number/numeral/__pv_it/ec23fc7a1b4222a5f4948b495002b97d6fa18c3c0/expr.ipynb\"><img src=\"../packages/proveit/number/numeral/__pv_it/ec23fc7a1b4222a5f4948b495002b97d6fa18c3c0/expr.png\" style=\"display:inline;vertical-align:middle;\" /></a></td></tr>\n",
       "<tr><td>33</td><td>Literal</td><td></td><td><a class=\"ProveItLink\" href=\"../packages/proveit/number/sets/integer/__pv_it/fb164099ff695e5f06bcf7426355186a1c63cc390/expr.ipynb\"><img src=\"../packages/proveit/number/sets/integer/__pv_it/fb164099ff695e5f06bcf7426355186a1c63cc390/expr.png\" style=\"display:inline;vertical-align:middle;\" /></a></td></tr>\n",
       "</table>\n"
      ],
      "text/plain": [
       "0. forall_{x in Complexes} ((Sum_{m=0}^{infinity} x^{m}) = (1 / (1 - x)))\n",
       "   core type: Operation\n",
       "   operator: 1\n",
       "   operand: 2\n",
       "1. forall\n",
       "   core type: Literal\n",
       "   sub-expressions: \n",
       "2. x -> ((Sum_{m=0}^{infinity} x^{m}) = (1 / (1 - x))) | x in Complexes\n",
       "   core type: Lambda\n",
       "   parameter: 27\n",
       "   body: 3\n",
       "   conditions: 4\\n3. (Sum_{m=0}^{infinity} x^{m}) = (1 / (1 - x))\n",
       "   core type: Operation\n",
       "   operator: 5\n",
       "   operands: 6\n",
       "4. (x in Complexes)\n",
       "   core type: ExprList\n",
       "   sub-expressions: 7\n",
       "5. =\n",
       "   core type: Literal\n",
       "   sub-expressions: \n",
       "6. (Sum_{m=0}^{infinity} x^{m} , 1 / (1 - x))\n",
       "   core type: ExprList\n",
       "   sub-expressions: 8, 9\n",
       "7. x in Complexes\n",
       "   core type: Operation\n",
       "   operator: 24\n",
       "   operands: 10\n",
       "8. Sum_{m=0}^{infinity} x^{m}\n",
       "   core type: Operation\n",
       "   operator: 11\n",
       "   operand: 12\n",
       "9. 1 / (1 - x)\n",
       "   core type: Operation\n",
       "   operator: 13\n",
       "   operands: 14\n",
       "10. (x , Complexes)\n",
       "    core type: ExprList\n",
       "    sub-expressions: 27, 15\n",
       "11. Sum\n",
       "    core type: Literal\n",
       "    sub-expressions: \n",
       "12. m -> x^{m} | m in {0...infinity}\n",
       "    core type: Lambda\n",
       "    parameter: 28\n",
       "    body: 16\n",
       "    conditions: 17\\n13. /\n",
       "    core type: Literal\n",
       "    sub-expressions: \n",
       "14. (1 , 1 - x)\n",
       "    core type: ExprList\n",
       "    sub-expressions: 26, 18\n",
       "15. Complexes\n",
       "    core type: Literal\n",
       "    sub-expressions: \n",
       "16. x^{m}\n",
       "    core type: Operation\n",
       "    operator: 19\n",
       "    operands: 20\n",
       "17. (m in {0...infinity})\n",
       "    core type: ExprList\n",
       "    sub-expressions: 21\n",
       "18. 1 - x\n",
       "    core type: Operation\n",
       "    operator: 22\n",
       "    operands: 23\n",
       "19. Exp\n",
       "    core type: Literal\n",
       "    sub-expressions: \n",
       "20. (x , m)\n",
       "    core type: ExprList\n",
       "    sub-expressions: 27, 28\n",
       "21. m in {0...infinity}\n",
       "    core type: Operation\n",
       "    operator: 24\n",
       "    operands: 25\n",
       "22. -\n",
       "    core type: Literal\n",
       "    sub-expressions: \n",
       "23. (1 , x)\n",
       "    core type: ExprList\n",
       "    sub-expressions: 26, 27\n",
       "24. in\n",
       "    core type: Literal\n",
       "    sub-expressions: \n",
       "25. (m , {0...infinity})\n",
       "    core type: ExprList\n",
       "    sub-expressions: 28, 29\n",
       "26. 1\n",
       "    core type: Literal\n",
       "    sub-expressions: \n",
       "27. x\n",
       "    core type: Variable\n",
       "    sub-expressions: \n",
       "28. m\n",
       "    core type: Variable\n",
       "    sub-expressions: \n",
       "29. {0...infinity}\n",
       "    core type: Operation\n",
       "    operator: 30\n",
       "    operands: 31\n",
       "30. Interval\n",
       "    core type: Literal\n",
       "    sub-expressions: \n",
       "31. (0 , infinity)\n",
       "    core type: ExprList\n",
       "    sub-expressions: 32, 33\n",
       "32. 0\n",
       "    core type: Literal\n",
       "    sub-expressions: \n",
       "33. infinity\n",
       "    core type: Literal\n",
       "    sub-expressions: "
      ]
     },
     "execution_count": 24,
     "metadata": {},
     "output_type": "execute_result"
    }
   ],
   "source": [
    "infGeomSum.exprInfo()"
   ]
  },
  {
   "cell_type": "markdown",
   "metadata": {},
   "source": [
    "Now we will use relabeling on the geometric series theorem to prove that we can write it in terms of $a$ and $n$ instead of $x$ and $m$."
   ]
  },
  {
   "cell_type": "code",
   "execution_count": 25,
   "metadata": {},
   "outputs": [
    {
     "data": {
      "text/html": [
       "<span style=\"font-size:20px;\"> &#x22A2;&nbsp;<a class=\"ProveItLink\" href=\"__pv_it/6280f27b3a80e166b7e15932f6d165fcebcc16a70/expr.ipynb\"><img src=\"__pv_it/6280f27b3a80e166b7e15932f6d165fcebcc16a70/expr.png\" style=\"display:inline;vertical-align:middle;\" /></a></span>"
      ],
      "text/plain": [
       "|= forall_{a in Complexes} ((Sum_{n=0}^{infinity} a^{n}) = (1 / (1 - a)))"
      ]
     },
     "execution_count": 25,
     "metadata": {},
     "output_type": "execute_result"
    }
   ],
   "source": [
    "from proveit._common_ import a, n, m, x\n",
    "infGeomSum.relabel({x:a, m:n})"
   ]
  },
  {
   "cell_type": "markdown",
   "metadata": {},
   "source": [
    "We can also swap the labels."
   ]
  },
  {
   "cell_type": "code",
   "execution_count": 26,
   "metadata": {},
   "outputs": [
    {
     "data": {
      "text/html": [
       "<span style=\"font-size:20px;\"> &#x22A2;&nbsp;<a class=\"ProveItLink\" href=\"__pv_it/3d67b918d44722d147e66972e29984a4fa8485020/expr.ipynb\"><img src=\"__pv_it/3d67b918d44722d147e66972e29984a4fa8485020/expr.png\" style=\"display:inline;vertical-align:middle;\" /></a></span>"
      ],
      "text/plain": [
       "|= forall_{m in Complexes} ((Sum_{x=0}^{infinity} m^{x}) = (1 / (1 - m)))"
      ]
     },
     "execution_count": 26,
     "metadata": {},
     "output_type": "execute_result"
    }
   ],
   "source": [
    "infGeomSum.relabel({x:m, m:x})"
   ]
  },
  {
   "cell_type": "code",
   "execution_count": 27,
   "metadata": {},
   "outputs": [
    {
     "data": {
      "text/html": [
       "<table><tr><th>&nbsp;</th><th>step type</th><th>requirements</th><th>statement</th></tr>\n",
       "<tr><td>0</td><td>relabeling</td><td>1</td><td><span style=\"font-size:20px;\"> &#x22A2;&nbsp;<a class=\"ProveItLink\" href=\"__pv_it/3d67b918d44722d147e66972e29984a4fa8485020/expr.ipynb\"><img src=\"__pv_it/3d67b918d44722d147e66972e29984a4fa8485020/expr.png\" style=\"display:inline;vertical-align:middle;\" /></a></span></td></tr>\n",
       "<tr><td>&nbsp;</td><td colspan=4 style=\"text-align:left\"><span style=\"font-size:20px;\"><a class=\"ProveItLink\" href=\"__pv_it/de97944b33aa473e1d58f742f9a3ac0c14182ef10/expr.ipynb\"><img src=\"__pv_it/de97944b33aa473e1d58f742f9a3ac0c14182ef10/expr.png\" style=\"display:inline;vertical-align:middle;\" /></a>, <a class=\"ProveItLink\" href=\"__pv_it/be4dfdab87fc7c6774711c01075d0b3c7f4b76870/expr.ipynb\"><img src=\"__pv_it/be4dfdab87fc7c6774711c01075d0b3c7f4b76870/expr.png\" style=\"display:inline;vertical-align:middle;\" /></a></span></td></tr><tr><td>1</td><td>theorem</td><td></td><td><span style=\"font-size:20px;\"> &#x22A2;&nbsp;<a class=\"ProveItLink\" href=\"../packages/proveit/number/summation/__pv_it/594f5d478c27f74a39bdceb9b35e378b6d0473800/expr.ipynb\"><img src=\"../packages/proveit/number/summation/__pv_it/594f5d478c27f74a39bdceb9b35e378b6d0473800/expr.png\" style=\"display:inline;vertical-align:middle;\" /></a></span></td></tr>\n",
       "<tr><td>&nbsp;</td><td colspan=4 style-\"text-align:left\"><a class=\"ProveItLink\" href=\"../packages/proveit/number/summation/_proofs_/infGeomSum.ipynb\">proveit.number.summation.infGeomSum</a></td></tr></table>"
      ],
      "text/plain": [
       "\tstep type\trequirements\tstatement\n",
       "0\trelabeling\t1\t|= forall_{m in Complexes} ((Sum_{x=0}^{infinity} m^{x}) = (1 / (1 - m)))\n",
       "\tx -> m, m -> x\n",
       "1\ttheorem\t\t|= forall_{x in Complexes} ((Sum_{m=0}^{infinity} x^{m}) = (1 / (1 - x)))\n",
       "\tproveit.number.summation.infGeomSum"
      ]
     },
     "execution_count": 27,
     "metadata": {},
     "output_type": "execute_result"
    }
   ],
   "source": [
    "infGeomSum.relabel({x:m, m:x}).proof()"
   ]
  },
  {
   "cell_type": "markdown",
   "metadata": {},
   "source": [
    "However, we are subject to **Lambda** scoping restrictions if we try to relabel in any manner such that they map to the same **Variable** (or the meaning could be changed in a manner that is not strictly weaker)."
   ]
  },
  {
   "cell_type": "code",
   "execution_count": 28,
   "metadata": {},
   "outputs": [
    {
     "name": "stdout",
     "output_type": "stream",
     "text": [
      "EXPECTED ERROR: Relabeling in violation of Variable scoping restrictions.\n"
     ]
    }
   ],
   "source": [
    "from proveit import ScopingViolation\n",
    "try:\n",
    "    infGeomSum.relabel({m:x})\n",
    "    assert False, \"Expecting an ScopingViolation error; should not make it to this point\"\n",
    "except ScopingViolation as e:\n",
    "    print(\"EXPECTED ERROR:\", e)"
   ]
  },
  {
   "cell_type": "code",
   "execution_count": 29,
   "metadata": {},
   "outputs": [
    {
     "name": "stdout",
     "output_type": "stream",
     "text": [
      "EXPECTED ERROR: Relabeling in violation of Variable scoping restrictions.\n"
     ]
    }
   ],
   "source": [
    "try:\n",
    "    infGeomSum.relabeled({x:m})\n",
    "    assert False, \"Expecting an ScopingViolation error; should not make it to this point\"\n",
    "except ScopingViolation as e:\n",
    "    print(\"EXPECTED ERROR:\", e)"
   ]
  },
  {
   "cell_type": "code",
   "execution_count": 30,
   "metadata": {},
   "outputs": [
    {
     "name": "stdout",
     "output_type": "stream",
     "text": [
      "EXPECTED ERROR: Relabeling in violation of Variable scoping restrictions.\n"
     ]
    }
   ],
   "source": [
    "try:\n",
    "    infGeomSum.relabeled({x:n, m:n})\n",
    "    assert False, \"Expecting an ScopingViolation error; should not make it to this point\"\n",
    "except ScopingViolation as e:\n",
    "    print(\"EXPECTED ERROR:\", e)"
   ]
  },
  {
   "cell_type": "code",
   "execution_count": 31,
   "metadata": {},
   "outputs": [],
   "source": [
    "%end relabeling"
   ]
  },
  {
   "cell_type": "markdown",
   "metadata": {
    "collapsed": true
   },
   "source": [
    "# Next chapter: <a href=\"tutorial05_forall.ipynb\">Universal Quantification (Forall)</a>\n",
    "\n",
    "## <a href=\"tutorial00_introduction.ipynb#contents\">Table of Contents</a>"
   ]
  },
  {
   "cell_type": "code",
   "execution_count": null,
   "metadata": {},
   "outputs": [],
   "source": []
  }
 ],
 "metadata": {
  "kernelspec": {
   "display_name": "Python 3",
   "language": "python",
   "name": "python3"
  },
  "language_info": {
   "codemirror_mode": {
    "name": "ipython",
    "version": 3
   },
   "file_extension": ".py",
   "mimetype": "text/x-python",
   "name": "python",
   "nbconvert_exporter": "python",
   "pygments_lexer": "ipython3",
   "version": "3.7.0"
  }
 },
 "nbformat": 4,
 "nbformat_minor": 1
}
