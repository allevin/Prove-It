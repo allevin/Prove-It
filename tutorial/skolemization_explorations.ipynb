{
 "cells": [
  {
   "cell_type": "markdown",
   "metadata": {},
   "source": [
    "Skolemization-Related Explorations\n",
    "==================\n",
    "\n",
    "This is a temporary notebook for exploring issues related to a skolemize() method for KnownTruth objects, in particular for known truths involving universal ($\\forall$) and existential ($\\exists$) quantifiers.\n",
    "\n",
    "The notebook was generated initially as a copy of the Forall tutorial notebook, and thus while under construction many of the cells and other elements of the original notebook remain.\n",
    "\n",
    "($\\forall$) Universal quantification is another core concept in **Prove-It**.  A `Forall` operation, formatted with the $\\forall$ symbol, is used to represent universal quantification.  For example, $\\forall_x P(x)$ means that $P(x)$ is true for any instance of $x$.  $P(x)$ holds true universally over instances of $x$.  Like `Implies`, `Forall` is a core concept but is defined outside of the core in the `proveit.logic` package. It is known in the core for use in the *specialization* and *generalization* derivation steps discussed below.\n",
    "\n",
    "First, let us import some necessary information then consider an example of a `Forall` object like $\\forall_{x \\,\\in\\, S \\,|\\, Q(x), R(x)} P(x)$:"
   ]
  },
  {
   "cell_type": "code",
   "execution_count": 85,
   "metadata": {},
   "outputs": [],
   "source": [
    "from proveit import Function, ExprList, Lambda, Literal\n",
    "from proveit.logic import Forall, Exists, InSet, Equals\n",
    "from proveit.logic.equality._axioms_ import substitution\n",
    "from proveit.number import Less, Add, Frac, zero\n",
    "from proveit._common_ import a, b, c, f, x, y, z, fx, P, Px, Pxy, Q, Qx, R, Rx, Ry, S, T\n",
    "%begin skolemization_explorations"
   ]
  },
  {
   "cell_type": "code",
   "execution_count": 2,
   "metadata": {},
   "outputs": [
    {
     "data": {
      "text/html": [
       "<strong id=\"basicForallExpr\">basicForallExpr:</strong> <a class=\"ProveItLink\" href=\"__pv_it/768e0ea8953379b26e536b52c663304c5502b1240/expr.ipynb\"><img src=\"__pv_it/768e0ea8953379b26e536b52c663304c5502b1240/expr.png\" style=\"display:inline;vertical-align:middle;\" /></a><br>"
      ],
      "text/plain": [
       "basicForallExpr: forall_{x in S | Q(x) , R(x)} P(x)"
      ]
     },
     "execution_count": 2,
     "metadata": {},
     "output_type": "execute_result"
    }
   ],
   "source": [
    "basicForallExpr = Forall(x, Px, conditions=[Qx, Rx], domain=S)"
   ]
  },
  {
   "cell_type": "code",
   "execution_count": 3,
   "metadata": {},
   "outputs": [
    {
     "name": "stdout",
     "output_type": "stream",
     "text": [
      "Begin Initializing KnownTruth!\n",
      "    After type-checking, expression =  forall_{x in S | Q(x) , R(x)} P(x)\n",
      "    assumptions =  {forall_{x in S | Q(x) , R(x)} P(x)}\n",
      "    Exiting KnownTruth.__init__\n",
      "provenTruth assumptions =  (forall_{x in S | Q(x) , R(x)} P(x),)\n",
      "provenTruth operands =  (x -> P(x) | x in S , Q(x) , R(x))\n",
      "provenTruth expr =  forall_{x in S | Q(x) , R(x)} P(x)\n",
      "requiredTruths =  []\n",
      "Begin Initializing KnownTruth!\n",
      "    After type-checking, expression =  a in S\n",
      "    assumptions =  {a in S}\n",
      "    Exiting KnownTruth.__init__\n",
      "provenTruth assumptions =  (a in S,)\n",
      "provenTruth operands =  (a , S)\n",
      "provenTruth expr =  a in S\n",
      "requiredTruths =  []\n",
      "Begin Initializing KnownTruth!\n",
      "    After type-checking, expression =  Q(a)\n",
      "    assumptions =  {Q(a)}\n",
      "    Exiting KnownTruth.__init__\n",
      "provenTruth assumptions =  (Q(a),)\n",
      "provenTruth operands =  (a)\n",
      "provenTruth expr =  Q(a)\n",
      "requiredTruths =  []\n",
      "Begin Initializing KnownTruth!\n",
      "    After type-checking, expression =  R(a)\n",
      "    assumptions =  {R(a)}\n",
      "    Exiting KnownTruth.__init__\n",
      "provenTruth assumptions =  (R(a),)\n",
      "provenTruth operands =  (a)\n",
      "provenTruth expr =  R(a)\n",
      "requiredTruths =  []\n",
      "generalExpr =  forall_{x in S | Q(x) , R(x)} P(x)\n",
      "[_specialized_expression]subbed_expr =  P(a)\n",
      "[_specialized_expression]subbedConditions =  [a in S, Q(a), R(a)]\n",
      "[_specialized_expression]requirements =  []\n",
      "[_specialized_expression]mappedVarLists =  [(x,), []]\n",
      "[_specialized_expression]mappings =  {x: a}\n",
      "AFTER _specialized_expr:\n",
      "    specializedExpr =  P(a)\n",
      "    requirements =  [a in S, Q(a), R(a)]\n",
      "    mappedVarLists =  [(x,), []]\n",
      "    mappings =  {x: a}\n",
      "assumptionsSet =  frozenset({forall_{x in S | Q(x) , R(x)} P(x)})\n",
      "assumptions =  [forall_{x in S | Q(x) , R(x)} P(x), a in S, Q(a), R(a)]\n",
      "Begin Initializing KnownTruth!\n",
      "    After type-checking, expression =  P(a)\n",
      "    assumptions =  [forall_{x in S | Q(x) , R(x)} P(x), a in S, Q(a), R(a)]\n",
      "    Exiting KnownTruth.__init__\n",
      "specializedTruth assumptions =  (forall_{x in S | Q(x) , R(x)} P(x), a in S, Q(a), R(a))\n",
      "specializedTruth expr =  P(a)\n",
      "generalTruth =  {forall_{x in S | Q(x) , R(x)} P(x)} |- forall_{x in S | Q(x) , R(x)} P(x)\n",
      "requirementTruths =  [{a in S} |- a in S, {Q(a)} |- Q(a), {R(a)} |- R(a)]\n",
      "provenTruth assumptions =  (forall_{x in S | Q(x) , R(x)} P(x), a in S, Q(a), R(a))\n",
      "provenTruth operands =  (a)\n",
      "provenTruth expr =  P(a)\n",
      "requiredTruths =  [{forall_{x in S | Q(x) , R(x)} P(x)} |- forall_{x in S | Q(x) , R(x)} P(x), {a in S} |- a in S, {Q(a)} |- Q(a), {R(a)} |- R(a)]\n"
     ]
    },
    {
     "data": {
      "text/html": [
       "<span style=\"font-size:20px;\"><a class=\"ProveItLink\" href=\"__pv_it/98e61b07a642cdd0c15c83bca010309363977c1b0/expr.ipynb\"><img src=\"__pv_it/98e61b07a642cdd0c15c83bca010309363977c1b0/expr.png\" style=\"display:inline;vertical-align:middle;\" /></a> &#x22A2;&nbsp;<a class=\"ProveItLink\" href=\"__pv_it/58941bbcf185460a0949cb757b00efbf2b54044b0/expr.ipynb\"><img src=\"__pv_it/58941bbcf185460a0949cb757b00efbf2b54044b0/expr.png\" style=\"display:inline;vertical-align:middle;\" /></a></span>"
      ],
      "text/plain": [
       "{forall_{x in S | Q(x) , R(x)} P(x) , a in S , Q(a) , R(a)} |- P(a)"
      ]
     },
     "execution_count": 3,
     "metadata": {},
     "output_type": "execute_result"
    }
   ],
   "source": [
    "Qa = Function(Q, a)\n",
    "Ra = Function(R, a)\n",
    "Lc = Literal('c')\n",
    "basicForallExpr.specialize({x:a}, assumptions=(basicForallExpr, InSet(a, S), Qa, Ra))"
   ]
  },
  {
   "cell_type": "code",
   "execution_count": 4,
   "metadata": {},
   "outputs": [
    {
     "name": "stdout",
     "output_type": "stream",
     "text": [
      "Begin Initializing KnownTruth!\n",
      "    After type-checking, expression =  c in S\n",
      "    assumptions =  {c in S}\n",
      "    Exiting KnownTruth.__init__\n",
      "provenTruth assumptions =  (c in S,)\n",
      "provenTruth operands =  (c , S)\n",
      "provenTruth expr =  c in S\n",
      "requiredTruths =  []\n",
      "Begin Initializing KnownTruth!\n",
      "    After type-checking, expression =  Q(c)\n",
      "    assumptions =  {Q(c)}\n",
      "    Exiting KnownTruth.__init__\n",
      "provenTruth assumptions =  (Q(c),)\n",
      "provenTruth operands =  (c)\n",
      "provenTruth expr =  Q(c)\n",
      "requiredTruths =  []\n",
      "Begin Initializing KnownTruth!\n",
      "    After type-checking, expression =  R(c)\n",
      "    assumptions =  {R(c)}\n",
      "    Exiting KnownTruth.__init__\n",
      "provenTruth assumptions =  (R(c),)\n",
      "provenTruth operands =  (c)\n",
      "provenTruth expr =  R(c)\n",
      "requiredTruths =  []\n",
      "generalExpr =  forall_{x in S | Q(x) , R(x)} P(x)\n",
      "[_specialized_expression]subbed_expr =  P(c)\n",
      "[_specialized_expression]subbedConditions =  [c in S, Q(c), R(c)]\n",
      "[_specialized_expression]requirements =  []\n",
      "[_specialized_expression]mappedVarLists =  [(x,), []]\n",
      "[_specialized_expression]mappings =  {x: c}\n",
      "AFTER _specialized_expr:\n",
      "    specializedExpr =  P(c)\n",
      "    requirements =  [c in S, Q(c), R(c)]\n",
      "    mappedVarLists =  [(x,), []]\n",
      "    mappings =  {x: c}\n",
      "assumptionsSet =  frozenset({forall_{x in S | Q(x) , R(x)} P(x)})\n",
      "assumptions =  [forall_{x in S | Q(x) , R(x)} P(x), c in S, Q(c), R(c)]\n",
      "Begin Initializing KnownTruth!\n",
      "    After type-checking, expression =  P(c)\n",
      "    assumptions =  [forall_{x in S | Q(x) , R(x)} P(x), c in S, Q(c), R(c)]\n",
      "    Exiting KnownTruth.__init__\n",
      "specializedTruth assumptions =  (forall_{x in S | Q(x) , R(x)} P(x), c in S, Q(c), R(c))\n",
      "specializedTruth expr =  P(c)\n",
      "generalTruth =  {forall_{x in S | Q(x) , R(x)} P(x)} |- forall_{x in S | Q(x) , R(x)} P(x)\n",
      "requirementTruths =  [{c in S} |- c in S, {Q(c)} |- Q(c), {R(c)} |- R(c)]\n",
      "provenTruth assumptions =  (forall_{x in S | Q(x) , R(x)} P(x), c in S, Q(c), R(c))\n",
      "provenTruth operands =  (c)\n",
      "provenTruth expr =  P(c)\n",
      "requiredTruths =  [{forall_{x in S | Q(x) , R(x)} P(x)} |- forall_{x in S | Q(x) , R(x)} P(x), {c in S} |- c in S, {Q(c)} |- Q(c), {R(c)} |- R(c)]\n"
     ]
    },
    {
     "data": {
      "text/html": [
       "<strong id=\"basicForallExprSpec\">basicForallExprSpec:</strong> <span style=\"font-size:20px;\"><a class=\"ProveItLink\" href=\"__pv_it/e17d081b776588796c5e0a5868faf81a15d1b88c0/expr.ipynb\"><img src=\"__pv_it/e17d081b776588796c5e0a5868faf81a15d1b88c0/expr.png\" style=\"display:inline;vertical-align:middle;\" /></a> &#x22A2;&nbsp;<a class=\"ProveItLink\" href=\"__pv_it/76cd2d4b729791c81c2e53a61349c21933710fd60/expr.ipynb\"><img src=\"__pv_it/76cd2d4b729791c81c2e53a61349c21933710fd60/expr.png\" style=\"display:inline;vertical-align:middle;\" /></a></span><br>"
      ],
      "text/plain": [
       "basicForallExprSpec: {forall_{x in S | Q(x) , R(x)} P(x) , c in S , Q(c) , R(c)} |- P(c)"
      ]
     },
     "execution_count": 4,
     "metadata": {},
     "output_type": "execute_result"
    }
   ],
   "source": [
    "Qa = Function(Q, a)\n",
    "Ra = Function(R, a)\n",
    "Rb = Function(R, b)\n",
    "Lc = Literal('c')\n",
    "Ld = Literal('d')\n",
    "QLc = Function(Q, Lc)\n",
    "RLc = Function(R, Lc)\n",
    "basicForallExprSpec = basicForallExpr.specialize({x:Lc}, assumptions=(basicForallExpr, InSet(Lc, S), QLc, RLc))"
   ]
  },
  {
   "cell_type": "code",
   "execution_count": 5,
   "metadata": {},
   "outputs": [],
   "source": [
    "def testFxn():\n",
    "    import pdb\n",
    "    pdb.set_trace()\n",
    "    return basicForallExpr.usedVars()"
   ]
  },
  {
   "cell_type": "code",
   "execution_count": 6,
   "metadata": {},
   "outputs": [
    {
     "data": {
      "text/plain": [
       "{P}"
      ]
     },
     "execution_count": 6,
     "metadata": {},
     "output_type": "execute_result"
    }
   ],
   "source": [
    "basicForallExprSpec.usedVars()"
   ]
  },
  {
   "cell_type": "code",
   "execution_count": 7,
   "metadata": {},
   "outputs": [
    {
     "data": {
      "text/plain": [
       "{c}"
      ]
     },
     "execution_count": 7,
     "metadata": {},
     "output_type": "execute_result"
    }
   ],
   "source": [
    "basicForallExprSpec.usedLiterals()"
   ]
  },
  {
   "cell_type": "code",
   "execution_count": 8,
   "metadata": {},
   "outputs": [
    {
     "data": {
      "text/plain": [
       "[P, c]"
      ]
     },
     "execution_count": 8,
     "metadata": {},
     "output_type": "execute_result"
    }
   ],
   "source": [
    "(list(basicForallExprSpec.subExprIter()))"
   ]
  },
  {
   "cell_type": "code",
   "execution_count": 9,
   "metadata": {},
   "outputs": [
    {
     "data": {
      "text/plain": [
       "[]"
      ]
     },
     "execution_count": 9,
     "metadata": {},
     "output_type": "execute_result"
    }
   ],
   "source": [
    "list(((list(basicForallExprSpec.subExprIter()))[1]).subExprIter())"
   ]
  },
  {
   "cell_type": "code",
   "execution_count": 10,
   "metadata": {},
   "outputs": [],
   "source": [
    "Lc.markAsConstrained()"
   ]
  },
  {
   "cell_type": "code",
   "execution_count": 11,
   "metadata": {},
   "outputs": [
    {
     "data": {
      "text/plain": [
       "True"
      ]
     },
     "execution_count": 11,
     "metadata": {},
     "output_type": "execute_result"
    }
   ],
   "source": [
    "Lc._constrained"
   ]
  },
  {
   "cell_type": "code",
   "execution_count": 12,
   "metadata": {},
   "outputs": [],
   "source": [
    "# notice now that re-marking as constrained does not elicit an error\n",
    "Lc.markAsConstrained()"
   ]
  },
  {
   "cell_type": "code",
   "execution_count": 13,
   "metadata": {},
   "outputs": [
    {
     "data": {
      "text/plain": [
       "True"
      ]
     },
     "execution_count": 13,
     "metadata": {},
     "output_type": "execute_result"
    }
   ],
   "source": [
    "# Check if Lc is constrained. Returns False if no _constrained attribute;\n",
    "# otherwise returns value of the _constrained attribute\n",
    "Lc.isConstrained()"
   ]
  },
  {
   "cell_type": "code",
   "execution_count": 14,
   "metadata": {},
   "outputs": [
    {
     "data": {
      "text/plain": [
       "False"
      ]
     },
     "execution_count": 14,
     "metadata": {},
     "output_type": "execute_result"
    }
   ],
   "source": [
    "# but we can still delete the _constrained attribute, which is a little weird:\n",
    "if hasattr(Lc, '_constrained'):\n",
    "    delattr(Lc, '_constrained')\n",
    "hasattr(Lc, '_constrained')"
   ]
  },
  {
   "cell_type": "code",
   "execution_count": 15,
   "metadata": {},
   "outputs": [
    {
     "data": {
      "text/plain": [
       "False"
      ]
     },
     "execution_count": 15,
     "metadata": {},
     "output_type": "execute_result"
    }
   ],
   "source": [
    "# now calling isConstrained will return false\n",
    "# even though the attribute doesn't exist:\n",
    "Lc.isConstrained()"
   ]
  },
  {
   "cell_type": "code",
   "execution_count": 16,
   "metadata": {},
   "outputs": [
    {
     "data": {
      "text/html": [
       "<strong id=\"basicThereExistsExpr00\">basicThereExistsExpr00:</strong> <a class=\"ProveItLink\" href=\"__pv_it/d4ccef0ee95df789ab54a4ff4fc6b20ea2cb9fbf0/expr.ipynb\"><img src=\"__pv_it/d4ccef0ee95df789ab54a4ff4fc6b20ea2cb9fbf0/expr.png\" style=\"display:inline;vertical-align:middle;\" /></a><br>"
      ],
      "text/plain": [
       "basicThereExistsExpr00: exists_{x} P(x)"
      ]
     },
     "execution_count": 16,
     "metadata": {},
     "output_type": "execute_result"
    }
   ],
   "source": [
    "basicThereExistsExpr00 = Exists(x, Px)"
   ]
  },
  {
   "cell_type": "code",
   "execution_count": 17,
   "metadata": {},
   "outputs": [
    {
     "name": "stdout",
     "output_type": "stream",
     "text": [
      "Begin Initializing KnownTruth!\n",
      "    After type-checking, expression =  exists_{x} P(x)\n",
      "    assumptions =  {exists_{x} P(x)}\n",
      "    Exiting KnownTruth.__init__\n",
      "provenTruth assumptions =  (exists_{x} P(x),)\n",
      "provenTruth operands =  (x -> P(x))\n",
      "provenTruth expr =  exists_{x} P(x)\n",
      "requiredTruths =  []\n"
     ]
    },
    {
     "data": {
      "text/html": [
       "<strong id=\"basicThereExistsExpr00KT\">basicThereExistsExpr00KT:</strong> <span style=\"font-size:20px;\"><a class=\"ProveItLink\" href=\"__pv_it/107234af7e43a502874f0f2b7c6f383e7621dd960/expr.ipynb\"><img src=\"__pv_it/107234af7e43a502874f0f2b7c6f383e7621dd960/expr.png\" style=\"display:inline;vertical-align:middle;\" /></a> &#x22A2;&nbsp;<a class=\"ProveItLink\" href=\"__pv_it/d4ccef0ee95df789ab54a4ff4fc6b20ea2cb9fbf0/expr.ipynb\"><img src=\"__pv_it/d4ccef0ee95df789ab54a4ff4fc6b20ea2cb9fbf0/expr.png\" style=\"display:inline;vertical-align:middle;\" /></a></span><br>"
      ],
      "text/plain": [
       "basicThereExistsExpr00KT: {exists_{x} P(x)} |- exists_{x} P(x)"
      ]
     },
     "execution_count": 17,
     "metadata": {},
     "output_type": "execute_result"
    }
   ],
   "source": [
    "basicThereExistsExpr00KT = basicThereExistsExpr00.prove(assumptions={basicThereExistsExpr00})"
   ]
  },
  {
   "cell_type": "code",
   "execution_count": 18,
   "metadata": {},
   "outputs": [
    {
     "data": {
      "text/html": [
       "<strong id=\"basicThereExistsExpr01\">basicThereExistsExpr01:</strong> <a class=\"ProveItLink\" href=\"__pv_it/11291b09019345a9e54a72fa3716278b269968a20/expr.ipynb\"><img src=\"__pv_it/11291b09019345a9e54a72fa3716278b269968a20/expr.png\" style=\"display:inline;vertical-align:middle;\" /></a><br>"
      ],
      "text/plain": [
       "basicThereExistsExpr01: exists_{x in S | Q(x)} P(x)"
      ]
     },
     "execution_count": 18,
     "metadata": {},
     "output_type": "execute_result"
    }
   ],
   "source": [
    "basicThereExistsExpr01 = Exists(x, Px, conditions=[Qx], domain=S)"
   ]
  },
  {
   "cell_type": "code",
   "execution_count": 19,
   "metadata": {},
   "outputs": [
    {
     "name": "stdout",
     "output_type": "stream",
     "text": [
      "Begin Initializing KnownTruth!\n",
      "    After type-checking, expression =  exists_{x in S | Q(x)} P(x)\n",
      "    assumptions =  {exists_{x in S | Q(x)} P(x)}\n",
      "    Exiting KnownTruth.__init__\n",
      "provenTruth assumptions =  (exists_{x in S | Q(x)} P(x),)\n",
      "provenTruth operands =  (x -> P(x) | x in S , Q(x))\n",
      "provenTruth expr =  exists_{x in S | Q(x)} P(x)\n",
      "requiredTruths =  []\n"
     ]
    },
    {
     "data": {
      "text/html": [
       "<strong id=\"basicThereExistsExpr01KT\">basicThereExistsExpr01KT:</strong> <span style=\"font-size:20px;\"><a class=\"ProveItLink\" href=\"__pv_it/954cee1c4073f510d0948b56ad1440c2b496228a0/expr.ipynb\"><img src=\"__pv_it/954cee1c4073f510d0948b56ad1440c2b496228a0/expr.png\" style=\"display:inline;vertical-align:middle;\" /></a> &#x22A2;&nbsp;<a class=\"ProveItLink\" href=\"__pv_it/11291b09019345a9e54a72fa3716278b269968a20/expr.ipynb\"><img src=\"__pv_it/11291b09019345a9e54a72fa3716278b269968a20/expr.png\" style=\"display:inline;vertical-align:middle;\" /></a></span><br>"
      ],
      "text/plain": [
       "basicThereExistsExpr01KT: {exists_{x in S | Q(x)} P(x)} |- exists_{x in S | Q(x)} P(x)"
      ]
     },
     "execution_count": 19,
     "metadata": {},
     "output_type": "execute_result"
    }
   ],
   "source": [
    "basicThereExistsExpr01KT = basicThereExistsExpr01.prove(assumptions={basicThereExistsExpr01})"
   ]
  },
  {
   "cell_type": "code",
   "execution_count": 20,
   "metadata": {},
   "outputs": [
    {
     "data": {
      "text/html": [
       "<strong id=\"basicThereExistsExpr02\">basicThereExistsExpr02:</strong> <a class=\"ProveItLink\" href=\"__pv_it/7d58c403737a339ebc09833c6f006c6af30cb7300/expr.ipynb\"><img src=\"__pv_it/7d58c403737a339ebc09833c6f006c6af30cb7300/expr.png\" style=\"display:inline;vertical-align:middle;\" /></a><br>"
      ],
      "text/plain": [
       "basicThereExistsExpr02: exists_{x, y in S | Q(x) , R(y)} P(x , y)"
      ]
     },
     "execution_count": 20,
     "metadata": {},
     "output_type": "execute_result"
    }
   ],
   "source": [
    "basicThereExistsExpr02 = Exists([x, y], Pxy, conditions=[Qx, Ry], domain=S)"
   ]
  },
  {
   "cell_type": "code",
   "execution_count": 21,
   "metadata": {},
   "outputs": [
    {
     "data": {
      "text/html": [
       "<a class=\"ProveItLink\" href=\"__pv_it/7d58c403737a339ebc09833c6f006c6af30cb7300/expr.ipynb\"><img src=\"__pv_it/7d58c403737a339ebc09833c6f006c6af30cb7300/expr.png\" style=\"display:inline;vertical-align:middle;\" /></a>"
      ],
      "text/plain": [
       "exists_{x, y in S | Q(x) , R(y)} P(x , y)"
      ]
     },
     "execution_count": 21,
     "metadata": {},
     "output_type": "execute_result"
    }
   ],
   "source": [
    "basicThereExistsExpr02"
   ]
  },
  {
   "cell_type": "code",
   "execution_count": 22,
   "metadata": {},
   "outputs": [
    {
     "name": "stdout",
     "output_type": "stream",
     "text": [
      "Begin Initializing KnownTruth!\n",
      "    After type-checking, expression =  exists_{x, y in S | Q(x) , R(y)} P(x , y)\n",
      "    assumptions =  {exists_{x, y in S | Q(x) , R(y)} P(x , y)}\n",
      "    Exiting KnownTruth.__init__\n",
      "provenTruth assumptions =  (exists_{x, y in S | Q(x) , R(y)} P(x , y),)\n",
      "provenTruth operands =  (x -> [exists_{y in S | R(y)} P(x , y)] | x in S , Q(x))\n",
      "provenTruth expr =  exists_{x, y in S | Q(x) , R(y)} P(x , y)\n",
      "requiredTruths =  []\n"
     ]
    },
    {
     "data": {
      "text/html": [
       "<strong id=\"basicThereExistsExpr02KT\">basicThereExistsExpr02KT:</strong> <span style=\"font-size:20px;\"><a class=\"ProveItLink\" href=\"__pv_it/bbf1011ee15f6385948117e235a8c8b6f6351f0c0/expr.ipynb\"><img src=\"__pv_it/bbf1011ee15f6385948117e235a8c8b6f6351f0c0/expr.png\" style=\"display:inline;vertical-align:middle;\" /></a> &#x22A2;&nbsp;<a class=\"ProveItLink\" href=\"__pv_it/7d58c403737a339ebc09833c6f006c6af30cb7300/expr.ipynb\"><img src=\"__pv_it/7d58c403737a339ebc09833c6f006c6af30cb7300/expr.png\" style=\"display:inline;vertical-align:middle;\" /></a></span><br>"
      ],
      "text/plain": [
       "basicThereExistsExpr02KT: {exists_{x, y in S | Q(x) , R(y)} P(x , y)} |- exists_{x, y in S | Q(x) , R(y)} P(x , y)"
      ]
     },
     "execution_count": 22,
     "metadata": {},
     "output_type": "execute_result"
    }
   ],
   "source": [
    "basicThereExistsExpr02KT = basicThereExistsExpr02.prove(assumptions = {basicThereExistsExpr02} )"
   ]
  },
  {
   "cell_type": "code",
   "execution_count": 23,
   "metadata": {},
   "outputs": [
    {
     "data": {
      "text/html": [
       "<strong id=\"basicThereExistsExpr03\">basicThereExistsExpr03:</strong> <a class=\"ProveItLink\" href=\"__pv_it/34cf482ba9d190d710555d841ecdbd9b9fc171570/expr.ipynb\"><img src=\"__pv_it/34cf482ba9d190d710555d841ecdbd9b9fc171570/expr.png\" style=\"display:inline;vertical-align:middle;\" /></a><br>"
      ],
      "text/plain": [
       "basicThereExistsExpr03: exists_{x, y in S | T(x , y) , Q(x) , R(y)} P(x , y)"
      ]
     },
     "execution_count": 23,
     "metadata": {},
     "output_type": "execute_result"
    }
   ],
   "source": [
    "Txy = Function(T, {x, y})\n",
    "basicThereExistsExpr03 = Exists([x, y], Pxy, conditions=[Txy, Qx, Ry], domain=S)"
   ]
  },
  {
   "cell_type": "code",
   "execution_count": 24,
   "metadata": {},
   "outputs": [
    {
     "data": {
      "text/html": [
       "<a class=\"ProveItLink\" href=\"__pv_it/e09ff51bf125698636b0e032cf763077cdd6790c0/expr.ipynb\"><img src=\"__pv_it/e09ff51bf125698636b0e032cf763077cdd6790c0/expr.png\" style=\"display:inline;vertical-align:middle;\" /></a>"
      ],
      "text/plain": [
       "(y in S , T(x , y) , Q(x) , R(y))"
      ]
     },
     "execution_count": 24,
     "metadata": {},
     "output_type": "execute_result"
    }
   ],
   "source": [
    "basicThereExistsExpr03.instanceExpr.conditions"
   ]
  },
  {
   "cell_type": "code",
   "execution_count": 25,
   "metadata": {},
   "outputs": [
    {
     "data": {
      "text/html": [
       "<a class=\"ProveItLink\" href=\"__pv_it/5ef366488d2b0e90fe93bac2b46228a02f9c71270/expr.ipynb\"><img src=\"__pv_it/5ef366488d2b0e90fe93bac2b46228a02f9c71270/expr.png\" style=\"display:inline;vertical-align:middle;\" /></a>"
      ],
      "text/plain": [
       "T(x , y)"
      ]
     },
     "execution_count": 25,
     "metadata": {},
     "output_type": "execute_result"
    }
   ],
   "source": [
    "(basicThereExistsExpr03.instanceExpr.allConditions()[1]).substituted({z:a})"
   ]
  },
  {
   "cell_type": "code",
   "execution_count": 75,
   "metadata": {},
   "outputs": [
    {
     "data": {
      "text/html": [
       "<strong id=\"basicThereExistsExpr04\">basicThereExistsExpr04:</strong> <a class=\"ProveItLink\" href=\"__pv_it/f4b0af3588744f266e4ecf1f364d6e5eaa5c04f80/expr.ipynb\"><img src=\"__pv_it/f4b0af3588744f266e4ecf1f364d6e5eaa5c04f80/expr.png\" style=\"display:inline;vertical-align:middle;\" /></a><br>"
      ],
      "text/plain": [
       "basicThereExistsExpr04: exists_{x, y, z in S | Q(x) , R(y) , T(z)} P(x , y , z)"
      ]
     },
     "execution_count": 75,
     "metadata": {},
     "output_type": "execute_result"
    }
   ],
   "source": [
    "Tz = Function(T, z)\n",
    "Pxyz = Function(P, [x, y, z])\n",
    "basicThereExistsExpr04 = Exists([x, y, z], Pxyz, conditions=[Qx, Ry, Tz], domain=S)"
   ]
  },
  {
   "cell_type": "code",
   "execution_count": 26,
   "metadata": {},
   "outputs": [
    {
     "data": {
      "text/html": [
       "<span style=\"font-size:20px;\"><a class=\"ProveItLink\" href=\"__pv_it/107234af7e43a502874f0f2b7c6f383e7621dd960/expr.ipynb\"><img src=\"__pv_it/107234af7e43a502874f0f2b7c6f383e7621dd960/expr.png\" style=\"display:inline;vertical-align:middle;\" /></a> &#x22A2;&nbsp;<a class=\"ProveItLink\" href=\"__pv_it/d4ccef0ee95df789ab54a4ff4fc6b20ea2cb9fbf0/expr.ipynb\"><img src=\"__pv_it/d4ccef0ee95df789ab54a4ff4fc6b20ea2cb9fbf0/expr.png\" style=\"display:inline;vertical-align:middle;\" /></a></span>"
      ],
      "text/plain": [
       "{exists_{x} P(x)} |- exists_{x} P(x)"
      ]
     },
     "execution_count": 26,
     "metadata": {},
     "output_type": "execute_result"
    }
   ],
   "source": [
    "basicThereExistsExpr00KT"
   ]
  },
  {
   "cell_type": "code",
   "execution_count": 27,
   "metadata": {},
   "outputs": [
    {
     "data": {
      "text/html": [
       "<span style=\"font-size:20px;\"><a class=\"ProveItLink\" href=\"__pv_it/107234af7e43a502874f0f2b7c6f383e7621dd960/expr.ipynb\"><img src=\"__pv_it/107234af7e43a502874f0f2b7c6f383e7621dd960/expr.png\" style=\"display:inline;vertical-align:middle;\" /></a> &#x22A2;&nbsp;<a class=\"ProveItLink\" href=\"__pv_it/d4ccef0ee95df789ab54a4ff4fc6b20ea2cb9fbf0/expr.ipynb\"><img src=\"__pv_it/d4ccef0ee95df789ab54a4ff4fc6b20ea2cb9fbf0/expr.png\" style=\"display:inline;vertical-align:middle;\" /></a></span>"
      ],
      "text/plain": [
       "{exists_{x} P(x)} |- exists_{x} P(x)"
      ]
     },
     "execution_count": 27,
     "metadata": {},
     "output_type": "execute_result"
    }
   ],
   "source": [
    "basicThereExistsExpr00KT"
   ]
  },
  {
   "cell_type": "code",
   "execution_count": 28,
   "metadata": {},
   "outputs": [
    {
     "name": "stdout",
     "output_type": "stream",
     "text": [
      "ENTERING KT.skolemize()\n",
      "    done importing\n",
      "    done checking for presence of skolemizeMap\n",
      "    initial assumptions =  (Q(c), c in S, exists_{x} P(x))\n",
      "    before building processedSubMap, skolemizeMap =  {x: c}\n",
      "        processedSubMap so far =  {x: c}\n",
      "    after processedSubMap, skolemizeMap =  {x: c}\n",
      "    after processedSubMap, processedSubMap =  {x: c}\n",
      "    after processedSubMap, remainingSubVars =  {x}\n",
      "    Determining # of Exists eliminations ...\n",
      "    self.expr =  exists_{x} P(x)\n",
      "    skolemize() lambdaExpr =  x -> P(x)\n",
      "    skolemize() instanceVars =  (x,)\n",
      "    skolemize() expr =  P(x)\n",
      "    skolemize() conditions =  ()\n",
      "    skolemize() processedSubMap (pre) =  {x: c}\n",
      "    iVar =  x\n",
      "        iVar is in remainingSubVars ( {x} )\n",
      "        so we remove it from remainingSubVars\n",
      "    skolemize() processedSubMap (post) =  {x: c}\n",
      "ENTERING _makeSkolemizations:\n",
      "    skolemizeMap =  {x: c}\n",
      "    numExistsEliminations =  1\n",
      "    Just before calling Skolemization: \n",
      "    skolemizeMap =  {x: c}\n",
      "    numExistsEliminations =  1\n",
      "ENTERING KT._skolemized_expressions\n",
      "    generalExpr =  exists_{x} P(x)\n",
      "    numExistsEliminations =  1\n",
      "    skolemizeMap =  {x: c}\n",
      "    relabelMap =  {}\n",
      "    assumptions =  [Q(c), c in S, exists_{x} P(x)]\n",
      "    Just before returning from the _skolemized_expressions method:\n",
      "    subbed_expr =  P(c)\n",
      "    subbedConditions =  []\n",
      "    requirements =  []\n",
      "    subbedExpressions =  [P(c)]\n",
      "    mappedVarLists =  [(x,), []]\n",
      "    mappings =  {x: c}\n",
      "At the beginning of Skolemization: \n",
      "    skolemizeMap =  {x: c}\n",
      "At beginning of Skolemization:\n",
      "    requirements =  []\n",
      "requirementTruths:  []\n",
      "assumptionsSet:  frozenset({exists_{x} P(x)})\n",
      "assumptions:  [exists_{x} P(x)]\n",
      "skolemizedExpressions:  [P(c)]\n",
      "Begin Initializing KnownTruth!\n",
      "    After type-checking, expression =  P(c)\n",
      "    assumptions =  (exists_{x} P(x),)\n",
      "    Exiting KnownTruth.__init__\n",
      "Skolemization.skolemizedTruth =  (exists_{x} P(x),)  |-  P(c)\n",
      "provenTruth assumptions =  (exists_{x} P(x),)\n",
      "provenTruth operands =  (c)\n",
      "provenTruth expr =  P(c)\n",
      "requiredTruths =  [{exists_{x} P(x)} |- exists_{x} P(x)]\n",
      "At the end of Skolemization: \n",
      "    skolemizeMap =  {x: c}\n"
     ]
    },
    {
     "data": {
      "text/html": [
       "<strong id=\"basicThereExistsExpr00KTSkolemized\">basicThereExistsExpr00KTSkolemized:</strong> <span style=\"font-size:20px;\"><a class=\"ProveItLink\" href=\"__pv_it/107234af7e43a502874f0f2b7c6f383e7621dd960/expr.ipynb\"><img src=\"__pv_it/107234af7e43a502874f0f2b7c6f383e7621dd960/expr.png\" style=\"display:inline;vertical-align:middle;\" /></a> &#x22A2;&nbsp;<a class=\"ProveItLink\" href=\"__pv_it/76cd2d4b729791c81c2e53a61349c21933710fd60/expr.ipynb\"><img src=\"__pv_it/76cd2d4b729791c81c2e53a61349c21933710fd60/expr.png\" style=\"display:inline;vertical-align:middle;\" /></a></span><br>"
      ],
      "text/plain": [
       "basicThereExistsExpr00KTSkolemized: {exists_{x} P(x)} |- P(c)"
      ]
     },
     "execution_count": 28,
     "metadata": {},
     "output_type": "execute_result"
    }
   ],
   "source": [
    "QLc = Function(Q, Lc)\n",
    "basicThereExistsExpr00KTSkolemized = basicThereExistsExpr00KT.skolemize({x:Lc}, assumptions={QLc, InSet(Lc, S)})"
   ]
  },
  {
   "cell_type": "code",
   "execution_count": 29,
   "metadata": {},
   "outputs": [
    {
     "data": {
      "text/html": [
       "<table><tr><th>&nbsp;</th><th>step type</th><th>requirements</th><th>statement</th></tr>\n",
       "<tr><td>0</td><td>skolemization</td><td>1</td><td><span style=\"font-size:20px;\"><a class=\"ProveItLink\" href=\"__pv_it/107234af7e43a502874f0f2b7c6f383e7621dd960/expr.ipynb\"><img src=\"__pv_it/107234af7e43a502874f0f2b7c6f383e7621dd960/expr.png\" style=\"display:inline;vertical-align:middle;\" /></a> &#x22A2;&nbsp;<a class=\"ProveItLink\" href=\"__pv_it/76cd2d4b729791c81c2e53a61349c21933710fd60/expr.ipynb\"><img src=\"__pv_it/76cd2d4b729791c81c2e53a61349c21933710fd60/expr.png\" style=\"display:inline;vertical-align:middle;\" /></a></span></td></tr>\n",
       "<tr><td>&nbsp;</td><td colspan=4 style=\"text-align:left\"><span style=\"font-size:20px;\"><a class=\"ProveItLink\" href=\"../packages/proveit/__pv_it/530be409e3083890784cf1d7b28c9e67e90af9360/expr.ipynb\"><img src=\"../packages/proveit/__pv_it/530be409e3083890784cf1d7b28c9e67e90af9360/expr.png\" style=\"display:inline;vertical-align:middle;\" /></a> : <a class=\"ProveItLink\" href=\"__pv_it/518589cfbcd61e7b8428f9d3eb7a281cbca4eef70/expr.ipynb\"><img src=\"__pv_it/518589cfbcd61e7b8428f9d3eb7a281cbca4eef70/expr.png\" style=\"display:inline;vertical-align:middle;\" /></a></span></td></tr><tr><td>1</td><td>assumption</td><td></td><td><span style=\"font-size:20px;\"><a class=\"ProveItLink\" href=\"__pv_it/107234af7e43a502874f0f2b7c6f383e7621dd960/expr.ipynb\"><img src=\"__pv_it/107234af7e43a502874f0f2b7c6f383e7621dd960/expr.png\" style=\"display:inline;vertical-align:middle;\" /></a> &#x22A2;&nbsp;<a class=\"ProveItLink\" href=\"__pv_it/d4ccef0ee95df789ab54a4ff4fc6b20ea2cb9fbf0/expr.ipynb\"><img src=\"__pv_it/d4ccef0ee95df789ab54a4ff4fc6b20ea2cb9fbf0/expr.png\" style=\"display:inline;vertical-align:middle;\" /></a></span></td></tr>\n",
       "</table>"
      ],
      "text/plain": [
       "\tstep type\trequirements\tstatement\n",
       "0\tskolemization\t1\t{exists_{x} P(x)} |- P(c)\n",
       "1\tassumption\t\t{exists_{x} P(x)} |- exists_{x} P(x)"
      ]
     },
     "execution_count": 29,
     "metadata": {},
     "output_type": "execute_result"
    }
   ],
   "source": [
    "basicThereExistsExpr00KTSkolemized.proof()"
   ]
  },
  {
   "cell_type": "code",
   "execution_count": 30,
   "metadata": {},
   "outputs": [
    {
     "data": {
      "text/html": [
       "<span style=\"font-size:20px;\"><a class=\"ProveItLink\" href=\"__pv_it/954cee1c4073f510d0948b56ad1440c2b496228a0/expr.ipynb\"><img src=\"__pv_it/954cee1c4073f510d0948b56ad1440c2b496228a0/expr.png\" style=\"display:inline;vertical-align:middle;\" /></a> &#x22A2;&nbsp;<a class=\"ProveItLink\" href=\"__pv_it/11291b09019345a9e54a72fa3716278b269968a20/expr.ipynb\"><img src=\"__pv_it/11291b09019345a9e54a72fa3716278b269968a20/expr.png\" style=\"display:inline;vertical-align:middle;\" /></a></span>"
      ],
      "text/plain": [
       "{exists_{x in S | Q(x)} P(x)} |- exists_{x in S | Q(x)} P(x)"
      ]
     },
     "execution_count": 30,
     "metadata": {},
     "output_type": "execute_result"
    }
   ],
   "source": [
    "basicThereExistsExpr01KT"
   ]
  },
  {
   "cell_type": "code",
   "execution_count": 31,
   "metadata": {},
   "outputs": [
    {
     "name": "stdout",
     "output_type": "stream",
     "text": [
      "ENTERING KT.skolemize()\n",
      "    done importing\n",
      "    done checking for presence of skolemizeMap\n",
      "Begin Initializing KnownTruth!\n",
      "    After type-checking, expression =  d in S\n",
      "    assumptions =  {d in S}\n",
      "    Exiting KnownTruth.__init__\n",
      "provenTruth assumptions =  (d in S,)\n",
      "provenTruth operands =  (d , S)\n",
      "provenTruth expr =  d in S\n",
      "requiredTruths =  []\n",
      "Begin Initializing KnownTruth!\n",
      "    After type-checking, expression =  Q(d)\n",
      "    assumptions =  {Q(d)}\n",
      "    Exiting KnownTruth.__init__\n",
      "provenTruth assumptions =  (Q(d),)\n",
      "provenTruth operands =  (d)\n",
      "provenTruth expr =  Q(d)\n",
      "requiredTruths =  []\n",
      "    initial assumptions =  (d in S, Q(d), exists_{x in S | Q(x)} P(x))\n",
      "    before building processedSubMap, skolemizeMap =  {x: d}\n",
      "        processedSubMap so far =  {x: d}\n",
      "    after processedSubMap, skolemizeMap =  {x: d}\n",
      "    after processedSubMap, processedSubMap =  {x: d}\n",
      "    after processedSubMap, remainingSubVars =  {x}\n",
      "    Determining # of Exists eliminations ...\n",
      "    self.expr =  exists_{x in S | Q(x)} P(x)\n",
      "    skolemize() lambdaExpr =  x -> P(x) | x in S , Q(x)\n",
      "    skolemize() instanceVars =  (x,)\n",
      "    skolemize() expr =  P(x)\n",
      "    skolemize() conditions =  (x in S , Q(x))\n",
      "    skolemize() processedSubMap (pre) =  {x: d}\n",
      "    iVar =  x\n",
      "        iVar is in remainingSubVars ( {x} )\n",
      "        so we remove it from remainingSubVars\n",
      "    skolemize() processedSubMap (post) =  {x: d}\n",
      "ENTERING _makeSkolemizations:\n",
      "    skolemizeMap =  {x: d}\n",
      "    numExistsEliminations =  1\n",
      "    Just before calling Skolemization: \n",
      "    skolemizeMap =  {x: d}\n",
      "    numExistsEliminations =  1\n",
      "ENTERING KT._skolemized_expressions\n",
      "    generalExpr =  exists_{x in S | Q(x)} P(x)\n",
      "    numExistsEliminations =  1\n",
      "    skolemizeMap =  {x: d}\n",
      "    relabelMap =  {}\n",
      "    assumptions =  [d in S, Q(d), exists_{x in S | Q(x)} P(x)]\n",
      "    Just before returning from the _skolemized_expressions method:\n",
      "    subbed_expr =  P(d)\n",
      "    subbedConditions =  [d in S, Q(d)]\n",
      "    requirements =  []\n",
      "    subbedExpressions =  [P(d), d in S, Q(d)]\n",
      "    mappedVarLists =  [(x,), []]\n",
      "    mappings =  {x: d}\n",
      "At the beginning of Skolemization: \n",
      "    skolemizeMap =  {x: d}\n",
      "At beginning of Skolemization:\n",
      "    requirements =  [d in S, Q(d)]\n",
      "requirementTruths:  []\n",
      "assumptionsSet:  frozenset({exists_{x in S | Q(x)} P(x)})\n",
      "assumptions:  [exists_{x in S | Q(x)} P(x)]\n",
      "skolemizedExpressions:  [P(d)]\n",
      "Begin Initializing KnownTruth!\n",
      "    After type-checking, expression =  P(d)\n",
      "    assumptions =  (exists_{x in S | Q(x)} P(x),)\n",
      "    Exiting KnownTruth.__init__\n",
      "Skolemization.skolemizedTruth =  (exists_{x in S | Q(x)} P(x),)  |-  P(d)\n",
      "provenTruth assumptions =  (exists_{x in S | Q(x)} P(x),)\n",
      "provenTruth operands =  (d)\n",
      "provenTruth expr =  P(d)\n",
      "requiredTruths =  [{exists_{x in S | Q(x)} P(x)} |- exists_{x in S | Q(x)} P(x)]\n",
      "At the end of Skolemization: \n",
      "    skolemizeMap =  {x: d}\n",
      "At the beginning of Skolemization: \n",
      "    skolemizeMap =  {x: d}\n",
      "At beginning of Skolemization:\n",
      "    requirements =  [d in S, Q(d)]\n",
      "requirementTruths:  []\n",
      "assumptionsSet:  frozenset({exists_{x in S | Q(x)} P(x)})\n",
      "assumptions:  [exists_{x in S | Q(x)} P(x)]\n",
      "skolemizedExpressions:  [d in S]\n",
      "Begin Initializing KnownTruth!\n",
      "    After type-checking, expression =  d in S\n",
      "    assumptions =  (exists_{x in S | Q(x)} P(x),)\n",
      "    Exiting KnownTruth.__init__\n",
      "Skolemization.skolemizedTruth =  (exists_{x in S | Q(x)} P(x),)  |-  d in S\n",
      "provenTruth assumptions =  (exists_{x in S | Q(x)} P(x),)\n",
      "provenTruth operands =  (d , S)\n",
      "provenTruth expr =  d in S\n",
      "requiredTruths =  [{exists_{x in S | Q(x)} P(x)} |- exists_{x in S | Q(x)} P(x)]\n",
      "At the end of Skolemization: \n",
      "    skolemizeMap =  {x: d}\n",
      "At the beginning of Skolemization: \n",
      "    skolemizeMap =  {x: d}\n",
      "At beginning of Skolemization:\n",
      "    requirements =  [d in S, Q(d)]\n",
      "requirementTruths:  []\n",
      "assumptionsSet:  frozenset({exists_{x in S | Q(x)} P(x)})\n",
      "assumptions:  [exists_{x in S | Q(x)} P(x)]\n",
      "skolemizedExpressions:  [Q(d)]\n",
      "Begin Initializing KnownTruth!\n",
      "    After type-checking, expression =  Q(d)\n",
      "    assumptions =  (exists_{x in S | Q(x)} P(x),)\n",
      "    Exiting KnownTruth.__init__\n",
      "Skolemization.skolemizedTruth =  (exists_{x in S | Q(x)} P(x),)  |-  Q(d)\n",
      "provenTruth assumptions =  (exists_{x in S | Q(x)} P(x),)\n",
      "provenTruth operands =  (d)\n",
      "provenTruth expr =  Q(d)\n",
      "requiredTruths =  [{exists_{x in S | Q(x)} P(x)} |- exists_{x in S | Q(x)} P(x)]\n",
      "At the end of Skolemization: \n",
      "    skolemizeMap =  {x: d}\n"
     ]
    },
    {
     "data": {
      "text/html": [
       "<strong id=\"A\">A:</strong> <span style=\"font-size:20px;\"><a class=\"ProveItLink\" href=\"__pv_it/954cee1c4073f510d0948b56ad1440c2b496228a0/expr.ipynb\"><img src=\"__pv_it/954cee1c4073f510d0948b56ad1440c2b496228a0/expr.png\" style=\"display:inline;vertical-align:middle;\" /></a> &#x22A2;&nbsp;<a class=\"ProveItLink\" href=\"__pv_it/82f52d715bfa2603b913d3a6e0ecc4e0d9e69afb0/expr.ipynb\"><img src=\"__pv_it/82f52d715bfa2603b913d3a6e0ecc4e0d9e69afb0/expr.png\" style=\"display:inline;vertical-align:middle;\" /></a></span><br>\n",
       "<strong id=\"B\">B:</strong> <span style=\"font-size:20px;\"><a class=\"ProveItLink\" href=\"__pv_it/954cee1c4073f510d0948b56ad1440c2b496228a0/expr.ipynb\"><img src=\"__pv_it/954cee1c4073f510d0948b56ad1440c2b496228a0/expr.png\" style=\"display:inline;vertical-align:middle;\" /></a> &#x22A2;&nbsp;<a class=\"ProveItLink\" href=\"__pv_it/979560dcaf45a2b91d900e8c0a596e38a8707b700/expr.ipynb\"><img src=\"__pv_it/979560dcaf45a2b91d900e8c0a596e38a8707b700/expr.png\" style=\"display:inline;vertical-align:middle;\" /></a></span><br>\n",
       "<strong id=\"C\">C:</strong> <span style=\"font-size:20px;\"><a class=\"ProveItLink\" href=\"__pv_it/954cee1c4073f510d0948b56ad1440c2b496228a0/expr.ipynb\"><img src=\"__pv_it/954cee1c4073f510d0948b56ad1440c2b496228a0/expr.png\" style=\"display:inline;vertical-align:middle;\" /></a> &#x22A2;&nbsp;<a class=\"ProveItLink\" href=\"__pv_it/11113384052d0aef6f850866259f01ec241454990/expr.ipynb\"><img src=\"__pv_it/11113384052d0aef6f850866259f01ec241454990/expr.png\" style=\"display:inline;vertical-align:middle;\" /></a></span><br>"
      ],
      "text/plain": [
       "A: {exists_{x in S | Q(x)} P(x)} |- P(d)\n",
       "B: {exists_{x in S | Q(x)} P(x)} |- d in S\n",
       "C: {exists_{x in S | Q(x)} P(x)} |- Q(d)"
      ]
     },
     "execution_count": 31,
     "metadata": {},
     "output_type": "execute_result"
    }
   ],
   "source": [
    "Ld = Literal('d')\n",
    "QLd = Function(Q, Ld)\n",
    "# A, B, C = (\n",
    "#     basicThereExistsExpr01KT.skolemize(\n",
    "#         {x:Ld},\n",
    "#         assumptions={InSet(Ld, S), QLd}\n",
    "#     )\n",
    "# )\n",
    "basicThereExistsExpr01KTSkolemized = (\n",
    "    basicThereExistsExpr01KT.skolemize(\n",
    "        {x:Ld},\n",
    "        assumptions={InSet(Ld, S), QLd}\n",
    "    )\n",
    ")\n",
    "# skolemizing just one of two possible instance vars\n",
    "# This is not quite working — somehow subbing into one of the conditions\n",
    "# but not explicitly then including that condition in the\n",
    "# subbedConditions list\n",
    "# basicThereExistsExpr03ThmSkolemized = (\n",
    "#     basicThereExistsExpr03Thm.skolemize(\n",
    "#         {y:Ld},\n",
    "#         assumptions={InSet(Ld, S), RLd}\n",
    "#     )\n",
    "# )\n",
    "A, B, C = basicThereExistsExpr01KTSkolemized"
   ]
  },
  {
   "cell_type": "code",
   "execution_count": 32,
   "metadata": {},
   "outputs": [
    {
     "data": {
      "text/html": [
       "<table><tr><th>&nbsp;</th><th>step type</th><th>requirements</th><th>statement</th></tr>\n",
       "<tr><td>0</td><td>skolemization</td><td>1</td><td><span style=\"font-size:20px;\"><a class=\"ProveItLink\" href=\"__pv_it/954cee1c4073f510d0948b56ad1440c2b496228a0/expr.ipynb\"><img src=\"__pv_it/954cee1c4073f510d0948b56ad1440c2b496228a0/expr.png\" style=\"display:inline;vertical-align:middle;\" /></a> &#x22A2;&nbsp;<a class=\"ProveItLink\" href=\"__pv_it/82f52d715bfa2603b913d3a6e0ecc4e0d9e69afb0/expr.ipynb\"><img src=\"__pv_it/82f52d715bfa2603b913d3a6e0ecc4e0d9e69afb0/expr.png\" style=\"display:inline;vertical-align:middle;\" /></a></span></td></tr>\n",
       "<tr><td>&nbsp;</td><td colspan=4 style=\"text-align:left\"><span style=\"font-size:20px;\"><a class=\"ProveItLink\" href=\"../packages/proveit/__pv_it/530be409e3083890784cf1d7b28c9e67e90af9360/expr.ipynb\"><img src=\"../packages/proveit/__pv_it/530be409e3083890784cf1d7b28c9e67e90af9360/expr.png\" style=\"display:inline;vertical-align:middle;\" /></a> : <a class=\"ProveItLink\" href=\"__pv_it/6006e36dbb724a89a34f2b13857b63971b5e19a00/expr.ipynb\"><img src=\"__pv_it/6006e36dbb724a89a34f2b13857b63971b5e19a00/expr.png\" style=\"display:inline;vertical-align:middle;\" /></a></span></td></tr><tr><td>1</td><td>assumption</td><td></td><td><span style=\"font-size:20px;\"><a class=\"ProveItLink\" href=\"__pv_it/954cee1c4073f510d0948b56ad1440c2b496228a0/expr.ipynb\"><img src=\"__pv_it/954cee1c4073f510d0948b56ad1440c2b496228a0/expr.png\" style=\"display:inline;vertical-align:middle;\" /></a> &#x22A2;&nbsp;<a class=\"ProveItLink\" href=\"__pv_it/11291b09019345a9e54a72fa3716278b269968a20/expr.ipynb\"><img src=\"__pv_it/11291b09019345a9e54a72fa3716278b269968a20/expr.png\" style=\"display:inline;vertical-align:middle;\" /></a></span></td></tr>\n",
       "</table>"
      ],
      "text/plain": [
       "\tstep type\trequirements\tstatement\n",
       "0\tskolemization\t1\t{exists_{x in S | Q(x)} P(x)} |- P(d)\n",
       "1\tassumption\t\t{exists_{x in S | Q(x)} P(x)} |- exists_{x in S | Q(x)} P(x)"
      ]
     },
     "execution_count": 32,
     "metadata": {},
     "output_type": "execute_result"
    }
   ],
   "source": [
    "A.proof()"
   ]
  },
  {
   "cell_type": "code",
   "execution_count": 33,
   "metadata": {},
   "outputs": [
    {
     "data": {
      "text/html": [
       "<table><tr><th>&nbsp;</th><th>step type</th><th>requirements</th><th>statement</th></tr>\n",
       "<tr><td>0</td><td>skolemization</td><td>1</td><td><span style=\"font-size:20px;\"><a class=\"ProveItLink\" href=\"__pv_it/954cee1c4073f510d0948b56ad1440c2b496228a0/expr.ipynb\"><img src=\"__pv_it/954cee1c4073f510d0948b56ad1440c2b496228a0/expr.png\" style=\"display:inline;vertical-align:middle;\" /></a> &#x22A2;&nbsp;<a class=\"ProveItLink\" href=\"__pv_it/979560dcaf45a2b91d900e8c0a596e38a8707b700/expr.ipynb\"><img src=\"__pv_it/979560dcaf45a2b91d900e8c0a596e38a8707b700/expr.png\" style=\"display:inline;vertical-align:middle;\" /></a></span></td></tr>\n",
       "<tr><td>&nbsp;</td><td colspan=4 style=\"text-align:left\"><span style=\"font-size:20px;\"><a class=\"ProveItLink\" href=\"../packages/proveit/__pv_it/530be409e3083890784cf1d7b28c9e67e90af9360/expr.ipynb\"><img src=\"../packages/proveit/__pv_it/530be409e3083890784cf1d7b28c9e67e90af9360/expr.png\" style=\"display:inline;vertical-align:middle;\" /></a> : <a class=\"ProveItLink\" href=\"__pv_it/6006e36dbb724a89a34f2b13857b63971b5e19a00/expr.ipynb\"><img src=\"__pv_it/6006e36dbb724a89a34f2b13857b63971b5e19a00/expr.png\" style=\"display:inline;vertical-align:middle;\" /></a></span></td></tr><tr><td>1</td><td>assumption</td><td></td><td><span style=\"font-size:20px;\"><a class=\"ProveItLink\" href=\"__pv_it/954cee1c4073f510d0948b56ad1440c2b496228a0/expr.ipynb\"><img src=\"__pv_it/954cee1c4073f510d0948b56ad1440c2b496228a0/expr.png\" style=\"display:inline;vertical-align:middle;\" /></a> &#x22A2;&nbsp;<a class=\"ProveItLink\" href=\"__pv_it/11291b09019345a9e54a72fa3716278b269968a20/expr.ipynb\"><img src=\"__pv_it/11291b09019345a9e54a72fa3716278b269968a20/expr.png\" style=\"display:inline;vertical-align:middle;\" /></a></span></td></tr>\n",
       "</table>"
      ],
      "text/plain": [
       "\tstep type\trequirements\tstatement\n",
       "0\tskolemization\t1\t{exists_{x in S | Q(x)} P(x)} |- d in S\n",
       "1\tassumption\t\t{exists_{x in S | Q(x)} P(x)} |- exists_{x in S | Q(x)} P(x)"
      ]
     },
     "execution_count": 33,
     "metadata": {},
     "output_type": "execute_result"
    }
   ],
   "source": [
    "B.proof()"
   ]
  },
  {
   "cell_type": "code",
   "execution_count": 34,
   "metadata": {},
   "outputs": [
    {
     "data": {
      "text/html": [
       "<table><tr><th>&nbsp;</th><th>step type</th><th>requirements</th><th>statement</th></tr>\n",
       "<tr><td>0</td><td>skolemization</td><td>1</td><td><span style=\"font-size:20px;\"><a class=\"ProveItLink\" href=\"__pv_it/954cee1c4073f510d0948b56ad1440c2b496228a0/expr.ipynb\"><img src=\"__pv_it/954cee1c4073f510d0948b56ad1440c2b496228a0/expr.png\" style=\"display:inline;vertical-align:middle;\" /></a> &#x22A2;&nbsp;<a class=\"ProveItLink\" href=\"__pv_it/11113384052d0aef6f850866259f01ec241454990/expr.ipynb\"><img src=\"__pv_it/11113384052d0aef6f850866259f01ec241454990/expr.png\" style=\"display:inline;vertical-align:middle;\" /></a></span></td></tr>\n",
       "<tr><td>&nbsp;</td><td colspan=4 style=\"text-align:left\"><span style=\"font-size:20px;\"><a class=\"ProveItLink\" href=\"../packages/proveit/__pv_it/530be409e3083890784cf1d7b28c9e67e90af9360/expr.ipynb\"><img src=\"../packages/proveit/__pv_it/530be409e3083890784cf1d7b28c9e67e90af9360/expr.png\" style=\"display:inline;vertical-align:middle;\" /></a> : <a class=\"ProveItLink\" href=\"__pv_it/6006e36dbb724a89a34f2b13857b63971b5e19a00/expr.ipynb\"><img src=\"__pv_it/6006e36dbb724a89a34f2b13857b63971b5e19a00/expr.png\" style=\"display:inline;vertical-align:middle;\" /></a></span></td></tr><tr><td>1</td><td>assumption</td><td></td><td><span style=\"font-size:20px;\"><a class=\"ProveItLink\" href=\"__pv_it/954cee1c4073f510d0948b56ad1440c2b496228a0/expr.ipynb\"><img src=\"__pv_it/954cee1c4073f510d0948b56ad1440c2b496228a0/expr.png\" style=\"display:inline;vertical-align:middle;\" /></a> &#x22A2;&nbsp;<a class=\"ProveItLink\" href=\"__pv_it/11291b09019345a9e54a72fa3716278b269968a20/expr.ipynb\"><img src=\"__pv_it/11291b09019345a9e54a72fa3716278b269968a20/expr.png\" style=\"display:inline;vertical-align:middle;\" /></a></span></td></tr>\n",
       "</table>"
      ],
      "text/plain": [
       "\tstep type\trequirements\tstatement\n",
       "0\tskolemization\t1\t{exists_{x in S | Q(x)} P(x)} |- Q(d)\n",
       "1\tassumption\t\t{exists_{x in S | Q(x)} P(x)} |- exists_{x in S | Q(x)} P(x)"
      ]
     },
     "execution_count": 34,
     "metadata": {},
     "output_type": "execute_result"
    }
   ],
   "source": [
    "C.proof()"
   ]
  },
  {
   "cell_type": "code",
   "execution_count": 35,
   "metadata": {},
   "outputs": [
    {
     "data": {
      "text/html": [
       "<span style=\"font-size:20px;\"><a class=\"ProveItLink\" href=\"__pv_it/bbf1011ee15f6385948117e235a8c8b6f6351f0c0/expr.ipynb\"><img src=\"__pv_it/bbf1011ee15f6385948117e235a8c8b6f6351f0c0/expr.png\" style=\"display:inline;vertical-align:middle;\" /></a> &#x22A2;&nbsp;<a class=\"ProveItLink\" href=\"__pv_it/7d58c403737a339ebc09833c6f006c6af30cb7300/expr.ipynb\"><img src=\"__pv_it/7d58c403737a339ebc09833c6f006c6af30cb7300/expr.png\" style=\"display:inline;vertical-align:middle;\" /></a></span>"
      ],
      "text/plain": [
       "{exists_{x, y in S | Q(x) , R(y)} P(x , y)} |- exists_{x, y in S | Q(x) , R(y)} P(x , y)"
      ]
     },
     "execution_count": 35,
     "metadata": {},
     "output_type": "execute_result"
    }
   ],
   "source": [
    "basicThereExistsExpr02KT"
   ]
  },
  {
   "cell_type": "code",
   "execution_count": 67,
   "metadata": {},
   "outputs": [],
   "source": [
    "# intended to operate on expression, not full known truth\n",
    "def skolemize2(inputExpr, skMap):\n",
    "    from proveit.logic import Exists\n",
    "    setOfResults = [inputExpr]\n",
    "    \n",
    "    while len(skMap)>0:\n",
    "        tempResults = []\n",
    "        currentSkMapping = {}\n",
    "        for theExpr in setOfResults:\n",
    "    \n",
    "            # check if outer expression is an Exists operation\n",
    "            if isinstance(theExpr, Exists):\n",
    "                print(\"Input was an Exists operation.\")\n",
    "                tempInstanceVar = theExpr.instanceVar\n",
    "                print(\"    tempInstanceVar = \", tempInstanceVar)\n",
    "                # check if skolemization appropriate\n",
    "                # i.e. if instance variable appears in skMap as a key\n",
    "                if tempInstanceVar in skMap:\n",
    "                    print(\"    Found the instanceVar as a key in the map!\")\n",
    "                    # perform skolemization\n",
    "                    tempInstanceExpr = theExpr.instanceExpr\n",
    "                    print(\"        theExpr.tempInstanceExpr = \", tempInstanceExpr)\n",
    "                    tempInstanceExprSubbed = tempInstanceExpr.substituted({tempInstanceVar:skMap[tempInstanceVar]})\n",
    "                    print(\"        tempInstanceExprSubbed = \", tempInstanceExprSubbed)\n",
    "                    tempResults.append(tempInstanceExprSubbed)\n",
    "                    print(\"        tempResults = \", tempResults)\n",
    "                    tempConditions = theExpr.conditions\n",
    "                    print(\"        tempConditions = \", tempConditions)\n",
    "                    tempConditionsSubbed = []\n",
    "                    for oldExpr in tempConditions:\n",
    "                        tempConditionsSubbed.append(oldExpr.substituted({tempInstanceVar:skMap[tempInstanceVar]}))\n",
    "                    print(\"        tempConditionsSubbed = \", tempConditionsSubbed)\n",
    "                    # we make a list of lists, consisting of the\n",
    "                    # instanceExpressionSubbed, followed by a list of conditionsSubbed\n",
    "                    tempResults.append(tempConditionsSubbed)\n",
    "                    print(\"        tempResults = \", tempResults)\n",
    "                    # remove the Skolem constant from the skMap\n",
    "                    del skMap[tempInstanceVar]\n",
    "                    print(\"        skMap now = \", skMap)\n",
    "                    setOfResults = tempResults\n",
    "                    print(\"        tempResults now = \", tempResults)\n",
    "\n",
    "\n",
    "                else:\n",
    "                    print(\"    Did NOT find the instanceVar as a key in the map!\")\n",
    "                    # try constructing the input expression around an attempted\n",
    "                    # skolemization on an inner expression (if it exists)\n",
    "                    tempInstanceExpr = theExpr.instanceExpr\n",
    "                    print(\"    tempInstanceExpr = \", tempInstanceExpr)\n",
    "                    A, B = skolemize2(tempInstanceExpr, skMap)\n",
    "                    print(\"    A = \", A)\n",
    "                    print(\"    B = \", B)\n",
    "                    print(\"    just after A, B, tempResults = \", tempResults)\n",
    "                    tempConstructed = Exists(theExpr.instanceVar,\n",
    "                                             A,\n",
    "                                             conditions=theExpr.conditions)\n",
    "                    print(\"    tempConstructed = \", tempConstructed)\n",
    "                    tempResults.append(tempConstructed)\n",
    "                    print(\"    tempResults = \", tempResults)\n",
    "                    tempResults.append(B)\n",
    "                    \n",
    "\n",
    "            else:\n",
    "                print(\"Input was NOT an Exists operation.\")\n",
    "                tempResults.append(theExpr)\n",
    "\n",
    "        \n",
    "        setOfResults = tempResults\n",
    "            \n",
    "    return setOfResults\n",
    "    \n",
    "    \n",
    "    "
   ]
  },
  {
   "cell_type": "code",
   "execution_count": 37,
   "metadata": {},
   "outputs": [
    {
     "data": {
      "text/html": [
       "<strong id=\"innerExists\">innerExists:</strong> <a class=\"ProveItLink\" href=\"__pv_it/1223cf9ed60754508cd7aac104ca6c25866d8b9d0/expr.ipynb\"><img src=\"__pv_it/1223cf9ed60754508cd7aac104ca6c25866d8b9d0/expr.png\" style=\"display:inline;vertical-align:middle;\" /></a><br>"
      ],
      "text/plain": [
       "innerExists: exists_{y in S | R(y)} P(x , y)"
      ]
     },
     "execution_count": 37,
     "metadata": {},
     "output_type": "execute_result"
    }
   ],
   "source": [
    "innerExists = basicThereExistsExpr02KT.instanceExpr"
   ]
  },
  {
   "cell_type": "code",
   "execution_count": 38,
   "metadata": {},
   "outputs": [
    {
     "data": {
      "text/html": [
       "<a class=\"ProveItLink\" href=\"__pv_it/a542620b2775667eaa55c18f6add4023fdc8de1a0/expr.ipynb\"><img src=\"__pv_it/a542620b2775667eaa55c18f6add4023fdc8de1a0/expr.png\" style=\"display:inline;vertical-align:middle;\" /></a>"
      ],
      "text/plain": [
       "(y in S , R(y))"
      ]
     },
     "execution_count": 38,
     "metadata": {},
     "output_type": "execute_result"
    }
   ],
   "source": [
    "innerExists.conditions"
   ]
  },
  {
   "cell_type": "code",
   "execution_count": 39,
   "metadata": {},
   "outputs": [
    {
     "data": {
      "text/html": [
       "<a class=\"ProveItLink\" href=\"__pv_it/791f2789282299961de027ef1695e340869ac4090/expr.ipynb\"><img src=\"__pv_it/791f2789282299961de027ef1695e340869ac4090/expr.png\" style=\"display:inline;vertical-align:middle;\" /></a>"
      ],
      "text/plain": [
       "P(x , a)"
      ]
     },
     "execution_count": 39,
     "metadata": {},
     "output_type": "execute_result"
    }
   ],
   "source": [
    "innerExists.instanceExpr.substituted({y:a},)"
   ]
  },
  {
   "cell_type": "code",
   "execution_count": 40,
   "metadata": {},
   "outputs": [
    {
     "data": {
      "text/html": [
       "<a class=\"ProveItLink\" href=\"__pv_it/1223cf9ed60754508cd7aac104ca6c25866d8b9d0/expr.ipynb\"><img src=\"__pv_it/1223cf9ed60754508cd7aac104ca6c25866d8b9d0/expr.png\" style=\"display:inline;vertical-align:middle;\" /></a>"
      ],
      "text/plain": [
       "exists_{y in S | R(y)} P(x , y)"
      ]
     },
     "execution_count": 40,
     "metadata": {},
     "output_type": "execute_result"
    }
   ],
   "source": [
    "innerExists.substituted({y:a},)"
   ]
  },
  {
   "cell_type": "code",
   "execution_count": 41,
   "metadata": {},
   "outputs": [
    {
     "data": {
      "text/html": [
       "<strong id=\"rebuiltExists\">rebuiltExists:</strong> <a class=\"ProveItLink\" href=\"__pv_it/85ce4bf95070346674477f8ef729fa9eb0662a780/expr.ipynb\"><img src=\"__pv_it/85ce4bf95070346674477f8ef729fa9eb0662a780/expr.png\" style=\"display:inline;vertical-align:middle;\" /></a><br>"
      ],
      "text/plain": [
       "rebuiltExists: exists_{a | (a in S , R(a))} P(x , a)"
      ]
     },
     "execution_count": 41,
     "metadata": {},
     "output_type": "execute_result"
    }
   ],
   "source": [
    "rebuiltExists = Exists((a,), innerExists.instanceExpr.substituted({y:a},), conditions=[innerExists.conditions.substituted({y:a},)])"
   ]
  },
  {
   "cell_type": "code",
   "execution_count": 71,
   "metadata": {},
   "outputs": [
    {
     "data": {
      "text/html": [
       "<a class=\"ProveItLink\" href=\"__pv_it/7d58c403737a339ebc09833c6f006c6af30cb7300/expr.ipynb\"><img src=\"__pv_it/7d58c403737a339ebc09833c6f006c6af30cb7300/expr.png\" style=\"display:inline;vertical-align:middle;\" /></a>"
      ],
      "text/plain": [
       "exists_{x, y in S | Q(x) , R(y)} P(x , y)"
      ]
     },
     "execution_count": 71,
     "metadata": {},
     "output_type": "execute_result"
    }
   ],
   "source": [
    "basicThereExistsExpr02KT.expr"
   ]
  },
  {
   "cell_type": "code",
   "execution_count": 70,
   "metadata": {},
   "outputs": [
    {
     "name": "stdout",
     "output_type": "stream",
     "text": [
      "Input was an Exists operation.\n",
      "    tempInstanceVar =  x\n",
      "    Did NOT find the instanceVar as a key in the map!\n",
      "    tempInstanceExpr =  exists_{y in S | R(y)} P(x , y)\n",
      "Input was an Exists operation.\n",
      "    tempInstanceVar =  y\n",
      "    Found the instanceVar as a key in the map!\n",
      "        theExpr.tempInstanceExpr =  P(x , y)\n",
      "        tempInstanceExprSubbed =  P(x , b)\n",
      "        tempResults =  [P(x , b)]\n",
      "        tempConditions =  (y in S , R(y))\n",
      "        tempConditionsSubbed =  [b in S, R(b)]\n",
      "        tempResults =  [P(x , b), [b in S, R(b)]]\n",
      "        skMap now =  {}\n",
      "        tempResults now =  [P(x , b), [b in S, R(b)]]\n",
      "    A =  P(x , b)\n",
      "    B =  [b in S, R(b)]\n",
      "    just after A, B, tempResults =  []\n",
      "    tempConstructed =  exists_{x in S | Q(x)} P(x , b)\n",
      "    tempResults =  [exists_{x in S | Q(x)} P(x , b)]\n"
     ]
    },
    {
     "data": {
      "text/plain": [
       "[exists_{x in S | Q(x)} P(x , b), [b in S, R(b)]]"
      ]
     },
     "execution_count": 70,
     "metadata": {},
     "output_type": "execute_result"
    }
   ],
   "source": [
    "skolemize2(basicThereExistsExpr02KT.expr, {y:b})"
   ]
  },
  {
   "cell_type": "code",
   "execution_count": 78,
   "metadata": {},
   "outputs": [
    {
     "data": {
      "text/html": [
       "<a class=\"ProveItLink\" href=\"__pv_it/f4b0af3588744f266e4ecf1f364d6e5eaa5c04f80/expr.ipynb\"><img src=\"__pv_it/f4b0af3588744f266e4ecf1f364d6e5eaa5c04f80/expr.png\" style=\"display:inline;vertical-align:middle;\" /></a>"
      ],
      "text/plain": [
       "exists_{x, y, z in S | Q(x) , R(y) , T(z)} P(x , y , z)"
      ]
     },
     "execution_count": 78,
     "metadata": {},
     "output_type": "execute_result"
    }
   ],
   "source": [
    "basicThereExistsExpr04"
   ]
  },
  {
   "cell_type": "code",
   "execution_count": 86,
   "metadata": {},
   "outputs": [
    {
     "name": "stdout",
     "output_type": "stream",
     "text": [
      "Input was an Exists operation.\n",
      "    tempInstanceVar =  x\n",
      "    Found the instanceVar as a key in the map!\n",
      "        theExpr.tempInstanceExpr =  exists_{y, z in S | R(y) , T(z)} P(x , y , z)\n",
      "        tempInstanceExprSubbed =  exists_{y, z in S | R(y) , T(z)} P(a , y , z)\n",
      "        tempResults =  [exists_{y, z in S | R(y) , T(z)} P(a , y , z)]\n",
      "        tempConditions =  [x in S, Q(x)]\n",
      "        tempConditionsSubbed =  [a in S, Q(a)]\n",
      "        tempResults =  [exists_{y, z in S | R(y) , T(z)} P(a , y , z), [a in S, Q(a)]]\n",
      "        skMap now =  {y: b, z: c}\n",
      "        tempResults now =  [exists_{y, z in S | R(y) , T(z)} P(a , y , z), [a in S, Q(a)]]\n",
      "Input was an Exists operation.\n",
      "    tempInstanceVar =  y\n",
      "    Found the instanceVar as a key in the map!\n",
      "        theExpr.tempInstanceExpr =  exists_{z in S | T(z)} P(a , y , z)\n",
      "        tempInstanceExprSubbed =  exists_{z in S | T(z)} P(a , b , z)\n",
      "        tempResults =  [exists_{z in S | T(z)} P(a , b , z)]\n",
      "        tempConditions =  (y in S , R(y))\n",
      "        tempConditionsSubbed =  [b in S, R(b)]\n",
      "        tempResults =  [exists_{z in S | T(z)} P(a , b , z), [b in S, R(b)]]\n",
      "        skMap now =  {z: c}\n",
      "        tempResults now =  [exists_{z in S | T(z)} P(a , b , z), [b in S, R(b)]]\n",
      "Input was NOT an Exists operation.\n",
      "Input was an Exists operation.\n",
      "    tempInstanceVar =  z\n",
      "    Found the instanceVar as a key in the map!\n",
      "        theExpr.tempInstanceExpr =  P(a , b , z)\n",
      "        tempInstanceExprSubbed =  P(a , b , c)\n",
      "        tempResults =  [P(a , b , c)]\n",
      "        tempConditions =  (z in S , T(z))\n",
      "        tempConditionsSubbed =  [c in S, T(c)]\n",
      "        tempResults =  [P(a , b , c), [c in S, T(c)]]\n",
      "        skMap now =  {}\n",
      "        tempResults now =  [P(a , b , c), [c in S, T(c)]]\n",
      "Input was NOT an Exists operation.\n",
      "Input was NOT an Exists operation.\n"
     ]
    },
    {
     "data": {
      "text/plain": [
       "[P(a , b , c), [c in S, T(c)], [b in S, R(b)], [a in S, Q(a)]]"
      ]
     },
     "execution_count": 86,
     "metadata": {},
     "output_type": "execute_result"
    }
   ],
   "source": [
    "skolemize2(basicThereExistsExpr04, {x:a, y:b, z:c})"
   ]
  },
  {
   "cell_type": "code",
   "execution_count": 44,
   "metadata": {},
   "outputs": [
    {
     "name": "stdout",
     "output_type": "stream",
     "text": [
      "ENTERING KT.skolemize()\n",
      "    done importing\n",
      "    done checking for presence of skolemizeMap\n",
      "    initial assumptions =  (exists_{x, y in S | Q(x) , R(y)} P(x , y),)\n",
      "    before building processedSubMap, skolemizeMap =  {y: a}\n",
      "        processedSubMap so far =  {y: a}\n",
      "    after processedSubMap, skolemizeMap =  {y: a}\n",
      "    after processedSubMap, processedSubMap =  {y: a}\n",
      "    after processedSubMap, remainingSubVars =  {y}\n",
      "    Determining # of Exists eliminations ...\n",
      "    self.expr =  exists_{x, y in S | Q(x) , R(y)} P(x , y)\n",
      "    skolemize() lambdaExpr =  x -> [exists_{y in S | R(y)} P(x , y)] | x in S , Q(x)\n",
      "    skolemize() instanceVars =  (x,)\n",
      "    skolemize() expr =  exists_{y in S | R(y)} P(x , y)\n",
      "    skolemize() conditions =  (x in S , Q(x))\n",
      "    skolemize() processedSubMap (pre) =  {y: a}\n",
      "    iVar =  x\n",
      "        iVar is NOT in processedSubMap ( {y: a} )\n",
      "        so we ADD it to processedSubMap, mapping it to itself\n",
      "    hah, just kidding! processedSubMap is still =  {y: a}\n",
      "    skolemize() processedSubMap (post) =  {y: a}\n",
      "    skolemize() lambdaExpr =  y -> P(x , y) | y in S , R(y)\n",
      "    skolemize() instanceVars =  (y,)\n",
      "    skolemize() expr =  P(x , y)\n",
      "    skolemize() conditions =  (y in S , R(y))\n",
      "    skolemize() processedSubMap (pre) =  {y: a}\n",
      "    iVar =  y\n",
      "        iVar is in remainingSubVars ( {y} )\n",
      "        so we remove it from remainingSubVars\n",
      "    skolemize() processedSubMap (post) =  {y: a}\n",
      "ENTERING _makeSkolemizations:\n",
      "    skolemizeMap =  {y: a}\n",
      "    numExistsEliminations =  2\n",
      "    Just before calling Skolemization: \n",
      "    skolemizeMap =  {y: a}\n",
      "    numExistsEliminations =  2\n",
      "ENTERING KT._skolemized_expressions\n",
      "    generalExpr =  exists_{x, y in S | Q(x) , R(y)} P(x , y)\n",
      "    numExistsEliminations =  2\n",
      "    skolemizeMap =  {y: a}\n",
      "    relabelMap =  {}\n",
      "    assumptions =  [exists_{x, y in S | Q(x) , R(y)} P(x , y)]\n"
     ]
    },
    {
     "ename": "SkolemizationFailure",
     "evalue": "Proof step failed assuming {exists_{x, y in S | Q(x) , R(y)} P(x , y)}: Must specialize all of the instance variables of the Exists operations to be eliminated",
     "output_type": "error",
     "traceback": [
      "\u001b[0;31m---------------------------------------------------------------------------\u001b[0m",
      "\u001b[0;31mKeyError\u001b[0m                                  Traceback (most recent call last)",
      "\u001b[0;32m~/Desktop/Prove-It/packages/proveit/_core_/proof.py\u001b[0m in \u001b[0;36m_skolemized_expressions\u001b[0;34m(generalExpr, numExistsEliminations, skolemizeMap, relabelMap, assumptions)\u001b[0m\n\u001b[1;32m   1205\u001b[0m             \u001b[0;32mtry\u001b[0m\u001b[0;34m:\u001b[0m\u001b[0;34m\u001b[0m\u001b[0;34m\u001b[0m\u001b[0m\n\u001b[0;32m-> 1206\u001b[0;31m                 \u001b[0mpartialMap\u001b[0m\u001b[0;34m.\u001b[0m\u001b[0mupdate\u001b[0m\u001b[0;34m(\u001b[0m\u001b[0;34m{\u001b[0m\u001b[0miVar\u001b[0m\u001b[0;34m:\u001b[0m\u001b[0mskolemizeMap\u001b[0m\u001b[0;34m[\u001b[0m\u001b[0miVar\u001b[0m\u001b[0;34m]\u001b[0m \u001b[0;32mfor\u001b[0m \u001b[0miVar\u001b[0m \u001b[0;32min\u001b[0m \u001b[0minstanceVars\u001b[0m\u001b[0;34m}\u001b[0m\u001b[0;34m)\u001b[0m\u001b[0;34m\u001b[0m\u001b[0;34m\u001b[0m\u001b[0m\n\u001b[0m\u001b[1;32m   1207\u001b[0m             \u001b[0;32mexcept\u001b[0m \u001b[0mKeyError\u001b[0m\u001b[0;34m:\u001b[0m\u001b[0;34m\u001b[0m\u001b[0;34m\u001b[0m\u001b[0m\n",
      "\u001b[0;32m~/Desktop/Prove-It/packages/proveit/_core_/proof.py\u001b[0m in \u001b[0;36m<dictcomp>\u001b[0;34m(.0)\u001b[0m\n\u001b[1;32m   1205\u001b[0m             \u001b[0;32mtry\u001b[0m\u001b[0;34m:\u001b[0m\u001b[0;34m\u001b[0m\u001b[0;34m\u001b[0m\u001b[0m\n\u001b[0;32m-> 1206\u001b[0;31m                 \u001b[0mpartialMap\u001b[0m\u001b[0;34m.\u001b[0m\u001b[0mupdate\u001b[0m\u001b[0;34m(\u001b[0m\u001b[0;34m{\u001b[0m\u001b[0miVar\u001b[0m\u001b[0;34m:\u001b[0m\u001b[0mskolemizeMap\u001b[0m\u001b[0;34m[\u001b[0m\u001b[0miVar\u001b[0m\u001b[0;34m]\u001b[0m \u001b[0;32mfor\u001b[0m \u001b[0miVar\u001b[0m \u001b[0;32min\u001b[0m \u001b[0minstanceVars\u001b[0m\u001b[0;34m}\u001b[0m\u001b[0;34m)\u001b[0m\u001b[0;34m\u001b[0m\u001b[0;34m\u001b[0m\u001b[0m\n\u001b[0m\u001b[1;32m   1207\u001b[0m             \u001b[0;32mexcept\u001b[0m \u001b[0mKeyError\u001b[0m\u001b[0;34m:\u001b[0m\u001b[0;34m\u001b[0m\u001b[0;34m\u001b[0m\u001b[0m\n",
      "\u001b[0;31mKeyError\u001b[0m: x",
      "\nDuring handling of the above exception, another exception occurred:\n",
      "\u001b[0;31mSkolemizationFailure\u001b[0m                      Traceback (most recent call last)",
      "\u001b[0;32m<ipython-input-44-b7fce34df8d5>\u001b[0m in \u001b[0;36m<module>\u001b[0;34m\u001b[0m\n\u001b[1;32m     11\u001b[0m basicThereExistsExpr02KTSkolemized = (\n\u001b[1;32m     12\u001b[0m     basicThereExistsExpr02KT.skolemize(\n\u001b[0;32m---> 13\u001b[0;31m         {y:La}, assumptions={})\n\u001b[0m\u001b[1;32m     14\u001b[0m )\n\u001b[1;32m     15\u001b[0m \u001b[0;31m# basicThereExistsExpr02KTSkolemized = (\u001b[0m\u001b[0;34m\u001b[0m\u001b[0;34m\u001b[0m\u001b[0;34m\u001b[0m\u001b[0m\n",
      "\u001b[0;32m~/Desktop/Prove-It/packages/proveit/_core_/known_truth.py\u001b[0m in \u001b[0;36mskolemize\u001b[0;34m(self, skolemizeMap, relabelMap, assumptions)\u001b[0m\n\u001b[1;32m   1018\u001b[0m                 \u001b[0mskolemizeMap\u001b[0m\u001b[0;34m=\u001b[0m\u001b[0mprocessedSubMap\u001b[0m\u001b[0;34m,\u001b[0m\u001b[0;34m\u001b[0m\u001b[0;34m\u001b[0m\u001b[0m\n\u001b[1;32m   1019\u001b[0m                 \u001b[0mrelabelMap\u001b[0m\u001b[0;34m=\u001b[0m\u001b[0mrelabelMap\u001b[0m\u001b[0;34m,\u001b[0m\u001b[0;34m\u001b[0m\u001b[0;34m\u001b[0m\u001b[0m\n\u001b[0;32m-> 1020\u001b[0;31m                 assumptions=assumptions)]\n\u001b[0m\u001b[1;32m   1021\u001b[0m             )\n\u001b[1;32m   1022\u001b[0m \u001b[0;34m\u001b[0m\u001b[0m\n",
      "\u001b[0;32m~/Desktop/Prove-It/packages/proveit/_core_/known_truth.py\u001b[0m in \u001b[0;36m<listcomp>\u001b[0;34m(.0)\u001b[0m\n\u001b[1;32m   1013\u001b[0m \u001b[0;34m\u001b[0m\u001b[0m\n\u001b[1;32m   1014\u001b[0m         checkedTruths = KnownTruths(\n\u001b[0;32m-> 1015\u001b[0;31m             [self._checkedTruth(truth) for truth in Skolemization._makeSkolemizations(\n\u001b[0m\u001b[1;32m   1016\u001b[0m                 \u001b[0mself\u001b[0m\u001b[0;34m,\u001b[0m\u001b[0;34m\u001b[0m\u001b[0;34m\u001b[0m\u001b[0m\n\u001b[1;32m   1017\u001b[0m                 \u001b[0mnumExistsEliminations\u001b[0m\u001b[0;34m=\u001b[0m\u001b[0mnumExistsEliminations\u001b[0m\u001b[0;34m,\u001b[0m\u001b[0;34m\u001b[0m\u001b[0;34m\u001b[0m\u001b[0m\n",
      "\u001b[0;32m~/Desktop/Prove-It/packages/proveit/_core_/proof.py\u001b[0m in \u001b[0;36m_makeSkolemizations\u001b[0;34m(generalTruth, numExistsEliminations, skolemizeMap, relabelMap, assumptions)\u001b[0m\n\u001b[1;32m    901\u001b[0m                     Skolemization._skolemized_expressions(\n\u001b[1;32m    902\u001b[0m                             \u001b[0mgeneralExpr\u001b[0m\u001b[0;34m,\u001b[0m \u001b[0mnumExistsEliminations\u001b[0m\u001b[0;34m,\u001b[0m\u001b[0;34m\u001b[0m\u001b[0;34m\u001b[0m\u001b[0m\n\u001b[0;32m--> 903\u001b[0;31m                             \u001b[0mskolemizeMap\u001b[0m\u001b[0;34m,\u001b[0m \u001b[0mrelabelMap\u001b[0m\u001b[0;34m,\u001b[0m \u001b[0massumptions\u001b[0m\u001b[0;34m\u001b[0m\u001b[0;34m\u001b[0m\u001b[0m\n\u001b[0m\u001b[1;32m    904\u001b[0m                         )\n\u001b[1;32m    905\u001b[0m                 ):\n",
      "\u001b[0;32m~/Desktop/Prove-It/packages/proveit/_core_/proof.py\u001b[0m in \u001b[0;36m_skolemized_expressions\u001b[0;34m(generalExpr, numExistsEliminations, skolemizeMap, relabelMap, assumptions)\u001b[0m\n\u001b[1;32m   1210\u001b[0m                         \u001b[0massumptions\u001b[0m\u001b[0;34m,\u001b[0m\u001b[0;34m\u001b[0m\u001b[0;34m\u001b[0m\u001b[0m\n\u001b[1;32m   1211\u001b[0m                         ('Must specialize all of the instance ' +\n\u001b[0;32m-> 1212\u001b[0;31m                          \u001b[0;34m'variables of the Exists operations to be '\u001b[0m \u001b[0;34m+\u001b[0m\u001b[0;34m\u001b[0m\u001b[0;34m\u001b[0m\u001b[0m\n\u001b[0m\u001b[1;32m   1213\u001b[0m                          'eliminated')\n\u001b[1;32m   1214\u001b[0m                 )\n",
      "\u001b[0;31mSkolemizationFailure\u001b[0m: Proof step failed assuming {exists_{x, y in S | Q(x) , R(y)} P(x , y)}: Must specialize all of the instance variables of the Exists operations to be eliminated"
     ]
    }
   ],
   "source": [
    "La = Literal('a')\n",
    "Lb = Literal('b')\n",
    "Qa = Function(Q, La)\n",
    "Rb = Function(R, Lb)\n",
    "Pab = Function(P, {La, Lb})\n",
    "Ry = Function(R, y)\n",
    "# basicThereExistsExpr02KTSkolemized = (\n",
    "#     basicThereExistsExpr02KT.skolemize(\n",
    "#         {x:La}, assumptions={InSet(La, S), Qa})\n",
    "# )\n",
    "basicThereExistsExpr02KTSkolemized = (\n",
    "    basicThereExistsExpr02KT.skolemize(\n",
    "        {y:La}, assumptions={})\n",
    ")\n",
    "# basicThereExistsExpr02KTSkolemized = (\n",
    "#     basicThereExistsExpr02KT.skolemize(\n",
    "#         {x:La, y:Lb}, assumptions={})\n",
    "# )\n",
    "# basicThereExistsExpr02KTSkolemized\n",
    "basicThereExistsExpr02KTSkolemized\n",
    "# D, E, F, G, H = basicThereExistsExpr02KTSkolemized"
   ]
  },
  {
   "cell_type": "code",
   "execution_count": null,
   "metadata": {},
   "outputs": [],
   "source": [
    "len(basicThereExistsExpr02KTSkolemized)"
   ]
  },
  {
   "cell_type": "code",
   "execution_count": null,
   "metadata": {},
   "outputs": [],
   "source": [
    "# D, E, F, G, H = basicThereExistsExpr02KTSkolemized"
   ]
  },
  {
   "cell_type": "code",
   "execution_count": null,
   "metadata": {},
   "outputs": [],
   "source": [
    "D, E, F = basicThereExistsExpr02KTSkolemized"
   ]
  },
  {
   "cell_type": "code",
   "execution_count": null,
   "metadata": {},
   "outputs": [],
   "source": [
    "D.proof()"
   ]
  },
  {
   "cell_type": "code",
   "execution_count": null,
   "metadata": {},
   "outputs": [],
   "source": [
    "E.proof()"
   ]
  },
  {
   "cell_type": "code",
   "execution_count": null,
   "metadata": {},
   "outputs": [],
   "source": [
    "F.proof()"
   ]
  },
  {
   "cell_type": "code",
   "execution_count": null,
   "metadata": {},
   "outputs": [],
   "source": [
    "# QLc = Function(Q, Lc)\n",
    "# RLd = Function(R, Ld)\n",
    "# PLcLd = Function(P, {Lc, Ld})\n",
    "# # the following should be problematic if it attempts to re-use the x:Lc skolemization mapping\n",
    "# # because the Lc Literal was previously used in a skolemization above:\n",
    "# # basicThereExistsExpr03Thm.skolemize({x:Lc, y:Ld}, assumptions={InSet(Lc, S), InSet(Ld, S), QLc, RLd, PLcLd})\n",
    "\n",
    "\n",
    "# from proveit import ProofFailure\n",
    "# try:\n",
    "#     basicThereExistsExpr03Thm.skolemize({x:Lc, y:Ld}, assumptions={InSet(Lc, S), InSet(Ld, S), QLc, RLd, PLcLd})\n",
    "#     assert False, \"Expecting a Skolemization error; should not make it to this point.\"\n",
    "# except ProofFailure as e:\n",
    "#     print(\"EXPECTED ERROR:\", e)"
   ]
  },
  {
   "cell_type": "code",
   "execution_count": null,
   "metadata": {},
   "outputs": [],
   "source": [
    "# Le = Literal('e')\n",
    "# QLe = Function(Q, Le)\n",
    "# RLd = Function(R, Ld)\n",
    "# PLeLd = Function(P, {Le, Ld})\n",
    "# # the following should NOT be problematic since we map x and y to previously unused Literals Le and Ld\n",
    "# # for the skolemization mapping:\n",
    "# basicThereExistsExpr01KTSkolemized = (\n",
    "#     basicThereExistsExpr01KT.skolemize(\n",
    "#         {x:Le, y:Ld},\n",
    "#         assumptions={InSet(Le, S), InSet(Ld, S), QLe, RLd, PLeLd}\n",
    "#     )\n",
    "# )\n",
    "# skolemizing just one of two possible instance vars\n",
    "# This is not quite working — somehow subbing into one of the conditions\n",
    "# but not explicitly then including that condition in the\n",
    "# subbedConditions list\n",
    "# basicThereExistsExpr03ThmSkolemized = (\n",
    "#     basicThereExistsExpr03Thm.skolemize(\n",
    "#         {y:Ld},\n",
    "#         assumptions={InSet(Ld, S), RLd}\n",
    "#     )\n",
    "# )"
   ]
  },
  {
   "cell_type": "markdown",
   "metadata": {},
   "source": [
    "Attempting to skolemize a Forall expression should fail and produce an error message, alerting the user to the fact that only an Exists expression can be skolemized:"
   ]
  },
  {
   "cell_type": "code",
   "execution_count": null,
   "metadata": {},
   "outputs": [],
   "source": [
    "from proveit import ProofFailure\n",
    "try:\n",
    "    substitution.skolemize({x:Lc}, assumptions={Qa})\n",
    "    assert False, \"Expecting a Skolemization error; should not make it to this point.\"\n",
    "except ProofFailure as e:\n",
    "    print(\"EXPECTED ERROR:\", e)"
   ]
  },
  {
   "cell_type": "markdown",
   "metadata": {},
   "source": [
    "But right now, we can still specialize a Forall $\\forall$ KnownTruth using a Literal that has been previously used as a Skolem constant:"
   ]
  },
  {
   "cell_type": "code",
   "execution_count": null,
   "metadata": {},
   "outputs": [],
   "source": [
    "substitutionSpec = substitution.specialize({x:Lc, y:Ld}, assumptions=[Equals(Lc, Ld)])"
   ]
  },
  {
   "cell_type": "markdown",
   "metadata": {},
   "source": [
    "## Working to understand more carefully what happens in the instantiation of a simple Forall expression using ``specialize()``, so we can better understand how to implement the skolemize."
   ]
  },
  {
   "cell_type": "code",
   "execution_count": null,
   "metadata": {},
   "outputs": [],
   "source": [
    "basicForAllExpr = Forall(x, Px)"
   ]
  },
  {
   "cell_type": "code",
   "execution_count": null,
   "metadata": {},
   "outputs": [],
   "source": [
    "basicForAllExpr"
   ]
  },
  {
   "cell_type": "code",
   "execution_count": null,
   "metadata": {},
   "outputs": [],
   "source": [
    "# from proveit._core_ import KnownTruth\n",
    "# tempKT = KnownTruth(basicForAllExpr, {basicForAllExpr})"
   ]
  },
  {
   "cell_type": "code",
   "execution_count": null,
   "metadata": {},
   "outputs": [],
   "source": [
    "# print(tempKT)"
   ]
  },
  {
   "cell_type": "code",
   "execution_count": null,
   "metadata": {},
   "outputs": [],
   "source": [
    "theOperand = basicForAllExpr.operand"
   ]
  },
  {
   "cell_type": "code",
   "execution_count": null,
   "metadata": {},
   "outputs": [],
   "source": [
    "theOperand.parameterVars"
   ]
  },
  {
   "cell_type": "code",
   "execution_count": null,
   "metadata": {},
   "outputs": [],
   "source": [
    "theOperand.body"
   ]
  },
  {
   "cell_type": "code",
   "execution_count": null,
   "metadata": {},
   "outputs": [],
   "source": [
    "theOperand.conditions"
   ]
  },
  {
   "cell_type": "code",
   "execution_count": null,
   "metadata": {},
   "outputs": [],
   "source": [
    "basicForAllExprThm = basicForAllExpr.prove(assumptions = {basicForAllExpr})"
   ]
  },
  {
   "cell_type": "code",
   "execution_count": null,
   "metadata": {},
   "outputs": [],
   "source": [
    "basicForAllExprThm.exprInfo()"
   ]
  },
  {
   "cell_type": "code",
   "execution_count": null,
   "metadata": {},
   "outputs": [],
   "source": [
    "basicForAllExprThm.specialize({x:Lc})"
   ]
  },
  {
   "cell_type": "code",
   "execution_count": null,
   "metadata": {},
   "outputs": [],
   "source": [
    "basicForAllExprThm.specialize({x:Lc}).proof()"
   ]
  },
  {
   "cell_type": "code",
   "execution_count": null,
   "metadata": {},
   "outputs": [],
   "source": [
    "basicForAllExpr02 = Forall(x, Px, conditions={Qx})"
   ]
  },
  {
   "cell_type": "code",
   "execution_count": null,
   "metadata": {},
   "outputs": [],
   "source": [
    "basicForAllExpr02Thm = basicForAllExpr02.prove(assumptions={basicForAllExpr02})"
   ]
  },
  {
   "cell_type": "code",
   "execution_count": null,
   "metadata": {},
   "outputs": [],
   "source": [
    "basicForAllExpr02Thm.specialize({x:Lc}, assumptions={QLc})"
   ]
  },
  {
   "cell_type": "code",
   "execution_count": null,
   "metadata": {},
   "outputs": [],
   "source": [
    "%end skolemization_explorations"
   ]
  },
  {
   "cell_type": "code",
   "execution_count": null,
   "metadata": {},
   "outputs": [],
   "source": []
  }
 ],
 "metadata": {
  "kernelspec": {
   "display_name": "Python 3",
   "language": "python",
   "name": "python3"
  },
  "language_info": {
   "codemirror_mode": {
    "name": "ipython",
    "version": 3
   },
   "file_extension": ".py",
   "mimetype": "text/x-python",
   "name": "python",
   "nbconvert_exporter": "python",
   "pygments_lexer": "ipython3",
   "version": "3.7.1"
  }
 },
 "nbformat": 4,
 "nbformat_minor": 1
}
