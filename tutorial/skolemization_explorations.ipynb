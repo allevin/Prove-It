{
 "cells": [
  {
   "cell_type": "markdown",
   "metadata": {},
   "source": [
    "Skolemization-Related Explorations\n",
    "==================\n",
    "\n",
    "This is a temporary notebook for exploring issues related to a skolemize() method for KnownTruth objects, in particular for known truths involving universal ($\\forall$) and existential ($\\exists$) quantifiers.\n",
    "\n",
    "The notebook was generated initially as a copy of the Forall tutorial notebook, and thus while under construction many of the cells and other elements of the original notebook remain.\n",
    "\n",
    "($\\forall$) Universal quantification is another core concept in **Prove-It**.  A `Forall` operation, formatted with the $\\forall$ symbol, is used to represent universal quantification.  For example, $\\forall_x P(x)$ means that $P(x)$ is true for any instance of $x$.  $P(x)$ holds true universally over instances of $x$.  Like `Implies`, `Forall` is a core concept but is defined outside of the core in the `proveit.logic` package. It is known in the core for use in the *specialization* and *generalization* derivation steps discussed below.\n",
    "\n",
    "First, let us import some necessary information then consider an example of a `Forall` object like $\\forall_{x \\,\\in\\, S \\,|\\, Q(x), R(x)} P(x)$:"
   ]
  },
  {
   "cell_type": "code",
   "execution_count": 1,
   "metadata": {},
   "outputs": [],
   "source": [
    "from proveit import Function, ExprList, Lambda, Literal\n",
    "from proveit.logic import Forall, Exists, InSet, Equals\n",
    "from proveit.number import Less, Add, Frac\n",
    "from proveit._common_ import a, b, x, y, z, P, Px, Pxy, Q, Qx, R, Rx, Ry, S, T\n",
    "%begin skolemization_explorations"
   ]
  },
  {
   "cell_type": "code",
   "execution_count": 2,
   "metadata": {},
   "outputs": [
    {
     "data": {
      "text/html": [
       "<strong id=\"basicForallExpr\">basicForallExpr:</strong> <a class=\"ProveItLink\" href=\"__pv_it/768e0ea8953379b26e536b52c663304c5502b1240/expr.ipynb\"><img src=\"__pv_it/768e0ea8953379b26e536b52c663304c5502b1240/expr.png\" style=\"display:inline;vertical-align:middle;\" /></a><br>"
      ],
      "text/plain": [
       "basicForallExpr: forall_{x in S | Q(x) , R(x)} P(x)"
      ]
     },
     "execution_count": 2,
     "metadata": {},
     "output_type": "execute_result"
    }
   ],
   "source": [
    "basicForallExpr = Forall(x, Px, conditions=[Qx, Rx], domain=S)"
   ]
  },
  {
   "cell_type": "code",
   "execution_count": 3,
   "metadata": {},
   "outputs": [
    {
     "data": {
      "text/html": [
       "<span style=\"font-size:20px;\"><a class=\"ProveItLink\" href=\"__pv_it/98e61b07a642cdd0c15c83bca010309363977c1b0/expr.ipynb\"><img src=\"__pv_it/98e61b07a642cdd0c15c83bca010309363977c1b0/expr.png\" style=\"display:inline;vertical-align:middle;\" /></a> &#x22A2;&nbsp;<a class=\"ProveItLink\" href=\"__pv_it/58941bbcf185460a0949cb757b00efbf2b54044b0/expr.ipynb\"><img src=\"__pv_it/58941bbcf185460a0949cb757b00efbf2b54044b0/expr.png\" style=\"display:inline;vertical-align:middle;\" /></a></span>"
      ],
      "text/plain": [
       "{forall_{x in S | Q(x) , R(x)} P(x) , a in S , Q(a) , R(a)} |- P(a)"
      ]
     },
     "execution_count": 3,
     "metadata": {},
     "output_type": "execute_result"
    }
   ],
   "source": [
    "Qa = Function(Q, a)\n",
    "Ra = Function(R, a)\n",
    "Lc = Literal('c')\n",
    "basicForallExpr.specialize({x:a}, assumptions=(basicForallExpr, InSet(a, S), Qa, Ra))"
   ]
  },
  {
   "cell_type": "code",
   "execution_count": 4,
   "metadata": {},
   "outputs": [
    {
     "data": {
      "text/html": [
       "<strong id=\"basicForallExprSpec\">basicForallExprSpec:</strong> <span style=\"font-size:20px;\"><a class=\"ProveItLink\" href=\"__pv_it/e17d081b776588796c5e0a5868faf81a15d1b88c0/expr.ipynb\"><img src=\"__pv_it/e17d081b776588796c5e0a5868faf81a15d1b88c0/expr.png\" style=\"display:inline;vertical-align:middle;\" /></a> &#x22A2;&nbsp;<a class=\"ProveItLink\" href=\"__pv_it/76cd2d4b729791c81c2e53a61349c21933710fd60/expr.ipynb\"><img src=\"__pv_it/76cd2d4b729791c81c2e53a61349c21933710fd60/expr.png\" style=\"display:inline;vertical-align:middle;\" /></a></span><br>"
      ],
      "text/plain": [
       "basicForallExprSpec: {forall_{x in S | Q(x) , R(x)} P(x) , c in S , Q(c) , R(c)} |- P(c)"
      ]
     },
     "execution_count": 4,
     "metadata": {},
     "output_type": "execute_result"
    }
   ],
   "source": [
    "Qa = Function(Q, a)\n",
    "Ra = Function(R, a)\n",
    "Rb = Function(R, b)\n",
    "Lc = Literal('c')\n",
    "QLc = Function(Q, Lc)\n",
    "RLc = Function(R, Lc)\n",
    "basicForallExprSpec = basicForallExpr.specialize({x:Lc}, assumptions=(basicForallExpr, InSet(Lc, S), QLc, RLc))"
   ]
  },
  {
   "cell_type": "code",
   "execution_count": 5,
   "metadata": {},
   "outputs": [],
   "source": [
    "def testFxn():\n",
    "    import pdb\n",
    "    pdb.set_trace()\n",
    "    return basicForallExpr.usedVars()"
   ]
  },
  {
   "cell_type": "code",
   "execution_count": 6,
   "metadata": {},
   "outputs": [
    {
     "data": {
      "text/plain": [
       "{P}"
      ]
     },
     "execution_count": 6,
     "metadata": {},
     "output_type": "execute_result"
    }
   ],
   "source": [
    "basicForallExprSpec.usedVars()"
   ]
  },
  {
   "cell_type": "code",
   "execution_count": 7,
   "metadata": {},
   "outputs": [
    {
     "data": {
      "text/plain": [
       "{c}"
      ]
     },
     "execution_count": 7,
     "metadata": {},
     "output_type": "execute_result"
    }
   ],
   "source": [
    "basicForallExprSpec.usedLiterals()"
   ]
  },
  {
   "cell_type": "code",
   "execution_count": 8,
   "metadata": {},
   "outputs": [
    {
     "data": {
      "text/plain": [
       "[P, c]"
      ]
     },
     "execution_count": 8,
     "metadata": {},
     "output_type": "execute_result"
    }
   ],
   "source": [
    "(list(basicForallExprSpec.subExprIter()))"
   ]
  },
  {
   "cell_type": "code",
   "execution_count": 114,
   "metadata": {},
   "outputs": [
    {
     "data": {
      "text/plain": [
       "[]"
      ]
     },
     "execution_count": 114,
     "metadata": {},
     "output_type": "execute_result"
    }
   ],
   "source": [
    "list(((list(basicForallExprSpec.subExprIter()))[1]).subExprIter())"
   ]
  },
  {
   "cell_type": "code",
   "execution_count": 10,
   "metadata": {},
   "outputs": [
    {
     "data": {
      "text/html": [
       "<strong id=\"basicThereExistsExpr\">basicThereExistsExpr:</strong> <a class=\"ProveItLink\" href=\"__pv_it/11291b09019345a9e54a72fa3716278b269968a20/expr.ipynb\"><img src=\"__pv_it/11291b09019345a9e54a72fa3716278b269968a20/expr.png\" style=\"display:inline;vertical-align:middle;\" /></a><br>"
      ],
      "text/plain": [
       "basicThereExistsExpr: exists_{x in S | Q(x)} P(x)"
      ]
     },
     "execution_count": 10,
     "metadata": {},
     "output_type": "execute_result"
    }
   ],
   "source": [
    "basicThereExistsExpr = Exists(x, Px, conditions=[Qx], domain=S)"
   ]
  },
  {
   "cell_type": "code",
   "execution_count": 11,
   "metadata": {},
   "outputs": [
    {
     "data": {
      "text/html": [
       "<a class=\"ProveItLink\" href=\"__pv_it/11291b09019345a9e54a72fa3716278b269968a20/expr.ipynb\"><img src=\"__pv_it/11291b09019345a9e54a72fa3716278b269968a20/expr.png\" style=\"display:inline;vertical-align:middle;\" /></a>"
      ],
      "text/plain": [
       "exists_{x in S | Q(x)} P(x)"
      ]
     },
     "execution_count": 11,
     "metadata": {},
     "output_type": "execute_result"
    }
   ],
   "source": [
    "basicThereExistsExpr"
   ]
  },
  {
   "cell_type": "code",
   "execution_count": 12,
   "metadata": {},
   "outputs": [
    {
     "data": {
      "text/html": [
       "<a class=\"ProveItLink\" href=\"__pv_it/ad8e81a77c5e3ae82aebf8b602dbc38090ac0a370/expr.ipynb\"><img src=\"__pv_it/ad8e81a77c5e3ae82aebf8b602dbc38090ac0a370/expr.png\" style=\"display:inline;vertical-align:middle;\" /></a>"
      ],
      "text/plain": [
       "forall_{x | Q(x)} [exists_{b, a | R(b) , R(a)} (x = (a / b))]"
      ]
     },
     "execution_count": 12,
     "metadata": {},
     "output_type": "execute_result"
    }
   ],
   "source": [
    "forallThereExistsExpr = Forall(\n",
    "    x,\n",
    "    Exists(\n",
    "        {a, b},\n",
    "        Equals(x, Frac(a, b)),\n",
    "        conditions={Ra, Rb}\n",
    "    ),\n",
    "    conditions={Qx}\n",
    ")\n",
    "forallThereExistsExpr"
   ]
  },
  {
   "cell_type": "code",
   "execution_count": 13,
   "metadata": {},
   "outputs": [
    {
     "data": {
      "text/plain": [
       "{'__name__': '__main__',\n",
       " '__doc__': 'Automatically created module for IPython interactive environment',\n",
       " '__package__': None,\n",
       " '__loader__': None,\n",
       " '__spec__': None,\n",
       " '__builtin__': <module 'builtins' (built-in)>,\n",
       " '__builtins__': <module 'builtins' (built-in)>,\n",
       " '_ih': ['',\n",
       "  \"from proveit import Function, ExprList, Lambda, Literal\\nfrom proveit.logic import Forall, Exists, InSet, Equals\\nfrom proveit.number import Less, Add, Frac\\nfrom proveit._common_ import a, b, x, y, z, P, Px, Pxy, Q, Qx, R, Rx, Ry, S, T\\nget_ipython().run_line_magic('begin', 'skolemization_explorations')\",\n",
       "  \"basicForallExpr = Forall(x, Px, conditions=[Qx, Rx], domain=S)\\nproveit.magics.Assignments(['basicForallExpr'], [basicForallExpr])\",\n",
       "  \"Qa = Function(Q, a)\\nRa = Function(R, a)\\nLc = Literal('c')\\nbasicForallExpr.specialize({x:a}, assumptions=(basicForallExpr, InSet(a, S), Qa, Ra))\",\n",
       "  \"Qa = Function(Q, a)\\nRa = Function(R, a)\\nRb = Function(R, b)\\nLc = Literal('c')\\nQLc = Function(Q, Lc)\\nRLc = Function(R, Lc)\\nbasicForallExprSpec = basicForallExpr.specialize({x:Lc}, assumptions=(basicForallExpr, InSet(Lc, S), QLc, RLc))\\nproveit.magics.Assignments(['basicForallExprSpec'], [basicForallExprSpec])\",\n",
       "  'def testFxn():\\n    import pdb\\n    pdb.set_trace()\\n    return basicForallExpr.usedVars()',\n",
       "  'basicForallExprSpec.usedVars()',\n",
       "  'basicForallExprSpec.usedLiterals()',\n",
       "  '(list(basicForallExprSpec.subExprIter()))',\n",
       "  'list(((list(basicForallExprSpec.subExprIter()))[0]).subExprIter())',\n",
       "  \"basicThereExistsExpr = Exists(x, Px, conditions=[Qx], domain=S)\\nproveit.magics.Assignments(['basicThereExistsExpr'], [basicThereExistsExpr])\",\n",
       "  'basicThereExistsExpr',\n",
       "  'forallThereExistsExpr = Forall(\\n    x,\\n    Exists(\\n        {a, b},\\n        Equals(x, Frac(a, b)),\\n        conditions={Ra, Rb}\\n    ),\\n    conditions={Qx}\\n)\\nforallThereExistsExpr',\n",
       "  'locals()'],\n",
       " '_oh': {2: basicForallExpr: forall_{x in S | Q(x) , R(x)} P(x),\n",
       "  3: {forall_{x in S | Q(x) , R(x)} P(x) , a in S , Q(a) , R(a)} |- P(a),\n",
       "  4: basicForallExprSpec: {forall_{x in S | Q(x) , R(x)} P(x) , c in S , Q(c) , R(c)} |- P(c),\n",
       "  6: {P},\n",
       "  7: {c},\n",
       "  8: [P, c],\n",
       "  9: [],\n",
       "  10: basicThereExistsExpr: exists_{x in S | Q(x)} P(x),\n",
       "  11: exists_{x in S | Q(x)} P(x),\n",
       "  12: forall_{x | Q(x)} [exists_{b, a | R(b) , R(a)} (x = (a / b))]},\n",
       " '_dh': ['/Users/warrencraft/Desktop/Prove-It/tutorial'],\n",
       " 'In': ['',\n",
       "  \"from proveit import Function, ExprList, Lambda, Literal\\nfrom proveit.logic import Forall, Exists, InSet, Equals\\nfrom proveit.number import Less, Add, Frac\\nfrom proveit._common_ import a, b, x, y, z, P, Px, Pxy, Q, Qx, R, Rx, Ry, S, T\\nget_ipython().run_line_magic('begin', 'skolemization_explorations')\",\n",
       "  \"basicForallExpr = Forall(x, Px, conditions=[Qx, Rx], domain=S)\\nproveit.magics.Assignments(['basicForallExpr'], [basicForallExpr])\",\n",
       "  \"Qa = Function(Q, a)\\nRa = Function(R, a)\\nLc = Literal('c')\\nbasicForallExpr.specialize({x:a}, assumptions=(basicForallExpr, InSet(a, S), Qa, Ra))\",\n",
       "  \"Qa = Function(Q, a)\\nRa = Function(R, a)\\nRb = Function(R, b)\\nLc = Literal('c')\\nQLc = Function(Q, Lc)\\nRLc = Function(R, Lc)\\nbasicForallExprSpec = basicForallExpr.specialize({x:Lc}, assumptions=(basicForallExpr, InSet(Lc, S), QLc, RLc))\\nproveit.magics.Assignments(['basicForallExprSpec'], [basicForallExprSpec])\",\n",
       "  'def testFxn():\\n    import pdb\\n    pdb.set_trace()\\n    return basicForallExpr.usedVars()',\n",
       "  'basicForallExprSpec.usedVars()',\n",
       "  'basicForallExprSpec.usedLiterals()',\n",
       "  '(list(basicForallExprSpec.subExprIter()))',\n",
       "  'list(((list(basicForallExprSpec.subExprIter()))[0]).subExprIter())',\n",
       "  \"basicThereExistsExpr = Exists(x, Px, conditions=[Qx], domain=S)\\nproveit.magics.Assignments(['basicThereExistsExpr'], [basicThereExistsExpr])\",\n",
       "  'basicThereExistsExpr',\n",
       "  'forallThereExistsExpr = Forall(\\n    x,\\n    Exists(\\n        {a, b},\\n        Equals(x, Frac(a, b)),\\n        conditions={Ra, Rb}\\n    ),\\n    conditions={Qx}\\n)\\nforallThereExistsExpr',\n",
       "  'locals()'],\n",
       " 'Out': {2: basicForallExpr: forall_{x in S | Q(x) , R(x)} P(x),\n",
       "  3: {forall_{x in S | Q(x) , R(x)} P(x) , a in S , Q(a) , R(a)} |- P(a),\n",
       "  4: basicForallExprSpec: {forall_{x in S | Q(x) , R(x)} P(x) , c in S , Q(c) , R(c)} |- P(c),\n",
       "  6: {P},\n",
       "  7: {c},\n",
       "  8: [P, c],\n",
       "  9: [],\n",
       "  10: basicThereExistsExpr: exists_{x in S | Q(x)} P(x),\n",
       "  11: exists_{x in S | Q(x)} P(x),\n",
       "  12: forall_{x | Q(x)} [exists_{b, a | R(b) , R(a)} (x = (a / b))]},\n",
       " 'get_ipython': <bound method InteractiveShell.get_ipython of <ipykernel.zmqshell.ZMQInteractiveShell object at 0x1044487b8>>,\n",
       " 'exit': <IPython.core.autocall.ZMQExitAutocall at 0x1044a19e8>,\n",
       " 'quit': <IPython.core.autocall.ZMQExitAutocall at 0x1044a19e8>,\n",
       " '_': forall_{x | Q(x)} [exists_{b, a | R(b) , R(a)} (x = (a / b))],\n",
       " '__': exists_{x in S | Q(x)} P(x),\n",
       " '___': basicThereExistsExpr: exists_{x in S | Q(x)} P(x),\n",
       " '_i': 'forallThereExistsExpr = Forall(\\n    x,\\n    Exists(\\n        {a, b},\\n        Equals(x, Frac(a, b)),\\n        conditions={Ra, Rb}\\n    ),\\n    conditions={Qx}\\n)\\nforallThereExistsExpr',\n",
       " '_ii': 'basicThereExistsExpr',\n",
       " '_iii': \"basicThereExistsExpr = Exists(x, Px, conditions=[Qx], domain=S)\\nproveit.magics.Assignments(['basicThereExistsExpr'], [basicThereExistsExpr])\",\n",
       " '_i1': 'from proveit import Function, ExprList, Lambda, Literal\\nfrom proveit.logic import Forall, Exists, InSet, Equals\\nfrom proveit.number import Less, Add, Frac\\nfrom proveit._common_ import a, b, x, y, z, P, Px, Pxy, Q, Qx, R, Rx, Ry, S, T\\n%begin skolemization_explorations',\n",
       " 'proveit': <module 'proveit' from '/Users/warrencraft/Desktop/Prove-It/packages/proveit/__init__.py'>,\n",
       " 'Function': proveit._core_.expression.operation.function.Function,\n",
       " 'ExprList': proveit._core_.expression.composite.expr_list.ExprList,\n",
       " 'Lambda': proveit._core_.expression.lambda_expr.lambda_expr.Lambda,\n",
       " 'Literal': proveit._core_.expression.label.literal.Literal,\n",
       " 'Forall': proveit.logic.boolean.quantification.universal.forall.Forall,\n",
       " 'Exists': proveit.logic.boolean.quantification.existential.exists.Exists,\n",
       " 'InSet': proveit.logic.set_theory.membership.in_set.InSet,\n",
       " 'Equals': proveit.logic.equality.equals.Equals,\n",
       " 'Less': proveit.number.ordering.less_than.Less,\n",
       " 'Add': proveit.number.addition.add.Add,\n",
       " 'Frac': <function proveit.number.division.divide.Frac(numer, denom)>,\n",
       " 'a': a,\n",
       " 'b': b,\n",
       " 'x': x,\n",
       " 'y': y,\n",
       " 'z': z,\n",
       " 'P': P,\n",
       " 'Px': P(x),\n",
       " 'Pxy': P(x , y),\n",
       " 'Q': Q,\n",
       " 'Qx': Q(x),\n",
       " 'R': R,\n",
       " 'Rx': R(x),\n",
       " 'Ry': R(y),\n",
       " 'S': S,\n",
       " 'T': T,\n",
       " '_i2': \"basicForallExpr = Forall(x, Px, conditions=[Qx, Rx], domain=S)\\nproveit.magics.Assignments(['basicForallExpr'], [basicForallExpr])\",\n",
       " 'basicForallExpr': forall_{x in S | Q(x) , R(x)} P(x),\n",
       " '_2': basicForallExpr: forall_{x in S | Q(x) , R(x)} P(x),\n",
       " '_i3': \"Qa = Function(Q, a)\\nRa = Function(R, a)\\nLc = Literal('c')\\nbasicForallExpr.specialize({x:a}, assumptions=(basicForallExpr, InSet(a, S), Qa, Ra))\",\n",
       " 'Qa': Q(a),\n",
       " 'Ra': R(a),\n",
       " 'Lc': c,\n",
       " '_3': {forall_{x in S | Q(x) , R(x)} P(x) , a in S , Q(a) , R(a)} |- P(a),\n",
       " '_i4': \"Qa = Function(Q, a)\\nRa = Function(R, a)\\nRb = Function(R, b)\\nLc = Literal('c')\\nQLc = Function(Q, Lc)\\nRLc = Function(R, Lc)\\nbasicForallExprSpec = basicForallExpr.specialize({x:Lc}, assumptions=(basicForallExpr, InSet(Lc, S), QLc, RLc))\\nproveit.magics.Assignments(['basicForallExprSpec'], [basicForallExprSpec])\",\n",
       " 'Rb': R(b),\n",
       " 'QLc': Q(c),\n",
       " 'RLc': R(c),\n",
       " 'basicForallExprSpec': {forall_{x in S | Q(x) , R(x)} P(x) , c in S , Q(c) , R(c)} |- P(c),\n",
       " '_4': basicForallExprSpec: {forall_{x in S | Q(x) , R(x)} P(x) , c in S , Q(c) , R(c)} |- P(c),\n",
       " '_i5': 'def testFxn():\\n    import pdb\\n    pdb.set_trace()\\n    return basicForallExpr.usedVars()',\n",
       " 'testFxn': <function __main__.testFxn()>,\n",
       " '_i6': 'basicForallExprSpec.usedVars()',\n",
       " '_6': {P},\n",
       " '_i7': 'basicForallExprSpec.usedLiterals()',\n",
       " '_7': {c},\n",
       " '_i8': '(list(basicForallExprSpec.subExprIter()))',\n",
       " '_8': [P, c],\n",
       " '_i9': 'list(((list(basicForallExprSpec.subExprIter()))[0]).subExprIter())',\n",
       " '_9': [],\n",
       " '_i10': \"basicThereExistsExpr = Exists(x, Px, conditions=[Qx], domain=S)\\nproveit.magics.Assignments(['basicThereExistsExpr'], [basicThereExistsExpr])\",\n",
       " 'basicThereExistsExpr': exists_{x in S | Q(x)} P(x),\n",
       " '_10': basicThereExistsExpr: exists_{x in S | Q(x)} P(x),\n",
       " '_i11': 'basicThereExistsExpr',\n",
       " '_11': exists_{x in S | Q(x)} P(x),\n",
       " '_i12': 'forallThereExistsExpr = Forall(\\n    x,\\n    Exists(\\n        {a, b},\\n        Equals(x, Frac(a, b)),\\n        conditions={Ra, Rb}\\n    ),\\n    conditions={Qx}\\n)\\nforallThereExistsExpr',\n",
       " 'forallThereExistsExpr': forall_{x | Q(x)} [exists_{b, a | R(b) , R(a)} (x = (a / b))],\n",
       " '_12': forall_{x | Q(x)} [exists_{b, a | R(b) , R(a)} (x = (a / b))],\n",
       " '_i13': 'locals()'}"
      ]
     },
     "execution_count": 13,
     "metadata": {},
     "output_type": "execute_result"
    }
   ],
   "source": [
    "locals()"
   ]
  },
  {
   "cell_type": "code",
   "execution_count": 14,
   "metadata": {},
   "outputs": [
    {
     "data": {
      "text/html": [
       "<strong id=\"basicThereExistsExprAxiom\">basicThereExistsExprAxiom:</strong> <table><tr><th>&nbsp;</th><th>step type</th><th>requirements</th><th>statement</th></tr>\n",
       "<tr><td>0</td><td>axiom</td><td></td><td><span style=\"font-size:20px;\"> &#x22A2;&nbsp;<a class=\"ProveItLink\" href=\"__pv_it/11291b09019345a9e54a72fa3716278b269968a20/expr.ipynb\"><img src=\"__pv_it/11291b09019345a9e54a72fa3716278b269968a20/expr.png\" style=\"display:inline;vertical-align:middle;\" /></a></span></td></tr>\n",
       "<tr><td>&nbsp;</td><td colspan=4 style-\"text-align:left\"><a class=\"ProveItLink\" href=\"_axioms_.ipynb#basicThereExistsExprAxiom\">tutorial.basicThereExistsExprAxiom</a></td></tr></table><br>"
      ],
      "text/plain": [
       "basicThereExistsExprAxiom: \tstep type\trequirements\tstatement\n",
       "0\taxiom\t\t|- exists_{x in S | Q(x)} P(x)\n",
       "\ttutorial.basicThereExistsExprAxiom"
      ]
     },
     "execution_count": 14,
     "metadata": {},
     "output_type": "execute_result"
    }
   ],
   "source": [
    "from proveit import Axiom, Context\n",
    "basicThereExistsExprAxiom = Axiom(basicThereExistsExpr, Context(), 'basicThereExistsExprAxiom')"
   ]
  },
  {
   "cell_type": "code",
   "execution_count": 15,
   "metadata": {},
   "outputs": [],
   "source": [
    "# dir()"
   ]
  },
  {
   "cell_type": "code",
   "execution_count": 16,
   "metadata": {},
   "outputs": [],
   "source": [
    "# globals()"
   ]
  },
  {
   "cell_type": "code",
   "execution_count": 17,
   "metadata": {},
   "outputs": [],
   "source": [
    "# forallThereExistsExpr.specialize({x:x}, assumptions={forallThereExistsExpr, Qx})"
   ]
  },
  {
   "cell_type": "markdown",
   "metadata": {},
   "source": [
    "We can use the `exprInfo()` method to examine the internal structure of the expression:"
   ]
  },
  {
   "cell_type": "code",
   "execution_count": 18,
   "metadata": {},
   "outputs": [
    {
     "data": {
      "text/html": [
       "<table><tr><th>&nbsp;</th><th>core type</th><th>sub-expressions</th><th>expression</th></tr>\n",
       "<tr><td>0</td><td>Operation</td><td>operator:&nbsp;1<br>operand:&nbsp;2<br></td><td><a class=\"ProveItLink\" href=\"__pv_it/768e0ea8953379b26e536b52c663304c5502b1240/expr.ipynb\"><img src=\"__pv_it/768e0ea8953379b26e536b52c663304c5502b1240/expr.png\" style=\"display:inline;vertical-align:middle;\" /></a></td></tr>\n",
       "<tr><td>1</td><td>Literal</td><td></td><td><a class=\"ProveItLink\" href=\"../packages/proveit/logic/boolean/quantification/universal/__pv_it/265f8c02ac1094d56e0e6410a1c1fd3500dc9f540/expr.ipynb\"><img src=\"../packages/proveit/logic/boolean/quantification/universal/__pv_it/265f8c02ac1094d56e0e6410a1c1fd3500dc9f540/expr.png\" style=\"display:inline;vertical-align:middle;\" /></a></td></tr>\n",
       "<tr><td>2</td><td>Lambda</td><td>parameter:&nbsp;13<br>body:&nbsp;3<br>conditions:&nbsp;4<br></td><td><a class=\"ProveItLink\" href=\"__pv_it/c783c3d0ddceffe458a468f833f77851b5e5488e0/expr.ipynb\"><img src=\"__pv_it/c783c3d0ddceffe458a468f833f77851b5e5488e0/expr.png\" style=\"display:inline;vertical-align:middle;\" /></a></td></tr>\n",
       "<tr><td>3</td><td>Operation</td><td>operator:&nbsp;5<br>operand:&nbsp;13<br></td><td><a class=\"ProveItLink\" href=\"../packages/proveit/__pv_it/8c735c381b4cbf3c87e86ca2468da4e5c976f9b00/expr.ipynb\"><img src=\"../packages/proveit/__pv_it/8c735c381b4cbf3c87e86ca2468da4e5c976f9b00/expr.png\" style=\"display:inline;vertical-align:middle;\" /></a></td></tr>\n",
       "<tr><td>4</td><td>ExprList</td><td>6, 7, 8</td><td><a class=\"ProveItLink\" href=\"__pv_it/25b4fb40e880d04b05e4f76c95553f0c0b3b76b20/expr.ipynb\"><img src=\"__pv_it/25b4fb40e880d04b05e4f76c95553f0c0b3b76b20/expr.png\" style=\"display:inline;vertical-align:middle;\" /></a></td></tr>\n",
       "<tr><td>5</td><td>Variable</td><td></td><td><a class=\"ProveItLink\" href=\"../packages/proveit/__pv_it/6369c6c8083c513ca7161ace249642d040f9327d0/expr.ipynb\"><img src=\"../packages/proveit/__pv_it/6369c6c8083c513ca7161ace249642d040f9327d0/expr.png\" style=\"display:inline;vertical-align:middle;\" /></a></td></tr>\n",
       "<tr><td>6</td><td>Operation</td><td>operator:&nbsp;9<br>operands:&nbsp;10<br></td><td><a class=\"ProveItLink\" href=\"__pv_it/e2a5d0d2b35dbe8e279c49a9a93d84141b6063d40/expr.ipynb\"><img src=\"__pv_it/e2a5d0d2b35dbe8e279c49a9a93d84141b6063d40/expr.png\" style=\"display:inline;vertical-align:middle;\" /></a></td></tr>\n",
       "<tr><td>7</td><td>Operation</td><td>operator:&nbsp;11<br>operand:&nbsp;13<br></td><td><a class=\"ProveItLink\" href=\"../packages/proveit/__pv_it/050bcffbb388a0b365dac8afc3d37833b4bb47300/expr.ipynb\"><img src=\"../packages/proveit/__pv_it/050bcffbb388a0b365dac8afc3d37833b4bb47300/expr.png\" style=\"display:inline;vertical-align:middle;\" /></a></td></tr>\n",
       "<tr><td>8</td><td>Operation</td><td>operator:&nbsp;12<br>operand:&nbsp;13<br></td><td><a class=\"ProveItLink\" href=\"../packages/proveit/__pv_it/d01cfc83d8b4aad8e81bd51bd1f9adb62576a1e70/expr.ipynb\"><img src=\"../packages/proveit/__pv_it/d01cfc83d8b4aad8e81bd51bd1f9adb62576a1e70/expr.png\" style=\"display:inline;vertical-align:middle;\" /></a></td></tr>\n",
       "<tr><td>9</td><td>Literal</td><td></td><td><a class=\"ProveItLink\" href=\"../packages/proveit/logic/set_theory/membership/__pv_it/088cbc857536a28d4119ad9639a84270ccb0545d0/expr.ipynb\"><img src=\"../packages/proveit/logic/set_theory/membership/__pv_it/088cbc857536a28d4119ad9639a84270ccb0545d0/expr.png\" style=\"display:inline;vertical-align:middle;\" /></a></td></tr>\n",
       "<tr><td>10</td><td>ExprList</td><td>13, 14</td><td><a class=\"ProveItLink\" href=\"__pv_it/36fdea86647c815a13bd2d80d0c25d06692bc3ac0/expr.ipynb\"><img src=\"__pv_it/36fdea86647c815a13bd2d80d0c25d06692bc3ac0/expr.png\" style=\"display:inline;vertical-align:middle;\" /></a></td></tr>\n",
       "<tr><td>11</td><td>Variable</td><td></td><td><a class=\"ProveItLink\" href=\"../packages/proveit/__pv_it/98124f92e6e1fc3772af50ac63eaa1f5624776f20/expr.ipynb\"><img src=\"../packages/proveit/__pv_it/98124f92e6e1fc3772af50ac63eaa1f5624776f20/expr.png\" style=\"display:inline;vertical-align:middle;\" /></a></td></tr>\n",
       "<tr><td>12</td><td>Variable</td><td></td><td><a class=\"ProveItLink\" href=\"../packages/proveit/__pv_it/e24df48bc297bbcf3538a62f5b4f635a392abfce0/expr.ipynb\"><img src=\"../packages/proveit/__pv_it/e24df48bc297bbcf3538a62f5b4f635a392abfce0/expr.png\" style=\"display:inline;vertical-align:middle;\" /></a></td></tr>\n",
       "<tr><td>13</td><td>Variable</td><td></td><td><a class=\"ProveItLink\" href=\"../packages/proveit/__pv_it/530be409e3083890784cf1d7b28c9e67e90af9360/expr.ipynb\"><img src=\"../packages/proveit/__pv_it/530be409e3083890784cf1d7b28c9e67e90af9360/expr.png\" style=\"display:inline;vertical-align:middle;\" /></a></td></tr>\n",
       "<tr><td>14</td><td>Variable</td><td></td><td><a class=\"ProveItLink\" href=\"../packages/proveit/__pv_it/abeee18594afe51bfb1be95d9591fbba24ac53f30/expr.ipynb\"><img src=\"../packages/proveit/__pv_it/abeee18594afe51bfb1be95d9591fbba24ac53f30/expr.png\" style=\"display:inline;vertical-align:middle;\" /></a></td></tr>\n",
       "</table>\n"
      ],
      "text/plain": [
       "0. forall_{x in S | Q(x) , R(x)} P(x)\n",
       "   core type: Operation\n",
       "   operator: 1\n",
       "   operand: 2\n",
       "1. forall\n",
       "   core type: Literal\n",
       "   sub-expressions: \n",
       "2. x -> P(x) | x in S , Q(x) , R(x)\n",
       "   core type: Lambda\n",
       "   parameter: 13\n",
       "   body: 3\n",
       "   conditions: 4\\n3. P(x)\n",
       "   core type: Operation\n",
       "   operator: 5\n",
       "   operand: 13\n",
       "4. (x in S , Q(x) , R(x))\n",
       "   core type: ExprList\n",
       "   sub-expressions: 6, 7, 8\n",
       "5. P\n",
       "   core type: Variable\n",
       "   sub-expressions: \n",
       "6. x in S\n",
       "   core type: Operation\n",
       "   operator: 9\n",
       "   operands: 10\n",
       "7. Q(x)\n",
       "   core type: Operation\n",
       "   operator: 11\n",
       "   operand: 13\n",
       "8. R(x)\n",
       "   core type: Operation\n",
       "   operator: 12\n",
       "   operand: 13\n",
       "9. in\n",
       "   core type: Literal\n",
       "   sub-expressions: \n",
       "10. (x , S)\n",
       "    core type: ExprList\n",
       "    sub-expressions: 13, 14\n",
       "11. Q\n",
       "    core type: Variable\n",
       "    sub-expressions: \n",
       "12. R\n",
       "    core type: Variable\n",
       "    sub-expressions: \n",
       "13. x\n",
       "    core type: Variable\n",
       "    sub-expressions: \n",
       "14. S\n",
       "    core type: Variable\n",
       "    sub-expressions: "
      ]
     },
     "execution_count": 18,
     "metadata": {},
     "output_type": "execute_result"
    }
   ],
   "source": [
    "basicForallExpr.exprInfo()"
   ]
  },
  {
   "cell_type": "markdown",
   "metadata": {},
   "source": [
    "`Forall` derives from `OperationOverInstances` (`proveit._core_.expression.operation.operation_over_instances.OperationOverInstances` aliased as `proveit.OperationOverInstances`) which generally defines an operation that acts on a **lambda** map with optional conditions.  The idea is like a \"functional\" (a function of a function).  It operates over the range of instances for the **lambda** parameters for which the condition is satisfied.  Other examples of **expression** types that derive from `OperationOverInstances` are $\\exists$, $\\sum$, and $\\prod$.  \n",
    "\n",
    "In our example above, we see that the domain $S$ is internally represented via the first condition of the conditional **lambda** (see Line 2 of the `exprInfo()` output).  In the external representation, it is displayed more compactly along with the introduction of $x$ before the vertical line that precedes the other conditions.  This is a matter of presentation style that is independent of how **Prove-It** treats this expression.  As far as **Prove-It** is concerned, $x \\in S$ is simply a condition no different from $Q(x)$ and $R(x)$.\n",
    "\n",
    "We can view a formatted version of the original object like this:"
   ]
  },
  {
   "cell_type": "code",
   "execution_count": 19,
   "metadata": {},
   "outputs": [
    {
     "data": {
      "text/html": [
       "<a class=\"ProveItLink\" href=\"__pv_it/768e0ea8953379b26e536b52c663304c5502b1240/expr.ipynb\"><img src=\"__pv_it/768e0ea8953379b26e536b52c663304c5502b1240/expr.png\" style=\"display:inline;vertical-align:middle;\" /></a>"
      ],
      "text/plain": [
       "forall_{x in S | Q(x) , R(x)} P(x)"
      ]
     },
     "execution_count": 19,
     "metadata": {},
     "output_type": "execute_result"
    }
   ],
   "source": [
    "basicForallExpr"
   ]
  },
  {
   "cell_type": "markdown",
   "metadata": {},
   "source": [
    "We can use Python's `dir()` function to get a list of our `Forall` object's attributes and methods:"
   ]
  },
  {
   "cell_type": "code",
   "execution_count": 20,
   "metadata": {},
   "outputs": [
    {
     "data": {
      "text/plain": [
       "['__class__',\n",
       " '__delattr__',\n",
       " '__dict__',\n",
       " '__dir__',\n",
       " '__doc__',\n",
       " '__eq__',\n",
       " '__format__',\n",
       " '__ge__',\n",
       " '__getattribute__',\n",
       " '__gt__',\n",
       " '__hash__',\n",
       " '__init__',\n",
       " '__init_subclass__',\n",
       " '__le__',\n",
       " '__lt__',\n",
       " '__module__',\n",
       " '__ne__',\n",
       " '__new__',\n",
       " '__reduce__',\n",
       " '__reduce_ex__',\n",
       " '__repr__',\n",
       " '__setattr__',\n",
       " '__sizeof__',\n",
       " '__str__',\n",
       " '__subclasshook__',\n",
       " '__weakref__',\n",
       " '_allConditions',\n",
       " '_allDomains',\n",
       " '_allInstanceVars',\n",
       " '_checkRelabelMap',\n",
       " '_class_path',\n",
       " '_clear_',\n",
       " '_config_latex_tool',\n",
       " '_coreInfo',\n",
       " '_createOperand',\n",
       " '_expandingIterRanges',\n",
       " '_extractCoreInfo',\n",
       " '_extractExprClass',\n",
       " '_extractInitArgs',\n",
       " '_extractMyInitArgs',\n",
       " '_extractReferencedObjIds',\n",
       " '_extractStyle',\n",
       " '_formatMultiOperator',\n",
       " '_formatted',\n",
       " '_generate_unique_rep',\n",
       " '_genericExpr',\n",
       " '_implicitOperator',\n",
       " '_init_argname_mapping_',\n",
       " '_make',\n",
       " '_meaningData',\n",
       " '_meaning_id',\n",
       " '_operator_',\n",
       " '_repr_html_',\n",
       " '_requirements',\n",
       " '_restrictionChecked',\n",
       " '_setContext',\n",
       " '_specializeUnravelingTheorem',\n",
       " '_styleData',\n",
       " '_style_id',\n",
       " '_subExpressions',\n",
       " '_validateRelabelMap',\n",
       " '_withMatchingStyle',\n",
       " 'allConditions',\n",
       " 'allDomains',\n",
       " 'allInstanceVars',\n",
       " 'conclude',\n",
       " 'concludeAsFolded',\n",
       " 'concludeNegation',\n",
       " 'concludeViaImplication',\n",
       " 'conditions',\n",
       " 'contexts',\n",
       " 'copy',\n",
       " 'coreInfo',\n",
       " 'deduceInBool',\n",
       " 'deriveBundled',\n",
       " 'deriveUnraveled',\n",
       " 'deriveUnraveledEquiv',\n",
       " 'displayed_expression_styles',\n",
       " 'disprove',\n",
       " 'domain',\n",
       " 'evaluation',\n",
       " 'explicitConditions',\n",
       " 'explicitDomains',\n",
       " 'explicitInstanceExpr',\n",
       " 'explicitInstanceVars',\n",
       " 'exprInfo',\n",
       " 'extractInitArgValue',\n",
       " 'extractMyInitArgValue',\n",
       " 'formatted',\n",
       " 'freeMultiVars',\n",
       " 'freeVars',\n",
       " 'getRequirements',\n",
       " 'getStyle',\n",
       " 'getStyles',\n",
       " 'hasDomain',\n",
       " 'in_progress_to_conclude',\n",
       " 'inclusiveConditions',\n",
       " 'innerExpr',\n",
       " 'instanceExpr',\n",
       " 'instanceVar',\n",
       " 'instanceVarLists',\n",
       " 'joinedNestings',\n",
       " 'latex',\n",
       " 'numSubExpr',\n",
       " 'operand',\n",
       " 'operand_or_operands',\n",
       " 'operands',\n",
       " 'operationClassOfOperator',\n",
       " 'operator',\n",
       " 'operator_or_operators',\n",
       " 'operators',\n",
       " 'orderOfAppearance',\n",
       " 'prove',\n",
       " 'relabeled',\n",
       " 'remakeArguments',\n",
       " 'remakeConstructor',\n",
       " 'remakeWithStyleCalls',\n",
       " 'safeDummyVar',\n",
       " 'safeDummyVars',\n",
       " 'sideEffects',\n",
       " 'simplification',\n",
       " 'specialize',\n",
       " 'string',\n",
       " 'styleNames',\n",
       " 'styleOptions',\n",
       " 'subExpr',\n",
       " 'subExprIter',\n",
       " 'substituted',\n",
       " 'unfold',\n",
       " 'unraveled',\n",
       " 'usedLiterals',\n",
       " 'usedVars',\n",
       " 'withJustification',\n",
       " 'withMatchingStyle',\n",
       " 'withStyles',\n",
       " 'withWrapAfterOperator',\n",
       " 'withWrapBeforeOperator',\n",
       " 'withWrappingAt',\n",
       " 'wrapPositions']"
      ]
     },
     "execution_count": 20,
     "metadata": {},
     "output_type": "execute_result"
    }
   ],
   "source": [
    "dir(basicForallExpr)"
   ]
  },
  {
   "cell_type": "markdown",
   "metadata": {},
   "source": [
    "and the general Python-provided object attribute `__dict__` (using two underscores on each end) to view all the attribute names and values for our specific `Forall` object:"
   ]
  },
  {
   "cell_type": "code",
   "execution_count": 21,
   "metadata": {},
   "outputs": [
    {
     "data": {
      "text/plain": [
       "{'operator_or_operators': forall,\n",
       " 'operand_or_operands': x -> P(x) | x in S , Q(x) , R(x),\n",
       " 'operator': forall,\n",
       " 'operators': (forall),\n",
       " 'operand': x -> P(x) | x in S , Q(x) , R(x),\n",
       " 'operands': (x -> P(x) | x in S , Q(x) , R(x)),\n",
       " '_subExpressions': (forall, x -> P(x) | x in S , Q(x) , R(x)),\n",
       " '_genericExpr': forall_{_x_ in S | Q(_x_) , R(_x_)} P(_x_),\n",
       " '_meaningData': <proveit._core_._unique_data._MeaningData at 0x105a0e048>,\n",
       " '_styleData': <proveit._core_._unique_data._StyleData at 0x105a0e2e8>,\n",
       " '_meaning_id': 1873434364747766254,\n",
       " '_coreInfo': ('Operation',),\n",
       " '_requirements': (),\n",
       " '_style_id': 5946875236989378449,\n",
       " 'instanceExpr': P(x),\n",
       " 'instanceVar': x,\n",
       " 'domain': S,\n",
       " 'conditions': (x in S , Q(x) , R(x))}"
      ]
     },
     "execution_count": 21,
     "metadata": {},
     "output_type": "execute_result"
    }
   ],
   "source": [
    "basicForallExpr.__dict__"
   ]
  },
  {
   "cell_type": "markdown",
   "metadata": {},
   "source": [
    "Some of the various parts of the `Forall` **expression** may be accessed as follows:"
   ]
  },
  {
   "cell_type": "code",
   "execution_count": 22,
   "metadata": {},
   "outputs": [
    {
     "data": {
      "text/html": [
       "<a class=\"ProveItLink\" href=\"../packages/proveit/__pv_it/530be409e3083890784cf1d7b28c9e67e90af9360/expr.ipynb\"><img src=\"../packages/proveit/__pv_it/530be409e3083890784cf1d7b28c9e67e90af9360/expr.png\" style=\"display:inline;vertical-align:middle;\" /></a>"
      ],
      "text/plain": [
       "x"
      ]
     },
     "execution_count": 22,
     "metadata": {},
     "output_type": "execute_result"
    }
   ],
   "source": [
    "basicForallExpr.instanceVar        # Variable whose value defines the instance.\n",
    "                                   # This attribute returns just the first instance variable\n",
    "                                   # if there is more than one."
   ]
  },
  {
   "cell_type": "code",
   "execution_count": 23,
   "metadata": {},
   "outputs": [
    {
     "data": {
      "text/plain": [
       "[x]"
      ]
     },
     "execution_count": 23,
     "metadata": {},
     "output_type": "execute_result"
    }
   ],
   "source": [
    "basicForallExpr.allInstanceVars()  # The list of all variables whose values define the instance\n",
    "                                   # (may be one or more variables)."
   ]
  },
  {
   "cell_type": "code",
   "execution_count": 24,
   "metadata": {},
   "outputs": [
    {
     "data": {
      "text/html": [
       "<a class=\"ProveItLink\" href=\"../packages/proveit/__pv_it/8c735c381b4cbf3c87e86ca2468da4e5c976f9b00/expr.ipynb\"><img src=\"../packages/proveit/__pv_it/8c735c381b4cbf3c87e86ca2468da4e5c976f9b00/expr.png\" style=\"display:inline;vertical-align:middle;\" /></a>"
      ],
      "text/plain": [
       "P(x)"
      ]
     },
     "execution_count": 24,
     "metadata": {},
     "output_type": "execute_result"
    }
   ],
   "source": [
    "basicForallExpr.instanceExpr       # The expression being quantified over."
   ]
  },
  {
   "cell_type": "code",
   "execution_count": 25,
   "metadata": {
    "scrolled": true
   },
   "outputs": [
    {
     "data": {
      "text/html": [
       "<a class=\"ProveItLink\" href=\"__pv_it/25b4fb40e880d04b05e4f76c95553f0c0b3b76b20/expr.ipynb\"><img src=\"__pv_it/25b4fb40e880d04b05e4f76c95553f0c0b3b76b20/expr.png\" style=\"display:inline;vertical-align:middle;\" /></a>"
      ],
      "text/plain": [
       "(x in S , Q(x) , R(x))"
      ]
     },
     "execution_count": 25,
     "metadata": {},
     "output_type": "execute_result"
    }
   ],
   "source": [
    "basicForallExpr.conditions         # The list of conditions of the universal quantification."
   ]
  },
  {
   "cell_type": "code",
   "execution_count": 26,
   "metadata": {},
   "outputs": [
    {
     "data": {
      "text/html": [
       "<a class=\"ProveItLink\" href=\"../packages/proveit/__pv_it/abeee18594afe51bfb1be95d9591fbba24ac53f30/expr.ipynb\"><img src=\"../packages/proveit/__pv_it/abeee18594afe51bfb1be95d9591fbba24ac53f30/expr.png\" style=\"display:inline;vertical-align:middle;\" /></a>"
      ],
      "text/plain": [
       "S"
      ]
     },
     "execution_count": 26,
     "metadata": {},
     "output_type": "execute_result"
    }
   ],
   "source": [
    "basicForallExpr.domain             # Domain of the instance variable.\n",
    "                                   # If there are multiple instance variables each with its own domain,\n",
    "                                   # this attribute returns just the domain for the 1st variable."
   ]
  },
  {
   "cell_type": "code",
   "execution_count": 27,
   "metadata": {},
   "outputs": [
    {
     "data": {
      "text/plain": [
       "[S]"
      ]
     },
     "execution_count": 27,
     "metadata": {},
     "output_type": "execute_result"
    }
   ],
   "source": [
    "basicForallExpr.allDomains()       # The set of all domains for all instance variables\n",
    "                                   # (might be 0, 1, or more in the list)"
   ]
  },
  {
   "cell_type": "code",
   "execution_count": 28,
   "metadata": {},
   "outputs": [
    {
     "data": {
      "text/plain": [
       "[Q(x), R(x)]"
      ]
     },
     "execution_count": 28,
     "metadata": {},
     "output_type": "execute_result"
    }
   ],
   "source": [
    "basicForallExpr.explicitConditions()  # Returns the list of conditions that appear after the\n",
    "                                      # vertical line in the notation (i.e., exluding the domain condition(s))."
   ]
  },
  {
   "cell_type": "markdown",
   "metadata": {},
   "source": [
    "### A More Complex Forall Example\n",
    "\n",
    "We can construct more complex `Forall` **expression**s involving multiple instance-defining variables, each from the same domain, like this:"
   ]
  },
  {
   "cell_type": "code",
   "execution_count": 29,
   "metadata": {},
   "outputs": [
    {
     "data": {
      "text/html": [
       "<strong id=\"secondForallExpr\">secondForallExpr:</strong> <a class=\"ProveItLink\" href=\"__pv_it/f739a2211d2a2370c3726b2fe61c9ada810001e20/expr.ipynb\"><img src=\"__pv_it/f739a2211d2a2370c3726b2fe61c9ada810001e20/expr.png\" style=\"display:inline;vertical-align:middle;\" /></a><br>"
      ],
      "text/plain": [
       "secondForallExpr: forall_{x, y in S | Q(x) , R(y)} P(x , y)"
      ]
     },
     "execution_count": 29,
     "metadata": {},
     "output_type": "execute_result"
    }
   ],
   "source": [
    "secondForallExpr = Forall([x, y], Pxy, conditions=[Qx, Ry], domain = S)"
   ]
  },
  {
   "cell_type": "markdown",
   "metadata": {},
   "source": [
    "or specify individual domains for the instance variables:"
   ]
  },
  {
   "cell_type": "code",
   "execution_count": 30,
   "metadata": {},
   "outputs": [
    {
     "data": {
      "text/html": [
       "<strong id=\"thirdForallExpr\">thirdForallExpr:</strong> <a class=\"ProveItLink\" href=\"__pv_it/5a14c3bffc9749634ce5e4c1973c2ce1d9fdaa0b0/expr.ipynb\"><img src=\"__pv_it/5a14c3bffc9749634ce5e4c1973c2ce1d9fdaa0b0/expr.png\" style=\"display:inline;vertical-align:middle;\" /></a><br>"
      ],
      "text/plain": [
       "thirdForallExpr: forall_{(x, y) in S * T | Q(x) , R(y)} P(x , y)"
      ]
     },
     "execution_count": 30,
     "metadata": {},
     "output_type": "execute_result"
    }
   ],
   "source": [
    "thirdForallExpr = Forall([x, y], Pxy, conditions=[Qx, Ry], domains = [S, T])"
   ]
  },
  {
   "cell_type": "markdown",
   "metadata": {},
   "source": [
    "The various parts of such `Forall` **expression**s may be accessed as before, with a few special circumstances:"
   ]
  },
  {
   "cell_type": "code",
   "execution_count": 31,
   "metadata": {},
   "outputs": [
    {
     "data": {
      "text/html": [
       "<a class=\"ProveItLink\" href=\"../packages/proveit/__pv_it/530be409e3083890784cf1d7b28c9e67e90af9360/expr.ipynb\"><img src=\"../packages/proveit/__pv_it/530be409e3083890784cf1d7b28c9e67e90af9360/expr.png\" style=\"display:inline;vertical-align:middle;\" /></a>"
      ],
      "text/plain": [
       "x"
      ]
     },
     "execution_count": 31,
     "metadata": {},
     "output_type": "execute_result"
    }
   ],
   "source": [
    "thirdForallExpr.instanceVar              # Obtain the first of the instance-defining variables"
   ]
  },
  {
   "cell_type": "code",
   "execution_count": 32,
   "metadata": {},
   "outputs": [
    {
     "data": {
      "text/plain": [
       "[x, y]"
      ]
     },
     "execution_count": 32,
     "metadata": {},
     "output_type": "execute_result"
    }
   ],
   "source": [
    "thirdForallExpr.allInstanceVars()        # Obtain a list of ALL instance-defining variables"
   ]
  },
  {
   "cell_type": "code",
   "execution_count": 33,
   "metadata": {},
   "outputs": [
    {
     "data": {
      "text/html": [
       "<a class=\"ProveItLink\" href=\"../packages/proveit/__pv_it/f8b9edf8e16034727f0aad55bb83e392c3db40d40/expr.ipynb\"><img src=\"../packages/proveit/__pv_it/f8b9edf8e16034727f0aad55bb83e392c3db40d40/expr.png\" style=\"display:inline;vertical-align:middle;\" /></a>"
      ],
      "text/plain": [
       "y"
      ]
     },
     "execution_count": 33,
     "metadata": {},
     "output_type": "execute_result"
    }
   ],
   "source": [
    "thirdForallExpr.allInstanceVars()[-1]    # Obtain the LAST of all instance-defining variables"
   ]
  },
  {
   "cell_type": "code",
   "execution_count": 34,
   "metadata": {},
   "outputs": [
    {
     "data": {
      "text/html": [
       "<a class=\"ProveItLink\" href=\"__pv_it/df7bc7d03aaf940157ccba2f359a519c7615ecfa0/expr.ipynb\"><img src=\"__pv_it/df7bc7d03aaf940157ccba2f359a519c7615ecfa0/expr.png\" style=\"display:inline;vertical-align:middle;\" /></a>"
      ],
      "text/plain": [
       "forall_{y in T | R(y)} P(x , y)"
      ]
     },
     "execution_count": 34,
     "metadata": {},
     "output_type": "execute_result"
    }
   ],
   "source": [
    "thirdForallExpr.instanceExpr             # Obtain the first nested expression being quantified over"
   ]
  },
  {
   "cell_type": "code",
   "execution_count": 35,
   "metadata": {},
   "outputs": [
    {
     "data": {
      "text/html": [
       "<a class=\"ProveItLink\" href=\"../packages/proveit/__pv_it/4ebbf9cd5f2e78405c64e81897dc9bd29f55abca0/expr.ipynb\"><img src=\"../packages/proveit/__pv_it/4ebbf9cd5f2e78405c64e81897dc9bd29f55abca0/expr.png\" style=\"display:inline;vertical-align:middle;\" /></a>"
      ],
      "text/plain": [
       "P(x , y)"
      ]
     },
     "execution_count": 35,
     "metadata": {},
     "output_type": "execute_result"
    }
   ],
   "source": [
    "thirdForallExpr.explicitInstanceExpr()   # Obtain the explicit final expression being quantified over"
   ]
  },
  {
   "cell_type": "code",
   "execution_count": 36,
   "metadata": {},
   "outputs": [
    {
     "data": {
      "text/html": [
       "<a class=\"ProveItLink\" href=\"../packages/proveit/__pv_it/abeee18594afe51bfb1be95d9591fbba24ac53f30/expr.ipynb\"><img src=\"../packages/proveit/__pv_it/abeee18594afe51bfb1be95d9591fbba24ac53f30/expr.png\" style=\"display:inline;vertical-align:middle;\" /></a>"
      ],
      "text/plain": [
       "S"
      ]
     },
     "execution_count": 36,
     "metadata": {},
     "output_type": "execute_result"
    }
   ],
   "source": [
    "thirdForallExpr.domain                   # Obtain the domain if just a single domain, or the domain of\n",
    "                                         # the 1st instance-defining variable if multiple domains"
   ]
  },
  {
   "cell_type": "code",
   "execution_count": 37,
   "metadata": {},
   "outputs": [
    {
     "data": {
      "text/plain": [
       "[S, T]"
      ]
     },
     "execution_count": 37,
     "metadata": {},
     "output_type": "execute_result"
    }
   ],
   "source": [
    "thirdForallExpr.allDomains()             # Obtain a list of all domains"
   ]
  },
  {
   "cell_type": "code",
   "execution_count": 38,
   "metadata": {},
   "outputs": [
    {
     "data": {
      "text/plain": [
       "[x in S, Q(x)]"
      ]
     },
     "execution_count": 38,
     "metadata": {},
     "output_type": "execute_result"
    }
   ],
   "source": [
    "thirdForallExpr.conditions               # Obtain conditions for first instance-defining variable"
   ]
  },
  {
   "cell_type": "code",
   "execution_count": 39,
   "metadata": {},
   "outputs": [
    {
     "data": {
      "text/plain": [
       "[x in S, Q(x), y in T, R(y)]"
      ]
     },
     "execution_count": 39,
     "metadata": {},
     "output_type": "execute_result"
    }
   ],
   "source": [
    "thirdForallExpr.allConditions()          # Obtain conditions for all instance-defining variables"
   ]
  },
  {
   "cell_type": "code",
   "execution_count": 40,
   "metadata": {},
   "outputs": [
    {
     "data": {
      "text/html": [
       "<a class=\"ProveItLink\" href=\"__pv_it/062c72fd43df713bf2189856757ce994719390340/expr.ipynb\"><img src=\"__pv_it/062c72fd43df713bf2189856757ce994719390340/expr.png\" style=\"display:inline;vertical-align:middle;\" /></a>"
      ],
      "text/plain": [
       "(y in T , R(y))"
      ]
     },
     "execution_count": 40,
     "metadata": {},
     "output_type": "execute_result"
    }
   ],
   "source": [
    "thirdForallExpr.instanceExpr.conditions  # Obtain conditions for 2nd (or 1st-nested) instance-defining variable"
   ]
  },
  {
   "cell_type": "markdown",
   "metadata": {},
   "source": [
    "Specialization (or Universal Instantiation)\n",
    "======\n",
    "\n",
    "The *specialization* derivation (or universal instantiation) step uses *expression substitution* internally.  The difference is that *specialization* has proof implications and enforces the extra restrictions to justify these proof implications.  It also eliminates one or more of the outer $\\forall$ operations."
   ]
  },
  {
   "cell_type": "markdown",
   "metadata": {},
   "source": [
    "\n",
    "### Basic Specialization\n",
    "\n",
    "Let us take our basic/generic example of the `Forall` expression above and specialize it with a particular \"instance\" expression.  To do so, we will make assumptions to trivially allow this derivation step to be taken (just to show how this works)."
   ]
  },
  {
   "cell_type": "code",
   "execution_count": 41,
   "metadata": {},
   "outputs": [
    {
     "data": {
      "text/html": [
       "<strong id=\"assumptions\">assumptions:</strong> <a class=\"ProveItLink\" href=\"__pv_it/2d694bde19f975ef229ae6675712fa738d8f57670/expr.ipynb\"><img src=\"__pv_it/2d694bde19f975ef229ae6675712fa738d8f57670/expr.png\" style=\"display:inline;vertical-align:middle;\" /></a><br>"
      ],
      "text/plain": [
       "assumptions: (forall_{x in S | Q(x) , R(x)} P(x) , f(y) in S , Q(f(y)) , R(f(y)))"
      ]
     },
     "execution_count": 41,
     "metadata": {},
     "output_type": "execute_result"
    }
   ],
   "source": [
    "from proveit import Function, ExprList\n",
    "from proveit._common_ import fy\n",
    "from proveit.logic import InSet\n",
    "assumptions = ExprList(basicForallExpr, InSet(fy, S), Function(Q, fy), Function(R, fy))"
   ]
  },
  {
   "cell_type": "markdown",
   "metadata": {},
   "source": [
    "`InSet()` is another core concept that is defined outside of the core in `proveit.logic`.  It represents the set membership operation using the $\\in$ symbol.  It is needed as a core concept specifically for the purpose of ensuring that universal quantification requirements are met (the \"instance\" expression must be \"in\" the domain set).\n",
    "\n",
    "To implement the specialization or universal instantiation where the instance variable $x$ is replaced with the specific instance or value $f(y)$, we have:"
   ]
  },
  {
   "cell_type": "code",
   "execution_count": 42,
   "metadata": {
    "scrolled": true
   },
   "outputs": [
    {
     "data": {
      "text/html": [
       "<span style=\"font-size:20px;\"><a class=\"ProveItLink\" href=\"__pv_it/526dde690b463cf3c56abb3913076e117d60dabf0/expr.ipynb\"><img src=\"__pv_it/526dde690b463cf3c56abb3913076e117d60dabf0/expr.png\" style=\"display:inline;vertical-align:middle;\" /></a> &#x22A2;&nbsp;<a class=\"ProveItLink\" href=\"__pv_it/e16eba53b0be132ecdb115b19c32e9f6e91766930/expr.ipynb\"><img src=\"__pv_it/e16eba53b0be132ecdb115b19c32e9f6e91766930/expr.png\" style=\"display:inline;vertical-align:middle;\" /></a></span>"
      ],
      "text/plain": [
       "{forall_{x in S | Q(x) , R(x)} P(x) , f(y) in S , Q(f(y)) , R(f(y))} |- P(f(y))"
      ]
     },
     "execution_count": 42,
     "metadata": {},
     "output_type": "execute_result"
    }
   ],
   "source": [
    "basicForallSpec = basicForallExpr.specialize({x:fy}, assumptions=assumptions)\n",
    "basicForallSpec"
   ]
  },
  {
   "cell_type": "markdown",
   "metadata": {},
   "source": [
    "We have proven, somewhat trivially, that $P(f(y))$ is true assuming that $\\forall_{x \\in S~|~Q(x)} P(x)$, $f(y) \\in S$, $Q(f(y))$ are all true statements.\n",
    "\n",
    "Let us take a look at the proof for this statement:"
   ]
  },
  {
   "cell_type": "code",
   "execution_count": 43,
   "metadata": {},
   "outputs": [
    {
     "data": {
      "text/html": [
       "<table><tr><th>&nbsp;</th><th>step type</th><th>requirements</th><th>statement</th></tr>\n",
       "<tr><td>0</td><td>specialization</td><td>1, 2, 3, 4</td><td><span style=\"font-size:20px;\"><a class=\"ProveItLink\" href=\"__pv_it/526dde690b463cf3c56abb3913076e117d60dabf0/expr.ipynb\"><img src=\"__pv_it/526dde690b463cf3c56abb3913076e117d60dabf0/expr.png\" style=\"display:inline;vertical-align:middle;\" /></a> &#x22A2;&nbsp;<a class=\"ProveItLink\" href=\"__pv_it/e16eba53b0be132ecdb115b19c32e9f6e91766930/expr.ipynb\"><img src=\"__pv_it/e16eba53b0be132ecdb115b19c32e9f6e91766930/expr.png\" style=\"display:inline;vertical-align:middle;\" /></a></span></td></tr>\n",
       "<tr><td>&nbsp;</td><td colspan=4 style=\"text-align:left\"><span style=\"font-size:20px;\"><a class=\"ProveItLink\" href=\"../packages/proveit/__pv_it/530be409e3083890784cf1d7b28c9e67e90af9360/expr.ipynb\"><img src=\"../packages/proveit/__pv_it/530be409e3083890784cf1d7b28c9e67e90af9360/expr.png\" style=\"display:inline;vertical-align:middle;\" /></a> : <a class=\"ProveItLink\" href=\"../packages/proveit/__pv_it/e4f99fbf53c5e24e1c1e622903a7736f418f26ef0/expr.ipynb\"><img src=\"../packages/proveit/__pv_it/e4f99fbf53c5e24e1c1e622903a7736f418f26ef0/expr.png\" style=\"display:inline;vertical-align:middle;\" /></a></span></td></tr><tr><td>1</td><td>assumption</td><td></td><td><span style=\"font-size:20px;\"><a class=\"ProveItLink\" href=\"__pv_it/12753cd3c714840b6ba0f971efe02ce4088257570/expr.ipynb\"><img src=\"__pv_it/12753cd3c714840b6ba0f971efe02ce4088257570/expr.png\" style=\"display:inline;vertical-align:middle;\" /></a> &#x22A2;&nbsp;<a class=\"ProveItLink\" href=\"__pv_it/768e0ea8953379b26e536b52c663304c5502b1240/expr.ipynb\"><img src=\"__pv_it/768e0ea8953379b26e536b52c663304c5502b1240/expr.png\" style=\"display:inline;vertical-align:middle;\" /></a></span></td></tr>\n",
       "<tr><td>2</td><td>assumption</td><td></td><td><span style=\"font-size:20px;\"><a class=\"ProveItLink\" href=\"__pv_it/268f310cadeea8c32912ea7c8328fa40b11fa53c0/expr.ipynb\"><img src=\"__pv_it/268f310cadeea8c32912ea7c8328fa40b11fa53c0/expr.png\" style=\"display:inline;vertical-align:middle;\" /></a> &#x22A2;&nbsp;<a class=\"ProveItLink\" href=\"__pv_it/ec2c2fa1ecba6bd2da2def76efbae1904f43053d0/expr.ipynb\"><img src=\"__pv_it/ec2c2fa1ecba6bd2da2def76efbae1904f43053d0/expr.png\" style=\"display:inline;vertical-align:middle;\" /></a></span></td></tr>\n",
       "<tr><td>3</td><td>assumption</td><td></td><td><span style=\"font-size:20px;\"><a class=\"ProveItLink\" href=\"__pv_it/fac784b6f51600f981c380d5f3e3cd5cbb4e2b5f0/expr.ipynb\"><img src=\"__pv_it/fac784b6f51600f981c380d5f3e3cd5cbb4e2b5f0/expr.png\" style=\"display:inline;vertical-align:middle;\" /></a> &#x22A2;&nbsp;<a class=\"ProveItLink\" href=\"__pv_it/a42dcb2a1478b3b87b8f129e549a557692557fd00/expr.ipynb\"><img src=\"__pv_it/a42dcb2a1478b3b87b8f129e549a557692557fd00/expr.png\" style=\"display:inline;vertical-align:middle;\" /></a></span></td></tr>\n",
       "<tr><td>4</td><td>assumption</td><td></td><td><span style=\"font-size:20px;\"><a class=\"ProveItLink\" href=\"__pv_it/58a41dc1621297c1cdfcccc8ead95654fb69a7df0/expr.ipynb\"><img src=\"__pv_it/58a41dc1621297c1cdfcccc8ead95654fb69a7df0/expr.png\" style=\"display:inline;vertical-align:middle;\" /></a> &#x22A2;&nbsp;<a class=\"ProveItLink\" href=\"__pv_it/7aa454bcc8446e5a1c8515a46db6a919038056c50/expr.ipynb\"><img src=\"__pv_it/7aa454bcc8446e5a1c8515a46db6a919038056c50/expr.png\" style=\"display:inline;vertical-align:middle;\" /></a></span></td></tr>\n",
       "</table>"
      ],
      "text/plain": [
       "\tstep type\trequirements\tstatement\n",
       "0\tspecialization\t1, 2, 3, 4\t{forall_{x in S | Q(x) , R(x)} P(x) , f(y) in S , Q(f(y)) , R(f(y))} |- P(f(y))\n",
       "\tx : f(y)\n",
       "1\tassumption\t\t{forall_{x in S | Q(x) , R(x)} P(x)} |- forall_{x in S | Q(x) , R(x)} P(x)\n",
       "2\tassumption\t\t{f(y) in S} |- f(y) in S\n",
       "3\tassumption\t\t{Q(f(y))} |- Q(f(y))\n",
       "4\tassumption\t\t{R(f(y))} |- R(f(y))"
      ]
     },
     "execution_count": 43,
     "metadata": {},
     "output_type": "execute_result"
    }
   ],
   "source": [
    "basicForallSpec.proof()"
   ]
  },
  {
   "cell_type": "markdown",
   "metadata": {},
   "source": [
    "This indicates that the proof requires a *specialization* step (step 0) and explicitly indicates, in the row under step 0, the mapping being performed (mapping $x$ to $f(y)$).  The subsequent proof steps that are required are simply proofs by assumption.  Specifically, the original `Forall` expression must be true and the conditions must be satisfied for the instance $x \\mapsto f(y)$: $f(y) \\in S$, $Q(f(x))$, and $R(f(y))$.  If any of these are not known to be true under the provided assumptions, this step will fail.  In this example, they are trivially true because our assumptions were chosen to be precisely what needed to be true for the *specialization* step to succeed."
   ]
  },
  {
   "cell_type": "markdown",
   "metadata": {},
   "source": [
    "If we leave out our first assumption (*i.e.*, the original `Forall` object itself), **Prove-It** is unable to prove the original `Forall` expression even after attempting to perform automation and the *specialization* step will fail."
   ]
  },
  {
   "cell_type": "code",
   "execution_count": 44,
   "metadata": {},
   "outputs": [
    {
     "name": "stdout",
     "output_type": "stream",
     "text": [
      "EXPECTED ERROR: Unable to prove forall_{x in S | Q(x) , R(x)} P(x) assuming {f(y) in S, Q(f(y)), R(f(y))}: Unable to conclude automatically; the domain has no 'foldAsForall' method and automated generalization failed.\n"
     ]
    }
   ],
   "source": [
    "from proveit import ProofFailure\n",
    "try:\n",
    "    basicForallExpr.specialize({x:fy}, assumptions=assumptions[1:])\n",
    "    assert False, \"Expecting an ProofFailure error; should not make it to this point\"\n",
    "except ProofFailure as e:\n",
    "    print(\"EXPECTED ERROR:\", e)"
   ]
  },
  {
   "cell_type": "markdown",
   "metadata": {},
   "source": [
    "The automation checks to see if the $S$ **Expression** has a `foldAsForall` method that would automate a proof for universal quantification over $S$.  Since $S$ is a simple **Variable** object, no such automation exists.\n",
    "\n",
    "Next we'll see what happens when the instantiated \"instance\" $f(y)$ is not known to be in the domain $S$ (*i.e.*, we omit the assumption that $f(y) \\in S$):"
   ]
  },
  {
   "cell_type": "code",
   "execution_count": 45,
   "metadata": {},
   "outputs": [
    {
     "name": "stdout",
     "output_type": "stream",
     "text": [
      "EXPECTED ERROR: Unable to prove P(f(y)) assuming {forall_{x in S | Q(x) , R(x)} P(x), Q(f(y)), R(f(y))}: Unmet specialization requirement: f(y) in S\n"
     ]
    }
   ],
   "source": [
    "from proveit import SpecializationFailure\n",
    "try:\n",
    "    basicForallExpr.specialize({x:fy}, assumptions=assumptions[:1]+assumptions[2:])\n",
    "    assert False, \"Expecting an SpecializationFailure error; should not make it to this point\"\n",
    "except SpecializationFailure as e:\n",
    "    print(\"EXPECTED ERROR:\", e)"
   ]
  },
  {
   "cell_type": "markdown",
   "metadata": {},
   "source": [
    "Finally, we demonstrate the case when one of the \"explicit\" conditions is not met -- first omitting the assumption that $Q(f(y))$ is TRUE:"
   ]
  },
  {
   "cell_type": "code",
   "execution_count": 46,
   "metadata": {},
   "outputs": [
    {
     "name": "stdout",
     "output_type": "stream",
     "text": [
      "EXPECTED ERROR: Unable to prove P(f(y)) assuming {forall_{x in S | Q(x) , R(x)} P(x), f(y) in S, R(f(y))}: Unmet specialization requirement: Q(f(y))\n"
     ]
    }
   ],
   "source": [
    "try:\n",
    "    basicForallExpr.specialize({x:fy}, assumptions=assumptions[:2]+assumptions[3:])\n",
    "    assert False, \"Expecting an SpecializationFailure error; should not make it to this point\"\n",
    "except SpecializationFailure as e:\n",
    "    print(\"EXPECTED ERROR:\", e)"
   ]
  },
  {
   "cell_type": "markdown",
   "metadata": {},
   "source": [
    "then omitting the assumption that $R(f(y))$ is TRUE:"
   ]
  },
  {
   "cell_type": "code",
   "execution_count": 47,
   "metadata": {},
   "outputs": [
    {
     "name": "stdout",
     "output_type": "stream",
     "text": [
      "EXPECTED ERROR: Unable to prove P(f(y)) assuming {forall_{x in S | Q(x) , R(x)} P(x), f(y) in S, Q(f(y))}: Unmet specialization requirement: R(f(y))\n"
     ]
    }
   ],
   "source": [
    "try:\n",
    "    basicForallExpr.specialize({x:fy}, assumptions=assumptions[:3])\n",
    "    assert False, \"Expecting a SpecializationFailure error; should not make it to this point\"\n",
    "except SpecializationFailure as e:\n",
    "    print(\"EXPECTED ERROR:\", e)"
   ]
  },
  {
   "cell_type": "markdown",
   "metadata": {},
   "source": [
    "Also note that you cannot *specialize* a variable that is not one of the `Forall` instance variables. For example, we cannot specialize the propositional function variable $Q$. Recall our basic expression first:"
   ]
  },
  {
   "cell_type": "code",
   "execution_count": 48,
   "metadata": {},
   "outputs": [
    {
     "data": {
      "text/html": [
       "<a class=\"ProveItLink\" href=\"__pv_it/768e0ea8953379b26e536b52c663304c5502b1240/expr.ipynb\"><img src=\"__pv_it/768e0ea8953379b26e536b52c663304c5502b1240/expr.png\" style=\"display:inline;vertical-align:middle;\" /></a>"
      ],
      "text/plain": [
       "forall_{x in S | Q(x) , R(x)} P(x)"
      ]
     },
     "execution_count": 48,
     "metadata": {},
     "output_type": "execute_result"
    }
   ],
   "source": [
    "basicForallExpr"
   ]
  },
  {
   "cell_type": "markdown",
   "metadata": {},
   "source": [
    "Then try to *specialize* our `Forall` object by instantiating $Q$ with $R$:"
   ]
  },
  {
   "cell_type": "code",
   "execution_count": 49,
   "metadata": {},
   "outputs": [
    {
     "name": "stdout",
     "output_type": "stream",
     "text": [
      "EXPECTED ERROR: Proof step failed assuming {forall_{x in S | Q(x) , R(x)} P(x), f(y) in S, Q(f(y)), R(f(y)), forall_{x in S | Q(x) , R(x)} P(x)}: May only specialize instance variables of directly nested Forall operations\n"
     ]
    }
   ],
   "source": [
    "try:\n",
    "    basicForallExpr.specialize({x:fy, Q:R}, assumptions=assumptions)\n",
    "    assert False, \"Expecting a SpecializationFailure error; should not make it to this point\"\n",
    "except SpecializationFailure as e:\n",
    "    print(\"EXPECTED ERROR:\", e)"
   ]
  },
  {
   "cell_type": "markdown",
   "metadata": {},
   "source": [
    "You can, of course, *relabel* **Variable**s that are not `Forall` instance variables.  Later in this tutorial we will show that you can *relabel* and *specialize* simultaneously (see the sub-section on ***Specializing and Relabeling Simultaneously***).  You can also *specialize* multiple levels of `Forall` operations simultaneously which is why the previous error message mentions \"nested Forall operations\". "
   ]
  },
  {
   "cell_type": "markdown",
   "metadata": {},
   "source": [
    "### Universal quantification without a domain\n",
    "\n",
    "It is not necessary to specify a domain in a `Forall` **Expression**.  For example, the condition(s) may provide sufficient restrictions for the universal quantification.  Also, any number of conditions may be specified (including no conditions)."
   ]
  },
  {
   "cell_type": "code",
   "execution_count": 50,
   "metadata": {},
   "outputs": [
    {
     "data": {
      "text/html": [
       "<strong id=\"noDomainForallExpr\">noDomainForallExpr:</strong> <a class=\"ProveItLink\" href=\"__pv_it/a2ebf99e8e39eb09c8e8634a38eff06a38fbda4c0/expr.ipynb\"><img src=\"__pv_it/a2ebf99e8e39eb09c8e8634a38eff06a38fbda4c0/expr.png\" style=\"display:inline;vertical-align:middle;\" /></a><br>"
      ],
      "text/plain": [
       "noDomainForallExpr: forall_{x | Q(x)} P(x)"
      ]
     },
     "execution_count": 50,
     "metadata": {},
     "output_type": "execute_result"
    }
   ],
   "source": [
    "noDomainForallExpr = Forall(x, Px, conditions=[Qx])"
   ]
  },
  {
   "cell_type": "markdown",
   "metadata": {},
   "source": [
    "We can verify the absence of an explicit domain in a variety of ways:"
   ]
  },
  {
   "cell_type": "code",
   "execution_count": 51,
   "metadata": {},
   "outputs": [
    {
     "data": {
      "text/plain": [
       "False"
      ]
     },
     "execution_count": 51,
     "metadata": {},
     "output_type": "execute_result"
    }
   ],
   "source": [
    "noDomainForallExpr.hasDomain()"
   ]
  },
  {
   "cell_type": "code",
   "execution_count": 52,
   "metadata": {},
   "outputs": [],
   "source": [
    "assert noDomainForallExpr.domain is None  # The Forall object's domain is None"
   ]
  },
  {
   "cell_type": "markdown",
   "metadata": {},
   "source": [
    "We can use the `exprInfo()` method to examine the internal structure of the expression:"
   ]
  },
  {
   "cell_type": "code",
   "execution_count": 53,
   "metadata": {},
   "outputs": [
    {
     "data": {
      "text/html": [
       "<table><tr><th>&nbsp;</th><th>core type</th><th>sub-expressions</th><th>expression</th></tr>\n",
       "<tr><td>0</td><td>Operation</td><td>operator:&nbsp;1<br>operand:&nbsp;2<br></td><td><a class=\"ProveItLink\" href=\"__pv_it/a2ebf99e8e39eb09c8e8634a38eff06a38fbda4c0/expr.ipynb\"><img src=\"__pv_it/a2ebf99e8e39eb09c8e8634a38eff06a38fbda4c0/expr.png\" style=\"display:inline;vertical-align:middle;\" /></a></td></tr>\n",
       "<tr><td>1</td><td>Literal</td><td></td><td><a class=\"ProveItLink\" href=\"../packages/proveit/logic/boolean/quantification/universal/__pv_it/265f8c02ac1094d56e0e6410a1c1fd3500dc9f540/expr.ipynb\"><img src=\"../packages/proveit/logic/boolean/quantification/universal/__pv_it/265f8c02ac1094d56e0e6410a1c1fd3500dc9f540/expr.png\" style=\"display:inline;vertical-align:middle;\" /></a></td></tr>\n",
       "<tr><td>2</td><td>Lambda</td><td>parameter:&nbsp;8<br>body:&nbsp;3<br>conditions:&nbsp;4<br></td><td><a class=\"ProveItLink\" href=\"__pv_it/b8a7d976e666ff37f706887e3ed1646edb7975140/expr.ipynb\"><img src=\"__pv_it/b8a7d976e666ff37f706887e3ed1646edb7975140/expr.png\" style=\"display:inline;vertical-align:middle;\" /></a></td></tr>\n",
       "<tr><td>3</td><td>Operation</td><td>operator:&nbsp;5<br>operand:&nbsp;8<br></td><td><a class=\"ProveItLink\" href=\"../packages/proveit/__pv_it/8c735c381b4cbf3c87e86ca2468da4e5c976f9b00/expr.ipynb\"><img src=\"../packages/proveit/__pv_it/8c735c381b4cbf3c87e86ca2468da4e5c976f9b00/expr.png\" style=\"display:inline;vertical-align:middle;\" /></a></td></tr>\n",
       "<tr><td>4</td><td>ExprList</td><td>6</td><td><a class=\"ProveItLink\" href=\"__pv_it/a422a8eec4da2178db83f3d719e826b5246a80ac0/expr.ipynb\"><img src=\"__pv_it/a422a8eec4da2178db83f3d719e826b5246a80ac0/expr.png\" style=\"display:inline;vertical-align:middle;\" /></a></td></tr>\n",
       "<tr><td>5</td><td>Variable</td><td></td><td><a class=\"ProveItLink\" href=\"../packages/proveit/__pv_it/6369c6c8083c513ca7161ace249642d040f9327d0/expr.ipynb\"><img src=\"../packages/proveit/__pv_it/6369c6c8083c513ca7161ace249642d040f9327d0/expr.png\" style=\"display:inline;vertical-align:middle;\" /></a></td></tr>\n",
       "<tr><td>6</td><td>Operation</td><td>operator:&nbsp;7<br>operand:&nbsp;8<br></td><td><a class=\"ProveItLink\" href=\"../packages/proveit/__pv_it/050bcffbb388a0b365dac8afc3d37833b4bb47300/expr.ipynb\"><img src=\"../packages/proveit/__pv_it/050bcffbb388a0b365dac8afc3d37833b4bb47300/expr.png\" style=\"display:inline;vertical-align:middle;\" /></a></td></tr>\n",
       "<tr><td>7</td><td>Variable</td><td></td><td><a class=\"ProveItLink\" href=\"../packages/proveit/__pv_it/98124f92e6e1fc3772af50ac63eaa1f5624776f20/expr.ipynb\"><img src=\"../packages/proveit/__pv_it/98124f92e6e1fc3772af50ac63eaa1f5624776f20/expr.png\" style=\"display:inline;vertical-align:middle;\" /></a></td></tr>\n",
       "<tr><td>8</td><td>Variable</td><td></td><td><a class=\"ProveItLink\" href=\"../packages/proveit/__pv_it/530be409e3083890784cf1d7b28c9e67e90af9360/expr.ipynb\"><img src=\"../packages/proveit/__pv_it/530be409e3083890784cf1d7b28c9e67e90af9360/expr.png\" style=\"display:inline;vertical-align:middle;\" /></a></td></tr>\n",
       "</table>\n"
      ],
      "text/plain": [
       "0. forall_{x | Q(x)} P(x)\n",
       "   core type: Operation\n",
       "   operator: 1\n",
       "   operand: 2\n",
       "1. forall\n",
       "   core type: Literal\n",
       "   sub-expressions: \n",
       "2. x -> P(x) | Q(x)\n",
       "   core type: Lambda\n",
       "   parameter: 8\n",
       "   body: 3\n",
       "   conditions: 4\\n3. P(x)\n",
       "   core type: Operation\n",
       "   operator: 5\n",
       "   operand: 8\n",
       "4. (Q(x))\n",
       "   core type: ExprList\n",
       "   sub-expressions: 6\n",
       "5. P\n",
       "   core type: Variable\n",
       "   sub-expressions: \n",
       "6. Q(x)\n",
       "   core type: Operation\n",
       "   operator: 7\n",
       "   operand: 8\n",
       "7. Q\n",
       "   core type: Variable\n",
       "   sub-expressions: \n",
       "8. x\n",
       "   core type: Variable\n",
       "   sub-expressions: "
      ]
     },
     "execution_count": 53,
     "metadata": {},
     "output_type": "execute_result"
    }
   ],
   "source": [
    "noDomainForallExpr.exprInfo()"
   ]
  },
  {
   "cell_type": "markdown",
   "metadata": {},
   "source": [
    "As before, we can implement a specialization or univeral instantiation, where the variable $x$ is replaced with the specific instance $f(y)$. To do so, we include the original `Forall` expression as an assumption, along with the assumption that $Q(f(y))$ is TRUE:"
   ]
  },
  {
   "cell_type": "code",
   "execution_count": 54,
   "metadata": {},
   "outputs": [
    {
     "data": {
      "text/html": [
       "<span style=\"font-size:20px;\"><a class=\"ProveItLink\" href=\"__pv_it/9a66db7b6809c51a3500072de1f3869c3d3ac6220/expr.ipynb\"><img src=\"__pv_it/9a66db7b6809c51a3500072de1f3869c3d3ac6220/expr.png\" style=\"display:inline;vertical-align:middle;\" /></a> &#x22A2;&nbsp;<a class=\"ProveItLink\" href=\"__pv_it/e16eba53b0be132ecdb115b19c32e9f6e91766930/expr.ipynb\"><img src=\"__pv_it/e16eba53b0be132ecdb115b19c32e9f6e91766930/expr.png\" style=\"display:inline;vertical-align:middle;\" /></a></span>"
      ],
      "text/plain": [
       "{forall_{x | Q(x)} P(x) , Q(f(y))} |- P(f(y))"
      ]
     },
     "execution_count": 54,
     "metadata": {},
     "output_type": "execute_result"
    }
   ],
   "source": [
    "noDomainForallExpr.specialize({x:fy}, assumptions=[noDomainForallExpr, Function(Q, fy)])"
   ]
  },
  {
   "cell_type": "markdown",
   "metadata": {},
   "source": [
    "### Lambda scope restrictions\n",
    "\n",
    "In `tutorial01_core_expr`, we noted scoping restrictions that apply to **Lambda** expressions in the context of *expression substitution*.  That restriction carries over to *specialization* and is very important.  Consider the following example."
   ]
  },
  {
   "cell_type": "code",
   "execution_count": 55,
   "metadata": {},
   "outputs": [
    {
     "data": {
      "text/html": [
       "<strong id=\"forallExistsExpr\">forallExistsExpr:</strong> <a class=\"ProveItLink\" href=\"__pv_it/5385a41e4d26dd6b26883c027350694807c8c9aa0/expr.ipynb\"><img src=\"__pv_it/5385a41e4d26dd6b26883c027350694807c8c9aa0/expr.png\" style=\"display:inline;vertical-align:middle;\" /></a><br>"
      ],
      "text/plain": [
       "forallExistsExpr: forall_{x} [exists_{y} (x != y)]"
      ]
     },
     "execution_count": 55,
     "metadata": {},
     "output_type": "execute_result"
    }
   ],
   "source": [
    "from proveit.logic import NotEquals, Exists\n",
    "from proveit._common_ import Pxy, y, fy\n",
    "forallExistsExpr = Forall(x, Exists(y, NotEquals(x, y)))"
   ]
  },
  {
   "cell_type": "markdown",
   "metadata": {},
   "source": [
    "Note that, while `Forall` ($\\forall$) has a special meaning in the **Prove-It** core, `Exists` ($\\exists$) and `Equals` ($\\neq$) do not (they are defined via **axioms** within the `proveit.logic` package, which we will explain in a later chapter).  We are using them here to make our point more clear.  Just note that `Exists` is another kind of `OperationOverInstances` that operates on a **lambda** function:"
   ]
  },
  {
   "cell_type": "code",
   "execution_count": 56,
   "metadata": {},
   "outputs": [
    {
     "data": {
      "text/html": [
       "<table><tr><th>&nbsp;</th><th>core type</th><th>sub-expressions</th><th>expression</th></tr>\n",
       "<tr><td>0</td><td>Operation</td><td>operator:&nbsp;1<br>operand:&nbsp;2<br></td><td><a class=\"ProveItLink\" href=\"__pv_it/c91bd187d105e662a2ac9785afe36fc99798fddf0/expr.ipynb\"><img src=\"__pv_it/c91bd187d105e662a2ac9785afe36fc99798fddf0/expr.png\" style=\"display:inline;vertical-align:middle;\" /></a></td></tr>\n",
       "<tr><td>1</td><td>Literal</td><td></td><td><a class=\"ProveItLink\" href=\"../packages/proveit/logic/boolean/quantification/existential/__pv_it/da19b8f23feda7f65e2e1ac67a7814d51a597b7d0/expr.ipynb\"><img src=\"../packages/proveit/logic/boolean/quantification/existential/__pv_it/da19b8f23feda7f65e2e1ac67a7814d51a597b7d0/expr.png\" style=\"display:inline;vertical-align:middle;\" /></a></td></tr>\n",
       "<tr><td>2</td><td>Lambda</td><td>parameter:&nbsp;7<br>body:&nbsp;3<br></td><td><a class=\"ProveItLink\" href=\"__pv_it/99678345bb5656bb610f512dd78c93f69740ec410/expr.ipynb\"><img src=\"__pv_it/99678345bb5656bb610f512dd78c93f69740ec410/expr.png\" style=\"display:inline;vertical-align:middle;\" /></a></td></tr>\n",
       "<tr><td>3</td><td>Operation</td><td>operator:&nbsp;4<br>operands:&nbsp;5<br></td><td><a class=\"ProveItLink\" href=\"../packages/proveit/__pv_it/4ebbf9cd5f2e78405c64e81897dc9bd29f55abca0/expr.ipynb\"><img src=\"../packages/proveit/__pv_it/4ebbf9cd5f2e78405c64e81897dc9bd29f55abca0/expr.png\" style=\"display:inline;vertical-align:middle;\" /></a></td></tr>\n",
       "<tr><td>4</td><td>Variable</td><td></td><td><a class=\"ProveItLink\" href=\"../packages/proveit/__pv_it/6369c6c8083c513ca7161ace249642d040f9327d0/expr.ipynb\"><img src=\"../packages/proveit/__pv_it/6369c6c8083c513ca7161ace249642d040f9327d0/expr.png\" style=\"display:inline;vertical-align:middle;\" /></a></td></tr>\n",
       "<tr><td>5</td><td>ExprList</td><td>6, 7</td><td><a class=\"ProveItLink\" href=\"__pv_it/49ffa46c24d385ebbd0014895cf61cc7cb8bd9bb0/expr.ipynb\"><img src=\"__pv_it/49ffa46c24d385ebbd0014895cf61cc7cb8bd9bb0/expr.png\" style=\"display:inline;vertical-align:middle;\" /></a></td></tr>\n",
       "<tr><td>6</td><td>Variable</td><td></td><td><a class=\"ProveItLink\" href=\"../packages/proveit/__pv_it/530be409e3083890784cf1d7b28c9e67e90af9360/expr.ipynb\"><img src=\"../packages/proveit/__pv_it/530be409e3083890784cf1d7b28c9e67e90af9360/expr.png\" style=\"display:inline;vertical-align:middle;\" /></a></td></tr>\n",
       "<tr><td>7</td><td>Variable</td><td></td><td><a class=\"ProveItLink\" href=\"../packages/proveit/__pv_it/f8b9edf8e16034727f0aad55bb83e392c3db40d40/expr.ipynb\"><img src=\"../packages/proveit/__pv_it/f8b9edf8e16034727f0aad55bb83e392c3db40d40/expr.png\" style=\"display:inline;vertical-align:middle;\" /></a></td></tr>\n",
       "</table>\n"
      ],
      "text/plain": [
       "0. exists_{y} P(x , y)\n",
       "   core type: Operation\n",
       "   operator: 1\n",
       "   operand: 2\n",
       "1. exists\n",
       "   core type: Literal\n",
       "   sub-expressions: \n",
       "2. y -> P(x , y)\n",
       "   core type: Lambda\n",
       "   parameter: 7\n",
       "   body: 3\n",
       "3. P(x , y)\n",
       "   core type: Operation\n",
       "   operator: 4\n",
       "   operands: 5\n",
       "4. P\n",
       "   core type: Variable\n",
       "   sub-expressions: \n",
       "5. (x , y)\n",
       "   core type: ExprList\n",
       "   sub-expressions: 6, 7\n",
       "6. x\n",
       "   core type: Variable\n",
       "   sub-expressions: \n",
       "7. y\n",
       "   core type: Variable\n",
       "   sub-expressions: "
      ]
     },
     "execution_count": 56,
     "metadata": {},
     "output_type": "execute_result"
    }
   ],
   "source": [
    "Exists(y, Pxy).exprInfo()"
   ]
  },
  {
   "cell_type": "markdown",
   "metadata": {},
   "source": [
    "If we try to specialize $x$ as $y$ in `nestedForall`, this will fail:"
   ]
  },
  {
   "cell_type": "code",
   "execution_count": 57,
   "metadata": {},
   "outputs": [
    {
     "name": "stdout",
     "output_type": "stream",
     "text": [
      "EXPECTED ERROR: Must not make substitution with reserved variables  (i.e., parameters of a Lambda function)\n"
     ]
    }
   ],
   "source": [
    "from proveit import ScopingViolation\n",
    "try:\n",
    "    forallExistsExpr.specialize({x:y}, assumptions={forallExistsExpr})\n",
    "    assert False, \"Expecting an ScopingViolation error; should not make it to this point\"\n",
    "except ScopingViolation as e:\n",
    "    print(\"EXPECTED ERROR:\", e)"
   ]
  },
  {
   "cell_type": "markdown",
   "metadata": {},
   "source": [
    "And of course this *should* fail.  We cannot derive $\\exists_y y \\neq y$ by assuming $\\forall_{ x } \\left[\\exists_y x \\neq y \\right]$.  The former is a stronger statement.  We chose this example, in fact, because the latter can be argued as typically true but the former is never true using reasonable definitions.  Where this goes wrong is in violating the scope of $\\exists_y$.  It is introducing $y$ as a new **variable** within the sub-expression $\\exists_y x \\neq y$.  This **label** is off limits to $x$ which is quantified outside of this sub-expression.  We can *specialize* $x$ to whatever we want as long as we respect these scoping restrictions.\n",
    "\n",
    "In fact, it is not simply $y$ that is off limits; all **expressions** involving $y$ are off limits. Assuming $\\forall_{ x } \\left[\\exists_y x \\neq y \\right]$ should not allow us to derive $\\exists_y f(y) \\neq y$, and the attempted specialization does indeed fail:"
   ]
  },
  {
   "cell_type": "code",
   "execution_count": 58,
   "metadata": {},
   "outputs": [
    {
     "name": "stdout",
     "output_type": "stream",
     "text": [
      "EXPECTED ERROR: Must not make substitution with reserved variables  (i.e., parameters of a Lambda function)\n"
     ]
    }
   ],
   "source": [
    "from proveit import ScopingViolation\n",
    "try:\n",
    "    forallExistsExpr.specialize({x:fy}, assumptions={forallExistsExpr})\n",
    "    assert False, \"Expecting an ScopingViolation error; should not make it to this point\"\n",
    "except ScopingViolation as e:\n",
    "    print(\"EXPECTED ERROR:\", e)"
   ]
  },
  {
   "cell_type": "markdown",
   "metadata": {},
   "source": [
    "It should also be noted that within a scope, a **variable** may be reused with a different meaning.  This should generally be avoided as it makes **expressions** unclear, but the functionality should be well-defined in case it ever happens.  If this happens, we treat it as a distinct **variable** from anything outside of the scope (that just happens to have the same name).  It can be confusing and should be avoided, but it is well-defined.  For example, consider the following nested `Forall` expression:"
   ]
  },
  {
   "cell_type": "code",
   "execution_count": 59,
   "metadata": {},
   "outputs": [
    {
     "data": {
      "text/html": [
       "<strong id=\"redundantInstanceVarExpr\">redundantInstanceVarExpr:</strong> <a class=\"ProveItLink\" href=\"__pv_it/5a94d88ea85e1efd767b80cc81315847ebcfb1d50/expr.ipynb\"><img src=\"__pv_it/5a94d88ea85e1efd767b80cc81315847ebcfb1d50/expr.png\" style=\"display:inline;vertical-align:middle;\" /></a><br>"
      ],
      "text/plain": [
       "redundantInstanceVarExpr: forall_{x} (P(x) and [forall_{x} Q(x)])"
      ]
     },
     "execution_count": 59,
     "metadata": {},
     "output_type": "execute_result"
    }
   ],
   "source": [
    "from proveit.logic import And\n",
    "redundantInstanceVarExpr = Forall(x, And(Px, Forall(x, Qx)))"
   ]
  },
  {
   "cell_type": "markdown",
   "metadata": {},
   "source": [
    "Specializing the outer $x$ does not and should not change the inner $x$, which is treated as a distinct **variable**:"
   ]
  },
  {
   "cell_type": "code",
   "execution_count": 60,
   "metadata": {},
   "outputs": [
    {
     "data": {
      "text/html": [
       "<span style=\"font-size:20px;\"><a class=\"ProveItLink\" href=\"__pv_it/16e810f7f86c7c6190927b4fdf7d7cdbd02b8e260/expr.ipynb\"><img src=\"__pv_it/16e810f7f86c7c6190927b4fdf7d7cdbd02b8e260/expr.png\" style=\"display:inline;vertical-align:middle;\" /></a> &#x22A2;&nbsp;<a class=\"ProveItLink\" href=\"__pv_it/26d51d99df9f26dc929d10a047c477e374bd9a870/expr.ipynb\"><img src=\"__pv_it/26d51d99df9f26dc929d10a047c477e374bd9a870/expr.png\" style=\"display:inline;vertical-align:middle;\" /></a></span>"
      ],
      "text/plain": [
       "{forall_{x} (P(x) and [forall_{x} Q(x)])} |- P(f(y)) and [forall_{x} Q(x)]"
      ]
     },
     "execution_count": 60,
     "metadata": {},
     "output_type": "execute_result"
    }
   ],
   "source": [
    "redundantInstanceVarExpr.specialize({x:fy}, assumptions={redundantInstanceVarExpr})"
   ]
  },
  {
   "cell_type": "code",
   "execution_count": 61,
   "metadata": {},
   "outputs": [
    {
     "data": {
      "text/html": [
       "<a class=\"ProveItLink\" href=\"__pv_it/7cca246885c411c4e95b9060a5dfba933dd3b6670/expr.ipynb\"><img src=\"__pv_it/7cca246885c411c4e95b9060a5dfba933dd3b6670/expr.png\" style=\"display:inline;vertical-align:middle;\" /></a>"
      ],
      "text/plain": [
       "forall_{y} (P(y) and [forall_{y} Q(y)])"
      ]
     },
     "execution_count": 61,
     "metadata": {},
     "output_type": "execute_result"
    }
   ],
   "source": [
    "redundantInstanceVarExpr.relabeled({x:y})"
   ]
  },
  {
   "cell_type": "markdown",
   "metadata": {},
   "source": [
    "At this time, there is no straightforward way to specialize the inner $x$ itself (another reason to avoid such potentially confusing constructions)."
   ]
  },
  {
   "cell_type": "markdown",
   "metadata": {},
   "source": [
    "### Operand, operator, or operation specialization\n",
    "\n",
    "*Specializing* different parts of an **operation** works essentially the same way as it does with *expression substition*.\n",
    "\n",
    "We will use the `substitution` axiom of `proveit.logic.equality` for demonstrations in this section out of convenience.  **Axioms** and the `proveit.logic` package will be discussed in more detail later.  For now, we note that **axioms** (and **theorems**) are taken to be true statements without proof, as you can see below."
   ]
  },
  {
   "cell_type": "code",
   "execution_count": 62,
   "metadata": {},
   "outputs": [
    {
     "data": {
      "text/html": [
       "<span style=\"font-size:20px;\"> &#x22A2;&nbsp;<a class=\"ProveItLink\" href=\"../packages/proveit/logic/equality/__pv_it/6ec2193ff7f2a0001aea3e112ec0ee2dddc5beb10/expr.ipynb\"><img src=\"../packages/proveit/logic/equality/__pv_it/6ec2193ff7f2a0001aea3e112ec0ee2dddc5beb10/expr.png\" style=\"display:inline;vertical-align:middle;\" /></a></span>"
      ],
      "text/plain": [
       "|- forall_{f, x, y | x = y} (f(x) = f(y))"
      ]
     },
     "execution_count": 62,
     "metadata": {},
     "output_type": "execute_result"
    }
   ],
   "source": [
    "from proveit.logic.equality._axioms_ import substitution\n",
    "substitution"
   ]
  },
  {
   "cell_type": "code",
   "execution_count": 63,
   "metadata": {},
   "outputs": [
    {
     "data": {
      "text/html": [
       "<table><tr><th>&nbsp;</th><th>step type</th><th>requirements</th><th>statement</th></tr>\n",
       "<tr><td>0</td><td>axiom</td><td></td><td><span style=\"font-size:20px;\"> &#x22A2;&nbsp;<a class=\"ProveItLink\" href=\"../packages/proveit/logic/equality/__pv_it/6ec2193ff7f2a0001aea3e112ec0ee2dddc5beb10/expr.ipynb\"><img src=\"../packages/proveit/logic/equality/__pv_it/6ec2193ff7f2a0001aea3e112ec0ee2dddc5beb10/expr.png\" style=\"display:inline;vertical-align:middle;\" /></a></span></td></tr>\n",
       "<tr><td>&nbsp;</td><td colspan=4 style-\"text-align:left\"><a class=\"ProveItLink\" href=\"../packages/proveit/logic/equality/_axioms_.ipynb#substitution\">proveit.logic.equality.substitution</a></td></tr></table>"
      ],
      "text/plain": [
       "\tstep type\trequirements\tstatement\n",
       "0\taxiom\t\t|- forall_{f, x, y | x = y} (f(x) = f(y))\n",
       "\tproveit.logic.equality.substitution"
      ]
     },
     "execution_count": 63,
     "metadata": {},
     "output_type": "execute_result"
    }
   ],
   "source": [
    "substitution.proof()"
   ]
  },
  {
   "cell_type": "markdown",
   "metadata": {},
   "source": [
    "Let's grab the $x=y$ condition for use below."
   ]
  },
  {
   "cell_type": "code",
   "execution_count": 64,
   "metadata": {},
   "outputs": [
    {
     "data": {
      "text/html": [
       "<strong id=\"x_eq_y\">x_eq_y:</strong> <a class=\"ProveItLink\" href=\"__pv_it/74ae967be5bd1c096ad29ed9e31ac59a533f07b30/expr.ipynb\"><img src=\"__pv_it/74ae967be5bd1c096ad29ed9e31ac59a533f07b30/expr.png\" style=\"display:inline;vertical-align:middle;\" /></a><br>"
      ],
      "text/plain": [
       "x_eq_y: x = y"
      ]
     },
     "execution_count": 64,
     "metadata": {},
     "output_type": "execute_result"
    }
   ],
   "source": [
    "x_eq_y = substitution.allConditions()[0]"
   ]
  },
  {
   "cell_type": "markdown",
   "metadata": {},
   "source": [
    "Operator and operand *specialization* are straightforward:"
   ]
  },
  {
   "cell_type": "code",
   "execution_count": 65,
   "metadata": {},
   "outputs": [
    {
     "data": {
      "text/html": [
       "<strong id=\"operatorSubstitution\">operatorSubstitution:</strong> <span style=\"font-size:20px;\"> &#x22A2;&nbsp;<a class=\"ProveItLink\" href=\"__pv_it/4e77880421ab00090db64434c64e718abd28fb6e0/expr.ipynb\"><img src=\"__pv_it/4e77880421ab00090db64434c64e718abd28fb6e0/expr.png\" style=\"display:inline;vertical-align:middle;\" /></a></span><br>"
      ],
      "text/plain": [
       "operatorSubstitution: |- forall_{x, y | x = y} (g(x) = g(y))"
      ]
     },
     "execution_count": 65,
     "metadata": {},
     "output_type": "execute_result"
    }
   ],
   "source": [
    "from proveit._common_ import f, g\n",
    "operatorSubstitution = substitution.specialize({f:g})"
   ]
  },
  {
   "cell_type": "code",
   "execution_count": 66,
   "metadata": {},
   "outputs": [
    {
     "data": {
      "text/html": [
       "<table><tr><th>&nbsp;</th><th>step type</th><th>requirements</th><th>statement</th></tr>\n",
       "<tr><td>0</td><td>specialization</td><td>1</td><td><span style=\"font-size:20px;\"> &#x22A2;&nbsp;<a class=\"ProveItLink\" href=\"__pv_it/4e77880421ab00090db64434c64e718abd28fb6e0/expr.ipynb\"><img src=\"__pv_it/4e77880421ab00090db64434c64e718abd28fb6e0/expr.png\" style=\"display:inline;vertical-align:middle;\" /></a></span></td></tr>\n",
       "<tr><td>&nbsp;</td><td colspan=4 style=\"text-align:left\"><span style=\"font-size:20px;\"><a class=\"ProveItLink\" href=\"../packages/proveit/__pv_it/4d51ee1e62d011d06d4528b97697bf3da60c9de60/expr.ipynb\"><img src=\"../packages/proveit/__pv_it/4d51ee1e62d011d06d4528b97697bf3da60c9de60/expr.png\" style=\"display:inline;vertical-align:middle;\" /></a> : <a class=\"ProveItLink\" href=\"../packages/proveit/__pv_it/b5004dd09038f1a7d88dab9010b943185ce1d3ea0/expr.ipynb\"><img src=\"../packages/proveit/__pv_it/b5004dd09038f1a7d88dab9010b943185ce1d3ea0/expr.png\" style=\"display:inline;vertical-align:middle;\" /></a></span></td></tr><tr><td>1</td><td>axiom</td><td></td><td><span style=\"font-size:20px;\"> &#x22A2;&nbsp;<a class=\"ProveItLink\" href=\"../packages/proveit/logic/equality/__pv_it/6ec2193ff7f2a0001aea3e112ec0ee2dddc5beb10/expr.ipynb\"><img src=\"../packages/proveit/logic/equality/__pv_it/6ec2193ff7f2a0001aea3e112ec0ee2dddc5beb10/expr.png\" style=\"display:inline;vertical-align:middle;\" /></a></span></td></tr>\n",
       "<tr><td>&nbsp;</td><td colspan=4 style-\"text-align:left\"><a class=\"ProveItLink\" href=\"../packages/proveit/logic/equality/_axioms_.ipynb#substitution\">proveit.logic.equality.substitution</a></td></tr></table>"
      ],
      "text/plain": [
       "\tstep type\trequirements\tstatement\n",
       "0\tspecialization\t1\t|- forall_{x, y | x = y} (g(x) = g(y))\n",
       "\tf : g\n",
       "1\taxiom\t\t|- forall_{f, x, y | x = y} (f(x) = f(y))\n",
       "\tproveit.logic.equality.substitution"
      ]
     },
     "execution_count": 66,
     "metadata": {},
     "output_type": "execute_result"
    }
   ],
   "source": [
    "operatorSubstitution.proof()"
   ]
  },
  {
   "cell_type": "markdown",
   "metadata": {},
   "source": [
    "Note that $x$ and $y$ mapped to themselves by default.  When a mapping is not specified, the default is to map the **variable** to itself.\n",
    "\n",
    "Next we explicitly specialize the operands $x$ and $y$ to $a$ and $b$, respectively, in the original `substitution` axiom (and notice that we must explicitly include the assumption that $a = b$, else the `substitution` axiom will not apply):"
   ]
  },
  {
   "cell_type": "code",
   "execution_count": 67,
   "metadata": {},
   "outputs": [
    {
     "data": {
      "text/html": [
       "<strong id=\"operandSubstitution\">operandSubstitution:</strong> <span style=\"font-size:20px;\"><a class=\"ProveItLink\" href=\"__pv_it/8d8a3084855486e794f4b554588278ace1f481070/expr.ipynb\"><img src=\"__pv_it/8d8a3084855486e794f4b554588278ace1f481070/expr.png\" style=\"display:inline;vertical-align:middle;\" /></a> &#x22A2;&nbsp;<a class=\"ProveItLink\" href=\"__pv_it/a89a86e29c59ae3a015546dc7d1a6b5ee9e564870/expr.ipynb\"><img src=\"__pv_it/a89a86e29c59ae3a015546dc7d1a6b5ee9e564870/expr.png\" style=\"display:inline;vertical-align:middle;\" /></a></span><br>"
      ],
      "text/plain": [
       "operandSubstitution: {a = b} |- f(a) = f(b)"
      ]
     },
     "execution_count": 67,
     "metadata": {},
     "output_type": "execute_result"
    }
   ],
   "source": [
    "from proveit._common_ import a, b\n",
    "from proveit.logic import Equals\n",
    "a_eq_b = Equals(a, b)\n",
    "operandSubstitution = substitution.specialize({x:a, y:b}, assumptions=[a_eq_b])"
   ]
  },
  {
   "cell_type": "code",
   "execution_count": 68,
   "metadata": {},
   "outputs": [
    {
     "data": {
      "text/html": [
       "<table><tr><th>&nbsp;</th><th>step type</th><th>requirements</th><th>statement</th></tr>\n",
       "<tr><td>0</td><td>specialization</td><td>1, 2</td><td><span style=\"font-size:20px;\"><a class=\"ProveItLink\" href=\"__pv_it/8d8a3084855486e794f4b554588278ace1f481070/expr.ipynb\"><img src=\"__pv_it/8d8a3084855486e794f4b554588278ace1f481070/expr.png\" style=\"display:inline;vertical-align:middle;\" /></a> &#x22A2;&nbsp;<a class=\"ProveItLink\" href=\"__pv_it/a89a86e29c59ae3a015546dc7d1a6b5ee9e564870/expr.ipynb\"><img src=\"__pv_it/a89a86e29c59ae3a015546dc7d1a6b5ee9e564870/expr.png\" style=\"display:inline;vertical-align:middle;\" /></a></span></td></tr>\n",
       "<tr><td>&nbsp;</td><td colspan=4 style=\"text-align:left\"><span style=\"font-size:20px;\"><a class=\"ProveItLink\" href=\"../packages/proveit/__pv_it/4d51ee1e62d011d06d4528b97697bf3da60c9de60/expr.ipynb\"><img src=\"../packages/proveit/__pv_it/4d51ee1e62d011d06d4528b97697bf3da60c9de60/expr.png\" style=\"display:inline;vertical-align:middle;\" /></a> : <a class=\"ProveItLink\" href=\"../packages/proveit/__pv_it/4d51ee1e62d011d06d4528b97697bf3da60c9de60/expr.ipynb\"><img src=\"../packages/proveit/__pv_it/4d51ee1e62d011d06d4528b97697bf3da60c9de60/expr.png\" style=\"display:inline;vertical-align:middle;\" /></a>, <a class=\"ProveItLink\" href=\"../packages/proveit/__pv_it/530be409e3083890784cf1d7b28c9e67e90af9360/expr.ipynb\"><img src=\"../packages/proveit/__pv_it/530be409e3083890784cf1d7b28c9e67e90af9360/expr.png\" style=\"display:inline;vertical-align:middle;\" /></a> : <a class=\"ProveItLink\" href=\"../packages/proveit/__pv_it/07527342713064c87612d00d8557c53d53d5324a0/expr.ipynb\"><img src=\"../packages/proveit/__pv_it/07527342713064c87612d00d8557c53d53d5324a0/expr.png\" style=\"display:inline;vertical-align:middle;\" /></a>, <a class=\"ProveItLink\" href=\"../packages/proveit/__pv_it/f8b9edf8e16034727f0aad55bb83e392c3db40d40/expr.ipynb\"><img src=\"../packages/proveit/__pv_it/f8b9edf8e16034727f0aad55bb83e392c3db40d40/expr.png\" style=\"display:inline;vertical-align:middle;\" /></a> : <a class=\"ProveItLink\" href=\"../packages/proveit/__pv_it/6840a4fa6c106149dc16a131294d0c5e44f1b0480/expr.ipynb\"><img src=\"../packages/proveit/__pv_it/6840a4fa6c106149dc16a131294d0c5e44f1b0480/expr.png\" style=\"display:inline;vertical-align:middle;\" /></a></span></td></tr><tr><td>1</td><td>axiom</td><td></td><td><span style=\"font-size:20px;\"> &#x22A2;&nbsp;<a class=\"ProveItLink\" href=\"../packages/proveit/logic/equality/__pv_it/6ec2193ff7f2a0001aea3e112ec0ee2dddc5beb10/expr.ipynb\"><img src=\"../packages/proveit/logic/equality/__pv_it/6ec2193ff7f2a0001aea3e112ec0ee2dddc5beb10/expr.png\" style=\"display:inline;vertical-align:middle;\" /></a></span></td></tr>\n",
       "<tr><td>&nbsp;</td><td colspan=4 style-\"text-align:left\"><a class=\"ProveItLink\" href=\"../packages/proveit/logic/equality/_axioms_.ipynb#substitution\">proveit.logic.equality.substitution</a></td></tr><tr><td>2</td><td>assumption</td><td></td><td><span style=\"font-size:20px;\"><a class=\"ProveItLink\" href=\"__pv_it/8d8a3084855486e794f4b554588278ace1f481070/expr.ipynb\"><img src=\"__pv_it/8d8a3084855486e794f4b554588278ace1f481070/expr.png\" style=\"display:inline;vertical-align:middle;\" /></a> &#x22A2;&nbsp;<a class=\"ProveItLink\" href=\"__pv_it/8fb8e18e6a4a7fe5a24ad35251804ca6599d89310/expr.ipynb\"><img src=\"__pv_it/8fb8e18e6a4a7fe5a24ad35251804ca6599d89310/expr.png\" style=\"display:inline;vertical-align:middle;\" /></a></span></td></tr>\n",
       "</table>"
      ],
      "text/plain": [
       "\tstep type\trequirements\tstatement\n",
       "0\tspecialization\t1, 2\t{a = b} |- f(a) = f(b)\n",
       "\tf : f, x : a, y : b\n",
       "1\taxiom\t\t|- forall_{f, x, y | x = y} (f(x) = f(y))\n",
       "\tproveit.logic.equality.substitution\n",
       "2\tassumption\t\t{a = b} |- a = b"
      ]
     },
     "execution_count": 68,
     "metadata": {},
     "output_type": "execute_result"
    }
   ],
   "source": [
    "operandSubstitution.proof()"
   ]
  },
  {
   "cell_type": "markdown",
   "metadata": {},
   "source": [
    "Operation substitution can be done explicitly via a **lambda** expression just as we saw with *expression substitution*.  The **lambda** expression is not literally substituted in; rather, the function that it represents is applied as the operation."
   ]
  },
  {
   "cell_type": "code",
   "execution_count": 69,
   "metadata": {},
   "outputs": [
    {
     "data": {
      "text/html": [
       "<strong id=\"operationSubstitution\">operationSubstitution:</strong> <span style=\"font-size:20px;\"> &#x22A2;&nbsp;<a class=\"ProveItLink\" href=\"__pv_it/d56c522ff27a845ef22877e62e18a00a798d49dc0/expr.ipynb\"><img src=\"__pv_it/d56c522ff27a845ef22877e62e18a00a798d49dc0/expr.png\" style=\"display:inline;vertical-align:middle;\" /></a></span><br>"
      ],
      "text/plain": [
       "operationSubstitution: |- forall_{x, y | x = y} ((x + a) = (y + a))"
      ]
     },
     "execution_count": 69,
     "metadata": {},
     "output_type": "execute_result"
    }
   ],
   "source": [
    "operationSubstitution = substitution.specialize({f:Lambda(x, Add(x, a))})"
   ]
  },
  {
   "cell_type": "code",
   "execution_count": 70,
   "metadata": {},
   "outputs": [
    {
     "data": {
      "text/html": [
       "<table><tr><th>&nbsp;</th><th>step type</th><th>requirements</th><th>statement</th></tr>\n",
       "<tr><td>0</td><td>specialization</td><td>1</td><td><span style=\"font-size:20px;\"> &#x22A2;&nbsp;<a class=\"ProveItLink\" href=\"__pv_it/d56c522ff27a845ef22877e62e18a00a798d49dc0/expr.ipynb\"><img src=\"__pv_it/d56c522ff27a845ef22877e62e18a00a798d49dc0/expr.png\" style=\"display:inline;vertical-align:middle;\" /></a></span></td></tr>\n",
       "<tr><td>&nbsp;</td><td colspan=4 style=\"text-align:left\"><span style=\"font-size:20px;\"><a class=\"ProveItLink\" href=\"../packages/proveit/__pv_it/182d3f256e21dc75ea1ec3168bda49a871e4700a0/expr.ipynb\"><img src=\"../packages/proveit/__pv_it/182d3f256e21dc75ea1ec3168bda49a871e4700a0/expr.png\" style=\"display:inline;vertical-align:middle;\" /></a> : <a class=\"ProveItLink\" href=\"__pv_it/24e7b55e66b6069db7da0c84c69a02ae3d51ed4d0/expr.ipynb\"><img src=\"__pv_it/24e7b55e66b6069db7da0c84c69a02ae3d51ed4d0/expr.png\" style=\"display:inline;vertical-align:middle;\" /></a></span></td></tr><tr><td>1</td><td>axiom</td><td></td><td><span style=\"font-size:20px;\"> &#x22A2;&nbsp;<a class=\"ProveItLink\" href=\"../packages/proveit/logic/equality/__pv_it/6ec2193ff7f2a0001aea3e112ec0ee2dddc5beb10/expr.ipynb\"><img src=\"../packages/proveit/logic/equality/__pv_it/6ec2193ff7f2a0001aea3e112ec0ee2dddc5beb10/expr.png\" style=\"display:inline;vertical-align:middle;\" /></a></span></td></tr>\n",
       "<tr><td>&nbsp;</td><td colspan=4 style-\"text-align:left\"><a class=\"ProveItLink\" href=\"../packages/proveit/logic/equality/_axioms_.ipynb#substitution\">proveit.logic.equality.substitution</a></td></tr></table>"
      ],
      "text/plain": [
       "\tstep type\trequirements\tstatement\n",
       "0\tspecialization\t1\t|- forall_{x, y | x = y} ((x + a) = (y + a))\n",
       "\tf(x) : x + a\n",
       "1\taxiom\t\t|- forall_{f, x, y | x = y} (f(x) = f(y))\n",
       "\tproveit.logic.equality.substitution"
      ]
     },
     "execution_count": 70,
     "metadata": {},
     "output_type": "execute_result"
    }
   ],
   "source": [
    "operationSubstitution.proof()"
   ]
  },
  {
   "cell_type": "markdown",
   "metadata": {},
   "source": [
    "An alternative way to specify an operation substitution is to map the operation applied to a **variable** (*e.g.*, the operation $f$ applied to $x$ as $f(x)$) onto an **expression** that uses this same **variable** (*e.g.*, `Add(x, a)`).  In the example below, we map $f(x)$ to $x + a$.  This will be internally translated to the same **lambda** expression as before: $x \\mapsto x + a$."
   ]
  },
  {
   "cell_type": "code",
   "execution_count": 71,
   "metadata": {},
   "outputs": [
    {
     "data": {
      "text/html": [
       "<strong id=\"operationSubstitution2\">operationSubstitution2:</strong> <span style=\"font-size:20px;\"> &#x22A2;&nbsp;<a class=\"ProveItLink\" href=\"__pv_it/d56c522ff27a845ef22877e62e18a00a798d49dc0/expr.ipynb\"><img src=\"__pv_it/d56c522ff27a845ef22877e62e18a00a798d49dc0/expr.png\" style=\"display:inline;vertical-align:middle;\" /></a></span><br>"
      ],
      "text/plain": [
       "operationSubstitution2: |- forall_{x, y | x = y} ((x + a) = (y + a))"
      ]
     },
     "execution_count": 71,
     "metadata": {},
     "output_type": "execute_result"
    }
   ],
   "source": [
    "from proveit._common_ import fx\n",
    "operationSubstitution2 = substitution.specialize({fx:Add(x, a)})"
   ]
  },
  {
   "cell_type": "markdown",
   "metadata": {},
   "source": [
    "The proof is exactly the same as before."
   ]
  },
  {
   "cell_type": "code",
   "execution_count": 72,
   "metadata": {},
   "outputs": [
    {
     "data": {
      "text/html": [
       "<table><tr><th>&nbsp;</th><th>step type</th><th>requirements</th><th>statement</th></tr>\n",
       "<tr><td>0</td><td>specialization</td><td>1</td><td><span style=\"font-size:20px;\"> &#x22A2;&nbsp;<a class=\"ProveItLink\" href=\"__pv_it/d56c522ff27a845ef22877e62e18a00a798d49dc0/expr.ipynb\"><img src=\"__pv_it/d56c522ff27a845ef22877e62e18a00a798d49dc0/expr.png\" style=\"display:inline;vertical-align:middle;\" /></a></span></td></tr>\n",
       "<tr><td>&nbsp;</td><td colspan=4 style=\"text-align:left\"><span style=\"font-size:20px;\"><a class=\"ProveItLink\" href=\"../packages/proveit/__pv_it/182d3f256e21dc75ea1ec3168bda49a871e4700a0/expr.ipynb\"><img src=\"../packages/proveit/__pv_it/182d3f256e21dc75ea1ec3168bda49a871e4700a0/expr.png\" style=\"display:inline;vertical-align:middle;\" /></a> : <a class=\"ProveItLink\" href=\"__pv_it/24e7b55e66b6069db7da0c84c69a02ae3d51ed4d0/expr.ipynb\"><img src=\"__pv_it/24e7b55e66b6069db7da0c84c69a02ae3d51ed4d0/expr.png\" style=\"display:inline;vertical-align:middle;\" /></a></span></td></tr><tr><td>1</td><td>axiom</td><td></td><td><span style=\"font-size:20px;\"> &#x22A2;&nbsp;<a class=\"ProveItLink\" href=\"../packages/proveit/logic/equality/__pv_it/6ec2193ff7f2a0001aea3e112ec0ee2dddc5beb10/expr.ipynb\"><img src=\"../packages/proveit/logic/equality/__pv_it/6ec2193ff7f2a0001aea3e112ec0ee2dddc5beb10/expr.png\" style=\"display:inline;vertical-align:middle;\" /></a></span></td></tr>\n",
       "<tr><td>&nbsp;</td><td colspan=4 style-\"text-align:left\"><a class=\"ProveItLink\" href=\"../packages/proveit/logic/equality/_axioms_.ipynb#substitution\">proveit.logic.equality.substitution</a></td></tr></table>"
      ],
      "text/plain": [
       "\tstep type\trequirements\tstatement\n",
       "0\tspecialization\t1\t|- forall_{x, y | x = y} ((x + a) = (y + a))\n",
       "\tf(x) : x + a\n",
       "1\taxiom\t\t|- forall_{f, x, y | x = y} (f(x) = f(y))\n",
       "\tproveit.logic.equality.substitution"
      ]
     },
     "execution_count": 72,
     "metadata": {},
     "output_type": "execute_result"
    }
   ],
   "source": [
    "operationSubstitution2.proof()"
   ]
  },
  {
   "cell_type": "markdown",
   "metadata": {},
   "source": [
    "### Specializing multiple levels simultaneously\n",
    "\n",
    "When `Forall` operations are nested, the universal quantifications may be specialized separately.\n",
    "\n",
    "Consider, for example, the nested quantification expression $\\forall_x [\\forall_y [\\forall_{z|z<(x+y)} P(x, y, z)]]$, defined below:"
   ]
  },
  {
   "cell_type": "code",
   "execution_count": 73,
   "metadata": {},
   "outputs": [
    {
     "data": {
      "text/html": [
       "<strong id=\"nestedForall\">nestedForall:</strong> <a class=\"ProveItLink\" href=\"__pv_it/595618042814b9d80bd0e44e3ee827cfad89f18a0/expr.ipynb\"><img src=\"__pv_it/595618042814b9d80bd0e44e3ee827cfad89f18a0/expr.png\" style=\"display:inline;vertical-align:middle;\" /></a><br>"
      ],
      "text/plain": [
       "nestedForall: forall_{x} [forall_{y} [forall_{z | z < (x + y)} P(x , y , z)]]"
      ]
     },
     "execution_count": 73,
     "metadata": {},
     "output_type": "execute_result"
    }
   ],
   "source": [
    "from proveit._common_ import z, Pxyz\n",
    "from proveit.number import Less, Add\n",
    "nestedForall = Forall(x, Forall(y, Forall(z, Pxyz, conditions=[Less(z, Add(x, y))])))"
   ]
  },
  {
   "cell_type": "markdown",
   "metadata": {},
   "source": [
    "We can successively specialize to reach the inner-most instance-defining variable $z$:"
   ]
  },
  {
   "cell_type": "code",
   "execution_count": 74,
   "metadata": {},
   "outputs": [
    {
     "data": {
      "text/html": [
       "<strong id=\"nestedForallSpec1\">nestedForallSpec1:</strong> <span style=\"font-size:20px;\"><a class=\"ProveItLink\" href=\"__pv_it/0139db9394546c3e4ae493862c2b3adb8a10ac620/expr.ipynb\"><img src=\"__pv_it/0139db9394546c3e4ae493862c2b3adb8a10ac620/expr.png\" style=\"display:inline;vertical-align:middle;\" /></a> &#x22A2;&nbsp;<a class=\"ProveItLink\" href=\"__pv_it/5db02201b5957b3a5af018d087bf72c20bd7dcde0/expr.ipynb\"><img src=\"__pv_it/5db02201b5957b3a5af018d087bf72c20bd7dcde0/expr.png\" style=\"display:inline;vertical-align:middle;\" /></a></span><br>"
      ],
      "text/plain": [
       "nestedForallSpec1: {forall_{x} [forall_{y} [forall_{z | z < (x + y)} P(x , y , z)]]} |- forall_{y} [forall_{z | z < (x + y)} P(x , y , z)]"
      ]
     },
     "execution_count": 74,
     "metadata": {},
     "output_type": "execute_result"
    }
   ],
   "source": [
    "nestedForallSpec1 = nestedForall.specialize(assumptions=[nestedForall])"
   ]
  },
  {
   "cell_type": "code",
   "execution_count": 75,
   "metadata": {},
   "outputs": [
    {
     "data": {
      "text/html": [
       "<strong id=\"nestedForallSpec2\">nestedForallSpec2:</strong> <span style=\"font-size:20px;\"><a class=\"ProveItLink\" href=\"__pv_it/0139db9394546c3e4ae493862c2b3adb8a10ac620/expr.ipynb\"><img src=\"__pv_it/0139db9394546c3e4ae493862c2b3adb8a10ac620/expr.png\" style=\"display:inline;vertical-align:middle;\" /></a> &#x22A2;&nbsp;<a class=\"ProveItLink\" href=\"__pv_it/2ccb3f5ee4cb39c5e46b57eda9021004fa5806330/expr.ipynb\"><img src=\"__pv_it/2ccb3f5ee4cb39c5e46b57eda9021004fa5806330/expr.png\" style=\"display:inline;vertical-align:middle;\" /></a></span><br>"
      ],
      "text/plain": [
       "nestedForallSpec2: {forall_{x} [forall_{y} [forall_{z | z < (x + y)} P(x , y , z)]]} |- forall_{z | z < (x + y)} P(x , y , z)"
      ]
     },
     "execution_count": 75,
     "metadata": {},
     "output_type": "execute_result"
    }
   ],
   "source": [
    "nestedForallSpec2 = nestedForallSpec1.specialize()"
   ]
  },
  {
   "cell_type": "code",
   "execution_count": 76,
   "metadata": {},
   "outputs": [
    {
     "data": {
      "text/html": [
       "<strong id=\"nestedForallSpec3\">nestedForallSpec3:</strong> <span style=\"font-size:20px;\"><a class=\"ProveItLink\" href=\"__pv_it/2e476eaf28b5d852f33ea6185a738b3a43fd334b0/expr.ipynb\"><img src=\"__pv_it/2e476eaf28b5d852f33ea6185a738b3a43fd334b0/expr.png\" style=\"display:inline;vertical-align:middle;\" /></a> &#x22A2;&nbsp;<a class=\"ProveItLink\" href=\"../packages/proveit/__pv_it/df540adc6e8d855f0a63a7c5310d0c98c511d9120/expr.ipynb\"><img src=\"../packages/proveit/__pv_it/df540adc6e8d855f0a63a7c5310d0c98c511d9120/expr.png\" style=\"display:inline;vertical-align:middle;\" /></a></span><br>"
      ],
      "text/plain": [
       "nestedForallSpec3: {z < (x + y) , forall_{x} [forall_{y} [forall_{z | z < (x + y)} P(x , y , z)]]} |- P(x , y , z)"
      ]
     },
     "execution_count": 76,
     "metadata": {},
     "output_type": "execute_result"
    }
   ],
   "source": [
    "nestedForallSpec3 = nestedForallSpec2.specialize(assumptions=[nestedForallSpec2.conditions[0]])"
   ]
  },
  {
   "cell_type": "code",
   "execution_count": 77,
   "metadata": {},
   "outputs": [
    {
     "data": {
      "text/html": [
       "<table><tr><th>&nbsp;</th><th>step type</th><th>requirements</th><th>statement</th></tr>\n",
       "<tr><td>0</td><td>specialization</td><td>1, 2</td><td><span style=\"font-size:20px;\"><a class=\"ProveItLink\" href=\"__pv_it/2e476eaf28b5d852f33ea6185a738b3a43fd334b0/expr.ipynb\"><img src=\"__pv_it/2e476eaf28b5d852f33ea6185a738b3a43fd334b0/expr.png\" style=\"display:inline;vertical-align:middle;\" /></a> &#x22A2;&nbsp;<a class=\"ProveItLink\" href=\"../packages/proveit/__pv_it/df540adc6e8d855f0a63a7c5310d0c98c511d9120/expr.ipynb\"><img src=\"../packages/proveit/__pv_it/df540adc6e8d855f0a63a7c5310d0c98c511d9120/expr.png\" style=\"display:inline;vertical-align:middle;\" /></a></span></td></tr>\n",
       "<tr><td>&nbsp;</td><td colspan=4 style=\"text-align:left\"><span style=\"font-size:20px;\"><a class=\"ProveItLink\" href=\"../packages/proveit/__pv_it/251502494639118b4892de8e9d720a5fcce840e10/expr.ipynb\"><img src=\"../packages/proveit/__pv_it/251502494639118b4892de8e9d720a5fcce840e10/expr.png\" style=\"display:inline;vertical-align:middle;\" /></a> : <a class=\"ProveItLink\" href=\"../packages/proveit/__pv_it/251502494639118b4892de8e9d720a5fcce840e10/expr.ipynb\"><img src=\"../packages/proveit/__pv_it/251502494639118b4892de8e9d720a5fcce840e10/expr.png\" style=\"display:inline;vertical-align:middle;\" /></a></span></td></tr><tr><td>1</td><td>specialization</td><td>3</td><td><span style=\"font-size:20px;\"><a class=\"ProveItLink\" href=\"__pv_it/0139db9394546c3e4ae493862c2b3adb8a10ac620/expr.ipynb\"><img src=\"__pv_it/0139db9394546c3e4ae493862c2b3adb8a10ac620/expr.png\" style=\"display:inline;vertical-align:middle;\" /></a> &#x22A2;&nbsp;<a class=\"ProveItLink\" href=\"__pv_it/2ccb3f5ee4cb39c5e46b57eda9021004fa5806330/expr.ipynb\"><img src=\"__pv_it/2ccb3f5ee4cb39c5e46b57eda9021004fa5806330/expr.png\" style=\"display:inline;vertical-align:middle;\" /></a></span></td></tr>\n",
       "<tr><td>&nbsp;</td><td colspan=4 style=\"text-align:left\"><span style=\"font-size:20px;\"><a class=\"ProveItLink\" href=\"../packages/proveit/__pv_it/f8b9edf8e16034727f0aad55bb83e392c3db40d40/expr.ipynb\"><img src=\"../packages/proveit/__pv_it/f8b9edf8e16034727f0aad55bb83e392c3db40d40/expr.png\" style=\"display:inline;vertical-align:middle;\" /></a> : <a class=\"ProveItLink\" href=\"../packages/proveit/__pv_it/f8b9edf8e16034727f0aad55bb83e392c3db40d40/expr.ipynb\"><img src=\"../packages/proveit/__pv_it/f8b9edf8e16034727f0aad55bb83e392c3db40d40/expr.png\" style=\"display:inline;vertical-align:middle;\" /></a></span></td></tr><tr><td>2</td><td>assumption</td><td></td><td><span style=\"font-size:20px;\"><a class=\"ProveItLink\" href=\"__pv_it/324679e189885dfe20511ef811703b5a9c67a1410/expr.ipynb\"><img src=\"__pv_it/324679e189885dfe20511ef811703b5a9c67a1410/expr.png\" style=\"display:inline;vertical-align:middle;\" /></a> &#x22A2;&nbsp;<a class=\"ProveItLink\" href=\"__pv_it/2a6fbf4f956add4cbe4fcb184b76a1ccaec8607d0/expr.ipynb\"><img src=\"__pv_it/2a6fbf4f956add4cbe4fcb184b76a1ccaec8607d0/expr.png\" style=\"display:inline;vertical-align:middle;\" /></a></span></td></tr>\n",
       "<tr><td>3</td><td>specialization</td><td>4</td><td><span style=\"font-size:20px;\"><a class=\"ProveItLink\" href=\"__pv_it/0139db9394546c3e4ae493862c2b3adb8a10ac620/expr.ipynb\"><img src=\"__pv_it/0139db9394546c3e4ae493862c2b3adb8a10ac620/expr.png\" style=\"display:inline;vertical-align:middle;\" /></a> &#x22A2;&nbsp;<a class=\"ProveItLink\" href=\"__pv_it/5db02201b5957b3a5af018d087bf72c20bd7dcde0/expr.ipynb\"><img src=\"__pv_it/5db02201b5957b3a5af018d087bf72c20bd7dcde0/expr.png\" style=\"display:inline;vertical-align:middle;\" /></a></span></td></tr>\n",
       "<tr><td>&nbsp;</td><td colspan=4 style=\"text-align:left\"><span style=\"font-size:20px;\"><a class=\"ProveItLink\" href=\"../packages/proveit/__pv_it/530be409e3083890784cf1d7b28c9e67e90af9360/expr.ipynb\"><img src=\"../packages/proveit/__pv_it/530be409e3083890784cf1d7b28c9e67e90af9360/expr.png\" style=\"display:inline;vertical-align:middle;\" /></a> : <a class=\"ProveItLink\" href=\"../packages/proveit/__pv_it/530be409e3083890784cf1d7b28c9e67e90af9360/expr.ipynb\"><img src=\"../packages/proveit/__pv_it/530be409e3083890784cf1d7b28c9e67e90af9360/expr.png\" style=\"display:inline;vertical-align:middle;\" /></a></span></td></tr><tr><td>4</td><td>assumption</td><td></td><td><span style=\"font-size:20px;\"><a class=\"ProveItLink\" href=\"__pv_it/0139db9394546c3e4ae493862c2b3adb8a10ac620/expr.ipynb\"><img src=\"__pv_it/0139db9394546c3e4ae493862c2b3adb8a10ac620/expr.png\" style=\"display:inline;vertical-align:middle;\" /></a> &#x22A2;&nbsp;<a class=\"ProveItLink\" href=\"__pv_it/595618042814b9d80bd0e44e3ee827cfad89f18a0/expr.ipynb\"><img src=\"__pv_it/595618042814b9d80bd0e44e3ee827cfad89f18a0/expr.png\" style=\"display:inline;vertical-align:middle;\" /></a></span></td></tr>\n",
       "</table>"
      ],
      "text/plain": [
       "\tstep type\trequirements\tstatement\n",
       "0\tspecialization\t1, 2\t{z < (x + y) , forall_{x} [forall_{y} [forall_{z | z < (x + y)} P(x , y , z)]]} |- P(x , y , z)\n",
       "\tz : z\n",
       "1\tspecialization\t3\t{forall_{x} [forall_{y} [forall_{z | z < (x + y)} P(x , y , z)]]} |- forall_{z | z < (x + y)} P(x , y , z)\n",
       "\ty : y\n",
       "2\tassumption\t\t{z < (x + y)} |- z < (x + y)\n",
       "3\tspecialization\t4\t{forall_{x} [forall_{y} [forall_{z | z < (x + y)} P(x , y , z)]]} |- forall_{y} [forall_{z | z < (x + y)} P(x , y , z)]\n",
       "\tx : x\n",
       "4\tassumption\t\t{forall_{x} [forall_{y} [forall_{z | z < (x + y)} P(x , y , z)]]} |- forall_{x} [forall_{y} [forall_{z | z < (x + y)} P(x , y , z)]]"
      ]
     },
     "execution_count": 77,
     "metadata": {},
     "output_type": "execute_result"
    }
   ],
   "source": [
    "nestedForallSpec3.proof()"
   ]
  },
  {
   "cell_type": "markdown",
   "metadata": {},
   "source": [
    "But for the sake of convenience and efficiency, **Prove-It** also allows nested `Forall` operations to be specialized simultaneously:"
   ]
  },
  {
   "cell_type": "code",
   "execution_count": 78,
   "metadata": {},
   "outputs": [
    {
     "data": {
      "text/html": [
       "<strong id=\"nestedForallSimultaneousSpec\">nestedForallSimultaneousSpec:</strong> <span style=\"font-size:20px;\"><a class=\"ProveItLink\" href=\"__pv_it/1480e526dc0353c6f6ae666885e66a6243bf35ba0/expr.ipynb\"><img src=\"__pv_it/1480e526dc0353c6f6ae666885e66a6243bf35ba0/expr.png\" style=\"display:inline;vertical-align:middle;\" /></a> &#x22A2;&nbsp;<a class=\"ProveItLink\" href=\"../packages/proveit/__pv_it/df540adc6e8d855f0a63a7c5310d0c98c511d9120/expr.ipynb\"><img src=\"../packages/proveit/__pv_it/df540adc6e8d855f0a63a7c5310d0c98c511d9120/expr.png\" style=\"display:inline;vertical-align:middle;\" /></a></span><br>"
      ],
      "text/plain": [
       "nestedForallSimultaneousSpec: {forall_{x} [forall_{y} [forall_{z | z < (x + y)} P(x , y , z)]] , z < (x + y)} |- P(x , y , z)"
      ]
     },
     "execution_count": 78,
     "metadata": {},
     "output_type": "execute_result"
    }
   ],
   "source": [
    "assumptions = ExprList(nestedForall, nestedForallSpec2.conditions[0])\n",
    "nestedForallSimultaneousSpec = nestedForall.specialize({z:z}, assumptions=assumptions)"
   ]
  },
  {
   "cell_type": "markdown",
   "metadata": {},
   "source": [
    "We just need to include an explicit mapping for an inner quantified **variable**.  So we indicated above that we want to map $z$ to $z$, even though this is typically the default, in order to force it to specialize all three `Forall` operations simultaneously.  The proof is shorter, doing a single all-in-one *specialization*:"
   ]
  },
  {
   "cell_type": "code",
   "execution_count": 79,
   "metadata": {},
   "outputs": [
    {
     "data": {
      "text/html": [
       "<table><tr><th>&nbsp;</th><th>step type</th><th>requirements</th><th>statement</th></tr>\n",
       "<tr><td>0</td><td>specialization</td><td>1, 2</td><td><span style=\"font-size:20px;\"><a class=\"ProveItLink\" href=\"__pv_it/1480e526dc0353c6f6ae666885e66a6243bf35ba0/expr.ipynb\"><img src=\"__pv_it/1480e526dc0353c6f6ae666885e66a6243bf35ba0/expr.png\" style=\"display:inline;vertical-align:middle;\" /></a> &#x22A2;&nbsp;<a class=\"ProveItLink\" href=\"../packages/proveit/__pv_it/df540adc6e8d855f0a63a7c5310d0c98c511d9120/expr.ipynb\"><img src=\"../packages/proveit/__pv_it/df540adc6e8d855f0a63a7c5310d0c98c511d9120/expr.png\" style=\"display:inline;vertical-align:middle;\" /></a></span></td></tr>\n",
       "<tr><td>&nbsp;</td><td colspan=4 style=\"text-align:left\"><span style=\"font-size:20px;\"><a class=\"ProveItLink\" href=\"../packages/proveit/__pv_it/530be409e3083890784cf1d7b28c9e67e90af9360/expr.ipynb\"><img src=\"../packages/proveit/__pv_it/530be409e3083890784cf1d7b28c9e67e90af9360/expr.png\" style=\"display:inline;vertical-align:middle;\" /></a> : <a class=\"ProveItLink\" href=\"../packages/proveit/__pv_it/530be409e3083890784cf1d7b28c9e67e90af9360/expr.ipynb\"><img src=\"../packages/proveit/__pv_it/530be409e3083890784cf1d7b28c9e67e90af9360/expr.png\" style=\"display:inline;vertical-align:middle;\" /></a>, <a class=\"ProveItLink\" href=\"../packages/proveit/__pv_it/f8b9edf8e16034727f0aad55bb83e392c3db40d40/expr.ipynb\"><img src=\"../packages/proveit/__pv_it/f8b9edf8e16034727f0aad55bb83e392c3db40d40/expr.png\" style=\"display:inline;vertical-align:middle;\" /></a> : <a class=\"ProveItLink\" href=\"../packages/proveit/__pv_it/f8b9edf8e16034727f0aad55bb83e392c3db40d40/expr.ipynb\"><img src=\"../packages/proveit/__pv_it/f8b9edf8e16034727f0aad55bb83e392c3db40d40/expr.png\" style=\"display:inline;vertical-align:middle;\" /></a>, <a class=\"ProveItLink\" href=\"../packages/proveit/__pv_it/251502494639118b4892de8e9d720a5fcce840e10/expr.ipynb\"><img src=\"../packages/proveit/__pv_it/251502494639118b4892de8e9d720a5fcce840e10/expr.png\" style=\"display:inline;vertical-align:middle;\" /></a> : <a class=\"ProveItLink\" href=\"../packages/proveit/__pv_it/251502494639118b4892de8e9d720a5fcce840e10/expr.ipynb\"><img src=\"../packages/proveit/__pv_it/251502494639118b4892de8e9d720a5fcce840e10/expr.png\" style=\"display:inline;vertical-align:middle;\" /></a></span></td></tr><tr><td>1</td><td>assumption</td><td></td><td><span style=\"font-size:20px;\"><a class=\"ProveItLink\" href=\"__pv_it/0139db9394546c3e4ae493862c2b3adb8a10ac620/expr.ipynb\"><img src=\"__pv_it/0139db9394546c3e4ae493862c2b3adb8a10ac620/expr.png\" style=\"display:inline;vertical-align:middle;\" /></a> &#x22A2;&nbsp;<a class=\"ProveItLink\" href=\"__pv_it/595618042814b9d80bd0e44e3ee827cfad89f18a0/expr.ipynb\"><img src=\"__pv_it/595618042814b9d80bd0e44e3ee827cfad89f18a0/expr.png\" style=\"display:inline;vertical-align:middle;\" /></a></span></td></tr>\n",
       "<tr><td>2</td><td>assumption</td><td></td><td><span style=\"font-size:20px;\"><a class=\"ProveItLink\" href=\"__pv_it/324679e189885dfe20511ef811703b5a9c67a1410/expr.ipynb\"><img src=\"__pv_it/324679e189885dfe20511ef811703b5a9c67a1410/expr.png\" style=\"display:inline;vertical-align:middle;\" /></a> &#x22A2;&nbsp;<a class=\"ProveItLink\" href=\"__pv_it/2a6fbf4f956add4cbe4fcb184b76a1ccaec8607d0/expr.ipynb\"><img src=\"__pv_it/2a6fbf4f956add4cbe4fcb184b76a1ccaec8607d0/expr.png\" style=\"display:inline;vertical-align:middle;\" /></a></span></td></tr>\n",
       "</table>"
      ],
      "text/plain": [
       "\tstep type\trequirements\tstatement\n",
       "0\tspecialization\t1, 2\t{forall_{x} [forall_{y} [forall_{z | z < (x + y)} P(x , y , z)]] , z < (x + y)} |- P(x , y , z)\n",
       "\tx : x, y : y, z : z\n",
       "1\tassumption\t\t{forall_{x} [forall_{y} [forall_{z | z < (x + y)} P(x , y , z)]]} |- forall_{x} [forall_{y} [forall_{z | z < (x + y)} P(x , y , z)]]\n",
       "2\tassumption\t\t{z < (x + y)} |- z < (x + y)"
      ]
     },
     "execution_count": 79,
     "metadata": {},
     "output_type": "execute_result"
    }
   ],
   "source": [
    "nestedForallSimultaneousSpec.proof()"
   ]
  },
  {
   "cell_type": "markdown",
   "metadata": {},
   "source": [
    "Such simultaneous *specialization* can be done for any number of nested levels.\n",
    "\n",
    "As a quick aside, it worth noting that the original nested `Forall` involving the instance variables $x$, $y$, and $z$ could have instead been expressed as $\\forall_{x, y, z | z < x + y} P(x, y, z)$, constructed in the following way (also see the section further below on “Universal quantification over multiple variables”):"
   ]
  },
  {
   "cell_type": "code",
   "execution_count": 80,
   "metadata": {},
   "outputs": [
    {
     "data": {
      "text/html": [
       "<strong id=\"altNestedForall\">altNestedForall:</strong> <a class=\"ProveItLink\" href=\"__pv_it/21ffa6e4b9672476eec218fb9d8ed7bd710784190/expr.ipynb\"><img src=\"__pv_it/21ffa6e4b9672476eec218fb9d8ed7bd710784190/expr.png\" style=\"display:inline;vertical-align:middle;\" /></a><br>"
      ],
      "text/plain": [
       "altNestedForall: forall_{x, y, z | z < (x + y)} P(x , y , z)"
      ]
     },
     "execution_count": 80,
     "metadata": {},
     "output_type": "execute_result"
    }
   ],
   "source": [
    "altNestedForall = Forall([x, y, z], Pxyz, conditions=[Less(z, Add(x, y))])"
   ]
  },
  {
   "cell_type": "markdown",
   "metadata": {},
   "source": [
    "Note that the *meaning* of the original **nestedForall** object $\\forall_x [\\forall_y [\\forall_{z|z<x+y} P(x, y, z)]]$ and the meaning of our alternative **altNestedForall** object $\\forall_{x, y, z | z < x + y} P(x, y, z)$ are the same:"
   ]
  },
  {
   "cell_type": "code",
   "execution_count": 81,
   "metadata": {},
   "outputs": [
    {
     "data": {
      "text/plain": [
       "True"
      ]
     },
     "execution_count": 81,
     "metadata": {},
     "output_type": "execute_result"
    }
   ],
   "source": [
    "altNestedForall == nestedForall"
   ]
  },
  {
   "cell_type": "markdown",
   "metadata": {},
   "source": [
    "We can now accomplish the same specialization as follows:"
   ]
  },
  {
   "cell_type": "code",
   "execution_count": 82,
   "metadata": {},
   "outputs": [
    {
     "data": {
      "text/html": [
       "<strong id=\"altNestedForallSpec\">altNestedForallSpec:</strong> <span style=\"font-size:20px;\"><a class=\"ProveItLink\" href=\"__pv_it/2bb8a72f7a05d5bd7ff871f294f76da168d8cc770/expr.ipynb\"><img src=\"__pv_it/2bb8a72f7a05d5bd7ff871f294f76da168d8cc770/expr.png\" style=\"display:inline;vertical-align:middle;\" /></a> &#x22A2;&nbsp;<a class=\"ProveItLink\" href=\"../packages/proveit/__pv_it/df540adc6e8d855f0a63a7c5310d0c98c511d9120/expr.ipynb\"><img src=\"../packages/proveit/__pv_it/df540adc6e8d855f0a63a7c5310d0c98c511d9120/expr.png\" style=\"display:inline;vertical-align:middle;\" /></a></span><br>"
      ],
      "text/plain": [
       "altNestedForallSpec: {forall_{x, y, z | z < (x + y)} P(x , y , z) , z < (x + y)} |- P(x , y , z)"
      ]
     },
     "execution_count": 82,
     "metadata": {},
     "output_type": "execute_result"
    }
   ],
   "source": [
    "altNestedForallSpec = altNestedForall.specialize(assumptions=[altNestedForall, Less(z, Add(x, y))])"
   ]
  },
  {
   "cell_type": "markdown",
   "metadata": {},
   "source": [
    "with similar proof details:"
   ]
  },
  {
   "cell_type": "code",
   "execution_count": 83,
   "metadata": {},
   "outputs": [
    {
     "data": {
      "text/html": [
       "<table><tr><th>&nbsp;</th><th>step type</th><th>requirements</th><th>statement</th></tr>\n",
       "<tr><td>0</td><td>specialization</td><td>1, 2</td><td><span style=\"font-size:20px;\"><a class=\"ProveItLink\" href=\"__pv_it/2bb8a72f7a05d5bd7ff871f294f76da168d8cc770/expr.ipynb\"><img src=\"__pv_it/2bb8a72f7a05d5bd7ff871f294f76da168d8cc770/expr.png\" style=\"display:inline;vertical-align:middle;\" /></a> &#x22A2;&nbsp;<a class=\"ProveItLink\" href=\"../packages/proveit/__pv_it/df540adc6e8d855f0a63a7c5310d0c98c511d9120/expr.ipynb\"><img src=\"../packages/proveit/__pv_it/df540adc6e8d855f0a63a7c5310d0c98c511d9120/expr.png\" style=\"display:inline;vertical-align:middle;\" /></a></span></td></tr>\n",
       "<tr><td>&nbsp;</td><td colspan=4 style=\"text-align:left\"><span style=\"font-size:20px;\"><a class=\"ProveItLink\" href=\"../packages/proveit/__pv_it/530be409e3083890784cf1d7b28c9e67e90af9360/expr.ipynb\"><img src=\"../packages/proveit/__pv_it/530be409e3083890784cf1d7b28c9e67e90af9360/expr.png\" style=\"display:inline;vertical-align:middle;\" /></a> : <a class=\"ProveItLink\" href=\"../packages/proveit/__pv_it/530be409e3083890784cf1d7b28c9e67e90af9360/expr.ipynb\"><img src=\"../packages/proveit/__pv_it/530be409e3083890784cf1d7b28c9e67e90af9360/expr.png\" style=\"display:inline;vertical-align:middle;\" /></a>, <a class=\"ProveItLink\" href=\"../packages/proveit/__pv_it/f8b9edf8e16034727f0aad55bb83e392c3db40d40/expr.ipynb\"><img src=\"../packages/proveit/__pv_it/f8b9edf8e16034727f0aad55bb83e392c3db40d40/expr.png\" style=\"display:inline;vertical-align:middle;\" /></a> : <a class=\"ProveItLink\" href=\"../packages/proveit/__pv_it/f8b9edf8e16034727f0aad55bb83e392c3db40d40/expr.ipynb\"><img src=\"../packages/proveit/__pv_it/f8b9edf8e16034727f0aad55bb83e392c3db40d40/expr.png\" style=\"display:inline;vertical-align:middle;\" /></a>, <a class=\"ProveItLink\" href=\"../packages/proveit/__pv_it/251502494639118b4892de8e9d720a5fcce840e10/expr.ipynb\"><img src=\"../packages/proveit/__pv_it/251502494639118b4892de8e9d720a5fcce840e10/expr.png\" style=\"display:inline;vertical-align:middle;\" /></a> : <a class=\"ProveItLink\" href=\"../packages/proveit/__pv_it/251502494639118b4892de8e9d720a5fcce840e10/expr.ipynb\"><img src=\"../packages/proveit/__pv_it/251502494639118b4892de8e9d720a5fcce840e10/expr.png\" style=\"display:inline;vertical-align:middle;\" /></a></span></td></tr><tr><td>1</td><td>assumption</td><td></td><td><span style=\"font-size:20px;\"><a class=\"ProveItLink\" href=\"__pv_it/1044354dc1713564cd6733ec84db8a3bc12217920/expr.ipynb\"><img src=\"__pv_it/1044354dc1713564cd6733ec84db8a3bc12217920/expr.png\" style=\"display:inline;vertical-align:middle;\" /></a> &#x22A2;&nbsp;<a class=\"ProveItLink\" href=\"__pv_it/21ffa6e4b9672476eec218fb9d8ed7bd710784190/expr.ipynb\"><img src=\"__pv_it/21ffa6e4b9672476eec218fb9d8ed7bd710784190/expr.png\" style=\"display:inline;vertical-align:middle;\" /></a></span></td></tr>\n",
       "<tr><td>2</td><td>assumption</td><td></td><td><span style=\"font-size:20px;\"><a class=\"ProveItLink\" href=\"__pv_it/324679e189885dfe20511ef811703b5a9c67a1410/expr.ipynb\"><img src=\"__pv_it/324679e189885dfe20511ef811703b5a9c67a1410/expr.png\" style=\"display:inline;vertical-align:middle;\" /></a> &#x22A2;&nbsp;<a class=\"ProveItLink\" href=\"__pv_it/2a6fbf4f956add4cbe4fcb184b76a1ccaec8607d0/expr.ipynb\"><img src=\"__pv_it/2a6fbf4f956add4cbe4fcb184b76a1ccaec8607d0/expr.png\" style=\"display:inline;vertical-align:middle;\" /></a></span></td></tr>\n",
       "</table>"
      ],
      "text/plain": [
       "\tstep type\trequirements\tstatement\n",
       "0\tspecialization\t1, 2\t{forall_{x, y, z | z < (x + y)} P(x , y , z) , z < (x + y)} |- P(x , y , z)\n",
       "\tx : x, y : y, z : z\n",
       "1\tassumption\t\t{forall_{x, y, z | z < (x + y)} P(x , y , z)} |- forall_{x, y, z | z < (x + y)} P(x , y , z)\n",
       "2\tassumption\t\t{z < (x + y)} |- z < (x + y)"
      ]
     },
     "execution_count": 83,
     "metadata": {},
     "output_type": "execute_result"
    }
   ],
   "source": [
    "altNestedForallSpec.proof()"
   ]
  },
  {
   "cell_type": "markdown",
   "metadata": {},
   "source": [
    "### Specializing and relabeling simultaneously\n",
    "\n",
    "It is also possible to achieve *relabeling* and *specialization* (over any number of nested levels) in a single step.\n",
    "\n",
    "For example, recall our nested `Forall` object $\\forall_x [\\forall_y [\\forall_{z|z<x+y} P(x, y, z)]]$ from above (explicitly redefined here in case changes were made above): "
   ]
  },
  {
   "cell_type": "code",
   "execution_count": 84,
   "metadata": {},
   "outputs": [
    {
     "data": {
      "text/html": [
       "<strong id=\"nestedForall\">nestedForall:</strong> <a class=\"ProveItLink\" href=\"__pv_it/595618042814b9d80bd0e44e3ee827cfad89f18a0/expr.ipynb\"><img src=\"__pv_it/595618042814b9d80bd0e44e3ee827cfad89f18a0/expr.png\" style=\"display:inline;vertical-align:middle;\" /></a><br>"
      ],
      "text/plain": [
       "nestedForall: forall_{x} [forall_{y} [forall_{z | z < (x + y)} P(x , y , z)]]"
      ]
     },
     "execution_count": 84,
     "metadata": {},
     "output_type": "execute_result"
    }
   ],
   "source": [
    "nestedForall = Forall(x, Forall(y, Forall(z, Pxyz, conditions=[Less(z, Add(x, y))])))"
   ]
  },
  {
   "cell_type": "markdown",
   "metadata": {},
   "source": [
    "We can specialize the outermost instance variable $x$ while simultaneously relabeling the instance variable $z$ to $a$:"
   ]
  },
  {
   "cell_type": "code",
   "execution_count": 85,
   "metadata": {},
   "outputs": [
    {
     "data": {
      "text/html": [
       "<span style=\"font-size:20px;\"><a class=\"ProveItLink\" href=\"__pv_it/0139db9394546c3e4ae493862c2b3adb8a10ac620/expr.ipynb\"><img src=\"__pv_it/0139db9394546c3e4ae493862c2b3adb8a10ac620/expr.png\" style=\"display:inline;vertical-align:middle;\" /></a> &#x22A2;&nbsp;<a class=\"ProveItLink\" href=\"__pv_it/9e6191e8c3a63674f2ebdfe0609b4b290fd206210/expr.ipynb\"><img src=\"__pv_it/9e6191e8c3a63674f2ebdfe0609b4b290fd206210/expr.png\" style=\"display:inline;vertical-align:middle;\" /></a></span>"
      ],
      "text/plain": [
       "{forall_{x} [forall_{y} [forall_{z | z < (x + y)} P(x , y , z)]]} |- forall_{y} [forall_{a | a < (x + y)} P(x , y , a)]"
      ]
     },
     "execution_count": 85,
     "metadata": {},
     "output_type": "execute_result"
    }
   ],
   "source": [
    "nestedForall.specialize(relabelMap={z:a}, assumptions=[nestedForall])"
   ]
  },
  {
   "cell_type": "markdown",
   "metadata": {},
   "source": [
    "Or we can specialize all the way down to the innermost instance variable ($z$) while simultaneously relabeling the instance variable $z$ to $a$:"
   ]
  },
  {
   "cell_type": "code",
   "execution_count": 86,
   "metadata": {},
   "outputs": [
    {
     "data": {
      "text/html": [
       "<strong id=\"nestedForallSpecAndRelab\">nestedForallSpecAndRelab:</strong> <span style=\"font-size:20px;\"><a class=\"ProveItLink\" href=\"__pv_it/0139db9394546c3e4ae493862c2b3adb8a10ac620/expr.ipynb\"><img src=\"__pv_it/0139db9394546c3e4ae493862c2b3adb8a10ac620/expr.png\" style=\"display:inline;vertical-align:middle;\" /></a> &#x22A2;&nbsp;<a class=\"ProveItLink\" href=\"__pv_it/81f0abedc4068aec9007f4549c970144b5f4eddb0/expr.ipynb\"><img src=\"__pv_it/81f0abedc4068aec9007f4549c970144b5f4eddb0/expr.png\" style=\"display:inline;vertical-align:middle;\" /></a></span><br>"
      ],
      "text/plain": [
       "nestedForallSpecAndRelab: {forall_{x} [forall_{y} [forall_{z | z < (x + y)} P(x , y , z)]]} |- forall_{a | a < (x + y)} P(x , y , a)"
      ]
     },
     "execution_count": 86,
     "metadata": {},
     "output_type": "execute_result"
    }
   ],
   "source": [
    "nestedForallSpecAndRelab = nestedForall.specialize(specializeMap={y:y}, relabelMap={z:a}, assumptions=[nestedForall])"
   ]
  },
  {
   "cell_type": "markdown",
   "metadata": {},
   "source": [
    "In that `specialize()` command, we used the explicit `specializeMap` and `relabelMap` designations to distinguish the two types of mappings, but we could have relied simply on the order of the input arguments instead, with the specialization mapping(s) expected first and the relabel mapping(s) expected second:"
   ]
  },
  {
   "cell_type": "code",
   "execution_count": 87,
   "metadata": {},
   "outputs": [
    {
     "data": {
      "text/html": [
       "<span style=\"font-size:20px;\"><a class=\"ProveItLink\" href=\"__pv_it/0139db9394546c3e4ae493862c2b3adb8a10ac620/expr.ipynb\"><img src=\"__pv_it/0139db9394546c3e4ae493862c2b3adb8a10ac620/expr.png\" style=\"display:inline;vertical-align:middle;\" /></a> &#x22A2;&nbsp;<a class=\"ProveItLink\" href=\"__pv_it/81f0abedc4068aec9007f4549c970144b5f4eddb0/expr.ipynb\"><img src=\"__pv_it/81f0abedc4068aec9007f4549c970144b5f4eddb0/expr.png\" style=\"display:inline;vertical-align:middle;\" /></a></span>"
      ],
      "text/plain": [
       "{forall_{x} [forall_{y} [forall_{z | z < (x + y)} P(x , y , z)]]} |- forall_{a | a < (x + y)} P(x , y , a)"
      ]
     },
     "execution_count": 87,
     "metadata": {},
     "output_type": "execute_result"
    }
   ],
   "source": [
    "nestedForall.specialize({y:y}, {z:a}, assumptions=[nestedForall, Less(a, Add(x, y))])"
   ]
  },
  {
   "cell_type": "markdown",
   "metadata": {},
   "source": [
    "We can take a quick look at the related proof to see how the specialization and relabeling mappings are indicated:"
   ]
  },
  {
   "cell_type": "code",
   "execution_count": 88,
   "metadata": {},
   "outputs": [
    {
     "data": {
      "text/html": [
       "<table><tr><th>&nbsp;</th><th>step type</th><th>requirements</th><th>statement</th></tr>\n",
       "<tr><td>0</td><td>specialization</td><td>1</td><td><span style=\"font-size:20px;\"><a class=\"ProveItLink\" href=\"__pv_it/0139db9394546c3e4ae493862c2b3adb8a10ac620/expr.ipynb\"><img src=\"__pv_it/0139db9394546c3e4ae493862c2b3adb8a10ac620/expr.png\" style=\"display:inline;vertical-align:middle;\" /></a> &#x22A2;&nbsp;<a class=\"ProveItLink\" href=\"__pv_it/81f0abedc4068aec9007f4549c970144b5f4eddb0/expr.ipynb\"><img src=\"__pv_it/81f0abedc4068aec9007f4549c970144b5f4eddb0/expr.png\" style=\"display:inline;vertical-align:middle;\" /></a></span></td></tr>\n",
       "<tr><td>&nbsp;</td><td colspan=4 style=\"text-align:left\"><span style=\"font-size:20px;\"><a class=\"ProveItLink\" href=\"../packages/proveit/__pv_it/530be409e3083890784cf1d7b28c9e67e90af9360/expr.ipynb\"><img src=\"../packages/proveit/__pv_it/530be409e3083890784cf1d7b28c9e67e90af9360/expr.png\" style=\"display:inline;vertical-align:middle;\" /></a> : <a class=\"ProveItLink\" href=\"../packages/proveit/__pv_it/530be409e3083890784cf1d7b28c9e67e90af9360/expr.ipynb\"><img src=\"../packages/proveit/__pv_it/530be409e3083890784cf1d7b28c9e67e90af9360/expr.png\" style=\"display:inline;vertical-align:middle;\" /></a>, <a class=\"ProveItLink\" href=\"../packages/proveit/__pv_it/f8b9edf8e16034727f0aad55bb83e392c3db40d40/expr.ipynb\"><img src=\"../packages/proveit/__pv_it/f8b9edf8e16034727f0aad55bb83e392c3db40d40/expr.png\" style=\"display:inline;vertical-align:middle;\" /></a> : <a class=\"ProveItLink\" href=\"../packages/proveit/__pv_it/f8b9edf8e16034727f0aad55bb83e392c3db40d40/expr.ipynb\"><img src=\"../packages/proveit/__pv_it/f8b9edf8e16034727f0aad55bb83e392c3db40d40/expr.png\" style=\"display:inline;vertical-align:middle;\" /></a>, relabeling <a class=\"ProveItLink\" href=\"../packages/proveit/__pv_it/251502494639118b4892de8e9d720a5fcce840e10/expr.ipynb\"><img src=\"../packages/proveit/__pv_it/251502494639118b4892de8e9d720a5fcce840e10/expr.png\" style=\"display:inline;vertical-align:middle;\" /></a> : <a class=\"ProveItLink\" href=\"../packages/proveit/__pv_it/07527342713064c87612d00d8557c53d53d5324a0/expr.ipynb\"><img src=\"../packages/proveit/__pv_it/07527342713064c87612d00d8557c53d53d5324a0/expr.png\" style=\"display:inline;vertical-align:middle;\" /></a></span></td></tr><tr><td>1</td><td>assumption</td><td></td><td><span style=\"font-size:20px;\"><a class=\"ProveItLink\" href=\"__pv_it/0139db9394546c3e4ae493862c2b3adb8a10ac620/expr.ipynb\"><img src=\"__pv_it/0139db9394546c3e4ae493862c2b3adb8a10ac620/expr.png\" style=\"display:inline;vertical-align:middle;\" /></a> &#x22A2;&nbsp;<a class=\"ProveItLink\" href=\"__pv_it/595618042814b9d80bd0e44e3ee827cfad89f18a0/expr.ipynb\"><img src=\"__pv_it/595618042814b9d80bd0e44e3ee827cfad89f18a0/expr.png\" style=\"display:inline;vertical-align:middle;\" /></a></span></td></tr>\n",
       "</table>"
      ],
      "text/plain": [
       "\tstep type\trequirements\tstatement\n",
       "0\tspecialization\t1\t{forall_{x} [forall_{y} [forall_{z | z < (x + y)} P(x , y , z)]]} |- forall_{a | a < (x + y)} P(x , y , a)\n",
       "\tx : x, y : y, relabeling z : a\n",
       "1\tassumption\t\t{forall_{x} [forall_{y} [forall_{z | z < (x + y)} P(x , y , z)]]} |- forall_{x} [forall_{y} [forall_{z | z < (x + y)} P(x , y , z)]]"
      ]
     },
     "execution_count": 88,
     "metadata": {},
     "output_type": "execute_result"
    }
   ],
   "source": [
    "nestedForallSpecAndRelab.proof()"
   ]
  },
  {
   "cell_type": "markdown",
   "metadata": {},
   "source": [
    "The *relabeling* map is always shown after the last comma in the mapping under the *specialization* step.  When any *specialization* occurs, the \"step type\" is labeled \"specialization\".  If there is only *relabeling*, the \"step type\" will indicate \"relabeling\". "
   ]
  },
  {
   "cell_type": "markdown",
   "metadata": {},
   "source": [
    "You are not allowed to specify that the same **variable** is to be *specialized* and *relabeled*. For example, recall once again our nested `Forall` object:"
   ]
  },
  {
   "cell_type": "code",
   "execution_count": 89,
   "metadata": {},
   "outputs": [
    {
     "data": {
      "text/html": [
       "<a class=\"ProveItLink\" href=\"__pv_it/595618042814b9d80bd0e44e3ee827cfad89f18a0/expr.ipynb\"><img src=\"__pv_it/595618042814b9d80bd0e44e3ee827cfad89f18a0/expr.png\" style=\"display:inline;vertical-align:middle;\" /></a>"
      ],
      "text/plain": [
       "forall_{x} [forall_{y} [forall_{z | z < (x + y)} P(x , y , z)]]"
      ]
     },
     "execution_count": 89,
     "metadata": {},
     "output_type": "execute_result"
    }
   ],
   "source": [
    "nestedForall"
   ]
  },
  {
   "cell_type": "markdown",
   "metadata": {},
   "source": [
    "We can specialize the inner instance variable $y$ to $b$:"
   ]
  },
  {
   "cell_type": "code",
   "execution_count": 90,
   "metadata": {},
   "outputs": [
    {
     "data": {
      "text/html": [
       "<span style=\"font-size:20px;\"><a class=\"ProveItLink\" href=\"__pv_it/0139db9394546c3e4ae493862c2b3adb8a10ac620/expr.ipynb\"><img src=\"__pv_it/0139db9394546c3e4ae493862c2b3adb8a10ac620/expr.png\" style=\"display:inline;vertical-align:middle;\" /></a> &#x22A2;&nbsp;<a class=\"ProveItLink\" href=\"__pv_it/fbb48ed876d3d1299aa9c1b1e734ba755e740fd30/expr.ipynb\"><img src=\"__pv_it/fbb48ed876d3d1299aa9c1b1e734ba755e740fd30/expr.png\" style=\"display:inline;vertical-align:middle;\" /></a></span>"
      ],
      "text/plain": [
       "{forall_{x} [forall_{y} [forall_{z | z < (x + y)} P(x , y , z)]]} |- forall_{z | z < (x + b)} P(x , b , z)"
      ]
     },
     "execution_count": 90,
     "metadata": {},
     "output_type": "execute_result"
    }
   ],
   "source": [
    "nestedForall.specialize({y:b}, assumptions=[nestedForall])"
   ]
  },
  {
   "cell_type": "markdown",
   "metadata": {},
   "source": [
    "But we cannot simultaneously specialize $y$ to $b$ *and also* relabel $y$ with $a$:"
   ]
  },
  {
   "cell_type": "code",
   "execution_count": 91,
   "metadata": {},
   "outputs": [
    {
     "name": "stdout",
     "output_type": "stream",
     "text": [
      "EXPECTED ERROR: Proof step failed assuming {forall_{x} [forall_{y} [forall_{z | z < (x + y)} P(x , y , z)]]}: Attempting to specialize and relabel the same variable: y\n"
     ]
    }
   ],
   "source": [
    "try:\n",
    "    nestedForall.specialize({y:b}, {y:a}, assumptions=[nestedForall])\n",
    "    assert False, \"Expecting a SpecializationFailure error; should not make it to this point\"\n",
    "except SpecializationFailure as e:\n",
    "    print(\"EXPECTED ERROR:\", e)"
   ]
  },
  {
   "cell_type": "markdown",
   "metadata": {},
   "source": [
    "As noted in the previous tutorial chapter (tutorial04_relabeling), relabeling has another important limitation.  You cannot relabel something using assumptions that involve any of the relabeling variables.  For example, we cannot relabel $P$ to $R$ in `nestedForall` while assuming `nestedForall`. (Would be nice to elaborate on this briefly.)"
   ]
  },
  {
   "cell_type": "code",
   "execution_count": 92,
   "metadata": {},
   "outputs": [
    {
     "name": "stdout",
     "output_type": "stream",
     "text": [
      "EXPECTED ERROR: Proof step failed assuming {forall_{x} [forall_{y} [forall_{z | z < (x + y)} P(x , y , z)]]}: Attempting to relabel variable(s) that are free in the assumptions: {P}\n"
     ]
    }
   ],
   "source": [
    "from proveit import RelabelingFailure\n",
    "try:\n",
    "    nestedForall.specialize({y:y}, {P:R}, assumptions=[nestedForall])\n",
    "    assert False, \"Expecting an RelabelingFailure error; should not make it to this point\"\n",
    "except RelabelingFailure as e:\n",
    "    print(\"EXPECTED ERROR:\", e)"
   ]
  },
  {
   "cell_type": "markdown",
   "metadata": {},
   "source": [
    "### Universal quantification over multiple variables\n",
    "\n",
    "Rather than nesting `Forall` operations, you can quantify over multiple instance variables for a more succinct expression. For example, instead of writing $\\forall_{x\\,\\in\\ S} [\\forall_{y\\,\\in\\, S} P(x, y)]$, you could write $\\forall_{x, y\\,\\in\\, S} P(x, y)$, constructed like this:"
   ]
  },
  {
   "cell_type": "code",
   "execution_count": 93,
   "metadata": {},
   "outputs": [
    {
     "data": {
      "text/html": [
       "<strong id=\"multiVarForall\">multiVarForall:</strong> <a class=\"ProveItLink\" href=\"__pv_it/9530f1e62ba5499f562e42a13ac9056cbb8b75200/expr.ipynb\"><img src=\"__pv_it/9530f1e62ba5499f562e42a13ac9056cbb8b75200/expr.png\" style=\"display:inline;vertical-align:middle;\" /></a><br>"
      ],
      "text/plain": [
       "multiVarForall: forall_{x, y in S} P(x , y)"
      ]
     },
     "execution_count": 93,
     "metadata": {},
     "output_type": "execute_result"
    }
   ],
   "source": [
    "multiVarForall = Forall((x, y), Pxy, domain=S)"
   ]
  },
  {
   "cell_type": "markdown",
   "metadata": {},
   "source": [
    "Specialization is still achieved in the same way. Here, for example, we assume the `Forall` expression along with specific $x$ and $y$ values in set $S$:"
   ]
  },
  {
   "cell_type": "code",
   "execution_count": 94,
   "metadata": {},
   "outputs": [
    {
     "data": {
      "text/html": [
       "<strong id=\"multiVarForallSpec\">multiVarForallSpec:</strong> <span style=\"font-size:20px;\"><a class=\"ProveItLink\" href=\"__pv_it/0645c1d25ebe125d442ce68a1083fa3c1f621ba00/expr.ipynb\"><img src=\"__pv_it/0645c1d25ebe125d442ce68a1083fa3c1f621ba00/expr.png\" style=\"display:inline;vertical-align:middle;\" /></a> &#x22A2;&nbsp;<a class=\"ProveItLink\" href=\"../packages/proveit/__pv_it/4ebbf9cd5f2e78405c64e81897dc9bd29f55abca0/expr.ipynb\"><img src=\"../packages/proveit/__pv_it/4ebbf9cd5f2e78405c64e81897dc9bd29f55abca0/expr.png\" style=\"display:inline;vertical-align:middle;\" /></a></span><br>"
      ],
      "text/plain": [
       "multiVarForallSpec: {forall_{x, y in S} P(x , y) , x in S , y in S} |- P(x , y)"
      ]
     },
     "execution_count": 94,
     "metadata": {},
     "output_type": "execute_result"
    }
   ],
   "source": [
    "assumptions = [multiVarForall, InSet(x, S), InSet(y, S)]\n",
    "multiVarForallSpec = multiVarForall.specialize(assumptions=assumptions)"
   ]
  },
  {
   "cell_type": "markdown",
   "metadata": {},
   "source": [
    "We can see how **ProveIt** conceptualizes that specialization by calling its `proof()` method:"
   ]
  },
  {
   "cell_type": "code",
   "execution_count": 95,
   "metadata": {},
   "outputs": [
    {
     "data": {
      "text/html": [
       "<table><tr><th>&nbsp;</th><th>step type</th><th>requirements</th><th>statement</th></tr>\n",
       "<tr><td>0</td><td>specialization</td><td>1, 2, 3</td><td><span style=\"font-size:20px;\"><a class=\"ProveItLink\" href=\"__pv_it/0645c1d25ebe125d442ce68a1083fa3c1f621ba00/expr.ipynb\"><img src=\"__pv_it/0645c1d25ebe125d442ce68a1083fa3c1f621ba00/expr.png\" style=\"display:inline;vertical-align:middle;\" /></a> &#x22A2;&nbsp;<a class=\"ProveItLink\" href=\"../packages/proveit/__pv_it/4ebbf9cd5f2e78405c64e81897dc9bd29f55abca0/expr.ipynb\"><img src=\"../packages/proveit/__pv_it/4ebbf9cd5f2e78405c64e81897dc9bd29f55abca0/expr.png\" style=\"display:inline;vertical-align:middle;\" /></a></span></td></tr>\n",
       "<tr><td>&nbsp;</td><td colspan=4 style=\"text-align:left\"><span style=\"font-size:20px;\"><a class=\"ProveItLink\" href=\"../packages/proveit/__pv_it/530be409e3083890784cf1d7b28c9e67e90af9360/expr.ipynb\"><img src=\"../packages/proveit/__pv_it/530be409e3083890784cf1d7b28c9e67e90af9360/expr.png\" style=\"display:inline;vertical-align:middle;\" /></a> : <a class=\"ProveItLink\" href=\"../packages/proveit/__pv_it/530be409e3083890784cf1d7b28c9e67e90af9360/expr.ipynb\"><img src=\"../packages/proveit/__pv_it/530be409e3083890784cf1d7b28c9e67e90af9360/expr.png\" style=\"display:inline;vertical-align:middle;\" /></a>, <a class=\"ProveItLink\" href=\"../packages/proveit/__pv_it/f8b9edf8e16034727f0aad55bb83e392c3db40d40/expr.ipynb\"><img src=\"../packages/proveit/__pv_it/f8b9edf8e16034727f0aad55bb83e392c3db40d40/expr.png\" style=\"display:inline;vertical-align:middle;\" /></a> : <a class=\"ProveItLink\" href=\"../packages/proveit/__pv_it/f8b9edf8e16034727f0aad55bb83e392c3db40d40/expr.ipynb\"><img src=\"../packages/proveit/__pv_it/f8b9edf8e16034727f0aad55bb83e392c3db40d40/expr.png\" style=\"display:inline;vertical-align:middle;\" /></a></span></td></tr><tr><td>1</td><td>assumption</td><td></td><td><span style=\"font-size:20px;\"><a class=\"ProveItLink\" href=\"__pv_it/507a8cdd7e14c6b5a4f449ae6ee8c02d6d43ddb10/expr.ipynb\"><img src=\"__pv_it/507a8cdd7e14c6b5a4f449ae6ee8c02d6d43ddb10/expr.png\" style=\"display:inline;vertical-align:middle;\" /></a> &#x22A2;&nbsp;<a class=\"ProveItLink\" href=\"__pv_it/9530f1e62ba5499f562e42a13ac9056cbb8b75200/expr.ipynb\"><img src=\"__pv_it/9530f1e62ba5499f562e42a13ac9056cbb8b75200/expr.png\" style=\"display:inline;vertical-align:middle;\" /></a></span></td></tr>\n",
       "<tr><td>2</td><td>assumption</td><td></td><td><span style=\"font-size:20px;\"><a class=\"ProveItLink\" href=\"__pv_it/98af5737a9597412d38c1dd0437c30eb2330cbe00/expr.ipynb\"><img src=\"__pv_it/98af5737a9597412d38c1dd0437c30eb2330cbe00/expr.png\" style=\"display:inline;vertical-align:middle;\" /></a> &#x22A2;&nbsp;<a class=\"ProveItLink\" href=\"__pv_it/e2a5d0d2b35dbe8e279c49a9a93d84141b6063d40/expr.ipynb\"><img src=\"__pv_it/e2a5d0d2b35dbe8e279c49a9a93d84141b6063d40/expr.png\" style=\"display:inline;vertical-align:middle;\" /></a></span></td></tr>\n",
       "<tr><td>3</td><td>assumption</td><td></td><td><span style=\"font-size:20px;\"><a class=\"ProveItLink\" href=\"__pv_it/311805b89cabf2ef63666ab4088164e01061ea790/expr.ipynb\"><img src=\"__pv_it/311805b89cabf2ef63666ab4088164e01061ea790/expr.png\" style=\"display:inline;vertical-align:middle;\" /></a> &#x22A2;&nbsp;<a class=\"ProveItLink\" href=\"__pv_it/81ec0d05b79ee4039a86d6b039a2bc74013abbb90/expr.ipynb\"><img src=\"__pv_it/81ec0d05b79ee4039a86d6b039a2bc74013abbb90/expr.png\" style=\"display:inline;vertical-align:middle;\" /></a></span></td></tr>\n",
       "</table>"
      ],
      "text/plain": [
       "\tstep type\trequirements\tstatement\n",
       "0\tspecialization\t1, 2, 3\t{forall_{x, y in S} P(x , y) , x in S , y in S} |- P(x , y)\n",
       "\tx : x, y : y\n",
       "1\tassumption\t\t{forall_{x, y in S} P(x , y)} |- forall_{x, y in S} P(x , y)\n",
       "2\tassumption\t\t{x in S} |- x in S\n",
       "3\tassumption\t\t{y in S} |- y in S"
      ]
     },
     "execution_count": 95,
     "metadata": {},
     "output_type": "execute_result"
    }
   ],
   "source": [
    "multiVarForallSpec.proof()"
   ]
  },
  {
   "cell_type": "markdown",
   "metadata": {},
   "source": [
    "Note that when constructing a `Forall` object, if you attempt to use the same **variable** multiple times in the list of instance variables, you will get an error:"
   ]
  },
  {
   "cell_type": "code",
   "execution_count": 96,
   "metadata": {},
   "outputs": [],
   "source": [
    "try:\n",
    "    Forall((x, x), Px)\n",
    "except ValueError as e:\n",
    "    print('EXPECTED ERROR:', e)"
   ]
  },
  {
   "cell_type": "markdown",
   "metadata": {},
   "source": [
    "You can also specify different domains for each a set of instance **variables**, providing a list (or `ExprList`) for `domains` rather than `domain`.  The display notation will indicate a cartesian product set."
   ]
  },
  {
   "cell_type": "code",
   "execution_count": 97,
   "metadata": {},
   "outputs": [
    {
     "data": {
      "text/html": [
       "<strong id=\"multiDomainForall\">multiDomainForall:</strong> <a class=\"ProveItLink\" href=\"__pv_it/9bb2c5f1413a23c4752d6b6802a91de1405a37f80/expr.ipynb\"><img src=\"__pv_it/9bb2c5f1413a23c4752d6b6802a91de1405a37f80/expr.png\" style=\"display:inline;vertical-align:middle;\" /></a><br>"
      ],
      "text/plain": [
       "multiDomainForall: forall_{(x, y) in S * R} P(x , y)"
      ]
     },
     "execution_count": 97,
     "metadata": {},
     "output_type": "execute_result"
    }
   ],
   "source": [
    "multiDomainForall = Forall((x, y), Pxy, domains=[S, R])"
   ]
  },
  {
   "cell_type": "markdown",
   "metadata": {},
   "source": [
    "Internally, however, **ProveIt** simply splits off a condition for each *instance variable*. Notice lines 6 and 12 in the following `exprInfo()` details:"
   ]
  },
  {
   "cell_type": "code",
   "execution_count": 98,
   "metadata": {},
   "outputs": [
    {
     "data": {
      "text/html": [
       "<table><tr><th>&nbsp;</th><th>core type</th><th>sub-expressions</th><th>expression</th></tr>\n",
       "<tr><td>0</td><td>Operation</td><td>operator:&nbsp;4<br>operand:&nbsp;1<br></td><td><a class=\"ProveItLink\" href=\"__pv_it/9bb2c5f1413a23c4752d6b6802a91de1405a37f80/expr.ipynb\"><img src=\"__pv_it/9bb2c5f1413a23c4752d6b6802a91de1405a37f80/expr.png\" style=\"display:inline;vertical-align:middle;\" /></a></td></tr>\n",
       "<tr><td>1</td><td>Lambda</td><td>parameter:&nbsp;14<br>body:&nbsp;2<br>conditions:&nbsp;3<br></td><td><a class=\"ProveItLink\" href=\"__pv_it/7ab492a2556d9374c48c9f1dea90368fab0c27bb0/expr.ipynb\"><img src=\"__pv_it/7ab492a2556d9374c48c9f1dea90368fab0c27bb0/expr.png\" style=\"display:inline;vertical-align:middle;\" /></a></td></tr>\n",
       "<tr><td>2</td><td>Operation</td><td>operator:&nbsp;4<br>operand:&nbsp;5<br></td><td><a class=\"ProveItLink\" href=\"__pv_it/bf91f3dbf8308cad6b8f107b9a464e0304358a360/expr.ipynb\"><img src=\"__pv_it/bf91f3dbf8308cad6b8f107b9a464e0304358a360/expr.png\" style=\"display:inline;vertical-align:middle;\" /></a></td></tr>\n",
       "<tr><td>3</td><td>ExprList</td><td>6</td><td><a class=\"ProveItLink\" href=\"__pv_it/28143eb1b5ee9102cc0dc6002b43a07ae8e4ddbc0/expr.ipynb\"><img src=\"__pv_it/28143eb1b5ee9102cc0dc6002b43a07ae8e4ddbc0/expr.png\" style=\"display:inline;vertical-align:middle;\" /></a></td></tr>\n",
       "<tr><td>4</td><td>Literal</td><td></td><td><a class=\"ProveItLink\" href=\"../packages/proveit/logic/boolean/quantification/universal/__pv_it/265f8c02ac1094d56e0e6410a1c1fd3500dc9f540/expr.ipynb\"><img src=\"../packages/proveit/logic/boolean/quantification/universal/__pv_it/265f8c02ac1094d56e0e6410a1c1fd3500dc9f540/expr.png\" style=\"display:inline;vertical-align:middle;\" /></a></td></tr>\n",
       "<tr><td>5</td><td>Lambda</td><td>parameter:&nbsp;17<br>body:&nbsp;7<br>conditions:&nbsp;8<br></td><td><a class=\"ProveItLink\" href=\"__pv_it/e53a4531017e2a88bf5bc8a325c706218876a1e50/expr.ipynb\"><img src=\"__pv_it/e53a4531017e2a88bf5bc8a325c706218876a1e50/expr.png\" style=\"display:inline;vertical-align:middle;\" /></a></td></tr>\n",
       "<tr><td>6</td><td>Operation</td><td>operator:&nbsp;15<br>operands:&nbsp;9<br></td><td><a class=\"ProveItLink\" href=\"__pv_it/e2a5d0d2b35dbe8e279c49a9a93d84141b6063d40/expr.ipynb\"><img src=\"__pv_it/e2a5d0d2b35dbe8e279c49a9a93d84141b6063d40/expr.png\" style=\"display:inline;vertical-align:middle;\" /></a></td></tr>\n",
       "<tr><td>7</td><td>Operation</td><td>operator:&nbsp;10<br>operands:&nbsp;11<br></td><td><a class=\"ProveItLink\" href=\"../packages/proveit/__pv_it/4ebbf9cd5f2e78405c64e81897dc9bd29f55abca0/expr.ipynb\"><img src=\"../packages/proveit/__pv_it/4ebbf9cd5f2e78405c64e81897dc9bd29f55abca0/expr.png\" style=\"display:inline;vertical-align:middle;\" /></a></td></tr>\n",
       "<tr><td>8</td><td>ExprList</td><td>12</td><td><a class=\"ProveItLink\" href=\"__pv_it/ead6fa6a6bcc94d224481268c03c0eb2ed9435990/expr.ipynb\"><img src=\"__pv_it/ead6fa6a6bcc94d224481268c03c0eb2ed9435990/expr.png\" style=\"display:inline;vertical-align:middle;\" /></a></td></tr>\n",
       "<tr><td>9</td><td>ExprList</td><td>14, 13</td><td><a class=\"ProveItLink\" href=\"__pv_it/36fdea86647c815a13bd2d80d0c25d06692bc3ac0/expr.ipynb\"><img src=\"__pv_it/36fdea86647c815a13bd2d80d0c25d06692bc3ac0/expr.png\" style=\"display:inline;vertical-align:middle;\" /></a></td></tr>\n",
       "<tr><td>10</td><td>Variable</td><td></td><td><a class=\"ProveItLink\" href=\"../packages/proveit/__pv_it/6369c6c8083c513ca7161ace249642d040f9327d0/expr.ipynb\"><img src=\"../packages/proveit/__pv_it/6369c6c8083c513ca7161ace249642d040f9327d0/expr.png\" style=\"display:inline;vertical-align:middle;\" /></a></td></tr>\n",
       "<tr><td>11</td><td>ExprList</td><td>14, 17</td><td><a class=\"ProveItLink\" href=\"__pv_it/49ffa46c24d385ebbd0014895cf61cc7cb8bd9bb0/expr.ipynb\"><img src=\"__pv_it/49ffa46c24d385ebbd0014895cf61cc7cb8bd9bb0/expr.png\" style=\"display:inline;vertical-align:middle;\" /></a></td></tr>\n",
       "<tr><td>12</td><td>Operation</td><td>operator:&nbsp;15<br>operands:&nbsp;16<br></td><td><a class=\"ProveItLink\" href=\"__pv_it/dafad4e20b325bc824e76db2777fa980b12f309d0/expr.ipynb\"><img src=\"__pv_it/dafad4e20b325bc824e76db2777fa980b12f309d0/expr.png\" style=\"display:inline;vertical-align:middle;\" /></a></td></tr>\n",
       "<tr><td>13</td><td>Variable</td><td></td><td><a class=\"ProveItLink\" href=\"../packages/proveit/__pv_it/abeee18594afe51bfb1be95d9591fbba24ac53f30/expr.ipynb\"><img src=\"../packages/proveit/__pv_it/abeee18594afe51bfb1be95d9591fbba24ac53f30/expr.png\" style=\"display:inline;vertical-align:middle;\" /></a></td></tr>\n",
       "<tr><td>14</td><td>Variable</td><td></td><td><a class=\"ProveItLink\" href=\"../packages/proveit/__pv_it/530be409e3083890784cf1d7b28c9e67e90af9360/expr.ipynb\"><img src=\"../packages/proveit/__pv_it/530be409e3083890784cf1d7b28c9e67e90af9360/expr.png\" style=\"display:inline;vertical-align:middle;\" /></a></td></tr>\n",
       "<tr><td>15</td><td>Literal</td><td></td><td><a class=\"ProveItLink\" href=\"../packages/proveit/logic/set_theory/membership/__pv_it/088cbc857536a28d4119ad9639a84270ccb0545d0/expr.ipynb\"><img src=\"../packages/proveit/logic/set_theory/membership/__pv_it/088cbc857536a28d4119ad9639a84270ccb0545d0/expr.png\" style=\"display:inline;vertical-align:middle;\" /></a></td></tr>\n",
       "<tr><td>16</td><td>ExprList</td><td>17, 18</td><td><a class=\"ProveItLink\" href=\"__pv_it/a9f2b84479a5c326e23d93bff2165e49befdd8ef0/expr.ipynb\"><img src=\"__pv_it/a9f2b84479a5c326e23d93bff2165e49befdd8ef0/expr.png\" style=\"display:inline;vertical-align:middle;\" /></a></td></tr>\n",
       "<tr><td>17</td><td>Variable</td><td></td><td><a class=\"ProveItLink\" href=\"../packages/proveit/__pv_it/f8b9edf8e16034727f0aad55bb83e392c3db40d40/expr.ipynb\"><img src=\"../packages/proveit/__pv_it/f8b9edf8e16034727f0aad55bb83e392c3db40d40/expr.png\" style=\"display:inline;vertical-align:middle;\" /></a></td></tr>\n",
       "<tr><td>18</td><td>Variable</td><td></td><td><a class=\"ProveItLink\" href=\"../packages/proveit/__pv_it/e24df48bc297bbcf3538a62f5b4f635a392abfce0/expr.ipynb\"><img src=\"../packages/proveit/__pv_it/e24df48bc297bbcf3538a62f5b4f635a392abfce0/expr.png\" style=\"display:inline;vertical-align:middle;\" /></a></td></tr>\n",
       "</table>\n"
      ],
      "text/plain": [
       "0. forall_{(x, y) in S * R} P(x , y)\n",
       "   core type: Operation\n",
       "   operator: 4\n",
       "   operand: 1\n",
       "1. x -> [forall_{y in R} P(x , y)] | x in S\n",
       "   core type: Lambda\n",
       "   parameter: 14\n",
       "   body: 2\n",
       "   conditions: 3\\n2. forall_{y in R} P(x , y)\n",
       "   core type: Operation\n",
       "   operator: 4\n",
       "   operand: 5\n",
       "3. (x in S)\n",
       "   core type: ExprList\n",
       "   sub-expressions: 6\n",
       "4. forall\n",
       "   core type: Literal\n",
       "   sub-expressions: \n",
       "5. y -> P(x , y) | y in R\n",
       "   core type: Lambda\n",
       "   parameter: 17\n",
       "   body: 7\n",
       "   conditions: 8\\n6. x in S\n",
       "   core type: Operation\n",
       "   operator: 15\n",
       "   operands: 9\n",
       "7. P(x , y)\n",
       "   core type: Operation\n",
       "   operator: 10\n",
       "   operands: 11\n",
       "8. (y in R)\n",
       "   core type: ExprList\n",
       "   sub-expressions: 12\n",
       "9. (x , S)\n",
       "   core type: ExprList\n",
       "   sub-expressions: 14, 13\n",
       "10. P\n",
       "    core type: Variable\n",
       "    sub-expressions: \n",
       "11. (x , y)\n",
       "    core type: ExprList\n",
       "    sub-expressions: 14, 17\n",
       "12. y in R\n",
       "    core type: Operation\n",
       "    operator: 15\n",
       "    operands: 16\n",
       "13. S\n",
       "    core type: Variable\n",
       "    sub-expressions: \n",
       "14. x\n",
       "    core type: Variable\n",
       "    sub-expressions: \n",
       "15. in\n",
       "    core type: Literal\n",
       "    sub-expressions: \n",
       "16. (y , R)\n",
       "    core type: ExprList\n",
       "    sub-expressions: 17, 18\n",
       "17. y\n",
       "    core type: Variable\n",
       "    sub-expressions: \n",
       "18. R\n",
       "    core type: Variable\n",
       "    sub-expressions: "
      ]
     },
     "execution_count": 98,
     "metadata": {},
     "output_type": "execute_result"
    }
   ],
   "source": [
    "multiDomainForall.exprInfo()"
   ]
  },
  {
   "cell_type": "markdown",
   "metadata": {},
   "source": [
    "We can perform a specialization of $\\forall_{(x, y)\\,\\in\\, S \\,\\times\\, R} P(x, y)$ analogous to the previous specialization of $\\forall_{x, y\\,\\in\\, S} P(x, y)$, but now specifying distinct set-inclusion assumptions for the variables $x$ and $y$:"
   ]
  },
  {
   "cell_type": "code",
   "execution_count": 99,
   "metadata": {},
   "outputs": [
    {
     "data": {
      "text/html": [
       "<strong id=\"multiDomainForallSpec\">multiDomainForallSpec:</strong> <span style=\"font-size:20px;\"><a class=\"ProveItLink\" href=\"__pv_it/15bd94b3d60276a6916375c2d6239b822a8e63950/expr.ipynb\"><img src=\"__pv_it/15bd94b3d60276a6916375c2d6239b822a8e63950/expr.png\" style=\"display:inline;vertical-align:middle;\" /></a> &#x22A2;&nbsp;<a class=\"ProveItLink\" href=\"../packages/proveit/__pv_it/4ebbf9cd5f2e78405c64e81897dc9bd29f55abca0/expr.ipynb\"><img src=\"../packages/proveit/__pv_it/4ebbf9cd5f2e78405c64e81897dc9bd29f55abca0/expr.png\" style=\"display:inline;vertical-align:middle;\" /></a></span><br>"
      ],
      "text/plain": [
       "multiDomainForallSpec: {forall_{(x, y) in S * R} P(x , y) , x in S , y in R} |- P(x , y)"
      ]
     },
     "execution_count": 99,
     "metadata": {},
     "output_type": "execute_result"
    }
   ],
   "source": [
    "assumptions = [multiDomainForall, InSet(x, S), InSet(y, R)]\n",
    "multiDomainForallSpec = multiDomainForall.specialize(assumptions=assumptions)"
   ]
  },
  {
   "cell_type": "code",
   "execution_count": 100,
   "metadata": {},
   "outputs": [
    {
     "data": {
      "text/html": [
       "<table><tr><th>&nbsp;</th><th>step type</th><th>requirements</th><th>statement</th></tr>\n",
       "<tr><td>0</td><td>specialization</td><td>1, 2, 3</td><td><span style=\"font-size:20px;\"><a class=\"ProveItLink\" href=\"__pv_it/15bd94b3d60276a6916375c2d6239b822a8e63950/expr.ipynb\"><img src=\"__pv_it/15bd94b3d60276a6916375c2d6239b822a8e63950/expr.png\" style=\"display:inline;vertical-align:middle;\" /></a> &#x22A2;&nbsp;<a class=\"ProveItLink\" href=\"../packages/proveit/__pv_it/4ebbf9cd5f2e78405c64e81897dc9bd29f55abca0/expr.ipynb\"><img src=\"../packages/proveit/__pv_it/4ebbf9cd5f2e78405c64e81897dc9bd29f55abca0/expr.png\" style=\"display:inline;vertical-align:middle;\" /></a></span></td></tr>\n",
       "<tr><td>&nbsp;</td><td colspan=4 style=\"text-align:left\"><span style=\"font-size:20px;\"><a class=\"ProveItLink\" href=\"../packages/proveit/__pv_it/530be409e3083890784cf1d7b28c9e67e90af9360/expr.ipynb\"><img src=\"../packages/proveit/__pv_it/530be409e3083890784cf1d7b28c9e67e90af9360/expr.png\" style=\"display:inline;vertical-align:middle;\" /></a> : <a class=\"ProveItLink\" href=\"../packages/proveit/__pv_it/530be409e3083890784cf1d7b28c9e67e90af9360/expr.ipynb\"><img src=\"../packages/proveit/__pv_it/530be409e3083890784cf1d7b28c9e67e90af9360/expr.png\" style=\"display:inline;vertical-align:middle;\" /></a>, <a class=\"ProveItLink\" href=\"../packages/proveit/__pv_it/f8b9edf8e16034727f0aad55bb83e392c3db40d40/expr.ipynb\"><img src=\"../packages/proveit/__pv_it/f8b9edf8e16034727f0aad55bb83e392c3db40d40/expr.png\" style=\"display:inline;vertical-align:middle;\" /></a> : <a class=\"ProveItLink\" href=\"../packages/proveit/__pv_it/f8b9edf8e16034727f0aad55bb83e392c3db40d40/expr.ipynb\"><img src=\"../packages/proveit/__pv_it/f8b9edf8e16034727f0aad55bb83e392c3db40d40/expr.png\" style=\"display:inline;vertical-align:middle;\" /></a></span></td></tr><tr><td>1</td><td>assumption</td><td></td><td><span style=\"font-size:20px;\"><a class=\"ProveItLink\" href=\"__pv_it/cb35b5b00a481d11ae824ee33ac7f336e67d941c0/expr.ipynb\"><img src=\"__pv_it/cb35b5b00a481d11ae824ee33ac7f336e67d941c0/expr.png\" style=\"display:inline;vertical-align:middle;\" /></a> &#x22A2;&nbsp;<a class=\"ProveItLink\" href=\"__pv_it/9bb2c5f1413a23c4752d6b6802a91de1405a37f80/expr.ipynb\"><img src=\"__pv_it/9bb2c5f1413a23c4752d6b6802a91de1405a37f80/expr.png\" style=\"display:inline;vertical-align:middle;\" /></a></span></td></tr>\n",
       "<tr><td>2</td><td>assumption</td><td></td><td><span style=\"font-size:20px;\"><a class=\"ProveItLink\" href=\"__pv_it/98af5737a9597412d38c1dd0437c30eb2330cbe00/expr.ipynb\"><img src=\"__pv_it/98af5737a9597412d38c1dd0437c30eb2330cbe00/expr.png\" style=\"display:inline;vertical-align:middle;\" /></a> &#x22A2;&nbsp;<a class=\"ProveItLink\" href=\"__pv_it/e2a5d0d2b35dbe8e279c49a9a93d84141b6063d40/expr.ipynb\"><img src=\"__pv_it/e2a5d0d2b35dbe8e279c49a9a93d84141b6063d40/expr.png\" style=\"display:inline;vertical-align:middle;\" /></a></span></td></tr>\n",
       "<tr><td>3</td><td>assumption</td><td></td><td><span style=\"font-size:20px;\"><a class=\"ProveItLink\" href=\"__pv_it/45bd47a8a0ce95b6ee6bff63cc0cecd06683889f0/expr.ipynb\"><img src=\"__pv_it/45bd47a8a0ce95b6ee6bff63cc0cecd06683889f0/expr.png\" style=\"display:inline;vertical-align:middle;\" /></a> &#x22A2;&nbsp;<a class=\"ProveItLink\" href=\"__pv_it/dafad4e20b325bc824e76db2777fa980b12f309d0/expr.ipynb\"><img src=\"__pv_it/dafad4e20b325bc824e76db2777fa980b12f309d0/expr.png\" style=\"display:inline;vertical-align:middle;\" /></a></span></td></tr>\n",
       "</table>"
      ],
      "text/plain": [
       "\tstep type\trequirements\tstatement\n",
       "0\tspecialization\t1, 2, 3\t{forall_{(x, y) in S * R} P(x , y) , x in S , y in R} |- P(x , y)\n",
       "\tx : x, y : y\n",
       "1\tassumption\t\t{forall_{(x, y) in S * R} P(x , y)} |- forall_{(x, y) in S * R} P(x , y)\n",
       "2\tassumption\t\t{x in S} |- x in S\n",
       "3\tassumption\t\t{y in R} |- y in R"
      ]
     },
     "execution_count": 100,
     "metadata": {},
     "output_type": "execute_result"
    }
   ],
   "source": [
    "multiDomainForallSpec.proof()"
   ]
  },
  {
   "cell_type": "markdown",
   "metadata": {},
   "source": [
    "Universal quantification over an unspecified number of **variables** via **iterations** will be discussed in the chapter on <a href=\"tutorial11_advanced_proofs.ipynb\">proofs using advanced expressions</a>."
   ]
  },
  {
   "cell_type": "markdown",
   "metadata": {},
   "source": [
    "Generalization\n",
    "========\n",
    "\n",
    "*Generalization* is the \"inverse\" of *specialization* just as *hypothetical reasoning* was the \"inverse\" of *modus ponens*.  We can write these derivation rules in a manner that makes this relationship clear (just as we did for *hypothetical reasoning* and *modus ponens*):\n",
    "\n",
    "Specialization: \n",
    "$\\begin{array}{c}\n",
    "\\boldsymbol{\\vdash} \\forall_{x \\in S~|~Q(x)} P(x) \\\\\n",
    "\\hline\n",
    "\\left \\{\\clubsuit \\in S,~Q(\\clubsuit) \\right \\} \\boldsymbol{\\vdash} P(\\clubsuit)\n",
    "\\end{array}$\n",
    "\n",
    "Generalization: \n",
    "$\\begin{array}{c}\n",
    "\\left \\{ x \\in S,~Q(x) \\right \\} \\boldsymbol{\\vdash} P(x) \\\\\n",
    "\\hline\n",
    "\\boldsymbol{\\vdash} \\forall_{x \\in S~|~Q(x)} P(x)\n",
    "\\end{array}$\n",
    "\n",
    "$P(x)$ and $Q(x)$ are intended to represent any function of $x$.\n",
    "There is some asymmetry between *specialization* and *generalization*.  $\\clubsuit$ here is meant to represent *any* **expression**, not necessarily a **variable**, as long is it does not violate scoping restrictions (*e.g.*, having a free **variable** that is the same as a **lambda** *parameter* within the $P$ or $Q$ functions).  However, *generalization* only applies to an unbound **variable**.  In Prove-It, an unbound **variable** is regarded as an \"arbitrary\" variable.  Essentially, it is implicitly universally quantified.  Recall that *modus ponens* converts an explicit antecedent to an implicit assumption and *hypothetical reasoning* does the opposite.  Similarly, *specialization* converts an explicit universal quantification to implicit arbitrary variables and *generalization* does the opposite.  The reason for having the explicit and implicit forms is much the same as it was for the antecedent versus assumption.  The explicit form allows nesting but the implicit form provides direct access to the instance expression.  Furthermore, explicit universal quantification offers the power of being able to *specialize* an instance variable to an arbitrary **expression**.\n",
    "\n",
    "The above derivation rules are expressed for a single **variable**.  Such rules apply more generally to any number of **variables** (including an unspecified number of **variables** via **iterations** discussed in in the chapter on <a href=\"tutorial11_advanced_proofs.ipynb\">proofs using advanced expressions</a>).\n",
    "\n",
    "The following examples will start from a *specialization* instance of the `substitution` **known truth** visited earlier:"
   ]
  },
  {
   "cell_type": "code",
   "execution_count": 101,
   "metadata": {},
   "outputs": [
    {
     "data": {
      "text/html": [
       "<span style=\"font-size:20px;\"> &#x22A2;&nbsp;<a class=\"ProveItLink\" href=\"../packages/proveit/logic/equality/__pv_it/6ec2193ff7f2a0001aea3e112ec0ee2dddc5beb10/expr.ipynb\"><img src=\"../packages/proveit/logic/equality/__pv_it/6ec2193ff7f2a0001aea3e112ec0ee2dddc5beb10/expr.png\" style=\"display:inline;vertical-align:middle;\" /></a></span>"
      ],
      "text/plain": [
       "|- forall_{f, x, y | x = y} (f(x) = f(y))"
      ]
     },
     "execution_count": 101,
     "metadata": {},
     "output_type": "execute_result"
    }
   ],
   "source": [
    "substitution"
   ]
  },
  {
   "cell_type": "code",
   "execution_count": 102,
   "metadata": {},
   "outputs": [
    {
     "data": {
      "text/html": [
       "<strong id=\"operationSubstitution\">operationSubstitution:</strong> <span style=\"font-size:20px;\"><a class=\"ProveItLink\" href=\"__pv_it/f6fa7e29a5b93946fccb5b3fdced1428fc9509210/expr.ipynb\"><img src=\"__pv_it/f6fa7e29a5b93946fccb5b3fdced1428fc9509210/expr.png\" style=\"display:inline;vertical-align:middle;\" /></a> &#x22A2;&nbsp;<a class=\"ProveItLink\" href=\"__pv_it/2c97a10aa7f7a70eaba5874c63aa02c18c9ec5630/expr.ipynb\"><img src=\"__pv_it/2c97a10aa7f7a70eaba5874c63aa02c18c9ec5630/expr.png\" style=\"display:inline;vertical-align:middle;\" /></a></span><br>"
      ],
      "text/plain": [
       "operationSubstitution: {x = y} |- (x + a) = (y + a)"
      ]
     },
     "execution_count": 102,
     "metadata": {},
     "output_type": "execute_result"
    }
   ],
   "source": [
    "operationSubstitution = substitution.specialize({f:Lambda(x, Add(x, a)), x:x, y:y}, assumptions=[Equals(x, y)])"
   ]
  },
  {
   "cell_type": "markdown",
   "metadata": {},
   "source": [
    "First, we try to *generalize* this **known truth** for all instances of $a$, $x$, and $y$ without any conditions or domain restrictions:"
   ]
  },
  {
   "cell_type": "code",
   "execution_count": 103,
   "metadata": {},
   "outputs": [
    {
     "name": "stdout",
     "output_type": "stream",
     "text": [
      "EXPECTED ERROR: Unable to prove forall_{a, x, y} ((x + a) = (y + a)) assuming {x = y}: Cannot generalize using assumptions that involve any of the new forall variables (except as assumptions are eliminated via conditions or domains)\n"
     ]
    }
   ],
   "source": [
    "from proveit import GeneralizationFailure\n",
    "try:\n",
    "    operationSubstitution.generalize((a, x, y))\n",
    "    assert False, \"Expecting a GeneralizationFailure error; should not make it to this point\"\n",
    "except GeneralizationFailure as e:\n",
    "    print('EXPECTED ERROR:', e)"
   ]
  },
  {
   "cell_type": "markdown",
   "metadata": {},
   "source": [
    "That `generalize()` attempt fails because the assumptions of the original **known truth** involve the same **variables** that we are trying to *generalize* over.  That is not allowed because universal quantification introduces a new scope for $x$ and $y$ (as well as $a$) and the $x=y$ assumption would be external to this scope.  If, however, this assumption is introduced as a condition of the new universal quantification, then we no longer need to retain it as an assumption.  That assumption will be absorbed into the universal quantification conditions."
   ]
  },
  {
   "cell_type": "code",
   "execution_count": 104,
   "metadata": {},
   "outputs": [
    {
     "data": {
      "text/html": [
       "<span style=\"font-size:20px;\"> &#x22A2;&nbsp;<a class=\"ProveItLink\" href=\"__pv_it/d97480db95b6b6765dc8f54e7aad92f5b71e9bac0/expr.ipynb\"><img src=\"__pv_it/d97480db95b6b6765dc8f54e7aad92f5b71e9bac0/expr.png\" style=\"display:inline;vertical-align:middle;\" /></a></span>"
      ],
      "text/plain": [
       "|- forall_{a, x, y | x = y} ((x + a) = (y + a))"
      ]
     },
     "execution_count": 104,
     "metadata": {},
     "output_type": "execute_result"
    }
   ],
   "source": [
    "operationSubstitution.generalize((a, x, y), conditions=[x_eq_y])"
   ]
  },
  {
   "cell_type": "markdown",
   "metadata": {},
   "source": [
    "Adding additional restrictions, such as a domain and/or other conditions, only makes the statement weaker and is therefore allowed:"
   ]
  },
  {
   "cell_type": "code",
   "execution_count": 105,
   "metadata": {},
   "outputs": [
    {
     "data": {
      "text/html": [
       "<span style=\"font-size:20px;\"> &#x22A2;&nbsp;<a class=\"ProveItLink\" href=\"__pv_it/3f7d42b4e826a6c2f1fb5e6bbe928f7a5d004c7f0/expr.ipynb\"><img src=\"__pv_it/3f7d42b4e826a6c2f1fb5e6bbe928f7a5d004c7f0/expr.png\" style=\"display:inline;vertical-align:middle;\" /></a></span>"
      ],
      "text/plain": [
       "|- forall_{a, x, y in S | x = y} ((x + a) = (y + a))"
      ]
     },
     "execution_count": 105,
     "metadata": {},
     "output_type": "execute_result"
    }
   ],
   "source": [
    "operationSubstitution.generalize((a, x, y), conditions=[x_eq_y], domain=S)"
   ]
  },
  {
   "cell_type": "code",
   "execution_count": 106,
   "metadata": {
    "scrolled": true
   },
   "outputs": [
    {
     "data": {
      "text/html": [
       "<span style=\"font-size:20px;\"> &#x22A2;&nbsp;<a class=\"ProveItLink\" href=\"__pv_it/8a53562e2ebdc537bf4dce3a0792d84180345e7b0/expr.ipynb\"><img src=\"__pv_it/8a53562e2ebdc537bf4dce3a0792d84180345e7b0/expr.png\" style=\"display:inline;vertical-align:middle;\" /></a></span>"
      ],
      "text/plain": [
       "|- forall_{a, x, y in S | x = y , Q(x)} ((x + a) = (y + a))"
      ]
     },
     "execution_count": 106,
     "metadata": {},
     "output_type": "execute_result"
    }
   ],
   "source": [
    "operationSubstitution.generalize((a, x, y), conditions=[x_eq_y, Qx], domain=S)"
   ]
  },
  {
   "cell_type": "markdown",
   "metadata": {},
   "source": [
    "It is also possible to create multiple levels of nested `Forall` operations in one step with possibly different domains.  Simply provide a list of lists of **Variable**s as the first argument to `generalize` and a corresponding list of `domains`.  The conditions are applied at the outermost level possible (as soon as all of the relevant variables have been introduced) but otherwise retaining the order that the `conditions` were supplied."
   ]
  },
  {
   "cell_type": "code",
   "execution_count": 107,
   "metadata": {
    "scrolled": false
   },
   "outputs": [
    {
     "data": {
      "text/html": [
       "<strong id=\"nestedGenExample\">nestedGenExample:</strong> <span style=\"font-size:20px;\"> &#x22A2;&nbsp;<a class=\"ProveItLink\" href=\"__pv_it/419474447dd3f61a1b378795c6c05253be74b9880/expr.ipynb\"><img src=\"__pv_it/419474447dd3f61a1b378795c6c05253be74b9880/expr.png\" style=\"display:inline;vertical-align:middle;\" /></a></span><br>"
      ],
      "text/plain": [
       "nestedGenExample: |- forall_{a in P | Q(a)} [forall_{(x, y) in R * S | x = y , Q(x)} ((x + a) = (y + a))]"
      ]
     },
     "execution_count": 107,
     "metadata": {},
     "output_type": "execute_result"
    }
   ],
   "source": [
    "Qa = Function(Q, a)\n",
    "nestedGenExample = operationSubstitution.generalize([[a], [x, y]], domainLists=[[P], [R, S]], conditions=[x_eq_y, Qx, Qa])"
   ]
  },
  {
   "cell_type": "markdown",
   "metadata": {},
   "source": [
    "Note that the $Q(a)$ condition was moved to the front even though it was the last supplied condition because it can be applied before the others.  The *generalization* with multiple leves of nested `Forall` operations takes one step in the proof:"
   ]
  },
  {
   "cell_type": "code",
   "execution_count": 108,
   "metadata": {
    "scrolled": true
   },
   "outputs": [
    {
     "data": {
      "text/html": [
       "<table><tr><th>&nbsp;</th><th>step type</th><th>requirements</th><th>statement</th></tr>\n",
       "<tr><td>0</td><td>generalizaton</td><td>1</td><td><span style=\"font-size:20px;\"> &#x22A2;&nbsp;<a class=\"ProveItLink\" href=\"__pv_it/419474447dd3f61a1b378795c6c05253be74b9880/expr.ipynb\"><img src=\"__pv_it/419474447dd3f61a1b378795c6c05253be74b9880/expr.png\" style=\"display:inline;vertical-align:middle;\" /></a></span></td></tr>\n",
       "<tr><td>1</td><td>specialization</td><td>2, 3</td><td><span style=\"font-size:20px;\"><a class=\"ProveItLink\" href=\"__pv_it/f6fa7e29a5b93946fccb5b3fdced1428fc9509210/expr.ipynb\"><img src=\"__pv_it/f6fa7e29a5b93946fccb5b3fdced1428fc9509210/expr.png\" style=\"display:inline;vertical-align:middle;\" /></a> &#x22A2;&nbsp;<a class=\"ProveItLink\" href=\"__pv_it/2c97a10aa7f7a70eaba5874c63aa02c18c9ec5630/expr.ipynb\"><img src=\"__pv_it/2c97a10aa7f7a70eaba5874c63aa02c18c9ec5630/expr.png\" style=\"display:inline;vertical-align:middle;\" /></a></span></td></tr>\n",
       "<tr><td>&nbsp;</td><td colspan=4 style=\"text-align:left\"><span style=\"font-size:20px;\"><a class=\"ProveItLink\" href=\"../packages/proveit/__pv_it/182d3f256e21dc75ea1ec3168bda49a871e4700a0/expr.ipynb\"><img src=\"../packages/proveit/__pv_it/182d3f256e21dc75ea1ec3168bda49a871e4700a0/expr.png\" style=\"display:inline;vertical-align:middle;\" /></a> : <a class=\"ProveItLink\" href=\"__pv_it/24e7b55e66b6069db7da0c84c69a02ae3d51ed4d0/expr.ipynb\"><img src=\"__pv_it/24e7b55e66b6069db7da0c84c69a02ae3d51ed4d0/expr.png\" style=\"display:inline;vertical-align:middle;\" /></a>, <a class=\"ProveItLink\" href=\"../packages/proveit/__pv_it/530be409e3083890784cf1d7b28c9e67e90af9360/expr.ipynb\"><img src=\"../packages/proveit/__pv_it/530be409e3083890784cf1d7b28c9e67e90af9360/expr.png\" style=\"display:inline;vertical-align:middle;\" /></a> : <a class=\"ProveItLink\" href=\"../packages/proveit/__pv_it/530be409e3083890784cf1d7b28c9e67e90af9360/expr.ipynb\"><img src=\"../packages/proveit/__pv_it/530be409e3083890784cf1d7b28c9e67e90af9360/expr.png\" style=\"display:inline;vertical-align:middle;\" /></a>, <a class=\"ProveItLink\" href=\"../packages/proveit/__pv_it/f8b9edf8e16034727f0aad55bb83e392c3db40d40/expr.ipynb\"><img src=\"../packages/proveit/__pv_it/f8b9edf8e16034727f0aad55bb83e392c3db40d40/expr.png\" style=\"display:inline;vertical-align:middle;\" /></a> : <a class=\"ProveItLink\" href=\"../packages/proveit/__pv_it/f8b9edf8e16034727f0aad55bb83e392c3db40d40/expr.ipynb\"><img src=\"../packages/proveit/__pv_it/f8b9edf8e16034727f0aad55bb83e392c3db40d40/expr.png\" style=\"display:inline;vertical-align:middle;\" /></a></span></td></tr><tr><td>2</td><td>axiom</td><td></td><td><span style=\"font-size:20px;\"> &#x22A2;&nbsp;<a class=\"ProveItLink\" href=\"../packages/proveit/logic/equality/__pv_it/6ec2193ff7f2a0001aea3e112ec0ee2dddc5beb10/expr.ipynb\"><img src=\"../packages/proveit/logic/equality/__pv_it/6ec2193ff7f2a0001aea3e112ec0ee2dddc5beb10/expr.png\" style=\"display:inline;vertical-align:middle;\" /></a></span></td></tr>\n",
       "<tr><td>&nbsp;</td><td colspan=4 style-\"text-align:left\"><a class=\"ProveItLink\" href=\"../packages/proveit/logic/equality/_axioms_.ipynb#substitution\">proveit.logic.equality.substitution</a></td></tr><tr><td>3</td><td>assumption</td><td></td><td><span style=\"font-size:20px;\"><a class=\"ProveItLink\" href=\"__pv_it/f6fa7e29a5b93946fccb5b3fdced1428fc9509210/expr.ipynb\"><img src=\"__pv_it/f6fa7e29a5b93946fccb5b3fdced1428fc9509210/expr.png\" style=\"display:inline;vertical-align:middle;\" /></a> &#x22A2;&nbsp;<a class=\"ProveItLink\" href=\"__pv_it/74ae967be5bd1c096ad29ed9e31ac59a533f07b30/expr.ipynb\"><img src=\"__pv_it/74ae967be5bd1c096ad29ed9e31ac59a533f07b30/expr.png\" style=\"display:inline;vertical-align:middle;\" /></a></span></td></tr>\n",
       "</table>"
      ],
      "text/plain": [
       "\tstep type\trequirements\tstatement\n",
       "0\tgeneralizaton\t1\t|- forall_{a in P | Q(a)} [forall_{(x, y) in R * S | x = y , Q(x)} ((x + a) = (y + a))]\n",
       "1\tspecialization\t2, 3\t{x = y} |- (x + a) = (y + a)\n",
       "\tf(x) : x + a, x : x, y : y\n",
       "2\taxiom\t\t|- forall_{f, x, y | x = y} (f(x) = f(y))\n",
       "\tproveit.logic.equality.substitution\n",
       "3\tassumption\t\t{x = y} |- x = y"
      ]
     },
     "execution_count": 108,
     "metadata": {},
     "output_type": "execute_result"
    }
   ],
   "source": [
    "nestedGenExample.proof()"
   ]
  },
  {
   "cell_type": "markdown",
   "metadata": {},
   "source": [
    "For any level in which multiple instance variables are introduced, a domain can be supplied for each new variable (as above) or one may be specified as the same domain for each of them:"
   ]
  },
  {
   "cell_type": "code",
   "execution_count": 109,
   "metadata": {},
   "outputs": [
    {
     "data": {
      "text/html": [
       "<span style=\"font-size:20px;\"> &#x22A2;&nbsp;<a class=\"ProveItLink\" href=\"__pv_it/73e69b5cebec6d19fde07adc16e8ccafb7a60ccf0/expr.ipynb\"><img src=\"__pv_it/73e69b5cebec6d19fde07adc16e8ccafb7a60ccf0/expr.png\" style=\"display:inline;vertical-align:middle;\" /></a></span>"
      ],
      "text/plain": [
       "|- forall_{a in P | Q(a)} [forall_{x, y in R | x = y , Q(x)} ((x + a) = (y + a))]"
      ]
     },
     "execution_count": 109,
     "metadata": {},
     "output_type": "execute_result"
    }
   ],
   "source": [
    "operationSubstitution.generalize([[a], [x, y]], domainLists=[[P], [R]], conditions=[x_eq_y, Qx, Qa])"
   ]
  },
  {
   "cell_type": "markdown",
   "metadata": {},
   "source": [
    "When *generalizing* over a single **variable**, the first argument may be just that **variable** rather than a list or tuple:"
   ]
  },
  {
   "cell_type": "code",
   "execution_count": 110,
   "metadata": {},
   "outputs": [
    {
     "data": {
      "text/html": [
       "<span style=\"font-size:20px;\"><a class=\"ProveItLink\" href=\"__pv_it/f6fa7e29a5b93946fccb5b3fdced1428fc9509210/expr.ipynb\"><img src=\"__pv_it/f6fa7e29a5b93946fccb5b3fdced1428fc9509210/expr.png\" style=\"display:inline;vertical-align:middle;\" /></a> &#x22A2;&nbsp;<a class=\"ProveItLink\" href=\"__pv_it/5355908becc39bfc1a24002aedc13abdff02ea0a0/expr.ipynb\"><img src=\"__pv_it/5355908becc39bfc1a24002aedc13abdff02ea0a0/expr.png\" style=\"display:inline;vertical-align:middle;\" /></a></span>"
      ],
      "text/plain": [
       "{x = y} |- forall_{a | Q(a)} ((x + a) = (y + a))"
      ]
     },
     "execution_count": 110,
     "metadata": {},
     "output_type": "execute_result"
    }
   ],
   "source": [
    "operationSubstitution.generalize(a, conditions=[Qa])"
   ]
  },
  {
   "cell_type": "markdown",
   "metadata": {},
   "source": [
    "We may only *generalize* over **variables** (or **iterations** of **variables**) however:"
   ]
  },
  {
   "cell_type": "code",
   "execution_count": 111,
   "metadata": {
    "scrolled": true
   },
   "outputs": [
    {
     "name": "stdout",
     "output_type": "stream",
     "text": [
      "EXPECTED ERROR: Must supply 'generalize' with a Variable, list of Variables, or list of Variable lists.\n"
     ]
    }
   ],
   "source": [
    "try:\n",
    "    operationSubstitution.generalize(Qx, conditions=[Qa])\n",
    "    assert False, \"Expecting an ValueError error; should not make it to this point\"    \n",
    "except ValueError as e:\n",
    "    print('EXPECTED ERROR:', e)"
   ]
  },
  {
   "cell_type": "code",
   "execution_count": 112,
   "metadata": {
    "scrolled": true
   },
   "outputs": [
    {
     "name": "stdout",
     "output_type": "stream",
     "text": [
      "EXPECTED ERROR: Forall variables of a generalization must be Variable objects\n"
     ]
    }
   ],
   "source": [
    "try:\n",
    "    operationSubstitution.generalize([[a], [Qx]], conditions=[Qa])\n",
    "    assert False, \"Expecting an ValueError error; should not make it to this point\"\n",
    "except ValueError as e:\n",
    "    print('EXPECTED ERROR:', e)"
   ]
  },
  {
   "cell_type": "code",
   "execution_count": 113,
   "metadata": {},
   "outputs": [],
   "source": [
    "%end skolemization_explorations"
   ]
  },
  {
   "cell_type": "markdown",
   "metadata": {},
   "source": [
    "*Generalizing* an unspecified number of **variables** via an **iteration** will be discussed in the chapter on <a href=\"tutorial11_advanced_proofs.ipynb\">proofs using advanced expressions</a>."
   ]
  }
 ],
 "metadata": {
  "kernelspec": {
   "display_name": "Python 3",
   "language": "python",
   "name": "python3"
  },
  "language_info": {
   "codemirror_mode": {
    "name": "ipython",
    "version": 3
   },
   "file_extension": ".py",
   "mimetype": "text/x-python",
   "name": "python",
   "nbconvert_exporter": "python",
   "pygments_lexer": "ipython3",
   "version": "3.7.1"
  }
 },
 "nbformat": 4,
 "nbformat_minor": 1
}
