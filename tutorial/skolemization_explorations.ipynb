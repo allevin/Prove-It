{
 "cells": [
  {
   "cell_type": "markdown",
   "metadata": {},
   "source": [
    "Skolemization-Related Explorations\n",
    "==================\n",
    "\n",
    "This is a temporary notebook for exploring issues related to a skolemize() method for KnownTruth objects, in particular for known truths involving universal ($\\forall$) and existential ($\\exists$) quantifiers.\n",
    "\n",
    "The notebook was generated initially as a copy of the Forall tutorial notebook, and thus while under construction many of the cells and other elements of the original notebook remain.\n",
    "\n",
    "($\\forall$) Universal quantification is another core concept in **Prove-It**.  A `Forall` operation, formatted with the $\\forall$ symbol, is used to represent universal quantification.  For example, $\\forall_x P(x)$ means that $P(x)$ is true for any instance of $x$.  $P(x)$ holds true universally over instances of $x$.  Like `Implies`, `Forall` is a core concept but is defined outside of the core in the `proveit.logic` package. It is known in the core for use in the *specialization* and *generalization* derivation steps discussed below.\n",
    "\n",
    "First, let us import some necessary information then consider an example of a `Forall` object like $\\forall_{x \\,\\in\\, S \\,|\\, Q(x), R(x)} P(x)$:"
   ]
  },
  {
   "cell_type": "code",
   "execution_count": 1,
   "metadata": {},
   "outputs": [],
   "source": [
    "from proveit import Function, ExprList, Lambda, Literal\n",
    "from proveit.logic import Forall, Exists, InSet, Equals\n",
    "from proveit.logic.equality._axioms_ import substitution\n",
    "from proveit.number import Less, Add, Frac, zero\n",
    "from proveit._common_ import a, b, f, x, y, z, fx, P, Px, Pxy, Q, Qx, R, Rx, Ry, S, T\n",
    "%begin skolemization_explorations"
   ]
  },
  {
   "cell_type": "code",
   "execution_count": 2,
   "metadata": {},
   "outputs": [
    {
     "data": {
      "text/html": [
       "<strong id=\"basicForallExpr\">basicForallExpr:</strong> <a class=\"ProveItLink\" href=\"__pv_it/768e0ea8953379b26e536b52c663304c5502b1240/expr.ipynb\"><img src=\"__pv_it/768e0ea8953379b26e536b52c663304c5502b1240/expr.png\" style=\"display:inline;vertical-align:middle;\" /></a><br>"
      ],
      "text/plain": [
       "basicForallExpr: forall_{x in S | Q(x) , R(x)} P(x)"
      ]
     },
     "execution_count": 2,
     "metadata": {},
     "output_type": "execute_result"
    }
   ],
   "source": [
    "basicForallExpr = Forall(x, Px, conditions=[Qx, Rx], domain=S)"
   ]
  },
  {
   "cell_type": "code",
   "execution_count": 3,
   "metadata": {},
   "outputs": [
    {
     "data": {
      "text/html": [
       "<span style=\"font-size:20px;\"><a class=\"ProveItLink\" href=\"__pv_it/98e61b07a642cdd0c15c83bca010309363977c1b0/expr.ipynb\"><img src=\"__pv_it/98e61b07a642cdd0c15c83bca010309363977c1b0/expr.png\" style=\"display:inline;vertical-align:middle;\" /></a> &#x22A2;&nbsp;<a class=\"ProveItLink\" href=\"__pv_it/58941bbcf185460a0949cb757b00efbf2b54044b0/expr.ipynb\"><img src=\"__pv_it/58941bbcf185460a0949cb757b00efbf2b54044b0/expr.png\" style=\"display:inline;vertical-align:middle;\" /></a></span>"
      ],
      "text/plain": [
       "{forall_{x in S | Q(x) , R(x)} P(x) , a in S , Q(a) , R(a)} |- P(a)"
      ]
     },
     "execution_count": 3,
     "metadata": {},
     "output_type": "execute_result"
    }
   ],
   "source": [
    "Qa = Function(Q, a)\n",
    "Ra = Function(R, a)\n",
    "Lc = Literal('c')\n",
    "basicForallExpr.specialize({x:a}, assumptions=(basicForallExpr, InSet(a, S), Qa, Ra))"
   ]
  },
  {
   "cell_type": "code",
   "execution_count": 4,
   "metadata": {},
   "outputs": [
    {
     "data": {
      "text/html": [
       "<strong id=\"basicForallExprSpec\">basicForallExprSpec:</strong> <span style=\"font-size:20px;\"><a class=\"ProveItLink\" href=\"__pv_it/e17d081b776588796c5e0a5868faf81a15d1b88c0/expr.ipynb\"><img src=\"__pv_it/e17d081b776588796c5e0a5868faf81a15d1b88c0/expr.png\" style=\"display:inline;vertical-align:middle;\" /></a> &#x22A2;&nbsp;<a class=\"ProveItLink\" href=\"__pv_it/76cd2d4b729791c81c2e53a61349c21933710fd60/expr.ipynb\"><img src=\"__pv_it/76cd2d4b729791c81c2e53a61349c21933710fd60/expr.png\" style=\"display:inline;vertical-align:middle;\" /></a></span><br>"
      ],
      "text/plain": [
       "basicForallExprSpec: {forall_{x in S | Q(x) , R(x)} P(x) , c in S , Q(c) , R(c)} |- P(c)"
      ]
     },
     "execution_count": 4,
     "metadata": {},
     "output_type": "execute_result"
    }
   ],
   "source": [
    "Qa = Function(Q, a)\n",
    "Ra = Function(R, a)\n",
    "Rb = Function(R, b)\n",
    "Lc = Literal('c')\n",
    "Ld = Literal('d')\n",
    "QLc = Function(Q, Lc)\n",
    "RLc = Function(R, Lc)\n",
    "basicForallExprSpec = basicForallExpr.specialize({x:Lc}, assumptions=(basicForallExpr, InSet(Lc, S), QLc, RLc))"
   ]
  },
  {
   "cell_type": "code",
   "execution_count": 5,
   "metadata": {},
   "outputs": [],
   "source": [
    "def testFxn():\n",
    "    import pdb\n",
    "    pdb.set_trace()\n",
    "    return basicForallExpr.usedVars()"
   ]
  },
  {
   "cell_type": "code",
   "execution_count": 6,
   "metadata": {},
   "outputs": [
    {
     "data": {
      "text/plain": [
       "{P}"
      ]
     },
     "execution_count": 6,
     "metadata": {},
     "output_type": "execute_result"
    }
   ],
   "source": [
    "basicForallExprSpec.usedVars()"
   ]
  },
  {
   "cell_type": "code",
   "execution_count": 7,
   "metadata": {},
   "outputs": [
    {
     "data": {
      "text/plain": [
       "{c}"
      ]
     },
     "execution_count": 7,
     "metadata": {},
     "output_type": "execute_result"
    }
   ],
   "source": [
    "basicForallExprSpec.usedLiterals()"
   ]
  },
  {
   "cell_type": "code",
   "execution_count": 8,
   "metadata": {},
   "outputs": [
    {
     "data": {
      "text/plain": [
       "[P, c]"
      ]
     },
     "execution_count": 8,
     "metadata": {},
     "output_type": "execute_result"
    }
   ],
   "source": [
    "(list(basicForallExprSpec.subExprIter()))"
   ]
  },
  {
   "cell_type": "code",
   "execution_count": 9,
   "metadata": {},
   "outputs": [
    {
     "data": {
      "text/plain": [
       "[]"
      ]
     },
     "execution_count": 9,
     "metadata": {},
     "output_type": "execute_result"
    }
   ],
   "source": [
    "list(((list(basicForallExprSpec.subExprIter()))[1]).subExprIter())"
   ]
  },
  {
   "cell_type": "code",
   "execution_count": 10,
   "metadata": {},
   "outputs": [],
   "source": [
    "Lc.markAsConstrained()"
   ]
  },
  {
   "cell_type": "code",
   "execution_count": 11,
   "metadata": {},
   "outputs": [
    {
     "data": {
      "text/plain": [
       "True"
      ]
     },
     "execution_count": 11,
     "metadata": {},
     "output_type": "execute_result"
    }
   ],
   "source": [
    "Lc._constrained"
   ]
  },
  {
   "cell_type": "code",
   "execution_count": 12,
   "metadata": {},
   "outputs": [],
   "source": [
    "# notice now that re-marking as constrained does not elicit an error\n",
    "Lc.markAsConstrained()"
   ]
  },
  {
   "cell_type": "code",
   "execution_count": 13,
   "metadata": {},
   "outputs": [
    {
     "data": {
      "text/plain": [
       "True"
      ]
     },
     "execution_count": 13,
     "metadata": {},
     "output_type": "execute_result"
    }
   ],
   "source": [
    "# Check if Lc is constrained. Returns False if no _constrained attribute;\n",
    "# otherwise returns value of the _constrained attribute\n",
    "Lc.isConstrained()"
   ]
  },
  {
   "cell_type": "code",
   "execution_count": 14,
   "metadata": {},
   "outputs": [
    {
     "data": {
      "text/plain": [
       "False"
      ]
     },
     "execution_count": 14,
     "metadata": {},
     "output_type": "execute_result"
    }
   ],
   "source": [
    "# but we can still delete the _constrained attribute, which is a little weird:\n",
    "if hasattr(Lc, '_constrained'):\n",
    "    delattr(Lc, '_constrained')\n",
    "hasattr(Lc, '_constrained')"
   ]
  },
  {
   "cell_type": "code",
   "execution_count": 15,
   "metadata": {},
   "outputs": [
    {
     "data": {
      "text/plain": [
       "False"
      ]
     },
     "execution_count": 15,
     "metadata": {},
     "output_type": "execute_result"
    }
   ],
   "source": [
    "# now calling isConstrained will return false\n",
    "# even though the attribute doesn't exist:\n",
    "Lc.isConstrained()"
   ]
  },
  {
   "cell_type": "code",
   "execution_count": 16,
   "metadata": {},
   "outputs": [
    {
     "data": {
      "text/html": [
       "<strong id=\"basicThereExistsExpr\">basicThereExistsExpr:</strong> <a class=\"ProveItLink\" href=\"__pv_it/11291b09019345a9e54a72fa3716278b269968a20/expr.ipynb\"><img src=\"__pv_it/11291b09019345a9e54a72fa3716278b269968a20/expr.png\" style=\"display:inline;vertical-align:middle;\" /></a><br>"
      ],
      "text/plain": [
       "basicThereExistsExpr: exists_{x in S | Q(x)} P(x)"
      ]
     },
     "execution_count": 16,
     "metadata": {},
     "output_type": "execute_result"
    }
   ],
   "source": [
    "basicThereExistsExpr = Exists(x, Px, conditions=[Qx], domain=S)"
   ]
  },
  {
   "cell_type": "code",
   "execution_count": 17,
   "metadata": {},
   "outputs": [
    {
     "data": {
      "text/html": [
       "<a class=\"ProveItLink\" href=\"__pv_it/11291b09019345a9e54a72fa3716278b269968a20/expr.ipynb\"><img src=\"__pv_it/11291b09019345a9e54a72fa3716278b269968a20/expr.png\" style=\"display:inline;vertical-align:middle;\" /></a>"
      ],
      "text/plain": [
       "exists_{x in S | Q(x)} P(x)"
      ]
     },
     "execution_count": 17,
     "metadata": {},
     "output_type": "execute_result"
    }
   ],
   "source": [
    "basicThereExistsExpr"
   ]
  },
  {
   "cell_type": "code",
   "execution_count": 18,
   "metadata": {},
   "outputs": [
    {
     "data": {
      "text/html": [
       "<strong id=\"basicThereExistsExprThm\">basicThereExistsExprThm:</strong> <span style=\"font-size:20px;\"><a class=\"ProveItLink\" href=\"__pv_it/954cee1c4073f510d0948b56ad1440c2b496228a0/expr.ipynb\"><img src=\"__pv_it/954cee1c4073f510d0948b56ad1440c2b496228a0/expr.png\" style=\"display:inline;vertical-align:middle;\" /></a> &#x22A2;&nbsp;<a class=\"ProveItLink\" href=\"__pv_it/11291b09019345a9e54a72fa3716278b269968a20/expr.ipynb\"><img src=\"__pv_it/11291b09019345a9e54a72fa3716278b269968a20/expr.png\" style=\"display:inline;vertical-align:middle;\" /></a></span><br>"
      ],
      "text/plain": [
       "basicThereExistsExprThm: {exists_{x in S | Q(x)} P(x)} |- exists_{x in S | Q(x)} P(x)"
      ]
     },
     "execution_count": 18,
     "metadata": {},
     "output_type": "execute_result"
    }
   ],
   "source": [
    "basicThereExistsExprThm = basicThereExistsExpr.prove(assumptions={basicThereExistsExpr})"
   ]
  },
  {
   "cell_type": "code",
   "execution_count": 19,
   "metadata": {},
   "outputs": [
    {
     "data": {
      "text/html": [
       "<strong id=\"basicThereExistsExpr02\">basicThereExistsExpr02:</strong> <a class=\"ProveItLink\" href=\"__pv_it/53f7691de487b815aa3b75d225e6e55a0d417b1b0/expr.ipynb\"><img src=\"__pv_it/53f7691de487b815aa3b75d225e6e55a0d417b1b0/expr.png\" style=\"display:inline;vertical-align:middle;\" /></a><br>"
      ],
      "text/plain": [
       "basicThereExistsExpr02: exists_{x in S | Q(x)} ((x + c) = 0)"
      ]
     },
     "execution_count": 19,
     "metadata": {},
     "output_type": "execute_result"
    }
   ],
   "source": [
    "basicThereExistsExpr02 = Exists({x}, Equals(Add(x, Lc), zero), conditions=[Qx], domain=S)"
   ]
  },
  {
   "cell_type": "code",
   "execution_count": 20,
   "metadata": {},
   "outputs": [
    {
     "data": {
      "text/html": [
       "<strong id=\"basicThereExistsExpr02Thm\">basicThereExistsExpr02Thm:</strong> <span style=\"font-size:20px;\"><a class=\"ProveItLink\" href=\"__pv_it/54e7f0c008acbab782c781345ebb3eada1f9d6de0/expr.ipynb\"><img src=\"__pv_it/54e7f0c008acbab782c781345ebb3eada1f9d6de0/expr.png\" style=\"display:inline;vertical-align:middle;\" /></a> &#x22A2;&nbsp;<a class=\"ProveItLink\" href=\"__pv_it/53f7691de487b815aa3b75d225e6e55a0d417b1b0/expr.ipynb\"><img src=\"__pv_it/53f7691de487b815aa3b75d225e6e55a0d417b1b0/expr.png\" style=\"display:inline;vertical-align:middle;\" /></a></span><br>"
      ],
      "text/plain": [
       "basicThereExistsExpr02Thm: {exists_{x in S | Q(x)} ((x + c) = 0)} |- exists_{x in S | Q(x)} ((x + c) = 0)"
      ]
     },
     "execution_count": 20,
     "metadata": {},
     "output_type": "execute_result"
    }
   ],
   "source": [
    "basicThereExistsExpr02Thm = basicThereExistsExpr02.prove(assumptions = {basicThereExistsExpr02} )"
   ]
  },
  {
   "cell_type": "code",
   "execution_count": 21,
   "metadata": {},
   "outputs": [
    {
     "data": {
      "text/html": [
       "<strong id=\"basicThereExistsExpr03\">basicThereExistsExpr03:</strong> <a class=\"ProveItLink\" href=\"__pv_it/d8984f70fc264647e5d5249f40917da309d9adbc0/expr.ipynb\"><img src=\"__pv_it/d8984f70fc264647e5d5249f40917da309d9adbc0/expr.png\" style=\"display:inline;vertical-align:middle;\" /></a><br>"
      ],
      "text/plain": [
       "basicThereExistsExpr03: exists_{y, x in S | Q(x) , R(y)} P(x , y)"
      ]
     },
     "execution_count": 21,
     "metadata": {},
     "output_type": "execute_result"
    }
   ],
   "source": [
    "basicThereExistsExpr03 = Exists({x, y}, Pxy, conditions=[Qx, Ry], domain=S)"
   ]
  },
  {
   "cell_type": "code",
   "execution_count": 22,
   "metadata": {},
   "outputs": [
    {
     "data": {
      "text/html": [
       "<a class=\"ProveItLink\" href=\"__pv_it/3ede5ab1dd8ab0fa7b02b7f660c090e531eee5570/expr.ipynb\"><img src=\"__pv_it/3ede5ab1dd8ab0fa7b02b7f660c090e531eee5570/expr.png\" style=\"display:inline;vertical-align:middle;\" /></a>"
      ],
      "text/plain": [
       "exists_{x in S | Q(x) , R(y)} P(x , y)"
      ]
     },
     "execution_count": 22,
     "metadata": {},
     "output_type": "execute_result"
    }
   ],
   "source": [
    "basicThereExistsExpr03.instanceExpr"
   ]
  },
  {
   "cell_type": "code",
   "execution_count": 23,
   "metadata": {},
   "outputs": [
    {
     "data": {
      "text/html": [
       "<strong id=\"basicThereExistsExpr03Thm\">basicThereExistsExpr03Thm:</strong> <span style=\"font-size:20px;\"><a class=\"ProveItLink\" href=\"__pv_it/e6d5d4b683754dacdf4d282a7403728b82601b850/expr.ipynb\"><img src=\"__pv_it/e6d5d4b683754dacdf4d282a7403728b82601b850/expr.png\" style=\"display:inline;vertical-align:middle;\" /></a> &#x22A2;&nbsp;<a class=\"ProveItLink\" href=\"__pv_it/d8984f70fc264647e5d5249f40917da309d9adbc0/expr.ipynb\"><img src=\"__pv_it/d8984f70fc264647e5d5249f40917da309d9adbc0/expr.png\" style=\"display:inline;vertical-align:middle;\" /></a></span><br>"
      ],
      "text/plain": [
       "basicThereExistsExpr03Thm: {exists_{y, x in S | Q(x) , R(y)} P(x , y)} |- exists_{y, x in S | Q(x) , R(y)} P(x , y)"
      ]
     },
     "execution_count": 23,
     "metadata": {},
     "output_type": "execute_result"
    }
   ],
   "source": [
    "basicThereExistsExpr03Thm = basicThereExistsExpr03.prove(assumptions = {basicThereExistsExpr03} )"
   ]
  },
  {
   "cell_type": "code",
   "execution_count": 24,
   "metadata": {},
   "outputs": [
    {
     "data": {
      "text/html": [
       "<span style=\"font-size:20px;\"><a class=\"ProveItLink\" href=\"__pv_it/954cee1c4073f510d0948b56ad1440c2b496228a0/expr.ipynb\"><img src=\"__pv_it/954cee1c4073f510d0948b56ad1440c2b496228a0/expr.png\" style=\"display:inline;vertical-align:middle;\" /></a> &#x22A2;&nbsp;<a class=\"ProveItLink\" href=\"__pv_it/11291b09019345a9e54a72fa3716278b269968a20/expr.ipynb\"><img src=\"__pv_it/11291b09019345a9e54a72fa3716278b269968a20/expr.png\" style=\"display:inline;vertical-align:middle;\" /></a></span>"
      ],
      "text/plain": [
       "{exists_{x in S | Q(x)} P(x)} |- exists_{x in S | Q(x)} P(x)"
      ]
     },
     "execution_count": 24,
     "metadata": {},
     "output_type": "execute_result"
    }
   ],
   "source": [
    "basicThereExistsExprThm"
   ]
  },
  {
   "cell_type": "code",
   "execution_count": 25,
   "metadata": {},
   "outputs": [
    {
     "name": "stdout",
     "output_type": "stream",
     "text": [
      "remainingSubVars =  {x}\n",
      "This is sub:  c\n",
      "This sub is a Literal:  True\n",
      "expr =  exists_{x in S | Q(x)} P(x)\n",
      "lambdaExpr =  x -> P(x) | x in S , Q(x)\n",
      "Inside the while loop:\n",
      "instanceVars =  (x,)\n",
      "expr =  P(x)\n",
      "conditions =  (x in S , Q(x))\n",
      "Things seemed to have worked OK. numExistsEliminations =  1\n"
     ]
    },
    {
     "data": {
      "text/html": [
       "<span style=\"font-size:20px;\"><a class=\"ProveItLink\" href=\"__pv_it/50aedbb09dc2d58c1ff5933637ea3a573acca2d60/expr.ipynb\"><img src=\"__pv_it/50aedbb09dc2d58c1ff5933637ea3a573acca2d60/expr.png\" style=\"display:inline;vertical-align:middle;\" /></a> &#x22A2;&nbsp;<a class=\"ProveItLink\" href=\"__pv_it/76cd2d4b729791c81c2e53a61349c21933710fd60/expr.ipynb\"><img src=\"__pv_it/76cd2d4b729791c81c2e53a61349c21933710fd60/expr.png\" style=\"display:inline;vertical-align:middle;\" /></a></span>"
      ],
      "text/plain": [
       "{c in S , Q(c) , exists_{x in S | Q(x)} P(x)} |- P(c)"
      ]
     },
     "execution_count": 25,
     "metadata": {},
     "output_type": "execute_result"
    }
   ],
   "source": [
    "QLc = Function(Q, Lc)\n",
    "basicThereExistsExprThm.skolemize({x:Lc}, assumptions={QLc, InSet(Lc, S)})"
   ]
  },
  {
   "cell_type": "code",
   "execution_count": 26,
   "metadata": {},
   "outputs": [
    {
     "data": {
      "text/html": [
       "<span style=\"font-size:20px;\"><a class=\"ProveItLink\" href=\"__pv_it/e6d5d4b683754dacdf4d282a7403728b82601b850/expr.ipynb\"><img src=\"__pv_it/e6d5d4b683754dacdf4d282a7403728b82601b850/expr.png\" style=\"display:inline;vertical-align:middle;\" /></a> &#x22A2;&nbsp;<a class=\"ProveItLink\" href=\"__pv_it/d8984f70fc264647e5d5249f40917da309d9adbc0/expr.ipynb\"><img src=\"__pv_it/d8984f70fc264647e5d5249f40917da309d9adbc0/expr.png\" style=\"display:inline;vertical-align:middle;\" /></a></span>"
      ],
      "text/plain": [
       "{exists_{y, x in S | Q(x) , R(y)} P(x , y)} |- exists_{y, x in S | Q(x) , R(y)} P(x , y)"
      ]
     },
     "execution_count": 26,
     "metadata": {},
     "output_type": "execute_result"
    }
   ],
   "source": [
    "basicThereExistsExpr03Thm"
   ]
  },
  {
   "cell_type": "code",
   "execution_count": 27,
   "metadata": {},
   "outputs": [
    {
     "name": "stdout",
     "output_type": "stream",
     "text": [
      "remainingSubVars =  {y, x}\n",
      "This is sub:  c\n",
      "This sub is a Literal:  True\n",
      "This is sub:  d\n",
      "This sub is a Literal:  True\n",
      "expr =  exists_{y, x in S | Q(x) , R(y)} P(x , y)\n",
      "lambdaExpr =  y -> [exists_{x in S | Q(x) , R(y)} P(x , y)] | y in S\n",
      "Inside the while loop:\n",
      "instanceVars =  (y,)\n",
      "expr =  exists_{x in S | Q(x) , R(y)} P(x , y)\n",
      "conditions =  (y in S)\n",
      "lambdaExpr =  x -> P(x , y) | x in S , Q(x) , R(y)\n",
      "Inside the while loop:\n",
      "instanceVars =  (x,)\n",
      "expr =  P(x , y)\n",
      "conditions =  (x in S , Q(x) , R(y))\n",
      "Things seemed to have worked OK. numExistsEliminations =  2\n"
     ]
    },
    {
     "data": {
      "text/html": [
       "<span style=\"font-size:20px;\"><a class=\"ProveItLink\" href=\"__pv_it/92f2f6e65dd082a82fca594091d11e4a99d8d7e40/expr.ipynb\"><img src=\"__pv_it/92f2f6e65dd082a82fca594091d11e4a99d8d7e40/expr.png\" style=\"display:inline;vertical-align:middle;\" /></a> &#x22A2;&nbsp;<a class=\"ProveItLink\" href=\"__pv_it/2966ca51df9aa8ae4e0fa69034c0985eff1bfca80/expr.ipynb\"><img src=\"__pv_it/2966ca51df9aa8ae4e0fa69034c0985eff1bfca80/expr.png\" style=\"display:inline;vertical-align:middle;\" /></a></span>"
      ],
      "text/plain": [
       "{d in S , Q(c) , c in S , R(d) , exists_{y, x in S | Q(x) , R(y)} P(x , y)} |- P(c , d)"
      ]
     },
     "execution_count": 27,
     "metadata": {},
     "output_type": "execute_result"
    }
   ],
   "source": [
    "QLc = Function(Q, Lc)\n",
    "RLd = Function(R, Ld)\n",
    "PLcLd = Function(P, {Lc, Ld})\n",
    "basicThereExistsExpr03Thm.skolemize({x:Lc, y:Ld}, assumptions={InSet(Lc, S), InSet(Ld, S), QLc, RLd, PLcLd})"
   ]
  },
  {
   "cell_type": "code",
   "execution_count": 28,
   "metadata": {},
   "outputs": [
    {
     "data": {
      "text/html": [
       "<span style=\"font-size:20px;\"> &#x22A2;&nbsp;<a class=\"ProveItLink\" href=\"../packages/proveit/logic/equality/__pv_it/6ec2193ff7f2a0001aea3e112ec0ee2dddc5beb10/expr.ipynb\"><img src=\"../packages/proveit/logic/equality/__pv_it/6ec2193ff7f2a0001aea3e112ec0ee2dddc5beb10/expr.png\" style=\"display:inline;vertical-align:middle;\" /></a></span>"
      ],
      "text/plain": [
       "|- forall_{f, x, y | x = y} (f(x) = f(y))"
      ]
     },
     "execution_count": 28,
     "metadata": {},
     "output_type": "execute_result"
    }
   ],
   "source": [
    "substitution"
   ]
  },
  {
   "cell_type": "code",
   "execution_count": 29,
   "metadata": {},
   "outputs": [
    {
     "name": "stdout",
     "output_type": "stream",
     "text": [
      "remainingSubVars =  {x}\n",
      "This is sub:  c\n",
      "This sub is a Literal:  True\n",
      "expr =  forall_{f, x, y | x = y} (f(x) = f(y))\n"
     ]
    },
    {
     "ename": "SkolemizationFailure",
     "evalue": "Proof step failed assuming {Q(a)}: May only skolemize instance variables of an Exists expression.",
     "output_type": "error",
     "traceback": [
      "\u001b[0;31m---------------------------------------------------------------------------\u001b[0m",
      "\u001b[0;31mSkolemizationFailure\u001b[0m                      Traceback (most recent call last)",
      "\u001b[0;32m<ipython-input-29-cc84bfa82dbb>\u001b[0m in \u001b[0;36m<module>\u001b[0;34m\u001b[0m\n\u001b[0;32m----> 1\u001b[0;31m \u001b[0msubstitution\u001b[0m\u001b[0;34m.\u001b[0m\u001b[0mskolemize\u001b[0m\u001b[0;34m(\u001b[0m\u001b[0;34m{\u001b[0m\u001b[0mx\u001b[0m\u001b[0;34m:\u001b[0m\u001b[0mLc\u001b[0m\u001b[0;34m}\u001b[0m\u001b[0;34m,\u001b[0m \u001b[0massumptions\u001b[0m\u001b[0;34m=\u001b[0m\u001b[0;34m{\u001b[0m\u001b[0mQa\u001b[0m\u001b[0;34m}\u001b[0m\u001b[0;34m)\u001b[0m\u001b[0;34m\u001b[0m\u001b[0;34m\u001b[0m\u001b[0m\n\u001b[0m",
      "\u001b[0;32m~/Desktop/Prove-It/packages/proveit/_core_/known_truth.py\u001b[0m in \u001b[0;36mskolemize\u001b[0;34m(self, skolemizeMap, relabelMap, assumptions)\u001b[0m\n\u001b[1;32m    900\u001b[0m                 raise SkolemizationFailure(\n\u001b[1;32m    901\u001b[0m                         \u001b[0;32mNone\u001b[0m\u001b[0;34m,\u001b[0m \u001b[0massumptions\u001b[0m\u001b[0;34m,\u001b[0m\u001b[0;34m\u001b[0m\u001b[0;34m\u001b[0m\u001b[0m\n\u001b[0;32m--> 902\u001b[0;31m                         \u001b[0;34m'May only skolemize instance variables '\u001b[0m \u001b[0;34m+\u001b[0m\u001b[0;34m\u001b[0m\u001b[0;34m\u001b[0m\u001b[0m\n\u001b[0m\u001b[1;32m    903\u001b[0m                         'of an Exists expression.')\n\u001b[1;32m    904\u001b[0m             \u001b[0mlambdaExpr\u001b[0m \u001b[0;34m=\u001b[0m \u001b[0mexpr\u001b[0m\u001b[0;34m.\u001b[0m\u001b[0moperand\u001b[0m\u001b[0;34m\u001b[0m\u001b[0;34m\u001b[0m\u001b[0m\n",
      "\u001b[0;31mSkolemizationFailure\u001b[0m: Proof step failed assuming {Q(a)}: May only skolemize instance variables of an Exists expression."
     ]
    }
   ],
   "source": [
    "substitution.skolemize({x:Lc}, assumptions={Qa})"
   ]
  },
  {
   "cell_type": "code",
   "execution_count": null,
   "metadata": {},
   "outputs": [],
   "source": [
    "substitutionSpec = substitution.specialize({x:Lc, y:Ld}, assumptions=[Equals(Lc, Ld)])"
   ]
  },
  {
   "cell_type": "markdown",
   "metadata": {},
   "source": [
    "Some of the various parts of the `Forall` **expression** may be accessed as follows:"
   ]
  }
 ],
 "metadata": {
  "kernelspec": {
   "display_name": "Python 3",
   "language": "python",
   "name": "python3"
  },
  "language_info": {
   "codemirror_mode": {
    "name": "ipython",
    "version": 3
   },
   "file_extension": ".py",
   "mimetype": "text/x-python",
   "name": "python",
   "nbconvert_exporter": "python",
   "pygments_lexer": "ipython3",
   "version": "3.7.1"
  }
 },
 "nbformat": 4,
 "nbformat_minor": 1
}
