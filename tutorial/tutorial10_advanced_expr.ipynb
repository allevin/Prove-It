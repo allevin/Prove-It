{
 "cells": [
  {
   "cell_type": "markdown",
   "metadata": {},
   "source": [
    "Chapter 10. Advanced Expressions\n",
    "==================="
   ]
  },
  {
   "cell_type": "code",
   "execution_count": null,
   "metadata": {},
   "outputs": [],
   "source": []
  },
  {
   "cell_type": "code",
   "execution_count": null,
   "metadata": {},
   "outputs": [],
   "source": []
  },
  {
   "cell_type": "markdown",
   "metadata": {},
   "source": [
    "The `getElem` method may be used to access an element of the `ExprList` using an `Expression` representative for the index, relative to a `base` (defaulting to `1`, common in mathematics though it is less common in programming)."
   ]
  },
  {
   "cell_type": "code",
   "execution_count": 77,
   "metadata": {},
   "outputs": [
    {
     "data": {
      "text/html": [
       "<a class=\"ProveItLink\" href=\"../packages/proveit/__pv_it/251502494639118b4892de8e9d720a5fcce840e10/expr.ipynb\"><img src=\"../packages/proveit/__pv_it/251502494639118b4892de8e9d720a5fcce840e10/expr.png\" style=\"display:inline;vertical-align:middle;\" /></a>"
      ],
      "text/plain": [
       "z"
      ]
     },
     "execution_count": 77,
     "metadata": {},
     "output_type": "execute_result"
    }
   ],
   "source": [
    "from proveit.number import num\n",
    "xyz.getElem(num(3)) # get the 3rd element of (x, y, z)"
   ]
  },
  {
   "cell_type": "markdown",
   "metadata": {},
   "source": [
    "The method works by starting from the `base` and adding `1` until the given index is reached while iterating through the elements of the `ExprList`.  It uses the `proveit.number` package for number representations for generating the required counting steps which are optionally passed back via the `requirements` parameter."
   ]
  },
  {
   "cell_type": "code",
   "execution_count": 78,
   "metadata": {},
   "outputs": [
    {
     "data": {
      "text/html": [
       "<a class=\"ProveItLink\" href=\"../packages/proveit/__pv_it/251502494639118b4892de8e9d720a5fcce840e10/expr.ipynb\"><img src=\"../packages/proveit/__pv_it/251502494639118b4892de8e9d720a5fcce840e10/expr.png\" style=\"display:inline;vertical-align:middle;\" /></a>"
      ],
      "text/plain": [
       "z"
      ]
     },
     "execution_count": 78,
     "metadata": {},
     "output_type": "execute_result"
    }
   ],
   "source": [
    "requirements = []\n",
    "xyz.getElem(num(2), base=0, requirements=requirements) # start from a base of zero and pass back the requirements"
   ]
  },
  {
   "cell_type": "code",
   "execution_count": 79,
   "metadata": {},
   "outputs": [
    {
     "data": {
      "text/html": [
       "<a class=\"ProveItLink\" href=\"__pv_it/be3f64672723184b3343edb63112b710cb6b783d0/expr.ipynb\"><img src=\"__pv_it/be3f64672723184b3343edb63112b710cb6b783d0/expr.png\" style=\"display:inline;vertical-align:middle;\" /></a>"
      ],
      "text/plain": [
       "((0 + 1) = 1 , (1 + 1) = 2)"
      ]
     },
     "execution_count": 79,
     "metadata": {},
     "output_type": "execute_result"
    }
   ],
   "source": [
    "ExprList(*requirements) # composing an ExprList out of the requirements list is done to display a LaTeX representation."
   ]
  },
  {
   "cell_type": "markdown",
   "metadata": {},
   "source": [
    "The *index* argument into the `getElem` method does not need to be a direct representation of a number.  If it can be proven to be equal to a counted index value (through *assumptions*, for example), that also works."
   ]
  },
  {
   "cell_type": "code",
   "execution_count": 80,
   "metadata": {
    "scrolled": true
   },
   "outputs": [
    {
     "data": {
      "text/html": [
       "<a class=\"ProveItLink\" href=\"../packages/proveit/__pv_it/f8b9edf8e16034727f0aad55bb83e392c3db40d40/expr.ipynb\"><img src=\"../packages/proveit/__pv_it/f8b9edf8e16034727f0aad55bb83e392c3db40d40/expr.png\" style=\"display:inline;vertical-align:middle;\" /></a>"
      ],
      "text/plain": [
       "y"
      ]
     },
     "execution_count": 80,
     "metadata": {},
     "output_type": "execute_result"
    }
   ],
   "source": [
    "from proveit._common_ import k\n",
    "from proveit.logic import Equals\n",
    "requirements = []\n",
    "xyz.getElem(k, assumptions=[Equals(k, num(2))], requirements=requirements)"
   ]
  },
  {
   "cell_type": "code",
   "execution_count": 81,
   "metadata": {},
   "outputs": [
    {
     "data": {
      "text/html": [
       "<a class=\"ProveItLink\" href=\"__pv_it/19b97b3734eab1bf9d5a5cd2aedd3daef0af2bcf0/expr.ipynb\"><img src=\"__pv_it/19b97b3734eab1bf9d5a5cd2aedd3daef0af2bcf0/expr.png\" style=\"display:inline;vertical-align:middle;\" /></a>"
      ],
      "text/plain": [
       "((1 + 1) = 2 , 2 = k)"
      ]
     },
     "execution_count": 81,
     "metadata": {},
     "output_type": "execute_result"
    }
   ],
   "source": [
    "ExprList(*requirements)"
   ]
  },
  {
   "cell_type": "markdown",
   "metadata": {},
   "source": [
    "<a name=\"Indexed\"></a>Indexed\n",
    "====================\n",
    "\n",
    "Before we discuss `Iter`s, let us first introduced `Indexed` which are designed specifically to be contained in an `Iter`.  An `Indexed` `Expression` has a *variable* (as a `Variable`) and an *index* (or *indices*).  The *variable* is intended to be a placeholder for an `ExprList` (or `ExprTensor`).  The `Indexed` object represents an element of that `ExprList` (or `ExprTensor`) addressed by the *index* (or *indices*).  Here is a simple example for a single *index* $k$ of *variable* $a$:"
   ]
  },
  {
   "cell_type": "code",
   "execution_count": 82,
   "metadata": {},
   "outputs": [
    {
     "data": {
      "text/html": [
       "<strong id=\"a_k\">a_k:</strong> <a class=\"ProveItLink\" href=\"__pv_it/4b01e99fcd4136115a886b90ee8c4eb763dcd59d0/expr.ipynb\"><img src=\"__pv_it/4b01e99fcd4136115a886b90ee8c4eb763dcd59d0/expr.png\" style=\"display:inline;vertical-align:middle;\" /></a><br>"
      ],
      "text/plain": [
       "a_k: a_k"
      ]
     },
     "execution_count": 82,
     "metadata": {},
     "output_type": "execute_result"
    }
   ],
   "source": [
    "from proveit import Indexed\n",
    "from proveit._common_ import a, k\n",
    "a_k = Indexed(a, k)"
   ]
  },
  {
   "cell_type": "code",
   "execution_count": 83,
   "metadata": {},
   "outputs": [
    {
     "data": {
      "text/html": [
       "<table><tr><th>&nbsp;</th><th>core type</th><th>sub-expressions</th><th>expression</th></tr>\n",
       "<tr><td>0</td><td>Indexed</td><td>var:&nbsp;1<br>index:&nbsp;2<br>base:&nbsp;\"1\"<br></td><td><a class=\"ProveItLink\" href=\"__pv_it/4b01e99fcd4136115a886b90ee8c4eb763dcd59d0/expr.ipynb\"><img src=\"__pv_it/4b01e99fcd4136115a886b90ee8c4eb763dcd59d0/expr.png\" style=\"display:inline;vertical-align:middle;\" /></a></td></tr>\n",
       "<tr><td>1</td><td>Variable</td><td></td><td><a class=\"ProveItLink\" href=\"../packages/proveit/__pv_it/07527342713064c87612d00d8557c53d53d5324a0/expr.ipynb\"><img src=\"../packages/proveit/__pv_it/07527342713064c87612d00d8557c53d53d5324a0/expr.png\" style=\"display:inline;vertical-align:middle;\" /></a></td></tr>\n",
       "<tr><td>2</td><td>Variable</td><td></td><td><a class=\"ProveItLink\" href=\"../packages/proveit/__pv_it/1a7356cf6caf039e07a5436d90e972cbb5e92b0a0/expr.ipynb\"><img src=\"../packages/proveit/__pv_it/1a7356cf6caf039e07a5436d90e972cbb5e92b0a0/expr.png\" style=\"display:inline;vertical-align:middle;\" /></a></td></tr>\n",
       "</table>\n"
      ],
      "text/plain": [
       "<proveit._core_.expression.expr_info.ExpressionInfo instance at 0x7f7699024998>"
      ]
     },
     "execution_count": 83,
     "metadata": {},
     "output_type": "execute_result"
    }
   ],
   "source": [
    "a_k.exprInfo()"
   ]
  },
  {
   "cell_type": "markdown",
   "metadata": {},
   "source": [
    "Note that a *base* is shown in the *expression information*.  This indicates an initial offset into the list.  The default is *base*=1 which means that 1 is taken to be the first element.  Although this *base* is not shown in the LaTeX rendering (or the string rendering), it can usually be inferred from the context of a containing `Iter`.  Let us show a *base*=0 example:"
   ]
  },
  {
   "cell_type": "code",
   "execution_count": 84,
   "metadata": {},
   "outputs": [
    {
     "data": {
      "text/html": [
       "<strong id=\"b_k\">b_k:</strong> <a class=\"ProveItLink\" href=\"__pv_it/b27b1eff933f6db974b039df52156b30e6ec3dab0/expr.ipynb\"><img src=\"__pv_it/b27b1eff933f6db974b039df52156b30e6ec3dab0/expr.png\" style=\"display:inline;vertical-align:middle;\" /></a><br>"
      ],
      "text/plain": [
       "b_k: b_k"
      ]
     },
     "execution_count": 84,
     "metadata": {},
     "output_type": "execute_result"
    }
   ],
   "source": [
    "b_k = Indexed(b, k, base=0)"
   ]
  },
  {
   "cell_type": "code",
   "execution_count": 85,
   "metadata": {},
   "outputs": [
    {
     "data": {
      "text/html": [
       "<table><tr><th>&nbsp;</th><th>core type</th><th>sub-expressions</th><th>expression</th></tr>\n",
       "<tr><td>0</td><td>Indexed</td><td>var:&nbsp;1<br>index:&nbsp;2<br>base:&nbsp;\"0\"<br></td><td><a class=\"ProveItLink\" href=\"__pv_it/b27b1eff933f6db974b039df52156b30e6ec3dab0/expr.ipynb\"><img src=\"__pv_it/b27b1eff933f6db974b039df52156b30e6ec3dab0/expr.png\" style=\"display:inline;vertical-align:middle;\" /></a></td></tr>\n",
       "<tr><td>1</td><td>Variable</td><td></td><td><a class=\"ProveItLink\" href=\"../packages/proveit/__pv_it/6840a4fa6c106149dc16a131294d0c5e44f1b0480/expr.ipynb\"><img src=\"../packages/proveit/__pv_it/6840a4fa6c106149dc16a131294d0c5e44f1b0480/expr.png\" style=\"display:inline;vertical-align:middle;\" /></a></td></tr>\n",
       "<tr><td>2</td><td>Variable</td><td></td><td><a class=\"ProveItLink\" href=\"../packages/proveit/__pv_it/1a7356cf6caf039e07a5436d90e972cbb5e92b0a0/expr.ipynb\"><img src=\"../packages/proveit/__pv_it/1a7356cf6caf039e07a5436d90e972cbb5e92b0a0/expr.png\" style=\"display:inline;vertical-align:middle;\" /></a></td></tr>\n",
       "</table>\n"
      ],
      "text/plain": [
       "<proveit._core_.expression.expr_info.ExpressionInfo instance at 0x7f76990283b0>"
      ]
     },
     "execution_count": 85,
     "metadata": {},
     "output_type": "execute_result"
    }
   ],
   "source": [
    "b_k.exprInfo()"
   ]
  },
  {
   "cell_type": "markdown",
   "metadata": {},
   "source": [
    "The *index* may be substituted freely."
   ]
  },
  {
   "cell_type": "code",
   "execution_count": 86,
   "metadata": {},
   "outputs": [
    {
     "data": {
      "text/html": [
       "<a class=\"ProveItLink\" href=\"__pv_it/02c33c2205528e882c121fada8d94f9cf314d73d0/expr.ipynb\"><img src=\"__pv_it/02c33c2205528e882c121fada8d94f9cf314d73d0/expr.png\" style=\"display:inline;vertical-align:middle;\" /></a>"
      ],
      "text/plain": [
       "a_((x * 5 * omega)!)"
      ]
     },
     "execution_count": 86,
     "metadata": {},
     "output_type": "execute_result"
    }
   ],
   "source": [
    "a_k.substituted({k:nestedOperation})"
   ]
  },
  {
   "cell_type": "markdown",
   "metadata": {},
   "source": [
    "The *variable* may only be substituted with another `Variable` or with an `ExprList`."
   ]
  },
  {
   "cell_type": "code",
   "execution_count": 87,
   "metadata": {},
   "outputs": [
    {
     "data": {
      "text/html": [
       "<a class=\"ProveItLink\" href=\"__pv_it/17f1b5e5322de28e3eaf07757c7b6775bbe53eb00/expr.ipynb\"><img src=\"__pv_it/17f1b5e5322de28e3eaf07757c7b6775bbe53eb00/expr.png\" style=\"display:inline;vertical-align:middle;\" /></a>"
      ],
      "text/plain": [
       "b_(k)"
      ]
     },
     "execution_count": 87,
     "metadata": {},
     "output_type": "execute_result"
    }
   ],
   "source": [
    "a_k.substituted({a:b})"
   ]
  },
  {
   "cell_type": "code",
   "execution_count": 88,
   "metadata": {},
   "outputs": [
    {
     "name": "stdout",
     "output_type": "stream",
     "text": [
      "EXPECTED ERROR: 'var' being indexed should be a Variable\n"
     ]
    }
   ],
   "source": [
    "try:\n",
    "    a_k.substituted({a:nestedOperation})\n",
    "    assert False, \"Expecting an TypeError error; should not make it to this point\"\n",
    "except TypeError as e:\n",
    "    print(\"EXPECTED ERROR:\", e)"
   ]
  },
  {
   "cell_type": "markdown",
   "metadata": {},
   "source": [
    "But when the *variable* is substituted with an `ExprList`, the *index* must be an `Expression` that is \"known\" to evaluate to a specific element (or iteration range as we see below in the `Iter` section)."
   ]
  },
  {
   "cell_type": "code",
   "execution_count": 89,
   "metadata": {},
   "outputs": [
    {
     "name": "stdout",
     "output_type": "stream",
     "text": [
      "EXPECTED ERROR: Could not determine the 'index' range within the ExprList coordinates under the given assumptions\n"
     ]
    }
   ],
   "source": [
    "from proveit import ExprListError\n",
    "try:\n",
    "    a_k.substituted({a:xyz})\n",
    "    assert False, \"Expecting an ExprListError error; should not make it to this point\"\n",
    "except ExprListError as e:\n",
    "    print(\"EXPECTED ERROR:\", e)"
   ]
  },
  {
   "cell_type": "markdown",
   "metadata": {},
   "source": [
    "Here we assign the index, $k$, to a specific numeric value to extract the first element of the $(x, y, z)$:"
   ]
  },
  {
   "cell_type": "code",
   "execution_count": 90,
   "metadata": {
    "scrolled": true
   },
   "outputs": [
    {
     "data": {
      "text/html": [
       "<a class=\"ProveItLink\" href=\"__pv_it/530be409e3083890784cf1d7b28c9e67e90af9360/expr.ipynb\"><img src=\"__pv_it/530be409e3083890784cf1d7b28c9e67e90af9360/expr.png\" style=\"display:inline;vertical-align:middle;\" /></a>"
      ],
      "text/plain": [
       "x"
      ]
     },
     "execution_count": 90,
     "metadata": {},
     "output_type": "execute_result"
    }
   ],
   "source": [
    "from proveit.number import num\n",
    "a_k.substituted({a:xyz, k:num(1)})"
   ]
  },
  {
   "cell_type": "markdown",
   "metadata": {},
   "source": [
    "But we can also assign the index implicitly via *assumptions* or other known relationships:"
   ]
  },
  {
   "cell_type": "code",
   "execution_count": 91,
   "metadata": {},
   "outputs": [
    {
     "data": {
      "text/html": [
       "<a class=\"ProveItLink\" href=\"../packages/proveit/__pv_it/f8b9edf8e16034727f0aad55bb83e392c3db40d40/expr.ipynb\"><img src=\"../packages/proveit/__pv_it/f8b9edf8e16034727f0aad55bb83e392c3db40d40/expr.png\" style=\"display:inline;vertical-align:middle;\" /></a>"
      ],
      "text/plain": [
       "y"
      ]
     },
     "execution_count": 91,
     "metadata": {},
     "output_type": "execute_result"
    }
   ],
   "source": [
    "from proveit.logic import Equals\n",
    "from proveit.number import num\n",
    "requirements=[]\n",
    "a_k.substituted({a:xyz}, assumptions=[Equals(k, num(2))], requirements=requirements)"
   ]
  },
  {
   "cell_type": "markdown",
   "metadata": {},
   "source": [
    "As with the `getElem` of the `ExprList` class, we can pass back the requirements for counting into the `ExprList` that is being substituted into the *indexed* *variable*, as attained above and displayed below."
   ]
  },
  {
   "cell_type": "code",
   "execution_count": 92,
   "metadata": {},
   "outputs": [
    {
     "data": {
      "text/html": [
       "<a class=\"ProveItLink\" href=\"__pv_it/19b97b3734eab1bf9d5a5cd2aedd3daef0af2bcf0/expr.ipynb\"><img src=\"__pv_it/19b97b3734eab1bf9d5a5cd2aedd3daef0af2bcf0/expr.png\" style=\"display:inline;vertical-align:middle;\" /></a>"
      ],
      "text/plain": [
       "((1 + 1) = 2 , 2 = k)"
      ]
     },
     "execution_count": 92,
     "metadata": {},
     "output_type": "execute_result"
    }
   ],
   "source": [
    "ExprList(*requirements)"
   ]
  },
  {
   "cell_type": "markdown",
   "metadata": {},
   "source": [
    "Next, we see what happens when the *index* is out-of-range."
   ]
  },
  {
   "cell_type": "code",
   "execution_count": 93,
   "metadata": {},
   "outputs": [
    {
     "name": "stdout",
     "output_type": "stream",
     "text": [
      "EXPECTED ERROR: list index out of range\n"
     ]
    }
   ],
   "source": [
    "try:\n",
    "    a_k.substituted({a:xyz, k:num(4)})\n",
    "    assert False, \"Expecting an IndexError error; should not make it to this point\"\n",
    "except IndexError as e:\n",
    "    print(\"EXPECTED ERROR:\", e)"
   ]
  },
  {
   "cell_type": "markdown",
   "metadata": {},
   "source": [
    "<a name=\"Iter\"></a>Iter\n",
    "====================\n",
    "\n",
    "An `Iter` `Expression` represents an iteration over a range.  For example,"
   ]
  },
  {
   "cell_type": "code",
   "execution_count": 94,
   "metadata": {},
   "outputs": [
    {
     "data": {
      "text/html": [
       "<strong id=\"a_it\">a_it:</strong> <a class=\"ProveItLink\" href=\"__pv_it/e4e7c32c0843374e5aeb3a792f76e8afe5572ee00/expr.ipynb\"><img src=\"__pv_it/e4e7c32c0843374e5aeb3a792f76e8afe5572ee00/expr.png\" style=\"display:inline;vertical-align:middle;\" /></a><br>"
      ],
      "text/plain": [
       "a_it: a_(1),...,a_(3)"
      ]
     },
     "execution_count": 94,
     "metadata": {},
     "output_type": "execute_result"
    }
   ],
   "source": [
    "from proveit import Iter\n",
    "from proveit._common_ import i, j\n",
    "a_it = Iter(i, Indexed(a, i), num(1), num(3))"
   ]
  },
  {
   "cell_type": "markdown",
   "metadata": {},
   "source": [
    "Here, `a_it` represents a list ranging from the first element of $x$ to the third element of $x$.  If we substitute $x$ with an `ExprList`, the iteration will be expanded by successively applying `+1` (via `proveit.number` definitions of addition and `1`) to the *start index* (1 in this case) until the *end index* (3 in this case) is reached."
   ]
  },
  {
   "cell_type": "code",
   "execution_count": 95,
   "metadata": {},
   "outputs": [
    {
     "name": "stdout",
     "output_type": "stream",
     "text": [
      "intersection start/end 1 1\n",
      "intersection start/end 2 2\n",
      "intersection start/end 3 3\n",
      "[0 < 1 < 2 < 3 < 4]\n",
      "((1,), (1,))\n",
      "((2,), (2,))\n",
      "((3,), (3,))\n"
     ]
    },
    {
     "data": {
      "text/html": [
       "<a class=\"ProveItLink\" href=\"__pv_it/296479de65b64e4916937db7d77282be287cb5880/expr.ipynb\"><img src=\"__pv_it/296479de65b64e4916937db7d77282be287cb5880/expr.png\" style=\"display:inline;vertical-align:middle;\" /></a>"
      ],
      "text/plain": [
       "(x , y , z)"
      ]
     },
     "execution_count": 95,
     "metadata": {},
     "output_type": "execute_result"
    }
   ],
   "source": [
    "a_it.substituted({a:xyz})"
   ]
  },
  {
   "cell_type": "markdown",
   "metadata": {},
   "source": [
    "In the following case, the substituted ExprList is not long enough to cover the iteration range."
   ]
  },
  {
   "cell_type": "code",
   "execution_count": 96,
   "metadata": {},
   "outputs": [
    {
     "name": "stdout",
     "output_type": "stream",
     "text": [
      "intersection start/end 1 1\n",
      "intersection start/end 2 2\n",
      "EXPECTED ERROR: ExprList index out of range\n"
     ]
    }
   ],
   "source": [
    "try:\n",
    "    a_it.substituted({a:xy})\n",
    "    assert False, \"Expecting an IndexError error; should not make it to this point\"\n",
    "except IndexError as e:\n",
    "    print(\"EXPECTED ERROR:\", e)"
   ]
  },
  {
   "cell_type": "markdown",
   "metadata": {},
   "source": [
    "The `Iter` may be embedded within a containing `ExprList`."
   ]
  },
  {
   "cell_type": "code",
   "execution_count": 97,
   "metadata": {},
   "outputs": [
    {
     "data": {
      "text/html": [
       "<strong id=\"a13_b1k_yz\">a13_b1k_yz:</strong> <a class=\"ProveItLink\" href=\"__pv_it/c41e4fae5fa24b34be89dba52b66948dc339c4610/expr.ipynb\"><img src=\"__pv_it/c41e4fae5fa24b34be89dba52b66948dc339c4610/expr.png\" style=\"display:inline;vertical-align:middle;\" /></a><br>"
      ],
      "text/plain": [
       "a13_b1k_yz: (a_(1) ,  ...  , a_(3) , b_(1) ,  ...  , b_(k) , y , z)"
      ]
     },
     "execution_count": 97,
     "metadata": {},
     "output_type": "execute_result"
    }
   ],
   "source": [
    "b_it = Iter(j, Indexed(b, j), num(1), k)\n",
    "a13_b1k_yz = ExprList(a_it, b_it, y, z)"
   ]
  },
  {
   "cell_type": "markdown",
   "metadata": {},
   "source": [
    "When expanded via *expression substition*, the result is inserted into the outer `ExprList`:"
   ]
  },
  {
   "cell_type": "code",
   "execution_count": 98,
   "metadata": {},
   "outputs": [
    {
     "name": "stdout",
     "output_type": "stream",
     "text": [
      "intersection start/end 1 1\n",
      "intersection start/end 2 2\n",
      "intersection start/end 3 3\n",
      "[0 < 1 < 2 < 3 < 4]\n",
      "((1,), (1,))\n",
      "((2,), (2,))\n",
      "((3,), (3,))\n",
      "intersection start/end 1 1\n",
      "intersection start/end 2 2\n",
      "[0 < 1 < 2 < 3]\n",
      "((1,), (1,))\n",
      "((2,), (2,))\n"
     ]
    },
    {
     "data": {
      "text/html": [
       "<a class=\"ProveItLink\" href=\"__pv_it/94511076571842d5108708961515bd038290c7f80/expr.ipynb\"><img src=\"__pv_it/94511076571842d5108708961515bd038290c7f80/expr.png\" style=\"display:inline;vertical-align:middle;\" /></a>"
      ],
      "text/plain": [
       "(x , y , z , x , y , y , z)"
      ]
     },
     "execution_count": 98,
     "metadata": {},
     "output_type": "execute_result"
    }
   ],
   "source": [
    "a13_b1k_yz.substituted({a:xyz, b:xy, k:num(2)})"
   ]
  },
  {
   "cell_type": "code",
   "execution_count": 99,
   "metadata": {
    "scrolled": false
   },
   "outputs": [
    {
     "name": "stdout",
     "output_type": "stream",
     "text": [
      "intersection start/end 1 1\n",
      "intersection start/end 2 2\n",
      "intersection start/end 3 3\n",
      "[0 < 1 < 2 < 3 < 4]\n",
      "((1,), (1,))\n",
      "((2,), (2,))\n",
      "((3,), (3,))\n",
      "intersection start/end 1 1\n",
      "intersection start/end 2 4\n",
      "intersection start/end 5 5\n",
      "[0 < 1 < 2 <= 4 < 5 < 6]\n",
      "((1,), (1,))\n",
      "((2,), (3,))\n",
      "(2,) (4,) {a: (x , y , z), k: 5, b: (x , a_(1) ,  ...  , a_(3) , y)} [] j -> b_j | j in {1...k}\n"
     ]
    },
    {
     "ename": "TypeError",
     "evalue": "range() integer end argument expected, got list.",
     "output_type": "error",
     "traceback": [
      "\u001b[0;31m\u001b[0m",
      "\u001b[0;31mTypeError\u001b[0mTraceback (most recent call last)",
      "\u001b[0;32m<ipython-input-99-e28f4763b18a>\u001b[0m in \u001b[0;36m<module>\u001b[0;34m()\u001b[0m\n\u001b[0;32m----> 1\u001b[0;31m \u001b[0ma13_b1k_yz\u001b[0m\u001b[0;34m.\u001b[0m\u001b[0msubstituted\u001b[0m\u001b[0;34m(\u001b[0m\u001b[0;34m{\u001b[0m\u001b[0ma\u001b[0m\u001b[0;34m:\u001b[0m\u001b[0mxyz\u001b[0m\u001b[0;34m,\u001b[0m \u001b[0mb\u001b[0m\u001b[0;34m:\u001b[0m\u001b[0mExprList\u001b[0m\u001b[0;34m(\u001b[0m\u001b[0mx\u001b[0m\u001b[0;34m,\u001b[0m \u001b[0ma_it\u001b[0m\u001b[0;34m,\u001b[0m \u001b[0my\u001b[0m\u001b[0;34m)\u001b[0m\u001b[0;34m,\u001b[0m \u001b[0mk\u001b[0m\u001b[0;34m:\u001b[0m\u001b[0mnum\u001b[0m\u001b[0;34m(\u001b[0m\u001b[0;36m5\u001b[0m\u001b[0;34m)\u001b[0m\u001b[0;34m}\u001b[0m\u001b[0;34m)\u001b[0m\u001b[0;34m\u001b[0m\u001b[0m\n\u001b[0m",
      "\u001b[0;32m/home/wwitzel/Prove-It/packages/proveit/_core_/expression/composite/expr_list.py\u001b[0m in \u001b[0;36msubstituted\u001b[0;34m(self, exprMap, relabelMap, reservedVars, assumptions, requirements)\u001b[0m\n\u001b[1;32m    326\u001b[0m         \u001b[0msubbed_exprs\u001b[0m \u001b[0;34m=\u001b[0m \u001b[0;34m[\u001b[0m\u001b[0;34m]\u001b[0m\u001b[0;34m\u001b[0m\u001b[0m\n\u001b[1;32m    327\u001b[0m         \u001b[0;32mfor\u001b[0m \u001b[0mexpr\u001b[0m \u001b[0;32min\u001b[0m \u001b[0mself\u001b[0m\u001b[0;34m:\u001b[0m\u001b[0;34m\u001b[0m\u001b[0m\n\u001b[0;32m--> 328\u001b[0;31m             \u001b[0msubbed_expr\u001b[0m \u001b[0;34m=\u001b[0m \u001b[0mexpr\u001b[0m\u001b[0;34m.\u001b[0m\u001b[0msubstituted\u001b[0m\u001b[0;34m(\u001b[0m\u001b[0mexprMap\u001b[0m\u001b[0;34m,\u001b[0m \u001b[0mrelabelMap\u001b[0m\u001b[0;34m,\u001b[0m \u001b[0mreservedVars\u001b[0m\u001b[0;34m,\u001b[0m \u001b[0massumptions\u001b[0m\u001b[0;34m,\u001b[0m \u001b[0mrequirements\u001b[0m\u001b[0;34m)\u001b[0m\u001b[0;34m\u001b[0m\u001b[0m\n\u001b[0m\u001b[1;32m    329\u001b[0m             \u001b[0;32mif\u001b[0m \u001b[0misinstance\u001b[0m\u001b[0;34m(\u001b[0m\u001b[0mexpr\u001b[0m\u001b[0;34m,\u001b[0m \u001b[0mIter\u001b[0m\u001b[0;34m)\u001b[0m \u001b[0;32mand\u001b[0m \u001b[0misinstance\u001b[0m\u001b[0;34m(\u001b[0m\u001b[0msubbed_expr\u001b[0m\u001b[0;34m,\u001b[0m \u001b[0mExprList\u001b[0m\u001b[0;34m)\u001b[0m\u001b[0;34m:\u001b[0m\u001b[0;34m\u001b[0m\u001b[0m\n\u001b[1;32m    330\u001b[0m                 \u001b[0;31m# The iterated expression is being expanded\u001b[0m\u001b[0;34m\u001b[0m\u001b[0;34m\u001b[0m\u001b[0m\n",
      "\u001b[0;32m/home/wwitzel/Prove-It/packages/proveit/_core_/expression/composite/iteration.pyc\u001b[0m in \u001b[0;36msubstituted\u001b[0;34m(self, exprMap, relabelMap, reservedVars, assumptions, requirements)\u001b[0m\n\u001b[1;32m    358\u001b[0m                     \u001b[0;32mprint\u001b[0m \u001b[0mstart_loc\u001b[0m\u001b[0;34m,\u001b[0m \u001b[0mend_loc\u001b[0m\u001b[0;34m,\u001b[0m \u001b[0mrange_expr_map\u001b[0m\u001b[0;34m,\u001b[0m \u001b[0mrange_assumptions\u001b[0m\u001b[0;34m,\u001b[0m \u001b[0mself\u001b[0m\u001b[0;34m.\u001b[0m\u001b[0mlambda_map\u001b[0m\u001b[0;34m\u001b[0m\u001b[0m\n\u001b[1;32m    359\u001b[0m                     \u001b[0;31m# generate \"safe\" new parameters (the Variables are not used for anything that might conflict).\u001b[0m\u001b[0;34m\u001b[0m\u001b[0;34m\u001b[0m\u001b[0m\n\u001b[0;32m--> 360\u001b[0;31m                     \u001b[0mnew_params\u001b[0m \u001b[0;34m=\u001b[0m \u001b[0msafeDummyVars\u001b[0m\u001b[0;34m(\u001b[0m\u001b[0mlen\u001b[0m\u001b[0;34m(\u001b[0m\u001b[0mself\u001b[0m\u001b[0;34m.\u001b[0m\u001b[0mlambda_map\u001b[0m\u001b[0;34m.\u001b[0m\u001b[0mparameters\u001b[0m\u001b[0;34m)\u001b[0m\u001b[0;34m,\u001b[0m \u001b[0;34m[\u001b[0m\u001b[0mself\u001b[0m\u001b[0;34m]\u001b[0m \u001b[0;34m+\u001b[0m \u001b[0mrange_expr_map\u001b[0m\u001b[0;34m.\u001b[0m\u001b[0mvalues\u001b[0m\u001b[0;34m(\u001b[0m\u001b[0;34m)\u001b[0m \u001b[0;34m+\u001b[0m \u001b[0mrelabelMap\u001b[0m\u001b[0;34m.\u001b[0m\u001b[0mvalues\u001b[0m\u001b[0;34m(\u001b[0m\u001b[0;34m)\u001b[0m\u001b[0;34m)\u001b[0m\u001b[0;34m\u001b[0m\u001b[0m\n\u001b[0m\u001b[1;32m    361\u001b[0m                     \u001b[0;32mfor\u001b[0m \u001b[0mstart_idx\u001b[0m\u001b[0;34m,\u001b[0m \u001b[0mparam\u001b[0m\u001b[0;34m,\u001b[0m \u001b[0mnew_param\u001b[0m\u001b[0;34m,\u001b[0m \u001b[0mrange_start\u001b[0m\u001b[0;34m,\u001b[0m \u001b[0mrange_end\u001b[0m \u001b[0;32min\u001b[0m \u001b[0mzip\u001b[0m\u001b[0;34m(\u001b[0m\u001b[0mself\u001b[0m\u001b[0;34m.\u001b[0m\u001b[0mstart_indices\u001b[0m\u001b[0;34m,\u001b[0m \u001b[0mself\u001b[0m\u001b[0;34m.\u001b[0m\u001b[0mlambda_map\u001b[0m\u001b[0;34m.\u001b[0m\u001b[0mparameters\u001b[0m\u001b[0;34m,\u001b[0m \u001b[0mnew_params\u001b[0m\u001b[0;34m,\u001b[0m \u001b[0mstart_loc\u001b[0m\u001b[0;34m,\u001b[0m \u001b[0mend_loc\u001b[0m\u001b[0;34m)\u001b[0m\u001b[0;34m:\u001b[0m\u001b[0;34m\u001b[0m\u001b[0m\n\u001b[1;32m    362\u001b[0m                         \u001b[0mrange_expr_map\u001b[0m\u001b[0;34m[\u001b[0m\u001b[0mparam\u001b[0m\u001b[0;34m]\u001b[0m \u001b[0;34m=\u001b[0m \u001b[0mAdd\u001b[0m\u001b[0;34m(\u001b[0m\u001b[0mnew_param\u001b[0m\u001b[0;34m,\u001b[0m \u001b[0mSubtract\u001b[0m\u001b[0;34m(\u001b[0m\u001b[0mrange_start\u001b[0m\u001b[0;34m,\u001b[0m \u001b[0mstart_idx\u001b[0m\u001b[0;34m)\u001b[0m\u001b[0;34m)\u001b[0m\u001b[0;34m\u001b[0m\u001b[0m\n",
      "\u001b[0;32m/home/wwitzel/Prove-It/packages/proveit/_core_/expression/label/var.pyc\u001b[0m in \u001b[0;36msafeDummyVars\u001b[0;34m(self, n, *expressions)\u001b[0m\n\u001b[1;32m     70\u001b[0m \u001b[0;32mdef\u001b[0m \u001b[0msafeDummyVars\u001b[0m\u001b[0;34m(\u001b[0m\u001b[0mself\u001b[0m\u001b[0;34m,\u001b[0m \u001b[0mn\u001b[0m\u001b[0;34m,\u001b[0m \u001b[0;34m*\u001b[0m\u001b[0mexpressions\u001b[0m\u001b[0;34m)\u001b[0m\u001b[0;34m:\u001b[0m\u001b[0;34m\u001b[0m\u001b[0m\n\u001b[1;32m     71\u001b[0m     \u001b[0mdummyVars\u001b[0m \u001b[0;34m=\u001b[0m \u001b[0;34m[\u001b[0m\u001b[0;34m]\u001b[0m\u001b[0;34m\u001b[0m\u001b[0m\n\u001b[0;32m---> 72\u001b[0;31m     \u001b[0;32mfor\u001b[0m \u001b[0m_\u001b[0m \u001b[0;32min\u001b[0m \u001b[0mrange\u001b[0m \u001b[0;34m(\u001b[0m\u001b[0mn\u001b[0m\u001b[0;34m)\u001b[0m\u001b[0;34m:\u001b[0m\u001b[0;34m\u001b[0m\u001b[0m\n\u001b[0m\u001b[1;32m     73\u001b[0m         \u001b[0mdummyVars\u001b[0m\u001b[0;34m.\u001b[0m\u001b[0mappend\u001b[0m\u001b[0;34m(\u001b[0m\u001b[0msafeDummyVar\u001b[0m\u001b[0;34m(\u001b[0m\u001b[0;34m*\u001b[0m\u001b[0;34m(\u001b[0m\u001b[0mexpressions\u001b[0m \u001b[0;34m+\u001b[0m \u001b[0mdummyVars\u001b[0m\u001b[0;34m)\u001b[0m\u001b[0;34m)\u001b[0m\u001b[0;34m)\u001b[0m\u001b[0;34m\u001b[0m\u001b[0m\n\u001b[1;32m     74\u001b[0m     \u001b[0;32mreturn\u001b[0m \u001b[0mdummyVars\u001b[0m\u001b[0;34m\u001b[0m\u001b[0m\n",
      "\u001b[0;31mTypeError\u001b[0m: range() integer end argument expected, got list."
     ]
    }
   ],
   "source": [
    "a13_b1k_yz.substituted({a:xyz, b:ExprList(x, a_it, y), k:num(5)})"
   ]
  },
  {
   "cell_type": "code",
   "execution_count": null,
   "metadata": {
    "scrolled": true
   },
   "outputs": [],
   "source": [
    "a13_b1k_yz.substituted({a:xyz, b:ExprList(a_it), k:num(3)})"
   ]
  },
  {
   "cell_type": "markdown",
   "metadata": {},
   "source": [
    "A simple `Iter` over an `Indexed` variable as above may be used as `Lambda` *parameters* or `Operation` *operators*.  For example,"
   ]
  },
  {
   "cell_type": "code",
   "execution_count": null,
   "metadata": {},
   "outputs": [],
   "source": [
    "from proveit.number import Add\n",
    "Lambda(a13_b1k_yz, Add(*a13_b1k_yz))"
   ]
  },
  {
   "cell_type": "markdown",
   "metadata": {},
   "source": [
    "Note that the asterisk, `*`, above is necessary to indicate addition over the `ExprList` rather than `Add` applied to a single `ExprList` term."
   ]
  },
  {
   "cell_type": "markdown",
   "metadata": {},
   "source": [
    "An `Iter` may be applying more generally than an iteration over an **indexed** **variable**."
   ]
  },
  {
   "cell_type": "code",
   "execution_count": null,
   "metadata": {},
   "outputs": [],
   "source": [
    "Iter(Lambda(k, Add(k, k)), num(1), num(5))"
   ]
  },
  {
   "cell_type": "code",
   "execution_count": null,
   "metadata": {},
   "outputs": [],
   "source": []
  },
  {
   "cell_type": "markdown",
   "metadata": {},
   "source": [
    "<a name=\"ExprTensor\"></a>ExprTensor\n",
    "====================\n",
    "\n",
    "An `ExprTensor` is the multi-dimensional analog to `ExprList`.  It has not been fully implemented, however.  This tutorial will be updated after it has been implemented."
   ]
  },
  {
   "cell_type": "code",
   "execution_count": null,
   "metadata": {},
   "outputs": [],
   "source": []
  },
  {
   "cell_type": "markdown",
   "metadata": {},
   "source": [
    "# Next chapter: <a href=\"tutorial11_advanced_proofs.ipynb\">Proofs Using Advanced Expressions</a>\n",
    "\n",
    "## <a href=\"tutorial00_introduction.ipynb#contents\">Table of Contents</a>"
   ]
  },
  {
   "cell_type": "code",
   "execution_count": null,
   "metadata": {},
   "outputs": [],
   "source": []
  }
 ],
 "metadata": {
  "kernelspec": {
   "display_name": "Python 3",
   "language": "python",
   "name": "python3"
  },
  "language_info": {
   "codemirror_mode": {
    "name": "ipython",
    "version": 3
   },
   "file_extension": ".py",
   "mimetype": "text/x-python",
   "name": "python",
   "nbconvert_exporter": "python",
   "pygments_lexer": "ipython3"
  }
 },
 "nbformat": 4,
 "nbformat_minor": 2
}
