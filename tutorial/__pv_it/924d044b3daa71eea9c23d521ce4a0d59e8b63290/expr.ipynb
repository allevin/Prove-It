{
 "cells": [
  {
   "cell_type": "markdown",
   "metadata": {},
   "source": [
    "Expression of type <a class=\"ProveItLink\" href=\"../../../doc/html/api/proveit.ExprTuple.html\">ExprTuple</a>\n",
    "=======================\n",
    "# from context <a class=\"ProveItLink\" href=\"../../_context_.ipynb\">tutorial</a>"
   ]
  },
  {
   "cell_type": "code",
   "execution_count": 1,
   "metadata": {},
   "outputs": [],
   "source": [
    "# import Expression classes needed to build the expression\n",
    "from proveit import ExprTuple, Function\n",
    "from proveit._common_ import P, Qx, fy, x\n",
    "from proveit.logic import Forall"
   ]
  },
  {
   "cell_type": "code",
   "execution_count": 2,
   "metadata": {},
   "outputs": [
    {
     "data": {
      "text/html": [
       "<strong id=\"expr\">expr:</strong> <a class=\"ProveItLink\" href=\"expr.ipynb\"><img src=\"data:image/png;base64,iVBORw0KGgoAAAANSUhEUgAAALQAAAAVBAMAAAAdo9lKAAAAMFBMVEX////c3NwiIiJERESqqqqY\n",
       "mJh2dnZmZmYQEBDu7u4yMjJUVFTMzMyIiIi6uroAAAAs73DqAAAAAXRSTlMAQObYZgAAAwZJREFU\n",
       "OMu1VUtoU0EUPenL7zV5SYrSTSlm4Qfpplp/oKXdCYIkq4KfRRBRVAq1SFaCCrqoUA0qVerCgAgW\n",
       "RGIXIlYwy0IXzaatEEqLKxGK9VNLVFLvvfNm3msqdOWFOznTmXPe3M9Mgf9oiYp/trQRhxaVK7M3\n",
       "VzKEKfLq2sRER4pAvMRrj6seJrvquliTkP3Hac1fUtMpNBDGePILsG7Qb3OBZwcyWYMZuC4W7vUv\n",
       "8R9eAOMyH8N6gsNfjP8EguSYl5jrD6CxnDGnXCzQScMWT9l+SkOUA3QqDYQof9CpE14lMMQrwWXZ\n",
       "MGTY15Ur47Nd8aSb0zREaqxfaCB8ZmyRWOwHFaLIs0hailI09H2ui/W1tLSkPelrZU4KHU0p+Ql5\n",
       "hkmSeUKRRjjs0JuOASg8kkeADnQeysWSXV17c0Yk8F3yTccSpdbq1rmKJjzjpekc4rs4uqyQJWmM\n",
       "c1/gUEDHoFwsVoaVMtKRFYn6Dw2kZOdCO6JpTbjDSwuvz+V5e1TadxvHyDjeOwiLgvkE5ap7Sxj1\n",
       "Qm+qyWG4EqQUppMEy5rAWUKPW4GkSGc0tjEsIUxDubI0ZjxpEUWGM1Tn+xTrBDRBpL/BL33G4GAN\n",
       "0+VG6Rns9klLRZ8XlDTFWvGkb3Jbr7obo3wfcNjgSBEf0JAQjPI1DVeX3klFuFGDnGpR4mQWNGG/\n",
       "29ZilpRx2ODmAfnOSdchebPaKJ4LsU6RCtYD8+VJCZaUQqkFOAVN4D6xavrSDshlNDhSSqzAaz5b\n",
       "EhccpGFRNRNlbwRn9wiiHZnsIbQbwkfgYc9v944mOHOJmsF299xXgi9dt++mTFRJtwETb/u3I86I\n",
       "lO7PjvRnDSGa8r+L/EQ5RQ8jnPZf9IRsPsHDJMqadASnpTiphoseyvml+4BTVtbgcTyiYoYryimX\n",
       "el98+SIM8aB6EzwlTRjzS9Nrefueh3fiALeE6z5pu/vorHmN3q8tYt2jqgltfulACX2XPXx8jkmv\n",
       "XAcq//zvMnlL/RolTQis29++ETtl5ZuaVnIJfwEwjt43g1YqOQAAAABJRU5ErkJggg==\n",
       "\" style=\"display:inline;vertical-align:middle;\" /></a><br>"
      ],
      "text/plain": [
       "expr: (P(f(y)) , forall_{x} Q(x))"
      ]
     },
     "execution_count": 2,
     "metadata": {},
     "output_type": "execute_result"
    }
   ],
   "source": [
    "# build up the expression from sub-expressions\n",
    "expr = ExprTuple(Function(P, fy), Forall([x], Qx, conditions = []))"
   ]
  },
  {
   "cell_type": "code",
   "execution_count": 3,
   "metadata": {},
   "outputs": [
    {
     "name": "stdout",
     "output_type": "stream",
     "text": [
      "Passed sanity check: built 'expr' is the same as the stored Expression.\n"
     ]
    }
   ],
   "source": [
    "# check that the built expression is the same as the stored expression\n",
    "%check_expr"
   ]
  },
  {
   "cell_type": "code",
   "execution_count": 4,
   "metadata": {},
   "outputs": [
    {
     "data": {
      "text/html": [
       "<table><tr><th>&nbsp;</th><th>core type</th><th>sub-expressions</th><th>expression</th></tr>\n",
       "<tr><td>0</td><td>ExprTuple</td><td>1, 2</td><td><a class=\"ProveItLink\" href=\"expr.ipynb\"><img src=\"data:image/png;base64,iVBORw0KGgoAAAANSUhEUgAAALQAAAAVBAMAAAAdo9lKAAAAMFBMVEX////c3NwiIiJERESqqqqY\n",
       "mJh2dnZmZmYQEBDu7u4yMjJUVFTMzMyIiIi6uroAAAAs73DqAAAAAXRSTlMAQObYZgAAAwZJREFU\n",
       "OMu1VUtoU0EUPenL7zV5SYrSTSlm4Qfpplp/oKXdCYIkq4KfRRBRVAq1SFaCCrqoUA0qVerCgAgW\n",
       "RGIXIlYwy0IXzaatEEqLKxGK9VNLVFLvvfNm3msqdOWFOznTmXPe3M9Mgf9oiYp/trQRhxaVK7M3\n",
       "VzKEKfLq2sRER4pAvMRrj6seJrvquliTkP3Hac1fUtMpNBDGePILsG7Qb3OBZwcyWYMZuC4W7vUv\n",
       "8R9eAOMyH8N6gsNfjP8EguSYl5jrD6CxnDGnXCzQScMWT9l+SkOUA3QqDYQof9CpE14lMMQrwWXZ\n",
       "MGTY15Ur47Nd8aSb0zREaqxfaCB8ZmyRWOwHFaLIs0hailI09H2ui/W1tLSkPelrZU4KHU0p+Ql5\n",
       "hkmSeUKRRjjs0JuOASg8kkeADnQeysWSXV17c0Yk8F3yTccSpdbq1rmKJjzjpekc4rs4uqyQJWmM\n",
       "c1/gUEDHoFwsVoaVMtKRFYn6Dw2kZOdCO6JpTbjDSwuvz+V5e1TadxvHyDjeOwiLgvkE5ap7Sxj1\n",
       "Qm+qyWG4EqQUppMEy5rAWUKPW4GkSGc0tjEsIUxDubI0ZjxpEUWGM1Tn+xTrBDRBpL/BL33G4GAN\n",
       "0+VG6Rns9klLRZ8XlDTFWvGkb3Jbr7obo3wfcNjgSBEf0JAQjPI1DVeX3klFuFGDnGpR4mQWNGG/\n",
       "29ZilpRx2ODmAfnOSdchebPaKJ4LsU6RCtYD8+VJCZaUQqkFOAVN4D6xavrSDshlNDhSSqzAaz5b\n",
       "EhccpGFRNRNlbwRn9wiiHZnsIbQbwkfgYc9v944mOHOJmsF299xXgi9dt++mTFRJtwETb/u3I86I\n",
       "lO7PjvRnDSGa8r+L/EQ5RQ8jnPZf9IRsPsHDJMqadASnpTiphoseyvml+4BTVtbgcTyiYoYryimX\n",
       "el98+SIM8aB6EzwlTRjzS9Nrefueh3fiALeE6z5pu/vorHmN3q8tYt2jqgltfulACX2XPXx8jkmv\n",
       "XAcq//zvMnlL/RolTQis29++ETtl5ZuaVnIJfwEwjt43g1YqOQAAAABJRU5ErkJggg==\n",
       "\" style=\"display:inline;vertical-align:middle;\" /></a></td></tr>\n",
       "<tr><td>1</td><td>Operation</td><td>operator:&nbsp;3<br>operand:&nbsp;4<br></td><td><a class=\"ProveItLink\" href=\"../e16eba53b0be132ecdb115b19c32e9f6e91766930/expr.ipynb\"><img src=\"data:image/png;base64,iVBORw0KGgoAAAANSUhEUgAAAE0AAAAVBAMAAADx+n4ZAAAAMFBMVEX////u7u5mZmaYmJi6urqq\n",
       "qqp2dnbMzMwQEBBEREQyMjLc3NwiIiJUVFSIiIgAAAAeC3ydAAAAAXRSTlMAQObYZgAAAXJJREFU\n",
       "KM+dkT9Lw0AYh39t2iaxNgYnneogHUTRQdyEuhah/QYNAZ1EXBzFDjrpIHRyaqpfoF9ADO5CcXCR\n",
       "SjZBsI21WhD/3XuXuwa6+YPnzdPkTS/3HvCPpIJxX40AXn47ndsW2QGVxOODcpbknoDlEzBPSJpU\n",
       "zK035RQvAvoHkGbA4kvlNyrKKWsRsAaA1mdi2PSzyp8Kp8xEwAyB3DuTEr+/yGtJbcisCDDFVs+f\n",
       "MSnQ7fXTOwhPuA6ubWTmwMGhA/2Gnl3y938QeSYVosc+3ROgd79d4GM5opIdIvL9pI9zNsiaAA35\n",
       "yQMq6VC6bQT053oowBfifRlfedXWh6M+vS/7jvn22soXYNVG61oD2VfngwuUX/CXNE9gvso+lx9H\n",
       "UfkSyiuQc5lufMsj2qRStpXPdpfZHCaKglEMms5zzLETPzcVzYHWrivP+QnazW5ELE0YTV/5pGM6\n",
       "7PQ8QTxX0NyW8nR3nl1zLUE82WDcnwR/Yg9mYrHVncgAAAAASUVORK5CYII=\n",
       "\" style=\"display:inline;vertical-align:middle;\" /></a></td></tr>\n",
       "<tr><td>2</td><td>Operation</td><td>operator:&nbsp;5<br>operand:&nbsp;6<br></td><td><a class=\"ProveItLink\" href=\"../bca24c60e66d9d7453216f7296fb03835ec24ffe0/expr.ipynb\"><img src=\"data:image/png;base64,iVBORw0KGgoAAAANSUhEUgAAAEsAAAAVBAMAAAD85A5eAAAAMFBMVEX///8QEBC6urrMzMxUVFRm\n",
       "ZmZERETc3NwyMjKqqqp2dnaIiIiYmJgiIiLu7u4AAAAU9Wx4AAAAAXRSTlMAQObYZgAAAZhJREFU\n",
       "KM+NUjtIQmEU/vRq6vWRRdAQiYND0OLQXhjY0OLuYJMODTnlINGdo4cQtTToEpWCCrZEL2kJisC5\n",
       "wWyJaLKEgijqnP8+G4oO/Of/OPe75/GdH/ifdX7/NK7dF3RaDK4tH1275VkBpCkt4owCBwzWLbT9\n",
       "KBxtBm6jkAIscoI5k/XIeIjRsRG7Uv9xFkzaGrsUJwoZsXvAt5fLLZksZ499LQzYFSPYR2le0+lb\n",
       "k7Ys6tco7ixRN5WZnSQgJ4BpIGPSUk32CzSbm9ATbpqjgIcSRxAw0+NOjPdMx0aFSzjHJtUPAn54\n",
       "myaNCfC8k+sPs/ZxoWAXRPJbNvEpFAtpNGBEpwWUCUKV2GGUIxvsigxtrJKrh4BaFJkYzdKJizCK\n",
       "4XxDGhQqUCuX3i7OSDRufovWaseqWlRul+TtrEAJeD76gq66KghsdY6+ac1FVk4L4KL2FgLz1fIJ\n",
       "98pt+ngCKSgZmkd9os1h67JUm5QV2aAlxvSFa1bRwcNRsqpjx9cLfjwkq/ymSQOq3C79WTqyf77/\n",
       "vHY3gG/2Nl3NWfGzcgAAAABJRU5ErkJggg==\n",
       "\" style=\"display:inline;vertical-align:middle;\" /></a></td></tr>\n",
       "<tr><td>3</td><td>Variable</td><td></td><td><a class=\"ProveItLink\" href=\"../../../packages/proveit/__pv_it/6369c6c8083c513ca7161ace249642d040f9327d0/expr.ipynb\"><img src=\"data:image/png;base64,iVBORw0KGgoAAAANSUhEUgAAABAAAAAOBAMAAADUAYG5AAAAMFBMVEX////u7u5mZmaYmJi6urqq\n",
       "qqp2dnbMzMwQEBBEREQyMjLc3NwiIiJUVFSIiIgAAAAeC3ydAAAAAXRSTlMAQObYZgAAAGBJREFU\n",
       "CNdjYGB4+//u3bMbGIDgFwMDZzeQZv/GwMAKxAx8XxgYmD8BGZwfGBh4vwIZ/AsYGOQnABn1CQzs\n",
       "h0Ca3l9LUwPrni/AAAF/oDT7JygDZAwYcH6E0ELz/z4A0QBnpRnRyxnfJQAAAABJRU5ErkJggg==\n",
       "\" style=\"display:inline;vertical-align:middle;\" /></a></td></tr>\n",
       "<tr><td>4</td><td>Operation</td><td>operator:&nbsp;7<br>operand:&nbsp;8<br></td><td><a class=\"ProveItLink\" href=\"../../../packages/proveit/__pv_it/e4f99fbf53c5e24e1c1e622903a7736f418f26ef0/expr.ipynb\"><img src=\"data:image/png;base64,iVBORw0KGgoAAAANSUhEUgAAACgAAAAVBAMAAADGNLEtAAAAMFBMVEX///8yMjLMzMwQEBAiIiJm\n",
       "Zma6urqYmJiqqqp2dnZERETc3NyIiIhUVFTu7u4AAAAe+HC4AAAAAXRSTlMAQObYZgAAAQlJREFU\n",
       "GNNjYMAPciAUewKYent2A5BkugCVDAKTK/sLgCTjA6ggI4jg+/YCRJ2BGcM+AUhwfACz7WCCfAZA\n",
       "gtUBxGQTgNu4Aqj6sm8ASAqo6WUkA/c/BoapQC7/AbDxQMsm5DPwAM1qBHL3K4AEmRMYmBpCGLgW\n",
       "MDAkA7n9YIP4Exj4GGzA2vSB3CkwQQaOfwz6ChDBtWBB5gagZQIMhxkg2m3AglxAixgDwCoKQR4C\n",
       "C3IC3cV6ge07A9hJbP/AgmxAL/CtOfobyBRjYOCBesUarN4B7M1akGEgUMnAcIXhMdA6zgMMhk9g\n",
       "IfaAwZNhJZDxEKggGirIfYGh5ygo1G8jR8ceCMWjwAAAl6o3tGQ/mUwAAAAASUVORK5CYII=\n",
       "\" style=\"display:inline;vertical-align:middle;\" /></a></td></tr>\n",
       "<tr><td>5</td><td>Literal</td><td></td><td><a class=\"ProveItLink\" href=\"../../../packages/proveit/logic/boolean/quantification/universal/__pv_it/265f8c02ac1094d56e0e6410a1c1fd3500dc9f540/expr.ipynb\"><img src=\"data:image/png;base64,iVBORw0KGgoAAAANSUhEUgAAAAwAAAAQBAMAAADQT4M0AAAAMFBMVEX///8QEBC6urrMzMxUVFRm\n",
       "ZmZERETc3NwyMjKqqqp2dnaIiIiYmJgiIiLu7u4AAAAU9Wx4AAAAAXRSTlMAQObYZgAAAFhJREFU\n",
       "CNdjeMAABhdAxGmGlSCqj6EMSLInMHAAJVknMPAsLy+vBYp8S0u7BaScGRjSgZQKA18DkOJl4D4A\n",
       "pLgP8IJM4mswARuX7gSmpoKNZWDcAKZ4gCoAgTQTILaSE58AAAAASUVORK5CYII=\n",
       "\" style=\"display:inline;vertical-align:middle;\" /></a></td></tr>\n",
       "<tr><td>6</td><td>Lambda</td><td>parameter:&nbsp;11<br>body:&nbsp;9<br></td><td><a class=\"ProveItLink\" href=\"../1fb815c5755673d1a2bdb97d492e4957a2ccb2df0/expr.ipynb\"><img src=\"data:image/png;base64,iVBORw0KGgoAAAANSUhEUgAAAFoAAAAVCAMAAADxeAmJAAAANlBMVEX///+6uroUFBQNDQ0yMjJE\n",
       "RETMzMwQEBAiIiKYmJju7u5mZmaqqqpUVFSIiIh2dnbc3NwAAACltDI1AAAAAXRSTlMAQObYZgAA\n",
       "AV9JREFUOMvNlUmWhSAMRaGKvknI/jdboEgng6/nD8oRErx5aYiM/fOHw/xu+TtOQo8YR5iK6xmv\n",
       "3pBRHJ9F49qWcLdT4jnYCVlXukkFuJ+z+BgtTIuZLq3abSTop2RPLYlItVZ8G7wMR1kgpgAetmkK\n",
       "YawgyZ5zqhaPV3lHDvosPVussUxfoZrZfXSjaNtlXQGIc2/hhKyw+ATKa7VHu5ja2lD3Q1c29ZmY\n",
       "hcOzuRyOcmD9/pjp0cRvuEygqweqeeEoqo7H9llUs9ivFnWbaH3RPY+cik5H2twe7dPQetRFt1bR\n",
       "oVe5c0pCbDpSxGCPVmNAIStMAIop3aXKs4wLx4p82jKZPaSGmO/WfB3QlEbAIIdQSpuxGyfvOgno\n",
       "EMF+OOOiQDAlBS0h/Ahz5Yh3w09mrO2zTadvXPSK9tPt3o0ihHfoSERjvPeh6sQ7cu4PPZUm3X4F\n",
       "MX3rB5aW8KEU4g9aOQ1MFWmdXQAAAABJRU5ErkJggg==\n",
       "\" style=\"display:inline;vertical-align:middle;\" /></a></td></tr>\n",
       "<tr><td>7</td><td>Variable</td><td></td><td><a class=\"ProveItLink\" href=\"../../../packages/proveit/__pv_it/4d51ee1e62d011d06d4528b97697bf3da60c9de60/expr.ipynb\"><img src=\"data:image/png;base64,iVBORw0KGgoAAAANSUhEUgAAAAsAAAASBAMAAAB/WzlGAAAAMFBMVEX///8yMjLMzMwQEBAiIiJm\n",
       "Zma6urqYmJiqqqp2dnZERETc3NyIiIhUVFTu7u4AAAAe+HC4AAAAAXRSTlMAQObYZgAAAFVJREFU\n",
       "CNdjYGBgeHt2A5BkWNlfACT5vr0AcTg+gEgGVgcQyX7ZNwBE8x8AC+5XAFP9YJJhCoRaC6FswCTf\n",
       "NzDF9g9M8QiAyFoukPEMhk/AYpXRIBIAEwsRcZ82juYAAAAASUVORK5CYII=\n",
       "\" style=\"display:inline;vertical-align:middle;\" /></a></td></tr>\n",
       "<tr><td>8</td><td>Variable</td><td></td><td><a class=\"ProveItLink\" href=\"../../../packages/proveit/__pv_it/f8b9edf8e16034727f0aad55bb83e392c3db40d40/expr.ipynb\"><img src=\"data:image/png;base64,iVBORw0KGgoAAAANSUhEUgAAAAsAAAANBAMAAACN24kIAAAAMFBMVEX///+YmJhUVFQyMjIQEBBE\n",
       "REQiIiKqqqrMzMyIiIi6urrc3NxmZmZ2dnbu7u4AAADXeCicAAAAAXRSTlMAQObYZgAAAFhJREFU\n",
       "CNdj4LtzgWH/AwZerg8M8xkY2nkSGEIZGB6wTGD4ycDAUP+A4weQOszA6QCkbBhYFYDUIYb1AkDq\n",
       "6czzGxhA4BoQMyXwuQMptgusF4AU+8xTQBIAUqMVoSp/SLMAAAAASUVORK5CYII=\n",
       "\" style=\"display:inline;vertical-align:middle;\" /></a></td></tr>\n",
       "<tr><td>9</td><td>Operation</td><td>operator:&nbsp;10<br>operand:&nbsp;11<br></td><td><a class=\"ProveItLink\" href=\"../../../packages/proveit/__pv_it/050bcffbb388a0b365dac8afc3d37833b4bb47300/expr.ipynb\"><img src=\"data:image/png;base64,iVBORw0KGgoAAAANSUhEUgAAAC0AAAAVBAMAAAAgHXppAAAAMFBMVEX///+YmJiqqqq6uroQEBBE\n",
       "RETu7u4iIiLMzMwyMjKIiIhUVFRmZmZ2dnbc3NwAAADS0us6AAAAAXRSTlMAQObYZgAAASNJREFU\n",
       "GNNjYCACWEFpYTDJd+fuLjCDYwNUnKcBRN5sYOAuAzE4E2AaJwBxZgCQ8AbxVsENlAXi6SDGeZBS\n",
       "N7h4CtCsHyDGfQMGBuYJcHFWBYb3AWBxBaCKC0A33NqndYqBgfcAw3kBkHg80AWcQFYug7iAOwMD\n",
       "0wSGerAjvgAxC9CsCwzrGTSARjqARRiY/gIJfqB4AsNWsE8+MHwHu9wNKs7A4AUVnw+i9UEeZFEA\n",
       "ef4HAxvYHH2DVys4nMGOA9orx/WBYRkDA+MEBt6yC7yqD0DiQMcxfWR14FsAZjJYz12uwAAyh7mA\n",
       "gS3q2t2FIPvAVrE2MIID0A85HEDiByzhoQUBt8Ak9//PDCjhzAYJKQ4XAUgEweKF+wFqPL6C0isY\n",
       "GABRcT+tFx/ALwAAAABJRU5ErkJggg==\n",
       "\" style=\"display:inline;vertical-align:middle;\" /></a></td></tr>\n",
       "<tr><td>10</td><td>Variable</td><td></td><td><a class=\"ProveItLink\" href=\"../../../packages/proveit/__pv_it/98124f92e6e1fc3772af50ac63eaa1f5624776f20/expr.ipynb\"><img src=\"data:image/png;base64,iVBORw0KGgoAAAANSUhEUgAAAA8AAAASBAMAAAB2sJk8AAAAMFBMVEX///+YmJiqqqq6uroQEBBE\n",
       "RETu7u4iIiLMzMwyMjKIiIhUVFRmZmZ2dnbc3NwAAADS0us6AAAAAXRSTlMAQObYZgAAAHxJREFU\n",
       "CNdjYGDgu3N3FwMI3Gxg4C4D0pkBQMIbiKeDRM8nMPD8ADHuGzC8DwAzFBjOC4AY8Q0M9Qkgxhcw\n",
       "YmBg+svA8B3E4HRjYJgPYug3ALHBqxUczkAOb9kFXtUHIGHrucsVGBrAtrI2MEIZByzBNAP3/88Q\n",
       "BocL0BoActoerD1tNT4AAAAASUVORK5CYII=\n",
       "\" style=\"display:inline;vertical-align:middle;\" /></a></td></tr>\n",
       "<tr><td>11</td><td>Variable</td><td></td><td><a class=\"ProveItLink\" href=\"../../../packages/proveit/__pv_it/530be409e3083890784cf1d7b28c9e67e90af9360/expr.ipynb\"><img src=\"data:image/png;base64,iVBORw0KGgoAAAANSUhEUgAAAAsAAAAJBAMAAAAWSsseAAAAKlBMVEX///9ERETMzMwQEBAiIiKY\n",
       "mJju7u5mZmaqqqpUVFSIiIh2dnbc3NwAAAA/vyDhAAAAAXRSTlMAQObYZgAAAENJREFUCNdjYDi9\n",
       "8sTyBQxsG1hdmR0YuBm4LnAoMLAxcAowgADzAjB1VoEhgYH1wFoGrgSG3gBhhlMMDImrs3cFMAAA\n",
       "t0YN+iTRa+sAAAAASUVORK5CYII=\n",
       "\" style=\"display:inline;vertical-align:middle;\" /></a></td></tr>\n",
       "</table>\n"
      ],
      "text/plain": [
       "0. (P(f(y)) , forall_{x} Q(x))\n",
       "   core type: ExprTuple\n",
       "   sub-expressions: 1, 2\n",
       "1. P(f(y))\n",
       "   core type: Operation\n",
       "   operator: 3\n",
       "   operand: 4\n",
       "2. forall_{x} Q(x)\n",
       "   core type: Operation\n",
       "   operator: 5\n",
       "   operand: 6\n",
       "3. P\n",
       "   core type: Variable\n",
       "   sub-expressions: \n",
       "4. f(y)\n",
       "   core type: Operation\n",
       "   operator: 7\n",
       "   operand: 8\n",
       "5. forall\n",
       "   core type: Literal\n",
       "   sub-expressions: \n",
       "6. x -> Q(x)\n",
       "   core type: Lambda\n",
       "   parameter: 11\n",
       "   body: 9\n",
       "7. f\n",
       "   core type: Variable\n",
       "   sub-expressions: \n",
       "8. y\n",
       "   core type: Variable\n",
       "   sub-expressions: \n",
       "9. Q(x)\n",
       "   core type: Operation\n",
       "   operator: 10\n",
       "   operand: 11\n",
       "10. Q\n",
       "    core type: Variable\n",
       "    sub-expressions: \n",
       "11. x\n",
       "    core type: Variable\n",
       "    sub-expressions: "
      ]
     },
     "execution_count": 4,
     "metadata": {},
     "output_type": "execute_result"
    }
   ],
   "source": [
    "# display the expression information\n",
    "expr.exprInfo()"
   ]
  },
  {
   "cell_type": "code",
   "execution_count": null,
   "metadata": {},
   "outputs": [],
   "source": []
  }
 ],
 "metadata": {
  "kernelspec": {
   "display_name": "Python 3",
   "language": "python",
   "name": "python3"
  }
 },
 "nbformat": 4,
 "nbformat_minor": 0
}
