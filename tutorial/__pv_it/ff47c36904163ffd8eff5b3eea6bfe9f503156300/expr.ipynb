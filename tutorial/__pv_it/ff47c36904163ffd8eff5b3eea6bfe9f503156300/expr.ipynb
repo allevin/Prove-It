{
 "cells": [
  {
   "cell_type": "markdown",
   "metadata": {},
   "source": [
    "Expression of type <a class=\"ProveItLink\" href=\"../../../doc/html/api/proveit.ExprTuple.html\">ExprTuple</a>\n",
    "=======================\n",
    "# from context <a class=\"ProveItLink\" href=\"../../_context_.ipynb\">tutorial</a>"
   ]
  },
  {
   "cell_type": "code",
   "execution_count": 1,
   "metadata": {},
   "outputs": [],
   "source": [
    "# import Expression classes needed to build the expression\n",
    "from proveit import ExprTuple\n",
    "from proveit._common_ import x, y\n",
    "from proveit.logic import InSet\n",
    "from proveit.number import Reals"
   ]
  },
  {
   "cell_type": "code",
   "execution_count": 2,
   "metadata": {},
   "outputs": [
    {
     "data": {
      "text/html": [
       "<strong id=\"expr\">expr:</strong> <a class=\"ProveItLink\" href=\"expr.ipynb\"><img src=\"data:image/png;base64,iVBORw0KGgoAAAANSUhEUgAAAH0AAAAVBAMAAACZCfwhAAAAMFBMVEX////c3NwiIiJERESqqqqY\n",
       "mJh2dnZmZmYQEBDu7u4yMjJUVFTMzMyIiIi6uroAAAAs73DqAAAAAXRSTlMAQObYZgAAAa9JREFU\n",
       "OMtjYKAU8F0gW2sciDiNTSbqs/2qLpwGw2TZDwA5K7EqMZBmOOwlgMsAmOwCBgZe7LYYiDMwTzTA\n",
       "qR8qG8bAwDEBWWLuIiUtmAq2A+j6MWRnMDC8QlbAs3QCwgYM/ZiyzA4MZUCu2G2R62BvCE9AciE3\n",
       "1P2c6QkM8hOwyrIVMCwFKkhgVeVQAIkbIvvwURQk/Nj4PjDcxy7LsoChD6iAgfcDCygqOBEONpBQ\n",
       "0nKAMI+wKzAYY5fla2D4B5Rg4IZI8TUpKcFD6Dkz1LkTOC4w/MUuy/MBpB8YCZBI5NmA5EL2NzCe\n",
       "/wSeP9hlgfpbQHz5Awwg4zgVkH248iqUXcXA24BdFuh+UwYGVoH7DLxgx25FVnGa+wDQa0CwnIF5\n",
       "A1ZZBtYFDOlA9wVYMMiCxSc9QFLB5mDIMB9kZzXD+wCssqD4e8TAMPnatFywAgbG5QfgOcSGYfF6\n",
       "hxkfgZzJd+sFsMoycD1g4EDJJCy7oCEMAw/BZBIOWWD6ZU3Am8WB7uJW4GzBIZuLM/8i6WdKYMZh\n",
       "Bycw/zJI49POC3L13TocstwgvzOSX37dYWAAAHE3ftz/n0CUAAAAAElFTkSuQmCC\n",
       "\" style=\"display:inline;vertical-align:middle;\" /></a><br>"
      ],
      "text/plain": [
       "expr: (x in Reals , y in Reals)"
      ]
     },
     "execution_count": 2,
     "metadata": {},
     "output_type": "execute_result"
    }
   ],
   "source": [
    "# build up the expression from sub-expressions\n",
    "expr = ExprTuple(InSet(x, Reals), InSet(y, Reals))"
   ]
  },
  {
   "cell_type": "code",
   "execution_count": 3,
   "metadata": {},
   "outputs": [
    {
     "name": "stdout",
     "output_type": "stream",
     "text": [
      "Passed sanity check: built 'expr' is the same as the stored Expression.\n"
     ]
    }
   ],
   "source": [
    "# check that the built expression is the same as the stored expression\n",
    "%check_expr"
   ]
  },
  {
   "cell_type": "code",
   "execution_count": 4,
   "metadata": {},
   "outputs": [
    {
     "data": {
      "text/html": [
       "<table><tr><th>&nbsp;</th><th>core type</th><th>sub-expressions</th><th>expression</th></tr>\n",
       "<tr><td>0</td><td>ExprTuple</td><td>1, 2</td><td><a class=\"ProveItLink\" href=\"expr.ipynb\"><img src=\"data:image/png;base64,iVBORw0KGgoAAAANSUhEUgAAAH0AAAAVBAMAAACZCfwhAAAAMFBMVEX////c3NwiIiJERESqqqqY\n",
       "mJh2dnZmZmYQEBDu7u4yMjJUVFTMzMyIiIi6uroAAAAs73DqAAAAAXRSTlMAQObYZgAAAa9JREFU\n",
       "OMtjYKAU8F0gW2sciDiNTSbqs/2qLpwGw2TZDwA5K7EqMZBmOOwlgMsAmOwCBgZe7LYYiDMwTzTA\n",
       "qR8qG8bAwDEBWWLuIiUtmAq2A+j6MWRnMDC8QlbAs3QCwgYM/ZiyzA4MZUCu2G2R62BvCE9AciE3\n",
       "1P2c6QkM8hOwyrIVMCwFKkhgVeVQAIkbIvvwURQk/Nj4PjDcxy7LsoChD6iAgfcDCygqOBEONpBQ\n",
       "0nKAMI+wKzAYY5fla2D4B5Rg4IZI8TUpKcFD6Dkz1LkTOC4w/MUuy/MBpB8YCZBI5NmA5EL2NzCe\n",
       "/wSeP9hlgfpbQHz5Awwg4zgVkH248iqUXcXA24BdFuh+UwYGVoH7DLxgx25FVnGa+wDQa0CwnIF5\n",
       "A1ZZBtYFDOlA9wVYMMiCxSc9QFLB5mDIMB9kZzXD+wCssqD4e8TAMPnatFywAgbG5QfgOcSGYfF6\n",
       "hxkfgZzJd+sFsMoycD1g4EDJJCy7oCEMAw/BZBIOWWD6ZU3Am8WB7uJW4GzBIZuLM/8i6WdKYMZh\n",
       "Bycw/zJI49POC3L13TocstwgvzOSX37dYWAAAHE3ftz/n0CUAAAAAElFTkSuQmCC\n",
       "\" style=\"display:inline;vertical-align:middle;\" /></a></td></tr>\n",
       "<tr><td>1</td><td>Operation</td><td>operator:&nbsp;4<br>operands:&nbsp;3<br></td><td><a class=\"ProveItLink\" href=\"../fa2b6a7e0ba905cc446465b0bfe4b96e0c5594130/expr.ipynb\"><img src=\"data:image/png;base64,iVBORw0KGgoAAAANSUhEUgAAADQAAAAPBAMAAABZ6/G2AAAAMFBMVEX///+6uroyMjJERETMzMwQ\n",
       "EBAiIiKYmJju7u5mZmaqqqpUVFSIiIh2dnbc3NwAAAAWgogoAAAAAXRSTlMAQObYZgAAAL9JREFU\n",
       "GNNjYMAA7PrGn1R1GLACZr4NLFZ6OKQmMFg8RhbhOJSWpgCTusKMLOVUgaQLLPX29KuTB4A0nwWy\n",
       "gTuABnJcYE9nTQAJPECSYkwHOoOXgecDlwNQoBnJGWFpWiDLGbgNwAKiaWlwZ0ycADGd9QCY8kZ2\n",
       "/EQI770DQwOQakOWYuopAAbLg/MMPCAp7gIkKZYNWxgY1heYMrwB+zgR2fG3gA5uPtt7B6L+0RR4\n",
       "8H52YDL6hRwcq9UgLoQCAPaLM5068DIIAAAAAElFTkSuQmCC\n",
       "\" style=\"display:inline;vertical-align:middle;\" /></a></td></tr>\n",
       "<tr><td>2</td><td>Operation</td><td>operator:&nbsp;4<br>operands:&nbsp;5<br></td><td><a class=\"ProveItLink\" href=\"../08e54d329855007954b4b165eadb79761c60e3d30/expr.ipynb\"><img src=\"data:image/png;base64,iVBORw0KGgoAAAANSUhEUgAAADMAAAASBAMAAAAEf/uKAAAAMFBMVEX///+YmJhUVFQyMjIQEBBE\n",
       "REQiIiKqqqrMzMyIiIi6urrc3NxmZmZ2dnbu7u4AAADXeCicAAAAAXRSTlMAQObYZgAAANpJREFU\n",
       "GNNjYMAAwl/jjZ0nMGAFAZsYWos3YJfaw8D6OgBZhG9yWpoBVIq3AUWqWQ6hCyzFd+cCw/4HQAHu\n",
       "OCQDmUAG8nJ9YJgPEmDdgCS1TBjIa+dJYAgFCTxFOGNLWnIBkH7AMoHhJ0hgSVoa3BlrWEFWMNQ/\n",
       "4PgBopuQHM+zQgHEOMzA6QCinyH7y24iiGHDwApWwiSAJNXE1ABkHGJYDxbky0KS4i2IBrls5nmI\n",
       "szefgAdvBIOpPciNDNegqovMIC6EAaYEPnfsEcDAdoH1Ag4p9pmncMgAANZZQBgTUDIlAAAAAElF\n",
       "TkSuQmCC\n",
       "\" style=\"display:inline;vertical-align:middle;\" /></a></td></tr>\n",
       "<tr><td>3</td><td>ExprTuple</td><td>6, 8</td><td><a class=\"ProveItLink\" href=\"../cb351230b9382225f76af34f8dda3cddb6463dbb0/expr.ipynb\"><img src=\"data:image/png;base64,iVBORw0KGgoAAAANSUhEUgAAADAAAAAVBAMAAADyTXAxAAAAMFBMVEX////c3NwiIiJERESqqqqY\n",
       "mJh2dnZmZmYQEBDu7u4yMjJUVFTMzMyIiIi6uroAAAAs73DqAAAAAXRSTlMAQObYZgAAARBJREFU\n",
       "KM9jYMAJ+C5girE+ABKnkQXWG/9asRbIqAHilchKmRk38JgsZGDgYmDgvYAqUcBgKQzUmsDAMQFd\n",
       "IoeZgYGzgeEVAzYJBhOGMiApdlvk+gW4xE6gUQzpDEuB+hJYVTkUYBJ8qkDLGbwY+hgY2Bh4P7Ac\n",
       "gEo0KS0BMV4w/APqYOA2gNtRV2AJYpwHSTAwcFxAWF53GiLRAqLkDzBMgElwzQ0AG2UK9I3AfQbe\n",
       "CWApoATPhj1ARhTQXQz+ARYMsgycn6DOTWEWADn3EQPD5GvTcgMYOPsFQIH4+QCX1RcGhnUMHALw\n",
       "8BdAhAAwSIDBBQtzpKBhu4AU7MgSs4BYGsZBDv+NQMyIJWp5DzAAABMaPkMdIdlaAAAAAElFTkSu\n",
       "QmCC\n",
       "\" style=\"display:inline;vertical-align:middle;\" /></a></td></tr>\n",
       "<tr><td>4</td><td>Literal</td><td></td><td><a class=\"ProveItLink\" href=\"../../../packages/proveit/logic/set_theory/membership/__pv_it/088cbc857536a28d4119ad9639a84270ccb0545d0/expr.ipynb\"><img src=\"data:image/png;base64,iVBORw0KGgoAAAANSUhEUgAAAAwAAAAMBAMAAACkW0HUAAAALVBMVEX///+qqqpmZmZUVFQQEBC6\n",
       "urpERETc3NyYmJjMzMwiIiIyMjKIiIju7u4AAACYsrA9AAAAAXRSTlMAQObYZgAAADxJREFUCNdj\n",
       "YOA9vWrVBgaG2b0MQMCeCyIZ2ArA1DUwyRCyahVIyWQI7xaEYm4AU7xLIdxqTQgtvGvVBgCkcQ7e\n",
       "geM/tQAAAABJRU5ErkJggg==\n",
       "\" style=\"display:inline;vertical-align:middle;\" /></a></td></tr>\n",
       "<tr><td>5</td><td>ExprTuple</td><td>7, 8</td><td><a class=\"ProveItLink\" href=\"../8e1e3341231126a71cf67a2e1ec08f1ea6911d800/expr.ipynb\"><img src=\"data:image/png;base64,iVBORw0KGgoAAAANSUhEUgAAAC8AAAAVBAMAAAAk6KpUAAAAMFBMVEX////c3NwiIiJERESqqqqY\n",
       "mJh2dnZmZmYQEBDu7u4yMjJUVFTMzMyIiIi6uroAAAAs73DqAAAAAXRSTlMAQObYZgAAASJJREFU\n",
       "KM9jYMAJ+C5gisWBiNNIAlGf7Vd1ARWyHwByViIrNZBmOOwlwMCwgIGBF8UkA3EG5okGDAxhDAwc\n",
       "E9Ak2A4AJWYwMLxiwCbB7MBQxsDAmZ7AID8BJsENMoqtgGEpkOT7wHAfruNRFNBylgUMfQwMR9gV\n",
       "GIyhEhJKWg4gzzUw/GNgmMBxgeEvTMdzZpChPB9AEgz+E3j+wCTY32yASLQAqSoG3ga4HSuvQowy\n",
       "BVLLGZg3MHBCJU5zA8ODdQFDOpBbzfA+gGG+AtQfDoZg5z4CciffrRdgmPERHIg2DIvXOzBwPWDg\n",
       "EAAZkQTED5FCABgkrAkM3AqcICcEIEnkgoOdKYE5AVWCExjsDNIMLHfrgDQvkgZukPmMWKL2DgMD\n",
       "AE9HRZgr2S6iAAAAAElFTkSuQmCC\n",
       "\" style=\"display:inline;vertical-align:middle;\" /></a></td></tr>\n",
       "<tr><td>6</td><td>Variable</td><td></td><td><a class=\"ProveItLink\" href=\"../../../packages/proveit/__pv_it/530be409e3083890784cf1d7b28c9e67e90af9360/expr.ipynb\"><img src=\"data:image/png;base64,iVBORw0KGgoAAAANSUhEUgAAAAsAAAAJBAMAAAAWSsseAAAAKlBMVEX///9ERETMzMwQEBAiIiKY\n",
       "mJju7u5mZmaqqqpUVFSIiIh2dnbc3NwAAAA/vyDhAAAAAXRSTlMAQObYZgAAAENJREFUCNdjYDi9\n",
       "8sTyBQxsG1hdmR0YuBm4LnAoMLAxcAowgADzAjB1VoEhgYH1wFoGrgSG3gBhhlMMDImrs3cFMAAA\n",
       "t0YN+iTRa+sAAAAASUVORK5CYII=\n",
       "\" style=\"display:inline;vertical-align:middle;\" /></a></td></tr>\n",
       "<tr><td>7</td><td>Variable</td><td></td><td><a class=\"ProveItLink\" href=\"../../../packages/proveit/__pv_it/f8b9edf8e16034727f0aad55bb83e392c3db40d40/expr.ipynb\"><img src=\"data:image/png;base64,iVBORw0KGgoAAAANSUhEUgAAAAsAAAANBAMAAACN24kIAAAAMFBMVEX///+YmJhUVFQyMjIQEBBE\n",
       "REQiIiKqqqrMzMyIiIi6urrc3NxmZmZ2dnbu7u4AAADXeCicAAAAAXRSTlMAQObYZgAAAFhJREFU\n",
       "CNdj4LtzgWH/AwZerg8M8xkY2nkSGEIZGB6wTGD4ycDAUP+A4weQOszA6QCkbBhYFYDUIYb1AkDq\n",
       "6czzGxhA4BoQMyXwuQMptgusF4AU+8xTQBIAUqMVoSp/SLMAAAAASUVORK5CYII=\n",
       "\" style=\"display:inline;vertical-align:middle;\" /></a></td></tr>\n",
       "<tr><td>8</td><td>Literal</td><td></td><td><a class=\"ProveItLink\" href=\"../../../packages/proveit/number/sets/real/__pv_it/9e7645ee1117062e179dd6264898f99ed95b157c0/expr.ipynb\"><img src=\"data:image/png;base64,iVBORw0KGgoAAAANSUhEUgAAAA8AAAAOBAMAAAACpFvcAAAAMFBMVEX///8iIiK6urp2dnbu7u5m\n",
       "ZmaqqqrMzMxUVFTc3NyIiIgQEBBEREQyMjKYmJgAAAA9nvXMAAAAAXRSTlMAQObYZgAAAFJJREFU\n",
       "CNdjePvn/N29CxiA4MAMhprcCSDGVAYezwMQBnMBOoMDJqX4Fqx4tqBsAlj7VFUeBwiDVb0BwmC4\n",
       "sg7KqOAogJqTcJKBAWjpcYY79xMAyqEnfsw4ApEAAAAASUVORK5CYII=\n",
       "\" style=\"display:inline;vertical-align:middle;\" /></a></td></tr>\n",
       "</table>\n"
      ],
      "text/plain": [
       "0. (x in Reals , y in Reals)\n",
       "   core type: ExprTuple\n",
       "   sub-expressions: 1, 2\n",
       "1. x in Reals\n",
       "   core type: Operation\n",
       "   operator: 4\n",
       "   operands: 3\n",
       "2. y in Reals\n",
       "   core type: Operation\n",
       "   operator: 4\n",
       "   operands: 5\n",
       "3. (x , Reals)\n",
       "   core type: ExprTuple\n",
       "   sub-expressions: 6, 8\n",
       "4. in\n",
       "   core type: Literal\n",
       "   sub-expressions: \n",
       "5. (y , Reals)\n",
       "   core type: ExprTuple\n",
       "   sub-expressions: 7, 8\n",
       "6. x\n",
       "   core type: Variable\n",
       "   sub-expressions: \n",
       "7. y\n",
       "   core type: Variable\n",
       "   sub-expressions: \n",
       "8. Reals\n",
       "   core type: Literal\n",
       "   sub-expressions: "
      ]
     },
     "execution_count": 4,
     "metadata": {},
     "output_type": "execute_result"
    }
   ],
   "source": [
    "# display the expression information\n",
    "expr.exprInfo()"
   ]
  },
  {
   "cell_type": "code",
   "execution_count": null,
   "metadata": {},
   "outputs": [],
   "source": []
  }
 ],
 "metadata": {
  "kernelspec": {
   "display_name": "Python 3",
   "language": "python",
   "name": "python3"
  }
 },
 "nbformat": 4,
 "nbformat_minor": 0
}
