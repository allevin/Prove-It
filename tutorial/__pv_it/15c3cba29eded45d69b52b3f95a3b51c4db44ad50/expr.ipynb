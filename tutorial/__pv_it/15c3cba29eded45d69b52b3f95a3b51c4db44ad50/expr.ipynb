{
 "cells": [
  {
   "cell_type": "markdown",
   "metadata": {},
   "source": [
    "Expression of type <a class=\"ProveItLink\" href=\"../../../doc/html/api/proveit.logic.Set.html\">Set</a>\n",
    "=======================\n",
    "# from context <a class=\"ProveItLink\" href=\"../../_context_.ipynb\">tutorial</a>"
   ]
  },
  {
   "cell_type": "code",
   "execution_count": 1,
   "metadata": {},
   "outputs": [],
   "source": [
    "# import Expression classes needed to build the expression\n",
    "from proveit._common_ import A, B, C\n",
    "from proveit.logic import Implies, Set"
   ]
  },
  {
   "cell_type": "code",
   "execution_count": 2,
   "metadata": {},
   "outputs": [
    {
     "data": {
      "text/html": [
       "<strong id=\"expr\">expr:</strong> <a class=\"ProveItLink\" href=\"expr.ipynb\"><img src=\"data:image/png;base64,iVBORw0KGgoAAAANSUhEUgAAAJMAAAAVBAMAAACwIsHjAAAAMFBMVEX///9ERETc3NyqqqpUVFS6\n",
       "urrMzMwyMjIQEBCIiIh2dnYiIiLu7u5mZmaYmJgAAABJJ2g3AAAAAXRSTlMAQObYZgAAAjpJREFU\n",
       "OMtjYGDgu8dAKWBbpQCieHbhUxRJ0Bi+AJBZzSAm5weoyRuwWecAVOv/xcWxFJspJ0XuPtBluAZi\n",
       "XgcRXA0QcfYPWBSzHwASHAIMDPcDMCW5+hgYYvsY2EHsFchGvf6DUHQAxpgJIvInALEDTIgHzqgG\n",
       "KuP6xMC3AM0oJttPCKNqYIweEDEfGKbvF6A4FMwASbI2MPA0oBnFyfkVYVQIlGYtAJESQLwD7lBW\n",
       "mPvuG4BccIGBQRjNqBjmf0ihMAFC84Ld8oWBQV0GIbkSQjF9B/sygYFhLcwoXrDNPAFsP8G83WDw\n",
       "F+qHB6BY/DJz7j4w9zZYbv8FiDVwq82B+D2IkQGOG1YGpr9IkcMMiXwOkBwnMBBPOyBJmoN1cMPD\n",
       "NgJkKdD8lDYwN8XF5SNyRB9vBZH8IE2MwBDgRPI9A08FSJj/Ayw+80EMcaAHIhJALKBkO3LSrDoA\n",
       "N4oflEx/IUmmrwG7GGyUGdQoblCosoDCihkUSUhhtRESYRygSMoH2sfyGRFWuyFRwAJOhxegHgSH\n",
       "FRcowygDcT1SUEGDhvEBNFnpFyAkTaAOB0UTF8jK58iJgQekUh6edBjUYYniAiRZsbUj5Jhgpr43\n",
       "YGC9BGKsRTKKSeK7AsPD/7Vw5UKw5Ah08cX/Li7lDxCOYlSAhae772UwoxQ9DyKDBBijCUthgS6A\n",
       "kXGwg1dElHvgrAE2ig+fUewHCBt1HF5e8ezEo4zJgbBRTiBft0JK1MV41GkSNIkzAVq2AwBBeJap\n",
       "i8vSQQAAAABJRU5ErkJggg==\n",
       "\" style=\"display:inline;vertical-align:middle;\" /></a><br>"
      ],
      "text/plain": [
       "expr: {A => (B => C)}"
      ]
     },
     "execution_count": 2,
     "metadata": {},
     "output_type": "execute_result"
    }
   ],
   "source": [
    "# build up the expression from sub-expressions\n",
    "expr = Set(Implies(A, Implies(B, C)))"
   ]
  },
  {
   "cell_type": "code",
   "execution_count": 3,
   "metadata": {},
   "outputs": [
    {
     "name": "stdout",
     "output_type": "stream",
     "text": [
      "Passed sanity check: built 'expr' is the same as the stored Expression.\n"
     ]
    }
   ],
   "source": [
    "# check that the built expression is the same as the stored expression\n",
    "%check_expr"
   ]
  },
  {
   "cell_type": "code",
   "execution_count": 4,
   "metadata": {},
   "outputs": [
    {
     "data": {
      "text/html": [
       "<table><tr><th>&nbsp;</th><th>core type</th><th>sub-expressions</th><th>expression</th></tr>\n",
       "<tr><td>0</td><td>Operation</td><td>operator:&nbsp;1<br>operands:&nbsp;2<br></td><td><a class=\"ProveItLink\" href=\"expr.ipynb\"><img src=\"data:image/png;base64,iVBORw0KGgoAAAANSUhEUgAAAJMAAAAVBAMAAACwIsHjAAAAMFBMVEX///9ERETc3NyqqqpUVFS6\n",
       "urrMzMwyMjIQEBCIiIh2dnYiIiLu7u5mZmaYmJgAAABJJ2g3AAAAAXRSTlMAQObYZgAAAjpJREFU\n",
       "OMtjYGDgu8dAKWBbpQCieHbhUxRJ0Bi+AJBZzSAm5weoyRuwWecAVOv/xcWxFJspJ0XuPtBluAZi\n",
       "XgcRXA0QcfYPWBSzHwASHAIMDPcDMCW5+hgYYvsY2EHsFchGvf6DUHQAxpgJIvInALEDTIgHzqgG\n",
       "KuP6xMC3AM0oJttPCKNqYIweEDEfGKbvF6A4FMwASbI2MPA0oBnFyfkVYVQIlGYtAJESQLwD7lBW\n",
       "mPvuG4BccIGBQRjNqBjmf0ihMAFC84Ld8oWBQV0GIbkSQjF9B/sygYFhLcwoXrDNPAFsP8G83WDw\n",
       "F+qHB6BY/DJz7j4w9zZYbv8FiDVwq82B+D2IkQGOG1YGpr9IkcMMiXwOkBwnMBBPOyBJmoN1cMPD\n",
       "NgJkKdD8lDYwN8XF5SNyRB9vBZH8IE2MwBDgRPI9A08FSJj/Ayw+80EMcaAHIhJALKBkO3LSrDoA\n",
       "N4oflEx/IUmmrwG7GGyUGdQoblCosoDCihkUSUhhtRESYRygSMoH2sfyGRFWuyFRwAJOhxegHgSH\n",
       "FRcowygDcT1SUEGDhvEBNFnpFyAkTaAOB0UTF8jK58iJgQekUh6edBjUYYniAiRZsbUj5Jhgpr43\n",
       "YGC9BGKsRTKKSeK7AsPD/7Vw5UKw5Ah08cX/Li7lDxCOYlSAhae772UwoxQ9DyKDBBijCUthgS6A\n",
       "kXGwg1dElHvgrAE2ig+fUewHCBt1HF5e8ezEo4zJgbBRTiBft0JK1MV41GkSNIkzAVq2AwBBeJap\n",
       "i8vSQQAAAABJRU5ErkJggg==\n",
       "\" style=\"display:inline;vertical-align:middle;\" /></a></td></tr>\n",
       "<tr><td>1</td><td>Literal</td><td></td><td><a class=\"ProveItLink\" href=\"../../../packages/proveit/logic/set_theory/enumeration/__pv_it/07381ed5b23806e8d7914b78cb6667769e3708dd0/expr.ipynb\"><img src=\"data:image/png;base64,iVBORw0KGgoAAAANSUhEUgAAAB4AAAAOBAMAAADKyLEKAAAAMFBMVEX///8iIiIQEBCIiIjMzMzc\n",
       "3Nyqqqp2dnZEREQyMjK6urru7u5mZmZUVFSYmJgAAACI6eGPAAAAAXRSTlMAQObYZgAAALRJREFU\n",
       "CNdjYGDgu3Nm3wIGBJjHwN0PZW5yYGDgLWBgyITy8zcwMMQDxZyh/INAvD6BgcEFypcB4vjPDiBm\n",
       "TPFRrhs/LjMwMP//38rAwCbKEMPA9gEkE3fp0waG+AUMRxh4JkC01T9guPTOOICBEWgVH5C//wHD\n",
       "H5D4fqCz9oCMDGD4DLaegRXslLMMDMpAgxlOMmQxHDRgYG5gYLBk4D7KcIe7gOHC2rt9QCXsh40Z\n",
       "GCKMGQDRkC8N/Ph1XAAAAABJRU5ErkJggg==\n",
       "\" style=\"display:inline;vertical-align:middle;\" /></a></td></tr>\n",
       "<tr><td>2</td><td>ExprTuple</td><td>3</td><td><a class=\"ProveItLink\" href=\"../d516ae4e009fec53d6761fc365483b54b66d1b350/expr.ipynb\"><img src=\"data:image/png;base64,iVBORw0KGgoAAAANSUhEUgAAAI0AAAAVBAMAAACJRXC4AAAAMFBMVEX////c3NwiIiJERESqqqqY\n",
       "mJh2dnZmZmYQEBDu7u4yMjJUVFTMzMyIiIi6uroAAAAs73DqAAAAAXRSTlMAQObYZgAAAg5JREFU\n",
       "OMutVE0oRUEUPhfX9biuW5RioZ6VLB4LhY23ZuGtbBR2WMhL+dl5xcYGS0m6EpHCTrnpvazEgrIl\n",
       "LxtiQ/kJ+TlzZu7MxfWUTH1zZuY7c2bOzwzAfzXr6G+caB0CcMDnu0FKjGt/d93GdAAZOt4a1OJG\n",
       "CoABVvnqRpAd4sZQ8S2A7ImBNRIDB4eIQn51PTKtDvIGxJmviBdJSrXZKuz6bWhDgcjjRMmoLVXz\n",
       "PV3iCm/xlIfPV2RthZGXADNAuOKrR2cqBNamGBCXnQDImpDktZDGHetLkY8ShvjW6daY8rxPSOKK\n",
       "NkFbVE7nihRWsLjAHC7ECUu0Og+HxA+EWYvEuS5xhzunA3SGQVz4kXOj3rk5DmGSJmmoiPtS0cyd\n",
       "JO7MhlC1j8tZJxHx4mklCJRR03WTNf7SWCFDxNUzWz6nYZbMv3vZM28IpGthbhyf6n4vSDss5Z1d\n",
       "ijOXKVhTdLeUtDPO5hjyrISKT7iBb2GceY9dMqriU8ljnmTCUH7V4VBDtfwbdWSLkHWifLRnX3hE\n",
       "UVBe2LV1h9DNPGZl8iRVNc/FblE+e6vKTpmQOtbPBYu1yPs5QPHUAuhNzzJh2V4qkDOaXtztJV/o\n",
       "auUbXhuOUvWnCXn2twdoeoMADlJfF8S70Lt+/lsycZ+Kv8//8H76NzK3kMMB5RmUyn+3U2BzgJbh\n",
       "79R+/1dPOD4AAHqL/sPnBBkAAAAASUVORK5CYII=\n",
       "\" style=\"display:inline;vertical-align:middle;\" /></a></td></tr>\n",
       "<tr><td>3</td><td>Operation</td><td>operator:&nbsp;7<br>operands:&nbsp;4<br></td><td><a class=\"ProveItLink\" href=\"../e08077b970a63d67dd002d7a6ec4c2165373bbf60/expr.ipynb\"><img src=\"data:image/png;base64,iVBORw0KGgoAAAANSUhEUgAAAH8AAAAVBAMAAACd/CwcAAAAMFBMVEX///92dnYQEBBERERUVFS6\n",
       "urqIiIhmZmaqqqrc3Nzu7u6YmJgyMjIiIiLMzMwAAACFkkdwAAAAAXRSTlMAQObYZgAAAd9JREFU\n",
       "OMtjYKAdYE0gqGQrjPEWm+wTIN7y38XFJgCLJFeyezVnAfsDKPc8NgNOgQhlBgb2r1gkhTYwsBZt\n",
       "YDgA4XHfX4AwGsZgA/mA7xsQf4FLwpWtuQUk5CcwbIRwZ9RPgKvhgSliAjHYfgKN/4jqKBA4BJIM\n",
       "YmBYBOEm5CO8yeoAZcSACGYFBgZeLbhkCJRm/wEipwPlG8B6FvRvQPhODEoXggh+BwbOwwj/MUIj\n",
       "Zj7Y7+uAAgUgxlKG92CJ2rsgcL8Aoug0iHjvllYLNpwdLHf3O0SuHmYhB9ikAIb5BUgB3APxjyqI\n",
       "yJ/AwHUFSY7jKJi6DwszVgVQSLu4+BsgR/EhsAngyDMCGYLkP4Y1YHP/w+KE7wPIFGCIH0BS80aK\n",
       "AW4AKAb3CyDk+A6CA0Qf7JoHUAOAAcmrgAiDu1YQtRog9b+BhH8DIgwuQwLUH0SxQ73ACZTn+YCw\n",
       "pAVKW0OTAecfpCCAxjE40EEO5QY6fQ0oun/B1XDCfCMOTQaPTiEMmAOluYHpIBwUkMBonKx/koHb\n",
       "/g88GphhARwLdKT9Fxef00jBYwnPaEfKwUmIBzOj8cEYTBMws9ADdIFFePI6twARZYYYPslThPVz\n",
       "HcAnO4WwASwT8MlyEi7S8hgYAJt5gWD7FNeSAAAAAElFTkSuQmCC\n",
       "\" style=\"display:inline;vertical-align:middle;\" /></a></td></tr>\n",
       "<tr><td>4</td><td>ExprTuple</td><td>5, 6</td><td><a class=\"ProveItLink\" href=\"../3fb4b765f1333b165368a041cdba4ed4d59e43d40/expr.ipynb\"><img src=\"data:image/png;base64,iVBORw0KGgoAAAANSUhEUgAAAGYAAAAVBAMAAABGR4Y+AAAAMFBMVEX////c3NwiIiJERESqqqqY\n",
       "mJh2dnZmZmYQEBDu7u4yMjJUVFTMzMyIiIi6uroAAAAs73DqAAAAAXRSTlMAQObYZgAAAbxJREFU\n",
       "OMtjYCAH8F0gSTnrAyBxGsI+BBOM/r97t9UDLKo5L28vZSxgqAEyV0JE1sPlmhkY2P9h0ZMRwMBX\n",
       "EcDAxcDAC3Eaq/4EqBTPXyD+jTAdxpilCSTyBRhYExg4IGpF6gWgcrwfgSZ8g+vhgpm1AsR4ATSk\n",
       "geEVROTCfZgXmBsYGJg6EUG0AUKzfwGR4kBswlAGkZngHwBVxL+BgXHxBIQ3ciGU/AIQOQeI0xmW\n",
       "gkXmMZyHBfn5vXeLIPqLlEBAvwDMqYeZyeDF0AemHzDIF0CF7gswcGojh5cX2NX6MP8C/QQOVZ7d\n",
       "u/cbQIUsQPoCkONlBUjTfzAb5ObzED18DAwcC6BKQMEcn4Ck51QmiOwHESwHwHpaQGwHYFA1QKPn\n",
       "K5DY74Dwj5IlWHw/yAp2iNtMgSQjUAnXB4jNoOhh/IVkjTc0aEBhBLYxChhywCgGRctPBs5P0Og5\n",
       "sRKhhRHqZlZg/DwHh0M6wyMGBuH+hQys9r8KOPsFGNjtf+/etRTJGmZYeJ1eXQ52McM6Bg4BpGwh\n",
       "gJkyeTCSdwMoySHyBjEZiO0CPC8QrQfkeWkEl6gcuxEUMKTlbd4DDAA9sGuQDx6vNQAAAABJRU5E\n",
       "rkJggg==\n",
       "\" style=\"display:inline;vertical-align:middle;\" /></a></td></tr>\n",
       "<tr><td>5</td><td>Variable</td><td></td><td><a class=\"ProveItLink\" href=\"../../../packages/proveit/__pv_it/2cbe72a7ad6f655694dd697106680215e8489b600/expr.ipynb\"><img src=\"data:image/png;base64,iVBORw0KGgoAAAANSUhEUgAAAA8AAAAOBAMAAAACpFvcAAAALVBMVEX///8QEBBERERUVFS6urqI\n",
       "iIhmZmaqqqrc3Nzu7u6YmJgyMjIiIiLMzMwAAADtIaYWAAAAAXRSTlMAQObYZgAAAFtJREFUCNdj\n",
       "YACBOwxQsA9Kc52bAGG05zVAGAFxDmCaZULdAjBjCsO9ADDDgaEvAUTzGhvbKYCVMDAwbgAxChgY\n",
       "eASANAeQwf0AyJgNxEwvGRia5HYwcOm9TgAA6BoR3jrzwFcAAAAASUVORK5CYII=\n",
       "\" style=\"display:inline;vertical-align:middle;\" /></a></td></tr>\n",
       "<tr><td>6</td><td>Operation</td><td>operator:&nbsp;7<br>operands:&nbsp;8<br></td><td><a class=\"ProveItLink\" href=\"../42830de3d5d651692ced1272b0fa0a601667b4020/expr.ipynb\"><img src=\"data:image/png;base64,iVBORw0KGgoAAAANSUhEUgAAAEEAAAAPBAMAAABJi79qAAAAMFBMVEX///+qqqru7u4iIiJ2dnbc\n",
       "3NyIiIjMzMxmZmYQEBC6uroyMjJERERUVFSYmJgAAADLUcuvAAAAAXRSTlMAQObYZgAAAPhJREFU\n",
       "GNNjYGB4+//u3dMLGDABU86NPtYGEGsOAwPHLywqPB8wcHU+ADLYvwHxX4ROGEPbCEj4BwAJtq8M\n",
       "DHxf4Cq4FaCMnSDGShCLZwIDA/MkuAquCxCa4yOIjAAR/BcYWPcoIKx3g1DxG0CkOoiov5bW/AAs\n",
       "2GwMAvZg5zP0P4DryQ9gYLJF9oM02Ov2AXCBkyBVD5DDYSdIyX8wG2w7yKPvHZBUVDuByPkggrEA\n",
       "FBz/gMR9AYQ7jA+B1d0HaedggAYH628kI2QhVH0CkHCCBUflJoQC1g0Qmg8YHitAruU4//fu7X1I\n",
       "RvDA/FC7t0OAARtgR+MDAAhbPiSyASIoAAAAAElFTkSuQmCC\n",
       "\" style=\"display:inline;vertical-align:middle;\" /></a></td></tr>\n",
       "<tr><td>7</td><td>Literal</td><td></td><td><a class=\"ProveItLink\" href=\"../../../packages/proveit/logic/boolean/implication/__pv_it/e5c030cabcb650938f92dee8256fe11cd12bf9b30/expr.ipynb\"><img src=\"data:image/png;base64,iVBORw0KGgoAAAANSUhEUgAAABMAAAANBAMAAAC5okgUAAAALVBMVEX////c3NxERETMzMwQEBCq\n",
       "qqoiIiJmZmaIiIh2dnZUVFS6uroyMjLu7u4AAACPpZJTAAAAAXRSTlMAQObYZgAAAD1JREFUCNdj\n",
       "YAABXgY44LkAZ3IvQAjPABFlaSCQV4AQjtkAZ/IegbNt5sLUpunC5aPgLMYDcCaTAJzJDCIA2yMN\n",
       "HCCUuIIAAAAASUVORK5CYII=\n",
       "\" style=\"display:inline;vertical-align:middle;\" /></a></td></tr>\n",
       "<tr><td>8</td><td>ExprTuple</td><td>9, 10</td><td><a class=\"ProveItLink\" href=\"../dad23c4ce051fb8a92f116e8b4d54eeb5e4476f70/expr.ipynb\"><img src=\"data:image/png;base64,iVBORw0KGgoAAAANSUhEUgAAADcAAAAVBAMAAAAQkWtIAAAAMFBMVEX////c3NwiIiJERESqqqqY\n",
       "mJh2dnZmZmYQEBDu7u4yMjJUVFTMzMyIiIi6uroAAAAs73DqAAAAAXRSTlMAQObYZgAAAUFJREFU\n",
       "KM9jYMAL+C5gF48DEaeBmHX/792b18GEOS9vL2UsYD8AZK4E8TkMGBjqH0AlMwIY+CoCGBYwMPCC\n",
       "TT0PJM9vgMjN0gQS+QIMYUA9E0AC9wUYGOITIJIrQCIvGBhmMDC8AgtYALEGWBkD+xcQKc7AwOzA\n",
       "UAYW+c3AIGUJ0Si/AETOYWBgK2BYCmLy/L57XRXqnPoAKINlAUMfiOb9yMAwCeoefQFYADQw/APR\n",
       "zA1ABV8hYv/BJNB+ng8QSX6gLtZvEMl+sJEHwJItYG8C7eH+ApHcD3I0O8RYU5g3ga7khIUHQyYo\n",
       "TBcwpEO9ydM1gWG+AkgMaMJzkKOAXnkEpIr/7969CmjyjI/gmFhd7gCiuR4wcAggRdND5DgDBh9r\n",
       "AhI/AFkyFxZlWCQ5QcEojeDzImvkBtnHiCOZ3GFgAADrEU9ADAe1sgAAAABJRU5ErkJggg==\n",
       "\" style=\"display:inline;vertical-align:middle;\" /></a></td></tr>\n",
       "<tr><td>9</td><td>Variable</td><td></td><td><a class=\"ProveItLink\" href=\"../../../packages/proveit/__pv_it/077b2ff79244fb4582cbe22c6e3356fa92a52f2f0/expr.ipynb\"><img src=\"data:image/png;base64,iVBORw0KGgoAAAANSUhEUgAAABAAAAAOBAMAAADUAYG5AAAAMFBMVEX///+qqqru7u4iIiJ2dnbc\n",
       "3NyIiIjMzMxmZmYQEBC6uroyMjJERERUVFSYmJgAAADLUcuvAAAAAXRSTlMAQObYZgAAAGpJREFU\n",
       "CNdjYGB4+//u3dMLGIBgDgMDxy8gzf4NiP8CGWxfGRj4vgAZPBMYGJgnARn8FxhY9ygAGfXX0pof\n",
       "gDTlBzAw2YIYJ0EckBBI53sHoBH/gIz7AhBjWH9DjancBLTl/N+7t/cxMAAA3u4f/5xagjYAAAAA\n",
       "SUVORK5CYII=\n",
       "\" style=\"display:inline;vertical-align:middle;\" /></a></td></tr>\n",
       "<tr><td>10</td><td>Variable</td><td></td><td><a class=\"ProveItLink\" href=\"../../../packages/proveit/__pv_it/985a1bdf1540838275dec15f4ad6de261cca93ce0/expr.ipynb\"><img src=\"data:image/png;base64,iVBORw0KGgoAAAANSUhEUgAAAA8AAAAOBAMAAAACpFvcAAAAMFBMVEX////MzMyqqqoiIiIyMjK6\n",
       "uroQEBB2dnbc3NyYmJhmZmZUVFRERESIiIju7u4AAAB204erAAAAAXRSTlMAQObYZgAAAGZJREFU\n",
       "CNdjYGDgu7NrJccCBgaGsgkMrMsmMDA8sQNy6hsYGNweABlhDAxcn4A0QxcDQ78DiPGQgWH9BAYI\n",
       "sG+AMv6DSaCGfBDNJMDAsB+kmwuI5S8AiTog5gSaEwXWIO29SgFIAQBC+RaDQlidVgAAAABJRU5E\n",
       "rkJggg==\n",
       "\" style=\"display:inline;vertical-align:middle;\" /></a></td></tr>\n",
       "</table>\n"
      ],
      "text/plain": [
       "0. {A => (B => C)}\n",
       "   core type: Operation\n",
       "   operator: 1\n",
       "   operands: 2\n",
       "1. Set\n",
       "   core type: Literal\n",
       "   sub-expressions: \n",
       "2. (A => (B => C))\n",
       "   core type: ExprTuple\n",
       "   sub-expressions: 3\n",
       "3. A => (B => C)\n",
       "   core type: Operation\n",
       "   operator: 7\n",
       "   operands: 4\n",
       "4. (A , B => C)\n",
       "   core type: ExprTuple\n",
       "   sub-expressions: 5, 6\n",
       "5. A\n",
       "   core type: Variable\n",
       "   sub-expressions: \n",
       "6. B => C\n",
       "   core type: Operation\n",
       "   operator: 7\n",
       "   operands: 8\n",
       "7. =>\n",
       "   core type: Literal\n",
       "   sub-expressions: \n",
       "8. (B , C)\n",
       "   core type: ExprTuple\n",
       "   sub-expressions: 9, 10\n",
       "9. B\n",
       "   core type: Variable\n",
       "   sub-expressions: \n",
       "10. C\n",
       "    core type: Variable\n",
       "    sub-expressions: "
      ]
     },
     "execution_count": 4,
     "metadata": {},
     "output_type": "execute_result"
    }
   ],
   "source": [
    "# display the expression information\n",
    "expr.exprInfo()"
   ]
  },
  {
   "cell_type": "code",
   "execution_count": null,
   "metadata": {},
   "outputs": [],
   "source": []
  }
 ],
 "metadata": {
  "kernelspec": {
   "display_name": "Python 3",
   "language": "python",
   "name": "python3"
  }
 },
 "nbformat": 4,
 "nbformat_minor": 0
}
