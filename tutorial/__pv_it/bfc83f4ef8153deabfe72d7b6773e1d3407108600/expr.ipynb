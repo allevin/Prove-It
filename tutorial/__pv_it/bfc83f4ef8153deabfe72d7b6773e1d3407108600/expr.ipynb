{
 "cells": [
  {
   "cell_type": "markdown",
   "metadata": {},
   "source": [
    "Expression of type <a class=\"ProveItLink\" href=\"../../../doc/html/api/proveit.logic.Set.html\">Set</a>\n",
    "=======================\n",
    "# from context <a class=\"ProveItLink\" href=\"../../_context_.ipynb\">tutorial</a>"
   ]
  },
  {
   "cell_type": "code",
   "execution_count": 1,
   "metadata": {},
   "outputs": [],
   "source": [
    "# import Expression classes needed to build the expression\n",
    "from proveit._common_ import Y, Z\n",
    "from proveit.logic import Implies, Set"
   ]
  },
  {
   "cell_type": "code",
   "execution_count": 2,
   "metadata": {},
   "outputs": [
    {
     "data": {
      "text/html": [
       "<strong id=\"expr\">expr:</strong> <a class=\"ProveItLink\" href=\"expr.ipynb\"><img src=\"data:image/png;base64,iVBORw0KGgoAAAANSUhEUgAAAFMAAAAVBAMAAADInc9CAAAAMFBMVEX///9ERETc3NyqqqpUVFS6\n",
       "urrMzMwyMjIQEBCIiIh2dnYiIiLu7u5mZmaYmJgAAABJJ2g3AAAAAXRSTlMAQObYZgAAAUNJREFU\n",
       "KM9jYGDgu8dACLCtUgBRPLsYCAO2ZhDJ+YGByfu/EwODxe8JmGo4foi4yG9gYLgO4nA1ADV9BzIY\n",
       "DbAYF2/AwLPjAAPDCphShv1AtyxFUnEAxrjKwMDexICsdP4CBj5kQ2tgjAsMDPIJKErPNzBEItsb\n",
       "AmMEMLB8ZkBRyviVbQGyUi6ED9c/gCvlLQASzF/OQmV4d4PBX5hKzp9g6j2IyAgAkf0OqD5nLoUy\n",
       "7C+AKXYgldIGZsofQAul461givULAwPIWwziQHdEgFnt6NFTBdGbXwAOBQZukFdYQG5l+sWA6taN\n",
       "EJVM3QcYWB/A3MoFjDYGvq9oToU6/XQP0JkHUAKL5QOqUnUoXaHAwCSIEq68/l9Qk4oQhGL5LSi4\n",
       "/x9qFKCDBHQB3EoZsCrlI0opOL3y7CQmF0AihG8xcXkLAHtgWG0mtRZ0AAAAAElFTkSuQmCC\n",
       "\" style=\"display:inline;vertical-align:middle;\" /></a><br>"
      ],
      "text/plain": [
       "expr: {Y => Z}"
      ]
     },
     "execution_count": 2,
     "metadata": {},
     "output_type": "execute_result"
    }
   ],
   "source": [
    "# build up the expression from sub-expressions\n",
    "expr = Set(Implies(Y, Z))"
   ]
  },
  {
   "cell_type": "code",
   "execution_count": 3,
   "metadata": {},
   "outputs": [
    {
     "name": "stdout",
     "output_type": "stream",
     "text": [
      "Passed sanity check: built 'expr' is the same as the stored Expression.\n"
     ]
    }
   ],
   "source": [
    "# check that the built expression is the same as the stored expression\n",
    "%check_expr"
   ]
  },
  {
   "cell_type": "code",
   "execution_count": 4,
   "metadata": {},
   "outputs": [
    {
     "data": {
      "text/html": [
       "<table><tr><th>&nbsp;</th><th>core type</th><th>sub-expressions</th><th>expression</th></tr>\n",
       "<tr><td>0</td><td>Operation</td><td>operator:&nbsp;1<br>operands:&nbsp;2<br></td><td><a class=\"ProveItLink\" href=\"expr.ipynb\"><img src=\"data:image/png;base64,iVBORw0KGgoAAAANSUhEUgAAAFMAAAAVBAMAAADInc9CAAAAMFBMVEX///9ERETc3NyqqqpUVFS6\n",
       "urrMzMwyMjIQEBCIiIh2dnYiIiLu7u5mZmaYmJgAAABJJ2g3AAAAAXRSTlMAQObYZgAAAUNJREFU\n",
       "KM9jYGDgu8dACLCtUgBRPLsYCAO2ZhDJ+YGByfu/EwODxe8JmGo4foi4yG9gYLgO4nA1ADV9BzIY\n",
       "DbAYF2/AwLPjAAPDCphShv1AtyxFUnEAxrjKwMDexICsdP4CBj5kQ2tgjAsMDPIJKErPNzBEItsb\n",
       "AmMEMLB8ZkBRyviVbQGyUi6ED9c/gCvlLQASzF/OQmV4d4PBX5hKzp9g6j2IyAgAkf0OqD5nLoUy\n",
       "7C+AKXYgldIGZsofQAul461givULAwPIWwziQHdEgFnt6NFTBdGbXwAOBQZukFdYQG5l+sWA6taN\n",
       "EJVM3QcYWB/A3MoFjDYGvq9oToU6/XQP0JkHUAKL5QOqUnUoXaHAwCSIEq68/l9Qk4oQhGL5LSi4\n",
       "/x9qFKCDBHQB3EoZsCrlI0opOL3y7CQmF0AihG8xcXkLAHtgWG0mtRZ0AAAAAElFTkSuQmCC\n",
       "\" style=\"display:inline;vertical-align:middle;\" /></a></td></tr>\n",
       "<tr><td>1</td><td>Literal</td><td></td><td><a class=\"ProveItLink\" href=\"../../../packages/proveit/logic/set_theory/enumeration/__pv_it/07381ed5b23806e8d7914b78cb6667769e3708dd0/expr.ipynb\"><img src=\"data:image/png;base64,iVBORw0KGgoAAAANSUhEUgAAAB4AAAAOBAMAAADKyLEKAAAAMFBMVEX///8iIiIQEBCIiIjMzMzc\n",
       "3Nyqqqp2dnZEREQyMjK6urru7u5mZmZUVFSYmJgAAACI6eGPAAAAAXRSTlMAQObYZgAAALRJREFU\n",
       "CNdjYGDgu3Nm3wIGBJjHwN0PZW5yYGDgLWBgyITy8zcwMMQDxZyh/INAvD6BgcEFypcB4vjPDiBm\n",
       "TPFRrhs/LjMwMP//38rAwCbKEMPA9gEkE3fp0waG+AUMRxh4JkC01T9guPTOOICBEWgVH5C//wHD\n",
       "H5D4fqCz9oCMDGD4DLaegRXslLMMDMpAgxlOMmQxHDRgYG5gYLBk4D7KcIe7gOHC2rt9QCXsh40Z\n",
       "GCKMGQDRkC8N/Ph1XAAAAABJRU5ErkJggg==\n",
       "\" style=\"display:inline;vertical-align:middle;\" /></a></td></tr>\n",
       "<tr><td>2</td><td>ExprTuple</td><td>3</td><td><a class=\"ProveItLink\" href=\"../ca8fb652a81a4cbf6c42907246531991e88c21470/expr.ipynb\"><img src=\"data:image/png;base64,iVBORw0KGgoAAAANSUhEUgAAAE0AAAAVBAMAAADx+n4ZAAAAMFBMVEX////c3NwiIiJERESqqqqY\n",
       "mJh2dnZmZmYQEBDu7u4yMjJUVFTMzMyIiIi6uroAAAAs73DqAAAAAXRSTlMAQObYZgAAAUxJREFU\n",
       "KM9jYCAW8F0gqCQORJxmkNb/LcDA0q+LRUV/8+7NnxjYDwCZKxkYzi8A0ibY7PrCwDCpk4EBKM8L\n",
       "tJbpIwMD2wOENCeMwQ4UXCHAwBDGwMAxAaj2GwNDCJIxXBNg6hgYmP8A6RkMDK9A+n+g+oZvA4zB\n",
       "wLDfAUgzOzCUgfj2D46huCsXzmL7CiYLGJaCaP+dBVDxIiUQ0IdxGe6D7WFZwNAHojl+o3nUC+or\n",
       "lu8Q+xsY/oFo5p9o6jhXQBS+38DAA6R4PkDUcSxAU3cqE0zx/AL7GaSuBcSXT2BAcZ+SJYQnocnA\n",
       "8BRirymIH/8A1ThvqO0aE8DxxcC6gCEdJLAfVRkj1BlcjQwMwgaQcHkEpKr/70VRxywAofcrGxv9\n",
       "DwBpeMDAIYAZ/TzoAsB4Y00gIo3mQtIVIcAJcq80YXXcILcxEk73dxgYAK5PS0O7rWC+AAAAAElF\n",
       "TkSuQmCC\n",
       "\" style=\"display:inline;vertical-align:middle;\" /></a></td></tr>\n",
       "<tr><td>3</td><td>Operation</td><td>operator:&nbsp;4<br>operands:&nbsp;5<br></td><td><a class=\"ProveItLink\" href=\"../4ffb002e291c6c914ba3039ffb884547a56832d30/expr.ipynb\"><img src=\"data:image/png;base64,iVBORw0KGgoAAAANSUhEUgAAAEAAAAAPBAMAAACmSdRUAAAAMFBMVEX///9mZmbu7u6YmJi6urp2\n",
       "dnZEREQyMjLMzMyIiIgQEBCqqqoiIiJUVFTc3NwAAAA2WfgnAAAAAXRSTlMAQObYZgAAAOJJREFU\n",
       "GNNjeHv+7wMG7vUnGTDB+mV3r/1hYOgvALKzsciz/GZg0FnEwMDzj4GB1QEhzgRjMAIFqx4wMHB+\n",
       "ZWCwRtLIrgBTwMDA9gOk4xcDywRkky/AGAwM9zeAGPkOrSh2R8JZrJ/B1P5LAlABmTMgcB7GZZgP\n",
       "MZnrL5rzt0OdzP0RQrN9QlPAVAVR4X+BgQNsQgGagvYgMMXxHewTBob3AQwobjiTBOG9OsTA4Axi\n",
       "2DugGrAXatEpYIAUgVj3UeX5oDayr2NgeJYAZMj+v4migO0BhL5/LC3nvwGWOOJA5QIA7nY8/RcK\n",
       "CYkAAAAASUVORK5CYII=\n",
       "\" style=\"display:inline;vertical-align:middle;\" /></a></td></tr>\n",
       "<tr><td>4</td><td>Literal</td><td></td><td><a class=\"ProveItLink\" href=\"../../../packages/proveit/logic/boolean/implication/__pv_it/e5c030cabcb650938f92dee8256fe11cd12bf9b30/expr.ipynb\"><img src=\"data:image/png;base64,iVBORw0KGgoAAAANSUhEUgAAABMAAAANBAMAAAC5okgUAAAALVBMVEX////c3NxERETMzMwQEBCq\n",
       "qqoiIiJmZmaIiIh2dnZUVFS6uroyMjLu7u4AAACPpZJTAAAAAXRSTlMAQObYZgAAAD1JREFUCNdj\n",
       "YAABXgY44LkAZ3IvQAjPABFlaSCQV4AQjtkAZ/IegbNt5sLUpunC5aPgLMYDcCaTAJzJDCIA2yMN\n",
       "HCCUuIIAAAAASUVORK5CYII=\n",
       "\" style=\"display:inline;vertical-align:middle;\" /></a></td></tr>\n",
       "<tr><td>5</td><td>ExprTuple</td><td>6, 7</td><td><a class=\"ProveItLink\" href=\"../b2512782b11e6b1dc20931f0e80b5ecbd59cd7550/expr.ipynb\"><img src=\"data:image/png;base64,iVBORw0KGgoAAAANSUhEUgAAADIAAAAVBAMAAAD2uKAMAAAAMFBMVEX////c3NwiIiJERESqqqqY\n",
       "mJh2dnZmZmYQEBDu7u4yMjJUVFTMzMyIiIi6uroAAAAs73DqAAAAAXRSTlMAQObYZgAAASVJREFU\n",
       "KM9jYMAN+C5gEWR9ACROM0jr/xZgYOnXBYtx/LDeba/AUANkrmRgOL8ASJtAVL93YODUmMDAxcDA\n",
       "CzSM6SMDA9sDiEwdAwNXI9C4BAaOCUDZbwwMIVAbChgY7A8wMHA2MLwC8jh/INzxgIH7CwPY8DIQ\n",
       "Zf/gGMJd+QEgMp1hKYjy31kAl+D9C6a8GPrATv2N0OIPUfSC4R+IYv6J8DhQEdAFDOchMhwL4DIg\n",
       "vxWAZVpAXPkEmARj0wQGvgCwaaYgfjzIm5wg1qROoE+BXmSIAroOCPaDiPkKQGKFAAOjMcTVj4Bk\n",
       "9f+9QHIGMIy4Pxkb638Fyaxj4BCAW/4QKRqAocMKt5whAEmG7QI4FrDIzAJiaXiwIEfqRpAPsMU2\n",
       "7wEGAAPvRMD7tKJEAAAAAElFTkSuQmCC\n",
       "\" style=\"display:inline;vertical-align:middle;\" /></a></td></tr>\n",
       "<tr><td>6</td><td>Variable</td><td></td><td><a class=\"ProveItLink\" href=\"../../../packages/proveit/__pv_it/d787b05c0222bf7633141c210c6c9992f7bcfcbc0/expr.ipynb\"><img src=\"data:image/png;base64,iVBORw0KGgoAAAANSUhEUgAAABAAAAAOBAMAAADUAYG5AAAAMFBMVEX///9mZmbu7u6YmJi6urp2\n",
       "dnZEREQyMjLMzMyIiIgQEBCqqqoiIiJUVFTc3NwAAAA2WfgnAAAAAXRSTlMAQObYZgAAAFlJREFU\n",
       "CNdjeHv+7wMG7vUnGRj6CxgYGLKBmOcfAwOrA5DB+ZWBwRpIMzD9YmCZAGIw5Du0gmmG/ZcEIAyu\n",
       "vxCage0TlMFVAGW8D4Ay7B2gjPtQWvb/TRAFACz0FH9TvjwoAAAAAElFTkSuQmCC\n",
       "\" style=\"display:inline;vertical-align:middle;\" /></a></td></tr>\n",
       "<tr><td>7</td><td>Variable</td><td></td><td><a class=\"ProveItLink\" href=\"../../../packages/proveit/__pv_it/d36dfc8761400c6960a2e78b88a892781372a1a10/expr.ipynb\"><img src=\"data:image/png;base64,iVBORw0KGgoAAAANSUhEUgAAAA4AAAAOBAMAAADtZjDiAAAAMFBMVEX///+IiIiYmJh2dnbMzMzc\n",
       "3NwyMjJmZmbu7u6qqqq6uroiIiJUVFREREQQEBAAAACI0POCAAAAAXRSTlMAQObYZgAAAGZJREFU\n",
       "CNdjYGB4//bM2d8MDFw/GRi6XzAwsC9gYMgLANIMDLxfGIDiDAznJzCAAPMnMMUgLwCmOL9DuOsP\n",
       "MLAAKZZvYD0McTsYGBYxMHDsa2BgyGBgYHvKwBB7AWjG3ru3/yswAABx/Bk2qVjOoAAAAABJRU5E\n",
       "rkJggg==\n",
       "\" style=\"display:inline;vertical-align:middle;\" /></a></td></tr>\n",
       "</table>\n"
      ],
      "text/plain": [
       "0. {Y => Z}\n",
       "   core type: Operation\n",
       "   operator: 1\n",
       "   operands: 2\n",
       "1. Set\n",
       "   core type: Literal\n",
       "   sub-expressions: \n",
       "2. (Y => Z)\n",
       "   core type: ExprTuple\n",
       "   sub-expressions: 3\n",
       "3. Y => Z\n",
       "   core type: Operation\n",
       "   operator: 4\n",
       "   operands: 5\n",
       "4. =>\n",
       "   core type: Literal\n",
       "   sub-expressions: \n",
       "5. (Y , Z)\n",
       "   core type: ExprTuple\n",
       "   sub-expressions: 6, 7\n",
       "6. Y\n",
       "   core type: Variable\n",
       "   sub-expressions: \n",
       "7. Z\n",
       "   core type: Variable\n",
       "   sub-expressions: "
      ]
     },
     "execution_count": 4,
     "metadata": {},
     "output_type": "execute_result"
    }
   ],
   "source": [
    "# display the expression information\n",
    "expr.exprInfo()"
   ]
  },
  {
   "cell_type": "code",
   "execution_count": null,
   "metadata": {},
   "outputs": [],
   "source": []
  }
 ],
 "metadata": {
  "kernelspec": {
   "display_name": "Python 3",
   "language": "python",
   "name": "python3"
  }
 },
 "nbformat": 4,
 "nbformat_minor": 0
}
