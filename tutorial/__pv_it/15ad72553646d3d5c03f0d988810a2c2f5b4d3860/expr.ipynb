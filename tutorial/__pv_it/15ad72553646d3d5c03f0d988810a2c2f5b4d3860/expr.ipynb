{
 "cells": [
  {
   "cell_type": "markdown",
   "metadata": {},
   "source": [
    "Expression of type <a class=\"ProveItLink\" href=\"../../../doc/html/api/proveit.ExprTuple.html\">ExprTuple</a>\n",
    "=======================\n",
    "# from context <a class=\"ProveItLink\" href=\"../../_context_.ipynb\">tutorial</a>"
   ]
  },
  {
   "cell_type": "code",
   "execution_count": 1,
   "metadata": {},
   "outputs": [],
   "source": [
    "# import Expression classes needed to build the expression\n",
    "from proveit import ExprTuple\n",
    "from proveit._common_ import Px, Qx, fx, gx"
   ]
  },
  {
   "cell_type": "code",
   "execution_count": 2,
   "metadata": {},
   "outputs": [
    {
     "data": {
      "text/html": [
       "<strong id=\"expr\">expr:</strong> <a class=\"ProveItLink\" href=\"expr.ipynb\"><img src=\"data:image/png;base64,iVBORw0KGgoAAAANSUhEUgAAAOcAAAAVBAMAAABPgOQBAAAAMFBMVEX////c3NwiIiJERESqqqqY\n",
       "mJh2dnZmZmYQEBDu7u4yMjJUVFTMzMyIiIi6uroAAAAs73DqAAAAAXRSTlMAQObYZgAAA0tJREFU\n",
       "SMfFVk1oE1EQnphNuptmkxykl1LMQe8KlvagGPAmSquCgoqNUlpEAkWxJ6W16EFEDQhFemlBBAsi\n",
       "aT0ISknwVPDQXKz4E1o9aUVMbarE1taZefve7kuy0JsL2Z193/e+mcybN28B/ssVK9bbocV63nfn\n",
       "ebahytZQ0mXGa7pZM1PKputq3bxozjGaCmrMzq+9nJ7yQwFaBi8WNZR0mTFJL8HeVZA2XZE6p5Gs\n",
       "tCbcwTjanQk/NPwEYDqroRHBsDmW8a8pkDbnIV3rtKSsE+7gHNK60j6o9RBvZk5DSRcZJkfRxUOm\n",
       "isgarnV6S1kP3MEFXKOeAR80kqR0VzWUdJGxxC+X+L7kyu2tLTc3bcGUMg/gL5/yQYdo8cIbGkq6\n",
       "yBgk8/TIc3qQ3fJh+1vMcr+inZw/ThFjXgKZqSPXUGdAYX8w9hUfNLDC61oRqEcXGY+Y8ZfvaFvp\n",
       "0C4T83JI6jblAr8pV90Ao3CsewTAUIFHfwG8GvBBm7g0g+sC9egi4y5Htc48tMNglw3Myxcp3JOF\n",
       "Ci03rl4aFuAwZkutt73W138OfNBtVa7vYYF6dJGxQZBRZh7aFjTv5rqUwrchukyTcWIWnvH/K6v1\n",
       "q8qt0wCNs3eqbUI9ushgp+GkdIpxFb1OjQrYSUcW4I7uNJ70OK1FBfg4K1Gli4wbHLJoGWzvKGDQ\n",
       "Kr32MgRp1cyUWAXLm945WTSN0Ah5N9Yl6uoio92NguxQYgFsBE/RpqLdXIY4zQliMRy1y/AOh6hU\n",
       "snKbijw3QI2NQKkwu+igHl1k8N4YF7PR7uruhDZhwjgmyKpCnvoc1rmxGhwOFMWmsH7yNpXNpCF6\n",
       "fhR69zioVxdfP9PwDzEb7fvzoxkMDJ5Sc6EK+lbixhFLgrX/Qt8byhvVxb0EWJc3Z2TrqEdx8EVm\n",
       "J0QF6tVFhkn4e2dpEnob/MR2B9+v640ultAalg+6D87oqNMGsQWHcu21bT7Mi4yhxcCq1DTyDFP1\n",
       "LumDdogO6KKkm+HjzJyUpa+OtjFwnA4lmnP60WZNNHDqg+Y3F/VjccxhtEKoX+aqVYJ8Mtv4O1i6\n",
       "4rRSeRA3M7moO/VBZ2/qKOkyI+CZL227UP/J0eY8Pzb8INkaSrrI+AfS/BIHYzxYNAAAAABJRU5E\n",
       "rkJggg==\n",
       "\" style=\"display:inline;vertical-align:middle;\" /></a><br>"
      ],
      "text/plain": [
       "expr: (f(x) , g(x) , P(x) , Q(x))"
      ]
     },
     "execution_count": 2,
     "metadata": {},
     "output_type": "execute_result"
    }
   ],
   "source": [
    "# build up the expression from sub-expressions\n",
    "expr = ExprTuple(fx, gx, Px, Qx)"
   ]
  },
  {
   "cell_type": "code",
   "execution_count": 3,
   "metadata": {},
   "outputs": [
    {
     "name": "stdout",
     "output_type": "stream",
     "text": [
      "Passed sanity check: built 'expr' is the same as the stored Expression.\n"
     ]
    }
   ],
   "source": [
    "# check that the built expression is the same as the stored expression\n",
    "%check_expr"
   ]
  },
  {
   "cell_type": "code",
   "execution_count": 4,
   "metadata": {},
   "outputs": [
    {
     "data": {
      "text/html": [
       "<table><tr><th>&nbsp;</th><th>core type</th><th>sub-expressions</th><th>expression</th></tr>\n",
       "<tr><td>0</td><td>ExprTuple</td><td>1, 2, 3, 4</td><td><a class=\"ProveItLink\" href=\"expr.ipynb\"><img src=\"data:image/png;base64,iVBORw0KGgoAAAANSUhEUgAAAOcAAAAVBAMAAABPgOQBAAAAMFBMVEX////c3NwiIiJERESqqqqY\n",
       "mJh2dnZmZmYQEBDu7u4yMjJUVFTMzMyIiIi6uroAAAAs73DqAAAAAXRSTlMAQObYZgAAA0tJREFU\n",
       "SMfFVk1oE1EQnphNuptmkxykl1LMQe8KlvagGPAmSquCgoqNUlpEAkWxJ6W16EFEDQhFemlBBAsi\n",
       "aT0ISknwVPDQXKz4E1o9aUVMbarE1taZefve7kuy0JsL2Z193/e+mcybN28B/ssVK9bbocV63nfn\n",
       "ebahytZQ0mXGa7pZM1PKputq3bxozjGaCmrMzq+9nJ7yQwFaBi8WNZR0mTFJL8HeVZA2XZE6p5Gs\n",
       "tCbcwTjanQk/NPwEYDqroRHBsDmW8a8pkDbnIV3rtKSsE+7gHNK60j6o9RBvZk5DSRcZJkfRxUOm\n",
       "isgarnV6S1kP3MEFXKOeAR80kqR0VzWUdJGxxC+X+L7kyu2tLTc3bcGUMg/gL5/yQYdo8cIbGkq6\n",
       "yBgk8/TIc3qQ3fJh+1vMcr+inZw/ThFjXgKZqSPXUGdAYX8w9hUfNLDC61oRqEcXGY+Y8ZfvaFvp\n",
       "0C4T83JI6jblAr8pV90Ao3CsewTAUIFHfwG8GvBBm7g0g+sC9egi4y5Htc48tMNglw3Myxcp3JOF\n",
       "Ci03rl4aFuAwZkutt73W138OfNBtVa7vYYF6dJGxQZBRZh7aFjTv5rqUwrchukyTcWIWnvH/K6v1\n",
       "q8qt0wCNs3eqbUI9ushgp+GkdIpxFb1OjQrYSUcW4I7uNJ70OK1FBfg4K1Gli4wbHLJoGWzvKGDQ\n",
       "Kr32MgRp1cyUWAXLm945WTSN0Ah5N9Yl6uoio92NguxQYgFsBE/RpqLdXIY4zQliMRy1y/AOh6hU\n",
       "snKbijw3QI2NQKkwu+igHl1k8N4YF7PR7uruhDZhwjgmyKpCnvoc1rmxGhwOFMWmsH7yNpXNpCF6\n",
       "fhR69zioVxdfP9PwDzEb7fvzoxkMDJ5Sc6EK+lbixhFLgrX/Qt8byhvVxb0EWJc3Z2TrqEdx8EVm\n",
       "J0QF6tVFhkn4e2dpEnob/MR2B9+v640ultAalg+6D87oqNMGsQWHcu21bT7Mi4yhxcCq1DTyDFP1\n",
       "LumDdogO6KKkm+HjzJyUpa+OtjFwnA4lmnP60WZNNHDqg+Y3F/VjccxhtEKoX+aqVYJ8Mtv4O1i6\n",
       "4rRSeRA3M7moO/VBZ2/qKOkyI+CZL227UP/J0eY8Pzb8INkaSrrI+AfS/BIHYzxYNAAAAABJRU5E\n",
       "rkJggg==\n",
       "\" style=\"display:inline;vertical-align:middle;\" /></a></td></tr>\n",
       "<tr><td>1</td><td>Operation</td><td>operator:&nbsp;5<br>operand:&nbsp;9<br></td><td><a class=\"ProveItLink\" href=\"../../../packages/proveit/__pv_it/182d3f256e21dc75ea1ec3168bda49a871e4700a0/expr.ipynb\"><img src=\"data:image/png;base64,iVBORw0KGgoAAAANSUhEUgAAACkAAAAVBAMAAAAp9toTAAAAMFBMVEX///8yMjLMzMwQEBAiIiJm\n",
       "Zma6urqYmJiqqqp2dnZERETc3NyIiIhUVFTu7u4AAAAe+HC4AAAAAXRSTlMAQObYZgAAAPpJREFU\n",
       "GNNjYCAAcqB0GYR6e3YDkGS6ABVlVQBTK/sLgCTjA5gmARDB9+0FiDoDN6oSRHB8ALPt4KKPweY4\n",
       "gEg2AbgoVwMDA/tl3wCQ3AQGBu45t3tiGBg4QXz+AyAFjEAbXzKUFJgAjQRp2w92CXMCA8MEhvMM\n",
       "TUDDDID8frBh/EDRBwy3QEwmkPVT4KIMDDZw0bVgUWagxQzcnxj4oCbYQJwDtK2a5wPDOaCrBEBe\n",
       "A4sCncPxncuA+wDEZWz/wKJsDgx8a+bNPA5yJNAKHqinrJF9XAsyEB4mYDCHgcHwCZQND0k+oObK\n",
       "aCiHGxbqvBuQY2gPlD7EwAAAkqk1TOFGkRwAAAAASUVORK5CYII=\n",
       "\" style=\"display:inline;vertical-align:middle;\" /></a></td></tr>\n",
       "<tr><td>2</td><td>Operation</td><td>operator:&nbsp;6<br>operand:&nbsp;9<br></td><td><a class=\"ProveItLink\" href=\"../../../packages/proveit/__pv_it/89d5be7a1c57e84a6e56aa45006f938a851d441b0/expr.ipynb\"><img src=\"data:image/png;base64,iVBORw0KGgoAAAANSUhEUgAAACgAAAAVBAMAAADGNLEtAAAAMFBMVEX///8yMjK6uroiIiLMzMwQ\n",
       "EBCqqqru7u7c3NxUVFRERER2dnaIiIhmZmaYmJgAAAAgbmjVAAAAAXRSTlMAQObYZgAAAPlJREFU\n",
       "GNNjYMALmA5AaD4FJEFPGOMKkqA4jMGIEOM5AGPxbYALshbAWOwBcEFFhKZlQPz29CsgeRuIu0+2\n",
       "nQWaspeBgXcCx1+ggBxQ3wY+O1YDBoZEBob3BQzfgIJBDAzcDDwf2BwYGFQZGCIZWH4ABT8BVTJw\n",
       "LgCZ6c/A9o2BxwAiCHTCAYggzw8GrgtAVhiI2+/AUADSzveBgT8ByF8HdHXDeQYeoOBDBvbvDPMb\n",
       "GMDuyH+wlKEHwtQ8cxmkU5mBoep09Z4HQKYQiL8WbEcDkjeZGNi/oQYD9wGG+w2cE1CDrpCBIevM\n",
       "PQi7EyY4AymQOaAByuPAAADpfDmRy2jJwwAAAABJRU5ErkJggg==\n",
       "\" style=\"display:inline;vertical-align:middle;\" /></a></td></tr>\n",
       "<tr><td>3</td><td>Operation</td><td>operator:&nbsp;7<br>operand:&nbsp;9<br></td><td><a class=\"ProveItLink\" href=\"../../../packages/proveit/__pv_it/8c735c381b4cbf3c87e86ca2468da4e5c976f9b00/expr.ipynb\"><img src=\"data:image/png;base64,iVBORw0KGgoAAAANSUhEUgAAAC4AAAAVBAMAAADLKsFqAAAAMFBMVEX////u7u5mZmaYmJi6urqq\n",
       "qqp2dnbMzMwQEBBEREQyMjLc3NwiIiJUVFSIiIgAAAAeC3ydAAAAAXRSTlMAQObYZgAAAQlJREFU\n",
       "GNNjYCACsDyA0MwOIPLt/7t3z24AsWphCtTB5C8GBs5uEGMhTJwLRLB/Y2BgBWIGvgcwceYEEPcL\n",
       "kPEJyOAQgIkzNgAJzg8MDLxfgQwvhAumAjH/AgYG+QlAhhoQb3u79RHQuCQgsz6Bgf0QSNFioAEJ\n",
       "zIc5DjAwRAG576+lqYGd2cLAwMbA94G1gIHBA8idD7MOaD8jAy/IRIZ6IP7DgBAHOuoBVJz9E0y8\n",
       "FUTsL2AQAJvD9wUmPhnojw3vGfiA4lZA53+EiQMdF28wg2EfmCk0/y/M+z4MDJLPxPIMgMwlyMHM\n",
       "sQElHBhQQgsM2B6gxAs8nKVQ42svjHEbVZwbqp2vgAEAALg9cr1t3EsAAAAASUVORK5CYII=\n",
       "\" style=\"display:inline;vertical-align:middle;\" /></a></td></tr>\n",
       "<tr><td>4</td><td>Operation</td><td>operator:&nbsp;8<br>operand:&nbsp;9<br></td><td><a class=\"ProveItLink\" href=\"../../../packages/proveit/__pv_it/050bcffbb388a0b365dac8afc3d37833b4bb47300/expr.ipynb\"><img src=\"data:image/png;base64,iVBORw0KGgoAAAANSUhEUgAAAC0AAAAVBAMAAAAgHXppAAAAMFBMVEX///+YmJiqqqq6uroQEBBE\n",
       "RETu7u4iIiLMzMwyMjKIiIhUVFRmZmZ2dnbc3NwAAADS0us6AAAAAXRSTlMAQObYZgAAASNJREFU\n",
       "GNNjYCACWEFpYTDJd+fuLjCDYwNUnKcBRN5sYOAuAzE4E2AaJwBxZgCQ8AbxVsENlAXi6SDGeZBS\n",
       "N7h4CtCsHyDGfQMGBuYJcHFWBYb3AWBxBaCKC0A33NqndYqBgfcAw3kBkHg80AWcQFYug7iAOwMD\n",
       "0wSGerAjvgAxC9CsCwzrGTSARjqARRiY/gIJfqB4AsNWsE8+MHwHu9wNKs7A4AUVnw+i9UEeZFEA\n",
       "ef4HAxvYHH2DVys4nMGOA9orx/WBYRkDA+MEBt6yC7yqD0DiQMcxfWR14FsAZjJYz12uwAAyh7mA\n",
       "gS3q2t2FIPvAVrE2MIID0A85HEDiByzhoQUBt8Ak9//PDCjhzAYJKQ4XAUgEweKF+wFqPL6C0isY\n",
       "GABRcT+tFx/ALwAAAABJRU5ErkJggg==\n",
       "\" style=\"display:inline;vertical-align:middle;\" /></a></td></tr>\n",
       "<tr><td>5</td><td>Variable</td><td></td><td><a class=\"ProveItLink\" href=\"../../../packages/proveit/__pv_it/4d51ee1e62d011d06d4528b97697bf3da60c9de60/expr.ipynb\"><img src=\"data:image/png;base64,iVBORw0KGgoAAAANSUhEUgAAAAsAAAASBAMAAAB/WzlGAAAAMFBMVEX///8yMjLMzMwQEBAiIiJm\n",
       "Zma6urqYmJiqqqp2dnZERETc3NyIiIhUVFTu7u4AAAAe+HC4AAAAAXRSTlMAQObYZgAAAFVJREFU\n",
       "CNdjYGBgeHt2A5BkWNlfACT5vr0AcTg+gEgGVgcQyX7ZNwBE8x8AC+5XAFP9YJJhCoRaC6FswCTf\n",
       "NzDF9g9M8QiAyFoukPEMhk/AYpXRIBIAEwsRcZ82juYAAAAASUVORK5CYII=\n",
       "\" style=\"display:inline;vertical-align:middle;\" /></a></td></tr>\n",
       "<tr><td>6</td><td>Variable</td><td></td><td><a class=\"ProveItLink\" href=\"../../../packages/proveit/__pv_it/b5004dd09038f1a7d88dab9010b943185ce1d3ea0/expr.ipynb\"><img src=\"data:image/png;base64,iVBORw0KGgoAAAANSUhEUgAAAAoAAAANBAMAAABiGeI2AAAALVBMVEX///+6uroiIiLMzMwQEBCq\n",
       "qqru7u7c3NxUVFRERER2dnaIiIhmZmaYmJgAAABs7E5IAAAAAXRSTlMAQObYZgAAAFRJREFUCNdj\n",
       "YGC4s+smAwNPA/sbBoZ7CQxPGRg8GJifM7A+ZeBWYOB+zsB5gIH3AQNfAAPbM4a+AgYGid2HGEBg\n",
       "DgMDIwMbUPm5Ao4GBobI3WcZGAA0kxQNEIuRVgAAAABJRU5ErkJggg==\n",
       "\" style=\"display:inline;vertical-align:middle;\" /></a></td></tr>\n",
       "<tr><td>7</td><td>Variable</td><td></td><td><a class=\"ProveItLink\" href=\"../../../packages/proveit/__pv_it/6369c6c8083c513ca7161ace249642d040f9327d0/expr.ipynb\"><img src=\"data:image/png;base64,iVBORw0KGgoAAAANSUhEUgAAABAAAAAOBAMAAADUAYG5AAAAMFBMVEX////u7u5mZmaYmJi6urqq\n",
       "qqp2dnbMzMwQEBBEREQyMjLc3NwiIiJUVFSIiIgAAAAeC3ydAAAAAXRSTlMAQObYZgAAAGBJREFU\n",
       "CNdjYGB4+//u3bMbGIDgFwMDZzeQZv/GwMAKxAx8XxgYmD8BGZwfGBh4vwIZ/AsYGOQnABn1CQzs\n",
       "h0Ca3l9LUwPrni/AAAF/oDT7JygDZAwYcH6E0ELz/z4A0QBnpRnRyxnfJQAAAABJRU5ErkJggg==\n",
       "\" style=\"display:inline;vertical-align:middle;\" /></a></td></tr>\n",
       "<tr><td>8</td><td>Variable</td><td></td><td><a class=\"ProveItLink\" href=\"../../../packages/proveit/__pv_it/98124f92e6e1fc3772af50ac63eaa1f5624776f20/expr.ipynb\"><img src=\"data:image/png;base64,iVBORw0KGgoAAAANSUhEUgAAAA8AAAASBAMAAAB2sJk8AAAAMFBMVEX///+YmJiqqqq6uroQEBBE\n",
       "RETu7u4iIiLMzMwyMjKIiIhUVFRmZmZ2dnbc3NwAAADS0us6AAAAAXRSTlMAQObYZgAAAHxJREFU\n",
       "CNdjYGDgu3N3FwMI3Gxg4C4D0pkBQMIbiKeDRM8nMPD8ADHuGzC8DwAzFBjOC4AY8Q0M9Qkgxhcw\n",
       "YmBg+svA8B3E4HRjYJgPYug3ALHBqxUczkAOb9kFXtUHIGHrucsVGBrAtrI2MEIZByzBNAP3/88Q\n",
       "BocL0BoActoerD1tNT4AAAAASUVORK5CYII=\n",
       "\" style=\"display:inline;vertical-align:middle;\" /></a></td></tr>\n",
       "<tr><td>9</td><td>Variable</td><td></td><td><a class=\"ProveItLink\" href=\"../../../packages/proveit/__pv_it/530be409e3083890784cf1d7b28c9e67e90af9360/expr.ipynb\"><img src=\"data:image/png;base64,iVBORw0KGgoAAAANSUhEUgAAAAsAAAAJBAMAAAAWSsseAAAAKlBMVEX///9ERETMzMwQEBAiIiKY\n",
       "mJju7u5mZmaqqqpUVFSIiIh2dnbc3NwAAAA/vyDhAAAAAXRSTlMAQObYZgAAAENJREFUCNdjYDi9\n",
       "8sTyBQxsG1hdmR0YuBm4LnAoMLAxcAowgADzAjB1VoEhgYH1wFoGrgSG3gBhhlMMDImrs3cFMAAA\n",
       "t0YN+iTRa+sAAAAASUVORK5CYII=\n",
       "\" style=\"display:inline;vertical-align:middle;\" /></a></td></tr>\n",
       "</table>\n"
      ],
      "text/plain": [
       "0. (f(x) , g(x) , P(x) , Q(x))\n",
       "   core type: ExprTuple\n",
       "   sub-expressions: 1, 2, 3, 4\n",
       "1. f(x)\n",
       "   core type: Operation\n",
       "   operator: 5\n",
       "   operand: 9\n",
       "2. g(x)\n",
       "   core type: Operation\n",
       "   operator: 6\n",
       "   operand: 9\n",
       "3. P(x)\n",
       "   core type: Operation\n",
       "   operator: 7\n",
       "   operand: 9\n",
       "4. Q(x)\n",
       "   core type: Operation\n",
       "   operator: 8\n",
       "   operand: 9\n",
       "5. f\n",
       "   core type: Variable\n",
       "   sub-expressions: \n",
       "6. g\n",
       "   core type: Variable\n",
       "   sub-expressions: \n",
       "7. P\n",
       "   core type: Variable\n",
       "   sub-expressions: \n",
       "8. Q\n",
       "   core type: Variable\n",
       "   sub-expressions: \n",
       "9. x\n",
       "   core type: Variable\n",
       "   sub-expressions: "
      ]
     },
     "execution_count": 4,
     "metadata": {},
     "output_type": "execute_result"
    }
   ],
   "source": [
    "# display the expression information\n",
    "expr.exprInfo()"
   ]
  },
  {
   "cell_type": "code",
   "execution_count": null,
   "metadata": {},
   "outputs": [],
   "source": []
  }
 ],
 "metadata": {
  "kernelspec": {
   "display_name": "Python 3",
   "language": "python",
   "name": "python3"
  }
 },
 "nbformat": 4,
 "nbformat_minor": 0
}
