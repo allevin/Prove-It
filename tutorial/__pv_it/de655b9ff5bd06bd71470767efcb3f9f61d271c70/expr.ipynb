{
 "cells": [
  {
   "cell_type": "markdown",
   "metadata": {},
   "source": [
    "Expression of type <a class=\"ProveItLink\" href=\"../../../doc/html/api/proveit.ExprTuple.html\">ExprTuple</a>\n",
    "=======================\n",
    "# from context <a class=\"ProveItLink\" href=\"../../_context_.ipynb\">tutorial</a>"
   ]
  },
  {
   "cell_type": "code",
   "execution_count": 1,
   "metadata": {},
   "outputs": [],
   "source": [
    "# import Expression classes needed to build the expression\n",
    "from proveit import ExprTuple\n",
    "from proveit._common_ import P, Q, R\n",
    "from proveit.logic import Implies"
   ]
  },
  {
   "cell_type": "code",
   "execution_count": 2,
   "metadata": {},
   "outputs": [
    {
     "data": {
      "text/html": [
       "<strong id=\"expr\">expr:</strong> <a class=\"ProveItLink\" href=\"expr.ipynb\"><img src=\"data:image/png;base64,iVBORw0KGgoAAAANSUhEUgAAAJcAAAAVBAMAAAC5yWGZAAAAMFBMVEX////c3NwiIiJERESqqqqY\n",
       "mJh2dnZmZmYQEBDu7u4yMjJUVFTMzMyIiIi6uroAAAAs73DqAAAAAXRSTlMAQObYZgAAAnBJREFU\n",
       "OMutVE1oE0EU/mI2STfZpJ48KKJUQYqHxoP4g5CgNz00J08iQaRFJTQoBPGSCAr+QOhJpZcGxdKC\n",
       "2OLBg0Gyx6IHi1cbXD3aS/yLxtjEN28ms9uw5pSBnXlv53vfm/czAwx1JNaGw3NeTG/p+9CtVg9u\n",
       "90EEpqdea2VH4Yqf43itXT2+hohN8pL48QcI3vQBXrYRG1dy+BnwYtYHNJqEeQ+oEK9wZjUBo6l3\n",
       "tcVckqb7Ujaf0DSyokGmlt4RRc3BWdoWlvEOEPqld5d6wmMxFSV3dC9NkZYGRbXLjxTgso1HwBeh\n",
       "BhtA7IfGbag18lfMMw4rRZGTcMctnD7kUQqtTSRpFDhqinc+qXFhlec9/GsmzaX4zjuuR+R6AhGd\n",
       "JItwHk856iysA3yWMR4q4mJGzCmbd35yCHzWqwyayEuU1a5fF96NCsoc9cupgrczjOe8THBafrO8\n",
       "jbM1WvKgTsv44y0YwkeiBE5Cqr/ic2VNo6osaSazHpC5yGzBEkcKqyHJvvVxWQuz+nf0riQTxcSi\n",
       "1+ubS3JnBQFFdkssuitUzvZJm2U+jC07oSFOySlTORs7ptosg1BThnlYtZl3GKrqk87udass+9Po\n",
       "BOr2quNBnXHbLLJJjR6qYFpE3dpKtrPXIuPZ8CkqzLwI8cIDXDzkvbYVJaToNJuBjGiNz8DDVHvr\n",
       "BdY2Gwvv06De/iqieJXbD8sFBWX5zWtdegpu1CkRDkZ8HgvbY2KHSPsklRM45ylSvxVdp1B24CsV\n",
       "zIv7lpHKkURlADTnvdW+I9btuGS1rvN/pCkc7RpIZt0horhSVm8PcivyFRjSs70O/AOvFqfvUQOW\n",
       "NgAAAABJRU5ErkJggg==\n",
       "\" style=\"display:inline;vertical-align:middle;\" /></a><br>"
      ],
      "text/plain": [
       "expr: (P => Q , Q => R)"
      ]
     },
     "execution_count": 2,
     "metadata": {},
     "output_type": "execute_result"
    }
   ],
   "source": [
    "# build up the expression from sub-expressions\n",
    "expr = ExprTuple(Implies(P, Q), Implies(Q, R))"
   ]
  },
  {
   "cell_type": "code",
   "execution_count": 3,
   "metadata": {},
   "outputs": [
    {
     "name": "stdout",
     "output_type": "stream",
     "text": [
      "Passed sanity check: built 'expr' is the same as the stored Expression.\n"
     ]
    }
   ],
   "source": [
    "# check that the built expression is the same as the stored expression\n",
    "%check_expr"
   ]
  },
  {
   "cell_type": "code",
   "execution_count": 4,
   "metadata": {},
   "outputs": [
    {
     "data": {
      "text/html": [
       "<table><tr><th>&nbsp;</th><th>core type</th><th>sub-expressions</th><th>expression</th></tr>\n",
       "<tr><td>0</td><td>ExprTuple</td><td>1, 2</td><td><a class=\"ProveItLink\" href=\"expr.ipynb\"><img src=\"data:image/png;base64,iVBORw0KGgoAAAANSUhEUgAAAJcAAAAVBAMAAAC5yWGZAAAAMFBMVEX////c3NwiIiJERESqqqqY\n",
       "mJh2dnZmZmYQEBDu7u4yMjJUVFTMzMyIiIi6uroAAAAs73DqAAAAAXRSTlMAQObYZgAAAnBJREFU\n",
       "OMutVE1oE0EU/mI2STfZpJ48KKJUQYqHxoP4g5CgNz00J08iQaRFJTQoBPGSCAr+QOhJpZcGxdKC\n",
       "2OLBg0Gyx6IHi1cbXD3aS/yLxtjEN28ms9uw5pSBnXlv53vfm/czAwx1JNaGw3NeTG/p+9CtVg9u\n",
       "90EEpqdea2VH4Yqf43itXT2+hohN8pL48QcI3vQBXrYRG1dy+BnwYtYHNJqEeQ+oEK9wZjUBo6l3\n",
       "tcVckqb7Ujaf0DSyokGmlt4RRc3BWdoWlvEOEPqld5d6wmMxFSV3dC9NkZYGRbXLjxTgso1HwBeh\n",
       "BhtA7IfGbag18lfMMw4rRZGTcMctnD7kUQqtTSRpFDhqinc+qXFhlec9/GsmzaX4zjuuR+R6AhGd\n",
       "JItwHk856iysA3yWMR4q4mJGzCmbd35yCHzWqwyayEuU1a5fF96NCsoc9cupgrczjOe8THBafrO8\n",
       "jbM1WvKgTsv44y0YwkeiBE5Cqr/ic2VNo6osaSazHpC5yGzBEkcKqyHJvvVxWQuz+nf0riQTxcSi\n",
       "1+ubS3JnBQFFdkssuitUzvZJm2U+jC07oSFOySlTORs7ptosg1BThnlYtZl3GKrqk87udass+9Po\n",
       "BOr2quNBnXHbLLJJjR6qYFpE3dpKtrPXIuPZ8CkqzLwI8cIDXDzkvbYVJaToNJuBjGiNz8DDVHvr\n",
       "BdY2Gwvv06De/iqieJXbD8sFBWX5zWtdegpu1CkRDkZ8HgvbY2KHSPsklRM45ylSvxVdp1B24CsV\n",
       "zIv7lpHKkURlADTnvdW+I9btuGS1rvN/pCkc7RpIZt0horhSVm8PcivyFRjSs70O/AOvFqfvUQOW\n",
       "NgAAAABJRU5ErkJggg==\n",
       "\" style=\"display:inline;vertical-align:middle;\" /></a></td></tr>\n",
       "<tr><td>1</td><td>Operation</td><td>operator:&nbsp;4<br>operands:&nbsp;3<br></td><td><a class=\"ProveItLink\" href=\"../0ecb625fde376e84d1f8fabde19ab0c6635d1e200/expr.ipynb\"><img src=\"data:image/png;base64,iVBORw0KGgoAAAANSUhEUgAAAEEAAAASBAMAAAD2w64vAAAAMFBMVEX////u7u5mZmaYmJi6urqq\n",
       "qqp2dnbMzMwQEBBEREQyMjLc3NwiIiJUVFSIiIgAAAAeC3ydAAAAAXRSTlMAQObYZgAAAP5JREFU\n",
       "KM9jYGB4+//u3bMbGDABd1LaPQjrFwMDZzcWFVkFDLwHQQz2bwwMrN/g4gIwhtQEINELYvF9YWBg\n",
       "/gRXsRDGWAMi9EEaOD8wMPB+havwhdJM30FkvgOQ4F/AwCA/Aa6C7QGE3g8Wyg8AEvUJDOyHwLrO\n",
       "gAHUQn0DEDm/AEi8v5amhuxZ1iVg6jzYyT/AygTQfCnVApeD+PEPmgL2ZQJwYa5GkADco1B3nISY\n",
       "uR5ExBdAgwMZsF6A0PEO+56zg+3j/IiqYhfM1wcT2CJBPhCa//cBiorZ8KBb9iaAoQBLfCGJcRYw\n",
       "Y1OBBDgVvPArYOD9/4WACvYOYMgDAPldSOLUB00KAAAAAElFTkSuQmCC\n",
       "\" style=\"display:inline;vertical-align:middle;\" /></a></td></tr>\n",
       "<tr><td>2</td><td>Operation</td><td>operator:&nbsp;4<br>operands:&nbsp;5<br></td><td><a class=\"ProveItLink\" href=\"../42da45cbf8bed3ea5db43830de3adfb59444ab2a0/expr.ipynb\"><img src=\"data:image/png;base64,iVBORw0KGgoAAAANSUhEUgAAAEAAAAASBAMAAAAZAcURAAAAMFBMVEX///+YmJiqqqq6uroQEBBE\n",
       "RETu7u4iIiLMzMwyMjKIiIhUVFRmZmZ2dnbc3NwAAADS0us6AAAAAXRSTlMAQObYZgAAARNJREFU\n",
       "KM9jYGDgu3N3FwMWsPr/7q2zQIybDQzcZdhUfGVgSJnAwJAZAGR7I4QTYAyOXwwM3J8ZGKaDOOfh\n",
       "wgzTYAyuHwwMnD8YeH6AOPcN4AqsYQxWBwaG/g0M7wPAChTgCngXQBn8GxiYqoCGC4A48Q1Agqcc\n",
       "DP5AFfTvWuMFpOrBtn9BcjzTZAi9PoFBvwEqxfQX2XuZzmAqBGwLw3cQm9MNSZ5jLsRLvxkY3gMV\n",
       "zAexQUbB3VAKkef4yMAgfwEoZ/BqBYczshM2IILh/AI2Bt6yC7yqD5AUvIQFwwegOxc8BAbM3OUK\n",
       "DA0IBXEQKif+9wIGnlngQGFtYERS0IAZa6wHLBnwAu7/n/Er4HARwC0JAPZeS/+HiRyVAAAAAElF\n",
       "TkSuQmCC\n",
       "\" style=\"display:inline;vertical-align:middle;\" /></a></td></tr>\n",
       "<tr><td>3</td><td>ExprTuple</td><td>6, 7</td><td><a class=\"ProveItLink\" href=\"../d7a1e7ea4a4f91471e6430488ddf80a6c01c0dbd0/expr.ipynb\"><img src=\"data:image/png;base64,iVBORw0KGgoAAAANSUhEUgAAADMAAAAVBAMAAAAZessyAAAAMFBMVEX////c3NwiIiJERESqqqqY\n",
       "mJh2dnZmZmYQEBDu7u4yMjJUVFTMzMyIiIi6uroAAAAs73DqAAAAAXRSTlMAQObYZgAAAUZJREFU\n",
       "KM99Ur9Lw1AYvJImbZpUu4s4SnHQxbkB/4A6OUqmFgRpp65VcFAEzaa4GAQFJzeXImR3UFwtGBx1\n",
       "KSJt/UHrd++10aH4IJfLu3Dv++57wD9r6n7S7jrhVp7HYau1UNCbqWrlBshEQi/5/QkY21raiOAU\n",
       "gRDI08/tAumuUk6WBPaBNSAbCM0PALOnpDNCM8Ax8EJqdADnnSzzTazFMDw0SKfF+ZROmFNY82DV\n",
       "cU5658OdV37NVWIpQjrEAenTdaWha1/k0ehLu1sYqL+Ccat9Aot1O1p6S1JQLLenpB221UukK0I5\n",
       "UobLo7Zk0bUcz7Zdnm+GqLKtDyo2zayib62wIin+GTgqfTEt+5BbrxcPHsQwFyNb+B2PpkZkiiRB\n",
       "mX4imfpl1Bne5ngofyVnKFXZEh1mEmk0bndXwnJonpp4AdrAD2bmUgaDRD48AAAAAElFTkSuQmCC\n",
       "\" style=\"display:inline;vertical-align:middle;\" /></a></td></tr>\n",
       "<tr><td>4</td><td>Literal</td><td></td><td><a class=\"ProveItLink\" href=\"../../../packages/proveit/logic/boolean/implication/__pv_it/e5c030cabcb650938f92dee8256fe11cd12bf9b30/expr.ipynb\"><img src=\"data:image/png;base64,iVBORw0KGgoAAAANSUhEUgAAABMAAAANBAMAAAC5okgUAAAALVBMVEX////c3NxERETMzMwQEBCq\n",
       "qqoiIiJmZmaIiIh2dnZUVFS6uroyMjLu7u4AAACPpZJTAAAAAXRSTlMAQObYZgAAAD1JREFUCNdj\n",
       "YAABXgY44LkAZ3IvQAjPABFlaSCQV4AQjtkAZ/IegbNt5sLUpunC5aPgLMYDcCaTAJzJDCIA2yMN\n",
       "HCCUuIIAAAAASUVORK5CYII=\n",
       "\" style=\"display:inline;vertical-align:middle;\" /></a></td></tr>\n",
       "<tr><td>5</td><td>ExprTuple</td><td>7, 8</td><td><a class=\"ProveItLink\" href=\"../2d3af0b4341466a72efcf671ab60e9aa254cfba10/expr.ipynb\"><img src=\"data:image/png;base64,iVBORw0KGgoAAAANSUhEUgAAADUAAAAVBAMAAAAUZLt1AAAAMFBMVEX////c3NwiIiJERESqqqqY\n",
       "mJh2dnZmZmYQEBDu7u4yMjJUVFTMzMyIiIi6uroAAAAs73DqAAAAAXRSTlMAQObYZgAAAVRJREFU\n",
       "KM99kr1LQlEYxn/m59Xrx1JLQw2tDQ1RQ1D/gVtTlETQEEKTqw41Vk7leCGCggSprYgchQbv1lCh\n",
       "NDZJ1hCa9p7juWEgXbjvOe/zvDzv14H/voQ7El5X5kGZidzOb8hT//a6TLgq1wv5Q5dwVfTINpQc\n",
       "HIhLvHUqSKRiKPsbYj1WBZLw6LRA4S/DxbuCdCnBm3h5pR3qGc5fgHoF/wo58LUVFPowXLJCYFb8\n",
       "Xc5E7VOHdw1Xv3s8kCPgcAhjOlOyYLhGkbQkSRToeWg6Y7hFLYvd0pwqk3Ovvw5MDbg9Kbil5L10\n",
       "tmTfyGjNeYF7vpdqrQlFr728axF02BZ385itORnPu65XVBruuOrhVa3iJjuDjXWUgpPljku47BJt\n",
       "EknpLEusSUxqaEkys+Cg9IWEzD04vMCs2RHc95t/OUtimdTX2r6Y4RcQU/q+0W/iGX4ABFJbA74O\n",
       "PJUAAAAASUVORK5CYII=\n",
       "\" style=\"display:inline;vertical-align:middle;\" /></a></td></tr>\n",
       "<tr><td>6</td><td>Variable</td><td></td><td><a class=\"ProveItLink\" href=\"../../../packages/proveit/__pv_it/6369c6c8083c513ca7161ace249642d040f9327d0/expr.ipynb\"><img src=\"data:image/png;base64,iVBORw0KGgoAAAANSUhEUgAAABAAAAAOBAMAAADUAYG5AAAAMFBMVEX////u7u5mZmaYmJi6urqq\n",
       "qqp2dnbMzMwQEBBEREQyMjLc3NwiIiJUVFSIiIgAAAAeC3ydAAAAAXRSTlMAQObYZgAAAGBJREFU\n",
       "CNdjYGB4+//u3bMbGIDgFwMDZzeQZv/GwMAKxAx8XxgYmD8BGZwfGBh4vwIZ/AsYGOQnABn1CQzs\n",
       "h0Ca3l9LUwPrni/AAAF/oDT7JygDZAwYcH6E0ELz/z4A0QBnpRnRyxnfJQAAAABJRU5ErkJggg==\n",
       "\" style=\"display:inline;vertical-align:middle;\" /></a></td></tr>\n",
       "<tr><td>7</td><td>Variable</td><td></td><td><a class=\"ProveItLink\" href=\"../../../packages/proveit/__pv_it/98124f92e6e1fc3772af50ac63eaa1f5624776f20/expr.ipynb\"><img src=\"data:image/png;base64,iVBORw0KGgoAAAANSUhEUgAAAA8AAAASBAMAAAB2sJk8AAAAMFBMVEX///+YmJiqqqq6uroQEBBE\n",
       "RETu7u4iIiLMzMwyMjKIiIhUVFRmZmZ2dnbc3NwAAADS0us6AAAAAXRSTlMAQObYZgAAAHxJREFU\n",
       "CNdjYGDgu3N3FwMI3Gxg4C4D0pkBQMIbiKeDRM8nMPD8ADHuGzC8DwAzFBjOC4AY8Q0M9Qkgxhcw\n",
       "YmBg+svA8B3E4HRjYJgPYug3ALHBqxUczkAOb9kFXtUHIGHrucsVGBrAtrI2MEIZByzBNAP3/88Q\n",
       "BocL0BoActoerD1tNT4AAAAASUVORK5CYII=\n",
       "\" style=\"display:inline;vertical-align:middle;\" /></a></td></tr>\n",
       "<tr><td>8</td><td>Variable</td><td></td><td><a class=\"ProveItLink\" href=\"../../../packages/proveit/__pv_it/e24df48bc297bbcf3538a62f5b4f635a392abfce0/expr.ipynb\"><img src=\"data:image/png;base64,iVBORw0KGgoAAAANSUhEUgAAABAAAAAOBAMAAADUAYG5AAAAMFBMVEX///92dnaYmJjc3NxmZmYi\n",
       "IiKqqqq6urrMzMwQEBDu7u4yMjJERERUVFSIiIgAAAArjcN0AAAAAXRSTlMAQObYZgAAAG1JREFU\n",
       "CNdjYGB4+//unX0MIPCHgWHlBiDN8Y+Bgfc7kMH3g4GBG4gZeCYwMPRfADL4LzCwxYHU9t97Mg+s\n",
       "6f0ChvwGEOMkWBYI/jIw2IMYHJ8YGPQFoMb4P+ACGvMBqP6BEcOS838fMLDsewAAOpQikqrQNfgA\n",
       "AAAASUVORK5CYII=\n",
       "\" style=\"display:inline;vertical-align:middle;\" /></a></td></tr>\n",
       "</table>\n"
      ],
      "text/plain": [
       "0. (P => Q , Q => R)\n",
       "   core type: ExprTuple\n",
       "   sub-expressions: 1, 2\n",
       "1. P => Q\n",
       "   core type: Operation\n",
       "   operator: 4\n",
       "   operands: 3\n",
       "2. Q => R\n",
       "   core type: Operation\n",
       "   operator: 4\n",
       "   operands: 5\n",
       "3. (P , Q)\n",
       "   core type: ExprTuple\n",
       "   sub-expressions: 6, 7\n",
       "4. =>\n",
       "   core type: Literal\n",
       "   sub-expressions: \n",
       "5. (Q , R)\n",
       "   core type: ExprTuple\n",
       "   sub-expressions: 7, 8\n",
       "6. P\n",
       "   core type: Variable\n",
       "   sub-expressions: \n",
       "7. Q\n",
       "   core type: Variable\n",
       "   sub-expressions: \n",
       "8. R\n",
       "   core type: Variable\n",
       "   sub-expressions: "
      ]
     },
     "execution_count": 4,
     "metadata": {},
     "output_type": "execute_result"
    }
   ],
   "source": [
    "# display the expression information\n",
    "expr.exprInfo()"
   ]
  },
  {
   "cell_type": "code",
   "execution_count": null,
   "metadata": {},
   "outputs": [],
   "source": []
  }
 ],
 "metadata": {
  "kernelspec": {
   "display_name": "Python 3",
   "language": "python",
   "name": "python3"
  }
 },
 "nbformat": 4,
 "nbformat_minor": 0
}
