{
 "cells": [
  {
   "cell_type": "markdown",
   "metadata": {},
   "source": [
    "Show the Proof\n",
    "========"
   ]
  },
  {
   "cell_type": "code",
   "execution_count": 1,
   "metadata": {},
   "outputs": [
    {
     "data": {
      "text/html": [
       "<table><tr><th>&nbsp;</th><th>step type</th><th>requirements</th><th>statement</th></tr>\n",
       "<tr><td>0</td><td>assumption</td><td></td><td><span style=\"font-size:20px;\"><a class=\"ProveItLink\" href=\"../f0e632a6c49db51adc435ec3fd1d6ae1b94454670/expr.ipynb\"><img src=\"data:image/png;base64,iVBORw0KGgoAAAANSUhEUgAAAOEAAAAVBAMAAABCnpRGAAAAMFBMVEX///9ERETc3NyqqqpUVFS6\n",
       "urrMzMwyMjIQEBCIiIh2dnYiIiLu7u5mZmaYmJgAAABJJ2g3AAAAAXRSTlMAQObYZgAAA25JREFU\n",
       "SMe9lk1oE0EUx1+STdJsNpumHrT00BgEKQrGi+Kh9ANbKB66h4LtbQ89CB4SCnqwfoRWRbGHgKWg\n",
       "lTa0SG1obU6CteB6qniKCEoR7CKIWIW2UqtUsc6bncnO7kaPDuzMvJ35z2/2zbyZBQD1HfynFCom\n",
       "sVAWQfE29lW1Prh6jZ83/j6+IFIHNVVD5DC+iGxAFEs1L86mlTR0b5081c4tmmK6c9D7UMLik/DK\n",
       "P1/sAo9I1uA11t9gJudATpMyLE6XGvEswL6koynLysOcOI3FRUE5o4O0BG4RIYax+oAR/bWk3C9O\n",
       "/g5mmQJAS4FbNK2x8hInoorKWVrG+lVwiwhRLQhEOslXInEEs0ni+vUyt2h6zpzeYDAifkksbQsH\n",
       "MVs13CJCVHIicS2VSpUEYJB6r5E83Wlu0eSzBpf68oyoTqVSh2xhbBvzBc0tIkTYIxLjiURDQSDG\n",
       "qPGdbORNZvln20+skM5ly3fWjiFE2EwkFm3hEerghbRbhMR5ToyRyUg6+JLixjHRdTsAZ8vMegGf\n",
       "zVsAAWvmD9kaEGInQJ0tXDWpc3S3CInHScs6Np9BF7SSaQupBoMnslWcn+JWASbhGOmYo+0lOMiJ\n",
       "PaDY/oOndH1/eERI7MXJky/ov24NMSES40j0/RIsA9roltlgoSvpjBiFiGkLkQWBHY8IiRms7yWd\n",
       "e1E7AUseYrwkWnDTJkYNFt+EGDGjQiD/pGsy4hFxYhQ3iIROWcYR5NG+TuZV3JKZMgiWfxsPQ8ur\n",
       "zeQZYEQl208qsx2j9KOvYNaie0Tcq3QdZfwU3wHyak6qHWb72WThWLHek8PwHvEnXbMBRkUi1HWQ\n",
       "MYw2SoAWrWksdM0rQuJHMTog8JZkWpivCA2CRsO2Ar99OX+eNYQwBKKc2ExmHITLrOtSQT6a9Ioc\n",
       "0UGJlsPjPEKCJVBe7nYJVv1cEfdWGL9bojs5z4g19DD4yvr2XBhPg+4RIfGck/iFBgrwu2HIcUUM\n",
       "OU+5IK1qjKiiK0K5UOWE0VXdI/KcctZhuTEDBdeJ7bZm3beVlTJyVq4Qy6e9IkKU85yocqJS33zX\n",
       "EG8r591Fu2SrE5/dXpnj76Tdb14RIS5X7kflcZX7299a1ZKS1YmOX4sbpldEiHi3W9sY1Okquqaq\n",
       "1pj7r+PRP/5qBFHkiRbR2X/OH0yyA9bO3j6VAAAAAElFTkSuQmCC\n",
       "\" style=\"display:inline;vertical-align:middle;\" /></a> <a class=\"ProveItLink\" href=\"proof.ipynb\" style=\"text-decoration: none\">&#x22A2;&nbsp;</a><a class=\"ProveItLink\" href=\"../598a1f083de29dd2bccd6e2daa204f8d66f305280/expr.ipynb\"><img src=\"data:image/png;base64,iVBORw0KGgoAAAANSUhEUgAAAM0AAAAVBAMAAAAX/3cYAAAAMFBMVEX///8QEBC6urrMzMxUVFRm\n",
       "ZmZERETc3NwyMjKqqqp2dnaIiIiYmJgiIiLu7u4AAAAU9Wx4AAAAAXRSTlMAQObYZgAAAxpJREFU\n",
       "SMe9lU1oE0EUx19287mbpMGLiB4ieBBE2IL0aEtbVARR8GRFrIgpotI9lAYrYlTwJNJLwVtDULQG\n",
       "S8B4sK006KVUkFIUVLSsB0vpxdAvbdHW92Zms5PM9upAZvLfmf/7zb75WID/VBzliVbyU/F0/Sjz\n",
       "0+Htg8qmqVl4g39nSL+TBx3CX3mrs/OD7SpWTteHMtIJFkme1EDXoxIopgKELIARkg/kCEz8Bgjv\n",
       "rOuKijbiCI4xSE+lfBh3AU44iqkAkAPoJ2u3nBCakr4BENtwFc9BXlhPCQ5z9XvG5D2sAm2KCTnT\n",
       "fEKhQYkToBmZSzhm1VU8TIq3LXOCw2Z9xjNGaQlCm4oJOd8x2pNs9qactv1UhasAwXVX8XKZN+3j\n",
       "Lmc6m83OeP3nLXq8pJiQE8YXWctkvsicLqqaMKM/u4UaKF9/iZl4zGeYS7icpkzmWr7mi6yxx+uK\n",
       "CTkG5roDoEfm3KeqNQ/6R6GS+fjXAM77IY9f4VlGTtCCsF3zhf6wRCwrJuTEcNr7cIoyZwdVk8ef\n",
       "ddlCGWBWY5iTvaw7AZGc4GhtsOD5EpssESnFhBwtRUazInMowdDreCoJQbYfW0EctQ7BwbM34fkY\n",
       "AYbzigk5Oi63WUk4CudvnQqUPM6cOIXEmYA5icO2xG1HMQlOMke+YnvZ4uN30fFZdd2k4JZF1xPL\n",
       "WwxXNGoLzoKOp8UoH2AvGK1S97JqEnmDnnYc7BwJiEN0VRyfmorbk2CiZYpFszmLccJ9WI0Gu1nc\n",
       "2FJk3GpOqybkxGlJh/CFNb7NqND2DW9KarhyAW6IDmgBcScSJ3YO/6SjYnmfL8JIj49J7GuRyF9u\n",
       "5IMAP3pXSp6aH1ssUqg77JRSNS44sJstjNjb2rHiZ9BVE3KiNDhOS6endPfeseVd4Sl+77C8aC7n\n",
       "PalmsNwxF+GtauL3Di+tRs5ouC8blVFq+C7wVq8+hdqYS1pONSGn6Or5V2dH674LoKgF8OUkrwyN\n",
       "1c7Fya20aio0XARu6fNXR/05daV5j4+pAEHbjxMp+SnTavhuf7O2/27Lptez8ALgH4AO6GvgsxT4\n",
       "AAAAAElFTkSuQmCC\n",
       "\" style=\"display:inline;vertical-align:middle;\" /></a></span></td></tr>\n",
       "</table>"
      ],
      "text/plain": [
       "<proveit._core_.proof._ShowProof at 0x7f94eb2936a0>"
      ]
     },
     "execution_count": 1,
     "metadata": {},
     "output_type": "execute_result"
    }
   ],
   "source": [
    "import proveit\n",
    "%show_proof"
   ]
  },
  {
   "cell_type": "code",
   "execution_count": null,
   "metadata": {},
   "outputs": [],
   "source": []
  }
 ],
 "metadata": {
  "kernelspec": {
   "display_name": "Python 3",
   "language": "python",
   "name": "python3"
  }
 },
 "nbformat": 4,
 "nbformat_minor": 0
}
