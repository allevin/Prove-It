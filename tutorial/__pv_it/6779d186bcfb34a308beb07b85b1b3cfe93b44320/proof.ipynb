{
 "cells": [
  {
   "cell_type": "markdown",
   "metadata": {},
   "source": [
    "Show the Proof\n",
    "========"
   ]
  },
  {
   "cell_type": "code",
   "execution_count": 1,
   "metadata": {},
   "outputs": [
    {
     "data": {
      "text/html": [
       "<table><tr><th>&nbsp;</th><th>step type</th><th>requirements</th><th>statement</th></tr>\n",
       "<tr><td>0</td><td>specialization</td><td>1</td><td><span style=\"font-size:20px;\"><a class=\"ProveItLink\" href=\"../482dc020459256bd00f80ffb36546af4670aa6240/expr.ipynb\"><img src=\"data:image/png;base64,iVBORw0KGgoAAAANSUhEUgAAAT8AAAAaBAMAAAAznkapAAAAMFBMVEX///+6urp2dnaqqqoiIiIQ\n",
       "EBBERETu7u6IiIjc3NwyMjJUVFSYmJhmZmbMzMwAAAD0pS5FAAAAAXRSTlMAQObYZgAABGdJREFU\n",
       "WMPVl11oFFcUgM/MuDu7O7OThUaQKjjaB39AWPpQghBcbMC/ChEftELpqjWoDXVVKhgILpG+GIPr\n",
       "D6FLQNenaPRhI6X1p8gigiJa01TEBynzYIVWqFHbSvxB77l3ZvfeuZPpiAp6YHbOnjl35pt7fu4d\n",
       "ALBugyzxtiWRbG9BmttseoD2KzOcLQV4TYpoexuSrLID+vP4N/EY3lVA+AJ/jApAIQBGDwIsvIHn\n",
       "K8WJr5kZAXCzB5hD5bIIQ+fLLIqAsmNU6X1x7twymkz3wtx+FwDPeoAfoTIoAqpZckoVREDZMbI8\n",
       "IVX2+f8OTwUD9qM5LwLS//2+EMuOUcV6SMryIeZ8MczNtAMBcaLSWR8MvulvPpvsGFUSD8jTnxMl\n",
       "FprHensgoDmnXD7kL4gL5XI557PJjlElPkYe9YgoH4b7rZcA4xix/zo6FvoBmzo6vrL9bUZyFOWw\n",
       "36B5ShOZh134qFFyHOg92McivW0Ukm6fm7wiSWzzJMAYep4H2OQHNByIl/yAgqMidTBbSj3Pct8G\n",
       "azkqJ0kcbfOzGAuOPR0SY2xsZ99NcprPA14n6ZA8gdpU0Ct+QKUKXVKjFhzjIl2BM9TzdIZ73ndq\n",
       "5ih93RUAKoHSHMqfvcFCSKhB/wnnkQdMHwe46LBnJ2oSTA72SjbBUQDUb5agpf6vXuneO27xauMB\n",
       "shjudR1WQ5NX1gN0pnlAOFQEbTGtsdqkggSzFxZJNsGRB9TnZvjo1wENh53/gQagm1c0Rx/DfddD\n",
       "GZEAzU/Jzy6cEb2C/X32cK/DwXRZxGtKHlZxNuZ4Z/BgA9BaupMEdA8GlfQItXfKeReQDnXbnvXc\n",
       "A1yJP0ccd9VMV+A798LHrFR4wAUlr4ph0zC5d+HHWJaDiQ9kQC+OW+38ZgEdYfia3QA0ppHC3IOv\n",
       "aZH0nGXkVzJANlSp1tsgk04yMaV9kChQxNQIfM2WeM0Gg5yuBPZBgNYcFuVJIZzaDeK4NZfI84Ct\n",
       "tPq28yHWs3CHzhPCZFI1N8RsqMVqKl7fM5E+sqC2Ab4HHaOerirPmPbXtatHIajNMECWFOPi1mo1\n",
       "XraNIm+jjskMD7gfoHstTSi8a1MJjKGhNUPH2FAG2L3lqXeXZoAdPdtm10D/kgRQ39g3zrQR818M\n",
       "39EJAE2cZavdEgAvIVAmxuclc/wb/uRy0LFK0P0NziDO9R/guDlIhyr+lTtW760K1dScp4UsdW4v\n",
       "VSuqtDmNOdMlm3Xqg3wD8N6MT7BHnCF3z4E1NhdsDxCHmnbAdsDVyPEDfJtlGhO1GAK4Y/etWRKM\n",
       "dnqzZEsoa0oNwOLk43i6SwgXkZC19hRcQDo0nfEvLoM84EJYBzxgF4QABm7vy3B6wi2/uJLcdWC3\n",
       "0Afp0JR06wFPwaxs6cu4GpMzMqDaHgq4TqlEBMQY1LWqN7RF/uQI2RAmHAFwGU3LE6GALT0QHVAT\n",
       "1ks6tPoaH01ptpKZPwcBBnwDSzZDcvnFb1Bf/TOrua1KD9A64T2QlwAcL4FFPLf2AAAAAElFTkSu\n",
       "QmCC\n",
       "\" style=\"display:inline;vertical-align:middle;\" /></a> <a class=\"ProveItLink\" href=\"proof.ipynb\" style=\"text-decoration: none\">&#x22A2;&nbsp;</a><a class=\"ProveItLink\" href=\"../ca468cdca179d7508ee942e12a040cd182fa3bea0/expr.ipynb\"><img src=\"data:image/png;base64,iVBORw0KGgoAAAANSUhEUgAAAPYAAAAZBAMAAADwLs6sAAAAMFBMVEX///8QEBC6urrMzMxUVFRm\n",
       "ZmZERETc3NwyMjKqqqp2dnaIiIiYmJgiIiLu7u4AAAAU9Wx4AAAAAXRSTlMAQObYZgAAA69JREFU\n",
       "SMfFlltIFFEYx/+7M+64zu5o+VARxQbdwKIVfKggkoyCIhIp6UpGsUYhDSEuFNUSREYRC10eKmgI\n",
       "xC4kC4UPGbX0UhTlPvQQhjFGFzEiQdGoqM5tdmZndIvF6sDMfN93zpzf+b7znQvgKU29Ov5+8ff2\n",
       "jGHN4N+U5v/KNsdgaxPRdUWeuoeczbx8mssO008oVQBQXT+8ct1qKknVeZoVRRn7OpXP5LJLkuRT\n",
       "bBbibWkC2Kn/9vcEY7eQt9KQy2Z6S0GRXm4AV8iDrrzNnjA2HV9R0pVrNA6bC2I/iADdtUSYmbdZ\n",
       "H2OH2uPxw+48fxKPxwtL9/3kWU9c8SfyNgsk2RobicV63OzSWKzJGP9PJeq2ZAP3BdBGaDaR35Wb\n",
       "qy9tZVatzcBRngD+SZFDQEktY9cAjW62HEXA3twibtJBz2iWiq/0FVhGQ16cBgbwLD2DmUv8g3jA\n",
       "W7Q83UiyKZhg7NnQEm62vxr9tiEnE3HEYci6WyLGpw7faGungo8YDMI7y8xLijKI8RYm3pIA+MsY\n",
       "Oww17dnXMrg3DvtdI4IpT401/MAPa61FKGaV0ExfCt+sCaMLXxpkbDUdNj3se3g9NnvgGBzTYdfU\n",
       "CGTGwQamW9VXTGlIiHNgs7VEFYlBJ3ymg91PtyXp5YdklsAV9SSNJ4nxnYoaUVPRQNeTWM7La0Un\n",
       "PvqnMmRtz5uglnEpyHJYxByNK4CPpXql0+9AMxm3vGCL7R1T1NNUXAx0yA3TeI2WGpXKaNZklzcP\n",
       "PpnHR+og7nP6cQSquXQRIG6FeK7hPIEdWYhOJzu4nc1i0hFZokivmEQ4keK0qFHeZNQGNh62vK3g\n",
       "kUUU/B4oU1L4TPvbgEVpJkmntz2OZNcYfDR11mBtzhnKZuqAc1aJotUzt87R+dQht7ZObT0F2ZBT\n",
       "gq3V/7R68ZPTcF/HDZKxfaNEfd+1Q2dSEbppwIojnB2iY52M8hz2czrFUUm355sqWj3dVeaSpxJR\n",
       "UeOL+KLcllOmZKV57H0rK9l7qijlZPW77w5VVy/YfnNFWUlG84mk6TUYFju6SBwOntOCFzI7ckab\n",
       "xiVRbjrZ5zoTHnZq1gmbLRRpt46wqe07f9cUNcG1e8i7zs22z1BCDBsBw8nWEg62osupce9MOXuL\n",
       "tAtq0lkTZ5niOToU6+6g0vF11QmJF1l3sAPGfPwZm446a6D976VHVtB7yTmU5xi77bwrBruMP2fj\n",
       "slO5dJc6MkH31F73/dxz8wp5ztCOAu7nL34Badz59Nu7XaUAAAAASUVORK5CYII=\n",
       "\" style=\"display:inline;vertical-align:middle;\" /></a></span></td></tr>\n",
       "<tr><td>&nbsp;</td><td colspan=4 style=\"text-align:left\"><span style=\"font-size:20px;\"><a class=\"ProveItLink\" href=\"../../../packages/proveit/__pv_it/530be409e3083890784cf1d7b28c9e67e90af9360/expr.ipynb\"><img src=\"data:image/png;base64,iVBORw0KGgoAAAANSUhEUgAAAAsAAAAJBAMAAAAWSsseAAAAKlBMVEX///9ERETMzMwQEBAiIiKY\n",
       "mJju7u5mZmaqqqpUVFSIiIh2dnbc3NwAAAA/vyDhAAAAAXRSTlMAQObYZgAAAENJREFUCNdjYDi9\n",
       "8sTyBQxsG1hdmR0YuBm4LnAoMLAxcAowgADzAjB1VoEhgYH1wFoGrgSG3gBhhlMMDImrs3cFMAAA\n",
       "t0YN+iTRa+sAAAAASUVORK5CYII=\n",
       "\" style=\"display:inline;vertical-align:middle;\" /></a> : <a class=\"ProveItLink\" href=\"../../../packages/proveit/__pv_it/530be409e3083890784cf1d7b28c9e67e90af9360/expr.ipynb\"><img src=\"data:image/png;base64,iVBORw0KGgoAAAANSUhEUgAAAAsAAAAJBAMAAAAWSsseAAAAKlBMVEX///9ERETMzMwQEBAiIiKY\n",
       "mJju7u5mZmaqqqpUVFSIiIh2dnbc3NwAAAA/vyDhAAAAAXRSTlMAQObYZgAAAENJREFUCNdjYDi9\n",
       "8sTyBQxsG1hdmR0YuBm4LnAoMLAxcAowgADzAjB1VoEhgYH1wFoGrgSG3gBhhlMMDImrs3cFMAAA\n",
       "t0YN+iTRa+sAAAAASUVORK5CYII=\n",
       "\" style=\"display:inline;vertical-align:middle;\" /></a></span></td></tr><tr><td>1</td><td>assumption</td><td></td><td><span style=\"font-size:20px;\"><a class=\"ProveItLink\" href=\"../482dc020459256bd00f80ffb36546af4670aa6240/expr.ipynb\"><img src=\"data:image/png;base64,iVBORw0KGgoAAAANSUhEUgAAAT8AAAAaBAMAAAAznkapAAAAMFBMVEX///+6urp2dnaqqqoiIiIQ\n",
       "EBBERETu7u6IiIjc3NwyMjJUVFSYmJhmZmbMzMwAAAD0pS5FAAAAAXRSTlMAQObYZgAABGdJREFU\n",
       "WMPVl11oFFcUgM/MuDu7O7OThUaQKjjaB39AWPpQghBcbMC/ChEftELpqjWoDXVVKhgILpG+GIPr\n",
       "D6FLQNenaPRhI6X1p8gigiJa01TEBynzYIVWqFHbSvxB77l3ZvfeuZPpiAp6YHbOnjl35pt7fu4d\n",
       "ALBugyzxtiWRbG9BmttseoD2KzOcLQV4TYpoexuSrLID+vP4N/EY3lVA+AJ/jApAIQBGDwIsvIHn\n",
       "K8WJr5kZAXCzB5hD5bIIQ+fLLIqAsmNU6X1x7twymkz3wtx+FwDPeoAfoTIoAqpZckoVREDZMbI8\n",
       "IVX2+f8OTwUD9qM5LwLS//2+EMuOUcV6SMryIeZ8MczNtAMBcaLSWR8MvulvPpvsGFUSD8jTnxMl\n",
       "FprHensgoDmnXD7kL4gL5XI557PJjlElPkYe9YgoH4b7rZcA4xix/zo6FvoBmzo6vrL9bUZyFOWw\n",
       "36B5ShOZh134qFFyHOg92McivW0Ukm6fm7wiSWzzJMAYep4H2OQHNByIl/yAgqMidTBbSj3Pct8G\n",
       "azkqJ0kcbfOzGAuOPR0SY2xsZ99NcprPA14n6ZA8gdpU0Ct+QKUKXVKjFhzjIl2BM9TzdIZ73ndq\n",
       "5ih93RUAKoHSHMqfvcFCSKhB/wnnkQdMHwe46LBnJ2oSTA72SjbBUQDUb5agpf6vXuneO27xauMB\n",
       "shjudR1WQ5NX1gN0pnlAOFQEbTGtsdqkggSzFxZJNsGRB9TnZvjo1wENh53/gQagm1c0Rx/DfddD\n",
       "GZEAzU/Jzy6cEb2C/X32cK/DwXRZxGtKHlZxNuZ4Z/BgA9BaupMEdA8GlfQItXfKeReQDnXbnvXc\n",
       "A1yJP0ccd9VMV+A798LHrFR4wAUlr4ph0zC5d+HHWJaDiQ9kQC+OW+38ZgEdYfia3QA0ppHC3IOv\n",
       "aZH0nGXkVzJANlSp1tsgk04yMaV9kChQxNQIfM2WeM0Gg5yuBPZBgNYcFuVJIZzaDeK4NZfI84Ct\n",
       "tPq28yHWs3CHzhPCZFI1N8RsqMVqKl7fM5E+sqC2Ab4HHaOerirPmPbXtatHIajNMECWFOPi1mo1\n",
       "XraNIm+jjskMD7gfoHstTSi8a1MJjKGhNUPH2FAG2L3lqXeXZoAdPdtm10D/kgRQ39g3zrQR818M\n",
       "39EJAE2cZavdEgAvIVAmxuclc/wb/uRy0LFK0P0NziDO9R/guDlIhyr+lTtW760K1dScp4UsdW4v\n",
       "VSuqtDmNOdMlm3Xqg3wD8N6MT7BHnCF3z4E1NhdsDxCHmnbAdsDVyPEDfJtlGhO1GAK4Y/etWRKM\n",
       "dnqzZEsoa0oNwOLk43i6SwgXkZC19hRcQDo0nfEvLoM84EJYBzxgF4QABm7vy3B6wi2/uJLcdWC3\n",
       "0Afp0JR06wFPwaxs6cu4GpMzMqDaHgq4TqlEBMQY1LWqN7RF/uQI2RAmHAFwGU3LE6GALT0QHVAT\n",
       "1ks6tPoaH01ptpKZPwcBBnwDSzZDcvnFb1Bf/TOrua1KD9A64T2QlwAcL4FFPLf2AAAAAElFTkSu\n",
       "QmCC\n",
       "\" style=\"display:inline;vertical-align:middle;\" /></a> <a class=\"ProveItLink\" href=\"../f9bbb30196536973d9ff1ffeb7b5e1709c7d76500/proof.ipynb\" style=\"text-decoration: none\">&#x22A2;&nbsp;</a><a class=\"ProveItLink\" href=\"../8b65507d111fd345c6cbab939ef0863fd5f116e60/expr.ipynb\"><img src=\"data:image/png;base64,iVBORw0KGgoAAAANSUhEUgAAAScAAAAZBAMAAACBc/UbAAAAMFBMVEX///8QEBC6urrMzMxUVFRm\n",
       "ZmZERETc3NwyMjKqqqp2dnaIiIiYmJgiIiLu7u4AAAAU9Wx4AAAAAXRSTlMAQObYZgAABAFJREFU\n",
       "SMfNl11IFFEUgM/OjOvuzjqKLxVCbdBDUdJEUr1Ei0VBUghBkCFsP2hZ0VLSUhEtvSQksi9G5EOD\n",
       "EP0IsoGCiuBCCFER+1AUkrIFlvmSRWVFWfdnfu6PbRMUdGD2njlz7p1v77nn3DsAkgTHn/qy/QOp\n",
       "HrfIJUuZT9u/kNI4vf5HqMI8AMZ8UIW/8E4l++tn0ZgHlceGBzwAmZdoloeSHf1K348tWx4nsVZT\n",
       "zG2XB3UL33fwUJEMakIFHkp29C2fUaYs+G33kAd1CqsJHorcnxLCJzv6FfUrQBhdoGeLuUUtFwpP\n",
       "SElGAMD/aI9gkx39iv4evfEjUgJF16VR4UJFb6RS58RFfT+VSuUFm+zoV4IzANoXpCwv7nfYKwmf\n",
       "mprGRKjypqZjllgSJEdeToqGsKOUpwHe4sA3oOtM3+l+GsXpBiidox5LK0uR7boHtRmgWYTSTAgm\n",
       "RSjOUZEqjFSHVceyyQL1CVbaUYys6PMADYK1GvQZ2vdo/27UXPGgloGRFqGUOExJxZNzDPJEBcbg\n",
       "rrtuux3ZfruB/MVKgAgCCZuEOdMIQZo4Bhg78Xx5UGWg5ySAPAxLNs6RgzJ2J6HLvXMz1Plfx531\n",
       "/R6/X7OfG1AF5U46tpIZ9aD0XFlBAhiGCcnGObJQxs0YG1kXSjNp+x08KJSCDkh4DjbZHkq9AGWk\n",
       "cZ3tqe0zGYApFT1ZmYDFjI06buw47UGpz16jYA3ggKF8jvSt3GxDka52WVI/OlCL8M95096xStJw\n",
       "x35wlS53ZkNurkXjFbYGMgxAsDUGRnZWrWA3ZOwItaOWB6WtQgk1gIOqouXWqyUWUSjaVYm7ZYrK\n",
       "UVRYkiOgFwhWqB4O0i01bIGGmnsMVGceJ1M7F6pwI3r4Mq8nWKhOkjVv2PAZGdhI5gMDxEI5O3y0\n",
       "q0rzIjjnjIxy/lpuH5wFA0e0JK58o9qG0YcXgCsJdpBn+WNKFZ4HS8uyNuJYGmOhTgBM7icLBI9U\n",
       "ngStrW1h2yXalUJNHv/gjFIN8GpouicHxhKUjcaR/lmq1Uff4TBdYKCieAbVCpWDeoQhYgF2nVHH\n",
       "tbCeWVOmmoTJA3im8JyuAdNeU6SrIu6UAbf2KUSL5B1N2Gbs+hZJR6QDXcBcLdnU7SsSHlRN92Wc\n",
       "z9vQiHlQZ26C5UDhrlFrni3X1tC1A15kqEYlkhWgXg3u7ZUAwnWHJJuuLEx6UNmlF3GzDlFNoHB0\n",
       "DhVsKNK1JCYW+Q4WagxagIWa8nUcTkHdL4/DfEVfZ8IgV6dI15A0dKuj4FXW1R+zNSrbfEG1KGmf\n",
       "UHiuXS3udO2Sj+BFDlS66Quqawj8Q4W5vYp0jf/Nr5l5vvEkmya53BUNkT//1Kgej+PrJ0cVB7QF\n",
       "WmZWAAAAAElFTkSuQmCC\n",
       "\" style=\"display:inline;vertical-align:middle;\" /></a></span></td></tr>\n",
       "</table>"
      ],
      "text/plain": [
       "<proveit._core_.proof._ShowProof at 0x7f94ebdb8748>"
      ]
     },
     "execution_count": 1,
     "metadata": {},
     "output_type": "execute_result"
    }
   ],
   "source": [
    "import proveit\n",
    "%show_proof"
   ]
  },
  {
   "cell_type": "code",
   "execution_count": null,
   "metadata": {},
   "outputs": [],
   "source": []
  }
 ],
 "metadata": {
  "kernelspec": {
   "display_name": "Python 3",
   "language": "python",
   "name": "python3"
  }
 },
 "nbformat": 4,
 "nbformat_minor": 0
}
