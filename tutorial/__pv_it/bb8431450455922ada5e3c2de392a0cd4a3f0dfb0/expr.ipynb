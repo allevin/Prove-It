{
 "cells": [
  {
   "cell_type": "markdown",
   "metadata": {},
   "source": [
    "Expression of type <a class=\"ProveItLink\" href=\"../../../doc/html/api/proveit.ExprTuple.html\">ExprTuple</a>\n",
    "=======================\n",
    "# from context <a class=\"ProveItLink\" href=\"../../_context_.ipynb\">tutorial</a>"
   ]
  },
  {
   "cell_type": "code",
   "execution_count": 1,
   "metadata": {},
   "outputs": [],
   "source": [
    "# import Expression classes needed to build the expression\n",
    "from proveit import ExprTuple\n",
    "from proveit._common_ import Ry, T, y\n",
    "from proveit.logic import InSet"
   ]
  },
  {
   "cell_type": "code",
   "execution_count": 2,
   "metadata": {},
   "outputs": [
    {
     "data": {
      "text/html": [
       "<strong id=\"expr\">expr:</strong> <a class=\"ProveItLink\" href=\"expr.ipynb\"><img src=\"data:image/png;base64,iVBORw0KGgoAAAANSUhEUgAAAHYAAAAVBAMAAABh6QfWAAAAMFBMVEX////c3NwiIiJERESqqqqY\n",
       "mJh2dnZmZmYQEBDu7u4yMjJUVFTMzMyIiIi6uroAAAAs73DqAAAAAXRSTlMAQObYZgAAAjVJREFU\n",
       "OMulVE1oE1EQ/tbdze6m2STgUaRLDh48VfxBGsTgURB78uDFxUuvRaGIisbSi4K6KIgIQhFK6cVG\n",
       "xYtFkoM3D8mtXkIXTyJI678hjXVm9u1PJUKlD7638/bNt2/eNzML7GQUO9v3/RQ9zDAC3g7x0X5V\n",
       "m1+Xl3xZuM3+8rgcUGio/asKi0O4uQ5sD7mJaFUag3OLjXyg9vMR3GEhjwCjUzDCaNUmlybb3Xjf\n",
       "9AV2kOE8flLZz883wLkaXLW12gKWCLgZ+zl1wccMtTCvvOmQZgBDvT5KO31WdS7xPCSYpi9M+hhl\n",
       "1u5MDDOpSbwTfDOLIn0wDa0HTIIxT8oU17HKTgcySv9Mo+l3L4koedLOX4O7DpwE4w7dzvJwkG8x\n",
       "lnLNb4np9mBssGGHKNQuQCe3D2D8BgK7gwHfZ6ZSibQipXsJV69L2JSrEA5uo0RBtFl+5uJ0UNjI\n",
       "pp7P8BKz1IAWc2H00G7F3FmaL8Otc8ypP6c3Hu0JmD/kezXSaw7vEMd8mOYF6HLky5RL6aURqPRa\n",
       "AzZ10io/hSq9Oytgta9gTcrvXphwjzPN+SImyTXQyCFHsViN4nfEOXpP8/3u9bIkZqEVMa0Xm1VS\n",
       "xLlbhnNx8zXdisuxSHdyjq18JvOpwBbW+YhjvIp1Vv1Z3lLmN6RPvKQmqaRHPGd2eL+aW5dngOd4\n",
       "WJM+Eyxil6/72+JSD+7DETIeKeyB0b32j//EX/2pNXBqhfV8pqD9xz9nr6rSluAPYkqW7dRyTZEA\n",
       "AAAASUVORK5CYII=\n",
       "\" style=\"display:inline;vertical-align:middle;\" /></a><br>"
      ],
      "text/plain": [
       "expr: (y in T , R(y))"
      ]
     },
     "execution_count": 2,
     "metadata": {},
     "output_type": "execute_result"
    }
   ],
   "source": [
    "# build up the expression from sub-expressions\n",
    "expr = ExprTuple(InSet(y, T), Ry)"
   ]
  },
  {
   "cell_type": "code",
   "execution_count": 3,
   "metadata": {},
   "outputs": [
    {
     "name": "stdout",
     "output_type": "stream",
     "text": [
      "Passed sanity check: built 'expr' is the same as the stored Expression.\n"
     ]
    }
   ],
   "source": [
    "# check that the built expression is the same as the stored expression\n",
    "%check_expr"
   ]
  },
  {
   "cell_type": "code",
   "execution_count": 4,
   "metadata": {},
   "outputs": [
    {
     "data": {
      "text/html": [
       "<table><tr><th>&nbsp;</th><th>core type</th><th>sub-expressions</th><th>expression</th></tr>\n",
       "<tr><td>0</td><td>ExprTuple</td><td>1, 2</td><td><a class=\"ProveItLink\" href=\"expr.ipynb\"><img src=\"data:image/png;base64,iVBORw0KGgoAAAANSUhEUgAAAHYAAAAVBAMAAABh6QfWAAAAMFBMVEX////c3NwiIiJERESqqqqY\n",
       "mJh2dnZmZmYQEBDu7u4yMjJUVFTMzMyIiIi6uroAAAAs73DqAAAAAXRSTlMAQObYZgAAAjVJREFU\n",
       "OMulVE1oE1EQ/tbdze6m2STgUaRLDh48VfxBGsTgURB78uDFxUuvRaGIisbSi4K6KIgIQhFK6cVG\n",
       "xYtFkoM3D8mtXkIXTyJI678hjXVm9u1PJUKlD7638/bNt2/eNzML7GQUO9v3/RQ9zDAC3g7x0X5V\n",
       "m1+Xl3xZuM3+8rgcUGio/asKi0O4uQ5sD7mJaFUag3OLjXyg9vMR3GEhjwCjUzDCaNUmlybb3Xjf\n",
       "9AV2kOE8flLZz883wLkaXLW12gKWCLgZ+zl1wccMtTCvvOmQZgBDvT5KO31WdS7xPCSYpi9M+hhl\n",
       "1u5MDDOpSbwTfDOLIn0wDa0HTIIxT8oU17HKTgcySv9Mo+l3L4koedLOX4O7DpwE4w7dzvJwkG8x\n",
       "lnLNb4np9mBssGGHKNQuQCe3D2D8BgK7gwHfZ6ZSibQipXsJV69L2JSrEA5uo0RBtFl+5uJ0UNjI\n",
       "pp7P8BKz1IAWc2H00G7F3FmaL8Otc8ypP6c3Hu0JmD/kezXSaw7vEMd8mOYF6HLky5RL6aURqPRa\n",
       "AzZ10io/hSq9Oytgta9gTcrvXphwjzPN+SImyTXQyCFHsViN4nfEOXpP8/3u9bIkZqEVMa0Xm1VS\n",
       "xLlbhnNx8zXdisuxSHdyjq18JvOpwBbW+YhjvIp1Vv1Z3lLmN6RPvKQmqaRHPGd2eL+aW5dngOd4\n",
       "WJM+Eyxil6/72+JSD+7DETIeKeyB0b32j//EX/2pNXBqhfV8pqD9xz9nr6rSluAPYkqW7dRyTZEA\n",
       "AAAASUVORK5CYII=\n",
       "\" style=\"display:inline;vertical-align:middle;\" /></a></td></tr>\n",
       "<tr><td>1</td><td>Operation</td><td>operator:&nbsp;3<br>operands:&nbsp;4<br></td><td><a class=\"ProveItLink\" href=\"../1a7dc9bb583ad7549f57c3f10c59974947ba4e8d0/expr.ipynb\"><img src=\"data:image/png;base64,iVBORw0KGgoAAAANSUhEUgAAADMAAAASBAMAAAAEf/uKAAAAMFBMVEX///+YmJhUVFQyMjIQEBBE\n",
       "REQiIiKqqqrMzMyIiIi6urrc3NxmZmZ2dnbu7u4AAADXeCicAAAAAXRSTlMAQObYZgAAAN9JREFU\n",
       "GNNjYMAA3F+C9L8q2V/AlGHgncDAksDAK4BFiomBYf8BBvYFSEJ8k9PSDIB0OwODfAED5wMkqWY5\n",
       "CA1Urv+AgR2o9s4Fhv0gFdxxCFVuEEu5PjDMBzFYNyDc+AdMtfMkMISCGE8Rmhi/g6kHLBMYfoIY\n",
       "S9LSIM4AuvEfREn9A44fILoJoQvoLTA4zMDpAKKfIaSA3gIDGwZWBbApCO8DvQUGhxjWgwX5suBS\n",
       "8VDvPp15HuLszScgAjyq/4MmQBVdg9JFZlAXwgIzgc+dATtgu8B6AYcU+8xTOGQAtpc0ojCzKsUA\n",
       "AAAASUVORK5CYII=\n",
       "\" style=\"display:inline;vertical-align:middle;\" /></a></td></tr>\n",
       "<tr><td>2</td><td>Operation</td><td>operator:&nbsp;5<br>operand:&nbsp;6<br></td><td><a class=\"ProveItLink\" href=\"../../../packages/proveit/__pv_it/fd46630786eed0af1b57abc3fe90be674ca87fad0/expr.ipynb\"><img src=\"data:image/png;base64,iVBORw0KGgoAAAANSUhEUgAAAC0AAAAVBAMAAAAgHXppAAAAMFBMVEX///92dnaYmJjc3NxmZmYi\n",
       "IiKqqqq6urrMzMwQEBDu7u4yMjJERERUVFSIiIgAAAArjcN0AAAAAXRSTlMAQObYZgAAAStJREFU\n",
       "GNONUS1PA0EQfS3H9e64O04US0AhueBJQSEIaX8B6T8oBoUAhSOtAkdOYJogGoKqqMCRkNAfUMgK\n",
       "BIZeg2kFBd7sdRvOMcl8vd2ZeTsL/ENKKvMb2n78vAx6OrqYnVtn2n0B7Y4EXVOoM+cbCMYMQmXw\n",
       "dTHhBFiiwk0M3hbjt4Bmn8HJnIBfp1nuwz6UbBfwyhEqCQo7TJuvb9f61h1QKI2QArYMThM0NLEr\n",
       "4Nyq4YkPYWs86lYUckpcBdJzRkynQMXgaCTOJMOdT2AzEvySuo+wlfUR+lXlEXug3sNnbZFzfdak\n",
       "aotYmXqA0zUIz5vnqYLVkxUcU2+H1ZjPP/q7ZjcWu2L2MJdihKDmyfTV/L90sRj5pOZ18vg27OEe\n",
       "fRDn8YXZB7wDv84ZSjZFyo96AAAAAElFTkSuQmCC\n",
       "\" style=\"display:inline;vertical-align:middle;\" /></a></td></tr>\n",
       "<tr><td>3</td><td>Literal</td><td></td><td><a class=\"ProveItLink\" href=\"../../../packages/proveit/logic/set_theory/membership/__pv_it/088cbc857536a28d4119ad9639a84270ccb0545d0/expr.ipynb\"><img src=\"data:image/png;base64,iVBORw0KGgoAAAANSUhEUgAAAAwAAAAMBAMAAACkW0HUAAAALVBMVEX///+qqqpmZmZUVFQQEBC6\n",
       "urpERETc3NyYmJjMzMwiIiIyMjKIiIju7u4AAACYsrA9AAAAAXRSTlMAQObYZgAAADxJREFUCNdj\n",
       "YOA9vWrVBgaG2b0MQMCeCyIZ2ArA1DUwyRCyahVIyWQI7xaEYm4AU7xLIdxqTQgtvGvVBgCkcQ7e\n",
       "geM/tQAAAABJRU5ErkJggg==\n",
       "\" style=\"display:inline;vertical-align:middle;\" /></a></td></tr>\n",
       "<tr><td>4</td><td>ExprTuple</td><td>6, 7</td><td><a class=\"ProveItLink\" href=\"../fce5e01423a859b8b7ddadf177b0bf13d79816e50/expr.ipynb\"><img src=\"data:image/png;base64,iVBORw0KGgoAAAANSUhEUgAAAC8AAAAVBAMAAAAk6KpUAAAAMFBMVEX////c3NwiIiJERESqqqqY\n",
       "mJh2dnZmZmYQEBDu7u4yMjJUVFTMzMyIiIi6uroAAAAs73DqAAAAAXRSTlMAQObYZgAAAR9JREFU\n",
       "KM91kT1Lw1AUhp+atElsU7o7NP9BnDrYf2AmRw0unYRODhW0iLNccOlmFhEnBUeHOri55AdYTB1d\n",
       "rFhQwa+T2wSuqIHcNzkPec85b+Dfq578rq1lx41RKL22hs+XZ5FzJS+nBqgkuAGVkBh806kKzS52\n",
       "yiq4ygDXsN7GVwzgwWyawlBhg9VmC7xORLP4cG/WrMuxnPUJd8VcL1rsmANxdgIWc1Cezpbr8wnK\n",
       "Tfgo5nrTUptkgBVVe8+BrJGDfZEefj8HskZutSRygnWOpyuyhm4V0xHZ5jHkSJssq2Lce5HD0W6D\n",
       "wRM4F18tHdF8itvIHjbkHhsRSCTliGrgZSOEBtjUsc9FVvQTeBI7C9ijHVHfjD/zL/3xa2/hG6ei\n",
       "QlGrN7jgAAAAAElFTkSuQmCC\n",
       "\" style=\"display:inline;vertical-align:middle;\" /></a></td></tr>\n",
       "<tr><td>5</td><td>Variable</td><td></td><td><a class=\"ProveItLink\" href=\"../../../packages/proveit/__pv_it/e24df48bc297bbcf3538a62f5b4f635a392abfce0/expr.ipynb\"><img src=\"data:image/png;base64,iVBORw0KGgoAAAANSUhEUgAAABAAAAAOBAMAAADUAYG5AAAAMFBMVEX///92dnaYmJjc3NxmZmYi\n",
       "IiKqqqq6urrMzMwQEBDu7u4yMjJERERUVFSIiIgAAAArjcN0AAAAAXRSTlMAQObYZgAAAG1JREFU\n",
       "CNdjYGB4+//unX0MIPCHgWHlBiDN8Y+Bgfc7kMH3g4GBG4gZeCYwMPRfADL4LzCwxYHU9t97Mg+s\n",
       "6f0ChvwGEOMkWBYI/jIw2IMYHJ8YGPQFoMb4P+ACGvMBqP6BEcOS838fMLDsewAAOpQikqrQNfgA\n",
       "AAAASUVORK5CYII=\n",
       "\" style=\"display:inline;vertical-align:middle;\" /></a></td></tr>\n",
       "<tr><td>6</td><td>Variable</td><td></td><td><a class=\"ProveItLink\" href=\"../../../packages/proveit/__pv_it/f8b9edf8e16034727f0aad55bb83e392c3db40d40/expr.ipynb\"><img src=\"data:image/png;base64,iVBORw0KGgoAAAANSUhEUgAAAAsAAAANBAMAAACN24kIAAAAMFBMVEX///+YmJhUVFQyMjIQEBBE\n",
       "REQiIiKqqqrMzMyIiIi6urrc3NxmZmZ2dnbu7u4AAADXeCicAAAAAXRSTlMAQObYZgAAAFhJREFU\n",
       "CNdj4LtzgWH/AwZerg8M8xkY2nkSGEIZGB6wTGD4ycDAUP+A4weQOszA6QCkbBhYFYDUIYb1AkDq\n",
       "6czzGxhA4BoQMyXwuQMptgusF4AU+8xTQBIAUqMVoSp/SLMAAAAASUVORK5CYII=\n",
       "\" style=\"display:inline;vertical-align:middle;\" /></a></td></tr>\n",
       "<tr><td>7</td><td>Variable</td><td></td><td><a class=\"ProveItLink\" href=\"../../../packages/proveit/__pv_it/0ba07a5dc20d6e3b8bc78905ccb69ca33aa5b7620/expr.ipynb\"><img src=\"data:image/png;base64,iVBORw0KGgoAAAANSUhEUgAAAA8AAAAOBAMAAAACpFvcAAAAMFBMVEX////u7u7MzMy6urqqqqpm\n",
       "ZmaYmJgiIiKIiIh2dnYyMjJUVFREREQQEBDc3NwAAAC0bR2MAAAAAXRSTlMAQObYZgAAAFxJREFU\n",
       "CNdj4Pt7ev+f3esnMHA2MPAWMHAmMHAzMLwPYGAxYFBhYMh3YOAQYDBgYNgvwMDCAALXGSCA7yuU\n",
       "wfYFyuD+CGUAjYEAoDEQADQGAs4LgCnWPf9PNwBpAOatFIzRQMbbAAAAAElFTkSuQmCC\n",
       "\" style=\"display:inline;vertical-align:middle;\" /></a></td></tr>\n",
       "</table>\n"
      ],
      "text/plain": [
       "0. (y in T , R(y))\n",
       "   core type: ExprTuple\n",
       "   sub-expressions: 1, 2\n",
       "1. y in T\n",
       "   core type: Operation\n",
       "   operator: 3\n",
       "   operands: 4\n",
       "2. R(y)\n",
       "   core type: Operation\n",
       "   operator: 5\n",
       "   operand: 6\n",
       "3. in\n",
       "   core type: Literal\n",
       "   sub-expressions: \n",
       "4. (y , T)\n",
       "   core type: ExprTuple\n",
       "   sub-expressions: 6, 7\n",
       "5. R\n",
       "   core type: Variable\n",
       "   sub-expressions: \n",
       "6. y\n",
       "   core type: Variable\n",
       "   sub-expressions: \n",
       "7. T\n",
       "   core type: Variable\n",
       "   sub-expressions: "
      ]
     },
     "execution_count": 4,
     "metadata": {},
     "output_type": "execute_result"
    }
   ],
   "source": [
    "# display the expression information\n",
    "expr.exprInfo()"
   ]
  },
  {
   "cell_type": "code",
   "execution_count": null,
   "metadata": {},
   "outputs": [],
   "source": []
  }
 ],
 "metadata": {
  "kernelspec": {
   "display_name": "Python 3",
   "language": "python",
   "name": "python3"
  }
 },
 "nbformat": 4,
 "nbformat_minor": 0
}
