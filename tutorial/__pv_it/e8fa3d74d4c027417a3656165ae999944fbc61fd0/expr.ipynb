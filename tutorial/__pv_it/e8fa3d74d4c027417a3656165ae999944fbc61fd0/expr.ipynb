{
 "cells": [
  {
   "cell_type": "markdown",
   "metadata": {},
   "source": [
    "Expression of type <a class=\"ProveItLink\" href=\"../../../doc/html/api/proveit.ExprTuple.html\">ExprTuple</a>\n",
    "=======================\n",
    "# from context <a class=\"ProveItLink\" href=\"../../_context_.ipynb\">tutorial</a>"
   ]
  },
  {
   "cell_type": "code",
   "execution_count": 1,
   "metadata": {},
   "outputs": [],
   "source": [
    "# import Expression classes needed to build the expression\n",
    "from proveit import ExprTuple\n",
    "from proveit._common_ import Ry, S, y\n",
    "from proveit.logic import InSet"
   ]
  },
  {
   "cell_type": "code",
   "execution_count": 2,
   "metadata": {},
   "outputs": [
    {
     "data": {
      "text/html": [
       "<strong id=\"expr\">expr:</strong> <a class=\"ProveItLink\" href=\"expr.ipynb\"><img src=\"data:image/png;base64,iVBORw0KGgoAAAANSUhEUgAAAHUAAAAVBAMAAACK3rzVAAAAMFBMVEX////c3NwiIiJERESqqqqY\n",
       "mJh2dnZmZmYQEBDu7u4yMjJUVFTMzMyIiIi6uroAAAAs73DqAAAAAXRSTlMAQObYZgAAAelJREFU\n",
       "OMullLFLW0Ecx78xeSbP5MUsLnZIyB9QLKVQXSqOdjBTwaU8ujiVioUqtrQZnBwkWErdfAhBnJqt\n",
       "BSlmcFKLby4NRifRQbuIEtP0d3e/e+8ib1A8+IZv7j7fu9/du/eA+7Ssf2f0JQu70Zz1ffZLUzpn\n",
       "q7U54ptosq6EjehsFfYztv1DsBdhop6SE11y2gXG2e8TstU00RdKqYqRsH8Xi550eSrpF/cekP9W\n",
       "N9EVpRNztZ1J7c5GgT32T4FMCyYaH5V6R6tNuciLOWPDwWi+XQ885cZEuSHaOw2hKv1mz3Egp8sF\n",
       "vNPpPGKbaTXmfHV8Gk14UkvAdrKAx2Lws1H+wI9L3p5zhcS1MCGaLUv9AyopH20xeFws6rOi9qbE\n",
       "myvLsmGgmXMp6sBEJXPdfU0s0ipn+2uI6SyjnF2gjnk4ZTG4HGS/iuPi3e+XYF0IE6Jc8xPqWEe8\n",
       "Ji9ESWfFtXgPWz/eZBu0+RC1PKkpSZ3JlP1QZ2d8OENYLQhPV9NpxwgIUX5GR+J8G59UfYMfOFs7\n",
       "3aRVVv7SfG87P6nUBnWGaF9TKiVTrzjzfC08Z2qHXXc8RPlOWi7SBXsh+mUqdb+WAfqatYEeN+7e\n",
       "JhugtqeEB0g0PkZHnRv/NZrOKSF2+2+ORv8o/QcejpkjruQSdgAAAABJRU5ErkJggg==\n",
       "\" style=\"display:inline;vertical-align:middle;\" /></a><br>"
      ],
      "text/plain": [
       "expr: (y in S , R(y))"
      ]
     },
     "execution_count": 2,
     "metadata": {},
     "output_type": "execute_result"
    }
   ],
   "source": [
    "# build up the expression from sub-expressions\n",
    "expr = ExprTuple(InSet(y, S), Ry)"
   ]
  },
  {
   "cell_type": "code",
   "execution_count": 3,
   "metadata": {},
   "outputs": [
    {
     "name": "stdout",
     "output_type": "stream",
     "text": [
      "Passed sanity check: built 'expr' is the same as the stored Expression.\n"
     ]
    }
   ],
   "source": [
    "# check that the built expression is the same as the stored expression\n",
    "%check_expr"
   ]
  },
  {
   "cell_type": "code",
   "execution_count": 4,
   "metadata": {},
   "outputs": [
    {
     "data": {
      "text/html": [
       "<table><tr><th>&nbsp;</th><th>core type</th><th>sub-expressions</th><th>expression</th></tr>\n",
       "<tr><td>0</td><td>ExprTuple</td><td>1, 2</td><td><a class=\"ProveItLink\" href=\"expr.ipynb\"><img src=\"data:image/png;base64,iVBORw0KGgoAAAANSUhEUgAAAHUAAAAVBAMAAACK3rzVAAAAMFBMVEX////c3NwiIiJERESqqqqY\n",
       "mJh2dnZmZmYQEBDu7u4yMjJUVFTMzMyIiIi6uroAAAAs73DqAAAAAXRSTlMAQObYZgAAAelJREFU\n",
       "OMullLFLW0Ecx78xeSbP5MUsLnZIyB9QLKVQXSqOdjBTwaU8ujiVioUqtrQZnBwkWErdfAhBnJqt\n",
       "BSlmcFKLby4NRifRQbuIEtP0d3e/e+8ib1A8+IZv7j7fu9/du/eA+7Ssf2f0JQu70Zz1ffZLUzpn\n",
       "q7U54ptosq6EjehsFfYztv1DsBdhop6SE11y2gXG2e8TstU00RdKqYqRsH8Xi550eSrpF/cekP9W\n",
       "N9EVpRNztZ1J7c5GgT32T4FMCyYaH5V6R6tNuciLOWPDwWi+XQ885cZEuSHaOw2hKv1mz3Egp8sF\n",
       "vNPpPGKbaTXmfHV8Gk14UkvAdrKAx2Lws1H+wI9L3p5zhcS1MCGaLUv9AyopH20xeFws6rOi9qbE\n",
       "myvLsmGgmXMp6sBEJXPdfU0s0ipn+2uI6SyjnF2gjnk4ZTG4HGS/iuPi3e+XYF0IE6Jc8xPqWEe8\n",
       "Ji9ESWfFtXgPWz/eZBu0+RC1PKkpSZ3JlP1QZ2d8OENYLQhPV9NpxwgIUX5GR+J8G59UfYMfOFs7\n",
       "3aRVVv7SfG87P6nUBnWGaF9TKiVTrzjzfC08Z2qHXXc8RPlOWi7SBXsh+mUqdb+WAfqatYEeN+7e\n",
       "JhugtqeEB0g0PkZHnRv/NZrOKSF2+2+ORv8o/QcejpkjruQSdgAAAABJRU5ErkJggg==\n",
       "\" style=\"display:inline;vertical-align:middle;\" /></a></td></tr>\n",
       "<tr><td>1</td><td>Operation</td><td>operator:&nbsp;3<br>operands:&nbsp;4<br></td><td><a class=\"ProveItLink\" href=\"../1023ee2e650e711a947cf3bc458aeb5945a2f53c0/expr.ipynb\"><img src=\"data:image/png;base64,iVBORw0KGgoAAAANSUhEUgAAADIAAAASBAMAAADrvZC0AAAAMFBMVEX///+YmJhUVFQyMjIQEBBE\n",
       "REQiIiKqqqrMzMyIiIi6urrc3NxmZmZ2dnbu7u4AAADXeCicAAAAAXRSTlMAQObYZgAAAOVJREFU\n",
       "GNNjYMAGhM6ck8IqwSzA8PQDVhldBgZ2AyT+S7O0ZDCD+wcDA8cEhASH4QMoi+s7kNfAwHfnAsN+\n",
       "kNhWmAQD9/8ZIIqX6wPDfBAjGqF9/v+vGxgY2nkSGEKBPL4AhAy3kL8fA8MDlgkMP0GGu6WlQV0A\n",
       "MukjkKh/wPED5AAFuBYBoAkgmcMMnA4g0xJgEnwHgOb9BjJsGFjByhVhMiBP8oCEDjGsFwAJPFsA\n",
       "leHJZGCYCmI8nXl+A9hBNg0QGSYuJVUBCPMa1BRlhNvAKhL43LEGKwPbBdYL2GXYZ57CLgEAmWsz\n",
       "Uj3ZETAAAAAASUVORK5CYII=\n",
       "\" style=\"display:inline;vertical-align:middle;\" /></a></td></tr>\n",
       "<tr><td>2</td><td>Operation</td><td>operator:&nbsp;5<br>operand:&nbsp;6<br></td><td><a class=\"ProveItLink\" href=\"../../../packages/proveit/__pv_it/fd46630786eed0af1b57abc3fe90be674ca87fad0/expr.ipynb\"><img src=\"data:image/png;base64,iVBORw0KGgoAAAANSUhEUgAAAC0AAAAVBAMAAAAgHXppAAAAMFBMVEX///92dnaYmJjc3NxmZmYi\n",
       "IiKqqqq6urrMzMwQEBDu7u4yMjJERERUVFSIiIgAAAArjcN0AAAAAXRSTlMAQObYZgAAAStJREFU\n",
       "GNONUS1PA0EQfS3H9e64O04US0AhueBJQSEIaX8B6T8oBoUAhSOtAkdOYJogGoKqqMCRkNAfUMgK\n",
       "BIZeg2kFBd7sdRvOMcl8vd2ZeTsL/ENKKvMb2n78vAx6OrqYnVtn2n0B7Y4EXVOoM+cbCMYMQmXw\n",
       "dTHhBFiiwk0M3hbjt4Bmn8HJnIBfp1nuwz6UbBfwyhEqCQo7TJuvb9f61h1QKI2QArYMThM0NLEr\n",
       "4Nyq4YkPYWs86lYUckpcBdJzRkynQMXgaCTOJMOdT2AzEvySuo+wlfUR+lXlEXug3sNnbZFzfdak\n",
       "aotYmXqA0zUIz5vnqYLVkxUcU2+H1ZjPP/q7ZjcWu2L2MJdihKDmyfTV/L90sRj5pOZ18vg27OEe\n",
       "fRDn8YXZB7wDv84ZSjZFyo96AAAAAElFTkSuQmCC\n",
       "\" style=\"display:inline;vertical-align:middle;\" /></a></td></tr>\n",
       "<tr><td>3</td><td>Literal</td><td></td><td><a class=\"ProveItLink\" href=\"../../../packages/proveit/logic/set_theory/membership/__pv_it/088cbc857536a28d4119ad9639a84270ccb0545d0/expr.ipynb\"><img src=\"data:image/png;base64,iVBORw0KGgoAAAANSUhEUgAAAAwAAAAMBAMAAACkW0HUAAAALVBMVEX///+qqqpmZmZUVFQQEBC6\n",
       "urpERETc3NyYmJjMzMwiIiIyMjKIiIju7u4AAACYsrA9AAAAAXRSTlMAQObYZgAAADxJREFUCNdj\n",
       "YOA9vWrVBgaG2b0MQMCeCyIZ2ArA1DUwyRCyahVIyWQI7xaEYm4AU7xLIdxqTQgtvGvVBgCkcQ7e\n",
       "geM/tQAAAABJRU5ErkJggg==\n",
       "\" style=\"display:inline;vertical-align:middle;\" /></a></td></tr>\n",
       "<tr><td>4</td><td>ExprTuple</td><td>6, 7</td><td><a class=\"ProveItLink\" href=\"../e16db69cf6d4da3bbe9df0e0efa6eee387061a1f0/expr.ipynb\"><img src=\"data:image/png;base64,iVBORw0KGgoAAAANSUhEUgAAAC4AAAAVBAMAAADLKsFqAAAAMFBMVEX////c3NwiIiJERESqqqqY\n",
       "mJh2dnZmZmYQEBDu7u4yMjJUVFTMzMyIiIi6uroAAAAs73DqAAAAAXRSTlMAQObYZgAAAR9JREFU\n",
       "GNN1kT1LA0EQhp+Yr9skd6S38P6AlfonbLzagBw2aa0UP9AUaWz0II3YaCNiIxHBxiaFnYUHtoao\n",
       "ldgYUbtonL3VmCW4sO8sD8zMO7Pw3/HiEZS9F7m2WWVldYENeZxYuBDQ6FIA1y5zAZlDsiFONIxT\n",
       "PSjFqBrPtol34S2YZhlUNWTCpKX6d0mscgQ5r0vnJ6HTfytLmGUHrvI+U78NKrvbEp74gsiJ+Ry0\n",
       "yH2I3GjOXFTqGRhIN8Promu4tQSrJan0mtSZET0m3USRjES+KY95cQTrvAQc+MIm4db4fBRttLfK\n",
       "7El+0bs8DzQ/xdF2WZT78De27EFWVPRV3XgZeI31nsfCdGjzfbnjZNqbEt2h9Z3pyUf/0W3xDc/R\n",
       "RKUFmQK3AAAAAElFTkSuQmCC\n",
       "\" style=\"display:inline;vertical-align:middle;\" /></a></td></tr>\n",
       "<tr><td>5</td><td>Variable</td><td></td><td><a class=\"ProveItLink\" href=\"../../../packages/proveit/__pv_it/e24df48bc297bbcf3538a62f5b4f635a392abfce0/expr.ipynb\"><img src=\"data:image/png;base64,iVBORw0KGgoAAAANSUhEUgAAABAAAAAOBAMAAADUAYG5AAAAMFBMVEX///92dnaYmJjc3NxmZmYi\n",
       "IiKqqqq6urrMzMwQEBDu7u4yMjJERERUVFSIiIgAAAArjcN0AAAAAXRSTlMAQObYZgAAAG1JREFU\n",
       "CNdjYGB4+//unX0MIPCHgWHlBiDN8Y+Bgfc7kMH3g4GBG4gZeCYwMPRfADL4LzCwxYHU9t97Mg+s\n",
       "6f0ChvwGEOMkWBYI/jIw2IMYHJ8YGPQFoMb4P+ACGvMBqP6BEcOS838fMLDsewAAOpQikqrQNfgA\n",
       "AAAASUVORK5CYII=\n",
       "\" style=\"display:inline;vertical-align:middle;\" /></a></td></tr>\n",
       "<tr><td>6</td><td>Variable</td><td></td><td><a class=\"ProveItLink\" href=\"../../../packages/proveit/__pv_it/f8b9edf8e16034727f0aad55bb83e392c3db40d40/expr.ipynb\"><img src=\"data:image/png;base64,iVBORw0KGgoAAAANSUhEUgAAAAsAAAANBAMAAACN24kIAAAAMFBMVEX///+YmJhUVFQyMjIQEBBE\n",
       "REQiIiKqqqrMzMyIiIi6urrc3NxmZmZ2dnbu7u4AAADXeCicAAAAAXRSTlMAQObYZgAAAFhJREFU\n",
       "CNdj4LtzgWH/AwZerg8M8xkY2nkSGEIZGB6wTGD4ycDAUP+A4weQOszA6QCkbBhYFYDUIYb1AkDq\n",
       "6czzGxhA4BoQMyXwuQMptgusF4AU+8xTQBIAUqMVoSp/SLMAAAAASUVORK5CYII=\n",
       "\" style=\"display:inline;vertical-align:middle;\" /></a></td></tr>\n",
       "<tr><td>7</td><td>Variable</td><td></td><td><a class=\"ProveItLink\" href=\"../../../packages/proveit/__pv_it/abeee18594afe51bfb1be95d9591fbba24ac53f30/expr.ipynb\"><img src=\"data:image/png;base64,iVBORw0KGgoAAAANSUhEUgAAAA0AAAAOBAMAAAAGUYvhAAAAMFBMVEX///8iIiIQEBCIiIjMzMzc\n",
       "3Nyqqqp2dnZEREQyMjK6urru7u5mZmZUVFSYmJgAAACI6eGPAAAAAXRSTlMAQObYZgAAAF1JREFU\n",
       "CNdjYGDgu3Nm3wIGBoZ5DNz9QIq3gIEhE0jHOzAwOAPp9QkMDC4g/megABAw///fCmbEXfq0Acxg\n",
       "qH8ANAVI7wfSe0BKAyBGnAXigwYMzA1A+sLau31ACgAz0hhbkhGHbwAAAABJRU5ErkJggg==\n",
       "\" style=\"display:inline;vertical-align:middle;\" /></a></td></tr>\n",
       "</table>\n"
      ],
      "text/plain": [
       "0. (y in S , R(y))\n",
       "   core type: ExprTuple\n",
       "   sub-expressions: 1, 2\n",
       "1. y in S\n",
       "   core type: Operation\n",
       "   operator: 3\n",
       "   operands: 4\n",
       "2. R(y)\n",
       "   core type: Operation\n",
       "   operator: 5\n",
       "   operand: 6\n",
       "3. in\n",
       "   core type: Literal\n",
       "   sub-expressions: \n",
       "4. (y , S)\n",
       "   core type: ExprTuple\n",
       "   sub-expressions: 6, 7\n",
       "5. R\n",
       "   core type: Variable\n",
       "   sub-expressions: \n",
       "6. y\n",
       "   core type: Variable\n",
       "   sub-expressions: \n",
       "7. S\n",
       "   core type: Variable\n",
       "   sub-expressions: "
      ]
     },
     "execution_count": 4,
     "metadata": {},
     "output_type": "execute_result"
    }
   ],
   "source": [
    "# display the expression information\n",
    "expr.exprInfo()"
   ]
  },
  {
   "cell_type": "code",
   "execution_count": null,
   "metadata": {},
   "outputs": [],
   "source": []
  }
 ],
 "metadata": {
  "kernelspec": {
   "display_name": "Python 3",
   "language": "python",
   "name": "python3"
  }
 },
 "nbformat": 4,
 "nbformat_minor": 0
}
