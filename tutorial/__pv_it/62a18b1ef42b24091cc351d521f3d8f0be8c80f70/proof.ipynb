{
 "cells": [
  {
   "cell_type": "markdown",
   "metadata": {},
   "source": [
    "Show the Proof\n",
    "========"
   ]
  },
  {
   "cell_type": "code",
   "execution_count": 1,
   "metadata": {},
   "outputs": [
    {
     "data": {
      "text/html": [
       "<table><tr><th>&nbsp;</th><th>step type</th><th>requirements</th><th>statement</th></tr>\n",
       "<tr><td>0</td><td>assumption</td><td></td><td><span style=\"font-size:20px;\"><a class=\"ProveItLink\" href=\"../df12dd7e82cae518f708f588afdd18cf91f4cb240/expr.ipynb\"><img src=\"data:image/png;base64,iVBORw0KGgoAAAANSUhEUgAAAFEAAAAVBAMAAADMaB9/AAAAMFBMVEX////c3NxERESqqqpUVFS6\n",
       "urrMzMwyMjIQEBCIiIh2dnYiIiLu7u5mZmaYmJgAAABXZE4RAAAAAXRSTlMAQObYZgAAAVNJREFU\n",
       "KM9jYGDgu8dAALCtEgBRPLsYCAK2ZhDJ+QHMeXL3zlNMJVP+uzhVAunrIA5XA4hkf8Bw6AMW0z4x\n",
       "MJwoYGBYgVDpxcDAXACT5kFY+5OBgeUrskrGb0DRCTB59gMwFidQnP0bskrWz0CVCTB5VgcYiwko\n",
       "me+AYub/aciuWwlj8DswMO9kgKrkBTtv/v9P4DC7vRsE9l+Aqsz3nNsJot+DiIwAEMn4pL8HyVDz\n",
       "AAg9/wCDPchR7ECtKW1QSa5/SCp5KiBKNcAOAAL1BwwMESA9QJoHWWX6Ggj9hYFBHqSSewGQYAG6\n",
       "kwdoOONHhDt360CDE6j7/QKYO7k2QAKd1wFhpAlScN6fwIMUSrzAkJiEUMgIiy0mYATPnyCHpJKF\n",
       "1cXpAUIlkwCEPqv/ZQIDb+UElHhHTWQYIrhUMmBXyUeMSnD65NlJRJpvBVN8i4nKRwByY2Dix2LY\n",
       "uQAAAABJRU5ErkJggg==\n",
       "\" style=\"display:inline;vertical-align:middle;\" /></a> <a class=\"ProveItLink\" href=\"proof.ipynb\" style=\"text-decoration: none\">&#x22A2;&nbsp;</a><a class=\"ProveItLink\" href=\"../7e3f2f1562f5c718ad828a0c792cc977800a00590/expr.ipynb\"><img src=\"data:image/png;base64,iVBORw0KGgoAAAANSUhEUgAAAD0AAAAPBAMAAACl/tp8AAAAMFBMVEX///8iIiIQEBCIiIjMzMzc\n",
       "3Nyqqqp2dnZEREQyMjK6urru7u5mZmZUVFSYmJgAAACI6eGPAAAAAXRSTlMAQObYZgAAAO1JREFU\n",
       "GNNjYGDgu3Nm3wIGdMB8/+/dTgMQax4Ddz8DJuBvYODWBNK8BQwMmXDRDXCWP1DzfaC58Q4MDM5w\n",
       "0dlwlj1QfD4Qr09gYHCBi66Fs5oYGFj+Aun4zw5ItrIbwFhAuUQQh/n//1YQn0cQDP5ApVn+Gh+C\n",
       "qI279AnhKga2WVD//WZg+wIVq3+AZMNOLTDFoQC2goEPiPcjybNMhxjGf4GBFSS/B+TEAIT9ElC7\n",
       "/B8w8H1ngATNWSTrLyC8z/MZGFwHDRiYGxDykTAGMMiZP7M+YLiw9m4fkutaIRT3if+XGRhOGmPE\n",
       "igMaHwAvID4qdLHZ9QAAAABJRU5ErkJggg==\n",
       "\" style=\"display:inline;vertical-align:middle;\" /></a></span></td></tr>\n",
       "</table>"
      ],
      "text/plain": [
       "<proveit._core_.proof._ShowProof at 0x7f94eae41588>"
      ]
     },
     "execution_count": 1,
     "metadata": {},
     "output_type": "execute_result"
    }
   ],
   "source": [
    "import proveit\n",
    "%show_proof"
   ]
  },
  {
   "cell_type": "code",
   "execution_count": null,
   "metadata": {},
   "outputs": [],
   "source": []
  }
 ],
 "metadata": {
  "kernelspec": {
   "display_name": "Python 3",
   "language": "python",
   "name": "python3"
  }
 },
 "nbformat": 4,
 "nbformat_minor": 0
}
