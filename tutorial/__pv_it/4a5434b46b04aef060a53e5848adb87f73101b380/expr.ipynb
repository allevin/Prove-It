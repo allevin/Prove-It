{
 "cells": [
  {
   "cell_type": "markdown",
   "metadata": {},
   "source": [
    "Expression of type <a class=\"ProveItLink\" href=\"../../../doc/html/api/proveit.ExprTuple.html\">ExprTuple</a>\n",
    "=======================\n",
    "# from context <a class=\"ProveItLink\" href=\"../../_context_.ipynb\">tutorial</a>"
   ]
  },
  {
   "cell_type": "code",
   "execution_count": 1,
   "metadata": {},
   "outputs": [],
   "source": [
    "# import Expression classes needed to build the expression\n",
    "from proveit import ExprTuple\n",
    "from proveit._common_ import x, y, z\n",
    "from proveit.logic import Implies"
   ]
  },
  {
   "cell_type": "code",
   "execution_count": 2,
   "metadata": {},
   "outputs": [
    {
     "data": {
      "text/html": [
       "<strong id=\"expr\">expr:</strong> <a class=\"ProveItLink\" href=\"expr.ipynb\"><img src=\"data:image/png;base64,iVBORw0KGgoAAAANSUhEUgAAAJcAAAAVBAMAAAC5yWGZAAAAMFBMVEX////c3NwiIiJERESqqqqY\n",
       "mJh2dnZmZmYQEBDu7u4yMjJUVFTMzMyIiIi6uroAAAAs73DqAAAAAXRSTlMAQObYZgAAAf9JREFU\n",
       "OMtjYKAq4LtAHXPiQMRpKjmK/QCQWEktLy5gYODF8OUE/Ho4cUmEMTBwYOgl4FQuXJbNYGB4hSH4\n",
       "mkCEbcAhwezAUAakxG6LXEf4lg3C5ExPYJCfgMoCg1yYqR0PZMEMxtyNvrVAfQUMS4GKE1hVORRA\n",
       "EaIEBt8hZvJ9YLiPyioCS+sXQAwTji03ADOmMQQFNDEwsCxg6AMqZuD9wHIA4V6WdSDyCLsCgzED\n",
       "KgsCvB5AI2o2xLkJQKt8gC5tYPgHih9uAxTfz+oDqeW4wPAXogvOgsbnCohpjBtg0b8ZRPF8ABkG\n",
       "jFKU9MGzDGyj/wSePxABBAsMTmVC6OdwkV6oYS0gWv4AOHVBw0wZ4voqBt4GBhQWJMyULKGhkQAz\n",
       "i/EPKPUBvWnKwMAqcJ+BFxFbLFDXL2dg3gBJomAWHHhDaTcGhg1gNwTyfmC4CTRmAUM60BcBFgyy\n",
       "CMVSULqa4X0Aw3wFGAvujAXQwFhaGvWA8xPQ8q/MDYwXwEnjEQPD5GvTchGKGQyh9OS79QIMMz7C\n",
       "WPC0CWWyM8S3MHD2CzBw2mamXQVljQcMHALoKRmRSJKA+CGcBYse1PwggJydWBNw5A5uBU5Q5ATA\n",
       "WVgBKwNKzsCVr5kSmBMghkFZBAzjBIWlNA5lLHfrgCQvnIUdIBIoN8jDjFQqtu8wMAAANWF+pnXD\n",
       "RAgAAAAASUVORK5CYII=\n",
       "\" style=\"display:inline;vertical-align:middle;\" /></a><br>"
      ],
      "text/plain": [
       "expr: (x => y , y => z , x)"
      ]
     },
     "execution_count": 2,
     "metadata": {},
     "output_type": "execute_result"
    }
   ],
   "source": [
    "# build up the expression from sub-expressions\n",
    "expr = ExprTuple(Implies(x, y), Implies(y, z), x)"
   ]
  },
  {
   "cell_type": "code",
   "execution_count": 3,
   "metadata": {},
   "outputs": [
    {
     "name": "stdout",
     "output_type": "stream",
     "text": [
      "Passed sanity check: built 'expr' is the same as the stored Expression.\n"
     ]
    }
   ],
   "source": [
    "# check that the built expression is the same as the stored expression\n",
    "%check_expr"
   ]
  },
  {
   "cell_type": "code",
   "execution_count": 4,
   "metadata": {},
   "outputs": [
    {
     "data": {
      "text/html": [
       "<table><tr><th>&nbsp;</th><th>core type</th><th>sub-expressions</th><th>expression</th></tr>\n",
       "<tr><td>0</td><td>ExprTuple</td><td>1, 2, 6</td><td><a class=\"ProveItLink\" href=\"expr.ipynb\"><img src=\"data:image/png;base64,iVBORw0KGgoAAAANSUhEUgAAAJcAAAAVBAMAAAC5yWGZAAAAMFBMVEX////c3NwiIiJERESqqqqY\n",
       "mJh2dnZmZmYQEBDu7u4yMjJUVFTMzMyIiIi6uroAAAAs73DqAAAAAXRSTlMAQObYZgAAAf9JREFU\n",
       "OMtjYKAq4LtAHXPiQMRpKjmK/QCQWEktLy5gYODF8OUE/Ho4cUmEMTBwYOgl4FQuXJbNYGB4hSH4\n",
       "mkCEbcAhwezAUAakxG6LXEf4lg3C5ExPYJCfgMoCg1yYqR0PZMEMxtyNvrVAfQUMS4GKE1hVORRA\n",
       "EaIEBt8hZvJ9YLiPyioCS+sXQAwTji03ADOmMQQFNDEwsCxg6AMqZuD9wHIA4V6WdSDyCLsCgzED\n",
       "KgsCvB5AI2o2xLkJQKt8gC5tYPgHih9uAxTfz+oDqeW4wPAXogvOgsbnCohpjBtg0b8ZRPF8ABkG\n",
       "jFKU9MGzDGyj/wSePxABBAsMTmVC6OdwkV6oYS0gWv4AOHVBw0wZ4voqBt4GBhQWJMyULKGhkQAz\n",
       "i/EPKPUBvWnKwMAqcJ+BFxFbLFDXL2dg3gBJomAWHHhDaTcGhg1gNwTyfmC4CTRmAUM60BcBFgyy\n",
       "CMVSULqa4X0Aw3wFGAvujAXQwFhaGvWA8xPQ8q/MDYwXwEnjEQPD5GvTchGKGQyh9OS79QIMMz7C\n",
       "WPC0CWWyM8S3MHD2CzBw2mamXQVljQcMHALoKRmRSJKA+CGcBYse1PwggJydWBNw5A5uBU5Q5ATA\n",
       "WVgBKwNKzsCVr5kSmBMghkFZBAzjBIWlNA5lLHfrgCQvnIUdIBIoN8jDjFQqtu8wMAAANWF+pnXD\n",
       "RAgAAAAASUVORK5CYII=\n",
       "\" style=\"display:inline;vertical-align:middle;\" /></a></td></tr>\n",
       "<tr><td>1</td><td>Operation</td><td>operator:&nbsp;4<br>operands:&nbsp;3<br></td><td><a class=\"ProveItLink\" href=\"../add07ed78641c4ceb7dae3371fef13a20f9020140/expr.ipynb\"><img src=\"data:image/png;base64,iVBORw0KGgoAAAANSUhEUgAAADcAAAAQBAMAAABAXPr7AAAAMFBMVEX///+6uroyMjJERETMzMwQ\n",
       "EBAiIiKYmJju7u5mZmaqqqpUVFSIiIh2dnbc3NwAAAAWgogoAAAAAXRSTlMAQObYZgAAAMNJREFU\n",
       "GNNjYEAFDQx4gAY+SWlU7tvTr04egPN4IUyOmxcY3jcwcFxgT2dNAPI508DgJ0QN4weG80CKgecD\n",
       "lwPCIC5FEOnFmcBgDDSAgdsAxZqmQJCjWQ8w/AHxWA8gy7Hogn2zvoHlC4h+7wD2HdTOZIhPJzHw\n",
       "BDAwsD84z8CD8DrXBgitycAMZK0vMGV4gzD1EZSezSBfwMDQfLb3TgFC0g5KN5+Z/wAjhBCeuoYz\n",
       "FLkTOKJwSrJdYL6AU5LrzEQgCQAs9DJLrF+J5gAAAABJRU5ErkJggg==\n",
       "\" style=\"display:inline;vertical-align:middle;\" /></a></td></tr>\n",
       "<tr><td>2</td><td>Operation</td><td>operator:&nbsp;4<br>operands:&nbsp;5<br></td><td><a class=\"ProveItLink\" href=\"../7fabcdfac94a94d639f6a5d2f072a262670f257b0/expr.ipynb\"><img src=\"data:image/png;base64,iVBORw0KGgoAAAANSUhEUgAAADUAAAAQBAMAAABEqSrGAAAAMFBMVEX///+YmJhUVFQyMjIQEBBE\n",
       "REQiIiKqqqrMzMyIiIi6urrc3NxmZmZ2dnbu7u4AAADXeCicAAAAAXRSTlMAQObYZgAAALdJREFU\n",
       "GNNjYEABfAy4AfMD3HJcCiim3LnAsB+h+iaUXuLFPYGBl+sDw3wQ71gaCOQfAEtxB845ysDQzpPA\n",
       "EIpkTvECiJv49BgYHrBMYPiJbIcJWJJhE4iof8DxA0mu+R7EUWCzDzNwOiDsS4uDKKkFkzYMrEgO\n",
       "L4JQ7BcYmIDUIYb1AnApbgOoyTKCVkDq6czzG+ByrFDmAcYvBWDGNYSRHCihxJTA544rBNkusF7A\n",
       "Jcc+8xQuKQBgzS1BkMulYgAAAABJRU5ErkJggg==\n",
       "\" style=\"display:inline;vertical-align:middle;\" /></a></td></tr>\n",
       "<tr><td>3</td><td>ExprTuple</td><td>6, 7</td><td><a class=\"ProveItLink\" href=\"../a6a2ac9310c73e21661c7634808321702fb219240/expr.ipynb\"><img src=\"data:image/png;base64,iVBORw0KGgoAAAANSUhEUgAAACwAAAAVBAMAAADP3xFXAAAAMFBMVEX////c3NwiIiJERESqqqqY\n",
       "mJh2dnZmZmYQEBDu7u4yMjJUVFTMzMyIiIi6uroAAAAs73DqAAAAAXRSTlMAQObYZgAAAQtJREFU\n",
       "GNNjYMAB+C6gi7A+ABKnMVXWAPFKTGEuBgbeC5jCrAkMHBMwhTkbGF5hc4YJQxmQFLstch1i1rQy\n",
       "BsafDAzpDEuBehJYVTkUwMIJ7xl4PzAweDH0MTCwAZksB0CiPA5FDMwGDAwvGP4BVTNwG0DtYuhl\n",
       "4Acadx4kzMDAAXMly0+G8wdAwi0gnvwBBog72Rcw3GAAGWIKdL3AfQbeCWAJrgIGayAVBXQLg3+A\n",
       "BYMsA+cnkOoNfF8ZQA58xMAw+dq03AAGzn4BoJ221z8ChdcxcAjAQxjMYlMAex4YLLAAAuJNDDMc\n",
       "gFIXkAIWJKzGYAYkZwGxNEwY5Hbf66CY2QjEjBgBznuAAQAt5DtyKXSr1gAAAABJRU5ErkJggg==\n",
       "\" style=\"display:inline;vertical-align:middle;\" /></a></td></tr>\n",
       "<tr><td>4</td><td>Literal</td><td></td><td><a class=\"ProveItLink\" href=\"../../../packages/proveit/logic/boolean/implication/__pv_it/e5c030cabcb650938f92dee8256fe11cd12bf9b30/expr.ipynb\"><img src=\"data:image/png;base64,iVBORw0KGgoAAAANSUhEUgAAABMAAAANBAMAAAC5okgUAAAALVBMVEX////c3NxERETMzMwQEBCq\n",
       "qqoiIiJmZmaIiIh2dnZUVFS6uroyMjLu7u4AAACPpZJTAAAAAXRSTlMAQObYZgAAAD1JREFUCNdj\n",
       "YAABXgY44LkAZ3IvQAjPABFlaSCQV4AQjtkAZ/IegbNt5sLUpunC5aPgLMYDcCaTAJzJDCIA2yMN\n",
       "HCCUuIIAAAAASUVORK5CYII=\n",
       "\" style=\"display:inline;vertical-align:middle;\" /></a></td></tr>\n",
       "<tr><td>5</td><td>ExprTuple</td><td>7, 8</td><td><a class=\"ProveItLink\" href=\"../1ba9cd67f202dbea908cf31db96755ce36201b140/expr.ipynb\"><img src=\"data:image/png;base64,iVBORw0KGgoAAAANSUhEUgAAACsAAAAVBAMAAAAtAwouAAAAMFBMVEX////c3NwiIiJERESqqqqY\n",
       "mJh2dnZmZmYQEBDu7u4yMjJUVFTMzMyIiIi6uroAAAAs73DqAAAAAXRSTlMAQObYZgAAAQdJREFU\n",
       "GNNjYMAB+C6gi8SBiNMYCtkPAImVmAYsYGDgvYApHMbAwDEBU3gGA8MrLK5gdmAoY2DgTE9gkIdo\n",
       "4ut4IMvAwFbAsBRI8n1guA9RJxxbbsDAwLKAoY+B4Qi7AoMxRHgCw2ygNr4Ghn9ANscFhr9QYxk3\n",
       "AAmeDyBhBv8JPH+gws8ZIMItQKqKgbcBIsqSALa4gcEUSC1nYN7AwAkScGNgAJrCuoAhHcipZngf\n",
       "wDBfAah7aWnUA7ADHwGFJ9+tF2CY8REYSAzxIEO5HjBwCIA0JwHxQ2TPsyYwcCtwgtQEwIVzwQHL\n",
       "lMCcgCzMCQxYBmkGlrt1QJoXrpgbZC4jRoDfYWAAADdMON26mSCyAAAAAElFTkSuQmCC\n",
       "\" style=\"display:inline;vertical-align:middle;\" /></a></td></tr>\n",
       "<tr><td>6</td><td>Variable</td><td></td><td><a class=\"ProveItLink\" href=\"../../../packages/proveit/__pv_it/530be409e3083890784cf1d7b28c9e67e90af9360/expr.ipynb\"><img src=\"data:image/png;base64,iVBORw0KGgoAAAANSUhEUgAAAAsAAAAJBAMAAAAWSsseAAAAKlBMVEX///9ERETMzMwQEBAiIiKY\n",
       "mJju7u5mZmaqqqpUVFSIiIh2dnbc3NwAAAA/vyDhAAAAAXRSTlMAQObYZgAAAENJREFUCNdjYDi9\n",
       "8sTyBQxsG1hdmR0YuBm4LnAoMLAxcAowgADzAjB1VoEhgYH1wFoGrgSG3gBhhlMMDImrs3cFMAAA\n",
       "t0YN+iTRa+sAAAAASUVORK5CYII=\n",
       "\" style=\"display:inline;vertical-align:middle;\" /></a></td></tr>\n",
       "<tr><td>7</td><td>Variable</td><td></td><td><a class=\"ProveItLink\" href=\"../../../packages/proveit/__pv_it/f8b9edf8e16034727f0aad55bb83e392c3db40d40/expr.ipynb\"><img src=\"data:image/png;base64,iVBORw0KGgoAAAANSUhEUgAAAAsAAAANBAMAAACN24kIAAAAMFBMVEX///+YmJhUVFQyMjIQEBBE\n",
       "REQiIiKqqqrMzMyIiIi6urrc3NxmZmZ2dnbu7u4AAADXeCicAAAAAXRSTlMAQObYZgAAAFhJREFU\n",
       "CNdj4LtzgWH/AwZerg8M8xkY2nkSGEIZGB6wTGD4ycDAUP+A4weQOszA6QCkbBhYFYDUIYb1AkDq\n",
       "6czzGxhA4BoQMyXwuQMptgusF4AU+8xTQBIAUqMVoSp/SLMAAAAASUVORK5CYII=\n",
       "\" style=\"display:inline;vertical-align:middle;\" /></a></td></tr>\n",
       "<tr><td>8</td><td>Variable</td><td></td><td><a class=\"ProveItLink\" href=\"../../../packages/proveit/__pv_it/251502494639118b4892de8e9d720a5fcce840e10/expr.ipynb\"><img src=\"data:image/png;base64,iVBORw0KGgoAAAANSUhEUgAAAAoAAAAJBAMAAAD5iKAgAAAALVBMVEX///8yMjLMzMx2dnaqqqpU\n",
       "VFTu7u5mZmaYmJhERESIiIjc3NwQEBC6uroAAAB+iRisAAAAAXRSTlMAQObYZgAAADlJREFUCNdj\n",
       "YOA9c2EXA8POrvIJDAwJDKkJDAwM3AFAguE6iGAxAJHODAwBDEwSFY0XGNgZ+o4wAABKtAsIcBKm\n",
       "agAAAABJRU5ErkJggg==\n",
       "\" style=\"display:inline;vertical-align:middle;\" /></a></td></tr>\n",
       "</table>\n"
      ],
      "text/plain": [
       "0. (x => y , y => z , x)\n",
       "   core type: ExprTuple\n",
       "   sub-expressions: 1, 2, 6\n",
       "1. x => y\n",
       "   core type: Operation\n",
       "   operator: 4\n",
       "   operands: 3\n",
       "2. y => z\n",
       "   core type: Operation\n",
       "   operator: 4\n",
       "   operands: 5\n",
       "3. (x , y)\n",
       "   core type: ExprTuple\n",
       "   sub-expressions: 6, 7\n",
       "4. =>\n",
       "   core type: Literal\n",
       "   sub-expressions: \n",
       "5. (y , z)\n",
       "   core type: ExprTuple\n",
       "   sub-expressions: 7, 8\n",
       "6. x\n",
       "   core type: Variable\n",
       "   sub-expressions: \n",
       "7. y\n",
       "   core type: Variable\n",
       "   sub-expressions: \n",
       "8. z\n",
       "   core type: Variable\n",
       "   sub-expressions: "
      ]
     },
     "execution_count": 4,
     "metadata": {},
     "output_type": "execute_result"
    }
   ],
   "source": [
    "# display the expression information\n",
    "expr.exprInfo()"
   ]
  },
  {
   "cell_type": "code",
   "execution_count": null,
   "metadata": {},
   "outputs": [],
   "source": []
  }
 ],
 "metadata": {
  "kernelspec": {
   "display_name": "Python 3",
   "language": "python",
   "name": "python3"
  }
 },
 "nbformat": 4,
 "nbformat_minor": 0
}
