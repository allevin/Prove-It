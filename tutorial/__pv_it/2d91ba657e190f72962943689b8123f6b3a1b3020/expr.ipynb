{
 "cells": [
  {
   "cell_type": "markdown",
   "metadata": {},
   "source": [
    "Expression of type <a class=\"ProveItLink\" href=\"../../../doc/html/api/proveit.logic.Set.html\">Set</a>\n",
    "=======================\n",
    "# from context <a class=\"ProveItLink\" href=\"../../_context_.ipynb\">tutorial</a>"
   ]
  },
  {
   "cell_type": "code",
   "execution_count": 1,
   "metadata": {},
   "outputs": [],
   "source": [
    "# import Expression classes needed to build the expression\n",
    "from proveit._common_ import Px, Qx, x\n",
    "from proveit.logic import Forall, Set"
   ]
  },
  {
   "cell_type": "code",
   "execution_count": 2,
   "metadata": {},
   "outputs": [
    {
     "data": {
      "text/html": [
       "<strong id=\"expr\">expr:</strong> <a class=\"ProveItLink\" href=\"expr.ipynb\"><img src=\"data:image/png;base64,iVBORw0KGgoAAAANSUhEUgAAAJcAAAAaBAMAAABIn9NMAAAAMFBMVEX///+6urp2dnaqqqoiIiIQ\n",
       "EBBERETu7u6IiIjc3NwyMjJUVFSYmJhmZmbMzMwAAAD0pS5FAAAAAXRSTlMAQObYZgAAAp1JREFU\n",
       "OMutlU1oE0EUx//52o802eRUhCKUekh6EAJeBD8a9KDgJahQCyq9tFgRXMSKNwMeFBQbpJQWL6sX\n",
       "kYq0IMVaaWPpQU9NRUpBD0H0Ug8pHipaUd987W6WhgbNwL6Zebvzex/zZhaA9RH/3yIron9ZagEM\n",
       "Y/1MGt/RknaOiTYHsP9p+S7Zv+byooLl2eBNUwRjYWvu+SwbWVNSlazybCnYHjZ43Jw/Kfp+gKU5\n",
       "7sbj1MHGqDf7m4PVOoEeenDbVS3WwZiRZK452EgaWK7QoNdVDdfBEt0TE6NNpv0yPQtkOOS4Ki2n\n",
       "YBoLb3Nw8EiDxSZPL1y/fwL6Jks7hWpmZ/evAeGKgsWKJOaBIW99WnTX332gRN8Xk0/ynfUN+MwW\n",
       "x8vAFSyVT1P5MyeXKVXmJPukA7rnNcRWWM9g9qkJwtKCsdW1t5s7QYpOjOAwRVxgnj4BlngUURjl\n",
       "IOwLubWKSFHolDFNHZhUmhX7DDe7weRoEZHj3F45agdg+lnmOzR1cuclI++DAWdcWOIoiRtlbvcr\n",
       "yez0naoLMwocFlN6WVa1ioTF2JaYv6HLMHtKajcxNE1psWf4FwIWZaflPdaVvsMrMxEvOfHW2MAt\n",
       "csrx1xlwiLwP4akvzBRL1knGEPp1WWYqHVQPkV9awSz6S0PAeIHghx9GliO9OKD0HKav/nkhYaE8\n",
       "9AuZrrusStL1sAQzaBUsD6ZVxnPDabQrfXuwmvsaHCeZ27AT9mDm+eK+h8BVpV8MwjxFdhvYtZtr\n",
       "GV+dPXg0Z1dBJSP0K0GYewXpzjawQNECuym7Rs5/adUdWnU5tpVcWLjQEFYbsKHLiToJvjYu+3tc\n",
       "nuBOTjaExU+ROCjN73AzJY/xLvEq+GLKP0mIKyizw3/zElrc/gIhJqpyBUa88wAAAABJRU5ErkJg\n",
       "gg==\n",
       "\" style=\"display:inline;vertical-align:middle;\" /></a><br>"
      ],
      "text/plain": [
       "expr: {forall_{x | Q(x)} P(x)}"
      ]
     },
     "execution_count": 2,
     "metadata": {},
     "output_type": "execute_result"
    }
   ],
   "source": [
    "# build up the expression from sub-expressions\n",
    "expr = Set(Forall([x], Px, conditions = [Qx]))"
   ]
  },
  {
   "cell_type": "code",
   "execution_count": 3,
   "metadata": {},
   "outputs": [
    {
     "name": "stdout",
     "output_type": "stream",
     "text": [
      "Passed sanity check: built 'expr' is the same as the stored Expression.\n"
     ]
    }
   ],
   "source": [
    "# check that the built expression is the same as the stored expression\n",
    "%check_expr"
   ]
  },
  {
   "cell_type": "code",
   "execution_count": 4,
   "metadata": {},
   "outputs": [
    {
     "data": {
      "text/html": [
       "<table><tr><th>&nbsp;</th><th>core type</th><th>sub-expressions</th><th>expression</th></tr>\n",
       "<tr><td>0</td><td>Operation</td><td>operator:&nbsp;1<br>operands:&nbsp;2<br></td><td><a class=\"ProveItLink\" href=\"expr.ipynb\"><img src=\"data:image/png;base64,iVBORw0KGgoAAAANSUhEUgAAAJcAAAAaBAMAAABIn9NMAAAAMFBMVEX///+6urp2dnaqqqoiIiIQ\n",
       "EBBERETu7u6IiIjc3NwyMjJUVFSYmJhmZmbMzMwAAAD0pS5FAAAAAXRSTlMAQObYZgAAAp1JREFU\n",
       "OMutlU1oE0EUx//52o802eRUhCKUekh6EAJeBD8a9KDgJahQCyq9tFgRXMSKNwMeFBQbpJQWL6sX\n",
       "kYq0IMVaaWPpQU9NRUpBD0H0Ug8pHipaUd987W6WhgbNwL6Zebvzex/zZhaA9RH/3yIron9ZagEM\n",
       "Y/1MGt/RknaOiTYHsP9p+S7Zv+byooLl2eBNUwRjYWvu+SwbWVNSlazybCnYHjZ43Jw/Kfp+gKU5\n",
       "7sbj1MHGqDf7m4PVOoEeenDbVS3WwZiRZK452EgaWK7QoNdVDdfBEt0TE6NNpv0yPQtkOOS4Ki2n\n",
       "YBoLb3Nw8EiDxSZPL1y/fwL6Jks7hWpmZ/evAeGKgsWKJOaBIW99WnTX332gRN8Xk0/ynfUN+MwW\n",
       "x8vAFSyVT1P5MyeXKVXmJPukA7rnNcRWWM9g9qkJwtKCsdW1t5s7QYpOjOAwRVxgnj4BlngUURjl\n",
       "IOwLubWKSFHolDFNHZhUmhX7DDe7weRoEZHj3F45agdg+lnmOzR1cuclI++DAWdcWOIoiRtlbvcr\n",
       "yez0naoLMwocFlN6WVa1ioTF2JaYv6HLMHtKajcxNE1psWf4FwIWZaflPdaVvsMrMxEvOfHW2MAt\n",
       "csrx1xlwiLwP4akvzBRL1knGEPp1WWYqHVQPkV9awSz6S0PAeIHghx9GliO9OKD0HKav/nkhYaE8\n",
       "9AuZrrusStL1sAQzaBUsD6ZVxnPDabQrfXuwmvsaHCeZ27AT9mDm+eK+h8BVpV8MwjxFdhvYtZtr\n",
       "GV+dPXg0Z1dBJSP0K0GYewXpzjawQNECuym7Rs5/adUdWnU5tpVcWLjQEFYbsKHLiToJvjYu+3tc\n",
       "nuBOTjaExU+ROCjN73AzJY/xLvEq+GLKP0mIKyizw3/zElrc/gIhJqpyBUa88wAAAABJRU5ErkJg\n",
       "gg==\n",
       "\" style=\"display:inline;vertical-align:middle;\" /></a></td></tr>\n",
       "<tr><td>1</td><td>Literal</td><td></td><td><a class=\"ProveItLink\" href=\"../../../packages/proveit/logic/set_theory/enumeration/__pv_it/07381ed5b23806e8d7914b78cb6667769e3708dd0/expr.ipynb\"><img src=\"data:image/png;base64,iVBORw0KGgoAAAANSUhEUgAAAB4AAAAOBAMAAADKyLEKAAAAMFBMVEX///8iIiIQEBCIiIjMzMzc\n",
       "3Nyqqqp2dnZEREQyMjK6urru7u5mZmZUVFSYmJgAAACI6eGPAAAAAXRSTlMAQObYZgAAALRJREFU\n",
       "CNdjYGDgu3Nm3wIGBJjHwN0PZW5yYGDgLWBgyITy8zcwMMQDxZyh/INAvD6BgcEFypcB4vjPDiBm\n",
       "TPFRrhs/LjMwMP//38rAwCbKEMPA9gEkE3fp0waG+AUMRxh4JkC01T9guPTOOICBEWgVH5C//wHD\n",
       "H5D4fqCz9oCMDGD4DLaegRXslLMMDMpAgxlOMmQxHDRgYG5gYLBk4D7KcIe7gOHC2rt9QCXsh40Z\n",
       "GCKMGQDRkC8N/Ph1XAAAAABJRU5ErkJggg==\n",
       "\" style=\"display:inline;vertical-align:middle;\" /></a></td></tr>\n",
       "<tr><td>2</td><td>ExprTuple</td><td>3</td><td><a class=\"ProveItLink\" href=\"../8199c7243518af3a3c4f6473062b7f76d6f6b8a40/expr.ipynb\"><img src=\"data:image/png;base64,iVBORw0KGgoAAAANSUhEUgAAAJAAAAAaBAMAAACqQ8g1AAAAMFBMVEX///+qqqp2dnYiIiJERESI\n",
       "iIhmZmYQEBDc3NyYmJgyMjLu7u5UVFTMzMy6uroAAACGxKilAAAAAXRSTlMAQObYZgAAAq1JREFU\n",
       "OMutVUtoE0EY/vLYZpPtJvGgICjGQqSQS/AgXoQKlfYgGBERsdKg7UmRqAiVIgRtoYiHWBU82eBB\n",
       "EB8sPih4UbBClT6CHoQiJIfqqWiUHqpt1P/fndndLKQE48L8M/NN5vvfEwBf0fKXYKG/ap3oE4sX\n",
       "RutESobEW/wb02cx32GxG1BzSPPyVnOq59dmXk/XRaStRKKP5iy28/5Bc3bEikBPnhYR2w9C8NJA\n",
       "qIIRWqldzRGVKUHbOEmHbWicRqCAskXeFm+OqL8CTGRpMWxDk+xfF44A4c6xsStNhvgAjXlSGi3a\n",
       "UJC24Sre0XK5u3tng4tqyZxse38B2jKbQO6pyemNg4CfDIyuYj+hs0Cvc7diTc9PnKagXrY278WZ\n",
       "/gP4wJ5FCsAT3CicB3xknF7DPUKXoDmWwgq7/gjqkNzAL9iVtY4dnbygHFFj9GMrWZMj435jF8cc\n",
       "SsFL9JHMGYAvY2FSUXBVlgERGZgyVVbp/LtJpBQChodIu0hiAsG8AGfF/bSLCLggiciih6Y+7rrk\n",
       "XF/JJlJyJlFI4qJsyllBFOLwqzVowrWaZV3vHIXBmDJPLaIAd8BJLEh8ySkjy0eKxW2limOUenI7\n",
       "uoJDDG8ii6O473ItxsE5x/ctfEGUkQwB5dz3M5hTM1b6qY6+mYaaMV1xE5FG3zC2SNwk0gb+vBFE\n",
       "0TS0famOo1wJZKW/iBjHJcyK9JzuEAWzo/HJChYlvuit1KG6Folk0J6Q7egv+h0i9VJmw2PgqcTH\n",
       "vUQOkOTuz0OXCX12cDDlqqNrd2eMEqgsLPyMl8h+RswSu0ljr/cn8kH5QpFU4q5Hp74J5cPWzqW2\n",
       "h8bVRkTlHgOa2MgKd32jYj7OMeby8iUaEEXOktgs1K7/uIyY8roHrft7ClvPSGp9olP4f99f6yqn\n",
       "1OH7OjsAAAAASUVORK5CYII=\n",
       "\" style=\"display:inline;vertical-align:middle;\" /></a></td></tr>\n",
       "<tr><td>3</td><td>Operation</td><td>operator:&nbsp;4<br>operand:&nbsp;5<br></td><td><a class=\"ProveItLink\" href=\"../388b2a6d7ede43340aff64412a75633c2c726c6e0/expr.ipynb\"><img src=\"data:image/png;base64,iVBORw0KGgoAAAANSUhEUgAAAIEAAAAXBAMAAADesTE9AAAAMFBMVEX///8QEBC6urrMzMxUVFRm\n",
       "ZmZERETc3NwyMjKqqqp2dnaIiIiYmJgiIiLu7u4AAAAU9Wx4AAAAAXRSTlMAQObYZgAAAjdJREFU\n",
       "OMulVD9IG1Ec/pJr7pJccgY6BKuVDOrikoKDCCUSRYciBikOlUJddOhgBlGoFIJuIiWgHURBF5Ea\n",
       "CIG6iKKhi2ApZu50Lh1aCkLFShHt79177+56ELnqwd37ve/4fb9/33vAvR/zTl4dYv1Eb40Zn325\n",
       "6UPnfYMDzFJ6BBRKAx+Y8c5f5IYCMJYnI2xnTsg0LdorfwyZDWCdXuzZ0DGnCxX9MRymgJMcGS02\n",
       "dArEtmZm3vrs3yS9QxQtWLAhlbYX4+Nf63hoaWuxM7wEjAvWP6pEKw2sjgJRSqkXmHCcUnz58eI5\n",
       "dewN33SLf8of4CkrIlwFvuNL9TEQoXRaYThJgfdUmYeWlBtEBa1+vr25xYwAARs4xBIVlADi0Kte\n",
       "hieUwAgiFY7JCOq1nGqKKbHfinVGzNW46WEwmulzAjUvwF7hWHMxAE2SwSh0klXK7qRtBj1hMQQk\n",
       "LsafyQmGAOut9gsGrwITWSrV7LdgzhBnon2JLom3OnLg5VDZR/oZDkgMrML3lFwQi64qGlgDHjFH\n",
       "jncJOchqaYSRKzWhVfg0EbAa9tvNQDEiLViWuMVgjNw8EwzBGozX5e19NliWV4xRKwnFYVBzs8XT\n",
       "FNol3u6VWtKtatGkaCHqMGgPKytzwE+JH3sZHKAkjW+7o2WXHqYW+sw0aMocH/Yy2KfbLcZ/FAW0\n",
       "UZv0onMJeA6MvGEe5OsyZMZMGGIjtel6ZsX6EXUZwo30WROB/usK7XFvYvx0l2/1+AtKHIIOJzuX\n",
       "rwAAAABJRU5ErkJggg==\n",
       "\" style=\"display:inline;vertical-align:middle;\" /></a></td></tr>\n",
       "<tr><td>4</td><td>Literal</td><td></td><td><a class=\"ProveItLink\" href=\"../../../packages/proveit/logic/boolean/quantification/universal/__pv_it/265f8c02ac1094d56e0e6410a1c1fd3500dc9f540/expr.ipynb\"><img src=\"data:image/png;base64,iVBORw0KGgoAAAANSUhEUgAAAAwAAAAQBAMAAADQT4M0AAAAMFBMVEX///8QEBC6urrMzMxUVFRm\n",
       "ZmZERETc3NwyMjKqqqp2dnaIiIiYmJgiIiLu7u4AAAAU9Wx4AAAAAXRSTlMAQObYZgAAAFhJREFU\n",
       "CNdjeMAABhdAxGmGlSCqj6EMSLInMHAAJVknMPAsLy+vBYp8S0u7BaScGRjSgZQKA18DkOJl4D4A\n",
       "pLgP8IJM4mswARuX7gSmpoKNZWDcAKZ4gCoAgTQTILaSE58AAAAASUVORK5CYII=\n",
       "\" style=\"display:inline;vertical-align:middle;\" /></a></td></tr>\n",
       "<tr><td>5</td><td>Lambda</td><td>parameter:&nbsp;11<br>body:&nbsp;6<br>conditions:&nbsp;7<br></td><td><a class=\"ProveItLink\" href=\"../66a073c6ffa60e82b679d7973b0705c4caf215460/expr.ipynb\"><img src=\"data:image/png;base64,iVBORw0KGgoAAAANSUhEUgAAAKEAAAAVCAMAAAAZ1H7nAAAANlBMVEX///+6uroUFBQNDQ0yMjJE\n",
       "RETMzMwQEBAiIiKYmJju7u5mZmaqqqpUVFSIiIh2dnbc3NwAAACltDI1AAAAAXRSTlMAQObYZgAA\n",
       "AeVJREFUSMfFlll2hCAQRSFhnora/2aDQ4sgAnpykvrBbvHyqAkI+Stzkfyj0VD+1vQ6B+ivYMYW\n",
       "PKJPpnz2ifD1LCuGCiNYAH/WNIWZMWTrwOUhkZnLJDZSCGxd3av87RRmwgTCllf7mNwarrM0dBUa\n",
       "xvcneThuDjMTZtyW0mg/i1z3TozsKmTqCCSaR5gJ47iNHt2e381QcNdRaPFIMNg33MNECD66YEM7\n",
       "+M4109DgJ04WPql/5oC9VxiPbxeFboQx6Y1WmsjD8apEe9NIQ6EOBUxvkkuOY/cKLepTSMQIA2tu\n",
       "pWdxo9D4WKShB0iNIv8nt6UrDpX3ChXmTaMcYpbJnp9Z31+qMIn0nIZ1Qu9vK47Ae4WY1eeO0MfI\n",
       "otArHxJ/rkJUpK2w4nQVZgY7KriLiWsumBuFNhZpWFcAkS5XQOb0oswwu1CMMTqucSfhRqEIrW54\n",
       "bghbilcc3akUlyAxBEGEpGOMS3XFk9CYhZS93VTd8NJXt75Sc3rdhoBaShYcjxMYwwMYgKAnmrWx\n",
       "PF0b6sOJrj6vOYz2zhTqGQS1xFU8xLwyGR+fels8kjotHmJeWet4hzCh0BZH3RzmnV2vTWZ4+1pP\n",
       "dizqbgrzzuLl6unjhEIhpX6MeSuxCkZo3I0DfYf5Aat2F2VUKUO/AAAAAElFTkSuQmCC\n",
       "\" style=\"display:inline;vertical-align:middle;\" /></a></td></tr>\n",
       "<tr><td>6</td><td>Operation</td><td>operator:&nbsp;8<br>operand:&nbsp;11<br></td><td><a class=\"ProveItLink\" href=\"../../../packages/proveit/__pv_it/8c735c381b4cbf3c87e86ca2468da4e5c976f9b00/expr.ipynb\"><img src=\"data:image/png;base64,iVBORw0KGgoAAAANSUhEUgAAAC4AAAAVBAMAAADLKsFqAAAAMFBMVEX////u7u5mZmaYmJi6urqq\n",
       "qqp2dnbMzMwQEBBEREQyMjLc3NwiIiJUVFSIiIgAAAAeC3ydAAAAAXRSTlMAQObYZgAAAQlJREFU\n",
       "GNNjYCACsDyA0MwOIPLt/7t3z24AsWphCtTB5C8GBs5uEGMhTJwLRLB/Y2BgBWIGvgcwceYEEPcL\n",
       "kPEJyOAQgIkzNgAJzg8MDLxfgQwvhAumAjH/AgYG+QlAhhoQb3u79RHQuCQgsz6Bgf0QSNFioAEJ\n",
       "zIc5DjAwRAG576+lqYGd2cLAwMbA94G1gIHBA8idD7MOaD8jAy/IRIZ6IP7DgBAHOuoBVJz9E0y8\n",
       "FUTsL2AQAJvD9wUmPhnojw3vGfiA4lZA53+EiQMdF28wg2EfmCk0/y/M+z4MDJLPxPIMgMwlyMHM\n",
       "sQElHBhQQgsM2B6gxAs8nKVQ42svjHEbVZwbqp2vgAEAALg9cr1t3EsAAAAASUVORK5CYII=\n",
       "\" style=\"display:inline;vertical-align:middle;\" /></a></td></tr>\n",
       "<tr><td>7</td><td>ExprTuple</td><td>9</td><td><a class=\"ProveItLink\" href=\"../391c07dca19d75c8ff66d450f9282cbcf4bcd79c0/expr.ipynb\"><img src=\"data:image/png;base64,iVBORw0KGgoAAAANSUhEUgAAADwAAAAVBAMAAADocZC/AAAAMFBMVEX////c3NwiIiJERESqqqqY\n",
       "mJh2dnZmZmYQEBDu7u4yMjJUVFTMzMyIiIi6uroAAAAs73DqAAAAAXRSTlMAQObYZgAAAVNJREFU\n",
       "KM+Fkr9Lw0AUx7/RJibV1AziUkQH3RUUHfwLXNpZHIoIDtI1k6CDrhIQOjgJIiiIaEcXMxY6mEkH\n",
       "EcVJOhXUQZDo990PiiL44HO8b753997dBfgnStlfyn3SoC1qNN7Q39t23qbhlHhnQDOBUSqKmpCr\n",
       "giPm/gW0MrvXFD4XFSeoBz5kTmLtYFvRYbqVSoGcQ6fX5KwiBpxXkd4bh1javB+5Y411CMfc9l3s\n",
       "/k8OVEHNnfJZbQnCHtAnVTHMYqI8hN0Cq71AyI2BClsVFWBwWvSNQmxpHCeJttl+1rN3eK4us4KU\n",
       "FgWMp0js5nN0cuchbckFi3KjR4S0lyFI/6sNrM2ow1JVqgsYgz3YszzTVX0SQ2JT7d826lWm5wo/\n",
       "UssWsaK6in5dqlw9Y750aB9Ch5dp9BNef6nWeg96YCgr1drVX8vWvjQ4P34mq8JU8Q0x71wzGFfP\n",
       "FwAAAABJRU5ErkJggg==\n",
       "\" style=\"display:inline;vertical-align:middle;\" /></a></td></tr>\n",
       "<tr><td>8</td><td>Variable</td><td></td><td><a class=\"ProveItLink\" href=\"../../../packages/proveit/__pv_it/6369c6c8083c513ca7161ace249642d040f9327d0/expr.ipynb\"><img src=\"data:image/png;base64,iVBORw0KGgoAAAANSUhEUgAAABAAAAAOBAMAAADUAYG5AAAAMFBMVEX////u7u5mZmaYmJi6urqq\n",
       "qqp2dnbMzMwQEBBEREQyMjLc3NwiIiJUVFSIiIgAAAAeC3ydAAAAAXRSTlMAQObYZgAAAGBJREFU\n",
       "CNdjYGB4+//u3bMbGIDgFwMDZzeQZv/GwMAKxAx8XxgYmD8BGZwfGBh4vwIZ/AsYGOQnABn1CQzs\n",
       "h0Ca3l9LUwPrni/AAAF/oDT7JygDZAwYcH6E0ELz/z4A0QBnpRnRyxnfJQAAAABJRU5ErkJggg==\n",
       "\" style=\"display:inline;vertical-align:middle;\" /></a></td></tr>\n",
       "<tr><td>9</td><td>Operation</td><td>operator:&nbsp;10<br>operand:&nbsp;11<br></td><td><a class=\"ProveItLink\" href=\"../../../packages/proveit/__pv_it/050bcffbb388a0b365dac8afc3d37833b4bb47300/expr.ipynb\"><img src=\"data:image/png;base64,iVBORw0KGgoAAAANSUhEUgAAAC0AAAAVBAMAAAAgHXppAAAAMFBMVEX///+YmJiqqqq6uroQEBBE\n",
       "RETu7u4iIiLMzMwyMjKIiIhUVFRmZmZ2dnbc3NwAAADS0us6AAAAAXRSTlMAQObYZgAAASNJREFU\n",
       "GNNjYCACWEFpYTDJd+fuLjCDYwNUnKcBRN5sYOAuAzE4E2AaJwBxZgCQ8AbxVsENlAXi6SDGeZBS\n",
       "N7h4CtCsHyDGfQMGBuYJcHFWBYb3AWBxBaCKC0A33NqndYqBgfcAw3kBkHg80AWcQFYug7iAOwMD\n",
       "0wSGerAjvgAxC9CsCwzrGTSARjqARRiY/gIJfqB4AsNWsE8+MHwHu9wNKs7A4AUVnw+i9UEeZFEA\n",
       "ef4HAxvYHH2DVys4nMGOA9orx/WBYRkDA+MEBt6yC7yqD0DiQMcxfWR14FsAZjJYz12uwAAyh7mA\n",
       "gS3q2t2FIPvAVrE2MIID0A85HEDiByzhoQUBt8Ak9//PDCjhzAYJKQ4XAUgEweKF+wFqPL6C0isY\n",
       "GABRcT+tFx/ALwAAAABJRU5ErkJggg==\n",
       "\" style=\"display:inline;vertical-align:middle;\" /></a></td></tr>\n",
       "<tr><td>10</td><td>Variable</td><td></td><td><a class=\"ProveItLink\" href=\"../../../packages/proveit/__pv_it/98124f92e6e1fc3772af50ac63eaa1f5624776f20/expr.ipynb\"><img src=\"data:image/png;base64,iVBORw0KGgoAAAANSUhEUgAAAA8AAAASBAMAAAB2sJk8AAAAMFBMVEX///+YmJiqqqq6uroQEBBE\n",
       "RETu7u4iIiLMzMwyMjKIiIhUVFRmZmZ2dnbc3NwAAADS0us6AAAAAXRSTlMAQObYZgAAAHxJREFU\n",
       "CNdjYGDgu3N3FwMI3Gxg4C4D0pkBQMIbiKeDRM8nMPD8ADHuGzC8DwAzFBjOC4AY8Q0M9Qkgxhcw\n",
       "YmBg+svA8B3E4HRjYJgPYug3ALHBqxUczkAOb9kFXtUHIGHrucsVGBrAtrI2MEIZByzBNAP3/88Q\n",
       "BocL0BoActoerD1tNT4AAAAASUVORK5CYII=\n",
       "\" style=\"display:inline;vertical-align:middle;\" /></a></td></tr>\n",
       "<tr><td>11</td><td>Variable</td><td></td><td><a class=\"ProveItLink\" href=\"../../../packages/proveit/__pv_it/530be409e3083890784cf1d7b28c9e67e90af9360/expr.ipynb\"><img src=\"data:image/png;base64,iVBORw0KGgoAAAANSUhEUgAAAAsAAAAJBAMAAAAWSsseAAAAKlBMVEX///9ERETMzMwQEBAiIiKY\n",
       "mJju7u5mZmaqqqpUVFSIiIh2dnbc3NwAAAA/vyDhAAAAAXRSTlMAQObYZgAAAENJREFUCNdjYDi9\n",
       "8sTyBQxsG1hdmR0YuBm4LnAoMLAxcAowgADzAjB1VoEhgYH1wFoGrgSG3gBhhlMMDImrs3cFMAAA\n",
       "t0YN+iTRa+sAAAAASUVORK5CYII=\n",
       "\" style=\"display:inline;vertical-align:middle;\" /></a></td></tr>\n",
       "</table>\n"
      ],
      "text/plain": [
       "0. {forall_{x | Q(x)} P(x)}\n",
       "   core type: Operation\n",
       "   operator: 1\n",
       "   operands: 2\n",
       "1. Set\n",
       "   core type: Literal\n",
       "   sub-expressions: \n",
       "2. (forall_{x | Q(x)} P(x))\n",
       "   core type: ExprTuple\n",
       "   sub-expressions: 3\n",
       "3. forall_{x | Q(x)} P(x)\n",
       "   core type: Operation\n",
       "   operator: 4\n",
       "   operand: 5\n",
       "4. forall\n",
       "   core type: Literal\n",
       "   sub-expressions: \n",
       "5. x -> P(x) | Q(x)\n",
       "   core type: Lambda\n",
       "   parameter: 11\n",
       "   body: 6\n",
       "   conditions: 7\\n6. P(x)\n",
       "   core type: Operation\n",
       "   operator: 8\n",
       "   operand: 11\n",
       "7. (Q(x))\n",
       "   core type: ExprTuple\n",
       "   sub-expressions: 9\n",
       "8. P\n",
       "   core type: Variable\n",
       "   sub-expressions: \n",
       "9. Q(x)\n",
       "   core type: Operation\n",
       "   operator: 10\n",
       "   operand: 11\n",
       "10. Q\n",
       "    core type: Variable\n",
       "    sub-expressions: \n",
       "11. x\n",
       "    core type: Variable\n",
       "    sub-expressions: "
      ]
     },
     "execution_count": 4,
     "metadata": {},
     "output_type": "execute_result"
    }
   ],
   "source": [
    "# display the expression information\n",
    "expr.exprInfo()"
   ]
  },
  {
   "cell_type": "code",
   "execution_count": null,
   "metadata": {},
   "outputs": [],
   "source": []
  }
 ],
 "metadata": {
  "kernelspec": {
   "display_name": "Python 3",
   "language": "python",
   "name": "python3"
  }
 },
 "nbformat": 4,
 "nbformat_minor": 0
}
