{
 "cells": [
  {
   "cell_type": "markdown",
   "metadata": {},
   "source": [
    "Expression of type <a class=\"ProveItLink\" href=\"../../../doc/html/api/proveit.logic.Equals.html\">Equals</a>\n",
    "=======================\n",
    "# from context <a class=\"ProveItLink\" href=\"../../_context_.ipynb\">tutorial</a>"
   ]
  },
  {
   "cell_type": "code",
   "execution_count": 1,
   "metadata": {},
   "outputs": [],
   "source": [
    "# import Expression classes needed to build the expression\n",
    "from proveit import Function\n",
    "from proveit._common_ import g, x, y\n",
    "from proveit.logic import Equals"
   ]
  },
  {
   "cell_type": "code",
   "execution_count": 2,
   "metadata": {},
   "outputs": [
    {
     "data": {
      "text/html": [
       "<strong id=\"expr\">expr:</strong> <a class=\"ProveItLink\" href=\"expr.ipynb\"><img src=\"data:image/png;base64,iVBORw0KGgoAAAANSUhEUgAAAG0AAAAVBAMAAAC+p33JAAAAMFBMVEX///8yMjK6uroiIiLMzMwQ\n",
       "EBCqqqru7u7c3NxUVFRERER2dnaIiIhmZmaYmJgAAAAgbmjVAAAAAXRSTlMAQObYZgAAAbFJREFU\n",
       "OMulkz9Iw0AYxV9r27RpGquLk6KIg5MBd+kkOFkcBDddXRoHl7pkEkShHd100UFQAq4tZHCRRuq/\n",
       "RQRbHRWxiNQOCn65NL1rNDp40OTj3e/lvr67A/47wpb7Vof/RB5EccYrrgN9HpLKCOKAV4QCfR0k\n",
       "zTXF8irVDLBx5ImLUd2rpGyAjyOrXBzh5X6AjyPyIj2eK4/0vKXf5un6GfVS/uboIFLZREFH8pzC\n",
       "KcY/SRwi0VSnohqwxDLrY6PI6g6SDDdQBWIUzIuOJolzJEJpxCjiMf9yHJlOaTigjaQIFhBpkfhK\n",
       "6yGx62Czfh9H9KiFDyDSQKwJRXNFSsz6ySciOT3yxnxKCzL9S8w7RCEDvd1napINpwERuYCSZX2q\n",
       "DfQ6qR7RhhtVKOS7960nIBiETFGpaUjv2DHAws/V97CF7/sgILjBRB1sH8btK2dyFMhX1kokot+f\n",
       "C0eQt2v0iRC7M4csEuO3cyYgx+45C0Nqdp/mpOW/dhxJaJKTTgmoGYli9yVZ8S8mID2mTN+X6Lgs\n",
       "23fu7IaHbft9AhKzL+mdMITZeLs9JRN4bz3kBPgCWh57NzzSuxgAAAAASUVORK5CYII=\n",
       "\" style=\"display:inline;vertical-align:middle;\" /></a><br>"
      ],
      "text/plain": [
       "expr: g(x) = g(y)"
      ]
     },
     "execution_count": 2,
     "metadata": {},
     "output_type": "execute_result"
    }
   ],
   "source": [
    "# build up the expression from sub-expressions\n",
    "expr = Equals(Function(g, x), Function(g, y))"
   ]
  },
  {
   "cell_type": "code",
   "execution_count": 3,
   "metadata": {},
   "outputs": [
    {
     "name": "stdout",
     "output_type": "stream",
     "text": [
      "Passed sanity check: built 'expr' is the same as the stored Expression.\n"
     ]
    }
   ],
   "source": [
    "# check that the built expression is the same as the stored expression\n",
    "%check_expr"
   ]
  },
  {
   "cell_type": "code",
   "execution_count": 4,
   "metadata": {},
   "outputs": [
    {
     "data": {
      "text/html": [
       "<table><tr><th>&nbsp;</th><th>core type</th><th>sub-expressions</th><th>expression</th></tr>\n",
       "<tr><td>0</td><td>Operation</td><td>operator:&nbsp;1<br>operands:&nbsp;2<br></td><td><a class=\"ProveItLink\" href=\"expr.ipynb\"><img src=\"data:image/png;base64,iVBORw0KGgoAAAANSUhEUgAAAG0AAAAVBAMAAAC+p33JAAAAMFBMVEX///8yMjK6uroiIiLMzMwQ\n",
       "EBCqqqru7u7c3NxUVFRERER2dnaIiIhmZmaYmJgAAAAgbmjVAAAAAXRSTlMAQObYZgAAAbFJREFU\n",
       "OMulkz9Iw0AYxV9r27RpGquLk6KIg5MBd+kkOFkcBDddXRoHl7pkEkShHd100UFQAq4tZHCRRuq/\n",
       "RQRbHRWxiNQOCn65NL1rNDp40OTj3e/lvr67A/47wpb7Vof/RB5EccYrrgN9HpLKCOKAV4QCfR0k\n",
       "zTXF8irVDLBx5ImLUd2rpGyAjyOrXBzh5X6AjyPyIj2eK4/0vKXf5un6GfVS/uboIFLZREFH8pzC\n",
       "KcY/SRwi0VSnohqwxDLrY6PI6g6SDDdQBWIUzIuOJolzJEJpxCjiMf9yHJlOaTigjaQIFhBpkfhK\n",
       "6yGx62Czfh9H9KiFDyDSQKwJRXNFSsz6ySciOT3yxnxKCzL9S8w7RCEDvd1napINpwERuYCSZX2q\n",
       "DfQ6qR7RhhtVKOS7960nIBiETFGpaUjv2DHAws/V97CF7/sgILjBRB1sH8btK2dyFMhX1kokot+f\n",
       "C0eQt2v0iRC7M4csEuO3cyYgx+45C0Nqdp/mpOW/dhxJaJKTTgmoGYli9yVZ8S8mID2mTN+X6Lgs\n",
       "23fu7IaHbft9AhKzL+mdMITZeLs9JRN4bz3kBPgCWh57NzzSuxgAAAAASUVORK5CYII=\n",
       "\" style=\"display:inline;vertical-align:middle;\" /></a></td></tr>\n",
       "<tr><td>1</td><td>Literal</td><td></td><td><a class=\"ProveItLink\" href=\"../../../packages/proveit/logic/equality/__pv_it/2fb26078095930560931daa0500ce419a39ea6cd0/expr.ipynb\"><img src=\"data:image/png;base64,iVBORw0KGgoAAAANSUhEUgAAAA4AAAAFBAMAAACHocAhAAAAFVBMVEX///9EREQiIiJUVFQyMjJm\n",
       "ZmYAAADubVkoAAAAAXRSTlMAQObYZgAAABRJREFUCNdjCHEBAWcGXCBICQQUAUpuAwlgGKrkAAAA\n",
       "AElFTkSuQmCC\n",
       "\" style=\"display:inline;vertical-align:middle;\" /></a></td></tr>\n",
       "<tr><td>2</td><td>ExprTuple</td><td>3, 4</td><td><a class=\"ProveItLink\" href=\"../d7c2922724b7711a2cef7811c9af60b8851bb4d80/expr.ipynb\"><img src=\"data:image/png;base64,iVBORw0KGgoAAAANSUhEUgAAAGwAAAAVBAMAAABRZRb3AAAAMFBMVEX////c3NwiIiJERESqqqqY\n",
       "mJh2dnZmZmYQEBDu7u4yMjJUVFTMzMyIiIi6uroAAAAs73DqAAAAAXRSTlMAQObYZgAAAghJREFU\n",
       "OMudVD1oU1EYPSG/L8l7eYO4lNIsOmeoPyCFgFuhNCBU6NIspZMQCnZRUcFFRHlQKMUlXRy6lFdX\n",
       "EbN3SHDoEyT01akoYgMRySKe776f+5K3Gfi+e8j5zr3nfvfeB/znzxqkYN5Pl/3UlKJPNBXDxylV\n",
       "1U1QEoeai2E5JSs7CYphao8a5tuzsmGSYpScmNLQeDYre5mkGN81lYCLs307mKIWsSPw/uk9ZoFX\n",
       "v17x6HUrrso/2WwARVrb20FmElBbeMdcdDN/OBAa7fy1Uh1YjmWPsNBhE1pA+xfMy4BaxhvmDQdj\n",
       "DoQFMrkecBEvNkGtyW37qDa3kW0E1AX+Mr9CdcSB0EClIdX9uE0u+jZQ80m9Rm0QUH2pzY1h1gMZ\n",
       "6wZTstUmPkPJkJug34tkL3heI2TpXyCw0IOTMHlm45ZMRqPFA3xBZPIG/V8q/wraZzApW5cTEtkG\n",
       "1LazbEm5gzsIqHXppzHBJ1u1Faut25gPILpivOtUZNuFjvTb+o3oAL4x/xhuy8yEu6d7Dzgxjhj7\n",
       "Um999ERtMRlL3iikjlCSdZT/EOrLda6w2jaeSyrU48vFa2nBGE9f4IJqpyzroyvbxhrwHvvNgJI4\n",
       "xFO74k4/nLcIZcURPkQP5zpuhpTEHO4OHwbVc5HsWL0jRm7Ja6l/Mi5WPD+kJDL6wUXQ7KU/CvOa\n",
       "YvwD6xePyY68ZlIAAAAASUVORK5CYII=\n",
       "\" style=\"display:inline;vertical-align:middle;\" /></a></td></tr>\n",
       "<tr><td>3</td><td>Operation</td><td>operator:&nbsp;6<br>operand:&nbsp;5<br></td><td><a class=\"ProveItLink\" href=\"../da9d37deb27ad93409c8797000937c472d82d0c90/expr.ipynb\"><img src=\"data:image/png;base64,iVBORw0KGgoAAAANSUhEUgAAACgAAAAVBAMAAADGNLEtAAAAMFBMVEX///8yMjK6uroiIiLMzMwQ\n",
       "EBCqqqru7u7c3NxUVFRERER2dnaIiIhmZmaYmJgAAAAgbmjVAAAAAXRSTlMAQObYZgAAAPlJREFU\n",
       "GNNjYMALmA5AaD4FJEFPGOMKkqA4jMGIEOM5AGPxbYALshbAWOwBcEFFhKZlQPz29CsgeRuIu0+2\n",
       "nQWaspeBgXcCx1+ggBxQ3wY+O1YDBoZEBob3BQzfgIJBDAzcDDwf2BwYGFQZGCIZWH4ABT8BVTJw\n",
       "LgCZ6c/A9o2BxwAiCHTCAYggzw8GrgtAVhiI2+/AUADSzveBgT8ByF8HdHXDeQYeoOBDBvbvDPMb\n",
       "GMDuyH+wlKEHwtQ8cxmkU5mBoep09Z4HQKYQiL8WbEcDkjeZGNi/oQYD9wGG+w2cE1CDrpCBIevM\n",
       "PQi7EyY4AymQOaAByuPAAADpfDmRy2jJwwAAAABJRU5ErkJggg==\n",
       "\" style=\"display:inline;vertical-align:middle;\" /></a></td></tr>\n",
       "<tr><td>4</td><td>Operation</td><td>operator:&nbsp;6<br>operand:&nbsp;7<br></td><td><a class=\"ProveItLink\" href=\"../8f8b469742d846f3e5be0a2c436c6ddea48d34100/expr.ipynb\"><img src=\"data:image/png;base64,iVBORw0KGgoAAAANSUhEUgAAACcAAAAVBAMAAAA3P+qgAAAAMFBMVEX///8yMjK6uroiIiLMzMwQ\n",
       "EBCqqqru7u7c3NxUVFRERER2dnaIiIhmZmaYmJgAAAAgbmjVAAAAAXRSTlMAQObYZgAAAQ5JREFU\n",
       "GNN9kDtLw1AUx3/GNGnSNO3mpChOTuYjOAluxUFwc3bxLi5OWZ3MN3AXlICrhQxuBnxNIlhxtIhB\n",
       "pHZQ8Nw8TCYvnMf93cf5nwP/LiMp4ksTbpSxu9aAc1XSr5mXVNm4hi1VZfs1XPrL3B1xb1ev4h/B\n",
       "HsYcKTo3Ui1q/whcgI6RcQ2WVHpXTARuwno34EQED2AbcyrwA1Qr4RvMDGuCFxSQPWV+5tCb4srP\n",
       "bInd4g3y535GT2s4E5vHjcDvY39xHAoYij2w+kwuaSW915KXxQ7SkZzPLOr9ad6mvs550aaBrWXi\n",
       "xziBrctdwCh0onJ0s7EbS7PS0G76VMzhECu9k+iEjSG3y4Fewi8w1j7FJ9sdaAAAAABJRU5ErkJg\n",
       "gg==\n",
       "\" style=\"display:inline;vertical-align:middle;\" /></a></td></tr>\n",
       "<tr><td>5</td><td>Variable</td><td></td><td><a class=\"ProveItLink\" href=\"../../../packages/proveit/__pv_it/530be409e3083890784cf1d7b28c9e67e90af9360/expr.ipynb\"><img src=\"data:image/png;base64,iVBORw0KGgoAAAANSUhEUgAAAAsAAAAJBAMAAAAWSsseAAAAKlBMVEX///9ERETMzMwQEBAiIiKY\n",
       "mJju7u5mZmaqqqpUVFSIiIh2dnbc3NwAAAA/vyDhAAAAAXRSTlMAQObYZgAAAENJREFUCNdjYDi9\n",
       "8sTyBQxsG1hdmR0YuBm4LnAoMLAxcAowgADzAjB1VoEhgYH1wFoGrgSG3gBhhlMMDImrs3cFMAAA\n",
       "t0YN+iTRa+sAAAAASUVORK5CYII=\n",
       "\" style=\"display:inline;vertical-align:middle;\" /></a></td></tr>\n",
       "<tr><td>6</td><td>Variable</td><td></td><td><a class=\"ProveItLink\" href=\"../../../packages/proveit/__pv_it/b5004dd09038f1a7d88dab9010b943185ce1d3ea0/expr.ipynb\"><img src=\"data:image/png;base64,iVBORw0KGgoAAAANSUhEUgAAAAoAAAANBAMAAABiGeI2AAAALVBMVEX///+6uroiIiLMzMwQEBCq\n",
       "qqru7u7c3NxUVFRERER2dnaIiIhmZmaYmJgAAABs7E5IAAAAAXRSTlMAQObYZgAAAFRJREFUCNdj\n",
       "YGC4s+smAwNPA/sbBoZ7CQxPGRg8GJifM7A+ZeBWYOB+zsB5gIH3AQNfAAPbM4a+AgYGid2HGEBg\n",
       "DgMDIwMbUPm5Ao4GBobI3WcZGAA0kxQNEIuRVgAAAABJRU5ErkJggg==\n",
       "\" style=\"display:inline;vertical-align:middle;\" /></a></td></tr>\n",
       "<tr><td>7</td><td>Variable</td><td></td><td><a class=\"ProveItLink\" href=\"../../../packages/proveit/__pv_it/f8b9edf8e16034727f0aad55bb83e392c3db40d40/expr.ipynb\"><img src=\"data:image/png;base64,iVBORw0KGgoAAAANSUhEUgAAAAsAAAANBAMAAACN24kIAAAAMFBMVEX///+YmJhUVFQyMjIQEBBE\n",
       "REQiIiKqqqrMzMyIiIi6urrc3NxmZmZ2dnbu7u4AAADXeCicAAAAAXRSTlMAQObYZgAAAFhJREFU\n",
       "CNdj4LtzgWH/AwZerg8M8xkY2nkSGEIZGB6wTGD4ycDAUP+A4weQOszA6QCkbBhYFYDUIYb1AkDq\n",
       "6czzGxhA4BoQMyXwuQMptgusF4AU+8xTQBIAUqMVoSp/SLMAAAAASUVORK5CYII=\n",
       "\" style=\"display:inline;vertical-align:middle;\" /></a></td></tr>\n",
       "</table>\n"
      ],
      "text/plain": [
       "0. g(x) = g(y)\n",
       "   core type: Operation\n",
       "   operator: 1\n",
       "   operands: 2\n",
       "1. =\n",
       "   core type: Literal\n",
       "   sub-expressions: \n",
       "2. (g(x) , g(y))\n",
       "   core type: ExprTuple\n",
       "   sub-expressions: 3, 4\n",
       "3. g(x)\n",
       "   core type: Operation\n",
       "   operator: 6\n",
       "   operand: 5\n",
       "4. g(y)\n",
       "   core type: Operation\n",
       "   operator: 6\n",
       "   operand: 7\n",
       "5. x\n",
       "   core type: Variable\n",
       "   sub-expressions: \n",
       "6. g\n",
       "   core type: Variable\n",
       "   sub-expressions: \n",
       "7. y\n",
       "   core type: Variable\n",
       "   sub-expressions: "
      ]
     },
     "execution_count": 4,
     "metadata": {},
     "output_type": "execute_result"
    }
   ],
   "source": [
    "# display the expression information\n",
    "expr.exprInfo()"
   ]
  },
  {
   "cell_type": "code",
   "execution_count": null,
   "metadata": {},
   "outputs": [],
   "source": []
  }
 ],
 "metadata": {
  "kernelspec": {
   "display_name": "Python 3",
   "language": "python",
   "name": "python3"
  }
 },
 "nbformat": 4,
 "nbformat_minor": 0
}
