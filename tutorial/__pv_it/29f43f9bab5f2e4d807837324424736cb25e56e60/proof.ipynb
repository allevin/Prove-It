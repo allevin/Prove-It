{
 "cells": [
  {
   "cell_type": "markdown",
   "metadata": {},
   "source": [
    "Show the Proof\n",
    "========"
   ]
  },
  {
   "cell_type": "code",
   "execution_count": 1,
   "metadata": {},
   "outputs": [
    {
     "data": {
      "text/html": [
       "<table><tr><th>&nbsp;</th><th>step type</th><th>requirements</th><th>statement</th></tr>\n",
       "<tr><td>0</td><td>assumption</td><td></td><td><span style=\"font-size:20px;\"><a class=\"ProveItLink\" href=\"../2d91ba657e190f72962943689b8123f6b3a1b3020/expr.ipynb\"><img src=\"data:image/png;base64,iVBORw0KGgoAAAANSUhEUgAAAJcAAAAaBAMAAABIn9NMAAAAMFBMVEX///+6urp2dnaqqqoiIiIQ\n",
       "EBBERETu7u6IiIjc3NwyMjJUVFSYmJhmZmbMzMwAAAD0pS5FAAAAAXRSTlMAQObYZgAAAp1JREFU\n",
       "OMutlU1oE0EUx//52o802eRUhCKUekh6EAJeBD8a9KDgJahQCyq9tFgRXMSKNwMeFBQbpJQWL6sX\n",
       "kYq0IMVaaWPpQU9NRUpBD0H0Ug8pHipaUd987W6WhgbNwL6Zebvzex/zZhaA9RH/3yIron9ZagEM\n",
       "Y/1MGt/RknaOiTYHsP9p+S7Zv+byooLl2eBNUwRjYWvu+SwbWVNSlazybCnYHjZ43Jw/Kfp+gKU5\n",
       "7sbj1MHGqDf7m4PVOoEeenDbVS3WwZiRZK452EgaWK7QoNdVDdfBEt0TE6NNpv0yPQtkOOS4Ki2n\n",
       "YBoLb3Nw8EiDxSZPL1y/fwL6Jks7hWpmZ/evAeGKgsWKJOaBIW99WnTX332gRN8Xk0/ynfUN+MwW\n",
       "x8vAFSyVT1P5MyeXKVXmJPukA7rnNcRWWM9g9qkJwtKCsdW1t5s7QYpOjOAwRVxgnj4BlngUURjl\n",
       "IOwLubWKSFHolDFNHZhUmhX7DDe7weRoEZHj3F45agdg+lnmOzR1cuclI++DAWdcWOIoiRtlbvcr\n",
       "yez0naoLMwocFlN6WVa1ioTF2JaYv6HLMHtKajcxNE1psWf4FwIWZaflPdaVvsMrMxEvOfHW2MAt\n",
       "csrx1xlwiLwP4akvzBRL1knGEPp1WWYqHVQPkV9awSz6S0PAeIHghx9GliO9OKD0HKav/nkhYaE8\n",
       "9AuZrrusStL1sAQzaBUsD6ZVxnPDabQrfXuwmvsaHCeZ27AT9mDm+eK+h8BVpV8MwjxFdhvYtZtr\n",
       "GV+dPXg0Z1dBJSP0K0GYewXpzjawQNECuym7Rs5/adUdWnU5tpVcWLjQEFYbsKHLiToJvjYu+3tc\n",
       "nuBOTjaExU+ROCjN73AzJY/xLvEq+GLKP0mIKyizw3/zElrc/gIhJqpyBUa88wAAAABJRU5ErkJg\n",
       "gg==\n",
       "\" style=\"display:inline;vertical-align:middle;\" /></a> <a class=\"ProveItLink\" href=\"proof.ipynb\" style=\"text-decoration: none\">&#x22A2;&nbsp;</a><a class=\"ProveItLink\" href=\"../388b2a6d7ede43340aff64412a75633c2c726c6e0/expr.ipynb\"><img src=\"data:image/png;base64,iVBORw0KGgoAAAANSUhEUgAAAIEAAAAXBAMAAADesTE9AAAAMFBMVEX///8QEBC6urrMzMxUVFRm\n",
       "ZmZERETc3NwyMjKqqqp2dnaIiIiYmJgiIiLu7u4AAAAU9Wx4AAAAAXRSTlMAQObYZgAAAjdJREFU\n",
       "OMulVD9IG1Ec/pJr7pJccgY6BKuVDOrikoKDCCUSRYciBikOlUJddOhgBlGoFIJuIiWgHURBF5Ea\n",
       "CIG6iKKhi2ApZu50Lh1aCkLFShHt79177+56ELnqwd37ve/4fb9/33vAvR/zTl4dYv1Eb40Zn325\n",
       "6UPnfYMDzFJ6BBRKAx+Y8c5f5IYCMJYnI2xnTsg0LdorfwyZDWCdXuzZ0DGnCxX9MRymgJMcGS02\n",
       "dArEtmZm3vrs3yS9QxQtWLAhlbYX4+Nf63hoaWuxM7wEjAvWP6pEKw2sjgJRSqkXmHCcUnz58eI5\n",
       "dewN33SLf8of4CkrIlwFvuNL9TEQoXRaYThJgfdUmYeWlBtEBa1+vr25xYwAARs4xBIVlADi0Kte\n",
       "hieUwAgiFY7JCOq1nGqKKbHfinVGzNW46WEwmulzAjUvwF7hWHMxAE2SwSh0klXK7qRtBj1hMQQk\n",
       "LsafyQmGAOut9gsGrwITWSrV7LdgzhBnon2JLom3OnLg5VDZR/oZDkgMrML3lFwQi64qGlgDHjFH\n",
       "jncJOchqaYSRKzWhVfg0EbAa9tvNQDEiLViWuMVgjNw8EwzBGozX5e19NliWV4xRKwnFYVBzs8XT\n",
       "FNol3u6VWtKtatGkaCHqMGgPKytzwE+JH3sZHKAkjW+7o2WXHqYW+sw0aMocH/Yy2KfbLcZ/FAW0\n",
       "UZv0onMJeA6MvGEe5OsyZMZMGGIjtel6ZsX6EXUZwo30WROB/usK7XFvYvx0l2/1+AtKHIIOJzuX\n",
       "rwAAAABJRU5ErkJggg==\n",
       "\" style=\"display:inline;vertical-align:middle;\" /></a></span></td></tr>\n",
       "</table>"
      ],
      "text/plain": [
       "<proveit._core_.proof._ShowProof at 0x7f94e840c898>"
      ]
     },
     "execution_count": 1,
     "metadata": {},
     "output_type": "execute_result"
    }
   ],
   "source": [
    "import proveit\n",
    "%show_proof"
   ]
  },
  {
   "cell_type": "code",
   "execution_count": null,
   "metadata": {},
   "outputs": [],
   "source": []
  }
 ],
 "metadata": {
  "kernelspec": {
   "display_name": "Python 3",
   "language": "python",
   "name": "python3"
  }
 },
 "nbformat": 4,
 "nbformat_minor": 0
}
