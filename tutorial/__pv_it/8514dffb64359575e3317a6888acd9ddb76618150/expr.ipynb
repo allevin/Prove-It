{
 "cells": [
  {
   "cell_type": "markdown",
   "metadata": {},
   "source": [
    "Expression of type <a class=\"ProveItLink\" href=\"../../../doc/html/api/proveit.ExprTuple.html\">ExprTuple</a>\n",
    "=======================\n",
    "# from context <a class=\"ProveItLink\" href=\"../../_context_.ipynb\">tutorial</a>"
   ]
  },
  {
   "cell_type": "code",
   "execution_count": 1,
   "metadata": {},
   "outputs": [],
   "source": [
    "# import Expression classes needed to build the expression\n",
    "from proveit import ExprTuple, Function\n",
    "from proveit._common_ import Q, a"
   ]
  },
  {
   "cell_type": "code",
   "execution_count": 2,
   "metadata": {},
   "outputs": [
    {
     "data": {
      "text/html": [
       "<strong id=\"expr\">expr:</strong> <a class=\"ProveItLink\" href=\"expr.ipynb\"><img src=\"data:image/png;base64,iVBORw0KGgoAAAANSUhEUgAAADsAAAAVBAMAAAAKrYvGAAAAMFBMVEX////c3NwiIiJERESqqqqY\n",
       "mJh2dnZmZmYQEBDu7u4yMjJUVFTMzMyIiIi6uroAAAAs73DqAAAAAXRSTlMAQObYZgAAAVBJREFU\n",
       "KM+Fkr9LQmEUht+r1+vP0qnFoYag1YZoafA/sKkpQiJoCKPJNYNawynaFCIoaIhGIbrQIrj4B5SI\n",
       "UzQJ5RCE9Z5zPo0g6MBz7n2+8/283wX+idnuX7blQEfSXHXP2juuWzw0cE2CG+CuDmcaTWOGo5IX\n",
       "fE/cwsxiw0hwUGpBpvuAmcW58crHoSwSjGFmES0qVcB7Ew/emWjw7vePqAfKJacdafdPJhpectEh\n",
       "4DeVUyAiqyJbY6J5I8QL/AA1ZewKKJWZaOkhItx/ZqhIWTaOq7qVswU0wmn5mOfiG3xZWmy+ixLq\n",
       "k8lXWBl7z2G7L2Vao4iWHyLGrZFdNm6fYWdZT0tLrftLwfRgA7mmVmURGSkP5Ni9xx579ZVEToet\n",
       "YVMezn4+aqystjorVzQxRsVhV/jwpVubXmiyaSCv2j6x5rwrp3MGvF8/08SejG/URF/UgSHFcQAA\n",
       "AABJRU5ErkJggg==\n",
       "\" style=\"display:inline;vertical-align:middle;\" /></a><br>"
      ],
      "text/plain": [
       "expr: (Q(a))"
      ]
     },
     "execution_count": 2,
     "metadata": {},
     "output_type": "execute_result"
    }
   ],
   "source": [
    "# build up the expression from sub-expressions\n",
    "expr = ExprTuple(Function(Q, a))"
   ]
  },
  {
   "cell_type": "code",
   "execution_count": 3,
   "metadata": {},
   "outputs": [
    {
     "name": "stdout",
     "output_type": "stream",
     "text": [
      "Passed sanity check: built 'expr' is the same as the stored Expression.\n"
     ]
    }
   ],
   "source": [
    "# check that the built expression is the same as the stored expression\n",
    "%check_expr"
   ]
  },
  {
   "cell_type": "code",
   "execution_count": 4,
   "metadata": {},
   "outputs": [
    {
     "data": {
      "text/html": [
       "<table><tr><th>&nbsp;</th><th>core type</th><th>sub-expressions</th><th>expression</th></tr>\n",
       "<tr><td>0</td><td>ExprTuple</td><td>1</td><td><a class=\"ProveItLink\" href=\"expr.ipynb\"><img src=\"data:image/png;base64,iVBORw0KGgoAAAANSUhEUgAAADsAAAAVBAMAAAAKrYvGAAAAMFBMVEX////c3NwiIiJERESqqqqY\n",
       "mJh2dnZmZmYQEBDu7u4yMjJUVFTMzMyIiIi6uroAAAAs73DqAAAAAXRSTlMAQObYZgAAAVBJREFU\n",
       "KM+Fkr9LQmEUht+r1+vP0qnFoYag1YZoafA/sKkpQiJoCKPJNYNawynaFCIoaIhGIbrQIrj4B5SI\n",
       "UzQJ5RCE9Z5zPo0g6MBz7n2+8/283wX+idnuX7blQEfSXHXP2juuWzw0cE2CG+CuDmcaTWOGo5IX\n",
       "fE/cwsxiw0hwUGpBpvuAmcW58crHoSwSjGFmES0qVcB7Ew/emWjw7vePqAfKJacdafdPJhpectEh\n",
       "4DeVUyAiqyJbY6J5I8QL/AA1ZewKKJWZaOkhItx/ZqhIWTaOq7qVswU0wmn5mOfiG3xZWmy+ixLq\n",
       "k8lXWBl7z2G7L2Vao4iWHyLGrZFdNm6fYWdZT0tLrftLwfRgA7mmVmURGSkP5Ni9xx579ZVEToet\n",
       "YVMezn4+aqystjorVzQxRsVhV/jwpVubXmiyaSCv2j6x5rwrp3MGvF8/08SejG/URF/UgSHFcQAA\n",
       "AABJRU5ErkJggg==\n",
       "\" style=\"display:inline;vertical-align:middle;\" /></a></td></tr>\n",
       "<tr><td>1</td><td>Operation</td><td>operator:&nbsp;2<br>operand:&nbsp;3<br></td><td><a class=\"ProveItLink\" href=\"../3810afdc3a8ba19f6edc09d9e49864ab66d137c70/expr.ipynb\"><img src=\"data:image/png;base64,iVBORw0KGgoAAAANSUhEUgAAACwAAAAVBAMAAADP3xFXAAAAMFBMVEX///+YmJiqqqq6uroQEBBE\n",
       "RETu7u4iIiLMzMwyMjKIiIhUVFRmZmZ2dnbc3NwAAADS0us6AAAAAXRSTlMAQObYZgAAASVJREFU\n",
       "GNNjYCAMrCAUowGI5LtzdxeYy7EBKn0CRNxsYOAuAzE4E6DCnECcGQAkvEG8VTDDGC8wMEwHMc6D\n",
       "FLrBhNkcGHh+gBj3gbYwT4DbHcTwPgAsrMDAwAPUyvB6rckDBoY7DOcFQMLxDUCLgCxmP4Z4IFeT\n",
       "oR5s/RcgZgEa9F6A4SiQaQIWYGD6CyT4gcL7GRiqgMx+hu9gh7pBhb8ysP0AC88HCes3gAxRYOD7\n",
       "xcD0gQ1kiL7BqxUcziA5VgEGtk8M3BM0GBgkGXjLLvCqPgAJ8x5gYJjIoH7gAsiBDNZzlyswgAxh\n",
       "LgA6e5VFFNCKyWDdDYwgYQY/JM+DhA9YgnmyMGHeBSCS+/9nBpSAzYQEvws4ABj4YNGwDzXSXkEo\n",
       "rgYGAHaeQO5VG29KAAAAAElFTkSuQmCC\n",
       "\" style=\"display:inline;vertical-align:middle;\" /></a></td></tr>\n",
       "<tr><td>2</td><td>Variable</td><td></td><td><a class=\"ProveItLink\" href=\"../../../packages/proveit/__pv_it/98124f92e6e1fc3772af50ac63eaa1f5624776f20/expr.ipynb\"><img src=\"data:image/png;base64,iVBORw0KGgoAAAANSUhEUgAAAA8AAAASBAMAAAB2sJk8AAAAMFBMVEX///+YmJiqqqq6uroQEBBE\n",
       "RETu7u4iIiLMzMwyMjKIiIhUVFRmZmZ2dnbc3NwAAADS0us6AAAAAXRSTlMAQObYZgAAAHxJREFU\n",
       "CNdjYGDgu3N3FwMI3Gxg4C4D0pkBQMIbiKeDRM8nMPD8ADHuGzC8DwAzFBjOC4AY8Q0M9Qkgxhcw\n",
       "YmBg+svA8B3E4HRjYJgPYug3ALHBqxUczkAOb9kFXtUHIGHrucsVGBrAtrI2MEIZByzBNAP3/88Q\n",
       "BocL0BoActoerD1tNT4AAAAASUVORK5CYII=\n",
       "\" style=\"display:inline;vertical-align:middle;\" /></a></td></tr>\n",
       "<tr><td>3</td><td>Variable</td><td></td><td><a class=\"ProveItLink\" href=\"../../../packages/proveit/__pv_it/07527342713064c87612d00d8557c53d53d5324a0/expr.ipynb\"><img src=\"data:image/png;base64,iVBORw0KGgoAAAANSUhEUgAAAAsAAAAJBAMAAAAWSsseAAAAMFBMVEX///8yMjKqqqrMzMzu7u4i\n",
       "IiJmZmaYmJhEREQQEBC6urp2dnaIiIhUVFTc3NwAAAD87Fq/AAAAAXRSTlMAQObYZgAAAEhJREFU\n",
       "CNdjYOC7s2seAwPDygccHxgY+L4zsDUwMPB+YGA9wMDA38Dgb8DA8P4Agz6DA4O/AsNFJgMGxgKm\n",
       "MG6gyjunLE4xAAAZTBA5TB6DCwAAAABJRU5ErkJggg==\n",
       "\" style=\"display:inline;vertical-align:middle;\" /></a></td></tr>\n",
       "</table>\n"
      ],
      "text/plain": [
       "0. (Q(a))\n",
       "   core type: ExprTuple\n",
       "   sub-expressions: 1\n",
       "1. Q(a)\n",
       "   core type: Operation\n",
       "   operator: 2\n",
       "   operand: 3\n",
       "2. Q\n",
       "   core type: Variable\n",
       "   sub-expressions: \n",
       "3. a\n",
       "   core type: Variable\n",
       "   sub-expressions: "
      ]
     },
     "execution_count": 4,
     "metadata": {},
     "output_type": "execute_result"
    }
   ],
   "source": [
    "# display the expression information\n",
    "expr.exprInfo()"
   ]
  },
  {
   "cell_type": "code",
   "execution_count": null,
   "metadata": {},
   "outputs": [],
   "source": []
  }
 ],
 "metadata": {
  "kernelspec": {
   "display_name": "Python 3",
   "language": "python",
   "name": "python3"
  }
 },
 "nbformat": 4,
 "nbformat_minor": 0
}
