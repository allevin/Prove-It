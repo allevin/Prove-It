{
 "cells": [
  {
   "cell_type": "markdown",
   "metadata": {},
   "source": [
    "Expression of type <a class=\"ProveItLink\" href=\"../../../doc/html/api/proveit.logic.Set.html\">Set</a>\n",
    "=======================\n",
    "# from context <a class=\"ProveItLink\" href=\"../../_context_.ipynb\">tutorial</a>"
   ]
  },
  {
   "cell_type": "code",
   "execution_count": 1,
   "metadata": {},
   "outputs": [],
   "source": [
    "# import Expression classes needed to build the expression\n",
    "from proveit._common_ import Q, R, S\n",
    "from proveit.logic import Implies, Set"
   ]
  },
  {
   "cell_type": "code",
   "execution_count": 2,
   "metadata": {},
   "outputs": [
    {
     "data": {
      "text/html": [
       "<strong id=\"expr\">expr:</strong> <a class=\"ProveItLink\" href=\"expr.ipynb\"><img src=\"data:image/png;base64,iVBORw0KGgoAAAANSUhEUgAAAJoAAAAVBAMAAABMN+opAAAAMFBMVEX////c3NxERESqqqpUVFS6\n",
       "urrMzMwyMjIQEBCIiIh2dnYiIiLu7u5mZmaYmJgAAABXZE4RAAAAAXRSTlMAQObYZgAAAjZJREFU\n",
       "OMutVU1oE0EU/nazScgyu9mrF5ubHoQEETx46FJyqZfmIOhxD4LFS3u0itaDvyB0KVIopaTiQRRF\n",
       "r7WFLl70IhQvCv5kD/Vsrdtgqri+2d3ZTLIhHsyDvHkz8+33Zr55jwAwv2AUdvEB9+wlRmPTNXKl\n",
       "3Sje+fzpaxZxP6xPzCVxaSqoH3EH0CjPnkzSYMyS06/zlaKPV7sDkHvAm9kkLlfAbg/APHKgbSZE\n",
       "MdtpICe+AkuBhQ6g7SeTGTrYVCMDel0hd0NmU9r0ZXqLoieiEq0X28mk6QDzTgZ0hbuWJ7HlfxBb\n",
       "CszbIlJpc0bMjhImQD/IiJI9b8hnC5dkJR6LoGwjty4mxHTKzYDGKhFbLSaKngLNcM/i48cNblvb\n",
       "QqrJ1buphsHyh5isB9Tyua86MPkrTke6KjsL96TDnUzEbnoYFwKUfiPXRga0Fen3k35XgfO3kj39\n",
       "jwRklxpCqrItaRggA+I8yB1wwDXgHM9Np2Uy24WnqVRjdldDpYctBv2KHphfjDeVRroxkkD53pVk\n",
       "41giFWX4tiY09GEeIAOa547LEemmv4gL17C7WU9I5dZyGbyk3IwOvH7QeOPQUuEmpOo1qAoWpcYT\n",
       "XaFSuqZ7mEW3qRJ7R/H7Qfrmmn7cktm0fH3C77KpVjy+rQYujDmXLVhg70Jq7ffLGRDOXF6pwenp\n",
       "0x4r9C/kLQwDqY45hC1j5vBtdfusIDL/n00L90VTsfV/s7nDtwt3/LSpzIcj+1/4C3q6rNzBt5G1\n",
       "AAAAAElFTkSuQmCC\n",
       "\" style=\"display:inline;vertical-align:middle;\" /></a><br>"
      ],
      "text/plain": [
       "expr: {S => R , R => Q}"
      ]
     },
     "execution_count": 2,
     "metadata": {},
     "output_type": "execute_result"
    }
   ],
   "source": [
    "# build up the expression from sub-expressions\n",
    "expr = Set(Implies(S, R), Implies(R, Q))"
   ]
  },
  {
   "cell_type": "code",
   "execution_count": 3,
   "metadata": {},
   "outputs": [
    {
     "name": "stdout",
     "output_type": "stream",
     "text": [
      "Passed sanity check: built 'expr' is the same as the stored Expression.\n"
     ]
    }
   ],
   "source": [
    "# check that the built expression is the same as the stored expression\n",
    "%check_expr"
   ]
  },
  {
   "cell_type": "code",
   "execution_count": 4,
   "metadata": {},
   "outputs": [
    {
     "data": {
      "text/html": [
       "<table><tr><th>&nbsp;</th><th>core type</th><th>sub-expressions</th><th>expression</th></tr>\n",
       "<tr><td>0</td><td>Operation</td><td>operator:&nbsp;1<br>operands:&nbsp;2<br></td><td><a class=\"ProveItLink\" href=\"expr.ipynb\"><img src=\"data:image/png;base64,iVBORw0KGgoAAAANSUhEUgAAAJoAAAAVBAMAAABMN+opAAAAMFBMVEX////c3NxERESqqqpUVFS6\n",
       "urrMzMwyMjIQEBCIiIh2dnYiIiLu7u5mZmaYmJgAAABXZE4RAAAAAXRSTlMAQObYZgAAAjZJREFU\n",
       "OMutVU1oE0EU/nazScgyu9mrF5ubHoQEETx46FJyqZfmIOhxD4LFS3u0itaDvyB0KVIopaTiQRRF\n",
       "r7WFLl70IhQvCv5kD/Vsrdtgqri+2d3ZTLIhHsyDvHkz8+33Zr55jwAwv2AUdvEB9+wlRmPTNXKl\n",
       "3Sje+fzpaxZxP6xPzCVxaSqoH3EH0CjPnkzSYMyS06/zlaKPV7sDkHvAm9kkLlfAbg/APHKgbSZE\n",
       "MdtpICe+AkuBhQ6g7SeTGTrYVCMDel0hd0NmU9r0ZXqLoieiEq0X28mk6QDzTgZ0hbuWJ7HlfxBb\n",
       "CszbIlJpc0bMjhImQD/IiJI9b8hnC5dkJR6LoGwjty4mxHTKzYDGKhFbLSaKngLNcM/i48cNblvb\n",
       "QqrJ1buphsHyh5isB9Tyua86MPkrTke6KjsL96TDnUzEbnoYFwKUfiPXRga0Fen3k35XgfO3kj39\n",
       "jwRklxpCqrItaRggA+I8yB1wwDXgHM9Np2Uy24WnqVRjdldDpYctBv2KHphfjDeVRroxkkD53pVk\n",
       "41giFWX4tiY09GEeIAOa547LEemmv4gL17C7WU9I5dZyGbyk3IwOvH7QeOPQUuEmpOo1qAoWpcYT\n",
       "XaFSuqZ7mEW3qRJ7R/H7Qfrmmn7cktm0fH3C77KpVjy+rQYujDmXLVhg70Jq7ffLGRDOXF6pwenp\n",
       "0x4r9C/kLQwDqY45hC1j5vBtdfusIDL/n00L90VTsfV/s7nDtwt3/LSpzIcj+1/4C3q6rNzBt5G1\n",
       "AAAAAElFTkSuQmCC\n",
       "\" style=\"display:inline;vertical-align:middle;\" /></a></td></tr>\n",
       "<tr><td>1</td><td>Literal</td><td></td><td><a class=\"ProveItLink\" href=\"../../../packages/proveit/logic/set_theory/enumeration/__pv_it/07381ed5b23806e8d7914b78cb6667769e3708dd0/expr.ipynb\"><img src=\"data:image/png;base64,iVBORw0KGgoAAAANSUhEUgAAAB4AAAAOBAMAAADKyLEKAAAAMFBMVEX///8iIiIQEBCIiIjMzMzc\n",
       "3Nyqqqp2dnZEREQyMjK6urru7u5mZmZUVFSYmJgAAACI6eGPAAAAAXRSTlMAQObYZgAAALRJREFU\n",
       "CNdjYGDgu3Nm3wIGBJjHwN0PZW5yYGDgLWBgyITy8zcwMMQDxZyh/INAvD6BgcEFypcB4vjPDiBm\n",
       "TPFRrhs/LjMwMP//38rAwCbKEMPA9gEkE3fp0waG+AUMRxh4JkC01T9guPTOOICBEWgVH5C//wHD\n",
       "H5D4fqCz9oCMDGD4DLaegRXslLMMDMpAgxlOMmQxHDRgYG5gYLBk4D7KcIe7gOHC2rt9QCXsh40Z\n",
       "GCKMGQDRkC8N/Ph1XAAAAABJRU5ErkJggg==\n",
       "\" style=\"display:inline;vertical-align:middle;\" /></a></td></tr>\n",
       "<tr><td>2</td><td>ExprTuple</td><td>3, 4</td><td><a class=\"ProveItLink\" href=\"../27e145083690aa34049d9dd84bf1b79c9e9df6e60/expr.ipynb\"><img src=\"data:image/png;base64,iVBORw0KGgoAAAANSUhEUgAAAJMAAAAVBAMAAACwIsHjAAAAMFBMVEX////c3NwiIiJERESqqqqY\n",
       "mJh2dnZmZmYQEBDu7u4yMjJUVFTMzMyIiIi6uroAAAAs73DqAAAAAXRSTlMAQObYZgAAAkJJREFU\n",
       "OMutVD9o1GAU/4VcLs39zeIkpdCtg/QWQV3u0K0OzdSl0N5kURAPBf8t18HBKtqAQ4tTERQ7lAYK\n",
       "XY7SzDoYdHCw5YJjXarVUsmd8X3f5cul9x3e4AXy8r7kl9/33u+99wFDvAreMFjmmHnPzOy9B3Py\n",
       "9y9hY2sj8vO7QeNSv12VhWs7gO6Su053xsKLwz6wI2B1LfKLJRhP+mBuuMhOAATLs522gZT4BUaM\n",
       "yrWB7J9o8YGAu74Eelki8xSYAUZsirFFv8XBZ2zh5el9phUtmpTCpiuBXjFTt7EKHDDlfxJVjCo4\n",
       "wlMXKRixukCYAL0gne90y4dawV2mXLiXzP6mcIoOUufEgmguexJorMSpKkjX8JoHHx6Z7Hl7nF2T\n",
       "NSHPzudnsW7B/v0O0ylQ3WK27DKtn/OCzi4vJcKaitRt2pgWeed/I9WCBJrkmp1QxouICpT+lUAZ\n",
       "b30hT9FJ6BZAAp0wN3VMUR9yKgrSSFK9ux7LM+Z0dVNOUXVAP3g5lzjVI6KhtJXvXRnGL0byEP18\n",
       "VehmQTuGBNpkhqlACZ7vdKfudPe7mmirumfAjtpKb8PuBU37o3s5pre2hgWioYJ/SgyV6HuVZqnp\n",
       "nTF4EmWibitWLyg9UU1fYdWnZvhKs1FobFldKtXsPFfKgQd9wzOWTRh3QprZh/sSCN/efKyAEsz4\n",
       "GDF75zMnHUOmPMQJkOpqREWDo1UHnkXavz+rtYOo+9f/lyobUkMZTLuzA6kGHLO5xyR0lomgDOVA\n",
       "pvPgL2TkpgjVcF6IAAAAAElFTkSuQmCC\n",
       "\" style=\"display:inline;vertical-align:middle;\" /></a></td></tr>\n",
       "<tr><td>3</td><td>Operation</td><td>operator:&nbsp;6<br>operands:&nbsp;5<br></td><td><a class=\"ProveItLink\" href=\"../7e3f2f1562f5c718ad828a0c792cc977800a00590/expr.ipynb\"><img src=\"data:image/png;base64,iVBORw0KGgoAAAANSUhEUgAAAD0AAAAPBAMAAACl/tp8AAAAMFBMVEX///8iIiIQEBCIiIjMzMzc\n",
       "3Nyqqqp2dnZEREQyMjK6urru7u5mZmZUVFSYmJgAAACI6eGPAAAAAXRSTlMAQObYZgAAAO1JREFU\n",
       "GNNjYGDgu3Nm3wIGdMB8/+/dTgMQax4Ddz8DJuBvYODWBNK8BQwMmXDRDXCWP1DzfaC58Q4MDM5w\n",
       "0dlwlj1QfD4Qr09gYHCBi66Fs5oYGFj+Aun4zw5ItrIbwFhAuUQQh/n//1YQn0cQDP5ApVn+Gh+C\n",
       "qI279AnhKga2WVD//WZg+wIVq3+AZMNOLTDFoQC2goEPiPcjybNMhxjGf4GBFSS/B+TEAIT9ElC7\n",
       "/B8w8H1ngATNWSTrLyC8z/MZGFwHDRiYGxDykTAGMMiZP7M+YLiw9m4fkutaIRT3if+XGRhOGmPE\n",
       "igMaHwAvID4qdLHZ9QAAAABJRU5ErkJggg==\n",
       "\" style=\"display:inline;vertical-align:middle;\" /></a></td></tr>\n",
       "<tr><td>4</td><td>Operation</td><td>operator:&nbsp;6<br>operands:&nbsp;7<br></td><td><a class=\"ProveItLink\" href=\"../9689ca3517a1f7154890f40ae98c2a58c9e7b4290/expr.ipynb\"><img src=\"data:image/png;base64,iVBORw0KGgoAAAANSUhEUgAAAEEAAAASBAMAAAD2w64vAAAAMFBMVEX///92dnaYmJjc3NxmZmYi\n",
       "IiKqqqq6urrMzMwQEBDu7u4yMjJERERUVFSIiIgAAAArjcN0AAAAAXRSTlMAQObYZgAAARJJREFU\n",
       "KM9jYGB4+//unX0MWACziOA9COsPA8PKDVhUSDcw8EaBGBz/GBh4v8PFF8AYqw8AibkgFt8PBgbu\n",
       "H3AVu2CMrSDCH6SBZwIDQ/8FuIpaKM0C1iRfACT4LzCwxSFsZ3wAoe0PgFUkAIn+e0/mQXSFgsEX\n",
       "iAp/BRB5vgFIvF/AkN+A5AW27WAqHuzknyDiJNgiJLB6OlyO7SOI/Au0E1kFx0aw7q8ggnsWSOAT\n",
       "A4O+AJI7YiAhsh9EgK0HBYf/Ay6EM6Dm5RfYveAA28fzAejYB0ZwFdYwX0cJMOYYABlLzv99wMCy\n",
       "7wFcxWF40G18msDQgCW+kMR4GpiwqUACPA7V+BUw8P7/TkAFx0xgyAMAojlNzTn4md0AAAAASUVO\n",
       "RK5CYII=\n",
       "\" style=\"display:inline;vertical-align:middle;\" /></a></td></tr>\n",
       "<tr><td>5</td><td>ExprTuple</td><td>8, 9</td><td><a class=\"ProveItLink\" href=\"../83d3aea4046ebaaf4173060b9b4c7d32b778edf20/expr.ipynb\"><img src=\"data:image/png;base64,iVBORw0KGgoAAAANSUhEUgAAADIAAAAVBAMAAAD2uKAMAAAAMFBMVEX////c3NwiIiJERESqqqqY\n",
       "mJh2dnZmZmYQEBDu7u4yMjJUVFTMzMyIiIi6uroAAAAs73DqAAAAAXRSTlMAQObYZgAAAThJREFU\n",
       "KM9jYMAN+C5gEWR9ACROg1jR5ZVxELHb/3dvXsvAUANkrgRirgCGyR+gyj8zMMxYwMDFwMALMmwb\n",
       "AwPLAogEz18GBu5/DKwJDBwTGBgY/wBFoNbxAtlcfxg4GxhegRzxBShzACLD3MDAcH4DA4MJQxmQ\n",
       "x/j/DtxV/BsYWHSBdDrDUhD3/v/PAlCZ83uv94JoL4Y+EMUY3d8Jlbk/gcEfZPALhn8QAbavUBkL\n",
       "sIFAvWCZAAYGTpjMbwYGeYhMC1C0AGjeR6h3gCriE8CmmUI8yb6BgRPmnfoLQGYU0HUM7EBXXmZg\n",
       "mK8A8g4wkO5fEAW5+hEwMPh2bwZaNQNo4HT73xcY2NcCw2MdA4cA3JMPkaIBGDqsCXBeAJIM2wVI\n",
       "LGDKzAJiaRiHFzlSN4JCBlts8x5gAADxw1LgAn4LQQAAAABJRU5ErkJggg==\n",
       "\" style=\"display:inline;vertical-align:middle;\" /></a></td></tr>\n",
       "<tr><td>6</td><td>Literal</td><td></td><td><a class=\"ProveItLink\" href=\"../../../packages/proveit/logic/boolean/implication/__pv_it/e5c030cabcb650938f92dee8256fe11cd12bf9b30/expr.ipynb\"><img src=\"data:image/png;base64,iVBORw0KGgoAAAANSUhEUgAAABMAAAANBAMAAAC5okgUAAAALVBMVEX////c3NxERETMzMwQEBCq\n",
       "qqoiIiJmZmaIiIh2dnZUVFS6uroyMjLu7u4AAACPpZJTAAAAAXRSTlMAQObYZgAAAD1JREFUCNdj\n",
       "YAABXgY44LkAZ3IvQAjPABFlaSCQV4AQjtkAZ/IegbNt5sLUpunC5aPgLMYDcCaTAJzJDCIA2yMN\n",
       "HCCUuIIAAAAASUVORK5CYII=\n",
       "\" style=\"display:inline;vertical-align:middle;\" /></a></td></tr>\n",
       "<tr><td>7</td><td>ExprTuple</td><td>9, 10</td><td><a class=\"ProveItLink\" href=\"../c734385423c1129d2d048329a1dc435258d733800/expr.ipynb\"><img src=\"data:image/png;base64,iVBORw0KGgoAAAANSUhEUgAAADUAAAAVBAMAAAAUZLt1AAAAMFBMVEX////c3NwiIiJERESqqqqY\n",
       "mJh2dnZmZmYQEBDu7u4yMjJUVFTMzMyIiIi6uroAAAAs73DqAAAAAXRSTlMAQObYZgAAAVVJREFU\n",
       "KM99kj1Lw1AUht+SryZptYuTiHMHsYvg1oA/oE6OmsmCIGZyTQcHRdRsFqcgKDgUCx2lkN2hwcXB\n",
       "gsFRl6IoQqv1nNxbqlAM5OS957k5H/dc4L9nKp7oXmdzS+/D8KbVGHkz1c02YEQkr3j9BtRDybYi\n",
       "2EWAlnkOmfsC7G+BzkpkDoE1IBuQzA8AayDYORs/QB14ZqnUgE4zRUa6ZSeB4mCX5XQT6oL4bb6U\n",
       "Mge6hwuWnfb9kazEX2VbjqCGOGb5GKASCbbI+fFJfdeQVrechoX0AuoH1d4TrE95JHtlYx2kbI/b\n",
       "ewc2XMGu2XACirkk2/NjE5yqksx1c1yEFqLK7fWonHjG5Hh60dVXCiw8PAGn5X4MoxGbJ+x7ubxz\n",
       "QDGtBNnCr3EJrUQaMTozzR0zTXwUjw9yezSjP8weUmMmj2x2zOQNyO3TudkcPzP5TnSBH6hmWpoD\n",
       "Ce2gAAAAAElFTkSuQmCC\n",
       "\" style=\"display:inline;vertical-align:middle;\" /></a></td></tr>\n",
       "<tr><td>8</td><td>Variable</td><td></td><td><a class=\"ProveItLink\" href=\"../../../packages/proveit/__pv_it/abeee18594afe51bfb1be95d9591fbba24ac53f30/expr.ipynb\"><img src=\"data:image/png;base64,iVBORw0KGgoAAAANSUhEUgAAAA0AAAAOBAMAAAAGUYvhAAAAMFBMVEX///8iIiIQEBCIiIjMzMzc\n",
       "3Nyqqqp2dnZEREQyMjK6urru7u5mZmZUVFSYmJgAAACI6eGPAAAAAXRSTlMAQObYZgAAAF1JREFU\n",
       "CNdjYGDgu3Nm3wIGBoZ5DNz9QIq3gIEhE0jHOzAwOAPp9QkMDC4g/megABAw///fCmbEXfq0Acxg\n",
       "qH8ANAVI7wfSe0BKAyBGnAXigwYMzA1A+sLau31ACgAz0hhbkhGHbwAAAABJRU5ErkJggg==\n",
       "\" style=\"display:inline;vertical-align:middle;\" /></a></td></tr>\n",
       "<tr><td>9</td><td>Variable</td><td></td><td><a class=\"ProveItLink\" href=\"../../../packages/proveit/__pv_it/e24df48bc297bbcf3538a62f5b4f635a392abfce0/expr.ipynb\"><img src=\"data:image/png;base64,iVBORw0KGgoAAAANSUhEUgAAABAAAAAOBAMAAADUAYG5AAAAMFBMVEX///92dnaYmJjc3NxmZmYi\n",
       "IiKqqqq6urrMzMwQEBDu7u4yMjJERERUVFSIiIgAAAArjcN0AAAAAXRSTlMAQObYZgAAAG1JREFU\n",
       "CNdjYGB4+//unX0MIPCHgWHlBiDN8Y+Bgfc7kMH3g4GBG4gZeCYwMPRfADL4LzCwxYHU9t97Mg+s\n",
       "6f0ChvwGEOMkWBYI/jIw2IMYHJ8YGPQFoMb4P+ACGvMBqP6BEcOS838fMLDsewAAOpQikqrQNfgA\n",
       "AAAASUVORK5CYII=\n",
       "\" style=\"display:inline;vertical-align:middle;\" /></a></td></tr>\n",
       "<tr><td>10</td><td>Variable</td><td></td><td><a class=\"ProveItLink\" href=\"../../../packages/proveit/__pv_it/98124f92e6e1fc3772af50ac63eaa1f5624776f20/expr.ipynb\"><img src=\"data:image/png;base64,iVBORw0KGgoAAAANSUhEUgAAAA8AAAASBAMAAAB2sJk8AAAAMFBMVEX///+YmJiqqqq6uroQEBBE\n",
       "RETu7u4iIiLMzMwyMjKIiIhUVFRmZmZ2dnbc3NwAAADS0us6AAAAAXRSTlMAQObYZgAAAHxJREFU\n",
       "CNdjYGDgu3N3FwMI3Gxg4C4D0pkBQMIbiKeDRM8nMPD8ADHuGzC8DwAzFBjOC4AY8Q0M9Qkgxhcw\n",
       "YmBg+svA8B3E4HRjYJgPYug3ALHBqxUczkAOb9kFXtUHIGHrucsVGBrAtrI2MEIZByzBNAP3/88Q\n",
       "BocL0BoActoerD1tNT4AAAAASUVORK5CYII=\n",
       "\" style=\"display:inline;vertical-align:middle;\" /></a></td></tr>\n",
       "</table>\n"
      ],
      "text/plain": [
       "0. {S => R , R => Q}\n",
       "   core type: Operation\n",
       "   operator: 1\n",
       "   operands: 2\n",
       "1. Set\n",
       "   core type: Literal\n",
       "   sub-expressions: \n",
       "2. (S => R , R => Q)\n",
       "   core type: ExprTuple\n",
       "   sub-expressions: 3, 4\n",
       "3. S => R\n",
       "   core type: Operation\n",
       "   operator: 6\n",
       "   operands: 5\n",
       "4. R => Q\n",
       "   core type: Operation\n",
       "   operator: 6\n",
       "   operands: 7\n",
       "5. (S , R)\n",
       "   core type: ExprTuple\n",
       "   sub-expressions: 8, 9\n",
       "6. =>\n",
       "   core type: Literal\n",
       "   sub-expressions: \n",
       "7. (R , Q)\n",
       "   core type: ExprTuple\n",
       "   sub-expressions: 9, 10\n",
       "8. S\n",
       "   core type: Variable\n",
       "   sub-expressions: \n",
       "9. R\n",
       "   core type: Variable\n",
       "   sub-expressions: \n",
       "10. Q\n",
       "    core type: Variable\n",
       "    sub-expressions: "
      ]
     },
     "execution_count": 4,
     "metadata": {},
     "output_type": "execute_result"
    }
   ],
   "source": [
    "# display the expression information\n",
    "expr.exprInfo()"
   ]
  },
  {
   "cell_type": "code",
   "execution_count": null,
   "metadata": {},
   "outputs": [],
   "source": []
  }
 ],
 "metadata": {
  "kernelspec": {
   "display_name": "Python 3",
   "language": "python",
   "name": "python3"
  }
 },
 "nbformat": 4,
 "nbformat_minor": 0
}
