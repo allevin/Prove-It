{
 "cells": [
  {
   "cell_type": "markdown",
   "metadata": {},
   "source": [
    "Expression of type <a class=\"ProveItLink\" href=\"../../../doc/html/api/proveit.logic.Equals.html\">Equals</a>\n",
    "=======================\n",
    "# from context <a class=\"ProveItLink\" href=\"../../_context_.ipynb\">tutorial</a>"
   ]
  },
  {
   "cell_type": "code",
   "execution_count": 1,
   "metadata": {},
   "outputs": [],
   "source": [
    "# import Expression classes needed to build the expression\n",
    "from proveit import Function\n",
    "from proveit._common_ import a, b, f\n",
    "from proveit.logic import Equals"
   ]
  },
  {
   "cell_type": "code",
   "execution_count": 2,
   "metadata": {},
   "outputs": [
    {
     "data": {
      "text/html": [
       "<strong id=\"expr\">expr:</strong> <a class=\"ProveItLink\" href=\"expr.ipynb\"><img src=\"data:image/png;base64,iVBORw0KGgoAAAANSUhEUgAAAGwAAAAVBAMAAABRZRb3AAAAMFBMVEX///8yMjLMzMwQEBAiIiJm\n",
       "Zma6urqYmJiqqqp2dnZERETc3NyIiIhUVFTu7u4AAAAe+HC4AAAAAXRSTlMAQObYZgAAAa5JREFU\n",
       "OMul1E9LAkEUAPBny+5W2mqXOhV+gwq8hBEe6lZg0akIJK9R29GDYNFdDwkdvVVQ5AdQ3A4dAgUh\n",
       "gkAhgw5dxBBSCZHe/FtYZ6tDc9iZnfk9Z3wzswD/Lfus0mN/ES6alTw+R6p8bNPFG/UaI82QLa7S\n",
       "Jj49DU48LmHj511OZoQwOu+kKguiZ+Sw1kGKk54Qox90ZNle0LwclhZEGwihRkiXFrDNpRy2JchY\n",
       "hAv9cT1KgsnExYc4ZicrRSVDT5x46hWTCb9FE4FvWhhusXlM3tVJWnh6+4K0ctBmohQkfQpuRsmE\n",
       "bWzGpdm8bUHSDVhkgv1dP/a9AKxhc04KY1kjZAPgk4kzO+wLjLZrGEsEIaugdZm4oSNKCrx9/FmD\n",
       "L1JdoSXHdrvKCW6bOmBiiY2YYPRgInACcCTNplicYD6UDBVGh60Dd2EaTqMZtw1oxQR5hl2ggu47\n",
       "Vrj8YnnvGsGUFHbYEKR5T84vCh8/HuFfDtedk6BIkhWTkrDTZg0F6dULJ0Gx8Cbui7g4r1JCZiNO\n",
       "giKxI06CuKa14TA9m3cShyiwyhf8+aNQEOIbdC1xAnqw6OUAAAAASUVORK5CYII=\n",
       "\" style=\"display:inline;vertical-align:middle;\" /></a><br>"
      ],
      "text/plain": [
       "expr: f(a) = f(b)"
      ]
     },
     "execution_count": 2,
     "metadata": {},
     "output_type": "execute_result"
    }
   ],
   "source": [
    "# build up the expression from sub-expressions\n",
    "expr = Equals(Function(f, a), Function(f, b))"
   ]
  },
  {
   "cell_type": "code",
   "execution_count": 3,
   "metadata": {},
   "outputs": [
    {
     "name": "stdout",
     "output_type": "stream",
     "text": [
      "Passed sanity check: built 'expr' is the same as the stored Expression.\n"
     ]
    }
   ],
   "source": [
    "# check that the built expression is the same as the stored expression\n",
    "%check_expr"
   ]
  },
  {
   "cell_type": "code",
   "execution_count": 4,
   "metadata": {},
   "outputs": [
    {
     "data": {
      "text/html": [
       "<table><tr><th>&nbsp;</th><th>core type</th><th>sub-expressions</th><th>expression</th></tr>\n",
       "<tr><td>0</td><td>Operation</td><td>operator:&nbsp;1<br>operands:&nbsp;2<br></td><td><a class=\"ProveItLink\" href=\"expr.ipynb\"><img src=\"data:image/png;base64,iVBORw0KGgoAAAANSUhEUgAAAGwAAAAVBAMAAABRZRb3AAAAMFBMVEX///8yMjLMzMwQEBAiIiJm\n",
       "Zma6urqYmJiqqqp2dnZERETc3NyIiIhUVFTu7u4AAAAe+HC4AAAAAXRSTlMAQObYZgAAAa5JREFU\n",
       "OMul1E9LAkEUAPBny+5W2mqXOhV+gwq8hBEe6lZg0akIJK9R29GDYNFdDwkdvVVQ5AdQ3A4dAgUh\n",
       "gkAhgw5dxBBSCZHe/FtYZ6tDc9iZnfk9Z3wzswD/Lfus0mN/ES6alTw+R6p8bNPFG/UaI82QLa7S\n",
       "Jj49DU48LmHj511OZoQwOu+kKguiZ+Sw1kGKk54Qox90ZNle0LwclhZEGwihRkiXFrDNpRy2JchY\n",
       "hAv9cT1KgsnExYc4ZicrRSVDT5x46hWTCb9FE4FvWhhusXlM3tVJWnh6+4K0ctBmohQkfQpuRsmE\n",
       "bWzGpdm8bUHSDVhkgv1dP/a9AKxhc04KY1kjZAPgk4kzO+wLjLZrGEsEIaugdZm4oSNKCrx9/FmD\n",
       "L1JdoSXHdrvKCW6bOmBiiY2YYPRgInACcCTNplicYD6UDBVGh60Dd2EaTqMZtw1oxQR5hl2ggu47\n",
       "Vrj8YnnvGsGUFHbYEKR5T84vCh8/HuFfDtedk6BIkhWTkrDTZg0F6dULJ0Gx8Cbui7g4r1JCZiNO\n",
       "giKxI06CuKa14TA9m3cShyiwyhf8+aNQEOIbdC1xAnqw6OUAAAAASUVORK5CYII=\n",
       "\" style=\"display:inline;vertical-align:middle;\" /></a></td></tr>\n",
       "<tr><td>1</td><td>Literal</td><td></td><td><a class=\"ProveItLink\" href=\"../../../packages/proveit/logic/equality/__pv_it/2fb26078095930560931daa0500ce419a39ea6cd0/expr.ipynb\"><img src=\"data:image/png;base64,iVBORw0KGgoAAAANSUhEUgAAAA4AAAAFBAMAAACHocAhAAAAFVBMVEX///9EREQiIiJUVFQyMjJm\n",
       "ZmYAAADubVkoAAAAAXRSTlMAQObYZgAAABRJREFUCNdjCHEBAWcGXCBICQQUAUpuAwlgGKrkAAAA\n",
       "AElFTkSuQmCC\n",
       "\" style=\"display:inline;vertical-align:middle;\" /></a></td></tr>\n",
       "<tr><td>2</td><td>ExprTuple</td><td>3, 4</td><td><a class=\"ProveItLink\" href=\"../b04bc2a4a366eececae33afb250d40f500a48ce00/expr.ipynb\"><img src=\"data:image/png;base64,iVBORw0KGgoAAAANSUhEUgAAAG0AAAAVBAMAAAC+p33JAAAAMFBMVEX////c3NwiIiJERESqqqqY\n",
       "mJh2dnZmZmYQEBDu7u4yMjJUVFTMzMyIiIi6uroAAAAs73DqAAAAAXRSTlMAQObYZgAAAbdJREFU\n",
       "OMudlD1PAkEQhufg4DgQoafwOlsa+vsHUtmYEGJMqDDERFs/YizNlXTQWBAbLIzGhITE0obaIFEq\n",
       "pQFjKEzUODO7e7un2DjJ7L2ZZ9/cMrMcwH9jefBbV/7eV1H4jha3dxFqDKdvGELmXnsCMe5QMb41\n",
       "B6Up2oZPs3RXIswsv7714oPSFOuGT7OcLxFmKiC2xjuEpmgaPs2mgUSYE67u8DrRZ/O1T7NNhTD3\n",
       "SG8cXdGDtNXbPgRINkKbwc4fLgXCPGP4ySvp53x8BmAbjQmZ+wa5PiPMUypaH8xQW3Nwijisg9Cm\n",
       "mf0OqSojzC8q2jNmqDMziGHnlmahTzOnDbkGI0z2JT3FckVo9SM+zWINmJaV75h71GWGemWAfQ/M\n",
       "c2qG49sP1DlLPBwxcNQtH27sPiSoLy5EGTblBBhh1vhKPDJDnS7bq0k5h5YXZRnf6YZzGFNxKi7K\n",
       "mMY3uh2hnTY3X6PM7e2CQJipPOp78VNYG/fsCRYwec8SVUh0S6KEWkad1zIsYHWZHUh1PFlT/yO3\n",
       "rXy/GCHGBUjU1BkK8pnhQpZe85MRYmwZ3wmlhwu+E5INRX4DZq2Q5o73w14AAAAASUVORK5CYII=\n",
       "\" style=\"display:inline;vertical-align:middle;\" /></a></td></tr>\n",
       "<tr><td>3</td><td>Operation</td><td>operator:&nbsp;6<br>operand:&nbsp;5<br></td><td><a class=\"ProveItLink\" href=\"../de88773347be086bad93290b5afc918a4d171d400/expr.ipynb\"><img src=\"data:image/png;base64,iVBORw0KGgoAAAANSUhEUgAAACgAAAAVBAMAAADGNLEtAAAAMFBMVEX///8yMjLMzMwQEBAiIiJm\n",
       "Zma6urqYmJiqqqp2dnZERETc3NyIiIhUVFTu7u4AAAAe+HC4AAAAAXRSTlMAQObYZgAAAPZJREFU\n",
       "GNNjYMAPciAUewKYent2A5BkugCVDAKTK/sLgCTjA6ggI4jg+/YCRJ2BGcM+AUhwfACz7WCCfAZA\n",
       "gtUBxGQTgNu4Aqj6sm8ASAqkae/JZKCdU4Es/gNg44GWsVkzrAcyG4F4vwJIkBnovP0FDFFAZjIQ\n",
       "94MN4gcK3mdg8AEy9YF4ClzwFwPfJ6jgWrAgcwMD9x+g8/gg2m3AglwFDHw/GHgFmhgYCkEeAgty\n",
       "At0lztASMAHsJLZ/YEE2oBf2nklaAzRajIGBB+oVayRv1nIVQNiVMEHOAwyGT2AhBgu6h0AF0VA2\n",
       "NyyQbyNHxx4IxaPAAACpYzSWxz2JTwAAAABJRU5ErkJggg==\n",
       "\" style=\"display:inline;vertical-align:middle;\" /></a></td></tr>\n",
       "<tr><td>4</td><td>Operation</td><td>operator:&nbsp;6<br>operand:&nbsp;7<br></td><td><a class=\"ProveItLink\" href=\"../90c851a7d5f820e340887a01fd7f58a78e5c5af80/expr.ipynb\"><img src=\"data:image/png;base64,iVBORw0KGgoAAAANSUhEUgAAACYAAAAVBAMAAADY/YGeAAAAMFBMVEX///8yMjLMzMwQEBAiIiJm\n",
       "Zma6urqYmJiqqqp2dnZERETc3NyIiIhUVFTu7u4AAAAe+HC4AAAAAXRSTlMAQObYZgAAAQBJREFU\n",
       "GNNjYMALcsAkewKYent2A5BkusDw1gRIB4HFVvYXAEnGBwwMsiAaJMT37QWIOgPEP0CaJwAJjg9g\n",
       "1XYMDGz/QEoMgASrA0iITYCBgRPMWgFUe9k3ACQD1MJ45yzQ5KlAHv8BkCwjkPd+AcMnBoZGIG+/\n",
       "AkiMGeiu/gcMlgwMyUBeP9gKfqBYIAPDVwYGfSBvClzMlYHtO0RsLViMuQHkPNZ/EL02YDEuoB2f\n",
       "GJiBtheCvAEW4wQ66AZDLAPYLWDHAymge98eBXlcjIGBRwASVNbQIAP6rRZkEAhUQsU4DzAYPoGy\n",
       "QWEFAg+B0tFQMe4LEPo2ctjvAZM8CgwAIi03YEbxKlsAAAAASUVORK5CYII=\n",
       "\" style=\"display:inline;vertical-align:middle;\" /></a></td></tr>\n",
       "<tr><td>5</td><td>Variable</td><td></td><td><a class=\"ProveItLink\" href=\"../../../packages/proveit/__pv_it/07527342713064c87612d00d8557c53d53d5324a0/expr.ipynb\"><img src=\"data:image/png;base64,iVBORw0KGgoAAAANSUhEUgAAAAsAAAAJBAMAAAAWSsseAAAAMFBMVEX///8yMjKqqqrMzMzu7u4i\n",
       "IiJmZmaYmJhEREQQEBC6urp2dnaIiIhUVFTc3NwAAAD87Fq/AAAAAXRSTlMAQObYZgAAAEhJREFU\n",
       "CNdjYOC7s2seAwPDygccHxgY+L4zsDUwMPB+YGA9wMDA38Dgb8DA8P4Agz6DA4O/AsNFJgMGxgKm\n",
       "MG6gyjunLE4xAAAZTBA5TB6DCwAAAABJRU5ErkJggg==\n",
       "\" style=\"display:inline;vertical-align:middle;\" /></a></td></tr>\n",
       "<tr><td>6</td><td>Variable</td><td></td><td><a class=\"ProveItLink\" href=\"../../../packages/proveit/__pv_it/4d51ee1e62d011d06d4528b97697bf3da60c9de60/expr.ipynb\"><img src=\"data:image/png;base64,iVBORw0KGgoAAAANSUhEUgAAAAsAAAASBAMAAAB/WzlGAAAAMFBMVEX///8yMjLMzMwQEBAiIiJm\n",
       "Zma6urqYmJiqqqp2dnZERETc3NyIiIhUVFTu7u4AAAAe+HC4AAAAAXRSTlMAQObYZgAAAFVJREFU\n",
       "CNdjYGBgeHt2A5BkWNlfACT5vr0AcTg+gEgGVgcQyX7ZNwBE8x8AC+5XAFP9YJJhCoRaC6FswCTf\n",
       "NzDF9g9M8QiAyFoukPEMhk/AYpXRIBIAEwsRcZ82juYAAAAASUVORK5CYII=\n",
       "\" style=\"display:inline;vertical-align:middle;\" /></a></td></tr>\n",
       "<tr><td>7</td><td>Variable</td><td></td><td><a class=\"ProveItLink\" href=\"../../../packages/proveit/__pv_it/6840a4fa6c106149dc16a131294d0c5e44f1b0480/expr.ipynb\"><img src=\"data:image/png;base64,iVBORw0KGgoAAAANSUhEUgAAAAkAAAAOBAMAAAAPuiubAAAALVBMVEX///9mZmbMzMxERESYmJiI\n",
       "iIh2dna6urqqqqoyMjIiIiIQEBBUVFTu7u4AAAD9S1JeAAAAAXRSTlMAQObYZgAAAE1JREFUCNdj\n",
       "4D29gAEIOA+ASL4GEFl3AURmgQiGOaFHGBh4HzPwKTBwvGXgTmBgnMDAJ8DAJcBQ5wBSLncBJLWN\n",
       "gYGngRFoBO9REQYGAGrcDtUkVqASAAAAAElFTkSuQmCC\n",
       "\" style=\"display:inline;vertical-align:middle;\" /></a></td></tr>\n",
       "</table>\n"
      ],
      "text/plain": [
       "0. f(a) = f(b)\n",
       "   core type: Operation\n",
       "   operator: 1\n",
       "   operands: 2\n",
       "1. =\n",
       "   core type: Literal\n",
       "   sub-expressions: \n",
       "2. (f(a) , f(b))\n",
       "   core type: ExprTuple\n",
       "   sub-expressions: 3, 4\n",
       "3. f(a)\n",
       "   core type: Operation\n",
       "   operator: 6\n",
       "   operand: 5\n",
       "4. f(b)\n",
       "   core type: Operation\n",
       "   operator: 6\n",
       "   operand: 7\n",
       "5. a\n",
       "   core type: Variable\n",
       "   sub-expressions: \n",
       "6. f\n",
       "   core type: Variable\n",
       "   sub-expressions: \n",
       "7. b\n",
       "   core type: Variable\n",
       "   sub-expressions: "
      ]
     },
     "execution_count": 4,
     "metadata": {},
     "output_type": "execute_result"
    }
   ],
   "source": [
    "# display the expression information\n",
    "expr.exprInfo()"
   ]
  },
  {
   "cell_type": "code",
   "execution_count": null,
   "metadata": {},
   "outputs": [],
   "source": []
  }
 ],
 "metadata": {
  "kernelspec": {
   "display_name": "Python 3",
   "language": "python",
   "name": "python3"
  }
 },
 "nbformat": 4,
 "nbformat_minor": 0
}
