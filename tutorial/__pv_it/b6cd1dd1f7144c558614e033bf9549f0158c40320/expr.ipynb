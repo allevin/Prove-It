{
 "cells": [
  {
   "cell_type": "markdown",
   "metadata": {},
   "source": [
    "Expression of type <a class=\"ProveItLink\" href=\"../../../doc/html/api/proveit.ExprTuple.html\">ExprTuple</a>\n",
    "=======================\n",
    "# from context <a class=\"ProveItLink\" href=\"../../_context_.ipynb\">tutorial</a>"
   ]
  },
  {
   "cell_type": "code",
   "execution_count": 1,
   "metadata": {},
   "outputs": [],
   "source": [
    "# import Expression classes needed to build the expression\n",
    "from proveit import ExprTuple, Function\n",
    "from proveit._common_ import P, Q, y\n",
    "from proveit.logic import Forall"
   ]
  },
  {
   "cell_type": "code",
   "execution_count": 2,
   "metadata": {},
   "outputs": [
    {
     "data": {
      "text/html": [
       "<strong id=\"expr\">expr:</strong> <a class=\"ProveItLink\" href=\"expr.ipynb\"><img src=\"data:image/png;base64,iVBORw0KGgoAAAANSUhEUgAAAJMAAAAWBAMAAAA2trNNAAAAMFBMVEX////c3NwiIiJERESqqqqY\n",
       "mJh2dnZmZmYQEBDu7u4yMjJUVFTMzMyIiIi6uroAAAAs73DqAAAAAXRSTlMAQObYZgAAAmxJREFU\n",
       "OMutVT1oU1EU/pKXv5fkJamCIB3MIDq4GIK4CHVzcGgmJy3PUuwgAacMCjaCbqU8ELSLNCCigoM4\n",
       "dLD+dHAIOFjIaENrxzoYbbVEY+o55+Xe9+It1MED38v97v3ud9+597wb4D9GbmUvNqF7vH1nTij9\n",
       "e8LH3aWlEwXFOJLLakKRH5dCDodqV32PsFb0T5n9BKxbUIyjoRpTQ91A4hnwwjO0BIdXyP4AYgSf\n",
       "SVxQjYOEyEntZD+kR+q5oSWkeAGnD8R3MGAS86qRpq7kWW2V5oSTXUNL2OS21QEy2xgwCUvNjl8e\n",
       "GTkQ5DfDm5LoG1pCjdt5ynSBkyBmT7s44iFxTQm3yuVjelZkS/Zr29ASHvHQBxfZ49wglsh1sEZb\n",
       "p/f9FVDSVsnv8ho9Q0uY46G1xSs1qQVi75JFlKlo6mr2Z9jaFtGuZFE3tATOGmNqB4l5qRX8pkPt\n",
       "6NlwKtpKTDDuGlqCWH1DYIVxL9sLWzmVaFDxeanYJ56hJdzmstpRSmbX4dTDCdoNKutcyz/8NK8Q\n",
       "65lawqlBWfnB7DEsqsA4748tnaU3wIN8ocntWD/SXm6um1rCNB9IV1kxu4EvFfjFsCDpnKPn4Q20\n",
       "RDF5D1OlPbSEDeD+2C/1DRDD3fYMnWaaV57/yp0pHl3Ea/86eFk9iqypJaQK4XvDZ5P6w/kk9e7J\n",
       "0c8q0RlcNLWEuBu2IpYp2ryhVeFBFczm9JGezjVMbXX4/hAWdS0XqioDq/MtXadvd9cNrehHh6xG\n",
       "EWvfpN+MvL0TfHuFjL5TmndMregjQxeyYqt/Xb6Wu2lcyGHt6r//A8Ta7n6SP+Jxw1NpAgUlAAAA\n",
       "AElFTkSuQmCC\n",
       "\" style=\"display:inline;vertical-align:middle;\" /></a><br>"
      ],
      "text/plain": [
       "expr: (P(y) , forall_{y} Q(y))"
      ]
     },
     "execution_count": 2,
     "metadata": {},
     "output_type": "execute_result"
    }
   ],
   "source": [
    "# build up the expression from sub-expressions\n",
    "expr = ExprTuple(Function(P, y), Forall([y], Function(Q, y), conditions = []))"
   ]
  },
  {
   "cell_type": "code",
   "execution_count": 3,
   "metadata": {},
   "outputs": [
    {
     "name": "stdout",
     "output_type": "stream",
     "text": [
      "Passed sanity check: built 'expr' is the same as the stored Expression.\n"
     ]
    }
   ],
   "source": [
    "# check that the built expression is the same as the stored expression\n",
    "%check_expr"
   ]
  },
  {
   "cell_type": "code",
   "execution_count": 4,
   "metadata": {},
   "outputs": [
    {
     "data": {
      "text/html": [
       "<table><tr><th>&nbsp;</th><th>core type</th><th>sub-expressions</th><th>expression</th></tr>\n",
       "<tr><td>0</td><td>ExprTuple</td><td>1, 2</td><td><a class=\"ProveItLink\" href=\"expr.ipynb\"><img src=\"data:image/png;base64,iVBORw0KGgoAAAANSUhEUgAAAJMAAAAWBAMAAAA2trNNAAAAMFBMVEX////c3NwiIiJERESqqqqY\n",
       "mJh2dnZmZmYQEBDu7u4yMjJUVFTMzMyIiIi6uroAAAAs73DqAAAAAXRSTlMAQObYZgAAAmxJREFU\n",
       "OMutVT1oU1EU/pKXv5fkJamCIB3MIDq4GIK4CHVzcGgmJy3PUuwgAacMCjaCbqU8ELSLNCCigoM4\n",
       "dLD+dHAIOFjIaENrxzoYbbVEY+o55+Xe9+It1MED38v97v3ud9+597wb4D9GbmUvNqF7vH1nTij9\n",
       "e8LH3aWlEwXFOJLLakKRH5dCDodqV32PsFb0T5n9BKxbUIyjoRpTQ91A4hnwwjO0BIdXyP4AYgSf\n",
       "SVxQjYOEyEntZD+kR+q5oSWkeAGnD8R3MGAS86qRpq7kWW2V5oSTXUNL2OS21QEy2xgwCUvNjl8e\n",
       "GTkQ5DfDm5LoG1pCjdt5ynSBkyBmT7s44iFxTQm3yuVjelZkS/Zr29ASHvHQBxfZ49wglsh1sEZb\n",
       "p/f9FVDSVsnv8ho9Q0uY46G1xSs1qQVi75JFlKlo6mr2Z9jaFtGuZFE3tATOGmNqB4l5qRX8pkPt\n",
       "6NlwKtpKTDDuGlqCWH1DYIVxL9sLWzmVaFDxeanYJ56hJdzmstpRSmbX4dTDCdoNKutcyz/8NK8Q\n",
       "65lawqlBWfnB7DEsqsA4748tnaU3wIN8ocntWD/SXm6um1rCNB9IV1kxu4EvFfjFsCDpnKPn4Q20\n",
       "RDF5D1OlPbSEDeD+2C/1DRDD3fYMnWaaV57/yp0pHl3Ea/86eFk9iqypJaQK4XvDZ5P6w/kk9e7J\n",
       "0c8q0RlcNLWEuBu2IpYp2ryhVeFBFczm9JGezjVMbXX4/hAWdS0XqioDq/MtXadvd9cNrehHh6xG\n",
       "EWvfpN+MvL0TfHuFjL5TmndMregjQxeyYqt/Xb6Wu2lcyGHt6r//A8Ta7n6SP+Jxw1NpAgUlAAAA\n",
       "AElFTkSuQmCC\n",
       "\" style=\"display:inline;vertical-align:middle;\" /></a></td></tr>\n",
       "<tr><td>1</td><td>Operation</td><td>operator:&nbsp;3<br>operand:&nbsp;8<br></td><td><a class=\"ProveItLink\" href=\"../800c5eb39749127b7ac6902f9179981d7ea0a5160/expr.ipynb\"><img src=\"data:image/png;base64,iVBORw0KGgoAAAANSUhEUgAAAC0AAAAVBAMAAAAgHXppAAAAMFBMVEX////u7u5mZmaYmJi6urqq\n",
       "qqp2dnbMzMwQEBBEREQyMjLc3NwiIiJUVFSIiIgAAAAeC3ydAAAAAXRSTlMAQObYZgAAAR1JREFU\n",
       "GNNjYCACsDyA0CZg8u3/u3fPbgCxaqHyTAVg6hcDA2c3iLEQpnEBiGD/xsDACsQMfA9g4mYggu8L\n",
       "AwPzJyCDQwAmLgEiOD8wMPB+BTK84A7gDAAS/EDT5CcAGWoMDIxJCQz7BRjYFIDc+gQG9kMgVYsZ\n",
       "GNhYPjC8B1oHsvj9tTQ1sDNbGBhKmQ4wzAR6pAHInQ+zDmi/AMcDhn9AJwKtZPjDgBBniBdg/w4R\n",
       "Z/8EE28FYi0GvgaIOSDnQ8BkIF7EwHkB6B2gvZwfYeJJQKzL4G/AAHKn0Py/MO/7ALHkO32g27gc\n",
       "kIOZA+zaHFg4wAFzAgPvAUaQ7Xmo8bKQgSeBMwEYGgtQxfcysL5TAdK8G1DFuaEueM7AAADgEUAs\n",
       "2jlUwQAAAABJRU5ErkJggg==\n",
       "\" style=\"display:inline;vertical-align:middle;\" /></a></td></tr>\n",
       "<tr><td>2</td><td>Operation</td><td>operator:&nbsp;4<br>operand:&nbsp;5<br></td><td><a class=\"ProveItLink\" href=\"../526dd81068cec97a109631093c2e170f2beb6b970/expr.ipynb\"><img src=\"data:image/png;base64,iVBORw0KGgoAAAANSUhEUgAAAEkAAAAWBAMAAAB+hazNAAAAMFBMVEX///8QEBC6urrMzMxUVFRm\n",
       "ZmZERETc3NwyMjKqqqp2dnaIiIiYmJgiIiLu7u4AAAAU9Wx4AAAAAXRSTlMAQObYZgAAAbZJREFU\n",
       "KM+NUz1IQlEU/nz6fD71PSWnoKGhwUVSaGmLWqKIIhrCxSDSpeENkRBURtQU0VCzb0hCJBACF4ek\n",
       "tlpca3otDbWIghBFde69ei2i6ML5eed8957vnHsf8K/l/JpRysJekdSZc/sluZE8FemRTkCNA0Xm\n",
       "HPZA/l1gxvkWzAHrZLQlCTL3SbnGSAXK3dgN4KN96pFE+RgD9Z1BJeMHIHiWzW72CqbirGqTVFTG\n",
       "vHRIO52+lwGtzbm9kEpS+YKNbQf+OWACyEiU+sY3t0gdEFpp4BLQif4QzJxEGYwRQmFSfcCoWkea\n",
       "BkefBgI1ieJ55G1SxM1xlfEKuBvUcc3ozT/Eh7zjCBTyjrslUGaOhqxUROc+CkBntNBPsohAWFRE\n",
       "Zhx4DlkJltKbWjWeGGTuKskevDTgION9QlW2YqjwkudPKIqWCyQLGCbObBJwsauYwrR4CJOlO7iZ\n",
       "FyN5rKYsosHODjq870i3g2VcM+Oy+NnihjorojS67orC5xe04ambrIeSRB1X5GhnPzh7ejmG7bXx\n",
       "Zeia5ZEPJTEg7Br06jxZjyWv3Y7+eNFaZ9+FjOhV+6+f4xPN5mUFbhNoDQAAAABJRU5ErkJggg==\n",
       "\" style=\"display:inline;vertical-align:middle;\" /></a></td></tr>\n",
       "<tr><td>3</td><td>Variable</td><td></td><td><a class=\"ProveItLink\" href=\"../../../packages/proveit/__pv_it/6369c6c8083c513ca7161ace249642d040f9327d0/expr.ipynb\"><img src=\"data:image/png;base64,iVBORw0KGgoAAAANSUhEUgAAABAAAAAOBAMAAADUAYG5AAAAMFBMVEX////u7u5mZmaYmJi6urqq\n",
       "qqp2dnbMzMwQEBBEREQyMjLc3NwiIiJUVFSIiIgAAAAeC3ydAAAAAXRSTlMAQObYZgAAAGBJREFU\n",
       "CNdjYGB4+//u3bMbGIDgFwMDZzeQZv/GwMAKxAx8XxgYmD8BGZwfGBh4vwIZ/AsYGOQnABn1CQzs\n",
       "h0Ca3l9LUwPrni/AAAF/oDT7JygDZAwYcH6E0ELz/z4A0QBnpRnRyxnfJQAAAABJRU5ErkJggg==\n",
       "\" style=\"display:inline;vertical-align:middle;\" /></a></td></tr>\n",
       "<tr><td>4</td><td>Literal</td><td></td><td><a class=\"ProveItLink\" href=\"../../../packages/proveit/logic/boolean/quantification/universal/__pv_it/265f8c02ac1094d56e0e6410a1c1fd3500dc9f540/expr.ipynb\"><img src=\"data:image/png;base64,iVBORw0KGgoAAAANSUhEUgAAAAwAAAAQBAMAAADQT4M0AAAAMFBMVEX///8QEBC6urrMzMxUVFRm\n",
       "ZmZERETc3NwyMjKqqqp2dnaIiIiYmJgiIiLu7u4AAAAU9Wx4AAAAAXRSTlMAQObYZgAAAFhJREFU\n",
       "CNdjeMAABhdAxGmGlSCqj6EMSLInMHAAJVknMPAsLy+vBYp8S0u7BaScGRjSgZQKA18DkOJl4D4A\n",
       "pLgP8IJM4mswARuX7gSmpoKNZWDcAKZ4gCoAgTQTILaSE58AAAAASUVORK5CYII=\n",
       "\" style=\"display:inline;vertical-align:middle;\" /></a></td></tr>\n",
       "<tr><td>5</td><td>Lambda</td><td>parameter:&nbsp;8<br>body:&nbsp;6<br></td><td><a class=\"ProveItLink\" href=\"../f06a388c2f54d8697a6805be908a4ebfaccab97c0/expr.ipynb\"><img src=\"data:image/png;base64,iVBORw0KGgoAAAANSUhEUgAAAFgAAAAVCAMAAAD1jdm0AAAANlBMVEX///8UFBQNDQ2YmJhUVFQy\n",
       "MjIQEBBEREQiIiKqqqrMzMyIiIi6urrc3NxmZmZ2dnbu7u4AAACrLjZHAAAAAXRSTlMAQObYZgAA\n",
       "AXJJREFUOMvNlElyxCAMRUmYZ3T/ywZhMwh7EbqyiKu6GoP89DUgxv7zEzx55eEjSswpZ7GinNhM\n",
       "kvuAm2X7SpgytmTZjeQxtkh9r9SQ6f3DjOdTsDQjXOg6VXn6V4fcBCN7Ge4Shbe4ta30WgysSVdA\n",
       "7axd6wZ65hruk3SFTTE51R8LgJmC+wtDfYuyCuZTUxcvrz2KsZI5yxKytH4HFxHH2sD0Aj2NqqVk\n",
       "wwTFqqnCskKv7feXIY+C8IBVSdALfx1vGAfNpuDKvStmYt4jmGdy9EL3SzANnLBcfojZwCkuzQZT\n",
       "8GgP1Yu4YgL+y4S5Ee9gt3a/reqi9445NcPQd0EJhqOXVF/CrDe9R7T5syk1tdnqJQzsLLZj2mbR\n",
       "3ieIv5tjQmZvMPiRinCHSDAyDCkH909XKJ8DTMUlouVKC4MLewJO5B5fE4dgMubT1H19NI0EAKyz\n",
       "vI3NFVOaW1tTczbynVKcjH6xYURkf/NE2kke8/8DTrIO3BszKckAAAAASUVORK5CYII=\n",
       "\" style=\"display:inline;vertical-align:middle;\" /></a></td></tr>\n",
       "<tr><td>6</td><td>Operation</td><td>operator:&nbsp;7<br>operand:&nbsp;8<br></td><td><a class=\"ProveItLink\" href=\"../10532bc38c8d4c49948a62cf0629ca5786c4e92b0/expr.ipynb\"><img src=\"data:image/png;base64,iVBORw0KGgoAAAANSUhEUgAAACwAAAAVBAMAAADP3xFXAAAAMFBMVEX///+YmJiqqqq6uroQEBBE\n",
       "RETu7u4iIiLMzMwyMjKIiIhUVFRmZmZ2dnbc3NwAAADS0us6AAAAAXRSTlMAQObYZgAAAThJREFU\n",
       "GNNjYCAMrCAUowGI5LtzdxeYy7EBKn0CRNxsYOAuAzE4E6DCnECcGQAkvEG8VTDDGC8wMEwHMc6D\n",
       "FLrBhNkcGHh+gBj3gbYwT4DbHcTwPgAsrMDAwAPUmnuWge8bA8MdhvMCIOH4BqBFQNYFewauDwwM\n",
       "mgz1YOu/ADGLAQOHwnEGVqB2E7AAA9NfIMFvwMDG4MXAv4CBoZ/hO9ihbhBhBqZvDP0NIOH5IGH9\n",
       "BpAhIGsnMCxhABmib/BqBYczSI4VaCXnAYZoIFOSgbfsAq/qA5Aw7wGg6g3MHxlADmSwnrtcgQFk\n",
       "CHMB0H9Ra/4BmZPBuhsYQcIMfmA9BWDPg4QPWIK9LMvAsJ0hBWgx7wIQl/v/ZwZowNYyxIICFRL8\n",
       "LuAAYODbwKC1BhQz+1Aj7RWE4mpgAAAw1EKPQNp2tAAAAABJRU5ErkJggg==\n",
       "\" style=\"display:inline;vertical-align:middle;\" /></a></td></tr>\n",
       "<tr><td>7</td><td>Variable</td><td></td><td><a class=\"ProveItLink\" href=\"../../../packages/proveit/__pv_it/98124f92e6e1fc3772af50ac63eaa1f5624776f20/expr.ipynb\"><img src=\"data:image/png;base64,iVBORw0KGgoAAAANSUhEUgAAAA8AAAASBAMAAAB2sJk8AAAAMFBMVEX///+YmJiqqqq6uroQEBBE\n",
       "RETu7u4iIiLMzMwyMjKIiIhUVFRmZmZ2dnbc3NwAAADS0us6AAAAAXRSTlMAQObYZgAAAHxJREFU\n",
       "CNdjYGDgu3N3FwMI3Gxg4C4D0pkBQMIbiKeDRM8nMPD8ADHuGzC8DwAzFBjOC4AY8Q0M9Qkgxhcw\n",
       "YmBg+svA8B3E4HRjYJgPYug3ALHBqxUczkAOb9kFXtUHIGHrucsVGBrAtrI2MEIZByzBNAP3/88Q\n",
       "BocL0BoActoerD1tNT4AAAAASUVORK5CYII=\n",
       "\" style=\"display:inline;vertical-align:middle;\" /></a></td></tr>\n",
       "<tr><td>8</td><td>Variable</td><td></td><td><a class=\"ProveItLink\" href=\"../../../packages/proveit/__pv_it/f8b9edf8e16034727f0aad55bb83e392c3db40d40/expr.ipynb\"><img src=\"data:image/png;base64,iVBORw0KGgoAAAANSUhEUgAAAAsAAAANBAMAAACN24kIAAAAMFBMVEX///+YmJhUVFQyMjIQEBBE\n",
       "REQiIiKqqqrMzMyIiIi6urrc3NxmZmZ2dnbu7u4AAADXeCicAAAAAXRSTlMAQObYZgAAAFhJREFU\n",
       "CNdj4LtzgWH/AwZerg8M8xkY2nkSGEIZGB6wTGD4ycDAUP+A4weQOszA6QCkbBhYFYDUIYb1AkDq\n",
       "6czzGxhA4BoQMyXwuQMptgusF4AU+8xTQBIAUqMVoSp/SLMAAAAASUVORK5CYII=\n",
       "\" style=\"display:inline;vertical-align:middle;\" /></a></td></tr>\n",
       "</table>\n"
      ],
      "text/plain": [
       "0. (P(y) , forall_{y} Q(y))\n",
       "   core type: ExprTuple\n",
       "   sub-expressions: 1, 2\n",
       "1. P(y)\n",
       "   core type: Operation\n",
       "   operator: 3\n",
       "   operand: 8\n",
       "2. forall_{y} Q(y)\n",
       "   core type: Operation\n",
       "   operator: 4\n",
       "   operand: 5\n",
       "3. P\n",
       "   core type: Variable\n",
       "   sub-expressions: \n",
       "4. forall\n",
       "   core type: Literal\n",
       "   sub-expressions: \n",
       "5. y -> Q(y)\n",
       "   core type: Lambda\n",
       "   parameter: 8\n",
       "   body: 6\n",
       "6. Q(y)\n",
       "   core type: Operation\n",
       "   operator: 7\n",
       "   operand: 8\n",
       "7. Q\n",
       "   core type: Variable\n",
       "   sub-expressions: \n",
       "8. y\n",
       "   core type: Variable\n",
       "   sub-expressions: "
      ]
     },
     "execution_count": 4,
     "metadata": {},
     "output_type": "execute_result"
    }
   ],
   "source": [
    "# display the expression information\n",
    "expr.exprInfo()"
   ]
  },
  {
   "cell_type": "code",
   "execution_count": null,
   "metadata": {},
   "outputs": [],
   "source": []
  }
 ],
 "metadata": {
  "kernelspec": {
   "display_name": "Python 3",
   "language": "python",
   "name": "python3"
  }
 },
 "nbformat": 4,
 "nbformat_minor": 0
}
