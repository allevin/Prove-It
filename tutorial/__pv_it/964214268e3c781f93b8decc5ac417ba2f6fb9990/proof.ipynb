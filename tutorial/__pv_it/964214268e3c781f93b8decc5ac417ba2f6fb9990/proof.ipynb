{
 "cells": [
  {
   "cell_type": "markdown",
   "metadata": {},
   "source": [
    "Show the Proof\n",
    "========"
   ]
  },
  {
   "cell_type": "code",
   "execution_count": 1,
   "metadata": {},
   "outputs": [
    {
     "data": {
      "text/html": [
       "<table><tr><th>&nbsp;</th><th>step type</th><th>requirements</th><th>statement</th></tr>\n",
       "<tr><td>0</td><td>assumption</td><td></td><td><span style=\"font-size:20px;\"><a class=\"ProveItLink\" href=\"../1121cdd28130e69f2d6028d91531dd15e9b047a90/expr.ipynb\"><img src=\"data:image/png;base64,iVBORw0KGgoAAAANSUhEUgAAAGEAAAAVBAMAAACkm51HAAAAMFBMVEX////c3NxERESqqqpUVFS6\n",
       "urrMzMwyMjIQEBCIiIh2dnYiIiLu7u5mZmaYmJgAAABXZE4RAAAAAXRSTlMAQObYZgAAAdRJREFU\n",
       "OMuNUz8sA1EY/7XVq9bdsZpISIqFTcTQSgzEUCOTGwy2djGrCCIxGAwMQmIRIjFYdJKQEBYMCIl0\n",
       "kEgsKilJpcH3fe/17orBS37f/b6793vfv3cA7Af8cxnbDfwwc9WvR39ze1gBxgy70QKbVLE/viTn\n",
       "JNkeLze4nNa1Bm7YxLJs65thzjOJHLLtSORdzkQDW54iTQFSHHhVMn07QoVLWhsKfsW6A0wRsMhe\n",
       "qCAbFysKM6vgV7RR1kV6hjPsWXtwuawWDZ+Cdvdy5RbHtgf2LzQ/u0OgDOxCQRQWn2QUV2+lVZG8\n",
       "9MHlG2PSzG4ovPD7Ca43Wkbonb1a9tDkaG503SPYDIxAIUKxx+f4YzAridHpokhAcxMLEjANBcQp\n",
       "7gifV59EwKfYqSgQKiPteIo6LrOG60jnYX9IJl1sW1HhVOUKvKykjtieGodVAo04KJUviII5Jc7y\n",
       "Jw2vu51UfClAO2IXMnJRMLeS4U/86C4pzKuvQbplfCnCHDFcFgVzs33tleikhm+C7prmXmc8Lln/\n",
       "dUvc9Qw8qmKED+GU6o8tKSiFXa2gGz5/7vEcOoicaKj/wzyoUgSSeL70eM8aD6hPw5hVl3+zStL4\n",
       "m0cdBfnPvwF384WxkjQTGwAAAABJRU5ErkJggg==\n",
       "\" style=\"display:inline;vertical-align:middle;\" /></a> <a class=\"ProveItLink\" href=\"proof.ipynb\" style=\"text-decoration: none\">&#x22A2;&nbsp;</a><a class=\"ProveItLink\" href=\"../7aa454bcc8446e5a1c8515a46db6a919038056c50/expr.ipynb\"><img src=\"data:image/png;base64,iVBORw0KGgoAAAANSUhEUgAAAE0AAAAVBAMAAADx+n4ZAAAAMFBMVEX///92dnaYmJjc3NxmZmYi\n",
       "IiKqqqq6urrMzMwQEBDu7u4yMjJERERUVFSIiIgAAAArjcN0AAAAAXRSTlMAQObYZgAAAYJJREFU\n",
       "KM+dkbFLw0AUxr+mNU1iWjNUR9HJSSzuog7iINL8BdL/oF1c7FAnN2kXdZMMLgXBIE4dOnQTBAs6\n",
       "asngIIhtcbGDrd57d00C3fzge/nl3bs73jvgH0oH07yiDHz+vr60mE4pWN2nkIVSx9JCP0DDJ2hS\n",
       "sBe+Qib5yjDGQOZbQJavujkqhkxaVkZ2CMwKw/Tot8SrkkkNZdh1oNYRUOH8DsdK2JBdlMZcB/oB\n",
       "ZbYprJ49K7ZyDjY9JLbARq37dsk7bzmOJ5xID9AHdF8afQ8lbvyCQnIIxScpFw9ikHVp3PPVQtQz\n",
       "9AEUe2ZAhxsDaYyAzagu4U7qUPKMYVRniLGuObR2zu3xFuY9ZOvRvTS+QmCJfJsHJwdMfMebNF/a\n",
       "Fmf2g3WRz/FzlLmOeB/VJUzmcvU4CpBq0SmHVFCVD0F83SvkxVOVpSOZIouPGGM+/m6hNAdapx1y\n",
       "xrWom0XlmJowm27IM44txmD50nFtQMvlQ9Z7u+KbyUvHlQym+V36DyXQcmvYczA1AAAAAElFTkSu\n",
       "QmCC\n",
       "\" style=\"display:inline;vertical-align:middle;\" /></a></span></td></tr>\n",
       "</table>"
      ],
      "text/plain": [
       "<proveit._core_.proof._ShowProof at 0x7f94ea9e7ba8>"
      ]
     },
     "execution_count": 1,
     "metadata": {},
     "output_type": "execute_result"
    }
   ],
   "source": [
    "import proveit\n",
    "%show_proof"
   ]
  },
  {
   "cell_type": "code",
   "execution_count": null,
   "metadata": {},
   "outputs": [],
   "source": []
  }
 ],
 "metadata": {
  "kernelspec": {
   "display_name": "Python 3",
   "language": "python",
   "name": "python3"
  }
 },
 "nbformat": 4,
 "nbformat_minor": 0
}
