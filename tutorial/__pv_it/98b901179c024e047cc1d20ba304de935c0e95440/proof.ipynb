{
 "cells": [
  {
   "cell_type": "markdown",
   "metadata": {},
   "source": [
    "Show the Proof\n",
    "========"
   ]
  },
  {
   "cell_type": "code",
   "execution_count": 1,
   "metadata": {},
   "outputs": [
    {
     "data": {
      "text/html": [
       "<table><tr><th>&nbsp;</th><th>step type</th><th>requirements</th><th>statement</th></tr>\n",
       "<tr><td>0</td><td>modus ponens</td><td>1, 2</td><td><span style=\"font-size:20px;\"><a class=\"ProveItLink\" href=\"../e398eb085fccdfc27c029a6899443d89336341480/expr.ipynb\"><img src=\"data:image/png;base64,iVBORw0KGgoAAAANSUhEUgAAALAAAAAVBAMAAAAUSHkwAAAAMFBMVEX///9ERETc3NyqqqpUVFS6\n",
       "urrMzMwyMjIQEBCIiIh2dnYiIiLu7u5mZmaYmJgAAABJJ2g3AAAAAXRSTlMAQObYZgAAAnpJREFU\n",
       "OMutlT1oFEEUgN/t3d7drpM9UYsUggsWwUJMIaYKnLJgJaawUFC4ImCwuTSiqNFD0DSSXJtCDEkl\n",
       "KGinBvS6IDango1ozkrQImc8Cf7EOO/NzszbZL1LkYV9+3bevm9m3s8sAAQfYZuvC3MoxbNu35zp\n",
       "SQlGNo+NDUrhtdVL/lGKV74sPU92oqMX05gv93xoHYR3SQ/E9I1L4dfUSKGd4lpoSFHcCbCUsi5/\n",
       "CuDcFBSSHm3N1OCvf6y1oZUZFNW6vMt6SBjlqvzMX4FgloMJw8HO8Iq1XtPKHRT3QoDl2cQmSEGj\n",
       "WwNRY1yF4WDP+2HNp+Kni7GCfnk/MZtw9dqXMENOE2A3AysMB5/N/mXRq6tnH62zAzCw1xrvx2tb\n",
       "pXhUAB4ysMIQkzIIYiT/k1ALdK3Fu21hnjszd5/T63uyvWiqSc1Chiw3xgSYwTHKtwvOGps4q8qr\n",
       "iDZPRu1VmRmHyGOHyclpa9KYCYDR2zQyGkXfeHIXb6EsISIj9+WxOIG4jMOltq6RqjVpTOa6nK+C\n",
       "mvx0kpf5lYYBl7BJfjHj+Qe0GwIfSYI1Brs5hzHOYuJZjB+rIihi4qsy0LnvNsYLKpE5qvtmIhQa\n",
       "QzH2sQf3y/sGC3Ec0kwrLuND49Z4ON4UZsnHBXw2PaUxptwE+u0zpQoDuuyaqozzk9bm6DmWB8F9\n",
       "gwqWm/gNDKPBTv9qCJ/WJ4zzLp1kuZvX61F0qWUXnAl1Ho6feEsKVpCYDhkmcVbwq6KVmykH3sYB\n",
       "1dJuyI+n/4HN9WULx7pq0wA2goNu4EKjN3gRNoGpm8XTLk5OuTf4GMl64g9CvRnMd/E60JPrVVL/\n",
       "ef8A0I2qransJX4AAAAASUVORK5CYII=\n",
       "\" style=\"display:inline;vertical-align:middle;\" /></a> <a class=\"ProveItLink\" href=\"proof.ipynb\" style=\"text-decoration: none\">&#x22A2;&nbsp;</a><a class=\"ProveItLink\" href=\"../42830de3d5d651692ced1272b0fa0a601667b4020/expr.ipynb\"><img src=\"data:image/png;base64,iVBORw0KGgoAAAANSUhEUgAAAEEAAAAPBAMAAABJi79qAAAAMFBMVEX///+qqqru7u4iIiJ2dnbc\n",
       "3NyIiIjMzMxmZmYQEBC6uroyMjJERERUVFSYmJgAAADLUcuvAAAAAXRSTlMAQObYZgAAAPhJREFU\n",
       "GNNjYGB4+//u3dMLGDABU86NPtYGEGsOAwPHLywqPB8wcHU+ADLYvwHxX4ROGEPbCEj4BwAJtq8M\n",
       "DHxf4Cq4FaCMnSDGShCLZwIDA/MkuAquCxCa4yOIjAAR/BcYWPcoIKx3g1DxG0CkOoiov5bW/AAs\n",
       "2GwMAvZg5zP0P4DryQ9gYLJF9oM02Ov2AXCBkyBVD5DDYSdIyX8wG2w7yKPvHZBUVDuByPkggrEA\n",
       "FBz/gMR9AYQ7jA+B1d0HaedggAYH628kI2QhVH0CkHCCBUflJoQC1g0Qmg8YHitAruU4//fu7X1I\n",
       "RvDA/FC7t0OAARtgR+MDAAhbPiSyASIoAAAAAElFTkSuQmCC\n",
       "\" style=\"display:inline;vertical-align:middle;\" /></a></span></td></tr>\n",
       "<tr><td>1</td><td>assumption</td><td></td><td><span style=\"font-size:20px;\"><a class=\"ProveItLink\" href=\"../15c3cba29eded45d69b52b3f95a3b51c4db44ad50/expr.ipynb\"><img src=\"data:image/png;base64,iVBORw0KGgoAAAANSUhEUgAAAJMAAAAVBAMAAACwIsHjAAAAMFBMVEX///9ERETc3NyqqqpUVFS6\n",
       "urrMzMwyMjIQEBCIiIh2dnYiIiLu7u5mZmaYmJgAAABJJ2g3AAAAAXRSTlMAQObYZgAAAjpJREFU\n",
       "OMtjYGDgu8dAKWBbpQCieHbhUxRJ0Bi+AJBZzSAm5weoyRuwWecAVOv/xcWxFJspJ0XuPtBluAZi\n",
       "XgcRXA0QcfYPWBSzHwASHAIMDPcDMCW5+hgYYvsY2EHsFchGvf6DUHQAxpgJIvInALEDTIgHzqgG\n",
       "KuP6xMC3AM0oJttPCKNqYIweEDEfGKbvF6A4FMwASbI2MPA0oBnFyfkVYVQIlGYtAJESQLwD7lBW\n",
       "mPvuG4BccIGBQRjNqBjmf0ihMAFC84Ld8oWBQV0GIbkSQjF9B/sygYFhLcwoXrDNPAFsP8G83WDw\n",
       "F+qHB6BY/DJz7j4w9zZYbv8FiDVwq82B+D2IkQGOG1YGpr9IkcMMiXwOkBwnMBBPOyBJmoN1cMPD\n",
       "NgJkKdD8lDYwN8XF5SNyRB9vBZH8IE2MwBDgRPI9A08FSJj/Ayw+80EMcaAHIhJALKBkO3LSrDoA\n",
       "N4oflEx/IUmmrwG7GGyUGdQoblCosoDCihkUSUhhtRESYRygSMoH2sfyGRFWuyFRwAJOhxegHgSH\n",
       "FRcowygDcT1SUEGDhvEBNFnpFyAkTaAOB0UTF8jK58iJgQekUh6edBjUYYniAiRZsbUj5Jhgpr43\n",
       "YGC9BGKsRTKKSeK7AsPD/7Vw5UKw5Ah08cX/Li7lDxCOYlSAhae772UwoxQ9DyKDBBijCUthgS6A\n",
       "kXGwg1dElHvgrAE2ig+fUewHCBt1HF5e8ezEo4zJgbBRTiBft0JK1MV41GkSNIkzAVq2AwBBeJap\n",
       "i8vSQQAAAABJRU5ErkJggg==\n",
       "\" style=\"display:inline;vertical-align:middle;\" /></a> <a class=\"ProveItLink\" href=\"../ddd90e4817bb707593da8da935028ce10e1053910/proof.ipynb\" style=\"text-decoration: none\">&#x22A2;&nbsp;</a><a class=\"ProveItLink\" href=\"../e08077b970a63d67dd002d7a6ec4c2165373bbf60/expr.ipynb\"><img src=\"data:image/png;base64,iVBORw0KGgoAAAANSUhEUgAAAH8AAAAVBAMAAACd/CwcAAAAMFBMVEX///92dnYQEBBERERUVFS6\n",
       "urqIiIhmZmaqqqrc3Nzu7u6YmJgyMjIiIiLMzMwAAACFkkdwAAAAAXRSTlMAQObYZgAAAd9JREFU\n",
       "OMtjYKAdYE0gqGQrjPEWm+wTIN7y38XFJgCLJFeyezVnAfsDKPc8NgNOgQhlBgb2r1gkhTYwsBZt\n",
       "YDgA4XHfX4AwGsZgA/mA7xsQf4FLwpWtuQUk5CcwbIRwZ9RPgKvhgSliAjHYfgKN/4jqKBA4BJIM\n",
       "YmBYBOEm5CO8yeoAZcSACGYFBgZeLbhkCJRm/wEipwPlG8B6FvRvQPhODEoXggh+BwbOwwj/MUIj\n",
       "Zj7Y7+uAAgUgxlKG92CJ2rsgcL8Aoug0iHjvllYLNpwdLHf3O0SuHmYhB9ikAIb5BUgB3APxjyqI\n",
       "yJ/AwHUFSY7jKJi6DwszVgVQSLu4+BsgR/EhsAngyDMCGYLkP4Y1YHP/w+KE7wPIFGCIH0BS80aK\n",
       "AW4AKAb3CyDk+A6CA0Qf7JoHUAOAAcmrgAiDu1YQtRog9b+BhH8DIgwuQwLUH0SxQ73ACZTn+YCw\n",
       "pAVKW0OTAecfpCCAxjE40EEO5QY6fQ0oun/B1XDCfCMOTQaPTiEMmAOluYHpIBwUkMBonKx/koHb\n",
       "/g88GphhARwLdKT9Fxef00jBYwnPaEfKwUmIBzOj8cEYTBMws9ADdIFFePI6twARZYYYPslThPVz\n",
       "HcAnO4WwASwT8MlyEi7S8hgYAJt5gWD7FNeSAAAAAElFTkSuQmCC\n",
       "\" style=\"display:inline;vertical-align:middle;\" /></a></span></td></tr>\n",
       "<tr><td>2</td><td>assumption</td><td></td><td><span style=\"font-size:20px;\"><a class=\"ProveItLink\" href=\"../2700633c29669936275e69317ebd77c3a6285b9c0/expr.ipynb\"><img src=\"data:image/png;base64,iVBORw0KGgoAAAANSUhEUgAAACIAAAAVBAMAAADRFiHkAAAAMFBMVEX///9ERETc3NyqqqpUVFS6\n",
       "urrMzMwyMjIQEBCIiIh2dnYiIiLu7u5mZmaYmJgAAABJJ2g3AAAAAXRSTlMAQObYZgAAAK1JREFU\n",
       "GNNjYGDgu8cAA1mLQCTPLgYEyDAAEpwfIBy2DUCCtwBIcDVARNg/wDgwkdd/0ESYbD+hiXByfkUT\n",
       "iWH+B+OAjWfgCWD7CaT4QMZnBIBEWBmY/oLoWgaGlDawphQXl48gmrGOgSEiAcQCKmwH0SAPsIDM\n",
       "YQbiHTBzuECuVwbiemTbeUDq5A8gRJgkviswPPxfi+YvMMAhwocsAvYAz07kMAR7gG8xSjgDAMfT\n",
       "LYlEWPTfAAAAAElFTkSuQmCC\n",
       "\" style=\"display:inline;vertical-align:middle;\" /></a> <a class=\"ProveItLink\" href=\"../0cbf4ba18936f5d879bcab1d3c6cf36bbb2fc9690/proof.ipynb\" style=\"text-decoration: none\">&#x22A2;&nbsp;</a><a class=\"ProveItLink\" href=\"../../../packages/proveit/__pv_it/2cbe72a7ad6f655694dd697106680215e8489b600/expr.ipynb\"><img src=\"data:image/png;base64,iVBORw0KGgoAAAANSUhEUgAAAA8AAAAOBAMAAAACpFvcAAAALVBMVEX///8QEBBERERUVFS6urqI\n",
       "iIhmZmaqqqrc3Nzu7u6YmJgyMjIiIiLMzMwAAADtIaYWAAAAAXRSTlMAQObYZgAAAFtJREFUCNdj\n",
       "YACBOwxQsA9Kc52bAGG05zVAGAFxDmCaZULdAjBjCsO9ADDDgaEvAUTzGhvbKYCVMDAwbgAxChgY\n",
       "eASANAeQwf0AyJgNxEwvGRia5HYwcOm9TgAA6BoR3jrzwFcAAAAASUVORK5CYII=\n",
       "\" style=\"display:inline;vertical-align:middle;\" /></a></span></td></tr>\n",
       "</table>"
      ],
      "text/plain": [
       "<proveit._core_.proof._ShowProof at 0x7f94ea7b6080>"
      ]
     },
     "execution_count": 1,
     "metadata": {},
     "output_type": "execute_result"
    }
   ],
   "source": [
    "import proveit\n",
    "%show_proof"
   ]
  },
  {
   "cell_type": "code",
   "execution_count": null,
   "metadata": {},
   "outputs": [],
   "source": []
  }
 ],
 "metadata": {
  "kernelspec": {
   "display_name": "Python 3",
   "language": "python",
   "name": "python3"
  }
 },
 "nbformat": 4,
 "nbformat_minor": 0
}
