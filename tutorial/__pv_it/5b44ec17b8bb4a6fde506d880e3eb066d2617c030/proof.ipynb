{
 "cells": [
  {
   "cell_type": "markdown",
   "metadata": {},
   "source": [
    "Show the Proof\n",
    "========"
   ]
  },
  {
   "cell_type": "code",
   "execution_count": 1,
   "metadata": {},
   "outputs": [
    {
     "data": {
      "text/html": [
       "<table><tr><th>&nbsp;</th><th>step type</th><th>requirements</th><th>statement</th></tr>\n",
       "<tr><td>0</td><td>assumption</td><td></td><td><span style=\"font-size:20px;\"><a class=\"ProveItLink\" href=\"../82ef1cce2e6b250e0658ec648981daf97f951def0/expr.ipynb\"><img src=\"data:image/png;base64,iVBORw0KGgoAAAANSUhEUgAAAFMAAAAVBAMAAADInc9CAAAAMFBMVEX////c3NxERESqqqpUVFS6\n",
       "urrMzMwyMjIQEBCIiIh2dnYiIiLu7u5mZmaYmJgAAABXZE4RAAAAAXRSTlMAQObYZgAAAXBJREFU\n",
       "KM9jYGDgu8dACLCtEgBRPLsYCAO2ZhDJ+QFE+H9xUZ+ATZHUrSUg8esgNlcDiORXYOBpx6KSq4yB\n",
       "wfsAA8MKhNJ8oFb/AJgCHjijCEhwOKAonZ/AwFCfAFPBfgDG2AAkeP+gKNUAOv0L3FpWByjjPkg3\n",
       "11cUpUBl1kjeWgmhGD+BVXyGKuUtAAXGl5k3ICpv7waB/RfAHN5/IJLpGwPDexAjA+QZzj8MzN+Q\n",
       "fW4O9iL3H3DoAO1lB+pNaQNrbAC7AQF4KgKgihgY7BcACfUHDAwRIJfzOzAwoihNXwM2DxQADBXA\n",
       "8OAGKWcBuTX/AQPfLyS37taBhBUoJsEuA7uVawMkWHl/MhyAG2oCoZi/Ms5MAHsGEVj6QJ/9ZHwA\n",
       "U8lYAGWsPsWwWJEBSSnPpf+ewBQxE24okwAsLtxXbmZgQzEVPc0hsdUYnuFTigx0WQtgSvkIKPX/\n",
       "HwBLrzw78SvN6AO5qBXM5ltMXN4CAIwXZzNabsVCAAAAAElFTkSuQmCC\n",
       "\" style=\"display:inline;vertical-align:middle;\" /></a> <a class=\"ProveItLink\" href=\"proof.ipynb\" style=\"text-decoration: none\">&#x22A2;&nbsp;</a><a class=\"ProveItLink\" href=\"../9689ca3517a1f7154890f40ae98c2a58c9e7b4290/expr.ipynb\"><img src=\"data:image/png;base64,iVBORw0KGgoAAAANSUhEUgAAAEEAAAASBAMAAAD2w64vAAAAMFBMVEX///92dnaYmJjc3NxmZmYi\n",
       "IiKqqqq6urrMzMwQEBDu7u4yMjJERERUVFSIiIgAAAArjcN0AAAAAXRSTlMAQObYZgAAARJJREFU\n",
       "KM9jYGB4+//unX0MWACziOA9COsPA8PKDVhUSDcw8EaBGBz/GBh4v8PFF8AYqw8AibkgFt8PBgbu\n",
       "H3AVu2CMrSDCH6SBZwIDQ/8FuIpaKM0C1iRfACT4LzCwxSFsZ3wAoe0PgFUkAIn+e0/mQXSFgsEX\n",
       "iAp/BRB5vgFIvF/AkN+A5AW27WAqHuzknyDiJNgiJLB6OlyO7SOI/Au0E1kFx0aw7q8ggnsWSOAT\n",
       "A4O+AJI7YiAhsh9EgK0HBYf/Ay6EM6Dm5RfYveAA28fzAejYB0ZwFdYwX0cJMOYYABlLzv99wMCy\n",
       "7wFcxWF40G18msDQgCW+kMR4GpiwqUACPA7V+BUw8P7/TkAFx0xgyAMAojlNzTn4md0AAAAASUVO\n",
       "RK5CYII=\n",
       "\" style=\"display:inline;vertical-align:middle;\" /></a></span></td></tr>\n",
       "</table>"
      ],
      "text/plain": [
       "<proveit._core_.proof._ShowProof at 0x7f94e7942f60>"
      ]
     },
     "execution_count": 1,
     "metadata": {},
     "output_type": "execute_result"
    }
   ],
   "source": [
    "import proveit\n",
    "%show_proof"
   ]
  },
  {
   "cell_type": "code",
   "execution_count": null,
   "metadata": {},
   "outputs": [],
   "source": []
  }
 ],
 "metadata": {
  "kernelspec": {
   "display_name": "Python 3",
   "language": "python",
   "name": "python3"
  }
 },
 "nbformat": 4,
 "nbformat_minor": 0
}
