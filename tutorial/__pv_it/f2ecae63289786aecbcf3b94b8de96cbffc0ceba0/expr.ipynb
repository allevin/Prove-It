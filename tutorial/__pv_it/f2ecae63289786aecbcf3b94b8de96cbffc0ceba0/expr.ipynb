{
 "cells": [
  {
   "cell_type": "markdown",
   "metadata": {},
   "source": [
    "Expression of type <a class=\"ProveItLink\" href=\"../../../doc/html/api/proveit.ExprTuple.html\">ExprTuple</a>\n",
    "=======================\n",
    "# from context <a class=\"ProveItLink\" href=\"../../_context_.ipynb\">tutorial</a>"
   ]
  },
  {
   "cell_type": "code",
   "execution_count": 1,
   "metadata": {},
   "outputs": [],
   "source": [
    "# import Expression classes needed to build the expression\n",
    "from proveit import ExprTuple\n",
    "from proveit._common_ import x\n",
    "from proveit.logic import InSet\n",
    "from proveit.number import Interval, infinity, zero"
   ]
  },
  {
   "cell_type": "code",
   "execution_count": 2,
   "metadata": {},
   "outputs": [
    {
     "data": {
      "text/html": [
       "<strong id=\"expr\">expr:</strong> <a class=\"ProveItLink\" href=\"expr.ipynb\"><img src=\"data:image/png;base64,iVBORw0KGgoAAAANSUhEUgAAAIQAAAAVBAMAAAB1UFtyAAAAMFBMVEX////c3NwiIiJERESqqqqY\n",
       "mJh2dnZmZmYQEBDu7u4yMjJUVFTMzMyIiIi6uroAAAAs73DqAAAAAXRSTlMAQObYZgAAAfRJREFU\n",
       "OMuNlD9Iw0AUxr9a0/ZaIxnEoSJKQRf/4KBQXXTWodlEF4OIugiKqCAVCjo4iBQFEReL4CCI4ORo\n",
       "RtGhxUGhFSxOxUXpoB1EfJekJtqk6YMLL3fH771737sDHExYgYs1zEqG15ixW2edcLWGLYqUJ+fO\n",
       "dll8J8zGo1qVsU4jTuPMdtWXAOryrLsqYp5GkMJlHBH3QNYVISgIJK0VyEYiqV9EF/AmuSFYAq/W\n",
       "udsJaxafQHqkstBazGQZgX6s0rc51/TIz+MZtB7E80GIimOyaEkBW15Tyog5nNKsInQE2unPa6bt\n",
       "T+kI5T/Cq4rFZDiPZvKn+MQodikiSVjP5ds3d97kHRBPQOzsHKincMFFmijgm7JAqE9bLkQiRjnv\n",
       "duBwEGKKJZkcPobok+YIIKDvtHRZQdXLKf9H8J3Dsu7U8RzT2OLzbapW4j1zZyiliRqT7BDRL0pd\n",
       "NmpRwAB1h/QMkSNCZkxfu9Za01yDsoiaQ7KLSyUJomQoMkmaICZH0aoJ1vu3wUcYlQTHRGNFw4Ef\n",
       "yOFtF+OmqC8kxMPBgh4/HLci2GqO63RItWabhgPP1boMz/X2YhlxgcCf046dWBrc3vTulCwNLiiO\n",
       "18zVOMKXcbrsQi0I/l4c0WixT7enhleLOhuXvD72D4YwU9PbKar4AfnJfK/65GmSAAAAAElFTkSu\n",
       "QmCC\n",
       "\" style=\"display:inline;vertical-align:middle;\" /></a><br>"
      ],
      "text/plain": [
       "expr: (x in {0...infinity})"
      ]
     },
     "execution_count": 2,
     "metadata": {},
     "output_type": "execute_result"
    }
   ],
   "source": [
    "# build up the expression from sub-expressions\n",
    "expr = ExprTuple(InSet(x, Interval(zero, infinity)))"
   ]
  },
  {
   "cell_type": "code",
   "execution_count": 3,
   "metadata": {},
   "outputs": [
    {
     "name": "stdout",
     "output_type": "stream",
     "text": [
      "Passed sanity check: built 'expr' is the same as the stored Expression.\n"
     ]
    }
   ],
   "source": [
    "# check that the built expression is the same as the stored expression\n",
    "%check_expr"
   ]
  },
  {
   "cell_type": "code",
   "execution_count": 4,
   "metadata": {},
   "outputs": [
    {
     "data": {
      "text/html": [
       "<table><tr><th>&nbsp;</th><th>core type</th><th>sub-expressions</th><th>expression</th></tr>\n",
       "<tr><td>0</td><td>ExprTuple</td><td>1</td><td><a class=\"ProveItLink\" href=\"expr.ipynb\"><img src=\"data:image/png;base64,iVBORw0KGgoAAAANSUhEUgAAAIQAAAAVBAMAAAB1UFtyAAAAMFBMVEX////c3NwiIiJERESqqqqY\n",
       "mJh2dnZmZmYQEBDu7u4yMjJUVFTMzMyIiIi6uroAAAAs73DqAAAAAXRSTlMAQObYZgAAAfRJREFU\n",
       "OMuNlD9Iw0AUxr9a0/ZaIxnEoSJKQRf/4KBQXXTWodlEF4OIugiKqCAVCjo4iBQFEReL4CCI4ORo\n",
       "RtGhxUGhFSxOxUXpoB1EfJekJtqk6YMLL3fH771737sDHExYgYs1zEqG15ixW2edcLWGLYqUJ+fO\n",
       "dll8J8zGo1qVsU4jTuPMdtWXAOryrLsqYp5GkMJlHBH3QNYVISgIJK0VyEYiqV9EF/AmuSFYAq/W\n",
       "udsJaxafQHqkstBazGQZgX6s0rc51/TIz+MZtB7E80GIimOyaEkBW15Tyog5nNKsInQE2unPa6bt\n",
       "T+kI5T/Cq4rFZDiPZvKn+MQodikiSVjP5ds3d97kHRBPQOzsHKincMFFmijgm7JAqE9bLkQiRjnv\n",
       "duBwEGKKJZkcPobok+YIIKDvtHRZQdXLKf9H8J3Dsu7U8RzT2OLzbapW4j1zZyiliRqT7BDRL0pd\n",
       "NmpRwAB1h/QMkSNCZkxfu9Za01yDsoiaQ7KLSyUJomQoMkmaICZH0aoJ1vu3wUcYlQTHRGNFw4Ef\n",
       "yOFtF+OmqC8kxMPBgh4/HLci2GqO63RItWabhgPP1boMz/X2YhlxgcCf046dWBrc3vTulCwNLiiO\n",
       "18zVOMKXcbrsQi0I/l4c0WixT7enhleLOhuXvD72D4YwU9PbKar4AfnJfK/65GmSAAAAAElFTkSu\n",
       "QmCC\n",
       "\" style=\"display:inline;vertical-align:middle;\" /></a></td></tr>\n",
       "<tr><td>1</td><td>Operation</td><td>operator:&nbsp;2<br>operands:&nbsp;3<br></td><td><a class=\"ProveItLink\" href=\"../5d5572bdd2efdf601610f5638fcc57609a0db88d0/expr.ipynb\"><img src=\"data:image/png;base64,iVBORw0KGgoAAAANSUhEUgAAAHcAAAAVBAMAAACOK2zoAAAAMFBMVEX///+6uroyMjJERETMzMwQ\n",
       "EBAiIiKYmJju7u5mZmaqqqpUVFSIiIh2dnbc3NwAAAAWgogoAAAAAXRSTlMAQObYZgAAAZVJREFU\n",
       "OMtjYMAG2KczEAAsdx/gkOHIZSAIWKJwSPB8ABow56QDXt2TcIjzBjAwsAlwpODVfBWP5mMMDIdI\n",
       "0MxxKC1NAa45m4FB/gHxmp0qkG3+ycDgvwAzKBtAZANc89vTr04eANJ8FsjO5vsL1HwAQ6/p1wsM\n",
       "HJNnXoBq5rjAns6aAGQwIxzJqQDRfAFdM7MDz7eGRwIMb4HsepAtwIjhAkVKM0KNqwAOzUcYGNZr\n",
       "qDAwcAEtYpoAtJmB2wAsIZqWBg0w7xAGHM4GmsbztQDIAGEjEMEKUeONUCPqAAmwAnTNIJX2BRAG\n",
       "G9hd7x3AwdeGUMOtAI6q9Q+waTb9AnRuAcTP7A/OM/CANHMj7OFNACeSa6DwhEUNmAGMTJ55Xx8w\n",
       "8DyAhPb6AlOGN+BoSERNngs4gF5n6Aeaw/ENymDgZGA4zSAfyFAJjarms713IHY+moKsmWPuaVAc\n",
       "tAJDkyMYymDg2zmpgIFvf+gEzLS9Wg0peeLIrODE9YBQxiAIcGlmJ0YzrvzMkUNESRKIS4b9FlFl\n",
       "GAA/dm+VLvvAmQAAAABJRU5ErkJggg==\n",
       "\" style=\"display:inline;vertical-align:middle;\" /></a></td></tr>\n",
       "<tr><td>2</td><td>Literal</td><td></td><td><a class=\"ProveItLink\" href=\"../../../packages/proveit/logic/set_theory/membership/__pv_it/088cbc857536a28d4119ad9639a84270ccb0545d0/expr.ipynb\"><img src=\"data:image/png;base64,iVBORw0KGgoAAAANSUhEUgAAAAwAAAAMBAMAAACkW0HUAAAALVBMVEX///+qqqpmZmZUVFQQEBC6\n",
       "urpERETc3NyYmJjMzMwiIiIyMjKIiIju7u4AAACYsrA9AAAAAXRSTlMAQObYZgAAADxJREFUCNdj\n",
       "YOA9vWrVBgaG2b0MQMCeCyIZ2ArA1DUwyRCyahVIyWQI7xaEYm4AU7xLIdxqTQgtvGvVBgCkcQ7e\n",
       "geM/tQAAAABJRU5ErkJggg==\n",
       "\" style=\"display:inline;vertical-align:middle;\" /></a></td></tr>\n",
       "<tr><td>3</td><td>ExprTuple</td><td>4, 5</td><td><a class=\"ProveItLink\" href=\"../f85810332ebdcac1552f3c82fc69e406813ada510/expr.ipynb\"><img src=\"data:image/png;base64,iVBORw0KGgoAAAANSUhEUgAAAHQAAAAVBAMAAABlHNfrAAAAMFBMVEX////c3NwiIiJERESqqqqY\n",
       "mJh2dnZmZmYQEBDu7u4yMjJUVFTMzMyIiIi6uroAAAAs73DqAAAAAXRSTlMAQObYZgAAAc9JREFU\n",
       "OMuNlD1Iw1AQx/9V0/ZVIxmkgyJ20UUFB4XiYmeXZhNdDCLqIiiigigIOjhIDQgiLnZxKIjg5GhG\n",
       "oUODg4IVDE7FpdJBO4h4L1+mjTZ9cI/juN+7e3f3HlC3hHUErI4FydY6da+dDSBwdexTBIOUfI1Z\n",
       "fCd851FryG6RbJPkaqzhXaDFYEMN0SWSGIXRfeg98BSICgqiqg8dBMpSEMp28QYf+gkUUj5/ZsZQ\n",
       "HRSj2KA9Xux61F009EGo7iOTVQVsbVNx0EVckFUR+qMJyyOStVClHm3VxIrabSBO+iw3TCJDkagl\n",
       "bXY77ox/0GcgnbsE2qgKsRUylPBNUdE+YjvkD/FPwnSWWJVJ4TJOW4GjQNT1LGlWmeR6lHtMyJbS\n",
       "wnMqYJ/b+zTYPWrPms1JS3+hyS9KUbbvWsIYdVd6gahacDhhjsQcr6nTDFOZpoRXqxJEya7wDNUY\n",
       "aTmJXrCKO4gpRlfGOZ1iGrmCCFBEOYOp3+a8AscPJ8sy2JFko2yjyOt9SrVje7aC0M2WjNDtwYqD\n",
       "XiHq3qrTQf9e1jRJnkEU3A4KaIjWzXBY9zw6ExWaQfl7PSPp8ZYfbLiJX4ImENf8/rWDI8w39TeJ\n",
       "Gn4AEZF1zOLcgBgAAAAASUVORK5CYII=\n",
       "\" style=\"display:inline;vertical-align:middle;\" /></a></td></tr>\n",
       "<tr><td>4</td><td>Variable</td><td></td><td><a class=\"ProveItLink\" href=\"../../../packages/proveit/__pv_it/530be409e3083890784cf1d7b28c9e67e90af9360/expr.ipynb\"><img src=\"data:image/png;base64,iVBORw0KGgoAAAANSUhEUgAAAAsAAAAJBAMAAAAWSsseAAAAKlBMVEX///9ERETMzMwQEBAiIiKY\n",
       "mJju7u5mZmaqqqpUVFSIiIh2dnbc3NwAAAA/vyDhAAAAAXRSTlMAQObYZgAAAENJREFUCNdjYDi9\n",
       "8sTyBQxsG1hdmR0YuBm4LnAoMLAxcAowgADzAjB1VoEhgYH1wFoGrgSG3gBhhlMMDImrs3cFMAAA\n",
       "t0YN+iTRa+sAAAAASUVORK5CYII=\n",
       "\" style=\"display:inline;vertical-align:middle;\" /></a></td></tr>\n",
       "<tr><td>5</td><td>Operation</td><td>operator:&nbsp;6<br>operands:&nbsp;7<br></td><td><a class=\"ProveItLink\" href=\"../442a2ed40e28548837178be2f5aed81cfa22fba50/expr.ipynb\"><img src=\"data:image/png;base64,iVBORw0KGgoAAAANSUhEUgAAAFEAAAAVBAMAAADMaB9/AAAAMFBMVEX///9ERETc3NyqqqpUVFS6\n",
       "urrMzMwyMjIQEBCIiIh2dnYiIiLu7u5mZmaYmJgAAABJJ2g3AAAAAXRSTlMAQObYZgAAAShJREFU\n",
       "KM9jYGDgu8dAALCtUgBRPLsYCAK2ZhDJ+QGo+ubcBLxKr4MIrgYGBu4Anm14Va6AqZzNwDCdOJVb\n",
       "GBjiFYhS+ZeBId8AQ5rnAIg8gKyS6RdQ5QQMhRI/FjDwXLy7AKaStwCicgG6SsYEzt8H1AMYtIDs\n",
       "9yCBjAAcKqcxMNjXlDEwMAN9wH6BgSGljQGH7UCtnD8eABkgLA4kIhIgPnqArhKkVf4BhMENspGl\n",
       "ABxK9grYVEp8A/rsAdSdXBvAIb8a5FsGGAEKmjdA2y/9UGDgVEAKT24DHqBzGc5vgBI8v0GBwsAw\n",
       "hSG+leEtcsjz3JoCSiEnBKAETyOQweR7/QEDk3/HBWSV2AEkjhQYCKtEj3c+YlSC0yfPTiLSfCuY\n",
       "4ltMVD4CAPdkVrshjS6xAAAAAElFTkSuQmCC\n",
       "\" style=\"display:inline;vertical-align:middle;\" /></a></td></tr>\n",
       "<tr><td>6</td><td>Literal</td><td></td><td><a class=\"ProveItLink\" href=\"../../../packages/proveit/number/sets/integer/__pv_it/6e5362d7b256561b61a1b512bf7dc507dcde5dcf0/expr.ipynb\"><img src=\"data:image/png;base64,iVBORw0KGgoAAAANSUhEUgAAAE4AAAAOBAMAAABz3DdCAAAAMFBMVEX///8QEBCYmJiqqqoiIiLu\n",
       "7u7MzMyIiIi6uroyMjLc3NxmZmZERERUVFR2dnYAAAADo0JQAAAAAXRSTlMAQObYZgAAAWZJREFU\n",
       "KM99kL9LQlEUx7/2vL7XS9+LlqAh3Bp1kGhzLKjhCW1BvaX9UoPQD3ku1qb0D/S2ghTf4CKEuAU1\n",
       "6BaR1B3aKhIiNbAf56q8ybpwv3DO+XDOly+A158bF/+/p57UT79O2eO5iTaJ9u3XSWs8N1UgMXp+\n",
       "XfnjboCTTLb9evUPriz9mHXg6PrsUGit/i302r6rHZxnPGzWkOIoZbIuYhLO01Jxx1kHCm1OuLpn\n",
       "RFboiMhjvanNoQG0JPdmQ3PWwHrSrk5qHwebihOKV6B45SgugVnJnQKMIOUDQYHIzMIerC2HejQN\n",
       "xR+BZYQ6kuvTJyhSAI1Nb5APhj3V6oP8qNMyvu4wIDNqJaGbMgFUR6EZepdMs3CTcjXk0oBAzBJV\n",
       "LMmkOOYlF/aQY+90Z9GMilF8ZQcvin3PhFrAhqsPkjfqjOMECU+Y2xwXjS+Cs0BxF8U08Jzm0KQf\n",
       "sIcdoJTOXTlqzfoFcS9unliQnJ4AAAAASUVORK5CYII=\n",
       "\" style=\"display:inline;vertical-align:middle;\" /></a></td></tr>\n",
       "<tr><td>7</td><td>ExprTuple</td><td>8, 9</td><td><a class=\"ProveItLink\" href=\"../42694387a1b5cbdb3e91b89c8aeb67d88646fe3e0/expr.ipynb\"><img src=\"data:image/png;base64,iVBORw0KGgoAAAANSUhEUgAAADUAAAAVBAMAAAAUZLt1AAAAMFBMVEX////c3NwiIiJERESqqqqY\n",
       "mJh2dnZmZmYQEBDu7u4yMjJUVFTMzMyIiIi6uroAAAAs73DqAAAAAXRSTlMAQObYZgAAASxJREFU\n",
       "KM9jYMAH+C5gFY4DEacZGDhrrx9Al2MHiaxkYGB6wKmDoXEBAwMv0MhLDAy3MOTCGBg4JjAwaDMw\n",
       "vBdAl5vBwPAKSH1nYDjvABGZCSI4QQSzA0MZAwPjN6AcxLWT+9sYGKabAwUZ2AoYlkLlEsByNgz3\n",
       "NRnXMTACeSwLGPqQ5XgPMLD8mgV0vSPQ3w0M/5DNZAPi+61AgpWBgecDSA7slgCwPpAbvkIYQLkW\n",
       "BrAf/AXgcv1AM6eCzTRlAPs9CexwVqBnr8s3MjBcBLIXMKQDhZgcOHsY5isAWQUMvBv4fjxgLQD7\n",
       "4RHIr2W3DzDM+AhkSZcD/ST9ox3I5HrAwAEPrIfwcGGEhhlrAkwuADU8cyFxhE2OcwHICiiHF1Ub\n",
       "N8guRuxp4g4DAwDZukvyNRESYAAAAABJRU5ErkJggg==\n",
       "\" style=\"display:inline;vertical-align:middle;\" /></a></td></tr>\n",
       "<tr><td>8</td><td>Literal</td><td></td><td><a class=\"ProveItLink\" href=\"../../../packages/proveit/number/numeral/__pv_it/ec23fc7a1b4222a5f4948b495002b97d6fa18c3c0/expr.ipynb\"><img src=\"data:image/png;base64,iVBORw0KGgoAAAANSUhEUgAAAAoAAAAOBAMAAADkjZCYAAAALVBMVEX///8QEBCYmJh2dnaqqqrc\n",
       "3NxUVFQyMjK6uroiIiLMzMyIiIhmZmbu7u4AAAAZjyHdAAAAAXRSTlMAQObYZgAAAEpJREFUCNdj\n",
       "YLiz+xQDA8MMhpsLGLgnMHAXMHAmMHA8ZeA7wMD1hCHOgIHrNZh8jES+Bss+AqlkeQrSxTyBgWEK\n",
       "w8UFDAx3rLMYAMCjFldHSx/9AAAAAElFTkSuQmCC\n",
       "\" style=\"display:inline;vertical-align:middle;\" /></a></td></tr>\n",
       "<tr><td>9</td><td>Literal</td><td></td><td><a class=\"ProveItLink\" href=\"../../../packages/proveit/number/sets/integer/__pv_it/fb164099ff695e5f06bcf7426355186a1c63cc390/expr.ipynb\"><img src=\"data:image/png;base64,iVBORw0KGgoAAAANSUhEUgAAABMAAAALBAMAAABv+6sJAAAAMFBMVEX///9UVFSYmJiqqqq6uroy\n",
       "MjLc3NwiIiKIiIjMzMxmZmZ2dnYQEBBERETu7u4AAABwYnrzAAAAAXRSTlMAQObYZgAAAHBJREFU\n",
       "CNdjYOB7wAAEIILvzp8NDHxrV21gYOCdwPH9QaoDQzYDQycDg31cJAMDcwIDUILjjwJQpQJDA5C8\n",
       "D2I2gJl3fgK1KzDoARUs+5PAwJHAwMXA0Mjgf4RBi4GBTWqpAgOb/JkFIDvAtiUwMAAA7SYaiqDY\n",
       "+8wAAAAASUVORK5CYII=\n",
       "\" style=\"display:inline;vertical-align:middle;\" /></a></td></tr>\n",
       "</table>\n"
      ],
      "text/plain": [
       "0. (x in {0...infinity})\n",
       "   core type: ExprTuple\n",
       "   sub-expressions: 1\n",
       "1. x in {0...infinity}\n",
       "   core type: Operation\n",
       "   operator: 2\n",
       "   operands: 3\n",
       "2. in\n",
       "   core type: Literal\n",
       "   sub-expressions: \n",
       "3. (x , {0...infinity})\n",
       "   core type: ExprTuple\n",
       "   sub-expressions: 4, 5\n",
       "4. x\n",
       "   core type: Variable\n",
       "   sub-expressions: \n",
       "5. {0...infinity}\n",
       "   core type: Operation\n",
       "   operator: 6\n",
       "   operands: 7\n",
       "6. Interval\n",
       "   core type: Literal\n",
       "   sub-expressions: \n",
       "7. (0 , infinity)\n",
       "   core type: ExprTuple\n",
       "   sub-expressions: 8, 9\n",
       "8. 0\n",
       "   core type: Literal\n",
       "   sub-expressions: \n",
       "9. infinity\n",
       "   core type: Literal\n",
       "   sub-expressions: "
      ]
     },
     "execution_count": 4,
     "metadata": {},
     "output_type": "execute_result"
    }
   ],
   "source": [
    "# display the expression information\n",
    "expr.exprInfo()"
   ]
  },
  {
   "cell_type": "code",
   "execution_count": null,
   "metadata": {},
   "outputs": [],
   "source": []
  }
 ],
 "metadata": {
  "kernelspec": {
   "display_name": "Python 3",
   "language": "python",
   "name": "python3"
  }
 },
 "nbformat": 4,
 "nbformat_minor": 0
}
