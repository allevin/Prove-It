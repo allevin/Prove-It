{
 "cells": [
  {
   "cell_type": "markdown",
   "metadata": {},
   "source": [
    "Show the Proof\n",
    "========"
   ]
  },
  {
   "cell_type": "code",
   "execution_count": 1,
   "metadata": {},
   "outputs": [
    {
     "data": {
      "text/html": [
       "<table><tr><th>&nbsp;</th><th>step type</th><th>requirements</th><th>statement</th></tr>\n",
       "<tr><td>0</td><td>assumption</td><td></td><td><span style=\"font-size:20px;\"><a class=\"ProveItLink\" href=\"../da9eab0cdec3fecd7772f3362a50642e226e03950/expr.ipynb\"><img src=\"data:image/png;base64,iVBORw0KGgoAAAANSUhEUgAAAEkAAAAVBAMAAAD4Ed5jAAAAMFBMVEX///9ERETc3NyqqqpUVFS6\n",
       "urrMzMwyMjIQEBCIiIh2dnYiIiLu7u5mZmaYmJgAAABJJ2g3AAAAAXRSTlMAQObYZgAAARxJREFU\n",
       "KM9jYGDgu8eAB7CtUgBRPLsY8AK2ZhDJ+QG/KobrIIKrgYCqFdhV8RCliv0AMapYHbCrYlrpZHkT\n",
       "Ib4SQp26xcD0B6qKtwDIZ3j9oBvEub0bBPZfAKtaEA8OgPcgdkYAkM8wn8EMyRLzAFBAGdxmYBQA\n",
       "OhOoJ6UNKHCAwRHVlxUBIK92MvBPAPLEHzAwRCSAxDtRVKWvAZHMfxjygZLcC4BsFqC7GJi+QUIJ\n",
       "4q7dMgxQF89ggLqLawMDwyOgK+cgjDKBhtsFBhGkkGD+x9jANAGuiKkAQvM6sP5DUsUjuWbVPIRR\n",
       "jApQP0jO/YQ77NngLJBrcKmCAW+GEwYwVXw4Ve1ikIKnL56duFRZzgVHQSuYw7eYYLoHAD7QTr3l\n",
       "h9LtAAAAAElFTkSuQmCC\n",
       "\" style=\"display:inline;vertical-align:middle;\" /></a> <a class=\"ProveItLink\" href=\"proof.ipynb\" style=\"text-decoration: none\">&#x22A2;&nbsp;</a><a class=\"ProveItLink\" href=\"../add07ed78641c4ceb7dae3371fef13a20f9020140/expr.ipynb\"><img src=\"data:image/png;base64,iVBORw0KGgoAAAANSUhEUgAAADcAAAAQBAMAAABAXPr7AAAAMFBMVEX///+6uroyMjJERETMzMwQ\n",
       "EBAiIiKYmJju7u5mZmaqqqpUVFSIiIh2dnbc3NwAAAAWgogoAAAAAXRSTlMAQObYZgAAAMNJREFU\n",
       "GNNjYEAFDQx4gAY+SWlU7tvTr04egPN4IUyOmxcY3jcwcFxgT2dNAPI508DgJ0QN4weG80CKgecD\n",
       "lwPCIC5FEOnFmcBgDDSAgdsAxZqmQJCjWQ8w/AHxWA8gy7Hogn2zvoHlC4h+7wD2HdTOZIhPJzHw\n",
       "BDAwsD84z8CD8DrXBgitycAMZK0vMGV4gzD1EZSezSBfwMDQfLb3TgFC0g5KN5+Z/wAjhBCeuoYz\n",
       "FLkTOKJwSrJdYL6AU5LrzEQgCQAs9DJLrF+J5gAAAABJRU5ErkJggg==\n",
       "\" style=\"display:inline;vertical-align:middle;\" /></a></span></td></tr>\n",
       "</table>"
      ],
      "text/plain": [
       "<proveit._core_.proof._ShowProof at 0x7f94e6e4ebe0>"
      ]
     },
     "execution_count": 1,
     "metadata": {},
     "output_type": "execute_result"
    }
   ],
   "source": [
    "import proveit\n",
    "%show_proof"
   ]
  },
  {
   "cell_type": "code",
   "execution_count": null,
   "metadata": {},
   "outputs": [],
   "source": []
  }
 ],
 "metadata": {
  "kernelspec": {
   "display_name": "Python 3",
   "language": "python",
   "name": "python3"
  }
 },
 "nbformat": 4,
 "nbformat_minor": 0
}
