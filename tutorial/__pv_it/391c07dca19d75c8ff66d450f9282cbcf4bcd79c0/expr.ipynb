{
 "cells": [
  {
   "cell_type": "markdown",
   "metadata": {},
   "source": [
    "Expression of type <a class=\"ProveItLink\" href=\"../../../doc/html/api/proveit.ExprTuple.html\">ExprTuple</a>\n",
    "=======================\n",
    "# from context <a class=\"ProveItLink\" href=\"../../_context_.ipynb\">tutorial</a>"
   ]
  },
  {
   "cell_type": "code",
   "execution_count": 1,
   "metadata": {},
   "outputs": [],
   "source": [
    "# import Expression classes needed to build the expression\n",
    "from proveit import ExprTuple\n",
    "from proveit._common_ import Qx"
   ]
  },
  {
   "cell_type": "code",
   "execution_count": 2,
   "metadata": {},
   "outputs": [
    {
     "data": {
      "text/html": [
       "<strong id=\"expr\">expr:</strong> <a class=\"ProveItLink\" href=\"expr.ipynb\"><img src=\"data:image/png;base64,iVBORw0KGgoAAAANSUhEUgAAADwAAAAVBAMAAADocZC/AAAAMFBMVEX////c3NwiIiJERESqqqqY\n",
       "mJh2dnZmZmYQEBDu7u4yMjJUVFTMzMyIiIi6uroAAAAs73DqAAAAAXRSTlMAQObYZgAAAVNJREFU\n",
       "KM+Fkr9Lw0AUx7/RJibV1AziUkQH3RUUHfwLXNpZHIoIDtI1k6CDrhIQOjgJIiiIaEcXMxY6mEkH\n",
       "EcVJOhXUQZDo990PiiL44HO8b753997dBfgnStlfyn3SoC1qNN7Q39t23qbhlHhnQDOBUSqKmpCr\n",
       "giPm/gW0MrvXFD4XFSeoBz5kTmLtYFvRYbqVSoGcQ6fX5KwiBpxXkd4bh1javB+5Y411CMfc9l3s\n",
       "/k8OVEHNnfJZbQnCHtAnVTHMYqI8hN0Cq71AyI2BClsVFWBwWvSNQmxpHCeJttl+1rN3eK4us4KU\n",
       "FgWMp0js5nN0cuchbckFi3KjR4S0lyFI/6sNrM2ow1JVqgsYgz3YszzTVX0SQ2JT7d826lWm5wo/\n",
       "UssWsaK6in5dqlw9Y750aB9Ch5dp9BNef6nWeg96YCgr1drVX8vWvjQ4P34mq8JU8Q0x71wzGFfP\n",
       "FwAAAABJRU5ErkJggg==\n",
       "\" style=\"display:inline;vertical-align:middle;\" /></a><br>"
      ],
      "text/plain": [
       "expr: (Q(x))"
      ]
     },
     "execution_count": 2,
     "metadata": {},
     "output_type": "execute_result"
    }
   ],
   "source": [
    "# build up the expression from sub-expressions\n",
    "expr = ExprTuple(Qx)"
   ]
  },
  {
   "cell_type": "code",
   "execution_count": 3,
   "metadata": {},
   "outputs": [
    {
     "name": "stdout",
     "output_type": "stream",
     "text": [
      "Passed sanity check: built 'expr' is the same as the stored Expression.\n"
     ]
    }
   ],
   "source": [
    "# check that the built expression is the same as the stored expression\n",
    "%check_expr"
   ]
  },
  {
   "cell_type": "code",
   "execution_count": 4,
   "metadata": {},
   "outputs": [
    {
     "data": {
      "text/html": [
       "<table><tr><th>&nbsp;</th><th>core type</th><th>sub-expressions</th><th>expression</th></tr>\n",
       "<tr><td>0</td><td>ExprTuple</td><td>1</td><td><a class=\"ProveItLink\" href=\"expr.ipynb\"><img src=\"data:image/png;base64,iVBORw0KGgoAAAANSUhEUgAAADwAAAAVBAMAAADocZC/AAAAMFBMVEX////c3NwiIiJERESqqqqY\n",
       "mJh2dnZmZmYQEBDu7u4yMjJUVFTMzMyIiIi6uroAAAAs73DqAAAAAXRSTlMAQObYZgAAAVNJREFU\n",
       "KM+Fkr9Lw0AUx7/RJibV1AziUkQH3RUUHfwLXNpZHIoIDtI1k6CDrhIQOjgJIiiIaEcXMxY6mEkH\n",
       "EcVJOhXUQZDo990PiiL44HO8b753997dBfgnStlfyn3SoC1qNN7Q39t23qbhlHhnQDOBUSqKmpCr\n",
       "giPm/gW0MrvXFD4XFSeoBz5kTmLtYFvRYbqVSoGcQ6fX5KwiBpxXkd4bh1javB+5Y411CMfc9l3s\n",
       "/k8OVEHNnfJZbQnCHtAnVTHMYqI8hN0Cq71AyI2BClsVFWBwWvSNQmxpHCeJttl+1rN3eK4us4KU\n",
       "FgWMp0js5nN0cuchbckFi3KjR4S0lyFI/6sNrM2ow1JVqgsYgz3YszzTVX0SQ2JT7d826lWm5wo/\n",
       "UssWsaK6in5dqlw9Y750aB9Ch5dp9BNef6nWeg96YCgr1drVX8vWvjQ4P34mq8JU8Q0x71wzGFfP\n",
       "FwAAAABJRU5ErkJggg==\n",
       "\" style=\"display:inline;vertical-align:middle;\" /></a></td></tr>\n",
       "<tr><td>1</td><td>Operation</td><td>operator:&nbsp;2<br>operand:&nbsp;3<br></td><td><a class=\"ProveItLink\" href=\"../../../packages/proveit/__pv_it/050bcffbb388a0b365dac8afc3d37833b4bb47300/expr.ipynb\"><img src=\"data:image/png;base64,iVBORw0KGgoAAAANSUhEUgAAAC0AAAAVBAMAAAAgHXppAAAAMFBMVEX///+YmJiqqqq6uroQEBBE\n",
       "RETu7u4iIiLMzMwyMjKIiIhUVFRmZmZ2dnbc3NwAAADS0us6AAAAAXRSTlMAQObYZgAAASNJREFU\n",
       "GNNjYCACWEFpYTDJd+fuLjCDYwNUnKcBRN5sYOAuAzE4E2AaJwBxZgCQ8AbxVsENlAXi6SDGeZBS\n",
       "N7h4CtCsHyDGfQMGBuYJcHFWBYb3AWBxBaCKC0A33NqndYqBgfcAw3kBkHg80AWcQFYug7iAOwMD\n",
       "0wSGerAjvgAxC9CsCwzrGTSARjqARRiY/gIJfqB4AsNWsE8+MHwHu9wNKs7A4AUVnw+i9UEeZFEA\n",
       "ef4HAxvYHH2DVys4nMGOA9orx/WBYRkDA+MEBt6yC7yqD0DiQMcxfWR14FsAZjJYz12uwAAyh7mA\n",
       "gS3q2t2FIPvAVrE2MIID0A85HEDiByzhoQUBt8Ak9//PDCjhzAYJKQ4XAUgEweKF+wFqPL6C0isY\n",
       "GABRcT+tFx/ALwAAAABJRU5ErkJggg==\n",
       "\" style=\"display:inline;vertical-align:middle;\" /></a></td></tr>\n",
       "<tr><td>2</td><td>Variable</td><td></td><td><a class=\"ProveItLink\" href=\"../../../packages/proveit/__pv_it/98124f92e6e1fc3772af50ac63eaa1f5624776f20/expr.ipynb\"><img src=\"data:image/png;base64,iVBORw0KGgoAAAANSUhEUgAAAA8AAAASBAMAAAB2sJk8AAAAMFBMVEX///+YmJiqqqq6uroQEBBE\n",
       "RETu7u4iIiLMzMwyMjKIiIhUVFRmZmZ2dnbc3NwAAADS0us6AAAAAXRSTlMAQObYZgAAAHxJREFU\n",
       "CNdjYGDgu3N3FwMI3Gxg4C4D0pkBQMIbiKeDRM8nMPD8ADHuGzC8DwAzFBjOC4AY8Q0M9Qkgxhcw\n",
       "YmBg+svA8B3E4HRjYJgPYug3ALHBqxUczkAOb9kFXtUHIGHrucsVGBrAtrI2MEIZByzBNAP3/88Q\n",
       "BocL0BoActoerD1tNT4AAAAASUVORK5CYII=\n",
       "\" style=\"display:inline;vertical-align:middle;\" /></a></td></tr>\n",
       "<tr><td>3</td><td>Variable</td><td></td><td><a class=\"ProveItLink\" href=\"../../../packages/proveit/__pv_it/530be409e3083890784cf1d7b28c9e67e90af9360/expr.ipynb\"><img src=\"data:image/png;base64,iVBORw0KGgoAAAANSUhEUgAAAAsAAAAJBAMAAAAWSsseAAAAKlBMVEX///9ERETMzMwQEBAiIiKY\n",
       "mJju7u5mZmaqqqpUVFSIiIh2dnbc3NwAAAA/vyDhAAAAAXRSTlMAQObYZgAAAENJREFUCNdjYDi9\n",
       "8sTyBQxsG1hdmR0YuBm4LnAoMLAxcAowgADzAjB1VoEhgYH1wFoGrgSG3gBhhlMMDImrs3cFMAAA\n",
       "t0YN+iTRa+sAAAAASUVORK5CYII=\n",
       "\" style=\"display:inline;vertical-align:middle;\" /></a></td></tr>\n",
       "</table>\n"
      ],
      "text/plain": [
       "0. (Q(x))\n",
       "   core type: ExprTuple\n",
       "   sub-expressions: 1\n",
       "1. Q(x)\n",
       "   core type: Operation\n",
       "   operator: 2\n",
       "   operand: 3\n",
       "2. Q\n",
       "   core type: Variable\n",
       "   sub-expressions: \n",
       "3. x\n",
       "   core type: Variable\n",
       "   sub-expressions: "
      ]
     },
     "execution_count": 4,
     "metadata": {},
     "output_type": "execute_result"
    }
   ],
   "source": [
    "# display the expression information\n",
    "expr.exprInfo()"
   ]
  },
  {
   "cell_type": "code",
   "execution_count": null,
   "metadata": {},
   "outputs": [],
   "source": []
  }
 ],
 "metadata": {
  "kernelspec": {
   "display_name": "Python 3",
   "language": "python",
   "name": "python3"
  }
 },
 "nbformat": 4,
 "nbformat_minor": 0
}
