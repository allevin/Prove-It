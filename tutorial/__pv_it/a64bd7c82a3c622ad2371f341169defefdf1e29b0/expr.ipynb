{
 "cells": [
  {
   "cell_type": "markdown",
   "metadata": {},
   "source": [
    "Expression of type <a class=\"ProveItLink\" href=\"../../../doc/html/api/proveit.logic.Forall.html\">Forall</a>\n",
    "=======================\n",
    "# from context <a class=\"ProveItLink\" href=\"../../_context_.ipynb\">tutorial</a>"
   ]
  },
  {
   "cell_type": "code",
   "execution_count": 1,
   "metadata": {},
   "outputs": [],
   "source": [
    "# import Expression classes needed to build the expression\n",
    "from proveit import Function\n",
    "from proveit._common_ import g, x, y\n",
    "from proveit.logic import Equals, Forall"
   ]
  },
  {
   "cell_type": "code",
   "execution_count": 2,
   "metadata": {},
   "outputs": [
    {
     "data": {
      "text/html": [
       "<strong id=\"expr\">expr:</strong> <a class=\"ProveItLink\" href=\"expr.ipynb\"><img src=\"data:image/png;base64,iVBORw0KGgoAAAANSUhEUgAAAM8AAAAXBAMAAABewgYuAAAAMFBMVEX///8QEBC6urrMzMxUVFRm\n",
       "ZmZERETc3NwyMjKqqqp2dnaIiIiYmJgiIiLu7u4AAAAU9Wx4AAAAAXRSTlMAQObYZgAAApdJREFU\n",
       "SMe9Vj1oE2EYfvKf3F2uwbq4VejQpRjBxamhgooOFnUQf6gOpgoON4hFRXsIgoOUDCpuvaWIBOXA\n",
       "GrAZGgRFdDCzKJxLEF2CoiUI4veX77tcLt4N6gtP7gnvc3nu+773fS/A/wovvjTpDlFjIlL9XKBN\n",
       "v7yJZbQrhB6JVGfKHA/pl+VYRsshNB+ttjkukUvudBwf3Q2hhhOpfs2RJ4eUqcUxSngh1CxFqj9y\n",
       "GA8WF6/F2rmpUHo+Up2tcfyoVt/FMjpOP16svxT0ytrlp2R7Vod0UmKuOljyoM2BYQ+woFSjyxW3\n",
       "aQlVct85NR3jfYKU7H1WWbdYVDAg0ZJdbAAFm2MSpq1+7Q9lsYXgrYcepxr0boFU7fagTEl2Z9qo\n",
       "koYqcRSht2IZfSXYitQmpybSTDsTlCmJl3DxE0h1OfRW0YtrVOhBbwtPJNwwI79kxUt9U0amTXo4\n",
       "2RD1yI3qs2tlMUgaslC3kYfaRHaOU2CpTOcX27rMBxb0Zr/kGPSS2joszAJfxqydakWatzdR20+P\n",
       "15UJ4ALphS7GaoJaG9CJ0avAinwS3ESW1Idhc+AuWen1aTSUUZJVGAuZYIVs/sIhi9OV1hlcxXB5\n",
       "+yQ4ih0tyPLme30AB/1ntClv7CeAaYLJ5ilBO+uf67SIbgSPUknQac4Tz/wEBwyPVeO4zyhVSuEc\n",
       "2zqZIA9EHxRnFR01gnySR2oEiRgnzSWNZjRbCybY/EzC7A2OUs0NvoaUJN02aUnUBXjcadjKqPPs\n",
       "xONggg3+eStdGXwHfAouxycpOlkHbByokZCz0m5oH8kEiYu41zzZpyL2BY18kkLzMLmmLQ4xYZ2p\n",
       "8IaVCWrqDlG9PLK/+5InAqKfm064kUz87aj8qz9BvwGPfNAIMEW/BwAAAABJRU5ErkJggg==\n",
       "\" style=\"display:inline;vertical-align:middle;\" /></a><br>"
      ],
      "text/plain": [
       "expr: forall_{y | x = y} (g(x) = g(y))"
      ]
     },
     "execution_count": 2,
     "metadata": {},
     "output_type": "execute_result"
    }
   ],
   "source": [
    "# build up the expression from sub-expressions\n",
    "expr = Forall([y], Equals(Function(g, x), Function(g, y)), conditions = [Equals(x, y)])"
   ]
  },
  {
   "cell_type": "code",
   "execution_count": 3,
   "metadata": {},
   "outputs": [
    {
     "name": "stdout",
     "output_type": "stream",
     "text": [
      "Passed sanity check: built 'expr' is the same as the stored Expression.\n"
     ]
    }
   ],
   "source": [
    "# check that the built expression is the same as the stored expression\n",
    "%check_expr"
   ]
  },
  {
   "cell_type": "code",
   "execution_count": 4,
   "metadata": {},
   "outputs": [
    {
     "data": {
      "text/html": [
       "<table><tr><th>&nbsp;</th><th>core type</th><th>sub-expressions</th><th>expression</th></tr>\n",
       "<tr><td>0</td><td>Operation</td><td>operator:&nbsp;1<br>operand:&nbsp;2<br></td><td><a class=\"ProveItLink\" href=\"expr.ipynb\"><img src=\"data:image/png;base64,iVBORw0KGgoAAAANSUhEUgAAAM8AAAAXBAMAAABewgYuAAAAMFBMVEX///8QEBC6urrMzMxUVFRm\n",
       "ZmZERETc3NwyMjKqqqp2dnaIiIiYmJgiIiLu7u4AAAAU9Wx4AAAAAXRSTlMAQObYZgAAApdJREFU\n",
       "SMe9Vj1oE2EYfvKf3F2uwbq4VejQpRjBxamhgooOFnUQf6gOpgoON4hFRXsIgoOUDCpuvaWIBOXA\n",
       "GrAZGgRFdDCzKJxLEF2CoiUI4veX77tcLt4N6gtP7gnvc3nu+773fS/A/wovvjTpDlFjIlL9XKBN\n",
       "v7yJZbQrhB6JVGfKHA/pl+VYRsshNB+ttjkukUvudBwf3Q2hhhOpfs2RJ4eUqcUxSngh1CxFqj9y\n",
       "GA8WF6/F2rmpUHo+Up2tcfyoVt/FMjpOP16svxT0ytrlp2R7Vod0UmKuOljyoM2BYQ+woFSjyxW3\n",
       "aQlVct85NR3jfYKU7H1WWbdYVDAg0ZJdbAAFm2MSpq1+7Q9lsYXgrYcepxr0boFU7fagTEl2Z9qo\n",
       "koYqcRSht2IZfSXYitQmpybSTDsTlCmJl3DxE0h1OfRW0YtrVOhBbwtPJNwwI79kxUt9U0amTXo4\n",
       "2RD1yI3qs2tlMUgaslC3kYfaRHaOU2CpTOcX27rMBxb0Zr/kGPSS2joszAJfxqydakWatzdR20+P\n",
       "15UJ4ALphS7GaoJaG9CJ0avAinwS3ESW1Idhc+AuWen1aTSUUZJVGAuZYIVs/sIhi9OV1hlcxXB5\n",
       "+yQ4ih0tyPLme30AB/1ntClv7CeAaYLJ5ilBO+uf67SIbgSPUknQac4Tz/wEBwyPVeO4zyhVSuEc\n",
       "2zqZIA9EHxRnFR01gnySR2oEiRgnzSWNZjRbCybY/EzC7A2OUs0NvoaUJN02aUnUBXjcadjKqPPs\n",
       "xONggg3+eStdGXwHfAouxycpOlkHbByokZCz0m5oH8kEiYu41zzZpyL2BY18kkLzMLmmLQ4xYZ2p\n",
       "8IaVCWrqDlG9PLK/+5InAqKfm064kUz87aj8qz9BvwGPfNAIMEW/BwAAAABJRU5ErkJggg==\n",
       "\" style=\"display:inline;vertical-align:middle;\" /></a></td></tr>\n",
       "<tr><td>1</td><td>Literal</td><td></td><td><a class=\"ProveItLink\" href=\"../../../packages/proveit/logic/boolean/quantification/universal/__pv_it/265f8c02ac1094d56e0e6410a1c1fd3500dc9f540/expr.ipynb\"><img src=\"data:image/png;base64,iVBORw0KGgoAAAANSUhEUgAAAAwAAAAQBAMAAADQT4M0AAAAMFBMVEX///8QEBC6urrMzMxUVFRm\n",
       "ZmZERETc3NwyMjKqqqp2dnaIiIiYmJgiIiLu7u4AAAAU9Wx4AAAAAXRSTlMAQObYZgAAAFhJREFU\n",
       "CNdjeMAABhdAxGmGlSCqj6EMSLInMHAAJVknMPAsLy+vBYp8S0u7BaScGRjSgZQKA18DkOJl4D4A\n",
       "pLgP8IJM4mswARuX7gSmpoKNZWDcAKZ4gCoAgTQTILaSE58AAAAASUVORK5CYII=\n",
       "\" style=\"display:inline;vertical-align:middle;\" /></a></td></tr>\n",
       "<tr><td>2</td><td>Lambda</td><td>parameter:&nbsp;13<br>body:&nbsp;3<br>conditions:&nbsp;4<br></td><td><a class=\"ProveItLink\" href=\"../f1d278e5f520cdaa8eff1ba73922707a0f75cba40/expr.ipynb\"><img src=\"data:image/png;base64,iVBORw0KGgoAAAANSUhEUgAAAPQAAAAVCAMAAABG6TPrAAAANlBMVEX///8UFBQNDQ2YmJhUVFQy\n",
       "MjIQEBBEREQiIiKqqqrMzMyIiIi6urrc3NxmZmZ2dnbu7u4AAACrLjZHAAAAAXRSTlMAQObYZgAA\n",
       "AmhJREFUWMPVl9tyhSAMRW0BEUEu//+zFTWaRFBO6zhTnzrpce3skCB03b98zPSqnLMtUeEeYAOk\n",
       "AAvuTc+jbIv68QE2QM6wd02r2BhVT7BVDfaqaWtboyI8wAbICfaq6T62RmP/ABsgJ9ibpp1qj2rz\n",
       "ABsgHPZX0zH43DxTiqX5MUTN720mvA1C0+gUrJyM9WubBn+vXaDQdADCYcQ01W0yGjqX8kSl7X8D\n",
       "/anETacEuJf5bU+icUaKQXT9SjBH9bxCD9qiSxSaDkCMqptmulU9RB5N5/OvtS6bjhKdA3r4ci7r\n",
       "kAyJho1o1g+Mux3qEoWlAxAOw6aZbvWDiMizbp/7IkFzfH8N5OnTIQB/9rl8Y5pINDuQ+hBJtztX\n",
       "gcLSAQiHkZWmutXuJmSTCz6msbzSnUT8zZ5ZVscOrBTdhm00XaGQdFpMM90rwYPs87zYvX+YaY9P\n",
       "uf3ainZZHe1pdNkkxq30pCM97px9TSoUkk5LezPdqh4hqyyrZdn0SEqoxTaMHRrGPTqt249dxYW6\n",
       "HekShaYDEHGxkTHdixMfIuc91CWxLwCfBKy1LkvMfSJhGLeomRF6LuNku7ZPVpHC0mn4ZHHd+oPJ\n",
       "UVvrU9NdzW1t4OT8ykCjMybEECxUT92eH0oUlg5AOAyZ5roXVWZGw9B4VDxe0b4U/fQYWqZAOs8f\n",
       "QzeyHDK08cy4nvzd0pzm8nIRbrutTCHpAOQE+41pTB5mLd18JcrXv6VFpLy8FMbbq2WFgtMBSHzk\n",
       "aonJZm70dsQ0Z2nybAgeZWW93SMqFJwOQM6w35j+zCh1bVuidnyADZACzP7plvUD2DchOSyR5coA\n",
       "AAAASUVORK5CYII=\n",
       "\" style=\"display:inline;vertical-align:middle;\" /></a></td></tr>\n",
       "<tr><td>3</td><td>Operation</td><td>operator:&nbsp;9<br>operands:&nbsp;5<br></td><td><a class=\"ProveItLink\" href=\"../cebf6c5b72ba5ae1a1e9141558bb41cb41cc12940/expr.ipynb\"><img src=\"data:image/png;base64,iVBORw0KGgoAAAANSUhEUgAAAG0AAAAVBAMAAAC+p33JAAAAMFBMVEX///8yMjK6uroiIiLMzMwQ\n",
       "EBCqqqru7u7c3NxUVFRERER2dnaIiIhmZmaYmJgAAAAgbmjVAAAAAXRSTlMAQObYZgAAAbFJREFU\n",
       "OMulkz9Iw0AYxV9r27RpGquLk6KIg5MBd+kkOFkcBDddXRoHl7pkEkShHd100UFQAq4tZHCRRuq/\n",
       "RQRbHRWxiNQOCn65NL1rNDp40OTj3e/lvr67A/47wpb7Vof/RB5EccYrrgN9HpLKCOKAV4QCfR0k\n",
       "zTXF8irVDLBx5ImLUd2rpGyAjyOrXBzh5X6AjyPyIj2eK4/0vKXf5un6GfVS/uboIFLZREFH8pzC\n",
       "KcY/SRwi0VSnohqwxDLrY6PI6g6SDDdQBWIUzIuOJolzJEJpxCjiMf9yHJlOaTigjaQIFhBpkfhK\n",
       "6yGx62Czfh9H9KiFDyDSQKwJRXNFSsz6ySciOT3yxnxKCzL9S8w7RCEDvd1napINpwERuYCSZX2q\n",
       "DfQ6qR7RhhtVKOS7960nIBiETFGpaUjv2DHAws/V97CF7/sgILjBRB1sH8btK2dyFMhX1kokot+f\n",
       "C0eQt2v0iRC7M4csEuO3cyYgx+45C0Nqdp/mpOW/dhxJaJKTTgmoGYli9yVZ8S8mID2mTN+X6Lgs\n",
       "23fu7IaHbft9AhKzL+mdMITZeLs9JRN4bz3kBPgCWh57NzzSuxgAAAAASUVORK5CYII=\n",
       "\" style=\"display:inline;vertical-align:middle;\" /></a></td></tr>\n",
       "<tr><td>4</td><td>ExprTuple</td><td>6</td><td><a class=\"ProveItLink\" href=\"../82fb4307ca164a925e64306878b44eca13cccb360/expr.ipynb\"><img src=\"data:image/png;base64,iVBORw0KGgoAAAANSUhEUgAAAD8AAAAVBAMAAAADRiu8AAAAMFBMVEX////c3NwiIiJERESqqqqY\n",
       "mJh2dnZmZmYQEBDu7u4yMjJUVFTMzMyIiIi6uroAAAAs73DqAAAAAXRSTlMAQObYZgAAARFJREFU\n",
       "KM9jYCAI+C7glosDEafxaGY/ACRW4jN+AQMD7wV8CsIYGDgm4FMwg4HhFV4fMDswlAEpsdsi19Fs\n",
       "4kxPYJCfwMBWwLAUyElgVeVQADl6FRhsADLZ+D4w3GdgYFnA0AfkMPB+YDmAasIRdgUGY2AgNTD8\n",
       "A5rAwG2AbvkEjgsMfxkYeD6AFAC9gulX/wk8f8AKWkA8+QMMIN+yK4EB2LgqBt4GsBWmDAysAvcZ\n",
       "eNGDYzkDM9CxrAsY0oGmBVgwyKJbUc3wPoAB5M1HDAyTr03LDUBXMPluvQADA9cDBg4BXKGYBAlq\n",
       "1gSsstwKnCDn5+KMbqYEZqBOTmB0M0hjVcBytw5kDsh+RjwJ4g4DAwALUz0NBgexYgAAAABJRU5E\n",
       "rkJggg==\n",
       "\" style=\"display:inline;vertical-align:middle;\" /></a></td></tr>\n",
       "<tr><td>5</td><td>ExprTuple</td><td>7, 8</td><td><a class=\"ProveItLink\" href=\"../d7c2922724b7711a2cef7811c9af60b8851bb4d80/expr.ipynb\"><img src=\"data:image/png;base64,iVBORw0KGgoAAAANSUhEUgAAAGwAAAAVBAMAAABRZRb3AAAAMFBMVEX////c3NwiIiJERESqqqqY\n",
       "mJh2dnZmZmYQEBDu7u4yMjJUVFTMzMyIiIi6uroAAAAs73DqAAAAAXRSTlMAQObYZgAAAghJREFU\n",
       "OMudVD1oU1EYPSG/L8l7eYO4lNIsOmeoPyCFgFuhNCBU6NIspZMQCnZRUcFFRHlQKMUlXRy6lFdX\n",
       "EbN3SHDoEyT01akoYgMRySKe776f+5K3Gfi+e8j5zr3nfvfeB/znzxqkYN5Pl/3UlKJPNBXDxylV\n",
       "1U1QEoeai2E5JSs7CYphao8a5tuzsmGSYpScmNLQeDYre5mkGN81lYCLs307mKIWsSPw/uk9ZoFX\n",
       "v17x6HUrrso/2WwARVrb20FmElBbeMdcdDN/OBAa7fy1Uh1YjmWPsNBhE1pA+xfMy4BaxhvmDQdj\n",
       "DoQFMrkecBEvNkGtyW37qDa3kW0E1AX+Mr9CdcSB0EClIdX9uE0u+jZQ80m9Rm0QUH2pzY1h1gMZ\n",
       "6wZTstUmPkPJkJug34tkL3heI2TpXyCw0IOTMHlm45ZMRqPFA3xBZPIG/V8q/wraZzApW5cTEtkG\n",
       "1LazbEm5gzsIqHXppzHBJ1u1Faut25gPILpivOtUZNuFjvTb+o3oAL4x/xhuy8yEu6d7Dzgxjhj7\n",
       "Um999ERtMRlL3iikjlCSdZT/EOrLda6w2jaeSyrU48vFa2nBGE9f4IJqpyzroyvbxhrwHvvNgJI4\n",
       "xFO74k4/nLcIZcURPkQP5zpuhpTEHO4OHwbVc5HsWL0jRm7Ja6l/Mi5WPD+kJDL6wUXQ7KU/CvOa\n",
       "YvwD6xePyY68ZlIAAAAASUVORK5CYII=\n",
       "\" style=\"display:inline;vertical-align:middle;\" /></a></td></tr>\n",
       "<tr><td>6</td><td>Operation</td><td>operator:&nbsp;9<br>operands:&nbsp;10<br></td><td><a class=\"ProveItLink\" href=\"../11c10f4bba158f3c28c22f8b0eddbb73cf6480560/expr.ipynb\"><img src=\"data:image/png;base64,iVBORw0KGgoAAAANSUhEUgAAADMAAAANBAMAAAD2/0vEAAAAMFBMVEX///+6uroyMjJERETMzMwQ\n",
       "EBAiIiKYmJju7u5mZmaqqqpUVFSIiIh2dnbc3NwAAAAWgogoAAAAAXRSTlMAQObYZgAAAKRJREFU\n",
       "GNNjYHh7+tXJAwwogOPmBYb3DQwcF9jTWROAfE4lMNgAZPIyfmA4D6QYeD5wOaDq8uJMYDAGambg\n",
       "NmBAAw2sBxj+gBisB9ClGNY3sHwB0e8dGBpAdqWBAdiISQw8AQwM7A/OM/A0oOnSZGAGOmd9gSnD\n",
       "G3QDZzPIFzAwNJ/tvVOALtV8Zv4DBlzgGg5x7gSOKBxSbBeYL+CQ4jozEUgCABYeKl4jfnQmAAAA\n",
       "AElFTkSuQmCC\n",
       "\" style=\"display:inline;vertical-align:middle;\" /></a></td></tr>\n",
       "<tr><td>7</td><td>Operation</td><td>operator:&nbsp;11<br>operand:&nbsp;12<br></td><td><a class=\"ProveItLink\" href=\"../da9d37deb27ad93409c8797000937c472d82d0c90/expr.ipynb\"><img src=\"data:image/png;base64,iVBORw0KGgoAAAANSUhEUgAAACgAAAAVBAMAAADGNLEtAAAAMFBMVEX///8yMjK6uroiIiLMzMwQ\n",
       "EBCqqqru7u7c3NxUVFRERER2dnaIiIhmZmaYmJgAAAAgbmjVAAAAAXRSTlMAQObYZgAAAPlJREFU\n",
       "GNNjYMALmA5AaD4FJEFPGOMKkqA4jMGIEOM5AGPxbYALshbAWOwBcEFFhKZlQPz29CsgeRuIu0+2\n",
       "nQWaspeBgXcCx1+ggBxQ3wY+O1YDBoZEBob3BQzfgIJBDAzcDDwf2BwYGFQZGCIZWH4ABT8BVTJw\n",
       "LgCZ6c/A9o2BxwAiCHTCAYggzw8GrgtAVhiI2+/AUADSzveBgT8ByF8HdHXDeQYeoOBDBvbvDPMb\n",
       "GMDuyH+wlKEHwtQ8cxmkU5mBoep09Z4HQKYQiL8WbEcDkjeZGNi/oQYD9wGG+w2cE1CDrpCBIevM\n",
       "PQi7EyY4AymQOaAByuPAAADpfDmRy2jJwwAAAABJRU5ErkJggg==\n",
       "\" style=\"display:inline;vertical-align:middle;\" /></a></td></tr>\n",
       "<tr><td>8</td><td>Operation</td><td>operator:&nbsp;11<br>operand:&nbsp;13<br></td><td><a class=\"ProveItLink\" href=\"../8f8b469742d846f3e5be0a2c436c6ddea48d34100/expr.ipynb\"><img src=\"data:image/png;base64,iVBORw0KGgoAAAANSUhEUgAAACcAAAAVBAMAAAA3P+qgAAAAMFBMVEX///8yMjK6uroiIiLMzMwQ\n",
       "EBCqqqru7u7c3NxUVFRERER2dnaIiIhmZmaYmJgAAAAgbmjVAAAAAXRSTlMAQObYZgAAAQ5JREFU\n",
       "GNN9kDtLw1AUx3/GNGnSNO3mpChOTuYjOAluxUFwc3bxLi5OWZ3MN3AXlICrhQxuBnxNIlhxtIhB\n",
       "pHZQ8Nw8TCYvnMf93cf5nwP/LiMp4ksTbpSxu9aAc1XSr5mXVNm4hi1VZfs1XPrL3B1xb1ev4h/B\n",
       "HsYcKTo3Ui1q/whcgI6RcQ2WVHpXTARuwno34EQED2AbcyrwA1Qr4RvMDGuCFxSQPWV+5tCb4srP\n",
       "bInd4g3y535GT2s4E5vHjcDvY39xHAoYij2w+kwuaSW915KXxQ7SkZzPLOr9ad6mvs550aaBrWXi\n",
       "xziBrctdwCh0onJ0s7EbS7PS0G76VMzhECu9k+iEjSG3y4Fewi8w1j7FJ9sdaAAAAABJRU5ErkJg\n",
       "gg==\n",
       "\" style=\"display:inline;vertical-align:middle;\" /></a></td></tr>\n",
       "<tr><td>9</td><td>Literal</td><td></td><td><a class=\"ProveItLink\" href=\"../../../packages/proveit/logic/equality/__pv_it/2fb26078095930560931daa0500ce419a39ea6cd0/expr.ipynb\"><img src=\"data:image/png;base64,iVBORw0KGgoAAAANSUhEUgAAAA4AAAAFBAMAAACHocAhAAAAFVBMVEX///9EREQiIiJUVFQyMjJm\n",
       "ZmYAAADubVkoAAAAAXRSTlMAQObYZgAAABRJREFUCNdjCHEBAWcGXCBICQQUAUpuAwlgGKrkAAAA\n",
       "AElFTkSuQmCC\n",
       "\" style=\"display:inline;vertical-align:middle;\" /></a></td></tr>\n",
       "<tr><td>10</td><td>ExprTuple</td><td>12, 13</td><td><a class=\"ProveItLink\" href=\"../a6a2ac9310c73e21661c7634808321702fb219240/expr.ipynb\"><img src=\"data:image/png;base64,iVBORw0KGgoAAAANSUhEUgAAACwAAAAVBAMAAADP3xFXAAAAMFBMVEX////c3NwiIiJERESqqqqY\n",
       "mJh2dnZmZmYQEBDu7u4yMjJUVFTMzMyIiIi6uroAAAAs73DqAAAAAXRSTlMAQObYZgAAAQtJREFU\n",
       "GNNjYMAB+C6gi7A+ABKnMVXWAPFKTGEuBgbeC5jCrAkMHBMwhTkbGF5hc4YJQxmQFLstch1i1rQy\n",
       "BsafDAzpDEuBehJYVTkUwMIJ7xl4PzAweDH0MTCwAZksB0CiPA5FDMwGDAwvGP4BVTNwG0DtYuhl\n",
       "4Acadx4kzMDAAXMly0+G8wdAwi0gnvwBBog72Rcw3GAAGWIKdL3AfQbeCWAJrgIGayAVBXQLg3+A\n",
       "BYMsA+cnkOoNfF8ZQA58xMAw+dq03AAGzn4BoJ221z8ChdcxcAjAQxjMYlMAex4YLLAAAuJNDDMc\n",
       "gFIXkAIWJKzGYAYkZwGxNEwY5Hbf66CY2QjEjBgBznuAAQAt5DtyKXSr1gAAAABJRU5ErkJggg==\n",
       "\" style=\"display:inline;vertical-align:middle;\" /></a></td></tr>\n",
       "<tr><td>11</td><td>Variable</td><td></td><td><a class=\"ProveItLink\" href=\"../../../packages/proveit/__pv_it/b5004dd09038f1a7d88dab9010b943185ce1d3ea0/expr.ipynb\"><img src=\"data:image/png;base64,iVBORw0KGgoAAAANSUhEUgAAAAoAAAANBAMAAABiGeI2AAAALVBMVEX///+6uroiIiLMzMwQEBCq\n",
       "qqru7u7c3NxUVFRERER2dnaIiIhmZmaYmJgAAABs7E5IAAAAAXRSTlMAQObYZgAAAFRJREFUCNdj\n",
       "YGC4s+smAwNPA/sbBoZ7CQxPGRg8GJifM7A+ZeBWYOB+zsB5gIH3AQNfAAPbM4a+AgYGid2HGEBg\n",
       "DgMDIwMbUPm5Ao4GBobI3WcZGAA0kxQNEIuRVgAAAABJRU5ErkJggg==\n",
       "\" style=\"display:inline;vertical-align:middle;\" /></a></td></tr>\n",
       "<tr><td>12</td><td>Variable</td><td></td><td><a class=\"ProveItLink\" href=\"../../../packages/proveit/__pv_it/530be409e3083890784cf1d7b28c9e67e90af9360/expr.ipynb\"><img src=\"data:image/png;base64,iVBORw0KGgoAAAANSUhEUgAAAAsAAAAJBAMAAAAWSsseAAAAKlBMVEX///9ERETMzMwQEBAiIiKY\n",
       "mJju7u5mZmaqqqpUVFSIiIh2dnbc3NwAAAA/vyDhAAAAAXRSTlMAQObYZgAAAENJREFUCNdjYDi9\n",
       "8sTyBQxsG1hdmR0YuBm4LnAoMLAxcAowgADzAjB1VoEhgYH1wFoGrgSG3gBhhlMMDImrs3cFMAAA\n",
       "t0YN+iTRa+sAAAAASUVORK5CYII=\n",
       "\" style=\"display:inline;vertical-align:middle;\" /></a></td></tr>\n",
       "<tr><td>13</td><td>Variable</td><td></td><td><a class=\"ProveItLink\" href=\"../../../packages/proveit/__pv_it/f8b9edf8e16034727f0aad55bb83e392c3db40d40/expr.ipynb\"><img src=\"data:image/png;base64,iVBORw0KGgoAAAANSUhEUgAAAAsAAAANBAMAAACN24kIAAAAMFBMVEX///+YmJhUVFQyMjIQEBBE\n",
       "REQiIiKqqqrMzMyIiIi6urrc3NxmZmZ2dnbu7u4AAADXeCicAAAAAXRSTlMAQObYZgAAAFhJREFU\n",
       "CNdj4LtzgWH/AwZerg8M8xkY2nkSGEIZGB6wTGD4ycDAUP+A4weQOszA6QCkbBhYFYDUIYb1AkDq\n",
       "6czzGxhA4BoQMyXwuQMptgusF4AU+8xTQBIAUqMVoSp/SLMAAAAASUVORK5CYII=\n",
       "\" style=\"display:inline;vertical-align:middle;\" /></a></td></tr>\n",
       "</table>\n"
      ],
      "text/plain": [
       "0. forall_{y | x = y} (g(x) = g(y))\n",
       "   core type: Operation\n",
       "   operator: 1\n",
       "   operand: 2\n",
       "1. forall\n",
       "   core type: Literal\n",
       "   sub-expressions: \n",
       "2. y -> (g(x) = g(y)) | x = y\n",
       "   core type: Lambda\n",
       "   parameter: 13\n",
       "   body: 3\n",
       "   conditions: 4\\n3. g(x) = g(y)\n",
       "   core type: Operation\n",
       "   operator: 9\n",
       "   operands: 5\n",
       "4. (x = y)\n",
       "   core type: ExprTuple\n",
       "   sub-expressions: 6\n",
       "5. (g(x) , g(y))\n",
       "   core type: ExprTuple\n",
       "   sub-expressions: 7, 8\n",
       "6. x = y\n",
       "   core type: Operation\n",
       "   operator: 9\n",
       "   operands: 10\n",
       "7. g(x)\n",
       "   core type: Operation\n",
       "   operator: 11\n",
       "   operand: 12\n",
       "8. g(y)\n",
       "   core type: Operation\n",
       "   operator: 11\n",
       "   operand: 13\n",
       "9. =\n",
       "   core type: Literal\n",
       "   sub-expressions: \n",
       "10. (x , y)\n",
       "    core type: ExprTuple\n",
       "    sub-expressions: 12, 13\n",
       "11. g\n",
       "    core type: Variable\n",
       "    sub-expressions: \n",
       "12. x\n",
       "    core type: Variable\n",
       "    sub-expressions: \n",
       "13. y\n",
       "    core type: Variable\n",
       "    sub-expressions: "
      ]
     },
     "execution_count": 4,
     "metadata": {},
     "output_type": "execute_result"
    }
   ],
   "source": [
    "# display the expression information\n",
    "expr.exprInfo()"
   ]
  },
  {
   "cell_type": "code",
   "execution_count": null,
   "metadata": {},
   "outputs": [],
   "source": []
  }
 ],
 "metadata": {
  "kernelspec": {
   "display_name": "Python 3",
   "language": "python",
   "name": "python3"
  }
 },
 "nbformat": 4,
 "nbformat_minor": 0
}
