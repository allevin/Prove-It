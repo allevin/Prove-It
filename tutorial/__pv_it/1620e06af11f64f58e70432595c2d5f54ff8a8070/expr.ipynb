{
 "cells": [
  {
   "cell_type": "markdown",
   "metadata": {},
   "source": [
    "Expression of type <a class=\"ProveItLink\" href=\"../../../doc/html/api/proveit.logic.Implies.html\">Implies</a>\n",
    "=======================\n",
    "# from context <a class=\"ProveItLink\" href=\"../../_context_.ipynb\">tutorial</a>"
   ]
  },
  {
   "cell_type": "code",
   "execution_count": 1,
   "metadata": {},
   "outputs": [],
   "source": [
    "# import Expression classes needed to build the expression\n",
    "from proveit import Literal\n",
    "from proveit.logic import Implies"
   ]
  },
  {
   "cell_type": "code",
   "execution_count": 2,
   "metadata": {},
   "outputs": [
    {
     "data": {
      "text/html": [
       "<strong id=\"expr\">expr:</strong> <a class=\"ProveItLink\" href=\"expr.ipynb\"><img src=\"data:image/png;base64,iVBORw0KGgoAAAANSUhEUgAAAIIAAAAVBAMAAAB4Tis1AAAAMFBMVEX///9ERES6uroiIiKIiIju\n",
       "7u5mZmbMzMyqqqoyMjLc3Nx2dnYQEBBUVFSYmJgAAADDc6PYAAAAAXRSTlMAQObYZgAAAdBJREFU\n",
       "OMtjYKApUCGogk8BRL79f5ph5Z8bmNLsF7gu/7/FwNDz2QFTkueP7F15A4Z0MOd+AwPHBSwWcAYw\n",
       "sP8E0owNWCT1GxhYbQIYOMGc+gkMy5DkAmAMFyC2X8DAsAkhxwpnJQFtOAX0xgawXb+4EpBMmApj\n",
       "HAVi/w0MfA0ozoICoA75AqCRB0Acjm+xyO7ThdJME4BE/AGU8GSC+1aBgfcHiJYA885fRTaBGxpu\n",
       "bCAHMn5i34AsuQXB3P8ARG6DsGF6jMHgG9TFIBUcf8OgGpLBcvZw/7J8AVOdkMgwQAlmjkmQ+ALH\n",
       "9Xm0WOpUgDL6IWbpgK1e+wlVVeQhEMkPVisfgCrHOgdiBNNfBoYCUESCOOnsH1FT0uwAhAkn0dJB\n",
       "5VYGWBIAxQfYBG4FcKwjwsEQYi0PKBa5fjOghIOxKITHdTiAgekB1BdODAzvkdMDLH0yghTwoXmw\n",
       "F0oHH4UmjpeQSOP/gKRoJSxWQcbyfkAxgGsClDFnAQOXICQ2Fc8bMTDN/4yUIqRgqQcYQ2z3/6Lk\n",
       "KkaIdxl4PwsK2v8DsSZhyTMFMMYpLNkVXQCSqnGB10QUIdwO+GQ5AwibEIlXlusCYRNu4ZdeQtAA\n",
       "lgIGANC7bIXHFZGVAAAAAElFTkSuQmCC\n",
       "\" style=\"display:inline;vertical-align:middle;\" /></a><br>"
      ],
      "text/plain": [
       "expr: tutorial => (tutorial => tutorial)"
      ]
     },
     "execution_count": 2,
     "metadata": {},
     "output_type": "execute_result"
    }
   ],
   "source": [
    "# build up the expression from sub-expressions\n",
    "expr = Implies(Literal(\"tutorial\", latexFormat = r\"X\"), Implies(Literal(\"tutorial\", latexFormat = r\"Y\"), Literal(\"tutorial\", latexFormat = r\"Z\")))"
   ]
  },
  {
   "cell_type": "code",
   "execution_count": 3,
   "metadata": {},
   "outputs": [
    {
     "name": "stdout",
     "output_type": "stream",
     "text": [
      "Passed sanity check: built 'expr' is the same as the stored Expression.\n"
     ]
    }
   ],
   "source": [
    "# check that the built expression is the same as the stored expression\n",
    "%check_expr"
   ]
  },
  {
   "cell_type": "code",
   "execution_count": 4,
   "metadata": {},
   "outputs": [
    {
     "data": {
      "text/html": [
       "<table><tr><th>&nbsp;</th><th>core type</th><th>sub-expressions</th><th>expression</th></tr>\n",
       "<tr><td>0</td><td>Operation</td><td>operator:&nbsp;4<br>operands:&nbsp;1<br></td><td><a class=\"ProveItLink\" href=\"expr.ipynb\"><img src=\"data:image/png;base64,iVBORw0KGgoAAAANSUhEUgAAAIIAAAAVBAMAAAB4Tis1AAAAMFBMVEX///9ERES6uroiIiKIiIju\n",
       "7u5mZmbMzMyqqqoyMjLc3Nx2dnYQEBBUVFSYmJgAAADDc6PYAAAAAXRSTlMAQObYZgAAAdBJREFU\n",
       "OMtjYKApUCGogk8BRL79f5ph5Z8bmNLsF7gu/7/FwNDz2QFTkueP7F15A4Z0MOd+AwPHBSwWcAYw\n",
       "sP8E0owNWCT1GxhYbQIYOMGc+gkMy5DkAmAMFyC2X8DAsAkhxwpnJQFtOAX0xgawXb+4EpBMmApj\n",
       "HAVi/w0MfA0ozoICoA75AqCRB0Acjm+xyO7ThdJME4BE/AGU8GSC+1aBgfcHiJYA885fRTaBGxpu\n",
       "bCAHMn5i34AsuQXB3P8ARG6DsGF6jMHgG9TFIBUcf8OgGpLBcvZw/7J8AVOdkMgwQAlmjkmQ+ALH\n",
       "9Xm0WOpUgDL6IWbpgK1e+wlVVeQhEMkPVisfgCrHOgdiBNNfBoYCUESCOOnsH1FT0uwAhAkn0dJB\n",
       "5VYGWBIAxQfYBG4FcKwjwsEQYi0PKBa5fjOghIOxKITHdTiAgekB1BdODAzvkdMDLH0yghTwoXmw\n",
       "F0oHH4UmjpeQSOP/gKRoJSxWQcbyfkAxgGsClDFnAQOXICQ2Fc8bMTDN/4yUIqRgqQcYQ2z3/6Lk\n",
       "KkaIdxl4PwsK2v8DsSZhyTMFMMYpLNkVXQCSqnGB10QUIdwO+GQ5AwibEIlXlusCYRNu4ZdeQtAA\n",
       "lgIGANC7bIXHFZGVAAAAAElFTkSuQmCC\n",
       "\" style=\"display:inline;vertical-align:middle;\" /></a></td></tr>\n",
       "<tr><td>1</td><td>ExprTuple</td><td>2, 3</td><td><a class=\"ProveItLink\" href=\"../0e96e478700721ce7ab1542b66f05c04abe7184e0/expr.ipynb\"><img src=\"data:image/png;base64,iVBORw0KGgoAAAANSUhEUgAAAGcAAAAVBAMAAACphe0AAAAAMFBMVEX////c3NwiIiJERESqqqqY\n",
       "mJh2dnZmZmYQEBDu7u4yMjJUVFTMzMyIiIi6uroAAAAs73DqAAAAAXRSTlMAQObYZgAAAbZJREFU\n",
       "OMtjYCAL8F0gTX0ciDgNxNH/2xikfmwBcRk3/d/IwODxCYtRHD+sd9srsB8AMleC+PsdGFg2QKR4\n",
       "fgEJZgcsdrx3YODUmMCwgIGBF2zk+QUM4jA5fQEGhjyEUk44q46BgauRgSEMaOcEEJ/rI2MBTO5+\n",
       "AgMrkkVcE2AsoAp7oNtmMDC8AvNZvs+Gq5rfwPAWOaA2wFgPGLi/QJxeBhHo3wlXxfyPJwHZK7kI\n",
       "Zn4AkGArYFgK5SJCi+X3dCirSAkE9OEO5/0Lll/A0Afh71dAmNe/ATXUvB5AGf5g7XwNDP/AXHbp\n",
       "fwhF9hNQNXGugOji+83AAAwIng9QTTU8nxGKutDi51QmhAbGCygEgZpaQFy2B+DYgQDGbwwoflKy\n",
       "hIo3TWDgCwA7zxTEv8fAEA9yL9hdrP9QLfKG0pM6IZHGuoAhHeQjYBDzfwA6/hNIkvsDih7GBVDG\n",
       "CgEGRmNIkD9iYHjcr8fAt/7TTgbOfqAb2ff/RkmszFB3c38yNtb/CkoiDxg4BJBjXwAzmfKgCwCT\n",
       "ESty7LMSk6FyYVmDBE2cID9KIwkQk4m5QV5gJDG732FgAAAuVGf4VtpivwAAAABJRU5ErkJggg==\n",
       "\" style=\"display:inline;vertical-align:middle;\" /></a></td></tr>\n",
       "<tr><td>2</td><td>Literal</td><td></td><td><a class=\"ProveItLink\" href=\"../6e1b408243d9b1d364bd9ad249c1e854d92ba3a50/expr.ipynb\"><img src=\"data:image/png;base64,iVBORw0KGgoAAAANSUhEUgAAABIAAAAOBAMAAADQ9FGEAAAAMFBMVEX///9ERES6uroiIiKIiIju\n",
       "7u5mZmbMzMyqqqoyMjLc3Nx2dnYQEBBUVFSYmJgAAADDc6PYAAAAAXRSTlMAQObYZgAAAGRJREFU\n",
       "CNdjYGB4+/80w8o/NxiA4H4DA8cFEIOhfgLDMjCDgfMXVwKExfEtlgEKzl+FsfY7wFj3DaAMtrWf\n",
       "oKx09o8QBrcCg/0CMMuJgeE92Dy2DQwM/B+ADMXzRgxM8z9fZQAAyVAaemEFKr0AAAAASUVORK5C\n",
       "YII=\n",
       "\" style=\"display:inline;vertical-align:middle;\" /></a></td></tr>\n",
       "<tr><td>3</td><td>Operation</td><td>operator:&nbsp;4<br>operands:&nbsp;5<br></td><td><a class=\"ProveItLink\" href=\"../fe4dacd343e14f2222851e7eff1c1b3a03d0d2c70/expr.ipynb\"><img src=\"data:image/png;base64,iVBORw0KGgoAAAANSUhEUgAAAEAAAAAPBAMAAACmSdRUAAAAMFBMVEX///9mZmbu7u6YmJi6urp2\n",
       "dnZEREQyMjLMzMyIiIgQEBCqqqoiIiJUVFTc3NwAAAA2WfgnAAAAAXRSTlMAQObYZgAAAOJJREFU\n",
       "GNNjeHv+7wMG7vUnGTDB+mV3r/1hYOgvALKzsciz/GZg0FnEwMDzj4GB1QEhzgRjMAIFqx4wMHB+\n",
       "ZWCwRtLIrgBTwMDA9gOk4xcDywRkky/AGAwM9zeAGPkOrSh2R8JZrJ/B1P5LAlABmTMgcB7GZZgP\n",
       "MZnrL5rzt0OdzP0RQrN9QlPAVAVR4X+BgQNsQgGagvYgMMXxHewTBob3AQwobjiTBOG9OsTA4Axi\n",
       "2DugGrAXatEpYIAUgVj3UeX5oDayr2NgeJYAZMj+v4migO0BhL5/LC3nvwGWOOJA5QIA7nY8/RcK\n",
       "CYkAAAAASUVORK5CYII=\n",
       "\" style=\"display:inline;vertical-align:middle;\" /></a></td></tr>\n",
       "<tr><td>4</td><td>Literal</td><td></td><td><a class=\"ProveItLink\" href=\"../../../packages/proveit/logic/boolean/implication/__pv_it/e5c030cabcb650938f92dee8256fe11cd12bf9b30/expr.ipynb\"><img src=\"data:image/png;base64,iVBORw0KGgoAAAANSUhEUgAAABMAAAANBAMAAAC5okgUAAAALVBMVEX////c3NxERETMzMwQEBCq\n",
       "qqoiIiJmZmaIiIh2dnZUVFS6uroyMjLu7u4AAACPpZJTAAAAAXRSTlMAQObYZgAAAD1JREFUCNdj\n",
       "YAABXgY44LkAZ3IvQAjPABFlaSCQV4AQjtkAZ/IegbNt5sLUpunC5aPgLMYDcCaTAJzJDCIA2yMN\n",
       "HCCUuIIAAAAASUVORK5CYII=\n",
       "\" style=\"display:inline;vertical-align:middle;\" /></a></td></tr>\n",
       "<tr><td>5</td><td>ExprTuple</td><td>6, 7</td><td><a class=\"ProveItLink\" href=\"../b81fa5b1c8d8f1426797c5e514718614ae6d4e490/expr.ipynb\"><img src=\"data:image/png;base64,iVBORw0KGgoAAAANSUhEUgAAADIAAAAVBAMAAAD2uKAMAAAAMFBMVEX////c3NwiIiJERESqqqqY\n",
       "mJh2dnZmZmYQEBDu7u4yMjJUVFTMzMyIiIi6uroAAAAs73DqAAAAAXRSTlMAQObYZgAAASVJREFU\n",
       "KM9jYMAN+C5gEWR9ACROM0jr/xZgYOnXBYtx/LDeba/AUANkrmRgOL8ASJtAVL93YODUmMDAxcDA\n",
       "CzSM6SMDA9sDiEwdAwNXI9C4BAaOCUDZbwwMIVAbChgY7A8wMHA2MLwC8jh/INzxgIH7CwPY8DIQ\n",
       "Zf/gGMJd+QEgMp1hKYjy31kAl+D9C6a8GPrATv2N0OIPUfSC4R+IYv6J8DhQEdAFDOchMhwL4DIg\n",
       "vxWAZVpAXPkEmARj0wQGvgCwaaYgfjzIm5wg1qROoE+BXmSIAroOCPaDiPkKQGKFAAOjMcTVj4Bk\n",
       "9f+9QHIGMIy4Pxkb638Fyaxj4BCAW/4QKRqAocMKt5whAEmG7QI4FrDIzAJiaXiwIEfqRpAPsMU2\n",
       "7wEGAAPvRMD7tKJEAAAAAElFTkSuQmCC\n",
       "\" style=\"display:inline;vertical-align:middle;\" /></a></td></tr>\n",
       "<tr><td>6</td><td>Literal</td><td></td><td><a class=\"ProveItLink\" href=\"../6cc660794416efade8d57c502e2b99e8c6a1df6d0/expr.ipynb\"><img src=\"data:image/png;base64,iVBORw0KGgoAAAANSUhEUgAAABAAAAAOBAMAAADUAYG5AAAAMFBMVEX///9mZmbu7u6YmJi6urp2\n",
       "dnZEREQyMjLMzMyIiIgQEBCqqqoiIiJUVFTc3NwAAAA2WfgnAAAAAXRSTlMAQObYZgAAAFlJREFU\n",
       "CNdjeHv+7wMG7vUnGRj6CxgYGLKBmOcfAwOrA5DB+ZWBwRpIMzD9YmCZAGIw5Du0gmmG/ZcEIAyu\n",
       "vxCage0TlMFVAGW8D4Ay7B2gjPtQWvb/TRAFACz0FH9TvjwoAAAAAElFTkSuQmCC\n",
       "\" style=\"display:inline;vertical-align:middle;\" /></a></td></tr>\n",
       "<tr><td>7</td><td>Literal</td><td></td><td><a class=\"ProveItLink\" href=\"../01fa066582b7adbef724608a37ea3a7e68200f710/expr.ipynb\"><img src=\"data:image/png;base64,iVBORw0KGgoAAAANSUhEUgAAAA4AAAAOBAMAAADtZjDiAAAAMFBMVEX///+IiIiYmJh2dnbMzMzc\n",
       "3NwyMjJmZmbu7u6qqqq6uroiIiJUVFREREQQEBAAAACI0POCAAAAAXRSTlMAQObYZgAAAGZJREFU\n",
       "CNdjYGB4//bM2d8MDFw/GRi6XzAwsC9gYMgLANIMDLxfGIDiDAznJzCAAPMnMMUgLwCmOL9DuOsP\n",
       "MLAAKZZvYD0McTsYGBYxMHDsa2BgyGBgYHvKwBB7AWjG3ru3/yswAABx/Bk2qVjOoAAAAABJRU5E\n",
       "rkJggg==\n",
       "\" style=\"display:inline;vertical-align:middle;\" /></a></td></tr>\n",
       "</table>\n"
      ],
      "text/plain": [
       "0. tutorial => (tutorial => tutorial)\n",
       "   core type: Operation\n",
       "   operator: 4\n",
       "   operands: 1\n",
       "1. (tutorial , tutorial => tutorial)\n",
       "   core type: ExprTuple\n",
       "   sub-expressions: 2, 3\n",
       "2. tutorial\n",
       "   core type: Literal\n",
       "   sub-expressions: \n",
       "3. tutorial => tutorial\n",
       "   core type: Operation\n",
       "   operator: 4\n",
       "   operands: 5\n",
       "4. =>\n",
       "   core type: Literal\n",
       "   sub-expressions: \n",
       "5. (tutorial , tutorial)\n",
       "   core type: ExprTuple\n",
       "   sub-expressions: 6, 7\n",
       "6. tutorial\n",
       "   core type: Literal\n",
       "   sub-expressions: \n",
       "7. tutorial\n",
       "   core type: Literal\n",
       "   sub-expressions: "
      ]
     },
     "execution_count": 4,
     "metadata": {},
     "output_type": "execute_result"
    }
   ],
   "source": [
    "# display the expression information\n",
    "expr.exprInfo()"
   ]
  },
  {
   "cell_type": "code",
   "execution_count": null,
   "metadata": {},
   "outputs": [],
   "source": []
  }
 ],
 "metadata": {
  "kernelspec": {
   "display_name": "Python 3",
   "language": "python",
   "name": "python3"
  }
 },
 "nbformat": 4,
 "nbformat_minor": 0
}
