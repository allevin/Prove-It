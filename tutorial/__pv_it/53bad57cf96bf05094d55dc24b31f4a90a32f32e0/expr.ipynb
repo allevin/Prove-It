{
 "cells": [
  {
   "cell_type": "markdown",
   "metadata": {},
   "source": [
    "Expression of type <a class=\"ProveItLink\" href=\"../../../doc/html/api/demo_operations.Multiply.html\">Multiply</a>\n",
    "=======================\n",
    "# from context <a class=\"ProveItLink\" href=\"../../_context_.ipynb\">tutorial</a>"
   ]
  },
  {
   "cell_type": "code",
   "execution_count": 1,
   "metadata": {},
   "outputs": [],
   "source": [
    "# import Expression classes needed to build the expression\n",
    "import sys\n",
    "sys.path.insert(1, \"../0045d6045e526d6ce49eeaf82278d665584df5dc0\")\n",
    "from demo_operations import Factorial, Multiply\n",
    "from proveit import Literal, Variable\n",
    "from proveit._common_ import x"
   ]
  },
  {
   "cell_type": "code",
   "execution_count": 2,
   "metadata": {},
   "outputs": [
    {
     "data": {
      "text/html": [
       "<strong id=\"expr\">expr:</strong> <a class=\"ProveItLink\" href=\"expr.ipynb\"><img src=\"data:image/png;base64,iVBORw0KGgoAAAANSUhEUgAAALUAAAAVBAMAAADyYbJ0AAAAMFBMVEX////c3NwiIiJERESqqqqY\n",
       "mJh2dnZmZmYQEBDu7u4yMjJUVFTMzMyIiIi6uroAAAAs73DqAAAAAXRSTlMAQObYZgAAAjNJREFU\n",
       "OMu1lT9oE1Ecx7/n5S53uVw9gkSpSIPg1kEEQcEhY8HBTIIgckNBB4uZbKGDUYqLVA8ECV16SymV\n",
       "YuMiBVHOScXBOmiGWjwcxSEuHYok/t7dJc0vvAxv8ODleN987pv3+3cB/uc1saNC31Dy/iQTC9e0\n",
       "WSmdj4DmWa6tBeWq3HtDJlq9ni/HQ2Cqw6UnvX0560pTUli8PSbMq8BqhUvrryI5awUy1RmbwiZw\n",
       "NORSaxz7a3izSWty2LtAJ9KYlV6F1WLswPtQya67tMq7x9pJakoRtOnEe283FnexKyURm7SKS3Sv\n",
       "40idsXiz9xZcEbX6UMUaYPvGGauSWaVOemB3Mz7Dv4ivHwK5ELrPWFzEaswU16OPEz4eiyO5nVyK\n",
       "ld5N9wPaRspnBj5s4CuNQwNObZR1GkyhGAO4NdDxbDj9jtVOD0p+J/u1FJ+IRBWvU146MKujrPmX\n",
       "Kb9hN2BESEK3dka8z5F3POxNR7mc5JG83YixegVmlyk+ci3xxJLYTEUIWFQPgHvecE6ocWah+UlO\n",
       "ipylUuX/MKUlQisD5wHD+wE3YNWgTnjOaqlHxS4mCTL6HTlg89SqIVMu4XOs0bzfBK7ULuAU76Lj\n",
       "yN1nPWguL2y3RYzUg+lcDlitjhmPKbfaj5YXqCg/gaffns3VePcX5197bHbsrc2VA1GBQpy9qw4n\n",
       "5f3iS/70ysHHrRciW57aK7mpwBq+mvecCryhZG2HKvRJJW9HKYWa0n/adwX2H5FPlhy7hSCuAAAA\n",
       "AElFTkSuQmCC\n",
       "\" style=\"display:inline;vertical-align:middle;\" /></a><br>"
      ],
      "text/plain": [
       "expr: (x * 5 * omega)! * 5 * omega"
      ]
     },
     "execution_count": 2,
     "metadata": {},
     "output_type": "execute_result"
    }
   ],
   "source": [
    "# build up the expression from sub-expressions\n",
    "subExpr1 = Variable(\"omega\", latexFormat = r\"\\omega\")\n",
    "expr = Multiply(Factorial(Multiply(x, Literal(\"5\"), subExpr1)), Literal(\"5\"), subExpr1)"
   ]
  },
  {
   "cell_type": "code",
   "execution_count": 3,
   "metadata": {},
   "outputs": [
    {
     "name": "stdout",
     "output_type": "stream",
     "text": [
      "Passed sanity check: built 'expr' is the same as the stored Expression.\n"
     ]
    }
   ],
   "source": [
    "# check that the built expression is the same as the stored expression\n",
    "%check_expr"
   ]
  },
  {
   "cell_type": "code",
   "execution_count": 4,
   "metadata": {},
   "outputs": [
    {
     "data": {
      "text/html": [
       "<table><tr><th>&nbsp;</th><th>core type</th><th>sub-expressions</th><th>expression</th></tr>\n",
       "<tr><td>0</td><td>Operation</td><td>operator:&nbsp;5<br>operands:&nbsp;1<br></td><td><a class=\"ProveItLink\" href=\"expr.ipynb\"><img src=\"data:image/png;base64,iVBORw0KGgoAAAANSUhEUgAAALUAAAAVBAMAAADyYbJ0AAAAMFBMVEX////c3NwiIiJERESqqqqY\n",
       "mJh2dnZmZmYQEBDu7u4yMjJUVFTMzMyIiIi6uroAAAAs73DqAAAAAXRSTlMAQObYZgAAAjNJREFU\n",
       "OMu1lT9oE1Ecx7/n5S53uVw9gkSpSIPg1kEEQcEhY8HBTIIgckNBB4uZbKGDUYqLVA8ECV16SymV\n",
       "YuMiBVHOScXBOmiGWjwcxSEuHYok/t7dJc0vvAxv8ODleN987pv3+3cB/uc1saNC31Dy/iQTC9e0\n",
       "WSmdj4DmWa6tBeWq3HtDJlq9ni/HQ2Cqw6UnvX0560pTUli8PSbMq8BqhUvrryI5awUy1RmbwiZw\n",
       "NORSaxz7a3izSWty2LtAJ9KYlV6F1WLswPtQya67tMq7x9pJakoRtOnEe283FnexKyURm7SKS3Sv\n",
       "40idsXiz9xZcEbX6UMUaYPvGGauSWaVOemB3Mz7Dv4ivHwK5ELrPWFzEaswU16OPEz4eiyO5nVyK\n",
       "ld5N9wPaRspnBj5s4CuNQwNObZR1GkyhGAO4NdDxbDj9jtVOD0p+J/u1FJ+IRBWvU146MKujrPmX\n",
       "Kb9hN2BESEK3dka8z5F3POxNR7mc5JG83YixegVmlyk+ci3xxJLYTEUIWFQPgHvecE6ocWah+UlO\n",
       "ipylUuX/MKUlQisD5wHD+wE3YNWgTnjOaqlHxS4mCTL6HTlg89SqIVMu4XOs0bzfBK7ULuAU76Lj\n",
       "yN1nPWguL2y3RYzUg+lcDlitjhmPKbfaj5YXqCg/gaffns3VePcX5197bHbsrc2VA1GBQpy9qw4n\n",
       "5f3iS/70ysHHrRciW57aK7mpwBq+mvecCryhZG2HKvRJJW9HKYWa0n/adwX2H5FPlhy7hSCuAAAA\n",
       "AElFTkSuQmCC\n",
       "\" style=\"display:inline;vertical-align:middle;\" /></a></td></tr>\n",
       "<tr><td>1</td><td>ExprTuple</td><td>2, 8, 9</td><td><a class=\"ProveItLink\" href=\"../30ee5e6017826353c2019fa54ac95678d064b8990/expr.ipynb\"><img src=\"data:image/png;base64,iVBORw0KGgoAAAANSUhEUgAAAKMAAAAVBAMAAADY0UPbAAAAMFBMVEX////c3NwiIiJERESqqqqY\n",
       "mJh2dnZmZmYQEBDu7u4yMjJUVFTMzMyIiIi6uroAAAAs73DqAAAAAXRSTlMAQObYZgAAAmNJREFU\n",
       "OMu1VD9oE1EY/52XS++SXD2CRKlIg+DWQQShgkNGwcFMgiByQ0EHi5m00MEo4iJtDwoSuvSWIpVi\n",
       "4yIFUc5JxcFz0Ay1GB3FITo4FEn83vueRy6X03Twg9+99+733ff/HvAfZDxkjC6X/sW9UUhI7oI2\n",
       "M/SzsQBoHOf9mleqDHJYV0iI2eu5w0PxgckOb5d6PxOcHTKGRDl/NSW788BqmbcPngQJzvQYScmn\n",
       "FqwB7Pd52xzCfQUjkg3CRL/JHMWh+f0qegVmM8UkcddpEShtH2jJ/IsBtClpcme7LVZxKsr0soTC\n",
       "HVpr2FdjC892nitbou6vKoJbE20DLNc4ZpaVBTage1YX7IR94J2g7wIZH7rq3CmsSr+wHXoccgW3\n",
       "SLtFEYDdyXCliy+m/mSxBXbCPigQC3hPY1xHvhqVvA6VgQe7KjgRCMFCXk0atKNRE68pJ+xjPBDF\n",
       "v0jJd5CNpjH7Sy7fYNVhBIJTJqnt4YDJE2Sy3W+SAjkra0af2ayjl5HtqgwyTaFBHFVbApMBvFji\n",
       "t4GbTn/iNAIz0FyZeIF1qfxj31XrKfCS5E7SkWA4n2B7sfZQTx/G2qMHhS4mSMmQI2WJ/49mzJeh\n",
       "nMbbtrYuuct0JJyrTuMIYkN0EJlbsSHKLsxttURGNCj094gfSKvhjGP9oHdXWvcW5iqS+0JHwvKH\n",
       "+7PV+KgXbjx1YqNubW6s7Irq5tri2miIjF/OP4a1RHoru683HzFn0tF09nYfNnj5HN2PTowzXMZe\n",
       "ZJaXaDSNAS71cksVy083KbnDCqNLnvO0oxfhAKeFjNHl49+535j/osZRObjhAAAAAElFTkSuQmCC\n",
       "\" style=\"display:inline;vertical-align:middle;\" /></a></td></tr>\n",
       "<tr><td>2</td><td>Operation</td><td>operator:&nbsp;3<br>operand:&nbsp;4<br></td><td><a class=\"ProveItLink\" href=\"../e90c1e312032f29b9e397fea4ecc3a699faf0f600/expr.ipynb\"><img src=\"data:image/png;base64,iVBORw0KGgoAAAANSUhEUgAAAGkAAAAVBAMAAAC3TN2zAAAAMFBMVEX////c3NwiIiJERESqqqqY\n",
       "mJh2dnZmZmYQEBDu7u4yMjJUVFTMzMyIiIi6uroAAAAs73DqAAAAAXRSTlMAQObYZgAAAZNJREFU\n",
       "OMudlD9Iw0AUxr8zNk2atpYODnWwOHdwcXAQOgpVqA5OIhlEcSh0EkGEIsWtmkmKS7MUKRRsEcRF\n",
       "iZODSx2KCIrF0akOOkipvkuiJiUO8eDucr93X+79uQT4X4u2/OxesecbT2tVG0178aABlCeBmqfq\n",
       "4PPd+zAdGO8i4u3g8ZnhrVoCKklImqex8VdgZWBEx4sT1aknXKpfYjchDamBTXpiueb8DkdxAyxl\n",
       "Gi8eL+EiIvVwkeY8hvKo0uoQi9ldbqINcSueaVQ6LnLLF3vAsA5BxT6tVDxhznr1VerbFaXgIipk\n",
       "oE3lLUDJok9Ew6m9lU38pE7sOUnU4HlYJi+7ENOmCigNqIQkxL6TUFgZfiBXRQwUTVOPn+/wR0oi\n",
       "+OokCrAKppoehjVMEVqIdHHvij0IhHQnEYxwHwmqbcDE65SWN6HAWq48szxmY04ilrbO77hflHm6\n",
       "G8+APLOx1h6o6fV200Xkk/rRB69FqMNvrxTz92GVzTGg+lPlrKnmSyTr1jzmS6XYATFff4AHc/wC\n",
       "HphkT5B69/UAAAAASUVORK5CYII=\n",
       "\" style=\"display:inline;vertical-align:middle;\" /></a></td></tr>\n",
       "<tr><td>3</td><td>Literal</td><td></td><td><a class=\"ProveItLink\" href=\"../d6af88116966bca28fcbee5fe103a74f1e8a81d50/expr.ipynb\"><img src=\"data:image/png;base64,iVBORw0KGgoAAAANSUhEUgAAAAMAAAAOBAMAAAAYmLtSAAAALVBMVEX////MzMyIiIiqqqqYmJh2\n",
       "dnZmZmZUVFQyMjIiIiLc3NxEREQQEBDu7u4AAACiA/ybAAAAAXRSTlMAQObYZgAAADBJREFUCNdj\n",
       "uLOBYd0DhnsTGPgaGHgKGDgTGLgDGNgdGFgNGJgEGBgvMAABUPbOBgD2TQqw6cTpzgAAAABJRU5E\n",
       "rkJggg==\n",
       "\" style=\"display:inline;vertical-align:middle;\" /></a></td></tr>\n",
       "<tr><td>4</td><td>Operation</td><td>operator:&nbsp;5<br>operands:&nbsp;6<br></td><td><a class=\"ProveItLink\" href=\"../9be348bc9a0def1b7784d7173ce95902fc61caa20/expr.ipynb\"><img src=\"data:image/png;base64,iVBORw0KGgoAAAANSUhEUgAAAFYAAAAOBAMAAABHpfZeAAAAMFBMVEX///+6uroyMjJERETMzMwQ\n",
       "EBAiIiKYmJju7u5mZmaqqqpUVFSIiIh2dnbc3NwAAAAWgogoAAAAAXRSTlMAQObYZgAAAPVJREFU\n",
       "KM9jYMAC1BveLmAgEsT//0usUgbNvQ5Eq91AUIUKED9CUYsQgYK3p1+dPABiPHNg4EsBC+05s5EB\n",
       "RYQXiFmiGDgusKezJoAEgMLPIO60YOgXQBE5B+LEArXwfOCCKHnmlwKzjDsAReQCAwcDw3EgwW0A\n",
       "VcCXBvc+7xdkEUYHhlYGhhIgi/UAmlrmBAbej8giQOeuBhnOwPDegaEBxUag8zn/IYtwMzDcYuC7\n",
       "wMD+4DwDTwOKTzgZGJgUkEWYHVg+MjxqYFhfYMrwBjWE+CYwLH2ALMIbM3XrySgGhuazvXcK0ELe\n",
       "c/Y+FBEOfZWmTwIMAHt6TOm5ikbeAAAAAElFTkSuQmCC\n",
       "\" style=\"display:inline;vertical-align:middle;\" /></a></td></tr>\n",
       "<tr><td>5</td><td>Literal</td><td></td><td><a class=\"ProveItLink\" href=\"../7fa9fd20fee7806a99050bf24ffcbd2251e9b7fe0/expr.ipynb\"><img src=\"data:image/png;base64,iVBORw0KGgoAAAANSUhEUgAAAAsAAAAKBAMAAACQ3rmwAAAAElBMVEX///8iIiLc3NzMzMwyMjIA\n",
       "AAASH0o5AAAAAXRSTlMAQObYZgAAACtJREFUCNdjcGZgYFBhYFA0YGASZgBhIAvINQJygFxBAyQK\n",
       "IghVAtUA0Q4AhEYDuQjrDycAAAAASUVORK5CYII=\n",
       "\" style=\"display:inline;vertical-align:middle;\" /></a></td></tr>\n",
       "<tr><td>6</td><td>ExprTuple</td><td>7, 8, 9</td><td><a class=\"ProveItLink\" href=\"../d0dadf8cba2294c8a3cda06f0bcba7f19422a4450/expr.ipynb\"><img src=\"data:image/png;base64,iVBORw0KGgoAAAANSUhEUgAAAEMAAAAVBAMAAADvM06qAAAAMFBMVEX////c3NwiIiJERESqqqqY\n",
       "mJh2dnZmZmYQEBDu7u4yMjJUVFTMzMyIiIi6uroAAAAs73DqAAAAAXRSTlMAQObYZgAAAV5JREFU\n",
       "KM9jYCAC8F3AJxsHIk6jCC2dIOaAzGc/ACRWoijp//8N1ZgFDAy8qPYs33YAVUkYAwPHBBSRDeiO\n",
       "mcHA8IoBvxJmB4YyIMWYu9G3FiKy9+4+CIMNiHlagHQBw1IgcxpDUEATRMaSYf4DMOMiSGsbAwPL\n",
       "AoY+IDOB4T6DD8xk7gYwlcDAycBwFRhsDQz/gNwJDJsRlrP9AQfoAZBDY4CWfQArYWDohTlOgYHt\n",
       "H9Qp3iCjQEpaQAKMf0DGAgGHAgP7R7B1DAwpDIwJYItMgfxA3g8MN8GK2BkYuBYALWZgPsDzj0EK\n",
       "yGBdwJAOdPRX5gbGCwzzFYDGFTB4CHB+AlrUW7HjOsgGoKcfMTBw2mamAd0+A2TD8eqNDJz9Agyc\n",
       "69fM+gXyPtcDBg4BuF8ewtOHAEoEsCbAeQEwBitSBOSiJAZsSjiBiYFBGsbjhYsjpQ9ukJ2MeBPm\n",
       "HQYGAH6CUF6urHX7AAAAAElFTkSuQmCC\n",
       "\" style=\"display:inline;vertical-align:middle;\" /></a></td></tr>\n",
       "<tr><td>7</td><td>Variable</td><td></td><td><a class=\"ProveItLink\" href=\"../../../packages/proveit/__pv_it/530be409e3083890784cf1d7b28c9e67e90af9360/expr.ipynb\"><img src=\"data:image/png;base64,iVBORw0KGgoAAAANSUhEUgAAAAsAAAAJBAMAAAAWSsseAAAAKlBMVEX///9ERETMzMwQEBAiIiKY\n",
       "mJju7u5mZmaqqqpUVFSIiIh2dnbc3NwAAAA/vyDhAAAAAXRSTlMAQObYZgAAAENJREFUCNdjYDi9\n",
       "8sTyBQxsG1hdmR0YuBm4LnAoMLAxcAowgADzAjB1VoEhgYH1wFoGrgSG3gBhhlMMDImrs3cFMAAA\n",
       "t0YN+iTRa+sAAAAASUVORK5CYII=\n",
       "\" style=\"display:inline;vertical-align:middle;\" /></a></td></tr>\n",
       "<tr><td>8</td><td>Literal</td><td></td><td><a class=\"ProveItLink\" href=\"../084027c5e7faf3e99fe505f569d22a93a32e5b730/expr.ipynb\"><img src=\"data:image/png;base64,iVBORw0KGgoAAAANSUhEUgAAAAkAAAAOBAMAAAAPuiubAAAAMFBMVEX///8iIiJERES6urqIiIjM\n",
       "zMxUVFRmZmYQEBCqqqp2dnbc3Nzu7u6YmJgyMjIAAADYGhJvAAAAAXRSTlMAQObYZgAAAE1JREFU\n",
       "CNdj4LvDvZKBgeP//wUMDHxlSxkYGNgYGBCki5sBAwPTAZ7PYG4GmFwfwKAIJA0YGhkY6jcwFDAw\n",
       "vGNg2M7A2c3AwFqetoEBAKS8EE1WXEJLAAAAAElFTkSuQmCC\n",
       "\" style=\"display:inline;vertical-align:middle;\" /></a></td></tr>\n",
       "<tr><td>9</td><td>Variable</td><td></td><td><a class=\"ProveItLink\" href=\"../9d7c4e1c5ee4d34a7826567c9ff37cf313ab71e60/expr.ipynb\"><img src=\"data:image/png;base64,iVBORw0KGgoAAAANSUhEUgAAAA0AAAAJBAMAAAAbVLtZAAAALVBMVEX///9mZmYyMjJERERUVFS6\n",
       "urqYmJju7u7c3NyIiIiqqqoQEBDMzMx2dnYAAACcB6guAAAAAXRSTlMAQObYZgAAAExJREFUCNdj\n",
       "YLjAwMBwegEDZwOQ7r7AwMvAUMDAmcAQw8C+gYHtAFCaywEkCCQWMPQyMNgwnAvgUGdguD1xy07p\n",
       "BQwMRY+O66kyMAAAM0ARC3HE760AAAAASUVORK5CYII=\n",
       "\" style=\"display:inline;vertical-align:middle;\" /></a></td></tr>\n",
       "</table>\n"
      ],
      "text/plain": [
       "0. (x * 5 * omega)! * 5 * omega\n",
       "   core type: Operation\n",
       "   operator: 5\n",
       "   operands: 1\n",
       "1. ((x * 5 * omega)! , 5 , omega)\n",
       "   core type: ExprTuple\n",
       "   sub-expressions: 2, 8, 9\n",
       "2. (x * 5 * omega)!\n",
       "   core type: Operation\n",
       "   operator: 3\n",
       "   operand: 4\n",
       "3. !\n",
       "   core type: Literal\n",
       "   sub-expressions: \n",
       "4. x * 5 * omega\n",
       "   core type: Operation\n",
       "   operator: 5\n",
       "   operands: 6\n",
       "5. *\n",
       "   core type: Literal\n",
       "   sub-expressions: \n",
       "6. (x , 5 , omega)\n",
       "   core type: ExprTuple\n",
       "   sub-expressions: 7, 8, 9\n",
       "7. x\n",
       "   core type: Variable\n",
       "   sub-expressions: \n",
       "8. 5\n",
       "   core type: Literal\n",
       "   sub-expressions: \n",
       "9. omega\n",
       "   core type: Variable\n",
       "   sub-expressions: "
      ]
     },
     "execution_count": 4,
     "metadata": {},
     "output_type": "execute_result"
    }
   ],
   "source": [
    "# display the expression information\n",
    "expr.exprInfo()"
   ]
  },
  {
   "cell_type": "code",
   "execution_count": null,
   "metadata": {},
   "outputs": [],
   "source": []
  }
 ],
 "metadata": {
  "kernelspec": {
   "display_name": "Python 3",
   "language": "python",
   "name": "python3"
  }
 },
 "nbformat": 4,
 "nbformat_minor": 0
}
