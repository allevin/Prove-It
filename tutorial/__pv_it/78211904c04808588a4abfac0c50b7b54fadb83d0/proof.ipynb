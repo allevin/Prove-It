{
 "cells": [
  {
   "cell_type": "markdown",
   "metadata": {},
   "source": [
    "Show the Proof\n",
    "========"
   ]
  },
  {
   "cell_type": "code",
   "execution_count": 1,
   "metadata": {},
   "outputs": [
    {
     "data": {
      "text/html": [
       "<table><tr><th>&nbsp;</th><th>step type</th><th>requirements</th><th>statement</th></tr>\n",
       "<tr><td>0</td><td>modus ponens</td><td>1, 2</td><td><span style=\"font-size:20px;\"><a class=\"ProveItLink\" href=\"../de381471622dd233b890057708debefe799de8d80/expr.ipynb\"><img src=\"data:image/png;base64,iVBORw0KGgoAAAANSUhEUgAAAF8AAAAVBAMAAADSoS/MAAAAMFBMVEX///9ERETc3NyqqqpUVFS6\n",
       "urrMzMwyMjIQEBCIiIh2dnYiIiLu7u5mZmaYmJgAAABJJ2g3AAAAAXRSTlMAQObYZgAAAV1JREFU\n",
       "OMtjYGDgu8dAHGBbpQCieHYxEAvYmkEk5weiNTBcBxFcDcRrWEFQwwFSNdSQqiEElwatKcpzJ4DF\n",
       "mFY6Wd6Eq+CCCDKcusXA9AeqgbcAGLQL+PZxbIBIMbx+0A0S3g0GfyEaFsSDQ/M9iJ0RADQIyGVO\n",
       "gEgxzGcwQziCuRQcAQa3GRgFGBjYLzAwpLSBIo+BRQAeLo4ozj7eCpbvZOAHuU78AQNDBNhkjglw\n",
       "JZ0okVsFDlnmPwz5QHXcC4BslgKQiH4CLMyZvgENhPthI0QU6NEZDFA/cAE9y6cwn4HzAFjLI6Dn\n",
       "5iC84AChgY4XQQ5W+wcSDJoMPL+BKv4xNjAhnKcOpXkdWP8hazg469TKBww8/QoMPJJrVs1DeEEI\n",
       "SvNIzv2EJaZZFdBjOgERhRuwaODDmUS8GU4YwDTwEaNhF4MUPD/w7IQLT8CpwXJuAChSWiHmLiYl\n",
       "TwMACvVhT2p0snQAAAAASUVORK5CYII=\n",
       "\" style=\"display:inline;vertical-align:middle;\" /></a> <a class=\"ProveItLink\" href=\"proof.ipynb\" style=\"text-decoration: none\">&#x22A2;&nbsp;</a><a class=\"ProveItLink\" href=\"../../../packages/proveit/__pv_it/f8b9edf8e16034727f0aad55bb83e392c3db40d40/expr.ipynb\"><img src=\"data:image/png;base64,iVBORw0KGgoAAAANSUhEUgAAAAsAAAANBAMAAACN24kIAAAAMFBMVEX///+YmJhUVFQyMjIQEBBE\n",
       "REQiIiKqqqrMzMyIiIi6urrc3NxmZmZ2dnbu7u4AAADXeCicAAAAAXRSTlMAQObYZgAAAFhJREFU\n",
       "CNdj4LtzgWH/AwZerg8M8xkY2nkSGEIZGB6wTGD4ycDAUP+A4weQOszA6QCkbBhYFYDUIYb1AkDq\n",
       "6czzGxhA4BoQMyXwuQMptgusF4AU+8xTQBIAUqMVoSp/SLMAAAAASUVORK5CYII=\n",
       "\" style=\"display:inline;vertical-align:middle;\" /></a></span></td></tr>\n",
       "<tr><td>1</td><td>assumption</td><td></td><td><span style=\"font-size:20px;\"><a class=\"ProveItLink\" href=\"../da9eab0cdec3fecd7772f3362a50642e226e03950/expr.ipynb\"><img src=\"data:image/png;base64,iVBORw0KGgoAAAANSUhEUgAAAEkAAAAVBAMAAAD4Ed5jAAAAMFBMVEX///9ERETc3NyqqqpUVFS6\n",
       "urrMzMwyMjIQEBCIiIh2dnYiIiLu7u5mZmaYmJgAAABJJ2g3AAAAAXRSTlMAQObYZgAAARxJREFU\n",
       "KM9jYGDgu8eAB7CtUgBRPLsY8AK2ZhDJ+QG/KobrIIKrgYCqFdhV8RCliv0AMapYHbCrYlrpZHkT\n",
       "Ib4SQp26xcD0B6qKtwDIZ3j9oBvEub0bBPZfAKtaEA8OgPcgdkYAkM8wn8EMyRLzAFBAGdxmYBQA\n",
       "OhOoJ6UNKHCAwRHVlxUBIK92MvBPAPLEHzAwRCSAxDtRVKWvAZHMfxjygZLcC4BsFqC7GJi+QUIJ\n",
       "4q7dMgxQF89ggLqLawMDwyOgK+cgjDKBhtsFBhGkkGD+x9jANAGuiKkAQvM6sP5DUsUjuWbVPIRR\n",
       "jApQP0jO/YQ77NngLJBrcKmCAW+GEwYwVXw4Ve1ikIKnL56duFRZzgVHQSuYw7eYYLoHAD7QTr3l\n",
       "h9LtAAAAAElFTkSuQmCC\n",
       "\" style=\"display:inline;vertical-align:middle;\" /></a> <a class=\"ProveItLink\" href=\"../067861e1a9de84e4adfb63709883df8aa7ad47da0/proof.ipynb\" style=\"text-decoration: none\">&#x22A2;&nbsp;</a><a class=\"ProveItLink\" href=\"../add07ed78641c4ceb7dae3371fef13a20f9020140/expr.ipynb\"><img src=\"data:image/png;base64,iVBORw0KGgoAAAANSUhEUgAAADcAAAAQBAMAAABAXPr7AAAAMFBMVEX///+6uroyMjJERETMzMwQ\n",
       "EBAiIiKYmJju7u5mZmaqqqpUVFSIiIh2dnbc3NwAAAAWgogoAAAAAXRSTlMAQObYZgAAAMNJREFU\n",
       "GNNjYEAFDQx4gAY+SWlU7tvTr04egPN4IUyOmxcY3jcwcFxgT2dNAPI508DgJ0QN4weG80CKgecD\n",
       "lwPCIC5FEOnFmcBgDDSAgdsAxZqmQJCjWQ8w/AHxWA8gy7Hogn2zvoHlC4h+7wD2HdTOZIhPJzHw\n",
       "BDAwsD84z8CD8DrXBgitycAMZK0vMGV4gzD1EZSezSBfwMDQfLb3TgFC0g5KN5+Z/wAjhBCeuoYz\n",
       "FLkTOKJwSrJdYL6AU5LrzEQgCQAs9DJLrF+J5gAAAABJRU5ErkJggg==\n",
       "\" style=\"display:inline;vertical-align:middle;\" /></a></span></td></tr>\n",
       "<tr><td>2</td><td>assumption</td><td></td><td><span style=\"font-size:20px;\"><a class=\"ProveItLink\" href=\"../de27bb4dfb854e77047939b59118c118f4822fdc0/expr.ipynb\"><img src=\"data:image/png;base64,iVBORw0KGgoAAAANSUhEUgAAAB8AAAAVBAMAAABMGyhsAAAAMFBMVEX///9ERETc3NyqqqpUVFS6\n",
       "urrMzMwyMjIQEBCIiIh2dnYiIiLu7u5mZmaYmJgAAABJJ2g3AAAAAXRSTlMAQObYZgAAAJ5JREFU\n",
       "GNNjYGDgu8cAAWyrFEAUzy4GGGBrBpGcH+ACDNdBBFcDQmAFJQJaU5TnToAK8BYArV7At49jAwPD\n",
       "e5BARgBQFdBy5gQGBvYLDAwpbSDHMbAIgA0Rf8DAEJEAYnFMAJHcC4AESwGIqZ/AcABqBhfQMD6F\n",
       "+QycB5CstX8gwaCJ7I6Ds06tfEC80/ka0MKDZycixFrBFN9i5DAFABG/KycTh4UTAAAAAElFTkSu\n",
       "QmCC\n",
       "\" style=\"display:inline;vertical-align:middle;\" /></a> <a class=\"ProveItLink\" href=\"../84206dddb1b176f38e4ac3dab82159c3a33288d20/proof.ipynb\" style=\"text-decoration: none\">&#x22A2;&nbsp;</a><a class=\"ProveItLink\" href=\"../../../packages/proveit/__pv_it/530be409e3083890784cf1d7b28c9e67e90af9360/expr.ipynb\"><img src=\"data:image/png;base64,iVBORw0KGgoAAAANSUhEUgAAAAsAAAAJBAMAAAAWSsseAAAAKlBMVEX///9ERETMzMwQEBAiIiKY\n",
       "mJju7u5mZmaqqqpUVFSIiIh2dnbc3NwAAAA/vyDhAAAAAXRSTlMAQObYZgAAAENJREFUCNdjYDi9\n",
       "8sTyBQxsG1hdmR0YuBm4LnAoMLAxcAowgADzAjB1VoEhgYH1wFoGrgSG3gBhhlMMDImrs3cFMAAA\n",
       "t0YN+iTRa+sAAAAASUVORK5CYII=\n",
       "\" style=\"display:inline;vertical-align:middle;\" /></a></span></td></tr>\n",
       "</table>"
      ],
      "text/plain": [
       "<proveit._core_.proof._ShowProof at 0x7f950c6af438>"
      ]
     },
     "execution_count": 1,
     "metadata": {},
     "output_type": "execute_result"
    }
   ],
   "source": [
    "import proveit\n",
    "%show_proof"
   ]
  },
  {
   "cell_type": "code",
   "execution_count": null,
   "metadata": {},
   "outputs": [],
   "source": []
  }
 ],
 "metadata": {
  "kernelspec": {
   "display_name": "Python 3",
   "language": "python",
   "name": "python3"
  }
 },
 "nbformat": 4,
 "nbformat_minor": 0
}
