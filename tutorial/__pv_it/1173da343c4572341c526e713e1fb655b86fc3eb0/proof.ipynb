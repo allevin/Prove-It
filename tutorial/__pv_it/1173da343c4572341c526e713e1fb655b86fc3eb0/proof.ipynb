{
 "cells": [
  {
   "cell_type": "markdown",
   "metadata": {},
   "source": [
    "Show the Proof\n",
    "========"
   ]
  },
  {
   "cell_type": "code",
   "execution_count": 1,
   "metadata": {},
   "outputs": [
    {
     "data": {
      "text/html": [
       "<table><tr><th>&nbsp;</th><th>step type</th><th>requirements</th><th>statement</th></tr>\n",
       "<tr><td>0</td><td>assumption</td><td></td><td><span style=\"font-size:20px;\"><a class=\"ProveItLink\" href=\"../54f4bd464255bea4ab49cc5bc098c69c9bd746130/expr.ipynb\"><img src=\"data:image/png;base64,iVBORw0KGgoAAAANSUhEUgAAAFcAAAAVBAMAAADBdm84AAAAMFBMVEX///9ERETc3NyqqqpUVFS6\n",
       "urrMzMwyMjIQEBCIiIh2dnYiIiLu7u5mZmaYmJgAAABJJ2g3AAAAAXRSTlMAQObYZgAAAT5JREFU\n",
       "KM9jYGDgu8dAGLCtUgBRPLsYiAFszSCS8wOIfPK/i0H9hzO6Eibv/04MDBa/JzAwXAfxuRrAwv4G\n",
       "DMwOWAz8DiQYDYDECiTF+QUMukiKDsAY+4FuXcqAppj9E9MFJMU1MMb8BQx8BuiKmf8eQbY+BMY4\n",
       "38AQyYCumKHfB1kx1wQog/Er2wKEYt4CiOh6qDTvbjD4C1XM/OUshPEeRGQEQDj+G1CCgbkUyuiH\n",
       "hhE70EspbVADVb6iBtrxVggtDwsY8QcMDBEJYOY1to+oAVwFVdQOFeAGOZ0F7GauAHCIIty8EaqW\n",
       "6RcDkpu5wG6dCuQhhzM8NvlgrkMEHS/QDv4PSIrVYQyWD+iKA/u3MrDW/0YKaSEozev/ZQIDZqSg\n",
       "ggQMETyKGbAr5iNSMTg98+wkLqdA4ohvMbF5EAC68lmP4IlRJwAAAABJRU5ErkJggg==\n",
       "\" style=\"display:inline;vertical-align:middle;\" /></a> <a class=\"ProveItLink\" href=\"proof.ipynb\" style=\"text-decoration: none\">&#x22A2;&nbsp;</a><a class=\"ProveItLink\" href=\"../814de01093c32d153fe0a3fa68716272cfff253d0/expr.ipynb\"><img src=\"data:image/png;base64,iVBORw0KGgoAAAANSUhEUgAAAEMAAAAPBAMAAABNfm9XAAAAMFBMVEX///9ERES6uroiIiKIiIju\n",
       "7u5mZmbMzMyqqqoyMjLc3Nx2dnYQEBBUVFSYmJgAAADDc6PYAAAAAXRSTlMAQObYZgAAANpJREFU\n",
       "KM9jYGB4+/80w8o/NxjQANfl/7cYGHo+O4A49xsYOC4wYAD2n0CCsQHMrp/AsAxJKgDGsF/AwLAJ\n",
       "wuT8xZWApGQqjOG/gYEPYggDx7dYZAt0YYz4AwwqMPb5q8hKuB2gDMZP7BtggvuhgmzGYPANKszx\n",
       "Nwyu774Bilc4JsFMh/uTbe0nVO9GHoLQ8nDPpbN/RA2Q2VCpk3DnKYBDAOEWQ6gKrt8wJU4MDO+R\n",
       "wwUe0nww+9mAHuP/gKRkJYzBCxVVPG/EwDT/M1LISMH03v/rwIAdFKDxAbfxOcdbbZgaAAAAAElF\n",
       "TkSuQmCC\n",
       "\" style=\"display:inline;vertical-align:middle;\" /></a></span></td></tr>\n",
       "</table>"
      ],
      "text/plain": [
       "<proveit._core_.proof._ShowProof at 0x7f94eaeedba8>"
      ]
     },
     "execution_count": 1,
     "metadata": {},
     "output_type": "execute_result"
    }
   ],
   "source": [
    "import proveit\n",
    "%show_proof"
   ]
  },
  {
   "cell_type": "code",
   "execution_count": null,
   "metadata": {},
   "outputs": [],
   "source": []
  }
 ],
 "metadata": {
  "kernelspec": {
   "display_name": "Python 3",
   "language": "python",
   "name": "python3"
  }
 },
 "nbformat": 4,
 "nbformat_minor": 0
}
