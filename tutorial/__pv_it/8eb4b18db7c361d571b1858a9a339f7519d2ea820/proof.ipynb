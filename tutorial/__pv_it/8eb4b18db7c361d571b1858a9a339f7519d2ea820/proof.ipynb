{
 "cells": [
  {
   "cell_type": "markdown",
   "metadata": {},
   "source": [
    "Show the Proof\n",
    "========"
   ]
  },
  {
   "cell_type": "code",
   "execution_count": 1,
   "metadata": {},
   "outputs": [
    {
     "data": {
      "text/html": [
       "<table><tr><th>&nbsp;</th><th>step type</th><th>requirements</th><th>statement</th></tr>\n",
       "<tr><td>0</td><td>modus ponens</td><td>1, 2</td><td><span style=\"font-size:20px;\"><a class=\"ProveItLink\" href=\"../c991a907103ee5fcd2aa9685f14b250565fa90410/expr.ipynb\"><img src=\"data:image/png;base64,iVBORw0KGgoAAAANSUhEUgAAAGoAAAAVBAMAAABce2awAAAAMFBMVEX///9ERETc3NyqqqpUVFS6\n",
       "urrMzMwyMjIQEBCIiIh2dnYiIiLu7u5mZmaYmJgAAABJJ2g3AAAAAXRSTlMAQObYZgAAAbRJREFU\n",
       "OMtjYGDgu8dACshaBCJ5djGQBjIMgATnBxBzyn8Xly0KYFFO/y8u3k5YlDOtXeUJpHgLgARXA1jo\n",
       "OwMDYxNElh8oLKGAqWt5AgPLHqgGiC62XwwMzL8gsvkLGBjsF8DU8sAYxwWARAuKLs6vwGD5C5Ge\n",
       "H8DA8P4CTDH7ASijGkTcP4CsixHoO5bPEGl5IPY3gOlidYDQvN9A5PoAZF0gv5wXYIB5kecjwjsr\n",
       "IZQ+WHa9AUQDOEhAfmHbC5EGeTEb7MDbu0FgP8Sx9x+A3ZHAwAcK9IwAsF+8Vt2CBhvnl1VrFyGH\n",
       "nTlYxX6w/34AcS0DQ0obxC8H4IoY/6CFOE9FAFQ9JJgZ6xgYIhJA3N8IRfwb0HSlr4GrYO8BEqDE\n",
       "xALyF9tfhKJ8eKBD/LVbBsypBxH2QCvA/uLaAI0uIDgAiy5kYAKh7AM0p7G1MiDHMsQvPL/RvAhO\n",
       "fQUQmmvPAi5DBWRdZ+W/TADp6ldg4Ln43xNFFyMsRYZUzTZgSEBJUdB0gCXNsiEZkMCHTRcf/pzF\n",
       "eCEcpoGPeF0s/7/CEhPPToTwBPy62DoewBMT32KSyw0AFUN6gVp7F/8AAAAASUVORK5CYII=\n",
       "\" style=\"display:inline;vertical-align:middle;\" /></a> <a class=\"ProveItLink\" href=\"proof.ipynb\" style=\"text-decoration: none\">&#x22A2;&nbsp;</a><a class=\"ProveItLink\" href=\"../../../packages/proveit/__pv_it/98124f92e6e1fc3772af50ac63eaa1f5624776f20/expr.ipynb\"><img src=\"data:image/png;base64,iVBORw0KGgoAAAANSUhEUgAAAA8AAAASBAMAAAB2sJk8AAAAMFBMVEX///+YmJiqqqq6uroQEBBE\n",
       "RETu7u4iIiLMzMwyMjKIiIhUVFRmZmZ2dnbc3NwAAADS0us6AAAAAXRSTlMAQObYZgAAAHxJREFU\n",
       "CNdjYGDgu3N3FwMI3Gxg4C4D0pkBQMIbiKeDRM8nMPD8ADHuGzC8DwAzFBjOC4AY8Q0M9Qkgxhcw\n",
       "YmBg+svA8B3E4HRjYJgPYug3ALHBqxUczkAOb9kFXtUHIGHrucsVGBrAtrI2MEIZByzBNAP3/88Q\n",
       "BocL0BoActoerD1tNT4AAAAASUVORK5CYII=\n",
       "\" style=\"display:inline;vertical-align:middle;\" /></a></span></td></tr>\n",
       "<tr><td>1</td><td>assumption</td><td></td><td><span style=\"font-size:20px;\"><a class=\"ProveItLink\" href=\"../27708d71307d73ca380f711ba9eb95ffe3b2115c0/expr.ipynb\"><img src=\"data:image/png;base64,iVBORw0KGgoAAAANSUhEUgAAAFMAAAAVBAMAAADInc9CAAAAMFBMVEX///9ERETc3NyqqqpUVFS6\n",
       "urrMzMwyMjIQEBCIiIh2dnYiIiLu7u5mZmaYmJgAAABJJ2g3AAAAAXRSTlMAQObYZgAAAV5JREFU\n",
       "KM9jYGDgu8dACLCtUgBRPLsYCAO2ZhDJ+QFE+H9x8XbCpkjr1pIJQOo6iM3VACL5CxgYJBQwVXKV\n",
       "MTB4H2BgWIFQmr+AgcF+AUwBD5xRCCQ4HFCUzg9gYHh/AaaC/QCMsQFI8P5BUSoPxP4GMKWsDlDG\n",
       "/QSQiq8oSr8DLfuIcOJKCMUEFuL6DFXKWwAKjF8MDNlg+2/vBoH9ELfw/gORjN+AjgMxMgJAgfVl\n",
       "1dpFyD43B4kycP8Bhw7QXnag3pQ2sMY/aIHEUxEAVQQNGfEHDAwRIJfzb0BTmr6GAS5cAQwPbpBy\n",
       "FpBb8+HhBHHrbhlIWIFikhnoVIhbuTZAgxUZmEAo5q9MMxPAnkEElvwBFJVMBVDG6lMMi4UYkJTy\n",
       "XPzviaKUEZYaWN1XbmZgQzEVPc0hscUYnuFTigxkWQtgSvkIKPX/HwBLrzw78SvN6AO5qBXM5ltM\n",
       "XN4CACBwYWeksR12AAAAAElFTkSuQmCC\n",
       "\" style=\"display:inline;vertical-align:middle;\" /></a> <a class=\"ProveItLink\" href=\"../c830a869a1d91148b1558768ed5c64ed30fd0fff0/proof.ipynb\" style=\"text-decoration: none\">&#x22A2;&nbsp;</a><a class=\"ProveItLink\" href=\"../../../packages/proveit/__pv_it/c734f12458133de36dd9d87a6484f66f8cf629140/expr.ipynb\"><img src=\"data:image/png;base64,iVBORw0KGgoAAAANSUhEUgAAAEEAAAASBAMAAAD2w64vAAAAMFBMVEX////u7u5mZmaYmJi6urqq\n",
       "qqp2dnbMzMwQEBBEREQyMjLc3NwiIiJUVFSIiIgAAAAeC3ydAAAAAXRSTlMAQObYZgAAAP5JREFU\n",
       "KM9jYGB4+//u3bMbGDABd1LaPQjrFwMDZzcWFVkFDLwHQQz2bwwMrN/g4gIwhtQEINELYvF9YWBg\n",
       "/gRXsRDGWAMi9EEaOD8wMPB+havwhdJM30FkvgOQ4F/AwCA/Aa6C7QGE3g8Wyg8AEvUJDOyHwLrO\n",
       "gAHUQn0DEDm/AEi8v5amhuxZ1iVg6jzYyT/AygTQfCnVApeD+PEPmgL2ZQJwYa5GkADco1B3nISY\n",
       "uR5ExBdAgwMZsF6A0PEO+56zg+3j/IiqYhfM1wcT2CJBPhCa//cBiorZ8KBb9iaAoQBLfCGJcRYw\n",
       "Y1OBBDgVvPArYOD9/4WACvYOYMgDAPldSOLUB00KAAAAAElFTkSuQmCC\n",
       "\" style=\"display:inline;vertical-align:middle;\" /></a></span></td></tr>\n",
       "<tr><td>2</td><td>assumption</td><td></td><td><span style=\"font-size:20px;\"><a class=\"ProveItLink\" href=\"../3b150b32aa1d2735d31e6130c9575c3cd6afb4720/expr.ipynb\"><img src=\"data:image/png;base64,iVBORw0KGgoAAAANSUhEUgAAACMAAAAVBAMAAAA+1EraAAAAMFBMVEX///9ERETc3NyqqqpUVFS6\n",
       "urrMzMwyMjIQEBCIiIh2dnYiIiLu7u5mZmaYmJgAAABJJ2g3AAAAAXRSTlMAQObYZgAAALtJREFU\n",
       "GNNjYGDgu8cAA2yrFEAUzy4GBGBrBpGcH0DklP8uLluASq6DOFwNYPnvDAyMTQwMKxBCbL8YGJh/\n",
       "oQhxfgXa8xdFiBFoIstnFCH+AgaG8wJQId4CEJm/gIFtL5B+D+JkBIDI+V6rboGcyX6BgSGlDewG\n",
       "+QNQx4o/YGCISACxfkNFuBcACRaQWWx/oUJgs7g2QJ0FBghHMP5BFzor/2UCuio4wCXEhyIEDi+e\n",
       "ncih2gqm+Bajhj0A3Sw0NKouzW0AAAAASUVORK5CYII=\n",
       "\" style=\"display:inline;vertical-align:middle;\" /></a> <a class=\"ProveItLink\" href=\"../affcafcc9fa978c1a598648e204812ca9f5f144e0/proof.ipynb\" style=\"text-decoration: none\">&#x22A2;&nbsp;</a><a class=\"ProveItLink\" href=\"../../../packages/proveit/__pv_it/6369c6c8083c513ca7161ace249642d040f9327d0/expr.ipynb\"><img src=\"data:image/png;base64,iVBORw0KGgoAAAANSUhEUgAAABAAAAAOBAMAAADUAYG5AAAAMFBMVEX////u7u5mZmaYmJi6urqq\n",
       "qqp2dnbMzMwQEBBEREQyMjLc3NwiIiJUVFSIiIgAAAAeC3ydAAAAAXRSTlMAQObYZgAAAGBJREFU\n",
       "CNdjYGB4+//u3bMbGIDgFwMDZzeQZv/GwMAKxAx8XxgYmD8BGZwfGBh4vwIZ/AsYGOQnABn1CQzs\n",
       "h0Ca3l9LUwPrni/AAAF/oDT7JygDZAwYcH6E0ELz/z4A0QBnpRnRyxnfJQAAAABJRU5ErkJggg==\n",
       "\" style=\"display:inline;vertical-align:middle;\" /></a></span></td></tr>\n",
       "</table>"
      ],
      "text/plain": [
       "<proveit._core_.proof._ShowProof at 0x7f94e9cf3198>"
      ]
     },
     "execution_count": 1,
     "metadata": {},
     "output_type": "execute_result"
    }
   ],
   "source": [
    "import proveit\n",
    "%show_proof"
   ]
  },
  {
   "cell_type": "code",
   "execution_count": null,
   "metadata": {},
   "outputs": [],
   "source": []
  }
 ],
 "metadata": {
  "kernelspec": {
   "display_name": "Python 3",
   "language": "python",
   "name": "python3"
  }
 },
 "nbformat": 4,
 "nbformat_minor": 0
}
