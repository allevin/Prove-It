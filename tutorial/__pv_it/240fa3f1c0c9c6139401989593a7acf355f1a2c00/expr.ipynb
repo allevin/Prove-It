{
 "cells": [
  {
   "cell_type": "markdown",
   "metadata": {},
   "source": [
    "Expression of type <a class=\"ProveItLink\" href=\"../../../doc/html/api/proveit.logic.Set.html\">Set</a>\n",
    "=======================\n",
    "# from context <a class=\"ProveItLink\" href=\"../../_context_.ipynb\">tutorial</a>"
   ]
  },
  {
   "cell_type": "code",
   "execution_count": 1,
   "metadata": {},
   "outputs": [],
   "source": [
    "# import Expression classes needed to build the expression\n",
    "from proveit._common_ import P, Q, R, S\n",
    "from proveit.logic import Implies, Set"
   ]
  },
  {
   "cell_type": "code",
   "execution_count": 2,
   "metadata": {},
   "outputs": [
    {
     "data": {
      "text/html": [
       "<strong id=\"expr\">expr:</strong> <a class=\"ProveItLink\" href=\"../43e01bf63247d8f118093c454562336528f46f0f0/expr.ipynb\"><img src=\"data:image/png;base64,iVBORw0KGgoAAAANSUhEUgAAAP0AAAAVBAMAAAB/DPUgAAAAMFBMVEX///9ERETc3NyqqqpUVFS6\n",
       "urrMzMwyMjIQEBCIiIh2dnYiIiLu7u5mZmaYmJgAAABJJ2g3AAAAAXRSTlMAQObYZgAAAwtJREFU\n",
       "SMfFVj1oU1EUPvl7Nel7L8XBOijNJjjoIjg49BUC0jq0g4NjBsFu0UFpRVAUFUFsBBEySAp1sNWh\n",
       "okstYpwUQdRJqT/NUF3b2jSSNDae+3Puu+8nzSLkDLf3uznn+8675557CwD2D+iKGXMZ9sd8AV0y\n",
       "4xobk2tsvNfKZp9nQpwOLj0shAPXMHhoUs6To9Vsf5gTrHz/9lP5c7HPDKSu8LU/AJGrwaDUBYAT\n",
       "5TCg2zrA27Nynu4D82aIT08FXq/JuRR75OobDYBYg3xNNTmHwy4nBKCpTIw6QHxTgjx+/OhYgAlG\n",
       "UEDmSGKafhLD7b8qV6LumcfBaoYAtEs0Sdbwx5oEpRzA5VyAKYq/G7IuJKbpR3Br4hsUlaCPXGZE\n",
       "qc0QgHaSJhGkyFPIXtSpQoApgeSGTIvENP00bs2HPhU2K5Ne5x4bQcCndMzSDsQWaBW1j2nnb5a+\n",
       "v3VfrZEY17d4UfLTYLxkk6+LzF595I7WNk+35gcWd1qkeuWHH9xSZ6Fa/CLkPUxYl9Y69ReJrTIw\n",
       "zs9KaWRuSW+/o3y1lxc7LTrEA7jFzkvqMgxSxZNNiNUgwIQbsDJ1m1KRYj2Y2+kbfGnA11bmxJgS\n",
       "G5wG8ANhb65TydOOdhaqQSZer205UWL9FYBTPPMtX7eeecIl2YmHCeHuAWKvL5ap5Icd9yxEq0Em\n",
       "QCWT9Emsl31LnNXfUK0nqra4T3QPuzBoOzUg6/9UyBvIu0rbkq+A3QgymbjV0d8ybRLj9U/Ny47U\n",
       "7Ygs8Ga0mGMHpKwDVX7Hbf/lginuI2x/q+5eTYoJv9JyxLoSc/sv0vTIR+kyffwOZnZj9lsaUHYA\n",
       "3HYuFQ4JpwHkr0crfiYL+/Ou5FFiSv/9QNXzZESoFRLHZ5+BAeZUxgXKZC482JosMCfzU2sY35Vi\n",
       "gCmeyA5VBI8rpt0/vpdRm++BXyid0QBZzheVyOzMFHBpq6/b/gRuoa2DdmZ3fvK9Llzf7qA/2hpz\n",
       "4zj4b/r8/TcXdg4Zv4NDQQftrNBZ3+NiiNvLnuni/3//AOYVEyjA3W8IAAAAAElFTkSuQmCC\n",
       "\" style=\"display:inline;vertical-align:middle;\" /></a><br>"
      ],
      "text/plain": [
       "expr: {P => Q , Q => R , R => S , P}"
      ]
     },
     "execution_count": 2,
     "metadata": {},
     "output_type": "execute_result"
    }
   ],
   "source": [
    "# build up the expression from sub-expressions\n",
    "expr = Set(Implies(P, Q), Implies(Q, R), Implies(R, S), P)"
   ]
  },
  {
   "cell_type": "code",
   "execution_count": 3,
   "metadata": {},
   "outputs": [
    {
     "name": "stdout",
     "output_type": "stream",
     "text": [
      "Passed sanity check: built 'expr' is the same as the stored Expression.\n"
     ]
    }
   ],
   "source": [
    "# check that the built expression is the same as the stored expression\n",
    "%check_expr"
   ]
  },
  {
   "cell_type": "code",
   "execution_count": 4,
   "metadata": {},
   "outputs": [
    {
     "data": {
      "text/html": [
       "<table><tr><th>&nbsp;</th><th>core type</th><th>sub-expressions</th><th>expression</th></tr>\n",
       "<tr><td>0</td><td>Operation</td><td>operator:&nbsp;1<br>operands:&nbsp;2<br></td><td><a class=\"ProveItLink\" href=\"../43e01bf63247d8f118093c454562336528f46f0f0/expr.ipynb\"><img src=\"data:image/png;base64,iVBORw0KGgoAAAANSUhEUgAAAP0AAAAVBAMAAAB/DPUgAAAAMFBMVEX///9ERETc3NyqqqpUVFS6\n",
       "urrMzMwyMjIQEBCIiIh2dnYiIiLu7u5mZmaYmJgAAABJJ2g3AAAAAXRSTlMAQObYZgAAAwtJREFU\n",
       "SMfFVj1oU1EUPvl7Nel7L8XBOijNJjjoIjg49BUC0jq0g4NjBsFu0UFpRVAUFUFsBBEySAp1sNWh\n",
       "okstYpwUQdRJqT/NUF3b2jSSNDae+3Puu+8nzSLkDLf3uznn+8675557CwD2D+iKGXMZ9sd8AV0y\n",
       "4xobk2tsvNfKZp9nQpwOLj0shAPXMHhoUs6To9Vsf5gTrHz/9lP5c7HPDKSu8LU/AJGrwaDUBYAT\n",
       "5TCg2zrA27Nynu4D82aIT08FXq/JuRR75OobDYBYg3xNNTmHwy4nBKCpTIw6QHxTgjx+/OhYgAlG\n",
       "UEDmSGKafhLD7b8qV6LumcfBaoYAtEs0Sdbwx5oEpRzA5VyAKYq/G7IuJKbpR3Br4hsUlaCPXGZE\n",
       "qc0QgHaSJhGkyFPIXtSpQoApgeSGTIvENP00bs2HPhU2K5Ne5x4bQcCndMzSDsQWaBW1j2nnb5a+\n",
       "v3VfrZEY17d4UfLTYLxkk6+LzF595I7WNk+35gcWd1qkeuWHH9xSZ6Fa/CLkPUxYl9Y69ReJrTIw\n",
       "zs9KaWRuSW+/o3y1lxc7LTrEA7jFzkvqMgxSxZNNiNUgwIQbsDJ1m1KRYj2Y2+kbfGnA11bmxJgS\n",
       "G5wG8ANhb65TydOOdhaqQSZer205UWL9FYBTPPMtX7eeecIl2YmHCeHuAWKvL5ap5Icd9yxEq0Em\n",
       "QCWT9Emsl31LnNXfUK0nqra4T3QPuzBoOzUg6/9UyBvIu0rbkq+A3QgymbjV0d8ybRLj9U/Ny47U\n",
       "7Ygs8Ga0mGMHpKwDVX7Hbf/lginuI2x/q+5eTYoJv9JyxLoSc/sv0vTIR+kyffwOZnZj9lsaUHYA\n",
       "3HYuFQ4JpwHkr0crfiYL+/Ou5FFiSv/9QNXzZESoFRLHZ5+BAeZUxgXKZC482JosMCfzU2sY35Vi\n",
       "gCmeyA5VBI8rpt0/vpdRm++BXyid0QBZzheVyOzMFHBpq6/b/gRuoa2DdmZ3fvK9Llzf7qA/2hpz\n",
       "4zj4b/r8/TcXdg4Zv4NDQQftrNBZ3+NiiNvLnuni/3//AOYVEyjA3W8IAAAAAElFTkSuQmCC\n",
       "\" style=\"display:inline;vertical-align:middle;\" /></a></td></tr>\n",
       "<tr><td>1</td><td>Literal</td><td></td><td><a class=\"ProveItLink\" href=\"../../../packages/proveit/logic/set_theory/enumeration/__pv_it/07381ed5b23806e8d7914b78cb6667769e3708dd0/expr.ipynb\"><img src=\"data:image/png;base64,iVBORw0KGgoAAAANSUhEUgAAAB4AAAAOBAMAAADKyLEKAAAAMFBMVEX///8iIiIQEBCIiIjMzMzc\n",
       "3Nyqqqp2dnZEREQyMjK6urru7u5mZmZUVFSYmJgAAACI6eGPAAAAAXRSTlMAQObYZgAAALRJREFU\n",
       "CNdjYGDgu3Nm3wIGBJjHwN0PZW5yYGDgLWBgyITy8zcwMMQDxZyh/INAvD6BgcEFypcB4vjPDiBm\n",
       "TPFRrhs/LjMwMP//38rAwCbKEMPA9gEkE3fp0waG+AUMRxh4JkC01T9guPTOOICBEWgVH5C//wHD\n",
       "H5D4fqCz9oCMDGD4DLaegRXslLMMDMpAgxlOMmQxHDRgYG5gYLBk4D7KcIe7gOHC2rt9QCXsh40Z\n",
       "GCKMGQDRkC8N/Ph1XAAAAABJRU5ErkJggg==\n",
       "\" style=\"display:inline;vertical-align:middle;\" /></a></td></tr>\n",
       "<tr><td>2</td><td>ExprTuple</td><td>3, 4, 5, 10</td><td><a class=\"ProveItLink\" href=\"../96435c5154878fda684f60573a0b8a27bfc3a88f0/expr.ipynb\"><img src=\"data:image/png;base64,iVBORw0KGgoAAAANSUhEUgAAAPcAAAAVBAMAAABoLmXpAAAAMFBMVEX////c3NwiIiJERESqqqqY\n",
       "mJh2dnZmZmYQEBDu7u4yMjJUVFTMzMyIiIi6uroAAAAs73DqAAAAAXRSTlMAQObYZgAAAw1JREFU\n",
       "SMfFVj1MU1EUPs1rKaXvURcWjSnBicFQBhN0odENh3Zy1LpANCE2mKjRoQwOqJF0MRAWGhOJDEjV\n",
       "QRNCeHH0JzQuDkIojjKIEhF8lHruz7m9j/uAxYST9L7zvXvu+e49P/cV4EiltXI0vJfZ8AF/zoI3\n",
       "9+plgEVooH8+GDSELT5HJ/han3s9E8QVeXP7SVXZI1nURX2avUiUAHqOmUuuuxDvDASaJFIQe0hg\n",
       "A2C8FGD0DGK9ZC/IcHT4nhdzAJkcGRZJmUjh8CgIAMSUtoguFsSpwK4BxHfB8BRH531kL8guATTz\n",
       "+RVceyVPltOkPGVDoRgAAFqUtoIBnHVlDnZwZgcMT0mc/0T2gmwc4DvHLCILabJck88o93KjagJW\n",
       "qGXSevDAntStYTyZmlGe4Ac6/yh1SWal4RbHfzGMG2pJkyyfZIrzpU3AZJAUJD5PBZcoQ/g0GJ4g\n",
       "WXPVS0nWlMdCYJnaBHjHoh7t4PJHWBWyfKPuXjDEjbpkmmxv+Y5q18X5L49FoHyewKnXu6VKZOES\n",
       "jPIpr3/gqlaa4Rf80cXTugUm4NInW2cbwirLK0XIuKYngLa3W7JIiKx1GHhlWtt7GmNiVDGFN8Ur\n",
       "HxD1/rxKafa0/CfKpieesawsC0lmrwvyRLuf257iu/zFq/qBeOcDXN5fozSHPC3/ybLpKYK/SUlO\n",
       "ZEh+n2eKukxm6pSI0CwbKIoaEDnvOCvTnIUIBcT+jV2UMz2NsZqTlxiRYdjPUOfpiZJ7z1RPLtmj\n",
       "8j4hoORio82jNSjGqM0LlZjhid0v9+S9RGSREgzwGi76yI9To3Tmmi7gfifbNaBu+lKjbZ1aKMuN\n",
       "rHV0XmkzPA1VwEkJP4oMW+0bHuxm3f/B6FZ3xNTnNLgw/lMDJJbYiFh8d5kbjfV6FYjOVAxP5bU5\n",
       "DDEzaZC1VKE54HOi9YrlRhCt6oDSu3fVKhzoyTDB6zWSO/Cra+XZ/ZvVwX6SPfwb7jMZ1O/+QInX\n",
       "dxuLBPhP5DFWMycONLdHcIGjg/3EOZzbZxJn+Q4d0d+oJYB/vIUI3so8UgAAAAAASUVORK5CYII=\n",
       "\" style=\"display:inline;vertical-align:middle;\" /></a></td></tr>\n",
       "<tr><td>3</td><td>Operation</td><td>operator:&nbsp;8<br>operands:&nbsp;6<br></td><td><a class=\"ProveItLink\" href=\"../../../packages/proveit/__pv_it/c734f12458133de36dd9d87a6484f66f8cf629140/expr.ipynb\"><img src=\"data:image/png;base64,iVBORw0KGgoAAAANSUhEUgAAAEEAAAASBAMAAAD2w64vAAAAMFBMVEX////u7u5mZmaYmJi6urqq\n",
       "qqp2dnbMzMwQEBBEREQyMjLc3NwiIiJUVFSIiIgAAAAeC3ydAAAAAXRSTlMAQObYZgAAAP5JREFU\n",
       "KM9jYGB4+//u3bMbGDABd1LaPQjrFwMDZzcWFVkFDLwHQQz2bwwMrN/g4gIwhtQEINELYvF9YWBg\n",
       "/gRXsRDGWAMi9EEaOD8wMPB+havwhdJM30FkvgOQ4F/AwCA/Aa6C7QGE3g8Wyg8AEvUJDOyHwLrO\n",
       "gAHUQn0DEDm/AEi8v5amhuxZ1iVg6jzYyT/AygTQfCnVApeD+PEPmgL2ZQJwYa5GkADco1B3nISY\n",
       "uR5ExBdAgwMZsF6A0PEO+56zg+3j/IiqYhfM1wcT2CJBPhCa//cBiorZ8KBb9iaAoQBLfCGJcRYw\n",
       "Y1OBBDgVvPArYOD9/4WACvYOYMgDAPldSOLUB00KAAAAAElFTkSuQmCC\n",
       "\" style=\"display:inline;vertical-align:middle;\" /></a></td></tr>\n",
       "<tr><td>4</td><td>Operation</td><td>operator:&nbsp;8<br>operands:&nbsp;7<br></td><td><a class=\"ProveItLink\" href=\"../../../packages/proveit/__pv_it/f0c48b9fa3b0c399d122f16c930ed49b4af83dff0/expr.ipynb\"><img src=\"data:image/png;base64,iVBORw0KGgoAAAANSUhEUgAAAEAAAAASBAMAAAAZAcURAAAAMFBMVEX///+YmJiqqqq6uroQEBBE\n",
       "RETu7u4iIiLMzMwyMjKIiIhUVFRmZmZ2dnbc3NwAAADS0us6AAAAAXRSTlMAQObYZgAAARNJREFU\n",
       "KM9jYGDgu3N3FwMWsPr/7q2zQIybDQzcZdhUfGVgSJnAwJAZAGR7I4QTYAyOXwwM3J8ZGKaDOOfh\n",
       "wgzTYAyuHwwMnD8YeH6AOPcN4AqsYQxWBwaG/g0M7wPAChTgCngXQBn8GxiYqoCGC4A48Q1Agqcc\n",
       "DP5AFfTvWuMFpOrBtn9BcjzTZAi9PoFBvwEqxfQX2XuZzmAqBGwLw3cQm9MNSZ5jLsRLvxkY3gMV\n",
       "zAexQUbB3VAKkef4yMAgfwEoZ/BqBYczshM2IILh/AI2Bt6yC7yqD5AUvIQFwwegOxc8BAbM3OUK\n",
       "DA0IBXEQKif+9wIGnlngQGFtYERS0IAZa6wHLBnwAu7/n/Er4HARwC0JAPZeS/+HiRyVAAAAAElF\n",
       "TkSuQmCC\n",
       "\" style=\"display:inline;vertical-align:middle;\" /></a></td></tr>\n",
       "<tr><td>5</td><td>Operation</td><td>operator:&nbsp;8<br>operands:&nbsp;9<br></td><td><a class=\"ProveItLink\" href=\"../../../packages/proveit/__pv_it/cbe9eae356f4941b2c5a28fe4f238444ffeb54740/expr.ipynb\"><img src=\"data:image/png;base64,iVBORw0KGgoAAAANSUhEUgAAAD4AAAAPBAMAAABOyWF/AAAAMFBMVEX///92dnaYmJjc3NxmZmYi\n",
       "IiKqqqq6urrMzMwQEBDu7u4yMjJERERUVFSIiIgAAAArjcN0AAAAAXRSTlMAQObYZgAAAPFJREFU\n",
       "GNNjYGB4+//unX0MWICui5c6iP7DwLByA6Y0twLDmg9AmuMfAwPvd5goF1z+IgMDG0gb3w+g2h9w\n",
       "XQugDGagEMcDIINnAgND/wWYPDuMxf4NKN8AZPBfYGCLQ1grB9P//wWE0X/vyTwwwzUUBOIdoAre\n",
       "//9jAKYXMOQ3ILk7uwBqgO78WSD6JNgKBODaCVXAwPgJRP5lYLBHlu+WAlMKQJUgeQ4goS+AsD/0\n",
       "FMQUoDOYP0O97/8AESy5EAoUNCwgY3mAYfj+gRFMmhka0ixAL78B0kvO/33AwLLvAUyexwBC87Lf\n",
       "vaOAJdI4ULkAzXFEBsI7SAUAAAAASUVORK5CYII=\n",
       "\" style=\"display:inline;vertical-align:middle;\" /></a></td></tr>\n",
       "<tr><td>6</td><td>ExprTuple</td><td>10, 11</td><td><a class=\"ProveItLink\" href=\"../../../packages/proveit/__pv_it/7cb4925f967f8b36b32bef5d2997b4a1340f723e0/expr.ipynb\"><img src=\"data:image/png;base64,iVBORw0KGgoAAAANSUhEUgAAADMAAAAVBAMAAAAZessyAAAAMFBMVEX////c3NwiIiJERESqqqqY\n",
       "mJh2dnZmZmYQEBDu7u4yMjJUVFTMzMyIiIi6uroAAAAs73DqAAAAAXRSTlMAQObYZgAAAUZJREFU\n",
       "KM99Ur9Lw1AYvJImbZpUu4s4SnHQxbkB/4A6OUqmFgRpp65VcFAEzaa4GAQFJzeXImR3UFwtGBx1\n",
       "KSJt/UHrd++10aH4IJfLu3Dv++57wD9r6n7S7jrhVp7HYau1UNCbqWrlBshEQi/5/QkY21raiOAU\n",
       "gRDI08/tAumuUk6WBPaBNSAbCM0PALOnpDNCM8Ax8EJqdADnnSzzTazFMDw0SKfF+ZROmFNY82DV\n",
       "cU5658OdV37NVWIpQjrEAenTdaWha1/k0ehLu1sYqL+Ccat9Aot1O1p6S1JQLLenpB221UukK0I5\n",
       "UobLo7Zk0bUcz7Zdnm+GqLKtDyo2zayib62wIin+GTgqfTEt+5BbrxcPHsQwFyNb+B2PpkZkiiRB\n",
       "mX4imfpl1Bne5ngofyVnKFXZEh1mEmk0bndXwnJonpp4AdrAD2bmUgaDRD48AAAAAElFTkSuQmCC\n",
       "\" style=\"display:inline;vertical-align:middle;\" /></a></td></tr>\n",
       "<tr><td>7</td><td>ExprTuple</td><td>11, 12</td><td><a class=\"ProveItLink\" href=\"../../../packages/proveit/__pv_it/a96317baabe930777f2ea3e734d48d8bf57f4bb00/expr.ipynb\"><img src=\"data:image/png;base64,iVBORw0KGgoAAAANSUhEUgAAADUAAAAVBAMAAAAUZLt1AAAAMFBMVEX////c3NwiIiJERESqqqqY\n",
       "mJh2dnZmZmYQEBDu7u4yMjJUVFTMzMyIiIi6uroAAAAs73DqAAAAAXRSTlMAQObYZgAAAVRJREFU\n",
       "KM99kr1LQlEYxn/m59Xrx1JLQw2tDQ1RQ1D/gVtTlETQEEKTqw41Vk7leCGCggSprYgchQbv1lCh\n",
       "NDZJ1hCa9p7juWEgXbjvOe/zvDzv14H/voQ7El5X5kGZidzOb8hT//a6TLgq1wv5Q5dwVfTINpQc\n",
       "HIhLvHUqSKRiKPsbYj1WBZLw6LRA4S/DxbuCdCnBm3h5pR3qGc5fgHoF/wo58LUVFPowXLJCYFb8\n",
       "Xc5E7VOHdw1Xv3s8kCPgcAhjOlOyYLhGkbQkSRToeWg6Y7hFLYvd0pwqk3Ovvw5MDbg9Kbil5L10\n",
       "tmTfyGjNeYF7vpdqrQlFr728axF02BZ385itORnPu65XVBruuOrhVa3iJjuDjXWUgpPljku47BJt\n",
       "EknpLEusSUxqaEkys+Cg9IWEzD04vMCs2RHc95t/OUtimdTX2r6Y4RcQU/q+0W/iGX4ABFJbA74O\n",
       "PJUAAAAASUVORK5CYII=\n",
       "\" style=\"display:inline;vertical-align:middle;\" /></a></td></tr>\n",
       "<tr><td>8</td><td>Literal</td><td></td><td><a class=\"ProveItLink\" href=\"../../../packages/proveit/logic/boolean/implication/__pv_it/e5c030cabcb650938f92dee8256fe11cd12bf9b30/expr.ipynb\"><img src=\"data:image/png;base64,iVBORw0KGgoAAAANSUhEUgAAABMAAAANBAMAAAC5okgUAAAALVBMVEX////c3NxERETMzMwQEBCq\n",
       "qqoiIiJmZmaIiIh2dnZUVFS6uroyMjLu7u4AAACPpZJTAAAAAXRSTlMAQObYZgAAAD1JREFUCNdj\n",
       "YAABXgY44LkAZ3IvQAjPABFlaSCQV4AQjtkAZ/IegbNt5sLUpunC5aPgLMYDcCaTAJzJDCIA2yMN\n",
       "HCCUuIIAAAAASUVORK5CYII=\n",
       "\" style=\"display:inline;vertical-align:middle;\" /></a></td></tr>\n",
       "<tr><td>9</td><td>ExprTuple</td><td>12, 13</td><td><a class=\"ProveItLink\" href=\"../../../packages/proveit/__pv_it/77abacb6f81ec60da65f7cb7379ec5e8e97110780/expr.ipynb\"><img src=\"data:image/png;base64,iVBORw0KGgoAAAANSUhEUgAAADMAAAAVBAMAAAAZessyAAAAMFBMVEX////c3NwiIiJERESqqqqY\n",
       "mJh2dnZmZmYQEBDu7u4yMjJUVFTMzMyIiIi6uroAAAAs73DqAAAAAXRSTlMAQObYZgAAATxJREFU\n",
       "KM9jYMAD+C5gE40DEaeB+Pb/3ZvXwkRZt5dPfcB+AMhaCeJ+ZmCYsQAqtZSB056BAcjjBZnH85eB\n",
       "gfsfRIY7gYHBi4EhjIGBYwKQy/uHgYHrD0RKHmjUWaAhDAyvQFzmBgaG8xsgUu8dGBjOAIUcGMpA\n",
       "XP4NDCy6UKvk/4JcwMBWALQUCM7vvd4LcyDv//+GQIplAUMfiHt/AoP/AZic6I4fQPv5GhjA7rIA\n",
       "mwkH+QFAR3+ASP0GWgGVYgXi+RCpFpC3vjIwxCdApKaDXCIANtAU6q36C5wMIC8CfctQDdK9gCEd\n",
       "5K0PQJdcEOX8BGQXXWDgNYA4/hHQDPvfFxjY117g7AcatOH1bpBBDFwPGDgEkOIHiQ0MKNYEBJcV\n",
       "KcJyYZGCIcUJiiJpBB8pvrlBZjNiTQB3GBgAC+hRaX2RiXsAAAAASUVORK5CYII=\n",
       "\" style=\"display:inline;vertical-align:middle;\" /></a></td></tr>\n",
       "<tr><td>10</td><td>Variable</td><td></td><td><a class=\"ProveItLink\" href=\"../../../packages/proveit/__pv_it/6369c6c8083c513ca7161ace249642d040f9327d0/expr.ipynb\"><img src=\"data:image/png;base64,iVBORw0KGgoAAAANSUhEUgAAABAAAAAOBAMAAADUAYG5AAAAMFBMVEX////u7u5mZmaYmJi6urqq\n",
       "qqp2dnbMzMwQEBBEREQyMjLc3NwiIiJUVFSIiIgAAAAeC3ydAAAAAXRSTlMAQObYZgAAAGBJREFU\n",
       "CNdjYGB4+//u3bMbGIDgFwMDZzeQZv/GwMAKxAx8XxgYmD8BGZwfGBh4vwIZ/AsYGOQnABn1CQzs\n",
       "h0Ca3l9LUwPrni/AAAF/oDT7JygDZAwYcH6E0ELz/z4A0QBnpRnRyxnfJQAAAABJRU5ErkJggg==\n",
       "\" style=\"display:inline;vertical-align:middle;\" /></a></td></tr>\n",
       "<tr><td>11</td><td>Variable</td><td></td><td><a class=\"ProveItLink\" href=\"../../../packages/proveit/__pv_it/98124f92e6e1fc3772af50ac63eaa1f5624776f20/expr.ipynb\"><img src=\"data:image/png;base64,iVBORw0KGgoAAAANSUhEUgAAAA8AAAASBAMAAAB2sJk8AAAAMFBMVEX///+YmJiqqqq6uroQEBBE\n",
       "RETu7u4iIiLMzMwyMjKIiIhUVFRmZmZ2dnbc3NwAAADS0us6AAAAAXRSTlMAQObYZgAAAHxJREFU\n",
       "CNdjYGDgu3N3FwMI3Gxg4C4D0pkBQMIbiKeDRM8nMPD8ADHuGzC8DwAzFBjOC4AY8Q0M9Qkgxhcw\n",
       "YmBg+svA8B3E4HRjYJgPYug3ALHBqxUczkAOb9kFXtUHIGHrucsVGBrAtrI2MEIZByzBNAP3/88Q\n",
       "BocL0BoActoerD1tNT4AAAAASUVORK5CYII=\n",
       "\" style=\"display:inline;vertical-align:middle;\" /></a></td></tr>\n",
       "<tr><td>12</td><td>Variable</td><td></td><td><a class=\"ProveItLink\" href=\"../../../packages/proveit/__pv_it/e24df48bc297bbcf3538a62f5b4f635a392abfce0/expr.ipynb\"><img src=\"data:image/png;base64,iVBORw0KGgoAAAANSUhEUgAAABAAAAAOBAMAAADUAYG5AAAAMFBMVEX///92dnaYmJjc3NxmZmYi\n",
       "IiKqqqq6urrMzMwQEBDu7u4yMjJERERUVFSIiIgAAAArjcN0AAAAAXRSTlMAQObYZgAAAG1JREFU\n",
       "CNdjYGB4+//unX0MIPCHgWHlBiDN8Y+Bgfc7kMH3g4GBG4gZeCYwMPRfADL4LzCwxYHU9t97Mg+s\n",
       "6f0ChvwGEOMkWBYI/jIw2IMYHJ8YGPQFoMb4P+ACGvMBqP6BEcOS838fMLDsewAAOpQikqrQNfgA\n",
       "AAAASUVORK5CYII=\n",
       "\" style=\"display:inline;vertical-align:middle;\" /></a></td></tr>\n",
       "<tr><td>13</td><td>Variable</td><td></td><td><a class=\"ProveItLink\" href=\"../../../packages/proveit/__pv_it/abeee18594afe51bfb1be95d9591fbba24ac53f30/expr.ipynb\"><img src=\"data:image/png;base64,iVBORw0KGgoAAAANSUhEUgAAAA0AAAAOBAMAAAAGUYvhAAAAMFBMVEX///8iIiIQEBCIiIjMzMzc\n",
       "3Nyqqqp2dnZEREQyMjK6urru7u5mZmZUVFSYmJgAAACI6eGPAAAAAXRSTlMAQObYZgAAAF1JREFU\n",
       "CNdjYGDgu3Nm3wIGBoZ5DNz9QIq3gIEhE0jHOzAwOAPp9QkMDC4g/megABAw///fCmbEXfq0Acxg\n",
       "qH8ANAVI7wfSe0BKAyBGnAXigwYMzA1A+sLau31ACgAz0hhbkhGHbwAAAABJRU5ErkJggg==\n",
       "\" style=\"display:inline;vertical-align:middle;\" /></a></td></tr>\n",
       "</table>\n"
      ],
      "text/plain": [
       "0. {P => Q , Q => R , R => S , P}\n",
       "   core type: Operation\n",
       "   operator: 1\n",
       "   operands: 2\n",
       "1. Set\n",
       "   core type: Literal\n",
       "   sub-expressions: \n",
       "2. (P => Q , Q => R , R => S , P)\n",
       "   core type: ExprTuple\n",
       "   sub-expressions: 3, 4, 5, 10\n",
       "3. P => Q\n",
       "   core type: Operation\n",
       "   operator: 8\n",
       "   operands: 6\n",
       "4. Q => R\n",
       "   core type: Operation\n",
       "   operator: 8\n",
       "   operands: 7\n",
       "5. R => S\n",
       "   core type: Operation\n",
       "   operator: 8\n",
       "   operands: 9\n",
       "6. (P , Q)\n",
       "   core type: ExprTuple\n",
       "   sub-expressions: 10, 11\n",
       "7. (Q , R)\n",
       "   core type: ExprTuple\n",
       "   sub-expressions: 11, 12\n",
       "8. =>\n",
       "   core type: Literal\n",
       "   sub-expressions: \n",
       "9. (R , S)\n",
       "   core type: ExprTuple\n",
       "   sub-expressions: 12, 13\n",
       "10. P\n",
       "    core type: Variable\n",
       "    sub-expressions: \n",
       "11. Q\n",
       "    core type: Variable\n",
       "    sub-expressions: \n",
       "12. R\n",
       "    core type: Variable\n",
       "    sub-expressions: \n",
       "13. S\n",
       "    core type: Variable\n",
       "    sub-expressions: "
      ]
     },
     "execution_count": 4,
     "metadata": {},
     "output_type": "execute_result"
    }
   ],
   "source": [
    "# display the expression information\n",
    "expr.exprInfo()"
   ]
  },
  {
   "cell_type": "code",
   "execution_count": null,
   "metadata": {},
   "outputs": [],
   "source": []
  }
 ],
 "metadata": {
  "kernelspec": {
   "display_name": "Python 3",
   "language": "python",
   "name": "python3"
  }
 },
 "nbformat": 4,
 "nbformat_minor": 0
}
