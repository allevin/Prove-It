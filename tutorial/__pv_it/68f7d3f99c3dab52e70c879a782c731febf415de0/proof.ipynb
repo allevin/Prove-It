{
 "cells": [
  {
   "cell_type": "markdown",
   "metadata": {},
   "source": [
    "Show the Proof\n",
    "========"
   ]
  },
  {
   "cell_type": "code",
   "execution_count": 1,
   "metadata": {},
   "outputs": [
    {
     "data": {
      "text/html": [
       "<table><tr><th>&nbsp;</th><th>step type</th><th>requirements</th><th>statement</th></tr>\n",
       "<tr><td>0</td><td>modus ponens</td><td>1, 2</td><td><span style=\"font-size:20px;\"><a class=\"ProveItLink\" href=\"../a4a8bb05ede199894be1a770cd2b0d37dea5ce700/expr.ipynb\"><img src=\"data:image/png;base64,iVBORw0KGgoAAAANSUhEUgAAAMoAAAAVBAMAAAD1I2xhAAAAMFBMVEX///9ERETc3NyqqqpUVFS6\n",
       "urrMzMwyMjIQEBCIiIh2dnYiIiLu7u5mZmaYmJgAAABJJ2g3AAAAAXRSTlMAQObYZgAAAtBJREFU\n",
       "SMe1VT1oU1EUPnn5fenLi6hgB6EBh+IgZhA7CU95UBykQRwUFDIUDC6pgyja1ihol1KzZpAWnQSF\n",
       "Cg5qQbNVcTAquBRtBEHQobGmFLW13nN/z6sxz8UL77777s/3nZ/vngcA7nv4n+3MLeydx932nAhF\n",
       "cQshG0p51tkt8ZGY7bAj4TGYobZ/8Fyn88+3v2vugbfBExrm44bv72AmZEbYR7oiJpOtDjjJOutS\n",
       "WwAWO1icngI4NQXJ4AkDc4UxrEgCxfJlzWytq0ENu3KVPZ6acvTgEtuWXgZ3hrIYmMR39rSDLNaB\n",
       "ZbN1VA0msZvOASzNBNzjA1yMV8CpEBICY7OR+yPIYtsrZu8x+Y5jSKGXPQ+1e3Hl1SJm1WoAbCMs\n",
       "BCbCgHsmgywno79IxKvineEeMK/7d5rFO9LqVR62IsA9wkJgsh5YZ+uSgEsAnAKGkX3N8bYug9LE\n",
       "+LZrN5/wzwW+9rQhLNBwA4ZEwfB0Hq4t4HkX9VDi6omDtU5Migrlpgoyvi88sjjAT/ToBBw3SxSG\n",
       "pdN5gIMxgOHrfGrY979Sqcxf404XZHxtEk5wLuB0tqUUVzZLFAbTOY3ORMaZJUWcYucm6N26WNcs\n",
       "WU9oRbfTd7mfnGV/kIXCsHQKaWJxiWFeoigjkpf7QlIplFGZ2RP7ZvIyJ5QQ4xejEYiYhkFD0f2h\n",
       "vMxLGkvCLvZcJmmRaYg05XXZO2IW95lLB2m05pO+yBLGUdeF61Ar2UGQPn0loF8puiHim5gwa5Yi\n",
       "XMpD/DUOUMnOTzAwL2dlOkujhMXqXc3Bh40xjbRVSYZtf8WK3vmmcSWSUyEZPPKGD1CPzo2cgXnG\n",
       "3Mj0tf3BcYBNdYy2ohpc7VCmN0+IChPPkamjgaL6NxbdPv/Db0oUCpdONf9gcbuxJOvhLPPQnYUX\n",
       "F+dRFwTLC2c5xPsqLZnBfyUvFe7tLhC7Q0nsYvh//ze/tsqibi8o6AAAAABJRU5ErkJggg==\n",
       "\" style=\"display:inline;vertical-align:middle;\" /></a> <a class=\"ProveItLink\" href=\"proof.ipynb\" style=\"text-decoration: none\">&#x22A2;&nbsp;</a><a class=\"ProveItLink\" href=\"../../../packages/proveit/__pv_it/985a1bdf1540838275dec15f4ad6de261cca93ce0/expr.ipynb\"><img src=\"data:image/png;base64,iVBORw0KGgoAAAANSUhEUgAAAA8AAAAOBAMAAAACpFvcAAAAMFBMVEX////MzMyqqqoiIiIyMjK6\n",
       "uroQEBB2dnbc3NyYmJhmZmZUVFRERESIiIju7u4AAAB204erAAAAAXRSTlMAQObYZgAAAGZJREFU\n",
       "CNdjYGDgu7NrJccCBgaGsgkMrMsmMDA8sQNy6hsYGNweABlhDAxcn4A0QxcDQ78DiPGQgWH9BAYI\n",
       "sG+AMv6DSaCGfBDNJMDAsB+kmwuI5S8AiTog5gSaEwXWIO29SgFIAQBC+RaDQlidVgAAAABJRU5E\n",
       "rkJggg==\n",
       "\" style=\"display:inline;vertical-align:middle;\" /></a></span></td></tr>\n",
       "<tr><td>1</td><td>modus ponens</td><td>3, 4</td><td><span style=\"font-size:20px;\"><a class=\"ProveItLink\" href=\"../2134a3586e9c81e06d14e24fc14824091da6c79f0/expr.ipynb\"><img src=\"data:image/png;base64,iVBORw0KGgoAAAANSUhEUgAAALAAAAAVBAMAAAAUSHkwAAAAMFBMVEX///9ERETc3NyqqqpUVFS6\n",
       "urrMzMwyMjIQEBCIiIh2dnYiIiLu7u5mZmaYmJgAAABJJ2g3AAAAAXRSTlMAQObYZgAAAnpJREFU\n",
       "OMutlT1oFEEUgN/t3d7drpM9UYsUggsWwUJMIaYKnLJgJaawUFC4ImCwuTSiqNFD0DSSXJtCDEkl\n",
       "KGinBvS6IDango1ozkrQImc8Cf7EOO/NzszbZL1LkYV9+3bevm9m3s8sAAQfYZuvC3MoxbNu35zp\n",
       "SQlGNo+NDUrhtdVL/lGKV74sPU92oqMX05gv93xoHYR3SQ/E9I1L4dfUSKGd4lpoSFHcCbCUsi5/\n",
       "CuDcFBSSHm3N1OCvf6y1oZUZFNW6vMt6SBjlqvzMX4FgloMJw8HO8Iq1XtPKHRT3QoDl2cQmSEGj\n",
       "WwNRY1yF4WDP+2HNp+Kni7GCfnk/MZtw9dqXMENOE2A3AysMB5/N/mXRq6tnH62zAzCw1xrvx2tb\n",
       "pXhUAB4ysMIQkzIIYiT/k1ALdK3Fu21hnjszd5/T63uyvWiqSc1Chiw3xgSYwTHKtwvOGps4q8qr\n",
       "iDZPRu1VmRmHyGOHyclpa9KYCYDR2zQyGkXfeHIXb6EsISIj9+WxOIG4jMOltq6RqjVpTOa6nK+C\n",
       "mvx0kpf5lYYBl7BJfjHj+Qe0GwIfSYI1Brs5hzHOYuJZjB+rIihi4qsy0LnvNsYLKpE5qvtmIhQa\n",
       "QzH2sQf3y/sGC3Ec0kwrLuND49Z4ON4UZsnHBXw2PaUxptwE+u0zpQoDuuyaqozzk9bm6DmWB8F9\n",
       "gwqWm/gNDKPBTv9qCJ/WJ4zzLp1kuZvX61F0qWUXnAl1Ho6feEsKVpCYDhkmcVbwq6KVmykH3sYB\n",
       "1dJuyI+n/4HN9WULx7pq0wA2goNu4EKjN3gRNoGpm8XTLk5OuTf4GMl64g9CvRnMd/E60JPrVVL/\n",
       "ef8A0I2qransJX4AAAAASUVORK5CYII=\n",
       "\" style=\"display:inline;vertical-align:middle;\" /></a> <a class=\"ProveItLink\" href=\"../98b901179c024e047cc1d20ba304de935c0e95440/proof.ipynb\" style=\"text-decoration: none\">&#x22A2;&nbsp;</a><a class=\"ProveItLink\" href=\"../../../packages/proveit/__pv_it/2a4514f51d0fffe545c3e61025df66fded24ea200/expr.ipynb\"><img src=\"data:image/png;base64,iVBORw0KGgoAAAANSUhEUgAAAEEAAAAPBAMAAABJi79qAAAAMFBMVEX///+qqqru7u4iIiJ2dnbc\n",
       "3NyIiIjMzMxmZmYQEBC6uroyMjJERERUVFSYmJgAAADLUcuvAAAAAXRSTlMAQObYZgAAAPhJREFU\n",
       "GNNjYGB4+//u3dMLGDABU86NPtYGEGsOAwPHLywqPB8wcHU+ADLYvwHxX4ROGEPbCEj4BwAJtq8M\n",
       "DHxf4Cq4FaCMnSDGShCLZwIDA/MkuAquCxCa4yOIjAAR/BcYWPcoIKx3g1DxG0CkOoiov5bW/AAs\n",
       "2GwMAvZg5zP0P4DryQ9gYLJF9oM02Ov2AXCBkyBVD5DDYSdIyX8wG2w7yKPvHZBUVDuByPkggrEA\n",
       "FBz/gMR9AYQ7jA+B1d0HaedggAYH628kI2QhVH0CkHCCBUflJoQC1g0Qmg8YHitAruU4//fu7X1I\n",
       "RvDA/FC7t0OAARtgR+MDAAhbPiSyASIoAAAAAElFTkSuQmCC\n",
       "\" style=\"display:inline;vertical-align:middle;\" /></a></span></td></tr>\n",
       "<tr><td>2</td><td>assumption</td><td></td><td><span style=\"font-size:20px;\"><a class=\"ProveItLink\" href=\"../547fd547e34cf8546442bd6aea990dbe0adf77b90/expr.ipynb\"><img src=\"data:image/png;base64,iVBORw0KGgoAAAANSUhEUgAAACMAAAAVBAMAAAA+1EraAAAAMFBMVEX////c3NxERESqqqpUVFS6\n",
       "urrMzMwyMjIQEBCIiIh2dnYiIiLu7u5mZmaYmJgAAABXZE4RAAAAAXRSTlMAQObYZgAAAMtJREFU\n",
       "GNNjYGDgu8cAA2yrBEAUzy4GBGBrBpGcH4AEn/8XF6dSIOM6SIirAURyKDAw3A9gYFiBEMqfAMQO\n",
       "KELzgea+X4AipAHEOw6gCH1hYBDXYYAK8RaALP8yc+4+EO89iMgIALnkIwPDaaDpDOwXGBhS2kDi\n",
       "TEDdnP9ALPUHDAwRCUAGP1AF3y8ggxtoKwMLyKx8oBzLZ5hZXBugzpIvYEB2BNBZbO0HkIUu/Xdx\n",
       "KX/AgKIKDnAJ8aEIgcOLZydyqLaCKb7FqGEPACcgN6r4rcm/AAAAAElFTkSuQmCC\n",
       "\" style=\"display:inline;vertical-align:middle;\" /></a> <a class=\"ProveItLink\" href=\"../e254d9aea2df09e6e975215df28fe123ae22c0ba0/proof.ipynb\" style=\"text-decoration: none\">&#x22A2;&nbsp;</a><a class=\"ProveItLink\" href=\"../../../packages/proveit/__pv_it/077b2ff79244fb4582cbe22c6e3356fa92a52f2f0/expr.ipynb\"><img src=\"data:image/png;base64,iVBORw0KGgoAAAANSUhEUgAAABAAAAAOBAMAAADUAYG5AAAAMFBMVEX///+qqqru7u4iIiJ2dnbc\n",
       "3NyIiIjMzMxmZmYQEBC6uroyMjJERERUVFSYmJgAAADLUcuvAAAAAXRSTlMAQObYZgAAAGpJREFU\n",
       "CNdjYGB4+//u3dMLGIBgDgMDxy8gzf4NiP8CGWxfGRj4vgAZPBMYGJgnARn8FxhY9ygAGfXX0pof\n",
       "gDTlBzAw2YIYJ0EckBBI53sHoBH/gIz7AhBjWH9DjancBLTl/N+7t/cxMAAA3u4f/5xagjYAAAAA\n",
       "SUVORK5CYII=\n",
       "\" style=\"display:inline;vertical-align:middle;\" /></a></span></td></tr>\n",
       "<tr><td>3</td><td>assumption</td><td></td><td><span style=\"font-size:20px;\"><a class=\"ProveItLink\" href=\"../b0a106c21a2db8df9a0d1060fea93b57d9e9d47e0/expr.ipynb\"><img src=\"data:image/png;base64,iVBORw0KGgoAAAANSUhEUgAAAJMAAAAVBAMAAACwIsHjAAAAMFBMVEX///9ERETc3NyqqqpUVFS6\n",
       "urrMzMwyMjIQEBCIiIh2dnYiIiLu7u5mZmaYmJgAAABJJ2g3AAAAAXRSTlMAQObYZgAAAjpJREFU\n",
       "OMtjYGDgu8dAKWBbpQCieHbhUxRJ0Bi+AJBZzSAm5weoyRuwWecAVOv/xcWxFJspJ0XuPtBluAZi\n",
       "XgcRXA0QcfYPWBSzHwASHAIMDPcDMCW5+hgYYvsY2EHsFchGvf6DUHQAxpgJIvInALEDTIgHzqgG\n",
       "KuP6xMC3AM0oJttPCKNqYIweEDEfGKbvF6A4FMwASbI2MPA0oBnFyfkVYVQIlGYtAJESQLwD7lBW\n",
       "mPvuG4BccIGBQRjNqBjmf0ihMAFC84Ld8oWBQV0GIbkSQjF9B/sygYFhLcwoXrDNPAFsP8G83WDw\n",
       "F+qHB6BY/DJz7j4w9zZYbv8FiDVwq82B+D2IkQGOG1YGpr9IkcMMiXwOkBwnMBBPOyBJmoN1cMPD\n",
       "NgJkKdD8lDYwN8XF5SNyRB9vBZH8IE2MwBDgRPI9A08FSJj/Ayw+80EMcaAHIhJALKBkO3LSrDoA\n",
       "N4oflEx/IUmmrwG7GGyUGdQoblCosoDCihkUSUhhtRESYRygSMoH2sfyGRFWuyFRwAJOhxegHgSH\n",
       "FRcowygDcT1SUEGDhvEBNFnpFyAkTaAOB0UTF8jK58iJgQekUh6edBjUYYniAiRZsbUj5Jhgpr43\n",
       "YGC9BGKsRTKKSeK7AsPD/7Vw5UKw5Ah08cX/Li7lDxCOYlSAhae772UwoxQ9DyKDBBijCUthgS6A\n",
       "kXGwg1dElHvgrAE2ig+fUewHCBt1HF5e8ezEo4zJgbBRTiBft0JK1MV41GkSNIkzAVq2AwBBeJap\n",
       "i8vSQQAAAABJRU5ErkJggg==\n",
       "\" style=\"display:inline;vertical-align:middle;\" /></a> <a class=\"ProveItLink\" href=\"../ddd90e4817bb707593da8da935028ce10e1053910/proof.ipynb\" style=\"text-decoration: none\">&#x22A2;&nbsp;</a><a class=\"ProveItLink\" href=\"../../../packages/proveit/__pv_it/9cf9cf2c1b47bcc371546414919b5749a431cb6f0/expr.ipynb\"><img src=\"data:image/png;base64,iVBORw0KGgoAAAANSUhEUgAAAH8AAAAVBAMAAACd/CwcAAAAMFBMVEX///92dnYQEBBERERUVFS6\n",
       "urqIiIhmZmaqqqrc3Nzu7u6YmJgyMjIiIiLMzMwAAACFkkdwAAAAAXRSTlMAQObYZgAAAd9JREFU\n",
       "OMtjYKAdYE0gqGQrjPEWm+wTIN7y38XFJgCLJFeyezVnAfsDKPc8NgNOgQhlBgb2r1gkhTYwsBZt\n",
       "YDgA4XHfX4AwGsZgA/mA7xsQf4FLwpWtuQUk5CcwbIRwZ9RPgKvhgSliAjHYfgKN/4jqKBA4BJIM\n",
       "YmBYBOEm5CO8yeoAZcSACGYFBgZeLbhkCJRm/wEipwPlG8B6FvRvQPhODEoXggh+BwbOwwj/MUIj\n",
       "Zj7Y7+uAAgUgxlKG92CJ2rsgcL8Aoug0iHjvllYLNpwdLHf3O0SuHmYhB9ikAIb5BUgB3APxjyqI\n",
       "yJ/AwHUFSY7jKJi6DwszVgVQSLu4+BsgR/EhsAngyDMCGYLkP4Y1YHP/w+KE7wPIFGCIH0BS80aK\n",
       "AW4AKAb3CyDk+A6CA0Qf7JoHUAOAAcmrgAiDu1YQtRog9b+BhH8DIgwuQwLUH0SxQ73ACZTn+YCw\n",
       "pAVKW0OTAecfpCCAxjE40EEO5QY6fQ0oun/B1XDCfCMOTQaPTiEMmAOluYHpIBwUkMBonKx/koHb\n",
       "/g88GphhARwLdKT9Fxef00jBYwnPaEfKwUmIBzOj8cEYTBMws9ADdIFFePI6twARZYYYPslThPVz\n",
       "HcAnO4WwASwT8MlyEi7S8hgYAJt5gWD7FNeSAAAAAElFTkSuQmCC\n",
       "\" style=\"display:inline;vertical-align:middle;\" /></a></span></td></tr>\n",
       "<tr><td>4</td><td>assumption</td><td></td><td><span style=\"font-size:20px;\"><a class=\"ProveItLink\" href=\"../2700633c29669936275e69317ebd77c3a6285b9c0/expr.ipynb\"><img src=\"data:image/png;base64,iVBORw0KGgoAAAANSUhEUgAAACIAAAAVBAMAAADRFiHkAAAAMFBMVEX///9ERETc3NyqqqpUVFS6\n",
       "urrMzMwyMjIQEBCIiIh2dnYiIiLu7u5mZmaYmJgAAABJJ2g3AAAAAXRSTlMAQObYZgAAAK1JREFU\n",
       "GNNjYGDgu8cAA1mLQCTPLgYEyDAAEpwfIBy2DUCCtwBIcDVARNg/wDgwkdd/0ESYbD+hiXByfkUT\n",
       "iWH+B+OAjWfgCWD7CaT4QMZnBIBEWBmY/oLoWgaGlDawphQXl48gmrGOgSEiAcQCKmwH0SAPsIDM\n",
       "YQbiHTBzuECuVwbiemTbeUDq5A8gRJgkviswPPxfi+YvMMAhwocsAvYAz07kMAR7gG8xSjgDAMfT\n",
       "LYlEWPTfAAAAAElFTkSuQmCC\n",
       "\" style=\"display:inline;vertical-align:middle;\" /></a> <a class=\"ProveItLink\" href=\"../0cbf4ba18936f5d879bcab1d3c6cf36bbb2fc9690/proof.ipynb\" style=\"text-decoration: none\">&#x22A2;&nbsp;</a><a class=\"ProveItLink\" href=\"../../../packages/proveit/__pv_it/2cbe72a7ad6f655694dd697106680215e8489b600/expr.ipynb\"><img src=\"data:image/png;base64,iVBORw0KGgoAAAANSUhEUgAAAA8AAAAOBAMAAAACpFvcAAAALVBMVEX///8QEBBERERUVFS6urqI\n",
       "iIhmZmaqqqrc3Nzu7u6YmJgyMjIiIiLMzMwAAADtIaYWAAAAAXRSTlMAQObYZgAAAFtJREFUCNdj\n",
       "YACBOwxQsA9Kc52bAGG05zVAGAFxDmCaZULdAjBjCsO9ADDDgaEvAUTzGhvbKYCVMDAwbgAxChgY\n",
       "eASANAeQwf0AyJgNxEwvGRia5HYwcOm9TgAA6BoR3jrzwFcAAAAASUVORK5CYII=\n",
       "\" style=\"display:inline;vertical-align:middle;\" /></a></span></td></tr>\n",
       "</table>"
      ],
      "text/plain": [
       "<proveit._core_.proof._ShowProof at 0x7f94ebef67b8>"
      ]
     },
     "execution_count": 1,
     "metadata": {},
     "output_type": "execute_result"
    }
   ],
   "source": [
    "import proveit\n",
    "%show_proof"
   ]
  },
  {
   "cell_type": "code",
   "execution_count": null,
   "metadata": {},
   "outputs": [],
   "source": []
  }
 ],
 "metadata": {
  "kernelspec": {
   "display_name": "Python 3",
   "language": "python",
   "name": "python3"
  }
 },
 "nbformat": 4,
 "nbformat_minor": 0
}
