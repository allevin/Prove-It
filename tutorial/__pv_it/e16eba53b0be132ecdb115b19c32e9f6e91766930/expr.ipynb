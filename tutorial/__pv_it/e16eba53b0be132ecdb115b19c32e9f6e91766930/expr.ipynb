{
 "cells": [
  {
   "cell_type": "markdown",
   "metadata": {},
   "source": [
    "Expression of type <a class=\"ProveItLink\" href=\"../../../doc/html/api/proveit.Function.html\">Function</a>\n",
    "=======================\n",
    "# from context <a class=\"ProveItLink\" href=\"../../_context_.ipynb\">tutorial</a>"
   ]
  },
  {
   "cell_type": "code",
   "execution_count": 1,
   "metadata": {},
   "outputs": [],
   "source": [
    "# import Expression classes needed to build the expression\n",
    "from proveit import Function\n",
    "from proveit._common_ import P, fy"
   ]
  },
  {
   "cell_type": "code",
   "execution_count": 2,
   "metadata": {},
   "outputs": [
    {
     "data": {
      "text/html": [
       "<strong id=\"expr\">expr:</strong> <a class=\"ProveItLink\" href=\"expr.ipynb\"><img src=\"data:image/png;base64,iVBORw0KGgoAAAANSUhEUgAAAE0AAAAVBAMAAADx+n4ZAAAAMFBMVEX////u7u5mZmaYmJi6urqq\n",
       "qqp2dnbMzMwQEBBEREQyMjLc3NwiIiJUVFSIiIgAAAAeC3ydAAAAAXRSTlMAQObYZgAAAXJJREFU\n",
       "KM+dkT9Lw0AYh39t2iaxNgYnneogHUTRQdyEuhah/QYNAZ1EXBzFDjrpIHRyaqpfoF9ADO5CcXCR\n",
       "SjZBsI21WhD/3XuXuwa6+YPnzdPkTS/3HvCPpIJxX40AXn47ndsW2QGVxOODcpbknoDlEzBPSJpU\n",
       "zK035RQvAvoHkGbA4kvlNyrKKWsRsAaA1mdi2PSzyp8Kp8xEwAyB3DuTEr+/yGtJbcisCDDFVs+f\n",
       "MSnQ7fXTOwhPuA6ubWTmwMGhA/2Gnl3y938QeSYVosc+3ROgd79d4GM5opIdIvL9pI9zNsiaAA35\n",
       "yQMq6VC6bQT053oowBfifRlfedXWh6M+vS/7jvn22soXYNVG61oD2VfngwuUX/CXNE9gvso+lx9H\n",
       "UfkSyiuQc5lufMsj2qRStpXPdpfZHCaKglEMms5zzLETPzcVzYHWrivP+QnazW5ELE0YTV/5pGM6\n",
       "7PQ8QTxX0NyW8nR3nl1zLUE82WDcnwR/Yg9mYrHVncgAAAAASUVORK5CYII=\n",
       "\" style=\"display:inline;vertical-align:middle;\" /></a><br>"
      ],
      "text/plain": [
       "expr: P(f(y))"
      ]
     },
     "execution_count": 2,
     "metadata": {},
     "output_type": "execute_result"
    }
   ],
   "source": [
    "# build up the expression from sub-expressions\n",
    "expr = Function(P, fy)"
   ]
  },
  {
   "cell_type": "code",
   "execution_count": 3,
   "metadata": {},
   "outputs": [
    {
     "name": "stdout",
     "output_type": "stream",
     "text": [
      "Passed sanity check: built 'expr' is the same as the stored Expression.\n"
     ]
    }
   ],
   "source": [
    "# check that the built expression is the same as the stored expression\n",
    "%check_expr"
   ]
  },
  {
   "cell_type": "code",
   "execution_count": 4,
   "metadata": {},
   "outputs": [
    {
     "data": {
      "text/html": [
       "<table><tr><th>&nbsp;</th><th>core type</th><th>sub-expressions</th><th>expression</th></tr>\n",
       "<tr><td>0</td><td>Operation</td><td>operator:&nbsp;1<br>operand:&nbsp;2<br></td><td><a class=\"ProveItLink\" href=\"expr.ipynb\"><img src=\"data:image/png;base64,iVBORw0KGgoAAAANSUhEUgAAAE0AAAAVBAMAAADx+n4ZAAAAMFBMVEX////u7u5mZmaYmJi6urqq\n",
       "qqp2dnbMzMwQEBBEREQyMjLc3NwiIiJUVFSIiIgAAAAeC3ydAAAAAXRSTlMAQObYZgAAAXJJREFU\n",
       "KM+dkT9Lw0AYh39t2iaxNgYnneogHUTRQdyEuhah/QYNAZ1EXBzFDjrpIHRyaqpfoF9ADO5CcXCR\n",
       "SjZBsI21WhD/3XuXuwa6+YPnzdPkTS/3HvCPpIJxX40AXn47ndsW2QGVxOODcpbknoDlEzBPSJpU\n",
       "zK035RQvAvoHkGbA4kvlNyrKKWsRsAaA1mdi2PSzyp8Kp8xEwAyB3DuTEr+/yGtJbcisCDDFVs+f\n",
       "MSnQ7fXTOwhPuA6ubWTmwMGhA/2Gnl3y938QeSYVosc+3ROgd79d4GM5opIdIvL9pI9zNsiaAA35\n",
       "yQMq6VC6bQT053oowBfifRlfedXWh6M+vS/7jvn22soXYNVG61oD2VfngwuUX/CXNE9gvso+lx9H\n",
       "UfkSyiuQc5lufMsj2qRStpXPdpfZHCaKglEMms5zzLETPzcVzYHWrivP+QnazW5ELE0YTV/5pGM6\n",
       "7PQ8QTxX0NyW8nR3nl1zLUE82WDcnwR/Yg9mYrHVncgAAAAASUVORK5CYII=\n",
       "\" style=\"display:inline;vertical-align:middle;\" /></a></td></tr>\n",
       "<tr><td>1</td><td>Variable</td><td></td><td><a class=\"ProveItLink\" href=\"../../../packages/proveit/__pv_it/6369c6c8083c513ca7161ace249642d040f9327d0/expr.ipynb\"><img src=\"data:image/png;base64,iVBORw0KGgoAAAANSUhEUgAAABAAAAAOBAMAAADUAYG5AAAAMFBMVEX////u7u5mZmaYmJi6urqq\n",
       "qqp2dnbMzMwQEBBEREQyMjLc3NwiIiJUVFSIiIgAAAAeC3ydAAAAAXRSTlMAQObYZgAAAGBJREFU\n",
       "CNdjYGB4+//u3bMbGIDgFwMDZzeQZv/GwMAKxAx8XxgYmD8BGZwfGBh4vwIZ/AsYGOQnABn1CQzs\n",
       "h0Ca3l9LUwPrni/AAAF/oDT7JygDZAwYcH6E0ELz/z4A0QBnpRnRyxnfJQAAAABJRU5ErkJggg==\n",
       "\" style=\"display:inline;vertical-align:middle;\" /></a></td></tr>\n",
       "<tr><td>2</td><td>Operation</td><td>operator:&nbsp;3<br>operand:&nbsp;4<br></td><td><a class=\"ProveItLink\" href=\"../../../packages/proveit/__pv_it/e4f99fbf53c5e24e1c1e622903a7736f418f26ef0/expr.ipynb\"><img src=\"data:image/png;base64,iVBORw0KGgoAAAANSUhEUgAAACgAAAAVBAMAAADGNLEtAAAAMFBMVEX///8yMjLMzMwQEBAiIiJm\n",
       "Zma6urqYmJiqqqp2dnZERETc3NyIiIhUVFTu7u4AAAAe+HC4AAAAAXRSTlMAQObYZgAAAQlJREFU\n",
       "GNNjYMAPciAUewKYent2A5BkugCVDAKTK/sLgCTjA6ggI4jg+/YCRJ2BGcM+AUhwfACz7WCCfAZA\n",
       "gtUBxGQTgNu4Aqj6sm8ASAqo6WUkA/c/BoapQC7/AbDxQMsm5DPwAM1qBHL3K4AEmRMYmBpCGLgW\n",
       "MDAkA7n9YIP4Exj4GGzA2vSB3CkwQQaOfwz6ChDBtWBB5gagZQIMhxkg2m3AglxAixgDwCoKQR4C\n",
       "C3IC3cV6ge07A9hJbP/AgmxAL/CtOfobyBRjYOCBesUarN4B7M1akGEgUMnAcIXhMdA6zgMMhk9g\n",
       "IfaAwZNhJZDxEKggGirIfYGh5ygo1G8jR8ceCMWjwAAAl6o3tGQ/mUwAAAAASUVORK5CYII=\n",
       "\" style=\"display:inline;vertical-align:middle;\" /></a></td></tr>\n",
       "<tr><td>3</td><td>Variable</td><td></td><td><a class=\"ProveItLink\" href=\"../../../packages/proveit/__pv_it/4d51ee1e62d011d06d4528b97697bf3da60c9de60/expr.ipynb\"><img src=\"data:image/png;base64,iVBORw0KGgoAAAANSUhEUgAAAAsAAAASBAMAAAB/WzlGAAAAMFBMVEX///8yMjLMzMwQEBAiIiJm\n",
       "Zma6urqYmJiqqqp2dnZERETc3NyIiIhUVFTu7u4AAAAe+HC4AAAAAXRSTlMAQObYZgAAAFVJREFU\n",
       "CNdjYGBgeHt2A5BkWNlfACT5vr0AcTg+gEgGVgcQyX7ZNwBE8x8AC+5XAFP9YJJhCoRaC6FswCTf\n",
       "NzDF9g9M8QiAyFoukPEMhk/AYpXRIBIAEwsRcZ82juYAAAAASUVORK5CYII=\n",
       "\" style=\"display:inline;vertical-align:middle;\" /></a></td></tr>\n",
       "<tr><td>4</td><td>Variable</td><td></td><td><a class=\"ProveItLink\" href=\"../../../packages/proveit/__pv_it/f8b9edf8e16034727f0aad55bb83e392c3db40d40/expr.ipynb\"><img src=\"data:image/png;base64,iVBORw0KGgoAAAANSUhEUgAAAAsAAAANBAMAAACN24kIAAAAMFBMVEX///+YmJhUVFQyMjIQEBBE\n",
       "REQiIiKqqqrMzMyIiIi6urrc3NxmZmZ2dnbu7u4AAADXeCicAAAAAXRSTlMAQObYZgAAAFhJREFU\n",
       "CNdj4LtzgWH/AwZerg8M8xkY2nkSGEIZGB6wTGD4ycDAUP+A4weQOszA6QCkbBhYFYDUIYb1AkDq\n",
       "6czzGxhA4BoQMyXwuQMptgusF4AU+8xTQBIAUqMVoSp/SLMAAAAASUVORK5CYII=\n",
       "\" style=\"display:inline;vertical-align:middle;\" /></a></td></tr>\n",
       "</table>\n"
      ],
      "text/plain": [
       "0. P(f(y))\n",
       "   core type: Operation\n",
       "   operator: 1\n",
       "   operand: 2\n",
       "1. P\n",
       "   core type: Variable\n",
       "   sub-expressions: \n",
       "2. f(y)\n",
       "   core type: Operation\n",
       "   operator: 3\n",
       "   operand: 4\n",
       "3. f\n",
       "   core type: Variable\n",
       "   sub-expressions: \n",
       "4. y\n",
       "   core type: Variable\n",
       "   sub-expressions: "
      ]
     },
     "execution_count": 4,
     "metadata": {},
     "output_type": "execute_result"
    }
   ],
   "source": [
    "# display the expression information\n",
    "expr.exprInfo()"
   ]
  },
  {
   "cell_type": "code",
   "execution_count": null,
   "metadata": {},
   "outputs": [],
   "source": []
  }
 ],
 "metadata": {
  "kernelspec": {
   "display_name": "Python 3",
   "language": "python",
   "name": "python3"
  }
 },
 "nbformat": 4,
 "nbformat_minor": 0
}
