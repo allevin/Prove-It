{
 "cells": [
  {
   "cell_type": "markdown",
   "metadata": {},
   "source": [
    "Expression of type <a class=\"ProveItLink\" href=\"../../../doc/html/api/proveit.logic.InSet.html\">InSet</a>\n",
    "=======================\n",
    "# from context <a class=\"ProveItLink\" href=\"../../_context_.ipynb\">tutorial</a>"
   ]
  },
  {
   "cell_type": "code",
   "execution_count": 1,
   "metadata": {},
   "outputs": [],
   "source": [
    "# import Expression classes needed to build the expression\n",
    "from proveit._common_ import T, y\n",
    "from proveit.logic import InSet"
   ]
  },
  {
   "cell_type": "code",
   "execution_count": 2,
   "metadata": {},
   "outputs": [
    {
     "data": {
      "text/html": [
       "<strong id=\"expr\">expr:</strong> <a class=\"ProveItLink\" href=\"expr.ipynb\"><img src=\"data:image/png;base64,iVBORw0KGgoAAAANSUhEUgAAADMAAAASBAMAAAAEf/uKAAAAMFBMVEX///+YmJhUVFQyMjIQEBBE\n",
       "REQiIiKqqqrMzMyIiIi6urrc3NxmZmZ2dnbu7u4AAADXeCicAAAAAXRSTlMAQObYZgAAAN9JREFU\n",
       "GNNjYMAA3F+C9L8q2V/AlGHgncDAksDAK4BFiomBYf8BBvYFSEJ8k9PSDIB0OwODfAED5wMkqWY5\n",
       "CA1Urv+AgR2o9s4Fhv0gFdxxCFVuEEu5PjDMBzFYNyDc+AdMtfMkMISCGE8Rmhi/g6kHLBMYfoIY\n",
       "S9LSIM4AuvEfREn9A44fILoJoQvoLTA4zMDpAKKfIaSA3gIDGwZWBbApCO8DvQUGhxjWgwX5suBS\n",
       "8VDvPp15HuLszScgAjyq/4MmQBVdg9JFZlAXwgIzgc+dATtgu8B6AYcU+8xTOGQAtpc0ojCzKsUA\n",
       "AAAASUVORK5CYII=\n",
       "\" style=\"display:inline;vertical-align:middle;\" /></a><br>"
      ],
      "text/plain": [
       "expr: y in T"
      ]
     },
     "execution_count": 2,
     "metadata": {},
     "output_type": "execute_result"
    }
   ],
   "source": [
    "# build up the expression from sub-expressions\n",
    "expr = InSet(y, T)"
   ]
  },
  {
   "cell_type": "code",
   "execution_count": 3,
   "metadata": {},
   "outputs": [
    {
     "name": "stdout",
     "output_type": "stream",
     "text": [
      "Passed sanity check: built 'expr' is the same as the stored Expression.\n"
     ]
    }
   ],
   "source": [
    "# check that the built expression is the same as the stored expression\n",
    "%check_expr"
   ]
  },
  {
   "cell_type": "code",
   "execution_count": 4,
   "metadata": {},
   "outputs": [
    {
     "data": {
      "text/html": [
       "<table><tr><th>&nbsp;</th><th>core type</th><th>sub-expressions</th><th>expression</th></tr>\n",
       "<tr><td>0</td><td>Operation</td><td>operator:&nbsp;1<br>operands:&nbsp;2<br></td><td><a class=\"ProveItLink\" href=\"expr.ipynb\"><img src=\"data:image/png;base64,iVBORw0KGgoAAAANSUhEUgAAADMAAAASBAMAAAAEf/uKAAAAMFBMVEX///+YmJhUVFQyMjIQEBBE\n",
       "REQiIiKqqqrMzMyIiIi6urrc3NxmZmZ2dnbu7u4AAADXeCicAAAAAXRSTlMAQObYZgAAAN9JREFU\n",
       "GNNjYMAA3F+C9L8q2V/AlGHgncDAksDAK4BFiomBYf8BBvYFSEJ8k9PSDIB0OwODfAED5wMkqWY5\n",
       "CA1Urv+AgR2o9s4Fhv0gFdxxCFVuEEu5PjDMBzFYNyDc+AdMtfMkMISCGE8Rmhi/g6kHLBMYfoIY\n",
       "S9LSIM4AuvEfREn9A44fILoJoQvoLTA4zMDpAKKfIaSA3gIDGwZWBbApCO8DvQUGhxjWgwX5suBS\n",
       "8VDvPp15HuLszScgAjyq/4MmQBVdg9JFZlAXwgIzgc+dATtgu8B6AYcU+8xTOGQAtpc0ojCzKsUA\n",
       "AAAASUVORK5CYII=\n",
       "\" style=\"display:inline;vertical-align:middle;\" /></a></td></tr>\n",
       "<tr><td>1</td><td>Literal</td><td></td><td><a class=\"ProveItLink\" href=\"../../../packages/proveit/logic/set_theory/membership/__pv_it/088cbc857536a28d4119ad9639a84270ccb0545d0/expr.ipynb\"><img src=\"data:image/png;base64,iVBORw0KGgoAAAANSUhEUgAAAAwAAAAMBAMAAACkW0HUAAAALVBMVEX///+qqqpmZmZUVFQQEBC6\n",
       "urpERETc3NyYmJjMzMwiIiIyMjKIiIju7u4AAACYsrA9AAAAAXRSTlMAQObYZgAAADxJREFUCNdj\n",
       "YOA9vWrVBgaG2b0MQMCeCyIZ2ArA1DUwyRCyahVIyWQI7xaEYm4AU7xLIdxqTQgtvGvVBgCkcQ7e\n",
       "geM/tQAAAABJRU5ErkJggg==\n",
       "\" style=\"display:inline;vertical-align:middle;\" /></a></td></tr>\n",
       "<tr><td>2</td><td>ExprTuple</td><td>3, 4</td><td><a class=\"ProveItLink\" href=\"../fce5e01423a859b8b7ddadf177b0bf13d79816e50/expr.ipynb\"><img src=\"data:image/png;base64,iVBORw0KGgoAAAANSUhEUgAAAC8AAAAVBAMAAAAk6KpUAAAAMFBMVEX////c3NwiIiJERESqqqqY\n",
       "mJh2dnZmZmYQEBDu7u4yMjJUVFTMzMyIiIi6uroAAAAs73DqAAAAAXRSTlMAQObYZgAAAR9JREFU\n",
       "KM91kT1Lw1AUhp+atElsU7o7NP9BnDrYf2AmRw0unYRODhW0iLNccOlmFhEnBUeHOri55AdYTB1d\n",
       "rFhQwa+T2wSuqIHcNzkPec85b+Dfq578rq1lx41RKL22hs+XZ5FzJS+nBqgkuAGVkBh806kKzS52\n",
       "yiq4ygDXsN7GVwzgwWyawlBhg9VmC7xORLP4cG/WrMuxnPUJd8VcL1rsmANxdgIWc1Cezpbr8wnK\n",
       "Tfgo5nrTUptkgBVVe8+BrJGDfZEefj8HskZutSRygnWOpyuyhm4V0xHZ5jHkSJssq2Lce5HD0W6D\n",
       "wRM4F18tHdF8itvIHjbkHhsRSCTliGrgZSOEBtjUsc9FVvQTeBI7C9ijHVHfjD/zL/3xa2/hG6ei\n",
       "QlGrN7jgAAAAAElFTkSuQmCC\n",
       "\" style=\"display:inline;vertical-align:middle;\" /></a></td></tr>\n",
       "<tr><td>3</td><td>Variable</td><td></td><td><a class=\"ProveItLink\" href=\"../../../packages/proveit/__pv_it/f8b9edf8e16034727f0aad55bb83e392c3db40d40/expr.ipynb\"><img src=\"data:image/png;base64,iVBORw0KGgoAAAANSUhEUgAAAAsAAAANBAMAAACN24kIAAAAMFBMVEX///+YmJhUVFQyMjIQEBBE\n",
       "REQiIiKqqqrMzMyIiIi6urrc3NxmZmZ2dnbu7u4AAADXeCicAAAAAXRSTlMAQObYZgAAAFhJREFU\n",
       "CNdj4LtzgWH/AwZerg8M8xkY2nkSGEIZGB6wTGD4ycDAUP+A4weQOszA6QCkbBhYFYDUIYb1AkDq\n",
       "6czzGxhA4BoQMyXwuQMptgusF4AU+8xTQBIAUqMVoSp/SLMAAAAASUVORK5CYII=\n",
       "\" style=\"display:inline;vertical-align:middle;\" /></a></td></tr>\n",
       "<tr><td>4</td><td>Variable</td><td></td><td><a class=\"ProveItLink\" href=\"../../../packages/proveit/__pv_it/0ba07a5dc20d6e3b8bc78905ccb69ca33aa5b7620/expr.ipynb\"><img src=\"data:image/png;base64,iVBORw0KGgoAAAANSUhEUgAAAA8AAAAOBAMAAAACpFvcAAAAMFBMVEX////u7u7MzMy6urqqqqpm\n",
       "ZmaYmJgiIiKIiIh2dnYyMjJUVFREREQQEBDc3NwAAAC0bR2MAAAAAXRSTlMAQObYZgAAAFxJREFU\n",
       "CNdj4Pt7ev+f3esnMHA2MPAWMHAmMHAzMLwPYGAxYFBhYMh3YOAQYDBgYNgvwMDCAALXGSCA7yuU\n",
       "wfYFyuD+CGUAjYEAoDEQADQGAs4LgCnWPf9PNwBpAOatFIzRQMbbAAAAAElFTkSuQmCC\n",
       "\" style=\"display:inline;vertical-align:middle;\" /></a></td></tr>\n",
       "</table>\n"
      ],
      "text/plain": [
       "0. y in T\n",
       "   core type: Operation\n",
       "   operator: 1\n",
       "   operands: 2\n",
       "1. in\n",
       "   core type: Literal\n",
       "   sub-expressions: \n",
       "2. (y , T)\n",
       "   core type: ExprTuple\n",
       "   sub-expressions: 3, 4\n",
       "3. y\n",
       "   core type: Variable\n",
       "   sub-expressions: \n",
       "4. T\n",
       "   core type: Variable\n",
       "   sub-expressions: "
      ]
     },
     "execution_count": 4,
     "metadata": {},
     "output_type": "execute_result"
    }
   ],
   "source": [
    "# display the expression information\n",
    "expr.exprInfo()"
   ]
  },
  {
   "cell_type": "code",
   "execution_count": null,
   "metadata": {},
   "outputs": [],
   "source": []
  }
 ],
 "metadata": {
  "kernelspec": {
   "display_name": "Python 3",
   "language": "python",
   "name": "python3"
  }
 },
 "nbformat": 4,
 "nbformat_minor": 0
}
