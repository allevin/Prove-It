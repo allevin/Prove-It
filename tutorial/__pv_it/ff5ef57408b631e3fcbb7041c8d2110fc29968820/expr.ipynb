{
 "cells": [
  {
   "cell_type": "markdown",
   "metadata": {},
   "source": [
    "Expression of type <a class=\"ProveItLink\" href=\"../../../doc/html/api/proveit.logic.Set.html\">Set</a>\n",
    "=======================\n",
    "# from context <a class=\"ProveItLink\" href=\"../../_context_.ipynb\">tutorial</a>"
   ]
  },
  {
   "cell_type": "code",
   "execution_count": 1,
   "metadata": {},
   "outputs": [],
   "source": [
    "# import Expression classes needed to build the expression\n",
    "from proveit._common_ import S, fy\n",
    "from proveit.logic import InSet, Set"
   ]
  },
  {
   "cell_type": "code",
   "execution_count": 2,
   "metadata": {},
   "outputs": [
    {
     "data": {
      "text/html": [
       "<strong id=\"expr\">expr:</strong> <a class=\"ProveItLink\" href=\"expr.ipynb\"><img src=\"data:image/png;base64,iVBORw0KGgoAAAANSUhEUgAAAGUAAAAVBAMAAACtcD09AAAAMFBMVEX///9ERETc3NyqqqpUVFS6\n",
       "urrMzMwyMjIQEBCIiIh2dnYiIiLu7u5mZmaYmJgAAABJJ2g3AAAAAXRSTlMAQObYZgAAAeNJREFU\n",
       "OMuNlD0sQ1EUx/9tPf3w3vM12ITRxGZUIhESYiSRaMJg08XkI0JYSNRCOmliEdKkm9ClJhEDg4/B\n",
       "51CRWBSJxIJzzn237SMVHc6999zzO/d8vFMA9i3+/SvfbuDF3C9WDqrF7i8FzbMM5uRgdnewKuzc\n",
       "Xfw2z95cPwCXvA3Nisaz+UnSn3EM/L8Q/z0OyP1WEXMy1EIyri3sxE+mB/BF3UybyGVtYSotjibT\n",
       "u7LxvlPkMTdzxcKI5t3WqpRndLDGG50iLia71EvSoojMZALNGSTFslEj8H6tySqMpXx/OHkiZOSw\n",
       "AbSKtqaQz8bXC/fmmfdj/TpcIED7ESuFamBAsqoqMN7sCmfrPwVGF0Xjky5VEpMJxPjRcUliKZ12\n",
       "asBZcDdQR7EMROSc0gzaMuXvDpNvMUCWJjMV3IQyyccjtwHu0SWCszq2VL72FJL3VeejXqCAmCRv\n",
       "mBYHj2LapxlupxWGq9YnUokQecMZhglVtT7W36q1B6zCzQxLIwx+8yB+R0WdUMWajiimzOhsv//B\n",
       "rKurOZE7hW/H11WoG1yMHa5XmifymDJpRkKxEgMkjE1MYMopEM1CRcJD5TwsNakyPyZlZycbnGaH\n",
       "4Yuf06aj1JwuqFHZLNI1qSUY+eP/4BsM/XwEOw1GmQAAAABJRU5ErkJggg==\n",
       "\" style=\"display:inline;vertical-align:middle;\" /></a><br>"
      ],
      "text/plain": [
       "expr: {f(y) in S}"
      ]
     },
     "execution_count": 2,
     "metadata": {},
     "output_type": "execute_result"
    }
   ],
   "source": [
    "# build up the expression from sub-expressions\n",
    "expr = Set(InSet(fy, S))"
   ]
  },
  {
   "cell_type": "code",
   "execution_count": 3,
   "metadata": {},
   "outputs": [
    {
     "name": "stdout",
     "output_type": "stream",
     "text": [
      "Passed sanity check: built 'expr' is the same as the stored Expression.\n"
     ]
    }
   ],
   "source": [
    "# check that the built expression is the same as the stored expression\n",
    "%check_expr"
   ]
  },
  {
   "cell_type": "code",
   "execution_count": 4,
   "metadata": {},
   "outputs": [
    {
     "data": {
      "text/html": [
       "<table><tr><th>&nbsp;</th><th>core type</th><th>sub-expressions</th><th>expression</th></tr>\n",
       "<tr><td>0</td><td>Operation</td><td>operator:&nbsp;1<br>operands:&nbsp;2<br></td><td><a class=\"ProveItLink\" href=\"expr.ipynb\"><img src=\"data:image/png;base64,iVBORw0KGgoAAAANSUhEUgAAAGUAAAAVBAMAAACtcD09AAAAMFBMVEX///9ERETc3NyqqqpUVFS6\n",
       "urrMzMwyMjIQEBCIiIh2dnYiIiLu7u5mZmaYmJgAAABJJ2g3AAAAAXRSTlMAQObYZgAAAeNJREFU\n",
       "OMuNlD0sQ1EUx/9tPf3w3vM12ITRxGZUIhESYiSRaMJg08XkI0JYSNRCOmliEdKkm9ClJhEDg4/B\n",
       "51CRWBSJxIJzzn237SMVHc6999zzO/d8vFMA9i3+/SvfbuDF3C9WDqrF7i8FzbMM5uRgdnewKuzc\n",
       "Xfw2z95cPwCXvA3Nisaz+UnSn3EM/L8Q/z0OyP1WEXMy1EIyri3sxE+mB/BF3UybyGVtYSotjibT\n",
       "u7LxvlPkMTdzxcKI5t3WqpRndLDGG50iLia71EvSoojMZALNGSTFslEj8H6tySqMpXx/OHkiZOSw\n",
       "AbSKtqaQz8bXC/fmmfdj/TpcIED7ESuFamBAsqoqMN7sCmfrPwVGF0Xjky5VEpMJxPjRcUliKZ12\n",
       "asBZcDdQR7EMROSc0gzaMuXvDpNvMUCWJjMV3IQyyccjtwHu0SWCszq2VL72FJL3VeejXqCAmCRv\n",
       "mBYHj2LapxlupxWGq9YnUokQecMZhglVtT7W36q1B6zCzQxLIwx+8yB+R0WdUMWajiimzOhsv//B\n",
       "rKurOZE7hW/H11WoG1yMHa5XmifymDJpRkKxEgMkjE1MYMopEM1CRcJD5TwsNakyPyZlZycbnGaH\n",
       "4Yuf06aj1JwuqFHZLNI1qSUY+eP/4BsM/XwEOw1GmQAAAABJRU5ErkJggg==\n",
       "\" style=\"display:inline;vertical-align:middle;\" /></a></td></tr>\n",
       "<tr><td>1</td><td>Literal</td><td></td><td><a class=\"ProveItLink\" href=\"../../../packages/proveit/logic/set_theory/enumeration/__pv_it/07381ed5b23806e8d7914b78cb6667769e3708dd0/expr.ipynb\"><img src=\"data:image/png;base64,iVBORw0KGgoAAAANSUhEUgAAAB4AAAAOBAMAAADKyLEKAAAAMFBMVEX///8iIiIQEBCIiIjMzMzc\n",
       "3Nyqqqp2dnZEREQyMjK6urru7u5mZmZUVFSYmJgAAACI6eGPAAAAAXRSTlMAQObYZgAAALRJREFU\n",
       "CNdjYGDgu3Nm3wIGBJjHwN0PZW5yYGDgLWBgyITy8zcwMMQDxZyh/INAvD6BgcEFypcB4vjPDiBm\n",
       "TPFRrhs/LjMwMP//38rAwCbKEMPA9gEkE3fp0waG+AUMRxh4JkC01T9guPTOOICBEWgVH5C//wHD\n",
       "H5D4fqCz9oCMDGD4DLaegRXslLMMDMpAgxlOMmQxHDRgYG5gYLBk4D7KcIe7gOHC2rt9QCXsh40Z\n",
       "GCKMGQDRkC8N/Ph1XAAAAABJRU5ErkJggg==\n",
       "\" style=\"display:inline;vertical-align:middle;\" /></a></td></tr>\n",
       "<tr><td>2</td><td>ExprTuple</td><td>3</td><td><a class=\"ProveItLink\" href=\"../96e5acd17e71154c56b3abd3221f14714e5afdc40/expr.ipynb\"><img src=\"data:image/png;base64,iVBORw0KGgoAAAANSUhEUgAAAF4AAAAVBAMAAAA9Y0TyAAAAMFBMVEX////c3NwiIiJERESqqqqY\n",
       "mJh2dnZmZmYQEBDu7u4yMjJUVFTMzMyIiIi6uroAAAAs73DqAAAAAXRSTlMAQObYZgAAAdRJREFU\n",
       "KM+VUztIA0EQfTHJ5S4mp2ApYkgpCIraW9toZZGABBHSioXiB43BxkaDdoIogkgaiYgKipDCzsKA\n",
       "nRgUqyhIImrnb2Z2LycaC6+Y2X37bnbmzSzw388uuOtH5fy3tamCn/PKOt0jG8rpg5nf3PjE5JDg\n",
       "Wd55R17JBjP6MPiLHhzAaoXxsKSzcd9Ltli9OPGTfwj4Nhk3JWa/gIvOqZVSfn0r2iYLzxtlW2D8\n",
       "QfZjUvlmNVy32NC2k6D9Qrs84+NSTPqIbICysJIJtGaQFFaTQ4fn81p8Etvi33VNMOwKboA+QTvd\n",
       "/G8+nxvB+JKTHmCSvGeBCLqAklTR4fI98WWuroQP3vkqbBuInzELfNmFJJ2ORnW99Bms+IXiGxGH\n",
       "j/5M6E3zq+0DKFNL8RekXXJicg+mEE45+USq+o5SRk+ST48wpWleioId+TkmtAOHT61CgGPGlHIb\n",
       "MmAGRcE0ygPQeq44cxdoBy6VnnfsyiK0zfevFudIuF0lyk5e8evtk32+nHCTZb1S8LzYYXcefMeu\n",
       "PnpOaIT8uR61HaRIEYsUMAq1HwDjWZhZLQTNc13CS1Ox9sfbYrwZ/mSjbmIOvuIsLfb+4DPu+XZ3\n",
       "i3LhfG064V/YHHPJE27c6wAAAABJRU5ErkJggg==\n",
       "\" style=\"display:inline;vertical-align:middle;\" /></a></td></tr>\n",
       "<tr><td>3</td><td>Operation</td><td>operator:&nbsp;4<br>operands:&nbsp;5<br></td><td><a class=\"ProveItLink\" href=\"../61e78fb3db4ab1d80e53b282290f659b16dcb5260/expr.ipynb\"><img src=\"data:image/png;base64,iVBORw0KGgoAAAANSUhEUgAAAFEAAAAVBAMAAADMaB9/AAAAMFBMVEX///8yMjLMzMwQEBAiIiJm\n",
       "Zma6urqYmJiqqqp2dnZERETc3NyIiIhUVFTu7u4AAAAe+HC4AAAAAXRSTlMAQObYZgAAAZBJREFU\n",
       "KM9jYCAdsB2A0GV41Lw9uwFI6kJ5rAoYCtivhj5PADFW9hcASTmYuACGSnEGvvUgmu/bCyDJcwAm\n",
       "XomukHcCA0MjiMHxAUQyP4BJPIZQfAddXCDG7we6RwfsMAcQmQg3gqsBTCnWwQTygQJKIOde9g0A\n",
       "UpFA/DKSgfsfAyeIy8C9Dq51/x+oJ/kPQFzNwDAhn4HnAwMH2E6uDXCVPP//r4Y7g4HBjIGBqSGE\n",
       "gWsBA5sBiP8KyUvbL38G+6IfzPsG9AODDcgCJrAPk11cYD4CgvmgcGSYAlPJwPGPQV8BqlIXEe5A\n",
       "/B6sci2YbwEKBQGGwwxQ25/AVT4FuRDsahswfzkQMwaAtLGD7eQtgKkEBXosJIrA/KkgMy+wfWeA\n",
       "hhKfG0xlyAEGngXgNPQPzE8Bya45+htoMjgxMGwMgqq8kHt3OSS0IB5kBruE0wEemwy9Ii4oiaWW\n",
       "C+IgdmAyuMLwGBhxc3AkTkOYJ4GpzpNhJdAJAjhUVkZDGXsZGHqOAp3Iu4FQ7uCGJtBDOOQB/WVa\n",
       "/6Nv0sgAAAAASUVORK5CYII=\n",
       "\" style=\"display:inline;vertical-align:middle;\" /></a></td></tr>\n",
       "<tr><td>4</td><td>Literal</td><td></td><td><a class=\"ProveItLink\" href=\"../../../packages/proveit/logic/set_theory/membership/__pv_it/088cbc857536a28d4119ad9639a84270ccb0545d0/expr.ipynb\"><img src=\"data:image/png;base64,iVBORw0KGgoAAAANSUhEUgAAAAwAAAAMBAMAAACkW0HUAAAALVBMVEX///+qqqpmZmZUVFQQEBC6\n",
       "urpERETc3NyYmJjMzMwiIiIyMjKIiIju7u4AAACYsrA9AAAAAXRSTlMAQObYZgAAADxJREFUCNdj\n",
       "YOA9vWrVBgaG2b0MQMCeCyIZ2ArA1DUwyRCyahVIyWQI7xaEYm4AU7xLIdxqTQgtvGvVBgCkcQ7e\n",
       "geM/tQAAAABJRU5ErkJggg==\n",
       "\" style=\"display:inline;vertical-align:middle;\" /></a></td></tr>\n",
       "<tr><td>5</td><td>ExprTuple</td><td>6, 7</td><td><a class=\"ProveItLink\" href=\"../e01e08251374873172a7db66913653bf1704d1140/expr.ipynb\"><img src=\"data:image/png;base64,iVBORw0KGgoAAAANSUhEUgAAAFEAAAAVBAMAAADMaB9/AAAAMFBMVEX////c3NwiIiJERESqqqqY\n",
       "mJh2dnZmZmYQEBDu7u4yMjJUVFTMzMyIiIi6uroAAAAs73DqAAAAAXRSTlMAQObYZgAAAZhJREFU\n",
       "KM+Nk79PwlAQxw+hpQUk7Az2H3Ay7PwHdHIhIY0xYSIxDho1UWJcXKQJi5ssxrBhTHQwJgxuLiRu\n",
       "BoJxk4X6gw3Fu299bYOLN7z3vQ/fcu/utUT/j2zvr67MmwAeZDHvLgPNkexGXOXtnQpAW7L4+oSU\n",
       "lmiFxpRNTU/AIgqevRZJaYnV0HlNlGgJMFxJS4C+ljgNjLEpUaYnYIR8E+so+D1eDJr8ZGdXwBYO\n",
       "fXgjG2uz6tCSS/pG8J+zvmwMzpF/YWWtZz0a4mQqhrOPHMCJOgwH6/ukRStcsx4etNw4BviWLOEB\n",
       "snaNnhTIeJGB6hMAOHVLOankZqZRp81n951HaLUDKnqXFuuR6ia3FnsDKGCQ/shFX+AxTTqS6Upr\n",
       "SR9UcUXPcIreo7GNoZD5Lm/AMtGjP6UXsYz9yxHdHBzwUFL8qNlgkc7eXtkEYHBKT/6hoGlN3WY2\n",
       "F/bPQHNI6xT8lHXaMqWvGtLIpGp404y29Zu3acGJO1y4NecEyJNWVWXylBjs854GiHwMALEIULo/\n",
       "/3Uw+AEFHG4DY1YbtQAAAABJRU5ErkJggg==\n",
       "\" style=\"display:inline;vertical-align:middle;\" /></a></td></tr>\n",
       "<tr><td>6</td><td>Operation</td><td>operator:&nbsp;8<br>operand:&nbsp;9<br></td><td><a class=\"ProveItLink\" href=\"../../../packages/proveit/__pv_it/e4f99fbf53c5e24e1c1e622903a7736f418f26ef0/expr.ipynb\"><img src=\"data:image/png;base64,iVBORw0KGgoAAAANSUhEUgAAACgAAAAVBAMAAADGNLEtAAAAMFBMVEX///8yMjLMzMwQEBAiIiJm\n",
       "Zma6urqYmJiqqqp2dnZERETc3NyIiIhUVFTu7u4AAAAe+HC4AAAAAXRSTlMAQObYZgAAAQlJREFU\n",
       "GNNjYMAPciAUewKYent2A5BkugCVDAKTK/sLgCTjA6ggI4jg+/YCRJ2BGcM+AUhwfACz7WCCfAZA\n",
       "gtUBxGQTgNu4Aqj6sm8ASAqo6WUkA/c/BoapQC7/AbDxQMsm5DPwAM1qBHL3K4AEmRMYmBpCGLgW\n",
       "MDAkA7n9YIP4Exj4GGzA2vSB3CkwQQaOfwz6ChDBtWBB5gagZQIMhxkg2m3AglxAixgDwCoKQR4C\n",
       "C3IC3cV6ge07A9hJbP/AgmxAL/CtOfobyBRjYOCBesUarN4B7M1akGEgUMnAcIXhMdA6zgMMhk9g\n",
       "IfaAwZNhJZDxEKggGirIfYGh5ygo1G8jR8ceCMWjwAAAl6o3tGQ/mUwAAAAASUVORK5CYII=\n",
       "\" style=\"display:inline;vertical-align:middle;\" /></a></td></tr>\n",
       "<tr><td>7</td><td>Variable</td><td></td><td><a class=\"ProveItLink\" href=\"../../../packages/proveit/__pv_it/abeee18594afe51bfb1be95d9591fbba24ac53f30/expr.ipynb\"><img src=\"data:image/png;base64,iVBORw0KGgoAAAANSUhEUgAAAA0AAAAOBAMAAAAGUYvhAAAAMFBMVEX///8iIiIQEBCIiIjMzMzc\n",
       "3Nyqqqp2dnZEREQyMjK6urru7u5mZmZUVFSYmJgAAACI6eGPAAAAAXRSTlMAQObYZgAAAF1JREFU\n",
       "CNdjYGDgu3Nm3wIGBoZ5DNz9QIq3gIEhE0jHOzAwOAPp9QkMDC4g/megABAw///fCmbEXfq0Acxg\n",
       "qH8ANAVI7wfSe0BKAyBGnAXigwYMzA1A+sLau31ACgAz0hhbkhGHbwAAAABJRU5ErkJggg==\n",
       "\" style=\"display:inline;vertical-align:middle;\" /></a></td></tr>\n",
       "<tr><td>8</td><td>Variable</td><td></td><td><a class=\"ProveItLink\" href=\"../../../packages/proveit/__pv_it/4d51ee1e62d011d06d4528b97697bf3da60c9de60/expr.ipynb\"><img src=\"data:image/png;base64,iVBORw0KGgoAAAANSUhEUgAAAAsAAAASBAMAAAB/WzlGAAAAMFBMVEX///8yMjLMzMwQEBAiIiJm\n",
       "Zma6urqYmJiqqqp2dnZERETc3NyIiIhUVFTu7u4AAAAe+HC4AAAAAXRSTlMAQObYZgAAAFVJREFU\n",
       "CNdjYGBgeHt2A5BkWNlfACT5vr0AcTg+gEgGVgcQyX7ZNwBE8x8AC+5XAFP9YJJhCoRaC6FswCTf\n",
       "NzDF9g9M8QiAyFoukPEMhk/AYpXRIBIAEwsRcZ82juYAAAAASUVORK5CYII=\n",
       "\" style=\"display:inline;vertical-align:middle;\" /></a></td></tr>\n",
       "<tr><td>9</td><td>Variable</td><td></td><td><a class=\"ProveItLink\" href=\"../../../packages/proveit/__pv_it/f8b9edf8e16034727f0aad55bb83e392c3db40d40/expr.ipynb\"><img src=\"data:image/png;base64,iVBORw0KGgoAAAANSUhEUgAAAAsAAAANBAMAAACN24kIAAAAMFBMVEX///+YmJhUVFQyMjIQEBBE\n",
       "REQiIiKqqqrMzMyIiIi6urrc3NxmZmZ2dnbu7u4AAADXeCicAAAAAXRSTlMAQObYZgAAAFhJREFU\n",
       "CNdj4LtzgWH/AwZerg8M8xkY2nkSGEIZGB6wTGD4ycDAUP+A4weQOszA6QCkbBhYFYDUIYb1AkDq\n",
       "6czzGxhA4BoQMyXwuQMptgusF4AU+8xTQBIAUqMVoSp/SLMAAAAASUVORK5CYII=\n",
       "\" style=\"display:inline;vertical-align:middle;\" /></a></td></tr>\n",
       "</table>\n"
      ],
      "text/plain": [
       "0. {f(y) in S}\n",
       "   core type: Operation\n",
       "   operator: 1\n",
       "   operands: 2\n",
       "1. Set\n",
       "   core type: Literal\n",
       "   sub-expressions: \n",
       "2. (f(y) in S)\n",
       "   core type: ExprTuple\n",
       "   sub-expressions: 3\n",
       "3. f(y) in S\n",
       "   core type: Operation\n",
       "   operator: 4\n",
       "   operands: 5\n",
       "4. in\n",
       "   core type: Literal\n",
       "   sub-expressions: \n",
       "5. (f(y) , S)\n",
       "   core type: ExprTuple\n",
       "   sub-expressions: 6, 7\n",
       "6. f(y)\n",
       "   core type: Operation\n",
       "   operator: 8\n",
       "   operand: 9\n",
       "7. S\n",
       "   core type: Variable\n",
       "   sub-expressions: \n",
       "8. f\n",
       "   core type: Variable\n",
       "   sub-expressions: \n",
       "9. y\n",
       "   core type: Variable\n",
       "   sub-expressions: "
      ]
     },
     "execution_count": 4,
     "metadata": {},
     "output_type": "execute_result"
    }
   ],
   "source": [
    "# display the expression information\n",
    "expr.exprInfo()"
   ]
  },
  {
   "cell_type": "code",
   "execution_count": null,
   "metadata": {},
   "outputs": [],
   "source": []
  }
 ],
 "metadata": {
  "kernelspec": {
   "display_name": "Python 3",
   "language": "python",
   "name": "python3"
  }
 },
 "nbformat": 4,
 "nbformat_minor": 0
}
