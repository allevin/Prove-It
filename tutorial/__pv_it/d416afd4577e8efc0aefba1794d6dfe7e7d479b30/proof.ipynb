{
 "cells": [
  {
   "cell_type": "markdown",
   "metadata": {},
   "source": [
    "Show the Proof\n",
    "========"
   ]
  },
  {
   "cell_type": "code",
   "execution_count": 1,
   "metadata": {},
   "outputs": [
    {
     "data": {
      "text/html": [
       "<table><tr><th>&nbsp;</th><th>step type</th><th>requirements</th><th>statement</th></tr>\n",
       "<tr><td>0</td><td>assumption</td><td></td><td><span style=\"font-size:20px;\"><a class=\"ProveItLink\" href=\"../be94a5512d24b8bc68d23f6864972f9dfc6af9200/expr.ipynb\"><img src=\"data:image/png;base64,iVBORw0KGgoAAAANSUhEUgAAAJcAAAAWBAMAAAA/XRM3AAAAMFBMVEX///9ERETc3NyqqqpUVFS6\n",
       "urrMzMwyMjIQEBCIiIh2dnYiIiLu7u5mZmaYmJgAAABJJ2g3AAAAAXRSTlMAQObYZgAAArZJREFU\n",
       "OMulVU1oE0EU/pJstkk6zY8/1FawMfaiCBY8SA9ikCJWL7lpEekqHrylCN6KBKWCIDSHHqTQdkVE\n",
       "WxQqeNCiEg+lWhQVoUJKSk4KohhaRahp9b2ZbLpJlgV1YGfevJ393nvffDMLILyE/2/6VJwHMQPx\n",
       "N5/5s/WecIrRrrAZLKFZurJuECO/e3oeyuDnGl8ucPeBu1AGoS4am3KuCf0EPJfZGGx818Td3QqY\n",
       "N0rjTndOVgHfKhfiUEDYtIHJaO9dwYI/6Js1MgIOBYiMHexzIpGYdgXzlABthYwTTm8328Eisdh2\n",
       "0xUsMgC8YTby9OwZ2TWmqp3Pw1sG7ltgLbRMM+CJOzGVn/yorLQJ/Skbl6gqM/wsoAox+1kNOEDm\n",
       "N56fJ5X4k5hzyuc0/CVlTRybystwQ1QLAfgMGaxrER7K9yRv6VuSzVX2TmO8DudlYYndiKpph8U7\n",
       "bYSAVvEKXEOECk7zpLVIqBxjHE/qdm/r3lcQREdRzX9hA4y21NKHr4y0ocCamXSNOMOcnqT0R/qO\n",
       "kN0XxXV8lWsf3bbIW7PA5KnZZ0BlSoTfgCpTchZiKj2dxNw9LUpLRXZZz2BArn09vLIhM9V2kN7i\n",
       "EwjmJBwRtYWGT3ZpwLdIXaqJa/LOTgejekUo3qMVmZUtMFLBoeI27IbgyluS/nXYpCHBiEgWk9wv\n",
       "zdSy+oNYrA2zpC2VYcd3i6VTwPPR+ckixDCtFm1jy+S8WAv2RaoEvBmBVMAQSZ7vB87UqyVQ1aM/\n",
       "brFUe5wUyaU7ML0XEDD6gcPseQdscjzUyqLnOF7QjRPKWmBhC0y0HRzN6evw9bZSKXzhLRQKjedi\n",
       "0A42g3bWQvU+E49rIyOBXhpvEmeOrdMyOJ3uMQ7KZehD6vNb9rVn0e4fcDvy3oYLLWhU/wF1rYju\n",
       "0X/9q/wBC4moCzz5digAAAAASUVORK5CYII=\n",
       "\" style=\"display:inline;vertical-align:middle;\" /></a> <a class=\"ProveItLink\" href=\"proof.ipynb\" style=\"text-decoration: none\">&#x22A2;&nbsp;</a><a class=\"ProveItLink\" href=\"../922477d3bdbec3e97dd5abd212249d554f90c2bd0/expr.ipynb\"><img src=\"data:image/png;base64,iVBORw0KGgoAAAANSUhEUgAAAIMAAAAWBAMAAAARGDKlAAAAMFBMVEX///8QEBC6urrMzMxUVFRm\n",
       "ZmZERETc3NwyMjKqqqp2dnaIiIiYmJgiIiLu7u4AAAAU9Wx4AAAAAXRSTlMAQObYZgAAAmdJREFU\n",
       "OMulVE1o1FAQ/nazm+xusq/BHkRF2YNQQaQt2INCqVRpwSJdxarQg9VDevBgDmIFUXPxJrKgnjw0\n",
       "l1LcYllQF2SLDV4ERdyzpwjSg4JdaKlixTqTn9Y1IVAMvGTezLx58818E+D/H3c7zgcjmte0miy8\n",
       "Szqnjq6eODXMknQsYsz2AE9YuJ94d4cFXDJJyMWkTLbr9FEmEkMM2MA0LTRijG/9yNlKYojFEvCh\n",
       "TMK+GOMnQJudmrqVXMSrtEbplrQVY5TJsGYYH5ND/ADEGpeOwChzw4/HPa2YsXHHRYHSOw5Mxh3s\n",
       "qy70eIL0E+hnHDkH+IL3zl5PXUi3sAjkKbX9EHEJpsvoDpq6Wp2ZZSFFNbHp2ANPfSTbhEF+OlCE\n",
       "6rSfFi/GHFJDDtD+DptbYiYOhZxM1bBOObboEqf4T7vrXd9cLLvQgpPNv0IAe0K3aVda8UMI6zDt\n",
       "5wafE/J0HSlXY9wo7i6FtCgHQop7r6xA+NsLUHUfCCYHqTbuEDt87TB7kfPRnN6obNHCR0SA36gt\n",
       "vPKD3IVMhNe4kI8o0TTusfb2IdRxNDhxTQ9oEeKk/uV/ybpSwzJjO4tux1NSfjW2f/e8TmIE/YZh\n",
       "1EQJouVlc25jJGxSE+LKfHWBKMneS42LNDg5zlHjWyRdYq8d6MRnFvIVSJHJ2bkpdXnvpz7Bg5IV\n",
       "rAJumOgkvmR4KLMTkM2YkQoeQpBpil3ch1C19HJ8HgMOHtYtiMscom/sfIRuW8NOIYq2bCNCS0cx\n",
       "M1SYAtUidliU8JejMtTGGXpn2lOVTNk+kDhwNyOaZ+1bjSLb2//7/gGtw5MDe9k1IQAAAABJRU5E\n",
       "rkJggg==\n",
       "\" style=\"display:inline;vertical-align:middle;\" /></a></span></td></tr>\n",
       "</table>"
      ],
      "text/plain": [
       "<proveit._core_.proof._ShowProof at 0x7f94ebad7550>"
      ]
     },
     "execution_count": 1,
     "metadata": {},
     "output_type": "execute_result"
    }
   ],
   "source": [
    "import proveit\n",
    "%show_proof"
   ]
  },
  {
   "cell_type": "code",
   "execution_count": null,
   "metadata": {},
   "outputs": [],
   "source": []
  }
 ],
 "metadata": {
  "kernelspec": {
   "display_name": "Python 3",
   "language": "python",
   "name": "python3"
  }
 },
 "nbformat": 4,
 "nbformat_minor": 0
}
