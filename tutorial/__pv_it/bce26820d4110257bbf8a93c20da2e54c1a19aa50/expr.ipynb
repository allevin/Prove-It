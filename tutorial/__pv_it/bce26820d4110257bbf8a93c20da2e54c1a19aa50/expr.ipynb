{
 "cells": [
  {
   "cell_type": "markdown",
   "metadata": {},
   "source": [
    "Expression of type <a class=\"ProveItLink\" href=\"../../../doc/html/api/proveit.ExprTuple.html\">ExprTuple</a>\n",
    "=======================\n",
    "# from context <a class=\"ProveItLink\" href=\"../../_context_.ipynb\">tutorial</a>"
   ]
  },
  {
   "cell_type": "code",
   "execution_count": 1,
   "metadata": {},
   "outputs": [],
   "source": [
    "# import Expression classes needed to build the expression\n",
    "from proveit import ExprTuple\n",
    "from proveit._common_ import a, x, y\n",
    "from proveit.number import Add, Less"
   ]
  },
  {
   "cell_type": "code",
   "execution_count": 2,
   "metadata": {},
   "outputs": [
    {
     "data": {
      "text/html": [
       "<strong id=\"expr\">expr:</strong> <a class=\"ProveItLink\" href=\"expr.ipynb\"><img src=\"data:image/png;base64,iVBORw0KGgoAAAANSUhEUgAAAHMAAAAVBAMAAACHwMySAAAAMFBMVEX////c3NwiIiJERESqqqqY\n",
       "mJh2dnZmZmYQEBDu7u4yMjJUVFTMzMyIiIi6uroAAAAs73DqAAAAAXRSTlMAQObYZgAAAcVJREFU\n",
       "OMulVD1Lw1AUPWnSNqn9yOYgYhc/FkEQR6U/QLE6OEpwUBwqTg5+VnFxUCIFcTODUkwdFDdBEHRz\n",
       "yeIg2FqcRBCzdFPx5b0m+kIiiIHDe7k35917z7s3wD+etBVsfw1lTDaB22B/8jSUGr9iwHGwP6GH\n",
       "J2owpPz5Cst0qXLGXe5tgkH2nZ68qNN1i7OOcG/7DC8+0SpXbDV+oYo5igUnx8u5dWaUympTCo2Y\n",
       "C2cjKxxVmdHQoSM2DwdHxPKsijZ1pbrc9BN5YA/j+Q2OGkvbeCQBDIodcnoD8T7q6fVykknFGvls\n",
       "mKPexLPoJ9UUKT6BFhsRqnNpyKNmCFXHua9WXbbwQaS0KQg104cDJs7t4U8qsE33i6bZY5oVZzuq\n",
       "J9896ibQYWEUrMjWTjfhnCPfOxRe4UWkil7CA8BBDhcSC4u9XnaGSGQaS9m456lliKRBowbFjKOm\n",
       "1B1zM40ykYn2UkMsChZPXcJbHu7lPDnXWruueQJJJ7QlslAGZ6fvfC1Rqq6Ri0/UKWQ1uMXXQ7pp\n",
       "6rsRo1owdSJoeFuyCpEVhSb+MnQRTSSRFIMBbcFUIWjUpeqqE1tlgBDyg2kPnfQHhi83pHNVSL3s\n",
       "gQAAAABJRU5ErkJggg==\n",
       "\" style=\"display:inline;vertical-align:middle;\" /></a><br>"
      ],
      "text/plain": [
       "expr: (a < (x + y))"
      ]
     },
     "execution_count": 2,
     "metadata": {},
     "output_type": "execute_result"
    }
   ],
   "source": [
    "# build up the expression from sub-expressions\n",
    "expr = ExprTuple(Less(a, Add(x, y)))"
   ]
  },
  {
   "cell_type": "code",
   "execution_count": 3,
   "metadata": {},
   "outputs": [
    {
     "name": "stdout",
     "output_type": "stream",
     "text": [
      "Passed sanity check: built 'expr' is the same as the stored Expression.\n"
     ]
    }
   ],
   "source": [
    "# check that the built expression is the same as the stored expression\n",
    "%check_expr"
   ]
  },
  {
   "cell_type": "code",
   "execution_count": 4,
   "metadata": {},
   "outputs": [
    {
     "data": {
      "text/html": [
       "<table><tr><th>&nbsp;</th><th>core type</th><th>sub-expressions</th><th>expression</th></tr>\n",
       "<tr><td>0</td><td>ExprTuple</td><td>1</td><td><a class=\"ProveItLink\" href=\"expr.ipynb\"><img src=\"data:image/png;base64,iVBORw0KGgoAAAANSUhEUgAAAHMAAAAVBAMAAACHwMySAAAAMFBMVEX////c3NwiIiJERESqqqqY\n",
       "mJh2dnZmZmYQEBDu7u4yMjJUVFTMzMyIiIi6uroAAAAs73DqAAAAAXRSTlMAQObYZgAAAcVJREFU\n",
       "OMulVD1Lw1AUPWnSNqn9yOYgYhc/FkEQR6U/QLE6OEpwUBwqTg5+VnFxUCIFcTODUkwdFDdBEHRz\n",
       "yeIg2FqcRBCzdFPx5b0m+kIiiIHDe7k35917z7s3wD+etBVsfw1lTDaB22B/8jSUGr9iwHGwP6GH\n",
       "J2owpPz5Cst0qXLGXe5tgkH2nZ68qNN1i7OOcG/7DC8+0SpXbDV+oYo5igUnx8u5dWaUympTCo2Y\n",
       "C2cjKxxVmdHQoSM2DwdHxPKsijZ1pbrc9BN5YA/j+Q2OGkvbeCQBDIodcnoD8T7q6fVykknFGvls\n",
       "mKPexLPoJ9UUKT6BFhsRqnNpyKNmCFXHua9WXbbwQaS0KQg104cDJs7t4U8qsE33i6bZY5oVZzuq\n",
       "J9896ibQYWEUrMjWTjfhnCPfOxRe4UWkil7CA8BBDhcSC4u9XnaGSGQaS9m456lliKRBowbFjKOm\n",
       "1B1zM40ykYn2UkMsChZPXcJbHu7lPDnXWruueQJJJ7QlslAGZ6fvfC1Rqq6Ri0/UKWQ1uMXXQ7pp\n",
       "6rsRo1owdSJoeFuyCpEVhSb+MnQRTSSRFIMBbcFUIWjUpeqqE1tlgBDyg2kPnfQHhi83pHNVSL3s\n",
       "gQAAAABJRU5ErkJggg==\n",
       "\" style=\"display:inline;vertical-align:middle;\" /></a></td></tr>\n",
       "<tr><td>1</td><td>Operation</td><td>operator:&nbsp;2<br>operands:&nbsp;3<br></td><td><a class=\"ProveItLink\" href=\"../5a0129c3f07190c7e1fa4b212e1a25c1e55babc50/expr.ipynb\"><img src=\"data:image/png;base64,iVBORw0KGgoAAAANSUhEUgAAAGUAAAAVBAMAAACtcD09AAAAMFBMVEX///8yMjKqqqrMzMzu7u4i\n",
       "IiJmZmaYmJhEREQQEBC6urp2dnaIiIhUVFTc3NwAAAD87Fq/AAAAAXRSTlMAQObYZgAAAYlJREFU\n",
       "OMtjYKAaWINTpgqXBPMFnHrYDHBIMDrgdoIAugBfMpg6gyLoh8KrRnfTxQVgegqKqA4KzxNVC5cs\n",
       "xLFcAnj0cCgAnXNn1zwIj0nsAdSfG4DCe+7p5KDoYdm2geG9AwN3AgPDygccH8BiPNEwnzMWMDB4\n",
       "M5QWTEXRw831geE80GQBBr7vDGwNYKEYuPWcQF9tAMoro+gxYgtg6AA6fAID7wcG1gMgIY8uuB5+\n",
       "oB4Hhhto/nHgPMDwBxhOHxj4Gxj8IT63FULWw8AwB8xOFBSMFBSUBTH1HZg/g/W8P8CgzwDxyLNw\n",
       "mNsUQFH1mYEFNdwSGXgmgN3mr8BwkQmaHrxjIJo5gGFQx/OB4QiqHjEGDmCaYhcAhhFTGDfMUeyQ\n",
       "oAMGJ9N3jgl8B1D15DKsLwBL8t05ZXEK7nsmYXCcBjCw9GzZfRwtTj3O5AMjkHEB9nQ4D0c62IqZ\n",
       "dnCkQ2hm4g1gmQSk9pCSF1g3cADTFIsADj182PIc05kskG0PcGWsNziz3GEGBgAh4lNih6BnfgAA\n",
       "AABJRU5ErkJggg==\n",
       "\" style=\"display:inline;vertical-align:middle;\" /></a></td></tr>\n",
       "<tr><td>2</td><td>Literal</td><td></td><td><a class=\"ProveItLink\" href=\"../../../packages/proveit/number/ordering/__pv_it/7c444b9b2efa607ed6397b492680dde2810212f00/expr.ipynb\"><img src=\"data:image/png;base64,iVBORw0KGgoAAAANSUhEUgAAAA4AAAAMBAMAAACgrpHpAAAALVBMVEX///+YmJhERETu7u52dnYi\n",
       "IiKIiIiqqqq6uroyMjJUVFTMzMxmZmbc3NwAAADmAst+AAAAAXRSTlMAQObYZgAAAD5JREFUCNdj\n",
       "YAAB3tNgintlA4jimLUBRLHPuQCi2EIMQBRLGFgJg5EGhGbYNR3KuBMIZZiEGUAYjCFQBvtsABzC\n",
       "Cm98G6SsAAAAAElFTkSuQmCC\n",
       "\" style=\"display:inline;vertical-align:middle;\" /></a></td></tr>\n",
       "<tr><td>3</td><td>ExprTuple</td><td>4, 5</td><td><a class=\"ProveItLink\" href=\"../f7da9fb38a709d5210ac26eb03c0f685026e02df0/expr.ipynb\"><img src=\"data:image/png;base64,iVBORw0KGgoAAAANSUhEUgAAAFEAAAAVBAMAAADMaB9/AAAAMFBMVEX////c3NwiIiJERESqqqqY\n",
       "mJh2dnZmZmYQEBDu7u4yMjJUVFTMzMyIiIi6uroAAAAs73DqAAAAAXRSTlMAQObYZgAAAWJJREFU\n",
       "KM+Nk71Lw0AYxp+YpM3ZpmR3aEcXJ3EsinOL1cFRgoPFoVAQHCpqFFc1IohjllKMi+IfoIObSxYF\n",
       "wWBxElEMfmypeJcj4pUGkuG9ex9+vJ8XIP1X8FJAC8zcpAmXvaLmJFVmB9CTkh8I3jyg2QlkVfCO\n",
       "gRekIuUprLJz5O7ZiASpcV5dF0hSN1G0kWmizQa1hUmuH2Guti2QmUKAR0BxsEe9Yg0rXDepWhHI\n",
       "62wJ4zSYhR/qXQJjXLdx0VenrXnoAfkgIj9BwhjYjWzLdUdd95RdZ+x8GJE7tI0elIBwUApBxN5b\n",
       "0K0o+wRt7ws5pwI22Fk9wL1IdiCfAaqDOnXamG6a5IN2+C1bkieSa3ivgU3piY3Tfy13yb4BUl5e\n",
       "uu2b/KG/SWc93IVm/D0/I2FHi3ybqhkLqrjNN37kSoQ2jcb/V6cOXP+QKdNYxGFFxtrg56f4Gywy\n",
       "q0xK83c8AL9D7VPQcT0VZQAAAABJRU5ErkJggg==\n",
       "\" style=\"display:inline;vertical-align:middle;\" /></a></td></tr>\n",
       "<tr><td>4</td><td>Variable</td><td></td><td><a class=\"ProveItLink\" href=\"../../../packages/proveit/__pv_it/07527342713064c87612d00d8557c53d53d5324a0/expr.ipynb\"><img src=\"data:image/png;base64,iVBORw0KGgoAAAANSUhEUgAAAAsAAAAJBAMAAAAWSsseAAAAMFBMVEX///8yMjKqqqrMzMzu7u4i\n",
       "IiJmZmaYmJhEREQQEBC6urp2dnaIiIhUVFTc3NwAAAD87Fq/AAAAAXRSTlMAQObYZgAAAEhJREFU\n",
       "CNdjYOC7s2seAwPDygccHxgY+L4zsDUwMPB+YGA9wMDA38Dgb8DA8P4Agz6DA4O/AsNFJgMGxgKm\n",
       "MG6gyjunLE4xAAAZTBA5TB6DCwAAAABJRU5ErkJggg==\n",
       "\" style=\"display:inline;vertical-align:middle;\" /></a></td></tr>\n",
       "<tr><td>5</td><td>Operation</td><td>operator:&nbsp;6<br>operands:&nbsp;7<br></td><td><a class=\"ProveItLink\" href=\"../2b7242641f099516c8ff5fd4529300180f7dd0a40/expr.ipynb\"><img src=\"data:image/png;base64,iVBORw0KGgoAAAANSUhEUgAAADAAAAAQBAMAAACigOGCAAAAMFBMVEX///+6uroyMjJERETMzMwQ\n",
       "EBAiIiKYmJju7u5mZmaqqqpUVFSIiIh2dnbc3NwAAAAWgogoAAAAAXRSTlMAQObYZgAAAKxJREFU\n",
       "GNNjYEAAjgcM2AHXAeIk3p5+dfIAikTvXAa+HwwcF9jTWRNQJC7IM/B8YOAFElwOyBIsC6YxMBsw\n",
       "cDBwG6DawcEQw8APYrKC+ZxKSmpBSkobQAp+MPiDzHjvwNCAYgenAsNRBgb2B+cZeFAlmCYwWDMw\n",
       "rC8wZXiD6g/ODYzfGRiaz/beKUCV4LA5+Q+Hz3kTUCQYoRLbGFoXYA2zXAZb7IG55qQAAwMAhA8v\n",
       "1pmWzm0AAAAASUVORK5CYII=\n",
       "\" style=\"display:inline;vertical-align:middle;\" /></a></td></tr>\n",
       "<tr><td>6</td><td>Literal</td><td></td><td><a class=\"ProveItLink\" href=\"../../../packages/proveit/number/addition/__pv_it/3e6688136fa3c7aefbebe51301b7c3ebf0b69c440/expr.ipynb\"><img src=\"data:image/png;base64,iVBORw0KGgoAAAANSUhEUgAAAA4AAAAOBAMAAADtZjDiAAAAJFBMVEX///+6urpUVFQQEBAiIiIy\n",
       "MjJmZmaIiIiqqqrc3Nzu7u4AAACgHpL+AAAAAXRSTlMAQObYZgAAAB5JREFUCNdjYGBgWMkAAe2k\n",
       "0Kmhoc6hoUGk6BMHYgAHOwjcado9fwAAAABJRU5ErkJggg==\n",
       "\" style=\"display:inline;vertical-align:middle;\" /></a></td></tr>\n",
       "<tr><td>7</td><td>ExprTuple</td><td>8, 9</td><td><a class=\"ProveItLink\" href=\"../a6a2ac9310c73e21661c7634808321702fb219240/expr.ipynb\"><img src=\"data:image/png;base64,iVBORw0KGgoAAAANSUhEUgAAACwAAAAVBAMAAADP3xFXAAAAMFBMVEX////c3NwiIiJERESqqqqY\n",
       "mJh2dnZmZmYQEBDu7u4yMjJUVFTMzMyIiIi6uroAAAAs73DqAAAAAXRSTlMAQObYZgAAAQtJREFU\n",
       "GNNjYMAB+C6gi7A+ABKnMVXWAPFKTGEuBgbeC5jCrAkMHBMwhTkbGF5hc4YJQxmQFLstch1i1rQy\n",
       "BsafDAzpDEuBehJYVTkUwMIJ7xl4PzAweDH0MTCwAZksB0CiPA5FDMwGDAwvGP4BVTNwG0DtYuhl\n",
       "4Acadx4kzMDAAXMly0+G8wdAwi0gnvwBBog72Rcw3GAAGWIKdL3AfQbeCWAJrgIGayAVBXQLg3+A\n",
       "BYMsA+cnkOoNfF8ZQA58xMAw+dq03AAGzn4BoJ221z8ChdcxcAjAQxjMYlMAex4YLLAAAuJNDDMc\n",
       "gFIXkAIWJKzGYAYkZwGxNEwY5Hbf66CY2QjEjBgBznuAAQAt5DtyKXSr1gAAAABJRU5ErkJggg==\n",
       "\" style=\"display:inline;vertical-align:middle;\" /></a></td></tr>\n",
       "<tr><td>8</td><td>Variable</td><td></td><td><a class=\"ProveItLink\" href=\"../../../packages/proveit/__pv_it/530be409e3083890784cf1d7b28c9e67e90af9360/expr.ipynb\"><img src=\"data:image/png;base64,iVBORw0KGgoAAAANSUhEUgAAAAsAAAAJBAMAAAAWSsseAAAAKlBMVEX///9ERETMzMwQEBAiIiKY\n",
       "mJju7u5mZmaqqqpUVFSIiIh2dnbc3NwAAAA/vyDhAAAAAXRSTlMAQObYZgAAAENJREFUCNdjYDi9\n",
       "8sTyBQxsG1hdmR0YuBm4LnAoMLAxcAowgADzAjB1VoEhgYH1wFoGrgSG3gBhhlMMDImrs3cFMAAA\n",
       "t0YN+iTRa+sAAAAASUVORK5CYII=\n",
       "\" style=\"display:inline;vertical-align:middle;\" /></a></td></tr>\n",
       "<tr><td>9</td><td>Variable</td><td></td><td><a class=\"ProveItLink\" href=\"../../../packages/proveit/__pv_it/f8b9edf8e16034727f0aad55bb83e392c3db40d40/expr.ipynb\"><img src=\"data:image/png;base64,iVBORw0KGgoAAAANSUhEUgAAAAsAAAANBAMAAACN24kIAAAAMFBMVEX///+YmJhUVFQyMjIQEBBE\n",
       "REQiIiKqqqrMzMyIiIi6urrc3NxmZmZ2dnbu7u4AAADXeCicAAAAAXRSTlMAQObYZgAAAFhJREFU\n",
       "CNdj4LtzgWH/AwZerg8M8xkY2nkSGEIZGB6wTGD4ycDAUP+A4weQOszA6QCkbBhYFYDUIYb1AkDq\n",
       "6czzGxhA4BoQMyXwuQMptgusF4AU+8xTQBIAUqMVoSp/SLMAAAAASUVORK5CYII=\n",
       "\" style=\"display:inline;vertical-align:middle;\" /></a></td></tr>\n",
       "</table>\n"
      ],
      "text/plain": [
       "0. (a < (x + y))\n",
       "   core type: ExprTuple\n",
       "   sub-expressions: 1\n",
       "1. a < (x + y)\n",
       "   core type: Operation\n",
       "   operator: 2\n",
       "   operands: 3\n",
       "2. <\n",
       "   core type: Literal\n",
       "   sub-expressions: \n",
       "3. (a , x + y)\n",
       "   core type: ExprTuple\n",
       "   sub-expressions: 4, 5\n",
       "4. a\n",
       "   core type: Variable\n",
       "   sub-expressions: \n",
       "5. x + y\n",
       "   core type: Operation\n",
       "   operator: 6\n",
       "   operands: 7\n",
       "6. +\n",
       "   core type: Literal\n",
       "   sub-expressions: \n",
       "7. (x , y)\n",
       "   core type: ExprTuple\n",
       "   sub-expressions: 8, 9\n",
       "8. x\n",
       "   core type: Variable\n",
       "   sub-expressions: \n",
       "9. y\n",
       "   core type: Variable\n",
       "   sub-expressions: "
      ]
     },
     "execution_count": 4,
     "metadata": {},
     "output_type": "execute_result"
    }
   ],
   "source": [
    "# display the expression information\n",
    "expr.exprInfo()"
   ]
  },
  {
   "cell_type": "code",
   "execution_count": null,
   "metadata": {},
   "outputs": [],
   "source": []
  }
 ],
 "metadata": {
  "kernelspec": {
   "display_name": "Python 3",
   "language": "python",
   "name": "python3"
  }
 },
 "nbformat": 4,
 "nbformat_minor": 0
}
