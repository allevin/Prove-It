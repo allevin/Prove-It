{
 "cells": [
  {
   "cell_type": "markdown",
   "metadata": {},
   "source": [
    "Expression of type <a class=\"ProveItLink\" href=\"../../../doc/html/api/proveit.ExprTuple.html\">ExprTuple</a>\n",
    "=======================\n",
    "# from context <a class=\"ProveItLink\" href=\"../../_context_.ipynb\">tutorial</a>"
   ]
  },
  {
   "cell_type": "code",
   "execution_count": 1,
   "metadata": {},
   "outputs": [],
   "source": [
    "# import Expression classes needed to build the expression\n",
    "from proveit import ExprTuple\n",
    "from proveit._common_ import P, Q\n",
    "from proveit.logic import Implies"
   ]
  },
  {
   "cell_type": "code",
   "execution_count": 2,
   "metadata": {},
   "outputs": [
    {
     "data": {
      "text/html": [
       "<strong id=\"expr\">expr:</strong> <a class=\"ProveItLink\" href=\"expr.ipynb\"><img src=\"data:image/png;base64,iVBORw0KGgoAAAANSUhEUgAAAE0AAAAVBAMAAADx+n4ZAAAAMFBMVEX////c3NwiIiJERESqqqqY\n",
       "mJh2dnZmZmYQEBDu7u4yMjJUVFTMzMyIiIi6uroAAAAs73DqAAAAAXRSTlMAQObYZgAAAW5JREFU\n",
       "KM9jYCAW8F0gqCQORJwGEWJl2diU8+7/vXvTRgb2A0D2SiBmW8PAsGkCFoX8CxgYLAQYgCQv0BzO\n",
       "xUAhjg1wWYSO8wkMDP4JDGFAaaAglwJQiP0nXHYlnHX/AQNDfAHDDAaGV0BePch+tn9w2ddwlj0Q\n",
       "73dgYHZgKGNgYPwMEmL7Apdlg/vpF9BRQFm2AoalQBu/goSY/4AsVwKD71BlPN8YGA4VMDCwLGDo\n",
       "Y2BgAruMvwHhTZZ10HD5nZaeCArjBoZ/MBVAbyHArD4wxQz1G88HsDqQdxlWIIUfzzIIByIDVtcC\n",
       "DJYPIKtAzoO5Txmq53wBNG4bGEyBSv4x3j1w4gGS8zYgBR8IsC5gSAdSSdMYUgyRXCcFDz6oucBw\n",
       "eQQydleuCgMPQh1UD2fx/70QFtcDBg4BMMuGIQah7gB6cgDGGyskOMz5FuBJgLnwSN///wFuZZwg\n",
       "M6TBzBOteIzjBrmNkXC6v8PAAADRC1q0wPTVGAAAAABJRU5ErkJggg==\n",
       "\" style=\"display:inline;vertical-align:middle;\" /></a><br>"
      ],
      "text/plain": [
       "expr: (Q => P)"
      ]
     },
     "execution_count": 2,
     "metadata": {},
     "output_type": "execute_result"
    }
   ],
   "source": [
    "# build up the expression from sub-expressions\n",
    "expr = ExprTuple(Implies(Q, P))"
   ]
  },
  {
   "cell_type": "code",
   "execution_count": 3,
   "metadata": {},
   "outputs": [
    {
     "name": "stdout",
     "output_type": "stream",
     "text": [
      "Passed sanity check: built 'expr' is the same as the stored Expression.\n"
     ]
    }
   ],
   "source": [
    "# check that the built expression is the same as the stored expression\n",
    "%check_expr"
   ]
  },
  {
   "cell_type": "code",
   "execution_count": 4,
   "metadata": {},
   "outputs": [
    {
     "data": {
      "text/html": [
       "<table><tr><th>&nbsp;</th><th>core type</th><th>sub-expressions</th><th>expression</th></tr>\n",
       "<tr><td>0</td><td>ExprTuple</td><td>1</td><td><a class=\"ProveItLink\" href=\"expr.ipynb\"><img src=\"data:image/png;base64,iVBORw0KGgoAAAANSUhEUgAAAE0AAAAVBAMAAADx+n4ZAAAAMFBMVEX////c3NwiIiJERESqqqqY\n",
       "mJh2dnZmZmYQEBDu7u4yMjJUVFTMzMyIiIi6uroAAAAs73DqAAAAAXRSTlMAQObYZgAAAW5JREFU\n",
       "KM9jYCAW8F0gqCQORJwGEWJl2diU8+7/vXvTRgb2A0D2SiBmW8PAsGkCFoX8CxgYLAQYgCQv0BzO\n",
       "xUAhjg1wWYSO8wkMDP4JDGFAaaAglwJQiP0nXHYlnHX/AQNDfAHDDAaGV0BePch+tn9w2ddwlj0Q\n",
       "73dgYHZgKGNgYPwMEmL7Apdlg/vpF9BRQFm2AoalQBu/goSY/4AsVwKD71BlPN8YGA4VMDCwLGDo\n",
       "Y2BgAruMvwHhTZZ10HD5nZaeCArjBoZ/MBVAbyHArD4wxQz1G88HsDqQdxlWIIUfzzIIByIDVtcC\n",
       "DJYPIKtAzoO5Txmq53wBNG4bGEyBSv4x3j1w4gGS8zYgBR8IsC5gSAdSSdMYUgyRXCcFDz6oucBw\n",
       "eQQydleuCgMPQh1UD2fx/70QFtcDBg4BMMuGIQah7gB6cgDGGyskOMz5FuBJgLnwSN///wFuZZwg\n",
       "M6TBzBOteIzjBrmNkXC6v8PAAADRC1q0wPTVGAAAAABJRU5ErkJggg==\n",
       "\" style=\"display:inline;vertical-align:middle;\" /></a></td></tr>\n",
       "<tr><td>1</td><td>Operation</td><td>operator:&nbsp;2<br>operands:&nbsp;3<br></td><td><a class=\"ProveItLink\" href=\"../e68579a87d8af8682261308d85781b9da92225cb0/expr.ipynb\"><img src=\"data:image/png;base64,iVBORw0KGgoAAAANSUhEUgAAAEAAAAASBAMAAAAZAcURAAAAMFBMVEX///+YmJiqqqq6uroQEBBE\n",
       "RETu7u4iIiLMzMwyMjKIiIhUVFRmZmZ2dnbc3NwAAADS0us6AAAAAXRSTlMAQObYZgAAAQRJREFU\n",
       "KM9jYGDgu3N3FwMWsPr/7t3VD4CMmw0M3GXYVPxkYGD1Y2DIDACyveGibHAWx18GBiYgng7inE+A\n",
       "CXPCWVyfGRgY/zDw/ABx7hvAhJk3wFisHxgYuD8xvA8AK1CAm3wLxuCfwMCQH8BwXgDEiW8AEsfL\n",
       "QaD+AFRB/wUGjhoGhnqwnV+QHK8JtW793rtnH0ClQI5F+GMKREU8xLnfwU53Q1LQeY0BIcPAMB9E\n",
       "6IOcAHVDeRg0GP5AaH2DVys4nJEM0EYKBhDgLbvAq/oAIc83ARYM36AM67nLFRga4ApYoYpz4n8v\n",
       "gIs1MCIUcGCJNdYDlgx4Aff/z/gVcLgI4JYEAFUCRya3EUBkAAAAAElFTkSuQmCC\n",
       "\" style=\"display:inline;vertical-align:middle;\" /></a></td></tr>\n",
       "<tr><td>2</td><td>Literal</td><td></td><td><a class=\"ProveItLink\" href=\"../../../packages/proveit/logic/boolean/implication/__pv_it/e5c030cabcb650938f92dee8256fe11cd12bf9b30/expr.ipynb\"><img src=\"data:image/png;base64,iVBORw0KGgoAAAANSUhEUgAAABMAAAANBAMAAAC5okgUAAAALVBMVEX////c3NxERETMzMwQEBCq\n",
       "qqoiIiJmZmaIiIh2dnZUVFS6uroyMjLu7u4AAACPpZJTAAAAAXRSTlMAQObYZgAAAD1JREFUCNdj\n",
       "YAABXgY44LkAZ3IvQAjPABFlaSCQV4AQjtkAZ/IegbNt5sLUpunC5aPgLMYDcCaTAJzJDCIA2yMN\n",
       "HCCUuIIAAAAASUVORK5CYII=\n",
       "\" style=\"display:inline;vertical-align:middle;\" /></a></td></tr>\n",
       "<tr><td>3</td><td>ExprTuple</td><td>4, 5</td><td><a class=\"ProveItLink\" href=\"../bafeaee52c3cb8caa903702827e8abac06f62efc0/expr.ipynb\"><img src=\"data:image/png;base64,iVBORw0KGgoAAAANSUhEUgAAADYAAAAVBAMAAAD/UwB2AAAAMFBMVEX////c3NwiIiJERESqqqqY\n",
       "mJh2dnZmZmYQEBDu7u4yMjJUVFTMzMyIiIi6uroAAAAs73DqAAAAAXRSTlMAQObYZgAAAUlJREFU\n",
       "KM99UrtKA0EUPWvcdTfksZVNGgt/QFC0ELS2sRfBjYhbiLAgpBJMoa2msrASRFAQ0ZQRyZIqYJH8\n",
       "gCRYBSvxBZqw8czsDEQJXrjDmXMuc18D/GeZ5lDabPN4EGi8sKVD0tXuXfkW2CW+pFtXQLmkxOwp\n",
       "MOciyTDGO2ek7BulNTxg2YPpwWZ4coLU2JfSWsy0FsAp4pm3vVC8GyltgV5dBKZRAIw3QVnvSvtm\n",
       "EsH4OOdrH4JK9GIp9QnUAoIlHAIjMlO2qHrobvp5ATqINMvSpCV0TQ2piTJxofqLb1LbZwsvRKM9\n",
       "TQUKdDBDOjIewzq7Kun2pK2wUmD9GBtTrPxVtqdn5+NJrKKyPYkUnCMXzk7/XmnXsF0J5rHKGHdg\n",
       "SZyZGZc+m+H0zcEFWs14Rxxgv/1HO6HnJKof8Pj1A7heGMP/RDrEDxkxUn4kpavDAAAAAElFTkSu\n",
       "QmCC\n",
       "\" style=\"display:inline;vertical-align:middle;\" /></a></td></tr>\n",
       "<tr><td>4</td><td>Variable</td><td></td><td><a class=\"ProveItLink\" href=\"../../../packages/proveit/__pv_it/98124f92e6e1fc3772af50ac63eaa1f5624776f20/expr.ipynb\"><img src=\"data:image/png;base64,iVBORw0KGgoAAAANSUhEUgAAAA8AAAASBAMAAAB2sJk8AAAAMFBMVEX///+YmJiqqqq6uroQEBBE\n",
       "RETu7u4iIiLMzMwyMjKIiIhUVFRmZmZ2dnbc3NwAAADS0us6AAAAAXRSTlMAQObYZgAAAHxJREFU\n",
       "CNdjYGDgu3N3FwMI3Gxg4C4D0pkBQMIbiKeDRM8nMPD8ADHuGzC8DwAzFBjOC4AY8Q0M9Qkgxhcw\n",
       "YmBg+svA8B3E4HRjYJgPYug3ALHBqxUczkAOb9kFXtUHIGHrucsVGBrAtrI2MEIZByzBNAP3/88Q\n",
       "BocL0BoActoerD1tNT4AAAAASUVORK5CYII=\n",
       "\" style=\"display:inline;vertical-align:middle;\" /></a></td></tr>\n",
       "<tr><td>5</td><td>Variable</td><td></td><td><a class=\"ProveItLink\" href=\"../../../packages/proveit/__pv_it/6369c6c8083c513ca7161ace249642d040f9327d0/expr.ipynb\"><img src=\"data:image/png;base64,iVBORw0KGgoAAAANSUhEUgAAABAAAAAOBAMAAADUAYG5AAAAMFBMVEX////u7u5mZmaYmJi6urqq\n",
       "qqp2dnbMzMwQEBBEREQyMjLc3NwiIiJUVFSIiIgAAAAeC3ydAAAAAXRSTlMAQObYZgAAAGBJREFU\n",
       "CNdjYGB4+//u3bMbGIDgFwMDZzeQZv/GwMAKxAx8XxgYmD8BGZwfGBh4vwIZ/AsYGOQnABn1CQzs\n",
       "h0Ca3l9LUwPrni/AAAF/oDT7JygDZAwYcH6E0ELz/z4A0QBnpRnRyxnfJQAAAABJRU5ErkJggg==\n",
       "\" style=\"display:inline;vertical-align:middle;\" /></a></td></tr>\n",
       "</table>\n"
      ],
      "text/plain": [
       "0. (Q => P)\n",
       "   core type: ExprTuple\n",
       "   sub-expressions: 1\n",
       "1. Q => P\n",
       "   core type: Operation\n",
       "   operator: 2\n",
       "   operands: 3\n",
       "2. =>\n",
       "   core type: Literal\n",
       "   sub-expressions: \n",
       "3. (Q , P)\n",
       "   core type: ExprTuple\n",
       "   sub-expressions: 4, 5\n",
       "4. Q\n",
       "   core type: Variable\n",
       "   sub-expressions: \n",
       "5. P\n",
       "   core type: Variable\n",
       "   sub-expressions: "
      ]
     },
     "execution_count": 4,
     "metadata": {},
     "output_type": "execute_result"
    }
   ],
   "source": [
    "# display the expression information\n",
    "expr.exprInfo()"
   ]
  },
  {
   "cell_type": "code",
   "execution_count": null,
   "metadata": {},
   "outputs": [],
   "source": []
  }
 ],
 "metadata": {
  "kernelspec": {
   "display_name": "Python 3",
   "language": "python",
   "name": "python3"
  }
 },
 "nbformat": 4,
 "nbformat_minor": 0
}
