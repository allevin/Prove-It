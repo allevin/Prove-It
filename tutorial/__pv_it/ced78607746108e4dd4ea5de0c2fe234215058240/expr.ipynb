{
 "cells": [
  {
   "cell_type": "markdown",
   "metadata": {},
   "source": [
    "Expression of type <a class=\"ProveItLink\" href=\"../../../doc/html/api/proveit.ExprTuple.html\">ExprTuple</a>\n",
    "=======================\n",
    "# from context <a class=\"ProveItLink\" href=\"../../_context_.ipynb\">tutorial</a>"
   ]
  },
  {
   "cell_type": "code",
   "execution_count": 1,
   "metadata": {},
   "outputs": [],
   "source": [
    "# import Expression classes needed to build the expression\n",
    "from proveit import ExprTuple\n",
    "from proveit._common_ import b, x, z\n",
    "from proveit.number import Add, Less"
   ]
  },
  {
   "cell_type": "code",
   "execution_count": 2,
   "metadata": {},
   "outputs": [
    {
     "data": {
      "text/html": [
       "<strong id=\"expr\">expr:</strong> <a class=\"ProveItLink\" href=\"expr.ipynb\"><img src=\"data:image/png;base64,iVBORw0KGgoAAAANSUhEUgAAAHEAAAAVBAMAAACDNRyvAAAAMFBMVEX////c3NwiIiJERESqqqqY\n",
       "mJh2dnZmZmYQEBDu7u4yMjJUVFTMzMyIiIi6uroAAAAs73DqAAAAAXRSTlMAQObYZgAAAblJREFU\n",
       "OMtjYCAf8F3ALv4Wl4Y4KGY4jV2eZwMWQc4dCgwM7AcgmGEldp1cE7CKgsxbAMG86I5lrAFTd1EE\n",
       "J0JpfgcgEQbBHGhm8+x6AKY7UUR9ofR7kOoZEPwKLbxWH4DQC7DqTAIRzA5gXAZS1vFAFiLDslwA\n",
       "wmBPALo7d6NvLarO1Xe3MjCwFYDxUiBfOLbcACzBqwZzO1cAA8M0hqCAJhSdnJ8Z+A8wsADdA8R9\n",
       "QIEJDLPBOth04c7jAPo2geE+gw+KTpafDBwJDHwNDCD8DxyekMibbAfXyf8AZOBmNH+yL2DgL2Dg\n",
       "+cAAwmCdz6EKTi9B1snA0AtmV61apbFq1Wogi6mA4X0ATGcLyBEJMA3iqjDXgiKO8Q8DJ4qdwOis\n",
       "nwBzrSlQwI2BAZbWpulCwogZGEKBvB8YbqLqPMDQxsDAugCM04E2Ly2NegCzlRUSvMBQZ/nK3MB4\n",
       "AUUntwP7BnisPAL6myG+BRHpLGvAKUGBgdM2M+0qaghx7i0FxdgDMOYQwJ7iG7GmITCApj7WBOw6\n",
       "w3Bn1lwoJimXgZ28AIIZpLHLM27ApZNbAIIZGHGUJrK4dN6BYADhG2yuRs3bXAAAAABJRU5ErkJg\n",
       "gg==\n",
       "\" style=\"display:inline;vertical-align:middle;\" /></a><br>"
      ],
      "text/plain": [
       "expr: (z < (x + b))"
      ]
     },
     "execution_count": 2,
     "metadata": {},
     "output_type": "execute_result"
    }
   ],
   "source": [
    "# build up the expression from sub-expressions\n",
    "expr = ExprTuple(Less(z, Add(x, b)))"
   ]
  },
  {
   "cell_type": "code",
   "execution_count": 3,
   "metadata": {},
   "outputs": [
    {
     "name": "stdout",
     "output_type": "stream",
     "text": [
      "Passed sanity check: built 'expr' is the same as the stored Expression.\n"
     ]
    }
   ],
   "source": [
    "# check that the built expression is the same as the stored expression\n",
    "%check_expr"
   ]
  },
  {
   "cell_type": "code",
   "execution_count": 4,
   "metadata": {},
   "outputs": [
    {
     "data": {
      "text/html": [
       "<table><tr><th>&nbsp;</th><th>core type</th><th>sub-expressions</th><th>expression</th></tr>\n",
       "<tr><td>0</td><td>ExprTuple</td><td>1</td><td><a class=\"ProveItLink\" href=\"expr.ipynb\"><img src=\"data:image/png;base64,iVBORw0KGgoAAAANSUhEUgAAAHEAAAAVBAMAAACDNRyvAAAAMFBMVEX////c3NwiIiJERESqqqqY\n",
       "mJh2dnZmZmYQEBDu7u4yMjJUVFTMzMyIiIi6uroAAAAs73DqAAAAAXRSTlMAQObYZgAAAblJREFU\n",
       "OMtjYCAf8F3ALv4Wl4Y4KGY4jV2eZwMWQc4dCgwM7AcgmGEldp1cE7CKgsxbAMG86I5lrAFTd1EE\n",
       "J0JpfgcgEQbBHGhm8+x6AKY7UUR9ofR7kOoZEPwKLbxWH4DQC7DqTAIRzA5gXAZS1vFAFiLDslwA\n",
       "wmBPALo7d6NvLarO1Xe3MjCwFYDxUiBfOLbcACzBqwZzO1cAA8M0hqCAJhSdnJ8Z+A8wsADdA8R9\n",
       "QIEJDLPBOth04c7jAPo2geE+gw+KTpafDBwJDHwNDCD8DxyekMibbAfXyf8AZOBmNH+yL2DgL2Dg\n",
       "+cAAwmCdz6EKTi9B1snA0AtmV61apbFq1Wogi6mA4X0ATGcLyBEJMA3iqjDXgiKO8Q8DJ4qdwOis\n",
       "nwBzrSlQwI2BAZbWpulCwogZGEKBvB8YbqLqPMDQxsDAugCM04E2Ly2NegCzlRUSvMBQZ/nK3MB4\n",
       "AUUntwP7BnisPAL6myG+BRHpLGvAKUGBgdM2M+0qaghx7i0FxdgDMOYQwJ7iG7GmITCApj7WBOw6\n",
       "w3Bn1lwoJimXgZ28AIIZpLHLM27ApZNbAIIZGHGUJrK4dN6BYADhG2yuRs3bXAAAAABJRU5ErkJg\n",
       "gg==\n",
       "\" style=\"display:inline;vertical-align:middle;\" /></a></td></tr>\n",
       "<tr><td>1</td><td>Operation</td><td>operator:&nbsp;2<br>operands:&nbsp;3<br></td><td><a class=\"ProveItLink\" href=\"../1d2754d1893f83c13f40d3889088fcbe02f478da0/expr.ipynb\"><img src=\"data:image/png;base64,iVBORw0KGgoAAAANSUhEUgAAAGMAAAAVBAMAAACgbk16AAAAMFBMVEX///8iIiIyMjLMzMx2dnaq\n",
       "qqpUVFTu7u5mZmaYmJhERESIiIjc3NwQEBC6uroAAABuzmuqAAAAAXRSTlMAQObYZgAAAXtJREFU\n",
       "OMtjYKAWeI1LYh4uCeYELILsuQIMDBwGOLQwFWAVBRmkgC7K0wymdqMI1kBp/gAgMQXdQUkPwPR1\n",
       "FNFoKP0eZHctqg4+NYhL+RSwanEEEVxAq/juPjgNEWLVOABhcDgAneidE92NqkVtdyYDA0sDA8Op\n",
       "2R0LwCLcIjBPM01gYChhmDjhIooW9l8M/AYMrEAXFDCUgZWySMNdwgv0kQPDfoZgFC2s3xl4HRj4\n",
       "LoBCCRIJVevgWvgfgEzKQvMLhwIDfwMD8wcg8wVUxkwVWQsDw20wu0lJSVZJSQ3IYmxgeD8BrIXV\n",
       "AabyhCTMYaAI4PnMwI5iCzBa+gvADgthYIAljxJpSABwAb0/h/sDw3ZULQYMVxgYOBUYmDU7Jz2A\n",
       "2cMJCTRgQLL+5LrAswFFC1sARwJYjoNh/lVErLEqg6NSgIF9tbvLTlTvs2d3giLgAfZkeQdr7INB\n",
       "LY6UPAV35vEmKfGDXaeAQ4InAZcWtgO4ZE7jktjMwAAARoxN+fdGh9oAAAAASUVORK5CYII=\n",
       "\" style=\"display:inline;vertical-align:middle;\" /></a></td></tr>\n",
       "<tr><td>2</td><td>Literal</td><td></td><td><a class=\"ProveItLink\" href=\"../../../packages/proveit/number/ordering/__pv_it/7c444b9b2efa607ed6397b492680dde2810212f00/expr.ipynb\"><img src=\"data:image/png;base64,iVBORw0KGgoAAAANSUhEUgAAAA4AAAAMBAMAAACgrpHpAAAALVBMVEX///+YmJhERETu7u52dnYi\n",
       "IiKIiIiqqqq6uroyMjJUVFTMzMxmZmbc3NwAAADmAst+AAAAAXRSTlMAQObYZgAAAD5JREFUCNdj\n",
       "YAAB3tNgintlA4jimLUBRLHPuQCi2EIMQBRLGFgJg5EGhGbYNR3KuBMIZZiEGUAYjCFQBvtsABzC\n",
       "Cm98G6SsAAAAAElFTkSuQmCC\n",
       "\" style=\"display:inline;vertical-align:middle;\" /></a></td></tr>\n",
       "<tr><td>3</td><td>ExprTuple</td><td>4, 5</td><td><a class=\"ProveItLink\" href=\"../f728dc88fac8c33ce86a5dfbeae17d48eda2e2c30/expr.ipynb\"><img src=\"data:image/png;base64,iVBORw0KGgoAAAANSUhEUgAAAE4AAAAVBAMAAAAazcUaAAAAMFBMVEX////c3NwiIiJERESqqqqY\n",
       "mJh2dnZmZmYQEBDu7u4yMjJUVFTMzMyIiIi6uroAAAAs73DqAAAAAXRSTlMAQObYZgAAAUlJREFU\n",
       "KM9jYCAW8F0gqIT1AZA4jV/N7CYgUQPEKwkYthqIuRgYeHFYyykAZXwBWZzAwDEBuzoWqH6+nyBN\n",
       "DQyvGPCrY1MAkSYMZSA9HQ9kIaJit0WuX0BRx7X3dgADQzrDUiBbOLbcAOKoBFZVDgUUdfMNGP4w\n",
       "MHgx9AHZExhmQ1zJxsD7geUAijr/CQxtDAwvGP6BOIwboJ5k4DZAc18VA8N3BobzEHXP4c7nAEuz\n",
       "r1q1qGvVKpBudQa+ryB1LSC9CXB18gcYJqCY94WB/SfIXlMg242BYQNYmlXgPgMvqro/DBxAU6KA\n",
       "PmbgWVoa9YDzE8jRARYMsqju28JQzQAKl0dA1zDEtzBw9gMjavK1abkBqOpmXwcJrGPggMUjnwDW\n",
       "+ICEQwMoiqGJDE+yZLuASFeseNLWLCCWhrLxJeuNoLggnO55DzAAADRwU1AolC1LAAAAAElFTkSu\n",
       "QmCC\n",
       "\" style=\"display:inline;vertical-align:middle;\" /></a></td></tr>\n",
       "<tr><td>4</td><td>Variable</td><td></td><td><a class=\"ProveItLink\" href=\"../../../packages/proveit/__pv_it/251502494639118b4892de8e9d720a5fcce840e10/expr.ipynb\"><img src=\"data:image/png;base64,iVBORw0KGgoAAAANSUhEUgAAAAoAAAAJBAMAAAD5iKAgAAAALVBMVEX///8yMjLMzMx2dnaqqqpU\n",
       "VFTu7u5mZmaYmJhERESIiIjc3NwQEBC6uroAAAB+iRisAAAAAXRSTlMAQObYZgAAADlJREFUCNdj\n",
       "YOA9c2EXA8POrvIJDAwJDKkJDAwM3AFAguE6iGAxAJHODAwBDEwSFY0XGNgZ+o4wAABKtAsIcBKm\n",
       "agAAAABJRU5ErkJggg==\n",
       "\" style=\"display:inline;vertical-align:middle;\" /></a></td></tr>\n",
       "<tr><td>5</td><td>Operation</td><td>operator:&nbsp;6<br>operands:&nbsp;7<br></td><td><a class=\"ProveItLink\" href=\"../d4ff824da52358574ce78c9f827b58f835c431430/expr.ipynb\"><img src=\"data:image/png;base64,iVBORw0KGgoAAAANSUhEUgAAAC4AAAAQBAMAAACb51DZAAAAMFBMVEX///+6uroyMjJERETMzMwQ\n",
       "EBAiIiKYmJju7u5mZmaqqqpUVFSIiIh2dnbc3NwAAAAWgogoAAAAAXRSTlMAQObYZgAAAKJJREFU\n",
       "GNNjYMAE3WEM2IE2KpfjAZTxC1Wc6wCEZvyBXZw3AUS+Pf3q5AEUcaY9pwsYOC6wp7MmoIj3GzB8\n",
       "YeBl4PnA5YAivr6BIZaBg4HbAM38SQwMP4EUK5jLqaSkFqSktAHIzGRg/A6k3jswNKCo/8XA+YOB\n",
       "/cF5Bh5U8S8MrBcY1heYMrxBNX8Xw2wGhuazvXcKUMW7TxZg9S86YEQSBwAB5DAJKOlMlAAAAABJ\n",
       "RU5ErkJggg==\n",
       "\" style=\"display:inline;vertical-align:middle;\" /></a></td></tr>\n",
       "<tr><td>6</td><td>Literal</td><td></td><td><a class=\"ProveItLink\" href=\"../../../packages/proveit/number/addition/__pv_it/3e6688136fa3c7aefbebe51301b7c3ebf0b69c440/expr.ipynb\"><img src=\"data:image/png;base64,iVBORw0KGgoAAAANSUhEUgAAAA4AAAAOBAMAAADtZjDiAAAAJFBMVEX///+6urpUVFQQEBAiIiIy\n",
       "MjJmZmaIiIiqqqrc3Nzu7u4AAACgHpL+AAAAAXRSTlMAQObYZgAAAB5JREFUCNdjYGBgWMkAAe2k\n",
       "0Kmhoc6hoUGk6BMHYgAHOwjcado9fwAAAABJRU5ErkJggg==\n",
       "\" style=\"display:inline;vertical-align:middle;\" /></a></td></tr>\n",
       "<tr><td>7</td><td>ExprTuple</td><td>8, 9</td><td><a class=\"ProveItLink\" href=\"../e7871d4aef5c95aa395df3a1fe3c53887854b44e0/expr.ipynb\"><img src=\"data:image/png;base64,iVBORw0KGgoAAAANSUhEUgAAACoAAAAVBAMAAADCwWEQAAAAMFBMVEX////c3NwiIiJERESqqqqY\n",
       "mJh2dnZmZmYQEBDu7u4yMjJUVFTMzMyIiIi6uroAAAAs73DqAAAAAXRSTlMAQObYZgAAAQFJREFU\n",
       "GNNjYMAO+C6gCbA+ABKnkUVmNwGJGiBeiaJwNRBzMTDwohrwBWREAgPHBBRLfgIJzgaGVyhK2RRA\n",
       "pAlDGZAUuy1yHWIQ197bAQwM6QxLgToSWFU5wIoY5hsw/GFg8GLoA2pj4P3AcgAs6j+BoY2B4QXD\n",
       "P6BaBm4DqLlVDAzfGRjOg0QZGDhgzlNn4PsKEm0BceQPMEyAOpf9J8gEU6CrBe4z8E4Ai/9h4Ehg\n",
       "YIgCuoLBP8CCQZaB8xNQdAtDNQPIZY8YGCZfm5YbwMDZLwAMnetA5zKsY+AQgPsWxgL6GBgUsHCF\n",
       "e/sCUkjCRWcBsTSMAw/SjUDMiB5DvAcYAOlPOhFcynEaAAAAAElFTkSuQmCC\n",
       "\" style=\"display:inline;vertical-align:middle;\" /></a></td></tr>\n",
       "<tr><td>8</td><td>Variable</td><td></td><td><a class=\"ProveItLink\" href=\"../../../packages/proveit/__pv_it/530be409e3083890784cf1d7b28c9e67e90af9360/expr.ipynb\"><img src=\"data:image/png;base64,iVBORw0KGgoAAAANSUhEUgAAAAsAAAAJBAMAAAAWSsseAAAAKlBMVEX///9ERETMzMwQEBAiIiKY\n",
       "mJju7u5mZmaqqqpUVFSIiIh2dnbc3NwAAAA/vyDhAAAAAXRSTlMAQObYZgAAAENJREFUCNdjYDi9\n",
       "8sTyBQxsG1hdmR0YuBm4LnAoMLAxcAowgADzAjB1VoEhgYH1wFoGrgSG3gBhhlMMDImrs3cFMAAA\n",
       "t0YN+iTRa+sAAAAASUVORK5CYII=\n",
       "\" style=\"display:inline;vertical-align:middle;\" /></a></td></tr>\n",
       "<tr><td>9</td><td>Variable</td><td></td><td><a class=\"ProveItLink\" href=\"../../../packages/proveit/__pv_it/6840a4fa6c106149dc16a131294d0c5e44f1b0480/expr.ipynb\"><img src=\"data:image/png;base64,iVBORw0KGgoAAAANSUhEUgAAAAkAAAAOBAMAAAAPuiubAAAALVBMVEX///9mZmbMzMxERESYmJiI\n",
       "iIh2dna6urqqqqoyMjIiIiIQEBBUVFTu7u4AAAD9S1JeAAAAAXRSTlMAQObYZgAAAE1JREFUCNdj\n",
       "4D29gAEIOA+ASL4GEFl3AURmgQiGOaFHGBh4HzPwKTBwvGXgTmBgnMDAJ8DAJcBQ5wBSLncBJLWN\n",
       "gYGngRFoBO9REQYGAGrcDtUkVqASAAAAAElFTkSuQmCC\n",
       "\" style=\"display:inline;vertical-align:middle;\" /></a></td></tr>\n",
       "</table>\n"
      ],
      "text/plain": [
       "0. (z < (x + b))\n",
       "   core type: ExprTuple\n",
       "   sub-expressions: 1\n",
       "1. z < (x + b)\n",
       "   core type: Operation\n",
       "   operator: 2\n",
       "   operands: 3\n",
       "2. <\n",
       "   core type: Literal\n",
       "   sub-expressions: \n",
       "3. (z , x + b)\n",
       "   core type: ExprTuple\n",
       "   sub-expressions: 4, 5\n",
       "4. z\n",
       "   core type: Variable\n",
       "   sub-expressions: \n",
       "5. x + b\n",
       "   core type: Operation\n",
       "   operator: 6\n",
       "   operands: 7\n",
       "6. +\n",
       "   core type: Literal\n",
       "   sub-expressions: \n",
       "7. (x , b)\n",
       "   core type: ExprTuple\n",
       "   sub-expressions: 8, 9\n",
       "8. x\n",
       "   core type: Variable\n",
       "   sub-expressions: \n",
       "9. b\n",
       "   core type: Variable\n",
       "   sub-expressions: "
      ]
     },
     "execution_count": 4,
     "metadata": {},
     "output_type": "execute_result"
    }
   ],
   "source": [
    "# display the expression information\n",
    "expr.exprInfo()"
   ]
  },
  {
   "cell_type": "code",
   "execution_count": null,
   "metadata": {},
   "outputs": [],
   "source": []
  }
 ],
 "metadata": {
  "kernelspec": {
   "display_name": "Python 3",
   "language": "python",
   "name": "python3"
  }
 },
 "nbformat": 4,
 "nbformat_minor": 0
}
