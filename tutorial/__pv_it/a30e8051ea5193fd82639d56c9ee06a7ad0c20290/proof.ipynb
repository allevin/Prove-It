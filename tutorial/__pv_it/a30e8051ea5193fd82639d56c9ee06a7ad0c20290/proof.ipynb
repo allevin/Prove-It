{
 "cells": [
  {
   "cell_type": "markdown",
   "metadata": {},
   "source": [
    "Show the Proof\n",
    "========"
   ]
  },
  {
   "cell_type": "code",
   "execution_count": 1,
   "metadata": {},
   "outputs": [
    {
     "data": {
      "text/html": [
       "<table><tr><th>&nbsp;</th><th>step type</th><th>requirements</th><th>statement</th></tr>\n",
       "<tr><td>0</td><td>assumption</td><td></td><td><span style=\"font-size:20px;\"><a class=\"ProveItLink\" href=\"../9f31b40b2b02a7d2ae19c50b1014a5a565a3118a0/expr.ipynb\"><img src=\"data:image/png;base64,iVBORw0KGgoAAAANSUhEUgAAAEkAAAAVBAMAAAD4Ed5jAAAAMFBMVEX///9ERETc3NyqqqpUVFS6\n",
       "urrMzMwyMjIQEBCIiIh2dnYiIiLu7u5mZmaYmJgAAABJJ2g3AAAAAXRSTlMAQObYZgAAAQ5JREFU\n",
       "KM9jYGDgu8eAB7CtUgBRPLsY8AK2ZhDJ+QG/KobrIIKrgYCqFdhV8RCliv0AMapYHbCr4lm7gEEf\n",
       "YcJKKB3RyjQBqoq3AKiS9QPDfBDn9m4Q2H8BrIhJbu5FIPUexM4IYGBI5t3AIIhkiXkAxBc8PiBn\n",
       "AvWktAEZBzgmMPxE9mUFWBmDCpgUfwC0PAHIsD/A9g1JVfoaiDfANnMvABIsBeDw5WxAuGu3DESx\n",
       "FZgEu4trA5CoZWBE8r4JhGJewMCCEl5XGOIfwBUxFUDtffuuFEXVwZn3FeCqGKHMC3w/DNDCfjVS\n",
       "WsERjywbeJrxpwm+BpBnGRfgT188O4G+mXkVd1ptBVN8iwmmewDdCUvOfhSdtgAAAABJRU5ErkJg\n",
       "gg==\n",
       "\" style=\"display:inline;vertical-align:middle;\" /></a> <a class=\"ProveItLink\" href=\"proof.ipynb\" style=\"text-decoration: none\">&#x22A2;&nbsp;</a><a class=\"ProveItLink\" href=\"../7fabcdfac94a94d639f6a5d2f072a262670f257b0/expr.ipynb\"><img src=\"data:image/png;base64,iVBORw0KGgoAAAANSUhEUgAAADUAAAAQBAMAAABEqSrGAAAAMFBMVEX///+YmJhUVFQyMjIQEBBE\n",
       "REQiIiKqqqrMzMyIiIi6urrc3NxmZmZ2dnbu7u4AAADXeCicAAAAAXRSTlMAQObYZgAAALdJREFU\n",
       "GNNjYEABfAy4AfMD3HJcCiim3LnAsB+h+iaUXuLFPYGBl+sDw3wQ71gaCOQfAEtxB845ysDQzpPA\n",
       "EIpkTvECiJv49BgYHrBMYPiJbIcJWJJhE4iof8DxA0mu+R7EUWCzDzNwOiDsS4uDKKkFkzYMrEgO\n",
       "L4JQ7BcYmIDUIYb1AnApbgOoyTKCVkDq6czzG+ByrFDmAcYvBWDGNYSRHCihxJTA544rBNkusF7A\n",
       "Jcc+8xQuKQBgzS1BkMulYgAAAABJRU5ErkJggg==\n",
       "\" style=\"display:inline;vertical-align:middle;\" /></a></span></td></tr>\n",
       "</table>"
      ],
      "text/plain": [
       "<proveit._core_.proof._ShowProof at 0x7f94ebb0deb8>"
      ]
     },
     "execution_count": 1,
     "metadata": {},
     "output_type": "execute_result"
    }
   ],
   "source": [
    "import proveit\n",
    "%show_proof"
   ]
  },
  {
   "cell_type": "code",
   "execution_count": null,
   "metadata": {},
   "outputs": [],
   "source": []
  }
 ],
 "metadata": {
  "kernelspec": {
   "display_name": "Python 3",
   "language": "python",
   "name": "python3"
  }
 },
 "nbformat": 4,
 "nbformat_minor": 0
}
