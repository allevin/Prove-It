{
 "cells": [
  {
   "cell_type": "markdown",
   "metadata": {},
   "source": [
    "Expression of type <a class=\"ProveItLink\" href=\"../../../doc/html/api/proveit.logic.Set.html\">Set</a>\n",
    "=======================\n",
    "# from context <a class=\"ProveItLink\" href=\"../../_context_.ipynb\">tutorial</a>"
   ]
  },
  {
   "cell_type": "code",
   "execution_count": 1,
   "metadata": {},
   "outputs": [],
   "source": [
    "# import Expression classes needed to build the expression\n",
    "from proveit._common_ import P, Q, R, S\n",
    "from proveit.logic import Implies, Set"
   ]
  },
  {
   "cell_type": "code",
   "execution_count": 2,
   "metadata": {},
   "outputs": [
    {
     "data": {
      "text/html": [
       "<strong id=\"expr\">expr:</strong> <a class=\"ProveItLink\" href=\"expr.ipynb\"><img src=\"data:image/png;base64,iVBORw0KGgoAAAANSUhEUgAAAOUAAAAVBAMAAABLdTQ8AAAAMFBMVEX////c3NxERESqqqpUVFS6\n",
       "urrMzMwyMjIQEBCIiIh2dnYiIiLu7u5mZmaYmJgAAABXZE4RAAAAAXRSTlMAQObYZgAAArRJREFU\n",
       "SMe9Vj1s00AY/Zw4iRJsJysLzVYGpFQIiYGhVpWlXRokJBg9IMHWjhSGgviXkGpVqFKFUCIxABGI\n",
       "DiylRY1Y6IJasRTxlwxl7l8aSNoSvjvfxXc+px2QcsP5nv3y3t337uwAgPUTetbi5Qy5GO+ghy1+\n",
       "m/TJTQrWf3z/pVIet/NDE2ycHK3n+90QHe11eTgcyEr5t7jINQJSN0mfqMGHzRDqNsDyOBuns2Dc\n",
       "D+E8d0BfDAVi+w0QuQXwwvccAYhybTD8UjQB9F0GxnCRowWF9DGL3Z0wICm10KElemoNvNupW6LC\n",
       "R0m8n2gwUHQAJh2FdIN01UoIkJRw5taB6BnbQc+OXMzmowg+HOPoJHLqECSZdEpvCiqQlTA5fUda\n",
       "Z3tGrP1LPkjbEJ3nAP3OuQqpL0ttBlQgK2FyK1nmadIYi+1tenK+LZC2tMojHH76sJNIffaLZymR\n",
       "qjXS55wgCCqVIP4erxsEXKWF0NanHgkLPcuqU6zAIC95ch+iDVBISzSyP94tCchKI+WvZFUJnMTl\n",
       "e+xh6q/ANK4VeIRpW8i2DgqJGpAdCUEgKeX4burHUlwi68CrIXpeedWJsM/2s9UkT4+0R/cnK5IE\n",
       "JKU9ho+VsNMxTwMXrG35US2cYhHiPDZKPJEaWC1QSJOk4wEIIKB0wFRonqk573Vg2v7kzgjHs+oa\n",
       "UGHH02xCJUgaLByfid9lx58DVYm/WDpnxcTzMC28QMeFQ1V0Txi0MDn8ZVOrBUmpxVLqNO6OlTkB\n",
       "qEr7QU89lh+q+cwI+9WnXN0Fc8I1pjJgfG7ju3ttViHBhetPBsCB5S0BhCrJnsEPTvBGLAOHkSKO\n",
       "hTbnRdBNqaun0qzDH0dWL3p73wddG/W0/t9Tb+/6nh7o2uj305g/2tM94uP/AP2SIuhO9Ta19azH\n",
       "/4f+ASEx+hb7Uzb3AAAAAElFTkSuQmCC\n",
       "\" style=\"display:inline;vertical-align:middle;\" /></a><br>"
      ],
      "text/plain": [
       "expr: {S => R , R => Q , Q => P}"
      ]
     },
     "execution_count": 2,
     "metadata": {},
     "output_type": "execute_result"
    }
   ],
   "source": [
    "# build up the expression from sub-expressions\n",
    "expr = Set(Implies(S, R), Implies(R, Q), Implies(Q, P))"
   ]
  },
  {
   "cell_type": "code",
   "execution_count": 3,
   "metadata": {},
   "outputs": [
    {
     "name": "stdout",
     "output_type": "stream",
     "text": [
      "Passed sanity check: built 'expr' is the same as the stored Expression.\n"
     ]
    }
   ],
   "source": [
    "# check that the built expression is the same as the stored expression\n",
    "%check_expr"
   ]
  },
  {
   "cell_type": "code",
   "execution_count": 4,
   "metadata": {},
   "outputs": [
    {
     "data": {
      "text/html": [
       "<table><tr><th>&nbsp;</th><th>core type</th><th>sub-expressions</th><th>expression</th></tr>\n",
       "<tr><td>0</td><td>Operation</td><td>operator:&nbsp;1<br>operands:&nbsp;2<br></td><td><a class=\"ProveItLink\" href=\"expr.ipynb\"><img src=\"data:image/png;base64,iVBORw0KGgoAAAANSUhEUgAAAOUAAAAVBAMAAABLdTQ8AAAAMFBMVEX////c3NxERESqqqpUVFS6\n",
       "urrMzMwyMjIQEBCIiIh2dnYiIiLu7u5mZmaYmJgAAABXZE4RAAAAAXRSTlMAQObYZgAAArRJREFU\n",
       "SMe9Vj1s00AY/Zw4iRJsJysLzVYGpFQIiYGhVpWlXRokJBg9IMHWjhSGgviXkGpVqFKFUCIxABGI\n",
       "DiylRY1Y6IJasRTxlwxl7l8aSNoSvjvfxXc+px2QcsP5nv3y3t337uwAgPUTetbi5Qy5GO+ghy1+\n",
       "m/TJTQrWf3z/pVIet/NDE2ycHK3n+90QHe11eTgcyEr5t7jINQJSN0mfqMGHzRDqNsDyOBuns2Dc\n",
       "D+E8d0BfDAVi+w0QuQXwwvccAYhybTD8UjQB9F0GxnCRowWF9DGL3Z0wICm10KElemoNvNupW6LC\n",
       "R0m8n2gwUHQAJh2FdIN01UoIkJRw5taB6BnbQc+OXMzmowg+HOPoJHLqECSZdEpvCiqQlTA5fUda\n",
       "Z3tGrP1LPkjbEJ3nAP3OuQqpL0ttBlQgK2FyK1nmadIYi+1tenK+LZC2tMojHH76sJNIffaLZymR\n",
       "qjXS55wgCCqVIP4erxsEXKWF0NanHgkLPcuqU6zAIC95ch+iDVBISzSyP94tCchKI+WvZFUJnMTl\n",
       "e+xh6q/ANK4VeIRpW8i2DgqJGpAdCUEgKeX4burHUlwi68CrIXpeedWJsM/2s9UkT4+0R/cnK5IE\n",
       "JKU9ho+VsNMxTwMXrG35US2cYhHiPDZKPJEaWC1QSJOk4wEIIKB0wFRonqk573Vg2v7kzgjHs+oa\n",
       "UGHH02xCJUgaLByfid9lx58DVYm/WDpnxcTzMC28QMeFQ1V0Txi0MDn8ZVOrBUmpxVLqNO6OlTkB\n",
       "qEr7QU89lh+q+cwI+9WnXN0Fc8I1pjJgfG7ju3ttViHBhetPBsCB5S0BhCrJnsEPTvBGLAOHkSKO\n",
       "hTbnRdBNqaun0qzDH0dWL3p73wddG/W0/t9Tb+/6nh7o2uj305g/2tM94uP/AP2SIuhO9Ta19azH\n",
       "/4f+ASEx+hb7Uzb3AAAAAElFTkSuQmCC\n",
       "\" style=\"display:inline;vertical-align:middle;\" /></a></td></tr>\n",
       "<tr><td>1</td><td>Literal</td><td></td><td><a class=\"ProveItLink\" href=\"../../../packages/proveit/logic/set_theory/enumeration/__pv_it/07381ed5b23806e8d7914b78cb6667769e3708dd0/expr.ipynb\"><img src=\"data:image/png;base64,iVBORw0KGgoAAAANSUhEUgAAAB4AAAAOBAMAAADKyLEKAAAAMFBMVEX///8iIiIQEBCIiIjMzMzc\n",
       "3Nyqqqp2dnZEREQyMjK6urru7u5mZmZUVFSYmJgAAACI6eGPAAAAAXRSTlMAQObYZgAAALRJREFU\n",
       "CNdjYGDgu3Nm3wIGBJjHwN0PZW5yYGDgLWBgyITy8zcwMMQDxZyh/INAvD6BgcEFypcB4vjPDiBm\n",
       "TPFRrhs/LjMwMP//38rAwCbKEMPA9gEkE3fp0waG+AUMRxh4JkC01T9guPTOOICBEWgVH5C//wHD\n",
       "H5D4fqCz9oCMDGD4DLaegRXslLMMDMpAgxlOMmQxHDRgYG5gYLBk4D7KcIe7gOHC2rt9QCXsh40Z\n",
       "GCKMGQDRkC8N/Ph1XAAAAABJRU5ErkJggg==\n",
       "\" style=\"display:inline;vertical-align:middle;\" /></a></td></tr>\n",
       "<tr><td>2</td><td>ExprTuple</td><td>3, 4, 5</td><td><a class=\"ProveItLink\" href=\"../01fcb58d4a65786bf7ab72a1b0a51da4a2cfcea70/expr.ipynb\"><img src=\"data:image/png;base64,iVBORw0KGgoAAAANSUhEUgAAAN4AAAAVBAMAAADbZk3zAAAAMFBMVEX////c3NwiIiJERESqqqqY\n",
       "mJh2dnZmZmYQEBDu7u4yMjJUVFTMzMyIiIi6uroAAAAs73DqAAAAAXRSTlMAQObYZgAAArxJREFU\n",
       "SMe9Vk1oE0EYfSHZpJu/5uJJpNKLFJHmoKBeUvRWD83ZgubUoCAWhfqDkAoe/MF2wYOllxZB0UNt\n",
       "pNBLKN2zHrrowYMtiZ5KvdhWU2uSxm93Z7KzOxtzEDKws/N23743+33fzC7Q7ZY0umalVKj7YI5G\n",
       "b925JN//0iwtLbBxYrVWOus3tUB+bMUfuJVKx1O4R8M3dESzePbDh7YLzMyzcW8a6mMfzlUdsQFf\n",
       "ILY/QPA+ojRvc87LQIjrQm2R4g0gdsDAGhFXKxJpNk3dEz/gUqqSQxVKDj0aRaFOV1qximp8lKDr\n",
       "0ToDZR1Y1CXSC7MraD7ApUSzVvagTmLLLJmf5NeSShb5KDhJr8XRaeLU4CVFrOlcr8jArUTZipHL\n",
       "SUyYWW6ui7G+xge9RYROcEBe5wyJ1Je2LIZk4FaibM3R3TxeWrFq7qbM841+sw2O85StfH7aykBt\n",
       "47Zt5yIVsmaf0b3Aq5RD/BidhzFllfHo9CPhBYdZRMoaRniYE/sI1SGRBq0U/bYvuYBbaXlswnyj\n",
       "TbDyC/8SWOrrCk9Zb1HIZQ0SyRKnygO8wKWUYZWzZvlRGFTR7/2VVsr6ik4uAy4/m7Rj1SELjgu4\n",
       "lHZ4XPGAvCjKgW0nNf1nWMpoDpdznJmFUoVEWjQ7HnQBeJT2mMomTtlLPVJ0JnVBWH4FQ4XGll+k\n",
       "Ac1LGqkcWY9PsaXNgazEN42LVKGIUM1/EjbEeWHRlI1DqhWMDD3VCGS9pPBALnyeKmHuqABkpX02\n",
       "yOMbLcRkaSnrsILsieeZmoHIgqFOp6DebNI+fHdDIuH7q49D0DGzLQBfJau9RU/Ku7XGpS9WSt5/\n",
       "BVJQV8jiqwjaKdF+puQ6f7b+fTs4vmXXuAPatbBhf4/+yy/WPHD8bNCuzdJxuKNfhx+A+EPySoig\n",
       "bXtnFlH3/icSOv4CXyrqRuEU/K0AAAAASUVORK5CYII=\n",
       "\" style=\"display:inline;vertical-align:middle;\" /></a></td></tr>\n",
       "<tr><td>3</td><td>Operation</td><td>operator:&nbsp;8<br>operands:&nbsp;6<br></td><td><a class=\"ProveItLink\" href=\"../7e3f2f1562f5c718ad828a0c792cc977800a00590/expr.ipynb\"><img src=\"data:image/png;base64,iVBORw0KGgoAAAANSUhEUgAAAD0AAAAPBAMAAACl/tp8AAAAMFBMVEX///8iIiIQEBCIiIjMzMzc\n",
       "3Nyqqqp2dnZEREQyMjK6urru7u5mZmZUVFSYmJgAAACI6eGPAAAAAXRSTlMAQObYZgAAAO1JREFU\n",
       "GNNjYGDgu3Nm3wIGdMB8/+/dTgMQax4Ddz8DJuBvYODWBNK8BQwMmXDRDXCWP1DzfaC58Q4MDM5w\n",
       "0dlwlj1QfD4Qr09gYHCBi66Fs5oYGFj+Aun4zw5ItrIbwFhAuUQQh/n//1YQn0cQDP5ApVn+Gh+C\n",
       "qI279AnhKga2WVD//WZg+wIVq3+AZMNOLTDFoQC2goEPiPcjybNMhxjGf4GBFSS/B+TEAIT9ElC7\n",
       "/B8w8H1ngATNWSTrLyC8z/MZGFwHDRiYGxDykTAGMMiZP7M+YLiw9m4fkutaIRT3if+XGRhOGmPE\n",
       "igMaHwAvID4qdLHZ9QAAAABJRU5ErkJggg==\n",
       "\" style=\"display:inline;vertical-align:middle;\" /></a></td></tr>\n",
       "<tr><td>4</td><td>Operation</td><td>operator:&nbsp;8<br>operands:&nbsp;7<br></td><td><a class=\"ProveItLink\" href=\"../9689ca3517a1f7154890f40ae98c2a58c9e7b4290/expr.ipynb\"><img src=\"data:image/png;base64,iVBORw0KGgoAAAANSUhEUgAAAEEAAAASBAMAAAD2w64vAAAAMFBMVEX///92dnaYmJjc3NxmZmYi\n",
       "IiKqqqq6urrMzMwQEBDu7u4yMjJERERUVFSIiIgAAAArjcN0AAAAAXRSTlMAQObYZgAAARJJREFU\n",
       "KM9jYGB4+//unX0MWACziOA9COsPA8PKDVhUSDcw8EaBGBz/GBh4v8PFF8AYqw8AibkgFt8PBgbu\n",
       "H3AVu2CMrSDCH6SBZwIDQ/8FuIpaKM0C1iRfACT4LzCwxSFsZ3wAoe0PgFUkAIn+e0/mQXSFgsEX\n",
       "iAp/BRB5vgFIvF/AkN+A5AW27WAqHuzknyDiJNgiJLB6OlyO7SOI/Au0E1kFx0aw7q8ggnsWSOAT\n",
       "A4O+AJI7YiAhsh9EgK0HBYf/Ay6EM6Dm5RfYveAA28fzAejYB0ZwFdYwX0cJMOYYABlLzv99wMCy\n",
       "7wFcxWF40G18msDQgCW+kMR4GpiwqUACPA7V+BUw8P7/TkAFx0xgyAMAojlNzTn4md0AAAAASUVO\n",
       "RK5CYII=\n",
       "\" style=\"display:inline;vertical-align:middle;\" /></a></td></tr>\n",
       "<tr><td>5</td><td>Operation</td><td>operator:&nbsp;8<br>operands:&nbsp;9<br></td><td><a class=\"ProveItLink\" href=\"../e68579a87d8af8682261308d85781b9da92225cb0/expr.ipynb\"><img src=\"data:image/png;base64,iVBORw0KGgoAAAANSUhEUgAAAEAAAAASBAMAAAAZAcURAAAAMFBMVEX///+YmJiqqqq6uroQEBBE\n",
       "RETu7u4iIiLMzMwyMjKIiIhUVFRmZmZ2dnbc3NwAAADS0us6AAAAAXRSTlMAQObYZgAAAQRJREFU\n",
       "KM9jYGDgu3N3FwMWsPr/7t3VD4CMmw0M3GXYVPxkYGD1Y2DIDACyveGibHAWx18GBiYgng7inE+A\n",
       "CXPCWVyfGRgY/zDw/ABx7hvAhJk3wFisHxgYuD8xvA8AK1CAm3wLxuCfwMCQH8BwXgDEiW8AEsfL\n",
       "QaD+AFRB/wUGjhoGhnqwnV+QHK8JtW793rtnH0ClQI5F+GMKREU8xLnfwU53Q1LQeY0BIcPAMB9E\n",
       "6IOcAHVDeRg0GP5AaH2DVys4nJEM0EYKBhDgLbvAq/oAIc83ARYM36AM67nLFRga4ApYoYpz4n8v\n",
       "gIs1MCIUcGCJNdYDlgx4Aff/z/gVcLgI4JYEAFUCRya3EUBkAAAAAElFTkSuQmCC\n",
       "\" style=\"display:inline;vertical-align:middle;\" /></a></td></tr>\n",
       "<tr><td>6</td><td>ExprTuple</td><td>10, 11</td><td><a class=\"ProveItLink\" href=\"../83d3aea4046ebaaf4173060b9b4c7d32b778edf20/expr.ipynb\"><img src=\"data:image/png;base64,iVBORw0KGgoAAAANSUhEUgAAADIAAAAVBAMAAAD2uKAMAAAAMFBMVEX////c3NwiIiJERESqqqqY\n",
       "mJh2dnZmZmYQEBDu7u4yMjJUVFTMzMyIiIi6uroAAAAs73DqAAAAAXRSTlMAQObYZgAAAThJREFU\n",
       "KM9jYMAN+C5gEWR9ACROg1jR5ZVxELHb/3dvXsvAUANkrgRirgCGyR+gyj8zMMxYwMDFwMALMmwb\n",
       "AwPLAogEz18GBu5/DKwJDBwTGBgY/wBFoNbxAtlcfxg4GxhegRzxBShzACLD3MDAcH4DA4MJQxmQ\n",
       "x/j/DtxV/BsYWHSBdDrDUhD3/v/PAlCZ83uv94JoL4Y+EMUY3d8Jlbk/gcEfZPALhn8QAbavUBkL\n",
       "sIFAvWCZAAYGTpjMbwYGeYhMC1C0AGjeR6h3gCriE8CmmUI8yb6BgRPmnfoLQGYU0HUM7EBXXmZg\n",
       "mK8A8g4wkO5fEAW5+hEwMPh2bwZaNQNo4HT73xcY2NcCw2MdA4cA3JMPkaIBGDqsCXBeAJIM2wVI\n",
       "LGDKzAJiaRiHFzlSN4JCBlts8x5gAADxw1LgAn4LQQAAAABJRU5ErkJggg==\n",
       "\" style=\"display:inline;vertical-align:middle;\" /></a></td></tr>\n",
       "<tr><td>7</td><td>ExprTuple</td><td>11, 12</td><td><a class=\"ProveItLink\" href=\"../c734385423c1129d2d048329a1dc435258d733800/expr.ipynb\"><img src=\"data:image/png;base64,iVBORw0KGgoAAAANSUhEUgAAADUAAAAVBAMAAAAUZLt1AAAAMFBMVEX////c3NwiIiJERESqqqqY\n",
       "mJh2dnZmZmYQEBDu7u4yMjJUVFTMzMyIiIi6uroAAAAs73DqAAAAAXRSTlMAQObYZgAAAVVJREFU\n",
       "KM99kj1Lw1AUht+SryZptYuTiHMHsYvg1oA/oE6OmsmCIGZyTQcHRdRsFqcgKDgUCx2lkN2hwcXB\n",
       "gsFRl6IoQqv1nNxbqlAM5OS957k5H/dc4L9nKp7oXmdzS+/D8KbVGHkz1c02YEQkr3j9BtRDybYi\n",
       "2EWAlnkOmfsC7G+BzkpkDoE1IBuQzA8AayDYORs/QB14ZqnUgE4zRUa6ZSeB4mCX5XQT6oL4bb6U\n",
       "Mge6hwuWnfb9kazEX2VbjqCGOGb5GKASCbbI+fFJfdeQVrechoX0AuoH1d4TrE95JHtlYx2kbI/b\n",
       "ewc2XMGu2XACirkk2/NjE5yqksx1c1yEFqLK7fWonHjG5Hh60dVXCiw8PAGn5X4MoxGbJ+x7ubxz\n",
       "QDGtBNnCr3EJrUQaMTozzR0zTXwUjw9yezSjP8weUmMmj2x2zOQNyO3TudkcPzP5TnSBH6hmWpoD\n",
       "Ce2gAAAAAElFTkSuQmCC\n",
       "\" style=\"display:inline;vertical-align:middle;\" /></a></td></tr>\n",
       "<tr><td>8</td><td>Literal</td><td></td><td><a class=\"ProveItLink\" href=\"../../../packages/proveit/logic/boolean/implication/__pv_it/e5c030cabcb650938f92dee8256fe11cd12bf9b30/expr.ipynb\"><img src=\"data:image/png;base64,iVBORw0KGgoAAAANSUhEUgAAABMAAAANBAMAAAC5okgUAAAALVBMVEX////c3NxERETMzMwQEBCq\n",
       "qqoiIiJmZmaIiIh2dnZUVFS6uroyMjLu7u4AAACPpZJTAAAAAXRSTlMAQObYZgAAAD1JREFUCNdj\n",
       "YAABXgY44LkAZ3IvQAjPABFlaSCQV4AQjtkAZ/IegbNt5sLUpunC5aPgLMYDcCaTAJzJDCIA2yMN\n",
       "HCCUuIIAAAAASUVORK5CYII=\n",
       "\" style=\"display:inline;vertical-align:middle;\" /></a></td></tr>\n",
       "<tr><td>9</td><td>ExprTuple</td><td>12, 13</td><td><a class=\"ProveItLink\" href=\"../bafeaee52c3cb8caa903702827e8abac06f62efc0/expr.ipynb\"><img src=\"data:image/png;base64,iVBORw0KGgoAAAANSUhEUgAAADYAAAAVBAMAAAD/UwB2AAAAMFBMVEX////c3NwiIiJERESqqqqY\n",
       "mJh2dnZmZmYQEBDu7u4yMjJUVFTMzMyIiIi6uroAAAAs73DqAAAAAXRSTlMAQObYZgAAAUlJREFU\n",
       "KM99UrtKA0EUPWvcdTfksZVNGgt/QFC0ELS2sRfBjYhbiLAgpBJMoa2msrASRFAQ0ZQRyZIqYJH8\n",
       "gCRYBSvxBZqw8czsDEQJXrjDmXMuc18D/GeZ5lDabPN4EGi8sKVD0tXuXfkW2CW+pFtXQLmkxOwp\n",
       "MOciyTDGO2ek7BulNTxg2YPpwWZ4coLU2JfSWsy0FsAp4pm3vVC8GyltgV5dBKZRAIw3QVnvSvtm\n",
       "EsH4OOdrH4JK9GIp9QnUAoIlHAIjMlO2qHrobvp5ATqINMvSpCV0TQ2piTJxofqLb1LbZwsvRKM9\n",
       "TQUKdDBDOjIewzq7Kun2pK2wUmD9GBtTrPxVtqdn5+NJrKKyPYkUnCMXzk7/XmnXsF0J5rHKGHdg\n",
       "SZyZGZc+m+H0zcEFWs14Rxxgv/1HO6HnJKof8Pj1A7heGMP/RDrEDxkxUn4kpavDAAAAAElFTkSu\n",
       "QmCC\n",
       "\" style=\"display:inline;vertical-align:middle;\" /></a></td></tr>\n",
       "<tr><td>10</td><td>Variable</td><td></td><td><a class=\"ProveItLink\" href=\"../../../packages/proveit/__pv_it/abeee18594afe51bfb1be95d9591fbba24ac53f30/expr.ipynb\"><img src=\"data:image/png;base64,iVBORw0KGgoAAAANSUhEUgAAAA0AAAAOBAMAAAAGUYvhAAAAMFBMVEX///8iIiIQEBCIiIjMzMzc\n",
       "3Nyqqqp2dnZEREQyMjK6urru7u5mZmZUVFSYmJgAAACI6eGPAAAAAXRSTlMAQObYZgAAAF1JREFU\n",
       "CNdjYGDgu3Nm3wIGBoZ5DNz9QIq3gIEhE0jHOzAwOAPp9QkMDC4g/megABAw///fCmbEXfq0Acxg\n",
       "qH8ANAVI7wfSe0BKAyBGnAXigwYMzA1A+sLau31ACgAz0hhbkhGHbwAAAABJRU5ErkJggg==\n",
       "\" style=\"display:inline;vertical-align:middle;\" /></a></td></tr>\n",
       "<tr><td>11</td><td>Variable</td><td></td><td><a class=\"ProveItLink\" href=\"../../../packages/proveit/__pv_it/e24df48bc297bbcf3538a62f5b4f635a392abfce0/expr.ipynb\"><img src=\"data:image/png;base64,iVBORw0KGgoAAAANSUhEUgAAABAAAAAOBAMAAADUAYG5AAAAMFBMVEX///92dnaYmJjc3NxmZmYi\n",
       "IiKqqqq6urrMzMwQEBDu7u4yMjJERERUVFSIiIgAAAArjcN0AAAAAXRSTlMAQObYZgAAAG1JREFU\n",
       "CNdjYGB4+//unX0MIPCHgWHlBiDN8Y+Bgfc7kMH3g4GBG4gZeCYwMPRfADL4LzCwxYHU9t97Mg+s\n",
       "6f0ChvwGEOMkWBYI/jIw2IMYHJ8YGPQFoMb4P+ACGvMBqP6BEcOS838fMLDsewAAOpQikqrQNfgA\n",
       "AAAASUVORK5CYII=\n",
       "\" style=\"display:inline;vertical-align:middle;\" /></a></td></tr>\n",
       "<tr><td>12</td><td>Variable</td><td></td><td><a class=\"ProveItLink\" href=\"../../../packages/proveit/__pv_it/98124f92e6e1fc3772af50ac63eaa1f5624776f20/expr.ipynb\"><img src=\"data:image/png;base64,iVBORw0KGgoAAAANSUhEUgAAAA8AAAASBAMAAAB2sJk8AAAAMFBMVEX///+YmJiqqqq6uroQEBBE\n",
       "RETu7u4iIiLMzMwyMjKIiIhUVFRmZmZ2dnbc3NwAAADS0us6AAAAAXRSTlMAQObYZgAAAHxJREFU\n",
       "CNdjYGDgu3N3FwMI3Gxg4C4D0pkBQMIbiKeDRM8nMPD8ADHuGzC8DwAzFBjOC4AY8Q0M9Qkgxhcw\n",
       "YmBg+svA8B3E4HRjYJgPYug3ALHBqxUczkAOb9kFXtUHIGHrucsVGBrAtrI2MEIZByzBNAP3/88Q\n",
       "BocL0BoActoerD1tNT4AAAAASUVORK5CYII=\n",
       "\" style=\"display:inline;vertical-align:middle;\" /></a></td></tr>\n",
       "<tr><td>13</td><td>Variable</td><td></td><td><a class=\"ProveItLink\" href=\"../../../packages/proveit/__pv_it/6369c6c8083c513ca7161ace249642d040f9327d0/expr.ipynb\"><img src=\"data:image/png;base64,iVBORw0KGgoAAAANSUhEUgAAABAAAAAOBAMAAADUAYG5AAAAMFBMVEX////u7u5mZmaYmJi6urqq\n",
       "qqp2dnbMzMwQEBBEREQyMjLc3NwiIiJUVFSIiIgAAAAeC3ydAAAAAXRSTlMAQObYZgAAAGBJREFU\n",
       "CNdjYGB4+//u3bMbGIDgFwMDZzeQZv/GwMAKxAx8XxgYmD8BGZwfGBh4vwIZ/AsYGOQnABn1CQzs\n",
       "h0Ca3l9LUwPrni/AAAF/oDT7JygDZAwYcH6E0ELz/z4A0QBnpRnRyxnfJQAAAABJRU5ErkJggg==\n",
       "\" style=\"display:inline;vertical-align:middle;\" /></a></td></tr>\n",
       "</table>\n"
      ],
      "text/plain": [
       "0. {S => R , R => Q , Q => P}\n",
       "   core type: Operation\n",
       "   operator: 1\n",
       "   operands: 2\n",
       "1. Set\n",
       "   core type: Literal\n",
       "   sub-expressions: \n",
       "2. (S => R , R => Q , Q => P)\n",
       "   core type: ExprTuple\n",
       "   sub-expressions: 3, 4, 5\n",
       "3. S => R\n",
       "   core type: Operation\n",
       "   operator: 8\n",
       "   operands: 6\n",
       "4. R => Q\n",
       "   core type: Operation\n",
       "   operator: 8\n",
       "   operands: 7\n",
       "5. Q => P\n",
       "   core type: Operation\n",
       "   operator: 8\n",
       "   operands: 9\n",
       "6. (S , R)\n",
       "   core type: ExprTuple\n",
       "   sub-expressions: 10, 11\n",
       "7. (R , Q)\n",
       "   core type: ExprTuple\n",
       "   sub-expressions: 11, 12\n",
       "8. =>\n",
       "   core type: Literal\n",
       "   sub-expressions: \n",
       "9. (Q , P)\n",
       "   core type: ExprTuple\n",
       "   sub-expressions: 12, 13\n",
       "10. S\n",
       "    core type: Variable\n",
       "    sub-expressions: \n",
       "11. R\n",
       "    core type: Variable\n",
       "    sub-expressions: \n",
       "12. Q\n",
       "    core type: Variable\n",
       "    sub-expressions: \n",
       "13. P\n",
       "    core type: Variable\n",
       "    sub-expressions: "
      ]
     },
     "execution_count": 4,
     "metadata": {},
     "output_type": "execute_result"
    }
   ],
   "source": [
    "# display the expression information\n",
    "expr.exprInfo()"
   ]
  },
  {
   "cell_type": "code",
   "execution_count": null,
   "metadata": {},
   "outputs": [],
   "source": []
  }
 ],
 "metadata": {
  "kernelspec": {
   "display_name": "Python 3",
   "language": "python",
   "name": "python3"
  }
 },
 "nbformat": 4,
 "nbformat_minor": 0
}
