{
 "cells": [
  {
   "cell_type": "markdown",
   "metadata": {},
   "source": [
    "Expression of type <a class=\"ProveItLink\" href=\"../../../doc/html/api/demo_operations.Factorial.html\">Factorial</a>\n",
    "=======================\n",
    "# from context <a class=\"ProveItLink\" href=\"../../_context_.ipynb\">tutorial</a>"
   ]
  },
  {
   "cell_type": "code",
   "execution_count": 1,
   "metadata": {},
   "outputs": [],
   "source": [
    "# import Expression classes needed to build the expression\n",
    "import sys\n",
    "sys.path.insert(1, \"../..\")\n",
    "from demo_operations import Factorial\n",
    "from proveit import Variable"
   ]
  },
  {
   "cell_type": "code",
   "execution_count": 2,
   "metadata": {},
   "outputs": [
    {
     "data": {
      "text/html": [
       "<strong id=\"expr\">expr:</strong> <a class=\"ProveItLink\" href=\"expr.ipynb\"><img src=\"data:image/png;base64,iVBORw0KGgoAAAANSUhEUgAAABIAAAAOBAMAAADQ9FGEAAAAMFBMVEX///8iIiJmZmYyMjJERERU\n",
       "VFS6urqYmJju7u7c3NyIiIiqqqoQEBDMzMx2dnYAAACMQNsoAAAAAXRSTlMAQObYZgAAAG1JREFU\n",
       "CNdjYIAAjiNQBgPnfxiL4yOMxfAZzjrKwPAASN3ZwCDEwDUByJrzgMGPgY+BoYGBq4AhnCGXgeMA\n",
       "A/sFhtdAZdwBIIm1DEBqA8M8BoYbDL4M9xM4LUDmvFl09JTOBpAdzZ9v2JuBXAAAt+wchvePqAsA\n",
       "AAAASUVORK5CYII=\n",
       "\" style=\"display:inline;vertical-align:middle;\" /></a><br>"
      ],
      "text/plain": [
       "expr: omega!"
      ]
     },
     "execution_count": 2,
     "metadata": {},
     "output_type": "execute_result"
    }
   ],
   "source": [
    "# build up the expression from sub-expressions\n",
    "expr = Factorial(Variable(\"omega\", latexFormat = r\"\\omega\"))"
   ]
  },
  {
   "cell_type": "code",
   "execution_count": 3,
   "metadata": {},
   "outputs": [
    {
     "name": "stdout",
     "output_type": "stream",
     "text": [
      "Passed sanity check: built 'expr' is the same as the stored Expression.\n"
     ]
    }
   ],
   "source": [
    "# check that the built expression is the same as the stored expression\n",
    "%check_expr"
   ]
  },
  {
   "cell_type": "code",
   "execution_count": 4,
   "metadata": {},
   "outputs": [
    {
     "data": {
      "text/html": [
       "<table><tr><th>&nbsp;</th><th>core type</th><th>sub-expressions</th><th>expression</th></tr>\n",
       "<tr><td>0</td><td>Operation</td><td>operator:&nbsp;1<br>operand:&nbsp;2<br></td><td><a class=\"ProveItLink\" href=\"expr.ipynb\"><img src=\"data:image/png;base64,iVBORw0KGgoAAAANSUhEUgAAABIAAAAOBAMAAADQ9FGEAAAAMFBMVEX///8iIiJmZmYyMjJERERU\n",
       "VFS6urqYmJju7u7c3NyIiIiqqqoQEBDMzMx2dnYAAACMQNsoAAAAAXRSTlMAQObYZgAAAG1JREFU\n",
       "CNdjYIAAjiNQBgPnfxiL4yOMxfAZzjrKwPAASN3ZwCDEwDUByJrzgMGPgY+BoYGBq4AhnCGXgeMA\n",
       "A/sFhtdAZdwBIIm1DEBqA8M8BoYbDL4M9xM4LUDmvFl09JTOBpAdzZ9v2JuBXAAAt+wchvePqAsA\n",
       "AAAASUVORK5CYII=\n",
       "\" style=\"display:inline;vertical-align:middle;\" /></a></td></tr>\n",
       "<tr><td>1</td><td>Literal</td><td></td><td><a class=\"ProveItLink\" href=\"../d6af88116966bca28fcbee5fe103a74f1e8a81d50/expr.ipynb\"><img src=\"data:image/png;base64,iVBORw0KGgoAAAANSUhEUgAAAAMAAAAOBAMAAAAYmLtSAAAALVBMVEX////MzMyIiIiqqqqYmJh2\n",
       "dnZmZmZUVFQyMjIiIiLc3NxEREQQEBDu7u4AAACiA/ybAAAAAXRSTlMAQObYZgAAADBJREFUCNdj\n",
       "uLOBYd0DhnsTGPgaGHgKGDgTGLgDGNgdGFgNGJgEGBgvMAABUPbOBgD2TQqw6cTpzgAAAABJRU5E\n",
       "rkJggg==\n",
       "\" style=\"display:inline;vertical-align:middle;\" /></a></td></tr>\n",
       "<tr><td>2</td><td>Variable</td><td></td><td><a class=\"ProveItLink\" href=\"../9d7c4e1c5ee4d34a7826567c9ff37cf313ab71e60/expr.ipynb\"><img src=\"data:image/png;base64,iVBORw0KGgoAAAANSUhEUgAAAA0AAAAJBAMAAAAbVLtZAAAALVBMVEX///9mZmYyMjJERERUVFS6\n",
       "urqYmJju7u7c3NyIiIiqqqoQEBDMzMx2dnYAAACcB6guAAAAAXRSTlMAQObYZgAAAExJREFUCNdj\n",
       "YLjAwMBwegEDZwOQ7r7AwMvAUMDAmcAQw8C+gYHtAFCaywEkCCQWMPQyMNgwnAvgUGdguD1xy07p\n",
       "BQwMRY+O66kyMAAAM0ARC3HE760AAAAASUVORK5CYII=\n",
       "\" style=\"display:inline;vertical-align:middle;\" /></a></td></tr>\n",
       "</table>\n"
      ],
      "text/plain": [
       "0. omega!\n",
       "   core type: Operation\n",
       "   operator: 1\n",
       "   operand: 2\n",
       "1. !\n",
       "   core type: Literal\n",
       "   sub-expressions: \n",
       "2. omega\n",
       "   core type: Variable\n",
       "   sub-expressions: "
      ]
     },
     "execution_count": 4,
     "metadata": {},
     "output_type": "execute_result"
    }
   ],
   "source": [
    "# display the expression information\n",
    "expr.exprInfo()"
   ]
  },
  {
   "cell_type": "code",
   "execution_count": null,
   "metadata": {},
   "outputs": [],
   "source": []
  }
 ],
 "metadata": {
  "kernelspec": {
   "display_name": "Python 3",
   "language": "python",
   "name": "python3"
  }
 },
 "nbformat": 4,
 "nbformat_minor": 0
}
