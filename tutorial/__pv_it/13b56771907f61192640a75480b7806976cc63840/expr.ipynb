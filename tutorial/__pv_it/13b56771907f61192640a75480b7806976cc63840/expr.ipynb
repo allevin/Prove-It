{
 "cells": [
  {
   "cell_type": "markdown",
   "metadata": {},
   "source": [
    "Expression of type <a class=\"ProveItLink\" href=\"../../../doc/html/api/proveit.number.Div.html\">Div</a>\n",
    "=======================\n",
    "# from context <a class=\"ProveItLink\" href=\"../../_context_.ipynb\">tutorial</a>"
   ]
  },
  {
   "cell_type": "code",
   "execution_count": 1,
   "metadata": {},
   "outputs": [],
   "source": [
    "# import Expression classes needed to build the expression\n",
    "from proveit._common_ import m\n",
    "from proveit.number import Add, Div, Neg, one"
   ]
  },
  {
   "cell_type": "code",
   "execution_count": 2,
   "metadata": {},
   "outputs": [
    {
     "data": {
      "text/html": [
       "<strong id=\"expr\">expr:</strong> <a class=\"ProveItLink\" href=\"expr.ipynb\"><img src=\"data:image/png;base64,iVBORw0KGgoAAAANSUhEUgAAAGYAAAAVBAMAAABGR4Y+AAAAMFBMVEX///+6urrc3NwiIiKqqqrM\n",
       "zMx2dnaYmJgyMjIQEBBmZmaIiIhUVFTu7u5EREQAAAARUZehAAAAAXRSTlMAQObYZgAAASRJREFU\n",
       "OMtjYKASkMYjxy4AIt+iC7MewCYKA0uB+N5fdFGOC9hE4bIMDHfOwGS5E6CM3ciimI4DKuOGycZ/\n",
       "gTLmMiCJYgDeCUiyzJMgNGMDXj0MT7DIciVg0cO4T2n3McbdQPUMWVj0cBRg0cPG081wP5HBH8j0\n",
       "wKKHUwCLHkHmBwz3N4D1SMJkuYzB4AGQyY/Qw9QMFgUKXLgvwOB/gWEFKKyw2MOPzR6QhsUMDNNw\n",
       "6OF0wKYHaIMVA+MnXiS3IcUpH7YwANrA+5GBp0GdgaECS5yyLcCih+kjA/sHBo4NCaCw5lr5Yzla\n",
       "nBowIInC4mcCA9sDBpbTAQwMjdgiehLejAJKO5igDK8etg1YU/sFfHpuYBVlOoBPzyHswtp4tHAH\n",
       "MAAA759XQno61WkAAAAASUVORK5CYII=\n",
       "\" style=\"display:inline;vertical-align:middle;\" /></a><br>"
      ],
      "text/plain": [
       "expr: 1 / (1 - m)"
      ]
     },
     "execution_count": 2,
     "metadata": {},
     "output_type": "execute_result"
    }
   ],
   "source": [
    "# build up the expression from sub-expressions\n",
    "expr = Div(one, Add(one, Neg(m)))"
   ]
  },
  {
   "cell_type": "code",
   "execution_count": 3,
   "metadata": {},
   "outputs": [
    {
     "name": "stdout",
     "output_type": "stream",
     "text": [
      "Passed sanity check: built 'expr' is the same as the stored Expression.\n"
     ]
    }
   ],
   "source": [
    "# check that the built expression is the same as the stored expression\n",
    "%check_expr"
   ]
  },
  {
   "cell_type": "code",
   "execution_count": 4,
   "metadata": {},
   "outputs": [
    {
     "data": {
      "text/html": [
       "<table><tr><th>&nbsp;</th><th>core type</th><th>sub-expressions</th><th>expression</th></tr>\n",
       "<tr><td>0</td><td>Operation</td><td>operator:&nbsp;1<br>operands:&nbsp;2<br></td><td><a class=\"ProveItLink\" href=\"expr.ipynb\"><img src=\"data:image/png;base64,iVBORw0KGgoAAAANSUhEUgAAAGYAAAAVBAMAAABGR4Y+AAAAMFBMVEX///+6urrc3NwiIiKqqqrM\n",
       "zMx2dnaYmJgyMjIQEBBmZmaIiIhUVFTu7u5EREQAAAARUZehAAAAAXRSTlMAQObYZgAAASRJREFU\n",
       "OMtjYKASkMYjxy4AIt+iC7MewCYKA0uB+N5fdFGOC9hE4bIMDHfOwGS5E6CM3ciimI4DKuOGycZ/\n",
       "gTLmMiCJYgDeCUiyzJMgNGMDXj0MT7DIciVg0cO4T2n3McbdQPUMWVj0cBRg0cPG081wP5HBH8j0\n",
       "wKKHUwCLHkHmBwz3N4D1SMJkuYzB4AGQyY/Qw9QMFgUKXLgvwOB/gWEFKKyw2MOPzR6QhsUMDNNw\n",
       "6OF0wKYHaIMVA+MnXiS3IcUpH7YwANrA+5GBp0GdgaECS5yyLcCih+kjA/sHBo4NCaCw5lr5Yzla\n",
       "nBowIInC4mcCA9sDBpbTAQwMjdgiehLejAJKO5igDK8etg1YU/sFfHpuYBVlOoBPzyHswtp4tHAH\n",
       "MAAA759XQno61WkAAAAASUVORK5CYII=\n",
       "\" style=\"display:inline;vertical-align:middle;\" /></a></td></tr>\n",
       "<tr><td>1</td><td>Literal</td><td></td><td><a class=\"ProveItLink\" href=\"../../../packages/proveit/number/division/__pv_it/089f5ca61fe425d4f6ef7efa2138c1a2fa47180c0/expr.ipynb\"><img src=\"data:image/png;base64,iVBORw0KGgoAAAANSUhEUgAAAA4AAAAMBAMAAACgrpHpAAAAIVBMVEX///9ERERmZmbc3NwQEBAi\n",
       "IiKqqqrMzMx2dnaIiIgAAACeyUhQAAAAAXRSTlMAQObYZgAAACJJREFUCNdjYGBgmMEABuyrEiCM\n",
       "EAMG3EA1FAQCsUlhMwcALk0GeoeEfOIAAAAASUVORK5CYII=\n",
       "\" style=\"display:inline;vertical-align:middle;\" /></a></td></tr>\n",
       "<tr><td>2</td><td>ExprTuple</td><td>6, 3</td><td><a class=\"ProveItLink\" href=\"../165f14ac6510f888f33eb6cb4543d6e7a12316660/expr.ipynb\"><img src=\"data:image/png;base64,iVBORw0KGgoAAAANSUhEUgAAAFUAAAAVBAMAAADFg78FAAAAMFBMVEX////c3NwiIiJERESqqqqY\n",
       "mJh2dnZmZmYQEBDu7u4yMjJUVFTMzMyIiIi6uroAAAAs73DqAAAAAXRSTlMAQObYZgAAAR1JREFU\n",
       "KM9jYCAF8F0gSlkciDgNxMwTYEIIFhpgPwAkVjIwcNrDVCBYGGABAwPvBQbO3fuhKhAsTBDGwMAB\n",
       "krwPV3Efp9oZDAyvGIhUy+zAUIZf7VtD2dsJby87MDCwFTAsxa82YdcFzm8PWD4wMLAsYOjDq5bv\n",
       "gTID518GkFq+BoZ/2NRKKYGAHjBgOP8xsPxkYAcGGM8H7GoRAKRQgYEjAay2Bb9aoIlMBQzvBSaA\n",
       "3GAKUzEBq1qgifMfMOxiDGBgXcCQDlXB+QmrWvkHDPEMDGvZwGH2CChQ3r88gLNfAMpCUfuCgSGZ\n",
       "gcH7DgMD1wMGDgFY8AjgT5TAOGZNgLJZCSTgXEiaJEYtJzCIGaShHALZgxvkREbi8hDQdwAgdl6T\n",
       "GZJtEQAAAABJRU5ErkJggg==\n",
       "\" style=\"display:inline;vertical-align:middle;\" /></a></td></tr>\n",
       "<tr><td>3</td><td>Operation</td><td>operator:&nbsp;4<br>operands:&nbsp;5<br></td><td><a class=\"ProveItLink\" href=\"../6b06d87a6cea9088ca6843fe9d0e0b0de880d8a00/expr.ipynb\"><img src=\"data:image/png;base64,iVBORw0KGgoAAAANSUhEUgAAADQAAAAPBAMAAABZ6/G2AAAAMFBMVEX////MzMyqqqp2dna6uroi\n",
       "IiLc3NyYmJgyMjIQEBBmZmaIiIhUVFTu7u5EREQAAADE0a0DAAAAAXRSTlMAQObYZgAAAIRJREFU\n",
       "GNNjYGB4y4AL3PuLS+bOGZxSDNxUkWLZl7b7MMvuR1ikmHm6Ge6bMOhjkXJhfcBwfwOSFFtrKAg4\n",
       "MDBcuO/AoH+BYQU2ZwDFlzIwTMYmBVQfxcDyjReL1GQG3i8MPA3pmFJsXxjYPzBwbDBg4Fr5Yzmq\n",
       "vyYwMD9gYDotwIAbAAAycy0Yg6h4ZQAAAABJRU5ErkJggg==\n",
       "\" style=\"display:inline;vertical-align:middle;\" /></a></td></tr>\n",
       "<tr><td>4</td><td>Literal</td><td></td><td><a class=\"ProveItLink\" href=\"../../../packages/proveit/number/addition/__pv_it/3e6688136fa3c7aefbebe51301b7c3ebf0b69c440/expr.ipynb\"><img src=\"data:image/png;base64,iVBORw0KGgoAAAANSUhEUgAAAA4AAAAOBAMAAADtZjDiAAAAJFBMVEX///+6urpUVFQQEBAiIiIy\n",
       "MjJmZmaIiIiqqqrc3Nzu7u4AAACgHpL+AAAAAXRSTlMAQObYZgAAAB5JREFUCNdjYGBgWMkAAe2k\n",
       "0Kmhoc6hoUGk6BMHYgAHOwjcado9fwAAAABJRU5ErkJggg==\n",
       "\" style=\"display:inline;vertical-align:middle;\" /></a></td></tr>\n",
       "<tr><td>5</td><td>ExprTuple</td><td>6, 7</td><td><a class=\"ProveItLink\" href=\"../83fa61666dec847fec1d05eb03aa3212093b75740/expr.ipynb\"><img src=\"data:image/png;base64,iVBORw0KGgoAAAANSUhEUgAAAEEAAAAVBAMAAADrxp6XAAAAMFBMVEX////c3NwiIiJERESqqqqY\n",
       "mJh2dnZmZmYQEBDu7u4yMjJUVFTMzMyIiIi6uroAAAAs73DqAAAAAXRSTlMAQObYZgAAAQhJREFU\n",
       "KM9jYCAM+C7gkYwDEaeBmHkCDhXsB4DESgYGTntcKhgWMDDwXmDg3L0fp4owBgYOkOR9nCpmMDC8\n",
       "YsCrgtmBoQybireGsrcT3l52YGBgK2BYik1Fwq4LnN8esHxgYGBZwNCHRQXfA2UGzr8MIBV8DQz/\n",
       "kFVIKYGAHifnPwaWnwzsQK/yfEBVAQMgaQUGjgSwihZsKoC6mQoY3gtMANliClOBrAioe/4Dhl2M\n",
       "AQysCxjSoSo4PyGpkH/AEM/AsJYN7NtHQIHy/uUBnP0CCBUvGBiSGRi87zAwcD1g4IBJ8AngCHXW\n",
       "BCibFWuo50JiH7cKTmCQMEhDOViTGjfIakZ8qRDoVgAvgkrCoe+ySwAAAABJRU5ErkJggg==\n",
       "\" style=\"display:inline;vertical-align:middle;\" /></a></td></tr>\n",
       "<tr><td>6</td><td>Literal</td><td></td><td><a class=\"ProveItLink\" href=\"../../../packages/proveit/number/numeral/__pv_it/9be8badea4c35b9724062cecc501d17a3158d1d20/expr.ipynb\"><img src=\"data:image/png;base64,iVBORw0KGgoAAAANSUhEUgAAAAgAAAAPBAMAAAArJJMAAAAAHlBMVEX///+YmJgyMjIQEBBmZmaI\n",
       "iIhUVFTu7u5EREQAAAAw+MI4AAAAAXRSTlMAQObYZgAAACFJREFUCNdjYGBoZ2BgqJjOwFCWBiQY\n",
       "WEklWJwnOTKAAACjEQo8HvEr3AAAAABJRU5ErkJggg==\n",
       "\" style=\"display:inline;vertical-align:middle;\" /></a></td></tr>\n",
       "<tr><td>7</td><td>Operation</td><td>operator:&nbsp;8<br>operand:&nbsp;9<br></td><td><a class=\"ProveItLink\" href=\"../20325a771f726a82d8dc0565006aed3d3e8684690/expr.ipynb\"><img src=\"data:image/png;base64,iVBORw0KGgoAAAANSUhEUgAAACEAAAAJBAMAAABONVgHAAAAMFBMVEX////MzMyYmJgQEBBmZmbu\n",
       "7u6qqqp2dnZUVFRERESIiIi6uroiIiIyMjLc3NwAAAAxdnNOAAAAAXRSTlMAQObYZgAAAGpJREFU\n",
       "CNdjYICCXfNerSjYtTKBAQ4Kehewft/A9gEuwL3hJAPrLwaQyNszIHCalfU3A9tXBpYLCF0g7gEG\n",
       "5gKECFCWx4Fh/4MAuAhQNn4DQy+fAlzk/QYGfQaGW+wIXZsZGCoZGDIWMgAAG/whwP/qPJcAAAAA\n",
       "SUVORK5CYII=\n",
       "\" style=\"display:inline;vertical-align:middle;\" /></a></td></tr>\n",
       "<tr><td>8</td><td>Literal</td><td></td><td><a class=\"ProveItLink\" href=\"../../../packages/proveit/number/negation/__pv_it/3fc7a08bb9735faa20ef8e175f6ea95511acc9c70/expr.ipynb\"><img src=\"data:image/png;base64,iVBORw0KGgoAAAANSUhEUgAAAA4AAAACBAMAAACapPCZAAAAElBMVEX///+6uroiIiIyMjLc3NwA\n",
       "AAA6l9OrAAAAAXRSTlMAQObYZgAAABBJREFUCNdjcFYCAUUGKAAADR4BD8/TF5gAAAAASUVORK5C\n",
       "YII=\n",
       "\" style=\"display:inline;vertical-align:middle;\" /></a></td></tr>\n",
       "<tr><td>9</td><td>Variable</td><td></td><td><a class=\"ProveItLink\" href=\"../../../packages/proveit/__pv_it/78af03acba5349fd70398a32ce59bae1da52f0870/expr.ipynb\"><img src=\"data:image/png;base64,iVBORw0KGgoAAAANSUhEUgAAABIAAAAJBAMAAADN8WE8AAAAMFBMVEX////MzMyYmJgQEBBmZmYi\n",
       "IiLu7u4yMjKqqqp2dnZUVFTc3NxERESIiIi6uroAAABe5jFNAAAAAXRSTlMAQObYZgAAAFtJREFU\n",
       "CNdj4Luz++5KvrsnGBg4uWoZ8ucx9DMwvGM9wJB/AcRKyH/A0J/A4M7AAKJcGRgsgSwgL4SB7zcb\n",
       "iMf2j4GrYBMD9z8Gpg8M7BcmMPAZMHAeYOBYKwAAtXMYHwtZnY0AAAAASUVORK5CYII=\n",
       "\" style=\"display:inline;vertical-align:middle;\" /></a></td></tr>\n",
       "</table>\n"
      ],
      "text/plain": [
       "0. 1 / (1 - m)\n",
       "   core type: Operation\n",
       "   operator: 1\n",
       "   operands: 2\n",
       "1. /\n",
       "   core type: Literal\n",
       "   sub-expressions: \n",
       "2. (1 , 1 - m)\n",
       "   core type: ExprTuple\n",
       "   sub-expressions: 6, 3\n",
       "3. 1 - m\n",
       "   core type: Operation\n",
       "   operator: 4\n",
       "   operands: 5\n",
       "4. +\n",
       "   core type: Literal\n",
       "   sub-expressions: \n",
       "5. (1 , -m)\n",
       "   core type: ExprTuple\n",
       "   sub-expressions: 6, 7\n",
       "6. 1\n",
       "   core type: Literal\n",
       "   sub-expressions: \n",
       "7. -m\n",
       "   core type: Operation\n",
       "   operator: 8\n",
       "   operand: 9\n",
       "8. -\n",
       "   core type: Literal\n",
       "   sub-expressions: \n",
       "9. m\n",
       "   core type: Variable\n",
       "   sub-expressions: "
      ]
     },
     "execution_count": 4,
     "metadata": {},
     "output_type": "execute_result"
    }
   ],
   "source": [
    "# display the expression information\n",
    "expr.exprInfo()"
   ]
  },
  {
   "cell_type": "code",
   "execution_count": null,
   "metadata": {},
   "outputs": [],
   "source": []
  }
 ],
 "metadata": {
  "kernelspec": {
   "display_name": "Python 3",
   "language": "python",
   "name": "python3"
  }
 },
 "nbformat": 4,
 "nbformat_minor": 0
}
