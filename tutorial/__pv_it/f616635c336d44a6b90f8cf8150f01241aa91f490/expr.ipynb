{
 "cells": [
  {
   "cell_type": "markdown",
   "metadata": {},
   "source": [
    "Expression of type <a class=\"ProveItLink\" href=\"../../../doc/html/api/proveit.logic.Implies.html\">Implies</a>\n",
    "=======================\n",
    "# from context <a class=\"ProveItLink\" href=\"../../_context_.ipynb\">tutorial</a>"
   ]
  },
  {
   "cell_type": "code",
   "execution_count": 1,
   "metadata": {},
   "outputs": [],
   "source": [
    "# import Expression classes needed to build the expression\n",
    "from proveit._common_ import A, C\n",
    "from proveit.logic import Implies"
   ]
  },
  {
   "cell_type": "code",
   "execution_count": 2,
   "metadata": {},
   "outputs": [
    {
     "data": {
      "text/html": [
       "<strong id=\"expr\">expr:</strong> <a class=\"ProveItLink\" href=\"expr.ipynb\"><img src=\"data:image/png;base64,iVBORw0KGgoAAAANSUhEUgAAAL8AAAAVBAMAAADlQyK9AAAAMFBMVEX///92dnYQEBBERERUVFS6\n",
       "urqIiIhmZmaqqqrc3Nzu7u6YmJgyMjIiIiLMzMwAAACFkkdwAAAAAXRSTlMAQObYZgAAAhlJREFU\n",
       "OMvFlb9LI0EUx1+i67pJXMVCwcY0B3IWXnGFYqGFIIKgiGCjELDX1UZFMPkDjjOgEAvBIGgVJBZ2\n",
       "glG0UBELO0FMYSvanL/hnB9vzMbZN5Y++M6PfObN7L73dgLwfWYlpMwWHTTAHTW4DaI3KIrD5u+Z\n",
       "fAYWAllkvHfe8ewiTs+D1pygKB5qBRhphVjgAfV5sKbzUMDXvM6WkBpWJaQoHjljo9AzROt0BrlL\n",
       "1jSnYVtOV5Lp8gfnFs5KUTz2k+cpDpG4zuCAOw4BrMtpYtKXqWHsR1EUT6ZY43gA7Tqzn3ibAahI\n",
       "iXLJLuZ9ocXCmUIR3HkTcWJZbNR910Tst9gPHh9swJ0A9pWwR7noFEVw+1Xt+kf3TaoHqhYnDcKa\n",
       "5yuA6iPR/UARvOZZzYd032uVM4snyO3pGfjlL7Gc2PcfiuC19yJETHe6739VUy5fZbFqKfjWuPvZ\n",
       "sgOCeVgc8PfTAejbJt6miAewRNfEfXG8kLXZgiJ45QtvPRWict8B3tkYIodtELv3hbFb9p0ogrsP\n",
       "vGr4Rru6ryiKJv6JslfPsb7ipbRoFftGFMX3UmDNqYWfWJR9ByM80axMl9qOIdr1ViqTDuzHpEju\n",
       "9vfOisERaAxuDmfEJxYLuGvVBRhOS1H8496M00xdFcEXfR2UXWSUhUx/GQ0mzxP/7UVbzsAiBZPn\n",
       "MuoL6zOwyrTJ00lIma2qaIATAO99RLgmAXafIAAAAABJRU5ErkJggg==\n",
       "\" style=\"display:inline;vertical-align:middle;\" /></a><br>"
      ],
      "text/plain": [
       "expr: A => ((A => C) => C)"
      ]
     },
     "execution_count": 2,
     "metadata": {},
     "output_type": "execute_result"
    }
   ],
   "source": [
    "# build up the expression from sub-expressions\n",
    "expr = Implies(A, Implies(Implies(A, C), C))"
   ]
  },
  {
   "cell_type": "code",
   "execution_count": 3,
   "metadata": {},
   "outputs": [
    {
     "name": "stdout",
     "output_type": "stream",
     "text": [
      "Passed sanity check: built 'expr' is the same as the stored Expression.\n"
     ]
    }
   ],
   "source": [
    "# check that the built expression is the same as the stored expression\n",
    "%check_expr"
   ]
  },
  {
   "cell_type": "code",
   "execution_count": 4,
   "metadata": {},
   "outputs": [
    {
     "data": {
      "text/html": [
       "<table><tr><th>&nbsp;</th><th>core type</th><th>sub-expressions</th><th>expression</th></tr>\n",
       "<tr><td>0</td><td>Operation</td><td>operator:&nbsp;5<br>operands:&nbsp;1<br></td><td><a class=\"ProveItLink\" href=\"expr.ipynb\"><img src=\"data:image/png;base64,iVBORw0KGgoAAAANSUhEUgAAAL8AAAAVBAMAAADlQyK9AAAAMFBMVEX///92dnYQEBBERERUVFS6\n",
       "urqIiIhmZmaqqqrc3Nzu7u6YmJgyMjIiIiLMzMwAAACFkkdwAAAAAXRSTlMAQObYZgAAAhlJREFU\n",
       "OMvFlb9LI0EUx1+i67pJXMVCwcY0B3IWXnGFYqGFIIKgiGCjELDX1UZFMPkDjjOgEAvBIGgVJBZ2\n",
       "glG0UBELO0FMYSvanL/hnB9vzMbZN5Y++M6PfObN7L73dgLwfWYlpMwWHTTAHTW4DaI3KIrD5u+Z\n",
       "fAYWAllkvHfe8ewiTs+D1pygKB5qBRhphVjgAfV5sKbzUMDXvM6WkBpWJaQoHjljo9AzROt0BrlL\n",
       "1jSnYVtOV5Lp8gfnFs5KUTz2k+cpDpG4zuCAOw4BrMtpYtKXqWHsR1EUT6ZY43gA7Tqzn3ibAahI\n",
       "iXLJLuZ9ocXCmUIR3HkTcWJZbNR910Tst9gPHh9swJ0A9pWwR7noFEVw+1Xt+kf3TaoHqhYnDcKa\n",
       "5yuA6iPR/UARvOZZzYd032uVM4snyO3pGfjlL7Gc2PcfiuC19yJETHe6739VUy5fZbFqKfjWuPvZ\n",
       "sgOCeVgc8PfTAejbJt6miAewRNfEfXG8kLXZgiJ45QtvPRWict8B3tkYIodtELv3hbFb9p0ogrsP\n",
       "vGr4Rru6ryiKJv6JslfPsb7ipbRoFftGFMX3UmDNqYWfWJR9ByM80axMl9qOIdr1ViqTDuzHpEju\n",
       "9vfOisERaAxuDmfEJxYLuGvVBRhOS1H8496M00xdFcEXfR2UXWSUhUx/GQ0mzxP/7UVbzsAiBZPn\n",
       "MuoL6zOwyrTJ00lIma2qaIATAO99RLgmAXafIAAAAABJRU5ErkJggg==\n",
       "\" style=\"display:inline;vertical-align:middle;\" /></a></td></tr>\n",
       "<tr><td>1</td><td>ExprTuple</td><td>7, 2</td><td><a class=\"ProveItLink\" href=\"../16353a3c27bf1663d48feb5796a6836661d3619c0/expr.ipynb\"><img src=\"data:image/png;base64,iVBORw0KGgoAAAANSUhEUgAAAKYAAAAVBAMAAAA++IifAAAAMFBMVEX////c3NwiIiJERESqqqqY\n",
       "mJh2dnZmZmYQEBDu7u4yMjJUVFTMzMyIiIi6uroAAAAs73DqAAAAAXRSTlMAQObYZgAAAlVJREFU\n",
       "OMu1lT1oFEEUx//r3Xq36966kICgSEJstDqFBJIq6YRYeCiksJB0ahE8BD8KISfYmMLbMoQQzsIk\n",
       "hxDPyuKKHJZekYCt4mLjF4KfhAQ0zryZvZmdi3s2Wbh5c++3783M+5gF9uPxNw3Fl54ml1OYHbGh\n",
       "LeYvYqXXEGJwLwvn1fObVjnX+jfDXTatC83TGLmhEF/3srtagn+nhFoKc4GCOLpdDCV6I8SFbfV2\n",
       "jLBwig3XA0xpuzOZPY28MOifDSR7QKN19puyq8eTVf7yB2BeMTc0mFPBJ6HZfBvJlIlzFQp/lN1n\n",
       "KXM/+XgEyEyoFDcMhmHcEiQ8X5JsmsTH7C/l86AsjQFab5EpygrOGAxX8Jg0S9iQdi75diLvN60w\n",
       "RM+WYLNyXWTJwQ1ixXKSYRIPSUYYkEvnKQY+rC0tpdk1EsU45n5Fg5NRgrGYUti8ZnP9tNAcpjfa\n",
       "zeYPvU4WaOnduAo8vdCc1Uhn2BA+fba/mu6TDXOambdM2a3SnluGz5fXEoz5vM/nLI0H5HHyPKVZ\n",
       "9jupxfOEKJh1LnKds4t4Do0lGTv7CC/GCdE3XJ3hse7XG4stIeuF8sh3ZWuNdM5guMQyz6LFfW3D\n",
       "+Q5RJg43Ge90D47G9wOrwfcBErVk1QzGPL4D+qqPYI/vlJ0q0/mDsEZ3AlzcXenYnYkn7Se3qdrd\n",
       "qMMygcGwhnygXXt8fq/7dui6hrTe9LqupwpveXX38WHqP+7cmRTGm65u+HTDni6dWgrkyTmm/lJ7\n",
       "Wo2ePg8FKfAZ92F+O4739Pk6hRVa+AusBZnKpIy3+gAAAABJRU5ErkJggg==\n",
       "\" style=\"display:inline;vertical-align:middle;\" /></a></td></tr>\n",
       "<tr><td>2</td><td>Operation</td><td>operator:&nbsp;5<br>operands:&nbsp;3<br></td><td><a class=\"ProveItLink\" href=\"../057d746190becc4b2f020fbfb74fa6244b378bb40/expr.ipynb\"><img src=\"data:image/png;base64,iVBORw0KGgoAAAANSUhEUgAAAH8AAAAVBAMAAACd/CwcAAAAMFBMVEX////c3NwiIiJERESqqqqY\n",
       "mJh2dnZmZmYQEBDu7u4yMjJUVFTMzMyIiIi6uroAAAAs73DqAAAAAXRSTlMAQObYZgAAAbxJREFU\n",
       "OMtjYKAY8F0gpIL1AV7p0xDqEFbJudblAeIMNVjlOC9vL2UsYGBYCeGux6aGrZWB4XkrAxdWAzIC\n",
       "GPgqAhh4IT5g1Z+AkIIxORcBWWwfGVgTMOUYZmkCiXwBBg6IiEi9AEIR1FEMXJ2gMGpg4GzAlGNY\n",
       "AdL4goHhFYR74T5SSL2G0vUOQALkTRNMOfYvIFKcgaEMEhUT/AOQvA7xFuMvsD8OMDCkY8gxyC8A\n",
       "kXMYGJaCufMYzoMl2JXA4DvEkq8wXV4Ycgz1MAv7wOQDBvkCpABmWQcimT7C+C8w5Bj0YWH2D0Tw\n",
       "7N693wA5imaBzOX/APYCEJ/HkGP4D4sTsAF8DAwcC5DU8CwDBTEH2AAfNAMgcgz9YNcAw6cFxACG\n",
       "NlMDkj+VwWq4f4LIApgXUOQY9oModiA2BQU30ACuD0je3ACx6y8o1EEKozDkIIGeyQCJoVlAzPwT\n",
       "oUgKSsc7MPAVMjCgRCNMjhWYDp6DAvIRA4Nw/0IGVvtfiGgwhHl31/YSMGMdA4Ycw+nV5aB0xsAh\n",
       "gJlNDqDnuwbccigZBRdgw1tkrCRswCy8stKEDdiIV5aRYJHGewCPJABMDGvUDJBDFgAAAABJRU5E\n",
       "rkJggg==\n",
       "\" style=\"display:inline;vertical-align:middle;\" /></a></td></tr>\n",
       "<tr><td>3</td><td>ExprTuple</td><td>4, 8</td><td><a class=\"ProveItLink\" href=\"../869d4ffcbada0245eec0064f5082e6106278b4590/expr.ipynb\"><img src=\"data:image/png;base64,iVBORw0KGgoAAAANSUhEUgAAAGUAAAAVBAMAAACtcD09AAAAMFBMVEX////c3NwiIiJERESqqqqY\n",
       "mJh2dnZmZmYQEBDu7u4yMjJUVFTMzMyIiIi6uroAAAAs73DqAAAAAXRSTlMAQObYZgAAAbZJREFU\n",
       "OMtjYCAH8F0gSXkciDgNYR/CqmKudXmAOJTNeXl7KWMB+wEgcyVEZD02LWytDAzPW6GcjAAGvooA\n",
       "hgUMDLwQp7HqT0AohTE5FwFZbB8hnFmaQCJfgCGMgYEDokCkXgChB2o1A1cnyL8NEM4KkMIXDAwz\n",
       "GBheQUQu3H+A0PMaStc7AAnGAjCb/QuIBPqN2YGhDBJ4E/wDkLwBcS/jL7ADD4A58gtA5BygZAHD\n",
       "UrDIPIbzYHXsSmDwHWL0V6TgqIeZybKAoQ/MeMAgX4CkgGUdiGT6iCSkD/Mv0H//QDTP7t37DZAD\n",
       "eRbIKP4PYLdBRP7DQpTnA0QPHzD8FiBp4VkGCiQOsB4fiFA/2P4DYD0tIDYwfJgakPyjDI4A7p8g\n",
       "Eurm/SAhdojbTEEBBNTD9QHJOxsgtv0FheEEiOvAYZQJiv0FDOkg1wMx80+EHikoHe/AwFfIwDBf\n",
       "AaQUGD/PQeEADOtHDAzC/QsZWO1/IQLOEOatXdtLgNQMcPidXl3uAE4cDxg4BDCT5gE0/kNkDjDt\n",
       "sCYQzjMByJxcpARJpB5OUJxIE9TCi8zhBvmFkbS8fYeBAQDU0GTKi2xezQAAAABJRU5ErkJggg==\n",
       "\" style=\"display:inline;vertical-align:middle;\" /></a></td></tr>\n",
       "<tr><td>4</td><td>Operation</td><td>operator:&nbsp;5<br>operands:&nbsp;6<br></td><td><a class=\"ProveItLink\" href=\"../666bca2c98a55cab9264db49b27aa7da3ed1ce280/expr.ipynb\"><img src=\"data:image/png;base64,iVBORw0KGgoAAAANSUhEUgAAAD8AAAAPBAMAAAChCwpBAAAAMFBMVEX///92dnYQEBBERERUVFS6\n",
       "urqIiIhmZmaqqqrc3Nzu7u6YmJgyMjIiIiLMzMwAAACFkkdwAAAAAXRSTlMAQObYZgAAAOFJREFU\n",
       "GNNjYACBtwxYAFeyezVnAYR9HpsCoQ0MrEUbwEzu+wsQ+mCMNbeAhPwEMHtG/QS4Ah6Y2kMgRhCE\n",
       "nZAfAFfA6gCh2X+AyOkQsQX9GxBWi0Go+QdA5DoweynD+wQQXXsXBO5DHF6PpCeAYX4Bkut7wPbd\n",
       "RziLz8XF3wDZ/4dAKv6D2WAXszIwMB1AUvBGCkTqgwiOByCygYGBVwHhhrtWYGX+IM3sIBYnUAHP\n",
       "B4QBLRAK7G6wWWuAmPkXXJ4Tahs3MBzCQQ6drH+Sgdv+D9wbzDDXPzlS3oAtivjQ+AD0rD2U4WZv\n",
       "AQAAAABJRU5ErkJggg==\n",
       "\" style=\"display:inline;vertical-align:middle;\" /></a></td></tr>\n",
       "<tr><td>5</td><td>Literal</td><td></td><td><a class=\"ProveItLink\" href=\"../../../packages/proveit/logic/boolean/implication/__pv_it/e5c030cabcb650938f92dee8256fe11cd12bf9b30/expr.ipynb\"><img src=\"data:image/png;base64,iVBORw0KGgoAAAANSUhEUgAAABMAAAANBAMAAAC5okgUAAAALVBMVEX////c3NxERETMzMwQEBCq\n",
       "qqoiIiJmZmaIiIh2dnZUVFS6uroyMjLu7u4AAACPpZJTAAAAAXRSTlMAQObYZgAAAD1JREFUCNdj\n",
       "YAABXgY44LkAZ3IvQAjPABFlaSCQV4AQjtkAZ/IegbNt5sLUpunC5aPgLMYDcCaTAJzJDCIA2yMN\n",
       "HCCUuIIAAAAASUVORK5CYII=\n",
       "\" style=\"display:inline;vertical-align:middle;\" /></a></td></tr>\n",
       "<tr><td>6</td><td>ExprTuple</td><td>7, 8</td><td><a class=\"ProveItLink\" href=\"../64d36ff9aa3116e2d1fb41c420506ad5fe919f950/expr.ipynb\"><img src=\"data:image/png;base64,iVBORw0KGgoAAAANSUhEUgAAADUAAAAVBAMAAAAUZLt1AAAAMFBMVEX////c3NwiIiJERESqqqqY\n",
       "mJh2dnZmZmYQEBDu7u4yMjJUVFTMzMyIiIi6uroAAAAs73DqAAAAAXRSTlMAQObYZgAAAS1JREFU\n",
       "KM9jYMAH+C5gFY4DEach7ENwUc7L20sZC9gPAJkrISLr4XIZAQx8FQEMCxgYeCFGsupPgErN0gQS\n",
       "+QIMYQwMHBAxkXoBqNwKkMALBoYZDAyvICIX7j+AMNi/gEhxBgZmB4YyiGMn+AdA5OQXgMg5DAxs\n",
       "BQxLwSLzGM5DvVIPVcPAsoChD8x4wCBfABHSh9nL18DwD0Tz7N693wAi9B9MAt3D8wEixwd07wKI\n",
       "XD/YvANguRYQ24GBgakBIrcf5AV2iJmmQIoRKMf1AWwSxE2ZoNBYwJAOCgogZv7JwPkJJAT033OQ\n",
       "e4B+eMTAINy/kIHV/lcBZz9I7PTqcgeQ4VwPGDgEkKILiQ0KM9YEBJcVOQJzEXGELscJ8pM0go+c\n",
       "ArhB5jNiTxN3GBgAYvhEoGDobKYAAAAASUVORK5CYII=\n",
       "\" style=\"display:inline;vertical-align:middle;\" /></a></td></tr>\n",
       "<tr><td>7</td><td>Variable</td><td></td><td><a class=\"ProveItLink\" href=\"../../../packages/proveit/__pv_it/2cbe72a7ad6f655694dd697106680215e8489b600/expr.ipynb\"><img src=\"data:image/png;base64,iVBORw0KGgoAAAANSUhEUgAAAA8AAAAOBAMAAAACpFvcAAAALVBMVEX///8QEBBERERUVFS6urqI\n",
       "iIhmZmaqqqrc3Nzu7u6YmJgyMjIiIiLMzMwAAADtIaYWAAAAAXRSTlMAQObYZgAAAFtJREFUCNdj\n",
       "YACBOwxQsA9Kc52bAGG05zVAGAFxDmCaZULdAjBjCsO9ADDDgaEvAUTzGhvbKYCVMDAwbgAxChgY\n",
       "eASANAeQwf0AyJgNxEwvGRia5HYwcOm9TgAA6BoR3jrzwFcAAAAASUVORK5CYII=\n",
       "\" style=\"display:inline;vertical-align:middle;\" /></a></td></tr>\n",
       "<tr><td>8</td><td>Variable</td><td></td><td><a class=\"ProveItLink\" href=\"../../../packages/proveit/__pv_it/985a1bdf1540838275dec15f4ad6de261cca93ce0/expr.ipynb\"><img src=\"data:image/png;base64,iVBORw0KGgoAAAANSUhEUgAAAA8AAAAOBAMAAAACpFvcAAAAMFBMVEX////MzMyqqqoiIiIyMjK6\n",
       "uroQEBB2dnbc3NyYmJhmZmZUVFRERESIiIju7u4AAAB204erAAAAAXRSTlMAQObYZgAAAGZJREFU\n",
       "CNdjYGDgu7NrJccCBgaGsgkMrMsmMDA8sQNy6hsYGNweABlhDAxcn4A0QxcDQ78DiPGQgWH9BAYI\n",
       "sG+AMv6DSaCGfBDNJMDAsB+kmwuI5S8AiTog5gSaEwXWIO29SgFIAQBC+RaDQlidVgAAAABJRU5E\n",
       "rkJggg==\n",
       "\" style=\"display:inline;vertical-align:middle;\" /></a></td></tr>\n",
       "</table>\n"
      ],
      "text/plain": [
       "0. A => ((A => C) => C)\n",
       "   core type: Operation\n",
       "   operator: 5\n",
       "   operands: 1\n",
       "1. (A , (A => C) => C)\n",
       "   core type: ExprTuple\n",
       "   sub-expressions: 7, 2\n",
       "2. (A => C) => C\n",
       "   core type: Operation\n",
       "   operator: 5\n",
       "   operands: 3\n",
       "3. (A => C , C)\n",
       "   core type: ExprTuple\n",
       "   sub-expressions: 4, 8\n",
       "4. A => C\n",
       "   core type: Operation\n",
       "   operator: 5\n",
       "   operands: 6\n",
       "5. =>\n",
       "   core type: Literal\n",
       "   sub-expressions: \n",
       "6. (A , C)\n",
       "   core type: ExprTuple\n",
       "   sub-expressions: 7, 8\n",
       "7. A\n",
       "   core type: Variable\n",
       "   sub-expressions: \n",
       "8. C\n",
       "   core type: Variable\n",
       "   sub-expressions: "
      ]
     },
     "execution_count": 4,
     "metadata": {},
     "output_type": "execute_result"
    }
   ],
   "source": [
    "# display the expression information\n",
    "expr.exprInfo()"
   ]
  },
  {
   "cell_type": "code",
   "execution_count": null,
   "metadata": {},
   "outputs": [],
   "source": []
  }
 ],
 "metadata": {
  "kernelspec": {
   "display_name": "Python 3",
   "language": "python",
   "name": "python3"
  }
 },
 "nbformat": 4,
 "nbformat_minor": 0
}
