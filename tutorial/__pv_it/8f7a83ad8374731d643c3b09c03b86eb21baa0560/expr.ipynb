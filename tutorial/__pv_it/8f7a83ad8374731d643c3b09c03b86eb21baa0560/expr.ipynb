{
 "cells": [
  {
   "cell_type": "markdown",
   "metadata": {},
   "source": [
    "Expression of type <a class=\"ProveItLink\" href=\"../../../doc/html/api/proveit.ExprTuple.html\">ExprTuple</a>\n",
    "=======================\n",
    "# from context <a class=\"ProveItLink\" href=\"../../_context_.ipynb\">tutorial</a>"
   ]
  },
  {
   "cell_type": "code",
   "execution_count": 1,
   "metadata": {},
   "outputs": [],
   "source": [
    "# import Expression classes needed to build the expression\n",
    "from proveit import ExprTuple\n",
    "from proveit._common_ import x, y, z\n",
    "from proveit.number import Add, Less"
   ]
  },
  {
   "cell_type": "code",
   "execution_count": 2,
   "metadata": {},
   "outputs": [
    {
     "data": {
      "text/html": [
       "<strong id=\"expr\">expr:</strong> <a class=\"ProveItLink\" href=\"expr.ipynb\"><img src=\"data:image/png;base64,iVBORw0KGgoAAAANSUhEUgAAAHMAAAAVBAMAAACHwMySAAAAMFBMVEX////c3NwiIiJERESqqqqY\n",
       "mJh2dnZmZmYQEBDu7u4yMjJUVFTMzMyIiIi6uroAAAAs73DqAAAAAXRSTlMAQObYZgAAAbdJREFU\n",
       "OMtjYKAA8F3ALv4Wp444KGY4jV2eZwNOrewHIJhhJXZ5rgm4HboAgnnR3ctYA6buoghOROGFQTAH\n",
       "muk8ux6A6U4UUV8U3gwIfoUWaKsPQOgFeLQyO4BxGUhdxwNZiCDLcgFoUCQAnZ670bcWRStnegKD\n",
       "/AQGtgIGEF4KFBGOLTcAS/GqwZzPFcDAMI0hKKAJRSsb3weG+0ALFoBxH1BkAsNssBY2XbibOIA+\n",
       "TgAq80HReoRdgcEY6MoGMP4HDlVIJE62g2vlfwAycTOaXydwXGD4CwzKD2AM1vocquL0EmStDAy9\n",
       "YHbVqlUaq1atBjH9J/D8gWttAQVOAkyHuCrMwQ4gx/xh4EQN4SoG3ga4g02BAm4MDLBkN00XElDM\n",
       "wGAK5P3AcBNV63IGZqBK1gVgnA60e2lp1AOYvayQQAaGPctX5gbGC6haqxneBzDAIucRMA4Z4lsQ\n",
       "8c2yBpwkFBg4bTPTrqIlicl364ERz/UAjDkEsCfxRhypKQmREFkTsGsNw5Z5uRU4Qe7LhWJSMh1T\n",
       "AjPQJs4FEMwgjV0rI7asznK3DmS3AAQzMOIoYGRx5vQ7EAwA1rJt09FbII8AAAAASUVORK5CYII=\n",
       "\" style=\"display:inline;vertical-align:middle;\" /></a><br>"
      ],
      "text/plain": [
       "expr: (z < (x + y))"
      ]
     },
     "execution_count": 2,
     "metadata": {},
     "output_type": "execute_result"
    }
   ],
   "source": [
    "# build up the expression from sub-expressions\n",
    "expr = ExprTuple(Less(z, Add(x, y)))"
   ]
  },
  {
   "cell_type": "code",
   "execution_count": 3,
   "metadata": {},
   "outputs": [
    {
     "name": "stdout",
     "output_type": "stream",
     "text": [
      "Passed sanity check: built 'expr' is the same as the stored Expression.\n"
     ]
    }
   ],
   "source": [
    "# check that the built expression is the same as the stored expression\n",
    "%check_expr"
   ]
  },
  {
   "cell_type": "code",
   "execution_count": 4,
   "metadata": {},
   "outputs": [
    {
     "data": {
      "text/html": [
       "<table><tr><th>&nbsp;</th><th>core type</th><th>sub-expressions</th><th>expression</th></tr>\n",
       "<tr><td>0</td><td>ExprTuple</td><td>1</td><td><a class=\"ProveItLink\" href=\"expr.ipynb\"><img src=\"data:image/png;base64,iVBORw0KGgoAAAANSUhEUgAAAHMAAAAVBAMAAACHwMySAAAAMFBMVEX////c3NwiIiJERESqqqqY\n",
       "mJh2dnZmZmYQEBDu7u4yMjJUVFTMzMyIiIi6uroAAAAs73DqAAAAAXRSTlMAQObYZgAAAbdJREFU\n",
       "OMtjYKAA8F3ALv4Wp444KGY4jV2eZwNOrewHIJhhJXZ5rgm4HboAgnnR3ctYA6buoghOROGFQTAH\n",
       "muk8ux6A6U4UUV8U3gwIfoUWaKsPQOgFeLQyO4BxGUhdxwNZiCDLcgFoUCQAnZ670bcWRStnegKD\n",
       "/AQGtgIGEF4KFBGOLTcAS/GqwZzPFcDAMI0hKKAJRSsb3weG+0ALFoBxH1BkAsNssBY2XbibOIA+\n",
       "TgAq80HReoRdgcEY6MoGMP4HDlVIJE62g2vlfwAycTOaXydwXGD4CwzKD2AM1vocquL0EmStDAy9\n",
       "YHbVqlUaq1atBjH9J/D8gWttAQVOAkyHuCrMwQ4gx/xh4EQN4SoG3ga4g02BAm4MDLBkN00XElDM\n",
       "wGAK5P3AcBNV63IGZqBK1gVgnA60e2lp1AOYvayQQAaGPctX5gbGC6haqxneBzDAIucRMA4Z4lsQ\n",
       "8c2yBpwkFBg4bTPTrqIlicl364ERz/UAjDkEsCfxRhypKQmREFkTsGsNw5Z5uRU4Qe7LhWJSMh1T\n",
       "AjPQJs4FEMwgjV0rI7asznK3DmS3AAQzMOIoYGRx5vQ7EAwA1rJt09FbII8AAAAASUVORK5CYII=\n",
       "\" style=\"display:inline;vertical-align:middle;\" /></a></td></tr>\n",
       "<tr><td>1</td><td>Operation</td><td>operator:&nbsp;2<br>operands:&nbsp;3<br></td><td><a class=\"ProveItLink\" href=\"../f939d204ddb18c9833bf0e9cd40af9ed0c961c270/expr.ipynb\"><img src=\"data:image/png;base64,iVBORw0KGgoAAAANSUhEUgAAAGUAAAAVBAMAAACtcD09AAAAMFBMVEX///8iIiIyMjLMzMx2dnaq\n",
       "qqpUVFTu7u5mZmaYmJhERESIiIjc3NwQEBC6uroAAABuzmuqAAAAAXRSTlMAQObYZgAAAXtJREFU\n",
       "OMtjYKAaeI1TZh4uCeYEnHo4DHBIMBXgdoICugBPM5jajSJYg8Kbgu6mpAdg+jqKaDQKrxZVC58a\n",
       "xLF8Cnj0cAUAFdx9cBrCY9U4APWnA9CV3jnR3Sh62D0cGM4XMLA0MDCcmt2xACzGLQLzOdMEBoYS\n",
       "hokTLqLoYeH7wLAfaDLQEQUMZWC1LNJw63mBvnIAygej6DHlEGBYBXTXBVBYQSKjah1cD/8DkFFZ\n",
       "aP4p4N3A8BsYTh+A7BdQKTNVZD0MDLfB7CYlJVklJTUQM76A+TNED6sDTOkJSZjbAkDWf2ZgRw23\n",
       "JgbuCxC3hTAwwFJKiTQkFLiAYTCH+wPDdlQ9GgxcQJWcCgzMmp2THsBs4oQEHTA4WX9yXeDZgKqn\n",
       "jeH9BLAkB8P8q4gIY1UGx6kAA/tqd5edaHFatbsfGIFMD7Cnwzs40oEjZtrBkQ6hmYlNgB3kIm9S\n",
       "8gKjAxcwiNkVcOjhwZbnWHf3gWw7gCtjncaZ5TYzMAAAROlSV4nISxAAAAAASUVORK5CYII=\n",
       "\" style=\"display:inline;vertical-align:middle;\" /></a></td></tr>\n",
       "<tr><td>2</td><td>Literal</td><td></td><td><a class=\"ProveItLink\" href=\"../../../packages/proveit/number/ordering/__pv_it/7c444b9b2efa607ed6397b492680dde2810212f00/expr.ipynb\"><img src=\"data:image/png;base64,iVBORw0KGgoAAAANSUhEUgAAAA4AAAAMBAMAAACgrpHpAAAALVBMVEX///+YmJhERETu7u52dnYi\n",
       "IiKIiIiqqqq6uroyMjJUVFTMzMxmZmbc3NwAAADmAst+AAAAAXRSTlMAQObYZgAAAD5JREFUCNdj\n",
       "YAAB3tNgintlA4jimLUBRLHPuQCi2EIMQBRLGFgJg5EGhGbYNR3KuBMIZZiEGUAYjCFQBvtsABzC\n",
       "Cm98G6SsAAAAAElFTkSuQmCC\n",
       "\" style=\"display:inline;vertical-align:middle;\" /></a></td></tr>\n",
       "<tr><td>3</td><td>ExprTuple</td><td>4, 5</td><td><a class=\"ProveItLink\" href=\"../b43bbd28f5daf8e0094373cca9850ac57d777ccc0/expr.ipynb\"><img src=\"data:image/png;base64,iVBORw0KGgoAAAANSUhEUgAAAFAAAAAVBAMAAAAjqnRBAAAAMFBMVEX////c3NwiIiJERESqqqqY\n",
       "mJh2dnZmZmYQEBDu7u4yMjJUVFTMzMyIiIi6uroAAAAs73DqAAAAAXRSTlMAQObYZgAAAVFJREFU\n",
       "KM9jYCAa8F0grIb1AZA4TYxpNUC8khiFXAwMvDhs5hRAsTuBgWMCdoUsKAZwNjC8YiBGIYMJQxnI\n",
       "4x0PZCF8sdsi1y+gKJxWxsD4k4EhnWEpkCMcW24AsSGBVZVDAUVhwnsG3g8MDF4MfUDOBIbZEJey\n",
       "AQVZDiAr5HEoYmAGmvKC4R+Iy7gB6mYGbgNUN3Iy9DLwA5nnIQqfwx3NAZZnX7VqUdeqVSDtLD8Z\n",
       "zh8AKWwBcRLgCuUPMExAcSP7AoYbDCCrTYGkGwPDBrA8q8B9Bl5UhVwFDNZAKgrobwaepaVRDzg/\n",
       "Abn+ARYMsqjhyL6B7ysDKHgeAdkM8S0MnP3AOJt8bVpuAKpCTtvrH4HUOgYOWJzyCeCIGTYFcBSy\n",
       "wjzCij2ZbmKY4QBUfAGRzFixx7kagxmQnAXE0lARHMnN9zoodW8ExQoRWYH3AAMASKdUsZscRIkA\n",
       "AAAASUVORK5CYII=\n",
       "\" style=\"display:inline;vertical-align:middle;\" /></a></td></tr>\n",
       "<tr><td>4</td><td>Variable</td><td></td><td><a class=\"ProveItLink\" href=\"../../../packages/proveit/__pv_it/251502494639118b4892de8e9d720a5fcce840e10/expr.ipynb\"><img src=\"data:image/png;base64,iVBORw0KGgoAAAANSUhEUgAAAAoAAAAJBAMAAAD5iKAgAAAALVBMVEX///8yMjLMzMx2dnaqqqpU\n",
       "VFTu7u5mZmaYmJhERESIiIjc3NwQEBC6uroAAAB+iRisAAAAAXRSTlMAQObYZgAAADlJREFUCNdj\n",
       "YOA9c2EXA8POrvIJDAwJDKkJDAwM3AFAguE6iGAxAJHODAwBDEwSFY0XGNgZ+o4wAABKtAsIcBKm\n",
       "agAAAABJRU5ErkJggg==\n",
       "\" style=\"display:inline;vertical-align:middle;\" /></a></td></tr>\n",
       "<tr><td>5</td><td>Operation</td><td>operator:&nbsp;6<br>operands:&nbsp;7<br></td><td><a class=\"ProveItLink\" href=\"../2b7242641f099516c8ff5fd4529300180f7dd0a40/expr.ipynb\"><img src=\"data:image/png;base64,iVBORw0KGgoAAAANSUhEUgAAADAAAAAQBAMAAACigOGCAAAAMFBMVEX///+6uroyMjJERETMzMwQ\n",
       "EBAiIiKYmJju7u5mZmaqqqpUVFSIiIh2dnbc3NwAAAAWgogoAAAAAXRSTlMAQObYZgAAAKxJREFU\n",
       "GNNjYEAAjgcM2AHXAeIk3p5+dfIAikTvXAa+HwwcF9jTWRNQJC7IM/B8YOAFElwOyBIsC6YxMBsw\n",
       "cDBwG6DawcEQw8APYrKC+ZxKSmpBSkobQAp+MPiDzHjvwNCAYgenAsNRBgb2B+cZeFAlmCYwWDMw\n",
       "rC8wZXiD6g/ODYzfGRiaz/beKUCV4LA5+Q+Hz3kTUCQYoRLbGFoXYA2zXAZb7IG55qQAAwMAhA8v\n",
       "1pmWzm0AAAAASUVORK5CYII=\n",
       "\" style=\"display:inline;vertical-align:middle;\" /></a></td></tr>\n",
       "<tr><td>6</td><td>Literal</td><td></td><td><a class=\"ProveItLink\" href=\"../../../packages/proveit/number/addition/__pv_it/3e6688136fa3c7aefbebe51301b7c3ebf0b69c440/expr.ipynb\"><img src=\"data:image/png;base64,iVBORw0KGgoAAAANSUhEUgAAAA4AAAAOBAMAAADtZjDiAAAAJFBMVEX///+6urpUVFQQEBAiIiIy\n",
       "MjJmZmaIiIiqqqrc3Nzu7u4AAACgHpL+AAAAAXRSTlMAQObYZgAAAB5JREFUCNdjYGBgWMkAAe2k\n",
       "0Kmhoc6hoUGk6BMHYgAHOwjcado9fwAAAABJRU5ErkJggg==\n",
       "\" style=\"display:inline;vertical-align:middle;\" /></a></td></tr>\n",
       "<tr><td>7</td><td>ExprTuple</td><td>8, 9</td><td><a class=\"ProveItLink\" href=\"../a6a2ac9310c73e21661c7634808321702fb219240/expr.ipynb\"><img src=\"data:image/png;base64,iVBORw0KGgoAAAANSUhEUgAAACwAAAAVBAMAAADP3xFXAAAAMFBMVEX////c3NwiIiJERESqqqqY\n",
       "mJh2dnZmZmYQEBDu7u4yMjJUVFTMzMyIiIi6uroAAAAs73DqAAAAAXRSTlMAQObYZgAAAQtJREFU\n",
       "GNNjYMAB+C6gi7A+ABKnMVXWAPFKTGEuBgbeC5jCrAkMHBMwhTkbGF5hc4YJQxmQFLstch1i1rQy\n",
       "BsafDAzpDEuBehJYVTkUwMIJ7xl4PzAweDH0MTCwAZksB0CiPA5FDMwGDAwvGP4BVTNwG0DtYuhl\n",
       "4Acadx4kzMDAAXMly0+G8wdAwi0gnvwBBog72Rcw3GAAGWIKdL3AfQbeCWAJrgIGayAVBXQLg3+A\n",
       "BYMsA+cnkOoNfF8ZQA58xMAw+dq03AAGzn4BoJ221z8ChdcxcAjAQxjMYlMAex4YLLAAAuJNDDMc\n",
       "gFIXkAIWJKzGYAYkZwGxNEwY5Hbf66CY2QjEjBgBznuAAQAt5DtyKXSr1gAAAABJRU5ErkJggg==\n",
       "\" style=\"display:inline;vertical-align:middle;\" /></a></td></tr>\n",
       "<tr><td>8</td><td>Variable</td><td></td><td><a class=\"ProveItLink\" href=\"../../../packages/proveit/__pv_it/530be409e3083890784cf1d7b28c9e67e90af9360/expr.ipynb\"><img src=\"data:image/png;base64,iVBORw0KGgoAAAANSUhEUgAAAAsAAAAJBAMAAAAWSsseAAAAKlBMVEX///9ERETMzMwQEBAiIiKY\n",
       "mJju7u5mZmaqqqpUVFSIiIh2dnbc3NwAAAA/vyDhAAAAAXRSTlMAQObYZgAAAENJREFUCNdjYDi9\n",
       "8sTyBQxsG1hdmR0YuBm4LnAoMLAxcAowgADzAjB1VoEhgYH1wFoGrgSG3gBhhlMMDImrs3cFMAAA\n",
       "t0YN+iTRa+sAAAAASUVORK5CYII=\n",
       "\" style=\"display:inline;vertical-align:middle;\" /></a></td></tr>\n",
       "<tr><td>9</td><td>Variable</td><td></td><td><a class=\"ProveItLink\" href=\"../../../packages/proveit/__pv_it/f8b9edf8e16034727f0aad55bb83e392c3db40d40/expr.ipynb\"><img src=\"data:image/png;base64,iVBORw0KGgoAAAANSUhEUgAAAAsAAAANBAMAAACN24kIAAAAMFBMVEX///+YmJhUVFQyMjIQEBBE\n",
       "REQiIiKqqqrMzMyIiIi6urrc3NxmZmZ2dnbu7u4AAADXeCicAAAAAXRSTlMAQObYZgAAAFhJREFU\n",
       "CNdj4LtzgWH/AwZerg8M8xkY2nkSGEIZGB6wTGD4ycDAUP+A4weQOszA6QCkbBhYFYDUIYb1AkDq\n",
       "6czzGxhA4BoQMyXwuQMptgusF4AU+8xTQBIAUqMVoSp/SLMAAAAASUVORK5CYII=\n",
       "\" style=\"display:inline;vertical-align:middle;\" /></a></td></tr>\n",
       "</table>\n"
      ],
      "text/plain": [
       "0. (z < (x + y))\n",
       "   core type: ExprTuple\n",
       "   sub-expressions: 1\n",
       "1. z < (x + y)\n",
       "   core type: Operation\n",
       "   operator: 2\n",
       "   operands: 3\n",
       "2. <\n",
       "   core type: Literal\n",
       "   sub-expressions: \n",
       "3. (z , x + y)\n",
       "   core type: ExprTuple\n",
       "   sub-expressions: 4, 5\n",
       "4. z\n",
       "   core type: Variable\n",
       "   sub-expressions: \n",
       "5. x + y\n",
       "   core type: Operation\n",
       "   operator: 6\n",
       "   operands: 7\n",
       "6. +\n",
       "   core type: Literal\n",
       "   sub-expressions: \n",
       "7. (x , y)\n",
       "   core type: ExprTuple\n",
       "   sub-expressions: 8, 9\n",
       "8. x\n",
       "   core type: Variable\n",
       "   sub-expressions: \n",
       "9. y\n",
       "   core type: Variable\n",
       "   sub-expressions: "
      ]
     },
     "execution_count": 4,
     "metadata": {},
     "output_type": "execute_result"
    }
   ],
   "source": [
    "# display the expression information\n",
    "expr.exprInfo()"
   ]
  },
  {
   "cell_type": "code",
   "execution_count": null,
   "metadata": {},
   "outputs": [],
   "source": []
  }
 ],
 "metadata": {
  "kernelspec": {
   "display_name": "Python 3",
   "language": "python",
   "name": "python3"
  }
 },
 "nbformat": 4,
 "nbformat_minor": 0
}
