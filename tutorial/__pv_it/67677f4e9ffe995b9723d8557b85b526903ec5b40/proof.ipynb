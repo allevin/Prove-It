{
 "cells": [
  {
   "cell_type": "markdown",
   "metadata": {},
   "source": [
    "Show the Proof\n",
    "========"
   ]
  },
  {
   "cell_type": "code",
   "execution_count": 1,
   "metadata": {},
   "outputs": [
    {
     "data": {
      "text/html": [
       "<table><tr><th>&nbsp;</th><th>step type</th><th>requirements</th><th>statement</th></tr>\n",
       "<tr><td>0</td><td>assumption</td><td></td><td><span style=\"font-size:20px;\"><a class=\"ProveItLink\" href=\"../e89a1914697bfd1c523afceda4a33dc6b77367570/expr.ipynb\"><img src=\"data:image/png;base64,iVBORw0KGgoAAAANSUhEUgAAAL8AAAAaBAMAAAAUFZBoAAAAMFBMVEX///+6urp2dnaqqqoiIiIQ\n",
       "EBBERETu7u6IiIjc3NwyMjJUVFSYmJhmZmbMzMwAAAD0pS5FAAAAAXRSTlMAQObYZgAAA3NJREFU\n",
       "SMe9Vl1IVEEU/vbv3l1397pQRBbhYoUmBD6FEOVSDwoWbD9QPiTWw6IReAmyIMILggla7oNYFtS+\n",
       "RVigPkhlxRY+1INlSWCZJP28FOaWkf2pnTP33v1xF2wRG9iZc8/MnO/Md86cWQDKayxPsz3Txzvh\n",
       "ZQJAZw33zhksWzvEnTsCqEs0tDpN80D0R02AAAuPsjXbOj8wUMn8Kj1pc94Jwb4JsJ6Fa1k7/guQ\n",
       "qmjMycBAJAWgk0ZXTbb2la+UKfRDS4bJhykA7IK3JFsA5xfAM0vCgQyTJ1IAPJu6ujqyZkiK0e5p\n",
       "wBLJNFliAkhMzfdQaAcNV5KXLHqiXDLcSLu9fiK46HbpqNDKm/24qsI6bAI4NOruA3W0yp+8/21c\n",
       "mixomzDlLbPjtYY45Yeym2McBY5jMLpfaK2WGNopOHysp0S9q5u1ayGTQkpx0OozBMsw8uNaTxA5\n",
       "w7rY3lfwnLPUQQv9ZHS70L7zBhCiTUFO1uvAoPDNDie5UZoCwJDyufEoTSZBu2vgDuhivZGduT6+\n",
       "qv3GApUo+UEpFuOPDg22CpEQUbsqWEpuxFtz3kkVjSo8wArynpyxa3AYJ/iGBABw0NxWpipzBoBn\n",
       "J3WNUeHtJ+rpVEW9rWTF0gyHSuntEabse9kCpfEQL5/AmHENZg2LDk4H1xxk/fMVnEGDorKwmUWo\n",
       "66UdEVjVfl5+Kjf8gQOTo3P1Yp5NjAi4/JaNvsQ10DOSXHzsjOGsDnETEpUOTyT5HgDbiFdLDyy4\n",
       "wV8XVqIZ+BhPpMsiYvdYLIbTSHvJLMOUkbY/UtCloZGjM4b8KJLSVAfgZLVxzfop9vThFgO8D4VC\n",
       "muyDzIQ6d/HMEdhE+HCm/rdmZFkAcm1hQRtdX97d0PKGmMnxpQJ4KMYWIksJKvy5B9XAKpwWD1MJ\n",
       "FKZxyM1ETcMbXHjjquJSnug3pJUKIy8DmLJGrLgURjXdFqpXbg6StwYSjRSBEXJgBlLgc6bCJhpx\n",
       "4w7I+0gqygCAcjQ0jRZiKoqtzaR9BvkwA0yOv6RhnSjyxbNhpUJbAJAo1wRg90t+/RKlAzSZy1xh\n",
       "tyZKupVisHjVc5kPjpMZbeG3XpxdB7AmKG0wEjws+dfQSu2f6+rFNM150VcK5rsT/zOierkhL+iU\n",
       "7iW/+d5y3d7duOZJ8nThkv8XHcN/aH8BkNLcQqEU1PQAAAAASUVORK5CYII=\n",
       "\" style=\"display:inline;vertical-align:middle;\" /></a> <a class=\"ProveItLink\" href=\"proof.ipynb\" style=\"text-decoration: none\">&#x22A2;&nbsp;</a><a class=\"ProveItLink\" href=\"../cd25ad242d6abbbc7fa1cc90a723fe6ddf0c080f0/expr.ipynb\"><img src=\"data:image/png;base64,iVBORw0KGgoAAAANSUhEUgAAAKkAAAAXBAMAAACCO3IZAAAAMFBMVEX///8QEBC6urrMzMxUVFRm\n",
       "ZmZERETc3NwyMjKqqqp2dnaIiIiYmJgiIiLu7u4AAAAU9Wx4AAAAAXRSTlMAQObYZgAAAw1JREFU\n",
       "OMu1VUtoE2EQ/pLdbJJNsg32UFSUHNQqIq1oQQVpqbVCvcTSorUHi4cU7KELihVEzcWbSMHHpQfX\n",
       "g1hbLAvWQEmxi1IERchBLyqygvagYII1an20zuxuHm0CNVQXNv/szD+P//u/mQD/5TFX6L+1RPOQ\n",
       "3hQLTyuNNb7Q0vJcJUFoKrF56oE7LFyuuMTvgFRDq6/MWePAaVq8PZUGFX4AfnqRLGN8YifzDFYa\n",
       "NfAZCGZJWF/G+JZstwcGzlUMgJQBxDnAHS9npCK/xmIvSTxZrF+29iqKlibcPBrhN3pgqNvSKrc0\n",
       "XDAhR4F9QC+ZtGKnPXmpYWSyPidfz3b2OWKjBuEFX5YBfMAzY52lld0ZTBHglHIDFPqVFpUiRxzB\n",
       "HUVdXhsMwxe1xam2kaNMLBdt1CjSFUu725NCjJzCQAgBSji0KCrnUe53GmQsyif2QEzZYr9DqKoI\n",
       "91FrrqNcOn4SQQj0gBEyLRCKH4IlUfvJRNpEENhCdRIOIR0up9bfKEQF1ubcbpjCrB1Vie+kbyp6\n",
       "tHmcXN0JuEyiYdDyD61hN2LeNC3penQ4dM06YVx8r95ZKPbnEQTCNgLobaZtcchmK+/5WKVuZ7B9\n",
       "NhSHFtivy8pRl7wZKdDVJhGB9ziQwQM77kVI1MFBpts1wsrdBDcuseH8NiSAXXkanOLEnv0sDiPg\n",
       "0FOaz11rFP5fUtirI82Id6DOsJR0Cp3IwEPim7WxDQc56t5YLKYrESgZru01W07An7G2vO//ojsc\n",
       "SUHpGxuZpIZi75nkMWKGj08UpMtyE6OFsMAbV6Ea2IR3LPsHIfCMmBYZhzl4wkvboSYv1Vq/d+2O\n",
       "daiUQqMcl3FGRTVRmQaEyHT09ECilVDtoqzzkFI7SieJ89DRxZSymqTRvO4NZia6x9Bo4GqCwGuH\n",
       "cpyjNnQepmWjNTSHs6rwSl8StTAJKWpIkzSb7M4zkbN5VVG3RqRMuC4/Zry5qR1gwJLt3Cxq3jrj\n",
       "EFGVtM1k1v96ep0t0dwriH7DbnXKR4cQ/9W/4qPij7EVBvsDfRe8Yd7EKjcAAAAASUVORK5CYII=\n",
       "\" style=\"display:inline;vertical-align:middle;\" /></a></span></td></tr>\n",
       "</table>"
      ],
      "text/plain": [
       "<proveit._core_.proof._ShowProof at 0x7f94ead75240>"
      ]
     },
     "execution_count": 1,
     "metadata": {},
     "output_type": "execute_result"
    }
   ],
   "source": [
    "import proveit\n",
    "%show_proof"
   ]
  },
  {
   "cell_type": "code",
   "execution_count": null,
   "metadata": {},
   "outputs": [],
   "source": []
  }
 ],
 "metadata": {
  "kernelspec": {
   "display_name": "Python 3",
   "language": "python",
   "name": "python3"
  }
 },
 "nbformat": 4,
 "nbformat_minor": 0
}
