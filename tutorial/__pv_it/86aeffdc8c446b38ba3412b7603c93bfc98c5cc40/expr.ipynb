{
 "cells": [
  {
   "cell_type": "markdown",
   "metadata": {},
   "source": [
    "Expression of type <a class=\"ProveItLink\" href=\"../../../doc/html/api/proveit.Lambda.html\">Lambda</a>\n",
    "=======================\n",
    "# from context <a class=\"ProveItLink\" href=\"../../_context_.ipynb\">tutorial</a>"
   ]
  },
  {
   "cell_type": "code",
   "execution_count": 1,
   "metadata": {},
   "outputs": [],
   "source": [
    "# import Expression classes needed to build the expression\n",
    "from proveit import Lambda, Variable\n",
    "from proveit._common_ import x\n",
    "from proveit.logic import InSet\n",
    "from proveit.number import Reals"
   ]
  },
  {
   "cell_type": "code",
   "execution_count": 2,
   "metadata": {},
   "outputs": [
    {
     "data": {
      "text/html": [
       "<strong id=\"expr\">expr:</strong> <a class=\"ProveItLink\" href=\"../22d979318f3aaefdb35cbe1521f122d83c370f290/expr.ipynb\"><img src=\"data:image/png;base64,iVBORw0KGgoAAAANSUhEUgAAAOYAAAAVCAMAAABlsmI+AAAANlBMVEX///8UFBQNDQ3c3NwiIiJE\n",
       "RESqqqqYmJh2dnZmZmYQEBDu7u4yMjJUVFTMzMyIiIi6uroAAABQuW4xAAAAAXRSTlMAQObYZgAA\n",
       "AkxJREFUWMPVWNt24yAMpJUxGMTt/392bRPbIMSGTU6cszy4TaoRM+iCXCFuWjOIL68YhsxUfGcT\n",
       "Hb+s0rtBw8XfKVNhkjIhGgwvbNei0Y5i8d5oSgFrBLyc8ZWEJ+gwflhK3y1z2X5YkK/JLNFmOJjC\n",
       "mk/KtAGndSElqr14LrMBE3T8l0yU8+dkelSWjceIzBZM0MsjEY989KaSAjo4mMOSM1svfJnOFYZ1\n",
       "VcrkDEDaTto5mrQ1pw6YoFHtX4ajysGUBWjXD2pSwkxZzqluqn26YhveVSGTNZDQIRonVbcgwqkD\n",
       "JmgTrwPeuQZFAhPSqi/fJdF0ZFoHdawaV4VMzsBKlqjZ6o1UCuHUARN02reP/uwwqrwdNzLucuLT\n",
       "8dvvz1Qtkw4ZHVeXTNYgmsNT3YLiImhCEk4dMEFnevsBz64snHOZwMgk0RQuVrFqXem/G3Azyp52\n",
       "S+T+ZMLTAadG5y6QN533+ibmkPyRY/2kXa6c7bi6ZLIGdupVF9qqjBpOHTBBy/z0W6hWJrDPRKcD\n",
       "BXsZiGAfIxQv0xeHS1y1MnkDpzpE13A4LwpShFMHTND5jtAmLMZtj+2UbXqomJMSco0gPGRcF0po\n",
       "yuXUU7nikpY1sFPsXAlr4LdOepCinDpggo472GJCvz1innYSPFpY0FbrM2twYGKrXTEyOwaA9atB\n",
       "Hr630KPENJ+kKCcW3KCF4ebiCPcPe2tbwrpZDpEaBLPzuOKpho/KfPrm8BaaexFTfDqK/1gmtLcO\n",
       "HzUHX5UZ3sTDmIPg3yL51X+S/AHKQRzeDFgiMQAAAABJRU5ErkJggg==\n",
       "\" style=\"display:inline;vertical-align:middle;\" /></a><br>"
      ],
      "text/plain": [
       "expr: (omega, x) -> omega | omega in Reals , x in Reals"
      ]
     },
     "execution_count": 2,
     "metadata": {},
     "output_type": "execute_result"
    }
   ],
   "source": [
    "# build up the expression from sub-expressions\n",
    "subExpr1 = Variable(\"omega\", latexFormat = r\"\\omega\")\n",
    "expr = Lambda([subExpr1, x], subExpr1, conditions = [InSet(subExpr1, Reals), InSet(x, Reals)])"
   ]
  },
  {
   "cell_type": "code",
   "execution_count": 3,
   "metadata": {},
   "outputs": [
    {
     "name": "stdout",
     "output_type": "stream",
     "text": [
      "Passed sanity check: built 'expr' is the same as the stored Expression.\n"
     ]
    }
   ],
   "source": [
    "# check that the built expression is the same as the stored expression\n",
    "%check_expr"
   ]
  },
  {
   "cell_type": "code",
   "execution_count": 4,
   "metadata": {},
   "outputs": [
    {
     "data": {
      "text/html": [
       "<table><tr><th>&nbsp;</th><th>core type</th><th>sub-expressions</th><th>expression</th></tr>\n",
       "<tr><td>0</td><td>Lambda</td><td>parameters:&nbsp;1<br>body:&nbsp;8<br>conditions:&nbsp;2<br></td><td><a class=\"ProveItLink\" href=\"../22d979318f3aaefdb35cbe1521f122d83c370f290/expr.ipynb\"><img src=\"data:image/png;base64,iVBORw0KGgoAAAANSUhEUgAAAOYAAAAVCAMAAABlsmI+AAAANlBMVEX///8UFBQNDQ3c3NwiIiJE\n",
       "RESqqqqYmJh2dnZmZmYQEBDu7u4yMjJUVFTMzMyIiIi6uroAAABQuW4xAAAAAXRSTlMAQObYZgAA\n",
       "AkxJREFUWMPVWNt24yAMpJUxGMTt/392bRPbIMSGTU6cszy4TaoRM+iCXCFuWjOIL68YhsxUfGcT\n",
       "Hb+s0rtBw8XfKVNhkjIhGgwvbNei0Y5i8d5oSgFrBLyc8ZWEJ+gwflhK3y1z2X5YkK/JLNFmOJjC\n",
       "mk/KtAGndSElqr14LrMBE3T8l0yU8+dkelSWjceIzBZM0MsjEY989KaSAjo4mMOSM1svfJnOFYZ1\n",
       "VcrkDEDaTto5mrQ1pw6YoFHtX4ajysGUBWjXD2pSwkxZzqluqn26YhveVSGTNZDQIRonVbcgwqkD\n",
       "JmgTrwPeuQZFAhPSqi/fJdF0ZFoHdawaV4VMzsBKlqjZ6o1UCuHUARN02reP/uwwqrwdNzLucuLT\n",
       "8dvvz1Qtkw4ZHVeXTNYgmsNT3YLiImhCEk4dMEFnevsBz64snHOZwMgk0RQuVrFqXem/G3Azyp52\n",
       "S+T+ZMLTAadG5y6QN533+ibmkPyRY/2kXa6c7bi6ZLIGdupVF9qqjBpOHTBBy/z0W6hWJrDPRKcD\n",
       "BXsZiGAfIxQv0xeHS1y1MnkDpzpE13A4LwpShFMHTND5jtAmLMZtj+2UbXqomJMSco0gPGRcF0po\n",
       "yuXUU7nikpY1sFPsXAlr4LdOepCinDpggo472GJCvz1innYSPFpY0FbrM2twYGKrXTEyOwaA9atB\n",
       "Hr630KPENJ+kKCcW3KCF4ebiCPcPe2tbwrpZDpEaBLPzuOKpho/KfPrm8BaaexFTfDqK/1gmtLcO\n",
       "HzUHX5UZ3sTDmIPg3yL51X+S/AHKQRzeDFgiMQAAAABJRU5ErkJggg==\n",
       "\" style=\"display:inline;vertical-align:middle;\" /></a></td></tr>\n",
       "<tr><td>1</td><td>ExprTuple</td><td>8, 9</td><td><a class=\"ProveItLink\" href=\"../939ff533211e9c3949fd4f2549e2941ccbf491110/expr.ipynb\"><img src=\"data:image/png;base64,iVBORw0KGgoAAAANSUhEUgAAAC8AAAAVBAMAAAAk6KpUAAAAMFBMVEX////c3NwiIiJERESqqqqY\n",
       "mJh2dnZmZmYQEBDu7u4yMjJUVFTMzMyIiIi6uroAAAAs73DqAAAAAXRSTlMAQObYZgAAAQ5JREFU\n",
       "KM91kb9KA0EQh78lOc2qJ1eJ4HOkU7gHUIgWlrKV0SJgJTaBQ+wkepWI1TUWafyDL5BSsfAaEUFI\n",
       "sBSLINiIBGfXkFNcB3aG/X27s7Mz8K9N53+1NetuPYfHO+LavjQZhLkPrEIl9YFjePFWVIrZlmBk\n",
       "XcdOUY3LpSaMbXEqz0SizBoHjlip7UI540AwpIQ1BwxdFuVzCQN4RScEHQdSrmyY6ltgKF/Ya9/W\n",
       "GoI9EDVmZqirT7RLVYV57nqqbdPActjnEYKMOmw87Ld2YvSbVPNeSlTuyn2Gk4+b8zPQhxF6YXP9\n",
       "Xi5O9KhExQCiny0JzGgXFC1p/Gp7AbS0nbnRthjApE2qPAN5gi8fhDp0yoJXVwAAAABJRU5ErkJg\n",
       "gg==\n",
       "\" style=\"display:inline;vertical-align:middle;\" /></a></td></tr>\n",
       "<tr><td>2</td><td>ExprTuple</td><td>3, 4</td><td><a class=\"ProveItLink\" href=\"../e631e32ca8f415f27212dea5dc9ff3870fb978cd0/expr.ipynb\"><img src=\"data:image/png;base64,iVBORw0KGgoAAAANSUhEUgAAAH8AAAAVBAMAAACd/CwcAAAAMFBMVEX////c3NwiIiJERESqqqqY\n",
       "mJh2dnZmZmYQEBDu7u4yMjJUVFTMzMyIiIi6uroAAAAs73DqAAAAAXRSTlMAQObYZgAAAfdJREFU\n",
       "OMtjYKAY8F0gX28ciDiNTYZ1vfGvFWtxaoz6bL+qC2gx+wEgZyVWJcyMG3hMFuI0wUCa4bCXAAPD\n",
       "AgYG3gs4DChgsBTGbYA4A/NEAwaGMAYGjgnIEpy3lJQWwAzIYUbXB5cGGsB2AGjADAaGVygqTkUi\n",
       "uQDTALg0zABmB4YyIDcBiE84AAlGS2Qv7IR6gTF3o28tA4o00ABukBfYChiWAoMBGBoMEiBTmAWQ\n",
       "DOBThQbiNIaggCYGFGmgAY+igDyWBQx9QGMYGCYw8AYAxScjBWKT0hIoO4HhPoMPA4q0gYSSFsjJ\n",
       "fA0M/xgY3jBwNjCwgqL0hZISPBDrCmAOnsCwGcJASBuIP2cGhT7PB5ABCQwsG0DOQE5UQC/UIXi9\n",
       "EOo0UjSyv9kAMaCFgQGo24FBDCQ+CdkArrkBUA7jHwZOVGlgGKy8CvGCKQODDcP5B4zgBMkdgGQA\n",
       "z4Y9IOczMATyfmC4iSoNNOA0N9DTrAsY0hkYMq5391Y4gBOKHnI0pjALcH4ChvRX5gbGC6jSoHTg\n",
       "YAiOxkcMDLN+nVy/DiIhVQPPTJ8PcFl94ewXYOC0zUy7iioNzEw2DIvXOzBwPWDgEEBJa96LIMEM\n",
       "z+z4pYFJmTUBb45nxV8g5OLMzsQZwAlyjjReJfiLK26QBxkpKNLuMDAAAKKjfA3zkbmfAAAAAElF\n",
       "TkSuQmCC\n",
       "\" style=\"display:inline;vertical-align:middle;\" /></a></td></tr>\n",
       "<tr><td>3</td><td>Operation</td><td>operator:&nbsp;6<br>operands:&nbsp;5<br></td><td><a class=\"ProveItLink\" href=\"../e1d7792fcf55928b0fb378c0e7132e25e4ff27af0/expr.ipynb\"><img src=\"data:image/png;base64,iVBORw0KGgoAAAANSUhEUgAAADYAAAAPBAMAAABdHiGLAAAAMFBMVEX///8iIiJmZmYyMjJERERU\n",
       "VFS6urqYmJju7u7c3NyIiIiqqqoQEBDMzMx2dnYAAACMQNsoAAAAAXRSTlMAQObYZgAAAMpJREFU\n",
       "GNNjYMAE7PYun22sGLADFs4AXm9LXHIKDB5TUIQ4FgsKGsDk3rKgyF2uQNIHlnsAxHc2AAlOD2Qz\n",
       "I4Bmck0AcuaAFLBMQJJjEwe6hY+BoYGBqwAo0oLkloOC1kA6l4HjAAP7BSArR1AQ7hY1BQ+wddwB\n",
       "IM0MDFeR/aAG4gElNjDMA4k0IssxdwGt8WW4n8BpARJhLUCS4w2IZWB4s+joKZ0NYK+LIfvhNdDZ\n",
       "zZ9v2JtBhCbrwsP6ywVm598oAbPVEOJOKAAAoactYTiUOqIAAAAASUVORK5CYII=\n",
       "\" style=\"display:inline;vertical-align:middle;\" /></a></td></tr>\n",
       "<tr><td>4</td><td>Operation</td><td>operator:&nbsp;6<br>operands:&nbsp;7<br></td><td><a class=\"ProveItLink\" href=\"../fa2b6a7e0ba905cc446465b0bfe4b96e0c5594130/expr.ipynb\"><img src=\"data:image/png;base64,iVBORw0KGgoAAAANSUhEUgAAADQAAAAPBAMAAABZ6/G2AAAAMFBMVEX///+6uroyMjJERETMzMwQ\n",
       "EBAiIiKYmJju7u5mZmaqqqpUVFSIiIh2dnbc3NwAAAAWgogoAAAAAXRSTlMAQObYZgAAAL9JREFU\n",
       "GNNjYMAA7PrGn1R1GLACZr4NLFZ6OKQmMFg8RhbhOJSWpgCTusKMLOVUgaQLLPX29KuTB4A0nwWy\n",
       "gTuABnJcYE9nTQAJPECSYkwHOoOXgecDlwNQoBnJGWFpWiDLGbgNwAKiaWlwZ0ycADGd9QCY8kZ2\n",
       "/EQI770DQwOQakOWYuopAAbLg/MMPCAp7gIkKZYNWxgY1heYMrwB+zgR2fG3gA5uPtt7B6L+0RR4\n",
       "8H52YDL6hRwcq9UgLoQCAPaLM5068DIIAAAAAElFTkSuQmCC\n",
       "\" style=\"display:inline;vertical-align:middle;\" /></a></td></tr>\n",
       "<tr><td>5</td><td>ExprTuple</td><td>8, 10</td><td><a class=\"ProveItLink\" href=\"../c385210077734df8740547ef697a763fd618a8130/expr.ipynb\"><img src=\"data:image/png;base64,iVBORw0KGgoAAAANSUhEUgAAADIAAAAVBAMAAAD2uKAMAAAAMFBMVEX////c3NwiIiJERESqqqqY\n",
       "mJh2dnZmZmYQEBDu7u4yMjJUVFTMzMyIiIi6uroAAAAs73DqAAAAAXRSTlMAQObYZgAAARdJREFU\n",
       "KM9jYMAN+C5gEWR9ACROo4isN/61Yi2QUQPEK1EUMzNu4DFZyMDAxcDAewFNpoDBUhioOYGBYwKG\n",
       "TA4zAwNnA8MrBqwyDCYMZUAyAYhPOMBldgJNY0hnWAq0SgDIkkiAyfCpAl3A4MXQx8DAxsAwgYE3\n",
       "ACrTpLQExHjB8I+B4Q3IPtYDUJm6AksQ4zxIJoGBZQNII9S0utMQmRYGBqCwA4MYXIZrbgDYNFMG\n",
       "BhuG8w8YVzJwQmV4NuwBMqKArmPIuN7dW+HAMF8B6uoUZgGQqx8xMMz6dXL9OgaGGR/BIfr5AJfV\n",
       "FwaGdQwcAnD/P0QKC5BrE+C8ACQZtgvIsYAsMwuIpWEcXuSQ3QjEjNhim/cAAwDU2UKrSAiI0gAA\n",
       "AABJRU5ErkJggg==\n",
       "\" style=\"display:inline;vertical-align:middle;\" /></a></td></tr>\n",
       "<tr><td>6</td><td>Literal</td><td></td><td><a class=\"ProveItLink\" href=\"../../../packages/proveit/logic/set_theory/membership/__pv_it/088cbc857536a28d4119ad9639a84270ccb0545d0/expr.ipynb\"><img src=\"data:image/png;base64,iVBORw0KGgoAAAANSUhEUgAAAAwAAAAMBAMAAACkW0HUAAAALVBMVEX///+qqqpmZmZUVFQQEBC6\n",
       "urpERETc3NyYmJjMzMwiIiIyMjKIiIju7u4AAACYsrA9AAAAAXRSTlMAQObYZgAAADxJREFUCNdj\n",
       "YOA9vWrVBgaG2b0MQMCeCyIZ2ArA1DUwyRCyahVIyWQI7xaEYm4AU7xLIdxqTQgtvGvVBgCkcQ7e\n",
       "geM/tQAAAABJRU5ErkJggg==\n",
       "\" style=\"display:inline;vertical-align:middle;\" /></a></td></tr>\n",
       "<tr><td>7</td><td>ExprTuple</td><td>9, 10</td><td><a class=\"ProveItLink\" href=\"../cb351230b9382225f76af34f8dda3cddb6463dbb0/expr.ipynb\"><img src=\"data:image/png;base64,iVBORw0KGgoAAAANSUhEUgAAADAAAAAVBAMAAADyTXAxAAAAMFBMVEX////c3NwiIiJERESqqqqY\n",
       "mJh2dnZmZmYQEBDu7u4yMjJUVFTMzMyIiIi6uroAAAAs73DqAAAAAXRSTlMAQObYZgAAARBJREFU\n",
       "KM9jYMAJ+C5girE+ABKnkQXWG/9asRbIqAHilchKmRk38JgsZGDgYmDgvYAqUcBgKQzUmsDAMQFd\n",
       "IoeZgYGzgeEVAzYJBhOGMiApdlvk+gW4xE6gUQzpDEuB+hJYVTkUYBJ8qkDLGbwY+hgY2Bh4P7Ac\n",
       "gEo0KS0BMV4w/APqYOA2gNtRV2AJYpwHSTAwcFxAWF53GiLRAqLkDzBMgElwzQ0AG2UK9I3AfQbe\n",
       "CWApoATPhj1ARhTQXQz+ARYMsgycn6DOTWEWADn3EQPD5GvTcgMYOPsFQIH4+QCX1RcGhnUMHALw\n",
       "8BdAhAAwSIDBBQtzpKBhu4AU7MgSs4BYGsZBDv+NQMyIJWp5DzAAABMaPkMdIdlaAAAAAElFTkSu\n",
       "QmCC\n",
       "\" style=\"display:inline;vertical-align:middle;\" /></a></td></tr>\n",
       "<tr><td>8</td><td>Variable</td><td></td><td><a class=\"ProveItLink\" href=\"../9d7c4e1c5ee4d34a7826567c9ff37cf313ab71e60/expr.ipynb\"><img src=\"data:image/png;base64,iVBORw0KGgoAAAANSUhEUgAAAA0AAAAJBAMAAAAbVLtZAAAALVBMVEX///9mZmYyMjJERERUVFS6\n",
       "urqYmJju7u7c3NyIiIiqqqoQEBDMzMx2dnYAAACcB6guAAAAAXRSTlMAQObYZgAAAExJREFUCNdj\n",
       "YLjAwMBwegEDZwOQ7r7AwMvAUMDAmcAQw8C+gYHtAFCaywEkCCQWMPQyMNgwnAvgUGdguD1xy07p\n",
       "BQwMRY+O66kyMAAAM0ARC3HE760AAAAASUVORK5CYII=\n",
       "\" style=\"display:inline;vertical-align:middle;\" /></a></td></tr>\n",
       "<tr><td>9</td><td>Variable</td><td></td><td><a class=\"ProveItLink\" href=\"../../../packages/proveit/__pv_it/530be409e3083890784cf1d7b28c9e67e90af9360/expr.ipynb\"><img src=\"data:image/png;base64,iVBORw0KGgoAAAANSUhEUgAAAAsAAAAJBAMAAAAWSsseAAAAKlBMVEX///9ERETMzMwQEBAiIiKY\n",
       "mJju7u5mZmaqqqpUVFSIiIh2dnbc3NwAAAA/vyDhAAAAAXRSTlMAQObYZgAAAENJREFUCNdjYDi9\n",
       "8sTyBQxsG1hdmR0YuBm4LnAoMLAxcAowgADzAjB1VoEhgYH1wFoGrgSG3gBhhlMMDImrs3cFMAAA\n",
       "t0YN+iTRa+sAAAAASUVORK5CYII=\n",
       "\" style=\"display:inline;vertical-align:middle;\" /></a></td></tr>\n",
       "<tr><td>10</td><td>Literal</td><td></td><td><a class=\"ProveItLink\" href=\"../../../packages/proveit/number/sets/real/__pv_it/9e7645ee1117062e179dd6264898f99ed95b157c0/expr.ipynb\"><img src=\"data:image/png;base64,iVBORw0KGgoAAAANSUhEUgAAAA8AAAAOBAMAAAACpFvcAAAAMFBMVEX///8iIiK6urp2dnbu7u5m\n",
       "ZmaqqqrMzMxUVFTc3NyIiIgQEBBEREQyMjKYmJgAAAA9nvXMAAAAAXRSTlMAQObYZgAAAFJJREFU\n",
       "CNdjePvn/N29CxiA4MAMhprcCSDGVAYezwMQBnMBOoMDJqX4Fqx4tqBsAlj7VFUeBwiDVb0BwmC4\n",
       "sg7KqOAogJqTcJKBAWjpcYY79xMAyqEnfsw4ApEAAAAASUVORK5CYII=\n",
       "\" style=\"display:inline;vertical-align:middle;\" /></a></td></tr>\n",
       "</table>\n"
      ],
      "text/plain": [
       "0. (omega, x) -> omega | omega in Reals , x in Reals\n",
       "   core type: Lambda\n",
       "   parameters: 1\\n   body: 8\n",
       "   conditions: 2\\n1. (omega , x)\n",
       "   core type: ExprTuple\n",
       "   sub-expressions: 8, 9\n",
       "2. (omega in Reals , x in Reals)\n",
       "   core type: ExprTuple\n",
       "   sub-expressions: 3, 4\n",
       "3. omega in Reals\n",
       "   core type: Operation\n",
       "   operator: 6\n",
       "   operands: 5\n",
       "4. x in Reals\n",
       "   core type: Operation\n",
       "   operator: 6\n",
       "   operands: 7\n",
       "5. (omega , Reals)\n",
       "   core type: ExprTuple\n",
       "   sub-expressions: 8, 10\n",
       "6. in\n",
       "   core type: Literal\n",
       "   sub-expressions: \n",
       "7. (x , Reals)\n",
       "   core type: ExprTuple\n",
       "   sub-expressions: 9, 10\n",
       "8. omega\n",
       "   core type: Variable\n",
       "   sub-expressions: \n",
       "9. x\n",
       "   core type: Variable\n",
       "   sub-expressions: \n",
       "10. Reals\n",
       "    core type: Literal\n",
       "    sub-expressions: "
      ]
     },
     "execution_count": 4,
     "metadata": {},
     "output_type": "execute_result"
    }
   ],
   "source": [
    "# display the expression information\n",
    "expr.exprInfo()"
   ]
  },
  {
   "cell_type": "code",
   "execution_count": null,
   "metadata": {},
   "outputs": [],
   "source": []
  }
 ],
 "metadata": {
  "kernelspec": {
   "display_name": "Python 3",
   "language": "python",
   "name": "python3"
  }
 },
 "nbformat": 4,
 "nbformat_minor": 0
}
