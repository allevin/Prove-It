{
 "cells": [
  {
   "cell_type": "markdown",
   "metadata": {},
   "source": [
    "Show the Proof\n",
    "========"
   ]
  },
  {
   "cell_type": "code",
   "execution_count": 1,
   "metadata": {},
   "outputs": [
    {
     "data": {
      "text/html": [
       "<table><tr><th>&nbsp;</th><th>step type</th><th>requirements</th><th>statement</th></tr>\n",
       "<tr><td>0</td><td>assumption</td><td></td><td><span style=\"font-size:20px;\"><a class=\"ProveItLink\" href=\"../bfc83f4ef8153deabfe72d7b6773e1d3407108600/expr.ipynb\"><img src=\"data:image/png;base64,iVBORw0KGgoAAAANSUhEUgAAAFMAAAAVBAMAAADInc9CAAAAMFBMVEX///9ERETc3NyqqqpUVFS6\n",
       "urrMzMwyMjIQEBCIiIh2dnYiIiLu7u5mZmaYmJgAAABJJ2g3AAAAAXRSTlMAQObYZgAAAUNJREFU\n",
       "KM9jYGDgu8dACLCtUgBRPLsYCAO2ZhDJ+YGByfu/EwODxe8JmGo4foi4yG9gYLgO4nA1ADV9BzIY\n",
       "DbAYF2/AwLPjAAPDCphShv1AtyxFUnEAxrjKwMDexICsdP4CBj5kQ2tgjAsMDPIJKErPNzBEItsb\n",
       "AmMEMLB8ZkBRyviVbQGyUi6ED9c/gCvlLQASzF/OQmV4d4PBX5hKzp9g6j2IyAgAkf0OqD5nLoUy\n",
       "7C+AKXYgldIGZsofQAul461givULAwPIWwziQHdEgFnt6NFTBdGbXwAOBQZukFdYQG5l+sWA6taN\n",
       "EJVM3QcYWB/A3MoFjDYGvq9oToU6/XQP0JkHUAKL5QOqUnUoXaHAwCSIEq68/l9Qk4oQhGL5LSi4\n",
       "/x9qFKCDBHQB3EoZsCrlI0opOL3y7CQmF0AihG8xcXkLAHtgWG0mtRZ0AAAAAElFTkSuQmCC\n",
       "\" style=\"display:inline;vertical-align:middle;\" /></a> <a class=\"ProveItLink\" href=\"proof.ipynb\" style=\"text-decoration: none\">&#x22A2;&nbsp;</a><a class=\"ProveItLink\" href=\"../4ffb002e291c6c914ba3039ffb884547a56832d30/expr.ipynb\"><img src=\"data:image/png;base64,iVBORw0KGgoAAAANSUhEUgAAAEAAAAAPBAMAAACmSdRUAAAAMFBMVEX///9mZmbu7u6YmJi6urp2\n",
       "dnZEREQyMjLMzMyIiIgQEBCqqqoiIiJUVFTc3NwAAAA2WfgnAAAAAXRSTlMAQObYZgAAAOJJREFU\n",
       "GNNjeHv+7wMG7vUnGTDB+mV3r/1hYOgvALKzsciz/GZg0FnEwMDzj4GB1QEhzgRjMAIFqx4wMHB+\n",
       "ZWCwRtLIrgBTwMDA9gOk4xcDywRkky/AGAwM9zeAGPkOrSh2R8JZrJ/B1P5LAlABmTMgcB7GZZgP\n",
       "MZnrL5rzt0OdzP0RQrN9QlPAVAVR4X+BgQNsQgGagvYgMMXxHewTBob3AQwobjiTBOG9OsTA4Axi\n",
       "2DugGrAXatEpYIAUgVj3UeX5oDayr2NgeJYAZMj+v4migO0BhL5/LC3nvwGWOOJA5QIA7nY8/RcK\n",
       "CYkAAAAASUVORK5CYII=\n",
       "\" style=\"display:inline;vertical-align:middle;\" /></a></span></td></tr>\n",
       "</table>"
      ],
      "text/plain": [
       "<proveit._core_.proof._ShowProof at 0x7f94ebc84c50>"
      ]
     },
     "execution_count": 1,
     "metadata": {},
     "output_type": "execute_result"
    }
   ],
   "source": [
    "import proveit\n",
    "%show_proof"
   ]
  },
  {
   "cell_type": "code",
   "execution_count": null,
   "metadata": {},
   "outputs": [],
   "source": []
  }
 ],
 "metadata": {
  "kernelspec": {
   "display_name": "Python 3",
   "language": "python",
   "name": "python3"
  }
 },
 "nbformat": 4,
 "nbformat_minor": 0
}
