{
 "cells": [
  {
   "cell_type": "markdown",
   "metadata": {},
   "source": [
    "Expression of type <a class=\"ProveItLink\" href=\"../../../doc/html/api/proveit.logic.Forall.html\">Forall</a>\n",
    "=======================\n",
    "# from context <a class=\"ProveItLink\" href=\"../../_context_.ipynb\">tutorial</a>"
   ]
  },
  {
   "cell_type": "code",
   "execution_count": 1,
   "metadata": {},
   "outputs": [],
   "source": [
    "# import Expression classes needed to build the expression\n",
    "from proveit._common_ import Pxy, S, y\n",
    "from proveit.logic import Forall"
   ]
  },
  {
   "cell_type": "code",
   "execution_count": 2,
   "metadata": {},
   "outputs": [
    {
     "data": {
      "text/html": [
       "<strong id=\"expr\">expr:</strong> <a class=\"ProveItLink\" href=\"expr.ipynb\"><img src=\"data:image/png;base64,iVBORw0KGgoAAAANSUhEUgAAAHUAAAAWBAMAAAAMSs57AAAAMFBMVEX///8QEBC6urrMzMxUVFRm\n",
       "ZmZERETc3NwyMjKqqqp2dnaIiIiYmJgiIiLu7u4AAAAU9Wx4AAAAAXRSTlMAQObYZgAAAj9JREFU\n",
       "OMulVD1oFEEYffe3e3e7NzmSQlSUK4QIIolgigSComLAIDnFqGBhtNgUFl4hphD1mrRyoFYW2SYE\n",
       "LygH4jUXzGIjKOLWViuIhYI5SIiiYvJmfy4JOxHFgZn95vvmzb5vvjcD/Efz/mrVgZjnJbsrjTdK\n",
       "gDG2cuL0iLRSR2PBTD/wWBr31H/rqgJXKjSyCnaM3eRHn1Bjj9jADDtaiuDrYMtMTY1dLAHvyjT2\n",
       "KoIfAHNuaur2Nid0nX2M+yariqDGwKplvd8G+x0Qq/JcyFufH3l0yfeKWRt3PeRJ6DgwuQUxUF/o\n",
       "943UD2BYUs46wGe8dfb47nyyjUUgRzL7ILZQSpbRF9ZopT47J40E87a5/r7vHsy4sLiuCBRgOCFM\n",
       "PB93OIcWZvQ7qlVJauhkpKZEAz/Jqs3dnUJUvWbvVw9LHswQ4m7CArsjZjNeajnAiuphEmgi4Zky\n",
       "NxR2laLylkMjIWuoL0ME04swigFnTB4DvnRVDiEbED+zVtsob0CeSb0y2ngRoKehUaOmPKWHpHbn\n",
       "IJoYCpfeKIbljXJhOXK/tKLewJJM4xz6HN9JRg0OpzCKYcuyGqIE0fb/f35tNDp6F+La0/oCxfSN\n",
       "00+tyxR5VrIy5fbd6MFHuS5XQyom7x0dq9cfnwSaDFsPC56WVyYzAa2i0H3YSDbtip205ju+B80q\n",
       "xFWJHRi/EBPnxh0ktmBrNjYJSq+kmXWe+SqFrUd335BZtc5yTHfIafb+P745t2KeZx0r17L//alb\n",
       "B1WihzW8hIjHAAAAAElFTkSuQmCC\n",
       "\" style=\"display:inline;vertical-align:middle;\" /></a><br>"
      ],
      "text/plain": [
       "expr: forall_{y in S} P(x , y)"
      ]
     },
     "execution_count": 2,
     "metadata": {},
     "output_type": "execute_result"
    }
   ],
   "source": [
    "# build up the expression from sub-expressions\n",
    "expr = Forall([y], Pxy, domain = S, conditions = [])"
   ]
  },
  {
   "cell_type": "code",
   "execution_count": 3,
   "metadata": {},
   "outputs": [
    {
     "name": "stdout",
     "output_type": "stream",
     "text": [
      "Passed sanity check: built 'expr' is the same as the stored Expression.\n"
     ]
    }
   ],
   "source": [
    "# check that the built expression is the same as the stored expression\n",
    "%check_expr"
   ]
  },
  {
   "cell_type": "code",
   "execution_count": 4,
   "metadata": {},
   "outputs": [
    {
     "data": {
      "text/html": [
       "<table><tr><th>&nbsp;</th><th>core type</th><th>sub-expressions</th><th>expression</th></tr>\n",
       "<tr><td>0</td><td>Operation</td><td>operator:&nbsp;1<br>operand:&nbsp;2<br></td><td><a class=\"ProveItLink\" href=\"expr.ipynb\"><img src=\"data:image/png;base64,iVBORw0KGgoAAAANSUhEUgAAAHUAAAAWBAMAAAAMSs57AAAAMFBMVEX///8QEBC6urrMzMxUVFRm\n",
       "ZmZERETc3NwyMjKqqqp2dnaIiIiYmJgiIiLu7u4AAAAU9Wx4AAAAAXRSTlMAQObYZgAAAj9JREFU\n",
       "OMulVD1oFEEYffe3e3e7NzmSQlSUK4QIIolgigSComLAIDnFqGBhtNgUFl4hphD1mrRyoFYW2SYE\n",
       "LygH4jUXzGIjKOLWViuIhYI5SIiiYvJmfy4JOxHFgZn95vvmzb5vvjcD/Efz/mrVgZjnJbsrjTdK\n",
       "gDG2cuL0iLRSR2PBTD/wWBr31H/rqgJXKjSyCnaM3eRHn1Bjj9jADDtaiuDrYMtMTY1dLAHvyjT2\n",
       "KoIfAHNuaur2Nid0nX2M+yariqDGwKplvd8G+x0Qq/JcyFufH3l0yfeKWRt3PeRJ6DgwuQUxUF/o\n",
       "943UD2BYUs46wGe8dfb47nyyjUUgRzL7ILZQSpbRF9ZopT47J40E87a5/r7vHsy4sLiuCBRgOCFM\n",
       "PB93OIcWZvQ7qlVJauhkpKZEAz/Jqs3dnUJUvWbvVw9LHswQ4m7CArsjZjNeajnAiuphEmgi4Zky\n",
       "NxR2laLylkMjIWuoL0ME04swigFnTB4DvnRVDiEbED+zVtsob0CeSb0y2ngRoKehUaOmPKWHpHbn\n",
       "IJoYCpfeKIbljXJhOXK/tKLewJJM4xz6HN9JRg0OpzCKYcuyGqIE0fb/f35tNDp6F+La0/oCxfSN\n",
       "00+tyxR5VrIy5fbd6MFHuS5XQyom7x0dq9cfnwSaDFsPC56WVyYzAa2i0H3YSDbtip205ju+B80q\n",
       "xFWJHRi/EBPnxh0ktmBrNjYJSq+kmXWe+SqFrUd335BZtc5yTHfIafb+P745t2KeZx0r17L//alb\n",
       "B1WihzW8hIjHAAAAAElFTkSuQmCC\n",
       "\" style=\"display:inline;vertical-align:middle;\" /></a></td></tr>\n",
       "<tr><td>1</td><td>Literal</td><td></td><td><a class=\"ProveItLink\" href=\"../../../packages/proveit/logic/boolean/quantification/universal/__pv_it/265f8c02ac1094d56e0e6410a1c1fd3500dc9f540/expr.ipynb\"><img src=\"data:image/png;base64,iVBORw0KGgoAAAANSUhEUgAAAAwAAAAQBAMAAADQT4M0AAAAMFBMVEX///8QEBC6urrMzMxUVFRm\n",
       "ZmZERETc3NwyMjKqqqp2dnaIiIiYmJgiIiLu7u4AAAAU9Wx4AAAAAXRSTlMAQObYZgAAAFhJREFU\n",
       "CNdjeMAABhdAxGmGlSCqj6EMSLInMHAAJVknMPAsLy+vBYp8S0u7BaScGRjSgZQKA18DkOJl4D4A\n",
       "pLgP8IJM4mswARuX7gSmpoKNZWDcAKZ4gCoAgTQTILaSE58AAAAASUVORK5CYII=\n",
       "\" style=\"display:inline;vertical-align:middle;\" /></a></td></tr>\n",
       "<tr><td>2</td><td>Lambda</td><td>parameter:&nbsp;11<br>body:&nbsp;3<br>conditions:&nbsp;4<br></td><td><a class=\"ProveItLink\" href=\"../e8f685d066f46547518eaac71a4cea9d8bd5cff10/expr.ipynb\"><img src=\"data:image/png;base64,iVBORw0KGgoAAAANSUhEUgAAALgAAAAVCAMAAADCb9TFAAAANlBMVEX///8UFBQNDQ2YmJhUVFQy\n",
       "MjIQEBBEREQiIiKqqqrMzMyIiIi6urrc3NxmZmZ2dnbu7u4AAACrLjZHAAAAAXRSTlMAQObYZgAA\n",
       "AkFJREFUSMfFl4tyhCAMRWl5E175/58tilgJrHW10zKz6yxKcgg3McvY/w0b2P8ODxce4n6YSv4P\n",
       "IUEgijKM2MPlxKWV0f0KOBcxxsxvLEW5XrRq5DJfWyh/A1zy8pU1vr/SYaoC3a4M4Gqs0nNwsTmX\n",
       "N7SC1R3HWCfUxYCzrN4DzyBNGUfGgFVvDt4Hb6ck0NbMvL55bd8Bd5IPIfGbU7fw5xTTupk8k6K1\n",
       "c4ln1FvONQGEBCJYiMdg9LZTfA1OKVjQk5MMiLDneCr7WCWw/TZEVXkmcWfiMVtWz0U+hjN1XN/b\n",
       "pso8glMKpsNcqGXUW86yuPjSeg6eRehXipRKdPZJ5Zvn6tYeqh6x7dVL8IEi67mAAhcK17QqH7Wc\n",
       "LrYj/vww3VDoO4mTE2x3l2lBvBHbDl+CDxReNf9jDiXkW2HLi1E3jzgTXQohvX3clhqSvbN9Aj5Q\n",
       "TN9qTZUbeFz2BPsxErIYeomTBGPKkmLVnUhn+0QqA0U2k/oYm5/KJJffWszBScUEpCVMb2HgoWYW\n",
       "5CN8Z5ufJCelYIKPTdm2Porvq8f9OaAyZWcSbzXOFgO6xCvAepZt953ts3JIKUrIhyofzcoG3wkM\n",
       "EPFCi5mjLh0W0bE3zUjKKQGv78hmrrMt/Qn4QBEkbcsE86W9091RJHO7X1SzLfsw2v75lU8orJDT\n",
       "qtL2YRab9jb40Dsd8r+zneAE/AaFKY51etCiz9paPtrOp23tDQpbtPXor0gYSy5MbItwBv6Y4hb5\n",
       "lSYT3Dj1hPQLPzgabwZJlioAAAAASUVORK5CYII=\n",
       "\" style=\"display:inline;vertical-align:middle;\" /></a></td></tr>\n",
       "<tr><td>3</td><td>Operation</td><td>operator:&nbsp;5<br>operands:&nbsp;6<br></td><td><a class=\"ProveItLink\" href=\"../../../packages/proveit/__pv_it/e0e45b9393452be20ed9dd804d04d86a2899b1ba0/expr.ipynb\"><img src=\"data:image/png;base64,iVBORw0KGgoAAAANSUhEUgAAAEIAAAAVBAMAAAAA8SWUAAAAMFBMVEX////u7u5mZmaYmJi6urqq\n",
       "qqp2dnbMzMwQEBBEREQyMjLc3NwiIiJUVFSIiIgAAAAeC3ydAAAAAXRSTlMAQObYZgAAAWhJREFU\n",
       "KM+VUjtPwlAYPaWF0hJK40DURSZcHJgcnBydlNlBGwdH039QnUmUReOiMPgDWHREgombCZOLkhAG\n",
       "44IIPgYf0XOvNzxSFm9yv3v63XPP9yrwr7Ua8ujLwnZ+ms2bCoHZCD+al/YDsAo8bTfMsIUx34Eo\n",
       "N54mBNY9GueVoE+wN4Gh7dJYz0DyDTDKk7I/5E7xZq4IRITgRee83ZJX6SwSPWCLMPBg1kVSOYp6\n",
       "+lW8JhneGhyqrxN2b7ezotg4a4/RG/Vl/vkFWFReIS6pIlNkaEgWVYrYR4rxAuIvDBlUaqnPaA+B\n",
       "LxlmX7nieWEvffxpRsp4hIwi2iGXxUz1SheOKzl2Bic8lnjRU4xYBtjMHaMKTQSONIwXiGqnSt8q\n",
       "ssEqZx7SOzloB6xNO21/0ns22r7CABkVKVpTXR+sxeG8uO8xzdRjrbFJu6OMaxzRzo4NKTH4g8TD\n",
       "jbboz934HKuhyTo+fgFmwVFLOVAG8QAAAABJRU5ErkJggg==\n",
       "\" style=\"display:inline;vertical-align:middle;\" /></a></td></tr>\n",
       "<tr><td>4</td><td>ExprTuple</td><td>7</td><td><a class=\"ProveItLink\" href=\"../13d643d508f7841c3e4fbd13fb3ee95dbbb869860/expr.ipynb\"><img src=\"data:image/png;base64,iVBORw0KGgoAAAANSUhEUgAAAD4AAAAVBAMAAADshECCAAAAMFBMVEX////c3NwiIiJERESqqqqY\n",
       "mJh2dnZmZmYQEBDu7u4yMjJUVFTMzMyIiIi6uroAAAAs73DqAAAAAXRSTlMAQObYZgAAAUdJREFU\n",
       "KM9jYCAE+C7glGJ9ACROY5eLLq+MY6gBMlZileYKYJj8gYGLgYEXu/HbGBhYFjCwJjBwTEASnbtI\n",
       "SQvMYPzDwMBzgYGzgeEVkjTPUphivi9A3gEGBhOGMgYGzvQEBnmQjDDcLMb/d8B0OsNSBgY2vg8M\n",
       "90E8Q4RR9/9/FgBSXgx9DAxH2BUYjIEcTgOEPGN0fyeQesHwj4FhAscFhr8gS5uUlKDuAwK2r0Di\n",
       "PEiewX8Czx+Q8zbAtQcATYPItwDJKgbeBpD5CjBpzgKgDR/B5psCyeUMzGCtW2HywKBhYAcJRQF9\n",
       "wMBQzfA+ACQ86QFUnl2XgeEyxH+PgOTku/UCYEcvPwCR5+bbvRmsYx0DB1gmCWruLoT7we5oAEUB\n",
       "twJnC/ZIZrsAil+mBOYE7PKzgFiageVuHY4EtBHkKNzpi/cAAwDd1Us96hoqsAAAAABJRU5ErkJg\n",
       "gg==\n",
       "\" style=\"display:inline;vertical-align:middle;\" /></a></td></tr>\n",
       "<tr><td>5</td><td>Variable</td><td></td><td><a class=\"ProveItLink\" href=\"../../../packages/proveit/__pv_it/6369c6c8083c513ca7161ace249642d040f9327d0/expr.ipynb\"><img src=\"data:image/png;base64,iVBORw0KGgoAAAANSUhEUgAAABAAAAAOBAMAAADUAYG5AAAAMFBMVEX////u7u5mZmaYmJi6urqq\n",
       "qqp2dnbMzMwQEBBEREQyMjLc3NwiIiJUVFSIiIgAAAAeC3ydAAAAAXRSTlMAQObYZgAAAGBJREFU\n",
       "CNdjYGB4+//u3bMbGIDgFwMDZzeQZv/GwMAKxAx8XxgYmD8BGZwfGBh4vwIZ/AsYGOQnABn1CQzs\n",
       "h0Ca3l9LUwPrni/AAAF/oDT7JygDZAwYcH6E0ELz/z4A0QBnpRnRyxnfJQAAAABJRU5ErkJggg==\n",
       "\" style=\"display:inline;vertical-align:middle;\" /></a></td></tr>\n",
       "<tr><td>6</td><td>ExprTuple</td><td>8, 11</td><td><a class=\"ProveItLink\" href=\"../../../packages/proveit/__pv_it/8015af457c372be02f7b56fbcf0db088047bb4a30/expr.ipynb\"><img src=\"data:image/png;base64,iVBORw0KGgoAAAANSUhEUgAAACwAAAAVBAMAAADP3xFXAAAAMFBMVEX////c3NwiIiJERESqqqqY\n",
       "mJh2dnZmZmYQEBDu7u4yMjJUVFTMzMyIiIi6uroAAAAs73DqAAAAAXRSTlMAQObYZgAAAQtJREFU\n",
       "GNNjYMAB+C6gi7A+ABKnMVXWAPFKTGEuBgbeC5jCrAkMHBMwhTkbGF5hc4YJQxmQFLstch1i1rQy\n",
       "BsafDAzpDEuBehJYVTkUwMIJ7xl4PzAweDH0MTCwAZksB0CiPA5FDMwGDAwvGP4BVTNwG0DtYuhl\n",
       "4Acadx4kzMDAAXMly0+G8wdAwi0gnvwBBog72Rcw3GAAGWIKdL3AfQbeCWAJrgIGayAVBXQLg3+A\n",
       "BYMsA+cnkOoNfF8ZQA58xMAw+dq03AAGzn4BoJ221z8ChdcxcAjAQxjMYlMAex4YLLAAAuJNDDMc\n",
       "gFIXkAIWJKzGYAYkZwGxNEwY5Hbf66CY2QjEjBgBznuAAQAt5DtyKXSr1gAAAABJRU5ErkJggg==\n",
       "\" style=\"display:inline;vertical-align:middle;\" /></a></td></tr>\n",
       "<tr><td>7</td><td>Operation</td><td>operator:&nbsp;9<br>operands:&nbsp;10<br></td><td><a class=\"ProveItLink\" href=\"../1023ee2e650e711a947cf3bc458aeb5945a2f53c0/expr.ipynb\"><img src=\"data:image/png;base64,iVBORw0KGgoAAAANSUhEUgAAADIAAAASBAMAAADrvZC0AAAAMFBMVEX///+YmJhUVFQyMjIQEBBE\n",
       "REQiIiKqqqrMzMyIiIi6urrc3NxmZmZ2dnbu7u4AAADXeCicAAAAAXRSTlMAQObYZgAAAOVJREFU\n",
       "GNNjYMAGhM6ck8IqwSzA8PQDVhldBgZ2AyT+S7O0ZDCD+wcDA8cEhASH4QMoi+s7kNfAwHfnAsN+\n",
       "kNhWmAQD9/8ZIIqX6wPDfBAjGqF9/v+vGxgY2nkSGEKBPL4AhAy3kL8fA8MDlgkMP0GGu6WlQV0A\n",
       "MukjkKh/wPED5AAFuBYBoAkgmcMMnA4g0xJgEnwHgOb9BjJsGFjByhVhMiBP8oCEDjGsFwAJPFsA\n",
       "leHJZGCYCmI8nXl+A9hBNg0QGSYuJVUBCPMa1BRlhNvAKhL43LEGKwPbBdYL2GXYZ57CLgEAmWsz\n",
       "Uj3ZETAAAAAASUVORK5CYII=\n",
       "\" style=\"display:inline;vertical-align:middle;\" /></a></td></tr>\n",
       "<tr><td>8</td><td>Variable</td><td></td><td><a class=\"ProveItLink\" href=\"../../../packages/proveit/__pv_it/530be409e3083890784cf1d7b28c9e67e90af9360/expr.ipynb\"><img src=\"data:image/png;base64,iVBORw0KGgoAAAANSUhEUgAAAAsAAAAJBAMAAAAWSsseAAAAKlBMVEX///9ERETMzMwQEBAiIiKY\n",
       "mJju7u5mZmaqqqpUVFSIiIh2dnbc3NwAAAA/vyDhAAAAAXRSTlMAQObYZgAAAENJREFUCNdjYDi9\n",
       "8sTyBQxsG1hdmR0YuBm4LnAoMLAxcAowgADzAjB1VoEhgYH1wFoGrgSG3gBhhlMMDImrs3cFMAAA\n",
       "t0YN+iTRa+sAAAAASUVORK5CYII=\n",
       "\" style=\"display:inline;vertical-align:middle;\" /></a></td></tr>\n",
       "<tr><td>9</td><td>Literal</td><td></td><td><a class=\"ProveItLink\" href=\"../../../packages/proveit/logic/set_theory/membership/__pv_it/088cbc857536a28d4119ad9639a84270ccb0545d0/expr.ipynb\"><img src=\"data:image/png;base64,iVBORw0KGgoAAAANSUhEUgAAAAwAAAAMBAMAAACkW0HUAAAALVBMVEX///+qqqpmZmZUVFQQEBC6\n",
       "urpERETc3NyYmJjMzMwiIiIyMjKIiIju7u4AAACYsrA9AAAAAXRSTlMAQObYZgAAADxJREFUCNdj\n",
       "YOA9vWrVBgaG2b0MQMCeCyIZ2ArA1DUwyRCyahVIyWQI7xaEYm4AU7xLIdxqTQgtvGvVBgCkcQ7e\n",
       "geM/tQAAAABJRU5ErkJggg==\n",
       "\" style=\"display:inline;vertical-align:middle;\" /></a></td></tr>\n",
       "<tr><td>10</td><td>ExprTuple</td><td>11, 12</td><td><a class=\"ProveItLink\" href=\"../e16db69cf6d4da3bbe9df0e0efa6eee387061a1f0/expr.ipynb\"><img src=\"data:image/png;base64,iVBORw0KGgoAAAANSUhEUgAAAC4AAAAVBAMAAADLKsFqAAAAMFBMVEX////c3NwiIiJERESqqqqY\n",
       "mJh2dnZmZmYQEBDu7u4yMjJUVFTMzMyIiIi6uroAAAAs73DqAAAAAXRSTlMAQObYZgAAAR9JREFU\n",
       "GNN1kT1LA0EQhp+Yr9skd6S38P6AlfonbLzagBw2aa0UP9AUaWz0II3YaCNiIxHBxiaFnYUHtoao\n",
       "ldgYUbtonL3VmCW4sO8sD8zMO7Pw3/HiEZS9F7m2WWVldYENeZxYuBDQ6FIA1y5zAZlDsiFONIxT\n",
       "PSjFqBrPtol34S2YZhlUNWTCpKX6d0mscgQ5r0vnJ6HTfytLmGUHrvI+U78NKrvbEp74gsiJ+Ry0\n",
       "yH2I3GjOXFTqGRhIN8Promu4tQSrJan0mtSZET0m3USRjES+KY95cQTrvAQc+MIm4db4fBRttLfK\n",
       "7El+0bs8DzQ/xdF2WZT78De27EFWVPRV3XgZeI31nsfCdGjzfbnjZNqbEt2h9Z3pyUf/0W3xDc/R\n",
       "RKUFmQK3AAAAAElFTkSuQmCC\n",
       "\" style=\"display:inline;vertical-align:middle;\" /></a></td></tr>\n",
       "<tr><td>11</td><td>Variable</td><td></td><td><a class=\"ProveItLink\" href=\"../../../packages/proveit/__pv_it/f8b9edf8e16034727f0aad55bb83e392c3db40d40/expr.ipynb\"><img src=\"data:image/png;base64,iVBORw0KGgoAAAANSUhEUgAAAAsAAAANBAMAAACN24kIAAAAMFBMVEX///+YmJhUVFQyMjIQEBBE\n",
       "REQiIiKqqqrMzMyIiIi6urrc3NxmZmZ2dnbu7u4AAADXeCicAAAAAXRSTlMAQObYZgAAAFhJREFU\n",
       "CNdj4LtzgWH/AwZerg8M8xkY2nkSGEIZGB6wTGD4ycDAUP+A4weQOszA6QCkbBhYFYDUIYb1AkDq\n",
       "6czzGxhA4BoQMyXwuQMptgusF4AU+8xTQBIAUqMVoSp/SLMAAAAASUVORK5CYII=\n",
       "\" style=\"display:inline;vertical-align:middle;\" /></a></td></tr>\n",
       "<tr><td>12</td><td>Variable</td><td></td><td><a class=\"ProveItLink\" href=\"../../../packages/proveit/__pv_it/abeee18594afe51bfb1be95d9591fbba24ac53f30/expr.ipynb\"><img src=\"data:image/png;base64,iVBORw0KGgoAAAANSUhEUgAAAA0AAAAOBAMAAAAGUYvhAAAAMFBMVEX///8iIiIQEBCIiIjMzMzc\n",
       "3Nyqqqp2dnZEREQyMjK6urru7u5mZmZUVFSYmJgAAACI6eGPAAAAAXRSTlMAQObYZgAAAF1JREFU\n",
       "CNdjYGDgu3Nm3wIGBoZ5DNz9QIq3gIEhE0jHOzAwOAPp9QkMDC4g/megABAw///fCmbEXfq0Acxg\n",
       "qH8ANAVI7wfSe0BKAyBGnAXigwYMzA1A+sLau31ACgAz0hhbkhGHbwAAAABJRU5ErkJggg==\n",
       "\" style=\"display:inline;vertical-align:middle;\" /></a></td></tr>\n",
       "</table>\n"
      ],
      "text/plain": [
       "0. forall_{y in S} P(x , y)\n",
       "   core type: Operation\n",
       "   operator: 1\n",
       "   operand: 2\n",
       "1. forall\n",
       "   core type: Literal\n",
       "   sub-expressions: \n",
       "2. y -> P(x , y) | y in S\n",
       "   core type: Lambda\n",
       "   parameter: 11\n",
       "   body: 3\n",
       "   conditions: 4\\n3. P(x , y)\n",
       "   core type: Operation\n",
       "   operator: 5\n",
       "   operands: 6\n",
       "4. (y in S)\n",
       "   core type: ExprTuple\n",
       "   sub-expressions: 7\n",
       "5. P\n",
       "   core type: Variable\n",
       "   sub-expressions: \n",
       "6. (x , y)\n",
       "   core type: ExprTuple\n",
       "   sub-expressions: 8, 11\n",
       "7. y in S\n",
       "   core type: Operation\n",
       "   operator: 9\n",
       "   operands: 10\n",
       "8. x\n",
       "   core type: Variable\n",
       "   sub-expressions: \n",
       "9. in\n",
       "   core type: Literal\n",
       "   sub-expressions: \n",
       "10. (y , S)\n",
       "    core type: ExprTuple\n",
       "    sub-expressions: 11, 12\n",
       "11. y\n",
       "    core type: Variable\n",
       "    sub-expressions: \n",
       "12. S\n",
       "    core type: Variable\n",
       "    sub-expressions: "
      ]
     },
     "execution_count": 4,
     "metadata": {},
     "output_type": "execute_result"
    }
   ],
   "source": [
    "# display the expression information\n",
    "expr.exprInfo()"
   ]
  },
  {
   "cell_type": "code",
   "execution_count": null,
   "metadata": {},
   "outputs": [],
   "source": []
  }
 ],
 "metadata": {
  "kernelspec": {
   "display_name": "Python 3",
   "language": "python",
   "name": "python3"
  }
 },
 "nbformat": 4,
 "nbformat_minor": 0
}
