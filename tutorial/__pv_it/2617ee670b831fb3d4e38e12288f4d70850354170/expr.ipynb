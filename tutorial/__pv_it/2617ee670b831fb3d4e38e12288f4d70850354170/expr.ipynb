{
 "cells": [
  {
   "cell_type": "markdown",
   "metadata": {},
   "source": [
    "Expression of type <a class=\"ProveItLink\" href=\"../../../doc/html/api/proveit.logic.Set.html\">Set</a>\n",
    "=======================\n",
    "# from context <a class=\"ProveItLink\" href=\"../../_context_.ipynb\">tutorial</a>"
   ]
  },
  {
   "cell_type": "code",
   "execution_count": 1,
   "metadata": {},
   "outputs": [],
   "source": [
    "# import Expression classes needed to build the expression\n",
    "from proveit._common_ import x, y, z\n",
    "from proveit.logic import Set\n",
    "from proveit.number import Add, Less"
   ]
  },
  {
   "cell_type": "code",
   "execution_count": 2,
   "metadata": {},
   "outputs": [
    {
     "data": {
      "text/html": [
       "<strong id=\"expr\">expr:</strong> <a class=\"ProveItLink\" href=\"expr.ipynb\"><img src=\"data:image/png;base64,iVBORw0KGgoAAAANSUhEUgAAAHkAAAAVBAMAAACQ4lxbAAAAMFBMVEX///9ERETc3NyqqqpUVFS6\n",
       "urrMzMwyMjIQEBCIiIh2dnYiIiLu7u5mZmaYmJgAAABJJ2g3AAAAAXRSTlMAQObYZgAAAc1JREFU\n",
       "OMtjYGDgu8dABmBbpQCieHbhkGedgEsnXwBIezOIyfkBh5oU3BZfAxHXQQRXAw4lNbh1s4OIFdh1\n",
       "6yaA3YTicB4FFKcvwKk7pRRMcRxAFmRGNasBl+5wNyjNgFs3gzCK7ohWJqi0+SWogltArDVFee4E\n",
       "FN2nbjEw/WFgWAvTzVvAwMAkN/ciRHb2GpjxdUAHLuDbx7EBRfeCeHAkmQOZ70H8DGDk8TDw+IAl\n",
       "VyMc2Ap0FlAlcwKybjaD2wyMAkC3ggL+AjCM2sDCKpDQEAyA6/4KMpRFANXfPAydDPxAZj6II/4A\n",
       "aAzIcNYL0PTnboCkGxjwYE285eXV7eXlDiBT/jDkJ0B0c4OijQXobwYrmB6m2w+gLHBC1E9gOIDi\n",
       "b2AozWCAuBzsby5gsDAvYGCBReXqORCGHDBRKMxn4ETVDfSsCJB6jhxj6W/flcI9/BoS7MBIsX8g\n",
       "waCJGt+8Dqz/GJBiDKT7At8PA0RSMAcHczQDw8FZp1Y+QNXNIzn3E5AqxZ3OIYBDAXtaA/kUd0pF\n",
       "yQkYmd2b4QTQlVwTYLr5SMqhuxikgORxeP7m2YlDtwo2Qcu5oPTkBEoarRAnLsaumwlnycSZAC3X\n",
       "AKJNcQuS6o1EAAAAAElFTkSuQmCC\n",
       "\" style=\"display:inline;vertical-align:middle;\" /></a><br>"
      ],
      "text/plain": [
       "expr: {z < (x + y)}"
      ]
     },
     "execution_count": 2,
     "metadata": {},
     "output_type": "execute_result"
    }
   ],
   "source": [
    "# build up the expression from sub-expressions\n",
    "expr = Set(Less(z, Add(x, y)))"
   ]
  },
  {
   "cell_type": "code",
   "execution_count": 3,
   "metadata": {},
   "outputs": [
    {
     "name": "stdout",
     "output_type": "stream",
     "text": [
      "Passed sanity check: built 'expr' is the same as the stored Expression.\n"
     ]
    }
   ],
   "source": [
    "# check that the built expression is the same as the stored expression\n",
    "%check_expr"
   ]
  },
  {
   "cell_type": "code",
   "execution_count": 4,
   "metadata": {},
   "outputs": [
    {
     "data": {
      "text/html": [
       "<table><tr><th>&nbsp;</th><th>core type</th><th>sub-expressions</th><th>expression</th></tr>\n",
       "<tr><td>0</td><td>Operation</td><td>operator:&nbsp;1<br>operands:&nbsp;2<br></td><td><a class=\"ProveItLink\" href=\"expr.ipynb\"><img src=\"data:image/png;base64,iVBORw0KGgoAAAANSUhEUgAAAHkAAAAVBAMAAACQ4lxbAAAAMFBMVEX///9ERETc3NyqqqpUVFS6\n",
       "urrMzMwyMjIQEBCIiIh2dnYiIiLu7u5mZmaYmJgAAABJJ2g3AAAAAXRSTlMAQObYZgAAAc1JREFU\n",
       "OMtjYGDgu8dABmBbpQCieHbhkGedgEsnXwBIezOIyfkBh5oU3BZfAxHXQQRXAw4lNbh1s4OIFdh1\n",
       "6yaA3YTicB4FFKcvwKk7pRRMcRxAFmRGNasBl+5wNyjNgFs3gzCK7ohWJqi0+SWogltArDVFee4E\n",
       "FN2nbjEw/WFgWAvTzVvAwMAkN/ciRHb2GpjxdUAHLuDbx7EBRfeCeHAkmQOZ70H8DGDk8TDw+IAl\n",
       "VyMc2Ap0FlAlcwKybjaD2wyMAkC3ggL+AjCM2sDCKpDQEAyA6/4KMpRFANXfPAydDPxAZj6II/4A\n",
       "aAzIcNYL0PTnboCkGxjwYE285eXV7eXlDiBT/jDkJ0B0c4OijQXobwYrmB6m2w+gLHBC1E9gOIDi\n",
       "b2AozWCAuBzsby5gsDAvYGCBReXqORCGHDBRKMxn4ETVDfSsCJB6jhxj6W/flcI9/BoS7MBIsX8g\n",
       "waCJGt+8Dqz/GJBiDKT7At8PA0RSMAcHczQDw8FZp1Y+QNXNIzn3E5AqxZ3OIYBDAXtaA/kUd0pF\n",
       "yQkYmd2b4QTQlVwTYLr5SMqhuxikgORxeP7m2YlDtwo2Qcu5oPTkBEoarRAnLsaumwlnycSZAC3X\n",
       "AKJNcQuS6o1EAAAAAElFTkSuQmCC\n",
       "\" style=\"display:inline;vertical-align:middle;\" /></a></td></tr>\n",
       "<tr><td>1</td><td>Literal</td><td></td><td><a class=\"ProveItLink\" href=\"../../../packages/proveit/logic/set_theory/enumeration/__pv_it/07381ed5b23806e8d7914b78cb6667769e3708dd0/expr.ipynb\"><img src=\"data:image/png;base64,iVBORw0KGgoAAAANSUhEUgAAAB4AAAAOBAMAAADKyLEKAAAAMFBMVEX///8iIiIQEBCIiIjMzMzc\n",
       "3Nyqqqp2dnZEREQyMjK6urru7u5mZmZUVFSYmJgAAACI6eGPAAAAAXRSTlMAQObYZgAAALRJREFU\n",
       "CNdjYGDgu3Nm3wIGBJjHwN0PZW5yYGDgLWBgyITy8zcwMMQDxZyh/INAvD6BgcEFypcB4vjPDiBm\n",
       "TPFRrhs/LjMwMP//38rAwCbKEMPA9gEkE3fp0waG+AUMRxh4JkC01T9guPTOOICBEWgVH5C//wHD\n",
       "H5D4fqCz9oCMDGD4DLaegRXslLMMDMpAgxlOMmQxHDRgYG5gYLBk4D7KcIe7gOHC2rt9QCXsh40Z\n",
       "GCKMGQDRkC8N/Ph1XAAAAABJRU5ErkJggg==\n",
       "\" style=\"display:inline;vertical-align:middle;\" /></a></td></tr>\n",
       "<tr><td>2</td><td>ExprTuple</td><td>3</td><td><a class=\"ProveItLink\" href=\"../8f7a83ad8374731d643c3b09c03b86eb21baa0560/expr.ipynb\"><img src=\"data:image/png;base64,iVBORw0KGgoAAAANSUhEUgAAAHMAAAAVBAMAAACHwMySAAAAMFBMVEX////c3NwiIiJERESqqqqY\n",
       "mJh2dnZmZmYQEBDu7u4yMjJUVFTMzMyIiIi6uroAAAAs73DqAAAAAXRSTlMAQObYZgAAAbdJREFU\n",
       "OMtjYKAA8F3ALv4Wp444KGY4jV2eZwNOrewHIJhhJXZ5rgm4HboAgnnR3ctYA6buoghOROGFQTAH\n",
       "muk8ux6A6U4UUV8U3gwIfoUWaKsPQOgFeLQyO4BxGUhdxwNZiCDLcgFoUCQAnZ670bcWRStnegKD\n",
       "/AQGtgIGEF4KFBGOLTcAS/GqwZzPFcDAMI0hKKAJRSsb3weG+0ALFoBxH1BkAsNssBY2XbibOIA+\n",
       "TgAq80HReoRdgcEY6MoGMP4HDlVIJE62g2vlfwAycTOaXydwXGD4CwzKD2AM1vocquL0EmStDAy9\n",
       "YHbVqlUaq1atBjH9J/D8gWttAQVOAkyHuCrMwQ4gx/xh4EQN4SoG3ga4g02BAm4MDLBkN00XElDM\n",
       "wGAK5P3AcBNV63IGZqBK1gVgnA60e2lp1AOYvayQQAaGPctX5gbGC6haqxneBzDAIucRMA4Z4lsQ\n",
       "8c2yBpwkFBg4bTPTrqIlicl364ERz/UAjDkEsCfxRhypKQmREFkTsGsNw5Z5uRU4Qe7LhWJSMh1T\n",
       "AjPQJs4FEMwgjV0rI7asznK3DmS3AAQzMOIoYGRx5vQ7EAwA1rJt09FbII8AAAAASUVORK5CYII=\n",
       "\" style=\"display:inline;vertical-align:middle;\" /></a></td></tr>\n",
       "<tr><td>3</td><td>Operation</td><td>operator:&nbsp;4<br>operands:&nbsp;5<br></td><td><a class=\"ProveItLink\" href=\"../f939d204ddb18c9833bf0e9cd40af9ed0c961c270/expr.ipynb\"><img src=\"data:image/png;base64,iVBORw0KGgoAAAANSUhEUgAAAGUAAAAVBAMAAACtcD09AAAAMFBMVEX///8iIiIyMjLMzMx2dnaq\n",
       "qqpUVFTu7u5mZmaYmJhERESIiIjc3NwQEBC6uroAAABuzmuqAAAAAXRSTlMAQObYZgAAAXtJREFU\n",
       "OMtjYKAaeI1TZh4uCeYEnHo4DHBIMBXgdoICugBPM5jajSJYg8Kbgu6mpAdg+jqKaDQKrxZVC58a\n",
       "xLF8Cnj0cAUAFdx9cBrCY9U4APWnA9CV3jnR3Sh62D0cGM4XMLA0MDCcmt2xACzGLQLzOdMEBoYS\n",
       "hokTLqLoYeH7wLAfaDLQEQUMZWC1LNJw63mBvnIAygej6DHlEGBYBXTXBVBYQSKjah1cD/8DkFFZ\n",
       "aP4p4N3A8BsYTh+A7BdQKTNVZD0MDLfB7CYlJVklJTUQM76A+TNED6sDTOkJSZjbAkDWf2ZgRw23\n",
       "JgbuCxC3hTAwwFJKiTQkFLiAYTCH+wPDdlQ9GgxcQJWcCgzMmp2THsBs4oQEHTA4WX9yXeDZgKqn\n",
       "jeH9BLAkB8P8q4gIY1UGx6kAA/tqd5edaHFatbsfGIFMD7Cnwzs40oEjZtrBkQ6hmYlNgB3kIm9S\n",
       "8gKjAxcwiNkVcOjhwZbnWHf3gWw7gCtjncaZ5TYzMAAAROlSV4nISxAAAAAASUVORK5CYII=\n",
       "\" style=\"display:inline;vertical-align:middle;\" /></a></td></tr>\n",
       "<tr><td>4</td><td>Literal</td><td></td><td><a class=\"ProveItLink\" href=\"../../../packages/proveit/number/ordering/__pv_it/7c444b9b2efa607ed6397b492680dde2810212f00/expr.ipynb\"><img src=\"data:image/png;base64,iVBORw0KGgoAAAANSUhEUgAAAA4AAAAMBAMAAACgrpHpAAAALVBMVEX///+YmJhERETu7u52dnYi\n",
       "IiKIiIiqqqq6uroyMjJUVFTMzMxmZmbc3NwAAADmAst+AAAAAXRSTlMAQObYZgAAAD5JREFUCNdj\n",
       "YAAB3tNgintlA4jimLUBRLHPuQCi2EIMQBRLGFgJg5EGhGbYNR3KuBMIZZiEGUAYjCFQBvtsABzC\n",
       "Cm98G6SsAAAAAElFTkSuQmCC\n",
       "\" style=\"display:inline;vertical-align:middle;\" /></a></td></tr>\n",
       "<tr><td>5</td><td>ExprTuple</td><td>6, 7</td><td><a class=\"ProveItLink\" href=\"../b43bbd28f5daf8e0094373cca9850ac57d777ccc0/expr.ipynb\"><img src=\"data:image/png;base64,iVBORw0KGgoAAAANSUhEUgAAAFAAAAAVBAMAAAAjqnRBAAAAMFBMVEX////c3NwiIiJERESqqqqY\n",
       "mJh2dnZmZmYQEBDu7u4yMjJUVFTMzMyIiIi6uroAAAAs73DqAAAAAXRSTlMAQObYZgAAAVFJREFU\n",
       "KM9jYCAa8F0grIb1AZA4TYxpNUC8khiFXAwMvDhs5hRAsTuBgWMCdoUsKAZwNjC8YiBGIYMJQxnI\n",
       "4x0PZCF8sdsi1y+gKJxWxsD4k4EhnWEpkCMcW24AsSGBVZVDAUVhwnsG3g8MDF4MfUDOBIbZEJey\n",
       "AQVZDiAr5HEoYmAGmvKC4R+Iy7gB6mYGbgNUN3Iy9DLwA5nnIQqfwx3NAZZnX7VqUdeqVSDtLD8Z\n",
       "zh8AKWwBcRLgCuUPMExAcSP7AoYbDCCrTYGkGwPDBrA8q8B9Bl5UhVwFDNZAKgrobwaepaVRDzg/\n",
       "Abn+ARYMsqjhyL6B7ysDKHgeAdkM8S0MnP3AOJt8bVpuAKpCTtvrH4HUOgYOWJzyCeCIGTYFcBSy\n",
       "wjzCij2ZbmKY4QBUfAGRzFixx7kagxmQnAXE0lARHMnN9zoodW8ExQoRWYH3AAMASKdUsZscRIkA\n",
       "AAAASUVORK5CYII=\n",
       "\" style=\"display:inline;vertical-align:middle;\" /></a></td></tr>\n",
       "<tr><td>6</td><td>Variable</td><td></td><td><a class=\"ProveItLink\" href=\"../../../packages/proveit/__pv_it/251502494639118b4892de8e9d720a5fcce840e10/expr.ipynb\"><img src=\"data:image/png;base64,iVBORw0KGgoAAAANSUhEUgAAAAoAAAAJBAMAAAD5iKAgAAAALVBMVEX///8yMjLMzMx2dnaqqqpU\n",
       "VFTu7u5mZmaYmJhERESIiIjc3NwQEBC6uroAAAB+iRisAAAAAXRSTlMAQObYZgAAADlJREFUCNdj\n",
       "YOA9c2EXA8POrvIJDAwJDKkJDAwM3AFAguE6iGAxAJHODAwBDEwSFY0XGNgZ+o4wAABKtAsIcBKm\n",
       "agAAAABJRU5ErkJggg==\n",
       "\" style=\"display:inline;vertical-align:middle;\" /></a></td></tr>\n",
       "<tr><td>7</td><td>Operation</td><td>operator:&nbsp;8<br>operands:&nbsp;9<br></td><td><a class=\"ProveItLink\" href=\"../2b7242641f099516c8ff5fd4529300180f7dd0a40/expr.ipynb\"><img src=\"data:image/png;base64,iVBORw0KGgoAAAANSUhEUgAAADAAAAAQBAMAAACigOGCAAAAMFBMVEX///+6uroyMjJERETMzMwQ\n",
       "EBAiIiKYmJju7u5mZmaqqqpUVFSIiIh2dnbc3NwAAAAWgogoAAAAAXRSTlMAQObYZgAAAKxJREFU\n",
       "GNNjYEAAjgcM2AHXAeIk3p5+dfIAikTvXAa+HwwcF9jTWRNQJC7IM/B8YOAFElwOyBIsC6YxMBsw\n",
       "cDBwG6DawcEQw8APYrKC+ZxKSmpBSkobQAp+MPiDzHjvwNCAYgenAsNRBgb2B+cZeFAlmCYwWDMw\n",
       "rC8wZXiD6g/ODYzfGRiaz/beKUCV4LA5+Q+Hz3kTUCQYoRLbGFoXYA2zXAZb7IG55qQAAwMAhA8v\n",
       "1pmWzm0AAAAASUVORK5CYII=\n",
       "\" style=\"display:inline;vertical-align:middle;\" /></a></td></tr>\n",
       "<tr><td>8</td><td>Literal</td><td></td><td><a class=\"ProveItLink\" href=\"../../../packages/proveit/number/addition/__pv_it/3e6688136fa3c7aefbebe51301b7c3ebf0b69c440/expr.ipynb\"><img src=\"data:image/png;base64,iVBORw0KGgoAAAANSUhEUgAAAA4AAAAOBAMAAADtZjDiAAAAJFBMVEX///+6urpUVFQQEBAiIiIy\n",
       "MjJmZmaIiIiqqqrc3Nzu7u4AAACgHpL+AAAAAXRSTlMAQObYZgAAAB5JREFUCNdjYGBgWMkAAe2k\n",
       "0Kmhoc6hoUGk6BMHYgAHOwjcado9fwAAAABJRU5ErkJggg==\n",
       "\" style=\"display:inline;vertical-align:middle;\" /></a></td></tr>\n",
       "<tr><td>9</td><td>ExprTuple</td><td>10, 11</td><td><a class=\"ProveItLink\" href=\"../a6a2ac9310c73e21661c7634808321702fb219240/expr.ipynb\"><img src=\"data:image/png;base64,iVBORw0KGgoAAAANSUhEUgAAACwAAAAVBAMAAADP3xFXAAAAMFBMVEX////c3NwiIiJERESqqqqY\n",
       "mJh2dnZmZmYQEBDu7u4yMjJUVFTMzMyIiIi6uroAAAAs73DqAAAAAXRSTlMAQObYZgAAAQtJREFU\n",
       "GNNjYMAB+C6gi7A+ABKnMVXWAPFKTGEuBgbeC5jCrAkMHBMwhTkbGF5hc4YJQxmQFLstch1i1rQy\n",
       "BsafDAzpDEuBehJYVTkUwMIJ7xl4PzAweDH0MTCwAZksB0CiPA5FDMwGDAwvGP4BVTNwG0DtYuhl\n",
       "4Acadx4kzMDAAXMly0+G8wdAwi0gnvwBBog72Rcw3GAAGWIKdL3AfQbeCWAJrgIGayAVBXQLg3+A\n",
       "BYMsA+cnkOoNfF8ZQA58xMAw+dq03AAGzn4BoJ221z8ChdcxcAjAQxjMYlMAex4YLLAAAuJNDDMc\n",
       "gFIXkAIWJKzGYAYkZwGxNEwY5Hbf66CY2QjEjBgBznuAAQAt5DtyKXSr1gAAAABJRU5ErkJggg==\n",
       "\" style=\"display:inline;vertical-align:middle;\" /></a></td></tr>\n",
       "<tr><td>10</td><td>Variable</td><td></td><td><a class=\"ProveItLink\" href=\"../../../packages/proveit/__pv_it/530be409e3083890784cf1d7b28c9e67e90af9360/expr.ipynb\"><img src=\"data:image/png;base64,iVBORw0KGgoAAAANSUhEUgAAAAsAAAAJBAMAAAAWSsseAAAAKlBMVEX///9ERETMzMwQEBAiIiKY\n",
       "mJju7u5mZmaqqqpUVFSIiIh2dnbc3NwAAAA/vyDhAAAAAXRSTlMAQObYZgAAAENJREFUCNdjYDi9\n",
       "8sTyBQxsG1hdmR0YuBm4LnAoMLAxcAowgADzAjB1VoEhgYH1wFoGrgSG3gBhhlMMDImrs3cFMAAA\n",
       "t0YN+iTRa+sAAAAASUVORK5CYII=\n",
       "\" style=\"display:inline;vertical-align:middle;\" /></a></td></tr>\n",
       "<tr><td>11</td><td>Variable</td><td></td><td><a class=\"ProveItLink\" href=\"../../../packages/proveit/__pv_it/f8b9edf8e16034727f0aad55bb83e392c3db40d40/expr.ipynb\"><img src=\"data:image/png;base64,iVBORw0KGgoAAAANSUhEUgAAAAsAAAANBAMAAACN24kIAAAAMFBMVEX///+YmJhUVFQyMjIQEBBE\n",
       "REQiIiKqqqrMzMyIiIi6urrc3NxmZmZ2dnbu7u4AAADXeCicAAAAAXRSTlMAQObYZgAAAFhJREFU\n",
       "CNdj4LtzgWH/AwZerg8M8xkY2nkSGEIZGB6wTGD4ycDAUP+A4weQOszA6QCkbBhYFYDUIYb1AkDq\n",
       "6czzGxhA4BoQMyXwuQMptgusF4AU+8xTQBIAUqMVoSp/SLMAAAAASUVORK5CYII=\n",
       "\" style=\"display:inline;vertical-align:middle;\" /></a></td></tr>\n",
       "</table>\n"
      ],
      "text/plain": [
       "0. {z < (x + y)}\n",
       "   core type: Operation\n",
       "   operator: 1\n",
       "   operands: 2\n",
       "1. Set\n",
       "   core type: Literal\n",
       "   sub-expressions: \n",
       "2. (z < (x + y))\n",
       "   core type: ExprTuple\n",
       "   sub-expressions: 3\n",
       "3. z < (x + y)\n",
       "   core type: Operation\n",
       "   operator: 4\n",
       "   operands: 5\n",
       "4. <\n",
       "   core type: Literal\n",
       "   sub-expressions: \n",
       "5. (z , x + y)\n",
       "   core type: ExprTuple\n",
       "   sub-expressions: 6, 7\n",
       "6. z\n",
       "   core type: Variable\n",
       "   sub-expressions: \n",
       "7. x + y\n",
       "   core type: Operation\n",
       "   operator: 8\n",
       "   operands: 9\n",
       "8. +\n",
       "   core type: Literal\n",
       "   sub-expressions: \n",
       "9. (x , y)\n",
       "   core type: ExprTuple\n",
       "   sub-expressions: 10, 11\n",
       "10. x\n",
       "    core type: Variable\n",
       "    sub-expressions: \n",
       "11. y\n",
       "    core type: Variable\n",
       "    sub-expressions: "
      ]
     },
     "execution_count": 4,
     "metadata": {},
     "output_type": "execute_result"
    }
   ],
   "source": [
    "# display the expression information\n",
    "expr.exprInfo()"
   ]
  },
  {
   "cell_type": "code",
   "execution_count": null,
   "metadata": {},
   "outputs": [],
   "source": []
  }
 ],
 "metadata": {
  "kernelspec": {
   "display_name": "Python 3",
   "language": "python",
   "name": "python3"
  }
 },
 "nbformat": 4,
 "nbformat_minor": 0
}
