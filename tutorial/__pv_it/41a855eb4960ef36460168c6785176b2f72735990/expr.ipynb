{
 "cells": [
  {
   "cell_type": "markdown",
   "metadata": {},
   "source": [
    "Expression of type <a class=\"ProveItLink\" href=\"../../../doc/html/api/proveit.logic.Set.html\">Set</a>\n",
    "=======================\n",
    "# from context <a class=\"ProveItLink\" href=\"../../_context_.ipynb\">tutorial</a>"
   ]
  },
  {
   "cell_type": "code",
   "execution_count": 1,
   "metadata": {},
   "outputs": [],
   "source": [
    "# import Expression classes needed to build the expression\n",
    "from proveit._common_ import X, Y, Z\n",
    "from proveit.logic import Implies, Set"
   ]
  },
  {
   "cell_type": "code",
   "execution_count": 2,
   "metadata": {},
   "outputs": [
    {
     "data": {
      "text/html": [
       "<strong id=\"expr\">expr:</strong> <a class=\"ProveItLink\" href=\"expr.ipynb\"><img src=\"data:image/png;base64,iVBORw0KGgoAAAANSUhEUgAAAJ0AAAAVBAMAAACu6/FQAAAAMFBMVEX///9ERETc3NyqqqpUVFS6\n",
       "urrMzMwyMjIQEBCIiIh2dnYiIiLu7u5mZmaYmJgAAABJJ2g3AAAAAXRSTlMAQObYZgAAAdtJREFU\n",
       "OMtjYGDgu8dAFcC2SgFE8exioBJgawaRnB9A5JP/XQzqP5zRlTB5/3diYLD4PQGFiQ44foi4yG9g\n",
       "YLgO4nA1gMX8DRiYHbDY+R1IMBqgMdFAvAEDz44DDAwrkMzLL2DQRVJyAMbYDwyUpRhMVDVXGRjY\n",
       "mxhQzWP/xHQBSW0NjDF/AQOfAQYTVQ1Qo3wCmnnMf48geyEExjjfwBCJyURVE8DA8pkBzTyGfh9k\n",
       "tVywYGf8yrYAk4mqhoFh/QO4ebwFUCGoLO9uMPgLVcn85SwDBhNNDQPnTzD1HkRkBEDE/DegxBlz\n",
       "KZTRj4j1frQEAFdjDwl6diCV0ga1UuUrquLjrRBaHh6NyEwUNaxfGBhA8cEgDvR2BJjFcI3tI2rC\n",
       "q4JqbkeItaMnTqgaYFoDxTEDNyh4WcDhxxUATl6IsNkINY7pFyKzwJmoapi6DzCwPoCFHxc43KYC\n",
       "ecjpD55X+L7Cky4fWojA1JzuAQbdAZT0wgt0Kf8HJLXqMAYLSJTnN5yJRU2FAgOTIEr6C+zfysBa\n",
       "/xspBQrBfOb/BZiOePoVYEwGDDUsvwUF9//DSM+oIAGVy6pAWA1e89AAH1EFINg8PuqZBy7/eHYS\n",
       "oXICUeUzJHXzLaZi/QEA6cuYdzQFgGsAAAAASUVORK5CYII=\n",
       "\" style=\"display:inline;vertical-align:middle;\" /></a><br>"
      ],
      "text/plain": [
       "expr: {X => Y , Y => Z}"
      ]
     },
     "execution_count": 2,
     "metadata": {},
     "output_type": "execute_result"
    }
   ],
   "source": [
    "# build up the expression from sub-expressions\n",
    "expr = Set(Implies(X, Y), Implies(Y, Z))"
   ]
  },
  {
   "cell_type": "code",
   "execution_count": 3,
   "metadata": {},
   "outputs": [
    {
     "name": "stdout",
     "output_type": "stream",
     "text": [
      "Passed sanity check: built 'expr' is the same as the stored Expression.\n"
     ]
    }
   ],
   "source": [
    "# check that the built expression is the same as the stored expression\n",
    "%check_expr"
   ]
  },
  {
   "cell_type": "code",
   "execution_count": 4,
   "metadata": {},
   "outputs": [
    {
     "data": {
      "text/html": [
       "<table><tr><th>&nbsp;</th><th>core type</th><th>sub-expressions</th><th>expression</th></tr>\n",
       "<tr><td>0</td><td>Operation</td><td>operator:&nbsp;1<br>operands:&nbsp;2<br></td><td><a class=\"ProveItLink\" href=\"expr.ipynb\"><img src=\"data:image/png;base64,iVBORw0KGgoAAAANSUhEUgAAAJ0AAAAVBAMAAACu6/FQAAAAMFBMVEX///9ERETc3NyqqqpUVFS6\n",
       "urrMzMwyMjIQEBCIiIh2dnYiIiLu7u5mZmaYmJgAAABJJ2g3AAAAAXRSTlMAQObYZgAAAdtJREFU\n",
       "OMtjYGDgu8dAFcC2SgFE8exioBJgawaRnB9A5JP/XQzqP5zRlTB5/3diYLD4PQGFiQ44foi4yG9g\n",
       "YLgO4nA1gMX8DRiYHbDY+R1IMBqgMdFAvAEDz44DDAwrkMzLL2DQRVJyAMbYDwyUpRhMVDVXGRjY\n",
       "mxhQzWP/xHQBSW0NjDF/AQOfAQYTVQ1Qo3wCmnnMf48geyEExjjfwBCJyURVE8DA8pkBzTyGfh9k\n",
       "tVywYGf8yrYAk4mqhoFh/QO4ebwFUCGoLO9uMPgLVcn85SwDBhNNDQPnTzD1HkRkBEDE/DegxBlz\n",
       "KZTRj4j1frQEAFdjDwl6diCV0ga1UuUrquLjrRBaHh6NyEwUNaxfGBhA8cEgDvR2BJjFcI3tI2rC\n",
       "q4JqbkeItaMnTqgaYFoDxTEDNyh4WcDhxxUATl6IsNkINY7pFyKzwJmoapi6DzCwPoCFHxc43KYC\n",
       "ecjpD55X+L7Cky4fWojA1JzuAQbdAZT0wgt0Kf8HJLXqMAYLSJTnN5yJRU2FAgOTIEr6C+zfysBa\n",
       "/xspBQrBfOb/BZiOePoVYEwGDDUsvwUF9//DSM+oIAGVy6pAWA1e89AAH1EFINg8PuqZBy7/eHYS\n",
       "oXICUeUzJHXzLaZi/QEA6cuYdzQFgGsAAAAASUVORK5CYII=\n",
       "\" style=\"display:inline;vertical-align:middle;\" /></a></td></tr>\n",
       "<tr><td>1</td><td>Literal</td><td></td><td><a class=\"ProveItLink\" href=\"../../../packages/proveit/logic/set_theory/enumeration/__pv_it/07381ed5b23806e8d7914b78cb6667769e3708dd0/expr.ipynb\"><img src=\"data:image/png;base64,iVBORw0KGgoAAAANSUhEUgAAAB4AAAAOBAMAAADKyLEKAAAAMFBMVEX///8iIiIQEBCIiIjMzMzc\n",
       "3Nyqqqp2dnZEREQyMjK6urru7u5mZmZUVFSYmJgAAACI6eGPAAAAAXRSTlMAQObYZgAAALRJREFU\n",
       "CNdjYGDgu3Nm3wIGBJjHwN0PZW5yYGDgLWBgyITy8zcwMMQDxZyh/INAvD6BgcEFypcB4vjPDiBm\n",
       "TPFRrhs/LjMwMP//38rAwCbKEMPA9gEkE3fp0waG+AUMRxh4JkC01T9guPTOOICBEWgVH5C//wHD\n",
       "H5D4fqCz9oCMDGD4DLaegRXslLMMDMpAgxlOMmQxHDRgYG5gYLBk4D7KcIe7gOHC2rt9QCXsh40Z\n",
       "GCKMGQDRkC8N/Ph1XAAAAABJRU5ErkJggg==\n",
       "\" style=\"display:inline;vertical-align:middle;\" /></a></td></tr>\n",
       "<tr><td>2</td><td>ExprTuple</td><td>3, 4</td><td><a class=\"ProveItLink\" href=\"../7b62dd29006df95c9c1fc779fb253d130b3650980/expr.ipynb\"><img src=\"data:image/png;base64,iVBORw0KGgoAAAANSUhEUgAAAJYAAAAVBAMAAABWCwqnAAAAMFBMVEX////c3NwiIiJERESqqqqY\n",
       "mJh2dnZmZmYQEBDu7u4yMjJUVFTMzMyIiIi6uroAAAAs73DqAAAAAXRSTlMAQObYZgAAAdpJREFU\n",
       "OMutlL1PAjEYxp+LnPItmwksRBcniUEnB240LjLrIJubOjkRg8aYyOARFxMcdNHIgmJcjAPsDvIX\n",
       "KNHFaIyKHxCJYHvXO649Ehlocr2n7e/aa9/nLdDL4i/3ZBq5Qqpr8sy3thCsX4jj0nmrAExXy5wU\n",
       "i7M+dRULI0lkjraLChxndsz7Q6o+RZBCeVXgGs3ADfi0lW4OMWQZzhgiEgCWbJJn1gD3OtlkAk6t\n",
       "z/0urVi4nCHuEpAVm+QZ8mGsBLhSeNLajtq+9befDXGQwotd8kwFnk/6nsCq3qFeWrl+44j7mt6E\n",
       "XfIMsByn9SKOWJONDAxrpcYoR2MPNikw8P1qrxns6O1imIuNI8+E2o6uKgTaZGb1o35EU18q1OTB\n",
       "LFsjZobLKjnG3wBK1AtsrqT3gzfWMfsw3e5Li+ZjDPETjSWZa1M7x4pmn/ZZjLCppO92EpiSZ6SN\n",
       "DPxxbY+TtH0LLFj9ZeaA3DRtKQunYDC728SelJgjkSQLkWAPvlm4oCE8tNdVNWUH5iQAKap74h54\n",
       "UMfgP61aHDZu7KbYIF5xqQFDwsZ4qtFo5IuqPJyBDulaEq6lLhiaQ3Kii7upmwuM5kGuR3NlyRP6\n",
       "H+vq5i1Qf/TmjvaV8AdDM4khfdgRiQAAAABJRU5ErkJggg==\n",
       "\" style=\"display:inline;vertical-align:middle;\" /></a></td></tr>\n",
       "<tr><td>3</td><td>Operation</td><td>operator:&nbsp;6<br>operands:&nbsp;5<br></td><td><a class=\"ProveItLink\" href=\"../814de01093c32d153fe0a3fa68716272cfff253d0/expr.ipynb\"><img src=\"data:image/png;base64,iVBORw0KGgoAAAANSUhEUgAAAEMAAAAPBAMAAABNfm9XAAAAMFBMVEX///9ERES6uroiIiKIiIju\n",
       "7u5mZmbMzMyqqqoyMjLc3Nx2dnYQEBBUVFSYmJgAAADDc6PYAAAAAXRSTlMAQObYZgAAANpJREFU\n",
       "KM9jYGB4+/80w8o/NxjQANfl/7cYGHo+O4A49xsYOC4wYAD2n0CCsQHMrp/AsAxJKgDGsF/AwLAJ\n",
       "wuT8xZWApGQqjOG/gYEPYggDx7dYZAt0YYz4AwwqMPb5q8hKuB2gDMZP7BtggvuhgmzGYPANKszx\n",
       "Nwyu774Bilc4JsFMh/uTbe0nVO9GHoLQ8nDPpbN/RA2Q2VCpk3DnKYBDAOEWQ6gKrt8wJU4MDO+R\n",
       "wwUe0nww+9mAHuP/gKRkJYzBCxVVPG/EwDT/M1LISMH03v/rwIAdFKDxAbfxOcdbbZgaAAAAAElF\n",
       "TkSuQmCC\n",
       "\" style=\"display:inline;vertical-align:middle;\" /></a></td></tr>\n",
       "<tr><td>4</td><td>Operation</td><td>operator:&nbsp;6<br>operands:&nbsp;7<br></td><td><a class=\"ProveItLink\" href=\"../4ffb002e291c6c914ba3039ffb884547a56832d30/expr.ipynb\"><img src=\"data:image/png;base64,iVBORw0KGgoAAAANSUhEUgAAAEAAAAAPBAMAAACmSdRUAAAAMFBMVEX///9mZmbu7u6YmJi6urp2\n",
       "dnZEREQyMjLMzMyIiIgQEBCqqqoiIiJUVFTc3NwAAAA2WfgnAAAAAXRSTlMAQObYZgAAAOJJREFU\n",
       "GNNjeHv+7wMG7vUnGTDB+mV3r/1hYOgvALKzsciz/GZg0FnEwMDzj4GB1QEhzgRjMAIFqx4wMHB+\n",
       "ZWCwRtLIrgBTwMDA9gOk4xcDywRkky/AGAwM9zeAGPkOrSh2R8JZrJ/B1P5LAlABmTMgcB7GZZgP\n",
       "MZnrL5rzt0OdzP0RQrN9QlPAVAVR4X+BgQNsQgGagvYgMMXxHewTBob3AQwobjiTBOG9OsTA4Axi\n",
       "2DugGrAXatEpYIAUgVj3UeX5oDayr2NgeJYAZMj+v4migO0BhL5/LC3nvwGWOOJA5QIA7nY8/RcK\n",
       "CYkAAAAASUVORK5CYII=\n",
       "\" style=\"display:inline;vertical-align:middle;\" /></a></td></tr>\n",
       "<tr><td>5</td><td>ExprTuple</td><td>8, 9</td><td><a class=\"ProveItLink\" href=\"../c1d4d7faa429fdddbcd48a1ab8ee8bf4d34f0b0e0/expr.ipynb\"><img src=\"data:image/png;base64,iVBORw0KGgoAAAANSUhEUgAAADcAAAAVBAMAAAAQkWtIAAAAMFBMVEX////c3NwiIiJERESqqqqY\n",
       "mJh2dnZmZmYQEBDu7u4yMjJUVFTMzMyIiIi6uroAAAAs73DqAAAAAXRSTlMAQObYZgAAATBJREFU\n",
       "KM9jYMAL+C5gF48DEaeBOPp/G4PUjy0gLuOm/xsZGDw+XWA/AOStBAntd2Bg2QDRwfMLSDA7MDAs\n",
       "YGDgBZt6fgGDOMw8fQEGhjwgHcbAwDEBJMD1kbEAJnk/gYEVqJFhBgPDK7AAy/fZcJfMb2B4ywAx\n",
       "ugwi0r8TLsn8jycBRLMVMCyFiOQjPMTyezqEXsDQBxHZr4DwYT/E3XwNDP/ADHbpfwhJ+wkQP32A\n",
       "StbwfEZIdjHAJFvAdj8A+w4CGL8xwIw1BdH3GBjiQf4Em8cKtYF1AUM6yEag0/k/MDBwfgIJcn+A\n",
       "SAK98oiB4XG/HgPf+k87GTj7gWaz7/8N8RbXAwYOAeToQ+YAg481AYnPihyhubAowyLJCYwyBmkk\n",
       "AeREwQ2yghFHMrnDwAAARIhImm7fX7wAAAAASUVORK5CYII=\n",
       "\" style=\"display:inline;vertical-align:middle;\" /></a></td></tr>\n",
       "<tr><td>6</td><td>Literal</td><td></td><td><a class=\"ProveItLink\" href=\"../../../packages/proveit/logic/boolean/implication/__pv_it/e5c030cabcb650938f92dee8256fe11cd12bf9b30/expr.ipynb\"><img src=\"data:image/png;base64,iVBORw0KGgoAAAANSUhEUgAAABMAAAANBAMAAAC5okgUAAAALVBMVEX////c3NxERETMzMwQEBCq\n",
       "qqoiIiJmZmaIiIh2dnZUVFS6uroyMjLu7u4AAACPpZJTAAAAAXRSTlMAQObYZgAAAD1JREFUCNdj\n",
       "YAABXgY44LkAZ3IvQAjPABFlaSCQV4AQjtkAZ/IegbNt5sLUpunC5aPgLMYDcCaTAJzJDCIA2yMN\n",
       "HCCUuIIAAAAASUVORK5CYII=\n",
       "\" style=\"display:inline;vertical-align:middle;\" /></a></td></tr>\n",
       "<tr><td>7</td><td>ExprTuple</td><td>9, 10</td><td><a class=\"ProveItLink\" href=\"../b2512782b11e6b1dc20931f0e80b5ecbd59cd7550/expr.ipynb\"><img src=\"data:image/png;base64,iVBORw0KGgoAAAANSUhEUgAAADIAAAAVBAMAAAD2uKAMAAAAMFBMVEX////c3NwiIiJERESqqqqY\n",
       "mJh2dnZmZmYQEBDu7u4yMjJUVFTMzMyIiIi6uroAAAAs73DqAAAAAXRSTlMAQObYZgAAASVJREFU\n",
       "KM9jYMAN+C5gEWR9ACROM0jr/xZgYOnXBYtx/LDeba/AUANkrmRgOL8ASJtAVL93YODUmMDAxcDA\n",
       "CzSM6SMDA9sDiEwdAwNXI9C4BAaOCUDZbwwMIVAbChgY7A8wMHA2MLwC8jh/INzxgIH7CwPY8DIQ\n",
       "Zf/gGMJd+QEgMp1hKYjy31kAl+D9C6a8GPrATv2N0OIPUfSC4R+IYv6J8DhQEdAFDOchMhwL4DIg\n",
       "vxWAZVpAXPkEmARj0wQGvgCwaaYgfjzIm5wg1qROoE+BXmSIAroOCPaDiPkKQGKFAAOjMcTVj4Bk\n",
       "9f+9QHIGMIy4Pxkb638Fyaxj4BCAW/4QKRqAocMKt5whAEmG7QI4FrDIzAJiaXiwIEfqRpAPsMU2\n",
       "7wEGAAPvRMD7tKJEAAAAAElFTkSuQmCC\n",
       "\" style=\"display:inline;vertical-align:middle;\" /></a></td></tr>\n",
       "<tr><td>8</td><td>Variable</td><td></td><td><a class=\"ProveItLink\" href=\"../../../packages/proveit/__pv_it/66cd610ba99eba68f315bbcf220cc988223124550/expr.ipynb\"><img src=\"data:image/png;base64,iVBORw0KGgoAAAANSUhEUgAAABIAAAAOBAMAAADQ9FGEAAAAMFBMVEX///9ERES6uroiIiKIiIju\n",
       "7u5mZmbMzMyqqqoyMjLc3Nx2dnYQEBBUVFSYmJgAAADDc6PYAAAAAXRSTlMAQObYZgAAAGRJREFU\n",
       "CNdjYGB4+/80w8o/NxiA4H4DA8cFEIOhfgLDMjCDgfMXVwKExfEtlgEKzl+FsfY7wFj3DaAMtrWf\n",
       "oKx09o8QBrcCg/0CMMuJgeE92Dy2DQwM/B+ADMXzRgxM8z9fZQAAyVAaemEFKr0AAAAASUVORK5C\n",
       "YII=\n",
       "\" style=\"display:inline;vertical-align:middle;\" /></a></td></tr>\n",
       "<tr><td>9</td><td>Variable</td><td></td><td><a class=\"ProveItLink\" href=\"../../../packages/proveit/__pv_it/d787b05c0222bf7633141c210c6c9992f7bcfcbc0/expr.ipynb\"><img src=\"data:image/png;base64,iVBORw0KGgoAAAANSUhEUgAAABAAAAAOBAMAAADUAYG5AAAAMFBMVEX///9mZmbu7u6YmJi6urp2\n",
       "dnZEREQyMjLMzMyIiIgQEBCqqqoiIiJUVFTc3NwAAAA2WfgnAAAAAXRSTlMAQObYZgAAAFlJREFU\n",
       "CNdjeHv+7wMG7vUnGRj6CxgYGLKBmOcfAwOrA5DB+ZWBwRpIMzD9YmCZAGIw5Du0gmmG/ZcEIAyu\n",
       "vxCage0TlMFVAGW8D4Ay7B2gjPtQWvb/TRAFACz0FH9TvjwoAAAAAElFTkSuQmCC\n",
       "\" style=\"display:inline;vertical-align:middle;\" /></a></td></tr>\n",
       "<tr><td>10</td><td>Variable</td><td></td><td><a class=\"ProveItLink\" href=\"../../../packages/proveit/__pv_it/d36dfc8761400c6960a2e78b88a892781372a1a10/expr.ipynb\"><img src=\"data:image/png;base64,iVBORw0KGgoAAAANSUhEUgAAAA4AAAAOBAMAAADtZjDiAAAAMFBMVEX///+IiIiYmJh2dnbMzMzc\n",
       "3NwyMjJmZmbu7u6qqqq6uroiIiJUVFREREQQEBAAAACI0POCAAAAAXRSTlMAQObYZgAAAGZJREFU\n",
       "CNdjYGB4//bM2d8MDFw/GRi6XzAwsC9gYMgLANIMDLxfGIDiDAznJzCAAPMnMMUgLwCmOL9DuOsP\n",
       "MLAAKZZvYD0McTsYGBYxMHDsa2BgyGBgYHvKwBB7AWjG3ru3/yswAABx/Bk2qVjOoAAAAABJRU5E\n",
       "rkJggg==\n",
       "\" style=\"display:inline;vertical-align:middle;\" /></a></td></tr>\n",
       "</table>\n"
      ],
      "text/plain": [
       "0. {X => Y , Y => Z}\n",
       "   core type: Operation\n",
       "   operator: 1\n",
       "   operands: 2\n",
       "1. Set\n",
       "   core type: Literal\n",
       "   sub-expressions: \n",
       "2. (X => Y , Y => Z)\n",
       "   core type: ExprTuple\n",
       "   sub-expressions: 3, 4\n",
       "3. X => Y\n",
       "   core type: Operation\n",
       "   operator: 6\n",
       "   operands: 5\n",
       "4. Y => Z\n",
       "   core type: Operation\n",
       "   operator: 6\n",
       "   operands: 7\n",
       "5. (X , Y)\n",
       "   core type: ExprTuple\n",
       "   sub-expressions: 8, 9\n",
       "6. =>\n",
       "   core type: Literal\n",
       "   sub-expressions: \n",
       "7. (Y , Z)\n",
       "   core type: ExprTuple\n",
       "   sub-expressions: 9, 10\n",
       "8. X\n",
       "   core type: Variable\n",
       "   sub-expressions: \n",
       "9. Y\n",
       "   core type: Variable\n",
       "   sub-expressions: \n",
       "10. Z\n",
       "    core type: Variable\n",
       "    sub-expressions: "
      ]
     },
     "execution_count": 4,
     "metadata": {},
     "output_type": "execute_result"
    }
   ],
   "source": [
    "# display the expression information\n",
    "expr.exprInfo()"
   ]
  },
  {
   "cell_type": "code",
   "execution_count": null,
   "metadata": {},
   "outputs": [],
   "source": []
  }
 ],
 "metadata": {
  "kernelspec": {
   "display_name": "Python 3",
   "language": "python",
   "name": "python3"
  }
 },
 "nbformat": 4,
 "nbformat_minor": 0
}
