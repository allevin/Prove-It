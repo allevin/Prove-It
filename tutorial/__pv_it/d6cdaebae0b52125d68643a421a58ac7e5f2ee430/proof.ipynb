{
 "cells": [
  {
   "cell_type": "markdown",
   "metadata": {},
   "source": [
    "Show the Proof\n",
    "========"
   ]
  },
  {
   "cell_type": "code",
   "execution_count": 1,
   "metadata": {},
   "outputs": [
    {
     "data": {
      "text/html": [
       "<table><tr><th>&nbsp;</th><th>step type</th><th>requirements</th><th>statement</th></tr>\n",
       "<tr><td>0</td><td>assumption</td><td></td><td><span style=\"font-size:20px;\"><a class=\"ProveItLink\" href=\"../5b488bc8d9ae1d2325b2becb6c1e6f4fff45f82a0/expr.ipynb\"><img src=\"data:image/png;base64,iVBORw0KGgoAAAANSUhEUgAAAFMAAAAVBAMAAADInc9CAAAAMFBMVEX///9ERETc3NyqqqpUVFS6\n",
       "urrMzMwyMjIQEBCIiIh2dnYiIiLu7u5mZmaYmJgAAABJJ2g3AAAAAXRSTlMAQObYZgAAAWFJREFU\n",
       "KM9jYGDgu8dACLCtUgBRPLsYCAO2ZhDJ+QFEMq1d5YlNzZT/Li5bgEZeB3G4GkDk8gQGlj3Y1H5n\n",
       "YGBsYmBYAVd6XABItMDleRA2/2JgYP6FrLQaxLp/AKaAHc7i/Ar0918kpbzfQKz1ATAFrA4wFiPQ\n",
       "JyyfkZTqC4CVGsDtXQlj8BcwMJwXgCrlBXLuPwCx5BOAxO3dILD/AlRp/gIGtr1A+j2IkwG0dj/Y\n",
       "bT+QPG4Odcx8r1W3QMHPDtSb0gZTBPIoIgwqIGrlYR4UB1ocAbT2N9jbPUhK09dA6N9QPvcCIMEC\n",
       "dGs9iGcPcirUrbtloMH6F6oU7FauDUBVAZrT2FqRDDVBClYwgAcW154FXIYKCJVMBbBg/YOulCGk\n",
       "arYBQwJcKSNU21n5LxPQlQJlE/gQStkwUg2K0gvh+BIsWCkfRCnL/6/4lILTK89OiJ0dD/DlAkjw\n",
       "8C0mLm8BACIHYt6TcZGmAAAAAElFTkSuQmCC\n",
       "\" style=\"display:inline;vertical-align:middle;\" /></a> <a class=\"ProveItLink\" href=\"proof.ipynb\" style=\"text-decoration: none\">&#x22A2;&nbsp;</a><a class=\"ProveItLink\" href=\"../e68579a87d8af8682261308d85781b9da92225cb0/expr.ipynb\"><img src=\"data:image/png;base64,iVBORw0KGgoAAAANSUhEUgAAAEAAAAASBAMAAAAZAcURAAAAMFBMVEX///+YmJiqqqq6uroQEBBE\n",
       "RETu7u4iIiLMzMwyMjKIiIhUVFRmZmZ2dnbc3NwAAADS0us6AAAAAXRSTlMAQObYZgAAAQRJREFU\n",
       "KM9jYGDgu3N3FwMWsPr/7t3VD4CMmw0M3GXYVPxkYGD1Y2DIDACyveGibHAWx18GBiYgng7inE+A\n",
       "CXPCWVyfGRgY/zDw/ABx7hvAhJk3wFisHxgYuD8xvA8AK1CAm3wLxuCfwMCQH8BwXgDEiW8AEsfL\n",
       "QaD+AFRB/wUGjhoGhnqwnV+QHK8JtW793rtnH0ClQI5F+GMKREU8xLnfwU53Q1LQeY0BIcPAMB9E\n",
       "6IOcAHVDeRg0GP5AaH2DVys4nJEM0EYKBhDgLbvAq/oAIc83ARYM36AM67nLFRga4ApYoYpz4n8v\n",
       "gIs1MCIUcGCJNdYDlgx4Aff/z/gVcLgI4JYEAFUCRya3EUBkAAAAAElFTkSuQmCC\n",
       "\" style=\"display:inline;vertical-align:middle;\" /></a></span></td></tr>\n",
       "</table>"
      ],
      "text/plain": [
       "<proveit._core_.proof._ShowProof at 0x7f94ebe1aac8>"
      ]
     },
     "execution_count": 1,
     "metadata": {},
     "output_type": "execute_result"
    }
   ],
   "source": [
    "import proveit\n",
    "%show_proof"
   ]
  },
  {
   "cell_type": "code",
   "execution_count": null,
   "metadata": {},
   "outputs": [],
   "source": []
  }
 ],
 "metadata": {
  "kernelspec": {
   "display_name": "Python 3",
   "language": "python",
   "name": "python3"
  }
 },
 "nbformat": 4,
 "nbformat_minor": 0
}
