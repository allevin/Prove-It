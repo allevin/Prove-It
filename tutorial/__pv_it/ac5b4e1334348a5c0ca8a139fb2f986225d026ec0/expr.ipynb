{
 "cells": [
  {
   "cell_type": "markdown",
   "metadata": {},
   "source": [
    "Expression of type <a class=\"ProveItLink\" href=\"../../../doc/html/api/proveit.logic.Implies.html\">Implies</a>\n",
    "=======================\n",
    "# from context <a class=\"ProveItLink\" href=\"../../_context_.ipynb\">tutorial</a>"
   ]
  },
  {
   "cell_type": "code",
   "execution_count": 1,
   "metadata": {},
   "outputs": [],
   "source": [
    "# import Expression classes needed to build the expression\n",
    "from proveit._common_ import B, C\n",
    "from proveit.logic import Implies"
   ]
  },
  {
   "cell_type": "code",
   "execution_count": 2,
   "metadata": {},
   "outputs": [
    {
     "data": {
      "text/html": [
       "<strong id=\"expr\">expr:</strong> <a class=\"ProveItLink\" href=\"expr.ipynb\"><img src=\"data:image/png;base64,iVBORw0KGgoAAAANSUhEUgAAAQMAAAAVBAMAAACwB5bKAAAAMFBMVEX///+qqqru7u4iIiJ2dnbc\n",
       "3NyIiIjMzMxmZmYQEBC6uroyMjJERERUVFSYmJgAAADLUcuvAAAAAXRSTlMAQObYZgAAAvdJREFU\n",
       "SMfNlk9oE0EUxr+mSXazadLcPBRhQVBKL2JPgtriodSTOUmhiDlVD0JzFSmJVGkLYmPBi0oVBGkR\n",
       "IVQvrVpU8CCi5qIUaugePCnSVqxIJa3zZma7k53N7tUH72X//L7ZmXlvZgL81/aQuVWIAMIte194\n",
       "S/vG44/dev1dAGbUWBiLALJrjfqXpaDGD76fdIYwwa4mAj8eu7hyI1E2i/zmLmBu60zaZmEhCki9\n",
       "BKYD+hefBeZmkSYusAunHFhTDqp8ML+ZN7zeuRcjzJMFHbBVACVGlGqaOPaEYfEtZPvBXRP3HGHh\n",
       "dB5f6Sa5xahfzWMjm6Ex2jqwAAXAaB5Y79fEaXppVRCrgLsmXiRyHuimmw5GtM/sQZYckkVT9CgA\n",
       "eAwFwFvmR22/GNM5FhJl4BWE+8TmJsUh1jiBnTUkntseNSAhGtpV6EC8oABgCRp+rYkTf3k2WK0N\n",
       "QrhPfI73/xB7UKZsfh4Zd/jz8V6yvrKYSnq2DBUw+fveP/AAozFy4YQuNnfcb3ZJ94mnHfm+rSqy\n",
       "GTuu1moXL/AUxdsIANrEIuQA1cmBmiZu33Lv56X7xH15N3UVmc1RR12xi9RMJ4VtBAE9vGccoDpJ\n",
       "7ujiDXd9lKT7xLvu+jA2RDaVmmZ2+SSauuAHjKf2HtBZa1otrjjFu7AvoAtSfI/PSFF0waAxrOW8\n",
       "dPaK6krRo5tQAZnOY7YHlNjsZDY1ceYnxbKaiGbxGv2YMhGUTVHA0vaLnw6a+g/QgbaaAtC2IKq7\n",
       "SUy7GeL0me/SfWLa0UATlq2KbF5a8KCEbJCvlkHowDAUgNWJccfWxFjPwboGaIvSFWfZzM3lRSvm\n",
       "x0Z9dVmZhA5Zq9ZhFh5AB97AA66zE+yZo4thrK5c4RdL0n1ijL2Y5MlPB51/7sUtyndeB4oq0Eq8\n",
       "t0B8G3TRD3SHnfV0gKgnTCAQZbQbxsP+cwyEqb3DOgyIsB7prSxWDVMnqHjPRgER9kl6K8vkQ+Vn\n",
       "6DOFCCDckkXhLe088A9clPH/SJ8mxgAAAABJRU5ErkJggg==\n",
       "\" style=\"display:inline;vertical-align:middle;\" /></a><br>"
      ],
      "text/plain": [
       "expr: B => ((B => (B => C)) => C)"
      ]
     },
     "execution_count": 2,
     "metadata": {},
     "output_type": "execute_result"
    }
   ],
   "source": [
    "# build up the expression from sub-expressions\n",
    "expr = Implies(B, Implies(Implies(B, Implies(B, C)), C))"
   ]
  },
  {
   "cell_type": "code",
   "execution_count": 3,
   "metadata": {},
   "outputs": [
    {
     "name": "stdout",
     "output_type": "stream",
     "text": [
      "Passed sanity check: built 'expr' is the same as the stored Expression.\n"
     ]
    }
   ],
   "source": [
    "# check that the built expression is the same as the stored expression\n",
    "%check_expr"
   ]
  },
  {
   "cell_type": "code",
   "execution_count": 4,
   "metadata": {},
   "outputs": [
    {
     "data": {
      "text/html": [
       "<table><tr><th>&nbsp;</th><th>core type</th><th>sub-expressions</th><th>expression</th></tr>\n",
       "<tr><td>0</td><td>Operation</td><td>operator:&nbsp;7<br>operands:&nbsp;1<br></td><td><a class=\"ProveItLink\" href=\"expr.ipynb\"><img src=\"data:image/png;base64,iVBORw0KGgoAAAANSUhEUgAAAQMAAAAVBAMAAACwB5bKAAAAMFBMVEX///+qqqru7u4iIiJ2dnbc\n",
       "3NyIiIjMzMxmZmYQEBC6uroyMjJERERUVFSYmJgAAADLUcuvAAAAAXRSTlMAQObYZgAAAvdJREFU\n",
       "SMfNlk9oE0EUxr+mSXazadLcPBRhQVBKL2JPgtriodSTOUmhiDlVD0JzFSmJVGkLYmPBi0oVBGkR\n",
       "IVQvrVpU8CCi5qIUaugePCnSVqxIJa3zZma7k53N7tUH72X//L7ZmXlvZgL81/aQuVWIAMIte194\n",
       "S/vG44/dev1dAGbUWBiLALJrjfqXpaDGD76fdIYwwa4mAj8eu7hyI1E2i/zmLmBu60zaZmEhCki9\n",
       "BKYD+hefBeZmkSYusAunHFhTDqp8ML+ZN7zeuRcjzJMFHbBVACVGlGqaOPaEYfEtZPvBXRP3HGHh\n",
       "dB5f6Sa5xahfzWMjm6Ex2jqwAAXAaB5Y79fEaXppVRCrgLsmXiRyHuimmw5GtM/sQZYckkVT9CgA\n",
       "eAwFwFvmR22/GNM5FhJl4BWE+8TmJsUh1jiBnTUkntseNSAhGtpV6EC8oABgCRp+rYkTf3k2WK0N\n",
       "QrhPfI73/xB7UKZsfh4Zd/jz8V6yvrKYSnq2DBUw+fveP/AAozFy4YQuNnfcb3ZJ94mnHfm+rSqy\n",
       "GTuu1moXL/AUxdsIANrEIuQA1cmBmiZu33Lv56X7xH15N3UVmc1RR12xi9RMJ4VtBAE9vGccoDpJ\n",
       "7ujiDXd9lKT7xLvu+jA2RDaVmmZ2+SSauuAHjKf2HtBZa1otrjjFu7AvoAtSfI/PSFF0waAxrOW8\n",
       "dPaK6krRo5tQAZnOY7YHlNjsZDY1ceYnxbKaiGbxGv2YMhGUTVHA0vaLnw6a+g/QgbaaAtC2IKq7\n",
       "SUy7GeL0me/SfWLa0UATlq2KbF5a8KCEbJCvlkHowDAUgNWJccfWxFjPwboGaIvSFWfZzM3lRSvm\n",
       "x0Z9dVmZhA5Zq9ZhFh5AB97AA66zE+yZo4thrK5c4RdL0n1ijL2Y5MlPB51/7sUtyndeB4oq0Eq8\n",
       "t0B8G3TRD3SHnfV0gKgnTCAQZbQbxsP+cwyEqb3DOgyIsB7prSxWDVMnqHjPRgER9kl6K8vkQ+Vn\n",
       "6DOFCCDckkXhLe088A9clPH/SJ8mxgAAAABJRU5ErkJggg==\n",
       "\" style=\"display:inline;vertical-align:middle;\" /></a></td></tr>\n",
       "<tr><td>1</td><td>ExprTuple</td><td>9, 2</td><td><a class=\"ProveItLink\" href=\"../c480cb6531198a78bb1b91aad35b836af88ccb580/expr.ipynb\"><img src=\"data:image/png;base64,iVBORw0KGgoAAAANSUhEUgAAAOkAAAAVBAMAAABRSdSyAAAAMFBMVEX////c3NwiIiJERESqqqqY\n",
       "mJh2dnZmZmYQEBDu7u4yMjJUVFTMzMyIiIi6uroAAAAs73DqAAAAAXRSTlMAQObYZgAAAupJREFU\n",
       "SMfFVk1oU0EQntf8Ny8v71ZokUpEUDxUD4I/B3NWDzn1Ilhv2kMx1p96S0U91IMGT6UoBkVpFCTg\n",
       "odAg7VHsIYIHL4ZGLxVFaKFVNJh2Zmf3ZbPvmXhzYPbtft/O/s3M7gP4P+K86wXo8r33gGelduNh\n",
       "BfXMdrV6rCFRH6CJXQGILDWrr14Gjffw+FRuAGLLINQvifcLV6284MrUvokdW5LzAZr0F7GIHwQo\n",
       "BCwpehtgDbUErD65kAPneo64FJ2n/Qe1yZQPoEWqSp2KGvaoVTyyqDo9xlp0A2AUWE3juf1YXHSJ\n",
       "i5NRCvtGfjDnA9QWSWaoWHUBxs55ZFl1ItKZBpgFVtN4nipfBPeV2iHs2zfDnA+gseTOHHFwR1D3\n",
       "FT3ym/wWslhYeTTOshrGsU0qBwR3jarpClhP5Dg+gGRCGood4skPHtXcyTFv/RbHiaESzbMaxsNi\n",
       "yQ8E91R46nV9Mif7GMBkhmSEB+knzG7WP+zlRQgu85MbW2qWcInVMC7k2vxd6anEAYn5ACEnRczG\n",
       "G9Ln9ysaFxZp1LfhHek0q2E84rb5lvLUqlyKD+BAnCfLdEP6PLWlL2mOVppeVwFrr7Maxtsq4pFr\n",
       "SU95UekDhLwdBzVrutIR3zjKM5HFYp7TQbOy8T1xLsuCu0XdaOVLMuoMgF2T4eiJE1TDM0huan7d\n",
       "I8Iu+YvKfMcJdxgvUbcY84elpygERT7rgCen+BPKyXQd1u6eMPuYLhaI0siREqthTJcLjDN/Xnrq\n",
       "DSb7o93Y0AEllhxD5AP63L6jZdWg/I5lwbmkemmZo4wjeD5rLvOfcdcnmtVFSphZCkMdUBKS4efg\n",
       "si7jw/BcD7RDyr2LC1c4vxqshjGsvJjKSj7uagN8It+5AU+NqtwIuNN9z4txI9oBfESPVNpCB2DK\n",
       "6L+82BPt++ivfNmYtQMIfOl6SKLE2o2HoXY7JcqhLiNald6zJl3WbjxY5g+L1e0PZlfvWT9K7cLv\n",
       "AAOI7HCd6s9LAAAAAElFTkSuQmCC\n",
       "\" style=\"display:inline;vertical-align:middle;\" /></a></td></tr>\n",
       "<tr><td>2</td><td>Operation</td><td>operator:&nbsp;7<br>operands:&nbsp;3<br></td><td><a class=\"ProveItLink\" href=\"../e54a69c451102198187411d6d5ac4225b0d3dd350/expr.ipynb\"><img src=\"data:image/png;base64,iVBORw0KGgoAAAANSUhEUgAAAMEAAAAVBAMAAAANw5eWAAAAMFBMVEX////c3NwiIiJERESqqqqY\n",
       "mJh2dnZmZmYQEBDu7u4yMjJUVFTMzMyIiIi6uroAAAAs73DqAAAAAXRSTlMAQObYZgAAApxJREFU\n",
       "SMe1VU1oU0EQnjT/yctLboWKVCKC4qF6EPw5mLN6eKdeBNubeijG+lNvraiHetDgSYpCUCqNgjzw\n",
       "UGiQeBR7iODBi6HBS0URWmgVDabO7OzmbTYvL14c+PbnzczO7sy3+wD+v9jvA5TfB/ufk+gvq4iz\n",
       "O9Xq8WavznIBorVW9dVLP8/HJ2acYYi/AYFeSX5YvhYqAlRocgut2r02qRI2iUMAsz7hY3cA1hFl\n",
       "YPTIBQfsGw5kKEnWH0TLC64GDWrqaFF3O8qSMnqCo9gmwDgwTOeFA9hcykGCPDJoGP3RvXWSeWrW\n",
       "cgATkx1lRRmR0p4DeAgM03mJBl8AvtIkjIZD817x5Y5tcfijiP2ljvKb7GcL2FCawwWG4RzfonYY\n",
       "4Dr1WRdCT71FYEoaiZ1j9kaOaeln7oV+i5RgiWNFhuE8Krb3CGBRpPp1Y9oR36fzJGPskKJvVqvx\n",
       "cR8HFLr8T55sqxUjZYbhPOtI/T2Z6uRBnQanBHcSTVmjB66miwjqDm120jLHMJzHcnLaVqlec3Qq\n",
       "L5FVtilrlNnWwy/QrrIbijjWBsNw3lHMa8tU63QBeHcRVISs28UzXO2ZuCVizTN+Edj5vjgv1uk2\n",
       "2dAWawUvlXmubII+1fFs6S2tDnsFJdK/qC12ZanLuUZmccQRmWrmhpTT3IUdeR1GtTsb4ZrQJYUY\n",
       "rRItMwxnuqhApzkvU/224tmEpL3gINbIuqsxeUT2EwWwLysrja3KOYrnXqdqf8ajnGxVVxa1I4Ql\n",
       "Dew9AFfwUXyuk+CwKsfK8lXmdJNhOMPqixmR+ETO50lVg5s+71nPM2q8Gpapj04GvOzj//KDmfLu\n",
       "sb9UAnSp0uAAyTKjv+wK0IXcwRHSOUbAKkF/0d2DI3yS6Cd/AdK3syZJznv4AAAAAElFTkSuQmCC\n",
       "\" style=\"display:inline;vertical-align:middle;\" /></a></td></tr>\n",
       "<tr><td>3</td><td>ExprTuple</td><td>4, 10</td><td><a class=\"ProveItLink\" href=\"../25102642145127e34e4c9f16e879b27febbb85c40/expr.ipynb\"><img src=\"data:image/png;base64,iVBORw0KGgoAAAANSUhEUgAAAKwAAAAVBAMAAAAp2hhWAAAAMFBMVEX////c3NwiIiJERESqqqqY\n",
       "mJh2dnZmZmYQEBDu7u4yMjJUVFTMzMyIiIi6uroAAAAs73DqAAAAAXRSTlMAQObYZgAAAnBJREFU\n",
       "OMu1VU1oE0EYfWlNdjfdbPZWqIiiCIoHFRT8OZizeNiTBz20t+rJ+FsPQlq0h3qwi8egIErFKMiK\n",
       "h0KDJEehhxQ8eAoNXloUwUiraLB1vtmZ3c3OsvHiwn58+958LzNvvpkA/+mxVlLIrwPLs51kaJm9\n",
       "F7fr9VMqD9Njgxq9+tvXSYqPT085o7gTQYwPizczZQ7V6PsuoG2phXmXBf0IUEn4zdwssDaLfAS6\n",
       "5MC67RBUIA/MP+ztBawrkzaFFhvR8hTSeMqyXBfZiYCqHmThik2QTsMKXbbYHwFdk8kchVUbGJ9Q\n",
       "yDyR1jSM6YB6QVrrIOgzfQ8zamguoL/I3XxC8QR7D7gKWSmxwIzEMcloGxRHQdAtSoseMs/Cypxo\n",
       "Do3PkZkzdhJxMvObO9EEJiWzm8/iEQha4Pa9a19zuNBe/vwU6yTM7LU/7odCaptS7axMKk4IPRD2\n",
       "GYciO7rDbyi9I3x/6CnkUFd+r8vksB1CW9K+VSdSWuW/VuwI3wubiJPFb9wEWqrEt4NOafmy1FuR\n",
       "zYb53A1ki15fl0hS57LnorLzfC1NDt2jgTSZRim0b5+/fTpBLbaKkQ3EyZFfFMtRExpEaL4Jx4V9\n",
       "/s4K94SVw45oW3+P+0g6QciR0IVg6dQjl8GhSWHf+1pYOSZ7qez7bt53VXK8BOsq4DeY8Z2uGLam\n",
       "NduHPrF5n+nVlxYi7h2Vx2EPcJ3dQi+dBNJcWrzBE2oMY57kll9NlQSk2+ol0pTJDFJIeTfww2vZ\n",
       "/VDkplCf8/9wX/unLhuHaikleXewbBWKLEE7U0oy3mDZNzyuxKFM2p/OroGqhWYS9Bfxfa0MBHPL\n",
       "MQAAAABJRU5ErkJggg==\n",
       "\" style=\"display:inline;vertical-align:middle;\" /></a></td></tr>\n",
       "<tr><td>4</td><td>Operation</td><td>operator:&nbsp;7<br>operands:&nbsp;5<br></td><td><a class=\"ProveItLink\" href=\"../8f6e84028742830a8742e4150721415f49dd37930/expr.ipynb\"><img src=\"data:image/png;base64,iVBORw0KGgoAAAANSUhEUgAAAIEAAAAVBAMAAACTeZA2AAAAMFBMVEX///+qqqru7u4iIiJ2dnbc\n",
       "3NyIiIjMzMxmZmYQEBC6uroyMjJERERUVFSYmJgAAADLUcuvAAAAAXRSTlMAQObYZgAAAa9JREFU\n",
       "OMtjYKAlWEZYySsw+fb/3bunF2DKsl/AI8nAlHOjj7WBowDMmcPAwPELUw23Ah5JBs8HDFydDxg2\n",
       "gO36BsR/EYbDGGlYJBVgDG0jIOEfwPAExGH7ysDA9wXNaiCYhEVyE4yxE6RqJQODJojDM4GBgXkS\n",
       "XBHXBSi9AYvkWijN8RFERgDlBYA0/wUG1j0KCB+6QRU5MGBKsiRA6Hiw8epAgQYgXX8trfkBWLzZ\n",
       "GATsGyC+AYvBJTnAcsY/ICb0P4AayQgyKj+AgckWOZilwbHHCSbRJRl3gSn7AJifgb5kOAlS+AA5\n",
       "qneCNPODTcCQ1J4FIv/DYob9A5AGxdV7ByRF1U4McBPQJdm3gANlPtg9BRAT2P8BOfcFEOFgfAis\n",
       "lhMkhJCEhoMNJFTvgygOqC9AMc76G8kJshCK5wEDpiQjNKrrQXECcirfBkiMV25CKGLdAI24BgZM\n",
       "yWgozQdMDysCIKo4zv+9e3sfkhN4oMHMZcCAKXkUxqjd2wH2ODe2LAljTMWSnwrQBTTx5f0nxJQh\n",
       "bvgkuRUIG8C0AZ8s6wXCJvAG4JUOI2xCOgMDAIZXfxPVXzUuAAAAAElFTkSuQmCC\n",
       "\" style=\"display:inline;vertical-align:middle;\" /></a></td></tr>\n",
       "<tr><td>5</td><td>ExprTuple</td><td>9, 6</td><td><a class=\"ProveItLink\" href=\"../e7d17b18e0c3b46bab853fe1f1d8a7c7d130d6960/expr.ipynb\"><img src=\"data:image/png;base64,iVBORw0KGgoAAAANSUhEUgAAAGcAAAAVBAMAAACphe0AAAAAMFBMVEX////c3NwiIiJERESqqqqY\n",
       "mJh2dnZmZmYQEBDu7u4yMjJUVFTMzMyIiIi6uroAAAAs73DqAAAAAXRSTlMAQObYZgAAAZxJREFU\n",
       "OMudUz1IQzEQ/p71+dra1rc5OCjdxKGToC521qWTi6Bu6lAsBX82C7q4aMcigg9EqLh0EyzSjmIH\n",
       "BVfF6qI4WVAHi9a7vMS+iEPrQS735e6Sy3cJ8C+JXLUXP8OqQmO6USyOVeWqBrwSuD5ZNlJWmcwj\n",
       "xhuA9aWcGvDIQgKRtQQcIMzVhT5p1KVPA7S/MnYHSS3ZmAL8WTLDNcB8l04NAMGsNPJsPAE54Jmx\n",
       "LwN0bEmnBoiogjtbr6x7yR/HCps9BRgHakcNkCTdqd9hvQd0pXDI5uXZbTqhgpogHWWJpQRYVwGd\n",
       "DrZ5vrMRGFJJGmCZEPzHbFVvBoLbEY5VO2lA8JfnrIawqezQi5vEBM/OyRgNsFwsst4RpZVF0iZ3\n",
       "5o1UKS7b1ATunaKjYr3E3FhuecOyM8aH7KMCPzIp+eFXwGeaDuZlZ87pOe0PeIASw3Fnk/r0yGQQ\n",
       "5Q905ni9eMrU52oeoMSnWKscr4qig1X4bU/A/R/PNPR7gZ6R6eUp0cqHSqqv0UZSgO/Y18ThVg7q\n",
       "5vsYbX73G+AbX7Z1uHJna5sAAAAASUVORK5CYII=\n",
       "\" style=\"display:inline;vertical-align:middle;\" /></a></td></tr>\n",
       "<tr><td>6</td><td>Operation</td><td>operator:&nbsp;7<br>operands:&nbsp;8<br></td><td><a class=\"ProveItLink\" href=\"../42830de3d5d651692ced1272b0fa0a601667b4020/expr.ipynb\"><img src=\"data:image/png;base64,iVBORw0KGgoAAAANSUhEUgAAAEEAAAAPBAMAAABJi79qAAAAMFBMVEX///+qqqru7u4iIiJ2dnbc\n",
       "3NyIiIjMzMxmZmYQEBC6uroyMjJERERUVFSYmJgAAADLUcuvAAAAAXRSTlMAQObYZgAAAPhJREFU\n",
       "GNNjYGB4+//u3dMLGDABU86NPtYGEGsOAwPHLywqPB8wcHU+ADLYvwHxX4ROGEPbCEj4BwAJtq8M\n",
       "DHxf4Cq4FaCMnSDGShCLZwIDA/MkuAquCxCa4yOIjAAR/BcYWPcoIKx3g1DxG0CkOoiov5bW/AAs\n",
       "2GwMAvZg5zP0P4DryQ9gYLJF9oM02Ov2AXCBkyBVD5DDYSdIyX8wG2w7yKPvHZBUVDuByPkggrEA\n",
       "FBz/gMR9AYQ7jA+B1d0HaedggAYH628kI2QhVH0CkHCCBUflJoQC1g0Qmg8YHitAruU4//fu7X1I\n",
       "RvDA/FC7t0OAARtgR+MDAAhbPiSyASIoAAAAAElFTkSuQmCC\n",
       "\" style=\"display:inline;vertical-align:middle;\" /></a></td></tr>\n",
       "<tr><td>7</td><td>Literal</td><td></td><td><a class=\"ProveItLink\" href=\"../../../packages/proveit/logic/boolean/implication/__pv_it/e5c030cabcb650938f92dee8256fe11cd12bf9b30/expr.ipynb\"><img src=\"data:image/png;base64,iVBORw0KGgoAAAANSUhEUgAAABMAAAANBAMAAAC5okgUAAAALVBMVEX////c3NxERETMzMwQEBCq\n",
       "qqoiIiJmZmaIiIh2dnZUVFS6uroyMjLu7u4AAACPpZJTAAAAAXRSTlMAQObYZgAAAD1JREFUCNdj\n",
       "YAABXgY44LkAZ3IvQAjPABFlaSCQV4AQjtkAZ/IegbNt5sLUpunC5aPgLMYDcCaTAJzJDCIA2yMN\n",
       "HCCUuIIAAAAASUVORK5CYII=\n",
       "\" style=\"display:inline;vertical-align:middle;\" /></a></td></tr>\n",
       "<tr><td>8</td><td>ExprTuple</td><td>9, 10</td><td><a class=\"ProveItLink\" href=\"../dad23c4ce051fb8a92f116e8b4d54eeb5e4476f70/expr.ipynb\"><img src=\"data:image/png;base64,iVBORw0KGgoAAAANSUhEUgAAADcAAAAVBAMAAAAQkWtIAAAAMFBMVEX////c3NwiIiJERESqqqqY\n",
       "mJh2dnZmZmYQEBDu7u4yMjJUVFTMzMyIiIi6uroAAAAs73DqAAAAAXRSTlMAQObYZgAAAUFJREFU\n",
       "KM9jYMAL+C5gF48DEaeBmHX/792b18GEOS9vL2UsYD8AZK4E8TkMGBjqH0AlMwIY+CoCGBYwMPCC\n",
       "TT0PJM9vgMjN0gQS+QIMYUA9E0AC9wUYGOITIJIrQCIvGBhmMDC8AgtYALEGWBkD+xcQKc7AwOzA\n",
       "UAYW+c3AIGUJ0Si/AETOYWBgK2BYCmLy/L57XRXqnPoAKINlAUMfiOb9yMAwCeoefQFYADQw/APR\n",
       "zA1ABV8hYv/BJNB+ng8QSX6gLtZvEMl+sJEHwJItYG8C7eH+ApHcD3I0O8RYU5g3ga7khIUHQyYo\n",
       "TBcwpEO9ydM1gWG+AkgMaMJzkKOAXnkEpIr/7969CmjyjI/gmFhd7gCiuR4wcAggRdND5DgDBh9r\n",
       "AhI/AFkyFxZlWCQ5QcEojeDzImvkBtnHiCOZ3GFgAADrEU9ADAe1sgAAAABJRU5ErkJggg==\n",
       "\" style=\"display:inline;vertical-align:middle;\" /></a></td></tr>\n",
       "<tr><td>9</td><td>Variable</td><td></td><td><a class=\"ProveItLink\" href=\"../../../packages/proveit/__pv_it/077b2ff79244fb4582cbe22c6e3356fa92a52f2f0/expr.ipynb\"><img src=\"data:image/png;base64,iVBORw0KGgoAAAANSUhEUgAAABAAAAAOBAMAAADUAYG5AAAAMFBMVEX///+qqqru7u4iIiJ2dnbc\n",
       "3NyIiIjMzMxmZmYQEBC6uroyMjJERERUVFSYmJgAAADLUcuvAAAAAXRSTlMAQObYZgAAAGpJREFU\n",
       "CNdjYGB4+//u3dMLGIBgDgMDxy8gzf4NiP8CGWxfGRj4vgAZPBMYGJgnARn8FxhY9ygAGfXX0pof\n",
       "gDTlBzAw2YIYJ0EckBBI53sHoBH/gIz7AhBjWH9DjancBLTl/N+7t/cxMAAA3u4f/5xagjYAAAAA\n",
       "SUVORK5CYII=\n",
       "\" style=\"display:inline;vertical-align:middle;\" /></a></td></tr>\n",
       "<tr><td>10</td><td>Variable</td><td></td><td><a class=\"ProveItLink\" href=\"../../../packages/proveit/__pv_it/985a1bdf1540838275dec15f4ad6de261cca93ce0/expr.ipynb\"><img src=\"data:image/png;base64,iVBORw0KGgoAAAANSUhEUgAAAA8AAAAOBAMAAAACpFvcAAAAMFBMVEX////MzMyqqqoiIiIyMjK6\n",
       "uroQEBB2dnbc3NyYmJhmZmZUVFRERESIiIju7u4AAAB204erAAAAAXRSTlMAQObYZgAAAGZJREFU\n",
       "CNdjYGDgu7NrJccCBgaGsgkMrMsmMDA8sQNy6hsYGNweABlhDAxcn4A0QxcDQ78DiPGQgWH9BAYI\n",
       "sG+AMv6DSaCGfBDNJMDAsB+kmwuI5S8AiTog5gSaEwXWIO29SgFIAQBC+RaDQlidVgAAAABJRU5E\n",
       "rkJggg==\n",
       "\" style=\"display:inline;vertical-align:middle;\" /></a></td></tr>\n",
       "</table>\n"
      ],
      "text/plain": [
       "0. B => ((B => (B => C)) => C)\n",
       "   core type: Operation\n",
       "   operator: 7\n",
       "   operands: 1\n",
       "1. (B , (B => (B => C)) => C)\n",
       "   core type: ExprTuple\n",
       "   sub-expressions: 9, 2\n",
       "2. (B => (B => C)) => C\n",
       "   core type: Operation\n",
       "   operator: 7\n",
       "   operands: 3\n",
       "3. (B => (B => C) , C)\n",
       "   core type: ExprTuple\n",
       "   sub-expressions: 4, 10\n",
       "4. B => (B => C)\n",
       "   core type: Operation\n",
       "   operator: 7\n",
       "   operands: 5\n",
       "5. (B , B => C)\n",
       "   core type: ExprTuple\n",
       "   sub-expressions: 9, 6\n",
       "6. B => C\n",
       "   core type: Operation\n",
       "   operator: 7\n",
       "   operands: 8\n",
       "7. =>\n",
       "   core type: Literal\n",
       "   sub-expressions: \n",
       "8. (B , C)\n",
       "   core type: ExprTuple\n",
       "   sub-expressions: 9, 10\n",
       "9. B\n",
       "   core type: Variable\n",
       "   sub-expressions: \n",
       "10. C\n",
       "    core type: Variable\n",
       "    sub-expressions: "
      ]
     },
     "execution_count": 4,
     "metadata": {},
     "output_type": "execute_result"
    }
   ],
   "source": [
    "# display the expression information\n",
    "expr.exprInfo()"
   ]
  },
  {
   "cell_type": "code",
   "execution_count": null,
   "metadata": {},
   "outputs": [],
   "source": []
  }
 ],
 "metadata": {
  "kernelspec": {
   "display_name": "Python 3",
   "language": "python",
   "name": "python3"
  }
 },
 "nbformat": 4,
 "nbformat_minor": 0
}
