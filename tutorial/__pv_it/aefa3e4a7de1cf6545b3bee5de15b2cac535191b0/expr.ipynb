{
 "cells": [
  {
   "cell_type": "markdown",
   "metadata": {},
   "source": [
    "Expression of type <a class=\"ProveItLink\" href=\"../../../doc/html/api/proveit.ExprTuple.html\">ExprTuple</a>\n",
    "=======================\n",
    "# from context <a class=\"ProveItLink\" href=\"../../_context_.ipynb\">tutorial</a>"
   ]
  },
  {
   "cell_type": "code",
   "execution_count": 1,
   "metadata": {},
   "outputs": [],
   "source": [
    "# import Expression classes needed to build the expression\n",
    "from proveit import ExprTuple\n",
    "from proveit._common_ import A, B, C\n",
    "from proveit.logic import Implies"
   ]
  },
  {
   "cell_type": "code",
   "execution_count": 2,
   "metadata": {},
   "outputs": [
    {
     "data": {
      "text/html": [
       "<strong id=\"expr\">expr:</strong> <a class=\"ProveItLink\" href=\"expr.ipynb\"><img src=\"data:image/png;base64,iVBORw0KGgoAAAANSUhEUgAAAOYAAAAVBAMAAACgQo8/AAAAMFBMVEX////c3NwiIiJERESqqqqY\n",
       "mJh2dnZmZmYQEBDu7u4yMjJUVFTMzMyIiIi6uroAAAAs73DqAAAAAXRSTlMAQObYZgAAAtBJREFU\n",
       "SMfFVk1oE1EQnm3cbDY2m4BCwSKVeBIPUbBQ9dCcq2BOHvRQb9qDWIu2HgqJ2B56SXOU4k9UIg1C\n",
       "jadCgyR4EntowHNp9dKiCBb8oS1aZ96bZF+S3RdvfTDz3rxvd+Zl5pu3AdiP4dT0dtP41tGduS5F\n",
       "h8MyrR6fn0j1yE2yr+6Vy+c8XuwuobI/Lt41Rj0dvkOZZNHhRZTgNMDGtNwnGx4AWH/b3wnnUN1I\n",
       "gXMv5enzNT3DosEjmEr7OfoKboltsqH7D8pu41G7vlhFmTuB6lasAeaUvCXQMK9J0eAhnMIzVMeM\n",
       "2CcbIhjf/NX882jQc/NkbLqOiu7ycBqPYmekaPAvuE4nUXGJyIYAvtM149KqxHMeU/6DVj2uo6/u\n",
       "srZGHDjD4o+PY7QdkcCq2B8nFS2B8UJJyk05WZiyvjytHrlYsMFzJ3eJynydxR8voKufSpkLpFbe\n",
       "ro5JlozFaSRkDsK4l3bZYwks/rtuP4EV8j/E4o9nMYtbSswsqbUY2CdVwg2JxgmhTsRayXhggRfr\n",
       "0DfKtd7U4tgR0e8KOUWHDFBctR3seQoaRbXXSkZkclY2b7lcOUVJYvHHMUZIxLyoxKQ2GVb4Dh9G\n",
       "gGPOiqNX1YvipTyBg57yHjHb8SmAg9u0xTfLFD1FBa4k3XrGz8o+wq0KObDUeh7nH41gV0bNrS/e\n",
       "L28ACOZkdvu5PSWZeVyQUwDTLWgwopaLG8lAn2HK2BUWf5xYPZwE5zbA02PMcmrP90ovG3mmPebC\n",
       "xP7cUHl0pF41enG7vVc88M+Uy6XFOzg9JP6ibQ3ulpcKitsAx3DoUMuvJpIqQ07L6dDsMzAHd/BU\n",
       "RNMFLR5SzvyJahbz+JzUF/c97u1qi91693ng6nVM3aHabePyf3yP6d4J1vR4sTmmant/yzqMORYd\n",
       "3tuwIkL3ap43Sp1jvmHR4UZLHgzdf5OjHUNGqlI0+D99yNnEZHPQAgAAAABJRU5ErkJggg==\n",
       "\" style=\"display:inline;vertical-align:middle;\" /></a><br>"
      ],
      "text/plain": [
       "expr: (C , (B => (C => A)) => A)"
      ]
     },
     "execution_count": 2,
     "metadata": {},
     "output_type": "execute_result"
    }
   ],
   "source": [
    "# build up the expression from sub-expressions\n",
    "expr = ExprTuple(C, Implies(Implies(B, Implies(C, A)), A))"
   ]
  },
  {
   "cell_type": "code",
   "execution_count": 3,
   "metadata": {},
   "outputs": [
    {
     "name": "stdout",
     "output_type": "stream",
     "text": [
      "Passed sanity check: built 'expr' is the same as the stored Expression.\n"
     ]
    }
   ],
   "source": [
    "# check that the built expression is the same as the stored expression\n",
    "%check_expr"
   ]
  },
  {
   "cell_type": "code",
   "execution_count": 4,
   "metadata": {},
   "outputs": [
    {
     "data": {
      "text/html": [
       "<table><tr><th>&nbsp;</th><th>core type</th><th>sub-expressions</th><th>expression</th></tr>\n",
       "<tr><td>0</td><td>ExprTuple</td><td>9, 1</td><td><a class=\"ProveItLink\" href=\"expr.ipynb\"><img src=\"data:image/png;base64,iVBORw0KGgoAAAANSUhEUgAAAOYAAAAVBAMAAACgQo8/AAAAMFBMVEX////c3NwiIiJERESqqqqY\n",
       "mJh2dnZmZmYQEBDu7u4yMjJUVFTMzMyIiIi6uroAAAAs73DqAAAAAXRSTlMAQObYZgAAAtBJREFU\n",
       "SMfFVk1oE1EQnm3cbDY2m4BCwSKVeBIPUbBQ9dCcq2BOHvRQb9qDWIu2HgqJ2B56SXOU4k9UIg1C\n",
       "jadCgyR4EntowHNp9dKiCBb8oS1aZ96bZF+S3RdvfTDz3rxvd+Zl5pu3AdiP4dT0dtP41tGduS5F\n",
       "h8MyrR6fn0j1yE2yr+6Vy+c8XuwuobI/Lt41Rj0dvkOZZNHhRZTgNMDGtNwnGx4AWH/b3wnnUN1I\n",
       "gXMv5enzNT3DosEjmEr7OfoKboltsqH7D8pu41G7vlhFmTuB6lasAeaUvCXQMK9J0eAhnMIzVMeM\n",
       "2CcbIhjf/NX882jQc/NkbLqOiu7ycBqPYmekaPAvuE4nUXGJyIYAvtM149KqxHMeU/6DVj2uo6/u\n",
       "srZGHDjD4o+PY7QdkcCq2B8nFS2B8UJJyk05WZiyvjytHrlYsMFzJ3eJynydxR8voKufSpkLpFbe\n",
       "ro5JlozFaSRkDsK4l3bZYwks/rtuP4EV8j/E4o9nMYtbSswsqbUY2CdVwg2JxgmhTsRayXhggRfr\n",
       "0DfKtd7U4tgR0e8KOUWHDFBctR3seQoaRbXXSkZkclY2b7lcOUVJYvHHMUZIxLyoxKQ2GVb4Dh9G\n",
       "gGPOiqNX1YvipTyBg57yHjHb8SmAg9u0xTfLFD1FBa4k3XrGz8o+wq0KObDUeh7nH41gV0bNrS/e\n",
       "L28ACOZkdvu5PSWZeVyQUwDTLWgwopaLG8lAn2HK2BUWf5xYPZwE5zbA02PMcmrP90ovG3mmPebC\n",
       "xP7cUHl0pF41enG7vVc88M+Uy6XFOzg9JP6ibQ3ulpcKitsAx3DoUMuvJpIqQ07L6dDsMzAHd/BU\n",
       "RNMFLR5SzvyJahbz+JzUF/c97u1qi91693ng6nVM3aHabePyf3yP6d4J1vR4sTmmant/yzqMORYd\n",
       "3tuwIkL3ap43Sp1jvmHR4UZLHgzdf5OjHUNGqlI0+D99yNnEZHPQAgAAAABJRU5ErkJggg==\n",
       "\" style=\"display:inline;vertical-align:middle;\" /></a></td></tr>\n",
       "<tr><td>1</td><td>Operation</td><td>operator:&nbsp;7<br>operands:&nbsp;2<br></td><td><a class=\"ProveItLink\" href=\"../c9b2dfd511fa88456b4ca693ed6bb379360ecd0e0/expr.ipynb\"><img src=\"data:image/png;base64,iVBORw0KGgoAAAANSUhEUgAAAL8AAAAVBAMAAADlQyK9AAAAMFBMVEX////c3NwiIiJERESqqqqY\n",
       "mJh2dnZmZmYQEBDu7u4yMjJUVFTMzMyIiIi6uroAAAAs73DqAAAAAXRSTlMAQObYZgAAAk1JREFU\n",
       "OMu1lU1IG0EUx98a12RTExcs9FCK4k16SA8Wai/mHA/15EHB5qYepEHox0EwxV5y0RyLlLIigqFQ\n",
       "46ngIpGepD0Y6LVi6KVSKCjYQpVW/293YybOzqQXH8zs2/29mfdm3ptZomuXZFUDf7YcbtaIJrQW\n",
       "n9HGz133YU1mnWV01pcPT41c6NiPaHNE0R3F3MypxN0CrP7JBvEiuqkRSr4YCZ1gg23QHIUD5gne\n",
       "oc6/aGeX3626so+23I/uiS0x3p4UAjCzRKNESh7jIBPHePvdHDhLAW2dXw5lBrk5D79Wnug1qfkP\n",
       "1iIwais08l4Onlh69IS1WxJjqR5w3gYwPq3mz1jrKpOxKrie8R9RrL7H2983EuO5io84NZNEHTk1\n",
       "X2N1b3t/1k/jbB9Lyh8Qx7f5RnqbGOQt7XECM0Ttjpovsnpgk3VXTH/Gq9kY+pR9tTQy9XquUU/O\n",
       "z08yr+ZecT5gJ2IlWuts1YXu3HsvSgxl57qVe7x8qEdq7jngCn2cFYw+TVPgYImV9h2JIWws0Qlx\n",
       "cIW/Yl+/0FXSjX3sG/RMYvhU4eCjJDEiwLa8uEXh/H5wDIxTIYhh/xHBrnl5nJYZGZggzpGP4Qw5\n",
       "aj4ZHIPdUsPGCOy5+kycg++2zGiZB/6RylTi37ABQ2fu1poQZCSYMNnLl+G75+kQ1r20QubQKWZ+\n",
       "j0hrah6zQy7RuvJSwy6LpvmqkLiZ1Vzlo//xP+moiqc3REoaJt5cKsFeW47O4LaGGeXWDjaJbtg6\n",
       "A0P3y7zTcv4EzuBXDb8AXsynfB9WkboAAAAASUVORK5CYII=\n",
       "\" style=\"display:inline;vertical-align:middle;\" /></a></td></tr>\n",
       "<tr><td>2</td><td>ExprTuple</td><td>3, 10</td><td><a class=\"ProveItLink\" href=\"../e088ee499444ed9eea8b845ea562f563ce92fbcd0/expr.ipynb\"><img src=\"data:image/png;base64,iVBORw0KGgoAAAANSUhEUgAAAKoAAAAVBAMAAAAkxGgRAAAAMFBMVEX////c3NwiIiJERESqqqqY\n",
       "mJh2dnZmZmYQEBDu7u4yMjJUVFTMzMyIiIi6uroAAAAs73DqAAAAAXRSTlMAQObYZgAAAj9JREFU\n",
       "OMu1VU8oREEYn2et3dUuW5QiESc5LEXhwpmDPTlw4IaDSPlzUIiLC3vUJlYim2KdlJdWTuJAOcty\n",
       "IVKUPyF/vm925s3Me8+ui6mZnfl98/1mvu/7vVlC/qflnKYw3qd1dyZskWPoHd+63pCwunhjMHjO\n",
       "doa0AVvKA+hjtkgUF1OEuL6sXtkhGHqCJGc0aMu6hXvsEB8mwPsJ/cMwhfjkHHq4AoZ+P4c8cqwB\n",
       "2OnsskHcSOF7hPmLYYvyyQz0ddxwo16ftfxxOMwzQazILS4cYMmYMWx3vJARSMwTzgpEcWOC4/QC\n",
       "a1FDrMgwLnJjRFsRl8hisnBBcCURnC0Ixz5xQKgV091NrMgqrk72zgdpPVxltL2yaAEbF3UapLaA\n",
       "IYdFcoLHNwtWA5nF1YWfeCqlQDI36Y8bwgn4zYVv5hJMkJIBJecCoXqqQ2ZZPGF6WC74f6uqQBWs\n",
       "J2m9uh6vwkCFvA2EsqKoOiWFeNdCnHWO3n1fYj3qZUmEYCIKq0CmkeQZhniTyGt58m5ugOI4dUl5\n",
       "LatnHGDMmFAyIJBaJlftXUorU48DkkLT3ytdtYX9asCR/QCTdv5tSEg3k+thVDgWcoVB6p2g12up\n",
       "YlqEpx4d35iylkpV5Aria/zQd1el61TzPOHe442RJsnmYCfkzS0TZ+M7nIt6mX9UEbff+mgYtZm0\n",
       "ecbMQPKLvVQR5XEwt7Y/vM/JDzFoQqIpPOSn5LcWJmZWRIpSeGix9KzbOPjMiJbqH6Y4Lalv3wb5\n",
       "AaEbolLIYHGTAAAAAElFTkSuQmCC\n",
       "\" style=\"display:inline;vertical-align:middle;\" /></a></td></tr>\n",
       "<tr><td>3</td><td>Operation</td><td>operator:&nbsp;7<br>operands:&nbsp;4<br></td><td><a class=\"ProveItLink\" href=\"../a6dcac779199b67938528ba2c1cd88afa07ba7800/expr.ipynb\"><img src=\"data:image/png;base64,iVBORw0KGgoAAAANSUhEUgAAAIAAAAAVBAMAAAB8u/sIAAAAMFBMVEX///+qqqru7u4iIiJ2dnbc\n",
       "3NyIiIjMzMxmZmYQEBC6uroyMjJERERUVFSYmJgAAADLUcuvAAAAAXRSTlMAQObYZgAAActJREFU\n",
       "OMtjYKAhWEZQBd8CEPn2/927pxdgyrJfABJMOTf6WBuw6i4G4nYwaw4DA8cvTAXcCkDC8wEDV+cD\n",
       "rAbsB6kB2/QNiP/CxZlgjDQg1jYCEv4BGHIg59sDLeBzALLYvgIZX1AtBoFJQLwTxFmJKQcEgf1A\n",
       "c5kmAFk8QIJ5ElyC6wKU3gD02UcQKwJDDgQS8kHhdhCI+S8wsO5BMtoNQnEAXRe/AcRSx5ADmaUg\n",
       "DwoaDyCuv5bWDAmmZmMQsIcEOjdQrB8RfChyQKDFUJ8ApKSBOD+AgckWOXilwXHKCSTtA9CDXhoW\n",
       "3wsY4hug4XMSZAhyTDHtBKniBxL/wXwFDDlgtN29e/8AyPlADIrB9w5IiqqdGKAGzAcxGAsw5IBB\n",
       "AHTiBogB7P+A9H0BhD+ND4GVcAKF7oMs52DAkGNgAEoyT4B4AZQMWH8jWSILoXiAvgKHkxOmHAMr\n",
       "0ADuD0DGa0gyqNyEUMO6AUKzAMOID5gOVgRgyjFog2z4BI5GjvN/797eh2QJD1QDlwGQqN3bIYBF\n",
       "Lmb+Vga+87+BVuzCkglhjKl45OCRMgFPZn9CRJHBkoBHEjnn4ALa+CRZLxA24Cpe2TCC+tkKGAAz\n",
       "CXA63KQZkQAAAABJRU5ErkJggg==\n",
       "\" style=\"display:inline;vertical-align:middle;\" /></a></td></tr>\n",
       "<tr><td>4</td><td>ExprTuple</td><td>5, 6</td><td><a class=\"ProveItLink\" href=\"../e9fb2c5be67157d316d27e78303776ce18d0166c0/expr.ipynb\"><img src=\"data:image/png;base64,iVBORw0KGgoAAAANSUhEUgAAAGYAAAAVBAMAAABGR4Y+AAAAMFBMVEX////c3NwiIiJERESqqqqY\n",
       "mJh2dnZmZmYQEBDu7u4yMjJUVFTMzMyIiIi6uroAAAAs73DqAAAAAXRSTlMAQObYZgAAAblJREFU\n",
       "OMtjYCAH8F0gSTnrAyBxGoij/+/ebfUAJjzXujxAHKuGQ0BcA8QrQZxmBgb2f1AJtlYGhuetWPWs\n",
       "B2IuBgZekNN4/gLxb4g456IJQH0f4eomILlLH8hhTWDgAInxApWwfoNIcHWCPNkAV7gSoUekXgBo\n",
       "ZgPDKxCHGaiEqRMiUe8AJBgL4ApfI/RcuA/yswlDGYjDv4GBcTHEEYy/wA48AFfIBg9Xvgn+AUAq\n",
       "nWEpiHd+792iAIgE+1e4anYlMPgO489jOA/S78XQB+LdF2Dg1IZIMH1EDyyWdVDGAwZ5kJNfMIBD\n",
       "2AKkD2IR/wew25A1zQKby8Cze/d+A5CjIHpAwRyfAJbhAOvxQdLCswziUz6g5AKwnhaQKMgP+x3A\n",
       "Mtw/QWQBkn+UoTEElGdqALvNFBo9oPCaAI1eBjakiGTZAKEZgXq4QI6IAoYcJHpOrGTg/ASSi3dg\n",
       "4CtEcpoUzFcghT/BYf0I6Ab737t3AcOcs18AZNGu7SXIIWAIoYT7FzKw2v8COnodA4cAUrYQwJIu\n",
       "D6DxgWmHNQEpDRKTgUDpYiWJekD+kkZKg8To2QgKQ9LyNu8BBgBrj2vMyGM4bgAAAABJRU5ErkJg\n",
       "gg==\n",
       "\" style=\"display:inline;vertical-align:middle;\" /></a></td></tr>\n",
       "<tr><td>5</td><td>Variable</td><td></td><td><a class=\"ProveItLink\" href=\"../../../packages/proveit/__pv_it/077b2ff79244fb4582cbe22c6e3356fa92a52f2f0/expr.ipynb\"><img src=\"data:image/png;base64,iVBORw0KGgoAAAANSUhEUgAAABAAAAAOBAMAAADUAYG5AAAAMFBMVEX///+qqqru7u4iIiJ2dnbc\n",
       "3NyIiIjMzMxmZmYQEBC6uroyMjJERERUVFSYmJgAAADLUcuvAAAAAXRSTlMAQObYZgAAAGpJREFU\n",
       "CNdjYGB4+//u3dMLGIBgDgMDxy8gzf4NiP8CGWxfGRj4vgAZPBMYGJgnARn8FxhY9ygAGfXX0pof\n",
       "gDTlBzAw2YIYJ0EckBBI53sHoBH/gIz7AhBjWH9DjancBLTl/N+7t/cxMAAA3u4f/5xagjYAAAAA\n",
       "SUVORK5CYII=\n",
       "\" style=\"display:inline;vertical-align:middle;\" /></a></td></tr>\n",
       "<tr><td>6</td><td>Operation</td><td>operator:&nbsp;7<br>operands:&nbsp;8<br></td><td><a class=\"ProveItLink\" href=\"../eab45f13d3c1dde2fe8f60d3ee741db8ebf56a920/expr.ipynb\"><img src=\"data:image/png;base64,iVBORw0KGgoAAAANSUhEUgAAAD4AAAAPBAMAAABOyWF/AAAAMFBMVEX////MzMyqqqoiIiIyMjK6\n",
       "uroQEBB2dnbc3NyYmJhmZmZUVFRERESIiIju7u4AAAB204erAAAAAXRSTlMAQObYZgAAAOJJREFU\n",
       "GNNjYGDgu7NrJccCBiyA0QBElk1gYF02AZs8ywcg8cQOSNQ3wMT4kOQn/wMSbg+ARBhCzwM4k0Pr\n",
       "BwMD1ycQswsuyLoBzuTl/crA0O8AYj5EGFoLZ8Ux/WRgWI9w2WJjELCHeYUvgPEvA4N9A7qrVQKg\n",
       "NjFw/GJg+A9mP0CS53ODKJDevfsPA0M+iMkkgCQvUgehgapSGBj2g7RyIdlvfA4izQTEZgwM8heA\n",
       "dB2Sdm0o3QTE/gwMnED/RyG5kcMB6goQfR5ouLT3KgUk7TwQtRzHvjQwzPnvhRlnqFwAd2kzju8/\n",
       "SgAAAAAASUVORK5CYII=\n",
       "\" style=\"display:inline;vertical-align:middle;\" /></a></td></tr>\n",
       "<tr><td>7</td><td>Literal</td><td></td><td><a class=\"ProveItLink\" href=\"../../../packages/proveit/logic/boolean/implication/__pv_it/e5c030cabcb650938f92dee8256fe11cd12bf9b30/expr.ipynb\"><img src=\"data:image/png;base64,iVBORw0KGgoAAAANSUhEUgAAABMAAAANBAMAAAC5okgUAAAALVBMVEX////c3NxERETMzMwQEBCq\n",
       "qqoiIiJmZmaIiIh2dnZUVFS6uroyMjLu7u4AAACPpZJTAAAAAXRSTlMAQObYZgAAAD1JREFUCNdj\n",
       "YAABXgY44LkAZ3IvQAjPABFlaSCQV4AQjtkAZ/IegbNt5sLUpunC5aPgLMYDcCaTAJzJDCIA2yMN\n",
       "HCCUuIIAAAAASUVORK5CYII=\n",
       "\" style=\"display:inline;vertical-align:middle;\" /></a></td></tr>\n",
       "<tr><td>8</td><td>ExprTuple</td><td>9, 10</td><td><a class=\"ProveItLink\" href=\"../41eed91b898d6de67e3cf4eac0bd8fd79ccbbcb70/expr.ipynb\"><img src=\"data:image/png;base64,iVBORw0KGgoAAAANSUhEUgAAADQAAAAVBAMAAAD7ptBLAAAAMFBMVEX////c3NwiIiJERESqqqqY\n",
       "mJh2dnZmZmYQEBDu7u4yMjJUVFTMzMyIiIi6uroAAAAs73DqAAAAAXRSTlMAQObYZgAAASlJREFU\n",
       "KM9jYMAD+C5gE2V9ACROg1hzrcsDxOHih4C4BohXAjFbKwPD81a41Hog5mJg4AWax7loAlD6I9ww\n",
       "fSCXNYGBA0hxdYLsbIBJidQLAJU3MLwCsusdgARjAUzqwn2QG0wYyoCCv0ACnAdgTp7gHwCk0hmW\n",
       "MjCwf0Vx9zyG8yD/eDH0MTAwfUSResAgDzL7BcM/Bgb+D2ADoTI8u3fvNwDS50FSHGApH5hVQIEF\n",
       "YKkWBgbunyAhmAOBrmVqABtoCjTiLyhAJkCMZARKcYGMiQK6kYEh3oGBr5CBYb4CkD0LiJl/gh3/\n",
       "CGTzru0lQGoG0KXC/QsZWO1/AU1fx8AhgHD2QyQvAAMKGIxwEIAkxXYBEilYpEB2SsN5vMhhshHk\n",
       "WqwJgPcAAwBY2UQo6aRpnQAAAABJRU5ErkJggg==\n",
       "\" style=\"display:inline;vertical-align:middle;\" /></a></td></tr>\n",
       "<tr><td>9</td><td>Variable</td><td></td><td><a class=\"ProveItLink\" href=\"../../../packages/proveit/__pv_it/985a1bdf1540838275dec15f4ad6de261cca93ce0/expr.ipynb\"><img src=\"data:image/png;base64,iVBORw0KGgoAAAANSUhEUgAAAA8AAAAOBAMAAAACpFvcAAAAMFBMVEX////MzMyqqqoiIiIyMjK6\n",
       "uroQEBB2dnbc3NyYmJhmZmZUVFRERESIiIju7u4AAAB204erAAAAAXRSTlMAQObYZgAAAGZJREFU\n",
       "CNdjYGDgu7NrJccCBgaGsgkMrMsmMDA8sQNy6hsYGNweABlhDAxcn4A0QxcDQ78DiPGQgWH9BAYI\n",
       "sG+AMv6DSaCGfBDNJMDAsB+kmwuI5S8AiTog5gSaEwXWIO29SgFIAQBC+RaDQlidVgAAAABJRU5E\n",
       "rkJggg==\n",
       "\" style=\"display:inline;vertical-align:middle;\" /></a></td></tr>\n",
       "<tr><td>10</td><td>Variable</td><td></td><td><a class=\"ProveItLink\" href=\"../../../packages/proveit/__pv_it/2cbe72a7ad6f655694dd697106680215e8489b600/expr.ipynb\"><img src=\"data:image/png;base64,iVBORw0KGgoAAAANSUhEUgAAAA8AAAAOBAMAAAACpFvcAAAALVBMVEX///8QEBBERERUVFS6urqI\n",
       "iIhmZmaqqqrc3Nzu7u6YmJgyMjIiIiLMzMwAAADtIaYWAAAAAXRSTlMAQObYZgAAAFtJREFUCNdj\n",
       "YACBOwxQsA9Kc52bAGG05zVAGAFxDmCaZULdAjBjCsO9ADDDgaEvAUTzGhvbKYCVMDAwbgAxChgY\n",
       "eASANAeQwf0AyJgNxEwvGRia5HYwcOm9TgAA6BoR3jrzwFcAAAAASUVORK5CYII=\n",
       "\" style=\"display:inline;vertical-align:middle;\" /></a></td></tr>\n",
       "</table>\n"
      ],
      "text/plain": [
       "0. (C , (B => (C => A)) => A)\n",
       "   core type: ExprTuple\n",
       "   sub-expressions: 9, 1\n",
       "1. (B => (C => A)) => A\n",
       "   core type: Operation\n",
       "   operator: 7\n",
       "   operands: 2\n",
       "2. (B => (C => A) , A)\n",
       "   core type: ExprTuple\n",
       "   sub-expressions: 3, 10\n",
       "3. B => (C => A)\n",
       "   core type: Operation\n",
       "   operator: 7\n",
       "   operands: 4\n",
       "4. (B , C => A)\n",
       "   core type: ExprTuple\n",
       "   sub-expressions: 5, 6\n",
       "5. B\n",
       "   core type: Variable\n",
       "   sub-expressions: \n",
       "6. C => A\n",
       "   core type: Operation\n",
       "   operator: 7\n",
       "   operands: 8\n",
       "7. =>\n",
       "   core type: Literal\n",
       "   sub-expressions: \n",
       "8. (C , A)\n",
       "   core type: ExprTuple\n",
       "   sub-expressions: 9, 10\n",
       "9. C\n",
       "   core type: Variable\n",
       "   sub-expressions: \n",
       "10. A\n",
       "    core type: Variable\n",
       "    sub-expressions: "
      ]
     },
     "execution_count": 4,
     "metadata": {},
     "output_type": "execute_result"
    }
   ],
   "source": [
    "# display the expression information\n",
    "expr.exprInfo()"
   ]
  },
  {
   "cell_type": "code",
   "execution_count": null,
   "metadata": {},
   "outputs": [],
   "source": []
  }
 ],
 "metadata": {
  "kernelspec": {
   "display_name": "Python 3",
   "language": "python",
   "name": "python3"
  }
 },
 "nbformat": 4,
 "nbformat_minor": 0
}
