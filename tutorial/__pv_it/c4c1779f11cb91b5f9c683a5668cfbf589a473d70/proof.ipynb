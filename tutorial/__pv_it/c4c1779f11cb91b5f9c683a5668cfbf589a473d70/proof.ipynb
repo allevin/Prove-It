{
 "cells": [
  {
   "cell_type": "markdown",
   "metadata": {},
   "source": [
    "Show the Proof\n",
    "========"
   ]
  },
  {
   "cell_type": "code",
   "execution_count": 1,
   "metadata": {},
   "outputs": [
    {
     "data": {
      "text/html": [
       "<table><tr><th>&nbsp;</th><th>step type</th><th>requirements</th><th>statement</th></tr>\n",
       "<tr><td>0</td><td>specialization</td><td>1</td><td><span style=\"font-size:20px;\"><a class=\"ProveItLink\" href=\"../f0e632a6c49db51adc435ec3fd1d6ae1b94454670/expr.ipynb\"><img src=\"data:image/png;base64,iVBORw0KGgoAAAANSUhEUgAAAOEAAAAVBAMAAABCnpRGAAAAMFBMVEX///9ERETc3NyqqqpUVFS6\n",
       "urrMzMwyMjIQEBCIiIh2dnYiIiLu7u5mZmaYmJgAAABJJ2g3AAAAAXRSTlMAQObYZgAAA25JREFU\n",
       "SMe9lk1oE0EUx1+STdJsNpumHrT00BgEKQrGi+Kh9ANbKB66h4LtbQ89CB4SCnqwfoRWRbGHgKWg\n",
       "lTa0SG1obU6CteB6qniKCEoR7CKIWIW2UqtUsc6bncnO7kaPDuzMvJ35z2/2zbyZBQD1HfynFCom\n",
       "sVAWQfE29lW1Prh6jZ83/j6+IFIHNVVD5DC+iGxAFEs1L86mlTR0b5081c4tmmK6c9D7UMLik/DK\n",
       "P1/sAo9I1uA11t9gJudATpMyLE6XGvEswL6koynLysOcOI3FRUE5o4O0BG4RIYax+oAR/bWk3C9O\n",
       "/g5mmQJAS4FbNK2x8hInoorKWVrG+lVwiwhRLQhEOslXInEEs0ni+vUyt2h6zpzeYDAifkksbQsH\n",
       "MVs13CJCVHIicS2VSpUEYJB6r5E83Wlu0eSzBpf68oyoTqVSh2xhbBvzBc0tIkTYIxLjiURDQSDG\n",
       "qPGdbORNZvln20+skM5ly3fWjiFE2EwkFm3hEerghbRbhMR5ToyRyUg6+JLixjHRdTsAZ8vMegGf\n",
       "zVsAAWvmD9kaEGInQJ0tXDWpc3S3CInHScs6Np9BF7SSaQupBoMnslWcn+JWASbhGOmYo+0lOMiJ\n",
       "PaDY/oOndH1/eERI7MXJky/ov24NMSES40j0/RIsA9roltlgoSvpjBiFiGkLkQWBHY8IiRms7yWd\n",
       "e1E7AUseYrwkWnDTJkYNFt+EGDGjQiD/pGsy4hFxYhQ3iIROWcYR5NG+TuZV3JKZMgiWfxsPQ8ur\n",
       "zeQZYEQl208qsx2j9KOvYNaie0Tcq3QdZfwU3wHyak6qHWb72WThWLHek8PwHvEnXbMBRkUi1HWQ\n",
       "MYw2SoAWrWksdM0rQuJHMTog8JZkWpivCA2CRsO2Ar99OX+eNYQwBKKc2ExmHITLrOtSQT6a9Ioc\n",
       "0UGJlsPjPEKCJVBe7nYJVv1cEfdWGL9bojs5z4g19DD4yvr2XBhPg+4RIfGck/iFBgrwu2HIcUUM\n",
       "OU+5IK1qjKiiK0K5UOWE0VXdI/KcctZhuTEDBdeJ7bZm3beVlTJyVq4Qy6e9IkKU85yocqJS33zX\n",
       "EG8r591Fu2SrE5/dXpnj76Tdb14RIS5X7kflcZX7299a1ZKS1YmOX4sbpldEiHi3W9sY1Okquqaq\n",
       "1pj7r+PRP/5qBFHkiRbR2X/OH0yyA9bO3j6VAAAAAElFTkSuQmCC\n",
       "\" style=\"display:inline;vertical-align:middle;\" /></a> <a class=\"ProveItLink\" href=\"proof.ipynb\" style=\"text-decoration: none\">&#x22A2;&nbsp;</a><a class=\"ProveItLink\" href=\"../8ce3e89efbbc0ba67be45d8868c65bd6fe91958d0/expr.ipynb\"><img src=\"data:image/png;base64,iVBORw0KGgoAAAANSUhEUgAAALwAAAAVBAMAAAAOdJm+AAAAMFBMVEX////u7u5mZmaYmJi6urqq\n",
       "qqp2dnbMzMwQEBBEREQyMjLc3NwiIiJUVFSIiIgAAAAeC3ydAAAAAXRSTlMAQObYZgAAAz1JREFU\n",
       "OMu9lU1oE1EQxycfm2TzsQmCRYNiL8aDBeOlQkHpUURq8ejBRKkeRMt6aw9Si3pRKEWxWtQ2oqDe\n",
       "clGQUk21ehALORQV22JooXgwbdNGxS/qzLy3b19ie/XB7P53svPbNzPvvQD8v9H2r/a1CtOH9ebs\n",
       "+gx/yQ1sGUdRXp2ZmcijCBbJv7Xsahw7pGkj0BplQEnzPUmdEY/nQAvsIPETwLyC93CCngYyaaVJ\n",
       "SKMRSUh8oF1/hVwPAKb5+S5ogYQPfgMw0GCBvJ7qRnA0zzErjCMaJT7Sj7enLt3zCC8hStgq6YGE\n",
       "t6qol1H0ktdY4h97VeR5YTS6xySe57jdxYcLePFW6BsJPZDwJgJjX7EpOfJ6C9ygnAq9Lg3H5IKD\n",
       "bx4ZGSm4+F02uXGacAD0QMLHEbUNs/VSCXwfJqgCpBtSEMEJHQdhOJ9c1MHHBwdvZxUo8oPdOEVI\n",
       "UZvLj2dLHET4niwEX1CG1FKIc/FIZw+BhYkdAWEYn/a2S3zMBjOv8N4Vuprf8XIPZ5H1vQwVOIjw\n",
       "i+9OpujVEC/v55Qn6WB7E5iY1H4QBhCFSE7i/UVIumWIVnhi1KGL+DPOyrA5iPDDshtxxmcc7YE+\n",
       "TqUHhAHsA3gv8VCAORfPYMhQtbD+HojRwqIgwv8GHX9aaaMCPbaOH5ObhvBzMKbhucsPEwKPuZdc\n",
       "fHBZvhTiwt5R2puDz6AVx8Ceh/MSn6RtHSi3cTphWswGlR4uyQInnOJYVYk3ubV9SuMmom+1SGM0\n",
       "fYLx5ihejsX6GWdUIwt2Fyd/DRdffhGsBAch3qw4G7uRN63S3qJ/BbSF2U2XgsQbTShaxWLDijbA\n",
       "iVus8M1M+iY8A7kwNwz/kfvYT6H+itKeodlfKO9Lg0nnsCC8yDIuF6f/Y+crCJI6CLB5vqEzLYI6\n",
       "9JOQjjUr52oIFPRDgZP3O/jd9NQFthN8A/Zw0/L1h4IazQB7zbTS07AJGxwoCas5kMU9uHQK1Na9\n",
       "Ks4Rn3JQUA0eT9jLW1z9GgZQJKWtgfcMHZ5XJ9inVeFVB3IS6vCRIjTvdPXRWQqYkrYGvmZ0XRD3\n",
       "UccxVY/nftdpyxZW82f41l7/zzBScgO/jP8F7BDZBjyMa14AAAAASUVORK5CYII=\n",
       "\" style=\"display:inline;vertical-align:middle;\" /></a></span></td></tr>\n",
       "<tr><td>&nbsp;</td><td colspan=4 style=\"text-align:left\"><span style=\"font-size:20px;\"><a class=\"ProveItLink\" href=\"../../../packages/proveit/__pv_it/530be409e3083890784cf1d7b28c9e67e90af9360/expr.ipynb\"><img src=\"data:image/png;base64,iVBORw0KGgoAAAANSUhEUgAAAAsAAAAJBAMAAAAWSsseAAAAKlBMVEX///9ERETMzMwQEBAiIiKY\n",
       "mJju7u5mZmaqqqpUVFSIiIh2dnbc3NwAAAA/vyDhAAAAAXRSTlMAQObYZgAAAENJREFUCNdjYDi9\n",
       "8sTyBQxsG1hdmR0YuBm4LnAoMLAxcAowgADzAjB1VoEhgYH1wFoGrgSG3gBhhlMMDImrs3cFMAAA\n",
       "t0YN+iTRa+sAAAAASUVORK5CYII=\n",
       "\" style=\"display:inline;vertical-align:middle;\" /></a> : <a class=\"ProveItLink\" href=\"../../../packages/proveit/__pv_it/e4f99fbf53c5e24e1c1e622903a7736f418f26ef0/expr.ipynb\"><img src=\"data:image/png;base64,iVBORw0KGgoAAAANSUhEUgAAACgAAAAVBAMAAADGNLEtAAAAMFBMVEX///8yMjLMzMwQEBAiIiJm\n",
       "Zma6urqYmJiqqqp2dnZERETc3NyIiIhUVFTu7u4AAAAe+HC4AAAAAXRSTlMAQObYZgAAAQlJREFU\n",
       "GNNjYMAPciAUewKYent2A5BkugCVDAKTK/sLgCTjA6ggI4jg+/YCRJ2BGcM+AUhwfACz7WCCfAZA\n",
       "gtUBxGQTgNu4Aqj6sm8ASAqo6WUkA/c/BoapQC7/AbDxQMsm5DPwAM1qBHL3K4AEmRMYmBpCGLgW\n",
       "MDAkA7n9YIP4Exj4GGzA2vSB3CkwQQaOfwz6ChDBtWBB5gagZQIMhxkg2m3AglxAixgDwCoKQR4C\n",
       "C3IC3cV6ge07A9hJbP/AgmxAL/CtOfobyBRjYOCBesUarN4B7M1akGEgUMnAcIXhMdA6zgMMhk9g\n",
       "IfaAwZNhJZDxEKggGirIfYGh5ygo1G8jR8ceCMWjwAAAl6o3tGQ/mUwAAAAASUVORK5CYII=\n",
       "\" style=\"display:inline;vertical-align:middle;\" /></a></span></td></tr><tr><td>1</td><td>assumption</td><td></td><td><span style=\"font-size:20px;\"><a class=\"ProveItLink\" href=\"../f0e632a6c49db51adc435ec3fd1d6ae1b94454670/expr.ipynb\"><img src=\"data:image/png;base64,iVBORw0KGgoAAAANSUhEUgAAAOEAAAAVBAMAAABCnpRGAAAAMFBMVEX///9ERETc3NyqqqpUVFS6\n",
       "urrMzMwyMjIQEBCIiIh2dnYiIiLu7u5mZmaYmJgAAABJJ2g3AAAAAXRSTlMAQObYZgAAA25JREFU\n",
       "SMe9lk1oE0EUx1+STdJsNpumHrT00BgEKQrGi+Kh9ANbKB66h4LtbQ89CB4SCnqwfoRWRbGHgKWg\n",
       "lTa0SG1obU6CteB6qniKCEoR7CKIWIW2UqtUsc6bncnO7kaPDuzMvJ35z2/2zbyZBQD1HfynFCom\n",
       "sVAWQfE29lW1Prh6jZ83/j6+IFIHNVVD5DC+iGxAFEs1L86mlTR0b5081c4tmmK6c9D7UMLik/DK\n",
       "P1/sAo9I1uA11t9gJudATpMyLE6XGvEswL6koynLysOcOI3FRUE5o4O0BG4RIYax+oAR/bWk3C9O\n",
       "/g5mmQJAS4FbNK2x8hInoorKWVrG+lVwiwhRLQhEOslXInEEs0ni+vUyt2h6zpzeYDAifkksbQsH\n",
       "MVs13CJCVHIicS2VSpUEYJB6r5E83Wlu0eSzBpf68oyoTqVSh2xhbBvzBc0tIkTYIxLjiURDQSDG\n",
       "qPGdbORNZvln20+skM5ly3fWjiFE2EwkFm3hEerghbRbhMR5ToyRyUg6+JLixjHRdTsAZ8vMegGf\n",
       "zVsAAWvmD9kaEGInQJ0tXDWpc3S3CInHScs6Np9BF7SSaQupBoMnslWcn+JWASbhGOmYo+0lOMiJ\n",
       "PaDY/oOndH1/eERI7MXJky/ov24NMSES40j0/RIsA9roltlgoSvpjBiFiGkLkQWBHY8IiRms7yWd\n",
       "e1E7AUseYrwkWnDTJkYNFt+EGDGjQiD/pGsy4hFxYhQ3iIROWcYR5NG+TuZV3JKZMgiWfxsPQ8ur\n",
       "zeQZYEQl208qsx2j9KOvYNaie0Tcq3QdZfwU3wHyak6qHWb72WThWLHek8PwHvEnXbMBRkUi1HWQ\n",
       "MYw2SoAWrWksdM0rQuJHMTog8JZkWpivCA2CRsO2Ar99OX+eNYQwBKKc2ExmHITLrOtSQT6a9Ioc\n",
       "0UGJlsPjPEKCJVBe7nYJVv1cEfdWGL9bojs5z4g19DD4yvr2XBhPg+4RIfGck/iFBgrwu2HIcUUM\n",
       "OU+5IK1qjKiiK0K5UOWE0VXdI/KcctZhuTEDBdeJ7bZm3beVlTJyVq4Qy6e9IkKU85yocqJS33zX\n",
       "EG8r591Fu2SrE5/dXpnj76Tdb14RIS5X7kflcZX7299a1ZKS1YmOX4sbpldEiHi3W9sY1Okquqaq\n",
       "1pj7r+PRP/5qBFHkiRbR2X/OH0yyA9bO3j6VAAAAAElFTkSuQmCC\n",
       "\" style=\"display:inline;vertical-align:middle;\" /></a> <a class=\"ProveItLink\" href=\"../a4f43a8cac31de5f8fd33e0437961b748dbbd6a50/proof.ipynb\" style=\"text-decoration: none\">&#x22A2;&nbsp;</a><a class=\"ProveItLink\" href=\"../598a1f083de29dd2bccd6e2daa204f8d66f305280/expr.ipynb\"><img src=\"data:image/png;base64,iVBORw0KGgoAAAANSUhEUgAAAM0AAAAVBAMAAAAX/3cYAAAAMFBMVEX///8QEBC6urrMzMxUVFRm\n",
       "ZmZERETc3NwyMjKqqqp2dnaIiIiYmJgiIiLu7u4AAAAU9Wx4AAAAAXRSTlMAQObYZgAAAxpJREFU\n",
       "SMe9lU1oE0EUx19287mbpMGLiB4ieBBE2IL0aEtbVARR8GRFrIgpotI9lAYrYlTwJNJLwVtDULQG\n",
       "S8B4sK006KVUkFIUVLSsB0vpxdAvbdHW92Zms5PM9upAZvLfmf/7zb75WID/VBzliVbyU/F0/Sjz\n",
       "0+Htg8qmqVl4g39nSL+TBx3CX3mrs/OD7SpWTteHMtIJFkme1EDXoxIopgKELIARkg/kCEz8Bgjv\n",
       "rOuKijbiCI4xSE+lfBh3AU44iqkAkAPoJ2u3nBCakr4BENtwFc9BXlhPCQ5z9XvG5D2sAm2KCTnT\n",
       "fEKhQYkToBmZSzhm1VU8TIq3LXOCw2Z9xjNGaQlCm4oJOd8x2pNs9qactv1UhasAwXVX8XKZN+3j\n",
       "Lmc6m83OeP3nLXq8pJiQE8YXWctkvsicLqqaMKM/u4UaKF9/iZl4zGeYS7icpkzmWr7mi6yxx+uK\n",
       "CTkG5roDoEfm3KeqNQ/6R6GS+fjXAM77IY9f4VlGTtCCsF3zhf6wRCwrJuTEcNr7cIoyZwdVk8ef\n",
       "ddlCGWBWY5iTvaw7AZGc4GhtsOD5EpssESnFhBwtRUazInMowdDreCoJQbYfW0EctQ7BwbM34fkY\n",
       "AYbzigk5Oi63WUk4CudvnQqUPM6cOIXEmYA5icO2xG1HMQlOMke+YnvZ4uN30fFZdd2k4JZF1xPL\n",
       "WwxXNGoLzoKOp8UoH2AvGK1S97JqEnmDnnYc7BwJiEN0VRyfmorbk2CiZYpFszmLccJ9WI0Gu1nc\n",
       "2FJk3GpOqybkxGlJh/CFNb7NqND2DW9KarhyAW6IDmgBcScSJ3YO/6SjYnmfL8JIj49J7GuRyF9u\n",
       "5IMAP3pXSp6aH1ssUqg77JRSNS44sJstjNjb2rHiZ9BVE3KiNDhOS6endPfeseVd4Sl+77C8aC7n\n",
       "PalmsNwxF+GtauL3Di+tRs5ouC8blVFq+C7wVq8+hdqYS1pONSGn6Or5V2dH674LoKgF8OUkrwyN\n",
       "1c7Fya20aio0XARu6fNXR/05daV5j4+pAEHbjxMp+SnTavhuf7O2/27Lptez8ALgH4AO6GvgsxT4\n",
       "AAAAAElFTkSuQmCC\n",
       "\" style=\"display:inline;vertical-align:middle;\" /></a></span></td></tr>\n",
       "</table>"
      ],
      "text/plain": [
       "<proveit._core_.proof._ShowProof at 0x7f94eb92ca20>"
      ]
     },
     "execution_count": 1,
     "metadata": {},
     "output_type": "execute_result"
    }
   ],
   "source": [
    "import proveit\n",
    "%show_proof"
   ]
  },
  {
   "cell_type": "code",
   "execution_count": null,
   "metadata": {},
   "outputs": [],
   "source": []
  }
 ],
 "metadata": {
  "kernelspec": {
   "display_name": "Python 3",
   "language": "python",
   "name": "python3"
  }
 },
 "nbformat": 4,
 "nbformat_minor": 0
}
