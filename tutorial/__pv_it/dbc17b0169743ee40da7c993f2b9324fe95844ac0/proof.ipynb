{
 "cells": [
  {
   "cell_type": "markdown",
   "metadata": {},
   "source": [
    "Show the Proof\n",
    "========"
   ]
  },
  {
   "cell_type": "code",
   "execution_count": 1,
   "metadata": {},
   "outputs": [
    {
     "data": {
      "text/html": [
       "<table><tr><th>&nbsp;</th><th>step type</th><th>requirements</th><th>statement</th></tr>\n",
       "<tr><td>0</td><td>assumption</td><td></td><td><span style=\"font-size:20px;\"><a class=\"ProveItLink\" href=\"../434ace3bf8d0b4b5b5603304cac3e418941f0e280/expr.ipynb\"><img src=\"data:image/png;base64,iVBORw0KGgoAAAANSUhEUgAAAEcAAAAVBAMAAADm2O7QAAAAMFBMVEX///9ERETc3NyqqqpUVFS6\n",
       "urrMzMwyMjIQEBCIiIh2dnYiIiLu7u5mZmaYmJgAAABJJ2g3AAAAAXRSTlMAQObYZgAAAU5JREFU\n",
       "KM9jYGDgu8eAG7CtUgBRPLsY8AG2ZhDJ+QG77JT/Lo6VQPo6iMPVgMOMjwwMJwoYGFbgU8T2k4GB\n",
       "5StWRSerd2+HsDi/MTCwf8OmiK3uAIzJCBTPd0BSxLN2AYM+SFoRroaB34GBeScDVBEv0HFcrB8Y\n",
       "5oM4QghD8z3ndoLo9yAiI4CBIZl3A4MgKMwEEIrmH2CwTwDS7BcYGFLagIwDHBMYgJ5hYO3evRvm\n",
       "cAmwjUAg/oCBIQKk3P4A2zeQux0QJn1hYNAHcbkXAAmWAnCwcoI8ybMB4c9/QOcsgLmJCyRRy8AI\n",
       "NsQPrggUTPcn8CCH0xWG+AcgzukAeDABo3T+BD1kRQdn3gcnCabaBIias/JfJjDwVk5ADfHVEElm\n",
       "d5jvYACuiGUDTzOuBAVWxNcA8ibjAlyKwOmJBxhBzDOv4kyZrWCKbzGhNA4AlldaZ/AH334AAAAA\n",
       "SUVORK5CYII=\n",
       "\" style=\"display:inline;vertical-align:middle;\" /></a> <a class=\"ProveItLink\" href=\"proof.ipynb\" style=\"text-decoration: none\">&#x22A2;&nbsp;</a><a class=\"ProveItLink\" href=\"../304f80a086ce2279ef7adb379c5e865af0d14e320/expr.ipynb\"><img src=\"data:image/png;base64,iVBORw0KGgoAAAANSUhEUgAAADQAAAASBAMAAADmo+DzAAAAMFBMVEX///+YmJhUVFQyMjIQEBBE\n",
       "REQiIiKqqqrMzMyIiIi6urrc3NxmZmZ2dnbu7u4AAADXeCicAAAAAXRSTlMAQObYZgAAAPVJREFU\n",
       "GNNjYMACJv1XUrVkwA6+MjA8McAqw/GTgYHpF5LAS7O0ZAiL8wcDA/MPJKWGD2BMVgcGhn4FBr47\n",
       "Fxj2gwS3wmUY+BUY2DMZGHi5PjDMB/GjEQb0a87xBFLtPAkMoUCaLwAhNf8BQ30DA8MDlgkMQAcx\n",
       "cLmlpcGcEQI2k4Gh/gEHyDEcCghdnxgY9oO4hxk4HUAGJiDc+pGBQf4CkGHDwArWoAiXAnnr/AQ+\n",
       "BoZDDOsFQALPFsC99QHokgkbGRiezjy/ASTAbdMAkXkT/2kCA4/lBBD7GkSIXRnmQihgSuBzxxH+\n",
       "bBdYL+CQYp95CocMAERHO66SNiCSAAAAAElFTkSuQmCC\n",
       "\" style=\"display:inline;vertical-align:middle;\" /></a></span></td></tr>\n",
       "</table>"
      ],
      "text/plain": [
       "<proveit._core_.proof._ShowProof at 0x7f94ebe26668>"
      ]
     },
     "execution_count": 1,
     "metadata": {},
     "output_type": "execute_result"
    }
   ],
   "source": [
    "import proveit\n",
    "%show_proof"
   ]
  },
  {
   "cell_type": "code",
   "execution_count": null,
   "metadata": {},
   "outputs": [],
   "source": []
  }
 ],
 "metadata": {
  "kernelspec": {
   "display_name": "Python 3",
   "language": "python",
   "name": "python3"
  }
 },
 "nbformat": 4,
 "nbformat_minor": 0
}
