{
 "cells": [
  {
   "cell_type": "markdown",
   "metadata": {},
   "source": [
    "Show the Proof\n",
    "========"
   ]
  },
  {
   "cell_type": "code",
   "execution_count": 1,
   "metadata": {},
   "outputs": [
    {
     "data": {
      "text/html": [
       "<table><tr><th>&nbsp;</th><th>step type</th><th>requirements</th><th>statement</th></tr>\n",
       "<tr><td>0</td><td>modus ponens</td><td>1, 2</td><td><span style=\"font-size:20px;\"><a class=\"ProveItLink\" href=\"../d255b3bcbdcf5470b57934feb370900a5ee8946a0/expr.ipynb\"><img src=\"data:image/png;base64,iVBORw0KGgoAAAANSUhEUgAAAJ0AAAAVBAMAAACu6/FQAAAAMFBMVEX///9ERETc3NyqqqpUVFS6\n",
       "urrMzMwyMjIQEBCIiIh2dnYiIiLu7u5mZmaYmJgAAABJJ2g3AAAAAXRSTlMAQObYZgAAAfBJREFU\n",
       "OMtjYGDgu8dAFcC2SgFE8exioBJgawaRnB+oZR7DdRDB1UA181ZgN4+HgLYDJJrHfgC/eTUkmsfq\n",
       "gN+8EILmMa10sryJEF8JoU7dYmD6g8YC65gAZUS0MkGYWlOU506AmsdbAFTP8PpBN4hzezcI7L8A\n",
       "VrUgHhb5MBYvWHr3X4hxTHJzL0ICfAHfPo4NDAzvQZyMAKB6hvkMZkgONw8AJSeD2wyMAgwoLAhg\n",
       "LoXGG48PxMFA25gTgAEPdEdKGzjGHFFjuCIApLyTgX8CRCOMBQXHWyG0CixBsEBsE38ADIQEEKsT\n",
       "xbz0NWBn/GHIT2BAZUEyQhUkBbBegIlwgG3jXgAkWApAQfENkuog4bdbhgEasjMYUFjQ8NsITVBW\n",
       "cBv0E0CpEhx+XMCAfAQM7TkI+02g6fACgwgk9UJY8OCDpifmBQwsYGfwKcxn4DyASC/M/xgbmBDh\n",
       "w1QAdZUD6z8Gnt8wFhyow0Ll7btShvNA59g/kGDQREp/PJJrVs1DqGdUgAaz5NxPDDz9ClAWHAhB\n",
       "6Qt8PwwYTgAlDs46tfIB7vzBhki5QMtZFWAsGEhAUR1EML/BgDfDCQNg4MBZ2MEDNPP4cJq3i0GK\n",
       "AWIehEXQPHD5x7MTl0rLuaBsMgHOwgo4kcIJksr5FlOx/gAA6VmSxnbKAJIAAAAASUVORK5CYII=\n",
       "\" style=\"display:inline;vertical-align:middle;\" /></a> <a class=\"ProveItLink\" href=\"proof.ipynb\" style=\"text-decoration: none\">&#x22A2;&nbsp;</a><a class=\"ProveItLink\" href=\"../../../packages/proveit/__pv_it/251502494639118b4892de8e9d720a5fcce840e10/expr.ipynb\"><img src=\"data:image/png;base64,iVBORw0KGgoAAAANSUhEUgAAAAoAAAAJBAMAAAD5iKAgAAAALVBMVEX///8yMjLMzMx2dnaqqqpU\n",
       "VFTu7u5mZmaYmJhERESIiIjc3NwQEBC6uroAAAB+iRisAAAAAXRSTlMAQObYZgAAADlJREFUCNdj\n",
       "YOA9c2EXA8POrvIJDAwJDKkJDAwM3AFAguE6iGAxAJHODAwBDEwSFY0XGNgZ+o4wAABKtAsIcBKm\n",
       "agAAAABJRU5ErkJggg==\n",
       "\" style=\"display:inline;vertical-align:middle;\" /></a></span></td></tr>\n",
       "<tr><td>1</td><td>assumption</td><td></td><td><span style=\"font-size:20px;\"><a class=\"ProveItLink\" href=\"../9f31b40b2b02a7d2ae19c50b1014a5a565a3118a0/expr.ipynb\"><img src=\"data:image/png;base64,iVBORw0KGgoAAAANSUhEUgAAAEkAAAAVBAMAAAD4Ed5jAAAAMFBMVEX///9ERETc3NyqqqpUVFS6\n",
       "urrMzMwyMjIQEBCIiIh2dnYiIiLu7u5mZmaYmJgAAABJJ2g3AAAAAXRSTlMAQObYZgAAAQ5JREFU\n",
       "KM9jYGDgu8eAB7CtUgBRPLsY8AK2ZhDJ+QG/KobrIIKrgYCqFdhV8RCliv0AMapYHbCr4lm7gEEf\n",
       "YcJKKB3RyjQBqoq3AKiS9QPDfBDn9m4Q2H8BrIhJbu5FIPUexM4IYGBI5t3AIIhkiXkAxBc8PiBn\n",
       "AvWktAEZBzgmMPxE9mUFWBmDCpgUfwC0PAHIsD/A9g1JVfoaiDfANnMvABIsBeDw5WxAuGu3DESx\n",
       "FZgEu4trA5CoZWBE8r4JhGJewMCCEl5XGOIfwBUxFUDtffuuFEXVwZn3FeCqGKHMC3w/DNDCfjVS\n",
       "WsERjywbeJrxpwm+BpBnGRfgT188O4G+mXkVd1ptBVN8iwmmewDdCUvOfhSdtgAAAABJRU5ErkJg\n",
       "gg==\n",
       "\" style=\"display:inline;vertical-align:middle;\" /></a> <a class=\"ProveItLink\" href=\"../a30e8051ea5193fd82639d56c9ee06a7ad0c20290/proof.ipynb\" style=\"text-decoration: none\">&#x22A2;&nbsp;</a><a class=\"ProveItLink\" href=\"../7fabcdfac94a94d639f6a5d2f072a262670f257b0/expr.ipynb\"><img src=\"data:image/png;base64,iVBORw0KGgoAAAANSUhEUgAAADUAAAAQBAMAAABEqSrGAAAAMFBMVEX///+YmJhUVFQyMjIQEBBE\n",
       "REQiIiKqqqrMzMyIiIi6urrc3NxmZmZ2dnbu7u4AAADXeCicAAAAAXRSTlMAQObYZgAAALdJREFU\n",
       "GNNjYEABfAy4AfMD3HJcCiim3LnAsB+h+iaUXuLFPYGBl+sDw3wQ71gaCOQfAEtxB845ysDQzpPA\n",
       "EIpkTvECiJv49BgYHrBMYPiJbIcJWJJhE4iof8DxA0mu+R7EUWCzDzNwOiDsS4uDKKkFkzYMrEgO\n",
       "L4JQ7BcYmIDUIYb1AnApbgOoyTKCVkDq6czzG+ByrFDmAcYvBWDGNYSRHCihxJTA544rBNkusF7A\n",
       "Jcc+8xQuKQBgzS1BkMulYgAAAABJRU5ErkJggg==\n",
       "\" style=\"display:inline;vertical-align:middle;\" /></a></span></td></tr>\n",
       "<tr><td>2</td><td>modus ponens</td><td>3, 4</td><td><span style=\"font-size:20px;\"><a class=\"ProveItLink\" href=\"../de381471622dd233b890057708debefe799de8d80/expr.ipynb\"><img src=\"data:image/png;base64,iVBORw0KGgoAAAANSUhEUgAAAF8AAAAVBAMAAADSoS/MAAAAMFBMVEX///9ERETc3NyqqqpUVFS6\n",
       "urrMzMwyMjIQEBCIiIh2dnYiIiLu7u5mZmaYmJgAAABJJ2g3AAAAAXRSTlMAQObYZgAAAV1JREFU\n",
       "OMtjYGDgu8dAHGBbpQCieHYxEAvYmkEk5weiNTBcBxFcDcRrWEFQwwFSNdSQqiEElwatKcpzJ4DF\n",
       "mFY6Wd6Eq+CCCDKcusXA9AeqgbcAGLQL+PZxbIBIMbx+0A0S3g0GfyEaFsSDQ/M9iJ0RADQIyGVO\n",
       "gEgxzGcwQziCuRQcAQa3GRgFGBjYLzAwpLSBIo+BRQAeLo4ozj7eCpbvZOAHuU78AQNDBNhkjglw\n",
       "JZ0okVsFDlnmPwz5QHXcC4BslgKQiH4CLMyZvgENhPthI0QU6NEZDFA/cAE9y6cwn4HzAFjLI6Dn\n",
       "5iC84AChgY4XQQ5W+wcSDJoMPL+BKv4xNjAhnKcOpXkdWP8hazg469TKBww8/QoMPJJrVs1DeEEI\n",
       "SvNIzv2EJaZZFdBjOgERhRuwaODDmUS8GU4YwDTwEaNhF4MUPD/w7IQLT8CpwXJuAChSWiHmLiYl\n",
       "TwMACvVhT2p0snQAAAAASUVORK5CYII=\n",
       "\" style=\"display:inline;vertical-align:middle;\" /></a> <a class=\"ProveItLink\" href=\"../78211904c04808588a4abfac0c50b7b54fadb83d0/proof.ipynb\" style=\"text-decoration: none\">&#x22A2;&nbsp;</a><a class=\"ProveItLink\" href=\"../../../packages/proveit/__pv_it/f8b9edf8e16034727f0aad55bb83e392c3db40d40/expr.ipynb\"><img src=\"data:image/png;base64,iVBORw0KGgoAAAANSUhEUgAAAAsAAAANBAMAAACN24kIAAAAMFBMVEX///+YmJhUVFQyMjIQEBBE\n",
       "REQiIiKqqqrMzMyIiIi6urrc3NxmZmZ2dnbu7u4AAADXeCicAAAAAXRSTlMAQObYZgAAAFhJREFU\n",
       "CNdj4LtzgWH/AwZerg8M8xkY2nkSGEIZGB6wTGD4ycDAUP+A4weQOszA6QCkbBhYFYDUIYb1AkDq\n",
       "6czzGxhA4BoQMyXwuQMptgusF4AU+8xTQBIAUqMVoSp/SLMAAAAASUVORK5CYII=\n",
       "\" style=\"display:inline;vertical-align:middle;\" /></a></span></td></tr>\n",
       "<tr><td>3</td><td>assumption</td><td></td><td><span style=\"font-size:20px;\"><a class=\"ProveItLink\" href=\"../da9eab0cdec3fecd7772f3362a50642e226e03950/expr.ipynb\"><img src=\"data:image/png;base64,iVBORw0KGgoAAAANSUhEUgAAAEkAAAAVBAMAAAD4Ed5jAAAAMFBMVEX///9ERETc3NyqqqpUVFS6\n",
       "urrMzMwyMjIQEBCIiIh2dnYiIiLu7u5mZmaYmJgAAABJJ2g3AAAAAXRSTlMAQObYZgAAARxJREFU\n",
       "KM9jYGDgu8eAB7CtUgBRPLsY8AK2ZhDJ+QG/KobrIIKrgYCqFdhV8RCliv0AMapYHbCrYlrpZHkT\n",
       "Ib4SQp26xcD0B6qKtwDIZ3j9oBvEub0bBPZfAKtaEA8OgPcgdkYAkM8wn8EMyRLzAFBAGdxmYBQA\n",
       "OhOoJ6UNKHCAwRHVlxUBIK92MvBPAPLEHzAwRCSAxDtRVKWvAZHMfxjygZLcC4BsFqC7GJi+QUIJ\n",
       "4q7dMgxQF89ggLqLawMDwyOgK+cgjDKBhtsFBhGkkGD+x9jANAGuiKkAQvM6sP5DUsUjuWbVPIRR\n",
       "jApQP0jO/YQ77NngLJBrcKmCAW+GEwYwVXw4Ve1ikIKnL56duFRZzgVHQSuYw7eYYLoHAD7QTr3l\n",
       "h9LtAAAAAElFTkSuQmCC\n",
       "\" style=\"display:inline;vertical-align:middle;\" /></a> <a class=\"ProveItLink\" href=\"../067861e1a9de84e4adfb63709883df8aa7ad47da0/proof.ipynb\" style=\"text-decoration: none\">&#x22A2;&nbsp;</a><a class=\"ProveItLink\" href=\"../add07ed78641c4ceb7dae3371fef13a20f9020140/expr.ipynb\"><img src=\"data:image/png;base64,iVBORw0KGgoAAAANSUhEUgAAADcAAAAQBAMAAABAXPr7AAAAMFBMVEX///+6uroyMjJERETMzMwQ\n",
       "EBAiIiKYmJju7u5mZmaqqqpUVFSIiIh2dnbc3NwAAAAWgogoAAAAAXRSTlMAQObYZgAAAMNJREFU\n",
       "GNNjYEAFDQx4gAY+SWlU7tvTr04egPN4IUyOmxcY3jcwcFxgT2dNAPI508DgJ0QN4weG80CKgecD\n",
       "lwPCIC5FEOnFmcBgDDSAgdsAxZqmQJCjWQ8w/AHxWA8gy7Hogn2zvoHlC4h+7wD2HdTOZIhPJzHw\n",
       "BDAwsD84z8CD8DrXBgitycAMZK0vMGV4gzD1EZSezSBfwMDQfLb3TgFC0g5KN5+Z/wAjhBCeuoYz\n",
       "FLkTOKJwSrJdYL6AU5LrzEQgCQAs9DJLrF+J5gAAAABJRU5ErkJggg==\n",
       "\" style=\"display:inline;vertical-align:middle;\" /></a></span></td></tr>\n",
       "<tr><td>4</td><td>assumption</td><td></td><td><span style=\"font-size:20px;\"><a class=\"ProveItLink\" href=\"../de27bb4dfb854e77047939b59118c118f4822fdc0/expr.ipynb\"><img src=\"data:image/png;base64,iVBORw0KGgoAAAANSUhEUgAAAB8AAAAVBAMAAABMGyhsAAAAMFBMVEX///9ERETc3NyqqqpUVFS6\n",
       "urrMzMwyMjIQEBCIiIh2dnYiIiLu7u5mZmaYmJgAAABJJ2g3AAAAAXRSTlMAQObYZgAAAJ5JREFU\n",
       "GNNjYGDgu8cAAWyrFEAUzy4GGGBrBpGcH+ACDNdBBFcDQmAFJQJaU5TnToAK8BYArV7At49jAwPD\n",
       "e5BARgBQFdBy5gQGBvYLDAwpbSDHMbAIgA0Rf8DAEJEAYnFMAJHcC4AESwGIqZ/AcABqBhfQMD6F\n",
       "+QycB5CstX8gwaCJ7I6Ds06tfEC80/ka0MKDZycixFrBFN9i5DAFABG/KycTh4UTAAAAAElFTkSu\n",
       "QmCC\n",
       "\" style=\"display:inline;vertical-align:middle;\" /></a> <a class=\"ProveItLink\" href=\"../84206dddb1b176f38e4ac3dab82159c3a33288d20/proof.ipynb\" style=\"text-decoration: none\">&#x22A2;&nbsp;</a><a class=\"ProveItLink\" href=\"../../../packages/proveit/__pv_it/530be409e3083890784cf1d7b28c9e67e90af9360/expr.ipynb\"><img src=\"data:image/png;base64,iVBORw0KGgoAAAANSUhEUgAAAAsAAAAJBAMAAAAWSsseAAAAKlBMVEX///9ERETMzMwQEBAiIiKY\n",
       "mJju7u5mZmaqqqpUVFSIiIh2dnbc3NwAAAA/vyDhAAAAAXRSTlMAQObYZgAAAENJREFUCNdjYDi9\n",
       "8sTyBQxsG1hdmR0YuBm4LnAoMLAxcAowgADzAjB1VoEhgYH1wFoGrgSG3gBhhlMMDImrs3cFMAAA\n",
       "t0YN+iTRa+sAAAAASUVORK5CYII=\n",
       "\" style=\"display:inline;vertical-align:middle;\" /></a></span></td></tr>\n",
       "</table>"
      ],
      "text/plain": [
       "<proveit._core_.proof._ShowProof at 0x7f950009de10>"
      ]
     },
     "execution_count": 1,
     "metadata": {},
     "output_type": "execute_result"
    }
   ],
   "source": [
    "import proveit\n",
    "%show_proof"
   ]
  },
  {
   "cell_type": "code",
   "execution_count": null,
   "metadata": {},
   "outputs": [],
   "source": []
  }
 ],
 "metadata": {
  "kernelspec": {
   "display_name": "Python 3",
   "language": "python",
   "name": "python3"
  }
 },
 "nbformat": 4,
 "nbformat_minor": 0
}
