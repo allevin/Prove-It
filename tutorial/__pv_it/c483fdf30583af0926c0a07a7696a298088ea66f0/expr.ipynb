{
 "cells": [
  {
   "cell_type": "markdown",
   "metadata": {},
   "source": [
    "Expression of type <a class=\"ProveItLink\" href=\"../../../doc/html/api/proveit.ExprTuple.html\">ExprTuple</a>\n",
    "=======================\n",
    "# from context <a class=\"ProveItLink\" href=\"../../_context_.ipynb\">tutorial</a>"
   ]
  },
  {
   "cell_type": "code",
   "execution_count": 1,
   "metadata": {},
   "outputs": [],
   "source": [
    "# import Expression classes needed to build the expression\n",
    "from proveit import ExprTuple\n",
    "from proveit._common_ import X, Y\n",
    "from proveit.logic import Implies"
   ]
  },
  {
   "cell_type": "code",
   "execution_count": 2,
   "metadata": {},
   "outputs": [
    {
     "data": {
      "text/html": [
       "<strong id=\"expr\">expr:</strong> <a class=\"ProveItLink\" href=\"expr.ipynb\"><img src=\"data:image/png;base64,iVBORw0KGgoAAAANSUhEUgAAAFAAAAAVBAMAAAAjqnRBAAAAMFBMVEX////c3NwiIiJERESqqqqY\n",
       "mJh2dnZmZmYQEBDu7u4yMjJUVFTMzMyIiIi6uroAAAAs73DqAAAAAXRSTlMAQObYZgAAAUZJREFU\n",
       "KM9jYCAa8F0grIb1AZA4DcTR/9sYpH5sQZdn3PR/IwODx6cLDDVA3kqQ0H4HBpYNmCbx/AISzA4M\n",
       "DFwMDLxgm88vYBBHUjABxtAXYGDIA9mdwMABFuT6yFiApHAljHE/gYEVaCADZwPDK7AAy/fZyFa+\n",
       "hjHmNzC8BTNMGMogIv07kRWywUKC+R9PApiRzrAUIpIPlWJXAoPvUIUsv6dDGF4MfRDGfgUU77Ks\n",
       "gzL6oWHxguEfxCDpf6gBMwtqgD00AM5DFdbwfEYNwGVQBV0MMIUtYMc/AIcYwo3KUHWM3xhgVpuC\n",
       "qHsMDPHI4QiPJVaYi6KA/gYaAwwC/g9ICqVgDG6YaDrDIwaGx/16DHzrPyGFpCGUZt//Gxps6xg4\n",
       "BLAkqwPoAsAoZE0gJtGComolMQpnAbE0MQo3goKKiKzAe4ABAJdMUFhxNcPvAAAAAElFTkSuQmCC\n",
       "\" style=\"display:inline;vertical-align:middle;\" /></a><br>"
      ],
      "text/plain": [
       "expr: (X => Y)"
      ]
     },
     "execution_count": 2,
     "metadata": {},
     "output_type": "execute_result"
    }
   ],
   "source": [
    "# build up the expression from sub-expressions\n",
    "expr = ExprTuple(Implies(X, Y))"
   ]
  },
  {
   "cell_type": "code",
   "execution_count": 3,
   "metadata": {},
   "outputs": [
    {
     "name": "stdout",
     "output_type": "stream",
     "text": [
      "Passed sanity check: built 'expr' is the same as the stored Expression.\n"
     ]
    }
   ],
   "source": [
    "# check that the built expression is the same as the stored expression\n",
    "%check_expr"
   ]
  },
  {
   "cell_type": "code",
   "execution_count": 4,
   "metadata": {},
   "outputs": [
    {
     "data": {
      "text/html": [
       "<table><tr><th>&nbsp;</th><th>core type</th><th>sub-expressions</th><th>expression</th></tr>\n",
       "<tr><td>0</td><td>ExprTuple</td><td>1</td><td><a class=\"ProveItLink\" href=\"expr.ipynb\"><img src=\"data:image/png;base64,iVBORw0KGgoAAAANSUhEUgAAAFAAAAAVBAMAAAAjqnRBAAAAMFBMVEX////c3NwiIiJERESqqqqY\n",
       "mJh2dnZmZmYQEBDu7u4yMjJUVFTMzMyIiIi6uroAAAAs73DqAAAAAXRSTlMAQObYZgAAAUZJREFU\n",
       "KM9jYCAa8F0grIb1AZA4DcTR/9sYpH5sQZdn3PR/IwODx6cLDDVA3kqQ0H4HBpYNmCbx/AISzA4M\n",
       "DFwMDLxgm88vYBBHUjABxtAXYGDIA9mdwMABFuT6yFiApHAljHE/gYEVaCADZwPDK7AAy/fZyFa+\n",
       "hjHmNzC8BTNMGMogIv07kRWywUKC+R9PApiRzrAUIpIPlWJXAoPvUIUsv6dDGF4MfRDGfgUU77Ks\n",
       "gzL6oWHxguEfxCDpf6gBMwtqgD00AM5DFdbwfEYNwGVQBV0MMIUtYMc/AIcYwo3KUHWM3xhgVpuC\n",
       "qHsMDPHI4QiPJVaYi6KA/gYaAwwC/g9ICqVgDG6YaDrDIwaGx/16DHzrPyGFpCGUZt//Gxps6xg4\n",
       "BLAkqwPoAsAoZE0gJtGComolMQpnAbE0MQo3goKKiKzAe4ABAJdMUFhxNcPvAAAAAElFTkSuQmCC\n",
       "\" style=\"display:inline;vertical-align:middle;\" /></a></td></tr>\n",
       "<tr><td>1</td><td>Operation</td><td>operator:&nbsp;2<br>operands:&nbsp;3<br></td><td><a class=\"ProveItLink\" href=\"../814de01093c32d153fe0a3fa68716272cfff253d0/expr.ipynb\"><img src=\"data:image/png;base64,iVBORw0KGgoAAAANSUhEUgAAAEMAAAAPBAMAAABNfm9XAAAAMFBMVEX///9ERES6uroiIiKIiIju\n",
       "7u5mZmbMzMyqqqoyMjLc3Nx2dnYQEBBUVFSYmJgAAADDc6PYAAAAAXRSTlMAQObYZgAAANpJREFU\n",
       "KM9jYGB4+/80w8o/NxjQANfl/7cYGHo+O4A49xsYOC4wYAD2n0CCsQHMrp/AsAxJKgDGsF/AwLAJ\n",
       "wuT8xZWApGQqjOG/gYEPYggDx7dYZAt0YYz4AwwqMPb5q8hKuB2gDMZP7BtggvuhgmzGYPANKszx\n",
       "Nwyu774Bilc4JsFMh/uTbe0nVO9GHoLQ8nDPpbN/RA2Q2VCpk3DnKYBDAOEWQ6gKrt8wJU4MDO+R\n",
       "wwUe0nww+9mAHuP/gKRkJYzBCxVVPG/EwDT/M1LISMH03v/rwIAdFKDxAbfxOcdbbZgaAAAAAElF\n",
       "TkSuQmCC\n",
       "\" style=\"display:inline;vertical-align:middle;\" /></a></td></tr>\n",
       "<tr><td>2</td><td>Literal</td><td></td><td><a class=\"ProveItLink\" href=\"../../../packages/proveit/logic/boolean/implication/__pv_it/e5c030cabcb650938f92dee8256fe11cd12bf9b30/expr.ipynb\"><img src=\"data:image/png;base64,iVBORw0KGgoAAAANSUhEUgAAABMAAAANBAMAAAC5okgUAAAALVBMVEX////c3NxERETMzMwQEBCq\n",
       "qqoiIiJmZmaIiIh2dnZUVFS6uroyMjLu7u4AAACPpZJTAAAAAXRSTlMAQObYZgAAAD1JREFUCNdj\n",
       "YAABXgY44LkAZ3IvQAjPABFlaSCQV4AQjtkAZ/IegbNt5sLUpunC5aPgLMYDcCaTAJzJDCIA2yMN\n",
       "HCCUuIIAAAAASUVORK5CYII=\n",
       "\" style=\"display:inline;vertical-align:middle;\" /></a></td></tr>\n",
       "<tr><td>3</td><td>ExprTuple</td><td>4, 5</td><td><a class=\"ProveItLink\" href=\"../c1d4d7faa429fdddbcd48a1ab8ee8bf4d34f0b0e0/expr.ipynb\"><img src=\"data:image/png;base64,iVBORw0KGgoAAAANSUhEUgAAADcAAAAVBAMAAAAQkWtIAAAAMFBMVEX////c3NwiIiJERESqqqqY\n",
       "mJh2dnZmZmYQEBDu7u4yMjJUVFTMzMyIiIi6uroAAAAs73DqAAAAAXRSTlMAQObYZgAAATBJREFU\n",
       "KM9jYMAL+C5gF48DEaeBOPp/G4PUjy0gLuOm/xsZGDw+XWA/AOStBAntd2Bg2QDRwfMLSDA7MDAs\n",
       "YGDgBZt6fgGDOMw8fQEGhjwgHcbAwDEBJMD1kbEAJnk/gYEVqJFhBgPDK7AAy/fZcJfMb2B4ywAx\n",
       "ugwi0r8TLsn8jycBRLMVMCyFiOQjPMTyezqEXsDQBxHZr4DwYT/E3XwNDP/ADHbpfwhJ+wkQP32A\n",
       "StbwfEZIdjHAJFvAdj8A+w4CGL8xwIw1BdH3GBjiQf4Em8cKtYF1AUM6yEag0/k/MDBwfgIJcn+A\n",
       "SAK98oiB4XG/HgPf+k87GTj7gWaz7/8N8RbXAwYOAeToQ+YAg481AYnPihyhubAowyLJCYwyBmkk\n",
       "AeREwQ2yghFHMrnDwAAARIhImm7fX7wAAAAASUVORK5CYII=\n",
       "\" style=\"display:inline;vertical-align:middle;\" /></a></td></tr>\n",
       "<tr><td>4</td><td>Variable</td><td></td><td><a class=\"ProveItLink\" href=\"../../../packages/proveit/__pv_it/66cd610ba99eba68f315bbcf220cc988223124550/expr.ipynb\"><img src=\"data:image/png;base64,iVBORw0KGgoAAAANSUhEUgAAABIAAAAOBAMAAADQ9FGEAAAAMFBMVEX///9ERES6uroiIiKIiIju\n",
       "7u5mZmbMzMyqqqoyMjLc3Nx2dnYQEBBUVFSYmJgAAADDc6PYAAAAAXRSTlMAQObYZgAAAGRJREFU\n",
       "CNdjYGB4+/80w8o/NxiA4H4DA8cFEIOhfgLDMjCDgfMXVwKExfEtlgEKzl+FsfY7wFj3DaAMtrWf\n",
       "oKx09o8QBrcCg/0CMMuJgeE92Dy2DQwM/B+ADMXzRgxM8z9fZQAAyVAaemEFKr0AAAAASUVORK5C\n",
       "YII=\n",
       "\" style=\"display:inline;vertical-align:middle;\" /></a></td></tr>\n",
       "<tr><td>5</td><td>Variable</td><td></td><td><a class=\"ProveItLink\" href=\"../../../packages/proveit/__pv_it/d787b05c0222bf7633141c210c6c9992f7bcfcbc0/expr.ipynb\"><img src=\"data:image/png;base64,iVBORw0KGgoAAAANSUhEUgAAABAAAAAOBAMAAADUAYG5AAAAMFBMVEX///9mZmbu7u6YmJi6urp2\n",
       "dnZEREQyMjLMzMyIiIgQEBCqqqoiIiJUVFTc3NwAAAA2WfgnAAAAAXRSTlMAQObYZgAAAFlJREFU\n",
       "CNdjeHv+7wMG7vUnGRj6CxgYGLKBmOcfAwOrA5DB+ZWBwRpIMzD9YmCZAGIw5Du0gmmG/ZcEIAyu\n",
       "vxCage0TlMFVAGW8D4Ay7B2gjPtQWvb/TRAFACz0FH9TvjwoAAAAAElFTkSuQmCC\n",
       "\" style=\"display:inline;vertical-align:middle;\" /></a></td></tr>\n",
       "</table>\n"
      ],
      "text/plain": [
       "0. (X => Y)\n",
       "   core type: ExprTuple\n",
       "   sub-expressions: 1\n",
       "1. X => Y\n",
       "   core type: Operation\n",
       "   operator: 2\n",
       "   operands: 3\n",
       "2. =>\n",
       "   core type: Literal\n",
       "   sub-expressions: \n",
       "3. (X , Y)\n",
       "   core type: ExprTuple\n",
       "   sub-expressions: 4, 5\n",
       "4. X\n",
       "   core type: Variable\n",
       "   sub-expressions: \n",
       "5. Y\n",
       "   core type: Variable\n",
       "   sub-expressions: "
      ]
     },
     "execution_count": 4,
     "metadata": {},
     "output_type": "execute_result"
    }
   ],
   "source": [
    "# display the expression information\n",
    "expr.exprInfo()"
   ]
  },
  {
   "cell_type": "code",
   "execution_count": null,
   "metadata": {},
   "outputs": [],
   "source": []
  }
 ],
 "metadata": {
  "kernelspec": {
   "display_name": "Python 3",
   "language": "python",
   "name": "python3"
  }
 },
 "nbformat": 4,
 "nbformat_minor": 0
}
