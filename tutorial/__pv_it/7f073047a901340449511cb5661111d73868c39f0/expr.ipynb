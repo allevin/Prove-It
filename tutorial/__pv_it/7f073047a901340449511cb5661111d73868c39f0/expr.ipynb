{
 "cells": [
  {
   "cell_type": "markdown",
   "metadata": {},
   "source": [
    "Expression of type <a class=\"ProveItLink\" href=\"../../../doc/html/api/demo_operations.Multiply.html\">Multiply</a>\n",
    "=======================\n",
    "# from context <a class=\"ProveItLink\" href=\"../../_context_.ipynb\">tutorial</a>"
   ]
  },
  {
   "cell_type": "code",
   "execution_count": 1,
   "metadata": {},
   "outputs": [],
   "source": [
    "# import Expression classes needed to build the expression\n",
    "import sys\n",
    "sys.path.insert(1, \"../26a10770926a1c253fe9c918ab88d77630e3ab7a0\")\n",
    "from demo_operations import Factorial, Multiply\n",
    "from proveit._common_ import x"
   ]
  },
  {
   "cell_type": "code",
   "execution_count": 2,
   "metadata": {},
   "outputs": [
    {
     "data": {
      "text/html": [
       "<strong id=\"expr\">expr:</strong> <a class=\"ProveItLink\" href=\"expr.ipynb\"><img src=\"data:image/png;base64,iVBORw0KGgoAAAANSUhEUgAAADYAAAAOBAMAAACWQvIuAAAALVBMVEX///8yMjJERETMzMwQEBAi\n",
       "IiKYmJju7u5mZmaqqqpUVFSIiIh2dnbc3NwAAAASYyFDAAAAAXRSTlMAQObYZgAAAJ1JREFUGNNj\n",
       "YMAF2J1wSjHwvsMtx/4UtxzDQyS2MBBfROJ7MTDc2XVzxwYQ+6oBA28wWBQiFMHAfoAtjCUAbHkw\n",
       "SBpkE0RIh4GHgfsBJ1iI4aotRBtUaBkDOwOXAszVoRA1UKGTQMyyAU0OKrQZiO8ZMBSgmAkVMmdg\n",
       "u7CPgbsAxS1woXkJKgy3GVD8ABEChkvRnprTCah+hwixOwEAkgMyPFt8phAAAAAASUVORK5CYII=\n",
       "\" style=\"display:inline;vertical-align:middle;\" /></a><br>"
      ],
      "text/plain": [
       "expr: x * x!"
      ]
     },
     "execution_count": 2,
     "metadata": {},
     "output_type": "execute_result"
    }
   ],
   "source": [
    "# build up the expression from sub-expressions\n",
    "expr = Multiply(x, Factorial(x))"
   ]
  },
  {
   "cell_type": "code",
   "execution_count": 3,
   "metadata": {},
   "outputs": [
    {
     "name": "stdout",
     "output_type": "stream",
     "text": [
      "Passed sanity check: built 'expr' is the same as the stored Expression.\n"
     ]
    }
   ],
   "source": [
    "# check that the built expression is the same as the stored expression\n",
    "%check_expr"
   ]
  },
  {
   "cell_type": "code",
   "execution_count": 4,
   "metadata": {},
   "outputs": [
    {
     "data": {
      "text/html": [
       "<table><tr><th>&nbsp;</th><th>core type</th><th>sub-expressions</th><th>expression</th></tr>\n",
       "<tr><td>0</td><td>Operation</td><td>operator:&nbsp;1<br>operands:&nbsp;2<br></td><td><a class=\"ProveItLink\" href=\"expr.ipynb\"><img src=\"data:image/png;base64,iVBORw0KGgoAAAANSUhEUgAAADYAAAAOBAMAAACWQvIuAAAALVBMVEX///8yMjJERETMzMwQEBAi\n",
       "IiKYmJju7u5mZmaqqqpUVFSIiIh2dnbc3NwAAAASYyFDAAAAAXRSTlMAQObYZgAAAJ1JREFUGNNj\n",
       "YMAF2J1wSjHwvsMtx/4UtxzDQyS2MBBfROJ7MTDc2XVzxwYQ+6oBA28wWBQiFMHAfoAtjCUAbHkw\n",
       "SBpkE0RIh4GHgfsBJ1iI4aotRBtUaBkDOwOXAszVoRA1UKGTQMyyAU0OKrQZiO8ZMBSgmAkVMmdg\n",
       "u7CPgbsAxS1woXkJKgy3GVD8ABEChkvRnprTCah+hwixOwEAkgMyPFt8phAAAAAASUVORK5CYII=\n",
       "\" style=\"display:inline;vertical-align:middle;\" /></a></td></tr>\n",
       "<tr><td>1</td><td>Literal</td><td></td><td><a class=\"ProveItLink\" href=\"../7fa9fd20fee7806a99050bf24ffcbd2251e9b7fe0/expr.ipynb\"><img src=\"data:image/png;base64,iVBORw0KGgoAAAANSUhEUgAAAAsAAAAKBAMAAACQ3rmwAAAAElBMVEX///8iIiLc3NzMzMwyMjIA\n",
       "AAASH0o5AAAAAXRSTlMAQObYZgAAACtJREFUCNdjcGZgYFBhYFA0YGASZgBhIAvINQJygFxBAyQK\n",
       "IghVAtUA0Q4AhEYDuQjrDycAAAAASUVORK5CYII=\n",
       "\" style=\"display:inline;vertical-align:middle;\" /></a></td></tr>\n",
       "<tr><td>2</td><td>ExprTuple</td><td>5, 3</td><td><a class=\"ProveItLink\" href=\"../f5b27fd20e6799a7b5813ea483b815f7ad23fc630/expr.ipynb\"><img src=\"data:image/png;base64,iVBORw0KGgoAAAANSUhEUgAAADMAAAAVBAMAAAAZessyAAAAMFBMVEX////c3NwiIiJERESqqqqY\n",
       "mJh2dnZmZmYQEBDu7u4yMjJUVFTMzMyIiIi6uroAAAAs73DqAAAAAXRSTlMAQObYZgAAASdJREFU\n",
       "KM99kj9Lw1AUxX8xTU1Mn80gLiJ2ce8iuAj9AIrRwVEyKQ6BTm5CEVc1IJRuZnFwU/wC2V26aBGF\n",
       "iqNTENxEvHm2akjwwftz77nvvHvPffDPmO6Xebez5bbo7zWZTGS/LEILKcSgSvjOG7AFdlSE6nKl\n",
       "B68lOdhXYLbYl+Ps48zgm9cIr9cOmGhDtc0FOIG1aDc01GXTP8QMoBJzIgGotJJoKGDIKq4v5Xb4\n",
       "lFu4zdErETeyVltQSzNI3v2t4FimSjR0pGtMGNVgfAhJLdKES2B5Q1SkwQ2V8qBjrJhdWPeXmcd5\n",
       "k7TezY7R12pI8i9wdt8NfZxTD2dlb+dOy8vUM7b30x0vp75wBmPDyokV/m1KDnJEYebGVq47bsZu\n",
       "lH6AJ/gCeUw/Iz+cZhwAAAAASUVORK5CYII=\n",
       "\" style=\"display:inline;vertical-align:middle;\" /></a></td></tr>\n",
       "<tr><td>3</td><td>Operation</td><td>operator:&nbsp;4<br>operand:&nbsp;5<br></td><td><a class=\"ProveItLink\" href=\"../434ce78b91845cc203c1f43784ef63a35e5732f20/expr.ipynb\"><img src=\"data:image/png;base64,iVBORw0KGgoAAAANSUhEUgAAABAAAAAOBAMAAADUAYG5AAAALVBMVEX///8yMjJERETMzMwQEBAi\n",
       "IiKYmJju7u5mZmaqqqpUVFSIiIh2dnbc3NwAAAASYyFDAAAAAXRSTlMAQObYZgAAAGZJREFUCNdj\n",
       "YAADdicIzcD7DspgfwplMDyEMbwYGO7surljA0MEA/sBtjCWAAYdBh4G7gecBgzLGNgZuBSAak4C\n",
       "McsGILEZiO8ZMBQwmDOwXdjHwF0A5M9LUGG4DTK5aE/N6QSgpQBu6hcw6Hx/hgAAAABJRU5ErkJg\n",
       "gg==\n",
       "\" style=\"display:inline;vertical-align:middle;\" /></a></td></tr>\n",
       "<tr><td>4</td><td>Literal</td><td></td><td><a class=\"ProveItLink\" href=\"../d6af88116966bca28fcbee5fe103a74f1e8a81d50/expr.ipynb\"><img src=\"data:image/png;base64,iVBORw0KGgoAAAANSUhEUgAAAAMAAAAOBAMAAAAYmLtSAAAALVBMVEX////MzMyIiIiqqqqYmJh2\n",
       "dnZmZmZUVFQyMjIiIiLc3NxEREQQEBDu7u4AAACiA/ybAAAAAXRSTlMAQObYZgAAADBJREFUCNdj\n",
       "uLOBYd0DhnsTGPgaGHgKGDgTGLgDGNgdGFgNGJgEGBgvMAABUPbOBgD2TQqw6cTpzgAAAABJRU5E\n",
       "rkJggg==\n",
       "\" style=\"display:inline;vertical-align:middle;\" /></a></td></tr>\n",
       "<tr><td>5</td><td>Variable</td><td></td><td><a class=\"ProveItLink\" href=\"../../../packages/proveit/__pv_it/530be409e3083890784cf1d7b28c9e67e90af9360/expr.ipynb\"><img src=\"data:image/png;base64,iVBORw0KGgoAAAANSUhEUgAAAAsAAAAJBAMAAAAWSsseAAAAKlBMVEX///9ERETMzMwQEBAiIiKY\n",
       "mJju7u5mZmaqqqpUVFSIiIh2dnbc3NwAAAA/vyDhAAAAAXRSTlMAQObYZgAAAENJREFUCNdjYDi9\n",
       "8sTyBQxsG1hdmR0YuBm4LnAoMLAxcAowgADzAjB1VoEhgYH1wFoGrgSG3gBhhlMMDImrs3cFMAAA\n",
       "t0YN+iTRa+sAAAAASUVORK5CYII=\n",
       "\" style=\"display:inline;vertical-align:middle;\" /></a></td></tr>\n",
       "</table>\n"
      ],
      "text/plain": [
       "0. x * x!\n",
       "   core type: Operation\n",
       "   operator: 1\n",
       "   operands: 2\n",
       "1. *\n",
       "   core type: Literal\n",
       "   sub-expressions: \n",
       "2. (x , x!)\n",
       "   core type: ExprTuple\n",
       "   sub-expressions: 5, 3\n",
       "3. x!\n",
       "   core type: Operation\n",
       "   operator: 4\n",
       "   operand: 5\n",
       "4. !\n",
       "   core type: Literal\n",
       "   sub-expressions: \n",
       "5. x\n",
       "   core type: Variable\n",
       "   sub-expressions: "
      ]
     },
     "execution_count": 4,
     "metadata": {},
     "output_type": "execute_result"
    }
   ],
   "source": [
    "# display the expression information\n",
    "expr.exprInfo()"
   ]
  },
  {
   "cell_type": "code",
   "execution_count": null,
   "metadata": {},
   "outputs": [],
   "source": []
  }
 ],
 "metadata": {
  "kernelspec": {
   "display_name": "Python 3",
   "language": "python",
   "name": "python3"
  }
 },
 "nbformat": 4,
 "nbformat_minor": 0
}
