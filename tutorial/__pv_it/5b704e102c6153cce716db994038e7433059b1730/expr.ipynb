{
 "cells": [
  {
   "cell_type": "markdown",
   "metadata": {},
   "source": [
    "Expression of type <a class=\"ProveItLink\" href=\"../../../doc/html/api/proveit.Literal.html\">Literal</a>\n",
    "=======================\n",
    "# from context <a class=\"ProveItLink\" href=\"../../_context_.ipynb\">tutorial</a>"
   ]
  },
  {
   "cell_type": "code",
   "execution_count": 1,
   "metadata": {},
   "outputs": [],
   "source": [
    "# import Expression classes needed to build the expression\n",
    "from proveit import Literal"
   ]
  },
  {
   "cell_type": "code",
   "execution_count": 2,
   "metadata": {},
   "outputs": [
    {
     "data": {
      "text/html": [
       "<strong id=\"expr\">expr:</strong> <a class=\"ProveItLink\" href=\"expr.ipynb\"><img src=\"data:image/png;base64,iVBORw0KGgoAAAANSUhEUgAAABwAAAAeBAMAAADN62OsAAAAMFBMVEX///9ERER2dnYyMjJUVFQQ\n",
       "EBBmZmaYmJi6urrc3Nzu7u7MzMyqqqqIiIgiIiIAAABU1bTfAAAAAXRSTlMAQObYZgAAALRJREFU\n",
       "GNNjeP8fAf4yMJz/v4EBBLhmlMV/ZWBg+f+AAQo47A8wMLz/AuMyMBkwMOz/XwDnZzMwsP//Ceey\n",
       "A7H8PwZksPR/AjKX4/8fFGn9rwuQucz/DZC5XPGfUFSf/9+AzGX7H4Ui/R5V9fxXKNyrE1Ac8htF\n",
       "cv8BFHtjUSSZHVC4wig8JoQtPEBcirDlDIotHAFAFyFs0U9g4AqCcebkA2OA+bMxGNjF//8PDMN8\n",
       "1DhCBQDFuEvkgeDDagAAAABJRU5ErkJggg==\n",
       "\" style=\"display:inline;vertical-align:middle;\" /></a><br>"
      ],
      "text/plain": [
       "expr: sum"
      ]
     },
     "execution_count": 2,
     "metadata": {},
     "output_type": "execute_result"
    }
   ],
   "source": [
    "# build up the expression from sub-expressions\n",
    "expr = Literal(\"sum\", latexFormat = r\"\\sum\")"
   ]
  },
  {
   "cell_type": "code",
   "execution_count": 3,
   "metadata": {},
   "outputs": [
    {
     "name": "stdout",
     "output_type": "stream",
     "text": [
      "Passed sanity check: built 'expr' is the same as the stored Expression.\n"
     ]
    }
   ],
   "source": [
    "# check that the built expression is the same as the stored expression\n",
    "%check_expr"
   ]
  },
  {
   "cell_type": "code",
   "execution_count": 4,
   "metadata": {},
   "outputs": [
    {
     "data": {
      "text/html": [
       "<table><tr><th>&nbsp;</th><th>core type</th><th>sub-expressions</th><th>expression</th></tr>\n",
       "<tr><td>0</td><td>Literal</td><td></td><td><a class=\"ProveItLink\" href=\"expr.ipynb\"><img src=\"data:image/png;base64,iVBORw0KGgoAAAANSUhEUgAAABwAAAAeBAMAAADN62OsAAAAMFBMVEX///9ERER2dnYyMjJUVFQQ\n",
       "EBBmZmaYmJi6urrc3Nzu7u7MzMyqqqqIiIgiIiIAAABU1bTfAAAAAXRSTlMAQObYZgAAALRJREFU\n",
       "GNNjeP8fAf4yMJz/v4EBBLhmlMV/ZWBg+f+AAQo47A8wMLz/AuMyMBkwMOz/XwDnZzMwsP//Ceey\n",
       "A7H8PwZksPR/AjKX4/8fFGn9rwuQucz/DZC5XPGfUFSf/9+AzGX7H4Ui/R5V9fxXKNyrE1Ac8htF\n",
       "cv8BFHtjUSSZHVC4wig8JoQtPEBcirDlDIotHAFAFyFs0U9g4AqCcebkA2OA+bMxGNjF//8PDMN8\n",
       "1DhCBQDFuEvkgeDDagAAAABJRU5ErkJggg==\n",
       "\" style=\"display:inline;vertical-align:middle;\" /></a></td></tr>\n",
       "</table>\n"
      ],
      "text/plain": [
       "0. sum\n",
       "   core type: Literal\n",
       "   sub-expressions: "
      ]
     },
     "execution_count": 4,
     "metadata": {},
     "output_type": "execute_result"
    }
   ],
   "source": [
    "# display the expression information\n",
    "expr.exprInfo()"
   ]
  },
  {
   "cell_type": "code",
   "execution_count": null,
   "metadata": {},
   "outputs": [],
   "source": []
  }
 ],
 "metadata": {
  "kernelspec": {
   "display_name": "Python 3",
   "language": "python",
   "name": "python3"
  }
 },
 "nbformat": 4,
 "nbformat_minor": 0
}
