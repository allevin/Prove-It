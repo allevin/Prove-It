{
 "cells": [
  {
   "cell_type": "markdown",
   "metadata": {},
   "source": [
    "Expression of type <a class=\"ProveItLink\" href=\"../../../doc/html/api/proveit.logic.Implies.html\">Implies</a>\n",
    "=======================\n",
    "# from context <a class=\"ProveItLink\" href=\"../../_context_.ipynb\">tutorial</a>"
   ]
  },
  {
   "cell_type": "code",
   "execution_count": 1,
   "metadata": {},
   "outputs": [],
   "source": [
    "# import Expression classes needed to build the expression\n",
    "from proveit._common_ import A, B, C\n",
    "from proveit.logic import Implies"
   ]
  },
  {
   "cell_type": "code",
   "execution_count": 2,
   "metadata": {},
   "outputs": [
    {
     "data": {
      "text/html": [
       "<strong id=\"expr\">expr:</strong> <a class=\"ProveItLink\" href=\"expr.ipynb\"><img src=\"data:image/png;base64,iVBORw0KGgoAAAANSUhEUgAAAL8AAAAVBAMAAADlQyK9AAAAMFBMVEX////c3NwiIiJERESqqqqY\n",
       "mJh2dnZmZmYQEBDu7u4yMjJUVFTMzMyIiIi6uroAAAAs73DqAAAAAXRSTlMAQObYZgAAAkNJREFU\n",
       "OMu1lD1IHEEUx9+qm9XLui4YCCSFcKlCiksKIabRWotcZRMwdiaFRISYdB7ExiZaBhHZIIpHINoJ\n",
       "LuEklSSFB2kVlzQJSZNAPlBJzMx7M2/25nYtDvLgzczu7/13Zt+8GYD/bkG9NaZsTHm+vafubR67\n",
       "dxbHd5IM2PVh+7Ez5e0CSM/jAFV63MyKQfZMfOFvBnxQhuBpGSIxjCCfd1MW3NKimVoPkPl/hJ8y\n",
       "5LCl66J5FMKo6EahWax5JykuzYYcU9AfQdb9XUz/q/GnpG1I+BngBZDbYs2/0GP9yKQ52FIDZO0V\n",
       "gLZ5hl9V7/2Q7WXBh8gtMfMZer14t2xWMal6ZD1b4Kya/F1QhdWHeV8WL6bILTHzNXxcgX0UThel\n",
       "lVQ8sv03h9M4uYes+JvYrF5QR0RuiZk/xzaBvtQiYDgx7CiErhsp1vEau5Les6BCbomZYwH6cVy7\n",
       "mS7hjYTZbTlJKn+whPOe6Zryv5FbYub4kUBUTLqW3z00k8sKvT9umL+OG7KAf7ObMQGJmc/JgSiC\n",
       "topJY3GAQiXzf4qmNmT24BpteE12XkOKGsTM+4U7Ql9ILWJE9f3qGDgnqS1QZYhFIdfqRuSWmPmE\n",
       "zKos92MOcXT4hDoGe1Wjv6J6V9T5J7mRVplqMfOPAL0LL8EdPOGgdl0AgnmDp/HOWirDt/gifPUE\n",
       "j1chIbfFmneGTbeUrwcZDJouTuuq8G3ujuff5OexhpM7eV5AtUWmqz4iz7erLTJlF0PyfHPqrTFl\n",
       "B8rz7B/uuKs48bOmTgAAAABJRU5ErkJggg==\n",
       "\" style=\"display:inline;vertical-align:middle;\" /></a><br>"
      ],
      "text/plain": [
       "expr: (A => (B => C)) => C"
      ]
     },
     "execution_count": 2,
     "metadata": {},
     "output_type": "execute_result"
    }
   ],
   "source": [
    "# build up the expression from sub-expressions\n",
    "expr = Implies(Implies(A, Implies(B, C)), C)"
   ]
  },
  {
   "cell_type": "code",
   "execution_count": 3,
   "metadata": {},
   "outputs": [
    {
     "name": "stdout",
     "output_type": "stream",
     "text": [
      "Passed sanity check: built 'expr' is the same as the stored Expression.\n"
     ]
    }
   ],
   "source": [
    "# check that the built expression is the same as the stored expression\n",
    "%check_expr"
   ]
  },
  {
   "cell_type": "code",
   "execution_count": 4,
   "metadata": {},
   "outputs": [
    {
     "data": {
      "text/html": [
       "<table><tr><th>&nbsp;</th><th>core type</th><th>sub-expressions</th><th>expression</th></tr>\n",
       "<tr><td>0</td><td>Operation</td><td>operator:&nbsp;6<br>operands:&nbsp;1<br></td><td><a class=\"ProveItLink\" href=\"expr.ipynb\"><img src=\"data:image/png;base64,iVBORw0KGgoAAAANSUhEUgAAAL8AAAAVBAMAAADlQyK9AAAAMFBMVEX////c3NwiIiJERESqqqqY\n",
       "mJh2dnZmZmYQEBDu7u4yMjJUVFTMzMyIiIi6uroAAAAs73DqAAAAAXRSTlMAQObYZgAAAkNJREFU\n",
       "OMu1lD1IHEEUx9+qm9XLui4YCCSFcKlCiksKIabRWotcZRMwdiaFRISYdB7ExiZaBhHZIIpHINoJ\n",
       "LuEklSSFB2kVlzQJSZNAPlBJzMx7M2/25nYtDvLgzczu7/13Zt+8GYD/bkG9NaZsTHm+vafubR67\n",
       "dxbHd5IM2PVh+7Ez5e0CSM/jAFV63MyKQfZMfOFvBnxQhuBpGSIxjCCfd1MW3NKimVoPkPl/hJ8y\n",
       "5LCl66J5FMKo6EahWax5JykuzYYcU9AfQdb9XUz/q/GnpG1I+BngBZDbYs2/0GP9yKQ52FIDZO0V\n",
       "gLZ5hl9V7/2Q7WXBh8gtMfMZer14t2xWMal6ZD1b4Kya/F1QhdWHeV8WL6bILTHzNXxcgX0UThel\n",
       "lVQ8sv03h9M4uYes+JvYrF5QR0RuiZk/xzaBvtQiYDgx7CiErhsp1vEau5Les6BCbomZYwH6cVy7\n",
       "mS7hjYTZbTlJKn+whPOe6Zryv5FbYub4kUBUTLqW3z00k8sKvT9umL+OG7KAf7ObMQGJmc/JgSiC\n",
       "topJY3GAQiXzf4qmNmT24BpteE12XkOKGsTM+4U7Ql9ILWJE9f3qGDgnqS1QZYhFIdfqRuSWmPmE\n",
       "zKos92MOcXT4hDoGe1Wjv6J6V9T5J7mRVplqMfOPAL0LL8EdPOGgdl0AgnmDp/HOWirDt/gifPUE\n",
       "j1chIbfFmneGTbeUrwcZDJouTuuq8G3ujuff5OexhpM7eV5AtUWmqz4iz7erLTJlF0PyfHPqrTFl\n",
       "B8rz7B/uuKs48bOmTgAAAABJRU5ErkJggg==\n",
       "\" style=\"display:inline;vertical-align:middle;\" /></a></td></tr>\n",
       "<tr><td>1</td><td>ExprTuple</td><td>2, 9</td><td><a class=\"ProveItLink\" href=\"../e710f07045720b14806b43e8100c9d251cd3f1880/expr.ipynb\"><img src=\"data:image/png;base64,iVBORw0KGgoAAAANSUhEUgAAAKsAAAAVBAMAAADLBgMvAAAAMFBMVEX////c3NwiIiJERESqqqqY\n",
       "mJh2dnZmZmYQEBDu7u4yMjJUVFTMzMyIiIi6uroAAAAs73DqAAAAAXRSTlMAQObYZgAAApZJREFU\n",
       "OMu1VU1oE0EUfttms812k+5BKNiDUi+KhyJY6M+huQnVw6LgQcHmVj2Ia1HrodBA20N7qDmWoLi0\n",
       "VBsEradCF2mOYg4RvCpGL616SfGn2KJx3puZ3SFZYhAc2Jm375v3duZ738wC/KeWev1vmGh6pcF1\n",
       "BbsSt62jETGIXa75/lAlKuOD4UmnG6YUT+LNxm3NNYrMLHCPWY0IJGwGwPgdAcbnALbnwFRcVx1I\n",
       "3XXAA0iKfZ7/GaI5MRJm/WLPQbigwFhm0+K7oGcCLH+CdTdsuAjQwXNoZ3brFgkCSzJA/xFgpvym\n",
       "OY/kZyGRDbA1xHYAlgA+i4UllX1+ESNh7SysbT6s4rowptO4GhfgtISMb9h3s5A03OGuT7HvCmuC\n",
       "GMK61kFbyYXgdT5o+8QEq864RI542N9n8S6scqIqSCH7YC+1PT6PsPKLdxMOvU4Q1ufypQXLGJXG\n",
       "tCOMmAeLfGug7SkVjT2lgbD3NiROqgoYJbW1BbXYkUafLYnKAqe05Ptf1dA8ZSRsAFM7qjjXMG9X\n",
       "VeqiLIGalJFVFWnZxAUl0nqUC9KitsYyCvjqGqmE0p5T096jjRYp7SzZ7DmucHuMlwgxCzncSofc\n",
       "9g4S1kk6d1UStjDK4CT0o+MQe54p1AoR9QvZ8qqLdlZsCEscx0SX5CEpo4BwK7pH8kigMkZCER0W\n",
       "47iQ7ctCmFXzhDGWhtRNOesh3ig60+02lo0J7CObObBvw4Xa4yD0lBgZZowc+JurymLbZbmtzY1b\n",
       "ZKBqlkgXpSeTxJZZgQ678RIpysMbgVn1Dn54P6gudnj1TJO7NNPCfc2PpKpAOoiFJiGFFtLmoT4t\n",
       "laqnSUhPC2mf002lejqRO63Jj0X7+08nWWxwvQX4Ay1mo9SWz8RoAAAAAElFTkSuQmCC\n",
       "\" style=\"display:inline;vertical-align:middle;\" /></a></td></tr>\n",
       "<tr><td>2</td><td>Operation</td><td>operator:&nbsp;6<br>operands:&nbsp;3<br></td><td><a class=\"ProveItLink\" href=\"../e08077b970a63d67dd002d7a6ec4c2165373bbf60/expr.ipynb\"><img src=\"data:image/png;base64,iVBORw0KGgoAAAANSUhEUgAAAH8AAAAVBAMAAACd/CwcAAAAMFBMVEX///92dnYQEBBERERUVFS6\n",
       "urqIiIhmZmaqqqrc3Nzu7u6YmJgyMjIiIiLMzMwAAACFkkdwAAAAAXRSTlMAQObYZgAAAd9JREFU\n",
       "OMtjYKAdYE0gqGQrjPEWm+wTIN7y38XFJgCLJFeyezVnAfsDKPc8NgNOgQhlBgb2r1gkhTYwsBZt\n",
       "YDgA4XHfX4AwGsZgA/mA7xsQf4FLwpWtuQUk5CcwbIRwZ9RPgKvhgSliAjHYfgKN/4jqKBA4BJIM\n",
       "YmBYBOEm5CO8yeoAZcSACGYFBgZeLbhkCJRm/wEipwPlG8B6FvRvQPhODEoXggh+BwbOwwj/MUIj\n",
       "Zj7Y7+uAAgUgxlKG92CJ2rsgcL8Aoug0iHjvllYLNpwdLHf3O0SuHmYhB9ikAIb5BUgB3APxjyqI\n",
       "yJ/AwHUFSY7jKJi6DwszVgVQSLu4+BsgR/EhsAngyDMCGYLkP4Y1YHP/w+KE7wPIFGCIH0BS80aK\n",
       "AW4AKAb3CyDk+A6CA0Qf7JoHUAOAAcmrgAiDu1YQtRog9b+BhH8DIgwuQwLUH0SxQ73ACZTn+YCw\n",
       "pAVKW0OTAecfpCCAxjE40EEO5QY6fQ0oun/B1XDCfCMOTQaPTiEMmAOluYHpIBwUkMBonKx/koHb\n",
       "/g88GphhARwLdKT9Fxef00jBYwnPaEfKwUmIBzOj8cEYTBMws9ADdIFFePI6twARZYYYPslThPVz\n",
       "HcAnO4WwASwT8MlyEi7S8hgYAJt5gWD7FNeSAAAAAElFTkSuQmCC\n",
       "\" style=\"display:inline;vertical-align:middle;\" /></a></td></tr>\n",
       "<tr><td>3</td><td>ExprTuple</td><td>4, 5</td><td><a class=\"ProveItLink\" href=\"../3fb4b765f1333b165368a041cdba4ed4d59e43d40/expr.ipynb\"><img src=\"data:image/png;base64,iVBORw0KGgoAAAANSUhEUgAAAGYAAAAVBAMAAABGR4Y+AAAAMFBMVEX////c3NwiIiJERESqqqqY\n",
       "mJh2dnZmZmYQEBDu7u4yMjJUVFTMzMyIiIi6uroAAAAs73DqAAAAAXRSTlMAQObYZgAAAbxJREFU\n",
       "OMtjYCAH8F0gSTnrAyBxGsI+BBOM/r97t9UDLKo5L28vZSxgqAEyV0JE1sPlmhkY2P9h0ZMRwMBX\n",
       "EcDAxcDAC3Eaq/4EqBTPXyD+jTAdxpilCSTyBRhYExg4IGpF6gWgcrwfgSZ8g+vhgpm1AsR4ATSk\n",
       "geEVROTCfZgXmBsYGJg6EUG0AUKzfwGR4kBswlAGkZngHwBVxL+BgXHxBIQ3ciGU/AIQOQeI0xmW\n",
       "gkXmMZyHBfn5vXeLIPqLlEBAvwDMqYeZyeDF0AemHzDIF0CF7gswcGojh5cX2NX6MP8C/QQOVZ7d\n",
       "u/cbQIUsQPoCkONlBUjTfzAb5ObzED18DAwcC6BKQMEcn4Ck51QmiOwHESwHwHpaQGwHYFA1QKPn\n",
       "K5DY74Dwj5IlWHw/yAp2iNtMgSQjUAnXB4jNoOhh/IVkjTc0aEBhBLYxChhywCgGRctPBs5P0Og5\n",
       "sRKhhRHqZlZg/DwHh0M6wyMGBuH+hQys9r8KOPsFGNjtf+/etRTJGmZYeJ1eXQ52McM6Bg4BpGwh\n",
       "gJkyeTCSdwMoySHyBjEZiO0CPC8QrQfkeWkEl6gcuxEUMKTlbd4DDAA9sGuQDx6vNQAAAABJRU5E\n",
       "rkJggg==\n",
       "\" style=\"display:inline;vertical-align:middle;\" /></a></td></tr>\n",
       "<tr><td>4</td><td>Variable</td><td></td><td><a class=\"ProveItLink\" href=\"../../../packages/proveit/__pv_it/2cbe72a7ad6f655694dd697106680215e8489b600/expr.ipynb\"><img src=\"data:image/png;base64,iVBORw0KGgoAAAANSUhEUgAAAA8AAAAOBAMAAAACpFvcAAAALVBMVEX///8QEBBERERUVFS6urqI\n",
       "iIhmZmaqqqrc3Nzu7u6YmJgyMjIiIiLMzMwAAADtIaYWAAAAAXRSTlMAQObYZgAAAFtJREFUCNdj\n",
       "YACBOwxQsA9Kc52bAGG05zVAGAFxDmCaZULdAjBjCsO9ADDDgaEvAUTzGhvbKYCVMDAwbgAxChgY\n",
       "eASANAeQwf0AyJgNxEwvGRia5HYwcOm9TgAA6BoR3jrzwFcAAAAASUVORK5CYII=\n",
       "\" style=\"display:inline;vertical-align:middle;\" /></a></td></tr>\n",
       "<tr><td>5</td><td>Operation</td><td>operator:&nbsp;6<br>operands:&nbsp;7<br></td><td><a class=\"ProveItLink\" href=\"../42830de3d5d651692ced1272b0fa0a601667b4020/expr.ipynb\"><img src=\"data:image/png;base64,iVBORw0KGgoAAAANSUhEUgAAAEEAAAAPBAMAAABJi79qAAAAMFBMVEX///+qqqru7u4iIiJ2dnbc\n",
       "3NyIiIjMzMxmZmYQEBC6uroyMjJERERUVFSYmJgAAADLUcuvAAAAAXRSTlMAQObYZgAAAPhJREFU\n",
       "GNNjYGB4+//u3dMLGDABU86NPtYGEGsOAwPHLywqPB8wcHU+ADLYvwHxX4ROGEPbCEj4BwAJtq8M\n",
       "DHxf4Cq4FaCMnSDGShCLZwIDA/MkuAquCxCa4yOIjAAR/BcYWPcoIKx3g1DxG0CkOoiov5bW/AAs\n",
       "2GwMAvZg5zP0P4DryQ9gYLJF9oM02Ov2AXCBkyBVD5DDYSdIyX8wG2w7yKPvHZBUVDuByPkggrEA\n",
       "FBz/gMR9AYQ7jA+B1d0HaedggAYH628kI2QhVH0CkHCCBUflJoQC1g0Qmg8YHitAruU4//fu7X1I\n",
       "RvDA/FC7t0OAARtgR+MDAAhbPiSyASIoAAAAAElFTkSuQmCC\n",
       "\" style=\"display:inline;vertical-align:middle;\" /></a></td></tr>\n",
       "<tr><td>6</td><td>Literal</td><td></td><td><a class=\"ProveItLink\" href=\"../../../packages/proveit/logic/boolean/implication/__pv_it/e5c030cabcb650938f92dee8256fe11cd12bf9b30/expr.ipynb\"><img src=\"data:image/png;base64,iVBORw0KGgoAAAANSUhEUgAAABMAAAANBAMAAAC5okgUAAAALVBMVEX////c3NxERETMzMwQEBCq\n",
       "qqoiIiJmZmaIiIh2dnZUVFS6uroyMjLu7u4AAACPpZJTAAAAAXRSTlMAQObYZgAAAD1JREFUCNdj\n",
       "YAABXgY44LkAZ3IvQAjPABFlaSCQV4AQjtkAZ/IegbNt5sLUpunC5aPgLMYDcCaTAJzJDCIA2yMN\n",
       "HCCUuIIAAAAASUVORK5CYII=\n",
       "\" style=\"display:inline;vertical-align:middle;\" /></a></td></tr>\n",
       "<tr><td>7</td><td>ExprTuple</td><td>8, 9</td><td><a class=\"ProveItLink\" href=\"../dad23c4ce051fb8a92f116e8b4d54eeb5e4476f70/expr.ipynb\"><img src=\"data:image/png;base64,iVBORw0KGgoAAAANSUhEUgAAADcAAAAVBAMAAAAQkWtIAAAAMFBMVEX////c3NwiIiJERESqqqqY\n",
       "mJh2dnZmZmYQEBDu7u4yMjJUVFTMzMyIiIi6uroAAAAs73DqAAAAAXRSTlMAQObYZgAAAUFJREFU\n",
       "KM9jYMAL+C5gF48DEaeBmHX/792b18GEOS9vL2UsYD8AZK4E8TkMGBjqH0AlMwIY+CoCGBYwMPCC\n",
       "TT0PJM9vgMjN0gQS+QIMYUA9E0AC9wUYGOITIJIrQCIvGBhmMDC8AgtYALEGWBkD+xcQKc7AwOzA\n",
       "UAYW+c3AIGUJ0Si/AETOYWBgK2BYCmLy/L57XRXqnPoAKINlAUMfiOb9yMAwCeoefQFYADQw/APR\n",
       "zA1ABV8hYv/BJNB+ng8QSX6gLtZvEMl+sJEHwJItYG8C7eH+ApHcD3I0O8RYU5g3ga7khIUHQyYo\n",
       "TBcwpEO9ydM1gWG+AkgMaMJzkKOAXnkEpIr/7969CmjyjI/gmFhd7gCiuR4wcAggRdND5DgDBh9r\n",
       "AhI/AFkyFxZlWCQ5QcEojeDzImvkBtnHiCOZ3GFgAADrEU9ADAe1sgAAAABJRU5ErkJggg==\n",
       "\" style=\"display:inline;vertical-align:middle;\" /></a></td></tr>\n",
       "<tr><td>8</td><td>Variable</td><td></td><td><a class=\"ProveItLink\" href=\"../../../packages/proveit/__pv_it/077b2ff79244fb4582cbe22c6e3356fa92a52f2f0/expr.ipynb\"><img src=\"data:image/png;base64,iVBORw0KGgoAAAANSUhEUgAAABAAAAAOBAMAAADUAYG5AAAAMFBMVEX///+qqqru7u4iIiJ2dnbc\n",
       "3NyIiIjMzMxmZmYQEBC6uroyMjJERERUVFSYmJgAAADLUcuvAAAAAXRSTlMAQObYZgAAAGpJREFU\n",
       "CNdjYGB4+//u3dMLGIBgDgMDxy8gzf4NiP8CGWxfGRj4vgAZPBMYGJgnARn8FxhY9ygAGfXX0pof\n",
       "gDTlBzAw2YIYJ0EckBBI53sHoBH/gIz7AhBjWH9DjancBLTl/N+7t/cxMAAA3u4f/5xagjYAAAAA\n",
       "SUVORK5CYII=\n",
       "\" style=\"display:inline;vertical-align:middle;\" /></a></td></tr>\n",
       "<tr><td>9</td><td>Variable</td><td></td><td><a class=\"ProveItLink\" href=\"../../../packages/proveit/__pv_it/985a1bdf1540838275dec15f4ad6de261cca93ce0/expr.ipynb\"><img src=\"data:image/png;base64,iVBORw0KGgoAAAANSUhEUgAAAA8AAAAOBAMAAAACpFvcAAAAMFBMVEX////MzMyqqqoiIiIyMjK6\n",
       "uroQEBB2dnbc3NyYmJhmZmZUVFRERESIiIju7u4AAAB204erAAAAAXRSTlMAQObYZgAAAGZJREFU\n",
       "CNdjYGDgu7NrJccCBgaGsgkMrMsmMDA8sQNy6hsYGNweABlhDAxcn4A0QxcDQ78DiPGQgWH9BAYI\n",
       "sG+AMv6DSaCGfBDNJMDAsB+kmwuI5S8AiTog5gSaEwXWIO29SgFIAQBC+RaDQlidVgAAAABJRU5E\n",
       "rkJggg==\n",
       "\" style=\"display:inline;vertical-align:middle;\" /></a></td></tr>\n",
       "</table>\n"
      ],
      "text/plain": [
       "0. (A => (B => C)) => C\n",
       "   core type: Operation\n",
       "   operator: 6\n",
       "   operands: 1\n",
       "1. (A => (B => C) , C)\n",
       "   core type: ExprTuple\n",
       "   sub-expressions: 2, 9\n",
       "2. A => (B => C)\n",
       "   core type: Operation\n",
       "   operator: 6\n",
       "   operands: 3\n",
       "3. (A , B => C)\n",
       "   core type: ExprTuple\n",
       "   sub-expressions: 4, 5\n",
       "4. A\n",
       "   core type: Variable\n",
       "   sub-expressions: \n",
       "5. B => C\n",
       "   core type: Operation\n",
       "   operator: 6\n",
       "   operands: 7\n",
       "6. =>\n",
       "   core type: Literal\n",
       "   sub-expressions: \n",
       "7. (B , C)\n",
       "   core type: ExprTuple\n",
       "   sub-expressions: 8, 9\n",
       "8. B\n",
       "   core type: Variable\n",
       "   sub-expressions: \n",
       "9. C\n",
       "   core type: Variable\n",
       "   sub-expressions: "
      ]
     },
     "execution_count": 4,
     "metadata": {},
     "output_type": "execute_result"
    }
   ],
   "source": [
    "# display the expression information\n",
    "expr.exprInfo()"
   ]
  },
  {
   "cell_type": "code",
   "execution_count": null,
   "metadata": {},
   "outputs": [],
   "source": []
  }
 ],
 "metadata": {
  "kernelspec": {
   "display_name": "Python 3",
   "language": "python",
   "name": "python3"
  }
 },
 "nbformat": 4,
 "nbformat_minor": 0
}
