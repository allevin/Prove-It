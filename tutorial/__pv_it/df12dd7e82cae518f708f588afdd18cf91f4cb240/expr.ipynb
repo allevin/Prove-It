{
 "cells": [
  {
   "cell_type": "markdown",
   "metadata": {},
   "source": [
    "Expression of type <a class=\"ProveItLink\" href=\"../../../doc/html/api/proveit.logic.Set.html\">Set</a>\n",
    "=======================\n",
    "# from context <a class=\"ProveItLink\" href=\"../../_context_.ipynb\">tutorial</a>"
   ]
  },
  {
   "cell_type": "code",
   "execution_count": 1,
   "metadata": {},
   "outputs": [],
   "source": [
    "# import Expression classes needed to build the expression\n",
    "from proveit._common_ import R, S\n",
    "from proveit.logic import Implies, Set"
   ]
  },
  {
   "cell_type": "code",
   "execution_count": 2,
   "metadata": {},
   "outputs": [
    {
     "data": {
      "text/html": [
       "<strong id=\"expr\">expr:</strong> <a class=\"ProveItLink\" href=\"expr.ipynb\"><img src=\"data:image/png;base64,iVBORw0KGgoAAAANSUhEUgAAAFEAAAAVBAMAAADMaB9/AAAAMFBMVEX////c3NxERESqqqpUVFS6\n",
       "urrMzMwyMjIQEBCIiIh2dnYiIiLu7u5mZmaYmJgAAABXZE4RAAAAAXRSTlMAQObYZgAAAVNJREFU\n",
       "KM9jYGDgu8dAALCtEgBRPLsYCAK2ZhDJ+QHMeXL3zlNMJVP+uzhVAunrIA5XA4hkf8Bw6AMW0z4x\n",
       "MJwoYGBYgVDpxcDAXACT5kFY+5OBgeUrskrGb0DRCTB59gMwFidQnP0bskrWz0CVCTB5VgcYiwko\n",
       "me+AYub/aciuWwlj8DswMO9kgKrkBTtv/v9P4DC7vRsE9l+Aqsz3nNsJot+DiIwAEMn4pL8HyVDz\n",
       "AAg9/wCDPchR7ECtKW1QSa5/SCp5KiBKNcAOAAL1BwwMESA9QJoHWWX6Ggj9hYFBHqSSewGQYAG6\n",
       "kwdoOONHhDt360CDE6j7/QKYO7k2QAKd1wFhpAlScN6fwIMUSrzAkJiEUMgIiy0mYATPnyCHpJKF\n",
       "1cXpAUIlkwCEPqv/ZQIDb+UElHhHTWQYIrhUMmBXyUeMSnD65NlJRJpvBVN8i4nKRwByY2Dix2LY\n",
       "uQAAAABJRU5ErkJggg==\n",
       "\" style=\"display:inline;vertical-align:middle;\" /></a><br>"
      ],
      "text/plain": [
       "expr: {S => R}"
      ]
     },
     "execution_count": 2,
     "metadata": {},
     "output_type": "execute_result"
    }
   ],
   "source": [
    "# build up the expression from sub-expressions\n",
    "expr = Set(Implies(S, R))"
   ]
  },
  {
   "cell_type": "code",
   "execution_count": 3,
   "metadata": {},
   "outputs": [
    {
     "name": "stdout",
     "output_type": "stream",
     "text": [
      "Passed sanity check: built 'expr' is the same as the stored Expression.\n"
     ]
    }
   ],
   "source": [
    "# check that the built expression is the same as the stored expression\n",
    "%check_expr"
   ]
  },
  {
   "cell_type": "code",
   "execution_count": 4,
   "metadata": {},
   "outputs": [
    {
     "data": {
      "text/html": [
       "<table><tr><th>&nbsp;</th><th>core type</th><th>sub-expressions</th><th>expression</th></tr>\n",
       "<tr><td>0</td><td>Operation</td><td>operator:&nbsp;1<br>operands:&nbsp;2<br></td><td><a class=\"ProveItLink\" href=\"expr.ipynb\"><img src=\"data:image/png;base64,iVBORw0KGgoAAAANSUhEUgAAAFEAAAAVBAMAAADMaB9/AAAAMFBMVEX////c3NxERESqqqpUVFS6\n",
       "urrMzMwyMjIQEBCIiIh2dnYiIiLu7u5mZmaYmJgAAABXZE4RAAAAAXRSTlMAQObYZgAAAVNJREFU\n",
       "KM9jYGDgu8dAALCtEgBRPLsYCAK2ZhDJ+QHMeXL3zlNMJVP+uzhVAunrIA5XA4hkf8Bw6AMW0z4x\n",
       "MJwoYGBYgVDpxcDAXACT5kFY+5OBgeUrskrGb0DRCTB59gMwFidQnP0bskrWz0CVCTB5VgcYiwko\n",
       "me+AYub/aciuWwlj8DswMO9kgKrkBTtv/v9P4DC7vRsE9l+Aqsz3nNsJot+DiIwAEMn4pL8HyVDz\n",
       "AAg9/wCDPchR7ECtKW1QSa5/SCp5KiBKNcAOAAL1BwwMESA9QJoHWWX6Ggj9hYFBHqSSewGQYAG6\n",
       "kwdoOONHhDt360CDE6j7/QKYO7k2QAKd1wFhpAlScN6fwIMUSrzAkJiEUMgIiy0mYATPnyCHpJKF\n",
       "1cXpAUIlkwCEPqv/ZQIDb+UElHhHTWQYIrhUMmBXyUeMSnD65NlJRJpvBVN8i4nKRwByY2Dix2LY\n",
       "uQAAAABJRU5ErkJggg==\n",
       "\" style=\"display:inline;vertical-align:middle;\" /></a></td></tr>\n",
       "<tr><td>1</td><td>Literal</td><td></td><td><a class=\"ProveItLink\" href=\"../../../packages/proveit/logic/set_theory/enumeration/__pv_it/07381ed5b23806e8d7914b78cb6667769e3708dd0/expr.ipynb\"><img src=\"data:image/png;base64,iVBORw0KGgoAAAANSUhEUgAAAB4AAAAOBAMAAADKyLEKAAAAMFBMVEX///8iIiIQEBCIiIjMzMzc\n",
       "3Nyqqqp2dnZEREQyMjK6urru7u5mZmZUVFSYmJgAAACI6eGPAAAAAXRSTlMAQObYZgAAALRJREFU\n",
       "CNdjYGDgu3Nm3wIGBJjHwN0PZW5yYGDgLWBgyITy8zcwMMQDxZyh/INAvD6BgcEFypcB4vjPDiBm\n",
       "TPFRrhs/LjMwMP//38rAwCbKEMPA9gEkE3fp0waG+AUMRxh4JkC01T9guPTOOICBEWgVH5C//wHD\n",
       "H5D4fqCz9oCMDGD4DLaegRXslLMMDMpAgxlOMmQxHDRgYG5gYLBk4D7KcIe7gOHC2rt9QCXsh40Z\n",
       "GCKMGQDRkC8N/Ph1XAAAAABJRU5ErkJggg==\n",
       "\" style=\"display:inline;vertical-align:middle;\" /></a></td></tr>\n",
       "<tr><td>2</td><td>ExprTuple</td><td>3</td><td><a class=\"ProveItLink\" href=\"../95f796a3771a4899ea062f7167f3bbe577b48cd70/expr.ipynb\"><img src=\"data:image/png;base64,iVBORw0KGgoAAAANSUhEUgAAAEoAAAAVBAMAAAATJmVgAAAAMFBMVEX////c3NwiIiJERESqqqqY\n",
       "mJh2dnZmZmYQEBDu7u4yMjJUVFTMzMyIiIi6uroAAAAs73DqAAAAAXRSTlMAQObYZgAAAVpJREFU\n",
       "KM9jYCAO8F0goID1AZA4DWJFl1fGYcrf/r9781oGhhogcyUQcwUwTP6AxZjPDAwzFjBwMTDwgizc\n",
       "xsDAsgAmxQlXxPOXgYH7HwNrAgPHBAYGxj9AEbjzuCbAWLxAca4/DJwNDK9AHvgCVHUA7p0NMBZz\n",
       "AwPDeSDPhKEMyGP8fwfZNbkwBv8GBhZdIJ3OsBTEvf//swCILlICAf0CqKrze6/3gmgvhj4QxRjd\n",
       "34lkmNcDCH1/AoM/yCEvGP5BBNi+IqniXAFRZgG2FGgmWFUAUAJZ1alMCP2bgUEeoqoFqALoDsaP\n",
       "CHcpWUKDC6gzPgFsoykkQNk3IIzyRgqu+gvAQI4C+pKBHejbywhFjLBYYAZG2v0LoqCQeASMBL7d\n",
       "mwMQqpgFIPR0+98XGNjXAuNkHQOHAHoU86ALAGOINYFgCmS7AEk5+MEsIJYmqGojyEuEUjTvAQYA\n",
       "ZhhY+oQKZKAAAAAASUVORK5CYII=\n",
       "\" style=\"display:inline;vertical-align:middle;\" /></a></td></tr>\n",
       "<tr><td>3</td><td>Operation</td><td>operator:&nbsp;4<br>operands:&nbsp;5<br></td><td><a class=\"ProveItLink\" href=\"../7e3f2f1562f5c718ad828a0c792cc977800a00590/expr.ipynb\"><img src=\"data:image/png;base64,iVBORw0KGgoAAAANSUhEUgAAAD0AAAAPBAMAAACl/tp8AAAAMFBMVEX///8iIiIQEBCIiIjMzMzc\n",
       "3Nyqqqp2dnZEREQyMjK6urru7u5mZmZUVFSYmJgAAACI6eGPAAAAAXRSTlMAQObYZgAAAO1JREFU\n",
       "GNNjYGDgu3Nm3wIGdMB8/+/dTgMQax4Ddz8DJuBvYODWBNK8BQwMmXDRDXCWP1DzfaC58Q4MDM5w\n",
       "0dlwlj1QfD4Qr09gYHCBi66Fs5oYGFj+Aun4zw5ItrIbwFhAuUQQh/n//1YQn0cQDP5ApVn+Gh+C\n",
       "qI279AnhKga2WVD//WZg+wIVq3+AZMNOLTDFoQC2goEPiPcjybNMhxjGf4GBFSS/B+TEAIT9ElC7\n",
       "/B8w8H1ngATNWSTrLyC8z/MZGFwHDRiYGxDykTAGMMiZP7M+YLiw9m4fkutaIRT3if+XGRhOGmPE\n",
       "igMaHwAvID4qdLHZ9QAAAABJRU5ErkJggg==\n",
       "\" style=\"display:inline;vertical-align:middle;\" /></a></td></tr>\n",
       "<tr><td>4</td><td>Literal</td><td></td><td><a class=\"ProveItLink\" href=\"../../../packages/proveit/logic/boolean/implication/__pv_it/e5c030cabcb650938f92dee8256fe11cd12bf9b30/expr.ipynb\"><img src=\"data:image/png;base64,iVBORw0KGgoAAAANSUhEUgAAABMAAAANBAMAAAC5okgUAAAALVBMVEX////c3NxERETMzMwQEBCq\n",
       "qqoiIiJmZmaIiIh2dnZUVFS6uroyMjLu7u4AAACPpZJTAAAAAXRSTlMAQObYZgAAAD1JREFUCNdj\n",
       "YAABXgY44LkAZ3IvQAjPABFlaSCQV4AQjtkAZ/IegbNt5sLUpunC5aPgLMYDcCaTAJzJDCIA2yMN\n",
       "HCCUuIIAAAAASUVORK5CYII=\n",
       "\" style=\"display:inline;vertical-align:middle;\" /></a></td></tr>\n",
       "<tr><td>5</td><td>ExprTuple</td><td>6, 7</td><td><a class=\"ProveItLink\" href=\"../83d3aea4046ebaaf4173060b9b4c7d32b778edf20/expr.ipynb\"><img src=\"data:image/png;base64,iVBORw0KGgoAAAANSUhEUgAAADIAAAAVBAMAAAD2uKAMAAAAMFBMVEX////c3NwiIiJERESqqqqY\n",
       "mJh2dnZmZmYQEBDu7u4yMjJUVFTMzMyIiIi6uroAAAAs73DqAAAAAXRSTlMAQObYZgAAAThJREFU\n",
       "KM9jYMAN+C5gEWR9ACROg1jR5ZVxELHb/3dvXsvAUANkrgRirgCGyR+gyj8zMMxYwMDFwMALMmwb\n",
       "AwPLAogEz18GBu5/DKwJDBwTGBgY/wBFoNbxAtlcfxg4GxhegRzxBShzACLD3MDAcH4DA4MJQxmQ\n",
       "x/j/DtxV/BsYWHSBdDrDUhD3/v/PAlCZ83uv94JoL4Y+EMUY3d8Jlbk/gcEfZPALhn8QAbavUBkL\n",
       "sIFAvWCZAAYGTpjMbwYGeYhMC1C0AGjeR6h3gCriE8CmmUI8yb6BgRPmnfoLQGYU0HUM7EBXXmZg\n",
       "mK8A8g4wkO5fEAW5+hEwMPh2bwZaNQNo4HT73xcY2NcCw2MdA4cA3JMPkaIBGDqsCXBeAJIM2wVI\n",
       "LGDKzAJiaRiHFzlSN4JCBlts8x5gAADxw1LgAn4LQQAAAABJRU5ErkJggg==\n",
       "\" style=\"display:inline;vertical-align:middle;\" /></a></td></tr>\n",
       "<tr><td>6</td><td>Variable</td><td></td><td><a class=\"ProveItLink\" href=\"../../../packages/proveit/__pv_it/abeee18594afe51bfb1be95d9591fbba24ac53f30/expr.ipynb\"><img src=\"data:image/png;base64,iVBORw0KGgoAAAANSUhEUgAAAA0AAAAOBAMAAAAGUYvhAAAAMFBMVEX///8iIiIQEBCIiIjMzMzc\n",
       "3Nyqqqp2dnZEREQyMjK6urru7u5mZmZUVFSYmJgAAACI6eGPAAAAAXRSTlMAQObYZgAAAF1JREFU\n",
       "CNdjYGDgu3Nm3wIGBoZ5DNz9QIq3gIEhE0jHOzAwOAPp9QkMDC4g/megABAw///fCmbEXfq0Acxg\n",
       "qH8ANAVI7wfSe0BKAyBGnAXigwYMzA1A+sLau31ACgAz0hhbkhGHbwAAAABJRU5ErkJggg==\n",
       "\" style=\"display:inline;vertical-align:middle;\" /></a></td></tr>\n",
       "<tr><td>7</td><td>Variable</td><td></td><td><a class=\"ProveItLink\" href=\"../../../packages/proveit/__pv_it/e24df48bc297bbcf3538a62f5b4f635a392abfce0/expr.ipynb\"><img src=\"data:image/png;base64,iVBORw0KGgoAAAANSUhEUgAAABAAAAAOBAMAAADUAYG5AAAAMFBMVEX///92dnaYmJjc3NxmZmYi\n",
       "IiKqqqq6urrMzMwQEBDu7u4yMjJERERUVFSIiIgAAAArjcN0AAAAAXRSTlMAQObYZgAAAG1JREFU\n",
       "CNdjYGB4+//unX0MIPCHgWHlBiDN8Y+Bgfc7kMH3g4GBG4gZeCYwMPRfADL4LzCwxYHU9t97Mg+s\n",
       "6f0ChvwGEOMkWBYI/jIw2IMYHJ8YGPQFoMb4P+ACGvMBqP6BEcOS838fMLDsewAAOpQikqrQNfgA\n",
       "AAAASUVORK5CYII=\n",
       "\" style=\"display:inline;vertical-align:middle;\" /></a></td></tr>\n",
       "</table>\n"
      ],
      "text/plain": [
       "0. {S => R}\n",
       "   core type: Operation\n",
       "   operator: 1\n",
       "   operands: 2\n",
       "1. Set\n",
       "   core type: Literal\n",
       "   sub-expressions: \n",
       "2. (S => R)\n",
       "   core type: ExprTuple\n",
       "   sub-expressions: 3\n",
       "3. S => R\n",
       "   core type: Operation\n",
       "   operator: 4\n",
       "   operands: 5\n",
       "4. =>\n",
       "   core type: Literal\n",
       "   sub-expressions: \n",
       "5. (S , R)\n",
       "   core type: ExprTuple\n",
       "   sub-expressions: 6, 7\n",
       "6. S\n",
       "   core type: Variable\n",
       "   sub-expressions: \n",
       "7. R\n",
       "   core type: Variable\n",
       "   sub-expressions: "
      ]
     },
     "execution_count": 4,
     "metadata": {},
     "output_type": "execute_result"
    }
   ],
   "source": [
    "# display the expression information\n",
    "expr.exprInfo()"
   ]
  },
  {
   "cell_type": "code",
   "execution_count": null,
   "metadata": {},
   "outputs": [],
   "source": []
  }
 ],
 "metadata": {
  "kernelspec": {
   "display_name": "Python 3",
   "language": "python",
   "name": "python3"
  }
 },
 "nbformat": 4,
 "nbformat_minor": 0
}
