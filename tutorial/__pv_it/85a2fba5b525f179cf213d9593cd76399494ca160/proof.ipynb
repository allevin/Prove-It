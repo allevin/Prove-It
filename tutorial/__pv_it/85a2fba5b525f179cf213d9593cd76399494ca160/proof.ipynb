{
 "cells": [
  {
   "cell_type": "markdown",
   "metadata": {},
   "source": [
    "Show the Proof\n",
    "========"
   ]
  },
  {
   "cell_type": "code",
   "execution_count": 1,
   "metadata": {},
   "outputs": [
    {
     "data": {
      "text/html": [
       "<table><tr><th>&nbsp;</th><th>step type</th><th>requirements</th><th>statement</th></tr>\n",
       "<tr><td>0</td><td>assumption</td><td></td><td><span style=\"font-size:20px;\"><a class=\"ProveItLink\" href=\"../ff5ef57408b631e3fcbb7041c8d2110fc29968820/expr.ipynb\"><img src=\"data:image/png;base64,iVBORw0KGgoAAAANSUhEUgAAAGUAAAAVBAMAAACtcD09AAAAMFBMVEX///9ERETc3NyqqqpUVFS6\n",
       "urrMzMwyMjIQEBCIiIh2dnYiIiLu7u5mZmaYmJgAAABJJ2g3AAAAAXRSTlMAQObYZgAAAeNJREFU\n",
       "OMuNlD0sQ1EUx/9tPf3w3vM12ITRxGZUIhESYiSRaMJg08XkI0JYSNRCOmliEdKkm9ClJhEDg4/B\n",
       "51CRWBSJxIJzzn237SMVHc6999zzO/d8vFMA9i3+/SvfbuDF3C9WDqrF7i8FzbMM5uRgdnewKuzc\n",
       "Xfw2z95cPwCXvA3Nisaz+UnSn3EM/L8Q/z0OyP1WEXMy1EIyri3sxE+mB/BF3UybyGVtYSotjibT\n",
       "u7LxvlPkMTdzxcKI5t3WqpRndLDGG50iLia71EvSoojMZALNGSTFslEj8H6tySqMpXx/OHkiZOSw\n",
       "AbSKtqaQz8bXC/fmmfdj/TpcIED7ESuFamBAsqoqMN7sCmfrPwVGF0Xjky5VEpMJxPjRcUliKZ12\n",
       "asBZcDdQR7EMROSc0gzaMuXvDpNvMUCWJjMV3IQyyccjtwHu0SWCszq2VL72FJL3VeejXqCAmCRv\n",
       "mBYHj2LapxlupxWGq9YnUokQecMZhglVtT7W36q1B6zCzQxLIwx+8yB+R0WdUMWajiimzOhsv//B\n",
       "rKurOZE7hW/H11WoG1yMHa5XmifymDJpRkKxEgMkjE1MYMopEM1CRcJD5TwsNakyPyZlZycbnGaH\n",
       "4Yuf06aj1JwuqFHZLNI1qSUY+eP/4BsM/XwEOw1GmQAAAABJRU5ErkJggg==\n",
       "\" style=\"display:inline;vertical-align:middle;\" /></a> <a class=\"ProveItLink\" href=\"proof.ipynb\" style=\"text-decoration: none\">&#x22A2;&nbsp;</a><a class=\"ProveItLink\" href=\"../61e78fb3db4ab1d80e53b282290f659b16dcb5260/expr.ipynb\"><img src=\"data:image/png;base64,iVBORw0KGgoAAAANSUhEUgAAAFEAAAAVBAMAAADMaB9/AAAAMFBMVEX///8yMjLMzMwQEBAiIiJm\n",
       "Zma6urqYmJiqqqp2dnZERETc3NyIiIhUVFTu7u4AAAAe+HC4AAAAAXRSTlMAQObYZgAAAZBJREFU\n",
       "KM9jYCAdsB2A0GV41Lw9uwFI6kJ5rAoYCtivhj5PADFW9hcASTmYuACGSnEGvvUgmu/bCyDJcwAm\n",
       "XomukHcCA0MjiMHxAUQyP4BJPIZQfAddXCDG7we6RwfsMAcQmQg3gqsBTCnWwQTygQJKIOde9g0A\n",
       "UpFA/DKSgfsfAyeIy8C9Dq51/x+oJ/kPQFzNwDAhn4HnAwMH2E6uDXCVPP//r4Y7g4HBjIGBqSGE\n",
       "gWsBA5sBiP8KyUvbL38G+6IfzPsG9AODDcgCJrAPk11cYD4CgvmgcGSYAlPJwPGPQV8BqlIXEe5A\n",
       "/B6sci2YbwEKBQGGwwxQ25/AVT4FuRDsahswfzkQMwaAtLGD7eQtgKkEBXosJIrA/KkgMy+wfWeA\n",
       "hhKfG0xlyAEGngXgNPQPzE8Bya45+htoMjgxMGwMgqq8kHt3OSS0IB5kBruE0wEemwy9Ii4oiaWW\n",
       "C+IgdmAyuMLwGBhxc3AkTkOYJ4GpzpNhJdAJAjhUVkZDGXsZGHqOAp3Iu4FQ7uCGJtBDOOQB/WVa\n",
       "/6Nv0sgAAAAASUVORK5CYII=\n",
       "\" style=\"display:inline;vertical-align:middle;\" /></a></span></td></tr>\n",
       "</table>"
      ],
      "text/plain": [
       "<proveit._core_.proof._ShowProof at 0x7f94e89fada0>"
      ]
     },
     "execution_count": 1,
     "metadata": {},
     "output_type": "execute_result"
    }
   ],
   "source": [
    "import proveit\n",
    "%show_proof"
   ]
  },
  {
   "cell_type": "code",
   "execution_count": null,
   "metadata": {},
   "outputs": [],
   "source": []
  }
 ],
 "metadata": {
  "kernelspec": {
   "display_name": "Python 3",
   "language": "python",
   "name": "python3"
  }
 },
 "nbformat": 4,
 "nbformat_minor": 0
}
