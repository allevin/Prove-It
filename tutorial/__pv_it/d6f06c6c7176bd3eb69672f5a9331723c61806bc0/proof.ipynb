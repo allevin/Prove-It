{
 "cells": [
  {
   "cell_type": "markdown",
   "metadata": {},
   "source": [
    "Show the Proof\n",
    "========"
   ]
  },
  {
   "cell_type": "code",
   "execution_count": 1,
   "metadata": {},
   "outputs": [
    {
     "data": {
      "text/html": [
       "<table><tr><th>&nbsp;</th><th>step type</th><th>requirements</th><th>statement</th></tr>\n",
       "<tr><td>0</td><td>assumption</td><td></td><td><span style=\"font-size:20px;\"><a class=\"ProveItLink\" href=\"../2617ee670b831fb3d4e38e12288f4d70850354170/expr.ipynb\"><img src=\"data:image/png;base64,iVBORw0KGgoAAAANSUhEUgAAAHkAAAAVBAMAAACQ4lxbAAAAMFBMVEX///9ERETc3NyqqqpUVFS6\n",
       "urrMzMwyMjIQEBCIiIh2dnYiIiLu7u5mZmaYmJgAAABJJ2g3AAAAAXRSTlMAQObYZgAAAc1JREFU\n",
       "OMtjYGDgu8dABmBbpQCieHbhkGedgEsnXwBIezOIyfkBh5oU3BZfAxHXQQRXAw4lNbh1s4OIFdh1\n",
       "6yaA3YTicB4FFKcvwKk7pRRMcRxAFmRGNasBl+5wNyjNgFs3gzCK7ohWJqi0+SWogltArDVFee4E\n",
       "FN2nbjEw/WFgWAvTzVvAwMAkN/ciRHb2GpjxdUAHLuDbx7EBRfeCeHAkmQOZ70H8DGDk8TDw+IAl\n",
       "VyMc2Ap0FlAlcwKybjaD2wyMAkC3ggL+AjCM2sDCKpDQEAyA6/4KMpRFANXfPAydDPxAZj6II/4A\n",
       "aAzIcNYL0PTnboCkGxjwYE285eXV7eXlDiBT/jDkJ0B0c4OijQXobwYrmB6m2w+gLHBC1E9gOIDi\n",
       "b2AozWCAuBzsby5gsDAvYGCBReXqORCGHDBRKMxn4ETVDfSsCJB6jhxj6W/flcI9/BoS7MBIsX8g\n",
       "waCJGt+8Dqz/GJBiDKT7At8PA0RSMAcHczQDw8FZp1Y+QNXNIzn3E5AqxZ3OIYBDAXtaA/kUd0pF\n",
       "yQkYmd2b4QTQlVwTYLr5SMqhuxikgORxeP7m2YlDtwo2Qcu5oPTkBEoarRAnLsaumwlnycSZAC3X\n",
       "AKJNcQuS6o1EAAAAAElFTkSuQmCC\n",
       "\" style=\"display:inline;vertical-align:middle;\" /></a> <a class=\"ProveItLink\" href=\"proof.ipynb\" style=\"text-decoration: none\">&#x22A2;&nbsp;</a><a class=\"ProveItLink\" href=\"../f939d204ddb18c9833bf0e9cd40af9ed0c961c270/expr.ipynb\"><img src=\"data:image/png;base64,iVBORw0KGgoAAAANSUhEUgAAAGUAAAAVBAMAAACtcD09AAAAMFBMVEX///8iIiIyMjLMzMx2dnaq\n",
       "qqpUVFTu7u5mZmaYmJhERESIiIjc3NwQEBC6uroAAABuzmuqAAAAAXRSTlMAQObYZgAAAXtJREFU\n",
       "OMtjYKAaeI1TZh4uCeYEnHo4DHBIMBXgdoICugBPM5jajSJYg8Kbgu6mpAdg+jqKaDQKrxZVC58a\n",
       "xLF8Cnj0cAUAFdx9cBrCY9U4APWnA9CV3jnR3Sh62D0cGM4XMLA0MDCcmt2xACzGLQLzOdMEBoYS\n",
       "hokTLqLoYeH7wLAfaDLQEQUMZWC1LNJw63mBvnIAygej6DHlEGBYBXTXBVBYQSKjah1cD/8DkFFZ\n",
       "aP4p4N3A8BsYTh+A7BdQKTNVZD0MDLfB7CYlJVklJTUQM76A+TNED6sDTOkJSZjbAkDWf2ZgRw23\n",
       "JgbuCxC3hTAwwFJKiTQkFLiAYTCH+wPDdlQ9GgxcQJWcCgzMmp2THsBs4oQEHTA4WX9yXeDZgKqn\n",
       "jeH9BLAkB8P8q4gIY1UGx6kAA/tqd5edaHFatbsfGIFMD7Cnwzs40oEjZtrBkQ6hmYlNgB3kIm9S\n",
       "8gKjAxcwiNkVcOjhwZbnWHf3gWw7gCtjncaZ5TYzMAAAROlSV4nISxAAAAAASUVORK5CYII=\n",
       "\" style=\"display:inline;vertical-align:middle;\" /></a></span></td></tr>\n",
       "</table>"
      ],
      "text/plain": [
       "<proveit._core_.proof._ShowProof at 0x7f94ebb0dc18>"
      ]
     },
     "execution_count": 1,
     "metadata": {},
     "output_type": "execute_result"
    }
   ],
   "source": [
    "import proveit\n",
    "%show_proof"
   ]
  },
  {
   "cell_type": "code",
   "execution_count": null,
   "metadata": {},
   "outputs": [],
   "source": []
  }
 ],
 "metadata": {
  "kernelspec": {
   "display_name": "Python 3",
   "language": "python",
   "name": "python3"
  }
 },
 "nbformat": 4,
 "nbformat_minor": 0
}
