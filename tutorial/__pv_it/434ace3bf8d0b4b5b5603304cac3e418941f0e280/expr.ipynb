{
 "cells": [
  {
   "cell_type": "markdown",
   "metadata": {},
   "source": [
    "Expression of type <a class=\"ProveItLink\" href=\"../../../doc/html/api/proveit.logic.Set.html\">Set</a>\n",
    "=======================\n",
    "# from context <a class=\"ProveItLink\" href=\"../../_context_.ipynb\">tutorial</a>"
   ]
  },
  {
   "cell_type": "code",
   "execution_count": 1,
   "metadata": {},
   "outputs": [],
   "source": [
    "# import Expression classes needed to build the expression\n",
    "from proveit._common_ import R, y\n",
    "from proveit.logic import InSet, Set"
   ]
  },
  {
   "cell_type": "code",
   "execution_count": 2,
   "metadata": {},
   "outputs": [
    {
     "data": {
      "text/html": [
       "<strong id=\"expr\">expr:</strong> <a class=\"ProveItLink\" href=\"expr.ipynb\"><img src=\"data:image/png;base64,iVBORw0KGgoAAAANSUhEUgAAAEcAAAAVBAMAAADm2O7QAAAAMFBMVEX///9ERETc3NyqqqpUVFS6\n",
       "urrMzMwyMjIQEBCIiIh2dnYiIiLu7u5mZmaYmJgAAABJJ2g3AAAAAXRSTlMAQObYZgAAAU5JREFU\n",
       "KM9jYGDgu8eAG7CtUgBRPLsY8AG2ZhDJ+QG77JT/Lo6VQPo6iMPVgMOMjwwMJwoYGFbgU8T2k4GB\n",
       "5StWRSerd2+HsDi/MTCwf8OmiK3uAIzJCBTPd0BSxLN2AYM+SFoRroaB34GBeScDVBEv0HFcrB8Y\n",
       "5oM4QghD8z3ndoLo9yAiI4CBIZl3A4MgKMwEEIrmH2CwTwDS7BcYGFLagIwDHBMYgJ5hYO3evRvm\n",
       "cAmwjUAg/oCBIQKk3P4A2zeQux0QJn1hYNAHcbkXAAmWAnCwcoI8ybMB4c9/QOcsgLmJCyRRy8AI\n",
       "NsQPrggUTPcn8CCH0xWG+AcgzukAeDABo3T+BD1kRQdn3gcnCabaBIias/JfJjDwVk5ADfHVEElm\n",
       "d5jvYACuiGUDTzOuBAVWxNcA8ibjAlyKwOmJBxhBzDOv4kyZrWCKbzGhNA4AlldaZ/AH334AAAAA\n",
       "SUVORK5CYII=\n",
       "\" style=\"display:inline;vertical-align:middle;\" /></a><br>"
      ],
      "text/plain": [
       "expr: {y in R}"
      ]
     },
     "execution_count": 2,
     "metadata": {},
     "output_type": "execute_result"
    }
   ],
   "source": [
    "# build up the expression from sub-expressions\n",
    "expr = Set(InSet(y, R))"
   ]
  },
  {
   "cell_type": "code",
   "execution_count": 3,
   "metadata": {},
   "outputs": [
    {
     "name": "stdout",
     "output_type": "stream",
     "text": [
      "Passed sanity check: built 'expr' is the same as the stored Expression.\n"
     ]
    }
   ],
   "source": [
    "# check that the built expression is the same as the stored expression\n",
    "%check_expr"
   ]
  },
  {
   "cell_type": "code",
   "execution_count": 4,
   "metadata": {},
   "outputs": [
    {
     "data": {
      "text/html": [
       "<table><tr><th>&nbsp;</th><th>core type</th><th>sub-expressions</th><th>expression</th></tr>\n",
       "<tr><td>0</td><td>Operation</td><td>operator:&nbsp;1<br>operands:&nbsp;2<br></td><td><a class=\"ProveItLink\" href=\"expr.ipynb\"><img src=\"data:image/png;base64,iVBORw0KGgoAAAANSUhEUgAAAEcAAAAVBAMAAADm2O7QAAAAMFBMVEX///9ERETc3NyqqqpUVFS6\n",
       "urrMzMwyMjIQEBCIiIh2dnYiIiLu7u5mZmaYmJgAAABJJ2g3AAAAAXRSTlMAQObYZgAAAU5JREFU\n",
       "KM9jYGDgu8eAG7CtUgBRPLsY8AG2ZhDJ+QG77JT/Lo6VQPo6iMPVgMOMjwwMJwoYGFbgU8T2k4GB\n",
       "5StWRSerd2+HsDi/MTCwf8OmiK3uAIzJCBTPd0BSxLN2AYM+SFoRroaB34GBeScDVBEv0HFcrB8Y\n",
       "5oM4QghD8z3ndoLo9yAiI4CBIZl3A4MgKMwEEIrmH2CwTwDS7BcYGFLagIwDHBMYgJ5hYO3evRvm\n",
       "cAmwjUAg/oCBIQKk3P4A2zeQux0QJn1hYNAHcbkXAAmWAnCwcoI8ybMB4c9/QOcsgLmJCyRRy8AI\n",
       "NsQPrggUTPcn8CCH0xWG+AcgzukAeDABo3T+BD1kRQdn3gcnCabaBIias/JfJjDwVk5ADfHVEElm\n",
       "d5jvYACuiGUDTzOuBAVWxNcA8ibjAlyKwOmJBxhBzDOv4kyZrWCKbzGhNA4AlldaZ/AH334AAAAA\n",
       "SUVORK5CYII=\n",
       "\" style=\"display:inline;vertical-align:middle;\" /></a></td></tr>\n",
       "<tr><td>1</td><td>Literal</td><td></td><td><a class=\"ProveItLink\" href=\"../../../packages/proveit/logic/set_theory/enumeration/__pv_it/07381ed5b23806e8d7914b78cb6667769e3708dd0/expr.ipynb\"><img src=\"data:image/png;base64,iVBORw0KGgoAAAANSUhEUgAAAB4AAAAOBAMAAADKyLEKAAAAMFBMVEX///8iIiIQEBCIiIjMzMzc\n",
       "3Nyqqqp2dnZEREQyMjK6urru7u5mZmZUVFSYmJgAAACI6eGPAAAAAXRSTlMAQObYZgAAALRJREFU\n",
       "CNdjYGDgu3Nm3wIGBJjHwN0PZW5yYGDgLWBgyITy8zcwMMQDxZyh/INAvD6BgcEFypcB4vjPDiBm\n",
       "TPFRrhs/LjMwMP//38rAwCbKEMPA9gEkE3fp0waG+AUMRxh4JkC01T9guPTOOICBEWgVH5C//wHD\n",
       "H5D4fqCz9oCMDGD4DLaegRXslLMMDMpAgxlOMmQxHDRgYG5gYLBk4D7KcIe7gOHC2rt9QCXsh40Z\n",
       "GCKMGQDRkC8N/Ph1XAAAAABJRU5ErkJggg==\n",
       "\" style=\"display:inline;vertical-align:middle;\" /></a></td></tr>\n",
       "<tr><td>2</td><td>ExprTuple</td><td>3</td><td><a class=\"ProveItLink\" href=\"../42e9baad04548e332542e34ecb0067b3944c15010/expr.ipynb\"><img src=\"data:image/png;base64,iVBORw0KGgoAAAANSUhEUgAAAEAAAAAVBAMAAAAEBPWpAAAAMFBMVEX////c3NwiIiJERESqqqqY\n",
       "mJh2dnZmZmYQEBDu7u4yMjJUVFTMzMyIiIi6uroAAAAs73DqAAAAAXRSTlMAQObYZgAAAVNJREFU\n",
       "KM+Fkr9LQlEUxz/lz6c+C6KpQXEMgqKCtvYWm1t6tPgfNFSkhGvxqKEIgghEGgwjWorAoa3BtzWE\n",
       "KE3RkhBN/qhz30ufg68u3HPuPed7fh/498Qtb12gIeRpqOrl+/6mBDvyvBxu/Akn50RAHx4h1oFo\n",
       "l4BB2BwQn12kpp2X3oZIGy3H+6BZoY/25aBahgU2QcsYJJRqwvU2VsY/IzxDAYLxJnUlnXOdVR+e\n",
       "9xVf4QAeQ0nm5aPNuoC6Sboi/I0umGGLjmrZXirVS3LJjiKeFIC0GWurHMuuhxYkHEBe6BZ6ToVI\n",
       "uvV8wbphh1gUWsRnG9/2AaoNWUuDNakDtvlYVeLDRr8NTcnTmlRlvsr3qJYdV+KRYsXRHy+3LEIl\n",
       "mcIVYVu14Sj8d70qfo+0WsYRTWp5j4UIWmrco4bP8ACcyp3CX9v1WqlrldkfK6dX+AEXrVT3J00t\n",
       "+gAAAABJRU5ErkJggg==\n",
       "\" style=\"display:inline;vertical-align:middle;\" /></a></td></tr>\n",
       "<tr><td>3</td><td>Operation</td><td>operator:&nbsp;4<br>operands:&nbsp;5<br></td><td><a class=\"ProveItLink\" href=\"../304f80a086ce2279ef7adb379c5e865af0d14e320/expr.ipynb\"><img src=\"data:image/png;base64,iVBORw0KGgoAAAANSUhEUgAAADQAAAASBAMAAADmo+DzAAAAMFBMVEX///+YmJhUVFQyMjIQEBBE\n",
       "REQiIiKqqqrMzMyIiIi6urrc3NxmZmZ2dnbu7u4AAADXeCicAAAAAXRSTlMAQObYZgAAAPVJREFU\n",
       "GNNjYMACJv1XUrVkwA6+MjA8McAqw/GTgYHpF5LAS7O0ZAiL8wcDA/MPJKWGD2BMVgcGhn4FBr47\n",
       "Fxj2gwS3wmUY+BUY2DMZGHi5PjDMB/GjEQb0a87xBFLtPAkMoUCaLwAhNf8BQ30DA8MDlgkMQAcx\n",
       "cLmlpcGcEQI2k4Gh/gEHyDEcCghdnxgY9oO4hxk4HUAGJiDc+pGBQf4CkGHDwArWoAiXAnnr/AQ+\n",
       "BoZDDOsFQALPFsC99QHokgkbGRiezjy/ASTAbdMAkXkT/2kCA4/lBBD7GkSIXRnmQihgSuBzxxH+\n",
       "bBdYL+CQYp95CocMAERHO66SNiCSAAAAAElFTkSuQmCC\n",
       "\" style=\"display:inline;vertical-align:middle;\" /></a></td></tr>\n",
       "<tr><td>4</td><td>Literal</td><td></td><td><a class=\"ProveItLink\" href=\"../../../packages/proveit/logic/set_theory/membership/__pv_it/088cbc857536a28d4119ad9639a84270ccb0545d0/expr.ipynb\"><img src=\"data:image/png;base64,iVBORw0KGgoAAAANSUhEUgAAAAwAAAAMBAMAAACkW0HUAAAALVBMVEX///+qqqpmZmZUVFQQEBC6\n",
       "urpERETc3NyYmJjMzMwiIiIyMjKIiIju7u4AAACYsrA9AAAAAXRSTlMAQObYZgAAADxJREFUCNdj\n",
       "YOA9vWrVBgaG2b0MQMCeCyIZ2ArA1DUwyRCyahVIyWQI7xaEYm4AU7xLIdxqTQgtvGvVBgCkcQ7e\n",
       "geM/tQAAAABJRU5ErkJggg==\n",
       "\" style=\"display:inline;vertical-align:middle;\" /></a></td></tr>\n",
       "<tr><td>5</td><td>ExprTuple</td><td>6, 7</td><td><a class=\"ProveItLink\" href=\"../3262eb6624ddd5fc354c569eb33e7f80af392b380/expr.ipynb\"><img src=\"data:image/png;base64,iVBORw0KGgoAAAANSUhEUgAAADAAAAAVBAMAAADyTXAxAAAAMFBMVEX////c3NwiIiJERESqqqqY\n",
       "mJh2dnZmZmYQEBDu7u4yMjJUVFTMzMyIiIi6uroAAAAs73DqAAAAAXRSTlMAQObYZgAAAStJREFU\n",
       "KM91kStPA0EUhT/YPnbbbqlBIbp/AAUkODym1Rg2mP4DBBC6AgvZBEGDAUMIomQJkpBU1CG6DkGa\n",
       "AopgKCGobgt3ypDs8pjkPmbO3DP3noF/VzH8fZa+F3eTOLr7uLpswpakZ8nLb9A4Jgd2kqkwhPyI\n",
       "tIvpJwA7glyE5fGcZDI86AQwzzpYNZeyLpwKSM1KrHECmWKfnq7oXN/uqrjMHrSzDnMa6PlUWhKf\n",
       "GIFvhgw1sDhmk0oFUPELkQYGUP4CdsRvYHt6jHdYdcdUC+JPMQKs7zHqoaQr0hds8lLlyFFj9OX9\n",
       "cFq1+yjb/W69ROMVDpYGIdmmqHSOWVIUa2IPMQFEEpEr71iqhWoMyIRK9knXcH8Ah2IzpLrbqqG4\n",
       "lhdiE398rd3iE5PgTl+ILaFHAAAAAElFTkSuQmCC\n",
       "\" style=\"display:inline;vertical-align:middle;\" /></a></td></tr>\n",
       "<tr><td>6</td><td>Variable</td><td></td><td><a class=\"ProveItLink\" href=\"../../../packages/proveit/__pv_it/f8b9edf8e16034727f0aad55bb83e392c3db40d40/expr.ipynb\"><img src=\"data:image/png;base64,iVBORw0KGgoAAAANSUhEUgAAAAsAAAANBAMAAACN24kIAAAAMFBMVEX///+YmJhUVFQyMjIQEBBE\n",
       "REQiIiKqqqrMzMyIiIi6urrc3NxmZmZ2dnbu7u4AAADXeCicAAAAAXRSTlMAQObYZgAAAFhJREFU\n",
       "CNdj4LtzgWH/AwZerg8M8xkY2nkSGEIZGB6wTGD4ycDAUP+A4weQOszA6QCkbBhYFYDUIYb1AkDq\n",
       "6czzGxhA4BoQMyXwuQMptgusF4AU+8xTQBIAUqMVoSp/SLMAAAAASUVORK5CYII=\n",
       "\" style=\"display:inline;vertical-align:middle;\" /></a></td></tr>\n",
       "<tr><td>7</td><td>Variable</td><td></td><td><a class=\"ProveItLink\" href=\"../../../packages/proveit/__pv_it/e24df48bc297bbcf3538a62f5b4f635a392abfce0/expr.ipynb\"><img src=\"data:image/png;base64,iVBORw0KGgoAAAANSUhEUgAAABAAAAAOBAMAAADUAYG5AAAAMFBMVEX///92dnaYmJjc3NxmZmYi\n",
       "IiKqqqq6urrMzMwQEBDu7u4yMjJERERUVFSIiIgAAAArjcN0AAAAAXRSTlMAQObYZgAAAG1JREFU\n",
       "CNdjYGB4+//unX0MIPCHgWHlBiDN8Y+Bgfc7kMH3g4GBG4gZeCYwMPRfADL4LzCwxYHU9t97Mg+s\n",
       "6f0ChvwGEOMkWBYI/jIw2IMYHJ8YGPQFoMb4P+ACGvMBqP6BEcOS838fMLDsewAAOpQikqrQNfgA\n",
       "AAAASUVORK5CYII=\n",
       "\" style=\"display:inline;vertical-align:middle;\" /></a></td></tr>\n",
       "</table>\n"
      ],
      "text/plain": [
       "0. {y in R}\n",
       "   core type: Operation\n",
       "   operator: 1\n",
       "   operands: 2\n",
       "1. Set\n",
       "   core type: Literal\n",
       "   sub-expressions: \n",
       "2. (y in R)\n",
       "   core type: ExprTuple\n",
       "   sub-expressions: 3\n",
       "3. y in R\n",
       "   core type: Operation\n",
       "   operator: 4\n",
       "   operands: 5\n",
       "4. in\n",
       "   core type: Literal\n",
       "   sub-expressions: \n",
       "5. (y , R)\n",
       "   core type: ExprTuple\n",
       "   sub-expressions: 6, 7\n",
       "6. y\n",
       "   core type: Variable\n",
       "   sub-expressions: \n",
       "7. R\n",
       "   core type: Variable\n",
       "   sub-expressions: "
      ]
     },
     "execution_count": 4,
     "metadata": {},
     "output_type": "execute_result"
    }
   ],
   "source": [
    "# display the expression information\n",
    "expr.exprInfo()"
   ]
  },
  {
   "cell_type": "code",
   "execution_count": null,
   "metadata": {},
   "outputs": [],
   "source": []
  }
 ],
 "metadata": {
  "kernelspec": {
   "display_name": "Python 3",
   "language": "python",
   "name": "python3"
  }
 },
 "nbformat": 4,
 "nbformat_minor": 0
}
