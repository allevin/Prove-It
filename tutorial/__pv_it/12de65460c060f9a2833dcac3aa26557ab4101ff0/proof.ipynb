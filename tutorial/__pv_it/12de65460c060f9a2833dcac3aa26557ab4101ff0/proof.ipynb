{
 "cells": [
  {
   "cell_type": "markdown",
   "metadata": {},
   "source": [
    "Show the Proof\n",
    "========"
   ]
  },
  {
   "cell_type": "code",
   "execution_count": 1,
   "metadata": {},
   "outputs": [
    {
     "data": {
      "text/html": [
       "<table><tr><th>&nbsp;</th><th>step type</th><th>requirements</th><th>statement</th></tr>\n",
       "<tr><td>0</td><td>hypothetical reasoning</td><td>1</td><td><span style=\"font-size:20px;\"><a class=\"ProveItLink\" href=\"../2700633c29669936275e69317ebd77c3a6285b9c0/expr.ipynb\"><img src=\"data:image/png;base64,iVBORw0KGgoAAAANSUhEUgAAACIAAAAVBAMAAADRFiHkAAAAMFBMVEX///9ERETc3NyqqqpUVFS6\n",
       "urrMzMwyMjIQEBCIiIh2dnYiIiLu7u5mZmaYmJgAAABJJ2g3AAAAAXRSTlMAQObYZgAAAK1JREFU\n",
       "GNNjYGDgu8cAA1mLQCTPLgYEyDAAEpwfIBy2DUCCtwBIcDVARNg/wDgwkdd/0ESYbD+hiXByfkUT\n",
       "iWH+B+OAjWfgCWD7CaT4QMZnBIBEWBmY/oLoWgaGlDawphQXl48gmrGOgSEiAcQCKmwH0SAPsIDM\n",
       "YQbiHTBzuECuVwbiemTbeUDq5A8gRJgkviswPPxfi+YvMMAhwocsAvYAz07kMAR7gG8xSjgDAMfT\n",
       "LYlEWPTfAAAAAElFTkSuQmCC\n",
       "\" style=\"display:inline;vertical-align:middle;\" /></a> <a class=\"ProveItLink\" href=\"proof.ipynb\" style=\"text-decoration: none\">&#x22A2;&nbsp;</a><a class=\"ProveItLink\" href=\"../ecb84f62ac26003bcbf7fcfeb11a3f3c41dfb0360/expr.ipynb\"><img src=\"data:image/png;base64,iVBORw0KGgoAAAANSUhEUgAAAH8AAAAVBAMAAACd/CwcAAAAMFBMVEX////c3NwiIiJERESqqqqY\n",
       "mJh2dnZmZmYQEBDu7u4yMjJUVFTMzMyIiIi6uroAAAAs73DqAAAAAXRSTlMAQObYZgAAAd9JREFU\n",
       "OMtjYKAY8F0gpIL1AV7p0xDqEDa56P+7d1s9YKjBauz+37s3rwMyVkL467Ga3szAwP6PgQurHIcB\n",
       "A0P9AwZeiA9Y9SfAZTjhLJ6/QPybgTUBoQ2h7DxQ5/kNDBwQEZF6AbgMF1wR70eg0d8YOBsQBqyE\n",
       "s+4DdcQnMLyC8C7cR4QU3wYYixmok6mTgcEEYcBrOMsCiDUmMJRB9EzwD0AoyoUx+DcwMC4Guicd\n",
       "IccGj7TfDAxSlgwMS8GceWAfMTAUKYGAfgHMm3vvFoEM9gJx2MFySt9h4fP77nVVIN0H5j1gkC9A\n",
       "CmCvB3BvcmoD6RdIcizrEOEzCejZf2DTdu/eb4CkiHPFA7g37wOdcB45+mb1wcOH9yvUAD5grC5A\n",
       "UnMqE+5NUECjGMCzbAIsfEAxxNAC4jgAA7sBEQZKllC1QAsY9jtAvQANA2VoJJ8Huoz7CwODKZDN\n",
       "CFTD9QFhiTdSMmD8BWREIQXBBqRkIL8AEkOzQF76CVfDuAApGZwApRykaJRCSgY8XUDXPGJgEO5f\n",
       "yMBq/wseDczQRMlu/3v3LnA0r0MYYAili4H5bBUoijkEMHIJD7oAclI+gJErEwgXGWx4i4yVhA2Y\n",
       "hVdWmrABG/HKMhIs0ngP4JEEAKk4fDD5jM13AAAAAElFTkSuQmCC\n",
       "\" style=\"display:inline;vertical-align:middle;\" /></a></span></td></tr>\n",
       "<tr><td>1</td><td>modus ponens</td><td>2, 3</td><td><span style=\"font-size:20px;\"><a class=\"ProveItLink\" href=\"../f32ce663a58497e4bac337dc9f10a2f73cedf0980/expr.ipynb\"><img src=\"data:image/png;base64,iVBORw0KGgoAAAANSUhEUgAAAGwAAAAVBAMAAABRZRb3AAAAMFBMVEX///9ERETc3NyqqqpUVFS6\n",
       "urrMzMwyMjIQEBCIiIh2dnYiIiLu7u5mZmaYmJgAAABJJ2g3AAAAAXRSTlMAQObYZgAAAYJJREFU\n",
       "OMtjYGDgu8dAEshaBCJ5djGQCDIMgATnBwiHbQMWFXz+X1wcSxF8sCLeAiDB1QARYf+AzWQOAQaG\n",
       "+wFwLlgRWAdM2+s/CMUH4Kz8CUDsAOeCFSFrY7L9hNBWA2fNV2BgeL8AxoMoQtbGyfkVoS0EzpIA\n",
       "4h1wyyGKkLXFMP9DaOOaAGN9YWBQl4GLQxSBdYDDhYEngO0niObdDQZ/YSH3ZebcfXBdUEV8oHDJ\n",
       "AIcTKwPTX6QAZIYGOifQL6fhIQJTVMvAkNIGFklxcfmIHPDHW8EUI9A9nHDXwxQx1jEwRCSAWEAr\n",
       "25F0sVVBgoEfaBPfL5goTBEoXbGA/MYMCjAkv22EBl7+A6CCzzCXQxWB/cYFSi/KQFyP5DUHpGjT\n",
       "L4DGP0wRPAJ4QDbKI9KGOlK0sbUfYOD5zYCkCKaNSeK7AsPD/7VwbUJQ+uJ/F5dyoDt5+hWQFKGk\n",
       "SWSQgC7AqoDEwakNMwMxoGvjI1kbOF3x7CRC2wSU3A1OV3yLSS9LAHxvb5SGMlqOAAAAAElFTkSu\n",
       "QmCC\n",
       "\" style=\"display:inline;vertical-align:middle;\" /></a> <a class=\"ProveItLink\" href=\"../fdc39327f8dd72e05015436ac7335ec2f29dd2c30/proof.ipynb\" style=\"text-decoration: none\">&#x22A2;&nbsp;</a><a class=\"ProveItLink\" href=\"../../../packages/proveit/__pv_it/077b2ff79244fb4582cbe22c6e3356fa92a52f2f0/expr.ipynb\"><img src=\"data:image/png;base64,iVBORw0KGgoAAAANSUhEUgAAABAAAAAOBAMAAADUAYG5AAAAMFBMVEX///+qqqru7u4iIiJ2dnbc\n",
       "3NyIiIjMzMxmZmYQEBC6uroyMjJERERUVFSYmJgAAADLUcuvAAAAAXRSTlMAQObYZgAAAGpJREFU\n",
       "CNdjYGB4+//u3dMLGIBgDgMDxy8gzf4NiP8CGWxfGRj4vgAZPBMYGJgnARn8FxhY9ygAGfXX0pof\n",
       "gDTlBzAw2YIYJ0EckBBI53sHoBH/gIz7AhBjWH9DjancBLTl/N+7t/cxMAAA3u4f/5xagjYAAAAA\n",
       "SUVORK5CYII=\n",
       "\" style=\"display:inline;vertical-align:middle;\" /></a></span></td></tr>\n",
       "<tr><td>2</td><td>assumption</td><td></td><td><span style=\"font-size:20px;\"><a class=\"ProveItLink\" href=\"../66a92c5148ead109d2c1504b4ed687854d902aae0/expr.ipynb\"><img src=\"data:image/png;base64,iVBORw0KGgoAAAANSUhEUgAAAFMAAAAVBAMAAADInc9CAAAAMFBMVEX///9ERETc3NyqqqpUVFS6\n",
       "urrMzMwyMjIQEBCIiIh2dnYiIiLu7u5mZmaYmJgAAABJJ2g3AAAAAXRSTlMAQObYZgAAAU9JREFU\n",
       "KM9jYGDgu8dACLCtUgBRPLsYCAO2ZhDJ+QHK24BFCZ//FxfHUiDjOojH1QARZf+AzTgOAQaG+wEM\n",
       "DCuQlb7+g1DAA2flTwBiB1SlTLafEErZD8BY84H+eb8AVSkn51eEUlYHGEsCiHccQFUaw/wPyYkr\n",
       "YYwvDAzqMgxQpbwFYNcFsP0Ey93eDQL7L0CD5cvMuftAjPcgIiMAbCUD019kn5sHQJwF9MBpkGvY\n",
       "gXpT2sBiKS4uH5GV8lSA1TICXccJdpn4AwaGiAQQCyjRjqw0fQ2Y4geayPcLyOAGhgIDC8itzCCP\n",
       "Irl1tww0WIFmsXyGuZULFKHKQFyPZKgJUrDqFzAgBRYPiCcPD3cGpgJEsLK1H0BSyiTxXYHh4f9a\n",
       "uFJGBQh98b+LS/kDBga0NICS5jBEcCplwK6Ujyil4PTKs5OYXNAKSemLictbAOAEWqBdr+e5AAAA\n",
       "AElFTkSuQmCC\n",
       "\" style=\"display:inline;vertical-align:middle;\" /></a> <a class=\"ProveItLink\" href=\"../daefea40ee0d745c36e6a490f37edc56a08433c30/proof.ipynb\" style=\"text-decoration: none\">&#x22A2;&nbsp;</a><a class=\"ProveItLink\" href=\"../../../packages/proveit/__pv_it/1a7a4d5df6b0ba17e3111765cf22cb78a34004c90/expr.ipynb\"><img src=\"data:image/png;base64,iVBORw0KGgoAAAANSUhEUgAAAEAAAAAPBAMAAACmSdRUAAAAMFBMVEX///92dnYQEBBERERUVFS6\n",
       "urqIiIhmZmaqqqrc3Nzu7u6YmJgyMjIiIiLMzMwAAACFkkdwAAAAAXRSTlMAQObYZgAAAOhJREFU\n",
       "GNNjYACBtwxYwJb/Li42ARD2eWwKGJQZGNi/glnc9xcghOFMvm9A/AXMnFE/AaHgFIzB9hOo9SOY\n",
       "mZAfgFAQAmMwKzAw8GqBWKwL+jcgFDAmQBn8Dgych8EWLmV4DxZkvwsG36EK3rul1UI0BjDML0By\n",
       "PMdRCJ0/gYHrCti1Li7+BsjeW6MKpoxAikBGsDIwMB1Akuc7CPEpyIf7BYBEA9CxCkhuuAyR5/sN\n",
       "JPyBkpxAzPMByQkOiGDg/AOyEeTlXwgFc5CC4REw1Cbrn2Tgtv+D8IYlhGK3/+LicxpbFD1A5QIA\n",
       "YgVCLvPPxacAAAAASUVORK5CYII=\n",
       "\" style=\"display:inline;vertical-align:middle;\" /></a></span></td></tr>\n",
       "<tr><td>3</td><td>assumption</td><td></td><td><span style=\"font-size:20px;\"><a class=\"ProveItLink\" href=\"../2700633c29669936275e69317ebd77c3a6285b9c0/expr.ipynb\"><img src=\"data:image/png;base64,iVBORw0KGgoAAAANSUhEUgAAACIAAAAVBAMAAADRFiHkAAAAMFBMVEX///9ERETc3NyqqqpUVFS6\n",
       "urrMzMwyMjIQEBCIiIh2dnYiIiLu7u5mZmaYmJgAAABJJ2g3AAAAAXRSTlMAQObYZgAAAK1JREFU\n",
       "GNNjYGDgu8cAA1mLQCTPLgYEyDAAEpwfIBy2DUCCtwBIcDVARNg/wDgwkdd/0ESYbD+hiXByfkUT\n",
       "iWH+B+OAjWfgCWD7CaT4QMZnBIBEWBmY/oLoWgaGlDawphQXl48gmrGOgSEiAcQCKmwH0SAPsIDM\n",
       "YQbiHTBzuECuVwbiemTbeUDq5A8gRJgkviswPPxfi+YvMMAhwocsAvYAz07kMAR7gG8xSjgDAMfT\n",
       "LYlEWPTfAAAAAElFTkSuQmCC\n",
       "\" style=\"display:inline;vertical-align:middle;\" /></a> <a class=\"ProveItLink\" href=\"../0cbf4ba18936f5d879bcab1d3c6cf36bbb2fc9690/proof.ipynb\" style=\"text-decoration: none\">&#x22A2;&nbsp;</a><a class=\"ProveItLink\" href=\"../../../packages/proveit/__pv_it/2cbe72a7ad6f655694dd697106680215e8489b600/expr.ipynb\"><img src=\"data:image/png;base64,iVBORw0KGgoAAAANSUhEUgAAAA8AAAAOBAMAAAACpFvcAAAALVBMVEX///8QEBBERERUVFS6urqI\n",
       "iIhmZmaqqqrc3Nzu7u6YmJgyMjIiIiLMzMwAAADtIaYWAAAAAXRSTlMAQObYZgAAAFtJREFUCNdj\n",
       "YACBOwxQsA9Kc52bAGG05zVAGAFxDmCaZULdAjBjCsO9ADDDgaEvAUTzGhvbKYCVMDAwbgAxChgY\n",
       "eASANAeQwf0AyJgNxEwvGRia5HYwcOm9TgAA6BoR3jrzwFcAAAAASUVORK5CYII=\n",
       "\" style=\"display:inline;vertical-align:middle;\" /></a></span></td></tr>\n",
       "</table>"
      ],
      "text/plain": [
       "<proveit._core_.proof._ShowProof at 0x7f94eb0bef28>"
      ]
     },
     "execution_count": 1,
     "metadata": {},
     "output_type": "execute_result"
    }
   ],
   "source": [
    "import proveit\n",
    "%show_proof"
   ]
  },
  {
   "cell_type": "code",
   "execution_count": null,
   "metadata": {},
   "outputs": [],
   "source": []
  }
 ],
 "metadata": {
  "kernelspec": {
   "display_name": "Python 3",
   "language": "python",
   "name": "python3"
  }
 },
 "nbformat": 4,
 "nbformat_minor": 0
}
