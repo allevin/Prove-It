{
 "cells": [
  {
   "cell_type": "markdown",
   "metadata": {},
   "source": [
    "Expression of type <a class=\"ProveItLink\" href=\"../../../doc/html/api/proveit.ExprTuple.html\">ExprTuple</a>\n",
    "=======================\n",
    "# from context <a class=\"ProveItLink\" href=\"../../_context_.ipynb\">tutorial</a>"
   ]
  },
  {
   "cell_type": "code",
   "execution_count": 1,
   "metadata": {},
   "outputs": [],
   "source": [
    "# import Expression classes needed to build the expression\n",
    "from proveit import ExprTuple, Function\n",
    "from proveit._common_ import P, Q, a\n",
    "from proveit.logic import InSet"
   ]
  },
  {
   "cell_type": "code",
   "execution_count": 2,
   "metadata": {},
   "outputs": [
    {
     "data": {
      "text/html": [
       "<strong id=\"expr\">expr:</strong> <a class=\"ProveItLink\" href=\"expr.ipynb\"><img src=\"data:image/png;base64,iVBORw0KGgoAAAANSUhEUgAAAHcAAAAVBAMAAACOK2zoAAAAMFBMVEX////c3NwiIiJERESqqqqY\n",
       "mJh2dnZmZmYQEBDu7u4yMjJUVFTMzMyIiIi6uroAAAAs73DqAAAAAXRSTlMAQObYZgAAAe9JREFU\n",
       "OMtjYKAI8F0gXW0cFDOcxqqMd//v3Zs2QjliZdkQXTC17AcgmGEldkv4FzAwWAiAmWxrGBg2TWBA\n",
       "VrsAgnlxuPp8AgODfwKIxbkYSHBsYEBWGwbBHBOQdHDeUlJaAGHef8DAEF8AYnEpgBz6kwFZ7QwI\n",
       "foVs3alIONMeiPc7gFj1IM+x/WNAVsvsAMZlQCbj3rxGkBCjJcKcX0B3fAYLgkm2L0ACoZatAIyX\n",
       "AgVeCDB/AJsnANfL842B4RDY1exfwVJ/gARCLcsCMO4DGvaVgd0ApGIyUlT9TktPBLOYfoIDvwFI\n",
       "INTyNYAx0C/cHxiYwOH4QkkJFmDMP+FxBtIGCXiEWp4PYAwU4DdgmH8ALb3wK6CyVkyAaIaqhWpu\n",
       "YWCQv8DgzwCSnIQUzQUwFhcoOFhAXkZSC3W2KQPDfAeGXSwgq7kD4JpB0QwMb5C+f4x3D5wAcxFq\n",
       "WYGeA+J0oNkBLOpsYLV6iGgGp4f5ICcnTWNIMQQLItRCo+oRKOruHb4HlpWqgaa04v97wQnpIygr\n",
       "7cpVYeABcRFquR6AMYcAchLzXgRLnhDwEELZMMSAKIRaaPJkTcCXgaGBYM4HNhKhNheKVxKhef9/\n",
       "cIDB1XIugGAGaTx6eaH0iVYIDVPLLQDBDIwkFEMwtXcgGADAjpX6OFRw+QAAAABJRU5ErkJggg==\n",
       "\" style=\"display:inline;vertical-align:middle;\" /></a><br>"
      ],
      "text/plain": [
       "expr: (a in P , Q(a))"
      ]
     },
     "execution_count": 2,
     "metadata": {},
     "output_type": "execute_result"
    }
   ],
   "source": [
    "# build up the expression from sub-expressions\n",
    "expr = ExprTuple(InSet(a, P), Function(Q, a))"
   ]
  },
  {
   "cell_type": "code",
   "execution_count": 3,
   "metadata": {},
   "outputs": [
    {
     "name": "stdout",
     "output_type": "stream",
     "text": [
      "Passed sanity check: built 'expr' is the same as the stored Expression.\n"
     ]
    }
   ],
   "source": [
    "# check that the built expression is the same as the stored expression\n",
    "%check_expr"
   ]
  },
  {
   "cell_type": "code",
   "execution_count": 4,
   "metadata": {},
   "outputs": [
    {
     "data": {
      "text/html": [
       "<table><tr><th>&nbsp;</th><th>core type</th><th>sub-expressions</th><th>expression</th></tr>\n",
       "<tr><td>0</td><td>ExprTuple</td><td>1, 2</td><td><a class=\"ProveItLink\" href=\"expr.ipynb\"><img src=\"data:image/png;base64,iVBORw0KGgoAAAANSUhEUgAAAHcAAAAVBAMAAACOK2zoAAAAMFBMVEX////c3NwiIiJERESqqqqY\n",
       "mJh2dnZmZmYQEBDu7u4yMjJUVFTMzMyIiIi6uroAAAAs73DqAAAAAXRSTlMAQObYZgAAAe9JREFU\n",
       "OMtjYKAI8F0gXW0cFDOcxqqMd//v3Zs2QjliZdkQXTC17AcgmGEldkv4FzAwWAiAmWxrGBg2TWBA\n",
       "VrsAgnlxuPp8AgODfwKIxbkYSHBsYEBWGwbBHBOQdHDeUlJaAGHef8DAEF8AYnEpgBz6kwFZ7QwI\n",
       "foVs3alIONMeiPc7gFj1IM+x/WNAVsvsAMZlQCbj3rxGkBCjJcKcX0B3fAYLgkm2L0ACoZatAIyX\n",
       "AgVeCDB/AJsnANfL842B4RDY1exfwVJ/gARCLcsCMO4DGvaVgd0ApGIyUlT9TktPBLOYfoIDvwFI\n",
       "INTyNYAx0C/cHxiYwOH4QkkJFmDMP+FxBtIGCXiEWp4PYAwU4DdgmH8ALb3wK6CyVkyAaIaqhWpu\n",
       "YWCQv8DgzwCSnIQUzQUwFhcoOFhAXkZSC3W2KQPDfAeGXSwgq7kD4JpB0QwMb5C+f4x3D5wAcxFq\n",
       "WYGeA+J0oNkBLOpsYLV6iGgGp4f5ICcnTWNIMQQLItRCo+oRKOruHb4HlpWqgaa04v97wQnpIygr\n",
       "7cpVYeABcRFquR6AMYcAchLzXgRLnhDwEELZMMSAKIRaaPJkTcCXgaGBYM4HNhKhNheKVxKhef9/\n",
       "cIDB1XIugGAGaTx6eaH0iVYIDVPLLQDBDIwkFEMwtXcgGADAjpX6OFRw+QAAAABJRU5ErkJggg==\n",
       "\" style=\"display:inline;vertical-align:middle;\" /></a></td></tr>\n",
       "<tr><td>1</td><td>Operation</td><td>operator:&nbsp;3<br>operands:&nbsp;4<br></td><td><a class=\"ProveItLink\" href=\"../89cf27d4eb21ff09805dd8c96549a56d8700f0ce0/expr.ipynb\"><img src=\"data:image/png;base64,iVBORw0KGgoAAAANSUhEUgAAADUAAAAPBAMAAAC2KZqIAAAAMFBMVEX///8yMjKqqqrMzMzu7u4i\n",
       "IiJmZmaYmJhEREQQEBC6urp2dnaIiIhUVFTc3NwAAAD87Fq/AAAAAXRSTlMAQObYZgAAAM1JREFU\n",
       "GNNjYMACeO7/vXv1HgN2wC/AwND5ALuc/QYGBv0NSAIsB0NDBSDM8wsYGOoTkOQMS+DMfiC+r8DA\n",
       "wHdn1zwQn68Foewj0JQfQHrlA44PID4Hwm7m3wwMpkAj+b4zsDWABDyQ/PB397Z9QJr3AwPrAZDA\n",
       "ytBQmFs4vkC90sDgbwBi2CJ5LwBCvz/AoM/gAGS4InkP6nx/BYaLTCCNvAVwOZD3QICxgCmMG+z1\n",
       "KIT3HCA0351TFqfArIfJ0PDJ+H8HIxR1RWFhBgEAfSUyVTqsz68AAAAASUVORK5CYII=\n",
       "\" style=\"display:inline;vertical-align:middle;\" /></a></td></tr>\n",
       "<tr><td>2</td><td>Operation</td><td>operator:&nbsp;5<br>operand:&nbsp;6<br></td><td><a class=\"ProveItLink\" href=\"../3810afdc3a8ba19f6edc09d9e49864ab66d137c70/expr.ipynb\"><img src=\"data:image/png;base64,iVBORw0KGgoAAAANSUhEUgAAACwAAAAVBAMAAADP3xFXAAAAMFBMVEX///+YmJiqqqq6uroQEBBE\n",
       "RETu7u4iIiLMzMwyMjKIiIhUVFRmZmZ2dnbc3NwAAADS0us6AAAAAXRSTlMAQObYZgAAASVJREFU\n",
       "GNNjYCAMrCAUowGI5LtzdxeYy7EBKn0CRNxsYOAuAzE4E6DCnECcGQAkvEG8VTDDGC8wMEwHMc6D\n",
       "FLrBhNkcGHh+gBj3gbYwT4DbHcTwPgAsrMDAwAPUyvB6rckDBoY7DOcFQMLxDUCLgCxmP4Z4IFeT\n",
       "oR5s/RcgZgEa9F6A4SiQaQIWYGD6CyT4gcL7GRiqgMx+hu9gh7pBhb8ysP0AC88HCes3gAxRYOD7\n",
       "xcD0gQ1kiL7BqxUcziA5VgEGtk8M3BM0GBgkGXjLLvCqPgAJ8x5gYJjIoH7gAsiBDNZzlyswgAxh\n",
       "LgA6e5VFFNCKyWDdDYwgYQY/JM+DhA9YgnmyMGHeBSCS+/9nBpSAzYQEvws4ABj4YNGwDzXSXkEo\n",
       "rgYGAHaeQO5VG29KAAAAAElFTkSuQmCC\n",
       "\" style=\"display:inline;vertical-align:middle;\" /></a></td></tr>\n",
       "<tr><td>3</td><td>Literal</td><td></td><td><a class=\"ProveItLink\" href=\"../../../packages/proveit/logic/set_theory/membership/__pv_it/088cbc857536a28d4119ad9639a84270ccb0545d0/expr.ipynb\"><img src=\"data:image/png;base64,iVBORw0KGgoAAAANSUhEUgAAAAwAAAAMBAMAAACkW0HUAAAALVBMVEX///+qqqpmZmZUVFQQEBC6\n",
       "urpERETc3NyYmJjMzMwiIiIyMjKIiIju7u4AAACYsrA9AAAAAXRSTlMAQObYZgAAADxJREFUCNdj\n",
       "YOA9vWrVBgaG2b0MQMCeCyIZ2ArA1DUwyRCyahVIyWQI7xaEYm4AU7xLIdxqTQgtvGvVBgCkcQ7e\n",
       "geM/tQAAAABJRU5ErkJggg==\n",
       "\" style=\"display:inline;vertical-align:middle;\" /></a></td></tr>\n",
       "<tr><td>4</td><td>ExprTuple</td><td>6, 7</td><td><a class=\"ProveItLink\" href=\"../9cbea8db70df7bb06fbeb41dfa86b56d657374000/expr.ipynb\"><img src=\"data:image/png;base64,iVBORw0KGgoAAAANSUhEUgAAADEAAAAVBAMAAAAdjxsPAAAAMFBMVEX////c3NwiIiJERESqqqqY\n",
       "mJh2dnZmZmYQEBDu7u4yMjJUVFTMzMyIiIi6uroAAAAs73DqAAAAAXRSTlMAQObYZgAAARZJREFU\n",
       "KM9jYMAN+C5gEYwDEadRhHj3/969aSMD+wEgeyWqav4FDAwWAgxAkhfNsPMJDAz+CQxhDAwcE1Bl\n",
       "7j9gYIgvYJjBwPAKzW57IN7vwMDswFAG4kpfeyEAlfnFwMD5mYGBrYBhKcjhjWClIMDzjYHhUAED\n",
       "A8sChj4gVz6AoRjm6t9p6YkgxQ0M/0DmMjDoQmWYf0L1fgDLfGbg/APzjgJcpoWBgfEvA8sHTqh3\n",
       "CqBh1sBgCnTLFwbuBT4ME2DeAQHWBQzpQGopg1NBAucnsHegHge6+hHIO3ff2D7g7Bdg4Cz+vxci\n",
       "w/WAgUMAHh0CSEEBDB3WBBiHFTmQcpFjAVmGcwHIEhgPOTq4QSYzYovtOwwMAFaUQp5hra0yAAAA\n",
       "AElFTkSuQmCC\n",
       "\" style=\"display:inline;vertical-align:middle;\" /></a></td></tr>\n",
       "<tr><td>5</td><td>Variable</td><td></td><td><a class=\"ProveItLink\" href=\"../../../packages/proveit/__pv_it/98124f92e6e1fc3772af50ac63eaa1f5624776f20/expr.ipynb\"><img src=\"data:image/png;base64,iVBORw0KGgoAAAANSUhEUgAAAA8AAAASBAMAAAB2sJk8AAAAMFBMVEX///+YmJiqqqq6uroQEBBE\n",
       "RETu7u4iIiLMzMwyMjKIiIhUVFRmZmZ2dnbc3NwAAADS0us6AAAAAXRSTlMAQObYZgAAAHxJREFU\n",
       "CNdjYGDgu3N3FwMI3Gxg4C4D0pkBQMIbiKeDRM8nMPD8ADHuGzC8DwAzFBjOC4AY8Q0M9Qkgxhcw\n",
       "YmBg+svA8B3E4HRjYJgPYug3ALHBqxUczkAOb9kFXtUHIGHrucsVGBrAtrI2MEIZByzBNAP3/88Q\n",
       "BocL0BoActoerD1tNT4AAAAASUVORK5CYII=\n",
       "\" style=\"display:inline;vertical-align:middle;\" /></a></td></tr>\n",
       "<tr><td>6</td><td>Variable</td><td></td><td><a class=\"ProveItLink\" href=\"../../../packages/proveit/__pv_it/07527342713064c87612d00d8557c53d53d5324a0/expr.ipynb\"><img src=\"data:image/png;base64,iVBORw0KGgoAAAANSUhEUgAAAAsAAAAJBAMAAAAWSsseAAAAMFBMVEX///8yMjKqqqrMzMzu7u4i\n",
       "IiJmZmaYmJhEREQQEBC6urp2dnaIiIhUVFTc3NwAAAD87Fq/AAAAAXRSTlMAQObYZgAAAEhJREFU\n",
       "CNdjYOC7s2seAwPDygccHxgY+L4zsDUwMPB+YGA9wMDA38Dgb8DA8P4Agz6DA4O/AsNFJgMGxgKm\n",
       "MG6gyjunLE4xAAAZTBA5TB6DCwAAAABJRU5ErkJggg==\n",
       "\" style=\"display:inline;vertical-align:middle;\" /></a></td></tr>\n",
       "<tr><td>7</td><td>Variable</td><td></td><td><a class=\"ProveItLink\" href=\"../../../packages/proveit/__pv_it/6369c6c8083c513ca7161ace249642d040f9327d0/expr.ipynb\"><img src=\"data:image/png;base64,iVBORw0KGgoAAAANSUhEUgAAABAAAAAOBAMAAADUAYG5AAAAMFBMVEX////u7u5mZmaYmJi6urqq\n",
       "qqp2dnbMzMwQEBBEREQyMjLc3NwiIiJUVFSIiIgAAAAeC3ydAAAAAXRSTlMAQObYZgAAAGBJREFU\n",
       "CNdjYGB4+//u3bMbGIDgFwMDZzeQZv/GwMAKxAx8XxgYmD8BGZwfGBh4vwIZ/AsYGOQnABn1CQzs\n",
       "h0Ca3l9LUwPrni/AAAF/oDT7JygDZAwYcH6E0ELz/z4A0QBnpRnRyxnfJQAAAABJRU5ErkJggg==\n",
       "\" style=\"display:inline;vertical-align:middle;\" /></a></td></tr>\n",
       "</table>\n"
      ],
      "text/plain": [
       "0. (a in P , Q(a))\n",
       "   core type: ExprTuple\n",
       "   sub-expressions: 1, 2\n",
       "1. a in P\n",
       "   core type: Operation\n",
       "   operator: 3\n",
       "   operands: 4\n",
       "2. Q(a)\n",
       "   core type: Operation\n",
       "   operator: 5\n",
       "   operand: 6\n",
       "3. in\n",
       "   core type: Literal\n",
       "   sub-expressions: \n",
       "4. (a , P)\n",
       "   core type: ExprTuple\n",
       "   sub-expressions: 6, 7\n",
       "5. Q\n",
       "   core type: Variable\n",
       "   sub-expressions: \n",
       "6. a\n",
       "   core type: Variable\n",
       "   sub-expressions: \n",
       "7. P\n",
       "   core type: Variable\n",
       "   sub-expressions: "
      ]
     },
     "execution_count": 4,
     "metadata": {},
     "output_type": "execute_result"
    }
   ],
   "source": [
    "# display the expression information\n",
    "expr.exprInfo()"
   ]
  },
  {
   "cell_type": "code",
   "execution_count": null,
   "metadata": {},
   "outputs": [],
   "source": []
  }
 ],
 "metadata": {
  "kernelspec": {
   "display_name": "Python 3",
   "language": "python",
   "name": "python3"
  }
 },
 "nbformat": 4,
 "nbformat_minor": 0
}
