{
 "cells": [
  {
   "cell_type": "markdown",
   "metadata": {},
   "source": [
    "Expression of type <a class=\"ProveItLink\" href=\"../../../doc/html/api/proveit.Lambda.html\">Lambda</a>\n",
    "=======================\n",
    "# from context <a class=\"ProveItLink\" href=\"../../_context_.ipynb\">tutorial</a>"
   ]
  },
  {
   "cell_type": "code",
   "execution_count": 1,
   "metadata": {},
   "outputs": [],
   "source": [
    "# import Expression classes needed to build the expression\n",
    "from proveit import Lambda\n",
    "from proveit._common_ import x, y\n",
    "from proveit.logic import Exists, NotEquals"
   ]
  },
  {
   "cell_type": "code",
   "execution_count": 2,
   "metadata": {},
   "outputs": [
    {
     "data": {
      "text/html": [
       "<strong id=\"expr\">expr:</strong> <a class=\"ProveItLink\" href=\"expr.ipynb\"><img src=\"data:image/png;base64,iVBORw0KGgoAAAANSUhEUgAAAJgAAAAWCAMAAAALpqW7AAAAP1BMVEX///8LCwsYGBgoKCi6uroU\n",
       "FBQNDQ0yMjJERETMzMwQEBAiIiKYmJju7u5mZmaqqqpUVFSIiIh2dnbc3NwAAAAS4NNmAAAAAXRS\n",
       "TlMAQObYZgAAAfVJREFUSMfdV9tWxCAMREW5XwL8/7cKBbotl3a7bl/Mg56DMBkmkxQR+h8BgjDk\n",
       "a8z3YTgBcsPDEudfROCLxFw6YEtwNdvG7AmOJ+N1zTZ5LhOrQaeSEXWCY2eJya3EAF4ULFbR3UmM\n",
       "vywYUvxGYpicoDA6/xs1ax7vwHoDGvZlLmHMZWLalYI1wI+DbCeSWw74sOjsdM2j4qoUEnFRNopG\n",
       "dtUScyJHmBAjsiRsgJEmS3z9pJ9r4zqEQzJmyEKQmseVRcPGxJT1FxXjuCRsgMeCMYN0SklzfTFf\n",
       "FUuqbIv+8y12wQO+Rqzs74CrBfdDLm7jqdghV5yFbR6+tYE4aKErxDrgWun2mEnuYoH1xPyyqMbE\n",
       "tD8yPwbazQe+9sseOJYsxudHLsRDS51sBRw1pZQ++w7GxBgcdaUCFFuA8b2Hsvk74IlgiKRGpKXA\n",
       "sprfBIloBPYrAWgtcEDMKxzvAXsn5Y7vgUcOWxSLSzjI7eGYR1FwyjmQzw9YUsfFYu/YfLbJvWg+\n",
       "Ae4FSztB19lD8N8n/zobeDMQ+PxBZPQEWLzxk5RJsDwfB1/iUYj+M2pF4lMaxsG7iBkLlDz97BkJ\n",
       "JuI1aLmKesuzZxkIvrNYWrXPC4ZMdFiFrV+Zy8RAiL2f4lVHjwk/eZGd5ANWs1wlNrquu+W/i1/r\n",
       "/BszBbbILQAAAABJRU5ErkJggg==\n",
       "\" style=\"display:inline;vertical-align:middle;\" /></a><br>"
      ],
      "text/plain": [
       "expr: x -> [exists_{y} (x != y)]"
      ]
     },
     "execution_count": 2,
     "metadata": {},
     "output_type": "execute_result"
    }
   ],
   "source": [
    "# build up the expression from sub-expressions\n",
    "expr = Lambda(x, Exists([y], NotEquals(x, y), conditions = []))"
   ]
  },
  {
   "cell_type": "code",
   "execution_count": 3,
   "metadata": {},
   "outputs": [
    {
     "name": "stdout",
     "output_type": "stream",
     "text": [
      "Passed sanity check: built 'expr' is the same as the stored Expression.\n"
     ]
    }
   ],
   "source": [
    "# check that the built expression is the same as the stored expression\n",
    "%check_expr"
   ]
  },
  {
   "cell_type": "code",
   "execution_count": 4,
   "metadata": {},
   "outputs": [
    {
     "data": {
      "text/html": [
       "<table><tr><th>&nbsp;</th><th>core type</th><th>sub-expressions</th><th>expression</th></tr>\n",
       "<tr><td>0</td><td>Lambda</td><td>parameter:&nbsp;7<br>body:&nbsp;1<br></td><td><a class=\"ProveItLink\" href=\"expr.ipynb\"><img src=\"data:image/png;base64,iVBORw0KGgoAAAANSUhEUgAAAJgAAAAWCAMAAAALpqW7AAAAP1BMVEX///8LCwsYGBgoKCi6uroU\n",
       "FBQNDQ0yMjJERETMzMwQEBAiIiKYmJju7u5mZmaqqqpUVFSIiIh2dnbc3NwAAAAS4NNmAAAAAXRS\n",
       "TlMAQObYZgAAAfVJREFUSMfdV9tWxCAMREW5XwL8/7cKBbotl3a7bl/Mg56DMBkmkxQR+h8BgjDk\n",
       "a8z3YTgBcsPDEudfROCLxFw6YEtwNdvG7AmOJ+N1zTZ5LhOrQaeSEXWCY2eJya3EAF4ULFbR3UmM\n",
       "vywYUvxGYpicoDA6/xs1ax7vwHoDGvZlLmHMZWLalYI1wI+DbCeSWw74sOjsdM2j4qoUEnFRNopG\n",
       "dtUScyJHmBAjsiRsgJEmS3z9pJ9r4zqEQzJmyEKQmseVRcPGxJT1FxXjuCRsgMeCMYN0SklzfTFf\n",
       "FUuqbIv+8y12wQO+Rqzs74CrBfdDLm7jqdghV5yFbR6+tYE4aKErxDrgWun2mEnuYoH1xPyyqMbE\n",
       "tD8yPwbazQe+9sseOJYsxudHLsRDS51sBRw1pZQ++w7GxBgcdaUCFFuA8b2Hsvk74IlgiKRGpKXA\n",
       "sprfBIloBPYrAWgtcEDMKxzvAXsn5Y7vgUcOWxSLSzjI7eGYR1FwyjmQzw9YUsfFYu/YfLbJvWg+\n",
       "Ae4FSztB19lD8N8n/zobeDMQ+PxBZPQEWLzxk5RJsDwfB1/iUYj+M2pF4lMaxsG7iBkLlDz97BkJ\n",
       "JuI1aLmKesuzZxkIvrNYWrXPC4ZMdFiFrV+Zy8RAiL2f4lVHjwk/eZGd5ANWs1wlNrquu+W/i1/r\n",
       "/BszBbbILQAAAABJRU5ErkJggg==\n",
       "\" style=\"display:inline;vertical-align:middle;\" /></a></td></tr>\n",
       "<tr><td>1</td><td>Operation</td><td>operator:&nbsp;2<br>operand:&nbsp;3<br></td><td><a class=\"ProveItLink\" href=\"../d1bf8b7cb8466b2bc14d3b53cda1b9b30431b4380/expr.ipynb\"><img src=\"data:image/png;base64,iVBORw0KGgoAAAANSUhEUgAAAGEAAAAWCAMAAADn/wLoAAAAPFBMVEX///8LCwsYGBgNDQ0oKCiY\n",
       "mJhmZmaqqqrMzMyIiIi6uroyMjIiIiJ2dnZERETu7u4QEBBUVFTc3NwAAAC8NU0NAAAAAXRSTlMA\n",
       "QObYZgAAAYNJREFUSMe1VoduwyAQpYNxx4b//9ey7NQMG0UtUhIZczze8DmE/P8Ix7hZg/CwiZ5W\n",
       "Uyw/vg1nl/XCP51SzueZ+H1l1iSkfUDwuKrcQwB4k0LSSW8huLcpEOt2EFA+AAizvmf4BgJrTIMG\n",
       "HziwQTNz8dPqUhBiYa5Z+qg64gpB0laZZFWUOHVCyzK+v/L3GTdNMGbzYrnicoODw1ZZy7i4pSA4\n",
       "YfkMpkqHbgMhVoRM2k8Ux+vDkpa5rGOsYoq4j1DoTHIr+zqeHRBRTBEQzJhOd8YhlLLzLsv2fX5U\n",
       "G1/sWJYemjqdShZI8lu4TufqNA3VPbD3FIhkuahpR69OB4vJJOjEzoHL3CkxCTvAnQuFQ5rCSF/F\n",
       "8khrsTIlxndiY4mnNaCt1kAfXCgrgR3ZlzhJpuvj6NY9kbNFN1eTrlE3E/V5Wbev61Bjy/Iqb9zS\n",
       "oYfwcQ9G7nfvGQWVzmPamawc33ejDXna71MgPLlwiO8HfRP2tJOGxRsC75suiBm+/uv/AT9RQRIK\n",
       "HmNLXQAAAABJRU5ErkJggg==\n",
       "\" style=\"display:inline;vertical-align:middle;\" /></a></td></tr>\n",
       "<tr><td>2</td><td>Literal</td><td></td><td><a class=\"ProveItLink\" href=\"../../../packages/proveit/logic/boolean/quantification/existential/__pv_it/da19b8f23feda7f65e2e1ac67a7814d51a597b7d0/expr.ipynb\"><img src=\"data:image/png;base64,iVBORw0KGgoAAAANSUhEUgAAAAsAAAAPBAMAAADAEygDAAAAHlBMVEX///8yMjIiIiJ2dnZERETu\n",
       "7u4QEBBUVFTc3NwAAAASHk26AAAAAXRSTlMAQObYZgAAAClJREFUCNdj4OgAAgYG9vLy8rIABhBg\n",
       "acBLMSspKWk2EKMSSjGCNAQAAOmBC/mFU4xZAAAAAElFTkSuQmCC\n",
       "\" style=\"display:inline;vertical-align:middle;\" /></a></td></tr>\n",
       "<tr><td>3</td><td>Lambda</td><td>parameter:&nbsp;8<br>body:&nbsp;4<br></td><td><a class=\"ProveItLink\" href=\"../3d91766128fc89b3b8457e08b91931f09565f5080/expr.ipynb\"><img src=\"data:image/png;base64,iVBORw0KGgoAAAANSUhEUgAAAGwAAAAVCAMAAACUlfv2AAAAP1BMVEX///8LCwsYGBgoKCgUFBQN\n",
       "DQ2YmJhUVFQyMjIQEBBEREQiIiKqqqrMzMyIiIi6urrc3NxmZmZ2dnbu7u4AAAAcetcUAAAAAXRS\n",
       "TlMAQObYZgAAAYBJREFUSMfNVVeWwyAMZEvoTcD9z7rIdhxEwCVfy3txXMQMMxKCsf88gj8JSHH0\n",
       "locPuJw4CYhy/B7cfTKZTwLETIK8zeX9h8KqkekumfpYGMvqbnWceeH0/Ju2lTEBCowlj7y1lmR5\n",
       "syImL6L18GaqJmVAoRPUHwsFs1G2CNP50hon+QZSU2A4U3ssyGX8PPC6FyyFtpI5ywDnaD0my6LZ\n",
       "NypsICuCdYfCOuigWF24QjfK05LHryFDlVfOt1sUKwbZCXQTdtAOBVq01BU3Vkbqq+FVg00g++ZB\n",
       "oBcywJLwe2F2ZNACqL1c4oKw5xPQg++v1YuXZgId8F8C+irGZI4I0GuB8Lgm3edjYRSaIzPUh1D4\n",
       "3iR639smC6s5nOm6zOiPMsZ66GVy1t5DiZc29SK7Tkg5Jc9PMtZBy2fCk7nYruZrsjA5ckzTroTB\n",
       "G3uN7KCbmve2SaATmm7qfH25I0+PmJGwFjovbdBWW68fo1FcF0agRWT3R5ycaCfr9bgt/wA5NhLQ\n",
       "I7XXMQAAAABJRU5ErkJggg==\n",
       "\" style=\"display:inline;vertical-align:middle;\" /></a></td></tr>\n",
       "<tr><td>4</td><td>Operation</td><td>operator:&nbsp;5<br>operands:&nbsp;6<br></td><td><a class=\"ProveItLink\" href=\"../b9d691cd69837b82095d22d2c08ed132738136330/expr.ipynb\"><img src=\"data:image/png;base64,iVBORw0KGgoAAAANSUhEUgAAADMAAAAUCAMAAAAX1vWWAAAAPFBMVEX///8LCwsYGBgNDQ0oKCi6\n",
       "uroyMjJERETMzMwQEBAiIiKYmJju7u5mZmaqqqpUVFSIiIh2dnbc3NwAAACyXdPkAAAAAXRSTlMA\n",
       "QObYZgAAANBJREFUOMvNU0sWwiAMjB/KNxDg/nc1obZqK/jYmQUdIGFmSgAYRi4wG2WZLoGk/pXG\n",
       "6L6CTKlEQjpuaPM+CxmzZNcgGMA7D9Ztu7i0uN9kTPtvB1X5Q7XhFUQzpDERUE7VIjiI2S/KVfqY\n",
       "cpoV9XWzYOlcsxxbIIoTU5/spYGw+3Ec14tr8VKAcltkBfqy+qIwpoEFxU5qjB40FxcauWk8vKQ4\n",
       "mxVpyiFn8j/ctEzC2m/0iJ234fpt48K5+Tg92DhF4/jydZ6igchuRn0+fgMPuMgIfJwzrpMAAAAA\n",
       "SUVORK5CYII=\n",
       "\" style=\"display:inline;vertical-align:middle;\" /></a></td></tr>\n",
       "<tr><td>5</td><td>Literal</td><td></td><td><a class=\"ProveItLink\" href=\"../../../packages/proveit/logic/equality/__pv_it/43637204f35b46c076ae787093288c6a879642310/expr.ipynb\"><img src=\"data:image/png;base64,iVBORw0KGgoAAAANSUhEUgAAAA4AAAAUCAMAAACK2/weAAAAM1BMVEX///8LCwsYGBgNDQ0oKCju\n",
       "7u4iIiJmZmaqqqpERETMzMy6urpUVFQyMjLc3Nx2dnYAAAB8DqOrAAAAAXRSTlMAQObYZgAAAE5J\n",
       "REFUGNNjYEAAfj4kDgMfLzKPgYebaEkuThRJTi4wxc4LBizMIJIHTRIKuHlQdPLCHMTOBgRMjGxg\n",
       "wIkmiVcnGHCwo0iysRItyYDsMQCO9QJkhxsUAQAAAABJRU5ErkJggg==\n",
       "\" style=\"display:inline;vertical-align:middle;\" /></a></td></tr>\n",
       "<tr><td>6</td><td>ExprTuple</td><td>7, 8</td><td><a class=\"ProveItLink\" href=\"../a6a2ac9310c73e21661c7634808321702fb219240/expr.ipynb\"><img src=\"data:image/png;base64,iVBORw0KGgoAAAANSUhEUgAAACwAAAAVBAMAAADP3xFXAAAAMFBMVEX////c3NwiIiJERESqqqqY\n",
       "mJh2dnZmZmYQEBDu7u4yMjJUVFTMzMyIiIi6uroAAAAs73DqAAAAAXRSTlMAQObYZgAAAQtJREFU\n",
       "GNNjYMAB+C6gi7A+ABKnMVXWAPFKTGEuBgbeC5jCrAkMHBMwhTkbGF5hc4YJQxmQFLstch1i1rQy\n",
       "BsafDAzpDEuBehJYVTkUwMIJ7xl4PzAweDH0MTCwAZksB0CiPA5FDMwGDAwvGP4BVTNwG0DtYuhl\n",
       "4Acadx4kzMDAAXMly0+G8wdAwi0gnvwBBog72Rcw3GAAGWIKdL3AfQbeCWAJrgIGayAVBXQLg3+A\n",
       "BYMsA+cnkOoNfF8ZQA58xMAw+dq03AAGzn4BoJ221z8ChdcxcAjAQxjMYlMAex4YLLAAAuJNDDMc\n",
       "gFIXkAIWJKzGYAYkZwGxNEwY5Hbf66CY2QjEjBgBznuAAQAt5DtyKXSr1gAAAABJRU5ErkJggg==\n",
       "\" style=\"display:inline;vertical-align:middle;\" /></a></td></tr>\n",
       "<tr><td>7</td><td>Variable</td><td></td><td><a class=\"ProveItLink\" href=\"../../../packages/proveit/__pv_it/530be409e3083890784cf1d7b28c9e67e90af9360/expr.ipynb\"><img src=\"data:image/png;base64,iVBORw0KGgoAAAANSUhEUgAAAAsAAAAJBAMAAAAWSsseAAAAKlBMVEX///9ERETMzMwQEBAiIiKY\n",
       "mJju7u5mZmaqqqpUVFSIiIh2dnbc3NwAAAA/vyDhAAAAAXRSTlMAQObYZgAAAENJREFUCNdjYDi9\n",
       "8sTyBQxsG1hdmR0YuBm4LnAoMLAxcAowgADzAjB1VoEhgYH1wFoGrgSG3gBhhlMMDImrs3cFMAAA\n",
       "t0YN+iTRa+sAAAAASUVORK5CYII=\n",
       "\" style=\"display:inline;vertical-align:middle;\" /></a></td></tr>\n",
       "<tr><td>8</td><td>Variable</td><td></td><td><a class=\"ProveItLink\" href=\"../../../packages/proveit/__pv_it/f8b9edf8e16034727f0aad55bb83e392c3db40d40/expr.ipynb\"><img src=\"data:image/png;base64,iVBORw0KGgoAAAANSUhEUgAAAAsAAAANBAMAAACN24kIAAAAMFBMVEX///+YmJhUVFQyMjIQEBBE\n",
       "REQiIiKqqqrMzMyIiIi6urrc3NxmZmZ2dnbu7u4AAADXeCicAAAAAXRSTlMAQObYZgAAAFhJREFU\n",
       "CNdj4LtzgWH/AwZerg8M8xkY2nkSGEIZGB6wTGD4ycDAUP+A4weQOszA6QCkbBhYFYDUIYb1AkDq\n",
       "6czzGxhA4BoQMyXwuQMptgusF4AU+8xTQBIAUqMVoSp/SLMAAAAASUVORK5CYII=\n",
       "\" style=\"display:inline;vertical-align:middle;\" /></a></td></tr>\n",
       "</table>\n"
      ],
      "text/plain": [
       "0. x -> [exists_{y} (x != y)]\n",
       "   core type: Lambda\n",
       "   parameter: 7\n",
       "   body: 1\n",
       "1. exists_{y} (x != y)\n",
       "   core type: Operation\n",
       "   operator: 2\n",
       "   operand: 3\n",
       "2. exists\n",
       "   core type: Literal\n",
       "   sub-expressions: \n",
       "3. y -> (x != y)\n",
       "   core type: Lambda\n",
       "   parameter: 8\n",
       "   body: 4\n",
       "4. x != y\n",
       "   core type: Operation\n",
       "   operator: 5\n",
       "   operands: 6\n",
       "5. !=\n",
       "   core type: Literal\n",
       "   sub-expressions: \n",
       "6. (x , y)\n",
       "   core type: ExprTuple\n",
       "   sub-expressions: 7, 8\n",
       "7. x\n",
       "   core type: Variable\n",
       "   sub-expressions: \n",
       "8. y\n",
       "   core type: Variable\n",
       "   sub-expressions: "
      ]
     },
     "execution_count": 4,
     "metadata": {},
     "output_type": "execute_result"
    }
   ],
   "source": [
    "# display the expression information\n",
    "expr.exprInfo()"
   ]
  },
  {
   "cell_type": "code",
   "execution_count": null,
   "metadata": {},
   "outputs": [],
   "source": []
  }
 ],
 "metadata": {
  "kernelspec": {
   "display_name": "Python 3",
   "language": "python",
   "name": "python3"
  }
 },
 "nbformat": 4,
 "nbformat_minor": 0
}
