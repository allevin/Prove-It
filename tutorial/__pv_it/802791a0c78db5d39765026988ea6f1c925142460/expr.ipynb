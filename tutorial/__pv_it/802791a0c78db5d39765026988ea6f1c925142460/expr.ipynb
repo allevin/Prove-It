{
 "cells": [
  {
   "cell_type": "markdown",
   "metadata": {},
   "source": [
    "Expression of type <a class=\"ProveItLink\" href=\"../../../doc/html/api/proveit.Lambda.html\">Lambda</a>\n",
    "=======================\n",
    "# from context <a class=\"ProveItLink\" href=\"../../_context_.ipynb\">tutorial</a>"
   ]
  },
  {
   "cell_type": "code",
   "execution_count": 1,
   "metadata": {},
   "outputs": [],
   "source": [
    "# import Expression classes needed to build the expression\n",
    "from proveit import Lambda, Variable\n",
    "from proveit._common_ import x, z"
   ]
  },
  {
   "cell_type": "code",
   "execution_count": 2,
   "metadata": {},
   "outputs": [
    {
     "data": {
      "text/html": [
       "<strong id=\"expr\">expr:</strong> <a class=\"ProveItLink\" href=\"../5f526f7b90e078ff2d3da8a13ec0964ff99d055f0/expr.ipynb\"><img src=\"data:image/png;base64,iVBORw0KGgoAAAANSUhEUgAAAFsAAAAVCAMAAAAeumK3AAAANlBMVEX///8UFBQNDQ3c3NwiIiJE\n",
       "RESqqqqYmJh2dnZmZmYQEBDu7u4yMjJUVFTMzMyIiIi6uroAAABQuW4xAAAAAXRSTlMAQObYZgAA\n",
       "AU9JREFUOMu1VddyxCAMJJFBIIrg/382mOIzDpeBmYsfGJdlWa2KhfjfK/ISDOM+dfCLQBO2uZ1d\n",
       "Ru5SMy9DUW9y07JsYWkzkTuBSrXFbVqcoNmDYjM41D0IVEm1mVuvxjMjURTAwmENN9PggYKOeyqg\n",
       "3QDVU9RFeYwK/d1YkMjGyGx3vBRyyrvDU3bZxdgEveG2Hm4P5UVeU7yevXykIlz5w3pkSP3b99cx\n",
       "XJSGzoLSM7d39KjGIlv5m/Ev7odu4QfqWPNCVxoghW5BwxdWVRIt/vbEwJDaBpfVSYRit2D74pfh\n",
       "VJoFQW9dfJPLwL+pfS8rlVDILApOkE11pyY25M+lx/aqwdG+of2CQ4PosqZYeKxkbbWu5WAplRCt\n",
       "Sy6cy+WlWxmF+XxMVQ7BpFnhIz0/HUA4h2r+wIydc9vtGdvqfBi7c6CH/R8PrIXKu7+dHw64Cu4V\n",
       "B/uEAAAAAElFTkSuQmCC\n",
       "\" style=\"display:inline;vertical-align:middle;\" /></a><br>"
      ],
      "text/plain": [
       "expr: (x, omega) -> z"
      ]
     },
     "execution_count": 2,
     "metadata": {},
     "output_type": "execute_result"
    }
   ],
   "source": [
    "# build up the expression from sub-expressions\n",
    "expr = Lambda([x, Variable(\"omega\", latexFormat = r\"\\omega\")], z)"
   ]
  },
  {
   "cell_type": "code",
   "execution_count": 3,
   "metadata": {},
   "outputs": [
    {
     "name": "stdout",
     "output_type": "stream",
     "text": [
      "Passed sanity check: built 'expr' is the same as the stored Expression.\n"
     ]
    }
   ],
   "source": [
    "# check that the built expression is the same as the stored expression\n",
    "%check_expr"
   ]
  },
  {
   "cell_type": "code",
   "execution_count": 4,
   "metadata": {},
   "outputs": [
    {
     "data": {
      "text/html": [
       "<table><tr><th>&nbsp;</th><th>core type</th><th>sub-expressions</th><th>expression</th></tr>\n",
       "<tr><td>0</td><td>Lambda</td><td>parameters:&nbsp;1<br>body:&nbsp;2<br></td><td><a class=\"ProveItLink\" href=\"../5f526f7b90e078ff2d3da8a13ec0964ff99d055f0/expr.ipynb\"><img src=\"data:image/png;base64,iVBORw0KGgoAAAANSUhEUgAAAFsAAAAVCAMAAAAeumK3AAAANlBMVEX///8UFBQNDQ3c3NwiIiJE\n",
       "RESqqqqYmJh2dnZmZmYQEBDu7u4yMjJUVFTMzMyIiIi6uroAAABQuW4xAAAAAXRSTlMAQObYZgAA\n",
       "AU9JREFUOMu1VddyxCAMJJFBIIrg/382mOIzDpeBmYsfGJdlWa2KhfjfK/ISDOM+dfCLQBO2uZ1d\n",
       "Ru5SMy9DUW9y07JsYWkzkTuBSrXFbVqcoNmDYjM41D0IVEm1mVuvxjMjURTAwmENN9PggYKOeyqg\n",
       "3QDVU9RFeYwK/d1YkMjGyGx3vBRyyrvDU3bZxdgEveG2Hm4P5UVeU7yevXykIlz5w3pkSP3b99cx\n",
       "XJSGzoLSM7d39KjGIlv5m/Ev7odu4QfqWPNCVxoghW5BwxdWVRIt/vbEwJDaBpfVSYRit2D74pfh\n",
       "VJoFQW9dfJPLwL+pfS8rlVDILApOkE11pyY25M+lx/aqwdG+of2CQ4PosqZYeKxkbbWu5WAplRCt\n",
       "Sy6cy+WlWxmF+XxMVQ7BpFnhIz0/HUA4h2r+wIydc9vtGdvqfBi7c6CH/R8PrIXKu7+dHw64Cu4V\n",
       "B/uEAAAAAElFTkSuQmCC\n",
       "\" style=\"display:inline;vertical-align:middle;\" /></a></td></tr>\n",
       "<tr><td>1</td><td>ExprTuple</td><td>3, 4</td><td><a class=\"ProveItLink\" href=\"../90400acadb44fbb53c7c0b9a4d6d4b590294ebf00/expr.ipynb\"><img src=\"data:image/png;base64,iVBORw0KGgoAAAANSUhEUgAAAC8AAAAVBAMAAAAk6KpUAAAAMFBMVEX////c3NwiIiJERESqqqqY\n",
       "mJh2dnZmZmYQEBDu7u4yMjJUVFTMzMyIiIi6uroAAAAs73DqAAAAAXRSTlMAQObYZgAAAQtJREFU\n",
       "KM9jYMAJ+C5gisWBiNNYFLMfABIrsRmzgIGB9wI2iTAGBo4J2CRmMDC8wuoiZgeGMiAldlvkOsRE\n",
       "NiDmaQHSBQxLGRg4E1hVORTAEheBmLGNgYFlAUMfSBnvB5YDYIkEBk4GhqtAzzUw/APqYOA2gHr2\n",
       "AMjaGKBxH0ASQKdB3Qy0whukDSTRAhKQP8AAdjU3A0MKA2MC2ChTBgZWgfsMvBNAUswHeP4xSAEZ\n",
       "rAsY0hkY/AMsGGQZOD8Bjeqt2HEdZAbQuY8YGCZfm5YbwMDZL8DAuX7NrF8PgBJcDxg4BODhL4AS\n",
       "JKwJMA4rUpDkIgc7kgQnMNgZpGE8pPDnBpnKiCVC7jAwAAD7Jjg6jISTPwAAAABJRU5ErkJggg==\n",
       "\" style=\"display:inline;vertical-align:middle;\" /></a></td></tr>\n",
       "<tr><td>2</td><td>Variable</td><td></td><td><a class=\"ProveItLink\" href=\"../../../packages/proveit/__pv_it/251502494639118b4892de8e9d720a5fcce840e10/expr.ipynb\"><img src=\"data:image/png;base64,iVBORw0KGgoAAAANSUhEUgAAAAoAAAAJBAMAAAD5iKAgAAAALVBMVEX///8yMjLMzMx2dnaqqqpU\n",
       "VFTu7u5mZmaYmJhERESIiIjc3NwQEBC6uroAAAB+iRisAAAAAXRSTlMAQObYZgAAADlJREFUCNdj\n",
       "YOA9c2EXA8POrvIJDAwJDKkJDAwM3AFAguE6iGAxAJHODAwBDEwSFY0XGNgZ+o4wAABKtAsIcBKm\n",
       "agAAAABJRU5ErkJggg==\n",
       "\" style=\"display:inline;vertical-align:middle;\" /></a></td></tr>\n",
       "<tr><td>3</td><td>Variable</td><td></td><td><a class=\"ProveItLink\" href=\"../../../packages/proveit/__pv_it/530be409e3083890784cf1d7b28c9e67e90af9360/expr.ipynb\"><img src=\"data:image/png;base64,iVBORw0KGgoAAAANSUhEUgAAAAsAAAAJBAMAAAAWSsseAAAAKlBMVEX///9ERETMzMwQEBAiIiKY\n",
       "mJju7u5mZmaqqqpUVFSIiIh2dnbc3NwAAAA/vyDhAAAAAXRSTlMAQObYZgAAAENJREFUCNdjYDi9\n",
       "8sTyBQxsG1hdmR0YuBm4LnAoMLAxcAowgADzAjB1VoEhgYH1wFoGrgSG3gBhhlMMDImrs3cFMAAA\n",
       "t0YN+iTRa+sAAAAASUVORK5CYII=\n",
       "\" style=\"display:inline;vertical-align:middle;\" /></a></td></tr>\n",
       "<tr><td>4</td><td>Variable</td><td></td><td><a class=\"ProveItLink\" href=\"../9d7c4e1c5ee4d34a7826567c9ff37cf313ab71e60/expr.ipynb\"><img src=\"data:image/png;base64,iVBORw0KGgoAAAANSUhEUgAAAA0AAAAJBAMAAAAbVLtZAAAALVBMVEX///9mZmYyMjJERERUVFS6\n",
       "urqYmJju7u7c3NyIiIiqqqoQEBDMzMx2dnYAAACcB6guAAAAAXRSTlMAQObYZgAAAExJREFUCNdj\n",
       "YLjAwMBwegEDZwOQ7r7AwMvAUMDAmcAQw8C+gYHtAFCaywEkCCQWMPQyMNgwnAvgUGdguD1xy07p\n",
       "BQwMRY+O66kyMAAAM0ARC3HE760AAAAASUVORK5CYII=\n",
       "\" style=\"display:inline;vertical-align:middle;\" /></a></td></tr>\n",
       "</table>\n"
      ],
      "text/plain": [
       "0. (x, omega) -> z\n",
       "   core type: Lambda\n",
       "   parameters: 1\\n   body: 2\n",
       "1. (x , omega)\n",
       "   core type: ExprTuple\n",
       "   sub-expressions: 3, 4\n",
       "2. z\n",
       "   core type: Variable\n",
       "   sub-expressions: \n",
       "3. x\n",
       "   core type: Variable\n",
       "   sub-expressions: \n",
       "4. omega\n",
       "   core type: Variable\n",
       "   sub-expressions: "
      ]
     },
     "execution_count": 4,
     "metadata": {},
     "output_type": "execute_result"
    }
   ],
   "source": [
    "# display the expression information\n",
    "expr.exprInfo()"
   ]
  },
  {
   "cell_type": "code",
   "execution_count": null,
   "metadata": {},
   "outputs": [],
   "source": []
  }
 ],
 "metadata": {
  "kernelspec": {
   "display_name": "Python 3",
   "language": "python",
   "name": "python3"
  }
 },
 "nbformat": 4,
 "nbformat_minor": 0
}
