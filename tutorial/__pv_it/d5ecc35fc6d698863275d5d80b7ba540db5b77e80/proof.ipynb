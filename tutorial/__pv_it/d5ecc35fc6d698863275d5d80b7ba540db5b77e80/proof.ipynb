{
 "cells": [
  {
   "cell_type": "markdown",
   "metadata": {},
   "source": [
    "Show the Proof\n",
    "========"
   ]
  },
  {
   "cell_type": "code",
   "execution_count": 1,
   "metadata": {},
   "outputs": [
    {
     "data": {
      "text/html": [
       "<table><tr><th>&nbsp;</th><th>step type</th><th>requirements</th><th>statement</th></tr>\n",
       "<tr><td>0</td><td>assumption</td><td></td><td><span style=\"font-size:20px;\"><a class=\"ProveItLink\" href=\"../7d9bd72453095aac9b98adab765d973f84f35f320/expr.ipynb\"><img src=\"data:image/png;base64,iVBORw0KGgoAAAANSUhEUgAAAGEAAAAVBAMAAACkm51HAAAAMFBMVEX///9ERETc3NyqqqpUVFS6\n",
       "urrMzMwyMjIQEBCIiIh2dnYiIiLu7u5mZmaYmJgAAABJJ2g3AAAAAXRSTlMAQObYZgAAAe9JREFU\n",
       "OMuNUz1IHGEQfd6fut5tBAWJjbZWXqqQ6o5UBhsLQa2yRQo7bdJooZiYRLC4QkQR4cAioogWNoqg\n",
       "oJCQNEcKBQVNIQg2CYIhJEfivJlv93K5xoU3+75l33xv5psPgH+Oez6ptU6+0rvVn4dqud9nQOoV\n",
       "l43fGWMba88sT57xaK4z4vIcO+CEwZtkfB8gsUdSf8DYnvsacRIHrEaKD80SXnO5qE5vDyOutoqG\n",
       "fxTjZBdMOUsWV6fGNcOkoaLI/CDblOKSo2SZLUbj+rQ4RIruZlVk5V/u7fdsl2D80yliZWADBlVk\n",
       "JNMF60RHIPUpe1DQeoUXn2szH8Pwjd+Hxcu+NuWnoIFtR3cA46nsGerEwCAM9bL3izfuX8R/Mbsq\n",
       "cmpeeBozuuEIDGiTfQcl3281MRsp1kMF4mWMBBVFE8tMSB0TmphWGrKkraoglyoXUHGldXjSyVxf\n",
       "13xqmqs6rXwGIRfjlF85RN319oreI51Lr6RHjpBn8sk/+K+7eub9Y0tZ0FWSZ5csq4I8/XD5RuhL\n",
       "h4pCLAS+tnSK4+wOeyp0XTslVJQG9H0NXFoxynvxUer3CgZT+KZI/DXzMuFvP4dDfoBdtHO0Hex+\n",
       "pHfsJr2zxLE8rr84hfAnyzygpw7WT/grVbe2q5Y3Bga953c0QIftveUS0AAAAABJRU5ErkJggg==\n",
       "\" style=\"display:inline;vertical-align:middle;\" /></a> <a class=\"ProveItLink\" href=\"proof.ipynb\" style=\"text-decoration: none\">&#x22A2;&nbsp;</a><a class=\"ProveItLink\" href=\"../a42dcb2a1478b3b87b8f129e549a557692557fd00/expr.ipynb\"><img src=\"data:image/png;base64,iVBORw0KGgoAAAANSUhEUgAAAEwAAAAVBAMAAAAeOBUnAAAAMFBMVEX///+YmJiqqqq6uroQEBBE\n",
       "RETu7u4iIiLMzMwyMjKIiIhUVFRmZmZ2dnbc3NwAAADS0us6AAAAAXRSTlMAQObYZgAAAZdJREFU\n",
       "KM+Vkr1LA0EQxV+8JOTjLtqKBK6x0CYpbNRCQQkYIQRLJRhEEBEhVRoR7z9IwMJKTCEomiKFIFjI\n",
       "ddporhMhonWaKIZo48fM7N0hpHLhLb+7fTszO7vA/8dUPwfSSkCi9XQlvyINnrfOX3ymcesKjxbi\n",
       "ZYZokedCashnBlebeZoW+c8ZT+H3NZ8lq6N0wB9N3pxhGniV1YxnC8+K9E/+eKYqtSqTXuJZsYwl\n",
       "UScvNpMMDue42LGhePsOiR7QAqvJBWPVokKFBmtSOLEzgxhVMAbWnhypSwpKezoWFEfMG4Qo1QRY\n",
       "Xan7i+OILSUFEYeRldAVsD4kR8a3PXg2DPRQsTzbkYTgTEGTcUVszHoVx/CSptLt08gcL4XkCFl4\n",
       "HLVlz7DIKDvGKN8iDFsuAR7rDe0NXkMwfXhigpNq3FitJzbm8HL9m3DfFUJWQLqQI8Xc9uckZsm/\n",
       "LLbZk7KUBEZUgcKXWKeDGDUlIP6jCqLHs7DhvZ8idlHgB+SKnuC8CpFoIHnv2ojH69zIa1d/Rruf\n",
       "Y5boFwSzY5YYqpq0AAAAAElFTkSuQmCC\n",
       "\" style=\"display:inline;vertical-align:middle;\" /></a></span></td></tr>\n",
       "</table>"
      ],
      "text/plain": [
       "<proveit._core_.proof._ShowProof at 0x7f94ea6e7978>"
      ]
     },
     "execution_count": 1,
     "metadata": {},
     "output_type": "execute_result"
    }
   ],
   "source": [
    "import proveit\n",
    "%show_proof"
   ]
  },
  {
   "cell_type": "code",
   "execution_count": null,
   "metadata": {},
   "outputs": [],
   "source": []
  }
 ],
 "metadata": {
  "kernelspec": {
   "display_name": "Python 3",
   "language": "python",
   "name": "python3"
  }
 },
 "nbformat": 4,
 "nbformat_minor": 0
}
