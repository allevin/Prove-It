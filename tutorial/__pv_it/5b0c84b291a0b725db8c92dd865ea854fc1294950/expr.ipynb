{
 "cells": [
  {
   "cell_type": "markdown",
   "metadata": {},
   "source": [
    "Expression of type <a class=\"ProveItLink\" href=\"../../../doc/html/api/proveit.ExprTuple.html\">ExprTuple</a>\n",
    "=======================\n",
    "# from context <a class=\"ProveItLink\" href=\"../../_context_.ipynb\">tutorial</a>"
   ]
  },
  {
   "cell_type": "code",
   "execution_count": 1,
   "metadata": {},
   "outputs": [],
   "source": [
    "# import Expression classes needed to build the expression\n",
    "from proveit import ExprTuple, Function\n",
    "from proveit._common_ import Q, fy"
   ]
  },
  {
   "cell_type": "code",
   "execution_count": 2,
   "metadata": {},
   "outputs": [
    {
     "data": {
      "text/html": [
       "<strong id=\"expr\">expr:</strong> <a class=\"ProveItLink\" href=\"expr.ipynb\"><img src=\"data:image/png;base64,iVBORw0KGgoAAAANSUhEUgAAAFsAAAAVBAMAAADbSo+2AAAAMFBMVEX////c3NwiIiJERESqqqqY\n",
       "mJh2dnZmZmYQEBDu7u4yMjJUVFTMzMyIiIi6uroAAAAs73DqAAAAAXRSTlMAQObYZgAAAb5JREFU\n",
       "KM+VU7FLQmEQ/5n6fK/UnFocekP/QIS0NPgf2NRShIjgEEI0OBSkhK3xIIi2hIgSGqwlCCKHBqHF\n",
       "OZKkLReFagjMurvP9z0dGjr43fvdu5/37vvuBP5p0eZfkcvXR4BHdjOFDZWTyLq70pwsVPeAKsG4\n",
       "BK4dDCP4s5+as1U8RKiqdUrcrEFFwMlbUnO2FQ8mFZ20+ZNfUBGQEpHibMceOvQoclPGACoCtsR3\n",
       "9Jn9SY0C4Hvnd8YHuQKz1b0bKG7l0ph1YGzCxRm1IQfz98mdSbVv8cSNaA8vQKCicQBMcNeYLpE7\n",
       "YObri5z4Q8jGAg2gpDEYCpFKk+P+EeiJnLhjNvlT4Z4Gy/licOG4csN25Ug54f6YvEz3yNUC0kFZ\n",
       "TlGDy7cRKY01kyDlwNeqN9osSciFq/kwP5ffBisaOXqZOUJ2XiQ5GWpb8x10lzF6ka+8erf5OYRZ\n",
       "whG6apzMD1vFGHXb1jBjklvCmvTB0ZOapcpkxpcgmJbcYpRXjqNgLaHkxKdsiw+cH4Fa0/sf1XAV\n",
       "ZtUerkoVE2k/VbMqHhCXVGNfSeII5mJweaC1S8+pmAf4xv58o5HLnz38AqjQi6twRTEkAAAAAElF\n",
       "TkSuQmCC\n",
       "\" style=\"display:inline;vertical-align:middle;\" /></a><br>"
      ],
      "text/plain": [
       "expr: (Q(f(y)))"
      ]
     },
     "execution_count": 2,
     "metadata": {},
     "output_type": "execute_result"
    }
   ],
   "source": [
    "# build up the expression from sub-expressions\n",
    "expr = ExprTuple(Function(Q, fy))"
   ]
  },
  {
   "cell_type": "code",
   "execution_count": 3,
   "metadata": {},
   "outputs": [
    {
     "name": "stdout",
     "output_type": "stream",
     "text": [
      "Passed sanity check: built 'expr' is the same as the stored Expression.\n"
     ]
    }
   ],
   "source": [
    "# check that the built expression is the same as the stored expression\n",
    "%check_expr"
   ]
  },
  {
   "cell_type": "code",
   "execution_count": 4,
   "metadata": {},
   "outputs": [
    {
     "data": {
      "text/html": [
       "<table><tr><th>&nbsp;</th><th>core type</th><th>sub-expressions</th><th>expression</th></tr>\n",
       "<tr><td>0</td><td>ExprTuple</td><td>1</td><td><a class=\"ProveItLink\" href=\"expr.ipynb\"><img src=\"data:image/png;base64,iVBORw0KGgoAAAANSUhEUgAAAFsAAAAVBAMAAADbSo+2AAAAMFBMVEX////c3NwiIiJERESqqqqY\n",
       "mJh2dnZmZmYQEBDu7u4yMjJUVFTMzMyIiIi6uroAAAAs73DqAAAAAXRSTlMAQObYZgAAAb5JREFU\n",
       "KM+VU7FLQmEQ/5n6fK/UnFocekP/QIS0NPgf2NRShIjgEEI0OBSkhK3xIIi2hIgSGqwlCCKHBqHF\n",
       "OZKkLReFagjMurvP9z0dGjr43fvdu5/37vvuBP5p0eZfkcvXR4BHdjOFDZWTyLq70pwsVPeAKsG4\n",
       "BK4dDCP4s5+as1U8RKiqdUrcrEFFwMlbUnO2FQ8mFZ20+ZNfUBGQEpHibMceOvQoclPGACoCtsR3\n",
       "9Jn9SY0C4Hvnd8YHuQKz1b0bKG7l0ph1YGzCxRm1IQfz98mdSbVv8cSNaA8vQKCicQBMcNeYLpE7\n",
       "YObri5z4Q8jGAg2gpDEYCpFKk+P+EeiJnLhjNvlT4Z4Gy/licOG4csN25Ug54f6YvEz3yNUC0kFZ\n",
       "TlGDy7cRKY01kyDlwNeqN9osSciFq/kwP5ffBisaOXqZOUJ2XiQ5GWpb8x10lzF6ka+8erf5OYRZ\n",
       "whG6apzMD1vFGHXb1jBjklvCmvTB0ZOapcpkxpcgmJbcYpRXjqNgLaHkxKdsiw+cH4Fa0/sf1XAV\n",
       "ZtUerkoVE2k/VbMqHhCXVGNfSeII5mJweaC1S8+pmAf4xv58o5HLnz38AqjQi6twRTEkAAAAAElF\n",
       "TkSuQmCC\n",
       "\" style=\"display:inline;vertical-align:middle;\" /></a></td></tr>\n",
       "<tr><td>1</td><td>Operation</td><td>operator:&nbsp;2<br>operand:&nbsp;3<br></td><td><a class=\"ProveItLink\" href=\"../a42dcb2a1478b3b87b8f129e549a557692557fd00/expr.ipynb\"><img src=\"data:image/png;base64,iVBORw0KGgoAAAANSUhEUgAAAEwAAAAVBAMAAAAeOBUnAAAAMFBMVEX///+YmJiqqqq6uroQEBBE\n",
       "RETu7u4iIiLMzMwyMjKIiIhUVFRmZmZ2dnbc3NwAAADS0us6AAAAAXRSTlMAQObYZgAAAZdJREFU\n",
       "KM+Vkr1LA0EQxV+8JOTjLtqKBK6x0CYpbNRCQQkYIQRLJRhEEBEhVRoR7z9IwMJKTCEomiKFIFjI\n",
       "ddporhMhonWaKIZo48fM7N0hpHLhLb+7fTszO7vA/8dUPwfSSkCi9XQlvyINnrfOX3ymcesKjxbi\n",
       "ZYZokedCashnBlebeZoW+c8ZT+H3NZ8lq6N0wB9N3pxhGniV1YxnC8+K9E/+eKYqtSqTXuJZsYwl\n",
       "UScvNpMMDue42LGhePsOiR7QAqvJBWPVokKFBmtSOLEzgxhVMAbWnhypSwpKezoWFEfMG4Qo1QRY\n",
       "Xan7i+OILSUFEYeRldAVsD4kR8a3PXg2DPRQsTzbkYTgTEGTcUVszHoVx/CSptLt08gcL4XkCFl4\n",
       "HLVlz7DIKDvGKN8iDFsuAR7rDe0NXkMwfXhigpNq3FitJzbm8HL9m3DfFUJWQLqQI8Xc9uckZsm/\n",
       "LLbZk7KUBEZUgcKXWKeDGDUlIP6jCqLHs7DhvZ8idlHgB+SKnuC8CpFoIHnv2ojH69zIa1d/Rruf\n",
       "Y5boFwSzY5YYqpq0AAAAAElFTkSuQmCC\n",
       "\" style=\"display:inline;vertical-align:middle;\" /></a></td></tr>\n",
       "<tr><td>2</td><td>Variable</td><td></td><td><a class=\"ProveItLink\" href=\"../../../packages/proveit/__pv_it/98124f92e6e1fc3772af50ac63eaa1f5624776f20/expr.ipynb\"><img src=\"data:image/png;base64,iVBORw0KGgoAAAANSUhEUgAAAA8AAAASBAMAAAB2sJk8AAAAMFBMVEX///+YmJiqqqq6uroQEBBE\n",
       "RETu7u4iIiLMzMwyMjKIiIhUVFRmZmZ2dnbc3NwAAADS0us6AAAAAXRSTlMAQObYZgAAAHxJREFU\n",
       "CNdjYGDgu3N3FwMI3Gxg4C4D0pkBQMIbiKeDRM8nMPD8ADHuGzC8DwAzFBjOC4AY8Q0M9Qkgxhcw\n",
       "YmBg+svA8B3E4HRjYJgPYug3ALHBqxUczkAOb9kFXtUHIGHrucsVGBrAtrI2MEIZByzBNAP3/88Q\n",
       "BocL0BoActoerD1tNT4AAAAASUVORK5CYII=\n",
       "\" style=\"display:inline;vertical-align:middle;\" /></a></td></tr>\n",
       "<tr><td>3</td><td>Operation</td><td>operator:&nbsp;4<br>operand:&nbsp;5<br></td><td><a class=\"ProveItLink\" href=\"../../../packages/proveit/__pv_it/e4f99fbf53c5e24e1c1e622903a7736f418f26ef0/expr.ipynb\"><img src=\"data:image/png;base64,iVBORw0KGgoAAAANSUhEUgAAACgAAAAVBAMAAADGNLEtAAAAMFBMVEX///8yMjLMzMwQEBAiIiJm\n",
       "Zma6urqYmJiqqqp2dnZERETc3NyIiIhUVFTu7u4AAAAe+HC4AAAAAXRSTlMAQObYZgAAAQlJREFU\n",
       "GNNjYMAPciAUewKYent2A5BkugCVDAKTK/sLgCTjA6ggI4jg+/YCRJ2BGcM+AUhwfACz7WCCfAZA\n",
       "gtUBxGQTgNu4Aqj6sm8ASAqo6WUkA/c/BoapQC7/AbDxQMsm5DPwAM1qBHL3K4AEmRMYmBpCGLgW\n",
       "MDAkA7n9YIP4Exj4GGzA2vSB3CkwQQaOfwz6ChDBtWBB5gagZQIMhxkg2m3AglxAixgDwCoKQR4C\n",
       "C3IC3cV6ge07A9hJbP/AgmxAL/CtOfobyBRjYOCBesUarN4B7M1akGEgUMnAcIXhMdA6zgMMhk9g\n",
       "IfaAwZNhJZDxEKggGirIfYGh5ygo1G8jR8ceCMWjwAAAl6o3tGQ/mUwAAAAASUVORK5CYII=\n",
       "\" style=\"display:inline;vertical-align:middle;\" /></a></td></tr>\n",
       "<tr><td>4</td><td>Variable</td><td></td><td><a class=\"ProveItLink\" href=\"../../../packages/proveit/__pv_it/4d51ee1e62d011d06d4528b97697bf3da60c9de60/expr.ipynb\"><img src=\"data:image/png;base64,iVBORw0KGgoAAAANSUhEUgAAAAsAAAASBAMAAAB/WzlGAAAAMFBMVEX///8yMjLMzMwQEBAiIiJm\n",
       "Zma6urqYmJiqqqp2dnZERETc3NyIiIhUVFTu7u4AAAAe+HC4AAAAAXRSTlMAQObYZgAAAFVJREFU\n",
       "CNdjYGBgeHt2A5BkWNlfACT5vr0AcTg+gEgGVgcQyX7ZNwBE8x8AC+5XAFP9YJJhCoRaC6FswCTf\n",
       "NzDF9g9M8QiAyFoukPEMhk/AYpXRIBIAEwsRcZ82juYAAAAASUVORK5CYII=\n",
       "\" style=\"display:inline;vertical-align:middle;\" /></a></td></tr>\n",
       "<tr><td>5</td><td>Variable</td><td></td><td><a class=\"ProveItLink\" href=\"../../../packages/proveit/__pv_it/f8b9edf8e16034727f0aad55bb83e392c3db40d40/expr.ipynb\"><img src=\"data:image/png;base64,iVBORw0KGgoAAAANSUhEUgAAAAsAAAANBAMAAACN24kIAAAAMFBMVEX///+YmJhUVFQyMjIQEBBE\n",
       "REQiIiKqqqrMzMyIiIi6urrc3NxmZmZ2dnbu7u4AAADXeCicAAAAAXRSTlMAQObYZgAAAFhJREFU\n",
       "CNdj4LtzgWH/AwZerg8M8xkY2nkSGEIZGB6wTGD4ycDAUP+A4weQOszA6QCkbBhYFYDUIYb1AkDq\n",
       "6czzGxhA4BoQMyXwuQMptgusF4AU+8xTQBIAUqMVoSp/SLMAAAAASUVORK5CYII=\n",
       "\" style=\"display:inline;vertical-align:middle;\" /></a></td></tr>\n",
       "</table>\n"
      ],
      "text/plain": [
       "0. (Q(f(y)))\n",
       "   core type: ExprTuple\n",
       "   sub-expressions: 1\n",
       "1. Q(f(y))\n",
       "   core type: Operation\n",
       "   operator: 2\n",
       "   operand: 3\n",
       "2. Q\n",
       "   core type: Variable\n",
       "   sub-expressions: \n",
       "3. f(y)\n",
       "   core type: Operation\n",
       "   operator: 4\n",
       "   operand: 5\n",
       "4. f\n",
       "   core type: Variable\n",
       "   sub-expressions: \n",
       "5. y\n",
       "   core type: Variable\n",
       "   sub-expressions: "
      ]
     },
     "execution_count": 4,
     "metadata": {},
     "output_type": "execute_result"
    }
   ],
   "source": [
    "# display the expression information\n",
    "expr.exprInfo()"
   ]
  },
  {
   "cell_type": "code",
   "execution_count": null,
   "metadata": {},
   "outputs": [],
   "source": []
  }
 ],
 "metadata": {
  "kernelspec": {
   "display_name": "Python 3",
   "language": "python",
   "name": "python3"
  }
 },
 "nbformat": 4,
 "nbformat_minor": 0
}
