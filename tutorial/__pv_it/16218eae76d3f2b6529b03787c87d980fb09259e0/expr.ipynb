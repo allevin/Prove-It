{
 "cells": [
  {
   "cell_type": "markdown",
   "metadata": {},
   "source": [
    "Expression of type <a class=\"ProveItLink\" href=\"../../../doc/html/api/proveit.NamedExprs.html\">NamedExprs</a>\n",
    "=======================\n",
    "# from context <a class=\"ProveItLink\" href=\"../../_context_.ipynb\">tutorial</a>"
   ]
  },
  {
   "cell_type": "code",
   "execution_count": 1,
   "metadata": {},
   "outputs": [],
   "source": [
    "# import Expression classes needed to build the expression\n",
    "import sys\n",
    "sys.path.insert(1, \"../2fb13b91e298881dd60e61c00e83cb667d95e6960\")\n",
    "from demo_operations import Multiply\n",
    "from proveit import NamedExprs\n",
    "from proveit._common_ import x, y"
   ]
  },
  {
   "cell_type": "code",
   "execution_count": 2,
   "metadata": {},
   "outputs": [
    {
     "data": {
      "text/html": [
       "<strong id=\"expr\">expr:</strong> <a class=\"ProveItLink\" href=\"expr.ipynb\"><img src=\"data:image/png;base64,iVBORw0KGgoAAAANSUhEUgAAAMsAAABLCAMAAADplYPZAAAAPFBMVEX///9jY2N/f392dnYyMjKq\n",
       "qqoNDQ0dHR2YmJiIiIhmZmZERETc3Ny6uroQEBDMzMwiIiJUVFTu7u4AAAAkkAi0AAAAAXRSTlMA\n",
       "QObYZgAABTZJREFUaN7tm2uDmyoQhmkHerhf//9/PdwSQSFx3caaNn7YXVk1PA4zw7wQhG6Hdxa9\n",
       "30E12TYarc0bsiAX+LpJBS0Rek8Y1zd4HdTaUA5D30IcYH89GBtYdy7WcPmivk1pTwJB6mosJgTZ\n",
       "nw6cRfQsLp5Gs/DLGQZ3LsPDKIYNWGLguB4LC6Ebcm4ni9LXY+lHVVi5T8tiOANnYijQ2jnqgnWO\n",
       "NDFD3P+WwJwkjLOzWXwIdBcLsTliR0dxuduW94+5D04fox61FOnzU27X/QcsOv/HsjELWmI05JEb\n",
       "4c1VWUjgNB6OTlh6Kif+iMPsZKHh7hxPWNDdiFdlUYtbLSyzHsscT/x1/SUT+M5fYDhjldldELsu\n",
       "i8oTNYgdFJmF45ZliWMkGlDoaBt2wTFmXAguTnSk4wAy/oqncbx54UAO8osXDDwAo9f0l7c5uu7/\n",
       "94u+M0vX/b/JLh+WD8uH5cPyYfmwnM5iQjcvNgLDhVli8U/mV6qVYus7DfAK0p9u3rbqlb9R9bvV\n",
       "Z+pxBYkJN5IYC/ort7Ysl5D+2v7bh64vjZmyXEP684vYp4ZmUVgzAtrIuihAHOOMMZtYDGMi4ffS\n",
       "Xyv8eeCQFYBTKma4DzI88XzrlEwWq7WyzzJZ7KHAqb4sixytLNMIf/EylYv/cI5lbDUMzEYYtsXv\n",
       "M4tI/eTZgCL/LHd1EtNiA0MQTzeIkwQzqa1/hIIwb/wjr2aWJc3SwQFLR5W1stNysLTYIxqmmmnH\n",
       "YuJ1vix07mBJuowvN511CByBhN/DIhkwKD1bswzffdKeENOnobAkSnpr5Q4WuiT4NQtMbxbuLBRe\n",
       "4pcM1j9nUcIYIzcsrfTXxjHEewH35UEZbuYZvT7lgk6pI2t+KR6HdPBybogIOU220l+bX5L2x3g4\n",
       "aZ1dLW8xhKczRI/TJV7Zr8yR4axlJdso+OFpGqD1CrIzYaTo7TU5yyyhiZ9P07O0NYbt9IBkPwGn\n",
       "OT5eOrpnkAEwBnxvviDRW04rbWxTYfULsZ96/8PyYfmw/Ess3qhjRbA68IFUvZQlTssO5XZzaAI9\n",
       "y26/aYz5hyrhXNE6Zk28i+XnK1imehM7+OooTFh+tic/XsAy1wH1QaXJ6wnLj983xqQyOQ505cpc\n",
       "B1R4NoaqQ8jZBYIc8heFNVCArOnddL/4KTxOGssDPY+zTZVYJKSiIRZv+Sl5owZ5oAMiXofKZidg\n",
       "nY3fJuVlTtuKhsAP+r5N26+rql91P5PLaZefrlWuSdfSjElzbpO4ZzogwrR2c7MTMFO0KCvRkOCD\n",
       "LLhor7m3VffTUGqE+GFYlD/XLLk9K1UTHTA+RdVubncCRo4OZSUaKv0tFpTVgKJjqOrpsV6QdUCt\n",
       "WeSyFjLVzmq1NNwJKG2LshYNTfgmC76z0NqL2FQ1lg1Lo708Y8kmYo9ZVqLht1kWu5CbXdzULqa3\n",
       "yzA+LjrAZifgeoytRMNvjjGS32LVyoq/ZPcuMaFlKXi2uCd9oANW0WCwE3Dr+71oSA/7foljvNH9\n",
       "VP5mieDoZvaqF6ZlGUR1aU8tTD7QAaEaebMTcBCTe9FwV0yGoV0oYzlD3HS/NCkEcOXB0uX8Ulh5\n",
       "zDvS5pWDmF+K8jzVAZWtauB6J+AoV3aiIVbDfN1OPvBQucQvU4O/+r2hm2g4nsP0S8fjxdfXsdD9\n",
       "ylknGsIwlED3LZHxAv/rWL4w529FQz+epune2yFsLks+wl+lbcvdr6kVDd2wO3Q9qPDJFf+Rbcxs\n",
       "WFbKzXeqvA0EveMx6rgXAd4QxWg9CtPkHVkULFHkf1BTUmz/aGGrAAAAAElFTkSuQmCC\n",
       "\" style=\"display:inline;vertical-align:middle;\" /></a><br>"
      ],
      "text/plain": [
       "expr: {left:x, right:y, product:(x * y)}"
      ]
     },
     "execution_count": 2,
     "metadata": {},
     "output_type": "execute_result"
    }
   ],
   "source": [
    "# build up the expression from sub-expressions\n",
    "expr = NamedExprs([(\"left\",x), (\"right\",y), (\"product\",Multiply(x, y))])"
   ]
  },
  {
   "cell_type": "code",
   "execution_count": 3,
   "metadata": {},
   "outputs": [
    {
     "name": "stdout",
     "output_type": "stream",
     "text": [
      "Passed sanity check: built 'expr' is the same as the stored Expression.\n"
     ]
    }
   ],
   "source": [
    "# check that the built expression is the same as the stored expression\n",
    "%check_expr"
   ]
  },
  {
   "cell_type": "code",
   "execution_count": 4,
   "metadata": {},
   "outputs": [
    {
     "data": {
      "text/html": [
       "<table><tr><th>&nbsp;</th><th>core type</th><th>sub-expressions</th><th>expression</th></tr>\n",
       "<tr><td>0</td><td>NamedExprs</td><td>left: 4<br>right: 5<br>product: 1<br></td><td><a class=\"ProveItLink\" href=\"expr.ipynb\"><img src=\"data:image/png;base64,iVBORw0KGgoAAAANSUhEUgAAAMsAAABLCAMAAADplYPZAAAAPFBMVEX///9jY2N/f392dnYyMjKq\n",
       "qqoNDQ0dHR2YmJiIiIhmZmZERETc3Ny6uroQEBDMzMwiIiJUVFTu7u4AAAAkkAi0AAAAAXRSTlMA\n",
       "QObYZgAABTZJREFUaN7tm2uDmyoQhmkHerhf//9/PdwSQSFx3caaNn7YXVk1PA4zw7wQhG6Hdxa9\n",
       "30E12TYarc0bsiAX+LpJBS0Rek8Y1zd4HdTaUA5D30IcYH89GBtYdy7WcPmivk1pTwJB6mosJgTZ\n",
       "nw6cRfQsLp5Gs/DLGQZ3LsPDKIYNWGLguB4LC6Ebcm4ni9LXY+lHVVi5T8tiOANnYijQ2jnqgnWO\n",
       "NDFD3P+WwJwkjLOzWXwIdBcLsTliR0dxuduW94+5D04fox61FOnzU27X/QcsOv/HsjELWmI05JEb\n",
       "4c1VWUjgNB6OTlh6Kif+iMPsZKHh7hxPWNDdiFdlUYtbLSyzHsscT/x1/SUT+M5fYDhjldldELsu\n",
       "i8oTNYgdFJmF45ZliWMkGlDoaBt2wTFmXAguTnSk4wAy/oqncbx54UAO8osXDDwAo9f0l7c5uu7/\n",
       "94u+M0vX/b/JLh+WD8uH5cPyYfmwnM5iQjcvNgLDhVli8U/mV6qVYus7DfAK0p9u3rbqlb9R9bvV\n",
       "Z+pxBYkJN5IYC/ort7Ysl5D+2v7bh64vjZmyXEP684vYp4ZmUVgzAtrIuihAHOOMMZtYDGMi4ffS\n",
       "Xyv8eeCQFYBTKma4DzI88XzrlEwWq7WyzzJZ7KHAqb4sixytLNMIf/EylYv/cI5lbDUMzEYYtsXv\n",
       "M4tI/eTZgCL/LHd1EtNiA0MQTzeIkwQzqa1/hIIwb/wjr2aWJc3SwQFLR5W1stNysLTYIxqmmmnH\n",
       "YuJ1vix07mBJuowvN511CByBhN/DIhkwKD1bswzffdKeENOnobAkSnpr5Q4WuiT4NQtMbxbuLBRe\n",
       "4pcM1j9nUcIYIzcsrfTXxjHEewH35UEZbuYZvT7lgk6pI2t+KR6HdPBybogIOU220l+bX5L2x3g4\n",
       "aZ1dLW8xhKczRI/TJV7Zr8yR4axlJdso+OFpGqD1CrIzYaTo7TU5yyyhiZ9P07O0NYbt9IBkPwGn\n",
       "OT5eOrpnkAEwBnxvviDRW04rbWxTYfULsZ96/8PyYfmw/Ess3qhjRbA68IFUvZQlTssO5XZzaAI9\n",
       "y26/aYz5hyrhXNE6Zk28i+XnK1imehM7+OooTFh+tic/XsAy1wH1QaXJ6wnLj983xqQyOQ505cpc\n",
       "B1R4NoaqQ8jZBYIc8heFNVCArOnddL/4KTxOGssDPY+zTZVYJKSiIRZv+Sl5owZ5oAMiXofKZidg\n",
       "nY3fJuVlTtuKhsAP+r5N26+rql91P5PLaZefrlWuSdfSjElzbpO4ZzogwrR2c7MTMFO0KCvRkOCD\n",
       "LLhor7m3VffTUGqE+GFYlD/XLLk9K1UTHTA+RdVubncCRo4OZSUaKv0tFpTVgKJjqOrpsV6QdUCt\n",
       "WeSyFjLVzmq1NNwJKG2LshYNTfgmC76z0NqL2FQ1lg1Lo708Y8kmYo9ZVqLht1kWu5CbXdzULqa3\n",
       "yzA+LjrAZifgeoytRMNvjjGS32LVyoq/ZPcuMaFlKXi2uCd9oANW0WCwE3Dr+71oSA/7foljvNH9\n",
       "VP5mieDoZvaqF6ZlGUR1aU8tTD7QAaEaebMTcBCTe9FwV0yGoV0oYzlD3HS/NCkEcOXB0uX8Ulh5\n",
       "zDvS5pWDmF+K8jzVAZWtauB6J+AoV3aiIVbDfN1OPvBQucQvU4O/+r2hm2g4nsP0S8fjxdfXsdD9\n",
       "ylknGsIwlED3LZHxAv/rWL4w529FQz+epune2yFsLks+wl+lbcvdr6kVDd2wO3Q9qPDJFf+Rbcxs\n",
       "WFbKzXeqvA0EveMx6rgXAd4QxWg9CtPkHVkULFHkf1BTUmz/aGGrAAAAAElFTkSuQmCC\n",
       "\" style=\"display:inline;vertical-align:middle;\" /></a></td></tr>\n",
       "<tr><td>1</td><td>Operation</td><td>operator:&nbsp;2<br>operands:&nbsp;3<br></td><td><a class=\"ProveItLink\" href=\"../403ab4d50b0de388344ec2817f5da70ec5d3cb8d0/expr.ipynb\"><img src=\"data:image/png;base64,iVBORw0KGgoAAAANSUhEUgAAADAAAAAOBAMAAACbXIJpAAAAMFBMVEX///+6uroyMjJERETMzMwQ\n",
       "EBAiIiKYmJju7u5mZmaqqqpUVFSIiIh2dnbc3NwAAAAWgogoAAAAAXRSTlMAQObYZgAAALhJREFU\n",
       "GNNjYIABJgcGBj4FBgR4e/rVyQNAmi+FgeGZA0ikdy4D3w8Gjgvs6awJIP4zB5AcEFyQZ+D5wMAL\n",
       "JLjACvlSIBpYFkxjYDZg4GDgNoAa+gyigYMhhoEfZDjrAVQJBq4fDP4gve8dGBqQjWLgVGA4ysDA\n",
       "/uA8A08DiuVMExisGRjWF5gyvGFAcS7nBsbvDAzNZ3vvFKB6kMPm5D8G7IA3AavwNobWBVglchls\n",
       "sRu05qQAAwMAUv8wyh9XxQAAAAAASUVORK5CYII=\n",
       "\" style=\"display:inline;vertical-align:middle;\" /></a></td></tr>\n",
       "<tr><td>2</td><td>Literal</td><td></td><td><a class=\"ProveItLink\" href=\"../7fa9fd20fee7806a99050bf24ffcbd2251e9b7fe0/expr.ipynb\"><img src=\"data:image/png;base64,iVBORw0KGgoAAAANSUhEUgAAAAsAAAAKBAMAAACQ3rmwAAAAElBMVEX///8iIiLc3NzMzMwyMjIA\n",
       "AAASH0o5AAAAAXRSTlMAQObYZgAAACtJREFUCNdjcGZgYFBhYFA0YGASZgBhIAvINQJygFxBAyQK\n",
       "IghVAtUA0Q4AhEYDuQjrDycAAAAASUVORK5CYII=\n",
       "\" style=\"display:inline;vertical-align:middle;\" /></a></td></tr>\n",
       "<tr><td>3</td><td>ExprTuple</td><td>4, 5</td><td><a class=\"ProveItLink\" href=\"../a6a2ac9310c73e21661c7634808321702fb219240/expr.ipynb\"><img src=\"data:image/png;base64,iVBORw0KGgoAAAANSUhEUgAAACwAAAAVBAMAAADP3xFXAAAAMFBMVEX////c3NwiIiJERESqqqqY\n",
       "mJh2dnZmZmYQEBDu7u4yMjJUVFTMzMyIiIi6uroAAAAs73DqAAAAAXRSTlMAQObYZgAAAQtJREFU\n",
       "GNNjYMAB+C6gi7A+ABKnMVXWAPFKTGEuBgbeC5jCrAkMHBMwhTkbGF5hc4YJQxmQFLstch1i1rQy\n",
       "BsafDAzpDEuBehJYVTkUwMIJ7xl4PzAweDH0MTCwAZksB0CiPA5FDMwGDAwvGP4BVTNwG0DtYuhl\n",
       "4Acadx4kzMDAAXMly0+G8wdAwi0gnvwBBog72Rcw3GAAGWIKdL3AfQbeCWAJrgIGayAVBXQLg3+A\n",
       "BYMsA+cnkOoNfF8ZQA58xMAw+dq03AAGzn4BoJ221z8ChdcxcAjAQxjMYlMAex4YLLAAAuJNDDMc\n",
       "gFIXkAIWJKzGYAYkZwGxNEwY5Hbf66CY2QjEjBgBznuAAQAt5DtyKXSr1gAAAABJRU5ErkJggg==\n",
       "\" style=\"display:inline;vertical-align:middle;\" /></a></td></tr>\n",
       "<tr><td>4</td><td>Variable</td><td></td><td><a class=\"ProveItLink\" href=\"../../../packages/proveit/__pv_it/530be409e3083890784cf1d7b28c9e67e90af9360/expr.ipynb\"><img src=\"data:image/png;base64,iVBORw0KGgoAAAANSUhEUgAAAAsAAAAJBAMAAAAWSsseAAAAKlBMVEX///9ERETMzMwQEBAiIiKY\n",
       "mJju7u5mZmaqqqpUVFSIiIh2dnbc3NwAAAA/vyDhAAAAAXRSTlMAQObYZgAAAENJREFUCNdjYDi9\n",
       "8sTyBQxsG1hdmR0YuBm4LnAoMLAxcAowgADzAjB1VoEhgYH1wFoGrgSG3gBhhlMMDImrs3cFMAAA\n",
       "t0YN+iTRa+sAAAAASUVORK5CYII=\n",
       "\" style=\"display:inline;vertical-align:middle;\" /></a></td></tr>\n",
       "<tr><td>5</td><td>Variable</td><td></td><td><a class=\"ProveItLink\" href=\"../../../packages/proveit/__pv_it/f8b9edf8e16034727f0aad55bb83e392c3db40d40/expr.ipynb\"><img src=\"data:image/png;base64,iVBORw0KGgoAAAANSUhEUgAAAAsAAAANBAMAAACN24kIAAAAMFBMVEX///+YmJhUVFQyMjIQEBBE\n",
       "REQiIiKqqqrMzMyIiIi6urrc3NxmZmZ2dnbu7u4AAADXeCicAAAAAXRSTlMAQObYZgAAAFhJREFU\n",
       "CNdj4LtzgWH/AwZerg8M8xkY2nkSGEIZGB6wTGD4ycDAUP+A4weQOszA6QCkbBhYFYDUIYb1AkDq\n",
       "6czzGxhA4BoQMyXwuQMptgusF4AU+8xTQBIAUqMVoSp/SLMAAAAASUVORK5CYII=\n",
       "\" style=\"display:inline;vertical-align:middle;\" /></a></td></tr>\n",
       "</table>\n"
      ],
      "text/plain": [
       "0. {left:x, right:y, product:(x * y)}\n",
       "   core type: NamedExprs\n",
       "   left: 4\n",
       "   right: 5\n",
       "   product: 1\n",
       "1. x * y\n",
       "   core type: Operation\n",
       "   operator: 2\n",
       "   operands: 3\n",
       "2. *\n",
       "   core type: Literal\n",
       "   sub-expressions: \n",
       "3. (x , y)\n",
       "   core type: ExprTuple\n",
       "   sub-expressions: 4, 5\n",
       "4. x\n",
       "   core type: Variable\n",
       "   sub-expressions: \n",
       "5. y\n",
       "   core type: Variable\n",
       "   sub-expressions: "
      ]
     },
     "execution_count": 4,
     "metadata": {},
     "output_type": "execute_result"
    }
   ],
   "source": [
    "# display the expression information\n",
    "expr.exprInfo()"
   ]
  },
  {
   "cell_type": "code",
   "execution_count": null,
   "metadata": {},
   "outputs": [],
   "source": []
  }
 ],
 "metadata": {
  "kernelspec": {
   "display_name": "Python 3",
   "language": "python",
   "name": "python3"
  }
 },
 "nbformat": 4,
 "nbformat_minor": 0
}
