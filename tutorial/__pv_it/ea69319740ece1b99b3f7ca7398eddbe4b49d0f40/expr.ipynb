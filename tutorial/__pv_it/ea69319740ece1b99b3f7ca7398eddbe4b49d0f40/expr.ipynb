{
 "cells": [
  {
   "cell_type": "markdown",
   "metadata": {},
   "source": [
    "Expression of type <a class=\"ProveItLink\" href=\"../../../doc/html/api/demo_lambda_app_operation.LambdaApplication.html\">LambdaApplication</a>\n",
    "=======================\n",
    "# from context <a class=\"ProveItLink\" href=\"../../_context_.ipynb\">tutorial</a>"
   ]
  },
  {
   "cell_type": "code",
   "execution_count": 1,
   "metadata": {},
   "outputs": [],
   "source": [
    "# import Expression classes needed to build the expression\n",
    "import sys\n",
    "sys.path.insert(1, \"../..\")\n",
    "from demo_lambda_app_operation import LambdaApplication\n",
    "from demo_operations import Factorial\n",
    "from proveit import Lambda\n",
    "from proveit._common_ import x, y"
   ]
  },
  {
   "cell_type": "code",
   "execution_count": 2,
   "metadata": {},
   "outputs": [
    {
     "data": {
      "text/html": [
       "<strong id=\"expr\">expr:</strong> <a class=\"ProveItLink\" href=\"../acf524b78ce702f96b54b35af6c44f7c0b52bad30/expr.ipynb\"><img src=\"data:image/png;base64,iVBORw0KGgoAAAANSUhEUgAAAGMAAAAVCAMAAABlnqB7AAAANlBMVEX///8UFBQNDQ2YmJhUVFQQ\n",
       "EBBERESqqqrc3NxmZmbu7u66urp2dnbMzMwyMjIiIiKIiIgAAAD6r9qQAAAAAXRSTlMAQObYZgAA\n",
       "AYhJREFUSMe9ldl2hCAMhmnZIUB4/5etLApBnXrqOeVqHD7yZyGBsX9YmGJ4c57H5MeXx2W37oH/\n",
       "s3kn1WIhiJWx4Z2GyXnRiO4ExZdx5EQ1EC9yCa80WI5UQ7qrhL7TkIJo+HgFKd0IBxZqgt2UxbG0\n",
       "nvya0GSJRt0oe4DCaLQtc2AbAcyX8mHeLSXqixhJmFEFRCPy7sVWhcSZbEZ0rETQzJY/lLrRcMLs\n",
       "t3NGBSca0ncvmgu69Z2Xldi8lCWwfNyL769ElszdEEFBE43OlJiFGj2TO6FLekMON3EwMW7GhGK4\n",
       "0qgh4VnDliKjZDca1ky/BxoczZUe3Rl6QEeutnKVG6LEjUaYe2tFh4ZqNeem3Qh0faDtcWxnfOZj\n",
       "UtKSk5gOdO1zsC2XnKktTIOM3F3mFKLN5tEEOdB1JvrU98EB4O5w9FOfQ3rc4ASdZon5MEtEKh/6\n",
       "ifkzOjQ4XLiDnUiwN+2v64x+nO3umO16S/HD2XhGJw1zeqPqgMCUXr212/lJ0iwvSO3SHytqEh4e\n",
       "1DOwAAAAAElFTkSuQmCC\n",
       "\" style=\"display:inline;vertical-align:middle;\" /></a><br>"
      ],
      "text/plain": [
       "expr: [y -> y!](x)"
      ]
     },
     "execution_count": 2,
     "metadata": {},
     "output_type": "execute_result"
    }
   ],
   "source": [
    "# build up the expression from sub-expressions\n",
    "expr = LambdaApplication(Lambda(y, Factorial(y)), x)"
   ]
  },
  {
   "cell_type": "code",
   "execution_count": 3,
   "metadata": {},
   "outputs": [
    {
     "name": "stdout",
     "output_type": "stream",
     "text": [
      "Passed sanity check: built 'expr' is the same as the stored Expression.\n"
     ]
    }
   ],
   "source": [
    "# check that the built expression is the same as the stored expression\n",
    "%check_expr"
   ]
  },
  {
   "cell_type": "code",
   "execution_count": 4,
   "metadata": {},
   "outputs": [
    {
     "data": {
      "text/html": [
       "<table><tr><th>&nbsp;</th><th>core type</th><th>sub-expressions</th><th>expression</th></tr>\n",
       "<tr><td>0</td><td>Operation</td><td>operator:&nbsp;1<br>operands:&nbsp;2<br></td><td><a class=\"ProveItLink\" href=\"../acf524b78ce702f96b54b35af6c44f7c0b52bad30/expr.ipynb\"><img src=\"data:image/png;base64,iVBORw0KGgoAAAANSUhEUgAAAGMAAAAVCAMAAABlnqB7AAAANlBMVEX///8UFBQNDQ2YmJhUVFQQ\n",
       "EBBERESqqqrc3NxmZmbu7u66urp2dnbMzMwyMjIiIiKIiIgAAAD6r9qQAAAAAXRSTlMAQObYZgAA\n",
       "AYhJREFUSMe9ldl2hCAMhmnZIUB4/5etLApBnXrqOeVqHD7yZyGBsX9YmGJ4c57H5MeXx2W37oH/\n",
       "s3kn1WIhiJWx4Z2GyXnRiO4ExZdx5EQ1EC9yCa80WI5UQ7qrhL7TkIJo+HgFKd0IBxZqgt2UxbG0\n",
       "nvya0GSJRt0oe4DCaLQtc2AbAcyX8mHeLSXqixhJmFEFRCPy7sVWhcSZbEZ0rETQzJY/lLrRcMLs\n",
       "t3NGBSca0ncvmgu69Z2Xldi8lCWwfNyL769ElszdEEFBE43OlJiFGj2TO6FLekMON3EwMW7GhGK4\n",
       "0qgh4VnDliKjZDca1ky/BxoczZUe3Rl6QEeutnKVG6LEjUaYe2tFh4ZqNeem3Qh0faDtcWxnfOZj\n",
       "UtKSk5gOdO1zsC2XnKktTIOM3F3mFKLN5tEEOdB1JvrU98EB4O5w9FOfQ3rc4ASdZon5MEtEKh/6\n",
       "ifkzOjQ4XLiDnUiwN+2v64x+nO3umO16S/HD2XhGJw1zeqPqgMCUXr212/lJ0iwvSO3SHytqEh4e\n",
       "1DOwAAAAAElFTkSuQmCC\n",
       "\" style=\"display:inline;vertical-align:middle;\" /></a></td></tr>\n",
       "<tr><td>1</td><td>Literal</td><td></td><td><a class=\"ProveItLink\" href=\"../b972b254f0859e9da344ee20375eddf3388d76660/expr.ipynb\"><img src=\"data:image/png;base64,iVBORw0KGgoAAAANSUhEUgAAAPYAAAAQBAMAAADXIZ9kAAAAMFBMVEX///+qqqqIiIiYmJi6uroQ\n",
       "EBAiIiJERETu7u52dnbMzMxUVFQyMjJmZmbc3NwAAAD+VqVwAAAAAXRSTlMAQObYZgAAAyRJREFU\n",
       "OMvFlV9IU3EUx8/u3Lr36m6DXnrz4kMIEa63wMC9+BTiggLByr1GyfYSKQm7L+JDgnuKpNA9FhHz\n",
       "JSNmbkUQEbG9BAmlexdZTufc3Lyd35/zu0p798B+57ff93fO5/7+A5yh7RSPNkXtC/6sNZdVA631\n",
       "7eJ4bu0XNtRyuW8O6dJ6oliwHjM2OZHH/O1uAPgff7SfUsjEk9WDXCr+tthOg355ccMB833Nge6J\n",
       "SYDsishnHbFST0WwHDwEqJQAihnebNxSurDKiiz1h8qJPCb2Mh84sD1DIfdA2wMrxvXhCPhuYocU\n",
       "1ufBYxsuG51+qYDlFcnOFkT8cpl0YcuH9AVDJXIem9X0OzKlXmJsWGGtZhUbe6NgDu4ChE6wzy2z\n",
       "Eet9TUwwItkLMcE+XyBd2PQesbMxch47wT7yukxpRTi7n+nBGFuvMTCv3XZOsV9X2Ij1/jaAFpLs\n",
       "3pJgdzdJ52YutRQ7Tk6xfXxx5mVKK8PZr5jem8ZGrQpmZDR5ir0ZPGZsO497RbLNcblmRpV0bqFy\n",
       "okxzbpNT7G4+KZpKydmck2cz19VCdmjvFDupVTl7NAwXOftz3zNbsrU26WJ5YMAWbPOucood3KV+\n",
       "MkSxE+x4mDVkQ6J8gu2L6AecHSyATXP+Tuxz8B+Rzu0CLMQZ+/7in4xy/7MpxGOHFTtbILaFY3HY\n",
       "iUK2dmxFiR0Yk+NukM5tCnqajJ0UB044kUfNOaiUHpufXx+bc1xFYhsAs7lcscTYesMPxMY0Yq/t\n",
       "k87vALx12h3ZhrfXvJQee4hNjdFgbEjsyBj8hqt4kmKMDY88dqgq2IE46cz8OHW1juyQd8YMldJj\n",
       "B/6iDx5ydmVSxszhvsDIXc4eXVfsQFOwBzKki60GsBXuxJ5Tdws8Vyk9dleD5QpztlYXbfp36ML+\n",
       "Jv41SxBIKvZWmrO1faUzu8Gikh3YmIfuVCPqhSg2DNvgxzvVx875V4A3ifFcqmGm6g68dKetfCti\n",
       "hLV8a5M9EaufxFvywyEdXNetu1NgFOvpnWLb5o8RdzIPvSVLoEJGftbwHIi35MXiB4cpOGvbZ/mC\n",
       "wj9cPLyHYckQpwAAAABJRU5ErkJggg==\n",
       "\" style=\"display:inline;vertical-align:middle;\" /></a></td></tr>\n",
       "<tr><td>2</td><td>NamedExprs</td><td>lambdaFn: 3<br>operand: 4<br></td><td><a class=\"ProveItLink\" href=\"../21a584652fb085f622fe2c17d9896461863335260/expr.ipynb\"><img src=\"data:image/png;base64,iVBORw0KGgoAAAANSUhEUgAAAOQAAAAyCAMAAAB77oeNAAAANlBMVEX///8UFBQNDQ0QEBAyMjK6\n",
       "urp2dnYiIiLMzMyIiIiYmJjc3NxERESqqqpUVFRmZmbu7u4AAABG+8EjAAAAAXRSTlMAQObYZgAA\n",
       "BEtJREFUaN7lmtmCqygQhpkBgZL9/V/2UKCkcEnS7RhzHK66DZR8Qi38ytjUYvDsVk0Lt7zkkjX3\n",
       "gmQjt7G/kODnj2pYPJaoh/jrKYES+hCSUMPiUlSKzkensELwQj5nDMtBzibXm1Ap+dxESi/p5fBr\n",
       "vsjttgWTLPnPbk1CvXJStXwyMS3cQKdqw3B9IqRJaceCTOS+HXEjfwUp3oZkoztzJZPasaCTJL38\n",
       "yZARToRkSexYiMSjToZEV5BnQnK/C+nfghwBAs5QWx40gAXmAGoKEiH/6McpzUqAoULOQ2bIsUTh\n",
       "h4FFwHhARlnGmRYhRB/Y6COkfWtw+D2kU3mGodxM2BG7So1ZtVzgZu5mON4BCiQZUiHnDDwZGBa+\n",
       "9ICUbEjFTAtt/Yw8CY+0r5XHIEeMT0MqNLzsf18mj1FL+BrbHM6//UmH6MR9ziMT5GSALGW/XbVj\n",
       "AbGs3YGMvmXmrm/dTQe2Kxsk1Ehc713mSCER29SZm8kn25C6kvPUiIFNn8zMHLoe//6jusbbNuj6\n",
       "SncM0oi8R/RTSC7yuo0PSDKE+uRrSHSDOBvfWknmB1qItr6gj0EKUZlifHslyRDdGX4NWTwZONuB\n",
       "DLSOJH11PAQZy5Rc0oPeg9S4hdTDPemQn0KWpERSVw+pYZXAaJr7/UqWFJQdzJkNSFHiUWgXQllJ\n",
       "MuQ55Cq6MjzuTVu/Vu39lPtlbX33K55XkNrn4towYwNAlALK/zrX4DwwEAmrdxsxT9ZYY3zJk5ix\n",
       "2hATcmXu5z1GDezkSRZtTrHpvTPfo+9ugf7GSn62tSlK9YNBih3crp+H9AqXxb3Vf933BaRZHycv\n",
       "gVRyrl5et3XfreqXQI7JfQVkrorDu3X6uu8WpCDpSF3OyEApfXD8BqRry9edn2/WPDcT48Du2yxS\n",
       "RnE7LXKpTAIzysdbQzqFdVPgd96uYRIKTws8h9Tm/4ixFYlnpZCl2vz5Rqr98az4Gq+GFImUdfKm\n",
       "kEQ1j2fVrldDfuQU8v2QJp99Q57kILgcpZxVYR1Aeo1XwUmMz2v5udgkavPqhGwkeOMgwNWQurzc\n",
       "8zh9VUqjquM4VYIW6tZ+QAFrLT9jFKNq80rriNnoqEbG1dWQXNaYpGfFqlb0Re1kWEUIVWSXtfwM\n",
       "rFebVwqNZFX6dvpiyHmnYUx6aI+ZNIy5oWbd3vdsyM8LtXl5b9wi9gt8cs6d+FpshhTd+XqC3JSf\n",
       "O7V5s3H4Asj5uIk/kZUkJcQEuSk/P1/J2Q1Y/A6fLNLx7JO4tjVI4kvVCrkjPxO1eeP0Y+rbKLgc\n",
       "cuBNOhY1uobqq4gqY1vJZ/Jz2IyuLu8GjFEGrt6uqAZLWV+KCf9QkZnxQUrDBp94ubQpP3dq8zJP\n",
       "RgsySgnjV1U84m/9WOt/Ahk2i/VbQdJPXLY/VmoRKHtf+DvFLqAHZf0F7wnO2K1c9MhwQ0bFl59J\n",
       "3k6ZdFwskcxHKuZPBh3V8vAf4LFDvMaw/noAAAAASUVORK5CYII=\n",
       "\" style=\"display:inline;vertical-align:middle;\" /></a></td></tr>\n",
       "<tr><td>3</td><td>Lambda</td><td>parameter:&nbsp;7<br>body:&nbsp;5<br></td><td><a class=\"ProveItLink\" href=\"../6416a795026847564c8dd831a4e74090b86f10750/expr.ipynb\"><img src=\"data:image/png;base64,iVBORw0KGgoAAAANSUhEUgAAADoAAAASCAMAAAA9mj1BAAAANlBMVEX///8UFBQNDQ2YmJhUVFQy\n",
       "MjIQEBBEREQiIiKqqqrMzMyIiIi6urrc3NxmZmZ2dnbu7u4AAACrLjZHAAAAAXRSTlMAQObYZgAA\n",
       "AMhJREFUOMudktkOxCAIRZmpdUNR/v9nR9qxLumDkYcGmnPxQgDYi6zNphIi8640s92VAp/bUq3K\n",
       "04nSZT7f/8ZuzvUuO9QSQIIgE2Mde5pB5Zb3qEngHZDQxrxLs4o1HVB1QGmqUcbGP/D92CE0h9ql\n",
       "R5NM4sS6Z//+KqjQTd5QlA/JYlDDu5RiXzTUyw5OEv/qXeqxryYUqKSBj1riuKXRwoPe15QNInFc\n",
       "Or8Hbeef1i+yQ5WVHm5FNaM2XaexEjPqiv2w5nVEfyVpCI/cxazrAAAAAElFTkSuQmCC\n",
       "\" style=\"display:inline;vertical-align:middle;\" /></a></td></tr>\n",
       "<tr><td>4</td><td>Variable</td><td></td><td><a class=\"ProveItLink\" href=\"../../../packages/proveit/__pv_it/530be409e3083890784cf1d7b28c9e67e90af9360/expr.ipynb\"><img src=\"data:image/png;base64,iVBORw0KGgoAAAANSUhEUgAAAAsAAAAJBAMAAAAWSsseAAAAKlBMVEX///9ERETMzMwQEBAiIiKY\n",
       "mJju7u5mZmaqqqpUVFSIiIh2dnbc3NwAAAA/vyDhAAAAAXRSTlMAQObYZgAAAENJREFUCNdjYDi9\n",
       "8sTyBQxsG1hdmR0YuBm4LnAoMLAxcAowgADzAjB1VoEhgYH1wFoGrgSG3gBhhlMMDImrs3cFMAAA\n",
       "t0YN+iTRa+sAAAAASUVORK5CYII=\n",
       "\" style=\"display:inline;vertical-align:middle;\" /></a></td></tr>\n",
       "<tr><td>5</td><td>Operation</td><td>operator:&nbsp;6<br>operand:&nbsp;7<br></td><td><a class=\"ProveItLink\" href=\"../26a0e35b392fe0647ba3a0907c7e4dd1d46cdbc60/expr.ipynb\"><img src=\"data:image/png;base64,iVBORw0KGgoAAAANSUhEUgAAAA8AAAASBAMAAAB2sJk8AAAAMFBMVEX///+YmJhUVFQyMjIQEBBE\n",
       "REQiIiKqqqrMzMyIiIi6urrc3NxmZmZ2dnbu7u4AAADXeCicAAAAAXRSTlMAQObYZgAAAH5JREFU\n",
       "CNdjYACDJwEQmmH/ByjjfQKUwW8AZbAoMPDducCw/wHbAQZerg8M8xlYLzC08yQwhDIwCTA8YJnA\n",
       "8JOBt4CBof4Bxw8GzgYGhsMMnA4MHA8YGGwYWBXARhxiWC8ANvnpzPMboJZeA8swJfC5gxlsF4Cm\n",
       "ggD7zFNgGgDXOyBURHxQQwAAAABJRU5ErkJggg==\n",
       "\" style=\"display:inline;vertical-align:middle;\" /></a></td></tr>\n",
       "<tr><td>6</td><td>Literal</td><td></td><td><a class=\"ProveItLink\" href=\"../d6af88116966bca28fcbee5fe103a74f1e8a81d50/expr.ipynb\"><img src=\"data:image/png;base64,iVBORw0KGgoAAAANSUhEUgAAAAMAAAAOBAMAAAAYmLtSAAAALVBMVEX////MzMyIiIiqqqqYmJh2\n",
       "dnZmZmZUVFQyMjIiIiLc3NxEREQQEBDu7u4AAACiA/ybAAAAAXRSTlMAQObYZgAAADBJREFUCNdj\n",
       "uLOBYd0DhnsTGPgaGHgKGDgTGLgDGNgdGFgNGJgEGBgvMAABUPbOBgD2TQqw6cTpzgAAAABJRU5E\n",
       "rkJggg==\n",
       "\" style=\"display:inline;vertical-align:middle;\" /></a></td></tr>\n",
       "<tr><td>7</td><td>Variable</td><td></td><td><a class=\"ProveItLink\" href=\"../../../packages/proveit/__pv_it/f8b9edf8e16034727f0aad55bb83e392c3db40d40/expr.ipynb\"><img src=\"data:image/png;base64,iVBORw0KGgoAAAANSUhEUgAAAAsAAAANBAMAAACN24kIAAAAMFBMVEX///+YmJhUVFQyMjIQEBBE\n",
       "REQiIiKqqqrMzMyIiIi6urrc3NxmZmZ2dnbu7u4AAADXeCicAAAAAXRSTlMAQObYZgAAAFhJREFU\n",
       "CNdj4LtzgWH/AwZerg8M8xkY2nkSGEIZGB6wTGD4ycDAUP+A4weQOszA6QCkbBhYFYDUIYb1AkDq\n",
       "6czzGxhA4BoQMyXwuQMptgusF4AU+8xTQBIAUqMVoSp/SLMAAAAASUVORK5CYII=\n",
       "\" style=\"display:inline;vertical-align:middle;\" /></a></td></tr>\n",
       "</table>\n"
      ],
      "text/plain": [
       "0. [y -> y!](x)\n",
       "   core type: Operation\n",
       "   operator: 1\n",
       "   operands: 2\n",
       "1. LAMBDA_APPLICATION\n",
       "   core type: Literal\n",
       "   sub-expressions: \n",
       "2. {lambdaFn:[y -> y!], operand:x}\n",
       "   core type: NamedExprs\n",
       "   lambdaFn: 3\n",
       "   operand: 4\n",
       "3. y -> y!\n",
       "   core type: Lambda\n",
       "   parameter: 7\n",
       "   body: 5\n",
       "4. x\n",
       "   core type: Variable\n",
       "   sub-expressions: \n",
       "5. y!\n",
       "   core type: Operation\n",
       "   operator: 6\n",
       "   operand: 7\n",
       "6. !\n",
       "   core type: Literal\n",
       "   sub-expressions: \n",
       "7. y\n",
       "   core type: Variable\n",
       "   sub-expressions: "
      ]
     },
     "execution_count": 4,
     "metadata": {},
     "output_type": "execute_result"
    }
   ],
   "source": [
    "# display the expression information\n",
    "expr.exprInfo()"
   ]
  },
  {
   "cell_type": "code",
   "execution_count": null,
   "metadata": {},
   "outputs": [],
   "source": []
  }
 ],
 "metadata": {
  "kernelspec": {
   "display_name": "Python 3",
   "language": "python",
   "name": "python3"
  }
 },
 "nbformat": 4,
 "nbformat_minor": 0
}
