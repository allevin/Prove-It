{
 "cells": [
  {
   "cell_type": "markdown",
   "metadata": {},
   "source": [
    "Show the Proof\n",
    "========"
   ]
  },
  {
   "cell_type": "code",
   "execution_count": 1,
   "metadata": {},
   "outputs": [
    {
     "data": {
      "text/html": [
       "<table><tr><th>&nbsp;</th><th>step type</th><th>requirements</th><th>statement</th></tr>\n",
       "<tr><td>0</td><td>assumption</td><td></td><td><span style=\"font-size:20px;\"><a class=\"ProveItLink\" href=\"../99f29ad2cfa2aa35db8f5c4e30883916a5719d960/expr.ipynb\"><img src=\"data:image/png;base64,iVBORw0KGgoAAAANSUhEUgAAAEUAAAAVBAMAAADiLT7tAAAAMFBMVEX///9ERETc3NyqqqpUVFS6\n",
       "urrMzMwyMjIQEBCIiIh2dnYiIiLu7u5mZmaYmJgAAABJJ2g3AAAAAXRSTlMAQObYZgAAAS5JREFU\n",
       "KM9jYGDgu8eAE7CtUgBRPLsY8AC2ZhDJ+QGH9JO7d54yMFwHMbkasCthf8BwEKh9BT41XgwMzAVY\n",
       "1fBM3727AMRg+gZ0zASsatLfQBmsn4FqEpDUMK10srwJ1i0DU8z0fxqYBqvhBRp9iuH1g24Qh1EB\n",
       "buL8/x9BnPcgdkYAA8MChvkMZiDOQYStTE/6e0Deu8DAkNIGZBxgcIRIROzeDXUzyBX/QKT4A6Bw\n",
       "AojVCRFOgRsDlOEBqeFeACRYCiA+5QHJnIaHAdAKpk8w93BtYGB4BIyQOSAOywOoGlDw8TowIPzO\n",
       "/I+xgWkCWPtWqBrenQwMExmQ1PBIrlk1DyKnfg1Cs7C6OD5AVoMMTKrh/mLApQYdgNXw4VcDTj88\n",
       "O/Gmw1YwxbeYQHoGAFY/Uyol8OnkAAAAAElFTkSuQmCC\n",
       "\" style=\"display:inline;vertical-align:middle;\" /></a> <a class=\"ProveItLink\" href=\"proof.ipynb\" style=\"text-decoration: none\">&#x22A2;&nbsp;</a><a class=\"ProveItLink\" href=\"../1a5edcc057c65f4f25007410b60206f5c08ed0560/expr.ipynb\"><img src=\"data:image/png;base64,iVBORw0KGgoAAAANSUhEUgAAADMAAAAPBAMAAAC7N+rPAAAAMFBMVEX///+6uroyMjJERETMzMwQ\n",
       "EBAiIiKYmJju7u5mZmaqqqpUVFSIiIh2dnbc3NwAAAAWgogoAAAAAXRSTlMAQObYZgAAAM1JREFU\n",
       "GNNjYMAG2HfObBfAKsOgzsBhj12G+wIDwyIUkR61tCQw470DA4MPsgyLegOUJb+AgcEFSL89/erk\n",
       "AZDAY5gMw/s/DiCK4wJ7OmsCiGUH18/z/z+Iw8vA84ELpIjDAGH2861fgUZwMHBDxBjD0tKgzgCC\n",
       "+wUgkvUAxBUb4B4G4v4CqFNBDuBIgEl1ggQfAJU8OM/AA3bbdpgUyLezgXh9gSnDG7BIGyzUph1g\n",
       "4AHZ33y29w7YXAY+TQeI1Abp3eZoQce1CeFCIAAAnqEy768c/WoAAAAASUVORK5CYII=\n",
       "\" style=\"display:inline;vertical-align:middle;\" /></a></span></td></tr>\n",
       "</table>"
      ],
      "text/plain": [
       "<proveit._core_.proof._ShowProof at 0x7f94ead574e0>"
      ]
     },
     "execution_count": 1,
     "metadata": {},
     "output_type": "execute_result"
    }
   ],
   "source": [
    "import proveit\n",
    "%show_proof"
   ]
  },
  {
   "cell_type": "code",
   "execution_count": null,
   "metadata": {},
   "outputs": [],
   "source": []
  }
 ],
 "metadata": {
  "kernelspec": {
   "display_name": "Python 3",
   "language": "python",
   "name": "python3"
  }
 },
 "nbformat": 4,
 "nbformat_minor": 0
}
