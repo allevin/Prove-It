{
 "cells": [
  {
   "cell_type": "markdown",
   "metadata": {},
   "source": [
    "Expression of type <a class=\"ProveItLink\" href=\"../../../doc/html/api/proveit.logic.And.html\">And</a>\n",
    "=======================\n",
    "# from context <a class=\"ProveItLink\" href=\"../../_context_.ipynb\">tutorial</a>"
   ]
  },
  {
   "cell_type": "code",
   "execution_count": 1,
   "metadata": {},
   "outputs": [],
   "source": [
    "# import Expression classes needed to build the expression\n",
    "from proveit._common_ import Px, Qx, x\n",
    "from proveit.logic import And, Forall"
   ]
  },
  {
   "cell_type": "code",
   "execution_count": 2,
   "metadata": {},
   "outputs": [
    {
     "data": {
      "text/html": [
       "<strong id=\"expr\">expr:</strong> <a class=\"ProveItLink\" href=\"expr.ipynb\"><img src=\"data:image/png;base64,iVBORw0KGgoAAAANSUhEUgAAAJ0AAAAVBAMAAACu6/FQAAAAMFBMVEX////u7u5mZmaYmJi6urqq\n",
       "qqp2dnbMzMwQEBBEREQyMjLc3NwiIiJUVFSIiIgAAAAeC3ydAAAAAXRSTlMAQObYZgAAAqRJREFU\n",
       "OMu1lD1oFEEUx9997d7XfmAR8BptPBvBs4lgtaWIHOFKm5yKFqJh7a6RKGoVkKCIBoPxC1S0OAsF\n",
       "PRJXxUYiXKWgBg8D6S65xDNBUeJ7b2d2Z9ekdOBm5t68/2/mvZ15AP+xpTv+mHKidvPd6c1FVQhE\n",
       "qcck7K7Pzb1vkumM9NkZlWhOkRUdxfasfIr/6m1FpPFBfgHkxmhyWy7lxfhE8rQhstrKFvcBvtgR\n",
       "Y17w9FWAzCqFFeyfqvvjHckrjOPwPMQlHmKXpaMtgiJintnH+QqtB1slzvKgT9qCx0ffEfLyHnbJ\n",
       "ZezOgSJiXq4HYPzAyYHQ/yr3RrUjeYOtVssL13e7ZMaDpG+pIuZZaNpG8ZQpzd2n3xByhB1K4Eme\n",
       "NTExWQ+UhZ9sxkMk66qIeaN10F/T+l08cz31JouQQyw7KkJEN8OFXDPgJb9Tn1vDwCuqiHlLH46X\n",
       "2fUCKsHsZTCW/Szz4IXkpdt42qAVKXNgYZazjipi3pT8DJiOBBgUOYyK+2a4gofs+ZBn8fcaxlgt\n",
       "RxUx7zeEPNywE/CKtrit5DYPrxQe5/WB7fNCETnqK9LrInUvXbBFvDX8PZK8EqG1bvUjXxe8EpBZ\n",
       "I9KQKiJHsy95VzDE5hKYuLQPBKsmeblp7A4b47xppl9YdBt82SqqiB2XJQ8vyXDlOsz4U9ApKUXJ\n",
       "y+zCiUOfk9rJATh2g5e2qyJ03DL1Rz6zgwBbFwZGSHKPbrMj3yCn+RInTtyZ9KeRt6DTxFNFWqQw\n",
       "ZZuR95bmqSN5e+hfA1zpcw320jD2z3uDeBVAQCdWr/xR752AwOey/9QGQRFFeWG9KsGGvMTN2kJQ\n",
       "M76uszWsVyWI86bl5PPGvEhrnPefclsRxRwLIkzTjdX7WXfzej8Dgcicdf4CZl+ybmF98PcAAAAA\n",
       "SUVORK5CYII=\n",
       "\" style=\"display:inline;vertical-align:middle;\" /></a><br>"
      ],
      "text/plain": [
       "expr: P(x) and [forall_{x} Q(x)]"
      ]
     },
     "execution_count": 2,
     "metadata": {},
     "output_type": "execute_result"
    }
   ],
   "source": [
    "# build up the expression from sub-expressions\n",
    "expr = And(Px, Forall([x], Qx, conditions = []))"
   ]
  },
  {
   "cell_type": "code",
   "execution_count": 3,
   "metadata": {},
   "outputs": [
    {
     "name": "stdout",
     "output_type": "stream",
     "text": [
      "Passed sanity check: built 'expr' is the same as the stored Expression.\n"
     ]
    }
   ],
   "source": [
    "# check that the built expression is the same as the stored expression\n",
    "%check_expr"
   ]
  },
  {
   "cell_type": "code",
   "execution_count": 4,
   "metadata": {},
   "outputs": [
    {
     "data": {
      "text/html": [
       "<table><tr><th>&nbsp;</th><th>core type</th><th>sub-expressions</th><th>expression</th></tr>\n",
       "<tr><td>0</td><td>Operation</td><td>operator:&nbsp;1<br>operands:&nbsp;2<br></td><td><a class=\"ProveItLink\" href=\"expr.ipynb\"><img src=\"data:image/png;base64,iVBORw0KGgoAAAANSUhEUgAAAJ0AAAAVBAMAAACu6/FQAAAAMFBMVEX////u7u5mZmaYmJi6urqq\n",
       "qqp2dnbMzMwQEBBEREQyMjLc3NwiIiJUVFSIiIgAAAAeC3ydAAAAAXRSTlMAQObYZgAAAqRJREFU\n",
       "OMu1lD1oFEEUx9997d7XfmAR8BptPBvBs4lgtaWIHOFKm5yKFqJh7a6RKGoVkKCIBoPxC1S0OAsF\n",
       "PRJXxUYiXKWgBg8D6S65xDNBUeJ7b2d2Z9ekdOBm5t68/2/mvZ15AP+xpTv+mHKidvPd6c1FVQhE\n",
       "qcck7K7Pzb1vkumM9NkZlWhOkRUdxfasfIr/6m1FpPFBfgHkxmhyWy7lxfhE8rQhstrKFvcBvtgR\n",
       "Y17w9FWAzCqFFeyfqvvjHckrjOPwPMQlHmKXpaMtgiJintnH+QqtB1slzvKgT9qCx0ffEfLyHnbJ\n",
       "ZezOgSJiXq4HYPzAyYHQ/yr3RrUjeYOtVssL13e7ZMaDpG+pIuZZaNpG8ZQpzd2n3xByhB1K4Eme\n",
       "NTExWQ+UhZ9sxkMk66qIeaN10F/T+l08cz31JouQQyw7KkJEN8OFXDPgJb9Tn1vDwCuqiHlLH46X\n",
       "2fUCKsHsZTCW/Szz4IXkpdt42qAVKXNgYZazjipi3pT8DJiOBBgUOYyK+2a4gofs+ZBn8fcaxlgt\n",
       "RxUx7zeEPNywE/CKtrit5DYPrxQe5/WB7fNCETnqK9LrInUvXbBFvDX8PZK8EqG1bvUjXxe8EpBZ\n",
       "I9KQKiJHsy95VzDE5hKYuLQPBKsmeblp7A4b47xppl9YdBt82SqqiB2XJQ8vyXDlOsz4U9ApKUXJ\n",
       "y+zCiUOfk9rJATh2g5e2qyJ03DL1Rz6zgwBbFwZGSHKPbrMj3yCn+RInTtyZ9KeRt6DTxFNFWqQw\n",
       "ZZuR95bmqSN5e+hfA1zpcw320jD2z3uDeBVAQCdWr/xR752AwOey/9QGQRFFeWG9KsGGvMTN2kJQ\n",
       "M76uszWsVyWI86bl5PPGvEhrnPefclsRxRwLIkzTjdX7WXfzej8Dgcicdf4CZl+ybmF98PcAAAAA\n",
       "SUVORK5CYII=\n",
       "\" style=\"display:inline;vertical-align:middle;\" /></a></td></tr>\n",
       "<tr><td>1</td><td>Literal</td><td></td><td><a class=\"ProveItLink\" href=\"../../../packages/proveit/logic/boolean/conjunction/__pv_it/76b5f4f4c45c0b6a9b59b297fc07dfa9555698f50/expr.ipynb\"><img src=\"data:image/png;base64,iVBORw0KGgoAAAANSUhEUgAAAAwAAAAOBAMAAADpk+DfAAAALVBMVEX///+qqqqYmJh2dnaIiIi6\n",
       "urpUVFQiIiJERETMzMxmZmYyMjLu7u7c3NwAAABvwqPxAAAAAXRSTlMAQObYZgAAAEtJREFUCNdj\n",
       "YGDgPcAAAtwLwNSMGjCV6gIieTawgyhmBS4BIMXOwLsBSKkwMGQCKaC6aQwMjEBd3BdACMScAVJd\n",
       "wJAKolwYAkAUKwAk0guX6efcigAAAABJRU5ErkJggg==\n",
       "\" style=\"display:inline;vertical-align:middle;\" /></a></td></tr>\n",
       "<tr><td>2</td><td>ExprTuple</td><td>3, 4</td><td><a class=\"ProveItLink\" href=\"../5ae3fae4178fff862605134a961180516953414f0/expr.ipynb\"><img src=\"data:image/png;base64,iVBORw0KGgoAAAANSUhEUgAAAJUAAAAVBAMAAAC9PLGkAAAAMFBMVEX////c3NwiIiJERESqqqqY\n",
       "mJh2dnZmZmYQEBDu7u4yMjJUVFTMzMyIiIi6uroAAAAs73DqAAAAAXRSTlMAQObYZgAAArVJREFU\n",
       "OMutVE1oE0EUfttNNtnsbpqqeJFgLyrFg5YqeJEGPAiiZPXgQVAiSEqF0J56sjSVHiyiFApVeuki\n",
       "KPSiloKXatm7hwTxB0kl0ZNUhNS/+lNS33uzM5uVCh4c+Cbve5n5dt6b9wbgf450dSsWb0jP1N+3\n",
       "fgx+LwSAp4ja5tLS/oxkPK5Io5um820K2kDxCRv2w8CT8AVgnthPAH0cJKORksaliBvHZR+sHl6i\n",
       "juwJOBSU/Q0ghhBMBFkIjO10lIOh1CzZ18l6o3xnBZIk7rRw8zoEjIdZlgdEVyIXat2haYzWTSrf\n",
       "bYFVsvUmgPUFAibGIXnAi11d20J3YoPmIbyatKeceo4xQnYnuufo7MR21na8wlAH5MLPfX17Q63d\n",
       "HO4Qbk5gFrTSwqlRAGOYcZf+qhTA3kcGMrMQ35PEyzshdz8G6A21xlya+/HWUmjNwBn3KubaY9yk\n",
       "v+qPiiNcEsgMcJoxXPpe7v4AZhgNHOCMfqfcYpwFqMNJDLfMaPFnZMqRmWBxGBW5uwMcN9QiFXHn\n",
       "nQ0q5EWutCaDtT5BqIUfrEa0HLejrfZ5aWoy0AK40aY1Qea6XDnB6fWpcVSMpkfNUFquUWXDA5ry\n",
       "ZCapULQNDETGeDgoLzGQxTN1cFDrHMmws3cZszi1yHsh38iu2JxkHSM/7TThNe7xGHT1+g+phSzv\n",
       "HoGsMGGOm/E4zmlx4SjaUzCO8T1hEcS+6mWtqmriHcCt/l+ydZBNv5wpUa7vUy2vhflbk9d671kO\n",
       "KMZ0N5hHB4svKH8NRjLT/oqETPTQW658Sr1dtlWV+3FO3fifPaR6ONrRYPBhVDFUDM9QWsOrqqPF\n",
       "KAWYjzxvis1CRGv6+eigtK3NFkTeHKplruddES3FFri0tnxO7WviE5p8C62MAGiRN1oyx/+H5z0b\n",
       "/K4I/Aap9bT1FZ6taQAAAABJRU5ErkJggg==\n",
       "\" style=\"display:inline;vertical-align:middle;\" /></a></td></tr>\n",
       "<tr><td>3</td><td>Operation</td><td>operator:&nbsp;5<br>operand:&nbsp;10<br></td><td><a class=\"ProveItLink\" href=\"../../../packages/proveit/__pv_it/8c735c381b4cbf3c87e86ca2468da4e5c976f9b00/expr.ipynb\"><img src=\"data:image/png;base64,iVBORw0KGgoAAAANSUhEUgAAAC4AAAAVBAMAAADLKsFqAAAAMFBMVEX////u7u5mZmaYmJi6urqq\n",
       "qqp2dnbMzMwQEBBEREQyMjLc3NwiIiJUVFSIiIgAAAAeC3ydAAAAAXRSTlMAQObYZgAAAQlJREFU\n",
       "GNNjYCACsDyA0MwOIPLt/7t3z24AsWphCtTB5C8GBs5uEGMhTJwLRLB/Y2BgBWIGvgcwceYEEPcL\n",
       "kPEJyOAQgIkzNgAJzg8MDLxfgQwvhAumAjH/AgYG+QlAhhoQb3u79RHQuCQgsz6Bgf0QSNFioAEJ\n",
       "zIc5DjAwRAG576+lqYGd2cLAwMbA94G1gIHBA8idD7MOaD8jAy/IRIZ6IP7DgBAHOuoBVJz9E0y8\n",
       "FUTsL2AQAJvD9wUmPhnojw3vGfiA4lZA53+EiQMdF28wg2EfmCk0/y/M+z4MDJLPxPIMgMwlyMHM\n",
       "sQElHBhQQgsM2B6gxAs8nKVQ42svjHEbVZwbqp2vgAEAALg9cr1t3EsAAAAASUVORK5CYII=\n",
       "\" style=\"display:inline;vertical-align:middle;\" /></a></td></tr>\n",
       "<tr><td>4</td><td>Operation</td><td>operator:&nbsp;6<br>operand:&nbsp;7<br></td><td><a class=\"ProveItLink\" href=\"../bca24c60e66d9d7453216f7296fb03835ec24ffe0/expr.ipynb\"><img src=\"data:image/png;base64,iVBORw0KGgoAAAANSUhEUgAAAEsAAAAVBAMAAAD85A5eAAAAMFBMVEX///8QEBC6urrMzMxUVFRm\n",
       "ZmZERETc3NwyMjKqqqp2dnaIiIiYmJgiIiLu7u4AAAAU9Wx4AAAAAXRSTlMAQObYZgAAAZhJREFU\n",
       "KM+NUjtIQmEU/vRq6vWRRdAQiYND0OLQXhjY0OLuYJMODTnlINGdo4cQtTToEpWCCrZEL2kJisC5\n",
       "wWyJaLKEgijqnP8+G4oO/Of/OPe75/GdH/ifdX7/NK7dF3RaDK4tH1275VkBpCkt4owCBwzWLbT9\n",
       "KBxtBm6jkAIscoI5k/XIeIjRsRG7Uv9xFkzaGrsUJwoZsXvAt5fLLZksZ499LQzYFSPYR2le0+lb\n",
       "k7Ys6tco7ixRN5WZnSQgJ4BpIGPSUk32CzSbm9ATbpqjgIcSRxAw0+NOjPdMx0aFSzjHJtUPAn54\n",
       "myaNCfC8k+sPs/ZxoWAXRPJbNvEpFAtpNGBEpwWUCUKV2GGUIxvsigxtrJKrh4BaFJkYzdKJizCK\n",
       "4XxDGhQqUCuX3i7OSDRufovWaseqWlRul+TtrEAJeD76gq66KghsdY6+ac1FVk4L4KL2FgLz1fIJ\n",
       "98pt+ngCKSgZmkd9os1h67JUm5QV2aAlxvSFa1bRwcNRsqpjx9cLfjwkq/ymSQOq3C79WTqyf77/\n",
       "vHY3gG/2Nl3NWfGzcgAAAABJRU5ErkJggg==\n",
       "\" style=\"display:inline;vertical-align:middle;\" /></a></td></tr>\n",
       "<tr><td>5</td><td>Variable</td><td></td><td><a class=\"ProveItLink\" href=\"../../../packages/proveit/__pv_it/6369c6c8083c513ca7161ace249642d040f9327d0/expr.ipynb\"><img src=\"data:image/png;base64,iVBORw0KGgoAAAANSUhEUgAAABAAAAAOBAMAAADUAYG5AAAAMFBMVEX////u7u5mZmaYmJi6urqq\n",
       "qqp2dnbMzMwQEBBEREQyMjLc3NwiIiJUVFSIiIgAAAAeC3ydAAAAAXRSTlMAQObYZgAAAGBJREFU\n",
       "CNdjYGB4+//u3bMbGIDgFwMDZzeQZv/GwMAKxAx8XxgYmD8BGZwfGBh4vwIZ/AsYGOQnABn1CQzs\n",
       "h0Ca3l9LUwPrni/AAAF/oDT7JygDZAwYcH6E0ELz/z4A0QBnpRnRyxnfJQAAAABJRU5ErkJggg==\n",
       "\" style=\"display:inline;vertical-align:middle;\" /></a></td></tr>\n",
       "<tr><td>6</td><td>Literal</td><td></td><td><a class=\"ProveItLink\" href=\"../../../packages/proveit/logic/boolean/quantification/universal/__pv_it/265f8c02ac1094d56e0e6410a1c1fd3500dc9f540/expr.ipynb\"><img src=\"data:image/png;base64,iVBORw0KGgoAAAANSUhEUgAAAAwAAAAQBAMAAADQT4M0AAAAMFBMVEX///8QEBC6urrMzMxUVFRm\n",
       "ZmZERETc3NwyMjKqqqp2dnaIiIiYmJgiIiLu7u4AAAAU9Wx4AAAAAXRSTlMAQObYZgAAAFhJREFU\n",
       "CNdjeMAABhdAxGmGlSCqj6EMSLInMHAAJVknMPAsLy+vBYp8S0u7BaScGRjSgZQKA18DkOJl4D4A\n",
       "pLgP8IJM4mswARuX7gSmpoKNZWDcAKZ4gCoAgTQTILaSE58AAAAASUVORK5CYII=\n",
       "\" style=\"display:inline;vertical-align:middle;\" /></a></td></tr>\n",
       "<tr><td>7</td><td>Lambda</td><td>parameter:&nbsp;10<br>body:&nbsp;8<br></td><td><a class=\"ProveItLink\" href=\"../1fb815c5755673d1a2bdb97d492e4957a2ccb2df0/expr.ipynb\"><img src=\"data:image/png;base64,iVBORw0KGgoAAAANSUhEUgAAAFoAAAAVCAMAAADxeAmJAAAANlBMVEX///+6uroUFBQNDQ0yMjJE\n",
       "RETMzMwQEBAiIiKYmJju7u5mZmaqqqpUVFSIiIh2dnbc3NwAAACltDI1AAAAAXRSTlMAQObYZgAA\n",
       "AV9JREFUOMvNlUmWhSAMRaGKvknI/jdboEgng6/nD8oRErx5aYiM/fOHw/xu+TtOQo8YR5iK6xmv\n",
       "3pBRHJ9F49qWcLdT4jnYCVlXukkFuJ+z+BgtTIuZLq3abSTop2RPLYlItVZ8G7wMR1kgpgAetmkK\n",
       "YawgyZ5zqhaPV3lHDvosPVussUxfoZrZfXSjaNtlXQGIc2/hhKyw+ATKa7VHu5ja2lD3Q1c29ZmY\n",
       "hcOzuRyOcmD9/pjp0cRvuEygqweqeeEoqo7H9llUs9ivFnWbaH3RPY+cik5H2twe7dPQetRFt1bR\n",
       "oVe5c0pCbDpSxGCPVmNAIStMAIop3aXKs4wLx4p82jKZPaSGmO/WfB3QlEbAIIdQSpuxGyfvOgno\n",
       "EMF+OOOiQDAlBS0h/Ahz5Yh3w09mrO2zTadvXPSK9tPt3o0ihHfoSERjvPeh6sQ7cu4PPZUm3X4F\n",
       "MX3rB5aW8KEU4g9aOQ1MFWmdXQAAAABJRU5ErkJggg==\n",
       "\" style=\"display:inline;vertical-align:middle;\" /></a></td></tr>\n",
       "<tr><td>8</td><td>Operation</td><td>operator:&nbsp;9<br>operand:&nbsp;10<br></td><td><a class=\"ProveItLink\" href=\"../../../packages/proveit/__pv_it/050bcffbb388a0b365dac8afc3d37833b4bb47300/expr.ipynb\"><img src=\"data:image/png;base64,iVBORw0KGgoAAAANSUhEUgAAAC0AAAAVBAMAAAAgHXppAAAAMFBMVEX///+YmJiqqqq6uroQEBBE\n",
       "RETu7u4iIiLMzMwyMjKIiIhUVFRmZmZ2dnbc3NwAAADS0us6AAAAAXRSTlMAQObYZgAAASNJREFU\n",
       "GNNjYCACWEFpYTDJd+fuLjCDYwNUnKcBRN5sYOAuAzE4E2AaJwBxZgCQ8AbxVsENlAXi6SDGeZBS\n",
       "N7h4CtCsHyDGfQMGBuYJcHFWBYb3AWBxBaCKC0A33NqndYqBgfcAw3kBkHg80AWcQFYug7iAOwMD\n",
       "0wSGerAjvgAxC9CsCwzrGTSARjqARRiY/gIJfqB4AsNWsE8+MHwHu9wNKs7A4AUVnw+i9UEeZFEA\n",
       "ef4HAxvYHH2DVys4nMGOA9orx/WBYRkDA+MEBt6yC7yqD0DiQMcxfWR14FsAZjJYz12uwAAyh7mA\n",
       "gS3q2t2FIPvAVrE2MIID0A85HEDiByzhoQUBt8Ak9//PDCjhzAYJKQ4XAUgEweKF+wFqPL6C0isY\n",
       "GABRcT+tFx/ALwAAAABJRU5ErkJggg==\n",
       "\" style=\"display:inline;vertical-align:middle;\" /></a></td></tr>\n",
       "<tr><td>9</td><td>Variable</td><td></td><td><a class=\"ProveItLink\" href=\"../../../packages/proveit/__pv_it/98124f92e6e1fc3772af50ac63eaa1f5624776f20/expr.ipynb\"><img src=\"data:image/png;base64,iVBORw0KGgoAAAANSUhEUgAAAA8AAAASBAMAAAB2sJk8AAAAMFBMVEX///+YmJiqqqq6uroQEBBE\n",
       "RETu7u4iIiLMzMwyMjKIiIhUVFRmZmZ2dnbc3NwAAADS0us6AAAAAXRSTlMAQObYZgAAAHxJREFU\n",
       "CNdjYGDgu3N3FwMI3Gxg4C4D0pkBQMIbiKeDRM8nMPD8ADHuGzC8DwAzFBjOC4AY8Q0M9Qkgxhcw\n",
       "YmBg+svA8B3E4HRjYJgPYug3ALHBqxUczkAOb9kFXtUHIGHrucsVGBrAtrI2MEIZByzBNAP3/88Q\n",
       "BocL0BoActoerD1tNT4AAAAASUVORK5CYII=\n",
       "\" style=\"display:inline;vertical-align:middle;\" /></a></td></tr>\n",
       "<tr><td>10</td><td>Variable</td><td></td><td><a class=\"ProveItLink\" href=\"../../../packages/proveit/__pv_it/530be409e3083890784cf1d7b28c9e67e90af9360/expr.ipynb\"><img src=\"data:image/png;base64,iVBORw0KGgoAAAANSUhEUgAAAAsAAAAJBAMAAAAWSsseAAAAKlBMVEX///9ERETMzMwQEBAiIiKY\n",
       "mJju7u5mZmaqqqpUVFSIiIh2dnbc3NwAAAA/vyDhAAAAAXRSTlMAQObYZgAAAENJREFUCNdjYDi9\n",
       "8sTyBQxsG1hdmR0YuBm4LnAoMLAxcAowgADzAjB1VoEhgYH1wFoGrgSG3gBhhlMMDImrs3cFMAAA\n",
       "t0YN+iTRa+sAAAAASUVORK5CYII=\n",
       "\" style=\"display:inline;vertical-align:middle;\" /></a></td></tr>\n",
       "</table>\n"
      ],
      "text/plain": [
       "0. P(x) and [forall_{x} Q(x)]\n",
       "   core type: Operation\n",
       "   operator: 1\n",
       "   operands: 2\n",
       "1. and\n",
       "   core type: Literal\n",
       "   sub-expressions: \n",
       "2. (P(x) , forall_{x} Q(x))\n",
       "   core type: ExprTuple\n",
       "   sub-expressions: 3, 4\n",
       "3. P(x)\n",
       "   core type: Operation\n",
       "   operator: 5\n",
       "   operand: 10\n",
       "4. forall_{x} Q(x)\n",
       "   core type: Operation\n",
       "   operator: 6\n",
       "   operand: 7\n",
       "5. P\n",
       "   core type: Variable\n",
       "   sub-expressions: \n",
       "6. forall\n",
       "   core type: Literal\n",
       "   sub-expressions: \n",
       "7. x -> Q(x)\n",
       "   core type: Lambda\n",
       "   parameter: 10\n",
       "   body: 8\n",
       "8. Q(x)\n",
       "   core type: Operation\n",
       "   operator: 9\n",
       "   operand: 10\n",
       "9. Q\n",
       "   core type: Variable\n",
       "   sub-expressions: \n",
       "10. x\n",
       "    core type: Variable\n",
       "    sub-expressions: "
      ]
     },
     "execution_count": 4,
     "metadata": {},
     "output_type": "execute_result"
    }
   ],
   "source": [
    "# display the expression information\n",
    "expr.exprInfo()"
   ]
  },
  {
   "cell_type": "code",
   "execution_count": null,
   "metadata": {},
   "outputs": [],
   "source": []
  }
 ],
 "metadata": {
  "kernelspec": {
   "display_name": "Python 3",
   "language": "python",
   "name": "python3"
  }
 },
 "nbformat": 4,
 "nbformat_minor": 0
}
