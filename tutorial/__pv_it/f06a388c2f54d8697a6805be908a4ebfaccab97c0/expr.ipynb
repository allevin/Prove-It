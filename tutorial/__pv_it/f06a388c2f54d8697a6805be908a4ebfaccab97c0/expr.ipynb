{
 "cells": [
  {
   "cell_type": "markdown",
   "metadata": {},
   "source": [
    "Expression of type <a class=\"ProveItLink\" href=\"../../../doc/html/api/proveit.Lambda.html\">Lambda</a>\n",
    "=======================\n",
    "# from context <a class=\"ProveItLink\" href=\"../../_context_.ipynb\">tutorial</a>"
   ]
  },
  {
   "cell_type": "code",
   "execution_count": 1,
   "metadata": {},
   "outputs": [],
   "source": [
    "# import Expression classes needed to build the expression\n",
    "from proveit import Function, Lambda\n",
    "from proveit._common_ import Q, y"
   ]
  },
  {
   "cell_type": "code",
   "execution_count": 2,
   "metadata": {},
   "outputs": [
    {
     "data": {
      "text/html": [
       "<strong id=\"expr\">expr:</strong> <a class=\"ProveItLink\" href=\"expr.ipynb\"><img src=\"data:image/png;base64,iVBORw0KGgoAAAANSUhEUgAAAFgAAAAVCAMAAAD1jdm0AAAANlBMVEX///8UFBQNDQ2YmJhUVFQy\n",
       "MjIQEBBEREQiIiKqqqrMzMyIiIi6urrc3NxmZmZ2dnbu7u4AAACrLjZHAAAAAXRSTlMAQObYZgAA\n",
       "AXJJREFUOMvNlElyxCAMRUmYZ3T/ywZhMwh7EbqyiKu6GoP89DUgxv7zEzx55eEjSswpZ7GinNhM\n",
       "kvuAm2X7SpgytmTZjeQxtkh9r9SQ6f3DjOdTsDQjXOg6VXn6V4fcBCN7Ge4Shbe4ta30WgysSVdA\n",
       "7axd6wZ65hruk3SFTTE51R8LgJmC+wtDfYuyCuZTUxcvrz2KsZI5yxKytH4HFxHH2sD0Aj2NqqVk\n",
       "wwTFqqnCskKv7feXIY+C8IBVSdALfx1vGAfNpuDKvStmYt4jmGdy9EL3SzANnLBcfojZwCkuzQZT\n",
       "8GgP1Yu4YgL+y4S5Ee9gt3a/reqi9445NcPQd0EJhqOXVF/CrDe9R7T5syk1tdnqJQzsLLZj2mbR\n",
       "3ieIv5tjQmZvMPiRinCHSDAyDCkH909XKJ8DTMUlouVKC4MLewJO5B5fE4dgMubT1H19NI0EAKyz\n",
       "vI3NFVOaW1tTczbynVKcjH6xYURkf/NE2kke8/8DTrIO3BszKckAAAAASUVORK5CYII=\n",
       "\" style=\"display:inline;vertical-align:middle;\" /></a><br>"
      ],
      "text/plain": [
       "expr: y -> Q(y)"
      ]
     },
     "execution_count": 2,
     "metadata": {},
     "output_type": "execute_result"
    }
   ],
   "source": [
    "# build up the expression from sub-expressions\n",
    "expr = Lambda(y, Function(Q, y))"
   ]
  },
  {
   "cell_type": "code",
   "execution_count": 3,
   "metadata": {},
   "outputs": [
    {
     "name": "stdout",
     "output_type": "stream",
     "text": [
      "Passed sanity check: built 'expr' is the same as the stored Expression.\n"
     ]
    }
   ],
   "source": [
    "# check that the built expression is the same as the stored expression\n",
    "%check_expr"
   ]
  },
  {
   "cell_type": "code",
   "execution_count": 4,
   "metadata": {},
   "outputs": [
    {
     "data": {
      "text/html": [
       "<table><tr><th>&nbsp;</th><th>core type</th><th>sub-expressions</th><th>expression</th></tr>\n",
       "<tr><td>0</td><td>Lambda</td><td>parameter:&nbsp;3<br>body:&nbsp;1<br></td><td><a class=\"ProveItLink\" href=\"expr.ipynb\"><img src=\"data:image/png;base64,iVBORw0KGgoAAAANSUhEUgAAAFgAAAAVCAMAAAD1jdm0AAAANlBMVEX///8UFBQNDQ2YmJhUVFQy\n",
       "MjIQEBBEREQiIiKqqqrMzMyIiIi6urrc3NxmZmZ2dnbu7u4AAACrLjZHAAAAAXRSTlMAQObYZgAA\n",
       "AXJJREFUOMvNlElyxCAMRUmYZ3T/ywZhMwh7EbqyiKu6GoP89DUgxv7zEzx55eEjSswpZ7GinNhM\n",
       "kvuAm2X7SpgytmTZjeQxtkh9r9SQ6f3DjOdTsDQjXOg6VXn6V4fcBCN7Ge4Shbe4ta30WgysSVdA\n",
       "7axd6wZ65hruk3SFTTE51R8LgJmC+wtDfYuyCuZTUxcvrz2KsZI5yxKytH4HFxHH2sD0Aj2NqqVk\n",
       "wwTFqqnCskKv7feXIY+C8IBVSdALfx1vGAfNpuDKvStmYt4jmGdy9EL3SzANnLBcfojZwCkuzQZT\n",
       "8GgP1Yu4YgL+y4S5Ee9gt3a/reqi9445NcPQd0EJhqOXVF/CrDe9R7T5syk1tdnqJQzsLLZj2mbR\n",
       "3ieIv5tjQmZvMPiRinCHSDAyDCkH909XKJ8DTMUlouVKC4MLewJO5B5fE4dgMubT1H19NI0EAKyz\n",
       "vI3NFVOaW1tTczbynVKcjH6xYURkf/NE2kke8/8DTrIO3BszKckAAAAASUVORK5CYII=\n",
       "\" style=\"display:inline;vertical-align:middle;\" /></a></td></tr>\n",
       "<tr><td>1</td><td>Operation</td><td>operator:&nbsp;2<br>operand:&nbsp;3<br></td><td><a class=\"ProveItLink\" href=\"../10532bc38c8d4c49948a62cf0629ca5786c4e92b0/expr.ipynb\"><img src=\"data:image/png;base64,iVBORw0KGgoAAAANSUhEUgAAACwAAAAVBAMAAADP3xFXAAAAMFBMVEX///+YmJiqqqq6uroQEBBE\n",
       "RETu7u4iIiLMzMwyMjKIiIhUVFRmZmZ2dnbc3NwAAADS0us6AAAAAXRSTlMAQObYZgAAAThJREFU\n",
       "GNNjYCAMrCAUowGI5LtzdxeYy7EBKn0CRNxsYOAuAzE4E6DCnECcGQAkvEG8VTDDGC8wMEwHMc6D\n",
       "FLrBhNkcGHh+gBj3gbYwT4DbHcTwPgAsrMDAwAPUmnuWge8bA8MdhvMCIOH4BqBFQNYFewauDwwM\n",
       "mgz1YOu/ADGLAQOHwnEGVqB2E7AAA9NfIMFvwMDG4MXAv4CBoZ/hO9ihbhBhBqZvDP0NIOH5IGH9\n",
       "BpAhIGsnMCxhABmib/BqBYczSI4VaCXnAYZoIFOSgbfsAq/qA5Aw7wGg6g3MHxlADmSwnrtcgQFk\n",
       "CHMB0H9Ra/4BmZPBuhsYQcIMfmA9BWDPg4QPWIK9LMvAsJ0hBWgx7wIQl/v/ZwZowNYyxIICFRL8\n",
       "LuAAYODbwKC1BhQz+1Aj7RWE4mpgAAAw1EKPQNp2tAAAAABJRU5ErkJggg==\n",
       "\" style=\"display:inline;vertical-align:middle;\" /></a></td></tr>\n",
       "<tr><td>2</td><td>Variable</td><td></td><td><a class=\"ProveItLink\" href=\"../../../packages/proveit/__pv_it/98124f92e6e1fc3772af50ac63eaa1f5624776f20/expr.ipynb\"><img src=\"data:image/png;base64,iVBORw0KGgoAAAANSUhEUgAAAA8AAAASBAMAAAB2sJk8AAAAMFBMVEX///+YmJiqqqq6uroQEBBE\n",
       "RETu7u4iIiLMzMwyMjKIiIhUVFRmZmZ2dnbc3NwAAADS0us6AAAAAXRSTlMAQObYZgAAAHxJREFU\n",
       "CNdjYGDgu3N3FwMI3Gxg4C4D0pkBQMIbiKeDRM8nMPD8ADHuGzC8DwAzFBjOC4AY8Q0M9Qkgxhcw\n",
       "YmBg+svA8B3E4HRjYJgPYug3ALHBqxUczkAOb9kFXtUHIGHrucsVGBrAtrI2MEIZByzBNAP3/88Q\n",
       "BocL0BoActoerD1tNT4AAAAASUVORK5CYII=\n",
       "\" style=\"display:inline;vertical-align:middle;\" /></a></td></tr>\n",
       "<tr><td>3</td><td>Variable</td><td></td><td><a class=\"ProveItLink\" href=\"../../../packages/proveit/__pv_it/f8b9edf8e16034727f0aad55bb83e392c3db40d40/expr.ipynb\"><img src=\"data:image/png;base64,iVBORw0KGgoAAAANSUhEUgAAAAsAAAANBAMAAACN24kIAAAAMFBMVEX///+YmJhUVFQyMjIQEBBE\n",
       "REQiIiKqqqrMzMyIiIi6urrc3NxmZmZ2dnbu7u4AAADXeCicAAAAAXRSTlMAQObYZgAAAFhJREFU\n",
       "CNdj4LtzgWH/AwZerg8M8xkY2nkSGEIZGB6wTGD4ycDAUP+A4weQOszA6QCkbBhYFYDUIYb1AkDq\n",
       "6czzGxhA4BoQMyXwuQMptgusF4AU+8xTQBIAUqMVoSp/SLMAAAAASUVORK5CYII=\n",
       "\" style=\"display:inline;vertical-align:middle;\" /></a></td></tr>\n",
       "</table>\n"
      ],
      "text/plain": [
       "0. y -> Q(y)\n",
       "   core type: Lambda\n",
       "   parameter: 3\n",
       "   body: 1\n",
       "1. Q(y)\n",
       "   core type: Operation\n",
       "   operator: 2\n",
       "   operand: 3\n",
       "2. Q\n",
       "   core type: Variable\n",
       "   sub-expressions: \n",
       "3. y\n",
       "   core type: Variable\n",
       "   sub-expressions: "
      ]
     },
     "execution_count": 4,
     "metadata": {},
     "output_type": "execute_result"
    }
   ],
   "source": [
    "# display the expression information\n",
    "expr.exprInfo()"
   ]
  },
  {
   "cell_type": "code",
   "execution_count": null,
   "metadata": {},
   "outputs": [],
   "source": []
  }
 ],
 "metadata": {
  "kernelspec": {
   "display_name": "Python 3",
   "language": "python",
   "name": "python3"
  }
 },
 "nbformat": 4,
 "nbformat_minor": 0
}
