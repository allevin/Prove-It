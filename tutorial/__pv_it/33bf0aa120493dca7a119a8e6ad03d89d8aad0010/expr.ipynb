{
 "cells": [
  {
   "cell_type": "markdown",
   "metadata": {},
   "source": [
    "Expression of type <a class=\"ProveItLink\" href=\"../../../doc/html/api/proveit.ExprTuple.html\">ExprTuple</a>\n",
    "=======================\n",
    "# from context <a class=\"ProveItLink\" href=\"../../_context_.ipynb\">tutorial</a>"
   ]
  },
  {
   "cell_type": "code",
   "execution_count": 1,
   "metadata": {},
   "outputs": [],
   "source": [
    "# import Expression classes needed to build the expression\n",
    "from proveit import ExprTuple\n",
    "from proveit._common_ import A, B\n",
    "from proveit.logic import Implies"
   ]
  },
  {
   "cell_type": "code",
   "execution_count": 2,
   "metadata": {},
   "outputs": [
    {
     "data": {
      "text/html": [
       "<strong id=\"expr\">expr:</strong> <a class=\"ProveItLink\" href=\"expr.ipynb\"><img src=\"data:image/png;base64,iVBORw0KGgoAAAANSUhEUgAAAKcAAAAVBAMAAADROuOhAAAAMFBMVEX////c3NwiIiJERESqqqqY\n",
       "mJh2dnZmZmYQEBDu7u4yMjJUVFTMzMyIiIi6uroAAAAs73DqAAAAAXRSTlMAQObYZgAAApVJREFU\n",
       "OMu1VE1oE0EUfmuySTbdxIA9VaQlIggeWkGh9ZLchHpQFHpQ0N7EQyFU8CS0ohd7aBdPkoOsiD/x\n",
       "EFe8uUiCJ7GH5ObFkMWTPwj1tzTB1vfmZ2eaphsvDuzM2/fN+2beN28G4L+0bLPH8XVgiBlEgBep\n",
       "W+X2a+m0PT6M9WOrdf0XVYDr/dgubPn+iQCSdbQr3PVMYmmHD2v9AlMTAAsBpPvu8SZAchPABcjw\n",
       "7M1xR0AtPpzdULOt0Grg7IYH5qwCnTDFP/h1AWZwbe4cXsgJ7DbrjZPfVFw6DGzjrEuzYC0qsCKN\n",
       "DEaYvwHuAnzmnmZbiJ91+YzMpnaWnrQm8TuMSxxT4BdpxHClPbilWBGu8TDn9BkOJXlmn+K/NLXm\n",
       "pIHZjUzheFlhCVk9ez0wHuCCiRI8ZI57TC2WKiO3AlII23ye2nhJyNZtvTtExjRbn2H5dan3q9Y8\n",
       "BcddWGaOAEZFXIrJkAVjXT/Y6SCU7Q5p8VHD4tVQb+sIxS4Ck872/dqESIKFr/r+D53UehJI2TKk\n",
       "S0MHy8uh3m3cqr3GSbO4Q1cnxW5Jj3t7RcrGDngbqf3IkXpTZRDpLfov4rmJKkkVKSM6ZE3T/JSQ\n",
       "DTcy9FOmLzQ9yDltyqBWZOkfp6Is8htEaIy0HtavGLZTWpmOUkrnNUk9VaZGh+6Ry4qjTGQbYH0H\n",
       "VhBgUVwhrHgwXFWm9pKzvaRGtDJ9U+EMHwD2rdwHs9ApWSu4kewYGJOdHJzbehzGxcRtu4pPxlNW\n",
       "clVFelTUd6Hrv2T1mQ4gldNuDtk3dr4Udq9Dv6b1XhCvqf42mNTN/MMbnGhGgHP6gyBI1euxeytH\n",
       "YOxA9qt/tr7hDSZ9HoENkYZGbyoHBnJm6hHge4C/2IGqYrggyP0AAAAASUVORK5CYII=\n",
       "\" style=\"display:inline;vertical-align:middle;\" /></a><br>"
      ],
      "text/plain": [
       "expr: (A , (A => B) => B)"
      ]
     },
     "execution_count": 2,
     "metadata": {},
     "output_type": "execute_result"
    }
   ],
   "source": [
    "# build up the expression from sub-expressions\n",
    "expr = ExprTuple(A, Implies(Implies(A, B), B))"
   ]
  },
  {
   "cell_type": "code",
   "execution_count": 3,
   "metadata": {},
   "outputs": [
    {
     "name": "stdout",
     "output_type": "stream",
     "text": [
      "Passed sanity check: built 'expr' is the same as the stored Expression.\n"
     ]
    }
   ],
   "source": [
    "# check that the built expression is the same as the stored expression\n",
    "%check_expr"
   ]
  },
  {
   "cell_type": "code",
   "execution_count": 4,
   "metadata": {},
   "outputs": [
    {
     "data": {
      "text/html": [
       "<table><tr><th>&nbsp;</th><th>core type</th><th>sub-expressions</th><th>expression</th></tr>\n",
       "<tr><td>0</td><td>ExprTuple</td><td>6, 1</td><td><a class=\"ProveItLink\" href=\"expr.ipynb\"><img src=\"data:image/png;base64,iVBORw0KGgoAAAANSUhEUgAAAKcAAAAVBAMAAADROuOhAAAAMFBMVEX////c3NwiIiJERESqqqqY\n",
       "mJh2dnZmZmYQEBDu7u4yMjJUVFTMzMyIiIi6uroAAAAs73DqAAAAAXRSTlMAQObYZgAAApVJREFU\n",
       "OMu1VE1oE0EUfmuySTbdxIA9VaQlIggeWkGh9ZLchHpQFHpQ0N7EQyFU8CS0ohd7aBdPkoOsiD/x\n",
       "EFe8uUiCJ7GH5ObFkMWTPwj1tzTB1vfmZ2eaphsvDuzM2/fN+2beN28G4L+0bLPH8XVgiBlEgBep\n",
       "W+X2a+m0PT6M9WOrdf0XVYDr/dgubPn+iQCSdbQr3PVMYmmHD2v9AlMTAAsBpPvu8SZAchPABcjw\n",
       "7M1xR0AtPpzdULOt0Grg7IYH5qwCnTDFP/h1AWZwbe4cXsgJ7DbrjZPfVFw6DGzjrEuzYC0qsCKN\n",
       "DEaYvwHuAnzmnmZbiJ91+YzMpnaWnrQm8TuMSxxT4BdpxHClPbilWBGu8TDn9BkOJXlmn+K/NLXm\n",
       "pIHZjUzheFlhCVk9ez0wHuCCiRI8ZI57TC2WKiO3AlII23ye2nhJyNZtvTtExjRbn2H5dan3q9Y8\n",
       "BcddWGaOAEZFXIrJkAVjXT/Y6SCU7Q5p8VHD4tVQb+sIxS4Ck872/dqESIKFr/r+D53UehJI2TKk\n",
       "S0MHy8uh3m3cqr3GSbO4Q1cnxW5Jj3t7RcrGDngbqf3IkXpTZRDpLfov4rmJKkkVKSM6ZE3T/JSQ\n",
       "DTcy9FOmLzQ9yDltyqBWZOkfp6Is8htEaIy0HtavGLZTWpmOUkrnNUk9VaZGh+6Ry4qjTGQbYH0H\n",
       "VhBgUVwhrHgwXFWm9pKzvaRGtDJ9U+EMHwD2rdwHs9ApWSu4kewYGJOdHJzbehzGxcRtu4pPxlNW\n",
       "clVFelTUd6Hrv2T1mQ4gldNuDtk3dr4Udq9Dv6b1XhCvqf42mNTN/MMbnGhGgHP6gyBI1euxeytH\n",
       "YOxA9qt/tr7hDSZ9HoENkYZGbyoHBnJm6hHge4C/2IGqYrggyP0AAAAASUVORK5CYII=\n",
       "\" style=\"display:inline;vertical-align:middle;\" /></a></td></tr>\n",
       "<tr><td>1</td><td>Operation</td><td>operator:&nbsp;4<br>operands:&nbsp;2<br></td><td><a class=\"ProveItLink\" href=\"../99c932ccca2ca3a68cb1c4f2c1e06912602fa12a0/expr.ipynb\"><img src=\"data:image/png;base64,iVBORw0KGgoAAAANSUhEUgAAAH8AAAAVBAMAAACd/CwcAAAAMFBMVEX////c3NwiIiJERESqqqqY\n",
       "mJh2dnZmZmYQEBDu7u4yMjJUVFTMzMyIiIi6uroAAAAs73DqAAAAAXRSTlMAQObYZgAAAd9JREFU\n",
       "OMtjYKAY8F0gpIL1AV7p0xDqEDa56P+7d1s9YKjBauz+37s3rwMyVkL467Ga3szAwP6PgQurHIcB\n",
       "A0P9AwZeiA9Y9SfAZTjhLJ6/QPybgTUBoQ2h7DxQ5/kNDBwQEZF6AbgMF1wR70eg0d8YOBsQBqyE\n",
       "s+4DdcQnMLyC8C7cR4QU3wYYixmok6mTgcEEYcBrOMsCiDUmMJRB9EzwD0AoyoUx+DcwMC4Guicd\n",
       "IccGj7TfDAxSlgwMS8GceWAfMTAUKYGAfgHMm3vvFoEM9gJx2MFySt9h4fP77nVVIN0H5j1gkC9A\n",
       "CmCvB3BvcmoD6RdIcizrEOEzCejZf2DTdu/eb4CkiHPFA7g37wOdcB45+mb1wcOH9yvUAD5grC5A\n",
       "UnMqE+5NUECjGMCzbAIsfEAxxNAC4jgAA7sBEQZKllC1QAsY9jtAvQANA2VoJJ8Huoz7CwODKZDN\n",
       "CFTD9QFhiTdSMmD8BWREIQXBBqRkIL8AEkOzQF76CVfDuAApGZwApRykaJRCSgY8XUDXPGJgEO5f\n",
       "yMBq/wseDczQRMlu/3v3LnA0r0MYYAili4H5bBUoijkEMHIJD7oAclI+gJErEwgXGWx4i4yVhA2Y\n",
       "hVdWmrABG/HKMhIs0ngP4JEEAKk4fDD5jM13AAAAAElFTkSuQmCC\n",
       "\" style=\"display:inline;vertical-align:middle;\" /></a></td></tr>\n",
       "<tr><td>2</td><td>ExprTuple</td><td>3, 7</td><td><a class=\"ProveItLink\" href=\"../c2f4f43559b5e64c7bc151f4e7e5e800d6ea02ff0/expr.ipynb\"><img src=\"data:image/png;base64,iVBORw0KGgoAAAANSUhEUgAAAGcAAAAVBAMAAACphe0AAAAAMFBMVEX////c3NwiIiJERESqqqqY\n",
       "mJh2dnZmZmYQEBDu7u4yMjJUVFTMzMyIiIi6uroAAAAs73DqAAAAAXRSTlMAQObYZgAAAYFJREFU\n",
       "OMtjYCAL8F0gTX0ciDgNYR/CpiD6/+7dVg9QOewHgOyVEKH1WI1tZmBg/4fGWcDAwAtxHav+BIRS\n",
       "OJPnLxD/RuOEMTBwQFSI1AsgNK2EMXg/Ao37hsaZwcDwCiJy4f4DhKbXMAZzAwMDUycah9mBoQwS\n",
       "hBP8AxCa2GAByr+BgXHxBDQOWwHDUrDAPIbzYIXsSmDwHaru/N67RXDDYByWBQx9YIEHDPIFSIHG\n",
       "sg5C3xdg4NSGCcI4fA0M4ADl2b17vwFyUM+CmGUBUguzCsbh+QDRxAcMxQVIeniWQTwCCu34BKgg\n",
       "jAPU1ALiOwDDpQHJT8oQPTxfgcR+BwZUDtB5pkAmI5DJ9QHJSxsQMcP4i4GBE5nDwLqAIR3kA1As\n",
       "/ERokkKKmRPAmJ6vgMQBBfkjBgbh/oUMrPa/EMFnCKHY7X/v3gWKkhkfkTgMXA8YOAQwk+kBdIGH\n",
       "yBxgMmJNICIPBSBzcpFTJ5GaOEFxI01YDy8yhxvkH0YSs/sdBgYADaB1nuQahGcAAAAASUVORK5C\n",
       "YII=\n",
       "\" style=\"display:inline;vertical-align:middle;\" /></a></td></tr>\n",
       "<tr><td>3</td><td>Operation</td><td>operator:&nbsp;4<br>operands:&nbsp;5<br></td><td><a class=\"ProveItLink\" href=\"../ab822dd92f6f587d42cbcb4e55df2d568cc3b3260/expr.ipynb\"><img src=\"data:image/png;base64,iVBORw0KGgoAAAANSUhEUgAAAEAAAAAPBAMAAACmSdRUAAAAMFBMVEX///92dnYQEBBERERUVFS6\n",
       "urqIiIhmZmaqqqrc3Nzu7u6YmJgyMjIiIiLMzMwAAACFkkdwAAAAAXRSTlMAQObYZgAAAOhJREFU\n",
       "GNNjYACBtwxYwJb/Li42ARD2eWwKGJQZGNi/glnc9xcghOFMvm9A/AXMnFE/AaHgFIzB9hOo9SOY\n",
       "mZAfgFAQAmMwKzAw8GqBWKwL+jcgFDAmQBn8Dgych8EWLmV4DxZkvwsG36EK3rul1UI0BjDML0By\n",
       "PMdRCJ0/gYHrCti1Li7+BsjeW6MKpoxAikBGsDIwMB1Akuc7CPEpyIf7BYBEA9CxCkhuuAyR5/sN\n",
       "JPyBkpxAzPMByQkOiGDg/AOyEeTlXwgFc5CC4REw1Cbrn2Tgtv+D8IYlhGK3/+LicxpbFD1A5QIA\n",
       "YgVCLvPPxacAAAAASUVORK5CYII=\n",
       "\" style=\"display:inline;vertical-align:middle;\" /></a></td></tr>\n",
       "<tr><td>4</td><td>Literal</td><td></td><td><a class=\"ProveItLink\" href=\"../../../packages/proveit/logic/boolean/implication/__pv_it/e5c030cabcb650938f92dee8256fe11cd12bf9b30/expr.ipynb\"><img src=\"data:image/png;base64,iVBORw0KGgoAAAANSUhEUgAAABMAAAANBAMAAAC5okgUAAAALVBMVEX////c3NxERETMzMwQEBCq\n",
       "qqoiIiJmZmaIiIh2dnZUVFS6uroyMjLu7u4AAACPpZJTAAAAAXRSTlMAQObYZgAAAD1JREFUCNdj\n",
       "YAABXgY44LkAZ3IvQAjPABFlaSCQV4AQjtkAZ/IegbNt5sLUpunC5aPgLMYDcCaTAJzJDCIA2yMN\n",
       "HCCUuIIAAAAASUVORK5CYII=\n",
       "\" style=\"display:inline;vertical-align:middle;\" /></a></td></tr>\n",
       "<tr><td>5</td><td>ExprTuple</td><td>6, 7</td><td><a class=\"ProveItLink\" href=\"../caee09fb4b5c95b986a9cee46a014afbad9bdc680/expr.ipynb\"><img src=\"data:image/png;base64,iVBORw0KGgoAAAANSUhEUgAAADUAAAAVBAMAAAAUZLt1AAAAMFBMVEX////c3NwiIiJERESqqqqY\n",
       "mJh2dnZmZmYQEBDu7u4yMjJUVFTMzMyIiIi6uroAAAAs73DqAAAAAXRSTlMAQObYZgAAATZJREFU\n",
       "KM9jYMAH+C5gFY4DEach7EMwQdb9v3dvXsfAfgDIXgkRWg/XwWHAwFD/gGEBAwMvxEhW/QkwufNA\n",
       "kfMbGMKAqiBiIvUCMLn7QFZ8AsMMBoZXEIEL9x/A5CyAWGMCA7MDQxnEsRP8A2ByvxkYpCwZGNgK\n",
       "GJaC+fPAtoABz++711WBNMsChj6wwAMG+QKoHO9HBoZJG4BGNTD8A6vdvXu/AVSOuQEo/xUo9gEi\n",
       "xwd07wKoHD9QD+s3sFwLiO/AwMDUAPMe0FHcX8BmmgK5jEA5rg8MDBNg3pMHGsK6gCEdyJ0FsuYn\n",
       "A+cnqPd4uiaA/fCIgUG4fyEDq/2vAs5+oJbi/7t3rwL5lesBA4cAUnQhsUFhxpqA4LIiR2AuIo7Q\n",
       "5ThBfpJG8JFTADfIfEbsaeIOAwMABOxNRsfkiy0AAAAASUVORK5CYII=\n",
       "\" style=\"display:inline;vertical-align:middle;\" /></a></td></tr>\n",
       "<tr><td>6</td><td>Variable</td><td></td><td><a class=\"ProveItLink\" href=\"../../../packages/proveit/__pv_it/2cbe72a7ad6f655694dd697106680215e8489b600/expr.ipynb\"><img src=\"data:image/png;base64,iVBORw0KGgoAAAANSUhEUgAAAA8AAAAOBAMAAAACpFvcAAAALVBMVEX///8QEBBERERUVFS6urqI\n",
       "iIhmZmaqqqrc3Nzu7u6YmJgyMjIiIiLMzMwAAADtIaYWAAAAAXRSTlMAQObYZgAAAFtJREFUCNdj\n",
       "YACBOwxQsA9Kc52bAGG05zVAGAFxDmCaZULdAjBjCsO9ADDDgaEvAUTzGhvbKYCVMDAwbgAxChgY\n",
       "eASANAeQwf0AyJgNxEwvGRia5HYwcOm9TgAA6BoR3jrzwFcAAAAASUVORK5CYII=\n",
       "\" style=\"display:inline;vertical-align:middle;\" /></a></td></tr>\n",
       "<tr><td>7</td><td>Variable</td><td></td><td><a class=\"ProveItLink\" href=\"../../../packages/proveit/__pv_it/077b2ff79244fb4582cbe22c6e3356fa92a52f2f0/expr.ipynb\"><img src=\"data:image/png;base64,iVBORw0KGgoAAAANSUhEUgAAABAAAAAOBAMAAADUAYG5AAAAMFBMVEX///+qqqru7u4iIiJ2dnbc\n",
       "3NyIiIjMzMxmZmYQEBC6uroyMjJERERUVFSYmJgAAADLUcuvAAAAAXRSTlMAQObYZgAAAGpJREFU\n",
       "CNdjYGB4+//u3dMLGIBgDgMDxy8gzf4NiP8CGWxfGRj4vgAZPBMYGJgnARn8FxhY9ygAGfXX0pof\n",
       "gDTlBzAw2YIYJ0EckBBI53sHoBH/gIz7AhBjWH9DjancBLTl/N+7t/cxMAAA3u4f/5xagjYAAAAA\n",
       "SUVORK5CYII=\n",
       "\" style=\"display:inline;vertical-align:middle;\" /></a></td></tr>\n",
       "</table>\n"
      ],
      "text/plain": [
       "0. (A , (A => B) => B)\n",
       "   core type: ExprTuple\n",
       "   sub-expressions: 6, 1\n",
       "1. (A => B) => B\n",
       "   core type: Operation\n",
       "   operator: 4\n",
       "   operands: 2\n",
       "2. (A => B , B)\n",
       "   core type: ExprTuple\n",
       "   sub-expressions: 3, 7\n",
       "3. A => B\n",
       "   core type: Operation\n",
       "   operator: 4\n",
       "   operands: 5\n",
       "4. =>\n",
       "   core type: Literal\n",
       "   sub-expressions: \n",
       "5. (A , B)\n",
       "   core type: ExprTuple\n",
       "   sub-expressions: 6, 7\n",
       "6. A\n",
       "   core type: Variable\n",
       "   sub-expressions: \n",
       "7. B\n",
       "   core type: Variable\n",
       "   sub-expressions: "
      ]
     },
     "execution_count": 4,
     "metadata": {},
     "output_type": "execute_result"
    }
   ],
   "source": [
    "# display the expression information\n",
    "expr.exprInfo()"
   ]
  },
  {
   "cell_type": "code",
   "execution_count": null,
   "metadata": {},
   "outputs": [],
   "source": []
  }
 ],
 "metadata": {
  "kernelspec": {
   "display_name": "Python 3",
   "language": "python",
   "name": "python3"
  }
 },
 "nbformat": 4,
 "nbformat_minor": 0
}
