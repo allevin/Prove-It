{
 "cells": [
  {
   "cell_type": "markdown",
   "metadata": {},
   "source": [
    "Show the Proof\n",
    "========"
   ]
  },
  {
   "cell_type": "code",
   "execution_count": 1,
   "metadata": {},
   "outputs": [
    {
     "data": {
      "text/html": [
       "<table><tr><th>&nbsp;</th><th>step type</th><th>requirements</th><th>statement</th></tr>\n",
       "<tr><td>0</td><td>assumption</td><td></td><td><span style=\"font-size:20px;\"><a class=\"ProveItLink\" href=\"../be2737bca3b99e18d22eeda10666e4a81c190d730/expr.ipynb\"><img src=\"data:image/png;base64,iVBORw0KGgoAAAANSUhEUgAAAFEAAAAVBAMAAADMaB9/AAAAMFBMVEX////c3NxERESqqqpUVFS6\n",
       "urrMzMwyMjIQEBCIiIh2dnYiIiLu7u5mZmaYmJgAAABXZE4RAAAAAXRSTlMAQObYZgAAAVRJREFU\n",
       "KM9jYGDgu8dAALCtEgBRPLsYCAK2ZhDJ+QFETvnv4lSJTdGTu3eeMjBcBzG5GsAinxgYThRgKmR/\n",
       "wHAIaNQKhEq2nwwMLF9h8jxwlV4MDMwFKCo5vwH1f4ObdADKYAQKsU1AUckEJPMdYCpZYSzWz0CV\n",
       "CSgq+R0YmHcinLcSZub/aWAarJIX7I98z7mdYLHbu0Fg/wWo0vn/P4HC8j2InREAFjnAYJ+A5Gfz\n",
       "AKihT/p7QA4H6kxpA4togB2AADwVUKUMXP9ApPoDBoYIsFFfGBjkkVWmrwFTQHkekEruBUCCBeRO\n",
       "NiD3/QKEO3frQEwGWsr4EeZOrg3Q4Lw/ARHgJhAKFOi8DgzIocQEjLH5E+RgChmh8coLDLhJDMgq\n",
       "z+p/mcDAWzkBppJJAEKzsLo4PUBRiZHK0AVwqmTAqpKPGJXg9Mmzk4g03wqm+BYTlY8Ak2lg4ttd\n",
       "9VwAAAAASUVORK5CYII=\n",
       "\" style=\"display:inline;vertical-align:middle;\" /></a> <a class=\"ProveItLink\" href=\"proof.ipynb\" style=\"text-decoration: none\">&#x22A2;&nbsp;</a><a class=\"ProveItLink\" href=\"../802c3043bd6a72e41e44712c2843c17c83a574050/expr.ipynb\"><img src=\"data:image/png;base64,iVBORw0KGgoAAAANSUhEUgAAAD4AAAAPBAMAAABOyWF/AAAAMFBMVEX///92dnaYmJjc3NxmZmYi\n",
       "IiKqqqq6urrMzMwQEBDu7u4yMjJERERUVFSIiIgAAAArjcN0AAAAAXRSTlMAQObYZgAAAPFJREFU\n",
       "GNNjYGB4+//unX0MWICui5c6iP7DwLByA6Y0twLDmg9AmuMfAwPvd5goF1z+IgMDG0gb3w+g2h9w\n",
       "XQugDGagEMcDIINnAgND/wWYPDuMxf4NKN8AZPBfYGCLQ1grB9P//wWE0X/vyTwwwzUUBOIdoAre\n",
       "//9jAKYXMOQ3ILk7uwBqgO78WSD6JNgKBODaCVXAwPgJRP5lYLBHlu+WAlMKQJUgeQ4goS+AsD/0\n",
       "FMQUoDOYP0O97/8AESy5EAoUNCwgY3mAYfj+gRFMmhka0ixAL78B0kvO/33AwLLvAUyexwBC87Lf\n",
       "vaOAJdI4ULkAzXFEBsI7SAUAAAAASUVORK5CYII=\n",
       "\" style=\"display:inline;vertical-align:middle;\" /></a></span></td></tr>\n",
       "</table>"
      ],
      "text/plain": [
       "<proveit._core_.proof._ShowProof at 0x7f94ea9e37b8>"
      ]
     },
     "execution_count": 1,
     "metadata": {},
     "output_type": "execute_result"
    }
   ],
   "source": [
    "import proveit\n",
    "%show_proof"
   ]
  },
  {
   "cell_type": "code",
   "execution_count": null,
   "metadata": {},
   "outputs": [],
   "source": []
  }
 ],
 "metadata": {
  "kernelspec": {
   "display_name": "Python 3",
   "language": "python",
   "name": "python3"
  }
 },
 "nbformat": 4,
 "nbformat_minor": 0
}
