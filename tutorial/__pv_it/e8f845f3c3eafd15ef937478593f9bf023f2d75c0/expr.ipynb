{
 "cells": [
  {
   "cell_type": "markdown",
   "metadata": {},
   "source": [
    "Expression of type <a class=\"ProveItLink\" href=\"../../../doc/html/api/proveit.ExprTuple.html\">ExprTuple</a>\n",
    "=======================\n",
    "# from context <a class=\"ProveItLink\" href=\"../../_context_.ipynb\">tutorial</a>"
   ]
  },
  {
   "cell_type": "code",
   "execution_count": 1,
   "metadata": {},
   "outputs": [],
   "source": [
    "# import Expression classes needed to build the expression\n",
    "from proveit import ExprTuple\n",
    "from proveit._common_ import P, Q\n",
    "from proveit.logic import Implies"
   ]
  },
  {
   "cell_type": "code",
   "execution_count": 2,
   "metadata": {},
   "outputs": [
    {
     "data": {
      "text/html": [
       "<strong id=\"expr\">expr:</strong> <a class=\"ProveItLink\" href=\"expr.ipynb\"><img src=\"data:image/png;base64,iVBORw0KGgoAAAANSUhEUgAAAE0AAAAVBAMAAADx+n4ZAAAAMFBMVEX////c3NwiIiJERESqqqqY\n",
       "mJh2dnZmZmYQEBDu7u4yMjJUVFTMzMyIiIi6uroAAAAs73DqAAAAAXRSTlMAQObYZgAAAWpJREFU\n",
       "KM9jYCAW8F0gqCQORJwG4tv/d+/WFsCigjE9bS8DA/sBIHMliP+LgYG5EYu6rAMM3JoMDAsYGHhB\n",
       "1vJ8Y2Bg+QaXnQBjzDIAEt0MDGEMDBwgQd5/DAys3+HqVsIYi0BE/QSGGQwMr0BM5g8MDNxf4Ope\n",
       "Q2n2PyAy/wEDswNDGYjJD3TAfAO4OjZoEMiDhfIdGNgKGJaCmOcTGHjUwSYogQHUCfUBINL+AAPL\n",
       "AoY+EPP+trQy5GBhWQem9MEe+gEM4waGf2AtE9DCY1YfVAUkHHg+QNR9QlPGs2wCXJirE6yuBSQM\n",
       "DxKo+5Qh5q8HEf4HwPaaQoMPGbBsgND+D2Tv8IBcwLqAIR0UfD9R1UnBwkczgc0Z5D9guDxiYJhu\n",
       "/xs1zRjCA3zZJQcGoL1cDxg4sCSTAwgm8wFWIA8Yb6wJeJMecwEoYnORIx0r4P4P9CMnMFoZpPGq\n",
       "4+kAxh03yG2MhNP9HQYGAD0KWgAFsq0VAAAAAElFTkSuQmCC\n",
       "\" style=\"display:inline;vertical-align:middle;\" /></a><br>"
      ],
      "text/plain": [
       "expr: (P => Q)"
      ]
     },
     "execution_count": 2,
     "metadata": {},
     "output_type": "execute_result"
    }
   ],
   "source": [
    "# build up the expression from sub-expressions\n",
    "expr = ExprTuple(Implies(P, Q))"
   ]
  },
  {
   "cell_type": "code",
   "execution_count": 3,
   "metadata": {},
   "outputs": [
    {
     "name": "stdout",
     "output_type": "stream",
     "text": [
      "Passed sanity check: built 'expr' is the same as the stored Expression.\n"
     ]
    }
   ],
   "source": [
    "# check that the built expression is the same as the stored expression\n",
    "%check_expr"
   ]
  },
  {
   "cell_type": "code",
   "execution_count": 4,
   "metadata": {},
   "outputs": [
    {
     "data": {
      "text/html": [
       "<table><tr><th>&nbsp;</th><th>core type</th><th>sub-expressions</th><th>expression</th></tr>\n",
       "<tr><td>0</td><td>ExprTuple</td><td>1</td><td><a class=\"ProveItLink\" href=\"expr.ipynb\"><img src=\"data:image/png;base64,iVBORw0KGgoAAAANSUhEUgAAAE0AAAAVBAMAAADx+n4ZAAAAMFBMVEX////c3NwiIiJERESqqqqY\n",
       "mJh2dnZmZmYQEBDu7u4yMjJUVFTMzMyIiIi6uroAAAAs73DqAAAAAXRSTlMAQObYZgAAAWpJREFU\n",
       "KM9jYCAW8F0gqCQORJwG4tv/d+/WFsCigjE9bS8DA/sBIHMliP+LgYG5EYu6rAMM3JoMDAsYGHhB\n",
       "1vJ8Y2Bg+QaXnQBjzDIAEt0MDGEMDBwgQd5/DAys3+HqVsIYi0BE/QSGGQwMr0BM5g8MDNxf4Ope\n",
       "Q2n2PyAy/wEDswNDGYjJD3TAfAO4OjZoEMiDhfIdGNgKGJaCmOcTGHjUwSYogQHUCfUBINL+AAPL\n",
       "AoY+EPP+trQy5GBhWQem9MEe+gEM4waGf2AtE9DCY1YfVAUkHHg+QNR9QlPGs2wCXJirE6yuBSQM\n",
       "DxKo+5Qh5q8HEf4HwPaaQoMPGbBsgND+D2Tv8IBcwLqAIR0UfD9R1UnBwkczgc0Z5D9guDxiYJhu\n",
       "/xs1zRjCA3zZJQcGoL1cDxg4sCSTAwgm8wFWIA8Yb6wJeJMecwEoYnORIx0r4P4P9CMnMFoZpPGq\n",
       "4+kAxh03yG2MhNP9HQYGAD0KWgAFsq0VAAAAAElFTkSuQmCC\n",
       "\" style=\"display:inline;vertical-align:middle;\" /></a></td></tr>\n",
       "<tr><td>1</td><td>Operation</td><td>operator:&nbsp;2<br>operands:&nbsp;3<br></td><td><a class=\"ProveItLink\" href=\"../0ecb625fde376e84d1f8fabde19ab0c6635d1e200/expr.ipynb\"><img src=\"data:image/png;base64,iVBORw0KGgoAAAANSUhEUgAAAEEAAAASBAMAAAD2w64vAAAAMFBMVEX////u7u5mZmaYmJi6urqq\n",
       "qqp2dnbMzMwQEBBEREQyMjLc3NwiIiJUVFSIiIgAAAAeC3ydAAAAAXRSTlMAQObYZgAAAP5JREFU\n",
       "KM9jYGB4+//u3bMbGDABd1LaPQjrFwMDZzcWFVkFDLwHQQz2bwwMrN/g4gIwhtQEINELYvF9YWBg\n",
       "/gRXsRDGWAMi9EEaOD8wMPB+havwhdJM30FkvgOQ4F/AwCA/Aa6C7QGE3g8Wyg8AEvUJDOyHwLrO\n",
       "gAHUQn0DEDm/AEi8v5amhuxZ1iVg6jzYyT/AygTQfCnVApeD+PEPmgL2ZQJwYa5GkADco1B3nISY\n",
       "uR5ExBdAgwMZsF6A0PEO+56zg+3j/IiqYhfM1wcT2CJBPhCa//cBiorZ8KBb9iaAoQBLfCGJcRYw\n",
       "Y1OBBDgVvPArYOD9/4WACvYOYMgDAPldSOLUB00KAAAAAElFTkSuQmCC\n",
       "\" style=\"display:inline;vertical-align:middle;\" /></a></td></tr>\n",
       "<tr><td>2</td><td>Literal</td><td></td><td><a class=\"ProveItLink\" href=\"../../../packages/proveit/logic/boolean/implication/__pv_it/e5c030cabcb650938f92dee8256fe11cd12bf9b30/expr.ipynb\"><img src=\"data:image/png;base64,iVBORw0KGgoAAAANSUhEUgAAABMAAAANBAMAAAC5okgUAAAALVBMVEX////c3NxERETMzMwQEBCq\n",
       "qqoiIiJmZmaIiIh2dnZUVFS6uroyMjLu7u4AAACPpZJTAAAAAXRSTlMAQObYZgAAAD1JREFUCNdj\n",
       "YAABXgY44LkAZ3IvQAjPABFlaSCQV4AQjtkAZ/IegbNt5sLUpunC5aPgLMYDcCaTAJzJDCIA2yMN\n",
       "HCCUuIIAAAAASUVORK5CYII=\n",
       "\" style=\"display:inline;vertical-align:middle;\" /></a></td></tr>\n",
       "<tr><td>3</td><td>ExprTuple</td><td>4, 5</td><td><a class=\"ProveItLink\" href=\"../d7a1e7ea4a4f91471e6430488ddf80a6c01c0dbd0/expr.ipynb\"><img src=\"data:image/png;base64,iVBORw0KGgoAAAANSUhEUgAAADMAAAAVBAMAAAAZessyAAAAMFBMVEX////c3NwiIiJERESqqqqY\n",
       "mJh2dnZmZmYQEBDu7u4yMjJUVFTMzMyIiIi6uroAAAAs73DqAAAAAXRSTlMAQObYZgAAAUZJREFU\n",
       "KM99Ur9Lw1AYvJImbZpUu4s4SnHQxbkB/4A6OUqmFgRpp65VcFAEzaa4GAQFJzeXImR3UFwtGBx1\n",
       "KSJt/UHrd++10aH4IJfLu3Dv++57wD9r6n7S7jrhVp7HYau1UNCbqWrlBshEQi/5/QkY21raiOAU\n",
       "gRDI08/tAumuUk6WBPaBNSAbCM0PALOnpDNCM8Ax8EJqdADnnSzzTazFMDw0SKfF+ZROmFNY82DV\n",
       "cU5658OdV37NVWIpQjrEAenTdaWha1/k0ehLu1sYqL+Ccat9Aot1O1p6S1JQLLenpB221UukK0I5\n",
       "UobLo7Zk0bUcz7Zdnm+GqLKtDyo2zayib62wIin+GTgqfTEt+5BbrxcPHsQwFyNb+B2PpkZkiiRB\n",
       "mX4imfpl1Bne5ngofyVnKFXZEh1mEmk0bndXwnJonpp4AdrAD2bmUgaDRD48AAAAAElFTkSuQmCC\n",
       "\" style=\"display:inline;vertical-align:middle;\" /></a></td></tr>\n",
       "<tr><td>4</td><td>Variable</td><td></td><td><a class=\"ProveItLink\" href=\"../../../packages/proveit/__pv_it/6369c6c8083c513ca7161ace249642d040f9327d0/expr.ipynb\"><img src=\"data:image/png;base64,iVBORw0KGgoAAAANSUhEUgAAABAAAAAOBAMAAADUAYG5AAAAMFBMVEX////u7u5mZmaYmJi6urqq\n",
       "qqp2dnbMzMwQEBBEREQyMjLc3NwiIiJUVFSIiIgAAAAeC3ydAAAAAXRSTlMAQObYZgAAAGBJREFU\n",
       "CNdjYGB4+//u3bMbGIDgFwMDZzeQZv/GwMAKxAx8XxgYmD8BGZwfGBh4vwIZ/AsYGOQnABn1CQzs\n",
       "h0Ca3l9LUwPrni/AAAF/oDT7JygDZAwYcH6E0ELz/z4A0QBnpRnRyxnfJQAAAABJRU5ErkJggg==\n",
       "\" style=\"display:inline;vertical-align:middle;\" /></a></td></tr>\n",
       "<tr><td>5</td><td>Variable</td><td></td><td><a class=\"ProveItLink\" href=\"../../../packages/proveit/__pv_it/98124f92e6e1fc3772af50ac63eaa1f5624776f20/expr.ipynb\"><img src=\"data:image/png;base64,iVBORw0KGgoAAAANSUhEUgAAAA8AAAASBAMAAAB2sJk8AAAAMFBMVEX///+YmJiqqqq6uroQEBBE\n",
       "RETu7u4iIiLMzMwyMjKIiIhUVFRmZmZ2dnbc3NwAAADS0us6AAAAAXRSTlMAQObYZgAAAHxJREFU\n",
       "CNdjYGDgu3N3FwMI3Gxg4C4D0pkBQMIbiKeDRM8nMPD8ADHuGzC8DwAzFBjOC4AY8Q0M9Qkgxhcw\n",
       "YmBg+svA8B3E4HRjYJgPYug3ALHBqxUczkAOb9kFXtUHIGHrucsVGBrAtrI2MEIZByzBNAP3/88Q\n",
       "BocL0BoActoerD1tNT4AAAAASUVORK5CYII=\n",
       "\" style=\"display:inline;vertical-align:middle;\" /></a></td></tr>\n",
       "</table>\n"
      ],
      "text/plain": [
       "0. (P => Q)\n",
       "   core type: ExprTuple\n",
       "   sub-expressions: 1\n",
       "1. P => Q\n",
       "   core type: Operation\n",
       "   operator: 2\n",
       "   operands: 3\n",
       "2. =>\n",
       "   core type: Literal\n",
       "   sub-expressions: \n",
       "3. (P , Q)\n",
       "   core type: ExprTuple\n",
       "   sub-expressions: 4, 5\n",
       "4. P\n",
       "   core type: Variable\n",
       "   sub-expressions: \n",
       "5. Q\n",
       "   core type: Variable\n",
       "   sub-expressions: "
      ]
     },
     "execution_count": 4,
     "metadata": {},
     "output_type": "execute_result"
    }
   ],
   "source": [
    "# display the expression information\n",
    "expr.exprInfo()"
   ]
  },
  {
   "cell_type": "code",
   "execution_count": null,
   "metadata": {},
   "outputs": [],
   "source": []
  }
 ],
 "metadata": {
  "kernelspec": {
   "display_name": "Python 3",
   "language": "python",
   "name": "python3"
  }
 },
 "nbformat": 4,
 "nbformat_minor": 0
}
