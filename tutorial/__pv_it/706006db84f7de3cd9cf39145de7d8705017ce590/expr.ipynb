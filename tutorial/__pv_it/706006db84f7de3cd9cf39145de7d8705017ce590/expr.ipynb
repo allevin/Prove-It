{
 "cells": [
  {
   "cell_type": "markdown",
   "metadata": {},
   "source": [
    "Expression of type <a class=\"ProveItLink\" href=\"../../../doc/html/api/proveit.ExprTuple.html\">ExprTuple</a>\n",
    "=======================\n",
    "# from context <a class=\"ProveItLink\" href=\"../../_context_.ipynb\">tutorial</a>"
   ]
  },
  {
   "cell_type": "code",
   "execution_count": 1,
   "metadata": {},
   "outputs": [],
   "source": [
    "# import Expression classes needed to build the expression\n",
    "from proveit import ExprTuple\n",
    "from proveit._common_ import R, S\n",
    "from proveit.logic import Implies"
   ]
  },
  {
   "cell_type": "code",
   "execution_count": 2,
   "metadata": {},
   "outputs": [
    {
     "data": {
      "text/html": [
       "<strong id=\"expr\">expr:</strong> <a class=\"ProveItLink\" href=\"expr.ipynb\"><img src=\"data:image/png;base64,iVBORw0KGgoAAAANSUhEUgAAAEoAAAAVBAMAAAATJmVgAAAAMFBMVEX////c3NwiIiJERESqqqqY\n",
       "mJh2dnZmZmYQEBDu7u4yMjJUVFTMzMyIiIi6uroAAAAs73DqAAAAAXRSTlMAQObYZgAAAVpJREFU\n",
       "KM9jYCAO8F0goID1AZA4DcS3/+/evBabiujyyjiGGiBjJYj3mYFhxgJMRVwBDJM/MHAxMPCCLOT5\n",
       "y8DA/Q8mxwlXtY2BgWUBA2sCA8cEII/3D1DfH7gJE6AMRqAQzwUGzgaGVyAucwMDw/kNcP/AWHxf\n",
       "gKoOMDCYMJSBuPwbGFh0Ec7JhZn1/w6YTmdYCqLO773eC+YXKYGAfgFU2f3/nwWAlBdDH5g3gcH/\n",
       "AJLfvB5ADYvu7wRSLxjAPrMAW4oAnCugyhjYvoKsgqj6zcAgj6zqVCaYCgCqh6hqAQUXkBmfgHCX\n",
       "kiXERKDzGD+CbTSFBlf9BURgekMoYIAysIOsiAL6EhhcH4AeuCAKU8QIjSt2YOBchoTEIwaG6fa/\n",
       "LzCwr4WnDWYBCM3Nt3tzAIixjoFDACOOedD4wBhiTSCYAtkuQFMOXjALiKUJqtoI8hGhFM17gAEA\n",
       "JT9Y+r4xx6wAAAAASUVORK5CYII=\n",
       "\" style=\"display:inline;vertical-align:middle;\" /></a><br>"
      ],
      "text/plain": [
       "expr: (R => S)"
      ]
     },
     "execution_count": 2,
     "metadata": {},
     "output_type": "execute_result"
    }
   ],
   "source": [
    "# build up the expression from sub-expressions\n",
    "expr = ExprTuple(Implies(R, S))"
   ]
  },
  {
   "cell_type": "code",
   "execution_count": 3,
   "metadata": {},
   "outputs": [
    {
     "name": "stdout",
     "output_type": "stream",
     "text": [
      "Passed sanity check: built 'expr' is the same as the stored Expression.\n"
     ]
    }
   ],
   "source": [
    "# check that the built expression is the same as the stored expression\n",
    "%check_expr"
   ]
  },
  {
   "cell_type": "code",
   "execution_count": 4,
   "metadata": {},
   "outputs": [
    {
     "data": {
      "text/html": [
       "<table><tr><th>&nbsp;</th><th>core type</th><th>sub-expressions</th><th>expression</th></tr>\n",
       "<tr><td>0</td><td>ExprTuple</td><td>1</td><td><a class=\"ProveItLink\" href=\"expr.ipynb\"><img src=\"data:image/png;base64,iVBORw0KGgoAAAANSUhEUgAAAEoAAAAVBAMAAAATJmVgAAAAMFBMVEX////c3NwiIiJERESqqqqY\n",
       "mJh2dnZmZmYQEBDu7u4yMjJUVFTMzMyIiIi6uroAAAAs73DqAAAAAXRSTlMAQObYZgAAAVpJREFU\n",
       "KM9jYCAO8F0goID1AZA4DcS3/+/evBabiujyyjiGGiBjJYj3mYFhxgJMRVwBDJM/MHAxMPCCLOT5\n",
       "y8DA/Q8mxwlXtY2BgWUBA2sCA8cEII/3D1DfH7gJE6AMRqAQzwUGzgaGVyAucwMDw/kNcP/AWHxf\n",
       "gKoOMDCYMJSBuPwbGFh0Ec7JhZn1/w6YTmdYCqLO773eC+YXKYGAfgFU2f3/nwWAlBdDH5g3gcH/\n",
       "AJLfvB5ADYvu7wRSLxjAPrMAW4oAnCugyhjYvoKsgqj6zcAgj6zqVCaYCgCqh6hqAQUXkBmfgHCX\n",
       "kiXERKDzGD+CbTSFBlf9BURgekMoYIAysIOsiAL6EhhcH4AeuCAKU8QIjSt2YOBchoTEIwaG6fa/\n",
       "LzCwr4WnDWYBCM3Nt3tzAIixjoFDACOOedD4wBhiTSCYAtkuQFMOXjALiKUJqtoI8hGhFM17gAEA\n",
       "JT9Y+r4xx6wAAAAASUVORK5CYII=\n",
       "\" style=\"display:inline;vertical-align:middle;\" /></a></td></tr>\n",
       "<tr><td>1</td><td>Operation</td><td>operator:&nbsp;2<br>operands:&nbsp;3<br></td><td><a class=\"ProveItLink\" href=\"../802c3043bd6a72e41e44712c2843c17c83a574050/expr.ipynb\"><img src=\"data:image/png;base64,iVBORw0KGgoAAAANSUhEUgAAAD4AAAAPBAMAAABOyWF/AAAAMFBMVEX///92dnaYmJjc3NxmZmYi\n",
       "IiKqqqq6urrMzMwQEBDu7u4yMjJERERUVFSIiIgAAAArjcN0AAAAAXRSTlMAQObYZgAAAPFJREFU\n",
       "GNNjYGB4+//unX0MWICui5c6iP7DwLByA6Y0twLDmg9AmuMfAwPvd5goF1z+IgMDG0gb3w+g2h9w\n",
       "XQugDGagEMcDIINnAgND/wWYPDuMxf4NKN8AZPBfYGCLQ1grB9P//wWE0X/vyTwwwzUUBOIdoAre\n",
       "//9jAKYXMOQ3ILk7uwBqgO78WSD6JNgKBODaCVXAwPgJRP5lYLBHlu+WAlMKQJUgeQ4goS+AsD/0\n",
       "FMQUoDOYP0O97/8AESy5EAoUNCwgY3mAYfj+gRFMmhka0ixAL78B0kvO/33AwLLvAUyexwBC87Lf\n",
       "vaOAJdI4ULkAzXFEBsI7SAUAAAAASUVORK5CYII=\n",
       "\" style=\"display:inline;vertical-align:middle;\" /></a></td></tr>\n",
       "<tr><td>2</td><td>Literal</td><td></td><td><a class=\"ProveItLink\" href=\"../../../packages/proveit/logic/boolean/implication/__pv_it/e5c030cabcb650938f92dee8256fe11cd12bf9b30/expr.ipynb\"><img src=\"data:image/png;base64,iVBORw0KGgoAAAANSUhEUgAAABMAAAANBAMAAAC5okgUAAAALVBMVEX////c3NxERETMzMwQEBCq\n",
       "qqoiIiJmZmaIiIh2dnZUVFS6uroyMjLu7u4AAACPpZJTAAAAAXRSTlMAQObYZgAAAD1JREFUCNdj\n",
       "YAABXgY44LkAZ3IvQAjPABFlaSCQV4AQjtkAZ/IegbNt5sLUpunC5aPgLMYDcCaTAJzJDCIA2yMN\n",
       "HCCUuIIAAAAASUVORK5CYII=\n",
       "\" style=\"display:inline;vertical-align:middle;\" /></a></td></tr>\n",
       "<tr><td>3</td><td>ExprTuple</td><td>4, 5</td><td><a class=\"ProveItLink\" href=\"../ca4e9f636c38c2d866ea97f8b75b501db8a540280/expr.ipynb\"><img src=\"data:image/png;base64,iVBORw0KGgoAAAANSUhEUgAAADMAAAAVBAMAAAAZessyAAAAMFBMVEX////c3NwiIiJERESqqqqY\n",
       "mJh2dnZmZmYQEBDu7u4yMjJUVFTMzMyIiIi6uroAAAAs73DqAAAAAXRSTlMAQObYZgAAATxJREFU\n",
       "KM9jYMAD+C5gE40DEaeB+Pb/3ZvXwkRZt5dPfcB+AMhaCeJ+ZmCYsQAqtZSB056BAcjjBZnH85eB\n",
       "gfsfRIY7gYHBi4EhjIGBYwKQy/uHgYHrD0RKHmjUWaAhDAyvQFzmBgaG8xsgUu8dGBjOAIUcGMpA\n",
       "XP4NDCy6UKvk/4JcwMBWALQUCM7vvd4LcyDv//+GQIplAUMfiHt/AoP/AZic6I4fQPv5GhjA7rIA\n",
       "mwkH+QFAR3+ASP0GWgGVYgXi+RCpFpC3vjIwxCdApKaDXCIANtAU6q36C5wMIC8CfctQDdK9gCEd\n",
       "5K0PQJdcEOX8BGQXXWDgNYA4/hHQDPvfFxjY117g7AcatOH1bpBBDFwPGDgEkOIHiQ0MKNYEBJcV\n",
       "KcJyYZGCIcUJiiJpBB8pvrlBZjNiTQB3GBgAC+hRaX2RiXsAAAAASUVORK5CYII=\n",
       "\" style=\"display:inline;vertical-align:middle;\" /></a></td></tr>\n",
       "<tr><td>4</td><td>Variable</td><td></td><td><a class=\"ProveItLink\" href=\"../../../packages/proveit/__pv_it/e24df48bc297bbcf3538a62f5b4f635a392abfce0/expr.ipynb\"><img src=\"data:image/png;base64,iVBORw0KGgoAAAANSUhEUgAAABAAAAAOBAMAAADUAYG5AAAAMFBMVEX///92dnaYmJjc3NxmZmYi\n",
       "IiKqqqq6urrMzMwQEBDu7u4yMjJERERUVFSIiIgAAAArjcN0AAAAAXRSTlMAQObYZgAAAG1JREFU\n",
       "CNdjYGB4+//unX0MIPCHgWHlBiDN8Y+Bgfc7kMH3g4GBG4gZeCYwMPRfADL4LzCwxYHU9t97Mg+s\n",
       "6f0ChvwGEOMkWBYI/jIw2IMYHJ8YGPQFoMb4P+ACGvMBqP6BEcOS838fMLDsewAAOpQikqrQNfgA\n",
       "AAAASUVORK5CYII=\n",
       "\" style=\"display:inline;vertical-align:middle;\" /></a></td></tr>\n",
       "<tr><td>5</td><td>Variable</td><td></td><td><a class=\"ProveItLink\" href=\"../../../packages/proveit/__pv_it/abeee18594afe51bfb1be95d9591fbba24ac53f30/expr.ipynb\"><img src=\"data:image/png;base64,iVBORw0KGgoAAAANSUhEUgAAAA0AAAAOBAMAAAAGUYvhAAAAMFBMVEX///8iIiIQEBCIiIjMzMzc\n",
       "3Nyqqqp2dnZEREQyMjK6urru7u5mZmZUVFSYmJgAAACI6eGPAAAAAXRSTlMAQObYZgAAAF1JREFU\n",
       "CNdjYGDgu3Nm3wIGBoZ5DNz9QIq3gIEhE0jHOzAwOAPp9QkMDC4g/megABAw///fCmbEXfq0Acxg\n",
       "qH8ANAVI7wfSe0BKAyBGnAXigwYMzA1A+sLau31ACgAz0hhbkhGHbwAAAABJRU5ErkJggg==\n",
       "\" style=\"display:inline;vertical-align:middle;\" /></a></td></tr>\n",
       "</table>\n"
      ],
      "text/plain": [
       "0. (R => S)\n",
       "   core type: ExprTuple\n",
       "   sub-expressions: 1\n",
       "1. R => S\n",
       "   core type: Operation\n",
       "   operator: 2\n",
       "   operands: 3\n",
       "2. =>\n",
       "   core type: Literal\n",
       "   sub-expressions: \n",
       "3. (R , S)\n",
       "   core type: ExprTuple\n",
       "   sub-expressions: 4, 5\n",
       "4. R\n",
       "   core type: Variable\n",
       "   sub-expressions: \n",
       "5. S\n",
       "   core type: Variable\n",
       "   sub-expressions: "
      ]
     },
     "execution_count": 4,
     "metadata": {},
     "output_type": "execute_result"
    }
   ],
   "source": [
    "# display the expression information\n",
    "expr.exprInfo()"
   ]
  },
  {
   "cell_type": "code",
   "execution_count": null,
   "metadata": {},
   "outputs": [],
   "source": []
  }
 ],
 "metadata": {
  "kernelspec": {
   "display_name": "Python 3",
   "language": "python",
   "name": "python3"
  }
 },
 "nbformat": 4,
 "nbformat_minor": 0
}
