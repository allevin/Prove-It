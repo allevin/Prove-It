{
 "cells": [
  {
   "cell_type": "markdown",
   "metadata": {},
   "source": [
    "Show the Proof\n",
    "========"
   ]
  },
  {
   "cell_type": "code",
   "execution_count": 1,
   "metadata": {},
   "outputs": [
    {
     "data": {
      "text/html": [
       "<table><tr><th>&nbsp;</th><th>step type</th><th>requirements</th><th>statement</th></tr>\n",
       "<tr><td>0</td><td>specialization</td><td>1</td><td><span style=\"font-size:20px;\"> <a class=\"ProveItLink\" href=\"proof.ipynb\" style=\"text-decoration: none\">&#x22A2;&nbsp;</a><a class=\"ProveItLink\" href=\"../f0bf9db6ac82dd242a4b7637dfc1af155b627fe60/expr.ipynb\"><img src=\"data:image/png;base64,iVBORw0KGgoAAAANSUhEUgAAASwAAAAZBAMAAAB5kw7sAAAAMFBMVEX///8QEBC6urrMzMxUVFRm\n",
       "ZmZERETc3NwyMjKqqqp2dnaIiIiYmJgiIiLu7u4AAAAU9Wx4AAAAAXRSTlMAQObYZgAAA6NJREFU\n",
       "SMfNl01oE0EUx182H9tN0k2whwqipOhBKNIVxGtDhbYYxIIgainkIG1tEXMIzUG0i3jIoUpABSGI\n",
       "QRDRQonVFmyLBi9KRYngB1QqqQct9dBAoUUsxZmdSXZndzbdglgf/LMfvLf57bw3b2YBLOab/wzb\n",
       "asL8HOduPWy7Jf9XrBIHS97CE5qp+PbSJoJrwQgRxiriwxsWSxuvYN4JlTtKZGNehRthYyeoENZD\n",
       "fLjOYvkz6FBXcoKFvWp5qtwIu4dRIawh9CvGWSzteshRDqepdJMTxqtZboRuP5gs5ogQFob3Zkwl\n",
       "j0fvtCOsPVS6SUzyF7gRumWZNwoTIazgg1TqknkmzqZSqaKjFqMS2WL5MpwIOyw4R4UaxGpv75wZ\n",
       "K9Tbez7nBMubIxJHO7LdLJYYu9cI4O/iRCydAXGDxUpONaHk3wcihHUEoM+M5VHAp5eIUKPiC0RL\n",
       "8Lawm8VqSvjK6EobnFNpbFcrEbkWCJQZLKERLqDDbSqEtQ9k1YwlRGHRkAh7LFeEKAcv4AaDJa6D\n",
       "F80cIWyNcGd6wBdnsIYLcBK/ClUSUwQKli5fhBlHWKEIUQnaTbXlKUM9OnOXrREy7IJQnsE6DvAF\n",
       "HVqpEFagUF+yYM3A1y1hAfonrXLS6Ws702nUMUNxWFb4WCBtQKtCcvue5HYV5BUWS1YPoZPRtqeK\n",
       "AWsR9+LmOJnNBEv3ECbBRd/ElSECcaWyZNHRGs7DXTSIJIk989g+VSK8KjxmZqL4G6SyzCQR+trQ\n",
       "hCm1uzIGLF8SjXV+zR2uYmkenbhy8z9DiYOVgSwQvUIl/JzBWs5Ap6RA0NzmsXddF5xlsORf4FFR\n",
       "bb4GIox1q4gn2wiTRKkHvcK3YiBexTJ4XD4Ak/QUz38kad0XFvMMVl1B+ujnNAh8wxsV1tm+NQJ3\n",
       "unJMgwCX9pw1dmODS8WT8+QNtaV7HIVYpXcUNcmDY49m2JIXY+OHxxFdxNxOUYQ8OLHGYiWn9w4i\n",
       "zytAhLGCuE7cYTeD9U6byy5Fx8Ie/VoSYQc0VJwbqZwvPpq3v7jJ4kOs1a/6LdtAl9Kiz0SjR4NQ\n",
       "Ni7F7HIsMFijFizkfQwWMrzNlz9PVMX6/qx7zIIlxfp1LKPHzUnV4cZG5m5s5mCA671IVXvTnKIl\n",
       "ZO5bYsJTHRExSmRjnoTlFvLOTkS43h1UtbEG6GpvxvLl9usXF6n49oRzz9Y7oBBtgpWd4nd5adrR\n",
       "7uJvf/mYvxM9//w78cMfdQj9puIpUMcAAAAASUVORK5CYII=\n",
       "\" style=\"display:inline;vertical-align:middle;\" /></a></span></td></tr>\n",
       "<tr><td>&nbsp;</td><td colspan=4 style=\"text-align:left\"><span style=\"font-size:20px;\"><a class=\"ProveItLink\" href=\"../../../packages/proveit/__pv_it/182d3f256e21dc75ea1ec3168bda49a871e4700a0/expr.ipynb\"><img src=\"data:image/png;base64,iVBORw0KGgoAAAANSUhEUgAAACkAAAAVBAMAAAAp9toTAAAAMFBMVEX///8yMjLMzMwQEBAiIiJm\n",
       "Zma6urqYmJiqqqp2dnZERETc3NyIiIhUVFTu7u4AAAAe+HC4AAAAAXRSTlMAQObYZgAAAPpJREFU\n",
       "GNNjYCAAcqB0GYR6e3YDkGS6ABVlVQBTK/sLgCTjA5gmARDB9+0FiDoDN6oSRHB8ALPt4KKPweY4\n",
       "gEg2AbgoVwMDA/tl3wCQ3AQGBu45t3tiGBg4QXz+AyAFjEAbXzKUFJgAjQRp2w92CXMCA8MEhvMM\n",
       "TUDDDID8frBh/EDRBwy3QEwmkPVT4KIMDDZw0bVgUWagxQzcnxj4oCbYQJwDtK2a5wPDOaCrBEBe\n",
       "A4sCncPxncuA+wDEZWz/wKJsDgx8a+bNPA5yJNAKHqinrJF9XAsyEB4mYDCHgcHwCZQND0k+oObK\n",
       "aCiHGxbqvBuQY2gPlD7EwAAAkqk1TOFGkRwAAAAASUVORK5CYII=\n",
       "\" style=\"display:inline;vertical-align:middle;\" /></a> : <a class=\"ProveItLink\" href=\"../5e04529b99e523a721e16b8843eb98a945b79f260/expr.ipynb\"><img src=\"data:image/png;base64,iVBORw0KGgoAAAANSUhEUgAAADAAAAAOBAMAAACbXIJpAAAAMFBMVEX///+6uroyMjJERETMzMwQ\n",
       "EBAiIiKYmJju7u5mZmaqqqpUVFSIiIh2dnbc3NwAAAAWgogoAAAAAXRSTlMAQObYZgAAAJdJREFU\n",
       "GNNjYEAAjgcM2AHXAeIk3p5+dfIAqsTrs6IPGDgusKezJqBIMMYx2DMw8DLwfOByQJF4X8AwGegU\n",
       "Bm4DNDv2MzDkgGhWMJ9TSUktSElpA5D5mYHjC1inA0MDsg6+PwxcHzgY2B+cZ+BBkeD4xcCtsIRh\n",
       "fYEpwxtUO9QZlk24wNB8tvdOAarE6zMiNgJEBQkjsgQAgewuFP+EDy8AAAAASUVORK5CYII=\n",
       "\" style=\"display:inline;vertical-align:middle;\" /></a></span></td></tr><tr><td>1</td><td>axiom</td><td></td><td><span style=\"font-size:20px;\"> <a class=\"ProveItLink\" href=\"../../../packages/proveit/logic/equality/_axioms_.ipynb#substitution\" style=\"text-decoration: none\">&#x22A2;&nbsp;</a><a class=\"ProveItLink\" href=\"../398f54eae8bb3b5e6faf9c5a7a2ed97d055770700/expr.ipynb\"><img src=\"data:image/png;base64,iVBORw0KGgoAAAANSUhEUgAAAO8AAAAXBAMAAAARnwX+AAAAMFBMVEX///8QEBC6urrMzMxUVFRm\n",
       "ZmZERETc3NwyMjKqqqp2dnaIiIiYmJgiIiLu7u4AAAAU9Wx4AAAAAXRSTlMAQObYZgAAAvdJREFU\n",
       "SMfFVj1oFEEUfvef293bHKayECJYpIk5wcYqRyRGTBPUQgyiNonCgVuI8QfNIggWEq5QsLttDglB\n",
       "OTAemhRZJIVoc7UorE0QLXIYMIUiznszO7O3uznJQfDBm/123jfzZt+99+YA/pd4vS5MNqLYGPw3\n",
       "/63QFr586MHxURzMyQmJUc7EEEOcTInrIr4s9OCY1mQXf3es74shhjk21xvskbu0e786RW7zcFVi\n",
       "irUTZYY577n2sR85U9294wQlRy2AKazFKDPM+cLVeDY3d7eHSA/ReCGASa5GmWFOtsr158zMxx4c\n",
       "n8dh/cC4j28v33rFolmPEBXHrDsw74E2BaTHAWYxSOON6O5dquMRjb98bDrGpwSrkKeUuA9JytDJ\n",
       "0ZJtWAPI21wPgYl5llmZiu7eJen24ZDb8rEGejvPiuRghKg4xzItmGEFXeRaAN1lhkLc13Vx/AOH\n",
       "fNvHJqSJPBohKo6XaODnp9pcdbeACdfv9eBYaymcaMQ7DnBqXmpLOTZt7CnGtWk0L40ts3glmyL7\n",
       "uWM+SW2vKctiPyVoWeH5ErZfCnXmMwlfHeCcA72oQg2zY2h4R6fzTiRYon/vt46oL6bJk5gtDWkA\n",
       "qKivRGxYa6B7YpvOgpcceECnMGyu8IRiQXWQ5Ml6bxiayrGY7DAI/uagj2vuZbgDceWkOHAWRlyQ\n",
       "5SSOVOG0bRpPwWTwN96Wu/gGgGEcRjwfb6x8W8IcvR9xrDiwsXrRYr1ykCsYniwPSBVT/GUg4Bgn\n",
       "r1CopYEdl20BrwN4p5bZwXmuWqa/4g/ATWtUszX2gIFkWzmmSSG+ga4Do1wJXw1auAsFOemWiSm2\n",
       "JBTEVzEP7sab6RfsAY+btnJMk0J8A11ziYVW8IpE+RpJrQCn4GQdoHZl2upk+Gu7HLs5K92IrWNp\n",
       "YHIdjLolsZCJsOMgJ796mj3TFldxga+zSk3x15SVdYbiG4g04CECUfWxXtq54/icl0LF/xEMuiEO\n",
       "yY7mxDuWhr2W8t5t/RfNBeNeS11EOAAAAABJRU5ErkJggg==\n",
       "\" style=\"display:inline;vertical-align:middle;\" /></a></span></td></tr>\n",
       "<tr><td>&nbsp;</td><td colspan=4 style-\"text-align:left\"><a class=\"ProveItLink\" href=\"../../../packages/proveit/logic/equality/_axioms_.ipynb#substitution\">proveit.logic.equality.substitution</a></td></tr></table>"
      ],
      "text/plain": [
       "<proveit._core_.proof._ShowProof at 0x7f94eaefcb38>"
      ]
     },
     "execution_count": 1,
     "metadata": {},
     "output_type": "execute_result"
    }
   ],
   "source": [
    "import proveit\n",
    "%show_proof"
   ]
  },
  {
   "cell_type": "code",
   "execution_count": null,
   "metadata": {},
   "outputs": [],
   "source": []
  }
 ],
 "metadata": {
  "kernelspec": {
   "display_name": "Python 3",
   "language": "python",
   "name": "python3"
  }
 },
 "nbformat": 4,
 "nbformat_minor": 0
}
