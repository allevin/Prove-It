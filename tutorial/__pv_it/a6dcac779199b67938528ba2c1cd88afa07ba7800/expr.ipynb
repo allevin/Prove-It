{
 "cells": [
  {
   "cell_type": "markdown",
   "metadata": {},
   "source": [
    "Expression of type <a class=\"ProveItLink\" href=\"../../../doc/html/api/proveit.logic.Implies.html\">Implies</a>\n",
    "=======================\n",
    "# from context <a class=\"ProveItLink\" href=\"../../_context_.ipynb\">tutorial</a>"
   ]
  },
  {
   "cell_type": "code",
   "execution_count": 1,
   "metadata": {},
   "outputs": [],
   "source": [
    "# import Expression classes needed to build the expression\n",
    "from proveit._common_ import A, B, C\n",
    "from proveit.logic import Implies"
   ]
  },
  {
   "cell_type": "code",
   "execution_count": 2,
   "metadata": {},
   "outputs": [
    {
     "data": {
      "text/html": [
       "<strong id=\"expr\">expr:</strong> <a class=\"ProveItLink\" href=\"expr.ipynb\"><img src=\"data:image/png;base64,iVBORw0KGgoAAAANSUhEUgAAAIAAAAAVBAMAAAB8u/sIAAAAMFBMVEX///+qqqru7u4iIiJ2dnbc\n",
       "3NyIiIjMzMxmZmYQEBC6uroyMjJERERUVFSYmJgAAADLUcuvAAAAAXRSTlMAQObYZgAAActJREFU\n",
       "OMtjYKAhWEZQBd8CEPn2/927pxdgyrJfABJMOTf6WBuw6i4G4nYwaw4DA8cvTAXcCkDC8wEDV+cD\n",
       "rAbsB6kB2/QNiP/CxZlgjDQg1jYCEv4BGHIg59sDLeBzALLYvgIZX1AtBoFJQLwTxFmJKQcEgf1A\n",
       "c5kmAFk8QIJ5ElyC6wKU3gD02UcQKwJDDgQS8kHhdhCI+S8wsO5BMtoNQnEAXRe/AcRSx5ADmaUg\n",
       "DwoaDyCuv5bWDAmmZmMQsIcEOjdQrB8RfChyQKDFUJ8ApKSBOD+AgckWOXilwXHKCSTtA9CDXhoW\n",
       "3wsY4hug4XMSZAhyTDHtBKniBxL/wXwFDDlgtN29e/8AyPlADIrB9w5IiqqdGKAGzAcxGAsw5IBB\n",
       "AHTiBogB7P+A9H0BhD+ND4GVcAKF7oMs52DAkGNgAEoyT4B4AZQMWH8jWSILoXiAvgKHkxOmHAMr\n",
       "0ADuD0DGa0gyqNyEUMO6AUKzAMOID5gOVgRgyjFog2z4BI5GjvN/797eh2QJD1QDlwGQqN3bIYBF\n",
       "Lmb+Vga+87+BVuzCkglhjKl45OCRMgFPZn9CRJHBkoBHEjnn4ALa+CRZLxA24Cpe2TCC+tkKGAAz\n",
       "CXA63KQZkQAAAABJRU5ErkJggg==\n",
       "\" style=\"display:inline;vertical-align:middle;\" /></a><br>"
      ],
      "text/plain": [
       "expr: B => (C => A)"
      ]
     },
     "execution_count": 2,
     "metadata": {},
     "output_type": "execute_result"
    }
   ],
   "source": [
    "# build up the expression from sub-expressions\n",
    "expr = Implies(B, Implies(C, A))"
   ]
  },
  {
   "cell_type": "code",
   "execution_count": 3,
   "metadata": {},
   "outputs": [
    {
     "name": "stdout",
     "output_type": "stream",
     "text": [
      "Passed sanity check: built 'expr' is the same as the stored Expression.\n"
     ]
    }
   ],
   "source": [
    "# check that the built expression is the same as the stored expression\n",
    "%check_expr"
   ]
  },
  {
   "cell_type": "code",
   "execution_count": 4,
   "metadata": {},
   "outputs": [
    {
     "data": {
      "text/html": [
       "<table><tr><th>&nbsp;</th><th>core type</th><th>sub-expressions</th><th>expression</th></tr>\n",
       "<tr><td>0</td><td>Operation</td><td>operator:&nbsp;4<br>operands:&nbsp;1<br></td><td><a class=\"ProveItLink\" href=\"expr.ipynb\"><img src=\"data:image/png;base64,iVBORw0KGgoAAAANSUhEUgAAAIAAAAAVBAMAAAB8u/sIAAAAMFBMVEX///+qqqru7u4iIiJ2dnbc\n",
       "3NyIiIjMzMxmZmYQEBC6uroyMjJERERUVFSYmJgAAADLUcuvAAAAAXRSTlMAQObYZgAAActJREFU\n",
       "OMtjYKAhWEZQBd8CEPn2/927pxdgyrJfABJMOTf6WBuw6i4G4nYwaw4DA8cvTAXcCkDC8wEDV+cD\n",
       "rAbsB6kB2/QNiP/CxZlgjDQg1jYCEv4BGHIg59sDLeBzALLYvgIZX1AtBoFJQLwTxFmJKQcEgf1A\n",
       "c5kmAFk8QIJ5ElyC6wKU3gD02UcQKwJDDgQS8kHhdhCI+S8wsO5BMtoNQnEAXRe/AcRSx5ADmaUg\n",
       "DwoaDyCuv5bWDAmmZmMQsIcEOjdQrB8RfChyQKDFUJ8ApKSBOD+AgckWOXilwXHKCSTtA9CDXhoW\n",
       "3wsY4hug4XMSZAhyTDHtBKniBxL/wXwFDDlgtN29e/8AyPlADIrB9w5IiqqdGKAGzAcxGAsw5IBB\n",
       "AHTiBogB7P+A9H0BhD+ND4GVcAKF7oMs52DAkGNgAEoyT4B4AZQMWH8jWSILoXiAvgKHkxOmHAMr\n",
       "0ADuD0DGa0gyqNyEUMO6AUKzAMOID5gOVgRgyjFog2z4BI5GjvN/797eh2QJD1QDlwGQqN3bIYBF\n",
       "Lmb+Vga+87+BVuzCkglhjKl45OCRMgFPZn9CRJHBkoBHEjnn4ALa+CRZLxA24Cpe2TCC+tkKGAAz\n",
       "CXA63KQZkQAAAABJRU5ErkJggg==\n",
       "\" style=\"display:inline;vertical-align:middle;\" /></a></td></tr>\n",
       "<tr><td>1</td><td>ExprTuple</td><td>2, 3</td><td><a class=\"ProveItLink\" href=\"../e9fb2c5be67157d316d27e78303776ce18d0166c0/expr.ipynb\"><img src=\"data:image/png;base64,iVBORw0KGgoAAAANSUhEUgAAAGYAAAAVBAMAAABGR4Y+AAAAMFBMVEX////c3NwiIiJERESqqqqY\n",
       "mJh2dnZmZmYQEBDu7u4yMjJUVFTMzMyIiIi6uroAAAAs73DqAAAAAXRSTlMAQObYZgAAAblJREFU\n",
       "OMtjYCAH8F0gSTnrAyBxGoij/+/ebfUAJjzXujxAHKuGQ0BcA8QrQZxmBgb2f1AJtlYGhuetWPWs\n",
       "B2IuBgZekNN4/gLxb4g456IJQH0f4eomILlLH8hhTWDgAInxApWwfoNIcHWCPNkAV7gSoUekXgBo\n",
       "ZgPDKxCHGaiEqRMiUe8AJBgL4ApfI/RcuA/yswlDGYjDv4GBcTHEEYy/wA48AFfIBg9Xvgn+AUAq\n",
       "nWEpiHd+792iAIgE+1e4anYlMPgO489jOA/S78XQB+LdF2Dg1IZIMH1EDyyWdVDGAwZ5kJNfMIBD\n",
       "2AKkD2IR/wew25A1zQKby8Cze/d+A5CjIHpAwRyfAJbhAOvxQdLCswziUz6g5AKwnhaQKMgP+x3A\n",
       "Mtw/QWQBkn+UoTEElGdqALvNFBo9oPCaAI1eBjakiGTZAKEZgXq4QI6IAoYcJHpOrGTg/ASSi3dg\n",
       "4CtEcpoUzFcghT/BYf0I6Ab737t3AcOcs18AZNGu7SXIIWAIoYT7FzKw2v8COnodA4cAUrYQwJIu\n",
       "D6DxgWmHNQEpDRKTgUDpYiWJekD+kkZKg8To2QgKQ9LyNu8BBgBrj2vMyGM4bgAAAABJRU5ErkJg\n",
       "gg==\n",
       "\" style=\"display:inline;vertical-align:middle;\" /></a></td></tr>\n",
       "<tr><td>2</td><td>Variable</td><td></td><td><a class=\"ProveItLink\" href=\"../../../packages/proveit/__pv_it/077b2ff79244fb4582cbe22c6e3356fa92a52f2f0/expr.ipynb\"><img src=\"data:image/png;base64,iVBORw0KGgoAAAANSUhEUgAAABAAAAAOBAMAAADUAYG5AAAAMFBMVEX///+qqqru7u4iIiJ2dnbc\n",
       "3NyIiIjMzMxmZmYQEBC6uroyMjJERERUVFSYmJgAAADLUcuvAAAAAXRSTlMAQObYZgAAAGpJREFU\n",
       "CNdjYGB4+//u3dMLGIBgDgMDxy8gzf4NiP8CGWxfGRj4vgAZPBMYGJgnARn8FxhY9ygAGfXX0pof\n",
       "gDTlBzAw2YIYJ0EckBBI53sHoBH/gIz7AhBjWH9DjancBLTl/N+7t/cxMAAA3u4f/5xagjYAAAAA\n",
       "SUVORK5CYII=\n",
       "\" style=\"display:inline;vertical-align:middle;\" /></a></td></tr>\n",
       "<tr><td>3</td><td>Operation</td><td>operator:&nbsp;4<br>operands:&nbsp;5<br></td><td><a class=\"ProveItLink\" href=\"../eab45f13d3c1dde2fe8f60d3ee741db8ebf56a920/expr.ipynb\"><img src=\"data:image/png;base64,iVBORw0KGgoAAAANSUhEUgAAAD4AAAAPBAMAAABOyWF/AAAAMFBMVEX////MzMyqqqoiIiIyMjK6\n",
       "uroQEBB2dnbc3NyYmJhmZmZUVFRERESIiIju7u4AAAB204erAAAAAXRSTlMAQObYZgAAAOJJREFU\n",
       "GNNjYGDgu7NrJccCBiyA0QBElk1gYF02AZs8ywcg8cQOSNQ3wMT4kOQn/wMSbg+ARBhCzwM4k0Pr\n",
       "BwMD1ycQswsuyLoBzuTl/crA0O8AYj5EGFoLZ8Ux/WRgWI9w2WJjELCHeYUvgPEvA4N9A7qrVQKg\n",
       "NjFw/GJg+A9mP0CS53ODKJDevfsPA0M+iMkkgCQvUgehgapSGBj2g7RyIdlvfA4izQTEZgwM8heA\n",
       "dB2Sdm0o3QTE/gwMnED/RyG5kcMB6goQfR5ouLT3KgUk7TwQtRzHvjQwzPnvhRlnqFwAd2kzju8/\n",
       "SgAAAAAASUVORK5CYII=\n",
       "\" style=\"display:inline;vertical-align:middle;\" /></a></td></tr>\n",
       "<tr><td>4</td><td>Literal</td><td></td><td><a class=\"ProveItLink\" href=\"../../../packages/proveit/logic/boolean/implication/__pv_it/e5c030cabcb650938f92dee8256fe11cd12bf9b30/expr.ipynb\"><img src=\"data:image/png;base64,iVBORw0KGgoAAAANSUhEUgAAABMAAAANBAMAAAC5okgUAAAALVBMVEX////c3NxERETMzMwQEBCq\n",
       "qqoiIiJmZmaIiIh2dnZUVFS6uroyMjLu7u4AAACPpZJTAAAAAXRSTlMAQObYZgAAAD1JREFUCNdj\n",
       "YAABXgY44LkAZ3IvQAjPABFlaSCQV4AQjtkAZ/IegbNt5sLUpunC5aPgLMYDcCaTAJzJDCIA2yMN\n",
       "HCCUuIIAAAAASUVORK5CYII=\n",
       "\" style=\"display:inline;vertical-align:middle;\" /></a></td></tr>\n",
       "<tr><td>5</td><td>ExprTuple</td><td>6, 7</td><td><a class=\"ProveItLink\" href=\"../41eed91b898d6de67e3cf4eac0bd8fd79ccbbcb70/expr.ipynb\"><img src=\"data:image/png;base64,iVBORw0KGgoAAAANSUhEUgAAADQAAAAVBAMAAAD7ptBLAAAAMFBMVEX////c3NwiIiJERESqqqqY\n",
       "mJh2dnZmZmYQEBDu7u4yMjJUVFTMzMyIiIi6uroAAAAs73DqAAAAAXRSTlMAQObYZgAAASlJREFU\n",
       "KM9jYMAD+C5gE2V9ACROg1hzrcsDxOHih4C4BohXAjFbKwPD81a41Hog5mJg4AWax7loAlD6I9ww\n",
       "fSCXNYGBA0hxdYLsbIBJidQLAJU3MLwCsusdgARjAUzqwn2QG0wYyoCCv0ACnAdgTp7gHwCk0hmW\n",
       "MjCwf0Vx9zyG8yD/eDH0MTAwfUSResAgDzL7BcM/Bgb+D2ADoTI8u3fvNwDS50FSHGApH5hVQIEF\n",
       "YKkWBgbunyAhmAOBrmVqABtoCjTiLyhAJkCMZARKcYGMiQK6kYEh3oGBr5CBYb4CkD0LiJl/gh3/\n",
       "CGTzru0lQGoG0KXC/QsZWO1/AU1fx8AhgHD2QyQvAAMKGIxwEIAkxXYBEilYpEB2SsN5vMhhshHk\n",
       "WqwJgPcAAwBY2UQo6aRpnQAAAABJRU5ErkJggg==\n",
       "\" style=\"display:inline;vertical-align:middle;\" /></a></td></tr>\n",
       "<tr><td>6</td><td>Variable</td><td></td><td><a class=\"ProveItLink\" href=\"../../../packages/proveit/__pv_it/985a1bdf1540838275dec15f4ad6de261cca93ce0/expr.ipynb\"><img src=\"data:image/png;base64,iVBORw0KGgoAAAANSUhEUgAAAA8AAAAOBAMAAAACpFvcAAAAMFBMVEX////MzMyqqqoiIiIyMjK6\n",
       "uroQEBB2dnbc3NyYmJhmZmZUVFRERESIiIju7u4AAAB204erAAAAAXRSTlMAQObYZgAAAGZJREFU\n",
       "CNdjYGDgu7NrJccCBgaGsgkMrMsmMDA8sQNy6hsYGNweABlhDAxcn4A0QxcDQ78DiPGQgWH9BAYI\n",
       "sG+AMv6DSaCGfBDNJMDAsB+kmwuI5S8AiTog5gSaEwXWIO29SgFIAQBC+RaDQlidVgAAAABJRU5E\n",
       "rkJggg==\n",
       "\" style=\"display:inline;vertical-align:middle;\" /></a></td></tr>\n",
       "<tr><td>7</td><td>Variable</td><td></td><td><a class=\"ProveItLink\" href=\"../../../packages/proveit/__pv_it/2cbe72a7ad6f655694dd697106680215e8489b600/expr.ipynb\"><img src=\"data:image/png;base64,iVBORw0KGgoAAAANSUhEUgAAAA8AAAAOBAMAAAACpFvcAAAALVBMVEX///8QEBBERERUVFS6urqI\n",
       "iIhmZmaqqqrc3Nzu7u6YmJgyMjIiIiLMzMwAAADtIaYWAAAAAXRSTlMAQObYZgAAAFtJREFUCNdj\n",
       "YACBOwxQsA9Kc52bAGG05zVAGAFxDmCaZULdAjBjCsO9ADDDgaEvAUTzGhvbKYCVMDAwbgAxChgY\n",
       "eASANAeQwf0AyJgNxEwvGRia5HYwcOm9TgAA6BoR3jrzwFcAAAAASUVORK5CYII=\n",
       "\" style=\"display:inline;vertical-align:middle;\" /></a></td></tr>\n",
       "</table>\n"
      ],
      "text/plain": [
       "0. B => (C => A)\n",
       "   core type: Operation\n",
       "   operator: 4\n",
       "   operands: 1\n",
       "1. (B , C => A)\n",
       "   core type: ExprTuple\n",
       "   sub-expressions: 2, 3\n",
       "2. B\n",
       "   core type: Variable\n",
       "   sub-expressions: \n",
       "3. C => A\n",
       "   core type: Operation\n",
       "   operator: 4\n",
       "   operands: 5\n",
       "4. =>\n",
       "   core type: Literal\n",
       "   sub-expressions: \n",
       "5. (C , A)\n",
       "   core type: ExprTuple\n",
       "   sub-expressions: 6, 7\n",
       "6. C\n",
       "   core type: Variable\n",
       "   sub-expressions: \n",
       "7. A\n",
       "   core type: Variable\n",
       "   sub-expressions: "
      ]
     },
     "execution_count": 4,
     "metadata": {},
     "output_type": "execute_result"
    }
   ],
   "source": [
    "# display the expression information\n",
    "expr.exprInfo()"
   ]
  },
  {
   "cell_type": "code",
   "execution_count": null,
   "metadata": {},
   "outputs": [],
   "source": []
  }
 ],
 "metadata": {
  "kernelspec": {
   "display_name": "Python 3",
   "language": "python",
   "name": "python3"
  }
 },
 "nbformat": 4,
 "nbformat_minor": 0
}
