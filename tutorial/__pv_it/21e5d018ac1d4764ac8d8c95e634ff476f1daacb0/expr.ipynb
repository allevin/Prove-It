{
 "cells": [
  {
   "cell_type": "markdown",
   "metadata": {},
   "source": [
    "Expression of type <a class=\"ProveItLink\" href=\"../../../doc/html/api/proveit.logic.Forall.html\">Forall</a>\n",
    "=======================\n",
    "# from context <a class=\"ProveItLink\" href=\"../../_context_.ipynb\">tutorial</a>"
   ]
  },
  {
   "cell_type": "code",
   "execution_count": 1,
   "metadata": {},
   "outputs": [],
   "source": [
    "# import Expression classes needed to build the expression\n",
    "from proveit._common_ import Pxy, R, y\n",
    "from proveit.logic import Forall"
   ]
  },
  {
   "cell_type": "code",
   "execution_count": 2,
   "metadata": {},
   "outputs": [
    {
     "data": {
      "text/html": [
       "<strong id=\"expr\">expr:</strong> <a class=\"ProveItLink\" href=\"expr.ipynb\"><img src=\"data:image/png;base64,iVBORw0KGgoAAAANSUhEUgAAAHYAAAAWBAMAAADnfXV4AAAAMFBMVEX///8QEBC6urrMzMxUVFRm\n",
       "ZmZERETc3NwyMjKqqqp2dnaIiIiYmJgiIiLu7u4AAAAU9Wx4AAAAAXRSTlMAQObYZgAAAkRJREFU\n",
       "OMulVE1oE0EU/pJNNtlsugn2INKDFTz0Urqi9xRbKFQKgu0lKFSRLRqhexCLiu3iWUoPthR66PbQ\n",
       "H+0lQpODPTQXQfCSg3qoHuLBIhVsEKNWbOqb2Z30Z3dF6cDsfMy8b+a97723wBFG5Z+swvnDO8lW\n",
       "oMzAK3/Gym5392uToXPew0vAE7aOBzz3E5CPBxjEgTu0xAb9qdIvQKEJNe89TNqIU8DRCX+u+pVM\n",
       "agRCPqpoaSQXR0YeBLgsV4HINoE2v9MbwHfDWA/gpixgi8WTpXlv5W7BcX0zi1gdmAe6gKH9hKna\n",
       "QM6FGRvSGwYekYt28n2IJwV2B1TyaBo4Dc06oEEa8YsOXOt9muUpOgYkyF7RuYITVyCTN6eAJqgl\n",
       "l/Z54DIFOIiIcz+GhUSkmcYOHJHQghR5nyExS02uiXpt9AvdlUfIfXcHe1wSWyRKqSOjc65mUdGE\n",
       "i5SHF/xkS0e/m96a4J5gnzHdLeCohWfgPmPoPHmbMs/ACbtjda51L73OuEUymGtQK5xNclyn5SXN\n",
       "SYputB1FyeZ2S1Bd7eS64FI6ZktXcR8aCyPaGf7tbDpx9OKC9NYwKDs3oVQ54ePwNxFhO7DxfHO5\n",
       "BO0k6a7lCj9o8yFLSoVnoVnr5HbbiKYPF0nIbDQjR4kyr0l3NIer6OEC1SGXz3rrXiCaffhADZBo\n",
       "9MfjooUNptFSzZTeedpmfD93neICPomtmBkh+wUjF1DZtwVgt84U2CM9jY6x2/76z4l5PFF1gZRV\n",
       "+/9/dX8ApQONaxtLipEAAAAASUVORK5CYII=\n",
       "\" style=\"display:inline;vertical-align:middle;\" /></a><br>"
      ],
      "text/plain": [
       "expr: forall_{y in R} P(x , y)"
      ]
     },
     "execution_count": 2,
     "metadata": {},
     "output_type": "execute_result"
    }
   ],
   "source": [
    "# build up the expression from sub-expressions\n",
    "expr = Forall([y], Pxy, domain = R, conditions = [])"
   ]
  },
  {
   "cell_type": "code",
   "execution_count": 3,
   "metadata": {},
   "outputs": [
    {
     "name": "stdout",
     "output_type": "stream",
     "text": [
      "Passed sanity check: built 'expr' is the same as the stored Expression.\n"
     ]
    }
   ],
   "source": [
    "# check that the built expression is the same as the stored expression\n",
    "%check_expr"
   ]
  },
  {
   "cell_type": "code",
   "execution_count": 4,
   "metadata": {},
   "outputs": [
    {
     "data": {
      "text/html": [
       "<table><tr><th>&nbsp;</th><th>core type</th><th>sub-expressions</th><th>expression</th></tr>\n",
       "<tr><td>0</td><td>Operation</td><td>operator:&nbsp;1<br>operand:&nbsp;2<br></td><td><a class=\"ProveItLink\" href=\"expr.ipynb\"><img src=\"data:image/png;base64,iVBORw0KGgoAAAANSUhEUgAAAHYAAAAWBAMAAADnfXV4AAAAMFBMVEX///8QEBC6urrMzMxUVFRm\n",
       "ZmZERETc3NwyMjKqqqp2dnaIiIiYmJgiIiLu7u4AAAAU9Wx4AAAAAXRSTlMAQObYZgAAAkRJREFU\n",
       "OMulVE1oE0EU/pJNNtlsugn2INKDFTz0Urqi9xRbKFQKgu0lKFSRLRqhexCLiu3iWUoPthR66PbQ\n",
       "H+0lQpODPTQXQfCSg3qoHuLBIhVsEKNWbOqb2Z30Z3dF6cDsfMy8b+a97723wBFG5Z+swvnDO8lW\n",
       "oMzAK3/Gym5392uToXPew0vAE7aOBzz3E5CPBxjEgTu0xAb9qdIvQKEJNe89TNqIU8DRCX+u+pVM\n",
       "agRCPqpoaSQXR0YeBLgsV4HINoE2v9MbwHfDWA/gpixgi8WTpXlv5W7BcX0zi1gdmAe6gKH9hKna\n",
       "QM6FGRvSGwYekYt28n2IJwV2B1TyaBo4Dc06oEEa8YsOXOt9muUpOgYkyF7RuYITVyCTN6eAJqgl\n",
       "l/Z54DIFOIiIcz+GhUSkmcYOHJHQghR5nyExS02uiXpt9AvdlUfIfXcHe1wSWyRKqSOjc65mUdGE\n",
       "i5SHF/xkS0e/m96a4J5gnzHdLeCohWfgPmPoPHmbMs/ACbtjda51L73OuEUymGtQK5xNclyn5SXN\n",
       "SYputB1FyeZ2S1Bd7eS64FI6ZktXcR8aCyPaGf7tbDpx9OKC9NYwKDs3oVQ54ePwNxFhO7DxfHO5\n",
       "BO0k6a7lCj9o8yFLSoVnoVnr5HbbiKYPF0nIbDQjR4kyr0l3NIer6OEC1SGXz3rrXiCaffhADZBo\n",
       "9MfjooUNptFSzZTeedpmfD93neICPomtmBkh+wUjF1DZtwVgt84U2CM9jY6x2/76z4l5PFF1gZRV\n",
       "+/9/dX8ApQONaxtLipEAAAAASUVORK5CYII=\n",
       "\" style=\"display:inline;vertical-align:middle;\" /></a></td></tr>\n",
       "<tr><td>1</td><td>Literal</td><td></td><td><a class=\"ProveItLink\" href=\"../../../packages/proveit/logic/boolean/quantification/universal/__pv_it/265f8c02ac1094d56e0e6410a1c1fd3500dc9f540/expr.ipynb\"><img src=\"data:image/png;base64,iVBORw0KGgoAAAANSUhEUgAAAAwAAAAQBAMAAADQT4M0AAAAMFBMVEX///8QEBC6urrMzMxUVFRm\n",
       "ZmZERETc3NwyMjKqqqp2dnaIiIiYmJgiIiLu7u4AAAAU9Wx4AAAAAXRSTlMAQObYZgAAAFhJREFU\n",
       "CNdjeMAABhdAxGmGlSCqj6EMSLInMHAAJVknMPAsLy+vBYp8S0u7BaScGRjSgZQKA18DkOJl4D4A\n",
       "pLgP8IJM4mswARuX7gSmpoKNZWDcAKZ4gCoAgTQTILaSE58AAAAASUVORK5CYII=\n",
       "\" style=\"display:inline;vertical-align:middle;\" /></a></td></tr>\n",
       "<tr><td>2</td><td>Lambda</td><td>parameter:&nbsp;11<br>body:&nbsp;3<br>conditions:&nbsp;4<br></td><td><a class=\"ProveItLink\" href=\"../24a15c858c0cd698eb1171e116560cf9eb458b530/expr.ipynb\"><img src=\"data:image/png;base64,iVBORw0KGgoAAAANSUhEUgAAALoAAAAVCAMAAADGmgT4AAAANlBMVEX///8UFBQNDQ2YmJhUVFQy\n",
       "MjIQEBBEREQiIiKqqqrMzMyIiIi6urrc3NxmZmZ2dnbu7u4AAACrLjZHAAAAAXRSTlMAQObYZgAA\n",
       "AlFJREFUSMfFl9l26yAMRWmZEeP//+xldM1g6jhZt35IsrCRNtKRrCD0d5c06K8vDTcewnpacvq/\n",
       "YgIJgcRLkCNkitzaadUH0Kt7TuEJfKD5i7PGTv29jfQjUQ88fXpGX9+qgitCrd8I7gYAuw+gq1Dc\n",
       "kfAgZXUPDrYssJtBj5F6Dd0DFfGig/uiOxrUy+g8oHpsWWr0fua4fAVdUbwICmc1+KnAvLMpkyb4\n",
       "lSSlXEvdF83F6msyMA6IkWDP+ultO3uNPlIgw5fZzMhIiuzFIR1yJupN0T9L/ErqSjQMipvvKCKB\n",
       "ETvv721Leo0+UiBu1lInAJaV8CiJbPLG+RrdE9NrjTgXI3QsMt18F8fypMHBtmaX6BOF5xeV5nOL\n",
       "yE7iz3yI0BL9/SW6i3W1zMOQx3Y3LZPB32BbhUv0iUKz5p8upB7qq0QmGnVU7BB1RLpiCuPt88HY\n",
       "1Cc72xv0ieLiPVeYTUO36VxwJHNgs6bX2lBqiP3UscmOu6x0tjeCmSi8WEsdl8ZcewNNNJys0RUs\n",
       "u/ophbVMsSk1Bv6M39nGmzIdKRDBS6nnrNikq+TDxud1OJ6EUa5oJ/XW8WQ0kIRoIHfOdv7O9q45\n",
       "jhQx7PrypQIR3eBczLHfhBsDqLc8Dj+DnrWoHQGcdw5weW82c51tqjfoE4Whw8B2cm/pz/jhxONZ\n",
       "kq0OrU+Lzfbvg8BAIQmdBoG+g4hkVT5Gn6aqvLiw7WCD/ohCRNfcvTHCr4ZePNv226H3EYWMGnvr\n",
       "74qZWzAsbBOzQ3+b4iH7nYkd5iEV3mP9B8zvG0DqPwuMAAAAAElFTkSuQmCC\n",
       "\" style=\"display:inline;vertical-align:middle;\" /></a></td></tr>\n",
       "<tr><td>3</td><td>Operation</td><td>operator:&nbsp;5<br>operands:&nbsp;6<br></td><td><a class=\"ProveItLink\" href=\"../../../packages/proveit/__pv_it/e0e45b9393452be20ed9dd804d04d86a2899b1ba0/expr.ipynb\"><img src=\"data:image/png;base64,iVBORw0KGgoAAAANSUhEUgAAAEIAAAAVBAMAAAAA8SWUAAAAMFBMVEX////u7u5mZmaYmJi6urqq\n",
       "qqp2dnbMzMwQEBBEREQyMjLc3NwiIiJUVFSIiIgAAAAeC3ydAAAAAXRSTlMAQObYZgAAAWhJREFU\n",
       "KM+VUjtPwlAYPaWF0hJK40DURSZcHJgcnBydlNlBGwdH039QnUmUReOiMPgDWHREgombCZOLkhAG\n",
       "44IIPgYf0XOvNzxSFm9yv3v63XPP9yrwr7Ua8ujLwnZ+ms2bCoHZCD+al/YDsAo8bTfMsIUx34Eo\n",
       "N54mBNY9GueVoE+wN4Gh7dJYz0DyDTDKk7I/5E7xZq4IRITgRee83ZJX6SwSPWCLMPBg1kVSOYp6\n",
       "+lW8JhneGhyqrxN2b7ezotg4a4/RG/Vl/vkFWFReIS6pIlNkaEgWVYrYR4rxAuIvDBlUaqnPaA+B\n",
       "LxlmX7nieWEvffxpRsp4hIwi2iGXxUz1SheOKzl2Bic8lnjRU4xYBtjMHaMKTQSONIwXiGqnSt8q\n",
       "ssEqZx7SOzloB6xNO21/0ns22r7CABkVKVpTXR+sxeG8uO8xzdRjrbFJu6OMaxzRzo4NKTH4g8TD\n",
       "jbboz934HKuhyTo+fgFmwVFLOVAG8QAAAABJRU5ErkJggg==\n",
       "\" style=\"display:inline;vertical-align:middle;\" /></a></td></tr>\n",
       "<tr><td>4</td><td>ExprTuple</td><td>7</td><td><a class=\"ProveItLink\" href=\"../42e9baad04548e332542e34ecb0067b3944c15010/expr.ipynb\"><img src=\"data:image/png;base64,iVBORw0KGgoAAAANSUhEUgAAAEAAAAAVBAMAAAAEBPWpAAAAMFBMVEX////c3NwiIiJERESqqqqY\n",
       "mJh2dnZmZmYQEBDu7u4yMjJUVFTMzMyIiIi6uroAAAAs73DqAAAAAXRSTlMAQObYZgAAAVNJREFU\n",
       "KM+Fkr9LQlEUxz/lz6c+C6KpQXEMgqKCtvYWm1t6tPgfNFSkhGvxqKEIgghEGgwjWorAoa3BtzWE\n",
       "KE3RkhBN/qhz30ufg68u3HPuPed7fh/498Qtb12gIeRpqOrl+/6mBDvyvBxu/Akn50RAHx4h1oFo\n",
       "l4BB2BwQn12kpp2X3oZIGy3H+6BZoY/25aBahgU2QcsYJJRqwvU2VsY/IzxDAYLxJnUlnXOdVR+e\n",
       "9xVf4QAeQ0nm5aPNuoC6Sboi/I0umGGLjmrZXirVS3LJjiKeFIC0GWurHMuuhxYkHEBe6BZ6ToVI\n",
       "uvV8wbphh1gUWsRnG9/2AaoNWUuDNakDtvlYVeLDRr8NTcnTmlRlvsr3qJYdV+KRYsXRHy+3LEIl\n",
       "mcIVYVu14Sj8d70qfo+0WsYRTWp5j4UIWmrco4bP8ACcyp3CX9v1WqlrldkfK6dX+AEXrVT3J00t\n",
       "+gAAAABJRU5ErkJggg==\n",
       "\" style=\"display:inline;vertical-align:middle;\" /></a></td></tr>\n",
       "<tr><td>5</td><td>Variable</td><td></td><td><a class=\"ProveItLink\" href=\"../../../packages/proveit/__pv_it/6369c6c8083c513ca7161ace249642d040f9327d0/expr.ipynb\"><img src=\"data:image/png;base64,iVBORw0KGgoAAAANSUhEUgAAABAAAAAOBAMAAADUAYG5AAAAMFBMVEX////u7u5mZmaYmJi6urqq\n",
       "qqp2dnbMzMwQEBBEREQyMjLc3NwiIiJUVFSIiIgAAAAeC3ydAAAAAXRSTlMAQObYZgAAAGBJREFU\n",
       "CNdjYGB4+//u3bMbGIDgFwMDZzeQZv/GwMAKxAx8XxgYmD8BGZwfGBh4vwIZ/AsYGOQnABn1CQzs\n",
       "h0Ca3l9LUwPrni/AAAF/oDT7JygDZAwYcH6E0ELz/z4A0QBnpRnRyxnfJQAAAABJRU5ErkJggg==\n",
       "\" style=\"display:inline;vertical-align:middle;\" /></a></td></tr>\n",
       "<tr><td>6</td><td>ExprTuple</td><td>8, 11</td><td><a class=\"ProveItLink\" href=\"../../../packages/proveit/__pv_it/8015af457c372be02f7b56fbcf0db088047bb4a30/expr.ipynb\"><img src=\"data:image/png;base64,iVBORw0KGgoAAAANSUhEUgAAACwAAAAVBAMAAADP3xFXAAAAMFBMVEX////c3NwiIiJERESqqqqY\n",
       "mJh2dnZmZmYQEBDu7u4yMjJUVFTMzMyIiIi6uroAAAAs73DqAAAAAXRSTlMAQObYZgAAAQtJREFU\n",
       "GNNjYMAB+C6gi7A+ABKnMVXWAPFKTGEuBgbeC5jCrAkMHBMwhTkbGF5hc4YJQxmQFLstch1i1rQy\n",
       "BsafDAzpDEuBehJYVTkUwMIJ7xl4PzAweDH0MTCwAZksB0CiPA5FDMwGDAwvGP4BVTNwG0DtYuhl\n",
       "4Acadx4kzMDAAXMly0+G8wdAwi0gnvwBBog72Rcw3GAAGWIKdL3AfQbeCWAJrgIGayAVBXQLg3+A\n",
       "BYMsA+cnkOoNfF8ZQA58xMAw+dq03AAGzn4BoJ221z8ChdcxcAjAQxjMYlMAex4YLLAAAuJNDDMc\n",
       "gFIXkAIWJKzGYAYkZwGxNEwY5Hbf66CY2QjEjBgBznuAAQAt5DtyKXSr1gAAAABJRU5ErkJggg==\n",
       "\" style=\"display:inline;vertical-align:middle;\" /></a></td></tr>\n",
       "<tr><td>7</td><td>Operation</td><td>operator:&nbsp;9<br>operands:&nbsp;10<br></td><td><a class=\"ProveItLink\" href=\"../304f80a086ce2279ef7adb379c5e865af0d14e320/expr.ipynb\"><img src=\"data:image/png;base64,iVBORw0KGgoAAAANSUhEUgAAADQAAAASBAMAAADmo+DzAAAAMFBMVEX///+YmJhUVFQyMjIQEBBE\n",
       "REQiIiKqqqrMzMyIiIi6urrc3NxmZmZ2dnbu7u4AAADXeCicAAAAAXRSTlMAQObYZgAAAPVJREFU\n",
       "GNNjYMACJv1XUrVkwA6+MjA8McAqw/GTgYHpF5LAS7O0ZAiL8wcDA/MPJKWGD2BMVgcGhn4FBr47\n",
       "Fxj2gwS3wmUY+BUY2DMZGHi5PjDMB/GjEQb0a87xBFLtPAkMoUCaLwAhNf8BQ30DA8MDlgkMQAcx\n",
       "cLmlpcGcEQI2k4Gh/gEHyDEcCghdnxgY9oO4hxk4HUAGJiDc+pGBQf4CkGHDwArWoAiXAnnr/AQ+\n",
       "BoZDDOsFQALPFsC99QHokgkbGRiezjy/ASTAbdMAkXkT/2kCA4/lBBD7GkSIXRnmQihgSuBzxxH+\n",
       "bBdYL+CQYp95CocMAERHO66SNiCSAAAAAElFTkSuQmCC\n",
       "\" style=\"display:inline;vertical-align:middle;\" /></a></td></tr>\n",
       "<tr><td>8</td><td>Variable</td><td></td><td><a class=\"ProveItLink\" href=\"../../../packages/proveit/__pv_it/530be409e3083890784cf1d7b28c9e67e90af9360/expr.ipynb\"><img src=\"data:image/png;base64,iVBORw0KGgoAAAANSUhEUgAAAAsAAAAJBAMAAAAWSsseAAAAKlBMVEX///9ERETMzMwQEBAiIiKY\n",
       "mJju7u5mZmaqqqpUVFSIiIh2dnbc3NwAAAA/vyDhAAAAAXRSTlMAQObYZgAAAENJREFUCNdjYDi9\n",
       "8sTyBQxsG1hdmR0YuBm4LnAoMLAxcAowgADzAjB1VoEhgYH1wFoGrgSG3gBhhlMMDImrs3cFMAAA\n",
       "t0YN+iTRa+sAAAAASUVORK5CYII=\n",
       "\" style=\"display:inline;vertical-align:middle;\" /></a></td></tr>\n",
       "<tr><td>9</td><td>Literal</td><td></td><td><a class=\"ProveItLink\" href=\"../../../packages/proveit/logic/set_theory/membership/__pv_it/088cbc857536a28d4119ad9639a84270ccb0545d0/expr.ipynb\"><img src=\"data:image/png;base64,iVBORw0KGgoAAAANSUhEUgAAAAwAAAAMBAMAAACkW0HUAAAALVBMVEX///+qqqpmZmZUVFQQEBC6\n",
       "urpERETc3NyYmJjMzMwiIiIyMjKIiIju7u4AAACYsrA9AAAAAXRSTlMAQObYZgAAADxJREFUCNdj\n",
       "YOA9vWrVBgaG2b0MQMCeCyIZ2ArA1DUwyRCyahVIyWQI7xaEYm4AU7xLIdxqTQgtvGvVBgCkcQ7e\n",
       "geM/tQAAAABJRU5ErkJggg==\n",
       "\" style=\"display:inline;vertical-align:middle;\" /></a></td></tr>\n",
       "<tr><td>10</td><td>ExprTuple</td><td>11, 12</td><td><a class=\"ProveItLink\" href=\"../3262eb6624ddd5fc354c569eb33e7f80af392b380/expr.ipynb\"><img src=\"data:image/png;base64,iVBORw0KGgoAAAANSUhEUgAAADAAAAAVBAMAAADyTXAxAAAAMFBMVEX////c3NwiIiJERESqqqqY\n",
       "mJh2dnZmZmYQEBDu7u4yMjJUVFTMzMyIiIi6uroAAAAs73DqAAAAAXRSTlMAQObYZgAAAStJREFU\n",
       "KM91kStPA0EUhT/YPnbbbqlBIbp/AAUkODym1Rg2mP4DBBC6AgvZBEGDAUMIomQJkpBU1CG6DkGa\n",
       "AopgKCGobgt3ypDs8pjkPmbO3DP3noF/VzH8fZa+F3eTOLr7uLpswpakZ8nLb9A4Jgd2kqkwhPyI\n",
       "tIvpJwA7glyE5fGcZDI86AQwzzpYNZeyLpwKSM1KrHECmWKfnq7oXN/uqrjMHrSzDnMa6PlUWhKf\n",
       "GIFvhgw1sDhmk0oFUPELkQYGUP4CdsRvYHt6jHdYdcdUC+JPMQKs7zHqoaQr0hds8lLlyFFj9OX9\n",
       "cFq1+yjb/W69ROMVDpYGIdmmqHSOWVIUa2IPMQFEEpEr71iqhWoMyIRK9knXcH8Ah2IzpLrbqqG4\n",
       "lhdiE398rd3iE5PgTl+ILaFHAAAAAElFTkSuQmCC\n",
       "\" style=\"display:inline;vertical-align:middle;\" /></a></td></tr>\n",
       "<tr><td>11</td><td>Variable</td><td></td><td><a class=\"ProveItLink\" href=\"../../../packages/proveit/__pv_it/f8b9edf8e16034727f0aad55bb83e392c3db40d40/expr.ipynb\"><img src=\"data:image/png;base64,iVBORw0KGgoAAAANSUhEUgAAAAsAAAANBAMAAACN24kIAAAAMFBMVEX///+YmJhUVFQyMjIQEBBE\n",
       "REQiIiKqqqrMzMyIiIi6urrc3NxmZmZ2dnbu7u4AAADXeCicAAAAAXRSTlMAQObYZgAAAFhJREFU\n",
       "CNdj4LtzgWH/AwZerg8M8xkY2nkSGEIZGB6wTGD4ycDAUP+A4weQOszA6QCkbBhYFYDUIYb1AkDq\n",
       "6czzGxhA4BoQMyXwuQMptgusF4AU+8xTQBIAUqMVoSp/SLMAAAAASUVORK5CYII=\n",
       "\" style=\"display:inline;vertical-align:middle;\" /></a></td></tr>\n",
       "<tr><td>12</td><td>Variable</td><td></td><td><a class=\"ProveItLink\" href=\"../../../packages/proveit/__pv_it/e24df48bc297bbcf3538a62f5b4f635a392abfce0/expr.ipynb\"><img src=\"data:image/png;base64,iVBORw0KGgoAAAANSUhEUgAAABAAAAAOBAMAAADUAYG5AAAAMFBMVEX///92dnaYmJjc3NxmZmYi\n",
       "IiKqqqq6urrMzMwQEBDu7u4yMjJERERUVFSIiIgAAAArjcN0AAAAAXRSTlMAQObYZgAAAG1JREFU\n",
       "CNdjYGB4+//unX0MIPCHgWHlBiDN8Y+Bgfc7kMH3g4GBG4gZeCYwMPRfADL4LzCwxYHU9t97Mg+s\n",
       "6f0ChvwGEOMkWBYI/jIw2IMYHJ8YGPQFoMb4P+ACGvMBqP6BEcOS838fMLDsewAAOpQikqrQNfgA\n",
       "AAAASUVORK5CYII=\n",
       "\" style=\"display:inline;vertical-align:middle;\" /></a></td></tr>\n",
       "</table>\n"
      ],
      "text/plain": [
       "0. forall_{y in R} P(x , y)\n",
       "   core type: Operation\n",
       "   operator: 1\n",
       "   operand: 2\n",
       "1. forall\n",
       "   core type: Literal\n",
       "   sub-expressions: \n",
       "2. y -> P(x , y) | y in R\n",
       "   core type: Lambda\n",
       "   parameter: 11\n",
       "   body: 3\n",
       "   conditions: 4\\n3. P(x , y)\n",
       "   core type: Operation\n",
       "   operator: 5\n",
       "   operands: 6\n",
       "4. (y in R)\n",
       "   core type: ExprTuple\n",
       "   sub-expressions: 7\n",
       "5. P\n",
       "   core type: Variable\n",
       "   sub-expressions: \n",
       "6. (x , y)\n",
       "   core type: ExprTuple\n",
       "   sub-expressions: 8, 11\n",
       "7. y in R\n",
       "   core type: Operation\n",
       "   operator: 9\n",
       "   operands: 10\n",
       "8. x\n",
       "   core type: Variable\n",
       "   sub-expressions: \n",
       "9. in\n",
       "   core type: Literal\n",
       "   sub-expressions: \n",
       "10. (y , R)\n",
       "    core type: ExprTuple\n",
       "    sub-expressions: 11, 12\n",
       "11. y\n",
       "    core type: Variable\n",
       "    sub-expressions: \n",
       "12. R\n",
       "    core type: Variable\n",
       "    sub-expressions: "
      ]
     },
     "execution_count": 4,
     "metadata": {},
     "output_type": "execute_result"
    }
   ],
   "source": [
    "# display the expression information\n",
    "expr.exprInfo()"
   ]
  },
  {
   "cell_type": "code",
   "execution_count": null,
   "metadata": {},
   "outputs": [],
   "source": []
  }
 ],
 "metadata": {
  "kernelspec": {
   "display_name": "Python 3",
   "language": "python",
   "name": "python3"
  }
 },
 "nbformat": 4,
 "nbformat_minor": 0
}
