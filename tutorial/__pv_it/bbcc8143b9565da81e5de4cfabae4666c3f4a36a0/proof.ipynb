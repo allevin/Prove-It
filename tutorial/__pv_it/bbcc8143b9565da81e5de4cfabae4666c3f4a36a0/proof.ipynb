{
 "cells": [
  {
   "cell_type": "markdown",
   "metadata": {},
   "source": [
    "Show the Proof\n",
    "========"
   ]
  },
  {
   "cell_type": "code",
   "execution_count": 1,
   "metadata": {},
   "outputs": [
    {
     "data": {
      "text/html": [
       "<table><tr><th>&nbsp;</th><th>step type</th><th>requirements</th><th>statement</th></tr>\n",
       "<tr><td>0</td><td>specialization</td><td>1, 2</td><td><span style=\"font-size:20px;\"><a class=\"ProveItLink\" href=\"../8b1a2320b858064be2887d3d5636c270c16752750/expr.ipynb\"><img src=\"data:image/png;base64,iVBORw0KGgoAAAANSUhEUgAAAPMAAAAaBAMAAACQk3dGAAAAMFBMVEX///+6urp2dnaqqqoiIiIQ\n",
       "EBBERETu7u6IiIjc3NwyMjJUVFSYmJhmZmbMzMwAAAD0pS5FAAAAAXRSTlMAQObYZgAABChJREFU\n",
       "SMfFVl1oXEUU/vbu7r37v3mQWivSpS1kqQQWfBH8yUIfFIqwmkINVMmDhirRXoopUpAs+mAwpQ1F\n",
       "SkMeXAUNUi2rSLGJ1m0oSBG0iUWKFbooeakP3aho1Tb1nDM/d/8Ki5R2YWfOzPlmvpnzNxdA5ifc\n",
       "7l94SfXz07edGkdGuI39hTvwe4abZAXw/tfy9bo/3VUbKnfKpy36RUMdYSFV7olw6sbCwnb2Uaaq\n",
       "Z9L1JvXh5fvVPr9y431+0soaqdDzhtopkJDwe7vsP4A73IKvBErnOPCZKOa4cTdfs7JBVlqo4+z1\n",
       "I70xZ36jCKU/Ju3UopW8D6iJsjlicveJuwtWNsjFFmo51ve9UcdWyTfXSdhpp8atlCiyWTlwo3L1\n",
       "QZmN+s3I8VbqxZmZmWJv1G6D1vxOoROY2S0Y6RI70qHDYYOMz0u7oQUpaKF22djZ0dHnct2p4iqI\n",
       "7O5ZopygNWnCx/MnH7xAXOcM9k/xNx0Myyx9s+NLKNkbyOEdX5CCFuooOyJZhxtUlj7Vvbp8keYO\n",
       "q8HPRnklh8wTbNsasBdnajvI9cYAaQkqd42aj2TiqrQkO6EGDimkoL8jH8SPSeJVsT+46IiKp+OI\n",
       "D5sBHH0eHPp00zKfMkoTOdruUVpd0rqIlKcsD58UK6zJNMm/pIsYVUhBpz8Ezih7FnGgnXqFCH5A\n",
       "WEenZ262R8dMlqh9nJBDNowz5AyD7LpVqdVKQbJPxr2qkAr9dhnhx0V7AI+1UXu72C6BH07p/g8E\n",
       "1MDTrdQSqu/7htopGmoM+pm1JurUNk69Gmv3c21yptafstSxklBHqc1/MlU3aZy5rmmiBWVRr8ng\n",
       "Cd41LFYeEq+rgsfyj7KhNfjgtIlwuLN0if7kyJCljlQlOS7TifwTxHNvkNYqT+jIZ2MNvElXYGfw\n",
       "OxBejU/WV8QcYzaElfyxnIORgg7yGmHOwL5ELTB4lpc9xYwhCdfLmtE8dJQj4WtuKV7W6TLBxt2y\n",
       "F5tfEPWAFLM+K1/ExhrakktRK6dlp5uoCRneiYdY/ttSv7bnXx13oSK83f2bODoTzDDOoNB8fhsy\n",
       "rL6Lm40qJFneN3lpWiEF3Uz9tQQ16pbaPXe0MN6HdezfEu22rr3WDLcV0nvU4GV8K7bmW7ylw0Ju\n",
       "tKV7IVUR1NiKnKWOP1t+4F3gFSoiTsVpfiM6Ho28tMpZeElV2FQOqeqYmiI5WfSGNDLfhdrb/cjr\n",
       "fpDXs+8t+HVEfOx740I/sNRObR9NnfKa+qsbysFziM6ZZ2EOkZybU0iv0oW6raQA91EMxQqdj7Iu\n",
       "2OZTISn2jOnRyi7VzyI1YGrCLMKTSxqp0ELtlG5KfeV5H54ehDu/YY7q/mD3Z6fcKR+06O1irmM3\n",
       "pU6wex7WV7ulX4VpVTtTX7Qrqs2DlCry/bf0O3wMd/T3H9k3GI6eKq8SAAAAAElFTkSuQmCC\n",
       "\" style=\"display:inline;vertical-align:middle;\" /></a> <a class=\"ProveItLink\" href=\"proof.ipynb\" style=\"text-decoration: none\">&#x22A2;&nbsp;</a><a class=\"ProveItLink\" href=\"../e16eba53b0be132ecdb115b19c32e9f6e91766930/expr.ipynb\"><img src=\"data:image/png;base64,iVBORw0KGgoAAAANSUhEUgAAAE0AAAAVBAMAAADx+n4ZAAAAMFBMVEX////u7u5mZmaYmJi6urqq\n",
       "qqp2dnbMzMwQEBBEREQyMjLc3NwiIiJUVFSIiIgAAAAeC3ydAAAAAXRSTlMAQObYZgAAAXJJREFU\n",
       "KM+dkT9Lw0AYh39t2iaxNgYnneogHUTRQdyEuhah/QYNAZ1EXBzFDjrpIHRyaqpfoF9ADO5CcXCR\n",
       "SjZBsI21WhD/3XuXuwa6+YPnzdPkTS/3HvCPpIJxX40AXn47ndsW2QGVxOODcpbknoDlEzBPSJpU\n",
       "zK035RQvAvoHkGbA4kvlNyrKKWsRsAaA1mdi2PSzyp8Kp8xEwAyB3DuTEr+/yGtJbcisCDDFVs+f\n",
       "MSnQ7fXTOwhPuA6ubWTmwMGhA/2Gnl3y938QeSYVosc+3ROgd79d4GM5opIdIvL9pI9zNsiaAA35\n",
       "yQMq6VC6bQT053oowBfifRlfedXWh6M+vS/7jvn22soXYNVG61oD2VfngwuUX/CXNE9gvso+lx9H\n",
       "UfkSyiuQc5lufMsj2qRStpXPdpfZHCaKglEMms5zzLETPzcVzYHWrivP+QnazW5ELE0YTV/5pGM6\n",
       "7PQ8QTxX0NyW8nR3nl1zLUE82WDcnwR/Yg9mYrHVncgAAAAASUVORK5CYII=\n",
       "\" style=\"display:inline;vertical-align:middle;\" /></a></span></td></tr>\n",
       "<tr><td>&nbsp;</td><td colspan=4 style=\"text-align:left\"><span style=\"font-size:20px;\"><a class=\"ProveItLink\" href=\"../../../packages/proveit/__pv_it/530be409e3083890784cf1d7b28c9e67e90af9360/expr.ipynb\"><img src=\"data:image/png;base64,iVBORw0KGgoAAAANSUhEUgAAAAsAAAAJBAMAAAAWSsseAAAAKlBMVEX///9ERETMzMwQEBAiIiKY\n",
       "mJju7u5mZmaqqqpUVFSIiIh2dnbc3NwAAAA/vyDhAAAAAXRSTlMAQObYZgAAAENJREFUCNdjYDi9\n",
       "8sTyBQxsG1hdmR0YuBm4LnAoMLAxcAowgADzAjB1VoEhgYH1wFoGrgSG3gBhhlMMDImrs3cFMAAA\n",
       "t0YN+iTRa+sAAAAASUVORK5CYII=\n",
       "\" style=\"display:inline;vertical-align:middle;\" /></a> : <a class=\"ProveItLink\" href=\"../../../packages/proveit/__pv_it/e4f99fbf53c5e24e1c1e622903a7736f418f26ef0/expr.ipynb\"><img src=\"data:image/png;base64,iVBORw0KGgoAAAANSUhEUgAAACgAAAAVBAMAAADGNLEtAAAAMFBMVEX///8yMjLMzMwQEBAiIiJm\n",
       "Zma6urqYmJiqqqp2dnZERETc3NyIiIhUVFTu7u4AAAAe+HC4AAAAAXRSTlMAQObYZgAAAQlJREFU\n",
       "GNNjYMAPciAUewKYent2A5BkugCVDAKTK/sLgCTjA6ggI4jg+/YCRJ2BGcM+AUhwfACz7WCCfAZA\n",
       "gtUBxGQTgNu4Aqj6sm8ASAqo6WUkA/c/BoapQC7/AbDxQMsm5DPwAM1qBHL3K4AEmRMYmBpCGLgW\n",
       "MDAkA7n9YIP4Exj4GGzA2vSB3CkwQQaOfwz6ChDBtWBB5gagZQIMhxkg2m3AglxAixgDwCoKQR4C\n",
       "C3IC3cV6ge07A9hJbP/AgmxAL/CtOfobyBRjYOCBesUarN4B7M1akGEgUMnAcIXhMdA6zgMMhk9g\n",
       "IfaAwZNhJZDxEKggGirIfYGh5ygo1G8jR8ceCMWjwAAAl6o3tGQ/mUwAAAAASUVORK5CYII=\n",
       "\" style=\"display:inline;vertical-align:middle;\" /></a></span></td></tr><tr><td>1</td><td>assumption</td><td></td><td><span style=\"font-size:20px;\"><a class=\"ProveItLink\" href=\"../2d91ba657e190f72962943689b8123f6b3a1b3020/expr.ipynb\"><img src=\"data:image/png;base64,iVBORw0KGgoAAAANSUhEUgAAAJcAAAAaBAMAAABIn9NMAAAAMFBMVEX///+6urp2dnaqqqoiIiIQ\n",
       "EBBERETu7u6IiIjc3NwyMjJUVFSYmJhmZmbMzMwAAAD0pS5FAAAAAXRSTlMAQObYZgAAAp1JREFU\n",
       "OMutlU1oE0EUx//52o802eRUhCKUekh6EAJeBD8a9KDgJahQCyq9tFgRXMSKNwMeFBQbpJQWL6sX\n",
       "kYq0IMVaaWPpQU9NRUpBD0H0Ug8pHipaUd987W6WhgbNwL6Zebvzex/zZhaA9RH/3yIron9ZagEM\n",
       "Y/1MGt/RknaOiTYHsP9p+S7Zv+byooLl2eBNUwRjYWvu+SwbWVNSlazybCnYHjZ43Jw/Kfp+gKU5\n",
       "7sbj1MHGqDf7m4PVOoEeenDbVS3WwZiRZK452EgaWK7QoNdVDdfBEt0TE6NNpv0yPQtkOOS4Ki2n\n",
       "YBoLb3Nw8EiDxSZPL1y/fwL6Jks7hWpmZ/evAeGKgsWKJOaBIW99WnTX332gRN8Xk0/ynfUN+MwW\n",
       "x8vAFSyVT1P5MyeXKVXmJPukA7rnNcRWWM9g9qkJwtKCsdW1t5s7QYpOjOAwRVxgnj4BlngUURjl\n",
       "IOwLubWKSFHolDFNHZhUmhX7DDe7weRoEZHj3F45agdg+lnmOzR1cuclI++DAWdcWOIoiRtlbvcr\n",
       "yez0naoLMwocFlN6WVa1ioTF2JaYv6HLMHtKajcxNE1psWf4FwIWZaflPdaVvsMrMxEvOfHW2MAt\n",
       "csrx1xlwiLwP4akvzBRL1knGEPp1WWYqHVQPkV9awSz6S0PAeIHghx9GliO9OKD0HKav/nkhYaE8\n",
       "9AuZrrusStL1sAQzaBUsD6ZVxnPDabQrfXuwmvsaHCeZ27AT9mDm+eK+h8BVpV8MwjxFdhvYtZtr\n",
       "GV+dPXg0Z1dBJSP0K0GYewXpzjawQNECuym7Rs5/adUdWnU5tpVcWLjQEFYbsKHLiToJvjYu+3tc\n",
       "nuBOTjaExU+ROCjN73AzJY/xLvEq+GLKP0mIKyizw3/zElrc/gIhJqpyBUa88wAAAABJRU5ErkJg\n",
       "gg==\n",
       "\" style=\"display:inline;vertical-align:middle;\" /></a> <a class=\"ProveItLink\" href=\"../29f43f9bab5f2e4d807837324424736cb25e56e60/proof.ipynb\" style=\"text-decoration: none\">&#x22A2;&nbsp;</a><a class=\"ProveItLink\" href=\"../388b2a6d7ede43340aff64412a75633c2c726c6e0/expr.ipynb\"><img src=\"data:image/png;base64,iVBORw0KGgoAAAANSUhEUgAAAIEAAAAXBAMAAADesTE9AAAAMFBMVEX///8QEBC6urrMzMxUVFRm\n",
       "ZmZERETc3NwyMjKqqqp2dnaIiIiYmJgiIiLu7u4AAAAU9Wx4AAAAAXRSTlMAQObYZgAAAjdJREFU\n",
       "OMulVD9IG1Ec/pJr7pJccgY6BKuVDOrikoKDCCUSRYciBikOlUJddOhgBlGoFIJuIiWgHURBF5Ea\n",
       "CIG6iKKhi2ApZu50Lh1aCkLFShHt79177+56ELnqwd37ve/4fb9/33vAvR/zTl4dYv1Eb40Zn325\n",
       "6UPnfYMDzFJ6BBRKAx+Y8c5f5IYCMJYnI2xnTsg0LdorfwyZDWCdXuzZ0DGnCxX9MRymgJMcGS02\n",
       "dArEtmZm3vrs3yS9QxQtWLAhlbYX4+Nf63hoaWuxM7wEjAvWP6pEKw2sjgJRSqkXmHCcUnz58eI5\n",
       "dewN33SLf8of4CkrIlwFvuNL9TEQoXRaYThJgfdUmYeWlBtEBa1+vr25xYwAARs4xBIVlADi0Kte\n",
       "hieUwAgiFY7JCOq1nGqKKbHfinVGzNW46WEwmulzAjUvwF7hWHMxAE2SwSh0klXK7qRtBj1hMQQk\n",
       "LsafyQmGAOut9gsGrwITWSrV7LdgzhBnon2JLom3OnLg5VDZR/oZDkgMrML3lFwQi64qGlgDHjFH\n",
       "jncJOchqaYSRKzWhVfg0EbAa9tvNQDEiLViWuMVgjNw8EwzBGozX5e19NliWV4xRKwnFYVBzs8XT\n",
       "FNol3u6VWtKtatGkaCHqMGgPKytzwE+JH3sZHKAkjW+7o2WXHqYW+sw0aMocH/Yy2KfbLcZ/FAW0\n",
       "UZv0onMJeA6MvGEe5OsyZMZMGGIjtel6ZsX6EXUZwo30WROB/usK7XFvYvx0l2/1+AtKHIIOJzuX\n",
       "rwAAAABJRU5ErkJggg==\n",
       "\" style=\"display:inline;vertical-align:middle;\" /></a></span></td></tr>\n",
       "<tr><td>2</td><td>assumption</td><td></td><td><span style=\"font-size:20px;\"><a class=\"ProveItLink\" href=\"../7d9bd72453095aac9b98adab765d973f84f35f320/expr.ipynb\"><img src=\"data:image/png;base64,iVBORw0KGgoAAAANSUhEUgAAAGEAAAAVBAMAAACkm51HAAAAMFBMVEX///9ERETc3NyqqqpUVFS6\n",
       "urrMzMwyMjIQEBCIiIh2dnYiIiLu7u5mZmaYmJgAAABJJ2g3AAAAAXRSTlMAQObYZgAAAe9JREFU\n",
       "OMuNUz1IHGEQfd6fut5tBAWJjbZWXqqQ6o5UBhsLQa2yRQo7bdJooZiYRLC4QkQR4cAioogWNoqg\n",
       "oJCQNEcKBQVNIQg2CYIhJEfivJlv93K5xoU3+75l33xv5psPgH+Oez6ptU6+0rvVn4dqud9nQOoV\n",
       "l43fGWMba88sT57xaK4z4vIcO+CEwZtkfB8gsUdSf8DYnvsacRIHrEaKD80SXnO5qE5vDyOutoqG\n",
       "fxTjZBdMOUsWV6fGNcOkoaLI/CDblOKSo2SZLUbj+rQ4RIruZlVk5V/u7fdsl2D80yliZWADBlVk\n",
       "JNMF60RHIPUpe1DQeoUXn2szH8Pwjd+Hxcu+NuWnoIFtR3cA46nsGerEwCAM9bL3izfuX8R/Mbsq\n",
       "cmpeeBozuuEIDGiTfQcl3281MRsp1kMF4mWMBBVFE8tMSB0TmphWGrKkraoglyoXUHGldXjSyVxf\n",
       "13xqmqs6rXwGIRfjlF85RN319oreI51Lr6RHjpBn8sk/+K+7eub9Y0tZ0FWSZ5csq4I8/XD5RuhL\n",
       "h4pCLAS+tnSK4+wOeyp0XTslVJQG9H0NXFoxynvxUer3CgZT+KZI/DXzMuFvP4dDfoBdtHO0Hex+\n",
       "pHfsJr2zxLE8rr84hfAnyzygpw7WT/grVbe2q5Y3Bga953c0QIftveUS0AAAAABJRU5ErkJggg==\n",
       "\" style=\"display:inline;vertical-align:middle;\" /></a> <a class=\"ProveItLink\" href=\"../d5ecc35fc6d698863275d5d80b7ba540db5b77e80/proof.ipynb\" style=\"text-decoration: none\">&#x22A2;&nbsp;</a><a class=\"ProveItLink\" href=\"../a42dcb2a1478b3b87b8f129e549a557692557fd00/expr.ipynb\"><img src=\"data:image/png;base64,iVBORw0KGgoAAAANSUhEUgAAAEwAAAAVBAMAAAAeOBUnAAAAMFBMVEX///+YmJiqqqq6uroQEBBE\n",
       "RETu7u4iIiLMzMwyMjKIiIhUVFRmZmZ2dnbc3NwAAADS0us6AAAAAXRSTlMAQObYZgAAAZdJREFU\n",
       "KM+Vkr1LA0EQxV+8JOTjLtqKBK6x0CYpbNRCQQkYIQRLJRhEEBEhVRoR7z9IwMJKTCEomiKFIFjI\n",
       "ddporhMhonWaKIZo48fM7N0hpHLhLb+7fTszO7vA/8dUPwfSSkCi9XQlvyINnrfOX3ymcesKjxbi\n",
       "ZYZokedCashnBlebeZoW+c8ZT+H3NZ8lq6N0wB9N3pxhGniV1YxnC8+K9E/+eKYqtSqTXuJZsYwl\n",
       "UScvNpMMDue42LGhePsOiR7QAqvJBWPVokKFBmtSOLEzgxhVMAbWnhypSwpKezoWFEfMG4Qo1QRY\n",
       "Xan7i+OILSUFEYeRldAVsD4kR8a3PXg2DPRQsTzbkYTgTEGTcUVszHoVx/CSptLt08gcL4XkCFl4\n",
       "HLVlz7DIKDvGKN8iDFsuAR7rDe0NXkMwfXhigpNq3FitJzbm8HL9m3DfFUJWQLqQI8Xc9uckZsm/\n",
       "LLbZk7KUBEZUgcKXWKeDGDUlIP6jCqLHs7DhvZ8idlHgB+SKnuC8CpFoIHnv2ojH69zIa1d/Rruf\n",
       "Y5boFwSzY5YYqpq0AAAAAElFTkSuQmCC\n",
       "\" style=\"display:inline;vertical-align:middle;\" /></a></span></td></tr>\n",
       "</table>"
      ],
      "text/plain": [
       "<proveit._core_.proof._ShowProof at 0x7f94eb2220f0>"
      ]
     },
     "execution_count": 1,
     "metadata": {},
     "output_type": "execute_result"
    }
   ],
   "source": [
    "import proveit\n",
    "%show_proof"
   ]
  },
  {
   "cell_type": "code",
   "execution_count": null,
   "metadata": {},
   "outputs": [],
   "source": []
  }
 ],
 "metadata": {
  "kernelspec": {
   "display_name": "Python 3",
   "language": "python",
   "name": "python3"
  }
 },
 "nbformat": 4,
 "nbformat_minor": 0
}
