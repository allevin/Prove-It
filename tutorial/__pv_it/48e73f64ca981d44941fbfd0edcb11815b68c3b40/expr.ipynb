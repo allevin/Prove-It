{
 "cells": [
  {
   "cell_type": "markdown",
   "metadata": {},
   "source": [
    "Expression of type <a class=\"ProveItLink\" href=\"../../../doc/html/api/proveit.Lambda.html\">Lambda</a>\n",
    "=======================\n",
    "# from context <a class=\"ProveItLink\" href=\"../../_context_.ipynb\">tutorial</a>"
   ]
  },
  {
   "cell_type": "code",
   "execution_count": 1,
   "metadata": {},
   "outputs": [],
   "source": [
    "# import Expression classes needed to build the expression\n",
    "from proveit import Lambda\n",
    "from proveit._common_ import Pxyz, x, y, z\n",
    "from proveit.number import Add, Less"
   ]
  },
  {
   "cell_type": "code",
   "execution_count": 2,
   "metadata": {},
   "outputs": [
    {
     "data": {
      "text/html": [
       "<strong id=\"expr\">expr:</strong> <a class=\"ProveItLink\" href=\"expr.ipynb\"><img src=\"data:image/png;base64,iVBORw0KGgoAAAANSUhEUgAAAP4AAAAVCAMAAABRy6MiAAAANlBMVEX///8UFBQNDQ0iIiIyMjLM\n",
       "zMx2dnaqqqpUVFTu7u5mZmaYmJhERESIiIjc3NwQEBC6uroAAAASmHVxAAAAAXRSTlMAQObYZgAA\n",
       "AshJREFUWMPVmNuyoyAQRZnhfof//9mjgoZukRiOlZrhxQpG9tpCN42E/FtNBvK/teTnnrPp3CfS\n",
       "twDsjJJXOaulUXVME1ez783wR+xPAnTUb7TMtouLu3+mp9cNe8T+LACbeIZnUYK0Xon382FjxaT9\n",
       "0EzdEECHT9RvrP5cAG02pSPOTz7Rcco+V6z52xBA+k/U3zeXy1VlWdIOI79oTn5uPzHFwU8yab+q\n",
       "pxgTCb4bEVL2Q19nVxNIXUFBeBWkN62cFtvdkOH8NHrCjOxDsArEDFzPO0CXANuHRJt6cNYb4/Z/\n",
       "UMijdC/0Od25ma3jLvFALYnt44KkvMULjNtGT7KBfQS2hR4VeKlXgD4Btg+JNvV1PP1yiexrFWDo\n",
       "KyGWV3h0xlTHLYPKZl1yScw6mnNwxEYvxYF9BLbcpJ2lXAG6BNg+ItrVQ7Nz/v1DQYs5gdBHb7/e\n",
       "XXuVI9hnXNXzCfrQ43kc+y0Y0c51MsOO1yPA9hFRVU9tBKLZJwpIZnqhTurIUHx9WTzj+uKl98Z+\n",
       "MqeUL8k1ACAwbG00bhfVJSrqEux/yB9MNDzjXBUPnrANChaHWYPL4wXe6A0XPwKrGz61VwA9Apz5\n",
       "AdGmXkRU3z733V2/iYZCY0PJJ163AGx9WU4RANXq2VHqQ2BH8qZenwEgwaX9hqioc2aNta86wp/y\n",
       "1Cj069Yls13KYFJ2KX1EiFl0UragD+iNNj4M1pRrbf6vQwCCwewfRPVRs1ZwUd6p0YxbzjtovERL\n",
       "VvJCC+FtqaZy2JOV92b78eoDeidzjf0RmGQcAkCCa/svop76RIudqjqFdrc69/2y6H0PMKz6dqKZ\n",
       "ovfWwaFOgaKrhgR9EMQ/YH94ckGfAgCR8A/Y7503q1W6gDlBLu3rrx94WyLNnnAPSxOQPeUSZ6mb\n",
       "UetchEfsh/ufO1oi9dB3tTC5iHznc4tP3wLY1H8A7v4fNCoNYO8AAAAASUVORK5CYII=\n",
       "\" style=\"display:inline;vertical-align:middle;\" /></a><br>"
      ],
      "text/plain": [
       "expr: z -> P(x , y , z) | z < (x + y)"
      ]
     },
     "execution_count": 2,
     "metadata": {},
     "output_type": "execute_result"
    }
   ],
   "source": [
    "# build up the expression from sub-expressions\n",
    "expr = Lambda(z, Pxyz, conditions = [Less(z, Add(x, y))])"
   ]
  },
  {
   "cell_type": "code",
   "execution_count": 3,
   "metadata": {},
   "outputs": [
    {
     "name": "stdout",
     "output_type": "stream",
     "text": [
      "Passed sanity check: built 'expr' is the same as the stored Expression.\n"
     ]
    }
   ],
   "source": [
    "# check that the built expression is the same as the stored expression\n",
    "%check_expr"
   ]
  },
  {
   "cell_type": "code",
   "execution_count": 4,
   "metadata": {},
   "outputs": [
    {
     "data": {
      "text/html": [
       "<table><tr><th>&nbsp;</th><th>core type</th><th>sub-expressions</th><th>expression</th></tr>\n",
       "<tr><td>0</td><td>Lambda</td><td>parameter:&nbsp;8<br>body:&nbsp;1<br>conditions:&nbsp;2<br></td><td><a class=\"ProveItLink\" href=\"expr.ipynb\"><img src=\"data:image/png;base64,iVBORw0KGgoAAAANSUhEUgAAAP4AAAAVCAMAAABRy6MiAAAANlBMVEX///8UFBQNDQ0iIiIyMjLM\n",
       "zMx2dnaqqqpUVFTu7u5mZmaYmJhERESIiIjc3NwQEBC6uroAAAASmHVxAAAAAXRSTlMAQObYZgAA\n",
       "AshJREFUWMPVmNuyoyAQRZnhfof//9mjgoZukRiOlZrhxQpG9tpCN42E/FtNBvK/teTnnrPp3CfS\n",
       "twDsjJJXOaulUXVME1ez783wR+xPAnTUb7TMtouLu3+mp9cNe8T+LACbeIZnUYK0Xon382FjxaT9\n",
       "0EzdEECHT9RvrP5cAG02pSPOTz7Rcco+V6z52xBA+k/U3zeXy1VlWdIOI79oTn5uPzHFwU8yab+q\n",
       "pxgTCb4bEVL2Q19nVxNIXUFBeBWkN62cFtvdkOH8NHrCjOxDsArEDFzPO0CXANuHRJt6cNYb4/Z/\n",
       "UMijdC/0Od25ma3jLvFALYnt44KkvMULjNtGT7KBfQS2hR4VeKlXgD4Btg+JNvV1PP1yiexrFWDo\n",
       "KyGWV3h0xlTHLYPKZl1yScw6mnNwxEYvxYF9BLbcpJ2lXAG6BNg+ItrVQ7Nz/v1DQYs5gdBHb7/e\n",
       "XXuVI9hnXNXzCfrQ43kc+y0Y0c51MsOO1yPA9hFRVU9tBKLZJwpIZnqhTurIUHx9WTzj+uKl98Z+\n",
       "MqeUL8k1ACAwbG00bhfVJSrqEux/yB9MNDzjXBUPnrANChaHWYPL4wXe6A0XPwKrGz61VwA9Apz5\n",
       "AdGmXkRU3z733V2/iYZCY0PJJ163AGx9WU4RANXq2VHqQ2BH8qZenwEgwaX9hqioc2aNta86wp/y\n",
       "1Cj069Yls13KYFJ2KX1EiFl0UragD+iNNj4M1pRrbf6vQwCCwewfRPVRs1ZwUd6p0YxbzjtovERL\n",
       "VvJCC+FtqaZy2JOV92b78eoDeidzjf0RmGQcAkCCa/svop76RIudqjqFdrc69/2y6H0PMKz6dqKZ\n",
       "ovfWwaFOgaKrhgR9EMQ/YH94ckGfAgCR8A/Y7503q1W6gDlBLu3rrx94WyLNnnAPSxOQPeUSZ6mb\n",
       "UetchEfsh/ufO1oi9dB3tTC5iHznc4tP3wLY1H8A7v4fNCoNYO8AAAAASUVORK5CYII=\n",
       "\" style=\"display:inline;vertical-align:middle;\" /></a></td></tr>\n",
       "<tr><td>1</td><td>Operation</td><td>operator:&nbsp;3<br>operands:&nbsp;4<br></td><td><a class=\"ProveItLink\" href=\"../../../packages/proveit/__pv_it/083d1a4d47b38d668346e2f448c1cdc323a8bf1b0/expr.ipynb\"><img src=\"data:image/png;base64,iVBORw0KGgoAAAANSUhEUgAAAFUAAAAVBAMAAADFg78FAAAAMFBMVEX////u7u5mZmaYmJi6urqq\n",
       "qqp2dnbMzMwQEBBEREQyMjLc3NwiIiJUVFSIiIgAAAAeC3ydAAAAAXRSTlMAQObYZgAAAZhJREFU\n",
       "KM+dkr1Lw1AUxU/apmkamhaHUic7FQSHouLcUUSwk6MGB8fSWZB2qJOghYK4aFv0D+iiW7UouAm6\n",
       "OFkoGdSl9MMq4gd633tJbAczeOHd/Mg9yXv33Af8M3ytv2uzPLe/m83rGqNNl/94svzxDqjbDKpu\n",
       "m1ZYUl4BmRb0lpt2jiV9AHj7BIGImzbGktoFQi8EC66Nq2lKYTrJRJEgQeu0fWKKo0QT0HpCNl/Q\n",
       "WvDHiXIGlAv26giQDO9loMEFxhL0LietZE5SS6y5zt16gltWAPxUl7k7SnoKapFrJUi3ZH6esGy3\n",
       "NGCvQ6JOtIOwbUydfcw2+cSvlsyw63IPuaw1z7ilVfq2doul8yzEPp4KnqzCMv8gL+wVUSKfax3o\n",
       "Ea4OxnEATrKBEJWoN7Vna9eA1eQ+ziCxY3lufM+CNqZnjsE8Gyt/2SdcBMYfopkkpF3yRTo0PwTF\n",
       "vW80h2BqeDKBmnM5OfkbNjkzdsJrOETrHrG0IBGZ0ZFXh7VX2MOQVqqMaus2sA5WzJRFPEK1Ua3m\n",
       "coEfgR+y/WIlsnhbtgAAAABJRU5ErkJggg==\n",
       "\" style=\"display:inline;vertical-align:middle;\" /></a></td></tr>\n",
       "<tr><td>2</td><td>ExprTuple</td><td>5</td><td><a class=\"ProveItLink\" href=\"../8f7a83ad8374731d643c3b09c03b86eb21baa0560/expr.ipynb\"><img src=\"data:image/png;base64,iVBORw0KGgoAAAANSUhEUgAAAHMAAAAVBAMAAACHwMySAAAAMFBMVEX////c3NwiIiJERESqqqqY\n",
       "mJh2dnZmZmYQEBDu7u4yMjJUVFTMzMyIiIi6uroAAAAs73DqAAAAAXRSTlMAQObYZgAAAbdJREFU\n",
       "OMtjYKAA8F3ALv4Wp444KGY4jV2eZwNOrewHIJhhJXZ5rgm4HboAgnnR3ctYA6buoghOROGFQTAH\n",
       "muk8ux6A6U4UUV8U3gwIfoUWaKsPQOgFeLQyO4BxGUhdxwNZiCDLcgFoUCQAnZ670bcWRStnegKD\n",
       "/AQGtgIGEF4KFBGOLTcAS/GqwZzPFcDAMI0hKKAJRSsb3weG+0ALFoBxH1BkAsNssBY2XbibOIA+\n",
       "TgAq80HReoRdgcEY6MoGMP4HDlVIJE62g2vlfwAycTOaXydwXGD4CwzKD2AM1vocquL0EmStDAy9\n",
       "YHbVqlUaq1atBjH9J/D8gWttAQVOAkyHuCrMwQ4gx/xh4EQN4SoG3ga4g02BAm4MDLBkN00XElDM\n",
       "wGAK5P3AcBNV63IGZqBK1gVgnA60e2lp1AOYvayQQAaGPctX5gbGC6haqxneBzDAIucRMA4Z4lsQ\n",
       "8c2yBpwkFBg4bTPTrqIlicl364ERz/UAjDkEsCfxRhypKQmREFkTsGsNw5Z5uRU4Qe7LhWJSMh1T\n",
       "AjPQJs4FEMwgjV0rI7asznK3DmS3AAQzMOIoYGRx5vQ7EAwA1rJt09FbII8AAAAASUVORK5CYII=\n",
       "\" style=\"display:inline;vertical-align:middle;\" /></a></td></tr>\n",
       "<tr><td>3</td><td>Variable</td><td></td><td><a class=\"ProveItLink\" href=\"../../../packages/proveit/__pv_it/6369c6c8083c513ca7161ace249642d040f9327d0/expr.ipynb\"><img src=\"data:image/png;base64,iVBORw0KGgoAAAANSUhEUgAAABAAAAAOBAMAAADUAYG5AAAAMFBMVEX////u7u5mZmaYmJi6urqq\n",
       "qqp2dnbMzMwQEBBEREQyMjLc3NwiIiJUVFSIiIgAAAAeC3ydAAAAAXRSTlMAQObYZgAAAGBJREFU\n",
       "CNdjYGB4+//u3bMbGIDgFwMDZzeQZv/GwMAKxAx8XxgYmD8BGZwfGBh4vwIZ/AsYGOQnABn1CQzs\n",
       "h0Ca3l9LUwPrni/AAAF/oDT7JygDZAwYcH6E0ELz/z4A0QBnpRnRyxnfJQAAAABJRU5ErkJggg==\n",
       "\" style=\"display:inline;vertical-align:middle;\" /></a></td></tr>\n",
       "<tr><td>4</td><td>ExprTuple</td><td>12, 13, 8</td><td><a class=\"ProveItLink\" href=\"../../../packages/proveit/__pv_it/d6f3c67c02a1e9726304372ccd7fa34de8c8d5380/expr.ipynb\"><img src=\"data:image/png;base64,iVBORw0KGgoAAAANSUhEUgAAAEAAAAAVBAMAAAAEBPWpAAAAMFBMVEX////c3NwiIiJERESqqqqY\n",
       "mJh2dnZmZmYQEBDu7u4yMjJUVFTMzMyIiIi6uroAAAAs73DqAAAAAXRSTlMAQObYZgAAAT1JREFU\n",
       "KM9jYCAI+C7glmN9ACRO49NdA8Qr8SngYmDgvYBPAWsCA8cEfAo4Gxhe4feCCUMZkBS7LXIdYtO0\n",
       "MgbGnxCpF32MQLF0hqVAcxJYVTkUwKIJ7xl4P4BZjKbXi4GUF0MfAwMbUJDlAEiUx6GIgdkAYjsD\n",
       "506QOQz/QGxuA6ibGHoZ+GHekgYR50EKGBg4YIIsPxnOH4CGcAFEQQuIkj/AAPEt+wKGG1C1bhCn\n",
       "MpgCQ0PgPgPvBLASrgIGawYwiyWBgRtIRQH9weAfYMEgy8D5CWTCBr6vENap8NB1DCBvPmJgmHxt\n",
       "Wm4AA2e/ANCVttc/QlgFrD8cgArWMXAIwOMdzGJTgLGgQQ2MDljEAPEmhhkOEBYEsF1Aim6QsBqD\n",
       "GQOyglmw8AABUFj4Xn8AZUHARlCg40kQvAcYAIc5SE6AwGiIAAAAAElFTkSuQmCC\n",
       "\" style=\"display:inline;vertical-align:middle;\" /></a></td></tr>\n",
       "<tr><td>5</td><td>Operation</td><td>operator:&nbsp;6<br>operands:&nbsp;7<br></td><td><a class=\"ProveItLink\" href=\"../f939d204ddb18c9833bf0e9cd40af9ed0c961c270/expr.ipynb\"><img src=\"data:image/png;base64,iVBORw0KGgoAAAANSUhEUgAAAGUAAAAVBAMAAACtcD09AAAAMFBMVEX///8iIiIyMjLMzMx2dnaq\n",
       "qqpUVFTu7u5mZmaYmJhERESIiIjc3NwQEBC6uroAAABuzmuqAAAAAXRSTlMAQObYZgAAAXtJREFU\n",
       "OMtjYKAaeI1TZh4uCeYEnHo4DHBIMBXgdoICugBPM5jajSJYg8Kbgu6mpAdg+jqKaDQKrxZVC58a\n",
       "xLF8Cnj0cAUAFdx9cBrCY9U4APWnA9CV3jnR3Sh62D0cGM4XMLA0MDCcmt2xACzGLQLzOdMEBoYS\n",
       "hokTLqLoYeH7wLAfaDLQEQUMZWC1LNJw63mBvnIAygej6DHlEGBYBXTXBVBYQSKjah1cD/8DkFFZ\n",
       "aP4p4N3A8BsYTh+A7BdQKTNVZD0MDLfB7CYlJVklJTUQM76A+TNED6sDTOkJSZjbAkDWf2ZgRw23\n",
       "JgbuCxC3hTAwwFJKiTQkFLiAYTCH+wPDdlQ9GgxcQJWcCgzMmp2THsBs4oQEHTA4WX9yXeDZgKqn\n",
       "jeH9BLAkB8P8q4gIY1UGx6kAA/tqd5edaHFatbsfGIFMD7Cnwzs40oEjZtrBkQ6hmYlNgB3kIm9S\n",
       "8gKjAxcwiNkVcOjhwZbnWHf3gWw7gCtjncaZ5TYzMAAAROlSV4nISxAAAAAASUVORK5CYII=\n",
       "\" style=\"display:inline;vertical-align:middle;\" /></a></td></tr>\n",
       "<tr><td>6</td><td>Literal</td><td></td><td><a class=\"ProveItLink\" href=\"../../../packages/proveit/number/ordering/__pv_it/7c444b9b2efa607ed6397b492680dde2810212f00/expr.ipynb\"><img src=\"data:image/png;base64,iVBORw0KGgoAAAANSUhEUgAAAA4AAAAMBAMAAACgrpHpAAAALVBMVEX///+YmJhERETu7u52dnYi\n",
       "IiKIiIiqqqq6uroyMjJUVFTMzMxmZmbc3NwAAADmAst+AAAAAXRSTlMAQObYZgAAAD5JREFUCNdj\n",
       "YAAB3tNgintlA4jimLUBRLHPuQCi2EIMQBRLGFgJg5EGhGbYNR3KuBMIZZiEGUAYjCFQBvtsABzC\n",
       "Cm98G6SsAAAAAElFTkSuQmCC\n",
       "\" style=\"display:inline;vertical-align:middle;\" /></a></td></tr>\n",
       "<tr><td>7</td><td>ExprTuple</td><td>8, 9</td><td><a class=\"ProveItLink\" href=\"../b43bbd28f5daf8e0094373cca9850ac57d777ccc0/expr.ipynb\"><img src=\"data:image/png;base64,iVBORw0KGgoAAAANSUhEUgAAAFAAAAAVBAMAAAAjqnRBAAAAMFBMVEX////c3NwiIiJERESqqqqY\n",
       "mJh2dnZmZmYQEBDu7u4yMjJUVFTMzMyIiIi6uroAAAAs73DqAAAAAXRSTlMAQObYZgAAAVFJREFU\n",
       "KM9jYCAa8F0grIb1AZA4TYxpNUC8khiFXAwMvDhs5hRAsTuBgWMCdoUsKAZwNjC8YiBGIYMJQxnI\n",
       "4x0PZCF8sdsi1y+gKJxWxsD4k4EhnWEpkCMcW24AsSGBVZVDAUVhwnsG3g8MDF4MfUDOBIbZEJey\n",
       "AQVZDiAr5HEoYmAGmvKC4R+Iy7gB6mYGbgNUN3Iy9DLwA5nnIQqfwx3NAZZnX7VqUdeqVSDtLD8Z\n",
       "zh8AKWwBcRLgCuUPMExAcSP7AoYbDCCrTYGkGwPDBrA8q8B9Bl5UhVwFDNZAKgrobwaepaVRDzg/\n",
       "Abn+ARYMsqjhyL6B7ysDKHgeAdkM8S0MnP3AOJt8bVpuAKpCTtvrH4HUOgYOWJzyCeCIGTYFcBSy\n",
       "wjzCij2ZbmKY4QBUfAGRzFixx7kagxmQnAXE0lARHMnN9zoodW8ExQoRWYH3AAMASKdUsZscRIkA\n",
       "AAAASUVORK5CYII=\n",
       "\" style=\"display:inline;vertical-align:middle;\" /></a></td></tr>\n",
       "<tr><td>8</td><td>Variable</td><td></td><td><a class=\"ProveItLink\" href=\"../../../packages/proveit/__pv_it/251502494639118b4892de8e9d720a5fcce840e10/expr.ipynb\"><img src=\"data:image/png;base64,iVBORw0KGgoAAAANSUhEUgAAAAoAAAAJBAMAAAD5iKAgAAAALVBMVEX///8yMjLMzMx2dnaqqqpU\n",
       "VFTu7u5mZmaYmJhERESIiIjc3NwQEBC6uroAAAB+iRisAAAAAXRSTlMAQObYZgAAADlJREFUCNdj\n",
       "YOA9c2EXA8POrvIJDAwJDKkJDAwM3AFAguE6iGAxAJHODAwBDEwSFY0XGNgZ+o4wAABKtAsIcBKm\n",
       "agAAAABJRU5ErkJggg==\n",
       "\" style=\"display:inline;vertical-align:middle;\" /></a></td></tr>\n",
       "<tr><td>9</td><td>Operation</td><td>operator:&nbsp;10<br>operands:&nbsp;11<br></td><td><a class=\"ProveItLink\" href=\"../2b7242641f099516c8ff5fd4529300180f7dd0a40/expr.ipynb\"><img src=\"data:image/png;base64,iVBORw0KGgoAAAANSUhEUgAAADAAAAAQBAMAAACigOGCAAAAMFBMVEX///+6uroyMjJERETMzMwQ\n",
       "EBAiIiKYmJju7u5mZmaqqqpUVFSIiIh2dnbc3NwAAAAWgogoAAAAAXRSTlMAQObYZgAAAKxJREFU\n",
       "GNNjYEAAjgcM2AHXAeIk3p5+dfIAikTvXAa+HwwcF9jTWRNQJC7IM/B8YOAFElwOyBIsC6YxMBsw\n",
       "cDBwG6DawcEQw8APYrKC+ZxKSmpBSkobQAp+MPiDzHjvwNCAYgenAsNRBgb2B+cZeFAlmCYwWDMw\n",
       "rC8wZXiD6g/ODYzfGRiaz/beKUCV4LA5+Q+Hz3kTUCQYoRLbGFoXYA2zXAZb7IG55qQAAwMAhA8v\n",
       "1pmWzm0AAAAASUVORK5CYII=\n",
       "\" style=\"display:inline;vertical-align:middle;\" /></a></td></tr>\n",
       "<tr><td>10</td><td>Literal</td><td></td><td><a class=\"ProveItLink\" href=\"../../../packages/proveit/number/addition/__pv_it/3e6688136fa3c7aefbebe51301b7c3ebf0b69c440/expr.ipynb\"><img src=\"data:image/png;base64,iVBORw0KGgoAAAANSUhEUgAAAA4AAAAOBAMAAADtZjDiAAAAJFBMVEX///+6urpUVFQQEBAiIiIy\n",
       "MjJmZmaIiIiqqqrc3Nzu7u4AAACgHpL+AAAAAXRSTlMAQObYZgAAAB5JREFUCNdjYGBgWMkAAe2k\n",
       "0Kmhoc6hoUGk6BMHYgAHOwjcado9fwAAAABJRU5ErkJggg==\n",
       "\" style=\"display:inline;vertical-align:middle;\" /></a></td></tr>\n",
       "<tr><td>11</td><td>ExprTuple</td><td>12, 13</td><td><a class=\"ProveItLink\" href=\"../a6a2ac9310c73e21661c7634808321702fb219240/expr.ipynb\"><img src=\"data:image/png;base64,iVBORw0KGgoAAAANSUhEUgAAACwAAAAVBAMAAADP3xFXAAAAMFBMVEX////c3NwiIiJERESqqqqY\n",
       "mJh2dnZmZmYQEBDu7u4yMjJUVFTMzMyIiIi6uroAAAAs73DqAAAAAXRSTlMAQObYZgAAAQtJREFU\n",
       "GNNjYMAB+C6gi7A+ABKnMVXWAPFKTGEuBgbeC5jCrAkMHBMwhTkbGF5hc4YJQxmQFLstch1i1rQy\n",
       "BsafDAzpDEuBehJYVTkUwMIJ7xl4PzAweDH0MTCwAZksB0CiPA5FDMwGDAwvGP4BVTNwG0DtYuhl\n",
       "4Acadx4kzMDAAXMly0+G8wdAwi0gnvwBBog72Rcw3GAAGWIKdL3AfQbeCWAJrgIGayAVBXQLg3+A\n",
       "BYMsA+cnkOoNfF8ZQA58xMAw+dq03AAGzn4BoJ221z8ChdcxcAjAQxjMYlMAex4YLLAAAuJNDDMc\n",
       "gFIXkAIWJKzGYAYkZwGxNEwY5Hbf66CY2QjEjBgBznuAAQAt5DtyKXSr1gAAAABJRU5ErkJggg==\n",
       "\" style=\"display:inline;vertical-align:middle;\" /></a></td></tr>\n",
       "<tr><td>12</td><td>Variable</td><td></td><td><a class=\"ProveItLink\" href=\"../../../packages/proveit/__pv_it/530be409e3083890784cf1d7b28c9e67e90af9360/expr.ipynb\"><img src=\"data:image/png;base64,iVBORw0KGgoAAAANSUhEUgAAAAsAAAAJBAMAAAAWSsseAAAAKlBMVEX///9ERETMzMwQEBAiIiKY\n",
       "mJju7u5mZmaqqqpUVFSIiIh2dnbc3NwAAAA/vyDhAAAAAXRSTlMAQObYZgAAAENJREFUCNdjYDi9\n",
       "8sTyBQxsG1hdmR0YuBm4LnAoMLAxcAowgADzAjB1VoEhgYH1wFoGrgSG3gBhhlMMDImrs3cFMAAA\n",
       "t0YN+iTRa+sAAAAASUVORK5CYII=\n",
       "\" style=\"display:inline;vertical-align:middle;\" /></a></td></tr>\n",
       "<tr><td>13</td><td>Variable</td><td></td><td><a class=\"ProveItLink\" href=\"../../../packages/proveit/__pv_it/f8b9edf8e16034727f0aad55bb83e392c3db40d40/expr.ipynb\"><img src=\"data:image/png;base64,iVBORw0KGgoAAAANSUhEUgAAAAsAAAANBAMAAACN24kIAAAAMFBMVEX///+YmJhUVFQyMjIQEBBE\n",
       "REQiIiKqqqrMzMyIiIi6urrc3NxmZmZ2dnbu7u4AAADXeCicAAAAAXRSTlMAQObYZgAAAFhJREFU\n",
       "CNdj4LtzgWH/AwZerg8M8xkY2nkSGEIZGB6wTGD4ycDAUP+A4weQOszA6QCkbBhYFYDUIYb1AkDq\n",
       "6czzGxhA4BoQMyXwuQMptgusF4AU+8xTQBIAUqMVoSp/SLMAAAAASUVORK5CYII=\n",
       "\" style=\"display:inline;vertical-align:middle;\" /></a></td></tr>\n",
       "</table>\n"
      ],
      "text/plain": [
       "0. z -> P(x , y , z) | z < (x + y)\n",
       "   core type: Lambda\n",
       "   parameter: 8\n",
       "   body: 1\n",
       "   conditions: 2\\n1. P(x , y , z)\n",
       "   core type: Operation\n",
       "   operator: 3\n",
       "   operands: 4\n",
       "2. (z < (x + y))\n",
       "   core type: ExprTuple\n",
       "   sub-expressions: 5\n",
       "3. P\n",
       "   core type: Variable\n",
       "   sub-expressions: \n",
       "4. (x , y , z)\n",
       "   core type: ExprTuple\n",
       "   sub-expressions: 12, 13, 8\n",
       "5. z < (x + y)\n",
       "   core type: Operation\n",
       "   operator: 6\n",
       "   operands: 7\n",
       "6. <\n",
       "   core type: Literal\n",
       "   sub-expressions: \n",
       "7. (z , x + y)\n",
       "   core type: ExprTuple\n",
       "   sub-expressions: 8, 9\n",
       "8. z\n",
       "   core type: Variable\n",
       "   sub-expressions: \n",
       "9. x + y\n",
       "   core type: Operation\n",
       "   operator: 10\n",
       "   operands: 11\n",
       "10. +\n",
       "    core type: Literal\n",
       "    sub-expressions: \n",
       "11. (x , y)\n",
       "    core type: ExprTuple\n",
       "    sub-expressions: 12, 13\n",
       "12. x\n",
       "    core type: Variable\n",
       "    sub-expressions: \n",
       "13. y\n",
       "    core type: Variable\n",
       "    sub-expressions: "
      ]
     },
     "execution_count": 4,
     "metadata": {},
     "output_type": "execute_result"
    }
   ],
   "source": [
    "# display the expression information\n",
    "expr.exprInfo()"
   ]
  },
  {
   "cell_type": "code",
   "execution_count": null,
   "metadata": {},
   "outputs": [],
   "source": []
  }
 ],
 "metadata": {
  "kernelspec": {
   "display_name": "Python 3",
   "language": "python",
   "name": "python3"
  }
 },
 "nbformat": 4,
 "nbformat_minor": 0
}
