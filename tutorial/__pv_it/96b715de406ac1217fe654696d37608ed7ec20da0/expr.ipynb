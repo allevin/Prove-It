{
 "cells": [
  {
   "cell_type": "markdown",
   "metadata": {},
   "source": [
    "Expression of type <a class=\"ProveItLink\" href=\"../../../doc/html/api/proveit.ExprTuple.html\">ExprTuple</a>\n",
    "=======================\n",
    "# from context <a class=\"ProveItLink\" href=\"../../_context_.ipynb\">tutorial</a>"
   ]
  },
  {
   "cell_type": "code",
   "execution_count": 1,
   "metadata": {},
   "outputs": [],
   "source": [
    "# import Expression classes needed to build the expression\n",
    "from proveit import ExprTuple, Literal, Variable\n",
    "from proveit._common_ import x"
   ]
  },
  {
   "cell_type": "code",
   "execution_count": 2,
   "metadata": {},
   "outputs": [
    {
     "data": {
      "text/html": [
       "<strong id=\"expr\">expr:</strong> <a class=\"ProveItLink\" href=\"../d0dadf8cba2294c8a3cda06f0bcba7f19422a4450/expr.ipynb\"><img src=\"data:image/png;base64,iVBORw0KGgoAAAANSUhEUgAAAEMAAAAVBAMAAADvM06qAAAAMFBMVEX////c3NwiIiJERESqqqqY\n",
       "mJh2dnZmZmYQEBDu7u4yMjJUVFTMzMyIiIi6uroAAAAs73DqAAAAAXRSTlMAQObYZgAAAV5JREFU\n",
       "KM9jYCAC8F3AJxsHIk6jCC2dIOaAzGc/ACRWoijp//8N1ZgFDAy8qPYs33YAVUkYAwPHBBSRDeiO\n",
       "mcHA8IoBvxJmB4YyIMWYu9G3FiKy9+4+CIMNiHlagHQBw1IgcxpDUEATRMaSYf4DMOMiSGsbAwPL\n",
       "AoY+IDOB4T6DD8xk7gYwlcDAycBwFRhsDQz/gNwJDJsRlrP9AQfoAZBDY4CWfQArYWDohTlOgYHt\n",
       "H9Qp3iCjQEpaQAKMf0DGAgGHAgP7R7B1DAwpDIwJYItMgfxA3g8MN8GK2BkYuBYALWZgPsDzj0EK\n",
       "yGBdwJAOdPRX5gbGCwzzFYDGFTB4CHB+AlrUW7HjOsgGoKcfMTBw2mamAd0+A2TD8eqNDJz9Agyc\n",
       "69fM+gXyPtcDBg4BuF8ewtOHAEoEsCbAeQEwBitSBOSiJAZsSjiBiYFBGsbjhYsjpQ9ukJ2MeBPm\n",
       "HQYGAH6CUF6urHX7AAAAAElFTkSuQmCC\n",
       "\" style=\"display:inline;vertical-align:middle;\" /></a><br>"
      ],
      "text/plain": [
       "expr: (x , 5 , omega)"
      ]
     },
     "execution_count": 2,
     "metadata": {},
     "output_type": "execute_result"
    }
   ],
   "source": [
    "# build up the expression from sub-expressions\n",
    "expr = ExprTuple(x, Literal(\"5\"), Variable(\"omega\", latexFormat = r\"\\omega\"))"
   ]
  },
  {
   "cell_type": "code",
   "execution_count": 3,
   "metadata": {},
   "outputs": [
    {
     "name": "stdout",
     "output_type": "stream",
     "text": [
      "Passed sanity check: built 'expr' is the same as the stored Expression.\n"
     ]
    }
   ],
   "source": [
    "# check that the built expression is the same as the stored expression\n",
    "%check_expr"
   ]
  },
  {
   "cell_type": "code",
   "execution_count": 4,
   "metadata": {},
   "outputs": [
    {
     "data": {
      "text/html": [
       "<table><tr><th>&nbsp;</th><th>core type</th><th>sub-expressions</th><th>expression</th></tr>\n",
       "<tr><td>0</td><td>ExprTuple</td><td>1, 2, 3</td><td><a class=\"ProveItLink\" href=\"../d0dadf8cba2294c8a3cda06f0bcba7f19422a4450/expr.ipynb\"><img src=\"data:image/png;base64,iVBORw0KGgoAAAANSUhEUgAAAEMAAAAVBAMAAADvM06qAAAAMFBMVEX////c3NwiIiJERESqqqqY\n",
       "mJh2dnZmZmYQEBDu7u4yMjJUVFTMzMyIiIi6uroAAAAs73DqAAAAAXRSTlMAQObYZgAAAV5JREFU\n",
       "KM9jYCAC8F3AJxsHIk6jCC2dIOaAzGc/ACRWoijp//8N1ZgFDAy8qPYs33YAVUkYAwPHBBSRDeiO\n",
       "mcHA8IoBvxJmB4YyIMWYu9G3FiKy9+4+CIMNiHlagHQBw1IgcxpDUEATRMaSYf4DMOMiSGsbAwPL\n",
       "AoY+IDOB4T6DD8xk7gYwlcDAycBwFRhsDQz/gNwJDJsRlrP9AQfoAZBDY4CWfQArYWDohTlOgYHt\n",
       "H9Qp3iCjQEpaQAKMf0DGAgGHAgP7R7B1DAwpDIwJYItMgfxA3g8MN8GK2BkYuBYALWZgPsDzj0EK\n",
       "yGBdwJAOdPRX5gbGCwzzFYDGFTB4CHB+AlrUW7HjOsgGoKcfMTBw2mamAd0+A2TD8eqNDJz9Agyc\n",
       "69fM+gXyPtcDBg4BuF8ewtOHAEoEsCbAeQEwBitSBOSiJAZsSjiBiYFBGsbjhYsjpQ9ukJ2MeBPm\n",
       "HQYGAH6CUF6urHX7AAAAAElFTkSuQmCC\n",
       "\" style=\"display:inline;vertical-align:middle;\" /></a></td></tr>\n",
       "<tr><td>1</td><td>Variable</td><td></td><td><a class=\"ProveItLink\" href=\"../../../packages/proveit/__pv_it/530be409e3083890784cf1d7b28c9e67e90af9360/expr.ipynb\"><img src=\"data:image/png;base64,iVBORw0KGgoAAAANSUhEUgAAAAsAAAAJBAMAAAAWSsseAAAAKlBMVEX///9ERETMzMwQEBAiIiKY\n",
       "mJju7u5mZmaqqqpUVFSIiIh2dnbc3NwAAAA/vyDhAAAAAXRSTlMAQObYZgAAAENJREFUCNdjYDi9\n",
       "8sTyBQxsG1hdmR0YuBm4LnAoMLAxcAowgADzAjB1VoEhgYH1wFoGrgSG3gBhhlMMDImrs3cFMAAA\n",
       "t0YN+iTRa+sAAAAASUVORK5CYII=\n",
       "\" style=\"display:inline;vertical-align:middle;\" /></a></td></tr>\n",
       "<tr><td>2</td><td>Literal</td><td></td><td><a class=\"ProveItLink\" href=\"../084027c5e7faf3e99fe505f569d22a93a32e5b730/expr.ipynb\"><img src=\"data:image/png;base64,iVBORw0KGgoAAAANSUhEUgAAAAkAAAAOBAMAAAAPuiubAAAAMFBMVEX///8iIiJERES6urqIiIjM\n",
       "zMxUVFRmZmYQEBCqqqp2dnbc3Nzu7u6YmJgyMjIAAADYGhJvAAAAAXRSTlMAQObYZgAAAE1JREFU\n",
       "CNdj4LvDvZKBgeP//wUMDHxlSxkYGNgYGBCki5sBAwPTAZ7PYG4GmFwfwKAIJA0YGhkY6jcwFDAw\n",
       "vGNg2M7A2c3AwFqetoEBAKS8EE1WXEJLAAAAAElFTkSuQmCC\n",
       "\" style=\"display:inline;vertical-align:middle;\" /></a></td></tr>\n",
       "<tr><td>3</td><td>Variable</td><td></td><td><a class=\"ProveItLink\" href=\"../9d7c4e1c5ee4d34a7826567c9ff37cf313ab71e60/expr.ipynb\"><img src=\"data:image/png;base64,iVBORw0KGgoAAAANSUhEUgAAAA0AAAAJBAMAAAAbVLtZAAAALVBMVEX///9mZmYyMjJERERUVFS6\n",
       "urqYmJju7u7c3NyIiIiqqqoQEBDMzMx2dnYAAACcB6guAAAAAXRSTlMAQObYZgAAAExJREFUCNdj\n",
       "YLjAwMBwegEDZwOQ7r7AwMvAUMDAmcAQw8C+gYHtAFCaywEkCCQWMPQyMNgwnAvgUGdguD1xy07p\n",
       "BQwMRY+O66kyMAAAM0ARC3HE760AAAAASUVORK5CYII=\n",
       "\" style=\"display:inline;vertical-align:middle;\" /></a></td></tr>\n",
       "</table>\n"
      ],
      "text/plain": [
       "0. (x , 5 , omega)\n",
       "   core type: ExprTuple\n",
       "   sub-expressions: 1, 2, 3\n",
       "1. x\n",
       "   core type: Variable\n",
       "   sub-expressions: \n",
       "2. 5\n",
       "   core type: Literal\n",
       "   sub-expressions: \n",
       "3. omega\n",
       "   core type: Variable\n",
       "   sub-expressions: "
      ]
     },
     "execution_count": 4,
     "metadata": {},
     "output_type": "execute_result"
    }
   ],
   "source": [
    "# display the expression information\n",
    "expr.exprInfo()"
   ]
  },
  {
   "cell_type": "code",
   "execution_count": null,
   "metadata": {},
   "outputs": [],
   "source": []
  }
 ],
 "metadata": {
  "kernelspec": {
   "display_name": "Python 3",
   "language": "python",
   "name": "python3"
  }
 },
 "nbformat": 4,
 "nbformat_minor": 0
}
