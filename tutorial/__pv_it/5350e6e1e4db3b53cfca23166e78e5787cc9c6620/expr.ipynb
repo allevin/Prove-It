{
 "cells": [
  {
   "cell_type": "markdown",
   "metadata": {},
   "source": [
    "Expression of type <a class=\"ProveItLink\" href=\"../../../doc/html/api/proveit.logic.Set.html\">Set</a>\n",
    "=======================\n",
    "# from context <a class=\"ProveItLink\" href=\"../../_context_.ipynb\">tutorial</a>"
   ]
  },
  {
   "cell_type": "code",
   "execution_count": 1,
   "metadata": {},
   "outputs": [],
   "source": [
    "# import Expression classes needed to build the expression\n",
    "from proveit._common_ import Q, R\n",
    "from proveit.logic import Implies, Set"
   ]
  },
  {
   "cell_type": "code",
   "execution_count": 2,
   "metadata": {},
   "outputs": [
    {
     "data": {
      "text/html": [
       "<strong id=\"expr\">expr:</strong> <a class=\"ProveItLink\" href=\"expr.ipynb\"><img src=\"data:image/png;base64,iVBORw0KGgoAAAANSUhEUgAAAFMAAAAVBAMAAADInc9CAAAAMFBMVEX///9ERETc3NyqqqpUVFS6\n",
       "urrMzMwyMjIQEBCIiIh2dnYiIiLu7u5mZmaYmJgAAABJJ2g3AAAAAXRSTlMAQObYZgAAAW1JREFU\n",
       "KM9jYGDgu8dACLCtUgBRPLsYCAO2ZhDJ+QFEMq1d5YlNzZT/Lo6VQPo6iMPVACKXJzCw7MGm9iMD\n",
       "w4kCBoYVcKXHBYBEC0LBAbjNPxkYWL4iK60Gse7DFTDUwBic3xgY2L8hKeX9BmKtD4ArDYExGIGy\n",
       "+Q5ISvUFwEoN4Eq5JkAZ/A4MzDsZoEp5gY6+/wDEkk8AcXeDwV+o0nzPuZ0g+j2IyABaux/syh9I\n",
       "HmcuhdDzDzDYg0xgv8DAkNIGU8T8CzmQjreCKQmwG4BAHGhxBFDTbxCHvQc5eqogwfEF6BGQUu4F\n",
       "QIIF6NZ6kCjYIphbN0JUsv0DOnMBzK1cG4CqAjSnsbUiO9UBEaz3J/AgBRbXngVchgpIStVhwQpM\n",
       "IPMn6CHHVkjVbAOGBIRSIQh1Vv7LBAbeygnISoH6E/iQlCagpxoUpRfC8SVYsFI+iFKW/1/xKQWn\n",
       "V56dkGDpeIAvF0CCh28xcXkLAPbUZ+IXkf5UAAAAAElFTkSuQmCC\n",
       "\" style=\"display:inline;vertical-align:middle;\" /></a><br>"
      ],
      "text/plain": [
       "expr: {Q => R}"
      ]
     },
     "execution_count": 2,
     "metadata": {},
     "output_type": "execute_result"
    }
   ],
   "source": [
    "# build up the expression from sub-expressions\n",
    "expr = Set(Implies(Q, R))"
   ]
  },
  {
   "cell_type": "code",
   "execution_count": 3,
   "metadata": {},
   "outputs": [
    {
     "name": "stdout",
     "output_type": "stream",
     "text": [
      "Passed sanity check: built 'expr' is the same as the stored Expression.\n"
     ]
    }
   ],
   "source": [
    "# check that the built expression is the same as the stored expression\n",
    "%check_expr"
   ]
  },
  {
   "cell_type": "code",
   "execution_count": 4,
   "metadata": {},
   "outputs": [
    {
     "data": {
      "text/html": [
       "<table><tr><th>&nbsp;</th><th>core type</th><th>sub-expressions</th><th>expression</th></tr>\n",
       "<tr><td>0</td><td>Operation</td><td>operator:&nbsp;1<br>operands:&nbsp;2<br></td><td><a class=\"ProveItLink\" href=\"expr.ipynb\"><img src=\"data:image/png;base64,iVBORw0KGgoAAAANSUhEUgAAAFMAAAAVBAMAAADInc9CAAAAMFBMVEX///9ERETc3NyqqqpUVFS6\n",
       "urrMzMwyMjIQEBCIiIh2dnYiIiLu7u5mZmaYmJgAAABJJ2g3AAAAAXRSTlMAQObYZgAAAW1JREFU\n",
       "KM9jYGDgu8dACLCtUgBRPLsYCAO2ZhDJ+QFEMq1d5YlNzZT/Lo6VQPo6iMPVACKXJzCw7MGm9iMD\n",
       "w4kCBoYVcKXHBYBEC0LBAbjNPxkYWL4iK60Gse7DFTDUwBic3xgY2L8hKeX9BmKtD4ArDYExGIGy\n",
       "+Q5ISvUFwEoN4Eq5JkAZ/A4MzDsZoEp5gY6+/wDEkk8AcXeDwV+o0nzPuZ0g+j2IyABaux/syh9I\n",
       "HmcuhdDzDzDYg0xgv8DAkNIGU8T8CzmQjreCKQmwG4BAHGhxBFDTbxCHvQc5eqogwfEF6BGQUu4F\n",
       "QIIF6NZ6kCjYIphbN0JUsv0DOnMBzK1cG4CqAjSnsbUiO9UBEaz3J/AgBRbXngVchgpIStVhwQpM\n",
       "IPMn6CHHVkjVbAOGBIRSIQh1Vv7LBAbeygnISoH6E/iQlCagpxoUpRfC8SVYsFI+iFKW/1/xKQWn\n",
       "V56dkGDpeIAvF0CCh28xcXkLAPbUZ+IXkf5UAAAAAElFTkSuQmCC\n",
       "\" style=\"display:inline;vertical-align:middle;\" /></a></td></tr>\n",
       "<tr><td>1</td><td>Literal</td><td></td><td><a class=\"ProveItLink\" href=\"../../../packages/proveit/logic/set_theory/enumeration/__pv_it/07381ed5b23806e8d7914b78cb6667769e3708dd0/expr.ipynb\"><img src=\"data:image/png;base64,iVBORw0KGgoAAAANSUhEUgAAAB4AAAAOBAMAAADKyLEKAAAAMFBMVEX///8iIiIQEBCIiIjMzMzc\n",
       "3Nyqqqp2dnZEREQyMjK6urru7u5mZmZUVFSYmJgAAACI6eGPAAAAAXRSTlMAQObYZgAAALRJREFU\n",
       "CNdjYGDgu3Nm3wIGBJjHwN0PZW5yYGDgLWBgyITy8zcwMMQDxZyh/INAvD6BgcEFypcB4vjPDiBm\n",
       "TPFRrhs/LjMwMP//38rAwCbKEMPA9gEkE3fp0waG+AUMRxh4JkC01T9guPTOOICBEWgVH5C//wHD\n",
       "H5D4fqCz9oCMDGD4DLaegRXslLMMDMpAgxlOMmQxHDRgYG5gYLBk4D7KcIe7gOHC2rt9QCXsh40Z\n",
       "GCKMGQDRkC8N/Ph1XAAAAABJRU5ErkJggg==\n",
       "\" style=\"display:inline;vertical-align:middle;\" /></a></td></tr>\n",
       "<tr><td>2</td><td>ExprTuple</td><td>3</td><td><a class=\"ProveItLink\" href=\"../4eb6ad46574ef215fe0453469f46d07c7e3d81f00/expr.ipynb\"><img src=\"data:image/png;base64,iVBORw0KGgoAAAANSUhEUgAAAE0AAAAVBAMAAADx+n4ZAAAAMFBMVEX////c3NwiIiJERESqqqqY\n",
       "mJh2dnZmZmYQEBDu7u4yMjJUVFTMzMyIiIi6uroAAAAs73DqAAAAAXRSTlMAQObYZgAAAYFJREFU\n",
       "KM9jYCAW8F0gqCQORJwGEWJl2diU8+7/vdvqAgP7ASB7JRCzrWFg2DQBi0J+AwbOLgaGBUAtQHM4\n",
       "FwOFODbAZTnhrPNA2f0PGMKA0kBjuBSAQuw/4bJccKPvA21cf4BhBgPDKyCvHmQ/2z+E1+BGWzAw\n",
       "8PxmYGB2YChjYGD8DBJi+4JwVi6MAVTjBLSarYBhKdDGryAh5j8gskgJBPQLIMp4ft+tAIUDywKG\n",
       "PgYGJrDL+BuQ/On1ABIuPxlYQNr5Ghj+wVT4JyCp41wBVsjcALaagecDWB3IuwwrkMPvVCYk+DYw\n",
       "MELVtQCD4QPICWDnQd2nZAkNvgAG1m8Qe02BSv4x3j1w4gGScd6I4GP/yzCBgXUBQzqQmzSNIcUQ\n",
       "SRnjAijDHuiVv4wBoHB5BDJ2V64KAw9CHbMAxDPF//cyMFTdBbrsAQMHRMyGIQahjgc9OQDjjRUS\n",
       "HOZ8C/AkwFxougImiv8PcCvjBJkhDWaeaMVjHDfIbYyE0/0dBgYAR49iSfkIcPUAAAAASUVORK5C\n",
       "YII=\n",
       "\" style=\"display:inline;vertical-align:middle;\" /></a></td></tr>\n",
       "<tr><td>3</td><td>Operation</td><td>operator:&nbsp;4<br>operands:&nbsp;5<br></td><td><a class=\"ProveItLink\" href=\"../42da45cbf8bed3ea5db43830de3adfb59444ab2a0/expr.ipynb\"><img src=\"data:image/png;base64,iVBORw0KGgoAAAANSUhEUgAAAEAAAAASBAMAAAAZAcURAAAAMFBMVEX///+YmJiqqqq6uroQEBBE\n",
       "RETu7u4iIiLMzMwyMjKIiIhUVFRmZmZ2dnbc3NwAAADS0us6AAAAAXRSTlMAQObYZgAAARNJREFU\n",
       "KM9jYGDgu3N3FwMWsPr/7q2zQIybDQzcZdhUfGVgSJnAwJAZAGR7I4QTYAyOXwwM3J8ZGKaDOOfh\n",
       "wgzTYAyuHwwMnD8YeH6AOPcN4AqsYQxWBwaG/g0M7wPAChTgCngXQBn8GxiYqoCGC4A48Q1Agqcc\n",
       "DP5AFfTvWuMFpOrBtn9BcjzTZAi9PoFBvwEqxfQX2XuZzmAqBGwLw3cQm9MNSZ5jLsRLvxkY3gMV\n",
       "zAexQUbB3VAKkef4yMAgfwEoZ/BqBYczshM2IILh/AI2Bt6yC7yqD5AUvIQFwwegOxc8BAbM3OUK\n",
       "DA0IBXEQKif+9wIGnlngQGFtYERS0IAZa6wHLBnwAu7/n/Er4HARwC0JAPZeS/+HiRyVAAAAAElF\n",
       "TkSuQmCC\n",
       "\" style=\"display:inline;vertical-align:middle;\" /></a></td></tr>\n",
       "<tr><td>4</td><td>Literal</td><td></td><td><a class=\"ProveItLink\" href=\"../../../packages/proveit/logic/boolean/implication/__pv_it/e5c030cabcb650938f92dee8256fe11cd12bf9b30/expr.ipynb\"><img src=\"data:image/png;base64,iVBORw0KGgoAAAANSUhEUgAAABMAAAANBAMAAAC5okgUAAAALVBMVEX////c3NxERETMzMwQEBCq\n",
       "qqoiIiJmZmaIiIh2dnZUVFS6uroyMjLu7u4AAACPpZJTAAAAAXRSTlMAQObYZgAAAD1JREFUCNdj\n",
       "YAABXgY44LkAZ3IvQAjPABFlaSCQV4AQjtkAZ/IegbNt5sLUpunC5aPgLMYDcCaTAJzJDCIA2yMN\n",
       "HCCUuIIAAAAASUVORK5CYII=\n",
       "\" style=\"display:inline;vertical-align:middle;\" /></a></td></tr>\n",
       "<tr><td>5</td><td>ExprTuple</td><td>6, 7</td><td><a class=\"ProveItLink\" href=\"../2d3af0b4341466a72efcf671ab60e9aa254cfba10/expr.ipynb\"><img src=\"data:image/png;base64,iVBORw0KGgoAAAANSUhEUgAAADUAAAAVBAMAAAAUZLt1AAAAMFBMVEX////c3NwiIiJERESqqqqY\n",
       "mJh2dnZmZmYQEBDu7u4yMjJUVFTMzMyIiIi6uroAAAAs73DqAAAAAXRSTlMAQObYZgAAAVRJREFU\n",
       "KM99kr1LQlEYxn/m59Xrx1JLQw2tDQ1RQ1D/gVtTlETQEEKTqw41Vk7leCGCggSprYgchQbv1lCh\n",
       "NDZJ1hCa9p7juWEgXbjvOe/zvDzv14H/voQ7El5X5kGZidzOb8hT//a6TLgq1wv5Q5dwVfTINpQc\n",
       "HIhLvHUqSKRiKPsbYj1WBZLw6LRA4S/DxbuCdCnBm3h5pR3qGc5fgHoF/wo58LUVFPowXLJCYFb8\n",
       "Xc5E7VOHdw1Xv3s8kCPgcAhjOlOyYLhGkbQkSRToeWg6Y7hFLYvd0pwqk3Ovvw5MDbg9Kbil5L10\n",
       "tmTfyGjNeYF7vpdqrQlFr728axF02BZ385itORnPu65XVBruuOrhVa3iJjuDjXWUgpPljku47BJt\n",
       "EknpLEusSUxqaEkys+Cg9IWEzD04vMCs2RHc95t/OUtimdTX2r6Y4RcQU/q+0W/iGX4ABFJbA74O\n",
       "PJUAAAAASUVORK5CYII=\n",
       "\" style=\"display:inline;vertical-align:middle;\" /></a></td></tr>\n",
       "<tr><td>6</td><td>Variable</td><td></td><td><a class=\"ProveItLink\" href=\"../../../packages/proveit/__pv_it/98124f92e6e1fc3772af50ac63eaa1f5624776f20/expr.ipynb\"><img src=\"data:image/png;base64,iVBORw0KGgoAAAANSUhEUgAAAA8AAAASBAMAAAB2sJk8AAAAMFBMVEX///+YmJiqqqq6uroQEBBE\n",
       "RETu7u4iIiLMzMwyMjKIiIhUVFRmZmZ2dnbc3NwAAADS0us6AAAAAXRSTlMAQObYZgAAAHxJREFU\n",
       "CNdjYGDgu3N3FwMI3Gxg4C4D0pkBQMIbiKeDRM8nMPD8ADHuGzC8DwAzFBjOC4AY8Q0M9Qkgxhcw\n",
       "YmBg+svA8B3E4HRjYJgPYug3ALHBqxUczkAOb9kFXtUHIGHrucsVGBrAtrI2MEIZByzBNAP3/88Q\n",
       "BocL0BoActoerD1tNT4AAAAASUVORK5CYII=\n",
       "\" style=\"display:inline;vertical-align:middle;\" /></a></td></tr>\n",
       "<tr><td>7</td><td>Variable</td><td></td><td><a class=\"ProveItLink\" href=\"../../../packages/proveit/__pv_it/e24df48bc297bbcf3538a62f5b4f635a392abfce0/expr.ipynb\"><img src=\"data:image/png;base64,iVBORw0KGgoAAAANSUhEUgAAABAAAAAOBAMAAADUAYG5AAAAMFBMVEX///92dnaYmJjc3NxmZmYi\n",
       "IiKqqqq6urrMzMwQEBDu7u4yMjJERERUVFSIiIgAAAArjcN0AAAAAXRSTlMAQObYZgAAAG1JREFU\n",
       "CNdjYGB4+//unX0MIPCHgWHlBiDN8Y+Bgfc7kMH3g4GBG4gZeCYwMPRfADL4LzCwxYHU9t97Mg+s\n",
       "6f0ChvwGEOMkWBYI/jIw2IMYHJ8YGPQFoMb4P+ACGvMBqP6BEcOS838fMLDsewAAOpQikqrQNfgA\n",
       "AAAASUVORK5CYII=\n",
       "\" style=\"display:inline;vertical-align:middle;\" /></a></td></tr>\n",
       "</table>\n"
      ],
      "text/plain": [
       "0. {Q => R}\n",
       "   core type: Operation\n",
       "   operator: 1\n",
       "   operands: 2\n",
       "1. Set\n",
       "   core type: Literal\n",
       "   sub-expressions: \n",
       "2. (Q => R)\n",
       "   core type: ExprTuple\n",
       "   sub-expressions: 3\n",
       "3. Q => R\n",
       "   core type: Operation\n",
       "   operator: 4\n",
       "   operands: 5\n",
       "4. =>\n",
       "   core type: Literal\n",
       "   sub-expressions: \n",
       "5. (Q , R)\n",
       "   core type: ExprTuple\n",
       "   sub-expressions: 6, 7\n",
       "6. Q\n",
       "   core type: Variable\n",
       "   sub-expressions: \n",
       "7. R\n",
       "   core type: Variable\n",
       "   sub-expressions: "
      ]
     },
     "execution_count": 4,
     "metadata": {},
     "output_type": "execute_result"
    }
   ],
   "source": [
    "# display the expression information\n",
    "expr.exprInfo()"
   ]
  },
  {
   "cell_type": "code",
   "execution_count": null,
   "metadata": {},
   "outputs": [],
   "source": []
  }
 ],
 "metadata": {
  "kernelspec": {
   "display_name": "Python 3",
   "language": "python",
   "name": "python3"
  }
 },
 "nbformat": 4,
 "nbformat_minor": 0
}
