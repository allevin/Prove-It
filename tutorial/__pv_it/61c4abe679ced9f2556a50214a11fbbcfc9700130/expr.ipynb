{
 "cells": [
  {
   "cell_type": "markdown",
   "metadata": {},
   "source": [
    "Expression of type <a class=\"ProveItLink\" href=\"../../../doc/html/api/proveit.Lambda.html\">Lambda</a>\n",
    "=======================\n",
    "# from context <a class=\"ProveItLink\" href=\"../../_context_.ipynb\">tutorial</a>"
   ]
  },
  {
   "cell_type": "code",
   "execution_count": 1,
   "metadata": {},
   "outputs": [],
   "source": [
    "# import Expression classes needed to build the expression\n",
    "import sys\n",
    "sys.path.insert(1, \"../..\")\n",
    "from demo_operations import Factorial, Multiply\n",
    "from proveit import Lambda\n",
    "from proveit._common_ import y"
   ]
  },
  {
   "cell_type": "code",
   "execution_count": 2,
   "metadata": {},
   "outputs": [
    {
     "data": {
      "text/html": [
       "<strong id=\"expr\">expr:</strong> <a class=\"ProveItLink\" href=\"expr.ipynb\"><img src=\"data:image/png;base64,iVBORw0KGgoAAAANSUhEUgAAAG4AAAAVCAMAAACQYCvLAAAANlBMVEX///8UFBQNDQ2YmJhUVFQy\n",
       "MjIQEBBEREQiIiKqqqrMzMyIiIi6urrc3NxmZmZ2dnbu7u4AAACrLjZHAAAAAXRSTlMAQObYZgAA\n",
       "AWtJREFUSMfNltmSgyAQRUlEVtn+/2eHpVUaSBXwNL6g5p662Bsh5H9fl94Ej2sDUnSd8Yynxap1\n",
       "9PTrjAmhsMuk3gmlD6KE062SzO+kLZwQ1NU6+RGPE9Jixr8zSDiX0dNZlwMMG8eElPWTLeFoEWKE\n",
       "qpZOI2x55+LqyJUyqQPoBN4ZrcN3HgVrEDCq3ZCGQ9LkSZQkNjlwPrbz1FRRyb3TIcUPuSENPSAX\n",
       "jMTNs1Ru4a6570egi4W3P8tthxS/2g1rHGREpU+VKbwqqPHXEVpNg9u5QQZ2SKNVZWdTceinSBs7\n",
       "a+oSg202yCCYSKP8E8yY/1Q3nI7tFOprDklokFGp9JrY52kHNr66wvEMDlwp6MlBRTfIqBEqzT1V\n",
       "Cu651jaYqTYHrkVGbf5qYERH2V0GTkwOsddiBsGaPMSoSDdy8tDKDTuDDDQu5Um4t+0nD6AZpNf4\n",
       "HGkZQzx/0Bo6ifQaajYOE7P75yH3+h9LqxCcLVsAKAAAAABJRU5ErkJggg==\n",
       "\" style=\"display:inline;vertical-align:middle;\" /></a><br>"
      ],
      "text/plain": [
       "expr: y -> (y * y!)"
      ]
     },
     "execution_count": 2,
     "metadata": {},
     "output_type": "execute_result"
    }
   ],
   "source": [
    "# build up the expression from sub-expressions\n",
    "expr = Lambda(y, Multiply(y, Factorial(y)))"
   ]
  },
  {
   "cell_type": "code",
   "execution_count": 3,
   "metadata": {},
   "outputs": [
    {
     "name": "stdout",
     "output_type": "stream",
     "text": [
      "Passed sanity check: built 'expr' is the same as the stored Expression.\n"
     ]
    }
   ],
   "source": [
    "# check that the built expression is the same as the stored expression\n",
    "%check_expr"
   ]
  },
  {
   "cell_type": "code",
   "execution_count": 4,
   "metadata": {},
   "outputs": [
    {
     "data": {
      "text/html": [
       "<table><tr><th>&nbsp;</th><th>core type</th><th>sub-expressions</th><th>expression</th></tr>\n",
       "<tr><td>0</td><td>Lambda</td><td>parameter:&nbsp;6<br>body:&nbsp;1<br></td><td><a class=\"ProveItLink\" href=\"expr.ipynb\"><img src=\"data:image/png;base64,iVBORw0KGgoAAAANSUhEUgAAAG4AAAAVCAMAAACQYCvLAAAANlBMVEX///8UFBQNDQ2YmJhUVFQy\n",
       "MjIQEBBEREQiIiKqqqrMzMyIiIi6urrc3NxmZmZ2dnbu7u4AAACrLjZHAAAAAXRSTlMAQObYZgAA\n",
       "AWtJREFUSMfNltmSgyAQRUlEVtn+/2eHpVUaSBXwNL6g5p662Bsh5H9fl94Ej2sDUnSd8Yynxap1\n",
       "9PTrjAmhsMuk3gmlD6KE062SzO+kLZwQ1NU6+RGPE9Jixr8zSDiX0dNZlwMMG8eElPWTLeFoEWKE\n",
       "qpZOI2x55+LqyJUyqQPoBN4ZrcN3HgVrEDCq3ZCGQ9LkSZQkNjlwPrbz1FRRyb3TIcUPuSENPSAX\n",
       "jMTNs1Ru4a6570egi4W3P8tthxS/2g1rHGREpU+VKbwqqPHXEVpNg9u5QQZ2SKNVZWdTceinSBs7\n",
       "a+oSg202yCCYSKP8E8yY/1Q3nI7tFOprDklokFGp9JrY52kHNr66wvEMDlwp6MlBRTfIqBEqzT1V\n",
       "Cu651jaYqTYHrkVGbf5qYERH2V0GTkwOsddiBsGaPMSoSDdy8tDKDTuDDDQu5Um4t+0nD6AZpNf4\n",
       "HGkZQzx/0Bo6ifQaajYOE7P75yH3+h9LqxCcLVsAKAAAAABJRU5ErkJggg==\n",
       "\" style=\"display:inline;vertical-align:middle;\" /></a></td></tr>\n",
       "<tr><td>1</td><td>Operation</td><td>operator:&nbsp;2<br>operands:&nbsp;3<br></td><td><a class=\"ProveItLink\" href=\"../69fa53de9e46693cd1fd89f42c93a3b81c281d2e0/expr.ipynb\"><img src=\"data:image/png;base64,iVBORw0KGgoAAAANSUhEUgAAADMAAAASBAMAAAAEf/uKAAAAMFBMVEX///+YmJhUVFQyMjIQEBBE\n",
       "REQiIiKqqqrMzMyIiIi6urrc3NxmZmZ2dnbu7u4AAADXeCicAAAAAXRSTlMAQObYZgAAAOxJREFU\n",
       "GNNjYMABngTgkmHY/wGn1PsEnFL8Bgg2cwMDAzeCz6LAwHfnAsP+B0A2dwYDw7YGkOjbswzc/9gO\n",
       "MPByfWCYD1a3rQEkCwQX1jNwfmC9wNDOk8AQChbhzoBo4ig4xsAawCTA8IBlAsNPiPHbIJr4GDwZ\n",
       "+CfwFjAw1D/g+IEixcD+j6G/gRNowmEGTgcUAxl4DBimMHAAnWbDwKqA6gzmAwxBYMYhhvUCDCiO\n",
       "51Hg+ggOjaczz29A9TJf5Jzf0OC9hhFKvOAAZErgc0eTUGN4UgCi2S4A/Y0KchliIZ6YeQrduMo5\n",
       "C0AUAFOPQUpAvcHQAAAAAElFTkSuQmCC\n",
       "\" style=\"display:inline;vertical-align:middle;\" /></a></td></tr>\n",
       "<tr><td>2</td><td>Literal</td><td></td><td><a class=\"ProveItLink\" href=\"../7fa9fd20fee7806a99050bf24ffcbd2251e9b7fe0/expr.ipynb\"><img src=\"data:image/png;base64,iVBORw0KGgoAAAANSUhEUgAAAAsAAAAKBAMAAACQ3rmwAAAAElBMVEX///8iIiLc3NzMzMwyMjIA\n",
       "AAASH0o5AAAAAXRSTlMAQObYZgAAACtJREFUCNdjcGZgYFBhYFA0YGASZgBhIAvINQJygFxBAyQK\n",
       "IghVAtUA0Q4AhEYDuQjrDycAAAAASUVORK5CYII=\n",
       "\" style=\"display:inline;vertical-align:middle;\" /></a></td></tr>\n",
       "<tr><td>3</td><td>ExprTuple</td><td>6, 4</td><td><a class=\"ProveItLink\" href=\"../e82d109955735dd9e5a3b7504668a3346e64e4d60/expr.ipynb\"><img src=\"data:image/png;base64,iVBORw0KGgoAAAANSUhEUgAAADEAAAAVBAMAAAAdjxsPAAAAMFBMVEX////c3NwiIiJERESqqqqY\n",
       "mJh2dnZmZmYQEBDu7u4yMjJUVFTMzMyIiIi6uroAAAAs73DqAAAAAXRSTlMAQObYZgAAARFJREFU\n",
       "KM91kb1OAkEQx39yfNx5d0BvwT0CibHnDaSyNBcbKhMqC0mQwppcQnOd1xhjxyNQ2NnwABI/ShvP\n",
       "Xg2zs6DF4iS785v97+zs7ML/1lzuWDw106OznHdpLMTfO0qnhAJi97CbBE7AzxylJQk5vLvl/Tl4\n",
       "PS4gGKR0NNVSZQj1IbcyN0uedbclL4VqwRQeGgmHqlgK+9LlhB/I/CXfqliq9yAqjcJxFn3Z4krx\n",
       "QpVriS+JJ1ZRijI97UjiO7w5AVsyVisYiBvx0dfO/0hu/SbxbHXVJv/8pS7sv+C3TfKZjFe2hL5O\n",
       "LSVMAnMP6WJDYuf6C5XUdG2UDckzyaNyQHU1Fh/LsCQWmhp7u377CdbOhEjDOIjfXAAAAABJRU5E\n",
       "rkJggg==\n",
       "\" style=\"display:inline;vertical-align:middle;\" /></a></td></tr>\n",
       "<tr><td>4</td><td>Operation</td><td>operator:&nbsp;5<br>operand:&nbsp;6<br></td><td><a class=\"ProveItLink\" href=\"../26a0e35b392fe0647ba3a0907c7e4dd1d46cdbc60/expr.ipynb\"><img src=\"data:image/png;base64,iVBORw0KGgoAAAANSUhEUgAAAA8AAAASBAMAAAB2sJk8AAAAMFBMVEX///+YmJhUVFQyMjIQEBBE\n",
       "REQiIiKqqqrMzMyIiIi6urrc3NxmZmZ2dnbu7u4AAADXeCicAAAAAXRSTlMAQObYZgAAAH5JREFU\n",
       "CNdjYACDJwEQmmH/ByjjfQKUwW8AZbAoMPDducCw/wHbAQZerg8M8xlYLzC08yQwhDIwCTA8YJnA\n",
       "8JOBt4CBof4Bxw8GzgYGhsMMnA4MHA8YGGwYWBXARhxiWC8ANvnpzPMboJZeA8swJfC5gxlsF4Cm\n",
       "ggD7zFNgGgDXOyBURHxQQwAAAABJRU5ErkJggg==\n",
       "\" style=\"display:inline;vertical-align:middle;\" /></a></td></tr>\n",
       "<tr><td>5</td><td>Literal</td><td></td><td><a class=\"ProveItLink\" href=\"../d6af88116966bca28fcbee5fe103a74f1e8a81d50/expr.ipynb\"><img src=\"data:image/png;base64,iVBORw0KGgoAAAANSUhEUgAAAAMAAAAOBAMAAAAYmLtSAAAALVBMVEX////MzMyIiIiqqqqYmJh2\n",
       "dnZmZmZUVFQyMjIiIiLc3NxEREQQEBDu7u4AAACiA/ybAAAAAXRSTlMAQObYZgAAADBJREFUCNdj\n",
       "uLOBYd0DhnsTGPgaGHgKGDgTGLgDGNgdGFgNGJgEGBgvMAABUPbOBgD2TQqw6cTpzgAAAABJRU5E\n",
       "rkJggg==\n",
       "\" style=\"display:inline;vertical-align:middle;\" /></a></td></tr>\n",
       "<tr><td>6</td><td>Variable</td><td></td><td><a class=\"ProveItLink\" href=\"../../../packages/proveit/__pv_it/f8b9edf8e16034727f0aad55bb83e392c3db40d40/expr.ipynb\"><img src=\"data:image/png;base64,iVBORw0KGgoAAAANSUhEUgAAAAsAAAANBAMAAACN24kIAAAAMFBMVEX///+YmJhUVFQyMjIQEBBE\n",
       "REQiIiKqqqrMzMyIiIi6urrc3NxmZmZ2dnbu7u4AAADXeCicAAAAAXRSTlMAQObYZgAAAFhJREFU\n",
       "CNdj4LtzgWH/AwZerg8M8xkY2nkSGEIZGB6wTGD4ycDAUP+A4weQOszA6QCkbBhYFYDUIYb1AkDq\n",
       "6czzGxhA4BoQMyXwuQMptgusF4AU+8xTQBIAUqMVoSp/SLMAAAAASUVORK5CYII=\n",
       "\" style=\"display:inline;vertical-align:middle;\" /></a></td></tr>\n",
       "</table>\n"
      ],
      "text/plain": [
       "0. y -> (y * y!)\n",
       "   core type: Lambda\n",
       "   parameter: 6\n",
       "   body: 1\n",
       "1. y * y!\n",
       "   core type: Operation\n",
       "   operator: 2\n",
       "   operands: 3\n",
       "2. *\n",
       "   core type: Literal\n",
       "   sub-expressions: \n",
       "3. (y , y!)\n",
       "   core type: ExprTuple\n",
       "   sub-expressions: 6, 4\n",
       "4. y!\n",
       "   core type: Operation\n",
       "   operator: 5\n",
       "   operand: 6\n",
       "5. !\n",
       "   core type: Literal\n",
       "   sub-expressions: \n",
       "6. y\n",
       "   core type: Variable\n",
       "   sub-expressions: "
      ]
     },
     "execution_count": 4,
     "metadata": {},
     "output_type": "execute_result"
    }
   ],
   "source": [
    "# display the expression information\n",
    "expr.exprInfo()"
   ]
  },
  {
   "cell_type": "code",
   "execution_count": null,
   "metadata": {},
   "outputs": [],
   "source": []
  }
 ],
 "metadata": {
  "kernelspec": {
   "display_name": "Python 3",
   "language": "python",
   "name": "python3"
  }
 },
 "nbformat": 4,
 "nbformat_minor": 0
}
