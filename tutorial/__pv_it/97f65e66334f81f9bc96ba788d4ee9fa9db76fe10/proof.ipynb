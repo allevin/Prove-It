{
 "cells": [
  {
   "cell_type": "markdown",
   "metadata": {},
   "source": [
    "Show the Proof\n",
    "========"
   ]
  },
  {
   "cell_type": "code",
   "execution_count": 1,
   "metadata": {},
   "outputs": [
    {
     "data": {
      "text/html": [
       "<table><tr><th>&nbsp;</th><th>step type</th><th>requirements</th><th>statement</th></tr>\n",
       "<tr><td>0</td><td>assumption</td><td></td><td><span style=\"font-size:20px;\"><a class=\"ProveItLink\" href=\"../cc34f7b5315f3d6574fd3a62154971f4c078f5e40/expr.ipynb\"><img src=\"data:image/png;base64,iVBORw0KGgoAAAANSUhEUgAAANUAAAAaBAMAAADS0ATRAAAAMFBMVEX///+6urp2dnaqqqoiIiIQ\n",
       "EBBERETu7u6IiIjc3NwyMjJUVFSYmJhmZmbMzMwAAAD0pS5FAAAAAXRSTlMAQObYZgAAA1lJREFU\n",
       "SMe9Vl1IFFEU/tyfmZ39md2nKCIUI9QgGAgi6MelHhJ6GSwwoWILXDQCl8gKenAgKCFLCRHFl62X\n",
       "ECMUQjJDt/ChnlyjxDBhiXqoMJcCpdTs3jv37swOpj2sHtgz934cznfuOeeeuwDUD9hwcU+Y32ft\n",
       "G8+FzhjVvgVshpyhKpAEEhvhfSv/vmD6guCK0sWrQhD4RheHnwzRldrPoVCGVUpw7aSLhwU5TZi4\n",
       "q6Md4M8lK5nH1Um+SqwgXHMlQCX5oSUHvczjojGEtIJwtUWA8TRZ1OSgpjyuYEV3d0dhOqKR/EZJ\n",
       "2EXJHCRpgkuiuZuPx4+s70dhVYa2FvYbkOdpR5A8KuVD+6cAV1pweQ2iRoCGPLezpa3MScTcXnsz\n",
       "Tep9z9x8ND/7lmfqnRjUH8An6tufAi5hLHWSDA16xHFSJqWPmmyHnLRTFaVRzBZmw6iPodSKDVxm\n",
       "AEEd/rQDg2+xdE8FOwIBStCGw8SZTs/ZC4yx8D3wpTiNfGcmRfaQbFyfyaEm4Ta4hRlWIIZA1IFB\n",
       "ElMoHKEjYpBFmqW6w4C7ioWT8ojrcHPb1QSaEwhaXPJpmgRIYnCOMO0x4E07MISjNi7gVI4reJSo\n",
       "5hQL6xvR5QO3M8E081PNc2KOTJ1xebkJvzrNGUw7McylOZeXdovyBzLPYWW76EM0DJCcJwa9mt9M\n",
       "ybsVzeLy0HHzFl+5CakuleKWXREnxq6XmUxyhNe+LG6RIyXt9ws4RM5ehEdWQ/XoFleYFqWaumMm\n",
       "lIDIbviSTgyNohSk0d1Lkq4Y9p43uVjn4xdp2Hg8bsgRyFkbF4nRXYMD3IT7PQ931oHJkytPRSdH\n",
       "IdeXlbbS9o/kcwVpPKqu4jp7RjWoMYtLSndpTRFs4SZsAfxESHdiNqn9x4zidXUlXQjQGoZioukY\n",
       "l3LW2HsfuMxNyDBVeqEuQIp+t2EOsYDyVbiu3Jgqg3yOcs3OvLf1IXoeDCcyINeCmWAC6hJ2L7er\n",
       "VYYNc0juTZGTq3DxopJ6WTvx0OwgRfZp1oMUFG+jZn+k8galeCtZpkwul77WuBVcc3UJyHxDZ8UX\n",
       "EbQNc0gX/95l+jiz7vsfLv8Jog7yQMlPTDQ7tpaEjpkz9PkaNv32TdB8P8rWw1b5f3gRmyt/ATXl\n",
       "7zwy9ARtAAAAAElFTkSuQmCC\n",
       "\" style=\"display:inline;vertical-align:middle;\" /></a> <a class=\"ProveItLink\" href=\"proof.ipynb\" style=\"text-decoration: none\">&#x22A2;&nbsp;</a><a class=\"ProveItLink\" href=\"../2e0510d8a2c6ac8754072c25d302dfbfdfd144ab0/expr.ipynb\"><img src=\"data:image/png;base64,iVBORw0KGgoAAAANSUhEUgAAAL8AAAAXBAMAAACoi4O2AAAAMFBMVEX///8QEBC6urrMzMxUVFRm\n",
       "ZmZERETc3NwyMjKqqqp2dnaIiIiYmJgiIiLu7u4AAAAU9Wx4AAAAAXRSTlMAQObYZgAAAvNJREFU\n",
       "SMe1VV1IFFEU/tbZndmf2dmBHiQr2Yd+Hnpwo6QIQlHRhwinUIMkWHtYIR/cB0lIgqUegogY6Aei\n",
       "IHsITUEW+oFQcuklKMJ9rpcVooeiXEjtB9HOvXPvzjiBRqwHZu65354537nnnHsW2GopbYXT/WJ9\n",
       "RU+RKW+r4TXWudh2ooNpSrOAQingMVNuVCXuRA7oy5ISrqSFkAu0aOmqEDSNAg/owXQFeuOwheyq\n",
       "EMwmgTmLlPoKNA/oY8PDl6pT2kF6OinWmlwFUmm7nMm83/xjLcUXeyPsJ2Ass9JSmrTJjnu9QJQO\n",
       "1Ar0r/PVODHDv0w62y9nuqhwF53NUWe5s9Q94Meg/AaOsQyFC8BnvCvsAiJ0mN0wcl7/NRYauOJU\n",
       "XrkCrVZuEHVYdRNhy4chtjjxaIwpAQJGMYub5MwE4ogVhG/jWXeB9lA9BAco/B5E8sLCiSWYRrDo\n",
       "w6CuynZNsvvbzsMrE3EhLtv2+b5vJSyUoLsExk56zUHNCpNW/o7nEbB8GBJFDwGwQxIYuUOkTbY8\n",
       "TekW/7hOHJkTxExOEBAmosUXUujyY2iyBEGAlV37DsNJEfpbKI+l9oAddk58cs12CeLs1p/FEWFC\n",
       "FWPSMP0w6cf4NXByRSl/HSvjJRWLpe82Ha0G1912GDJdggRLdB3zwU2YV5JxxHJ+DIMy09SbkRXV\n",
       "1PJOmyLAi/WDeiyTyeSNJIyyh4CiidTjljARzs4jUvZhRs/acdmHRRgDUxMzrGPZqXTGrJgKPrJf\n",
       "IzaUtEugWiP2fBJ7hQlXgF8ImX7MI7XeUSEKFM1FEWRtEUrLluEE2rb83cvAV2FC00u7CmUVavGg\n",
       "B/OJC0xK5dOL3ikY5xhBY/dpTxdh6FpbKQXqZG6CU1BWML6UVT7kPZhPKuN6/RWmklAN3J2c4Xuo\n",
       "WjHbHfC6/IPxYL7BJf9wgtmN5pskaOorwRAbdnsPy/A8mE9GxPoE/0IQ3k6v+yIkeuRg8WL/Jc3e\n",
       "je6M5qnNsL/kDzvlwW8VdFq5AAAAAElFTkSuQmCC\n",
       "\" style=\"display:inline;vertical-align:middle;\" /></a></span></td></tr>\n",
       "</table>"
      ],
      "text/plain": [
       "<proveit._core_.proof._ShowProof at 0x7f94ebc12e48>"
      ]
     },
     "execution_count": 1,
     "metadata": {},
     "output_type": "execute_result"
    }
   ],
   "source": [
    "import proveit\n",
    "%show_proof"
   ]
  },
  {
   "cell_type": "code",
   "execution_count": null,
   "metadata": {},
   "outputs": [],
   "source": []
  }
 ],
 "metadata": {
  "kernelspec": {
   "display_name": "Python 3",
   "language": "python",
   "name": "python3"
  }
 },
 "nbformat": 4,
 "nbformat_minor": 0
}
