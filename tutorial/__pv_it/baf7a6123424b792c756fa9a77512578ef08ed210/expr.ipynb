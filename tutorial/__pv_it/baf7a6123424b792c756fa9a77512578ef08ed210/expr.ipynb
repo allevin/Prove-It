{
 "cells": [
  {
   "cell_type": "markdown",
   "metadata": {},
   "source": [
    "Expression of type <a class=\"ProveItLink\" href=\"../../../doc/html/api/proveit.ExprTuple.html\">ExprTuple</a>\n",
    "=======================\n",
    "# from context <a class=\"ProveItLink\" href=\"../../_context_.ipynb\">tutorial</a>"
   ]
  },
  {
   "cell_type": "code",
   "execution_count": 1,
   "metadata": {},
   "outputs": [],
   "source": [
    "# import Expression classes needed to build the expression\n",
    "from proveit import ExprTuple\n",
    "from proveit._common_ import Q, R\n",
    "from proveit.logic import Implies"
   ]
  },
  {
   "cell_type": "code",
   "execution_count": 2,
   "metadata": {},
   "outputs": [
    {
     "data": {
      "text/html": [
       "<strong id=\"expr\">expr:</strong> <a class=\"ProveItLink\" href=\"expr.ipynb\"><img src=\"data:image/png;base64,iVBORw0KGgoAAAANSUhEUgAAAE0AAAAVBAMAAADx+n4ZAAAAMFBMVEX////c3NwiIiJERESqqqqY\n",
       "mJh2dnZmZmYQEBDu7u4yMjJUVFTMzMyIiIi6uroAAAAs73DqAAAAAXRSTlMAQObYZgAAAX1JREFU\n",
       "KM9jYCAW8F0gqCQORJwG4tv/d29ei00FY3raXgYG9gNA5koQ/zMDw4wFWNRlHWDg1mRgAErxgqzl\n",
       "+cvAwP0PLjsBxphlACS6GRjCGBg4QIK8fxgYuP7A1a2EMRaBiPoJDDMYGF6BmMwNDAznN8DVvYbS\n",
       "7GCt+Q8YmB0YykBM/g0MLLoIV7FBg0DeAKzOgYGtgGEpiHl+7/VeiAlKYPAdoq4+AETaH2BgWcDQ\n",
       "B2Len8DgfwDJmyzrwJQ+2EM/gGHcwAD2pQXYaiQwqw+qAqjnGzA8PkDU/Qa6BVkdzzKwSZ9ABFcn\n",
       "WF0LSPgrA0N8ApL7lCEhuB5EgBwEtNcUGnz1FzgRzoOa7f9A9g4PyAWsCxjSQcH3AeiVC6JwdVKw\n",
       "8NFMYHMWADEKGB4xMEy3/32BgX0tIt0YwgN82SUHBqC9XA8YOAQwYx8piJgPsAJ5wHhjTcCb9JgL\n",
       "QBGbixzpWAH3f2DAcYKSnDRedTwdwLjjBrmNkXC6v8PAAAAFbGKUBmKTfQAAAABJRU5ErkJggg==\n",
       "\" style=\"display:inline;vertical-align:middle;\" /></a><br>"
      ],
      "text/plain": [
       "expr: (R => Q)"
      ]
     },
     "execution_count": 2,
     "metadata": {},
     "output_type": "execute_result"
    }
   ],
   "source": [
    "# build up the expression from sub-expressions\n",
    "expr = ExprTuple(Implies(R, Q))"
   ]
  },
  {
   "cell_type": "code",
   "execution_count": 3,
   "metadata": {},
   "outputs": [
    {
     "name": "stdout",
     "output_type": "stream",
     "text": [
      "Passed sanity check: built 'expr' is the same as the stored Expression.\n"
     ]
    }
   ],
   "source": [
    "# check that the built expression is the same as the stored expression\n",
    "%check_expr"
   ]
  },
  {
   "cell_type": "code",
   "execution_count": 4,
   "metadata": {},
   "outputs": [
    {
     "data": {
      "text/html": [
       "<table><tr><th>&nbsp;</th><th>core type</th><th>sub-expressions</th><th>expression</th></tr>\n",
       "<tr><td>0</td><td>ExprTuple</td><td>1</td><td><a class=\"ProveItLink\" href=\"expr.ipynb\"><img src=\"data:image/png;base64,iVBORw0KGgoAAAANSUhEUgAAAE0AAAAVBAMAAADx+n4ZAAAAMFBMVEX////c3NwiIiJERESqqqqY\n",
       "mJh2dnZmZmYQEBDu7u4yMjJUVFTMzMyIiIi6uroAAAAs73DqAAAAAXRSTlMAQObYZgAAAX1JREFU\n",
       "KM9jYCAW8F0gqCQORJwG4tv/d29ei00FY3raXgYG9gNA5koQ/zMDw4wFWNRlHWDg1mRgAErxgqzl\n",
       "+cvAwP0PLjsBxphlACS6GRjCGBg4QIK8fxgYuP7A1a2EMRaBiPoJDDMYGF6BmMwNDAznN8DVvYbS\n",
       "7GCt+Q8YmB0YykBM/g0MLLoIV7FBg0DeAKzOgYGtgGEpiHl+7/VeiAlKYPAdoq4+AETaH2BgWcDQ\n",
       "B2Len8DgfwDJmyzrwJQ+2EM/gGHcwAD2pQXYaiQwqw+qAqjnGzA8PkDU/Qa6BVkdzzKwSZ9ABFcn\n",
       "WF0LSPgrA0N8ApL7lCEhuB5EgBwEtNcUGnz1FzgRzoOa7f9A9g4PyAWsCxjSQcH3AeiVC6JwdVKw\n",
       "8NFMYHMWADEKGB4xMEy3/32BgX0tIt0YwgN82SUHBqC9XA8YOAQwYx8piJgPsAJ5wHhjTcCb9JgL\n",
       "QBGbixzpWAH3f2DAcYKSnDRedTwdwLjjBrmNkXC6v8PAAAAFbGKUBmKTfQAAAABJRU5ErkJggg==\n",
       "\" style=\"display:inline;vertical-align:middle;\" /></a></td></tr>\n",
       "<tr><td>1</td><td>Operation</td><td>operator:&nbsp;2<br>operands:&nbsp;3<br></td><td><a class=\"ProveItLink\" href=\"../9689ca3517a1f7154890f40ae98c2a58c9e7b4290/expr.ipynb\"><img src=\"data:image/png;base64,iVBORw0KGgoAAAANSUhEUgAAAEEAAAASBAMAAAD2w64vAAAAMFBMVEX///92dnaYmJjc3NxmZmYi\n",
       "IiKqqqq6urrMzMwQEBDu7u4yMjJERERUVFSIiIgAAAArjcN0AAAAAXRSTlMAQObYZgAAARJJREFU\n",
       "KM9jYGB4+//unX0MWACziOA9COsPA8PKDVhUSDcw8EaBGBz/GBh4v8PFF8AYqw8AibkgFt8PBgbu\n",
       "H3AVu2CMrSDCH6SBZwIDQ/8FuIpaKM0C1iRfACT4LzCwxSFsZ3wAoe0PgFUkAIn+e0/mQXSFgsEX\n",
       "iAp/BRB5vgFIvF/AkN+A5AW27WAqHuzknyDiJNgiJLB6OlyO7SOI/Au0E1kFx0aw7q8ggnsWSOAT\n",
       "A4O+AJI7YiAhsh9EgK0HBYf/Ay6EM6Dm5RfYveAA28fzAejYB0ZwFdYwX0cJMOYYABlLzv99wMCy\n",
       "7wFcxWF40G18msDQgCW+kMR4GpiwqUACPA7V+BUw8P7/TkAFx0xgyAMAojlNzTn4md0AAAAASUVO\n",
       "RK5CYII=\n",
       "\" style=\"display:inline;vertical-align:middle;\" /></a></td></tr>\n",
       "<tr><td>2</td><td>Literal</td><td></td><td><a class=\"ProveItLink\" href=\"../../../packages/proveit/logic/boolean/implication/__pv_it/e5c030cabcb650938f92dee8256fe11cd12bf9b30/expr.ipynb\"><img src=\"data:image/png;base64,iVBORw0KGgoAAAANSUhEUgAAABMAAAANBAMAAAC5okgUAAAALVBMVEX////c3NxERETMzMwQEBCq\n",
       "qqoiIiJmZmaIiIh2dnZUVFS6uroyMjLu7u4AAACPpZJTAAAAAXRSTlMAQObYZgAAAD1JREFUCNdj\n",
       "YAABXgY44LkAZ3IvQAjPABFlaSCQV4AQjtkAZ/IegbNt5sLUpunC5aPgLMYDcCaTAJzJDCIA2yMN\n",
       "HCCUuIIAAAAASUVORK5CYII=\n",
       "\" style=\"display:inline;vertical-align:middle;\" /></a></td></tr>\n",
       "<tr><td>3</td><td>ExprTuple</td><td>4, 5</td><td><a class=\"ProveItLink\" href=\"../c734385423c1129d2d048329a1dc435258d733800/expr.ipynb\"><img src=\"data:image/png;base64,iVBORw0KGgoAAAANSUhEUgAAADUAAAAVBAMAAAAUZLt1AAAAMFBMVEX////c3NwiIiJERESqqqqY\n",
       "mJh2dnZmZmYQEBDu7u4yMjJUVFTMzMyIiIi6uroAAAAs73DqAAAAAXRSTlMAQObYZgAAAVVJREFU\n",
       "KM99kj1Lw1AUht+SryZptYuTiHMHsYvg1oA/oE6OmsmCIGZyTQcHRdRsFqcgKDgUCx2lkN2hwcXB\n",
       "gsFRl6IoQqv1nNxbqlAM5OS957k5H/dc4L9nKp7oXmdzS+/D8KbVGHkz1c02YEQkr3j9BtRDybYi\n",
       "2EWAlnkOmfsC7G+BzkpkDoE1IBuQzA8AayDYORs/QB14ZqnUgE4zRUa6ZSeB4mCX5XQT6oL4bb6U\n",
       "Mge6hwuWnfb9kazEX2VbjqCGOGb5GKASCbbI+fFJfdeQVrechoX0AuoH1d4TrE95JHtlYx2kbI/b\n",
       "ewc2XMGu2XACirkk2/NjE5yqksx1c1yEFqLK7fWonHjG5Hh60dVXCiw8PAGn5X4MoxGbJ+x7ubxz\n",
       "QDGtBNnCr3EJrUQaMTozzR0zTXwUjw9yezSjP8weUmMmj2x2zOQNyO3TudkcPzP5TnSBH6hmWpoD\n",
       "Ce2gAAAAAElFTkSuQmCC\n",
       "\" style=\"display:inline;vertical-align:middle;\" /></a></td></tr>\n",
       "<tr><td>4</td><td>Variable</td><td></td><td><a class=\"ProveItLink\" href=\"../../../packages/proveit/__pv_it/e24df48bc297bbcf3538a62f5b4f635a392abfce0/expr.ipynb\"><img src=\"data:image/png;base64,iVBORw0KGgoAAAANSUhEUgAAABAAAAAOBAMAAADUAYG5AAAAMFBMVEX///92dnaYmJjc3NxmZmYi\n",
       "IiKqqqq6urrMzMwQEBDu7u4yMjJERERUVFSIiIgAAAArjcN0AAAAAXRSTlMAQObYZgAAAG1JREFU\n",
       "CNdjYGB4+//unX0MIPCHgWHlBiDN8Y+Bgfc7kMH3g4GBG4gZeCYwMPRfADL4LzCwxYHU9t97Mg+s\n",
       "6f0ChvwGEOMkWBYI/jIw2IMYHJ8YGPQFoMb4P+ACGvMBqP6BEcOS838fMLDsewAAOpQikqrQNfgA\n",
       "AAAASUVORK5CYII=\n",
       "\" style=\"display:inline;vertical-align:middle;\" /></a></td></tr>\n",
       "<tr><td>5</td><td>Variable</td><td></td><td><a class=\"ProveItLink\" href=\"../../../packages/proveit/__pv_it/98124f92e6e1fc3772af50ac63eaa1f5624776f20/expr.ipynb\"><img src=\"data:image/png;base64,iVBORw0KGgoAAAANSUhEUgAAAA8AAAASBAMAAAB2sJk8AAAAMFBMVEX///+YmJiqqqq6uroQEBBE\n",
       "RETu7u4iIiLMzMwyMjKIiIhUVFRmZmZ2dnbc3NwAAADS0us6AAAAAXRSTlMAQObYZgAAAHxJREFU\n",
       "CNdjYGDgu3N3FwMI3Gxg4C4D0pkBQMIbiKeDRM8nMPD8ADHuGzC8DwAzFBjOC4AY8Q0M9Qkgxhcw\n",
       "YmBg+svA8B3E4HRjYJgPYug3ALHBqxUczkAOb9kFXtUHIGHrucsVGBrAtrI2MEIZByzBNAP3/88Q\n",
       "BocL0BoActoerD1tNT4AAAAASUVORK5CYII=\n",
       "\" style=\"display:inline;vertical-align:middle;\" /></a></td></tr>\n",
       "</table>\n"
      ],
      "text/plain": [
       "0. (R => Q)\n",
       "   core type: ExprTuple\n",
       "   sub-expressions: 1\n",
       "1. R => Q\n",
       "   core type: Operation\n",
       "   operator: 2\n",
       "   operands: 3\n",
       "2. =>\n",
       "   core type: Literal\n",
       "   sub-expressions: \n",
       "3. (R , Q)\n",
       "   core type: ExprTuple\n",
       "   sub-expressions: 4, 5\n",
       "4. R\n",
       "   core type: Variable\n",
       "   sub-expressions: \n",
       "5. Q\n",
       "   core type: Variable\n",
       "   sub-expressions: "
      ]
     },
     "execution_count": 4,
     "metadata": {},
     "output_type": "execute_result"
    }
   ],
   "source": [
    "# display the expression information\n",
    "expr.exprInfo()"
   ]
  },
  {
   "cell_type": "code",
   "execution_count": null,
   "metadata": {},
   "outputs": [],
   "source": []
  }
 ],
 "metadata": {
  "kernelspec": {
   "display_name": "Python 3",
   "language": "python",
   "name": "python3"
  }
 },
 "nbformat": 4,
 "nbformat_minor": 0
}
