{
 "cells": [
  {
   "cell_type": "markdown",
   "metadata": {},
   "source": [
    "Expression of type <a class=\"ProveItLink\" href=\"../../../doc/html/api/proveit.logic.Set.html\">Set</a>\n",
    "=======================\n",
    "# from context <a class=\"ProveItLink\" href=\"../../_context_.ipynb\">tutorial</a>"
   ]
  },
  {
   "cell_type": "code",
   "execution_count": 1,
   "metadata": {},
   "outputs": [],
   "source": [
    "# import Expression classes needed to build the expression\n",
    "from proveit._common_ import P, Q, R\n",
    "from proveit.logic import Implies, Set"
   ]
  },
  {
   "cell_type": "code",
   "execution_count": 2,
   "metadata": {},
   "outputs": [
    {
     "data": {
      "text/html": [
       "<strong id=\"expr\">expr:</strong> <a class=\"ProveItLink\" href=\"expr.ipynb\"><img src=\"data:image/png;base64,iVBORw0KGgoAAAANSUhEUgAAALcAAAAVBAMAAAD2lGJJAAAAMFBMVEX///9ERETc3NyqqqpUVFS6\n",
       "urrMzMwyMjIQEBCIiIh2dnYiIiLu7u5mZmaYmJgAAABJJ2g3AAAAAXRSTlMAQObYZgAAAjVJREFU\n",
       "OMu1lb9PFEEUx7/HHnPesbdHKITGcB0JBf4JYEJixAIKCsorLOjAQiPEwmgwsdEtbCwMJFAgNhBs\n",
       "kJBcByEx0JFQgJUtErgzAgozb37s2709tZBXzN539vs+O/vmzR6A4AD/P8RSWV38z7iOEC/UmP+u\n",
       "xreXg4Ofyimm3v2FMF1EIZPvTDFBpD0lCs9o7geQed6YV3gM3K+mCR7HwNakFYa0GMHFGeCdObcl\n",
       "+A/lcGMgRTATxE8gW7PCkBg8L+8Fv1zeU3PNLcuheJEimAn5urxZt8KQGDwjK589cXmj5npYUY5a\n",
       "imAmZCRiwr6RJTF4SZZspz0qtd63lmMSJ42CmWTyALw1O2tJBC/STkzMQWyQXKfQFSr+prXUkyJm\n",
       "ksn33r9yj7SkIyXGR9Q4O7S0zzvRe6TGNipwSfdTTDCTTK6iv2InLSm3Czx4SVPdyQ7bnHGk/jkg\n",
       "KZgJ6KLKmHCkzq/AGD3zPHnAppWnpPoDT7Q9JpgJOAVuO7gltalVZFXNhetCU84VSsup0+uZJmMi\n",
       "ZoKQm3FkX8iRqOaFZdOcPDy9EK/W8q6iNqXKRcJEbX4Y+vpQOVLUipmLOLzHXD9uY75Dns1zJhpM\n",
       "qrNnwz5tciQH/9J9Gv8gWUbr3Q+rEPDflCORNFFycSokU0RihygRlejnTXyT3DITKSa9kthXtTmc\n",
       "xa1WueMBF80iQAM8+At8+HIkyiPxb3D6nvtrf4aPv5ZDyEWziG2b0OcrmL+u/9ArHQfMYi2r7k0A\n",
       "AAAASUVORK5CYII=\n",
       "\" style=\"display:inline;vertical-align:middle;\" /></a><br>"
      ],
      "text/plain": [
       "expr: {P => Q , Q => R , P}"
      ]
     },
     "execution_count": 2,
     "metadata": {},
     "output_type": "execute_result"
    }
   ],
   "source": [
    "# build up the expression from sub-expressions\n",
    "expr = Set(Implies(P, Q), Implies(Q, R), P)"
   ]
  },
  {
   "cell_type": "code",
   "execution_count": 3,
   "metadata": {},
   "outputs": [
    {
     "name": "stdout",
     "output_type": "stream",
     "text": [
      "Passed sanity check: built 'expr' is the same as the stored Expression.\n"
     ]
    }
   ],
   "source": [
    "# check that the built expression is the same as the stored expression\n",
    "%check_expr"
   ]
  },
  {
   "cell_type": "code",
   "execution_count": 4,
   "metadata": {},
   "outputs": [
    {
     "data": {
      "text/html": [
       "<table><tr><th>&nbsp;</th><th>core type</th><th>sub-expressions</th><th>expression</th></tr>\n",
       "<tr><td>0</td><td>Operation</td><td>operator:&nbsp;1<br>operands:&nbsp;2<br></td><td><a class=\"ProveItLink\" href=\"expr.ipynb\"><img src=\"data:image/png;base64,iVBORw0KGgoAAAANSUhEUgAAALcAAAAVBAMAAAD2lGJJAAAAMFBMVEX///9ERETc3NyqqqpUVFS6\n",
       "urrMzMwyMjIQEBCIiIh2dnYiIiLu7u5mZmaYmJgAAABJJ2g3AAAAAXRSTlMAQObYZgAAAjVJREFU\n",
       "OMu1lb9PFEEUx7/HHnPesbdHKITGcB0JBf4JYEJixAIKCsorLOjAQiPEwmgwsdEtbCwMJFAgNhBs\n",
       "kJBcByEx0JFQgJUtErgzAgozb37s2709tZBXzN539vs+O/vmzR6A4AD/P8RSWV38z7iOEC/UmP+u\n",
       "xreXg4Ofyimm3v2FMF1EIZPvTDFBpD0lCs9o7geQed6YV3gM3K+mCR7HwNakFYa0GMHFGeCdObcl\n",
       "+A/lcGMgRTATxE8gW7PCkBg8L+8Fv1zeU3PNLcuheJEimAn5urxZt8KQGDwjK589cXmj5npYUY5a\n",
       "imAmZCRiwr6RJTF4SZZspz0qtd63lmMSJ42CmWTyALw1O2tJBC/STkzMQWyQXKfQFSr+prXUkyJm\n",
       "ksn33r9yj7SkIyXGR9Q4O7S0zzvRe6TGNipwSfdTTDCTTK6iv2InLSm3Czx4SVPdyQ7bnHGk/jkg\n",
       "KZgJ6KLKmHCkzq/AGD3zPHnAppWnpPoDT7Q9JpgJOAVuO7gltalVZFXNhetCU84VSsup0+uZJmMi\n",
       "ZoKQm3FkX8iRqOaFZdOcPDy9EK/W8q6iNqXKRcJEbX4Y+vpQOVLUipmLOLzHXD9uY75Dns1zJhpM\n",
       "qrNnwz5tciQH/9J9Gv8gWUbr3Q+rEPDflCORNFFycSokU0RihygRlejnTXyT3DITKSa9kthXtTmc\n",
       "xa1WueMBF80iQAM8+At8+HIkyiPxb3D6nvtrf4aPv5ZDyEWziG2b0OcrmL+u/9ArHQfMYi2r7k0A\n",
       "AAAASUVORK5CYII=\n",
       "\" style=\"display:inline;vertical-align:middle;\" /></a></td></tr>\n",
       "<tr><td>1</td><td>Literal</td><td></td><td><a class=\"ProveItLink\" href=\"../../../packages/proveit/logic/set_theory/enumeration/__pv_it/07381ed5b23806e8d7914b78cb6667769e3708dd0/expr.ipynb\"><img src=\"data:image/png;base64,iVBORw0KGgoAAAANSUhEUgAAAB4AAAAOBAMAAADKyLEKAAAAMFBMVEX///8iIiIQEBCIiIjMzMzc\n",
       "3Nyqqqp2dnZEREQyMjK6urru7u5mZmZUVFSYmJgAAACI6eGPAAAAAXRSTlMAQObYZgAAALRJREFU\n",
       "CNdjYGDgu3Nm3wIGBJjHwN0PZW5yYGDgLWBgyITy8zcwMMQDxZyh/INAvD6BgcEFypcB4vjPDiBm\n",
       "TPFRrhs/LjMwMP//38rAwCbKEMPA9gEkE3fp0waG+AUMRxh4JkC01T9guPTOOICBEWgVH5C//wHD\n",
       "H5D4fqCz9oCMDGD4DLaegRXslLMMDMpAgxlOMmQxHDRgYG5gYLBk4D7KcIe7gOHC2rt9QCXsh40Z\n",
       "GCKMGQDRkC8N/Ph1XAAAAABJRU5ErkJggg==\n",
       "\" style=\"display:inline;vertical-align:middle;\" /></a></td></tr>\n",
       "<tr><td>2</td><td>ExprTuple</td><td>3, 4, 8</td><td><a class=\"ProveItLink\" href=\"../16d43837e48271b9f0a80d57e8d17f4ae28f2a3d0/expr.ipynb\"><img src=\"data:image/png;base64,iVBORw0KGgoAAAANSUhEUgAAALAAAAAVBAMAAAAUSHkwAAAAMFBMVEX////c3NwiIiJERESqqqqY\n",
       "mJh2dnZmZmYQEBDu7u4yMjJUVFTMzMyIiIi6uroAAAAs73DqAAAAAXRSTlMAQObYZgAAAjZJREFU\n",
       "OMu1lT9oFEEUxr94u94f9/40pjCFooKFCBEULYT0NumD4CFiCrG9SsgJWhpTRUmjIAkGTIgKKRLE\n",
       "LQMWt10KkRxWQZuQxEjMefG9mZ3Zt3uTYGEe7Oz+dr/33ezbN3PAkUUl+v+efpuGz3R82V9evlhz\n",
       "KPob9yM3JEHJH+YEsNNDupxl/g3kHvXmHH8LvJ9wgYwt4MUrA9qpBJR5EsEO4O1YpckuvqahsOAA\n",
       "IULwBzjRNaCd/DoKLCjTff+XzZmNz6UzNOR3HSBEKHfoYceAdio28Z0xt0E/um1zfsTnsZAr0HWA\n",
       "ECHXBFrmTYzTFTQYq1Sil4NJafU36ttSsN0LQkTJC/AumbvGaRTTjK06ggt8kT+rQlcl/1PNoZOF\n",
       "lIiSP64+tT9nnG5inHFt8V5Ddps3z+MxVdBqEz0gRJQ8geHQ3DRO61BFG8p20dS4dRmuA1kQIuC6\n",
       "qkYcxqmljTczvsEMP69yH+CNlqZAiIA94LQ1Nk4tPGaJ7bS4fOdUSmmDXzhuJAEpEQIq/m3zItZp\n",
       "HVfj5pPh6Ql43b6v4UpbrwULGZFq47GoqBeMdRqhvqBvvZs2PhWf70zi7mVac5sCekTcuWvRSS2y\n",
       "TqP4Bjwf2ktvLia/svTgPAIUn9USyIpUcn4uUqLEaR4Fx6YWJpc3cIs8awIcIj0LaURL2q8furNe\n",
       "q9BS8iUcuAentsVIbCbO+LTfTnIU/JPxFB0DhxqvPKEhknBQpD7TO95djuCvqRziLy3mwxKBKNFg\n",
       "AAAAAElFTkSuQmCC\n",
       "\" style=\"display:inline;vertical-align:middle;\" /></a></td></tr>\n",
       "<tr><td>3</td><td>Operation</td><td>operator:&nbsp;6<br>operands:&nbsp;5<br></td><td><a class=\"ProveItLink\" href=\"../0ecb625fde376e84d1f8fabde19ab0c6635d1e200/expr.ipynb\"><img src=\"data:image/png;base64,iVBORw0KGgoAAAANSUhEUgAAAEEAAAASBAMAAAD2w64vAAAAMFBMVEX////u7u5mZmaYmJi6urqq\n",
       "qqp2dnbMzMwQEBBEREQyMjLc3NwiIiJUVFSIiIgAAAAeC3ydAAAAAXRSTlMAQObYZgAAAP5JREFU\n",
       "KM9jYGB4+//u3bMbGDABd1LaPQjrFwMDZzcWFVkFDLwHQQz2bwwMrN/g4gIwhtQEINELYvF9YWBg\n",
       "/gRXsRDGWAMi9EEaOD8wMPB+havwhdJM30FkvgOQ4F/AwCA/Aa6C7QGE3g8Wyg8AEvUJDOyHwLrO\n",
       "gAHUQn0DEDm/AEi8v5amhuxZ1iVg6jzYyT/AygTQfCnVApeD+PEPmgL2ZQJwYa5GkADco1B3nISY\n",
       "uR5ExBdAgwMZsF6A0PEO+56zg+3j/IiqYhfM1wcT2CJBPhCa//cBiorZ8KBb9iaAoQBLfCGJcRYw\n",
       "Y1OBBDgVvPArYOD9/4WACvYOYMgDAPldSOLUB00KAAAAAElFTkSuQmCC\n",
       "\" style=\"display:inline;vertical-align:middle;\" /></a></td></tr>\n",
       "<tr><td>4</td><td>Operation</td><td>operator:&nbsp;6<br>operands:&nbsp;7<br></td><td><a class=\"ProveItLink\" href=\"../42da45cbf8bed3ea5db43830de3adfb59444ab2a0/expr.ipynb\"><img src=\"data:image/png;base64,iVBORw0KGgoAAAANSUhEUgAAAEAAAAASBAMAAAAZAcURAAAAMFBMVEX///+YmJiqqqq6uroQEBBE\n",
       "RETu7u4iIiLMzMwyMjKIiIhUVFRmZmZ2dnbc3NwAAADS0us6AAAAAXRSTlMAQObYZgAAARNJREFU\n",
       "KM9jYGDgu3N3FwMWsPr/7q2zQIybDQzcZdhUfGVgSJnAwJAZAGR7I4QTYAyOXwwM3J8ZGKaDOOfh\n",
       "wgzTYAyuHwwMnD8YeH6AOPcN4AqsYQxWBwaG/g0M7wPAChTgCngXQBn8GxiYqoCGC4A48Q1Agqcc\n",
       "DP5AFfTvWuMFpOrBtn9BcjzTZAi9PoFBvwEqxfQX2XuZzmAqBGwLw3cQm9MNSZ5jLsRLvxkY3gMV\n",
       "zAexQUbB3VAKkef4yMAgfwEoZ/BqBYczshM2IILh/AI2Bt6yC7yqD5AUvIQFwwegOxc8BAbM3OUK\n",
       "DA0IBXEQKif+9wIGnlngQGFtYERS0IAZa6wHLBnwAu7/n/Er4HARwC0JAPZeS/+HiRyVAAAAAElF\n",
       "TkSuQmCC\n",
       "\" style=\"display:inline;vertical-align:middle;\" /></a></td></tr>\n",
       "<tr><td>5</td><td>ExprTuple</td><td>8, 9</td><td><a class=\"ProveItLink\" href=\"../d7a1e7ea4a4f91471e6430488ddf80a6c01c0dbd0/expr.ipynb\"><img src=\"data:image/png;base64,iVBORw0KGgoAAAANSUhEUgAAADMAAAAVBAMAAAAZessyAAAAMFBMVEX////c3NwiIiJERESqqqqY\n",
       "mJh2dnZmZmYQEBDu7u4yMjJUVFTMzMyIiIi6uroAAAAs73DqAAAAAXRSTlMAQObYZgAAAUZJREFU\n",
       "KM99Ur9Lw1AYvJImbZpUu4s4SnHQxbkB/4A6OUqmFgRpp65VcFAEzaa4GAQFJzeXImR3UFwtGBx1\n",
       "KSJt/UHrd++10aH4IJfLu3Dv++57wD9r6n7S7jrhVp7HYau1UNCbqWrlBshEQi/5/QkY21raiOAU\n",
       "gRDI08/tAumuUk6WBPaBNSAbCM0PALOnpDNCM8Ax8EJqdADnnSzzTazFMDw0SKfF+ZROmFNY82DV\n",
       "cU5658OdV37NVWIpQjrEAenTdaWha1/k0ehLu1sYqL+Ccat9Aot1O1p6S1JQLLenpB221UukK0I5\n",
       "UobLo7Zk0bUcz7Zdnm+GqLKtDyo2zayib62wIin+GTgqfTEt+5BbrxcPHsQwFyNb+B2PpkZkiiRB\n",
       "mX4imfpl1Bne5ngofyVnKFXZEh1mEmk0bndXwnJonpp4AdrAD2bmUgaDRD48AAAAAElFTkSuQmCC\n",
       "\" style=\"display:inline;vertical-align:middle;\" /></a></td></tr>\n",
       "<tr><td>6</td><td>Literal</td><td></td><td><a class=\"ProveItLink\" href=\"../../../packages/proveit/logic/boolean/implication/__pv_it/e5c030cabcb650938f92dee8256fe11cd12bf9b30/expr.ipynb\"><img src=\"data:image/png;base64,iVBORw0KGgoAAAANSUhEUgAAABMAAAANBAMAAAC5okgUAAAALVBMVEX////c3NxERETMzMwQEBCq\n",
       "qqoiIiJmZmaIiIh2dnZUVFS6uroyMjLu7u4AAACPpZJTAAAAAXRSTlMAQObYZgAAAD1JREFUCNdj\n",
       "YAABXgY44LkAZ3IvQAjPABFlaSCQV4AQjtkAZ/IegbNt5sLUpunC5aPgLMYDcCaTAJzJDCIA2yMN\n",
       "HCCUuIIAAAAASUVORK5CYII=\n",
       "\" style=\"display:inline;vertical-align:middle;\" /></a></td></tr>\n",
       "<tr><td>7</td><td>ExprTuple</td><td>9, 10</td><td><a class=\"ProveItLink\" href=\"../2d3af0b4341466a72efcf671ab60e9aa254cfba10/expr.ipynb\"><img src=\"data:image/png;base64,iVBORw0KGgoAAAANSUhEUgAAADUAAAAVBAMAAAAUZLt1AAAAMFBMVEX////c3NwiIiJERESqqqqY\n",
       "mJh2dnZmZmYQEBDu7u4yMjJUVFTMzMyIiIi6uroAAAAs73DqAAAAAXRSTlMAQObYZgAAAVRJREFU\n",
       "KM99kr1LQlEYxn/m59Xrx1JLQw2tDQ1RQ1D/gVtTlETQEEKTqw41Vk7leCGCggSprYgchQbv1lCh\n",
       "NDZJ1hCa9p7juWEgXbjvOe/zvDzv14H/voQ7El5X5kGZidzOb8hT//a6TLgq1wv5Q5dwVfTINpQc\n",
       "HIhLvHUqSKRiKPsbYj1WBZLw6LRA4S/DxbuCdCnBm3h5pR3qGc5fgHoF/wo58LUVFPowXLJCYFb8\n",
       "Xc5E7VOHdw1Xv3s8kCPgcAhjOlOyYLhGkbQkSRToeWg6Y7hFLYvd0pwqk3Ovvw5MDbg9Kbil5L10\n",
       "tmTfyGjNeYF7vpdqrQlFr728axF02BZ385itORnPu65XVBruuOrhVa3iJjuDjXWUgpPljku47BJt\n",
       "EknpLEusSUxqaEkys+Cg9IWEzD04vMCs2RHc95t/OUtimdTX2r6Y4RcQU/q+0W/iGX4ABFJbA74O\n",
       "PJUAAAAASUVORK5CYII=\n",
       "\" style=\"display:inline;vertical-align:middle;\" /></a></td></tr>\n",
       "<tr><td>8</td><td>Variable</td><td></td><td><a class=\"ProveItLink\" href=\"../../../packages/proveit/__pv_it/6369c6c8083c513ca7161ace249642d040f9327d0/expr.ipynb\"><img src=\"data:image/png;base64,iVBORw0KGgoAAAANSUhEUgAAABAAAAAOBAMAAADUAYG5AAAAMFBMVEX////u7u5mZmaYmJi6urqq\n",
       "qqp2dnbMzMwQEBBEREQyMjLc3NwiIiJUVFSIiIgAAAAeC3ydAAAAAXRSTlMAQObYZgAAAGBJREFU\n",
       "CNdjYGB4+//u3bMbGIDgFwMDZzeQZv/GwMAKxAx8XxgYmD8BGZwfGBh4vwIZ/AsYGOQnABn1CQzs\n",
       "h0Ca3l9LUwPrni/AAAF/oDT7JygDZAwYcH6E0ELz/z4A0QBnpRnRyxnfJQAAAABJRU5ErkJggg==\n",
       "\" style=\"display:inline;vertical-align:middle;\" /></a></td></tr>\n",
       "<tr><td>9</td><td>Variable</td><td></td><td><a class=\"ProveItLink\" href=\"../../../packages/proveit/__pv_it/98124f92e6e1fc3772af50ac63eaa1f5624776f20/expr.ipynb\"><img src=\"data:image/png;base64,iVBORw0KGgoAAAANSUhEUgAAAA8AAAASBAMAAAB2sJk8AAAAMFBMVEX///+YmJiqqqq6uroQEBBE\n",
       "RETu7u4iIiLMzMwyMjKIiIhUVFRmZmZ2dnbc3NwAAADS0us6AAAAAXRSTlMAQObYZgAAAHxJREFU\n",
       "CNdjYGDgu3N3FwMI3Gxg4C4D0pkBQMIbiKeDRM8nMPD8ADHuGzC8DwAzFBjOC4AY8Q0M9Qkgxhcw\n",
       "YmBg+svA8B3E4HRjYJgPYug3ALHBqxUczkAOb9kFXtUHIGHrucsVGBrAtrI2MEIZByzBNAP3/88Q\n",
       "BocL0BoActoerD1tNT4AAAAASUVORK5CYII=\n",
       "\" style=\"display:inline;vertical-align:middle;\" /></a></td></tr>\n",
       "<tr><td>10</td><td>Variable</td><td></td><td><a class=\"ProveItLink\" href=\"../../../packages/proveit/__pv_it/e24df48bc297bbcf3538a62f5b4f635a392abfce0/expr.ipynb\"><img src=\"data:image/png;base64,iVBORw0KGgoAAAANSUhEUgAAABAAAAAOBAMAAADUAYG5AAAAMFBMVEX///92dnaYmJjc3NxmZmYi\n",
       "IiKqqqq6urrMzMwQEBDu7u4yMjJERERUVFSIiIgAAAArjcN0AAAAAXRSTlMAQObYZgAAAG1JREFU\n",
       "CNdjYGB4+//unX0MIPCHgWHlBiDN8Y+Bgfc7kMH3g4GBG4gZeCYwMPRfADL4LzCwxYHU9t97Mg+s\n",
       "6f0ChvwGEOMkWBYI/jIw2IMYHJ8YGPQFoMb4P+ACGvMBqP6BEcOS838fMLDsewAAOpQikqrQNfgA\n",
       "AAAASUVORK5CYII=\n",
       "\" style=\"display:inline;vertical-align:middle;\" /></a></td></tr>\n",
       "</table>\n"
      ],
      "text/plain": [
       "0. {P => Q , Q => R , P}\n",
       "   core type: Operation\n",
       "   operator: 1\n",
       "   operands: 2\n",
       "1. Set\n",
       "   core type: Literal\n",
       "   sub-expressions: \n",
       "2. (P => Q , Q => R , P)\n",
       "   core type: ExprTuple\n",
       "   sub-expressions: 3, 4, 8\n",
       "3. P => Q\n",
       "   core type: Operation\n",
       "   operator: 6\n",
       "   operands: 5\n",
       "4. Q => R\n",
       "   core type: Operation\n",
       "   operator: 6\n",
       "   operands: 7\n",
       "5. (P , Q)\n",
       "   core type: ExprTuple\n",
       "   sub-expressions: 8, 9\n",
       "6. =>\n",
       "   core type: Literal\n",
       "   sub-expressions: \n",
       "7. (Q , R)\n",
       "   core type: ExprTuple\n",
       "   sub-expressions: 9, 10\n",
       "8. P\n",
       "   core type: Variable\n",
       "   sub-expressions: \n",
       "9. Q\n",
       "   core type: Variable\n",
       "   sub-expressions: \n",
       "10. R\n",
       "    core type: Variable\n",
       "    sub-expressions: "
      ]
     },
     "execution_count": 4,
     "metadata": {},
     "output_type": "execute_result"
    }
   ],
   "source": [
    "# display the expression information\n",
    "expr.exprInfo()"
   ]
  },
  {
   "cell_type": "code",
   "execution_count": null,
   "metadata": {},
   "outputs": [],
   "source": []
  }
 ],
 "metadata": {
  "kernelspec": {
   "display_name": "Python 3",
   "language": "python",
   "name": "python3"
  }
 },
 "nbformat": 4,
 "nbformat_minor": 0
}
