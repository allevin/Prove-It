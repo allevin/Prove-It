{
 "cells": [
  {
   "cell_type": "markdown",
   "metadata": {},
   "source": [
    "Expression of type <a class=\"ProveItLink\" href=\"../../../doc/html/api/proveit.logic.Set.html\">Set</a>\n",
    "=======================\n",
    "# from context <a class=\"ProveItLink\" href=\"../../_context_.ipynb\">tutorial</a>"
   ]
  },
  {
   "cell_type": "code",
   "execution_count": 1,
   "metadata": {},
   "outputs": [],
   "source": [
    "# import Expression classes needed to build the expression\n",
    "from proveit import Function\n",
    "from proveit._common_ import R, fy\n",
    "from proveit.logic import Set"
   ]
  },
  {
   "cell_type": "code",
   "execution_count": 2,
   "metadata": {},
   "outputs": [
    {
     "data": {
      "text/html": [
       "<strong id=\"expr\">expr:</strong> <a class=\"ProveItLink\" href=\"expr.ipynb\"><img src=\"data:image/png;base64,iVBORw0KGgoAAAANSUhEUgAAAGEAAAAVBAMAAACkm51HAAAAMFBMVEX////c3NxERESqqqpUVFS6\n",
       "urrMzMwyMjIQEBCIiIh2dnYiIiLu7u5mZmaYmJgAAABXZE4RAAAAAXRSTlMAQObYZgAAAdRJREFU\n",
       "OMuNUz8sA1EY/7XVq9bdsZpISIqFTcTQSgzEUCOTGwy2djGrCCIxGAwMQmIRIjFYdJKQEBYMCIl0\n",
       "kEgsKilJpcH3fe/17orBS37f/b6793vfv3cA7Af8cxnbDfwwc9WvR39ze1gBxgy70QKbVLE/viTn\n",
       "JNkeLze4nNa1Bm7YxLJs65thzjOJHLLtSORdzkQDW54iTQFSHHhVMn07QoVLWhsKfsW6A0wRsMhe\n",
       "qCAbFysKM6vgV7RR1kV6hjPsWXtwuawWDZ+Cdvdy5RbHtgf2LzQ/u0OgDOxCQRQWn2QUV2+lVZG8\n",
       "9MHlG2PSzG4ovPD7Ca43Wkbonb1a9tDkaG503SPYDIxAIUKxx+f4YzAridHpokhAcxMLEjANBcQp\n",
       "7gifV59EwKfYqSgQKiPteIo6LrOG60jnYX9IJl1sW1HhVOUKvKykjtieGodVAo04KJUviII5Jc7y\n",
       "Jw2vu51UfClAO2IXMnJRMLeS4U/86C4pzKuvQbplfCnCHDFcFgVzs33tleikhm+C7prmXmc8Lln/\n",
       "dUvc9Qw8qmKED+GU6o8tKSiFXa2gGz5/7vEcOoicaKj/wzyoUgSSeL70eM8aD6hPw5hVl3+zStL4\n",
       "m0cdBfnPvwF384WxkjQTGwAAAABJRU5ErkJggg==\n",
       "\" style=\"display:inline;vertical-align:middle;\" /></a><br>"
      ],
      "text/plain": [
       "expr: {R(f(y))}"
      ]
     },
     "execution_count": 2,
     "metadata": {},
     "output_type": "execute_result"
    }
   ],
   "source": [
    "# build up the expression from sub-expressions\n",
    "expr = Set(Function(R, fy))"
   ]
  },
  {
   "cell_type": "code",
   "execution_count": 3,
   "metadata": {},
   "outputs": [
    {
     "name": "stdout",
     "output_type": "stream",
     "text": [
      "Passed sanity check: built 'expr' is the same as the stored Expression.\n"
     ]
    }
   ],
   "source": [
    "# check that the built expression is the same as the stored expression\n",
    "%check_expr"
   ]
  },
  {
   "cell_type": "code",
   "execution_count": 4,
   "metadata": {},
   "outputs": [
    {
     "data": {
      "text/html": [
       "<table><tr><th>&nbsp;</th><th>core type</th><th>sub-expressions</th><th>expression</th></tr>\n",
       "<tr><td>0</td><td>Operation</td><td>operator:&nbsp;1<br>operands:&nbsp;2<br></td><td><a class=\"ProveItLink\" href=\"expr.ipynb\"><img src=\"data:image/png;base64,iVBORw0KGgoAAAANSUhEUgAAAGEAAAAVBAMAAACkm51HAAAAMFBMVEX////c3NxERESqqqpUVFS6\n",
       "urrMzMwyMjIQEBCIiIh2dnYiIiLu7u5mZmaYmJgAAABXZE4RAAAAAXRSTlMAQObYZgAAAdRJREFU\n",
       "OMuNUz8sA1EY/7XVq9bdsZpISIqFTcTQSgzEUCOTGwy2djGrCCIxGAwMQmIRIjFYdJKQEBYMCIl0\n",
       "kEgsKilJpcH3fe/17orBS37f/b6793vfv3cA7Af8cxnbDfwwc9WvR39ze1gBxgy70QKbVLE/viTn\n",
       "JNkeLze4nNa1Bm7YxLJs65thzjOJHLLtSORdzkQDW54iTQFSHHhVMn07QoVLWhsKfsW6A0wRsMhe\n",
       "qCAbFysKM6vgV7RR1kV6hjPsWXtwuawWDZ+Cdvdy5RbHtgf2LzQ/u0OgDOxCQRQWn2QUV2+lVZG8\n",
       "9MHlG2PSzG4ovPD7Ca43Wkbonb1a9tDkaG503SPYDIxAIUKxx+f4YzAridHpokhAcxMLEjANBcQp\n",
       "7gifV59EwKfYqSgQKiPteIo6LrOG60jnYX9IJl1sW1HhVOUKvKykjtieGodVAo04KJUviII5Jc7y\n",
       "Jw2vu51UfClAO2IXMnJRMLeS4U/86C4pzKuvQbplfCnCHDFcFgVzs33tleikhm+C7prmXmc8Lln/\n",
       "dUvc9Qw8qmKED+GU6o8tKSiFXa2gGz5/7vEcOoicaKj/wzyoUgSSeL70eM8aD6hPw5hVl3+zStL4\n",
       "m0cdBfnPvwF384WxkjQTGwAAAABJRU5ErkJggg==\n",
       "\" style=\"display:inline;vertical-align:middle;\" /></a></td></tr>\n",
       "<tr><td>1</td><td>Literal</td><td></td><td><a class=\"ProveItLink\" href=\"../../../packages/proveit/logic/set_theory/enumeration/__pv_it/07381ed5b23806e8d7914b78cb6667769e3708dd0/expr.ipynb\"><img src=\"data:image/png;base64,iVBORw0KGgoAAAANSUhEUgAAAB4AAAAOBAMAAADKyLEKAAAAMFBMVEX///8iIiIQEBCIiIjMzMzc\n",
       "3Nyqqqp2dnZEREQyMjK6urru7u5mZmZUVFSYmJgAAACI6eGPAAAAAXRSTlMAQObYZgAAALRJREFU\n",
       "CNdjYGDgu3Nm3wIGBJjHwN0PZW5yYGDgLWBgyITy8zcwMMQDxZyh/INAvD6BgcEFypcB4vjPDiBm\n",
       "TPFRrhs/LjMwMP//38rAwCbKEMPA9gEkE3fp0waG+AUMRxh4JkC01T9guPTOOICBEWgVH5C//wHD\n",
       "H5D4fqCz9oCMDGD4DLaegRXslLMMDMpAgxlOMmQxHDRgYG5gYLBk4D7KcIe7gOHC2rt9QCXsh40Z\n",
       "GCKMGQDRkC8N/Ph1XAAAAABJRU5ErkJggg==\n",
       "\" style=\"display:inline;vertical-align:middle;\" /></a></td></tr>\n",
       "<tr><td>2</td><td>ExprTuple</td><td>3</td><td><a class=\"ProveItLink\" href=\"../f6d9ea4b66666b08d3588ae95bbca8466924b2ea0/expr.ipynb\"><img src=\"data:image/png;base64,iVBORw0KGgoAAAANSUhEUgAAAFsAAAAVBAMAAADbSo+2AAAAMFBMVEX////c3NwiIiJERESqqqqY\n",
       "mJh2dnZmZmYQEBDu7u4yMjJUVFTMzMyIiIi6uroAAAAs73DqAAAAAXRSTlMAQObYZgAAAaBJREFU\n",
       "KM+VkzFPwlAUhQ/SAhXQLk4M8AecDImb/AOcXEyUGBMmE+PgoIkQw6pp4iCbXYxhIME4OBgSBzcH\n",
       "upmoBMImCyTGCVDfvW3fawcHb3Lod+jpe+29LfDPWnD+cj5vBYRnobefh7smfAejfStZVPxRCQ36\n",
       "5xOo2/BddPdLMpWtlKYdUzMg+Q3P4eqjIJlqQylh0ZkpMC/kOhQ55DJVXWnIu1eBTguewwH/DuUz\n",
       "RwtSh+QXW9CWCdhtnt57bJRLyFqI7cPXNZ3ptF/OeB12mPkcWxijB2i21Dmd6VkoUpdcF5nC46d4\n",
       "DitiAFUp6gdW+X5EsdPG8NhKOLRVaizFgQmQVfFYzo+jaKWmoXiN2i6msl2iSI0bwVcyHyFdDd1M\n",
       "3mt7xTEE5bnh7nyIb/ha3ZYq03Jio56zJKjMQ+1znPgYo3UEGzkALtcmDuJNWnNAuZE7TuKLbsUU\n",
       "A+9LJczg+8vuNcDYCb8EeikYF05v5SUncwY98F5AjdDH0kCikZM8V4qK1QxbCZlQPAO9bErWuifi\n",
       "mDSVEAl9fEHn87vSLzkijMrHuQ6oAAAAAElFTkSuQmCC\n",
       "\" style=\"display:inline;vertical-align:middle;\" /></a></td></tr>\n",
       "<tr><td>3</td><td>Operation</td><td>operator:&nbsp;4<br>operand:&nbsp;5<br></td><td><a class=\"ProveItLink\" href=\"../7aa454bcc8446e5a1c8515a46db6a919038056c50/expr.ipynb\"><img src=\"data:image/png;base64,iVBORw0KGgoAAAANSUhEUgAAAE0AAAAVBAMAAADx+n4ZAAAAMFBMVEX///92dnaYmJjc3NxmZmYi\n",
       "IiKqqqq6urrMzMwQEBDu7u4yMjJERERUVFSIiIgAAAArjcN0AAAAAXRSTlMAQObYZgAAAYJJREFU\n",
       "KM+dkbFLw0AUxr+mNU1iWjNUR9HJSSzuog7iINL8BdL/oF1c7FAnN2kXdZMMLgXBIE4dOnQTBAs6\n",
       "asngIIhtcbGDrd57d00C3fzge/nl3bs73jvgH0oH07yiDHz+vr60mE4pWN2nkIVSx9JCP0DDJ2hS\n",
       "sBe+Qib5yjDGQOZbQJavujkqhkxaVkZ2CMwKw/Tot8SrkkkNZdh1oNYRUOH8DsdK2JBdlMZcB/oB\n",
       "ZbYprJ49K7ZyDjY9JLbARq37dsk7bzmOJ5xID9AHdF8afQ8lbvyCQnIIxScpFw9ikHVp3PPVQtQz\n",
       "9AEUe2ZAhxsDaYyAzagu4U7qUPKMYVRniLGuObR2zu3xFuY9ZOvRvTS+QmCJfJsHJwdMfMebNF/a\n",
       "Fmf2g3WRz/FzlLmOeB/VJUzmcvU4CpBq0SmHVFCVD0F83SvkxVOVpSOZIouPGGM+/m6hNAdapx1y\n",
       "xrWom0XlmJowm27IM44txmD50nFtQMvlQ9Z7u+KbyUvHlQym+V36DyXQcmvYczA1AAAAAElFTkSu\n",
       "QmCC\n",
       "\" style=\"display:inline;vertical-align:middle;\" /></a></td></tr>\n",
       "<tr><td>4</td><td>Variable</td><td></td><td><a class=\"ProveItLink\" href=\"../../../packages/proveit/__pv_it/e24df48bc297bbcf3538a62f5b4f635a392abfce0/expr.ipynb\"><img src=\"data:image/png;base64,iVBORw0KGgoAAAANSUhEUgAAABAAAAAOBAMAAADUAYG5AAAAMFBMVEX///92dnaYmJjc3NxmZmYi\n",
       "IiKqqqq6urrMzMwQEBDu7u4yMjJERERUVFSIiIgAAAArjcN0AAAAAXRSTlMAQObYZgAAAG1JREFU\n",
       "CNdjYGB4+//unX0MIPCHgWHlBiDN8Y+Bgfc7kMH3g4GBG4gZeCYwMPRfADL4LzCwxYHU9t97Mg+s\n",
       "6f0ChvwGEOMkWBYI/jIw2IMYHJ8YGPQFoMb4P+ACGvMBqP6BEcOS838fMLDsewAAOpQikqrQNfgA\n",
       "AAAASUVORK5CYII=\n",
       "\" style=\"display:inline;vertical-align:middle;\" /></a></td></tr>\n",
       "<tr><td>5</td><td>Operation</td><td>operator:&nbsp;6<br>operand:&nbsp;7<br></td><td><a class=\"ProveItLink\" href=\"../../../packages/proveit/__pv_it/e4f99fbf53c5e24e1c1e622903a7736f418f26ef0/expr.ipynb\"><img src=\"data:image/png;base64,iVBORw0KGgoAAAANSUhEUgAAACgAAAAVBAMAAADGNLEtAAAAMFBMVEX///8yMjLMzMwQEBAiIiJm\n",
       "Zma6urqYmJiqqqp2dnZERETc3NyIiIhUVFTu7u4AAAAe+HC4AAAAAXRSTlMAQObYZgAAAQlJREFU\n",
       "GNNjYMAPciAUewKYent2A5BkugCVDAKTK/sLgCTjA6ggI4jg+/YCRJ2BGcM+AUhwfACz7WCCfAZA\n",
       "gtUBxGQTgNu4Aqj6sm8ASAqo6WUkA/c/BoapQC7/AbDxQMsm5DPwAM1qBHL3K4AEmRMYmBpCGLgW\n",
       "MDAkA7n9YIP4Exj4GGzA2vSB3CkwQQaOfwz6ChDBtWBB5gagZQIMhxkg2m3AglxAixgDwCoKQR4C\n",
       "C3IC3cV6ge07A9hJbP/AgmxAL/CtOfobyBRjYOCBesUarN4B7M1akGEgUMnAcIXhMdA6zgMMhk9g\n",
       "IfaAwZNhJZDxEKggGirIfYGh5ygo1G8jR8ceCMWjwAAAl6o3tGQ/mUwAAAAASUVORK5CYII=\n",
       "\" style=\"display:inline;vertical-align:middle;\" /></a></td></tr>\n",
       "<tr><td>6</td><td>Variable</td><td></td><td><a class=\"ProveItLink\" href=\"../../../packages/proveit/__pv_it/4d51ee1e62d011d06d4528b97697bf3da60c9de60/expr.ipynb\"><img src=\"data:image/png;base64,iVBORw0KGgoAAAANSUhEUgAAAAsAAAASBAMAAAB/WzlGAAAAMFBMVEX///8yMjLMzMwQEBAiIiJm\n",
       "Zma6urqYmJiqqqp2dnZERETc3NyIiIhUVFTu7u4AAAAe+HC4AAAAAXRSTlMAQObYZgAAAFVJREFU\n",
       "CNdjYGBgeHt2A5BkWNlfACT5vr0AcTg+gEgGVgcQyX7ZNwBE8x8AC+5XAFP9YJJhCoRaC6FswCTf\n",
       "NzDF9g9M8QiAyFoukPEMhk/AYpXRIBIAEwsRcZ82juYAAAAASUVORK5CYII=\n",
       "\" style=\"display:inline;vertical-align:middle;\" /></a></td></tr>\n",
       "<tr><td>7</td><td>Variable</td><td></td><td><a class=\"ProveItLink\" href=\"../../../packages/proveit/__pv_it/f8b9edf8e16034727f0aad55bb83e392c3db40d40/expr.ipynb\"><img src=\"data:image/png;base64,iVBORw0KGgoAAAANSUhEUgAAAAsAAAANBAMAAACN24kIAAAAMFBMVEX///+YmJhUVFQyMjIQEBBE\n",
       "REQiIiKqqqrMzMyIiIi6urrc3NxmZmZ2dnbu7u4AAADXeCicAAAAAXRSTlMAQObYZgAAAFhJREFU\n",
       "CNdj4LtzgWH/AwZerg8M8xkY2nkSGEIZGB6wTGD4ycDAUP+A4weQOszA6QCkbBhYFYDUIYb1AkDq\n",
       "6czzGxhA4BoQMyXwuQMptgusF4AU+8xTQBIAUqMVoSp/SLMAAAAASUVORK5CYII=\n",
       "\" style=\"display:inline;vertical-align:middle;\" /></a></td></tr>\n",
       "</table>\n"
      ],
      "text/plain": [
       "0. {R(f(y))}\n",
       "   core type: Operation\n",
       "   operator: 1\n",
       "   operands: 2\n",
       "1. Set\n",
       "   core type: Literal\n",
       "   sub-expressions: \n",
       "2. (R(f(y)))\n",
       "   core type: ExprTuple\n",
       "   sub-expressions: 3\n",
       "3. R(f(y))\n",
       "   core type: Operation\n",
       "   operator: 4\n",
       "   operand: 5\n",
       "4. R\n",
       "   core type: Variable\n",
       "   sub-expressions: \n",
       "5. f(y)\n",
       "   core type: Operation\n",
       "   operator: 6\n",
       "   operand: 7\n",
       "6. f\n",
       "   core type: Variable\n",
       "   sub-expressions: \n",
       "7. y\n",
       "   core type: Variable\n",
       "   sub-expressions: "
      ]
     },
     "execution_count": 4,
     "metadata": {},
     "output_type": "execute_result"
    }
   ],
   "source": [
    "# display the expression information\n",
    "expr.exprInfo()"
   ]
  },
  {
   "cell_type": "code",
   "execution_count": null,
   "metadata": {},
   "outputs": [],
   "source": []
  }
 ],
 "metadata": {
  "kernelspec": {
   "display_name": "Python 3",
   "language": "python",
   "name": "python3"
  }
 },
 "nbformat": 4,
 "nbformat_minor": 0
}
