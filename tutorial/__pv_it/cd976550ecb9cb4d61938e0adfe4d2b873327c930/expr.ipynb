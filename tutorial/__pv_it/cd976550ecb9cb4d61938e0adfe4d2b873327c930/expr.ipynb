{
 "cells": [
  {
   "cell_type": "markdown",
   "metadata": {},
   "source": [
    "Expression of type <a class=\"ProveItLink\" href=\"../../../doc/html/api/proveit.Function.html\">Function</a>\n",
    "=======================\n",
    "# from context <a class=\"ProveItLink\" href=\"../../_context_.ipynb\">tutorial</a>"
   ]
  },
  {
   "cell_type": "code",
   "execution_count": 1,
   "metadata": {},
   "outputs": [],
   "source": [
    "# import Expression classes needed to build the expression\n",
    "from proveit import Function\n",
    "from proveit._common_ import P, a, x, y"
   ]
  },
  {
   "cell_type": "code",
   "execution_count": 2,
   "metadata": {},
   "outputs": [
    {
     "data": {
      "text/html": [
       "<strong id=\"expr\">expr:</strong> <a class=\"ProveItLink\" href=\"expr.ipynb\"><img src=\"data:image/png;base64,iVBORw0KGgoAAAANSUhEUgAAAFYAAAAVBAMAAAAutAQGAAAAMFBMVEX////u7u5mZmaYmJi6urqq\n",
       "qqp2dnbMzMwQEBBEREQyMjLc3NwiIiJUVFSIiIgAAAAeC3ydAAAAAXRSTlMAQObYZgAAAZ1JREFU\n",
       "KM+dkr9LQlEUx78v3+v5fPiDhpAWnYwgwqmhGtwSgnILIuTV4Bj+B9pshEttqVB/QP+AJQ1thVMQ\n",
       "JplBtOTPTMp+nXvv03R5QwfOuR+4X84959wD/NNWLe5sIRZffsrlq1MCtWiVaJrHD0BL0enwWGkd\n",
       "LKhvgEKOmmWBNoOC65WgRbBrqZWSFLQG4OwAcs668wNyN2l8aWCMHtF3StE5cTUZgN4UmH8KU+/b\n",
       "RAkD6gUrPkgCLAX3hMBYg6vBSU4hS8cGef0mFmAjs9MEDdSxzgVqZBZamuN5EDN0hMmz5qjcpPXg\n",
       "tt8K9uGucLwHrtn75J/404IUpilNJOKc3iF1hVZtmZf2CAW9Sxm5jeXwzEH/htKQeA1svNw06m2R\n",
       "2nkQaocfR5ykDpw5amKBJOZgMO6H0taSegW+AstblNuCjrHpN9jMJrJfogPIBUiZrdgj4O2xdJlq\n",
       "T1C+tpyhXk6GPyY1oBXxUKFPgz8e2PyAqHLcwRsRZJZYGdk6z7D2EocY1k6NLIfe33UXC9FqyCRh\n",
       "pdFNOrPYMlccv2QcYcHW7iE8AAAAAElFTkSuQmCC\n",
       "\" style=\"display:inline;vertical-align:middle;\" /></a><br>"
      ],
      "text/plain": [
       "expr: P(x , y , a)"
      ]
     },
     "execution_count": 2,
     "metadata": {},
     "output_type": "execute_result"
    }
   ],
   "source": [
    "# build up the expression from sub-expressions\n",
    "expr = Function(P, [x, y, a])"
   ]
  },
  {
   "cell_type": "code",
   "execution_count": 3,
   "metadata": {},
   "outputs": [
    {
     "name": "stdout",
     "output_type": "stream",
     "text": [
      "Passed sanity check: built 'expr' is the same as the stored Expression.\n"
     ]
    }
   ],
   "source": [
    "# check that the built expression is the same as the stored expression\n",
    "%check_expr"
   ]
  },
  {
   "cell_type": "code",
   "execution_count": 4,
   "metadata": {},
   "outputs": [
    {
     "data": {
      "text/html": [
       "<table><tr><th>&nbsp;</th><th>core type</th><th>sub-expressions</th><th>expression</th></tr>\n",
       "<tr><td>0</td><td>Operation</td><td>operator:&nbsp;1<br>operands:&nbsp;2<br></td><td><a class=\"ProveItLink\" href=\"expr.ipynb\"><img src=\"data:image/png;base64,iVBORw0KGgoAAAANSUhEUgAAAFYAAAAVBAMAAAAutAQGAAAAMFBMVEX////u7u5mZmaYmJi6urqq\n",
       "qqp2dnbMzMwQEBBEREQyMjLc3NwiIiJUVFSIiIgAAAAeC3ydAAAAAXRSTlMAQObYZgAAAZ1JREFU\n",
       "KM+dkr9LQlEUx78v3+v5fPiDhpAWnYwgwqmhGtwSgnILIuTV4Bj+B9pshEttqVB/QP+AJQ1thVMQ\n",
       "JplBtOTPTMp+nXvv03R5QwfOuR+4X84959wD/NNWLe5sIRZffsrlq1MCtWiVaJrHD0BL0enwWGkd\n",
       "LKhvgEKOmmWBNoOC65WgRbBrqZWSFLQG4OwAcs668wNyN2l8aWCMHtF3StE5cTUZgN4UmH8KU+/b\n",
       "RAkD6gUrPkgCLAX3hMBYg6vBSU4hS8cGef0mFmAjs9MEDdSxzgVqZBZamuN5EDN0hMmz5qjcpPXg\n",
       "tt8K9uGucLwHrtn75J/404IUpilNJOKc3iF1hVZtmZf2CAW9Sxm5jeXwzEH/htKQeA1svNw06m2R\n",
       "2nkQaocfR5ykDpw5amKBJOZgMO6H0taSegW+AstblNuCjrHpN9jMJrJfogPIBUiZrdgj4O2xdJlq\n",
       "T1C+tpyhXk6GPyY1oBXxUKFPgz8e2PyAqHLcwRsRZJZYGdk6z7D2EocY1k6NLIfe33UXC9FqyCRh\n",
       "pdFNOrPYMlccv2QcYcHW7iE8AAAAAElFTkSuQmCC\n",
       "\" style=\"display:inline;vertical-align:middle;\" /></a></td></tr>\n",
       "<tr><td>1</td><td>Variable</td><td></td><td><a class=\"ProveItLink\" href=\"../../../packages/proveit/__pv_it/6369c6c8083c513ca7161ace249642d040f9327d0/expr.ipynb\"><img src=\"data:image/png;base64,iVBORw0KGgoAAAANSUhEUgAAABAAAAAOBAMAAADUAYG5AAAAMFBMVEX////u7u5mZmaYmJi6urqq\n",
       "qqp2dnbMzMwQEBBEREQyMjLc3NwiIiJUVFSIiIgAAAAeC3ydAAAAAXRSTlMAQObYZgAAAGBJREFU\n",
       "CNdjYGB4+//u3bMbGIDgFwMDZzeQZv/GwMAKxAx8XxgYmD8BGZwfGBh4vwIZ/AsYGOQnABn1CQzs\n",
       "h0Ca3l9LUwPrni/AAAF/oDT7JygDZAwYcH6E0ELz/z4A0QBnpRnRyxnfJQAAAABJRU5ErkJggg==\n",
       "\" style=\"display:inline;vertical-align:middle;\" /></a></td></tr>\n",
       "<tr><td>2</td><td>ExprTuple</td><td>3, 4, 5</td><td><a class=\"ProveItLink\" href=\"../3c8cfc7700aa08d0b373e27cdb07dcb16114844d0/expr.ipynb\"><img src=\"data:image/png;base64,iVBORw0KGgoAAAANSUhEUgAAAEAAAAAVBAMAAAAEBPWpAAAAMFBMVEX////c3NwiIiJERESqqqqY\n",
       "mJh2dnZmZmYQEBDu7u4yMjJUVFTMzMyIiIi6uroAAAAs73DqAAAAAXRSTlMAQObYZgAAAU1JREFU\n",
       "KM+Fkr1LA0EQxX/BS7xLvJhCbIKYRjshhYogwWApiqmtrrMSgkIqCwVbNSAEsUqTwkbUf8D0FkmV\n",
       "CCIGqyCC8asIqDi7m5M0ngO783b23cy+mYN/LV7/+y7cku066OttWadBhCi49SBC2MMuBhGcHR6D\n",
       "JUxTkH30dqRpKpUKhLrmKtloJ2CdiuTxwhN2Ske9Z9yOUb/LgrglDiAiQauqokPZTQbSmjCeY0tc\n",
       "m2/JQCzdexP7DJtiVzAlrqYIYPtarS41nYs3nE9N2NP5qhi1g2VuNAh9YXUcVWJGupG4xy1qSjTP\n",
       "PAo578TKy7AmOljNzTGG86oynMc/DKqwmPeUzAc4apQ2cjiHItvJNF8MSt49ZWSWZ9iJ37lrFEn5\n",
       "qNdqGYc/GFmXHGcNMhap941bhSeZpZ9wonruH1QvVpqtHjJ2oRQH/BBulR+GME3BmO7SHQAAAABJ\n",
       "RU5ErkJggg==\n",
       "\" style=\"display:inline;vertical-align:middle;\" /></a></td></tr>\n",
       "<tr><td>3</td><td>Variable</td><td></td><td><a class=\"ProveItLink\" href=\"../../../packages/proveit/__pv_it/530be409e3083890784cf1d7b28c9e67e90af9360/expr.ipynb\"><img src=\"data:image/png;base64,iVBORw0KGgoAAAANSUhEUgAAAAsAAAAJBAMAAAAWSsseAAAAKlBMVEX///9ERETMzMwQEBAiIiKY\n",
       "mJju7u5mZmaqqqpUVFSIiIh2dnbc3NwAAAA/vyDhAAAAAXRSTlMAQObYZgAAAENJREFUCNdjYDi9\n",
       "8sTyBQxsG1hdmR0YuBm4LnAoMLAxcAowgADzAjB1VoEhgYH1wFoGrgSG3gBhhlMMDImrs3cFMAAA\n",
       "t0YN+iTRa+sAAAAASUVORK5CYII=\n",
       "\" style=\"display:inline;vertical-align:middle;\" /></a></td></tr>\n",
       "<tr><td>4</td><td>Variable</td><td></td><td><a class=\"ProveItLink\" href=\"../../../packages/proveit/__pv_it/f8b9edf8e16034727f0aad55bb83e392c3db40d40/expr.ipynb\"><img src=\"data:image/png;base64,iVBORw0KGgoAAAANSUhEUgAAAAsAAAANBAMAAACN24kIAAAAMFBMVEX///+YmJhUVFQyMjIQEBBE\n",
       "REQiIiKqqqrMzMyIiIi6urrc3NxmZmZ2dnbu7u4AAADXeCicAAAAAXRSTlMAQObYZgAAAFhJREFU\n",
       "CNdj4LtzgWH/AwZerg8M8xkY2nkSGEIZGB6wTGD4ycDAUP+A4weQOszA6QCkbBhYFYDUIYb1AkDq\n",
       "6czzGxhA4BoQMyXwuQMptgusF4AU+8xTQBIAUqMVoSp/SLMAAAAASUVORK5CYII=\n",
       "\" style=\"display:inline;vertical-align:middle;\" /></a></td></tr>\n",
       "<tr><td>5</td><td>Variable</td><td></td><td><a class=\"ProveItLink\" href=\"../../../packages/proveit/__pv_it/07527342713064c87612d00d8557c53d53d5324a0/expr.ipynb\"><img src=\"data:image/png;base64,iVBORw0KGgoAAAANSUhEUgAAAAsAAAAJBAMAAAAWSsseAAAAMFBMVEX///8yMjKqqqrMzMzu7u4i\n",
       "IiJmZmaYmJhEREQQEBC6urp2dnaIiIhUVFTc3NwAAAD87Fq/AAAAAXRSTlMAQObYZgAAAEhJREFU\n",
       "CNdjYOC7s2seAwPDygccHxgY+L4zsDUwMPB+YGA9wMDA38Dgb8DA8P4Agz6DA4O/AsNFJgMGxgKm\n",
       "MG6gyjunLE4xAAAZTBA5TB6DCwAAAABJRU5ErkJggg==\n",
       "\" style=\"display:inline;vertical-align:middle;\" /></a></td></tr>\n",
       "</table>\n"
      ],
      "text/plain": [
       "0. P(x , y , a)\n",
       "   core type: Operation\n",
       "   operator: 1\n",
       "   operands: 2\n",
       "1. P\n",
       "   core type: Variable\n",
       "   sub-expressions: \n",
       "2. (x , y , a)\n",
       "   core type: ExprTuple\n",
       "   sub-expressions: 3, 4, 5\n",
       "3. x\n",
       "   core type: Variable\n",
       "   sub-expressions: \n",
       "4. y\n",
       "   core type: Variable\n",
       "   sub-expressions: \n",
       "5. a\n",
       "   core type: Variable\n",
       "   sub-expressions: "
      ]
     },
     "execution_count": 4,
     "metadata": {},
     "output_type": "execute_result"
    }
   ],
   "source": [
    "# display the expression information\n",
    "expr.exprInfo()"
   ]
  },
  {
   "cell_type": "code",
   "execution_count": null,
   "metadata": {},
   "outputs": [],
   "source": []
  }
 ],
 "metadata": {
  "kernelspec": {
   "display_name": "Python 3",
   "language": "python",
   "name": "python3"
  }
 },
 "nbformat": 4,
 "nbformat_minor": 0
}
