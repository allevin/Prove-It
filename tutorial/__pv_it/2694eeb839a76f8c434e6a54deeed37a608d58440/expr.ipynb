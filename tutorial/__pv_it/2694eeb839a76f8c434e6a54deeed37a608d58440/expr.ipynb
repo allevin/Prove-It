{
 "cells": [
  {
   "cell_type": "markdown",
   "metadata": {},
   "source": [
    "Expression of type <a class=\"ProveItLink\" href=\"../../../doc/html/api/proveit.Lambda.html\">Lambda</a>\n",
    "=======================\n",
    "# from context <a class=\"ProveItLink\" href=\"../../_context_.ipynb\">tutorial</a>"
   ]
  },
  {
   "cell_type": "code",
   "execution_count": 1,
   "metadata": {},
   "outputs": [],
   "source": [
    "# import Expression classes needed to build the expression\n",
    "from proveit import Lambda\n",
    "from proveit._common_ import Pxy, y"
   ]
  },
  {
   "cell_type": "code",
   "execution_count": 2,
   "metadata": {},
   "outputs": [
    {
     "data": {
      "text/html": [
       "<strong id=\"expr\">expr:</strong> <a class=\"ProveItLink\" href=\"expr.ipynb\"><img src=\"data:image/png;base64,iVBORw0KGgoAAAANSUhEUgAAAG0AAAAVCAMAAAB7V5DIAAAANlBMVEX///8UFBQNDQ2YmJhUVFQy\n",
       "MjIQEBBEREQiIiKqqqrMzMyIiIi6urrc3NxmZmZ2dnbu7u4AAACrLjZHAAAAAXRSTlMAQObYZgAA\n",
       "AZ1JREFUSMfVldtiwyAIht00nk+8/8sOjKZq7ebS3cwbUysf8oPI2L8b3v28h/sbYCcABA4twrVm\n",
       "xY5ltHcCgaNMSl7ujrxleNxwZiGV2dQZw3V7ljzdkBLOBHCIdUXuhcay/L03BecswNQS2VZIoUVO\n",
       "kUIMkJf6GrNMWwbVsl8FCsmJYFzsdR3ZCdVIzENRqG3RI17kRdqsjlfyeQWjupoz2ZuPbHMwa1ik\n",
       "DUq98Ja7WidDkRKe+LEmfQWfVNMV+sT2kuHJJQUPlwKfH3oYEnyftrkm6r+0LNR00JFtodRypi/7\n",
       "IjYm+i4Amq29lTCf7sLALt4i5d09ynPixTCkLc5AeZVRKNQh9oHtaT4IoMQLb9atbltf12eV8HAW\n",
       "g8u9x4HNyXXEHx74gzhrz75LW6lrkoxjM8P4XLke7cQDu+zMyrkIYaMZRIUtec6NL2SEpJyS42fX\n",
       "aLiBfTRdkr7/3sjFQX231tilcwlNH+a+t1W3rdoN7ESqaNysEntjLF6c6q1n59LyDCrr33HGwtNr\n",
       "2nLbs0VgfzPCxgvn6C5+ATRsEJTVt17iAAAAAElFTkSuQmCC\n",
       "\" style=\"display:inline;vertical-align:middle;\" /></a><br>"
      ],
      "text/plain": [
       "expr: y -> P(x , y)"
      ]
     },
     "execution_count": 2,
     "metadata": {},
     "output_type": "execute_result"
    }
   ],
   "source": [
    "# build up the expression from sub-expressions\n",
    "expr = Lambda(y, Pxy)"
   ]
  },
  {
   "cell_type": "code",
   "execution_count": 3,
   "metadata": {},
   "outputs": [
    {
     "name": "stdout",
     "output_type": "stream",
     "text": [
      "Passed sanity check: built 'expr' is the same as the stored Expression.\n"
     ]
    }
   ],
   "source": [
    "# check that the built expression is the same as the stored expression\n",
    "%check_expr"
   ]
  },
  {
   "cell_type": "code",
   "execution_count": 4,
   "metadata": {},
   "outputs": [
    {
     "data": {
      "text/html": [
       "<table><tr><th>&nbsp;</th><th>core type</th><th>sub-expressions</th><th>expression</th></tr>\n",
       "<tr><td>0</td><td>Lambda</td><td>parameter:&nbsp;5<br>body:&nbsp;1<br></td><td><a class=\"ProveItLink\" href=\"expr.ipynb\"><img src=\"data:image/png;base64,iVBORw0KGgoAAAANSUhEUgAAAG0AAAAVCAMAAAB7V5DIAAAANlBMVEX///8UFBQNDQ2YmJhUVFQy\n",
       "MjIQEBBEREQiIiKqqqrMzMyIiIi6urrc3NxmZmZ2dnbu7u4AAACrLjZHAAAAAXRSTlMAQObYZgAA\n",
       "AZ1JREFUSMfVldtiwyAIht00nk+8/8sOjKZq7ebS3cwbUysf8oPI2L8b3v28h/sbYCcABA4twrVm\n",
       "xY5ltHcCgaNMSl7ujrxleNxwZiGV2dQZw3V7ljzdkBLOBHCIdUXuhcay/L03BecswNQS2VZIoUVO\n",
       "kUIMkJf6GrNMWwbVsl8FCsmJYFzsdR3ZCdVIzENRqG3RI17kRdqsjlfyeQWjupoz2ZuPbHMwa1ik\n",
       "DUq98Ja7WidDkRKe+LEmfQWfVNMV+sT2kuHJJQUPlwKfH3oYEnyftrkm6r+0LNR00JFtodRypi/7\n",
       "IjYm+i4Amq29lTCf7sLALt4i5d09ynPixTCkLc5AeZVRKNQh9oHtaT4IoMQLb9atbltf12eV8HAW\n",
       "g8u9x4HNyXXEHx74gzhrz75LW6lrkoxjM8P4XLke7cQDu+zMyrkIYaMZRIUtec6NL2SEpJyS42fX\n",
       "aLiBfTRdkr7/3sjFQX231tilcwlNH+a+t1W3rdoN7ESqaNysEntjLF6c6q1n59LyDCrr33HGwtNr\n",
       "2nLbs0VgfzPCxgvn6C5+ATRsEJTVt17iAAAAAElFTkSuQmCC\n",
       "\" style=\"display:inline;vertical-align:middle;\" /></a></td></tr>\n",
       "<tr><td>1</td><td>Operation</td><td>operator:&nbsp;2<br>operands:&nbsp;3<br></td><td><a class=\"ProveItLink\" href=\"../../../packages/proveit/__pv_it/e0e45b9393452be20ed9dd804d04d86a2899b1ba0/expr.ipynb\"><img src=\"data:image/png;base64,iVBORw0KGgoAAAANSUhEUgAAAEIAAAAVBAMAAAAA8SWUAAAAMFBMVEX////u7u5mZmaYmJi6urqq\n",
       "qqp2dnbMzMwQEBBEREQyMjLc3NwiIiJUVFSIiIgAAAAeC3ydAAAAAXRSTlMAQObYZgAAAWhJREFU\n",
       "KM+VUjtPwlAYPaWF0hJK40DURSZcHJgcnBydlNlBGwdH039QnUmUReOiMPgDWHREgombCZOLkhAG\n",
       "44IIPgYf0XOvNzxSFm9yv3v63XPP9yrwr7Ua8ujLwnZ+ms2bCoHZCD+al/YDsAo8bTfMsIUx34Eo\n",
       "N54mBNY9GueVoE+wN4Gh7dJYz0DyDTDKk7I/5E7xZq4IRITgRee83ZJX6SwSPWCLMPBg1kVSOYp6\n",
       "+lW8JhneGhyqrxN2b7ezotg4a4/RG/Vl/vkFWFReIS6pIlNkaEgWVYrYR4rxAuIvDBlUaqnPaA+B\n",
       "LxlmX7nieWEvffxpRsp4hIwi2iGXxUz1SheOKzl2Bic8lnjRU4xYBtjMHaMKTQSONIwXiGqnSt8q\n",
       "ssEqZx7SOzloB6xNO21/0ns22r7CABkVKVpTXR+sxeG8uO8xzdRjrbFJu6OMaxzRzo4NKTH4g8TD\n",
       "jbboz934HKuhyTo+fgFmwVFLOVAG8QAAAABJRU5ErkJggg==\n",
       "\" style=\"display:inline;vertical-align:middle;\" /></a></td></tr>\n",
       "<tr><td>2</td><td>Variable</td><td></td><td><a class=\"ProveItLink\" href=\"../../../packages/proveit/__pv_it/6369c6c8083c513ca7161ace249642d040f9327d0/expr.ipynb\"><img src=\"data:image/png;base64,iVBORw0KGgoAAAANSUhEUgAAABAAAAAOBAMAAADUAYG5AAAAMFBMVEX////u7u5mZmaYmJi6urqq\n",
       "qqp2dnbMzMwQEBBEREQyMjLc3NwiIiJUVFSIiIgAAAAeC3ydAAAAAXRSTlMAQObYZgAAAGBJREFU\n",
       "CNdjYGB4+//u3bMbGIDgFwMDZzeQZv/GwMAKxAx8XxgYmD8BGZwfGBh4vwIZ/AsYGOQnABn1CQzs\n",
       "h0Ca3l9LUwPrni/AAAF/oDT7JygDZAwYcH6E0ELz/z4A0QBnpRnRyxnfJQAAAABJRU5ErkJggg==\n",
       "\" style=\"display:inline;vertical-align:middle;\" /></a></td></tr>\n",
       "<tr><td>3</td><td>ExprTuple</td><td>4, 5</td><td><a class=\"ProveItLink\" href=\"../../../packages/proveit/__pv_it/8015af457c372be02f7b56fbcf0db088047bb4a30/expr.ipynb\"><img src=\"data:image/png;base64,iVBORw0KGgoAAAANSUhEUgAAACwAAAAVBAMAAADP3xFXAAAAMFBMVEX////c3NwiIiJERESqqqqY\n",
       "mJh2dnZmZmYQEBDu7u4yMjJUVFTMzMyIiIi6uroAAAAs73DqAAAAAXRSTlMAQObYZgAAAQtJREFU\n",
       "GNNjYMAB+C6gi7A+ABKnMVXWAPFKTGEuBgbeC5jCrAkMHBMwhTkbGF5hc4YJQxmQFLstch1i1rQy\n",
       "BsafDAzpDEuBehJYVTkUwMIJ7xl4PzAweDH0MTCwAZksB0CiPA5FDMwGDAwvGP4BVTNwG0DtYuhl\n",
       "4Acadx4kzMDAAXMly0+G8wdAwi0gnvwBBog72Rcw3GAAGWIKdL3AfQbeCWAJrgIGayAVBXQLg3+A\n",
       "BYMsA+cnkOoNfF8ZQA58xMAw+dq03AAGzn4BoJ221z8ChdcxcAjAQxjMYlMAex4YLLAAAuJNDDMc\n",
       "gFIXkAIWJKzGYAYkZwGxNEwY5Hbf66CY2QjEjBgBznuAAQAt5DtyKXSr1gAAAABJRU5ErkJggg==\n",
       "\" style=\"display:inline;vertical-align:middle;\" /></a></td></tr>\n",
       "<tr><td>4</td><td>Variable</td><td></td><td><a class=\"ProveItLink\" href=\"../../../packages/proveit/__pv_it/530be409e3083890784cf1d7b28c9e67e90af9360/expr.ipynb\"><img src=\"data:image/png;base64,iVBORw0KGgoAAAANSUhEUgAAAAsAAAAJBAMAAAAWSsseAAAAKlBMVEX///9ERETMzMwQEBAiIiKY\n",
       "mJju7u5mZmaqqqpUVFSIiIh2dnbc3NwAAAA/vyDhAAAAAXRSTlMAQObYZgAAAENJREFUCNdjYDi9\n",
       "8sTyBQxsG1hdmR0YuBm4LnAoMLAxcAowgADzAjB1VoEhgYH1wFoGrgSG3gBhhlMMDImrs3cFMAAA\n",
       "t0YN+iTRa+sAAAAASUVORK5CYII=\n",
       "\" style=\"display:inline;vertical-align:middle;\" /></a></td></tr>\n",
       "<tr><td>5</td><td>Variable</td><td></td><td><a class=\"ProveItLink\" href=\"../../../packages/proveit/__pv_it/f8b9edf8e16034727f0aad55bb83e392c3db40d40/expr.ipynb\"><img src=\"data:image/png;base64,iVBORw0KGgoAAAANSUhEUgAAAAsAAAANBAMAAACN24kIAAAAMFBMVEX///+YmJhUVFQyMjIQEBBE\n",
       "REQiIiKqqqrMzMyIiIi6urrc3NxmZmZ2dnbu7u4AAADXeCicAAAAAXRSTlMAQObYZgAAAFhJREFU\n",
       "CNdj4LtzgWH/AwZerg8M8xkY2nkSGEIZGB6wTGD4ycDAUP+A4weQOszA6QCkbBhYFYDUIYb1AkDq\n",
       "6czzGxhA4BoQMyXwuQMptgusF4AU+8xTQBIAUqMVoSp/SLMAAAAASUVORK5CYII=\n",
       "\" style=\"display:inline;vertical-align:middle;\" /></a></td></tr>\n",
       "</table>\n"
      ],
      "text/plain": [
       "0. y -> P(x , y)\n",
       "   core type: Lambda\n",
       "   parameter: 5\n",
       "   body: 1\n",
       "1. P(x , y)\n",
       "   core type: Operation\n",
       "   operator: 2\n",
       "   operands: 3\n",
       "2. P\n",
       "   core type: Variable\n",
       "   sub-expressions: \n",
       "3. (x , y)\n",
       "   core type: ExprTuple\n",
       "   sub-expressions: 4, 5\n",
       "4. x\n",
       "   core type: Variable\n",
       "   sub-expressions: \n",
       "5. y\n",
       "   core type: Variable\n",
       "   sub-expressions: "
      ]
     },
     "execution_count": 4,
     "metadata": {},
     "output_type": "execute_result"
    }
   ],
   "source": [
    "# display the expression information\n",
    "expr.exprInfo()"
   ]
  },
  {
   "cell_type": "code",
   "execution_count": null,
   "metadata": {},
   "outputs": [],
   "source": []
  }
 ],
 "metadata": {
  "kernelspec": {
   "display_name": "Python 3",
   "language": "python",
   "name": "python3"
  }
 },
 "nbformat": 4,
 "nbformat_minor": 0
}
