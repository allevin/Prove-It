{
 "cells": [
  {
   "cell_type": "markdown",
   "metadata": {},
   "source": [
    "Expression of type <a class=\"ProveItLink\" href=\"../../../doc/html/api/proveit.Lambda.html\">Lambda</a>\n",
    "=======================\n",
    "# from context <a class=\"ProveItLink\" href=\"../../_context_.ipynb\">tutorial</a>"
   ]
  },
  {
   "cell_type": "code",
   "execution_count": 1,
   "metadata": {},
   "outputs": [],
   "source": [
    "# import Expression classes needed to build the expression\n",
    "from proveit import Lambda, Variable\n",
    "from proveit._common_ import x\n",
    "from proveit.logic import InSet\n",
    "from proveit.number import Reals"
   ]
  },
  {
   "cell_type": "code",
   "execution_count": 2,
   "metadata": {},
   "outputs": [
    {
     "data": {
      "text/html": [
       "<strong id=\"expr\">expr:</strong> <a class=\"ProveItLink\" href=\"expr.ipynb\"><img src=\"data:image/png;base64,iVBORw0KGgoAAAANSUhEUgAAAOQAAAAVCAMAAABhR7IDAAAANlBMVEX///8UFBQNDQ3c3NwiIiJE\n",
       "RESqqqqYmJh2dnZmZmYQEBDu7u4yMjJUVFTMzMyIiIi6uroAAABQuW4xAAAAAXRSTlMAQObYZgAA\n",
       "AjJJREFUWMPFWEli4yAQJGET0Gz//+wAsmRWu2OPZR2cQ6uKKnoBhZBLHkHJl5/gMW/J8MYSW/iy\n",
       "R2dx7yl3nUkJkfMIoMG/stwIB4OEwpWZ5ISmzXdcwEuV3sE9eq/kdq1Jlf8Yyl80WcM1NpHE6I+Z\n",
       "NB5YemBQuTmCMPkMHv5QhFx8yKQDaeapQJl8Cle3GqSbt1R41RTvUZ9OF3ubWvSnaNxPqGqTY5hy\n",
       "s6o325drJwkHB7knPIElk0Sz6k1/9DzVhVvcrbGW01bLzKgqk5Mwp6umCky2g6eXhIPrcG6Qj8mH\n",
       "63etyPdlK4JemTSWNqieqjI5hg2fTw6d26zrkF4SDh735TPOdm8Hd04bWRS5eMZ+f1jz6HjamFHV\n",
       "mRzCQR8s3eQIinSVOEjCwe/iiPaTXRP23gmVyS6TxLaTZaB6FJ7eRkq9qdDFBkk4eNW/0R2lcBNe\n",
       "uESZFeRxuaq2LQaq1mQXNmx50IE5q3IuCQfnO4mkpVGIN/flucvJS/Lo7VIkV4PH1ZlpqEaTk7CV\n",
       "K5UpE9aRB5Jw8P1YEFESnvJEs1oTdwub9krb/HPLdnWEtOVYN05DNZqchQ0LqzMgZS0Pz6UkHDyw\n",
       "fUL5zWzbnlyjY6k+AxFc/jk4AHM5a6hGk9Mwhe72v9+wc96AQxRrSTg40ZNTJtCLr3VpmEA7HnGS\n",
       "sPDZtVvOlfrPmXz+dfAefPKpNWU0l35q/WeTdDhn5hmz9Ism/bubRFEM3r2j8av//vgHtuMchv5A\n",
       "yF4AAAAASUVORK5CYII=\n",
       "\" style=\"display:inline;vertical-align:middle;\" /></a><br>"
      ],
      "text/plain": [
       "expr: (x, omega) -> x | x in Reals , omega in Reals"
      ]
     },
     "execution_count": 2,
     "metadata": {},
     "output_type": "execute_result"
    }
   ],
   "source": [
    "# build up the expression from sub-expressions\n",
    "subExpr1 = Variable(\"omega\", latexFormat = r\"\\omega\")\n",
    "expr = Lambda([x, subExpr1], x, conditions = [InSet(x, Reals), InSet(subExpr1, Reals)])"
   ]
  },
  {
   "cell_type": "code",
   "execution_count": 3,
   "metadata": {},
   "outputs": [
    {
     "name": "stdout",
     "output_type": "stream",
     "text": [
      "Passed sanity check: built 'expr' is the same as the stored Expression.\n"
     ]
    }
   ],
   "source": [
    "# check that the built expression is the same as the stored expression\n",
    "%check_expr"
   ]
  },
  {
   "cell_type": "code",
   "execution_count": 4,
   "metadata": {},
   "outputs": [
    {
     "data": {
      "text/html": [
       "<table><tr><th>&nbsp;</th><th>core type</th><th>sub-expressions</th><th>expression</th></tr>\n",
       "<tr><td>0</td><td>Lambda</td><td>parameters:&nbsp;1<br>body:&nbsp;8<br>conditions:&nbsp;2<br></td><td><a class=\"ProveItLink\" href=\"expr.ipynb\"><img src=\"data:image/png;base64,iVBORw0KGgoAAAANSUhEUgAAAOQAAAAVCAMAAABhR7IDAAAANlBMVEX///8UFBQNDQ3c3NwiIiJE\n",
       "RESqqqqYmJh2dnZmZmYQEBDu7u4yMjJUVFTMzMyIiIi6uroAAABQuW4xAAAAAXRSTlMAQObYZgAA\n",
       "AjJJREFUWMPFWEli4yAQJGET0Gz//+wAsmRWu2OPZR2cQ6uKKnoBhZBLHkHJl5/gMW/J8MYSW/iy\n",
       "R2dx7yl3nUkJkfMIoMG/stwIB4OEwpWZ5ISmzXdcwEuV3sE9eq/kdq1Jlf8Yyl80WcM1NpHE6I+Z\n",
       "NB5YemBQuTmCMPkMHv5QhFx8yKQDaeapQJl8Cle3GqSbt1R41RTvUZ9OF3ubWvSnaNxPqGqTY5hy\n",
       "s6o325drJwkHB7knPIElk0Sz6k1/9DzVhVvcrbGW01bLzKgqk5Mwp6umCky2g6eXhIPrcG6Qj8mH\n",
       "63etyPdlK4JemTSWNqieqjI5hg2fTw6d26zrkF4SDh735TPOdm8Hd04bWRS5eMZ+f1jz6HjamFHV\n",
       "mRzCQR8s3eQIinSVOEjCwe/iiPaTXRP23gmVyS6TxLaTZaB6FJ7eRkq9qdDFBkk4eNW/0R2lcBNe\n",
       "uESZFeRxuaq2LQaq1mQXNmx50IE5q3IuCQfnO4mkpVGIN/flucvJS/Lo7VIkV4PH1ZlpqEaTk7CV\n",
       "K5UpE9aRB5Jw8P1YEFESnvJEs1oTdwub9krb/HPLdnWEtOVYN05DNZqchQ0LqzMgZS0Pz6UkHDyw\n",
       "fUL5zWzbnlyjY6k+AxFc/jk4AHM5a6hGk9Mwhe72v9+wc96AQxRrSTg40ZNTJtCLr3VpmEA7HnGS\n",
       "sPDZtVvOlfrPmXz+dfAefPKpNWU0l35q/WeTdDhn5hmz9Ism/bubRFEM3r2j8av//vgHtuMchv5A\n",
       "yF4AAAAASUVORK5CYII=\n",
       "\" style=\"display:inline;vertical-align:middle;\" /></a></td></tr>\n",
       "<tr><td>1</td><td>ExprTuple</td><td>8, 9</td><td><a class=\"ProveItLink\" href=\"../90400acadb44fbb53c7c0b9a4d6d4b590294ebf00/expr.ipynb\"><img src=\"data:image/png;base64,iVBORw0KGgoAAAANSUhEUgAAAC8AAAAVBAMAAAAk6KpUAAAAMFBMVEX////c3NwiIiJERESqqqqY\n",
       "mJh2dnZmZmYQEBDu7u4yMjJUVFTMzMyIiIi6uroAAAAs73DqAAAAAXRSTlMAQObYZgAAAQtJREFU\n",
       "KM9jYMAJ+C5gisWBiNNYFLMfABIrsRmzgIGB9wI2iTAGBo4J2CRmMDC8wuoiZgeGMiAldlvkOsRE\n",
       "NiDmaQHSBQxLGRg4E1hVORTAEheBmLGNgYFlAUMfSBnvB5YDYIkEBk4GhqtAzzUw/APqYOA2gHr2\n",
       "AMjaGKBxH0ASQKdB3Qy0whukDSTRAhKQP8AAdjU3A0MKA2MC2ChTBgZWgfsMvBNAUswHeP4xSAEZ\n",
       "rAsY0hkY/AMsGGQZOD8Bjeqt2HEdZAbQuY8YGCZfm5YbwMDZL8DAuX7NrF8PgBJcDxg4BODhL4AS\n",
       "JKwJMA4rUpDkIgc7kgQnMNgZpGE8pPDnBpnKiCVC7jAwAAD7Jjg6jISTPwAAAABJRU5ErkJggg==\n",
       "\" style=\"display:inline;vertical-align:middle;\" /></a></td></tr>\n",
       "<tr><td>2</td><td>ExprTuple</td><td>3, 4</td><td><a class=\"ProveItLink\" href=\"../dbd279e6932ba2405be2855caa360d65c8f7ee260/expr.ipynb\"><img src=\"data:image/png;base64,iVBORw0KGgoAAAANSUhEUgAAAH8AAAAVBAMAAACd/CwcAAAAMFBMVEX////c3NwiIiJERESqqqqY\n",
       "mJh2dnZmZmYQEBDu7u4yMjJUVFTMzMyIiIi6uroAAAAs73DqAAAAAXRSTlMAQObYZgAAAgtJREFU\n",
       "OMtjYKAY8F0gX28ciDiNRYJ1vfGvFWtxa4z6bL+qC2gx+wEgZyU2FcyMG3hMFuI2wUCa4bCXAAPD\n",
       "AgYG3gvYDShgsBTGY4A4A/NEAwaGMAYGjgnIEnMXKWnBDMhhxtDHeUtJaQHUALYDQANmMDC8QlbA\n",
       "s3QCwgVYDDgViXAB2ABmB4YyIFfstsh1sE+EJyB5YSfUC2wgk1tALEZLJC9wg7zAVsCwFOiwBFZV\n",
       "DgWQuCFSGPCpQgPxIkhrG1hUAMmAR1FAHssChj6QFbwfWEARwmmAMKBJaQmUncDAycBwFcSajAhE\n",
       "CSUtB1AiamD4B9THwA3RydekpAQLxLoCqHv5DoCCKgbEfAGUhgXic2aQd3k+gAwARgUkLnk2IHmh\n",
       "7jQ8CLxBzkBJcwbi7G82QAwAh478AQaQeZwKSAZwzQ0AM7kZGFIYGMEGTEJOByuvQrxgCky4AvcZ\n",
       "eMHhvxXJAJ4NexhAxjIf4PnHIAWW5g5AMuA0NzDYWBcwpDMw+AdYMMiCxSc9QIrGFGYBzk9AL/RW\n",
       "7LjeAklHekgGsDkYgqPxETBwr03LhZjNuPwALDN9PsBl9YWzX4CBc/2aWb+gBkvVwDOTDcPi9Q4M\n",
       "XA8YOASQkxrLLkgswPO6AGpS9F4EiQUYAMYPawK+DM9KoEDIxZWdiTSAE+QcaXwqCJRW3CAfMlJQ\n",
       "pN1hYAAA40l6PKEWz5YAAAAASUVORK5CYII=\n",
       "\" style=\"display:inline;vertical-align:middle;\" /></a></td></tr>\n",
       "<tr><td>3</td><td>Operation</td><td>operator:&nbsp;6<br>operands:&nbsp;5<br></td><td><a class=\"ProveItLink\" href=\"../fa2b6a7e0ba905cc446465b0bfe4b96e0c5594130/expr.ipynb\"><img src=\"data:image/png;base64,iVBORw0KGgoAAAANSUhEUgAAADQAAAAPBAMAAABZ6/G2AAAAMFBMVEX///+6uroyMjJERETMzMwQ\n",
       "EBAiIiKYmJju7u5mZmaqqqpUVFSIiIh2dnbc3NwAAAAWgogoAAAAAXRSTlMAQObYZgAAAL9JREFU\n",
       "GNNjYMAA7PrGn1R1GLACZr4NLFZ6OKQmMFg8RhbhOJSWpgCTusKMLOVUgaQLLPX29KuTB4A0nwWy\n",
       "gTuABnJcYE9nTQAJPECSYkwHOoOXgecDlwNQoBnJGWFpWiDLGbgNwAKiaWlwZ0ycADGd9QCY8kZ2\n",
       "/EQI770DQwOQakOWYuopAAbLg/MMPCAp7gIkKZYNWxgY1heYMrwB+zgR2fG3gA5uPtt7B6L+0RR4\n",
       "8H52YDL6hRwcq9UgLoQCAPaLM5068DIIAAAAAElFTkSuQmCC\n",
       "\" style=\"display:inline;vertical-align:middle;\" /></a></td></tr>\n",
       "<tr><td>4</td><td>Operation</td><td>operator:&nbsp;6<br>operands:&nbsp;7<br></td><td><a class=\"ProveItLink\" href=\"../e1d7792fcf55928b0fb378c0e7132e25e4ff27af0/expr.ipynb\"><img src=\"data:image/png;base64,iVBORw0KGgoAAAANSUhEUgAAADYAAAAPBAMAAABdHiGLAAAAMFBMVEX///8iIiJmZmYyMjJERERU\n",
       "VFS6urqYmJju7u7c3NyIiIiqqqoQEBDMzMx2dnYAAACMQNsoAAAAAXRSTlMAQObYZgAAAMpJREFU\n",
       "GNNjYMAE7PYun22sGLADFs4AXm9LXHIKDB5TUIQ4FgsKGsDk3rKgyF2uQNIHlnsAxHc2AAlOD2Qz\n",
       "I4Bmck0AcuaAFLBMQJJjEwe6hY+BoYGBqwAo0oLkloOC1kA6l4HjAAP7BSArR1AQ7hY1BQ+wddwB\n",
       "IM0MDFeR/aAG4gElNjDMA4k0IssxdwGt8WW4n8BpARJhLUCS4w2IZWB4s+joKZ0NYK+LIfvhNdDZ\n",
       "zZ9v2JtBhCbrwsP6ywVm598oAbPVEOJOKAAAoactYTiUOqIAAAAASUVORK5CYII=\n",
       "\" style=\"display:inline;vertical-align:middle;\" /></a></td></tr>\n",
       "<tr><td>5</td><td>ExprTuple</td><td>8, 10</td><td><a class=\"ProveItLink\" href=\"../cb351230b9382225f76af34f8dda3cddb6463dbb0/expr.ipynb\"><img src=\"data:image/png;base64,iVBORw0KGgoAAAANSUhEUgAAADAAAAAVBAMAAADyTXAxAAAAMFBMVEX////c3NwiIiJERESqqqqY\n",
       "mJh2dnZmZmYQEBDu7u4yMjJUVFTMzMyIiIi6uroAAAAs73DqAAAAAXRSTlMAQObYZgAAARBJREFU\n",
       "KM9jYMAJ+C5girE+ABKnkQXWG/9asRbIqAHilchKmRk38JgsZGDgYmDgvYAqUcBgKQzUmsDAMQFd\n",
       "IoeZgYGzgeEVAzYJBhOGMiApdlvk+gW4xE6gUQzpDEuB+hJYVTkUYBJ8qkDLGbwY+hgY2Bh4P7Ac\n",
       "gEo0KS0BMV4w/APqYOA2gNtRV2AJYpwHSTAwcFxAWF53GiLRAqLkDzBMgElwzQ0AG2UK9I3AfQbe\n",
       "CWApoATPhj1ARhTQXQz+ARYMsgycn6DOTWEWADn3EQPD5GvTcgMYOPsFQIH4+QCX1RcGhnUMHALw\n",
       "8BdAhAAwSIDBBQtzpKBhu4AU7MgSs4BYGsZBDv+NQMyIJWp5DzAAABMaPkMdIdlaAAAAAElFTkSu\n",
       "QmCC\n",
       "\" style=\"display:inline;vertical-align:middle;\" /></a></td></tr>\n",
       "<tr><td>6</td><td>Literal</td><td></td><td><a class=\"ProveItLink\" href=\"../../../packages/proveit/logic/set_theory/membership/__pv_it/088cbc857536a28d4119ad9639a84270ccb0545d0/expr.ipynb\"><img src=\"data:image/png;base64,iVBORw0KGgoAAAANSUhEUgAAAAwAAAAMBAMAAACkW0HUAAAALVBMVEX///+qqqpmZmZUVFQQEBC6\n",
       "urpERETc3NyYmJjMzMwiIiIyMjKIiIju7u4AAACYsrA9AAAAAXRSTlMAQObYZgAAADxJREFUCNdj\n",
       "YOA9vWrVBgaG2b0MQMCeCyIZ2ArA1DUwyRCyahVIyWQI7xaEYm4AU7xLIdxqTQgtvGvVBgCkcQ7e\n",
       "geM/tQAAAABJRU5ErkJggg==\n",
       "\" style=\"display:inline;vertical-align:middle;\" /></a></td></tr>\n",
       "<tr><td>7</td><td>ExprTuple</td><td>9, 10</td><td><a class=\"ProveItLink\" href=\"../c385210077734df8740547ef697a763fd618a8130/expr.ipynb\"><img src=\"data:image/png;base64,iVBORw0KGgoAAAANSUhEUgAAADIAAAAVBAMAAAD2uKAMAAAAMFBMVEX////c3NwiIiJERESqqqqY\n",
       "mJh2dnZmZmYQEBDu7u4yMjJUVFTMzMyIiIi6uroAAAAs73DqAAAAAXRSTlMAQObYZgAAARdJREFU\n",
       "KM9jYMAN+C5gEWR9ACROo4isN/61Yi2QUQPEK1EUMzNu4DFZyMDAxcDAewFNpoDBUhioOYGBYwKG\n",
       "TA4zAwNnA8MrBqwyDCYMZUAyAYhPOMBldgJNY0hnWAq0SgDIkkiAyfCpAl3A4MXQx8DAxsAwgYE3\n",
       "ACrTpLQExHjB8I+B4Q3IPtYDUJm6AksQ4zxIJoGBZQNII9S0utMQmRYGBqCwA4MYXIZrbgDYNFMG\n",
       "BhuG8w8YVzJwQmV4NuwBMqKArmPIuN7dW+HAMF8B6uoUZgGQqx8xMMz6dXL9OgaGGR/BIfr5AJfV\n",
       "FwaGdQwcAnD/P0QKC5BrE+C8ACQZtgvIsYAsMwuIpWEcXuSQ3QjEjNhim/cAAwDU2UKrSAiI0gAA\n",
       "AABJRU5ErkJggg==\n",
       "\" style=\"display:inline;vertical-align:middle;\" /></a></td></tr>\n",
       "<tr><td>8</td><td>Variable</td><td></td><td><a class=\"ProveItLink\" href=\"../../../packages/proveit/__pv_it/530be409e3083890784cf1d7b28c9e67e90af9360/expr.ipynb\"><img src=\"data:image/png;base64,iVBORw0KGgoAAAANSUhEUgAAAAsAAAAJBAMAAAAWSsseAAAAKlBMVEX///9ERETMzMwQEBAiIiKY\n",
       "mJju7u5mZmaqqqpUVFSIiIh2dnbc3NwAAAA/vyDhAAAAAXRSTlMAQObYZgAAAENJREFUCNdjYDi9\n",
       "8sTyBQxsG1hdmR0YuBm4LnAoMLAxcAowgADzAjB1VoEhgYH1wFoGrgSG3gBhhlMMDImrs3cFMAAA\n",
       "t0YN+iTRa+sAAAAASUVORK5CYII=\n",
       "\" style=\"display:inline;vertical-align:middle;\" /></a></td></tr>\n",
       "<tr><td>9</td><td>Variable</td><td></td><td><a class=\"ProveItLink\" href=\"../9d7c4e1c5ee4d34a7826567c9ff37cf313ab71e60/expr.ipynb\"><img src=\"data:image/png;base64,iVBORw0KGgoAAAANSUhEUgAAAA0AAAAJBAMAAAAbVLtZAAAALVBMVEX///9mZmYyMjJERERUVFS6\n",
       "urqYmJju7u7c3NyIiIiqqqoQEBDMzMx2dnYAAACcB6guAAAAAXRSTlMAQObYZgAAAExJREFUCNdj\n",
       "YLjAwMBwegEDZwOQ7r7AwMvAUMDAmcAQw8C+gYHtAFCaywEkCCQWMPQyMNgwnAvgUGdguD1xy07p\n",
       "BQwMRY+O66kyMAAAM0ARC3HE760AAAAASUVORK5CYII=\n",
       "\" style=\"display:inline;vertical-align:middle;\" /></a></td></tr>\n",
       "<tr><td>10</td><td>Literal</td><td></td><td><a class=\"ProveItLink\" href=\"../../../packages/proveit/number/sets/real/__pv_it/9e7645ee1117062e179dd6264898f99ed95b157c0/expr.ipynb\"><img src=\"data:image/png;base64,iVBORw0KGgoAAAANSUhEUgAAAA8AAAAOBAMAAAACpFvcAAAAMFBMVEX///8iIiK6urp2dnbu7u5m\n",
       "ZmaqqqrMzMxUVFTc3NyIiIgQEBBEREQyMjKYmJgAAAA9nvXMAAAAAXRSTlMAQObYZgAAAFJJREFU\n",
       "CNdjePvn/N29CxiA4MAMhprcCSDGVAYezwMQBnMBOoMDJqX4Fqx4tqBsAlj7VFUeBwiDVb0BwmC4\n",
       "sg7KqOAogJqTcJKBAWjpcYY79xMAyqEnfsw4ApEAAAAASUVORK5CYII=\n",
       "\" style=\"display:inline;vertical-align:middle;\" /></a></td></tr>\n",
       "</table>\n"
      ],
      "text/plain": [
       "0. (x, omega) -> x | x in Reals , omega in Reals\n",
       "   core type: Lambda\n",
       "   parameters: 1\\n   body: 8\n",
       "   conditions: 2\\n1. (x , omega)\n",
       "   core type: ExprTuple\n",
       "   sub-expressions: 8, 9\n",
       "2. (x in Reals , omega in Reals)\n",
       "   core type: ExprTuple\n",
       "   sub-expressions: 3, 4\n",
       "3. x in Reals\n",
       "   core type: Operation\n",
       "   operator: 6\n",
       "   operands: 5\n",
       "4. omega in Reals\n",
       "   core type: Operation\n",
       "   operator: 6\n",
       "   operands: 7\n",
       "5. (x , Reals)\n",
       "   core type: ExprTuple\n",
       "   sub-expressions: 8, 10\n",
       "6. in\n",
       "   core type: Literal\n",
       "   sub-expressions: \n",
       "7. (omega , Reals)\n",
       "   core type: ExprTuple\n",
       "   sub-expressions: 9, 10\n",
       "8. x\n",
       "   core type: Variable\n",
       "   sub-expressions: \n",
       "9. omega\n",
       "   core type: Variable\n",
       "   sub-expressions: \n",
       "10. Reals\n",
       "    core type: Literal\n",
       "    sub-expressions: "
      ]
     },
     "execution_count": 4,
     "metadata": {},
     "output_type": "execute_result"
    }
   ],
   "source": [
    "# display the expression information\n",
    "expr.exprInfo()"
   ]
  },
  {
   "cell_type": "code",
   "execution_count": null,
   "metadata": {},
   "outputs": [],
   "source": []
  }
 ],
 "metadata": {
  "kernelspec": {
   "display_name": "Python 3",
   "language": "python",
   "name": "python3"
  }
 },
 "nbformat": 4,
 "nbformat_minor": 0
}
