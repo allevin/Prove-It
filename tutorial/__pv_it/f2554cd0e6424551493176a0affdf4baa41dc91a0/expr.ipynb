{
 "cells": [
  {
   "cell_type": "markdown",
   "metadata": {},
   "source": [
    "Expression of type <a class=\"ProveItLink\" href=\"../../../doc/html/api/proveit.ExprTuple.html\">ExprTuple</a>\n",
    "=======================\n",
    "# from context <a class=\"ProveItLink\" href=\"../../_context_.ipynb\">tutorial</a>"
   ]
  },
  {
   "cell_type": "code",
   "execution_count": 1,
   "metadata": {},
   "outputs": [],
   "source": [
    "# import Expression classes needed to build the expression\n",
    "from proveit import ExprTuple\n",
    "from proveit._common_ import a, alpha, b, c, x, y, z"
   ]
  },
  {
   "cell_type": "code",
   "execution_count": 2,
   "metadata": {},
   "outputs": [
    {
     "data": {
      "text/html": [
       "<strong id=\"expr\">expr:</strong> <a class=\"ProveItLink\" href=\"expr.ipynb\"><img src=\"data:image/png;base64,iVBORw0KGgoAAAANSUhEUgAAAI8AAAAVBAMAAACNsKCFAAAAMFBMVEX////c3NwiIiJERESqqqqY\n",
       "mJh2dnZmZmYQEBDu7u4yMjJUVFTMzMyIiIi6uroAAAAs73DqAAAAAXRSTlMAQObYZgAAAjpJREFU\n",
       "OMutlE9o03AUx79pkqaxTVPwKLLevA7Ekwg9eVIWPXgQ1LDDNsFoETZB0VUp4sFtAUEGHlqEIeKl\n",
       "IqIIYwU9CF5y8VA0s3pRvCw6ehA28eX3fllThwjdesjv0+/L++b33u8PsGu/YrBzj7Px411KMF+W\n",
       "hzIy2vR4nFb2tIabUhOwBiqzK8MZnQJyflpY84czWgS+DwjjQ3ZbrWCGBmX54k0WnoTPZei+91GM\n",
       "ivf0+HVeiUkXIzzj4p3ufrk8Ex+6NGSrWKLhW0mNWF6H3RZUmMdDNsRJ55agbDHCJ07fe+bKKNPb\n",
       "rnnXdKA1MU8f7cFgXfuFnMtFBzgkwKXkY4LeGGUc5HQfD3hq5hxw2PJRrOE3kI+Q4bUzmrCrglaS\n",
       "6n08SygXYFOyIrcJpeJylgqIYiN7FA0uKFPFmiNovd/IuQTG/MKGxK/JdqFKpjrCqA6MBBiDL7fR\n",
       "rABlc8tH2YDJdBVWjUlzZZBScYn2HpVGnWhU8Eprx29Tp29zWg/QhfkJK0KHtUdQW0xHASab5j9F\n",
       "o97EJJ0LRzuQRYOOWb5itATgBXDB/Enf7qk1JWDtWlx3TIWl6dNdTqhCXyn48fJ/ibfR6utVLP6g\n",
       "RViehgAYXuibCyWYR85PvJfavXC2JMjAubrUZsKO6tFcusiVkmZ83gbFrZjUxtPRFMVHRE/6Bmcb\n",
       "6P03ScuXzXo6miJ46Wvkf0YZV3X/YWTSNYJ98o+FvwH9GybWtPDGQLRPyMc9UHbhqqXz/Qf8+pZr\n",
       "BGHSWQAAAABJRU5ErkJggg==\n",
       "\" style=\"display:inline;vertical-align:middle;\" /></a><br>"
      ],
      "text/plain": [
       "expr: (a , b , c , x , y , z , alpha)"
      ]
     },
     "execution_count": 2,
     "metadata": {},
     "output_type": "execute_result"
    }
   ],
   "source": [
    "# build up the expression from sub-expressions\n",
    "expr = ExprTuple(a, b, c, x, y, z, alpha)"
   ]
  },
  {
   "cell_type": "code",
   "execution_count": 3,
   "metadata": {},
   "outputs": [
    {
     "name": "stdout",
     "output_type": "stream",
     "text": [
      "Passed sanity check: built 'expr' is the same as the stored Expression.\n"
     ]
    }
   ],
   "source": [
    "# check that the built expression is the same as the stored expression\n",
    "%check_expr"
   ]
  },
  {
   "cell_type": "code",
   "execution_count": 4,
   "metadata": {},
   "outputs": [
    {
     "data": {
      "text/html": [
       "<table><tr><th>&nbsp;</th><th>core type</th><th>sub-expressions</th><th>expression</th></tr>\n",
       "<tr><td>0</td><td>ExprTuple</td><td>1, 2, 3, 4, 5, 6, 7</td><td><a class=\"ProveItLink\" href=\"expr.ipynb\"><img src=\"data:image/png;base64,iVBORw0KGgoAAAANSUhEUgAAAI8AAAAVBAMAAACNsKCFAAAAMFBMVEX////c3NwiIiJERESqqqqY\n",
       "mJh2dnZmZmYQEBDu7u4yMjJUVFTMzMyIiIi6uroAAAAs73DqAAAAAXRSTlMAQObYZgAAAjpJREFU\n",
       "OMutlE9o03AUx79pkqaxTVPwKLLevA7Ekwg9eVIWPXgQ1LDDNsFoETZB0VUp4sFtAUEGHlqEIeKl\n",
       "IqIIYwU9CF5y8VA0s3pRvCw6ehA28eX3fllThwjdesjv0+/L++b33u8PsGu/YrBzj7Px411KMF+W\n",
       "hzIy2vR4nFb2tIabUhOwBiqzK8MZnQJyflpY84czWgS+DwjjQ3ZbrWCGBmX54k0WnoTPZei+91GM\n",
       "ivf0+HVeiUkXIzzj4p3ufrk8Ex+6NGSrWKLhW0mNWF6H3RZUmMdDNsRJ55agbDHCJ07fe+bKKNPb\n",
       "rnnXdKA1MU8f7cFgXfuFnMtFBzgkwKXkY4LeGGUc5HQfD3hq5hxw2PJRrOE3kI+Q4bUzmrCrglaS\n",
       "6n08SygXYFOyIrcJpeJylgqIYiN7FA0uKFPFmiNovd/IuQTG/MKGxK/JdqFKpjrCqA6MBBiDL7fR\n",
       "rABlc8tH2YDJdBVWjUlzZZBScYn2HpVGnWhU8Eprx29Tp29zWg/QhfkJK0KHtUdQW0xHASab5j9F\n",
       "o97EJJ0LRzuQRYOOWb5itATgBXDB/Enf7qk1JWDtWlx3TIWl6dNdTqhCXyn48fJ/ibfR6utVLP6g\n",
       "RViehgAYXuibCyWYR85PvJfavXC2JMjAubrUZsKO6tFcusiVkmZ83gbFrZjUxtPRFMVHRE/6Bmcb\n",
       "6P03ScuXzXo6miJ46Wvkf0YZV3X/YWTSNYJ98o+FvwH9GybWtPDGQLRPyMc9UHbhqqXz/Qf8+pZr\n",
       "BGHSWQAAAABJRU5ErkJggg==\n",
       "\" style=\"display:inline;vertical-align:middle;\" /></a></td></tr>\n",
       "<tr><td>1</td><td>Variable</td><td></td><td><a class=\"ProveItLink\" href=\"../../../packages/proveit/__pv_it/07527342713064c87612d00d8557c53d53d5324a0/expr.ipynb\"><img src=\"data:image/png;base64,iVBORw0KGgoAAAANSUhEUgAAAAsAAAAJBAMAAAAWSsseAAAAMFBMVEX///8yMjKqqqrMzMzu7u4i\n",
       "IiJmZmaYmJhEREQQEBC6urp2dnaIiIhUVFTc3NwAAAD87Fq/AAAAAXRSTlMAQObYZgAAAEhJREFU\n",
       "CNdjYOC7s2seAwPDygccHxgY+L4zsDUwMPB+YGA9wMDA38Dgb8DA8P4Agz6DA4O/AsNFJgMGxgKm\n",
       "MG6gyjunLE4xAAAZTBA5TB6DCwAAAABJRU5ErkJggg==\n",
       "\" style=\"display:inline;vertical-align:middle;\" /></a></td></tr>\n",
       "<tr><td>2</td><td>Variable</td><td></td><td><a class=\"ProveItLink\" href=\"../../../packages/proveit/__pv_it/6840a4fa6c106149dc16a131294d0c5e44f1b0480/expr.ipynb\"><img src=\"data:image/png;base64,iVBORw0KGgoAAAANSUhEUgAAAAkAAAAOBAMAAAAPuiubAAAALVBMVEX///9mZmbMzMxERESYmJiI\n",
       "iIh2dna6urqqqqoyMjIiIiIQEBBUVFTu7u4AAAD9S1JeAAAAAXRSTlMAQObYZgAAAE1JREFUCNdj\n",
       "4D29gAEIOA+ASL4GEFl3AURmgQiGOaFHGBh4HzPwKTBwvGXgTmBgnMDAJ8DAJcBQ5wBSLncBJLWN\n",
       "gYGngRFoBO9REQYGAGrcDtUkVqASAAAAAElFTkSuQmCC\n",
       "\" style=\"display:inline;vertical-align:middle;\" /></a></td></tr>\n",
       "<tr><td>3</td><td>Variable</td><td></td><td><a class=\"ProveItLink\" href=\"../../../packages/proveit/__pv_it/cbdfda466482236edba0ce44ac7ef39cda0af7a40/expr.ipynb\"><img src=\"data:image/png;base64,iVBORw0KGgoAAAANSUhEUgAAAAkAAAAJBAMAAAASvxsjAAAALVBMVEX///9mZmbc3NxUVFSYmJhE\n",
       "REQiIiIyMjK6uroQEBDMzMyIiIh2dnbu7u4AAABgFDGoAAAAAXRSTlMAQObYZgAAADZJREFUCNdj\n",
       "YOA9s3sBA8PKBvYEBt7ZDKwODMwPGICALwBE6m0Asx0YGIDiAgw8QJUyu/cyAAAmuwmycZ8WfQAA\n",
       "AABJRU5ErkJggg==\n",
       "\" style=\"display:inline;vertical-align:middle;\" /></a></td></tr>\n",
       "<tr><td>4</td><td>Variable</td><td></td><td><a class=\"ProveItLink\" href=\"../../../packages/proveit/__pv_it/530be409e3083890784cf1d7b28c9e67e90af9360/expr.ipynb\"><img src=\"data:image/png;base64,iVBORw0KGgoAAAANSUhEUgAAAAsAAAAJBAMAAAAWSsseAAAAKlBMVEX///9ERETMzMwQEBAiIiKY\n",
       "mJju7u5mZmaqqqpUVFSIiIh2dnbc3NwAAAA/vyDhAAAAAXRSTlMAQObYZgAAAENJREFUCNdjYDi9\n",
       "8sTyBQxsG1hdmR0YuBm4LnAoMLAxcAowgADzAjB1VoEhgYH1wFoGrgSG3gBhhlMMDImrs3cFMAAA\n",
       "t0YN+iTRa+sAAAAASUVORK5CYII=\n",
       "\" style=\"display:inline;vertical-align:middle;\" /></a></td></tr>\n",
       "<tr><td>5</td><td>Variable</td><td></td><td><a class=\"ProveItLink\" href=\"../../../packages/proveit/__pv_it/f8b9edf8e16034727f0aad55bb83e392c3db40d40/expr.ipynb\"><img src=\"data:image/png;base64,iVBORw0KGgoAAAANSUhEUgAAAAsAAAANBAMAAACN24kIAAAAMFBMVEX///+YmJhUVFQyMjIQEBBE\n",
       "REQiIiKqqqrMzMyIiIi6urrc3NxmZmZ2dnbu7u4AAADXeCicAAAAAXRSTlMAQObYZgAAAFhJREFU\n",
       "CNdj4LtzgWH/AwZerg8M8xkY2nkSGEIZGB6wTGD4ycDAUP+A4weQOszA6QCkbBhYFYDUIYb1AkDq\n",
       "6czzGxhA4BoQMyXwuQMptgusF4AU+8xTQBIAUqMVoSp/SLMAAAAASUVORK5CYII=\n",
       "\" style=\"display:inline;vertical-align:middle;\" /></a></td></tr>\n",
       "<tr><td>6</td><td>Variable</td><td></td><td><a class=\"ProveItLink\" href=\"../../../packages/proveit/__pv_it/251502494639118b4892de8e9d720a5fcce840e10/expr.ipynb\"><img src=\"data:image/png;base64,iVBORw0KGgoAAAANSUhEUgAAAAoAAAAJBAMAAAD5iKAgAAAALVBMVEX///8yMjLMzMx2dnaqqqpU\n",
       "VFTu7u5mZmaYmJhERESIiIjc3NwQEBC6uroAAAB+iRisAAAAAXRSTlMAQObYZgAAADlJREFUCNdj\n",
       "YOA9c2EXA8POrvIJDAwJDKkJDAwM3AFAguE6iGAxAJHODAwBDEwSFY0XGNgZ+o4wAABKtAsIcBKm\n",
       "agAAAABJRU5ErkJggg==\n",
       "\" style=\"display:inline;vertical-align:middle;\" /></a></td></tr>\n",
       "<tr><td>7</td><td>Variable</td><td></td><td><a class=\"ProveItLink\" href=\"../../../packages/proveit/__pv_it/965f7d5cdf9cb513de3a5460206eae877dc8125c0/expr.ipynb\"><img src=\"data:image/png;base64,iVBORw0KGgoAAAANSUhEUgAAAA0AAAAJBAMAAAAbVLtZAAAALVBMVEX///+qqqrc3NwiIiJmZmZE\n",
       "RESYmJgQEBDMzMy6urpUVFSIiIh2dnbu7u4AAADXQqzcAAAAAXRSTlMAQObYZgAAAE1JREFUCNdj\n",
       "YOA9s2sCAxC0T+Ct4E1g4K1mYIjivsDA9YCBwZmHgYEvgIHh+F4GBr0NDAznBID8BCAfqJzLgYFt\n",
       "HccFBgaf3XtZTzMAAEWkEGDD5xaKAAAAAElFTkSuQmCC\n",
       "\" style=\"display:inline;vertical-align:middle;\" /></a></td></tr>\n",
       "</table>\n"
      ],
      "text/plain": [
       "0. (a , b , c , x , y , z , alpha)\n",
       "   core type: ExprTuple\n",
       "   sub-expressions: 1, 2, 3, 4, 5, 6, 7\n",
       "1. a\n",
       "   core type: Variable\n",
       "   sub-expressions: \n",
       "2. b\n",
       "   core type: Variable\n",
       "   sub-expressions: \n",
       "3. c\n",
       "   core type: Variable\n",
       "   sub-expressions: \n",
       "4. x\n",
       "   core type: Variable\n",
       "   sub-expressions: \n",
       "5. y\n",
       "   core type: Variable\n",
       "   sub-expressions: \n",
       "6. z\n",
       "   core type: Variable\n",
       "   sub-expressions: \n",
       "7. alpha\n",
       "   core type: Variable\n",
       "   sub-expressions: "
      ]
     },
     "execution_count": 4,
     "metadata": {},
     "output_type": "execute_result"
    }
   ],
   "source": [
    "# display the expression information\n",
    "expr.exprInfo()"
   ]
  },
  {
   "cell_type": "code",
   "execution_count": null,
   "metadata": {},
   "outputs": [],
   "source": []
  }
 ],
 "metadata": {
  "kernelspec": {
   "display_name": "Python 3",
   "language": "python",
   "name": "python3"
  }
 },
 "nbformat": 4,
 "nbformat_minor": 0
}
