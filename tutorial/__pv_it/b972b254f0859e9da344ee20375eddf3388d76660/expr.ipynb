{
 "cells": [
  {
   "cell_type": "markdown",
   "metadata": {},
   "source": [
    "Expression of type <a class=\"ProveItLink\" href=\"../../../doc/html/api/proveit.Literal.html\">Literal</a>\n",
    "=======================\n",
    "# from context <a class=\"ProveItLink\" href=\"../../_context_.ipynb\">tutorial</a>"
   ]
  },
  {
   "cell_type": "code",
   "execution_count": 1,
   "metadata": {},
   "outputs": [],
   "source": [
    "# import Expression classes needed to build the expression\n",
    "import sys\n",
    "sys.path.insert(1, \"../..\")\n",
    "from demo_lambda_app_operation import LambdaApplication"
   ]
  },
  {
   "cell_type": "code",
   "execution_count": 2,
   "metadata": {},
   "outputs": [
    {
     "data": {
      "text/html": [
       "<strong id=\"expr\">expr:</strong> <a class=\"ProveItLink\" href=\"expr.ipynb\"><img src=\"data:image/png;base64,iVBORw0KGgoAAAANSUhEUgAAAPYAAAAQBAMAAADXIZ9kAAAAMFBMVEX///+qqqqIiIiYmJi6uroQ\n",
       "EBAiIiJERETu7u52dnbMzMxUVFQyMjJmZmbc3NwAAAD+VqVwAAAAAXRSTlMAQObYZgAAAyRJREFU\n",
       "OMvFlV9IU3EUx8/u3Lr36m6DXnrz4kMIEa63wMC9+BTiggLByr1GyfYSKQm7L+JDgnuKpNA9FhHz\n",
       "JSNmbkUQEbG9BAmlexdZTufc3Lyd35/zu0p798B+57ff93fO5/7+A5yh7RSPNkXtC/6sNZdVA631\n",
       "7eJ4bu0XNtRyuW8O6dJ6oliwHjM2OZHH/O1uAPgff7SfUsjEk9WDXCr+tthOg355ccMB833Nge6J\n",
       "SYDsishnHbFST0WwHDwEqJQAihnebNxSurDKiiz1h8qJPCb2Mh84sD1DIfdA2wMrxvXhCPhuYocU\n",
       "1ufBYxsuG51+qYDlFcnOFkT8cpl0YcuH9AVDJXIem9X0OzKlXmJsWGGtZhUbe6NgDu4ChE6wzy2z\n",
       "Eet9TUwwItkLMcE+XyBd2PQesbMxch47wT7yukxpRTi7n+nBGFuvMTCv3XZOsV9X2Ij1/jaAFpLs\n",
       "3pJgdzdJ52YutRQ7Tk6xfXxx5mVKK8PZr5jem8ZGrQpmZDR5ir0ZPGZsO497RbLNcblmRpV0bqFy\n",
       "okxzbpNT7G4+KZpKydmck2cz19VCdmjvFDupVTl7NAwXOftz3zNbsrU26WJ5YMAWbPOucood3KV+\n",
       "MkSxE+x4mDVkQ6J8gu2L6AecHSyATXP+Tuxz8B+Rzu0CLMQZ+/7in4xy/7MpxGOHFTtbILaFY3HY\n",
       "iUK2dmxFiR0Yk+NukM5tCnqajJ0UB044kUfNOaiUHpufXx+bc1xFYhsAs7lcscTYesMPxMY0Yq/t\n",
       "k87vALx12h3ZhrfXvJQee4hNjdFgbEjsyBj8hqt4kmKMDY88dqgq2IE46cz8OHW1juyQd8YMldJj\n",
       "B/6iDx5ydmVSxszhvsDIXc4eXVfsQFOwBzKki60GsBXuxJ5Tdws8Vyk9dleD5QpztlYXbfp36ML+\n",
       "Jv41SxBIKvZWmrO1faUzu8Gikh3YmIfuVCPqhSg2DNvgxzvVx875V4A3ifFcqmGm6g68dKetfCti\n",
       "hLV8a5M9EaufxFvywyEdXNetu1NgFOvpnWLb5o8RdzIPvSVLoEJGftbwHIi35MXiB4cpOGvbZ/mC\n",
       "wj9cPLyHYckQpwAAAABJRU5ErkJggg==\n",
       "\" style=\"display:inline;vertical-align:middle;\" /></a><br>"
      ],
      "text/plain": [
       "expr: LAMBDA_APPLICATION"
      ]
     },
     "execution_count": 2,
     "metadata": {},
     "output_type": "execute_result"
    }
   ],
   "source": [
    "# build up the expression from sub-expressions\n",
    "expr = LambdaApplication._operator_"
   ]
  },
  {
   "cell_type": "code",
   "execution_count": 3,
   "metadata": {},
   "outputs": [
    {
     "name": "stdout",
     "output_type": "stream",
     "text": [
      "Passed sanity check: built 'expr' is the same as the stored Expression.\n"
     ]
    }
   ],
   "source": [
    "# check that the built expression is the same as the stored expression\n",
    "%check_expr"
   ]
  },
  {
   "cell_type": "code",
   "execution_count": 4,
   "metadata": {},
   "outputs": [
    {
     "data": {
      "text/html": [
       "<table><tr><th>&nbsp;</th><th>core type</th><th>sub-expressions</th><th>expression</th></tr>\n",
       "<tr><td>0</td><td>Literal</td><td></td><td><a class=\"ProveItLink\" href=\"expr.ipynb\"><img src=\"data:image/png;base64,iVBORw0KGgoAAAANSUhEUgAAAPYAAAAQBAMAAADXIZ9kAAAAMFBMVEX///+qqqqIiIiYmJi6uroQ\n",
       "EBAiIiJERETu7u52dnbMzMxUVFQyMjJmZmbc3NwAAAD+VqVwAAAAAXRSTlMAQObYZgAAAyRJREFU\n",
       "OMvFlV9IU3EUx8/u3Lr36m6DXnrz4kMIEa63wMC9+BTiggLByr1GyfYSKQm7L+JDgnuKpNA9FhHz\n",
       "JSNmbkUQEbG9BAmlexdZTufc3Lyd35/zu0p798B+57ff93fO5/7+A5yh7RSPNkXtC/6sNZdVA631\n",
       "7eJ4bu0XNtRyuW8O6dJ6oliwHjM2OZHH/O1uAPgff7SfUsjEk9WDXCr+tthOg355ccMB833Nge6J\n",
       "SYDsishnHbFST0WwHDwEqJQAihnebNxSurDKiiz1h8qJPCb2Mh84sD1DIfdA2wMrxvXhCPhuYocU\n",
       "1ufBYxsuG51+qYDlFcnOFkT8cpl0YcuH9AVDJXIem9X0OzKlXmJsWGGtZhUbe6NgDu4ChE6wzy2z\n",
       "Eet9TUwwItkLMcE+XyBd2PQesbMxch47wT7yukxpRTi7n+nBGFuvMTCv3XZOsV9X2Ij1/jaAFpLs\n",
       "3pJgdzdJ52YutRQ7Tk6xfXxx5mVKK8PZr5jem8ZGrQpmZDR5ir0ZPGZsO497RbLNcblmRpV0bqFy\n",
       "okxzbpNT7G4+KZpKydmck2cz19VCdmjvFDupVTl7NAwXOftz3zNbsrU26WJ5YMAWbPOucood3KV+\n",
       "MkSxE+x4mDVkQ6J8gu2L6AecHSyATXP+Tuxz8B+Rzu0CLMQZ+/7in4xy/7MpxGOHFTtbILaFY3HY\n",
       "iUK2dmxFiR0Yk+NukM5tCnqajJ0UB044kUfNOaiUHpufXx+bc1xFYhsAs7lcscTYesMPxMY0Yq/t\n",
       "k87vALx12h3ZhrfXvJQee4hNjdFgbEjsyBj8hqt4kmKMDY88dqgq2IE46cz8OHW1juyQd8YMldJj\n",
       "B/6iDx5ydmVSxszhvsDIXc4eXVfsQFOwBzKki60GsBXuxJ5Tdws8Vyk9dleD5QpztlYXbfp36ML+\n",
       "Jv41SxBIKvZWmrO1faUzu8Gikh3YmIfuVCPqhSg2DNvgxzvVx875V4A3ifFcqmGm6g68dKetfCti\n",
       "hLV8a5M9EaufxFvywyEdXNetu1NgFOvpnWLb5o8RdzIPvSVLoEJGftbwHIi35MXiB4cpOGvbZ/mC\n",
       "wj9cPLyHYckQpwAAAABJRU5ErkJggg==\n",
       "\" style=\"display:inline;vertical-align:middle;\" /></a></td></tr>\n",
       "</table>\n"
      ],
      "text/plain": [
       "0. LAMBDA_APPLICATION\n",
       "   core type: Literal\n",
       "   sub-expressions: "
      ]
     },
     "execution_count": 4,
     "metadata": {},
     "output_type": "execute_result"
    }
   ],
   "source": [
    "# display the expression information\n",
    "expr.exprInfo()"
   ]
  },
  {
   "cell_type": "code",
   "execution_count": null,
   "metadata": {},
   "outputs": [],
   "source": []
  }
 ],
 "metadata": {
  "kernelspec": {
   "display_name": "Python 3",
   "language": "python",
   "name": "python3"
  }
 },
 "nbformat": 4,
 "nbformat_minor": 0
}
