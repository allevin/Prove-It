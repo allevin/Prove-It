{
 "cells": [
  {
   "cell_type": "markdown",
   "metadata": {},
   "source": [
    "Chapter 4. Relabeling (Exploratory Version)\n",
    "=======\n",
    "\n",
    "Recall that **Variable**s in **Prove-It** are arbitrary labels that are interchangeable. In `tutorial_01_basic_expr`, we demonstrated using the `relabeled` method of **Expression** to transform an expression to one with **Variable**s swapped for other **Variable**s.  This was, however, only a transformation of the expression with no proof implication.  Here we will discuss the *relabeling* derivation step in which we can derive a new **KnownTruth** from an existing **KnownTruth** by swapping **Variable**s for other **Variable**s.\n",
    "\n",
    "## Attempting to relabel a free Variable of an assumption\n",
    "\n",
    "Let us take an example from the previous tutorial chapter:"
   ]
  },
  {
   "cell_type": "code",
   "execution_count": 84,
   "metadata": {},
   "outputs": [],
   "source": [
    "from proveit._common_ import x, y, a, b, c, d, A, B, C, D, fx, Px  # some common variable names\n",
    "from proveit import varIter\n",
    "from proveit.logic import Equals, Implies, Forall, Exists, InSet     # the Implies operation\n",
    "from proveit.number import Add\n",
    "from proveit.logic.equality._axioms_ import substitution\n",
    "from proveit._core_.known_truth import KnownTruth # temporary\n",
    "from proveit._core_._unique_data import meaningData, styleData # temporary\n",
    "from proveit.number import Integers\n",
    "%begin relabeling"
   ]
  },
  {
   "cell_type": "code",
   "execution_count": 2,
   "metadata": {},
   "outputs": [
    {
     "data": {
      "text/html": [
       "<strong id=\"A_impl_B\">A_impl_B:</strong> <a class=\"ProveItLink\" href=\"__pv_it/74709aae353dd47ed1086aae7a6650599fd919cf0/expr.ipynb\"><img src=\"__pv_it/74709aae353dd47ed1086aae7a6650599fd919cf0/expr.png\" style=\"display:inline;vertical-align:middle;\" /></a><br>"
      ],
      "text/plain": [
       "A_impl_B: A => B"
      ]
     },
     "execution_count": 2,
     "metadata": {},
     "output_type": "execute_result"
    }
   ],
   "source": [
    "A_impl_B = Implies(A, B)"
   ]
  },
  {
   "cell_type": "code",
   "execution_count": 3,
   "metadata": {},
   "outputs": [
    {
     "data": {
      "text/html": [
       "<strong id=\"B_from_A\">B_from_A:</strong> <span style=\"font-size:20px;\"><a class=\"ProveItLink\" href=\"__pv_it/60d37329e7d80ee80309a0873432cf950c8570af0/expr.ipynb\"><img src=\"__pv_it/60d37329e7d80ee80309a0873432cf950c8570af0/expr.png\" style=\"display:inline;vertical-align:middle;\" /></a> &#x22A2;&nbsp;<a class=\"ProveItLink\" href=\"../packages/proveit/__pv_it/077b2ff79244fb4582cbe22c6e3356fa92a52f2f0/expr.ipynb\"><img src=\"../packages/proveit/__pv_it/077b2ff79244fb4582cbe22c6e3356fa92a52f2f0/expr.png\" style=\"display:inline;vertical-align:middle;\" /></a></span><br>"
      ],
      "text/plain": [
       "B_from_A: {A , A => B} |- B"
      ]
     },
     "execution_count": 3,
     "metadata": {},
     "output_type": "execute_result"
    }
   ],
   "source": [
    "B_from_A = A_impl_B.deriveConsequent(assumptions=[A, Implies(A, B)])"
   ]
  },
  {
   "cell_type": "markdown",
   "metadata": {},
   "source": [
    "Now we will attempt to perform a relabeling derivation step by calling the `relabel` method on a **KnownTruth**.  This will not work because we are not allowed to relabel a **Variable** in the list of assumptions.  Otherwise we would end up being able to prove false statements (unless we relabeled the assumptions in a consistent manner, but **Prove-It** has a different mechanism for doing this as we shall see next)."
   ]
  },
  {
   "cell_type": "code",
   "execution_count": 4,
   "metadata": {},
   "outputs": [
    {
     "name": "stdout",
     "output_type": "stream",
     "text": [
      "EXPECTED ERROR: Proof step failed assuming {A, A => B}: Attempting to relabel variable(s) that are free in the assumptions (!): {B}\n"
     ]
    }
   ],
   "source": [
    "from proveit import RelabelingFailure\n",
    "try:\n",
    "    B_from_A.relabel({B:C})\n",
    "    assert False, \"Expecting a RelabelingFailure error; should not make it to this point\"\n",
    "except RelabelingFailure as e:\n",
    "    print(\"EXPECTED ERROR:\", e)"
   ]
  },
  {
   "cell_type": "markdown",
   "metadata": {},
   "source": [
    "## Basic relabeling\n",
    "\n",
    "If we convert the assumptions to explicit hypotheses first, then we can do the relabeling that we failed to do before."
   ]
  },
  {
   "cell_type": "code",
   "execution_count": 5,
   "metadata": {},
   "outputs": [
    {
     "name": "stdout",
     "output_type": "stream",
     "text": [
      "operation.substituted.exprMap =  {}\n",
      "operation.substituted.exprMap =  {}\n",
      "operation.substituted.exprMap =  {}\n",
      "operation.substituted.exprMap =  {}\n",
      "operation.substituted.exprMap =  {}\n",
      "operation.substituted.exprMap =  {}\n",
      "operation.substituted.exprMap =  {}\n",
      "operation.substituted.exprMap =  {}\n",
      "operation.substituted.exprMap =  {}\n",
      "operation.substituted.exprMap =  {}\n",
      "operation.substituted.exprMap =  {}\n",
      "operation.substituted.exprMap =  {}\n",
      "operation.substituted.exprMap =  {}\n",
      "operation.substituted.exprMap =  {}\n",
      "operation.substituted.exprMap =  {}\n",
      "operation.substituted.exprMap =  {}\n",
      "operation.substituted.exprMap =  {x: A, y: TRUE}\n",
      "operation.substituted.exprMap =  {x: A, y: TRUE}\n",
      "operation.substituted.exprMap =  {A: A = TRUE}\n",
      "operation.substituted.exprMap =  {A: A = TRUE}\n",
      "operation.substituted.exprMap =  {A: A = TRUE}\n",
      "operation.substituted.exprMap =  {A: A}\n",
      "operation.substituted.exprMap =  {x: A, y: TRUE}\n",
      "operation.substituted.exprMap =  {x: A, y: TRUE}\n",
      "operation.substituted.exprMap =  {x: A, y: TRUE}\n",
      "operation.substituted.exprMap =  {x: A, y: TRUE}\n",
      "operation.substituted.exprMap =  {x: A, y: TRUE}\n",
      "operation.substituted.exprMap =  {x: A, y: TRUE}\n",
      "operation.substituted.exprMap =  {x: TRUE, y: A}\n",
      "operation.substituted.exprMap =  {x: TRUE, y: A}\n",
      "operation.substituted.exprMap =  {A: TRUE = A}\n",
      "operation.substituted.exprMap =  {A: TRUE = A}\n",
      "operation.substituted.exprMap =  {A: TRUE = A}\n",
      "operation.substituted.exprMap =  {x: TRUE, y: A}\n",
      "operation.substituted.exprMap =  {x: TRUE, y: A}\n",
      "operation.substituted.exprMap =  {x: TRUE, y: A}\n",
      "operation.substituted.exprMap =  {x: TRUE, y: A}\n",
      "operation.substituted.exprMap =  {x: A, y: TRUE}\n",
      "operation.substituted.exprMap =  {x: A, y: TRUE}\n",
      "operation.substituted.exprMap =  {A: A}\n",
      "operation.substituted.exprMap =  {x: A, y: TRUE}\n",
      "operation.substituted.exprMap =  {x: A, y: TRUE}\n"
     ]
    },
    {
     "data": {
      "text/html": [
       "<strong id=\"explicit_B_from_A\">explicit_B_from_A:</strong> <span style=\"font-size:20px;\"> &#x22A2;&nbsp;<a class=\"ProveItLink\" href=\"__pv_it/9664e16d4e603eda486e2dcc84584c0b1747fff00/expr.ipynb\"><img src=\"__pv_it/9664e16d4e603eda486e2dcc84584c0b1747fff00/expr.png\" style=\"display:inline;vertical-align:middle;\" /></a></span><br>"
      ],
      "text/plain": [
       "explicit_B_from_A: |- A => ((A => B) => B)"
      ]
     },
     "execution_count": 5,
     "metadata": {},
     "output_type": "execute_result"
    }
   ],
   "source": [
    "explicit_B_from_A = B_from_A.asImplication(A_impl_B).asImplication(A)"
   ]
  },
  {
   "cell_type": "markdown",
   "metadata": {},
   "source": [
    "This is a true statement that requires no assumptions.  This statement is valid for any value of $A$ and $B$ according to the rule that an implication is true as long as the conclusion is true whenever the hypothesis is true (but otherwise being indifferent to truth-aptness).  Now we will relabel $B$ to $C$ by calling **KnownTruth**'s `relabel` method."
   ]
  },
  {
   "cell_type": "code",
   "execution_count": 6,
   "metadata": {},
   "outputs": [
    {
     "name": "stdout",
     "output_type": "stream",
     "text": [
      "operation.substituted.exprMap =  {}\n",
      "operation.substituted.exprMap =  {}\n",
      "operation.substituted.exprMap =  {}\n"
     ]
    },
    {
     "data": {
      "text/html": [
       "<strong id=\"explicit_C_from_A\">explicit_C_from_A:</strong> <span style=\"font-size:20px;\"> &#x22A2;&nbsp;<a class=\"ProveItLink\" href=\"__pv_it/5d066b98939e0d1f8ed903b4728249ea4e6920580/expr.ipynb\"><img src=\"__pv_it/5d066b98939e0d1f8ed903b4728249ea4e6920580/expr.png\" style=\"display:inline;vertical-align:middle;\" /></a></span><br>"
      ],
      "text/plain": [
       "explicit_C_from_A: |- A => ((A => C) => C)"
      ]
     },
     "execution_count": 6,
     "metadata": {},
     "output_type": "execute_result"
    }
   ],
   "source": [
    "explicit_C_from_A = explicit_B_from_A.relabel({B:C})"
   ]
  },
  {
   "cell_type": "code",
   "execution_count": 7,
   "metadata": {},
   "outputs": [
    {
     "data": {
      "text/plain": [
       "proveit._core_.known_truth.KnownTruth"
      ]
     },
     "execution_count": 7,
     "metadata": {},
     "output_type": "execute_result"
    }
   ],
   "source": [
    "# delete later\n",
    "type(explicit_C_from_A)"
   ]
  },
  {
   "cell_type": "code",
   "execution_count": 8,
   "metadata": {},
   "outputs": [
    {
     "name": "stdout",
     "output_type": "stream",
     "text": [
      "operation.substituted.exprMap =  {x: A, y: TRUE}\n",
      "operation.substituted.exprMap =  {x: A, y: TRUE}\n"
     ]
    },
    {
     "data": {
      "text/html": [
       "<span style=\"font-size:20px;\"><a class=\"ProveItLink\" href=\"__pv_it/158bdc91074824c720728a23dba5d58593c8cc480/expr.ipynb\"><img src=\"__pv_it/158bdc91074824c720728a23dba5d58593c8cc480/expr.png\" style=\"display:inline;vertical-align:middle;\" /></a> &#x22A2;&nbsp;<a class=\"ProveItLink\" href=\"__pv_it/9e25da721303b7e8c2de19773953b2218f26db2a0/expr.ipynb\"><img src=\"__pv_it/9e25da721303b7e8c2de19773953b2218f26db2a0/expr.png\" style=\"display:inline;vertical-align:middle;\" /></a></span>"
      ],
      "text/plain": [
       "{A} |- (A => C) => C"
      ]
     },
     "execution_count": 8,
     "metadata": {},
     "output_type": "execute_result"
    }
   ],
   "source": [
    "# delete later\n",
    "# explicit_C_from_A.deriveConsequent(assumptions=[A]).deriveConsequent(assumptions=[Implies(A, C)])\n",
    "explicit_C_from_A.deriveConsequent(assumptions=[A])"
   ]
  },
  {
   "cell_type": "markdown",
   "metadata": {},
   "source": [
    "Here is the full proof:"
   ]
  },
  {
   "cell_type": "code",
   "execution_count": 9,
   "metadata": {},
   "outputs": [
    {
     "data": {
      "text/html": [
       "<table><tr><th>&nbsp;</th><th>step type</th><th>requirements</th><th>statement</th></tr>\n",
       "<tr><td>0</td><td>relabeling</td><td>1</td><td><span style=\"font-size:20px;\"> &#x22A2;&nbsp;<a class=\"ProveItLink\" href=\"__pv_it/5d066b98939e0d1f8ed903b4728249ea4e6920580/expr.ipynb\"><img src=\"__pv_it/5d066b98939e0d1f8ed903b4728249ea4e6920580/expr.png\" style=\"display:inline;vertical-align:middle;\" /></a></span></td></tr>\n",
       "<tr><td>&nbsp;</td><td colspan=4 style=\"text-align:left\"><span style=\"font-size:20px;\"><a class=\"ProveItLink\" href=\"../packages/proveit/__pv_it/077b2ff79244fb4582cbe22c6e3356fa92a52f2f0/expr.ipynb\"><img src=\"../packages/proveit/__pv_it/077b2ff79244fb4582cbe22c6e3356fa92a52f2f0/expr.png\" style=\"display:inline;vertical-align:middle;\" /></a> : <a class=\"ProveItLink\" href=\"../packages/proveit/__pv_it/985a1bdf1540838275dec15f4ad6de261cca93ce0/expr.ipynb\"><img src=\"../packages/proveit/__pv_it/985a1bdf1540838275dec15f4ad6de261cca93ce0/expr.png\" style=\"display:inline;vertical-align:middle;\" /></a></span></td></tr><tr><td>1</td><td>hypothetical reasoning</td><td>2</td><td><span style=\"font-size:20px;\"> &#x22A2;&nbsp;<a class=\"ProveItLink\" href=\"__pv_it/9664e16d4e603eda486e2dcc84584c0b1747fff00/expr.ipynb\"><img src=\"__pv_it/9664e16d4e603eda486e2dcc84584c0b1747fff00/expr.png\" style=\"display:inline;vertical-align:middle;\" /></a></span></td></tr>\n",
       "<tr><td>2</td><td>hypothetical reasoning</td><td>3</td><td><span style=\"font-size:20px;\"><a class=\"ProveItLink\" href=\"__pv_it/158bdc91074824c720728a23dba5d58593c8cc480/expr.ipynb\"><img src=\"__pv_it/158bdc91074824c720728a23dba5d58593c8cc480/expr.png\" style=\"display:inline;vertical-align:middle;\" /></a> &#x22A2;&nbsp;<a class=\"ProveItLink\" href=\"__pv_it/25e4440aa57c7bfc46ec2daf3980295fc0375a430/expr.ipynb\"><img src=\"__pv_it/25e4440aa57c7bfc46ec2daf3980295fc0375a430/expr.png\" style=\"display:inline;vertical-align:middle;\" /></a></span></td></tr>\n",
       "<tr><td>3</td><td>modus ponens</td><td>4, 5</td><td><span style=\"font-size:20px;\"><a class=\"ProveItLink\" href=\"__pv_it/60d37329e7d80ee80309a0873432cf950c8570af0/expr.ipynb\"><img src=\"__pv_it/60d37329e7d80ee80309a0873432cf950c8570af0/expr.png\" style=\"display:inline;vertical-align:middle;\" /></a> &#x22A2;&nbsp;<a class=\"ProveItLink\" href=\"../packages/proveit/__pv_it/077b2ff79244fb4582cbe22c6e3356fa92a52f2f0/expr.ipynb\"><img src=\"../packages/proveit/__pv_it/077b2ff79244fb4582cbe22c6e3356fa92a52f2f0/expr.png\" style=\"display:inline;vertical-align:middle;\" /></a></span></td></tr>\n",
       "<tr><td>4</td><td>assumption</td><td></td><td><span style=\"font-size:20px;\"><a class=\"ProveItLink\" href=\"__pv_it/9654b2deb52acc32c7e7f9ddb0ac7acafab7fd220/expr.ipynb\"><img src=\"__pv_it/9654b2deb52acc32c7e7f9ddb0ac7acafab7fd220/expr.png\" style=\"display:inline;vertical-align:middle;\" /></a> &#x22A2;&nbsp;<a class=\"ProveItLink\" href=\"__pv_it/74709aae353dd47ed1086aae7a6650599fd919cf0/expr.ipynb\"><img src=\"__pv_it/74709aae353dd47ed1086aae7a6650599fd919cf0/expr.png\" style=\"display:inline;vertical-align:middle;\" /></a></span></td></tr>\n",
       "<tr><td>5</td><td>assumption</td><td></td><td><span style=\"font-size:20px;\"><a class=\"ProveItLink\" href=\"__pv_it/158bdc91074824c720728a23dba5d58593c8cc480/expr.ipynb\"><img src=\"__pv_it/158bdc91074824c720728a23dba5d58593c8cc480/expr.png\" style=\"display:inline;vertical-align:middle;\" /></a> &#x22A2;&nbsp;<a class=\"ProveItLink\" href=\"../packages/proveit/__pv_it/2cbe72a7ad6f655694dd697106680215e8489b600/expr.ipynb\"><img src=\"../packages/proveit/__pv_it/2cbe72a7ad6f655694dd697106680215e8489b600/expr.png\" style=\"display:inline;vertical-align:middle;\" /></a></span></td></tr>\n",
       "</table>"
      ],
      "text/plain": [
       "\tstep type\trequirements\tstatement\n",
       "0\trelabeling\t1\t|- A => ((A => C) => C)\n",
       "\tB : C\n",
       "1\thypothetical reasoning\t2\t|- A => ((A => B) => B)\n",
       "2\thypothetical reasoning\t3\t{A} |- (A => B) => B\n",
       "3\tmodus ponens\t4, 5\t{A , A => B} |- B\n",
       "4\tassumption\t\t{A => B} |- A => B\n",
       "5\tassumption\t\t{A} |- A"
      ]
     },
     "execution_count": 9,
     "metadata": {},
     "output_type": "execute_result"
    }
   ],
   "source": [
    "explicit_C_from_A.proof()"
   ]
  },
  {
   "cell_type": "markdown",
   "metadata": {},
   "source": [
    "Note, however, that a **Variable** may only be relabeled to another **Variable**.  To do anything else, *specialization* would be required.  We will discuss *specialization* in the next tutorial chapter."
   ]
  },
  {
   "cell_type": "code",
   "execution_count": 10,
   "metadata": {},
   "outputs": [
    {
     "name": "stdout",
     "output_type": "stream",
     "text": [
      "EXPECTED ERROR: Proof step failed: May only relabel a Variable to a Variable.\n"
     ]
    }
   ],
   "source": [
    "from proveit.logic import And\n",
    "try:\n",
    "    explicit_B_from_A.relabel({B:And(B, C)})\n",
    "    assert False, \"Expecting an RelabelingFailure error; should not make it to this point\"\n",
    "except RelabelingFailure as e:\n",
    "    print(\"EXPECTED ERROR:\", e)"
   ]
  },
  {
   "cell_type": "markdown",
   "metadata": {},
   "source": [
    "## Alternative relabeling approaches\n",
    "\n",
    "Here we explore a some alternative mechanisms for achieving the desired relabeling of something like\n",
    "\n",
    "$\\{A, A\\Rightarrow B\\} \\vdash B$\n",
    "\n",
    "to \n",
    "\n",
    "$\\{D, D\\Rightarrow C\\} \\vdash C$."
   ]
  },
  {
   "cell_type": "markdown",
   "metadata": {},
   "source": [
    "One approach would be to use the relabeled() method separately, but consistently on the left-hand assumptions and on the right-hand judgment, then putting them back together to form a KnownTruth. Something like this:"
   ]
  },
  {
   "cell_type": "code",
   "execution_count": 11,
   "metadata": {},
   "outputs": [
    {
     "data": {
      "text/html": [
       "<a class=\"ProveItLink\" href=\"../packages/proveit/__pv_it/985a1bdf1540838275dec15f4ad6de261cca93ce0/expr.ipynb\"><img src=\"../packages/proveit/__pv_it/985a1bdf1540838275dec15f4ad6de261cca93ce0/expr.png\" style=\"display:inline;vertical-align:middle;\" /></a>"
      ],
      "text/plain": [
       "C"
      ]
     },
     "execution_count": 11,
     "metadata": {},
     "output_type": "execute_result"
    }
   ],
   "source": [
    "B_from_A.relabeled({B:C})"
   ]
  },
  {
   "cell_type": "code",
   "execution_count": 12,
   "metadata": {},
   "outputs": [
    {
     "name": "stdout",
     "output_type": "stream",
     "text": [
      "Old assumption:  A\n",
      "New assumption:  D\n",
      "Old assumption:  A => B\n",
      "operation.substituted.exprMap =  {}\n",
      "operation.substituted.exprMap =  {}\n",
      "New assumption:  D => C\n"
     ]
    },
    {
     "data": {
      "text/plain": [
       "[D, D => C]"
      ]
     },
     "execution_count": 12,
     "metadata": {},
     "output_type": "execute_result"
    }
   ],
   "source": [
    "# testing -- delete later\n",
    "relabeledAssumptions = list()\n",
    "for oldAssumption in B_from_A.assumptions:\n",
    "    print('Old assumption: ', oldAssumption)\n",
    "    newAssumption = oldAssumption.relabeled({B:C, A:D})\n",
    "    relabeledAssumptions.append(oldAssumption.relabeled({B:C, A:D}))\n",
    "    print('New assumption: ', newAssumption)\n",
    "relabeledAssumptions"
   ]
  },
  {
   "cell_type": "code",
   "execution_count": 13,
   "metadata": {},
   "outputs": [
    {
     "name": "stdout",
     "output_type": "stream",
     "text": [
      "Free variables in item 0: {A}\n",
      "Free variables in item 1: {B, A}\n",
      "{A}\n"
     ]
    }
   ],
   "source": [
    "# testing -- delete later\n",
    "print('Free variables in item 0:',  B_from_A.assumptions[0].freeVars())\n",
    "print('Free variables in item 1:',  B_from_A.assumptions[1].freeVars())\n",
    "print(B_from_A.assumptions[0].freeVars())"
   ]
  },
  {
   "cell_type": "code",
   "execution_count": 14,
   "metadata": {},
   "outputs": [
    {
     "name": "stdout",
     "output_type": "stream",
     "text": [
      "{A , A => B} |- B\n",
      "New assumptions:  [D, D => C]\n",
      "New desired outcome:  C\n"
     ]
    },
    {
     "data": {
      "text/html": [
       "<strong id=\"newKnownTruth\">newKnownTruth:</strong> <span style=\"font-size:20px;\"><a class=\"ProveItLink\" href=\"__pv_it/88a08ff9c8de763ac67204fce88c857c679fa4fb0/expr.ipynb\"><img src=\"__pv_it/88a08ff9c8de763ac67204fce88c857c679fa4fb0/expr.png\" style=\"display:inline;vertical-align:middle;\" /></a> &#x22A2;&nbsp;<a class=\"ProveItLink\" href=\"../packages/proveit/__pv_it/985a1bdf1540838275dec15f4ad6de261cca93ce0/expr.ipynb\"><img src=\"../packages/proveit/__pv_it/985a1bdf1540838275dec15f4ad6de261cca93ce0/expr.png\" style=\"display:inline;vertical-align:middle;\" /></a></span><br>"
      ],
      "text/plain": [
       "newKnownTruth: {D , D => C} |- C"
      ]
     },
     "execution_count": 14,
     "metadata": {},
     "output_type": "execute_result"
    }
   ],
   "source": [
    "print(B_from_A)\n",
    "print('New assumptions: ', relabeledAssumptions)\n",
    "newOutcome = B_from_A.substituted({B:C})\n",
    "print('New desired outcome: ', newOutcome)\n",
    "newKnownTruth = newOutcome.prove(assumptions=relabeledAssumptions)"
   ]
  },
  {
   "cell_type": "markdown",
   "metadata": {},
   "source": [
    "That approach is essentially what the KnownTruth.relabelFully() method does"
   ]
  },
  {
   "cell_type": "code",
   "execution_count": 15,
   "metadata": {},
   "outputs": [
    {
     "name": "stdout",
     "output_type": "stream",
     "text": [
      "The KnownTruth to be manipulated:  {A , A => B} |- B\n",
      "assumptions initially passed to Specialization_02:  (A, A => B)\n",
      "assumptions after checkedAssumptions call:  [A, A => B]\n",
      "operation.substituted.exprMap =  {}\n",
      "Inside _specialized_expr, relabeledAssumptions =  [D, D => C]\n",
      "relabelMap =  {B: C, A: D}\n",
      "Just before expr.substituted() call, assumptions =  [D, D => C]\n",
      "mappedVarLists =  [[B]]\n",
      "subbedConditions =  []\n",
      "mappings =  {B: C, A: D}\n",
      "After call to _specialized_expr:\n",
      "     specializedExpr =  C\n",
      "     assumptions =  [D, D => C]\n",
      "     mappings =  {B: C, A: D}\n"
     ]
    },
    {
     "data": {
      "text/html": [
       "<span style=\"font-size:20px;\"><a class=\"ProveItLink\" href=\"__pv_it/88a08ff9c8de763ac67204fce88c857c679fa4fb0/expr.ipynb\"><img src=\"__pv_it/88a08ff9c8de763ac67204fce88c857c679fa4fb0/expr.png\" style=\"display:inline;vertical-align:middle;\" /></a> &#x22A2;&nbsp;<a class=\"ProveItLink\" href=\"../packages/proveit/__pv_it/985a1bdf1540838275dec15f4ad6de261cca93ce0/expr.ipynb\"><img src=\"../packages/proveit/__pv_it/985a1bdf1540838275dec15f4ad6de261cca93ce0/expr.png\" style=\"display:inline;vertical-align:middle;\" /></a></span>"
      ],
      "text/plain": [
       "{D , D => C} |- C"
      ]
     },
     "execution_count": 15,
     "metadata": {},
     "output_type": "execute_result"
    }
   ],
   "source": [
    "# testing -- delete later\n",
    "# working with original relabel() method\n",
    "# B_from_A.relabel({B:C, A:D})\n",
    "# working with the relabelFully method\n",
    "print('The KnownTruth to be manipulated: ', B_from_A)\n",
    "B_from_A_relabel_example01 = B_from_A.relabelFully({B:C, A:D})\n",
    "B_from_A_relabel_example01\n",
    "# B_from_A_relabeledFully.prove(assumptions = relabeledAssumptions)"
   ]
  },
  {
   "cell_type": "code",
   "execution_count": 16,
   "metadata": {},
   "outputs": [
    {
     "data": {
      "text/html": [
       "<table><tr><th>&nbsp;</th><th>step type</th><th>requirements</th><th>statement</th></tr>\n",
       "<tr><td>0</td><td>modus ponens</td><td>1, 2</td><td><span style=\"font-size:20px;\"><a class=\"ProveItLink\" href=\"__pv_it/88a08ff9c8de763ac67204fce88c857c679fa4fb0/expr.ipynb\"><img src=\"__pv_it/88a08ff9c8de763ac67204fce88c857c679fa4fb0/expr.png\" style=\"display:inline;vertical-align:middle;\" /></a> &#x22A2;&nbsp;<a class=\"ProveItLink\" href=\"../packages/proveit/__pv_it/985a1bdf1540838275dec15f4ad6de261cca93ce0/expr.ipynb\"><img src=\"../packages/proveit/__pv_it/985a1bdf1540838275dec15f4ad6de261cca93ce0/expr.png\" style=\"display:inline;vertical-align:middle;\" /></a></span></td></tr>\n",
       "<tr><td>1</td><td>assumption</td><td></td><td><span style=\"font-size:20px;\"><a class=\"ProveItLink\" href=\"__pv_it/0ae6dd391cc95ff88c082d4b598f567ae352d2b30/expr.ipynb\"><img src=\"__pv_it/0ae6dd391cc95ff88c082d4b598f567ae352d2b30/expr.png\" style=\"display:inline;vertical-align:middle;\" /></a> &#x22A2;&nbsp;<a class=\"ProveItLink\" href=\"__pv_it/bfc0e5cff3da90b1bf004eb5f205cc226ede6e5f0/expr.ipynb\"><img src=\"__pv_it/bfc0e5cff3da90b1bf004eb5f205cc226ede6e5f0/expr.png\" style=\"display:inline;vertical-align:middle;\" /></a></span></td></tr>\n",
       "<tr><td>2</td><td>assumption</td><td></td><td><span style=\"font-size:20px;\"><a class=\"ProveItLink\" href=\"__pv_it/1d2905d2700f1ae7bf883919a16e14933b6055a50/expr.ipynb\"><img src=\"__pv_it/1d2905d2700f1ae7bf883919a16e14933b6055a50/expr.png\" style=\"display:inline;vertical-align:middle;\" /></a> &#x22A2;&nbsp;<a class=\"ProveItLink\" href=\"../packages/proveit/__pv_it/185e6d30f167ee2ee5ef3321098dc98e0d77bc590/expr.ipynb\"><img src=\"../packages/proveit/__pv_it/185e6d30f167ee2ee5ef3321098dc98e0d77bc590/expr.png\" style=\"display:inline;vertical-align:middle;\" /></a></span></td></tr>\n",
       "</table>"
      ],
      "text/plain": [
       "\tstep type\trequirements\tstatement\n",
       "0\tmodus ponens\t1, 2\t{D , D => C} |- C\n",
       "1\tassumption\t\t{D => C} |- D => C\n",
       "2\tassumption\t\t{D} |- D"
      ]
     },
     "execution_count": 16,
     "metadata": {},
     "output_type": "execute_result"
    }
   ],
   "source": [
    "B_from_A_relabel_example01.proof()"
   ]
  },
  {
   "cell_type": "code",
   "execution_count": 17,
   "metadata": {},
   "outputs": [
    {
     "name": "stdout",
     "output_type": "stream",
     "text": [
      "assumptions initially passed to Specialization_02:  (A, A => B)\n",
      "assumptions after checkedAssumptions call:  [A, A => B]\n",
      "operation.substituted.exprMap =  {}\n",
      "Inside _specialized_expr, relabeledAssumptions =  [A, A => C]\n",
      "relabelMap =  {B: C}\n",
      "Just before expr.substituted() call, assumptions =  [A, A => C]\n",
      "mappedVarLists =  [[B]]\n",
      "subbedConditions =  []\n",
      "mappings =  {B: C}\n",
      "After call to _specialized_expr:\n",
      "     specializedExpr =  C\n",
      "     assumptions =  [A, A => C]\n",
      "     mappings =  {B: C}\n"
     ]
    },
    {
     "data": {
      "text/html": [
       "<strong id=\"B_from_A_relabel_Example02\">B_from_A_relabel_Example02:</strong> <span style=\"font-size:20px;\"><a class=\"ProveItLink\" href=\"__pv_it/79f01583ab60ebed83167cce50281bec816e89460/expr.ipynb\"><img src=\"__pv_it/79f01583ab60ebed83167cce50281bec816e89460/expr.png\" style=\"display:inline;vertical-align:middle;\" /></a> &#x22A2;&nbsp;<a class=\"ProveItLink\" href=\"../packages/proveit/__pv_it/985a1bdf1540838275dec15f4ad6de261cca93ce0/expr.ipynb\"><img src=\"../packages/proveit/__pv_it/985a1bdf1540838275dec15f4ad6de261cca93ce0/expr.png\" style=\"display:inline;vertical-align:middle;\" /></a></span><br>"
      ],
      "text/plain": [
       "B_from_A_relabel_Example02: {A , A => C} |- C"
      ]
     },
     "execution_count": 17,
     "metadata": {},
     "output_type": "execute_result"
    }
   ],
   "source": [
    "# Another example\n",
    "B_from_A_relabel_Example02 = B_from_A.relabelFully({B:C})"
   ]
  },
  {
   "cell_type": "code",
   "execution_count": 18,
   "metadata": {},
   "outputs": [
    {
     "data": {
      "text/html": [
       "<table><tr><th>&nbsp;</th><th>step type</th><th>requirements</th><th>statement</th></tr>\n",
       "<tr><td>0</td><td>relabeling</td><td>1</td><td><span style=\"font-size:20px;\"><a class=\"ProveItLink\" href=\"__pv_it/79f01583ab60ebed83167cce50281bec816e89460/expr.ipynb\"><img src=\"__pv_it/79f01583ab60ebed83167cce50281bec816e89460/expr.png\" style=\"display:inline;vertical-align:middle;\" /></a> &#x22A2;&nbsp;<a class=\"ProveItLink\" href=\"../packages/proveit/__pv_it/985a1bdf1540838275dec15f4ad6de261cca93ce0/expr.ipynb\"><img src=\"../packages/proveit/__pv_it/985a1bdf1540838275dec15f4ad6de261cca93ce0/expr.png\" style=\"display:inline;vertical-align:middle;\" /></a></span></td></tr>\n",
       "<tr><td>1</td><td>modus ponens</td><td>2, 3</td><td><span style=\"font-size:20px;\"><a class=\"ProveItLink\" href=\"__pv_it/60d37329e7d80ee80309a0873432cf950c8570af0/expr.ipynb\"><img src=\"__pv_it/60d37329e7d80ee80309a0873432cf950c8570af0/expr.png\" style=\"display:inline;vertical-align:middle;\" /></a> &#x22A2;&nbsp;<a class=\"ProveItLink\" href=\"../packages/proveit/__pv_it/077b2ff79244fb4582cbe22c6e3356fa92a52f2f0/expr.ipynb\"><img src=\"../packages/proveit/__pv_it/077b2ff79244fb4582cbe22c6e3356fa92a52f2f0/expr.png\" style=\"display:inline;vertical-align:middle;\" /></a></span></td></tr>\n",
       "<tr><td>2</td><td>assumption</td><td></td><td><span style=\"font-size:20px;\"><a class=\"ProveItLink\" href=\"__pv_it/9654b2deb52acc32c7e7f9ddb0ac7acafab7fd220/expr.ipynb\"><img src=\"__pv_it/9654b2deb52acc32c7e7f9ddb0ac7acafab7fd220/expr.png\" style=\"display:inline;vertical-align:middle;\" /></a> &#x22A2;&nbsp;<a class=\"ProveItLink\" href=\"__pv_it/74709aae353dd47ed1086aae7a6650599fd919cf0/expr.ipynb\"><img src=\"__pv_it/74709aae353dd47ed1086aae7a6650599fd919cf0/expr.png\" style=\"display:inline;vertical-align:middle;\" /></a></span></td></tr>\n",
       "<tr><td>3</td><td>assumption</td><td></td><td><span style=\"font-size:20px;\"><a class=\"ProveItLink\" href=\"__pv_it/158bdc91074824c720728a23dba5d58593c8cc480/expr.ipynb\"><img src=\"__pv_it/158bdc91074824c720728a23dba5d58593c8cc480/expr.png\" style=\"display:inline;vertical-align:middle;\" /></a> &#x22A2;&nbsp;<a class=\"ProveItLink\" href=\"../packages/proveit/__pv_it/2cbe72a7ad6f655694dd697106680215e8489b600/expr.ipynb\"><img src=\"../packages/proveit/__pv_it/2cbe72a7ad6f655694dd697106680215e8489b600/expr.png\" style=\"display:inline;vertical-align:middle;\" /></a></span></td></tr>\n",
       "</table>"
      ],
      "text/plain": [
       "\tstep type\trequirements\tstatement\n",
       "0\trelabeling\t1\t{A , A => C} |- C\n",
       "1\tmodus ponens\t2, 3\t{A , A => B} |- B\n",
       "2\tassumption\t\t{A => B} |- A => B\n",
       "3\tassumption\t\t{A} |- A"
      ]
     },
     "execution_count": 18,
     "metadata": {},
     "output_type": "execute_result"
    }
   ],
   "source": [
    "B_from_A_relabel_Example02.proof()"
   ]
  },
  {
   "cell_type": "code",
   "execution_count": 19,
   "metadata": {},
   "outputs": [
    {
     "name": "stdout",
     "output_type": "stream",
     "text": [
      "assumptions initially passed to Specialization_02:  (A, A => B)\n",
      "assumptions after checkedAssumptions call:  [A, A => B]\n",
      "operation.substituted.exprMap =  {}\n",
      "Inside _specialized_expr, relabeledAssumptions =  [B, B => A]\n",
      "relabelMap =  {A: B, B: A}\n",
      "Just before expr.substituted() call, assumptions =  [B, B => A]\n",
      "mappedVarLists =  [[B]]\n",
      "subbedConditions =  []\n",
      "mappings =  {A: B, B: A}\n",
      "After call to _specialized_expr:\n",
      "     specializedExpr =  A\n",
      "     assumptions =  [B, B => A]\n",
      "     mappings =  {A: B, B: A}\n"
     ]
    },
    {
     "data": {
      "text/html": [
       "<strong id=\"B_from_A_relabel_Example03\">B_from_A_relabel_Example03:</strong> <span style=\"font-size:20px;\"><a class=\"ProveItLink\" href=\"__pv_it/f4ed0fac4188286b0f4553b55fc556af4a66b7750/expr.ipynb\"><img src=\"__pv_it/f4ed0fac4188286b0f4553b55fc556af4a66b7750/expr.png\" style=\"display:inline;vertical-align:middle;\" /></a> &#x22A2;&nbsp;<a class=\"ProveItLink\" href=\"../packages/proveit/__pv_it/2cbe72a7ad6f655694dd697106680215e8489b600/expr.ipynb\"><img src=\"../packages/proveit/__pv_it/2cbe72a7ad6f655694dd697106680215e8489b600/expr.png\" style=\"display:inline;vertical-align:middle;\" /></a></span><br>"
      ],
      "text/plain": [
       "B_from_A_relabel_Example03: {B , B => A} |- A"
      ]
     },
     "execution_count": 19,
     "metadata": {},
     "output_type": "execute_result"
    }
   ],
   "source": [
    "# Another example, simultaneously relabeling multiple variables\n",
    "# this does NOT yet work\n",
    "B_from_A_relabel_Example03 = B_from_A.relabelFully({A:B, B:A})"
   ]
  },
  {
   "cell_type": "code",
   "execution_count": 20,
   "metadata": {},
   "outputs": [
    {
     "data": {
      "text/html": [
       "<table><tr><th>&nbsp;</th><th>step type</th><th>requirements</th><th>statement</th></tr>\n",
       "<tr><td>0</td><td>relabeling</td><td>1</td><td><span style=\"font-size:20px;\"><a class=\"ProveItLink\" href=\"__pv_it/f4ed0fac4188286b0f4553b55fc556af4a66b7750/expr.ipynb\"><img src=\"__pv_it/f4ed0fac4188286b0f4553b55fc556af4a66b7750/expr.png\" style=\"display:inline;vertical-align:middle;\" /></a> &#x22A2;&nbsp;<a class=\"ProveItLink\" href=\"../packages/proveit/__pv_it/2cbe72a7ad6f655694dd697106680215e8489b600/expr.ipynb\"><img src=\"../packages/proveit/__pv_it/2cbe72a7ad6f655694dd697106680215e8489b600/expr.png\" style=\"display:inline;vertical-align:middle;\" /></a></span></td></tr>\n",
       "<tr><td>1</td><td>modus ponens</td><td>2, 3</td><td><span style=\"font-size:20px;\"><a class=\"ProveItLink\" href=\"__pv_it/60d37329e7d80ee80309a0873432cf950c8570af0/expr.ipynb\"><img src=\"__pv_it/60d37329e7d80ee80309a0873432cf950c8570af0/expr.png\" style=\"display:inline;vertical-align:middle;\" /></a> &#x22A2;&nbsp;<a class=\"ProveItLink\" href=\"../packages/proveit/__pv_it/077b2ff79244fb4582cbe22c6e3356fa92a52f2f0/expr.ipynb\"><img src=\"../packages/proveit/__pv_it/077b2ff79244fb4582cbe22c6e3356fa92a52f2f0/expr.png\" style=\"display:inline;vertical-align:middle;\" /></a></span></td></tr>\n",
       "<tr><td>2</td><td>assumption</td><td></td><td><span style=\"font-size:20px;\"><a class=\"ProveItLink\" href=\"__pv_it/9654b2deb52acc32c7e7f9ddb0ac7acafab7fd220/expr.ipynb\"><img src=\"__pv_it/9654b2deb52acc32c7e7f9ddb0ac7acafab7fd220/expr.png\" style=\"display:inline;vertical-align:middle;\" /></a> &#x22A2;&nbsp;<a class=\"ProveItLink\" href=\"__pv_it/74709aae353dd47ed1086aae7a6650599fd919cf0/expr.ipynb\"><img src=\"__pv_it/74709aae353dd47ed1086aae7a6650599fd919cf0/expr.png\" style=\"display:inline;vertical-align:middle;\" /></a></span></td></tr>\n",
       "<tr><td>3</td><td>assumption</td><td></td><td><span style=\"font-size:20px;\"><a class=\"ProveItLink\" href=\"__pv_it/158bdc91074824c720728a23dba5d58593c8cc480/expr.ipynb\"><img src=\"__pv_it/158bdc91074824c720728a23dba5d58593c8cc480/expr.png\" style=\"display:inline;vertical-align:middle;\" /></a> &#x22A2;&nbsp;<a class=\"ProveItLink\" href=\"../packages/proveit/__pv_it/2cbe72a7ad6f655694dd697106680215e8489b600/expr.ipynb\"><img src=\"../packages/proveit/__pv_it/2cbe72a7ad6f655694dd697106680215e8489b600/expr.png\" style=\"display:inline;vertical-align:middle;\" /></a></span></td></tr>\n",
       "</table>"
      ],
      "text/plain": [
       "\tstep type\trequirements\tstatement\n",
       "0\trelabeling\t1\t{B , B => A} |- A\n",
       "1\tmodus ponens\t2, 3\t{A , A => B} |- B\n",
       "2\tassumption\t\t{A => B} |- A => B\n",
       "3\tassumption\t\t{A} |- A"
      ]
     },
     "execution_count": 20,
     "metadata": {},
     "output_type": "execute_result"
    }
   ],
   "source": [
    "B_from_A_relabel_Example03.proof()"
   ]
  },
  {
   "cell_type": "code",
   "execution_count": 21,
   "metadata": {},
   "outputs": [
    {
     "data": {
      "text/html": [
       "<a class=\"ProveItLink\" href=\"../packages/proveit/__pv_it/985a1bdf1540838275dec15f4ad6de261cca93ce0/expr.ipynb\"><img src=\"../packages/proveit/__pv_it/985a1bdf1540838275dec15f4ad6de261cca93ce0/expr.png\" style=\"display:inline;vertical-align:middle;\" /></a>"
      ],
      "text/plain": [
       "C"
      ]
     },
     "execution_count": 21,
     "metadata": {},
     "output_type": "execute_result"
    }
   ],
   "source": [
    "B_from_A.substituted({B:C})"
   ]
  },
  {
   "cell_type": "code",
   "execution_count": null,
   "metadata": {},
   "outputs": [],
   "source": []
  },
  {
   "cell_type": "code",
   "execution_count": 22,
   "metadata": {},
   "outputs": [
    {
     "data": {
      "text/html": [
       "<span style=\"font-size:20px;\"> &#x22A2;&nbsp;<a class=\"ProveItLink\" href=\"../packages/proveit/logic/equality/__pv_it/6ec2193ff7f2a0001aea3e112ec0ee2dddc5beb10/expr.ipynb\"><img src=\"../packages/proveit/logic/equality/__pv_it/6ec2193ff7f2a0001aea3e112ec0ee2dddc5beb10/expr.png\" style=\"display:inline;vertical-align:middle;\" /></a></span>"
      ],
      "text/plain": [
       "|- forall_{f, x, y | x = y} (f(x) = f(y))"
      ]
     },
     "execution_count": 22,
     "metadata": {},
     "output_type": "execute_result"
    }
   ],
   "source": [
    "substitution"
   ]
  },
  {
   "cell_type": "code",
   "execution_count": 23,
   "metadata": {},
   "outputs": [
    {
     "name": "stdout",
     "output_type": "stream",
     "text": [
      "operation.substituted.exprMap =  {}\n",
      "operation.substituted.exprMap =  {}\n",
      "operation.substituted.exprMap =  {}\n",
      "operation.substituted.exprMap =  {}\n",
      "operation.substituted.exprMap =  {x: a, y: b}\n",
      "operation.substituted.exprMap =  {x: a, y: b}\n",
      "operation.substituted.exprMap =  {A: a = b}\n",
      "operation.substituted.exprMap =  {A: a = b}\n",
      "operation.substituted.exprMap =  {A: a = b}\n",
      "operation.substituted.exprMap =  {}\n",
      "operation.substituted.exprMap =  {}\n",
      "operation.substituted.exprMap =  {}\n",
      "operation.substituted.exprMap =  {x: f(a), y: f(b)}\n",
      "operation.substituted.exprMap =  {x: f(a), y: f(b)}\n",
      "operation.substituted.exprMap =  {A: f(a) = f(b)}\n",
      "operation.substituted.exprMap =  {A: f(a) = f(b)}\n",
      "operation.substituted.exprMap =  {A: f(a) = f(b)}\n",
      "operation.substituted.exprMap =  {}\n",
      "operation.substituted.exprMap =  {}\n",
      "operation.substituted.exprMap =  {}\n",
      "operation.substituted.exprMap =  {x: f(a), y: f(_x_)}\n",
      "operation.substituted.exprMap =  {x: f(a), y: f(_x_)}\n",
      "operation.substituted.exprMap =  {}\n",
      "operation.substituted.exprMap =  {x: a, y: _x_}\n",
      "operation.substituted.exprMap =  {x: a, y: _x_}\n",
      "operation.substituted.exprMap =  {}\n",
      "operation.substituted.exprMap =  {}\n",
      "operation.substituted.exprMap =  {}\n",
      "operation.substituted.exprMap =  {x: f(a), y: f(_x_)}\n",
      "operation.substituted.exprMap =  {x: f(a), y: f(_x_)}\n",
      "operation.substituted.exprMap =  {}\n",
      "operation.substituted.exprMap =  {x: a, y: _x_}\n",
      "operation.substituted.exprMap =  {x: a, y: _x_}\n",
      "operation.substituted.exprMap =  {}\n",
      "operation.substituted.exprMap =  {}\n",
      "operation.substituted.exprMap =  {x: _y_, y: _x_}\n",
      "operation.substituted.exprMap =  {x: _y_, y: _x_}\n",
      "operation.substituted.exprMap =  {}\n",
      "operation.substituted.exprMap =  {}\n",
      "operation.substituted.exprMap =  {}\n",
      "operation.substituted.exprMap =  {x: f(_y_), y: f(_x_)}\n",
      "operation.substituted.exprMap =  {x: f(_y_), y: f(_x_)}\n",
      "operation.substituted.exprMap =  {}\n",
      "operation.substituted.exprMap =  {}\n",
      "operation.substituted.exprMap =  {x: _y_, y: _x_}\n",
      "operation.substituted.exprMap =  {x: _y_, y: _x_}\n",
      "operation.substituted.exprMap =  {}\n",
      "operation.substituted.exprMap =  {}\n",
      "operation.substituted.exprMap =  {}\n",
      "operation.substituted.exprMap =  {x: f(_y_), y: f(_x_)}\n",
      "operation.substituted.exprMap =  {x: f(_y_), y: f(_x_)}\n",
      "operation.substituted.exprMap =  {}\n",
      "operation.substituted.exprMap =  {}\n",
      "operation.substituted.exprMap =  {}\n",
      "operation.substituted.exprMap =  {x: _y_, y: _x_}\n",
      "operation.substituted.exprMap =  {x: _y_, y: _x_}\n",
      "operation.substituted.exprMap =  {}\n",
      "operation.substituted.exprMap =  {}\n",
      "operation.substituted.exprMap =  {}\n",
      "operation.substituted.exprMap =  {x: _z_(_y_), y: _z_(_x_)}\n",
      "operation.substituted.exprMap =  {x: _z_(_y_), y: _z_(_x_)}\n",
      "operation.substituted.exprMap =  {}\n",
      "operation.substituted.exprMap =  {}\n",
      "operation.substituted.exprMap =  {}\n",
      "operation.substituted.exprMap =  {x: _y_, y: _x_}\n",
      "operation.substituted.exprMap =  {x: _y_, y: _x_}\n",
      "operation.substituted.exprMap =  {}\n",
      "operation.substituted.exprMap =  {}\n",
      "operation.substituted.exprMap =  {}\n",
      "operation.substituted.exprMap =  {x: _z_(_y_), y: _z_(_x_)}\n",
      "operation.substituted.exprMap =  {x: _z_(_y_), y: _z_(_x_)}\n"
     ]
    },
    {
     "data": {
      "text/html": [
       "<strong id=\"substitution_relabel_example01\">substitution_relabel_example01:</strong> <span style=\"font-size:20px;\"> &#x22A2;&nbsp;<a class=\"ProveItLink\" href=\"__pv_it/b4170dd43871aa194a2861376dec45a44e8dfe1c0/expr.ipynb\"><img src=\"__pv_it/b4170dd43871aa194a2861376dec45a44e8dfe1c0/expr.png\" style=\"display:inline;vertical-align:middle;\" /></a></span><br>"
      ],
      "text/plain": [
       "substitution_relabel_example01: |- forall_{f, a, b | a = b} (f(a) = f(b))"
      ]
     },
     "execution_count": 23,
     "metadata": {},
     "output_type": "execute_result"
    }
   ],
   "source": [
    "# notice here we do not have to include information about a = b\n",
    "substitution_relabel_example01 = substitution.relabel({x:a, y:b})"
   ]
  },
  {
   "cell_type": "code",
   "execution_count": 24,
   "metadata": {},
   "outputs": [
    {
     "data": {
      "text/html": [
       "<table><tr><th>&nbsp;</th><th>step type</th><th>requirements</th><th>statement</th></tr>\n",
       "<tr><td>0</td><td>axiom</td><td></td><td><span style=\"font-size:20px;\"> &#x22A2;&nbsp;<a class=\"ProveItLink\" href=\"../packages/proveit/logic/equality/__pv_it/6ec2193ff7f2a0001aea3e112ec0ee2dddc5beb10/expr.ipynb\"><img src=\"../packages/proveit/logic/equality/__pv_it/6ec2193ff7f2a0001aea3e112ec0ee2dddc5beb10/expr.png\" style=\"display:inline;vertical-align:middle;\" /></a></span></td></tr>\n",
       "<tr><td>&nbsp;</td><td colspan=4 style-\"text-align:left\"><a class=\"ProveItLink\" href=\"../packages/proveit/logic/equality/_axioms_.ipynb#substitution\">proveit.logic.equality.substitution</a></td></tr></table>"
      ],
      "text/plain": [
       "\tstep type\trequirements\tstatement\n",
       "0\taxiom\t\t|- forall_{f, x, y | x = y} (f(x) = f(y))\n",
       "\tproveit.logic.equality.substitution"
      ]
     },
     "execution_count": 24,
     "metadata": {},
     "output_type": "execute_result"
    }
   ],
   "source": [
    "substitution_relabel_example01.proof()"
   ]
  },
  {
   "cell_type": "code",
   "execution_count": 25,
   "metadata": {},
   "outputs": [
    {
     "name": "stdout",
     "output_type": "stream",
     "text": [
      "assumptions initially passed to Specialization_02:  ()\n",
      "assumptions after checkedAssumptions call:  []\n",
      "Inside _specialized_expr, relabeledAssumptions =  []\n",
      "relabelMap =  {x: a, y: b}\n",
      "Just before expr.substituted() call, assumptions =  []\n",
      "operation.substituted.exprMap =  {}\n",
      "operation.substituted.exprMap =  {}\n",
      "operation.substituted.exprMap =  {}\n",
      "operation.substituted.exprMap =  {}\n",
      "operation.substituted.exprMap =  {x: a, y: b}\n",
      "operation.substituted.exprMap =  {x: a, y: b}\n",
      "operation.substituted.exprMap =  {}\n",
      "operation.substituted.exprMap =  {}\n",
      "operation.substituted.exprMap =  {}\n",
      "operation.substituted.exprMap =  {x: f(a), y: f(b)}\n",
      "operation.substituted.exprMap =  {x: f(a), y: f(b)}\n",
      "operation.substituted.exprMap =  {}\n",
      "operation.substituted.exprMap =  {}\n",
      "operation.substituted.exprMap =  {}\n",
      "operation.substituted.exprMap =  {x: f(a), y: f(_x_)}\n",
      "operation.substituted.exprMap =  {x: f(a), y: f(_x_)}\n",
      "operation.substituted.exprMap =  {}\n",
      "operation.substituted.exprMap =  {x: a, y: _x_}\n",
      "operation.substituted.exprMap =  {x: a, y: _x_}\n",
      "operation.substituted.exprMap =  {}\n",
      "operation.substituted.exprMap =  {}\n",
      "operation.substituted.exprMap =  {}\n",
      "operation.substituted.exprMap =  {x: f(a), y: f(_x_)}\n",
      "operation.substituted.exprMap =  {x: f(a), y: f(_x_)}\n",
      "operation.substituted.exprMap =  {}\n",
      "operation.substituted.exprMap =  {x: a, y: _x_}\n",
      "operation.substituted.exprMap =  {x: a, y: _x_}\n",
      "operation.substituted.exprMap =  {}\n",
      "operation.substituted.exprMap =  {}\n",
      "operation.substituted.exprMap =  {x: _y_, y: _x_}\n",
      "operation.substituted.exprMap =  {x: _y_, y: _x_}\n",
      "operation.substituted.exprMap =  {}\n",
      "operation.substituted.exprMap =  {}\n",
      "operation.substituted.exprMap =  {}\n",
      "operation.substituted.exprMap =  {x: f(_y_), y: f(_x_)}\n",
      "operation.substituted.exprMap =  {x: f(_y_), y: f(_x_)}\n",
      "operation.substituted.exprMap =  {}\n",
      "operation.substituted.exprMap =  {}\n",
      "operation.substituted.exprMap =  {x: _y_, y: _x_}\n",
      "operation.substituted.exprMap =  {x: _y_, y: _x_}\n",
      "operation.substituted.exprMap =  {}\n",
      "operation.substituted.exprMap =  {}\n",
      "operation.substituted.exprMap =  {}\n",
      "operation.substituted.exprMap =  {x: f(_y_), y: f(_x_)}\n",
      "operation.substituted.exprMap =  {x: f(_y_), y: f(_x_)}\n",
      "operation.substituted.exprMap =  {}\n",
      "operation.substituted.exprMap =  {}\n",
      "operation.substituted.exprMap =  {}\n",
      "operation.substituted.exprMap =  {x: _y_, y: _x_}\n",
      "operation.substituted.exprMap =  {x: _y_, y: _x_}\n",
      "operation.substituted.exprMap =  {}\n",
      "operation.substituted.exprMap =  {}\n",
      "operation.substituted.exprMap =  {}\n",
      "operation.substituted.exprMap =  {x: _z_(_y_), y: _z_(_x_)}\n",
      "operation.substituted.exprMap =  {x: _z_(_y_), y: _z_(_x_)}\n",
      "operation.substituted.exprMap =  {}\n",
      "operation.substituted.exprMap =  {}\n",
      "operation.substituted.exprMap =  {}\n",
      "operation.substituted.exprMap =  {x: _y_, y: _x_}\n",
      "operation.substituted.exprMap =  {x: _y_, y: _x_}\n",
      "operation.substituted.exprMap =  {}\n",
      "operation.substituted.exprMap =  {}\n",
      "operation.substituted.exprMap =  {}\n",
      "operation.substituted.exprMap =  {x: _z_(_y_), y: _z_(_x_)}\n",
      "operation.substituted.exprMap =  {x: _z_(_y_), y: _z_(_x_)}\n",
      "mappedVarLists =  [[x, y]]\n",
      "subbedConditions =  []\n",
      "mappings =  {x: a, y: b}\n",
      "After call to _specialized_expr:\n",
      "     specializedExpr =  forall_{f, a, b | a = b} (f(a) = f(b))\n",
      "     assumptions =  []\n",
      "     mappings =  {x: a, y: b}\n"
     ]
    },
    {
     "data": {
      "text/html": [
       "<strong id=\"substitution_relabel_example01_alt\">substitution_relabel_example01_alt:</strong> <span style=\"font-size:20px;\"> &#x22A2;&nbsp;<a class=\"ProveItLink\" href=\"__pv_it/b4170dd43871aa194a2861376dec45a44e8dfe1c0/expr.ipynb\"><img src=\"__pv_it/b4170dd43871aa194a2861376dec45a44e8dfe1c0/expr.png\" style=\"display:inline;vertical-align:middle;\" /></a></span><br>"
      ],
      "text/plain": [
       "substitution_relabel_example01_alt: |- forall_{f, a, b | a = b} (f(a) = f(b))"
      ]
     },
     "execution_count": 25,
     "metadata": {},
     "output_type": "execute_result"
    }
   ],
   "source": [
    "# notice here we do not have to include information about a = b\n",
    "substitution_relabel_example01_alt = substitution.relabelFully({x:a, y:b})"
   ]
  },
  {
   "cell_type": "code",
   "execution_count": 26,
   "metadata": {},
   "outputs": [
    {
     "data": {
      "text/html": [
       "<table><tr><th>&nbsp;</th><th>step type</th><th>requirements</th><th>statement</th></tr>\n",
       "<tr><td>0</td><td>axiom</td><td></td><td><span style=\"font-size:20px;\"> &#x22A2;&nbsp;<a class=\"ProveItLink\" href=\"../packages/proveit/logic/equality/__pv_it/6ec2193ff7f2a0001aea3e112ec0ee2dddc5beb10/expr.ipynb\"><img src=\"../packages/proveit/logic/equality/__pv_it/6ec2193ff7f2a0001aea3e112ec0ee2dddc5beb10/expr.png\" style=\"display:inline;vertical-align:middle;\" /></a></span></td></tr>\n",
       "<tr><td>&nbsp;</td><td colspan=4 style-\"text-align:left\"><a class=\"ProveItLink\" href=\"../packages/proveit/logic/equality/_axioms_.ipynb#substitution\">proveit.logic.equality.substitution</a></td></tr></table>"
      ],
      "text/plain": [
       "\tstep type\trequirements\tstatement\n",
       "0\taxiom\t\t|- forall_{f, x, y | x = y} (f(x) = f(y))\n",
       "\tproveit.logic.equality.substitution"
      ]
     },
     "execution_count": 26,
     "metadata": {},
     "output_type": "execute_result"
    }
   ],
   "source": [
    "substitution_relabel_example01_alt.proof()"
   ]
  },
  {
   "cell_type": "code",
   "execution_count": 27,
   "metadata": {},
   "outputs": [
    {
     "name": "stdout",
     "output_type": "stream",
     "text": [
      "operation.substituted.exprMap =  {}\n",
      "operation.substituted.exprMap =  {f: x -> (x + a)}\n",
      "operation.substituted.exprMap =  {f: x -> (x + a)}\n",
      "operation.substituted.exprMap =  {f: x -> (x + a)}\n",
      "operation.substituted.exprMap =  {x: x, y: y}\n",
      "operation.substituted.exprMap =  {x: x, y: y}\n",
      "operation.substituted.exprMap =  {f: x -> (x + a)}\n",
      "operation.substituted.exprMap =  {f: x -> (x + a)}\n",
      "operation.substituted.exprMap =  {x: x}\n",
      "operation.substituted.exprMap =  {f: x -> (x + a)}\n",
      "operation.substituted.exprMap =  {x: y}\n",
      "operation.substituted.exprMap =  {x: x + a, y: y + a}\n",
      "operation.substituted.exprMap =  {x: x + a, y: y + a}\n",
      "operation.substituted.exprMap =  {A: (x + a) = (y + a)}\n",
      "operation.substituted.exprMap =  {A: (x + a) = (y + a)}\n",
      "operation.substituted.exprMap =  {A: (x + a) = (y + a)}\n",
      "operation.substituted.exprMap =  {}\n",
      "operation.substituted.exprMap =  {}\n",
      "operation.substituted.exprMap =  {}\n",
      "operation.substituted.exprMap =  {x: x + a, y: _x_ + a}\n",
      "operation.substituted.exprMap =  {x: x + a, y: _x_ + a}\n",
      "operation.substituted.exprMap =  {}\n",
      "operation.substituted.exprMap =  {x: x, y: _x_}\n",
      "operation.substituted.exprMap =  {x: x, y: _x_}\n",
      "operation.substituted.exprMap =  {}\n",
      "operation.substituted.exprMap =  {}\n",
      "operation.substituted.exprMap =  {}\n",
      "operation.substituted.exprMap =  {x: x + a, y: _x_ + a}\n",
      "operation.substituted.exprMap =  {x: x + a, y: _x_ + a}\n",
      "operation.substituted.exprMap =  {}\n",
      "operation.substituted.exprMap =  {x: x, y: _x_}\n",
      "operation.substituted.exprMap =  {x: x, y: _x_}\n",
      "operation.substituted.exprMap =  {}\n",
      "operation.substituted.exprMap =  {}\n",
      "operation.substituted.exprMap =  {x: _y_, y: _x_}\n",
      "operation.substituted.exprMap =  {x: _y_, y: _x_}\n",
      "operation.substituted.exprMap =  {}\n",
      "operation.substituted.exprMap =  {}\n",
      "operation.substituted.exprMap =  {}\n",
      "operation.substituted.exprMap =  {x: _y_ + a, y: _x_ + a}\n",
      "operation.substituted.exprMap =  {x: _y_ + a, y: _x_ + a}\n",
      "operation.substituted.exprMap =  {}\n",
      "operation.substituted.exprMap =  {}\n",
      "operation.substituted.exprMap =  {x: _y_, y: _x_}\n",
      "operation.substituted.exprMap =  {x: _y_, y: _x_}\n",
      "operation.substituted.exprMap =  {}\n",
      "operation.substituted.exprMap =  {}\n",
      "operation.substituted.exprMap =  {}\n",
      "operation.substituted.exprMap =  {x: _y_ + a, y: _x_ + a}\n",
      "operation.substituted.exprMap =  {x: _y_ + a, y: _x_ + a}\n"
     ]
    },
    {
     "data": {
      "text/html": [
       "<strong id=\"exampleKT\">exampleKT:</strong> <span style=\"font-size:20px;\"> &#x22A2;&nbsp;<a class=\"ProveItLink\" href=\"__pv_it/d56c522ff27a845ef22877e62e18a00a798d49dc0/expr.ipynb\"><img src=\"__pv_it/d56c522ff27a845ef22877e62e18a00a798d49dc0/expr.png\" style=\"display:inline;vertical-align:middle;\" /></a></span><br>"
      ],
      "text/plain": [
       "exampleKT: |- forall_{x, y | x = y} ((x + a) = (y + a))"
      ]
     },
     "execution_count": 27,
     "metadata": {},
     "output_type": "execute_result"
    }
   ],
   "source": [
    "exampleKT = substitution.specialize({fx:Add(x, a)})"
   ]
  },
  {
   "cell_type": "code",
   "execution_count": 28,
   "metadata": {},
   "outputs": [
    {
     "name": "stdout",
     "output_type": "stream",
     "text": [
      "assumptions initially passed to Specialization_02:  ()\n",
      "assumptions after checkedAssumptions call:  []\n",
      "Inside _specialized_expr, relabeledAssumptions =  []\n",
      "relabelMap =  {a: b}\n",
      "Just before expr.substituted() call, assumptions =  []\n",
      "operation.substituted.exprMap =  {}\n",
      "operation.substituted.exprMap =  {}\n",
      "operation.substituted.exprMap =  {}\n",
      "operation.substituted.exprMap =  {x: x, y: y}\n",
      "operation.substituted.exprMap =  {x: x, y: y}\n",
      "operation.substituted.exprMap =  {}\n",
      "operation.substituted.exprMap =  {}\n",
      "operation.substituted.exprMap =  {}\n",
      "operation.substituted.exprMap =  {x: x + b, y: y + b}\n",
      "operation.substituted.exprMap =  {x: x + b, y: y + b}\n",
      "operation.substituted.exprMap =  {A: (x + b) = (y + b)}\n",
      "operation.substituted.exprMap =  {A: (x + b) = (y + b)}\n",
      "operation.substituted.exprMap =  {A: (x + b) = (y + b)}\n",
      "operation.substituted.exprMap =  {}\n",
      "operation.substituted.exprMap =  {}\n",
      "operation.substituted.exprMap =  {}\n",
      "operation.substituted.exprMap =  {x: x + b, y: _x_ + b}\n",
      "operation.substituted.exprMap =  {x: x + b, y: _x_ + b}\n",
      "operation.substituted.exprMap =  {}\n",
      "operation.substituted.exprMap =  {x: x, y: _x_}\n",
      "operation.substituted.exprMap =  {x: x, y: _x_}\n",
      "operation.substituted.exprMap =  {}\n",
      "operation.substituted.exprMap =  {}\n",
      "operation.substituted.exprMap =  {}\n",
      "operation.substituted.exprMap =  {x: x + b, y: _x_ + b}\n",
      "operation.substituted.exprMap =  {x: x + b, y: _x_ + b}\n",
      "operation.substituted.exprMap =  {}\n",
      "operation.substituted.exprMap =  {x: x, y: _x_}\n",
      "operation.substituted.exprMap =  {x: x, y: _x_}\n",
      "operation.substituted.exprMap =  {}\n",
      "operation.substituted.exprMap =  {}\n",
      "operation.substituted.exprMap =  {x: _y_, y: _x_}\n",
      "operation.substituted.exprMap =  {x: _y_, y: _x_}\n",
      "operation.substituted.exprMap =  {}\n",
      "operation.substituted.exprMap =  {}\n",
      "operation.substituted.exprMap =  {}\n",
      "operation.substituted.exprMap =  {x: _y_ + b, y: _x_ + b}\n",
      "operation.substituted.exprMap =  {x: _y_ + b, y: _x_ + b}\n",
      "operation.substituted.exprMap =  {}\n",
      "operation.substituted.exprMap =  {}\n",
      "operation.substituted.exprMap =  {x: _y_, y: _x_}\n",
      "operation.substituted.exprMap =  {x: _y_, y: _x_}\n",
      "operation.substituted.exprMap =  {}\n",
      "operation.substituted.exprMap =  {}\n",
      "operation.substituted.exprMap =  {}\n",
      "operation.substituted.exprMap =  {x: _y_ + b, y: _x_ + b}\n",
      "operation.substituted.exprMap =  {x: _y_ + b, y: _x_ + b}\n",
      "mappedVarLists =  [[a]]\n",
      "subbedConditions =  []\n",
      "mappings =  {a: b}\n",
      "After call to _specialized_expr:\n",
      "     specializedExpr =  forall_{x, y | x = y} ((x + b) = (y + b))\n",
      "     assumptions =  []\n",
      "     mappings =  {a: b}\n"
     ]
    },
    {
     "data": {
      "text/html": [
       "<strong id=\"exampleKT_relabel\">exampleKT_relabel:</strong> <span style=\"font-size:20px;\"> &#x22A2;&nbsp;<a class=\"ProveItLink\" href=\"__pv_it/3e9332195cc8d995c54bb379ee6c383dad55ccea0/expr.ipynb\"><img src=\"__pv_it/3e9332195cc8d995c54bb379ee6c383dad55ccea0/expr.png\" style=\"display:inline;vertical-align:middle;\" /></a></span><br>"
      ],
      "text/plain": [
       "exampleKT_relabel: |- forall_{x, y | x = y} ((x + b) = (y + b))"
      ]
     },
     "execution_count": 28,
     "metadata": {},
     "output_type": "execute_result"
    }
   ],
   "source": [
    "exampleKT_relabel = exampleKT.relabelFully({a:b})"
   ]
  },
  {
   "cell_type": "code",
   "execution_count": 29,
   "metadata": {},
   "outputs": [
    {
     "data": {
      "text/html": [
       "<table><tr><th>&nbsp;</th><th>step type</th><th>requirements</th><th>statement</th></tr>\n",
       "<tr><td>0</td><td>relabeling</td><td>1</td><td><span style=\"font-size:20px;\"> &#x22A2;&nbsp;<a class=\"ProveItLink\" href=\"__pv_it/3e9332195cc8d995c54bb379ee6c383dad55ccea0/expr.ipynb\"><img src=\"__pv_it/3e9332195cc8d995c54bb379ee6c383dad55ccea0/expr.png\" style=\"display:inline;vertical-align:middle;\" /></a></span></td></tr>\n",
       "<tr><td>1</td><td>specialization</td><td>2</td><td><span style=\"font-size:20px;\"> &#x22A2;&nbsp;<a class=\"ProveItLink\" href=\"__pv_it/d56c522ff27a845ef22877e62e18a00a798d49dc0/expr.ipynb\"><img src=\"__pv_it/d56c522ff27a845ef22877e62e18a00a798d49dc0/expr.png\" style=\"display:inline;vertical-align:middle;\" /></a></span></td></tr>\n",
       "<tr><td>&nbsp;</td><td colspan=4 style=\"text-align:left\"><span style=\"font-size:20px;\"><a class=\"ProveItLink\" href=\"../packages/proveit/__pv_it/182d3f256e21dc75ea1ec3168bda49a871e4700a0/expr.ipynb\"><img src=\"../packages/proveit/__pv_it/182d3f256e21dc75ea1ec3168bda49a871e4700a0/expr.png\" style=\"display:inline;vertical-align:middle;\" /></a> : <a class=\"ProveItLink\" href=\"__pv_it/24e7b55e66b6069db7da0c84c69a02ae3d51ed4d0/expr.ipynb\"><img src=\"__pv_it/24e7b55e66b6069db7da0c84c69a02ae3d51ed4d0/expr.png\" style=\"display:inline;vertical-align:middle;\" /></a></span></td></tr><tr><td>2</td><td>axiom</td><td></td><td><span style=\"font-size:20px;\"> &#x22A2;&nbsp;<a class=\"ProveItLink\" href=\"../packages/proveit/logic/equality/__pv_it/6ec2193ff7f2a0001aea3e112ec0ee2dddc5beb10/expr.ipynb\"><img src=\"../packages/proveit/logic/equality/__pv_it/6ec2193ff7f2a0001aea3e112ec0ee2dddc5beb10/expr.png\" style=\"display:inline;vertical-align:middle;\" /></a></span></td></tr>\n",
       "<tr><td>&nbsp;</td><td colspan=4 style-\"text-align:left\"><a class=\"ProveItLink\" href=\"../packages/proveit/logic/equality/_axioms_.ipynb#substitution\">proveit.logic.equality.substitution</a></td></tr></table>"
      ],
      "text/plain": [
       "\tstep type\trequirements\tstatement\n",
       "0\trelabeling\t1\t|- forall_{x, y | x = y} ((x + b) = (y + b))\n",
       "1\tspecialization\t2\t|- forall_{x, y | x = y} ((x + a) = (y + a))\n",
       "\tf(x) : x + a\n",
       "2\taxiom\t\t|- forall_{f, x, y | x = y} (f(x) = f(y))\n",
       "\tproveit.logic.equality.substitution"
      ]
     },
     "execution_count": 29,
     "metadata": {},
     "output_type": "execute_result"
    }
   ],
   "source": [
    "exampleKT_relabel.proof()"
   ]
  },
  {
   "cell_type": "markdown",
   "metadata": {},
   "source": [
    "A quick look at substituted()"
   ]
  },
  {
   "cell_type": "code",
   "execution_count": 30,
   "metadata": {},
   "outputs": [
    {
     "name": "stdout",
     "output_type": "stream",
     "text": [
      "operation.substituted.exprMap =  {x: c, y: a + b}\n",
      "operation.substituted.exprMap =  {x: c, y: a + b}\n",
      "operation.substituted.exprMap =  {A: c = (a + b)}\n",
      "operation.substituted.exprMap =  {A: c = (a + b)}\n",
      "operation.substituted.exprMap =  {A: c = (a + b)}\n"
     ]
    },
    {
     "data": {
      "text/html": [
       "<strong id=\"exampleExpr\">exampleExpr:</strong> <a class=\"ProveItLink\" href=\"__pv_it/c7f09cd8cf43ff114fbc759972d270c27cb51dbd0/expr.ipynb\"><img src=\"__pv_it/c7f09cd8cf43ff114fbc759972d270c27cb51dbd0/expr.png\" style=\"display:inline;vertical-align:middle;\" /></a><br>"
      ],
      "text/plain": [
       "exampleExpr: c = (a + b)"
      ]
     },
     "execution_count": 30,
     "metadata": {},
     "output_type": "execute_result"
    }
   ],
   "source": [
    "exampleExpr = Equals(c, Add(a, b))"
   ]
  },
  {
   "cell_type": "code",
   "execution_count": 31,
   "metadata": {},
   "outputs": [
    {
     "data": {
      "text/plain": [
       "proveit.logic.equality.equals.Equals"
      ]
     },
     "execution_count": 31,
     "metadata": {},
     "output_type": "execute_result"
    }
   ],
   "source": [
    "type(exampleExpr)"
   ]
  },
  {
   "cell_type": "code",
   "execution_count": 32,
   "metadata": {},
   "outputs": [
    {
     "name": "stdout",
     "output_type": "stream",
     "text": [
      "operation.substituted.exprMap =  {a: d}\n",
      "operation.substituted.exprMap =  {a: d}\n",
      "operation.substituted.exprMap =  {x: c, y: d + b}\n",
      "operation.substituted.exprMap =  {x: c, y: d + b}\n",
      "operation.substituted.exprMap =  {A: c = (d + b)}\n",
      "operation.substituted.exprMap =  {A: c = (d + b)}\n",
      "operation.substituted.exprMap =  {A: c = (d + b)}\n"
     ]
    },
    {
     "data": {
      "text/html": [
       "<a class=\"ProveItLink\" href=\"__pv_it/9aece9cf999c59dad268c1ae6c59ca180fca4c550/expr.ipynb\"><img src=\"__pv_it/9aece9cf999c59dad268c1ae6c59ca180fca4c550/expr.png\" style=\"display:inline;vertical-align:middle;\" /></a>"
      ],
      "text/plain": [
       "c = (d + b)"
      ]
     },
     "execution_count": 32,
     "metadata": {},
     "output_type": "execute_result"
    }
   ],
   "source": [
    "exampleExpr.substituted({a:d})"
   ]
  },
  {
   "cell_type": "markdown",
   "metadata": {},
   "source": [
    "A quick look at EXISTS"
   ]
  },
  {
   "cell_type": "code",
   "execution_count": 73,
   "metadata": {},
   "outputs": [
    {
     "name": "stdout",
     "output_type": "stream",
     "text": [
      "operation.substituted.exprMap =  {}\n",
      "operation.substituted.exprMap =  {}\n"
     ]
    },
    {
     "data": {
      "text/html": [
       "<strong id=\"existsExample\">existsExample:</strong> <a class=\"ProveItLink\" href=\"__pv_it/a1f3631d2ad039c6792c8dec205bd38686ea45240/expr.ipynb\"><img src=\"__pv_it/a1f3631d2ad039c6792c8dec205bd38686ea45240/expr.png\" style=\"display:inline;vertical-align:middle;\" /></a><br>"
      ],
      "text/plain": [
       "existsExample: exists_{x in Integers} P(x)"
      ]
     },
     "execution_count": 73,
     "metadata": {},
     "output_type": "execute_result"
    }
   ],
   "source": [
    "existsExample = Exists(x, Px, domain=Integers)"
   ]
  },
  {
   "cell_type": "code",
   "execution_count": 74,
   "metadata": {},
   "outputs": [
    {
     "name": "stdout",
     "output_type": "stream",
     "text": [
      "operation.substituted.exprMap =  {}\n",
      "operation.substituted.exprMap =  {}\n"
     ]
    },
    {
     "data": {
      "text/html": [
       "<strong id=\"forallExample\">forallExample:</strong> <a class=\"ProveItLink\" href=\"__pv_it/aca39d44f4521d2e44209686ac66e62d97d4c3390/expr.ipynb\"><img src=\"__pv_it/aca39d44f4521d2e44209686ac66e62d97d4c3390/expr.png\" style=\"display:inline;vertical-align:middle;\" /></a><br>"
      ],
      "text/plain": [
       "forallExample: forall_{x in Integers} P(x)"
      ]
     },
     "execution_count": 74,
     "metadata": {},
     "output_type": "execute_result"
    }
   ],
   "source": [
    "forallExample = Forall(x, Px, domain=Integers)"
   ]
  },
  {
   "cell_type": "code",
   "execution_count": 80,
   "metadata": {},
   "outputs": [
    {
     "name": "stdout",
     "output_type": "stream",
     "text": [
      "operation.substituted.exprMap =  {x: a}\n",
      "operation.substituted.exprMap =  {x: a}\n"
     ]
    },
    {
     "data": {
      "text/html": [
       "<table><tr><th>&nbsp;</th><th>step type</th><th>requirements</th><th>statement</th></tr>\n",
       "<tr><td>0</td><td>specialization</td><td>1, 2</td><td><span style=\"font-size:20px;\"><a class=\"ProveItLink\" href=\"__pv_it/154b5215811da87f5316473c266427c95f5cfb470/expr.ipynb\"><img src=\"__pv_it/154b5215811da87f5316473c266427c95f5cfb470/expr.png\" style=\"display:inline;vertical-align:middle;\" /></a> &#x22A2;&nbsp;<a class=\"ProveItLink\" href=\"__pv_it/58941bbcf185460a0949cb757b00efbf2b54044b0/expr.ipynb\"><img src=\"__pv_it/58941bbcf185460a0949cb757b00efbf2b54044b0/expr.png\" style=\"display:inline;vertical-align:middle;\" /></a></span></td></tr>\n",
       "<tr><td>&nbsp;</td><td colspan=4 style=\"text-align:left\"><span style=\"font-size:20px;\"><a class=\"ProveItLink\" href=\"../packages/proveit/__pv_it/530be409e3083890784cf1d7b28c9e67e90af9360/expr.ipynb\"><img src=\"../packages/proveit/__pv_it/530be409e3083890784cf1d7b28c9e67e90af9360/expr.png\" style=\"display:inline;vertical-align:middle;\" /></a> : <a class=\"ProveItLink\" href=\"../packages/proveit/__pv_it/07527342713064c87612d00d8557c53d53d5324a0/expr.ipynb\"><img src=\"../packages/proveit/__pv_it/07527342713064c87612d00d8557c53d53d5324a0/expr.png\" style=\"display:inline;vertical-align:middle;\" /></a></span></td></tr><tr><td>1</td><td>assumption</td><td></td><td><span style=\"font-size:20px;\"><a class=\"ProveItLink\" href=\"__pv_it/030d48b3ae25b7df732733502a9958a7a242f57d0/expr.ipynb\"><img src=\"__pv_it/030d48b3ae25b7df732733502a9958a7a242f57d0/expr.png\" style=\"display:inline;vertical-align:middle;\" /></a> &#x22A2;&nbsp;<a class=\"ProveItLink\" href=\"__pv_it/aca39d44f4521d2e44209686ac66e62d97d4c3390/expr.ipynb\"><img src=\"__pv_it/aca39d44f4521d2e44209686ac66e62d97d4c3390/expr.png\" style=\"display:inline;vertical-align:middle;\" /></a></span></td></tr>\n",
       "<tr><td>2</td><td>assumption</td><td></td><td><span style=\"font-size:20px;\"><a class=\"ProveItLink\" href=\"__pv_it/43906cf4eb0e869c5be725b12c64e98edef90cb40/expr.ipynb\"><img src=\"__pv_it/43906cf4eb0e869c5be725b12c64e98edef90cb40/expr.png\" style=\"display:inline;vertical-align:middle;\" /></a> &#x22A2;&nbsp;<a class=\"ProveItLink\" href=\"__pv_it/b12b8f9f2444f20104744de832d99401b2367a1e0/expr.ipynb\"><img src=\"__pv_it/b12b8f9f2444f20104744de832d99401b2367a1e0/expr.png\" style=\"display:inline;vertical-align:middle;\" /></a></span></td></tr>\n",
       "</table>"
      ],
      "text/plain": [
       "\tstep type\trequirements\tstatement\n",
       "0\tspecialization\t1, 2\t{a in Integers , forall_{x in Integers} P(x)} |- P(a)\n",
       "\tx : a\n",
       "1\tassumption\t\t{forall_{x in Integers} P(x)} |- forall_{x in Integers} P(x)\n",
       "2\tassumption\t\t{a in Integers} |- a in Integers"
      ]
     },
     "execution_count": 80,
     "metadata": {},
     "output_type": "execute_result"
    }
   ],
   "source": [
    "forallExample.specialize({x:a}, assumptions={forallExample, InSet(a, Integers)}).proof()"
   ]
  },
  {
   "cell_type": "code",
   "execution_count": 82,
   "metadata": {},
   "outputs": [
    {
     "ename": "NameError",
     "evalue": "name 'varIter' is not defined",
     "output_type": "error",
     "traceback": [
      "\u001b[0;31m---------------------------------------------------------------------------\u001b[0m",
      "\u001b[0;31mNameError\u001b[0m                                 Traceback (most recent call last)",
      "\u001b[0;32m<ipython-input-82-2504c22836df>\u001b[0m in \u001b[0;36m<module>\u001b[0;34m\u001b[0m\n\u001b[0;32m----> 1\u001b[0;31m \u001b[0mEquals\u001b[0m\u001b[0;34m(\u001b[0m\u001b[0mvarIter\u001b[0m\u001b[0;34m(\u001b[0m\u001b[0mx\u001b[0m\u001b[0;34m,\u001b[0m \u001b[0mone\u001b[0m\u001b[0;34m,\u001b[0m \u001b[0mn\u001b[0m\u001b[0;34m)\u001b[0m\u001b[0;34m,\u001b[0m \u001b[0mb\u001b[0m\u001b[0;34m)\u001b[0m\u001b[0;34m\u001b[0m\u001b[0;34m\u001b[0m\u001b[0m\n\u001b[0m",
      "\u001b[0;31mNameError\u001b[0m: name 'varIter' is not defined"
     ]
    }
   ],
   "source": [
    "Equals(varIter(x, one, n), b)"
   ]
  },
  {
   "cell_type": "markdown",
   "metadata": {},
   "source": [
    "## Simultaneous relabeling\n",
    "\n",
    "Relabeling will occur simultaneously in a consistent manner.  For example, we can switch labels."
   ]
  },
  {
   "cell_type": "code",
   "execution_count": 33,
   "metadata": {},
   "outputs": [
    {
     "name": "stdout",
     "output_type": "stream",
     "text": [
      "operation.substituted.exprMap =  {}\n",
      "operation.substituted.exprMap =  {}\n",
      "operation.substituted.exprMap =  {}\n"
     ]
    },
    {
     "data": {
      "text/html": [
       "<span style=\"font-size:20px;\"> &#x22A2;&nbsp;<a class=\"ProveItLink\" href=\"__pv_it/adbd90f22d46b6ff95dc06d0293af1f441ebce2a0/expr.ipynb\"><img src=\"__pv_it/adbd90f22d46b6ff95dc06d0293af1f441ebce2a0/expr.png\" style=\"display:inline;vertical-align:middle;\" /></a></span>"
      ],
      "text/plain": [
       "|- B => ((B => A) => A)"
      ]
     },
     "execution_count": 33,
     "metadata": {},
     "output_type": "execute_result"
    }
   ],
   "source": [
    "explicit_B_from_A.relabel({A:B, B:A})"
   ]
  },
  {
   "cell_type": "markdown",
   "metadata": {},
   "source": [
    "Let us try a case with three labels that we will cycle."
   ]
  },
  {
   "cell_type": "code",
   "execution_count": 34,
   "metadata": {},
   "outputs": [
    {
     "data": {
      "text/html": [
       "<strong id=\"nestedImpl\">nestedImpl:</strong> <a class=\"ProveItLink\" href=\"__pv_it/9488ee792e0b5d7105f5afbdb46e950ac1fc8c330/expr.ipynb\"><img src=\"__pv_it/9488ee792e0b5d7105f5afbdb46e950ac1fc8c330/expr.png\" style=\"display:inline;vertical-align:middle;\" /></a><br>"
      ],
      "text/plain": [
       "nestedImpl: A => (B => C)"
      ]
     },
     "execution_count": 34,
     "metadata": {},
     "output_type": "execute_result"
    }
   ],
   "source": [
    "nestedImpl = Implies(A, Implies(B, C))"
   ]
  },
  {
   "cell_type": "code",
   "execution_count": 35,
   "metadata": {},
   "outputs": [
    {
     "data": {
      "text/html": [
       "<strong id=\"CfromNestedImpl\">CfromNestedImpl:</strong> <span style=\"font-size:20px;\"><a class=\"ProveItLink\" href=\"__pv_it/6ead5107cfaaf8790db35e84ec4393a9b1cd356e0/expr.ipynb\"><img src=\"__pv_it/6ead5107cfaaf8790db35e84ec4393a9b1cd356e0/expr.png\" style=\"display:inline;vertical-align:middle;\" /></a> &#x22A2;&nbsp;<a class=\"ProveItLink\" href=\"../packages/proveit/__pv_it/985a1bdf1540838275dec15f4ad6de261cca93ce0/expr.ipynb\"><img src=\"../packages/proveit/__pv_it/985a1bdf1540838275dec15f4ad6de261cca93ce0/expr.png\" style=\"display:inline;vertical-align:middle;\" /></a></span><br>"
      ],
      "text/plain": [
       "CfromNestedImpl: {A => (B => C) , A , B} |- C"
      ]
     },
     "execution_count": 35,
     "metadata": {},
     "output_type": "execute_result"
    }
   ],
   "source": [
    "CfromNestedImpl = nestedImpl.deriveConsequent([nestedImpl, A]).deriveConsequent([nestedImpl, A, B])"
   ]
  },
  {
   "cell_type": "code",
   "execution_count": 36,
   "metadata": {},
   "outputs": [
    {
     "name": "stdout",
     "output_type": "stream",
     "text": [
      "operation.substituted.exprMap =  {x: TRUE => TRUE, y: TRUE}\n",
      "operation.substituted.exprMap =  {x: TRUE => TRUE, y: TRUE}\n",
      "operation.substituted.exprMap =  {A: (TRUE => TRUE) = TRUE}\n",
      "operation.substituted.exprMap =  {A: (TRUE => TRUE) = TRUE}\n",
      "operation.substituted.exprMap =  {A: (TRUE => TRUE) = TRUE}\n",
      "operation.substituted.exprMap =  {x: TRUE => TRUE, y: TRUE}\n",
      "operation.substituted.exprMap =  {x: TRUE => TRUE, y: TRUE}\n",
      "operation.substituted.exprMap =  {x: TRUE => TRUE, y: TRUE}\n",
      "operation.substituted.exprMap =  {x: TRUE => TRUE, y: TRUE}\n",
      "operation.substituted.exprMap =  {x: TRUE, y: TRUE => TRUE}\n",
      "operation.substituted.exprMap =  {x: TRUE, y: TRUE => TRUE}\n",
      "operation.substituted.exprMap =  {A: TRUE = (TRUE => TRUE)}\n",
      "operation.substituted.exprMap =  {A: TRUE = (TRUE => TRUE)}\n",
      "operation.substituted.exprMap =  {A: TRUE = (TRUE => TRUE)}\n",
      "operation.substituted.exprMap =  {x: TRUE, y: TRUE => TRUE}\n",
      "operation.substituted.exprMap =  {x: TRUE, y: TRUE => TRUE}\n",
      "operation.substituted.exprMap =  {x: TRUE, y: TRUE => TRUE}\n",
      "operation.substituted.exprMap =  {x: TRUE, y: TRUE => TRUE}\n",
      "operation.substituted.exprMap =  {x: TRUE => TRUE, y: TRUE}\n",
      "operation.substituted.exprMap =  {x: TRUE => TRUE, y: TRUE}\n",
      "operation.substituted.exprMap =  {A: TRUE => TRUE}\n",
      "operation.substituted.exprMap =  {x: TRUE => TRUE, y: TRUE}\n",
      "operation.substituted.exprMap =  {x: TRUE => TRUE, y: TRUE}\n",
      "operation.substituted.exprMap =  {x: FALSE => TRUE, y: TRUE}\n",
      "operation.substituted.exprMap =  {x: FALSE => TRUE, y: TRUE}\n",
      "operation.substituted.exprMap =  {A: (FALSE => TRUE) = TRUE}\n",
      "operation.substituted.exprMap =  {A: (FALSE => TRUE) = TRUE}\n",
      "operation.substituted.exprMap =  {A: (FALSE => TRUE) = TRUE}\n",
      "operation.substituted.exprMap =  {x: FALSE => TRUE, y: TRUE}\n",
      "operation.substituted.exprMap =  {x: FALSE => TRUE, y: TRUE}\n",
      "operation.substituted.exprMap =  {x: FALSE => TRUE, y: TRUE}\n",
      "operation.substituted.exprMap =  {x: FALSE => TRUE, y: TRUE}\n",
      "operation.substituted.exprMap =  {x: TRUE, y: FALSE => TRUE}\n",
      "operation.substituted.exprMap =  {x: TRUE, y: FALSE => TRUE}\n",
      "operation.substituted.exprMap =  {A: TRUE = (FALSE => TRUE)}\n",
      "operation.substituted.exprMap =  {A: TRUE = (FALSE => TRUE)}\n",
      "operation.substituted.exprMap =  {A: TRUE = (FALSE => TRUE)}\n",
      "operation.substituted.exprMap =  {x: TRUE, y: FALSE => TRUE}\n",
      "operation.substituted.exprMap =  {x: TRUE, y: FALSE => TRUE}\n",
      "operation.substituted.exprMap =  {x: TRUE, y: FALSE => TRUE}\n",
      "operation.substituted.exprMap =  {x: TRUE, y: FALSE => TRUE}\n",
      "operation.substituted.exprMap =  {x: FALSE => TRUE, y: TRUE}\n",
      "operation.substituted.exprMap =  {x: FALSE => TRUE, y: TRUE}\n",
      "operation.substituted.exprMap =  {A: FALSE => TRUE}\n",
      "operation.substituted.exprMap =  {x: FALSE => TRUE, y: TRUE}\n",
      "operation.substituted.exprMap =  {x: FALSE => TRUE, y: TRUE}\n",
      "operation.substituted.exprMap =  {x: FALSE => FALSE, y: TRUE}\n",
      "operation.substituted.exprMap =  {x: FALSE => FALSE, y: TRUE}\n",
      "operation.substituted.exprMap =  {A: (FALSE => FALSE) = TRUE}\n",
      "operation.substituted.exprMap =  {A: (FALSE => FALSE) = TRUE}\n",
      "operation.substituted.exprMap =  {A: (FALSE => FALSE) = TRUE}\n",
      "operation.substituted.exprMap =  {x: FALSE => FALSE, y: TRUE}\n",
      "operation.substituted.exprMap =  {x: FALSE => FALSE, y: TRUE}\n",
      "operation.substituted.exprMap =  {x: FALSE => FALSE, y: TRUE}\n",
      "operation.substituted.exprMap =  {x: FALSE => FALSE, y: TRUE}\n",
      "operation.substituted.exprMap =  {x: TRUE, y: FALSE => FALSE}\n",
      "operation.substituted.exprMap =  {x: TRUE, y: FALSE => FALSE}\n",
      "operation.substituted.exprMap =  {A: TRUE = (FALSE => FALSE)}\n",
      "operation.substituted.exprMap =  {A: TRUE = (FALSE => FALSE)}\n",
      "operation.substituted.exprMap =  {A: TRUE = (FALSE => FALSE)}\n",
      "operation.substituted.exprMap =  {x: TRUE, y: FALSE => FALSE}\n",
      "operation.substituted.exprMap =  {x: TRUE, y: FALSE => FALSE}\n",
      "operation.substituted.exprMap =  {x: TRUE, y: FALSE => FALSE}\n",
      "operation.substituted.exprMap =  {x: TRUE, y: FALSE => FALSE}\n",
      "operation.substituted.exprMap =  {x: FALSE => FALSE, y: TRUE}\n",
      "operation.substituted.exprMap =  {x: FALSE => FALSE, y: TRUE}\n",
      "operation.substituted.exprMap =  {A: FALSE => FALSE}\n",
      "operation.substituted.exprMap =  {x: FALSE => FALSE, y: TRUE}\n",
      "operation.substituted.exprMap =  {x: FALSE => FALSE, y: TRUE}\n",
      "operation.substituted.exprMap =  {x: TRUE => FALSE, y: FALSE}\n",
      "operation.substituted.exprMap =  {x: TRUE => FALSE, y: FALSE}\n",
      "operation.substituted.exprMap =  {A: (TRUE => FALSE) = FALSE}\n",
      "operation.substituted.exprMap =  {A: (TRUE => FALSE) = FALSE}\n",
      "operation.substituted.exprMap =  {A: (TRUE => FALSE) = FALSE}\n",
      "operation.substituted.exprMap =  {x: TRUE => FALSE, y: FALSE}\n",
      "operation.substituted.exprMap =  {x: TRUE => FALSE, y: FALSE}\n",
      "operation.substituted.exprMap =  {x: TRUE => FALSE, y: FALSE}\n",
      "operation.substituted.exprMap =  {x: TRUE => FALSE, y: FALSE}\n",
      "operation.substituted.exprMap =  {x: FALSE, y: TRUE => FALSE}\n",
      "operation.substituted.exprMap =  {x: FALSE, y: TRUE => FALSE}\n",
      "operation.substituted.exprMap =  {A: FALSE = (TRUE => FALSE)}\n",
      "operation.substituted.exprMap =  {A: FALSE = (TRUE => FALSE)}\n",
      "operation.substituted.exprMap =  {A: FALSE = (TRUE => FALSE)}\n",
      "operation.substituted.exprMap =  {x: FALSE, y: TRUE => FALSE}\n",
      "operation.substituted.exprMap =  {x: FALSE, y: TRUE => FALSE}\n",
      "operation.substituted.exprMap =  {x: FALSE, y: TRUE => FALSE}\n",
      "operation.substituted.exprMap =  {x: FALSE, y: TRUE => FALSE}\n",
      "operation.substituted.exprMap =  {x: TRUE => FALSE, y: FALSE}\n",
      "operation.substituted.exprMap =  {x: TRUE => FALSE, y: FALSE}\n",
      "operation.substituted.exprMap =  {A: TRUE => FALSE}\n",
      "operation.substituted.exprMap =  {x: TRUE => FALSE, y: FALSE}\n",
      "operation.substituted.exprMap =  {x: TRUE => FALSE, y: FALSE}\n",
      "operation.substituted.exprMap =  {x: FALSE, y: FALSE}\n",
      "operation.substituted.exprMap =  {x: FALSE, y: FALSE}\n",
      "operation.substituted.exprMap =  {A: FALSE = FALSE}\n",
      "operation.substituted.exprMap =  {A: FALSE = FALSE}\n",
      "operation.substituted.exprMap =  {A: FALSE = FALSE}\n",
      "operation.substituted.exprMap =  {x: FALSE, y: FALSE}\n",
      "operation.substituted.exprMap =  {x: FALSE, y: FALSE}\n",
      "operation.substituted.exprMap =  {f: _x_ -> _x_, x: FALSE, y: FALSE}\n",
      "operation.substituted.exprMap =  {x: FALSE, y: FALSE}\n",
      "operation.substituted.exprMap =  {x: FALSE, y: FALSE}\n",
      "operation.substituted.exprMap =  {x: FALSE, y: FALSE, f: _x_ -> _x_}\n",
      "operation.substituted.exprMap =  {x: FALSE, y: FALSE, f: _x_ -> _x_}\n",
      "operation.substituted.exprMap =  {x: FALSE, y: FALSE, f: _x_ -> _x_}\n",
      "operation.substituted.exprMap =  {x: FALSE, y: FALSE}\n",
      "operation.substituted.exprMap =  {x: FALSE, y: FALSE}\n",
      "operation.substituted.exprMap =  {x: TRUE, y: TRUE}\n",
      "operation.substituted.exprMap =  {x: TRUE, y: TRUE}\n",
      "operation.substituted.exprMap =  {A: TRUE = TRUE}\n",
      "operation.substituted.exprMap =  {A: TRUE = TRUE}\n",
      "operation.substituted.exprMap =  {A: TRUE = TRUE}\n",
      "operation.substituted.exprMap =  {x: TRUE, y: TRUE}\n",
      "operation.substituted.exprMap =  {x: TRUE, y: TRUE}\n",
      "operation.substituted.exprMap =  {A: TRUE}\n",
      "operation.substituted.exprMap =  {A: TRUE, B: FALSE}\n",
      "operation.substituted.exprMap =  {x: TRUE, y: TRUE}\n",
      "operation.substituted.exprMap =  {x: TRUE, y: TRUE}\n",
      "operation.substituted.exprMap =  {x: TRUE, y: TRUE}\n",
      "operation.substituted.exprMap =  {x: TRUE, y: TRUE}\n",
      "operation.substituted.exprMap =  {A: TRUE => FALSE}\n",
      "operation.substituted.exprMap =  {x: TRUE => FALSE, y: FALSE}\n",
      "operation.substituted.exprMap =  {x: TRUE => FALSE, y: FALSE}\n",
      "operation.substituted.exprMap =  {A: TRUE => FALSE}\n",
      "operation.substituted.exprMap =  {A: TRUE => FALSE}\n",
      "operation.substituted.exprMap =  {A: TRUE => FALSE}\n",
      "operation.substituted.exprMap =  {x: TRUE => FALSE, y: FALSE}\n",
      "operation.substituted.exprMap =  {x: TRUE => FALSE, y: FALSE}\n",
      "operation.substituted.exprMap =  {A: TRUE => FALSE}\n",
      "operation.substituted.exprMap =  {A: TRUE => FALSE}\n",
      "operation.substituted.exprMap =  {x: TRUE => FALSE, y: TRUE}\n",
      "operation.substituted.exprMap =  {x: TRUE => FALSE, y: TRUE}\n",
      "operation.substituted.exprMap =  {x: TRUE, y: TRUE => FALSE}\n",
      "operation.substituted.exprMap =  {x: TRUE, y: TRUE => FALSE}\n",
      "operation.substituted.exprMap =  {x: TRUE, y: TRUE => FALSE}\n",
      "operation.substituted.exprMap =  {x: TRUE, y: TRUE => FALSE}\n",
      "operation.substituted.exprMap =  {x: TRUE, y: TRUE => FALSE}\n",
      "operation.substituted.exprMap =  {x: TRUE, y: TRUE => FALSE}\n",
      "operation.substituted.exprMap =  {x: TRUE, y: TRUE => FALSE}\n",
      "operation.substituted.exprMap =  {A: TRUE = (TRUE => FALSE)}\n",
      "operation.substituted.exprMap =  {A: TRUE = (TRUE => FALSE)}\n",
      "operation.substituted.exprMap =  {A: TRUE = (TRUE => FALSE)}\n",
      "operation.substituted.exprMap =  {A: TRUE = (TRUE => FALSE)}\n",
      "operation.substituted.exprMap =  {A: TRUE = (TRUE => FALSE)}\n",
      "operation.substituted.exprMap =  {x: TRUE = (TRUE => FALSE), y: FALSE}\n",
      "operation.substituted.exprMap =  {x: TRUE = (TRUE => FALSE), y: FALSE}\n",
      "operation.substituted.exprMap =  {A: (TRUE = (TRUE => FALSE)) = FALSE}\n",
      "operation.substituted.exprMap =  {A: (TRUE = (TRUE => FALSE)) = FALSE}\n",
      "operation.substituted.exprMap =  {A: (TRUE = (TRUE => FALSE)) = FALSE}\n",
      "operation.substituted.exprMap =  {x: TRUE = (TRUE => FALSE), y: FALSE}\n",
      "operation.substituted.exprMap =  {x: TRUE = (TRUE => FALSE), y: FALSE}\n",
      "operation.substituted.exprMap =  {x: TRUE = (TRUE => FALSE), y: FALSE}\n",
      "operation.substituted.exprMap =  {x: TRUE = (TRUE => FALSE), y: FALSE}\n"
     ]
    },
    {
     "name": "stdout",
     "output_type": "stream",
     "text": [
      "operation.substituted.exprMap =  {x: FALSE, y: TRUE = (TRUE => FALSE)}\n",
      "operation.substituted.exprMap =  {x: FALSE, y: TRUE = (TRUE => FALSE)}\n",
      "operation.substituted.exprMap =  {A: FALSE = (TRUE = (TRUE => FALSE))}\n",
      "operation.substituted.exprMap =  {A: FALSE = (TRUE = (TRUE => FALSE))}\n",
      "operation.substituted.exprMap =  {A: FALSE = (TRUE = (TRUE => FALSE))}\n",
      "operation.substituted.exprMap =  {x: FALSE, y: TRUE = (TRUE => FALSE)}\n",
      "operation.substituted.exprMap =  {x: FALSE, y: TRUE = (TRUE => FALSE)}\n",
      "operation.substituted.exprMap =  {x: FALSE, y: TRUE = (TRUE => FALSE)}\n",
      "operation.substituted.exprMap =  {x: FALSE, y: TRUE = (TRUE => FALSE)}\n",
      "operation.substituted.exprMap =  {x: TRUE = (TRUE => FALSE), y: FALSE}\n",
      "operation.substituted.exprMap =  {x: TRUE = (TRUE => FALSE), y: FALSE}\n",
      "operation.substituted.exprMap =  {A: TRUE = (TRUE => FALSE)}\n",
      "operation.substituted.exprMap =  {x: TRUE = (TRUE => FALSE), y: FALSE}\n",
      "operation.substituted.exprMap =  {x: TRUE = (TRUE => FALSE), y: FALSE}\n",
      "operation.substituted.exprMap =  {x: TRUE => FALSE, y: TRUE}\n",
      "operation.substituted.exprMap =  {x: TRUE => FALSE, y: TRUE}\n",
      "operation.substituted.exprMap =  {A: (TRUE => FALSE) = TRUE}\n",
      "operation.substituted.exprMap =  {A: (TRUE => FALSE) = TRUE}\n",
      "operation.substituted.exprMap =  {A: (TRUE => FALSE) = TRUE}\n",
      "operation.substituted.exprMap =  {A: TRUE => FALSE}\n",
      "operation.substituted.exprMap =  {x: TRUE => FALSE, y: TRUE}\n",
      "operation.substituted.exprMap =  {x: TRUE => FALSE, y: TRUE}\n",
      "operation.substituted.exprMap =  {x: FALSE, y: FALSE}\n",
      "operation.substituted.exprMap =  {x: FALSE, y: FALSE}\n",
      "operation.substituted.exprMap =  {x: FALSE, y: FALSE}\n",
      "operation.substituted.exprMap =  {x: FALSE, y: FALSE}\n",
      "operation.substituted.exprMap =  {f: _x_ -> _x_, x: FALSE, y: FALSE}\n",
      "operation.substituted.exprMap =  {x: FALSE, y: FALSE}\n",
      "operation.substituted.exprMap =  {x: FALSE, y: FALSE}\n",
      "operation.substituted.exprMap =  {x: FALSE, y: FALSE, f: _x_ -> _x_}\n",
      "operation.substituted.exprMap =  {x: FALSE, y: FALSE, f: _x_ -> _x_}\n",
      "operation.substituted.exprMap =  {x: FALSE, y: FALSE, f: _x_ -> _x_}\n",
      "operation.substituted.exprMap =  {x: FALSE, y: FALSE}\n",
      "operation.substituted.exprMap =  {x: FALSE, y: FALSE}\n",
      "operation.substituted.exprMap =  {x: TRUE, y: TRUE}\n",
      "operation.substituted.exprMap =  {x: TRUE, y: TRUE}\n",
      "operation.substituted.exprMap =  {x: TRUE, y: TRUE}\n",
      "operation.substituted.exprMap =  {x: TRUE, y: TRUE}\n",
      "operation.substituted.exprMap =  {A: TRUE}\n",
      "operation.substituted.exprMap =  {A: TRUE, B: FALSE}\n",
      "operation.substituted.exprMap =  {x: TRUE, y: TRUE}\n",
      "operation.substituted.exprMap =  {x: TRUE, y: TRUE}\n",
      "operation.substituted.exprMap =  {x: TRUE, y: TRUE}\n",
      "operation.substituted.exprMap =  {x: TRUE, y: TRUE}\n",
      "operation.substituted.exprMap =  {x: TRUE => FALSE, y: FALSE}\n",
      "operation.substituted.exprMap =  {x: TRUE => FALSE, y: FALSE}\n",
      "operation.substituted.exprMap =  {x: TRUE => FALSE, y: FALSE}\n",
      "operation.substituted.exprMap =  {x: TRUE => FALSE, y: FALSE}\n",
      "operation.substituted.exprMap =  {f: _x_ -> _x_, x: TRUE => FALSE, y: FALSE}\n",
      "operation.substituted.exprMap =  {x: TRUE => FALSE, y: FALSE}\n",
      "operation.substituted.exprMap =  {x: TRUE => FALSE, y: FALSE}\n",
      "operation.substituted.exprMap =  {x: TRUE => FALSE, y: FALSE, f: _x_ -> _x_}\n",
      "operation.substituted.exprMap =  {x: TRUE => FALSE, y: FALSE, f: _x_ -> _x_}\n",
      "operation.substituted.exprMap =  {x: TRUE => FALSE, y: FALSE, f: _x_ -> _x_}\n",
      "operation.substituted.exprMap =  {x: TRUE => FALSE, y: FALSE}\n",
      "operation.substituted.exprMap =  {x: TRUE => FALSE, y: FALSE}\n",
      "operation.substituted.exprMap =  {A: TRUE = (TRUE => FALSE)}\n",
      "operation.substituted.exprMap =  {x: TRUE = (TRUE => FALSE), y: FALSE}\n",
      "operation.substituted.exprMap =  {x: TRUE = (TRUE => FALSE), y: FALSE}\n",
      "operation.substituted.exprMap =  {A: TRUE = (TRUE => FALSE)}\n",
      "operation.substituted.exprMap =  {A: TRUE = (TRUE => FALSE)}\n",
      "operation.substituted.exprMap =  {x: TRUE => FALSE, y: TRUE}\n",
      "operation.substituted.exprMap =  {x: TRUE => FALSE, y: TRUE}\n",
      "operation.substituted.exprMap =  {A: TRUE => FALSE}\n",
      "operation.substituted.exprMap =  {x: TRUE => FALSE, y: TRUE}\n",
      "operation.substituted.exprMap =  {x: TRUE => FALSE, y: TRUE}\n",
      "operation.substituted.exprMap =  {x: FALSE, y: FALSE}\n",
      "operation.substituted.exprMap =  {x: FALSE, y: FALSE}\n",
      "operation.substituted.exprMap =  {x: FALSE, y: FALSE}\n",
      "operation.substituted.exprMap =  {x: FALSE, y: FALSE}\n",
      "operation.substituted.exprMap =  {f: _x_ -> _x_, x: FALSE, y: FALSE}\n",
      "operation.substituted.exprMap =  {x: FALSE, y: FALSE}\n",
      "operation.substituted.exprMap =  {x: FALSE, y: FALSE}\n",
      "operation.substituted.exprMap =  {x: FALSE, y: FALSE, f: _x_ -> _x_}\n",
      "operation.substituted.exprMap =  {x: FALSE, y: FALSE, f: _x_ -> _x_}\n",
      "operation.substituted.exprMap =  {x: FALSE, y: FALSE, f: _x_ -> _x_}\n",
      "operation.substituted.exprMap =  {x: FALSE, y: FALSE}\n",
      "operation.substituted.exprMap =  {x: FALSE, y: FALSE}\n",
      "operation.substituted.exprMap =  {x: TRUE, y: TRUE}\n",
      "operation.substituted.exprMap =  {x: TRUE, y: TRUE}\n",
      "operation.substituted.exprMap =  {x: TRUE, y: TRUE}\n",
      "operation.substituted.exprMap =  {x: TRUE, y: TRUE}\n",
      "operation.substituted.exprMap =  {A: TRUE}\n",
      "operation.substituted.exprMap =  {A: TRUE, B: FALSE}\n",
      "operation.substituted.exprMap =  {x: TRUE, y: TRUE}\n",
      "operation.substituted.exprMap =  {x: TRUE, y: TRUE}\n",
      "operation.substituted.exprMap =  {x: TRUE, y: TRUE}\n",
      "operation.substituted.exprMap =  {x: TRUE, y: TRUE}\n",
      "operation.substituted.exprMap =  {x: TRUE => FALSE, y: FALSE}\n",
      "operation.substituted.exprMap =  {x: TRUE => FALSE, y: FALSE}\n",
      "operation.substituted.exprMap =  {f: _x_ -> _x_, x: TRUE => FALSE, y: FALSE}\n",
      "operation.substituted.exprMap =  {x: TRUE => FALSE, y: FALSE}\n",
      "operation.substituted.exprMap =  {x: TRUE => FALSE, y: FALSE}\n",
      "operation.substituted.exprMap =  {x: TRUE => FALSE, y: FALSE, f: _x_ -> _x_}\n",
      "operation.substituted.exprMap =  {x: TRUE => FALSE, y: FALSE, f: _x_ -> _x_}\n",
      "operation.substituted.exprMap =  {x: TRUE => FALSE, y: FALSE, f: _x_ -> _x_}\n",
      "operation.substituted.exprMap =  {x: TRUE => FALSE, y: FALSE}\n",
      "operation.substituted.exprMap =  {x: TRUE => FALSE, y: FALSE}\n",
      "operation.substituted.exprMap =  {A: [not](TRUE = (TRUE => FALSE))}\n",
      "operation.substituted.exprMap =  {A: TRUE = (TRUE => FALSE)}\n",
      "operation.substituted.exprMap =  {A: TRUE = (TRUE => FALSE)}\n",
      "operation.substituted.exprMap =  {A: TRUE = (TRUE => FALSE)}\n",
      "operation.substituted.exprMap =  {A: [not](TRUE = (TRUE => FALSE))}\n",
      "operation.substituted.exprMap =  {A: [not](TRUE = (TRUE => FALSE))}\n",
      "operation.substituted.exprMap =  {A: [not](TRUE = (TRUE => FALSE))}\n",
      "operation.substituted.exprMap =  {x: TRUE, y: TRUE => FALSE}\n",
      "operation.substituted.exprMap =  {x: TRUE, y: TRUE => FALSE}\n",
      "operation.substituted.exprMap =  {x: TRUE, y: TRUE => FALSE}\n",
      "operation.substituted.exprMap =  {x: TRUE, y: TRUE => FALSE}\n",
      "operation.substituted.exprMap =  {x: TRUE, y: TRUE => FALSE}\n",
      "operation.substituted.exprMap =  {x: TRUE => FALSE, y: TRUE}\n",
      "operation.substituted.exprMap =  {x: TRUE => FALSE, y: TRUE}\n",
      "operation.substituted.exprMap =  {x: TRUE => FALSE, y: TRUE}\n",
      "operation.substituted.exprMap =  {x: TRUE => FALSE, y: TRUE}\n",
      "operation.substituted.exprMap =  {x: TRUE => FALSE, y: TRUE}\n",
      "operation.substituted.exprMap =  {A: (TRUE => FALSE) = TRUE}\n",
      "operation.substituted.exprMap =  {A: (TRUE => FALSE) = TRUE}\n",
      "operation.substituted.exprMap =  {x: (TRUE => FALSE) = TRUE, y: FALSE}\n",
      "operation.substituted.exprMap =  {x: (TRUE => FALSE) = TRUE, y: FALSE}\n",
      "operation.substituted.exprMap =  {A: ((TRUE => FALSE) = TRUE) = FALSE}\n",
      "operation.substituted.exprMap =  {A: ((TRUE => FALSE) = TRUE) = FALSE}\n",
      "operation.substituted.exprMap =  {A: ((TRUE => FALSE) = TRUE) = FALSE}\n",
      "operation.substituted.exprMap =  {x: (TRUE => FALSE) = TRUE, y: FALSE}\n",
      "operation.substituted.exprMap =  {x: (TRUE => FALSE) = TRUE, y: FALSE}\n",
      "operation.substituted.exprMap =  {x: (TRUE => FALSE) = TRUE, y: FALSE}\n",
      "operation.substituted.exprMap =  {x: (TRUE => FALSE) = TRUE, y: FALSE}\n",
      "operation.substituted.exprMap =  {x: FALSE, y: (TRUE => FALSE) = TRUE}\n",
      "operation.substituted.exprMap =  {x: FALSE, y: (TRUE => FALSE) = TRUE}\n",
      "operation.substituted.exprMap =  {A: FALSE = ((TRUE => FALSE) = TRUE)}\n",
      "operation.substituted.exprMap =  {A: FALSE = ((TRUE => FALSE) = TRUE)}\n",
      "operation.substituted.exprMap =  {A: FALSE = ((TRUE => FALSE) = TRUE)}\n",
      "operation.substituted.exprMap =  {x: FALSE, y: (TRUE => FALSE) = TRUE}\n",
      "operation.substituted.exprMap =  {x: FALSE, y: (TRUE => FALSE) = TRUE}\n",
      "operation.substituted.exprMap =  {x: FALSE, y: (TRUE => FALSE) = TRUE}\n",
      "operation.substituted.exprMap =  {x: FALSE, y: (TRUE => FALSE) = TRUE}\n",
      "operation.substituted.exprMap =  {x: (TRUE => FALSE) = TRUE, y: FALSE}\n",
      "operation.substituted.exprMap =  {x: (TRUE => FALSE) = TRUE, y: FALSE}\n",
      "operation.substituted.exprMap =  {A: (TRUE => FALSE) = TRUE}\n",
      "operation.substituted.exprMap =  {x: (TRUE => FALSE) = TRUE, y: FALSE}\n",
      "operation.substituted.exprMap =  {x: (TRUE => FALSE) = TRUE, y: FALSE}\n",
      "operation.substituted.exprMap =  {A: TRUE => FALSE}\n",
      "operation.substituted.exprMap =  {x: TRUE => FALSE, y: TRUE}\n",
      "operation.substituted.exprMap =  {x: TRUE => FALSE, y: TRUE}\n"
     ]
    },
    {
     "name": "stdout",
     "output_type": "stream",
     "text": [
      "operation.substituted.exprMap =  {x: FALSE, y: FALSE}\n",
      "operation.substituted.exprMap =  {x: FALSE, y: FALSE}\n",
      "operation.substituted.exprMap =  {x: FALSE, y: FALSE}\n",
      "operation.substituted.exprMap =  {x: FALSE, y: FALSE}\n",
      "operation.substituted.exprMap =  {f: _x_ -> _x_, x: FALSE, y: FALSE}\n",
      "operation.substituted.exprMap =  {x: FALSE, y: FALSE}\n",
      "operation.substituted.exprMap =  {x: FALSE, y: FALSE}\n",
      "operation.substituted.exprMap =  {x: FALSE, y: FALSE, f: _x_ -> _x_}\n",
      "operation.substituted.exprMap =  {x: FALSE, y: FALSE, f: _x_ -> _x_}\n",
      "operation.substituted.exprMap =  {x: FALSE, y: FALSE, f: _x_ -> _x_}\n",
      "operation.substituted.exprMap =  {x: FALSE, y: FALSE}\n",
      "operation.substituted.exprMap =  {x: FALSE, y: FALSE}\n",
      "operation.substituted.exprMap =  {x: TRUE, y: TRUE}\n",
      "operation.substituted.exprMap =  {x: TRUE, y: TRUE}\n",
      "operation.substituted.exprMap =  {x: TRUE, y: TRUE}\n",
      "operation.substituted.exprMap =  {x: TRUE, y: TRUE}\n",
      "operation.substituted.exprMap =  {A: TRUE}\n",
      "operation.substituted.exprMap =  {A: TRUE, B: FALSE}\n",
      "operation.substituted.exprMap =  {x: TRUE, y: TRUE}\n",
      "operation.substituted.exprMap =  {x: TRUE, y: TRUE}\n",
      "operation.substituted.exprMap =  {x: TRUE, y: TRUE}\n",
      "operation.substituted.exprMap =  {x: TRUE, y: TRUE}\n",
      "operation.substituted.exprMap =  {x: TRUE => FALSE, y: FALSE}\n",
      "operation.substituted.exprMap =  {x: TRUE => FALSE, y: FALSE}\n",
      "operation.substituted.exprMap =  {f: _x_ -> _x_, x: TRUE => FALSE, y: FALSE}\n",
      "operation.substituted.exprMap =  {x: TRUE => FALSE, y: FALSE}\n",
      "operation.substituted.exprMap =  {x: TRUE => FALSE, y: FALSE}\n",
      "operation.substituted.exprMap =  {x: TRUE => FALSE, y: FALSE, f: _x_ -> _x_}\n",
      "operation.substituted.exprMap =  {x: TRUE => FALSE, y: FALSE, f: _x_ -> _x_}\n",
      "operation.substituted.exprMap =  {x: TRUE => FALSE, y: FALSE, f: _x_ -> _x_}\n",
      "operation.substituted.exprMap =  {x: TRUE => FALSE, y: FALSE}\n",
      "operation.substituted.exprMap =  {x: TRUE => FALSE, y: FALSE}\n",
      "operation.substituted.exprMap =  {A: (TRUE => FALSE) = TRUE}\n",
      "operation.substituted.exprMap =  {x: (TRUE => FALSE) = TRUE, y: FALSE}\n",
      "operation.substituted.exprMap =  {x: (TRUE => FALSE) = TRUE, y: FALSE}\n",
      "operation.substituted.exprMap =  {A: (TRUE => FALSE) = TRUE}\n",
      "operation.substituted.exprMap =  {A: (TRUE => FALSE) = TRUE}\n",
      "operation.substituted.exprMap =  {A: TRUE => FALSE}\n",
      "operation.substituted.exprMap =  {x: TRUE => FALSE, y: TRUE}\n",
      "operation.substituted.exprMap =  {x: TRUE => FALSE, y: TRUE}\n",
      "operation.substituted.exprMap =  {x: FALSE, y: FALSE}\n",
      "operation.substituted.exprMap =  {x: FALSE, y: FALSE}\n",
      "operation.substituted.exprMap =  {x: FALSE, y: FALSE}\n",
      "operation.substituted.exprMap =  {x: FALSE, y: FALSE}\n",
      "operation.substituted.exprMap =  {f: _x_ -> _x_, x: FALSE, y: FALSE}\n",
      "operation.substituted.exprMap =  {x: FALSE, y: FALSE}\n",
      "operation.substituted.exprMap =  {x: FALSE, y: FALSE}\n",
      "operation.substituted.exprMap =  {x: FALSE, y: FALSE, f: _x_ -> _x_}\n",
      "operation.substituted.exprMap =  {x: FALSE, y: FALSE, f: _x_ -> _x_}\n",
      "operation.substituted.exprMap =  {x: FALSE, y: FALSE, f: _x_ -> _x_}\n",
      "operation.substituted.exprMap =  {x: FALSE, y: FALSE}\n",
      "operation.substituted.exprMap =  {x: FALSE, y: FALSE}\n",
      "operation.substituted.exprMap =  {x: TRUE, y: TRUE}\n",
      "operation.substituted.exprMap =  {x: TRUE, y: TRUE}\n",
      "operation.substituted.exprMap =  {x: TRUE, y: TRUE}\n",
      "operation.substituted.exprMap =  {x: TRUE, y: TRUE}\n",
      "operation.substituted.exprMap =  {A: TRUE}\n",
      "operation.substituted.exprMap =  {A: TRUE, B: FALSE}\n",
      "operation.substituted.exprMap =  {x: TRUE, y: TRUE}\n",
      "operation.substituted.exprMap =  {x: TRUE, y: TRUE}\n",
      "operation.substituted.exprMap =  {x: TRUE, y: TRUE}\n",
      "operation.substituted.exprMap =  {x: TRUE, y: TRUE}\n",
      "operation.substituted.exprMap =  {x: TRUE => FALSE, y: FALSE}\n",
      "operation.substituted.exprMap =  {x: TRUE => FALSE, y: FALSE}\n",
      "operation.substituted.exprMap =  {f: _x_ -> _x_, x: TRUE => FALSE, y: FALSE}\n",
      "operation.substituted.exprMap =  {x: TRUE => FALSE, y: FALSE}\n",
      "operation.substituted.exprMap =  {x: TRUE => FALSE, y: FALSE}\n",
      "operation.substituted.exprMap =  {x: TRUE => FALSE, y: FALSE, f: _x_ -> _x_}\n",
      "operation.substituted.exprMap =  {x: TRUE => FALSE, y: FALSE, f: _x_ -> _x_}\n",
      "operation.substituted.exprMap =  {x: TRUE => FALSE, y: FALSE, f: _x_ -> _x_}\n",
      "operation.substituted.exprMap =  {x: TRUE => FALSE, y: FALSE}\n",
      "operation.substituted.exprMap =  {x: TRUE => FALSE, y: FALSE}\n",
      "operation.substituted.exprMap =  {A: [not]((TRUE => FALSE) = TRUE)}\n",
      "operation.substituted.exprMap =  {A: (TRUE => FALSE) = TRUE}\n",
      "operation.substituted.exprMap =  {A: (TRUE => FALSE) = TRUE}\n",
      "operation.substituted.exprMap =  {A: (TRUE => FALSE) = TRUE}\n",
      "operation.substituted.exprMap =  {A: [not]((TRUE => FALSE) = TRUE)}\n",
      "operation.substituted.exprMap =  {A: [not]((TRUE => FALSE) = TRUE)}\n",
      "operation.substituted.exprMap =  {A: [not]((TRUE => FALSE) = TRUE)}\n",
      "operation.substituted.exprMap =  {x: TRUE => FALSE, y: TRUE}\n",
      "operation.substituted.exprMap =  {x: TRUE => FALSE, y: TRUE}\n",
      "operation.substituted.exprMap =  {x: TRUE => FALSE, y: TRUE}\n",
      "operation.substituted.exprMap =  {x: TRUE => FALSE, y: TRUE}\n",
      "operation.substituted.exprMap =  {x: TRUE => FALSE, y: TRUE}\n",
      "operation.substituted.exprMap =  {A: TRUE => FALSE}\n",
      "operation.substituted.exprMap =  {x: FALSE, y: FALSE}\n",
      "operation.substituted.exprMap =  {x: FALSE, y: FALSE}\n",
      "operation.substituted.exprMap =  {x: FALSE, y: FALSE}\n",
      "operation.substituted.exprMap =  {x: FALSE, y: FALSE}\n",
      "operation.substituted.exprMap =  {f: _x_ -> _x_, x: FALSE, y: FALSE}\n",
      "operation.substituted.exprMap =  {x: FALSE, y: FALSE}\n",
      "operation.substituted.exprMap =  {x: FALSE, y: FALSE}\n",
      "operation.substituted.exprMap =  {x: FALSE, y: FALSE, f: _x_ -> _x_}\n",
      "operation.substituted.exprMap =  {x: FALSE, y: FALSE, f: _x_ -> _x_}\n",
      "operation.substituted.exprMap =  {x: FALSE, y: FALSE, f: _x_ -> _x_}\n",
      "operation.substituted.exprMap =  {x: FALSE, y: FALSE}\n",
      "operation.substituted.exprMap =  {x: FALSE, y: FALSE}\n",
      "operation.substituted.exprMap =  {x: TRUE, y: TRUE}\n",
      "operation.substituted.exprMap =  {x: TRUE, y: TRUE}\n",
      "operation.substituted.exprMap =  {x: TRUE, y: TRUE}\n",
      "operation.substituted.exprMap =  {x: TRUE, y: TRUE}\n",
      "operation.substituted.exprMap =  {A: TRUE}\n",
      "operation.substituted.exprMap =  {A: TRUE, B: FALSE}\n",
      "operation.substituted.exprMap =  {x: TRUE, y: TRUE}\n",
      "operation.substituted.exprMap =  {x: TRUE, y: TRUE}\n",
      "operation.substituted.exprMap =  {x: TRUE, y: TRUE}\n",
      "operation.substituted.exprMap =  {x: TRUE, y: TRUE}\n",
      "operation.substituted.exprMap =  {A: [not](TRUE => FALSE)}\n",
      "operation.substituted.exprMap =  {A: TRUE => FALSE}\n",
      "operation.substituted.exprMap =  {A: TRUE => FALSE}\n",
      "operation.substituted.exprMap =  {A: TRUE => FALSE}\n",
      "operation.substituted.exprMap =  {A: TRUE => FALSE}\n",
      "operation.substituted.exprMap =  {A: TRUE => FALSE}\n",
      "operation.substituted.exprMap =  {A: TRUE => FALSE}\n",
      "operation.substituted.exprMap =  {A: [not](TRUE => FALSE)}\n",
      "operation.substituted.exprMap =  {A: [not](TRUE => FALSE)}\n",
      "operation.substituted.exprMap =  {A: [not](TRUE => FALSE)}\n",
      "operation.substituted.exprMap =  {}\n",
      "operation.substituted.exprMap =  {}\n",
      "operation.substituted.exprMap =  {}\n",
      "operation.substituted.exprMap =  {}\n",
      "operation.substituted.exprMap =  {}\n",
      "operation.substituted.exprMap =  {}\n",
      "operation.substituted.exprMap =  {}\n",
      "operation.substituted.exprMap =  {}\n",
      "operation.substituted.exprMap =  {}\n",
      "operation.substituted.exprMap =  {}\n",
      "operation.substituted.exprMap =  {}\n",
      "operation.substituted.exprMap =  {}\n",
      "operation.substituted.exprMap =  {}\n",
      "operation.substituted.exprMap =  {}\n",
      "operation.substituted.exprMap =  {}\n",
      "operation.substituted.exprMap =  {}\n",
      "operation.substituted.exprMap =  {}\n",
      "operation.substituted.exprMap =  {}\n",
      "operation.substituted.exprMap =  {A: FALSE, B: TRUE}\n",
      "operation.substituted.exprMap =  {A: FALSE, B: TRUE}\n",
      "operation.substituted.exprMap =  {B: TRUE, A: FALSE}\n",
      "operation.substituted.exprMap =  {B: TRUE, A: FALSE}\n",
      "operation.substituted.exprMap =  {A: FALSE <=> TRUE}\n",
      "operation.substituted.exprMap =  {A: FALSE <=> TRUE}\n",
      "operation.substituted.exprMap =  {x: FALSE <=> TRUE, y: FALSE}\n",
      "operation.substituted.exprMap =  {x: FALSE <=> TRUE, y: FALSE}\n",
      "operation.substituted.exprMap =  {A: (FALSE <=> TRUE) = FALSE}\n",
      "operation.substituted.exprMap =  {A: (FALSE <=> TRUE) = FALSE}\n",
      "operation.substituted.exprMap =  {A: (FALSE <=> TRUE) = FALSE}\n",
      "operation.substituted.exprMap =  {x: FALSE <=> TRUE, y: FALSE}\n",
      "operation.substituted.exprMap =  {x: FALSE <=> TRUE, y: FALSE}\n",
      "operation.substituted.exprMap =  {x: FALSE <=> TRUE, y: FALSE}\n",
      "operation.substituted.exprMap =  {x: FALSE <=> TRUE, y: FALSE}\n",
      "operation.substituted.exprMap =  {x: FALSE, y: FALSE <=> TRUE}\n",
      "operation.substituted.exprMap =  {x: FALSE, y: FALSE <=> TRUE}\n",
      "operation.substituted.exprMap =  {A: FALSE = (FALSE <=> TRUE)}\n",
      "operation.substituted.exprMap =  {A: FALSE = (FALSE <=> TRUE)}\n",
      "operation.substituted.exprMap =  {A: FALSE = (FALSE <=> TRUE)}\n",
      "operation.substituted.exprMap =  {x: FALSE, y: FALSE <=> TRUE}\n",
      "operation.substituted.exprMap =  {x: FALSE, y: FALSE <=> TRUE}\n",
      "operation.substituted.exprMap =  {x: FALSE, y: FALSE <=> TRUE}\n",
      "operation.substituted.exprMap =  {x: FALSE, y: FALSE <=> TRUE}\n"
     ]
    },
    {
     "name": "stdout",
     "output_type": "stream",
     "text": [
      "operation.substituted.exprMap =  {x: FALSE <=> TRUE, y: FALSE}\n",
      "operation.substituted.exprMap =  {x: FALSE <=> TRUE, y: FALSE}\n",
      "operation.substituted.exprMap =  {A: FALSE <=> TRUE}\n",
      "operation.substituted.exprMap =  {x: FALSE <=> TRUE, y: FALSE}\n",
      "operation.substituted.exprMap =  {x: FALSE <=> TRUE, y: FALSE}\n",
      "operation.substituted.exprMap =  {x: TRUE <=> TRUE, y: TRUE}\n",
      "operation.substituted.exprMap =  {x: TRUE <=> TRUE, y: TRUE}\n",
      "operation.substituted.exprMap =  {A: (TRUE <=> TRUE) = TRUE}\n",
      "operation.substituted.exprMap =  {A: (TRUE <=> TRUE) = TRUE}\n",
      "operation.substituted.exprMap =  {A: (TRUE <=> TRUE) = TRUE}\n",
      "operation.substituted.exprMap =  {x: TRUE <=> TRUE, y: TRUE}\n",
      "operation.substituted.exprMap =  {x: TRUE <=> TRUE, y: TRUE}\n",
      "operation.substituted.exprMap =  {x: TRUE <=> TRUE, y: TRUE}\n",
      "operation.substituted.exprMap =  {x: TRUE <=> TRUE, y: TRUE}\n",
      "operation.substituted.exprMap =  {x: TRUE, y: TRUE <=> TRUE}\n",
      "operation.substituted.exprMap =  {x: TRUE, y: TRUE <=> TRUE}\n",
      "operation.substituted.exprMap =  {A: TRUE = (TRUE <=> TRUE)}\n",
      "operation.substituted.exprMap =  {A: TRUE = (TRUE <=> TRUE)}\n",
      "operation.substituted.exprMap =  {A: TRUE = (TRUE <=> TRUE)}\n",
      "operation.substituted.exprMap =  {x: TRUE, y: TRUE <=> TRUE}\n",
      "operation.substituted.exprMap =  {x: TRUE, y: TRUE <=> TRUE}\n",
      "operation.substituted.exprMap =  {x: TRUE, y: TRUE <=> TRUE}\n",
      "operation.substituted.exprMap =  {x: TRUE, y: TRUE <=> TRUE}\n",
      "operation.substituted.exprMap =  {x: TRUE <=> TRUE, y: TRUE}\n",
      "operation.substituted.exprMap =  {x: TRUE <=> TRUE, y: TRUE}\n",
      "operation.substituted.exprMap =  {A: TRUE <=> TRUE}\n",
      "operation.substituted.exprMap =  {x: TRUE <=> TRUE, y: TRUE}\n",
      "operation.substituted.exprMap =  {x: TRUE <=> TRUE, y: TRUE}\n",
      "operation.substituted.exprMap =  {}\n",
      "operation.substituted.exprMap =  {}\n",
      "operation.substituted.exprMap =  {}\n",
      "operation.substituted.exprMap =  {}\n",
      "operation.substituted.exprMap =  {}\n",
      "operation.substituted.exprMap =  {}\n",
      "operation.substituted.exprMap =  {}\n",
      "operation.substituted.exprMap =  {}\n",
      "operation.substituted.exprMap =  {}\n",
      "operation.substituted.exprMap =  {}\n",
      "operation.substituted.exprMap =  {A: TRUE, B: TRUE}\n",
      "operation.substituted.exprMap =  {A: TRUE, B: TRUE}\n",
      "operation.substituted.exprMap =  {}\n",
      "operation.substituted.exprMap =  {}\n",
      "operation.substituted.exprMap =  {}\n",
      "operation.substituted.exprMap =  {}\n",
      "operation.substituted.exprMap =  {}\n",
      "operation.substituted.exprMap =  {}\n",
      "operation.substituted.exprMap =  {}\n",
      "operation.substituted.exprMap =  {}\n",
      "operation.substituted.exprMap =  {}\n",
      "operation.substituted.exprMap =  {}\n",
      "operation.substituted.exprMap =  {A: TRUE, B: TRUE}\n",
      "operation.substituted.exprMap =  {A: TRUE, B: TRUE}\n",
      "operation.substituted.exprMap =  {}\n",
      "operation.substituted.exprMap =  {}\n",
      "operation.substituted.exprMap =  {}\n",
      "operation.substituted.exprMap =  {}\n",
      "operation.substituted.exprMap =  {}\n",
      "operation.substituted.exprMap =  {}\n",
      "operation.substituted.exprMap =  {}\n",
      "operation.substituted.exprMap =  {}\n",
      "operation.substituted.exprMap =  {}\n",
      "operation.substituted.exprMap =  {}\n",
      "operation.substituted.exprMap =  {A: TRUE, B: TRUE}\n",
      "operation.substituted.exprMap =  {A: TRUE, B: TRUE}\n",
      "operation.substituted.exprMap =  {x: A, y: B}\n",
      "operation.substituted.exprMap =  {x: A, y: B}\n",
      "operation.substituted.exprMap =  {A: A = B}\n",
      "operation.substituted.exprMap =  {A: A = B}\n",
      "operation.substituted.exprMap =  {A: A = B}\n",
      "operation.substituted.exprMap =  {}\n",
      "operation.substituted.exprMap =  {x: A, y: _x_}\n",
      "operation.substituted.exprMap =  {x: A, y: _x_}\n",
      "operation.substituted.exprMap =  {}\n",
      "operation.substituted.exprMap =  {}\n",
      "operation.substituted.exprMap =  {}\n",
      "operation.substituted.exprMap =  {x: A, y: _x_}\n",
      "operation.substituted.exprMap =  {x: A, y: _x_}\n",
      "operation.substituted.exprMap =  {}\n",
      "operation.substituted.exprMap =  {}\n",
      "operation.substituted.exprMap =  {}\n",
      "operation.substituted.exprMap =  {}\n",
      "operation.substituted.exprMap =  {}\n",
      "operation.substituted.exprMap =  {}\n",
      "operation.substituted.exprMap =  {x: _y_, y: _x_}\n",
      "operation.substituted.exprMap =  {x: _y_, y: _x_}\n",
      "operation.substituted.exprMap =  {}\n",
      "operation.substituted.exprMap =  {}\n",
      "operation.substituted.exprMap =  {}\n",
      "operation.substituted.exprMap =  {}\n",
      "operation.substituted.exprMap =  {}\n",
      "operation.substituted.exprMap =  {x: _y_, y: _x_}\n",
      "operation.substituted.exprMap =  {x: _y_, y: _x_}\n",
      "operation.substituted.exprMap =  {}\n",
      "operation.substituted.exprMap =  {}\n",
      "operation.substituted.exprMap =  {}\n",
      "operation.substituted.exprMap =  {}\n",
      "operation.substituted.exprMap =  {}\n",
      "operation.substituted.exprMap =  {x: _y_, y: _x_}\n",
      "operation.substituted.exprMap =  {x: _y_, y: _x_}\n",
      "operation.substituted.exprMap =  {x: A, y: B}\n",
      "operation.substituted.exprMap =  {x: A, y: B}\n",
      "operation.substituted.exprMap =  {}\n",
      "operation.substituted.exprMap =  {x: A, y: _x_}\n",
      "operation.substituted.exprMap =  {x: A, y: _x_}\n",
      "operation.substituted.exprMap =  {}\n",
      "operation.substituted.exprMap =  {}\n",
      "operation.substituted.exprMap =  {}\n",
      "operation.substituted.exprMap =  {}\n",
      "operation.substituted.exprMap =  {x: A, y: _x_}\n",
      "operation.substituted.exprMap =  {x: A, y: _x_}\n",
      "operation.substituted.exprMap =  {}\n",
      "operation.substituted.exprMap =  {}\n",
      "operation.substituted.exprMap =  {}\n",
      "operation.substituted.exprMap =  {}\n",
      "operation.substituted.exprMap =  {}\n",
      "operation.substituted.exprMap =  {}\n",
      "operation.substituted.exprMap =  {}\n",
      "operation.substituted.exprMap =  {}\n",
      "operation.substituted.exprMap =  {x: _y_, y: _x_}\n",
      "operation.substituted.exprMap =  {x: _y_, y: _x_}\n",
      "operation.substituted.exprMap =  {}\n",
      "operation.substituted.exprMap =  {}\n",
      "operation.substituted.exprMap =  {}\n",
      "operation.substituted.exprMap =  {}\n",
      "operation.substituted.exprMap =  {}\n",
      "operation.substituted.exprMap =  {}\n",
      "operation.substituted.exprMap =  {x: _y_, y: _x_}\n",
      "operation.substituted.exprMap =  {x: _y_, y: _x_}\n",
      "operation.substituted.exprMap =  {}\n",
      "operation.substituted.exprMap =  {}\n",
      "operation.substituted.exprMap =  {}\n",
      "operation.substituted.exprMap =  {}\n",
      "operation.substituted.exprMap =  {}\n",
      "operation.substituted.exprMap =  {}\n",
      "operation.substituted.exprMap =  {x: _y_, y: _x_}\n",
      "operation.substituted.exprMap =  {x: _y_, y: _x_}\n",
      "operation.substituted.exprMap =  {A: TRUE}\n",
      "operation.substituted.exprMap =  {A: TRUE, B: TRUE}\n",
      "operation.substituted.exprMap =  {A: TRUE, B: TRUE}\n",
      "operation.substituted.exprMap =  {A: TRUE, B: TRUE}\n",
      "operation.substituted.exprMap =  {A: TRUE, B: TRUE}\n",
      "operation.substituted.exprMap =  {x: TRUE, y: TRUE}\n",
      "operation.substituted.exprMap =  {x: TRUE, y: TRUE}\n",
      "operation.substituted.exprMap =  {A: TRUE}\n",
      "operation.substituted.exprMap =  {A: TRUE, B: TRUE}\n",
      "operation.substituted.exprMap =  {A: TRUE, B: TRUE}\n",
      "operation.substituted.exprMap =  {A: TRUE, B: TRUE}\n",
      "operation.substituted.exprMap =  {x: TRUE, y: TRUE}\n",
      "operation.substituted.exprMap =  {x: TRUE, y: TRUE}\n",
      "operation.substituted.exprMap =  {x: TRUE <=> FALSE, y: FALSE}\n",
      "operation.substituted.exprMap =  {x: TRUE <=> FALSE, y: FALSE}\n",
      "operation.substituted.exprMap =  {A: (TRUE <=> FALSE) = FALSE}\n",
      "operation.substituted.exprMap =  {A: (TRUE <=> FALSE) = FALSE}\n",
      "operation.substituted.exprMap =  {A: (TRUE <=> FALSE) = FALSE}\n",
      "operation.substituted.exprMap =  {x: TRUE <=> FALSE, y: FALSE}\n",
      "operation.substituted.exprMap =  {x: TRUE <=> FALSE, y: FALSE}\n",
      "operation.substituted.exprMap =  {x: TRUE <=> FALSE, y: FALSE}\n",
      "operation.substituted.exprMap =  {x: TRUE <=> FALSE, y: FALSE}\n",
      "operation.substituted.exprMap =  {x: FALSE, y: TRUE <=> FALSE}\n",
      "operation.substituted.exprMap =  {x: FALSE, y: TRUE <=> FALSE}\n",
      "operation.substituted.exprMap =  {A: FALSE = (TRUE <=> FALSE)}\n",
      "operation.substituted.exprMap =  {A: FALSE = (TRUE <=> FALSE)}\n",
      "operation.substituted.exprMap =  {A: FALSE = (TRUE <=> FALSE)}\n",
      "operation.substituted.exprMap =  {x: FALSE, y: TRUE <=> FALSE}\n",
      "operation.substituted.exprMap =  {x: FALSE, y: TRUE <=> FALSE}\n",
      "operation.substituted.exprMap =  {x: FALSE, y: TRUE <=> FALSE}\n",
      "operation.substituted.exprMap =  {x: FALSE, y: TRUE <=> FALSE}\n",
      "operation.substituted.exprMap =  {x: TRUE <=> FALSE, y: FALSE}\n",
      "operation.substituted.exprMap =  {x: TRUE <=> FALSE, y: FALSE}\n",
      "operation.substituted.exprMap =  {A: TRUE <=> FALSE}\n",
      "operation.substituted.exprMap =  {x: TRUE <=> FALSE, y: FALSE}\n",
      "operation.substituted.exprMap =  {x: TRUE <=> FALSE, y: FALSE}\n",
      "operation.substituted.exprMap =  {x: TRUE <=> FALSE, y: FALSE}\n",
      "operation.substituted.exprMap =  {x: TRUE <=> FALSE, y: FALSE}\n",
      "operation.substituted.exprMap =  {x: FALSE <=> TRUE, y: FALSE}\n",
      "operation.substituted.exprMap =  {x: FALSE <=> TRUE, y: FALSE}\n",
      "operation.substituted.exprMap =  {x: FALSE <=> FALSE, y: TRUE}\n",
      "operation.substituted.exprMap =  {x: FALSE <=> FALSE, y: TRUE}\n",
      "operation.substituted.exprMap =  {A: (FALSE <=> FALSE) = TRUE}\n",
      "operation.substituted.exprMap =  {A: (FALSE <=> FALSE) = TRUE}\n",
      "operation.substituted.exprMap =  {A: (FALSE <=> FALSE) = TRUE}\n",
      "operation.substituted.exprMap =  {x: FALSE <=> FALSE, y: TRUE}\n",
      "operation.substituted.exprMap =  {x: FALSE <=> FALSE, y: TRUE}\n",
      "operation.substituted.exprMap =  {x: FALSE <=> FALSE, y: TRUE}\n",
      "operation.substituted.exprMap =  {x: FALSE <=> FALSE, y: TRUE}\n",
      "operation.substituted.exprMap =  {x: TRUE, y: FALSE <=> FALSE}\n",
      "operation.substituted.exprMap =  {x: TRUE, y: FALSE <=> FALSE}\n",
      "operation.substituted.exprMap =  {A: TRUE = (FALSE <=> FALSE)}\n",
      "operation.substituted.exprMap =  {A: TRUE = (FALSE <=> FALSE)}\n",
      "operation.substituted.exprMap =  {A: TRUE = (FALSE <=> FALSE)}\n",
      "operation.substituted.exprMap =  {x: TRUE, y: FALSE <=> FALSE}\n",
      "operation.substituted.exprMap =  {x: TRUE, y: FALSE <=> FALSE}\n",
      "operation.substituted.exprMap =  {x: TRUE, y: FALSE <=> FALSE}\n",
      "operation.substituted.exprMap =  {x: TRUE, y: FALSE <=> FALSE}\n",
      "operation.substituted.exprMap =  {x: FALSE <=> FALSE, y: TRUE}\n",
      "operation.substituted.exprMap =  {x: FALSE <=> FALSE, y: TRUE}\n",
      "operation.substituted.exprMap =  {A: FALSE <=> FALSE}\n",
      "operation.substituted.exprMap =  {x: FALSE <=> FALSE, y: TRUE}\n",
      "operation.substituted.exprMap =  {x: FALSE <=> FALSE, y: TRUE}\n",
      "operation.substituted.exprMap =  {A: FALSE, B: FALSE}\n",
      "operation.substituted.exprMap =  {A: FALSE, B: FALSE}\n",
      "operation.substituted.exprMap =  {A: FALSE, B: FALSE}\n",
      "operation.substituted.exprMap =  {A: FALSE, B: FALSE}\n",
      "operation.substituted.exprMap =  {A: FALSE, B: FALSE}\n",
      "operation.substituted.exprMap =  {A: FALSE, B: FALSE}\n",
      "operation.substituted.exprMap =  {A: FALSE}\n",
      "operation.substituted.exprMap =  {A: FALSE, B: FALSE}\n",
      "operation.substituted.exprMap =  {A: FALSE, B: FALSE}\n",
      "operation.substituted.exprMap =  {A: FALSE, B: FALSE}\n",
      "operation.substituted.exprMap =  {A: FALSE, B: FALSE}\n",
      "operation.substituted.exprMap =  {x: FALSE, y: FALSE}\n",
      "operation.substituted.exprMap =  {x: FALSE, y: FALSE}\n",
      "operation.substituted.exprMap =  {A: FALSE}\n",
      "operation.substituted.exprMap =  {A: FALSE, B: FALSE}\n",
      "operation.substituted.exprMap =  {A: FALSE, B: FALSE}\n",
      "operation.substituted.exprMap =  {A: FALSE, B: FALSE}\n",
      "operation.substituted.exprMap =  {x: FALSE, y: FALSE}\n",
      "operation.substituted.exprMap =  {x: FALSE, y: FALSE}\n",
      "operation.substituted.exprMap =  {}\n",
      "operation.substituted.exprMap =  {}\n",
      "operation.substituted.exprMap =  {}\n",
      "operation.substituted.exprMap =  {}\n",
      "operation.substituted.exprMap =  {}\n",
      "operation.substituted.exprMap =  {}\n",
      "operation.substituted.exprMap =  {}\n",
      "operation.substituted.exprMap =  {}\n",
      "operation.substituted.exprMap =  {}\n",
      "operation.substituted.exprMap =  {}\n"
     ]
    },
    {
     "name": "stdout",
     "output_type": "stream",
     "text": [
      "operation.substituted.exprMap =  {}\n",
      "operation.substituted.exprMap =  {}\n",
      "operation.substituted.exprMap =  {}\n",
      "operation.substituted.exprMap =  {}\n",
      "operation.substituted.exprMap =  {A: TRUE, B: FALSE}\n",
      "operation.substituted.exprMap =  {A: TRUE, B: FALSE}\n",
      "operation.substituted.exprMap =  {A: TRUE, B: FALSE}\n",
      "operation.substituted.exprMap =  {x: FALSE, y: FALSE}\n",
      "operation.substituted.exprMap =  {x: FALSE, y: FALSE}\n",
      "operation.substituted.exprMap =  {x: FALSE, y: FALSE}\n",
      "operation.substituted.exprMap =  {x: FALSE, y: FALSE}\n",
      "operation.substituted.exprMap =  {f: _x_ -> _x_, x: FALSE, y: FALSE}\n",
      "operation.substituted.exprMap =  {x: FALSE, y: FALSE}\n",
      "operation.substituted.exprMap =  {x: FALSE, y: FALSE}\n",
      "operation.substituted.exprMap =  {x: FALSE, y: FALSE, f: _x_ -> _x_}\n",
      "operation.substituted.exprMap =  {x: FALSE, y: FALSE, f: _x_ -> _x_}\n",
      "operation.substituted.exprMap =  {x: FALSE, y: FALSE, f: _x_ -> _x_}\n",
      "operation.substituted.exprMap =  {x: FALSE, y: FALSE}\n",
      "operation.substituted.exprMap =  {x: FALSE, y: FALSE}\n",
      "operation.substituted.exprMap =  {x: TRUE, y: TRUE}\n",
      "operation.substituted.exprMap =  {x: TRUE, y: TRUE}\n",
      "operation.substituted.exprMap =  {x: TRUE, y: TRUE}\n",
      "operation.substituted.exprMap =  {x: TRUE, y: TRUE}\n",
      "operation.substituted.exprMap =  {A: TRUE}\n",
      "operation.substituted.exprMap =  {A: TRUE, B: FALSE}\n",
      "operation.substituted.exprMap =  {x: TRUE, y: TRUE}\n",
      "operation.substituted.exprMap =  {x: TRUE, y: TRUE}\n",
      "operation.substituted.exprMap =  {x: TRUE, y: TRUE}\n",
      "operation.substituted.exprMap =  {x: TRUE, y: TRUE}\n",
      "operation.substituted.exprMap =  {A: TRUE <=> FALSE}\n",
      "operation.substituted.exprMap =  {x: TRUE <=> FALSE, y: FALSE}\n",
      "operation.substituted.exprMap =  {x: TRUE <=> FALSE, y: FALSE}\n",
      "operation.substituted.exprMap =  {A: TRUE <=> FALSE}\n",
      "operation.substituted.exprMap =  {A: TRUE <=> FALSE}\n",
      "operation.substituted.exprMap =  {A: TRUE <=> FALSE}\n",
      "operation.substituted.exprMap =  {x: TRUE <=> FALSE, y: FALSE}\n",
      "operation.substituted.exprMap =  {x: TRUE <=> FALSE, y: FALSE}\n",
      "operation.substituted.exprMap =  {A: TRUE <=> FALSE}\n",
      "operation.substituted.exprMap =  {A: TRUE <=> FALSE}\n",
      "operation.substituted.exprMap =  {x: TRUE <=> FALSE, y: TRUE}\n",
      "operation.substituted.exprMap =  {x: TRUE <=> FALSE, y: TRUE}\n",
      "operation.substituted.exprMap =  {x: TRUE, y: TRUE <=> FALSE}\n",
      "operation.substituted.exprMap =  {x: TRUE, y: TRUE <=> FALSE}\n",
      "operation.substituted.exprMap =  {x: TRUE, y: TRUE <=> FALSE}\n",
      "operation.substituted.exprMap =  {x: TRUE, y: TRUE <=> FALSE}\n",
      "operation.substituted.exprMap =  {x: TRUE, y: TRUE <=> FALSE}\n",
      "operation.substituted.exprMap =  {x: TRUE, y: TRUE <=> FALSE}\n",
      "operation.substituted.exprMap =  {x: TRUE, y: TRUE <=> FALSE}\n",
      "operation.substituted.exprMap =  {A: TRUE = (TRUE <=> FALSE)}\n",
      "operation.substituted.exprMap =  {A: TRUE = (TRUE <=> FALSE)}\n",
      "operation.substituted.exprMap =  {A: TRUE = (TRUE <=> FALSE)}\n",
      "operation.substituted.exprMap =  {A: TRUE = (TRUE <=> FALSE)}\n",
      "operation.substituted.exprMap =  {A: TRUE = (TRUE <=> FALSE)}\n",
      "operation.substituted.exprMap =  {x: TRUE = (TRUE <=> FALSE), y: FALSE}\n",
      "operation.substituted.exprMap =  {x: TRUE = (TRUE <=> FALSE), y: FALSE}\n",
      "operation.substituted.exprMap =  {A: (TRUE = (TRUE <=> FALSE)) = FALSE}\n",
      "operation.substituted.exprMap =  {A: (TRUE = (TRUE <=> FALSE)) = FALSE}\n",
      "operation.substituted.exprMap =  {A: (TRUE = (TRUE <=> FALSE)) = FALSE}\n",
      "operation.substituted.exprMap =  {x: TRUE = (TRUE <=> FALSE), y: FALSE}\n",
      "operation.substituted.exprMap =  {x: TRUE = (TRUE <=> FALSE), y: FALSE}\n",
      "operation.substituted.exprMap =  {x: TRUE = (TRUE <=> FALSE), y: FALSE}\n",
      "operation.substituted.exprMap =  {x: TRUE = (TRUE <=> FALSE), y: FALSE}\n",
      "operation.substituted.exprMap =  {x: FALSE, y: TRUE = (TRUE <=> FALSE)}\n",
      "operation.substituted.exprMap =  {x: FALSE, y: TRUE = (TRUE <=> FALSE)}\n",
      "operation.substituted.exprMap =  {A: FALSE = (TRUE = (TRUE <=> FALSE))}\n",
      "operation.substituted.exprMap =  {A: FALSE = (TRUE = (TRUE <=> FALSE))}\n",
      "operation.substituted.exprMap =  {A: FALSE = (TRUE = (TRUE <=> FALSE))}\n",
      "operation.substituted.exprMap =  {x: FALSE, y: TRUE = (TRUE <=> FALSE)}\n",
      "operation.substituted.exprMap =  {x: FALSE, y: TRUE = (TRUE <=> FALSE)}\n",
      "operation.substituted.exprMap =  {x: FALSE, y: TRUE = (TRUE <=> FALSE)}\n",
      "operation.substituted.exprMap =  {x: FALSE, y: TRUE = (TRUE <=> FALSE)}\n",
      "operation.substituted.exprMap =  {x: TRUE = (TRUE <=> FALSE), y: FALSE}\n",
      "operation.substituted.exprMap =  {x: TRUE = (TRUE <=> FALSE), y: FALSE}\n",
      "operation.substituted.exprMap =  {A: TRUE = (TRUE <=> FALSE)}\n",
      "operation.substituted.exprMap =  {x: TRUE = (TRUE <=> FALSE), y: FALSE}\n",
      "operation.substituted.exprMap =  {x: TRUE = (TRUE <=> FALSE), y: FALSE}\n",
      "operation.substituted.exprMap =  {x: TRUE <=> FALSE, y: TRUE}\n",
      "operation.substituted.exprMap =  {x: TRUE <=> FALSE, y: TRUE}\n",
      "operation.substituted.exprMap =  {A: (TRUE <=> FALSE) = TRUE}\n",
      "operation.substituted.exprMap =  {A: (TRUE <=> FALSE) = TRUE}\n",
      "operation.substituted.exprMap =  {A: (TRUE <=> FALSE) = TRUE}\n",
      "operation.substituted.exprMap =  {A: TRUE <=> FALSE}\n",
      "operation.substituted.exprMap =  {x: TRUE <=> FALSE, y: TRUE}\n",
      "operation.substituted.exprMap =  {x: TRUE <=> FALSE, y: TRUE}\n",
      "operation.substituted.exprMap =  {A: TRUE, B: FALSE}\n",
      "operation.substituted.exprMap =  {A: TRUE, B: FALSE}\n",
      "operation.substituted.exprMap =  {A: TRUE, B: FALSE}\n",
      "operation.substituted.exprMap =  {x: FALSE, y: FALSE}\n",
      "operation.substituted.exprMap =  {x: FALSE, y: FALSE}\n",
      "operation.substituted.exprMap =  {x: FALSE, y: FALSE}\n",
      "operation.substituted.exprMap =  {x: FALSE, y: FALSE}\n",
      "operation.substituted.exprMap =  {f: _x_ -> _x_, x: FALSE, y: FALSE}\n",
      "operation.substituted.exprMap =  {x: FALSE, y: FALSE}\n",
      "operation.substituted.exprMap =  {x: FALSE, y: FALSE}\n",
      "operation.substituted.exprMap =  {x: FALSE, y: FALSE, f: _x_ -> _x_}\n",
      "operation.substituted.exprMap =  {x: FALSE, y: FALSE, f: _x_ -> _x_}\n",
      "operation.substituted.exprMap =  {x: FALSE, y: FALSE, f: _x_ -> _x_}\n",
      "operation.substituted.exprMap =  {x: FALSE, y: FALSE}\n",
      "operation.substituted.exprMap =  {x: FALSE, y: FALSE}\n",
      "operation.substituted.exprMap =  {x: TRUE, y: TRUE}\n",
      "operation.substituted.exprMap =  {x: TRUE, y: TRUE}\n",
      "operation.substituted.exprMap =  {x: TRUE, y: TRUE}\n",
      "operation.substituted.exprMap =  {x: TRUE, y: TRUE}\n",
      "operation.substituted.exprMap =  {A: TRUE}\n",
      "operation.substituted.exprMap =  {A: TRUE, B: FALSE}\n",
      "operation.substituted.exprMap =  {x: TRUE, y: TRUE}\n",
      "operation.substituted.exprMap =  {x: TRUE, y: TRUE}\n",
      "operation.substituted.exprMap =  {x: TRUE, y: TRUE}\n",
      "operation.substituted.exprMap =  {x: TRUE, y: TRUE}\n",
      "operation.substituted.exprMap =  {x: TRUE <=> FALSE, y: FALSE}\n",
      "operation.substituted.exprMap =  {x: TRUE <=> FALSE, y: FALSE}\n",
      "operation.substituted.exprMap =  {f: _x_ -> _x_, x: TRUE <=> FALSE, y: FALSE}\n",
      "operation.substituted.exprMap =  {x: TRUE <=> FALSE, y: FALSE}\n",
      "operation.substituted.exprMap =  {x: TRUE <=> FALSE, y: FALSE}\n",
      "operation.substituted.exprMap =  {x: TRUE <=> FALSE, y: FALSE, f: _x_ -> _x_}\n",
      "operation.substituted.exprMap =  {x: TRUE <=> FALSE, y: FALSE, f: _x_ -> _x_}\n",
      "operation.substituted.exprMap =  {x: TRUE <=> FALSE, y: FALSE, f: _x_ -> _x_}\n",
      "operation.substituted.exprMap =  {x: TRUE <=> FALSE, y: FALSE}\n",
      "operation.substituted.exprMap =  {x: TRUE <=> FALSE, y: FALSE}\n",
      "operation.substituted.exprMap =  {A: TRUE = (TRUE <=> FALSE)}\n",
      "operation.substituted.exprMap =  {x: TRUE = (TRUE <=> FALSE), y: FALSE}\n",
      "operation.substituted.exprMap =  {x: TRUE = (TRUE <=> FALSE), y: FALSE}\n",
      "operation.substituted.exprMap =  {A: TRUE = (TRUE <=> FALSE)}\n",
      "operation.substituted.exprMap =  {A: TRUE = (TRUE <=> FALSE)}\n",
      "operation.substituted.exprMap =  {x: TRUE <=> FALSE, y: TRUE}\n",
      "operation.substituted.exprMap =  {x: TRUE <=> FALSE, y: TRUE}\n",
      "operation.substituted.exprMap =  {A: TRUE <=> FALSE}\n",
      "operation.substituted.exprMap =  {x: TRUE <=> FALSE, y: TRUE}\n",
      "operation.substituted.exprMap =  {x: TRUE <=> FALSE, y: TRUE}\n",
      "operation.substituted.exprMap =  {A: TRUE, B: FALSE}\n",
      "operation.substituted.exprMap =  {A: TRUE, B: FALSE}\n",
      "operation.substituted.exprMap =  {A: TRUE, B: FALSE}\n",
      "operation.substituted.exprMap =  {x: FALSE, y: FALSE}\n",
      "operation.substituted.exprMap =  {x: FALSE, y: FALSE}\n",
      "operation.substituted.exprMap =  {x: FALSE, y: FALSE}\n",
      "operation.substituted.exprMap =  {x: FALSE, y: FALSE}\n",
      "operation.substituted.exprMap =  {f: _x_ -> _x_, x: FALSE, y: FALSE}\n",
      "operation.substituted.exprMap =  {x: FALSE, y: FALSE}\n",
      "operation.substituted.exprMap =  {x: FALSE, y: FALSE}\n",
      "operation.substituted.exprMap =  {x: FALSE, y: FALSE, f: _x_ -> _x_}\n",
      "operation.substituted.exprMap =  {x: FALSE, y: FALSE, f: _x_ -> _x_}\n",
      "operation.substituted.exprMap =  {x: FALSE, y: FALSE, f: _x_ -> _x_}\n",
      "operation.substituted.exprMap =  {x: FALSE, y: FALSE}\n",
      "operation.substituted.exprMap =  {x: FALSE, y: FALSE}\n",
      "operation.substituted.exprMap =  {x: TRUE, y: TRUE}\n",
      "operation.substituted.exprMap =  {x: TRUE, y: TRUE}\n",
      "operation.substituted.exprMap =  {x: TRUE, y: TRUE}\n",
      "operation.substituted.exprMap =  {x: TRUE, y: TRUE}\n",
      "operation.substituted.exprMap =  {A: TRUE}\n",
      "operation.substituted.exprMap =  {A: TRUE, B: FALSE}\n",
      "operation.substituted.exprMap =  {x: TRUE, y: TRUE}\n",
      "operation.substituted.exprMap =  {x: TRUE, y: TRUE}\n",
      "operation.substituted.exprMap =  {x: TRUE, y: TRUE}\n",
      "operation.substituted.exprMap =  {x: TRUE, y: TRUE}\n",
      "operation.substituted.exprMap =  {x: TRUE <=> FALSE, y: FALSE}\n",
      "operation.substituted.exprMap =  {x: TRUE <=> FALSE, y: FALSE}\n",
      "operation.substituted.exprMap =  {f: _x_ -> _x_, x: TRUE <=> FALSE, y: FALSE}\n",
      "operation.substituted.exprMap =  {x: TRUE <=> FALSE, y: FALSE}\n",
      "operation.substituted.exprMap =  {x: TRUE <=> FALSE, y: FALSE}\n",
      "operation.substituted.exprMap =  {x: TRUE <=> FALSE, y: FALSE, f: _x_ -> _x_}\n",
      "operation.substituted.exprMap =  {x: TRUE <=> FALSE, y: FALSE, f: _x_ -> _x_}\n",
      "operation.substituted.exprMap =  {x: TRUE <=> FALSE, y: FALSE, f: _x_ -> _x_}\n",
      "operation.substituted.exprMap =  {x: TRUE <=> FALSE, y: FALSE}\n",
      "operation.substituted.exprMap =  {x: TRUE <=> FALSE, y: FALSE}\n",
      "operation.substituted.exprMap =  {A: [not](TRUE = (TRUE <=> FALSE))}\n",
      "operation.substituted.exprMap =  {A: TRUE = (TRUE <=> FALSE)}\n",
      "operation.substituted.exprMap =  {A: TRUE = (TRUE <=> FALSE)}\n",
      "operation.substituted.exprMap =  {A: TRUE = (TRUE <=> FALSE)}\n",
      "operation.substituted.exprMap =  {A: [not](TRUE = (TRUE <=> FALSE))}\n",
      "operation.substituted.exprMap =  {A: [not](TRUE = (TRUE <=> FALSE))}\n",
      "operation.substituted.exprMap =  {A: [not](TRUE = (TRUE <=> FALSE))}\n",
      "operation.substituted.exprMap =  {x: TRUE, y: TRUE <=> FALSE}\n",
      "operation.substituted.exprMap =  {x: TRUE, y: TRUE <=> FALSE}\n",
      "operation.substituted.exprMap =  {x: TRUE, y: TRUE <=> FALSE}\n",
      "operation.substituted.exprMap =  {x: TRUE, y: TRUE <=> FALSE}\n",
      "operation.substituted.exprMap =  {x: TRUE, y: TRUE <=> FALSE}\n",
      "operation.substituted.exprMap =  {x: TRUE <=> FALSE, y: TRUE}\n",
      "operation.substituted.exprMap =  {x: TRUE <=> FALSE, y: TRUE}\n",
      "operation.substituted.exprMap =  {x: TRUE <=> FALSE, y: TRUE}\n",
      "operation.substituted.exprMap =  {x: TRUE <=> FALSE, y: TRUE}\n",
      "operation.substituted.exprMap =  {x: TRUE <=> FALSE, y: TRUE}\n",
      "operation.substituted.exprMap =  {A: (TRUE <=> FALSE) = TRUE}\n",
      "operation.substituted.exprMap =  {A: (TRUE <=> FALSE) = TRUE}\n",
      "operation.substituted.exprMap =  {x: (TRUE <=> FALSE) = TRUE, y: FALSE}\n",
      "operation.substituted.exprMap =  {x: (TRUE <=> FALSE) = TRUE, y: FALSE}\n",
      "operation.substituted.exprMap =  {A: ((TRUE <=> FALSE) = TRUE) = FALSE}\n",
      "operation.substituted.exprMap =  {A: ((TRUE <=> FALSE) = TRUE) = FALSE}\n",
      "operation.substituted.exprMap =  {A: ((TRUE <=> FALSE) = TRUE) = FALSE}\n",
      "operation.substituted.exprMap =  {x: (TRUE <=> FALSE) = TRUE, y: FALSE}\n"
     ]
    },
    {
     "name": "stdout",
     "output_type": "stream",
     "text": [
      "operation.substituted.exprMap =  {x: (TRUE <=> FALSE) = TRUE, y: FALSE}\n",
      "operation.substituted.exprMap =  {x: (TRUE <=> FALSE) = TRUE, y: FALSE}\n",
      "operation.substituted.exprMap =  {x: (TRUE <=> FALSE) = TRUE, y: FALSE}\n",
      "operation.substituted.exprMap =  {x: FALSE, y: (TRUE <=> FALSE) = TRUE}\n",
      "operation.substituted.exprMap =  {x: FALSE, y: (TRUE <=> FALSE) = TRUE}\n",
      "operation.substituted.exprMap =  {A: FALSE = ((TRUE <=> FALSE) = TRUE)}\n",
      "operation.substituted.exprMap =  {A: FALSE = ((TRUE <=> FALSE) = TRUE)}\n",
      "operation.substituted.exprMap =  {A: FALSE = ((TRUE <=> FALSE) = TRUE)}\n",
      "operation.substituted.exprMap =  {x: FALSE, y: (TRUE <=> FALSE) = TRUE}\n",
      "operation.substituted.exprMap =  {x: FALSE, y: (TRUE <=> FALSE) = TRUE}\n",
      "operation.substituted.exprMap =  {x: FALSE, y: (TRUE <=> FALSE) = TRUE}\n",
      "operation.substituted.exprMap =  {x: FALSE, y: (TRUE <=> FALSE) = TRUE}\n",
      "operation.substituted.exprMap =  {x: (TRUE <=> FALSE) = TRUE, y: FALSE}\n",
      "operation.substituted.exprMap =  {x: (TRUE <=> FALSE) = TRUE, y: FALSE}\n",
      "operation.substituted.exprMap =  {A: (TRUE <=> FALSE) = TRUE}\n",
      "operation.substituted.exprMap =  {x: (TRUE <=> FALSE) = TRUE, y: FALSE}\n",
      "operation.substituted.exprMap =  {x: (TRUE <=> FALSE) = TRUE, y: FALSE}\n",
      "operation.substituted.exprMap =  {A: TRUE <=> FALSE}\n",
      "operation.substituted.exprMap =  {x: TRUE <=> FALSE, y: TRUE}\n",
      "operation.substituted.exprMap =  {x: TRUE <=> FALSE, y: TRUE}\n",
      "operation.substituted.exprMap =  {A: TRUE, B: FALSE}\n",
      "operation.substituted.exprMap =  {A: TRUE, B: FALSE}\n",
      "operation.substituted.exprMap =  {A: TRUE, B: FALSE}\n",
      "operation.substituted.exprMap =  {x: FALSE, y: FALSE}\n",
      "operation.substituted.exprMap =  {x: FALSE, y: FALSE}\n",
      "operation.substituted.exprMap =  {x: FALSE, y: FALSE}\n",
      "operation.substituted.exprMap =  {x: FALSE, y: FALSE}\n",
      "operation.substituted.exprMap =  {f: _x_ -> _x_, x: FALSE, y: FALSE}\n",
      "operation.substituted.exprMap =  {x: FALSE, y: FALSE}\n",
      "operation.substituted.exprMap =  {x: FALSE, y: FALSE}\n",
      "operation.substituted.exprMap =  {x: FALSE, y: FALSE, f: _x_ -> _x_}\n",
      "operation.substituted.exprMap =  {x: FALSE, y: FALSE, f: _x_ -> _x_}\n",
      "operation.substituted.exprMap =  {x: FALSE, y: FALSE, f: _x_ -> _x_}\n",
      "operation.substituted.exprMap =  {x: FALSE, y: FALSE}\n",
      "operation.substituted.exprMap =  {x: FALSE, y: FALSE}\n",
      "operation.substituted.exprMap =  {x: TRUE, y: TRUE}\n",
      "operation.substituted.exprMap =  {x: TRUE, y: TRUE}\n",
      "operation.substituted.exprMap =  {x: TRUE, y: TRUE}\n",
      "operation.substituted.exprMap =  {x: TRUE, y: TRUE}\n",
      "operation.substituted.exprMap =  {A: TRUE}\n",
      "operation.substituted.exprMap =  {A: TRUE, B: FALSE}\n",
      "operation.substituted.exprMap =  {x: TRUE, y: TRUE}\n",
      "operation.substituted.exprMap =  {x: TRUE, y: TRUE}\n",
      "operation.substituted.exprMap =  {x: TRUE, y: TRUE}\n",
      "operation.substituted.exprMap =  {x: TRUE, y: TRUE}\n",
      "operation.substituted.exprMap =  {x: TRUE <=> FALSE, y: FALSE}\n",
      "operation.substituted.exprMap =  {x: TRUE <=> FALSE, y: FALSE}\n",
      "operation.substituted.exprMap =  {f: _x_ -> _x_, x: TRUE <=> FALSE, y: FALSE}\n",
      "operation.substituted.exprMap =  {x: TRUE <=> FALSE, y: FALSE}\n",
      "operation.substituted.exprMap =  {x: TRUE <=> FALSE, y: FALSE}\n",
      "operation.substituted.exprMap =  {x: TRUE <=> FALSE, y: FALSE, f: _x_ -> _x_}\n",
      "operation.substituted.exprMap =  {x: TRUE <=> FALSE, y: FALSE, f: _x_ -> _x_}\n",
      "operation.substituted.exprMap =  {x: TRUE <=> FALSE, y: FALSE, f: _x_ -> _x_}\n",
      "operation.substituted.exprMap =  {x: TRUE <=> FALSE, y: FALSE}\n",
      "operation.substituted.exprMap =  {x: TRUE <=> FALSE, y: FALSE}\n",
      "operation.substituted.exprMap =  {A: (TRUE <=> FALSE) = TRUE}\n",
      "operation.substituted.exprMap =  {x: (TRUE <=> FALSE) = TRUE, y: FALSE}\n",
      "operation.substituted.exprMap =  {x: (TRUE <=> FALSE) = TRUE, y: FALSE}\n",
      "operation.substituted.exprMap =  {A: (TRUE <=> FALSE) = TRUE}\n",
      "operation.substituted.exprMap =  {A: (TRUE <=> FALSE) = TRUE}\n",
      "operation.substituted.exprMap =  {A: TRUE <=> FALSE}\n",
      "operation.substituted.exprMap =  {x: TRUE <=> FALSE, y: TRUE}\n",
      "operation.substituted.exprMap =  {x: TRUE <=> FALSE, y: TRUE}\n",
      "operation.substituted.exprMap =  {A: TRUE, B: FALSE}\n",
      "operation.substituted.exprMap =  {A: TRUE, B: FALSE}\n",
      "operation.substituted.exprMap =  {A: TRUE, B: FALSE}\n",
      "operation.substituted.exprMap =  {x: FALSE, y: FALSE}\n",
      "operation.substituted.exprMap =  {x: FALSE, y: FALSE}\n",
      "operation.substituted.exprMap =  {x: FALSE, y: FALSE}\n",
      "operation.substituted.exprMap =  {x: FALSE, y: FALSE}\n",
      "operation.substituted.exprMap =  {f: _x_ -> _x_, x: FALSE, y: FALSE}\n",
      "operation.substituted.exprMap =  {x: FALSE, y: FALSE}\n",
      "operation.substituted.exprMap =  {x: FALSE, y: FALSE}\n",
      "operation.substituted.exprMap =  {x: FALSE, y: FALSE, f: _x_ -> _x_}\n",
      "operation.substituted.exprMap =  {x: FALSE, y: FALSE, f: _x_ -> _x_}\n",
      "operation.substituted.exprMap =  {x: FALSE, y: FALSE, f: _x_ -> _x_}\n",
      "operation.substituted.exprMap =  {x: FALSE, y: FALSE}\n",
      "operation.substituted.exprMap =  {x: FALSE, y: FALSE}\n",
      "operation.substituted.exprMap =  {x: TRUE, y: TRUE}\n",
      "operation.substituted.exprMap =  {x: TRUE, y: TRUE}\n",
      "operation.substituted.exprMap =  {x: TRUE, y: TRUE}\n",
      "operation.substituted.exprMap =  {x: TRUE, y: TRUE}\n",
      "operation.substituted.exprMap =  {A: TRUE}\n",
      "operation.substituted.exprMap =  {A: TRUE, B: FALSE}\n",
      "operation.substituted.exprMap =  {x: TRUE, y: TRUE}\n",
      "operation.substituted.exprMap =  {x: TRUE, y: TRUE}\n",
      "operation.substituted.exprMap =  {x: TRUE, y: TRUE}\n",
      "operation.substituted.exprMap =  {x: TRUE, y: TRUE}\n",
      "operation.substituted.exprMap =  {x: TRUE <=> FALSE, y: FALSE}\n",
      "operation.substituted.exprMap =  {x: TRUE <=> FALSE, y: FALSE}\n",
      "operation.substituted.exprMap =  {f: _x_ -> _x_, x: TRUE <=> FALSE, y: FALSE}\n",
      "operation.substituted.exprMap =  {x: TRUE <=> FALSE, y: FALSE}\n",
      "operation.substituted.exprMap =  {x: TRUE <=> FALSE, y: FALSE}\n",
      "operation.substituted.exprMap =  {x: TRUE <=> FALSE, y: FALSE, f: _x_ -> _x_}\n",
      "operation.substituted.exprMap =  {x: TRUE <=> FALSE, y: FALSE, f: _x_ -> _x_}\n",
      "operation.substituted.exprMap =  {x: TRUE <=> FALSE, y: FALSE, f: _x_ -> _x_}\n",
      "operation.substituted.exprMap =  {x: TRUE <=> FALSE, y: FALSE}\n",
      "operation.substituted.exprMap =  {x: TRUE <=> FALSE, y: FALSE}\n",
      "operation.substituted.exprMap =  {A: [not]((TRUE <=> FALSE) = TRUE)}\n",
      "operation.substituted.exprMap =  {A: (TRUE <=> FALSE) = TRUE}\n",
      "operation.substituted.exprMap =  {A: (TRUE <=> FALSE) = TRUE}\n",
      "operation.substituted.exprMap =  {A: (TRUE <=> FALSE) = TRUE}\n",
      "operation.substituted.exprMap =  {A: [not]((TRUE <=> FALSE) = TRUE)}\n",
      "operation.substituted.exprMap =  {A: [not]((TRUE <=> FALSE) = TRUE)}\n",
      "operation.substituted.exprMap =  {A: [not]((TRUE <=> FALSE) = TRUE)}\n",
      "operation.substituted.exprMap =  {x: TRUE <=> FALSE, y: TRUE}\n",
      "operation.substituted.exprMap =  {x: TRUE <=> FALSE, y: TRUE}\n",
      "operation.substituted.exprMap =  {x: TRUE <=> FALSE, y: TRUE}\n",
      "operation.substituted.exprMap =  {x: TRUE <=> FALSE, y: TRUE}\n",
      "operation.substituted.exprMap =  {x: TRUE <=> FALSE, y: TRUE}\n",
      "operation.substituted.exprMap =  {A: TRUE <=> FALSE}\n",
      "operation.substituted.exprMap =  {A: TRUE, B: FALSE}\n",
      "operation.substituted.exprMap =  {A: TRUE, B: FALSE}\n",
      "operation.substituted.exprMap =  {A: TRUE, B: FALSE}\n",
      "operation.substituted.exprMap =  {x: FALSE, y: FALSE}\n",
      "operation.substituted.exprMap =  {x: FALSE, y: FALSE}\n",
      "operation.substituted.exprMap =  {x: FALSE, y: FALSE}\n",
      "operation.substituted.exprMap =  {x: FALSE, y: FALSE}\n",
      "operation.substituted.exprMap =  {f: _x_ -> _x_, x: FALSE, y: FALSE}\n",
      "operation.substituted.exprMap =  {x: FALSE, y: FALSE}\n",
      "operation.substituted.exprMap =  {x: FALSE, y: FALSE}\n",
      "operation.substituted.exprMap =  {x: FALSE, y: FALSE, f: _x_ -> _x_}\n",
      "operation.substituted.exprMap =  {x: FALSE, y: FALSE, f: _x_ -> _x_}\n",
      "operation.substituted.exprMap =  {x: FALSE, y: FALSE, f: _x_ -> _x_}\n",
      "operation.substituted.exprMap =  {x: FALSE, y: FALSE}\n",
      "operation.substituted.exprMap =  {x: FALSE, y: FALSE}\n",
      "operation.substituted.exprMap =  {x: TRUE, y: TRUE}\n",
      "operation.substituted.exprMap =  {x: TRUE, y: TRUE}\n",
      "operation.substituted.exprMap =  {x: TRUE, y: TRUE}\n",
      "operation.substituted.exprMap =  {x: TRUE, y: TRUE}\n",
      "operation.substituted.exprMap =  {A: TRUE}\n",
      "operation.substituted.exprMap =  {A: TRUE, B: FALSE}\n",
      "operation.substituted.exprMap =  {x: TRUE, y: TRUE}\n",
      "operation.substituted.exprMap =  {x: TRUE, y: TRUE}\n",
      "operation.substituted.exprMap =  {x: TRUE, y: TRUE}\n",
      "operation.substituted.exprMap =  {x: TRUE, y: TRUE}\n",
      "operation.substituted.exprMap =  {A: [not](TRUE <=> FALSE)}\n",
      "operation.substituted.exprMap =  {A: TRUE <=> FALSE}\n",
      "operation.substituted.exprMap =  {A: TRUE <=> FALSE}\n",
      "operation.substituted.exprMap =  {A: TRUE <=> FALSE}\n",
      "operation.substituted.exprMap =  {A: TRUE <=> FALSE}\n",
      "operation.substituted.exprMap =  {A: TRUE <=> FALSE}\n",
      "operation.substituted.exprMap =  {A: TRUE <=> FALSE}\n",
      "operation.substituted.exprMap =  {A: [not](TRUE <=> FALSE)}\n",
      "operation.substituted.exprMap =  {A: [not](TRUE <=> FALSE)}\n",
      "operation.substituted.exprMap =  {A: [not](TRUE <=> FALSE)}\n",
      "operation.substituted.exprMap =  {A: FALSE, B: TRUE}\n"
     ]
    },
    {
     "name": "stdout",
     "output_type": "stream",
     "text": [
      "operation.substituted.exprMap =  {A: FALSE, B: TRUE}\n",
      "operation.substituted.exprMap =  {A: FALSE, B: TRUE}\n",
      "operation.substituted.exprMap =  {x: FALSE, y: FALSE}\n",
      "operation.substituted.exprMap =  {x: FALSE, y: FALSE}\n",
      "operation.substituted.exprMap =  {x: FALSE, y: FALSE}\n",
      "operation.substituted.exprMap =  {x: FALSE, y: FALSE}\n",
      "operation.substituted.exprMap =  {f: _x_ -> _x_, x: FALSE, y: FALSE}\n",
      "operation.substituted.exprMap =  {x: FALSE, y: FALSE}\n",
      "operation.substituted.exprMap =  {x: FALSE, y: FALSE}\n",
      "operation.substituted.exprMap =  {x: FALSE, y: FALSE, f: _x_ -> _x_}\n",
      "operation.substituted.exprMap =  {x: FALSE, y: FALSE, f: _x_ -> _x_}\n",
      "operation.substituted.exprMap =  {x: FALSE, y: FALSE, f: _x_ -> _x_}\n",
      "operation.substituted.exprMap =  {x: FALSE, y: FALSE}\n",
      "operation.substituted.exprMap =  {x: FALSE, y: FALSE}\n",
      "operation.substituted.exprMap =  {x: TRUE, y: TRUE}\n",
      "operation.substituted.exprMap =  {x: TRUE, y: TRUE}\n",
      "operation.substituted.exprMap =  {x: TRUE, y: TRUE}\n",
      "operation.substituted.exprMap =  {x: TRUE, y: TRUE}\n",
      "operation.substituted.exprMap =  {A: TRUE}\n",
      "operation.substituted.exprMap =  {A: TRUE, B: FALSE}\n",
      "operation.substituted.exprMap =  {x: TRUE, y: TRUE}\n",
      "operation.substituted.exprMap =  {x: TRUE, y: TRUE}\n",
      "operation.substituted.exprMap =  {x: TRUE, y: TRUE}\n",
      "operation.substituted.exprMap =  {x: TRUE, y: TRUE}\n",
      "operation.substituted.exprMap =  {A: FALSE <=> TRUE}\n",
      "operation.substituted.exprMap =  {x: FALSE <=> TRUE, y: FALSE}\n",
      "operation.substituted.exprMap =  {x: FALSE <=> TRUE, y: FALSE}\n",
      "operation.substituted.exprMap =  {A: FALSE <=> TRUE}\n",
      "operation.substituted.exprMap =  {A: FALSE <=> TRUE}\n",
      "operation.substituted.exprMap =  {A: FALSE <=> TRUE}\n",
      "operation.substituted.exprMap =  {x: FALSE <=> TRUE, y: TRUE}\n",
      "operation.substituted.exprMap =  {x: FALSE <=> TRUE, y: TRUE}\n",
      "operation.substituted.exprMap =  {x: TRUE, y: FALSE <=> TRUE}\n",
      "operation.substituted.exprMap =  {x: TRUE, y: FALSE <=> TRUE}\n",
      "operation.substituted.exprMap =  {x: TRUE, y: FALSE <=> TRUE}\n",
      "operation.substituted.exprMap =  {x: TRUE, y: FALSE <=> TRUE}\n",
      "operation.substituted.exprMap =  {x: TRUE, y: FALSE <=> TRUE}\n",
      "operation.substituted.exprMap =  {x: TRUE, y: FALSE <=> TRUE}\n",
      "operation.substituted.exprMap =  {x: TRUE, y: FALSE <=> TRUE}\n",
      "operation.substituted.exprMap =  {A: TRUE = (FALSE <=> TRUE)}\n",
      "operation.substituted.exprMap =  {A: TRUE = (FALSE <=> TRUE)}\n",
      "operation.substituted.exprMap =  {A: TRUE = (FALSE <=> TRUE)}\n",
      "operation.substituted.exprMap =  {A: TRUE = (FALSE <=> TRUE)}\n",
      "operation.substituted.exprMap =  {A: TRUE = (FALSE <=> TRUE)}\n",
      "operation.substituted.exprMap =  {x: TRUE = (FALSE <=> TRUE), y: FALSE}\n",
      "operation.substituted.exprMap =  {x: TRUE = (FALSE <=> TRUE), y: FALSE}\n",
      "operation.substituted.exprMap =  {A: (TRUE = (FALSE <=> TRUE)) = FALSE}\n",
      "operation.substituted.exprMap =  {A: (TRUE = (FALSE <=> TRUE)) = FALSE}\n",
      "operation.substituted.exprMap =  {A: (TRUE = (FALSE <=> TRUE)) = FALSE}\n",
      "operation.substituted.exprMap =  {x: TRUE = (FALSE <=> TRUE), y: FALSE}\n",
      "operation.substituted.exprMap =  {x: TRUE = (FALSE <=> TRUE), y: FALSE}\n",
      "operation.substituted.exprMap =  {x: TRUE = (FALSE <=> TRUE), y: FALSE}\n",
      "operation.substituted.exprMap =  {x: TRUE = (FALSE <=> TRUE), y: FALSE}\n",
      "operation.substituted.exprMap =  {x: FALSE, y: TRUE = (FALSE <=> TRUE)}\n",
      "operation.substituted.exprMap =  {x: FALSE, y: TRUE = (FALSE <=> TRUE)}\n",
      "operation.substituted.exprMap =  {A: FALSE = (TRUE = (FALSE <=> TRUE))}\n",
      "operation.substituted.exprMap =  {A: FALSE = (TRUE = (FALSE <=> TRUE))}\n",
      "operation.substituted.exprMap =  {A: FALSE = (TRUE = (FALSE <=> TRUE))}\n",
      "operation.substituted.exprMap =  {x: FALSE, y: TRUE = (FALSE <=> TRUE)}\n",
      "operation.substituted.exprMap =  {x: FALSE, y: TRUE = (FALSE <=> TRUE)}\n",
      "operation.substituted.exprMap =  {x: FALSE, y: TRUE = (FALSE <=> TRUE)}\n",
      "operation.substituted.exprMap =  {x: FALSE, y: TRUE = (FALSE <=> TRUE)}\n",
      "operation.substituted.exprMap =  {x: TRUE = (FALSE <=> TRUE), y: FALSE}\n",
      "operation.substituted.exprMap =  {x: TRUE = (FALSE <=> TRUE), y: FALSE}\n",
      "operation.substituted.exprMap =  {A: TRUE = (FALSE <=> TRUE)}\n",
      "operation.substituted.exprMap =  {x: TRUE = (FALSE <=> TRUE), y: FALSE}\n",
      "operation.substituted.exprMap =  {x: TRUE = (FALSE <=> TRUE), y: FALSE}\n",
      "operation.substituted.exprMap =  {x: FALSE <=> TRUE, y: TRUE}\n",
      "operation.substituted.exprMap =  {x: FALSE <=> TRUE, y: TRUE}\n",
      "operation.substituted.exprMap =  {A: (FALSE <=> TRUE) = TRUE}\n",
      "operation.substituted.exprMap =  {A: (FALSE <=> TRUE) = TRUE}\n",
      "operation.substituted.exprMap =  {A: (FALSE <=> TRUE) = TRUE}\n",
      "operation.substituted.exprMap =  {A: FALSE <=> TRUE}\n",
      "operation.substituted.exprMap =  {x: FALSE <=> TRUE, y: TRUE}\n",
      "operation.substituted.exprMap =  {x: FALSE <=> TRUE, y: TRUE}\n",
      "operation.substituted.exprMap =  {A: FALSE, B: TRUE}\n",
      "operation.substituted.exprMap =  {A: FALSE, B: TRUE}\n",
      "operation.substituted.exprMap =  {A: FALSE, B: TRUE}\n",
      "operation.substituted.exprMap =  {x: FALSE, y: FALSE}\n",
      "operation.substituted.exprMap =  {x: FALSE, y: FALSE}\n",
      "operation.substituted.exprMap =  {x: FALSE, y: FALSE}\n",
      "operation.substituted.exprMap =  {x: FALSE, y: FALSE}\n",
      "operation.substituted.exprMap =  {f: _x_ -> _x_, x: FALSE, y: FALSE}\n",
      "operation.substituted.exprMap =  {x: FALSE, y: FALSE}\n",
      "operation.substituted.exprMap =  {x: FALSE, y: FALSE}\n",
      "operation.substituted.exprMap =  {x: FALSE, y: FALSE, f: _x_ -> _x_}\n",
      "operation.substituted.exprMap =  {x: FALSE, y: FALSE, f: _x_ -> _x_}\n",
      "operation.substituted.exprMap =  {x: FALSE, y: FALSE, f: _x_ -> _x_}\n",
      "operation.substituted.exprMap =  {x: FALSE, y: FALSE}\n",
      "operation.substituted.exprMap =  {x: FALSE, y: FALSE}\n",
      "operation.substituted.exprMap =  {x: TRUE, y: TRUE}\n",
      "operation.substituted.exprMap =  {x: TRUE, y: TRUE}\n",
      "operation.substituted.exprMap =  {x: TRUE, y: TRUE}\n",
      "operation.substituted.exprMap =  {x: TRUE, y: TRUE}\n",
      "operation.substituted.exprMap =  {A: TRUE}\n",
      "operation.substituted.exprMap =  {A: TRUE, B: FALSE}\n",
      "operation.substituted.exprMap =  {x: TRUE, y: TRUE}\n",
      "operation.substituted.exprMap =  {x: TRUE, y: TRUE}\n",
      "operation.substituted.exprMap =  {x: TRUE, y: TRUE}\n",
      "operation.substituted.exprMap =  {x: TRUE, y: TRUE}\n",
      "operation.substituted.exprMap =  {x: FALSE <=> TRUE, y: FALSE}\n",
      "operation.substituted.exprMap =  {x: FALSE <=> TRUE, y: FALSE}\n",
      "operation.substituted.exprMap =  {f: _x_ -> _x_, x: FALSE <=> TRUE, y: FALSE}\n",
      "operation.substituted.exprMap =  {x: FALSE <=> TRUE, y: FALSE}\n",
      "operation.substituted.exprMap =  {x: FALSE <=> TRUE, y: FALSE}\n",
      "operation.substituted.exprMap =  {x: FALSE <=> TRUE, y: FALSE, f: _x_ -> _x_}\n",
      "operation.substituted.exprMap =  {x: FALSE <=> TRUE, y: FALSE, f: _x_ -> _x_}\n",
      "operation.substituted.exprMap =  {x: FALSE <=> TRUE, y: FALSE, f: _x_ -> _x_}\n",
      "operation.substituted.exprMap =  {x: FALSE <=> TRUE, y: FALSE}\n",
      "operation.substituted.exprMap =  {x: FALSE <=> TRUE, y: FALSE}\n",
      "operation.substituted.exprMap =  {A: TRUE = (FALSE <=> TRUE)}\n",
      "operation.substituted.exprMap =  {x: TRUE = (FALSE <=> TRUE), y: FALSE}\n",
      "operation.substituted.exprMap =  {x: TRUE = (FALSE <=> TRUE), y: FALSE}\n",
      "operation.substituted.exprMap =  {A: TRUE = (FALSE <=> TRUE)}\n",
      "operation.substituted.exprMap =  {A: TRUE = (FALSE <=> TRUE)}\n",
      "operation.substituted.exprMap =  {x: FALSE <=> TRUE, y: TRUE}\n",
      "operation.substituted.exprMap =  {x: FALSE <=> TRUE, y: TRUE}\n",
      "operation.substituted.exprMap =  {A: FALSE <=> TRUE}\n",
      "operation.substituted.exprMap =  {x: FALSE <=> TRUE, y: TRUE}\n",
      "operation.substituted.exprMap =  {x: FALSE <=> TRUE, y: TRUE}\n",
      "operation.substituted.exprMap =  {A: FALSE, B: TRUE}\n",
      "operation.substituted.exprMap =  {A: FALSE, B: TRUE}\n",
      "operation.substituted.exprMap =  {A: FALSE, B: TRUE}\n",
      "operation.substituted.exprMap =  {x: FALSE, y: FALSE}\n",
      "operation.substituted.exprMap =  {x: FALSE, y: FALSE}\n",
      "operation.substituted.exprMap =  {x: FALSE, y: FALSE}\n",
      "operation.substituted.exprMap =  {x: FALSE, y: FALSE}\n",
      "operation.substituted.exprMap =  {f: _x_ -> _x_, x: FALSE, y: FALSE}\n",
      "operation.substituted.exprMap =  {x: FALSE, y: FALSE}\n",
      "operation.substituted.exprMap =  {x: FALSE, y: FALSE}\n",
      "operation.substituted.exprMap =  {x: FALSE, y: FALSE, f: _x_ -> _x_}\n",
      "operation.substituted.exprMap =  {x: FALSE, y: FALSE, f: _x_ -> _x_}\n",
      "operation.substituted.exprMap =  {x: FALSE, y: FALSE, f: _x_ -> _x_}\n",
      "operation.substituted.exprMap =  {x: FALSE, y: FALSE}\n",
      "operation.substituted.exprMap =  {x: FALSE, y: FALSE}\n",
      "operation.substituted.exprMap =  {x: TRUE, y: TRUE}\n",
      "operation.substituted.exprMap =  {x: TRUE, y: TRUE}\n",
      "operation.substituted.exprMap =  {x: TRUE, y: TRUE}\n",
      "operation.substituted.exprMap =  {x: TRUE, y: TRUE}\n",
      "operation.substituted.exprMap =  {A: TRUE}\n",
      "operation.substituted.exprMap =  {A: TRUE, B: FALSE}\n",
      "operation.substituted.exprMap =  {x: TRUE, y: TRUE}\n",
      "operation.substituted.exprMap =  {x: TRUE, y: TRUE}\n",
      "operation.substituted.exprMap =  {x: TRUE, y: TRUE}\n",
      "operation.substituted.exprMap =  {x: TRUE, y: TRUE}\n"
     ]
    },
    {
     "name": "stdout",
     "output_type": "stream",
     "text": [
      "operation.substituted.exprMap =  {x: FALSE <=> TRUE, y: FALSE}\n",
      "operation.substituted.exprMap =  {x: FALSE <=> TRUE, y: FALSE}\n",
      "operation.substituted.exprMap =  {f: _x_ -> _x_, x: FALSE <=> TRUE, y: FALSE}\n",
      "operation.substituted.exprMap =  {x: FALSE <=> TRUE, y: FALSE}\n",
      "operation.substituted.exprMap =  {x: FALSE <=> TRUE, y: FALSE}\n",
      "operation.substituted.exprMap =  {x: FALSE <=> TRUE, y: FALSE, f: _x_ -> _x_}\n",
      "operation.substituted.exprMap =  {x: FALSE <=> TRUE, y: FALSE, f: _x_ -> _x_}\n",
      "operation.substituted.exprMap =  {x: FALSE <=> TRUE, y: FALSE, f: _x_ -> _x_}\n",
      "operation.substituted.exprMap =  {x: FALSE <=> TRUE, y: FALSE}\n",
      "operation.substituted.exprMap =  {x: FALSE <=> TRUE, y: FALSE}\n",
      "operation.substituted.exprMap =  {A: [not](TRUE = (FALSE <=> TRUE))}\n",
      "operation.substituted.exprMap =  {A: TRUE = (FALSE <=> TRUE)}\n",
      "operation.substituted.exprMap =  {A: TRUE = (FALSE <=> TRUE)}\n",
      "operation.substituted.exprMap =  {A: TRUE = (FALSE <=> TRUE)}\n",
      "operation.substituted.exprMap =  {A: [not](TRUE = (FALSE <=> TRUE))}\n",
      "operation.substituted.exprMap =  {A: [not](TRUE = (FALSE <=> TRUE))}\n",
      "operation.substituted.exprMap =  {A: [not](TRUE = (FALSE <=> TRUE))}\n",
      "operation.substituted.exprMap =  {x: TRUE, y: FALSE <=> TRUE}\n",
      "operation.substituted.exprMap =  {x: TRUE, y: FALSE <=> TRUE}\n",
      "operation.substituted.exprMap =  {x: TRUE, y: FALSE <=> TRUE}\n",
      "operation.substituted.exprMap =  {x: TRUE, y: FALSE <=> TRUE}\n",
      "operation.substituted.exprMap =  {x: TRUE, y: FALSE <=> TRUE}\n",
      "operation.substituted.exprMap =  {x: FALSE <=> TRUE, y: TRUE}\n",
      "operation.substituted.exprMap =  {x: FALSE <=> TRUE, y: TRUE}\n",
      "operation.substituted.exprMap =  {x: FALSE <=> TRUE, y: TRUE}\n",
      "operation.substituted.exprMap =  {x: FALSE <=> TRUE, y: TRUE}\n",
      "operation.substituted.exprMap =  {x: FALSE <=> TRUE, y: TRUE}\n",
      "operation.substituted.exprMap =  {A: (FALSE <=> TRUE) = TRUE}\n",
      "operation.substituted.exprMap =  {A: (FALSE <=> TRUE) = TRUE}\n",
      "operation.substituted.exprMap =  {x: (FALSE <=> TRUE) = TRUE, y: FALSE}\n",
      "operation.substituted.exprMap =  {x: (FALSE <=> TRUE) = TRUE, y: FALSE}\n",
      "operation.substituted.exprMap =  {A: ((FALSE <=> TRUE) = TRUE) = FALSE}\n",
      "operation.substituted.exprMap =  {A: ((FALSE <=> TRUE) = TRUE) = FALSE}\n",
      "operation.substituted.exprMap =  {A: ((FALSE <=> TRUE) = TRUE) = FALSE}\n",
      "operation.substituted.exprMap =  {x: (FALSE <=> TRUE) = TRUE, y: FALSE}\n",
      "operation.substituted.exprMap =  {x: (FALSE <=> TRUE) = TRUE, y: FALSE}\n",
      "operation.substituted.exprMap =  {x: (FALSE <=> TRUE) = TRUE, y: FALSE}\n",
      "operation.substituted.exprMap =  {x: (FALSE <=> TRUE) = TRUE, y: FALSE}\n",
      "operation.substituted.exprMap =  {x: FALSE, y: (FALSE <=> TRUE) = TRUE}\n",
      "operation.substituted.exprMap =  {x: FALSE, y: (FALSE <=> TRUE) = TRUE}\n",
      "operation.substituted.exprMap =  {A: FALSE = ((FALSE <=> TRUE) = TRUE)}\n",
      "operation.substituted.exprMap =  {A: FALSE = ((FALSE <=> TRUE) = TRUE)}\n",
      "operation.substituted.exprMap =  {A: FALSE = ((FALSE <=> TRUE) = TRUE)}\n",
      "operation.substituted.exprMap =  {x: FALSE, y: (FALSE <=> TRUE) = TRUE}\n",
      "operation.substituted.exprMap =  {x: FALSE, y: (FALSE <=> TRUE) = TRUE}\n",
      "operation.substituted.exprMap =  {x: FALSE, y: (FALSE <=> TRUE) = TRUE}\n",
      "operation.substituted.exprMap =  {x: FALSE, y: (FALSE <=> TRUE) = TRUE}\n",
      "operation.substituted.exprMap =  {x: (FALSE <=> TRUE) = TRUE, y: FALSE}\n",
      "operation.substituted.exprMap =  {x: (FALSE <=> TRUE) = TRUE, y: FALSE}\n",
      "operation.substituted.exprMap =  {A: (FALSE <=> TRUE) = TRUE}\n",
      "operation.substituted.exprMap =  {x: (FALSE <=> TRUE) = TRUE, y: FALSE}\n",
      "operation.substituted.exprMap =  {x: (FALSE <=> TRUE) = TRUE, y: FALSE}\n",
      "operation.substituted.exprMap =  {A: FALSE <=> TRUE}\n",
      "operation.substituted.exprMap =  {x: FALSE <=> TRUE, y: TRUE}\n",
      "operation.substituted.exprMap =  {x: FALSE <=> TRUE, y: TRUE}\n",
      "operation.substituted.exprMap =  {A: FALSE, B: TRUE}\n",
      "operation.substituted.exprMap =  {A: FALSE, B: TRUE}\n",
      "operation.substituted.exprMap =  {A: FALSE, B: TRUE}\n",
      "operation.substituted.exprMap =  {x: FALSE, y: FALSE}\n",
      "operation.substituted.exprMap =  {x: FALSE, y: FALSE}\n",
      "operation.substituted.exprMap =  {x: FALSE, y: FALSE}\n",
      "operation.substituted.exprMap =  {x: FALSE, y: FALSE}\n",
      "operation.substituted.exprMap =  {f: _x_ -> _x_, x: FALSE, y: FALSE}\n",
      "operation.substituted.exprMap =  {x: FALSE, y: FALSE}\n",
      "operation.substituted.exprMap =  {x: FALSE, y: FALSE}\n",
      "operation.substituted.exprMap =  {x: FALSE, y: FALSE, f: _x_ -> _x_}\n",
      "operation.substituted.exprMap =  {x: FALSE, y: FALSE, f: _x_ -> _x_}\n",
      "operation.substituted.exprMap =  {x: FALSE, y: FALSE, f: _x_ -> _x_}\n",
      "operation.substituted.exprMap =  {x: FALSE, y: FALSE}\n",
      "operation.substituted.exprMap =  {x: FALSE, y: FALSE}\n",
      "operation.substituted.exprMap =  {x: TRUE, y: TRUE}\n",
      "operation.substituted.exprMap =  {x: TRUE, y: TRUE}\n",
      "operation.substituted.exprMap =  {x: TRUE, y: TRUE}\n",
      "operation.substituted.exprMap =  {x: TRUE, y: TRUE}\n",
      "operation.substituted.exprMap =  {A: TRUE}\n",
      "operation.substituted.exprMap =  {A: TRUE, B: FALSE}\n",
      "operation.substituted.exprMap =  {x: TRUE, y: TRUE}\n",
      "operation.substituted.exprMap =  {x: TRUE, y: TRUE}\n",
      "operation.substituted.exprMap =  {x: TRUE, y: TRUE}\n",
      "operation.substituted.exprMap =  {x: TRUE, y: TRUE}\n",
      "operation.substituted.exprMap =  {x: FALSE <=> TRUE, y: FALSE}\n",
      "operation.substituted.exprMap =  {x: FALSE <=> TRUE, y: FALSE}\n",
      "operation.substituted.exprMap =  {f: _x_ -> _x_, x: FALSE <=> TRUE, y: FALSE}\n",
      "operation.substituted.exprMap =  {x: FALSE <=> TRUE, y: FALSE}\n",
      "operation.substituted.exprMap =  {x: FALSE <=> TRUE, y: FALSE}\n",
      "operation.substituted.exprMap =  {x: FALSE <=> TRUE, y: FALSE, f: _x_ -> _x_}\n",
      "operation.substituted.exprMap =  {x: FALSE <=> TRUE, y: FALSE, f: _x_ -> _x_}\n",
      "operation.substituted.exprMap =  {x: FALSE <=> TRUE, y: FALSE, f: _x_ -> _x_}\n",
      "operation.substituted.exprMap =  {x: FALSE <=> TRUE, y: FALSE}\n",
      "operation.substituted.exprMap =  {x: FALSE <=> TRUE, y: FALSE}\n",
      "operation.substituted.exprMap =  {A: (FALSE <=> TRUE) = TRUE}\n",
      "operation.substituted.exprMap =  {x: (FALSE <=> TRUE) = TRUE, y: FALSE}\n",
      "operation.substituted.exprMap =  {x: (FALSE <=> TRUE) = TRUE, y: FALSE}\n",
      "operation.substituted.exprMap =  {A: (FALSE <=> TRUE) = TRUE}\n",
      "operation.substituted.exprMap =  {A: (FALSE <=> TRUE) = TRUE}\n",
      "operation.substituted.exprMap =  {A: FALSE <=> TRUE}\n",
      "operation.substituted.exprMap =  {x: FALSE <=> TRUE, y: TRUE}\n",
      "operation.substituted.exprMap =  {x: FALSE <=> TRUE, y: TRUE}\n",
      "operation.substituted.exprMap =  {A: FALSE, B: TRUE}\n",
      "operation.substituted.exprMap =  {A: FALSE, B: TRUE}\n",
      "operation.substituted.exprMap =  {A: FALSE, B: TRUE}\n",
      "operation.substituted.exprMap =  {x: FALSE, y: FALSE}\n",
      "operation.substituted.exprMap =  {x: FALSE, y: FALSE}\n",
      "operation.substituted.exprMap =  {x: FALSE, y: FALSE}\n",
      "operation.substituted.exprMap =  {x: FALSE, y: FALSE}\n",
      "operation.substituted.exprMap =  {f: _x_ -> _x_, x: FALSE, y: FALSE}\n",
      "operation.substituted.exprMap =  {x: FALSE, y: FALSE}\n",
      "operation.substituted.exprMap =  {x: FALSE, y: FALSE}\n",
      "operation.substituted.exprMap =  {x: FALSE, y: FALSE, f: _x_ -> _x_}\n",
      "operation.substituted.exprMap =  {x: FALSE, y: FALSE, f: _x_ -> _x_}\n",
      "operation.substituted.exprMap =  {x: FALSE, y: FALSE, f: _x_ -> _x_}\n",
      "operation.substituted.exprMap =  {x: FALSE, y: FALSE}\n",
      "operation.substituted.exprMap =  {x: FALSE, y: FALSE}\n",
      "operation.substituted.exprMap =  {x: TRUE, y: TRUE}\n",
      "operation.substituted.exprMap =  {x: TRUE, y: TRUE}\n",
      "operation.substituted.exprMap =  {x: TRUE, y: TRUE}\n",
      "operation.substituted.exprMap =  {x: TRUE, y: TRUE}\n",
      "operation.substituted.exprMap =  {A: TRUE}\n",
      "operation.substituted.exprMap =  {A: TRUE, B: FALSE}\n",
      "operation.substituted.exprMap =  {x: TRUE, y: TRUE}\n",
      "operation.substituted.exprMap =  {x: TRUE, y: TRUE}\n",
      "operation.substituted.exprMap =  {x: TRUE, y: TRUE}\n",
      "operation.substituted.exprMap =  {x: TRUE, y: TRUE}\n",
      "operation.substituted.exprMap =  {x: FALSE <=> TRUE, y: FALSE}\n",
      "operation.substituted.exprMap =  {x: FALSE <=> TRUE, y: FALSE}\n",
      "operation.substituted.exprMap =  {f: _x_ -> _x_, x: FALSE <=> TRUE, y: FALSE}\n",
      "operation.substituted.exprMap =  {x: FALSE <=> TRUE, y: FALSE}\n",
      "operation.substituted.exprMap =  {x: FALSE <=> TRUE, y: FALSE}\n",
      "operation.substituted.exprMap =  {x: FALSE <=> TRUE, y: FALSE, f: _x_ -> _x_}\n",
      "operation.substituted.exprMap =  {x: FALSE <=> TRUE, y: FALSE, f: _x_ -> _x_}\n",
      "operation.substituted.exprMap =  {x: FALSE <=> TRUE, y: FALSE, f: _x_ -> _x_}\n",
      "operation.substituted.exprMap =  {x: FALSE <=> TRUE, y: FALSE}\n",
      "operation.substituted.exprMap =  {x: FALSE <=> TRUE, y: FALSE}\n",
      "operation.substituted.exprMap =  {A: [not]((FALSE <=> TRUE) = TRUE)}\n",
      "operation.substituted.exprMap =  {A: (FALSE <=> TRUE) = TRUE}\n",
      "operation.substituted.exprMap =  {A: (FALSE <=> TRUE) = TRUE}\n",
      "operation.substituted.exprMap =  {A: (FALSE <=> TRUE) = TRUE}\n",
      "operation.substituted.exprMap =  {A: [not]((FALSE <=> TRUE) = TRUE)}\n",
      "operation.substituted.exprMap =  {A: [not]((FALSE <=> TRUE) = TRUE)}\n",
      "operation.substituted.exprMap =  {A: [not]((FALSE <=> TRUE) = TRUE)}\n",
      "operation.substituted.exprMap =  {x: FALSE <=> TRUE, y: TRUE}\n",
      "operation.substituted.exprMap =  {x: FALSE <=> TRUE, y: TRUE}\n",
      "operation.substituted.exprMap =  {x: FALSE <=> TRUE, y: TRUE}\n",
      "operation.substituted.exprMap =  {x: FALSE <=> TRUE, y: TRUE}\n",
      "operation.substituted.exprMap =  {x: FALSE <=> TRUE, y: TRUE}\n",
      "operation.substituted.exprMap =  {A: FALSE <=> TRUE}\n",
      "operation.substituted.exprMap =  {A: FALSE, B: TRUE}\n",
      "operation.substituted.exprMap =  {A: FALSE, B: TRUE}\n",
      "operation.substituted.exprMap =  {A: FALSE, B: TRUE}\n",
      "operation.substituted.exprMap =  {x: FALSE, y: FALSE}\n",
      "operation.substituted.exprMap =  {x: FALSE, y: FALSE}\n"
     ]
    },
    {
     "name": "stdout",
     "output_type": "stream",
     "text": [
      "operation.substituted.exprMap =  {x: FALSE, y: FALSE}\n",
      "operation.substituted.exprMap =  {x: FALSE, y: FALSE}\n",
      "operation.substituted.exprMap =  {f: _x_ -> _x_, x: FALSE, y: FALSE}\n",
      "operation.substituted.exprMap =  {x: FALSE, y: FALSE}\n",
      "operation.substituted.exprMap =  {x: FALSE, y: FALSE}\n",
      "operation.substituted.exprMap =  {x: FALSE, y: FALSE, f: _x_ -> _x_}\n",
      "operation.substituted.exprMap =  {x: FALSE, y: FALSE, f: _x_ -> _x_}\n",
      "operation.substituted.exprMap =  {x: FALSE, y: FALSE, f: _x_ -> _x_}\n",
      "operation.substituted.exprMap =  {x: FALSE, y: FALSE}\n",
      "operation.substituted.exprMap =  {x: FALSE, y: FALSE}\n",
      "operation.substituted.exprMap =  {x: TRUE, y: TRUE}\n",
      "operation.substituted.exprMap =  {x: TRUE, y: TRUE}\n",
      "operation.substituted.exprMap =  {x: TRUE, y: TRUE}\n",
      "operation.substituted.exprMap =  {x: TRUE, y: TRUE}\n",
      "operation.substituted.exprMap =  {A: TRUE}\n",
      "operation.substituted.exprMap =  {A: TRUE, B: FALSE}\n",
      "operation.substituted.exprMap =  {x: TRUE, y: TRUE}\n",
      "operation.substituted.exprMap =  {x: TRUE, y: TRUE}\n",
      "operation.substituted.exprMap =  {x: TRUE, y: TRUE}\n",
      "operation.substituted.exprMap =  {x: TRUE, y: TRUE}\n",
      "operation.substituted.exprMap =  {A: [not](FALSE <=> TRUE)}\n",
      "operation.substituted.exprMap =  {A: FALSE <=> TRUE}\n",
      "operation.substituted.exprMap =  {A: FALSE <=> TRUE}\n",
      "operation.substituted.exprMap =  {A: FALSE <=> TRUE}\n",
      "operation.substituted.exprMap =  {A: FALSE <=> TRUE}\n",
      "operation.substituted.exprMap =  {A: FALSE <=> TRUE}\n",
      "operation.substituted.exprMap =  {A: FALSE <=> TRUE}\n",
      "operation.substituted.exprMap =  {A: [not](FALSE <=> TRUE)}\n",
      "operation.substituted.exprMap =  {A: [not](FALSE <=> TRUE)}\n",
      "operation.substituted.exprMap =  {A: [not](FALSE <=> TRUE)}\n",
      "operation.substituted.exprMap =  {}\n",
      "operation.substituted.exprMap =  {}\n",
      "operation.substituted.exprMap =  {}\n",
      "operation.substituted.exprMap =  {}\n",
      "operation.substituted.exprMap =  {}\n",
      "operation.substituted.exprMap =  {}\n",
      "operation.substituted.exprMap =  {}\n",
      "operation.substituted.exprMap =  {}\n",
      "operation.substituted.exprMap =  {}\n",
      "operation.substituted.exprMap =  {}\n",
      "operation.substituted.exprMap =  {}\n",
      "operation.substituted.exprMap =  {}\n",
      "operation.substituted.exprMap =  {}\n",
      "operation.substituted.exprMap =  {}\n",
      "operation.substituted.exprMap =  {}\n",
      "operation.substituted.exprMap =  {}\n",
      "operation.substituted.exprMap =  {}\n",
      "operation.substituted.exprMap =  {}\n",
      "operation.substituted.exprMap =  {A: TRUE, B: FALSE}\n",
      "operation.substituted.exprMap =  {A: TRUE, B: FALSE}\n",
      "operation.substituted.exprMap =  {A: TRUE, B: FALSE}\n",
      "operation.substituted.exprMap =  {A: TRUE, B: FALSE}\n",
      "operation.substituted.exprMap =  {}\n",
      "operation.substituted.exprMap =  {}\n",
      "operation.substituted.exprMap =  {}\n",
      "operation.substituted.exprMap =  {}\n",
      "operation.substituted.exprMap =  {}\n",
      "operation.substituted.exprMap =  {}\n",
      "operation.substituted.exprMap =  {}\n",
      "operation.substituted.exprMap =  {}\n",
      "operation.substituted.exprMap =  {}\n",
      "operation.substituted.exprMap =  {}\n",
      "operation.substituted.exprMap =  {}\n",
      "operation.substituted.exprMap =  {}\n",
      "operation.substituted.exprMap =  {}\n",
      "operation.substituted.exprMap =  {}\n",
      "operation.substituted.exprMap =  {A: TRUE, B: FALSE}\n",
      "operation.substituted.exprMap =  {A: TRUE, B: FALSE}\n",
      "operation.substituted.exprMap =  {A: TRUE, B: FALSE}\n",
      "operation.substituted.exprMap =  {x: B, y: TRUE}\n",
      "operation.substituted.exprMap =  {x: B, y: TRUE}\n",
      "operation.substituted.exprMap =  {A: B = TRUE}\n",
      "operation.substituted.exprMap =  {A: B = TRUE}\n",
      "operation.substituted.exprMap =  {A: B = TRUE}\n",
      "operation.substituted.exprMap =  {A: B}\n",
      "operation.substituted.exprMap =  {x: B, y: TRUE}\n",
      "operation.substituted.exprMap =  {x: B, y: TRUE}\n",
      "operation.substituted.exprMap =  {x: B, y: TRUE}\n",
      "operation.substituted.exprMap =  {x: B, y: TRUE}\n",
      "operation.substituted.exprMap =  {x: B, y: TRUE}\n",
      "operation.substituted.exprMap =  {x: B, y: TRUE}\n",
      "operation.substituted.exprMap =  {x: TRUE, y: B}\n",
      "operation.substituted.exprMap =  {x: TRUE, y: B}\n",
      "operation.substituted.exprMap =  {A: TRUE = B}\n",
      "operation.substituted.exprMap =  {A: TRUE = B}\n",
      "operation.substituted.exprMap =  {A: TRUE = B}\n",
      "operation.substituted.exprMap =  {x: TRUE, y: B}\n",
      "operation.substituted.exprMap =  {x: TRUE, y: B}\n",
      "operation.substituted.exprMap =  {x: TRUE, y: B}\n",
      "operation.substituted.exprMap =  {x: TRUE, y: B}\n",
      "operation.substituted.exprMap =  {x: B, y: TRUE}\n",
      "operation.substituted.exprMap =  {x: B, y: TRUE}\n",
      "operation.substituted.exprMap =  {A: B}\n",
      "operation.substituted.exprMap =  {x: B, y: TRUE}\n",
      "operation.substituted.exprMap =  {x: B, y: TRUE}\n",
      "operation.substituted.exprMap =  {B: _x_}\n",
      "operation.substituted.exprMap =  {}\n",
      "operation.substituted.exprMap =  {f: _x_ -> (_x_ => C), x: B, y: TRUE}\n",
      "operation.substituted.exprMap =  {x: B, y: TRUE}\n",
      "operation.substituted.exprMap =  {x: B, y: TRUE}\n",
      "operation.substituted.exprMap =  {x: B, y: TRUE, f: _x_ -> (_x_ => C)}\n",
      "operation.substituted.exprMap =  {x: B, y: TRUE, f: _x_ -> (_x_ => C)}\n",
      "operation.substituted.exprMap =  {_x_: B}\n",
      "operation.substituted.exprMap =  {x: B, y: TRUE, f: _x_ -> (_x_ => C)}\n",
      "operation.substituted.exprMap =  {_x_: TRUE}\n",
      "operation.substituted.exprMap =  {x: B => C, y: TRUE => C}\n",
      "operation.substituted.exprMap =  {x: B => C, y: TRUE => C}\n",
      "operation.substituted.exprMap =  {A: (B => C) = (TRUE => C)}\n",
      "operation.substituted.exprMap =  {A: (B => C) = (TRUE => C)}\n",
      "operation.substituted.exprMap =  {A: (B => C) = (TRUE => C)}\n",
      "operation.substituted.exprMap =  {x: B => C, y: TRUE => C}\n",
      "operation.substituted.exprMap =  {x: B => C, y: TRUE => C}\n",
      "operation.substituted.exprMap =  {x: B => C, y: TRUE => C}\n",
      "operation.substituted.exprMap =  {x: B => C, y: TRUE => C}\n",
      "operation.substituted.exprMap =  {x: TRUE => C, y: B => C}\n",
      "operation.substituted.exprMap =  {x: TRUE => C, y: B => C}\n",
      "operation.substituted.exprMap =  {A: (TRUE => C) = (B => C)}\n",
      "operation.substituted.exprMap =  {A: (TRUE => C) = (B => C)}\n",
      "operation.substituted.exprMap =  {A: (TRUE => C) = (B => C)}\n",
      "operation.substituted.exprMap =  {x: TRUE => C, y: B => C}\n",
      "operation.substituted.exprMap =  {x: TRUE => C, y: B => C}\n",
      "operation.substituted.exprMap =  {x: TRUE => C, y: B => C}\n",
      "operation.substituted.exprMap =  {x: TRUE => C, y: B => C}\n",
      "operation.substituted.exprMap =  {x: B => C, y: TRUE => C}\n",
      "operation.substituted.exprMap =  {x: B => C, y: TRUE => C}\n",
      "operation.substituted.exprMap =  {x: A, y: TRUE}\n",
      "operation.substituted.exprMap =  {x: A, y: TRUE}\n",
      "operation.substituted.exprMap =  {A: A = TRUE}\n",
      "operation.substituted.exprMap =  {A: A = TRUE}\n",
      "operation.substituted.exprMap =  {A: A = TRUE}\n",
      "operation.substituted.exprMap =  {x: B, y: TRUE}\n",
      "operation.substituted.exprMap =  {x: B, y: TRUE}\n"
     ]
    },
    {
     "data": {
      "text/html": [
       "<strong id=\"cascadingImpl\">cascadingImpl:</strong> <span style=\"font-size:20px;\"> &#x22A2;&nbsp;<a class=\"ProveItLink\" href=\"__pv_it/afa1c0e6d0abb4443a94b8664b10b511ae8a03110/expr.ipynb\"><img src=\"__pv_it/afa1c0e6d0abb4443a94b8664b10b511ae8a03110/expr.png\" style=\"display:inline;vertical-align:middle;\" /></a></span><br>"
      ],
      "text/plain": [
       "cascadingImpl: |- A => (B => ((A => (B => C)) => C))"
      ]
     },
     "execution_count": 36,
     "metadata": {},
     "output_type": "execute_result"
    }
   ],
   "source": [
    "cascadingImpl = CfromNestedImpl.asImplication(nestedImpl).asImplication(B).asImplication(A)"
   ]
  },
  {
   "cell_type": "markdown",
   "metadata": {},
   "source": [
    "Convincing yourself that this is correct is left as an exercise to the reader (you could make a truth table and/or check the logic that got us to this point).  In any case, now we will demonstrate cyclic relabeling."
   ]
  },
  {
   "cell_type": "code",
   "execution_count": 37,
   "metadata": {},
   "outputs": [
    {
     "name": "stdout",
     "output_type": "stream",
     "text": [
      "operation.substituted.exprMap =  {}\n",
      "operation.substituted.exprMap =  {}\n",
      "operation.substituted.exprMap =  {}\n",
      "operation.substituted.exprMap =  {}\n",
      "operation.substituted.exprMap =  {}\n"
     ]
    },
    {
     "data": {
      "text/html": [
       "<strong id=\"relabeledCascadingImpl\">relabeledCascadingImpl:</strong> <span style=\"font-size:20px;\"> &#x22A2;&nbsp;<a class=\"ProveItLink\" href=\"__pv_it/96888aef4fe0321f02ec9e0fbc807282503d81af0/expr.ipynb\"><img src=\"__pv_it/96888aef4fe0321f02ec9e0fbc807282503d81af0/expr.png\" style=\"display:inline;vertical-align:middle;\" /></a></span><br>"
      ],
      "text/plain": [
       "relabeledCascadingImpl: |- B => (C => ((B => (C => A)) => A))"
      ]
     },
     "execution_count": 37,
     "metadata": {},
     "output_type": "execute_result"
    }
   ],
   "source": [
    "relabeledCascadingImpl = cascadingImpl.relabel({A:B, B:C, C:A})"
   ]
  },
  {
   "cell_type": "markdown",
   "metadata": {},
   "source": [
    "Let us look at this proof:"
   ]
  },
  {
   "cell_type": "code",
   "execution_count": 38,
   "metadata": {},
   "outputs": [
    {
     "data": {
      "text/html": [
       "<table><tr><th>&nbsp;</th><th>step type</th><th>requirements</th><th>statement</th></tr>\n",
       "<tr><td>0</td><td>relabeling</td><td>1</td><td><span style=\"font-size:20px;\"> &#x22A2;&nbsp;<a class=\"ProveItLink\" href=\"__pv_it/96888aef4fe0321f02ec9e0fbc807282503d81af0/expr.ipynb\"><img src=\"__pv_it/96888aef4fe0321f02ec9e0fbc807282503d81af0/expr.png\" style=\"display:inline;vertical-align:middle;\" /></a></span></td></tr>\n",
       "<tr><td>&nbsp;</td><td colspan=4 style=\"text-align:left\"><span style=\"font-size:20px;\"><a class=\"ProveItLink\" href=\"../packages/proveit/__pv_it/2cbe72a7ad6f655694dd697106680215e8489b600/expr.ipynb\"><img src=\"../packages/proveit/__pv_it/2cbe72a7ad6f655694dd697106680215e8489b600/expr.png\" style=\"display:inline;vertical-align:middle;\" /></a> : <a class=\"ProveItLink\" href=\"../packages/proveit/__pv_it/077b2ff79244fb4582cbe22c6e3356fa92a52f2f0/expr.ipynb\"><img src=\"../packages/proveit/__pv_it/077b2ff79244fb4582cbe22c6e3356fa92a52f2f0/expr.png\" style=\"display:inline;vertical-align:middle;\" /></a>, <a class=\"ProveItLink\" href=\"../packages/proveit/__pv_it/077b2ff79244fb4582cbe22c6e3356fa92a52f2f0/expr.ipynb\"><img src=\"../packages/proveit/__pv_it/077b2ff79244fb4582cbe22c6e3356fa92a52f2f0/expr.png\" style=\"display:inline;vertical-align:middle;\" /></a> : <a class=\"ProveItLink\" href=\"../packages/proveit/__pv_it/985a1bdf1540838275dec15f4ad6de261cca93ce0/expr.ipynb\"><img src=\"../packages/proveit/__pv_it/985a1bdf1540838275dec15f4ad6de261cca93ce0/expr.png\" style=\"display:inline;vertical-align:middle;\" /></a>, <a class=\"ProveItLink\" href=\"../packages/proveit/__pv_it/985a1bdf1540838275dec15f4ad6de261cca93ce0/expr.ipynb\"><img src=\"../packages/proveit/__pv_it/985a1bdf1540838275dec15f4ad6de261cca93ce0/expr.png\" style=\"display:inline;vertical-align:middle;\" /></a> : <a class=\"ProveItLink\" href=\"../packages/proveit/__pv_it/2cbe72a7ad6f655694dd697106680215e8489b600/expr.ipynb\"><img src=\"../packages/proveit/__pv_it/2cbe72a7ad6f655694dd697106680215e8489b600/expr.png\" style=\"display:inline;vertical-align:middle;\" /></a></span></td></tr><tr><td>1</td><td>hypothetical reasoning</td><td>2</td><td><span style=\"font-size:20px;\"> &#x22A2;&nbsp;<a class=\"ProveItLink\" href=\"__pv_it/afa1c0e6d0abb4443a94b8664b10b511ae8a03110/expr.ipynb\"><img src=\"__pv_it/afa1c0e6d0abb4443a94b8664b10b511ae8a03110/expr.png\" style=\"display:inline;vertical-align:middle;\" /></a></span></td></tr>\n",
       "<tr><td>2</td><td>hypothetical reasoning</td><td>3</td><td><span style=\"font-size:20px;\"><a class=\"ProveItLink\" href=\"__pv_it/158bdc91074824c720728a23dba5d58593c8cc480/expr.ipynb\"><img src=\"__pv_it/158bdc91074824c720728a23dba5d58593c8cc480/expr.png\" style=\"display:inline;vertical-align:middle;\" /></a> &#x22A2;&nbsp;<a class=\"ProveItLink\" href=\"__pv_it/76075210eb78ca55aac33dc62ad5dcb364c5dc700/expr.ipynb\"><img src=\"__pv_it/76075210eb78ca55aac33dc62ad5dcb364c5dc700/expr.png\" style=\"display:inline;vertical-align:middle;\" /></a></span></td></tr>\n",
       "<tr><td>3</td><td>hypothetical reasoning</td><td>4</td><td><span style=\"font-size:20px;\"><a class=\"ProveItLink\" href=\"__pv_it/5cd9b33b88e1a628ed00ab113cff428eab1aa3cc0/expr.ipynb\"><img src=\"__pv_it/5cd9b33b88e1a628ed00ab113cff428eab1aa3cc0/expr.png\" style=\"display:inline;vertical-align:middle;\" /></a> &#x22A2;&nbsp;<a class=\"ProveItLink\" href=\"__pv_it/1d467b424f18c70fb33e47756e595dbfcf5161820/expr.ipynb\"><img src=\"__pv_it/1d467b424f18c70fb33e47756e595dbfcf5161820/expr.png\" style=\"display:inline;vertical-align:middle;\" /></a></span></td></tr>\n",
       "<tr><td>4</td><td>modus ponens</td><td>5, 6</td><td><span style=\"font-size:20px;\"><a class=\"ProveItLink\" href=\"__pv_it/6ead5107cfaaf8790db35e84ec4393a9b1cd356e0/expr.ipynb\"><img src=\"__pv_it/6ead5107cfaaf8790db35e84ec4393a9b1cd356e0/expr.png\" style=\"display:inline;vertical-align:middle;\" /></a> &#x22A2;&nbsp;<a class=\"ProveItLink\" href=\"../packages/proveit/__pv_it/985a1bdf1540838275dec15f4ad6de261cca93ce0/expr.ipynb\"><img src=\"../packages/proveit/__pv_it/985a1bdf1540838275dec15f4ad6de261cca93ce0/expr.png\" style=\"display:inline;vertical-align:middle;\" /></a></span></td></tr>\n",
       "<tr><td>5</td><td>modus ponens</td><td>7, 8</td><td><span style=\"font-size:20px;\"><a class=\"ProveItLink\" href=\"__pv_it/52bd2565e36c49449a6974c5da771dd21e90d03e0/expr.ipynb\"><img src=\"__pv_it/52bd2565e36c49449a6974c5da771dd21e90d03e0/expr.png\" style=\"display:inline;vertical-align:middle;\" /></a> &#x22A2;&nbsp;<a class=\"ProveItLink\" href=\"__pv_it/318ec56dfe326b491d8f5311d25e366580d46fdd0/expr.ipynb\"><img src=\"__pv_it/318ec56dfe326b491d8f5311d25e366580d46fdd0/expr.png\" style=\"display:inline;vertical-align:middle;\" /></a></span></td></tr>\n",
       "<tr><td>6</td><td>assumption</td><td></td><td><span style=\"font-size:20px;\"><a class=\"ProveItLink\" href=\"__pv_it/1612ee39be24e00576045a5f0471ba42a9eab2970/expr.ipynb\"><img src=\"__pv_it/1612ee39be24e00576045a5f0471ba42a9eab2970/expr.png\" style=\"display:inline;vertical-align:middle;\" /></a> &#x22A2;&nbsp;<a class=\"ProveItLink\" href=\"../packages/proveit/__pv_it/077b2ff79244fb4582cbe22c6e3356fa92a52f2f0/expr.ipynb\"><img src=\"../packages/proveit/__pv_it/077b2ff79244fb4582cbe22c6e3356fa92a52f2f0/expr.png\" style=\"display:inline;vertical-align:middle;\" /></a></span></td></tr>\n",
       "<tr><td>7</td><td>assumption</td><td></td><td><span style=\"font-size:20px;\"><a class=\"ProveItLink\" href=\"__pv_it/83f8c6ae742b1055ddd92b2e3844fde6f3c7726c0/expr.ipynb\"><img src=\"__pv_it/83f8c6ae742b1055ddd92b2e3844fde6f3c7726c0/expr.png\" style=\"display:inline;vertical-align:middle;\" /></a> &#x22A2;&nbsp;<a class=\"ProveItLink\" href=\"__pv_it/9488ee792e0b5d7105f5afbdb46e950ac1fc8c330/expr.ipynb\"><img src=\"__pv_it/9488ee792e0b5d7105f5afbdb46e950ac1fc8c330/expr.png\" style=\"display:inline;vertical-align:middle;\" /></a></span></td></tr>\n",
       "<tr><td>8</td><td>assumption</td><td></td><td><span style=\"font-size:20px;\"><a class=\"ProveItLink\" href=\"__pv_it/158bdc91074824c720728a23dba5d58593c8cc480/expr.ipynb\"><img src=\"__pv_it/158bdc91074824c720728a23dba5d58593c8cc480/expr.png\" style=\"display:inline;vertical-align:middle;\" /></a> &#x22A2;&nbsp;<a class=\"ProveItLink\" href=\"../packages/proveit/__pv_it/2cbe72a7ad6f655694dd697106680215e8489b600/expr.ipynb\"><img src=\"../packages/proveit/__pv_it/2cbe72a7ad6f655694dd697106680215e8489b600/expr.png\" style=\"display:inline;vertical-align:middle;\" /></a></span></td></tr>\n",
       "</table>"
      ],
      "text/plain": [
       "\tstep type\trequirements\tstatement\n",
       "0\trelabeling\t1\t|- B => (C => ((B => (C => A)) => A))\n",
       "\tA : B, B : C, C : A\n",
       "1\thypothetical reasoning\t2\t|- A => (B => ((A => (B => C)) => C))\n",
       "2\thypothetical reasoning\t3\t{A} |- B => ((A => (B => C)) => C)\n",
       "3\thypothetical reasoning\t4\t{A , B} |- (A => (B => C)) => C\n",
       "4\tmodus ponens\t5, 6\t{A => (B => C) , A , B} |- C\n",
       "5\tmodus ponens\t7, 8\t{A => (B => C) , A} |- B => C\n",
       "6\tassumption\t\t{B} |- B\n",
       "7\tassumption\t\t{A => (B => C)} |- A => (B => C)\n",
       "8\tassumption\t\t{A} |- A"
      ]
     },
     "execution_count": 38,
     "metadata": {},
     "output_type": "execute_result"
    }
   ],
   "source": [
    "relabeledCascadingImpl.proof()"
   ]
  },
  {
   "cell_type": "markdown",
   "metadata": {},
   "source": [
    "## Duplicated relabeling\n",
    "\n",
    "It is possible to relabel multiple **Variable**s to the same **Variable** to derive a **KnownTruth** that is weaker than the original statement."
   ]
  },
  {
   "cell_type": "code",
   "execution_count": 39,
   "metadata": {},
   "outputs": [
    {
     "name": "stdout",
     "output_type": "stream",
     "text": [
      "operation.substituted.exprMap =  {}\n",
      "operation.substituted.exprMap =  {}\n",
      "operation.substituted.exprMap =  {}\n",
      "operation.substituted.exprMap =  {}\n",
      "operation.substituted.exprMap =  {}\n"
     ]
    },
    {
     "data": {
      "text/html": [
       "<strong id=\"redundantCascadingImpl\">redundantCascadingImpl:</strong> <span style=\"font-size:20px;\"> &#x22A2;&nbsp;<a class=\"ProveItLink\" href=\"__pv_it/cd0c787fb7a0b3b371c668e4d0994c9d3f603f940/expr.ipynb\"><img src=\"__pv_it/cd0c787fb7a0b3b371c668e4d0994c9d3f603f940/expr.png\" style=\"display:inline;vertical-align:middle;\" /></a></span><br>"
      ],
      "text/plain": [
       "redundantCascadingImpl: |- B => (B => ((B => (B => C)) => C))"
      ]
     },
     "execution_count": 39,
     "metadata": {},
     "output_type": "execute_result"
    }
   ],
   "source": [
    "redundantCascadingImpl = cascadingImpl.relabel({A:B})"
   ]
  },
  {
   "cell_type": "code",
   "execution_count": 40,
   "metadata": {},
   "outputs": [
    {
     "data": {
      "text/html": [
       "<table><tr><th>&nbsp;</th><th>step type</th><th>requirements</th><th>statement</th></tr>\n",
       "<tr><td>0</td><td>relabeling</td><td>1</td><td><span style=\"font-size:20px;\"> &#x22A2;&nbsp;<a class=\"ProveItLink\" href=\"__pv_it/cd0c787fb7a0b3b371c668e4d0994c9d3f603f940/expr.ipynb\"><img src=\"__pv_it/cd0c787fb7a0b3b371c668e4d0994c9d3f603f940/expr.png\" style=\"display:inline;vertical-align:middle;\" /></a></span></td></tr>\n",
       "<tr><td>&nbsp;</td><td colspan=4 style=\"text-align:left\"><span style=\"font-size:20px;\"><a class=\"ProveItLink\" href=\"../packages/proveit/__pv_it/2cbe72a7ad6f655694dd697106680215e8489b600/expr.ipynb\"><img src=\"../packages/proveit/__pv_it/2cbe72a7ad6f655694dd697106680215e8489b600/expr.png\" style=\"display:inline;vertical-align:middle;\" /></a> : <a class=\"ProveItLink\" href=\"../packages/proveit/__pv_it/077b2ff79244fb4582cbe22c6e3356fa92a52f2f0/expr.ipynb\"><img src=\"../packages/proveit/__pv_it/077b2ff79244fb4582cbe22c6e3356fa92a52f2f0/expr.png\" style=\"display:inline;vertical-align:middle;\" /></a></span></td></tr><tr><td>1</td><td>hypothetical reasoning</td><td>2</td><td><span style=\"font-size:20px;\"> &#x22A2;&nbsp;<a class=\"ProveItLink\" href=\"__pv_it/afa1c0e6d0abb4443a94b8664b10b511ae8a03110/expr.ipynb\"><img src=\"__pv_it/afa1c0e6d0abb4443a94b8664b10b511ae8a03110/expr.png\" style=\"display:inline;vertical-align:middle;\" /></a></span></td></tr>\n",
       "<tr><td>2</td><td>hypothetical reasoning</td><td>3</td><td><span style=\"font-size:20px;\"><a class=\"ProveItLink\" href=\"__pv_it/158bdc91074824c720728a23dba5d58593c8cc480/expr.ipynb\"><img src=\"__pv_it/158bdc91074824c720728a23dba5d58593c8cc480/expr.png\" style=\"display:inline;vertical-align:middle;\" /></a> &#x22A2;&nbsp;<a class=\"ProveItLink\" href=\"__pv_it/76075210eb78ca55aac33dc62ad5dcb364c5dc700/expr.ipynb\"><img src=\"__pv_it/76075210eb78ca55aac33dc62ad5dcb364c5dc700/expr.png\" style=\"display:inline;vertical-align:middle;\" /></a></span></td></tr>\n",
       "<tr><td>3</td><td>hypothetical reasoning</td><td>4</td><td><span style=\"font-size:20px;\"><a class=\"ProveItLink\" href=\"__pv_it/5cd9b33b88e1a628ed00ab113cff428eab1aa3cc0/expr.ipynb\"><img src=\"__pv_it/5cd9b33b88e1a628ed00ab113cff428eab1aa3cc0/expr.png\" style=\"display:inline;vertical-align:middle;\" /></a> &#x22A2;&nbsp;<a class=\"ProveItLink\" href=\"__pv_it/1d467b424f18c70fb33e47756e595dbfcf5161820/expr.ipynb\"><img src=\"__pv_it/1d467b424f18c70fb33e47756e595dbfcf5161820/expr.png\" style=\"display:inline;vertical-align:middle;\" /></a></span></td></tr>\n",
       "<tr><td>4</td><td>modus ponens</td><td>5, 6</td><td><span style=\"font-size:20px;\"><a class=\"ProveItLink\" href=\"__pv_it/6ead5107cfaaf8790db35e84ec4393a9b1cd356e0/expr.ipynb\"><img src=\"__pv_it/6ead5107cfaaf8790db35e84ec4393a9b1cd356e0/expr.png\" style=\"display:inline;vertical-align:middle;\" /></a> &#x22A2;&nbsp;<a class=\"ProveItLink\" href=\"../packages/proveit/__pv_it/985a1bdf1540838275dec15f4ad6de261cca93ce0/expr.ipynb\"><img src=\"../packages/proveit/__pv_it/985a1bdf1540838275dec15f4ad6de261cca93ce0/expr.png\" style=\"display:inline;vertical-align:middle;\" /></a></span></td></tr>\n",
       "<tr><td>5</td><td>modus ponens</td><td>7, 8</td><td><span style=\"font-size:20px;\"><a class=\"ProveItLink\" href=\"__pv_it/52bd2565e36c49449a6974c5da771dd21e90d03e0/expr.ipynb\"><img src=\"__pv_it/52bd2565e36c49449a6974c5da771dd21e90d03e0/expr.png\" style=\"display:inline;vertical-align:middle;\" /></a> &#x22A2;&nbsp;<a class=\"ProveItLink\" href=\"__pv_it/318ec56dfe326b491d8f5311d25e366580d46fdd0/expr.ipynb\"><img src=\"__pv_it/318ec56dfe326b491d8f5311d25e366580d46fdd0/expr.png\" style=\"display:inline;vertical-align:middle;\" /></a></span></td></tr>\n",
       "<tr><td>6</td><td>assumption</td><td></td><td><span style=\"font-size:20px;\"><a class=\"ProveItLink\" href=\"__pv_it/1612ee39be24e00576045a5f0471ba42a9eab2970/expr.ipynb\"><img src=\"__pv_it/1612ee39be24e00576045a5f0471ba42a9eab2970/expr.png\" style=\"display:inline;vertical-align:middle;\" /></a> &#x22A2;&nbsp;<a class=\"ProveItLink\" href=\"../packages/proveit/__pv_it/077b2ff79244fb4582cbe22c6e3356fa92a52f2f0/expr.ipynb\"><img src=\"../packages/proveit/__pv_it/077b2ff79244fb4582cbe22c6e3356fa92a52f2f0/expr.png\" style=\"display:inline;vertical-align:middle;\" /></a></span></td></tr>\n",
       "<tr><td>7</td><td>assumption</td><td></td><td><span style=\"font-size:20px;\"><a class=\"ProveItLink\" href=\"__pv_it/83f8c6ae742b1055ddd92b2e3844fde6f3c7726c0/expr.ipynb\"><img src=\"__pv_it/83f8c6ae742b1055ddd92b2e3844fde6f3c7726c0/expr.png\" style=\"display:inline;vertical-align:middle;\" /></a> &#x22A2;&nbsp;<a class=\"ProveItLink\" href=\"__pv_it/9488ee792e0b5d7105f5afbdb46e950ac1fc8c330/expr.ipynb\"><img src=\"__pv_it/9488ee792e0b5d7105f5afbdb46e950ac1fc8c330/expr.png\" style=\"display:inline;vertical-align:middle;\" /></a></span></td></tr>\n",
       "<tr><td>8</td><td>assumption</td><td></td><td><span style=\"font-size:20px;\"><a class=\"ProveItLink\" href=\"__pv_it/158bdc91074824c720728a23dba5d58593c8cc480/expr.ipynb\"><img src=\"__pv_it/158bdc91074824c720728a23dba5d58593c8cc480/expr.png\" style=\"display:inline;vertical-align:middle;\" /></a> &#x22A2;&nbsp;<a class=\"ProveItLink\" href=\"../packages/proveit/__pv_it/2cbe72a7ad6f655694dd697106680215e8489b600/expr.ipynb\"><img src=\"../packages/proveit/__pv_it/2cbe72a7ad6f655694dd697106680215e8489b600/expr.png\" style=\"display:inline;vertical-align:middle;\" /></a></span></td></tr>\n",
       "</table>"
      ],
      "text/plain": [
       "\tstep type\trequirements\tstatement\n",
       "0\trelabeling\t1\t|- B => (B => ((B => (B => C)) => C))\n",
       "\tA : B\n",
       "1\thypothetical reasoning\t2\t|- A => (B => ((A => (B => C)) => C))\n",
       "2\thypothetical reasoning\t3\t{A} |- B => ((A => (B => C)) => C)\n",
       "3\thypothetical reasoning\t4\t{A , B} |- (A => (B => C)) => C\n",
       "4\tmodus ponens\t5, 6\t{A => (B => C) , A , B} |- C\n",
       "5\tmodus ponens\t7, 8\t{A => (B => C) , A} |- B => C\n",
       "6\tassumption\t\t{B} |- B\n",
       "7\tassumption\t\t{A => (B => C)} |- A => (B => C)\n",
       "8\tassumption\t\t{A} |- A"
      ]
     },
     "execution_count": 40,
     "metadata": {},
     "output_type": "execute_result"
    }
   ],
   "source": [
    "redundantCascadingImpl.proof()"
   ]
  },
  {
   "cell_type": "markdown",
   "metadata": {},
   "source": [
    "## Literals cannot be relabeled\n",
    "\n",
    "We saw that **Literals** cannot be relabeled in *expression relabeling* in the <a href=\"tutorial01_basic_expr.ipynb\">basic expressions chapter</a>.  Let us revisit this and verify that we cannot perform a relabeling derivation step."
   ]
  },
  {
   "cell_type": "code",
   "execution_count": 41,
   "metadata": {},
   "outputs": [
    {
     "data": {
      "text/html": [
       "<strong id=\"X\">X:</strong> <a class=\"ProveItLink\" href=\"__pv_it/6e1b408243d9b1d364bd9ad249c1e854d92ba3a50/expr.ipynb\"><img src=\"__pv_it/6e1b408243d9b1d364bd9ad249c1e854d92ba3a50/expr.png\" style=\"display:inline;vertical-align:middle;\" /></a><br>\n",
       "<strong id=\"Y\">Y:</strong> <a class=\"ProveItLink\" href=\"__pv_it/6cc660794416efade8d57c502e2b99e8c6a1df6d0/expr.ipynb\"><img src=\"__pv_it/6cc660794416efade8d57c502e2b99e8c6a1df6d0/expr.png\" style=\"display:inline;vertical-align:middle;\" /></a><br>\n",
       "<strong id=\"Z\">Z:</strong> <a class=\"ProveItLink\" href=\"__pv_it/01fa066582b7adbef724608a37ea3a7e68200f710/expr.ipynb\"><img src=\"__pv_it/01fa066582b7adbef724608a37ea3a7e68200f710/expr.png\" style=\"display:inline;vertical-align:middle;\" /></a><br>"
      ],
      "text/plain": [
       "X: tutorial\n",
       "Y: tutorial\n",
       "Z: tutorial"
      ]
     },
     "execution_count": 41,
     "metadata": {},
     "output_type": "execute_result"
    }
   ],
   "source": [
    "from proveit import Literal\n",
    "X, Y, Z = Literal('tutorial', 'X'), Literal('tutorial', 'Y'), Literal('tutorial', 'Z')"
   ]
  },
  {
   "cell_type": "code",
   "execution_count": 42,
   "metadata": {},
   "outputs": [
    {
     "data": {
      "text/html": [
       "<strong id=\"XYZimpl\">XYZimpl:</strong> <a class=\"ProveItLink\" href=\"__pv_it/132a69527fa96b17292d0263cb7e2bee6841dd190/expr.ipynb\"><img src=\"__pv_it/132a69527fa96b17292d0263cb7e2bee6841dd190/expr.png\" style=\"display:inline;vertical-align:middle;\" /></a><br>"
      ],
      "text/plain": [
       "XYZimpl: tutorial => (tutorial => tutorial)"
      ]
     },
     "execution_count": 42,
     "metadata": {},
     "output_type": "execute_result"
    }
   ],
   "source": [
    "XYZimpl = Implies(X, Implies(Y, Z))"
   ]
  },
  {
   "cell_type": "markdown",
   "metadata": {},
   "source": [
    "Let us try to relabel this.  Our first mistake will be that the expression is not a **KnownTruth**.  **Expression** has a `relabeled` method, but to call `relabel` (and make an actual derivation step), we need to start with a **KnownTruth**."
   ]
  },
  {
   "cell_type": "code",
   "execution_count": 43,
   "metadata": {},
   "outputs": [
    {
     "name": "stdout",
     "output_type": "stream",
     "text": [
      "EXPECTED ERROR: 'Implies' object has no attribute 'relabel'\n"
     ]
    }
   ],
   "source": [
    "from proveit import RelabelingFailure\n",
    "try:\n",
    "    XYZimpl.relabel({Y:C})\n",
    "except AttributeError as e:\n",
    "    print(\"EXPECTED ERROR:\", e)"
   ]
  },
  {
   "cell_type": "markdown",
   "metadata": {},
   "source": [
    "Let us make this an axiom to make it a **KnownTruth** by fiat.  This is not normally how axioms are created, but we will get into that in a later tutorial chapter"
   ]
  },
  {
   "cell_type": "code",
   "execution_count": 44,
   "metadata": {},
   "outputs": [
    {
     "data": {
      "text/html": [
       "<strong id=\"XYZimplAxiom\">XYZimplAxiom:</strong> <table><tr><th>&nbsp;</th><th>step type</th><th>requirements</th><th>statement</th></tr>\n",
       "<tr><td>0</td><td>axiom</td><td></td><td><span style=\"font-size:20px;\"> &#x22A2;&nbsp;<a class=\"ProveItLink\" href=\"__pv_it/132a69527fa96b17292d0263cb7e2bee6841dd190/expr.ipynb\"><img src=\"__pv_it/132a69527fa96b17292d0263cb7e2bee6841dd190/expr.png\" style=\"display:inline;vertical-align:middle;\" /></a></span></td></tr>\n",
       "<tr><td>&nbsp;</td><td colspan=4 style-\"text-align:left\"><a class=\"ProveItLink\" href=\"_axioms_.ipynb#XYZimplAxiom\">tutorial.XYZimplAxiom</a></td></tr></table><br>"
      ],
      "text/plain": [
       "XYZimplAxiom: \tstep type\trequirements\tstatement\n",
       "0\taxiom\t\t|- tutorial => (tutorial => tutorial)\n",
       "\ttutorial.XYZimplAxiom"
      ]
     },
     "execution_count": 44,
     "metadata": {},
     "output_type": "execute_result"
    }
   ],
   "source": [
    "from proveit import Axiom, Context\n",
    "XYZimplAxiom = Axiom(XYZimpl, Context(), 'XYZimplAxiom')"
   ]
  },
  {
   "cell_type": "markdown",
   "metadata": {},
   "source": [
    "Now we will try to `relabel`:"
   ]
  },
  {
   "cell_type": "code",
   "execution_count": 45,
   "metadata": {},
   "outputs": [
    {
     "name": "stdout",
     "output_type": "stream",
     "text": [
      "EXPECTED ERROR: Proof step failed: May only relabel a Variable\n"
     ]
    }
   ],
   "source": [
    "from proveit import RelabelingFailure\n",
    "try:\n",
    "    XYZimplAxiom.provenTruth.relabel({Y:C})\n",
    "except RelabelingFailure as e:\n",
    "    print(\"EXPECTED ERROR:\", e)"
   ]
  },
  {
   "cell_type": "markdown",
   "metadata": {},
   "source": [
    "That time, we got the error message that only **Variable**s may be relabeled."
   ]
  },
  {
   "cell_type": "markdown",
   "metadata": {},
   "source": [
    "## Scoping violation\n",
    "\n",
    "We also noted with *expression relabeling* in <a href=\"tutorial01_basic_expr.ipynb\">basic expressions chapter</a> that we are not allowed to violate the scoping restrictions of **Lambda** expressions.  We revisit this for the case of the *relabeling* derivation step."
   ]
  },
  {
   "cell_type": "markdown",
   "metadata": {},
   "source": [
    "For our examples, we will invoke the infinite geometic series theorem from `proveit.number.summation`:"
   ]
  },
  {
   "cell_type": "code",
   "execution_count": 46,
   "metadata": {
    "scrolled": true
   },
   "outputs": [
    {
     "name": "stdout",
     "output_type": "stream",
     "text": [
      "operation.substituted.exprMap =  {}\n",
      "operation.substituted.exprMap =  {}\n",
      "operation.substituted.exprMap =  {}\n",
      "operation.substituted.exprMap =  {}\n",
      "operation.substituted.exprMap =  {}\n",
      "operation.substituted.exprMap =  {}\n",
      "operation.substituted.exprMap =  {x: Sum_{_x_=0}^{infinity} x^{_x_}, y: 1 / (1 - x)}\n",
      "operation.substituted.exprMap =  {x: Sum_{_x_=0}^{infinity} x^{_x_}, y: 1 / (1 - x)}\n",
      "operation.substituted.exprMap =  {A: (Sum_{_x_=0}^{infinity} x^{_x_}) = (1 / (1 - x))}\n",
      "operation.substituted.exprMap =  {A: (Sum_{_x_=0}^{infinity} x^{_x_}) = (1 / (1 - x))}\n",
      "operation.substituted.exprMap =  {A: (Sum_{_x_=0}^{infinity} x^{_x_}) = (1 / (1 - x))}\n",
      "operation.substituted.exprMap =  {x: Sum_{m=0}^{infinity} x^{m}, y: 1 / (1 - x)}\n",
      "operation.substituted.exprMap =  {x: Sum_{m=0}^{infinity} x^{m}, y: 1 / (1 - x)}\n",
      "operation.substituted.exprMap =  {}\n",
      "operation.substituted.exprMap =  {}\n",
      "operation.substituted.exprMap =  {}\n",
      "operation.substituted.exprMap =  {}\n",
      "operation.substituted.exprMap =  {}\n",
      "operation.substituted.exprMap =  {}\n",
      "operation.substituted.exprMap =  {}\n",
      "operation.substituted.exprMap =  {x: Sum_{_x_=0}^{infinity} _y_^{_x_}, y: 1 / (1 - _y_)}\n",
      "operation.substituted.exprMap =  {x: Sum_{_x_=0}^{infinity} _y_^{_x_}, y: 1 / (1 - _y_)}\n",
      "operation.substituted.exprMap =  {}\n",
      "operation.substituted.exprMap =  {}\n",
      "operation.substituted.exprMap =  {}\n",
      "operation.substituted.exprMap =  {}\n",
      "operation.substituted.exprMap =  {}\n",
      "operation.substituted.exprMap =  {}\n",
      "operation.substituted.exprMap =  {}\n",
      "operation.substituted.exprMap =  {}\n",
      "operation.substituted.exprMap =  {x: Sum_{_x_=0}^{infinity} _y_^{_x_}, y: 1 / (1 - _y_)}\n",
      "operation.substituted.exprMap =  {x: Sum_{_x_=0}^{infinity} _y_^{_x_}, y: 1 / (1 - _y_)}\n",
      "operation.substituted.exprMap =  {}\n"
     ]
    }
   ],
   "source": [
    "from proveit.number.summation._theorems_ import infGeomSum"
   ]
  },
  {
   "cell_type": "code",
   "execution_count": 47,
   "metadata": {},
   "outputs": [
    {
     "data": {
      "text/html": [
       "<span style=\"font-size:20px;\"> &#x22A2;&nbsp;<a class=\"ProveItLink\" href=\"../packages/proveit/number/summation/__pv_it/c1eed1587f390ad0a618fce14907c4238d599e750/expr.ipynb\"><img src=\"../packages/proveit/number/summation/__pv_it/c1eed1587f390ad0a618fce14907c4238d599e750/expr.png\" style=\"display:inline;vertical-align:middle;\" /></a></span>"
      ],
      "text/plain": [
       "|- forall_{x in Complexes} ((Sum_{m=0}^{infinity} x^{m}) = (1 / (1 - x)))"
      ]
     },
     "execution_count": 47,
     "metadata": {},
     "output_type": "execute_result"
    }
   ],
   "source": [
    "infGeomSum"
   ]
  },
  {
   "cell_type": "markdown",
   "metadata": {},
   "source": [
    "Let us look how this expression is deconstructed in the expression information.  Note the use of **Lambda** mappings for the `Forall` *instance expression* (entry 2 below) and the `Sum` *summand* (entry 12 below).  These **Lambda** mappings define new scopes for $x$ and $m$ respectively.  This concept of operating on a **lambda** map will be discussed more in the next chapter."
   ]
  },
  {
   "cell_type": "code",
   "execution_count": 48,
   "metadata": {},
   "outputs": [
    {
     "data": {
      "text/html": [
       "<table><tr><th>&nbsp;</th><th>core type</th><th>sub-expressions</th><th>expression</th></tr>\n",
       "<tr><td>0</td><td>Operation</td><td>operator:&nbsp;1<br>operand:&nbsp;2<br></td><td><a class=\"ProveItLink\" href=\"../packages/proveit/number/summation/__pv_it/c1eed1587f390ad0a618fce14907c4238d599e750/expr.ipynb\"><img src=\"../packages/proveit/number/summation/__pv_it/c1eed1587f390ad0a618fce14907c4238d599e750/expr.png\" style=\"display:inline;vertical-align:middle;\" /></a></td></tr>\n",
       "<tr><td>1</td><td>Literal</td><td></td><td><a class=\"ProveItLink\" href=\"../packages/proveit/logic/boolean/quantification/universal/__pv_it/265f8c02ac1094d56e0e6410a1c1fd3500dc9f540/expr.ipynb\"><img src=\"../packages/proveit/logic/boolean/quantification/universal/__pv_it/265f8c02ac1094d56e0e6410a1c1fd3500dc9f540/expr.png\" style=\"display:inline;vertical-align:middle;\" /></a></td></tr>\n",
       "<tr><td>2</td><td>Lambda</td><td>parameter:&nbsp;27<br>body:&nbsp;3<br>conditions:&nbsp;4<br></td><td><a class=\"ProveItLink\" href=\"__pv_it/5f9d9dc11b89a066e3f50bcf01323e95337cede90/expr.ipynb\"><img src=\"__pv_it/5f9d9dc11b89a066e3f50bcf01323e95337cede90/expr.png\" style=\"display:inline;vertical-align:middle;\" /></a></td></tr>\n",
       "<tr><td>3</td><td>Operation</td><td>operator:&nbsp;5<br>operands:&nbsp;6<br></td><td><a class=\"ProveItLink\" href=\"__pv_it/7d5baa1e8e635dffed186db46cb19d6ad3b6abdc0/expr.ipynb\"><img src=\"__pv_it/7d5baa1e8e635dffed186db46cb19d6ad3b6abdc0/expr.png\" style=\"display:inline;vertical-align:middle;\" /></a></td></tr>\n",
       "<tr><td>4</td><td>ExprList</td><td>7</td><td><a class=\"ProveItLink\" href=\"__pv_it/02600a40e8387f0e9b9ac8b68849d0b79892d25a0/expr.ipynb\"><img src=\"__pv_it/02600a40e8387f0e9b9ac8b68849d0b79892d25a0/expr.png\" style=\"display:inline;vertical-align:middle;\" /></a></td></tr>\n",
       "<tr><td>5</td><td>Literal</td><td></td><td><a class=\"ProveItLink\" href=\"../packages/proveit/logic/equality/__pv_it/2fb26078095930560931daa0500ce419a39ea6cd0/expr.ipynb\"><img src=\"../packages/proveit/logic/equality/__pv_it/2fb26078095930560931daa0500ce419a39ea6cd0/expr.png\" style=\"display:inline;vertical-align:middle;\" /></a></td></tr>\n",
       "<tr><td>6</td><td>ExprList</td><td>8, 9</td><td><a class=\"ProveItLink\" href=\"__pv_it/9925428c73f3cf6a97da0bc09940695da78d2b640/expr.ipynb\"><img src=\"__pv_it/9925428c73f3cf6a97da0bc09940695da78d2b640/expr.png\" style=\"display:inline;vertical-align:middle;\" /></a></td></tr>\n",
       "<tr><td>7</td><td>Operation</td><td>operator:&nbsp;24<br>operands:&nbsp;10<br></td><td><a class=\"ProveItLink\" href=\"__pv_it/5c60ad8ec27d814114e4daf357da6bc586e6941f0/expr.ipynb\"><img src=\"__pv_it/5c60ad8ec27d814114e4daf357da6bc586e6941f0/expr.png\" style=\"display:inline;vertical-align:middle;\" /></a></td></tr>\n",
       "<tr><td>8</td><td>Operation</td><td>operator:&nbsp;11<br>operand:&nbsp;12<br></td><td><a class=\"ProveItLink\" href=\"__pv_it/b42f5e04f6e248a349d97b62d6e6d9a23547c12f0/expr.ipynb\"><img src=\"__pv_it/b42f5e04f6e248a349d97b62d6e6d9a23547c12f0/expr.png\" style=\"display:inline;vertical-align:middle;\" /></a></td></tr>\n",
       "<tr><td>9</td><td>Operation</td><td>operator:&nbsp;13<br>operands:&nbsp;14<br></td><td><a class=\"ProveItLink\" href=\"__pv_it/95dde3fd4f51a831d555bfd54dbbde170c35e8330/expr.ipynb\"><img src=\"__pv_it/95dde3fd4f51a831d555bfd54dbbde170c35e8330/expr.png\" style=\"display:inline;vertical-align:middle;\" /></a></td></tr>\n",
       "<tr><td>10</td><td>ExprList</td><td>27, 15</td><td><a class=\"ProveItLink\" href=\"__pv_it/3cc22ed4b06d8862c71f572e1902cae2f397d5050/expr.ipynb\"><img src=\"__pv_it/3cc22ed4b06d8862c71f572e1902cae2f397d5050/expr.png\" style=\"display:inline;vertical-align:middle;\" /></a></td></tr>\n",
       "<tr><td>11</td><td>Literal</td><td></td><td><a class=\"ProveItLink\" href=\"../packages/proveit/number/summation/__pv_it/0a16045c678b35f122c8085ab544f65a80626c0a0/expr.ipynb\"><img src=\"../packages/proveit/number/summation/__pv_it/0a16045c678b35f122c8085ab544f65a80626c0a0/expr.png\" style=\"display:inline;vertical-align:middle;\" /></a></td></tr>\n",
       "<tr><td>12</td><td>Lambda</td><td>parameter:&nbsp;28<br>body:&nbsp;16<br>conditions:&nbsp;17<br></td><td><a class=\"ProveItLink\" href=\"__pv_it/3dfd73f02326fa65b434b0da92f7928174b46a330/expr.ipynb\"><img src=\"__pv_it/3dfd73f02326fa65b434b0da92f7928174b46a330/expr.png\" style=\"display:inline;vertical-align:middle;\" /></a></td></tr>\n",
       "<tr><td>13</td><td>Literal</td><td></td><td><a class=\"ProveItLink\" href=\"../packages/proveit/number/division/__pv_it/089f5ca61fe425d4f6ef7efa2138c1a2fa47180c0/expr.ipynb\"><img src=\"../packages/proveit/number/division/__pv_it/089f5ca61fe425d4f6ef7efa2138c1a2fa47180c0/expr.png\" style=\"display:inline;vertical-align:middle;\" /></a></td></tr>\n",
       "<tr><td>14</td><td>ExprList</td><td>26, 18</td><td><a class=\"ProveItLink\" href=\"__pv_it/1a2a1c148bc9bb8cff1c4c81cdd5325bc6efede60/expr.ipynb\"><img src=\"__pv_it/1a2a1c148bc9bb8cff1c4c81cdd5325bc6efede60/expr.png\" style=\"display:inline;vertical-align:middle;\" /></a></td></tr>\n",
       "<tr><td>15</td><td>Literal</td><td></td><td><a class=\"ProveItLink\" href=\"../packages/proveit/number/sets/complex/__pv_it/c357845f93a5a2d9f649129d299e7ec28dda4b960/expr.ipynb\"><img src=\"../packages/proveit/number/sets/complex/__pv_it/c357845f93a5a2d9f649129d299e7ec28dda4b960/expr.png\" style=\"display:inline;vertical-align:middle;\" /></a></td></tr>\n",
       "<tr><td>16</td><td>Operation</td><td>operator:&nbsp;19<br>operands:&nbsp;20<br></td><td><a class=\"ProveItLink\" href=\"__pv_it/886ee3e28a191f18e6e8cc904d1893467290ddcf0/expr.ipynb\"><img src=\"__pv_it/886ee3e28a191f18e6e8cc904d1893467290ddcf0/expr.png\" style=\"display:inline;vertical-align:middle;\" /></a></td></tr>\n",
       "<tr><td>17</td><td>ExprList</td><td>21</td><td><a class=\"ProveItLink\" href=\"__pv_it/0ca3e352532fa3e98f53fc80f72c2c8cc0e1d2c00/expr.ipynb\"><img src=\"__pv_it/0ca3e352532fa3e98f53fc80f72c2c8cc0e1d2c00/expr.png\" style=\"display:inline;vertical-align:middle;\" /></a></td></tr>\n",
       "<tr><td>18</td><td>Operation</td><td>operator:&nbsp;22<br>operands:&nbsp;23<br></td><td><a class=\"ProveItLink\" href=\"__pv_it/b5e15f5164530c86c391d8d0a96d05e8ad65e1710/expr.ipynb\"><img src=\"__pv_it/b5e15f5164530c86c391d8d0a96d05e8ad65e1710/expr.png\" style=\"display:inline;vertical-align:middle;\" /></a></td></tr>\n",
       "<tr><td>19</td><td>Literal</td><td></td><td><a class=\"ProveItLink\" href=\"../packages/proveit/number/exponentiation/__pv_it/deb2bf23cbccdd6e6791e1b35b5b9794ce12dbd50/expr.ipynb\"><img src=\"../packages/proveit/number/exponentiation/__pv_it/deb2bf23cbccdd6e6791e1b35b5b9794ce12dbd50/expr.png\" style=\"display:inline;vertical-align:middle;\" /></a></td></tr>\n",
       "<tr><td>20</td><td>ExprList</td><td>27, 28</td><td><a class=\"ProveItLink\" href=\"__pv_it/f2b5fc3540d31286926c9195258165a9fb5254840/expr.ipynb\"><img src=\"__pv_it/f2b5fc3540d31286926c9195258165a9fb5254840/expr.png\" style=\"display:inline;vertical-align:middle;\" /></a></td></tr>\n",
       "<tr><td>21</td><td>Operation</td><td>operator:&nbsp;24<br>operands:&nbsp;25<br></td><td><a class=\"ProveItLink\" href=\"__pv_it/9b588a851be939a6c5368d50a6c0a531b4fed56e0/expr.ipynb\"><img src=\"__pv_it/9b588a851be939a6c5368d50a6c0a531b4fed56e0/expr.png\" style=\"display:inline;vertical-align:middle;\" /></a></td></tr>\n",
       "<tr><td>22</td><td>Literal</td><td></td><td><a class=\"ProveItLink\" href=\"../packages/proveit/number/subtraction/__pv_it/03194771b14a60816113e61ba63a976d1ba784d70/expr.ipynb\"><img src=\"../packages/proveit/number/subtraction/__pv_it/03194771b14a60816113e61ba63a976d1ba784d70/expr.png\" style=\"display:inline;vertical-align:middle;\" /></a></td></tr>\n",
       "<tr><td>23</td><td>ExprList</td><td>26, 27</td><td><a class=\"ProveItLink\" href=\"__pv_it/caaa7e4c422ef0a1cb986c4acf50e1ba9b1ced2d0/expr.ipynb\"><img src=\"__pv_it/caaa7e4c422ef0a1cb986c4acf50e1ba9b1ced2d0/expr.png\" style=\"display:inline;vertical-align:middle;\" /></a></td></tr>\n",
       "<tr><td>24</td><td>Literal</td><td></td><td><a class=\"ProveItLink\" href=\"../packages/proveit/logic/set_theory/membership/__pv_it/088cbc857536a28d4119ad9639a84270ccb0545d0/expr.ipynb\"><img src=\"../packages/proveit/logic/set_theory/membership/__pv_it/088cbc857536a28d4119ad9639a84270ccb0545d0/expr.png\" style=\"display:inline;vertical-align:middle;\" /></a></td></tr>\n",
       "<tr><td>25</td><td>ExprList</td><td>28, 29</td><td><a class=\"ProveItLink\" href=\"__pv_it/1698d6bbebf04149fb67ff2d5ff63f777a912dcd0/expr.ipynb\"><img src=\"__pv_it/1698d6bbebf04149fb67ff2d5ff63f777a912dcd0/expr.png\" style=\"display:inline;vertical-align:middle;\" /></a></td></tr>\n",
       "<tr><td>26</td><td>Literal</td><td></td><td><a class=\"ProveItLink\" href=\"../packages/proveit/number/numeral/__pv_it/9be8badea4c35b9724062cecc501d17a3158d1d20/expr.ipynb\"><img src=\"../packages/proveit/number/numeral/__pv_it/9be8badea4c35b9724062cecc501d17a3158d1d20/expr.png\" style=\"display:inline;vertical-align:middle;\" /></a></td></tr>\n",
       "<tr><td>27</td><td>Variable</td><td></td><td><a class=\"ProveItLink\" href=\"../packages/proveit/__pv_it/530be409e3083890784cf1d7b28c9e67e90af9360/expr.ipynb\"><img src=\"../packages/proveit/__pv_it/530be409e3083890784cf1d7b28c9e67e90af9360/expr.png\" style=\"display:inline;vertical-align:middle;\" /></a></td></tr>\n",
       "<tr><td>28</td><td>Variable</td><td></td><td><a class=\"ProveItLink\" href=\"../packages/proveit/__pv_it/78af03acba5349fd70398a32ce59bae1da52f0870/expr.ipynb\"><img src=\"../packages/proveit/__pv_it/78af03acba5349fd70398a32ce59bae1da52f0870/expr.png\" style=\"display:inline;vertical-align:middle;\" /></a></td></tr>\n",
       "<tr><td>29</td><td>Operation</td><td>operator:&nbsp;30<br>operands:&nbsp;31<br></td><td><a class=\"ProveItLink\" href=\"__pv_it/891707711a255fe9653cf66f7877333f97ee63d40/expr.ipynb\"><img src=\"__pv_it/891707711a255fe9653cf66f7877333f97ee63d40/expr.png\" style=\"display:inline;vertical-align:middle;\" /></a></td></tr>\n",
       "<tr><td>30</td><td>Literal</td><td></td><td><a class=\"ProveItLink\" href=\"../packages/proveit/number/sets/integer/__pv_it/6e5362d7b256561b61a1b512bf7dc507dcde5dcf0/expr.ipynb\"><img src=\"../packages/proveit/number/sets/integer/__pv_it/6e5362d7b256561b61a1b512bf7dc507dcde5dcf0/expr.png\" style=\"display:inline;vertical-align:middle;\" /></a></td></tr>\n",
       "<tr><td>31</td><td>ExprList</td><td>32, 33</td><td><a class=\"ProveItLink\" href=\"__pv_it/8f0d1ab5a4a90210654735ae66dae40d5c9998720/expr.ipynb\"><img src=\"__pv_it/8f0d1ab5a4a90210654735ae66dae40d5c9998720/expr.png\" style=\"display:inline;vertical-align:middle;\" /></a></td></tr>\n",
       "<tr><td>32</td><td>Literal</td><td></td><td><a class=\"ProveItLink\" href=\"../packages/proveit/number/numeral/__pv_it/ec23fc7a1b4222a5f4948b495002b97d6fa18c3c0/expr.ipynb\"><img src=\"../packages/proveit/number/numeral/__pv_it/ec23fc7a1b4222a5f4948b495002b97d6fa18c3c0/expr.png\" style=\"display:inline;vertical-align:middle;\" /></a></td></tr>\n",
       "<tr><td>33</td><td>Literal</td><td></td><td><a class=\"ProveItLink\" href=\"../packages/proveit/number/sets/integer/__pv_it/fb164099ff695e5f06bcf7426355186a1c63cc390/expr.ipynb\"><img src=\"../packages/proveit/number/sets/integer/__pv_it/fb164099ff695e5f06bcf7426355186a1c63cc390/expr.png\" style=\"display:inline;vertical-align:middle;\" /></a></td></tr>\n",
       "</table>\n"
      ],
      "text/plain": [
       "0. forall_{x in Complexes} ((Sum_{m=0}^{infinity} x^{m}) = (1 / (1 - x)))\n",
       "   core type: Operation\n",
       "   operator: 1\n",
       "   operand: 2\n",
       "1. forall\n",
       "   core type: Literal\n",
       "   sub-expressions: \n",
       "2. x -> ((Sum_{m=0}^{infinity} x^{m}) = (1 / (1 - x))) | x in Complexes\n",
       "   core type: Lambda\n",
       "   parameter: 27\n",
       "   body: 3\n",
       "   conditions: 4\\n3. (Sum_{m=0}^{infinity} x^{m}) = (1 / (1 - x))\n",
       "   core type: Operation\n",
       "   operator: 5\n",
       "   operands: 6\n",
       "4. (x in Complexes)\n",
       "   core type: ExprList\n",
       "   sub-expressions: 7\n",
       "5. =\n",
       "   core type: Literal\n",
       "   sub-expressions: \n",
       "6. (Sum_{m=0}^{infinity} x^{m} , 1 / (1 - x))\n",
       "   core type: ExprList\n",
       "   sub-expressions: 8, 9\n",
       "7. x in Complexes\n",
       "   core type: Operation\n",
       "   operator: 24\n",
       "   operands: 10\n",
       "8. Sum_{m=0}^{infinity} x^{m}\n",
       "   core type: Operation\n",
       "   operator: 11\n",
       "   operand: 12\n",
       "9. 1 / (1 - x)\n",
       "   core type: Operation\n",
       "   operator: 13\n",
       "   operands: 14\n",
       "10. (x , Complexes)\n",
       "    core type: ExprList\n",
       "    sub-expressions: 27, 15\n",
       "11. Sum\n",
       "    core type: Literal\n",
       "    sub-expressions: \n",
       "12. m -> x^{m} | m in {0...infinity}\n",
       "    core type: Lambda\n",
       "    parameter: 28\n",
       "    body: 16\n",
       "    conditions: 17\\n13. /\n",
       "    core type: Literal\n",
       "    sub-expressions: \n",
       "14. (1 , 1 - x)\n",
       "    core type: ExprList\n",
       "    sub-expressions: 26, 18\n",
       "15. Complexes\n",
       "    core type: Literal\n",
       "    sub-expressions: \n",
       "16. x^{m}\n",
       "    core type: Operation\n",
       "    operator: 19\n",
       "    operands: 20\n",
       "17. (m in {0...infinity})\n",
       "    core type: ExprList\n",
       "    sub-expressions: 21\n",
       "18. 1 - x\n",
       "    core type: Operation\n",
       "    operator: 22\n",
       "    operands: 23\n",
       "19. Exp\n",
       "    core type: Literal\n",
       "    sub-expressions: \n",
       "20. (x , m)\n",
       "    core type: ExprList\n",
       "    sub-expressions: 27, 28\n",
       "21. m in {0...infinity}\n",
       "    core type: Operation\n",
       "    operator: 24\n",
       "    operands: 25\n",
       "22. -\n",
       "    core type: Literal\n",
       "    sub-expressions: \n",
       "23. (1 , x)\n",
       "    core type: ExprList\n",
       "    sub-expressions: 26, 27\n",
       "24. in\n",
       "    core type: Literal\n",
       "    sub-expressions: \n",
       "25. (m , {0...infinity})\n",
       "    core type: ExprList\n",
       "    sub-expressions: 28, 29\n",
       "26. 1\n",
       "    core type: Literal\n",
       "    sub-expressions: \n",
       "27. x\n",
       "    core type: Variable\n",
       "    sub-expressions: \n",
       "28. m\n",
       "    core type: Variable\n",
       "    sub-expressions: \n",
       "29. {0...infinity}\n",
       "    core type: Operation\n",
       "    operator: 30\n",
       "    operands: 31\n",
       "30. Interval\n",
       "    core type: Literal\n",
       "    sub-expressions: \n",
       "31. (0 , infinity)\n",
       "    core type: ExprList\n",
       "    sub-expressions: 32, 33\n",
       "32. 0\n",
       "    core type: Literal\n",
       "    sub-expressions: \n",
       "33. infinity\n",
       "    core type: Literal\n",
       "    sub-expressions: "
      ]
     },
     "execution_count": 48,
     "metadata": {},
     "output_type": "execute_result"
    }
   ],
   "source": [
    "infGeomSum.exprInfo()"
   ]
  },
  {
   "cell_type": "markdown",
   "metadata": {},
   "source": [
    "Now we will use relabeling on the geometric series theorem to prove that we can write it in terms of $a$ and $n$ instead of $x$ and $m$."
   ]
  },
  {
   "cell_type": "code",
   "execution_count": 49,
   "metadata": {},
   "outputs": [
    {
     "name": "stdout",
     "output_type": "stream",
     "text": [
      "operation.substituted.exprMap =  {}\n",
      "operation.substituted.exprMap =  {}\n",
      "operation.substituted.exprMap =  {}\n",
      "operation.substituted.exprMap =  {}\n",
      "operation.substituted.exprMap =  {}\n",
      "operation.substituted.exprMap =  {}\n",
      "operation.substituted.exprMap =  {}\n",
      "operation.substituted.exprMap =  {}\n",
      "operation.substituted.exprMap =  {}\n",
      "operation.substituted.exprMap =  {}\n",
      "operation.substituted.exprMap =  {}\n",
      "operation.substituted.exprMap =  {}\n",
      "operation.substituted.exprMap =  {}\n",
      "operation.substituted.exprMap =  {}\n",
      "operation.substituted.exprMap =  {}\n",
      "operation.substituted.exprMap =  {x: Sum_{_x_=0}^{infinity} a^{_x_}, y: 1 / (1 - a)}\n",
      "operation.substituted.exprMap =  {x: Sum_{_x_=0}^{infinity} a^{_x_}, y: 1 / (1 - a)}\n",
      "operation.substituted.exprMap =  {A: (Sum_{_x_=0}^{infinity} a^{_x_}) = (1 / (1 - a))}\n",
      "operation.substituted.exprMap =  {A: (Sum_{_x_=0}^{infinity} a^{_x_}) = (1 / (1 - a))}\n",
      "operation.substituted.exprMap =  {A: (Sum_{_x_=0}^{infinity} a^{_x_}) = (1 / (1 - a))}\n",
      "operation.substituted.exprMap =  {x: Sum_{n=0}^{infinity} a^{n}, y: 1 / (1 - a)}\n",
      "operation.substituted.exprMap =  {x: Sum_{n=0}^{infinity} a^{n}, y: 1 / (1 - a)}\n",
      "operation.substituted.exprMap =  {}\n",
      "operation.substituted.exprMap =  {}\n",
      "operation.substituted.exprMap =  {}\n",
      "operation.substituted.exprMap =  {}\n",
      "operation.substituted.exprMap =  {}\n",
      "operation.substituted.exprMap =  {}\n",
      "operation.substituted.exprMap =  {}\n",
      "operation.substituted.exprMap =  {x: Sum_{_x_=0}^{infinity} _y_^{_x_}, y: 1 / (1 - _y_)}\n",
      "operation.substituted.exprMap =  {x: Sum_{_x_=0}^{infinity} _y_^{_x_}, y: 1 / (1 - _y_)}\n",
      "operation.substituted.exprMap =  {}\n",
      "operation.substituted.exprMap =  {}\n",
      "operation.substituted.exprMap =  {}\n",
      "operation.substituted.exprMap =  {}\n",
      "operation.substituted.exprMap =  {}\n",
      "operation.substituted.exprMap =  {}\n",
      "operation.substituted.exprMap =  {}\n",
      "operation.substituted.exprMap =  {}\n",
      "operation.substituted.exprMap =  {x: Sum_{_x_=0}^{infinity} _y_^{_x_}, y: 1 / (1 - _y_)}\n",
      "operation.substituted.exprMap =  {x: Sum_{_x_=0}^{infinity} _y_^{_x_}, y: 1 / (1 - _y_)}\n",
      "operation.substituted.exprMap =  {}\n"
     ]
    },
    {
     "data": {
      "text/html": [
       "<span style=\"font-size:20px;\"> &#x22A2;&nbsp;<a class=\"ProveItLink\" href=\"__pv_it/b7cbae06ff085adc59bcce34575d9f190b0589d70/expr.ipynb\"><img src=\"__pv_it/b7cbae06ff085adc59bcce34575d9f190b0589d70/expr.png\" style=\"display:inline;vertical-align:middle;\" /></a></span>"
      ],
      "text/plain": [
       "|- forall_{a in Complexes} ((Sum_{n=0}^{infinity} a^{n}) = (1 / (1 - a)))"
      ]
     },
     "execution_count": 49,
     "metadata": {},
     "output_type": "execute_result"
    }
   ],
   "source": [
    "from proveit._common_ import a, n, m, x\n",
    "infGeomSum.relabel({x:a, m:n})"
   ]
  },
  {
   "cell_type": "markdown",
   "metadata": {},
   "source": [
    "We can also swap the labels."
   ]
  },
  {
   "cell_type": "code",
   "execution_count": 50,
   "metadata": {},
   "outputs": [
    {
     "name": "stdout",
     "output_type": "stream",
     "text": [
      "operation.substituted.exprMap =  {}\n",
      "operation.substituted.exprMap =  {}\n",
      "operation.substituted.exprMap =  {}\n",
      "operation.substituted.exprMap =  {}\n",
      "operation.substituted.exprMap =  {}\n",
      "operation.substituted.exprMap =  {}\n",
      "operation.substituted.exprMap =  {}\n",
      "operation.substituted.exprMap =  {}\n",
      "operation.substituted.exprMap =  {}\n",
      "operation.substituted.exprMap =  {}\n",
      "operation.substituted.exprMap =  {}\n",
      "operation.substituted.exprMap =  {}\n",
      "operation.substituted.exprMap =  {}\n",
      "operation.substituted.exprMap =  {}\n",
      "operation.substituted.exprMap =  {}\n",
      "operation.substituted.exprMap =  {x: Sum_{_x_=0}^{infinity} m^{_x_}, y: 1 / (1 - m)}\n",
      "operation.substituted.exprMap =  {x: Sum_{_x_=0}^{infinity} m^{_x_}, y: 1 / (1 - m)}\n",
      "operation.substituted.exprMap =  {A: (Sum_{_x_=0}^{infinity} m^{_x_}) = (1 / (1 - m))}\n",
      "operation.substituted.exprMap =  {A: (Sum_{_x_=0}^{infinity} m^{_x_}) = (1 / (1 - m))}\n",
      "operation.substituted.exprMap =  {A: (Sum_{_x_=0}^{infinity} m^{_x_}) = (1 / (1 - m))}\n",
      "operation.substituted.exprMap =  {x: Sum_{x=0}^{infinity} m^{x}, y: 1 / (1 - m)}\n",
      "operation.substituted.exprMap =  {x: Sum_{x=0}^{infinity} m^{x}, y: 1 / (1 - m)}\n",
      "operation.substituted.exprMap =  {}\n",
      "operation.substituted.exprMap =  {}\n",
      "operation.substituted.exprMap =  {}\n",
      "operation.substituted.exprMap =  {}\n",
      "operation.substituted.exprMap =  {}\n",
      "operation.substituted.exprMap =  {}\n",
      "operation.substituted.exprMap =  {}\n",
      "operation.substituted.exprMap =  {x: Sum_{_x_=0}^{infinity} _y_^{_x_}, y: 1 / (1 - _y_)}\n",
      "operation.substituted.exprMap =  {x: Sum_{_x_=0}^{infinity} _y_^{_x_}, y: 1 / (1 - _y_)}\n",
      "operation.substituted.exprMap =  {}\n",
      "operation.substituted.exprMap =  {}\n",
      "operation.substituted.exprMap =  {}\n",
      "operation.substituted.exprMap =  {}\n",
      "operation.substituted.exprMap =  {}\n",
      "operation.substituted.exprMap =  {}\n",
      "operation.substituted.exprMap =  {}\n",
      "operation.substituted.exprMap =  {}\n",
      "operation.substituted.exprMap =  {x: Sum_{_x_=0}^{infinity} _y_^{_x_}, y: 1 / (1 - _y_)}\n",
      "operation.substituted.exprMap =  {x: Sum_{_x_=0}^{infinity} _y_^{_x_}, y: 1 / (1 - _y_)}\n",
      "operation.substituted.exprMap =  {}\n"
     ]
    },
    {
     "data": {
      "text/html": [
       "<span style=\"font-size:20px;\"> &#x22A2;&nbsp;<a class=\"ProveItLink\" href=\"__pv_it/c1bff46e490137207a78349421f5e62ae4fff3760/expr.ipynb\"><img src=\"__pv_it/c1bff46e490137207a78349421f5e62ae4fff3760/expr.png\" style=\"display:inline;vertical-align:middle;\" /></a></span>"
      ],
      "text/plain": [
       "|- forall_{m in Complexes} ((Sum_{x=0}^{infinity} m^{x}) = (1 / (1 - m)))"
      ]
     },
     "execution_count": 50,
     "metadata": {},
     "output_type": "execute_result"
    }
   ],
   "source": [
    "infGeomSum.relabel({x:m, m:x})"
   ]
  },
  {
   "cell_type": "code",
   "execution_count": 51,
   "metadata": {},
   "outputs": [
    {
     "name": "stdout",
     "output_type": "stream",
     "text": [
      "operation.substituted.exprMap =  {}\n",
      "operation.substituted.exprMap =  {}\n",
      "operation.substituted.exprMap =  {}\n",
      "operation.substituted.exprMap =  {}\n",
      "operation.substituted.exprMap =  {}\n",
      "operation.substituted.exprMap =  {}\n",
      "operation.substituted.exprMap =  {}\n",
      "operation.substituted.exprMap =  {}\n",
      "operation.substituted.exprMap =  {}\n",
      "operation.substituted.exprMap =  {}\n",
      "operation.substituted.exprMap =  {}\n",
      "operation.substituted.exprMap =  {}\n",
      "operation.substituted.exprMap =  {}\n",
      "operation.substituted.exprMap =  {}\n",
      "operation.substituted.exprMap =  {}\n",
      "operation.substituted.exprMap =  {x: Sum_{_x_=0}^{infinity} m^{_x_}, y: 1 / (1 - m)}\n",
      "operation.substituted.exprMap =  {x: Sum_{_x_=0}^{infinity} m^{_x_}, y: 1 / (1 - m)}\n",
      "operation.substituted.exprMap =  {x: Sum_{x=0}^{infinity} m^{x}, y: 1 / (1 - m)}\n",
      "operation.substituted.exprMap =  {x: Sum_{x=0}^{infinity} m^{x}, y: 1 / (1 - m)}\n",
      "operation.substituted.exprMap =  {}\n",
      "operation.substituted.exprMap =  {}\n",
      "operation.substituted.exprMap =  {}\n",
      "operation.substituted.exprMap =  {}\n",
      "operation.substituted.exprMap =  {}\n",
      "operation.substituted.exprMap =  {}\n",
      "operation.substituted.exprMap =  {}\n",
      "operation.substituted.exprMap =  {x: Sum_{_x_=0}^{infinity} _y_^{_x_}, y: 1 / (1 - _y_)}\n",
      "operation.substituted.exprMap =  {x: Sum_{_x_=0}^{infinity} _y_^{_x_}, y: 1 / (1 - _y_)}\n",
      "operation.substituted.exprMap =  {}\n",
      "operation.substituted.exprMap =  {}\n",
      "operation.substituted.exprMap =  {}\n",
      "operation.substituted.exprMap =  {}\n",
      "operation.substituted.exprMap =  {}\n",
      "operation.substituted.exprMap =  {}\n",
      "operation.substituted.exprMap =  {}\n",
      "operation.substituted.exprMap =  {}\n",
      "operation.substituted.exprMap =  {x: Sum_{_x_=0}^{infinity} _y_^{_x_}, y: 1 / (1 - _y_)}\n",
      "operation.substituted.exprMap =  {x: Sum_{_x_=0}^{infinity} _y_^{_x_}, y: 1 / (1 - _y_)}\n",
      "operation.substituted.exprMap =  {}\n"
     ]
    },
    {
     "data": {
      "text/html": [
       "<table><tr><th>&nbsp;</th><th>step type</th><th>requirements</th><th>statement</th></tr>\n",
       "<tr><td>0</td><td>theorem</td><td></td><td><span style=\"font-size:20px;\"> &#x22A2;&nbsp;<a class=\"ProveItLink\" href=\"../packages/proveit/number/summation/__pv_it/c1eed1587f390ad0a618fce14907c4238d599e750/expr.ipynb\"><img src=\"../packages/proveit/number/summation/__pv_it/c1eed1587f390ad0a618fce14907c4238d599e750/expr.png\" style=\"display:inline;vertical-align:middle;\" /></a></span></td></tr>\n",
       "<tr><td>&nbsp;</td><td colspan=4 style-\"text-align:left\"><a class=\"ProveItLink\" href=\"../packages/proveit/number/summation/_proofs_/infGeomSum.ipynb\">proveit.number.summation.infGeomSum</a></td></tr></table>"
      ],
      "text/plain": [
       "proveit.number.summation.infGeomSum"
      ]
     },
     "execution_count": 51,
     "metadata": {},
     "output_type": "execute_result"
    }
   ],
   "source": [
    "infGeomSum.relabel({x:m, m:x}).proof()"
   ]
  },
  {
   "cell_type": "markdown",
   "metadata": {},
   "source": [
    "However, we are subject to **Lambda** scoping restrictions if we try to relabel in any manner such that they map to the same **Variable** (or the meaning could be changed in a manner that is not strictly weaker)."
   ]
  },
  {
   "cell_type": "code",
   "execution_count": 52,
   "metadata": {},
   "outputs": [
    {
     "name": "stdout",
     "output_type": "stream",
     "text": [
      "operation.substituted.exprMap =  {}\n",
      "operation.substituted.exprMap =  {}\n",
      "operation.substituted.exprMap =  {}\n",
      "operation.substituted.exprMap =  {}\n",
      "operation.substituted.exprMap =  {}\n",
      "operation.substituted.exprMap =  {}\n",
      "operation.substituted.exprMap =  {}\n",
      "EXPECTED ERROR: Relabeling in violation of Variable scoping restrictions.\n"
     ]
    }
   ],
   "source": [
    "from proveit import ScopingViolation\n",
    "try:\n",
    "    infGeomSum.relabel({m:x})\n",
    "    assert False, \"Expecting an ScopingViolation error; should not make it to this point\"\n",
    "except ScopingViolation as e:\n",
    "    print(\"EXPECTED ERROR:\", e)"
   ]
  },
  {
   "cell_type": "code",
   "execution_count": 53,
   "metadata": {},
   "outputs": [
    {
     "name": "stdout",
     "output_type": "stream",
     "text": [
      "operation.substituted.exprMap =  {}\n",
      "operation.substituted.exprMap =  {}\n",
      "operation.substituted.exprMap =  {}\n",
      "operation.substituted.exprMap =  {}\n",
      "EXPECTED ERROR: Relabeling in violation of Variable scoping restrictions.\n"
     ]
    }
   ],
   "source": [
    "try:\n",
    "    infGeomSum.relabeled({x:m})\n",
    "    assert False, \"Expecting an ScopingViolation error; should not make it to this point\"\n",
    "except ScopingViolation as e:\n",
    "    print(\"EXPECTED ERROR:\", e)"
   ]
  },
  {
   "cell_type": "code",
   "execution_count": 54,
   "metadata": {},
   "outputs": [
    {
     "name": "stdout",
     "output_type": "stream",
     "text": [
      "operation.substituted.exprMap =  {}\n",
      "operation.substituted.exprMap =  {}\n",
      "operation.substituted.exprMap =  {}\n",
      "operation.substituted.exprMap =  {}\n",
      "operation.substituted.exprMap =  {}\n",
      "operation.substituted.exprMap =  {}\n",
      "operation.substituted.exprMap =  {}\n",
      "EXPECTED ERROR: Relabeling in violation of Variable scoping restrictions.\n"
     ]
    }
   ],
   "source": [
    "try:\n",
    "    infGeomSum.relabeled({x:n, m:n})\n",
    "    assert False, \"Expecting an ScopingViolation error; should not make it to this point\"\n",
    "except ScopingViolation as e:\n",
    "    print(\"EXPECTED ERROR:\", e)"
   ]
  },
  {
   "cell_type": "code",
   "execution_count": 55,
   "metadata": {},
   "outputs": [],
   "source": [
    "%end relabeling"
   ]
  },
  {
   "cell_type": "markdown",
   "metadata": {
    "collapsed": true
   },
   "source": [
    "# Next chapter: <a href=\"tutorial05_forall.ipynb\">Universal Quantification (Forall)</a>\n",
    "\n",
    "## <a href=\"tutorial00_introduction.ipynb#contents\">Table of Contents</a>"
   ]
  },
  {
   "cell_type": "code",
   "execution_count": null,
   "metadata": {},
   "outputs": [],
   "source": []
  }
 ],
 "metadata": {
  "kernelspec": {
   "display_name": "Python 3",
   "language": "python",
   "name": "python3"
  },
  "language_info": {
   "codemirror_mode": {
    "name": "ipython",
    "version": 3
   },
   "file_extension": ".py",
   "mimetype": "text/x-python",
   "name": "python",
   "nbconvert_exporter": "python",
   "pygments_lexer": "ipython3",
   "version": "3.7.1"
  }
 },
 "nbformat": 4,
 "nbformat_minor": 1
}
