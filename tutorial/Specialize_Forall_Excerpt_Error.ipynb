{
 "cells": [
  {
   "cell_type": "code",
   "execution_count": null,
   "metadata": {},
   "outputs": [],
   "source": [
    "from proveit import Function, ExprList\n",
    "from proveit.logic import Forall\n",
    "from proveit.number import Less, Add\n",
    "from proveit._common_ import x, y, z, P, Px, Pxy, Pxyz\n",
    "%begin universal_quantification"
   ]
  },
  {
   "cell_type": "markdown",
   "metadata": {},
   "source": [
    "### The Material Below is Partly Excerpted from the “Specializing multiple levels simultaneously” Section of tutorial05_forall Notebook\n",
    "\n",
    "When `Forall` operations are nested, the universal quantifications may be specialized separately.\n",
    "\n",
    "Consider, for example, the nested quantification expression $\\forall_x [\\forall_y [\\forall_{z|z<(x+y)} P(x, y, z)]]$, defined below:"
   ]
  },
  {
   "cell_type": "code",
   "execution_count": null,
   "metadata": {},
   "outputs": [],
   "source": [
    "nestedForall = Forall(x, Forall(y, Forall(z, Pxyz, conditions=[Less(z, Add(x, y))])))"
   ]
  },
  {
   "cell_type": "markdown",
   "metadata": {},
   "source": [
    "In the original `tutorial05_forall` notebook, we then successively specialize to reach the inner-most instance-defining variable $z$.\n",
    "\n",
    "If we omit these specialize() method calls, we get no error in the final specialize() attempt on the altNestedForAll object defined afterward."
   ]
  },
  {
   "cell_type": "code",
   "execution_count": null,
   "metadata": {},
   "outputs": [],
   "source": [
    "# when uncommented, the following specialize() method call causes\n",
    "# the last input cell in the notebook to give a TypeError,\n",
    "# which then resolves itself with repeated entry\n",
    "nestedForallSpec1 = nestedForall.specialize(assumptions=[nestedForall])"
   ]
  },
  {
   "cell_type": "code",
   "execution_count": null,
   "metadata": {},
   "outputs": [],
   "source": [
    "# when uncommented, the following increases (usually) the number of times\n",
    "# the last input cell in the notebook must be \"input\" before the error resolves itself\n",
    "# nestedForallSpec2 = nestedForallSpec1.specialize()"
   ]
  },
  {
   "cell_type": "code",
   "execution_count": null,
   "metadata": {},
   "outputs": [],
   "source": [
    "# define an alternative to the nestedForall object\n",
    "altNestedForall = Forall([x, y, z], Pxyz, conditions=[Less(z, Add(x, y))])"
   ]
  },
  {
   "cell_type": "code",
   "execution_count": null,
   "metadata": {},
   "outputs": [],
   "source": [
    "# attempt to specialize ---\n",
    "# this is where the TypeError initially appears\n",
    "# but will resolve itself with repeated (1–2 additional) attempts to enter\n",
    "altNestedForall.specialize(assumptions=[altNestedForall, Less(z, Add(x, y))])"
   ]
  },
  {
   "cell_type": "code",
   "execution_count": null,
   "metadata": {},
   "outputs": [],
   "source": [
    "%end universal_quantification"
   ]
  }
 ],
 "metadata": {
  "kernelspec": {
   "display_name": "Python 3",
   "language": "python",
   "name": "python3"
  },
  "language_info": {
   "codemirror_mode": {
    "name": "ipython",
    "version": 3
   },
   "file_extension": ".py",
   "mimetype": "text/x-python",
   "name": "python",
   "nbconvert_exporter": "python",
   "pygments_lexer": "ipython3",
   "version": "3.7.1"
  }
 },
 "nbformat": 4,
 "nbformat_minor": 2
}
