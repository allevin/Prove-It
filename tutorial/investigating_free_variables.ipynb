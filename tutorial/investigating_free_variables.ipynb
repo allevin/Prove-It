{
 "cells": [
  {
   "cell_type": "code",
   "execution_count": 6,
   "metadata": {},
   "outputs": [],
   "source": [
    "from proveit import Function, ExprList, Lambda, Literal\n",
    "from proveit.logic import Forall, Exists, InSet, Equals\n",
    "from proveit.logic.equality._axioms_ import substitution\n",
    "from proveit.number import Less, Add, Frac, zero\n",
    "from proveit._common_ import a, b, c, f, x, y, z, fx, P, Px, Pxy, Q, Qx, R, Rx, Ry, S, t, T"
   ]
  },
  {
   "cell_type": "code",
   "execution_count": 10,
   "metadata": {},
   "outputs": [
    {
     "data": {
      "text/html": [
       "<a class=\"ProveItLink\" href=\"__pv_it/69de4ad86bc3288047dbf19c8e270479824b95090/expr.ipynb\"><img src=\"__pv_it/69de4ad86bc3288047dbf19c8e270479824b95090/expr.png\" style=\"display:inline;vertical-align:middle;\" /></a>"
      ],
      "text/plain": [
       "(y + x) = 0"
      ]
     },
     "execution_count": 10,
     "metadata": {},
     "output_type": "execute_result"
    }
   ],
   "source": [
    "Equals(Add(y, x), zero)"
   ]
  },
  {
   "cell_type": "code",
   "execution_count": 12,
   "metadata": {},
   "outputs": [
    {
     "data": {
      "text/html": [
       "<strong id=\"basicThereExistsExpr00\">basicThereExistsExpr00:</strong> <a class=\"ProveItLink\" href=\"__pv_it/b4b9962be3f3a7248c856f15807ee4a4f40e12a20/expr.ipynb\"><img src=\"__pv_it/b4b9962be3f3a7248c856f15807ee4a4f40e12a20/expr.png\" style=\"display:inline;vertical-align:middle;\" /></a><br>"
      ],
      "text/plain": [
       "basicThereExistsExpr00: exists_{x | P(x)} ((y + x) = 0)"
      ]
     },
     "execution_count": 12,
     "metadata": {},
     "output_type": "execute_result"
    }
   ],
   "source": [
    "basicThereExistsExpr00 = Exists(x, Equals(Add(y, x), zero), conditions=[Px])"
   ]
  },
  {
   "cell_type": "code",
   "execution_count": 14,
   "metadata": {},
   "outputs": [
    {
     "data": {
      "text/plain": [
       "{P, y}"
      ]
     },
     "execution_count": 14,
     "metadata": {},
     "output_type": "execute_result"
    }
   ],
   "source": [
    "basicThereExistsExpr00.freeVars()"
   ]
  },
  {
   "cell_type": "code",
   "execution_count": 15,
   "metadata": {},
   "outputs": [
    {
     "data": {
      "text/plain": [
       "[P(x)]"
      ]
     },
     "execution_count": 15,
     "metadata": {},
     "output_type": "execute_result"
    }
   ],
   "source": [
    "basicThereExistsExpr00.allConditions()"
   ]
  },
  {
   "cell_type": "code",
   "execution_count": 21,
   "metadata": {},
   "outputs": [
    {
     "data": {
      "text/html": [
       "<strong id=\"basicThereExistsExpr01\">basicThereExistsExpr01:</strong> <a class=\"ProveItLink\" href=\"__pv_it/761a26a26ff7e8c783c63a2b6b009d9b35a61fd20/expr.ipynb\"><img src=\"__pv_it/761a26a26ff7e8c783c63a2b6b009d9b35a61fd20/expr.png\" style=\"display:inline;vertical-align:middle;\" /></a><br>"
      ],
      "text/plain": [
       "basicThereExistsExpr01: exists_{x | Q(x)} P(x , y)"
      ]
     },
     "execution_count": 21,
     "metadata": {},
     "output_type": "execute_result"
    }
   ],
   "source": [
    "basicThereExistsExpr01 = Exists(x, Pxy, conditions=[Qx])"
   ]
  },
  {
   "cell_type": "code",
   "execution_count": 22,
   "metadata": {},
   "outputs": [
    {
     "data": {
      "text/plain": [
       "{P, Q, y}"
      ]
     },
     "execution_count": 22,
     "metadata": {},
     "output_type": "execute_result"
    }
   ],
   "source": [
    "basicThereExistsExpr01.freeVars()"
   ]
  },
  {
   "cell_type": "code",
   "execution_count": 25,
   "metadata": {},
   "outputs": [
    {
     "data": {
      "text/html": [
       "<strong id=\"basicThereExistsExpr02\">basicThereExistsExpr02:</strong> <a class=\"ProveItLink\" href=\"__pv_it/159279f5ca31098fb7096b31c58a490533ce482f0/expr.ipynb\"><img src=\"__pv_it/159279f5ca31098fb7096b31c58a490533ce482f0/expr.png\" style=\"display:inline;vertical-align:middle;\" /></a><br>"
      ],
      "text/plain": [
       "basicThereExistsExpr02: exists_{x | (x + y) = Q(x)} P(x , y)"
      ]
     },
     "execution_count": 25,
     "metadata": {},
     "output_type": "execute_result"
    }
   ],
   "source": [
    "basicThereExistsExpr02 = Exists(x, Pxy, conditions=[Equals(Add(x, y), Qx)])"
   ]
  },
  {
   "cell_type": "code",
   "execution_count": 24,
   "metadata": {},
   "outputs": [
    {
     "data": {
      "text/plain": [
       "{P, y, z}"
      ]
     },
     "execution_count": 24,
     "metadata": {},
     "output_type": "execute_result"
    }
   ],
   "source": [
    "basicThereExistsExpr02.freeVars()"
   ]
  },
  {
   "cell_type": "code",
   "execution_count": 26,
   "metadata": {},
   "outputs": [
    {
     "data": {
      "text/html": [
       "<table><tr><th>&nbsp;</th><th>core type</th><th>sub-expressions</th><th>expression</th></tr>\n",
       "<tr><td>0</td><td>Operation</td><td>operator:&nbsp;1<br>operand:&nbsp;2<br></td><td><a class=\"ProveItLink\" href=\"__pv_it/159279f5ca31098fb7096b31c58a490533ce482f0/expr.ipynb\"><img src=\"__pv_it/159279f5ca31098fb7096b31c58a490533ce482f0/expr.png\" style=\"display:inline;vertical-align:middle;\" /></a></td></tr>\n",
       "<tr><td>1</td><td>Literal</td><td></td><td><a class=\"ProveItLink\" href=\"../packages/proveit/logic/boolean/quantification/existential/__pv_it/da19b8f23feda7f65e2e1ac67a7814d51a597b7d0/expr.ipynb\"><img src=\"../packages/proveit/logic/boolean/quantification/existential/__pv_it/da19b8f23feda7f65e2e1ac67a7814d51a597b7d0/expr.png\" style=\"display:inline;vertical-align:middle;\" /></a></td></tr>\n",
       "<tr><td>2</td><td>Lambda</td><td>parameter:&nbsp;14<br>body:&nbsp;3<br>conditions:&nbsp;4<br></td><td><a class=\"ProveItLink\" href=\"__pv_it/206a999a67944492a9fcf5e553c57b284977218a0/expr.ipynb\"><img src=\"__pv_it/206a999a67944492a9fcf5e553c57b284977218a0/expr.png\" style=\"display:inline;vertical-align:middle;\" /></a></td></tr>\n",
       "<tr><td>3</td><td>Operation</td><td>operator:&nbsp;5<br>operands:&nbsp;12<br></td><td><a class=\"ProveItLink\" href=\"../packages/proveit/__pv_it/4ebbf9cd5f2e78405c64e81897dc9bd29f55abca0/expr.ipynb\"><img src=\"../packages/proveit/__pv_it/4ebbf9cd5f2e78405c64e81897dc9bd29f55abca0/expr.png\" style=\"display:inline;vertical-align:middle;\" /></a></td></tr>\n",
       "<tr><td>4</td><td>ExprList</td><td>6</td><td><a class=\"ProveItLink\" href=\"__pv_it/91361b3978dd52576ee92d8945daffa0c1e31bf30/expr.ipynb\"><img src=\"__pv_it/91361b3978dd52576ee92d8945daffa0c1e31bf30/expr.png\" style=\"display:inline;vertical-align:middle;\" /></a></td></tr>\n",
       "<tr><td>5</td><td>Variable</td><td></td><td><a class=\"ProveItLink\" href=\"../packages/proveit/__pv_it/6369c6c8083c513ca7161ace249642d040f9327d0/expr.ipynb\"><img src=\"../packages/proveit/__pv_it/6369c6c8083c513ca7161ace249642d040f9327d0/expr.png\" style=\"display:inline;vertical-align:middle;\" /></a></td></tr>\n",
       "<tr><td>6</td><td>Operation</td><td>operator:&nbsp;7<br>operands:&nbsp;8<br></td><td><a class=\"ProveItLink\" href=\"__pv_it/de91754a5842f4bbafb71d25edc77ed472dad8380/expr.ipynb\"><img src=\"__pv_it/de91754a5842f4bbafb71d25edc77ed472dad8380/expr.png\" style=\"display:inline;vertical-align:middle;\" /></a></td></tr>\n",
       "<tr><td>7</td><td>Literal</td><td></td><td><a class=\"ProveItLink\" href=\"../packages/proveit/logic/equality/__pv_it/2fb26078095930560931daa0500ce419a39ea6cd0/expr.ipynb\"><img src=\"../packages/proveit/logic/equality/__pv_it/2fb26078095930560931daa0500ce419a39ea6cd0/expr.png\" style=\"display:inline;vertical-align:middle;\" /></a></td></tr>\n",
       "<tr><td>8</td><td>ExprList</td><td>9, 10</td><td><a class=\"ProveItLink\" href=\"__pv_it/80e0dc2b6b6d7492a9baabe403064764f88ac1490/expr.ipynb\"><img src=\"__pv_it/80e0dc2b6b6d7492a9baabe403064764f88ac1490/expr.png\" style=\"display:inline;vertical-align:middle;\" /></a></td></tr>\n",
       "<tr><td>9</td><td>Operation</td><td>operator:&nbsp;11<br>operands:&nbsp;12<br></td><td><a class=\"ProveItLink\" href=\"__pv_it/d4e67641042ac9f37732723a043bc08bac547eee0/expr.ipynb\"><img src=\"__pv_it/d4e67641042ac9f37732723a043bc08bac547eee0/expr.png\" style=\"display:inline;vertical-align:middle;\" /></a></td></tr>\n",
       "<tr><td>10</td><td>Operation</td><td>operator:&nbsp;13<br>operand:&nbsp;14<br></td><td><a class=\"ProveItLink\" href=\"../packages/proveit/__pv_it/050bcffbb388a0b365dac8afc3d37833b4bb47300/expr.ipynb\"><img src=\"../packages/proveit/__pv_it/050bcffbb388a0b365dac8afc3d37833b4bb47300/expr.png\" style=\"display:inline;vertical-align:middle;\" /></a></td></tr>\n",
       "<tr><td>11</td><td>Literal</td><td></td><td><a class=\"ProveItLink\" href=\"../packages/proveit/number/addition/__pv_it/3e6688136fa3c7aefbebe51301b7c3ebf0b69c440/expr.ipynb\"><img src=\"../packages/proveit/number/addition/__pv_it/3e6688136fa3c7aefbebe51301b7c3ebf0b69c440/expr.png\" style=\"display:inline;vertical-align:middle;\" /></a></td></tr>\n",
       "<tr><td>12</td><td>ExprList</td><td>14, 15</td><td><a class=\"ProveItLink\" href=\"__pv_it/49ffa46c24d385ebbd0014895cf61cc7cb8bd9bb0/expr.ipynb\"><img src=\"__pv_it/49ffa46c24d385ebbd0014895cf61cc7cb8bd9bb0/expr.png\" style=\"display:inline;vertical-align:middle;\" /></a></td></tr>\n",
       "<tr><td>13</td><td>Variable</td><td></td><td><a class=\"ProveItLink\" href=\"../packages/proveit/__pv_it/98124f92e6e1fc3772af50ac63eaa1f5624776f20/expr.ipynb\"><img src=\"../packages/proveit/__pv_it/98124f92e6e1fc3772af50ac63eaa1f5624776f20/expr.png\" style=\"display:inline;vertical-align:middle;\" /></a></td></tr>\n",
       "<tr><td>14</td><td>Variable</td><td></td><td><a class=\"ProveItLink\" href=\"../packages/proveit/__pv_it/530be409e3083890784cf1d7b28c9e67e90af9360/expr.ipynb\"><img src=\"../packages/proveit/__pv_it/530be409e3083890784cf1d7b28c9e67e90af9360/expr.png\" style=\"display:inline;vertical-align:middle;\" /></a></td></tr>\n",
       "<tr><td>15</td><td>Variable</td><td></td><td><a class=\"ProveItLink\" href=\"../packages/proveit/__pv_it/f8b9edf8e16034727f0aad55bb83e392c3db40d40/expr.ipynb\"><img src=\"../packages/proveit/__pv_it/f8b9edf8e16034727f0aad55bb83e392c3db40d40/expr.png\" style=\"display:inline;vertical-align:middle;\" /></a></td></tr>\n",
       "</table>\n"
      ],
      "text/plain": [
       "0. exists_{x | (x + y) = Q(x)} P(x , y)\n",
       "   core type: Operation\n",
       "   operator: 1\n",
       "   operand: 2\n",
       "1. exists\n",
       "   core type: Literal\n",
       "   sub-expressions: \n",
       "2. x -> P(x , y) | (x + y) = Q(x)\n",
       "   core type: Lambda\n",
       "   parameter: 14\n",
       "   body: 3\n",
       "   conditions: 4\\n3. P(x , y)\n",
       "   core type: Operation\n",
       "   operator: 5\n",
       "   operands: 12\n",
       "4. ((x + y) = Q(x))\n",
       "   core type: ExprList\n",
       "   sub-expressions: 6\n",
       "5. P\n",
       "   core type: Variable\n",
       "   sub-expressions: \n",
       "6. (x + y) = Q(x)\n",
       "   core type: Operation\n",
       "   operator: 7\n",
       "   operands: 8\n",
       "7. =\n",
       "   core type: Literal\n",
       "   sub-expressions: \n",
       "8. (x + y , Q(x))\n",
       "   core type: ExprList\n",
       "   sub-expressions: 9, 10\n",
       "9. x + y\n",
       "   core type: Operation\n",
       "   operator: 11\n",
       "   operands: 12\n",
       "10. Q(x)\n",
       "    core type: Operation\n",
       "    operator: 13\n",
       "    operand: 14\n",
       "11. +\n",
       "    core type: Literal\n",
       "    sub-expressions: \n",
       "12. (x , y)\n",
       "    core type: ExprList\n",
       "    sub-expressions: 14, 15\n",
       "13. Q\n",
       "    core type: Variable\n",
       "    sub-expressions: \n",
       "14. x\n",
       "    core type: Variable\n",
       "    sub-expressions: \n",
       "15. y\n",
       "    core type: Variable\n",
       "    sub-expressions: "
      ]
     },
     "execution_count": 26,
     "metadata": {},
     "output_type": "execute_result"
    }
   ],
   "source": [
    "basicThereExistsExpr02.exprInfo()"
   ]
  },
  {
   "cell_type": "code",
   "execution_count": 37,
   "metadata": {},
   "outputs": [
    {
     "data": {
      "text/plain": [
       "{P, x, y}"
      ]
     },
     "execution_count": 37,
     "metadata": {},
     "output_type": "execute_result"
    }
   ],
   "source": [
    "basicThereExistsExpr02.instanceExpr.freeVars()"
   ]
  },
  {
   "cell_type": "code",
   "execution_count": 13,
   "metadata": {},
   "outputs": [
    {
     "ename": "Exception",
     "evalue": "Side effect failure for exists_{x | P(x)} ((y + x) = 0), while running <bound method Exists.deriveNegatedForall of exists_{x | P(x)} ((y + x) = 0)>: Need to update",
     "output_type": "error",
     "traceback": [
      "\u001b[0;31m---------------------------------------------------------------------------\u001b[0m",
      "\u001b[0;31mNotImplementedError\u001b[0m                       Traceback (most recent call last)",
      "\u001b[0;32m~/Desktop/Prove-It/packages/proveit/_core_/known_truth.py\u001b[0m in \u001b[0;36mderiveSideEffects\u001b[0;34m(self, assumptions)\u001b[0m\n\u001b[1;32m    191\u001b[0m             \u001b[0mKnownTruth\u001b[0m\u001b[0;34m.\u001b[0m\u001b[0min_progress_to_derive_sideeffects\u001b[0m\u001b[0;34m.\u001b[0m\u001b[0madd\u001b[0m\u001b[0;34m(\u001b[0m\u001b[0mself\u001b[0m\u001b[0;34m)\u001b[0m\u001b[0;34m\u001b[0m\u001b[0;34m\u001b[0m\u001b[0m\n\u001b[0;32m--> 192\u001b[0;31m             \u001b[0;32mtry\u001b[0m\u001b[0;34m:\u001b[0m\u001b[0;34m\u001b[0m\u001b[0;34m\u001b[0m\u001b[0m\n\u001b[0m\u001b[1;32m    193\u001b[0m                 \u001b[0;32mfor\u001b[0m \u001b[0msideEffect\u001b[0m \u001b[0;32min\u001b[0m \u001b[0mself\u001b[0m\u001b[0;34m.\u001b[0m\u001b[0mexpr\u001b[0m\u001b[0;34m.\u001b[0m\u001b[0msideEffects\u001b[0m\u001b[0;34m(\u001b[0m\u001b[0mself\u001b[0m\u001b[0;34m)\u001b[0m\u001b[0;34m:\u001b[0m\u001b[0;34m\u001b[0m\u001b[0;34m\u001b[0m\u001b[0m\n",
      "\u001b[0;32m~/Desktop/Prove-It/packages/proveit/logic/boolean/quantification/existential/exists.py\u001b[0m in \u001b[0;36mderiveNegatedForall\u001b[0;34m(self, assumptions)\u001b[0m\n\u001b[1;32m     70\u001b[0m \u001b[0;34m\u001b[0m\u001b[0m\n\u001b[0;32m---> 71\u001b[0;31m     \u001b[0;32mdef\u001b[0m \u001b[0mderiveNegatedForall\u001b[0m\u001b[0;34m(\u001b[0m\u001b[0mself\u001b[0m\u001b[0;34m,\u001b[0m \u001b[0massumptions\u001b[0m\u001b[0;34m=\u001b[0m\u001b[0mUSE_DEFAULTS\u001b[0m\u001b[0;34m)\u001b[0m\u001b[0;34m:\u001b[0m\u001b[0;34m\u001b[0m\u001b[0;34m\u001b[0m\u001b[0m\n\u001b[0m\u001b[1;32m     72\u001b[0m         '''\n",
      "\u001b[0;31mNotImplementedError\u001b[0m: Need to update",
      "\nDuring handling of the above exception, another exception occurred:\n",
      "\u001b[0;31mException\u001b[0m                                 Traceback (most recent call last)",
      "\u001b[0;32m<ipython-input-13-22cd9587c4bb>\u001b[0m in \u001b[0;36m<module>\u001b[0;34m\u001b[0m\n\u001b[0;32m----> 1\u001b[0;31m \u001b[0mbasicThereExistsExpr00KT\u001b[0m \u001b[0;34m=\u001b[0m \u001b[0mbasicThereExistsExpr00\u001b[0m\u001b[0;34m.\u001b[0m\u001b[0mprove\u001b[0m\u001b[0;34m(\u001b[0m\u001b[0massumptions\u001b[0m\u001b[0;34m=\u001b[0m\u001b[0;34m{\u001b[0m\u001b[0mbasicThereExistsExpr00\u001b[0m\u001b[0;34m}\u001b[0m\u001b[0;34m)\u001b[0m\u001b[0;34m\u001b[0m\u001b[0;34m\u001b[0m\u001b[0m\n\u001b[0m\u001b[1;32m      2\u001b[0m \u001b[0mproveit\u001b[0m\u001b[0;34m.\u001b[0m\u001b[0mmagics\u001b[0m\u001b[0;34m.\u001b[0m\u001b[0mAssignments\u001b[0m\u001b[0;34m(\u001b[0m\u001b[0;34m[\u001b[0m\u001b[0;34m'basicThereExistsExpr00KT'\u001b[0m\u001b[0;34m]\u001b[0m\u001b[0;34m,\u001b[0m \u001b[0;34m[\u001b[0m\u001b[0mbasicThereExistsExpr00KT\u001b[0m\u001b[0;34m]\u001b[0m\u001b[0;34m)\u001b[0m\u001b[0;34m\u001b[0m\u001b[0;34m\u001b[0m\u001b[0m\n",
      "\u001b[0;32m~/Desktop/Prove-It/packages/proveit/_core_/expression/expr.py\u001b[0m in \u001b[0;36mprove\u001b[0;34m(self, assumptions, automation)\u001b[0m\n\u001b[1;32m    393\u001b[0m         \u001b[0;32mfrom\u001b[0m \u001b[0mproveit\u001b[0m \u001b[0;32mimport\u001b[0m \u001b[0mKnownTruth\u001b[0m\u001b[0;34m,\u001b[0m \u001b[0mProofFailure\u001b[0m\u001b[0;34m\u001b[0m\u001b[0;34m\u001b[0m\u001b[0m\n\u001b[1;32m    394\u001b[0m         \u001b[0;32mfrom\u001b[0m \u001b[0mproveit\u001b[0m\u001b[0;34m.\u001b[0m\u001b[0mlogic\u001b[0m \u001b[0;32mimport\u001b[0m \u001b[0mNot\u001b[0m\u001b[0;34m\u001b[0m\u001b[0;34m\u001b[0m\u001b[0m\n\u001b[0;32m--> 395\u001b[0;31m         \u001b[0massumptions\u001b[0m \u001b[0;34m=\u001b[0m \u001b[0mdefaults\u001b[0m\u001b[0;34m.\u001b[0m\u001b[0mcheckedAssumptions\u001b[0m\u001b[0;34m(\u001b[0m\u001b[0massumptions\u001b[0m\u001b[0;34m)\u001b[0m\u001b[0;34m\u001b[0m\u001b[0;34m\u001b[0m\u001b[0m\n\u001b[0m\u001b[1;32m    396\u001b[0m         \u001b[0massumptionsSet\u001b[0m \u001b[0;34m=\u001b[0m \u001b[0mset\u001b[0m\u001b[0;34m(\u001b[0m\u001b[0massumptions\u001b[0m\u001b[0;34m)\u001b[0m\u001b[0;34m\u001b[0m\u001b[0;34m\u001b[0m\u001b[0m\n\u001b[1;32m    397\u001b[0m         \u001b[0;32mif\u001b[0m \u001b[0mautomation\u001b[0m \u001b[0;32mis\u001b[0m \u001b[0mUSE_DEFAULTS\u001b[0m\u001b[0;34m:\u001b[0m\u001b[0;34m\u001b[0m\u001b[0;34m\u001b[0m\u001b[0m\n",
      "\u001b[0;32m~/Desktop/Prove-It/packages/proveit/_core_/defaults.py\u001b[0m in \u001b[0;36mcheckedAssumptions\u001b[0;34m(self, assumptions)\u001b[0m\n\u001b[1;32m     33\u001b[0m                 \u001b[0;31m# Prove each assumption, by assumption, to deduce any side-effects.\u001b[0m\u001b[0;34m\u001b[0m\u001b[0;34m\u001b[0m\u001b[0;34m\u001b[0m\u001b[0m\n\u001b[1;32m     34\u001b[0m                 \u001b[0;31m# Note that while we only need THE assumption to prove itself,\u001b[0m\u001b[0;34m\u001b[0m\u001b[0;34m\u001b[0m\u001b[0;34m\u001b[0m\u001b[0m\n\u001b[0;32m---> 35\u001b[0;31m                 \u001b[0mAssumption\u001b[0m\u001b[0;34m.\u001b[0m\u001b[0mmakeAssumption\u001b[0m\u001b[0;34m(\u001b[0m\u001b[0massumption\u001b[0m\u001b[0;34m,\u001b[0m \u001b[0massumptions\u001b[0m\u001b[0;34m)\u001b[0m \u001b[0;31m# having the other assumptions around can be useful for deriving side-effects.\u001b[0m\u001b[0;34m\u001b[0m\u001b[0;34m\u001b[0m\u001b[0m\n\u001b[0m\u001b[1;32m     36\u001b[0m             \u001b[0;32mif\u001b[0m \u001b[0;32mnot\u001b[0m \u001b[0mself\u001b[0m\u001b[0;34m.\u001b[0m\u001b[0mautomation\u001b[0m\u001b[0;34m:\u001b[0m\u001b[0;34m\u001b[0m\u001b[0;34m\u001b[0m\u001b[0m\n\u001b[1;32m     37\u001b[0m                 \u001b[0;31m# consideration doesn't fully count if automation is off\u001b[0m\u001b[0;34m\u001b[0m\u001b[0;34m\u001b[0m\u001b[0;34m\u001b[0m\u001b[0m\n",
      "\u001b[0;32m~/Desktop/Prove-It/packages/proveit/_core_/proof.py\u001b[0m in \u001b[0;36mmakeAssumption\u001b[0;34m(expr, assumptions)\u001b[0m\n\u001b[1;32m    354\u001b[0m             \u001b[0mpreexisting\u001b[0m \u001b[0;34m=\u001b[0m \u001b[0mAssumption\u001b[0m\u001b[0;34m.\u001b[0m\u001b[0mallAssumptions\u001b[0m\u001b[0;34m[\u001b[0m\u001b[0mexpr\u001b[0m\u001b[0;34m]\u001b[0m\u001b[0;34m\u001b[0m\u001b[0;34m\u001b[0m\u001b[0m\n\u001b[1;32m    355\u001b[0m             \u001b[0;31m# The Assumption object exists already, but it's\u001b[0m\u001b[0;34m\u001b[0m\u001b[0;34m\u001b[0m\u001b[0;34m\u001b[0m\u001b[0m\n\u001b[0;32m--> 356\u001b[0;31m             \u001b[0;31m# side-effects may not have been derived yet under the\u001b[0m\u001b[0;34m\u001b[0m\u001b[0;34m\u001b[0m\u001b[0;34m\u001b[0m\u001b[0m\n\u001b[0m\u001b[1;32m    357\u001b[0m             \u001b[0;31m# given assumptions.\u001b[0m\u001b[0;34m\u001b[0m\u001b[0;34m\u001b[0m\u001b[0;34m\u001b[0m\u001b[0m\n\u001b[1;32m    358\u001b[0m             \u001b[0;31m# This can happen when automation is temporarily disabled or\u001b[0m\u001b[0;34m\u001b[0m\u001b[0;34m\u001b[0m\u001b[0;34m\u001b[0m\u001b[0m\n",
      "\u001b[0;32m~/Desktop/Prove-It/packages/proveit/_core_/proof.py\u001b[0m in \u001b[0;36m__init__\u001b[0;34m(self, expr, assumptions)\u001b[0m\n\u001b[1;32m    332\u001b[0m         \u001b[0;32massert\u001b[0m \u001b[0mexpr\u001b[0m \u001b[0;32mnot\u001b[0m \u001b[0;32min\u001b[0m \u001b[0mAssumption\u001b[0m\u001b[0;34m.\u001b[0m\u001b[0mallAssumptions\u001b[0m\u001b[0;34m,\u001b[0m \u001b[0;34m\"Do not create an Assumption object directly; use Assumption.makeAssumption instead.\"\u001b[0m\u001b[0;34m\u001b[0m\u001b[0;34m\u001b[0m\u001b[0m\n\u001b[1;32m    333\u001b[0m         \u001b[0massumptions\u001b[0m \u001b[0;34m=\u001b[0m \u001b[0mdefaults\u001b[0m\u001b[0;34m.\u001b[0m\u001b[0mcheckedAssumptions\u001b[0m\u001b[0;34m(\u001b[0m\u001b[0massumptions\u001b[0m\u001b[0;34m)\u001b[0m\u001b[0;34m\u001b[0m\u001b[0;34m\u001b[0m\u001b[0m\n\u001b[0;32m--> 334\u001b[0;31m         \u001b[0;32mif\u001b[0m \u001b[0mexpr\u001b[0m \u001b[0;32mnot\u001b[0m \u001b[0;32min\u001b[0m \u001b[0massumptions\u001b[0m\u001b[0;34m:\u001b[0m\u001b[0;34m\u001b[0m\u001b[0;34m\u001b[0m\u001b[0m\n\u001b[0m\u001b[1;32m    335\u001b[0m             \u001b[0;31m# an Assumption proof must assume itself; that's what it does.\u001b[0m\u001b[0;34m\u001b[0m\u001b[0;34m\u001b[0m\u001b[0;34m\u001b[0m\u001b[0m\n\u001b[1;32m    336\u001b[0m             \u001b[0massumptions\u001b[0m \u001b[0;34m=\u001b[0m \u001b[0massumptions\u001b[0m \u001b[0;34m+\u001b[0m \u001b[0;34m(\u001b[0m\u001b[0mexpr\u001b[0m\u001b[0;34m,\u001b[0m\u001b[0;34m)\u001b[0m\u001b[0;34m\u001b[0m\u001b[0;34m\u001b[0m\u001b[0m\n",
      "\u001b[0;32m~/Desktop/Prove-It/packages/proveit/_core_/proof.py\u001b[0m in \u001b[0;36m__init__\u001b[0;34m(self, provenTruth, requiredTruths)\u001b[0m\n\u001b[1;32m    123\u001b[0m             \u001b[0;31m# Raise an UnusableProof exception when an attempt is made\u001b[0m\u001b[0;34m\u001b[0m\u001b[0;34m\u001b[0m\u001b[0;34m\u001b[0m\u001b[0m\n\u001b[1;32m    124\u001b[0m             \u001b[0;31m# to use an \"unusable\" theorem directly or indirectly.\u001b[0m\u001b[0;34m\u001b[0m\u001b[0;34m\u001b[0m\u001b[0;34m\u001b[0m\u001b[0m\n\u001b[0;32m--> 125\u001b[0;31m             \u001b[0;32mraise\u001b[0m \u001b[0mUnusableProof\u001b[0m\u001b[0;34m(\u001b[0m\u001b[0mKnownTruth\u001b[0m\u001b[0;34m.\u001b[0m\u001b[0mtheoremBeingProven\u001b[0m\u001b[0;34m,\u001b[0m \u001b[0mself\u001b[0m\u001b[0;34m.\u001b[0m\u001b[0m_meaningData\u001b[0m\u001b[0;34m.\u001b[0m\u001b[0m_unusableProof\u001b[0m\u001b[0;34m)\u001b[0m\u001b[0;34m\u001b[0m\u001b[0;34m\u001b[0m\u001b[0m\n\u001b[0m\u001b[1;32m    126\u001b[0m         \u001b[0;32mif\u001b[0m \u001b[0mprovenTruth\u001b[0m\u001b[0;34m.\u001b[0m\u001b[0mproof\u001b[0m\u001b[0;34m(\u001b[0m\u001b[0;34m)\u001b[0m\u001b[0;34m==\u001b[0m\u001b[0mself\u001b[0m \u001b[0;32mand\u001b[0m \u001b[0mself\u001b[0m\u001b[0;34m.\u001b[0m\u001b[0misUsable\u001b[0m\u001b[0;34m(\u001b[0m\u001b[0;34m)\u001b[0m\u001b[0;34m:\u001b[0m \u001b[0;31m# don't bother with side effects if this proof was born obsolete or unusable\u001b[0m\u001b[0;34m\u001b[0m\u001b[0;34m\u001b[0m\u001b[0m\n\u001b[1;32m    127\u001b[0m             \u001b[0;31m# May derive any side-effects that are obvious consequences arising from this truth\u001b[0m\u001b[0;34m\u001b[0m\u001b[0;34m\u001b[0m\u001b[0;34m\u001b[0m\u001b[0m\n",
      "\u001b[0;32m~/Desktop/Prove-It/packages/proveit/_core_/known_truth.py\u001b[0m in \u001b[0;36mderiveSideEffects\u001b[0;34m(self, assumptions)\u001b[0m\n\u001b[1;32m    194\u001b[0m                     \u001b[0;31m# Attempt each side-effect derivation, specific to the\u001b[0m\u001b[0;34m\u001b[0m\u001b[0;34m\u001b[0m\u001b[0;34m\u001b[0m\u001b[0m\n\u001b[1;32m    195\u001b[0m                     \u001b[0;31m# type of Expression.\u001b[0m\u001b[0;34m\u001b[0m\u001b[0;34m\u001b[0m\u001b[0;34m\u001b[0m\u001b[0m\n\u001b[0;32m--> 196\u001b[0;31m                     \u001b[0;32mtry\u001b[0m\u001b[0;34m:\u001b[0m\u001b[0;34m\u001b[0m\u001b[0;34m\u001b[0m\u001b[0m\n\u001b[0m\u001b[1;32m    197\u001b[0m                         \u001b[0;31m# use the default assumptions which are temporarily set to the\u001b[0m\u001b[0;34m\u001b[0m\u001b[0;34m\u001b[0m\u001b[0;34m\u001b[0m\u001b[0m\n\u001b[1;32m    198\u001b[0m                         \u001b[0;31m# assumptions utilized in the last derivation step.\u001b[0m\u001b[0;34m\u001b[0m\u001b[0;34m\u001b[0m\u001b[0;34m\u001b[0m\u001b[0m\n",
      "\u001b[0;31mException\u001b[0m: Side effect failure for exists_{x | P(x)} ((y + x) = 0), while running <bound method Exists.deriveNegatedForall of exists_{x | P(x)} ((y + x) = 0)>: Need to update"
     ]
    }
   ],
   "source": [
    "basicThereExistsExpr00KT = basicThereExistsExpr00.prove(assumptions={basicThereExistsExpr00})"
   ]
  },
  {
   "cell_type": "code",
   "execution_count": null,
   "metadata": {},
   "outputs": [],
   "source": []
  }
 ],
 "metadata": {
  "kernelspec": {
   "display_name": "Python 3",
   "language": "python",
   "name": "python3"
  },
  "language_info": {
   "codemirror_mode": {
    "name": "ipython",
    "version": 3
   },
   "file_extension": ".py",
   "mimetype": "text/x-python",
   "name": "python",
   "nbconvert_exporter": "python",
   "pygments_lexer": "ipython3",
   "version": "3.7.1"
  }
 },
 "nbformat": 4,
 "nbformat_minor": 2
}
