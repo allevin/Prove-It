{
 "cells": [
  {
   "cell_type": "markdown",
   "metadata": {},
   "source": [
    "Chapter 11. Proofs Using Advanced Expression \n",
    "==================="
   ]
  },
  {
   "cell_type": "markdown",
   "metadata": {
    "collapsed": true
   },
   "source": [
    "## MultiVariable relabeling\n",
    "\n",
    "A **MultiVariable** may be relabels to a **Composite** of **Variable**s and/or **MultiVariable**s.\n",
    "\n",
    "For the next examples, we'll import an axiom from the `proveit.logic` package that uses a **MultiVariable**."
   ]
  },
  {
   "cell_type": "code",
   "execution_count": 1,
   "metadata": {},
   "outputs": [
    {
     "ename": "ImportError",
     "evalue": "cannot import name 'composition' from 'proveit.logic.boolean.conjunction._axioms_' (/home/jmadri/Prove-It/packages/proveit/logic/boolean/conjunction/_axioms_.py)",
     "output_type": "error",
     "traceback": [
      "\u001b[0;31m---------------------------------------------------------------------------\u001b[0m",
      "\u001b[0;31mImportError\u001b[0m                               Traceback (most recent call last)",
      "\u001b[0;32m<ipython-input-1-94f1a28c4041>\u001b[0m in \u001b[0;36m<module>\u001b[0;34m\u001b[0m\n\u001b[0;32m----> 1\u001b[0;31m \u001b[0;32mfrom\u001b[0m \u001b[0mproveit\u001b[0m\u001b[0;34m.\u001b[0m\u001b[0mlogic\u001b[0m\u001b[0;34m.\u001b[0m\u001b[0mboolean\u001b[0m\u001b[0;34m.\u001b[0m\u001b[0mconjunction\u001b[0m\u001b[0;34m.\u001b[0m\u001b[0m_axioms_\u001b[0m \u001b[0;32mimport\u001b[0m \u001b[0mcomposition\u001b[0m\u001b[0;34m\u001b[0m\u001b[0;34m\u001b[0m\u001b[0m\n\u001b[0m\u001b[1;32m      2\u001b[0m \u001b[0mcomposition\u001b[0m\u001b[0;34m\u001b[0m\u001b[0;34m\u001b[0m\u001b[0m\n",
      "\u001b[0;31mImportError\u001b[0m: cannot import name 'composition' from 'proveit.logic.boolean.conjunction._axioms_' (/home/jmadri/Prove-It/packages/proveit/logic/boolean/conjunction/_axioms_.py)"
     ]
    }
   ],
   "source": [
    "from proveit.logic.boolean.conjunction._axioms_ import composition\n",
    "composition"
   ]
  },
  {
   "cell_type": "markdown",
   "metadata": {},
   "source": [
    "Let us *relabel* the **MultiVariable** $B_{\\Box}$ to two **Variable**s.  This results in a weaker statement.  The original statement is a rule that applies to any number of zero or more **Variable**s in place of $B_{\\Box}$.  The new statement replaces it with exactly two **Variable**s."
   ]
  },
  {
   "cell_type": "code",
   "execution_count": 2,
   "metadata": {},
   "outputs": [
    {
     "ename": "ModuleNotFoundError",
     "evalue": "No module named 'proveit.common'",
     "output_type": "error",
     "traceback": [
      "\u001b[0;31m---------------------------------------------------------------------------\u001b[0m",
      "\u001b[0;31mModuleNotFoundError\u001b[0m                       Traceback (most recent call last)",
      "\u001b[0;32m<ipython-input-2-436dcf7e23f1>\u001b[0m in \u001b[0;36m<module>\u001b[0;34m\u001b[0m\n\u001b[0;32m----> 1\u001b[0;31m \u001b[0;32mfrom\u001b[0m \u001b[0mproveit\u001b[0m\u001b[0;34m.\u001b[0m\u001b[0mcommon\u001b[0m \u001b[0;32mimport\u001b[0m \u001b[0mBmulti\u001b[0m\u001b[0;34m\u001b[0m\u001b[0;34m\u001b[0m\u001b[0m\n\u001b[0m\u001b[1;32m      2\u001b[0m \u001b[0mcomposition\u001b[0m\u001b[0;34m.\u001b[0m\u001b[0mrelabel\u001b[0m\u001b[0;34m(\u001b[0m\u001b[0;34m{\u001b[0m\u001b[0mBmulti\u001b[0m\u001b[0;34m:\u001b[0m\u001b[0;34m[\u001b[0m\u001b[0mB\u001b[0m\u001b[0;34m,\u001b[0m \u001b[0mC\u001b[0m\u001b[0;34m]\u001b[0m\u001b[0;34m}\u001b[0m\u001b[0;34m)\u001b[0m\u001b[0;34m\u001b[0m\u001b[0;34m\u001b[0m\u001b[0m\n",
      "\u001b[0;31mModuleNotFoundError\u001b[0m: No module named 'proveit.common'"
     ]
    }
   ],
   "source": [
    "from proveit.common import Bmulti\n",
    "composition.relabel({Bmulti:[B, C]})"
   ]
  },
  {
   "cell_type": "markdown",
   "metadata": {},
   "source": [
    "Let us consider the case where we replace $B_{\\Box}$ with zero **Variable**s.  The resulting statement requires funny notation in which we make an `And` operator formatted as $[\\land]$ that can take zero or one operand (when there are two or more operands, we can use the standard formatting)."
   ]
  },
  {
   "cell_type": "code",
   "execution_count": 3,
   "metadata": {},
   "outputs": [
    {
     "ename": "NameError",
     "evalue": "name 'composition' is not defined",
     "output_type": "error",
     "traceback": [
      "\u001b[0;31m---------------------------------------------------------------------------\u001b[0m",
      "\u001b[0;31mNameError\u001b[0m                                 Traceback (most recent call last)",
      "\u001b[0;32m<ipython-input-3-aa54eae91c74>\u001b[0m in \u001b[0;36m<module>\u001b[0;34m\u001b[0m\n\u001b[0;32m----> 1\u001b[0;31m \u001b[0mcomposition\u001b[0m\u001b[0;34m.\u001b[0m\u001b[0mrelabel\u001b[0m\u001b[0;34m(\u001b[0m\u001b[0;34m{\u001b[0m\u001b[0mBmulti\u001b[0m\u001b[0;34m:\u001b[0m\u001b[0;34m[\u001b[0m\u001b[0;34m]\u001b[0m\u001b[0;34m}\u001b[0m\u001b[0;34m)\u001b[0m\u001b[0;34m\u001b[0m\u001b[0;34m\u001b[0m\u001b[0m\n\u001b[0m",
      "\u001b[0;31mNameError\u001b[0m: name 'composition' is not defined"
     ]
    }
   ],
   "source": [
    "composition.relabel({Bmulti:[]})"
   ]
  },
  {
   "cell_type": "markdown",
   "metadata": {},
   "source": [
    "This is self-consistent when we define $[\\land]$ to be `TRUE` when acting on zero operands (shown below).  Then the right side of the above is $A \\land \\top = A$, assuming $A$ is a `Boolean`."
   ]
  },
  {
   "cell_type": "code",
   "execution_count": 4,
   "metadata": {},
   "outputs": [
    {
     "data": {
      "text/html": [
       "<span style=\"font-size:20px;\"> &#x22A2;&nbsp;<a class=\"ProveItLink\" href=\"../packages/proveit/logic/boolean/conjunction/__pv_it/54adfa969a9c25aeb7e19a30216bc32308cd53630/expr.ipynb\"><img src=\"../packages/proveit/logic/boolean/conjunction/__pv_it/54adfa969a9c25aeb7e19a30216bc32308cd53630/expr.png\" style=\"display:inline;vertical-align:middle;\" /></a></span>"
      ],
      "text/plain": [
       "|= [and]() = TRUE"
      ]
     },
     "execution_count": 4,
     "metadata": {},
     "output_type": "execute_result"
    }
   ],
   "source": [
    "from proveit.logic.boolean.conjunction._axioms_ import emptyConjunction\n",
    "emptyConjunction"
   ]
  },
  {
   "cell_type": "markdown",
   "metadata": {},
   "source": [
    "We can also include **MultiVariable**s when we *relabel* a **MultiVariable**.  We can *relabel* a **MultiVariable** to another **MultiVariable** making an equivalent statement."
   ]
  },
  {
   "cell_type": "code",
   "execution_count": 5,
   "metadata": {},
   "outputs": [
    {
     "ename": "ModuleNotFoundError",
     "evalue": "No module named 'proveit.common'",
     "output_type": "error",
     "traceback": [
      "\u001b[0;31m---------------------------------------------------------------------------\u001b[0m",
      "\u001b[0;31mModuleNotFoundError\u001b[0m                       Traceback (most recent call last)",
      "\u001b[0;32m<ipython-input-5-f8c0277dc89f>\u001b[0m in \u001b[0;36m<module>\u001b[0;34m\u001b[0m\n\u001b[0;32m----> 1\u001b[0;31m \u001b[0;32mfrom\u001b[0m \u001b[0mproveit\u001b[0m\u001b[0;34m.\u001b[0m\u001b[0mcommon\u001b[0m \u001b[0;32mimport\u001b[0m \u001b[0mDmulti\u001b[0m\u001b[0;34m\u001b[0m\u001b[0;34m\u001b[0m\u001b[0m\n\u001b[0m\u001b[1;32m      2\u001b[0m \u001b[0mcomposition\u001b[0m\u001b[0;34m.\u001b[0m\u001b[0mrelabel\u001b[0m\u001b[0;34m(\u001b[0m\u001b[0;34m{\u001b[0m\u001b[0mBmulti\u001b[0m\u001b[0;34m:\u001b[0m\u001b[0mDmulti\u001b[0m\u001b[0;34m}\u001b[0m\u001b[0;34m)\u001b[0m\u001b[0;34m\u001b[0m\u001b[0;34m\u001b[0m\u001b[0m\n",
      "\u001b[0;31mModuleNotFoundError\u001b[0m: No module named 'proveit.common'"
     ]
    }
   ],
   "source": [
    "from proveit.common import Dmulti\n",
    "composition.relabel({Bmulti:Dmulti})"
   ]
  },
  {
   "cell_type": "markdown",
   "metadata": {},
   "source": [
    "We can also *relabel* $B_{\\Box}$ to a list that includes a mix of **Variable**s and **MultiVariable**s, making a weaker statement.  In this case, we *relabel* the original in a way that corresponds to $B_{\\Box}$ being replaced with two or more **Variable**s."
   ]
  },
  {
   "cell_type": "code",
   "execution_count": 6,
   "metadata": {},
   "outputs": [
    {
     "ename": "NameError",
     "evalue": "name 'composition' is not defined",
     "output_type": "error",
     "traceback": [
      "\u001b[0;31m---------------------------------------------------------------------------\u001b[0m",
      "\u001b[0;31mNameError\u001b[0m                                 Traceback (most recent call last)",
      "\u001b[0;32m<ipython-input-6-0d40cf7659d0>\u001b[0m in \u001b[0;36m<module>\u001b[0;34m\u001b[0m\n\u001b[0;32m----> 1\u001b[0;31m \u001b[0mcomposition\u001b[0m\u001b[0;34m.\u001b[0m\u001b[0mrelabel\u001b[0m\u001b[0;34m(\u001b[0m\u001b[0;34m{\u001b[0m\u001b[0mBmulti\u001b[0m\u001b[0;34m:\u001b[0m\u001b[0;34m[\u001b[0m\u001b[0mB\u001b[0m\u001b[0;34m,\u001b[0m \u001b[0mC\u001b[0m\u001b[0;34m,\u001b[0m \u001b[0mDmulti\u001b[0m\u001b[0;34m]\u001b[0m\u001b[0;34m}\u001b[0m\u001b[0;34m)\u001b[0m\u001b[0;34m\u001b[0m\u001b[0;34m\u001b[0m\u001b[0m\n\u001b[0m",
      "\u001b[0;31mNameError\u001b[0m: name 'composition' is not defined"
     ]
    }
   ],
   "source": [
    "composition.relabel({Bmulti:[B, C, Dmulti]})"
   ]
  },
  {
   "cell_type": "markdown",
   "metadata": {},
   "source": [
    "You may *relabel* a **MultiVariable** to another **MultiVariable** or a **Composite** of **Variable**s and/or **MultiVariable**s, but not any other type of **Expression**."
   ]
  },
  {
   "cell_type": "code",
   "execution_count": 7,
   "metadata": {},
   "outputs": [
    {
     "ename": "NameError",
     "evalue": "name 'RelabelingFailure' is not defined",
     "output_type": "error",
     "traceback": [
      "\u001b[0;31m---------------------------------------------------------------------------\u001b[0m",
      "\u001b[0;31mNameError\u001b[0m                                 Traceback (most recent call last)",
      "\u001b[0;32m<ipython-input-7-a87951e72773>\u001b[0m in \u001b[0;36m<module>\u001b[0;34m\u001b[0m\n\u001b[1;32m      1\u001b[0m \u001b[0;32mtry\u001b[0m\u001b[0;34m:\u001b[0m\u001b[0;34m\u001b[0m\u001b[0;34m\u001b[0m\u001b[0m\n\u001b[0;32m----> 2\u001b[0;31m     \u001b[0mcomposition\u001b[0m\u001b[0;34m.\u001b[0m\u001b[0mrelabel\u001b[0m\u001b[0;34m(\u001b[0m\u001b[0;34m{\u001b[0m\u001b[0mBmulti\u001b[0m\u001b[0;34m:\u001b[0m\u001b[0;34m[\u001b[0m\u001b[0mB\u001b[0m\u001b[0;34m,\u001b[0m \u001b[0mAnd\u001b[0m\u001b[0;34m(\u001b[0m\u001b[0mA\u001b[0m\u001b[0;34m,\u001b[0m \u001b[0mB\u001b[0m\u001b[0;34m)\u001b[0m\u001b[0;34m]\u001b[0m\u001b[0;34m}\u001b[0m\u001b[0;34m)\u001b[0m\u001b[0;34m\u001b[0m\u001b[0;34m\u001b[0m\u001b[0m\n\u001b[0m\u001b[1;32m      3\u001b[0m \u001b[0;32mexcept\u001b[0m \u001b[0mRelabelingFailure\u001b[0m \u001b[0;32mas\u001b[0m \u001b[0me\u001b[0m\u001b[0;34m:\u001b[0m\u001b[0;34m\u001b[0m\u001b[0;34m\u001b[0m\u001b[0m\n",
      "\u001b[0;31mNameError\u001b[0m: name 'composition' is not defined",
      "\nDuring handling of the above exception, another exception occurred:\n",
      "\u001b[0;31mNameError\u001b[0m                                 Traceback (most recent call last)",
      "\u001b[0;32m<ipython-input-7-a87951e72773>\u001b[0m in \u001b[0;36m<module>\u001b[0;34m\u001b[0m\n\u001b[1;32m      1\u001b[0m \u001b[0;32mtry\u001b[0m\u001b[0;34m:\u001b[0m\u001b[0;34m\u001b[0m\u001b[0;34m\u001b[0m\u001b[0m\n\u001b[1;32m      2\u001b[0m     \u001b[0mcomposition\u001b[0m\u001b[0;34m.\u001b[0m\u001b[0mrelabel\u001b[0m\u001b[0;34m(\u001b[0m\u001b[0;34m{\u001b[0m\u001b[0mBmulti\u001b[0m\u001b[0;34m:\u001b[0m\u001b[0;34m[\u001b[0m\u001b[0mB\u001b[0m\u001b[0;34m,\u001b[0m \u001b[0mAnd\u001b[0m\u001b[0;34m(\u001b[0m\u001b[0mA\u001b[0m\u001b[0;34m,\u001b[0m \u001b[0mB\u001b[0m\u001b[0;34m)\u001b[0m\u001b[0;34m]\u001b[0m\u001b[0;34m}\u001b[0m\u001b[0;34m)\u001b[0m\u001b[0;34m\u001b[0m\u001b[0;34m\u001b[0m\u001b[0m\n\u001b[0;32m----> 3\u001b[0;31m \u001b[0;32mexcept\u001b[0m \u001b[0mRelabelingFailure\u001b[0m \u001b[0;32mas\u001b[0m \u001b[0me\u001b[0m\u001b[0;34m:\u001b[0m\u001b[0;34m\u001b[0m\u001b[0;34m\u001b[0m\u001b[0m\n\u001b[0m\u001b[1;32m      4\u001b[0m     \u001b[0mprint\u001b[0m\u001b[0;34m(\u001b[0m\u001b[0;34m\"EXPECTED ERROR:\"\u001b[0m\u001b[0;34m,\u001b[0m \u001b[0me\u001b[0m\u001b[0;34m)\u001b[0m\u001b[0;34m\u001b[0m\u001b[0;34m\u001b[0m\u001b[0m\n",
      "\u001b[0;31mNameError\u001b[0m: name 'RelabelingFailure' is not defined"
     ]
    }
   ],
   "source": [
    "try:\n",
    "    composition.relabel({Bmulti:[B, And(A, B)]})\n",
    "except RelabelingFailure as e:\n",
    "    print(\"EXPECTED ERROR:\", e)"
   ]
  },
  {
   "cell_type": "markdown",
   "metadata": {},
   "source": [
    "Only a **MultiVariable** may be relabeled to a **Composite**, not a regular **Variable**."
   ]
  },
  {
   "cell_type": "code",
   "execution_count": 8,
   "metadata": {},
   "outputs": [
    {
     "ename": "NameError",
     "evalue": "name 'RelabelingFailure' is not defined",
     "output_type": "error",
     "traceback": [
      "\u001b[0;31m---------------------------------------------------------------------------\u001b[0m",
      "\u001b[0;31mNameError\u001b[0m                                 Traceback (most recent call last)",
      "\u001b[0;32m<ipython-input-8-4cf77e1b1cba>\u001b[0m in \u001b[0;36m<module>\u001b[0;34m\u001b[0m\n\u001b[1;32m      1\u001b[0m \u001b[0;32mtry\u001b[0m\u001b[0;34m:\u001b[0m\u001b[0;34m\u001b[0m\u001b[0;34m\u001b[0m\u001b[0m\n\u001b[0;32m----> 2\u001b[0;31m     \u001b[0mcomposition\u001b[0m\u001b[0;34m.\u001b[0m\u001b[0mrelabel\u001b[0m\u001b[0;34m(\u001b[0m\u001b[0;34m{\u001b[0m\u001b[0mA\u001b[0m\u001b[0;34m:\u001b[0m\u001b[0;34m[\u001b[0m\u001b[0mB\u001b[0m\u001b[0;34m,\u001b[0m \u001b[0mC\u001b[0m\u001b[0;34m,\u001b[0m \u001b[0mDmulti\u001b[0m\u001b[0;34m]\u001b[0m\u001b[0;34m}\u001b[0m\u001b[0;34m)\u001b[0m\u001b[0;34m\u001b[0m\u001b[0;34m\u001b[0m\u001b[0m\n\u001b[0m\u001b[1;32m      3\u001b[0m \u001b[0;32mexcept\u001b[0m \u001b[0mRelabelingFailure\u001b[0m \u001b[0;32mas\u001b[0m \u001b[0me\u001b[0m\u001b[0;34m:\u001b[0m\u001b[0;34m\u001b[0m\u001b[0;34m\u001b[0m\u001b[0m\n",
      "\u001b[0;31mNameError\u001b[0m: name 'composition' is not defined",
      "\nDuring handling of the above exception, another exception occurred:\n",
      "\u001b[0;31mNameError\u001b[0m                                 Traceback (most recent call last)",
      "\u001b[0;32m<ipython-input-8-4cf77e1b1cba>\u001b[0m in \u001b[0;36m<module>\u001b[0;34m\u001b[0m\n\u001b[1;32m      1\u001b[0m \u001b[0;32mtry\u001b[0m\u001b[0;34m:\u001b[0m\u001b[0;34m\u001b[0m\u001b[0;34m\u001b[0m\u001b[0m\n\u001b[1;32m      2\u001b[0m     \u001b[0mcomposition\u001b[0m\u001b[0;34m.\u001b[0m\u001b[0mrelabel\u001b[0m\u001b[0;34m(\u001b[0m\u001b[0;34m{\u001b[0m\u001b[0mA\u001b[0m\u001b[0;34m:\u001b[0m\u001b[0;34m[\u001b[0m\u001b[0mB\u001b[0m\u001b[0;34m,\u001b[0m \u001b[0mC\u001b[0m\u001b[0;34m,\u001b[0m \u001b[0mDmulti\u001b[0m\u001b[0;34m]\u001b[0m\u001b[0;34m}\u001b[0m\u001b[0;34m)\u001b[0m\u001b[0;34m\u001b[0m\u001b[0;34m\u001b[0m\u001b[0m\n\u001b[0;32m----> 3\u001b[0;31m \u001b[0;32mexcept\u001b[0m \u001b[0mRelabelingFailure\u001b[0m \u001b[0;32mas\u001b[0m \u001b[0me\u001b[0m\u001b[0;34m:\u001b[0m\u001b[0;34m\u001b[0m\u001b[0;34m\u001b[0m\u001b[0m\n\u001b[0m\u001b[1;32m      4\u001b[0m     \u001b[0mprint\u001b[0m\u001b[0;34m(\u001b[0m\u001b[0;34m\"EXPECTED ERROR:\"\u001b[0m\u001b[0;34m,\u001b[0m \u001b[0me\u001b[0m\u001b[0;34m)\u001b[0m\u001b[0;34m\u001b[0m\u001b[0;34m\u001b[0m\u001b[0m\n",
      "\u001b[0;31mNameError\u001b[0m: name 'RelabelingFailure' is not defined"
     ]
    }
   ],
   "source": [
    "try:\n",
    "    composition.relabel({A:[B, C, Dmulti]})\n",
    "except RelabelingFailure as e:\n",
    "    print(\"EXPECTED ERROR:\", e)"
   ]
  },
  {
   "cell_type": "markdown",
   "metadata": {},
   "source": [
    "### Universal quantification over an unspecified number of variables\n",
    "\n",
    "Using **MultiVariable**s, we can express universal quantification over an unspecified number of variables.  Depending upon how the **MultiVariable** is used in the instance expression, we may *specialize* it to an **ExpressionList** (if it is used within **Etcetera** sub-expressions), or an **ExpressionTensor** (if it is used within **Block** sub-expressions).\n",
    "\n",
    "The following example uses a theorem from `proveit.logic.boolean.disjunction`.  It states, in English, that the `Or` (disjunction) operation acting an any number of operands is false if all of the operands are false."
   ]
  },
  {
   "cell_type": "code",
   "execution_count": 9,
   "metadata": {},
   "outputs": [
    {
     "data": {
      "text/html": [
       "<span style=\"font-size:20px;\"> &#x22A2;&nbsp;<a class=\"ProveItLink\" href=\"../packages/proveit/logic/boolean/disjunction/__pv_it/f5054f3b6ed3e362bf7b7b3fc8e18b49789bbf3b0/expr.ipynb\"><img src=\"../packages/proveit/logic/boolean/disjunction/__pv_it/f5054f3b6ed3e362bf7b7b3fc8e18b49789bbf3b0/expr.png\" style=\"display:inline;vertical-align:middle;\" /></a></span>"
      ],
      "text/plain": [
       "|= forall_{m in Naturals} [forall_{A | [not](A_(1)) ,  ...  , [not](A_(m))} [not](A_(1) or  ...  or A_(m))]"
      ]
     },
     "execution_count": 9,
     "metadata": {},
     "output_type": "execute_result"
    }
   ],
   "source": [
    "from proveit.logic.boolean.disjunction._theorems_ import notOrIfNotAny\n",
    "notOrIfNotAny"
   ]
  },
  {
   "cell_type": "code",
   "execution_count": 10,
   "metadata": {},
   "outputs": [
    {
     "data": {
      "text/html": [
       "<table><tr><th>&nbsp;</th><th>core type</th><th>sub-expressions</th><th>expression</th></tr>\n",
       "<tr><td>0</td><td>Operation</td><td>operator:&nbsp;4<br>operand:&nbsp;1<br></td><td><a class=\"ProveItLink\" href=\"../packages/proveit/logic/boolean/disjunction/__pv_it/f5054f3b6ed3e362bf7b7b3fc8e18b49789bbf3b0/expr.ipynb\"><img src=\"../packages/proveit/logic/boolean/disjunction/__pv_it/f5054f3b6ed3e362bf7b7b3fc8e18b49789bbf3b0/expr.png\" style=\"display:inline;vertical-align:middle;\" /></a></td></tr>\n",
       "<tr><td>1</td><td>Lambda</td><td>parameter:&nbsp;36<br>body:&nbsp;2<br>conditions:&nbsp;3<br></td><td><a class=\"ProveItLink\" href=\"__pv_it/5c0d07d70760c1a7bb8c47cd9b905f68b1fcd2a80/expr.ipynb\"><img src=\"__pv_it/5c0d07d70760c1a7bb8c47cd9b905f68b1fcd2a80/expr.png\" style=\"display:inline;vertical-align:middle;\" /></a></td></tr>\n",
       "<tr><td>2</td><td>Operation</td><td>operator:&nbsp;4<br>operand:&nbsp;5<br></td><td><a class=\"ProveItLink\" href=\"__pv_it/462ab10de28c626fb858217d2efe053d2803a40c0/expr.ipynb\"><img src=\"__pv_it/462ab10de28c626fb858217d2efe053d2803a40c0/expr.png\" style=\"display:inline;vertical-align:middle;\" /></a></td></tr>\n",
       "<tr><td>3</td><td>ExprList</td><td>6</td><td><a class=\"ProveItLink\" href=\"__pv_it/7cb247012d84939dce55950214131a5e1ad31bd80/expr.ipynb\"><img src=\"__pv_it/7cb247012d84939dce55950214131a5e1ad31bd80/expr.png\" style=\"display:inline;vertical-align:middle;\" /></a></td></tr>\n",
       "<tr><td>4</td><td>Literal</td><td></td><td><a class=\"ProveItLink\" href=\"../packages/proveit/logic/boolean/quantification/universal/__pv_it/265f8c02ac1094d56e0e6410a1c1fd3500dc9f540/expr.ipynb\"><img src=\"../packages/proveit/logic/boolean/quantification/universal/__pv_it/265f8c02ac1094d56e0e6410a1c1fd3500dc9f540/expr.png\" style=\"display:inline;vertical-align:middle;\" /></a></td></tr>\n",
       "<tr><td>5</td><td>Lambda</td><td>parameter:&nbsp;26<br>body:&nbsp;7<br>conditions:&nbsp;8<br></td><td><a class=\"ProveItLink\" href=\"__pv_it/2606f3a2c0c086c751243cadd8d040377add299d0/expr.ipynb\"><img src=\"__pv_it/2606f3a2c0c086c751243cadd8d040377add299d0/expr.png\" style=\"display:inline;vertical-align:middle;\" /></a></td></tr>\n",
       "<tr><td>6</td><td>Operation</td><td>operator:&nbsp;29<br>operands:&nbsp;9<br></td><td><a class=\"ProveItLink\" href=\"__pv_it/314191c49d4fb1dc3ec43a24b93dd83cc714f5b40/expr.ipynb\"><img src=\"__pv_it/314191c49d4fb1dc3ec43a24b93dd83cc714f5b40/expr.png\" style=\"display:inline;vertical-align:middle;\" /></a></td></tr>\n",
       "<tr><td>7</td><td>Operation</td><td>operator:&nbsp;20<br>operand:&nbsp;10<br></td><td><a class=\"ProveItLink\" href=\"__pv_it/aea123b206dfabf37c0a2d9e65d4e877664d99c30/expr.ipynb\"><img src=\"__pv_it/aea123b206dfabf37c0a2d9e65d4e877664d99c30/expr.png\" style=\"display:inline;vertical-align:middle;\" /></a></td></tr>\n",
       "<tr><td>8</td><td>ExprList</td><td>11</td><td><a class=\"ProveItLink\" href=\"__pv_it/295297e9900fab99cbb31f0ef624ea575e805cc90/expr.ipynb\"><img src=\"__pv_it/295297e9900fab99cbb31f0ef624ea575e805cc90/expr.png\" style=\"display:inline;vertical-align:middle;\" /></a></td></tr>\n",
       "<tr><td>9</td><td>ExprList</td><td>36, 12</td><td><a class=\"ProveItLink\" href=\"__pv_it/f6c6b9676b93b7842332262816607614f9fdd76f0/expr.ipynb\"><img src=\"__pv_it/f6c6b9676b93b7842332262816607614f9fdd76f0/expr.png\" style=\"display:inline;vertical-align:middle;\" /></a></td></tr>\n",
       "<tr><td>10</td><td>Operation</td><td>operator:&nbsp;13<br>operands:&nbsp;14<br></td><td><a class=\"ProveItLink\" href=\"__pv_it/4f04d973c4d0465fb22cad9f5b2e17a6438eac110/expr.ipynb\"><img src=\"__pv_it/4f04d973c4d0465fb22cad9f5b2e17a6438eac110/expr.png\" style=\"display:inline;vertical-align:middle;\" /></a></td></tr>\n",
       "<tr><td>11</td><td>Iter</td><td>lambda_map:&nbsp;15<br></td><td><a class=\"ProveItLink\" href=\"__pv_it/6e4fcaf4b823a4bed51f4956ed13567487e557880/expr.ipynb\"><img src=\"__pv_it/6e4fcaf4b823a4bed51f4956ed13567487e557880/expr.png\" style=\"display:inline;vertical-align:middle;\" /></a></td></tr>\n",
       "<tr><td>12</td><td>Literal</td><td></td><td><a class=\"ProveItLink\" href=\"../packages/proveit/number/sets/integer/__pv_it/4434d1ec6afb2b8deec87ded0866b923feb9d6e60/expr.ipynb\"><img src=\"../packages/proveit/number/sets/integer/__pv_it/4434d1ec6afb2b8deec87ded0866b923feb9d6e60/expr.png\" style=\"display:inline;vertical-align:middle;\" /></a></td></tr>\n",
       "<tr><td>13</td><td>Literal</td><td></td><td><a class=\"ProveItLink\" href=\"../packages/proveit/logic/boolean/disjunction/__pv_it/087d0b4ded7c7e5bf3bba05ecb616d7a8051ff650/expr.ipynb\"><img src=\"../packages/proveit/logic/boolean/disjunction/__pv_it/087d0b4ded7c7e5bf3bba05ecb616d7a8051ff650/expr.png\" style=\"display:inline;vertical-align:middle;\" /></a></td></tr>\n",
       "<tr><td>14</td><td>ExprList</td><td>16</td><td><a class=\"ProveItLink\" href=\"__pv_it/88ce6a6cb5a8a648682f01b005b9a93151bbeab80/expr.ipynb\"><img src=\"__pv_it/88ce6a6cb5a8a648682f01b005b9a93151bbeab80/expr.png\" style=\"display:inline;vertical-align:middle;\" /></a></td></tr>\n",
       "<tr><td>15</td><td>Lambda</td><td>parameter:&nbsp;28<br>body:&nbsp;17<br>conditions:&nbsp;18<br></td><td><a class=\"ProveItLink\" href=\"__pv_it/fca9f52cbd9fd13686459f1ebeca3e5413f9bb150/expr.ipynb\"><img src=\"__pv_it/fca9f52cbd9fd13686459f1ebeca3e5413f9bb150/expr.png\" style=\"display:inline;vertical-align:middle;\" /></a></td></tr>\n",
       "<tr><td>16</td><td>Iter</td><td>lambda_map:&nbsp;19<br></td><td><a class=\"ProveItLink\" href=\"../packages/proveit/logic/__pv_it/0e3205cfbcb0f55e1cf12245893bd5c9efd4b3000/expr.ipynb\"><img src=\"../packages/proveit/logic/__pv_it/0e3205cfbcb0f55e1cf12245893bd5c9efd4b3000/expr.png\" style=\"display:inline;vertical-align:middle;\" /></a></td></tr>\n",
       "<tr><td>17</td><td>Operation</td><td>operator:&nbsp;20<br>operand:&nbsp;21<br></td><td><a class=\"ProveItLink\" href=\"__pv_it/af66f2fad3d87f455f5306ba0e7ce2c9a98b76730/expr.ipynb\"><img src=\"__pv_it/af66f2fad3d87f455f5306ba0e7ce2c9a98b76730/expr.png\" style=\"display:inline;vertical-align:middle;\" /></a></td></tr>\n",
       "<tr><td>18</td><td>ExprList</td><td>22</td><td><a class=\"ProveItLink\" href=\"__pv_it/e44b7b82d6de4578a5fb61ac1d9450107079788a0/expr.ipynb\"><img src=\"__pv_it/e44b7b82d6de4578a5fb61ac1d9450107079788a0/expr.png\" style=\"display:inline;vertical-align:middle;\" /></a></td></tr>\n",
       "<tr><td>19</td><td>Lambda</td><td>parameter:&nbsp;31<br>body:&nbsp;23<br>conditions:&nbsp;24<br></td><td><a class=\"ProveItLink\" href=\"../packages/proveit/logic/__pv_it/e3147aef4e5e78d7022002c4a0c6f4d6f6349a190/expr.ipynb\"><img src=\"../packages/proveit/logic/__pv_it/e3147aef4e5e78d7022002c4a0c6f4d6f6349a190/expr.png\" style=\"display:inline;vertical-align:middle;\" /></a></td></tr>\n",
       "<tr><td>20</td><td>Literal</td><td></td><td><a class=\"ProveItLink\" href=\"../packages/proveit/logic/boolean/negation/__pv_it/7bea79645543c2413aa17e787cca04e21046fde60/expr.ipynb\"><img src=\"../packages/proveit/logic/boolean/negation/__pv_it/7bea79645543c2413aa17e787cca04e21046fde60/expr.png\" style=\"display:inline;vertical-align:middle;\" /></a></td></tr>\n",
       "<tr><td>21</td><td>Indexed</td><td>var:&nbsp;26<br>index:&nbsp;28<br>base:&nbsp;\"1\"<br></td><td><a class=\"ProveItLink\" href=\"__pv_it/b764974a6de5d113074ad3d13f728b12868af9c10/expr.ipynb\"><img src=\"__pv_it/b764974a6de5d113074ad3d13f728b12868af9c10/expr.png\" style=\"display:inline;vertical-align:middle;\" /></a></td></tr>\n",
       "<tr><td>22</td><td>Operation</td><td>operator:&nbsp;29<br>operands:&nbsp;25<br></td><td><a class=\"ProveItLink\" href=\"__pv_it/b1df35b00c5f1b9aee9bbcec20f36ffc8cba4f9d0/expr.ipynb\"><img src=\"__pv_it/b1df35b00c5f1b9aee9bbcec20f36ffc8cba4f9d0/expr.png\" style=\"display:inline;vertical-align:middle;\" /></a></td></tr>\n",
       "<tr><td>23</td><td>Indexed</td><td>var:&nbsp;26<br>index:&nbsp;31<br>base:&nbsp;\"1\"<br></td><td><a class=\"ProveItLink\" href=\"../packages/proveit/logic/__pv_it/f7efed8b847964fa6806d27b3ef33e1a2caedcd10/expr.ipynb\"><img src=\"../packages/proveit/logic/__pv_it/f7efed8b847964fa6806d27b3ef33e1a2caedcd10/expr.png\" style=\"display:inline;vertical-align:middle;\" /></a></td></tr>\n",
       "<tr><td>24</td><td>ExprList</td><td>27</td><td><a class=\"ProveItLink\" href=\"../packages/proveit/logic/__pv_it/094072631fbee72e9d95d6fc68862857ad19da280/expr.ipynb\"><img src=\"../packages/proveit/logic/__pv_it/094072631fbee72e9d95d6fc68862857ad19da280/expr.png\" style=\"display:inline;vertical-align:middle;\" /></a></td></tr>\n",
       "<tr><td>25</td><td>ExprList</td><td>28, 32</td><td><a class=\"ProveItLink\" href=\"__pv_it/ea9347d66e46cbde89cc28103da53eafcc68b8650/expr.ipynb\"><img src=\"__pv_it/ea9347d66e46cbde89cc28103da53eafcc68b8650/expr.png\" style=\"display:inline;vertical-align:middle;\" /></a></td></tr>\n",
       "<tr><td>26</td><td>Variable</td><td></td><td><a class=\"ProveItLink\" href=\"../packages/proveit/__pv_it/eb438fefc4bd0ac977777d6dfd3e8a72dfbedbd50/expr.ipynb\"><img src=\"../packages/proveit/__pv_it/eb438fefc4bd0ac977777d6dfd3e8a72dfbedbd50/expr.png\" style=\"display:inline;vertical-align:middle;\" /></a></td></tr>\n",
       "<tr><td>27</td><td>Operation</td><td>operator:&nbsp;29<br>operands:&nbsp;30<br></td><td><a class=\"ProveItLink\" href=\"../packages/proveit/logic/__pv_it/298e55d884e9713a13de42f2b171d03bca7bcd630/expr.ipynb\"><img src=\"../packages/proveit/logic/__pv_it/298e55d884e9713a13de42f2b171d03bca7bcd630/expr.png\" style=\"display:inline;vertical-align:middle;\" /></a></td></tr>\n",
       "<tr><td>28</td><td>Variable</td><td></td><td><a class=\"ProveItLink\" href=\"../packages/proveit/__pv_it/4cc43b4ba7e5ae9f0f864f240ab9735c1604d8200/expr.ipynb\"><img src=\"../packages/proveit/__pv_it/4cc43b4ba7e5ae9f0f864f240ab9735c1604d8200/expr.png\" style=\"display:inline;vertical-align:middle;\" /></a></td></tr>\n",
       "<tr><td>29</td><td>Literal</td><td></td><td><a class=\"ProveItLink\" href=\"../packages/proveit/logic/set_theory/membership/__pv_it/088cbc857536a28d4119ad9639a84270ccb0545d0/expr.ipynb\"><img src=\"../packages/proveit/logic/set_theory/membership/__pv_it/088cbc857536a28d4119ad9639a84270ccb0545d0/expr.png\" style=\"display:inline;vertical-align:middle;\" /></a></td></tr>\n",
       "<tr><td>30</td><td>ExprList</td><td>31, 32</td><td><a class=\"ProveItLink\" href=\"../packages/proveit/logic/__pv_it/67d77cb90f9079e407c6afc31009f205515a203b0/expr.ipynb\"><img src=\"../packages/proveit/logic/__pv_it/67d77cb90f9079e407c6afc31009f205515a203b0/expr.png\" style=\"display:inline;vertical-align:middle;\" /></a></td></tr>\n",
       "<tr><td>31</td><td>Variable</td><td></td><td><a class=\"ProveItLink\" href=\"../packages/proveit/logic/__pv_it/5144cf74ae6a683b49b974f1b9302b432abf7e930/expr.ipynb\"><img src=\"../packages/proveit/logic/__pv_it/5144cf74ae6a683b49b974f1b9302b432abf7e930/expr.png\" style=\"display:inline;vertical-align:middle;\" /></a></td></tr>\n",
       "<tr><td>32</td><td>Operation</td><td>operator:&nbsp;33<br>operands:&nbsp;34<br></td><td><a class=\"ProveItLink\" href=\"../packages/proveit/logic/__pv_it/d9e0c765444de95fdd882cd46be0f0774de45ecb0/expr.ipynb\"><img src=\"../packages/proveit/logic/__pv_it/d9e0c765444de95fdd882cd46be0f0774de45ecb0/expr.png\" style=\"display:inline;vertical-align:middle;\" /></a></td></tr>\n",
       "<tr><td>33</td><td>Literal</td><td></td><td><a class=\"ProveItLink\" href=\"../packages/proveit/number/sets/integer/__pv_it/6e5362d7b256561b61a1b512bf7dc507dcde5dcf0/expr.ipynb\"><img src=\"../packages/proveit/number/sets/integer/__pv_it/6e5362d7b256561b61a1b512bf7dc507dcde5dcf0/expr.png\" style=\"display:inline;vertical-align:middle;\" /></a></td></tr>\n",
       "<tr><td>34</td><td>ExprList</td><td>35, 36</td><td><a class=\"ProveItLink\" href=\"../packages/proveit/logic/__pv_it/a3211271fb238284ffae1891aa37177776892f770/expr.ipynb\"><img src=\"../packages/proveit/logic/__pv_it/a3211271fb238284ffae1891aa37177776892f770/expr.png\" style=\"display:inline;vertical-align:middle;\" /></a></td></tr>\n",
       "<tr><td>35</td><td>Literal</td><td></td><td><a class=\"ProveItLink\" href=\"../packages/proveit/number/numeral/__pv_it/9be8badea4c35b9724062cecc501d17a3158d1d20/expr.ipynb\"><img src=\"../packages/proveit/number/numeral/__pv_it/9be8badea4c35b9724062cecc501d17a3158d1d20/expr.png\" style=\"display:inline;vertical-align:middle;\" /></a></td></tr>\n",
       "<tr><td>36</td><td>Variable</td><td></td><td><a class=\"ProveItLink\" href=\"../packages/proveit/__pv_it/78af03acba5349fd70398a32ce59bae1da52f0870/expr.ipynb\"><img src=\"../packages/proveit/__pv_it/78af03acba5349fd70398a32ce59bae1da52f0870/expr.png\" style=\"display:inline;vertical-align:middle;\" /></a></td></tr>\n",
       "</table>\n"
      ],
      "text/plain": [
       "0. forall_{m in Naturals} [forall_{A | [not](A_(1)) ,  ...  , [not](A_(m))} [not](A_(1) or  ...  or A_(m))]\n",
       "   core type: Operation\n",
       "   operator: 4\n",
       "   operand: 1\n",
       "1. m -> [forall_{A | [not](A_(1)) ,  ...  , [not](A_(m))} [not](A_(1) or  ...  or A_(m))] | m in Naturals\n",
       "   core type: Lambda\n",
       "   parameter: 36\n",
       "   body: 2\n",
       "   conditions: 3\\n2. forall_{A | [not](A_(1)) ,  ...  , [not](A_(m))} [not](A_(1) or  ...  or A_(m))\n",
       "   core type: Operation\n",
       "   operator: 4\n",
       "   operand: 5\n",
       "3. (m in Naturals)\n",
       "   core type: ExprList\n",
       "   sub-expressions: 6\n",
       "4. forall\n",
       "   core type: Literal\n",
       "   sub-expressions: \n",
       "5. A -> [not](A_(1) or  ...  or A_(m)) | [not](A_(1)) ,  ...  , [not](A_(m))\n",
       "   core type: Lambda\n",
       "   parameter: 26\n",
       "   body: 7\n",
       "   conditions: 8\\n6. m in Naturals\n",
       "   core type: Operation\n",
       "   operator: 29\n",
       "   operands: 9\n",
       "7. [not](A_(1) or  ...  or A_(m))\n",
       "   core type: Operation\n",
       "   operator: 20\n",
       "   operand: 10\n",
       "8. ([not](A_(1)) ,  ...  , [not](A_(m)))\n",
       "   core type: ExprList\n",
       "   sub-expressions: 11\n",
       "9. (m , Naturals)\n",
       "   core type: ExprList\n",
       "   sub-expressions: 36, 12\n",
       "10. A_(1) or  ...  or A_(m)\n",
       "    core type: Operation\n",
       "    operator: 13\n",
       "    operands: 14\n",
       "11. [not](A_(1)),...,[not](A_(m))\n",
       "    core type: Iter\n",
       "    lambda_map: 15\n",
       "    start_index: 35\n",
       "    end_index: 36\n",
       "12. Naturals\n",
       "    core type: Literal\n",
       "    sub-expressions: \n",
       "13. or\n",
       "    core type: Literal\n",
       "    sub-expressions: \n",
       "14. (A_(1) ,  ...  , A_(m))\n",
       "    core type: ExprList\n",
       "    sub-expressions: 16\n",
       "15. i -> [not](A_i) | i in {1...m}\n",
       "    core type: Lambda\n",
       "    parameter: 28\n",
       "    body: 17\n",
       "    conditions: 18\\n16. A_(1),...,A_(m)\n",
       "    core type: Iter\n",
       "    lambda_map: 19\n",
       "    start_index: 35\n",
       "    end_index: 36\n",
       "17. [not](A_i)\n",
       "    core type: Operation\n",
       "    operator: 20\n",
       "    operand: 21\n",
       "18. (i in {1...m})\n",
       "    core type: ExprList\n",
       "    sub-expressions: 22\n",
       "19. _x_ -> A__x_ | _x_ in {1...m}\n",
       "    core type: Lambda\n",
       "    parameter: 31\n",
       "    body: 23\n",
       "    conditions: 24\\n20. not\n",
       "    core type: Literal\n",
       "    sub-expressions: \n",
       "21. A_i\n",
       "    core type: Indexed\n",
       "    var: 26\n",
       "    index: 28\n",
       "    base: \"1\"\n",
       "22. i in {1...m}\n",
       "    core type: Operation\n",
       "    operator: 29\n",
       "    operands: 25\n",
       "23. A__x_\n",
       "    core type: Indexed\n",
       "    var: 26\n",
       "    index: 31\n",
       "    base: \"1\"\n",
       "24. (_x_ in {1...m})\n",
       "    core type: ExprList\n",
       "    sub-expressions: 27\n",
       "25. (i , {1...m})\n",
       "    core type: ExprList\n",
       "    sub-expressions: 28, 32\n",
       "26. A\n",
       "    core type: Variable\n",
       "    sub-expressions: \n",
       "27. _x_ in {1...m}\n",
       "    core type: Operation\n",
       "    operator: 29\n",
       "    operands: 30\n",
       "28. i\n",
       "    core type: Variable\n",
       "    sub-expressions: \n",
       "29. in\n",
       "    core type: Literal\n",
       "    sub-expressions: \n",
       "30. (_x_ , {1...m})\n",
       "    core type: ExprList\n",
       "    sub-expressions: 31, 32\n",
       "31. _x_\n",
       "    core type: Variable\n",
       "    sub-expressions: \n",
       "32. {1...m}\n",
       "    core type: Operation\n",
       "    operator: 33\n",
       "    operands: 34\n",
       "33. Interval\n",
       "    core type: Literal\n",
       "    sub-expressions: \n",
       "34. (1 , m)\n",
       "    core type: ExprList\n",
       "    sub-expressions: 35, 36\n",
       "35. 1\n",
       "    core type: Literal\n",
       "    sub-expressions: \n",
       "36. m\n",
       "    core type: Variable\n",
       "    sub-expressions: "
      ]
     },
     "execution_count": 10,
     "metadata": {},
     "output_type": "execute_result"
    }
   ],
   "source": [
    "notOrIfNotAny.exprInfo()"
   ]
  },
  {
   "cell_type": "markdown",
   "metadata": {},
   "source": [
    "Note that the instance variable (the parameter of the `imap`) is a **MultiVariable**.  The occurrences of this **MultiVariable** in the `iexpr` and `conds` are within **Etcetera** sub-expressions.  Below, we *specialize* this to an instance with three operands."
   ]
  },
  {
   "cell_type": "code",
   "execution_count": 11,
   "metadata": {},
   "outputs": [
    {
     "ename": "ModuleNotFoundError",
     "evalue": "No module named 'proveit.common'",
     "output_type": "error",
     "traceback": [
      "\u001b[0;31m---------------------------------------------------------------------------\u001b[0m",
      "\u001b[0;31mModuleNotFoundError\u001b[0m                       Traceback (most recent call last)",
      "\u001b[0;32m<ipython-input-11-709052ed6cd4>\u001b[0m in \u001b[0;36m<module>\u001b[0;34m\u001b[0m\n\u001b[0;32m----> 1\u001b[0;31m \u001b[0;32mfrom\u001b[0m \u001b[0mproveit\u001b[0m\u001b[0;34m.\u001b[0m\u001b[0mcommon\u001b[0m \u001b[0;32mimport\u001b[0m \u001b[0mAmulti\u001b[0m\u001b[0;34m,\u001b[0m \u001b[0mc\u001b[0m\u001b[0;34m\u001b[0m\u001b[0;34m\u001b[0m\u001b[0m\n\u001b[0m\u001b[1;32m      2\u001b[0m \u001b[0;32mfrom\u001b[0m \u001b[0mproveit\u001b[0m\u001b[0;34m.\u001b[0m\u001b[0mlogic\u001b[0m \u001b[0;32mimport\u001b[0m \u001b[0mNot\u001b[0m\u001b[0;34m\u001b[0m\u001b[0;34m\u001b[0m\u001b[0m\n\u001b[1;32m      3\u001b[0m \u001b[0mnotOrIfNotAnySpec\u001b[0m \u001b[0;34m=\u001b[0m \u001b[0mnotOrIfNotAny\u001b[0m\u001b[0;34m.\u001b[0m\u001b[0mspecialize\u001b[0m\u001b[0;34m(\u001b[0m\u001b[0;34m{\u001b[0m\u001b[0mAmulti\u001b[0m\u001b[0;34m:\u001b[0m\u001b[0;34m[\u001b[0m\u001b[0ma\u001b[0m\u001b[0;34m,\u001b[0m \u001b[0mb\u001b[0m\u001b[0;34m,\u001b[0m \u001b[0mc\u001b[0m\u001b[0;34m]\u001b[0m\u001b[0;34m}\u001b[0m\u001b[0;34m,\u001b[0m \u001b[0massumptions\u001b[0m\u001b[0;34m=\u001b[0m\u001b[0;34m[\u001b[0m\u001b[0mNot\u001b[0m\u001b[0;34m(\u001b[0m\u001b[0ma\u001b[0m\u001b[0;34m)\u001b[0m\u001b[0;34m,\u001b[0m \u001b[0mNot\u001b[0m\u001b[0;34m(\u001b[0m\u001b[0mb\u001b[0m\u001b[0;34m)\u001b[0m\u001b[0;34m,\u001b[0m \u001b[0mNot\u001b[0m\u001b[0;34m(\u001b[0m\u001b[0mc\u001b[0m\u001b[0;34m)\u001b[0m\u001b[0;34m]\u001b[0m\u001b[0;34m)\u001b[0m\u001b[0;34m\u001b[0m\u001b[0;34m\u001b[0m\u001b[0m\n\u001b[1;32m      4\u001b[0m \u001b[0mnotOrIfNotAnySpec\u001b[0m\u001b[0;34m\u001b[0m\u001b[0;34m\u001b[0m\u001b[0m\n",
      "\u001b[0;31mModuleNotFoundError\u001b[0m: No module named 'proveit.common'"
     ]
    }
   ],
   "source": [
    "from proveit.common import Amulti, c\n",
    "from proveit.logic import Not\n",
    "notOrIfNotAnySpec = notOrIfNotAny.specialize({Amulti:[a, b, c]}, assumptions=[Not(a), Not(b), Not(c)])\n",
    "notOrIfNotAnySpec"
   ]
  },
  {
   "cell_type": "code",
   "execution_count": 12,
   "metadata": {},
   "outputs": [
    {
     "ename": "NameError",
     "evalue": "name 'notOrIfNotAnySpec' is not defined",
     "output_type": "error",
     "traceback": [
      "\u001b[0;31m---------------------------------------------------------------------------\u001b[0m",
      "\u001b[0;31mNameError\u001b[0m                                 Traceback (most recent call last)",
      "\u001b[0;32m<ipython-input-12-d5815d555d0f>\u001b[0m in \u001b[0;36m<module>\u001b[0;34m\u001b[0m\n\u001b[0;32m----> 1\u001b[0;31m \u001b[0mnotOrIfNotAnySpec\u001b[0m\u001b[0;34m.\u001b[0m\u001b[0mproof\u001b[0m\u001b[0;34m(\u001b[0m\u001b[0;34m)\u001b[0m\u001b[0;34m\u001b[0m\u001b[0;34m\u001b[0m\u001b[0m\n\u001b[0m",
      "\u001b[0;31mNameError\u001b[0m: name 'notOrIfNotAnySpec' is not defined"
     ]
    }
   ],
   "source": [
    "notOrIfNotAnySpec.proof()"
   ]
  },
  {
   "cell_type": "markdown",
   "metadata": {},
   "source": [
    "Let us look at the expression information for this specialized instance to show that the **MultiVariable** has been substituted in a seemless manner.  Specifically, the `Or` operation has the $(a, b, c)$ **ExpressionList** operands."
   ]
  },
  {
   "cell_type": "code",
   "execution_count": 13,
   "metadata": {},
   "outputs": [
    {
     "ename": "NameError",
     "evalue": "name 'notOrIfNotAnySpec' is not defined",
     "output_type": "error",
     "traceback": [
      "\u001b[0;31m---------------------------------------------------------------------------\u001b[0m",
      "\u001b[0;31mNameError\u001b[0m                                 Traceback (most recent call last)",
      "\u001b[0;32m<ipython-input-13-7ad9d407f1cf>\u001b[0m in \u001b[0;36m<module>\u001b[0;34m\u001b[0m\n\u001b[0;32m----> 1\u001b[0;31m \u001b[0mnotOrIfNotAnySpec\u001b[0m\u001b[0;34m.\u001b[0m\u001b[0mexprInfo\u001b[0m\u001b[0;34m(\u001b[0m\u001b[0;34m)\u001b[0m\u001b[0;34m\u001b[0m\u001b[0;34m\u001b[0m\u001b[0m\n\u001b[0m",
      "\u001b[0;31mNameError\u001b[0m: name 'notOrIfNotAnySpec' is not defined"
     ]
    }
   ],
   "source": [
    "notOrIfNotAnySpec.exprInfo()"
   ]
  },
  {
   "cell_type": "markdown",
   "metadata": {},
   "source": [
    "It is possible to *specialize* the **MultiVariable** with zero expressions."
   ]
  },
  {
   "cell_type": "code",
   "execution_count": 14,
   "metadata": {},
   "outputs": [
    {
     "ename": "NameError",
     "evalue": "name 'Amulti' is not defined",
     "output_type": "error",
     "traceback": [
      "\u001b[0;31m---------------------------------------------------------------------------\u001b[0m",
      "\u001b[0;31mNameError\u001b[0m                                 Traceback (most recent call last)",
      "\u001b[0;32m<ipython-input-14-399c6e483887>\u001b[0m in \u001b[0;36m<module>\u001b[0;34m\u001b[0m\n\u001b[0;32m----> 1\u001b[0;31m \u001b[0mnotOrIfNotAny\u001b[0m\u001b[0;34m.\u001b[0m\u001b[0mspecialize\u001b[0m\u001b[0;34m(\u001b[0m\u001b[0;34m{\u001b[0m\u001b[0mAmulti\u001b[0m\u001b[0;34m:\u001b[0m\u001b[0;34m[\u001b[0m\u001b[0;34m]\u001b[0m\u001b[0;34m}\u001b[0m\u001b[0;34m)\u001b[0m\u001b[0;34m\u001b[0m\u001b[0;34m\u001b[0m\u001b[0m\n\u001b[0m",
      "\u001b[0;31mNameError\u001b[0m: name 'Amulti' is not defined"
     ]
    }
   ],
   "source": [
    "notOrIfNotAny.specialize({Amulti:[]})"
   ]
  },
  {
   "cell_type": "markdown",
   "metadata": {},
   "source": [
    "We must format this using the $[\\lor]$ operator.  This statement is valid and self-consistent because we define $[\\lor]$ acting on zero operands to be `FALSE`:"
   ]
  },
  {
   "cell_type": "code",
   "execution_count": 15,
   "metadata": {},
   "outputs": [
    {
     "data": {
      "text/html": [
       "<span style=\"font-size:20px;\"> &#x22A2;&nbsp;<a class=\"ProveItLink\" href=\"../packages/proveit/logic/boolean/disjunction/__pv_it/8d834758e2b646b2fba761fbe361d0a652de93c70/expr.ipynb\"><img src=\"../packages/proveit/logic/boolean/disjunction/__pv_it/8d834758e2b646b2fba761fbe361d0a652de93c70/expr.png\" style=\"display:inline;vertical-align:middle;\" /></a></span>"
      ],
      "text/plain": [
       "|= [or]() = FALSE"
      ]
     },
     "execution_count": 15,
     "metadata": {},
     "output_type": "execute_result"
    }
   ],
   "source": [
    "from proveit.logic.boolean.disjunction._axioms_ import emptyDisjunction\n",
    "emptyDisjunction"
   ]
  },
  {
   "cell_type": "markdown",
   "metadata": {},
   "source": [
    "It is also possible to include a **MultiVariable** in the *specialization*:"
   ]
  },
  {
   "cell_type": "code",
   "execution_count": 16,
   "metadata": {
    "scrolled": true
   },
   "outputs": [
    {
     "ename": "ImportError",
     "evalue": "cannot import name 'Etcetera' from 'proveit' (/home/jmadri/Prove-It/packages/proveit/__init__.py)",
     "output_type": "error",
     "traceback": [
      "\u001b[0;31m---------------------------------------------------------------------------\u001b[0m",
      "\u001b[0;31mImportError\u001b[0m                               Traceback (most recent call last)",
      "\u001b[0;32m<ipython-input-16-0e0e66c57e51>\u001b[0m in \u001b[0;36m<module>\u001b[0;34m\u001b[0m\n\u001b[0;32m----> 1\u001b[0;31m \u001b[0;32mfrom\u001b[0m \u001b[0mproveit\u001b[0m \u001b[0;32mimport\u001b[0m \u001b[0mEtcetera\u001b[0m\u001b[0;34m\u001b[0m\u001b[0;34m\u001b[0m\u001b[0m\n\u001b[0m\u001b[1;32m      2\u001b[0m \u001b[0;32mfrom\u001b[0m \u001b[0mproveit\u001b[0m\u001b[0;34m.\u001b[0m\u001b[0mlogic\u001b[0m \u001b[0;32mimport\u001b[0m \u001b[0minBool\u001b[0m\u001b[0;34m\u001b[0m\u001b[0;34m\u001b[0m\u001b[0m\n\u001b[1;32m      3\u001b[0m \u001b[0;32mfrom\u001b[0m \u001b[0mproveit\u001b[0m\u001b[0;34m.\u001b[0m\u001b[0mcommon\u001b[0m \u001b[0;32mimport\u001b[0m \u001b[0mBmulti\u001b[0m\u001b[0;34m\u001b[0m\u001b[0;34m\u001b[0m\u001b[0m\n\u001b[1;32m      4\u001b[0m \u001b[0massumptions\u001b[0m \u001b[0;34m=\u001b[0m \u001b[0;34m[\u001b[0m\u001b[0mNot\u001b[0m\u001b[0;34m(\u001b[0m\u001b[0ma\u001b[0m\u001b[0;34m)\u001b[0m\u001b[0;34m,\u001b[0m \u001b[0mEtcetera\u001b[0m\u001b[0;34m(\u001b[0m\u001b[0mNot\u001b[0m\u001b[0;34m(\u001b[0m\u001b[0mBmulti\u001b[0m\u001b[0;34m)\u001b[0m\u001b[0;34m)\u001b[0m\u001b[0;34m,\u001b[0m \u001b[0minBool\u001b[0m\u001b[0;34m(\u001b[0m\u001b[0ma\u001b[0m\u001b[0;34m)\u001b[0m\u001b[0;34m,\u001b[0m \u001b[0mEtcetera\u001b[0m\u001b[0;34m(\u001b[0m\u001b[0minBool\u001b[0m\u001b[0;34m(\u001b[0m\u001b[0mBmulti\u001b[0m\u001b[0;34m)\u001b[0m\u001b[0;34m)\u001b[0m\u001b[0;34m]\u001b[0m\u001b[0;34m\u001b[0m\u001b[0;34m\u001b[0m\u001b[0m\n\u001b[1;32m      5\u001b[0m \u001b[0mnotOrIfNotAnySpec2\u001b[0m \u001b[0;34m=\u001b[0m \u001b[0mnotOrIfNotAny\u001b[0m\u001b[0;34m.\u001b[0m\u001b[0mspecialize\u001b[0m\u001b[0;34m(\u001b[0m\u001b[0;34m{\u001b[0m\u001b[0mAmulti\u001b[0m\u001b[0;34m:\u001b[0m\u001b[0;34m(\u001b[0m\u001b[0ma\u001b[0m\u001b[0;34m,\u001b[0m \u001b[0mBmulti\u001b[0m\u001b[0;34m)\u001b[0m\u001b[0;34m}\u001b[0m\u001b[0;34m,\u001b[0m \u001b[0massumptions\u001b[0m\u001b[0;34m=\u001b[0m\u001b[0massumptions\u001b[0m\u001b[0;34m)\u001b[0m\u001b[0;34m\u001b[0m\u001b[0;34m\u001b[0m\u001b[0m\n",
      "\u001b[0;31mImportError\u001b[0m: cannot import name 'Etcetera' from 'proveit' (/home/jmadri/Prove-It/packages/proveit/__init__.py)"
     ]
    }
   ],
   "source": [
    "from proveit import Etcetera\n",
    "from proveit.logic import inBool\n",
    "from proveit.common import Bmulti\n",
    "assumptions = [Not(a), Etcetera(Not(Bmulti)), inBool(a), Etcetera(inBool(Bmulti))]\n",
    "notOrIfNotAnySpec2 = notOrIfNotAny.specialize({Amulti:(a, Bmulti)}, assumptions=assumptions)\n",
    "notOrIfNotAnySpec2"
   ]
  },
  {
   "cell_type": "code",
   "execution_count": null,
   "metadata": {},
   "outputs": [],
   "source": []
  },
  {
   "cell_type": "markdown",
   "metadata": {},
   "source": [
    "## <a href=\"tutorial00_introduction.ipynb#contents\">Table of Contents</a>"
   ]
  },
  {
   "cell_type": "code",
   "execution_count": null,
   "metadata": {},
   "outputs": [],
   "source": []
  },
  {
   "cell_type": "markdown",
   "metadata": {},
   "source": [
    "Let us also demonstrate *generalization* over a **MultiVariable**.  For this example, we will use the previous *specialization* instance that generated a **MultiVariable** as an implicit arbitrary multi-variable that we well next convert back to an explicit universal quantification."
   ]
  },
  {
   "cell_type": "code",
   "execution_count": null,
   "metadata": {},
   "outputs": [],
   "source": [
    "notOrIfNotAnySpec2"
   ]
  },
  {
   "cell_type": "code",
   "execution_count": null,
   "metadata": {},
   "outputs": [],
   "source": [
    "from proveit.logic import Booleans\n",
    "notOrIfNotAnySpec2.generalize((a, Bmulti), conditions=[Not(a), Etcetera(Not(Bmulti))], domain=Booleans)"
   ]
  },
  {
   "cell_type": "markdown",
   "metadata": {},
   "source": [
    "This could have been proven in one step from `notOrIfNotAny` using *relabeling*, but this demonstrates going back and forth from an explicit universal quantification to an implicit arbitrary multi-variable and back in a self-consistent manner. "
   ]
  }
 ],
 "metadata": {
  "kernelspec": {
   "display_name": "Python 3",
   "language": "python",
   "name": "python3"
  },
  "language_info": {
   "codemirror_mode": {
    "name": "ipython",
    "version": 3
   },
   "file_extension": ".py",
   "mimetype": "text/x-python",
   "name": "python",
   "nbconvert_exporter": "python",
   "pygments_lexer": "ipython3",
   "version": "3.7.3"
  }
 },
 "nbformat": 4,
 "nbformat_minor": 2
}
