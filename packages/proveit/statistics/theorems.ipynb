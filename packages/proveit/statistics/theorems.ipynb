{
 "cells": [
  {
   "cell_type": "code",
   "execution_count": 1,
   "metadata": {},
   "outputs": [],
   "source": [
    "from proveit import specialStatementMagic # for %begin_theorems and %end_theorems\n",
    "from proveit.expression import Operation\n",
    "from proveit.basiclogic import In, Forall, Equals, Implies\n",
    "from proveit.statistics import Prob\n",
    "from proveit.number.common import q, s, x, y, X, P, Px, Pq, Q, Qx, Qy, S\n",
    "from proveit.number import Summation, Abs, Mod, ModAbs, Add, Subtract, DiscreteContiguousSet#, Neg, Add, Multiply, Fraction, Exponentiate\n",
    "from proveit.number import GreaterThanEquals, IntervalCC\n",
    "from proveit.number.numberSets import Reals"
   ]
  },
  {
   "cell_type": "code",
   "execution_count": 2,
   "metadata": {},
   "outputs": [],
   "source": [
    "%begin_theorems"
   ]
  },
  {
   "cell_type": "code",
   "execution_count": 3,
   "metadata": {},
   "outputs": [
    {
     "data": {
      "text/latex": [
       "$\\forall_{ x , X } \\left(Pr_{x}[X] \\in \\mathbb{R}\\right)$"
      ],
      "text/plain": [
       "$\\forall_{ x , X } \\left(Pr_{x}[X] \\in \\mathbb{R}\\right)$"
      ]
     },
     "execution_count": 3,
     "metadata": {},
     "output_type": "execute_result"
    }
   ],
   "source": [
    "probInReals = Forall((x, X), In(Prob(X, x), Reals))\n",
    "probInReals"
   ]
  },
  {
   "cell_type": "code",
   "execution_count": 4,
   "metadata": {},
   "outputs": [
    {
     "data": {
      "text/latex": [
       "$\\forall_{ P , Q , S , q } \\left(\\left[\\forall_{ x  \\in S} P\\left( Q\\left( x \\right) \\right)\\right] \\Rightarrow \\left(Pr_{q}[P\\left( q \\right)] \\geq \\left[\\sum_{ y  \\in S} Pr_{q}[q = Q\\left( y \\right)]\\right]\\right)\\right)$"
      ],
      "text/plain": [
       "$\\forall_{ P , Q , S , q } \\left(\\left[\\forall_{ x  \\in S} P\\left( Q\\left( x \\right) \\right)\\right] \\Rightarrow \\left(Pr_{q}[P\\left( q \\right)] \\geq \\left[\\sum_{ y  \\in S} Pr_{q}[q = Q\\left( y \\right)]\\right]\\right)\\right)$"
      ]
     },
     "execution_count": 4,
     "metadata": {},
     "output_type": "execute_result"
    }
   ],
   "source": [
    "probLowerBound = Forall((P, Q, S, q), \n",
    "                        Implies(Forall(x, Operation(P, Qx), domain=S), \n",
    "                                GreaterThanEquals(Prob(Pq, q), \n",
    "                                                  Summation(y, Prob(Equals(q,Qy), q), \n",
    "                                                            domain=S))))\n",
    "probLowerBound"
   ]
  },
  {
   "cell_type": "code",
   "execution_count": 5,
   "metadata": {},
   "outputs": [
    {
     "name": "stdout",
     "output_type": "stream",
     "text": [
      "Creating theorems *.dill and *.pv_it files in the __pv_it__ directory\n",
      "These theorems may be imported from proveit.statistics.theorems\n"
     ]
    }
   ],
   "source": [
    "%end_theorems"
   ]
  },
  {
   "cell_type": "code",
   "execution_count": null,
   "metadata": {
    "collapsed": true
   },
   "outputs": [],
   "source": []
  }
 ],
 "metadata": {
  "kernelspec": {
   "display_name": "Python 3",
   "language": "python",
   "name": "python3"
  },
  "language_info": {
   "codemirror_mode": {
    "name": "ipython",
    "version": 3
   },
   "file_extension": ".py",
   "mimetype": "text/x-python",
   "name": "python",
   "nbconvert_exporter": "python",
   "pygments_lexer": "ipython3",
   "version": "3.7.3"
  }
 },
 "nbformat": 4,
 "nbformat_minor": 1
}
