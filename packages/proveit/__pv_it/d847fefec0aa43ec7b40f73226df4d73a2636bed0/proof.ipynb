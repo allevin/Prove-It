{
 "cells": [
  {
   "cell_type": "markdown",
   "metadata": {},
   "source": [
    "Show the Proof\n",
    "========"
   ]
  },
  {
   "cell_type": "code",
   "execution_count": 1,
   "metadata": {},
   "outputs": [
    {
     "data": {
      "text/html": [
       "<table><tr><th>&nbsp;</th><th>step type</th><th>requirements</th><th>statement</th></tr>\n",
       "<tr><td>0</td><td>assumption</td><td></td><td><span style=\"font-size:20px;\"><a class=\"ProveItLink\" href=\"../2905ed200827f10dedc5a9a0e644c6836559250b0/expr.ipynb\"><img src=\"data:image/png;base64,iVBORw0KGgoAAAANSUhEUgAAAFEAAAAVBAMAAADMaB9/AAAAMFBMVEX////c3NxERESqqqpUVFS6\n",
       "urrMzMwyMjIQEBCIiIh2dnYiIiLu7u5mZmaYmJgAAABXZE4RAAAAAXRSTlMAQObYZgAAAS5JREFU\n",
       "KM9jYGDgu8dAALCtEgBRPLsYCAK2ZhDJ+QHMOaly94Esuoop/11cihKAjOsgHlcDmOxjYIjtwzDs\n",
       "OwMD82cgvQKukqf6AJD1EcPWX0Di/gFklew9QIK1AV0l51cgkT8BWeV9AyDBeAFdJRPID/IOSCoZ\n",
       "v4NDIQFdJb8CyEyYSt4CIP4Hl+QtBwMHMAdkMcP7BUAM4mUEMDBwf8QejvNBtvgDFbADHZbSBrIF\n",
       "HKY8GCr1QUQHiFB/wMAQAdTHAVZphqHyExDzgVzGDXQBAwvQnSx/QOJgr/PuBgMFcHD+BBIcICbY\n",
       "nVwboEJcBzCC8xvI3gMocfTegIH1IgO24EwH24RQyebuexlD4Vn9Ly5O1xhQVRICJKrkI0YlOH3y\n",
       "7CQizbeCKb7FROUjAEUPVZmoLimKAAAAAElFTkSuQmCC\n",
       "\" style=\"display:inline;vertical-align:middle;\" /></a> <a class=\"ProveItLink\" href=\"proof.ipynb\" style=\"text-decoration: none\">&#x22A2;&nbsp;</a><a class=\"ProveItLink\" href=\"../28df32d141acdf260d692e8a84298f2d99d076640/expr.ipynb\"><img src=\"data:image/png;base64,iVBORw0KGgoAAAANSUhEUgAAADwAAAAOBAMAAACBYGLnAAAAMFBMVEX////MzMyqqqoiIiIyMjK6\n",
       "uroQEBB2dnbc3NyYmJhmZmZUVFRERESIiIju7u4AAAB204erAAAAAXRSTlMAQObYZgAAANJJREFU\n",
       "GNNjYGDgu7NrJccCBlTAu//37i0HQayyCQysyyagSTPwOzAw6CswMDyxA3LqG9Cl5QsYGLj+MTC4\n",
       "PQBywtBlGe4HMDAw/mXg+gTidGFInwdijt8M/Q4gzkMM6T9AzPibYT3CUUtcQMAbzAaay8DA+Z3B\n",
       "HsNREI99BBLcXxn+g3kP0KV5PgAJtgSGfBCHSQDD2weAxPwJDPtBGrnAQouNQcAG4u0LQCIHStdh\n",
       "ehtoHo8f0HVAf0c1YPM2oxeIIe29SgFdkm/N/927TwENAABfrzXqh8OCCQAAAABJRU5ErkJggg==\n",
       "\" style=\"display:inline;vertical-align:middle;\" /></a></span></td></tr>\n",
       "</table>"
      ],
      "text/plain": [
       "<proveit._core_.proof._ShowProof at 0x7f94eb570a90>"
      ]
     },
     "execution_count": 1,
     "metadata": {},
     "output_type": "execute_result"
    }
   ],
   "source": [
    "import proveit\n",
    "%show_proof"
   ]
  },
  {
   "cell_type": "code",
   "execution_count": null,
   "metadata": {},
   "outputs": [],
   "source": []
  }
 ],
 "metadata": {
  "kernelspec": {
   "display_name": "Python 3",
   "language": "python",
   "name": "python3"
  }
 },
 "nbformat": 4,
 "nbformat_minor": 0
}
