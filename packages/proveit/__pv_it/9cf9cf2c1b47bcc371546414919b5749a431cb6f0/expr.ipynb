{
 "cells": [
  {
   "cell_type": "markdown",
   "metadata": {},
   "source": [
    "Expression of type <a class=\"ProveItLink\" href=\"../../../../doc/html/api/proveit.logic.Implies.html\">Implies</a>\n",
    "=======================\n",
    "# from context <a class=\"ProveItLink\" href=\"../../_context_.ipynb\">proveit</a>"
   ]
  },
  {
   "cell_type": "code",
   "execution_count": 1,
   "metadata": {},
   "outputs": [],
   "source": [
    "# import Expression classes needed to build the expression\n",
    "from proveit._common_ import A, B, C\n",
    "from proveit.logic import Implies"
   ]
  },
  {
   "cell_type": "code",
   "execution_count": 2,
   "metadata": {},
   "outputs": [
    {
     "data": {
      "text/html": [
       "<strong id=\"expr\">expr:</strong> <a class=\"ProveItLink\" href=\"expr.ipynb\"><img src=\"data:image/png;base64,iVBORw0KGgoAAAANSUhEUgAAAH8AAAAVBAMAAACd/CwcAAAAMFBMVEX///92dnYQEBBERERUVFS6\n",
       "urqIiIhmZmaqqqrc3Nzu7u6YmJgyMjIiIiLMzMwAAACFkkdwAAAAAXRSTlMAQObYZgAAAd9JREFU\n",
       "OMtjYKAdYE0gqGQrjPEWm+wTIN7y38XFJgCLJFeyezVnAfsDKPc8NgNOgQhlBgb2r1gkhTYwsBZt\n",
       "YDgA4XHfX4AwGsZgA/mA7xsQf4FLwpWtuQUk5CcwbIRwZ9RPgKvhgSliAjHYfgKN/4jqKBA4BJIM\n",
       "YmBYBOEm5CO8yeoAZcSACGYFBgZeLbhkCJRm/wEipwPlG8B6FvRvQPhODEoXggh+BwbOwwj/MUIj\n",
       "Zj7Y7+uAAgUgxlKG92CJ2rsgcL8Aoug0iHjvllYLNpwdLHf3O0SuHmYhB9ikAIb5BUgB3APxjyqI\n",
       "yJ/AwHUFSY7jKJi6DwszVgVQSLu4+BsgR/EhsAngyDMCGYLkP4Y1YHP/w+KE7wPIFGCIH0BS80aK\n",
       "AW4AKAb3CyDk+A6CA0Qf7JoHUAOAAcmrgAiDu1YQtRog9b+BhH8DIgwuQwLUH0SxQ73ACZTn+YCw\n",
       "pAVKW0OTAecfpCCAxjE40EEO5QY6fQ0oun/B1XDCfCMOTQaPTiEMmAOluYHpIBwUkMBonKx/koHb\n",
       "/g88GphhARwLdKT9Fxef00jBYwnPaEfKwUmIBzOj8cEYTBMws9ADdIFFePI6twARZYYYPslThPVz\n",
       "HcAnO4WwASwT8MlyEi7S8hgYAJt5gWD7FNeSAAAAAElFTkSuQmCC\n",
       "\" style=\"display:inline;vertical-align:middle;\" /></a><br>"
      ],
      "text/plain": [
       "expr: A => (B => C)"
      ]
     },
     "execution_count": 2,
     "metadata": {},
     "output_type": "execute_result"
    }
   ],
   "source": [
    "# build up the expression from sub-expressions\n",
    "expr = Implies(A, Implies(B, C))"
   ]
  },
  {
   "cell_type": "code",
   "execution_count": 3,
   "metadata": {},
   "outputs": [
    {
     "name": "stdout",
     "output_type": "stream",
     "text": [
      "Passed sanity check: built 'expr' is the same as the stored Expression.\n"
     ]
    }
   ],
   "source": [
    "# check that the built expression is the same as the stored expression\n",
    "%check_expr"
   ]
  },
  {
   "cell_type": "code",
   "execution_count": 4,
   "metadata": {},
   "outputs": [
    {
     "data": {
      "text/html": [
       "<table><tr><th>&nbsp;</th><th>core type</th><th>sub-expressions</th><th>expression</th></tr>\n",
       "<tr><td>0</td><td>Operation</td><td>operator:&nbsp;4<br>operands:&nbsp;1<br></td><td><a class=\"ProveItLink\" href=\"expr.ipynb\"><img src=\"data:image/png;base64,iVBORw0KGgoAAAANSUhEUgAAAH8AAAAVBAMAAACd/CwcAAAAMFBMVEX///92dnYQEBBERERUVFS6\n",
       "urqIiIhmZmaqqqrc3Nzu7u6YmJgyMjIiIiLMzMwAAACFkkdwAAAAAXRSTlMAQObYZgAAAd9JREFU\n",
       "OMtjYKAdYE0gqGQrjPEWm+wTIN7y38XFJgCLJFeyezVnAfsDKPc8NgNOgQhlBgb2r1gkhTYwsBZt\n",
       "YDgA4XHfX4AwGsZgA/mA7xsQf4FLwpWtuQUk5CcwbIRwZ9RPgKvhgSliAjHYfgKN/4jqKBA4BJIM\n",
       "YmBYBOEm5CO8yeoAZcSACGYFBgZeLbhkCJRm/wEipwPlG8B6FvRvQPhODEoXggh+BwbOwwj/MUIj\n",
       "Zj7Y7+uAAgUgxlKG92CJ2rsgcL8Aoug0iHjvllYLNpwdLHf3O0SuHmYhB9ikAIb5BUgB3APxjyqI\n",
       "yJ/AwHUFSY7jKJi6DwszVgVQSLu4+BsgR/EhsAngyDMCGYLkP4Y1YHP/w+KE7wPIFGCIH0BS80aK\n",
       "AW4AKAb3CyDk+A6CA0Qf7JoHUAOAAcmrgAiDu1YQtRog9b+BhH8DIgwuQwLUH0SxQ73ACZTn+YCw\n",
       "pAVKW0OTAecfpCCAxjE40EEO5QY6fQ0oun/B1XDCfCMOTQaPTiEMmAOluYHpIBwUkMBonKx/koHb\n",
       "/g88GphhARwLdKT9Fxef00jBYwnPaEfKwUmIBzOj8cEYTBMws9ADdIFFePI6twARZYYYPslThPVz\n",
       "HcAnO4WwASwT8MlyEi7S8hgYAJt5gWD7FNeSAAAAAElFTkSuQmCC\n",
       "\" style=\"display:inline;vertical-align:middle;\" /></a></td></tr>\n",
       "<tr><td>1</td><td>ExprTuple</td><td>2, 3</td><td><a class=\"ProveItLink\" href=\"../428d780d2cd11724b51ac2d7723ca05b4de0bdc00/expr.ipynb\"><img src=\"data:image/png;base64,iVBORw0KGgoAAAANSUhEUgAAAGYAAAAVBAMAAABGR4Y+AAAAMFBMVEX////c3NwiIiJERESqqqqY\n",
       "mJh2dnZmZmYQEBDu7u4yMjJUVFTMzMyIiIi6uroAAAAs73DqAAAAAXRSTlMAQObYZgAAAbxJREFU\n",
       "OMtjYCAH8F0gSTnrAyBxGsI+BBOM/r97t9UDLKo5L28vZSxgqAEyV0JE1sPlmhkY2P9h0ZMRwMBX\n",
       "EcDAxcDAC3Eaq/4EqBTPXyD+jTAdxpilCSTyBRhYExg4IGpF6gWgcrwfgSZ8g+vhgpm1AsR4ATSk\n",
       "geEVROTCfZgXmBsYGJg6EUG0AUKzfwGR4kBswlAGkZngHwBVxL+BgXHxBIQ3ciGU/AIQOQeI0xmW\n",
       "gkXmMZyHBfn5vXeLIPqLlEBAvwDMqYeZyeDF0AemHzDIF0CF7gswcGojh5cX2NX6MP8C/QQOVZ7d\n",
       "u/cbQIUsQPoCkONlBUjTfzAb5ObzED18DAwcC6BKQMEcn4Ck51QmiOwHESwHwHpaQGwHYFA1QKPn\n",
       "K5DY74Dwj5IlWHw/yAp2iNtMgSQjUAnXB4jNoOhh/IVkjTc0aEBhBLYxChhywCgGRctPBs5P0Og5\n",
       "sRKhhRHqZlZg/DwHh0M6wyMGBuH+hQys9r8KOPsFGNjtf+/etRTJGmZYeJ1eXQ52McM6Bg4BpGwh\n",
       "gJkyeTCSdwMoySHyBjEZiO0CPC8QrQfkeWkEl6gcuxEUMKTlbd4DDAA9sGuQDx6vNQAAAABJRU5E\n",
       "rkJggg==\n",
       "\" style=\"display:inline;vertical-align:middle;\" /></a></td></tr>\n",
       "<tr><td>2</td><td>Variable</td><td></td><td><a class=\"ProveItLink\" href=\"../2cbe72a7ad6f655694dd697106680215e8489b600/expr.ipynb\"><img src=\"data:image/png;base64,iVBORw0KGgoAAAANSUhEUgAAAA8AAAAOBAMAAAACpFvcAAAALVBMVEX///8QEBBERERUVFS6urqI\n",
       "iIhmZmaqqqrc3Nzu7u6YmJgyMjIiIiLMzMwAAADtIaYWAAAAAXRSTlMAQObYZgAAAFtJREFUCNdj\n",
       "YACBOwxQsA9Kc52bAGG05zVAGAFxDmCaZULdAjBjCsO9ADDDgaEvAUTzGhvbKYCVMDAwbgAxChgY\n",
       "eASANAeQwf0AyJgNxEwvGRia5HYwcOm9TgAA6BoR3jrzwFcAAAAASUVORK5CYII=\n",
       "\" style=\"display:inline;vertical-align:middle;\" /></a></td></tr>\n",
       "<tr><td>3</td><td>Operation</td><td>operator:&nbsp;4<br>operands:&nbsp;5<br></td><td><a class=\"ProveItLink\" href=\"../2a4514f51d0fffe545c3e61025df66fded24ea200/expr.ipynb\"><img src=\"data:image/png;base64,iVBORw0KGgoAAAANSUhEUgAAAEEAAAAPBAMAAABJi79qAAAAMFBMVEX///+qqqru7u4iIiJ2dnbc\n",
       "3NyIiIjMzMxmZmYQEBC6uroyMjJERERUVFSYmJgAAADLUcuvAAAAAXRSTlMAQObYZgAAAPhJREFU\n",
       "GNNjYGB4+//u3dMLGDABU86NPtYGEGsOAwPHLywqPB8wcHU+ADLYvwHxX4ROGEPbCEj4BwAJtq8M\n",
       "DHxf4Cq4FaCMnSDGShCLZwIDA/MkuAquCxCa4yOIjAAR/BcYWPcoIKx3g1DxG0CkOoiov5bW/AAs\n",
       "2GwMAvZg5zP0P4DryQ9gYLJF9oM02Ov2AXCBkyBVD5DDYSdIyX8wG2w7yKPvHZBUVDuByPkggrEA\n",
       "FBz/gMR9AYQ7jA+B1d0HaedggAYH628kI2QhVH0CkHCCBUflJoQC1g0Qmg8YHitAruU4//fu7X1I\n",
       "RvDA/FC7t0OAARtgR+MDAAhbPiSyASIoAAAAAElFTkSuQmCC\n",
       "\" style=\"display:inline;vertical-align:middle;\" /></a></td></tr>\n",
       "<tr><td>4</td><td>Literal</td><td></td><td><a class=\"ProveItLink\" href=\"../../logic/boolean/implication/__pv_it/e5c030cabcb650938f92dee8256fe11cd12bf9b30/expr.ipynb\"><img src=\"data:image/png;base64,iVBORw0KGgoAAAANSUhEUgAAABMAAAANBAMAAAC5okgUAAAALVBMVEX////c3NxERETMzMwQEBCq\n",
       "qqoiIiJmZmaIiIh2dnZUVFS6uroyMjLu7u4AAACPpZJTAAAAAXRSTlMAQObYZgAAAD1JREFUCNdj\n",
       "YAABXgY44LkAZ3IvQAjPABFlaSCQV4AQjtkAZ/IegbNt5sLUpunC5aPgLMYDcCaTAJzJDCIA2yMN\n",
       "HCCUuIIAAAAASUVORK5CYII=\n",
       "\" style=\"display:inline;vertical-align:middle;\" /></a></td></tr>\n",
       "<tr><td>5</td><td>ExprTuple</td><td>6, 7</td><td><a class=\"ProveItLink\" href=\"../f633c436ceaaf255af0473938b791d636653583f0/expr.ipynb\"><img src=\"data:image/png;base64,iVBORw0KGgoAAAANSUhEUgAAADcAAAAVBAMAAAAQkWtIAAAAMFBMVEX////c3NwiIiJERESqqqqY\n",
       "mJh2dnZmZmYQEBDu7u4yMjJUVFTMzMyIiIi6uroAAAAs73DqAAAAAXRSTlMAQObYZgAAAUFJREFU\n",
       "KM9jYMAL+C5gF48DEaeBmHX/792b18GEOS9vL2UsYD8AZK4E8TkMGBjqH0AlMwIY+CoCGBYwMPCC\n",
       "TT0PJM9vgMjN0gQS+QIMYUA9E0AC9wUYGOITIJIrQCIvGBhmMDC8AgtYALEGWBkD+xcQKc7AwOzA\n",
       "UAYW+c3AIGUJ0Si/AETOYWBgK2BYCmLy/L57XRXqnPoAKINlAUMfiOb9yMAwCeoefQFYADQw/APR\n",
       "zA1ABV8hYv/BJNB+ng8QSX6gLtZvEMl+sJEHwJItYG8C7eH+ApHcD3I0O8RYU5g3ga7khIUHQyYo\n",
       "TBcwpEO9ydM1gWG+AkgMaMJzkKOAXnkEpIr/7969CmjyjI/gmFhd7gCiuR4wcAggRdND5DgDBh9r\n",
       "AhI/AFkyFxZlWCQ5QcEojeDzImvkBtnHiCOZ3GFgAADrEU9ADAe1sgAAAABJRU5ErkJggg==\n",
       "\" style=\"display:inline;vertical-align:middle;\" /></a></td></tr>\n",
       "<tr><td>6</td><td>Variable</td><td></td><td><a class=\"ProveItLink\" href=\"../077b2ff79244fb4582cbe22c6e3356fa92a52f2f0/expr.ipynb\"><img src=\"data:image/png;base64,iVBORw0KGgoAAAANSUhEUgAAABAAAAAOBAMAAADUAYG5AAAAMFBMVEX///+qqqru7u4iIiJ2dnbc\n",
       "3NyIiIjMzMxmZmYQEBC6uroyMjJERERUVFSYmJgAAADLUcuvAAAAAXRSTlMAQObYZgAAAGpJREFU\n",
       "CNdjYGB4+//u3dMLGIBgDgMDxy8gzf4NiP8CGWxfGRj4vgAZPBMYGJgnARn8FxhY9ygAGfXX0pof\n",
       "gDTlBzAw2YIYJ0EckBBI53sHoBH/gIz7AhBjWH9DjancBLTl/N+7t/cxMAAA3u4f/5xagjYAAAAA\n",
       "SUVORK5CYII=\n",
       "\" style=\"display:inline;vertical-align:middle;\" /></a></td></tr>\n",
       "<tr><td>7</td><td>Variable</td><td></td><td><a class=\"ProveItLink\" href=\"../985a1bdf1540838275dec15f4ad6de261cca93ce0/expr.ipynb\"><img src=\"data:image/png;base64,iVBORw0KGgoAAAANSUhEUgAAAA8AAAAOBAMAAAACpFvcAAAAMFBMVEX////MzMyqqqoiIiIyMjK6\n",
       "uroQEBB2dnbc3NyYmJhmZmZUVFRERESIiIju7u4AAAB204erAAAAAXRSTlMAQObYZgAAAGZJREFU\n",
       "CNdjYGDgu7NrJccCBgaGsgkMrMsmMDA8sQNy6hsYGNweABlhDAxcn4A0QxcDQ78DiPGQgWH9BAYI\n",
       "sG+AMv6DSaCGfBDNJMDAsB+kmwuI5S8AiTog5gSaEwXWIO29SgFIAQBC+RaDQlidVgAAAABJRU5E\n",
       "rkJggg==\n",
       "\" style=\"display:inline;vertical-align:middle;\" /></a></td></tr>\n",
       "</table>\n"
      ],
      "text/plain": [
       "0. A => (B => C)\n",
       "   core type: Operation\n",
       "   operator: 4\n",
       "   operands: 1\n",
       "1. (A , B => C)\n",
       "   core type: ExprTuple\n",
       "   sub-expressions: 2, 3\n",
       "2. A\n",
       "   core type: Variable\n",
       "   sub-expressions: \n",
       "3. B => C\n",
       "   core type: Operation\n",
       "   operator: 4\n",
       "   operands: 5\n",
       "4. =>\n",
       "   core type: Literal\n",
       "   sub-expressions: \n",
       "5. (B , C)\n",
       "   core type: ExprTuple\n",
       "   sub-expressions: 6, 7\n",
       "6. B\n",
       "   core type: Variable\n",
       "   sub-expressions: \n",
       "7. C\n",
       "   core type: Variable\n",
       "   sub-expressions: "
      ]
     },
     "execution_count": 4,
     "metadata": {},
     "output_type": "execute_result"
    }
   ],
   "source": [
    "# display the expression information\n",
    "expr.exprInfo()"
   ]
  },
  {
   "cell_type": "code",
   "execution_count": null,
   "metadata": {},
   "outputs": [],
   "source": []
  }
 ],
 "metadata": {
  "kernelspec": {
   "display_name": "Python 3",
   "language": "python",
   "name": "python3"
  }
 },
 "nbformat": 4,
 "nbformat_minor": 0
}
