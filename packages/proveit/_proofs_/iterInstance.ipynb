{
 "cells": [
  {
   "cell_type": "markdown",
   "metadata": {
    "collapsed": true
   },
   "source": [
    "Proof of <a class=\"ProveItLink\" href=\"../_context_.ipynb\">proveit</a>.<a class=\"ProveItLink\" href=\"../_theorems_.ipynb#iterInstance\">iterInstance</a> theorem\n",
    "========"
   ]
  },
  {
   "cell_type": "code",
   "execution_count": 1,
   "metadata": {},
   "outputs": [],
   "source": [
    "import proveit\n",
    "from proveit import defaults, varIter, Indexed, Iter\n",
    "from proveit._common_ import i, j, l, x, P, Pj, Px, AA, iterAil, iterPil\n",
    "from proveit.number import Add, Subtract, one\n",
    "context = proveit.Context('..') # the theorem's context is in the parent directory"
   ]
  },
  {
   "cell_type": "code",
   "execution_count": 2,
   "metadata": {},
   "outputs": [
    {
     "name": "stdout",
     "output_type": "stream",
     "text": [
      "Beginning proof of iterInstance\n",
      "Recorded 'presuming' information\n"
     ]
    },
    {
     "data": {
      "text/html": [
       "<strong id=\"iterInstance\">iterInstance:</strong> <a class=\"ProveItLink\" href=\"../__pv_it/ea8271b9248a570b1dcd0bf91c5507c9b6c5ffd00/expr.ipynb\"><img src=\"../__pv_it/ea8271b9248a570b1dcd0bf91c5507c9b6c5ffd00/expr.png\" style=\"display:inline;vertical-align:middle;\" /></a><br>(see <a class=\"ProveItLink\" href=\"../__pv_it/ea8271b9248a570b1dcd0bf91c5507c9b6c5ffd00/dependencies.ipynb\">dependencies</a>)<br>"
      ],
      "text/plain": [
       "iterInstance: forall_{i, j, l} [forall_{P | P(i) ,  ...  , P(l) , (j - i) in Naturals , (l - j) in Naturals} P(j)]"
      ]
     },
     "execution_count": 2,
     "metadata": {},
     "output_type": "execute_result"
    }
   ],
   "source": [
    "%proving iterInstance presuming []"
   ]
  },
  {
   "cell_type": "code",
   "execution_count": 3,
   "metadata": {},
   "outputs": [
    {
     "data": {
      "text/html": [
       "<strong id=\"defaults.assumptions\">defaults.assumptions:</strong> <a class=\"ProveItLink\" href=\"../__pv_it/9dd72a757c7aaba1fb35ccb137ab856cc257e1510/expr.ipynb\"><img src=\"../__pv_it/9dd72a757c7aaba1fb35ccb137ab856cc257e1510/expr.png\" style=\"display:inline;vertical-align:middle;\" /></a><br>"
      ],
      "text/plain": [
       "defaults.assumptions: (A_i ,  ...  , A_l , (j - i) in Naturals , (l - j) in Naturals)"
      ]
     },
     "execution_count": 3,
     "metadata": {},
     "output_type": "execute_result"
    }
   ],
   "source": [
    "defaults.assumptions = [iterAil] + iterInstance.allConditions()[1:]"
   ]
  },
  {
   "cell_type": "code",
   "execution_count": 4,
   "metadata": {},
   "outputs": [
    {
     "data": {
      "text/html": [
       "<strong id=\"generalized_iterAil\">generalized_iterAil:</strong> <span style=\"font-size:20px;\"> &#x22A2;&nbsp;<a class=\"ProveItLink\" href=\"../__pv_it/dcf818b4d6002138045d74c98b1de0856ae37d9f0/expr.ipynb\"><img src=\"../__pv_it/dcf818b4d6002138045d74c98b1de0856ae37d9f0/expr.png\" style=\"display:inline;vertical-align:middle;\" /></a></span><br>"
      ],
      "text/plain": [
       "generalized_iterAil: |- forall_{A | A_i ,  ...  , A_l} (A_i,...,A_l)"
      ]
     },
     "execution_count": 4,
     "metadata": {},
     "output_type": "execute_result"
    }
   ],
   "source": [
    "generalized_iterAil = iterAil.prove().generalize([AA], conditions=[iterAil])"
   ]
  },
  {
   "cell_type": "code",
   "execution_count": 5,
   "metadata": {},
   "outputs": [
    {
     "data": {
      "text/html": [
       "<strong id=\"firstIter\">firstIter:</strong> <a class=\"ProveItLink\" href=\"../__pv_it/b8d42fea6be965b9285340a656112826868640c50/expr.ipynb\"><img src=\"../__pv_it/b8d42fea6be965b9285340a656112826868640c50/expr.png\" style=\"display:inline;vertical-align:middle;\" /></a><br>"
      ],
      "text/plain": [
       "firstIter: P(i),...,P(j - 1)"
      ]
     },
     "execution_count": 5,
     "metadata": {},
     "output_type": "execute_result"
    }
   ],
   "source": [
    "firstIter = Iter(x, Px, i, Subtract(j, one))"
   ]
  },
  {
   "cell_type": "code",
   "execution_count": 6,
   "metadata": {},
   "outputs": [
    {
     "data": {
      "text/html": [
       "<strong id=\"lastIter\">lastIter:</strong> <a class=\"ProveItLink\" href=\"../__pv_it/bdfd3f760870e59ef3f2c5f3bd6a901f4a180b410/expr.ipynb\"><img src=\"../__pv_it/bdfd3f760870e59ef3f2c5f3bd6a901f4a180b410/expr.png\" style=\"display:inline;vertical-align:middle;\" /></a><br>"
      ],
      "text/plain": [
       "lastIter: P(j + 1),...,P(l)"
      ]
     },
     "execution_count": 6,
     "metadata": {},
     "output_type": "execute_result"
    }
   ],
   "source": [
    "lastIter = Iter(x, Px, Add(j, one), l)"
   ]
  },
  {
   "cell_type": "code",
   "execution_count": 7,
   "metadata": {},
   "outputs": [
    {
     "name": "stdout",
     "output_type": "stream",
     "text": [
      "entry end 1 + ((j - 1) - i)\n",
      "entry end (1 + ((j - 1) - i)) + 1\n",
      "entry end (((1 + ((j - 1) - i)) + 1) + 1) + (l - (j + 1))\n"
     ]
    },
    {
     "ename": "IndexError",
     "evalue": "ExprList index out of range",
     "output_type": "error",
     "traceback": [
      "\u001b[1;31m---------------------------------------------------------------------------\u001b[0m",
      "\u001b[1;31mIndexError\u001b[0m                                Traceback (most recent call last)",
      "\u001b[1;32m<ipython-input-7-227e27277b9c>\u001b[0m in \u001b[0;36m<module>\u001b[1;34m\u001b[0m\n\u001b[0;32m      2\u001b[0m     generalized_iterAil.specialize({AA:[firstIter, \\\n\u001b[0;32m      3\u001b[0m                                         \u001b[0mPj\u001b[0m\u001b[1;33m,\u001b[0m\u001b[0;31m \u001b[0m\u001b[0;31m\\\u001b[0m\u001b[1;33m\u001b[0m\u001b[1;33m\u001b[0m\u001b[0m\n\u001b[1;32m----> 4\u001b[1;33m                                         lastIter]})\n\u001b[0m\u001b[0;32m      5\u001b[0m \u001b[0mproveit\u001b[0m\u001b[1;33m.\u001b[0m\u001b[0mmagics\u001b[0m\u001b[1;33m.\u001b[0m\u001b[0mAssignments\u001b[0m\u001b[1;33m(\u001b[0m\u001b[1;33m[\u001b[0m\u001b[1;34m'firstIter'\u001b[0m\u001b[1;33m,\u001b[0m\u001b[1;34m'Pj'\u001b[0m\u001b[1;33m,\u001b[0m\u001b[1;34m'lastIter'\u001b[0m\u001b[1;33m]\u001b[0m\u001b[1;33m,\u001b[0m \u001b[1;33m[\u001b[0m\u001b[0mfirstIter\u001b[0m\u001b[1;33m,\u001b[0m\u001b[0mPj\u001b[0m\u001b[1;33m,\u001b[0m\u001b[0mlastIter\u001b[0m\u001b[1;33m]\u001b[0m\u001b[1;33m)\u001b[0m\u001b[1;33m\u001b[0m\u001b[1;33m\u001b[0m\u001b[0m\n",
      "\u001b[1;32mC:\\users\\wwitzel\\Prove-It\\packages\\proveit\\_core_\\known_truth.py\u001b[0m in \u001b[0;36mspecialize\u001b[1;34m(self, specializeMap, relabelMap, assumptions)\u001b[0m\n\u001b[0;32m    760\u001b[0m                     \u001b[0mprocessedSubMap\u001b[0m\u001b[1;33m[\u001b[0m\u001b[0miVar\u001b[0m\u001b[1;33m]\u001b[0m \u001b[1;33m=\u001b[0m \u001b[0miVar\u001b[0m\u001b[1;33m\u001b[0m\u001b[1;33m\u001b[0m\u001b[0m\n\u001b[0;32m    761\u001b[0m \u001b[1;33m\u001b[0m\u001b[0m\n\u001b[1;32m--> 762\u001b[1;33m         \u001b[0mcheckedTruths\u001b[0m \u001b[1;33m=\u001b[0m \u001b[1;33m[\u001b[0m\u001b[0mself\u001b[0m\u001b[1;33m.\u001b[0m\u001b[0m_checkedTruth\u001b[0m\u001b[1;33m(\u001b[0m\u001b[0mtruth\u001b[0m\u001b[1;33m)\u001b[0m \u001b[1;32mfor\u001b[0m \u001b[0mtruth\u001b[0m \u001b[1;32min\u001b[0m \u001b[0mSpecialization\u001b[0m\u001b[1;33m.\u001b[0m\u001b[0m_makeSpecializations\u001b[0m\u001b[1;33m(\u001b[0m\u001b[0mself\u001b[0m\u001b[1;33m,\u001b[0m \u001b[0mnumForallEliminations\u001b[0m\u001b[1;33m=\u001b[0m\u001b[0mnumForallEliminations\u001b[0m\u001b[1;33m,\u001b[0m \u001b[0mspecializeMap\u001b[0m\u001b[1;33m=\u001b[0m\u001b[0mprocessedSubMap\u001b[0m\u001b[1;33m,\u001b[0m \u001b[0mrelabelMap\u001b[0m\u001b[1;33m=\u001b[0m\u001b[0mrelabelMap\u001b[0m\u001b[1;33m,\u001b[0m \u001b[0massumptions\u001b[0m\u001b[1;33m=\u001b[0m\u001b[0massumptions\u001b[0m\u001b[1;33m)\u001b[0m\u001b[1;33m]\u001b[0m\u001b[1;33m\u001b[0m\u001b[1;33m\u001b[0m\u001b[0m\n\u001b[0m\u001b[0;32m    763\u001b[0m         \u001b[1;32mif\u001b[0m \u001b[0mlen\u001b[0m\u001b[1;33m(\u001b[0m\u001b[0mcheckedTruths\u001b[0m\u001b[1;33m)\u001b[0m\u001b[1;33m==\u001b[0m\u001b[1;36m1\u001b[0m\u001b[1;33m:\u001b[0m\u001b[1;33m\u001b[0m\u001b[1;33m\u001b[0m\u001b[0m\n\u001b[0;32m    764\u001b[0m             \u001b[1;32mreturn\u001b[0m \u001b[0mcheckedTruths\u001b[0m\u001b[1;33m[\u001b[0m\u001b[1;36m0\u001b[0m\u001b[1;33m]\u001b[0m\u001b[1;33m\u001b[0m\u001b[1;33m\u001b[0m\u001b[0m\n",
      "\u001b[1;32mC:\\users\\wwitzel\\Prove-It\\packages\\proveit\\_core_\\known_truth.py\u001b[0m in \u001b[0;36m<listcomp>\u001b[1;34m(.0)\u001b[0m\n\u001b[0;32m    760\u001b[0m                     \u001b[0mprocessedSubMap\u001b[0m\u001b[1;33m[\u001b[0m\u001b[0miVar\u001b[0m\u001b[1;33m]\u001b[0m \u001b[1;33m=\u001b[0m \u001b[0miVar\u001b[0m\u001b[1;33m\u001b[0m\u001b[1;33m\u001b[0m\u001b[0m\n\u001b[0;32m    761\u001b[0m \u001b[1;33m\u001b[0m\u001b[0m\n\u001b[1;32m--> 762\u001b[1;33m         \u001b[0mcheckedTruths\u001b[0m \u001b[1;33m=\u001b[0m \u001b[1;33m[\u001b[0m\u001b[0mself\u001b[0m\u001b[1;33m.\u001b[0m\u001b[0m_checkedTruth\u001b[0m\u001b[1;33m(\u001b[0m\u001b[0mtruth\u001b[0m\u001b[1;33m)\u001b[0m \u001b[1;32mfor\u001b[0m \u001b[0mtruth\u001b[0m \u001b[1;32min\u001b[0m \u001b[0mSpecialization\u001b[0m\u001b[1;33m.\u001b[0m\u001b[0m_makeSpecializations\u001b[0m\u001b[1;33m(\u001b[0m\u001b[0mself\u001b[0m\u001b[1;33m,\u001b[0m \u001b[0mnumForallEliminations\u001b[0m\u001b[1;33m=\u001b[0m\u001b[0mnumForallEliminations\u001b[0m\u001b[1;33m,\u001b[0m \u001b[0mspecializeMap\u001b[0m\u001b[1;33m=\u001b[0m\u001b[0mprocessedSubMap\u001b[0m\u001b[1;33m,\u001b[0m \u001b[0mrelabelMap\u001b[0m\u001b[1;33m=\u001b[0m\u001b[0mrelabelMap\u001b[0m\u001b[1;33m,\u001b[0m \u001b[0massumptions\u001b[0m\u001b[1;33m=\u001b[0m\u001b[0massumptions\u001b[0m\u001b[1;33m)\u001b[0m\u001b[1;33m]\u001b[0m\u001b[1;33m\u001b[0m\u001b[1;33m\u001b[0m\u001b[0m\n\u001b[0m\u001b[0;32m    763\u001b[0m         \u001b[1;32mif\u001b[0m \u001b[0mlen\u001b[0m\u001b[1;33m(\u001b[0m\u001b[0mcheckedTruths\u001b[0m\u001b[1;33m)\u001b[0m\u001b[1;33m==\u001b[0m\u001b[1;36m1\u001b[0m\u001b[1;33m:\u001b[0m\u001b[1;33m\u001b[0m\u001b[1;33m\u001b[0m\u001b[0m\n\u001b[0;32m    764\u001b[0m             \u001b[1;32mreturn\u001b[0m \u001b[0mcheckedTruths\u001b[0m\u001b[1;33m[\u001b[0m\u001b[1;36m0\u001b[0m\u001b[1;33m]\u001b[0m\u001b[1;33m\u001b[0m\u001b[1;33m\u001b[0m\u001b[0m\n",
      "\u001b[1;32mC:\\users\\wwitzel\\Prove-It\\packages\\proveit\\_core_\\proof.py\u001b[0m in \u001b[0;36m_makeSpecializations\u001b[1;34m(generalTruth, numForallEliminations, specializeMap, relabelMap, assumptions)\u001b[0m\n\u001b[0;32m    759\u001b[0m             \u001b[0mgeneralExpr\u001b[0m \u001b[1;33m=\u001b[0m \u001b[0mgeneralTruth\u001b[0m\u001b[1;33m.\u001b[0m\u001b[0mexpr\u001b[0m\u001b[1;33m\u001b[0m\u001b[1;33m\u001b[0m\u001b[0m\n\u001b[0;32m    760\u001b[0m             \u001b[1;31m# perform the appropriate substitution/relabeling\u001b[0m\u001b[1;33m\u001b[0m\u001b[1;33m\u001b[0m\u001b[1;33m\u001b[0m\u001b[0m\n\u001b[1;32m--> 761\u001b[1;33m             \u001b[1;32mfor\u001b[0m \u001b[0mspecializedExpr\u001b[0m\u001b[1;33m,\u001b[0m \u001b[0mrequirements\u001b[0m\u001b[1;33m,\u001b[0m \u001b[0mmappedVarLists\u001b[0m\u001b[1;33m,\u001b[0m \u001b[0mmappings\u001b[0m \u001b[1;32min\u001b[0m \u001b[0mSpecialization\u001b[0m\u001b[1;33m.\u001b[0m\u001b[0m_specialized_expr\u001b[0m\u001b[1;33m(\u001b[0m\u001b[0mgeneralExpr\u001b[0m\u001b[1;33m,\u001b[0m \u001b[0mnumForallEliminations\u001b[0m\u001b[1;33m,\u001b[0m \u001b[0mspecializeMap\u001b[0m\u001b[1;33m,\u001b[0m \u001b[0mrelabelMap\u001b[0m\u001b[1;33m,\u001b[0m \u001b[0massumptions\u001b[0m\u001b[1;33m)\u001b[0m\u001b[1;33m:\u001b[0m\u001b[1;33m\u001b[0m\u001b[1;33m\u001b[0m\u001b[0m\n\u001b[0m\u001b[0;32m    762\u001b[0m                 \u001b[1;32myield\u001b[0m \u001b[0mSpecialization\u001b[0m\u001b[1;33m(\u001b[0m\u001b[0mgeneralTruth\u001b[0m\u001b[1;33m,\u001b[0m \u001b[0mspecializedExpr\u001b[0m\u001b[1;33m,\u001b[0m \u001b[0mrequirements\u001b[0m\u001b[1;33m,\u001b[0m \u001b[0mmappedVarLists\u001b[0m\u001b[1;33m,\u001b[0m \u001b[0mmappings\u001b[0m\u001b[1;33m,\u001b[0m \u001b[0massumptions\u001b[0m\u001b[1;33m,\u001b[0m \u001b[0mFailure\u001b[0m\u001b[1;33m)\u001b[0m\u001b[1;33m\u001b[0m\u001b[1;33m\u001b[0m\u001b[0m\n\u001b[0;32m    763\u001b[0m         \u001b[1;32mfinally\u001b[0m\u001b[1;33m:\u001b[0m\u001b[1;33m\u001b[0m\u001b[1;33m\u001b[0m\u001b[0m\n",
      "\u001b[1;32mC:\\users\\wwitzel\\Prove-It\\packages\\proveit\\_core_\\proof.py\u001b[0m in \u001b[0;36m_specialized_expr\u001b[1;34m(generalExpr, numForallEliminations, specializeMap, relabelMap, assumptions)\u001b[0m\n\u001b[0;32m    867\u001b[0m                 \u001b[1;32mraise\u001b[0m \u001b[0mSpecializationFailure\u001b[0m\u001b[1;33m(\u001b[0m\u001b[1;32mNone\u001b[0m\u001b[1;33m,\u001b[0m \u001b[0massumptions\u001b[0m\u001b[1;33m,\u001b[0m \u001b[1;34m'Must specialize all of the instance variables of the Forall operations to be eliminated'\u001b[0m\u001b[1;33m)\u001b[0m\u001b[1;33m\u001b[0m\u001b[1;33m\u001b[0m\u001b[0m\n\u001b[0;32m    868\u001b[0m             \u001b[1;31m# make substitutions in the condition\u001b[0m\u001b[1;33m\u001b[0m\u001b[1;33m\u001b[0m\u001b[1;33m\u001b[0m\u001b[0m\n\u001b[1;32m--> 869\u001b[1;33m             \u001b[0msubbedConditions\u001b[0m \u001b[1;33m+=\u001b[0m \u001b[0mconditions\u001b[0m\u001b[1;33m.\u001b[0m\u001b[0msubstituted\u001b[0m\u001b[1;33m(\u001b[0m\u001b[0mpartialMap\u001b[0m\u001b[1;33m,\u001b[0m \u001b[0mrelabelMap\u001b[0m\u001b[1;33m)\u001b[0m\u001b[1;33m\u001b[0m\u001b[1;33m\u001b[0m\u001b[0m\n\u001b[0m\u001b[0;32m    870\u001b[0m \u001b[1;33m\u001b[0m\u001b[0m\n\u001b[0;32m    871\u001b[0m         \u001b[1;31m# sort the relabeling vars in order of their appearance in the original expression\u001b[0m\u001b[1;33m\u001b[0m\u001b[1;33m\u001b[0m\u001b[1;33m\u001b[0m\u001b[0m\n",
      "\u001b[1;32mC:\\users\\wwitzel\\Prove-It\\packages\\proveit\\_core_\\expression\\composite\\expr_list.py\u001b[0m in \u001b[0;36msubstituted\u001b[1;34m(self, exprMap, relabelMap, reservedVars, assumptions, requirements)\u001b[0m\n\u001b[0;32m    335\u001b[0m         \u001b[0msubbed_exprs\u001b[0m \u001b[1;33m=\u001b[0m \u001b[1;33m[\u001b[0m\u001b[1;33m]\u001b[0m\u001b[1;33m\u001b[0m\u001b[1;33m\u001b[0m\u001b[0m\n\u001b[0;32m    336\u001b[0m         \u001b[1;32mfor\u001b[0m \u001b[0mexpr\u001b[0m \u001b[1;32min\u001b[0m \u001b[0mself\u001b[0m\u001b[1;33m:\u001b[0m\u001b[1;33m\u001b[0m\u001b[1;33m\u001b[0m\u001b[0m\n\u001b[1;32m--> 337\u001b[1;33m             \u001b[0msubbed_expr\u001b[0m \u001b[1;33m=\u001b[0m \u001b[0mexpr\u001b[0m\u001b[1;33m.\u001b[0m\u001b[0msubstituted\u001b[0m\u001b[1;33m(\u001b[0m\u001b[0mexprMap\u001b[0m\u001b[1;33m,\u001b[0m \u001b[0mrelabelMap\u001b[0m\u001b[1;33m,\u001b[0m \u001b[0mreservedVars\u001b[0m\u001b[1;33m,\u001b[0m \u001b[0massumptions\u001b[0m\u001b[1;33m,\u001b[0m \u001b[0mrequirements\u001b[0m\u001b[1;33m)\u001b[0m\u001b[1;33m\u001b[0m\u001b[1;33m\u001b[0m\u001b[0m\n\u001b[0m\u001b[0;32m    338\u001b[0m             \u001b[1;32mif\u001b[0m \u001b[0misinstance\u001b[0m\u001b[1;33m(\u001b[0m\u001b[0mexpr\u001b[0m\u001b[1;33m,\u001b[0m \u001b[0mIter\u001b[0m\u001b[1;33m)\u001b[0m \u001b[1;32mand\u001b[0m \u001b[0misinstance\u001b[0m\u001b[1;33m(\u001b[0m\u001b[0msubbed_expr\u001b[0m\u001b[1;33m,\u001b[0m \u001b[0mExprList\u001b[0m\u001b[1;33m)\u001b[0m\u001b[1;33m:\u001b[0m\u001b[1;33m\u001b[0m\u001b[1;33m\u001b[0m\u001b[0m\n\u001b[0;32m    339\u001b[0m                 \u001b[1;31m# The iterated expression is being expanded\u001b[0m\u001b[1;33m\u001b[0m\u001b[1;33m\u001b[0m\u001b[1;33m\u001b[0m\u001b[0m\n",
      "\u001b[1;32mC:\\users\\wwitzel\\Prove-It\\packages\\proveit\\_core_\\expression\\composite\\iteration.py\u001b[0m in \u001b[0;36msubstituted\u001b[1;34m(self, exprMap, relabelMap, reservedVars, assumptions, requirements)\u001b[0m\n\u001b[0;32m    279\u001b[0m             \u001b[1;31m# If there is not expansion, we will break out of the try block.\u001b[0m\u001b[1;33m\u001b[0m\u001b[1;33m\u001b[0m\u001b[1;33m\u001b[0m\u001b[0m\n\u001b[0;32m    280\u001b[0m \u001b[1;33m\u001b[0m\u001b[0m\n\u001b[1;32m--> 281\u001b[1;33m             \u001b[1;32mfor\u001b[0m \u001b[0miter_range\u001b[0m \u001b[1;32min\u001b[0m \u001b[0mself\u001b[0m\u001b[1;33m.\u001b[0m\u001b[0mlambda_map\u001b[0m\u001b[1;33m.\u001b[0m\u001b[0mbody\u001b[0m\u001b[1;33m.\u001b[0m\u001b[0m_expandingIterRanges\u001b[0m\u001b[1;33m(\u001b[0m\u001b[0miter_params\u001b[0m\u001b[1;33m,\u001b[0m \u001b[0msubbed_start\u001b[0m\u001b[1;33m,\u001b[0m \u001b[0msubbed_end\u001b[0m\u001b[1;33m,\u001b[0m \u001b[0minner_expr_map\u001b[0m\u001b[1;33m,\u001b[0m \u001b[0mrelabelMap\u001b[0m\u001b[1;33m,\u001b[0m \u001b[0minner_reservations\u001b[0m\u001b[1;33m,\u001b[0m \u001b[0minner_assumptions\u001b[0m\u001b[1;33m,\u001b[0m \u001b[0mnew_requirements\u001b[0m\u001b[1;33m)\u001b[0m\u001b[1;33m:\u001b[0m\u001b[1;33m\u001b[0m\u001b[1;33m\u001b[0m\u001b[0m\n\u001b[0m\u001b[0;32m    282\u001b[0m                 \u001b[0miter_ranges\u001b[0m\u001b[1;33m.\u001b[0m\u001b[0madd\u001b[0m\u001b[1;33m(\u001b[0m\u001b[0miter_range\u001b[0m\u001b[1;33m)\u001b[0m\u001b[1;33m\u001b[0m\u001b[1;33m\u001b[0m\u001b[0m\n\u001b[0;32m    283\u001b[0m                 \u001b[1;32mfor\u001b[0m \u001b[0maxis\u001b[0m\u001b[1;33m,\u001b[0m \u001b[1;33m(\u001b[0m\u001b[0mstart\u001b[0m\u001b[1;33m,\u001b[0m \u001b[0mend\u001b[0m\u001b[1;33m)\u001b[0m \u001b[1;32min\u001b[0m \u001b[0menumerate\u001b[0m\u001b[1;33m(\u001b[0m\u001b[0mzip\u001b[0m\u001b[1;33m(\u001b[0m\u001b[1;33m*\u001b[0m\u001b[0miter_range\u001b[0m\u001b[1;33m)\u001b[0m\u001b[1;33m)\u001b[0m\u001b[1;33m:\u001b[0m\u001b[1;33m\u001b[0m\u001b[1;33m\u001b[0m\u001b[0m\n",
      "\u001b[1;32mC:\\users\\wwitzel\\Prove-It\\packages\\proveit\\_core_\\expression\\composite\\indexed.py\u001b[0m in \u001b[0;36m_expandingIterRanges\u001b[1;34m(self, iterParams, startArgs, endArgs, exprMap, relabelMap, reservedVars, assumptions, requirements)\u001b[0m\n\u001b[0;32m    147\u001b[0m                 \u001b[0mentryRangeGenerator\u001b[0m \u001b[1;33m=\u001b[0m \u001b[0msubbed_var\u001b[0m\u001b[1;33m.\u001b[0m\u001b[0mentryRanges\u001b[0m\u001b[1;33m(\u001b[0m\u001b[0mself\u001b[0m\u001b[1;33m.\u001b[0m\u001b[0mbase\u001b[0m\u001b[1;33m,\u001b[0m \u001b[0mstart_indices\u001b[0m\u001b[1;33m,\u001b[0m \u001b[0mend_indices\u001b[0m\u001b[1;33m,\u001b[0m \u001b[0massumptions\u001b[0m\u001b[1;33m,\u001b[0m \u001b[0mrequirements\u001b[0m\u001b[1;33m)\u001b[0m\u001b[1;33m\u001b[0m\u001b[1;33m\u001b[0m\u001b[0m\n\u001b[0;32m    148\u001b[0m \u001b[1;33m\u001b[0m\u001b[0m\n\u001b[1;32m--> 149\u001b[1;33m             \u001b[1;32mfor\u001b[0m \u001b[1;33m(\u001b[0m\u001b[0mintersection_start\u001b[0m\u001b[1;33m,\u001b[0m \u001b[0mintersection_end\u001b[0m\u001b[1;33m)\u001b[0m \u001b[1;32min\u001b[0m \u001b[0mentryRangeGenerator\u001b[0m\u001b[1;33m:\u001b[0m\u001b[1;33m\u001b[0m\u001b[1;33m\u001b[0m\u001b[0m\n\u001b[0m\u001b[0;32m    150\u001b[0m                 \u001b[1;31m# We must put it terms of iter parameter values (arguments) via inverting the index_expr.\u001b[0m\u001b[1;33m\u001b[0m\u001b[1;33m\u001b[0m\u001b[1;33m\u001b[0m\u001b[0m\n\u001b[0;32m    151\u001b[0m                 \u001b[1;32mdef\u001b[0m \u001b[0mcoord2param\u001b[0m\u001b[1;33m(\u001b[0m\u001b[0maxis\u001b[0m\u001b[1;33m,\u001b[0m \u001b[0mcoord\u001b[0m\u001b[1;33m)\u001b[0m\u001b[1;33m:\u001b[0m\u001b[1;33m\u001b[0m\u001b[1;33m\u001b[0m\u001b[0m\n",
      "\u001b[1;32mC:\\users\\wwitzel\\Prove-It\\packages\\proveit\\_core_\\expression\\composite\\expr_list.py\u001b[0m in \u001b[0;36mentryRanges\u001b[1;34m(self, base, start_index, end_index, assumptions, requirements)\u001b[0m\n\u001b[0;32m    321\u001b[0m \u001b[1;33m\u001b[0m\u001b[0m\n\u001b[0;32m    322\u001b[0m         \u001b[1;32mif\u001b[0m \u001b[1;32mnot\u001b[0m \u001b[0marrived_at_end\u001b[0m\u001b[1;33m:\u001b[0m\u001b[1;33m\u001b[0m\u001b[1;33m\u001b[0m\u001b[0m\n\u001b[1;32m--> 323\u001b[1;33m             \u001b[1;32mraise\u001b[0m \u001b[0mIndexError\u001b[0m\u001b[1;33m(\u001b[0m\u001b[1;34m\"ExprList index out of range\"\u001b[0m\u001b[1;33m)\u001b[0m\u001b[1;33m\u001b[0m\u001b[1;33m\u001b[0m\u001b[0m\n\u001b[0m\u001b[0;32m    324\u001b[0m \u001b[1;33m\u001b[0m\u001b[0m\n\u001b[0;32m    325\u001b[0m     \u001b[1;32mdef\u001b[0m \u001b[0msubstituted\u001b[0m\u001b[1;33m(\u001b[0m\u001b[0mself\u001b[0m\u001b[1;33m,\u001b[0m \u001b[0mexprMap\u001b[0m\u001b[1;33m,\u001b[0m \u001b[0mrelabelMap\u001b[0m\u001b[1;33m=\u001b[0m\u001b[1;32mNone\u001b[0m\u001b[1;33m,\u001b[0m \u001b[0mreservedVars\u001b[0m\u001b[1;33m=\u001b[0m\u001b[1;32mNone\u001b[0m\u001b[1;33m,\u001b[0m \u001b[0massumptions\u001b[0m\u001b[1;33m=\u001b[0m\u001b[0mUSE_DEFAULTS\u001b[0m\u001b[1;33m,\u001b[0m \u001b[0mrequirements\u001b[0m\u001b[1;33m=\u001b[0m\u001b[1;32mNone\u001b[0m\u001b[1;33m)\u001b[0m\u001b[1;33m:\u001b[0m\u001b[1;33m\u001b[0m\u001b[1;33m\u001b[0m\u001b[0m\n",
      "\u001b[1;31mIndexError\u001b[0m: ExprList index out of range"
     ]
    }
   ],
   "source": [
    "firstIter, Pj, lastIter = \\\n",
    "    generalized_iterAil.specialize({AA:[firstIter, \\\n",
    "                                        Pj, \\\n",
    "                                        lastIter]})"
   ]
  },
  {
   "cell_type": "code",
   "execution_count": null,
   "metadata": {},
   "outputs": [],
   "source": []
  }
 ],
 "metadata": {
  "kernelspec": {
   "display_name": "Python 3",
   "language": "python",
   "name": "python3"
  },
  "language_info": {
   "codemirror_mode": {
    "name": "ipython",
    "version": 3
   },
   "file_extension": ".py",
   "mimetype": "text/x-python",
   "name": "python",
   "nbconvert_exporter": "python",
   "pygments_lexer": "ipython3",
   "version": "3.7.1"
  }
 },
 "nbformat": 4,
 "nbformat_minor": 1
}
