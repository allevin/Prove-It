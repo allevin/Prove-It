{
 "cells": [
  {
   "cell_type": "code",
   "execution_count": 1,
   "metadata": {
    "collapsed": false
   },
   "outputs": [],
   "source": [
    "import proveit.specialStatementMagic # for %begin_theorems and %end_theorems\n",
    "from proveit.basiclogic import Forall, Equals, NotIn, NotEquals\n",
    "from proveit.number import Subtract, Multiply, Fraction, Exponentiate, Neg, Mod, LessThanEquals, GreaterThanEquals, Abs, IntervalCC\n",
    "from proveit.common import n, r, x\n",
    "from proveit.number.common import theta, e, i, one, two, pi, Integers, Reals"
   ]
  },
  {
   "cell_type": "code",
   "execution_count": 2,
   "metadata": {
    "collapsed": false
   },
   "outputs": [],
   "source": [
    "%begin_theorems"
   ]
  },
  {
   "cell_type": "code",
   "execution_count": 3,
   "metadata": {
    "collapsed": false
   },
   "outputs": [
    {
     "data": {
      "text/latex": [
       "$\\forall_{n \\in \\mathbb{Z}} \\left(e^{2 \\cdot \\pi \\cdot i \\cdot n} = 1\\right)$"
      ],
      "text/plain": [
       "forall_{n in Integers} (e^(2 * pi * i * n) = 1)"
      ]
     },
     "execution_count": 3,
     "metadata": {},
     "output_type": "execute_result"
    }
   ],
   "source": [
    "exp_2pi_i_n = Forall(n, Equals(Exponentiate(e, Multiply(two, pi, i, n)), one), domain=Integers)\n",
    "exp_2pi_i_n"
   ]
  },
  {
   "cell_type": "code",
   "execution_count": 4,
   "metadata": {
    "collapsed": false
   },
   "outputs": [
    {
     "data": {
      "text/latex": [
       "$\\forall_{x \\in \\mathbb{R}~|~x \\notin \\mathbb{Z}} \\left(e^{2 \\cdot \\pi \\cdot i \\cdot x} \\neq 1\\right)$"
      ],
      "text/plain": [
       "forall_{x in Reals | x not in Integers} (e^(2 * pi * i * x) != 1)"
      ]
     },
     "execution_count": 4,
     "metadata": {},
     "output_type": "execute_result"
    }
   ],
   "source": [
    "exp_2pi_i_nonInt = Forall(x, NotEquals(Exponentiate(e, Multiply(two, pi, i, x)), one), domain=Reals, conditions=[NotIn(x, Integers)])\n",
    "exp_2pi_i_nonInt\n"
   ]
  },
  {
   "cell_type": "code",
   "execution_count": 5,
   "metadata": {
    "collapsed": false
   },
   "outputs": [
    {
     "data": {
      "text/latex": [
       "$\\forall_{x, r \\in \\mathbb{R}} \\left(e^{\\frac{2 \\cdot \\pi \\cdot i \\cdot \\left(x ~\\rm{mod}~ r\\right)}{r}} = e^{\\frac{2 \\cdot \\pi \\cdot i \\cdot x}{r}}\\right)$"
      ],
      "text/plain": [
       "forall_{x, r in Reals} (e^((2 * pi * i * (x mod r)) / r) = e^((2 * pi * i * x) / r))"
      ]
     },
     "execution_count": 5,
     "metadata": {},
     "output_type": "execute_result"
    }
   ],
   "source": [
    "exp_2pi_i_x = Forall((x, r), Equals(Exponentiate(e, Fraction(Multiply(two, pi, i, Mod(x, r)), r)),\n",
    "                     Exponentiate(e, Fraction(Multiply(two, pi, i, x), r))), domain=Reals)\n",
    "exp_2pi_i_x"
   ]
  },
  {
   "cell_type": "code",
   "execution_count": 6,
   "metadata": {
    "collapsed": false
   },
   "outputs": [
    {
     "data": {
      "text/latex": [
       "$\\forall_{x, r \\in \\mathbb{R}} \\left(e^{\\frac{-\\left(2 \\cdot \\pi \\cdot i \\cdot \\left(x ~\\rm{mod}~ r\\right)\\right)}{r}} = e^{\\frac{-\\left(2 \\cdot \\pi \\cdot i \\cdot x\\right)}{r}}\\right)$"
      ],
      "text/plain": [
       "forall_{x, r in Reals} (e^((-(2 * pi * i * (x mod r))) / r) = e^((-(2 * pi * i * x)) / r))"
      ]
     },
     "execution_count": 6,
     "metadata": {},
     "output_type": "execute_result"
    }
   ],
   "source": [
    "exp_neg2pi_i_x = Forall((x, r), Equals(Exponentiate(e, Fraction(Neg(Multiply(two, pi, i, Mod(x, r))), r)),\n",
    "                     Exponentiate(e, Fraction(Neg(Multiply(two, pi, i, x)), r))), domain=Reals)\n",
    "exp_neg2pi_i_x"
   ]
  },
  {
   "cell_type": "code",
   "execution_count": 7,
   "metadata": {
    "collapsed": false
   },
   "outputs": [
    {
     "data": {
      "text/latex": [
       "$\\forall_{\\theta \\in \\left[\\left(-\\pi\\right),\\pi\\right]} \\left(\\left|\\left(1 - e^{i \\cdot \\theta}\\right)\\right| \\geq \\frac{2 \\cdot \\left|\\theta\\right|}{\\pi}\\right)$"
      ],
      "text/plain": [
       "forall_{theta in [(-pi),pi]} (|(1 - e^(i * theta))| >= (2 * |theta|) / pi)"
      ]
     },
     "execution_count": 7,
     "metadata": {},
     "output_type": "execute_result"
    }
   ],
   "source": [
    "boundedUnitModulusDiff = Forall([theta], GreaterThanEquals(Abs(Subtract(one, Exponentiate(e, Multiply(i,theta)))),\n",
    "                                                           Fraction(Multiply(two, Abs(theta)), pi)),\n",
    "                                domain = IntervalCC(Neg(pi),pi))\n",
    "boundedUnitModulusDiff"
   ]
  },
  {
   "cell_type": "code",
   "execution_count": 8,
   "metadata": {
    "collapsed": false
   },
   "outputs": [
    {
     "name": "stdout",
     "output_type": "stream",
     "text": [
      "Creating theorems *.dill and *.pv_it files in the __pv_it__ directory\n",
      "These theorems may be imported from proveit.trigonometry.theorems\n"
     ]
    }
   ],
   "source": [
    "%end_theorems"
   ]
  },
  {
   "cell_type": "code",
   "execution_count": null,
   "metadata": {
    "collapsed": true
   },
   "outputs": [],
   "source": []
  }
 ],
 "metadata": {
  "kernelspec": {
   "display_name": "Python 3",
   "language": "python",
   "name": "python3"
  },
  "language_info": {
   "codemirror_mode": {
    "name": "ipython",
    "version": 3
   },
   "file_extension": ".py",
   "mimetype": "text/x-python",
   "name": "python",
   "nbconvert_exporter": "python",
   "pygments_lexer": "ipython3"
  }
 },
 "nbformat": 4,
 "nbformat_minor": 0
}
