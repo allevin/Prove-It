{
 "cells": [
  {
   "cell_type": "markdown",
   "metadata": {
    "collapsed": true
   },
   "source": [
    "Minimal axioms of <a class=\"ProveItLink\" href=\"logic/_context_.ipynb\">proveit.logic</a>\n",
    "========\n",
    "\n",
    "This is a reduced set of axioms for an initial consistency check.  Perhaps we can reduce this further, but this a a first stab at it.\n",
    "\n",
    "A couple of these axioms use $\\neq$.  We did not include the axiom that defines $\\neq$ because we can regard it as a shorthand notation for the negation of equality."
   ]
  },
  {
   "cell_type": "code",
   "execution_count": 1,
   "metadata": {},
   "outputs": [
    {
     "data": {
      "text/html": [
       "<span style=\"font-size:20px;\"> &#x22A2;&nbsp;<a class=\"ProveItLink\" href=\"logic/boolean/__pv_it/68a87cc3370287d726c7086ace789e680e4461c30/expr.ipynb\"><img src=\"logic/boolean/__pv_it/68a87cc3370287d726c7086ace789e680e4461c30/expr.png\" style=\"display:inline;vertical-align:middle;\" /></a></span>"
      ],
      "text/plain": [
       "|= TRUE"
      ]
     },
     "execution_count": 1,
     "metadata": {},
     "output_type": "execute_result"
    }
   ],
   "source": [
    "import proveit.logic.boolean._axioms_\n",
    "import proveit.logic.boolean.implication._axioms_\n",
    "import proveit.logic.boolean.negation._axioms_\n",
    "import proveit.logic.boolean.conjunction._axioms_\n",
    "import proveit.logic.boolean.disjunction._axioms_\n",
    "import proveit.logic.boolean.quantification.universal._axioms_\n",
    "import proveit.logic.boolean.quantification.existential._axioms_\n",
    "proveit.logic.boolean._axioms_.trueAxiom"
   ]
  },
  {
   "cell_type": "code",
   "execution_count": 2,
   "metadata": {},
   "outputs": [
    {
     "data": {
      "text/html": [
       "<span style=\"font-size:20px;\"> &#x22A2;&nbsp;<a class=\"ProveItLink\" href=\"logic/boolean/__pv_it/3e28545b304b5eec31fcc9e7531755af827b4bfc0/expr.ipynb\"><img src=\"logic/boolean/__pv_it/3e28545b304b5eec31fcc9e7531755af827b4bfc0/expr.png\" style=\"display:inline;vertical-align:middle;\" /></a></span>"
      ],
      "text/plain": [
       "|= FALSE != TRUE"
      ]
     },
     "execution_count": 2,
     "metadata": {},
     "output_type": "execute_result"
    }
   ],
   "source": [
    "proveit.logic.boolean._axioms_.falseNotTrue"
   ]
  },
  {
   "cell_type": "code",
   "execution_count": 3,
   "metadata": {},
   "outputs": [
    {
     "data": {
      "text/html": [
       "<span style=\"font-size:20px;\"> &#x22A2;&nbsp;<a class=\"ProveItLink\" href=\"logic/boolean/__pv_it/17736e5847b2b74f86dc8cccbef45d3aeb8a06e80/expr.ipynb\"><img src=\"logic/boolean/__pv_it/17736e5847b2b74f86dc8cccbef45d3aeb8a06e80/expr.png\" style=\"display:inline;vertical-align:middle;\" /></a></span>"
      ],
      "text/plain": [
       "|= forall_{A | A} (A = TRUE)"
      ]
     },
     "execution_count": 3,
     "metadata": {},
     "output_type": "execute_result"
    }
   ],
   "source": [
    "proveit.logic.boolean._axioms_.eqTrueIntro"
   ]
  },
  {
   "cell_type": "code",
   "execution_count": 4,
   "metadata": {},
   "outputs": [
    {
     "data": {
      "text/html": [
       "<span style=\"font-size:20px;\"> &#x22A2;&nbsp;<a class=\"ProveItLink\" href=\"logic/boolean/__pv_it/1abd0401f7baebea707022eba957f2c3d2c647cd0/expr.ipynb\"><img src=\"logic/boolean/__pv_it/1abd0401f7baebea707022eba957f2c3d2c647cd0/expr.png\" style=\"display:inline;vertical-align:middle;\" /></a></span>"
      ],
      "text/plain": [
       "|= forall_{A | A = TRUE} A"
      ]
     },
     "execution_count": 4,
     "metadata": {},
     "output_type": "execute_result"
    }
   ],
   "source": [
    "proveit.logic.boolean._axioms_.eqTrueElim"
   ]
  },
  {
   "cell_type": "markdown",
   "metadata": {},
   "source": [
    "While the next two are not actually axioms of the system, they are derivable from the axioms (notice that we are able to prove them automatically) and replace a number of other axioms to defines a simpler space of derivable truths for an initial consistency check.  These define what are in the set of Booleans.  They do not define what is not in the set of Booleans.  This will be fine for our purposes right now."
   ]
  },
  {
   "cell_type": "code",
   "execution_count": 5,
   "metadata": {},
   "outputs": [
    {
     "data": {
      "text/html": [
       "<span style=\"font-size:20px;\"> &#x22A2;&nbsp;<a class=\"ProveItLink\" href=\"logic/boolean/__pv_it/3e7350f116816f72fa422609af12e912bbd1845d0/expr.ipynb\"><img src=\"logic/boolean/__pv_it/3e7350f116816f72fa422609af12e912bbd1845d0/expr.png\" style=\"display:inline;vertical-align:middle;\" /></a></span>"
      ],
      "text/plain": [
       "|= TRUE in BOOLEANS"
      ]
     },
     "execution_count": 5,
     "metadata": {},
     "output_type": "execute_result"
    }
   ],
   "source": [
    "from proveit.logic import Booleans, TRUE, FALSE, InSet\n",
    "\n",
    "InSet(TRUE, Booleans).prove()"
   ]
  },
  {
   "cell_type": "code",
   "execution_count": 6,
   "metadata": {},
   "outputs": [
    {
     "data": {
      "text/html": [
       "<span style=\"font-size:20px;\"> &#x22A2;&nbsp;<a class=\"ProveItLink\" href=\"logic/boolean/__pv_it/9f85861a2422bfaf1627227c7d0968a483b71e9d0/expr.ipynb\"><img src=\"logic/boolean/__pv_it/9f85861a2422bfaf1627227c7d0968a483b71e9d0/expr.png\" style=\"display:inline;vertical-align:middle;\" /></a></span>"
      ],
      "text/plain": [
       "|= FALSE in BOOLEANS"
      ]
     },
     "execution_count": 6,
     "metadata": {},
     "output_type": "execute_result"
    }
   ],
   "source": [
    "InSet(FALSE, Booleans).prove()"
   ]
  },
  {
   "cell_type": "code",
   "execution_count": 7,
   "metadata": {},
   "outputs": [
    {
     "data": {
      "text/html": [
       "<span style=\"font-size:20px;\"> &#x22A2;&nbsp;<a class=\"ProveItLink\" href=\"logic/boolean/implication/__pv_it/85d874ce3755cdbc16cf1820a52cf8da15e007110/expr.ipynb\"><img src=\"logic/boolean/implication/__pv_it/85d874ce3755cdbc16cf1820a52cf8da15e007110/expr.png\" style=\"display:inline;vertical-align:middle;\" /></a></span>"
      ],
      "text/plain": [
       "|= forall_{A in BOOLEANS} (([not](A) => FALSE) = A)"
      ]
     },
     "execution_count": 7,
     "metadata": {},
     "output_type": "execute_result"
    }
   ],
   "source": [
    "proveit.logic.boolean.implication._axioms_.impliesFalseDef # required for proof-by-contradiction"
   ]
  },
  {
   "cell_type": "code",
   "execution_count": 8,
   "metadata": {},
   "outputs": [
    {
     "data": {
      "text/html": [
       "<span style=\"font-size:20px;\"> &#x22A2;&nbsp;<a class=\"ProveItLink\" href=\"logic/boolean/implication/__pv_it/12b0498b3c57d3600c755478c4d9e3a912ce18fd0/expr.ipynb\"><img src=\"logic/boolean/implication/__pv_it/12b0498b3c57d3600c755478c4d9e3a912ce18fd0/expr.png\" style=\"display:inline;vertical-align:middle;\" /></a></span>"
      ],
      "text/plain": [
       "|= forall_{A, B | A != TRUE} (A => B)"
      ]
     },
     "execution_count": 8,
     "metadata": {},
     "output_type": "execute_result"
    }
   ],
   "source": [
    "# An implication is vacuously true if its antecedent is untrue.\n",
    "# This will allow us to prove nonsense implications but only when the\n",
    "# antecedent is untrue and cannot be used to prove the nonsense conclusion.\n",
    "# This is our \"harmless nonsense\" principle.\n",
    "proveit.logic.boolean.implication._axioms_.untrueAntecedentImplication"
   ]
  },
  {
   "cell_type": "code",
   "execution_count": 9,
   "metadata": {},
   "outputs": [
    {
     "data": {
      "text/html": [
       "<span style=\"font-size:20px;\"> &#x22A2;&nbsp;<a class=\"ProveItLink\" href=\"logic/boolean/negation/__pv_it/07247e05a1947299288ef312670c6e912da6cc800/expr.ipynb\"><img src=\"logic/boolean/negation/__pv_it/07247e05a1947299288ef312670c6e912da6cc800/expr.png\" style=\"display:inline;vertical-align:middle;\" /></a></span>"
      ],
      "text/plain": [
       "|= forall_{A | A = FALSE} [not](A)"
      ]
     },
     "execution_count": 9,
     "metadata": {},
     "output_type": "execute_result"
    }
   ],
   "source": [
    "proveit.logic.boolean.negation._axioms_.negationIntro"
   ]
  },
  {
   "cell_type": "code",
   "execution_count": 10,
   "metadata": {},
   "outputs": [
    {
     "data": {
      "text/html": [
       "<span style=\"font-size:20px;\"> &#x22A2;&nbsp;<a class=\"ProveItLink\" href=\"logic/boolean/negation/__pv_it/4b5dd3f037f440d68a8f1e360a14677af00fd6dd0/expr.ipynb\"><img src=\"logic/boolean/negation/__pv_it/4b5dd3f037f440d68a8f1e360a14677af00fd6dd0/expr.png\" style=\"display:inline;vertical-align:middle;\" /></a></span>"
      ],
      "text/plain": [
       "|= forall_{A | [not](A)} (A = FALSE)"
      ]
     },
     "execution_count": 10,
     "metadata": {},
     "output_type": "execute_result"
    }
   ],
   "source": [
    "proveit.logic.boolean.negation._axioms_.negationElim"
   ]
  },
  {
   "cell_type": "code",
   "execution_count": 11,
   "metadata": {},
   "outputs": [
    {
     "data": {
      "text/html": [
       "<span style=\"font-size:20px;\"> &#x22A2;&nbsp;<a class=\"ProveItLink\" href=\"logic/boolean/negation/__pv_it/78d8947f7f3c678f87e20bdef606801e835fee2b0/expr.ipynb\"><img src=\"logic/boolean/negation/__pv_it/78d8947f7f3c678f87e20bdef606801e835fee2b0/expr.png\" style=\"display:inline;vertical-align:middle;\" /></a></span>"
      ],
      "text/plain": [
       "|= forall_{A | A} [not]([not](A))"
      ]
     },
     "execution_count": 11,
     "metadata": {},
     "output_type": "execute_result"
    }
   ],
   "source": [
    "proveit.logic.boolean.negation._axioms_.doubleNegationIntro"
   ]
  },
  {
   "cell_type": "code",
   "execution_count": 12,
   "metadata": {},
   "outputs": [
    {
     "data": {
      "text/html": [
       "<span style=\"font-size:20px;\"> &#x22A2;&nbsp;<a class=\"ProveItLink\" href=\"logic/boolean/negation/__pv_it/899f49e3a3f92294ab82237e1c4081712ee8006e0/expr.ipynb\"><img src=\"logic/boolean/negation/__pv_it/899f49e3a3f92294ab82237e1c4081712ee8006e0/expr.png\" style=\"display:inline;vertical-align:middle;\" /></a></span>"
      ],
      "text/plain": [
       "|= forall_{A | [not]([not](A))} A"
      ]
     },
     "execution_count": 12,
     "metadata": {},
     "output_type": "execute_result"
    }
   ],
   "source": [
    "proveit.logic.boolean.negation._axioms_.doubleNegationElim"
   ]
  },
  {
   "cell_type": "code",
   "execution_count": 13,
   "metadata": {},
   "outputs": [
    {
     "data": {
      "text/html": [
       "<span style=\"font-size:20px;\"> &#x22A2;&nbsp;<a class=\"ProveItLink\" href=\"logic/equality/__pv_it/d6871f7976394b5b722adb0bd3bfa4540855ff3b0/expr.ipynb\"><img src=\"logic/equality/__pv_it/d6871f7976394b5b722adb0bd3bfa4540855ff3b0/expr.png\" style=\"display:inline;vertical-align:middle;\" /></a></span>"
      ],
      "text/plain": [
       "|= forall_{x, y} ((x = y) in BOOLEANS)"
      ]
     },
     "execution_count": 13,
     "metadata": {},
     "output_type": "execute_result"
    }
   ],
   "source": [
    "# probably not needed as a basic axiom\n",
    "#proveit.logic.boolean.quantification.universal._axioms_.forallInBool\n",
    "\n",
    "import proveit.logic.equality._axioms_\n",
    "proveit.logic.equality._axioms_.equalityInBool"
   ]
  },
  {
   "cell_type": "code",
   "execution_count": 14,
   "metadata": {},
   "outputs": [
    {
     "data": {
      "text/html": [
       "<span style=\"font-size:20px;\"> &#x22A2;&nbsp;<a class=\"ProveItLink\" href=\"logic/equality/__pv_it/2f7362f515695890a15d40f2d4676f710de88f820/expr.ipynb\"><img src=\"logic/equality/__pv_it/2f7362f515695890a15d40f2d4676f710de88f820/expr.png\" style=\"display:inline;vertical-align:middle;\" /></a></span>"
      ],
      "text/plain": [
       "|= forall_{x} (x = x)"
      ]
     },
     "execution_count": 14,
     "metadata": {},
     "output_type": "execute_result"
    }
   ],
   "source": [
    "proveit.logic.equality._axioms_.equalsReflexivity"
   ]
  },
  {
   "cell_type": "code",
   "execution_count": 15,
   "metadata": {},
   "outputs": [
    {
     "data": {
      "text/html": [
       "<span style=\"font-size:20px;\"> &#x22A2;&nbsp;<a class=\"ProveItLink\" href=\"logic/equality/__pv_it/a06b7ed883705a47e7b691d3701ddd973e4e7abf0/expr.ipynb\"><img src=\"logic/equality/__pv_it/a06b7ed883705a47e7b691d3701ddd973e4e7abf0/expr.png\" style=\"display:inline;vertical-align:middle;\" /></a></span>"
      ],
      "text/plain": [
       "|= forall_{x, y} ((y = x) = (x = y))"
      ]
     },
     "execution_count": 15,
     "metadata": {},
     "output_type": "execute_result"
    }
   ],
   "source": [
    "proveit.logic.equality._axioms_.equalsSymmetry"
   ]
  },
  {
   "cell_type": "code",
   "execution_count": 16,
   "metadata": {},
   "outputs": [
    {
     "data": {
      "text/html": [
       "<span style=\"font-size:20px;\"> &#x22A2;&nbsp;<a class=\"ProveItLink\" href=\"logic/equality/__pv_it/8568f704f865c42c6973d1dbf089a1e8c8b69dcf0/expr.ipynb\"><img src=\"logic/equality/__pv_it/8568f704f865c42c6973d1dbf089a1e8c8b69dcf0/expr.png\" style=\"display:inline;vertical-align:middle;\" /></a></span>"
      ],
      "text/plain": [
       "|= forall_{x, y, z | x = y , y = z} (x = z)"
      ]
     },
     "execution_count": 16,
     "metadata": {},
     "output_type": "execute_result"
    }
   ],
   "source": [
    "proveit.logic.equality._axioms_.equalsTransitivity"
   ]
  },
  {
   "cell_type": "code",
   "execution_count": 17,
   "metadata": {},
   "outputs": [
    {
     "data": {
      "text/html": [
       "<span style=\"font-size:20px;\"> &#x22A2;&nbsp;<a class=\"ProveItLink\" href=\"logic/equality/__pv_it/bbfdd4b897b23eab94ccd38e967c2b310ba4362c0/expr.ipynb\"><img src=\"logic/equality/__pv_it/bbfdd4b897b23eab94ccd38e967c2b310ba4362c0/expr.png\" style=\"display:inline;vertical-align:middle;\" /></a></span>"
      ],
      "text/plain": [
       "|= forall_{f, x, y | x = y} (f(x) = f(y))"
      ]
     },
     "execution_count": 17,
     "metadata": {},
     "output_type": "execute_result"
    }
   ],
   "source": [
    "proveit.logic.equality._axioms_.substitution"
   ]
  }
 ],
 "metadata": {
  "kernelspec": {
   "display_name": "Python 3",
   "language": "python",
   "name": "python3"
  },
  "language_info": {
   "codemirror_mode": {
    "name": "ipython",
    "version": 3
   },
   "file_extension": ".py",
   "mimetype": "text/x-python",
   "name": "python",
   "nbconvert_exporter": "python",
   "pygments_lexer": "ipython3"
  }
 },
 "nbformat": 4,
 "nbformat_minor": 1
}
