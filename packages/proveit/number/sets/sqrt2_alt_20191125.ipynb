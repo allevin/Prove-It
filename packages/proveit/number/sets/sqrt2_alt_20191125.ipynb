{
 "cells": [
  {
   "cell_type": "code",
   "execution_count": 1,
   "metadata": {},
   "outputs": [],
   "source": [
    "import proveit\n",
    "from proveit import Context, defaults, Function, Literal, Operation, Variable\n",
    "from proveit._core_.proof import Theorem\n",
    "from proveit.logic import InSet, Forall, Implies, Exists, Equals, And, Not, Booleans\n",
    "from proveit._common_ import n, q, a, b, p, u, v, x, y, aPrime, bPrime, G, P, Py, alpha\n",
    "from proveit.number import one, two, four, Sqrt, Reals, NaturalsPos\n",
    "from proveit.number import Frac, Mult, Exp, Greater, GCD, Divides\n",
    "from proveit.number.sets.real._common_ import Rationals, RationalsPos\n",
    "from proveit.number.sets._theorems_ import t4, t5, t6, t7, t8, t9a, t9b, t10, t11, t12\n",
    "from proveit.number.sets._theorems_ import skolemElim02, rationalsPosDefReduced, squaresEqual\n",
    "from proveit.number.numeral.deci._theorems_ import less_1_2, mult_2_2, posnat2"
   ]
  },
  {
   "cell_type": "code",
   "execution_count": 2,
   "metadata": {},
   "outputs": [
    {
     "data": {
      "text/html": [
       "<span style=\"font-size:20px;\"> &#x22A2;&nbsp;<a class=\"ProveItLink\" href=\"__pv_it/d63fb062cd7317a98963152a844c5d7506d094670/expr.ipynb\"><img src=\"__pv_it/d63fb062cd7317a98963152a844c5d7506d094670/expr.png\" style=\"display:inline;vertical-align:middle;\" /></a></span>"
      ],
      "text/plain": [
       "|= forall_{x in RationalsPos} [exists_{u, v in NaturalsPos} (((x * u) = v) and (gcd(u , v) = 1))]"
      ]
     },
     "execution_count": 2,
     "metadata": {},
     "output_type": "execute_result"
    }
   ],
   "source": [
    "rationalsPosDefReduced"
   ]
  },
  {
   "cell_type": "code",
   "execution_count": 3,
   "metadata": {},
   "outputs": [
    {
     "data": {
      "text/html": [
       "<span style=\"font-size:20px;\"><a class=\"ProveItLink\" href=\"__pv_it/a9a88fd6362f48c8a6fe5555329263f633830c4a0/expr.ipynb\"><img src=\"__pv_it/a9a88fd6362f48c8a6fe5555329263f633830c4a0/expr.png\" style=\"display:inline;vertical-align:middle;\" /></a> &#x22A2;&nbsp;<a class=\"ProveItLink\" href=\"__pv_it/a9e220d8d51449532a72af7d0cfb1c863d844efe0/expr.ipynb\"><img src=\"__pv_it/a9e220d8d51449532a72af7d0cfb1c863d844efe0/expr.png\" style=\"display:inline;vertical-align:middle;\" /></a></span>"
      ],
      "text/plain": [
       "{[sqrt](2) in RationalsPos} |= exists_{u, v in NaturalsPos} ((([sqrt](2) * u) = v) and (gcd(u , v) = 1))"
      ]
     },
     "execution_count": 3,
     "metadata": {},
     "output_type": "execute_result"
    }
   ],
   "source": [
    "rationalsPosDefReducedSpec = rationalsPosDefReduced.specialize(\n",
    "        {x:Sqrt(two)}, assumptions=[InSet(Sqrt(two), RationalsPos)]\n",
    ")\n",
    "rationalsPosDefReducedSpec"
   ]
  },
  {
   "cell_type": "code",
   "execution_count": 4,
   "metadata": {},
   "outputs": [
    {
     "data": {
      "text/html": [
       "<span style=\"font-size:20px;\"> &#x22A2;&nbsp;<a class=\"ProveItLink\" href=\"__pv_it/62b286ef80ff6d058d473a258838f53bfb941f830/expr.ipynb\"><img src=\"__pv_it/62b286ef80ff6d058d473a258838f53bfb941f830/expr.png\" style=\"display:inline;vertical-align:middle;\" /></a></span>"
      ],
      "text/plain": [
       "|= forall_{u, v in RationalsPos} ((u = v) => ((u * u) = (v * v)))"
      ]
     },
     "execution_count": 4,
     "metadata": {},
     "output_type": "execute_result"
    }
   ],
   "source": [
    "squaresEqual"
   ]
  },
  {
   "cell_type": "code",
   "execution_count": 10,
   "metadata": {},
   "outputs": [],
   "source": [
    "# squaresEqualSpec = squaresEqual.specialize(\n",
    "#     {u: Mult(Sqrt(two),u), v:v}, assumptions=[InSet(Mult(Sqrt(two)),RationalsPos)])\n",
    "# squaresEqualSpec"
   ]
  },
  {
   "cell_type": "code",
   "execution_count": null,
   "metadata": {},
   "outputs": [],
   "source": []
  }
 ],
 "metadata": {
  "kernelspec": {
   "display_name": "Python 3",
   "language": "python",
   "name": "python3"
  },
  "language_info": {
   "codemirror_mode": {
    "name": "ipython",
    "version": 3
   },
   "file_extension": ".py",
   "mimetype": "text/x-python",
   "name": "python",
   "nbconvert_exporter": "python",
   "pygments_lexer": "ipython3",
   "version": "3.7.1"
  }
 },
 "nbformat": 4,
 "nbformat_minor": 2
}
