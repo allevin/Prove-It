{
 "cells": [
  {
   "cell_type": "code",
   "execution_count": null,
   "metadata": {},
   "outputs": [],
   "source": [
    "import proveit\n",
    "from proveit import Context, defaults, Function, Literal, Operation, Variable\n",
    "from proveit._core_.proof import Theorem\n",
    "from proveit.logic import InSet, Forall, Implies, Exists, Equals, And, Not, Booleans\n",
    "from proveit._common_ import n, q, a, b, p, u, v, x, y, aPrime, bPrime, G, P, Py, alpha\n",
    "from proveit.number import one, two, four, Sqrt, Reals, NaturalsPos\n",
    "from proveit.number import Frac, Mult, Exp, Greater, GCD, Divides\n",
    "from proveit.number.sets.real._common_ import Rationals, RationalsPos\n",
    "from proveit.number.sets._theorems_ import t4, t5, t6, t7, t8, t9a, t9b, t10, t11, t12\n",
    "from proveit.number.sets._theorems_ import skolemElim02, rationalsPosDefReduced, squaresEqual\n",
    "from proveit.number.numeral.deci._theorems_ import less_1_2, mult_2_2, posnat2"
   ]
  },
  {
   "cell_type": "code",
   "execution_count": null,
   "metadata": {},
   "outputs": [],
   "source": [
    "rationalsPosDefReduced"
   ]
  },
  {
   "cell_type": "code",
   "execution_count": null,
   "metadata": {},
   "outputs": [],
   "source": [
    "rationalsPosDefReducedSpec = rationalsPosDefReduced.specialize(\n",
    "        {x:Sqrt(two)}, assumptions=[InSet(Sqrt(two), RationalsPos)]\n",
    ")\n",
    "rationalsPosDefReducedSpec"
   ]
  },
  {
   "cell_type": "code",
   "execution_count": null,
   "metadata": {},
   "outputs": [],
   "source": [
    "squaresEqual"
   ]
  },
  {
   "cell_type": "code",
   "execution_count": null,
   "metadata": {},
   "outputs": [],
   "source": [
    "squaresEqualSpec = squaresEqual.specialize(\n",
    "    {u: Mult(Sqrt(two),u), v:v}, assumptions=[InSet(Mult(Sqrt(two), u), RationalsPos), InSet(v, RationalsPos)])\n",
    "squaresEqualSpec"
   ]
  },
  {
   "cell_type": "code",
   "execution_count": null,
   "metadata": {},
   "outputs": [],
   "source": []
  }
 ],
 "metadata": {
  "kernelspec": {
   "display_name": "Python 3",
   "language": "python",
   "name": "python3"
  }
 },
 "nbformat": 4,
 "nbformat_minor": 0
}
