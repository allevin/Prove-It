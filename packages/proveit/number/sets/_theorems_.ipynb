{
 "cells": [
  {
   "cell_type": "markdown",
   "metadata": {
    "collapsed": true
   },
   "source": [
    "Theorems for context <a href=\"_context_.ipynb\" class=\"ProveItLink\">proveit.number.sets</a>\n",
    "========"
   ]
  },
  {
   "cell_type": "code",
   "execution_count": 1,
   "metadata": {},
   "outputs": [
    {
     "name": "stdout",
     "output_type": "stream",
     "text": [
      "Defining theorems for context 'proveit.number.sets'\n",
      "Subsequent end-of-cell assignments will define theorems\n",
      "'%end theorems' will finalize the definitions\n"
     ]
    }
   ],
   "source": [
    "import proveit\n",
    "from proveit.logic import InSet\n",
    "from proveit._common_ import n, q, a, b, x, y, aPrime, bPrime, G, P, Py, alpha\n",
    "from proveit.number import one, two, four, Sqrt, Reals, NaturalsPos\n",
    "from proveit.logic import InSet, Forall, Implies, Exists, Equals, And\n",
    "from proveit.number import Frac, Mult, Exp, Greater, GCD, Divides\n",
    "from proveit.number.sets.real._common_ import Rationals, RationalsPos\n",
    "%begin theorems"
   ]
  },
  {
   "cell_type": "code",
   "execution_count": 2,
   "metadata": {},
   "outputs": [
    {
     "data": {
      "text/html": [
       "<strong id=\"t1\"><a class=\"ProveItLink\" href=\"_proofs_/t1.ipynb\">t1</a>:</strong> <a class=\"ProveItLink\" href=\"__pv_it/cc8f030bf3f8fa8886abea87852067059d7e0b5a0/expr.ipynb\"><img src=\"__pv_it/cc8f030bf3f8fa8886abea87852067059d7e0b5a0/expr.png\" style=\"display:inline;vertical-align:middle;\" /></a><br>"
      ],
      "text/plain": [
       "t1: 2 in NaturalsPos"
      ]
     },
     "execution_count": 2,
     "metadata": {},
     "output_type": "execute_result"
    }
   ],
   "source": [
    "t1 = InSet(two,NaturalsPos)"
   ]
  },
  {
   "cell_type": "code",
   "execution_count": 3,
   "metadata": {},
   "outputs": [
    {
     "data": {
      "text/html": [
       "<strong id=\"t2\"><a class=\"ProveItLink\" href=\"_proofs_/t2.ipynb\">t2</a>:</strong> <a class=\"ProveItLink\" href=\"__pv_it/9b27e8fa879d028e01d5a8e99383ba8b3715a3240/expr.ipynb\"><img src=\"__pv_it/9b27e8fa879d028e01d5a8e99383ba8b3715a3240/expr.png\" style=\"display:inline;vertical-align:middle;\" /></a><br>"
      ],
      "text/plain": [
       "t2: (2 * 2) = 4"
      ]
     },
     "execution_count": 3,
     "metadata": {},
     "output_type": "execute_result"
    }
   ],
   "source": [
    "t2 = Equals(Mult(two, two), four)"
   ]
  },
  {
   "cell_type": "code",
   "execution_count": 4,
   "metadata": {},
   "outputs": [
    {
     "data": {
      "text/html": [
       "<strong id=\"t3\"><a class=\"ProveItLink\" href=\"_proofs_/t3.ipynb\">t3</a>:</strong> <a class=\"ProveItLink\" href=\"__pv_it/ce75cc66521bda1bb956f5b4b4019afcbb77ff9d0/expr.ipynb\"><img src=\"__pv_it/ce75cc66521bda1bb956f5b4b4019afcbb77ff9d0/expr.png\" style=\"display:inline;vertical-align:middle;\" /></a><br>"
      ],
      "text/plain": [
       "t3: 2 > 1"
      ]
     },
     "execution_count": 4,
     "metadata": {},
     "output_type": "execute_result"
    }
   ],
   "source": [
    "t3 = Greater(two, one)"
   ]
  },
  {
   "cell_type": "code",
   "execution_count": 5,
   "metadata": {},
   "outputs": [
    {
     "data": {
      "text/html": [
       "<strong id=\"t4\"><a class=\"ProveItLink\" href=\"_proofs_/t4.ipynb\">t4</a>:</strong> <a class=\"ProveItLink\" href=\"__pv_it/abaafec1ec3d659791419210e535f026aa32e3da0/expr.ipynb\"><img src=\"__pv_it/abaafec1ec3d659791419210e535f026aa32e3da0/expr.png\" style=\"display:inline;vertical-align:middle;\" /></a><br>"
      ],
      "text/plain": [
       "t4: forall_{n in NaturalsPos} (([sqrt](n) in Rationals) => ([sqrt](n) in RationalsPos))"
      ]
     },
     "execution_count": 5,
     "metadata": {},
     "output_type": "execute_result"
    }
   ],
   "source": [
    "t4 = Forall(n, Implies(InSet(Sqrt(n),Rationals), InSet(Sqrt(n), RationalsPos)), domain = NaturalsPos)"
   ]
  },
  {
   "cell_type": "code",
   "execution_count": 6,
   "metadata": {},
   "outputs": [
    {
     "data": {
      "text/html": [
       "<strong id=\"t5\"><a class=\"ProveItLink\" href=\"_proofs_/t5.ipynb\">t5</a>:</strong> <a class=\"ProveItLink\" href=\"__pv_it/4cf60f005f957ffbff4b816d180db799717a1c9a0/expr.ipynb\"><img src=\"__pv_it/4cf60f005f957ffbff4b816d180db799717a1c9a0/expr.png\" style=\"display:inline;vertical-align:middle;\" /></a><br>"
      ],
      "text/plain": [
       "t5: forall_{q in RationalsPos} [exists_{a, b in NaturalsPos} (q = (a / b))]"
      ]
     },
     "execution_count": 6,
     "metadata": {},
     "output_type": "execute_result"
    }
   ],
   "source": [
    "t5 = Forall(q, Exists((a,b), Equals(q, Frac(a, b)), domain = NaturalsPos), domain = RationalsPos)"
   ]
  },
  {
   "cell_type": "code",
   "execution_count": 7,
   "metadata": {},
   "outputs": [
    {
     "data": {
      "text/html": [
       "<strong id=\"t6\"><a class=\"ProveItLink\" href=\"_proofs_/t6.ipynb\">t6</a>:</strong> <a class=\"ProveItLink\" href=\"__pv_it/a0a30cbb2e0c1c2ab8bdecdb495aa2660692294e0/expr.ipynb\"><img src=\"__pv_it/a0a30cbb2e0c1c2ab8bdecdb495aa2660692294e0/expr.png\" style=\"display:inline;vertical-align:middle;\" /></a><br>"
      ],
      "text/plain": [
       "t6: forall_{a, b in NaturalsPos} [exists_{a', b' in NaturalsPos} (((a / b) = (a' / b')) and (gcd(a' , b') = 1))]"
      ]
     },
     "execution_count": 7,
     "metadata": {},
     "output_type": "execute_result"
    }
   ],
   "source": [
    "t6 = Forall((a,b), Exists((aPrime,bPrime),And(Equals(Frac(a,b),Frac(aPrime,bPrime)),Equals(GCD(aPrime,bPrime), one)), domain = NaturalsPos), domain = NaturalsPos)"
   ]
  },
  {
   "cell_type": "code",
   "execution_count": 8,
   "metadata": {},
   "outputs": [
    {
     "data": {
      "text/html": [
       "<strong id=\"t8\"><a class=\"ProveItLink\" href=\"_proofs_/t8.ipynb\">t8</a>:</strong> <a class=\"ProveItLink\" href=\"__pv_it/33404f402ffdbb44eb44b18a39ef3e839e26ac580/expr.ipynb\"><img src=\"__pv_it/33404f402ffdbb44eb44b18a39ef3e839e26ac580/expr.png\" style=\"display:inline;vertical-align:middle;\" /></a><br>"
      ],
      "text/plain": [
       "t8: forall_{a, b in NaturalsPos} (([sqrt](2) = (a / b)) => ((2 * b^{2}) = a^{2}))"
      ]
     },
     "execution_count": 8,
     "metadata": {},
     "output_type": "execute_result"
    }
   ],
   "source": [
    "t8 = Forall((a, b), Implies(Equals(Sqrt(two), Frac(a, b)), Equals(Mult(two, Exp(b, two)), Exp(a, two))), domain=NaturalsPos)"
   ]
  },
  {
   "cell_type": "code",
   "execution_count": 9,
   "metadata": {},
   "outputs": [
    {
     "name": "stdout",
     "output_type": "stream",
     "text": [
      "Adding theorem t8 to proveit.number.sets context\n",
      "t8 expression notebook is being updated\n",
      "Theorems may be imported from autogenerated _theorems_.py\n"
     ]
    }
   ],
   "source": [
    "%end theorems"
   ]
  },
  {
   "cell_type": "code",
   "execution_count": null,
   "metadata": {},
   "outputs": [],
   "source": []
  }
 ],
 "metadata": {
  "kernelspec": {
   "display_name": "Python 3",
   "language": "python",
   "name": "python3"
  },
  "language_info": {
   "codemirror_mode": {
    "name": "ipython",
    "version": 3
   },
   "file_extension": ".py",
   "mimetype": "text/x-python",
   "name": "python",
   "nbconvert_exporter": "python",
   "pygments_lexer": "ipython3",
   "version": "3.7.1"
  }
 },
 "nbformat": 4,
 "nbformat_minor": 1
}
