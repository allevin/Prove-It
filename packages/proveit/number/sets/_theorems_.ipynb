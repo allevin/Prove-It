{
 "cells": [
  {
   "cell_type": "markdown",
   "metadata": {
    "collapsed": true
   },
   "source": [
    "Theorems for context <a href=\"_context_.ipynb\" class=\"ProveItLink\">proveit.number.sets</a>\n",
    "========"
   ]
  },
  {
   "cell_type": "code",
   "execution_count": 1,
   "metadata": {},
   "outputs": [
    {
     "name": "stdout",
     "output_type": "stream",
     "text": [
      "Defining theorems for context 'proveit.number.sets'\n",
      "Subsequent end-of-cell assignments will define theorems\n",
      "'%end theorems' will finalize the definitions\n"
     ]
    }
   ],
   "source": [
    "import proveit\n",
    "from proveit import Function\n",
    "from proveit.logic import InSet\n",
    "from proveit._common_ import a, b, n, p, q, x, y, z, G\n",
    "from proveit._common_ import P, R, aPrime, bPrime, Px, Py, alpha\n",
    "from proveit.number import one, two, four, Sqrt, Reals, NaturalsPos, num\n",
    "from proveit.logic import And, Exists, Equals, Forall, Implies, InSet, Not\n",
    "from proveit.number import Frac, Mult, Exp, Greater, GCD, Divides\n",
    "from proveit.number.sets.real._common_ import Rationals, RationalsPos\n",
    "%begin theorems"
   ]
  },
  {
   "cell_type": "code",
   "execution_count": 2,
   "metadata": {},
   "outputs": [],
   "source": [
    "# The following is already available in proveit.number.numeral.deci._theorems\n",
    "# as posnat2, so get it from there instead when needed\n",
    "# t1 = InSet(two,NaturalsPos)"
   ]
  },
  {
   "cell_type": "code",
   "execution_count": 3,
   "metadata": {},
   "outputs": [],
   "source": [
    "# The following is already available in proveit.number.numeral.deci._theorems\n",
    "# as Mult_2_2, so get it from there instead when needed\n",
    "# t2 = Equals(Mult(two, two), four)"
   ]
  },
  {
   "cell_type": "code",
   "execution_count": 4,
   "metadata": {},
   "outputs": [],
   "source": [
    "# The following is already available in proveit.number.numeral.deci._theorems\n",
    "# as as a version of 1 < 2 called less_1_2, so get it from there instead when needed\n",
    "# t3 = Greater(two, one)"
   ]
  },
  {
   "cell_type": "code",
   "execution_count": 5,
   "metadata": {},
   "outputs": [
    {
     "data": {
      "text/html": [
       "<strong id=\"t4\"><a class=\"ProveItLink\" href=\"_proofs_/t4.ipynb\">t4</a>:</strong> <a class=\"ProveItLink\" href=\"__pv_it/abaafec1ec3d659791419210e535f026aa32e3da0/expr.ipynb\"><img src=\"__pv_it/abaafec1ec3d659791419210e535f026aa32e3da0/expr.png\" style=\"display:inline;vertical-align:middle;\" /></a><br>"
      ],
      "text/plain": [
       "t4: forall_{n in NaturalsPos} (([sqrt](n) in Rationals) => ([sqrt](n) in RationalsPos))"
      ]
     },
     "execution_count": 5,
     "metadata": {},
     "output_type": "execute_result"
    }
   ],
   "source": [
    "t4 = Forall(n, Implies(InSet(Sqrt(n),Rationals), InSet(Sqrt(n), RationalsPos)), domain = NaturalsPos)"
   ]
  },
  {
   "cell_type": "code",
   "execution_count": 6,
   "metadata": {},
   "outputs": [
    {
     "data": {
      "text/html": [
       "<strong id=\"t5\"><a class=\"ProveItLink\" href=\"_proofs_/t5.ipynb\">t5</a>:</strong> <a class=\"ProveItLink\" href=\"__pv_it/4cf60f005f957ffbff4b816d180db799717a1c9a0/expr.ipynb\"><img src=\"__pv_it/4cf60f005f957ffbff4b816d180db799717a1c9a0/expr.png\" style=\"display:inline;vertical-align:middle;\" /></a><br>"
      ],
      "text/plain": [
       "t5: forall_{q in RationalsPos} [exists_{a, b in NaturalsPos} (q = (a / b))]"
      ]
     },
     "execution_count": 6,
     "metadata": {},
     "output_type": "execute_result"
    }
   ],
   "source": [
    "t5 = Forall(q, Exists((a,b), Equals(q, Frac(a, b)), domain = NaturalsPos), domain = RationalsPos)"
   ]
  },
  {
   "cell_type": "code",
   "execution_count": 7,
   "metadata": {},
   "outputs": [
    {
     "data": {
      "text/html": [
       "<strong id=\"t6\"><a class=\"ProveItLink\" href=\"_proofs_/t6.ipynb\">t6</a>:</strong> <a class=\"ProveItLink\" href=\"__pv_it/a0a30cbb2e0c1c2ab8bdecdb495aa2660692294e0/expr.ipynb\"><img src=\"__pv_it/a0a30cbb2e0c1c2ab8bdecdb495aa2660692294e0/expr.png\" style=\"display:inline;vertical-align:middle;\" /></a><br>"
      ],
      "text/plain": [
       "t6: forall_{a, b in NaturalsPos} [exists_{a', b' in NaturalsPos} (((a / b) = (a' / b')) and (gcd(a' , b') = 1))]"
      ]
     },
     "execution_count": 7,
     "metadata": {},
     "output_type": "execute_result"
    }
   ],
   "source": [
    "t6 = Forall((a,b), Exists((aPrime,bPrime),And(Equals(Frac(a,b),Frac(aPrime,bPrime)),Equals(GCD(aPrime,bPrime), one)), domain = NaturalsPos), domain = NaturalsPos)"
   ]
  },
  {
   "cell_type": "code",
   "execution_count": 8,
   "metadata": {},
   "outputs": [
    {
     "data": {
      "text/html": [
       "<strong id=\"t7\"><a class=\"ProveItLink\" href=\"_proofs_/t7.ipynb\">t7</a>:</strong> <a class=\"ProveItLink\" href=\"__pv_it/4b9e272f92dc55611e7d3ba904da7484984fe9c50/expr.ipynb\"><img src=\"__pv_it/4b9e272f92dc55611e7d3ba904da7484984fe9c50/expr.png\" style=\"display:inline;vertical-align:middle;\" /></a><br>"
      ],
      "text/plain": [
       "t7: forall_{a, b in NaturalsPos} ((gcd(a , b) = 1) => [forall_{p in NaturalsPos} ((p > 1) => [not]((p | a) and (p | b)))])"
      ]
     },
     "execution_count": 8,
     "metadata": {},
     "output_type": "execute_result"
    }
   ],
   "source": [
    "t7 = Forall((a, b), Implies(Equals(GCD(a, b), one), Forall(p, Implies(Greater(p, one), Not(And(Divides(p, a), Divides(p, b)))), domain=NaturalsPos)), domain=NaturalsPos)"
   ]
  },
  {
   "cell_type": "code",
   "execution_count": 9,
   "metadata": {},
   "outputs": [
    {
     "data": {
      "text/html": [
       "<strong id=\"t8\"><a class=\"ProveItLink\" href=\"_proofs_/t8.ipynb\">t8</a>:</strong> <a class=\"ProveItLink\" href=\"__pv_it/33404f402ffdbb44eb44b18a39ef3e839e26ac580/expr.ipynb\"><img src=\"__pv_it/33404f402ffdbb44eb44b18a39ef3e839e26ac580/expr.png\" style=\"display:inline;vertical-align:middle;\" /></a><br>"
      ],
      "text/plain": [
       "t8: forall_{a, b in NaturalsPos} (([sqrt](2) = (a / b)) => ((2 * b^{2}) = a^{2}))"
      ]
     },
     "execution_count": 9,
     "metadata": {},
     "output_type": "execute_result"
    }
   ],
   "source": [
    "t8 = Forall((a, b), Implies(Equals(Sqrt(two), Frac(a, b)), Equals(Mult(two, Exp(b, two)), Exp(a, two))), domain=NaturalsPos)"
   ]
  },
  {
   "cell_type": "code",
   "execution_count": 10,
   "metadata": {},
   "outputs": [
    {
     "data": {
      "text/html": [
       "<strong id=\"t9a\"><a class=\"ProveItLink\" href=\"_proofs_/t9a.ipynb\">t9a</a>:</strong> <a class=\"ProveItLink\" href=\"__pv_it/da1ec91febb5508fe017d8637e5621bb8a1fa6b10/expr.ipynb\"><img src=\"__pv_it/da1ec91febb5508fe017d8637e5621bb8a1fa6b10/expr.png\" style=\"display:inline;vertical-align:middle;\" /></a><br>"
      ],
      "text/plain": [
       "t9a: forall_{n in NaturalsPos} (2 | (2 * n))"
      ]
     },
     "execution_count": 10,
     "metadata": {},
     "output_type": "execute_result"
    }
   ],
   "source": [
    "t9a = Forall(n,Divides(two, Mult(two, n)),domain=NaturalsPos)"
   ]
  },
  {
   "cell_type": "code",
   "execution_count": 11,
   "metadata": {},
   "outputs": [
    {
     "data": {
      "text/html": [
       "<strong id=\"t9b\"><a class=\"ProveItLink\" href=\"_proofs_/t9b.ipynb\">t9b</a>:</strong> <a class=\"ProveItLink\" href=\"__pv_it/bfe310952076e389891a1c7c61201d74cf2f18380/expr.ipynb\"><img src=\"__pv_it/bfe310952076e389891a1c7c61201d74cf2f18380/expr.png\" style=\"display:inline;vertical-align:middle;\" /></a><br>"
      ],
      "text/plain": [
       "t9b: forall_{b in NaturalsPos} (b^{2} in NaturalsPos)"
      ]
     },
     "execution_count": 11,
     "metadata": {},
     "output_type": "execute_result"
    }
   ],
   "source": [
    "t9b = Forall(b, InSet(Exp(b, two), NaturalsPos), domain=NaturalsPos)"
   ]
  },
  {
   "cell_type": "code",
   "execution_count": 12,
   "metadata": {},
   "outputs": [
    {
     "data": {
      "text/html": [
       "<strong id=\"t10\"><a class=\"ProveItLink\" href=\"_proofs_/t10.ipynb\">t10</a>:</strong> <a class=\"ProveItLink\" href=\"__pv_it/60030f08e6e2d88d1c09dea2d2357e412a41ef930/expr.ipynb\"><img src=\"__pv_it/60030f08e6e2d88d1c09dea2d2357e412a41ef930/expr.png\" style=\"display:inline;vertical-align:middle;\" /></a><br>"
      ],
      "text/plain": [
       "t10: forall_{a in NaturalsPos} ([not](2 | a) => [not](2 | a^{2}))"
      ]
     },
     "execution_count": 12,
     "metadata": {},
     "output_type": "execute_result"
    }
   ],
   "source": [
    "t10 = Forall(a, Implies(Not(Divides(two, a)), Not(Divides(two, Exp(a, two)))), domain=NaturalsPos)"
   ]
  },
  {
   "cell_type": "code",
   "execution_count": 13,
   "metadata": {},
   "outputs": [
    {
     "data": {
      "text/html": [
       "<strong id=\"t11\"><a class=\"ProveItLink\" href=\"_proofs_/t11.ipynb\">t11</a>:</strong> <a class=\"ProveItLink\" href=\"__pv_it/a0ff9bb56f568b9fbe994afeabed45eabcdff89e0/expr.ipynb\"><img src=\"__pv_it/a0ff9bb56f568b9fbe994afeabed45eabcdff89e0/expr.png\" style=\"display:inline;vertical-align:middle;\" /></a><br>"
      ],
      "text/plain": [
       "t11: forall_{a in NaturalsPos} ((2 | a) => (4 | a^{2}))"
      ]
     },
     "execution_count": 13,
     "metadata": {},
     "output_type": "execute_result"
    }
   ],
   "source": [
    "t11 = Forall(a, Implies(Divides(num(2), a), Divides(num(4), Exp(a, num(2)) )), domain=NaturalsPos)"
   ]
  },
  {
   "cell_type": "code",
   "execution_count": 14,
   "metadata": {},
   "outputs": [
    {
     "data": {
      "text/html": [
       "<strong id=\"t12\"><a class=\"ProveItLink\" href=\"_proofs_/t12.ipynb\">t12</a>:</strong> <a class=\"ProveItLink\" href=\"__pv_it/02e3c781366161ba654a468be105f0b1ccbb81a40/expr.ipynb\"><img src=\"__pv_it/02e3c781366161ba654a468be105f0b1ccbb81a40/expr.png\" style=\"display:inline;vertical-align:middle;\" /></a><br>"
      ],
      "text/plain": [
       "t12: forall_{n, p in NaturalsPos} (((2 * n) | (2 * p)) => (n | p))"
      ]
     },
     "execution_count": 14,
     "metadata": {},
     "output_type": "execute_result"
    }
   ],
   "source": [
    "t12 = Forall([n,p], Implies(Divides(Mult(num(2), n), Mult(num(2), p)), Divides(n, p)), domain=NaturalsPos)"
   ]
  },
  {
   "cell_type": "code",
   "execution_count": 15,
   "metadata": {},
   "outputs": [
    {
     "data": {
      "text/html": [
       "<strong id=\"KapurTheorem\"><a class=\"ProveItLink\" href=\"_proofs_/KapurTheorem.ipynb\">KapurTheorem</a>:</strong> <a class=\"ProveItLink\" href=\"__pv_it/0cb272131e1fd80bbb94cdbc5646da90704d7dd50/expr.ipynb\"><img src=\"__pv_it/0cb272131e1fd80bbb94cdbc5646da90704d7dd50/expr.png\" style=\"display:inline;vertical-align:middle;\" /></a><br>"
      ],
      "text/plain": [
       "KapurTheorem: forall_{P, R} (([exists_{x} P(x)] and [forall_{y | P(y)} [exists_{z} R(y , z)]]) => [exists_{x, z} R(x , z)])"
      ]
     },
     "execution_count": 15,
     "metadata": {},
     "output_type": "execute_result"
    }
   ],
   "source": [
    "Rxz = Function(R, (x, z))\n",
    "Ryz = Function(R, (y, z))\n",
    "KapurTheorem = Forall([P, R], Implies(And(Exists(x, Px), Forall(y,Exists(z, Ryz),conditions=[Py])), Exists([x, z], Rxz)))"
   ]
  },
  {
   "cell_type": "code",
   "execution_count": 16,
   "metadata": {},
   "outputs": [
    {
     "data": {
      "text/html": [
       "<strong id=\"existsByExample\"><a class=\"ProveItLink\" href=\"_proofs_/existsByExample.ipynb\">existsByExample</a>:</strong> <a class=\"ProveItLink\" href=\"__pv_it/8dd1be040fc82d2f0c3797deadede9699c9af6190/expr.ipynb\"><img src=\"__pv_it/8dd1be040fc82d2f0c3797deadede9699c9af6190/expr.png\" style=\"display:inline;vertical-align:middle;\" /></a><br>"
      ],
      "text/plain": [
       "existsByExample: forall_{P, y} (P(y) => [exists_{x} P(x)])"
      ]
     },
     "execution_count": 16,
     "metadata": {},
     "output_type": "execute_result"
    }
   ],
   "source": [
    "existsByExample = Forall([P,y], Implies(Py, Exists(x, Px)))"
   ]
  },
  {
   "cell_type": "code",
   "execution_count": 17,
   "metadata": {},
   "outputs": [
    {
     "name": "stdout",
     "output_type": "stream",
     "text": [
      "Modifying theorem existsByExample in proveit.number.sets context\n",
      "existsByExample expression notebook is being updated\n",
      "Theorems may be imported from autogenerated _theorems_.py\n"
     ]
    }
   ],
   "source": [
    "%end theorems"
   ]
  },
  {
   "cell_type": "code",
   "execution_count": null,
   "metadata": {},
   "outputs": [],
   "source": []
  }
 ],
 "metadata": {
  "kernelspec": {
   "display_name": "Python 3",
   "language": "python",
   "name": "python3"
  },
  "language_info": {
   "codemirror_mode": {
    "name": "ipython",
    "version": 3
   },
   "file_extension": ".py",
   "mimetype": "text/x-python",
   "name": "python",
   "nbconvert_exporter": "python",
   "pygments_lexer": "ipython3",
   "version": "3.7.1"
  }
 },
 "nbformat": 4,
 "nbformat_minor": 1
}
