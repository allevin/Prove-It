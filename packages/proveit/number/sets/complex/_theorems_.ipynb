{
 "cells": [
  {
   "cell_type": "markdown",
   "metadata": {
    "collapsed": true,
    "deletable": true,
    "editable": true
   },
   "source": [
    "Theorems for context <a href=\"_context_.ipynb\" class=\"ProveItLink\">proveit.number.sets.complex</a>\n",
    "========"
   ]
  },
  {
   "cell_type": "code",
   "execution_count": 1,
   "metadata": {
    "collapsed": false,
    "deletable": true,
    "editable": true
   },
   "outputs": [],
   "source": [
    "import proveit\n",
    "# the context is in the current directory:\n",
    "context = proveit.Context('.') # adds context root to sys.path if necessary\n",
    "from proveit.logic import Subset\n",
    "from proveit.number import Complexes, Reals, RealsPos, RealsNeg, Integers, Naturals, NaturalsPos"
   ]
  },
  {
   "cell_type": "code",
   "execution_count": 2,
   "metadata": {
    "collapsed": false,
    "deletable": true,
    "editable": true
   },
   "outputs": [
    {
     "name": "stdout",
     "output_type": "stream",
     "text": [
      "Defining theorems for context 'proveit.number.sets.complex'\n",
      "Subsequent end-of-cell assignments will define theorems\n",
      "'%end theorems' will finalize the definitions\n"
     ]
    }
   ],
   "source": [
    "%begin theorems"
   ]
  },
  {
   "cell_type": "code",
   "execution_count": 3,
   "metadata": {
    "collapsed": false,
    "deletable": true,
    "editable": true
   },
   "outputs": [
    {
     "data": {
      "text/html": [
       "<strong id=\"realsInComplexes\"><a class=\"ProveItLink\" href=\"_proofs_/realsInComplexes.ipynb\">realsInComplexes</a>:</strong> <a class=\"ProveItLink\" href=\"__pv_it/4c82c09945fc3881f0a33b6f9b5d25fe6c311c170/expr.ipynb\"><img src=\"__pv_it/4c82c09945fc3881f0a33b6f9b5d25fe6c311c170/expr.png\" style=\"display:inline;vertical-align:middle;\" /></a><br>"
      ],
      "text/plain": [
       "realsInComplexes: Reals subset Complexes"
      ]
     },
     "execution_count": 3,
     "metadata": {},
     "output_type": "execute_result"
    }
   ],
   "source": [
    "realsInComplexes = Subset(Reals, Complexes)"
   ]
  },
  {
   "cell_type": "code",
   "execution_count": 4,
   "metadata": {
    "collapsed": false
   },
   "outputs": [
    {
     "data": {
      "text/html": [
       "<strong id=\"realsPosInComplexes\"><a class=\"ProveItLink\" href=\"_proofs_/realsPosInComplexes.ipynb\">realsPosInComplexes</a>:</strong> <a class=\"ProveItLink\" href=\"__pv_it/753639effa2f3a41099246dc8e9cdd0e54732dec0/expr.ipynb\"><img src=\"__pv_it/753639effa2f3a41099246dc8e9cdd0e54732dec0/expr.png\" style=\"display:inline;vertical-align:middle;\" /></a><br>"
      ],
      "text/plain": [
       "realsPosInComplexes: RealsPos subset Complexes"
      ]
     },
     "execution_count": 4,
     "metadata": {},
     "output_type": "execute_result"
    }
   ],
   "source": [
    "realsPosInComplexes = Subset(RealsPos, Complexes)"
   ]
  },
  {
   "cell_type": "code",
   "execution_count": 5,
   "metadata": {
    "collapsed": false
   },
   "outputs": [
    {
     "data": {
      "text/html": [
       "<strong id=\"realsNegInComplexes\"><a class=\"ProveItLink\" href=\"_proofs_/realsNegInComplexes.ipynb\">realsNegInComplexes</a>:</strong> <a class=\"ProveItLink\" href=\"__pv_it/b902c17eb3aead083c5a591e2c34907bd14a2c890/expr.ipynb\"><img src=\"__pv_it/b902c17eb3aead083c5a591e2c34907bd14a2c890/expr.png\" style=\"display:inline;vertical-align:middle;\" /></a><br>"
      ],
      "text/plain": [
       "realsNegInComplexes: RealsNeg subset Complexes"
      ]
     },
     "execution_count": 5,
     "metadata": {},
     "output_type": "execute_result"
    }
   ],
   "source": [
    "realsNegInComplexes = Subset(RealsNeg, Complexes)"
   ]
  },
  {
   "cell_type": "code",
   "execution_count": 6,
   "metadata": {
    "collapsed": false
   },
   "outputs": [
    {
     "data": {
      "text/html": [
       "<strong id=\"intsInComplexes\"><a class=\"ProveItLink\" href=\"_proofs_/intsInComplexes.ipynb\">intsInComplexes</a>:</strong> <a class=\"ProveItLink\" href=\"__pv_it/8a1a6a421d2942731cbe717e6612b93f1431773c0/expr.ipynb\"><img src=\"__pv_it/8a1a6a421d2942731cbe717e6612b93f1431773c0/expr.png\" style=\"display:inline;vertical-align:middle;\" /></a><br>"
      ],
      "text/plain": [
       "intsInComplexes: Integers subset Complexes"
      ]
     },
     "execution_count": 6,
     "metadata": {},
     "output_type": "execute_result"
    }
   ],
   "source": [
    "intsInComplexes = Subset(Integers, Complexes)"
   ]
  },
  {
   "cell_type": "code",
   "execution_count": 7,
   "metadata": {
    "collapsed": false
   },
   "outputs": [
    {
     "data": {
      "text/html": [
       "<strong id=\"natsInComplexes\"><a class=\"ProveItLink\" href=\"_proofs_/natsInComplexes.ipynb\">natsInComplexes</a>:</strong> <a class=\"ProveItLink\" href=\"__pv_it/87b570390c4988f2da426ad8675c2d3b741e66cd0/expr.ipynb\"><img src=\"__pv_it/87b570390c4988f2da426ad8675c2d3b741e66cd0/expr.png\" style=\"display:inline;vertical-align:middle;\" /></a><br>"
      ],
      "text/plain": [
       "natsInComplexes: Naturals subset Complexes"
      ]
     },
     "execution_count": 7,
     "metadata": {},
     "output_type": "execute_result"
    }
   ],
   "source": [
    "natsInComplexes = Subset(Naturals, Complexes)"
   ]
  },
  {
   "cell_type": "code",
   "execution_count": 8,
   "metadata": {
    "collapsed": false
   },
   "outputs": [
    {
     "data": {
      "text/html": [
       "<strong id=\"natsPosInComplexes\"><a class=\"ProveItLink\" href=\"_proofs_/natsPosInComplexes.ipynb\">natsPosInComplexes</a>:</strong> <a class=\"ProveItLink\" href=\"__pv_it/c5c78ea91b03d08432a807ed09bcbd35c7eec08d0/expr.ipynb\"><img src=\"__pv_it/c5c78ea91b03d08432a807ed09bcbd35c7eec08d0/expr.png\" style=\"display:inline;vertical-align:middle;\" /></a><br>"
      ],
      "text/plain": [
       "natsPosInComplexes: NaturalsPos subset Complexes"
      ]
     },
     "execution_count": 8,
     "metadata": {},
     "output_type": "execute_result"
    }
   ],
   "source": [
    "natsPosInComplexes = Subset(NaturalsPos, Complexes)"
   ]
  },
  {
   "cell_type": "code",
   "execution_count": 9,
   "metadata": {
    "collapsed": false,
    "deletable": true,
    "editable": true
   },
   "outputs": [
    {
     "name": "stdout",
     "output_type": "stream",
     "text": [
      "Theorems may be imported from autogenerated _theorems_.py\n"
     ]
    }
   ],
   "source": [
    "%end theorems"
   ]
  },
  {
   "cell_type": "code",
   "execution_count": 10,
   "metadata": {
    "collapsed": true
   },
   "outputs": [],
   "source": []
  }
 ],
 "metadata": {
  "kernelspec": {
   "display_name": "Python 3",
   "language": "python",
   "name": "python3"
  },
  "language_info": {
   "codemirror_mode": {
    "name": "ipython",
    "version": 3
   },
   "file_extension": ".py",
   "mimetype": "text/x-python",
   "name": "python",
   "nbconvert_exporter": "python",
   "pygments_lexer": "ipython3",
   "version": "3.7.0"
  }
 },
 "nbformat": 4,
 "nbformat_minor": 0
}
