{
 "cells": [
  {
   "cell_type": "markdown",
   "metadata": {},
   "source": [
    "Theorems for context <a href=\"_context_.ipynb\" class=\"ProveItLink\">proveit.number.sets.complex</a>\n",
    "========"
   ]
  },
  {
   "cell_type": "code",
   "execution_count": 1,
   "metadata": {},
   "outputs": [],
   "source": [
    "import proveit\n",
    "# the context is in the current directory:\n",
    "context = proveit.Context('.') # adds context root to sys.path if necessary\n",
    "from proveit._common_ import x\n",
    "from proveit.logic import Forall, inBool, InSet, Subset\n",
    "from proveit.number import Complexes, Reals, RealsPos, RealsNeg, Integers, Naturals, NaturalsPos"
   ]
  },
  {
   "cell_type": "code",
   "execution_count": 2,
   "metadata": {},
   "outputs": [
    {
     "name": "stdout",
     "output_type": "stream",
     "text": [
      "Defining theorems for context 'proveit.number.sets.complex'\n",
      "Subsequent end-of-cell assignments will define theorems\n",
      "'%end theorems' will finalize the definitions\n"
     ]
    }
   ],
   "source": [
    "%begin theorems"
   ]
  },
  {
   "cell_type": "code",
   "execution_count": 3,
   "metadata": {},
   "outputs": [
    {
     "data": {
      "text/html": [
       "<strong id=\"realsInComplexes\"><a class=\"ProveItLink\" href=\"_proofs_/realsInComplexes.ipynb\">realsInComplexes</a>:</strong> <a class=\"ProveItLink\" href=\"__pv_it/e2a3738249090fe9856fc964d46406b92b08654f0/expr.ipynb\"><img src=\"data:image/png;base64,iVBORw0KGgoAAAANSUhEUgAAADoAAAAPBAMAAABHIsEFAAAAMFBMVEX///8iIiK6urp2dnbu7u5m\n",
       "ZmaqqqrMzMxUVFTc3NyIiIgQEBBEREQyMjKYmJgAAAA9nvXMAAAAAXRSTlMAQObYZgAAANtJREFU\n",
       "GNNjePvn/N29CxgwwMK7v2UCGBgOzGCoyZ2ALln0icH5VwNQdioDj+cBNEk+jgcMDPkQWeYCqOxa\n",
       "QUFBIRDjCTeQYEWVLVwC0xswA0iwLADLckBM5pSESbIEKENZQFnFt2BXcSjAZNkN8mCyswVlE8As\n",
       "XwaErB5cryqPA5hVAZdlOVAMl2VVb0CTZbjCgbD3yjowixEh+xgs6wCWreAoAHFYE+CyPI+AvmES\n",
       "gfg34STYNiGE5o5TDk5nHBiAsXCc4c59sDbfcISrA//vUEALXo2L0JCEAgAHiEO2r66d8wAAAABJ\n",
       "RU5ErkJggg==\n",
       "\" style=\"display:inline;vertical-align:middle;\" /></a><br>"
      ],
      "text/plain": [
       "realsInComplexes: Reals subset Complexes"
      ]
     },
     "execution_count": 3,
     "metadata": {},
     "output_type": "execute_result"
    }
   ],
   "source": [
    "realsInComplexes = Subset(Reals, Complexes)"
   ]
  },
  {
   "cell_type": "code",
   "execution_count": 4,
   "metadata": {},
   "outputs": [
    {
     "data": {
      "text/html": [
       "<strong id=\"realsPosInComplexes\"><a class=\"ProveItLink\" href=\"_proofs_/realsPosInComplexes.ipynb\">realsPosInComplexes</a>:</strong> <a class=\"ProveItLink\" href=\"__pv_it/f7d9014577b5839b23a8dd856fdb1e3ca6e802a90/expr.ipynb\"><img src=\"data:image/png;base64,iVBORw0KGgoAAAANSUhEUgAAAEcAAAAUBAMAAAAthD11AAAAMFBMVEX///8iIiK6urp2dnbu7u5m\n",
       "ZmaqqqrMzMxUVFTc3NyIiIgQEBBEREQyMjKYmJgAAAA9nvXMAAAAAXRSTlMAQObYZgAAAPNJREFU\n",
       "KM9jYIADNgYiAM+gUfT2z/m7exfgUsQle3/jUSB9YAZDTe4Eht67t+/eXYCmhl1fgcV+BUjRVAYe\n",
       "zwPYTXrQBwyZHxBFzAWoitYKCgoKAWk+hw1AMgKrosIlUAYrZwOQ9IIo4kCxjlMSptqVyQDKAipS\n",
       "fDsByOCACnAowBQVsz2AKZotKJuA7FpfOKuYCa5oqiqPA7KiCjjLhx1hHat6A3ZFvA4NCDddWYes\n",
       "iBHO4jMAKWKBKKrgKEBSxIpw4TktIKHoAAmnhJNIiliE4EyOniUsOkfAEXyc4c59ZP/5hsOZpfK/\n",
       "m3CkDI2LkGiBAQDsdkWWGtvbpgAAAABJRU5ErkJggg==\n",
       "\" style=\"display:inline;vertical-align:middle;\" /></a><br>"
      ],
      "text/plain": [
       "realsPosInComplexes: RealsPos subset Complexes"
      ]
     },
     "execution_count": 4,
     "metadata": {},
     "output_type": "execute_result"
    }
   ],
   "source": [
    "realsPosInComplexes = Subset(RealsPos, Complexes)"
   ]
  },
  {
   "cell_type": "code",
   "execution_count": 5,
   "metadata": {},
   "outputs": [
    {
     "data": {
      "text/html": [
       "<strong id=\"realsNegInComplexes\"><a class=\"ProveItLink\" href=\"_proofs_/realsNegInComplexes.ipynb\">realsNegInComplexes</a>:</strong> <a class=\"ProveItLink\" href=\"__pv_it/5a62b4f53a5df2a6611832720e957e5e0b1cd2470/expr.ipynb\"><img src=\"data:image/png;base64,iVBORw0KGgoAAAANSUhEUgAAAEgAAAAPBAMAAAC1npSgAAAAMFBMVEX///8iIiK6urp2dnbu7u5m\n",
       "ZmaqqqrMzMxUVFTc3NyIiIgQEBBEREQyMjKYmJgAAAA9nvXMAAAAAXRSTlMAQObYZgAAAOVJREFU\n",
       "KM9jePvn/N29CxhwgYV3f8sEMDAcmMFQkzuBIecMEDigqyn6xOD8qwGoaCoDj+cB7ObwcTxgYMiH\n",
       "KGIuQFW0VlBQUAjEeMINJFixKipcAmMFzAASLAvAijhQrOOUhLFYApShLKAixbcTkBRxKMBY7AZ5\n",
       "MEWzBWUTkG3zZUAo0oObpMqD4vUKOIvlQDFcEat6A3ZFDFc4EG66sg5ZESOC+RisyAGsqIKjAEkR\n",
       "K8KFPI+A3mcSgYRTwkkkRSxCCHbHKQcnYGQBI/g4w537yP7zDUf4L/D/DgXsUaZxERotUAAAk1pH\n",
       "kk2cmnQAAAAASUVORK5CYII=\n",
       "\" style=\"display:inline;vertical-align:middle;\" /></a><br>"
      ],
      "text/plain": [
       "realsNegInComplexes: RealsNeg subset Complexes"
      ]
     },
     "execution_count": 5,
     "metadata": {},
     "output_type": "execute_result"
    }
   ],
   "source": [
    "realsNegInComplexes = Subset(RealsNeg, Complexes)"
   ]
  },
  {
   "cell_type": "code",
   "execution_count": 6,
   "metadata": {},
   "outputs": [
    {
     "data": {
      "text/html": [
       "<strong id=\"intsInComplexes\"><a class=\"ProveItLink\" href=\"_proofs_/intsInComplexes.ipynb\">intsInComplexes</a>:</strong> <a class=\"ProveItLink\" href=\"__pv_it/9655a1adb9058f6d57393540a8587b449be0988d0/expr.ipynb\"><img src=\"data:image/png;base64,iVBORw0KGgoAAAANSUhEUgAAADkAAAAPBAMAAACsFXoGAAAAMFBMVEX////MzMzc3NxUVFS6urp2\n",
       "dnZERETu7u5mZmaIiIiYmJgQEBAyMjIiIiKqqqoAAAAf68ZqAAAAAXRSTlMAQObYZgAAAPBJREFU\n",
       "GNNj4Lv/98ze0wsY0ADnnfN7M4DUiQKGA2zokoz+DuzxkxkYOAIYWB+EoMsusGJg4PvMwMBcwKDM\n",
       "aAA17uzdu3cdgAyugg1AshksmM5WADHuZgFUKwcTSH0liMk1YRVETFcBZnAFSwCMWcaeAGGYwK0V\n",
       "5YN7wpAZoof9AEKWBSbL0uAK9YUBXLaMEWYyDwNQTxCqLE8BjB3HCvTDBRDrAlyWKwAky87AwGQg\n",
       "zMDACvIeQx8iNLI8gYRvAQObQjoDeyvY1bUOcFlms+nsbukMDN4529LOb2sAO/qEAFxa4v5vE7TQ\n",
       "ZbGBhiQMAACjlTTqgTSCcQAAAABJRU5ErkJggg==\n",
       "\" style=\"display:inline;vertical-align:middle;\" /></a><br>"
      ],
      "text/plain": [
       "intsInComplexes: Integers subset Complexes"
      ]
     },
     "execution_count": 6,
     "metadata": {},
     "output_type": "execute_result"
    }
   ],
   "source": [
    "intsInComplexes = Subset(Integers, Complexes)"
   ]
  },
  {
   "cell_type": "code",
   "execution_count": 7,
   "metadata": {},
   "outputs": [
    {
     "data": {
      "text/html": [
       "<strong id=\"natsInComplexes\"><a class=\"ProveItLink\" href=\"_proofs_/natsInComplexes.ipynb\">natsInComplexes</a>:</strong> <a class=\"ProveItLink\" href=\"__pv_it/54fffa8a651a82ab06d8557819a7ffc85bc0aa390/expr.ipynb\"><img src=\"data:image/png;base64,iVBORw0KGgoAAAANSUhEUgAAADoAAAAPBAMAAABHIsEFAAAAMFBMVEX////c3Nx2dna6uroQEBCI\n",
       "iIhUVFTMzMyYmJiqqqoiIiJmZmZEREQyMjLu7u4AAADjlg78AAAAAXRSTlMAQObYZgAAAOpJREFU\n",
       "GNNjePvn7AOGXb8mMKCBqLtf1mxgYDjBfoCB4QO6ZPFnhkdfExgYsgpCGRgc0CQ52BoYGOYDZZPv\n",
       "sRXAZGNXrVq1GMToYwES3EDZ9DK+e1DZqjiY3g1iQIIvACjLGVADkWVcCJPk22AEZaUzbOYIAMuy\n",
       "GcBk2RVmwGXZHqSDZd8yIGQt4LJ8CW/BsmVwWb4DRXBZhiJ2NFmGe2wIWY4JB0AsLoRsE1j2AViW\n",
       "QREsy40ITp5moG+Y1zEwHAaJXwDbthihOe3og8dnHjDYfgHq4wPLMrzdjnD1rv9uBmjBa3YLGpJQ\n",
       "AADvb0LVdGFwnQAAAABJRU5ErkJggg==\n",
       "\" style=\"display:inline;vertical-align:middle;\" /></a><br>"
      ],
      "text/plain": [
       "natsInComplexes: Naturals subset Complexes"
      ]
     },
     "execution_count": 7,
     "metadata": {},
     "output_type": "execute_result"
    }
   ],
   "source": [
    "natsInComplexes = Subset(Naturals, Complexes)"
   ]
  },
  {
   "cell_type": "code",
   "execution_count": 8,
   "metadata": {},
   "outputs": [
    {
     "data": {
      "text/html": [
       "<strong id=\"natsPosInComplexes\"><a class=\"ProveItLink\" href=\"_proofs_/natsPosInComplexes.ipynb\">natsPosInComplexes</a>:</strong> <a class=\"ProveItLink\" href=\"__pv_it/ad135563f9ca23196b0604ddca30d809d8c537860/expr.ipynb\"><img src=\"data:image/png;base64,iVBORw0KGgoAAAANSUhEUgAAAEcAAAAUBAMAAAAthD11AAAAMFBMVEX////c3Nx2dna6uroQEBCI\n",
       "iIhUVFTMzMyYmJiqqqoiIiJmZmZEREQyMjLu7u4AAADjlg78AAAAAXRSTlMAQObYZgAAAQBJREFU\n",
       "KM9jYIADTgYiAM+gUfT2z9kHDLt+TcCuiHXtfa/TQPoE+wEGhg8MuXev3L0bgKaG3d6ATz8MyMgq\n",
       "CGVgcMBuXUMGMGS+ARnJ99gK0BTFrlq1ajGQ5ngAEt8GxOllfPdQFVXFQRncjAlA8ilIEWdADYoi\n",
       "xoUw1a+ZFaCsdIbNHAEgRWxQATYDmKIizga4IrYH6Q7IgQJnFTEjFPElvEVWVAZnvWFHWMdQxI5d\n",
       "Ee+DBIQijgkHkBRxwVkcCiBFfBBFDIrIirgnwJknTIGE1QMGhsMg8QtIivgWw5lsOXF8NucYGGy/\n",
       "AE3hu4AS59vhzOr1X5JxpAyzW5BogQEAiAxD5VBfsgsAAAAASUVORK5CYII=\n",
       "\" style=\"display:inline;vertical-align:middle;\" /></a><br>"
      ],
      "text/plain": [
       "natsPosInComplexes: NaturalsPos subset Complexes"
      ]
     },
     "execution_count": 8,
     "metadata": {},
     "output_type": "execute_result"
    }
   ],
   "source": [
    "natsPosInComplexes = Subset(NaturalsPos, Complexes)"
   ]
  },
  {
   "cell_type": "markdown",
   "metadata": {},
   "source": [
    "***An inBool theorem, which is accessed by the respective ComplexSet NumberSet to implement its deduceMembershipInBool() method:***"
   ]
  },
  {
   "cell_type": "code",
   "execution_count": 9,
   "metadata": {},
   "outputs": [
    {
     "data": {
      "text/html": [
       "<strong id=\"xInComplexesInBool\"><a class=\"ProveItLink\" href=\"_proofs_/xInComplexesInBool.ipynb\">xInComplexesInBool</a>:</strong> <a class=\"ProveItLink\" href=\"__pv_it/725c82da6c3ae2855f6b3a92b90d1592890a43050/expr.ipynb\"><img src=\"data:image/png;base64,iVBORw0KGgoAAAANSUhEUgAAAJoAAAAVBAMAAABMN+opAAAAMFBMVEX///8QEBC6urrMzMxUVFRm\n",
       "ZmZERETc3NwyMjKqqqp2dnaIiIiYmJgiIiLu7u4AAAAU9Wx4AAAAAXRSTlMAQObYZgAAAjZJREFU\n",
       "OMtjYKAqeIAhwrQBgnEBHgXc4hdAjNPIoiZQjAXs7fh4LYAhGE10xbf+xmsTGEDiK0H8PmTJPnQB\n",
       "ODD6xPDqtwMDB7p4gjZf3yoGkHgZkMeegCTFvQGCsXiF5QADw3wHBp4FGKYxbAIaBRTnAAYc6wQk\n",
       "KcYHEIwAr3vv3gDR5xiBBKsDA58AqjjItDksD0DiPMvLy2uR9WpAMRww90DNDigBEnxAZ2eiioPd\n",
       "BvIjUPxbWtotZM1RUFy1pXIr2MNlUE18AVpQJUsZkMVBpjHfyYOIOzMwpCOb1gPBfAt47jCCIxwm\n",
       "y7xgDpQ1gwFZHGia7v2PGyDiKgx8DcimCUEwFwP3B04DkJMS4KbpQFmKDMjiYJ/ungYR52XgPoBs\n",
       "2icI5mNggShnkr17FxzafAlWUCX2KOJg09iYFoDFuQ/wPsBiGjBiIcmE2QGeEFmQTUOIg01jSACL\n",
       "8zWAEv5qpy0GEClJKGaoNwBnO74LME2nWKBZEeLTCximgcTTnYCh9MCNEZrociCYp2A/AzfY0T4w\n",
       "TWyHQDn4HgPDCQYUcbhPQeJTgZYwgaMSHv1APP9AIkM1WOAtPJe7ZD94lPYAlkIQ4kDTjm6DaoWE\n",
       "z3eYlC4EP9v1ajUkdthbDWCxGvtfBGREE6o4MNfnikyAivOA/MMswAzLWQUQjACcHtC4gwJYzsIl\n",
       "zmDP1cAFy9sLGDDzNQrg2kBA/NnO6HWESyQoeEGKeAkU4wTupIizb4BgXIDbAKc4ABbWpDRje11b\n",
       "AAAAAElFTkSuQmCC\n",
       "\" style=\"display:inline;vertical-align:middle;\" /></a><br>"
      ],
      "text/plain": [
       "xInComplexesInBool: forall_{x} ((x in Complexes) in BOOLEANS)"
      ]
     },
     "execution_count": 9,
     "metadata": {},
     "output_type": "execute_result"
    }
   ],
   "source": [
    "xInComplexesInBool = Forall(x, inBool(InSet(x, Complexes)))"
   ]
  },
  {
   "cell_type": "code",
   "execution_count": 10,
   "metadata": {},
   "outputs": [
    {
     "name": "stdout",
     "output_type": "stream",
     "text": [
      "Theorems may be imported from autogenerated _theorems_.py\n"
     ]
    }
   ],
   "source": [
    "%end theorems"
   ]
  },
  {
   "cell_type": "code",
   "execution_count": null,
   "metadata": {},
   "outputs": [],
   "source": []
  }
 ],
 "metadata": {
  "kernelspec": {
   "display_name": "Python 3",
   "language": "python",
   "name": "python3"
  }
 },
 "nbformat": 4,
 "nbformat_minor": 0
}
