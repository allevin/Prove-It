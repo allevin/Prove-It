{
 "cells": [
  {
   "cell_type": "markdown",
   "metadata": {},
   "source": [
    "Proof of <a class=\"ProveItLink\" href=\"../../../../_context_.ipynb\">proveit</a>.<a class=\"ProveItLink\" href=\"../../../_context_.ipynb\">number</a>.<a class=\"ProveItLink\" href=\"../../_context_.ipynb\">sets</a>.<a class=\"ProveItLink\" href=\"../_context_.ipynb\">complex</a>.<a class=\"ProveItLink\" href=\"../_theorems_.ipynb#realsPosInComplexes\">realsPosInComplexes</a> theorem\n",
    "========"
   ]
  },
  {
   "cell_type": "code",
   "execution_count": 1,
   "metadata": {},
   "outputs": [],
   "source": [
    "import proveit\n",
    "context = proveit.Context('..') # the theorem's context is in the parent directory"
   ]
  },
  {
   "cell_type": "code",
   "execution_count": 2,
   "metadata": {},
   "outputs": [
    {
     "name": "stdout",
     "output_type": "stream",
     "text": [
      "Beginning proof of realsPosInComplexes\n",
      "Recorded 'presuming' information\n",
      "Presuming previous theorem (applied transitively).\n"
     ]
    },
    {
     "data": {
      "text/html": [
       "<strong id=\"realsPosInComplexes\">realsPosInComplexes:</strong> <a class=\"ProveItLink\" href=\"../__pv_it/f7d9014577b5839b23a8dd856fdb1e3ca6e802a90/expr.ipynb\"><img src=\"data:image/png;base64,iVBORw0KGgoAAAANSUhEUgAAAEcAAAAUBAMAAAAthD11AAAAMFBMVEX///8iIiK6urp2dnbu7u5m\n",
       "ZmaqqqrMzMxUVFTc3NyIiIgQEBBEREQyMjKYmJgAAAA9nvXMAAAAAXRSTlMAQObYZgAAAPNJREFU\n",
       "KM9jYIADNgYiAM+gUfT2z/m7exfgUsQle3/jUSB9YAZDTe4Eht67t+/eXYCmhl1fgcV+BUjRVAYe\n",
       "zwPYTXrQBwyZHxBFzAWoitYKCgoKAWk+hw1AMgKrosIlUAYrZwOQ9IIo4kCxjlMSptqVyQDKAipS\n",
       "fDsByOCACnAowBQVsz2AKZotKJuA7FpfOKuYCa5oqiqPA7KiCjjLhx1hHat6A3ZFvA4NCDddWYes\n",
       "iBHO4jMAKWKBKKrgKEBSxIpw4TktIKHoAAmnhJNIiliE4EyOniUsOkfAEXyc4c59ZP/5hsOZpfK/\n",
       "m3CkDI2LkGiBAQDsdkWWGtvbpgAAAABJRU5ErkJggg==\n",
       "\" style=\"display:inline;vertical-align:middle;\" /></a><br>(see <a class=\"ProveItLink\" href=\"../__pv_it/f7d9014577b5839b23a8dd856fdb1e3ca6e802a90/dependencies.ipynb\">dependencies</a>)<br>"
      ],
      "text/plain": [
       "realsPosInComplexes: RealsPos subset Complexes"
      ]
     },
     "execution_count": 2,
     "metadata": {},
     "output_type": "execute_result"
    }
   ],
   "source": [
    "%proving realsPosInComplexes presuming []"
   ]
  },
  {
   "cell_type": "code",
   "execution_count": null,
   "metadata": {},
   "outputs": [],
   "source": []
  }
 ],
 "metadata": {
  "kernelspec": {
   "display_name": "Python 3",
   "language": "python",
   "name": "python3"
  }
 },
 "nbformat": 4,
 "nbformat_minor": 0
}
