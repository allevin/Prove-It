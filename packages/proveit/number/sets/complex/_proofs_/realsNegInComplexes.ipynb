{
 "cells": [
  {
   "cell_type": "markdown",
   "metadata": {},
   "source": [
    "Proof of <a class=\"ProveItLink\" href=\"../../../../_context_.ipynb\">proveit</a>.<a class=\"ProveItLink\" href=\"../../../_context_.ipynb\">number</a>.<a class=\"ProveItLink\" href=\"../../_context_.ipynb\">sets</a>.<a class=\"ProveItLink\" href=\"../_context_.ipynb\">complex</a>.<a class=\"ProveItLink\" href=\"../_theorems_.ipynb#realsNegInComplexes\">realsNegInComplexes</a> theorem\n",
    "========"
   ]
  },
  {
   "cell_type": "code",
   "execution_count": 1,
   "metadata": {},
   "outputs": [],
   "source": [
    "import proveit\n",
    "context = proveit.Context('..') # the theorem's context is in the parent directory"
   ]
  },
  {
   "cell_type": "code",
   "execution_count": 2,
   "metadata": {},
   "outputs": [
    {
     "name": "stdout",
     "output_type": "stream",
     "text": [
      "Beginning proof of realsNegInComplexes\n",
      "Recorded 'presuming' information\n",
      "Presuming previous theorems (applied transitively).\n"
     ]
    },
    {
     "data": {
      "text/html": [
       "<strong id=\"realsNegInComplexes\">realsNegInComplexes:</strong> <a class=\"ProveItLink\" href=\"../__pv_it/5a62b4f53a5df2a6611832720e957e5e0b1cd2470/expr.ipynb\"><img src=\"data:image/png;base64,iVBORw0KGgoAAAANSUhEUgAAAEgAAAAPBAMAAAC1npSgAAAAMFBMVEX///8iIiK6urp2dnbu7u5m\n",
       "ZmaqqqrMzMxUVFTc3NyIiIgQEBBEREQyMjKYmJgAAAA9nvXMAAAAAXRSTlMAQObYZgAAAOVJREFU\n",
       "KM9jePvn/N29CxhwgYV3f8sEMDAcmMFQkzuBIecMEDigqyn6xOD8qwGoaCoDj+cB7ObwcTxgYMiH\n",
       "KGIuQFW0VlBQUAjEeMINJFixKipcAmMFzAASLAvAijhQrOOUhLFYApShLKAixbcTkBRxKMBY7AZ5\n",
       "MEWzBWUTkG3zZUAo0oObpMqD4vUKOIvlQDFcEat6A3ZFDFc4EG66sg5ZESOC+RisyAGsqIKjAEkR\n",
       "K8KFPI+A3mcSgYRTwkkkRSxCCHbHKQcnYGQBI/g4w537yP7zDUf4L/D/DgXsUaZxERotUAAAk1pH\n",
       "kk2cmnQAAAAASUVORK5CYII=\n",
       "\" style=\"display:inline;vertical-align:middle;\" /></a><br>(see <a class=\"ProveItLink\" href=\"../__pv_it/5a62b4f53a5df2a6611832720e957e5e0b1cd2470/dependencies.ipynb\">dependencies</a>)<br>"
      ],
      "text/plain": [
       "realsNegInComplexes: RealsNeg subset Complexes"
      ]
     },
     "execution_count": 2,
     "metadata": {},
     "output_type": "execute_result"
    }
   ],
   "source": [
    "%proving realsNegInComplexes presuming []"
   ]
  },
  {
   "cell_type": "code",
   "execution_count": null,
   "metadata": {},
   "outputs": [],
   "source": []
  }
 ],
 "metadata": {
  "kernelspec": {
   "display_name": "Python 3",
   "language": "python",
   "name": "python3"
  }
 },
 "nbformat": 4,
 "nbformat_minor": 0
}
