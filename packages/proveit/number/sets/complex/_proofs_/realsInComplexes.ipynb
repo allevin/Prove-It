{
 "cells": [
  {
   "cell_type": "markdown",
   "metadata": {},
   "source": [
    "Proof of <a class=\"ProveItLink\" href=\"../../../../_context_.ipynb\">proveit</a>.<a class=\"ProveItLink\" href=\"../../../_context_.ipynb\">number</a>.<a class=\"ProveItLink\" href=\"../../_context_.ipynb\">sets</a>.<a class=\"ProveItLink\" href=\"../_context_.ipynb\">complex</a>.<a class=\"ProveItLink\" href=\"../_theorems_.ipynb#realsInComplexes\">realsInComplexes</a> theorem\n",
    "========"
   ]
  },
  {
   "cell_type": "code",
   "execution_count": 1,
   "metadata": {},
   "outputs": [],
   "source": [
    "import proveit\n",
    "context = proveit.Context('..') # the theorem's context is in the parent directory"
   ]
  },
  {
   "cell_type": "code",
   "execution_count": 2,
   "metadata": {},
   "outputs": [
    {
     "name": "stdout",
     "output_type": "stream",
     "text": [
      "Beginning proof of realsInComplexes\n",
      "Recorded 'presuming' information\n"
     ]
    },
    {
     "data": {
      "text/html": [
       "<strong id=\"realsInComplexes\">realsInComplexes:</strong> <a class=\"ProveItLink\" href=\"../__pv_it/e2a3738249090fe9856fc964d46406b92b08654f0/expr.ipynb\"><img src=\"data:image/png;base64,iVBORw0KGgoAAAANSUhEUgAAADoAAAAPBAMAAABHIsEFAAAAMFBMVEX///8iIiK6urp2dnbu7u5m\n",
       "ZmaqqqrMzMxUVFTc3NyIiIgQEBBEREQyMjKYmJgAAAA9nvXMAAAAAXRSTlMAQObYZgAAANtJREFU\n",
       "GNNjePvn/N29CxgwwMK7v2UCGBgOzGCoyZ2ALln0icH5VwNQdioDj+cBNEk+jgcMDPkQWeYCqOxa\n",
       "QUFBIRDjCTeQYEWVLVwC0xswA0iwLADLckBM5pSESbIEKENZQFnFt2BXcSjAZNkN8mCyswVlE8As\n",
       "XwaErB5cryqPA5hVAZdlOVAMl2VVb0CTZbjCgbD3yjowixEh+xgs6wCWreAoAHFYE+CyPI+AvmES\n",
       "gfg34STYNiGE5o5TDk5nHBiAsXCc4c59sDbfcISrA//vUEALXo2L0JCEAgAHiEO2r66d8wAAAABJ\n",
       "RU5ErkJggg==\n",
       "\" style=\"display:inline;vertical-align:middle;\" /></a><br>(see <a class=\"ProveItLink\" href=\"../__pv_it/e2a3738249090fe9856fc964d46406b92b08654f0/dependencies.ipynb\">dependencies</a>)<br>"
      ],
      "text/plain": [
       "realsInComplexes: Reals subset Complexes"
      ]
     },
     "execution_count": 2,
     "metadata": {},
     "output_type": "execute_result"
    }
   ],
   "source": [
    "%proving realsInComplexes presuming []"
   ]
  },
  {
   "cell_type": "code",
   "execution_count": null,
   "metadata": {},
   "outputs": [],
   "source": []
  }
 ],
 "metadata": {
  "kernelspec": {
   "display_name": "Python 3",
   "language": "python",
   "name": "python3"
  }
 },
 "nbformat": 4,
 "nbformat_minor": 0
}
