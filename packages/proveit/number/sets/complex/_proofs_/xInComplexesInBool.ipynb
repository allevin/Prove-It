{
 "cells": [
  {
   "cell_type": "markdown",
   "metadata": {},
   "source": [
    "Proof of <a class=\"ProveItLink\" href=\"../../../../_context_.ipynb\">proveit</a>.<a class=\"ProveItLink\" href=\"../../../_context_.ipynb\">number</a>.<a class=\"ProveItLink\" href=\"../../_context_.ipynb\">sets</a>.<a class=\"ProveItLink\" href=\"../_context_.ipynb\">complex</a>.<a class=\"ProveItLink\" href=\"../_theorems_.ipynb#xInComplexesInBool\">xInComplexesInBool</a> theorem\n",
    "========"
   ]
  },
  {
   "cell_type": "code",
   "execution_count": 1,
   "metadata": {},
   "outputs": [],
   "source": [
    "import proveit\n",
    "context = proveit.Context('..') # the theorem's context is in the parent directory"
   ]
  },
  {
   "cell_type": "code",
   "execution_count": 2,
   "metadata": {},
   "outputs": [
    {
     "name": "stdout",
     "output_type": "stream",
     "text": [
      "Beginning proof of xInComplexesInBool\n",
      "Recorded 'presuming' information\n",
      "Presuming previous theorems (applied transitively).\n"
     ]
    },
    {
     "data": {
      "text/html": [
       "<strong id=\"xInComplexesInBool\">xInComplexesInBool:</strong> <a class=\"ProveItLink\" href=\"../__pv_it/725c82da6c3ae2855f6b3a92b90d1592890a43050/expr.ipynb\"><img src=\"data:image/png;base64,iVBORw0KGgoAAAANSUhEUgAAAJoAAAAVBAMAAABMN+opAAAAMFBMVEX///8QEBC6urrMzMxUVFRm\n",
       "ZmZERETc3NwyMjKqqqp2dnaIiIiYmJgiIiLu7u4AAAAU9Wx4AAAAAXRSTlMAQObYZgAAAjZJREFU\n",
       "OMtjYKAqeIAhwrQBgnEBHgXc4hdAjNPIoiZQjAXs7fh4LYAhGE10xbf+xmsTGEDiK0H8PmTJPnQB\n",
       "ODD6xPDqtwMDB7p4gjZf3yoGkHgZkMeegCTFvQGCsXiF5QADw3wHBp4FGKYxbAIaBRTnAAYc6wQk\n",
       "KcYHEIwAr3vv3gDR5xiBBKsDA58AqjjItDksD0DiPMvLy2uR9WpAMRww90DNDigBEnxAZ2eiioPd\n",
       "BvIjUPxbWtotZM1RUFy1pXIr2MNlUE18AVpQJUsZkMVBpjHfyYOIOzMwpCOb1gPBfAt47jCCIxwm\n",
       "y7xgDpQ1gwFZHGia7v2PGyDiKgx8DcimCUEwFwP3B04DkJMS4KbpQFmKDMjiYJ/ungYR52XgPoBs\n",
       "2icI5mNggShnkr17FxzafAlWUCX2KOJg09iYFoDFuQ/wPsBiGjBiIcmE2QGeEFmQTUOIg01jSACL\n",
       "8zWAEv5qpy0GEClJKGaoNwBnO74LME2nWKBZEeLTCximgcTTnYCh9MCNEZrociCYp2A/AzfY0T4w\n",
       "TWyHQDn4HgPDCQYUcbhPQeJTgZYwgaMSHv1APP9AIkM1WOAtPJe7ZD94lPYAlkIQ4kDTjm6DaoWE\n",
       "z3eYlC4EP9v1ajUkdthbDWCxGvtfBGREE6o4MNfnikyAivOA/MMswAzLWQUQjACcHtC4gwJYzsIl\n",
       "zmDP1cAFy9sLGDDzNQrg2kBA/NnO6HWESyQoeEGKeAkU4wTupIizb4BgXIDbAKc4ABbWpDRje11b\n",
       "AAAAAElFTkSuQmCC\n",
       "\" style=\"display:inline;vertical-align:middle;\" /></a><br>(see <a class=\"ProveItLink\" href=\"../__pv_it/725c82da6c3ae2855f6b3a92b90d1592890a43050/dependencies.ipynb\">dependencies</a>)<br>"
      ],
      "text/plain": [
       "xInComplexesInBool: forall_{x} ((x in Complexes) in BOOLEANS)"
      ]
     },
     "execution_count": 2,
     "metadata": {},
     "output_type": "execute_result"
    }
   ],
   "source": [
    "%proving xInComplexesInBool presuming []"
   ]
  },
  {
   "cell_type": "code",
   "execution_count": null,
   "metadata": {},
   "outputs": [],
   "source": []
  }
 ],
 "metadata": {
  "kernelspec": {
   "display_name": "Python 3",
   "language": "python",
   "name": "python3"
  }
 },
 "nbformat": 4,
 "nbformat_minor": 0
}
