{
 "cells": [
  {
   "cell_type": "markdown",
   "metadata": {},
   "source": [
    "Proof of <a class=\"ProveItLink\" href=\"../../../../_context_.ipynb\">proveit</a>.<a class=\"ProveItLink\" href=\"../../../_context_.ipynb\">number</a>.<a class=\"ProveItLink\" href=\"../../_context_.ipynb\">sets</a>.<a class=\"ProveItLink\" href=\"../_context_.ipynb\">complex</a>.<a class=\"ProveItLink\" href=\"../_theorems_.ipynb#natsInComplexes\">natsInComplexes</a> theorem\n",
    "========"
   ]
  },
  {
   "cell_type": "code",
   "execution_count": 1,
   "metadata": {},
   "outputs": [],
   "source": [
    "import proveit\n",
    "context = proveit.Context('..') # the theorem's context is in the parent directory"
   ]
  },
  {
   "cell_type": "code",
   "execution_count": 2,
   "metadata": {},
   "outputs": [
    {
     "name": "stdout",
     "output_type": "stream",
     "text": [
      "Beginning proof of natsInComplexes\n",
      "Recorded 'presuming' information\n",
      "Presuming previous theorems (applied transitively).\n"
     ]
    },
    {
     "data": {
      "text/html": [
       "<strong id=\"natsInComplexes\">natsInComplexes:</strong> <a class=\"ProveItLink\" href=\"../__pv_it/54fffa8a651a82ab06d8557819a7ffc85bc0aa390/expr.ipynb\"><img src=\"data:image/png;base64,iVBORw0KGgoAAAANSUhEUgAAADoAAAAPBAMAAABHIsEFAAAAMFBMVEX////c3Nx2dna6uroQEBCI\n",
       "iIhUVFTMzMyYmJiqqqoiIiJmZmZEREQyMjLu7u4AAADjlg78AAAAAXRSTlMAQObYZgAAAOpJREFU\n",
       "GNNjePvn7AOGXb8mMKCBqLtf1mxgYDjBfoCB4QO6ZPFnhkdfExgYsgpCGRgc0CQ52BoYGOYDZZPv\n",
       "sRXAZGNXrVq1GMToYwES3EDZ9DK+e1DZqjiY3g1iQIIvACjLGVADkWVcCJPk22AEZaUzbOYIAMuy\n",
       "GcBk2RVmwGXZHqSDZd8yIGQt4LJ8CW/BsmVwWb4DRXBZhiJ2NFmGe2wIWY4JB0AsLoRsE1j2AViW\n",
       "QREsy40ITp5moG+Y1zEwHAaJXwDbthihOe3og8dnHjDYfgHq4wPLMrzdjnD1rv9uBmjBa3YLGpJQ\n",
       "AADvb0LVdGFwnQAAAABJRU5ErkJggg==\n",
       "\" style=\"display:inline;vertical-align:middle;\" /></a><br>(see <a class=\"ProveItLink\" href=\"../__pv_it/54fffa8a651a82ab06d8557819a7ffc85bc0aa390/dependencies.ipynb\">dependencies</a>)<br>"
      ],
      "text/plain": [
       "natsInComplexes: Naturals subset Complexes"
      ]
     },
     "execution_count": 2,
     "metadata": {},
     "output_type": "execute_result"
    }
   ],
   "source": [
    "%proving natsInComplexes presuming []"
   ]
  },
  {
   "cell_type": "code",
   "execution_count": null,
   "metadata": {},
   "outputs": [],
   "source": []
  }
 ],
 "metadata": {
  "kernelspec": {
   "display_name": "Python 3",
   "language": "python",
   "name": "python3"
  }
 },
 "nbformat": 4,
 "nbformat_minor": 0
}
