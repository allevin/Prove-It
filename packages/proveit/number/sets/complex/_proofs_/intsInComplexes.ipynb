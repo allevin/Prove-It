{
 "cells": [
  {
   "cell_type": "markdown",
   "metadata": {},
   "source": [
    "Proof of <a class=\"ProveItLink\" href=\"../../../../_context_.ipynb\">proveit</a>.<a class=\"ProveItLink\" href=\"../../../_context_.ipynb\">number</a>.<a class=\"ProveItLink\" href=\"../../_context_.ipynb\">sets</a>.<a class=\"ProveItLink\" href=\"../_context_.ipynb\">complex</a>.<a class=\"ProveItLink\" href=\"../_theorems_.ipynb#intsInComplexes\">intsInComplexes</a> theorem\n",
    "========"
   ]
  },
  {
   "cell_type": "code",
   "execution_count": 1,
   "metadata": {},
   "outputs": [],
   "source": [
    "import proveit\n",
    "context = proveit.Context('..') # the theorem's context is in the parent directory"
   ]
  },
  {
   "cell_type": "code",
   "execution_count": 2,
   "metadata": {},
   "outputs": [
    {
     "name": "stdout",
     "output_type": "stream",
     "text": [
      "Beginning proof of intsInComplexes\n",
      "Recorded 'presuming' information\n",
      "Presuming previous theorems (applied transitively).\n"
     ]
    },
    {
     "data": {
      "text/html": [
       "<strong id=\"intsInComplexes\">intsInComplexes:</strong> <a class=\"ProveItLink\" href=\"../__pv_it/9655a1adb9058f6d57393540a8587b449be0988d0/expr.ipynb\"><img src=\"data:image/png;base64,iVBORw0KGgoAAAANSUhEUgAAADkAAAAPBAMAAACsFXoGAAAAMFBMVEX////MzMzc3NxUVFS6urp2\n",
       "dnZERETu7u5mZmaIiIiYmJgQEBAyMjIiIiKqqqoAAAAf68ZqAAAAAXRSTlMAQObYZgAAAPBJREFU\n",
       "GNNj4Lv/98ze0wsY0ADnnfN7M4DUiQKGA2zokoz+DuzxkxkYOAIYWB+EoMsusGJg4PvMwMBcwKDM\n",
       "aAA17uzdu3cdgAyugg1AshksmM5WADHuZgFUKwcTSH0liMk1YRVETFcBZnAFSwCMWcaeAGGYwK0V\n",
       "5YN7wpAZoof9AEKWBSbL0uAK9YUBXLaMEWYyDwNQTxCqLE8BjB3HCvTDBRDrAlyWKwAky87AwGQg\n",
       "zMDACvIeQx8iNLI8gYRvAQObQjoDeyvY1bUOcFlms+nsbukMDN4529LOb2sAO/qEAFxa4v5vE7TQ\n",
       "ZbGBhiQMAACjlTTqgTSCcQAAAABJRU5ErkJggg==\n",
       "\" style=\"display:inline;vertical-align:middle;\" /></a><br>(see <a class=\"ProveItLink\" href=\"../__pv_it/9655a1adb9058f6d57393540a8587b449be0988d0/dependencies.ipynb\">dependencies</a>)<br>"
      ],
      "text/plain": [
       "intsInComplexes: Integers subset Complexes"
      ]
     },
     "execution_count": 2,
     "metadata": {},
     "output_type": "execute_result"
    }
   ],
   "source": [
    "%proving intsInComplexes presuming []"
   ]
  },
  {
   "cell_type": "code",
   "execution_count": null,
   "metadata": {},
   "outputs": [],
   "source": []
  }
 ],
 "metadata": {
  "kernelspec": {
   "display_name": "Python 3",
   "language": "python",
   "name": "python3"
  }
 },
 "nbformat": 4,
 "nbformat_minor": 0
}
