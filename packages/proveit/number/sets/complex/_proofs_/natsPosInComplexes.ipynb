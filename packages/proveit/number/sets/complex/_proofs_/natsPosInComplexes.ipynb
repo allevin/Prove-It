{
 "cells": [
  {
   "cell_type": "markdown",
   "metadata": {},
   "source": [
    "Proof of <a class=\"ProveItLink\" href=\"../../../../_context_.ipynb\">proveit</a>.<a class=\"ProveItLink\" href=\"../../../_context_.ipynb\">number</a>.<a class=\"ProveItLink\" href=\"../../_context_.ipynb\">sets</a>.<a class=\"ProveItLink\" href=\"../_context_.ipynb\">complex</a>.<a class=\"ProveItLink\" href=\"../_theorems_.ipynb#natsPosInComplexes\">natsPosInComplexes</a> theorem\n",
    "========"
   ]
  },
  {
   "cell_type": "code",
   "execution_count": 1,
   "metadata": {},
   "outputs": [],
   "source": [
    "import proveit\n",
    "context = proveit.Context('..') # the theorem's context is in the parent directory"
   ]
  },
  {
   "cell_type": "code",
   "execution_count": 2,
   "metadata": {},
   "outputs": [
    {
     "name": "stdout",
     "output_type": "stream",
     "text": [
      "Beginning proof of natsPosInComplexes\n",
      "Recorded 'presuming' information\n",
      "Presuming previous theorems (applied transitively).\n"
     ]
    },
    {
     "data": {
      "text/html": [
       "<strong id=\"natsPosInComplexes\">natsPosInComplexes:</strong> <a class=\"ProveItLink\" href=\"../__pv_it/ad135563f9ca23196b0604ddca30d809d8c537860/expr.ipynb\"><img src=\"data:image/png;base64,iVBORw0KGgoAAAANSUhEUgAAAEcAAAAUBAMAAAAthD11AAAAMFBMVEX////c3Nx2dna6uroQEBCI\n",
       "iIhUVFTMzMyYmJiqqqoiIiJmZmZEREQyMjLu7u4AAADjlg78AAAAAXRSTlMAQObYZgAAAQBJREFU\n",
       "KM9jYIADTgYiAM+gUfT2z9kHDLt+TcCuiHXtfa/TQPoE+wEGhg8MuXev3L0bgKaG3d6ATz8MyMgq\n",
       "CGVgcMBuXUMGMGS+ARnJ99gK0BTFrlq1ajGQ5ngAEt8GxOllfPdQFVXFQRncjAlA8ilIEWdADYoi\n",
       "xoUw1a+ZFaCsdIbNHAEgRWxQATYDmKIizga4IrYH6Q7IgQJnFTEjFPElvEVWVAZnvWFHWMdQxI5d\n",
       "Ee+DBIQijgkHkBRxwVkcCiBFfBBFDIrIirgnwJknTIGE1QMGhsMg8QtIivgWw5lsOXF8NucYGGy/\n",
       "AE3hu4AS59vhzOr1X5JxpAyzW5BogQEAiAxD5VBfsgsAAAAASUVORK5CYII=\n",
       "\" style=\"display:inline;vertical-align:middle;\" /></a><br>(see <a class=\"ProveItLink\" href=\"../__pv_it/ad135563f9ca23196b0604ddca30d809d8c537860/dependencies.ipynb\">dependencies</a>)<br>"
      ],
      "text/plain": [
       "natsPosInComplexes: NaturalsPos subset Complexes"
      ]
     },
     "execution_count": 2,
     "metadata": {},
     "output_type": "execute_result"
    }
   ],
   "source": [
    "%proving natsPosInComplexes presuming []"
   ]
  },
  {
   "cell_type": "code",
   "execution_count": null,
   "metadata": {},
   "outputs": [],
   "source": []
  }
 ],
 "metadata": {
  "kernelspec": {
   "display_name": "Python 3",
   "language": "python",
   "name": "python3"
  }
 },
 "nbformat": 4,
 "nbformat_minor": 0
}
