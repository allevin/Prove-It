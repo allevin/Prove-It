{
 "cells": [
  {
   "cell_type": "markdown",
   "metadata": {},
   "source": [
    "Demonstrations for context <a class=\"ProveItLink\" href=\"_context_.ipynb\">proveit.number.sets.complex</a>\n",
    "========"
   ]
  },
  {
   "cell_type": "code",
   "execution_count": 1,
   "metadata": {},
   "outputs": [],
   "source": [
    "import proveit\n",
    "from proveit._common_ import a, b, c, x\n",
    "from proveit.logic import InSet\n",
    "from proveit.number import Complexes\n",
    "%begin demonstrations"
   ]
  },
  {
   "cell_type": "markdown",
   "metadata": {},
   "source": [
    "# Complex Numbers $\\mathbb{C}$\n",
    "\n",
    "### UNDER CONSTRUCTION"
   ]
  },
  {
   "cell_type": "markdown",
   "metadata": {},
   "source": [
    "<div style=\"line-height:1.4; font-size:14pt\">\n",
    "\n",
    "<a href='#introduction'>Introduction</a><br>\n",
    "<a href='#simple_expressions'>Simple Expressions involving Complex number $\\mathbb{C}$</a><br>\n",
    "<a href='#common_attributes'>Common Attributes of NumberSet classes</a><br>\n",
    "<a href='#axioms'>Axioms</a><br>\n",
    "<a href='#further_demonstrations'>Further Demonstrations</a><br>\n",
    "    <ol>\n",
    "        <li><a href='#demo01'>Demo 1</a></li>\n",
    "        <li><a href='#demo02'>Demo 2</a></li>\n",
    "        <li><a href='#demo03'>Demo 3</a></li>\n",
    "    </ol>\n",
    "\n",
    "</div>\n"
   ]
  },
  {
   "cell_type": "markdown",
   "metadata": {},
   "source": [
    "## Introduction <a id='introduction'></a>"
   ]
  },
  {
   "cell_type": "markdown",
   "metadata": {},
   "source": [
    "<font size=4>UNDER CONSTRUCTION. Something here about the importance of having and using specifically pre-defined number sets such as the Complex numbers ($\\mathbb{C}$), the axiomatic definition, and perhaps the distinctiveness from other predefined NumberSet classes.</font>"
   ]
  },
  {
   "cell_type": "code",
   "execution_count": 2,
   "metadata": {},
   "outputs": [
    {
     "data": {
      "text/html": [
       "<span style=\"font-size:20px;\"> <a class=\"ProveItLink\" href=\"__pv_it/001775461881aa8d28ab208d9a749a92e7b063c90/proof.ipynb\" style=\"text-decoration: none\">&#x22A2;&nbsp;</a><a class=\"ProveItLink\" href=\"__pv_it/6fc03ae469bfe07242cd317159314802b37206b00/expr.ipynb\"><img src=\"data:image/png;base64,iVBORw0KGgoAAAANSUhEUgAAAGkAAAAVBAMAAAC3TN2zAAAAMFBMVEX////c3NwiIiJERESqqqqY\n",
       "mJh2dnZmZmYQEBDu7u4yMjJUVFTMzMyIiIi6uroAAAAs73DqAAAAAXRSTlMAQObYZgAAAaJJREFU\n",
       "OMtjYCAP8F3ALcf6AJfMaezCl1b9UC5gqEETzfq8foWyA5CxEqumc/8Ypv3dwMCFLm7wlnNlGgMD\n",
       "L1YHsnIHMDD4b2BgTcDQxXAPaBTHBGTBuYuUtEB0JAeQYN/AwNmAKg7S5co9geEVsiaepVAzCqSB\n",
       "BCfQGSao4mC7hBkYyoBMsdsi18EOFYZKchY8g6pKZ0AWB+niUbVkYFgKVJPAqsqhABIzhNmZ4Apl\n",
       "eTEgiwN1PdL/AbSgj4GBjYH3A8sBkBUGcF1PoawXDMjiYBfedWZg+AcUZOCGCPM1KSmBfc1pcAyq\n",
       "6jyKOFgXM18CSBcwICHBz7MBZuRKbmRdCHGwLgYDhhYQW/4AA8i/nAowyTCwrgkwFyqg6zIFRqnA\n",
       "fQZecChthUkyxwFt59NkYIhiQBGHuRAYtP4BFgyyYLFJ8NS623bCPOMJsJBHiAN1hV9mYHjEwDD5\n",
       "2rTcALAY4/IDsFAs+t8NUroOVRyYeo26gamXQwA5cbDsgoYVFMBSFLo4RvpEAWy4Mt9KfLpm4ZKQ\n",
       "xqdrIy4JRjwlAO8B7OIAg25vSRMyLXwAAAAASUVORK5CYII=\n",
       "\" style=\"display:inline;vertical-align:middle;\" /></a></span>"
      ],
      "text/plain": [
       "|- (x in Complexes) in BOOLEANS"
      ]
     },
     "execution_count": 2,
     "metadata": {},
     "output_type": "execute_result"
    }
   ],
   "source": [
    "InSet(x, Complexes).deduceInBool()"
   ]
  },
  {
   "cell_type": "code",
   "execution_count": 3,
   "metadata": {},
   "outputs": [],
   "source": [
    "%end demonstrations"
   ]
  }
 ],
 "metadata": {
  "kernelspec": {
   "display_name": "Python 3",
   "language": "python",
   "name": "python3"
  }
 },
 "nbformat": 4,
 "nbformat_minor": 0
}
