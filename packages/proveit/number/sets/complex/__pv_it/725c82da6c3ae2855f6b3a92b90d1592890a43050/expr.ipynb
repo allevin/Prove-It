{
 "cells": [
  {
   "cell_type": "markdown",
   "metadata": {},
   "source": [
    "Theorem <a class=\"ProveItLink\" href=\"../../_theorems_.ipynb#xInComplexesInBool\">xInComplexesInBool</a> of type <a class=\"ProveItLink\" href=\"../../../../../../../doc/html/api/proveit.logic.Forall.html\">Forall</a>\n",
    "=======================\n",
    "# from context <a class=\"ProveItLink\" href=\"../../_context_.ipynb\">proveit.number.sets.complex</a>\n",
    "*** see <a class=\"ProveItLink\" href=\"dependencies.ipynb\">dependencies</a> ***"
   ]
  },
  {
   "cell_type": "code",
   "execution_count": 1,
   "metadata": {},
   "outputs": [],
   "source": [
    "# import the special expression\n",
    "from proveit.number.sets.complex._theorems_ import xInComplexesInBool"
   ]
  },
  {
   "cell_type": "code",
   "execution_count": 2,
   "metadata": {},
   "outputs": [
    {
     "name": "stdout",
     "output_type": "stream",
     "text": [
      "Passed sanity check: built 'xInComplexesInBool' is the same as the stored Expression.\n"
     ]
    }
   ],
   "source": [
    "# check that the built expression is the same as the stored expression\n",
    "%check_expr xInComplexesInBool"
   ]
  },
  {
   "cell_type": "code",
   "execution_count": 3,
   "metadata": {},
   "outputs": [
    {
     "data": {
      "text/html": [
       "<table><tr><th>&nbsp;</th><th>core type</th><th>sub-expressions</th><th>expression</th></tr>\n",
       "<tr><td>0</td><td>Operation</td><td>operator:&nbsp;1<br>operand:&nbsp;2<br></td><td><a class=\"ProveItLink\" href=\"expr.ipynb\"><img src=\"data:image/png;base64,iVBORw0KGgoAAAANSUhEUgAAAJoAAAAVBAMAAABMN+opAAAAMFBMVEX///8QEBC6urrMzMxUVFRm\n",
       "ZmZERETc3NwyMjKqqqp2dnaIiIiYmJgiIiLu7u4AAAAU9Wx4AAAAAXRSTlMAQObYZgAAAjZJREFU\n",
       "OMtjYKAqeIAhwrQBgnEBHgXc4hdAjNPIoiZQjAXs7fh4LYAhGE10xbf+xmsTGEDiK0H8PmTJPnQB\n",
       "ODD6xPDqtwMDB7p4gjZf3yoGkHgZkMeegCTFvQGCsXiF5QADw3wHBp4FGKYxbAIaBRTnAAYc6wQk\n",
       "KcYHEIwAr3vv3gDR5xiBBKsDA58AqjjItDksD0DiPMvLy2uR9WpAMRww90DNDigBEnxAZ2eiioPd\n",
       "BvIjUPxbWtotZM1RUFy1pXIr2MNlUE18AVpQJUsZkMVBpjHfyYOIOzMwpCOb1gPBfAt47jCCIxwm\n",
       "y7xgDpQ1gwFZHGia7v2PGyDiKgx8DcimCUEwFwP3B04DkJMS4KbpQFmKDMjiYJ/ungYR52XgPoBs\n",
       "2icI5mNggShnkr17FxzafAlWUCX2KOJg09iYFoDFuQ/wPsBiGjBiIcmE2QGeEFmQTUOIg01jSACL\n",
       "8zWAEv5qpy0GEClJKGaoNwBnO74LME2nWKBZEeLTCximgcTTnYCh9MCNEZrociCYp2A/AzfY0T4w\n",
       "TWyHQDn4HgPDCQYUcbhPQeJTgZYwgaMSHv1APP9AIkM1WOAtPJe7ZD94lPYAlkIQ4kDTjm6DaoWE\n",
       "z3eYlC4EP9v1ajUkdthbDWCxGvtfBGREE6o4MNfnikyAivOA/MMswAzLWQUQjACcHtC4gwJYzsIl\n",
       "zmDP1cAFy9sLGDDzNQrg2kBA/NnO6HWESyQoeEGKeAkU4wTupIizb4BgXIDbAKc4ABbWpDRje11b\n",
       "AAAAAElFTkSuQmCC\n",
       "\" style=\"display:inline;vertical-align:middle;\" /></a></td></tr>\n",
       "<tr><td>1</td><td>Literal</td><td></td><td><a class=\"ProveItLink\" href=\"../../../../../logic/boolean/quantification/universal/__pv_it/265f8c02ac1094d56e0e6410a1c1fd3500dc9f540/expr.ipynb\"><img src=\"data:image/png;base64,iVBORw0KGgoAAAANSUhEUgAAAAwAAAAQBAMAAADQT4M0AAAAMFBMVEX///8QEBC6urrMzMxUVFRm\n",
       "ZmZERETc3NwyMjKqqqp2dnaIiIiYmJgiIiLu7u4AAAAU9Wx4AAAAAXRSTlMAQObYZgAAAFhJREFU\n",
       "CNdjeMAABhdAxGmGlSCqj6EMSLInMHAAJVknMPAsLy+vBYp8S0u7BaScGRjSgZQKA18DkOJl4D4A\n",
       "pLgP8IJM4mswARuX7gSmpoKNZWDcAKZ4gCoAgTQTILaSE58AAAAASUVORK5CYII=\n",
       "\" style=\"display:inline;vertical-align:middle;\" /></a></td></tr>\n",
       "<tr><td>2</td><td>Lambda</td><td>parameter:&nbsp;9<br>body:&nbsp;3<br></td><td><a class=\"ProveItLink\" href=\"../c2e34545c2866d59ed2eb5c86e16437df5b911c90/expr.ipynb\"><img src=\"data:image/png;base64,iVBORw0KGgoAAAANSUhEUgAAAKYAAAAVCAMAAAD7CGWeAAAANlBMVEX///+6uroUFBQNDQ0yMjJE\n",
       "RETMzMwQEBAiIiKYmJju7u5mZmaqqqpUVFSIiIh2dnbc3NwAAACltDI1AAAAAXRSTlMAQObYZgAA\n",
       "AgZJREFUSMfdVsm2YyEIxG5HnP//Z1vvKOq7MXknm2ZTJim0AIMA/KfGAsV3zbDv8neTnuKaBc15\n",
       "VlrYsrbymRt5Fjzzwnbb51f8qXGkuBQayyUlGHPYYuOv+KKWCjnGCEv8SVoCxaWygTfbwuVNpokr\n",
       "MiGwQ+BL/mgKKU4MA9fFrhwYBHUs7SYT1SP/lOlKeDjhr/x/OMVZhbmhIVhI/lK0y3BP/DubScDN\n",
       "TzH45II9y0gVOEeOjBR73/KN6A5FC6yrWrTwM/+UKbU5f6p8LHsYbUDpg6Spj2+34Ybg4FuOSH12\n",
       "Yy0fDb0tcJreTa1zVqHh10hDLms5l4m+2UgxgoMvoIBRJutksvuyjfy76MGJm1+T5Vvy3z+amMp3\n",
       "gz2XBw6+ZcfTjd9CZFd0mR/4l8wKkfBV2166bIJvnoFO5uA76/qlw/ofZU5fiUsmiJafsjxSM5Fp\n",
       "28ujHMXeF1CPbTPeMnEoul6QWfkmbdcLwlymJMkShuDgC2cnp07XHKA3omkKPOEPRS98lw2IojZd\n",
       "cuj7gtNWsuPoW9MzjgreixIIMnF0mLYhzfi7TGODuE5DEWJ5PINZa++6xalv4uOsIG3tL9cl5+yJ\n",
       "v48eQivvZvy1xzJRnJnznP5z+9dU/Y6/MkZE+HQcuNMVvsv/dJDrksO/y9+vkqf4vvn0Xf6hL1B8\n",
       "e2KVH/D/AecDFWSixBBDAAAAAElFTkSuQmCC\n",
       "\" style=\"display:inline;vertical-align:middle;\" /></a></td></tr>\n",
       "<tr><td>3</td><td>Operation</td><td>operator:&nbsp;7<br>operands:&nbsp;4<br></td><td><a class=\"ProveItLink\" href=\"../6fc03ae469bfe07242cd317159314802b37206b00/expr.ipynb\"><img src=\"data:image/png;base64,iVBORw0KGgoAAAANSUhEUgAAAGkAAAAVBAMAAAC3TN2zAAAAMFBMVEX////c3NwiIiJERESqqqqY\n",
       "mJh2dnZmZmYQEBDu7u4yMjJUVFTMzMyIiIi6uroAAAAs73DqAAAAAXRSTlMAQObYZgAAAaJJREFU\n",
       "OMtjYCAP8F3ALcf6AJfMaezCl1b9UC5gqEETzfq8foWyA5CxEqumc/8Ypv3dwMCFLm7wlnNlGgMD\n",
       "L1YHsnIHMDD4b2BgTcDQxXAPaBTHBGTBuYuUtEB0JAeQYN/AwNmAKg7S5co9geEVsiaepVAzCqSB\n",
       "BCfQGSao4mC7hBkYyoBMsdsi18EOFYZKchY8g6pKZ0AWB+niUbVkYFgKVJPAqsqhABIzhNmZ4Apl\n",
       "eTEgiwN1PdL/AbSgj4GBjYH3A8sBkBUGcF1PoawXDMjiYBfedWZg+AcUZOCGCPM1KSmBfc1pcAyq\n",
       "6jyKOFgXM18CSBcwICHBz7MBZuRKbmRdCHGwLgYDhhYQW/4AA8i/nAowyTCwrgkwFyqg6zIFRqnA\n",
       "fQZecChthUkyxwFt59NkYIhiQBGHuRAYtP4BFgyyYLFJ8NS623bCPOMJsJBHiAN1hV9mYHjEwDD5\n",
       "2rTcALAY4/IDsFAs+t8NUroOVRyYeo26gamXQwA5cbDsgoYVFMBSFLo4RvpEAWy4Mt9KfLpm4ZKQ\n",
       "xqdrIy4JRjwlAO8B7OIAg25vSRMyLXwAAAAASUVORK5CYII=\n",
       "\" style=\"display:inline;vertical-align:middle;\" /></a></td></tr>\n",
       "<tr><td>4</td><td>ExprTuple</td><td>5, 6</td><td><a class=\"ProveItLink\" href=\"../3c4e7b85f2e7598964f0ec90c77bcba441a846a90/expr.ipynb\"><img src=\"data:image/png;base64,iVBORw0KGgoAAAANSUhEUgAAAFgAAAAVBAMAAAAwfTS1AAAAMFBMVEX////c3NwiIiJERESqqqqY\n",
       "mJh2dnZmZmYQEBDu7u4yMjJUVFTMzMyIiIi6uroAAAAs73DqAAAAAXRSTlMAQObYZgAAAZFJREFU\n",
       "KM9jYCAJ8F0gTh3rAyBxGrvcpVU/lAvArKzP61coOzAw1ADZK7GqPfePYdrfDRC2wVvOlWkMDFwM\n",
       "DLxYXcHKHcDA4A9XzHAPqJI1gYFjArKiuYuUtEB0JAeQYEcoduWewMDZwPAKWS3PUqjWAmkgwXkB\n",
       "YbIwkDZhKAOSYrdFroMlhKFqOQueIRlh8JZH1RJIpzMsBUolsKpyKICEDWE2JLgiK36k/wNklhdD\n",
       "HwMDGwPvB5YDIAMN4IqfopjMcNcZSL9g+AdUw8ANUcXXpKQE9iCnwTFUxcx8CQwM50GKGRg4IF7h\n",
       "2QCTX8mNppjBAKS4BcSVP8AA8hqnAkw+DKx4AqriFwymwNAWuM/AC5bYClPMHAe0i08TohzmjChg\n",
       "eDD4B1gwyILVTHoAU73bdsI84wmcn6CKwy+Dg+4RA8Pka9NyA8BKGJcfgIVH0f/uBwyc/QLghGTU\n",
       "DUxIDOsYOASQo5BlFyS64ekXSRYY3cDkgS8RI7HZLuBKolgUzwJiaXyKkdPvRpCniMxWvAcYAIcE\n",
       "Z/1dAx5hAAAAAElFTkSuQmCC\n",
       "\" style=\"display:inline;vertical-align:middle;\" /></a></td></tr>\n",
       "<tr><td>5</td><td>Operation</td><td>operator:&nbsp;7<br>operands:&nbsp;8<br></td><td><a class=\"ProveItLink\" href=\"../e863a7e7eb6dd739260ac8539045be4185b819c10/expr.ipynb\"><img src=\"data:image/png;base64,iVBORw0KGgoAAAANSUhEUgAAADQAAAAPBAMAAABZ6/G2AAAAMFBMVEX///+6uroyMjJERETMzMwQ\n",
       "EBAiIiKYmJju7u5mZmaqqqpUVFSIiIh2dnbc3NwAAAAWgogoAAAAAXRSTlMAQObYZgAAAMxJREFU\n",
       "GNNjYMAGjil9TZ6AVcbxI0Pvnw3YZNi5CxgY1iNLcRxKS1MAMSpYgQQnspRTBZQx4TVI4QEGhren\n",
       "X50EUgx8FjDdE2ShjAvs6awJQAbzA6gUy4XlEAYvA88HLgcgo5kBLiUO1cXAbQBmiKalQZzBYeAL\n",
       "U8V6AEx5w92jwQ1jvXdgaABSbXCpWrBUAwP7g/MMPCApkD8hgLkQaA5jBsP6AlOGN2BLE+Hadts0\n",
       "NBo3MDSf7b0DUf9oCtyN0/5HC6CE3Wo1SEBBAQCOCzKzGibs5AAAAABJRU5ErkJggg==\n",
       "\" style=\"display:inline;vertical-align:middle;\" /></a></td></tr>\n",
       "<tr><td>6</td><td>Literal</td><td></td><td><a class=\"ProveItLink\" href=\"../../../../../logic/boolean/__pv_it/46271c8230be96415d662709611f4ed2279d702b0/expr.ipynb\"><img src=\"data:image/png;base64,iVBORw0KGgoAAAANSUhEUgAAAA0AAAAOBAMAAAAGUYvhAAAAMFBMVEX///9mZmbMzMzc3NxUVFSY\n",
       "mJju7u6IiIi6urqqqqoiIiIQEBBEREQyMjJ2dnYAAAAQvcRZAAAAAXRSTlMAQObYZgAAAElJREFU\n",
       "CNdjePvn/u01ExgYGA60s117B6YZKngh9FSWBAjfBsxnWnoMRHet/10AkS+fA6F5OB5AaIYDqDRU\n",
       "PLCGgQFoz6ktExgAgLIl8DFvGtkAAAAASUVORK5CYII=\n",
       "\" style=\"display:inline;vertical-align:middle;\" /></a></td></tr>\n",
       "<tr><td>7</td><td>Literal</td><td></td><td><a class=\"ProveItLink\" href=\"../../../../../logic/set_theory/membership/__pv_it/088cbc857536a28d4119ad9639a84270ccb0545d0/expr.ipynb\"><img src=\"data:image/png;base64,iVBORw0KGgoAAAANSUhEUgAAAAwAAAAMBAMAAACkW0HUAAAALVBMVEX///+qqqpmZmZUVFQQEBC6\n",
       "urpERETc3NyYmJjMzMwiIiIyMjKIiIju7u4AAACYsrA9AAAAAXRSTlMAQObYZgAAADxJREFUCNdj\n",
       "YOA9vWrVBgaG2b0MQMCeCyIZ2ArA1DUwyRCyahVIyWQI7xaEYm4AU7xLIdxqTQgtvGvVBgCkcQ7e\n",
       "geM/tQAAAABJRU5ErkJggg==\n",
       "\" style=\"display:inline;vertical-align:middle;\" /></a></td></tr>\n",
       "<tr><td>8</td><td>ExprTuple</td><td>9, 10</td><td><a class=\"ProveItLink\" href=\"../62925d13da517a3c236487c30d9fde7d9999fd630/expr.ipynb\"><img src=\"data:image/png;base64,iVBORw0KGgoAAAANSUhEUgAAADAAAAAVBAMAAADyTXAxAAAAMFBMVEX////c3NwiIiJERESqqqqY\n",
       "mJh2dnZmZmYQEBDu7u4yMjJUVFTMzMyIiIi6uroAAAAs73DqAAAAAXRSTlMAQObYZgAAARdJREFU\n",
       "KM9jYMAJ+C5girE+ABKnUcUurfqhXMBQA2StRBE/949h2t8NDFwMDLwoJrFyBzAw+G9gYE1g4JiA\n",
       "LBHJASTYNzBwNjC8QjGpQBpIcAINMWEoA7LEbotcB5vIWfAMqiKdYSmQm8CqyqEA4vIkuEIlvBj6\n",
       "GBjYGHg/sByASDyFSrxg+AfUwcBtAOFyGhyDSpwHSTAwcMDcvJIbLtECouQPMEBcHQaWmAAyyhTo\n",
       "K4H7DLwTwFLMcUC9fJoMDFFAdzH4B1gwyDJwfgIp3m07YZ7xBJBzHzEwTL42LTeAgbNfAOSuov/d\n",
       "oKBdx8AhAA9/AUQIAIMEGFywAEQKGrYLSMGOLDELiKVhHOTw3wjEjFiilvcAAwBMvUBRXVWnZwAA\n",
       "AABJRU5ErkJggg==\n",
       "\" style=\"display:inline;vertical-align:middle;\" /></a></td></tr>\n",
       "<tr><td>9</td><td>Variable</td><td></td><td><a class=\"ProveItLink\" href=\"../../../../../__pv_it/530be409e3083890784cf1d7b28c9e67e90af9360/expr.ipynb\"><img src=\"data:image/png;base64,iVBORw0KGgoAAAANSUhEUgAAAAsAAAAJBAMAAAAWSsseAAAAKlBMVEX///9ERETMzMwQEBAiIiKY\n",
       "mJju7u5mZmaqqqpUVFSIiIh2dnbc3NwAAAA/vyDhAAAAAXRSTlMAQObYZgAAAENJREFUCNdjYDi9\n",
       "8sTyBQxsG1hdmR0YuBm4LnAoMLAxcAowgADzAjB1VoEhgYH1wFoGrgSG3gBhhlMMDImrs3cFMAAA\n",
       "t0YN+iTRa+sAAAAASUVORK5CYII=\n",
       "\" style=\"display:inline;vertical-align:middle;\" /></a></td></tr>\n",
       "<tr><td>10</td><td>Literal</td><td></td><td><a class=\"ProveItLink\" href=\"../c357845f93a5a2d9f649129d299e7ec28dda4b960/expr.ipynb\"><img src=\"data:image/png;base64,iVBORw0KGgoAAAANSUhEUgAAAA8AAAAOBAMAAAACpFvcAAAAMFBMVEX////c3NyqqqqYmJhUVFR2\n",
       "dnbu7u66urrMzMxmZmZEREQQEBAyMjIiIiKIiIgAAAB7fvZ0AAAAAXRSTlMAQObYZgAAAGVJREFU\n",
       "CNdjYGDgu3N+70oGBgaO+gK2+CdAhoEzAwPTFwYG5oQNQN4UBgZORgcgI4+BIZM9gAEMWpkMoAx2\n",
       "KCOLAyrFk+AAYTAHgBhsQLy4DkjUJjAwsHg9Y6taBpLsvP/bnYEBACkBFGQfBv8RAAAAAElFTkSu\n",
       "QmCC\n",
       "\" style=\"display:inline;vertical-align:middle;\" /></a></td></tr>\n",
       "</table>\n"
      ],
      "text/plain": [
       "0. forall_{x} ((x in Complexes) in BOOLEANS)\n",
       "   core type: Operation\n",
       "   operator: 1\n",
       "   operand: 2\n",
       "1. forall\n",
       "   core type: Literal\n",
       "   sub-expressions: \n",
       "2. x -> ((x in Complexes) in BOOLEANS)\n",
       "   core type: Lambda\n",
       "   parameter: 9\n",
       "   body: 3\n",
       "3. (x in Complexes) in BOOLEANS\n",
       "   core type: Operation\n",
       "   operator: 7\n",
       "   operands: 4\n",
       "4. (x in Complexes , BOOLEANS)\n",
       "   core type: ExprTuple\n",
       "   sub-expressions: 5, 6\n",
       "5. x in Complexes\n",
       "   core type: Operation\n",
       "   operator: 7\n",
       "   operands: 8\n",
       "6. BOOLEANS\n",
       "   core type: Literal\n",
       "   sub-expressions: \n",
       "7. in\n",
       "   core type: Literal\n",
       "   sub-expressions: \n",
       "8. (x , Complexes)\n",
       "   core type: ExprTuple\n",
       "   sub-expressions: 9, 10\n",
       "9. x\n",
       "   core type: Variable\n",
       "   sub-expressions: \n",
       "10. Complexes\n",
       "    core type: Literal\n",
       "    sub-expressions: "
      ]
     },
     "execution_count": 3,
     "metadata": {},
     "output_type": "execute_result"
    }
   ],
   "source": [
    "# display the expression information\n",
    "xInComplexesInBool.exprInfo()"
   ]
  },
  {
   "cell_type": "code",
   "execution_count": null,
   "metadata": {},
   "outputs": [],
   "source": []
  }
 ],
 "metadata": {
  "kernelspec": {
   "display_name": "Python 3",
   "language": "python",
   "name": "python3"
  }
 },
 "nbformat": 4,
 "nbformat_minor": 0
}
