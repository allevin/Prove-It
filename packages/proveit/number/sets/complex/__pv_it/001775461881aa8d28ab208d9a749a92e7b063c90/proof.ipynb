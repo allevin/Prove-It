{
 "cells": [
  {
   "cell_type": "markdown",
   "metadata": {},
   "source": [
    "Show the Proof\n",
    "========"
   ]
  },
  {
   "cell_type": "code",
   "execution_count": 1,
   "metadata": {},
   "outputs": [
    {
     "data": {
      "text/html": [
       "<table><tr><th>&nbsp;</th><th>step type</th><th>requirements</th><th>statement</th></tr>\n",
       "<tr><td>0</td><td>specialization</td><td>1</td><td><span style=\"font-size:20px;\"> <a class=\"ProveItLink\" href=\"proof.ipynb\" style=\"text-decoration: none\">&#x22A2;&nbsp;</a><a class=\"ProveItLink\" href=\"../6fc03ae469bfe07242cd317159314802b37206b00/expr.ipynb\"><img src=\"data:image/png;base64,iVBORw0KGgoAAAANSUhEUgAAAGkAAAAVBAMAAAC3TN2zAAAAMFBMVEX////c3NwiIiJERESqqqqY\n",
       "mJh2dnZmZmYQEBDu7u4yMjJUVFTMzMyIiIi6uroAAAAs73DqAAAAAXRSTlMAQObYZgAAAaJJREFU\n",
       "OMtjYCAP8F3ALcf6AJfMaezCl1b9UC5gqEETzfq8foWyA5CxEqumc/8Ypv3dwMCFLm7wlnNlGgMD\n",
       "L1YHsnIHMDD4b2BgTcDQxXAPaBTHBGTBuYuUtEB0JAeQYN/AwNmAKg7S5co9geEVsiaepVAzCqSB\n",
       "BCfQGSao4mC7hBkYyoBMsdsi18EOFYZKchY8g6pKZ0AWB+niUbVkYFgKVJPAqsqhABIzhNmZ4Apl\n",
       "eTEgiwN1PdL/AbSgj4GBjYH3A8sBkBUGcF1PoawXDMjiYBfedWZg+AcUZOCGCPM1KSmBfc1pcAyq\n",
       "6jyKOFgXM18CSBcwICHBz7MBZuRKbmRdCHGwLgYDhhYQW/4AA8i/nAowyTCwrgkwFyqg6zIFRqnA\n",
       "fQZecChthUkyxwFt59NkYIhiQBGHuRAYtP4BFgyyYLFJ8NS623bCPOMJsJBHiAN1hV9mYHjEwDD5\n",
       "2rTcALAY4/IDsFAs+t8NUroOVRyYeo26gamXQwA5cbDsgoYVFMBSFLo4RvpEAWy4Mt9KfLpm4ZKQ\n",
       "xqdrIy4JRjwlAO8B7OIAg25vSRMyLXwAAAAASUVORK5CYII=\n",
       "\" style=\"display:inline;vertical-align:middle;\" /></a></span></td></tr>\n",
       "<tr><td>&nbsp;</td><td colspan=4 style=\"text-align:left\"><span style=\"font-size:20px;\"><a class=\"ProveItLink\" href=\"../../../../../__pv_it/530be409e3083890784cf1d7b28c9e67e90af9360/expr.ipynb\"><img src=\"data:image/png;base64,iVBORw0KGgoAAAANSUhEUgAAAAsAAAAJBAMAAAAWSsseAAAAKlBMVEX///9ERETMzMwQEBAiIiKY\n",
       "mJju7u5mZmaqqqpUVFSIiIh2dnbc3NwAAAA/vyDhAAAAAXRSTlMAQObYZgAAAENJREFUCNdjYDi9\n",
       "8sTyBQxsG1hdmR0YuBm4LnAoMLAxcAowgADzAjB1VoEhgYH1wFoGrgSG3gBhhlMMDImrs3cFMAAA\n",
       "t0YN+iTRa+sAAAAASUVORK5CYII=\n",
       "\" style=\"display:inline;vertical-align:middle;\" /></a> : <a class=\"ProveItLink\" href=\"../../../../../__pv_it/530be409e3083890784cf1d7b28c9e67e90af9360/expr.ipynb\"><img src=\"data:image/png;base64,iVBORw0KGgoAAAANSUhEUgAAAAsAAAAJBAMAAAAWSsseAAAAKlBMVEX///9ERETMzMwQEBAiIiKY\n",
       "mJju7u5mZmaqqqpUVFSIiIh2dnbc3NwAAAA/vyDhAAAAAXRSTlMAQObYZgAAAENJREFUCNdjYDi9\n",
       "8sTyBQxsG1hdmR0YuBm4LnAoMLAxcAowgADzAjB1VoEhgYH1wFoGrgSG3gBhhlMMDImrs3cFMAAA\n",
       "t0YN+iTRa+sAAAAASUVORK5CYII=\n",
       "\" style=\"display:inline;vertical-align:middle;\" /></a></span></td></tr><tr><td>1</td><td>theorem</td><td></td><td><span style=\"font-size:20px;\"> <a class=\"ProveItLink\" href=\"../../_proofs_/xInComplexesInBool.ipynb\" style=\"text-decoration: none\">&#x22A2;&nbsp;</a><a class=\"ProveItLink\" href=\"../725c82da6c3ae2855f6b3a92b90d1592890a43050/expr.ipynb\"><img src=\"data:image/png;base64,iVBORw0KGgoAAAANSUhEUgAAAJoAAAAVBAMAAABMN+opAAAAMFBMVEX///8QEBC6urrMzMxUVFRm\n",
       "ZmZERETc3NwyMjKqqqp2dnaIiIiYmJgiIiLu7u4AAAAU9Wx4AAAAAXRSTlMAQObYZgAAAjZJREFU\n",
       "OMtjYKAqeIAhwrQBgnEBHgXc4hdAjNPIoiZQjAXs7fh4LYAhGE10xbf+xmsTGEDiK0H8PmTJPnQB\n",
       "ODD6xPDqtwMDB7p4gjZf3yoGkHgZkMeegCTFvQGCsXiF5QADw3wHBp4FGKYxbAIaBRTnAAYc6wQk\n",
       "KcYHEIwAr3vv3gDR5xiBBKsDA58AqjjItDksD0DiPMvLy2uR9WpAMRww90DNDigBEnxAZ2eiioPd\n",
       "BvIjUPxbWtotZM1RUFy1pXIr2MNlUE18AVpQJUsZkMVBpjHfyYOIOzMwpCOb1gPBfAt47jCCIxwm\n",
       "y7xgDpQ1gwFZHGia7v2PGyDiKgx8DcimCUEwFwP3B04DkJMS4KbpQFmKDMjiYJ/ungYR52XgPoBs\n",
       "2icI5mNggShnkr17FxzafAlWUCX2KOJg09iYFoDFuQ/wPsBiGjBiIcmE2QGeEFmQTUOIg01jSACL\n",
       "8zWAEv5qpy0GEClJKGaoNwBnO74LME2nWKBZEeLTCximgcTTnYCh9MCNEZrociCYp2A/AzfY0T4w\n",
       "TWyHQDn4HgPDCQYUcbhPQeJTgZYwgaMSHv1APP9AIkM1WOAtPJe7ZD94lPYAlkIQ4kDTjm6DaoWE\n",
       "z3eYlC4EP9v1ajUkdthbDWCxGvtfBGREE6o4MNfnikyAivOA/MMswAzLWQUQjACcHtC4gwJYzsIl\n",
       "zmDP1cAFy9sLGDDzNQrg2kBA/NnO6HWESyQoeEGKeAkU4wTupIizb4BgXIDbAKc4ABbWpDRje11b\n",
       "AAAAAElFTkSuQmCC\n",
       "\" style=\"display:inline;vertical-align:middle;\" /></a></span></td></tr>\n",
       "<tr><td>&nbsp;</td><td colspan=4 style-\"text-align:left\"><a class=\"ProveItLink\" href=\"../../_proofs_/xInComplexesInBool.ipynb\">proveit.number.sets.complex.xInComplexesInBool</a></td></tr></table>"
      ],
      "text/plain": [
       "<proveit._core_.proof._ShowProof at 0x7f950c5b6b38>"
      ]
     },
     "execution_count": 1,
     "metadata": {},
     "output_type": "execute_result"
    }
   ],
   "source": [
    "import proveit\n",
    "%show_proof"
   ]
  },
  {
   "cell_type": "code",
   "execution_count": null,
   "metadata": {},
   "outputs": [],
   "source": []
  }
 ],
 "metadata": {
  "kernelspec": {
   "display_name": "Python 3",
   "language": "python",
   "name": "python3"
  }
 },
 "nbformat": 4,
 "nbformat_minor": 0
}
