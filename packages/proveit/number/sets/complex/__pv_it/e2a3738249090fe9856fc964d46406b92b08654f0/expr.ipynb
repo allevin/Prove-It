{
 "cells": [
  {
   "cell_type": "markdown",
   "metadata": {},
   "source": [
    "Theorem <a class=\"ProveItLink\" href=\"../../_theorems_.ipynb#realsInComplexes\">realsInComplexes</a> of type <a class=\"ProveItLink\" href=\"../../../../../../../doc/html/api/proveit.logic.Subset.html\">Subset</a>\n",
    "=======================\n",
    "# from context <a class=\"ProveItLink\" href=\"../../_context_.ipynb\">proveit.number.sets.complex</a>\n",
    "*** see <a class=\"ProveItLink\" href=\"dependencies.ipynb\">dependencies</a> ***"
   ]
  },
  {
   "cell_type": "code",
   "execution_count": 1,
   "metadata": {},
   "outputs": [],
   "source": [
    "# import the special expression\n",
    "from proveit.number.sets.complex._theorems_ import realsInComplexes"
   ]
  },
  {
   "cell_type": "code",
   "execution_count": 2,
   "metadata": {},
   "outputs": [
    {
     "name": "stdout",
     "output_type": "stream",
     "text": [
      "Passed sanity check: built 'realsInComplexes' is the same as the stored Expression.\n"
     ]
    }
   ],
   "source": [
    "# check that the built expression is the same as the stored expression\n",
    "%check_expr realsInComplexes"
   ]
  },
  {
   "cell_type": "code",
   "execution_count": 3,
   "metadata": {},
   "outputs": [
    {
     "data": {
      "text/html": [
       "<table><tr><th>&nbsp;</th><th>core type</th><th>sub-expressions</th><th>expression</th></tr>\n",
       "<tr><td>0</td><td>Operation</td><td>operator:&nbsp;1<br>operands:&nbsp;2<br></td><td><a class=\"ProveItLink\" href=\"expr.ipynb\"><img src=\"data:image/png;base64,iVBORw0KGgoAAAANSUhEUgAAADoAAAAPBAMAAABHIsEFAAAAMFBMVEX///8iIiK6urp2dnbu7u5m\n",
       "ZmaqqqrMzMxUVFTc3NyIiIgQEBBEREQyMjKYmJgAAAA9nvXMAAAAAXRSTlMAQObYZgAAANtJREFU\n",
       "GNNjePvn/N29CxgwwMK7v2UCGBgOzGCoyZ2ALln0icH5VwNQdioDj+cBNEk+jgcMDPkQWeYCqOxa\n",
       "QUFBIRDjCTeQYEWVLVwC0xswA0iwLADLckBM5pSESbIEKENZQFnFt2BXcSjAZNkN8mCyswVlE8As\n",
       "XwaErB5cryqPA5hVAZdlOVAMl2VVb0CTZbjCgbD3yjowixEh+xgs6wCWreAoAHFYE+CyPI+AvmES\n",
       "gfg34STYNiGE5o5TDk5nHBiAsXCc4c59sDbfcISrA//vUEALXo2L0JCEAgAHiEO2r66d8wAAAABJ\n",
       "RU5ErkJggg==\n",
       "\" style=\"display:inline;vertical-align:middle;\" /></a></td></tr>\n",
       "<tr><td>1</td><td>Literal</td><td></td><td><a class=\"ProveItLink\" href=\"../../../../../logic/set_theory/containment/__pv_it/8abd5f716af72ef69ffdc0b40f17a6fa6115e4300/expr.ipynb\"><img src=\"data:image/png;base64,iVBORw0KGgoAAAANSUhEUgAAAA4AAAAMBAMAAACgrpHpAAAAJFBMVEX///+qqqpmZmZUVFTc3Nzu\n",
       "7u7MzMy6uroiIiIyMjKIiIgAAABMlAC/AAAAAXRSTlMAQObYZgAAADdJREFUCNdjYGBY2dHR0c7A\n",
       "kLGUAQRYWsAUA3MBhI6EUAzJaDQHlGYSgNCs7VCBSDUoo3gG0FwA+8MJt4mISzAAAAAASUVORK5C\n",
       "YII=\n",
       "\" style=\"display:inline;vertical-align:middle;\" /></a></td></tr>\n",
       "<tr><td>2</td><td>ExprTuple</td><td>3, 4</td><td><a class=\"ProveItLink\" href=\"../12d161af099f4b1496ca46317dddaa38d1b74c350/expr.ipynb\"><img src=\"data:image/png;base64,iVBORw0KGgoAAAANSUhEUgAAADMAAAAVBAMAAAAZessyAAAAMFBMVEX////c3NwiIiJERESqqqqY\n",
       "mJh2dnZmZmYQEBDu7u4yMjJUVFTMzMyIiIi6uroAAAAs73DqAAAAAXRSTlMAQObYZgAAATFJREFU\n",
       "KM9jYMAD+C5gE40DEacZoj7br+qCK+DVWt9kzsB+AMhcycBgIM1w2EsAIsPz/gFn/m0GhgVARUDl\n",
       "BuIMzBMNIFIBWxkYWH4zMIQxMHBMAEuxHYBIsU5oAJLVDAwzGBheMaBIsTNuAJJzGRiYHRjKIFLc\n",
       "UAOn8yVADGYrYFgKkXoUBXHGMZYAiBTLAoY+kJSEkpYDROQYH1SKr4HhH1jXc+YJEJHJPFADeT5A\n",
       "pdjfbICIcE3YAJdqgdi18ipEhDUBJMUJNtAUInWa+wBIgIHB9C2QeDSBgXUBQzrUXw6GDPMVgGzu\n",
       "zTc5H1uCHf+IARS8NgyL1zvM+AjSdlz/xz6QpQ8YOAQQMfEQKVZmgOxFcAOQpHIhkYJFihMYKQzS\n",
       "cC4vkiZukD2MWBPAHQYGAFr2S9BSKQhgAAAAAElFTkSuQmCC\n",
       "\" style=\"display:inline;vertical-align:middle;\" /></a></td></tr>\n",
       "<tr><td>3</td><td>Literal</td><td></td><td><a class=\"ProveItLink\" href=\"../../../real/__pv_it/9e7645ee1117062e179dd6264898f99ed95b157c0/expr.ipynb\"><img src=\"data:image/png;base64,iVBORw0KGgoAAAANSUhEUgAAAA8AAAAOBAMAAAACpFvcAAAAMFBMVEX///8iIiK6urp2dnbu7u5m\n",
       "ZmaqqqrMzMxUVFTc3NyIiIgQEBBEREQyMjKYmJgAAAA9nvXMAAAAAXRSTlMAQObYZgAAAFJJREFU\n",
       "CNdjePvn/N29CxiA4MAMhprcCSDGVAYezwMQBnMBOoMDJqX4Fqx4tqBsAlj7VFUeBwiDVb0BwmC4\n",
       "sg7KqOAogJqTcJKBAWjpcYY79xMAyqEnfsw4ApEAAAAASUVORK5CYII=\n",
       "\" style=\"display:inline;vertical-align:middle;\" /></a></td></tr>\n",
       "<tr><td>4</td><td>Literal</td><td></td><td><a class=\"ProveItLink\" href=\"../c357845f93a5a2d9f649129d299e7ec28dda4b960/expr.ipynb\"><img src=\"data:image/png;base64,iVBORw0KGgoAAAANSUhEUgAAAA8AAAAOBAMAAAACpFvcAAAAMFBMVEX////c3NyqqqqYmJhUVFR2\n",
       "dnbu7u66urrMzMxmZmZEREQQEBAyMjIiIiKIiIgAAAB7fvZ0AAAAAXRSTlMAQObYZgAAAGVJREFU\n",
       "CNdjYGDgu3N+70oGBgaO+gK2+CdAhoEzAwPTFwYG5oQNQN4UBgZORgcgI4+BIZM9gAEMWpkMoAx2\n",
       "KCOLAyrFk+AAYTAHgBhsQLy4DkjUJjAwsHg9Y6taBpLsvP/bnYEBACkBFGQfBv8RAAAAAElFTkSu\n",
       "QmCC\n",
       "\" style=\"display:inline;vertical-align:middle;\" /></a></td></tr>\n",
       "</table>\n"
      ],
      "text/plain": [
       "0. Reals subset Complexes\n",
       "   core type: Operation\n",
       "   operator: 1\n",
       "   operands: 2\n",
       "1. subset\n",
       "   core type: Literal\n",
       "   sub-expressions: \n",
       "2. (Reals , Complexes)\n",
       "   core type: ExprTuple\n",
       "   sub-expressions: 3, 4\n",
       "3. Reals\n",
       "   core type: Literal\n",
       "   sub-expressions: \n",
       "4. Complexes\n",
       "   core type: Literal\n",
       "   sub-expressions: "
      ]
     },
     "execution_count": 3,
     "metadata": {},
     "output_type": "execute_result"
    }
   ],
   "source": [
    "# display the expression information\n",
    "realsInComplexes.exprInfo()"
   ]
  },
  {
   "cell_type": "code",
   "execution_count": null,
   "metadata": {},
   "outputs": [],
   "source": []
  }
 ],
 "metadata": {
  "kernelspec": {
   "display_name": "Python 3",
   "language": "python",
   "name": "python3"
  }
 },
 "nbformat": 4,
 "nbformat_minor": 0
}
