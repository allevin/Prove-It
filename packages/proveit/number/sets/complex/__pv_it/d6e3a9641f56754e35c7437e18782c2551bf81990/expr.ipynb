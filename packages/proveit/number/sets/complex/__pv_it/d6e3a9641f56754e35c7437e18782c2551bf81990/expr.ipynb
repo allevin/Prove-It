{
 "cells": [
  {
   "cell_type": "markdown",
   "metadata": {},
   "source": [
    "Expression of type <a class=\"ProveItLink\" href=\"../../../../../../../doc/html/api/proveit.ExprTuple.html\">ExprTuple</a>\n",
    "=======================\n",
    "# from context <a class=\"ProveItLink\" href=\"../../_context_.ipynb\">proveit.number.sets.complex</a>"
   ]
  },
  {
   "cell_type": "code",
   "execution_count": 1,
   "metadata": {},
   "outputs": [],
   "source": [
    "# import Expression classes needed to build the expression\n",
    "from proveit import ExprTuple\n",
    "from proveit.number import Complexes, RealsPos"
   ]
  },
  {
   "cell_type": "code",
   "execution_count": 2,
   "metadata": {},
   "outputs": [
    {
     "data": {
      "text/html": [
       "<strong id=\"expr\">expr:</strong> <a class=\"ProveItLink\" href=\"expr.ipynb\"><img src=\"data:image/png;base64,iVBORw0KGgoAAAANSUhEUgAAAEIAAAAbBAMAAAA6+0TkAAAAMFBMVEX///+qqqp2dnYiIiJERESI\n",
       "iIhmZmYQEBDc3NyYmJgyMjLu7u5UVFTMzMy6uroAAACGxKilAAAAAXRSTlMAQObYZgAAAW9JREFU\n",
       "KM9jYEAGjAxYwTsEkwVdTgFE8B7Ao+IOiNi1AY8K1gAgcZIBjwoGCwYGjgKGWV/8V1UFoKlgtVpf\n",
       "7MbAEMPAwJbAwODQw3BFqoHh1Krlq1YFQBTwvn/ArQ+U3r+Bgf0BUEUbA8sOBxQzJgAtZ/zDwMA8\n",
       "geE+A1gF0wUUFZwbCoBkDtAKB4ZwrCrYOEBhsBWo9APDKYgKHlRbtvEpQBh8vxl8ICoez2oAMnhg\n",
       "Ki4xToC6+C/DMpCKdmMrAZRguMQHVcHxj8EMbMYzlg0oKrbwQm3h/ghVwfb2AIoKrg0H4Gasgbhj\n",
       "dSSKCk4FkApuoIq/DEcgKu7wXIDJcoMIz6dA4vEGBr4fDMHQ8BDwgKnYbwDy1ZFo7ife4PB4zwCK\n",
       "OV+GJethvtn+A0Res/9+DkgxLWDgv4AR4y+QnRzAwKOAoWICEnt/AwOvAV4VU4DYESPlIXNsgbiL\n",
       "AQ/gTADlEQU8KlrA5EQ8KrIZiAAA/oNgAZOr6o8AAAAASUVORK5CYII=\n",
       "\" style=\"display:inline;vertical-align:middle;\" /></a><br>"
      ],
      "text/plain": [
       "expr: (RealsPos , Complexes)"
      ]
     },
     "execution_count": 2,
     "metadata": {},
     "output_type": "execute_result"
    }
   ],
   "source": [
    "# build up the expression from sub-expressions\n",
    "expr = ExprTuple(RealsPos, Complexes)"
   ]
  },
  {
   "cell_type": "code",
   "execution_count": 3,
   "metadata": {},
   "outputs": [
    {
     "name": "stdout",
     "output_type": "stream",
     "text": [
      "Passed sanity check: built 'expr' is the same as the stored Expression.\n"
     ]
    }
   ],
   "source": [
    "# check that the built expression is the same as the stored expression\n",
    "%check_expr"
   ]
  },
  {
   "cell_type": "code",
   "execution_count": 4,
   "metadata": {},
   "outputs": [
    {
     "data": {
      "text/html": [
       "<table><tr><th>&nbsp;</th><th>core type</th><th>sub-expressions</th><th>expression</th></tr>\n",
       "<tr><td>0</td><td>ExprTuple</td><td>1, 2</td><td><a class=\"ProveItLink\" href=\"expr.ipynb\"><img src=\"data:image/png;base64,iVBORw0KGgoAAAANSUhEUgAAAEIAAAAbBAMAAAA6+0TkAAAAMFBMVEX///+qqqp2dnYiIiJERESI\n",
       "iIhmZmYQEBDc3NyYmJgyMjLu7u5UVFTMzMy6uroAAACGxKilAAAAAXRSTlMAQObYZgAAAW9JREFU\n",
       "KM9jYEAGjAxYwTsEkwVdTgFE8B7Ao+IOiNi1AY8K1gAgcZIBjwoGCwYGjgKGWV/8V1UFoKlgtVpf\n",
       "7MbAEMPAwJbAwODQw3BFqoHh1Krlq1YFQBTwvn/ArQ+U3r+Bgf0BUEUbA8sOBxQzJgAtZ/zDwMA8\n",
       "geE+A1gF0wUUFZwbCoBkDtAKB4ZwrCrYOEBhsBWo9APDKYgKHlRbtvEpQBh8vxl8ICoez2oAMnhg\n",
       "Ki4xToC6+C/DMpCKdmMrAZRguMQHVcHxj8EMbMYzlg0oKrbwQm3h/ghVwfb2AIoKrg0H4Gasgbhj\n",
       "dSSKCk4FkApuoIq/DEcgKu7wXIDJcoMIz6dA4vEGBr4fDMHQ8BDwgKnYbwDy1ZFo7ife4PB4zwCK\n",
       "OV+GJethvtn+A0Res/9+DkgxLWDgv4AR4y+QnRzAwKOAoWICEnt/AwOvAV4VU4DYESPlIXNsgbiL\n",
       "AQ/gTADlEQU8KlrA5EQ8KrIZiAAA/oNgAZOr6o8AAAAASUVORK5CYII=\n",
       "\" style=\"display:inline;vertical-align:middle;\" /></a></td></tr>\n",
       "<tr><td>1</td><td>Literal</td><td></td><td><a class=\"ProveItLink\" href=\"../../../real/__pv_it/399ccec6a6e90df280e82734a8711cdb89199bc00/expr.ipynb\"><img src=\"data:image/png;base64,iVBORw0KGgoAAAANSUhEUgAAABsAAAATBAMAAACTqWsLAAAAMFBMVEX///8iIiK6urp2dnbu7u5m\n",
       "ZmaqqqrMzMxUVFTc3NyIiIgQEBBEREQyMjKYmJgAAAA9nvXMAAAAAXRSTlMAQObYZgAAAGxJREFU\n",
       "GNNjYIADNgYUwEMy9+2f83f3LkDIHpjBUJM7gaH37u27d4HCB6Yy8HgeQMhOZWAuwMflQFWs+HYC\n",
       "kMEB4c4WlE1A2H5gqiqPAzKXVb0BmctwZR0Kt4KjAJnLnHASxgN64TjDnftQswFmaSyXIBgH2QAA\n",
       "AABJRU5ErkJggg==\n",
       "\" style=\"display:inline;vertical-align:middle;\" /></a></td></tr>\n",
       "<tr><td>2</td><td>Literal</td><td></td><td><a class=\"ProveItLink\" href=\"../c357845f93a5a2d9f649129d299e7ec28dda4b960/expr.ipynb\"><img src=\"data:image/png;base64,iVBORw0KGgoAAAANSUhEUgAAAA8AAAAOBAMAAAACpFvcAAAAMFBMVEX////c3NyqqqqYmJhUVFR2\n",
       "dnbu7u66urrMzMxmZmZEREQQEBAyMjIiIiKIiIgAAAB7fvZ0AAAAAXRSTlMAQObYZgAAAGVJREFU\n",
       "CNdjYGDgu3N+70oGBgaO+gK2+CdAhoEzAwPTFwYG5oQNQN4UBgZORgcgI4+BIZM9gAEMWpkMoAx2\n",
       "KCOLAyrFk+AAYTAHgBhsQLy4DkjUJjAwsHg9Y6taBpLsvP/bnYEBACkBFGQfBv8RAAAAAElFTkSu\n",
       "QmCC\n",
       "\" style=\"display:inline;vertical-align:middle;\" /></a></td></tr>\n",
       "</table>\n"
      ],
      "text/plain": [
       "0. (RealsPos , Complexes)\n",
       "   core type: ExprTuple\n",
       "   sub-expressions: 1, 2\n",
       "1. RealsPos\n",
       "   core type: Literal\n",
       "   sub-expressions: \n",
       "2. Complexes\n",
       "   core type: Literal\n",
       "   sub-expressions: "
      ]
     },
     "execution_count": 4,
     "metadata": {},
     "output_type": "execute_result"
    }
   ],
   "source": [
    "# display the expression information\n",
    "expr.exprInfo()"
   ]
  },
  {
   "cell_type": "code",
   "execution_count": null,
   "metadata": {},
   "outputs": [],
   "source": []
  }
 ],
 "metadata": {
  "kernelspec": {
   "display_name": "Python 3",
   "language": "python",
   "name": "python3"
  }
 },
 "nbformat": 4,
 "nbformat_minor": 0
}
