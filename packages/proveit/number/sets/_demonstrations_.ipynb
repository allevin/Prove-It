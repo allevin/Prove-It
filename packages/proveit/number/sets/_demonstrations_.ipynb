{
 "cells": [
  {
   "cell_type": "markdown",
   "metadata": {
    "collapsed": true
   },
   "source": [
    "Demonstrations for context <a class=\"ProveItLink\" href=\"_context_.ipynb\">proveit.number.sets</a>\n",
    "========"
   ]
  },
  {
   "cell_type": "code",
   "execution_count": 1,
   "metadata": {},
   "outputs": [],
   "source": [
    "import proveit\n",
    "from proveit import Function, defaults, Variable, Literal\n",
    "from proveit._common_ import n, q, a, b, p, x, y, aPrime, bPrime, G, P, Py, alpha\n",
    "from proveit.number import one, two, four, Sqrt, Reals, NaturalsPos\n",
    "from proveit.number import Frac, Mult, Exp, Greater, GCD, Divides\n",
    "from proveit.number.sets.real._common_ import Rationals, RationalsPos\n",
    "from proveit.number.sets.real._axioms_ import rationalsDef, rationalsPosDef\n",
    "from proveit.number.sets.integer.naturals import NaturalsPosSet\n",
    "from proveit.logic import InSet, Forall, Implies, Exists, Equals, And, Not, Booleans\n",
    "from proveit._core_.proof import Theorem\n",
    "from proveit import Context, Operation\n",
    "from proveit.number.sets._theorems_ import t4, t5, t6, t8, t9a, t9b, t10, t11, t12\n",
    "from proveit.number.numeral.deci._theorems_ import less_1_2, mult_2_2, posnat2\n",
    "%begin demonstrations"
   ]
  },
  {
   "cell_type": "code",
   "execution_count": 2,
   "metadata": {},
   "outputs": [],
   "source": [
    "context = Context('.')"
   ]
  },
  {
   "cell_type": "markdown",
   "metadata": {},
   "source": [
    "## Some Useful Functions & Operations:\n",
    "GCD Function and Divides Operation are defined in separate .py files in prove"
   ]
  },
  {
   "cell_type": "code",
   "execution_count": 3,
   "metadata": {},
   "outputs": [
    {
     "data": {
      "text/html": [
       "<strong id=\"testGCDExpr\">testGCDExpr:</strong> <a class=\"ProveItLink\" href=\"__pv_it/38fab076e746e6d8d142f7d50f37e95c9e193f4a0/expr.ipynb\"><img src=\"__pv_it/38fab076e746e6d8d142f7d50f37e95c9e193f4a0/expr.png\" style=\"display:inline;vertical-align:middle;\" /></a><br>"
      ],
      "text/plain": [
       "testGCDExpr: gcd(a , b)"
      ]
     },
     "execution_count": 3,
     "metadata": {},
     "output_type": "execute_result"
    }
   ],
   "source": [
    "testGCDExpr = GCD(a, b)"
   ]
  },
  {
   "cell_type": "code",
   "execution_count": 4,
   "metadata": {},
   "outputs": [
    {
     "data": {
      "text/html": [
       "<strong id=\"testDivides\">testDivides:</strong> <a class=\"ProveItLink\" href=\"__pv_it/f715692c1bdcff1aaffd90b118936df89c123e470/expr.ipynb\"><img src=\"__pv_it/f715692c1bdcff1aaffd90b118936df89c123e470/expr.png\" style=\"display:inline;vertical-align:middle;\" /></a><br>"
      ],
      "text/plain": [
       "testDivides: a | b"
      ]
     },
     "execution_count": 4,
     "metadata": {},
     "output_type": "execute_result"
    }
   ],
   "source": [
    "testDivides = Divides(a, b)"
   ]
  },
  {
   "cell_type": "markdown",
   "metadata": {},
   "source": [
    "## Some Useful Theorems"
   ]
  },
  {
   "cell_type": "code",
   "execution_count": 5,
   "metadata": {},
   "outputs": [
    {
     "data": {
      "text/html": [
       "<table><tr><th>&nbsp;</th><th>step type</th><th>requirements</th><th>statement</th></tr>\n",
       "<tr><td>0</td><td>theorem</td><td></td><td><span style=\"font-size:20px;\"> &#x22A2;&nbsp;<a class=\"ProveItLink\" href=\"__pv_it/884fd08b7af19954cacc623c29ad5d8e083c76730/expr.ipynb\"><img src=\"__pv_it/884fd08b7af19954cacc623c29ad5d8e083c76730/expr.png\" style=\"display:inline;vertical-align:middle;\" /></a></span></td></tr>\n",
       "<tr><td>&nbsp;</td><td colspan=4 style-\"text-align:left\"><a class=\"ProveItLink\" href=\"_proofs_/SkolemizationThm.ipynb\">proveit.number.sets.SkolemizationThm</a></td></tr></table>"
      ],
      "text/plain": [
       "proveit.number.sets.SkolemizationThm"
      ]
     },
     "execution_count": 5,
     "metadata": {},
     "output_type": "execute_result"
    }
   ],
   "source": [
    "yStar = Variable('y*', r'y^{*}')\n",
    "PyStar = Function(P, yStar)\n",
    "Theorem(Forall([P, alpha], alpha, conditions=[Exists(y, Py), Implies(PyStar, alpha)]), context, 'SkolemizationThm')"
   ]
  },
  {
   "cell_type": "code",
   "execution_count": 6,
   "metadata": {},
   "outputs": [
    {
     "data": {
      "text/html": [
       "<strong id=\"t1\">t1:</strong> <span style=\"font-size:20px;\"> &#x22A2;&nbsp;<a class=\"ProveItLink\" href=\"../numeral/deci/__pv_it/cc8f030bf3f8fa8886abea87852067059d7e0b5a0/expr.ipynb\"><img src=\"../numeral/deci/__pv_it/cc8f030bf3f8fa8886abea87852067059d7e0b5a0/expr.png\" style=\"display:inline;vertical-align:middle;\" /></a></span><br>"
      ],
      "text/plain": [
       "t1: |= 2 in NaturalsPos"
      ]
     },
     "execution_count": 6,
     "metadata": {},
     "output_type": "execute_result"
    }
   ],
   "source": [
    "t1 = posnat2"
   ]
  },
  {
   "cell_type": "code",
   "execution_count": 7,
   "metadata": {},
   "outputs": [
    {
     "data": {
      "text/html": [
       "<strong id=\"t2\">t2:</strong> <span style=\"font-size:20px;\"> &#x22A2;&nbsp;<a class=\"ProveItLink\" href=\"../numeral/deci/__pv_it/9b27e8fa879d028e01d5a8e99383ba8b3715a3240/expr.ipynb\"><img src=\"../numeral/deci/__pv_it/9b27e8fa879d028e01d5a8e99383ba8b3715a3240/expr.png\" style=\"display:inline;vertical-align:middle;\" /></a></span><br>"
      ],
      "text/plain": [
       "t2: |= (2 * 2) = 4"
      ]
     },
     "execution_count": 7,
     "metadata": {},
     "output_type": "execute_result"
    }
   ],
   "source": [
    "t2 = mult_2_2"
   ]
  },
  {
   "cell_type": "code",
   "execution_count": 8,
   "metadata": {},
   "outputs": [
    {
     "data": {
      "text/html": [
       "<strong id=\"t3\">t3:</strong> <span style=\"font-size:20px;\"> &#x22A2;&nbsp;<a class=\"ProveItLink\" href=\"__pv_it/ce75cc66521bda1bb956f5b4b4019afcbb77ff9d0/expr.ipynb\"><img src=\"__pv_it/ce75cc66521bda1bb956f5b4b4019afcbb77ff9d0/expr.png\" style=\"display:inline;vertical-align:middle;\" /></a></span><br>"
      ],
      "text/plain": [
       "t3: |= 2 > 1"
      ]
     },
     "execution_count": 8,
     "metadata": {},
     "output_type": "execute_result"
    }
   ],
   "source": [
    "t3 = less_1_2.deriveReversed()"
   ]
  },
  {
   "cell_type": "code",
   "execution_count": 9,
   "metadata": {},
   "outputs": [
    {
     "data": {
      "text/html": [
       "<span style=\"font-size:20px;\"> &#x22A2;&nbsp;<a class=\"ProveItLink\" href=\"__pv_it/abaafec1ec3d659791419210e535f026aa32e3da0/expr.ipynb\"><img src=\"__pv_it/abaafec1ec3d659791419210e535f026aa32e3da0/expr.png\" style=\"display:inline;vertical-align:middle;\" /></a></span>"
      ],
      "text/plain": [
       "|= forall_{n in NaturalsPos} (([sqrt](n) in Rationals) => ([sqrt](n) in RationalsPos))"
      ]
     },
     "execution_count": 9,
     "metadata": {},
     "output_type": "execute_result"
    }
   ],
   "source": [
    "t4"
   ]
  },
  {
   "cell_type": "code",
   "execution_count": 10,
   "metadata": {},
   "outputs": [
    {
     "data": {
      "text/html": [
       "<span style=\"font-size:20px;\"> &#x22A2;&nbsp;<a class=\"ProveItLink\" href=\"__pv_it/4cf60f005f957ffbff4b816d180db799717a1c9a0/expr.ipynb\"><img src=\"__pv_it/4cf60f005f957ffbff4b816d180db799717a1c9a0/expr.png\" style=\"display:inline;vertical-align:middle;\" /></a></span>"
      ],
      "text/plain": [
       "|= forall_{q in RationalsPos} [exists_{a, b in NaturalsPos} (q = (a / b))]"
      ]
     },
     "execution_count": 10,
     "metadata": {},
     "output_type": "execute_result"
    }
   ],
   "source": [
    "t5"
   ]
  },
  {
   "cell_type": "code",
   "execution_count": 11,
   "metadata": {},
   "outputs": [
    {
     "data": {
      "text/html": [
       "<span style=\"font-size:20px;\"> &#x22A2;&nbsp;<a class=\"ProveItLink\" href=\"__pv_it/a0a30cbb2e0c1c2ab8bdecdb495aa2660692294e0/expr.ipynb\"><img src=\"__pv_it/a0a30cbb2e0c1c2ab8bdecdb495aa2660692294e0/expr.png\" style=\"display:inline;vertical-align:middle;\" /></a></span>"
      ],
      "text/plain": [
       "|= forall_{a, b in NaturalsPos} [exists_{a', b' in NaturalsPos} (((a / b) = (a' / b')) and (gcd(a' , b') = 1))]"
      ]
     },
     "execution_count": 11,
     "metadata": {},
     "output_type": "execute_result"
    }
   ],
   "source": [
    "t6"
   ]
  },
  {
   "cell_type": "code",
   "execution_count": 12,
   "metadata": {},
   "outputs": [
    {
     "data": {
      "text/html": [
       "<span style=\"font-size:20px;\"> &#x22A2;&nbsp;<a class=\"ProveItLink\" href=\"__pv_it/33404f402ffdbb44eb44b18a39ef3e839e26ac580/expr.ipynb\"><img src=\"__pv_it/33404f402ffdbb44eb44b18a39ef3e839e26ac580/expr.png\" style=\"display:inline;vertical-align:middle;\" /></a></span>"
      ],
      "text/plain": [
       "|= forall_{a, b in NaturalsPos} (([sqrt](2) = (a / b)) => ((2 * b^{2}) = a^{2}))"
      ]
     },
     "execution_count": 12,
     "metadata": {},
     "output_type": "execute_result"
    }
   ],
   "source": [
    "t8"
   ]
  },
  {
   "cell_type": "code",
   "execution_count": 13,
   "metadata": {},
   "outputs": [
    {
     "data": {
      "text/html": [
       "<span style=\"font-size:20px;\"> &#x22A2;&nbsp;<a class=\"ProveItLink\" href=\"__pv_it/e836ee5306ff23610c302d3eb6c1ecd12631b89b0/expr.ipynb\"><img src=\"__pv_it/e836ee5306ff23610c302d3eb6c1ecd12631b89b0/expr.png\" style=\"display:inline;vertical-align:middle;\" /></a></span>"
      ],
      "text/plain": [
       "|= forall_{n in NaturalsPos} (2 | (2 * n))"
      ]
     },
     "execution_count": 13,
     "metadata": {},
     "output_type": "execute_result"
    }
   ],
   "source": [
    "t9a"
   ]
  },
  {
   "cell_type": "code",
   "execution_count": 14,
   "metadata": {},
   "outputs": [
    {
     "data": {
      "text/html": [
       "<span style=\"font-size:20px;\"> &#x22A2;&nbsp;<a class=\"ProveItLink\" href=\"__pv_it/bfe310952076e389891a1c7c61201d74cf2f18380/expr.ipynb\"><img src=\"__pv_it/bfe310952076e389891a1c7c61201d74cf2f18380/expr.png\" style=\"display:inline;vertical-align:middle;\" /></a></span>"
      ],
      "text/plain": [
       "|= forall_{b in NaturalsPos} (b^{2} in NaturalsPos)"
      ]
     },
     "execution_count": 14,
     "metadata": {},
     "output_type": "execute_result"
    }
   ],
   "source": [
    "t9b"
   ]
  },
  {
   "cell_type": "code",
   "execution_count": 15,
   "metadata": {},
   "outputs": [
    {
     "data": {
      "text/html": [
       "<span style=\"font-size:20px;\"> &#x22A2;&nbsp;<a class=\"ProveItLink\" href=\"__pv_it/8995002aa32b995a71f2facb84a74971d32d75960/expr.ipynb\"><img src=\"__pv_it/8995002aa32b995a71f2facb84a74971d32d75960/expr.png\" style=\"display:inline;vertical-align:middle;\" /></a></span>"
      ],
      "text/plain": [
       "|= forall_{a in NaturalsPos} ([not](2 | a) => [not](2 | a^{2}))"
      ]
     },
     "execution_count": 15,
     "metadata": {},
     "output_type": "execute_result"
    }
   ],
   "source": [
    "t10"
   ]
  },
  {
   "cell_type": "code",
   "execution_count": 16,
   "metadata": {},
   "outputs": [
    {
     "data": {
      "text/html": [
       "<span style=\"font-size:20px;\"> &#x22A2;&nbsp;<a class=\"ProveItLink\" href=\"__pv_it/1cafb168a9f3c46371ea7d7225025ee372f7777f0/expr.ipynb\"><img src=\"__pv_it/1cafb168a9f3c46371ea7d7225025ee372f7777f0/expr.png\" style=\"display:inline;vertical-align:middle;\" /></a></span>"
      ],
      "text/plain": [
       "|= forall_{a in NaturalsPos} ((2 | a) => (4 | a^{2}))"
      ]
     },
     "execution_count": 16,
     "metadata": {},
     "output_type": "execute_result"
    }
   ],
   "source": [
    "t11"
   ]
  },
  {
   "cell_type": "code",
   "execution_count": 17,
   "metadata": {},
   "outputs": [
    {
     "data": {
      "text/html": [
       "<span style=\"font-size:20px;\"> &#x22A2;&nbsp;<a class=\"ProveItLink\" href=\"__pv_it/a3c1c2daa013e253cdfefd15ef317e9124a60a510/expr.ipynb\"><img src=\"__pv_it/a3c1c2daa013e253cdfefd15ef317e9124a60a510/expr.png\" style=\"display:inline;vertical-align:middle;\" /></a></span>"
      ],
      "text/plain": [
       "|= forall_{n, p in NaturalsPos} (((2 * n) | (2 * p)) => (n | p))"
      ]
     },
     "execution_count": 17,
     "metadata": {},
     "output_type": "execute_result"
    }
   ],
   "source": [
    "t12"
   ]
  },
  {
   "cell_type": "code",
   "execution_count": 18,
   "metadata": {},
   "outputs": [
    {
     "data": {
      "text/html": [
       "<strong id=\"aHat\">aHat:</strong> <a class=\"ProveItLink\" href=\"__pv_it/0d73718329a1ebbff99c540bf21f29745fa8ee590/expr.ipynb\"><img src=\"__pv_it/0d73718329a1ebbff99c540bf21f29745fa8ee590/expr.png\" style=\"display:inline;vertical-align:middle;\" /></a><br>"
      ],
      "text/plain": [
       "aHat: aHat"
      ]
     },
     "execution_count": 18,
     "metadata": {},
     "output_type": "execute_result"
    }
   ],
   "source": [
    "aHat = Variable('aHat', \"\\hat{a}\")"
   ]
  },
  {
   "cell_type": "code",
   "execution_count": 19,
   "metadata": {},
   "outputs": [
    {
     "data": {
      "text/html": [
       "<strong id=\"bHat\">bHat:</strong> <a class=\"ProveItLink\" href=\"__pv_it/8dce3093518ad1d2ace0ada2a2d02599e8f3a6e00/expr.ipynb\"><img src=\"__pv_it/8dce3093518ad1d2ace0ada2a2d02599e8f3a6e00/expr.png\" style=\"display:inline;vertical-align:middle;\" /></a><br>"
      ],
      "text/plain": [
       "bHat: bHat"
      ]
     },
     "execution_count": 19,
     "metadata": {},
     "output_type": "execute_result"
    }
   ],
   "source": [
    "bHat = Variable('bHat', \"\\hat{b}\")"
   ]
  },
  {
   "cell_type": "code",
   "execution_count": 20,
   "metadata": {},
   "outputs": [
    {
     "data": {
      "text/html": [
       "<strong id=\"a13\">a13:</strong> <a class=\"ProveItLink\" href=\"__pv_it/85c4ae2ea04e6108e68b73b968b097ea458b30d50/expr.ipynb\"><img src=\"__pv_it/85c4ae2ea04e6108e68b73b968b097ea458b30d50/expr.png\" style=\"display:inline;vertical-align:middle;\" /></a><br>"
      ],
      "text/plain": [
       "a13: ((aHat in NaturalsPos) and (bHat in NaturalsPos)) and ([sqrt](2) = (aHat / bHat))"
      ]
     },
     "execution_count": 20,
     "metadata": {},
     "output_type": "execute_result"
    }
   ],
   "source": [
    "a13 = And(And(InSet(aHat, NaturalsPos), InSet(bHat, NaturalsPos)), Equals(Sqrt(two),Frac(aHat,bHat)))"
   ]
  },
  {
   "cell_type": "code",
   "execution_count": null,
   "metadata": {},
   "outputs": [],
   "source": []
  },
  {
   "cell_type": "code",
   "execution_count": 21,
   "metadata": {},
   "outputs": [],
   "source": [
    "#c1 = Implies(InSet(Sqrt(two),Rationals),Exists((a,b), And(Equals(Mult(two,Exp(b,two)),Exp(a,two)),Equals(Gab, one)),domain = NaturalsPos))"
   ]
  },
  {
   "cell_type": "code",
   "execution_count": 22,
   "metadata": {},
   "outputs": [
    {
     "data": {
      "text/html": [
       "<strong id=\"c1\">c1:</strong> <a class=\"ProveItLink\" href=\"__pv_it/59792c8af0ea987a4d0085adc62e8523bcccaf020/expr.ipynb\"><img src=\"__pv_it/59792c8af0ea987a4d0085adc62e8523bcccaf020/expr.png\" style=\"display:inline;vertical-align:middle;\" /></a><br>"
      ],
      "text/plain": [
       "c1: [sqrt](2) in Rationals"
      ]
     },
     "execution_count": 22,
     "metadata": {},
     "output_type": "execute_result"
    }
   ],
   "source": [
    "c1 = InSet(Sqrt(two), Rationals)"
   ]
  },
  {
   "cell_type": "code",
   "execution_count": 23,
   "metadata": {},
   "outputs": [
    {
     "data": {
      "text/html": [
       "<strong id=\"defaults.assumptions\">defaults.assumptions:</strong> <a class=\"ProveItLink\" href=\"__pv_it/4ee2cb8adb1ccb2103f21948943e6b2bb07bb0cb0/expr.ipynb\"><img src=\"__pv_it/4ee2cb8adb1ccb2103f21948943e6b2bb07bb0cb0/expr.png\" style=\"display:inline;vertical-align:middle;\" /></a><br>"
      ],
      "text/plain": [
       "defaults.assumptions: ([sqrt](2) in Rationals)"
      ]
     },
     "execution_count": 23,
     "metadata": {},
     "output_type": "execute_result"
    }
   ],
   "source": [
    "defaults.assumptions = [c1]"
   ]
  },
  {
   "cell_type": "code",
   "execution_count": 24,
   "metadata": {},
   "outputs": [
    {
     "data": {
      "text/html": [
       "<span style=\"font-size:20px;\"><a class=\"ProveItLink\" href=\"__pv_it/ed78e75f91dc995cd9b8d44f66003ee66a07ceb40/expr.ipynb\"><img src=\"__pv_it/ed78e75f91dc995cd9b8d44f66003ee66a07ceb40/expr.png\" style=\"display:inline;vertical-align:middle;\" /></a> &#x22A2;&nbsp;<a class=\"ProveItLink\" href=\"__pv_it/59792c8af0ea987a4d0085adc62e8523bcccaf020/expr.ipynb\"><img src=\"__pv_it/59792c8af0ea987a4d0085adc62e8523bcccaf020/expr.png\" style=\"display:inline;vertical-align:middle;\" /></a></span>"
      ],
      "text/plain": [
       "{[sqrt](2) in Rationals} |= [sqrt](2) in Rationals"
      ]
     },
     "execution_count": 24,
     "metadata": {},
     "output_type": "execute_result"
    }
   ],
   "source": [
    "c1.prove([c1])"
   ]
  },
  {
   "cell_type": "code",
   "execution_count": 25,
   "metadata": {},
   "outputs": [
    {
     "data": {
      "text/html": [
       "<span style=\"font-size:20px;\"> &#x22A2;&nbsp;<a class=\"ProveItLink\" href=\"__pv_it/abaafec1ec3d659791419210e535f026aa32e3da0/expr.ipynb\"><img src=\"__pv_it/abaafec1ec3d659791419210e535f026aa32e3da0/expr.png\" style=\"display:inline;vertical-align:middle;\" /></a></span>"
      ],
      "text/plain": [
       "|= forall_{n in NaturalsPos} (([sqrt](n) in Rationals) => ([sqrt](n) in RationalsPos))"
      ]
     },
     "execution_count": 25,
     "metadata": {},
     "output_type": "execute_result"
    }
   ],
   "source": [
    "t4"
   ]
  },
  {
   "cell_type": "code",
   "execution_count": 26,
   "metadata": {},
   "outputs": [
    {
     "data": {
      "text/html": [
       "<strong id=\"c2a\">c2a:</strong> <span style=\"font-size:20px;\"> &#x22A2;&nbsp;<a class=\"ProveItLink\" href=\"__pv_it/1ba20ff2a5f9bcff7ae3b0c5ca17cd05ab40677c0/expr.ipynb\"><img src=\"__pv_it/1ba20ff2a5f9bcff7ae3b0c5ca17cd05ab40677c0/expr.png\" style=\"display:inline;vertical-align:middle;\" /></a></span><br>"
      ],
      "text/plain": [
       "c2a: |= ([sqrt](2) in Rationals) => ([sqrt](2) in RationalsPos)"
      ]
     },
     "execution_count": 26,
     "metadata": {},
     "output_type": "execute_result"
    }
   ],
   "source": [
    "c2a = t4.specialize({n:two})"
   ]
  },
  {
   "cell_type": "code",
   "execution_count": 27,
   "metadata": {},
   "outputs": [
    {
     "data": {
      "text/html": [
       "<strong id=\"c2b\">c2b:</strong> <span style=\"font-size:20px;\"><a class=\"ProveItLink\" href=\"__pv_it/ed78e75f91dc995cd9b8d44f66003ee66a07ceb40/expr.ipynb\"><img src=\"__pv_it/ed78e75f91dc995cd9b8d44f66003ee66a07ceb40/expr.png\" style=\"display:inline;vertical-align:middle;\" /></a> &#x22A2;&nbsp;<a class=\"ProveItLink\" href=\"__pv_it/9a22babafdf92a651c1f3e6611e36f6f8738d8380/expr.ipynb\"><img src=\"__pv_it/9a22babafdf92a651c1f3e6611e36f6f8738d8380/expr.png\" style=\"display:inline;vertical-align:middle;\" /></a></span><br>"
      ],
      "text/plain": [
       "c2b: {[sqrt](2) in Rationals} |= [sqrt](2) in RationalsPos"
      ]
     },
     "execution_count": 27,
     "metadata": {},
     "output_type": "execute_result"
    }
   ],
   "source": [
    "c2b = c2a.deriveConsequent([c1])"
   ]
  },
  {
   "cell_type": "code",
   "execution_count": 28,
   "metadata": {},
   "outputs": [
    {
     "data": {
      "text/html": [
       "<span style=\"font-size:20px;\"> &#x22A2;&nbsp;<a class=\"ProveItLink\" href=\"__pv_it/4cf60f005f957ffbff4b816d180db799717a1c9a0/expr.ipynb\"><img src=\"__pv_it/4cf60f005f957ffbff4b816d180db799717a1c9a0/expr.png\" style=\"display:inline;vertical-align:middle;\" /></a></span>"
      ],
      "text/plain": [
       "|= forall_{q in RationalsPos} [exists_{a, b in NaturalsPos} (q = (a / b))]"
      ]
     },
     "execution_count": 28,
     "metadata": {},
     "output_type": "execute_result"
    }
   ],
   "source": [
    "t5"
   ]
  },
  {
   "cell_type": "code",
   "execution_count": 29,
   "metadata": {},
   "outputs": [
    {
     "data": {
      "text/html": [
       "<strong id=\"c3\">c3:</strong> <span style=\"font-size:20px;\"><a class=\"ProveItLink\" href=\"__pv_it/ed78e75f91dc995cd9b8d44f66003ee66a07ceb40/expr.ipynb\"><img src=\"__pv_it/ed78e75f91dc995cd9b8d44f66003ee66a07ceb40/expr.png\" style=\"display:inline;vertical-align:middle;\" /></a> &#x22A2;&nbsp;<a class=\"ProveItLink\" href=\"__pv_it/0dd2be139c4dd6ae0adac9fcd8c95c53646f4d1d0/expr.ipynb\"><img src=\"__pv_it/0dd2be139c4dd6ae0adac9fcd8c95c53646f4d1d0/expr.png\" style=\"display:inline;vertical-align:middle;\" /></a></span><br>"
      ],
      "text/plain": [
       "c3: {[sqrt](2) in Rationals} |= exists_{a, b in NaturalsPos} ([sqrt](2) = (a / b))"
      ]
     },
     "execution_count": 29,
     "metadata": {},
     "output_type": "execute_result"
    }
   ],
   "source": [
    "c3 = t5.specialize({q:Sqrt(two)})"
   ]
  },
  {
   "cell_type": "code",
   "execution_count": 30,
   "metadata": {},
   "outputs": [
    {
     "data": {
      "text/plain": [
       "([sqrt](2) in Rationals,)"
      ]
     },
     "execution_count": 30,
     "metadata": {},
     "output_type": "execute_result"
    }
   ],
   "source": [
    "# will eliminate a13 at the end?\n",
    "defaults.assumptions"
   ]
  },
  {
   "cell_type": "code",
   "execution_count": 31,
   "metadata": {},
   "outputs": [
    {
     "data": {
      "text/html": [
       "<strong id=\"c4\">c4:</strong> <span style=\"font-size:20px;\"><a class=\"ProveItLink\" href=\"__pv_it/c9bf2506a1fa69ddd5cabf4bd3d3206ae43a85f60/expr.ipynb\"><img src=\"__pv_it/c9bf2506a1fa69ddd5cabf4bd3d3206ae43a85f60/expr.png\" style=\"display:inline;vertical-align:middle;\" /></a> &#x22A2;&nbsp;<a class=\"ProveItLink\" href=\"__pv_it/85c4ae2ea04e6108e68b73b968b097ea458b30d50/expr.ipynb\"><img src=\"__pv_it/85c4ae2ea04e6108e68b73b968b097ea458b30d50/expr.png\" style=\"display:inline;vertical-align:middle;\" /></a></span><br>"
      ],
      "text/plain": [
       "c4: {((aHat in NaturalsPos) and (bHat in NaturalsPos)) and ([sqrt](2) = (aHat / bHat))} |= ((aHat in NaturalsPos) and (bHat in NaturalsPos)) and ([sqrt](2) = (aHat / bHat))"
      ]
     },
     "execution_count": 31,
     "metadata": {},
     "output_type": "execute_result"
    }
   ],
   "source": [
    "# let's choose!\n",
    "defaults.assumptions = [a13, c1]\n",
    "c4 = a13.prove()"
   ]
  },
  {
   "cell_type": "code",
   "execution_count": 32,
   "metadata": {},
   "outputs": [
    {
     "data": {
      "text/html": [
       "<span style=\"font-size:20px;\"> &#x22A2;&nbsp;<a class=\"ProveItLink\" href=\"__pv_it/a0a30cbb2e0c1c2ab8bdecdb495aa2660692294e0/expr.ipynb\"><img src=\"__pv_it/a0a30cbb2e0c1c2ab8bdecdb495aa2660692294e0/expr.png\" style=\"display:inline;vertical-align:middle;\" /></a></span>"
      ],
      "text/plain": [
       "|= forall_{a, b in NaturalsPos} [exists_{a', b' in NaturalsPos} (((a / b) = (a' / b')) and (gcd(a' , b') = 1))]"
      ]
     },
     "execution_count": 32,
     "metadata": {},
     "output_type": "execute_result"
    }
   ],
   "source": [
    "t6"
   ]
  },
  {
   "cell_type": "code",
   "execution_count": 33,
   "metadata": {},
   "outputs": [
    {
     "data": {
      "text/html": [
       "<strong id=\"c5\">c5:</strong> <span style=\"font-size:20px;\"><a class=\"ProveItLink\" href=\"__pv_it/c9bf2506a1fa69ddd5cabf4bd3d3206ae43a85f60/expr.ipynb\"><img src=\"__pv_it/c9bf2506a1fa69ddd5cabf4bd3d3206ae43a85f60/expr.png\" style=\"display:inline;vertical-align:middle;\" /></a> &#x22A2;&nbsp;<a class=\"ProveItLink\" href=\"__pv_it/7598051d64baa46543e04c7b09344aa6db7029ec0/expr.ipynb\"><img src=\"__pv_it/7598051d64baa46543e04c7b09344aa6db7029ec0/expr.png\" style=\"display:inline;vertical-align:middle;\" /></a></span><br>"
      ],
      "text/plain": [
       "c5: {((aHat in NaturalsPos) and (bHat in NaturalsPos)) and ([sqrt](2) = (aHat / bHat))} |= exists_{a', b' in NaturalsPos} (((aHat / bHat) = (a' / b')) and (gcd(a' , b') = 1))"
      ]
     },
     "execution_count": 33,
     "metadata": {},
     "output_type": "execute_result"
    }
   ],
   "source": [
    "c5 = t6.specialize({a:aHat, b:bHat})"
   ]
  },
  {
   "cell_type": "code",
   "execution_count": 34,
   "metadata": {},
   "outputs": [
    {
     "data": {
      "text/html": [
       "<strong id=\"a14\">a14:</strong> <a class=\"ProveItLink\" href=\"__pv_it/c958f862bd04b4b2d0e2aafa17f2c112d81bd27b0/expr.ipynb\"><img src=\"__pv_it/c958f862bd04b4b2d0e2aafa17f2c112d81bd27b0/expr.png\" style=\"display:inline;vertical-align:middle;\" /></a><br>"
      ],
      "text/plain": [
       "a14: (((aStar in NaturalsPos) and (bStar in NaturalsPos)) and ((aHat / bHat) = (aStar / bStar))) and (gcd(aStar , bStar) = 1)"
      ]
     },
     "execution_count": 34,
     "metadata": {},
     "output_type": "execute_result"
    }
   ],
   "source": [
    "aStar = Variable('aStar', \"(a ^ *)\")\n",
    "bStar = Variable('bStar', \"(b ^ *)\")\n",
    "a14 = And(And(And(InSet(aStar, NaturalsPos), InSet(bStar, NaturalsPos)), Equals(Frac(aHat,bHat), Frac(aStar,bStar))), Equals(GCD(aStar, bStar), one))"
   ]
  },
  {
   "cell_type": "code",
   "execution_count": 35,
   "metadata": {},
   "outputs": [
    {
     "data": {
      "text/html": [
       "<strong id=\"defaults.assumptions\">defaults.assumptions:</strong> <a class=\"ProveItLink\" href=\"__pv_it/ab3a32b0539e3ecc66f154965c61a76c9bec7a500/expr.ipynb\"><img src=\"__pv_it/ab3a32b0539e3ecc66f154965c61a76c9bec7a500/expr.png\" style=\"display:inline;vertical-align:middle;\" /></a><br>"
      ],
      "text/plain": [
       "defaults.assumptions: (((aHat in NaturalsPos) and (bHat in NaturalsPos)) and ([sqrt](2) = (aHat / bHat)) , [sqrt](2) in Rationals , (((aStar in NaturalsPos) and (bStar in NaturalsPos)) and ((aHat / bHat) = (aStar / bStar))) and (gcd(aStar , bStar) = 1))"
      ]
     },
     "execution_count": 35,
     "metadata": {},
     "output_type": "execute_result"
    }
   ],
   "source": [
    "defaults.assumptions = [*defaults.assumptions, a14]"
   ]
  },
  {
   "cell_type": "code",
   "execution_count": 36,
   "metadata": {},
   "outputs": [
    {
     "data": {
      "text/html": [
       "<strong id=\"c6\">c6:</strong> <span style=\"font-size:20px;\"><a class=\"ProveItLink\" href=\"__pv_it/ec9afbfd9308a53b80f77b5fdf247cb16e2b5ba30/expr.ipynb\"><img src=\"__pv_it/ec9afbfd9308a53b80f77b5fdf247cb16e2b5ba30/expr.png\" style=\"display:inline;vertical-align:middle;\" /></a> &#x22A2;&nbsp;<a class=\"ProveItLink\" href=\"__pv_it/c958f862bd04b4b2d0e2aafa17f2c112d81bd27b0/expr.ipynb\"><img src=\"__pv_it/c958f862bd04b4b2d0e2aafa17f2c112d81bd27b0/expr.png\" style=\"display:inline;vertical-align:middle;\" /></a></span><br>"
      ],
      "text/plain": [
       "c6: {(((aStar in NaturalsPos) and (bStar in NaturalsPos)) and ((aHat / bHat) = (aStar / bStar))) and (gcd(aStar , bStar) = 1)} |= (((aStar in NaturalsPos) and (bStar in NaturalsPos)) and ((aHat / bHat) = (aStar / bStar))) and (gcd(aStar , bStar) = 1)"
      ]
     },
     "execution_count": 36,
     "metadata": {},
     "output_type": "execute_result"
    }
   ],
   "source": [
    "c6 = a14.prove()"
   ]
  },
  {
   "cell_type": "code",
   "execution_count": 37,
   "metadata": {},
   "outputs": [
    {
     "data": {
      "text/html": [
       "<span style=\"font-size:20px;\"> &#x22A2;&nbsp;<a class=\"ProveItLink\" href=\"__pv_it/33404f402ffdbb44eb44b18a39ef3e839e26ac580/expr.ipynb\"><img src=\"__pv_it/33404f402ffdbb44eb44b18a39ef3e839e26ac580/expr.png\" style=\"display:inline;vertical-align:middle;\" /></a></span>"
      ],
      "text/plain": [
       "|= forall_{a, b in NaturalsPos} (([sqrt](2) = (a / b)) => ((2 * b^{2}) = a^{2}))"
      ]
     },
     "execution_count": 37,
     "metadata": {},
     "output_type": "execute_result"
    }
   ],
   "source": [
    "t8"
   ]
  },
  {
   "cell_type": "code",
   "execution_count": 38,
   "metadata": {},
   "outputs": [
    {
     "data": {
      "text/html": [
       "<strong id=\"c7a\">c7a:</strong> <span style=\"font-size:20px;\"><a class=\"ProveItLink\" href=\"__pv_it/f6c64e0132cdfbe70b07f19dc2af7ae6e1899cc50/expr.ipynb\"><img src=\"__pv_it/f6c64e0132cdfbe70b07f19dc2af7ae6e1899cc50/expr.png\" style=\"display:inline;vertical-align:middle;\" /></a> &#x22A2;&nbsp;<a class=\"ProveItLink\" href=\"__pv_it/1c625f1a4fa90cfd772fdfd55db91711f5ebb0040/expr.ipynb\"><img src=\"__pv_it/1c625f1a4fa90cfd772fdfd55db91711f5ebb0040/expr.png\" style=\"display:inline;vertical-align:middle;\" /></a></span><br>"
      ],
      "text/plain": [
       "c7a: {((aHat in NaturalsPos) and (bHat in NaturalsPos)) and ([sqrt](2) = (aHat / bHat)) , (((aStar in NaturalsPos) and (bStar in NaturalsPos)) and ((aHat / bHat) = (aStar / bStar))) and (gcd(aStar , bStar) = 1)} |= [sqrt](2) = (aStar / bStar)"
      ]
     },
     "execution_count": 38,
     "metadata": {},
     "output_type": "execute_result"
    }
   ],
   "source": [
    "c7a = Equals(Sqrt(two), Frac(aStar, bStar)).prove()"
   ]
  },
  {
   "cell_type": "code",
   "execution_count": 39,
   "metadata": {},
   "outputs": [
    {
     "data": {
      "text/html": [
       "<strong id=\"c7b\">c7b:</strong> <span style=\"font-size:20px;\"><a class=\"ProveItLink\" href=\"__pv_it/ec9afbfd9308a53b80f77b5fdf247cb16e2b5ba30/expr.ipynb\"><img src=\"__pv_it/ec9afbfd9308a53b80f77b5fdf247cb16e2b5ba30/expr.png\" style=\"display:inline;vertical-align:middle;\" /></a> &#x22A2;&nbsp;<a class=\"ProveItLink\" href=\"__pv_it/4e9886424a68fa1160a3017349ffaa97ad07aead0/expr.ipynb\"><img src=\"__pv_it/4e9886424a68fa1160a3017349ffaa97ad07aead0/expr.png\" style=\"display:inline;vertical-align:middle;\" /></a></span><br>"
      ],
      "text/plain": [
       "c7b: {(((aStar in NaturalsPos) and (bStar in NaturalsPos)) and ((aHat / bHat) = (aStar / bStar))) and (gcd(aStar , bStar) = 1)} |= ([sqrt](2) = (aStar / bStar)) => ((2 * bStar^{2}) = aStar^{2})"
      ]
     },
     "execution_count": 39,
     "metadata": {},
     "output_type": "execute_result"
    }
   ],
   "source": [
    "c7b = t8.specialize({a:aStar, b:bStar})"
   ]
  },
  {
   "cell_type": "code",
   "execution_count": 40,
   "metadata": {},
   "outputs": [
    {
     "data": {
      "text/html": [
       "<strong id=\"c7\">c7:</strong> <span style=\"font-size:20px;\"><a class=\"ProveItLink\" href=\"__pv_it/f6c64e0132cdfbe70b07f19dc2af7ae6e1899cc50/expr.ipynb\"><img src=\"__pv_it/f6c64e0132cdfbe70b07f19dc2af7ae6e1899cc50/expr.png\" style=\"display:inline;vertical-align:middle;\" /></a> &#x22A2;&nbsp;<a class=\"ProveItLink\" href=\"__pv_it/df87ba7ad16318e4fb3d2c33c9dab2518f0df0080/expr.ipynb\"><img src=\"__pv_it/df87ba7ad16318e4fb3d2c33c9dab2518f0df0080/expr.png\" style=\"display:inline;vertical-align:middle;\" /></a></span><br>"
      ],
      "text/plain": [
       "c7: {((aHat in NaturalsPos) and (bHat in NaturalsPos)) and ([sqrt](2) = (aHat / bHat)) , (((aStar in NaturalsPos) and (bStar in NaturalsPos)) and ((aHat / bHat) = (aStar / bStar))) and (gcd(aStar , bStar) = 1)} |= (2 * bStar^{2}) = aStar^{2}"
      ]
     },
     "execution_count": 40,
     "metadata": {},
     "output_type": "execute_result"
    }
   ],
   "source": [
    "c7 = c7b.deriveConsequent()"
   ]
  },
  {
   "cell_type": "code",
   "execution_count": 41,
   "metadata": {},
   "outputs": [
    {
     "data": {
      "text/html": [
       "<span style=\"font-size:20px;\"> &#x22A2;&nbsp;<a class=\"ProveItLink\" href=\"__pv_it/e836ee5306ff23610c302d3eb6c1ecd12631b89b0/expr.ipynb\"><img src=\"__pv_it/e836ee5306ff23610c302d3eb6c1ecd12631b89b0/expr.png\" style=\"display:inline;vertical-align:middle;\" /></a></span>"
      ],
      "text/plain": [
       "|= forall_{n in NaturalsPos} (2 | (2 * n))"
      ]
     },
     "execution_count": 41,
     "metadata": {},
     "output_type": "execute_result"
    }
   ],
   "source": [
    "t9a"
   ]
  },
  {
   "cell_type": "code",
   "execution_count": 42,
   "metadata": {},
   "outputs": [
    {
     "data": {
      "text/html": [
       "<span style=\"font-size:20px;\"> &#x22A2;&nbsp;<a class=\"ProveItLink\" href=\"__pv_it/bfe310952076e389891a1c7c61201d74cf2f18380/expr.ipynb\"><img src=\"__pv_it/bfe310952076e389891a1c7c61201d74cf2f18380/expr.png\" style=\"display:inline;vertical-align:middle;\" /></a></span>"
      ],
      "text/plain": [
       "|= forall_{b in NaturalsPos} (b^{2} in NaturalsPos)"
      ]
     },
     "execution_count": 42,
     "metadata": {},
     "output_type": "execute_result"
    }
   ],
   "source": [
    "t9b"
   ]
  },
  {
   "cell_type": "code",
   "execution_count": 43,
   "metadata": {},
   "outputs": [
    {
     "data": {
      "text/html": [
       "<span style=\"font-size:20px;\"><a class=\"ProveItLink\" href=\"__pv_it/7d05058717a41769f1369a003b1ab1683aa0e4070/expr.ipynb\"><img src=\"__pv_it/7d05058717a41769f1369a003b1ab1683aa0e4070/expr.png\" style=\"display:inline;vertical-align:middle;\" /></a> &#x22A2;&nbsp;<a class=\"ProveItLink\" href=\"__pv_it/95e77bc782690e1406adcd13b82d01a9a36db7580/expr.ipynb\"><img src=\"__pv_it/95e77bc782690e1406adcd13b82d01a9a36db7580/expr.png\" style=\"display:inline;vertical-align:middle;\" /></a></span>"
      ],
      "text/plain": [
       "{bStar in NaturalsPos} |= bStar^{2} in NaturalsPos"
      ]
     },
     "execution_count": 43,
     "metadata": {},
     "output_type": "execute_result"
    }
   ],
   "source": [
    "t9b.specialize({b:bStar}, assumptions=[InSet(bStar, NaturalsPos)])"
   ]
  },
  {
   "cell_type": "code",
   "execution_count": 44,
   "metadata": {},
   "outputs": [
    {
     "data": {
      "text/html": [
       "<strong id=\"c8\">c8:</strong> <span style=\"font-size:20px;\"><a class=\"ProveItLink\" href=\"__pv_it/7d05058717a41769f1369a003b1ab1683aa0e4070/expr.ipynb\"><img src=\"__pv_it/7d05058717a41769f1369a003b1ab1683aa0e4070/expr.png\" style=\"display:inline;vertical-align:middle;\" /></a> &#x22A2;&nbsp;<a class=\"ProveItLink\" href=\"__pv_it/fb8a2f319039055072a540ee22e0471602b2f7e20/expr.ipynb\"><img src=\"__pv_it/fb8a2f319039055072a540ee22e0471602b2f7e20/expr.png\" style=\"display:inline;vertical-align:middle;\" /></a></span><br>"
      ],
      "text/plain": [
       "c8: {bStar in NaturalsPos} |= 2 | (2 * bStar^{2})"
      ]
     },
     "execution_count": 44,
     "metadata": {},
     "output_type": "execute_result"
    }
   ],
   "source": [
    "c8 = t9a.specialize({n:Exp(bStar, two)}, assumptions=[InSet(bStar, NaturalsPos)])"
   ]
  },
  {
   "cell_type": "code",
   "execution_count": 45,
   "metadata": {},
   "outputs": [
    {
     "data": {
      "text/plain": [
       "(((aHat in NaturalsPos) and (bHat in NaturalsPos)) and ([sqrt](2) = (aHat / bHat)),\n",
       " [sqrt](2) in Rationals,\n",
       " (((aStar in NaturalsPos) and (bStar in NaturalsPos)) and ((aHat / bHat) = (aStar / bStar))) and (gcd(aStar , bStar) = 1))"
      ]
     },
     "execution_count": 45,
     "metadata": {},
     "output_type": "execute_result"
    }
   ],
   "source": [
    "defaults.assumptions"
   ]
  },
  {
   "cell_type": "code",
   "execution_count": 46,
   "metadata": {},
   "outputs": [
    {
     "data": {
      "text/html": [
       "<strong id=\"c9\">c9:</strong> <span style=\"font-size:20px;\"><a class=\"ProveItLink\" href=\"__pv_it/b6ce2439baf90c61d1e034221489378aadf9431f0/expr.ipynb\"><img src=\"__pv_it/b6ce2439baf90c61d1e034221489378aadf9431f0/expr.png\" style=\"display:inline;vertical-align:middle;\" /></a> &#x22A2;&nbsp;<a class=\"ProveItLink\" href=\"__pv_it/2683c453a0bd44d88feb5bc18381917e65b206a00/expr.ipynb\"><img src=\"__pv_it/2683c453a0bd44d88feb5bc18381917e65b206a00/expr.png\" style=\"display:inline;vertical-align:middle;\" /></a></span><br>"
      ],
      "text/plain": [
       "c9: {bStar in NaturalsPos , ((aHat in NaturalsPos) and (bHat in NaturalsPos)) and ([sqrt](2) = (aHat / bHat)) , (((aStar in NaturalsPos) and (bStar in NaturalsPos)) and ((aHat / bHat) = (aStar / bStar))) and (gcd(aStar , bStar) = 1)} |= 2 | aStar^{2}"
      ]
     },
     "execution_count": 46,
     "metadata": {},
     "output_type": "execute_result"
    }
   ],
   "source": [
    "c9 = c7.subRightSideInto(c8, assumptions=[*c8.assumptions])"
   ]
  },
  {
   "cell_type": "code",
   "execution_count": 47,
   "metadata": {},
   "outputs": [
    {
     "data": {
      "text/html": [
       "<span style=\"font-size:20px;\"> &#x22A2;&nbsp;<a class=\"ProveItLink\" href=\"__pv_it/8995002aa32b995a71f2facb84a74971d32d75960/expr.ipynb\"><img src=\"__pv_it/8995002aa32b995a71f2facb84a74971d32d75960/expr.png\" style=\"display:inline;vertical-align:middle;\" /></a></span>"
      ],
      "text/plain": [
       "|= forall_{a in NaturalsPos} ([not](2 | a) => [not](2 | a^{2}))"
      ]
     },
     "execution_count": 47,
     "metadata": {},
     "output_type": "execute_result"
    }
   ],
   "source": [
    "t10"
   ]
  },
  {
   "cell_type": "code",
   "execution_count": 48,
   "metadata": {},
   "outputs": [
    {
     "data": {
      "text/html": [
       "<strong id=\"c10a\">c10a:</strong> <span style=\"font-size:20px;\"><a class=\"ProveItLink\" href=\"__pv_it/ec9afbfd9308a53b80f77b5fdf247cb16e2b5ba30/expr.ipynb\"><img src=\"__pv_it/ec9afbfd9308a53b80f77b5fdf247cb16e2b5ba30/expr.png\" style=\"display:inline;vertical-align:middle;\" /></a> &#x22A2;&nbsp;<a class=\"ProveItLink\" href=\"__pv_it/bd97f076bf8ba56478362f0e319bd6be27e4eae50/expr.ipynb\"><img src=\"__pv_it/bd97f076bf8ba56478362f0e319bd6be27e4eae50/expr.png\" style=\"display:inline;vertical-align:middle;\" /></a></span><br>"
      ],
      "text/plain": [
       "c10a: {(((aStar in NaturalsPos) and (bStar in NaturalsPos)) and ((aHat / bHat) = (aStar / bStar))) and (gcd(aStar , bStar) = 1)} |= [not](2 | aStar) => [not](2 | aStar^{2})"
      ]
     },
     "execution_count": 48,
     "metadata": {},
     "output_type": "execute_result"
    }
   ],
   "source": [
    "c10a = t10.specialize({a:aStar})"
   ]
  },
  {
   "cell_type": "code",
   "execution_count": 49,
   "metadata": {},
   "outputs": [
    {
     "data": {
      "text/html": [
       "<span style=\"font-size:20px;\"><a class=\"ProveItLink\" href=\"__pv_it/b555737b100a8aa9d50f1bffc3624bb89af179fb0/expr.ipynb\"><img src=\"__pv_it/b555737b100a8aa9d50f1bffc3624bb89af179fb0/expr.png\" style=\"display:inline;vertical-align:middle;\" /></a> &#x22A2;&nbsp;<a class=\"ProveItLink\" href=\"__pv_it/0c77f12348f5732dc101ebd1a8f9f3dec7aeef5e0/expr.ipynb\"><img src=\"__pv_it/0c77f12348f5732dc101ebd1a8f9f3dec7aeef5e0/expr.png\" style=\"display:inline;vertical-align:middle;\" /></a></span>"
      ],
      "text/plain": [
       "{[not](2 | aStar) => [not](2 | aStar^{2}) , (2 | aStar) in BOOLEANS , [not]([not](2 | aStar^{2}))} |= 2 | aStar"
      ]
     },
     "execution_count": 49,
     "metadata": {},
     "output_type": "execute_result"
    }
   ],
   "source": [
    "c10b = c10a.expr.denyAntecedent(\n",
    "    assumptions=[\n",
    "        c10a.expr, InSet(aStar, NaturalsPos),\n",
    "        InSet(Divides(two, aStar), Booleans),\n",
    "        Not(Not(Divides(two,Exp(aStar,two))))]\n",
    ")\n",
    "c10b"
   ]
  },
  {
   "cell_type": "code",
   "execution_count": 50,
   "metadata": {},
   "outputs": [
    {
     "data": {
      "text/html": [
       "<span style=\"font-size:20px;\"><a class=\"ProveItLink\" href=\"__pv_it/1e7d4b88ac4808a06938708bb8d66320aebff2550/expr.ipynb\"><img src=\"__pv_it/1e7d4b88ac4808a06938708bb8d66320aebff2550/expr.png\" style=\"display:inline;vertical-align:middle;\" /></a> &#x22A2;&nbsp;<a class=\"ProveItLink\" href=\"__pv_it/4beba33679c2f8d40805c6c4c7d049ee23dbd75f0/expr.ipynb\"><img src=\"__pv_it/4beba33679c2f8d40805c6c4c7d049ee23dbd75f0/expr.png\" style=\"display:inline;vertical-align:middle;\" /></a></span>"
      ],
      "text/plain": [
       "{p => q , p in BOOLEANS} |= [not](q) => [not](p)"
      ]
     },
     "execution_count": 50,
     "metadata": {},
     "output_type": "execute_result"
    }
   ],
   "source": [
    "tempAssumption = Implies(p, q)\n",
    "# Implies(Not(q), Not(p)).prove(assumptions=[Implies(p, q), InSet(p, Booleans), InSet(q, Booleans)])\n",
    "tempAssumption.contrapose(assumptions=[Implies(p, q), InSet(p, Booleans), InSet(q, Booleans)])"
   ]
  },
  {
   "cell_type": "code",
   "execution_count": 51,
   "metadata": {},
   "outputs": [
    {
     "ename": "ProofFailure",
     "evalue": "Unable to prove 2 | aStar assuming {((aHat in NaturalsPos) and (bHat in NaturalsPos)) and ([sqrt](2) = (aHat / bHat)), [sqrt](2) in Rationals, (((aStar in NaturalsPos) and (bStar in NaturalsPos)) and ((aHat / bHat) = (aStar / bStar))) and (gcd(aStar , bStar) = 1)}: 'conclude' method not implemented for proof automation",
     "output_type": "error",
     "traceback": [
      "\u001b[0;31m---------------------------------------------------------------------------\u001b[0m",
      "\u001b[0;31mProofFailure\u001b[0m                              Traceback (most recent call last)",
      "\u001b[0;32m~/Desktop/Prove-It/packages/proveit/_core_/expression/expr.py\u001b[0m in \u001b[0;36mprove\u001b[0;34m(self, assumptions, automation)\u001b[0m\n\u001b[1;32m    409\u001b[0m                     \u001b[0;31m# first attempt to prove via implication\u001b[0m\u001b[0;34m\u001b[0m\u001b[0;34m\u001b[0m\u001b[0;34m\u001b[0m\u001b[0m\n\u001b[0;32m--> 410\u001b[0;31m                     \u001b[0mconcludedTruth\u001b[0m \u001b[0;34m=\u001b[0m \u001b[0mself\u001b[0m\u001b[0;34m.\u001b[0m\u001b[0mconcludeViaImplication\u001b[0m\u001b[0;34m(\u001b[0m\u001b[0massumptions\u001b[0m\u001b[0;34m)\u001b[0m\u001b[0;34m\u001b[0m\u001b[0;34m\u001b[0m\u001b[0m\n\u001b[0m\u001b[1;32m    411\u001b[0m                 \u001b[0;32mexcept\u001b[0m \u001b[0mProofFailure\u001b[0m\u001b[0;34m:\u001b[0m\u001b[0;34m\u001b[0m\u001b[0;34m\u001b[0m\u001b[0m\n",
      "\u001b[0;32m~/Desktop/Prove-It/packages/proveit/_core_/expression/expr.py\u001b[0m in \u001b[0;36mconcludeViaImplication\u001b[0;34m(self, assumptions)\u001b[0m\n\u001b[1;32m    458\u001b[0m         \u001b[0;32mfrom\u001b[0m \u001b[0mproveit\u001b[0m\u001b[0;34m.\u001b[0m\u001b[0mlogic\u001b[0m \u001b[0;32mimport\u001b[0m \u001b[0mconcludeViaImplication\u001b[0m\u001b[0;34m\u001b[0m\u001b[0;34m\u001b[0m\u001b[0m\n\u001b[0;32m--> 459\u001b[0;31m         \u001b[0;32mreturn\u001b[0m \u001b[0mconcludeViaImplication\u001b[0m\u001b[0;34m(\u001b[0m\u001b[0mself\u001b[0m\u001b[0;34m,\u001b[0m \u001b[0massumptions\u001b[0m\u001b[0;34m)\u001b[0m\u001b[0;34m\u001b[0m\u001b[0;34m\u001b[0m\u001b[0m\n\u001b[0m\u001b[1;32m    460\u001b[0m \u001b[0;34m\u001b[0m\u001b[0m\n",
      "\u001b[0;32m~/Desktop/Prove-It/packages/proveit/logic/boolean/implication/implies.py\u001b[0m in \u001b[0;36mconcludeViaImplication\u001b[0;34m(consequent, assumptions)\u001b[0m\n\u001b[1;32m    301\u001b[0m                         \u001b[0mqueue\u001b[0m\u001b[0;34m.\u001b[0m\u001b[0mappend\u001b[0m\u001b[0;34m(\u001b[0m\u001b[0mlocal_antecedent\u001b[0m\u001b[0;34m)\u001b[0m\u001b[0;34m\u001b[0m\u001b[0;34m\u001b[0m\u001b[0m\n\u001b[0;32m--> 302\u001b[0;31m     \u001b[0;32mraise\u001b[0m \u001b[0mProofFailure\u001b[0m\u001b[0;34m(\u001b[0m\u001b[0mconsequent\u001b[0m\u001b[0;34m,\u001b[0m \u001b[0massumptions\u001b[0m\u001b[0;34m,\u001b[0m \u001b[0;34m'Unable to conclude via implications'\u001b[0m\u001b[0;34m)\u001b[0m\u001b[0;34m\u001b[0m\u001b[0;34m\u001b[0m\u001b[0m\n\u001b[0m\u001b[1;32m    303\u001b[0m \u001b[0;34m\u001b[0m\u001b[0m\n",
      "\u001b[0;31mProofFailure\u001b[0m: Unable to prove 2 | aStar assuming {((aHat in NaturalsPos) and (bHat in NaturalsPos)) and ([sqrt](2) = (aHat / bHat)), [sqrt](2) in Rationals, (((aStar in NaturalsPos) and (bStar in NaturalsPos)) and ((aHat / bHat) = (aStar / bStar))) and (gcd(aStar , bStar) = 1)}: Unable to conclude via implications",
      "\nDuring handling of the above exception, another exception occurred:\n",
      "\u001b[0;31mNotImplementedError\u001b[0m                       Traceback (most recent call last)",
      "\u001b[0;32m~/Desktop/Prove-It/packages/proveit/_core_/expression/expr.py\u001b[0m in \u001b[0;36mprove\u001b[0;34m(self, assumptions, automation)\u001b[0m\n\u001b[1;32m    412\u001b[0m                     \u001b[0;31m# try the 'conclude' method of the specific Expression class\u001b[0m\u001b[0;34m\u001b[0m\u001b[0;34m\u001b[0m\u001b[0;34m\u001b[0m\u001b[0m\n\u001b[0;32m--> 413\u001b[0;31m                     \u001b[0mconcludedTruth\u001b[0m \u001b[0;34m=\u001b[0m \u001b[0mself\u001b[0m\u001b[0;34m.\u001b[0m\u001b[0mconclude\u001b[0m\u001b[0;34m(\u001b[0m\u001b[0massumptions\u001b[0m\u001b[0;34m)\u001b[0m\u001b[0;34m\u001b[0m\u001b[0;34m\u001b[0m\u001b[0m\n\u001b[0m\u001b[1;32m    414\u001b[0m             \u001b[0;32mif\u001b[0m \u001b[0mconcludedTruth\u001b[0m \u001b[0;32mis\u001b[0m \u001b[0;32mNone\u001b[0m\u001b[0;34m:\u001b[0m\u001b[0;34m\u001b[0m\u001b[0;34m\u001b[0m\u001b[0m\n",
      "\u001b[0;32m~/Desktop/Prove-It/packages/proveit/_core_/expression/expr.py\u001b[0m in \u001b[0;36mconclude\u001b[0;34m(self, assumptions)\u001b[0m\n\u001b[1;32m    450\u001b[0m         '''\n\u001b[0;32m--> 451\u001b[0;31m         \u001b[0;32mraise\u001b[0m \u001b[0mNotImplementedError\u001b[0m\u001b[0;34m(\u001b[0m\u001b[0;34m\"'conclude' not implemented for \"\u001b[0m \u001b[0;34m+\u001b[0m \u001b[0mstr\u001b[0m\u001b[0;34m(\u001b[0m\u001b[0mself\u001b[0m\u001b[0;34m.\u001b[0m\u001b[0m__class__\u001b[0m\u001b[0;34m)\u001b[0m\u001b[0;34m)\u001b[0m\u001b[0;34m\u001b[0m\u001b[0;34m\u001b[0m\u001b[0m\n\u001b[0m\u001b[1;32m    452\u001b[0m \u001b[0;34m\u001b[0m\u001b[0m\n",
      "\u001b[0;31mNotImplementedError\u001b[0m: 'conclude' not implemented for <class 'proveit.number.divisibility.divides.Divides'>",
      "\nDuring handling of the above exception, another exception occurred:\n",
      "\u001b[0;31mProofFailure\u001b[0m                              Traceback (most recent call last)",
      "\u001b[0;32m<ipython-input-51-e093c8dc53f3>\u001b[0m in \u001b[0;36m<module>\u001b[0;34m\u001b[0m\n\u001b[0;32m----> 1\u001b[0;31m \u001b[0mDivides\u001b[0m\u001b[0;34m(\u001b[0m\u001b[0mtwo\u001b[0m\u001b[0;34m,\u001b[0m \u001b[0maStar\u001b[0m\u001b[0;34m)\u001b[0m\u001b[0;34m.\u001b[0m\u001b[0mprove\u001b[0m\u001b[0;34m(\u001b[0m\u001b[0;34m)\u001b[0m\u001b[0;34m\u001b[0m\u001b[0;34m\u001b[0m\u001b[0m\n\u001b[0m",
      "\u001b[0;32m~/Desktop/Prove-It/packages/proveit/_core_/expression/expr.py\u001b[0m in \u001b[0;36mprove\u001b[0;34m(self, assumptions, automation)\u001b[0m\n\u001b[1;32m    424\u001b[0m             \u001b[0;32mreturn\u001b[0m \u001b[0mconcludedTruth\u001b[0m\u001b[0;34m.\u001b[0m\u001b[0mwithMatchingStyles\u001b[0m\u001b[0;34m(\u001b[0m\u001b[0mself\u001b[0m\u001b[0;34m,\u001b[0m \u001b[0massumptions\u001b[0m\u001b[0;34m)\u001b[0m \u001b[0;31m# give it the appropriate style\u001b[0m\u001b[0;34m\u001b[0m\u001b[0;34m\u001b[0m\u001b[0m\n\u001b[1;32m    425\u001b[0m         \u001b[0;32mexcept\u001b[0m \u001b[0mNotImplementedError\u001b[0m\u001b[0;34m:\u001b[0m\u001b[0;34m\u001b[0m\u001b[0;34m\u001b[0m\u001b[0m\n\u001b[0;32m--> 426\u001b[0;31m             \u001b[0;32mraise\u001b[0m \u001b[0mProofFailure\u001b[0m\u001b[0;34m(\u001b[0m\u001b[0mself\u001b[0m\u001b[0;34m,\u001b[0m \u001b[0massumptions\u001b[0m\u001b[0;34m,\u001b[0m \u001b[0;34m\"'conclude' method not implemented for proof automation\"\u001b[0m\u001b[0;34m)\u001b[0m\u001b[0;34m\u001b[0m\u001b[0;34m\u001b[0m\u001b[0m\n\u001b[0m\u001b[1;32m    427\u001b[0m         \u001b[0;32mfinally\u001b[0m\u001b[0;34m:\u001b[0m\u001b[0;34m\u001b[0m\u001b[0;34m\u001b[0m\u001b[0m\n\u001b[1;32m    428\u001b[0m             \u001b[0mExpression\u001b[0m\u001b[0;34m.\u001b[0m\u001b[0min_progress_to_conclude\u001b[0m\u001b[0;34m.\u001b[0m\u001b[0mremove\u001b[0m\u001b[0;34m(\u001b[0m\u001b[0min_progress_key\u001b[0m\u001b[0;34m)\u001b[0m\u001b[0;34m\u001b[0m\u001b[0;34m\u001b[0m\u001b[0m\n",
      "\u001b[0;31mProofFailure\u001b[0m: Unable to prove 2 | aStar assuming {((aHat in NaturalsPos) and (bHat in NaturalsPos)) and ([sqrt](2) = (aHat / bHat)), [sqrt](2) in Rationals, (((aStar in NaturalsPos) and (bStar in NaturalsPos)) and ((aHat / bHat) = (aStar / bStar))) and (gcd(aStar , bStar) = 1)}: 'conclude' method not implemented for proof automation"
     ]
    }
   ],
   "source": [
    "Divides(two, aStar).prove()"
   ]
  },
  {
   "cell_type": "markdown",
   "metadata": {},
   "source": [
    "## OLD STUFF Below"
   ]
  },
  {
   "cell_type": "code",
   "execution_count": null,
   "metadata": {},
   "outputs": [],
   "source": [
    "c6a = c5.explicitInstanceExpr()"
   ]
  },
  {
   "cell_type": "code",
   "execution_count": null,
   "metadata": {},
   "outputs": [],
   "source": [
    "c6b = c6a.substituted({aPrime:aStar, bPrime:bStar})"
   ]
  },
  {
   "cell_type": "code",
   "execution_count": null,
   "metadata": {},
   "outputs": [],
   "source": [
    "defaults.assumptions = defaults.assumptions + (c6b, InSet(aStar, NaturalsPos), InSet(bStar, NaturalsPos))"
   ]
  },
  {
   "cell_type": "code",
   "execution_count": null,
   "metadata": {},
   "outputs": [],
   "source": [
    "c7a = a8.specialize({a:aStar, b:bStar})"
   ]
  },
  {
   "cell_type": "code",
   "execution_count": null,
   "metadata": {},
   "outputs": [],
   "source": [
    "c7b = c7a.deriveConsequent()"
   ]
  },
  {
   "cell_type": "code",
   "execution_count": null,
   "metadata": {},
   "outputs": [],
   "source": [
    "#c1.prove(assumptions = [a1,a4,a5,a6,a8])"
   ]
  },
  {
   "cell_type": "code",
   "execution_count": null,
   "metadata": {},
   "outputs": [],
   "source": [
    "#specSQNR = squareRootNInRationals.specialize({n:two})"
   ]
  },
  {
   "cell_type": "code",
   "execution_count": null,
   "metadata": {},
   "outputs": [],
   "source": [
    "%end demonstrations"
   ]
  }
 ],
 "metadata": {
  "kernelspec": {
   "display_name": "Python 3",
   "language": "python",
   "name": "python3"
  },
  "language_info": {
   "codemirror_mode": {
    "name": "ipython",
    "version": 3
   },
   "file_extension": ".py",
   "mimetype": "text/x-python",
   "name": "python",
   "nbconvert_exporter": "python",
   "pygments_lexer": "ipython3",
   "version": "3.7.1"
  }
 },
 "nbformat": 4,
 "nbformat_minor": 1
}
