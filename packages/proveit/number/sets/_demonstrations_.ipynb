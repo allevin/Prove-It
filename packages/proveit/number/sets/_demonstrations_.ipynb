{
 "cells": [
  {
   "cell_type": "markdown",
   "metadata": {
    "collapsed": true
   },
   "source": [
    "Demonstrations for context <a class=\"ProveItLink\" href=\"_context_.ipynb\">proveit.number.sets</a>\n",
    "========"
   ]
  },
  {
   "cell_type": "code",
   "execution_count": 1,
   "metadata": {},
   "outputs": [],
   "source": [
    "import proveit\n",
    "from proveit import Context, defaults, Function, Literal, Operation, Variable\n",
    "from proveit._core_.proof import Theorem\n",
    "from proveit.logic import InSet, Forall, Implies, Exists, Equals, And, Not, Booleans\n",
    "from proveit._common_ import n, q, a, b, p, x, y, aPrime, bPrime, G, P, Py, alpha\n",
    "from proveit.number import one, two, four, Sqrt, Reals, NaturalsPos\n",
    "from proveit.number import Frac, Mult, Exp, Greater, GCD, Divides\n",
    "from proveit.number.sets.real._common_ import Rationals, RationalsPos\n",
    "from proveit.number.sets._theorems_ import t4, t5, t6, t7, t8, t9a, t9b, t10, t11, t12\n",
    "from proveit.number.sets._theorems_ import skolemElim02\n",
    "from proveit.number.numeral.deci._theorems_ import less_1_2, mult_2_2, posnat2\n",
    "%begin demonstrations"
   ]
  },
  {
   "cell_type": "code",
   "execution_count": 2,
   "metadata": {},
   "outputs": [],
   "source": [
    "context = Context('.')"
   ]
  },
  {
   "cell_type": "markdown",
   "metadata": {},
   "source": [
    "## Some Useful Functions & Operations:\n",
    "GCD Function and Divides Operation are defined in separate .py files in prove"
   ]
  },
  {
   "cell_type": "code",
   "execution_count": 3,
   "metadata": {},
   "outputs": [
    {
     "data": {
      "text/html": [
       "<strong id=\"testGCDExpr\">testGCDExpr:</strong> <a class=\"ProveItLink\" href=\"__pv_it/38fab076e746e6d8d142f7d50f37e95c9e193f4a0/expr.ipynb\"><img src=\"__pv_it/38fab076e746e6d8d142f7d50f37e95c9e193f4a0/expr.png\" style=\"display:inline;vertical-align:middle;\" /></a><br>"
      ],
      "text/plain": [
       "testGCDExpr: gcd(a , b)"
      ]
     },
     "execution_count": 3,
     "metadata": {},
     "output_type": "execute_result"
    }
   ],
   "source": [
    "testGCDExpr = GCD(a, b)"
   ]
  },
  {
   "cell_type": "code",
   "execution_count": 4,
   "metadata": {
    "scrolled": true
   },
   "outputs": [
    {
     "data": {
      "text/html": [
       "<strong id=\"testDivides\">testDivides:</strong> <a class=\"ProveItLink\" href=\"__pv_it/1e5794f693d1581fb3eb9aaa6299537d3f55fff40/expr.ipynb\"><img src=\"__pv_it/1e5794f693d1581fb3eb9aaa6299537d3f55fff40/expr.png\" style=\"display:inline;vertical-align:middle;\" /></a><br>"
      ],
      "text/plain": [
       "testDivides: a | b"
      ]
     },
     "execution_count": 4,
     "metadata": {},
     "output_type": "execute_result"
    }
   ],
   "source": [
    "testDivides = Divides(a, b)"
   ]
  },
  {
   "cell_type": "markdown",
   "metadata": {},
   "source": [
    "## Some Useful Theorems"
   ]
  },
  {
   "cell_type": "code",
   "execution_count": 5,
   "metadata": {},
   "outputs": [
    {
     "data": {
      "text/html": [
       "<strong id=\"t1\">t1:</strong> <span style=\"font-size:20px;\"> &#x22A2;&nbsp;<a class=\"ProveItLink\" href=\"../numeral/deci/__pv_it/cc8f030bf3f8fa8886abea87852067059d7e0b5a0/expr.ipynb\"><img src=\"../numeral/deci/__pv_it/cc8f030bf3f8fa8886abea87852067059d7e0b5a0/expr.png\" style=\"display:inline;vertical-align:middle;\" /></a></span><br>"
      ],
      "text/plain": [
       "t1: |= 2 in NaturalsPos"
      ]
     },
     "execution_count": 5,
     "metadata": {},
     "output_type": "execute_result"
    }
   ],
   "source": [
    "t1 = posnat2"
   ]
  },
  {
   "cell_type": "code",
   "execution_count": 6,
   "metadata": {},
   "outputs": [
    {
     "data": {
      "text/html": [
       "<strong id=\"t2\">t2:</strong> <span style=\"font-size:20px;\"> &#x22A2;&nbsp;<a class=\"ProveItLink\" href=\"../numeral/deci/__pv_it/9b27e8fa879d028e01d5a8e99383ba8b3715a3240/expr.ipynb\"><img src=\"../numeral/deci/__pv_it/9b27e8fa879d028e01d5a8e99383ba8b3715a3240/expr.png\" style=\"display:inline;vertical-align:middle;\" /></a></span><br>"
      ],
      "text/plain": [
       "t2: |= (2 * 2) = 4"
      ]
     },
     "execution_count": 6,
     "metadata": {},
     "output_type": "execute_result"
    }
   ],
   "source": [
    "t2 = mult_2_2"
   ]
  },
  {
   "cell_type": "code",
   "execution_count": 7,
   "metadata": {},
   "outputs": [
    {
     "data": {
      "text/html": [
       "<strong id=\"t3\">t3:</strong> <span style=\"font-size:20px;\"> &#x22A2;&nbsp;<a class=\"ProveItLink\" href=\"__pv_it/ce75cc66521bda1bb956f5b4b4019afcbb77ff9d0/expr.ipynb\"><img src=\"__pv_it/ce75cc66521bda1bb956f5b4b4019afcbb77ff9d0/expr.png\" style=\"display:inline;vertical-align:middle;\" /></a></span><br>"
      ],
      "text/plain": [
       "t3: |= 2 > 1"
      ]
     },
     "execution_count": 7,
     "metadata": {},
     "output_type": "execute_result"
    }
   ],
   "source": [
    "t3 = less_1_2.deriveReversed()"
   ]
  },
  {
   "cell_type": "code",
   "execution_count": 8,
   "metadata": {},
   "outputs": [
    {
     "data": {
      "text/html": [
       "<span style=\"font-size:20px;\"> &#x22A2;&nbsp;<a class=\"ProveItLink\" href=\"__pv_it/abaafec1ec3d659791419210e535f026aa32e3da0/expr.ipynb\"><img src=\"__pv_it/abaafec1ec3d659791419210e535f026aa32e3da0/expr.png\" style=\"display:inline;vertical-align:middle;\" /></a></span>"
      ],
      "text/plain": [
       "|= forall_{n in NaturalsPos} (([sqrt](n) in Rationals) => ([sqrt](n) in RationalsPos))"
      ]
     },
     "execution_count": 8,
     "metadata": {},
     "output_type": "execute_result"
    }
   ],
   "source": [
    "t4"
   ]
  },
  {
   "cell_type": "code",
   "execution_count": 9,
   "metadata": {},
   "outputs": [
    {
     "data": {
      "text/html": [
       "<span style=\"font-size:20px;\"> &#x22A2;&nbsp;<a class=\"ProveItLink\" href=\"__pv_it/4cf60f005f957ffbff4b816d180db799717a1c9a0/expr.ipynb\"><img src=\"__pv_it/4cf60f005f957ffbff4b816d180db799717a1c9a0/expr.png\" style=\"display:inline;vertical-align:middle;\" /></a></span>"
      ],
      "text/plain": [
       "|= forall_{q in RationalsPos} [exists_{a, b in NaturalsPos} (q = (a / b))]"
      ]
     },
     "execution_count": 9,
     "metadata": {},
     "output_type": "execute_result"
    }
   ],
   "source": [
    "t5"
   ]
  },
  {
   "cell_type": "code",
   "execution_count": 10,
   "metadata": {},
   "outputs": [
    {
     "data": {
      "text/html": [
       "<span style=\"font-size:20px;\"> &#x22A2;&nbsp;<a class=\"ProveItLink\" href=\"__pv_it/a0a30cbb2e0c1c2ab8bdecdb495aa2660692294e0/expr.ipynb\"><img src=\"__pv_it/a0a30cbb2e0c1c2ab8bdecdb495aa2660692294e0/expr.png\" style=\"display:inline;vertical-align:middle;\" /></a></span>"
      ],
      "text/plain": [
       "|= forall_{a, b in NaturalsPos} [exists_{a', b' in NaturalsPos} (((a / b) = (a' / b')) and (gcd(a' , b') = 1))]"
      ]
     },
     "execution_count": 10,
     "metadata": {},
     "output_type": "execute_result"
    }
   ],
   "source": [
    "t6"
   ]
  },
  {
   "cell_type": "code",
   "execution_count": 11,
   "metadata": {},
   "outputs": [
    {
     "data": {
      "text/html": [
       "<span style=\"font-size:20px;\"> &#x22A2;&nbsp;<a class=\"ProveItLink\" href=\"__pv_it/4b9e272f92dc55611e7d3ba904da7484984fe9c50/expr.ipynb\"><img src=\"__pv_it/4b9e272f92dc55611e7d3ba904da7484984fe9c50/expr.png\" style=\"display:inline;vertical-align:middle;\" /></a></span>"
      ],
      "text/plain": [
       "|= forall_{a, b in NaturalsPos} ((gcd(a , b) = 1) => [forall_{p in NaturalsPos} ((p > 1) => [not]((p | a) and (p | b)))])"
      ]
     },
     "execution_count": 11,
     "metadata": {},
     "output_type": "execute_result"
    }
   ],
   "source": [
    "t7"
   ]
  },
  {
   "cell_type": "code",
   "execution_count": 12,
   "metadata": {},
   "outputs": [
    {
     "data": {
      "text/html": [
       "<span style=\"font-size:20px;\"> &#x22A2;&nbsp;<a class=\"ProveItLink\" href=\"__pv_it/33404f402ffdbb44eb44b18a39ef3e839e26ac580/expr.ipynb\"><img src=\"__pv_it/33404f402ffdbb44eb44b18a39ef3e839e26ac580/expr.png\" style=\"display:inline;vertical-align:middle;\" /></a></span>"
      ],
      "text/plain": [
       "|= forall_{a, b in NaturalsPos} (([sqrt](2) = (a / b)) => ((2 * b^{2}) = a^{2}))"
      ]
     },
     "execution_count": 12,
     "metadata": {},
     "output_type": "execute_result"
    }
   ],
   "source": [
    "t8"
   ]
  },
  {
   "cell_type": "code",
   "execution_count": 13,
   "metadata": {},
   "outputs": [
    {
     "data": {
      "text/html": [
       "<span style=\"font-size:20px;\"> &#x22A2;&nbsp;<a class=\"ProveItLink\" href=\"__pv_it/da1ec91febb5508fe017d8637e5621bb8a1fa6b10/expr.ipynb\"><img src=\"__pv_it/da1ec91febb5508fe017d8637e5621bb8a1fa6b10/expr.png\" style=\"display:inline;vertical-align:middle;\" /></a></span>"
      ],
      "text/plain": [
       "|= forall_{n in NaturalsPos} (2 | (2 * n))"
      ]
     },
     "execution_count": 13,
     "metadata": {},
     "output_type": "execute_result"
    }
   ],
   "source": [
    "t9a"
   ]
  },
  {
   "cell_type": "code",
   "execution_count": 14,
   "metadata": {},
   "outputs": [
    {
     "data": {
      "text/html": [
       "<span style=\"font-size:20px;\"> &#x22A2;&nbsp;<a class=\"ProveItLink\" href=\"__pv_it/bfe310952076e389891a1c7c61201d74cf2f18380/expr.ipynb\"><img src=\"__pv_it/bfe310952076e389891a1c7c61201d74cf2f18380/expr.png\" style=\"display:inline;vertical-align:middle;\" /></a></span>"
      ],
      "text/plain": [
       "|= forall_{b in NaturalsPos} (b^{2} in NaturalsPos)"
      ]
     },
     "execution_count": 14,
     "metadata": {},
     "output_type": "execute_result"
    }
   ],
   "source": [
    "t9b"
   ]
  },
  {
   "cell_type": "code",
   "execution_count": 15,
   "metadata": {},
   "outputs": [
    {
     "data": {
      "text/html": [
       "<span style=\"font-size:20px;\"> &#x22A2;&nbsp;<a class=\"ProveItLink\" href=\"__pv_it/60030f08e6e2d88d1c09dea2d2357e412a41ef930/expr.ipynb\"><img src=\"__pv_it/60030f08e6e2d88d1c09dea2d2357e412a41ef930/expr.png\" style=\"display:inline;vertical-align:middle;\" /></a></span>"
      ],
      "text/plain": [
       "|= forall_{a in NaturalsPos} ([not](2 | a) => [not](2 | a^{2}))"
      ]
     },
     "execution_count": 15,
     "metadata": {},
     "output_type": "execute_result"
    }
   ],
   "source": [
    "t10"
   ]
  },
  {
   "cell_type": "code",
   "execution_count": 16,
   "metadata": {},
   "outputs": [
    {
     "data": {
      "text/html": [
       "<span style=\"font-size:20px;\"> &#x22A2;&nbsp;<a class=\"ProveItLink\" href=\"__pv_it/a0ff9bb56f568b9fbe994afeabed45eabcdff89e0/expr.ipynb\"><img src=\"__pv_it/a0ff9bb56f568b9fbe994afeabed45eabcdff89e0/expr.png\" style=\"display:inline;vertical-align:middle;\" /></a></span>"
      ],
      "text/plain": [
       "|= forall_{a in NaturalsPos} ((2 | a) => (4 | a^{2}))"
      ]
     },
     "execution_count": 16,
     "metadata": {},
     "output_type": "execute_result"
    }
   ],
   "source": [
    "t11"
   ]
  },
  {
   "cell_type": "code",
   "execution_count": 17,
   "metadata": {},
   "outputs": [
    {
     "data": {
      "text/html": [
       "<span style=\"font-size:20px;\"> &#x22A2;&nbsp;<a class=\"ProveItLink\" href=\"__pv_it/02e3c781366161ba654a468be105f0b1ccbb81a40/expr.ipynb\"><img src=\"__pv_it/02e3c781366161ba654a468be105f0b1ccbb81a40/expr.png\" style=\"display:inline;vertical-align:middle;\" /></a></span>"
      ],
      "text/plain": [
       "|= forall_{n, p in NaturalsPos} (((2 * n) | (2 * p)) => (n | p))"
      ]
     },
     "execution_count": 17,
     "metadata": {},
     "output_type": "execute_result"
    }
   ],
   "source": [
    "t12"
   ]
  },
  {
   "cell_type": "markdown",
   "metadata": {},
   "source": [
    "## A Check on the defaults.assumptions"
   ]
  },
  {
   "cell_type": "code",
   "execution_count": 18,
   "metadata": {},
   "outputs": [
    {
     "data": {
      "text/plain": [
       "()"
      ]
     },
     "execution_count": 18,
     "metadata": {},
     "output_type": "execute_result"
    }
   ],
   "source": [
    "defaults.assumptions"
   ]
  },
  {
   "cell_type": "markdown",
   "metadata": {},
   "source": [
    "## Defining an Assumption to Allow Skolemization"
   ]
  },
  {
   "cell_type": "code",
   "execution_count": 19,
   "metadata": {},
   "outputs": [
    {
     "data": {
      "text/html": [
       "<strong id=\"aHat\">aHat:</strong> <a class=\"ProveItLink\" href=\"__pv_it/0d73718329a1ebbff99c540bf21f29745fa8ee590/expr.ipynb\"><img src=\"__pv_it/0d73718329a1ebbff99c540bf21f29745fa8ee590/expr.png\" style=\"display:inline;vertical-align:middle;\" /></a><br>"
      ],
      "text/plain": [
       "aHat: aHat"
      ]
     },
     "execution_count": 19,
     "metadata": {},
     "output_type": "execute_result"
    }
   ],
   "source": [
    "aHat = Variable('aHat', \"\\hat{a}\")"
   ]
  },
  {
   "cell_type": "code",
   "execution_count": 20,
   "metadata": {},
   "outputs": [
    {
     "data": {
      "text/html": [
       "<strong id=\"bHat\">bHat:</strong> <a class=\"ProveItLink\" href=\"__pv_it/8dce3093518ad1d2ace0ada2a2d02599e8f3a6e00/expr.ipynb\"><img src=\"__pv_it/8dce3093518ad1d2ace0ada2a2d02599e8f3a6e00/expr.png\" style=\"display:inline;vertical-align:middle;\" /></a><br>"
      ],
      "text/plain": [
       "bHat: bHat"
      ]
     },
     "execution_count": 20,
     "metadata": {},
     "output_type": "execute_result"
    }
   ],
   "source": [
    "bHat = Variable('bHat', \"\\hat{b}\")"
   ]
  },
  {
   "cell_type": "code",
   "execution_count": 21,
   "metadata": {},
   "outputs": [
    {
     "data": {
      "text/html": [
       "<strong id=\"a13\">a13:</strong> <a class=\"ProveItLink\" href=\"__pv_it/3e1f85f143b72d749551bc89cf354b5d5ea68e560/expr.ipynb\"><img src=\"__pv_it/3e1f85f143b72d749551bc89cf354b5d5ea68e560/expr.png\" style=\"display:inline;vertical-align:middle;\" /></a><br>"
      ],
      "text/plain": [
       "a13: (aHat in NaturalsPos , bHat in NaturalsPos , [sqrt](2) = (aHat / bHat))"
      ]
     },
     "execution_count": 21,
     "metadata": {},
     "output_type": "execute_result"
    }
   ],
   "source": [
    "a13 = (InSet(aHat, NaturalsPos), InSet(bHat, NaturalsPos),\n",
    "       Equals(Sqrt(two),Frac(aHat,bHat)))"
   ]
  },
  {
   "cell_type": "markdown",
   "metadata": {},
   "source": [
    "## Begin a Sequence of Conclusions"
   ]
  },
  {
   "cell_type": "code",
   "execution_count": 22,
   "metadata": {},
   "outputs": [
    {
     "data": {
      "text/html": [
       "<strong id=\"c1\">c1:</strong> <span style=\"font-size:20px;\"><a class=\"ProveItLink\" href=\"__pv_it/ed78e75f91dc995cd9b8d44f66003ee66a07ceb40/expr.ipynb\"><img src=\"__pv_it/ed78e75f91dc995cd9b8d44f66003ee66a07ceb40/expr.png\" style=\"display:inline;vertical-align:middle;\" /></a> &#x22A2;&nbsp;<a class=\"ProveItLink\" href=\"__pv_it/59792c8af0ea987a4d0085adc62e8523bcccaf020/expr.ipynb\"><img src=\"__pv_it/59792c8af0ea987a4d0085adc62e8523bcccaf020/expr.png\" style=\"display:inline;vertical-align:middle;\" /></a></span><br>"
      ],
      "text/plain": [
       "c1: {[sqrt](2) in Rationals} |= [sqrt](2) in Rationals"
      ]
     },
     "execution_count": 22,
     "metadata": {},
     "output_type": "execute_result"
    }
   ],
   "source": [
    "c1 = InSet(Sqrt(two), Rationals).prove([InSet(Sqrt(two), Rationals)])"
   ]
  },
  {
   "cell_type": "code",
   "execution_count": 23,
   "metadata": {},
   "outputs": [
    {
     "data": {
      "text/html": [
       "<strong id=\"defaults.assumptions\">defaults.assumptions:</strong> <a class=\"ProveItLink\" href=\"__pv_it/82117fc58984032295137d309796bba1e35296a80/expr.ipynb\"><img src=\"__pv_it/82117fc58984032295137d309796bba1e35296a80/expr.png\" style=\"display:inline;vertical-align:middle;\" /></a><br>"
      ],
      "text/plain": [
       "defaults.assumptions: ([sqrt](2) in Rationals , (2 * 2) = 4)"
      ]
     },
     "execution_count": 23,
     "metadata": {},
     "output_type": "execute_result"
    }
   ],
   "source": [
    "defaults.assumptions = [*c1.assumptions, t2.expr]"
   ]
  },
  {
   "cell_type": "code",
   "execution_count": 24,
   "metadata": {},
   "outputs": [
    {
     "data": {
      "text/html": [
       "<span style=\"font-size:20px;\"> &#x22A2;&nbsp;<a class=\"ProveItLink\" href=\"__pv_it/abaafec1ec3d659791419210e535f026aa32e3da0/expr.ipynb\"><img src=\"__pv_it/abaafec1ec3d659791419210e535f026aa32e3da0/expr.png\" style=\"display:inline;vertical-align:middle;\" /></a></span>"
      ],
      "text/plain": [
       "|= forall_{n in NaturalsPos} (([sqrt](n) in Rationals) => ([sqrt](n) in RationalsPos))"
      ]
     },
     "execution_count": 24,
     "metadata": {},
     "output_type": "execute_result"
    }
   ],
   "source": [
    "# A reminder what Theorem t4 looks like\n",
    "t4"
   ]
  },
  {
   "cell_type": "code",
   "execution_count": 25,
   "metadata": {},
   "outputs": [
    {
     "data": {
      "text/html": [
       "<strong id=\"c2a\">c2a:</strong> <span style=\"font-size:20px;\"> &#x22A2;&nbsp;<a class=\"ProveItLink\" href=\"__pv_it/1ba20ff2a5f9bcff7ae3b0c5ca17cd05ab40677c0/expr.ipynb\"><img src=\"__pv_it/1ba20ff2a5f9bcff7ae3b0c5ca17cd05ab40677c0/expr.png\" style=\"display:inline;vertical-align:middle;\" /></a></span><br>"
      ],
      "text/plain": [
       "c2a: |= ([sqrt](2) in Rationals) => ([sqrt](2) in RationalsPos)"
      ]
     },
     "execution_count": 25,
     "metadata": {},
     "output_type": "execute_result"
    }
   ],
   "source": [
    "c2a = t4.specialize({n:two})"
   ]
  },
  {
   "cell_type": "code",
   "execution_count": 26,
   "metadata": {},
   "outputs": [
    {
     "data": {
      "text/html": [
       "<strong id=\"c2\">c2:</strong> <span style=\"font-size:20px;\"><a class=\"ProveItLink\" href=\"__pv_it/ed78e75f91dc995cd9b8d44f66003ee66a07ceb40/expr.ipynb\"><img src=\"__pv_it/ed78e75f91dc995cd9b8d44f66003ee66a07ceb40/expr.png\" style=\"display:inline;vertical-align:middle;\" /></a> &#x22A2;&nbsp;<a class=\"ProveItLink\" href=\"__pv_it/9a22babafdf92a651c1f3e6611e36f6f8738d8380/expr.ipynb\"><img src=\"__pv_it/9a22babafdf92a651c1f3e6611e36f6f8738d8380/expr.png\" style=\"display:inline;vertical-align:middle;\" /></a></span><br>"
      ],
      "text/plain": [
       "c2: {[sqrt](2) in Rationals} |= [sqrt](2) in RationalsPos"
      ]
     },
     "execution_count": 26,
     "metadata": {},
     "output_type": "execute_result"
    }
   ],
   "source": [
    "c2 = c2a.deriveConsequent()"
   ]
  },
  {
   "cell_type": "code",
   "execution_count": 27,
   "metadata": {},
   "outputs": [
    {
     "data": {
      "text/html": [
       "<span style=\"font-size:20px;\"> &#x22A2;&nbsp;<a class=\"ProveItLink\" href=\"__pv_it/4cf60f005f957ffbff4b816d180db799717a1c9a0/expr.ipynb\"><img src=\"__pv_it/4cf60f005f957ffbff4b816d180db799717a1c9a0/expr.png\" style=\"display:inline;vertical-align:middle;\" /></a></span>"
      ],
      "text/plain": [
       "|= forall_{q in RationalsPos} [exists_{a, b in NaturalsPos} (q = (a / b))]"
      ]
     },
     "execution_count": 27,
     "metadata": {},
     "output_type": "execute_result"
    }
   ],
   "source": [
    "# A reminder what Theorem t5 looks like\n",
    "t5"
   ]
  },
  {
   "cell_type": "code",
   "execution_count": 28,
   "metadata": {},
   "outputs": [
    {
     "data": {
      "text/html": [
       "<strong id=\"c3\">c3:</strong> <span style=\"font-size:20px;\"><a class=\"ProveItLink\" href=\"__pv_it/ed78e75f91dc995cd9b8d44f66003ee66a07ceb40/expr.ipynb\"><img src=\"__pv_it/ed78e75f91dc995cd9b8d44f66003ee66a07ceb40/expr.png\" style=\"display:inline;vertical-align:middle;\" /></a> &#x22A2;&nbsp;<a class=\"ProveItLink\" href=\"__pv_it/0dd2be139c4dd6ae0adac9fcd8c95c53646f4d1d0/expr.ipynb\"><img src=\"__pv_it/0dd2be139c4dd6ae0adac9fcd8c95c53646f4d1d0/expr.png\" style=\"display:inline;vertical-align:middle;\" /></a></span><br>"
      ],
      "text/plain": [
       "c3: {[sqrt](2) in Rationals} |= exists_{a, b in NaturalsPos} ([sqrt](2) = (a / b))"
      ]
     },
     "execution_count": 28,
     "metadata": {},
     "output_type": "execute_result"
    }
   ],
   "source": [
    "c3 = t5.specialize({q:Sqrt(two)})"
   ]
  },
  {
   "cell_type": "code",
   "execution_count": 29,
   "metadata": {},
   "outputs": [
    {
     "data": {
      "text/plain": [
       "(aHat in NaturalsPos, bHat in NaturalsPos, [sqrt](2) = (aHat / bHat))"
      ]
     },
     "execution_count": 29,
     "metadata": {},
     "output_type": "execute_result"
    }
   ],
   "source": [
    "# A reminder what Assumption a13 looks like\n",
    "a13"
   ]
  },
  {
   "cell_type": "code",
   "execution_count": 30,
   "metadata": {},
   "outputs": [],
   "source": [
    "# We will use a13 as a way to achieve the \"choice\"\n",
    "# of Skolem constants aHat and bHat\n",
    "# so we add a13 to the defaults.assumptions and establish\n",
    "# a13 as a conclusion to represent the Skolemization process\n",
    "defaults.assumptions = [*defaults.assumptions, *a13]\n",
    "# c4 = a13.prove()"
   ]
  },
  {
   "cell_type": "code",
   "execution_count": 31,
   "metadata": {},
   "outputs": [
    {
     "data": {
      "text/html": [
       "<span style=\"font-size:20px;\"> &#x22A2;&nbsp;<a class=\"ProveItLink\" href=\"__pv_it/a0a30cbb2e0c1c2ab8bdecdb495aa2660692294e0/expr.ipynb\"><img src=\"__pv_it/a0a30cbb2e0c1c2ab8bdecdb495aa2660692294e0/expr.png\" style=\"display:inline;vertical-align:middle;\" /></a></span>"
      ],
      "text/plain": [
       "|= forall_{a, b in NaturalsPos} [exists_{a', b' in NaturalsPos} (((a / b) = (a' / b')) and (gcd(a' , b') = 1))]"
      ]
     },
     "execution_count": 31,
     "metadata": {},
     "output_type": "execute_result"
    }
   ],
   "source": [
    "# A reminder what Theorem t6 looks like\n",
    "t6"
   ]
  },
  {
   "cell_type": "code",
   "execution_count": 32,
   "metadata": {},
   "outputs": [
    {
     "data": {
      "text/html": [
       "<strong id=\"c5\">c5:</strong> <span style=\"font-size:20px;\"><a class=\"ProveItLink\" href=\"__pv_it/6604dd6718acee07f72aa4add577948a4040f0c30/expr.ipynb\"><img src=\"__pv_it/6604dd6718acee07f72aa4add577948a4040f0c30/expr.png\" style=\"display:inline;vertical-align:middle;\" /></a> &#x22A2;&nbsp;<a class=\"ProveItLink\" href=\"__pv_it/7598051d64baa46543e04c7b09344aa6db7029ec0/expr.ipynb\"><img src=\"__pv_it/7598051d64baa46543e04c7b09344aa6db7029ec0/expr.png\" style=\"display:inline;vertical-align:middle;\" /></a></span><br>"
      ],
      "text/plain": [
       "c5: {aHat in NaturalsPos , bHat in NaturalsPos} |= exists_{a', b' in NaturalsPos} (((aHat / bHat) = (a' / b')) and (gcd(a' , b') = 1))"
      ]
     },
     "execution_count": 32,
     "metadata": {},
     "output_type": "execute_result"
    }
   ],
   "source": [
    "c5 = t6.specialize({a:aHat, b:bHat})"
   ]
  },
  {
   "cell_type": "code",
   "execution_count": 33,
   "metadata": {},
   "outputs": [],
   "source": [
    "aStar = Variable('aStar', \"(a ^ *)\")\n",
    "bStar = Variable('bStar', \"(b ^ *)\")\n",
    "a14 = (InSet(aStar, NaturalsPos), InSet(bStar, NaturalsPos), \n",
    "       And(Equals(Frac(aHat,bHat), Frac(aStar,bStar)), \n",
    "           Equals(GCD(aStar, bStar), one) ))\n",
    "\n",
    "# And(\n",
    "#     And(\n",
    "#     And(\n",
    "#         InSet(aStar, NaturalsPos),\n",
    "#         InSet(bStar, NaturalsPos)\n",
    "#     ), Equals(Frac(aHat,bHat), Frac(aStar,bStar))\n",
    "#     ), Equals(GCD(aStar, bStar), one)\n",
    "# )"
   ]
  },
  {
   "cell_type": "code",
   "execution_count": 34,
   "metadata": {},
   "outputs": [
    {
     "data": {
      "text/html": [
       "<strong id=\"defaults.assumptions\">defaults.assumptions:</strong> <a class=\"ProveItLink\" href=\"__pv_it/8ad708b4bac7eb916f55f3b1cdfe47a66185e0fc0/expr.ipynb\"><img src=\"__pv_it/8ad708b4bac7eb916f55f3b1cdfe47a66185e0fc0/expr.png\" style=\"display:inline;vertical-align:middle;\" /></a><br>"
      ],
      "text/plain": [
       "defaults.assumptions: ([sqrt](2) in Rationals , (2 * 2) = 4 , aHat in NaturalsPos , bHat in NaturalsPos , [sqrt](2) = (aHat / bHat) , aStar in NaturalsPos , bStar in NaturalsPos , ((aHat / bHat) = (aStar / bStar)) and (gcd(aStar , bStar) = 1))"
      ]
     },
     "execution_count": 34,
     "metadata": {},
     "output_type": "execute_result"
    }
   ],
   "source": [
    "defaults.assumptions = [*defaults.assumptions, *a14]"
   ]
  },
  {
   "cell_type": "code",
   "execution_count": 35,
   "metadata": {},
   "outputs": [],
   "source": [
    "# c6 = a14.prove()"
   ]
  },
  {
   "cell_type": "code",
   "execution_count": 36,
   "metadata": {},
   "outputs": [
    {
     "data": {
      "text/html": [
       "<span style=\"font-size:20px;\"> &#x22A2;&nbsp;<a class=\"ProveItLink\" href=\"__pv_it/33404f402ffdbb44eb44b18a39ef3e839e26ac580/expr.ipynb\"><img src=\"__pv_it/33404f402ffdbb44eb44b18a39ef3e839e26ac580/expr.png\" style=\"display:inline;vertical-align:middle;\" /></a></span>"
      ],
      "text/plain": [
       "|= forall_{a, b in NaturalsPos} (([sqrt](2) = (a / b)) => ((2 * b^{2}) = a^{2}))"
      ]
     },
     "execution_count": 36,
     "metadata": {},
     "output_type": "execute_result"
    }
   ],
   "source": [
    "t8"
   ]
  },
  {
   "cell_type": "code",
   "execution_count": 37,
   "metadata": {},
   "outputs": [
    {
     "data": {
      "text/html": [
       "<strong id=\"c7a\">c7a:</strong> <span style=\"font-size:20px;\"><a class=\"ProveItLink\" href=\"__pv_it/476a0236cffa024e37cf8a6b04ae01ced4b8055b0/expr.ipynb\"><img src=\"__pv_it/476a0236cffa024e37cf8a6b04ae01ced4b8055b0/expr.png\" style=\"display:inline;vertical-align:middle;\" /></a> &#x22A2;&nbsp;<a class=\"ProveItLink\" href=\"__pv_it/1c625f1a4fa90cfd772fdfd55db91711f5ebb0040/expr.ipynb\"><img src=\"__pv_it/1c625f1a4fa90cfd772fdfd55db91711f5ebb0040/expr.png\" style=\"display:inline;vertical-align:middle;\" /></a></span><br>"
      ],
      "text/plain": [
       "c7a: {[sqrt](2) = (aHat / bHat) , ((aHat / bHat) = (aStar / bStar)) and (gcd(aStar , bStar) = 1)} |= [sqrt](2) = (aStar / bStar)"
      ]
     },
     "execution_count": 37,
     "metadata": {},
     "output_type": "execute_result"
    }
   ],
   "source": [
    "c7a = Equals(Sqrt(two), Frac(aStar, bStar)).prove()"
   ]
  },
  {
   "cell_type": "code",
   "execution_count": 38,
   "metadata": {},
   "outputs": [
    {
     "data": {
      "text/html": [
       "<strong id=\"c7b\">c7b:</strong> <span style=\"font-size:20px;\"><a class=\"ProveItLink\" href=\"__pv_it/07427e8d46ff140e22d80aded9fbdb4377b17b670/expr.ipynb\"><img src=\"__pv_it/07427e8d46ff140e22d80aded9fbdb4377b17b670/expr.png\" style=\"display:inline;vertical-align:middle;\" /></a> &#x22A2;&nbsp;<a class=\"ProveItLink\" href=\"__pv_it/4e9886424a68fa1160a3017349ffaa97ad07aead0/expr.ipynb\"><img src=\"__pv_it/4e9886424a68fa1160a3017349ffaa97ad07aead0/expr.png\" style=\"display:inline;vertical-align:middle;\" /></a></span><br>"
      ],
      "text/plain": [
       "c7b: {aStar in NaturalsPos , bStar in NaturalsPos} |= ([sqrt](2) = (aStar / bStar)) => ((2 * bStar^{2}) = aStar^{2})"
      ]
     },
     "execution_count": 38,
     "metadata": {},
     "output_type": "execute_result"
    }
   ],
   "source": [
    "c7b = t8.specialize({a:aStar, b:bStar})"
   ]
  },
  {
   "cell_type": "code",
   "execution_count": 39,
   "metadata": {},
   "outputs": [
    {
     "data": {
      "text/html": [
       "<strong id=\"c7\">c7:</strong> <span style=\"font-size:20px;\"><a class=\"ProveItLink\" href=\"__pv_it/c3fb3e5167eef8ea3680e4327bb97a90470b9f200/expr.ipynb\"><img src=\"__pv_it/c3fb3e5167eef8ea3680e4327bb97a90470b9f200/expr.png\" style=\"display:inline;vertical-align:middle;\" /></a> &#x22A2;&nbsp;<a class=\"ProveItLink\" href=\"__pv_it/df87ba7ad16318e4fb3d2c33c9dab2518f0df0080/expr.ipynb\"><img src=\"__pv_it/df87ba7ad16318e4fb3d2c33c9dab2518f0df0080/expr.png\" style=\"display:inline;vertical-align:middle;\" /></a></span><br>"
      ],
      "text/plain": [
       "c7: {[sqrt](2) = (aHat / bHat) , aStar in NaturalsPos , bStar in NaturalsPos , ((aHat / bHat) = (aStar / bStar)) and (gcd(aStar , bStar) = 1)} |= (2 * bStar^{2}) = aStar^{2}"
      ]
     },
     "execution_count": 39,
     "metadata": {},
     "output_type": "execute_result"
    }
   ],
   "source": [
    "c7 = c7b.deriveConsequent()"
   ]
  },
  {
   "cell_type": "code",
   "execution_count": 40,
   "metadata": {},
   "outputs": [
    {
     "data": {
      "text/html": [
       "<span style=\"font-size:20px;\"> &#x22A2;&nbsp;<a class=\"ProveItLink\" href=\"__pv_it/da1ec91febb5508fe017d8637e5621bb8a1fa6b10/expr.ipynb\"><img src=\"__pv_it/da1ec91febb5508fe017d8637e5621bb8a1fa6b10/expr.png\" style=\"display:inline;vertical-align:middle;\" /></a></span>"
      ],
      "text/plain": [
       "|= forall_{n in NaturalsPos} (2 | (2 * n))"
      ]
     },
     "execution_count": 40,
     "metadata": {},
     "output_type": "execute_result"
    }
   ],
   "source": [
    "t9a"
   ]
  },
  {
   "cell_type": "code",
   "execution_count": 41,
   "metadata": {},
   "outputs": [
    {
     "data": {
      "text/html": [
       "<span style=\"font-size:20px;\"> &#x22A2;&nbsp;<a class=\"ProveItLink\" href=\"__pv_it/bfe310952076e389891a1c7c61201d74cf2f18380/expr.ipynb\"><img src=\"__pv_it/bfe310952076e389891a1c7c61201d74cf2f18380/expr.png\" style=\"display:inline;vertical-align:middle;\" /></a></span>"
      ],
      "text/plain": [
       "|= forall_{b in NaturalsPos} (b^{2} in NaturalsPos)"
      ]
     },
     "execution_count": 41,
     "metadata": {},
     "output_type": "execute_result"
    }
   ],
   "source": [
    "t9b"
   ]
  },
  {
   "cell_type": "code",
   "execution_count": 42,
   "metadata": {},
   "outputs": [
    {
     "data": {
      "text/html": [
       "<span style=\"font-size:20px;\"><a class=\"ProveItLink\" href=\"__pv_it/7d05058717a41769f1369a003b1ab1683aa0e4070/expr.ipynb\"><img src=\"__pv_it/7d05058717a41769f1369a003b1ab1683aa0e4070/expr.png\" style=\"display:inline;vertical-align:middle;\" /></a> &#x22A2;&nbsp;<a class=\"ProveItLink\" href=\"__pv_it/95e77bc782690e1406adcd13b82d01a9a36db7580/expr.ipynb\"><img src=\"__pv_it/95e77bc782690e1406adcd13b82d01a9a36db7580/expr.png\" style=\"display:inline;vertical-align:middle;\" /></a></span>"
      ],
      "text/plain": [
       "{bStar in NaturalsPos} |= bStar^{2} in NaturalsPos"
      ]
     },
     "execution_count": 42,
     "metadata": {},
     "output_type": "execute_result"
    }
   ],
   "source": [
    "t9b.specialize({b:bStar})"
   ]
  },
  {
   "cell_type": "code",
   "execution_count": 43,
   "metadata": {},
   "outputs": [
    {
     "data": {
      "text/html": [
       "<strong id=\"c8\">c8:</strong> <span style=\"font-size:20px;\"><a class=\"ProveItLink\" href=\"__pv_it/7d05058717a41769f1369a003b1ab1683aa0e4070/expr.ipynb\"><img src=\"__pv_it/7d05058717a41769f1369a003b1ab1683aa0e4070/expr.png\" style=\"display:inline;vertical-align:middle;\" /></a> &#x22A2;&nbsp;<a class=\"ProveItLink\" href=\"__pv_it/fee5898c45e27a5268a5fa1cfb4292d74acf0cf30/expr.ipynb\"><img src=\"__pv_it/fee5898c45e27a5268a5fa1cfb4292d74acf0cf30/expr.png\" style=\"display:inline;vertical-align:middle;\" /></a></span><br>"
      ],
      "text/plain": [
       "c8: {bStar in NaturalsPos} |= 2 | (2 * bStar^{2})"
      ]
     },
     "execution_count": 43,
     "metadata": {},
     "output_type": "execute_result"
    }
   ],
   "source": [
    "c8 = t9a.specialize({n:Exp(bStar, two)})"
   ]
  },
  {
   "cell_type": "code",
   "execution_count": 44,
   "metadata": {
    "scrolled": true
   },
   "outputs": [
    {
     "data": {
      "text/html": [
       "<strong id=\"c9\">c9:</strong> <span style=\"font-size:20px;\"><a class=\"ProveItLink\" href=\"__pv_it/c3fb3e5167eef8ea3680e4327bb97a90470b9f200/expr.ipynb\"><img src=\"__pv_it/c3fb3e5167eef8ea3680e4327bb97a90470b9f200/expr.png\" style=\"display:inline;vertical-align:middle;\" /></a> &#x22A2;&nbsp;<a class=\"ProveItLink\" href=\"__pv_it/876a4ef90dd47747d051d552f48e8e69a0d2173a0/expr.ipynb\"><img src=\"__pv_it/876a4ef90dd47747d051d552f48e8e69a0d2173a0/expr.png\" style=\"display:inline;vertical-align:middle;\" /></a></span><br>"
      ],
      "text/plain": [
       "c9: {[sqrt](2) = (aHat / bHat) , aStar in NaturalsPos , bStar in NaturalsPos , ((aHat / bHat) = (aStar / bStar)) and (gcd(aStar , bStar) = 1)} |= 2 | aStar^{2}"
      ]
     },
     "execution_count": 44,
     "metadata": {},
     "output_type": "execute_result"
    }
   ],
   "source": [
    "c9 = c7.subRightSideInto(c8)"
   ]
  },
  {
   "cell_type": "code",
   "execution_count": 45,
   "metadata": {},
   "outputs": [
    {
     "data": {
      "text/html": [
       "<span style=\"font-size:20px;\"> &#x22A2;&nbsp;<a class=\"ProveItLink\" href=\"__pv_it/60030f08e6e2d88d1c09dea2d2357e412a41ef930/expr.ipynb\"><img src=\"__pv_it/60030f08e6e2d88d1c09dea2d2357e412a41ef930/expr.png\" style=\"display:inline;vertical-align:middle;\" /></a></span>"
      ],
      "text/plain": [
       "|= forall_{a in NaturalsPos} ([not](2 | a) => [not](2 | a^{2}))"
      ]
     },
     "execution_count": 45,
     "metadata": {},
     "output_type": "execute_result"
    }
   ],
   "source": [
    "# A reminder what Theorem t10 looks like\n",
    "t10"
   ]
  },
  {
   "cell_type": "code",
   "execution_count": 46,
   "metadata": {},
   "outputs": [
    {
     "data": {
      "text/html": [
       "<strong id=\"c10a\">c10a:</strong> <span style=\"font-size:20px;\"><a class=\"ProveItLink\" href=\"__pv_it/9fa5d6a5703eab928fc110e2b4f596172412e71f0/expr.ipynb\"><img src=\"__pv_it/9fa5d6a5703eab928fc110e2b4f596172412e71f0/expr.png\" style=\"display:inline;vertical-align:middle;\" /></a> &#x22A2;&nbsp;<a class=\"ProveItLink\" href=\"__pv_it/8e270300ef74fa25fb20d78e659fe7bbd83461090/expr.ipynb\"><img src=\"__pv_it/8e270300ef74fa25fb20d78e659fe7bbd83461090/expr.png\" style=\"display:inline;vertical-align:middle;\" /></a></span><br>"
      ],
      "text/plain": [
       "c10a: {aStar in NaturalsPos} |= [not](2 | aStar) => [not](2 | aStar^{2})"
      ]
     },
     "execution_count": 46,
     "metadata": {},
     "output_type": "execute_result"
    }
   ],
   "source": [
    "c10a = t10.specialize({a:aStar})"
   ]
  },
  {
   "cell_type": "code",
   "execution_count": 47,
   "metadata": {},
   "outputs": [
    {
     "data": {
      "text/html": [
       "<strong id=\"c10\">c10:</strong> <span style=\"font-size:20px;\"><a class=\"ProveItLink\" href=\"__pv_it/c3fb3e5167eef8ea3680e4327bb97a90470b9f200/expr.ipynb\"><img src=\"__pv_it/c3fb3e5167eef8ea3680e4327bb97a90470b9f200/expr.png\" style=\"display:inline;vertical-align:middle;\" /></a> &#x22A2;&nbsp;<a class=\"ProveItLink\" href=\"__pv_it/ac32e091cfc5eb107300ba0117a291deb47abed30/expr.ipynb\"><img src=\"__pv_it/ac32e091cfc5eb107300ba0117a291deb47abed30/expr.png\" style=\"display:inline;vertical-align:middle;\" /></a></span><br>"
      ],
      "text/plain": [
       "c10: {[sqrt](2) = (aHat / bHat) , aStar in NaturalsPos , bStar in NaturalsPos , ((aHat / bHat) = (aStar / bStar)) and (gcd(aStar , bStar) = 1)} |= 2 | aStar"
      ]
     },
     "execution_count": 47,
     "metadata": {},
     "output_type": "execute_result"
    }
   ],
   "source": [
    "c10 = c10a.denyAntecedent()"
   ]
  },
  {
   "cell_type": "code",
   "execution_count": 48,
   "metadata": {},
   "outputs": [
    {
     "data": {
      "text/html": [
       "<span style=\"font-size:20px;\"> &#x22A2;&nbsp;<a class=\"ProveItLink\" href=\"__pv_it/a0ff9bb56f568b9fbe994afeabed45eabcdff89e0/expr.ipynb\"><img src=\"__pv_it/a0ff9bb56f568b9fbe994afeabed45eabcdff89e0/expr.png\" style=\"display:inline;vertical-align:middle;\" /></a></span>"
      ],
      "text/plain": [
       "|= forall_{a in NaturalsPos} ((2 | a) => (4 | a^{2}))"
      ]
     },
     "execution_count": 48,
     "metadata": {},
     "output_type": "execute_result"
    }
   ],
   "source": [
    "# A reminder what Theorem t11 looks like\n",
    "t11"
   ]
  },
  {
   "cell_type": "code",
   "execution_count": 49,
   "metadata": {},
   "outputs": [
    {
     "data": {
      "text/html": [
       "<strong id=\"c11a\">c11a:</strong> <span style=\"font-size:20px;\"><a class=\"ProveItLink\" href=\"__pv_it/9fa5d6a5703eab928fc110e2b4f596172412e71f0/expr.ipynb\"><img src=\"__pv_it/9fa5d6a5703eab928fc110e2b4f596172412e71f0/expr.png\" style=\"display:inline;vertical-align:middle;\" /></a> &#x22A2;&nbsp;<a class=\"ProveItLink\" href=\"__pv_it/99011a3973024bfb6ba829d8a235c2243e5fe7f00/expr.ipynb\"><img src=\"__pv_it/99011a3973024bfb6ba829d8a235c2243e5fe7f00/expr.png\" style=\"display:inline;vertical-align:middle;\" /></a></span><br>"
      ],
      "text/plain": [
       "c11a: {aStar in NaturalsPos} |= (2 | aStar) => (4 | aStar^{2})"
      ]
     },
     "execution_count": 49,
     "metadata": {},
     "output_type": "execute_result"
    }
   ],
   "source": [
    "c11a = t11.specialize({a:aStar})"
   ]
  },
  {
   "cell_type": "code",
   "execution_count": 50,
   "metadata": {},
   "outputs": [
    {
     "data": {
      "text/html": [
       "<strong id=\"c11\">c11:</strong> <span style=\"font-size:20px;\"><a class=\"ProveItLink\" href=\"__pv_it/c3fb3e5167eef8ea3680e4327bb97a90470b9f200/expr.ipynb\"><img src=\"__pv_it/c3fb3e5167eef8ea3680e4327bb97a90470b9f200/expr.png\" style=\"display:inline;vertical-align:middle;\" /></a> &#x22A2;&nbsp;<a class=\"ProveItLink\" href=\"__pv_it/f832599203a1cc29600920ce50b6b4b0e934b1010/expr.ipynb\"><img src=\"__pv_it/f832599203a1cc29600920ce50b6b4b0e934b1010/expr.png\" style=\"display:inline;vertical-align:middle;\" /></a></span><br>"
      ],
      "text/plain": [
       "c11: {[sqrt](2) = (aHat / bHat) , aStar in NaturalsPos , bStar in NaturalsPos , ((aHat / bHat) = (aStar / bStar)) and (gcd(aStar , bStar) = 1)} |= 4 | aStar^{2}"
      ]
     },
     "execution_count": 50,
     "metadata": {},
     "output_type": "execute_result"
    }
   ],
   "source": [
    "c11 = c11a.deriveConsequent()"
   ]
  },
  {
   "cell_type": "code",
   "execution_count": 51,
   "metadata": {
    "scrolled": true
   },
   "outputs": [
    {
     "data": {
      "text/html": [
       "<strong id=\"c12\">c12:</strong> <span style=\"font-size:20px;\"><a class=\"ProveItLink\" href=\"__pv_it/c3fb3e5167eef8ea3680e4327bb97a90470b9f200/expr.ipynb\"><img src=\"__pv_it/c3fb3e5167eef8ea3680e4327bb97a90470b9f200/expr.png\" style=\"display:inline;vertical-align:middle;\" /></a> &#x22A2;&nbsp;<a class=\"ProveItLink\" href=\"__pv_it/2e434ff8de10776523f8992ca8eb7d9565803ae30/expr.ipynb\"><img src=\"__pv_it/2e434ff8de10776523f8992ca8eb7d9565803ae30/expr.png\" style=\"display:inline;vertical-align:middle;\" /></a></span><br>"
      ],
      "text/plain": [
       "c12: {[sqrt](2) = (aHat / bHat) , aStar in NaturalsPos , bStar in NaturalsPos , ((aHat / bHat) = (aStar / bStar)) and (gcd(aStar , bStar) = 1)} |= 4 | (2 * bStar^{2})"
      ]
     },
     "execution_count": 51,
     "metadata": {},
     "output_type": "execute_result"
    }
   ],
   "source": [
    "c12 = c7.subLeftSideInto(c11)"
   ]
  },
  {
   "cell_type": "markdown",
   "metadata": {},
   "source": [
    "#### STEP 13\n",
    "But $4\\rvert 2b^{*2}$ and $2\\times 2 = 4$ and $\\forall_{n,p\\in N^{+}}[\\text{if } 2n\\rvert 2p \\text{ then } n\\rvert p]$ and $\\forall_{b\\in N^{+}} b^2\\in N^{+}$ and $2 \\in N^{+}$ and $b^{*} \\in N^{+}$. Thus $2\\rvert b^{*2}$"
   ]
  },
  {
   "cell_type": "code",
   "execution_count": 52,
   "metadata": {},
   "outputs": [
    {
     "data": {
      "text/html": [
       "<strong id=\"c13a\">c13a:</strong> <span style=\"font-size:20px;\"><a class=\"ProveItLink\" href=\"__pv_it/c3fb3e5167eef8ea3680e4327bb97a90470b9f200/expr.ipynb\"><img src=\"__pv_it/c3fb3e5167eef8ea3680e4327bb97a90470b9f200/expr.png\" style=\"display:inline;vertical-align:middle;\" /></a> &#x22A2;&nbsp;<a class=\"ProveItLink\" href=\"__pv_it/f6d849e443bf822b51d678da0b40fdbba9e67a9f0/expr.ipynb\"><img src=\"__pv_it/f6d849e443bf822b51d678da0b40fdbba9e67a9f0/expr.png\" style=\"display:inline;vertical-align:middle;\" /></a></span><br>"
      ],
      "text/plain": [
       "c13a: {[sqrt](2) = (aHat / bHat) , aStar in NaturalsPos , bStar in NaturalsPos , ((aHat / bHat) = (aStar / bStar)) and (gcd(aStar , bStar) = 1)} |= (2 * 2) | (2 * bStar^{2})"
      ]
     },
     "execution_count": 52,
     "metadata": {},
     "output_type": "execute_result"
    }
   ],
   "source": [
    "# first convert c12 so it acknowledges our need for 2 x 2 = 4\n",
    "c13a = t2.subLeftSideInto(c12)"
   ]
  },
  {
   "cell_type": "code",
   "execution_count": 53,
   "metadata": {},
   "outputs": [
    {
     "data": {
      "text/html": [
       "<span style=\"font-size:20px;\"> &#x22A2;&nbsp;<a class=\"ProveItLink\" href=\"__pv_it/02e3c781366161ba654a468be105f0b1ccbb81a40/expr.ipynb\"><img src=\"__pv_it/02e3c781366161ba654a468be105f0b1ccbb81a40/expr.png\" style=\"display:inline;vertical-align:middle;\" /></a></span>"
      ],
      "text/plain": [
       "|= forall_{n, p in NaturalsPos} (((2 * n) | (2 * p)) => (n | p))"
      ]
     },
     "execution_count": 53,
     "metadata": {},
     "output_type": "execute_result"
    }
   ],
   "source": [
    "# A reminder what Theorem t12 looks like\n",
    "t12"
   ]
  },
  {
   "cell_type": "code",
   "execution_count": 54,
   "metadata": {},
   "outputs": [
    {
     "data": {
      "text/html": [
       "<strong id=\"c13b\">c13b:</strong> <span style=\"font-size:20px;\"><a class=\"ProveItLink\" href=\"__pv_it/7d05058717a41769f1369a003b1ab1683aa0e4070/expr.ipynb\"><img src=\"__pv_it/7d05058717a41769f1369a003b1ab1683aa0e4070/expr.png\" style=\"display:inline;vertical-align:middle;\" /></a> &#x22A2;&nbsp;<a class=\"ProveItLink\" href=\"__pv_it/e76006b5e6bee055319ff9c049c2ba73bfa730a70/expr.ipynb\"><img src=\"__pv_it/e76006b5e6bee055319ff9c049c2ba73bfa730a70/expr.png\" style=\"display:inline;vertical-align:middle;\" /></a></span><br>"
      ],
      "text/plain": [
       "c13b: {bStar in NaturalsPos} |= ((2 * 2) | (2 * bStar^{2})) => (2 | bStar^{2})"
      ]
     },
     "execution_count": 54,
     "metadata": {},
     "output_type": "execute_result"
    }
   ],
   "source": [
    "c13b = t12.specialize({n:two, p:Exp(bStar, two)})"
   ]
  },
  {
   "cell_type": "code",
   "execution_count": 55,
   "metadata": {},
   "outputs": [
    {
     "data": {
      "text/html": [
       "<strong id=\"c13\">c13:</strong> <span style=\"font-size:20px;\"><a class=\"ProveItLink\" href=\"__pv_it/c3fb3e5167eef8ea3680e4327bb97a90470b9f200/expr.ipynb\"><img src=\"__pv_it/c3fb3e5167eef8ea3680e4327bb97a90470b9f200/expr.png\" style=\"display:inline;vertical-align:middle;\" /></a> &#x22A2;&nbsp;<a class=\"ProveItLink\" href=\"__pv_it/b7b37c22e543ff4b9af4e0b50376a6bc80fc281f0/expr.ipynb\"><img src=\"__pv_it/b7b37c22e543ff4b9af4e0b50376a6bc80fc281f0/expr.png\" style=\"display:inline;vertical-align:middle;\" /></a></span><br>"
      ],
      "text/plain": [
       "c13: {[sqrt](2) = (aHat / bHat) , aStar in NaturalsPos , bStar in NaturalsPos , ((aHat / bHat) = (aStar / bStar)) and (gcd(aStar , bStar) = 1)} |= 2 | bStar^{2}"
      ]
     },
     "execution_count": 55,
     "metadata": {},
     "output_type": "execute_result"
    }
   ],
   "source": [
    "c13 = c13b.deriveConsequent()"
   ]
  },
  {
   "cell_type": "markdown",
   "metadata": {},
   "source": [
    "#### Step 14 (Similar to Step 10)\n",
    "But $2\\rvert b^{*2}$ and $\\forall_{b\\in N^{+}}[\\text{if } 2\\not\\rvert b \\text{ then } 2\\not\\rvert b^2]$ and $b^{*} \\in N^{+}$. Thus $2\\rvert b^{*}$"
   ]
  },
  {
   "cell_type": "code",
   "execution_count": 56,
   "metadata": {},
   "outputs": [
    {
     "data": {
      "text/html": [
       "<span style=\"font-size:20px;\"> &#x22A2;&nbsp;<a class=\"ProveItLink\" href=\"__pv_it/60030f08e6e2d88d1c09dea2d2357e412a41ef930/expr.ipynb\"><img src=\"__pv_it/60030f08e6e2d88d1c09dea2d2357e412a41ef930/expr.png\" style=\"display:inline;vertical-align:middle;\" /></a></span>"
      ],
      "text/plain": [
       "|= forall_{a in NaturalsPos} ([not](2 | a) => [not](2 | a^{2}))"
      ]
     },
     "execution_count": 56,
     "metadata": {},
     "output_type": "execute_result"
    }
   ],
   "source": [
    "# A reminder what Theorem t10 looks like\n",
    "t10"
   ]
  },
  {
   "cell_type": "code",
   "execution_count": 57,
   "metadata": {},
   "outputs": [
    {
     "data": {
      "text/html": [
       "<strong id=\"c14a\">c14a:</strong> <span style=\"font-size:20px;\"><a class=\"ProveItLink\" href=\"__pv_it/7d05058717a41769f1369a003b1ab1683aa0e4070/expr.ipynb\"><img src=\"__pv_it/7d05058717a41769f1369a003b1ab1683aa0e4070/expr.png\" style=\"display:inline;vertical-align:middle;\" /></a> &#x22A2;&nbsp;<a class=\"ProveItLink\" href=\"__pv_it/bb9edcb96c301cc47dded9845b18b3f742a919b40/expr.ipynb\"><img src=\"__pv_it/bb9edcb96c301cc47dded9845b18b3f742a919b40/expr.png\" style=\"display:inline;vertical-align:middle;\" /></a></span><br>"
      ],
      "text/plain": [
       "c14a: {bStar in NaturalsPos} |= [not](2 | bStar) => [not](2 | bStar^{2})"
      ]
     },
     "execution_count": 57,
     "metadata": {},
     "output_type": "execute_result"
    }
   ],
   "source": [
    "# Specialize Theorem t10 from a to b*\n",
    "c14a = t10.specialize({a:bStar})"
   ]
  },
  {
   "cell_type": "code",
   "execution_count": 58,
   "metadata": {},
   "outputs": [
    {
     "data": {
      "text/html": [
       "<strong id=\"c14\">c14:</strong> <span style=\"font-size:20px;\"><a class=\"ProveItLink\" href=\"__pv_it/c3fb3e5167eef8ea3680e4327bb97a90470b9f200/expr.ipynb\"><img src=\"__pv_it/c3fb3e5167eef8ea3680e4327bb97a90470b9f200/expr.png\" style=\"display:inline;vertical-align:middle;\" /></a> &#x22A2;&nbsp;<a class=\"ProveItLink\" href=\"__pv_it/d524a70105366b1c574b025bd4d9e0120ce3b0ec0/expr.ipynb\"><img src=\"__pv_it/d524a70105366b1c574b025bd4d9e0120ce3b0ec0/expr.png\" style=\"display:inline;vertical-align:middle;\" /></a></span><br>"
      ],
      "text/plain": [
       "c14: {[sqrt](2) = (aHat / bHat) , aStar in NaturalsPos , bStar in NaturalsPos , ((aHat / bHat) = (aStar / bStar)) and (gcd(aStar , bStar) = 1)} |= 2 | bStar"
      ]
     },
     "execution_count": 58,
     "metadata": {},
     "output_type": "execute_result"
    }
   ],
   "source": [
    "c14 = c14a.denyAntecedent()"
   ]
  },
  {
   "cell_type": "markdown",
   "metadata": {},
   "source": [
    "#### Step 15\n",
    "But $a^{*},b^{*} \\in \\mathbb{N}^{+}$ and $\\forall_{a^{\\prime},b^{\\prime}\\in \\mathbb{N}^{+}}\\left[\\text{if } \\gcd(a^{\\prime}, b^{\\prime}) = 1 \\text{ then } \\forall_{p\\in \\mathbb{N}^{+}} \\left(\\text{if } p > 1 \\text{ then } \\neg(p\\rvert a^{\\prime} \\land p\\rvert b^{\\prime})\\right)\\right]$ and $\\gcd(a^{*}, b^{*}) = 1$. Thus $\\forall_{p\\in \\mathbb{N}^{+}} \\left(\\text{if } p > 1 \\text{ then } \\neg(p\\rvert a^{*} \\land p\\rvert b^{*})\\right)$"
   ]
  },
  {
   "cell_type": "code",
   "execution_count": 59,
   "metadata": {},
   "outputs": [
    {
     "data": {
      "text/html": [
       "<span style=\"font-size:20px;\"> &#x22A2;&nbsp;<a class=\"ProveItLink\" href=\"__pv_it/4b9e272f92dc55611e7d3ba904da7484984fe9c50/expr.ipynb\"><img src=\"__pv_it/4b9e272f92dc55611e7d3ba904da7484984fe9c50/expr.png\" style=\"display:inline;vertical-align:middle;\" /></a></span>"
      ],
      "text/plain": [
       "|= forall_{a, b in NaturalsPos} ((gcd(a , b) = 1) => [forall_{p in NaturalsPos} ((p > 1) => [not]((p | a) and (p | b)))])"
      ]
     },
     "execution_count": 59,
     "metadata": {},
     "output_type": "execute_result"
    }
   ],
   "source": [
    "# A reminder what Theorem t7 looks like\n",
    "t7"
   ]
  },
  {
   "cell_type": "code",
   "execution_count": 60,
   "metadata": {
    "scrolled": true
   },
   "outputs": [
    {
     "data": {
      "text/html": [
       "<strong id=\"c15a\">c15a:</strong> <span style=\"font-size:20px;\"><a class=\"ProveItLink\" href=\"__pv_it/07427e8d46ff140e22d80aded9fbdb4377b17b670/expr.ipynb\"><img src=\"__pv_it/07427e8d46ff140e22d80aded9fbdb4377b17b670/expr.png\" style=\"display:inline;vertical-align:middle;\" /></a> &#x22A2;&nbsp;<a class=\"ProveItLink\" href=\"__pv_it/c4755c282bca929721f179fc66ca37ec888315940/expr.ipynb\"><img src=\"__pv_it/c4755c282bca929721f179fc66ca37ec888315940/expr.png\" style=\"display:inline;vertical-align:middle;\" /></a></span><br>"
      ],
      "text/plain": [
       "c15a: {aStar in NaturalsPos , bStar in NaturalsPos} |= (gcd(aStar , bStar) = 1) => [forall_{p in NaturalsPos} ((p > 1) => [not]((p | aStar) and (p | bStar)))]"
      ]
     },
     "execution_count": 60,
     "metadata": {},
     "output_type": "execute_result"
    }
   ],
   "source": [
    "c15a = t7.specialize({a:aStar, b:bStar})"
   ]
  },
  {
   "cell_type": "code",
   "execution_count": 61,
   "metadata": {},
   "outputs": [
    {
     "data": {
      "text/html": [
       "<strong id=\"c15\">c15:</strong> <span style=\"font-size:20px;\"><a class=\"ProveItLink\" href=\"__pv_it/76ee071e99275328ea9617fbd99ea7f0a1ef56d30/expr.ipynb\"><img src=\"__pv_it/76ee071e99275328ea9617fbd99ea7f0a1ef56d30/expr.png\" style=\"display:inline;vertical-align:middle;\" /></a> &#x22A2;&nbsp;<a class=\"ProveItLink\" href=\"__pv_it/1e2d9dc619649e2fcfc42687538c18060d79ffd70/expr.ipynb\"><img src=\"__pv_it/1e2d9dc619649e2fcfc42687538c18060d79ffd70/expr.png\" style=\"display:inline;vertical-align:middle;\" /></a></span><br>"
      ],
      "text/plain": [
       "c15: {aStar in NaturalsPos , bStar in NaturalsPos , ((aHat / bHat) = (aStar / bStar)) and (gcd(aStar , bStar) = 1)} |= forall_{p in NaturalsPos} ((p > 1) => [not]((p | aStar) and (p | bStar)))"
      ]
     },
     "execution_count": 61,
     "metadata": {},
     "output_type": "execute_result"
    }
   ],
   "source": [
    "c15 = c15a.deriveConsequent()"
   ]
  },
  {
   "cell_type": "markdown",
   "metadata": {},
   "source": [
    "#### Step 16"
   ]
  },
  {
   "cell_type": "code",
   "execution_count": 62,
   "metadata": {},
   "outputs": [
    {
     "data": {
      "text/html": [
       "<strong id=\"c16a\">c16a:</strong> <span style=\"font-size:20px;\"><a class=\"ProveItLink\" href=\"__pv_it/76ee071e99275328ea9617fbd99ea7f0a1ef56d30/expr.ipynb\"><img src=\"__pv_it/76ee071e99275328ea9617fbd99ea7f0a1ef56d30/expr.png\" style=\"display:inline;vertical-align:middle;\" /></a> &#x22A2;&nbsp;<a class=\"ProveItLink\" href=\"__pv_it/dc8377a3b1802f067db4674870fc7fcb3b2dea840/expr.ipynb\"><img src=\"__pv_it/dc8377a3b1802f067db4674870fc7fcb3b2dea840/expr.png\" style=\"display:inline;vertical-align:middle;\" /></a></span><br>"
      ],
      "text/plain": [
       "c16a: {aStar in NaturalsPos , bStar in NaturalsPos , ((aHat / bHat) = (aStar / bStar)) and (gcd(aStar , bStar) = 1)} |= (2 > 1) => [not]((2 | aStar) and (2 | bStar))"
      ]
     },
     "execution_count": 62,
     "metadata": {},
     "output_type": "execute_result"
    }
   ],
   "source": [
    "c16a = c15.specialize({p:two})"
   ]
  },
  {
   "cell_type": "code",
   "execution_count": 63,
   "metadata": {},
   "outputs": [
    {
     "data": {
      "text/html": [
       "<strong id=\"c16\">c16:</strong> <span style=\"font-size:20px;\"><a class=\"ProveItLink\" href=\"__pv_it/76ee071e99275328ea9617fbd99ea7f0a1ef56d30/expr.ipynb\"><img src=\"__pv_it/76ee071e99275328ea9617fbd99ea7f0a1ef56d30/expr.png\" style=\"display:inline;vertical-align:middle;\" /></a> &#x22A2;&nbsp;<a class=\"ProveItLink\" href=\"__pv_it/46362ddc9311bd24272420a507298990a01c11880/expr.ipynb\"><img src=\"__pv_it/46362ddc9311bd24272420a507298990a01c11880/expr.png\" style=\"display:inline;vertical-align:middle;\" /></a></span><br>"
      ],
      "text/plain": [
       "c16: {aStar in NaturalsPos , bStar in NaturalsPos , ((aHat / bHat) = (aStar / bStar)) and (gcd(aStar , bStar) = 1)} |= [not]((2 | aStar) and (2 | bStar))"
      ]
     },
     "execution_count": 63,
     "metadata": {},
     "output_type": "execute_result"
    }
   ],
   "source": [
    "c16 = c16a.deriveConsequent()"
   ]
  },
  {
   "cell_type": "markdown",
   "metadata": {},
   "source": [
    "#### STEP 17"
   ]
  },
  {
   "cell_type": "code",
   "execution_count": 64,
   "metadata": {},
   "outputs": [
    {
     "data": {
      "text/html": [
       "<strong id=\"c17\">c17:</strong> <span style=\"font-size:20px;\"><a class=\"ProveItLink\" href=\"__pv_it/c3fb3e5167eef8ea3680e4327bb97a90470b9f200/expr.ipynb\"><img src=\"__pv_it/c3fb3e5167eef8ea3680e4327bb97a90470b9f200/expr.png\" style=\"display:inline;vertical-align:middle;\" /></a> &#x22A2;&nbsp;<a class=\"ProveItLink\" href=\"__pv_it/ecf965a55652e63a3f8cea4c75b11306ef706ac00/expr.ipynb\"><img src=\"__pv_it/ecf965a55652e63a3f8cea4c75b11306ef706ac00/expr.png\" style=\"display:inline;vertical-align:middle;\" /></a></span><br>"
      ],
      "text/plain": [
       "c17: {[sqrt](2) = (aHat / bHat) , aStar in NaturalsPos , bStar in NaturalsPos , ((aHat / bHat) = (aStar / bStar)) and (gcd(aStar , bStar) = 1)} |= (2 | aStar) and (2 | bStar)"
      ]
     },
     "execution_count": 64,
     "metadata": {},
     "output_type": "execute_result"
    }
   ],
   "source": [
    "# The following for intuitive completeness,\n",
    "# but Prove-It doesn't need it\n",
    "c17 = And(c10, c14).prove()"
   ]
  },
  {
   "cell_type": "markdown",
   "metadata": {},
   "source": [
    "#### STEP 18"
   ]
  },
  {
   "cell_type": "code",
   "execution_count": 65,
   "metadata": {},
   "outputs": [
    {
     "data": {
      "text/plain": [
       "((2 * 2) = 4,\n",
       " aHat in NaturalsPos,\n",
       " bHat in NaturalsPos,\n",
       " [sqrt](2) = (aHat / bHat),\n",
       " aStar in NaturalsPos,\n",
       " bStar in NaturalsPos,\n",
       " ((aHat / bHat) = (aStar / bStar)) and (gcd(aStar , bStar) = 1))"
      ]
     },
     "execution_count": 65,
     "metadata": {},
     "output_type": "execute_result"
    }
   ],
   "source": [
    "# remove the Sqrt(2) in Q assumption from the default assumptions\n",
    "if c1.expr in defaults.assumptions:\n",
    "    # convert to a list, remove the assumption, convert back to tuple\n",
    "    tempList = list(defaults.assumptions)\n",
    "    tempList.remove(c1.expr)\n",
    "    defaults.assumptions = tuple(tempList)\n",
    "# verify content of default assumptions\n",
    "defaults.assumptions"
   ]
  },
  {
   "cell_type": "code",
   "execution_count": 66,
   "metadata": {},
   "outputs": [
    {
     "data": {
      "text/html": [
       "<strong id=\"c18\">c18:</strong> <span style=\"font-size:20px;\"><a class=\"ProveItLink\" href=\"__pv_it/c3fb3e5167eef8ea3680e4327bb97a90470b9f200/expr.ipynb\"><img src=\"__pv_it/c3fb3e5167eef8ea3680e4327bb97a90470b9f200/expr.png\" style=\"display:inline;vertical-align:middle;\" /></a> &#x22A2;&nbsp;<a class=\"ProveItLink\" href=\"__pv_it/e797cead5489ec6c8dac605af28673cdcd9d74b40/expr.ipynb\"><img src=\"__pv_it/e797cead5489ec6c8dac605af28673cdcd9d74b40/expr.png\" style=\"display:inline;vertical-align:middle;\" /></a></span><br>"
      ],
      "text/plain": [
       "c18: {[sqrt](2) = (aHat / bHat) , aStar in NaturalsPos , bStar in NaturalsPos , ((aHat / bHat) = (aStar / bStar)) and (gcd(aStar , bStar) = 1)} |= ([sqrt](2) in Rationals) != TRUE"
      ]
     },
     "execution_count": 66,
     "metadata": {},
     "output_type": "execute_result"
    }
   ],
   "source": [
    "c18 = c16.denyViaContradiction(c1.expr)"
   ]
  },
  {
   "cell_type": "code",
   "execution_count": 67,
   "metadata": {},
   "outputs": [
    {
     "data": {
      "text/plain": [
       "(aStar in NaturalsPos,\n",
       " bStar in NaturalsPos,\n",
       " ((aHat / bHat) = (aStar / bStar)) and (gcd(aStar , bStar) = 1))"
      ]
     },
     "execution_count": 67,
     "metadata": {},
     "output_type": "execute_result"
    }
   ],
   "source": [
    "c18.assumptions[1:]"
   ]
  },
  {
   "cell_type": "code",
   "execution_count": 68,
   "metadata": {},
   "outputs": [
    {
     "data": {
      "text/html": [
       "<span style=\"font-size:20px;\"><a class=\"ProveItLink\" href=\"__pv_it/a44d18793fe79805026ad826c2c3c537c91c63d70/expr.ipynb\"><img src=\"__pv_it/a44d18793fe79805026ad826c2c3c537c91c63d70/expr.png\" style=\"display:inline;vertical-align:middle;\" /></a> &#x22A2;&nbsp;<a class=\"ProveItLink\" href=\"__pv_it/fb306dc5b025761d67c2c41db2030dad8e7135a30/expr.ipynb\"><img src=\"__pv_it/fb306dc5b025761d67c2c41db2030dad8e7135a30/expr.png\" style=\"display:inline;vertical-align:middle;\" /></a></span>"
      ],
      "text/plain": [
       "{[sqrt](2) = (aHat / bHat)} |= forall_{aStar, bStar in NaturalsPos | ((aHat / bHat) = (aStar / bStar)) and (gcd(aStar , bStar) = 1)} (([sqrt](2) in Rationals) != TRUE)"
      ]
     },
     "execution_count": 68,
     "metadata": {},
     "output_type": "execute_result"
    }
   ],
   "source": [
    "c18.generalize((aStar, bStar), conditions=c18.assumptions[1:])"
   ]
  },
  {
   "cell_type": "code",
   "execution_count": 69,
   "metadata": {},
   "outputs": [
    {
     "data": {
      "text/html": [
       "<span style=\"font-size:20px;\"> &#x22A2;&nbsp;<a class=\"ProveItLink\" href=\"__pv_it/2ffd7ed3bb2a0688187c4db3e2c6a27c4cdde30d0/expr.ipynb\"><img src=\"__pv_it/2ffd7ed3bb2a0688187c4db3e2c6a27c4cdde30d0/expr.png\" style=\"display:inline;vertical-align:middle;\" /></a></span>"
      ],
      "text/plain": [
       "|= forall_{P, Q1, Q2, alpha} (([exists_{y1, y2 | Q1(y1) , Q2(y2)} P(y1 , y2)] and [forall_{x1, x2 | P(x1 , x2) , Q1(x1) , Q2(x2)} alpha]) => alpha)"
      ]
     },
     "execution_count": 69,
     "metadata": {},
     "output_type": "execute_result"
    }
   ],
   "source": [
    "skolemElim02"
   ]
  },
  {
   "cell_type": "code",
   "execution_count": 70,
   "metadata": {},
   "outputs": [
    {
     "data": {
      "text/html": [
       "<span style=\"font-size:20px;\"> &#x22A2;&nbsp;<a class=\"ProveItLink\" href=\"__pv_it/6629e0f77a41c08c7975c02b7d7b1b37316725f20/expr.ipynb\"><img src=\"__pv_it/6629e0f77a41c08c7975c02b7d7b1b37316725f20/expr.png\" style=\"display:inline;vertical-align:middle;\" /></a></span>"
      ],
      "text/plain": [
       "|= ([exists_{y1, y2 in NaturalsPos} P(y1 , y2)] and [forall_{x1, x2 | P(x1 , x2) , x1 in NaturalsPos , x1 in NaturalsPos , x2 in NaturalsPos} alpha]) => alpha"
      ]
     },
     "execution_count": 70,
     "metadata": {},
     "output_type": "execute_result"
    }
   ],
   "source": [
    "# define PaStarbStar for use in the specialization, (etc)\n",
    "Q1 = Variable('Q1')\n",
    "Q2 = Variable('Q2')\n",
    "y1 = Variable('y1')\n",
    "Pstar = Function(P, (aStar, bStar))\n",
    "Q1Star = Function(Q1, aStar)\n",
    "Q2Star = Function(Q2, bStar)\n",
    "skolemElim02.specialize({Q1Star:InSet(aStar, NaturalsPos), Q2Star:InSet(bStar, NaturalsPos), alpha:alpha})"
   ]
  },
  {
   "cell_type": "code",
   "execution_count": 71,
   "metadata": {
    "scrolled": false
   },
   "outputs": [
    {
     "data": {
      "text/html": [
       "<table><tr><th>&nbsp;</th><th>step type</th><th>requirements</th><th>statement</th></tr>\n",
       "<tr><td>0</td><td>specialization</td><td>1, 2</td><td><span style=\"font-size:20px;\"><a class=\"ProveItLink\" href=\"__pv_it/c3fb3e5167eef8ea3680e4327bb97a90470b9f200/expr.ipynb\"><img src=\"__pv_it/c3fb3e5167eef8ea3680e4327bb97a90470b9f200/expr.png\" style=\"display:inline;vertical-align:middle;\" /></a> &#x22A2;&nbsp;<a class=\"ProveItLink\" href=\"__pv_it/e797cead5489ec6c8dac605af28673cdcd9d74b40/expr.ipynb\"><img src=\"__pv_it/e797cead5489ec6c8dac605af28673cdcd9d74b40/expr.png\" style=\"display:inline;vertical-align:middle;\" /></a></span></td></tr>\n",
       "<tr><td>&nbsp;</td><td colspan=4 style=\"text-align:left\"><span style=\"font-size:20px;\"><a class=\"ProveItLink\" href=\"../../__pv_it/2cbe72a7ad6f655694dd697106680215e8489b600/expr.ipynb\"><img src=\"../../__pv_it/2cbe72a7ad6f655694dd697106680215e8489b600/expr.png\" style=\"display:inline;vertical-align:middle;\" /></a> : <a class=\"ProveItLink\" href=\"__pv_it/59792c8af0ea987a4d0085adc62e8523bcccaf020/expr.ipynb\"><img src=\"__pv_it/59792c8af0ea987a4d0085adc62e8523bcccaf020/expr.png\" style=\"display:inline;vertical-align:middle;\" /></a></span></td></tr><tr><td>1</td><td>theorem</td><td></td><td><span style=\"font-size:20px;\"> &#x22A2;&nbsp;<a class=\"ProveItLink\" href=\"../../logic/boolean/implication/__pv_it/a5e38f436c56f4e6ba6ead9b11db51e0d2f4fadb0/expr.ipynb\"><img src=\"../../logic/boolean/implication/__pv_it/a5e38f436c56f4e6ba6ead9b11db51e0d2f4fadb0/expr.png\" style=\"display:inline;vertical-align:middle;\" /></a></span></td></tr>\n",
       "<tr><td>&nbsp;</td><td colspan=4 style-\"text-align:left\"><a class=\"ProveItLink\" href=\"../../logic/boolean/implication/_proofs_/notTrueViaContradiction.ipynb\">proveit.logic.boolean.implication.notTrueViaContradiction</a></td></tr><tr><td>2</td><td>hypothetical reasoning</td><td>3</td><td><span style=\"font-size:20px;\"><a class=\"ProveItLink\" href=\"__pv_it/c3fb3e5167eef8ea3680e4327bb97a90470b9f200/expr.ipynb\"><img src=\"__pv_it/c3fb3e5167eef8ea3680e4327bb97a90470b9f200/expr.png\" style=\"display:inline;vertical-align:middle;\" /></a> &#x22A2;&nbsp;<a class=\"ProveItLink\" href=\"__pv_it/342a14f68e2f12ee4112b8328c37d1898a51971b0/expr.ipynb\"><img src=\"__pv_it/342a14f68e2f12ee4112b8328c37d1898a51971b0/expr.png\" style=\"display:inline;vertical-align:middle;\" /></a></span></td></tr>\n",
       "<tr><td>3</td><td>specialization</td><td>4, 5, 6</td><td><span style=\"font-size:20px;\"><a class=\"ProveItLink\" href=\"__pv_it/c3fb3e5167eef8ea3680e4327bb97a90470b9f200/expr.ipynb\"><img src=\"__pv_it/c3fb3e5167eef8ea3680e4327bb97a90470b9f200/expr.png\" style=\"display:inline;vertical-align:middle;\" /></a> &#x22A2;&nbsp;<a class=\"ProveItLink\" href=\"../../logic/boolean/__pv_it/8f1f7fac882de28c72b62ab80a1700b6d8fd066b0/expr.ipynb\"><img src=\"../../logic/boolean/__pv_it/8f1f7fac882de28c72b62ab80a1700b6d8fd066b0/expr.png\" style=\"display:inline;vertical-align:middle;\" /></a></span></td></tr>\n",
       "<tr><td>&nbsp;</td><td colspan=4 style=\"text-align:left\"><span style=\"font-size:20px;\"><a class=\"ProveItLink\" href=\"../../__pv_it/2cbe72a7ad6f655694dd697106680215e8489b600/expr.ipynb\"><img src=\"../../__pv_it/2cbe72a7ad6f655694dd697106680215e8489b600/expr.png\" style=\"display:inline;vertical-align:middle;\" /></a> : <a class=\"ProveItLink\" href=\"__pv_it/ecf965a55652e63a3f8cea4c75b11306ef706ac00/expr.ipynb\"><img src=\"__pv_it/ecf965a55652e63a3f8cea4c75b11306ef706ac00/expr.png\" style=\"display:inline;vertical-align:middle;\" /></a></span></td></tr><tr><td>4</td><td>theorem</td><td></td><td><span style=\"font-size:20px;\"> &#x22A2;&nbsp;<a class=\"ProveItLink\" href=\"../../logic/boolean/negation/__pv_it/e727a5939d997c0a6c3bd2fbea4c4df70b5dc6d10/expr.ipynb\"><img src=\"../../logic/boolean/negation/__pv_it/e727a5939d997c0a6c3bd2fbea4c4df70b5dc6d10/expr.png\" style=\"display:inline;vertical-align:middle;\" /></a></span></td></tr>\n",
       "<tr><td>&nbsp;</td><td colspan=4 style-\"text-align:left\"><a class=\"ProveItLink\" href=\"../../logic/boolean/negation/_proofs_/negationContradiction.ipynb\">proveit.logic.boolean.negation.negationContradiction</a></td></tr><tr><td>5</td><td>specialization</td><td>7, 30, 8</td><td><span style=\"font-size:20px;\"><a class=\"ProveItLink\" href=\"__pv_it/c3fb3e5167eef8ea3680e4327bb97a90470b9f200/expr.ipynb\"><img src=\"__pv_it/c3fb3e5167eef8ea3680e4327bb97a90470b9f200/expr.png\" style=\"display:inline;vertical-align:middle;\" /></a> &#x22A2;&nbsp;<a class=\"ProveItLink\" href=\"__pv_it/ecf965a55652e63a3f8cea4c75b11306ef706ac00/expr.ipynb\"><img src=\"__pv_it/ecf965a55652e63a3f8cea4c75b11306ef706ac00/expr.png\" style=\"display:inline;vertical-align:middle;\" /></a></span></td></tr>\n",
       "<tr><td>&nbsp;</td><td colspan=4 style=\"text-align:left\"><span style=\"font-size:20px;\"><a class=\"ProveItLink\" href=\"../../__pv_it/2cbe72a7ad6f655694dd697106680215e8489b600/expr.ipynb\"><img src=\"../../__pv_it/2cbe72a7ad6f655694dd697106680215e8489b600/expr.png\" style=\"display:inline;vertical-align:middle;\" /></a> : <a class=\"ProveItLink\" href=\"__pv_it/ac32e091cfc5eb107300ba0117a291deb47abed30/expr.ipynb\"><img src=\"__pv_it/ac32e091cfc5eb107300ba0117a291deb47abed30/expr.png\" style=\"display:inline;vertical-align:middle;\" /></a>, <a class=\"ProveItLink\" href=\"../../__pv_it/077b2ff79244fb4582cbe22c6e3356fa92a52f2f0/expr.ipynb\"><img src=\"../../__pv_it/077b2ff79244fb4582cbe22c6e3356fa92a52f2f0/expr.png\" style=\"display:inline;vertical-align:middle;\" /></a> : <a class=\"ProveItLink\" href=\"__pv_it/d524a70105366b1c574b025bd4d9e0120ce3b0ec0/expr.ipynb\"><img src=\"__pv_it/d524a70105366b1c574b025bd4d9e0120ce3b0ec0/expr.png\" style=\"display:inline;vertical-align:middle;\" /></a></span></td></tr><tr><td>6</td><td>modus ponens</td><td>9, 10</td><td><span style=\"font-size:20px;\"><a class=\"ProveItLink\" href=\"__pv_it/76ee071e99275328ea9617fbd99ea7f0a1ef56d30/expr.ipynb\"><img src=\"__pv_it/76ee071e99275328ea9617fbd99ea7f0a1ef56d30/expr.png\" style=\"display:inline;vertical-align:middle;\" /></a> &#x22A2;&nbsp;<a class=\"ProveItLink\" href=\"__pv_it/46362ddc9311bd24272420a507298990a01c11880/expr.ipynb\"><img src=\"__pv_it/46362ddc9311bd24272420a507298990a01c11880/expr.png\" style=\"display:inline;vertical-align:middle;\" /></a></span></td></tr>\n",
       "<tr><td>7</td><td>theorem</td><td></td><td><span style=\"font-size:20px;\"> &#x22A2;&nbsp;<a class=\"ProveItLink\" href=\"../../logic/boolean/conjunction/__pv_it/6397fc86901c06478c078bb796d806f963b300270/expr.ipynb\"><img src=\"../../logic/boolean/conjunction/__pv_it/6397fc86901c06478c078bb796d806f963b300270/expr.png\" style=\"display:inline;vertical-align:middle;\" /></a></span></td></tr>\n",
       "<tr><td>&nbsp;</td><td colspan=4 style-\"text-align:left\"><a class=\"ProveItLink\" href=\"../../logic/boolean/conjunction/_proofs_/andIfBoth.ipynb\">proveit.logic.boolean.conjunction.andIfBoth</a></td></tr><tr><td>8</td><td>specialization</td><td>32, 11, 12, 13</td><td><span style=\"font-size:20px;\"><a class=\"ProveItLink\" href=\"__pv_it/c3fb3e5167eef8ea3680e4327bb97a90470b9f200/expr.ipynb\"><img src=\"__pv_it/c3fb3e5167eef8ea3680e4327bb97a90470b9f200/expr.png\" style=\"display:inline;vertical-align:middle;\" /></a> &#x22A2;&nbsp;<a class=\"ProveItLink\" href=\"__pv_it/d524a70105366b1c574b025bd4d9e0120ce3b0ec0/expr.ipynb\"><img src=\"__pv_it/d524a70105366b1c574b025bd4d9e0120ce3b0ec0/expr.png\" style=\"display:inline;vertical-align:middle;\" /></a></span></td></tr>\n",
       "<tr><td>&nbsp;</td><td colspan=4 style=\"text-align:left\"><span style=\"font-size:20px;\"><a class=\"ProveItLink\" href=\"../../__pv_it/2cbe72a7ad6f655694dd697106680215e8489b600/expr.ipynb\"><img src=\"../../__pv_it/2cbe72a7ad6f655694dd697106680215e8489b600/expr.png\" style=\"display:inline;vertical-align:middle;\" /></a> : <a class=\"ProveItLink\" href=\"__pv_it/d524a70105366b1c574b025bd4d9e0120ce3b0ec0/expr.ipynb\"><img src=\"__pv_it/d524a70105366b1c574b025bd4d9e0120ce3b0ec0/expr.png\" style=\"display:inline;vertical-align:middle;\" /></a>, <a class=\"ProveItLink\" href=\"../../__pv_it/077b2ff79244fb4582cbe22c6e3356fa92a52f2f0/expr.ipynb\"><img src=\"../../__pv_it/077b2ff79244fb4582cbe22c6e3356fa92a52f2f0/expr.png\" style=\"display:inline;vertical-align:middle;\" /></a> : <a class=\"ProveItLink\" href=\"__pv_it/7746c379ce156d2d22c6080da0a78d423b1cb8580/expr.ipynb\"><img src=\"__pv_it/7746c379ce156d2d22c6080da0a78d423b1cb8580/expr.png\" style=\"display:inline;vertical-align:middle;\" /></a></span></td></tr><tr><td>9</td><td>specialization</td><td>14, 37</td><td><span style=\"font-size:20px;\"><a class=\"ProveItLink\" href=\"__pv_it/76ee071e99275328ea9617fbd99ea7f0a1ef56d30/expr.ipynb\"><img src=\"__pv_it/76ee071e99275328ea9617fbd99ea7f0a1ef56d30/expr.png\" style=\"display:inline;vertical-align:middle;\" /></a> &#x22A2;&nbsp;<a class=\"ProveItLink\" href=\"__pv_it/dc8377a3b1802f067db4674870fc7fcb3b2dea840/expr.ipynb\"><img src=\"__pv_it/dc8377a3b1802f067db4674870fc7fcb3b2dea840/expr.png\" style=\"display:inline;vertical-align:middle;\" /></a></span></td></tr>\n",
       "<tr><td>&nbsp;</td><td colspan=4 style=\"text-align:left\"><span style=\"font-size:20px;\"><a class=\"ProveItLink\" href=\"../../__pv_it/d28651e4ab000173fe7c5bae7f3ea1d025e6ea160/expr.ipynb\"><img src=\"../../__pv_it/d28651e4ab000173fe7c5bae7f3ea1d025e6ea160/expr.png\" style=\"display:inline;vertical-align:middle;\" /></a> : <a class=\"ProveItLink\" href=\"../numeral/__pv_it/77d407a64829263cdc16415becd4c2293f77a4bf0/expr.ipynb\"><img src=\"../numeral/__pv_it/77d407a64829263cdc16415becd4c2293f77a4bf0/expr.png\" style=\"display:inline;vertical-align:middle;\" /></a></span></td></tr><tr><td>10</td><td>specialization</td><td>15, 16</td><td><span style=\"font-size:20px;\"> &#x22A2;&nbsp;<a class=\"ProveItLink\" href=\"__pv_it/ce75cc66521bda1bb956f5b4b4019afcbb77ff9d0/expr.ipynb\"><img src=\"__pv_it/ce75cc66521bda1bb956f5b4b4019afcbb77ff9d0/expr.png\" style=\"display:inline;vertical-align:middle;\" /></a></span></td></tr>\n",
       "<tr><td>&nbsp;</td><td colspan=4 style=\"text-align:left\"><span style=\"font-size:20px;\"><a class=\"ProveItLink\" href=\"../../__pv_it/530be409e3083890784cf1d7b28c9e67e90af9360/expr.ipynb\"><img src=\"../../__pv_it/530be409e3083890784cf1d7b28c9e67e90af9360/expr.png\" style=\"display:inline;vertical-align:middle;\" /></a> : <a class=\"ProveItLink\" href=\"../numeral/__pv_it/9be8badea4c35b9724062cecc501d17a3158d1d20/expr.ipynb\"><img src=\"../numeral/__pv_it/9be8badea4c35b9724062cecc501d17a3158d1d20/expr.png\" style=\"display:inline;vertical-align:middle;\" /></a>, <a class=\"ProveItLink\" href=\"../../__pv_it/f8b9edf8e16034727f0aad55bb83e392c3db40d40/expr.ipynb\"><img src=\"../../__pv_it/f8b9edf8e16034727f0aad55bb83e392c3db40d40/expr.png\" style=\"display:inline;vertical-align:middle;\" /></a> : <a class=\"ProveItLink\" href=\"../numeral/__pv_it/77d407a64829263cdc16415becd4c2293f77a4bf0/expr.ipynb\"><img src=\"../numeral/__pv_it/77d407a64829263cdc16415becd4c2293f77a4bf0/expr.png\" style=\"display:inline;vertical-align:middle;\" /></a></span></td></tr><tr><td>11</td><td>specialization</td><td>36, 37, 51</td><td><span style=\"font-size:20px;\"><a class=\"ProveItLink\" href=\"__pv_it/7d05058717a41769f1369a003b1ab1683aa0e4070/expr.ipynb\"><img src=\"__pv_it/7d05058717a41769f1369a003b1ab1683aa0e4070/expr.png\" style=\"display:inline;vertical-align:middle;\" /></a> &#x22A2;&nbsp;<a class=\"ProveItLink\" href=\"__pv_it/f21b58c8defe5a6d18b6f756d905d12988fb73dd0/expr.ipynb\"><img src=\"__pv_it/f21b58c8defe5a6d18b6f756d905d12988fb73dd0/expr.png\" style=\"display:inline;vertical-align:middle;\" /></a></span></td></tr>\n",
       "<tr><td>&nbsp;</td><td colspan=4 style=\"text-align:left\"><span style=\"font-size:20px;\"><a class=\"ProveItLink\" href=\"../../__pv_it/78af03acba5349fd70398a32ce59bae1da52f0870/expr.ipynb\"><img src=\"../../__pv_it/78af03acba5349fd70398a32ce59bae1da52f0870/expr.png\" style=\"display:inline;vertical-align:middle;\" /></a> : <a class=\"ProveItLink\" href=\"../numeral/__pv_it/77d407a64829263cdc16415becd4c2293f77a4bf0/expr.ipynb\"><img src=\"../numeral/__pv_it/77d407a64829263cdc16415becd4c2293f77a4bf0/expr.png\" style=\"display:inline;vertical-align:middle;\" /></a>, <a class=\"ProveItLink\" href=\"../../__pv_it/39dbcd3ca0390345b51c6ef7785756419e2c14390/expr.ipynb\"><img src=\"../../__pv_it/39dbcd3ca0390345b51c6ef7785756419e2c14390/expr.png\" style=\"display:inline;vertical-align:middle;\" /></a> : <a class=\"ProveItLink\" href=\"__pv_it/ea8139a11ce424b2196caef826ae9496edde62300/expr.ipynb\"><img src=\"__pv_it/ea8139a11ce424b2196caef826ae9496edde62300/expr.png\" style=\"display:inline;vertical-align:middle;\" /></a></span></td></tr><tr><td>12</td><td>specialization</td><td>38, 51</td><td><span style=\"font-size:20px;\"><a class=\"ProveItLink\" href=\"__pv_it/7d05058717a41769f1369a003b1ab1683aa0e4070/expr.ipynb\"><img src=\"__pv_it/7d05058717a41769f1369a003b1ab1683aa0e4070/expr.png\" style=\"display:inline;vertical-align:middle;\" /></a> &#x22A2;&nbsp;<a class=\"ProveItLink\" href=\"__pv_it/bb9edcb96c301cc47dded9845b18b3f742a919b40/expr.ipynb\"><img src=\"__pv_it/bb9edcb96c301cc47dded9845b18b3f742a919b40/expr.png\" style=\"display:inline;vertical-align:middle;\" /></a></span></td></tr>\n",
       "<tr><td>&nbsp;</td><td colspan=4 style=\"text-align:left\"><span style=\"font-size:20px;\"><a class=\"ProveItLink\" href=\"../../__pv_it/07527342713064c87612d00d8557c53d53d5324a0/expr.ipynb\"><img src=\"../../__pv_it/07527342713064c87612d00d8557c53d53d5324a0/expr.png\" style=\"display:inline;vertical-align:middle;\" /></a> : <a class=\"ProveItLink\" href=\"__pv_it/ea8139a11ce424b2196caef826ae9496edde62300/expr.ipynb\"><img src=\"__pv_it/ea8139a11ce424b2196caef826ae9496edde62300/expr.png\" style=\"display:inline;vertical-align:middle;\" /></a></span></td></tr><tr><td>13</td><td>specialization</td><td>39, 17</td><td><span style=\"font-size:20px;\"><a class=\"ProveItLink\" href=\"__pv_it/c3fb3e5167eef8ea3680e4327bb97a90470b9f200/expr.ipynb\"><img src=\"__pv_it/c3fb3e5167eef8ea3680e4327bb97a90470b9f200/expr.png\" style=\"display:inline;vertical-align:middle;\" /></a> &#x22A2;&nbsp;<a class=\"ProveItLink\" href=\"__pv_it/f7b5cb343d2cbf9a968d285da67c768d4a4c8ec00/expr.ipynb\"><img src=\"__pv_it/f7b5cb343d2cbf9a968d285da67c768d4a4c8ec00/expr.png\" style=\"display:inline;vertical-align:middle;\" /></a></span></td></tr>\n",
       "<tr><td>&nbsp;</td><td colspan=4 style=\"text-align:left\"><span style=\"font-size:20px;\"><a class=\"ProveItLink\" href=\"../../__pv_it/2cbe72a7ad6f655694dd697106680215e8489b600/expr.ipynb\"><img src=\"../../__pv_it/2cbe72a7ad6f655694dd697106680215e8489b600/expr.png\" style=\"display:inline;vertical-align:middle;\" /></a> : <a class=\"ProveItLink\" href=\"__pv_it/b7b37c22e543ff4b9af4e0b50376a6bc80fc281f0/expr.ipynb\"><img src=\"__pv_it/b7b37c22e543ff4b9af4e0b50376a6bc80fc281f0/expr.png\" style=\"display:inline;vertical-align:middle;\" /></a></span></td></tr><tr><td>14</td><td>modus ponens</td><td>18, 19</td><td><span style=\"font-size:20px;\"><a class=\"ProveItLink\" href=\"__pv_it/76ee071e99275328ea9617fbd99ea7f0a1ef56d30/expr.ipynb\"><img src=\"__pv_it/76ee071e99275328ea9617fbd99ea7f0a1ef56d30/expr.png\" style=\"display:inline;vertical-align:middle;\" /></a> &#x22A2;&nbsp;<a class=\"ProveItLink\" href=\"__pv_it/1e2d9dc619649e2fcfc42687538c18060d79ffd70/expr.ipynb\"><img src=\"__pv_it/1e2d9dc619649e2fcfc42687538c18060d79ffd70/expr.png\" style=\"display:inline;vertical-align:middle;\" /></a></span></td></tr>\n",
       "<tr><td>15</td><td>theorem</td><td></td><td><span style=\"font-size:20px;\"> &#x22A2;&nbsp;<a class=\"ProveItLink\" href=\"../ordering/__pv_it/c73eb7062f56fda798b4bbb758c0c654d01d0e4f0/expr.ipynb\"><img src=\"../ordering/__pv_it/c73eb7062f56fda798b4bbb758c0c654d01d0e4f0/expr.png\" style=\"display:inline;vertical-align:middle;\" /></a></span></td></tr>\n",
       "<tr><td>&nbsp;</td><td colspan=4 style-\"text-align:left\"><a class=\"ProveItLink\" href=\"../ordering/_proofs_/reverseLess.ipynb\">proveit.number.ordering.reverseLess</a></td></tr><tr><td>16</td><td>theorem</td><td></td><td><span style=\"font-size:20px;\"> &#x22A2;&nbsp;<a class=\"ProveItLink\" href=\"../numeral/deci/__pv_it/3f96bd3cd3458158a7aac789291520ebb13da1980/expr.ipynb\"><img src=\"../numeral/deci/__pv_it/3f96bd3cd3458158a7aac789291520ebb13da1980/expr.png\" style=\"display:inline;vertical-align:middle;\" /></a></span></td></tr>\n",
       "<tr><td>&nbsp;</td><td colspan=4 style-\"text-align:left\"><a class=\"ProveItLink\" href=\"../numeral/deci/_proofs_/less_1_2.ipynb\">proveit.number.numeral.deci.less_1_2</a></td></tr><tr><td>17</td><td>modus ponens</td><td>20, 21</td><td><span style=\"font-size:20px;\"><a class=\"ProveItLink\" href=\"__pv_it/c3fb3e5167eef8ea3680e4327bb97a90470b9f200/expr.ipynb\"><img src=\"__pv_it/c3fb3e5167eef8ea3680e4327bb97a90470b9f200/expr.png\" style=\"display:inline;vertical-align:middle;\" /></a> &#x22A2;&nbsp;<a class=\"ProveItLink\" href=\"__pv_it/b7b37c22e543ff4b9af4e0b50376a6bc80fc281f0/expr.ipynb\"><img src=\"__pv_it/b7b37c22e543ff4b9af4e0b50376a6bc80fc281f0/expr.png\" style=\"display:inline;vertical-align:middle;\" /></a></span></td></tr>\n",
       "<tr><td>18</td><td>specialization</td><td>22, 50, 51</td><td><span style=\"font-size:20px;\"><a class=\"ProveItLink\" href=\"__pv_it/07427e8d46ff140e22d80aded9fbdb4377b17b670/expr.ipynb\"><img src=\"__pv_it/07427e8d46ff140e22d80aded9fbdb4377b17b670/expr.png\" style=\"display:inline;vertical-align:middle;\" /></a> &#x22A2;&nbsp;<a class=\"ProveItLink\" href=\"__pv_it/c4755c282bca929721f179fc66ca37ec888315940/expr.ipynb\"><img src=\"__pv_it/c4755c282bca929721f179fc66ca37ec888315940/expr.png\" style=\"display:inline;vertical-align:middle;\" /></a></span></td></tr>\n",
       "<tr><td>&nbsp;</td><td colspan=4 style=\"text-align:left\"><span style=\"font-size:20px;\"><a class=\"ProveItLink\" href=\"../../__pv_it/07527342713064c87612d00d8557c53d53d5324a0/expr.ipynb\"><img src=\"../../__pv_it/07527342713064c87612d00d8557c53d53d5324a0/expr.png\" style=\"display:inline;vertical-align:middle;\" /></a> : <a class=\"ProveItLink\" href=\"__pv_it/fe64ee9c152514fe07e7f7adbdd9a2bbfa80c9640/expr.ipynb\"><img src=\"__pv_it/fe64ee9c152514fe07e7f7adbdd9a2bbfa80c9640/expr.png\" style=\"display:inline;vertical-align:middle;\" /></a>, <a class=\"ProveItLink\" href=\"../../__pv_it/6840a4fa6c106149dc16a131294d0c5e44f1b0480/expr.ipynb\"><img src=\"../../__pv_it/6840a4fa6c106149dc16a131294d0c5e44f1b0480/expr.png\" style=\"display:inline;vertical-align:middle;\" /></a> : <a class=\"ProveItLink\" href=\"__pv_it/ea8139a11ce424b2196caef826ae9496edde62300/expr.ipynb\"><img src=\"__pv_it/ea8139a11ce424b2196caef826ae9496edde62300/expr.png\" style=\"display:inline;vertical-align:middle;\" /></a></span></td></tr><tr><td>19</td><td>specialization</td><td>23, 56</td><td><span style=\"font-size:20px;\"><a class=\"ProveItLink\" href=\"__pv_it/7e46cf67f401ecd8f80b44bb1ce947daf8314db10/expr.ipynb\"><img src=\"__pv_it/7e46cf67f401ecd8f80b44bb1ce947daf8314db10/expr.png\" style=\"display:inline;vertical-align:middle;\" /></a> &#x22A2;&nbsp;<a class=\"ProveItLink\" href=\"__pv_it/5c99130cadbbb22f954dbd71af5f254fd446703b0/expr.ipynb\"><img src=\"__pv_it/5c99130cadbbb22f954dbd71af5f254fd446703b0/expr.png\" style=\"display:inline;vertical-align:middle;\" /></a></span></td></tr>\n",
       "<tr><td>&nbsp;</td><td colspan=4 style=\"text-align:left\"><span style=\"font-size:20px;\"><a class=\"ProveItLink\" href=\"../../__pv_it/2cbe72a7ad6f655694dd697106680215e8489b600/expr.ipynb\"><img src=\"../../__pv_it/2cbe72a7ad6f655694dd697106680215e8489b600/expr.png\" style=\"display:inline;vertical-align:middle;\" /></a> : <a class=\"ProveItLink\" href=\"__pv_it/6cb030ad87e28ea96e150a6396be9ddc4ec43bf20/expr.ipynb\"><img src=\"__pv_it/6cb030ad87e28ea96e150a6396be9ddc4ec43bf20/expr.png\" style=\"display:inline;vertical-align:middle;\" /></a>, <a class=\"ProveItLink\" href=\"../../__pv_it/077b2ff79244fb4582cbe22c6e3356fa92a52f2f0/expr.ipynb\"><img src=\"../../__pv_it/077b2ff79244fb4582cbe22c6e3356fa92a52f2f0/expr.png\" style=\"display:inline;vertical-align:middle;\" /></a> : <a class=\"ProveItLink\" href=\"__pv_it/5c99130cadbbb22f954dbd71af5f254fd446703b0/expr.ipynb\"><img src=\"__pv_it/5c99130cadbbb22f954dbd71af5f254fd446703b0/expr.png\" style=\"display:inline;vertical-align:middle;\" /></a></span></td></tr><tr><td>20</td><td>specialization</td><td>24, 37, 45</td><td><span style=\"font-size:20px;\"><a class=\"ProveItLink\" href=\"__pv_it/7d05058717a41769f1369a003b1ab1683aa0e4070/expr.ipynb\"><img src=\"__pv_it/7d05058717a41769f1369a003b1ab1683aa0e4070/expr.png\" style=\"display:inline;vertical-align:middle;\" /></a> &#x22A2;&nbsp;<a class=\"ProveItLink\" href=\"__pv_it/e76006b5e6bee055319ff9c049c2ba73bfa730a70/expr.ipynb\"><img src=\"__pv_it/e76006b5e6bee055319ff9c049c2ba73bfa730a70/expr.png\" style=\"display:inline;vertical-align:middle;\" /></a></span></td></tr>\n",
       "<tr><td>&nbsp;</td><td colspan=4 style=\"text-align:left\"><span style=\"font-size:20px;\"><a class=\"ProveItLink\" href=\"../../__pv_it/39dbcd3ca0390345b51c6ef7785756419e2c14390/expr.ipynb\"><img src=\"../../__pv_it/39dbcd3ca0390345b51c6ef7785756419e2c14390/expr.png\" style=\"display:inline;vertical-align:middle;\" /></a> : <a class=\"ProveItLink\" href=\"../numeral/__pv_it/77d407a64829263cdc16415becd4c2293f77a4bf0/expr.ipynb\"><img src=\"../numeral/__pv_it/77d407a64829263cdc16415becd4c2293f77a4bf0/expr.png\" style=\"display:inline;vertical-align:middle;\" /></a>, <a class=\"ProveItLink\" href=\"../../__pv_it/d28651e4ab000173fe7c5bae7f3ea1d025e6ea160/expr.ipynb\"><img src=\"../../__pv_it/d28651e4ab000173fe7c5bae7f3ea1d025e6ea160/expr.png\" style=\"display:inline;vertical-align:middle;\" /></a> : <a class=\"ProveItLink\" href=\"__pv_it/f80e3e120ac3970cee8b2d195c5239960fff9ba40/expr.ipynb\"><img src=\"__pv_it/f80e3e120ac3970cee8b2d195c5239960fff9ba40/expr.png\" style=\"display:inline;vertical-align:middle;\" /></a></span></td></tr><tr><td>21</td><td>specialization</td><td>27, 25, 26</td><td><span style=\"font-size:20px;\"><a class=\"ProveItLink\" href=\"__pv_it/c3fb3e5167eef8ea3680e4327bb97a90470b9f200/expr.ipynb\"><img src=\"__pv_it/c3fb3e5167eef8ea3680e4327bb97a90470b9f200/expr.png\" style=\"display:inline;vertical-align:middle;\" /></a> &#x22A2;&nbsp;<a class=\"ProveItLink\" href=\"__pv_it/f6d849e443bf822b51d678da0b40fdbba9e67a9f0/expr.ipynb\"><img src=\"__pv_it/f6d849e443bf822b51d678da0b40fdbba9e67a9f0/expr.png\" style=\"display:inline;vertical-align:middle;\" /></a></span></td></tr>\n",
       "<tr><td>&nbsp;</td><td colspan=4 style=\"text-align:left\"><span style=\"font-size:20px;\"><a class=\"ProveItLink\" href=\"__pv_it/fd4b0a418766985890fb332a124e981d1643d8330/expr.ipynb\"><img src=\"__pv_it/fd4b0a418766985890fb332a124e981d1643d8330/expr.png\" style=\"display:inline;vertical-align:middle;\" /></a> : <a class=\"ProveItLink\" href=\"__pv_it/c090b2a5344d64876df2db867d34fcd8535fb2400/expr.ipynb\"><img src=\"__pv_it/c090b2a5344d64876df2db867d34fcd8535fb2400/expr.png\" style=\"display:inline;vertical-align:middle;\" /></a>, <a class=\"ProveItLink\" href=\"../../__pv_it/530be409e3083890784cf1d7b28c9e67e90af9360/expr.ipynb\"><img src=\"../../__pv_it/530be409e3083890784cf1d7b28c9e67e90af9360/expr.png\" style=\"display:inline;vertical-align:middle;\" /></a> : <a class=\"ProveItLink\" href=\"__pv_it/abde616b7c1cc3a6e8103ce931d942b811573ee10/expr.ipynb\"><img src=\"__pv_it/abde616b7c1cc3a6e8103ce931d942b811573ee10/expr.png\" style=\"display:inline;vertical-align:middle;\" /></a>, <a class=\"ProveItLink\" href=\"../../__pv_it/f8b9edf8e16034727f0aad55bb83e392c3db40d40/expr.ipynb\"><img src=\"../../__pv_it/f8b9edf8e16034727f0aad55bb83e392c3db40d40/expr.png\" style=\"display:inline;vertical-align:middle;\" /></a> : <a class=\"ProveItLink\" href=\"../numeral/__pv_it/23412ce59ea7e77353d2f9225e02248e73651ca00/expr.ipynb\"><img src=\"../numeral/__pv_it/23412ce59ea7e77353d2f9225e02248e73651ca00/expr.png\" style=\"display:inline;vertical-align:middle;\" /></a></span></td></tr><tr><td>22</td><td>theorem</td><td></td><td><span style=\"font-size:20px;\"> &#x22A2;&nbsp;<a class=\"ProveItLink\" href=\"__pv_it/4b9e272f92dc55611e7d3ba904da7484984fe9c50/expr.ipynb\"><img src=\"__pv_it/4b9e272f92dc55611e7d3ba904da7484984fe9c50/expr.png\" style=\"display:inline;vertical-align:middle;\" /></a></span></td></tr>\n",
       "<tr><td>&nbsp;</td><td colspan=4 style-\"text-align:left\"><a class=\"ProveItLink\" href=\"_proofs_/t7.ipynb\">proveit.number.sets.t7</a></td></tr><tr><td>23</td><td>theorem</td><td></td><td><span style=\"font-size:20px;\"> &#x22A2;&nbsp;<a class=\"ProveItLink\" href=\"../../logic/boolean/conjunction/__pv_it/cacedd51471fbbbbf687acfa7e76e99ae2041b550/expr.ipynb\"><img src=\"../../logic/boolean/conjunction/__pv_it/cacedd51471fbbbbf687acfa7e76e99ae2041b550/expr.png\" style=\"display:inline;vertical-align:middle;\" /></a></span></td></tr>\n",
       "<tr><td>&nbsp;</td><td colspan=4 style-\"text-align:left\"><a class=\"ProveItLink\" href=\"../../logic/boolean/conjunction/_proofs_/rightFromAnd.ipynb\">proveit.logic.boolean.conjunction.rightFromAnd</a></td></tr><tr><td>24</td><td>theorem</td><td></td><td><span style=\"font-size:20px;\"> &#x22A2;&nbsp;<a class=\"ProveItLink\" href=\"__pv_it/02e3c781366161ba654a468be105f0b1ccbb81a40/expr.ipynb\"><img src=\"__pv_it/02e3c781366161ba654a468be105f0b1ccbb81a40/expr.png\" style=\"display:inline;vertical-align:middle;\" /></a></span></td></tr>\n",
       "<tr><td>&nbsp;</td><td colspan=4 style-\"text-align:left\"><a class=\"ProveItLink\" href=\"_proofs_/t12.ipynb\">proveit.number.sets.t12</a></td></tr><tr><td>25</td><td>specialization</td><td>27, 28, 43</td><td><span style=\"font-size:20px;\"><a class=\"ProveItLink\" href=\"__pv_it/c3fb3e5167eef8ea3680e4327bb97a90470b9f200/expr.ipynb\"><img src=\"__pv_it/c3fb3e5167eef8ea3680e4327bb97a90470b9f200/expr.png\" style=\"display:inline;vertical-align:middle;\" /></a> &#x22A2;&nbsp;<a class=\"ProveItLink\" href=\"__pv_it/2e434ff8de10776523f8992ca8eb7d9565803ae30/expr.ipynb\"><img src=\"__pv_it/2e434ff8de10776523f8992ca8eb7d9565803ae30/expr.png\" style=\"display:inline;vertical-align:middle;\" /></a></span></td></tr>\n",
       "<tr><td>&nbsp;</td><td colspan=4 style=\"text-align:left\"><span style=\"font-size:20px;\"><a class=\"ProveItLink\" href=\"__pv_it/fd4b0a418766985890fb332a124e981d1643d8330/expr.ipynb\"><img src=\"__pv_it/fd4b0a418766985890fb332a124e981d1643d8330/expr.png\" style=\"display:inline;vertical-align:middle;\" /></a> : <a class=\"ProveItLink\" href=\"__pv_it/51b847c9cc197554069f038884a5e3baeb93484c0/expr.ipynb\"><img src=\"__pv_it/51b847c9cc197554069f038884a5e3baeb93484c0/expr.png\" style=\"display:inline;vertical-align:middle;\" /></a>, <a class=\"ProveItLink\" href=\"../../__pv_it/530be409e3083890784cf1d7b28c9e67e90af9360/expr.ipynb\"><img src=\"../../__pv_it/530be409e3083890784cf1d7b28c9e67e90af9360/expr.png\" style=\"display:inline;vertical-align:middle;\" /></a> : <a class=\"ProveItLink\" href=\"__pv_it/ab9d32cd5eab21ae343dffd2516ddbd998b31fcb0/expr.ipynb\"><img src=\"__pv_it/ab9d32cd5eab21ae343dffd2516ddbd998b31fcb0/expr.png\" style=\"display:inline;vertical-align:middle;\" /></a>, <a class=\"ProveItLink\" href=\"../../__pv_it/f8b9edf8e16034727f0aad55bb83e392c3db40d40/expr.ipynb\"><img src=\"../../__pv_it/f8b9edf8e16034727f0aad55bb83e392c3db40d40/expr.png\" style=\"display:inline;vertical-align:middle;\" /></a> : <a class=\"ProveItLink\" href=\"__pv_it/15937d2dd404875dfaded7bcf55840928399d1b90/expr.ipynb\"><img src=\"__pv_it/15937d2dd404875dfaded7bcf55840928399d1b90/expr.png\" style=\"display:inline;vertical-align:middle;\" /></a></span></td></tr><tr><td>26</td><td>theorem</td><td></td><td><span style=\"font-size:20px;\"> &#x22A2;&nbsp;<a class=\"ProveItLink\" href=\"../numeral/deci/__pv_it/9b27e8fa879d028e01d5a8e99383ba8b3715a3240/expr.ipynb\"><img src=\"../numeral/deci/__pv_it/9b27e8fa879d028e01d5a8e99383ba8b3715a3240/expr.png\" style=\"display:inline;vertical-align:middle;\" /></a></span></td></tr>\n",
       "<tr><td>&nbsp;</td><td colspan=4 style-\"text-align:left\"><a class=\"ProveItLink\" href=\"../numeral/deci/_proofs_/mult_2_2.ipynb\">proveit.number.numeral.deci.mult_2_2</a></td></tr><tr><td>27</td><td>theorem</td><td></td><td><span style=\"font-size:20px;\"> &#x22A2;&nbsp;<a class=\"ProveItLink\" href=\"../../logic/equality/__pv_it/0ff28639b67648f982114c9abc0eb1af3cbddacb0/expr.ipynb\"><img src=\"../../logic/equality/__pv_it/0ff28639b67648f982114c9abc0eb1af3cbddacb0/expr.png\" style=\"display:inline;vertical-align:middle;\" /></a></span></td></tr>\n",
       "<tr><td>&nbsp;</td><td colspan=4 style-\"text-align:left\"><a class=\"ProveItLink\" href=\"../../logic/equality/_proofs_/subLeftSideInto.ipynb\">proveit.logic.equality.subLeftSideInto</a></td></tr><tr><td>28</td><td>modus ponens</td><td>29, 30</td><td><span style=\"font-size:20px;\"><a class=\"ProveItLink\" href=\"__pv_it/c3fb3e5167eef8ea3680e4327bb97a90470b9f200/expr.ipynb\"><img src=\"__pv_it/c3fb3e5167eef8ea3680e4327bb97a90470b9f200/expr.png\" style=\"display:inline;vertical-align:middle;\" /></a> &#x22A2;&nbsp;<a class=\"ProveItLink\" href=\"__pv_it/f832599203a1cc29600920ce50b6b4b0e934b1010/expr.ipynb\"><img src=\"__pv_it/f832599203a1cc29600920ce50b6b4b0e934b1010/expr.png\" style=\"display:inline;vertical-align:middle;\" /></a></span></td></tr>\n",
       "<tr><td>29</td><td>specialization</td><td>31, 50</td><td><span style=\"font-size:20px;\"><a class=\"ProveItLink\" href=\"__pv_it/9fa5d6a5703eab928fc110e2b4f596172412e71f0/expr.ipynb\"><img src=\"__pv_it/9fa5d6a5703eab928fc110e2b4f596172412e71f0/expr.png\" style=\"display:inline;vertical-align:middle;\" /></a> &#x22A2;&nbsp;<a class=\"ProveItLink\" href=\"__pv_it/99011a3973024bfb6ba829d8a235c2243e5fe7f00/expr.ipynb\"><img src=\"__pv_it/99011a3973024bfb6ba829d8a235c2243e5fe7f00/expr.png\" style=\"display:inline;vertical-align:middle;\" /></a></span></td></tr>\n",
       "<tr><td>&nbsp;</td><td colspan=4 style=\"text-align:left\"><span style=\"font-size:20px;\"><a class=\"ProveItLink\" href=\"../../__pv_it/07527342713064c87612d00d8557c53d53d5324a0/expr.ipynb\"><img src=\"../../__pv_it/07527342713064c87612d00d8557c53d53d5324a0/expr.png\" style=\"display:inline;vertical-align:middle;\" /></a> : <a class=\"ProveItLink\" href=\"__pv_it/fe64ee9c152514fe07e7f7adbdd9a2bbfa80c9640/expr.ipynb\"><img src=\"__pv_it/fe64ee9c152514fe07e7f7adbdd9a2bbfa80c9640/expr.png\" style=\"display:inline;vertical-align:middle;\" /></a></span></td></tr><tr><td>30</td><td>specialization</td><td>32, 33, 34, 35</td><td><span style=\"font-size:20px;\"><a class=\"ProveItLink\" href=\"__pv_it/c3fb3e5167eef8ea3680e4327bb97a90470b9f200/expr.ipynb\"><img src=\"__pv_it/c3fb3e5167eef8ea3680e4327bb97a90470b9f200/expr.png\" style=\"display:inline;vertical-align:middle;\" /></a> &#x22A2;&nbsp;<a class=\"ProveItLink\" href=\"__pv_it/ac32e091cfc5eb107300ba0117a291deb47abed30/expr.ipynb\"><img src=\"__pv_it/ac32e091cfc5eb107300ba0117a291deb47abed30/expr.png\" style=\"display:inline;vertical-align:middle;\" /></a></span></td></tr>\n",
       "<tr><td>&nbsp;</td><td colspan=4 style=\"text-align:left\"><span style=\"font-size:20px;\"><a class=\"ProveItLink\" href=\"../../__pv_it/2cbe72a7ad6f655694dd697106680215e8489b600/expr.ipynb\"><img src=\"../../__pv_it/2cbe72a7ad6f655694dd697106680215e8489b600/expr.png\" style=\"display:inline;vertical-align:middle;\" /></a> : <a class=\"ProveItLink\" href=\"__pv_it/ac32e091cfc5eb107300ba0117a291deb47abed30/expr.ipynb\"><img src=\"__pv_it/ac32e091cfc5eb107300ba0117a291deb47abed30/expr.png\" style=\"display:inline;vertical-align:middle;\" /></a>, <a class=\"ProveItLink\" href=\"../../__pv_it/077b2ff79244fb4582cbe22c6e3356fa92a52f2f0/expr.ipynb\"><img src=\"../../__pv_it/077b2ff79244fb4582cbe22c6e3356fa92a52f2f0/expr.png\" style=\"display:inline;vertical-align:middle;\" /></a> : <a class=\"ProveItLink\" href=\"__pv_it/22dabed6efe2888d718f960ed988f1d346ef3e5d0/expr.ipynb\"><img src=\"__pv_it/22dabed6efe2888d718f960ed988f1d346ef3e5d0/expr.png\" style=\"display:inline;vertical-align:middle;\" /></a></span></td></tr><tr><td>31</td><td>theorem</td><td></td><td><span style=\"font-size:20px;\"> &#x22A2;&nbsp;<a class=\"ProveItLink\" href=\"__pv_it/a0ff9bb56f568b9fbe994afeabed45eabcdff89e0/expr.ipynb\"><img src=\"__pv_it/a0ff9bb56f568b9fbe994afeabed45eabcdff89e0/expr.png\" style=\"display:inline;vertical-align:middle;\" /></a></span></td></tr>\n",
       "<tr><td>&nbsp;</td><td colspan=4 style-\"text-align:left\"><a class=\"ProveItLink\" href=\"_proofs_/t11.ipynb\">proveit.number.sets.t11</a></td></tr><tr><td>32</td><td>theorem</td><td></td><td><span style=\"font-size:20px;\"> &#x22A2;&nbsp;<a class=\"ProveItLink\" href=\"../../logic/boolean/implication/__pv_it/bef9cbf4c5872747082d62846cac1a14ed5f11760/expr.ipynb\"><img src=\"../../logic/boolean/implication/__pv_it/bef9cbf4c5872747082d62846cac1a14ed5f11760/expr.png\" style=\"display:inline;vertical-align:middle;\" /></a></span></td></tr>\n",
       "<tr><td>&nbsp;</td><td colspan=4 style-\"text-align:left\"><a class=\"ProveItLink\" href=\"../../logic/boolean/implication/_proofs_/modusTollensAffirmation.ipynb\">proveit.logic.boolean.implication.modusTollensAffirmation</a></td></tr><tr><td>33</td><td>specialization</td><td>36, 37, 50</td><td><span style=\"font-size:20px;\"><a class=\"ProveItLink\" href=\"__pv_it/9fa5d6a5703eab928fc110e2b4f596172412e71f0/expr.ipynb\"><img src=\"__pv_it/9fa5d6a5703eab928fc110e2b4f596172412e71f0/expr.png\" style=\"display:inline;vertical-align:middle;\" /></a> &#x22A2;&nbsp;<a class=\"ProveItLink\" href=\"__pv_it/d840899dfa4e189bfd83bf718b360175d95861a30/expr.ipynb\"><img src=\"__pv_it/d840899dfa4e189bfd83bf718b360175d95861a30/expr.png\" style=\"display:inline;vertical-align:middle;\" /></a></span></td></tr>\n",
       "<tr><td>&nbsp;</td><td colspan=4 style=\"text-align:left\"><span style=\"font-size:20px;\"><a class=\"ProveItLink\" href=\"../../__pv_it/78af03acba5349fd70398a32ce59bae1da52f0870/expr.ipynb\"><img src=\"../../__pv_it/78af03acba5349fd70398a32ce59bae1da52f0870/expr.png\" style=\"display:inline;vertical-align:middle;\" /></a> : <a class=\"ProveItLink\" href=\"../numeral/__pv_it/77d407a64829263cdc16415becd4c2293f77a4bf0/expr.ipynb\"><img src=\"../numeral/__pv_it/77d407a64829263cdc16415becd4c2293f77a4bf0/expr.png\" style=\"display:inline;vertical-align:middle;\" /></a>, <a class=\"ProveItLink\" href=\"../../__pv_it/39dbcd3ca0390345b51c6ef7785756419e2c14390/expr.ipynb\"><img src=\"../../__pv_it/39dbcd3ca0390345b51c6ef7785756419e2c14390/expr.png\" style=\"display:inline;vertical-align:middle;\" /></a> : <a class=\"ProveItLink\" href=\"__pv_it/fe64ee9c152514fe07e7f7adbdd9a2bbfa80c9640/expr.ipynb\"><img src=\"__pv_it/fe64ee9c152514fe07e7f7adbdd9a2bbfa80c9640/expr.png\" style=\"display:inline;vertical-align:middle;\" /></a></span></td></tr><tr><td>34</td><td>specialization</td><td>38, 50</td><td><span style=\"font-size:20px;\"><a class=\"ProveItLink\" href=\"__pv_it/9fa5d6a5703eab928fc110e2b4f596172412e71f0/expr.ipynb\"><img src=\"__pv_it/9fa5d6a5703eab928fc110e2b4f596172412e71f0/expr.png\" style=\"display:inline;vertical-align:middle;\" /></a> &#x22A2;&nbsp;<a class=\"ProveItLink\" href=\"__pv_it/8e270300ef74fa25fb20d78e659fe7bbd83461090/expr.ipynb\"><img src=\"__pv_it/8e270300ef74fa25fb20d78e659fe7bbd83461090/expr.png\" style=\"display:inline;vertical-align:middle;\" /></a></span></td></tr>\n",
       "<tr><td>&nbsp;</td><td colspan=4 style=\"text-align:left\"><span style=\"font-size:20px;\"><a class=\"ProveItLink\" href=\"../../__pv_it/07527342713064c87612d00d8557c53d53d5324a0/expr.ipynb\"><img src=\"../../__pv_it/07527342713064c87612d00d8557c53d53d5324a0/expr.png\" style=\"display:inline;vertical-align:middle;\" /></a> : <a class=\"ProveItLink\" href=\"__pv_it/fe64ee9c152514fe07e7f7adbdd9a2bbfa80c9640/expr.ipynb\"><img src=\"__pv_it/fe64ee9c152514fe07e7f7adbdd9a2bbfa80c9640/expr.png\" style=\"display:inline;vertical-align:middle;\" /></a></span></td></tr><tr><td>35</td><td>specialization</td><td>39, 40</td><td><span style=\"font-size:20px;\"><a class=\"ProveItLink\" href=\"__pv_it/c3fb3e5167eef8ea3680e4327bb97a90470b9f200/expr.ipynb\"><img src=\"__pv_it/c3fb3e5167eef8ea3680e4327bb97a90470b9f200/expr.png\" style=\"display:inline;vertical-align:middle;\" /></a> &#x22A2;&nbsp;<a class=\"ProveItLink\" href=\"__pv_it/62d666ce019c3dce39463d49b555ae5d80c3d9280/expr.ipynb\"><img src=\"__pv_it/62d666ce019c3dce39463d49b555ae5d80c3d9280/expr.png\" style=\"display:inline;vertical-align:middle;\" /></a></span></td></tr>\n",
       "<tr><td>&nbsp;</td><td colspan=4 style=\"text-align:left\"><span style=\"font-size:20px;\"><a class=\"ProveItLink\" href=\"../../__pv_it/2cbe72a7ad6f655694dd697106680215e8489b600/expr.ipynb\"><img src=\"../../__pv_it/2cbe72a7ad6f655694dd697106680215e8489b600/expr.png\" style=\"display:inline;vertical-align:middle;\" /></a> : <a class=\"ProveItLink\" href=\"__pv_it/876a4ef90dd47747d051d552f48e8e69a0d2173a0/expr.ipynb\"><img src=\"__pv_it/876a4ef90dd47747d051d552f48e8e69a0d2173a0/expr.png\" style=\"display:inline;vertical-align:middle;\" /></a></span></td></tr><tr><td>36</td><td>axiom</td><td></td><td><span style=\"font-size:20px;\"> &#x22A2;&nbsp;<a class=\"ProveItLink\" href=\"../divisibility/__pv_it/e4295ff120397e537bb60176600a1e95bad3287a0/expr.ipynb\"><img src=\"../divisibility/__pv_it/e4295ff120397e537bb60176600a1e95bad3287a0/expr.png\" style=\"display:inline;vertical-align:middle;\" /></a></span></td></tr>\n",
       "<tr><td>&nbsp;</td><td colspan=4 style-\"text-align:left\"><a class=\"ProveItLink\" href=\"../divisibility/_axioms_.ipynb#dividesInBool\">proveit.number.divisibility.dividesInBool</a></td></tr><tr><td>37</td><td>theorem</td><td></td><td><span style=\"font-size:20px;\"> &#x22A2;&nbsp;<a class=\"ProveItLink\" href=\"../numeral/deci/__pv_it/cc8f030bf3f8fa8886abea87852067059d7e0b5a0/expr.ipynb\"><img src=\"../numeral/deci/__pv_it/cc8f030bf3f8fa8886abea87852067059d7e0b5a0/expr.png\" style=\"display:inline;vertical-align:middle;\" /></a></span></td></tr>\n",
       "<tr><td>&nbsp;</td><td colspan=4 style-\"text-align:left\"><a class=\"ProveItLink\" href=\"../numeral/deci/_proofs_/posnat2.ipynb\">proveit.number.numeral.deci.posnat2</a></td></tr><tr><td>38</td><td>theorem</td><td></td><td><span style=\"font-size:20px;\"> &#x22A2;&nbsp;<a class=\"ProveItLink\" href=\"__pv_it/60030f08e6e2d88d1c09dea2d2357e412a41ef930/expr.ipynb\"><img src=\"__pv_it/60030f08e6e2d88d1c09dea2d2357e412a41ef930/expr.png\" style=\"display:inline;vertical-align:middle;\" /></a></span></td></tr>\n",
       "<tr><td>&nbsp;</td><td colspan=4 style-\"text-align:left\"><a class=\"ProveItLink\" href=\"_proofs_/t10.ipynb\">proveit.number.sets.t10</a></td></tr><tr><td>39</td><td>axiom</td><td></td><td><span style=\"font-size:20px;\"> &#x22A2;&nbsp;<a class=\"ProveItLink\" href=\"../../logic/boolean/negation/__pv_it/a7df32246feb52423a4bc6630d209d357e3e02c10/expr.ipynb\"><img src=\"../../logic/boolean/negation/__pv_it/a7df32246feb52423a4bc6630d209d357e3e02c10/expr.png\" style=\"display:inline;vertical-align:middle;\" /></a></span></td></tr>\n",
       "<tr><td>&nbsp;</td><td colspan=4 style-\"text-align:left\"><a class=\"ProveItLink\" href=\"../../logic/boolean/negation/_axioms_.ipynb#doubleNegationIntro\">proveit.logic.boolean.negation.doubleNegationIntro</a></td></tr><tr><td>40</td><td>specialization</td><td>41, 42, 43</td><td><span style=\"font-size:20px;\"><a class=\"ProveItLink\" href=\"__pv_it/c3fb3e5167eef8ea3680e4327bb97a90470b9f200/expr.ipynb\"><img src=\"__pv_it/c3fb3e5167eef8ea3680e4327bb97a90470b9f200/expr.png\" style=\"display:inline;vertical-align:middle;\" /></a> &#x22A2;&nbsp;<a class=\"ProveItLink\" href=\"__pv_it/876a4ef90dd47747d051d552f48e8e69a0d2173a0/expr.ipynb\"><img src=\"__pv_it/876a4ef90dd47747d051d552f48e8e69a0d2173a0/expr.png\" style=\"display:inline;vertical-align:middle;\" /></a></span></td></tr>\n",
       "<tr><td>&nbsp;</td><td colspan=4 style=\"text-align:left\"><span style=\"font-size:20px;\"><a class=\"ProveItLink\" href=\"__pv_it/fd4b0a418766985890fb332a124e981d1643d8330/expr.ipynb\"><img src=\"__pv_it/fd4b0a418766985890fb332a124e981d1643d8330/expr.png\" style=\"display:inline;vertical-align:middle;\" /></a> : <a class=\"ProveItLink\" href=\"__pv_it/46b203ef15500d9cbd33278d702f15383b05a7c70/expr.ipynb\"><img src=\"__pv_it/46b203ef15500d9cbd33278d702f15383b05a7c70/expr.png\" style=\"display:inline;vertical-align:middle;\" /></a>, <a class=\"ProveItLink\" href=\"../../__pv_it/530be409e3083890784cf1d7b28c9e67e90af9360/expr.ipynb\"><img src=\"../../__pv_it/530be409e3083890784cf1d7b28c9e67e90af9360/expr.png\" style=\"display:inline;vertical-align:middle;\" /></a> : <a class=\"ProveItLink\" href=\"__pv_it/ab9d32cd5eab21ae343dffd2516ddbd998b31fcb0/expr.ipynb\"><img src=\"__pv_it/ab9d32cd5eab21ae343dffd2516ddbd998b31fcb0/expr.png\" style=\"display:inline;vertical-align:middle;\" /></a>, <a class=\"ProveItLink\" href=\"../../__pv_it/f8b9edf8e16034727f0aad55bb83e392c3db40d40/expr.ipynb\"><img src=\"../../__pv_it/f8b9edf8e16034727f0aad55bb83e392c3db40d40/expr.png\" style=\"display:inline;vertical-align:middle;\" /></a> : <a class=\"ProveItLink\" href=\"__pv_it/15937d2dd404875dfaded7bcf55840928399d1b90/expr.ipynb\"><img src=\"__pv_it/15937d2dd404875dfaded7bcf55840928399d1b90/expr.png\" style=\"display:inline;vertical-align:middle;\" /></a></span></td></tr><tr><td>41</td><td>theorem</td><td></td><td><span style=\"font-size:20px;\"> &#x22A2;&nbsp;<a class=\"ProveItLink\" href=\"../../logic/equality/__pv_it/d2795a85c0a66aceb345def59505c50a35921a020/expr.ipynb\"><img src=\"../../logic/equality/__pv_it/d2795a85c0a66aceb345def59505c50a35921a020/expr.png\" style=\"display:inline;vertical-align:middle;\" /></a></span></td></tr>\n",
       "<tr><td>&nbsp;</td><td colspan=4 style-\"text-align:left\"><a class=\"ProveItLink\" href=\"../../logic/equality/_proofs_/subRightSideInto.ipynb\">proveit.logic.equality.subRightSideInto</a></td></tr><tr><td>42</td><td>specialization</td><td>44, 45</td><td><span style=\"font-size:20px;\"><a class=\"ProveItLink\" href=\"__pv_it/7d05058717a41769f1369a003b1ab1683aa0e4070/expr.ipynb\"><img src=\"__pv_it/7d05058717a41769f1369a003b1ab1683aa0e4070/expr.png\" style=\"display:inline;vertical-align:middle;\" /></a> &#x22A2;&nbsp;<a class=\"ProveItLink\" href=\"__pv_it/fee5898c45e27a5268a5fa1cfb4292d74acf0cf30/expr.ipynb\"><img src=\"__pv_it/fee5898c45e27a5268a5fa1cfb4292d74acf0cf30/expr.png\" style=\"display:inline;vertical-align:middle;\" /></a></span></td></tr>\n",
       "<tr><td>&nbsp;</td><td colspan=4 style=\"text-align:left\"><span style=\"font-size:20px;\"><a class=\"ProveItLink\" href=\"../../__pv_it/39dbcd3ca0390345b51c6ef7785756419e2c14390/expr.ipynb\"><img src=\"../../__pv_it/39dbcd3ca0390345b51c6ef7785756419e2c14390/expr.png\" style=\"display:inline;vertical-align:middle;\" /></a> : <a class=\"ProveItLink\" href=\"__pv_it/f80e3e120ac3970cee8b2d195c5239960fff9ba40/expr.ipynb\"><img src=\"__pv_it/f80e3e120ac3970cee8b2d195c5239960fff9ba40/expr.png\" style=\"display:inline;vertical-align:middle;\" /></a></span></td></tr><tr><td>43</td><td>modus ponens</td><td>46, 47</td><td><span style=\"font-size:20px;\"><a class=\"ProveItLink\" href=\"__pv_it/c3fb3e5167eef8ea3680e4327bb97a90470b9f200/expr.ipynb\"><img src=\"__pv_it/c3fb3e5167eef8ea3680e4327bb97a90470b9f200/expr.png\" style=\"display:inline;vertical-align:middle;\" /></a> &#x22A2;&nbsp;<a class=\"ProveItLink\" href=\"__pv_it/df87ba7ad16318e4fb3d2c33c9dab2518f0df0080/expr.ipynb\"><img src=\"__pv_it/df87ba7ad16318e4fb3d2c33c9dab2518f0df0080/expr.png\" style=\"display:inline;vertical-align:middle;\" /></a></span></td></tr>\n",
       "<tr><td>44</td><td>theorem</td><td></td><td><span style=\"font-size:20px;\"> &#x22A2;&nbsp;<a class=\"ProveItLink\" href=\"__pv_it/da1ec91febb5508fe017d8637e5621bb8a1fa6b10/expr.ipynb\"><img src=\"__pv_it/da1ec91febb5508fe017d8637e5621bb8a1fa6b10/expr.png\" style=\"display:inline;vertical-align:middle;\" /></a></span></td></tr>\n",
       "<tr><td>&nbsp;</td><td colspan=4 style-\"text-align:left\"><a class=\"ProveItLink\" href=\"_proofs_/t9a.ipynb\">proveit.number.sets.t9a</a></td></tr><tr><td>45</td><td>specialization</td><td>48, 51</td><td><span style=\"font-size:20px;\"><a class=\"ProveItLink\" href=\"__pv_it/7d05058717a41769f1369a003b1ab1683aa0e4070/expr.ipynb\"><img src=\"__pv_it/7d05058717a41769f1369a003b1ab1683aa0e4070/expr.png\" style=\"display:inline;vertical-align:middle;\" /></a> &#x22A2;&nbsp;<a class=\"ProveItLink\" href=\"__pv_it/95e77bc782690e1406adcd13b82d01a9a36db7580/expr.ipynb\"><img src=\"__pv_it/95e77bc782690e1406adcd13b82d01a9a36db7580/expr.png\" style=\"display:inline;vertical-align:middle;\" /></a></span></td></tr>\n",
       "<tr><td>&nbsp;</td><td colspan=4 style=\"text-align:left\"><span style=\"font-size:20px;\"><a class=\"ProveItLink\" href=\"../../__pv_it/6840a4fa6c106149dc16a131294d0c5e44f1b0480/expr.ipynb\"><img src=\"../../__pv_it/6840a4fa6c106149dc16a131294d0c5e44f1b0480/expr.png\" style=\"display:inline;vertical-align:middle;\" /></a> : <a class=\"ProveItLink\" href=\"__pv_it/ea8139a11ce424b2196caef826ae9496edde62300/expr.ipynb\"><img src=\"__pv_it/ea8139a11ce424b2196caef826ae9496edde62300/expr.png\" style=\"display:inline;vertical-align:middle;\" /></a></span></td></tr><tr><td>46</td><td>specialization</td><td>49, 50, 51</td><td><span style=\"font-size:20px;\"><a class=\"ProveItLink\" href=\"__pv_it/07427e8d46ff140e22d80aded9fbdb4377b17b670/expr.ipynb\"><img src=\"__pv_it/07427e8d46ff140e22d80aded9fbdb4377b17b670/expr.png\" style=\"display:inline;vertical-align:middle;\" /></a> &#x22A2;&nbsp;<a class=\"ProveItLink\" href=\"__pv_it/4e9886424a68fa1160a3017349ffaa97ad07aead0/expr.ipynb\"><img src=\"__pv_it/4e9886424a68fa1160a3017349ffaa97ad07aead0/expr.png\" style=\"display:inline;vertical-align:middle;\" /></a></span></td></tr>\n",
       "<tr><td>&nbsp;</td><td colspan=4 style=\"text-align:left\"><span style=\"font-size:20px;\"><a class=\"ProveItLink\" href=\"../../__pv_it/07527342713064c87612d00d8557c53d53d5324a0/expr.ipynb\"><img src=\"../../__pv_it/07527342713064c87612d00d8557c53d53d5324a0/expr.png\" style=\"display:inline;vertical-align:middle;\" /></a> : <a class=\"ProveItLink\" href=\"__pv_it/fe64ee9c152514fe07e7f7adbdd9a2bbfa80c9640/expr.ipynb\"><img src=\"__pv_it/fe64ee9c152514fe07e7f7adbdd9a2bbfa80c9640/expr.png\" style=\"display:inline;vertical-align:middle;\" /></a>, <a class=\"ProveItLink\" href=\"../../__pv_it/6840a4fa6c106149dc16a131294d0c5e44f1b0480/expr.ipynb\"><img src=\"../../__pv_it/6840a4fa6c106149dc16a131294d0c5e44f1b0480/expr.png\" style=\"display:inline;vertical-align:middle;\" /></a> : <a class=\"ProveItLink\" href=\"__pv_it/ea8139a11ce424b2196caef826ae9496edde62300/expr.ipynb\"><img src=\"__pv_it/ea8139a11ce424b2196caef826ae9496edde62300/expr.png\" style=\"display:inline;vertical-align:middle;\" /></a></span></td></tr><tr><td>47</td><td>specialization</td><td>52, 53, 54</td><td><span style=\"font-size:20px;\"><a class=\"ProveItLink\" href=\"__pv_it/476a0236cffa024e37cf8a6b04ae01ced4b8055b0/expr.ipynb\"><img src=\"__pv_it/476a0236cffa024e37cf8a6b04ae01ced4b8055b0/expr.png\" style=\"display:inline;vertical-align:middle;\" /></a> &#x22A2;&nbsp;<a class=\"ProveItLink\" href=\"__pv_it/1c625f1a4fa90cfd772fdfd55db91711f5ebb0040/expr.ipynb\"><img src=\"__pv_it/1c625f1a4fa90cfd772fdfd55db91711f5ebb0040/expr.png\" style=\"display:inline;vertical-align:middle;\" /></a></span></td></tr>\n",
       "<tr><td>&nbsp;</td><td colspan=4 style=\"text-align:left\"><span style=\"font-size:20px;\"><a class=\"ProveItLink\" href=\"../../__pv_it/530be409e3083890784cf1d7b28c9e67e90af9360/expr.ipynb\"><img src=\"../../__pv_it/530be409e3083890784cf1d7b28c9e67e90af9360/expr.png\" style=\"display:inline;vertical-align:middle;\" /></a> : <a class=\"ProveItLink\" href=\"__pv_it/ed2011271a6e0fd6d99130d58b52c2070fddf6820/expr.ipynb\"><img src=\"__pv_it/ed2011271a6e0fd6d99130d58b52c2070fddf6820/expr.png\" style=\"display:inline;vertical-align:middle;\" /></a>, <a class=\"ProveItLink\" href=\"../../__pv_it/f8b9edf8e16034727f0aad55bb83e392c3db40d40/expr.ipynb\"><img src=\"../../__pv_it/f8b9edf8e16034727f0aad55bb83e392c3db40d40/expr.png\" style=\"display:inline;vertical-align:middle;\" /></a> : <a class=\"ProveItLink\" href=\"__pv_it/fc0eb630e5e4d217f28a0f3a8b62e5bbd317af080/expr.ipynb\"><img src=\"__pv_it/fc0eb630e5e4d217f28a0f3a8b62e5bbd317af080/expr.png\" style=\"display:inline;vertical-align:middle;\" /></a>, <a class=\"ProveItLink\" href=\"../../__pv_it/251502494639118b4892de8e9d720a5fcce840e10/expr.ipynb\"><img src=\"../../__pv_it/251502494639118b4892de8e9d720a5fcce840e10/expr.png\" style=\"display:inline;vertical-align:middle;\" /></a> : <a class=\"ProveItLink\" href=\"__pv_it/0427d384be3445b992034350cffacbefabdcbdf80/expr.ipynb\"><img src=\"__pv_it/0427d384be3445b992034350cffacbefabdcbdf80/expr.png\" style=\"display:inline;vertical-align:middle;\" /></a></span></td></tr><tr><td>48</td><td>theorem</td><td></td><td><span style=\"font-size:20px;\"> &#x22A2;&nbsp;<a class=\"ProveItLink\" href=\"__pv_it/bfe310952076e389891a1c7c61201d74cf2f18380/expr.ipynb\"><img src=\"__pv_it/bfe310952076e389891a1c7c61201d74cf2f18380/expr.png\" style=\"display:inline;vertical-align:middle;\" /></a></span></td></tr>\n",
       "<tr><td>&nbsp;</td><td colspan=4 style-\"text-align:left\"><a class=\"ProveItLink\" href=\"_proofs_/t9b.ipynb\">proveit.number.sets.t9b</a></td></tr><tr><td>49</td><td>theorem</td><td></td><td><span style=\"font-size:20px;\"> &#x22A2;&nbsp;<a class=\"ProveItLink\" href=\"__pv_it/33404f402ffdbb44eb44b18a39ef3e839e26ac580/expr.ipynb\"><img src=\"__pv_it/33404f402ffdbb44eb44b18a39ef3e839e26ac580/expr.png\" style=\"display:inline;vertical-align:middle;\" /></a></span></td></tr>\n",
       "<tr><td>&nbsp;</td><td colspan=4 style-\"text-align:left\"><a class=\"ProveItLink\" href=\"_proofs_/t8.ipynb\">proveit.number.sets.t8</a></td></tr><tr><td>50</td><td>assumption</td><td></td><td><span style=\"font-size:20px;\"><a class=\"ProveItLink\" href=\"__pv_it/9fa5d6a5703eab928fc110e2b4f596172412e71f0/expr.ipynb\"><img src=\"__pv_it/9fa5d6a5703eab928fc110e2b4f596172412e71f0/expr.png\" style=\"display:inline;vertical-align:middle;\" /></a> &#x22A2;&nbsp;<a class=\"ProveItLink\" href=\"__pv_it/edfd989900a1bdcb413141722f4ee9e4556023b80/expr.ipynb\"><img src=\"__pv_it/edfd989900a1bdcb413141722f4ee9e4556023b80/expr.png\" style=\"display:inline;vertical-align:middle;\" /></a></span></td></tr>\n",
       "<tr><td>51</td><td>assumption</td><td></td><td><span style=\"font-size:20px;\"><a class=\"ProveItLink\" href=\"__pv_it/7d05058717a41769f1369a003b1ab1683aa0e4070/expr.ipynb\"><img src=\"__pv_it/7d05058717a41769f1369a003b1ab1683aa0e4070/expr.png\" style=\"display:inline;vertical-align:middle;\" /></a> &#x22A2;&nbsp;<a class=\"ProveItLink\" href=\"__pv_it/231c73cd878099d9a405b22441a5f00a73eca38e0/expr.ipynb\"><img src=\"__pv_it/231c73cd878099d9a405b22441a5f00a73eca38e0/expr.png\" style=\"display:inline;vertical-align:middle;\" /></a></span></td></tr>\n",
       "<tr><td>52</td><td>axiom</td><td></td><td><span style=\"font-size:20px;\"> &#x22A2;&nbsp;<a class=\"ProveItLink\" href=\"../../logic/equality/__pv_it/3e27e37ba4c21dbc2950467f18d0691b4108abf10/expr.ipynb\"><img src=\"../../logic/equality/__pv_it/3e27e37ba4c21dbc2950467f18d0691b4108abf10/expr.png\" style=\"display:inline;vertical-align:middle;\" /></a></span></td></tr>\n",
       "<tr><td>&nbsp;</td><td colspan=4 style-\"text-align:left\"><a class=\"ProveItLink\" href=\"../../logic/equality/_axioms_.ipynb#equalsTransitivity\">proveit.logic.equality.equalsTransitivity</a></td></tr><tr><td>53</td><td>assumption</td><td></td><td><span style=\"font-size:20px;\"><a class=\"ProveItLink\" href=\"__pv_it/a44d18793fe79805026ad826c2c3c537c91c63d70/expr.ipynb\"><img src=\"__pv_it/a44d18793fe79805026ad826c2c3c537c91c63d70/expr.png\" style=\"display:inline;vertical-align:middle;\" /></a> &#x22A2;&nbsp;<a class=\"ProveItLink\" href=\"__pv_it/191508d8256844e5a74c56293706139ada0718e80/expr.ipynb\"><img src=\"__pv_it/191508d8256844e5a74c56293706139ada0718e80/expr.png\" style=\"display:inline;vertical-align:middle;\" /></a></span></td></tr>\n",
       "<tr><td>54</td><td>specialization</td><td>55, 56</td><td><span style=\"font-size:20px;\"><a class=\"ProveItLink\" href=\"__pv_it/7e46cf67f401ecd8f80b44bb1ce947daf8314db10/expr.ipynb\"><img src=\"__pv_it/7e46cf67f401ecd8f80b44bb1ce947daf8314db10/expr.png\" style=\"display:inline;vertical-align:middle;\" /></a> &#x22A2;&nbsp;<a class=\"ProveItLink\" href=\"__pv_it/6cb030ad87e28ea96e150a6396be9ddc4ec43bf20/expr.ipynb\"><img src=\"__pv_it/6cb030ad87e28ea96e150a6396be9ddc4ec43bf20/expr.png\" style=\"display:inline;vertical-align:middle;\" /></a></span></td></tr>\n",
       "<tr><td>&nbsp;</td><td colspan=4 style=\"text-align:left\"><span style=\"font-size:20px;\"><a class=\"ProveItLink\" href=\"../../__pv_it/2cbe72a7ad6f655694dd697106680215e8489b600/expr.ipynb\"><img src=\"../../__pv_it/2cbe72a7ad6f655694dd697106680215e8489b600/expr.png\" style=\"display:inline;vertical-align:middle;\" /></a> : <a class=\"ProveItLink\" href=\"__pv_it/6cb030ad87e28ea96e150a6396be9ddc4ec43bf20/expr.ipynb\"><img src=\"__pv_it/6cb030ad87e28ea96e150a6396be9ddc4ec43bf20/expr.png\" style=\"display:inline;vertical-align:middle;\" /></a>, <a class=\"ProveItLink\" href=\"../../__pv_it/077b2ff79244fb4582cbe22c6e3356fa92a52f2f0/expr.ipynb\"><img src=\"../../__pv_it/077b2ff79244fb4582cbe22c6e3356fa92a52f2f0/expr.png\" style=\"display:inline;vertical-align:middle;\" /></a> : <a class=\"ProveItLink\" href=\"__pv_it/5c99130cadbbb22f954dbd71af5f254fd446703b0/expr.ipynb\"><img src=\"__pv_it/5c99130cadbbb22f954dbd71af5f254fd446703b0/expr.png\" style=\"display:inline;vertical-align:middle;\" /></a></span></td></tr><tr><td>55</td><td>theorem</td><td></td><td><span style=\"font-size:20px;\"> &#x22A2;&nbsp;<a class=\"ProveItLink\" href=\"../../logic/boolean/conjunction/__pv_it/fd9e84bef514d5cc0c4f918b0a872a857991e1790/expr.ipynb\"><img src=\"../../logic/boolean/conjunction/__pv_it/fd9e84bef514d5cc0c4f918b0a872a857991e1790/expr.png\" style=\"display:inline;vertical-align:middle;\" /></a></span></td></tr>\n",
       "<tr><td>&nbsp;</td><td colspan=4 style-\"text-align:left\"><a class=\"ProveItLink\" href=\"../../logic/boolean/conjunction/_proofs_/leftFromAnd.ipynb\">proveit.logic.boolean.conjunction.leftFromAnd</a></td></tr><tr><td>56</td><td>assumption</td><td></td><td><span style=\"font-size:20px;\"><a class=\"ProveItLink\" href=\"__pv_it/7e46cf67f401ecd8f80b44bb1ce947daf8314db10/expr.ipynb\"><img src=\"__pv_it/7e46cf67f401ecd8f80b44bb1ce947daf8314db10/expr.png\" style=\"display:inline;vertical-align:middle;\" /></a> &#x22A2;&nbsp;<a class=\"ProveItLink\" href=\"__pv_it/5a46ecd9a1de8ed9872ad091ec2e7bc97cd4906b0/expr.ipynb\"><img src=\"__pv_it/5a46ecd9a1de8ed9872ad091ec2e7bc97cd4906b0/expr.png\" style=\"display:inline;vertical-align:middle;\" /></a></span></td></tr>\n",
       "</table>"
      ],
      "text/plain": [
       "\tstep type\trequirements\tstatement\n",
       "0\tspecialization\t1, 2\t{[sqrt](2) = (aHat / bHat) , aStar in NaturalsPos , bStar in NaturalsPos , ((aHat / bHat) = (aStar / bStar)) and (gcd(aStar , bStar) = 1)} |= ([sqrt](2) in Rationals) != TRUE\n",
       "\tA : [sqrt](2) in Rationals\n",
       "1\ttheorem\t\t|= forall_{A | A => FALSE} (A != TRUE)\n",
       "\tproveit.logic.boolean.implication.notTrueViaContradiction\n",
       "2\thypothetical reasoning\t3\t{[sqrt](2) = (aHat / bHat) , aStar in NaturalsPos , bStar in NaturalsPos , ((aHat / bHat) = (aStar / bStar)) and (gcd(aStar , bStar) = 1)} |= ([sqrt](2) in Rationals) => FALSE\n",
       "3\tspecialization\t4, 5, 6\t{[sqrt](2) = (aHat / bHat) , aStar in NaturalsPos , bStar in NaturalsPos , ((aHat / bHat) = (aStar / bStar)) and (gcd(aStar , bStar) = 1)} |= FALSE\n",
       "\tA : (2 | aStar) and (2 | bStar)\n",
       "4\ttheorem\t\t|= forall_{A | A , [not](A)} FALSE\n",
       "\tproveit.logic.boolean.negation.negationContradiction\n",
       "5\tspecialization\t7, 30, 8\t{[sqrt](2) = (aHat / bHat) , aStar in NaturalsPos , bStar in NaturalsPos , ((aHat / bHat) = (aStar / bStar)) and (gcd(aStar , bStar) = 1)} |= (2 | aStar) and (2 | bStar)\n",
       "\tA : 2 | aStar, B : 2 | bStar\n",
       "6\tmodus ponens\t9, 10\t{aStar in NaturalsPos , bStar in NaturalsPos , ((aHat / bHat) = (aStar / bStar)) and (gcd(aStar , bStar) = 1)} |= [not]((2 | aStar) and (2 | bStar))\n",
       "7\ttheorem\t\t|= forall_{A, B | A , B} (A and B)\n",
       "\tproveit.logic.boolean.conjunction.andIfBoth\n",
       "8\tspecialization\t32, 11, 12, 13\t{[sqrt](2) = (aHat / bHat) , aStar in NaturalsPos , bStar in NaturalsPos , ((aHat / bHat) = (aStar / bStar)) and (gcd(aStar , bStar) = 1)} |= 2 | bStar\n",
       "\tA : 2 | bStar, B : [not](2 | bStar^{2})\n",
       "9\tspecialization\t14, 37\t{aStar in NaturalsPos , bStar in NaturalsPos , ((aHat / bHat) = (aStar / bStar)) and (gcd(aStar , bStar) = 1)} |= (2 > 1) => [not]((2 | aStar) and (2 | bStar))\n",
       "\tp : 2\n",
       "10\tspecialization\t15, 16\t|= 2 > 1\n",
       "\tx : 1, y : 2\n",
       "11\tspecialization\t36, 37, 51\t{bStar in NaturalsPos} |= (2 | bStar) in BOOLEANS\n",
       "\tm : 2, n : bStar\n",
       "12\tspecialization\t38, 51\t{bStar in NaturalsPos} |= [not](2 | bStar) => [not](2 | bStar^{2})\n",
       "\ta : bStar\n",
       "13\tspecialization\t39, 17\t{[sqrt](2) = (aHat / bHat) , aStar in NaturalsPos , bStar in NaturalsPos , ((aHat / bHat) = (aStar / bStar)) and (gcd(aStar , bStar) = 1)} |= [not]([not](2 | bStar^{2}))\n",
       "\tA : 2 | bStar^{2}\n",
       "14\tmodus ponens\t18, 19\t{aStar in NaturalsPos , bStar in NaturalsPos , ((aHat / bHat) = (aStar / bStar)) and (gcd(aStar , bStar) = 1)} |= forall_{p in NaturalsPos} ((p > 1) => [not]((p | aStar) and (p | bStar)))\n",
       "15\ttheorem\t\t|= forall_{x, y | x < y} (y > x)\n",
       "\tproveit.number.ordering.reverseLess\n",
       "16\ttheorem\t\t|= 1 < 2\n",
       "\tproveit.number.numeral.deci.less_1_2\n",
       "17\tmodus ponens\t20, 21\t{[sqrt](2) = (aHat / bHat) , aStar in NaturalsPos , bStar in NaturalsPos , ((aHat / bHat) = (aStar / bStar)) and (gcd(aStar , bStar) = 1)} |= 2 | bStar^{2}\n",
       "18\tspecialization\t22, 50, 51\t{aStar in NaturalsPos , bStar in NaturalsPos} |= (gcd(aStar , bStar) = 1) => [forall_{p in NaturalsPos} ((p > 1) => [not]((p | aStar) and (p | bStar)))]\n",
       "\ta : aStar, b : bStar\n",
       "19\tspecialization\t23, 56\t{((aHat / bHat) = (aStar / bStar)) and (gcd(aStar , bStar) = 1)} |= gcd(aStar , bStar) = 1\n",
       "\tA : (aHat / bHat) = (aStar / bStar), B : gcd(aStar , bStar) = 1\n",
       "20\tspecialization\t24, 37, 45\t{bStar in NaturalsPos} |= ((2 * 2) | (2 * bStar^{2})) => (2 | bStar^{2})\n",
       "\tn : 2, p : bStar^{2}\n",
       "21\tspecialization\t27, 25, 26\t{[sqrt](2) = (aHat / bHat) , aStar in NaturalsPos , bStar in NaturalsPos , ((aHat / bHat) = (aStar / bStar)) and (gcd(aStar , bStar) = 1)} |= (2 * 2) | (2 * bStar^{2})\n",
       "\tP(_x_) : _x_ | (2 * bStar^{2}), x : 2 * 2, y : 4\n",
       "22\ttheorem\t\t|= forall_{a, b in NaturalsPos} ((gcd(a , b) = 1) => [forall_{p in NaturalsPos} ((p > 1) => [not]((p | a) and (p | b)))])\n",
       "\tproveit.number.sets.t7\n",
       "23\ttheorem\t\t|= forall_{A, B | A and B} B\n",
       "\tproveit.logic.boolean.conjunction.rightFromAnd\n",
       "24\ttheorem\t\t|= forall_{n, p in NaturalsPos} (((2 * n) | (2 * p)) => (n | p))\n",
       "\tproveit.number.sets.t12\n",
       "25\tspecialization\t27, 28, 43\t{[sqrt](2) = (aHat / bHat) , aStar in NaturalsPos , bStar in NaturalsPos , ((aHat / bHat) = (aStar / bStar)) and (gcd(aStar , bStar) = 1)} |= 4 | (2 * bStar^{2})\n",
       "\tP(_x_) : 4 | _x_, x : 2 * bStar^{2}, y : aStar^{2}\n",
       "26\ttheorem\t\t|= (2 * 2) = 4\n",
       "\tproveit.number.numeral.deci.mult_2_2\n",
       "27\ttheorem\t\t|= forall_{P, x, y | P(y) , x = y} P(x)\n",
       "\tproveit.logic.equality.subLeftSideInto\n",
       "28\tmodus ponens\t29, 30\t{[sqrt](2) = (aHat / bHat) , aStar in NaturalsPos , bStar in NaturalsPos , ((aHat / bHat) = (aStar / bStar)) and (gcd(aStar , bStar) = 1)} |= 4 | aStar^{2}\n",
       "29\tspecialization\t31, 50\t{aStar in NaturalsPos} |= (2 | aStar) => (4 | aStar^{2})\n",
       "\ta : aStar\n",
       "30\tspecialization\t32, 33, 34, 35\t{[sqrt](2) = (aHat / bHat) , aStar in NaturalsPos , bStar in NaturalsPos , ((aHat / bHat) = (aStar / bStar)) and (gcd(aStar , bStar) = 1)} |= 2 | aStar\n",
       "\tA : 2 | aStar, B : [not](2 | aStar^{2})\n",
       "31\ttheorem\t\t|= forall_{a in NaturalsPos} ((2 | a) => (4 | a^{2}))\n",
       "\tproveit.number.sets.t11\n",
       "32\ttheorem\t\t|= forall_{A in BOOLEANS} [forall_{B | [not](A) => B , [not](B)} A]\n",
       "\tproveit.logic.boolean.implication.modusTollensAffirmation\n",
       "33\tspecialization\t36, 37, 50\t{aStar in NaturalsPos} |= (2 | aStar) in BOOLEANS\n",
       "\tm : 2, n : aStar\n",
       "34\tspecialization\t38, 50\t{aStar in NaturalsPos} |= [not](2 | aStar) => [not](2 | aStar^{2})\n",
       "\ta : aStar\n",
       "35\tspecialization\t39, 40\t{[sqrt](2) = (aHat / bHat) , aStar in NaturalsPos , bStar in NaturalsPos , ((aHat / bHat) = (aStar / bStar)) and (gcd(aStar , bStar) = 1)} |= [not]([not](2 | aStar^{2}))\n",
       "\tA : 2 | aStar^{2}\n",
       "36\taxiom\t\t|= forall_{m, n in NaturalsPos} ((m | n) in BOOLEANS)\n",
       "\tproveit.number.divisibility.dividesInBool\n",
       "37\ttheorem\t\t|= 2 in NaturalsPos\n",
       "\tproveit.number.numeral.deci.posnat2\n",
       "38\ttheorem\t\t|= forall_{a in NaturalsPos} ([not](2 | a) => [not](2 | a^{2}))\n",
       "\tproveit.number.sets.t10\n",
       "39\taxiom\t\t|= forall_{A | A} [not]([not](A))\n",
       "\tproveit.logic.boolean.negation.doubleNegationIntro\n",
       "40\tspecialization\t41, 42, 43\t{[sqrt](2) = (aHat / bHat) , aStar in NaturalsPos , bStar in NaturalsPos , ((aHat / bHat) = (aStar / bStar)) and (gcd(aStar , bStar) = 1)} |= 2 | aStar^{2}\n",
       "\tP(_x_) : 2 | _x_, x : 2 * bStar^{2}, y : aStar^{2}\n",
       "41\ttheorem\t\t|= forall_{P, x, y | P(x) , x = y} P(y)\n",
       "\tproveit.logic.equality.subRightSideInto\n",
       "42\tspecialization\t44, 45\t{bStar in NaturalsPos} |= 2 | (2 * bStar^{2})\n",
       "\tn : bStar^{2}\n",
       "43\tmodus ponens\t46, 47\t{[sqrt](2) = (aHat / bHat) , aStar in NaturalsPos , bStar in NaturalsPos , ((aHat / bHat) = (aStar / bStar)) and (gcd(aStar , bStar) = 1)} |= (2 * bStar^{2}) = aStar^{2}\n",
       "44\ttheorem\t\t|= forall_{n in NaturalsPos} (2 | (2 * n))\n",
       "\tproveit.number.sets.t9a\n",
       "45\tspecialization\t48, 51\t{bStar in NaturalsPos} |= bStar^{2} in NaturalsPos\n",
       "\tb : bStar\n",
       "46\tspecialization\t49, 50, 51\t{aStar in NaturalsPos , bStar in NaturalsPos} |= ([sqrt](2) = (aStar / bStar)) => ((2 * bStar^{2}) = aStar^{2})\n",
       "\ta : aStar, b : bStar\n",
       "47\tspecialization\t52, 53, 54\t{[sqrt](2) = (aHat / bHat) , ((aHat / bHat) = (aStar / bStar)) and (gcd(aStar , bStar) = 1)} |= [sqrt](2) = (aStar / bStar)\n",
       "\tx : [sqrt](2), y : aHat / bHat, z : aStar / bStar\n",
       "48\ttheorem\t\t|= forall_{b in NaturalsPos} (b^{2} in NaturalsPos)\n",
       "\tproveit.number.sets.t9b\n",
       "49\ttheorem\t\t|= forall_{a, b in NaturalsPos} (([sqrt](2) = (a / b)) => ((2 * b^{2}) = a^{2}))\n",
       "\tproveit.number.sets.t8\n",
       "50\tassumption\t\t{aStar in NaturalsPos} |= aStar in NaturalsPos\n",
       "51\tassumption\t\t{bStar in NaturalsPos} |= bStar in NaturalsPos\n",
       "52\taxiom\t\t|= forall_{x, y, z | x = y , y = z} (x = z)\n",
       "\tproveit.logic.equality.equalsTransitivity\n",
       "53\tassumption\t\t{[sqrt](2) = (aHat / bHat)} |= [sqrt](2) = (aHat / bHat)\n",
       "54\tspecialization\t55, 56\t{((aHat / bHat) = (aStar / bStar)) and (gcd(aStar , bStar) = 1)} |= (aHat / bHat) = (aStar / bStar)\n",
       "\tA : (aHat / bHat) = (aStar / bStar), B : gcd(aStar , bStar) = 1\n",
       "55\ttheorem\t\t|= forall_{A, B | A and B} A\n",
       "\tproveit.logic.boolean.conjunction.leftFromAnd\n",
       "56\tassumption\t\t{((aHat / bHat) = (aStar / bStar)) and (gcd(aStar , bStar) = 1)} |= ((aHat / bHat) = (aStar / bStar)) and (gcd(aStar , bStar) = 1)"
      ]
     },
     "execution_count": 71,
     "metadata": {},
     "output_type": "execute_result"
    }
   ],
   "source": [
    "c18.proof()"
   ]
  },
  {
   "cell_type": "code",
   "execution_count": 72,
   "metadata": {},
   "outputs": [],
   "source": [
    "%end demonstrations"
   ]
  }
 ],
 "metadata": {
  "kernelspec": {
   "display_name": "Python 3",
   "language": "python",
   "name": "python3"
  },
  "language_info": {
   "codemirror_mode": {
    "name": "ipython",
    "version": 3
   },
   "file_extension": ".py",
   "mimetype": "text/x-python",
   "name": "python",
   "nbconvert_exporter": "python",
   "pygments_lexer": "ipython3",
   "version": "3.7.1"
  }
 },
 "nbformat": 4,
 "nbformat_minor": 1
}
