{
 "cells": [
  {
   "cell_type": "markdown",
   "metadata": {
    "collapsed": true
   },
   "source": [
    "Demonstrations for context <a class=\"ProveItLink\" href=\"_context_.ipynb\">proveit.number.sets</a>\n",
    "========"
   ]
  },
  {
   "cell_type": "code",
   "execution_count": 9,
   "metadata": {},
   "outputs": [],
   "source": [
    "import proveit\n",
    "from proveit import Function\n",
    "from proveit._common_ import n,q,a,b,x, aPrime, bPrime, G\n",
    "from proveit.number import one,two, Sqrt, Reals, NaturalsPos, Frac, Mult, Exp\n",
    "from proveit.number.sets.real._common_ import Rationals, RationalsPos\n",
    "from proveit.number.sets.real._axioms_ import rationalsDef, rationalsPosDef\n",
    "from proveit.number.sets.integer.naturals import NaturalsPosSet\n",
    "from proveit.logic import InSet, Forall, Implies, Exists, Equals, And\n",
    "%begin demonstrations"
   ]
  },
  {
   "cell_type": "code",
   "execution_count": 2,
   "metadata": {},
   "outputs": [
    {
     "data": {
      "text/html": [
       "<strong id=\"NaturalsPos\">NaturalsPos:</strong> <a class=\"ProveItLink\" href=\"integer/__pv_it/bc4a1e155a3cdd9aed8f106cac3081dc780eb99a0/expr.ipynb\"><img src=\"integer/__pv_it/bc4a1e155a3cdd9aed8f106cac3081dc780eb99a0/expr.png\" style=\"display:inline;vertical-align:middle;\" /></a><br>"
      ],
      "text/plain": [
       "NaturalsPos: NaturalsPos"
      ]
     },
     "execution_count": 2,
     "metadata": {},
     "output_type": "execute_result"
    }
   ],
   "source": [
    "NaturalsPos = NaturalsPosSet()"
   ]
  },
  {
   "cell_type": "code",
   "execution_count": 3,
   "metadata": {},
   "outputs": [
    {
     "data": {
      "text/html": [
       "<strong id=\"a1\">a1:</strong> <a class=\"ProveItLink\" href=\"__pv_it/cc8f030bf3f8fa8886abea87852067059d7e0b5a0/expr.ipynb\"><img src=\"__pv_it/cc8f030bf3f8fa8886abea87852067059d7e0b5a0/expr.png\" style=\"display:inline;vertical-align:middle;\" /></a><br>"
      ],
      "text/plain": [
       "a1: 2 in NaturalsPos"
      ]
     },
     "execution_count": 3,
     "metadata": {},
     "output_type": "execute_result"
    }
   ],
   "source": [
    "a1 = InSet(two,NaturalsPos)"
   ]
  },
  {
   "cell_type": "code",
   "execution_count": 25,
   "metadata": {},
   "outputs": [
    {
     "data": {
      "text/html": [
       "<strong id=\"a4\">a4:</strong> <a class=\"ProveItLink\" href=\"__pv_it/75ecd19956b8d54efc1994e3023f9ba524bc195e0/expr.ipynb\"><img src=\"__pv_it/75ecd19956b8d54efc1994e3023f9ba524bc195e0/expr.png\" style=\"display:inline;vertical-align:middle;\" /></a><br>"
      ],
      "text/plain": [
       "a4: ([sqrt](n) in Rationals) => ([sqrt](n) in RationalsPos)"
      ]
     },
     "execution_count": 25,
     "metadata": {},
     "output_type": "execute_result"
    }
   ],
   "source": [
    "a4 = Implies(InSet(Sqrt(n),Rationals), InSet(Sqrt(n), RationalsPos))"
   ]
  },
  {
   "cell_type": "code",
   "execution_count": 32,
   "metadata": {},
   "outputs": [
    {
     "data": {
      "text/html": [
       "<strong id=\"a4Truth\">a4Truth:</strong> <span style=\"font-size:20px;\"><a class=\"ProveItLink\" href=\"__pv_it/92862161f1b34a56861b15b23d7c87970d366fea0/expr.ipynb\"><img src=\"__pv_it/92862161f1b34a56861b15b23d7c87970d366fea0/expr.png\" style=\"display:inline;vertical-align:middle;\" /></a> &#x22A2;&nbsp;<a class=\"ProveItLink\" href=\"__pv_it/09848d72be2516c3db09a895c47a13f4caf638040/expr.ipynb\"><img src=\"__pv_it/09848d72be2516c3db09a895c47a13f4caf638040/expr.png\" style=\"display:inline;vertical-align:middle;\" /></a></span><br>"
      ],
      "text/plain": [
       "a4Truth: {([sqrt](n) in Rationals) => ([sqrt](n) in RationalsPos) , [sqrt](n) in Rationals} |= [sqrt](n) in RationalsPos"
      ]
     },
     "execution_count": 32,
     "metadata": {},
     "output_type": "execute_result"
    }
   ],
   "source": [
    "a4Truth = a4.deriveConsequent([a4,a4.antecedent])"
   ]
  },
  {
   "cell_type": "code",
   "execution_count": 34,
   "metadata": {},
   "outputs": [
    {
     "data": {
      "text/html": [
       "<strong id=\"a5\">a5:</strong> <span style=\"font-size:20px;\"><a class=\"ProveItLink\" href=\"__pv_it/35f73349b75f245991428534ee4241bf66e0d0c50/expr.ipynb\"><img src=\"__pv_it/35f73349b75f245991428534ee4241bf66e0d0c50/expr.png\" style=\"display:inline;vertical-align:middle;\" /></a> &#x22A2;&nbsp;<a class=\"ProveItLink\" href=\"__pv_it/711f0656936fea4c9aad6f985af9cf7da4a515d70/expr.ipynb\"><img src=\"__pv_it/711f0656936fea4c9aad6f985af9cf7da4a515d70/expr.png\" style=\"display:inline;vertical-align:middle;\" /></a></span><br>"
      ],
      "text/plain": [
       "a5: {[sqrt](n) in Reals} |= ([sqrt](n) in RationalsPos) <=> [exists_{a, b in NaturalsPos} ([sqrt](n) = (a / b))]"
      ]
     },
     "execution_count": 34,
     "metadata": {},
     "output_type": "execute_result"
    }
   ],
   "source": [
    "a5 = rationalsPosDef.specialize({x:Sqrt(n)},assumptions = [InSet(Sqrt(n),Reals), InSet(a,NaturalsPos), InSet(b, NaturalsPos)])"
   ]
  },
  {
   "cell_type": "code",
   "execution_count": 17,
   "metadata": {},
   "outputs": [
    {
     "data": {
      "text/html": [
       "<strong id=\"GaPrimebPrime\">GaPrimebPrime:</strong> <a class=\"ProveItLink\" href=\"__pv_it/c52ea856b089e7326377bdc3de8186a4379802b80/expr.ipynb\"><img src=\"__pv_it/c52ea856b089e7326377bdc3de8186a4379802b80/expr.png\" style=\"display:inline;vertical-align:middle;\" /></a><br>"
      ],
      "text/plain": [
       "GaPrimebPrime: G(a' , b')"
      ]
     },
     "execution_count": 17,
     "metadata": {},
     "output_type": "execute_result"
    }
   ],
   "source": [
    "GaPrimebPrime = Function(G, (aPrime, bPrime))"
   ]
  },
  {
   "cell_type": "code",
   "execution_count": 18,
   "metadata": {},
   "outputs": [
    {
     "data": {
      "text/html": [
       "<strong id=\"Gab\">Gab:</strong> <a class=\"ProveItLink\" href=\"__pv_it/5ca67c1bba6c1fa2c8b4abeaba623e6eebc2849c0/expr.ipynb\"><img src=\"__pv_it/5ca67c1bba6c1fa2c8b4abeaba623e6eebc2849c0/expr.png\" style=\"display:inline;vertical-align:middle;\" /></a><br>"
      ],
      "text/plain": [
       "Gab: G(a , b)"
      ]
     },
     "execution_count": 18,
     "metadata": {},
     "output_type": "execute_result"
    }
   ],
   "source": [
    "Gab = Function(G,(a,b))"
   ]
  },
  {
   "cell_type": "code",
   "execution_count": 19,
   "metadata": {},
   "outputs": [
    {
     "data": {
      "text/html": [
       "<strong id=\"a6\">a6:</strong> <a class=\"ProveItLink\" href=\"__pv_it/71b47ebb79b6654051f8f9d52cde577e385cfdfd0/expr.ipynb\"><img src=\"__pv_it/71b47ebb79b6654051f8f9d52cde577e385cfdfd0/expr.png\" style=\"display:inline;vertical-align:middle;\" /></a><br>"
      ],
      "text/plain": [
       "a6: forall_{a, b in NaturalsPos} [exists_{a', b' in NaturalsPos} (((a / b) = (a' / b')) and (G(a' , b') = 1))]"
      ]
     },
     "execution_count": 19,
     "metadata": {},
     "output_type": "execute_result"
    }
   ],
   "source": [
    "a6 = Forall((a,b), Exists((aPrime,bPrime),And(Equals(Frac(a,b),Frac(aPrime,bPrime)),Equals(GaPrimebPrime, one)), domain = NaturalsPos), domain = NaturalsPos)"
   ]
  },
  {
   "cell_type": "code",
   "execution_count": 20,
   "metadata": {},
   "outputs": [
    {
     "data": {
      "text/html": [
       "<strong id=\"a8\">a8:</strong> <a class=\"ProveItLink\" href=\"__pv_it/33404f402ffdbb44eb44b18a39ef3e839e26ac580/expr.ipynb\"><img src=\"__pv_it/33404f402ffdbb44eb44b18a39ef3e839e26ac580/expr.png\" style=\"display:inline;vertical-align:middle;\" /></a><br>"
      ],
      "text/plain": [
       "a8: forall_{a, b in NaturalsPos} (([sqrt](2) = (a / b)) => ((2 * b^{2}) = a^{2}))"
      ]
     },
     "execution_count": 20,
     "metadata": {},
     "output_type": "execute_result"
    }
   ],
   "source": [
    "a8 = Forall((a,b),Implies(Equals(Sqrt(two),Frac(a,b)),Equals(Mult(two,Exp(b,two)),Exp(a,two))), domain = NaturalsPos)"
   ]
  },
  {
   "cell_type": "code",
   "execution_count": 21,
   "metadata": {},
   "outputs": [
    {
     "data": {
      "text/html": [
       "<strong id=\"c1\">c1:</strong> <a class=\"ProveItLink\" href=\"__pv_it/cb1e726bc200c5154020bccdc32db9bd2f89b4fb0/expr.ipynb\"><img src=\"__pv_it/cb1e726bc200c5154020bccdc32db9bd2f89b4fb0/expr.png\" style=\"display:inline;vertical-align:middle;\" /></a><br>"
      ],
      "text/plain": [
       "c1: ([sqrt](2) in Rationals) => [exists_{a, b in NaturalsPos} (((2 * b^{2}) = a^{2}) and (G(a , b) = 1))]"
      ]
     },
     "execution_count": 21,
     "metadata": {},
     "output_type": "execute_result"
    }
   ],
   "source": [
    "c1 = Implies(InSet(Sqrt(two),Rationals),Exists((a,b), And(Equals(Mult(two,Exp(b,two)),Exp(a,two)),Equals(Gab, one)),domain = NaturalsPos))"
   ]
  },
  {
   "cell_type": "code",
   "execution_count": 50,
   "metadata": {},
   "outputs": [
    {
     "ename": "AttributeError",
     "evalue": "'Forall' object has no attribute 'expr'",
     "output_type": "error",
     "traceback": [
      "\u001b[0;31m---------------------------------------------------------------------------\u001b[0m",
      "\u001b[0;31mAttributeError\u001b[0m                            Traceback (most recent call last)",
      "\u001b[0;32m<ipython-input-50-15167d0e82ba>\u001b[0m in \u001b[0;36m<module>\u001b[0;34m\u001b[0m\n\u001b[0;32m----> 1\u001b[0;31m \u001b[0mc1\u001b[0m\u001b[0;34m.\u001b[0m\u001b[0mprove\u001b[0m\u001b[0;34m(\u001b[0m\u001b[0massumptions\u001b[0m \u001b[0;34m=\u001b[0m \u001b[0;34m[\u001b[0m\u001b[0ma1\u001b[0m\u001b[0;34m,\u001b[0m\u001b[0ma4Truth\u001b[0m\u001b[0;34m,\u001b[0m\u001b[0ma5\u001b[0m\u001b[0;34m.\u001b[0m\u001b[0mexpr\u001b[0m\u001b[0;34m,\u001b[0m\u001b[0ma6\u001b[0m\u001b[0;34m.\u001b[0m\u001b[0mexpr\u001b[0m\u001b[0;34m,\u001b[0m\u001b[0ma8\u001b[0m\u001b[0;34m.\u001b[0m\u001b[0mexpr\u001b[0m\u001b[0;34m]\u001b[0m\u001b[0;34m)\u001b[0m\u001b[0;34m\u001b[0m\u001b[0;34m\u001b[0m\u001b[0m\n\u001b[0m",
      "\u001b[0;31mAttributeError\u001b[0m: 'Forall' object has no attribute 'expr'"
     ]
    }
   ],
   "source": [
    "c1.prove(assumptions = [a1,a4Truth,a5.expr,a6.expr,a8.expr])"
   ]
  },
  {
   "cell_type": "code",
   "execution_count": 8,
   "metadata": {},
   "outputs": [],
   "source": [
    "%end demonstrations"
   ]
  }
 ],
 "metadata": {
  "kernelspec": {
   "display_name": "Python 3",
   "language": "python",
   "name": "python3"
  },
  "language_info": {
   "codemirror_mode": {
    "name": "ipython",
    "version": 3
   },
   "file_extension": ".py",
   "mimetype": "text/x-python",
   "name": "python",
   "nbconvert_exporter": "python",
   "pygments_lexer": "ipython3",
   "version": "3.7.3"
  }
 },
 "nbformat": 4,
 "nbformat_minor": 1
}
