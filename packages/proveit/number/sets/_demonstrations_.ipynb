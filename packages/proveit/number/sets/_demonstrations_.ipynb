{
 "cells": [
  {
   "cell_type": "markdown",
   "metadata": {
    "collapsed": true
   },
   "source": [
    "Demonstrations for context <a class=\"ProveItLink\" href=\"_context_.ipynb\">proveit.number.sets</a>\n",
    "========"
   ]
  },
  {
   "cell_type": "code",
   "execution_count": 1,
   "metadata": {},
   "outputs": [],
   "source": [
    "import proveit\n",
    "from proveit import Function, defaults, Variable\n",
    "from proveit._common_ import n,q,a,b,x, aPrime, bPrime, G\n",
    "from proveit.number import one,two, Sqrt, Reals, NaturalsPos, Frac, Mult, Exp\n",
    "from proveit.number.sets.real._common_ import Rationals, RationalsPos\n",
    "from proveit.number.sets.real._axioms_ import rationalsDef, rationalsPosDef\n",
    "from proveit.number.sets.integer.naturals import NaturalsPosSet\n",
    "from proveit.logic import InSet, Forall, Implies, Exists, Equals, And\n",
    "#from proveit.number.sets.integer._theorems_ import squareRootNInRationals\n",
    "%begin demonstrations"
   ]
  },
  {
   "cell_type": "code",
   "execution_count": 2,
   "metadata": {},
   "outputs": [
    {
     "data": {
      "text/html": [
       "<strong id=\"NaturalsPos\">NaturalsPos:</strong> <a class=\"ProveItLink\" href=\"integer/__pv_it/bc4a1e155a3cdd9aed8f106cac3081dc780eb99a0/expr.ipynb\"><img src=\"integer/__pv_it/bc4a1e155a3cdd9aed8f106cac3081dc780eb99a0/expr.png\" style=\"display:inline;vertical-align:middle;\" /></a><br>"
      ],
      "text/plain": [
       "NaturalsPos: NaturalsPos"
      ]
     },
     "execution_count": 2,
     "metadata": {},
     "output_type": "execute_result"
    }
   ],
   "source": [
    "NaturalsPos = NaturalsPosSet()"
   ]
  },
  {
   "cell_type": "code",
   "execution_count": 3,
   "metadata": {},
   "outputs": [
    {
     "data": {
      "text/html": [
       "<strong id=\"a1\">a1:</strong> <a class=\"ProveItLink\" href=\"__pv_it/cc8f030bf3f8fa8886abea87852067059d7e0b5a0/expr.ipynb\"><img src=\"__pv_it/cc8f030bf3f8fa8886abea87852067059d7e0b5a0/expr.png\" style=\"display:inline;vertical-align:middle;\" /></a><br>"
      ],
      "text/plain": [
       "a1: 2 in NaturalsPos"
      ]
     },
     "execution_count": 3,
     "metadata": {},
     "output_type": "execute_result"
    }
   ],
   "source": [
    "a1 = InSet(two,NaturalsPos)"
   ]
  },
  {
   "cell_type": "code",
   "execution_count": 4,
   "metadata": {},
   "outputs": [
    {
     "data": {
      "text/html": [
       "<strong id=\"a4\">a4:</strong> <a class=\"ProveItLink\" href=\"__pv_it/abaafec1ec3d659791419210e535f026aa32e3da0/expr.ipynb\"><img src=\"__pv_it/abaafec1ec3d659791419210e535f026aa32e3da0/expr.png\" style=\"display:inline;vertical-align:middle;\" /></a><br>"
      ],
      "text/plain": [
       "a4: forall_{n in NaturalsPos} (([sqrt](n) in Rationals) => ([sqrt](n) in RationalsPos))"
      ]
     },
     "execution_count": 4,
     "metadata": {},
     "output_type": "execute_result"
    }
   ],
   "source": [
    "a4 = Forall(n, Implies(InSet(Sqrt(n),Rationals), InSet(Sqrt(n), RationalsPos)), domain = NaturalsPos)"
   ]
  },
  {
   "cell_type": "code",
   "execution_count": 5,
   "metadata": {},
   "outputs": [],
   "source": [
    "#rationalsPosDef"
   ]
  },
  {
   "cell_type": "code",
   "execution_count": 6,
   "metadata": {},
   "outputs": [],
   "source": [
    "#specA4 = a4.specialize({n:two}, assumptions = [a1])"
   ]
  },
  {
   "cell_type": "code",
   "execution_count": 7,
   "metadata": {},
   "outputs": [],
   "source": [
    "#a5 = rationalsPosDef.specialize({x:Sqrt(n)},assumptions = [InSet(Sqrt(n),Reals), InSet(a,NaturalsPos), InSet(b, NaturalsPos)])"
   ]
  },
  {
   "cell_type": "code",
   "execution_count": 8,
   "metadata": {},
   "outputs": [
    {
     "data": {
      "text/html": [
       "<strong id=\"a5\">a5:</strong> <a class=\"ProveItLink\" href=\"__pv_it/4cf60f005f957ffbff4b816d180db799717a1c9a0/expr.ipynb\"><img src=\"__pv_it/4cf60f005f957ffbff4b816d180db799717a1c9a0/expr.png\" style=\"display:inline;vertical-align:middle;\" /></a><br>"
      ],
      "text/plain": [
       "a5: forall_{q in RationalsPos} [exists_{a, b in NaturalsPos} (q = (a / b))]"
      ]
     },
     "execution_count": 8,
     "metadata": {},
     "output_type": "execute_result"
    }
   ],
   "source": [
    "a5 = Forall(q, Exists((a,b), Equals(q, Frac(a, b)), domain = NaturalsPos), domain = RationalsPos)"
   ]
  },
  {
   "cell_type": "code",
   "execution_count": 9,
   "metadata": {},
   "outputs": [
    {
     "data": {
      "text/html": [
       "<strong id=\"GaPrimebPrime\">GaPrimebPrime:</strong> <a class=\"ProveItLink\" href=\"__pv_it/c52ea856b089e7326377bdc3de8186a4379802b80/expr.ipynb\"><img src=\"__pv_it/c52ea856b089e7326377bdc3de8186a4379802b80/expr.png\" style=\"display:inline;vertical-align:middle;\" /></a><br>"
      ],
      "text/plain": [
       "GaPrimebPrime: G(a' , b')"
      ]
     },
     "execution_count": 9,
     "metadata": {},
     "output_type": "execute_result"
    }
   ],
   "source": [
    "GaPrimebPrime = Function(G, (aPrime, bPrime))"
   ]
  },
  {
   "cell_type": "code",
   "execution_count": 10,
   "metadata": {},
   "outputs": [
    {
     "data": {
      "text/html": [
       "<strong id=\"Gab\">Gab:</strong> <a class=\"ProveItLink\" href=\"__pv_it/5ca67c1bba6c1fa2c8b4abeaba623e6eebc2849c0/expr.ipynb\"><img src=\"__pv_it/5ca67c1bba6c1fa2c8b4abeaba623e6eebc2849c0/expr.png\" style=\"display:inline;vertical-align:middle;\" /></a><br>"
      ],
      "text/plain": [
       "Gab: G(a , b)"
      ]
     },
     "execution_count": 10,
     "metadata": {},
     "output_type": "execute_result"
    }
   ],
   "source": [
    "Gab = Function(G,(a,b))"
   ]
  },
  {
   "cell_type": "code",
   "execution_count": 11,
   "metadata": {},
   "outputs": [
    {
     "data": {
      "text/html": [
       "<strong id=\"a6\">a6:</strong> <a class=\"ProveItLink\" href=\"__pv_it/71b47ebb79b6654051f8f9d52cde577e385cfdfd0/expr.ipynb\"><img src=\"__pv_it/71b47ebb79b6654051f8f9d52cde577e385cfdfd0/expr.png\" style=\"display:inline;vertical-align:middle;\" /></a><br>"
      ],
      "text/plain": [
       "a6: forall_{a, b in NaturalsPos} [exists_{a', b' in NaturalsPos} (((a / b) = (a' / b')) and (G(a' , b') = 1))]"
      ]
     },
     "execution_count": 11,
     "metadata": {},
     "output_type": "execute_result"
    }
   ],
   "source": [
    "a6 = Forall((a,b), Exists((aPrime,bPrime),And(Equals(Frac(a,b),Frac(aPrime,bPrime)),Equals(GaPrimebPrime, one)), domain = NaturalsPos), domain = NaturalsPos)"
   ]
  },
  {
   "cell_type": "code",
   "execution_count": 12,
   "metadata": {},
   "outputs": [
    {
     "data": {
      "text/html": [
       "<strong id=\"a8\">a8:</strong> <a class=\"ProveItLink\" href=\"__pv_it/33404f402ffdbb44eb44b18a39ef3e839e26ac580/expr.ipynb\"><img src=\"__pv_it/33404f402ffdbb44eb44b18a39ef3e839e26ac580/expr.png\" style=\"display:inline;vertical-align:middle;\" /></a><br>"
      ],
      "text/plain": [
       "a8: forall_{a, b in NaturalsPos} (([sqrt](2) = (a / b)) => ((2 * b^{2}) = a^{2}))"
      ]
     },
     "execution_count": 12,
     "metadata": {},
     "output_type": "execute_result"
    }
   ],
   "source": [
    "a8 = Forall((a,b),Implies(Equals(Sqrt(two),Frac(a,b)),Equals(Mult(two,Exp(b,two)),Exp(a,two))), domain = NaturalsPos)"
   ]
  },
  {
   "cell_type": "code",
   "execution_count": 13,
   "metadata": {},
   "outputs": [
    {
     "data": {
      "text/html": [
       "<strong id=\"aHat\">aHat:</strong> <a class=\"ProveItLink\" href=\"__pv_it/0d73718329a1ebbff99c540bf21f29745fa8ee590/expr.ipynb\"><img src=\"__pv_it/0d73718329a1ebbff99c540bf21f29745fa8ee590/expr.png\" style=\"display:inline;vertical-align:middle;\" /></a><br>"
      ],
      "text/plain": [
       "aHat: aHat"
      ]
     },
     "execution_count": 13,
     "metadata": {},
     "output_type": "execute_result"
    }
   ],
   "source": [
    "aHat = Variable('aHat', \"\\hat{a}\")"
   ]
  },
  {
   "cell_type": "code",
   "execution_count": 14,
   "metadata": {},
   "outputs": [
    {
     "data": {
      "text/html": [
       "<strong id=\"bHat\">bHat:</strong> <a class=\"ProveItLink\" href=\"__pv_it/8dce3093518ad1d2ace0ada2a2d02599e8f3a6e00/expr.ipynb\"><img src=\"__pv_it/8dce3093518ad1d2ace0ada2a2d02599e8f3a6e00/expr.png\" style=\"display:inline;vertical-align:middle;\" /></a><br>"
      ],
      "text/plain": [
       "bHat: bHat"
      ]
     },
     "execution_count": 14,
     "metadata": {},
     "output_type": "execute_result"
    }
   ],
   "source": [
    "bHat = Variable('bHat', \"\\hat{b}\")"
   ]
  },
  {
   "cell_type": "code",
   "execution_count": null,
   "metadata": {},
   "outputs": [],
   "source": []
  },
  {
   "cell_type": "code",
   "execution_count": 15,
   "metadata": {},
   "outputs": [],
   "source": [
    "#c1 = Implies(InSet(Sqrt(two),Rationals),Exists((a,b), And(Equals(Mult(two,Exp(b,two)),Exp(a,two)),Equals(Gab, one)),domain = NaturalsPos))"
   ]
  },
  {
   "cell_type": "code",
   "execution_count": 16,
   "metadata": {},
   "outputs": [
    {
     "data": {
      "text/html": [
       "<strong id=\"c1\">c1:</strong> <a class=\"ProveItLink\" href=\"__pv_it/59792c8af0ea987a4d0085adc62e8523bcccaf020/expr.ipynb\"><img src=\"__pv_it/59792c8af0ea987a4d0085adc62e8523bcccaf020/expr.png\" style=\"display:inline;vertical-align:middle;\" /></a><br>"
      ],
      "text/plain": [
       "c1: [sqrt](2) in Rationals"
      ]
     },
     "execution_count": 16,
     "metadata": {},
     "output_type": "execute_result"
    }
   ],
   "source": [
    "c1 = InSet(Sqrt(two), Rationals)"
   ]
  },
  {
   "cell_type": "code",
   "execution_count": 17,
   "metadata": {},
   "outputs": [
    {
     "data": {
      "text/html": [
       "<strong id=\"defaults.assumptions\">defaults.assumptions:</strong> <a class=\"ProveItLink\" href=\"__pv_it/0ba5f5e3d434795a4d125753183fa1a23d829c180/expr.ipynb\"><img src=\"__pv_it/0ba5f5e3d434795a4d125753183fa1a23d829c180/expr.png\" style=\"display:inline;vertical-align:middle;\" /></a><br>"
      ],
      "text/plain": [
       "defaults.assumptions: (2 in NaturalsPos , forall_{n in NaturalsPos} (([sqrt](n) in Rationals) => ([sqrt](n) in RationalsPos)) , forall_{q in RationalsPos} [exists_{a, b in NaturalsPos} (q = (a / b))] , forall_{a, b in NaturalsPos} [exists_{a', b' in NaturalsPos} (((a / b) = (a' / b')) and (G(a' , b') = 1))] , forall_{a, b in NaturalsPos} (([sqrt](2) = (a / b)) => ((2 * b^{2}) = a^{2})) , [sqrt](2) in Rationals)"
      ]
     },
     "execution_count": 17,
     "metadata": {},
     "output_type": "execute_result"
    }
   ],
   "source": [
    "defaults.assumptions = [a1,a4,a5,a6, a8,c1]"
   ]
  },
  {
   "cell_type": "code",
   "execution_count": 18,
   "metadata": {},
   "outputs": [
    {
     "data": {
      "text/html": [
       "<span style=\"font-size:20px;\"><a class=\"ProveItLink\" href=\"__pv_it/ed78e75f91dc995cd9b8d44f66003ee66a07ceb40/expr.ipynb\"><img src=\"__pv_it/ed78e75f91dc995cd9b8d44f66003ee66a07ceb40/expr.png\" style=\"display:inline;vertical-align:middle;\" /></a> &#x22A2;&nbsp;<a class=\"ProveItLink\" href=\"__pv_it/59792c8af0ea987a4d0085adc62e8523bcccaf020/expr.ipynb\"><img src=\"__pv_it/59792c8af0ea987a4d0085adc62e8523bcccaf020/expr.png\" style=\"display:inline;vertical-align:middle;\" /></a></span>"
      ],
      "text/plain": [
       "{[sqrt](2) in Rationals} |= [sqrt](2) in Rationals"
      ]
     },
     "execution_count": 18,
     "metadata": {},
     "output_type": "execute_result"
    }
   ],
   "source": [
    "c1.prove([c1])"
   ]
  },
  {
   "cell_type": "code",
   "execution_count": 19,
   "metadata": {},
   "outputs": [
    {
     "data": {
      "text/html": [
       "<strong id=\"c2a\">c2a:</strong> <span style=\"font-size:20px;\"><a class=\"ProveItLink\" href=\"__pv_it/feb8310e91a7f841c8c3c4ff6a5afeb87ce2e3780/expr.ipynb\"><img src=\"__pv_it/feb8310e91a7f841c8c3c4ff6a5afeb87ce2e3780/expr.png\" style=\"display:inline;vertical-align:middle;\" /></a> &#x22A2;&nbsp;<a class=\"ProveItLink\" href=\"__pv_it/1ba20ff2a5f9bcff7ae3b0c5ca17cd05ab40677c0/expr.ipynb\"><img src=\"__pv_it/1ba20ff2a5f9bcff7ae3b0c5ca17cd05ab40677c0/expr.png\" style=\"display:inline;vertical-align:middle;\" /></a></span><br>"
      ],
      "text/plain": [
       "c2a: {2 in NaturalsPos , forall_{n in NaturalsPos} (([sqrt](n) in Rationals) => ([sqrt](n) in RationalsPos))} |= ([sqrt](2) in Rationals) => ([sqrt](2) in RationalsPos)"
      ]
     },
     "execution_count": 19,
     "metadata": {},
     "output_type": "execute_result"
    }
   ],
   "source": [
    "c2a = a4.specialize({n:two}, assumptions=[a1, a4])"
   ]
  },
  {
   "cell_type": "code",
   "execution_count": 20,
   "metadata": {},
   "outputs": [
    {
     "data": {
      "text/html": [
       "<strong id=\"c2b\">c2b:</strong> <span style=\"font-size:20px;\"><a class=\"ProveItLink\" href=\"__pv_it/e27cb963756e7f584ce5546c3b1e8ff0822343ee0/expr.ipynb\"><img src=\"__pv_it/e27cb963756e7f584ce5546c3b1e8ff0822343ee0/expr.png\" style=\"display:inline;vertical-align:middle;\" /></a> &#x22A2;&nbsp;<a class=\"ProveItLink\" href=\"__pv_it/9a22babafdf92a651c1f3e6611e36f6f8738d8380/expr.ipynb\"><img src=\"__pv_it/9a22babafdf92a651c1f3e6611e36f6f8738d8380/expr.png\" style=\"display:inline;vertical-align:middle;\" /></a></span><br>"
      ],
      "text/plain": [
       "c2b: {[sqrt](2) in Rationals , 2 in NaturalsPos , forall_{n in NaturalsPos} (([sqrt](n) in Rationals) => ([sqrt](n) in RationalsPos))} |= [sqrt](2) in RationalsPos"
      ]
     },
     "execution_count": 20,
     "metadata": {},
     "output_type": "execute_result"
    }
   ],
   "source": [
    "c2b = c2a.deriveConsequent([c1])"
   ]
  },
  {
   "cell_type": "code",
   "execution_count": 21,
   "metadata": {},
   "outputs": [
    {
     "data": {
      "text/html": [
       "<strong id=\"c3\">c3:</strong> <span style=\"font-size:20px;\"><a class=\"ProveItLink\" href=\"__pv_it/15c17fefc0a681dcfd9718aa2d0caa9054a39c4d0/expr.ipynb\"><img src=\"__pv_it/15c17fefc0a681dcfd9718aa2d0caa9054a39c4d0/expr.png\" style=\"display:inline;vertical-align:middle;\" /></a> &#x22A2;&nbsp;<a class=\"ProveItLink\" href=\"__pv_it/0dd2be139c4dd6ae0adac9fcd8c95c53646f4d1d0/expr.ipynb\"><img src=\"__pv_it/0dd2be139c4dd6ae0adac9fcd8c95c53646f4d1d0/expr.png\" style=\"display:inline;vertical-align:middle;\" /></a></span><br>"
      ],
      "text/plain": [
       "c3: {2 in NaturalsPos , forall_{n in NaturalsPos} (([sqrt](n) in Rationals) => ([sqrt](n) in RationalsPos)) , forall_{q in RationalsPos} [exists_{a, b in NaturalsPos} (q = (a / b))] , [sqrt](2) in Rationals} |= exists_{a, b in NaturalsPos} ([sqrt](2) = (a / b))"
      ]
     },
     "execution_count": 21,
     "metadata": {},
     "output_type": "execute_result"
    }
   ],
   "source": [
    "c3 = a5.specialize({q:Sqrt(two)})"
   ]
  },
  {
   "cell_type": "code",
   "execution_count": 22,
   "metadata": {},
   "outputs": [
    {
     "data": {
      "text/html": [
       "<strong id=\"c4a\">c4a:</strong> <a class=\"ProveItLink\" href=\"__pv_it/191508d8256844e5a74c56293706139ada0718e80/expr.ipynb\"><img src=\"__pv_it/191508d8256844e5a74c56293706139ada0718e80/expr.png\" style=\"display:inline;vertical-align:middle;\" /></a><br>"
      ],
      "text/plain": [
       "c4a: [sqrt](2) = (aHat / bHat)"
      ]
     },
     "execution_count": 22,
     "metadata": {},
     "output_type": "execute_result"
    }
   ],
   "source": [
    "c4a = Equals(Sqrt(two), Frac(aHat, bHat))"
   ]
  },
  {
   "cell_type": "code",
   "execution_count": 23,
   "metadata": {},
   "outputs": [
    {
     "data": {
      "text/html": [
       "<strong id=\"c4b\">c4b:</strong> <a class=\"ProveItLink\" href=\"__pv_it/9edee23ae85cc8fc5bb5da719b4b50a4e1b014cf0/expr.ipynb\"><img src=\"__pv_it/9edee23ae85cc8fc5bb5da719b4b50a4e1b014cf0/expr.png\" style=\"display:inline;vertical-align:middle;\" /></a><br>"
      ],
      "text/plain": [
       "c4b: aHat in NaturalsPos"
      ]
     },
     "execution_count": 23,
     "metadata": {},
     "output_type": "execute_result"
    }
   ],
   "source": [
    "c4b = InSet(aHat, NaturalsPos)"
   ]
  },
  {
   "cell_type": "code",
   "execution_count": 24,
   "metadata": {},
   "outputs": [
    {
     "data": {
      "text/html": [
       "<strong id=\"c4c\">c4c:</strong> <a class=\"ProveItLink\" href=\"__pv_it/9bce5c3d408721bd8302b5b6643b681956caa62f0/expr.ipynb\"><img src=\"__pv_it/9bce5c3d408721bd8302b5b6643b681956caa62f0/expr.png\" style=\"display:inline;vertical-align:middle;\" /></a><br>"
      ],
      "text/plain": [
       "c4c: bHat in NaturalsPos"
      ]
     },
     "execution_count": 24,
     "metadata": {},
     "output_type": "execute_result"
    }
   ],
   "source": [
    "c4c = InSet(bHat, NaturalsPos)"
   ]
  },
  {
   "cell_type": "code",
   "execution_count": 25,
   "metadata": {},
   "outputs": [
    {
     "data": {
      "text/html": [
       "<strong id=\"defaults.assumptions\">defaults.assumptions:</strong> <a class=\"ProveItLink\" href=\"__pv_it/7e2ece826ed73b38f750b21b047bb20c180a77110/expr.ipynb\"><img src=\"__pv_it/7e2ece826ed73b38f750b21b047bb20c180a77110/expr.png\" style=\"display:inline;vertical-align:middle;\" /></a><br>"
      ],
      "text/plain": [
       "defaults.assumptions: (2 in NaturalsPos , forall_{n in NaturalsPos} (([sqrt](n) in Rationals) => ([sqrt](n) in RationalsPos)) , forall_{q in RationalsPos} [exists_{a, b in NaturalsPos} (q = (a / b))] , forall_{a, b in NaturalsPos} [exists_{a', b' in NaturalsPos} (((a / b) = (a' / b')) and (G(a' , b') = 1))] , forall_{a, b in NaturalsPos} (([sqrt](2) = (a / b)) => ((2 * b^{2}) = a^{2})) , [sqrt](2) in Rationals , [sqrt](2) = (aHat / bHat) , aHat in NaturalsPos , bHat in NaturalsPos)"
      ]
     },
     "execution_count": 25,
     "metadata": {},
     "output_type": "execute_result"
    }
   ],
   "source": [
    "defaults.assumptions = defaults.assumptions + (c4a, c4b, c4c)"
   ]
  },
  {
   "cell_type": "code",
   "execution_count": 26,
   "metadata": {},
   "outputs": [
    {
     "data": {
      "text/html": [
       "<strong id=\"c5\">c5:</strong> <span style=\"font-size:20px;\"><a class=\"ProveItLink\" href=\"__pv_it/ad9e650ab355f395e3d7b0c31863e5a9b66788460/expr.ipynb\"><img src=\"__pv_it/ad9e650ab355f395e3d7b0c31863e5a9b66788460/expr.png\" style=\"display:inline;vertical-align:middle;\" /></a> &#x22A2;&nbsp;<a class=\"ProveItLink\" href=\"__pv_it/db6c0515554b188527965eef466144db844051440/expr.ipynb\"><img src=\"__pv_it/db6c0515554b188527965eef466144db844051440/expr.png\" style=\"display:inline;vertical-align:middle;\" /></a></span><br>"
      ],
      "text/plain": [
       "c5: {forall_{a, b in NaturalsPos} [exists_{a', b' in NaturalsPos} (((a / b) = (a' / b')) and (G(a' , b') = 1))] , aHat in NaturalsPos , bHat in NaturalsPos} |= exists_{a', b' in NaturalsPos} (((aHat / bHat) = (a' / b')) and (G(a' , b') = 1))"
      ]
     },
     "execution_count": 26,
     "metadata": {},
     "output_type": "execute_result"
    }
   ],
   "source": [
    "c5 = a6.specialize({a:aHat, b:bHat})"
   ]
  },
  {
   "cell_type": "code",
   "execution_count": 27,
   "metadata": {},
   "outputs": [
    {
     "data": {
      "text/html": [
       "<strong id=\"aStar\">aStar:</strong> <a class=\"ProveItLink\" href=\"__pv_it/fe64ee9c152514fe07e7f7adbdd9a2bbfa80c9640/expr.ipynb\"><img src=\"__pv_it/fe64ee9c152514fe07e7f7adbdd9a2bbfa80c9640/expr.png\" style=\"display:inline;vertical-align:middle;\" /></a><br>"
      ],
      "text/plain": [
       "aStar: aStar"
      ]
     },
     "execution_count": 27,
     "metadata": {},
     "output_type": "execute_result"
    }
   ],
   "source": [
    "aStar = Variable('aStar', \"(a ^ *)\")"
   ]
  },
  {
   "cell_type": "code",
   "execution_count": 28,
   "metadata": {},
   "outputs": [
    {
     "data": {
      "text/html": [
       "<strong id=\"bStar\">bStar:</strong> <a class=\"ProveItLink\" href=\"__pv_it/ea8139a11ce424b2196caef826ae9496edde62300/expr.ipynb\"><img src=\"__pv_it/ea8139a11ce424b2196caef826ae9496edde62300/expr.png\" style=\"display:inline;vertical-align:middle;\" /></a><br>"
      ],
      "text/plain": [
       "bStar: bStar"
      ]
     },
     "execution_count": 28,
     "metadata": {},
     "output_type": "execute_result"
    }
   ],
   "source": [
    "bStar = Variable('bStar', \"(b ^ *)\")"
   ]
  },
  {
   "cell_type": "code",
   "execution_count": 29,
   "metadata": {},
   "outputs": [
    {
     "data": {
      "text/html": [
       "<strong id=\"c6a\">c6a:</strong> <a class=\"ProveItLink\" href=\"__pv_it/cfc250a45c2c9d9249d15d23343a0eb3dde4dd790/expr.ipynb\"><img src=\"__pv_it/cfc250a45c2c9d9249d15d23343a0eb3dde4dd790/expr.png\" style=\"display:inline;vertical-align:middle;\" /></a><br>"
      ],
      "text/plain": [
       "c6a: ((aHat / bHat) = (a' / b')) and (G(a' , b') = 1)"
      ]
     },
     "execution_count": 29,
     "metadata": {},
     "output_type": "execute_result"
    }
   ],
   "source": [
    "c6a = c5.explicitInstanceExpr()"
   ]
  },
  {
   "cell_type": "code",
   "execution_count": 30,
   "metadata": {},
   "outputs": [
    {
     "data": {
      "text/html": [
       "<strong id=\"c6b\">c6b:</strong> <a class=\"ProveItLink\" href=\"__pv_it/2fefbdbf6a5bd8b0143dea8d731329a706c616e60/expr.ipynb\"><img src=\"__pv_it/2fefbdbf6a5bd8b0143dea8d731329a706c616e60/expr.png\" style=\"display:inline;vertical-align:middle;\" /></a><br>"
      ],
      "text/plain": [
       "c6b: ((aHat / bHat) = (aStar / bStar)) and (G(aStar , bStar) = 1)"
      ]
     },
     "execution_count": 30,
     "metadata": {},
     "output_type": "execute_result"
    }
   ],
   "source": [
    "c6b = c6a.substituted({aPrime:aStar, bPrime:bStar})"
   ]
  },
  {
   "cell_type": "code",
   "execution_count": 31,
   "metadata": {},
   "outputs": [
    {
     "data": {
      "text/html": [
       "<strong id=\"defaults.assumptions\">defaults.assumptions:</strong> <a class=\"ProveItLink\" href=\"__pv_it/f666784923a95df9b20aec9eb9f1ccecf275315e0/expr.ipynb\"><img src=\"__pv_it/f666784923a95df9b20aec9eb9f1ccecf275315e0/expr.png\" style=\"display:inline;vertical-align:middle;\" /></a><br>"
      ],
      "text/plain": [
       "defaults.assumptions: (2 in NaturalsPos , forall_{n in NaturalsPos} (([sqrt](n) in Rationals) => ([sqrt](n) in RationalsPos)) , forall_{q in RationalsPos} [exists_{a, b in NaturalsPos} (q = (a / b))] , forall_{a, b in NaturalsPos} [exists_{a', b' in NaturalsPos} (((a / b) = (a' / b')) and (G(a' , b') = 1))] , forall_{a, b in NaturalsPos} (([sqrt](2) = (a / b)) => ((2 * b^{2}) = a^{2})) , [sqrt](2) in Rationals , [sqrt](2) = (aHat / bHat) , aHat in NaturalsPos , bHat in NaturalsPos , ((aHat / bHat) = (aStar / bStar)) and (G(aStar , bStar) = 1) , aStar in NaturalsPos , bStar in NaturalsPos)"
      ]
     },
     "execution_count": 31,
     "metadata": {},
     "output_type": "execute_result"
    }
   ],
   "source": [
    "defaults.assumptions = defaults.assumptions + (c6b, InSet(aStar, NaturalsPos), InSet(bStar, NaturalsPos))"
   ]
  },
  {
   "cell_type": "code",
   "execution_count": 32,
   "metadata": {},
   "outputs": [
    {
     "data": {
      "text/html": [
       "<strong id=\"c7a\">c7a:</strong> <span style=\"font-size:20px;\"><a class=\"ProveItLink\" href=\"__pv_it/b1b46b4fabb86dfeec8aa93a5800535934e31b560/expr.ipynb\"><img src=\"__pv_it/b1b46b4fabb86dfeec8aa93a5800535934e31b560/expr.png\" style=\"display:inline;vertical-align:middle;\" /></a> &#x22A2;&nbsp;<a class=\"ProveItLink\" href=\"__pv_it/4e9886424a68fa1160a3017349ffaa97ad07aead0/expr.ipynb\"><img src=\"__pv_it/4e9886424a68fa1160a3017349ffaa97ad07aead0/expr.png\" style=\"display:inline;vertical-align:middle;\" /></a></span><br>"
      ],
      "text/plain": [
       "c7a: {forall_{a, b in NaturalsPos} (([sqrt](2) = (a / b)) => ((2 * b^{2}) = a^{2})) , aStar in NaturalsPos , bStar in NaturalsPos} |= ([sqrt](2) = (aStar / bStar)) => ((2 * bStar^{2}) = aStar^{2})"
      ]
     },
     "execution_count": 32,
     "metadata": {},
     "output_type": "execute_result"
    }
   ],
   "source": [
    "c7a = a8.specialize({a:aStar, b:bStar})"
   ]
  },
  {
   "cell_type": "code",
   "execution_count": 33,
   "metadata": {},
   "outputs": [
    {
     "data": {
      "text/html": [
       "<strong id=\"c7b\">c7b:</strong> <span style=\"font-size:20px;\"><a class=\"ProveItLink\" href=\"__pv_it/be441c4c789708f65783825c6e9e2a16f51476480/expr.ipynb\"><img src=\"__pv_it/be441c4c789708f65783825c6e9e2a16f51476480/expr.png\" style=\"display:inline;vertical-align:middle;\" /></a> &#x22A2;&nbsp;<a class=\"ProveItLink\" href=\"__pv_it/df87ba7ad16318e4fb3d2c33c9dab2518f0df0080/expr.ipynb\"><img src=\"__pv_it/df87ba7ad16318e4fb3d2c33c9dab2518f0df0080/expr.png\" style=\"display:inline;vertical-align:middle;\" /></a></span><br>"
      ],
      "text/plain": [
       "c7b: {forall_{a, b in NaturalsPos} (([sqrt](2) = (a / b)) => ((2 * b^{2}) = a^{2})) , [sqrt](2) = (aHat / bHat) , ((aHat / bHat) = (aStar / bStar)) and (G(aStar , bStar) = 1) , aStar in NaturalsPos , bStar in NaturalsPos} |= (2 * bStar^{2}) = aStar^{2}"
      ]
     },
     "execution_count": 33,
     "metadata": {},
     "output_type": "execute_result"
    }
   ],
   "source": [
    "c7b = c7a.deriveConsequent()"
   ]
  },
  {
   "cell_type": "code",
   "execution_count": 34,
   "metadata": {},
   "outputs": [],
   "source": [
    "#c1.prove(assumptions = [a1,a4,a5,a6,a8])"
   ]
  },
  {
   "cell_type": "code",
   "execution_count": 35,
   "metadata": {},
   "outputs": [],
   "source": [
    "#specSQNR = squareRootNInRationals.specialize({n:two})"
   ]
  },
  {
   "cell_type": "code",
   "execution_count": 36,
   "metadata": {},
   "outputs": [],
   "source": [
    "%end demonstrations"
   ]
  }
 ],
 "metadata": {
  "kernelspec": {
   "display_name": "Python 3",
   "language": "python",
   "name": "python3"
  },
  "language_info": {
   "codemirror_mode": {
    "name": "ipython",
    "version": 3
   },
   "file_extension": ".py",
   "mimetype": "text/x-python",
   "name": "python",
   "nbconvert_exporter": "python",
   "pygments_lexer": "ipython3",
   "version": "3.7.3"
  }
 },
 "nbformat": 4,
 "nbformat_minor": 1
}
