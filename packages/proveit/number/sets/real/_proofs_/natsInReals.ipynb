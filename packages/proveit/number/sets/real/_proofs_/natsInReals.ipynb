{
 "cells": [
  {
   "cell_type": "markdown",
   "metadata": {},
   "source": [
    "Proof of <a class=\"ProveItLink\" href=\"../../../../_context_.ipynb\">proveit</a>.<a class=\"ProveItLink\" href=\"../../../_context_.ipynb\">number</a>.<a class=\"ProveItLink\" href=\"../../_context_.ipynb\">sets</a>.<a class=\"ProveItLink\" href=\"../_context_.ipynb\">real</a>.<a class=\"ProveItLink\" href=\"../_theorems_.ipynb#natsInReals\">natsInReals</a> theorem\n",
    "========"
   ]
  },
  {
   "cell_type": "code",
   "execution_count": 1,
   "metadata": {},
   "outputs": [],
   "source": [
    "import proveit\n",
    "context = proveit.Context('..') # the theorem's context is in the parent directory"
   ]
  },
  {
   "cell_type": "code",
   "execution_count": 2,
   "metadata": {},
   "outputs": [
    {
     "name": "stdout",
     "output_type": "stream",
     "text": [
      "Beginning proof of natsInReals\n",
      "Recorded 'presuming' information\n",
      "Presuming previous theorems (applied transitively).\n"
     ]
    },
    {
     "data": {
      "text/html": [
       "<strong id=\"natsInReals\">natsInReals:</strong> <a class=\"ProveItLink\" href=\"../__pv_it/d783f4fc46597c7d3250fca5c72999fd35531b670/expr.ipynb\"><img src=\"data:image/png;base64,iVBORw0KGgoAAAANSUhEUgAAADoAAAAPBAMAAABHIsEFAAAAMFBMVEX////c3Nx2dna6uroQEBCI\n",
       "iIhUVFTMzMyYmJiqqqoiIiJmZmZEREQyMjLu7u4AAADjlg78AAAAAXRSTlMAQObYZgAAAN1JREFU\n",
       "GNNjePvn7AOGXb8mMCADjvtn/l65CmKdYD/AwPCBARXwMCawn7wIZGQVhDIwOGDIbmA4JwNkJN9j\n",
       "K4DJxq5atWoxTFadB8hIL+O7B5WtikPWC5HlDKiByDIuRDE5D2RyOsNmjgCwLJsBsizziotgWbYH\n",
       "6WDZt8iu8lp1kwEsy5fwFixbhiy7ecM5iCxDETum7IbNZVBZjgkHQCwuFFnepw0QWQZFsCz3BGRZ\n",
       "9gSQzGGQ+AWQEN9iFB9p8ggw2H4B6uMDyzK83Y6IhT8FvGd/ogav2S1oSEIBAOcURyMnlGonAAAA\n",
       "AElFTkSuQmCC\n",
       "\" style=\"display:inline;vertical-align:middle;\" /></a><br>(see <a class=\"ProveItLink\" href=\"../__pv_it/d783f4fc46597c7d3250fca5c72999fd35531b670/dependencies.ipynb\">dependencies</a>)<br>"
      ],
      "text/plain": [
       "natsInReals: Naturals subset Reals"
      ]
     },
     "execution_count": 2,
     "metadata": {},
     "output_type": "execute_result"
    }
   ],
   "source": [
    "%proving natsInReals presuming []"
   ]
  },
  {
   "cell_type": "code",
   "execution_count": null,
   "metadata": {},
   "outputs": [],
   "source": []
  }
 ],
 "metadata": {
  "kernelspec": {
   "display_name": "Python 3",
   "language": "python",
   "name": "python3"
  }
 },
 "nbformat": 4,
 "nbformat_minor": 0
}
