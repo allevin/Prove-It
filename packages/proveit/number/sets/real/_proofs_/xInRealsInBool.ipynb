{
 "cells": [
  {
   "cell_type": "markdown",
   "metadata": {},
   "source": [
    "Proof of <a class=\"ProveItLink\" href=\"../../../../_context_.ipynb\">proveit</a>.<a class=\"ProveItLink\" href=\"../../../_context_.ipynb\">number</a>.<a class=\"ProveItLink\" href=\"../../_context_.ipynb\">sets</a>.<a class=\"ProveItLink\" href=\"../_context_.ipynb\">real</a>.<a class=\"ProveItLink\" href=\"../_theorems_.ipynb#xInRealsInBool\">xInRealsInBool</a> theorem\n",
    "========"
   ]
  },
  {
   "cell_type": "code",
   "execution_count": 1,
   "metadata": {},
   "outputs": [],
   "source": [
    "import proveit\n",
    "context = proveit.Context('..') # the theorem's context is in the parent directory"
   ]
  },
  {
   "cell_type": "code",
   "execution_count": 2,
   "metadata": {},
   "outputs": [
    {
     "name": "stdout",
     "output_type": "stream",
     "text": [
      "Beginning proof of xInRealsInBool\n",
      "Recorded 'presuming' information\n",
      "Presuming previous theorems (applied transitively).\n"
     ]
    },
    {
     "data": {
      "text/html": [
       "<strong id=\"xInRealsInBool\">xInRealsInBool:</strong> <a class=\"ProveItLink\" href=\"../__pv_it/3447f3f9935bd34f0fb1db3b733d11710ba9565c0/expr.ipynb\"><img src=\"data:image/png;base64,iVBORw0KGgoAAAANSUhEUgAAAJoAAAAVBAMAAABMN+opAAAAMFBMVEX///8QEBC6urrMzMxUVFRm\n",
       "ZmZERETc3NwyMjKqqqp2dnaIiIiYmJgiIiLu7u4AAAAU9Wx4AAAAAXRSTlMAQObYZgAAAi5JREFU\n",
       "OMtjYKAqeIAhwrQBgnEBHgXc4hdAjNPIoiZQjKG6P+1HYzeQEYwmseJbf+O1CWDxlSB+H7JkH7oA\n",
       "DLCxOzBntjMwcKBLJGjz9a0Ci5cBeewJSFLcGyAYm2kBDHlA9TwLMExj2MQBFucABhzrBCQpxgcQ\n",
       "jACve+/egJm2mI2BgU8AVRxk2hyWByBxnuXl5bXIejWgGA6Yex4g3AYyjSETVRzstjKI+Le0tFvI\n",
       "mqOguGpL5Vawh8seIPnUD6RrKQOKONA05jt5EHFnBoZ0ZNN6IJhvAc8dRnCEpyOFG9MdYCwwzGBA\n",
       "EWdI0L3/cQNEXIWBrwHZNCEI5mLg/sBpAGTzJSBMk73bCWIoMqCIg3y6expEnJeB+wCyaZ8gmI+B\n",
       "BaKcSfbuXVgsBAWAPMRgjyoOMo2NaQFYnPsA7wMspgEjFpJMmB2QfBpkAjcNIQ42jSEBLM7XAFKx\n",
       "2mmLAURKEooZ6g3A2Y7vApJpHK8PwH16AcM0kHi6EzCUHrgxQhNdDgTzFOxn4AY72gfJNGYHYKQx\n",
       "nGBAEYf7FCQ+FWgJEzgqwWApBM8/kMhQDRZ4q4CUQlayFcBSCFwcZNrRbVCtkPD5DpPSheBnu16t\n",
       "hsQOe6sBLNd/M+DI+MnA0IQiDsr1uSIgn4HEeUD+YRZghuWsAghGAE4PaNxBASxn4RJnsOdq4IIV\n",
       "PAuw5GsUwLWBgPizndHrCJZIMPCCFPESKMYJ3EkRZ98AwbgAtwFOcQDMa6IupVdXtgAAAABJRU5E\n",
       "rkJggg==\n",
       "\" style=\"display:inline;vertical-align:middle;\" /></a><br>(see <a class=\"ProveItLink\" href=\"../__pv_it/3447f3f9935bd34f0fb1db3b733d11710ba9565c0/dependencies.ipynb\">dependencies</a>)<br>"
      ],
      "text/plain": [
       "xInRealsInBool: forall_{x} ((x in Reals) in BOOLEANS)"
      ]
     },
     "execution_count": 2,
     "metadata": {},
     "output_type": "execute_result"
    }
   ],
   "source": [
    "%proving xInRealsInBool presuming []"
   ]
  },
  {
   "cell_type": "code",
   "execution_count": null,
   "metadata": {},
   "outputs": [],
   "source": []
  }
 ],
 "metadata": {
  "kernelspec": {
   "display_name": "Python 3",
   "language": "python",
   "name": "python3"
  }
 },
 "nbformat": 4,
 "nbformat_minor": 0
}
