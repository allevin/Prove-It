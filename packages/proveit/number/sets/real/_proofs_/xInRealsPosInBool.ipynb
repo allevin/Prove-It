{
 "cells": [
  {
   "cell_type": "markdown",
   "metadata": {},
   "source": [
    "Proof of <a class=\"ProveItLink\" href=\"../../../../_context_.ipynb\">proveit</a>.<a class=\"ProveItLink\" href=\"../../../_context_.ipynb\">number</a>.<a class=\"ProveItLink\" href=\"../../_context_.ipynb\">sets</a>.<a class=\"ProveItLink\" href=\"../_context_.ipynb\">real</a>.<a class=\"ProveItLink\" href=\"../_theorems_.ipynb#xInRealsPosInBool\">xInRealsPosInBool</a> theorem\n",
    "========"
   ]
  },
  {
   "cell_type": "code",
   "execution_count": 1,
   "metadata": {},
   "outputs": [],
   "source": [
    "import proveit\n",
    "context = proveit.Context('..') # the theorem's context is in the parent directory"
   ]
  },
  {
   "cell_type": "code",
   "execution_count": 2,
   "metadata": {},
   "outputs": [
    {
     "name": "stdout",
     "output_type": "stream",
     "text": [
      "Beginning proof of xInRealsPosInBool\n",
      "Recorded 'presuming' information\n",
      "Presuming previous theorems (applied transitively).\n"
     ]
    },
    {
     "data": {
      "text/html": [
       "<strong id=\"xInRealsPosInBool\">xInRealsPosInBool:</strong> <a class=\"ProveItLink\" href=\"../__pv_it/40e72cb7b8d22392d7781c0c3dc45f5376dafbce0/expr.ipynb\"><img src=\"data:image/png;base64,iVBORw0KGgoAAAANSUhEUgAAAK0AAAAbBAMAAAD8EhIYAAAAMFBMVEX///8QEBC6urrMzMxUVFRm\n",
       "ZmZERETc3NwyMjKqqqp2dnaIiIiYmJgiIiLu7u4AAAAU9Wx4AAAAAXRSTlMAQObYZgAAArFJREFU\n",
       "SMe1VU1oE1EQnmaT7NokSxAPghQUvBVpDjl4kS4tVPAgoaKXguwpVcQQL6kXcXtqpNoG/Dmoh4IH\n",
       "+wOlSBGlorlUD6IWBQXJ4p56UEqigdRCKc7b7Hv7drMvCwUH9svm+zZf5s0MswD7i8o+fhM5SkEc\n",
       "Ol5zAq1XwGcZdPcVPSJpgbQ6QyHEN7EiENfwsjrYaJVCiC98E4ipIsAGuXnPs9cY+CM5m/87Oe36\n",
       "rvr0+dbs5FfsaAILsUAIz6HPM+iIuKxJl6cgWi4fLqN/3X9YvV+dWcQi7gGU8Kus8+JBBgG+OSiU\n",
       "WL6paocvPFPwswag4H/G+GmUGhTcTr4wTYP6Pokz35ju09H3cRQNL2DNnk5M3OBNEmkKLE5+5PLl\n",
       "fJMNn07yJcf5hFcrn//uGQfDAXnp9KMxwsgFvg5n3TpE9sCr6/1SjXwZwJyHAcY9NdQc+Akfqn02\n",
       "U+R8I7UpcmePvtQEr66f+PGbDPVgBuA4qAbvq+QcmIM3cJcwm1zf+sxb7qPyH/DqWIe1B/h5E5dA\n",
       "ChKetqZyDlgw0maOmSbr22iuwPVzx6ejbzyCa6NOhriasgJ9AY5w+4LWYTTbkW+WzzdOSk/yVQ3C\n",
       "Lw2tZpw6aBTkJqiE2eJ9lV/u6eR2fbc6fYnX+BCuNmukxxniqO7Au0QDXoNnV6CvpA27C3UbvDqt\n",
       "wwDp5H1cERG4zeZ3ow0HduNp2d5Y6md+zhbc9jvz6+rou/7cmV/osX+8zZJotEG9srz4qk1dP8f2\n",
       "TiujXNphC9zw6rh3rh4ix563nyZtk9ISfbrJgMW9O6YRsC6UFYE+TW8Gew329jjDICzqxWBeZYff\n",
       "fDm2TO9PMQiLtwI+qQcuwwqFsPgiel9kgljZoBASyZxAWA+mHzLoHiUBL+uCPCoUusdFAR+z4L/F\n",
       "P6GtvwP/8ZbKAAAAAElFTkSuQmCC\n",
       "\" style=\"display:inline;vertical-align:middle;\" /></a><br>(see <a class=\"ProveItLink\" href=\"../__pv_it/40e72cb7b8d22392d7781c0c3dc45f5376dafbce0/dependencies.ipynb\">dependencies</a>)<br>"
      ],
      "text/plain": [
       "xInRealsPosInBool: forall_{x} ((x in RealsPos) in BOOLEANS)"
      ]
     },
     "execution_count": 2,
     "metadata": {},
     "output_type": "execute_result"
    }
   ],
   "source": [
    "%proving xInRealsPosInBool presuming []"
   ]
  },
  {
   "cell_type": "code",
   "execution_count": null,
   "metadata": {},
   "outputs": [],
   "source": []
  }
 ],
 "metadata": {
  "kernelspec": {
   "display_name": "Python 3",
   "language": "python",
   "name": "python3"
  }
 },
 "nbformat": 4,
 "nbformat_minor": 0
}
