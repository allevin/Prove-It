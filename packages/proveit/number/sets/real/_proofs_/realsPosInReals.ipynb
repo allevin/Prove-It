{
 "cells": [
  {
   "cell_type": "markdown",
   "metadata": {},
   "source": [
    "Proof of <a class=\"ProveItLink\" href=\"../../../../_context_.ipynb\">proveit</a>.<a class=\"ProveItLink\" href=\"../../../_context_.ipynb\">number</a>.<a class=\"ProveItLink\" href=\"../../_context_.ipynb\">sets</a>.<a class=\"ProveItLink\" href=\"../_context_.ipynb\">real</a>.<a class=\"ProveItLink\" href=\"../_theorems_.ipynb#realsPosInReals\">realsPosInReals</a> theorem\n",
    "========"
   ]
  },
  {
   "cell_type": "code",
   "execution_count": 1,
   "metadata": {},
   "outputs": [],
   "source": [
    "import proveit\n",
    "context = proveit.Context('..') # the theorem's context is in the parent directory"
   ]
  },
  {
   "cell_type": "code",
   "execution_count": 2,
   "metadata": {},
   "outputs": [
    {
     "name": "stdout",
     "output_type": "stream",
     "text": [
      "Beginning proof of realsPosInReals\n",
      "Recorded 'presuming' information\n"
     ]
    },
    {
     "data": {
      "text/html": [
       "<strong id=\"realsPosInReals\">realsPosInReals:</strong> <a class=\"ProveItLink\" href=\"../__pv_it/a4349e2fa96091a802510a0a5e07b9f2921fe3570/expr.ipynb\"><img src=\"data:image/png;base64,iVBORw0KGgoAAAANSUhEUgAAAEcAAAAUBAMAAAAthD11AAAAMFBMVEX///8iIiK6urp2dnbu7u5m\n",
       "ZmaqqqrMzMxUVFTc3NyIiIgQEBBEREQyMjKYmJgAAAA9nvXMAAAAAXRSTlMAQObYZgAAAMlJREFU\n",
       "KM9jYIADNgYiAM+gUfT2z/m7exdgV4SQOzCDoSZ3AkPv3dt37y5AUwWVAzKmMvB4HsBuHVwOyGAu\n",
       "QFW0VlBQUIgBWQ5TUeESJJPgijhQrOOURLaOA2ad4luQ4zigMhwKyIogcgdmC8omILvWF8nhMLkD\n",
       "U1V5HJAVVSD7Dip3YCqregNORVA5oL1X1iErYkQJJ4gckFHBUYCkiDUBWRFEDhQWCSeRFLEIISsC\n",
       "ywEj8TjDnfvI/vMNR0QwuhwCaFyERgsUAACzEFnvRoNcUgAAAABJRU5ErkJggg==\n",
       "\" style=\"display:inline;vertical-align:middle;\" /></a><br>(see <a class=\"ProveItLink\" href=\"../__pv_it/a4349e2fa96091a802510a0a5e07b9f2921fe3570/dependencies.ipynb\">dependencies</a>)<br>"
      ],
      "text/plain": [
       "realsPosInReals: RealsPos subset Reals"
      ]
     },
     "execution_count": 2,
     "metadata": {},
     "output_type": "execute_result"
    }
   ],
   "source": [
    "%proving realsPosInReals presuming []"
   ]
  },
  {
   "cell_type": "code",
   "execution_count": null,
   "metadata": {},
   "outputs": [],
   "source": []
  }
 ],
 "metadata": {
  "kernelspec": {
   "display_name": "Python 3",
   "language": "python",
   "name": "python3"
  }
 },
 "nbformat": 4,
 "nbformat_minor": 0
}
