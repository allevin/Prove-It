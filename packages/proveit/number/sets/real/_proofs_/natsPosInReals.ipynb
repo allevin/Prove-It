{
 "cells": [
  {
   "cell_type": "markdown",
   "metadata": {},
   "source": [
    "Proof of <a class=\"ProveItLink\" href=\"../../../../_context_.ipynb\">proveit</a>.<a class=\"ProveItLink\" href=\"../../../_context_.ipynb\">number</a>.<a class=\"ProveItLink\" href=\"../../_context_.ipynb\">sets</a>.<a class=\"ProveItLink\" href=\"../_context_.ipynb\">real</a>.<a class=\"ProveItLink\" href=\"../_theorems_.ipynb#natsPosInReals\">natsPosInReals</a> theorem\n",
    "========"
   ]
  },
  {
   "cell_type": "code",
   "execution_count": 1,
   "metadata": {},
   "outputs": [],
   "source": [
    "import proveit\n",
    "context = proveit.Context('..') # the theorem's context is in the parent directory"
   ]
  },
  {
   "cell_type": "code",
   "execution_count": 2,
   "metadata": {},
   "outputs": [
    {
     "name": "stdout",
     "output_type": "stream",
     "text": [
      "Beginning proof of natsPosInReals\n",
      "Recorded 'presuming' information\n",
      "Presuming previous theorems (applied transitively).\n"
     ]
    },
    {
     "data": {
      "text/html": [
       "<strong id=\"natsPosInReals\">natsPosInReals:</strong> <a class=\"ProveItLink\" href=\"../__pv_it/a4336478336c60be48c1b2c91bf57d300828b20b0/expr.ipynb\"><img src=\"data:image/png;base64,iVBORw0KGgoAAAANSUhEUgAAAEcAAAAUBAMAAAAthD11AAAAMFBMVEX////c3Nx2dna6uroQEBCI\n",
       "iIhUVFTMzMyYmJiqqqoiIiJmZmZEREQyMjLu7u4AAADjlg78AAAAAXRSTlMAQObYZgAAAPpJREFU\n",
       "KM9jYIADTgYiAM+gUfT2z9kHDLt+TcCmqPfP+bu+ASDWCfYDDAwfGHLvXrl7NwBN1QExhpq5AkBG\n",
       "VkEoA4MDdusOSDPwPASawZB8j60ATVHsqlWrFkMVMRWAFKWX8d1DVVQVh2QSVBFnQA2KIsaFyNax\n",
       "ga1LZ9jMEQBSxAaVYTNAVmTVKwBWxPYg3QE5UJAcLrJq7QQGsCK+hLfIisqQfWfN8wCiiKGIHaci\n",
       "bvMEqCKOCQeQFHGhhNO9CKgiBkVkRdwTkBWVAUORgeEwSPwCkiK+xciKmCYcZGCw/QI0he8CSpxv\n",
       "R0TwcYY79ydgTRlmt6DRAgUAEC9Q/bK2b3wAAAAASUVORK5CYII=\n",
       "\" style=\"display:inline;vertical-align:middle;\" /></a><br>(see <a class=\"ProveItLink\" href=\"../__pv_it/a4336478336c60be48c1b2c91bf57d300828b20b0/dependencies.ipynb\">dependencies</a>)<br>"
      ],
      "text/plain": [
       "natsPosInReals: NaturalsPos subset Reals"
      ]
     },
     "execution_count": 2,
     "metadata": {},
     "output_type": "execute_result"
    }
   ],
   "source": [
    "%proving natsPosInReals presuming []"
   ]
  },
  {
   "cell_type": "code",
   "execution_count": null,
   "metadata": {},
   "outputs": [],
   "source": []
  }
 ],
 "metadata": {
  "kernelspec": {
   "display_name": "Python 3",
   "language": "python",
   "name": "python3"
  }
 },
 "nbformat": 4,
 "nbformat_minor": 0
}
