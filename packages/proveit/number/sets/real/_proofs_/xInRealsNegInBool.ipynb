{
 "cells": [
  {
   "cell_type": "markdown",
   "metadata": {},
   "source": [
    "Proof of <a class=\"ProveItLink\" href=\"../../../../_context_.ipynb\">proveit</a>.<a class=\"ProveItLink\" href=\"../../../_context_.ipynb\">number</a>.<a class=\"ProveItLink\" href=\"../../_context_.ipynb\">sets</a>.<a class=\"ProveItLink\" href=\"../_context_.ipynb\">real</a>.<a class=\"ProveItLink\" href=\"../_theorems_.ipynb#xInRealsNegInBool\">xInRealsNegInBool</a> theorem\n",
    "========"
   ]
  },
  {
   "cell_type": "code",
   "execution_count": 1,
   "metadata": {},
   "outputs": [],
   "source": [
    "import proveit\n",
    "context = proveit.Context('..') # the theorem's context is in the parent directory"
   ]
  },
  {
   "cell_type": "code",
   "execution_count": 2,
   "metadata": {},
   "outputs": [
    {
     "name": "stdout",
     "output_type": "stream",
     "text": [
      "Beginning proof of xInRealsNegInBool\n",
      "Recorded 'presuming' information\n",
      "Presuming previous theorems (applied transitively).\n"
     ]
    },
    {
     "data": {
      "text/html": [
       "<strong id=\"xInRealsNegInBool\">xInRealsNegInBool:</strong> <a class=\"ProveItLink\" href=\"../__pv_it/e250c1987366732e6571a365c252b175a38cc37c0/expr.ipynb\"><img src=\"data:image/png;base64,iVBORw0KGgoAAAANSUhEUgAAAK0AAAAaBAMAAAA3TsG9AAAAMFBMVEX///8QEBC6urrMzMxUVFRm\n",
       "ZmZERETc3NwyMjKqqqp2dnaIiIiYmJgiIiLu7u4AAAAU9Wx4AAAAAXRSTlMAQObYZgAAAp1JREFU\n",
       "SMe1VUFoE0EU/U02u3GTLEE8CCIo6mkpzSGIF2moUMFTQPRSkAUhOYiagm29SNeLCGoaUIuoh96s\n",
       "LZQiRZSK5lItiFoUVKSLe6oglEQDKYIUZ5KZ2dnZnezJB/uyeW/z98//nx+AIGL7KPXGjETXJXqe\n",
       "UW/IHokXQmWjSikCqUWJsYwuN6AqdUpR+CLRMxWANXzzlldHGYlYbV+8vptLcknwZ9tTVz/X0EFQ\n",
       "IR5jwXfoU4wCsC7B4XsVmC4hoIM2xMNaplGdQ0XcBhhHXzWLN3cyCsYdA/WH93CmHogLT5Locx0g\n",
       "id6ZqPHdbFLyOvnMcWwSV895cROW6JvwUEEBTwOkH01MXPF1OUuJ4ch7L18+brop+ihfXIAP6GqX\n",
       "St9842AT0uaPPxjBinaBq4PC1SG2DYJvxtfxlwGU8zGAMh9XLRD6Ce/qeztKhYvbv1rxStYCwe//\n",
       "/gvPy2AO4CAYNh83WSQ0A6/gNlY2vL6MOl+5Xmi/QfBNWJ5Gn5NoCWQg5WtrpkjIheGust9xWN8O\n",
       "qdxsGX9E3wQ1htZGAw9xPeOGxgXYI+4BayxxoBDIN8/nq4LVzdewsT4/tJQjdShQ0lpgYGWTn9/q\n",
       "Cy5ut76bwbg4VnkIrTZ3uI8UTrEIvUk14SX4dgWKm1dy3jxsgeCTOgzgTt5FKyIGN9n8rnVpx181\n",
       "q3WWgfGRi6vXyuL8cr4JK0/J/EJf58dbLIlml4xzC3PkzJdPsr1zFq5NsYnQbb+P9s75Xdid7bwV\n",
       "ty2ejdOnW4wY7txy7JB1kVyU+DfozaBus3+PE4yi0KiE6wY7/MbzkQV6f5RRFF5L9LQVpqo1SlH4\n",
       "JPu/yIWpmk0pAumixFgJl+8z6o1xia5ZkjxqlHrjjERPuPDf8A8W9MQhcCObVQAAAABJRU5ErkJg\n",
       "gg==\n",
       "\" style=\"display:inline;vertical-align:middle;\" /></a><br>(see <a class=\"ProveItLink\" href=\"../__pv_it/e250c1987366732e6571a365c252b175a38cc37c0/dependencies.ipynb\">dependencies</a>)<br>"
      ],
      "text/plain": [
       "xInRealsNegInBool: forall_{x} ((x in RealsNeg) in BOOLEANS)"
      ]
     },
     "execution_count": 2,
     "metadata": {},
     "output_type": "execute_result"
    }
   ],
   "source": [
    "%proving xInRealsNegInBool presuming []"
   ]
  },
  {
   "cell_type": "code",
   "execution_count": null,
   "metadata": {},
   "outputs": [],
   "source": []
  }
 ],
 "metadata": {
  "kernelspec": {
   "display_name": "Python 3",
   "language": "python",
   "name": "python3"
  }
 },
 "nbformat": 4,
 "nbformat_minor": 0
}
