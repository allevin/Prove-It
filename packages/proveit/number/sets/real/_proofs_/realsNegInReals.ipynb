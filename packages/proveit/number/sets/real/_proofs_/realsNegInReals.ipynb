{
 "cells": [
  {
   "cell_type": "markdown",
   "metadata": {},
   "source": [
    "Proof of <a class=\"ProveItLink\" href=\"../../../../_context_.ipynb\">proveit</a>.<a class=\"ProveItLink\" href=\"../../../_context_.ipynb\">number</a>.<a class=\"ProveItLink\" href=\"../../_context_.ipynb\">sets</a>.<a class=\"ProveItLink\" href=\"../_context_.ipynb\">real</a>.<a class=\"ProveItLink\" href=\"../_theorems_.ipynb#realsNegInReals\">realsNegInReals</a> theorem\n",
    "========"
   ]
  },
  {
   "cell_type": "code",
   "execution_count": 1,
   "metadata": {},
   "outputs": [],
   "source": [
    "import proveit\n",
    "context = proveit.Context('..') # the theorem's context is in the parent directory"
   ]
  },
  {
   "cell_type": "code",
   "execution_count": 2,
   "metadata": {},
   "outputs": [
    {
     "name": "stdout",
     "output_type": "stream",
     "text": [
      "Beginning proof of realsNegInReals\n",
      "Recorded 'presuming' information\n",
      "Presuming previous theorem (applied transitively).\n"
     ]
    },
    {
     "data": {
      "text/html": [
       "<strong id=\"realsNegInReals\">realsNegInReals:</strong> <a class=\"ProveItLink\" href=\"../__pv_it/5e155d2bf9dcc90a55e6bef1853baa93c2cdb86e0/expr.ipynb\"><img src=\"data:image/png;base64,iVBORw0KGgoAAAANSUhEUgAAAEgAAAAPBAMAAAC1npSgAAAAMFBMVEX///8iIiK6urp2dnbu7u5m\n",
       "ZmaqqqrMzMxUVFTc3NyIiIgQEBBEREQyMjKYmJgAAAA9nvXMAAAAAXRSTlMAQObYZgAAANtJREFU\n",
       "KM9jePvn/N29CxiwAr77Z/7evgViHZjBUJM7gSHnDBA4oKni4WxgP3YTpGgqA4/nAexG8XAGMByZ\n",
       "A1HEXICqaK2goKAQTJE5D1ZFhUuQTYIp4kCxjlMSxboWqHWKbycgKeJQQFbEJAd2+GxB2QRk23yR\n",
       "Hb5R8Bo4CKaq8qB4vQJZUVDAEYgiVvUGnIoCgiogihiurENWxIiiiNfrAURRBUcBkiLWBGRF7A3t\n",
       "0HBKOImkiEUIJQjMeCYwACP4OMOd+8j+8w1HRPCfAt6z37BGmcZFaLRAAQBE80tlDcJZiQAAAABJ\n",
       "RU5ErkJggg==\n",
       "\" style=\"display:inline;vertical-align:middle;\" /></a><br>(see <a class=\"ProveItLink\" href=\"../__pv_it/5e155d2bf9dcc90a55e6bef1853baa93c2cdb86e0/dependencies.ipynb\">dependencies</a>)<br>"
      ],
      "text/plain": [
       "realsNegInReals: RealsNeg subset Reals"
      ]
     },
     "execution_count": 2,
     "metadata": {},
     "output_type": "execute_result"
    }
   ],
   "source": [
    "%proving realsNegInReals presuming []"
   ]
  },
  {
   "cell_type": "code",
   "execution_count": null,
   "metadata": {},
   "outputs": [],
   "source": []
  }
 ],
 "metadata": {
  "kernelspec": {
   "display_name": "Python 3",
   "language": "python",
   "name": "python3"
  }
 },
 "nbformat": 4,
 "nbformat_minor": 0
}
