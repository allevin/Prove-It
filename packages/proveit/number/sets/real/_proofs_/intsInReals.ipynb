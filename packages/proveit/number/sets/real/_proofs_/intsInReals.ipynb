{
 "cells": [
  {
   "cell_type": "markdown",
   "metadata": {},
   "source": [
    "Proof of <a class=\"ProveItLink\" href=\"../../../../_context_.ipynb\">proveit</a>.<a class=\"ProveItLink\" href=\"../../../_context_.ipynb\">number</a>.<a class=\"ProveItLink\" href=\"../../_context_.ipynb\">sets</a>.<a class=\"ProveItLink\" href=\"../_context_.ipynb\">real</a>.<a class=\"ProveItLink\" href=\"../_theorems_.ipynb#intsInReals\">intsInReals</a> theorem\n",
    "========"
   ]
  },
  {
   "cell_type": "code",
   "execution_count": 1,
   "metadata": {},
   "outputs": [],
   "source": [
    "import proveit\n",
    "context = proveit.Context('..') # the theorem's context is in the parent directory"
   ]
  },
  {
   "cell_type": "code",
   "execution_count": 2,
   "metadata": {},
   "outputs": [
    {
     "name": "stdout",
     "output_type": "stream",
     "text": [
      "Beginning proof of intsInReals\n",
      "Recorded 'presuming' information\n",
      "Presuming previous theorems (applied transitively).\n"
     ]
    },
    {
     "data": {
      "text/html": [
       "<strong id=\"intsInReals\">intsInReals:</strong> <a class=\"ProveItLink\" href=\"../__pv_it/c883bc632349beaf8d2ab28dc25d5b07d9e3073a0/expr.ipynb\"><img src=\"data:image/png;base64,iVBORw0KGgoAAAANSUhEUgAAADkAAAAPBAMAAACsFXoGAAAAMFBMVEX////MzMzc3NxUVFS6urp2\n",
       "dnZERETu7u5mZmaIiIiYmJgQEBAyMjIiIiKqqqoAAAAf68ZqAAAAAXRSTlMAQObYZgAAAOhJREFU\n",
       "GNNj4Lv/98ze0wsYUMCab/ln9kwAMjhPFDAcYGNAAwnKDGJvFBgYOAIYWB+EYMhqMLAVJTAwMBcw\n",
       "KDMaQMQ4z969e9cBKssqkAAWTGcrANOMNwuQ9EJluSasggjpKiCbzFwEli1jhxjBYIJir+8asGJD\n",
       "Zoge9gNIstp37zwAMVgaXCEiMLdB9HpAHMPDANQThCHL4QjmxrEC/XABxLqAYu/xWUCayUCYgYF1\n",
       "A0ioD0VWmFmAgYFNIZ2BvRXs6loHZFnWB0kMDN4529LOb2sAO/qEACIWEhmOnX+AErosNrCQhAIA\n",
       "lUk9xduMdYEAAAAASUVORK5CYII=\n",
       "\" style=\"display:inline;vertical-align:middle;\" /></a><br>(see <a class=\"ProveItLink\" href=\"../__pv_it/c883bc632349beaf8d2ab28dc25d5b07d9e3073a0/dependencies.ipynb\">dependencies</a>)<br>"
      ],
      "text/plain": [
       "intsInReals: Integers subset Reals"
      ]
     },
     "execution_count": 2,
     "metadata": {},
     "output_type": "execute_result"
    }
   ],
   "source": [
    "%proving intsInReals presuming []"
   ]
  },
  {
   "cell_type": "code",
   "execution_count": null,
   "metadata": {},
   "outputs": [],
   "source": []
  }
 ],
 "metadata": {
  "kernelspec": {
   "display_name": "Python 3",
   "language": "python",
   "name": "python3"
  }
 },
 "nbformat": 4,
 "nbformat_minor": 0
}
