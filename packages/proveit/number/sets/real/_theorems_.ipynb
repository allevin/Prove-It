{
 "cells": [
  {
   "cell_type": "markdown",
   "metadata": {},
   "source": [
    "Theorems for context <a href=\"_context_.ipynb\" class=\"ProveItLink\">proveit.number.sets.real</a>\n",
    "========"
   ]
  },
  {
   "cell_type": "code",
   "execution_count": 1,
   "metadata": {},
   "outputs": [],
   "source": [
    "import proveit\n",
    "# the context is in the current directory:\n",
    "context = proveit.Context('.') # adds context root to sys.path if necessary\n",
    "from proveit._common_ import x\n",
    "from proveit.logic import Forall, inBool, InSet, Subset\n",
    "from proveit.number import Reals, RealsPos, RealsNeg, Integers, Naturals, NaturalsPos"
   ]
  },
  {
   "cell_type": "code",
   "execution_count": 2,
   "metadata": {},
   "outputs": [
    {
     "name": "stdout",
     "output_type": "stream",
     "text": [
      "Defining theorems for context 'proveit.number.sets.real'\n",
      "Subsequent end-of-cell assignments will define theorems\n",
      "'%end theorems' will finalize the definitions\n"
     ]
    }
   ],
   "source": [
    "%begin theorems"
   ]
  },
  {
   "cell_type": "code",
   "execution_count": 3,
   "metadata": {},
   "outputs": [
    {
     "data": {
      "text/html": [
       "<strong id=\"realsPosInReals\"><a class=\"ProveItLink\" href=\"_proofs_/realsPosInReals.ipynb\">realsPosInReals</a>:</strong> <a class=\"ProveItLink\" href=\"__pv_it/a4349e2fa96091a802510a0a5e07b9f2921fe3570/expr.ipynb\"><img src=\"data:image/png;base64,iVBORw0KGgoAAAANSUhEUgAAAEcAAAAUBAMAAAAthD11AAAAMFBMVEX///8iIiK6urp2dnbu7u5m\n",
       "ZmaqqqrMzMxUVFTc3NyIiIgQEBBEREQyMjKYmJgAAAA9nvXMAAAAAXRSTlMAQObYZgAAAMlJREFU\n",
       "KM9jYIADNgYiAM+gUfT2z/m7exdgV4SQOzCDoSZ3AkPv3dt37y5AUwWVAzKmMvB4HsBuHVwOyGAu\n",
       "QFW0VlBQUIgBWQ5TUeESJJPgijhQrOOURLaOA2ad4luQ4zigMhwKyIogcgdmC8omILvWF8nhMLkD\n",
       "U1V5HJAVVSD7Dip3YCqregNORVA5oL1X1iErYkQJJ4gckFHBUYCkiDUBWRFEDhQWCSeRFLEIISsC\n",
       "ywEj8TjDnfvI/vMNR0QwuhwCaFyERgsUAACzEFnvRoNcUgAAAABJRU5ErkJggg==\n",
       "\" style=\"display:inline;vertical-align:middle;\" /></a><br>"
      ],
      "text/plain": [
       "realsPosInReals: RealsPos subset Reals"
      ]
     },
     "execution_count": 3,
     "metadata": {},
     "output_type": "execute_result"
    }
   ],
   "source": [
    "realsPosInReals = Subset(RealsPos, Reals)"
   ]
  },
  {
   "cell_type": "code",
   "execution_count": 4,
   "metadata": {},
   "outputs": [
    {
     "data": {
      "text/html": [
       "<strong id=\"realsNegInReals\"><a class=\"ProveItLink\" href=\"_proofs_/realsNegInReals.ipynb\">realsNegInReals</a>:</strong> <a class=\"ProveItLink\" href=\"__pv_it/5e155d2bf9dcc90a55e6bef1853baa93c2cdb86e0/expr.ipynb\"><img src=\"data:image/png;base64,iVBORw0KGgoAAAANSUhEUgAAAEgAAAAPBAMAAAC1npSgAAAAMFBMVEX///8iIiK6urp2dnbu7u5m\n",
       "ZmaqqqrMzMxUVFTc3NyIiIgQEBBEREQyMjKYmJgAAAA9nvXMAAAAAXRSTlMAQObYZgAAANtJREFU\n",
       "KM9jePvn/N29CxiwAr77Z/7evgViHZjBUJM7gSHnDBA4oKni4WxgP3YTpGgqA4/nAexG8XAGMByZ\n",
       "A1HEXICqaK2goKAQTJE5D1ZFhUuQTYIp4kCxjlMSxboWqHWKbycgKeJQQFbEJAd2+GxB2QRk23yR\n",
       "Hb5R8Bo4CKaq8qB4vQJZUVDAEYgiVvUGnIoCgiogihiurENWxIiiiNfrAURRBUcBkiLWBGRF7A3t\n",
       "0HBKOImkiEUIJQjMeCYwACP4OMOd+8j+8w1HRPCfAt6z37BGmcZFaLRAAQBE80tlDcJZiQAAAABJ\n",
       "RU5ErkJggg==\n",
       "\" style=\"display:inline;vertical-align:middle;\" /></a><br>"
      ],
      "text/plain": [
       "realsNegInReals: RealsNeg subset Reals"
      ]
     },
     "execution_count": 4,
     "metadata": {},
     "output_type": "execute_result"
    }
   ],
   "source": [
    "realsNegInReals = Subset(RealsNeg, Reals)"
   ]
  },
  {
   "cell_type": "code",
   "execution_count": 5,
   "metadata": {},
   "outputs": [
    {
     "data": {
      "text/html": [
       "<strong id=\"intsInReals\"><a class=\"ProveItLink\" href=\"_proofs_/intsInReals.ipynb\">intsInReals</a>:</strong> <a class=\"ProveItLink\" href=\"__pv_it/c883bc632349beaf8d2ab28dc25d5b07d9e3073a0/expr.ipynb\"><img src=\"data:image/png;base64,iVBORw0KGgoAAAANSUhEUgAAADkAAAAPBAMAAACsFXoGAAAAMFBMVEX////MzMzc3NxUVFS6urp2\n",
       "dnZERETu7u5mZmaIiIiYmJgQEBAyMjIiIiKqqqoAAAAf68ZqAAAAAXRSTlMAQObYZgAAAOhJREFU\n",
       "GNNj4Lv/98ze0wsYUMCab/ln9kwAMjhPFDAcYGNAAwnKDGJvFBgYOAIYWB+EYMhqMLAVJTAwMBcw\n",
       "KDMaQMQ4z969e9cBKssqkAAWTGcrANOMNwuQ9EJluSasggjpKiCbzFwEli1jhxjBYIJir+8asGJD\n",
       "Zoge9gNIstp37zwAMVgaXCEiMLdB9HpAHMPDANQThCHL4QjmxrEC/XABxLqAYu/xWUCayUCYgYF1\n",
       "A0ioD0VWmFmAgYFNIZ2BvRXs6loHZFnWB0kMDN4529LOb2sAO/qEACIWEhmOnX+AErosNrCQhAIA\n",
       "lUk9xduMdYEAAAAASUVORK5CYII=\n",
       "\" style=\"display:inline;vertical-align:middle;\" /></a><br>"
      ],
      "text/plain": [
       "intsInReals: Integers subset Reals"
      ]
     },
     "execution_count": 5,
     "metadata": {},
     "output_type": "execute_result"
    }
   ],
   "source": [
    "intsInReals = Subset(Integers, Reals)"
   ]
  },
  {
   "cell_type": "code",
   "execution_count": 6,
   "metadata": {},
   "outputs": [
    {
     "data": {
      "text/html": [
       "<strong id=\"natsInReals\"><a class=\"ProveItLink\" href=\"_proofs_/natsInReals.ipynb\">natsInReals</a>:</strong> <a class=\"ProveItLink\" href=\"__pv_it/d783f4fc46597c7d3250fca5c72999fd35531b670/expr.ipynb\"><img src=\"data:image/png;base64,iVBORw0KGgoAAAANSUhEUgAAADoAAAAPBAMAAABHIsEFAAAAMFBMVEX////c3Nx2dna6uroQEBCI\n",
       "iIhUVFTMzMyYmJiqqqoiIiJmZmZEREQyMjLu7u4AAADjlg78AAAAAXRSTlMAQObYZgAAAN1JREFU\n",
       "GNNjePvn7AOGXb8mMCADjvtn/l65CmKdYD/AwPCBARXwMCawn7wIZGQVhDIwOGDIbmA4JwNkJN9j\n",
       "K4DJxq5atWoxTFadB8hIL+O7B5WtikPWC5HlDKiByDIuRDE5D2RyOsNmjgCwLJsBsizziotgWbYH\n",
       "6WDZt8iu8lp1kwEsy5fwFixbhiy7ecM5iCxDETum7IbNZVBZjgkHQCwuFFnepw0QWQZFsCz3BGRZ\n",
       "9gSQzGGQ+AWQEN9iFB9p8ggw2H4B6uMDyzK83Y6IhT8FvGd/ogav2S1oSEIBAOcURyMnlGonAAAA\n",
       "AElFTkSuQmCC\n",
       "\" style=\"display:inline;vertical-align:middle;\" /></a><br>"
      ],
      "text/plain": [
       "natsInReals: Naturals subset Reals"
      ]
     },
     "execution_count": 6,
     "metadata": {},
     "output_type": "execute_result"
    }
   ],
   "source": [
    "natsInReals = Subset(Naturals, Reals)"
   ]
  },
  {
   "cell_type": "code",
   "execution_count": 7,
   "metadata": {},
   "outputs": [
    {
     "data": {
      "text/html": [
       "<strong id=\"natsPosInReals\"><a class=\"ProveItLink\" href=\"_proofs_/natsPosInReals.ipynb\">natsPosInReals</a>:</strong> <a class=\"ProveItLink\" href=\"__pv_it/a4336478336c60be48c1b2c91bf57d300828b20b0/expr.ipynb\"><img src=\"data:image/png;base64,iVBORw0KGgoAAAANSUhEUgAAAEcAAAAUBAMAAAAthD11AAAAMFBMVEX////c3Nx2dna6uroQEBCI\n",
       "iIhUVFTMzMyYmJiqqqoiIiJmZmZEREQyMjLu7u4AAADjlg78AAAAAXRSTlMAQObYZgAAAPpJREFU\n",
       "KM9jYIADTgYiAM+gUfT2z9kHDLt+TcCmqPfP+bu+ASDWCfYDDAwfGHLvXrl7NwBN1QExhpq5AkBG\n",
       "VkEoA4MDdusOSDPwPASawZB8j60ATVHsqlWrFkMVMRWAFKWX8d1DVVQVh2QSVBFnQA2KIsaFyNax\n",
       "ga1LZ9jMEQBSxAaVYTNAVmTVKwBWxPYg3QE5UJAcLrJq7QQGsCK+hLfIisqQfWfN8wCiiKGIHaci\n",
       "bvMEqCKOCQeQFHGhhNO9CKgiBkVkRdwTkBWVAUORgeEwSPwCkiK+xciKmCYcZGCw/QI0he8CSpxv\n",
       "R0TwcYY79ydgTRlmt6DRAgUAEC9Q/bK2b3wAAAAASUVORK5CYII=\n",
       "\" style=\"display:inline;vertical-align:middle;\" /></a><br>"
      ],
      "text/plain": [
       "natsPosInReals: NaturalsPos subset Reals"
      ]
     },
     "execution_count": 7,
     "metadata": {},
     "output_type": "execute_result"
    }
   ],
   "source": [
    "natsPosInReals = Subset(NaturalsPos, Reals)"
   ]
  },
  {
   "cell_type": "markdown",
   "metadata": {},
   "source": [
    "***A set of inBool theorems, which are accessed by the respective NumberSets to implement their ``deduceMembershipInBool()`` methods, covering the ``RealsSet``, ``RealsPosSet``, and ``RealsNegSet`` NumberSet classes (defined in proveit/number/sets/real/reals.py):***"
   ]
  },
  {
   "cell_type": "code",
   "execution_count": 8,
   "metadata": {},
   "outputs": [
    {
     "data": {
      "text/html": [
       "<strong id=\"xInRealsInBool\"><a class=\"ProveItLink\" href=\"_proofs_/xInRealsInBool.ipynb\">xInRealsInBool</a>:</strong> <a class=\"ProveItLink\" href=\"__pv_it/3447f3f9935bd34f0fb1db3b733d11710ba9565c0/expr.ipynb\"><img src=\"data:image/png;base64,iVBORw0KGgoAAAANSUhEUgAAAJoAAAAVBAMAAABMN+opAAAAMFBMVEX///8QEBC6urrMzMxUVFRm\n",
       "ZmZERETc3NwyMjKqqqp2dnaIiIiYmJgiIiLu7u4AAAAU9Wx4AAAAAXRSTlMAQObYZgAAAi5JREFU\n",
       "OMtjYKAqeIAhwrQBgnEBHgXc4hdAjNPIoiZQjKG6P+1HYzeQEYwmseJbf+O1CWDxlSB+H7JkH7oA\n",
       "DLCxOzBntjMwcKBLJGjz9a0Ci5cBeewJSFLcGyAYm2kBDHlA9TwLMExj2MQBFucABhzrBCQpxgcQ\n",
       "jACve+/egJm2mI2BgU8AVRxk2hyWByBxnuXl5bXIejWgGA6Yex4g3AYyjSETVRzstjKI+Le0tFvI\n",
       "mqOguGpL5Vawh8seIPnUD6RrKQOKONA05jt5EHFnBoZ0ZNN6IJhvAc8dRnCEpyOFG9MdYCwwzGBA\n",
       "EWdI0L3/cQNEXIWBrwHZNCEI5mLg/sBpAGTzJSBMk73bCWIoMqCIg3y6expEnJeB+wCyaZ8gmI+B\n",
       "BaKcSfbuXVgsBAWAPMRgjyoOMo2NaQFYnPsA7wMspgEjFpJMmB2QfBpkAjcNIQ42jSEBLM7XAFKx\n",
       "2mmLAURKEooZ6g3A2Y7vApJpHK8PwH16AcM0kHi6EzCUHrgxQhNdDgTzFOxn4AY72gfJNGYHYKQx\n",
       "nGBAEYf7FCQ+FWgJEzgqwWApBM8/kMhQDRZ4q4CUQlayFcBSCFwcZNrRbVCtkPD5DpPSheBnu16t\n",
       "hsQOe6sBLNd/M+DI+MnA0IQiDsr1uSIgn4HEeUD+YRZghuWsAghGAE4PaNxBASxn4RJnsOdq4IIV\n",
       "PAuw5GsUwLWBgPizndHrCJZIMPCCFPESKMYJ3EkRZ98AwbgAtwFOcQDMa6IupVdXtgAAAABJRU5E\n",
       "rkJggg==\n",
       "\" style=\"display:inline;vertical-align:middle;\" /></a><br>"
      ],
      "text/plain": [
       "xInRealsInBool: forall_{x} ((x in Reals) in BOOLEANS)"
      ]
     },
     "execution_count": 8,
     "metadata": {},
     "output_type": "execute_result"
    }
   ],
   "source": [
    "xInRealsInBool = Forall(x, inBool(InSet(x, Reals)))"
   ]
  },
  {
   "cell_type": "code",
   "execution_count": 9,
   "metadata": {},
   "outputs": [
    {
     "data": {
      "text/html": [
       "<strong id=\"xInRealsPosInBool\"><a class=\"ProveItLink\" href=\"_proofs_/xInRealsPosInBool.ipynb\">xInRealsPosInBool</a>:</strong> <a class=\"ProveItLink\" href=\"__pv_it/40e72cb7b8d22392d7781c0c3dc45f5376dafbce0/expr.ipynb\"><img src=\"data:image/png;base64,iVBORw0KGgoAAAANSUhEUgAAAK0AAAAbBAMAAAD8EhIYAAAAMFBMVEX///8QEBC6urrMzMxUVFRm\n",
       "ZmZERETc3NwyMjKqqqp2dnaIiIiYmJgiIiLu7u4AAAAU9Wx4AAAAAXRSTlMAQObYZgAAArFJREFU\n",
       "SMe1VU1oE1EQnmaT7NokSxAPghQUvBVpDjl4kS4tVPAgoaKXguwpVcQQL6kXcXtqpNoG/Dmoh4IH\n",
       "+wOlSBGlorlUD6IWBQXJ4p56UEqigdRCKc7b7Hv7drMvCwUH9svm+zZf5s0MswD7i8o+fhM5SkEc\n",
       "Ol5zAq1XwGcZdPcVPSJpgbQ6QyHEN7EiENfwsjrYaJVCiC98E4ipIsAGuXnPs9cY+CM5m/87Oe36\n",
       "rvr0+dbs5FfsaAILsUAIz6HPM+iIuKxJl6cgWi4fLqN/3X9YvV+dWcQi7gGU8Kus8+JBBgG+OSiU\n",
       "WL6paocvPFPwswag4H/G+GmUGhTcTr4wTYP6Pokz35ju09H3cRQNL2DNnk5M3OBNEmkKLE5+5PLl\n",
       "fJMNn07yJcf5hFcrn//uGQfDAXnp9KMxwsgFvg5n3TpE9sCr6/1SjXwZwJyHAcY9NdQc+Akfqn02\n",
       "U+R8I7UpcmePvtQEr66f+PGbDPVgBuA4qAbvq+QcmIM3cJcwm1zf+sxb7qPyH/DqWIe1B/h5E5dA\n",
       "ChKetqZyDlgw0maOmSbr22iuwPVzx6ejbzyCa6NOhriasgJ9AY5w+4LWYTTbkW+WzzdOSk/yVQ3C\n",
       "Lw2tZpw6aBTkJqiE2eJ9lV/u6eR2fbc6fYnX+BCuNmukxxniqO7Au0QDXoNnV6CvpA27C3UbvDqt\n",
       "wwDp5H1cERG4zeZ3ow0HduNp2d5Y6md+zhbc9jvz6+rou/7cmV/osX+8zZJotEG9srz4qk1dP8f2\n",
       "TiujXNphC9zw6rh3rh4ix563nyZtk9ISfbrJgMW9O6YRsC6UFYE+TW8Gew329jjDICzqxWBeZYff\n",
       "fDm2TO9PMQiLtwI+qQcuwwqFsPgiel9kgljZoBASyZxAWA+mHzLoHiUBL+uCPCoUusdFAR+z4L/F\n",
       "P6GtvwP/8ZbKAAAAAElFTkSuQmCC\n",
       "\" style=\"display:inline;vertical-align:middle;\" /></a><br>"
      ],
      "text/plain": [
       "xInRealsPosInBool: forall_{x} ((x in RealsPos) in BOOLEANS)"
      ]
     },
     "execution_count": 9,
     "metadata": {},
     "output_type": "execute_result"
    }
   ],
   "source": [
    "xInRealsPosInBool = Forall(x, inBool(InSet(x, RealsPos)))"
   ]
  },
  {
   "cell_type": "code",
   "execution_count": 10,
   "metadata": {},
   "outputs": [
    {
     "data": {
      "text/html": [
       "<strong id=\"xInRealsNegInBool\"><a class=\"ProveItLink\" href=\"_proofs_/xInRealsNegInBool.ipynb\">xInRealsNegInBool</a>:</strong> <a class=\"ProveItLink\" href=\"__pv_it/e250c1987366732e6571a365c252b175a38cc37c0/expr.ipynb\"><img src=\"data:image/png;base64,iVBORw0KGgoAAAANSUhEUgAAAK0AAAAaBAMAAAA3TsG9AAAAMFBMVEX///8QEBC6urrMzMxUVFRm\n",
       "ZmZERETc3NwyMjKqqqp2dnaIiIiYmJgiIiLu7u4AAAAU9Wx4AAAAAXRSTlMAQObYZgAAAp1JREFU\n",
       "SMe1VUFoE0EU/U02u3GTLEE8CCIo6mkpzSGIF2moUMFTQPRSkAUhOYiagm29SNeLCGoaUIuoh96s\n",
       "LZQiRZSK5lItiFoUVKSLe6oglEQDKYIUZ5KZ2dnZnezJB/uyeW/z98//nx+AIGL7KPXGjETXJXqe\n",
       "UW/IHokXQmWjSikCqUWJsYwuN6AqdUpR+CLRMxWANXzzlldHGYlYbV+8vptLcknwZ9tTVz/X0EFQ\n",
       "IR5jwXfoU4wCsC7B4XsVmC4hoIM2xMNaplGdQ0XcBhhHXzWLN3cyCsYdA/WH93CmHogLT5Locx0g\n",
       "id6ZqPHdbFLyOvnMcWwSV895cROW6JvwUEEBTwOkH01MXPF1OUuJ4ch7L18+brop+ihfXIAP6GqX\n",
       "St9842AT0uaPPxjBinaBq4PC1SG2DYJvxtfxlwGU8zGAMh9XLRD6Ce/qeztKhYvbv1rxStYCwe//\n",
       "/gvPy2AO4CAYNh83WSQ0A6/gNlY2vL6MOl+5Xmi/QfBNWJ5Gn5NoCWQg5WtrpkjIheGust9xWN8O\n",
       "qdxsGX9E3wQ1htZGAw9xPeOGxgXYI+4BayxxoBDIN8/nq4LVzdewsT4/tJQjdShQ0lpgYGWTn9/q\n",
       "Cy5ut76bwbg4VnkIrTZ3uI8UTrEIvUk14SX4dgWKm1dy3jxsgeCTOgzgTt5FKyIGN9n8rnVpx181\n",
       "q3WWgfGRi6vXyuL8cr4JK0/J/EJf58dbLIlml4xzC3PkzJdPsr1zFq5NsYnQbb+P9s75Xdid7bwV\n",
       "ty2ejdOnW4wY7txy7JB1kVyU+DfozaBus3+PE4yi0KiE6wY7/MbzkQV6f5RRFF5L9LQVpqo1SlH4\n",
       "JPu/yIWpmk0pAumixFgJl+8z6o1xia5ZkjxqlHrjjERPuPDf8A8W9MQhcCObVQAAAABJRU5ErkJg\n",
       "gg==\n",
       "\" style=\"display:inline;vertical-align:middle;\" /></a><br>"
      ],
      "text/plain": [
       "xInRealsNegInBool: forall_{x} ((x in RealsNeg) in BOOLEANS)"
      ]
     },
     "execution_count": 10,
     "metadata": {},
     "output_type": "execute_result"
    }
   ],
   "source": [
    "xInRealsNegInBool = Forall(x, inBool(InSet(x, RealsNeg)))"
   ]
  },
  {
   "cell_type": "code",
   "execution_count": 11,
   "metadata": {},
   "outputs": [
    {
     "name": "stdout",
     "output_type": "stream",
     "text": [
      "Theorems may be imported from autogenerated _theorems_.py\n"
     ]
    }
   ],
   "source": [
    "%end theorems"
   ]
  },
  {
   "cell_type": "code",
   "execution_count": null,
   "metadata": {},
   "outputs": [],
   "source": []
  }
 ],
 "metadata": {
  "kernelspec": {
   "display_name": "Python 3",
   "language": "python",
   "name": "python3"
  }
 },
 "nbformat": 4,
 "nbformat_minor": 0
}
