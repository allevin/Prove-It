{
 "cells": [
  {
   "cell_type": "markdown",
   "metadata": {},
   "source": [
    "Expression of type <a class=\"ProveItLink\" href=\"../../../../../../../doc/html/api/proveit.logic.InSet.html\">InSet</a>\n",
    "=======================\n",
    "# from context <a class=\"ProveItLink\" href=\"../../_context_.ipynb\">proveit.number.sets.real</a>"
   ]
  },
  {
   "cell_type": "code",
   "execution_count": 1,
   "metadata": {},
   "outputs": [],
   "source": [
    "# import Expression classes needed to build the expression\n",
    "from proveit._common_ import y\n",
    "from proveit.logic import Booleans, InSet\n",
    "from proveit.number import RealsPos"
   ]
  },
  {
   "cell_type": "code",
   "execution_count": 2,
   "metadata": {},
   "outputs": [
    {
     "data": {
      "text/html": [
       "<strong id=\"expr\">expr:</strong> <a class=\"ProveItLink\" href=\"expr.ipynb\"><img src=\"data:image/png;base64,iVBORw0KGgoAAAANSUhEUgAAAHgAAAAbBAMAAABFKlYVAAAAMFBMVEX///+qqqp2dnYiIiJERESI\n",
       "iIhmZmYQEBDc3NyYmJgyMjLu7u5UVFTMzMy6uroAAACGxKilAAAAAXRSTlMAQObYZgAAAeVJREFU\n",
       "OMutlDtIw1AUhv/Wtqav2MXNoa6CIAYUF0lFl9YhIio4FR+jIoiLUwcnFyuIi4MVUUsRWnwguFjR\n",
       "RUUouEnB4qKTVehQddCbRJvTmMfihcDlfPlyzj039wI2I2SNXyypyB6nKQ3mbWXzV05ztjJGzOgV\n",
       "7OWGhDHk5gyC3mz/x96OJrt1dTuz0Y/5COCJG33SxeWDkTQCmcxihn3E/6nnvHR6EEZjyViOI7ZU\n",
       "y4yev7K7lMIDjfnHBSH1K7e7NHlKz3nJkbzBGJXvN0hmKm/qOcv8LOKaTQ8mwMmr4mK07BtSdlnZ\n",
       "T8J56W4th0E2DZfhfpVDCSLzPWl5pvb5oYB6zgtfC8Au+4FCk3DJGY5Iw+aFLbKeFaWtR3UNGxLR\n",
       "xdqABTRJLPQkCLWGzcZjRD5TzgfhvATxUZbh+FTrKtKtmi3+yVykmSG6sM+mnpTa9EMq+46TRC7o\n",
       "uCpfsqkvrvQNgSSRg/lbTS4ndFwte1jOnOfflX+gl25Vq9bcn30mnJe80yLKcnBgtKrElmdqB6NS\n",
       "8EXfanIb6jg7GJXuc6BJWY2zQ422bKvd1I8dGPJAGLjAifVV5a+a3EIsZyf6rG8Er2gC2JluHi1Z\n",
       "yw0FE7AM+7FuBhxhW5cTTdGqrezJ4f/HNwiRf6Z2i1+cAAAAAElFTkSuQmCC\n",
       "\" style=\"display:inline;vertical-align:middle;\" /></a><br>"
      ],
      "text/plain": [
       "expr: (y in RealsPos) in BOOLEANS"
      ]
     },
     "execution_count": 2,
     "metadata": {},
     "output_type": "execute_result"
    }
   ],
   "source": [
    "# build up the expression from sub-expressions\n",
    "expr = InSet(InSet(y, RealsPos), Booleans)"
   ]
  },
  {
   "cell_type": "code",
   "execution_count": 3,
   "metadata": {},
   "outputs": [
    {
     "name": "stdout",
     "output_type": "stream",
     "text": [
      "Passed sanity check: built 'expr' is the same as the stored Expression.\n"
     ]
    }
   ],
   "source": [
    "# check that the built expression is the same as the stored expression\n",
    "%check_expr"
   ]
  },
  {
   "cell_type": "code",
   "execution_count": 4,
   "metadata": {},
   "outputs": [
    {
     "data": {
      "text/html": [
       "<table><tr><th>&nbsp;</th><th>core type</th><th>sub-expressions</th><th>expression</th></tr>\n",
       "<tr><td>0</td><td>Operation</td><td>operator:&nbsp;4<br>operands:&nbsp;1<br></td><td><a class=\"ProveItLink\" href=\"expr.ipynb\"><img src=\"data:image/png;base64,iVBORw0KGgoAAAANSUhEUgAAAHgAAAAbBAMAAABFKlYVAAAAMFBMVEX///+qqqp2dnYiIiJERESI\n",
       "iIhmZmYQEBDc3NyYmJgyMjLu7u5UVFTMzMy6uroAAACGxKilAAAAAXRSTlMAQObYZgAAAeVJREFU\n",
       "OMutlDtIw1AUhv/Wtqav2MXNoa6CIAYUF0lFl9YhIio4FR+jIoiLUwcnFyuIi4MVUUsRWnwguFjR\n",
       "RUUouEnB4qKTVehQddCbRJvTmMfihcDlfPlyzj039wI2I2SNXyypyB6nKQ3mbWXzV05ztjJGzOgV\n",
       "7OWGhDHk5gyC3mz/x96OJrt1dTuz0Y/5COCJG33SxeWDkTQCmcxihn3E/6nnvHR6EEZjyViOI7ZU\n",
       "y4yev7K7lMIDjfnHBSH1K7e7NHlKz3nJkbzBGJXvN0hmKm/qOcv8LOKaTQ8mwMmr4mK07BtSdlnZ\n",
       "T8J56W4th0E2DZfhfpVDCSLzPWl5pvb5oYB6zgtfC8Au+4FCk3DJGY5Iw+aFLbKeFaWtR3UNGxLR\n",
       "xdqABTRJLPQkCLWGzcZjRD5TzgfhvATxUZbh+FTrKtKtmi3+yVykmSG6sM+mnpTa9EMq+46TRC7o\n",
       "uCpfsqkvrvQNgSSRg/lbTS4ndFwte1jOnOfflX+gl25Vq9bcn30mnJe80yLKcnBgtKrElmdqB6NS\n",
       "8EXfanIb6jg7GJXuc6BJWY2zQ422bKvd1I8dGPJAGLjAifVV5a+a3EIsZyf6rG8Er2gC2JluHi1Z\n",
       "yw0FE7AM+7FuBhxhW5cTTdGqrezJ4f/HNwiRf6Z2i1+cAAAAAElFTkSuQmCC\n",
       "\" style=\"display:inline;vertical-align:middle;\" /></a></td></tr>\n",
       "<tr><td>1</td><td>ExprTuple</td><td>2, 3</td><td><a class=\"ProveItLink\" href=\"../0c7ef50d2f88de23b4f1ab14f510338af328e6c00/expr.ipynb\"><img src=\"data:image/png;base64,iVBORw0KGgoAAAANSUhEUgAAAGYAAAAbBAMAAAB8TedOAAAAMFBMVEX///+qqqp2dnYiIiJERESI\n",
       "iIhmZmYQEBDc3NyYmJgyMjLu7u5UVFTMzMy6uroAAACGxKilAAAAAXRSTlMAQObYZgAAAdhJREFU\n",
       "OMtjYCAABLCKvsOrxwGNrwAieA+QpOcOiNi1gSQ9rAFA4iQDSXoYLBgYOAqwKORc7/Jr+VIUPUzr\n",
       "vX4VOwIZMQwMbAnYTGfhOMDruIKBZ9WqqlVLoUJ8Abs2AUNg/wYG9gfY9SQweLeguA2oh/XBAgYG\n",
       "5gkM95GVckcZGy+A6dFlQdfDOOE00GEODOHIem7NRrIHUw/rCyCP8wPDKSB3UxIDx28gzeGN7LbT\n",
       "GG67PAUYL3y/GXxAcfuegfUDSLgBSQ+f5QoQ6wBCj/H/UlAa+MuwDEgKJDOwgMzbghQGxcYL0YIF\n",
       "6LZAoCqOfwxmQJ8zlDLwg6L3ubExPAzyErwx9DA4PAKq/gjSw8D4m+H+BVhagrkt7w4WPSxge9YA\n",
       "uWwLIMG3GVkP19YJ2PX8ZTgC5HIlgIOCgWcCkh7eA2fh6jcguY3vB0MwyJ4DfD/BUWqHHNaK8GDk\n",
       "/gzRw5kKiZ/3IDHXsB9gya5ceBr9coHL6yNMT30DKI1+MT8ISqwLGPgvgFOtAURWZjEk3NAAXwOC\n",
       "zRXAwANMqocZtgvgzUScSOz9DQy8QBuMGJwYiNYzBYiB+Ug07AF+PQFIbFuQvxlIApygPMqoQJIe\n",
       "cGJnmEiSnmwGsgAAe8R1pOxVe8cAAAAASUVORK5CYII=\n",
       "\" style=\"display:inline;vertical-align:middle;\" /></a></td></tr>\n",
       "<tr><td>2</td><td>Operation</td><td>operator:&nbsp;4<br>operands:&nbsp;5<br></td><td><a class=\"ProveItLink\" href=\"../3c0192e90723419fc4b6fb3b99c2ae20e21816fb0/expr.ipynb\"><img src=\"data:image/png;base64,iVBORw0KGgoAAAANSUhEUgAAAD8AAAAXBAMAAABOjoq3AAAAMFBMVEX///+YmJhUVFQyMjIQEBBE\n",
       "REQiIiKqqqrMzMyIiIi6urrc3NxmZmZ2dnbu7u4AAADXeCicAAAAAXRSTlMAQObYZgAAAOxJREFU\n",
       "KM9jYMAD2BkIANYBUyD8Nd7YeQI+EwI2MbQWb2BQNjYxNp6AVcEeBtbXAZgm8E1OSzOAKuBtwKKg\n",
       "WQ5hApICvjsXGPY/ADK445CsYEJYwcv1gWE+2MkbkBQsEwbxmEC8dp4EhlAQ4ynCkVvSkgvgvAcs\n",
       "Exh+ghhL0tLgjlzD+gDhtvoHHD9AdBOSN3lWKCAUHGbgdADRz5DDwW4iQoENAytYOZMAkoImpga4\n",
       "gkMM68FSfFlICngLouEKns48D/Hg5hPwyIpgMLVH+IPhGpQuMoP4AhUwJfC5400UbBdYL+BVwD7z\n",
       "FF55AGHaQc4RA6zqAAAAAElFTkSuQmCC\n",
       "\" style=\"display:inline;vertical-align:middle;\" /></a></td></tr>\n",
       "<tr><td>3</td><td>Literal</td><td></td><td><a class=\"ProveItLink\" href=\"../../../../../logic/boolean/__pv_it/46271c8230be96415d662709611f4ed2279d702b0/expr.ipynb\"><img src=\"data:image/png;base64,iVBORw0KGgoAAAANSUhEUgAAAA0AAAAOBAMAAAAGUYvhAAAAMFBMVEX///9mZmbMzMzc3NxUVFSY\n",
       "mJju7u6IiIi6urqqqqoiIiIQEBBEREQyMjJ2dnYAAAAQvcRZAAAAAXRSTlMAQObYZgAAAElJREFU\n",
       "CNdjePvn/u01ExgYGA60s117B6YZKngh9FSWBAjfBsxnWnoMRHet/10AkS+fA6F5OB5AaIYDqDRU\n",
       "PLCGgQFoz6ktExgAgLIl8DFvGtkAAAAASUVORK5CYII=\n",
       "\" style=\"display:inline;vertical-align:middle;\" /></a></td></tr>\n",
       "<tr><td>4</td><td>Literal</td><td></td><td><a class=\"ProveItLink\" href=\"../../../../../logic/set_theory/membership/__pv_it/088cbc857536a28d4119ad9639a84270ccb0545d0/expr.ipynb\"><img src=\"data:image/png;base64,iVBORw0KGgoAAAANSUhEUgAAAAwAAAAMBAMAAACkW0HUAAAALVBMVEX///+qqqpmZmZUVFQQEBC6\n",
       "urpERETc3NyYmJjMzMwiIiIyMjKIiIju7u4AAACYsrA9AAAAAXRSTlMAQObYZgAAADxJREFUCNdj\n",
       "YOA9vWrVBgaG2b0MQMCeCyIZ2ArA1DUwyRCyahVIyWQI7xaEYm4AU7xLIdxqTQgtvGvVBgCkcQ7e\n",
       "geM/tQAAAABJRU5ErkJggg==\n",
       "\" style=\"display:inline;vertical-align:middle;\" /></a></td></tr>\n",
       "<tr><td>5</td><td>ExprTuple</td><td>6, 7</td><td><a class=\"ProveItLink\" href=\"../6ce58768cb45c7489c9802cecc0683411b9076b20/expr.ipynb\"><img src=\"data:image/png;base64,iVBORw0KGgoAAAANSUhEUgAAAD4AAAAbBAMAAADWjiHyAAAAMFBMVEX///+qqqp2dnYiIiJERESI\n",
       "iIhmZmYQEBDc3NyYmJgyMjLu7u5UVFTMzMy6uroAAACGxKilAAAAAXRSTlMAQObYZgAAAWBJREFU\n",
       "KM9jYMAOGBHMd9jkWUCEAojgPYBT/g6I2LUBpzxrAJA4yYBTnsGCgYGjAEl01hf/VVUBCPkYBga2\n",
       "BGRtDj0MV6QaGE6tWr5qFVDd/g0M7A9Q5NsYWHY4wPUzT2C4z4Amz3QBIc/mwBCOT57zA8MpBgZu\n",
       "NQWG/g0weR4k8/l+M/gwMDDxfWCIh+t/PKsByOABc3n/MixjYLjIZsDgApVvN7YSQFjH8Y/BjIFh\n",
       "A3sAw1eY/mcsSOHJ/REkzyC/AWgQVJ7t7QEU/WuAVBYDawHc/tWRSPJ/GY4AqWUMLAcYuKHyd3gu\n",
       "wOX5fjAEA6kchvcTGPYbQP0v4AGXB/r/PZDaEprfwLD9Bzh+fBmWrIf7gGkBAz/YNGUgfoEZy1wB\n",
       "DDwKDDwG3IVAzgRM+f0NDLwGDMwKLArY5acAsSMDY2geKDFhSUW2QNzFgBNwgtIOowJO+RYwORGn\n",
       "fDYDQQAATmpXlRjr05gAAAAASUVORK5CYII=\n",
       "\" style=\"display:inline;vertical-align:middle;\" /></a></td></tr>\n",
       "<tr><td>6</td><td>Variable</td><td></td><td><a class=\"ProveItLink\" href=\"../../../../../__pv_it/f8b9edf8e16034727f0aad55bb83e392c3db40d40/expr.ipynb\"><img src=\"data:image/png;base64,iVBORw0KGgoAAAANSUhEUgAAAAsAAAANBAMAAACN24kIAAAAMFBMVEX///+YmJhUVFQyMjIQEBBE\n",
       "REQiIiKqqqrMzMyIiIi6urrc3NxmZmZ2dnbu7u4AAADXeCicAAAAAXRSTlMAQObYZgAAAFhJREFU\n",
       "CNdj4LtzgWH/AwZerg8M8xkY2nkSGEIZGB6wTGD4ycDAUP+A4weQOszA6QCkbBhYFYDUIYb1AkDq\n",
       "6czzGxhA4BoQMyXwuQMptgusF4AU+8xTQBIAUqMVoSp/SLMAAAAASUVORK5CYII=\n",
       "\" style=\"display:inline;vertical-align:middle;\" /></a></td></tr>\n",
       "<tr><td>7</td><td>Literal</td><td></td><td><a class=\"ProveItLink\" href=\"../399ccec6a6e90df280e82734a8711cdb89199bc00/expr.ipynb\"><img src=\"data:image/png;base64,iVBORw0KGgoAAAANSUhEUgAAABsAAAATBAMAAACTqWsLAAAAMFBMVEX///8iIiK6urp2dnbu7u5m\n",
       "ZmaqqqrMzMxUVFTc3NyIiIgQEBBEREQyMjKYmJgAAAA9nvXMAAAAAXRSTlMAQObYZgAAAGxJREFU\n",
       "GNNjYIADNgYUwEMy9+2f83f3LkDIHpjBUJM7gaH37u27d4HCB6Yy8HgeQMhOZWAuwMflQFWs+HYC\n",
       "kMEB4c4WlE1A2H5gqiqPAzKXVb0BmctwZR0Kt4KjAJnLnHASxgN64TjDnftQswFmaSyXIBgH2QAA\n",
       "AABJRU5ErkJggg==\n",
       "\" style=\"display:inline;vertical-align:middle;\" /></a></td></tr>\n",
       "</table>\n"
      ],
      "text/plain": [
       "0. (y in RealsPos) in BOOLEANS\n",
       "   core type: Operation\n",
       "   operator: 4\n",
       "   operands: 1\n",
       "1. (y in RealsPos , BOOLEANS)\n",
       "   core type: ExprTuple\n",
       "   sub-expressions: 2, 3\n",
       "2. y in RealsPos\n",
       "   core type: Operation\n",
       "   operator: 4\n",
       "   operands: 5\n",
       "3. BOOLEANS\n",
       "   core type: Literal\n",
       "   sub-expressions: \n",
       "4. in\n",
       "   core type: Literal\n",
       "   sub-expressions: \n",
       "5. (y , RealsPos)\n",
       "   core type: ExprTuple\n",
       "   sub-expressions: 6, 7\n",
       "6. y\n",
       "   core type: Variable\n",
       "   sub-expressions: \n",
       "7. RealsPos\n",
       "   core type: Literal\n",
       "   sub-expressions: "
      ]
     },
     "execution_count": 4,
     "metadata": {},
     "output_type": "execute_result"
    }
   ],
   "source": [
    "# display the expression information\n",
    "expr.exprInfo()"
   ]
  },
  {
   "cell_type": "code",
   "execution_count": null,
   "metadata": {},
   "outputs": [],
   "source": []
  }
 ],
 "metadata": {
  "kernelspec": {
   "display_name": "Python 3",
   "language": "python",
   "name": "python3"
  }
 },
 "nbformat": 4,
 "nbformat_minor": 0
}
