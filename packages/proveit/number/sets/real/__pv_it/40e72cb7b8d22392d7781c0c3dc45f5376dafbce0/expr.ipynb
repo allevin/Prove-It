{
 "cells": [
  {
   "cell_type": "markdown",
   "metadata": {},
   "source": [
    "Theorem <a class=\"ProveItLink\" href=\"../../_theorems_.ipynb#xInRealsPosInBool\">xInRealsPosInBool</a> of type <a class=\"ProveItLink\" href=\"../../../../../../../doc/html/api/proveit.logic.Forall.html\">Forall</a>\n",
    "=======================\n",
    "# from context <a class=\"ProveItLink\" href=\"../../_context_.ipynb\">proveit.number.sets.real</a>\n",
    "*** see <a class=\"ProveItLink\" href=\"dependencies.ipynb\">dependencies</a> ***"
   ]
  },
  {
   "cell_type": "code",
   "execution_count": 1,
   "metadata": {},
   "outputs": [],
   "source": [
    "# import the special expression\n",
    "from proveit.number.sets.real._theorems_ import xInRealsPosInBool"
   ]
  },
  {
   "cell_type": "code",
   "execution_count": 2,
   "metadata": {},
   "outputs": [
    {
     "name": "stdout",
     "output_type": "stream",
     "text": [
      "Passed sanity check: built 'xInRealsPosInBool' is the same as the stored Expression.\n"
     ]
    }
   ],
   "source": [
    "# check that the built expression is the same as the stored expression\n",
    "%check_expr xInRealsPosInBool"
   ]
  },
  {
   "cell_type": "code",
   "execution_count": 3,
   "metadata": {},
   "outputs": [
    {
     "data": {
      "text/html": [
       "<table><tr><th>&nbsp;</th><th>core type</th><th>sub-expressions</th><th>expression</th></tr>\n",
       "<tr><td>0</td><td>Operation</td><td>operator:&nbsp;1<br>operand:&nbsp;2<br></td><td><a class=\"ProveItLink\" href=\"expr.ipynb\"><img src=\"data:image/png;base64,iVBORw0KGgoAAAANSUhEUgAAAK0AAAAbBAMAAAD8EhIYAAAAMFBMVEX///8QEBC6urrMzMxUVFRm\n",
       "ZmZERETc3NwyMjKqqqp2dnaIiIiYmJgiIiLu7u4AAAAU9Wx4AAAAAXRSTlMAQObYZgAAArFJREFU\n",
       "SMe1VU1oE1EQnmaT7NokSxAPghQUvBVpDjl4kS4tVPAgoaKXguwpVcQQL6kXcXtqpNoG/Dmoh4IH\n",
       "+wOlSBGlorlUD6IWBQXJ4p56UEqigdRCKc7b7Hv7drMvCwUH9svm+zZf5s0MswD7i8o+fhM5SkEc\n",
       "Ol5zAq1XwGcZdPcVPSJpgbQ6QyHEN7EiENfwsjrYaJVCiC98E4ipIsAGuXnPs9cY+CM5m/87Oe36\n",
       "rvr0+dbs5FfsaAILsUAIz6HPM+iIuKxJl6cgWi4fLqN/3X9YvV+dWcQi7gGU8Kus8+JBBgG+OSiU\n",
       "WL6paocvPFPwswag4H/G+GmUGhTcTr4wTYP6Pokz35ju09H3cRQNL2DNnk5M3OBNEmkKLE5+5PLl\n",
       "fJMNn07yJcf5hFcrn//uGQfDAXnp9KMxwsgFvg5n3TpE9sCr6/1SjXwZwJyHAcY9NdQc+Akfqn02\n",
       "U+R8I7UpcmePvtQEr66f+PGbDPVgBuA4qAbvq+QcmIM3cJcwm1zf+sxb7qPyH/DqWIe1B/h5E5dA\n",
       "ChKetqZyDlgw0maOmSbr22iuwPVzx6ejbzyCa6NOhriasgJ9AY5w+4LWYTTbkW+WzzdOSk/yVQ3C\n",
       "Lw2tZpw6aBTkJqiE2eJ9lV/u6eR2fbc6fYnX+BCuNmukxxniqO7Au0QDXoNnV6CvpA27C3UbvDqt\n",
       "wwDp5H1cERG4zeZ3ow0HduNp2d5Y6md+zhbc9jvz6+rou/7cmV/osX+8zZJotEG9srz4qk1dP8f2\n",
       "TiujXNphC9zw6rh3rh4ix563nyZtk9ISfbrJgMW9O6YRsC6UFYE+TW8Gew329jjDICzqxWBeZYff\n",
       "fDm2TO9PMQiLtwI+qQcuwwqFsPgiel9kgljZoBASyZxAWA+mHzLoHiUBL+uCPCoUusdFAR+z4L/F\n",
       "P6GtvwP/8ZbKAAAAAElFTkSuQmCC\n",
       "\" style=\"display:inline;vertical-align:middle;\" /></a></td></tr>\n",
       "<tr><td>1</td><td>Literal</td><td></td><td><a class=\"ProveItLink\" href=\"../../../../../logic/boolean/quantification/universal/__pv_it/265f8c02ac1094d56e0e6410a1c1fd3500dc9f540/expr.ipynb\"><img src=\"data:image/png;base64,iVBORw0KGgoAAAANSUhEUgAAAAwAAAAQBAMAAADQT4M0AAAAMFBMVEX///8QEBC6urrMzMxUVFRm\n",
       "ZmZERETc3NwyMjKqqqp2dnaIiIiYmJgiIiLu7u4AAAAU9Wx4AAAAAXRSTlMAQObYZgAAAFhJREFU\n",
       "CNdjeMAABhdAxGmGlSCqj6EMSLInMHAAJVknMPAsLy+vBYp8S0u7BaScGRjSgZQKA18DkOJl4D4A\n",
       "pLgP8IJM4mswARuX7gSmpoKNZWDcAKZ4gCoAgTQTILaSE58AAAAASUVORK5CYII=\n",
       "\" style=\"display:inline;vertical-align:middle;\" /></a></td></tr>\n",
       "<tr><td>2</td><td>Lambda</td><td>parameter:&nbsp;9<br>body:&nbsp;3<br></td><td><a class=\"ProveItLink\" href=\"../1929cedab976fe56313f971385f3617cb1444d6b0/expr.ipynb\"><img src=\"data:image/png;base64,iVBORw0KGgoAAAANSUhEUgAAALkAAAAbCAMAAAAXp96LAAAANlBMVEX///+6uroUFBQNDQ0yMjJE\n",
       "RETMzMwQEBAiIiKYmJju7u5mZmaqqqpUVFSIiIh2dnbc3NwAAACltDI1AAAAAXRSTlMAQObYZgAA\n",
       "AlZJREFUWMPNl+uWqjAMhds56f3+/i97WgGhJEWQxZrJH/dSP9iNSYiM/Vb4X7gn51hdD7GIdJVM\n",
       "395SBqzuOL98lW9va8Eidcs5i/EiehmYIhis7jlnOl9kLwMtssLqUxgoQhQABZF0Hj/8/KnyUEBp\n",
       "4c8BZDiH1ZkE53ozKTy0bAWAdowa00lssR95Hlt1pnQSIEJxrE45b+cUNgsi50ybM85Z5AxOAkRf\n",
       "F6yILo6ga8DeeZKMdO7EMT4794YFSwGn2lphhY8HxpI5Hzk35Rh/53z5ySYgpxiyj+7dPdA/67qH\n",
       "XYC9QjjLwg6qJQyqhW/rlsAn51Kb5aMXYGvRm1o3Sr+rbjcGtxcSYacwzkQe1DnXBt6fha4GJTvC\n",
       "m3OtS1FxC7RujTX5Xg6c27C5FLidwrgVZIeqVrmDZSWXtdspfKmW6MUGaBkN3bf//egu1Oa62u0U\n",
       "xrlawL5DuWNiMMxs8Yf47Ly9pB5Q3eNU75+am/GHnGOcWite1eL4aOPY5pz8ztv53B4LkF9lZgfO\n",
       "3bbuIGC1w60ezXOw0Qycr3VO4YTzCpj8qlMWB85ll9C1MGaFcWqfmZzXdAZJ7s0lsyMcVUsDfDFM\n",
       "1NGcV4P9JtaXZtS9IvCaNT6YismTk6Of5wQ+Ozcubua5FTHVdSCefJzy0isSz+Ak3rhEfQ/q5uSp\n",
       "leoInzcuoVXwJHAu1oos8uCvWoB+OBwHxIs4fLGhh4TV3bAlPwy8GlZjdTeMeBqYmsVjdTO0fBqY\n",
       "+wermyl3TwNL+ySs7kQWTwPrkT1WN8LZp4E/Fv8BvBsZ80AxIZIAAAAASUVORK5CYII=\n",
       "\" style=\"display:inline;vertical-align:middle;\" /></a></td></tr>\n",
       "<tr><td>3</td><td>Operation</td><td>operator:&nbsp;7<br>operands:&nbsp;4<br></td><td><a class=\"ProveItLink\" href=\"../8a32875ea0b7e2561a4d07f8fb26b3f6a9da47a50/expr.ipynb\"><img src=\"data:image/png;base64,iVBORw0KGgoAAAANSUhEUgAAAHgAAAAbBAMAAABFKlYVAAAAMFBMVEX///+qqqp2dnYiIiJERESI\n",
       "iIhmZmYQEBDc3NyYmJgyMjLu7u5UVFTMzMy6uroAAACGxKilAAAAAXRSTlMAQObYZgAAAe1JREFU\n",
       "OMtjYCAABPBLv8Mr6wDETDhleQ8Q1Ixbya4NBDUzhOKSPclAWDNzA3ZJjgIsgpzrXX4tX4rQzIrm\n",
       "bqb1Xr+KHRkY2BKwGcnCcYDXcQUDz6pVVauAhnD/RpfnC9i1SYGB/QF2zQkM3i1wmxksMTWzPljA\n",
       "cB9FcOtiYyuYZl0WhOYUiDR3lLHxAqhmxgmnGcJRom3lBoTNyJrnQ4RvzUay+YUDwykgsymmMSwA\n",
       "JNayAcnZp5Gc/R4sweGN5OzLUzYw+AAdo8BpyW4AEvNA8jOf5QoQCxLO9y+ARRsQmo3/lzIwLAOl\n",
       "PtYPjCBZbgeE5mLjhUj+6QcH6xaUAAt0YDAD6mHggejiKzY2hgVYXoI3kub94PzxHCgNDzAGh0cg\n",
       "zQwM7AFoyRzo7Lw7GDbfQbaZwYGFYQ1Y7gIDKES4DZA0c22dgKQZ7OfN6JqPABNjQzwD6waUdA7U\n",
       "zHvgLELze3BQ8UxA0fyIIZiBQX6CO0MrWGzzA6SoUkQELjSeue2QNHOmOjC8BwZi0CZViJkcyy7A\n",
       "MsaXC1xeH+GatSBUVy48Y3wxP8jAwH8BOYkxnoKENjpYCqVlFkNCGwp4FBgIA+4fOEohAyI0czrg\n",
       "kHAkQjPzBRwSXURonoZLgpGwpzkccEpNJKiZbQMD9QEAL1l7/NCgmHAAAAAASUVORK5CYII=\n",
       "\" style=\"display:inline;vertical-align:middle;\" /></a></td></tr>\n",
       "<tr><td>4</td><td>ExprTuple</td><td>5, 6</td><td><a class=\"ProveItLink\" href=\"../d41f9ebf341d0ee8ae05d45b748cdfc328548f850/expr.ipynb\"><img src=\"data:image/png;base64,iVBORw0KGgoAAAANSUhEUgAAAGYAAAAbBAMAAAB8TedOAAAAMFBMVEX///+qqqp2dnYiIiJERESI\n",
       "iIhmZmYQEBDc3NyYmJgyMjLu7u5UVFTMzMy6uroAAACGxKilAAAAAXRSTlMAQObYZgAAAcxJREFU\n",
       "OMudk7tLw1AUxr9qY5O2if4H1sFRKAR8gdCCoFSHqKBLwS5OQhGKi4tRdHGxQv8ARdRaBIOPxcUK\n",
       "LlqEgKtgcXLygR1E8XFuY+1tG9R44F7OuTm/5MuXE+CXaLI9vfuRCVXVAbbJWUfMFduODEeMoNF2\n",
       "BkcMOgFxyqZR2u192dqoYOp2Iy+JMCVRoCFmd3e3mJXDafgzmZnMxteRoh3tkQPHBjx5eyaGgYUK\n",
       "bcQI+VWgPonrit7DdbW7xLS5qxlXMkfCQhjjEXnbKD+nlhFuqZIecE7lfHRulFmIBYPTlqvRdpmi\n",
       "68orBgFfQOryBNl5P/c+SleaZdkyo35MMy1v2CQbITy4TCp95ZuKCXWtyhbSNkQN4jvaqRV+q1lJ\n",
       "qGrJg3hsoIZB6Ia6HxkDeDRUjh5pi1/ZMO7ic3ZYvWyCvb0vyDHew6Q984ZTck8fh1B07Ixj5OzF\n",
       "d7/BaVOeMQI0J/uwWLy2n+e8bnHrX5XvyWKkCev73AMHw3utlg5x0yzNaMH0Rh5LzKzOZrTQccKG\n",
       "dRWNJi/adW75VhWKXs69GvwB/B4Slx/rkIMOmRSt8B8Yjct7aC3BUUjsH3UFHDHFYceKI2YS/4pP\n",
       "zdtx+uWrZGsAAAAASUVORK5CYII=\n",
       "\" style=\"display:inline;vertical-align:middle;\" /></a></td></tr>\n",
       "<tr><td>5</td><td>Operation</td><td>operator:&nbsp;7<br>operands:&nbsp;8<br></td><td><a class=\"ProveItLink\" href=\"../80d1b4f1d15d4f422a878de0d5b18bff8d9210bf0/expr.ipynb\"><img src=\"data:image/png;base64,iVBORw0KGgoAAAANSUhEUgAAAEAAAAAUBAMAAADPWCYMAAAAMFBMVEX///+6uroyMjJERETMzMwQ\n",
       "EBAiIiKYmJju7u5mZmaqqqpUVFSIiIh2dnbc3NwAAAAWgogoAAAAAXRSTlMAQObYZgAAANRJREFU\n",
       "KM9jYMAHFjAQAAYDpYBd3/iTqg4+E5j5NrBY6TFwKykFKelgVzCBweIxpgkch9LSFGAKrjBjKnCq\n",
       "QDIBScHb069OHgDSfBbIVuyAW8FxgT2dNQEk/ABJAWO6Hoi1AYh5GXg+cDkAGc1IjgxL00I4jYEb\n",
       "4hTRtDS4IydOsEByHOsBMOWN7M2J3kgK3jswNACpNmQFTD0F8IB9cJ6BB6SAuwBJAcuGLTDe+gJT\n",
       "hjdgxyQie/MW3FPNZ3vvQPQ+mgKPrM8OTEa/MONgtRrEFygAACytN4xXk6+MAAAAAElFTkSuQmCC\n",
       "\" style=\"display:inline;vertical-align:middle;\" /></a></td></tr>\n",
       "<tr><td>6</td><td>Literal</td><td></td><td><a class=\"ProveItLink\" href=\"../../../../../logic/boolean/__pv_it/46271c8230be96415d662709611f4ed2279d702b0/expr.ipynb\"><img src=\"data:image/png;base64,iVBORw0KGgoAAAANSUhEUgAAAA0AAAAOBAMAAAAGUYvhAAAAMFBMVEX///9mZmbMzMzc3NxUVFSY\n",
       "mJju7u6IiIi6urqqqqoiIiIQEBBEREQyMjJ2dnYAAAAQvcRZAAAAAXRSTlMAQObYZgAAAElJREFU\n",
       "CNdjePvn/u01ExgYGA60s117B6YZKngh9FSWBAjfBsxnWnoMRHet/10AkS+fA6F5OB5AaIYDqDRU\n",
       "PLCGgQFoz6ktExgAgLIl8DFvGtkAAAAASUVORK5CYII=\n",
       "\" style=\"display:inline;vertical-align:middle;\" /></a></td></tr>\n",
       "<tr><td>7</td><td>Literal</td><td></td><td><a class=\"ProveItLink\" href=\"../../../../../logic/set_theory/membership/__pv_it/088cbc857536a28d4119ad9639a84270ccb0545d0/expr.ipynb\"><img src=\"data:image/png;base64,iVBORw0KGgoAAAANSUhEUgAAAAwAAAAMBAMAAACkW0HUAAAALVBMVEX///+qqqpmZmZUVFQQEBC6\n",
       "urpERETc3NyYmJjMzMwiIiIyMjKIiIju7u4AAACYsrA9AAAAAXRSTlMAQObYZgAAADxJREFUCNdj\n",
       "YOA9vWrVBgaG2b0MQMCeCyIZ2ArA1DUwyRCyahVIyWQI7xaEYm4AU7xLIdxqTQgtvGvVBgCkcQ7e\n",
       "geM/tQAAAABJRU5ErkJggg==\n",
       "\" style=\"display:inline;vertical-align:middle;\" /></a></td></tr>\n",
       "<tr><td>8</td><td>ExprTuple</td><td>9, 10</td><td><a class=\"ProveItLink\" href=\"../89e8ffaba9de31aa989506c43cfb3ddbc9277b660/expr.ipynb\"><img src=\"data:image/png;base64,iVBORw0KGgoAAAANSUhEUgAAAEAAAAAbBAMAAAA+DpTZAAAAMFBMVEX///+qqqp2dnYiIiJERESI\n",
       "iIhmZmYQEBDc3NyYmJgyMjLu7u5UVFTMzMy6uroAAACGxKilAAAAAXRSTlMAQObYZgAAAUxJREFU\n",
       "KM9jYMABGBHMd1gVsIAIBRDBewC3gjsgYtcG3ApYA4DESQbcChgsGBg4CpCFZ33xX1UVgFAQw8DA\n",
       "loCi0aGH4YpUA8OpVctXrQIq3L+Bgf0BqoI2BpYdDnATmCcw3GdAV8B0AaGAzYEhHK8Czg8Mp4AU\n",
       "h+oJ0VS4Ah4kK/h+M/gAqU0MkycUwxU8ntUAZPCAubx/GZaBQzSeQRaqoN3YSgBhI8c/BjMgtYHh\n",
       "CMINz1iQgpb7I1gBA0MpQgHb2wMoJqwB038ZuOFuWB2JpOAv2PAZrB8YoiFKgAru8FyAK+D7wRAM\n",
       "TBs/WQo4Ahj2G0DDQcADrgAYDu+BLnHVVgIau/0HOLJ8GZash/uDaQEDP8K8F5iRzhXAwKMA503A\n",
       "VLC/gYHXAJ+CKUDsCOOwYklXtkDcxYAbcIJSE6MCbgUtYHIibgXZDIQBAEJXU2Sl8U3vAAAAAElF\n",
       "TkSuQmCC\n",
       "\" style=\"display:inline;vertical-align:middle;\" /></a></td></tr>\n",
       "<tr><td>9</td><td>Variable</td><td></td><td><a class=\"ProveItLink\" href=\"../../../../../__pv_it/530be409e3083890784cf1d7b28c9e67e90af9360/expr.ipynb\"><img src=\"data:image/png;base64,iVBORw0KGgoAAAANSUhEUgAAAAsAAAAJBAMAAAAWSsseAAAAKlBMVEX///9ERETMzMwQEBAiIiKY\n",
       "mJju7u5mZmaqqqpUVFSIiIh2dnbc3NwAAAA/vyDhAAAAAXRSTlMAQObYZgAAAENJREFUCNdjYDi9\n",
       "8sTyBQxsG1hdmR0YuBm4LnAoMLAxcAowgADzAjB1VoEhgYH1wFoGrgSG3gBhhlMMDImrs3cFMAAA\n",
       "t0YN+iTRa+sAAAAASUVORK5CYII=\n",
       "\" style=\"display:inline;vertical-align:middle;\" /></a></td></tr>\n",
       "<tr><td>10</td><td>Literal</td><td></td><td><a class=\"ProveItLink\" href=\"../399ccec6a6e90df280e82734a8711cdb89199bc00/expr.ipynb\"><img src=\"data:image/png;base64,iVBORw0KGgoAAAANSUhEUgAAABsAAAATBAMAAACTqWsLAAAAMFBMVEX///8iIiK6urp2dnbu7u5m\n",
       "ZmaqqqrMzMxUVFTc3NyIiIgQEBBEREQyMjKYmJgAAAA9nvXMAAAAAXRSTlMAQObYZgAAAGxJREFU\n",
       "GNNjYIADNgYUwEMy9+2f83f3LkDIHpjBUJM7gaH37u27d4HCB6Yy8HgeQMhOZWAuwMflQFWs+HYC\n",
       "kMEB4c4WlE1A2H5gqiqPAzKXVb0BmctwZR0Kt4KjAJnLnHASxgN64TjDnftQswFmaSyXIBgH2QAA\n",
       "AABJRU5ErkJggg==\n",
       "\" style=\"display:inline;vertical-align:middle;\" /></a></td></tr>\n",
       "</table>\n"
      ],
      "text/plain": [
       "0. forall_{x} ((x in RealsPos) in BOOLEANS)\n",
       "   core type: Operation\n",
       "   operator: 1\n",
       "   operand: 2\n",
       "1. forall\n",
       "   core type: Literal\n",
       "   sub-expressions: \n",
       "2. x -> ((x in RealsPos) in BOOLEANS)\n",
       "   core type: Lambda\n",
       "   parameter: 9\n",
       "   body: 3\n",
       "3. (x in RealsPos) in BOOLEANS\n",
       "   core type: Operation\n",
       "   operator: 7\n",
       "   operands: 4\n",
       "4. (x in RealsPos , BOOLEANS)\n",
       "   core type: ExprTuple\n",
       "   sub-expressions: 5, 6\n",
       "5. x in RealsPos\n",
       "   core type: Operation\n",
       "   operator: 7\n",
       "   operands: 8\n",
       "6. BOOLEANS\n",
       "   core type: Literal\n",
       "   sub-expressions: \n",
       "7. in\n",
       "   core type: Literal\n",
       "   sub-expressions: \n",
       "8. (x , RealsPos)\n",
       "   core type: ExprTuple\n",
       "   sub-expressions: 9, 10\n",
       "9. x\n",
       "   core type: Variable\n",
       "   sub-expressions: \n",
       "10. RealsPos\n",
       "    core type: Literal\n",
       "    sub-expressions: "
      ]
     },
     "execution_count": 3,
     "metadata": {},
     "output_type": "execute_result"
    }
   ],
   "source": [
    "# display the expression information\n",
    "xInRealsPosInBool.exprInfo()"
   ]
  },
  {
   "cell_type": "code",
   "execution_count": null,
   "metadata": {},
   "outputs": [],
   "source": []
  }
 ],
 "metadata": {
  "kernelspec": {
   "display_name": "Python 3",
   "language": "python",
   "name": "python3"
  }
 },
 "nbformat": 4,
 "nbformat_minor": 0
}
