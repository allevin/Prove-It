{
 "cells": [
  {
   "cell_type": "markdown",
   "metadata": {},
   "source": [
    "Expression of type <a class=\"ProveItLink\" href=\"../../../../../../../doc/html/api/proveit.logic.InSet.html\">InSet</a>\n",
    "=======================\n",
    "# from context <a class=\"ProveItLink\" href=\"../../_context_.ipynb\">proveit.number.sets.real</a>"
   ]
  },
  {
   "cell_type": "code",
   "execution_count": 1,
   "metadata": {},
   "outputs": [],
   "source": [
    "# import Expression classes needed to build the expression\n",
    "from proveit._common_ import a\n",
    "from proveit.logic import Booleans, InSet\n",
    "from proveit.number import RealsNeg"
   ]
  },
  {
   "cell_type": "code",
   "execution_count": 2,
   "metadata": {},
   "outputs": [
    {
     "data": {
      "text/html": [
       "<strong id=\"expr\">expr:</strong> <a class=\"ProveItLink\" href=\"expr.ipynb\"><img src=\"data:image/png;base64,iVBORw0KGgoAAAANSUhEUgAAAHgAAAAaBAMAAACOdoWwAAAAMFBMVEX///+qqqp2dnYiIiJERESI\n",
       "iIhmZmYQEBDc3NyYmJgyMjLu7u5UVFTMzMy6uroAAACGxKilAAAAAXRSTlMAQObYZgAAAclJREFU\n",
       "OMtjYGB4x0AIMOGU4T1AUDNuJbs2ENTMEIpL4iRhvQzMDdjFOQqwCHKud/m1fCmCz4rmbqb1Xr+K\n",
       "HRkY2BKwGcnCcYDXcQUDowsQeDMwcP9Gl+cL2LVJgYH9AXbNCQzeLQi+JaZm1gcLGO4ji3FHGRsv\n",
       "gGnWZUFIpKDL8wUwTjjNEI6s+dZsJJuRNc9Hlwfa/MKB4RQo0I7qVYADzxvZ2aeRnP1+A5o8X8Dl\n",
       "KRsYfIDM5w0sH8BCDUia+SxXIDTfv4Amz2f8v5SBYRnQwJ8MbA4goS1IAVZsvBDJP/0P0OSBzg50\n",
       "YDBjYOD5wMAcABJ6bmwMD7C8BG8kzfsF0OT5AhgcHoE08zsw7Ac76w5yVOXdwbD5DrLNDA4sDGuA\n",
       "MgEM8gygENmMrJlr6wQkzWDDN6NrPgJ20ylGkCzPBCTNvAfOIoU2OKiQ5CHODmZg4JrAaAbOstx2\n",
       "yFGliAhcaDwjyfMFcKY6MLwHRXPclTiwWFcuPGN8ucDl9RGuWYsBRR6YMb6YHwSG1gXkJCazGBKa\n",
       "6GApdnkeBSLyM/cPHEWMARGaOR1wSDgSU5JcwCHRRYTmabgkGAl7msMBp9REgprZiChgSQYA/615\n",
       "USBdwhYAAAAASUVORK5CYII=\n",
       "\" style=\"display:inline;vertical-align:middle;\" /></a><br>"
      ],
      "text/plain": [
       "expr: (a in RealsNeg) in BOOLEANS"
      ]
     },
     "execution_count": 2,
     "metadata": {},
     "output_type": "execute_result"
    }
   ],
   "source": [
    "# build up the expression from sub-expressions\n",
    "expr = InSet(InSet(a, RealsNeg), Booleans)"
   ]
  },
  {
   "cell_type": "code",
   "execution_count": 3,
   "metadata": {},
   "outputs": [
    {
     "name": "stdout",
     "output_type": "stream",
     "text": [
      "Passed sanity check: built 'expr' is the same as the stored Expression.\n"
     ]
    }
   ],
   "source": [
    "# check that the built expression is the same as the stored expression\n",
    "%check_expr"
   ]
  },
  {
   "cell_type": "code",
   "execution_count": 4,
   "metadata": {},
   "outputs": [
    {
     "data": {
      "text/html": [
       "<table><tr><th>&nbsp;</th><th>core type</th><th>sub-expressions</th><th>expression</th></tr>\n",
       "<tr><td>0</td><td>Operation</td><td>operator:&nbsp;4<br>operands:&nbsp;1<br></td><td><a class=\"ProveItLink\" href=\"expr.ipynb\"><img src=\"data:image/png;base64,iVBORw0KGgoAAAANSUhEUgAAAHgAAAAaBAMAAACOdoWwAAAAMFBMVEX///+qqqp2dnYiIiJERESI\n",
       "iIhmZmYQEBDc3NyYmJgyMjLu7u5UVFTMzMy6uroAAACGxKilAAAAAXRSTlMAQObYZgAAAclJREFU\n",
       "OMtjYGB4x0AIMOGU4T1AUDNuJbs2ENTMEIpL4iRhvQzMDdjFOQqwCHKud/m1fCmCz4rmbqb1Xr+K\n",
       "HRkY2BKwGcnCcYDXcQUDowsQeDMwcP9Gl+cL2LVJgYH9AXbNCQzeLQi+JaZm1gcLGO4ji3FHGRsv\n",
       "gGnWZUFIpKDL8wUwTjjNEI6s+dZsJJuRNc9Hlwfa/MKB4RQo0I7qVYADzxvZ2aeRnP1+A5o8X8Dl\n",
       "KRsYfIDM5w0sH8BCDUia+SxXIDTfv4Amz2f8v5SBYRnQwJ8MbA4goS1IAVZsvBDJP/0P0OSBzg50\n",
       "YDBjYOD5wMAcABJ6bmwMD7C8BG8kzfsF0OT5AhgcHoE08zsw7Ac76w5yVOXdwbD5DrLNDA4sDGuA\n",
       "MgEM8gygENmMrJlr6wQkzWDDN6NrPgJ20ylGkCzPBCTNvAfOIoU2OKiQ5CHODmZg4JrAaAbOstx2\n",
       "yFGliAhcaDwjyfMFcKY6MLwHRXPclTiwWFcuPGN8ucDl9RGuWYsBRR6YMb6YHwSG1gXkJCazGBKa\n",
       "6GApdnkeBSLyM/cPHEWMARGaOR1wSDgSU5JcwCHRRYTmabgkGAl7msMBp9REgprZiChgSQYA/615\n",
       "USBdwhYAAAAASUVORK5CYII=\n",
       "\" style=\"display:inline;vertical-align:middle;\" /></a></td></tr>\n",
       "<tr><td>1</td><td>ExprTuple</td><td>2, 3</td><td><a class=\"ProveItLink\" href=\"../e0f12b98efdbeea432b1d7953378432de3c44f640/expr.ipynb\"><img src=\"data:image/png;base64,iVBORw0KGgoAAAANSUhEUgAAAGYAAAAaBAMAAAC3ETTrAAAAMFBMVEX///+qqqp2dnYiIiJERESI\n",
       "iIhmZmYQEBDc3NyYmJgyMjLu7u5UVFTMzMy6uroAAACGxKilAAAAAXRSTlMAQObYZgAAAbdJREFU\n",
       "OMtjYGB4x0AKUAARvAdI0nMHROzaQJIe1gAgcZKBNGDBwMBRgEWcc73Lr+VLUYSY1nv9KnYEMmIY\n",
       "GNgSsBnGwnGA13EFA6MLEHhDhfgCdm0ChsD+DQzsD7DrSWDwbkEV4gtgfbCAgYF5AsN9ZHHuKGPj\n",
       "BTA9uizoehgnnAY6zIEhHFn81mwkezD1sL5wAPr1A8MpEL8n6HkDkOLwRnbbaQy3XZ4CjBe+3ww+\n",
       "QC5fBYM/WLgBSQ+f5Qo0Pcb/S0Fp4C/DMiDVP4EhBSS8BSkMio0XMmC4LRDoNo5/DGZA7nkGBlOQ\n",
       "8HNjY3gY5CV4Y+hhcHgEDKePYD1fGLj/wtMSzG15d7DoYQHbswZIfmVg/MANFN6MrIdr6wTsev4y\n",
       "HAHbxrNAFijMMwFJD++Bs3D1G5DcxveDIRjIXckgnADKF9x2yGGtCA9G7s8QPZypkPh5D4qe0Leu\n",
       "4CTUlQtPo18ucHl9hOmpbwCl0S/mB0GJdQED/wVkR8sshoQbGuBrQLC5Ahh4FIjIM5xI7P0NDLwG\n",
       "JOqZAsSOROgJQGLbgvxNWtbmBOVRRgWS9EAS+0SS9GQzkAUALs1vTxDPIzYAAAAASUVORK5CYII=\n",
       "\" style=\"display:inline;vertical-align:middle;\" /></a></td></tr>\n",
       "<tr><td>2</td><td>Operation</td><td>operator:&nbsp;4<br>operands:&nbsp;5<br></td><td><a class=\"ProveItLink\" href=\"../50c4b439d39bdca61e32cfec8b6dc0b8da0bcd5d0/expr.ipynb\"><img src=\"data:image/png;base64,iVBORw0KGgoAAAANSUhEUgAAAD8AAAAPBAMAAAChCwpBAAAAMFBMVEX///8yMjKqqqrMzMzu7u4i\n",
       "IiJmZmaYmJhEREQQEBC6urp2dnaIiIhUVFTc3NwAAAD87Fq/AAAAAXRSTlMAQObYZgAAAMpJREFU\n",
       "GNNjYMAAhT/6BSceYMADGt4yWCg+YNDoAAIHrAqeMXD4NWCKsxwMDRWAKuA2wKLAsARhArICvju7\n",
       "5oHpFiQreJGsWPmA4wOI5niApGBpIZzH952BDazaA+HIl6GBCnAe7wcGVrCnV4aGwh25jAPhPf4G\n",
       "Bn8DEMMWyZtsiy/Aee8PMOgzgNS7IoeDyHE4z1+B4SITyAjeAiQFtrwGMB5jAVMYNzicopAUcCv0\n",
       "IYLhlMUpMOthMjyymhkk5BUwg1JXFOILFAAAon0+izZfArEAAAAASUVORK5CYII=\n",
       "\" style=\"display:inline;vertical-align:middle;\" /></a></td></tr>\n",
       "<tr><td>3</td><td>Literal</td><td></td><td><a class=\"ProveItLink\" href=\"../../../../../logic/boolean/__pv_it/46271c8230be96415d662709611f4ed2279d702b0/expr.ipynb\"><img src=\"data:image/png;base64,iVBORw0KGgoAAAANSUhEUgAAAA0AAAAOBAMAAAAGUYvhAAAAMFBMVEX///9mZmbMzMzc3NxUVFSY\n",
       "mJju7u6IiIi6urqqqqoiIiIQEBBEREQyMjJ2dnYAAAAQvcRZAAAAAXRSTlMAQObYZgAAAElJREFU\n",
       "CNdjePvn/u01ExgYGA60s117B6YZKngh9FSWBAjfBsxnWnoMRHet/10AkS+fA6F5OB5AaIYDqDRU\n",
       "PLCGgQFoz6ktExgAgLIl8DFvGtkAAAAASUVORK5CYII=\n",
       "\" style=\"display:inline;vertical-align:middle;\" /></a></td></tr>\n",
       "<tr><td>4</td><td>Literal</td><td></td><td><a class=\"ProveItLink\" href=\"../../../../../logic/set_theory/membership/__pv_it/088cbc857536a28d4119ad9639a84270ccb0545d0/expr.ipynb\"><img src=\"data:image/png;base64,iVBORw0KGgoAAAANSUhEUgAAAAwAAAAMBAMAAACkW0HUAAAALVBMVEX///+qqqpmZmZUVFQQEBC6\n",
       "urpERETc3NyYmJjMzMwiIiIyMjKIiIju7u4AAACYsrA9AAAAAXRSTlMAQObYZgAAADxJREFUCNdj\n",
       "YOA9vWrVBgaG2b0MQMCeCyIZ2ArA1DUwyRCyahVIyWQI7xaEYm4AU7xLIdxqTQgtvGvVBgCkcQ7e\n",
       "geM/tQAAAABJRU5ErkJggg==\n",
       "\" style=\"display:inline;vertical-align:middle;\" /></a></td></tr>\n",
       "<tr><td>5</td><td>ExprTuple</td><td>6, 7</td><td><a class=\"ProveItLink\" href=\"../83429a99e97a9b44037cca3704c3f9571416b59f0/expr.ipynb\"><img src=\"data:image/png;base64,iVBORw0KGgoAAAANSUhEUgAAAD4AAAAaBAMAAAAd0vJXAAAAMFBMVEX///+qqqp2dnYiIiJERESI\n",
       "iIhmZmYQEBDc3NyYmJgyMjLu7u5UVFTMzMy6uroAAACGxKilAAAAAXRSTlMAQObYZgAAAT9JREFU\n",
       "KM9jYGB4x4ALKIAI3gM45e+AiF0bcMqzBgCJkwy4gQUDA0cBEn/WF/9VVQEIfgwDA1sCsgaHHoYr\n",
       "Ug0MIi5AALR3/wYG9gco8m0MLDsc4FzmCQz3GdDkmS4g5NkcGMLxyXN+YDgFpDiO6lXA5XmQzOf7\n",
       "zeADpJ43sHyAyz+e1QCX5/3LsAyo/SfIIoh8u7GVAMI6jn8MZgwMPB8YmANg+p+xIIUn90eQPL8D\n",
       "w/4LMHm2twdQ9K9hYOgPYJBn2ACzf3UkkvxfhiPAUBJgOMV4gRsqf4fnAsL9PxiCGRi4JjCaMTHs\n",
       "N4D6X8AD2f/vQd6PuxLHsP0HOH58GZash/uAaQEDP9y0F5jxyxXAwKMA40zAlN/fwMBrgEd+ChA7\n",
       "whITlvRjC8RduJMXJyjtMCrglG8BkxNxymczEAQAwmxU4pwUzjgAAAAASUVORK5CYII=\n",
       "\" style=\"display:inline;vertical-align:middle;\" /></a></td></tr>\n",
       "<tr><td>6</td><td>Variable</td><td></td><td><a class=\"ProveItLink\" href=\"../../../../../__pv_it/07527342713064c87612d00d8557c53d53d5324a0/expr.ipynb\"><img src=\"data:image/png;base64,iVBORw0KGgoAAAANSUhEUgAAAAsAAAAJBAMAAAAWSsseAAAAMFBMVEX///8yMjKqqqrMzMzu7u4i\n",
       "IiJmZmaYmJhEREQQEBC6urp2dnaIiIhUVFTc3NwAAAD87Fq/AAAAAXRSTlMAQObYZgAAAEhJREFU\n",
       "CNdjYOC7s2seAwPDygccHxgY+L4zsDUwMPB+YGA9wMDA38Dgb8DA8P4Agz6DA4O/AsNFJgMGxgKm\n",
       "MG6gyjunLE4xAAAZTBA5TB6DCwAAAABJRU5ErkJggg==\n",
       "\" style=\"display:inline;vertical-align:middle;\" /></a></td></tr>\n",
       "<tr><td>7</td><td>Literal</td><td></td><td><a class=\"ProveItLink\" href=\"../ae6abf015b290ff2a5b5ccb58f19177a82c6074b0/expr.ipynb\"><img src=\"data:image/png;base64,iVBORw0KGgoAAAANSUhEUgAAABsAAAAOBAMAAAAs4XpOAAAAMFBMVEX///8iIiK6urp2dnbu7u5m\n",
       "ZmaqqqrMzMxUVFTc3NyIiIgQEBBEREQyMjKYmJgAAAA9nvXMAAAAAXRSTlMAQObYZgAAAF1JREFU\n",
       "CNdjePvn/N29Cxjg4MAMhprcCQw5Z4DAAcidysDjeQAhO5WBuQAflwNVseLbCQjubEHZBCSLpqry\n",
       "OCBzWdUbkLkMV9ahcCs4ClDsTTgJ4wG9cJzhzn2o2QB/7ytaZzHgkAAAAABJRU5ErkJggg==\n",
       "\" style=\"display:inline;vertical-align:middle;\" /></a></td></tr>\n",
       "</table>\n"
      ],
      "text/plain": [
       "0. (a in RealsNeg) in BOOLEANS\n",
       "   core type: Operation\n",
       "   operator: 4\n",
       "   operands: 1\n",
       "1. (a in RealsNeg , BOOLEANS)\n",
       "   core type: ExprTuple\n",
       "   sub-expressions: 2, 3\n",
       "2. a in RealsNeg\n",
       "   core type: Operation\n",
       "   operator: 4\n",
       "   operands: 5\n",
       "3. BOOLEANS\n",
       "   core type: Literal\n",
       "   sub-expressions: \n",
       "4. in\n",
       "   core type: Literal\n",
       "   sub-expressions: \n",
       "5. (a , RealsNeg)\n",
       "   core type: ExprTuple\n",
       "   sub-expressions: 6, 7\n",
       "6. a\n",
       "   core type: Variable\n",
       "   sub-expressions: \n",
       "7. RealsNeg\n",
       "   core type: Literal\n",
       "   sub-expressions: "
      ]
     },
     "execution_count": 4,
     "metadata": {},
     "output_type": "execute_result"
    }
   ],
   "source": [
    "# display the expression information\n",
    "expr.exprInfo()"
   ]
  },
  {
   "cell_type": "code",
   "execution_count": null,
   "metadata": {},
   "outputs": [],
   "source": []
  }
 ],
 "metadata": {
  "kernelspec": {
   "display_name": "Python 3",
   "language": "python",
   "name": "python3"
  }
 },
 "nbformat": 4,
 "nbformat_minor": 0
}
