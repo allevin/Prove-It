{
 "cells": [
  {
   "cell_type": "markdown",
   "metadata": {},
   "source": [
    "Show the Proof\n",
    "========"
   ]
  },
  {
   "cell_type": "code",
   "execution_count": 1,
   "metadata": {},
   "outputs": [
    {
     "data": {
      "text/html": [
       "<table><tr><th>&nbsp;</th><th>step type</th><th>requirements</th><th>statement</th></tr>\n",
       "<tr><td>0</td><td>specialization</td><td>1</td><td><span style=\"font-size:20px;\"> <a class=\"ProveItLink\" href=\"proof.ipynb\" style=\"text-decoration: none\">&#x22A2;&nbsp;</a><a class=\"ProveItLink\" href=\"../34c8c47c623da113a05d3d77a121066f8cf149320/expr.ipynb\"><img src=\"data:image/png;base64,iVBORw0KGgoAAAANSUhEUgAAAHgAAAAbBAMAAABFKlYVAAAAMFBMVEX///+qqqp2dnYiIiJERESI\n",
       "iIhmZmYQEBDc3NyYmJgyMjLu7u5UVFTMzMy6uroAAACGxKilAAAAAXRSTlMAQObYZgAAAeVJREFU\n",
       "OMutlDtIw1AUhv/Wtqav2MXNoa6CIAYUF0lFl9YhIio4FR+jIoiLUwcnFyuIi4MVUUsRWnwguFjR\n",
       "RUUouEnB4qKTVehQddCbRJvTmMfihcDlfPlyzj039wI2I2SNXyypyB6nKQ3mbWXzV05ztjJGzOgV\n",
       "7OWGhDHk5gyC3mz/x96OJrt1dTuz0Y/5COCJG33SxeWDkTQCmcxihn3E/6nnvHR6EEZjyViOI7ZU\n",
       "y4yev7K7lMIDjfnHBSH1K7e7NHlKz3nJkbzBGJXvN0hmKm/qOcv8LOKaTQ8mwMmr4mK07BtSdlnZ\n",
       "T8J56W4th0E2DZfhfpVDCSLzPWl5pvb5oYB6zgtfC8Au+4FCk3DJGY5Iw+aFLbKeFaWtR3UNGxLR\n",
       "xdqABTRJLPQkCLWGzcZjRD5TzgfhvATxUZbh+FTrKtKtmi3+yVykmSG6sM+mnpTa9EMq+46TRC7o\n",
       "uCpfsqkvrvQNgSSRg/lbTS4ndFwte1jOnOfflX+gl25Vq9bcn30mnJe80yLKcnBgtKrElmdqB6NS\n",
       "8EXfanIb6jg7GJXuc6BJWY2zQ422bKvd1I8dGPJAGLjAifVV5a+a3EIsZyf6rG8Er2gC2JluHi1Z\n",
       "yw0FE7AM+7FuBhxhW5cTTdGqrezJ4f/HNwiRf6Z2i1+cAAAAAElFTkSuQmCC\n",
       "\" style=\"display:inline;vertical-align:middle;\" /></a></span></td></tr>\n",
       "<tr><td>&nbsp;</td><td colspan=4 style=\"text-align:left\"><span style=\"font-size:20px;\"><a class=\"ProveItLink\" href=\"../../../../../__pv_it/530be409e3083890784cf1d7b28c9e67e90af9360/expr.ipynb\"><img src=\"data:image/png;base64,iVBORw0KGgoAAAANSUhEUgAAAAsAAAAJBAMAAAAWSsseAAAAKlBMVEX///9ERETMzMwQEBAiIiKY\n",
       "mJju7u5mZmaqqqpUVFSIiIh2dnbc3NwAAAA/vyDhAAAAAXRSTlMAQObYZgAAAENJREFUCNdjYDi9\n",
       "8sTyBQxsG1hdmR0YuBm4LnAoMLAxcAowgADzAjB1VoEhgYH1wFoGrgSG3gBhhlMMDImrs3cFMAAA\n",
       "t0YN+iTRa+sAAAAASUVORK5CYII=\n",
       "\" style=\"display:inline;vertical-align:middle;\" /></a> : <a class=\"ProveItLink\" href=\"../../../../../__pv_it/f8b9edf8e16034727f0aad55bb83e392c3db40d40/expr.ipynb\"><img src=\"data:image/png;base64,iVBORw0KGgoAAAANSUhEUgAAAAsAAAANBAMAAACN24kIAAAAMFBMVEX///+YmJhUVFQyMjIQEBBE\n",
       "REQiIiKqqqrMzMyIiIi6urrc3NxmZmZ2dnbu7u4AAADXeCicAAAAAXRSTlMAQObYZgAAAFhJREFU\n",
       "CNdj4LtzgWH/AwZerg8M8xkY2nkSGEIZGB6wTGD4ycDAUP+A4weQOszA6QCkbBhYFYDUIYb1AkDq\n",
       "6czzGxhA4BoQMyXwuQMptgusF4AU+8xTQBIAUqMVoSp/SLMAAAAASUVORK5CYII=\n",
       "\" style=\"display:inline;vertical-align:middle;\" /></a></span></td></tr><tr><td>1</td><td>theorem</td><td></td><td><span style=\"font-size:20px;\"> <a class=\"ProveItLink\" href=\"../../_proofs_/xInRealsPosInBool.ipynb\" style=\"text-decoration: none\">&#x22A2;&nbsp;</a><a class=\"ProveItLink\" href=\"../40e72cb7b8d22392d7781c0c3dc45f5376dafbce0/expr.ipynb\"><img src=\"data:image/png;base64,iVBORw0KGgoAAAANSUhEUgAAAK0AAAAbBAMAAAD8EhIYAAAAMFBMVEX///8QEBC6urrMzMxUVFRm\n",
       "ZmZERETc3NwyMjKqqqp2dnaIiIiYmJgiIiLu7u4AAAAU9Wx4AAAAAXRSTlMAQObYZgAAArFJREFU\n",
       "SMe1VU1oE1EQnmaT7NokSxAPghQUvBVpDjl4kS4tVPAgoaKXguwpVcQQL6kXcXtqpNoG/Dmoh4IH\n",
       "+wOlSBGlorlUD6IWBQXJ4p56UEqigdRCKc7b7Hv7drMvCwUH9svm+zZf5s0MswD7i8o+fhM5SkEc\n",
       "Ol5zAq1XwGcZdPcVPSJpgbQ6QyHEN7EiENfwsjrYaJVCiC98E4ipIsAGuXnPs9cY+CM5m/87Oe36\n",
       "rvr0+dbs5FfsaAILsUAIz6HPM+iIuKxJl6cgWi4fLqN/3X9YvV+dWcQi7gGU8Kus8+JBBgG+OSiU\n",
       "WL6paocvPFPwswag4H/G+GmUGhTcTr4wTYP6Pokz35ju09H3cRQNL2DNnk5M3OBNEmkKLE5+5PLl\n",
       "fJMNn07yJcf5hFcrn//uGQfDAXnp9KMxwsgFvg5n3TpE9sCr6/1SjXwZwJyHAcY9NdQc+Akfqn02\n",
       "U+R8I7UpcmePvtQEr66f+PGbDPVgBuA4qAbvq+QcmIM3cJcwm1zf+sxb7qPyH/DqWIe1B/h5E5dA\n",
       "ChKetqZyDlgw0maOmSbr22iuwPVzx6ejbzyCa6NOhriasgJ9AY5w+4LWYTTbkW+WzzdOSk/yVQ3C\n",
       "Lw2tZpw6aBTkJqiE2eJ9lV/u6eR2fbc6fYnX+BCuNmukxxniqO7Au0QDXoNnV6CvpA27C3UbvDqt\n",
       "wwDp5H1cERG4zeZ3ow0HduNp2d5Y6md+zhbc9jvz6+rou/7cmV/osX+8zZJotEG9srz4qk1dP8f2\n",
       "TiujXNphC9zw6rh3rh4ix563nyZtk9ISfbrJgMW9O6YRsC6UFYE+TW8Gew329jjDICzqxWBeZYff\n",
       "fDm2TO9PMQiLtwI+qQcuwwqFsPgiel9kgljZoBASyZxAWA+mHzLoHiUBL+uCPCoUusdFAR+z4L/F\n",
       "P6GtvwP/8ZbKAAAAAElFTkSuQmCC\n",
       "\" style=\"display:inline;vertical-align:middle;\" /></a></span></td></tr>\n",
       "<tr><td>&nbsp;</td><td colspan=4 style-\"text-align:left\"><a class=\"ProveItLink\" href=\"../../_proofs_/xInRealsPosInBool.ipynb\">proveit.number.sets.real.xInRealsPosInBool</a></td></tr></table>"
      ],
      "text/plain": [
       "<proveit._core_.proof._ShowProof at 0x7f94ebfa16a0>"
      ]
     },
     "execution_count": 1,
     "metadata": {},
     "output_type": "execute_result"
    }
   ],
   "source": [
    "import proveit\n",
    "%show_proof"
   ]
  },
  {
   "cell_type": "code",
   "execution_count": null,
   "metadata": {},
   "outputs": [],
   "source": []
  }
 ],
 "metadata": {
  "kernelspec": {
   "display_name": "Python 3",
   "language": "python",
   "name": "python3"
  }
 },
 "nbformat": 4,
 "nbformat_minor": 0
}
