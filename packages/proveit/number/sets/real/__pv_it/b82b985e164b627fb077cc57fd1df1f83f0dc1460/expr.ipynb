{
 "cells": [
  {
   "cell_type": "markdown",
   "metadata": {},
   "source": [
    "Expression of type <a class=\"ProveItLink\" href=\"../../../../../../../doc/html/api/proveit.ExprTuple.html\">ExprTuple</a>\n",
    "=======================\n",
    "# from context <a class=\"ProveItLink\" href=\"../../_context_.ipynb\">proveit.number.sets.real</a>"
   ]
  },
  {
   "cell_type": "code",
   "execution_count": 1,
   "metadata": {},
   "outputs": [],
   "source": [
    "# import Expression classes needed to build the expression\n",
    "from proveit import ExprTuple\n",
    "from proveit._common_ import x\n",
    "from proveit.logic import Booleans, InSet\n",
    "from proveit.number import RealsNeg"
   ]
  },
  {
   "cell_type": "code",
   "execution_count": 2,
   "metadata": {},
   "outputs": [
    {
     "data": {
      "text/html": [
       "<strong id=\"expr\">expr:</strong> <a class=\"ProveItLink\" href=\"expr.ipynb\"><img src=\"data:image/png;base64,iVBORw0KGgoAAAANSUhEUgAAAGcAAAAaBAMAAABY01/VAAAAMFBMVEX///+qqqp2dnYiIiJERESI\n",
       "iIhmZmYQEBDc3NyYmJgyMjLu7u5UVFTMzMy6uroAAACGxKilAAAAAXRSTlMAQObYZgAAAcRJREFU\n",
       "OMtjYGB4x0AKYAKTvAdI0gRRvmsDSZoYQkHESdL0MDA3MDBwFGCR4Fzv8mv5UlQxrS/rl5sIMDCw\n",
       "At3HloDNOBaOA7yOKxgYXYDAGyrm8JR7tRIDA/dvBgb2B9g1JTB4t6CKOTxliOMC0pYMDPdRJLYu\n",
       "NraCadJlwdAkyQMMtRQGhnCU8Fy5AWETFk1xIMvnMzCcAlJNMY1hASDxlg1IzjuN4TxeS5D/3m9g\n",
       "8AF6TYHTkt0AJO6B5Cc+yxVomh7bfwcZff8CwzJQymD9wHgByOV2QGgqNl7IgOG8UBEg3f+AwQyo\n",
       "loEHopqv2NgYFhB5Cd6Ymlj4FBgY9guANAHDPQAtGQKdl3cHiyYGB7BNa0D8/gsMoCDgNkDSxLV1\n",
       "Ag5NFxiOABNNQzwD6waUdAjUxHvgLFz9BmTnvW9gCGZgkJ/gztAKltz8ACnIFVkaoDzuz1BN00Ig\n",
       "8fSegWFL0CZViFM4ll2AJdgvF7i8PsI01TeAE6xzjQAo5TIw8F9AdjfjKUjooQG+BiQOMPXzKBCR\n",
       "hziR2Nw/gMFsQKImTlCcOhKhKQA554L800Vidp8G9rsCSXo4ICluIkma2EgsvOAAAPsccifpDyLS\n",
       "AAAAAElFTkSuQmCC\n",
       "\" style=\"display:inline;vertical-align:middle;\" /></a><br>"
      ],
      "text/plain": [
       "expr: (x in RealsNeg , BOOLEANS)"
      ]
     },
     "execution_count": 2,
     "metadata": {},
     "output_type": "execute_result"
    }
   ],
   "source": [
    "# build up the expression from sub-expressions\n",
    "expr = ExprTuple(InSet(x, RealsNeg), Booleans)"
   ]
  },
  {
   "cell_type": "code",
   "execution_count": 3,
   "metadata": {},
   "outputs": [
    {
     "name": "stdout",
     "output_type": "stream",
     "text": [
      "Passed sanity check: built 'expr' is the same as the stored Expression.\n"
     ]
    }
   ],
   "source": [
    "# check that the built expression is the same as the stored expression\n",
    "%check_expr"
   ]
  },
  {
   "cell_type": "code",
   "execution_count": 4,
   "metadata": {},
   "outputs": [
    {
     "data": {
      "text/html": [
       "<table><tr><th>&nbsp;</th><th>core type</th><th>sub-expressions</th><th>expression</th></tr>\n",
       "<tr><td>0</td><td>ExprTuple</td><td>1, 2</td><td><a class=\"ProveItLink\" href=\"expr.ipynb\"><img src=\"data:image/png;base64,iVBORw0KGgoAAAANSUhEUgAAAGcAAAAaBAMAAABY01/VAAAAMFBMVEX///+qqqp2dnYiIiJERESI\n",
       "iIhmZmYQEBDc3NyYmJgyMjLu7u5UVFTMzMy6uroAAACGxKilAAAAAXRSTlMAQObYZgAAAcRJREFU\n",
       "OMtjYGB4x0AKYAKTvAdI0gRRvmsDSZoYQkHESdL0MDA3MDBwFGCR4Fzv8mv5UlQxrS/rl5sIMDCw\n",
       "At3HloDNOBaOA7yOKxgYXYDAGyrm8JR7tRIDA/dvBgb2B9g1JTB4t6CKOTxliOMC0pYMDPdRJLYu\n",
       "NraCadJlwdAkyQMMtRQGhnCU8Fy5AWETFk1xIMvnMzCcAlJNMY1hASDxlg1IzjuN4TxeS5D/3m9g\n",
       "8AF6TYHTkt0AJO6B5Cc+yxVomh7bfwcZff8CwzJQymD9wHgByOV2QGgqNl7IgOG8UBEg3f+AwQyo\n",
       "loEHopqv2NgYFhB5Cd6Ymlj4FBgY9guANAHDPQAtGQKdl3cHiyYGB7BNa0D8/gsMoCDgNkDSxLV1\n",
       "Ag5NFxiOABNNQzwD6waUdAjUxHvgLFz9BmTnvW9gCGZgkJ/gztAKltz8ACnIFVkaoDzuz1BN00Ig\n",
       "8fSegWFL0CZViFM4ll2AJdgvF7i8PsI01TeAE6xzjQAo5TIw8F9AdjfjKUjooQG+BiQOMPXzKBCR\n",
       "hziR2Nw/gMFsQKImTlCcOhKhKQA554L800Vidp8G9rsCSXo4ICluIkma2EgsvOAAAPsccifpDyLS\n",
       "AAAAAElFTkSuQmCC\n",
       "\" style=\"display:inline;vertical-align:middle;\" /></a></td></tr>\n",
       "<tr><td>1</td><td>Operation</td><td>operator:&nbsp;3<br>operands:&nbsp;4<br></td><td><a class=\"ProveItLink\" href=\"../e1233146f0e5833291501bcb8da21c837ee313ad0/expr.ipynb\"><img src=\"data:image/png;base64,iVBORw0KGgoAAAANSUhEUgAAAEAAAAAPBAMAAACmSdRUAAAAMFBMVEX///+6uroyMjJERETMzMwQ\n",
       "EBAiIiKYmJju7u5mZmaqqqpUVFSIiIh2dnbc3NwAAAAWgogoAAAAAXRSTlMAQObYZgAAAMhJREFU\n",
       "GNNjYMAA7PrGn1R1GPAAZr4NLFZ6DFzGQGCBXcEEBovHmOIch9LSFGAKrjBjKnCqQDIBScHb069O\n",
       "HgDSfBbIVuyAW8FxgT2dNQEk/ABJAWO6HozHy8DzgcsByGhGcmRYmhbCaQzcBmCGaFoa3JETJyB7\n",
       "j/UAmPJG9uZEbyQF7x0YGoBUG7ICpp4CeMA+OM/AA1LAXYCkgGXDFhhvfYEpwxuwYxKRvXkL7qnm\n",
       "s713IHofTYFH1mcHJqNfmEG5Wg3iCxQAACbUNKv+jFLzAAAAAElFTkSuQmCC\n",
       "\" style=\"display:inline;vertical-align:middle;\" /></a></td></tr>\n",
       "<tr><td>2</td><td>Literal</td><td></td><td><a class=\"ProveItLink\" href=\"../../../../../logic/boolean/__pv_it/46271c8230be96415d662709611f4ed2279d702b0/expr.ipynb\"><img src=\"data:image/png;base64,iVBORw0KGgoAAAANSUhEUgAAAA0AAAAOBAMAAAAGUYvhAAAAMFBMVEX///9mZmbMzMzc3NxUVFSY\n",
       "mJju7u6IiIi6urqqqqoiIiIQEBBEREQyMjJ2dnYAAAAQvcRZAAAAAXRSTlMAQObYZgAAAElJREFU\n",
       "CNdjePvn/u01ExgYGA60s117B6YZKngh9FSWBAjfBsxnWnoMRHet/10AkS+fA6F5OB5AaIYDqDRU\n",
       "PLCGgQFoz6ktExgAgLIl8DFvGtkAAAAASUVORK5CYII=\n",
       "\" style=\"display:inline;vertical-align:middle;\" /></a></td></tr>\n",
       "<tr><td>3</td><td>Literal</td><td></td><td><a class=\"ProveItLink\" href=\"../../../../../logic/set_theory/membership/__pv_it/088cbc857536a28d4119ad9639a84270ccb0545d0/expr.ipynb\"><img src=\"data:image/png;base64,iVBORw0KGgoAAAANSUhEUgAAAAwAAAAMBAMAAACkW0HUAAAALVBMVEX///+qqqpmZmZUVFQQEBC6\n",
       "urpERETc3NyYmJjMzMwiIiIyMjKIiIju7u4AAACYsrA9AAAAAXRSTlMAQObYZgAAADxJREFUCNdj\n",
       "YOA9vWrVBgaG2b0MQMCeCyIZ2ArA1DUwyRCyahVIyWQI7xaEYm4AU7xLIdxqTQgtvGvVBgCkcQ7e\n",
       "geM/tQAAAABJRU5ErkJggg==\n",
       "\" style=\"display:inline;vertical-align:middle;\" /></a></td></tr>\n",
       "<tr><td>4</td><td>ExprTuple</td><td>5, 6</td><td><a class=\"ProveItLink\" href=\"../8248694d770856bd48c76c64d4ff048df5454df10/expr.ipynb\"><img src=\"data:image/png;base64,iVBORw0KGgoAAAANSUhEUgAAAEAAAAAaBAMAAAD1Ukd8AAAAMFBMVEX///+qqqp2dnYiIiJERESI\n",
       "iIhmZmYQEBDc3NyYmJgyMjLu7u5UVFTMzMy6uroAAACGxKilAAAAAXRSTlMAQObYZgAAAT1JREFU\n",
       "KM9jYGB4x4ATKIAI3gO4FdwBEbs24FbAGgAkTjLgARYMDBwFyAKzvvivqgpA8GMYGNgSULQ49DBc\n",
       "kWpgEHEBAqDd+zcwsD9AVdDGwLLDAc5lnsBwnwFdAdMFhAI2B4ZwvAo4PzCcAlIcqidEU+EKeJCs\n",
       "4PvN4AOkNjFMnlAMV/B4VgNcAe9fhmXgEI1nkIUqaDe2EkDYyPGPwQxIbWA4gnDDMxakoOX+CFbA\n",
       "wFCKUMD29gCKCWvA9F8GbrgbVkciKfgLNnwG6weGaIgSoII7PBcQvvjBEMzAwPiTpYAjgGG/ATQc\n",
       "BDyQw+E90CWu2kpAY7f/AEeWL8OS9XB/MC1g4EeY9wIzurkCGHgU4LwJmAr2NzDwGuBTMAWIHeHp\n",
       "C0uKsgXiLjwpjhOUmhgVcCtoAZMTcSvIZiAMAMNuUUgjw72ZAAAAAElFTkSuQmCC\n",
       "\" style=\"display:inline;vertical-align:middle;\" /></a></td></tr>\n",
       "<tr><td>5</td><td>Variable</td><td></td><td><a class=\"ProveItLink\" href=\"../../../../../__pv_it/530be409e3083890784cf1d7b28c9e67e90af9360/expr.ipynb\"><img src=\"data:image/png;base64,iVBORw0KGgoAAAANSUhEUgAAAAsAAAAJBAMAAAAWSsseAAAAKlBMVEX///9ERETMzMwQEBAiIiKY\n",
       "mJju7u5mZmaqqqpUVFSIiIh2dnbc3NwAAAA/vyDhAAAAAXRSTlMAQObYZgAAAENJREFUCNdjYDi9\n",
       "8sTyBQxsG1hdmR0YuBm4LnAoMLAxcAowgADzAjB1VoEhgYH1wFoGrgSG3gBhhlMMDImrs3cFMAAA\n",
       "t0YN+iTRa+sAAAAASUVORK5CYII=\n",
       "\" style=\"display:inline;vertical-align:middle;\" /></a></td></tr>\n",
       "<tr><td>6</td><td>Literal</td><td></td><td><a class=\"ProveItLink\" href=\"../ae6abf015b290ff2a5b5ccb58f19177a82c6074b0/expr.ipynb\"><img src=\"data:image/png;base64,iVBORw0KGgoAAAANSUhEUgAAABsAAAAOBAMAAAAs4XpOAAAAMFBMVEX///8iIiK6urp2dnbu7u5m\n",
       "ZmaqqqrMzMxUVFTc3NyIiIgQEBBEREQyMjKYmJgAAAA9nvXMAAAAAXRSTlMAQObYZgAAAF1JREFU\n",
       "CNdjePvn/N29Cxjg4MAMhprcCQw5Z4DAAcidysDjeQAhO5WBuQAflwNVseLbCQjubEHZBCSLpqry\n",
       "OCBzWdUbkLkMV9ahcCs4ClDsTTgJ4wG9cJzhzn2o2QB/7ytaZzHgkAAAAABJRU5ErkJggg==\n",
       "\" style=\"display:inline;vertical-align:middle;\" /></a></td></tr>\n",
       "</table>\n"
      ],
      "text/plain": [
       "0. (x in RealsNeg , BOOLEANS)\n",
       "   core type: ExprTuple\n",
       "   sub-expressions: 1, 2\n",
       "1. x in RealsNeg\n",
       "   core type: Operation\n",
       "   operator: 3\n",
       "   operands: 4\n",
       "2. BOOLEANS\n",
       "   core type: Literal\n",
       "   sub-expressions: \n",
       "3. in\n",
       "   core type: Literal\n",
       "   sub-expressions: \n",
       "4. (x , RealsNeg)\n",
       "   core type: ExprTuple\n",
       "   sub-expressions: 5, 6\n",
       "5. x\n",
       "   core type: Variable\n",
       "   sub-expressions: \n",
       "6. RealsNeg\n",
       "   core type: Literal\n",
       "   sub-expressions: "
      ]
     },
     "execution_count": 4,
     "metadata": {},
     "output_type": "execute_result"
    }
   ],
   "source": [
    "# display the expression information\n",
    "expr.exprInfo()"
   ]
  },
  {
   "cell_type": "code",
   "execution_count": null,
   "metadata": {},
   "outputs": [],
   "source": []
  }
 ],
 "metadata": {
  "kernelspec": {
   "display_name": "Python 3",
   "language": "python",
   "name": "python3"
  }
 },
 "nbformat": 4,
 "nbformat_minor": 0
}
