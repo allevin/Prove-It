{
 "cells": [
  {
   "cell_type": "markdown",
   "metadata": {},
   "source": [
    "Show the Proof\n",
    "========"
   ]
  },
  {
   "cell_type": "code",
   "execution_count": 1,
   "metadata": {},
   "outputs": [
    {
     "data": {
      "text/html": [
       "<table><tr><th>&nbsp;</th><th>step type</th><th>requirements</th><th>statement</th></tr>\n",
       "<tr><td>0</td><td>specialization</td><td>1</td><td><span style=\"font-size:20px;\"> <a class=\"ProveItLink\" href=\"proof.ipynb\" style=\"text-decoration: none\">&#x22A2;&nbsp;</a><a class=\"ProveItLink\" href=\"../85d3ce890b7ecada1e5bb4ef8edaa91bdd34283c0/expr.ipynb\"><img src=\"data:image/png;base64,iVBORw0KGgoAAAANSUhEUgAAAGkAAAAVBAMAAAC3TN2zAAAAMFBMVEX////c3NwiIiJERESqqqqY\n",
       "mJh2dnZmZmYQEBDu7u4yMjJUVFTMzMyIiIi6uroAAAAs73DqAAAAAXRSTlMAQObYZgAAAZ5JREFU\n",
       "OMtjYCAP8F3ALcf6AJfMaWyq1xv/WrEWyKhBk8j6vH6FsgOQsRKbUcyMG3hMFjIwcKFLGLzlXJnG\n",
       "wMB7AbuuAgZLYaClCRi6GO4BjeKYgCw4d5GSFkxXDjMDA2cDqjhIlyv3BIZXyJp4lk5A2AXSxWCC\n",
       "Kg62C+iGMiBT7LbIdbBDhScguXAnUJYhnQFFHKiLR9WSgWEp0BkJrKocCiAxQyR/8akCQ4PBiwFF\n",
       "nMHgkf4PoAV9DAxsDLwfWA4AhTgNELqalJaAGC8YUMRBLrzrzMDwDyjIwA0R5mtSUoKFRl2BJYhx\n",
       "HlUcpIuZLwGkCxiQkODn2YDkwrrTcF0IcbAuBgOGFhBb/gADyL+cCki6uOYGwF2ogK7LFBiVAvcZ\n",
       "eMGhtBVJF8+GPUBGFAOKOMyFwKD1D7BgkAWLTXqAFPIpzAKwkIeLg3SFX2ZgeMTAMPnatNwAsBjj\n",
       "8gOw1Pv5AJfVFwaGdSjioNRr1A1MvRwCyImDZRc0rKAAlqLQxTHSJwpgw5X5VuLTNQuXhDQ+XRtx\n",
       "STDiKQF4D2AXBwBM8m07Yqj1WAAAAABJRU5ErkJggg==\n",
       "\" style=\"display:inline;vertical-align:middle;\" /></a></span></td></tr>\n",
       "<tr><td>&nbsp;</td><td colspan=4 style=\"text-align:left\"><span style=\"font-size:20px;\"><a class=\"ProveItLink\" href=\"../../../../../__pv_it/530be409e3083890784cf1d7b28c9e67e90af9360/expr.ipynb\"><img src=\"data:image/png;base64,iVBORw0KGgoAAAANSUhEUgAAAAsAAAAJBAMAAAAWSsseAAAAKlBMVEX///9ERETMzMwQEBAiIiKY\n",
       "mJju7u5mZmaqqqpUVFSIiIh2dnbc3NwAAAA/vyDhAAAAAXRSTlMAQObYZgAAAENJREFUCNdjYDi9\n",
       "8sTyBQxsG1hdmR0YuBm4LnAoMLAxcAowgADzAjB1VoEhgYH1wFoGrgSG3gBhhlMMDImrs3cFMAAA\n",
       "t0YN+iTRa+sAAAAASUVORK5CYII=\n",
       "\" style=\"display:inline;vertical-align:middle;\" /></a> : <a class=\"ProveItLink\" href=\"../../../../../__pv_it/530be409e3083890784cf1d7b28c9e67e90af9360/expr.ipynb\"><img src=\"data:image/png;base64,iVBORw0KGgoAAAANSUhEUgAAAAsAAAAJBAMAAAAWSsseAAAAKlBMVEX///9ERETMzMwQEBAiIiKY\n",
       "mJju7u5mZmaqqqpUVFSIiIh2dnbc3NwAAAA/vyDhAAAAAXRSTlMAQObYZgAAAENJREFUCNdjYDi9\n",
       "8sTyBQxsG1hdmR0YuBm4LnAoMLAxcAowgADzAjB1VoEhgYH1wFoGrgSG3gBhhlMMDImrs3cFMAAA\n",
       "t0YN+iTRa+sAAAAASUVORK5CYII=\n",
       "\" style=\"display:inline;vertical-align:middle;\" /></a></span></td></tr><tr><td>1</td><td>theorem</td><td></td><td><span style=\"font-size:20px;\"> <a class=\"ProveItLink\" href=\"../../_proofs_/xInRealsInBool.ipynb\" style=\"text-decoration: none\">&#x22A2;&nbsp;</a><a class=\"ProveItLink\" href=\"../3447f3f9935bd34f0fb1db3b733d11710ba9565c0/expr.ipynb\"><img src=\"data:image/png;base64,iVBORw0KGgoAAAANSUhEUgAAAJoAAAAVBAMAAABMN+opAAAAMFBMVEX///8QEBC6urrMzMxUVFRm\n",
       "ZmZERETc3NwyMjKqqqp2dnaIiIiYmJgiIiLu7u4AAAAU9Wx4AAAAAXRSTlMAQObYZgAAAi5JREFU\n",
       "OMtjYKAqeIAhwrQBgnEBHgXc4hdAjNPIoiZQjKG6P+1HYzeQEYwmseJbf+O1CWDxlSB+H7JkH7oA\n",
       "DLCxOzBntjMwcKBLJGjz9a0Ci5cBeewJSFLcGyAYm2kBDHlA9TwLMExj2MQBFucABhzrBCQpxgcQ\n",
       "jACve+/egJm2mI2BgU8AVRxk2hyWByBxnuXl5bXIejWgGA6Yex4g3AYyjSETVRzstjKI+Le0tFvI\n",
       "mqOguGpL5Vawh8seIPnUD6RrKQOKONA05jt5EHFnBoZ0ZNN6IJhvAc8dRnCEpyOFG9MdYCwwzGBA\n",
       "EWdI0L3/cQNEXIWBrwHZNCEI5mLg/sBpAGTzJSBMk73bCWIoMqCIg3y6expEnJeB+wCyaZ8gmI+B\n",
       "BaKcSfbuXVgsBAWAPMRgjyoOMo2NaQFYnPsA7wMspgEjFpJMmB2QfBpkAjcNIQ42jSEBLM7XAFKx\n",
       "2mmLAURKEooZ6g3A2Y7vApJpHK8PwH16AcM0kHi6EzCUHrgxQhNdDgTzFOxn4AY72gfJNGYHYKQx\n",
       "nGBAEYf7FCQ+FWgJEzgqwWApBM8/kMhQDRZ4q4CUQlayFcBSCFwcZNrRbVCtkPD5DpPSheBnu16t\n",
       "hsQOe6sBLNd/M+DI+MnA0IQiDsr1uSIgn4HEeUD+YRZghuWsAghGAE4PaNxBASxn4RJnsOdq4IIV\n",
       "PAuw5GsUwLWBgPizndHrCJZIMPCCFPESKMYJ3EkRZ98AwbgAtwFOcQDMa6IupVdXtgAAAABJRU5E\n",
       "rkJggg==\n",
       "\" style=\"display:inline;vertical-align:middle;\" /></a></span></td></tr>\n",
       "<tr><td>&nbsp;</td><td colspan=4 style-\"text-align:left\"><a class=\"ProveItLink\" href=\"../../_proofs_/xInRealsInBool.ipynb\">proveit.number.sets.real.xInRealsInBool</a></td></tr></table>"
      ],
      "text/plain": [
       "<proveit._core_.proof._ShowProof at 0x7f94ead79da0>"
      ]
     },
     "execution_count": 1,
     "metadata": {},
     "output_type": "execute_result"
    }
   ],
   "source": [
    "import proveit\n",
    "%show_proof"
   ]
  },
  {
   "cell_type": "code",
   "execution_count": null,
   "metadata": {},
   "outputs": [],
   "source": []
  }
 ],
 "metadata": {
  "kernelspec": {
   "display_name": "Python 3",
   "language": "python",
   "name": "python3"
  }
 },
 "nbformat": 4,
 "nbformat_minor": 0
}
