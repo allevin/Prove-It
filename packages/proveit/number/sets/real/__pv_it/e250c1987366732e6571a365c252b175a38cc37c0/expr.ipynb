{
 "cells": [
  {
   "cell_type": "markdown",
   "metadata": {},
   "source": [
    "Theorem <a class=\"ProveItLink\" href=\"../../_theorems_.ipynb#xInRealsNegInBool\">xInRealsNegInBool</a> of type <a class=\"ProveItLink\" href=\"../../../../../../../doc/html/api/proveit.logic.Forall.html\">Forall</a>\n",
    "=======================\n",
    "# from context <a class=\"ProveItLink\" href=\"../../_context_.ipynb\">proveit.number.sets.real</a>\n",
    "*** see <a class=\"ProveItLink\" href=\"dependencies.ipynb\">dependencies</a> ***"
   ]
  },
  {
   "cell_type": "code",
   "execution_count": 1,
   "metadata": {},
   "outputs": [],
   "source": [
    "# import the special expression\n",
    "from proveit.number.sets.real._theorems_ import xInRealsNegInBool"
   ]
  },
  {
   "cell_type": "code",
   "execution_count": 2,
   "metadata": {},
   "outputs": [
    {
     "name": "stdout",
     "output_type": "stream",
     "text": [
      "Passed sanity check: built 'xInRealsNegInBool' is the same as the stored Expression.\n"
     ]
    }
   ],
   "source": [
    "# check that the built expression is the same as the stored expression\n",
    "%check_expr xInRealsNegInBool"
   ]
  },
  {
   "cell_type": "code",
   "execution_count": 3,
   "metadata": {},
   "outputs": [
    {
     "data": {
      "text/html": [
       "<table><tr><th>&nbsp;</th><th>core type</th><th>sub-expressions</th><th>expression</th></tr>\n",
       "<tr><td>0</td><td>Operation</td><td>operator:&nbsp;1<br>operand:&nbsp;2<br></td><td><a class=\"ProveItLink\" href=\"expr.ipynb\"><img src=\"data:image/png;base64,iVBORw0KGgoAAAANSUhEUgAAAK0AAAAaBAMAAAA3TsG9AAAAMFBMVEX///8QEBC6urrMzMxUVFRm\n",
       "ZmZERETc3NwyMjKqqqp2dnaIiIiYmJgiIiLu7u4AAAAU9Wx4AAAAAXRSTlMAQObYZgAAAp1JREFU\n",
       "SMe1VUFoE0EU/U02u3GTLEE8CCIo6mkpzSGIF2moUMFTQPRSkAUhOYiagm29SNeLCGoaUIuoh96s\n",
       "LZQiRZSK5lItiFoUVKSLe6oglEQDKYIUZ5KZ2dnZnezJB/uyeW/z98//nx+AIGL7KPXGjETXJXqe\n",
       "UW/IHokXQmWjSikCqUWJsYwuN6AqdUpR+CLRMxWANXzzlldHGYlYbV+8vptLcknwZ9tTVz/X0EFQ\n",
       "IR5jwXfoU4wCsC7B4XsVmC4hoIM2xMNaplGdQ0XcBhhHXzWLN3cyCsYdA/WH93CmHogLT5Locx0g\n",
       "id6ZqPHdbFLyOvnMcWwSV895cROW6JvwUEEBTwOkH01MXPF1OUuJ4ch7L18+brop+ihfXIAP6GqX\n",
       "St9842AT0uaPPxjBinaBq4PC1SG2DYJvxtfxlwGU8zGAMh9XLRD6Ce/qeztKhYvbv1rxStYCwe//\n",
       "/gvPy2AO4CAYNh83WSQ0A6/gNlY2vL6MOl+5Xmi/QfBNWJ5Gn5NoCWQg5WtrpkjIheGust9xWN8O\n",
       "qdxsGX9E3wQ1htZGAw9xPeOGxgXYI+4BayxxoBDIN8/nq4LVzdewsT4/tJQjdShQ0lpgYGWTn9/q\n",
       "Cy5ut76bwbg4VnkIrTZ3uI8UTrEIvUk14SX4dgWKm1dy3jxsgeCTOgzgTt5FKyIGN9n8rnVpx181\n",
       "q3WWgfGRi6vXyuL8cr4JK0/J/EJf58dbLIlml4xzC3PkzJdPsr1zFq5NsYnQbb+P9s75Xdid7bwV\n",
       "ty2ejdOnW4wY7txy7JB1kVyU+DfozaBus3+PE4yi0KiE6wY7/MbzkQV6f5RRFF5L9LQVpqo1SlH4\n",
       "JPu/yIWpmk0pAumixFgJl+8z6o1xia5ZkjxqlHrjjERPuPDf8A8W9MQhcCObVQAAAABJRU5ErkJg\n",
       "gg==\n",
       "\" style=\"display:inline;vertical-align:middle;\" /></a></td></tr>\n",
       "<tr><td>1</td><td>Literal</td><td></td><td><a class=\"ProveItLink\" href=\"../../../../../logic/boolean/quantification/universal/__pv_it/265f8c02ac1094d56e0e6410a1c1fd3500dc9f540/expr.ipynb\"><img src=\"data:image/png;base64,iVBORw0KGgoAAAANSUhEUgAAAAwAAAAQBAMAAADQT4M0AAAAMFBMVEX///8QEBC6urrMzMxUVFRm\n",
       "ZmZERETc3NwyMjKqqqp2dnaIiIiYmJgiIiLu7u4AAAAU9Wx4AAAAAXRSTlMAQObYZgAAAFhJREFU\n",
       "CNdjeMAABhdAxGmGlSCqj6EMSLInMHAAJVknMPAsLy+vBYp8S0u7BaScGRjSgZQKA18DkOJl4D4A\n",
       "pLgP8IJM4mswARuX7gSmpoKNZWDcAKZ4gCoAgTQTILaSE58AAAAASUVORK5CYII=\n",
       "\" style=\"display:inline;vertical-align:middle;\" /></a></td></tr>\n",
       "<tr><td>2</td><td>Lambda</td><td>parameter:&nbsp;9<br>body:&nbsp;3<br></td><td><a class=\"ProveItLink\" href=\"../891ab3fe34bff14d920871b16df608790ec7d4be0/expr.ipynb\"><img src=\"data:image/png;base64,iVBORw0KGgoAAAANSUhEUgAAALkAAAAaCAMAAADc+w0uAAAANlBMVEX///+6uroUFBQNDQ0yMjJE\n",
       "RETMzMwQEBAiIiKYmJju7u5mZmaqqqpUVFSIiIh2dnbc3NwAAACltDI1AAAAAXRSTlMAQObYZgAA\n",
       "AkFJREFUWMPNl9mSozAMRe0Zyfv6/z87dggdG8kN3RRVc19yK+GAEJJQhPi5pKTuhvLjwC4Vqbuj\n",
       "H5/lt5d14Ii7p5SeBjZFS91NmfI00FU0dWeyUBErgAY+Wenk8efGQwVtMFwDWHlP3blQlHYxhQF6\n",
       "tgLu2srNVXfKy9SrM+eLACMtqbsUeb9PdAXZp2+vRC6SFHARYPq6Usd0cQLTBMfIsxJs5B5P+R55\n",
       "sCI6FrjS1po6entgHZvzVeS2nvJbzvdHtgElp1hC8l/dAxMUwjRZ4OgILgq6RbXERbXIqW5ZvkWu\n",
       "jN1/eQGuFb1tdaPNV9UdxuB4HowHR3GBZVHn0lgofA2q8WCOl8bUqtMI9G5NLflBLSJ3cTgT+IOj\n",
       "uEO2Q3Uv3LAYtXXodp5/VUsKOAA9o3E6+O8fM0kP5zX+4Cgu9Q7OHSq9wMUwczWc8T3y/pFnQE9v\n",
       "CHN8aw4JIZFTnFsrXtXi5WrjmHLO8+/I3x2+A+VVZm4RuR/LDiJ1B9yZ1TwHl+wi8qHOef4YeQNs\n",
       "edWpSIvI1ZTQT2G8HcW5fWaLvGUzKn62FHYzWlZLB0K1AttoLp8A5+ViLs1kZsfgLWlyMRVz4AbH\n",
       "cZ6zfI/c+jTMc4cpt3UgXXydyjo7Fi/gFd24sH0HbXMK3EolvuO3jQuNjoEHLulTkVWtjwoRptlw\n",
       "IrJDnvHwiw09ZuruytXyMPBqWEPdXVl8GtiaJVB39z+Rehp4tw91N1Punwb27snU3VHBp4HPLQfq\n",
       "bsi7p4H/TP8ApnQZrnMGqYYAAAAASUVORK5CYII=\n",
       "\" style=\"display:inline;vertical-align:middle;\" /></a></td></tr>\n",
       "<tr><td>3</td><td>Operation</td><td>operator:&nbsp;7<br>operands:&nbsp;4<br></td><td><a class=\"ProveItLink\" href=\"../e51252a294a77f9ffa13161c511970c0c371f9000/expr.ipynb\"><img src=\"data:image/png;base64,iVBORw0KGgoAAAANSUhEUgAAAHkAAAAaBAMAAABhtO6OAAAAMFBMVEX///+qqqp2dnYiIiJERESI\n",
       "iIhmZmYQEBDc3NyYmJgyMjLu7u5UVFTMzMy6uroAAACGxKilAAAAAXRSTlMAQObYZgAAAd5JREFU\n",
       "OMtjYGB4x0AQKOCU4T1AWPcdnDK7NhDWzRqAS+YkAxHAAoc4RwE20Vlf/FdVIVkYgyav9WX9chMB\n",
       "Bga2BKyGOvQwXJFqYBBxAQKg1/aje8/hKfdqJQYG9gfYdbcxsOxwgHOZJ2DoZojjYmC4jyLIHWVs\n",
       "vACqm+kCQjcblLl1sbEVTLckzwaGcBTdt2Yj7EbWzfkBErsrNyDZ3cLAcAoUcqonRFPBQeiN5HIe\n",
       "JJfz/QZTLRsQLue1BCr2ATI3MUyeUAwSY2lA0v14VgMiSf0FUx4Ifz+2/w6Mk2XghBjPIAsS24KQ\n",
       "bTe2EkCK13/gUHFADrVQEQYGMyBzA8MRiNhzY2N4qD1jQYol7o9g9xcDpeGhxsKnANbNwFCKnp4d\n",
       "2tjeHkC3GylLgHQzODCsAUv+ZeAG0ZuR43t1JJJusL+5DdB1g9w8g/UDQzRIjGcCku47PBcQYf4D\n",
       "LU9AXR7MwMD4k6WAA5youe2QdDMJeKDH9+YHSLqnhTAwvAfqcdVWgrqyKxeeS3wZlqyHhzrTAogH\n",
       "ll2A5xLnGqAs/wWUxCazGBLmaIALmt8YT0HDHAp4FIjJ3/sbcBRMBsTonoJLwpEY3ba4JLqI0MyZ\n",
       "gEuGkQiPt+CWmkhYdzYDLQAAGF9/CFz036cAAAAASUVORK5CYII=\n",
       "\" style=\"display:inline;vertical-align:middle;\" /></a></td></tr>\n",
       "<tr><td>4</td><td>ExprTuple</td><td>5, 6</td><td><a class=\"ProveItLink\" href=\"../b82b985e164b627fb077cc57fd1df1f83f0dc1460/expr.ipynb\"><img src=\"data:image/png;base64,iVBORw0KGgoAAAANSUhEUgAAAGcAAAAaBAMAAABY01/VAAAAMFBMVEX///+qqqp2dnYiIiJERESI\n",
       "iIhmZmYQEBDc3NyYmJgyMjLu7u5UVFTMzMy6uroAAACGxKilAAAAAXRSTlMAQObYZgAAAcRJREFU\n",
       "OMtjYGB4x0AKYAKTvAdI0gRRvmsDSZoYQkHESdL0MDA3MDBwFGCR4Fzv8mv5UlQxrS/rl5sIMDCw\n",
       "At3HloDNOBaOA7yOKxgYXYDAGyrm8JR7tRIDA/dvBgb2B9g1JTB4t6CKOTxliOMC0pYMDPdRJLYu\n",
       "NraCadJlwdAkyQMMtRQGhnCU8Fy5AWETFk1xIMvnMzCcAlJNMY1hASDxlg1IzjuN4TxeS5D/3m9g\n",
       "8AF6TYHTkt0AJO6B5Cc+yxVomh7bfwcZff8CwzJQymD9wHgByOV2QGgqNl7IgOG8UBEg3f+AwQyo\n",
       "loEHopqv2NgYFhB5Cd6Ymlj4FBgY9guANAHDPQAtGQKdl3cHiyYGB7BNa0D8/gsMoCDgNkDSxLV1\n",
       "Ag5NFxiOABNNQzwD6waUdAjUxHvgLFz9BmTnvW9gCGZgkJ/gztAKltz8ACnIFVkaoDzuz1BN00Ig\n",
       "8fSegWFL0CZViFM4ll2AJdgvF7i8PsI01TeAE6xzjQAo5TIw8F9AdjfjKUjooQG+BiQOMPXzKBCR\n",
       "hziR2Nw/gMFsQKImTlCcOhKhKQA554L800Vidp8G9rsCSXo4ICluIkma2EgsvOAAAPsccifpDyLS\n",
       "AAAAAElFTkSuQmCC\n",
       "\" style=\"display:inline;vertical-align:middle;\" /></a></td></tr>\n",
       "<tr><td>5</td><td>Operation</td><td>operator:&nbsp;7<br>operands:&nbsp;8<br></td><td><a class=\"ProveItLink\" href=\"../e1233146f0e5833291501bcb8da21c837ee313ad0/expr.ipynb\"><img src=\"data:image/png;base64,iVBORw0KGgoAAAANSUhEUgAAAEAAAAAPBAMAAACmSdRUAAAAMFBMVEX///+6uroyMjJERETMzMwQ\n",
       "EBAiIiKYmJju7u5mZmaqqqpUVFSIiIh2dnbc3NwAAAAWgogoAAAAAXRSTlMAQObYZgAAAMhJREFU\n",
       "GNNjYMAA7PrGn1R1GPAAZr4NLFZ6DFzGQGCBXcEEBovHmOIch9LSFGAKrjBjKnCqQDIBScHb069O\n",
       "HgDSfBbIVuyAW8FxgT2dNQEk/ABJAWO6HozHy8DzgcsByGhGcmRYmhbCaQzcBmCGaFoa3JETJyB7\n",
       "j/UAmPJG9uZEbyQF7x0YGoBUG7ICpp4CeMA+OM/AA1LAXYCkgGXDFhhvfYEpwxuwYxKRvXkL7qnm\n",
       "s713IHofTYFH1mcHJqNfmEG5Wg3iCxQAACbUNKv+jFLzAAAAAElFTkSuQmCC\n",
       "\" style=\"display:inline;vertical-align:middle;\" /></a></td></tr>\n",
       "<tr><td>6</td><td>Literal</td><td></td><td><a class=\"ProveItLink\" href=\"../../../../../logic/boolean/__pv_it/46271c8230be96415d662709611f4ed2279d702b0/expr.ipynb\"><img src=\"data:image/png;base64,iVBORw0KGgoAAAANSUhEUgAAAA0AAAAOBAMAAAAGUYvhAAAAMFBMVEX///9mZmbMzMzc3NxUVFSY\n",
       "mJju7u6IiIi6urqqqqoiIiIQEBBEREQyMjJ2dnYAAAAQvcRZAAAAAXRSTlMAQObYZgAAAElJREFU\n",
       "CNdjePvn/u01ExgYGA60s117B6YZKngh9FSWBAjfBsxnWnoMRHet/10AkS+fA6F5OB5AaIYDqDRU\n",
       "PLCGgQFoz6ktExgAgLIl8DFvGtkAAAAASUVORK5CYII=\n",
       "\" style=\"display:inline;vertical-align:middle;\" /></a></td></tr>\n",
       "<tr><td>7</td><td>Literal</td><td></td><td><a class=\"ProveItLink\" href=\"../../../../../logic/set_theory/membership/__pv_it/088cbc857536a28d4119ad9639a84270ccb0545d0/expr.ipynb\"><img src=\"data:image/png;base64,iVBORw0KGgoAAAANSUhEUgAAAAwAAAAMBAMAAACkW0HUAAAALVBMVEX///+qqqpmZmZUVFQQEBC6\n",
       "urpERETc3NyYmJjMzMwiIiIyMjKIiIju7u4AAACYsrA9AAAAAXRSTlMAQObYZgAAADxJREFUCNdj\n",
       "YOA9vWrVBgaG2b0MQMCeCyIZ2ArA1DUwyRCyahVIyWQI7xaEYm4AU7xLIdxqTQgtvGvVBgCkcQ7e\n",
       "geM/tQAAAABJRU5ErkJggg==\n",
       "\" style=\"display:inline;vertical-align:middle;\" /></a></td></tr>\n",
       "<tr><td>8</td><td>ExprTuple</td><td>9, 10</td><td><a class=\"ProveItLink\" href=\"../8248694d770856bd48c76c64d4ff048df5454df10/expr.ipynb\"><img src=\"data:image/png;base64,iVBORw0KGgoAAAANSUhEUgAAAEAAAAAaBAMAAAD1Ukd8AAAAMFBMVEX///+qqqp2dnYiIiJERESI\n",
       "iIhmZmYQEBDc3NyYmJgyMjLu7u5UVFTMzMy6uroAAACGxKilAAAAAXRSTlMAQObYZgAAAT1JREFU\n",
       "KM9jYGB4x4ATKIAI3gO4FdwBEbs24FbAGgAkTjLgARYMDBwFyAKzvvivqgpA8GMYGNgSULQ49DBc\n",
       "kWpgEHEBAqDd+zcwsD9AVdDGwLLDAc5lnsBwnwFdAdMFhAI2B4ZwvAo4PzCcAlIcqidEU+EKeJCs\n",
       "4PvN4AOkNjFMnlAMV/B4VgNcAe9fhmXgEI1nkIUqaDe2EkDYyPGPwQxIbWA4gnDDMxakoOX+CFbA\n",
       "wFCKUMD29gCKCWvA9F8GbrgbVkciKfgLNnwG6weGaIgSoII7PBcQvvjBEMzAwPiTpYAjgGG/ATQc\n",
       "BDyQw+E90CWu2kpAY7f/AEeWL8OS9XB/MC1g4EeY9wIzurkCGHgU4LwJmAr2NzDwGuBTMAWIHeHp\n",
       "C0uKsgXiLjwpjhOUmhgVcCtoAZMTcSvIZiAMAMNuUUgjw72ZAAAAAElFTkSuQmCC\n",
       "\" style=\"display:inline;vertical-align:middle;\" /></a></td></tr>\n",
       "<tr><td>9</td><td>Variable</td><td></td><td><a class=\"ProveItLink\" href=\"../../../../../__pv_it/530be409e3083890784cf1d7b28c9e67e90af9360/expr.ipynb\"><img src=\"data:image/png;base64,iVBORw0KGgoAAAANSUhEUgAAAAsAAAAJBAMAAAAWSsseAAAAKlBMVEX///9ERETMzMwQEBAiIiKY\n",
       "mJju7u5mZmaqqqpUVFSIiIh2dnbc3NwAAAA/vyDhAAAAAXRSTlMAQObYZgAAAENJREFUCNdjYDi9\n",
       "8sTyBQxsG1hdmR0YuBm4LnAoMLAxcAowgADzAjB1VoEhgYH1wFoGrgSG3gBhhlMMDImrs3cFMAAA\n",
       "t0YN+iTRa+sAAAAASUVORK5CYII=\n",
       "\" style=\"display:inline;vertical-align:middle;\" /></a></td></tr>\n",
       "<tr><td>10</td><td>Literal</td><td></td><td><a class=\"ProveItLink\" href=\"../ae6abf015b290ff2a5b5ccb58f19177a82c6074b0/expr.ipynb\"><img src=\"data:image/png;base64,iVBORw0KGgoAAAANSUhEUgAAABsAAAAOBAMAAAAs4XpOAAAAMFBMVEX///8iIiK6urp2dnbu7u5m\n",
       "ZmaqqqrMzMxUVFTc3NyIiIgQEBBEREQyMjKYmJgAAAA9nvXMAAAAAXRSTlMAQObYZgAAAF1JREFU\n",
       "CNdjePvn/N29Cxjg4MAMhprcCQw5Z4DAAcidysDjeQAhO5WBuQAflwNVseLbCQjubEHZBCSLpqry\n",
       "OCBzWdUbkLkMV9ahcCs4ClDsTTgJ4wG9cJzhzn2o2QB/7ytaZzHgkAAAAABJRU5ErkJggg==\n",
       "\" style=\"display:inline;vertical-align:middle;\" /></a></td></tr>\n",
       "</table>\n"
      ],
      "text/plain": [
       "0. forall_{x} ((x in RealsNeg) in BOOLEANS)\n",
       "   core type: Operation\n",
       "   operator: 1\n",
       "   operand: 2\n",
       "1. forall\n",
       "   core type: Literal\n",
       "   sub-expressions: \n",
       "2. x -> ((x in RealsNeg) in BOOLEANS)\n",
       "   core type: Lambda\n",
       "   parameter: 9\n",
       "   body: 3\n",
       "3. (x in RealsNeg) in BOOLEANS\n",
       "   core type: Operation\n",
       "   operator: 7\n",
       "   operands: 4\n",
       "4. (x in RealsNeg , BOOLEANS)\n",
       "   core type: ExprTuple\n",
       "   sub-expressions: 5, 6\n",
       "5. x in RealsNeg\n",
       "   core type: Operation\n",
       "   operator: 7\n",
       "   operands: 8\n",
       "6. BOOLEANS\n",
       "   core type: Literal\n",
       "   sub-expressions: \n",
       "7. in\n",
       "   core type: Literal\n",
       "   sub-expressions: \n",
       "8. (x , RealsNeg)\n",
       "   core type: ExprTuple\n",
       "   sub-expressions: 9, 10\n",
       "9. x\n",
       "   core type: Variable\n",
       "   sub-expressions: \n",
       "10. RealsNeg\n",
       "    core type: Literal\n",
       "    sub-expressions: "
      ]
     },
     "execution_count": 3,
     "metadata": {},
     "output_type": "execute_result"
    }
   ],
   "source": [
    "# display the expression information\n",
    "xInRealsNegInBool.exprInfo()"
   ]
  },
  {
   "cell_type": "code",
   "execution_count": null,
   "metadata": {},
   "outputs": [],
   "source": []
  }
 ],
 "metadata": {
  "kernelspec": {
   "display_name": "Python 3",
   "language": "python",
   "name": "python3"
  }
 },
 "nbformat": 4,
 "nbformat_minor": 0
}
