{
 "cells": [
  {
   "cell_type": "markdown",
   "metadata": {},
   "source": [
    "Theorem <a class=\"ProveItLink\" href=\"../../_theorems_.ipynb#natsInReals\">natsInReals</a> of type <a class=\"ProveItLink\" href=\"../../../../../../../doc/html/api/proveit.logic.Subset.html\">Subset</a>\n",
    "=======================\n",
    "# from context <a class=\"ProveItLink\" href=\"../../_context_.ipynb\">proveit.number.sets.real</a>\n",
    "*** see <a class=\"ProveItLink\" href=\"dependencies.ipynb\">dependencies</a> ***"
   ]
  },
  {
   "cell_type": "code",
   "execution_count": 1,
   "metadata": {},
   "outputs": [],
   "source": [
    "# import the special expression\n",
    "from proveit.number.sets.real._theorems_ import natsInReals"
   ]
  },
  {
   "cell_type": "code",
   "execution_count": 2,
   "metadata": {},
   "outputs": [
    {
     "name": "stdout",
     "output_type": "stream",
     "text": [
      "Passed sanity check: built 'natsInReals' is the same as the stored Expression.\n"
     ]
    }
   ],
   "source": [
    "# check that the built expression is the same as the stored expression\n",
    "%check_expr natsInReals"
   ]
  },
  {
   "cell_type": "code",
   "execution_count": 3,
   "metadata": {},
   "outputs": [
    {
     "data": {
      "text/html": [
       "<table><tr><th>&nbsp;</th><th>core type</th><th>sub-expressions</th><th>expression</th></tr>\n",
       "<tr><td>0</td><td>Operation</td><td>operator:&nbsp;1<br>operands:&nbsp;2<br></td><td><a class=\"ProveItLink\" href=\"expr.ipynb\"><img src=\"data:image/png;base64,iVBORw0KGgoAAAANSUhEUgAAADoAAAAPBAMAAABHIsEFAAAAMFBMVEX////c3Nx2dna6uroQEBCI\n",
       "iIhUVFTMzMyYmJiqqqoiIiJmZmZEREQyMjLu7u4AAADjlg78AAAAAXRSTlMAQObYZgAAAN1JREFU\n",
       "GNNjePvn7AOGXb8mMCADjvtn/l65CmKdYD/AwPCBARXwMCawn7wIZGQVhDIwOGDIbmA4JwNkJN9j\n",
       "K4DJxq5atWoxTFadB8hIL+O7B5WtikPWC5HlDKiByDIuRDE5D2RyOsNmjgCwLJsBsizziotgWbYH\n",
       "6WDZt8iu8lp1kwEsy5fwFixbhiy7ecM5iCxDETum7IbNZVBZjgkHQCwuFFnepw0QWQZFsCz3BGRZ\n",
       "9gSQzGGQ+AWQEN9iFB9p8ggw2H4B6uMDyzK83Y6IhT8FvGd/ogav2S1oSEIBAOcURyMnlGonAAAA\n",
       "AElFTkSuQmCC\n",
       "\" style=\"display:inline;vertical-align:middle;\" /></a></td></tr>\n",
       "<tr><td>1</td><td>Literal</td><td></td><td><a class=\"ProveItLink\" href=\"../../../../../logic/set_theory/containment/__pv_it/8abd5f716af72ef69ffdc0b40f17a6fa6115e4300/expr.ipynb\"><img src=\"data:image/png;base64,iVBORw0KGgoAAAANSUhEUgAAAA4AAAAMBAMAAACgrpHpAAAAJFBMVEX///+qqqpmZmZUVFTc3Nzu\n",
       "7u7MzMy6uroiIiIyMjKIiIgAAABMlAC/AAAAAXRSTlMAQObYZgAAADdJREFUCNdjYGBY2dHR0c7A\n",
       "kLGUAQRYWsAUA3MBhI6EUAzJaDQHlGYSgNCs7VCBSDUoo3gG0FwA+8MJt4mISzAAAAAASUVORK5C\n",
       "YII=\n",
       "\" style=\"display:inline;vertical-align:middle;\" /></a></td></tr>\n",
       "<tr><td>2</td><td>ExprTuple</td><td>3, 4</td><td><a class=\"ProveItLink\" href=\"../8ef952e4727f0a6ee7073d2865e105439bad5e540/expr.ipynb\"><img src=\"data:image/png;base64,iVBORw0KGgoAAAANSUhEUgAAADMAAAAVBAMAAAAZessyAAAAMFBMVEX////c3NwiIiJERESqqqqY\n",
       "mJh2dnZmZmYQEBDu7u4yMjJUVFTMzMyIiIi6uroAAAAs73DqAAAAAXRSTlMAQObYZgAAAS5JREFU\n",
       "KM9jYMAD+C5gE40DEacZZn22msBQ9MkBxIv6bL+qC6iY/QCQs5KBwZTHgIHhA0S5gTTDYS8BBoYF\n",
       "DAy8QCWbDtxlYGiASokzME8EqgxjYOCYwMCwbyX3ASQptgNAqRkMDK+A3D2nOVeiSzE7MJSBpFgu\n",
       "HEaS4gYZyFbAsBQkxVDHegEh9SgK6AyWBQx9YCnuCXtgUhJKWiBv8DUw/ANLcW6YBdf1nBnoMgae\n",
       "D1AphmM8cCn2NxsgUi0QKVYHA7hdK69CDDSFSDEkGjBwQqVOA33JwLqAIR3ItQNi9gUM8xWg/nIw\n",
       "BDv+EdDXP4CGcS5gmPERHLw2DIvXOzBwPWDgEEDExEOkWAEGFGsCghuAJJULiRQsUkDzGRik4Vxe\n",
       "JE3cIHsYsSaAOwwMAMXqU7pujp7/AAAAAElFTkSuQmCC\n",
       "\" style=\"display:inline;vertical-align:middle;\" /></a></td></tr>\n",
       "<tr><td>3</td><td>Literal</td><td></td><td><a class=\"ProveItLink\" href=\"../../../integer/__pv_it/e5d9bd86b06b357eee742ad868997123619e09700/expr.ipynb\"><img src=\"data:image/png;base64,iVBORw0KGgoAAAANSUhEUgAAAA8AAAAOBAMAAAACpFvcAAAAMFBMVEX////c3Nx2dna6uroQEBCI\n",
       "iIhUVFTMzMyYmJiqqqoiIiJmZmZEREQyMjLu7u4AAADjlg78AAAAAXRSTlMAQObYZgAAAGBJREFU\n",
       "CNdjePvn7AOGXb8mMDCcYD/AwPCBgYEhqyCUgcEByEi+x1YAZqSX8d2DMDgDaiAMhs0cARAG24N0\n",
       "CIMv4S2EwVDEDmVwTDgAYTAoghiHgZj7AgOD7Rcgj+8CAwA9oh2B0HK+MAAAAABJRU5ErkJggg==\n",
       "\" style=\"display:inline;vertical-align:middle;\" /></a></td></tr>\n",
       "<tr><td>4</td><td>Literal</td><td></td><td><a class=\"ProveItLink\" href=\"../9e7645ee1117062e179dd6264898f99ed95b157c0/expr.ipynb\"><img src=\"data:image/png;base64,iVBORw0KGgoAAAANSUhEUgAAAA8AAAAOBAMAAAACpFvcAAAAMFBMVEX///8iIiK6urp2dnbu7u5m\n",
       "ZmaqqqrMzMxUVFTc3NyIiIgQEBBEREQyMjKYmJgAAAA9nvXMAAAAAXRSTlMAQObYZgAAAFJJREFU\n",
       "CNdjePvn/N29CxiA4MAMhprcCSDGVAYezwMQBnMBOoMDJqX4Fqx4tqBsAlj7VFUeBwiDVb0BwmC4\n",
       "sg7KqOAogJqTcJKBAWjpcYY79xMAyqEnfsw4ApEAAAAASUVORK5CYII=\n",
       "\" style=\"display:inline;vertical-align:middle;\" /></a></td></tr>\n",
       "</table>\n"
      ],
      "text/plain": [
       "0. Naturals subset Reals\n",
       "   core type: Operation\n",
       "   operator: 1\n",
       "   operands: 2\n",
       "1. subset\n",
       "   core type: Literal\n",
       "   sub-expressions: \n",
       "2. (Naturals , Reals)\n",
       "   core type: ExprTuple\n",
       "   sub-expressions: 3, 4\n",
       "3. Naturals\n",
       "   core type: Literal\n",
       "   sub-expressions: \n",
       "4. Reals\n",
       "   core type: Literal\n",
       "   sub-expressions: "
      ]
     },
     "execution_count": 3,
     "metadata": {},
     "output_type": "execute_result"
    }
   ],
   "source": [
    "# display the expression information\n",
    "natsInReals.exprInfo()"
   ]
  },
  {
   "cell_type": "code",
   "execution_count": null,
   "metadata": {},
   "outputs": [],
   "source": []
  }
 ],
 "metadata": {
  "kernelspec": {
   "display_name": "Python 3",
   "language": "python",
   "name": "python3"
  }
 },
 "nbformat": 4,
 "nbformat_minor": 0
}
