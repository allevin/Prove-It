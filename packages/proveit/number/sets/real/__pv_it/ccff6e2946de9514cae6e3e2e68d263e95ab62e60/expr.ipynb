{
 "cells": [
  {
   "cell_type": "markdown",
   "metadata": {},
   "source": [
    "Expression of type <a class=\"ProveItLink\" href=\"../../../../../../../doc/html/api/proveit.Lambda.html\">Lambda</a>\n",
    "=======================\n",
    "# from context <a class=\"ProveItLink\" href=\"../../_context_.ipynb\">proveit.number.sets.real</a>"
   ]
  },
  {
   "cell_type": "code",
   "execution_count": 1,
   "metadata": {},
   "outputs": [],
   "source": [
    "# import Expression classes needed to build the expression\n",
    "from proveit import Lambda\n",
    "from proveit._common_ import x\n",
    "from proveit.logic import Booleans, InSet\n",
    "from proveit.number import Reals"
   ]
  },
  {
   "cell_type": "code",
   "execution_count": 2,
   "metadata": {},
   "outputs": [
    {
     "data": {
      "text/html": [
       "<strong id=\"expr\">expr:</strong> <a class=\"ProveItLink\" href=\"expr.ipynb\"><img src=\"data:image/png;base64,iVBORw0KGgoAAAANSUhEUgAAAKYAAAAVCAMAAAD7CGWeAAAANlBMVEX///+6uroUFBQNDQ0yMjJE\n",
       "RETMzMwQEBAiIiKYmJju7u5mZmaqqqpUVFSIiIh2dnbc3NwAAACltDI1AAAAAXRSTlMAQObYZgAA\n",
       "AghJREFUSMfdVtuWpCAMDLPhfv//n11sQYmgrT2nXyYv5dEKlEkIAfijxgLFp6bZd/mrCU/x/TaY\n",
       "Oc+IEut/WXHtEIsDZpSKu1v8qaGheMM4pPJPgjtMq+t7h5IqgybGe/zRQqB4U6ZdwCS+xjfekQmB\n",
       "VYFv+aNJQ3FiJqAqhkeZUcAq08hrfpXpNHgz4d85P0hxVryozTSam0yoRXfG36KZen6KwScXbEsj\n",
       "VeD6JcFGikff8oabk6T7lnSIFq74q0yhdPu08E3ZUSsNUlWSoj6+XwY1wcG3bJFOapMpXY8QuD7B\n",
       "aVqbSuUs288v/CUuIZdnMZdpfLeQZAQHXzB8eoTkUnxbXthebDN+S3pwfOcvwfI9+d+PIibz3mDb\n",
       "Y8XBt6zY3OgRYhb27Ip8ya8yF4iEL/v2cogm+O4aOMgcfKdd/5V0y/ZPnczpLbHJrGeu8lMWNTQT\n",
       "mbYvHukoHn3BqLO+iSboSdLVDZkLX6dXeUGYyxQkWFwTHHxL7PWJzBI3L9r9CVf8IemF77IGXtSm\n",
       "TQ69X2i7aK1kxdF3CQ87aUjRtWPdN6QJv8rUNuwNzPAQy+UZ9L32rnqc+iaks8I6evDyDstE8SoW\n",
       "ZBf8OnpwJX2rLHw8JMlEcWbOIz25x9tU/o5/ZyyL8Ok4sIcrfJf/4SB3DA5+l7+Wkqf43Hz6Lr/q\n",
       "CxQfT6ziA/5/ii4WQ/Z+k90AAAAASUVORK5CYII=\n",
       "\" style=\"display:inline;vertical-align:middle;\" /></a><br>"
      ],
      "text/plain": [
       "expr: x -> ((x in Reals) in BOOLEANS)"
      ]
     },
     "execution_count": 2,
     "metadata": {},
     "output_type": "execute_result"
    }
   ],
   "source": [
    "# build up the expression from sub-expressions\n",
    "expr = Lambda(x, InSet(InSet(x, Reals), Booleans))"
   ]
  },
  {
   "cell_type": "code",
   "execution_count": 3,
   "metadata": {},
   "outputs": [
    {
     "name": "stdout",
     "output_type": "stream",
     "text": [
      "Passed sanity check: built 'expr' is the same as the stored Expression.\n"
     ]
    }
   ],
   "source": [
    "# check that the built expression is the same as the stored expression\n",
    "%check_expr"
   ]
  },
  {
   "cell_type": "code",
   "execution_count": 4,
   "metadata": {},
   "outputs": [
    {
     "data": {
      "text/html": [
       "<table><tr><th>&nbsp;</th><th>core type</th><th>sub-expressions</th><th>expression</th></tr>\n",
       "<tr><td>0</td><td>Lambda</td><td>parameter:&nbsp;7<br>body:&nbsp;1<br></td><td><a class=\"ProveItLink\" href=\"expr.ipynb\"><img src=\"data:image/png;base64,iVBORw0KGgoAAAANSUhEUgAAAKYAAAAVCAMAAAD7CGWeAAAANlBMVEX///+6uroUFBQNDQ0yMjJE\n",
       "RETMzMwQEBAiIiKYmJju7u5mZmaqqqpUVFSIiIh2dnbc3NwAAACltDI1AAAAAXRSTlMAQObYZgAA\n",
       "AghJREFUSMfdVtuWpCAMDLPhfv//n11sQYmgrT2nXyYv5dEKlEkIAfijxgLFp6bZd/mrCU/x/TaY\n",
       "Oc+IEut/WXHtEIsDZpSKu1v8qaGheMM4pPJPgjtMq+t7h5IqgybGe/zRQqB4U6ZdwCS+xjfekQmB\n",
       "VYFv+aNJQ3FiJqAqhkeZUcAq08hrfpXpNHgz4d85P0hxVryozTSam0yoRXfG36KZen6KwScXbEsj\n",
       "VeD6JcFGikff8oabk6T7lnSIFq74q0yhdPu08E3ZUSsNUlWSoj6+XwY1wcG3bJFOapMpXY8QuD7B\n",
       "aVqbSuUs288v/CUuIZdnMZdpfLeQZAQHXzB8eoTkUnxbXthebDN+S3pwfOcvwfI9+d+PIibz3mDb\n",
       "Y8XBt6zY3OgRYhb27Ip8ya8yF4iEL/v2cogm+O4aOMgcfKdd/5V0y/ZPnczpLbHJrGeu8lMWNTQT\n",
       "mbYvHukoHn3BqLO+iSboSdLVDZkLX6dXeUGYyxQkWFwTHHxL7PWJzBI3L9r9CVf8IemF77IGXtSm\n",
       "TQ69X2i7aK1kxdF3CQ87aUjRtWPdN6QJv8rUNuwNzPAQy+UZ9L32rnqc+iaks8I6evDyDstE8SoW\n",
       "ZBf8OnpwJX2rLHw8JMlEcWbOIz25x9tU/o5/ZyyL8Ok4sIcrfJf/4SB3DA5+l7+Wkqf43Hz6Lr/q\n",
       "CxQfT6ziA/5/ii4WQ/Z+k90AAAAASUVORK5CYII=\n",
       "\" style=\"display:inline;vertical-align:middle;\" /></a></td></tr>\n",
       "<tr><td>1</td><td>Operation</td><td>operator:&nbsp;5<br>operands:&nbsp;2<br></td><td><a class=\"ProveItLink\" href=\"../85d3ce890b7ecada1e5bb4ef8edaa91bdd34283c0/expr.ipynb\"><img src=\"data:image/png;base64,iVBORw0KGgoAAAANSUhEUgAAAGkAAAAVBAMAAAC3TN2zAAAAMFBMVEX////c3NwiIiJERESqqqqY\n",
       "mJh2dnZmZmYQEBDu7u4yMjJUVFTMzMyIiIi6uroAAAAs73DqAAAAAXRSTlMAQObYZgAAAZ5JREFU\n",
       "OMtjYCAP8F3ALcf6AJfMaWyq1xv/WrEWyKhBk8j6vH6FsgOQsRKbUcyMG3hMFjIwcKFLGLzlXJnG\n",
       "wMB7AbuuAgZLYaClCRi6GO4BjeKYgCw4d5GSFkxXDjMDA2cDqjhIlyv3BIZXyJp4lk5A2AXSxWCC\n",
       "Kg62C+iGMiBT7LbIdbBDhScguXAnUJYhnQFFHKiLR9WSgWEp0BkJrKocCiAxQyR/8akCQ4PBiwFF\n",
       "nMHgkf4PoAV9DAxsDLwfWA4AhTgNELqalJaAGC8YUMRBLrzrzMDwDyjIwA0R5mtSUoKFRl2BJYhx\n",
       "HlUcpIuZLwGkCxiQkODn2YDkwrrTcF0IcbAuBgOGFhBb/gADyL+cCki6uOYGwF2ogK7LFBiVAvcZ\n",
       "eMGhtBVJF8+GPUBGFAOKOMyFwKD1D7BgkAWLTXqAFPIpzAKwkIeLg3SFX2ZgeMTAMPnatNwAsBjj\n",
       "8gOw1Pv5AJfVFwaGdSjioNRr1A1MvRwCyImDZRc0rKAAlqLQxTHSJwpgw5X5VuLTNQuXhDQ+XRtx\n",
       "STDiKQF4D2AXBwBM8m07Yqj1WAAAAABJRU5ErkJggg==\n",
       "\" style=\"display:inline;vertical-align:middle;\" /></a></td></tr>\n",
       "<tr><td>2</td><td>ExprTuple</td><td>3, 4</td><td><a class=\"ProveItLink\" href=\"../fba8e903b17f3272a8c039a8c03da7d75513349a0/expr.ipynb\"><img src=\"data:image/png;base64,iVBORw0KGgoAAAANSUhEUgAAAFgAAAAVBAMAAAAwfTS1AAAAMFBMVEX////c3NwiIiJERESqqqqY\n",
       "mJh2dnZmZmYQEBDu7u4yMjJUVFTMzMyIiIi6uroAAAAs73DqAAAAAXRSTlMAQObYZgAAAYdJREFU\n",
       "KM9jYCAJ8F0gTh3rAyBxGpvEeuNfK9ZCOVmf169QdmBgqAGyV2IzhplxA4/JQijH4C3nyjQGBi4G\n",
       "Bt4L2BUXMFgKwxUz3AOqZE1g4JiArGjuIiUtmOIcZoRiV+4JDJwNDK+Q1fIsnYAwGVnxPZAtJgxl\n",
       "QFLstsh1sGuEJyA5YyfCGTyqlkA6nWEpAwNnAqsqhwJI2BDJzXyqcA8+0v8BMsuLoY+BgY2B9wPL\n",
       "ASCP0wChuElpCQPCGXedgfQLhn9ANQzcEFV8TUpKMA/WFVgiKWbmS2BgOA9SzMDAAQk/ng1Izqg7\n",
       "jayYwQCkuAXElT/AAPIapwKSYq65AWiKXzCYAkNb4D4DLzgctiIp5tmwhwFsBNwZUcDwYPAPsGCQ\n",
       "BauZ9AAp6FKYBTg/QRWHXwYH3SMGhsnXpuVCrGRcfgCWkD4f4LL6wtkvAE5IRt3AhMSwjoFDADkK\n",
       "WXZBQgOefpFkgdENTB74EjESm+0CjiSKTfEsIJbGpxg5/W4EeYrIbMV7gAEA4d1l75umEBkAAAAA\n",
       "SUVORK5CYII=\n",
       "\" style=\"display:inline;vertical-align:middle;\" /></a></td></tr>\n",
       "<tr><td>3</td><td>Operation</td><td>operator:&nbsp;5<br>operands:&nbsp;6<br></td><td><a class=\"ProveItLink\" href=\"../b3bae0c9cdd54fe21a1fb2d3de630940c4270ab40/expr.ipynb\"><img src=\"data:image/png;base64,iVBORw0KGgoAAAANSUhEUgAAADQAAAAPBAMAAABZ6/G2AAAAMFBMVEX///+6uroyMjJERETMzMwQ\n",
       "EBAiIiKYmJju7u5mZmaqqqpUVFSIiIh2dnbc3NwAAAAWgogoAAAAAXRSTlMAQObYZgAAAL9JREFU\n",
       "GNNjYMAA7PrGn1R1GLACZr4NLFZ6OKQmMFg8RhbhOJSWpgCTusKMLOVUgaQLLPX29KuTB4A0nwWy\n",
       "gTuABnJcYE9nTQAJPECSYkwHOoOXgecDlwNQoBnJGWFpWiDLGbgNwAKiaWlwZ0ycADGd9QCY8kZ2\n",
       "/EQI770DQwOQakOWYuopAAbLg/MMPCAp7gIkKZYNWxgY1heYMrwB+zgR2fG3gA5uPtt7B6L+0RR4\n",
       "8H52YDL6hRwcq9UgLoQCAPaLM5068DIIAAAAAElFTkSuQmCC\n",
       "\" style=\"display:inline;vertical-align:middle;\" /></a></td></tr>\n",
       "<tr><td>4</td><td>Literal</td><td></td><td><a class=\"ProveItLink\" href=\"../../../../../logic/boolean/__pv_it/46271c8230be96415d662709611f4ed2279d702b0/expr.ipynb\"><img src=\"data:image/png;base64,iVBORw0KGgoAAAANSUhEUgAAAA0AAAAOBAMAAAAGUYvhAAAAMFBMVEX///9mZmbMzMzc3NxUVFSY\n",
       "mJju7u6IiIi6urqqqqoiIiIQEBBEREQyMjJ2dnYAAAAQvcRZAAAAAXRSTlMAQObYZgAAAElJREFU\n",
       "CNdjePvn/u01ExgYGA60s117B6YZKngh9FSWBAjfBsxnWnoMRHet/10AkS+fA6F5OB5AaIYDqDRU\n",
       "PLCGgQFoz6ktExgAgLIl8DFvGtkAAAAASUVORK5CYII=\n",
       "\" style=\"display:inline;vertical-align:middle;\" /></a></td></tr>\n",
       "<tr><td>5</td><td>Literal</td><td></td><td><a class=\"ProveItLink\" href=\"../../../../../logic/set_theory/membership/__pv_it/088cbc857536a28d4119ad9639a84270ccb0545d0/expr.ipynb\"><img src=\"data:image/png;base64,iVBORw0KGgoAAAANSUhEUgAAAAwAAAAMBAMAAACkW0HUAAAALVBMVEX///+qqqpmZmZUVFQQEBC6\n",
       "urpERETc3NyYmJjMzMwiIiIyMjKIiIju7u4AAACYsrA9AAAAAXRSTlMAQObYZgAAADxJREFUCNdj\n",
       "YOA9vWrVBgaG2b0MQMCeCyIZ2ArA1DUwyRCyahVIyWQI7xaEYm4AU7xLIdxqTQgtvGvVBgCkcQ7e\n",
       "geM/tQAAAABJRU5ErkJggg==\n",
       "\" style=\"display:inline;vertical-align:middle;\" /></a></td></tr>\n",
       "<tr><td>6</td><td>ExprTuple</td><td>7, 8</td><td><a class=\"ProveItLink\" href=\"../9a8ddcb737c106eaa07bbfdcf84c6fc9e0dd33c60/expr.ipynb\"><img src=\"data:image/png;base64,iVBORw0KGgoAAAANSUhEUgAAADAAAAAVBAMAAADyTXAxAAAAMFBMVEX////c3NwiIiJERESqqqqY\n",
       "mJh2dnZmZmYQEBDu7u4yMjJUVFTMzMyIiIi6uroAAAAs73DqAAAAAXRSTlMAQObYZgAAARBJREFU\n",
       "KM9jYMAJ+C5girE+ABKnkQXWG/9asRbIqAHilchKmRk38JgsZGDgYmDgvYAqUcBgKQzUmsDAMQFd\n",
       "IoeZgYGzgeEVAzYJBhOGMiApdlvk+gW4xE6gUQzpDEuB+hJYVTkUYBJ8qkDLGbwY+hgY2Bh4P7Ac\n",
       "gEo0KS0BMV4w/APqYOA2gNtRV2AJYpwHSTAwcFxAWF53GiLRAqLkDzBMgElwzQ0AG2UK9I3AfQbe\n",
       "CWApoATPhj1ARhTQXQz+ARYMsgycn6DOTWEWADn3EQPD5GvTcgMYOPsFQIH4+QCX1RcGhnUMHALw\n",
       "8BdAhAAwSIDBBQtzpKBhu4AU7MgSs4BYGsZBDv+NQMyIJWp5DzAAABMaPkMdIdlaAAAAAElFTkSu\n",
       "QmCC\n",
       "\" style=\"display:inline;vertical-align:middle;\" /></a></td></tr>\n",
       "<tr><td>7</td><td>Variable</td><td></td><td><a class=\"ProveItLink\" href=\"../../../../../__pv_it/530be409e3083890784cf1d7b28c9e67e90af9360/expr.ipynb\"><img src=\"data:image/png;base64,iVBORw0KGgoAAAANSUhEUgAAAAsAAAAJBAMAAAAWSsseAAAAKlBMVEX///9ERETMzMwQEBAiIiKY\n",
       "mJju7u5mZmaqqqpUVFSIiIh2dnbc3NwAAAA/vyDhAAAAAXRSTlMAQObYZgAAAENJREFUCNdjYDi9\n",
       "8sTyBQxsG1hdmR0YuBm4LnAoMLAxcAowgADzAjB1VoEhgYH1wFoGrgSG3gBhhlMMDImrs3cFMAAA\n",
       "t0YN+iTRa+sAAAAASUVORK5CYII=\n",
       "\" style=\"display:inline;vertical-align:middle;\" /></a></td></tr>\n",
       "<tr><td>8</td><td>Literal</td><td></td><td><a class=\"ProveItLink\" href=\"../9e7645ee1117062e179dd6264898f99ed95b157c0/expr.ipynb\"><img src=\"data:image/png;base64,iVBORw0KGgoAAAANSUhEUgAAAA8AAAAOBAMAAAACpFvcAAAAMFBMVEX///8iIiK6urp2dnbu7u5m\n",
       "ZmaqqqrMzMxUVFTc3NyIiIgQEBBEREQyMjKYmJgAAAA9nvXMAAAAAXRSTlMAQObYZgAAAFJJREFU\n",
       "CNdjePvn/N29CxiA4MAMhprcCSDGVAYezwMQBnMBOoMDJqX4Fqx4tqBsAlj7VFUeBwiDVb0BwmC4\n",
       "sg7KqOAogJqTcJKBAWjpcYY79xMAyqEnfsw4ApEAAAAASUVORK5CYII=\n",
       "\" style=\"display:inline;vertical-align:middle;\" /></a></td></tr>\n",
       "</table>\n"
      ],
      "text/plain": [
       "0. x -> ((x in Reals) in BOOLEANS)\n",
       "   core type: Lambda\n",
       "   parameter: 7\n",
       "   body: 1\n",
       "1. (x in Reals) in BOOLEANS\n",
       "   core type: Operation\n",
       "   operator: 5\n",
       "   operands: 2\n",
       "2. (x in Reals , BOOLEANS)\n",
       "   core type: ExprTuple\n",
       "   sub-expressions: 3, 4\n",
       "3. x in Reals\n",
       "   core type: Operation\n",
       "   operator: 5\n",
       "   operands: 6\n",
       "4. BOOLEANS\n",
       "   core type: Literal\n",
       "   sub-expressions: \n",
       "5. in\n",
       "   core type: Literal\n",
       "   sub-expressions: \n",
       "6. (x , Reals)\n",
       "   core type: ExprTuple\n",
       "   sub-expressions: 7, 8\n",
       "7. x\n",
       "   core type: Variable\n",
       "   sub-expressions: \n",
       "8. Reals\n",
       "   core type: Literal\n",
       "   sub-expressions: "
      ]
     },
     "execution_count": 4,
     "metadata": {},
     "output_type": "execute_result"
    }
   ],
   "source": [
    "# display the expression information\n",
    "expr.exprInfo()"
   ]
  },
  {
   "cell_type": "code",
   "execution_count": null,
   "metadata": {},
   "outputs": [],
   "source": []
  }
 ],
 "metadata": {
  "kernelspec": {
   "display_name": "Python 3",
   "language": "python",
   "name": "python3"
  }
 },
 "nbformat": 4,
 "nbformat_minor": 0
}
