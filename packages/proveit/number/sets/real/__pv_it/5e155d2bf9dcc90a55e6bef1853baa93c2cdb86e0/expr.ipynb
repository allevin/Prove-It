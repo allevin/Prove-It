{
 "cells": [
  {
   "cell_type": "markdown",
   "metadata": {},
   "source": [
    "Theorem <a class=\"ProveItLink\" href=\"../../_theorems_.ipynb#realsNegInReals\">realsNegInReals</a> of type <a class=\"ProveItLink\" href=\"../../../../../../../doc/html/api/proveit.logic.Subset.html\">Subset</a>\n",
    "=======================\n",
    "# from context <a class=\"ProveItLink\" href=\"../../_context_.ipynb\">proveit.number.sets.real</a>\n",
    "*** see <a class=\"ProveItLink\" href=\"dependencies.ipynb\">dependencies</a> ***"
   ]
  },
  {
   "cell_type": "code",
   "execution_count": 1,
   "metadata": {},
   "outputs": [],
   "source": [
    "# import the special expression\n",
    "from proveit.number.sets.real._theorems_ import realsNegInReals"
   ]
  },
  {
   "cell_type": "code",
   "execution_count": 2,
   "metadata": {},
   "outputs": [
    {
     "name": "stdout",
     "output_type": "stream",
     "text": [
      "Passed sanity check: built 'realsNegInReals' is the same as the stored Expression.\n"
     ]
    }
   ],
   "source": [
    "# check that the built expression is the same as the stored expression\n",
    "%check_expr realsNegInReals"
   ]
  },
  {
   "cell_type": "code",
   "execution_count": 3,
   "metadata": {},
   "outputs": [
    {
     "data": {
      "text/html": [
       "<table><tr><th>&nbsp;</th><th>core type</th><th>sub-expressions</th><th>expression</th></tr>\n",
       "<tr><td>0</td><td>Operation</td><td>operator:&nbsp;1<br>operands:&nbsp;2<br></td><td><a class=\"ProveItLink\" href=\"expr.ipynb\"><img src=\"data:image/png;base64,iVBORw0KGgoAAAANSUhEUgAAAEgAAAAPBAMAAAC1npSgAAAAMFBMVEX///8iIiK6urp2dnbu7u5m\n",
       "ZmaqqqrMzMxUVFTc3NyIiIgQEBBEREQyMjKYmJgAAAA9nvXMAAAAAXRSTlMAQObYZgAAANtJREFU\n",
       "KM9jePvn/N29CxiwAr77Z/7evgViHZjBUJM7gSHnDBA4oKni4WxgP3YTpGgqA4/nAexG8XAGMByZ\n",
       "A1HEXICqaK2goKAQTJE5D1ZFhUuQTYIp4kCxjlMSxboWqHWKbycgKeJQQFbEJAd2+GxB2QRk23yR\n",
       "Hb5R8Bo4CKaq8qB4vQJZUVDAEYgiVvUGnIoCgiogihiurENWxIiiiNfrAURRBUcBkiLWBGRF7A3t\n",
       "0HBKOImkiEUIJQjMeCYwACP4OMOd+8j+8w1HRPCfAt6z37BGmcZFaLRAAQBE80tlDcJZiQAAAABJ\n",
       "RU5ErkJggg==\n",
       "\" style=\"display:inline;vertical-align:middle;\" /></a></td></tr>\n",
       "<tr><td>1</td><td>Literal</td><td></td><td><a class=\"ProveItLink\" href=\"../../../../../logic/set_theory/containment/__pv_it/8abd5f716af72ef69ffdc0b40f17a6fa6115e4300/expr.ipynb\"><img src=\"data:image/png;base64,iVBORw0KGgoAAAANSUhEUgAAAA4AAAAMBAMAAACgrpHpAAAAJFBMVEX///+qqqpmZmZUVFTc3Nzu\n",
       "7u7MzMy6uroiIiIyMjKIiIgAAABMlAC/AAAAAXRSTlMAQObYZgAAADdJREFUCNdjYGBY2dHR0c7A\n",
       "kLGUAQRYWsAUA3MBhI6EUAzJaDQHlGYSgNCs7VCBSDUoo3gG0FwA+8MJt4mISzAAAAAASUVORK5C\n",
       "YII=\n",
       "\" style=\"display:inline;vertical-align:middle;\" /></a></td></tr>\n",
       "<tr><td>2</td><td>ExprTuple</td><td>3, 4</td><td><a class=\"ProveItLink\" href=\"../86dc27c6be3b9b2eedd0d5c1f45624f407572fc80/expr.ipynb\"><img src=\"data:image/png;base64,iVBORw0KGgoAAAANSUhEUgAAAEIAAAAaBAMAAADxp5dBAAAAMFBMVEX///+qqqp2dnYiIiJERESI\n",
       "iIhmZmYQEBDc3NyYmJgyMjLu7u5UVFTMzMy6uroAAACGxKilAAAAAXRSTlMAQObYZgAAASRJREFU\n",
       "KM9jYGB4x4AbKIAI3gN4VNwBEbs24FHBGgAkTjLgAxYMDBwFDLO++K+qCkCRgAvFMDCwJTAwOPQw\n",
       "XJFqYBBxAQKonVAhhv0bGNgfALltDCw7HFAMgQkxT2C4D+EyXcBQARZic2AIx6+C8wPDKQiXB9MW\n",
       "sBDfbwYfCPfxrAZ0FWAh3r8My0DcdmMrAdRwgAlx/GMwA2t4xoIWsjAh7o9QFWxvD6CrgAgBzVgD\n",
       "sXR1JLoKiBDHX4YjEO4dngswSW4GJCG+HwzBUM8LeMBU7DdAEgKGx3twNPkyLFkP8832H0hCTAsY\n",
       "+C9gxPgLJDZXAAOPAoaKCUjs/Q0MvAZ4VUwBYkeMlIfMsQXiLnyJkBOYvhgYFfCoaAGTE/GoyGYg\n",
       "AgAA9Q9j9HY4QpMAAAAASUVORK5CYII=\n",
       "\" style=\"display:inline;vertical-align:middle;\" /></a></td></tr>\n",
       "<tr><td>3</td><td>Literal</td><td></td><td><a class=\"ProveItLink\" href=\"../ae6abf015b290ff2a5b5ccb58f19177a82c6074b0/expr.ipynb\"><img src=\"data:image/png;base64,iVBORw0KGgoAAAANSUhEUgAAABsAAAAOBAMAAAAs4XpOAAAAMFBMVEX///8iIiK6urp2dnbu7u5m\n",
       "ZmaqqqrMzMxUVFTc3NyIiIgQEBBEREQyMjKYmJgAAAA9nvXMAAAAAXRSTlMAQObYZgAAAF1JREFU\n",
       "CNdjePvn/N29Cxjg4MAMhprcCQw5Z4DAAcidysDjeQAhO5WBuQAflwNVseLbCQjubEHZBCSLpqry\n",
       "OCBzWdUbkLkMV9ahcCs4ClDsTTgJ4wG9cJzhzn2o2QB/7ytaZzHgkAAAAABJRU5ErkJggg==\n",
       "\" style=\"display:inline;vertical-align:middle;\" /></a></td></tr>\n",
       "<tr><td>4</td><td>Literal</td><td></td><td><a class=\"ProveItLink\" href=\"../9e7645ee1117062e179dd6264898f99ed95b157c0/expr.ipynb\"><img src=\"data:image/png;base64,iVBORw0KGgoAAAANSUhEUgAAAA8AAAAOBAMAAAACpFvcAAAAMFBMVEX///8iIiK6urp2dnbu7u5m\n",
       "ZmaqqqrMzMxUVFTc3NyIiIgQEBBEREQyMjKYmJgAAAA9nvXMAAAAAXRSTlMAQObYZgAAAFJJREFU\n",
       "CNdjePvn/N29CxiA4MAMhprcCSDGVAYezwMQBnMBOoMDJqX4Fqx4tqBsAlj7VFUeBwiDVb0BwmC4\n",
       "sg7KqOAogJqTcJKBAWjpcYY79xMAyqEnfsw4ApEAAAAASUVORK5CYII=\n",
       "\" style=\"display:inline;vertical-align:middle;\" /></a></td></tr>\n",
       "</table>\n"
      ],
      "text/plain": [
       "0. RealsNeg subset Reals\n",
       "   core type: Operation\n",
       "   operator: 1\n",
       "   operands: 2\n",
       "1. subset\n",
       "   core type: Literal\n",
       "   sub-expressions: \n",
       "2. (RealsNeg , Reals)\n",
       "   core type: ExprTuple\n",
       "   sub-expressions: 3, 4\n",
       "3. RealsNeg\n",
       "   core type: Literal\n",
       "   sub-expressions: \n",
       "4. Reals\n",
       "   core type: Literal\n",
       "   sub-expressions: "
      ]
     },
     "execution_count": 3,
     "metadata": {},
     "output_type": "execute_result"
    }
   ],
   "source": [
    "# display the expression information\n",
    "realsNegInReals.exprInfo()"
   ]
  },
  {
   "cell_type": "code",
   "execution_count": null,
   "metadata": {},
   "outputs": [],
   "source": []
  }
 ],
 "metadata": {
  "kernelspec": {
   "display_name": "Python 3",
   "language": "python",
   "name": "python3"
  }
 },
 "nbformat": 4,
 "nbformat_minor": 0
}
