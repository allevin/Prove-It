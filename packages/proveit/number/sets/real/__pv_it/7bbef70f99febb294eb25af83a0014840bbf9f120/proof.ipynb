{
 "cells": [
  {
   "cell_type": "markdown",
   "metadata": {},
   "source": [
    "Show the Proof\n",
    "========"
   ]
  },
  {
   "cell_type": "code",
   "execution_count": 1,
   "metadata": {},
   "outputs": [
    {
     "data": {
      "text/html": [
       "<table><tr><th>&nbsp;</th><th>step type</th><th>requirements</th><th>statement</th></tr>\n",
       "<tr><td>0</td><td>specialization</td><td>1</td><td><span style=\"font-size:20px;\"> <a class=\"ProveItLink\" href=\"proof.ipynb\" style=\"text-decoration: none\">&#x22A2;&nbsp;</a><a class=\"ProveItLink\" href=\"../f7e0bf9e9a70a40f425cbc40cad4c7920f96e3460/expr.ipynb\"><img src=\"data:image/png;base64,iVBORw0KGgoAAAANSUhEUgAAAHgAAAAaBAMAAACOdoWwAAAAMFBMVEX///+qqqp2dnYiIiJERESI\n",
       "iIhmZmYQEBDc3NyYmJgyMjLu7u5UVFTMzMy6uroAAACGxKilAAAAAXRSTlMAQObYZgAAAclJREFU\n",
       "OMtjYGB4x0AIMOGU4T1AUDNuJbs2ENTMEIpL4iRhvQzMDdjFOQqwCHKud/m1fCmCz4rmbqb1Xr+K\n",
       "HRkY2BKwGcnCcYDXcQUDowsQeDMwcP9Gl+cL2LVJgYH9AXbNCQzeLQi+JaZm1gcLGO4ji3FHGRsv\n",
       "gGnWZUFIpKDL8wUwTjjNEI6s+dZsJJuRNc9Hlwfa/MKB4RQo0I7qVYADzxvZ2aeRnP1+A5o8X8Dl\n",
       "KRsYfIDM5w0sH8BCDUia+SxXIDTfv4Amz2f8v5SBYRnQwJ8MbA4goS1IAVZsvBDJP/0P0OSBzg50\n",
       "YDBjYOD5wMAcABJ6bmwMD7C8BG8kzfsF0OT5AhgcHoE08zsw7Ac76w5yVOXdwbD5DrLNDA4sDGuA\n",
       "MgEM8gygENmMrJlr6wQkzWDDN6NrPgJ20ylGkCzPBCTNvAfOIoU2OKiQ5CHODmZg4JrAaAbOstx2\n",
       "yFGliAhcaDwjyfMFcKY6MLwHRXPclTiwWFcuPGN8ucDl9RGuWYsBRR6YMb6YHwSG1gXkJCazGBKa\n",
       "6GApdnkeBSLyM/cPHEWMARGaOR1wSDgSU5JcwCHRRYTmabgkGAl7msMBp9REgprZiChgSQYA/615\n",
       "USBdwhYAAAAASUVORK5CYII=\n",
       "\" style=\"display:inline;vertical-align:middle;\" /></a></span></td></tr>\n",
       "<tr><td>&nbsp;</td><td colspan=4 style=\"text-align:left\"><span style=\"font-size:20px;\"><a class=\"ProveItLink\" href=\"../../../../../__pv_it/530be409e3083890784cf1d7b28c9e67e90af9360/expr.ipynb\"><img src=\"data:image/png;base64,iVBORw0KGgoAAAANSUhEUgAAAAsAAAAJBAMAAAAWSsseAAAAKlBMVEX///9ERETMzMwQEBAiIiKY\n",
       "mJju7u5mZmaqqqpUVFSIiIh2dnbc3NwAAAA/vyDhAAAAAXRSTlMAQObYZgAAAENJREFUCNdjYDi9\n",
       "8sTyBQxsG1hdmR0YuBm4LnAoMLAxcAowgADzAjB1VoEhgYH1wFoGrgSG3gBhhlMMDImrs3cFMAAA\n",
       "t0YN+iTRa+sAAAAASUVORK5CYII=\n",
       "\" style=\"display:inline;vertical-align:middle;\" /></a> : <a class=\"ProveItLink\" href=\"../../../../../__pv_it/07527342713064c87612d00d8557c53d53d5324a0/expr.ipynb\"><img src=\"data:image/png;base64,iVBORw0KGgoAAAANSUhEUgAAAAsAAAAJBAMAAAAWSsseAAAAMFBMVEX///8yMjKqqqrMzMzu7u4i\n",
       "IiJmZmaYmJhEREQQEBC6urp2dnaIiIhUVFTc3NwAAAD87Fq/AAAAAXRSTlMAQObYZgAAAEhJREFU\n",
       "CNdjYOC7s2seAwPDygccHxgY+L4zsDUwMPB+YGA9wMDA38Dgb8DA8P4Agz6DA4O/AsNFJgMGxgKm\n",
       "MG6gyjunLE4xAAAZTBA5TB6DCwAAAABJRU5ErkJggg==\n",
       "\" style=\"display:inline;vertical-align:middle;\" /></a></span></td></tr><tr><td>1</td><td>theorem</td><td></td><td><span style=\"font-size:20px;\"> <a class=\"ProveItLink\" href=\"../../_proofs_/xInRealsNegInBool.ipynb\" style=\"text-decoration: none\">&#x22A2;&nbsp;</a><a class=\"ProveItLink\" href=\"../e250c1987366732e6571a365c252b175a38cc37c0/expr.ipynb\"><img src=\"data:image/png;base64,iVBORw0KGgoAAAANSUhEUgAAAK0AAAAaBAMAAAA3TsG9AAAAMFBMVEX///8QEBC6urrMzMxUVFRm\n",
       "ZmZERETc3NwyMjKqqqp2dnaIiIiYmJgiIiLu7u4AAAAU9Wx4AAAAAXRSTlMAQObYZgAAAp1JREFU\n",
       "SMe1VUFoE0EU/U02u3GTLEE8CCIo6mkpzSGIF2moUMFTQPRSkAUhOYiagm29SNeLCGoaUIuoh96s\n",
       "LZQiRZSK5lItiFoUVKSLe6oglEQDKYIUZ5KZ2dnZnezJB/uyeW/z98//nx+AIGL7KPXGjETXJXqe\n",
       "UW/IHokXQmWjSikCqUWJsYwuN6AqdUpR+CLRMxWANXzzlldHGYlYbV+8vptLcknwZ9tTVz/X0EFQ\n",
       "IR5jwXfoU4wCsC7B4XsVmC4hoIM2xMNaplGdQ0XcBhhHXzWLN3cyCsYdA/WH93CmHogLT5Locx0g\n",
       "id6ZqPHdbFLyOvnMcWwSV895cROW6JvwUEEBTwOkH01MXPF1OUuJ4ch7L18+brop+ihfXIAP6GqX\n",
       "St9842AT0uaPPxjBinaBq4PC1SG2DYJvxtfxlwGU8zGAMh9XLRD6Ce/qeztKhYvbv1rxStYCwe//\n",
       "/gvPy2AO4CAYNh83WSQ0A6/gNlY2vL6MOl+5Xmi/QfBNWJ5Gn5NoCWQg5WtrpkjIheGust9xWN8O\n",
       "qdxsGX9E3wQ1htZGAw9xPeOGxgXYI+4BayxxoBDIN8/nq4LVzdewsT4/tJQjdShQ0lpgYGWTn9/q\n",
       "Cy5ut76bwbg4VnkIrTZ3uI8UTrEIvUk14SX4dgWKm1dy3jxsgeCTOgzgTt5FKyIGN9n8rnVpx181\n",
       "q3WWgfGRi6vXyuL8cr4JK0/J/EJf58dbLIlml4xzC3PkzJdPsr1zFq5NsYnQbb+P9s75Xdid7bwV\n",
       "ty2ejdOnW4wY7txy7JB1kVyU+DfozaBus3+PE4yi0KiE6wY7/MbzkQV6f5RRFF5L9LQVpqo1SlH4\n",
       "JPu/yIWpmk0pAumixFgJl+8z6o1xia5ZkjxqlHrjjERPuPDf8A8W9MQhcCObVQAAAABJRU5ErkJg\n",
       "gg==\n",
       "\" style=\"display:inline;vertical-align:middle;\" /></a></span></td></tr>\n",
       "<tr><td>&nbsp;</td><td colspan=4 style-\"text-align:left\"><a class=\"ProveItLink\" href=\"../../_proofs_/xInRealsNegInBool.ipynb\">proveit.number.sets.real.xInRealsNegInBool</a></td></tr></table>"
      ],
      "text/plain": [
       "<proveit._core_.proof._ShowProof at 0x7f94eba5c4e0>"
      ]
     },
     "execution_count": 1,
     "metadata": {},
     "output_type": "execute_result"
    }
   ],
   "source": [
    "import proveit\n",
    "%show_proof"
   ]
  },
  {
   "cell_type": "code",
   "execution_count": null,
   "metadata": {},
   "outputs": [],
   "source": []
  }
 ],
 "metadata": {
  "kernelspec": {
   "display_name": "Python 3",
   "language": "python",
   "name": "python3"
  }
 },
 "nbformat": 4,
 "nbformat_minor": 0
}
