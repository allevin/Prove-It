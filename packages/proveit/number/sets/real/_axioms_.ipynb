{
 "cells": [
  {
   "cell_type": "markdown",
   "metadata": {},
   "source": [
    "Axioms for context <a href=\"_context_.ipynb\" class=\"ProveItLink\">proveit.number.sets.real</a>\n",
    "========"
   ]
  },
  {
   "cell_type": "code",
   "execution_count": null,
   "metadata": {},
   "outputs": [],
   "source": [
    "import proveit\n",
    "# Automation is not needed when building axiom expressions:\n",
    "proveit.defaults.automation = False # This will speed things up.\n",
    "from proveit._common_ import x, a, b\n",
    "from proveit.logic import Forall, InSet, Exists, Equals, NotEquals, Iff\n",
    "from proveit.number import Integers, Reals, frac, zero, NaturalsPos\n",
    "from proveit.number.sets.real._common_ import Rationals, RationalsPos\n",
    "# the context is in the current directory:\n",
    "context = proveit.Context('.') # adds context root to sys.path if necessary"
   ]
  },
  {
   "cell_type": "code",
   "execution_count": null,
   "metadata": {},
   "outputs": [],
   "source": [
    "%begin axioms"
   ]
  },
  {
   "cell_type": "code",
   "execution_count": null,
   "metadata": {},
   "outputs": [],
   "source": [
    "rationalsDef = Forall(x, Iff(InSet(x,Rationals), Exists((a,b), Equals(x,frac(a,b)),\n",
    "                                conditions = [NotEquals(b,zero)],domain = Integers)),\n",
    "                      domain = Reals)"
   ]
  },
  {
   "cell_type": "code",
   "execution_count": null,
   "metadata": {},
   "outputs": [],
   "source": [
    "rationalsPosDef = Forall(x, Iff(InSet(x,RationalsPos), Exists((a,b), Equals(x,frac(a,b)),\n",
    "                                domain = NaturalsPos)),\n",
    "                      domain = Reals)"
   ]
  },
  {
   "cell_type": "code",
   "execution_count": null,
   "metadata": {},
   "outputs": [],
   "source": [
    "%end axioms"
   ]
  }
 ],
 "metadata": {
  "kernelspec": {
   "display_name": "Python 3",
   "language": "python",
   "name": "python3"
  }
 },
 "nbformat": 4,
 "nbformat_minor": 0
}
