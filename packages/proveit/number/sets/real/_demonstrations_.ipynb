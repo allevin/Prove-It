{
 "cells": [
  {
   "cell_type": "markdown",
   "metadata": {},
   "source": [
    "Demonstrations for context <a class=\"ProveItLink\" href=\"_context_.ipynb\">proveit.number.sets.real</a>\n",
    "========"
   ]
  },
  {
   "cell_type": "code",
   "execution_count": 1,
   "metadata": {},
   "outputs": [],
   "source": [
    "import proveit\n",
    "from proveit._common_ import a, b, c, n, x, y\n",
    "from proveit.logic import InSet\n",
    "from proveit.number import Reals, RealsPos, RealsNeg\n",
    "%begin demonstrations"
   ]
  },
  {
   "cell_type": "markdown",
   "metadata": {},
   "source": [
    "# Real Numbers $\\mathbb{R}$, $\\mathbb{R}^+$, $\\mathbb{R}^-$\n",
    "\n",
    "### UNDER CONSTRUCTION"
   ]
  },
  {
   "cell_type": "markdown",
   "metadata": {},
   "source": [
    "<div style=\"line-height:1.4; font-size:14pt\">\n",
    "\n",
    "<a href='#introduction'>Introduction</a><br>\n",
    "<a href='#simple_expressions'>Simple Expressions involving the Real numbers $\\mathbb{R}$</a><br>\n",
    "<a href='#common_attributes'>Common Attributes of the Real numbers NumberSet</a><br>\n",
    "<a href='#axioms'>Axioms</a><br>\n",
    "<a href='#further_demonstrations'>Further Demonstrations</a><br>\n",
    "    <ol>\n",
    "        <li><a href='#demo01'>Demo 1</a></li>\n",
    "        <li><a href='#demo02'>Demo 2</a></li>\n",
    "        <li><a href='#demo03'>Demo 3</a></li>\n",
    "    </ol>\n",
    "\n",
    "</div>\n"
   ]
  },
  {
   "cell_type": "markdown",
   "metadata": {},
   "source": [
    "## Introduction <a id='introduction'></a>"
   ]
  },
  {
   "cell_type": "markdown",
   "metadata": {},
   "source": [
    "<font size=4>Something here about the importance of the Reals, the axiomatic definition, and perhaps the distinctiveness from the Naturals and Integers. UNDER CONSTRUCTION.</font>"
   ]
  },
  {
   "cell_type": "code",
   "execution_count": 2,
   "metadata": {},
   "outputs": [
    {
     "data": {
      "text/html": [
       "<span style=\"font-size:20px;\"> <a class=\"ProveItLink\" href=\"__pv_it/60453501ad9c2e2a9812e107f0894f3c247633b90/proof.ipynb\" style=\"text-decoration: none\">&#x22A2;&nbsp;</a><a class=\"ProveItLink\" href=\"__pv_it/85d3ce890b7ecada1e5bb4ef8edaa91bdd34283c0/expr.ipynb\"><img src=\"data:image/png;base64,iVBORw0KGgoAAAANSUhEUgAAAGkAAAAVBAMAAAC3TN2zAAAAMFBMVEX////c3NwiIiJERESqqqqY\n",
       "mJh2dnZmZmYQEBDu7u4yMjJUVFTMzMyIiIi6uroAAAAs73DqAAAAAXRSTlMAQObYZgAAAZ5JREFU\n",
       "OMtjYCAP8F3ALcf6AJfMaWyq1xv/WrEWyKhBk8j6vH6FsgOQsRKbUcyMG3hMFjIwcKFLGLzlXJnG\n",
       "wMB7AbuuAgZLYaClCRi6GO4BjeKYgCw4d5GSFkxXDjMDA2cDqjhIlyv3BIZXyJp4lk5A2AXSxWCC\n",
       "Kg62C+iGMiBT7LbIdbBDhScguXAnUJYhnQFFHKiLR9WSgWEp0BkJrKocCiAxQyR/8akCQ4PBiwFF\n",
       "nMHgkf4PoAV9DAxsDLwfWA4AhTgNELqalJaAGC8YUMRBLrzrzMDwDyjIwA0R5mtSUoKFRl2BJYhx\n",
       "HlUcpIuZLwGkCxiQkODn2YDkwrrTcF0IcbAuBgOGFhBb/gADyL+cCki6uOYGwF2ogK7LFBiVAvcZ\n",
       "eMGhtBVJF8+GPUBGFAOKOMyFwKD1D7BgkAWLTXqAFPIpzAKwkIeLg3SFX2ZgeMTAMPnatNwAsBjj\n",
       "8gOw1Pv5AJfVFwaGdSjioNRr1A1MvRwCyImDZRc0rKAAlqLQxTHSJwpgw5X5VuLTNQuXhDQ+XRtx\n",
       "STDiKQF4D2AXBwBM8m07Yqj1WAAAAABJRU5ErkJggg==\n",
       "\" style=\"display:inline;vertical-align:middle;\" /></a></span>"
      ],
      "text/plain": [
       "|- (x in Reals) in BOOLEANS"
      ]
     },
     "execution_count": 2,
     "metadata": {},
     "output_type": "execute_result"
    }
   ],
   "source": [
    "InSet(x, Reals).deduceInBool()"
   ]
  },
  {
   "cell_type": "code",
   "execution_count": 3,
   "metadata": {},
   "outputs": [
    {
     "data": {
      "text/html": [
       "<span style=\"font-size:20px;\"> <a class=\"ProveItLink\" href=\"__pv_it/1939f3b33bae4cc61640e3bbad769d4b7411eb520/proof.ipynb\" style=\"text-decoration: none\">&#x22A2;&nbsp;</a><a class=\"ProveItLink\" href=\"__pv_it/34c8c47c623da113a05d3d77a121066f8cf149320/expr.ipynb\"><img src=\"data:image/png;base64,iVBORw0KGgoAAAANSUhEUgAAAHgAAAAbBAMAAABFKlYVAAAAMFBMVEX///+qqqp2dnYiIiJERESI\n",
       "iIhmZmYQEBDc3NyYmJgyMjLu7u5UVFTMzMy6uroAAACGxKilAAAAAXRSTlMAQObYZgAAAeVJREFU\n",
       "OMutlDtIw1AUhv/Wtqav2MXNoa6CIAYUF0lFl9YhIio4FR+jIoiLUwcnFyuIi4MVUUsRWnwguFjR\n",
       "RUUouEnB4qKTVehQddCbRJvTmMfihcDlfPlyzj039wI2I2SNXyypyB6nKQ3mbWXzV05ztjJGzOgV\n",
       "7OWGhDHk5gyC3mz/x96OJrt1dTuz0Y/5COCJG33SxeWDkTQCmcxihn3E/6nnvHR6EEZjyViOI7ZU\n",
       "y4yev7K7lMIDjfnHBSH1K7e7NHlKz3nJkbzBGJXvN0hmKm/qOcv8LOKaTQ8mwMmr4mK07BtSdlnZ\n",
       "T8J56W4th0E2DZfhfpVDCSLzPWl5pvb5oYB6zgtfC8Au+4FCk3DJGY5Iw+aFLbKeFaWtR3UNGxLR\n",
       "xdqABTRJLPQkCLWGzcZjRD5TzgfhvATxUZbh+FTrKtKtmi3+yVykmSG6sM+mnpTa9EMq+46TRC7o\n",
       "uCpfsqkvrvQNgSSRg/lbTS4ndFwte1jOnOfflX+gl25Vq9bcn30mnJe80yLKcnBgtKrElmdqB6NS\n",
       "8EXfanIb6jg7GJXuc6BJWY2zQ422bKvd1I8dGPJAGLjAifVV5a+a3EIsZyf6rG8Er2gC2JluHi1Z\n",
       "yw0FE7AM+7FuBhxhW5cTTdGqrezJ4f/HNwiRf6Z2i1+cAAAAAElFTkSuQmCC\n",
       "\" style=\"display:inline;vertical-align:middle;\" /></a></span>"
      ],
      "text/plain": [
       "|- (y in RealsPos) in BOOLEANS"
      ]
     },
     "execution_count": 3,
     "metadata": {},
     "output_type": "execute_result"
    }
   ],
   "source": [
    "InSet(y, RealsPos).deduceInBool()"
   ]
  },
  {
   "cell_type": "code",
   "execution_count": 4,
   "metadata": {},
   "outputs": [
    {
     "data": {
      "text/html": [
       "<span style=\"font-size:20px;\"> <a class=\"ProveItLink\" href=\"__pv_it/7bbef70f99febb294eb25af83a0014840bbf9f120/proof.ipynb\" style=\"text-decoration: none\">&#x22A2;&nbsp;</a><a class=\"ProveItLink\" href=\"__pv_it/f7e0bf9e9a70a40f425cbc40cad4c7920f96e3460/expr.ipynb\"><img src=\"data:image/png;base64,iVBORw0KGgoAAAANSUhEUgAAAHgAAAAaBAMAAACOdoWwAAAAMFBMVEX///+qqqp2dnYiIiJERESI\n",
       "iIhmZmYQEBDc3NyYmJgyMjLu7u5UVFTMzMy6uroAAACGxKilAAAAAXRSTlMAQObYZgAAAclJREFU\n",
       "OMtjYGB4x0AIMOGU4T1AUDNuJbs2ENTMEIpL4iRhvQzMDdjFOQqwCHKud/m1fCmCz4rmbqb1Xr+K\n",
       "HRkY2BKwGcnCcYDXcQUDowsQeDMwcP9Gl+cL2LVJgYH9AXbNCQzeLQi+JaZm1gcLGO4ji3FHGRsv\n",
       "gGnWZUFIpKDL8wUwTjjNEI6s+dZsJJuRNc9Hlwfa/MKB4RQo0I7qVYADzxvZ2aeRnP1+A5o8X8Dl\n",
       "KRsYfIDM5w0sH8BCDUia+SxXIDTfv4Amz2f8v5SBYRnQwJ8MbA4goS1IAVZsvBDJP/0P0OSBzg50\n",
       "YDBjYOD5wMAcABJ6bmwMD7C8BG8kzfsF0OT5AhgcHoE08zsw7Ac76w5yVOXdwbD5DrLNDA4sDGuA\n",
       "MgEM8gygENmMrJlr6wQkzWDDN6NrPgJ20ylGkCzPBCTNvAfOIoU2OKiQ5CHODmZg4JrAaAbOstx2\n",
       "yFGliAhcaDwjyfMFcKY6MLwHRXPclTiwWFcuPGN8ucDl9RGuWYsBRR6YMb6YHwSG1gXkJCazGBKa\n",
       "6GApdnkeBSLyM/cPHEWMARGaOR1wSDgSU5JcwCHRRYTmabgkGAl7msMBp9REgprZiChgSQYA/615\n",
       "USBdwhYAAAAASUVORK5CYII=\n",
       "\" style=\"display:inline;vertical-align:middle;\" /></a></span>"
      ],
      "text/plain": [
       "|- (a in RealsNeg) in BOOLEANS"
      ]
     },
     "execution_count": 4,
     "metadata": {},
     "output_type": "execute_result"
    }
   ],
   "source": [
    "InSet(a, RealsNeg).deduceInBool()"
   ]
  },
  {
   "cell_type": "code",
   "execution_count": 5,
   "metadata": {},
   "outputs": [],
   "source": [
    "%end demonstrations"
   ]
  }
 ],
 "metadata": {
  "kernelspec": {
   "display_name": "Python 3",
   "language": "python",
   "name": "python3"
  }
 },
 "nbformat": 4,
 "nbformat_minor": 0
}
