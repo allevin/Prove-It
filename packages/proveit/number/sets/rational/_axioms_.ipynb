{
 "cells": [
  {
   "cell_type": "markdown",
   "metadata": {},
   "source": [
    "Axioms for context <a class=\"ProveItLink\" href=\"_context_.ipynb\">proveit.number.sets.rational</a>\n",
    "========"
   ]
  },
  {
   "cell_type": "code",
   "execution_count": null,
   "metadata": {},
   "outputs": [],
   "source": [
    "import proveit\n",
    "from proveit._common_ import a, b, q, x\n",
    "from proveit.logic import Equals, Exists, Forall, InSet, Iff, NotEquals, SetOfAll\n",
    "from proveit.number import Integers, frac, zero, Naturals, NaturalsPos, Neg\n",
    "from proveit.number import Rationals, RationalsPos, RationalsNeg, RationalsNonNeg\n",
    "from proveit.number import Add, Greater, GreaterEq, Less\n",
    "# the context is in the current directory:\n",
    "context = proveit.Context('.') # adds context root to sys.path if necessary"
   ]
  },
  {
   "cell_type": "code",
   "execution_count": null,
   "metadata": {},
   "outputs": [],
   "source": [
    "%begin axioms"
   ]
  },
  {
   "cell_type": "code",
   "execution_count": null,
   "metadata": {},
   "outputs": [],
   "source": [
    "rationalsDef = Forall(x,\n",
    "                      Equals(InSet(x, Rationals),\n",
    "                          Exists((a, b),\n",
    "                                 Equals(x, frac(a, b)),\n",
    "                                 conditions = [NotEquals(b, zero)],\n",
    "                                 domain = Integers)))"
   ]
  },
  {
   "cell_type": "code",
   "execution_count": null,
   "metadata": {},
   "outputs": [],
   "source": [
    "rationalsPosDef = SetOfAll(q, q, conditions=[Greater(q, zero)], domain=Rationals)"
   ]
  },
  {
   "cell_type": "code",
   "execution_count": null,
   "metadata": {},
   "outputs": [],
   "source": [
    "rationalsNegDef = SetOfAll(q, q, conditions=[Less(q, zero)], domain=Rationals)"
   ]
  },
  {
   "cell_type": "code",
   "execution_count": null,
   "metadata": {},
   "outputs": [],
   "source": [
    "rationalsNonNegDef = SetOfAll(q, q, conditions=[GreaterEq(q, zero)], domain=Rationals)"
   ]
  },
  {
   "cell_type": "code",
   "execution_count": null,
   "metadata": {},
   "outputs": [],
   "source": [
    "%end axioms"
   ]
  }
 ],
 "metadata": {
  "kernelspec": {
   "display_name": "Python 3",
   "language": "python",
   "name": "python3"
  }
 },
 "nbformat": 4,
 "nbformat_minor": 0
}
