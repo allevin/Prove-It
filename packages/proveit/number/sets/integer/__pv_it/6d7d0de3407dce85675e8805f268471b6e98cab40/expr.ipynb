{
 "cells": [
  {
   "cell_type": "markdown",
   "metadata": {},
   "source": [
    "Expression of type <a class=\"ProveItLink\" href=\"../../../../../../../doc/html/api/proveit.Lambda.html\">Lambda</a>\n",
    "=======================\n",
    "# from context <a class=\"ProveItLink\" href=\"../../_context_.ipynb\">proveit.number.sets.integer</a>"
   ]
  },
  {
   "cell_type": "code",
   "execution_count": 1,
   "metadata": {},
   "outputs": [],
   "source": [
    "# import Expression classes needed to build the expression\n",
    "from proveit import Lambda\n",
    "from proveit._common_ import m\n",
    "from proveit.logic import InSet\n",
    "from proveit.number import Naturals\n",
    "from proveit.number._common_ import P_mAddOne, Pm"
   ]
  },
  {
   "cell_type": "code",
   "execution_count": 2,
   "metadata": {},
   "outputs": [
    {
     "data": {
      "text/html": [
       "<strong id=\"expr\">expr:</strong> <a class=\"ProveItLink\" href=\"expr.ipynb\"><img src=\"data:image/png;base64,iVBORw0KGgoAAAANSUhEUgAAARsAAAAVCAMAAABBjrrXAAAANlBMVEX///8UFBQNDQ3MzMyYmJgQ\n",
       "EBBmZmYiIiLu7u4yMjKqqqp2dnZUVFTc3NxERESIiIi6uroAAAAisC+WAAAAAXRSTlMAQObYZgAA\n",
       "AspJREFUWMPdmNmS2yAQRUnYd/j/nw2LZFtAwxhrMqnwIhcuXQ6X7haA0L/alEX/UQt+900S+j4d\n",
       "fhCafDK4NzGa1Lh5LC82GzpOlAfDN3kjZHROZlHGI1crZhB6APRGi7JOjp4DSfH+TFw8XpK3xY0j\n",
       "CLtKuGaGoeUH1uCoa1k4nsivM0pcS4hIa3h6Q/Rd3hiODxa6ZJ5A90BvJFWs7CSy2kHXYaN8r3K8\n",
       "JeieN8JLntrLKpuQYsHgkTcd8wS6B3ojdI+INbEmdfhCEE68QU7teIMlaWdncKohIucKXTFPoTNQ\n",
       "8M5a741Ov/wL4fU1pcapK6I7ipc+yv5YbemNZrA3oKh1/bqnkEnj5JJD0YJ5Cp2BNDLS5xcyjHrW\n",
       "L94MKUapi/k5JUmqIqC29EZJ2BtQ1A32QDmdWEDEd950zFPoBBQC4q6Y6dHMG2HsdVJGa830o5OW\n",
       "qYBqS28CBb0BRYVDY2/yShpMu8Ea5il0AhKpK5Susil4rt7vX/zSaAyX1G2iuf4Lqi29wRH0BhQN\n",
       "9ISTjTcilxzalZs2A2fQBejoKnFCNRQ3qf5fVPlwGEiNydw4LQ/zpjcg4nDjVrxBWKMubjrmKXQB\n",
       "qkaVJAzRIjH2htlr6ralk6rThaHaJzkFigoOeoOIQq4tNy3zFLoAFaNqVBmJLBl6g/1wp3DZjiIE\n",
       "qy29IZNaDIoaAnqDtHU1YWDmKXQGsqWLlJBO1foRsdd5iFXqHt9gSO2jbzgoKni/CXLhNdjEM5F6\n",
       "5il0/q8Gsy4mK+O/cMYSzKVDWzPPwF9SA1BrvWGMRsnq2skw2d+AolY2h8IgI3XnsbNsb6MFmafQ\n",
       "8sZ7ALq+b1HwkWv3zJDmIq/fqe4Swm5Bf3Jm2DmcTS54tP+u+xuyB639jd7s3FG8XLugH/EGhBby\n",
       "TmuQNfvvGvtd3vg9aHPzjazdDsPRF8D/nTvRMXQB+gOlqylux4hvVQAAAABJRU5ErkJggg==\n",
       "\" style=\"display:inline;vertical-align:middle;\" /></a><br>"
      ],
      "text/plain": [
       "expr: m -> P(m + 1) | m in Naturals , P(m)"
      ]
     },
     "execution_count": 2,
     "metadata": {},
     "output_type": "execute_result"
    }
   ],
   "source": [
    "# build up the expression from sub-expressions\n",
    "expr = Lambda(m, P_mAddOne, conditions = [InSet(m, Naturals), Pm])"
   ]
  },
  {
   "cell_type": "code",
   "execution_count": 3,
   "metadata": {},
   "outputs": [
    {
     "name": "stdout",
     "output_type": "stream",
     "text": [
      "Passed sanity check: built 'expr' is the same as the stored Expression.\n"
     ]
    }
   ],
   "source": [
    "# check that the built expression is the same as the stored expression\n",
    "%check_expr"
   ]
  },
  {
   "cell_type": "code",
   "execution_count": 4,
   "metadata": {},
   "outputs": [
    {
     "data": {
      "text/html": [
       "<table><tr><th>&nbsp;</th><th>core type</th><th>sub-expressions</th><th>expression</th></tr>\n",
       "<tr><td>0</td><td>Lambda</td><td>parameter:&nbsp;12<br>body:&nbsp;1<br>conditions:&nbsp;2<br></td><td><a class=\"ProveItLink\" href=\"expr.ipynb\"><img src=\"data:image/png;base64,iVBORw0KGgoAAAANSUhEUgAAARsAAAAVCAMAAABBjrrXAAAANlBMVEX///8UFBQNDQ3MzMyYmJgQ\n",
       "EBBmZmYiIiLu7u4yMjKqqqp2dnZUVFTc3NxERESIiIi6uroAAAAisC+WAAAAAXRSTlMAQObYZgAA\n",
       "AspJREFUWMPdmNmS2yAQRUnYd/j/nw2LZFtAwxhrMqnwIhcuXQ6X7haA0L/alEX/UQt+900S+j4d\n",
       "fhCafDK4NzGa1Lh5LC82GzpOlAfDN3kjZHROZlHGI1crZhB6APRGi7JOjp4DSfH+TFw8XpK3xY0j\n",
       "CLtKuGaGoeUH1uCoa1k4nsivM0pcS4hIa3h6Q/Rd3hiODxa6ZJ5A90BvJFWs7CSy2kHXYaN8r3K8\n",
       "JeieN8JLntrLKpuQYsHgkTcd8wS6B3ojdI+INbEmdfhCEE68QU7teIMlaWdncKohIucKXTFPoTNQ\n",
       "8M5a741Ov/wL4fU1pcapK6I7ipc+yv5YbemNZrA3oKh1/bqnkEnj5JJD0YJ5Cp2BNDLS5xcyjHrW\n",
       "L94MKUapi/k5JUmqIqC29EZJ2BtQ1A32QDmdWEDEd950zFPoBBQC4q6Y6dHMG2HsdVJGa830o5OW\n",
       "qYBqS28CBb0BRYVDY2/yShpMu8Ea5il0AhKpK5Susil4rt7vX/zSaAyX1G2iuf4Lqi29wRH0BhQN\n",
       "9ISTjTcilxzalZs2A2fQBejoKnFCNRQ3qf5fVPlwGEiNydw4LQ/zpjcg4nDjVrxBWKMubjrmKXQB\n",
       "qkaVJAzRIjH2htlr6ralk6rThaHaJzkFigoOeoOIQq4tNy3zFLoAFaNqVBmJLBl6g/1wp3DZjiIE\n",
       "qy29IZNaDIoaAnqDtHU1YWDmKXQGsqWLlJBO1foRsdd5iFXqHt9gSO2jbzgoKni/CXLhNdjEM5F6\n",
       "5il0/q8Gsy4mK+O/cMYSzKVDWzPPwF9SA1BrvWGMRsnq2skw2d+AolY2h8IgI3XnsbNsb6MFmafQ\n",
       "8sZ7ALq+b1HwkWv3zJDmIq/fqe4Swm5Bf3Jm2DmcTS54tP+u+xuyB639jd7s3FG8XLugH/EGhBby\n",
       "TmuQNfvvGvtd3vg9aHPzjazdDsPRF8D/nTvRMXQB+gOlqylux4hvVQAAAABJRU5ErkJggg==\n",
       "\" style=\"display:inline;vertical-align:middle;\" /></a></td></tr>\n",
       "<tr><td>1</td><td>Operation</td><td>operator:&nbsp;10<br>operand:&nbsp;3<br></td><td><a class=\"ProveItLink\" href=\"../../../../__pv_it/8f8b06ffd60c6b3baff36499e8066fc20ae6a1f60/expr.ipynb\"><img src=\"data:image/png;base64,iVBORw0KGgoAAAANSUhEUgAAAFcAAAAVBAMAAADBdm84AAAAMFBMVEX////u7u5mZmaYmJi6urqq\n",
       "qqp2dnbMzMwQEBBEREQyMjLc3NwiIiJUVFSIiIgAAAAeC3ydAAAAAXRSTlMAQObYZgAAAVtJREFU\n",
       "KM+dkr9Lw0AUx7/51TStaYNTHSSCICIODtI5g7P4HzSDOEr/A3VxsEscnJs5iAQcBZHuQqZukWzi\n",
       "YGxLdKiKvosBvZBk8EHefXPvk7t83x3w39itKm6n+fkrDO99EmpQSp4DYj9Vc0Ab0NgwytilKSWX\n",
       "KfUNUOhBnGcE/2dcDhncZbKVANKMxEkeVqJMtBjcYUqbAPorILvVsLZHqU2Q6ZADmz54uonHcnxR\n",
       "BNdWKB3ZUEfM3xZN6Fcw99ErghW288v4YI05qVvAzoIDMyqG5WNKw6xjbYIN00LPwEYRrJI3fOAX\n",
       "ZuQmcEpK9LzLM88LOFidZXCduaU1R5DfhZLfYG1OQyODtKaQQHevC2CJDGrTbIa1pplAmqAR2cWt\n",
       "Wxx+ZlPyXbpVzYHy0OdgcX2+Sq21/h7YoPQE0+hwtW4eljn4kKuVX9H0CvJXpxlUwbrPv99WwY/A\n",
       "N7a4YGzwk0+/AAAAAElFTkSuQmCC\n",
       "\" style=\"display:inline;vertical-align:middle;\" /></a></td></tr>\n",
       "<tr><td>2</td><td>ExprTuple</td><td>4, 5</td><td><a class=\"ProveItLink\" href=\"../3ddc21f7f9b8ed95783a8bcbd87168698f92bbd90/expr.ipynb\"><img src=\"data:image/png;base64,iVBORw0KGgoAAAANSUhEUgAAAIYAAAAVBAMAAABxpYtPAAAAMFBMVEX////c3NwiIiJERESqqqqY\n",
       "mJh2dnZmZmYQEBDu7u4yMjJUVFTMzMyIiIi6uroAAAAs73DqAAAAAXRSTlMAQObYZgAAAmNJREFU\n",
       "OMutVEFo02AU/rombf4lSyvDkwxLFQYqmOE8z7Mi60F2ENSAoCdleNhBPGxTBC8avCgTaRGG7jA3\n",
       "Dw7sFAJeBAUDO27F4EkG0zrGxhSr76XJn7SsjIGF/+97Ly9fvu+99//A//iZ3t7y12LzIi3Vp+3j\n",
       "zqli7sQMsscPh+7y38XFo3kyjPk4J+vSdovWTIfvpUvvgZx0f1Fkgv67nUROhQNATycp+jF6pEWe\n",
       "sQkotFBL5oywGBua0/bu02fFIwHGqvM2xuhpUPYWGfeSuY9Z9DhW2yCM6RBU/zQ/5UiMdJ0iG9SB\n",
       "SoveU7QNYoziS/tqC2ZtMAj3Rrx096xhSYwcvVu2qIw2dWagb9leW6L3M6P06CqmydJnUb6O4SB5\n",
       "QNbDzfoXJMZnG0Y/V7AE2FVPbPoKMVOY1WncB753WSh7TQxhxRh4o3+IvC8LV8a4tZoP0z8E8QeM\n",
       "YY5T6BuoVk7Zx7CDm8HETRaLYU1dPBEvIoyhUGLOhxANKNvIEgejzhQZgwFuAHfRMkKEYdiSxzok\n",
       "RgBQgGZLjDu0E4N+mD8FaykkMHAuHXVrKzQ0qiQx6BrFj7wTaTkJZkD09Mp+TnqdxMj0ktJoPMLp\n",
       "BTMg9dVUCSrX9Dx1BqkG1Dq6PZuTHvpRth8wFIGK9HYY5W4e9HEJmM3I3n4NqpuxoLzjE4TUc7d5\n",
       "nOdu0z4F8YDa8Wjod3gkzAKTx2XgzAp1mr/zElq+bVCVarMv8m5oTZjYYdZVe5f7Qm11R5LONVbn\n",
       "dT77HTCSZ19UArnAgV0w2u6GVOIO0lnmKw7u8S7si80V7rqLfxeNnsFOTH6QAAAAAElFTkSuQmCC\n",
       "\" style=\"display:inline;vertical-align:middle;\" /></a></td></tr>\n",
       "<tr><td>3</td><td>Operation</td><td>operator:&nbsp;6<br>operands:&nbsp;7<br></td><td><a class=\"ProveItLink\" href=\"../../../../__pv_it/dc4fc328db6d0934b41f349bcbfcc1c9152c05f30/expr.ipynb\"><img src=\"data:image/png;base64,iVBORw0KGgoAAAANSUhEUgAAADQAAAAQBAMAAACra0H4AAAAMFBMVEX////MzMyYmJgQEBBmZmYi\n",
       "IiLu7u4yMjKqqqp2dnZUVFTc3NxERESIiIi6uroAAABe5jFNAAAAAXRSTlMAQObYZgAAAI5JREFU\n",
       "GNNjYMABjuGSYMj5hiGUDaGyVmFK9UJpXvxSfHd2313Jd/cEFilOrlqG/HkM/Vik3rEeYMi/gFUq\n",
       "If8BQ38Cgzs2ZwDFXRkYLEF89/Ly4PLyKrgUUH0IA99vNiy6LBnY/jFwFWzClOL+x8D0gYH9wgQs\n",
       "/jJg4DzAwLFWAEWKxfm7E67QwALeIpgAMDkyRlRPFPwAAAAASUVORK5CYII=\n",
       "\" style=\"display:inline;vertical-align:middle;\" /></a></td></tr>\n",
       "<tr><td>4</td><td>Operation</td><td>operator:&nbsp;8<br>operands:&nbsp;9<br></td><td><a class=\"ProveItLink\" href=\"../356abc835683fc1a8023580da2b0e4a7307fe7f30/expr.ipynb\"><img src=\"data:image/png;base64,iVBORw0KGgoAAAANSUhEUgAAADsAAAAPBAMAAACo4Ko7AAAAMFBMVEX////MzMyYmJgQEBBmZmYi\n",
       "IiLu7u4yMjKqqqp2dnZUVFTc3NxERESIiIi6uroAAABe5jFNAAAAAXRSTlMAQObYZgAAAPdJREFU\n",
       "GNNjYMAK0v8cT2Bw/drAgAMcYjzAwPABlyzDUoG7DAwG6KK5paHhYMa6Mi4BDGnGogQoa6EUWxlI\n",
       "mu/O7rsr+e6eAAvugckyLOS4IAOS5uSqZcifx9APFjwNN2chgx/TBaD0O9YDDPkXINJsB5CkuRIW\n",
       "AqUT8h8w9CcwuIPE+ExDQ6FOW8jAtiAd5DSgnCsDgyXYZQuQdDNIMoKkgfpCGPh+s4EMD0CWZmoA\n",
       "2WXJwPaPgatgE0hwEbI0w2ygNPc/BqYPDOwXJoAEUx/ApM8BMUsB0DkGDJwHGDjWCoAEuUsEILLP\n",
       "PwN1shWgByrHcqjLoQAAolk/aDCz970AAAAASUVORK5CYII=\n",
       "\" style=\"display:inline;vertical-align:middle;\" /></a></td></tr>\n",
       "<tr><td>5</td><td>Operation</td><td>operator:&nbsp;10<br>operand:&nbsp;12<br></td><td><a class=\"ProveItLink\" href=\"../../../../__pv_it/9b741a98b2b13f75e88d8924f5dca976c2bf42840/expr.ipynb\"><img src=\"data:image/png;base64,iVBORw0KGgoAAAANSUhEUgAAADMAAAAVBAMAAAAZessyAAAAMFBMVEX////u7u5mZmaYmJi6urqq\n",
       "qqp2dnbMzMwQEBBEREQyMjLc3NwiIiJUVFSIiIgAAAAeC3ydAAAAAXRSTlMAQObYZgAAASlJREFU\n",
       "KM+NkrFOAkEURe/ALrMrIsTKDiprCmPrlFboD5hMZWJD+AO1prGngC8w+wVI7CxMrCxISOiMBQoE\n",
       "KYyid2ZXdjY2TLJv3r4ze+fOmwU2G400PbBx8jMaPUZM5FOKci07fQJhm/NWxVHomSCXgM8Hb674\n",
       "oQk7CyA/Z3Ltoj0TwilQ+gC8novCU4YyS9Ub7qzpsdOf6MYry4Ua0aWGvDcu6oAejsVS+dTxjcb7\n",
       "8/m+8R4oeOoBYgWDvCuWuonnsoIQC/gz5PiFJMYX1sjWBwh0jOQ8QQE35/rtGk6iihU0x4rt0gbX\n",
       "VxWGxTryFA1nCTJ27xSOgNuCfdvtfo9j5A2AY+ACOHvhUZTbgPa/RmU7+jeaGeReisg0FEXnKktR\n",
       "9gfopymN/AJliUQwLxuHhgAAAABJRU5ErkJggg==\n",
       "\" style=\"display:inline;vertical-align:middle;\" /></a></td></tr>\n",
       "<tr><td>6</td><td>Literal</td><td></td><td><a class=\"ProveItLink\" href=\"../../../../addition/__pv_it/3e6688136fa3c7aefbebe51301b7c3ebf0b69c440/expr.ipynb\"><img src=\"data:image/png;base64,iVBORw0KGgoAAAANSUhEUgAAAA4AAAAOBAMAAADtZjDiAAAAJFBMVEX///+6urpUVFQQEBAiIiIy\n",
       "MjJmZmaIiIiqqqrc3Nzu7u4AAACgHpL+AAAAAXRSTlMAQObYZgAAAB5JREFUCNdjYGBgWMkAAe2k\n",
       "0Kmhoc6hoUGk6BMHYgAHOwjcado9fwAAAABJRU5ErkJggg==\n",
       "\" style=\"display:inline;vertical-align:middle;\" /></a></td></tr>\n",
       "<tr><td>7</td><td>ExprTuple</td><td>12, 11</td><td><a class=\"ProveItLink\" href=\"../../../../__pv_it/05f49c26d95b23418b343f7f79274c4507cae0e60/expr.ipynb\"><img src=\"data:image/png;base64,iVBORw0KGgoAAAANSUhEUgAAADEAAAAVBAMAAAAdjxsPAAAAMFBMVEX////c3NwiIiJERESqqqqY\n",
       "mJh2dnZmZmYQEBDu7u4yMjJUVFTMzMyIiIi6uroAAAAs73DqAAAAAXRSTlMAQObYZgAAAPdJREFU\n",
       "KM9jYMAN+C5gEYwDEacxhC0ZGNgPAOmV6BKTfwKJBQwMvOiGzd4NkgljYOCYgK6HFyQzg4HhFQNW\n",
       "GWYHhjKg6y4L3t3Gd9cEWYatgGEpkOReyzA/j8EfWYZlAUMfA8M7JgOG+RdQZfgaGP4xMEyY/4DB\n",
       "fwJDFbIMzweQDEi4iIGhDU2mBUgBVasz8H3kRDXNlAGkmvMfA/cCUYYJcBnWBQzpDAyM/xhYPzBw\n",
       "XUjg/ITs6kdgnWwGDCx7D3D2CwADs+JXKQMD1wMGDgHkGIFzgKHDmoAkwwpn5aLFAlyGExgLDNJI\n",
       "MvAY4QYZy4gttu8wMAAA6lFC5ju7q+4AAAAASUVORK5CYII=\n",
       "\" style=\"display:inline;vertical-align:middle;\" /></a></td></tr>\n",
       "<tr><td>8</td><td>Literal</td><td></td><td><a class=\"ProveItLink\" href=\"../../../../../logic/set_theory/membership/__pv_it/088cbc857536a28d4119ad9639a84270ccb0545d0/expr.ipynb\"><img src=\"data:image/png;base64,iVBORw0KGgoAAAANSUhEUgAAAAwAAAAMBAMAAACkW0HUAAAALVBMVEX///+qqqpmZmZUVFQQEBC6\n",
       "urpERETc3NyYmJjMzMwiIiIyMjKIiIju7u4AAACYsrA9AAAAAXRSTlMAQObYZgAAADxJREFUCNdj\n",
       "YOA9vWrVBgaG2b0MQMCeCyIZ2ArA1DUwyRCyahVIyWQI7xaEYm4AU7xLIdxqTQgtvGvVBgCkcQ7e\n",
       "geM/tQAAAABJRU5ErkJggg==\n",
       "\" style=\"display:inline;vertical-align:middle;\" /></a></td></tr>\n",
       "<tr><td>9</td><td>ExprTuple</td><td>12, 13</td><td><a class=\"ProveItLink\" href=\"../aeb217f85bda4997cd99dc5cf18eedcf039bdd030/expr.ipynb\"><img src=\"data:image/png;base64,iVBORw0KGgoAAAANSUhEUgAAADcAAAAVBAMAAAAQkWtIAAAAMFBMVEX////c3NwiIiJERESqqqqY\n",
       "mJh2dnZmZmYQEBDu7u4yMjJUVFTMzMyIiIi6uroAAAAs73DqAAAAAXRSTlMAQObYZgAAAS1JREFU\n",
       "KM990jFLw0AUwPF/tWl7TQx1cPIDuGawi4PkG3RzlDo5KdLBwUE6iKNmlC7J4pBBEAenKgHBpUvA\n",
       "1UBxdJBYF6fiu2rLkaqBHLz347273Av8+7jp7/ltvQwKyd7HRkBn5FcTCeJiSdPxIIcIlua63iQZ\n",
       "dGELakER72M70XgBr3Mn6Q9UrHHR51DO+7Sc3brZ+hTL6YPGygGXstpXhPu0psixlQqWI87gbcEj\n",
       "TA20g76g22UMQTikFXA0Q3XdE3RyjVo6cDpDHp1vPJFQatZw39UMLd+btG2ia9QYO1oh+EF2BK2I\n",
       "XSiNsXLqaVuNNG7KW40mn/Iyqa94lO8Sdd6QW/mUKiVYH1JrmOMzA7k+q23ElnmNe4WRmag7s2ok\n",
       "zPHZeovSH7/JM3wBnMdS7sda6IgAAAAASUVORK5CYII=\n",
       "\" style=\"display:inline;vertical-align:middle;\" /></a></td></tr>\n",
       "<tr><td>10</td><td>Variable</td><td></td><td><a class=\"ProveItLink\" href=\"../../../../../__pv_it/6369c6c8083c513ca7161ace249642d040f9327d0/expr.ipynb\"><img src=\"data:image/png;base64,iVBORw0KGgoAAAANSUhEUgAAABAAAAAOBAMAAADUAYG5AAAAMFBMVEX////u7u5mZmaYmJi6urqq\n",
       "qqp2dnbMzMwQEBBEREQyMjLc3NwiIiJUVFSIiIgAAAAeC3ydAAAAAXRSTlMAQObYZgAAAGBJREFU\n",
       "CNdjYGB4+//u3bMbGIDgFwMDZzeQZv/GwMAKxAx8XxgYmD8BGZwfGBh4vwIZ/AsYGOQnABn1CQzs\n",
       "h0Ca3l9LUwPrni/AAAF/oDT7JygDZAwYcH6E0ELz/z4A0QBnpRnRyxnfJQAAAABJRU5ErkJggg==\n",
       "\" style=\"display:inline;vertical-align:middle;\" /></a></td></tr>\n",
       "<tr><td>11</td><td>Literal</td><td></td><td><a class=\"ProveItLink\" href=\"../../../../numeral/__pv_it/9be8badea4c35b9724062cecc501d17a3158d1d20/expr.ipynb\"><img src=\"data:image/png;base64,iVBORw0KGgoAAAANSUhEUgAAAAgAAAAPBAMAAAArJJMAAAAAHlBMVEX///+YmJgyMjIQEBBmZmaI\n",
       "iIhUVFTu7u5EREQAAAAw+MI4AAAAAXRSTlMAQObYZgAAACFJREFUCNdjYGBoZ2BgqJjOwFCWBiQY\n",
       "WEklWJwnOTKAAACjEQo8HvEr3AAAAABJRU5ErkJggg==\n",
       "\" style=\"display:inline;vertical-align:middle;\" /></a></td></tr>\n",
       "<tr><td>12</td><td>Variable</td><td></td><td><a class=\"ProveItLink\" href=\"../../../../../__pv_it/78af03acba5349fd70398a32ce59bae1da52f0870/expr.ipynb\"><img src=\"data:image/png;base64,iVBORw0KGgoAAAANSUhEUgAAABIAAAAJBAMAAADN8WE8AAAAMFBMVEX////MzMyYmJgQEBBmZmYi\n",
       "IiLu7u4yMjKqqqp2dnZUVFTc3NxERESIiIi6uroAAABe5jFNAAAAAXRSTlMAQObYZgAAAFtJREFU\n",
       "CNdj4Luz++5KvrsnGBg4uWoZ8ucx9DMwvGM9wJB/AcRKyH/A0J/A4M7AAKJcGRgsgSwgL4SB7zcb\n",
       "iMf2j4GrYBMD9z8Gpg8M7BcmMPAZMHAeYOBYKwAAtXMYHwtZnY0AAAAASUVORK5CYII=\n",
       "\" style=\"display:inline;vertical-align:middle;\" /></a></td></tr>\n",
       "<tr><td>13</td><td>Literal</td><td></td><td><a class=\"ProveItLink\" href=\"../e5d9bd86b06b357eee742ad868997123619e09700/expr.ipynb\"><img src=\"data:image/png;base64,iVBORw0KGgoAAAANSUhEUgAAAA8AAAAOBAMAAAACpFvcAAAAMFBMVEX////c3Nx2dna6uroQEBCI\n",
       "iIhUVFTMzMyYmJiqqqoiIiJmZmZEREQyMjLu7u4AAADjlg78AAAAAXRSTlMAQObYZgAAAGBJREFU\n",
       "CNdjePvn7AOGXb8mMDCcYD/AwPCBgYEhqyCUgcEByEi+x1YAZqSX8d2DMDgDaiAMhs0cARAG24N0\n",
       "CIMv4S2EwVDEDmVwTDgAYTAoghiHgZj7AgOD7Rcgj+8CAwA9oh2B0HK+MAAAAABJRU5ErkJggg==\n",
       "\" style=\"display:inline;vertical-align:middle;\" /></a></td></tr>\n",
       "</table>\n"
      ],
      "text/plain": [
       "0. m -> P(m + 1) | m in Naturals , P(m)\n",
       "   core type: Lambda\n",
       "   parameter: 12\n",
       "   body: 1\n",
       "   conditions: 2\\n1. P(m + 1)\n",
       "   core type: Operation\n",
       "   operator: 10\n",
       "   operand: 3\n",
       "2. (m in Naturals , P(m))\n",
       "   core type: ExprTuple\n",
       "   sub-expressions: 4, 5\n",
       "3. m + 1\n",
       "   core type: Operation\n",
       "   operator: 6\n",
       "   operands: 7\n",
       "4. m in Naturals\n",
       "   core type: Operation\n",
       "   operator: 8\n",
       "   operands: 9\n",
       "5. P(m)\n",
       "   core type: Operation\n",
       "   operator: 10\n",
       "   operand: 12\n",
       "6. +\n",
       "   core type: Literal\n",
       "   sub-expressions: \n",
       "7. (m , 1)\n",
       "   core type: ExprTuple\n",
       "   sub-expressions: 12, 11\n",
       "8. in\n",
       "   core type: Literal\n",
       "   sub-expressions: \n",
       "9. (m , Naturals)\n",
       "   core type: ExprTuple\n",
       "   sub-expressions: 12, 13\n",
       "10. P\n",
       "    core type: Variable\n",
       "    sub-expressions: \n",
       "11. 1\n",
       "    core type: Literal\n",
       "    sub-expressions: \n",
       "12. m\n",
       "    core type: Variable\n",
       "    sub-expressions: \n",
       "13. Naturals\n",
       "    core type: Literal\n",
       "    sub-expressions: "
      ]
     },
     "execution_count": 4,
     "metadata": {},
     "output_type": "execute_result"
    }
   ],
   "source": [
    "# display the expression information\n",
    "expr.exprInfo()"
   ]
  },
  {
   "cell_type": "code",
   "execution_count": null,
   "metadata": {},
   "outputs": [],
   "source": []
  }
 ],
 "metadata": {
  "kernelspec": {
   "display_name": "Python 3",
   "language": "python",
   "name": "python3"
  }
 },
 "nbformat": 4,
 "nbformat_minor": 0
}
