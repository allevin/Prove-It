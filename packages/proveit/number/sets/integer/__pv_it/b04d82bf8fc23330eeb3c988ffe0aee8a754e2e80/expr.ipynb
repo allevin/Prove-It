{
 "cells": [
  {
   "cell_type": "markdown",
   "metadata": {},
   "source": [
    "Expression of type <a class=\"ProveItLink\" href=\"../../../../../../../doc/html/api/proveit.Lambda.html\">Lambda</a>\n",
    "=======================\n",
    "# from context <a class=\"ProveItLink\" href=\"../../_context_.ipynb\">proveit.number.sets.integer</a>"
   ]
  },
  {
   "cell_type": "code",
   "execution_count": 1,
   "metadata": {},
   "outputs": [],
   "source": [
    "# import Expression classes needed to build the expression\n",
    "from proveit import Lambda\n",
    "from proveit._common_ import a, b, n\n",
    "from proveit.logic import InSet\n",
    "from proveit.number import Interval, LessEq"
   ]
  },
  {
   "cell_type": "code",
   "execution_count": 2,
   "metadata": {},
   "outputs": [
    {
     "data": {
      "text/html": [
       "<strong id=\"expr\">expr:</strong> <a class=\"ProveItLink\" href=\"expr.ipynb\"><img src=\"data:image/png;base64,iVBORw0KGgoAAAANSUhEUgAAAPQAAAAVCAMAAABG6TPrAAAANlBMVEX///8UFBQNDQ0QEBCYmJhm\n",
       "ZmaqqqoiIiLMzMzu7u4yMjJ2dnZUVFTc3NxERESIiIi6uroAAAAna2R4AAAAAXRSTlMAQObYZgAA\n",
       "AoNJREFUWMPFWNmSrCAMZYbNsPP/P3ttQEUMzBWtap8ou5OcE7JKyDcfYWekGGdz5hat7STS4KfE\n",
       "WLi+0+G+HpB63ssLFXNyZtIgX14h7eNtNxkqdxBqCruCv1DJDhX1CmlNJzCbJ9IrpXFwg5bdPzD9\n",
       "LdJRPCNNRxcNXA5qDNDbpMEruT7qGekQ4RHpMMgJa9S4TDhxk/SiGLxw01q20sE7a703upd8oobK\n",
       "9c7Q60BtXeBUuBb6k27N+6QRGMQ6GIT3BcEgpVfFrJbWxKg1DSEexVWeZUxlWpXwTdbcUUjBuQUB\n",
       "eNYtVJ80AoM4jNFWf1sEgxyJ7pPXSTFLAiEQ6dIvoUcazGGc5n/Z+CHPXV2z/eVaWt2BdkljMMCh\n",
       "nbaHoD8CpZSmOYbUJ9qg2BFHspPfH3l66IGknExy2LlQM6kb2q3uJXZJYzAC3QCoI4doiQQMQW9A\n",
       "SOKx5JZLwZrtmCr0mpsm5vB+IR3zrTQRLRS3mJM33QPSGAx0DAqFNY4AfSRPFTwnZpnniiMYgQ7p\n",
       "mkke42z0CSYh0BZ3syBOLroH4Y3BAIlRyG7pIuh1aZ5DiBW/p2Bn6zuNk17qEHIslwaRzYuLp5dT\n",
       "RTvrZoNChsAghnX7zwXB4SrSnlI4lJQu1dumiNWuIuCbzKxN8r2IizVsNDqc71Qa3aOWhcBYrzp0\n",
       "W1aDAKJsDsfJrP7h5tynaW6J/r/2jyC3HunD4vwfw0Wj+9LI6z6NwbDquqVsd3VGANQ1h+qV8fsy\n",
       "OjmGzm6kU2MoEUY9H0MfS7P5bVb7by0cj6Xx1dLWfR2nAu+sluwR6cl92s5+RDD2pS8nfp7zNs/d\n",
       "Zz1n1CNzhA9zGSYmKZdvZP8AsoAd2SpZUkkAAAAASUVORK5CYII=\n",
       "\" style=\"display:inline;vertical-align:middle;\" /></a><br>"
      ],
      "text/plain": [
       "expr: n -> (a <= n) | n in {a...b}"
      ]
     },
     "execution_count": 2,
     "metadata": {},
     "output_type": "execute_result"
    }
   ],
   "source": [
    "# build up the expression from sub-expressions\n",
    "expr = Lambda(n, LessEq(a, n), conditions = [InSet(n, Interval(a, b))])"
   ]
  },
  {
   "cell_type": "code",
   "execution_count": 3,
   "metadata": {},
   "outputs": [
    {
     "name": "stdout",
     "output_type": "stream",
     "text": [
      "Passed sanity check: built 'expr' is the same as the stored Expression.\n"
     ]
    }
   ],
   "source": [
    "# check that the built expression is the same as the stored expression\n",
    "%check_expr"
   ]
  },
  {
   "cell_type": "code",
   "execution_count": 4,
   "metadata": {},
   "outputs": [
    {
     "data": {
      "text/html": [
       "<table><tr><th>&nbsp;</th><th>core type</th><th>sub-expressions</th><th>expression</th></tr>\n",
       "<tr><td>0</td><td>Lambda</td><td>parameter:&nbsp;8<br>body:&nbsp;1<br>conditions:&nbsp;2<br></td><td><a class=\"ProveItLink\" href=\"expr.ipynb\"><img src=\"data:image/png;base64,iVBORw0KGgoAAAANSUhEUgAAAPQAAAAVCAMAAABG6TPrAAAANlBMVEX///8UFBQNDQ0QEBCYmJhm\n",
       "ZmaqqqoiIiLMzMzu7u4yMjJ2dnZUVFTc3NxERESIiIi6uroAAAAna2R4AAAAAXRSTlMAQObYZgAA\n",
       "AoNJREFUWMPFWNmSrCAMZYbNsPP/P3ttQEUMzBWtap8ou5OcE7JKyDcfYWekGGdz5hat7STS4KfE\n",
       "WLi+0+G+HpB63ssLFXNyZtIgX14h7eNtNxkqdxBqCruCv1DJDhX1CmlNJzCbJ9IrpXFwg5bdPzD9\n",
       "LdJRPCNNRxcNXA5qDNDbpMEruT7qGekQ4RHpMMgJa9S4TDhxk/SiGLxw01q20sE7a703upd8oobK\n",
       "9c7Q60BtXeBUuBb6k27N+6QRGMQ6GIT3BcEgpVfFrJbWxKg1DSEexVWeZUxlWpXwTdbcUUjBuQUB\n",
       "eNYtVJ80AoM4jNFWf1sEgxyJ7pPXSTFLAiEQ6dIvoUcazGGc5n/Z+CHPXV2z/eVaWt2BdkljMMCh\n",
       "nbaHoD8CpZSmOYbUJ9qg2BFHspPfH3l66IGknExy2LlQM6kb2q3uJXZJYzAC3QCoI4doiQQMQW9A\n",
       "SOKx5JZLwZrtmCr0mpsm5vB+IR3zrTQRLRS3mJM33QPSGAx0DAqFNY4AfSRPFTwnZpnniiMYgQ7p\n",
       "mkke42z0CSYh0BZ3syBOLroH4Y3BAIlRyG7pIuh1aZ5DiBW/p2Bn6zuNk17qEHIslwaRzYuLp5dT\n",
       "RTvrZoNChsAghnX7zwXB4SrSnlI4lJQu1dumiNWuIuCbzKxN8r2IizVsNDqc71Qa3aOWhcBYrzp0\n",
       "W1aDAKJsDsfJrP7h5tynaW6J/r/2jyC3HunD4vwfw0Wj+9LI6z6NwbDquqVsd3VGANQ1h+qV8fsy\n",
       "OjmGzm6kU2MoEUY9H0MfS7P5bVb7by0cj6Xx1dLWfR2nAu+sluwR6cl92s5+RDD2pS8nfp7zNs/d\n",
       "Zz1n1CNzhA9zGSYmKZdvZP8AsoAd2SpZUkkAAAAASUVORK5CYII=\n",
       "\" style=\"display:inline;vertical-align:middle;\" /></a></td></tr>\n",
       "<tr><td>1</td><td>Operation</td><td>operator:&nbsp;3<br>operands:&nbsp;4<br></td><td><a class=\"ProveItLink\" href=\"../afb25f79199815fddd06ed3c727075f848cc78c30/expr.ipynb\"><img src=\"data:image/png;base64,iVBORw0KGgoAAAANSUhEUgAAADMAAAARBAMAAACC64kkAAAAMFBMVEX///8yMjKqqqrMzMzu7u4i\n",
       "IiJmZmaYmJhEREQQEBC6urp2dnaIiIhUVFTc3NwAAAD87Fq/AAAAAXRSTlMAQObYZgAAAMJJREFU\n",
       "GNNjYCAW8EThkvGOwSXjFo5L5q0QmgDfnV3zwAxbKZjQmr43ZzcA6ZUPOD6A+B7NcNUbLh5g+QzU\n",
       "9J2BrQHsuBgHqAzXgggGll8MDLwfGFgPgEXYo6FyLEBxpi8MDPwNDP4GECEmsQdQxhcGXgEGhvcH\n",
       "GPQZoMq5ZCGK2AQY+AscGPwVGC4yQbUxMHeAWZwbGOodNjAwFjCFccPdxnwLRL5fwLADqJzvzimL\n",
       "U2heXcnA8OIQA6XgaSgIIEUKAN7TLszJd5CdAAAAAElFTkSuQmCC\n",
       "\" style=\"display:inline;vertical-align:middle;\" /></a></td></tr>\n",
       "<tr><td>2</td><td>ExprTuple</td><td>5</td><td><a class=\"ProveItLink\" href=\"../a04f95b1cdff8c7d269f514f89aae582838f5e630/expr.ipynb\"><img src=\"data:image/png;base64,iVBORw0KGgoAAAANSUhEUgAAAHkAAAAVBAMAAACQ4lxbAAAAMFBMVEX////c3NwiIiJERESqqqqY\n",
       "mJh2dnZmZmYQEBDu7u4yMjJUVFTMzMyIiIi6uroAAAAs73DqAAAAAXRSTlMAQObYZgAAAdRJREFU\n",
       "OMuVVL9LAnEU/5z569TUaGxIHAqarqExuD8g0MmawlpqKVxqaOknTRGHU0sogUhE4GKIIAhBBC0H\n",
       "rWXSFA0phYOL9N7pdWd6il/4fu9x733e973Pe+8LWK3lqKUKD2u65Ff7GiTjGLAeZWCVhaf++jcL\n",
       "nFgI0elK0y6TcN3fatPqWk+ODucBHeRhXB0RHZB1dAxwK2bV5VV4bgi6pujoC+DTrPFllKF3r0NH\n",
       "j8nYJdafJ17vNM2k0hW5UNo+7EHfvOY7aGcCGTq9t0gxgZg3jPZofwTH6j2c/yBQhoP/29M4B75s\n",
       "ElJV1khGDvRfaMAl/Ufbm3BTK2S5Uw7QAhSCRjhm/1E43GbNV6BYvHXYeipClQ4kKGeK2VdnNEOL\n",
       "Gib3Z+Q/o9pInYTMy5ZAjXp4Bhr6pJ1jQ+TIQ4YVuZtWEYHSW+59pZ03Rb5An1M4mk5W5bsKk5JR\n",
       "tNPl7FjzwgJRdtrh3JHGBrHTglNa0kajaq6YJ2qfZacpCkn87ghe2ZUzKvauRSAscv9ByJZNaKFU\n",
       "ua9wTxHx4rEulHb0bvFU4Q521aM4tFMBU6c64iNOiYHesp7QlYFonm+RNqb665PqwLeF6PVyzoKF\n",
       "WUwe8q69AL/XaXYF88XjAgAAAABJRU5ErkJggg==\n",
       "\" style=\"display:inline;vertical-align:middle;\" /></a></td></tr>\n",
       "<tr><td>3</td><td>Literal</td><td></td><td><a class=\"ProveItLink\" href=\"../../../../ordering/__pv_it/aa616d6a8fe3483e4e64187262e9c7dfe6a536a30/expr.ipynb\"><img src=\"data:image/png;base64,iVBORw0KGgoAAAANSUhEUgAAAA4AAAARBAMAAAAf5oCsAAAALVBMVEX///9ERETMzMyqqqoyMjJU\n",
       "VFTc3NyYmJhmZmZ2dnbu7u66uroiIiKIiIgAAAAFyQXGAAAAAXRSTlMAQObYZgAAAEBJREFUCNdj\n",
       "YEAGvKfB1MqzYGrFcTCV6gymVL3B1EIhqNKzCyAM9pNQBrNHAoTB7aoAYTAJwhjRDLhAzhkQOA0A\n",
       "iskPUSt9tJUAAAAASUVORK5CYII=\n",
       "\" style=\"display:inline;vertical-align:middle;\" /></a></td></tr>\n",
       "<tr><td>4</td><td>ExprTuple</td><td>12, 8</td><td><a class=\"ProveItLink\" href=\"../bd3c70e03bd2616f3327b8803767d14bff8591d80/expr.ipynb\"><img src=\"data:image/png;base64,iVBORw0KGgoAAAANSUhEUgAAAC0AAAAVBAMAAAAgHXppAAAAMFBMVEX////c3NwiIiJERESqqqqY\n",
       "mJh2dnZmZmYQEBDu7u4yMjJUVFTMzMyIiIi6uroAAAAs73DqAAAAAXRSTlMAQObYZgAAAQZJREFU\n",
       "GNN1kTFLw1AUhb/a1ybPWFtwFKng4FoH9/4DMznqgw5OipOzgrNk7JYsDv6FghBwdMngppToVAQh\n",
       "Dg6CiPf5LFES33Av9+NwOPc++O8tZxW0Z8ttVeqlUq5qPBLoZDV8F/yoho/huS5Lc8iJtMb10ZkD\n",
       "L1tr9wbax1zKNOs1C8fNJNMfoBIuRP6GN3C75BvoT+mnSA0KFlwqLVC9w1JheXdAnDofgUHyzc+h\n",
       "n7GDi+sldMPI+mxDPGSiUm25b9iPDK2EA1gM1WabeF14P2ekUpvzycaf3kwZv9rEsHInyhy/N1/y\n",
       "8c8dWmY+hCU//H3nkmuJyurP0CnlgfVuVD/gAb4Aics+ryjLGdQAAAAASUVORK5CYII=\n",
       "\" style=\"display:inline;vertical-align:middle;\" /></a></td></tr>\n",
       "<tr><td>5</td><td>Operation</td><td>operator:&nbsp;6<br>operands:&nbsp;7<br></td><td><a class=\"ProveItLink\" href=\"../3c3020fc7958dae98ac948893786808a075099400/expr.ipynb\"><img src=\"data:image/png;base64,iVBORw0KGgoAAAANSUhEUgAAAGwAAAAVBAMAAABRZRb3AAAAMFBMVEX///8QEBCYmJhmZmaqqqoi\n",
       "IiLMzMzu7u4yMjJ2dnZUVFTc3NxERESIiIi6uroAAABbPXqjAAAAAXRSTlMAQObYZgAAAW9JREFU\n",
       "OMtjYMAKlBUYcILM2bhkSicw4AGJDjgk7uMQZ18YACSZG3BIT8RlEccCIMEpQKo2fgdMbbWtoREE\n",
       "tL0vwNDG1lRA0LapDFBtfHd2310JFtpTgOJI7rXzpDG0dd1dBNHGydXLUJ8AEjqNkLUA4ocbeD5g\n",
       "hOQfBv4EBiag+DvWAwz1D0BCBxDOlQNa9omB+QC6NpbvDIzAKG1mYCgA6vEHOY9PNDQUEiRsC4G2\n",
       "c31gYL2Arg0YY/wGDAw8TQwgPSvAihfAZfnEgEF9AOp2ZMBqwPAemOwiIf74xA5yZABCGmjO/gsM\n",
       "/gwFmNFmXwD2G4MkA9N3TpDYIpRwrndgWMECtA5kIlg7iAEMD0lISHL/Y+A84AZOvw+QI4BDgSUY\n",
       "ZFo90BHsX6EMLgfmBdB4E2DgPgtO0tzNCUjauNfey7kHZBYCg5NdBsZYa4SZuFhWEExcDAxkJWX8\n",
       "2hTxasOZ30ov4M3dD3DJaDrgL0sAhLZXE8Id2yEAAAAASUVORK5CYII=\n",
       "\" style=\"display:inline;vertical-align:middle;\" /></a></td></tr>\n",
       "<tr><td>6</td><td>Literal</td><td></td><td><a class=\"ProveItLink\" href=\"../../../../../logic/set_theory/membership/__pv_it/088cbc857536a28d4119ad9639a84270ccb0545d0/expr.ipynb\"><img src=\"data:image/png;base64,iVBORw0KGgoAAAANSUhEUgAAAAwAAAAMBAMAAACkW0HUAAAALVBMVEX///+qqqpmZmZUVFQQEBC6\n",
       "urpERETc3NyYmJjMzMwiIiIyMjKIiIju7u4AAACYsrA9AAAAAXRSTlMAQObYZgAAADxJREFUCNdj\n",
       "YOA9vWrVBgaG2b0MQMCeCyIZ2ArA1DUwyRCyahVIyWQI7xaEYm4AU7xLIdxqTQgtvGvVBgCkcQ7e\n",
       "geM/tQAAAABJRU5ErkJggg==\n",
       "\" style=\"display:inline;vertical-align:middle;\" /></a></td></tr>\n",
       "<tr><td>7</td><td>ExprTuple</td><td>8, 9</td><td><a class=\"ProveItLink\" href=\"../16d16b1099fadc023ad5d72e3754f09d4a1747b60/expr.ipynb\"><img src=\"data:image/png;base64,iVBORw0KGgoAAAANSUhEUgAAAGkAAAAVBAMAAAC3TN2zAAAAMFBMVEX////c3NwiIiJERESqqqqY\n",
       "mJh2dnZmZmYQEBDu7u4yMjJUVFTMzMyIiIi6uroAAAAs73DqAAAAAXRSTlMAQObYZgAAAbBJREFU\n",
       "OMuNlL9Lw0AUx79pk7Rpqo2zg066ZnEU8gcI7aROoi66KF10cLGidBINnbq1i4iI0EUphUJBEMEl\n",
       "4GprcRIHW5QOXYrvklx/pDTm4F6v9+7Tu/d97xXwjrUUJo6nLb6atkYcuU34jGcD2GCLl9H99wnn\n",
       "lfI82UiRZo0WN6Pe3UnXxEpk5AwZIqesgFTC4NQqEDUDUi2TU3ngCwGpbXAqbOCQVHydqT8MU0J1\n",
       "/2SMuq3fu5ScxhVZ9Q6Fmus8ovmphdtjGv4iUYPE9sUiLoDvkI5C03HG6bvQQUT3UmIXUUrlNctw\n",
       "Bj3AJCTpiBIv051qGyHLS1GmEmmKid4WbzOKIRVeKeeksT54cH+E0mhRrS3Aps6cWDqK6yV8zkIS\n",
       "5ni6jk0nLnrhEn1kIXVl9xwJXDBQEekye4MZ9oskRdbVUCpih6LvQdZXlB+ufCwlLsp0lm3YpkAl\n",
       "qBqR0kD5D/tGYdlQLjWXEqqNxwYBp3BNnhRVqgc8y7Emolq/ZTTf2gCGKkrq95OEgNTecKc41Lov\n",
       "xfpLoYlZvuMkNmf59jKVkMoiETzHVo1//jfegD9l229AmKBfLwAAAABJRU5ErkJggg==\n",
       "\" style=\"display:inline;vertical-align:middle;\" /></a></td></tr>\n",
       "<tr><td>8</td><td>Variable</td><td></td><td><a class=\"ProveItLink\" href=\"../../../../../__pv_it/39dbcd3ca0390345b51c6ef7785756419e2c14390/expr.ipynb\"><img src=\"data:image/png;base64,iVBORw0KGgoAAAANSUhEUgAAAAwAAAAJBAMAAAD0ltBnAAAAMFBMVEX///8QEBCYmJhmZmaqqqoi\n",
       "IiLMzMzu7u4yMjJ2dnZUVFTc3NxERESIiIi6uroAAABbPXqjAAAAAXRSTlMAQObYZgAAAERJREFU\n",
       "CNdj4Luz++5KBgZOrl6G+gSGd6wHGOofMBQAsX8BAwivYGBgsGBg+MTOwCDJwPSdk4H7HwPnATcG\n",
       "PgEG7rMOAGtQEUwHZIDZAAAAAElFTkSuQmCC\n",
       "\" style=\"display:inline;vertical-align:middle;\" /></a></td></tr>\n",
       "<tr><td>9</td><td>Operation</td><td>operator:&nbsp;10<br>operands:&nbsp;11<br></td><td><a class=\"ProveItLink\" href=\"../0044efc97b7ceec2ff71cc889a1622acc199f7850/expr.ipynb\"><img src=\"data:image/png;base64,iVBORw0KGgoAAAANSUhEUgAAAEUAAAAVBAMAAADiLT7tAAAAMFBMVEX///9ERETc3NyqqqpUVFS6\n",
       "urrMzMwyMjIQEBCIiIh2dnYiIiLu7u5mZmaYmJgAAABJJ2g3AAAAAXRSTlMAQObYZgAAAPtJREFU\n",
       "KM9jYGDgu8eAE7CtUgBRPLsY8AC2ZhDJ+QGH9JFuEHkdRHA14DKjBESswK/mM2E1rH8Iq+HagKpG\n",
       "ZVaEAroads8pD6BqeAuAxjYxyGOYc16A4RsDw3sQMyOAgUH/AcNFDDX2Bxi6gKZdYGBIaQNy/RkY\n",
       "dmKoAYbMXyAlDrQwIoGB4SMDzzcMNXsZWP8xMHAvADJZChiYfjIwf+DBDB7eP1D3AL3I8xmo0gzI\n",
       "PgCKPwYo4xsDxwIkv9cxWF8A8nl+g7yzAcpwZriCHD4qM8Mkgd7jaQTyTwhAGUfmPiAcXwwMpKjh\n",
       "w68GnH54duJNh61gim8xgfQMAIDwRfsEfB45AAAAAElFTkSuQmCC\n",
       "\" style=\"display:inline;vertical-align:middle;\" /></a></td></tr>\n",
       "<tr><td>10</td><td>Literal</td><td></td><td><a class=\"ProveItLink\" href=\"../6e5362d7b256561b61a1b512bf7dc507dcde5dcf0/expr.ipynb\"><img src=\"data:image/png;base64,iVBORw0KGgoAAAANSUhEUgAAAE4AAAAOBAMAAABz3DdCAAAAMFBMVEX///8QEBCYmJiqqqoiIiLu\n",
       "7u7MzMyIiIi6uroyMjLc3NxmZmZERERUVFR2dnYAAAADo0JQAAAAAXRSTlMAQObYZgAAAWZJREFU\n",
       "KM99kL9LQlEUx7/2vL7XS9+LlqAh3Bp1kGhzLKjhCW1BvaX9UoPQD3ku1qb0D/S2ghTf4CKEuAU1\n",
       "6BaR1B3aKhIiNbAf56q8ybpwv3DO+XDOly+A158bF/+/p57UT79O2eO5iTaJ9u3XSWs8N1UgMXp+\n",
       "XfnjboCTTLb9evUPriz9mHXg6PrsUGit/i302r6rHZxnPGzWkOIoZbIuYhLO01Jxx1kHCm1OuLpn\n",
       "RFboiMhjvanNoQG0JPdmQ3PWwHrSrk5qHwebihOKV6B45SgugVnJnQKMIOUDQYHIzMIerC2HejQN\n",
       "xR+BZYQ6kuvTJyhSAI1Nb5APhj3V6oP8qNMyvu4wIDNqJaGbMgFUR6EZepdMs3CTcjXk0oBAzBJV\n",
       "LMmkOOYlF/aQY+90Z9GMilF8ZQcvin3PhFrAhqsPkjfqjOMECU+Y2xwXjS+Cs0BxF8U08Jzm0KQf\n",
       "sIcdoJTOXTlqzfoFcS9unliQnJ4AAAAASUVORK5CYII=\n",
       "\" style=\"display:inline;vertical-align:middle;\" /></a></td></tr>\n",
       "<tr><td>11</td><td>ExprTuple</td><td>12, 13</td><td><a class=\"ProveItLink\" href=\"../359d2ffcad0b096b85ece3bdabdf3ac9ad97321c0/expr.ipynb\"><img src=\"data:image/png;base64,iVBORw0KGgoAAAANSUhEUgAAACkAAAAVBAMAAAAp9toTAAAAMFBMVEX////c3NwiIiJERESqqqqY\n",
       "mJh2dnZmZmYQEBDu7u4yMjJUVFTMzMyIiIi6uroAAAAs73DqAAAAAXRSTlMAQObYZgAAAQxJREFU\n",
       "GNNtkSFPw1AQx3/burWlbJ1HgMPO4PsNqEKSBYOC1IAFEoIklXOtQRDMDAkhWdIEidkHgAVQBLOS\n",
       "ZQJDuGv3km7hiXv/+72Xe/+7B/+vzngF7Gt4rgD3YQvsTNRt9d7aUEIK7aUCfiBhD5y4SqeaDeBr\n",
       "6aUDDY2AU9lqo+OLkt693kMr4kb0Z7eRlx5m+BlWyrVcnWP3Cmr94PTpnPMLXk69dGKn+BHruVK/\n",
       "R5IVtB4xDZVewuaYXeKF3bNYK+xAEvBoZa7SjCtophxKm6G13SKREXiBPSycfajdydOEwbc4G53o\n",
       "MN5wuqavdyOk42bfJKERR9VJGurKJNlYJG1z6mnN2uoPvcAf68w9OrA141UAAAAASUVORK5CYII=\n",
       "\" style=\"display:inline;vertical-align:middle;\" /></a></td></tr>\n",
       "<tr><td>12</td><td>Variable</td><td></td><td><a class=\"ProveItLink\" href=\"../../../../../__pv_it/07527342713064c87612d00d8557c53d53d5324a0/expr.ipynb\"><img src=\"data:image/png;base64,iVBORw0KGgoAAAANSUhEUgAAAAsAAAAJBAMAAAAWSsseAAAAMFBMVEX///8yMjKqqqrMzMzu7u4i\n",
       "IiJmZmaYmJhEREQQEBC6urp2dnaIiIhUVFTc3NwAAAD87Fq/AAAAAXRSTlMAQObYZgAAAEhJREFU\n",
       "CNdjYOC7s2seAwPDygccHxgY+L4zsDUwMPB+YGA9wMDA38Dgb8DA8P4Agz6DA4O/AsNFJgMGxgKm\n",
       "MG6gyjunLE4xAAAZTBA5TB6DCwAAAABJRU5ErkJggg==\n",
       "\" style=\"display:inline;vertical-align:middle;\" /></a></td></tr>\n",
       "<tr><td>13</td><td>Variable</td><td></td><td><a class=\"ProveItLink\" href=\"../../../../../__pv_it/6840a4fa6c106149dc16a131294d0c5e44f1b0480/expr.ipynb\"><img src=\"data:image/png;base64,iVBORw0KGgoAAAANSUhEUgAAAAkAAAAOBAMAAAAPuiubAAAALVBMVEX///9mZmbMzMxERESYmJiI\n",
       "iIh2dna6urqqqqoyMjIiIiIQEBBUVFTu7u4AAAD9S1JeAAAAAXRSTlMAQObYZgAAAE1JREFUCNdj\n",
       "4D29gAEIOA+ASL4GEFl3AURmgQiGOaFHGBh4HzPwKTBwvGXgTmBgnMDAJ8DAJcBQ5wBSLncBJLWN\n",
       "gYGngRFoBO9REQYGAGrcDtUkVqASAAAAAElFTkSuQmCC\n",
       "\" style=\"display:inline;vertical-align:middle;\" /></a></td></tr>\n",
       "</table>\n"
      ],
      "text/plain": [
       "0. n -> (a <= n) | n in {a...b}\n",
       "   core type: Lambda\n",
       "   parameter: 8\n",
       "   body: 1\n",
       "   conditions: 2\\n1. a <= n\n",
       "   core type: Operation\n",
       "   operator: 3\n",
       "   operands: 4\n",
       "2. (n in {a...b})\n",
       "   core type: ExprTuple\n",
       "   sub-expressions: 5\n",
       "3. <=\n",
       "   core type: Literal\n",
       "   sub-expressions: \n",
       "4. (a , n)\n",
       "   core type: ExprTuple\n",
       "   sub-expressions: 12, 8\n",
       "5. n in {a...b}\n",
       "   core type: Operation\n",
       "   operator: 6\n",
       "   operands: 7\n",
       "6. in\n",
       "   core type: Literal\n",
       "   sub-expressions: \n",
       "7. (n , {a...b})\n",
       "   core type: ExprTuple\n",
       "   sub-expressions: 8, 9\n",
       "8. n\n",
       "   core type: Variable\n",
       "   sub-expressions: \n",
       "9. {a...b}\n",
       "   core type: Operation\n",
       "   operator: 10\n",
       "   operands: 11\n",
       "10. Interval\n",
       "    core type: Literal\n",
       "    sub-expressions: \n",
       "11. (a , b)\n",
       "    core type: ExprTuple\n",
       "    sub-expressions: 12, 13\n",
       "12. a\n",
       "    core type: Variable\n",
       "    sub-expressions: \n",
       "13. b\n",
       "    core type: Variable\n",
       "    sub-expressions: "
      ]
     },
     "execution_count": 4,
     "metadata": {},
     "output_type": "execute_result"
    }
   ],
   "source": [
    "# display the expression information\n",
    "expr.exprInfo()"
   ]
  },
  {
   "cell_type": "code",
   "execution_count": null,
   "metadata": {},
   "outputs": [],
   "source": []
  }
 ],
 "metadata": {
  "kernelspec": {
   "display_name": "Python 3",
   "language": "python",
   "name": "python3"
  }
 },
 "nbformat": 4,
 "nbformat_minor": 0
}
