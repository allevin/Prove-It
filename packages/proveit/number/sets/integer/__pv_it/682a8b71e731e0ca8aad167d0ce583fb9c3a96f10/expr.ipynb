{
 "cells": [
  {
   "cell_type": "markdown",
   "metadata": {},
   "source": [
    "Expression of type <a class=\"ProveItLink\" href=\"../../../../../../../doc/html/api/proveit.logic.Forall.html\">Forall</a>\n",
    "=======================\n",
    "# from context <a class=\"ProveItLink\" href=\"../../_context_.ipynb\">proveit.number.sets.integer</a>"
   ]
  },
  {
   "cell_type": "code",
   "execution_count": 1,
   "metadata": {},
   "outputs": [],
   "source": [
    "# import Expression classes needed to build the expression\n",
    "from proveit._common_ import A, B\n",
    "from proveit.logic import And, Forall"
   ]
  },
  {
   "cell_type": "code",
   "execution_count": 2,
   "metadata": {},
   "outputs": [
    {
     "data": {
      "text/html": [
       "<strong id=\"expr\">expr:</strong> <a class=\"ProveItLink\" href=\"expr.ipynb\"><img src=\"data:image/png;base64,iVBORw0KGgoAAAANSUhEUgAAAHkAAAAWBAMAAAAWdi71AAAAMFBMVEX///8QEBC6urrMzMxUVFRm\n",
       "ZmZERETc3NwyMjKqqqp2dnaIiIiYmJgiIiLu7u4AAAAU9Wx4AAAAAXRSTlMAQObYZgAAAe1JREFU\n",
       "OMulU79P20AU/rATO00cw18AGTpWSoaiSkWIqEURE2SI26kCqSJsiQcU1AElW8RCvJS13RoWFCQ2\n",
       "BtytVYeyZGmRalWt1AUVNeKXCBHvXWz1hhAhc9K7++7d++6+954ND/cZhzx9CcOcJttmsBmG3SCr\n",
       "kOlLIcjGD0o6RhZ1QrDfLNp0xYe1tfUwwlsHKZrPisVvIciK986l5TmwIvZ1MW+dWrmMOA7iYrYP\n",
       "HpStwuvA+xMzLVoewqyJKvzrF2MMiTEGWhD3NRWgj8BugFOo5mlJIsES8LsrvNEslHOZbS7y8XuG\n",
       "BSDtC1FnZxe4Uwk3Kb63nbZwJ1uIHsrs+DG9oR4x/A68CtIGRliyWXssLmsVhftvBp9smT2l0Rva\n",
       "H47swKj7XupxUiS48ozniH9ten+vBJmdZSlPDZKvXO3n/N9CJ3bshNFbIfQzDoS/ScXxJLbhJCiq\n",
       "BJIZr8EY73tZitZjNMKVN9tWWZCWSbwjsY+tFz2oebodWh7mpXBWJuowyhdcdINZURszos10nM5I\n",
       "7JdQO4h4vB11oHQGfjqP6NDV69B70NtS3grl28UktcZB1cN6fhD51xn0hSO1i+apNef8Z5vU1NVr\n",
       "d57gUrxhFTaG/nUS1iRs+zZ8PLmFfbfh3ostj8gdYm4A5612L6oIvYAAAAAASUVORK5CYII=\n",
       "\" style=\"display:inline;vertical-align:middle;\" /></a><br>"
      ],
      "text/plain": [
       "expr: forall_{A, B | A and B} A"
      ]
     },
     "execution_count": 2,
     "metadata": {},
     "output_type": "execute_result"
    }
   ],
   "source": [
    "# build up the expression from sub-expressions\n",
    "expr = Forall([A, B], A, conditions = [And(A, B)])"
   ]
  },
  {
   "cell_type": "code",
   "execution_count": 3,
   "metadata": {},
   "outputs": [
    {
     "name": "stdout",
     "output_type": "stream",
     "text": [
      "Passed sanity check: built 'expr' is the same as the stored Expression.\n"
     ]
    }
   ],
   "source": [
    "# check that the built expression is the same as the stored expression\n",
    "%check_expr"
   ]
  },
  {
   "cell_type": "code",
   "execution_count": 4,
   "metadata": {},
   "outputs": [
    {
     "data": {
      "text/html": [
       "<table><tr><th>&nbsp;</th><th>core type</th><th>sub-expressions</th><th>expression</th></tr>\n",
       "<tr><td>0</td><td>Operation</td><td>operator:&nbsp;3<br>operand:&nbsp;1<br></td><td><a class=\"ProveItLink\" href=\"expr.ipynb\"><img src=\"data:image/png;base64,iVBORw0KGgoAAAANSUhEUgAAAHkAAAAWBAMAAAAWdi71AAAAMFBMVEX///8QEBC6urrMzMxUVFRm\n",
       "ZmZERETc3NwyMjKqqqp2dnaIiIiYmJgiIiLu7u4AAAAU9Wx4AAAAAXRSTlMAQObYZgAAAe1JREFU\n",
       "OMulU79P20AU/rATO00cw18AGTpWSoaiSkWIqEURE2SI26kCqSJsiQcU1AElW8RCvJS13RoWFCQ2\n",
       "BtytVYeyZGmRalWt1AUVNeKXCBHvXWz1hhAhc9K7++7d++6+954ND/cZhzx9CcOcJttmsBmG3SCr\n",
       "kOlLIcjGD0o6RhZ1QrDfLNp0xYe1tfUwwlsHKZrPisVvIciK986l5TmwIvZ1MW+dWrmMOA7iYrYP\n",
       "HpStwuvA+xMzLVoewqyJKvzrF2MMiTEGWhD3NRWgj8BugFOo5mlJIsES8LsrvNEslHOZbS7y8XuG\n",
       "BSDtC1FnZxe4Uwk3Kb63nbZwJ1uIHsrs+DG9oR4x/A68CtIGRliyWXssLmsVhftvBp9smT2l0Rva\n",
       "H47swKj7XupxUiS48ozniH9ten+vBJmdZSlPDZKvXO3n/N9CJ3bshNFbIfQzDoS/ScXxJLbhJCiq\n",
       "BJIZr8EY73tZitZjNMKVN9tWWZCWSbwjsY+tFz2oebodWh7mpXBWJuowyhdcdINZURszos10nM5I\n",
       "7JdQO4h4vB11oHQGfjqP6NDV69B70NtS3grl28UktcZB1cN6fhD51xn0hSO1i+apNef8Z5vU1NVr\n",
       "d57gUrxhFTaG/nUS1iRs+zZ8PLmFfbfh3ostj8gdYm4A5612L6oIvYAAAAAASUVORK5CYII=\n",
       "\" style=\"display:inline;vertical-align:middle;\" /></a></td></tr>\n",
       "<tr><td>1</td><td>Lambda</td><td>parameter:&nbsp;9<br>body:&nbsp;2<br></td><td><a class=\"ProveItLink\" href=\"../5a3aff0e53b72fb6f02d6ed104c1e21a069368b80/expr.ipynb\"><img src=\"data:image/png;base64,iVBORw0KGgoAAAANSUhEUgAAAKYAAAAZCAMAAACMyqXlAAAANlBMVEX///92dnYUFBQNDQ0QEBBE\n",
       "RERUVFS6urqIiIhmZmaqqqrc3Nzu7u6YmJgyMjIiIiLMzMwAAACuIkBbAAAAAXRSTlMAQObYZgAA\n",
       "AfZJREFUWMPdl+uSpCAMhXVXLiEg5P1fdhXkooSasbftqRr+WNV64OtwksA0vTCE9x6nDw21LTa/\n",
       "pPTTZwfKX49pfwgz+FuY9Wunn6ErQCfMlW5hzqYIHwpsAWoxnSd7BxNFnkQ8Q1mBGkw0QHgrhXIQ\n",
       "wTxjyArUYOpJk7qF6WaM46G8b4AqprKTIVdtcVIYwxYkEvt4sfZ+WdUboIJpN+5AelQZpeUwZYgt\n",
       "Ke2MEQQAUoS6UJ8Tnat6FQdUMPcpkWCEaSUymGpX2xx4t8StWmpL7XKCcVWn4oAyZpD7oDrx3z/+\n",
       "NJbTCr556uwUiHOpmodXTAvFVdUnnYoDypiJYVmH7VAqrlnuiD77wccdAj+M5mw95LpdsqBTcUAH\n",
       "5pEhfhlhArI9fdvwUNxNu79cY78LZtCTOH4SxSm9igNKmGi6NuSvK/BHD4ElzIq01lI0uXbBlCVo\n",
       "YZ6cG6k4IDwlgaht6MxlRyckU3drXlNG2AGm25bWdASzVLxexQFtmCgWijF3gmiFmwe5pfwfAWkT\n",
       "DY+5+RIgLRvgoGZVHNB/nzddCUNaSVHgMaO7Q3ybirAYqJ49FmMMFHrgvamSF/eKFNIn2vCqRzHn\n",
       "NXaTte2qoukOsQKipK0S5Y4meNXHLxmD8x1enj99F3rfMfSXY37rni7fw7jf0+U/gngXKEXIrzIA\n",
       "AAAASUVORK5CYII=\n",
       "\" style=\"display:inline;vertical-align:middle;\" /></a></td></tr>\n",
       "<tr><td>2</td><td>Operation</td><td>operator:&nbsp;3<br>operand:&nbsp;4<br></td><td><a class=\"ProveItLink\" href=\"../7312dc6c179eccdd61ae58aca999fd68e6a394460/expr.ipynb\"><img src=\"data:image/png;base64,iVBORw0KGgoAAAANSUhEUgAAAGcAAAAWBAMAAAAvEZ+uAAAAMFBMVEX///8QEBC6urrMzMxUVFRm\n",
       "ZmZERETc3NwyMjKqqqp2dnaIiIiYmJgiIiLu7u4AAAAU9Wx4AAAAAXRSTlMAQObYZgAAAX5JREFU\n",
       "OMudUzFLw0AU/tq0Z22v0V+gHdxddFFE0eKoGVqdpAWh3WwGaXEozVZcbBZn3cStzg7GURx0VsHg\n",
       "5FIQAqKoxfe0aQ9FTPvBu/flvnz3LncvcDEArnm47MMwR3HMZK8PU4OiTDGUD+6R9/RBMYqoHdy0\n",
       "kzPJeVSpVPvYXfMsReNzoXAT3BN2DxxKS0ARGC5lM5tfs74cMzukKzEeMN+kNAHdonQOnPCs8OWr\n",
       "lM98iZFCzaCURIILZoBJUzHpOZ49hCIRtHR6lY864SS5K26BDbVSvEUrandQpO/Nh3hfujXFowdZ\n",
       "V02zglYUj6pEoLtJjjIpLvISb6fLrmpaiFKDzUhHkagLyBR7YrbP7Re3IMcUk7QTJG7BUiSAC4s2\n",
       "sxCfoTCgvyqmVnatDc3AhSKhPF6HLL3w8UmuPWIj7CmmdWgeIi4/dqVfqLmoGj1TmL7lHdN0tnZP\n",
       "+ol4I5vZRdek02VsfzgrRPM96W8IhZud+BdikN9/IFMkwDufdsFhgWFsu2gAAAAASUVORK5CYII=\n",
       "\" style=\"display:inline;vertical-align:middle;\" /></a></td></tr>\n",
       "<tr><td>3</td><td>Literal</td><td></td><td><a class=\"ProveItLink\" href=\"../../../../../logic/boolean/quantification/universal/__pv_it/265f8c02ac1094d56e0e6410a1c1fd3500dc9f540/expr.ipynb\"><img src=\"data:image/png;base64,iVBORw0KGgoAAAANSUhEUgAAAAwAAAAQBAMAAADQT4M0AAAAMFBMVEX///8QEBC6urrMzMxUVFRm\n",
       "ZmZERETc3NwyMjKqqqp2dnaIiIiYmJgiIiLu7u4AAAAU9Wx4AAAAAXRSTlMAQObYZgAAAFhJREFU\n",
       "CNdjeMAABhdAxGmGlSCqj6EMSLInMHAAJVknMPAsLy+vBYp8S0u7BaScGRjSgZQKA18DkOJl4D4A\n",
       "pLgP8IJM4mswARuX7gSmpoKNZWDcAKZ4gCoAgTQTILaSE58AAAAASUVORK5CYII=\n",
       "\" style=\"display:inline;vertical-align:middle;\" /></a></td></tr>\n",
       "<tr><td>4</td><td>Lambda</td><td>parameter:&nbsp;10<br>body:&nbsp;9<br>conditions:&nbsp;5<br></td><td><a class=\"ProveItLink\" href=\"../637e5377721154a742d780f441524436be84de360/expr.ipynb\"><img src=\"data:image/png;base64,iVBORw0KGgoAAAANSUhEUgAAAIsAAAAVCAMAAABBq+3+AAAANlBMVEX///8UFBQNDQ2qqqru7u4i\n",
       "IiJ2dnbc3NyIiIjMzMxmZmYQEBC6uroyMjJERERUVFSYmJgAAAC3B9V0AAAAAXRSTlMAQObYZgAA\n",
       "AXxJREFUSMftlttyhSAMRWmBw0Vu+f+fLUdFIUHUqZ05D+UFndmwF0mIMvbU4Ip9zHi5R7ZJESDm\n",
       "Efyt/Yw8ZWkl16ynME8W7sB4OGVpJYwpQSTY2oBe53gjmhLECQuSZDZLIoetNSyFl+B1GUVxC2rM\n",
       "giXMBIkDQ6zDtMxyEpdZdN7GjVmwhEWnNdIQ6yU+yocNxbf3lRMfJxiHNGQhEpF3xcWMrXOutNZW\n",
       "VuvQkojjJdye6gOWjiQbWI7KBVmvORMyHrGIiDrZ21iBHbFQiZwj0CuX3brkTO8R/f6SzZjaxJt3\n",
       "T4gQBixUkuYYRdMrl826XKfqGuG0RkfOnFuDH7BQyXKHTKTlslubwhSBH7DYNkW81P4xC5XwNV1e\n",
       "1eWCrMsVV+AP6sVo1Dc6XbVl6UgKA7e0u2zWa87M5EXVGprSbd8Kcqi7asPSkZjQOSeytmH5Onmf\n",
       "rvXbMMF8xJQXVj29YulK9orb+t1d68f+GVz38aP/X/5Z/nDoX7P8AB95EvdL4mBgAAAAAElFTkSu\n",
       "QmCC\n",
       "\" style=\"display:inline;vertical-align:middle;\" /></a></td></tr>\n",
       "<tr><td>5</td><td>ExprTuple</td><td>6</td><td><a class=\"ProveItLink\" href=\"../3b36602f2eb8311d1f454350b9d3ec1c6eaf793b0/expr.ipynb\"><img src=\"data:image/png;base64,iVBORw0KGgoAAAANSUhEUgAAAEMAAAAVBAMAAADvM06qAAAAMFBMVEX////c3NwiIiJERESqqqqY\n",
       "mJh2dnZmZmYQEBDu7u4yMjJUVFTMzMyIiIi6uroAAAAs73DqAAAAAXRSTlMAQObYZgAAAWdJREFU\n",
       "KM+NUjtIw1AUPW19Wpv0A7pYh3YR3CyCoFO7ddTJUbuIk1BQXJvByUGDkzhIOojUQQOOGVpcHZrN\n",
       "RWlwFIQKKmhAve++RItg8MLL/ZyTdz/vAv+QjBuFrsjPtbKvfmGi7TuX5xjpkN1SoYsAmgg5yRLQ\n",
       "8GABaZVHzJgKOQ0pXQK6NpaJrKDxRo61PhtQ0aPAag2HwIMKuD2PtfYYVj9PZ9pEooJt1Za5uMTG\n",
       "EYoBxQfyC8BwHSfsH3NqkjVsKYbu391MkR6ysMcBD4U6G0XkFSX9BBzYdL+BD/7FcdolbsyF1mFK\n",
       "wiDaC0F9RclQZ5Y04iZ0mylZUuKVKTvSrxBoSKNKp6nGQuVrz5xojtwYUVJ9BHD1eywFullYWOdO\n",
       "KfebrEkWFA/Hou+a3PQ9MLbfhCi/U0uanB8/yean45zJUaU8JHODixFMYEDoAUQtep02fpbhDxmV\n",
       "s5iMpGiyjljkYt4CX0FZVvBnpCd9AAAAAElFTkSuQmCC\n",
       "\" style=\"display:inline;vertical-align:middle;\" /></a></td></tr>\n",
       "<tr><td>6</td><td>Operation</td><td>operator:&nbsp;7<br>operands:&nbsp;8<br></td><td><a class=\"ProveItLink\" href=\"../b857516d9472d306ebc35d0187621f69815d22bc0/expr.ipynb\"><img src=\"data:image/png;base64,iVBORw0KGgoAAAANSUhEUgAAADcAAAAPBAMAAACy3Eq1AAAAMFBMVEX///92dnYQEBBERERUVFS6\n",
       "urqIiIhmZmaqqqrc3Nzu7u6YmJgyMjIiIiLMzMwAAACFkkdwAAAAAXRSTlMAQObYZgAAAPtJREFU\n",
       "GNNjYACBtwyogNv/i4vzUSjnPJSeBZNlMmBgqA+AKLy/ACJ2HCb5PgGIHcDMGfUTwDSfLVQRQz5Q\n",
       "YL8AmJmQDzGBJSwBKmkExJfAKlkX9G8AC61huACV/MLAMMcKzFoKtgIIpBkqIHJ8X9LSb0OYAQzz\n",
       "C8CMCwxzICJsPxkY1oLdw+fi4m8AdnQCA8sDsCSzAlDBb7CVQG8dADF4FzDwQZzPD6S4P4JYDUBh\n",
       "BRCjHYhPQrwJdCDLDyCDEyjJ84EBKtEO9+b8A2D3A+34BbIbZDEvzJt8OkBvTtY/ycBt/wfoXBZQ\n",
       "SLCBPFX838XlzAaUqGCF+gsBAFd8PNYBN2/JAAAAAElFTkSuQmCC\n",
       "\" style=\"display:inline;vertical-align:middle;\" /></a></td></tr>\n",
       "<tr><td>7</td><td>Literal</td><td></td><td><a class=\"ProveItLink\" href=\"../../../../../logic/boolean/conjunction/__pv_it/76b5f4f4c45c0b6a9b59b297fc07dfa9555698f50/expr.ipynb\"><img src=\"data:image/png;base64,iVBORw0KGgoAAAANSUhEUgAAAAwAAAAOBAMAAADpk+DfAAAALVBMVEX///+qqqqYmJh2dnaIiIi6\n",
       "urpUVFQiIiJERETMzMxmZmYyMjLu7u7c3NwAAABvwqPxAAAAAXRSTlMAQObYZgAAAEtJREFUCNdj\n",
       "YGDgPcAAAtwLwNSMGjCV6gIieTawgyhmBS4BIMXOwLsBSKkwMGQCKaC6aQwMjEBd3BdACMScAVJd\n",
       "wJAKolwYAkAUKwAk0guX6efcigAAAABJRU5ErkJggg==\n",
       "\" style=\"display:inline;vertical-align:middle;\" /></a></td></tr>\n",
       "<tr><td>8</td><td>ExprTuple</td><td>9, 10</td><td><a class=\"ProveItLink\" href=\"../caee09fb4b5c95b986a9cee46a014afbad9bdc680/expr.ipynb\"><img src=\"data:image/png;base64,iVBORw0KGgoAAAANSUhEUgAAADUAAAAVBAMAAAAUZLt1AAAAMFBMVEX////c3NwiIiJERESqqqqY\n",
       "mJh2dnZmZmYQEBDu7u4yMjJUVFTMzMyIiIi6uroAAAAs73DqAAAAAXRSTlMAQObYZgAAATZJREFU\n",
       "KM9jYMAH+C5gFY4DEach7EMwQdb9v3dvXsfAfgDIXgkRWg/XwWHAwFD/gGEBAwMvxEhW/QkwufNA\n",
       "kfMbGMKAqiBiIvUCMLn7QFZ8AsMMBoZXEIEL9x/A5CyAWGMCA7MDQxnEsRP8A2ByvxkYpCwZGNgK\n",
       "GJaC+fPAtoABz++711WBNMsChj6wwAMG+QKoHO9HBoZJG4BGNTD8A6vdvXu/AVSOuQEo/xUo9gEi\n",
       "xwd07wKoHD9QD+s3sFwLiO/AwMDUAPMe0FHcX8BmmgK5jEA5rg8MDBNg3pMHGsK6gCEdyJ0FsuYn\n",
       "A+cnqPd4uiaA/fCIgUG4fyEDq/2vAs5+oJbi/7t3rwL5lesBA4cAUnQhsUFhxpqA4LIiR2AuIo7Q\n",
       "5ThBfpJG8JFTADfIfEbsaeIOAwMABOxNRsfkiy0AAAAASUVORK5CYII=\n",
       "\" style=\"display:inline;vertical-align:middle;\" /></a></td></tr>\n",
       "<tr><td>9</td><td>Variable</td><td></td><td><a class=\"ProveItLink\" href=\"../../../../../__pv_it/2cbe72a7ad6f655694dd697106680215e8489b600/expr.ipynb\"><img src=\"data:image/png;base64,iVBORw0KGgoAAAANSUhEUgAAAA8AAAAOBAMAAAACpFvcAAAALVBMVEX///8QEBBERERUVFS6urqI\n",
       "iIhmZmaqqqrc3Nzu7u6YmJgyMjIiIiLMzMwAAADtIaYWAAAAAXRSTlMAQObYZgAAAFtJREFUCNdj\n",
       "YACBOwxQsA9Kc52bAGG05zVAGAFxDmCaZULdAjBjCsO9ADDDgaEvAUTzGhvbKYCVMDAwbgAxChgY\n",
       "eASANAeQwf0AyJgNxEwvGRia5HYwcOm9TgAA6BoR3jrzwFcAAAAASUVORK5CYII=\n",
       "\" style=\"display:inline;vertical-align:middle;\" /></a></td></tr>\n",
       "<tr><td>10</td><td>Variable</td><td></td><td><a class=\"ProveItLink\" href=\"../../../../../__pv_it/077b2ff79244fb4582cbe22c6e3356fa92a52f2f0/expr.ipynb\"><img src=\"data:image/png;base64,iVBORw0KGgoAAAANSUhEUgAAABAAAAAOBAMAAADUAYG5AAAAMFBMVEX///+qqqru7u4iIiJ2dnbc\n",
       "3NyIiIjMzMxmZmYQEBC6uroyMjJERERUVFSYmJgAAADLUcuvAAAAAXRSTlMAQObYZgAAAGpJREFU\n",
       "CNdjYGB4+//u3dMLGIBgDgMDxy8gzf4NiP8CGWxfGRj4vgAZPBMYGJgnARn8FxhY9ygAGfXX0pof\n",
       "gDTlBzAw2YIYJ0EckBBI53sHoBH/gIz7AhBjWH9DjancBLTl/N+7t/cxMAAA3u4f/5xagjYAAAAA\n",
       "SUVORK5CYII=\n",
       "\" style=\"display:inline;vertical-align:middle;\" /></a></td></tr>\n",
       "</table>\n"
      ],
      "text/plain": [
       "0. forall_{A, B | A and B} A\n",
       "   core type: Operation\n",
       "   operator: 3\n",
       "   operand: 1\n",
       "1. A -> [forall_{B | A and B} A]\n",
       "   core type: Lambda\n",
       "   parameter: 9\n",
       "   body: 2\n",
       "2. forall_{B | A and B} A\n",
       "   core type: Operation\n",
       "   operator: 3\n",
       "   operand: 4\n",
       "3. forall\n",
       "   core type: Literal\n",
       "   sub-expressions: \n",
       "4. B -> A | A and B\n",
       "   core type: Lambda\n",
       "   parameter: 10\n",
       "   body: 9\n",
       "   conditions: 5\\n5. (A and B)\n",
       "   core type: ExprTuple\n",
       "   sub-expressions: 6\n",
       "6. A and B\n",
       "   core type: Operation\n",
       "   operator: 7\n",
       "   operands: 8\n",
       "7. and\n",
       "   core type: Literal\n",
       "   sub-expressions: \n",
       "8. (A , B)\n",
       "   core type: ExprTuple\n",
       "   sub-expressions: 9, 10\n",
       "9. A\n",
       "   core type: Variable\n",
       "   sub-expressions: \n",
       "10. B\n",
       "    core type: Variable\n",
       "    sub-expressions: "
      ]
     },
     "execution_count": 4,
     "metadata": {},
     "output_type": "execute_result"
    }
   ],
   "source": [
    "# display the expression information\n",
    "expr.exprInfo()"
   ]
  },
  {
   "cell_type": "code",
   "execution_count": null,
   "metadata": {},
   "outputs": [],
   "source": []
  }
 ],
 "metadata": {
  "kernelspec": {
   "display_name": "Python 3",
   "language": "python",
   "name": "python3"
  }
 },
 "nbformat": 4,
 "nbformat_minor": 0
}
