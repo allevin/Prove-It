{
 "cells": [
  {
   "cell_type": "markdown",
   "metadata": {},
   "source": [
    "Expression of type <a class=\"ProveItLink\" href=\"../../../../../../../doc/html/api/proveit.Lambda.html\">Lambda</a>\n",
    "=======================\n",
    "# from context <a class=\"ProveItLink\" href=\"../../_context_.ipynb\">proveit.number.sets.integer</a>"
   ]
  },
  {
   "cell_type": "code",
   "execution_count": 1,
   "metadata": {},
   "outputs": [],
   "source": [
    "# import Expression classes needed to build the expression\n",
    "from proveit import Lambda\n",
    "from proveit._common_ import n\n",
    "from proveit.logic import InSet\n",
    "from proveit.number import NaturalsPos, Neg"
   ]
  },
  {
   "cell_type": "code",
   "execution_count": 2,
   "metadata": {},
   "outputs": [
    {
     "data": {
      "text/html": [
       "<strong id=\"expr\">expr:</strong> <a class=\"ProveItLink\" href=\"expr.ipynb\"><img src=\"data:image/png;base64,iVBORw0KGgoAAAANSUhEUgAAALIAAAAYCAMAAABp01fSAAAANlBMVEX///8UFBQNDQ0QEBCYmJhm\n",
       "ZmaqqqoiIiLMzMzu7u4yMjJ2dnZUVFTc3NxERESIiIi6uroAAAAna2R4AAAAAXRSTlMAQObYZgAA\n",
       "Ad5JREFUWMPtloluwyAMhr1BuA/z/i87kl4BDEmbTF2lWWpVpfD7Cz4wwAeZgI+z8I88Dql/KzLG\n",
       "8f8c22cW34ms3NaKSR1H1iaFYPSsJpMUx5AXnY0lZ5xy4KAujCl/nMnG5q/4tFLcsYXbE5CdVFdn\n",
       "7GBiML0jquxpZB2NzLaKj8McT6eOI6PZFVTxJLIyvD4Kp3LV6DkNG2SMwfsYne2koijcT7bTRQoR\n",
       "Ow2QW4fgQxu7fMAiLuncINuc2jlldLrXuaz2ruUMJ5ErEWEGyK1DCETbnnNiQuDxgXztVYggZ3qd\n",
       "sIOs3UqQkRGuRZD1kQmHmkrSJY3dnM61mL7uFel+mN9fsjD2EIfrT29W/2MjolIfmXCI7CZlKmQ9\n",
       "pzNrL9Nlr3uslvX7rk42deqoFBkhEw7J22lBBmVBtcjTsjdx0DTytE401hkAS5FRYhAOtewiAxdE\n",
       "b2Nz6fL85pZEVrG6k+h2XYjwUfm1DsHxLjJY3yD7JdY2gLhVcKySvfA9kcSVyLDJtQ7zMbf5FrAI\n",
       "SlHt7NIZ466ZHyX9uBQxOOrLhENvqlkKTWLhNiEdHADZjsn3hQsbhDNlxzjPuN1eY+PvzMuv2vbw\n",
       "qU8ZPk80vzniO//HkMFvTMxREc9ORP4BWAkVgxyB/+AAAAAASUVORK5CYII=\n",
       "\" style=\"display:inline;vertical-align:middle;\" /></a><br>"
      ],
      "text/plain": [
       "expr: n -> (-n) | n in NaturalsPos"
      ]
     },
     "execution_count": 2,
     "metadata": {},
     "output_type": "execute_result"
    }
   ],
   "source": [
    "# build up the expression from sub-expressions\n",
    "expr = Lambda(n, Neg(n), conditions = [InSet(n, NaturalsPos)])"
   ]
  },
  {
   "cell_type": "code",
   "execution_count": 3,
   "metadata": {},
   "outputs": [
    {
     "name": "stdout",
     "output_type": "stream",
     "text": [
      "Passed sanity check: built 'expr' is the same as the stored Expression.\n"
     ]
    }
   ],
   "source": [
    "# check that the built expression is the same as the stored expression\n",
    "%check_expr"
   ]
  },
  {
   "cell_type": "code",
   "execution_count": 4,
   "metadata": {},
   "outputs": [
    {
     "data": {
      "text/html": [
       "<table><tr><th>&nbsp;</th><th>core type</th><th>sub-expressions</th><th>expression</th></tr>\n",
       "<tr><td>0</td><td>Lambda</td><td>parameter:&nbsp;7<br>body:&nbsp;1<br>conditions:&nbsp;2<br></td><td><a class=\"ProveItLink\" href=\"expr.ipynb\"><img src=\"data:image/png;base64,iVBORw0KGgoAAAANSUhEUgAAALIAAAAYCAMAAABp01fSAAAANlBMVEX///8UFBQNDQ0QEBCYmJhm\n",
       "ZmaqqqoiIiLMzMzu7u4yMjJ2dnZUVFTc3NxERESIiIi6uroAAAAna2R4AAAAAXRSTlMAQObYZgAA\n",
       "Ad5JREFUWMPtloluwyAMhr1BuA/z/i87kl4BDEmbTF2lWWpVpfD7Cz4wwAeZgI+z8I88Dql/KzLG\n",
       "8f8c22cW34ms3NaKSR1H1iaFYPSsJpMUx5AXnY0lZ5xy4KAujCl/nMnG5q/4tFLcsYXbE5CdVFdn\n",
       "7GBiML0jquxpZB2NzLaKj8McT6eOI6PZFVTxJLIyvD4Kp3LV6DkNG2SMwfsYne2koijcT7bTRQoR\n",
       "Ow2QW4fgQxu7fMAiLuncINuc2jlldLrXuaz2ruUMJ5ErEWEGyK1DCETbnnNiQuDxgXztVYggZ3qd\n",
       "sIOs3UqQkRGuRZD1kQmHmkrSJY3dnM61mL7uFel+mN9fsjD2EIfrT29W/2MjolIfmXCI7CZlKmQ9\n",
       "pzNrL9Nlr3uslvX7rk42deqoFBkhEw7J22lBBmVBtcjTsjdx0DTytE401hkAS5FRYhAOtewiAxdE\n",
       "b2Nz6fL85pZEVrG6k+h2XYjwUfm1DsHxLjJY3yD7JdY2gLhVcKySvfA9kcSVyLDJtQ7zMbf5FrAI\n",
       "SlHt7NIZ466ZHyX9uBQxOOrLhENvqlkKTWLhNiEdHADZjsn3hQsbhDNlxzjPuN1eY+PvzMuv2vbw\n",
       "qU8ZPk80vzniO//HkMFvTMxREc9ORP4BWAkVgxyB/+AAAAAASUVORK5CYII=\n",
       "\" style=\"display:inline;vertical-align:middle;\" /></a></td></tr>\n",
       "<tr><td>1</td><td>Operation</td><td>operator:&nbsp;3<br>operand:&nbsp;7<br></td><td><a class=\"ProveItLink\" href=\"../39d4141c0c87bfec03c3a4cacefb9789ccaa8a240/expr.ipynb\"><img src=\"data:image/png;base64,iVBORw0KGgoAAAANSUhEUgAAABsAAAAJBAMAAAAx5Er2AAAAMFBMVEX///8QEBCYmJhmZmaqqqrM\n",
       "zMzu7u52dnZUVFRERESIiIi6uroiIiIyMjLc3NwAAACYIUNuAAAAAXRSTlMAQObYZgAAAFFJREFU\n",
       "CNdjYICCXfNerShggIOC3gVsX+E87g0nGdh+MzC8PQMCp9mAbJZvCMVANscFBJf5AgO/QgKcy1jA\n",
       "oJ+AMPr9BoZKlgA4dyMDw8slDABOHRl7oVQ5tAAAAABJRU5ErkJggg==\n",
       "\" style=\"display:inline;vertical-align:middle;\" /></a></td></tr>\n",
       "<tr><td>2</td><td>ExprTuple</td><td>4</td><td><a class=\"ProveItLink\" href=\"../81d747e598eb5a1be95fcb01ec6b61d2f221daeb0/expr.ipynb\"><img src=\"data:image/png;base64,iVBORw0KGgoAAAANSUhEUgAAAFAAAAAbBAMAAAAZoBUxAAAAMFBMVEX///+qqqp2dnYiIiJERESI\n",
       "iIhmZmYQEBDc3NyYmJgyMjLu7u5UVFTMzMy6uroAAACGxKilAAAAAXRSTlMAQObYZgAAAYZJREFU\n",
       "OMuNkr9Lw1AQx79NtSYmqf0DFDs6CgFxUeLg4A8koEUQB8FNUYp/QQcHcarg5hIQLbQOAZ26pKiL\n",
       "hUgQJynoJjj4AwWVUvG9Z5uXQDA5ePfu3n1y795dgAhJcPP5X7CLqixVai0abFBVtaLBboOoK0SD\n",
       "GAXEfFi4+jFtYfU90wGXgdRKaKIpVQdeUS+XymVyr22h5yEUvHBzQN67OlnEfSAuL2maSY3riuL6\n",
       "wJSOxQB4d9A2nIZc8YESqQJIL+zkzpkvznS+cBLGrQ9MNzELCMoRbJf1ouCB2JQMCirMVVs4JjNM\n",
       "6rDZm87AQcVyeOfEH4wAFqEG2XweNa39GAdyrcpB+Y2ClKrDm2k7I27UQMYTsq0B3zL1T/2glNE5\n",
       "2MIl2bYgNQXqK0UfiCEOpr8wz/IK+gArZbwTmaNdNj2Q9PGF4HmIkxl2sLvxF3j6JNlkDgom+tzA\n",
       "aPoPNTNk9L0GlCxiiF2AOhwH3CdrIg44RuuPwUn0707EKHKb6b1ocB3x5RcROmByhIcETAAAAABJ\n",
       "RU5ErkJggg==\n",
       "\" style=\"display:inline;vertical-align:middle;\" /></a></td></tr>\n",
       "<tr><td>3</td><td>Literal</td><td></td><td><a class=\"ProveItLink\" href=\"../../../../negation/__pv_it/3fc7a08bb9735faa20ef8e175f6ea95511acc9c70/expr.ipynb\"><img src=\"data:image/png;base64,iVBORw0KGgoAAAANSUhEUgAAAA4AAAACBAMAAACapPCZAAAAElBMVEX///+6uroiIiIyMjLc3NwA\n",
       "AAA6l9OrAAAAAXRSTlMAQObYZgAAABBJREFUCNdjcFYCAUUGKAAADR4BD8/TF5gAAAAASUVORK5C\n",
       "YII=\n",
       "\" style=\"display:inline;vertical-align:middle;\" /></a></td></tr>\n",
       "<tr><td>4</td><td>Operation</td><td>operator:&nbsp;5<br>operands:&nbsp;6<br></td><td><a class=\"ProveItLink\" href=\"../ca168172ae8fdbc0b3309171207549f95d3e04720/expr.ipynb\"><img src=\"data:image/png;base64,iVBORw0KGgoAAAANSUhEUgAAAEEAAAAUBAMAAAAgmk0yAAAAMFBMVEX///8QEBCYmJhmZmaqqqoi\n",
       "IiLMzMzu7u4yMjJ2dnZUVFTc3NxERESIiIi6uroAAABbPXqjAAAAAXRSTlMAQObYZgAAAO9JREFU\n",
       "KM9jYMAHWBgIAZ4BVVHx50QBg+lXBzxmHGI7wMDwgWFFR2NHxwWsKpYm3GVgEMBiC/uN0NAGEGNd\n",
       "O1cCVhUZ6lDGsiz2doQKvju7764Ei3MfhyldxnIhB6GCk6uXoT4B7LUNcBUMdkwXQCq4QLx3rAcY\n",
       "6h+AWDUMCBVcBcsEYLwCoLR/AYj1MDQU6tJlDOwLKuAqQNIrwIwsJDMYMtkQKiwYGD6xgxilyCqY\n",
       "HA7AuZIMTN85QQwuBSQVDLPhKrj/MXAecAMHWBxM7BwQMzfAeHwCDNxnHcDMHWYQoRcfgfrZG7DF\n",
       "h1drKKY4AGqVPTHpMHFDAAAAAElFTkSuQmCC\n",
       "\" style=\"display:inline;vertical-align:middle;\" /></a></td></tr>\n",
       "<tr><td>5</td><td>Literal</td><td></td><td><a class=\"ProveItLink\" href=\"../../../../../logic/set_theory/membership/__pv_it/088cbc857536a28d4119ad9639a84270ccb0545d0/expr.ipynb\"><img src=\"data:image/png;base64,iVBORw0KGgoAAAANSUhEUgAAAAwAAAAMBAMAAACkW0HUAAAALVBMVEX///+qqqpmZmZUVFQQEBC6\n",
       "urpERETc3NyYmJjMzMwiIiIyMjKIiIju7u4AAACYsrA9AAAAAXRSTlMAQObYZgAAADxJREFUCNdj\n",
       "YOA9vWrVBgaG2b0MQMCeCyIZ2ArA1DUwyRCyahVIyWQI7xaEYm4AU7xLIdxqTQgtvGvVBgCkcQ7e\n",
       "geM/tQAAAABJRU5ErkJggg==\n",
       "\" style=\"display:inline;vertical-align:middle;\" /></a></td></tr>\n",
       "<tr><td>6</td><td>ExprTuple</td><td>7, 8</td><td><a class=\"ProveItLink\" href=\"../d845077e116d4a126343c8eabd70d8cb8fc5613f0/expr.ipynb\"><img src=\"data:image/png;base64,iVBORw0KGgoAAAANSUhEUgAAAEAAAAAbBAMAAAA+DpTZAAAAMFBMVEX///+qqqp2dnYiIiJERESI\n",
       "iIhmZmYQEBDc3NyYmJgyMjLu7u5UVFTMzMy6uroAAACGxKilAAAAAXRSTlMAQObYZgAAAVxJREFU\n",
       "KM+F0j1Lw0AYB/B/Uq2Jl9R8ATGjo5O4CHFwUEQCWlwcBDcFCX4BMziIk4IfoIsKqcPNWVKqi4VK\n",
       "EMeCnR18oYJKqXgXmjfM6cE9l7v73XPJ5QBBkdLH50IwwoPJg94Qgw4PPhWDUZuFW4gB5gDFyQ77\n",
       "78sU2z0jBptAeSu3cEm3gFe0vEvPY/kDirFuDlyHVcBJtiid4DG/9V1dCzOgbGEjD9odUs8Ale0G\n",
       "VNaPqs0YSPZDBlT6WAFk7RxBOATYU20OtKirD3DBzrpkIejGQKPt9MuVb8wClM1O0RiQhp8C8sYB\n",
       "n23F7wDc67kMV6zZAb5IAlTDSsEAN6zZh9qXQYcA0ymofGItyiNbk6THR1b56dQSwM7hhTEHyqJB\n",
       "Dlzg6YOtJimQa5gIk3Tu758+bkMzk3QFtyJwoc/8Bc5YXYg7dgGYZ/UY4qLy2ySZYnAYxVMx2MX/\n",
       "5QcYXFhfcnNwuwAAAABJRU5ErkJggg==\n",
       "\" style=\"display:inline;vertical-align:middle;\" /></a></td></tr>\n",
       "<tr><td>7</td><td>Variable</td><td></td><td><a class=\"ProveItLink\" href=\"../../../../../__pv_it/39dbcd3ca0390345b51c6ef7785756419e2c14390/expr.ipynb\"><img src=\"data:image/png;base64,iVBORw0KGgoAAAANSUhEUgAAAAwAAAAJBAMAAAD0ltBnAAAAMFBMVEX///8QEBCYmJhmZmaqqqoi\n",
       "IiLMzMzu7u4yMjJ2dnZUVFTc3NxERESIiIi6uroAAABbPXqjAAAAAXRSTlMAQObYZgAAAERJREFU\n",
       "CNdj4Luz++5KBgZOrl6G+gSGd6wHGOofMBQAsX8BAwivYGBgsGBg+MTOwCDJwPSdk4H7HwPnATcG\n",
       "PgEG7rMOAGtQEUwHZIDZAAAAAElFTkSuQmCC\n",
       "\" style=\"display:inline;vertical-align:middle;\" /></a></td></tr>\n",
       "<tr><td>8</td><td>Literal</td><td></td><td><a class=\"ProveItLink\" href=\"../42d4bc2e45d5054d807f2641a228c1b440fb8de30/expr.ipynb\"><img src=\"data:image/png;base64,iVBORw0KGgoAAAANSUhEUgAAABsAAAATBAMAAACTqWsLAAAAMFBMVEX////c3Nx2dna6uroQEBCI\n",
       "iIhUVFTMzMyYmJiqqqoiIiJmZmZEREQyMjLu7u4AAADjlg78AAAAAXRSTlMAQObYZgAAAHZJREFU\n",
       "GNNjYIADTgYUwEMy9+2fsw8Ydv2aAJM9wX6AgeEDQ+7dK3fvBjAwZBWEMjA4wPUm32MrQOKml/Hd\n",
       "Q+ZyBtQgcxk2cwSAuGxQLtuDdAe47ekMfAlvkbkMRewoXI4JB5C5DIoI7mEg5r4A49l+AcrwwbgA\n",
       "axoiJO4Xc9gAAAAASUVORK5CYII=\n",
       "\" style=\"display:inline;vertical-align:middle;\" /></a></td></tr>\n",
       "</table>\n"
      ],
      "text/plain": [
       "0. n -> (-n) | n in NaturalsPos\n",
       "   core type: Lambda\n",
       "   parameter: 7\n",
       "   body: 1\n",
       "   conditions: 2\\n1. -n\n",
       "   core type: Operation\n",
       "   operator: 3\n",
       "   operand: 7\n",
       "2. (n in NaturalsPos)\n",
       "   core type: ExprTuple\n",
       "   sub-expressions: 4\n",
       "3. -\n",
       "   core type: Literal\n",
       "   sub-expressions: \n",
       "4. n in NaturalsPos\n",
       "   core type: Operation\n",
       "   operator: 5\n",
       "   operands: 6\n",
       "5. in\n",
       "   core type: Literal\n",
       "   sub-expressions: \n",
       "6. (n , NaturalsPos)\n",
       "   core type: ExprTuple\n",
       "   sub-expressions: 7, 8\n",
       "7. n\n",
       "   core type: Variable\n",
       "   sub-expressions: \n",
       "8. NaturalsPos\n",
       "   core type: Literal\n",
       "   sub-expressions: "
      ]
     },
     "execution_count": 4,
     "metadata": {},
     "output_type": "execute_result"
    }
   ],
   "source": [
    "# display the expression information\n",
    "expr.exprInfo()"
   ]
  },
  {
   "cell_type": "code",
   "execution_count": null,
   "metadata": {},
   "outputs": [],
   "source": []
  }
 ],
 "metadata": {
  "kernelspec": {
   "display_name": "Python 3",
   "language": "python",
   "name": "python3"
  }
 },
 "nbformat": 4,
 "nbformat_minor": 0
}
