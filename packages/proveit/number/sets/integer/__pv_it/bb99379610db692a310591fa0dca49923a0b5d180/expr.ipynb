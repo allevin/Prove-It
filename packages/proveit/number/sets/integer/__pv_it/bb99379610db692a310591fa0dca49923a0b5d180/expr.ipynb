{
 "cells": [
  {
   "cell_type": "markdown",
   "metadata": {},
   "source": [
    "Expression of type <a class=\"ProveItLink\" href=\"../../../../../../../doc/html/api/proveit.logic.InSet.html\">InSet</a>\n",
    "=======================\n",
    "# from context <a class=\"ProveItLink\" href=\"../../_context_.ipynb\">proveit.number.sets.integer</a>"
   ]
  },
  {
   "cell_type": "code",
   "execution_count": 1,
   "metadata": {},
   "outputs": [],
   "source": [
    "# import Expression classes needed to build the expression\n",
    "from proveit._common_ import a\n",
    "from proveit.logic import Booleans, InSet\n",
    "from proveit.number import NaturalsPos"
   ]
  },
  {
   "cell_type": "code",
   "execution_count": 2,
   "metadata": {},
   "outputs": [
    {
     "data": {
      "text/html": [
       "<strong id=\"expr\">expr:</strong> <a class=\"ProveItLink\" href=\"expr.ipynb\"><img src=\"data:image/png;base64,iVBORw0KGgoAAAANSUhEUgAAAHgAAAAbBAMAAABFKlYVAAAAMFBMVEX///+qqqp2dnYiIiJERESI\n",
       "iIhmZmYQEBDc3NyYmJgyMjLu7u5UVFTMzMy6uroAAACGxKilAAAAAXRSTlMAQObYZgAAAedJREFU\n",
       "OMtjYCAABPBLv8Mr6wDETDhleQ8Q1Ixbya4NBDUzhOKSPclAWDNzA3ZJjgIsgtzrXVYzsNkbwjSz\n",
       "ormbab3Xr2JHBga2BGxGsky4wsDAz8CzalXVqqVAw36jy/MF7NqkwMD+AJtmHlvWAAZ2uLMZLDE1\n",
       "sz5YwHAfxblRxsYLwJpfbTiLrDkFTR6omXHCaYZwZM23ZsNsvntg1wYkzfPR5EE2v3BgOAVi9wQ9\n",
       "B4Unhzfc2RdEeR2QNL8HxydCHqj58pQNDD5AJl8Fgz9YqAGhme3BVLBmSDjfv4Aqz8Jn/L+UgWEZ\n",
       "kNk/AeKpLYgAu8Bwmuc6wj/9D1DlQc4OdGAwAzLPMzCYgoSeGxvDAuwCwx7u5QjN+wVQ5YGaGRwe\n",
       "gTV/YeD+CxK6g2wzrwKGzXeQbWZwYGFYAwyHrwyMH7iBQpuRNTNMZEHSDPbzZnTNR4Cx95GBZ4Es\n",
       "SMsEZM1MLQjN78FBhZCHOjsYyFzJIJygAEoDdnBJkDOzEJoh8YwkzxfAmerA8B4UzaFvXcGe6sqF\n",
       "yPGtLwFlVoRmLQgFkwdmjC/mB4Gp/wJyEpNZDAlNdLAUuzyPAgNhwP0DRylkQIRmTgccEo5EaGa+\n",
       "gEOiiwjN03BJMBL2NIcDTqmJBDWzbWCgPgAAPFqAzHtAmwgAAAAASUVORK5CYII=\n",
       "\" style=\"display:inline;vertical-align:middle;\" /></a><br>"
      ],
      "text/plain": [
       "expr: (a in NaturalsPos) in BOOLEANS"
      ]
     },
     "execution_count": 2,
     "metadata": {},
     "output_type": "execute_result"
    }
   ],
   "source": [
    "# build up the expression from sub-expressions\n",
    "expr = InSet(InSet(a, NaturalsPos), Booleans)"
   ]
  },
  {
   "cell_type": "code",
   "execution_count": 3,
   "metadata": {},
   "outputs": [
    {
     "name": "stdout",
     "output_type": "stream",
     "text": [
      "Passed sanity check: built 'expr' is the same as the stored Expression.\n"
     ]
    }
   ],
   "source": [
    "# check that the built expression is the same as the stored expression\n",
    "%check_expr"
   ]
  },
  {
   "cell_type": "code",
   "execution_count": 4,
   "metadata": {},
   "outputs": [
    {
     "data": {
      "text/html": [
       "<table><tr><th>&nbsp;</th><th>core type</th><th>sub-expressions</th><th>expression</th></tr>\n",
       "<tr><td>0</td><td>Operation</td><td>operator:&nbsp;4<br>operands:&nbsp;1<br></td><td><a class=\"ProveItLink\" href=\"expr.ipynb\"><img src=\"data:image/png;base64,iVBORw0KGgoAAAANSUhEUgAAAHgAAAAbBAMAAABFKlYVAAAAMFBMVEX///+qqqp2dnYiIiJERESI\n",
       "iIhmZmYQEBDc3NyYmJgyMjLu7u5UVFTMzMy6uroAAACGxKilAAAAAXRSTlMAQObYZgAAAedJREFU\n",
       "OMtjYCAABPBLv8Mr6wDETDhleQ8Q1Ixbya4NBDUzhOKSPclAWDNzA3ZJjgIsgtzrXVYzsNkbwjSz\n",
       "ormbab3Xr2JHBga2BGxGsky4wsDAz8CzalXVqqVAw36jy/MF7NqkwMD+AJtmHlvWAAZ2uLMZLDE1\n",
       "sz5YwHAfxblRxsYLwJpfbTiLrDkFTR6omXHCaYZwZM23ZsNsvntg1wYkzfPR5EE2v3BgOAVi9wQ9\n",
       "B4Unhzfc2RdEeR2QNL8HxydCHqj58pQNDD5AJl8Fgz9YqAGhme3BVLBmSDjfv4Aqz8Jn/L+UgWEZ\n",
       "kNk/AeKpLYgAu8Bwmuc6wj/9D1DlQc4OdGAwAzLPMzCYgoSeGxvDAuwCwx7u5QjN+wVQ5YGaGRwe\n",
       "gTV/YeD+CxK6g2wzrwKGzXeQbWZwYGFYAwyHrwyMH7iBQpuRNTNMZEHSDPbzZnTNR4Cx95GBZ4Es\n",
       "SMsEZM1MLQjN78FBhZCHOjsYyFzJIJygAEoDdnBJkDOzEJoh8YwkzxfAmerA8B4UzaFvXcGe6sqF\n",
       "yPGtLwFlVoRmLQgFkwdmjC/mB4Gp/wJyEpNZDAlNdLAUuzyPAgNhwP0DRylkQIRmTgccEo5EaGa+\n",
       "gEOiiwjN03BJMBL2NIcDTqmJBDWzbWCgPgAAPFqAzHtAmwgAAAAASUVORK5CYII=\n",
       "\" style=\"display:inline;vertical-align:middle;\" /></a></td></tr>\n",
       "<tr><td>1</td><td>ExprTuple</td><td>2, 3</td><td><a class=\"ProveItLink\" href=\"../df3bd8103d1bdd2b9ff0ed340d00249a2fbbe8a30/expr.ipynb\"><img src=\"data:image/png;base64,iVBORw0KGgoAAAANSUhEUgAAAGYAAAAbBAMAAAB8TedOAAAAMFBMVEX///+qqqp2dnYiIiJERESI\n",
       "iIhmZmYQEBDc3NyYmJgyMjLu7u5UVFTMzMy6uroAAACGxKilAAAAAXRSTlMAQObYZgAAAdNJREFU\n",
       "OMtjYCAABLCKvsOrxwGNrwAieA+QpOcOiNi1gSQ9rAFA4iQDSXoYLBgYOAqwKORe77Kagc3eEEkP\n",
       "03qvX8WOQEYMAwNbAjbTWSZcYWDgZ+BZtapq1VKoEF/Ark3AENi/gYH9ATY9PLZAd7OjuA2oh/XB\n",
       "AgYG5gkM91HcFGVsvACs59WGs5h6GCecBjrMgSEcWc+t2TB77h7YtQHTnhdAHucHhlMgfk/Q8wYg\n",
       "xeENd9sFUV4HDD2XpwDjhe83gw+Qy1fB4A8WbkDoYXswFaznAEKP8f9SUBr4y7AMSPVPYEgBCW9B\n",
       "hMEFhtM811GDEui2QKCtHP8YzIDc8wwMpiDh58bGsDC4wLCHezm6HgaHR8Bw+gjW84WB+y88LcHs\n",
       "4VW4jqmHBWzPGiD5lYHxAzdQeDOyHoaJLNj1/GU4AraNZ4EsSOUEZD1MLXD1G5DcxveDIRjIXckg\n",
       "nADKF9x2cENBqSMLHtWfIXo4UyHx8x4UPaFvXcFJqCsXoohvfQkol8D11DeA0ugX84OgxLqAgf8C\n",
       "sqNlFkPCDQ3wNSDYXAEMPAoMhAEnEnt/AwOvAYl6pgCxIxF6ApDYtiB/M5AEOEF5lFGBJD2QSJtI\n",
       "kp5sBrIAAN4bdsovxBqbAAAAAElFTkSuQmCC\n",
       "\" style=\"display:inline;vertical-align:middle;\" /></a></td></tr>\n",
       "<tr><td>2</td><td>Operation</td><td>operator:&nbsp;4<br>operands:&nbsp;5<br></td><td><a class=\"ProveItLink\" href=\"../12dd556c18372ffa5a86a0a8bde7d7d68d4b9b2f0/expr.ipynb\"><img src=\"data:image/png;base64,iVBORw0KGgoAAAANSUhEUgAAAD8AAAAUBAMAAADIGvgZAAAAMFBMVEX///8yMjKqqqrMzMzu7u4i\n",
       "IiJmZmaYmJhEREQQEBC6urp2dnaIiIhUVFTc3NwAAAD87Fq/AAAAAXRSTlMAQObYZgAAAOpJREFU\n",
       "KM9jYMADmBgIAI4BU+D4o9GBIfWrAm4T2pkbGBg+MFwUlBQUPIBNwVWDMwwMEzCtYDkYGioAYtwS\n",
       "4TXApsCwBMq4bMsigqSA786ueWC6BabyMtMBCyQFKx9wfAD76QFcAUMW+wGQAl6wxu8MbA0ghgcD\n",
       "QgGvw+UJMB7vBwZWsF9WhoZCHXmZgeWCI1wBfwODvwGIYYtkAoM1M1zB+wMM+gwOQIYrsgJ2hQYY\n",
       "z1+B4SITyAjeAiQFDPvgChgLmMK4weEUBRPqAmI2ARiP784pi1Ng1sNkiMjCn0DdLAJY4kBXNBRT\n",
       "GAAhQDjQGds0wgAAAABJRU5ErkJggg==\n",
       "\" style=\"display:inline;vertical-align:middle;\" /></a></td></tr>\n",
       "<tr><td>3</td><td>Literal</td><td></td><td><a class=\"ProveItLink\" href=\"../../../../../logic/boolean/__pv_it/46271c8230be96415d662709611f4ed2279d702b0/expr.ipynb\"><img src=\"data:image/png;base64,iVBORw0KGgoAAAANSUhEUgAAAA0AAAAOBAMAAAAGUYvhAAAAMFBMVEX///9mZmbMzMzc3NxUVFSY\n",
       "mJju7u6IiIi6urqqqqoiIiIQEBBEREQyMjJ2dnYAAAAQvcRZAAAAAXRSTlMAQObYZgAAAElJREFU\n",
       "CNdjePvn/u01ExgYGA60s117B6YZKngh9FSWBAjfBsxnWnoMRHet/10AkS+fA6F5OB5AaIYDqDRU\n",
       "PLCGgQFoz6ktExgAgLIl8DFvGtkAAAAASUVORK5CYII=\n",
       "\" style=\"display:inline;vertical-align:middle;\" /></a></td></tr>\n",
       "<tr><td>4</td><td>Literal</td><td></td><td><a class=\"ProveItLink\" href=\"../../../../../logic/set_theory/membership/__pv_it/088cbc857536a28d4119ad9639a84270ccb0545d0/expr.ipynb\"><img src=\"data:image/png;base64,iVBORw0KGgoAAAANSUhEUgAAAAwAAAAMBAMAAACkW0HUAAAALVBMVEX///+qqqpmZmZUVFQQEBC6\n",
       "urpERETc3NyYmJjMzMwiIiIyMjKIiIju7u4AAACYsrA9AAAAAXRSTlMAQObYZgAAADxJREFUCNdj\n",
       "YOA9vWrVBgaG2b0MQMCeCyIZ2ArA1DUwyRCyahVIyWQI7xaEYm4AU7xLIdxqTQgtvGvVBgCkcQ7e\n",
       "geM/tQAAAABJRU5ErkJggg==\n",
       "\" style=\"display:inline;vertical-align:middle;\" /></a></td></tr>\n",
       "<tr><td>5</td><td>ExprTuple</td><td>6, 7</td><td><a class=\"ProveItLink\" href=\"../138086bec9c7cd7ae91abca3a5893cc380c3eb300/expr.ipynb\"><img src=\"data:image/png;base64,iVBORw0KGgoAAAANSUhEUgAAAD4AAAAbBAMAAADWjiHyAAAAMFBMVEX///+qqqp2dnYiIiJERESI\n",
       "iIhmZmYQEBDc3NyYmJgyMjLu7u5UVFTMzMy6uroAAACGxKilAAAAAXRSTlMAQObYZgAAAVdJREFU\n",
       "KM+F0j1Lw0AYB/B/+mbTJG2+gRmdpFNxEeKoiAREXKQIjoJ0dOzg5GIEP0AnhdQhm5AlBXWwUAnS\n",
       "saCb4qARBStS8bmS9BKa6ME99/LLc8ddDkguAu++JHmOBY0FpZPqAxYcO9XzBoUbpDoWgGIjMut8\n",
       "rNjYeVdD3wIK29G0ZUUHfHStM8uixV0bMw9Rv/Q2gMZk/ayJ+9i2t23Zi3hBx2bMewOpHXGRtqKm\n",
       "eD2/H7hg9CNe/sYqNY/NnB849kSDuTweKiOcUvoX2yhw2e7xExd/UKNvfWSN0KWOw116Y17R4Xqh\n",
       "406J5Z8DRwZmYYcuqjr3Ea7ollR0BU8KHHPcy0OsAyVTqGXgVmlijV1Ka+J0/ld2/Hq/josh8PxJ\n",
       "uRL3TAsVLxw8Tf/lkgFZCwfmtLtNKNU//ITqUtDPJ7yiRaqHSC0iezuCluoH43ic6rv4t/wC9F1Y\n",
       "B6PU2xsAAAAASUVORK5CYII=\n",
       "\" style=\"display:inline;vertical-align:middle;\" /></a></td></tr>\n",
       "<tr><td>6</td><td>Variable</td><td></td><td><a class=\"ProveItLink\" href=\"../../../../../__pv_it/07527342713064c87612d00d8557c53d53d5324a0/expr.ipynb\"><img src=\"data:image/png;base64,iVBORw0KGgoAAAANSUhEUgAAAAsAAAAJBAMAAAAWSsseAAAAMFBMVEX///8yMjKqqqrMzMzu7u4i\n",
       "IiJmZmaYmJhEREQQEBC6urp2dnaIiIhUVFTc3NwAAAD87Fq/AAAAAXRSTlMAQObYZgAAAEhJREFU\n",
       "CNdjYOC7s2seAwPDygccHxgY+L4zsDUwMPB+YGA9wMDA38Dgb8DA8P4Agz6DA4O/AsNFJgMGxgKm\n",
       "MG6gyjunLE4xAAAZTBA5TB6DCwAAAABJRU5ErkJggg==\n",
       "\" style=\"display:inline;vertical-align:middle;\" /></a></td></tr>\n",
       "<tr><td>7</td><td>Literal</td><td></td><td><a class=\"ProveItLink\" href=\"../42d4bc2e45d5054d807f2641a228c1b440fb8de30/expr.ipynb\"><img src=\"data:image/png;base64,iVBORw0KGgoAAAANSUhEUgAAABsAAAATBAMAAACTqWsLAAAAMFBMVEX////c3Nx2dna6uroQEBCI\n",
       "iIhUVFTMzMyYmJiqqqoiIiJmZmZEREQyMjLu7u4AAADjlg78AAAAAXRSTlMAQObYZgAAAHZJREFU\n",
       "GNNjYIADTgYUwEMy9+2fsw8Ydv2aAJM9wX6AgeEDQ+7dK3fvBjAwZBWEMjA4wPUm32MrQOKml/Hd\n",
       "Q+ZyBtQgcxk2cwSAuGxQLtuDdAe47ekMfAlvkbkMRewoXI4JB5C5DIoI7mEg5r4A49l+AcrwwbgA\n",
       "axoiJO4Xc9gAAAAASUVORK5CYII=\n",
       "\" style=\"display:inline;vertical-align:middle;\" /></a></td></tr>\n",
       "</table>\n"
      ],
      "text/plain": [
       "0. (a in NaturalsPos) in BOOLEANS\n",
       "   core type: Operation\n",
       "   operator: 4\n",
       "   operands: 1\n",
       "1. (a in NaturalsPos , BOOLEANS)\n",
       "   core type: ExprTuple\n",
       "   sub-expressions: 2, 3\n",
       "2. a in NaturalsPos\n",
       "   core type: Operation\n",
       "   operator: 4\n",
       "   operands: 5\n",
       "3. BOOLEANS\n",
       "   core type: Literal\n",
       "   sub-expressions: \n",
       "4. in\n",
       "   core type: Literal\n",
       "   sub-expressions: \n",
       "5. (a , NaturalsPos)\n",
       "   core type: ExprTuple\n",
       "   sub-expressions: 6, 7\n",
       "6. a\n",
       "   core type: Variable\n",
       "   sub-expressions: \n",
       "7. NaturalsPos\n",
       "   core type: Literal\n",
       "   sub-expressions: "
      ]
     },
     "execution_count": 4,
     "metadata": {},
     "output_type": "execute_result"
    }
   ],
   "source": [
    "# display the expression information\n",
    "expr.exprInfo()"
   ]
  },
  {
   "cell_type": "code",
   "execution_count": null,
   "metadata": {},
   "outputs": [],
   "source": []
  }
 ],
 "metadata": {
  "kernelspec": {
   "display_name": "Python 3",
   "language": "python",
   "name": "python3"
  }
 },
 "nbformat": 4,
 "nbformat_minor": 0
}
