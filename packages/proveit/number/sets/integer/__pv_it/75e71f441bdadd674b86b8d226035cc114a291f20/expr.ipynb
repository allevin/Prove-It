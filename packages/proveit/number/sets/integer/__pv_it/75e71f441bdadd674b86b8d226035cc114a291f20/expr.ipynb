{
 "cells": [
  {
   "cell_type": "markdown",
   "metadata": {},
   "source": [
    "Expression of type <a class=\"ProveItLink\" href=\"../../../../../../../doc/html/api/proveit.logic.Set.html\">Set</a>\n",
    "=======================\n",
    "# from context <a class=\"ProveItLink\" href=\"../../_context_.ipynb\">proveit.number.sets.integer</a>"
   ]
  },
  {
   "cell_type": "code",
   "execution_count": 1,
   "metadata": {},
   "outputs": [],
   "source": [
    "# import Expression classes needed to build the expression\n",
    "from proveit._common_ import n\n",
    "from proveit.logic import InSet, Set\n",
    "from proveit.number import Add, Naturals, one"
   ]
  },
  {
   "cell_type": "code",
   "execution_count": 2,
   "metadata": {},
   "outputs": [
    {
     "data": {
      "text/html": [
       "<strong id=\"expr\">expr:</strong> <a class=\"ProveItLink\" href=\"expr.ipynb\"><img src=\"data:image/png;base64,iVBORw0KGgoAAAANSUhEUgAAAHsAAAAVBAMAAACUF4xmAAAAMFBMVEX////c3NxERESqqqpUVFS6\n",
       "urrMzMwyMjIQEBCIiIh2dnYiIiLu7u5mZmaYmJgAAABXZE4RAAAAAXRSTlMAQObYZgAAAdVJREFU\n",
       "OMudlD1Iw0AUx59tkrYxSUMX6eTH4tLBwcWtg+jikM26BSnasVuECq2KujgUFMUt6KJOoihoBoMU\n",
       "Krg4qZMExEER6qIuHbx3/Uiv5DqY4d27y/3y3r37vwCA9gL/eaQTHQflGu0cd9sbl19DG/tCNx28\n",
       "JQWgmuySUhxZBvXmHOAJp3KJmIgbSN/Wicl3LYa8eYA4cY7a+D4bQG+MlUnEP7pw4TJWhiiDbzEb\n",
       "wuWmE0P8rvnNPcehiQiz7hSLi/keeGiM+oufregL6arL4KpNaj+c3LGDcPkB3b5UO3lzQhpq4yqJ\n",
       "HPEA7Omy8hOEh2lqId3HVeMd8RrOcgZA1ADROAPlOwgXS/QS/NKZMCPk8LpIWtkN4sQNUAgbrgfh\n",
       "EgoDMo7TKp0JFWUJvVGSdMakOLICvlYtq7BpWekuPNsZXbIxej+WCpnoGK1B3HO5yd934vAaap1d\n",
       "PkUhkU/YUHPtAFxrpOx14nKi8+LwbgYNOAib3ItTLtqiJSelevdlQzLIACS22dKpz7+kmSMGnQw8\n",
       "NhbF4iqxVUa0K8Gqo09TtDBecFhx+jjbFiKDH/ManuJaj4alh87z3tB+V65Q0WkuLui8v806HbRD\n",
       "YpJcfLfXv+4PAQaC0r1MSRoAAAAASUVORK5CYII=\n",
       "\" style=\"display:inline;vertical-align:middle;\" /></a><br>"
      ],
      "text/plain": [
       "expr: {(n + 1) in Naturals}"
      ]
     },
     "execution_count": 2,
     "metadata": {},
     "output_type": "execute_result"
    }
   ],
   "source": [
    "# build up the expression from sub-expressions\n",
    "expr = Set(InSet(Add(n, one), Naturals))"
   ]
  },
  {
   "cell_type": "code",
   "execution_count": 3,
   "metadata": {},
   "outputs": [
    {
     "name": "stdout",
     "output_type": "stream",
     "text": [
      "Passed sanity check: built 'expr' is the same as the stored Expression.\n"
     ]
    }
   ],
   "source": [
    "# check that the built expression is the same as the stored expression\n",
    "%check_expr"
   ]
  },
  {
   "cell_type": "code",
   "execution_count": 4,
   "metadata": {},
   "outputs": [
    {
     "data": {
      "text/html": [
       "<table><tr><th>&nbsp;</th><th>core type</th><th>sub-expressions</th><th>expression</th></tr>\n",
       "<tr><td>0</td><td>Operation</td><td>operator:&nbsp;1<br>operands:&nbsp;2<br></td><td><a class=\"ProveItLink\" href=\"expr.ipynb\"><img src=\"data:image/png;base64,iVBORw0KGgoAAAANSUhEUgAAAHsAAAAVBAMAAACUF4xmAAAAMFBMVEX////c3NxERESqqqpUVFS6\n",
       "urrMzMwyMjIQEBCIiIh2dnYiIiLu7u5mZmaYmJgAAABXZE4RAAAAAXRSTlMAQObYZgAAAdVJREFU\n",
       "OMudlD1Iw0AUx59tkrYxSUMX6eTH4tLBwcWtg+jikM26BSnasVuECq2KujgUFMUt6KJOoihoBoMU\n",
       "Krg4qZMExEER6qIuHbx3/Uiv5DqY4d27y/3y3r37vwCA9gL/eaQTHQflGu0cd9sbl19DG/tCNx28\n",
       "JQWgmuySUhxZBvXmHOAJp3KJmIgbSN/Wicl3LYa8eYA4cY7a+D4bQG+MlUnEP7pw4TJWhiiDbzEb\n",
       "wuWmE0P8rvnNPcehiQiz7hSLi/keeGiM+oufregL6arL4KpNaj+c3LGDcPkB3b5UO3lzQhpq4yqJ\n",
       "HPEA7Omy8hOEh2lqId3HVeMd8RrOcgZA1ADROAPlOwgXS/QS/NKZMCPk8LpIWtkN4sQNUAgbrgfh\n",
       "EgoDMo7TKp0JFWUJvVGSdMakOLICvlYtq7BpWekuPNsZXbIxej+WCpnoGK1B3HO5yd934vAaap1d\n",
       "PkUhkU/YUHPtAFxrpOx14nKi8+LwbgYNOAib3ItTLtqiJSelevdlQzLIACS22dKpz7+kmSMGnQw8\n",
       "NhbF4iqxVUa0K8Gqo09TtDBecFhx+jjbFiKDH/ManuJaj4alh87z3tB+V65Q0WkuLui8v806HbRD\n",
       "YpJcfLfXv+4PAQaC0r1MSRoAAAAASUVORK5CYII=\n",
       "\" style=\"display:inline;vertical-align:middle;\" /></a></td></tr>\n",
       "<tr><td>1</td><td>Literal</td><td></td><td><a class=\"ProveItLink\" href=\"../../../../../logic/set_theory/enumeration/__pv_it/07381ed5b23806e8d7914b78cb6667769e3708dd0/expr.ipynb\"><img src=\"data:image/png;base64,iVBORw0KGgoAAAANSUhEUgAAAB4AAAAOBAMAAADKyLEKAAAAMFBMVEX///8iIiIQEBCIiIjMzMzc\n",
       "3Nyqqqp2dnZEREQyMjK6urru7u5mZmZUVFSYmJgAAACI6eGPAAAAAXRSTlMAQObYZgAAALRJREFU\n",
       "CNdjYGDgu3Nm3wIGBJjHwN0PZW5yYGDgLWBgyITy8zcwMMQDxZyh/INAvD6BgcEFypcB4vjPDiBm\n",
       "TPFRrhs/LjMwMP//38rAwCbKEMPA9gEkE3fp0waG+AUMRxh4JkC01T9guPTOOICBEWgVH5C//wHD\n",
       "H5D4fqCz9oCMDGD4DLaegRXslLMMDMpAgxlOMmQxHDRgYG5gYLBk4D7KcIe7gOHC2rt9QCXsh40Z\n",
       "GCKMGQDRkC8N/Ph1XAAAAABJRU5ErkJggg==\n",
       "\" style=\"display:inline;vertical-align:middle;\" /></a></td></tr>\n",
       "<tr><td>2</td><td>ExprTuple</td><td>3</td><td><a class=\"ProveItLink\" href=\"../945899f1c903c5a340004f8185d346f4f74d93910/expr.ipynb\"><img src=\"data:image/png;base64,iVBORw0KGgoAAAANSUhEUgAAAHUAAAAVBAMAAACK3rzVAAAAMFBMVEX////c3NwiIiJERESqqqqY\n",
       "mJh2dnZmZmYQEBDu7u4yMjJUVFTMzMyIiIi6uroAAAAs73DqAAAAAXRSTlMAQObYZgAAAb1JREFU\n",
       "OMulk0EoBFEYx//LzqyxYyNHF+1JTqO4KOxZxMnBQZyclBwoSZvkyHCS0m5q23ZFKA5MTCkXB1Ou\n",
       "ZHOSIpHiIt97b3Yb4z0XX/2n//e9fjPfvPc94D+R8ITkoZUUCyPscelLEtU2MBeqbbx12ph6TcVc\n",
       "Sgq+fofRQ2xtuNphWsALkAXqPKFArProyRmx2miIPXBvgTQwBNTYQoHoL5s7qhtp4Te3kq3cnBbi\n",
       "LmPXgUcIqVi0c2vmyu93Lo0CY6tTmKaUlLhuuD2SsuPcNlZac6LeOWP1SeQoJenxHWRcGdvLbVul\n",
       "KwfzmkdsNItlSknPVRYyJRn7wPfNCrBx2yE2kcYXpSSbwAFbxl7xAVpIJv29cmDsbRBrvpRZBh6z\n",
       "pdlisaVY3A6x5l7gu7gwBbtIKdMs8G6oe24OslrK4j13sFEhLUH71GXsMLeHQRZjxGpZfgSkyBd0\n",
       "q099RmuVO9FNimX5Gd2TvecdRLpSP9mZlfwgsMt9JO8f4OMHfdMgtraEmnpwyeaK/6k/k9Fjf5/L\n",
       "sS5mPTTvT8FEV13tiT/voLivijprG02+FLGvqMfZf0Y8IXnUuYqFG+Ab9tiI3BxOZEcAAAAASUVO\n",
       "RK5CYII=\n",
       "\" style=\"display:inline;vertical-align:middle;\" /></a></td></tr>\n",
       "<tr><td>3</td><td>Operation</td><td>operator:&nbsp;4<br>operands:&nbsp;5<br></td><td><a class=\"ProveItLink\" href=\"../01cb033d0627530a5164b18d38e486412388cfb80/expr.ipynb\"><img src=\"data:image/png;base64,iVBORw0KGgoAAAANSUhEUgAAAGcAAAAVBAMAAACphe0AAAAAMFBMVEX////c3NwiIiJERESqqqqY\n",
       "mJh2dnZmZmYQEBDu7u4yMjJUVFTMzMyIiIi6uroAAAAs73DqAAAAAXRSTlMAQObYZgAAAX1JREFU\n",
       "OMudkzFIw0AUhv9oExubiuLoIp3EKYJdBDWzKDo76eTuoCAiRcRRo2NBKkIpiShV0KEGDQguHSw4\n",
       "F4uTFBRRBF2KL9c0JOFuMRD4816+u3f/vQf86+mriTJyQwhV+eFuE9iMxfJfEyZWPw3A4jLqNEG9\n",
       "8WhW04EPIB2t7sBnbu4Ikpdi0KVbB3JA0oyE5zrimeJqrq2PTjKjTNxaKdeDmhBDGGdSK3YWdqqq\n",
       "5UFr5N/TQP2aC60wORgU4yRq9x5UBJTUGQouD5phciyow8GWXCNoD3jv0lFo8KBXZooeglKmQ1AL\n",
       "MImYN3nQI7v97UzGN8KBWs63IY+oeLEN2x6x7dMYpJVDO+FBI2jH+xn4VsXlDYch2aBqs6R3If8q\n",
       "PGiRyaswhGWduSq1oOizYssPg8adorfnGHihk+YgTRpRaH2/tACcMy2V/Pto/tAuKkHJfn5HsNP4\n",
       "bZSo+O4FQxNtyrfwhyIcNUs8n3lhZkgMXQgzkrCGtCtI/AG2mXCko5W41gAAAABJRU5ErkJggg==\n",
       "\" style=\"display:inline;vertical-align:middle;\" /></a></td></tr>\n",
       "<tr><td>4</td><td>Literal</td><td></td><td><a class=\"ProveItLink\" href=\"../../../../../logic/set_theory/membership/__pv_it/088cbc857536a28d4119ad9639a84270ccb0545d0/expr.ipynb\"><img src=\"data:image/png;base64,iVBORw0KGgoAAAANSUhEUgAAAAwAAAAMBAMAAACkW0HUAAAALVBMVEX///+qqqpmZmZUVFQQEBC6\n",
       "urpERETc3NyYmJjMzMwiIiIyMjKIiIju7u4AAACYsrA9AAAAAXRSTlMAQObYZgAAADxJREFUCNdj\n",
       "YOA9vWrVBgaG2b0MQMCeCyIZ2ArA1DUwyRCyahVIyWQI7xaEYm4AU7xLIdxqTQgtvGvVBgCkcQ7e\n",
       "geM/tQAAAABJRU5ErkJggg==\n",
       "\" style=\"display:inline;vertical-align:middle;\" /></a></td></tr>\n",
       "<tr><td>5</td><td>ExprTuple</td><td>6, 7</td><td><a class=\"ProveItLink\" href=\"../3fc59885ce121737f725b56b7b2412397f9db4780/expr.ipynb\"><img src=\"data:image/png;base64,iVBORw0KGgoAAAANSUhEUgAAAFUAAAAVBAMAAADFg78FAAAAMFBMVEX////c3NwiIiJERESqqqqY\n",
       "mJh2dnZmZmYQEBDu7u4yMjJUVFTMzMyIiIi6uroAAAAs73DqAAAAAXRSTlMAQObYZgAAAVFJREFU\n",
       "KM+V0zFLw0AUB/B/bK7tmVjq7JfI0kVQ8wEEnRxFJydBHBQcpIM4ONgbpUuDIJKAUBwctGhAcOkS\n",
       "cLVYHDtIqQi6FN8lDSQ2hzXDXd7dL5fHvTvgP08pmIity6adPZcTUV//mBfYHdgFnwI3k/KlkUXF\n",
       "tIA+4AAz6RR4OeruHmJ77XeAKrAGFEXK6vGnr/H4vWv40p4BPfxhW23uSpuzsUc78TzbuVFbPXiU\n",
       "Nr+DC2qNKzR8pcUhC8jqDk6B9ykLja7aGqJFtlTFEBAEV4Ta8madrNmXVsJbOVzwvPMTz2v+sngy\n",
       "I3tE4QHwydXrgtlWmEOFwmOw73yGFSOLTbLMwRagDZG3lsctH8iXRZmcE+7ZW7i6tmCn7X7tcpXX\n",
       "qOC9L1qTk53uoljOrlt4XJNzVGO2oT7NLDmzrTyTY1amgTm1Tf7DkPlok92hF+AH0rZvcBvnBdcA\n",
       "AAAASUVORK5CYII=\n",
       "\" style=\"display:inline;vertical-align:middle;\" /></a></td></tr>\n",
       "<tr><td>6</td><td>Operation</td><td>operator:&nbsp;8<br>operands:&nbsp;9<br></td><td><a class=\"ProveItLink\" href=\"../b946c43e057b554aa1f97d0883c5f68ff71f80e80/expr.ipynb\"><img src=\"data:image/png;base64,iVBORw0KGgoAAAANSUhEUgAAAC4AAAAQBAMAAACb51DZAAAAMFBMVEX///8QEBCYmJhmZmaqqqoi\n",
       "IiLMzMzu7u4yMjJ2dnZUVFTc3NxERESIiIi6uroAAABbPXqjAAAAAXRSTlMAQObYZgAAAHdJREFU\n",
       "GNNjYMAGjmMVZaj5jsqvhlBVq9DEfaE0Lx5xvju7767EIs7J1ctQn4Ap/o71AEP9A0zxAqCgfwEW\n",
       "e4GCK0Aci46OwI6OLri4BQPDJ3Ys6iUZmL5zYopz/2PgPOCGxf0CDNxnHVDEmQ1/GGH1Lzp4i2AC\n",
       "AAL3KRFAMapqAAAAAElFTkSuQmCC\n",
       "\" style=\"display:inline;vertical-align:middle;\" /></a></td></tr>\n",
       "<tr><td>7</td><td>Literal</td><td></td><td><a class=\"ProveItLink\" href=\"../e5d9bd86b06b357eee742ad868997123619e09700/expr.ipynb\"><img src=\"data:image/png;base64,iVBORw0KGgoAAAANSUhEUgAAAA8AAAAOBAMAAAACpFvcAAAAMFBMVEX////c3Nx2dna6uroQEBCI\n",
       "iIhUVFTMzMyYmJiqqqoiIiJmZmZEREQyMjLu7u4AAADjlg78AAAAAXRSTlMAQObYZgAAAGBJREFU\n",
       "CNdjePvn7AOGXb8mMDCcYD/AwPCBgYEhqyCUgcEByEi+x1YAZqSX8d2DMDgDaiAMhs0cARAG24N0\n",
       "CIMv4S2EwVDEDmVwTDgAYTAoghiHgZj7AgOD7Rcgj+8CAwA9oh2B0HK+MAAAAABJRU5ErkJggg==\n",
       "\" style=\"display:inline;vertical-align:middle;\" /></a></td></tr>\n",
       "<tr><td>8</td><td>Literal</td><td></td><td><a class=\"ProveItLink\" href=\"../../../../addition/__pv_it/3e6688136fa3c7aefbebe51301b7c3ebf0b69c440/expr.ipynb\"><img src=\"data:image/png;base64,iVBORw0KGgoAAAANSUhEUgAAAA4AAAAOBAMAAADtZjDiAAAAJFBMVEX///+6urpUVFQQEBAiIiIy\n",
       "MjJmZmaIiIiqqqrc3Nzu7u4AAACgHpL+AAAAAXRSTlMAQObYZgAAAB5JREFUCNdjYGBgWMkAAe2k\n",
       "0Kmhoc6hoUGk6BMHYgAHOwjcado9fwAAAABJRU5ErkJggg==\n",
       "\" style=\"display:inline;vertical-align:middle;\" /></a></td></tr>\n",
       "<tr><td>9</td><td>ExprTuple</td><td>10, 11</td><td><a class=\"ProveItLink\" href=\"../713289cfc951db6eb87a9a7ba22620683870a2810/expr.ipynb\"><img src=\"data:image/png;base64,iVBORw0KGgoAAAANSUhEUgAAACsAAAAVBAMAAAAtAwouAAAAMFBMVEX////c3NwiIiJERESqqqqY\n",
       "mJh2dnZmZmYQEBDu7u4yMjJUVFTMzMyIiIi6uroAAAAs73DqAAAAAXRSTlMAQObYZgAAAOFJREFU\n",
       "GNNjYMAB+C6gi8SBiNOoYpYMDOwHgPRKFNHJP4HEAgYGXhQzZu8GCYcxMHBMQFHNCxKewcDwigFT\n",
       "mNmBoQzolsuCd7chC7MVMCwFktxrGeYfQBJmWcDQx8DwjsmAYf4DJGG+BoZ/DAwTgGL+E5CEeT6A\n",
       "hEFiuxhQhVuAVBUDw1dOVENMgVQbA+tPNoYJcGHWBQzpDAyM/xjYDHw4PyE78BFYD6OtA2e/ADCU\n",
       "Kn6VMjBwPWDgEICHMJwF9DxrAozDCg+BXOSAhQtzAgOWQRrGg4cwN8g0RoxIu8PAAABTtzz5enAE\n",
       "fwAAAABJRU5ErkJggg==\n",
       "\" style=\"display:inline;vertical-align:middle;\" /></a></td></tr>\n",
       "<tr><td>10</td><td>Variable</td><td></td><td><a class=\"ProveItLink\" href=\"../../../../../__pv_it/39dbcd3ca0390345b51c6ef7785756419e2c14390/expr.ipynb\"><img src=\"data:image/png;base64,iVBORw0KGgoAAAANSUhEUgAAAAwAAAAJBAMAAAD0ltBnAAAAMFBMVEX///8QEBCYmJhmZmaqqqoi\n",
       "IiLMzMzu7u4yMjJ2dnZUVFTc3NxERESIiIi6uroAAABbPXqjAAAAAXRSTlMAQObYZgAAAERJREFU\n",
       "CNdj4Luz++5KBgZOrl6G+gSGd6wHGOofMBQAsX8BAwivYGBgsGBg+MTOwCDJwPSdk4H7HwPnATcG\n",
       "PgEG7rMOAGtQEUwHZIDZAAAAAElFTkSuQmCC\n",
       "\" style=\"display:inline;vertical-align:middle;\" /></a></td></tr>\n",
       "<tr><td>11</td><td>Literal</td><td></td><td><a class=\"ProveItLink\" href=\"../../../../numeral/__pv_it/9be8badea4c35b9724062cecc501d17a3158d1d20/expr.ipynb\"><img src=\"data:image/png;base64,iVBORw0KGgoAAAANSUhEUgAAAAgAAAAPBAMAAAArJJMAAAAAHlBMVEX///+YmJgyMjIQEBBmZmaI\n",
       "iIhUVFTu7u5EREQAAAAw+MI4AAAAAXRSTlMAQObYZgAAACFJREFUCNdjYGBoZ2BgqJjOwFCWBiQY\n",
       "WEklWJwnOTKAAACjEQo8HvEr3AAAAABJRU5ErkJggg==\n",
       "\" style=\"display:inline;vertical-align:middle;\" /></a></td></tr>\n",
       "</table>\n"
      ],
      "text/plain": [
       "0. {(n + 1) in Naturals}\n",
       "   core type: Operation\n",
       "   operator: 1\n",
       "   operands: 2\n",
       "1. Set\n",
       "   core type: Literal\n",
       "   sub-expressions: \n",
       "2. ((n + 1) in Naturals)\n",
       "   core type: ExprTuple\n",
       "   sub-expressions: 3\n",
       "3. (n + 1) in Naturals\n",
       "   core type: Operation\n",
       "   operator: 4\n",
       "   operands: 5\n",
       "4. in\n",
       "   core type: Literal\n",
       "   sub-expressions: \n",
       "5. (n + 1 , Naturals)\n",
       "   core type: ExprTuple\n",
       "   sub-expressions: 6, 7\n",
       "6. n + 1\n",
       "   core type: Operation\n",
       "   operator: 8\n",
       "   operands: 9\n",
       "7. Naturals\n",
       "   core type: Literal\n",
       "   sub-expressions: \n",
       "8. +\n",
       "   core type: Literal\n",
       "   sub-expressions: \n",
       "9. (n , 1)\n",
       "   core type: ExprTuple\n",
       "   sub-expressions: 10, 11\n",
       "10. n\n",
       "    core type: Variable\n",
       "    sub-expressions: \n",
       "11. 1\n",
       "    core type: Literal\n",
       "    sub-expressions: "
      ]
     },
     "execution_count": 4,
     "metadata": {},
     "output_type": "execute_result"
    }
   ],
   "source": [
    "# display the expression information\n",
    "expr.exprInfo()"
   ]
  },
  {
   "cell_type": "code",
   "execution_count": null,
   "metadata": {},
   "outputs": [],
   "source": []
  }
 ],
 "metadata": {
  "kernelspec": {
   "display_name": "Python 3",
   "language": "python",
   "name": "python3"
  }
 },
 "nbformat": 4,
 "nbformat_minor": 0
}
