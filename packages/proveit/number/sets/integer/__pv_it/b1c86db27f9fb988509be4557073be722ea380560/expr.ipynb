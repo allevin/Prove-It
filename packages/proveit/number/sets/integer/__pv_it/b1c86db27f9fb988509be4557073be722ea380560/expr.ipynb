{
 "cells": [
  {
   "cell_type": "markdown",
   "metadata": {},
   "source": [
    "Theorem <a class=\"ProveItLink\" href=\"../../_theorems_.ipynb#xInIntsInBool\">xInIntsInBool</a> of type <a class=\"ProveItLink\" href=\"../../../../../../../doc/html/api/proveit.logic.Forall.html\">Forall</a>\n",
    "=======================\n",
    "# from context <a class=\"ProveItLink\" href=\"../../_context_.ipynb\">proveit.number.sets.integer</a>\n",
    "*** see <a class=\"ProveItLink\" href=\"dependencies.ipynb\">dependencies</a> ***"
   ]
  },
  {
   "cell_type": "code",
   "execution_count": 1,
   "metadata": {},
   "outputs": [],
   "source": [
    "# import the special expression\n",
    "from proveit.number.sets.integer._theorems_ import xInIntsInBool"
   ]
  },
  {
   "cell_type": "code",
   "execution_count": 2,
   "metadata": {},
   "outputs": [
    {
     "name": "stdout",
     "output_type": "stream",
     "text": [
      "Passed sanity check: built 'xInIntsInBool' is the same as the stored Expression.\n"
     ]
    }
   ],
   "source": [
    "# check that the built expression is the same as the stored expression\n",
    "%check_expr xInIntsInBool"
   ]
  },
  {
   "cell_type": "code",
   "execution_count": 3,
   "metadata": {},
   "outputs": [
    {
     "data": {
      "text/html": [
       "<table><tr><th>&nbsp;</th><th>core type</th><th>sub-expressions</th><th>expression</th></tr>\n",
       "<tr><td>0</td><td>Operation</td><td>operator:&nbsp;1<br>operand:&nbsp;2<br></td><td><a class=\"ProveItLink\" href=\"expr.ipynb\"><img src=\"data:image/png;base64,iVBORw0KGgoAAAANSUhEUgAAAJkAAAAVBAMAAACnAFEqAAAAMFBMVEX///8QEBC6urrMzMxUVFRm\n",
       "ZmZERETc3NwyMjKqqqp2dnaIiIiYmJgiIiLu7u4AAAAU9Wx4AAAAAXRSTlMAQObYZgAAAldJREFU\n",
       "OMutVE1oE0EU/rJpNmazXXOqhxLZgiDoJQev0tJCqyAS8GYuOaUtQulB2oMIq1Dw0NqACIKXIEip\n",
       "gRLQS1F08aBSFeJNhOD2IqUiFITqQdH3dmZ/JrvBiw8+ZuYb3rfz/hb4r+YlqdMSA8y00/mXhC5v\n",
       "3sbZ7IRAwgqff98q33BxSaWN9bmf5XkgVwE2mbgdvz3iCSSsuOLB0emyj9e1zt5+C3CAJTrm6/HL\n",
       "pxIJy7VgNB9QqK2EWtEmqR3xilwzfnlcIrSva72PvA55uMopsEoqT2oF9yKwSx/aWF6+HvfVHIEo\n",
       "j6tR2As67+dVnt92ksLT6VGHjcanvnh85Nsz92tMLEViZucdLw+h8KR29hUdjCowBcwqRXAF9vHe\n",
       "LTMRu/1i+Rm+B4XXtd6fUa45RXQCVjwuZGyBFl7gDp2tWImmhhZ5GYPCc6TbdNIon8MounG1o7aA\n",
       "h2mRx3KvJ7INrXrKX8dVntRQp5vsAXWRO+ylqQGjYTMHSeCW2pBqEe+r6ULNcs4Q0558UpGRNgWQ\n",
       "/w6LI+qGapuG7Q+PiLTbr8aRYnaSyuFNZ2TT6a7A6+IBnjNxIfDKT9B3DXJ5A4UPIjU5/3fpIxpW\n",
       "w7Gr+ij80kv5DhPfginXFxdgXa4HHRLxWses1YUnMr7Pj7B7uz6sK1uPnoknrcgcjM2NNNZHyOWm\n",
       "wtPUH344z2lleZOLkC1lA7ljEtG/45ysqbRgsvr53WAzbjhGsN+RGGhGJ51vh02+Xdv65x8psL10\n",
       "Wh2CqHQCA20mnRZzkrBrEgOsWEnnHwN/AeCOoFHKMKGFAAAAAElFTkSuQmCC\n",
       "\" style=\"display:inline;vertical-align:middle;\" /></a></td></tr>\n",
       "<tr><td>1</td><td>Literal</td><td></td><td><a class=\"ProveItLink\" href=\"../../../../../logic/boolean/quantification/universal/__pv_it/265f8c02ac1094d56e0e6410a1c1fd3500dc9f540/expr.ipynb\"><img src=\"data:image/png;base64,iVBORw0KGgoAAAANSUhEUgAAAAwAAAAQBAMAAADQT4M0AAAAMFBMVEX///8QEBC6urrMzMxUVFRm\n",
       "ZmZERETc3NwyMjKqqqp2dnaIiIiYmJgiIiLu7u4AAAAU9Wx4AAAAAXRSTlMAQObYZgAAAFhJREFU\n",
       "CNdjeMAABhdAxGmGlSCqj6EMSLInMHAAJVknMPAsLy+vBYp8S0u7BaScGRjSgZQKA18DkOJl4D4A\n",
       "pLgP8IJM4mswARuX7gSmpoKNZWDcAKZ4gCoAgTQTILaSE58AAAAASUVORK5CYII=\n",
       "\" style=\"display:inline;vertical-align:middle;\" /></a></td></tr>\n",
       "<tr><td>2</td><td>Lambda</td><td>parameter:&nbsp;9<br>body:&nbsp;3<br></td><td><a class=\"ProveItLink\" href=\"../f8a5ecdcb0dd0d987f196f80667889b83a01231f0/expr.ipynb\"><img src=\"data:image/png;base64,iVBORw0KGgoAAAANSUhEUgAAAKUAAAAVCAMAAAAQP96dAAAANlBMVEX///+6uroUFBQNDQ0yMjJE\n",
       "RETMzMwQEBAiIiKYmJju7u5mZmaqqqpUVFSIiIh2dnbc3NwAAACltDI1AAAAAXRSTlMAQObYZgAA\n",
       "AglJREFUSMfdVtsOpSAMhN1WKHLz/392QUUpcLyc5LxsYzIapzKWtlSI/9Sk5/jSSP6SXmxyHO/N\n",
       "6mXRAEqDovQ4T5fsAAvCktho1+cb+gcDw/HePMyZC0Lg5nnDx7xNBkwIj+jDJT3HBzavqwUrwrZ7\n",
       "FB6oFF7u+u7oI1OGY2/Gg052hsBlanRHjhh1zd9UWtocW/qj0gGOg7wFGv0Amnzt9/aSX2IZsaLH\n",
       "4F20fj62kAuwtt+9EzvniMMgkxdER4HM54sBf1U5aSpvMt2k9UiTULqwNHdy9WeAGPbOGIdZgPk6\n",
       "fryKw4CfVOrUFpSv6Dkofkn30weVxlUfUpJh51xpYX86ieorUtXyP1WPt3jSc6Qc4/79o5mp5eys\n",
       "5XbHzlmq4lXnjZyFrCp1Wi75m8oMgdEVayu6DUTV/huVnfO410NJ9hAblSP+oXLvrzs9LtMel5HK\n",
       "uc4cZTm2zkaPjpOjVepux/W9ykynuGaW8B9UTizOSAx7Z0fdqmerDJs8qrJhwG93PNHtQgKTczzF\n",
       "8FOFN4rSRDYcOBvdjQepjNemYuaAXSca8VeVNHs81jLoQzoxPT3s6rrGkXOEZj6QCkEhphFC4SYP\n",
       "5AV/mzZQK1eSCt6PRSpyHM1ADpoab1qbesX/4oQ8zv5vZoASLf9L+reTWxsb+CX9rFiGr83FX9IP\n",
       "mZ7j2wF1ek//B1WCFWE6nBw5AAAAAElFTkSuQmCC\n",
       "\" style=\"display:inline;vertical-align:middle;\" /></a></td></tr>\n",
       "<tr><td>3</td><td>Operation</td><td>operator:&nbsp;7<br>operands:&nbsp;4<br></td><td><a class=\"ProveItLink\" href=\"../cc541e9fa23c78ffd283d7b4c83254d6027d9cb50/expr.ipynb\"><img src=\"data:image/png;base64,iVBORw0KGgoAAAANSUhEUgAAAGgAAAAVBAMAAABYjraNAAAAMFBMVEX////c3NwiIiJERESqqqqY\n",
       "mJh2dnZmZmYQEBDu7u4yMjJUVFTMzMyIiIi6uroAAAAs73DqAAAAAXRSTlMAQObYZgAAAbtJREFU\n",
       "OMtjYCAL8F3ALcf6AIfEaWyCLPqfVjWtCGCoQRVmW2/1q8kEyFiJTRPv8gkMC5gZGLjQxJn5Lsya\n",
       "lsDAi9V17AkMbA55QPclYGjifbCAgWMCsuDcRUpaIJp7AoM0zwYGBs4GsDDnLSWlBVBNLAE7GV4h\n",
       "6+FZijDCkhnENgGzT0Ui2fTQgKEMyGTM3ehbCxITRuhhvRAKotJBBKMlkvMOBU9gWApkTmMICmgC\n",
       "iRkiLJ3MaQCivMBKBRCalP73MjD0AZkJDPcZfEBON0Bo2sMNVvkCbABKQFwxYPgHZE5g2AyJ5yYl\n",
       "JUhAMPAVPAPT58E6gcLwgGAweAbWxMDQCwmHDXAjuRiAihKhmk4j28RgwMzQAvbpHwZOkPMU4LIp\n",
       "bMAUpAB13iR0TaZAZiDvB4abILGtMEnGDUDT2YCRFAWOtQAUTc9AYcrylbmBEZwwJsESKLOAJQNn\n",
       "mQE0yDn1kDSx1howPAKK2WamXYVYsPwARPKFVbPx+uYCBoZ1YK5UDTzBftbYwsDAIYCSundBQw8K\n",
       "oMmIwXsRJPRgMZ+AL7Ox4chsK/FpmoVDXBqfpo04xBnxZHfeA1iFARwQbJOtPyL1AAAAAElFTkSu\n",
       "QmCC\n",
       "\" style=\"display:inline;vertical-align:middle;\" /></a></td></tr>\n",
       "<tr><td>4</td><td>ExprTuple</td><td>5, 6</td><td><a class=\"ProveItLink\" href=\"../57f2467a609087fb3df3d70b3c3257e4a87e83700/expr.ipynb\"><img src=\"data:image/png;base64,iVBORw0KGgoAAAANSUhEUgAAAFYAAAAVBAMAAAAutAQGAAAAMFBMVEX////c3NwiIiJERESqqqqY\n",
       "mJh2dnZmZmYQEBDu7u4yMjJUVFTMzMyIiIi6uroAAAAs73DqAAAAAXRSTlMAQObYZgAAAZVJREFU\n",
       "KM9jYCAF8F0gShnrAyBxGpuM03+tFVqtYGbW5/UrlB0YGGqA7JXY1N6qZOBiMICwDd5yrkxjAPIZ\n",
       "eLE6oYyBIYXtAUwtwz2gQtYEBo4JSEo4bykpLQAxdjIwboA5DqjWlXsCA2cDwytk405FwpnMEywR\n",
       "au8JA2kTkG0MYrdFroOcwmiJ0BbLGgBXy6MKkkhnWAq0OYFVlUMBZJYAwjUGk2FMg0f6P0AmeTH0\n",
       "MTCwMfB+YDkA5E1GGMt9YCMDwg13nYH0C4Z/QDMYuCHB80JJCeo3hud8CUhqmUG88yC1DAwckIBD\n",
       "ipYFwFBiE4CrBYX1eYYWEFf+AAMo6CbBlbI55DEwMDGgqH3BYAoMZYH7DLwgtdwwrzNI82xgYMgA\n",
       "ug7JDVHAkGDwD7BgkAV7Xg+m1pB5AsP0ZIb5ChC14ZfBYfYI6P1r03IhJkrVQNNe8wpjqx/mDDM+\n",
       "gtOOUTcw7TCsY+AQQI4470XQcICCh0jx3wBKEnhAAILJdgFHmsSidhbIy3iU8iKxQfHISFwe4j3A\n",
       "AAC0QGTAYxaIUQAAAABJRU5ErkJggg==\n",
       "\" style=\"display:inline;vertical-align:middle;\" /></a></td></tr>\n",
       "<tr><td>5</td><td>Operation</td><td>operator:&nbsp;7<br>operands:&nbsp;8<br></td><td><a class=\"ProveItLink\" href=\"../f0b221402fb1145863e52dc775255818b772123b0/expr.ipynb\"><img src=\"data:image/png;base64,iVBORw0KGgoAAAANSUhEUgAAADMAAAAPBAMAAAC7N+rPAAAAMFBMVEX///+6uroyMjJERETMzMwQ\n",
       "EBAiIiKYmJju7u5mZmaqqqpUVFSIiIh2dnbc3NwAAAAWgogoAAAAAXRSTlMAQObYZgAAANhJREFU\n",
       "GNNjYMAEy/4nqSaFM2ADh2YwMDEYYJWay8Bwi1cARahHLS0JRO9g4NvgjSLDot4AYzI3WICot6df\n",
       "nTwAYjyGyzDUsBcASY4L7OmsCSC+HVyGw6AZRPEy8HzgcgDz4VLcDvvAKhi4IWKMYWlpEGcwSDJe\n",
       "gKhhPQBxxQa4LgUmoGkPgIz3DgwgB3AkwGR4F1xkYGBjYGB/cJ6BB+y27TCp1yADrjIwrC8wZXgD\n",
       "FmmDBYAdcwND52UGhuazvXcKwCJ8mg4Q9wSrGht9tUQJDq5NUBdCAACuQjErpfwe6AAAAABJRU5E\n",
       "rkJggg==\n",
       "\" style=\"display:inline;vertical-align:middle;\" /></a></td></tr>\n",
       "<tr><td>6</td><td>Literal</td><td></td><td><a class=\"ProveItLink\" href=\"../../../../../logic/boolean/__pv_it/46271c8230be96415d662709611f4ed2279d702b0/expr.ipynb\"><img src=\"data:image/png;base64,iVBORw0KGgoAAAANSUhEUgAAAA0AAAAOBAMAAAAGUYvhAAAAMFBMVEX///9mZmbMzMzc3NxUVFSY\n",
       "mJju7u6IiIi6urqqqqoiIiIQEBBEREQyMjJ2dnYAAAAQvcRZAAAAAXRSTlMAQObYZgAAAElJREFU\n",
       "CNdjePvn/u01ExgYGA60s117B6YZKngh9FSWBAjfBsxnWnoMRHet/10AkS+fA6F5OB5AaIYDqDRU\n",
       "PLCGgQFoz6ktExgAgLIl8DFvGtkAAAAASUVORK5CYII=\n",
       "\" style=\"display:inline;vertical-align:middle;\" /></a></td></tr>\n",
       "<tr><td>7</td><td>Literal</td><td></td><td><a class=\"ProveItLink\" href=\"../../../../../logic/set_theory/membership/__pv_it/088cbc857536a28d4119ad9639a84270ccb0545d0/expr.ipynb\"><img src=\"data:image/png;base64,iVBORw0KGgoAAAANSUhEUgAAAAwAAAAMBAMAAACkW0HUAAAALVBMVEX///+qqqpmZmZUVFQQEBC6\n",
       "urpERETc3NyYmJjMzMwiIiIyMjKIiIju7u4AAACYsrA9AAAAAXRSTlMAQObYZgAAADxJREFUCNdj\n",
       "YOA9vWrVBgaG2b0MQMCeCyIZ2ArA1DUwyRCyahVIyWQI7xaEYm4AU7xLIdxqTQgtvGvVBgCkcQ7e\n",
       "geM/tQAAAABJRU5ErkJggg==\n",
       "\" style=\"display:inline;vertical-align:middle;\" /></a></td></tr>\n",
       "<tr><td>8</td><td>ExprTuple</td><td>9, 10</td><td><a class=\"ProveItLink\" href=\"../3c67317e207e0be73b96e1cdabcaa4a7f3f6cb2e0/expr.ipynb\"><img src=\"data:image/png;base64,iVBORw0KGgoAAAANSUhEUgAAAC8AAAAVBAMAAAAk6KpUAAAAMFBMVEX////c3NwiIiJERESqqqqY\n",
       "mJh2dnZmZmYQEBDu7u4yMjJUVFTMzMyIiIi6uroAAAAs73DqAAAAAXRSTlMAQObYZgAAASRJREFU\n",
       "KM9jYMAJ+C5gisWBiNPIIk7/tVZotTKwHwCyVyJL3Kpk4GIwYGBYwMDAi2JSGQNDCtsDBoYwBgaO\n",
       "CcgSOxkYN4DMnsHA8ArNXuYJliDSAaSZQey2yHWYibGsAUCSrYBhKQMDZwKrKocCRJzTYDKIYlnA\n",
       "0AeUZuD9wHIAIsF9YCPYcw0M/4CqGLgNYFY850sAUTwfQBJAp8HdvIALaIIASKIFxJU/wABxNZtD\n",
       "HgMDE9goUwYGVoH7DLwTwFLSPBsYGDKAQgsY0hkY/AMsGGQZOD8BJQyZJzBMTwY79xEDw+Rr03ID\n",
       "GDj7BRj4mlcYW/0wZ2DgesDAIQAPfwGE/4FBwpoA47AiBUwucrAjSXAuADkExkMKf26QqYxYovYO\n",
       "AwMAyTM9BW+xVhsAAAAASUVORK5CYII=\n",
       "\" style=\"display:inline;vertical-align:middle;\" /></a></td></tr>\n",
       "<tr><td>9</td><td>Variable</td><td></td><td><a class=\"ProveItLink\" href=\"../../../../../__pv_it/530be409e3083890784cf1d7b28c9e67e90af9360/expr.ipynb\"><img src=\"data:image/png;base64,iVBORw0KGgoAAAANSUhEUgAAAAsAAAAJBAMAAAAWSsseAAAAKlBMVEX///9ERETMzMwQEBAiIiKY\n",
       "mJju7u5mZmaqqqpUVFSIiIh2dnbc3NwAAAA/vyDhAAAAAXRSTlMAQObYZgAAAENJREFUCNdjYDi9\n",
       "8sTyBQxsG1hdmR0YuBm4LnAoMLAxcAowgADzAjB1VoEhgYH1wFoGrgSG3gBhhlMMDImrs3cFMAAA\n",
       "t0YN+iTRa+sAAAAASUVORK5CYII=\n",
       "\" style=\"display:inline;vertical-align:middle;\" /></a></td></tr>\n",
       "<tr><td>10</td><td>Literal</td><td></td><td><a class=\"ProveItLink\" href=\"../7b9e51516f347f625fa636d7bb440e96498977000/expr.ipynb\"><img src=\"data:image/png;base64,iVBORw0KGgoAAAANSUhEUgAAAA4AAAAOBAMAAADtZjDiAAAAMFBMVEX////MzMzc3NxUVFS6urp2\n",
       "dnZERETu7u5mZmaIiIiYmJgQEBAyMjIiIiKqqqoAAAAf68ZqAAAAAXRSTlMAQObYZgAAAGlJREFU\n",
       "CNdj4Lv/98ze0wsYOE8UMBxgY2DgCGBgfRDCwMBcwKDMaMAAAulsBSCKa8IqMLeMPQFMGzIrgCiW\n",
       "Blcwl4fhAANDEANDHKsDA8MFBiYDYQYG1g0MbArpDOytCQzeOdvSzm9rAAAm6xY1AUf+1AAAAABJ\n",
       "RU5ErkJggg==\n",
       "\" style=\"display:inline;vertical-align:middle;\" /></a></td></tr>\n",
       "</table>\n"
      ],
      "text/plain": [
       "0. forall_{x} ((x in Integers) in BOOLEANS)\n",
       "   core type: Operation\n",
       "   operator: 1\n",
       "   operand: 2\n",
       "1. forall\n",
       "   core type: Literal\n",
       "   sub-expressions: \n",
       "2. x -> ((x in Integers) in BOOLEANS)\n",
       "   core type: Lambda\n",
       "   parameter: 9\n",
       "   body: 3\n",
       "3. (x in Integers) in BOOLEANS\n",
       "   core type: Operation\n",
       "   operator: 7\n",
       "   operands: 4\n",
       "4. (x in Integers , BOOLEANS)\n",
       "   core type: ExprTuple\n",
       "   sub-expressions: 5, 6\n",
       "5. x in Integers\n",
       "   core type: Operation\n",
       "   operator: 7\n",
       "   operands: 8\n",
       "6. BOOLEANS\n",
       "   core type: Literal\n",
       "   sub-expressions: \n",
       "7. in\n",
       "   core type: Literal\n",
       "   sub-expressions: \n",
       "8. (x , Integers)\n",
       "   core type: ExprTuple\n",
       "   sub-expressions: 9, 10\n",
       "9. x\n",
       "   core type: Variable\n",
       "   sub-expressions: \n",
       "10. Integers\n",
       "    core type: Literal\n",
       "    sub-expressions: "
      ]
     },
     "execution_count": 3,
     "metadata": {},
     "output_type": "execute_result"
    }
   ],
   "source": [
    "# display the expression information\n",
    "xInIntsInBool.exprInfo()"
   ]
  },
  {
   "cell_type": "code",
   "execution_count": null,
   "metadata": {},
   "outputs": [],
   "source": []
  }
 ],
 "metadata": {
  "kernelspec": {
   "display_name": "Python 3",
   "language": "python",
   "name": "python3"
  }
 },
 "nbformat": 4,
 "nbformat_minor": 0
}
