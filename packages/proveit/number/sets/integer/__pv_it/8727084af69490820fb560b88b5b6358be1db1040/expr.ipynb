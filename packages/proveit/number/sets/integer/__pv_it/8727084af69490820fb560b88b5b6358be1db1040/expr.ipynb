{
 "cells": [
  {
   "cell_type": "markdown",
   "metadata": {},
   "source": [
    "Expression of type <a class=\"ProveItLink\" href=\"../../../../../../../doc/html/api/proveit.Lambda.html\">Lambda</a>\n",
    "=======================\n",
    "# from context <a class=\"ProveItLink\" href=\"../../_context_.ipynb\">proveit.number.sets.integer</a>"
   ]
  },
  {
   "cell_type": "code",
   "execution_count": 1,
   "metadata": {},
   "outputs": [],
   "source": [
    "# import Expression classes needed to build the expression\n",
    "from proveit import Lambda\n",
    "from proveit._common_ import a\n",
    "from proveit.logic import InSet\n",
    "from proveit.number import Integers, Naturals"
   ]
  },
  {
   "cell_type": "code",
   "execution_count": 2,
   "metadata": {},
   "outputs": [
    {
     "data": {
      "text/html": [
       "<strong id=\"expr\">expr:</strong> <a class=\"ProveItLink\" href=\"expr.ipynb\"><img src=\"data:image/png;base64,iVBORw0KGgoAAAANSUhEUgAAALgAAAAVCAMAAADCb9TFAAAANlBMVEX///8UFBQNDQ0yMjKqqqrM\n",
       "zMzu7u4iIiJmZmaYmJhEREQQEBC6urp2dnaIiIhUVFTc3NwAAACAukRkAAAAAXRSTlMAQObYZgAA\n",
       "AhBJREFUSMfFl+mSrCAMhXNv2Hfe/2Un4DJKQ4t21TTlD7XI4SPEAwJ8rbH0p8O58CRKu9d33v0l\n",
       "N4+z+ZQ5S0Qr0Wp6VPxTcIHZGBRFS2bJ7oLXyJkWUJWuCGCWwM8zbjTwRSzfTniYLhTlKxzb+LT/\n",
       "GDxKvgLY2+B2mHARUFLbExtLzxT32hL2JngrSJKO1jvyJ+AOh7WPujMnI8q13rNb4B3ByCkLohTr\n",
       "Cp5i8M5u5nRmY+x1/V9C6Nn0lkIH0HrnVO/AZwQp2SzUMl/Aa3+z17tseh8FcMVoQui+58nClGtP\n",
       "Ab4BnxIsVaJcSUcFT7nalRmAi3iQsMtYbciR7zzQIdjZMficYC3vWMq8SsU6T7nbxf9/8tRs/h1g\n",
       "vW1DCGrrfUirU+AOVsLzGHxOsIKLUuYVPJfJicwHGadvGVrwNqS/LeH2vfh0BT4nWMGBe6gZT7nM\n",
       "k5Gq6IKrY7FZBr0QELKzo+8WLq9KZU5wBQfNYJlngYkIjPfAeWj2rl4IPeh2lF8L9wuxHn+cU4I7\n",
       "OK2g2ZyCSQVbOZ73xrMprZbWhpQMtaZMtlAdTShvLu1wRpAkt1cKVwcNjpswswE7CYOQhOdjlLMG\n",
       "raFTUbZmna174yrXgrT5kdR23rq/5Y/P0Czi2QQaW7275V8J3jxX+6eRPnz3PD59rH05TX/5RyLF\n",
       "Z3ExfRkc0qNft8A77z4C/wHmxRdeNrCNOwAAAABJRU5ErkJggg==\n",
       "\" style=\"display:inline;vertical-align:middle;\" /></a><br>"
      ],
      "text/plain": [
       "expr: a -> (a in Integers) | a in Naturals"
      ]
     },
     "execution_count": 2,
     "metadata": {},
     "output_type": "execute_result"
    }
   ],
   "source": [
    "# build up the expression from sub-expressions\n",
    "expr = Lambda(a, InSet(a, Integers), conditions = [InSet(a, Naturals)])"
   ]
  },
  {
   "cell_type": "code",
   "execution_count": 3,
   "metadata": {},
   "outputs": [
    {
     "name": "stdout",
     "output_type": "stream",
     "text": [
      "Passed sanity check: built 'expr' is the same as the stored Expression.\n"
     ]
    }
   ],
   "source": [
    "# check that the built expression is the same as the stored expression\n",
    "%check_expr"
   ]
  },
  {
   "cell_type": "code",
   "execution_count": 4,
   "metadata": {},
   "outputs": [
    {
     "data": {
      "text/html": [
       "<table><tr><th>&nbsp;</th><th>core type</th><th>sub-expressions</th><th>expression</th></tr>\n",
       "<tr><td>0</td><td>Lambda</td><td>parameter:&nbsp;8<br>body:&nbsp;1<br>conditions:&nbsp;2<br></td><td><a class=\"ProveItLink\" href=\"expr.ipynb\"><img src=\"data:image/png;base64,iVBORw0KGgoAAAANSUhEUgAAALgAAAAVCAMAAADCb9TFAAAANlBMVEX///8UFBQNDQ0yMjKqqqrM\n",
       "zMzu7u4iIiJmZmaYmJhEREQQEBC6urp2dnaIiIhUVFTc3NwAAACAukRkAAAAAXRSTlMAQObYZgAA\n",
       "AhBJREFUSMfFl+mSrCAMhXNv2Hfe/2Un4DJKQ4t21TTlD7XI4SPEAwJ8rbH0p8O58CRKu9d33v0l\n",
       "N4+z+ZQ5S0Qr0Wp6VPxTcIHZGBRFS2bJ7oLXyJkWUJWuCGCWwM8zbjTwRSzfTniYLhTlKxzb+LT/\n",
       "GDxKvgLY2+B2mHARUFLbExtLzxT32hL2JngrSJKO1jvyJ+AOh7WPujMnI8q13rNb4B3ByCkLohTr\n",
       "Cp5i8M5u5nRmY+x1/V9C6Nn0lkIH0HrnVO/AZwQp2SzUMl/Aa3+z17tseh8FcMVoQui+58nClGtP\n",
       "Ab4BnxIsVaJcSUcFT7nalRmAi3iQsMtYbciR7zzQIdjZMficYC3vWMq8SsU6T7nbxf9/8tRs/h1g\n",
       "vW1DCGrrfUirU+AOVsLzGHxOsIKLUuYVPJfJicwHGadvGVrwNqS/LeH2vfh0BT4nWMGBe6gZT7nM\n",
       "k5Gq6IKrY7FZBr0QELKzo+8WLq9KZU5wBQfNYJlngYkIjPfAeWj2rl4IPeh2lF8L9wuxHn+cU4I7\n",
       "OK2g2ZyCSQVbOZ73xrMprZbWhpQMtaZMtlAdTShvLu1wRpAkt1cKVwcNjpswswE7CYOQhOdjlLMG\n",
       "raFTUbZmna174yrXgrT5kdR23rq/5Y/P0Czi2QQaW7275V8J3jxX+6eRPnz3PD59rH05TX/5RyLF\n",
       "Z3ExfRkc0qNft8A77z4C/wHmxRdeNrCNOwAAAABJRU5ErkJggg==\n",
       "\" style=\"display:inline;vertical-align:middle;\" /></a></td></tr>\n",
       "<tr><td>1</td><td>Operation</td><td>operator:&nbsp;6<br>operands:&nbsp;3<br></td><td><a class=\"ProveItLink\" href=\"../01b3f57f6ab80847a4b7589977b22caf36a86d450/expr.ipynb\"><img src=\"data:image/png;base64,iVBORw0KGgoAAAANSUhEUgAAADIAAAAPBAMAAABU9YHxAAAAMFBMVEX///8yMjKqqqrMzMzu7u4i\n",
       "IiJmZmaYmJhEREQQEBC6urp2dnaIiIhUVFTc3NwAAAD87Fq/AAAAAXRSTlMAQObYZgAAANpJREFU\n",
       "GNNjYMAATPFfBadKFmBKMPCIOTAIcGCRYGDbwMCtsAtZxEc0NBBE8zowvGW+gCTBLO4AZ7dwgNh8\n",
       "d3bNA/FeICTYD5SDqJUPOD6A6D6Edg+WBpCW7wxsIBrMgYLLvA9A9n1gYD0ApLmmhoZCXMDAlbAa\n",
       "RPE3MPgbgByAcA0jgwADwz6G9wcY9BmAlrMEwGU2cS9gYAhg8FdguMgE0nQdJsF3wZaBgXsCA2MB\n",
       "Uxg3SMB1AVSG40ELA0t2A9A7pyxOgZWKGUBkVjbO6JCfkYAcxhehboMAAOemMLNTwnkhAAAAAElF\n",
       "TkSuQmCC\n",
       "\" style=\"display:inline;vertical-align:middle;\" /></a></td></tr>\n",
       "<tr><td>2</td><td>ExprTuple</td><td>4</td><td><a class=\"ProveItLink\" href=\"../1aef02f7e4ec06b9c782027edcee698da5ec149e0/expr.ipynb\"><img src=\"data:image/png;base64,iVBORw0KGgoAAAANSUhEUgAAAD8AAAAVBAMAAAADRiu8AAAAMFBMVEX////c3NwiIiJERESqqqqY\n",
       "mJh2dnZmZmYQEBDu7u4yMjJUVFTMzMyIiIi6uroAAAAs73DqAAAAAXRSTlMAQObYZgAAAUhJREFU\n",
       "KM+FkjFIw0AUhv+YpGmaWDPrIGRxkywddJDsDnYSXEQnJ0UcnEQqOEvQRbo0CA7ZxFGiBAoOdsks\n",
       "WsSpdAqK4CS+lzR6QhoP7rj33vfu3fvvgH9HPR4fW+elVxBovy962HtztYiMoCi1YTpAAvjAZGGF\n",
       "6+gZaAGrQNUT/Pqjbfu8uQuMiIFzYCgmPqyNNmFPDxiQXeyTKd3uHLFbWsjJUIm7DFR2cUnmwJIT\n",
       "dsvWD4BDNSZA8XFCiR/QHHaf4RcwvJCAegtfgJFgIu1lYNujS4bQr9oEmAkDUw460V/NQuDezIBj\n",
       "YDbGCrjbUxFQXSct0QA6Lm4UPsJoCgA2CVB9bAG1pjJXSXWaz4ElmpqftvnKMvS7/dQ/fZDFh5+U\n",
       "rRNQe0HVEqVcvsi6yAdJrW6UfZbtcc+dPx4fN1MCGFxfKvlyT8A38B5SsNmj17wAAAAASUVORK5C\n",
       "YII=\n",
       "\" style=\"display:inline;vertical-align:middle;\" /></a></td></tr>\n",
       "<tr><td>3</td><td>ExprTuple</td><td>8, 5</td><td><a class=\"ProveItLink\" href=\"../f55b49253e0029eb481714eaf47fbcf12f16a3380/expr.ipynb\"><img src=\"data:image/png;base64,iVBORw0KGgoAAAANSUhEUgAAAC4AAAAVBAMAAADLKsFqAAAAMFBMVEX////c3NwiIiJERESqqqqY\n",
       "mJh2dnZmZmYQEBDu7u4yMjJUVFTMzMyIiIi6uroAAAAs73DqAAAAAXRSTlMAQObYZgAAAR5JREFU\n",
       "GNNjYMAF+C5gCLE+ABKnkQRY9D+taloRwFADZK9EEuddPoFhATMDAxeQiWwMewIDm0Me0KAEBo4J\n",
       "SOLcExikeTYwMHA2MLxCs9OSGaTQhKEMSDLuzWuEOeVCKIhKZ1gKJF8IMH+Aik/mNABRXgx9QOVf\n",
       "GdgNoOJ7uAVA1AuGf0DbPjAwQV3FV/AMTJ8HifMbMMw/ABHnYljAwJAIEm9hYJC/wODPAHFuChsw\n",
       "CBRA5pgyMMx3YNjFcoAT5LANwFBha2BgiAK6iIErgEWdjWE+UBmzgCUDZ5kByJ2PQM6/d/gew4yP\n",
       "QO1WzcbrmwsYGNYxcAjAfPoQ4WlgOACDCAoCEOJsF5DCGUl8FhBLw8IeKfA2gtyGGY+8BxgAz2FB\n",
       "pcJZQS4AAAAASUVORK5CYII=\n",
       "\" style=\"display:inline;vertical-align:middle;\" /></a></td></tr>\n",
       "<tr><td>4</td><td>Operation</td><td>operator:&nbsp;6<br>operands:&nbsp;7<br></td><td><a class=\"ProveItLink\" href=\"../3975ea040636df685b2318cfeae40a19d7dd506b0/expr.ipynb\"><img src=\"data:image/png;base64,iVBORw0KGgoAAAANSUhEUgAAADMAAAAPBAMAAAC7N+rPAAAAMFBMVEX///8yMjKqqqrMzMzu7u4i\n",
       "IiJmZmaYmJhEREQQEBC6urp2dnaIiIhUVFTc3NwAAAD87Fq/AAAAAXRSTlMAQObYZgAAANdJREFU\n",
       "GNNjYMAAjj8aHRhSvyowYAHtzA0MDB+wyTBcNTjDwDABWYTlYGioAIhxS4TXAFXKsATKuGzLIgKW\n",
       "4ruzax5IgK8FpuYy0wELsNTKBxxgKzkewKUYstgPAKX4vjOwNYAEPBgQUrwOl4FSvB8YWA+ABFaG\n",
       "hkKdcZmB5YIjUIq/gcHfACRgi6SLwZoZKPX+AIM+gwNQwBVZil0BaIm/AsNFJpA23gIkKYZ9QCnG\n",
       "AqYwbrCPo2BSXUDMJgDy1imLU2CRh8kQmYU/gTpYBFDCTlc0FFkAAE78NpyYZbUWAAAAAElFTkSu\n",
       "QmCC\n",
       "\" style=\"display:inline;vertical-align:middle;\" /></a></td></tr>\n",
       "<tr><td>5</td><td>Literal</td><td></td><td><a class=\"ProveItLink\" href=\"../7b9e51516f347f625fa636d7bb440e96498977000/expr.ipynb\"><img src=\"data:image/png;base64,iVBORw0KGgoAAAANSUhEUgAAAA4AAAAOBAMAAADtZjDiAAAAMFBMVEX////MzMzc3NxUVFS6urp2\n",
       "dnZERETu7u5mZmaIiIiYmJgQEBAyMjIiIiKqqqoAAAAf68ZqAAAAAXRSTlMAQObYZgAAAGlJREFU\n",
       "CNdj4Lv/98ze0wsYOE8UMBxgY2DgCGBgfRDCwMBcwKDMaMAAAulsBSCKa8IqMLeMPQFMGzIrgCiW\n",
       "Blcwl4fhAANDEANDHKsDA8MFBiYDYQYG1g0MbArpDOytCQzeOdvSzm9rAAAm6xY1AUf+1AAAAABJ\n",
       "RU5ErkJggg==\n",
       "\" style=\"display:inline;vertical-align:middle;\" /></a></td></tr>\n",
       "<tr><td>6</td><td>Literal</td><td></td><td><a class=\"ProveItLink\" href=\"../../../../../logic/set_theory/membership/__pv_it/088cbc857536a28d4119ad9639a84270ccb0545d0/expr.ipynb\"><img src=\"data:image/png;base64,iVBORw0KGgoAAAANSUhEUgAAAAwAAAAMBAMAAACkW0HUAAAALVBMVEX///+qqqpmZmZUVFQQEBC6\n",
       "urpERETc3NyYmJjMzMwiIiIyMjKIiIju7u4AAACYsrA9AAAAAXRSTlMAQObYZgAAADxJREFUCNdj\n",
       "YOA9vWrVBgaG2b0MQMCeCyIZ2ArA1DUwyRCyahVIyWQI7xaEYm4AU7xLIdxqTQgtvGvVBgCkcQ7e\n",
       "geM/tQAAAABJRU5ErkJggg==\n",
       "\" style=\"display:inline;vertical-align:middle;\" /></a></td></tr>\n",
       "<tr><td>7</td><td>ExprTuple</td><td>8, 9</td><td><a class=\"ProveItLink\" href=\"../4d77c211283b3822532de3c9a446d2004228547e0/expr.ipynb\"><img src=\"data:image/png;base64,iVBORw0KGgoAAAANSUhEUgAAAC8AAAAVBAMAAAAk6KpUAAAAMFBMVEX////c3NwiIiJERESqqqqY\n",
       "mJh2dnZmZmYQEBDu7u4yMjJUVFTMzMyIiIi6uroAAAAs73DqAAAAAXRSTlMAQObYZgAAARpJREFU\n",
       "KM910b9Lw0AUwPFvbdI0Tfpjd9DNNUsXB8l/YCdH0amTIg6OUsFZMpYuyeKQTRylSqDg0iV/gBZ1\n",
       "EqeoCE7iu5qDK2rgAu997l7y3sG/Tyv/ndtWr6mRGL2vRxy+hU4mQWpu7foBFJBAc6HSZXYPA9iC\n",
       "emTCTeplCobwsvDV8dRNFVRDjiSsXO+flGDlEwW1A84lfO5UixI4tnMBK+FMDnzgBBq8aCzQGvAF\n",
       "XsFSrsG9GAn4hYJ2QJxp4Nb/gVNYydkk0mCHwbxUF+KQKytzS2BXwE7oQ6NnrdWIVyW5IctJ5r/7\n",
       "pNqYTWYMX6XbT9ntCjQeqHd014/GBGQk9o4OegbsmWM3QFVjuQyaxgFP1a/8cbV38A1BUkyB6e2h\n",
       "TwAAAABJRU5ErkJggg==\n",
       "\" style=\"display:inline;vertical-align:middle;\" /></a></td></tr>\n",
       "<tr><td>8</td><td>Variable</td><td></td><td><a class=\"ProveItLink\" href=\"../../../../../__pv_it/07527342713064c87612d00d8557c53d53d5324a0/expr.ipynb\"><img src=\"data:image/png;base64,iVBORw0KGgoAAAANSUhEUgAAAAsAAAAJBAMAAAAWSsseAAAAMFBMVEX///8yMjKqqqrMzMzu7u4i\n",
       "IiJmZmaYmJhEREQQEBC6urp2dnaIiIhUVFTc3NwAAAD87Fq/AAAAAXRSTlMAQObYZgAAAEhJREFU\n",
       "CNdjYOC7s2seAwPDygccHxgY+L4zsDUwMPB+YGA9wMDA38Dgb8DA8P4Agz6DA4O/AsNFJgMGxgKm\n",
       "MG6gyjunLE4xAAAZTBA5TB6DCwAAAABJRU5ErkJggg==\n",
       "\" style=\"display:inline;vertical-align:middle;\" /></a></td></tr>\n",
       "<tr><td>9</td><td>Literal</td><td></td><td><a class=\"ProveItLink\" href=\"../e5d9bd86b06b357eee742ad868997123619e09700/expr.ipynb\"><img src=\"data:image/png;base64,iVBORw0KGgoAAAANSUhEUgAAAA8AAAAOBAMAAAACpFvcAAAAMFBMVEX////c3Nx2dna6uroQEBCI\n",
       "iIhUVFTMzMyYmJiqqqoiIiJmZmZEREQyMjLu7u4AAADjlg78AAAAAXRSTlMAQObYZgAAAGBJREFU\n",
       "CNdjePvn7AOGXb8mMDCcYD/AwPCBgYEhqyCUgcEByEi+x1YAZqSX8d2DMDgDaiAMhs0cARAG24N0\n",
       "CIMv4S2EwVDEDmVwTDgAYTAoghiHgZj7AgOD7Rcgj+8CAwA9oh2B0HK+MAAAAABJRU5ErkJggg==\n",
       "\" style=\"display:inline;vertical-align:middle;\" /></a></td></tr>\n",
       "</table>\n"
      ],
      "text/plain": [
       "0. a -> (a in Integers) | a in Naturals\n",
       "   core type: Lambda\n",
       "   parameter: 8\n",
       "   body: 1\n",
       "   conditions: 2\\n1. a in Integers\n",
       "   core type: Operation\n",
       "   operator: 6\n",
       "   operands: 3\n",
       "2. (a in Naturals)\n",
       "   core type: ExprTuple\n",
       "   sub-expressions: 4\n",
       "3. (a , Integers)\n",
       "   core type: ExprTuple\n",
       "   sub-expressions: 8, 5\n",
       "4. a in Naturals\n",
       "   core type: Operation\n",
       "   operator: 6\n",
       "   operands: 7\n",
       "5. Integers\n",
       "   core type: Literal\n",
       "   sub-expressions: \n",
       "6. in\n",
       "   core type: Literal\n",
       "   sub-expressions: \n",
       "7. (a , Naturals)\n",
       "   core type: ExprTuple\n",
       "   sub-expressions: 8, 9\n",
       "8. a\n",
       "   core type: Variable\n",
       "   sub-expressions: \n",
       "9. Naturals\n",
       "   core type: Literal\n",
       "   sub-expressions: "
      ]
     },
     "execution_count": 4,
     "metadata": {},
     "output_type": "execute_result"
    }
   ],
   "source": [
    "# display the expression information\n",
    "expr.exprInfo()"
   ]
  },
  {
   "cell_type": "code",
   "execution_count": null,
   "metadata": {},
   "outputs": [],
   "source": []
  }
 ],
 "metadata": {
  "kernelspec": {
   "display_name": "Python 3",
   "language": "python",
   "name": "python3"
  }
 },
 "nbformat": 4,
 "nbformat_minor": 0
}
