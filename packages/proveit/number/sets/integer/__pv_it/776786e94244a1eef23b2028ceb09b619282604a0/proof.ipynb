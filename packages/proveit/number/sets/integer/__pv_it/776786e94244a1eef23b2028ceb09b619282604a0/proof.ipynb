{
 "cells": [
  {
   "cell_type": "markdown",
   "metadata": {},
   "source": [
    "Show the Proof\n",
    "========"
   ]
  },
  {
   "cell_type": "code",
   "execution_count": 1,
   "metadata": {},
   "outputs": [
    {
     "data": {
      "text/html": [
       "<table><tr><th>&nbsp;</th><th>step type</th><th>requirements</th><th>statement</th></tr>\n",
       "<tr><td>0</td><td>specialization</td><td>1</td><td><span style=\"font-size:20px;\"> <a class=\"ProveItLink\" href=\"proof.ipynb\" style=\"text-decoration: none\">&#x22A2;&nbsp;</a><a class=\"ProveItLink\" href=\"../d1e62e412f7ba61dedf8615fddab30e6b033793c0/expr.ipynb\"><img src=\"data:image/png;base64,iVBORw0KGgoAAAANSUhEUgAAAGUAAAAVBAMAAACtcD09AAAAMFBMVEX////c3NwiIiJERESqqqqY\n",
       "mJh2dnZmZmYQEBDu7u4yMjJUVFTMzMyIiIi6uroAAAAs73DqAAAAAXRSTlMAQObYZgAAAcZJREFU\n",
       "OMtjYCAH8F3AJcP6AJfMaQbOHQqoQiz6n1Y1rQhgqEFTmvV5/QplByBjJQMD1wZUOd7lExgWMAPF\n",
       "0c03eMu5Mg0oD3QavwOqFHsCA5tDHtBxCRh6GO4BDeKYwMDwfgJEiPOWktICIM09gUGaB2g3ZwNE\n",
       "fO4iJS2YHleg5CsgMwlqzKlIuImWzCBzTMBsnqUTkOwRZmAoAzJX390KEmG0RATZhVAQlQ7mCE9A\n",
       "uI1HFahoKdAJnxn4DwBFmAXgeiZzGoAoLzDHEOGfR/o/gP7vAwbtTwYOkG8nIzy7hxus/wXYlwbI\n",
       "YXDXmYHhHzCYFjDwF4BUKClBwoCBr+AZWM15MKcJKAwPA2a+BJAepgKG9wHg2IUBLgag1kSoHp4N\n",
       "yPYwMxgwtICjpx7kzUlwuRQ2YLJRgLlNAV2PKQMoANpAItwBUCnGDUAr2YCREwXmbkXRA3QbMDi5\n",
       "HdjB1nPqQaWYBSwZOMsMYGE96QGSnvDLDAyPgGr3lkKEpKCJ8oVVs/H6ZmCwrINYu/wAPI0adQPT\n",
       "GYcAUnryXgQJNyiApR2WXdBwg8V4Au6sxYYra63ErWcWLglp3Ho24pJgxJm3eQ9gFwcAC9pwXPtw\n",
       "JX8AAAAASUVORK5CYII=\n",
       "\" style=\"display:inline;vertical-align:middle;\" /></a></span></td></tr>\n",
       "<tr><td>&nbsp;</td><td colspan=4 style=\"text-align:left\"><span style=\"font-size:20px;\"><a class=\"ProveItLink\" href=\"../../../../../__pv_it/530be409e3083890784cf1d7b28c9e67e90af9360/expr.ipynb\"><img src=\"data:image/png;base64,iVBORw0KGgoAAAANSUhEUgAAAAsAAAAJBAMAAAAWSsseAAAAKlBMVEX///9ERETMzMwQEBAiIiKY\n",
       "mJju7u5mZmaqqqpUVFSIiIh2dnbc3NwAAAA/vyDhAAAAAXRSTlMAQObYZgAAAENJREFUCNdjYDi9\n",
       "8sTyBQxsG1hdmR0YuBm4LnAoMLAxcAowgADzAjB1VoEhgYH1wFoGrgSG3gBhhlMMDImrs3cFMAAA\n",
       "t0YN+iTRa+sAAAAASUVORK5CYII=\n",
       "\" style=\"display:inline;vertical-align:middle;\" /></a> : <a class=\"ProveItLink\" href=\"../../../../../__pv_it/6840a4fa6c106149dc16a131294d0c5e44f1b0480/expr.ipynb\"><img src=\"data:image/png;base64,iVBORw0KGgoAAAANSUhEUgAAAAkAAAAOBAMAAAAPuiubAAAALVBMVEX///9mZmbMzMxERESYmJiI\n",
       "iIh2dna6urqqqqoyMjIiIiIQEBBUVFTu7u4AAAD9S1JeAAAAAXRSTlMAQObYZgAAAE1JREFUCNdj\n",
       "4D29gAEIOA+ASL4GEFl3AURmgQiGOaFHGBh4HzPwKTBwvGXgTmBgnMDAJ8DAJcBQ5wBSLncBJLWN\n",
       "gYGngRFoBO9REQYGAGrcDtUkVqASAAAAAElFTkSuQmCC\n",
       "\" style=\"display:inline;vertical-align:middle;\" /></a></span></td></tr><tr><td>1</td><td>theorem</td><td></td><td><span style=\"font-size:20px;\"> <a class=\"ProveItLink\" href=\"../../_proofs_/xInIntsInBool.ipynb\" style=\"text-decoration: none\">&#x22A2;&nbsp;</a><a class=\"ProveItLink\" href=\"../b1c86db27f9fb988509be4557073be722ea380560/expr.ipynb\"><img src=\"data:image/png;base64,iVBORw0KGgoAAAANSUhEUgAAAJkAAAAVBAMAAACnAFEqAAAAMFBMVEX///8QEBC6urrMzMxUVFRm\n",
       "ZmZERETc3NwyMjKqqqp2dnaIiIiYmJgiIiLu7u4AAAAU9Wx4AAAAAXRSTlMAQObYZgAAAldJREFU\n",
       "OMutVE1oE0EU/rJpNmazXXOqhxLZgiDoJQev0tJCqyAS8GYuOaUtQulB2oMIq1Dw0NqACIKXIEip\n",
       "gRLQS1F08aBSFeJNhOD2IqUiFITqQdH3dmZ/JrvBiw8+ZuYb3rfz/hb4r+YlqdMSA8y00/mXhC5v\n",
       "3sbZ7IRAwgqff98q33BxSaWN9bmf5XkgVwE2mbgdvz3iCSSsuOLB0emyj9e1zt5+C3CAJTrm6/HL\n",
       "pxIJy7VgNB9QqK2EWtEmqR3xilwzfnlcIrSva72PvA55uMopsEoqT2oF9yKwSx/aWF6+HvfVHIEo\n",
       "j6tR2As67+dVnt92ksLT6VGHjcanvnh85Nsz92tMLEViZucdLw+h8KR29hUdjCowBcwqRXAF9vHe\n",
       "LTMRu/1i+Rm+B4XXtd6fUa45RXQCVjwuZGyBFl7gDp2tWImmhhZ5GYPCc6TbdNIon8MounG1o7aA\n",
       "h2mRx3KvJ7INrXrKX8dVntRQp5vsAXWRO+ylqQGjYTMHSeCW2pBqEe+r6ULNcs4Q0558UpGRNgWQ\n",
       "/w6LI+qGapuG7Q+PiLTbr8aRYnaSyuFNZ2TT6a7A6+IBnjNxIfDKT9B3DXJ5A4UPIjU5/3fpIxpW\n",
       "w7Gr+ij80kv5DhPfginXFxdgXa4HHRLxWses1YUnMr7Pj7B7uz6sK1uPnoknrcgcjM2NNNZHyOWm\n",
       "wtPUH344z2lleZOLkC1lA7ljEtG/45ysqbRgsvr53WAzbjhGsN+RGGhGJ51vh02+Xdv65x8psL10\n",
       "Wh2CqHQCA20mnRZzkrBrEgOsWEnnHwN/AeCOoFHKMKGFAAAAAElFTkSuQmCC\n",
       "\" style=\"display:inline;vertical-align:middle;\" /></a></span></td></tr>\n",
       "<tr><td>&nbsp;</td><td colspan=4 style-\"text-align:left\"><a class=\"ProveItLink\" href=\"../../_proofs_/xInIntsInBool.ipynb\">proveit.number.sets.integer.xInIntsInBool</a></td></tr></table>"
      ],
      "text/plain": [
       "<proveit._core_.proof._ShowProof at 0x7f94ea690f98>"
      ]
     },
     "execution_count": 1,
     "metadata": {},
     "output_type": "execute_result"
    }
   ],
   "source": [
    "import proveit\n",
    "%show_proof"
   ]
  },
  {
   "cell_type": "code",
   "execution_count": null,
   "metadata": {},
   "outputs": [],
   "source": []
  }
 ],
 "metadata": {
  "kernelspec": {
   "display_name": "Python 3",
   "language": "python",
   "name": "python3"
  }
 },
 "nbformat": 4,
 "nbformat_minor": 0
}
