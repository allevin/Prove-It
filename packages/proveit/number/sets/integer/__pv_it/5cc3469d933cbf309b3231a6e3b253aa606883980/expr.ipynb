{
 "cells": [
  {
   "cell_type": "markdown",
   "metadata": {},
   "source": [
    "Expression of type <a class=\"ProveItLink\" href=\"../../../../../../../doc/html/api/proveit.ExprTuple.html\">ExprTuple</a>\n",
    "=======================\n",
    "# from context <a class=\"ProveItLink\" href=\"../../_context_.ipynb\">proveit.number.sets.integer</a>"
   ]
  },
  {
   "cell_type": "code",
   "execution_count": 1,
   "metadata": {},
   "outputs": [],
   "source": [
    "# import Expression classes needed to build the expression\n",
    "from proveit import ExprTuple\n",
    "from proveit._common_ import a, b, n\n",
    "from proveit.logic import InSet\n",
    "from proveit.number import Integers, LessEq, LesserSequence"
   ]
  },
  {
   "cell_type": "code",
   "execution_count": 2,
   "metadata": {},
   "outputs": [
    {
     "data": {
      "text/html": [
       "<strong id=\"expr\">expr:</strong> <a class=\"ProveItLink\" href=\"expr.ipynb\"><img src=\"data:image/png;base64,iVBORw0KGgoAAAANSUhEUgAAAKEAAAAVBAMAAADcJJPmAAAAMFBMVEX////c3NwiIiJERESqqqqY\n",
       "mJh2dnZmZmYQEBDu7u4yMjJUVFTMzMyIiIi6uroAAAAs73DqAAAAAXRSTlMAQObYZgAAAjtJREFU\n",
       "OMutVU1oE0EU/rZJNpluTNZrc7DsXQ0UDxGLi0dbMAgKXiQWQTwoq2IPIlit9GiX9uKtS6H4h5iL\n",
       "IqFiwJu9BAVBMVA8SChiS6uHghbfzO7sdONuIZA9vHnzvfe9mTfvzSzQ/6/Q6mOw81ysxFnShzef\n",
       "3ntc7SUYez0MZJukPYkz73vkwkvFWT6sJmGDdRIecWOTztag21djNjLRSsSKNomzQM6NWL9YFi0D\n",
       "w0UpX/+ffL2ajK3zSA+BtYj5/blQraTcbrLWsJGMTXCRsjFJ1f64v/3KN1dCz0zrjFRLnzomH/MN\n",
       "eYaKoTA8a78EdAdLJI3nWGiKFcww4jwrS/pdHBfpjTSlMWTswtgWik2kPTwAfg6UsSCWmlfZLBsy\n",
       "+oEqbvgl/SyNiqGw9DZyNRSmsAO4ZDwlDq1jWX5lUHC+S9e3wEFfO305gBRDYVkPRQf5DR6RGxuI\n",
       "dvsg76wLQt0C+xOgJ68FSshQ2ICD9SqPeJ8mt4DfjKNzYcSLOiU1LKr1F+kNFsBry/4YMhRG7XjH\n",
       "5VkfockMMts6Rw3ZblqdtqtPgTJjv2B443Kld8fEEDIURmWZoRbxcInoO9DLgsMOBU4pswI2WWab\n",
       "pC/hhFMLN7/CC6IYCjPsbF10zzfwnWqjfp8O3fZ9OkenR15MO2yWCl5q/xjtusy7GOruvLnJz38V\n",
       "OTOCjy36tZZUs8fnjG5hpraXQ6bXB/JK0msWF1GzxBc5gG6M8QRLe0Xs9X0XF03r51/hK/AP+iee\n",
       "z2OXDCUAAAAASUVORK5CYII=\n",
       "\" style=\"display:inline;vertical-align:middle;\" /></a><br>"
      ],
      "text/plain": [
       "expr: (n in Integers , a <= n <= b)"
      ]
     },
     "execution_count": 2,
     "metadata": {},
     "output_type": "execute_result"
    }
   ],
   "source": [
    "# build up the expression from sub-expressions\n",
    "expr = ExprTuple(InSet(n, Integers), LesserSequence([LessEq._operator_, LessEq._operator_], [a, n, b]))"
   ]
  },
  {
   "cell_type": "code",
   "execution_count": 3,
   "metadata": {},
   "outputs": [
    {
     "name": "stdout",
     "output_type": "stream",
     "text": [
      "Passed sanity check: built 'expr' is the same as the stored Expression.\n"
     ]
    }
   ],
   "source": [
    "# check that the built expression is the same as the stored expression\n",
    "%check_expr"
   ]
  },
  {
   "cell_type": "code",
   "execution_count": 4,
   "metadata": {},
   "outputs": [
    {
     "data": {
      "text/html": [
       "<table><tr><th>&nbsp;</th><th>core type</th><th>sub-expressions</th><th>expression</th></tr>\n",
       "<tr><td>0</td><td>ExprTuple</td><td>1, 2</td><td><a class=\"ProveItLink\" href=\"expr.ipynb\"><img src=\"data:image/png;base64,iVBORw0KGgoAAAANSUhEUgAAAKEAAAAVBAMAAADcJJPmAAAAMFBMVEX////c3NwiIiJERESqqqqY\n",
       "mJh2dnZmZmYQEBDu7u4yMjJUVFTMzMyIiIi6uroAAAAs73DqAAAAAXRSTlMAQObYZgAAAjtJREFU\n",
       "OMutVU1oE0EU/rZJNpluTNZrc7DsXQ0UDxGLi0dbMAgKXiQWQTwoq2IPIlit9GiX9uKtS6H4h5iL\n",
       "IqFiwJu9BAVBMVA8SChiS6uHghbfzO7sdONuIZA9vHnzvfe9mTfvzSzQ/6/Q6mOw81ysxFnShzef\n",
       "3ntc7SUYez0MZJukPYkz73vkwkvFWT6sJmGDdRIecWOTztag21djNjLRSsSKNomzQM6NWL9YFi0D\n",
       "w0UpX/+ffL2ajK3zSA+BtYj5/blQraTcbrLWsJGMTXCRsjFJ1f64v/3KN1dCz0zrjFRLnzomH/MN\n",
       "eYaKoTA8a78EdAdLJI3nWGiKFcww4jwrS/pdHBfpjTSlMWTswtgWik2kPTwAfg6UsSCWmlfZLBsy\n",
       "+oEqbvgl/SyNiqGw9DZyNRSmsAO4ZDwlDq1jWX5lUHC+S9e3wEFfO305gBRDYVkPRQf5DR6RGxuI\n",
       "dvsg76wLQt0C+xOgJ68FSshQ2ICD9SqPeJ8mt4DfjKNzYcSLOiU1LKr1F+kNFsBry/4YMhRG7XjH\n",
       "5VkfockMMts6Rw3ZblqdtqtPgTJjv2B443Kld8fEEDIURmWZoRbxcInoO9DLgsMOBU4pswI2WWab\n",
       "pC/hhFMLN7/CC6IYCjPsbF10zzfwnWqjfp8O3fZ9OkenR15MO2yWCl5q/xjtusy7GOruvLnJz38V\n",
       "OTOCjy36tZZUs8fnjG5hpraXQ6bXB/JK0msWF1GzxBc5gG6M8QRLe0Xs9X0XF03r51/hK/AP+iee\n",
       "z2OXDCUAAAAASUVORK5CYII=\n",
       "\" style=\"display:inline;vertical-align:middle;\" /></a></td></tr>\n",
       "<tr><td>1</td><td>Operation</td><td>operator:&nbsp;3<br>operands:&nbsp;4<br></td><td><a class=\"ProveItLink\" href=\"../4d8cc7a702a1beeb3bdcfd4020381e4047f1669b0/expr.ipynb\"><img src=\"data:image/png;base64,iVBORw0KGgoAAAANSUhEUgAAADQAAAAPBAMAAABZ6/G2AAAAMFBMVEX///8QEBCYmJhmZmaqqqoi\n",
       "IiLMzMzu7u4yMjJ2dnZUVFTc3NxERESIiIi6uroAAABbPXqjAAAAAXRSTlMAQObYZgAAAN5JREFU\n",
       "GNNjYMAELPFfO0QbFbDIMPA2FzA08GCTYWCewMDpMA9FqLY1NAJEcxUw7GJbgCzD1lQAZx/nAbL5\n",
       "7uy+uxLM3YOQYbqgBCQ5uXoZ6hNA/NMIA2rYDwDJd6wHGOofABlgHhQs49oAJAuA4v4go/hEQ0Mh\n",
       "zmDgM3gJpoHiK8CuQLiJg6GBgWE2A4MFA8MndpCBAXCpKZxAG4BcSQam75wggUUwGe4FWUDnCTBw\n",
       "/2PgPOAGEil9AJXi2XCcgd3yAAMfUPasA1hxcwJE6uEJmTP9MgYoIb4C6kIIAADsgjTq+/qdwgAA\n",
       "AABJRU5ErkJggg==\n",
       "\" style=\"display:inline;vertical-align:middle;\" /></a></td></tr>\n",
       "<tr><td>2</td><td>Operation</td><td>operators:&nbsp;5<br>operands:&nbsp;6<br></td><td><a class=\"ProveItLink\" href=\"../1f4ed746c4a98518e1f8c58cf121b107c172fee70/expr.ipynb\"><img src=\"data:image/png;base64,iVBORw0KGgoAAAANSUhEUgAAAFgAAAARBAMAAACr7HajAAAAMFBMVEX///8yMjKqqqrMzMzu7u4i\n",
       "IiJmZmaYmJhEREQQEBC6urp2dnaIiIhUVFTc3NwAAAD87Fq/AAAAAXRSTlMAQObYZgAAAQ1JREFU\n",
       "KM9jYCAS+E7FEOKJYsAlJosu7h2DqRYm9glN3C0cUy1MjOsLqvhbIUy1cDHuABDJd2fXPDDXVgqm\n",
       "Yk3fm7Mb0MQY75wtYGBY+YDjA4jn0Qw3bsPFAyyf0cT8Gxg+M/B9Z2BrAHs6xgEqzrUggoHlF6oY\n",
       "g74Dw2wG3g8MrAfAXPZoqAwLUCXTF1QxhkQGhm8M/A0M/gYQPpPYAyjjCwOvAJpYGAPXd4b3Bxj0\n",
       "GaDauWQh2tgEGPgL0MQ+MbB9YfBXYLjIBDWagbkDzOLcwFDvsAFV7DNIlLGAKYwb7mfmWyDy/QKG\n",
       "HXADoGKXGHJBwXzK4hRaTKxkYHhxCD0hHStgoAd4GgoCUfjEAA+cSuiowjJmAAAAAElFTkSuQmCC\n",
       "\" style=\"display:inline;vertical-align:middle;\" /></a></td></tr>\n",
       "<tr><td>3</td><td>Literal</td><td></td><td><a class=\"ProveItLink\" href=\"../../../../../logic/set_theory/membership/__pv_it/088cbc857536a28d4119ad9639a84270ccb0545d0/expr.ipynb\"><img src=\"data:image/png;base64,iVBORw0KGgoAAAANSUhEUgAAAAwAAAAMBAMAAACkW0HUAAAALVBMVEX///+qqqpmZmZUVFQQEBC6\n",
       "urpERETc3NyYmJjMzMwiIiIyMjKIiIju7u4AAACYsrA9AAAAAXRSTlMAQObYZgAAADxJREFUCNdj\n",
       "YOA9vWrVBgaG2b0MQMCeCyIZ2ArA1DUwyRCyahVIyWQI7xaEYm4AU7xLIdxqTQgtvGvVBgCkcQ7e\n",
       "geM/tQAAAABJRU5ErkJggg==\n",
       "\" style=\"display:inline;vertical-align:middle;\" /></a></td></tr>\n",
       "<tr><td>4</td><td>ExprTuple</td><td>10, 7</td><td><a class=\"ProveItLink\" href=\"../15920f98ebe5a92ee48f395a0354ecdeeb5a705e0/expr.ipynb\"><img src=\"data:image/png;base64,iVBORw0KGgoAAAANSUhEUgAAADAAAAAVBAMAAADyTXAxAAAAMFBMVEX////c3NwiIiJERESqqqqY\n",
       "mJh2dnZmZmYQEBDu7u4yMjJUVFTMzMyIiIi6uroAAAAs73DqAAAAAXRSTlMAQObYZgAAASRJREFU\n",
       "KM9jYMAJ+C5girE+ABKnkUVY9D+taloRwFADZK9EluBdPoFhATMDAxeQiWISewIDm0Me0KwEBo4J\n",
       "yBLcExikeTYwMHA2MLxCt9iSGaTUhKEM6K7Lgne3wR10IRREpTMsZWBg417LMP8AVGIypwGI8mLo\n",
       "Y2B4x2TAMP8BVGIPtwCIesHwj4FhAlDUH+oGvoJnYPo8SAIkuguqgYthAQNDIkiiBcirYmD4ygmR\n",
       "SGEDmqkAMsoUyGtjYP3JxgAyjHEDMITYGhgYooDuYmD8x8Bm4MP5CSjBLGDJwFlmAHLuI6CFDQyM\n",
       "tg6c/UDnvLBqNl7fXMDAsI6BQwAe/gII7wODBBhcMD8jhQvbBaRgR5aYBcTSMA5y+G8EuRBL1PIe\n",
       "YAAAw8FCJZzDms4AAAAASUVORK5CYII=\n",
       "\" style=\"display:inline;vertical-align:middle;\" /></a></td></tr>\n",
       "<tr><td>5</td><td>ExprTuple</td><td>8, 8</td><td><a class=\"ProveItLink\" href=\"../2d39c827fa1b76e71286b9a444cf541fea8f5f540/expr.ipynb\"><img src=\"data:image/png;base64,iVBORw0KGgoAAAANSUhEUgAAADUAAAAVBAMAAAAUZLt1AAAAMFBMVEX////c3NwiIiJERESqqqqY\n",
       "mJh2dnZmZmYQEBDu7u4yMjJUVFTMzMyIiIi6uroAAAAs73DqAAAAAXRSTlMAQObYZgAAAPhJREFU\n",
       "KM9jYMAH+C5gFY4DEaexa2E/ACRWQjmXHiAkePUYGBYAKYiRnElIRk/TBRJhDAwcE8BSRQEIqemq\n",
       "IHIGA8MrEM24ywEhJb0ETDE7MJQBKZ5dSHadXgeh2QoYlgINND6AkJpsA2WwLGDoAznxJpITdSdA\n",
       "/d3A8A9EB2UiJFnVIJI8HyByDF6FCEmW5QJQuRaIwKs9SKG4+gDETFOowGGgG6A2MfCAHMe6gCEd\n",
       "7vYHnJ9gbJ59YD88QpjF2S+AFNhcDxg4kPh8yHLAMGNNQHI+ciTlguOIUQkMHoDlhMBsPQbOBaCg\n",
       "RShFTgHcIPMZsaeJOwwMAIoqNwTlnxarAAAAAElFTkSuQmCC\n",
       "\" style=\"display:inline;vertical-align:middle;\" /></a></td></tr>\n",
       "<tr><td>6</td><td>ExprTuple</td><td>9, 10, 11</td><td><a class=\"ProveItLink\" href=\"../84ca63c4d7a6317f9232ee780e1b32aaf1a302b40/expr.ipynb\"><img src=\"data:image/png;base64,iVBORw0KGgoAAAANSUhEUgAAAD8AAAAVBAMAAAADRiu8AAAAMFBMVEX////c3NwiIiJERESqqqqY\n",
       "mJh2dnZmZmYQEBDu7u4yMjJUVFTMzMyIiIi6uroAAAAs73DqAAAAAXRSTlMAQObYZgAAAUpJREFU\n",
       "KM+FUjFLw1AQ/tqmTZ6xTcFRpIKDax3c8w/M5KhBBycli64qiKNk7JYsDuLSRZBCIeDokqGbtqRO\n",
       "Ikgj4iCIeJfXJA6NvuHed/fdvXv3vQf8uxphMbfF5n42J26XATUgdFVQPdcl4wP1og6GSWYT0NyC\n",
       "hAkTHeCl6II7bComjmgr9Q9OZfR1benBlvB6eAPUHFwSfm5WYhm1e6H4klO8wwig+LigAz6gtqUm\n",
       "0QrEdwKVT2g2GicgV49RlrMIYonhpfowHMzHnGC04QVI63Q/QWUHE4sTzoBWiA24WZ3lTmU4drnF\n",
       "OuCZ6CmB4DC13XZthnTDc6DqY49EtZTVGjzSHq0Iu0rAUDfVbjLmE8swuhuh88YDAwuDBIr+IT9I\n",
       "BK2ZSjfOVcwgSV21U8fKEzK4//u5ZyQIHnlx6tRzPoM69y/98eUegR89wVONy4TAGwAAAABJRU5E\n",
       "rkJggg==\n",
       "\" style=\"display:inline;vertical-align:middle;\" /></a></td></tr>\n",
       "<tr><td>7</td><td>Literal</td><td></td><td><a class=\"ProveItLink\" href=\"../7b9e51516f347f625fa636d7bb440e96498977000/expr.ipynb\"><img src=\"data:image/png;base64,iVBORw0KGgoAAAANSUhEUgAAAA4AAAAOBAMAAADtZjDiAAAAMFBMVEX////MzMzc3NxUVFS6urp2\n",
       "dnZERETu7u5mZmaIiIiYmJgQEBAyMjIiIiKqqqoAAAAf68ZqAAAAAXRSTlMAQObYZgAAAGlJREFU\n",
       "CNdj4Lv/98ze0wsYOE8UMBxgY2DgCGBgfRDCwMBcwKDMaMAAAulsBSCKa8IqMLeMPQFMGzIrgCiW\n",
       "Blcwl4fhAANDEANDHKsDA8MFBiYDYQYG1g0MbArpDOytCQzeOdvSzm9rAAAm6xY1AUf+1AAAAABJ\n",
       "RU5ErkJggg==\n",
       "\" style=\"display:inline;vertical-align:middle;\" /></a></td></tr>\n",
       "<tr><td>8</td><td>Literal</td><td></td><td><a class=\"ProveItLink\" href=\"../../../../ordering/__pv_it/aa616d6a8fe3483e4e64187262e9c7dfe6a536a30/expr.ipynb\"><img src=\"data:image/png;base64,iVBORw0KGgoAAAANSUhEUgAAAA4AAAARBAMAAAAf5oCsAAAALVBMVEX///9ERETMzMyqqqoyMjJU\n",
       "VFTc3NyYmJhmZmZ2dnbu7u66uroiIiKIiIgAAAAFyQXGAAAAAXRSTlMAQObYZgAAAEBJREFUCNdj\n",
       "YEAGvKfB1MqzYGrFcTCV6gymVL3B1EIhqNKzCyAM9pNQBrNHAoTB7aoAYTAJwhjRDLhAzhkQOA0A\n",
       "iskPUSt9tJUAAAAASUVORK5CYII=\n",
       "\" style=\"display:inline;vertical-align:middle;\" /></a></td></tr>\n",
       "<tr><td>9</td><td>Variable</td><td></td><td><a class=\"ProveItLink\" href=\"../../../../../__pv_it/07527342713064c87612d00d8557c53d53d5324a0/expr.ipynb\"><img src=\"data:image/png;base64,iVBORw0KGgoAAAANSUhEUgAAAAsAAAAJBAMAAAAWSsseAAAAMFBMVEX///8yMjKqqqrMzMzu7u4i\n",
       "IiJmZmaYmJhEREQQEBC6urp2dnaIiIhUVFTc3NwAAAD87Fq/AAAAAXRSTlMAQObYZgAAAEhJREFU\n",
       "CNdjYOC7s2seAwPDygccHxgY+L4zsDUwMPB+YGA9wMDA38Dgb8DA8P4Agz6DA4O/AsNFJgMGxgKm\n",
       "MG6gyjunLE4xAAAZTBA5TB6DCwAAAABJRU5ErkJggg==\n",
       "\" style=\"display:inline;vertical-align:middle;\" /></a></td></tr>\n",
       "<tr><td>10</td><td>Variable</td><td></td><td><a class=\"ProveItLink\" href=\"../../../../../__pv_it/39dbcd3ca0390345b51c6ef7785756419e2c14390/expr.ipynb\"><img src=\"data:image/png;base64,iVBORw0KGgoAAAANSUhEUgAAAAwAAAAJBAMAAAD0ltBnAAAAMFBMVEX///8QEBCYmJhmZmaqqqoi\n",
       "IiLMzMzu7u4yMjJ2dnZUVFTc3NxERESIiIi6uroAAABbPXqjAAAAAXRSTlMAQObYZgAAAERJREFU\n",
       "CNdj4Luz++5KBgZOrl6G+gSGd6wHGOofMBQAsX8BAwivYGBgsGBg+MTOwCDJwPSdk4H7HwPnATcG\n",
       "PgEG7rMOAGtQEUwHZIDZAAAAAElFTkSuQmCC\n",
       "\" style=\"display:inline;vertical-align:middle;\" /></a></td></tr>\n",
       "<tr><td>11</td><td>Variable</td><td></td><td><a class=\"ProveItLink\" href=\"../../../../../__pv_it/6840a4fa6c106149dc16a131294d0c5e44f1b0480/expr.ipynb\"><img src=\"data:image/png;base64,iVBORw0KGgoAAAANSUhEUgAAAAkAAAAOBAMAAAAPuiubAAAALVBMVEX///9mZmbMzMxERESYmJiI\n",
       "iIh2dna6urqqqqoyMjIiIiIQEBBUVFTu7u4AAAD9S1JeAAAAAXRSTlMAQObYZgAAAE1JREFUCNdj\n",
       "4D29gAEIOA+ASL4GEFl3AURmgQiGOaFHGBh4HzPwKTBwvGXgTmBgnMDAJ8DAJcBQ5wBSLncBJLWN\n",
       "gYGngRFoBO9REQYGAGrcDtUkVqASAAAAAElFTkSuQmCC\n",
       "\" style=\"display:inline;vertical-align:middle;\" /></a></td></tr>\n",
       "</table>\n"
      ],
      "text/plain": [
       "0. (n in Integers , a <= n <= b)\n",
       "   core type: ExprTuple\n",
       "   sub-expressions: 1, 2\n",
       "1. n in Integers\n",
       "   core type: Operation\n",
       "   operator: 3\n",
       "   operands: 4\n",
       "2. a <= n <= b\n",
       "   core type: Operation\n",
       "   operators: 5\n",
       "   operands: 6\n",
       "3. in\n",
       "   core type: Literal\n",
       "   sub-expressions: \n",
       "4. (n , Integers)\n",
       "   core type: ExprTuple\n",
       "   sub-expressions: 10, 7\n",
       "5. (<= , <=)\n",
       "   core type: ExprTuple\n",
       "   sub-expressions: 8, 8\n",
       "6. (a , n , b)\n",
       "   core type: ExprTuple\n",
       "   sub-expressions: 9, 10, 11\n",
       "7. Integers\n",
       "   core type: Literal\n",
       "   sub-expressions: \n",
       "8. <=\n",
       "   core type: Literal\n",
       "   sub-expressions: \n",
       "9. a\n",
       "   core type: Variable\n",
       "   sub-expressions: \n",
       "10. n\n",
       "    core type: Variable\n",
       "    sub-expressions: \n",
       "11. b\n",
       "    core type: Variable\n",
       "    sub-expressions: "
      ]
     },
     "execution_count": 4,
     "metadata": {},
     "output_type": "execute_result"
    }
   ],
   "source": [
    "# display the expression information\n",
    "expr.exprInfo()"
   ]
  },
  {
   "cell_type": "code",
   "execution_count": null,
   "metadata": {},
   "outputs": [],
   "source": []
  }
 ],
 "metadata": {
  "kernelspec": {
   "display_name": "Python 3",
   "language": "python",
   "name": "python3"
  }
 },
 "nbformat": 4,
 "nbformat_minor": 0
}
