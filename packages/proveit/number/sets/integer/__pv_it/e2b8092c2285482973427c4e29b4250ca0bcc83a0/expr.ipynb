{
 "cells": [
  {
   "cell_type": "markdown",
   "metadata": {},
   "source": [
    "Expression of type <a class=\"ProveItLink\" href=\"../../../../../../../doc/html/api/proveit.logic.InSet.html\">InSet</a>\n",
    "=======================\n",
    "# from context <a class=\"ProveItLink\" href=\"../../_context_.ipynb\">proveit.number.sets.integer</a>"
   ]
  },
  {
   "cell_type": "code",
   "execution_count": 1,
   "metadata": {},
   "outputs": [],
   "source": [
    "# import Expression classes needed to build the expression\n",
    "from proveit._common_ import a, b\n",
    "from proveit.logic import InSet\n",
    "from proveit.number import Add, NaturalsPos, Neg"
   ]
  },
  {
   "cell_type": "code",
   "execution_count": 2,
   "metadata": {},
   "outputs": [
    {
     "data": {
      "text/html": [
       "<strong id=\"expr\">expr:</strong> <a class=\"ProveItLink\" href=\"expr.ipynb\"><img src=\"data:image/png;base64,iVBORw0KGgoAAAANSUhEUgAAAHAAAAAYBAMAAADQaWRPAAAAMFBMVEX////c3NwiIiJERESqqqqY\n",
       "mJh2dnZmZmYQEBDu7u4yMjJUVFTMzMyIiIi6uroAAAAs73DqAAAAAXRSTlMAQObYZgAAAatJREFU\n",
       "OMtjYCAHODCQCQwGRiPfBRyycQQ0nsYiwblDgYGB/QCa4HrjlQzs+iowjSuxGcm1AUgsQBNkDjjM\n",
       "wMDPwL1qVdeqtQy8WF3KDwrwMDRBbh2gYg6YUzkmYNP4HiQ6A+rEW0pKYMu5X03Yg9D4Cqvvk8BO\n",
       "g8TzqUiYjWc2zJoA11gGxIx78xpRNa6+u5WBga0AxGS0hDv1gC+PAVzjUiB+IcD8ATUAPzPwH2Bg\n",
       "ATuQWQChkf1BLFgjKOj6gGZ+ZWBHTQssPxk4Ehj4GkDsyYjAOcCwk/sEjPcPKPCBgQkUtoyLlEDg\n",
       "ATAKFzDwFzDwgJ3xAiS2AKpxNucKJI38BgzzUSObqYDhfQBU42lkG3kS4Da2MDDIX2DwZ5iAFo31\n",
       "E6BOnYSskSGEGcYzZWCY78CwiwXFSmDItDEwsEIcGICskU0YxksHpq8AFnU21DTiwL4BFh2cevAk\n",
       "B/Q9QxWM9wgUjfcO30ONjr2loAT7AMyRqoEI8q1vBpKzYGo4BHBmHmiSY/BepLQAU5Y1AafGXPy5\n",
       "eSUuCc4F+DVK45LgFsCvkRFX0XEHrzYAO9BjxHAP0AEAAAAASUVORK5CYII=\n",
       "\" style=\"display:inline;vertical-align:middle;\" /></a><br>"
      ],
      "text/plain": [
       "expr: (a - b) in NaturalsPos"
      ]
     },
     "execution_count": 2,
     "metadata": {},
     "output_type": "execute_result"
    }
   ],
   "source": [
    "# build up the expression from sub-expressions\n",
    "expr = InSet(Add(a, Neg(b)), NaturalsPos)"
   ]
  },
  {
   "cell_type": "code",
   "execution_count": 3,
   "metadata": {},
   "outputs": [
    {
     "name": "stdout",
     "output_type": "stream",
     "text": [
      "Passed sanity check: built 'expr' is the same as the stored Expression.\n"
     ]
    }
   ],
   "source": [
    "# check that the built expression is the same as the stored expression\n",
    "%check_expr"
   ]
  },
  {
   "cell_type": "code",
   "execution_count": 4,
   "metadata": {},
   "outputs": [
    {
     "data": {
      "text/html": [
       "<table><tr><th>&nbsp;</th><th>core type</th><th>sub-expressions</th><th>expression</th></tr>\n",
       "<tr><td>0</td><td>Operation</td><td>operator:&nbsp;1<br>operands:&nbsp;2<br></td><td><a class=\"ProveItLink\" href=\"expr.ipynb\"><img src=\"data:image/png;base64,iVBORw0KGgoAAAANSUhEUgAAAHAAAAAYBAMAAADQaWRPAAAAMFBMVEX////c3NwiIiJERESqqqqY\n",
       "mJh2dnZmZmYQEBDu7u4yMjJUVFTMzMyIiIi6uroAAAAs73DqAAAAAXRSTlMAQObYZgAAAatJREFU\n",
       "OMtjYCAHODCQCQwGRiPfBRyycQQ0nsYiwblDgYGB/QCa4HrjlQzs+iowjSuxGcm1AUgsQBNkDjjM\n",
       "wMDPwL1qVdeqtQy8WF3KDwrwMDRBbh2gYg6YUzkmYNP4HiQ6A+rEW0pKYMu5X03Yg9D4Cqvvk8BO\n",
       "g8TzqUiYjWc2zJoA11gGxIx78xpRNa6+u5WBga0AxGS0hDv1gC+PAVzjUiB+IcD8ATUAPzPwH2Bg\n",
       "ATuQWQChkf1BLFgjKOj6gGZ+ZWBHTQssPxk4Ehj4GkDsyYjAOcCwk/sEjPcPKPCBgQkUtoyLlEDg\n",
       "ATAKFzDwFzDwgJ3xAiS2AKpxNucKJI38BgzzUSObqYDhfQBU42lkG3kS4Da2MDDIX2DwZ5iAFo31\n",
       "E6BOnYSskSGEGcYzZWCY78CwiwXFSmDItDEwsEIcGICskU0YxksHpq8AFnU21DTiwL4BFh2cevAk\n",
       "B/Q9QxWM9wgUjfcO30ONjr2loAT7AMyRqoEI8q1vBpKzYGo4BHBmHmiSY/BepLQAU5Y1AafGXPy5\n",
       "eSUuCc4F+DVK45LgFsCvkRFX0XEHrzYAO9BjxHAP0AEAAAAASUVORK5CYII=\n",
       "\" style=\"display:inline;vertical-align:middle;\" /></a></td></tr>\n",
       "<tr><td>1</td><td>Literal</td><td></td><td><a class=\"ProveItLink\" href=\"../../../../../logic/set_theory/membership/__pv_it/088cbc857536a28d4119ad9639a84270ccb0545d0/expr.ipynb\"><img src=\"data:image/png;base64,iVBORw0KGgoAAAANSUhEUgAAAAwAAAAMBAMAAACkW0HUAAAALVBMVEX///+qqqpmZmZUVFQQEBC6\n",
       "urpERETc3NyYmJjMzMwiIiIyMjKIiIju7u4AAACYsrA9AAAAAXRSTlMAQObYZgAAADxJREFUCNdj\n",
       "YOA9vWrVBgaG2b0MQMCeCyIZ2ArA1DUwyRCyahVIyWQI7xaEYm4AU7xLIdxqTQgtvGvVBgCkcQ7e\n",
       "geM/tQAAAABJRU5ErkJggg==\n",
       "\" style=\"display:inline;vertical-align:middle;\" /></a></td></tr>\n",
       "<tr><td>2</td><td>ExprTuple</td><td>3, 4</td><td><a class=\"ProveItLink\" href=\"../a7823e2a3c4f016955453f8a61faf368052071d40/expr.ipynb\"><img src=\"data:image/png;base64,iVBORw0KGgoAAAANSUhEUgAAAGAAAAAbBAMAAABxU5cJAAAAMFBMVEX///+qqqp2dnYiIiJERESI\n",
       "iIhmZmYQEBDc3NyYmJgyMjLu7u5UVFTMzMy6uroAAACGxKilAAAAAXRSTlMAQObYZgAAAahJREFU\n",
       "OMuVkzFIw1AQhv+0aZrapOnibMBdKkJxKUZwdCiIuEjpqg6KOIhTBycXU9C9ICrUQrMJRWgHi1gR\n",
       "OhRcFLspDraCQ6VUfK/mJY2mkB68vONdvneX/y6AV4ta3rs3QCNLpY5c8Q48UqdkeAcCSfK4hXcA\n",
       "s4C45RIM38RMp7hwAWFumgGrgJB2u26MfRivNwAFUj6/lz8FygaCTTdAYSJKCVJ30CrJr+PZteAW\n",
       "U0J6M+4HAEHDiiswyRzpqVIybCDURo1sYnVq1wkUlk3xpPq4rNlApItFsr1k+LZTpU8odRMQmsd9\n",
       "oC+D3MMZSfBFaxs0rougagK4kx6sgPiNODlsw09bKJ7MUCOyCTkoaQZchc/t1B8UUDSU644M/jRa\n",
       "OgNk1ZGhABwmMQHjTxs2DQYgy9tAD9ekfVHUOEcK8sXbCDPAt28FIh0skTnQubjPUZIUFSoo03ni\n",
       "6SCsWwHShxZtQ6qRcspaXQMuO+TG4g79A6yAL8f0drNXl6FMQlKHAvr/o3IGcmwU4Iis+WHvB1zO\n",
       "EmQdwLuFaPs51Tvw25Csd2ADo9sP3iFngFIsx7UAAAAASUVORK5CYII=\n",
       "\" style=\"display:inline;vertical-align:middle;\" /></a></td></tr>\n",
       "<tr><td>3</td><td>Operation</td><td>operator:&nbsp;5<br>operands:&nbsp;6<br></td><td><a class=\"ProveItLink\" href=\"../1501347c3474325b2e96209c91712f25a33deb6d0/expr.ipynb\"><img src=\"data:image/png;base64,iVBORw0KGgoAAAANSUhEUgAAAC0AAAAOBAMAAABJDIgxAAAAMFBMVEX///8yMjKqqqrMzMzu7u4i\n",
       "IiJmZmaYmJhEREQQEBC6urp2dnaIiIhUVFTc3NwAAAD87Fq/AAAAAXRSTlMAQObYZgAAAJVJREFU\n",
       "GNNjYMAALDcDGLACxgvYxfkVsIuvd8AuvhVM8t3ZNQ9VXPbMdSC58gHHB1T3/GDgN2Dg+87A1oAi\n",
       "zvSFgXMDA+8HBtYDIONEQ0FgAQMDmwADfwIDfwODvwGKetYEhvUFDO8PMOgzOKA5P9+BwV+B4SIT\n",
       "igagpbOBni5gCuNGMYdXge0CyPmnLE6huvNOOgMDAHwjISsvkbwRAAAAAElFTkSuQmCC\n",
       "\" style=\"display:inline;vertical-align:middle;\" /></a></td></tr>\n",
       "<tr><td>4</td><td>Literal</td><td></td><td><a class=\"ProveItLink\" href=\"../42d4bc2e45d5054d807f2641a228c1b440fb8de30/expr.ipynb\"><img src=\"data:image/png;base64,iVBORw0KGgoAAAANSUhEUgAAABsAAAATBAMAAACTqWsLAAAAMFBMVEX////c3Nx2dna6uroQEBCI\n",
       "iIhUVFTMzMyYmJiqqqoiIiJmZmZEREQyMjLu7u4AAADjlg78AAAAAXRSTlMAQObYZgAAAHZJREFU\n",
       "GNNjYIADTgYUwEMy9+2fsw8Ydv2aAJM9wX6AgeEDQ+7dK3fvBjAwZBWEMjA4wPUm32MrQOKml/Hd\n",
       "Q+ZyBtQgcxk2cwSAuGxQLtuDdAe47ekMfAlvkbkMRewoXI4JB5C5DIoI7mEg5r4A49l+AcrwwbgA\n",
       "axoiJO4Xc9gAAAAASUVORK5CYII=\n",
       "\" style=\"display:inline;vertical-align:middle;\" /></a></td></tr>\n",
       "<tr><td>5</td><td>Literal</td><td></td><td><a class=\"ProveItLink\" href=\"../../../../addition/__pv_it/3e6688136fa3c7aefbebe51301b7c3ebf0b69c440/expr.ipynb\"><img src=\"data:image/png;base64,iVBORw0KGgoAAAANSUhEUgAAAA4AAAAOBAMAAADtZjDiAAAAJFBMVEX///+6urpUVFQQEBAiIiIy\n",
       "MjJmZmaIiIiqqqrc3Nzu7u4AAACgHpL+AAAAAXRSTlMAQObYZgAAAB5JREFUCNdjYGBgWMkAAe2k\n",
       "0Kmhoc6hoUGk6BMHYgAHOwjcado9fwAAAABJRU5ErkJggg==\n",
       "\" style=\"display:inline;vertical-align:middle;\" /></a></td></tr>\n",
       "<tr><td>6</td><td>ExprTuple</td><td>7, 8</td><td><a class=\"ProveItLink\" href=\"../8955e4fe66f30205794975ac185973070568f9270/expr.ipynb\"><img src=\"data:image/png;base64,iVBORw0KGgoAAAANSUhEUgAAADkAAAAVBAMAAAAOWFv7AAAAMFBMVEX////c3NwiIiJERESqqqqY\n",
       "mJh2dnZmZmYQEBDu7u4yMjJUVFTMzMyIiIi6uroAAAAs73DqAAAAAXRSTlMAQObYZgAAARhJREFU\n",
       "KM9jYMAP+C7gkIgDEaexSHDuUGBgYD8AZK3Epo9rA5BYwMDAi9VgfgcgEcbAwDEBm+x7kOgMBoZX\n",
       "WF2UBCKYHRjKgBTj3rxGVNnVd7cyMLAVMCwFsl8IMH9AdfNnBv4DDCwLGPqAWr8ysBugyLL8ZOBI\n",
       "YOBrYPjHwMD9gYEJ4nLGRUog8IB9AQN/AQPPB5AsvwHD/AMoepkKGN4HgGRbGBjkLzD4M0xA8279\n",
       "BJDJpgwM8x0YdrEc4ESWPcDQxsDAuoAhHRhsASzqbAzzFRCy3A7sG8A+egTy7r3D9xhmfETy0d5S\n",
       "UGA/YOAQgAk9RA8wYEiyJsA4AeiyucgxiC7LCYxBBmkohxddKzfITkZcKecOAwMA4RA/ZxOQ4xwA\n",
       "AAAASUVORK5CYII=\n",
       "\" style=\"display:inline;vertical-align:middle;\" /></a></td></tr>\n",
       "<tr><td>7</td><td>Variable</td><td></td><td><a class=\"ProveItLink\" href=\"../../../../../__pv_it/07527342713064c87612d00d8557c53d53d5324a0/expr.ipynb\"><img src=\"data:image/png;base64,iVBORw0KGgoAAAANSUhEUgAAAAsAAAAJBAMAAAAWSsseAAAAMFBMVEX///8yMjKqqqrMzMzu7u4i\n",
       "IiJmZmaYmJhEREQQEBC6urp2dnaIiIhUVFTc3NwAAAD87Fq/AAAAAXRSTlMAQObYZgAAAEhJREFU\n",
       "CNdjYOC7s2seAwPDygccHxgY+L4zsDUwMPB+YGA9wMDA38Dgb8DA8P4Agz6DA4O/AsNFJgMGxgKm\n",
       "MG6gyjunLE4xAAAZTBA5TB6DCwAAAABJRU5ErkJggg==\n",
       "\" style=\"display:inline;vertical-align:middle;\" /></a></td></tr>\n",
       "<tr><td>8</td><td>Operation</td><td>operator:&nbsp;9<br>operand:&nbsp;10<br></td><td><a class=\"ProveItLink\" href=\"../74752f37113c2f2a910a8022bc04ee9e9dd06cc10/expr.ipynb\"><img src=\"data:image/png;base64,iVBORw0KGgoAAAANSUhEUgAAABgAAAAOBAMAAADH1sFNAAAAMFBMVEX///9mZmbMzMxERESYmJiI\n",
       "iIh2dnaqqqoQEBBUVFTu7u66uroiIiIyMjLc3NwAAABYXk/VAAAAAXRSTlMAQObYZgAAAFRJREFU\n",
       "CNdjYICClT0MSOAmMuc7Epv7FxKH7QASh3dqpAOcs96A4ROcU7+AoY3h7RkQOM0gy8DwES5zkIH7\n",
       "C5I1jAjDPzFwJMA50xkkEfasDHRgAABNpxc6/bk9/gAAAABJRU5ErkJggg==\n",
       "\" style=\"display:inline;vertical-align:middle;\" /></a></td></tr>\n",
       "<tr><td>9</td><td>Literal</td><td></td><td><a class=\"ProveItLink\" href=\"../../../../negation/__pv_it/3fc7a08bb9735faa20ef8e175f6ea95511acc9c70/expr.ipynb\"><img src=\"data:image/png;base64,iVBORw0KGgoAAAANSUhEUgAAAA4AAAACBAMAAACapPCZAAAAElBMVEX///+6uroiIiIyMjLc3NwA\n",
       "AAA6l9OrAAAAAXRSTlMAQObYZgAAABBJREFUCNdjcFYCAUUGKAAADR4BD8/TF5gAAAAASUVORK5C\n",
       "YII=\n",
       "\" style=\"display:inline;vertical-align:middle;\" /></a></td></tr>\n",
       "<tr><td>10</td><td>Variable</td><td></td><td><a class=\"ProveItLink\" href=\"../../../../../__pv_it/6840a4fa6c106149dc16a131294d0c5e44f1b0480/expr.ipynb\"><img src=\"data:image/png;base64,iVBORw0KGgoAAAANSUhEUgAAAAkAAAAOBAMAAAAPuiubAAAALVBMVEX///9mZmbMzMxERESYmJiI\n",
       "iIh2dna6urqqqqoyMjIiIiIQEBBUVFTu7u4AAAD9S1JeAAAAAXRSTlMAQObYZgAAAE1JREFUCNdj\n",
       "4D29gAEIOA+ASL4GEFl3AURmgQiGOaFHGBh4HzPwKTBwvGXgTmBgnMDAJ8DAJcBQ5wBSLncBJLWN\n",
       "gYGngRFoBO9REQYGAGrcDtUkVqASAAAAAElFTkSuQmCC\n",
       "\" style=\"display:inline;vertical-align:middle;\" /></a></td></tr>\n",
       "</table>\n"
      ],
      "text/plain": [
       "0. (a - b) in NaturalsPos\n",
       "   core type: Operation\n",
       "   operator: 1\n",
       "   operands: 2\n",
       "1. in\n",
       "   core type: Literal\n",
       "   sub-expressions: \n",
       "2. (a - b , NaturalsPos)\n",
       "   core type: ExprTuple\n",
       "   sub-expressions: 3, 4\n",
       "3. a - b\n",
       "   core type: Operation\n",
       "   operator: 5\n",
       "   operands: 6\n",
       "4. NaturalsPos\n",
       "   core type: Literal\n",
       "   sub-expressions: \n",
       "5. +\n",
       "   core type: Literal\n",
       "   sub-expressions: \n",
       "6. (a , -b)\n",
       "   core type: ExprTuple\n",
       "   sub-expressions: 7, 8\n",
       "7. a\n",
       "   core type: Variable\n",
       "   sub-expressions: \n",
       "8. -b\n",
       "   core type: Operation\n",
       "   operator: 9\n",
       "   operand: 10\n",
       "9. -\n",
       "   core type: Literal\n",
       "   sub-expressions: \n",
       "10. b\n",
       "    core type: Variable\n",
       "    sub-expressions: "
      ]
     },
     "execution_count": 4,
     "metadata": {},
     "output_type": "execute_result"
    }
   ],
   "source": [
    "# display the expression information\n",
    "expr.exprInfo()"
   ]
  },
  {
   "cell_type": "code",
   "execution_count": null,
   "metadata": {},
   "outputs": [],
   "source": []
  }
 ],
 "metadata": {
  "kernelspec": {
   "display_name": "Python 3",
   "language": "python",
   "name": "python3"
  }
 },
 "nbformat": 4,
 "nbformat_minor": 0
}
