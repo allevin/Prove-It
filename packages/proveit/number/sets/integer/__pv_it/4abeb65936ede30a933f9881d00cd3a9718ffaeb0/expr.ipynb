{
 "cells": [
  {
   "cell_type": "markdown",
   "metadata": {},
   "source": [
    "Expression of type <a class=\"ProveItLink\" href=\"../../../../../../../doc/html/api/proveit.Lambda.html\">Lambda</a>\n",
    "=======================\n",
    "# from context <a class=\"ProveItLink\" href=\"../../_context_.ipynb\">proveit.number.sets.integer</a>"
   ]
  },
  {
   "cell_type": "code",
   "execution_count": 1,
   "metadata": {},
   "outputs": [],
   "source": [
    "# import Expression classes needed to build the expression\n",
    "from proveit import Lambda\n",
    "from proveit._common_ import a\n",
    "from proveit.logic import InSet\n",
    "from proveit.number import NaturalsPos, RealsPos"
   ]
  },
  {
   "cell_type": "code",
   "execution_count": 2,
   "metadata": {},
   "outputs": [
    {
     "data": {
      "text/html": [
       "<strong id=\"expr\">expr:</strong> <a class=\"ProveItLink\" href=\"expr.ipynb\"><img src=\"data:image/png;base64,iVBORw0KGgoAAAANSUhEUgAAANYAAAAbCAMAAAA3S4F2AAAANlBMVEX///8UFBQNDQ0yMjKqqqrM\n",
       "zMzu7u4iIiJmZmaYmJhEREQQEBC6urp2dnaIiIhUVFTc3NwAAACAukRkAAAAAXRSTlMAQObYZgAA\n",
       "AmVJREFUWMPtmN2a4yAIht3FX2JE7/9m19hN2xToTJrMtgfLUZ40+PkqINaYf2r2cxVyfl0U14f5\n",
       "p7DwRT9HZ4geGuUHsDz4U0RLEQKovg2L0kmigTPM+V1YdfrulwkaYgOYoIiihY5i+UVhBE8MLdgj\n",
       "WDHuWbjap+7QwrIxBLAwdrtg+uYP7xamPvx4aoLCDpvyLqxlEdBXlEIkpMNYFNzfJJ0OBaFrekgU\n",
       "CN2AYc3OiFgRd2JxBco9BskdxipqajlIXt4tDSu1fViCArl+UIzaLGBVKnOeroUJtkV3c2wTKE4V\n",
       "vRaEpARhZsm1wXoQEBX6Rtky0otjDV+8LV14cL0fDUlxwqrlVg4Jrj/SJqDdE6xHAVFhib+YTSo3\n",
       "rFWhtrQN9AcsT3fjQZSdPMolY1pyQWnTass6FpuVqDDSipb0YslBY0XCrSb+/hU2Nt3Jhyg75Wn9\n",
       "+qFk5GhQaUt8szoWm5WoMLD8kl4Mq+GQcNpu9XJjGNajk9jijSCMWWv/nu4Wm5U4ysAybjZst2pb\n",
       "VsT2xfEyVryPaSDZyQf13AJfkoKl5xaflahwwTLJsrp+CYVe4awTsdzmxCZUnKRW8YLVl5mceMFp\n",
       "VcXiAqLCOvBcWeZB/9z24LregLadxzYxSlCcfMhagZ+tWMWen1tMQFZYX0VgsUClZIflW41LbppT\n",
       "heiEVhf7S0BoQjWc4QmWMCumkKFNuHa9x/r+5vTrNsG2Tn1hvCH9qifcq7CjuTzttu5Zap1y33rx\n",
       "yh/OGimh+Rwsg2f9eRTcJ2HVk0I7CffR8j4sY0/JrormwyydEYbRm/+22/4AlkcbGce/CRIAAAAA\n",
       "SUVORK5CYII=\n",
       "\" style=\"display:inline;vertical-align:middle;\" /></a><br>"
      ],
      "text/plain": [
       "expr: a -> (a in RealsPos) | a in NaturalsPos"
      ]
     },
     "execution_count": 2,
     "metadata": {},
     "output_type": "execute_result"
    }
   ],
   "source": [
    "# build up the expression from sub-expressions\n",
    "expr = Lambda(a, InSet(a, RealsPos), conditions = [InSet(a, NaturalsPos)])"
   ]
  },
  {
   "cell_type": "code",
   "execution_count": 3,
   "metadata": {},
   "outputs": [
    {
     "name": "stdout",
     "output_type": "stream",
     "text": [
      "Passed sanity check: built 'expr' is the same as the stored Expression.\n"
     ]
    }
   ],
   "source": [
    "# check that the built expression is the same as the stored expression\n",
    "%check_expr"
   ]
  },
  {
   "cell_type": "code",
   "execution_count": 4,
   "metadata": {},
   "outputs": [
    {
     "data": {
      "text/html": [
       "<table><tr><th>&nbsp;</th><th>core type</th><th>sub-expressions</th><th>expression</th></tr>\n",
       "<tr><td>0</td><td>Lambda</td><td>parameter:&nbsp;8<br>body:&nbsp;1<br>conditions:&nbsp;2<br></td><td><a class=\"ProveItLink\" href=\"expr.ipynb\"><img src=\"data:image/png;base64,iVBORw0KGgoAAAANSUhEUgAAANYAAAAbCAMAAAA3S4F2AAAANlBMVEX///8UFBQNDQ0yMjKqqqrM\n",
       "zMzu7u4iIiJmZmaYmJhEREQQEBC6urp2dnaIiIhUVFTc3NwAAACAukRkAAAAAXRSTlMAQObYZgAA\n",
       "AmVJREFUWMPtmN2a4yAIht3FX2JE7/9m19hN2xToTJrMtgfLUZ40+PkqINaYf2r2cxVyfl0U14f5\n",
       "p7DwRT9HZ4geGuUHsDz4U0RLEQKovg2L0kmigTPM+V1YdfrulwkaYgOYoIiihY5i+UVhBE8MLdgj\n",
       "WDHuWbjap+7QwrIxBLAwdrtg+uYP7xamPvx4aoLCDpvyLqxlEdBXlEIkpMNYFNzfJJ0OBaFrekgU\n",
       "CN2AYc3OiFgRd2JxBco9BskdxipqajlIXt4tDSu1fViCArl+UIzaLGBVKnOeroUJtkV3c2wTKE4V\n",
       "vRaEpARhZsm1wXoQEBX6Rtky0otjDV+8LV14cL0fDUlxwqrlVg4Jrj/SJqDdE6xHAVFhib+YTSo3\n",
       "rFWhtrQN9AcsT3fjQZSdPMolY1pyQWnTass6FpuVqDDSipb0YslBY0XCrSb+/hU2Nt3Jhyg75Wn9\n",
       "+qFk5GhQaUt8szoWm5WoMLD8kl4Mq+GQcNpu9XJjGNajk9jijSCMWWv/nu4Wm5U4ysAybjZst2pb\n",
       "VsT2xfEyVryPaSDZyQf13AJfkoKl5xaflahwwTLJsrp+CYVe4awTsdzmxCZUnKRW8YLVl5mceMFp\n",
       "VcXiAqLCOvBcWeZB/9z24LregLadxzYxSlCcfMhagZ+tWMWen1tMQFZYX0VgsUClZIflW41LbppT\n",
       "heiEVhf7S0BoQjWc4QmWMCumkKFNuHa9x/r+5vTrNsG2Tn1hvCH9qifcq7CjuTzttu5Zap1y33rx\n",
       "yh/OGimh+Rwsg2f9eRTcJ2HVk0I7CffR8j4sY0/JrormwyydEYbRm/+22/4AlkcbGce/CRIAAAAA\n",
       "SUVORK5CYII=\n",
       "\" style=\"display:inline;vertical-align:middle;\" /></a></td></tr>\n",
       "<tr><td>1</td><td>Operation</td><td>operator:&nbsp;6<br>operands:&nbsp;3<br></td><td><a class=\"ProveItLink\" href=\"../71bd6f81165cc3928e972249019c289e9825e17f0/expr.ipynb\"><img src=\"data:image/png;base64,iVBORw0KGgoAAAANSUhEUgAAAD8AAAAUBAMAAADIGvgZAAAAMFBMVEX///8yMjKqqqrMzMzu7u4i\n",
       "IiJmZmaYmJhEREQQEBC6urp2dnaIiIhUVFTc3NwAAAD87Fq/AAAAAXRSTlMAQObYZgAAANhJREFU\n",
       "KM9jYMADmBgIAI4BU1D4o19w4gF8JjS8ZbBQfMBwUVBSUPAAVgXPGDj8GjBNYDkYGioAVcBtgEWB\n",
       "YQnCBGQFfHd2zQPTLUhW8CJZsfIBxwewkx8gKVhaCOLxgjV+Z2ADqWbwQDjyZWigApzH+4GBFeyX\n",
       "laGhcEcu43CAK+BvYPA3ADFskbzJtvgCnPf+AIM+A0i9K3I4iByH8/wVGC4ygYzgLUBSYMtrAOMx\n",
       "FjCFcYPDKQpJAbdCH4zHd+eUxSkw62EyPLKaGSTkFTDjQFcU4gsUAAAUIT43V4V2BQAAAABJRU5E\n",
       "rkJggg==\n",
       "\" style=\"display:inline;vertical-align:middle;\" /></a></td></tr>\n",
       "<tr><td>2</td><td>ExprTuple</td><td>4</td><td><a class=\"ProveItLink\" href=\"../12957ba5983d78ba5bc6241148699b12df1a8c520/expr.ipynb\"><img src=\"data:image/png;base64,iVBORw0KGgoAAAANSUhEUgAAAE4AAAAbBAMAAAAgx6RqAAAAMFBMVEX///+qqqp2dnYiIiJERESI\n",
       "iIhmZmYQEBDc3NyYmJgyMjLu7u5UVFTMzMy6uroAAACGxKilAAAAAXRSTlMAQObYZgAAAYNJREFU\n",
       "OMuNkr9Lw1AQx79pa02apO0fINjRSYRAcVHi6A8kICKIFMFRlI6OHZxcrODmEhAUWoeATl1aUAcL\n",
       "kSCdpKBbwUErCipS8V1skyeEpge5d5f3efcu3wvQ3wQ/fO7HxchlyKm1UK5JrmKFckMGczcI5TAJ\n",
       "iPmA3cr7nIWNt3SPWwPi60FlZlUdaKNeOi2V2KVVC8OPQdylswzkvXujRTzw2/KqppkU3JYVh+Pi\n",
       "OlZ47v6oG9hNucxxEmuBLeL1+A6l4nzvgC0YDY5LfmOBLa1CrO2KUPA4bEsGcYqbqh2csDJf1ACz\n",
       "C/icYtm+YuIPsuxMG1FSHC1N636HDblW8Tn5lbiUjqrjzbFbD3fqv3pnwL6BUdCUz3lOSus+18EV\n",
       "UzuNukAFlSLHYcznkp9YAhJFIRtx25jubSySuKbHMf1eSL5cI+fme1t/758+WC3Z5yImUg4/kJFj\n",
       "zQwYd8KAkkG4VQtQJwbgDtkzMwA3Rb2HYxL9y0J4g7uuPwjlNjGw/QK83F8MsS1u0QAAAABJRU5E\n",
       "rkJggg==\n",
       "\" style=\"display:inline;vertical-align:middle;\" /></a></td></tr>\n",
       "<tr><td>3</td><td>ExprTuple</td><td>8, 5</td><td><a class=\"ProveItLink\" href=\"../7df4ded84196dd8f547c807aa27e9742cd43f5c10/expr.ipynb\"><img src=\"data:image/png;base64,iVBORw0KGgoAAAANSUhEUgAAAD4AAAAbBAMAAADWjiHyAAAAMFBMVEX///+qqqp2dnYiIiJERESI\n",
       "iIhmZmYQEBDc3NyYmJgyMjLu7u5UVFTMzMy6uroAAACGxKilAAAAAXRSTlMAQObYZgAAAU1JREFU\n",
       "KM9jYMAOGBHMd9jkWUCEAojgPYBT/g6I2LUBpzxrAJA4yYBTnsGCgYGjAEl01hf/VVUBCPkYBga2\n",
       "BGRtDj0MV6QaGE6tWr5qFVDd/g0M7A9Q5NsYWHY4wPUzT2C4z4Amz3QBIc/mwBCOT57zA8MpIMVx\n",
       "VK8CLs+DZD7fbwYfIPW8geUDXP7xrAYggwfM5f3LsAyo/SfIIoh8u7GVAMI6jn8MZkC1HxiYA2D6\n",
       "n7EghSf3R5A8vwPD/gsweba3B1D0r2Fg6A9gkGfYALN/dSSS/F+GI8BQEmA4xXiBGyp/h+cCXJ7v\n",
       "B0MwAwPXBEYzJob9BlD/C3jA5YH+fw/yftyVOIbtP8Dx48uwZD3cB0wLGPjhpr3AjGWuAAYeBRhn\n",
       "Aqb8/gYGXgM88lOA2BHKZsWSimyBuIsBJ+AEpR1GBZzyLWByIk75bAaCAAAXRlb+wWxpoAAAAABJ\n",
       "RU5ErkJggg==\n",
       "\" style=\"display:inline;vertical-align:middle;\" /></a></td></tr>\n",
       "<tr><td>4</td><td>Operation</td><td>operator:&nbsp;6<br>operands:&nbsp;7<br></td><td><a class=\"ProveItLink\" href=\"../12dd556c18372ffa5a86a0a8bde7d7d68d4b9b2f0/expr.ipynb\"><img src=\"data:image/png;base64,iVBORw0KGgoAAAANSUhEUgAAAD8AAAAUBAMAAADIGvgZAAAAMFBMVEX///8yMjKqqqrMzMzu7u4i\n",
       "IiJmZmaYmJhEREQQEBC6urp2dnaIiIhUVFTc3NwAAAD87Fq/AAAAAXRSTlMAQObYZgAAAOpJREFU\n",
       "KM9jYMADmBgIAI4BU+D4o9GBIfWrAm4T2pkbGBg+MFwUlBQUPIBNwVWDMwwMEzCtYDkYGioAYtwS\n",
       "4TXApsCwBMq4bMsigqSA786ueWC6BabyMtMBCyQFKx9wfAD76QFcAUMW+wGQAl6wxu8MbA0ghgcD\n",
       "QgGvw+UJMB7vBwZWsF9WhoZCHXmZgeWCI1wBfwODvwGIYYtkAoM1M1zB+wMM+gwOQIYrsgJ2hQYY\n",
       "z1+B4SITyAjeAiQFDPvgChgLmMK4weEUBRPqAmI2ARiP784pi1Ng1sNkiMjCn0DdLAJY4kBXNBRT\n",
       "GAAhQDjQGds0wgAAAABJRU5ErkJggg==\n",
       "\" style=\"display:inline;vertical-align:middle;\" /></a></td></tr>\n",
       "<tr><td>5</td><td>Literal</td><td></td><td><a class=\"ProveItLink\" href=\"../../../real/__pv_it/399ccec6a6e90df280e82734a8711cdb89199bc00/expr.ipynb\"><img src=\"data:image/png;base64,iVBORw0KGgoAAAANSUhEUgAAABsAAAATBAMAAACTqWsLAAAAMFBMVEX///8iIiK6urp2dnbu7u5m\n",
       "ZmaqqqrMzMxUVFTc3NyIiIgQEBBEREQyMjKYmJgAAAA9nvXMAAAAAXRSTlMAQObYZgAAAGxJREFU\n",
       "GNNjYIADNgYUwEMy9+2f83f3LkDIHpjBUJM7gaH37u27d4HCB6Yy8HgeQMhOZWAuwMflQFWs+HYC\n",
       "kMEB4c4WlE1A2H5gqiqPAzKXVb0BmctwZR0Kt4KjAJnLnHASxgN64TjDnftQswFmaSyXIBgH2QAA\n",
       "AABJRU5ErkJggg==\n",
       "\" style=\"display:inline;vertical-align:middle;\" /></a></td></tr>\n",
       "<tr><td>6</td><td>Literal</td><td></td><td><a class=\"ProveItLink\" href=\"../../../../../logic/set_theory/membership/__pv_it/088cbc857536a28d4119ad9639a84270ccb0545d0/expr.ipynb\"><img src=\"data:image/png;base64,iVBORw0KGgoAAAANSUhEUgAAAAwAAAAMBAMAAACkW0HUAAAALVBMVEX///+qqqpmZmZUVFQQEBC6\n",
       "urpERETc3NyYmJjMzMwiIiIyMjKIiIju7u4AAACYsrA9AAAAAXRSTlMAQObYZgAAADxJREFUCNdj\n",
       "YOA9vWrVBgaG2b0MQMCeCyIZ2ArA1DUwyRCyahVIyWQI7xaEYm4AU7xLIdxqTQgtvGvVBgCkcQ7e\n",
       "geM/tQAAAABJRU5ErkJggg==\n",
       "\" style=\"display:inline;vertical-align:middle;\" /></a></td></tr>\n",
       "<tr><td>7</td><td>ExprTuple</td><td>8, 9</td><td><a class=\"ProveItLink\" href=\"../138086bec9c7cd7ae91abca3a5893cc380c3eb300/expr.ipynb\"><img src=\"data:image/png;base64,iVBORw0KGgoAAAANSUhEUgAAAD4AAAAbBAMAAADWjiHyAAAAMFBMVEX///+qqqp2dnYiIiJERESI\n",
       "iIhmZmYQEBDc3NyYmJgyMjLu7u5UVFTMzMy6uroAAACGxKilAAAAAXRSTlMAQObYZgAAAVdJREFU\n",
       "KM+F0j1Lw0AYB/B/+mbTJG2+gRmdpFNxEeKoiAREXKQIjoJ0dOzg5GIEP0AnhdQhm5AlBXWwUAnS\n",
       "saCb4qARBStS8bmS9BKa6ME99/LLc8ddDkguAu++JHmOBY0FpZPqAxYcO9XzBoUbpDoWgGIjMut8\n",
       "rNjYeVdD3wIK29G0ZUUHfHStM8uixV0bMw9Rv/Q2gMZk/ayJ+9i2t23Zi3hBx2bMewOpHXGRtqKm\n",
       "eD2/H7hg9CNe/sYqNY/NnB849kSDuTweKiOcUvoX2yhw2e7xExd/UKNvfWSN0KWOw116Y17R4Xqh\n",
       "406J5Z8DRwZmYYcuqjr3Ea7ollR0BU8KHHPcy0OsAyVTqGXgVmlijV1Ka+J0/ld2/Hq/josh8PxJ\n",
       "uRL3TAsVLxw8Tf/lkgFZCwfmtLtNKNU//ITqUtDPJ7yiRaqHSC0iezuCluoH43ic6rv4t/wC9F1Y\n",
       "B6PU2xsAAAAASUVORK5CYII=\n",
       "\" style=\"display:inline;vertical-align:middle;\" /></a></td></tr>\n",
       "<tr><td>8</td><td>Variable</td><td></td><td><a class=\"ProveItLink\" href=\"../../../../../__pv_it/07527342713064c87612d00d8557c53d53d5324a0/expr.ipynb\"><img src=\"data:image/png;base64,iVBORw0KGgoAAAANSUhEUgAAAAsAAAAJBAMAAAAWSsseAAAAMFBMVEX///8yMjKqqqrMzMzu7u4i\n",
       "IiJmZmaYmJhEREQQEBC6urp2dnaIiIhUVFTc3NwAAAD87Fq/AAAAAXRSTlMAQObYZgAAAEhJREFU\n",
       "CNdjYOC7s2seAwPDygccHxgY+L4zsDUwMPB+YGA9wMDA38Dgb8DA8P4Agz6DA4O/AsNFJgMGxgKm\n",
       "MG6gyjunLE4xAAAZTBA5TB6DCwAAAABJRU5ErkJggg==\n",
       "\" style=\"display:inline;vertical-align:middle;\" /></a></td></tr>\n",
       "<tr><td>9</td><td>Literal</td><td></td><td><a class=\"ProveItLink\" href=\"../42d4bc2e45d5054d807f2641a228c1b440fb8de30/expr.ipynb\"><img src=\"data:image/png;base64,iVBORw0KGgoAAAANSUhEUgAAABsAAAATBAMAAACTqWsLAAAAMFBMVEX////c3Nx2dna6uroQEBCI\n",
       "iIhUVFTMzMyYmJiqqqoiIiJmZmZEREQyMjLu7u4AAADjlg78AAAAAXRSTlMAQObYZgAAAHZJREFU\n",
       "GNNjYIADTgYUwEMy9+2fsw8Ydv2aAJM9wX6AgeEDQ+7dK3fvBjAwZBWEMjA4wPUm32MrQOKml/Hd\n",
       "Q+ZyBtQgcxk2cwSAuGxQLtuDdAe47ekMfAlvkbkMRewoXI4JB5C5DIoI7mEg5r4A49l+AcrwwbgA\n",
       "axoiJO4Xc9gAAAAASUVORK5CYII=\n",
       "\" style=\"display:inline;vertical-align:middle;\" /></a></td></tr>\n",
       "</table>\n"
      ],
      "text/plain": [
       "0. a -> (a in RealsPos) | a in NaturalsPos\n",
       "   core type: Lambda\n",
       "   parameter: 8\n",
       "   body: 1\n",
       "   conditions: 2\\n1. a in RealsPos\n",
       "   core type: Operation\n",
       "   operator: 6\n",
       "   operands: 3\n",
       "2. (a in NaturalsPos)\n",
       "   core type: ExprTuple\n",
       "   sub-expressions: 4\n",
       "3. (a , RealsPos)\n",
       "   core type: ExprTuple\n",
       "   sub-expressions: 8, 5\n",
       "4. a in NaturalsPos\n",
       "   core type: Operation\n",
       "   operator: 6\n",
       "   operands: 7\n",
       "5. RealsPos\n",
       "   core type: Literal\n",
       "   sub-expressions: \n",
       "6. in\n",
       "   core type: Literal\n",
       "   sub-expressions: \n",
       "7. (a , NaturalsPos)\n",
       "   core type: ExprTuple\n",
       "   sub-expressions: 8, 9\n",
       "8. a\n",
       "   core type: Variable\n",
       "   sub-expressions: \n",
       "9. NaturalsPos\n",
       "   core type: Literal\n",
       "   sub-expressions: "
      ]
     },
     "execution_count": 4,
     "metadata": {},
     "output_type": "execute_result"
    }
   ],
   "source": [
    "# display the expression information\n",
    "expr.exprInfo()"
   ]
  },
  {
   "cell_type": "code",
   "execution_count": null,
   "metadata": {},
   "outputs": [],
   "source": []
  }
 ],
 "metadata": {
  "kernelspec": {
   "display_name": "Python 3",
   "language": "python",
   "name": "python3"
  }
 },
 "nbformat": 4,
 "nbformat_minor": 0
}
