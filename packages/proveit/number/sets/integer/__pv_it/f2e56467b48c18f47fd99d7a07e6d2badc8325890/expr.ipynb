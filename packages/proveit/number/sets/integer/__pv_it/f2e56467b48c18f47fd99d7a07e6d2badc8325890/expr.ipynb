{
 "cells": [
  {
   "cell_type": "markdown",
   "metadata": {},
   "source": [
    "Expression of type <a class=\"ProveItLink\" href=\"../../../../../../../doc/html/api/proveit.Lambda.html\">Lambda</a>\n",
    "=======================\n",
    "# from context <a class=\"ProveItLink\" href=\"../../_context_.ipynb\">proveit.number.sets.integer</a>"
   ]
  },
  {
   "cell_type": "code",
   "execution_count": 1,
   "metadata": {},
   "outputs": [],
   "source": [
    "# import Expression classes needed to build the expression\n",
    "from proveit import Lambda\n",
    "from proveit._common_ import AA\n",
    "from proveit.logic import Equals"
   ]
  },
  {
   "cell_type": "code",
   "execution_count": 2,
   "metadata": {},
   "outputs": [
    {
     "data": {
      "text/html": [
       "<strong id=\"expr\">expr:</strong> <a class=\"ProveItLink\" href=\"expr.ipynb\"><img src=\"data:image/png;base64,iVBORw0KGgoAAAANSUhEUgAAAH4AAAAVCAMAAAC3zqojAAAANlBMVEX///8UFBQNDQ2YmJhmZmZE\n",
       "RES6urrc3Nzu7u4QEBCIiIgyMjJUVFR2dnYiIiKqqqrMzMwAAACALMBcAAAAAXRSTlMAQObYZgAA\n",
       "AWBJREFUSMfNltmShCAMRTMDsqPk/3923ICkhSqkX+a+XKj2GAghNsC/UcJt+FnlZsiDEuoaZy9a\n",
       "MQ6vNMyQFyXTNct+KyKG0fDezJA35fOUJxBxHYzu3AyZKRG5X2vZ94CD4S3b/CiZKWO5n0tbwSKa\n",
       "sQpiaRslK7Vs3AE0JvCItRpZBNhYZUuatQfZU6Wi5L4vZB9JRFGLmbOB7s4LMnmQID1RaFCb5w7i\n",
       "OAaHKHvhTdDkEMlWn2T36AulLHdztg2FuJSHf39WJkvSS4YNsqdKJeQe0O5i9+fzJgXVelGLfB1+\n",
       "s8ns0vT+fLxOaprGUogtEiTN2tKgePJN/mFF1O3wifWZJRdRk+ypUCA8cR3yChesnw7HK4+357vO\n",
       "2mRP9ZrRi4eHzHmMp9JA27lS85JUJaFecX8rq7+hWk33lUT8hoqO+3t5M0+Zu/CMn/5jpMM8lftn\n",
       "0DAf381S7q7Q0/8A3P0TNgthwowAAAAASUVORK5CYII=\n",
       "\" style=\"display:inline;vertical-align:middle;\" /></a><br>"
      ],
      "text/plain": [
       "expr: A -> (A = ())"
      ]
     },
     "execution_count": 2,
     "metadata": {},
     "output_type": "execute_result"
    }
   ],
   "source": [
    "# build up the expression from sub-expressions\n",
    "expr = Lambda(AA, Equals(AA, []))"
   ]
  },
  {
   "cell_type": "code",
   "execution_count": 3,
   "metadata": {},
   "outputs": [
    {
     "name": "stdout",
     "output_type": "stream",
     "text": [
      "Passed sanity check: built 'expr' is the same as the stored Expression.\n"
     ]
    }
   ],
   "source": [
    "# check that the built expression is the same as the stored expression\n",
    "%check_expr"
   ]
  },
  {
   "cell_type": "code",
   "execution_count": 4,
   "metadata": {},
   "outputs": [
    {
     "data": {
      "text/html": [
       "<table><tr><th>&nbsp;</th><th>core type</th><th>sub-expressions</th><th>expression</th></tr>\n",
       "<tr><td>0</td><td>Lambda</td><td>parameter:&nbsp;4<br>body:&nbsp;1<br></td><td><a class=\"ProveItLink\" href=\"expr.ipynb\"><img src=\"data:image/png;base64,iVBORw0KGgoAAAANSUhEUgAAAH4AAAAVCAMAAAC3zqojAAAANlBMVEX///8UFBQNDQ2YmJhmZmZE\n",
       "RES6urrc3Nzu7u4QEBCIiIgyMjJUVFR2dnYiIiKqqqrMzMwAAACALMBcAAAAAXRSTlMAQObYZgAA\n",
       "AWBJREFUSMfNltmShCAMRTMDsqPk/3923ICkhSqkX+a+XKj2GAghNsC/UcJt+FnlZsiDEuoaZy9a\n",
       "MQ6vNMyQFyXTNct+KyKG0fDezJA35fOUJxBxHYzu3AyZKRG5X2vZ94CD4S3b/CiZKWO5n0tbwSKa\n",
       "sQpiaRslK7Vs3AE0JvCItRpZBNhYZUuatQfZU6Wi5L4vZB9JRFGLmbOB7s4LMnmQID1RaFCb5w7i\n",
       "OAaHKHvhTdDkEMlWn2T36AulLHdztg2FuJSHf39WJkvSS4YNsqdKJeQe0O5i9+fzJgXVelGLfB1+\n",
       "s8ns0vT+fLxOaprGUogtEiTN2tKgePJN/mFF1O3wifWZJRdRk+ypUCA8cR3yChesnw7HK4+357vO\n",
       "2mRP9ZrRi4eHzHmMp9JA27lS85JUJaFecX8rq7+hWk33lUT8hoqO+3t5M0+Zu/CMn/5jpMM8lftn\n",
       "0DAf381S7q7Q0/8A3P0TNgthwowAAAAASUVORK5CYII=\n",
       "\" style=\"display:inline;vertical-align:middle;\" /></a></td></tr>\n",
       "<tr><td>1</td><td>Operation</td><td>operator:&nbsp;2<br>operands:&nbsp;3<br></td><td><a class=\"ProveItLink\" href=\"../0270a6f1fdae669af9d4a157038c14d06b9228bc0/expr.ipynb\"><img src=\"data:image/png;base64,iVBORw0KGgoAAAANSUhEUgAAADsAAAAVBAMAAAAKrYvGAAAAMFBMVEX///+YmJhmZmZERES6urrc\n",
       "3Nzu7u4QEBCIiIgyMjJUVFR2dnYiIiKqqqrMzMwAAAD8et6HAAAAAXRSTlMAQObYZgAAAOxJREFU\n",
       "KM9jYCAC8P3FFPNgEIExeX5j6ljAwPQAyt7/C0OaM4GBYQJU5f8/GNIdQCwNVbn/P4Z0GRCnQ5g9\n",
       "7P8T0GRZQAYzXwAxWf9x/ndAk2baACS4FUBMZgWm/wJgsZlgsABkH0iAF+w2cQaO/wpoutlBxrEU\n",
       "AAm2vwws/w3QpPlB0nwfgATX9/L6/wdwSl9/lpb6/wPY7jNgADKJ/QLUcLZaIOP8VzTdzCCnMQKd\n",
       "FgVSbI8eJ2A/AQn+/8AgWf///z+0YAE5htMBZxyXIgIVGwBFxw7c0sAIZZuAW5p1AQNXAJ4EFsHQ\n",
       "x8AAAER9Pp6cccGsAAAAAElFTkSuQmCC\n",
       "\" style=\"display:inline;vertical-align:middle;\" /></a></td></tr>\n",
       "<tr><td>2</td><td>Literal</td><td></td><td><a class=\"ProveItLink\" href=\"../../../../../logic/equality/__pv_it/2fb26078095930560931daa0500ce419a39ea6cd0/expr.ipynb\"><img src=\"data:image/png;base64,iVBORw0KGgoAAAANSUhEUgAAAA4AAAAFBAMAAACHocAhAAAAFVBMVEX///9EREQiIiJUVFQyMjJm\n",
       "ZmYAAADubVkoAAAAAXRSTlMAQObYZgAAABRJREFUCNdjCHEBAWcGXCBICQQUAUpuAwlgGKrkAAAA\n",
       "AElFTkSuQmCC\n",
       "\" style=\"display:inline;vertical-align:middle;\" /></a></td></tr>\n",
       "<tr><td>3</td><td>ExprTuple</td><td>4, 5</td><td><a class=\"ProveItLink\" href=\"../15eecfbbe1405bc10d5e003e1299a97a31fb61150/expr.ipynb\"><img src=\"data:image/png;base64,iVBORw0KGgoAAAANSUhEUgAAADcAAAAVBAMAAAAQkWtIAAAAMFBMVEX////c3NwiIiJERESqqqqY\n",
       "mJh2dnZmZmYQEBDu7u4yMjJUVFTMzMyIiIi6uroAAAAs73DqAAAAAXRSTlMAQObYZgAAASxJREFU\n",
       "KM99kj9Lw1AUxU+MMX+axu5F8Bvo4mxHRydxkm5O0kydFRx0sXHTLYtDt34DXcWlOCsUR0FoSxDB\n",
       "4u29973YUMHA773knMe5970X4N8nGeoUF7/KB454FPBklJXP0osH8B+goG+kzndpRhmQQ6nbVJqW\n",
       "5itzYAgys7xDpXnJ3BjejfIcUGYblEi3pXRVcWYRjYzpt3lYS5U7VdzUp33bj8yruXKlyiHqlBoz\n",
       "kITkVPkRISyQ0LYx18WMx4qata+LHm3+Nc9F2Hu8vaaxjW0tYnckVVZsTQDZjSsNeblyzK9NKbdb\n",
       "IJzaXZRbeeMqxAdwTzQLew1Ok9rRSAka1euTj7PF8XntiunBHvqJpb9s8pWF3I+AZsXU63MGqHG8\n",
       "AGe4/ONs4IVHZg58YFVvymW/lAAAAABJRU5ErkJggg==\n",
       "\" style=\"display:inline;vertical-align:middle;\" /></a></td></tr>\n",
       "<tr><td>4</td><td>Variable</td><td></td><td><a class=\"ProveItLink\" href=\"../../../../../__pv_it/eb438fefc4bd0ac977777d6dfd3e8a72dfbedbd50/expr.ipynb\"><img src=\"data:image/png;base64,iVBORw0KGgoAAAANSUhEUgAAABIAAAAPBAMAAAAbqIIhAAAAMFBMVEX///+YmJhmZmZERES6urrc\n",
       "3Nzu7u4QEBCIiIgyMjJUVFR2dnYiIiKqqqrMzMwAAAD8et6HAAAAAXRSTlMAQObYZgAAAGpJREFU\n",
       "CNdjYAABvr8MUMDzG8ba/wvK4Pv/B8ri3P8fyuph/58AZrD+4/zvAGYxKzD9FwCzxBk4/iuAGGx/\n",
       "GVj+G4BYXN/L6/8fALGuP0tL/f8BJFkLJM5/BRJRICX2QCfw/weauv7//38AzEYi08a6/oIAAAAA\n",
       "SUVORK5CYII=\n",
       "\" style=\"display:inline;vertical-align:middle;\" /></a></td></tr>\n",
       "<tr><td>5</td><td>ExprTuple</td><td></td><td><a class=\"ProveItLink\" href=\"../feb17bb8e989ce470672228f3fb01ca3e9677f560/expr.ipynb\"><img src=\"data:image/png;base64,iVBORw0KGgoAAAANSUhEUgAAAAwAAAAVBAMAAACAghKHAAAAMFBMVEX////c3NwiIiJERESqqqqY\n",
       "mJh2dnZmZmYQEBDu7u4yMjJUVFTMzMyIiIi6uroAAAAs73DqAAAAAXRSTlMAQObYZgAAAG1JREFU\n",
       "CNdjYIACvgusD4DUaQaGGiC1koGBi4GB9wIDA2sCA8cEBgbOBoZXIGUmDGUgKp1hKYjyYugDUS8Y\n",
       "/oGo8zCqBSJoCqKigGrBGh6BqHUMHAJgw4DGMrBdAFs0CyguzcCwEUgxXuA9wAAApdcX/S64IkwA\n",
       "AAAASUVORK5CYII=\n",
       "\" style=\"display:inline;vertical-align:middle;\" /></a></td></tr>\n",
       "</table>\n"
      ],
      "text/plain": [
       "0. A -> (A = ())\n",
       "   core type: Lambda\n",
       "   parameter: 4\n",
       "   body: 1\n",
       "1. A = ()\n",
       "   core type: Operation\n",
       "   operator: 2\n",
       "   operands: 3\n",
       "2. =\n",
       "   core type: Literal\n",
       "   sub-expressions: \n",
       "3. (A , ())\n",
       "   core type: ExprTuple\n",
       "   sub-expressions: 4, 5\n",
       "4. A\n",
       "   core type: Variable\n",
       "   sub-expressions: \n",
       "5. ()\n",
       "   core type: ExprTuple\n",
       "   sub-expressions: "
      ]
     },
     "execution_count": 4,
     "metadata": {},
     "output_type": "execute_result"
    }
   ],
   "source": [
    "# display the expression information\n",
    "expr.exprInfo()"
   ]
  },
  {
   "cell_type": "code",
   "execution_count": null,
   "metadata": {},
   "outputs": [],
   "source": []
  }
 ],
 "metadata": {
  "kernelspec": {
   "display_name": "Python 3",
   "language": "python",
   "name": "python3"
  }
 },
 "nbformat": 4,
 "nbformat_minor": 0
}
