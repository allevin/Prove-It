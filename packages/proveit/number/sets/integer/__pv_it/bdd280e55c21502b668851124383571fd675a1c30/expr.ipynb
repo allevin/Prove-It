{
 "cells": [
  {
   "cell_type": "markdown",
   "metadata": {},
   "source": [
    "Expression of type <a class=\"ProveItLink\" href=\"../../../../../../../doc/html/api/proveit.logic.Equals.html\">Equals</a>\n",
    "=======================\n",
    "# from context <a class=\"ProveItLink\" href=\"../../_context_.ipynb\">proveit.number.sets.integer</a>"
   ]
  },
  {
   "cell_type": "code",
   "execution_count": 1,
   "metadata": {},
   "outputs": [],
   "source": [
    "# import Expression classes needed to build the expression\n",
    "from proveit.logic import Equals, TRUE\n",
    "from proveit.number.sets.integer._theorems_ import zeroInNats"
   ]
  },
  {
   "cell_type": "code",
   "execution_count": 2,
   "metadata": {},
   "outputs": [
    {
     "data": {
      "text/html": [
       "<strong id=\"expr\">expr:</strong> <a class=\"ProveItLink\" href=\"expr.ipynb\"><img src=\"data:image/png;base64,iVBORw0KGgoAAAANSUhEUgAAAGwAAAAVBAMAAABRZRb3AAAAMFBMVEX////c3NwiIiJERESqqqqY\n",
       "mJh2dnZmZmYQEBDu7u4yMjJUVFTMzMyIiIi6uroAAAAs73DqAAAAAXRSTlMAQObYZgAAAXJJREFU\n",
       "OMudlD1Iw1AQx/+1TWtMWjvrYInOpUsHHaS7i5PgInVyKpQODiLSwVlKHRo6BcEhuhTnUAJCBbtk\n",
       "FgviJJ3qJy6K716/0upl8ODCcf/8ckfu3gP+aQmP13Z4qQ3UOoeTufrrWgWll1zMnX67ZJAtAzaQ\n",
       "RnVKz+oZoAdYf9S5oUfcQzyF+JR+5XaAMrDFYbMVzDSQeJYZ9c4w5AeatuYSZnJYF5gvQn+Tmdvt\n",
       "geS0VZuwcI7B9oGlPPQvikOrQ8mJeNeERYsMdt7HPigOJ0cYjhRPYBHZ8sEF2aUfO/FhpxhjWsUR\n",
       "WKLMVPv2NflEM7H6mNqoC0Tv8Rj9kvfB5EfV0NKDsGPQACJyAFU/puQywyZHqzHGsqBxR1MUa5s+\n",
       "DLsCUyym2p7wFZhyudT0UFoXHrMCBvAovFZw+pmFwUp3P0UlVWBzD7+xllyupD+1cWZMtGVy50bJ\n",
       "Bx3GAqvYAZRqsdJiAKYlWSkUcCncc8IPpKhn3oOL6acAAAAASUVORK5CYII=\n",
       "\" style=\"display:inline;vertical-align:middle;\" /></a><br>"
      ],
      "text/plain": [
       "expr: (0 in Naturals) = TRUE"
      ]
     },
     "execution_count": 2,
     "metadata": {},
     "output_type": "execute_result"
    }
   ],
   "source": [
    "# build up the expression from sub-expressions\n",
    "expr = Equals(zeroInNats.expr, TRUE)"
   ]
  },
  {
   "cell_type": "code",
   "execution_count": 3,
   "metadata": {},
   "outputs": [
    {
     "name": "stdout",
     "output_type": "stream",
     "text": [
      "Passed sanity check: built 'expr' is the same as the stored Expression.\n"
     ]
    }
   ],
   "source": [
    "# check that the built expression is the same as the stored expression\n",
    "%check_expr"
   ]
  },
  {
   "cell_type": "code",
   "execution_count": 4,
   "metadata": {},
   "outputs": [
    {
     "data": {
      "text/html": [
       "<table><tr><th>&nbsp;</th><th>core type</th><th>sub-expressions</th><th>expression</th></tr>\n",
       "<tr><td>0</td><td>Operation</td><td>operator:&nbsp;1<br>operands:&nbsp;2<br></td><td><a class=\"ProveItLink\" href=\"expr.ipynb\"><img src=\"data:image/png;base64,iVBORw0KGgoAAAANSUhEUgAAAGwAAAAVBAMAAABRZRb3AAAAMFBMVEX////c3NwiIiJERESqqqqY\n",
       "mJh2dnZmZmYQEBDu7u4yMjJUVFTMzMyIiIi6uroAAAAs73DqAAAAAXRSTlMAQObYZgAAAXJJREFU\n",
       "OMudlD1Iw1AQx/+1TWtMWjvrYInOpUsHHaS7i5PgInVyKpQODiLSwVlKHRo6BcEhuhTnUAJCBbtk\n",
       "FgviJJ3qJy6K716/0upl8ODCcf/8ckfu3gP+aQmP13Z4qQ3UOoeTufrrWgWll1zMnX67ZJAtAzaQ\n",
       "RnVKz+oZoAdYf9S5oUfcQzyF+JR+5XaAMrDFYbMVzDSQeJYZ9c4w5AeatuYSZnJYF5gvQn+Tmdvt\n",
       "geS0VZuwcI7B9oGlPPQvikOrQ8mJeNeERYsMdt7HPigOJ0cYjhRPYBHZ8sEF2aUfO/FhpxhjWsUR\n",
       "WKLMVPv2NflEM7H6mNqoC0Tv8Rj9kvfB5EfV0NKDsGPQACJyAFU/puQywyZHqzHGsqBxR1MUa5s+\n",
       "DLsCUyym2p7wFZhyudT0UFoXHrMCBvAovFZw+pmFwUp3P0UlVWBzD7+xllyupD+1cWZMtGVy50bJ\n",
       "Bx3GAqvYAZRqsdJiAKYlWSkUcCncc8IPpKhn3oOL6acAAAAASUVORK5CYII=\n",
       "\" style=\"display:inline;vertical-align:middle;\" /></a></td></tr>\n",
       "<tr><td>1</td><td>Literal</td><td></td><td><a class=\"ProveItLink\" href=\"../../../../../logic/equality/__pv_it/2fb26078095930560931daa0500ce419a39ea6cd0/expr.ipynb\"><img src=\"data:image/png;base64,iVBORw0KGgoAAAANSUhEUgAAAA4AAAAFBAMAAACHocAhAAAAFVBMVEX///9EREQiIiJUVFQyMjJm\n",
       "ZmYAAADubVkoAAAAAXRSTlMAQObYZgAAABRJREFUCNdjCHEBAWcGXCBICQQUAUpuAwlgGKrkAAAA\n",
       "AElFTkSuQmCC\n",
       "\" style=\"display:inline;vertical-align:middle;\" /></a></td></tr>\n",
       "<tr><td>2</td><td>ExprTuple</td><td>3, 4</td><td><a class=\"ProveItLink\" href=\"../41448ba6f3c460a7540dbf3410eaed780a238c190/expr.ipynb\"><img src=\"data:image/png;base64,iVBORw0KGgoAAAANSUhEUgAAAFgAAAAVBAMAAAAwfTS1AAAAMFBMVEX////c3NwiIiJERESqqqqY\n",
       "mJh2dnZmZmYQEBDu7u4yMjJUVFTMzMyIiIi6uroAAAAs73DqAAAAAXRSTlMAQObYZgAAAWtJREFU\n",
       "KM9jYCAJ8F0gTh3rAyBxmoFh+t0aFHHO9cYrGdj1VcAcdiUwMGAAqVnJwKDHMOkAimrmgMMMDPxw\n",
       "Lk8BiORiYOC9wMCrwMC7AEUxtw5QmANNMWsCA8cEBqYNDHwfwaJzFylpgRW/mrAHQzFnA8MroH0F\n",
       "DDxfwIJLJ0BNPrNh1gR0xQwmDGUMDPIJDDx/QTzhCTBnHPDlMcBQnM6wFKL4G4hnCHfzAfYHsRiK\n",
       "vRj6EIo5DRCKGXZyn0BX/ILhH8IZfE3A8NSCKp7NuQJd8XmQYpAHv4LENiCZzJNwAlNxCwMo6FhA\n",
       "QcepgKSYIYQZ0xmmDKBIYQOr24qsmE2YgWECiuIoYHgwMKgwzABH96QHsOgGMaoYOD+hBd0jIDk9\n",
       "dw+Yx7gckkT41jcDyVkMnP0CEMUJYGodA4cAUppg2QUJDXjyRZYERjdrAr40jMxhuwBOosQpngXE\n",
       "0ngUo2SijSBfEZmteA8wAAAmlllujczHcQAAAABJRU5ErkJggg==\n",
       "\" style=\"display:inline;vertical-align:middle;\" /></a></td></tr>\n",
       "<tr><td>3</td><td>Operation</td><td>operator:&nbsp;5<br>operands:&nbsp;6<br></td><td><a class=\"ProveItLink\" href=\"../96963c4a116b4edbad2dd70262237f9296baf3120/expr.ipynb\"><img src=\"data:image/png;base64,iVBORw0KGgoAAAANSUhEUgAAADMAAAAPBAMAAAC7N+rPAAAAMFBMVEX///9EREQQEBCYmJh2dnaq\n",
       "qqrc3NxUVFQyMjK6uroiIiLMzMyIiIhmZmbu7u4AAADSWfX9AAAAAXRSTlMAQObYZgAAANxJREFU\n",
       "GNNjYHh75jYDCnjxUeIBw61fAQwMKxlebUCVE+YWYGD4wMDAs4CBpwFVqmrDGQYGBQYGrgIGzm9g\n",
       "kTddq1aAGZV97BtAUvwXGLi/ggS4mx9AdVVv5+sDSeU7MHD/AQkkwmQYqlkPbIRJfQEJiMHtqma4\n",
       "yXwASYpPAEmK/UE1koGcWqtWQZ1RzcBX8ALqjM8gVxQg6WLYwg1xPCvI8XwLkKWYAwTAXmYBixYj\n",
       "SzG4gaxeyvAIHFCvJsCkJIGYFxRCb32qwQJsvdCgnPEJqIMPJfBYK6AuhAIAynxBe6QeIUQAAAAA\n",
       "SUVORK5CYII=\n",
       "\" style=\"display:inline;vertical-align:middle;\" /></a></td></tr>\n",
       "<tr><td>4</td><td>Literal</td><td></td><td><a class=\"ProveItLink\" href=\"../../../../../logic/boolean/__pv_it/68a87cc3370287d726c7086ace789e680e4461c30/expr.ipynb\"><img src=\"data:image/png;base64,iVBORw0KGgoAAAANSUhEUgAAAA4AAAAOBAMAAADtZjDiAAAAFVBMVEX///92dnbMzMxEREQiIiJm\n",
       "ZmYAAABAT6GXAAAAAXRSTlMAQObYZgAAABhJREFUCNdjCHEBAWcGIFBlgABa0YpADAAxegPJJk4d\n",
       "XAAAAABJRU5ErkJggg==\n",
       "\" style=\"display:inline;vertical-align:middle;\" /></a></td></tr>\n",
       "<tr><td>5</td><td>Literal</td><td></td><td><a class=\"ProveItLink\" href=\"../../../../../logic/set_theory/membership/__pv_it/088cbc857536a28d4119ad9639a84270ccb0545d0/expr.ipynb\"><img src=\"data:image/png;base64,iVBORw0KGgoAAAANSUhEUgAAAAwAAAAMBAMAAACkW0HUAAAALVBMVEX///+qqqpmZmZUVFQQEBC6\n",
       "urpERETc3NyYmJjMzMwiIiIyMjKIiIju7u4AAACYsrA9AAAAAXRSTlMAQObYZgAAADxJREFUCNdj\n",
       "YOA9vWrVBgaG2b0MQMCeCyIZ2ArA1DUwyRCyahVIyWQI7xaEYm4AU7xLIdxqTQgtvGvVBgCkcQ7e\n",
       "geM/tQAAAABJRU5ErkJggg==\n",
       "\" style=\"display:inline;vertical-align:middle;\" /></a></td></tr>\n",
       "<tr><td>6</td><td>ExprTuple</td><td>7, 8</td><td><a class=\"ProveItLink\" href=\"../be0a6fd889e959f794c311bea1bc732d0b4feef60/expr.ipynb\"><img src=\"data:image/png;base64,iVBORw0KGgoAAAANSUhEUgAAAC8AAAAVBAMAAAAk6KpUAAAAMFBMVEX////c3NwiIiJERESqqqqY\n",
       "mJh2dnZmZmYQEBDu7u4yMjJUVFTMzMyIiIi6uroAAAAs73DqAAAAAXRSTlMAQObYZgAAAR5JREFU\n",
       "KM910b9Lw0AUwPGvmrSN+WF2Bzs4S5cuDpK/wlHq5FQoDk4iHZw1uLR0yuKQrTgXCQguXfIHWBDH\n",
       "Tm39gYviu95VotWDHO/uE97dvQf/jiBf3jtQ0xA6o1O90XvejTmeReVMFinscJVpqXs1mEACfo5f\n",
       "xU803GQjaMM+VGJW+wRTDbepmynowhg2WngvGgZDJ1WwFnECWw28DwNWfqeg1OJaw5sBzuxcwEq4\n",
       "+AVuPBAI2nz+TIXT7wl4EwXq8NcFcO9pOEdd15p+gx3V5qnqqAeWqsQGOBSwE44k3KabOTMFe/KV\n",
       "k/l1nyTsNOXQy1Be+y5/OwLrj1TCRfnDQt2lJHbDxHaxIU1d9iVQ2dg0i2IjXZV25Y/WPsAXlY9P\n",
       "7PTGYOEAAAAASUVORK5CYII=\n",
       "\" style=\"display:inline;vertical-align:middle;\" /></a></td></tr>\n",
       "<tr><td>7</td><td>Literal</td><td></td><td><a class=\"ProveItLink\" href=\"../../../../numeral/__pv_it/ec23fc7a1b4222a5f4948b495002b97d6fa18c3c0/expr.ipynb\"><img src=\"data:image/png;base64,iVBORw0KGgoAAAANSUhEUgAAAAoAAAAOBAMAAADkjZCYAAAALVBMVEX///8QEBCYmJh2dnaqqqrc\n",
       "3NxUVFQyMjK6uroiIiLMzMyIiIhmZmbu7u4AAAAZjyHdAAAAAXRSTlMAQObYZgAAAEpJREFUCNdj\n",
       "YLiz+xQDA8MMhpsLGLgnMHAXMHAmMHA8ZeA7wMD1hCHOgIHrNZh8jES+Bss+AqlkeQrSxTyBgWEK\n",
       "w8UFDAx3rLMYAMCjFldHSx/9AAAAAElFTkSuQmCC\n",
       "\" style=\"display:inline;vertical-align:middle;\" /></a></td></tr>\n",
       "<tr><td>8</td><td>Literal</td><td></td><td><a class=\"ProveItLink\" href=\"../e5d9bd86b06b357eee742ad868997123619e09700/expr.ipynb\"><img src=\"data:image/png;base64,iVBORw0KGgoAAAANSUhEUgAAAA8AAAAOBAMAAAACpFvcAAAAMFBMVEX////c3Nx2dna6uroQEBCI\n",
       "iIhUVFTMzMyYmJiqqqoiIiJmZmZEREQyMjLu7u4AAADjlg78AAAAAXRSTlMAQObYZgAAAGBJREFU\n",
       "CNdjePvn7AOGXb8mMDCcYD/AwPCBgYEhqyCUgcEByEi+x1YAZqSX8d2DMDgDaiAMhs0cARAG24N0\n",
       "CIMv4S2EwVDEDmVwTDgAYTAoghiHgZj7AgOD7Rcgj+8CAwA9oh2B0HK+MAAAAABJRU5ErkJggg==\n",
       "\" style=\"display:inline;vertical-align:middle;\" /></a></td></tr>\n",
       "</table>\n"
      ],
      "text/plain": [
       "0. (0 in Naturals) = TRUE\n",
       "   core type: Operation\n",
       "   operator: 1\n",
       "   operands: 2\n",
       "1. =\n",
       "   core type: Literal\n",
       "   sub-expressions: \n",
       "2. (0 in Naturals , TRUE)\n",
       "   core type: ExprTuple\n",
       "   sub-expressions: 3, 4\n",
       "3. 0 in Naturals\n",
       "   core type: Operation\n",
       "   operator: 5\n",
       "   operands: 6\n",
       "4. TRUE\n",
       "   core type: Literal\n",
       "   sub-expressions: \n",
       "5. in\n",
       "   core type: Literal\n",
       "   sub-expressions: \n",
       "6. (0 , Naturals)\n",
       "   core type: ExprTuple\n",
       "   sub-expressions: 7, 8\n",
       "7. 0\n",
       "   core type: Literal\n",
       "   sub-expressions: \n",
       "8. Naturals\n",
       "   core type: Literal\n",
       "   sub-expressions: "
      ]
     },
     "execution_count": 4,
     "metadata": {},
     "output_type": "execute_result"
    }
   ],
   "source": [
    "# display the expression information\n",
    "expr.exprInfo()"
   ]
  },
  {
   "cell_type": "code",
   "execution_count": null,
   "metadata": {},
   "outputs": [],
   "source": []
  }
 ],
 "metadata": {
  "kernelspec": {
   "display_name": "Python 3",
   "language": "python",
   "name": "python3"
  }
 },
 "nbformat": 4,
 "nbformat_minor": 0
}
