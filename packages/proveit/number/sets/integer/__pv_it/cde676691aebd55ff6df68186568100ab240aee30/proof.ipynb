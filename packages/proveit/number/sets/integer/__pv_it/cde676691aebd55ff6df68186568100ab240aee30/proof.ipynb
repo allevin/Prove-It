{
 "cells": [
  {
   "cell_type": "markdown",
   "metadata": {},
   "source": [
    "Show the Proof\n",
    "========"
   ]
  },
  {
   "cell_type": "code",
   "execution_count": 1,
   "metadata": {},
   "outputs": [
    {
     "data": {
      "text/html": [
       "<table><tr><th>&nbsp;</th><th>step type</th><th>requirements</th><th>statement</th></tr>\n",
       "<tr><td>0</td><td>specialization</td><td>1</td><td><span style=\"font-size:20px;\"> <a class=\"ProveItLink\" href=\"proof.ipynb\" style=\"text-decoration: none\">&#x22A2;&nbsp;</a><a class=\"ProveItLink\" href=\"../20684cea707be467e537dbc68ea45ec3ff057a9b0/expr.ipynb\"><img src=\"data:image/png;base64,iVBORw0KGgoAAAANSUhEUgAAAokAAAAVCAMAAAAdMoQCAAAAM1BMVEX///+/v7/c3NwiIiJERESq\n",
       "qqqYmJh2dnZmZmYQEBDu7u4yMjJUVFTMzMyIiIi6uroAAABHoQ3jAAAAAXRSTlMAQObYZgAABiRJ\n",
       "REFUaN7tmtu2ragORS1AQa7+/9ceFIPcjU7XafVQvODekmXPMECIc5r+a/+1f0tztrzAt8X9hYGl\n",
       "yshn8GX/LZUH+ucDhf8PAp/jF0XdQ+tfFHxJWdAafd6OF6jGQqgIMx4m1caY2scKutH53mBv3HPR\n",
       "C3sgDTDnvRTWYp6zaCGE3OW4Ge2BcDwoyE8F7nnCHd76PeSvlBmtgtVHSTyAZNs5Wt2yLpNhx9WG\n",
       "MwhcfJ4QXHAv7/cZJumtOGoJnjSoiCyBcDwoyI8FbnsSIhFl/Rryd8qU1sIMt6OpLkn2L601ICz8\n",
       "5vnah0T42yvOIHARBkHBBrumbfX2WL/snTg6gMyqQaVECYTiQUF+LXDbkzMSO9byFeT3lCntClDr\n",
       "aDLMJaAFBLkWsFZR364w0M5PM21iJJYGnUiMk1PM/YHAnPf02GDcRgZUPqK2sGgaW1MZRmUJhOFB\n",
       "QX4tcNuTMxI7alcrHwoST4nW+6J1MNipdwgTy96MUUvhizY+9ZC762vLoBuJCydHo4MkWzX77VjQ\n",
       "zDYPqPZIDfeNqam0y9eGHQjBg4L8XOC2J2ckdtR2+g0kmvKB3pFWwKp6XjjLCLFWczQCTzcywioC\n",
       "vxx66z1VXBsG/Uic/FHHNzpY9gE+78nGQyTaAdU+bLNJKplSSZWemADongcFSbjVZLbCfiVw2xOI\n",
       "xI7a3I4gO1GApXyid6Q9ssiYTvr/mrTyj5ObwSLM6TRiZGpE4iTcfuJcKwOhkqaLSDx29NZfzFPg\n",
       "qo+RyAdUhwu+xVupG3wpNuED6J4HAyk91UKXaaVfCdz2BCIxVZsmbRMDyE4UYCmf6B1pV6gEhQvn\n",
       "Jrpn5HJzWAS3pmepqRmJk95TxbU2GK2Jxw4iwUEjOLdLrgzA530VibJzxiCLXjdIjFKqPUiIKoFy\n",
       "nmYlpMFYQvJDPK+o+UrgticQiV21Z+V6kL0oQFI+0jvSxmeFC3k+fd4kFsFsSS6wwpRTeSTKPVVc\n",
       "a4NRJB4BYc/J6sSRauTjAD7vq925RRUftS0VVSgYalMCpTzN5KvFWELusmn2JAO7E7jtCURiX23/\n",
       "QlwbshcFSMpHekfaIhLh6VrlGyhdiw20LVSrLBreqOGTeRqJ+1uHM2zYyxgmEuOJZRmV7M+bshGJ\n",
       "4ZmpVQBKedJjohBi6TJWkPvKk77QnwVue3IbiUZx2YUso+AR5SO9I+0K6RBciOPpfrx8s3nQXiRO\n",
       "ywzvKDHIMhdWRqLfCcEpGR5XLEjAXPShijPHKk6LSgrIo0lJNZ+3FCmAEp5ECOaIlLLLWEFCPUNO\n",
       "3wjc8aSxO2dq0+xUUUK2owC7Oz/RO9Ky5foUElj2rW3xD+BIhCVdgvXSi8SJQ0l4Ucg10We+GhYS\n",
       "uvL62yYwF32obHM6ooKEWejKDYjAWZRAF48//zq7e7YkiX+TsYRbyJEmThb9jm8E7ngCKB21Zz1U\n",
       "sh0FWMonekfaePg+L8ixPnNWZNTYIoOk1btgbkrnGb6Ks8cCvebUum1laSyvBFz9/n1brmZEJWj4\n",
       "HMOqKo5h6cElA4o8fl/zud6+gKhs3jcYC7jZrzPMLwPEviuT1a50PBlXcYgaKtmJAizlE70jrQO5\n",
       "z4uwWBJm5xGC8JqrkBxNyuUu5h/DndpWdlXpaoNRJOYJFdHlMRDgy14KbtMDR0Xlp60/CmvNrskb\n",
       "qeIynHz5AiDgcVDvMEXFrWYs4CSzXO4n7PGJBS9wzxNAbqtd1lkKBTtRgKZ8oPdFuwLTSp4U16/4\n",
       "X6t1XzVPTV2DQSRCpV6GPK1KvoG57Fu7EZYqUdSVQMmXg5DvGHqUu5ntMyLgPhUY9bXPvIJ8QInV\n",
       "O6GNn66H37D7P1rjT38jhTCo0q15zvfNqWAu++dtTFXnf3shwBzVqTtGHNx3Ap/jT2SsNU7Bzykz\n",
       "2le/CkuKUn9gUL14wTql+/avwj53owAy28RVKFJrcsv4G9xTgaUqjvvI9puCbykzWqJjjvMCQZM/\n",
       "MKgj0QjfGpbAXPYfu1EA+WRvFvYox8nrQNZj/A3uqcAw/vxiirb+TcG3lDltPMaR578bt+YvDCyl\n",
       "2L8LzGX/LdUIiJ954gPIPxT4HO+B3UPrXxR8SZnS/g8JjFdinTjbtgAAAABJRU5ErkJggg==\n",
       "\" style=\"display:inline;vertical-align:middle;\" /></a></span></td></tr>\n",
       "<tr><td>&nbsp;</td><td colspan=4 style=\"text-align:left\"><span style=\"font-size:20px;\"><a class=\"ProveItLink\" href=\"../../../../../__pv_it/39dbcd3ca0390345b51c6ef7785756419e2c14390/expr.ipynb\"><img src=\"data:image/png;base64,iVBORw0KGgoAAAANSUhEUgAAAAwAAAAJBAMAAAD0ltBnAAAAMFBMVEX///8QEBCYmJhmZmaqqqoi\n",
       "IiLMzMzu7u4yMjJ2dnZUVFTc3NxERESIiIi6uroAAABbPXqjAAAAAXRSTlMAQObYZgAAAERJREFU\n",
       "CNdj4Luz++5KBgZOrl6G+gSGd6wHGOofMBQAsX8BAwivYGBgsGBg+MTOwCDJwPSdk4H7HwPnATcG\n",
       "PgEG7rMOAGtQEUwHZIDZAAAAAElFTkSuQmCC\n",
       "\" style=\"display:inline;vertical-align:middle;\" /></a> : <a class=\"ProveItLink\" href=\"../b946c43e057b554aa1f97d0883c5f68ff71f80e80/expr.ipynb\"><img src=\"data:image/png;base64,iVBORw0KGgoAAAANSUhEUgAAAC4AAAAQBAMAAACb51DZAAAAMFBMVEX///8QEBCYmJhmZmaqqqoi\n",
       "IiLMzMzu7u4yMjJ2dnZUVFTc3NxERESIiIi6uroAAABbPXqjAAAAAXRSTlMAQObYZgAAAHdJREFU\n",
       "GNNjYMAGjmMVZaj5jsqvhlBVq9DEfaE0Lx5xvju7767EIs7J1ctQn4Ap/o71AEP9A0zxAqCgfwEW\n",
       "e4GCK0Aci46OwI6OLri4BQPDJ3Ys6iUZmL5zYopz/2PgPOCGxf0CDNxnHVDEmQ1/GGH1Lzp4i2AC\n",
       "AAL3KRFAMapqAAAAAElFTkSuQmCC\n",
       "\" style=\"display:inline;vertical-align:middle;\" /></a></span></td></tr><tr><td>1</td><td>axiom</td><td></td><td><span style=\"font-size:20px;\"> <a class=\"ProveItLink\" href=\"../../_axioms_.ipynb#naturalsDef\" style=\"text-decoration: none\">&#x22A2;&nbsp;</a><a class=\"ProveItLink\" href=\"../c6511f6651a3b1ea3d7fea8c79711a435b982f6d0/expr.ipynb\"><img src=\"data:image/png;base64,iVBORw0KGgoAAAANSUhEUgAAAlQAAAAVCAMAAAC33YD7AAAAM1BMVEX///+/v78QEBC6urrMzMxU\n",
       "VFRmZmZERETc3NwyMjKqqqp2dnaIiIiYmJgiIiLu7u4AAAB/uxFxAAAAAXRSTlMAQObYZgAABihJ\n",
       "REFUaN7tmtm2rSgMRS3ppfP/v7ZARGmCRvapt+KFe8cRM7MSIOBelv/b/+2vm0c9RUzdf26WIB4y\n",
       "Tv2zTPHMcb1BBR7qf9D2BzqUXv3zVjnycfRsSLMNyLK7nxq/nbK6R+Sq2oVQMSLc7W4LHX0fpAkO\n",
       "p+M5e8+NQdixjHPuo/svDwceJNAfqRabSGmM0QtyRRP86O9wkEXAst7y42o8KfOf1Id5K+xCxfGv\n",
       "PY1FJRUKp+M5+zhXvHvTU9mYf2KHoKRvkwoH9GeqBa48CmOhdyWFFjV6xitIvN6yFFlPMd4GTN2j\n",
       "GgvRTQPWlOIak1QYnI7n7M2xqpgXPVni2BQEpXibVCigadW8rP/LGMtJhdALcuUMLTzaDyGxQYXE\n",
       "AyznVOXb8FWrr3sI1ygXWhFQRsKbGb2Syq+YpMLgdDxn746VnOzyCUvuaSWjBoCiwvmGBwU0q9qy\n",
       "dTE1OakatN4T2JUztLDa/bL0KaQD8QDLVsujuXEpp+oe2pmVbekYDdu1j26ctsWGSap3nI4n9/ux\n",
       "zNB9e8Ii558pBaAYqWbuIRMCaFa1x6Sq0QBPYFfO0MJqEzaAxIV0JB5gOVTUobnxast11RMjpDSG\n",
       "FQOk6BM+LFJBslhWnUmlOSap3nFantzLXaekMk9Yct9NUXVVUF6VhXmW6R0IRSm1YXIz3GCTqkSD\n",
       "PIFdyaGF1dYGhESGdCQeYPnYohYhn4uzu9cLU4HN7/frocHxtZzEM9OZVNs9K7gqGquD+IrT8uT+\n",
       "Sir9hBWiFtr1l62cqtrWu1yS6R0IQ+kDlXV2WR02qUo02DrkSg7tPZq7ou0cgkSGdCQeYPlYE/3D\n",
       "Ir2Ssifh3B9rVr+T+8iywEm1sFhWnUlFVtRKVeNQrrWx9IHn6ruk8nBpLS1b91xLVFAx3lK1SfWq\n",
       "DwjZ0ukjJEFyik2qAm3gCeRKDu1I7U2RDhIb0pF4kOWopbFjzbKp1PvT9nZ5H16TJ4JqksrHsuo0\n",
       "TXdUUlU4hB87+RPP1XfbH4h1WtptD5UuohhteF71ASFbuigWE19qqgLtwZPWlRzaodohHqSBxIZ0\n",
       "JB5kOQrmPDapsm2mni/QUnCoXujHpCpx0l4hUEl1Fer2Aev8m4eSKhmlrE0qWB9vOOd2CNnRxXWh\n",
       "SKFUAbi1qQDgpAIFhl15SyqqtO8hcSEdiQdZDkv7473qutU9P2yHN2c674ZJtdgty10syNU2L5og\n",
       "Fjg+KWyfeXKfrhS260oBwPI8V5yyg9rOvynZJBWojxFEeu+HkB1dPpD7me0PEHjgSr/9VWK7uv7+\n",
       "FNKheKBlIdl5ccUNMZr1d+NVv8Ztxgbnr4qY2WFSLTrfGlqFW6lunJAnqybQXT3Yp8tPfcvRY+XS\n",
       "kmcfC6icTBtveAqgcIIjJnpmi4IXhGzprDxKqsWgk6rUCxB44EpGgdXeGAyJCulQPNDyxlMgvCVx\n",
       "ZWs/dNQnx5CocbQWRc3pHRB6spSzAH2lcOMck2Pd9/bGpeG5Xxy/MfqVLmMs7kxaZvorBSrKer1K\n",
       "qgso7ByhLorTW1UzGIBs6LYgrAhTWBp0TVXqBQg8cOXxSkEqGBIX0qF4sOVzs5f++MaxN6dJ4qo+\n",
       "LW9SmK2kbT5hErWv4r79OVYCgkyqqvZYJGvPMQ3P1YfoasPo8oDFwlmOMXHPwhvqWh3vTxfXApSB\n",
       "SD6E0+bWqods6Lww2scz4nOhzkN+qlSp1Xp1noxcycyg2t09wZeQjsWDLV93p8xAh9FV1j28sCrw\n",
       "qHBPNtxnmhLHpxprf+N54HrBKqCKIJA2qYq75TTjqDtuRIUZQ+JUM2i93gTGfKahQ8iZkD58pqlt\n",
       "xBtLvjRZ3nw5nGvaoJPq8mqr96URzzzXMxRQKsWjLD2uSt4gUXQPP2bSZsqVkxk7+peQZhsvluV+\n",
       "JBZpM3rmRxzd9cjyOam4GNztDn768tdQLU84LGuV7jGZfIX8jc6rueevEzT24t//GtE3yyQKxHVX\n",
       "+EtW9xONyYmkojw0YGDLM8v1AtXyhMJo4+a45/H3OWQE+Rsdk3PPn5+W0KPnQ5ptzFq+Di1y9ufE\n",
       "BvNTROMcneOZ43qDeuTRZ03136hm6NTzgZh8HD0b0mwDsPwv/5pOoqfOVSkAAAAASUVORK5CYII=\n",
       "\" style=\"display:inline;vertical-align:middle;\" /></a></span></td></tr>\n",
       "<tr><td>&nbsp;</td><td colspan=4 style-\"text-align:left\"><a class=\"ProveItLink\" href=\"../../_axioms_.ipynb#naturalsDef\">proveit.number.sets.integer.naturalsDef</a></td></tr></table>"
      ],
      "text/plain": [
       "<proveit._core_.proof._ShowProof at 0x7f95001409b0>"
      ]
     },
     "execution_count": 1,
     "metadata": {},
     "output_type": "execute_result"
    }
   ],
   "source": [
    "import proveit\n",
    "%show_proof"
   ]
  },
  {
   "cell_type": "code",
   "execution_count": null,
   "metadata": {},
   "outputs": [],
   "source": []
  }
 ],
 "metadata": {
  "kernelspec": {
   "display_name": "Python 3",
   "language": "python",
   "name": "python3"
  }
 },
 "nbformat": 4,
 "nbformat_minor": 0
}
