{
 "cells": [
  {
   "cell_type": "markdown",
   "metadata": {},
   "source": [
    "Expression of type <a class=\"ProveItLink\" href=\"../../../../../../../doc/html/api/proveit.Lambda.html\">Lambda</a>\n",
    "=======================\n",
    "# from context <a class=\"ProveItLink\" href=\"../../_context_.ipynb\">proveit.number.sets.integer</a>"
   ]
  },
  {
   "cell_type": "code",
   "execution_count": 1,
   "metadata": {},
   "outputs": [],
   "source": [
    "# import Expression classes needed to build the expression\n",
    "from proveit import Lambda\n",
    "from proveit._common_ import x\n",
    "from proveit.logic import Equals, InSet\n",
    "from proveit.number import Add, Complexes, zero"
   ]
  },
  {
   "cell_type": "code",
   "execution_count": 2,
   "metadata": {},
   "outputs": [
    {
     "data": {
      "text/html": [
       "<strong id=\"expr\">expr:</strong> <a class=\"ProveItLink\" href=\"expr.ipynb\"><img src=\"data:image/png;base64,iVBORw0KGgoAAAANSUhEUgAAAO8AAAAVCAMAAACZp0n0AAAANlBMVEX///+6uroUFBQNDQ0yMjJE\n",
       "RETMzMwQEBAiIiKYmJju7u5mZmaqqqpUVFSIiIh2dnbc3NwAAACltDI1AAAAAXRSTlMAQObYZgAA\n",
       "AmdJREFUWMPVWFmypSAMhW7mmf1vth2eSgiK6Curmg/jtTKdEJJwCfnPlksfG6QB0pGl6Wv+SL+F\n",
       "Kzykd5axIVgxv63P+wvzP8IbFGNZKm7HRZmB9M5Sk49GLa6zUXO/gFfQPDsQc/DjkQqQtvczVdFd\n",
       "novrOg5mdHyNVxOv16Ofx/FKA2m7psBgqMUMzXMUjByzh/i7eE1galp7YmhDNh12GC9lkN7Cm5dj\n",
       "I7KbCXdjFmv+Hl7BNNwKS5LfQzE/Uww+uWBD+8y40qCNkGJhjDfluOJdvsZuzYAqa36AF1tP3NS1\n",
       "klBwJsz0SytNpNrzD0r4QgPTkGLhC7wLcUc0LSuWP/HHsXO8Deu8bs8iEqeBgrmW5EmxOMFr/KFD\n",
       "UkixcA8v7R3gSmXNX+LF1g0nGC8FeOfd84Dt7x8Flsy7je1to1i4l88i9+oNVFnzg/1F1qncnGZH\n",
       "BATqCRI4WO0v8YeJGm8tvKaokiBFt3qlb+GtVF7hxa43pqBpUKg/pix+otXCa4sjIR2kWPi0H7ml\n",
       "H5X5acsk4if+XOUztm5Uq4P7MiF0Ws4ACSd4Rek815Bi4Qbedd6Iq1rdm7AqlfqiXjWse407mt5H\n",
       "fmWmsGvCpximw8eAztNhzQLaEG7gJcrNg4Mgd/pRrfKiH7WsG4X7s/d8ioihfO5VhodoYgz63ryh\n",
       "AD0RrvEaO/XJnxrKOvNCrbLmL/A2rSeG7xjCqpylf3LTkAnSO/PV5Xz46/MkcZ6V8+S7tc3vl3P/\n",
       "xdU4Dt6aEf/X998n98Fiu9hb/q/xbsN38k+kfXrL/zXevRqmB//nBPGaP7zD+w/d0xx4znbrqwAA\n",
       "AABJRU5ErkJggg==\n",
       "\" style=\"display:inline;vertical-align:middle;\" /></a><br>"
      ],
      "text/plain": [
       "expr: x -> ((x + 0) = x) | x in Complexes"
      ]
     },
     "execution_count": 2,
     "metadata": {},
     "output_type": "execute_result"
    }
   ],
   "source": [
    "# build up the expression from sub-expressions\n",
    "expr = Lambda(x, Equals(Add(x, zero), x), conditions = [InSet(x, Complexes)])"
   ]
  },
  {
   "cell_type": "code",
   "execution_count": 3,
   "metadata": {},
   "outputs": [
    {
     "name": "stdout",
     "output_type": "stream",
     "text": [
      "Passed sanity check: built 'expr' is the same as the stored Expression.\n"
     ]
    }
   ],
   "source": [
    "# check that the built expression is the same as the stored expression\n",
    "%check_expr"
   ]
  },
  {
   "cell_type": "code",
   "execution_count": 4,
   "metadata": {},
   "outputs": [
    {
     "data": {
      "text/html": [
       "<table><tr><th>&nbsp;</th><th>core type</th><th>sub-expressions</th><th>expression</th></tr>\n",
       "<tr><td>0</td><td>Lambda</td><td>parameter:&nbsp;12<br>body:&nbsp;1<br>conditions:&nbsp;2<br></td><td><a class=\"ProveItLink\" href=\"expr.ipynb\"><img src=\"data:image/png;base64,iVBORw0KGgoAAAANSUhEUgAAAO8AAAAVCAMAAACZp0n0AAAANlBMVEX///+6uroUFBQNDQ0yMjJE\n",
       "RETMzMwQEBAiIiKYmJju7u5mZmaqqqpUVFSIiIh2dnbc3NwAAACltDI1AAAAAXRSTlMAQObYZgAA\n",
       "AmdJREFUWMPVWFmypSAMhW7mmf1vth2eSgiK6Curmg/jtTKdEJJwCfnPlksfG6QB0pGl6Wv+SL+F\n",
       "Kzykd5axIVgxv63P+wvzP8IbFGNZKm7HRZmB9M5Sk49GLa6zUXO/gFfQPDsQc/DjkQqQtvczVdFd\n",
       "novrOg5mdHyNVxOv16Ofx/FKA2m7psBgqMUMzXMUjByzh/i7eE1galp7YmhDNh12GC9lkN7Cm5dj\n",
       "I7KbCXdjFmv+Hl7BNNwKS5LfQzE/Uww+uWBD+8y40qCNkGJhjDfluOJdvsZuzYAqa36AF1tP3NS1\n",
       "klBwJsz0SytNpNrzD0r4QgPTkGLhC7wLcUc0LSuWP/HHsXO8Deu8bs8iEqeBgrmW5EmxOMFr/KFD\n",
       "UkixcA8v7R3gSmXNX+LF1g0nGC8FeOfd84Dt7x8Flsy7je1to1i4l88i9+oNVFnzg/1F1qncnGZH\n",
       "BATqCRI4WO0v8YeJGm8tvKaokiBFt3qlb+GtVF7hxa43pqBpUKg/pix+otXCa4sjIR2kWPi0H7ml\n",
       "H5X5acsk4if+XOUztm5Uq4P7MiF0Ws4ACSd4Rek815Bi4Qbedd6Iq1rdm7AqlfqiXjWse407mt5H\n",
       "fmWmsGvCpximw8eAztNhzQLaEG7gJcrNg4Mgd/pRrfKiH7WsG4X7s/d8ioihfO5VhodoYgz63ryh\n",
       "AD0RrvEaO/XJnxrKOvNCrbLmL/A2rSeG7xjCqpylf3LTkAnSO/PV5Xz46/MkcZ6V8+S7tc3vl3P/\n",
       "xdU4Dt6aEf/X998n98Fiu9hb/q/xbsN38k+kfXrL/zXevRqmB//nBPGaP7zD+w/d0xx4znbrqwAA\n",
       "AABJRU5ErkJggg==\n",
       "\" style=\"display:inline;vertical-align:middle;\" /></a></td></tr>\n",
       "<tr><td>1</td><td>Operation</td><td>operator:&nbsp;3<br>operands:&nbsp;4<br></td><td><a class=\"ProveItLink\" href=\"../e29b4232b3f9353edb38f31ba02784b9585235760/expr.ipynb\"><img src=\"data:image/png;base64,iVBORw0KGgoAAAANSUhEUgAAAGQAAAAVBAMAAABCslYDAAAAMFBMVEX////c3NwiIiJERESqqqqY\n",
       "mJh2dnZmZmYQEBDu7u4yMjJUVFTMzMyIiIi6uroAAAAs73DqAAAAAXRSTlMAQObYZgAAAV5JREFU\n",
       "OMtjYCAD8F3AJROHS+I0NkHO2usHGNgP4NCyEpsg0wNOHQaGBdh18KK6ayKEusTAcIuBIQy7Fo4J\n",
       "KFxfCKXNwPBegGEGdi2vGLBp+c7AcN6BgdkBq5YyIBa7LXL9ArIWxm9ALRcY2ArQFDPmbvStZVgK\n",
       "DJ4EVlUOBQwtCQwsYP+zrwKDDUDmNIaggCaGPgYGNgbeDywHsGjha0CzJYHhPoMPwz+gLQzcBqh+\n",
       "gTqM5wOalgkMm4HkP3CwQXxStWqVxqpVq6HeD8DUwsDQC8QtIIb8AYYJ6IHsLwB1GLsSGIAdwvgH\n",
       "6CZTBgZWgfsMvKhagFGZBJRAj/5A3g8MNxnSgeYFWDDIosYLkwNnDwNGILN8ZW5gvMDwiIFh8rVp\n",
       "uQGoWjjLbgODkOsBWmK1zUy7CvS5ALbYhwAcCYY1AYX7FpmTS0rih7gDR+JnkMaphVsAhwQjzox8\n",
       "B7swAFuMWlqHhyfyAAAAAElFTkSuQmCC\n",
       "\" style=\"display:inline;vertical-align:middle;\" /></a></td></tr>\n",
       "<tr><td>2</td><td>ExprTuple</td><td>5</td><td><a class=\"ProveItLink\" href=\"../5a8e6198b288b6e9759455d9bc8dcc166fdfb4880/expr.ipynb\"><img src=\"data:image/png;base64,iVBORw0KGgoAAAANSUhEUgAAAEAAAAAVBAMAAAAEBPWpAAAAMFBMVEX////c3NwiIiJERESqqqqY\n",
       "mJh2dnZmZmYQEBDu7u4yMjJUVFTMzMyIiIi6uroAAAAs73DqAAAAAXRSTlMAQObYZgAAATVJREFU\n",
       "KM9jYCAI+C7glmN9ACROY5e7tOqHcgFDDZC1Eqv8uX8M0/5uYOBiYODFagMrdwADg/8GBtYEBo4J\n",
       "SOKct5SUFoAYkRxAgn0DA2cDwytkjacioYwCaZByoOEmDGVAlthtkesgmxgtYSYVPIOy0hmWArkJ\n",
       "rKocCkAeswBUmCfBFcryYuhjYGBj4P3AcgDIm8wAV/AUynrB8A9oAgO3AYSnpARxJKfBMaiC8yAF\n",
       "DAwcEL8iwmwlN1xBC4iSP8AA8u0kuIIwsIIJICtMgaEicJ+BF6QAFDoQwBwHNJNPk4EhCugPBv8A\n",
       "CwZZsO/04Ebstp0wz3gCyJuPgI6/Ni0XoleqBu6Pov/doKhcx8AhgByU3osgQQ0P+wZQdOABbBdw\n",
       "RTcUzAJiaXwKNoJiCE+S4z3AAAC65Ec0MB1m6wAAAABJRU5ErkJggg==\n",
       "\" style=\"display:inline;vertical-align:middle;\" /></a></td></tr>\n",
       "<tr><td>3</td><td>Literal</td><td></td><td><a class=\"ProveItLink\" href=\"../../../../../logic/equality/__pv_it/2fb26078095930560931daa0500ce419a39ea6cd0/expr.ipynb\"><img src=\"data:image/png;base64,iVBORw0KGgoAAAANSUhEUgAAAA4AAAAFBAMAAACHocAhAAAAFVBMVEX///9EREQiIiJUVFQyMjJm\n",
       "ZmYAAADubVkoAAAAAXRSTlMAQObYZgAAABRJREFUCNdjCHEBAWcGXCBICQQUAUpuAwlgGKrkAAAA\n",
       "AElFTkSuQmCC\n",
       "\" style=\"display:inline;vertical-align:middle;\" /></a></td></tr>\n",
       "<tr><td>4</td><td>ExprTuple</td><td>6, 12</td><td><a class=\"ProveItLink\" href=\"../6f8453bf0895111b2c528f06648c02729b752e710/expr.ipynb\"><img src=\"data:image/png;base64,iVBORw0KGgoAAAANSUhEUgAAAFEAAAAVBAMAAADMaB9/AAAAMFBMVEX////c3NwiIiJERESqqqqY\n",
       "mJh2dnZmZmYQEBDu7u4yMjJUVFTMzMyIiIi6uroAAAAs73DqAAAAAXRSTlMAQObYZgAAAV5JREFU\n",
       "KM9jYCAe8F0gQlEciDiNVWr63RpkLvsBILESq0o9hkkHkPkLGBh4US2fCKF4FRh4FyCLhzEwcExA\n",
       "UekLoZg2MPB9RBafwcDwigGbSv4CBp4vyOLMDgxlQErstsj1Cygq5RMYeP6CWYy5G31rGRjYChiW\n",
       "MjBwJrCqcihgqPwGZk1jCApoYmBgWcDQB1TPwPuB5QAOlQkM9xl8gKHewPAPaCYDtwGaOxG2T2DY\n",
       "DKJ4PoBUAgMA4sqqVas0Vq1aDfXRV6jmXqjKFrARBxgmoIcSCzSUGP8ALQXZbsrAwCpwn4EXVSUw\n",
       "5NkUwLoDeT8w3ASqWcCQzsDgH2DBIIvqTgYVhhkHOD8B/fyVuYHxAjiUHjEwTL42LTcATeX03D0M\n",
       "nP0CDJy2mWlXgXyuBwwcAtjiCJogBZBjkzUBReVbZA4rgpmLM9WhqeQEJSxp3CoRCZIb5A5GYnLH\n",
       "HQYGAPrrU8QDd4geAAAAAElFTkSuQmCC\n",
       "\" style=\"display:inline;vertical-align:middle;\" /></a></td></tr>\n",
       "<tr><td>5</td><td>Operation</td><td>operator:&nbsp;7<br>operands:&nbsp;8<br></td><td><a class=\"ProveItLink\" href=\"../a1ab8e6c14fa7d97c10d512393343c354ee536080/expr.ipynb\"><img src=\"data:image/png;base64,iVBORw0KGgoAAAANSUhEUgAAADQAAAAPBAMAAABZ6/G2AAAAMFBMVEX///+6uroyMjJERETMzMwQ\n",
       "EBAiIiKYmJju7u5mZmaqqqpUVFSIiIh2dnbc3NwAAAAWgogoAAAAAXRSTlMAQObYZgAAAMxJREFU\n",
       "GNNjYMAGjil9TZ6AVcbxI0Pvnw3YZNi5CxgY1iNLcRxKS1MAMSpYgQQnspRTBZQx4TVI4QEGhren\n",
       "X50EUgx8FjDdE2ShjAvs6awJQAbzA6gUy4XlEAYvA88HLgcgo5kBLiUO1cXAbQBmiKalQZzBYeAL\n",
       "U8V6AEx5w92jwQ1jvXdgaABSbXCpWrBUAwP7g/MMPCApkD8hgLkQaA5jBsP6AlOGN2BLE+Hadts0\n",
       "NBo3MDSf7b0DUf9oCtyN0/5HC6CE3Wo1SEBBAQCOCzKzGibs5AAAAABJRU5ErkJggg==\n",
       "\" style=\"display:inline;vertical-align:middle;\" /></a></td></tr>\n",
       "<tr><td>6</td><td>Operation</td><td>operator:&nbsp;9<br>operands:&nbsp;10<br></td><td><a class=\"ProveItLink\" href=\"../203fc6c86883eed9b0e0e16ee31c292c92b0d36e0/expr.ipynb\"><img src=\"data:image/png;base64,iVBORw0KGgoAAAANSUhEUgAAAC8AAAAQBAMAAAB0JTvnAAAAMFBMVEX///+6uroyMjJERETMzMwQ\n",
       "EBAiIiKYmJju7u5mZmaqqqpUVFSIiIh2dnbc3NwAAAAWgogoAAAAAXRSTlMAQObYZgAAAKRJREFU\n",
       "GNNjYMAEHHNOOjBgA2wCHCmoKh9A6GMMDIdQJLgOQOhsBgb5B9gkfjIw+C9gYHh7+tXJA8gSfH+B\n",
       "EgcYOC6wp7MmYEhcYOBl4PnA5YBFgoOB2wDVDqhRDAysYD6nkpJakJLSBqjlBUD6vQNDA7pz1z9g\n",
       "YH9wnoEHVQLowWtAuQJThjeo/mBbwBHCwNB8tvdOAaoEx9zTDliDBAMwIksAAFNPNS3cF/nkAAAA\n",
       "AElFTkSuQmCC\n",
       "\" style=\"display:inline;vertical-align:middle;\" /></a></td></tr>\n",
       "<tr><td>7</td><td>Literal</td><td></td><td><a class=\"ProveItLink\" href=\"../../../../../logic/set_theory/membership/__pv_it/088cbc857536a28d4119ad9639a84270ccb0545d0/expr.ipynb\"><img src=\"data:image/png;base64,iVBORw0KGgoAAAANSUhEUgAAAAwAAAAMBAMAAACkW0HUAAAALVBMVEX///+qqqpmZmZUVFQQEBC6\n",
       "urpERETc3NyYmJjMzMwiIiIyMjKIiIju7u4AAACYsrA9AAAAAXRSTlMAQObYZgAAADxJREFUCNdj\n",
       "YOA9vWrVBgaG2b0MQMCeCyIZ2ArA1DUwyRCyahVIyWQI7xaEYm4AU7xLIdxqTQgtvGvVBgCkcQ7e\n",
       "geM/tQAAAABJRU5ErkJggg==\n",
       "\" style=\"display:inline;vertical-align:middle;\" /></a></td></tr>\n",
       "<tr><td>8</td><td>ExprTuple</td><td>12, 11</td><td><a class=\"ProveItLink\" href=\"../825ea3ea1d551796a2a192c7dc817a686bc4aae80/expr.ipynb\"><img src=\"data:image/png;base64,iVBORw0KGgoAAAANSUhEUgAAADAAAAAVBAMAAADyTXAxAAAAMFBMVEX////c3NwiIiJERESqqqqY\n",
       "mJh2dnZmZmYQEBDu7u4yMjJUVFTMzMyIiIi6uroAAAAs73DqAAAAAXRSTlMAQObYZgAAARdJREFU\n",
       "KM9jYMAJ+C5girE+ABKnUcUurfqhXMBQA2StRBE/949h2t8NDFwMDLwoJrFyBzAw+G9gYE1g4JiA\n",
       "LBHJASTYNzBwNjC8QjGpQBpIcAINMWEoA7LEbotcB5vIWfAMqiKdYSmQm8CqyqEA4vIkuEIlvBj6\n",
       "GBjYGHg/sByASDyFSrxg+AfUwcBtAOFyGhyDSpwHSTAwcMDcvJIbLtECouQPMEBcHQaWmAAyyhTo\n",
       "K4H7DLwTwFLMcUC9fJoMDFFAdzH4B1gwyDJwfgIp3m07YZ7xBJBzHzEwTL42LTeAgbNfAOSuov/d\n",
       "oKBdx8AhAA9/AUQIAIMEGFywAEQKGrYLSMGOLDELiKVhHOTw3wjEjFiilvcAAwBMvUBRXVWnZwAA\n",
       "AABJRU5ErkJggg==\n",
       "\" style=\"display:inline;vertical-align:middle;\" /></a></td></tr>\n",
       "<tr><td>9</td><td>Literal</td><td></td><td><a class=\"ProveItLink\" href=\"../../../../addition/__pv_it/3e6688136fa3c7aefbebe51301b7c3ebf0b69c440/expr.ipynb\"><img src=\"data:image/png;base64,iVBORw0KGgoAAAANSUhEUgAAAA4AAAAOBAMAAADtZjDiAAAAJFBMVEX///+6urpUVFQQEBAiIiIy\n",
       "MjJmZmaIiIiqqqrc3Nzu7u4AAACgHpL+AAAAAXRSTlMAQObYZgAAAB5JREFUCNdjYGBgWMkAAe2k\n",
       "0Kmhoc6hoUGk6BMHYgAHOwjcado9fwAAAABJRU5ErkJggg==\n",
       "\" style=\"display:inline;vertical-align:middle;\" /></a></td></tr>\n",
       "<tr><td>10</td><td>ExprTuple</td><td>12, 13</td><td><a class=\"ProveItLink\" href=\"../b58230362316c99193bfc03c9103bdf2cadec5110/expr.ipynb\"><img src=\"data:image/png;base64,iVBORw0KGgoAAAANSUhEUgAAACsAAAAVBAMAAAAtAwouAAAAMFBMVEX////c3NwiIiJERESqqqqY\n",
       "mJh2dnZmZmYQEBDu7u4yMjJUVFTMzMyIiIi6uroAAAAs73DqAAAAAXRSTlMAQObYZgAAAQhJREFU\n",
       "GNNjYMAB+C6gi8SBiNPIIpy11w8wsB8AslYiCzM94NRhYFjAwMCLYsYlBoZbDAxhDAwcE5CFtRkY\n",
       "3gswzGBgeIVi23cGhvMODMwODGVAjthtketgsxi/AYUvMLAVMCwFWp/AqsqhABdOYGBZwNDHwMDG\n",
       "wPuB5QCSMF8Dwz+gagZuA4jRUEN4PoCEgc65gGRlAEi4BcSTP8AwAeZAfwGQIaYMDKwC9xl4J4Al\n",
       "gN5JAgosYEgHygdYMMgycH4Ced6Bs4cB5MBHDAyTr03LDWDg7BcA2l52G+gkrgcMHALwEIazgJ5n\n",
       "TYBxWOFBkIscsHBhTmDAMkjDePAQ5gaZxogRaXcYGACUckCr9X7ZnwAAAABJRU5ErkJggg==\n",
       "\" style=\"display:inline;vertical-align:middle;\" /></a></td></tr>\n",
       "<tr><td>11</td><td>Literal</td><td></td><td><a class=\"ProveItLink\" href=\"../../../complex/__pv_it/c357845f93a5a2d9f649129d299e7ec28dda4b960/expr.ipynb\"><img src=\"data:image/png;base64,iVBORw0KGgoAAAANSUhEUgAAAA8AAAAOBAMAAAACpFvcAAAAMFBMVEX////c3NyqqqqYmJhUVFR2\n",
       "dnbu7u66urrMzMxmZmZEREQQEBAyMjIiIiKIiIgAAAB7fvZ0AAAAAXRSTlMAQObYZgAAAGVJREFU\n",
       "CNdjYGDgu3N+70oGBgaO+gK2+CdAhoEzAwPTFwYG5oQNQN4UBgZORgcgI4+BIZM9gAEMWpkMoAx2\n",
       "KCOLAyrFk+AAYTAHgBhsQLy4DkjUJjAwsHg9Y6taBpLsvP/bnYEBACkBFGQfBv8RAAAAAElFTkSu\n",
       "QmCC\n",
       "\" style=\"display:inline;vertical-align:middle;\" /></a></td></tr>\n",
       "<tr><td>12</td><td>Variable</td><td></td><td><a class=\"ProveItLink\" href=\"../../../../../__pv_it/530be409e3083890784cf1d7b28c9e67e90af9360/expr.ipynb\"><img src=\"data:image/png;base64,iVBORw0KGgoAAAANSUhEUgAAAAsAAAAJBAMAAAAWSsseAAAAKlBMVEX///9ERETMzMwQEBAiIiKY\n",
       "mJju7u5mZmaqqqpUVFSIiIh2dnbc3NwAAAA/vyDhAAAAAXRSTlMAQObYZgAAAENJREFUCNdjYDi9\n",
       "8sTyBQxsG1hdmR0YuBm4LnAoMLAxcAowgADzAjB1VoEhgYH1wFoGrgSG3gBhhlMMDImrs3cFMAAA\n",
       "t0YN+iTRa+sAAAAASUVORK5CYII=\n",
       "\" style=\"display:inline;vertical-align:middle;\" /></a></td></tr>\n",
       "<tr><td>13</td><td>Literal</td><td></td><td><a class=\"ProveItLink\" href=\"../../../../numeral/__pv_it/ec23fc7a1b4222a5f4948b495002b97d6fa18c3c0/expr.ipynb\"><img src=\"data:image/png;base64,iVBORw0KGgoAAAANSUhEUgAAAAoAAAAOBAMAAADkjZCYAAAALVBMVEX///8QEBCYmJh2dnaqqqrc\n",
       "3NxUVFQyMjK6uroiIiLMzMyIiIhmZmbu7u4AAAAZjyHdAAAAAXRSTlMAQObYZgAAAEpJREFUCNdj\n",
       "YLiz+xQDA8MMhpsLGLgnMHAXMHAmMHA8ZeA7wMD1hCHOgIHrNZh8jES+Bss+AqlkeQrSxTyBgWEK\n",
       "w8UFDAx3rLMYAMCjFldHSx/9AAAAAElFTkSuQmCC\n",
       "\" style=\"display:inline;vertical-align:middle;\" /></a></td></tr>\n",
       "</table>\n"
      ],
      "text/plain": [
       "0. x -> ((x + 0) = x) | x in Complexes\n",
       "   core type: Lambda\n",
       "   parameter: 12\n",
       "   body: 1\n",
       "   conditions: 2\\n1. (x + 0) = x\n",
       "   core type: Operation\n",
       "   operator: 3\n",
       "   operands: 4\n",
       "2. (x in Complexes)\n",
       "   core type: ExprTuple\n",
       "   sub-expressions: 5\n",
       "3. =\n",
       "   core type: Literal\n",
       "   sub-expressions: \n",
       "4. (x + 0 , x)\n",
       "   core type: ExprTuple\n",
       "   sub-expressions: 6, 12\n",
       "5. x in Complexes\n",
       "   core type: Operation\n",
       "   operator: 7\n",
       "   operands: 8\n",
       "6. x + 0\n",
       "   core type: Operation\n",
       "   operator: 9\n",
       "   operands: 10\n",
       "7. in\n",
       "   core type: Literal\n",
       "   sub-expressions: \n",
       "8. (x , Complexes)\n",
       "   core type: ExprTuple\n",
       "   sub-expressions: 12, 11\n",
       "9. +\n",
       "   core type: Literal\n",
       "   sub-expressions: \n",
       "10. (x , 0)\n",
       "    core type: ExprTuple\n",
       "    sub-expressions: 12, 13\n",
       "11. Complexes\n",
       "    core type: Literal\n",
       "    sub-expressions: \n",
       "12. x\n",
       "    core type: Variable\n",
       "    sub-expressions: \n",
       "13. 0\n",
       "    core type: Literal\n",
       "    sub-expressions: "
      ]
     },
     "execution_count": 4,
     "metadata": {},
     "output_type": "execute_result"
    }
   ],
   "source": [
    "# display the expression information\n",
    "expr.exprInfo()"
   ]
  },
  {
   "cell_type": "code",
   "execution_count": null,
   "metadata": {},
   "outputs": [],
   "source": []
  }
 ],
 "metadata": {
  "kernelspec": {
   "display_name": "Python 3",
   "language": "python",
   "name": "python3"
  }
 },
 "nbformat": 4,
 "nbformat_minor": 0
}
