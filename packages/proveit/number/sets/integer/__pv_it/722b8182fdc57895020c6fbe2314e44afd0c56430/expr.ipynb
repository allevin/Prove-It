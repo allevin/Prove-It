{
 "cells": [
  {
   "cell_type": "markdown",
   "metadata": {},
   "source": [
    "Expression of type <a class=\"ProveItLink\" href=\"../../../../../../../doc/html/api/proveit.logic.InSet.html\">InSet</a>\n",
    "=======================\n",
    "# from context <a class=\"ProveItLink\" href=\"../../_context_.ipynb\">proveit.number.sets.integer</a>"
   ]
  },
  {
   "cell_type": "code",
   "execution_count": 1,
   "metadata": {},
   "outputs": [],
   "source": [
    "# import Expression classes needed to build the expression\n",
    "from proveit._common_ import x\n",
    "from proveit.logic import Booleans, InSet\n",
    "from proveit.number import NaturalsPos"
   ]
  },
  {
   "cell_type": "code",
   "execution_count": 2,
   "metadata": {},
   "outputs": [
    {
     "data": {
      "text/html": [
       "<strong id=\"expr\">expr:</strong> <a class=\"ProveItLink\" href=\"expr.ipynb\"><img src=\"data:image/png;base64,iVBORw0KGgoAAAANSUhEUgAAAHgAAAAbBAMAAABFKlYVAAAAMFBMVEX///+qqqp2dnYiIiJERESI\n",
       "iIhmZmYQEBDc3NyYmJgyMjLu7u5UVFTMzMy6uroAAACGxKilAAAAAXRSTlMAQObYZgAAAfxJREFU\n",
       "OMtjYCAABPBLv8Mr6wDETDhleQ8Q1Ixbya4NBDUzhOKSPclAWDNzA3ZJjgIsgtzrXVYzsNkbwjSz\n",
       "ormbab3Xr2JHBga2BGxGsky4wsDAz8CzalXVqqVAw36jy/MF7NqkwMD+AJtmHlvWAAZ2uLMZLDE1\n",
       "sz5YwHAfRXDrYmMrsOZXG84ia06BeifK2HgBVDPjhNMM4SjRthIa9Dx3D+zagKR5PkT41mwkm184\n",
       "MJwCMptiGsMCQGItsGjjuSDK64Ck+T1YgsMbydmXp2xg8AE6RoHTkt0AJOYB9/MFtgdTwZoh4Xz/\n",
       "AlhLA0Kz8f9SBoZloNTH+oERJMvtgNDMcJrnOsI//eBg3YISYIEODGZAPQw8EF18xcbG0AC7wLCH\n",
       "ezlC835w/ngOlIYHGIPDI5BmBgb2ALRkDtTMq4Bh8x1kmxkcWBjWgOUuMIBChNsASTPDRBYkzWA/\n",
       "b0bXfISBgbMhnoF1A0o6B2lmakFofg8OKp4JKJofMQQzMMhPcGdoBYtthiU3FhAjC6EZEs/cdkia\n",
       "OVMdGN4DAzFokyrETI5lFyAht74ElFkRmrUgVFcuPGN8MT8ITP0XkJMY4ylIaKODpVBaZjEktGG+\n",
       "U2AgDLh/4CiFDIjQzOmAQ8KRCM3MF3BIdBGheRouCUbCnuZwwCk1kaBmtg0M1AcAHHt+mhAxLJcA\n",
       "AAAASUVORK5CYII=\n",
       "\" style=\"display:inline;vertical-align:middle;\" /></a><br>"
      ],
      "text/plain": [
       "expr: (x in NaturalsPos) in BOOLEANS"
      ]
     },
     "execution_count": 2,
     "metadata": {},
     "output_type": "execute_result"
    }
   ],
   "source": [
    "# build up the expression from sub-expressions\n",
    "expr = InSet(InSet(x, NaturalsPos), Booleans)"
   ]
  },
  {
   "cell_type": "code",
   "execution_count": 3,
   "metadata": {},
   "outputs": [
    {
     "name": "stdout",
     "output_type": "stream",
     "text": [
      "Passed sanity check: built 'expr' is the same as the stored Expression.\n"
     ]
    }
   ],
   "source": [
    "# check that the built expression is the same as the stored expression\n",
    "%check_expr"
   ]
  },
  {
   "cell_type": "code",
   "execution_count": 4,
   "metadata": {},
   "outputs": [
    {
     "data": {
      "text/html": [
       "<table><tr><th>&nbsp;</th><th>core type</th><th>sub-expressions</th><th>expression</th></tr>\n",
       "<tr><td>0</td><td>Operation</td><td>operator:&nbsp;4<br>operands:&nbsp;1<br></td><td><a class=\"ProveItLink\" href=\"expr.ipynb\"><img src=\"data:image/png;base64,iVBORw0KGgoAAAANSUhEUgAAAHgAAAAbBAMAAABFKlYVAAAAMFBMVEX///+qqqp2dnYiIiJERESI\n",
       "iIhmZmYQEBDc3NyYmJgyMjLu7u5UVFTMzMy6uroAAACGxKilAAAAAXRSTlMAQObYZgAAAfxJREFU\n",
       "OMtjYCAABPBLv8Mr6wDETDhleQ8Q1Ixbya4NBDUzhOKSPclAWDNzA3ZJjgIsgtzrXVYzsNkbwjSz\n",
       "ormbab3Xr2JHBga2BGxGsky4wsDAz8CzalXVqqVAw36jy/MF7NqkwMD+AJtmHlvWAAZ2uLMZLDE1\n",
       "sz5YwHAfRXDrYmMrsOZXG84ia06BeifK2HgBVDPjhNMM4SjRthIa9Dx3D+zagKR5PkT41mwkm184\n",
       "MJwCMptiGsMCQGItsGjjuSDK64Ck+T1YgsMbydmXp2xg8AE6RoHTkt0AJOYB9/MFtgdTwZoh4Xz/\n",
       "AlhLA0Kz8f9SBoZloNTH+oERJMvtgNDMcJrnOsI//eBg3YISYIEODGZAPQw8EF18xcbG0AC7wLCH\n",
       "ezlC835w/ngOlIYHGIPDI5BmBgb2ALRkDtTMq4Bh8x1kmxkcWBjWgOUuMIBChNsASTPDRBYkzWA/\n",
       "b0bXfISBgbMhnoF1A0o6B2lmakFofg8OKp4JKJofMQQzMMhPcGdoBYtthiU3FhAjC6EZEs/cdkia\n",
       "OVMdGN4DAzFokyrETI5lFyAht74ElFkRmrUgVFcuPGN8MT8ITP0XkJMY4ylIaKODpVBaZjEktGG+\n",
       "U2AgDLh/4CiFDIjQzOmAQ8KRCM3MF3BIdBGheRouCUbCnuZwwCk1kaBmtg0M1AcAHHt+mhAxLJcA\n",
       "AAAASUVORK5CYII=\n",
       "\" style=\"display:inline;vertical-align:middle;\" /></a></td></tr>\n",
       "<tr><td>1</td><td>ExprTuple</td><td>2, 3</td><td><a class=\"ProveItLink\" href=\"../448eb8db4d8c04360abba6e5665f4563cb9bb3c60/expr.ipynb\"><img src=\"data:image/png;base64,iVBORw0KGgoAAAANSUhEUgAAAGYAAAAbBAMAAAB8TedOAAAAMFBMVEX///+qqqp2dnYiIiJERESI\n",
       "iIhmZmYQEBDc3NyYmJgyMjLu7u5UVFTMzMy6uroAAACGxKilAAAAAXRSTlMAQObYZgAAAdVJREFU\n",
       "OMudkztIw1AUhv9qX7FJdHE2i3ul4AvECIIiDlFBF0EXF10EdXGxii4uRtBdEBWr0OBjKUIruFQR\n",
       "AgouisVJHHyggyg+zk1qm7bBGg/cyzn3ni/33D/nAkWswnb1/ldGzoslNgkJR8wlm2KaI8aj0JSE\n",
       "Iwb1gH/UJjEQbd2Ct7nGwpREO97GWsjpB7yDdl93q+dAOfhIZDKyll4SldgOKRDX4EvZMXwT1e3L\n",
       "qY0YT2oFKFVxnZO7vxpqNJg77bSQcaknVJiMPisibKZF5K8SMa3wnFuKuEccUzjTP93LJMTsj+68\n",
       "XinIBczZEu2L7+gklSSuwRdk6+2Z++je1LLBJLJM6GuC1fKBdZIRnkeXziSWswxO+ItcKam2Lkrw\n",
       "f6KWUsGbyeJYKJTWQMdBYCOfgXxD2U+MAXwKcluPGEG6KGTcxjnbLF7QwW4fCFoYLLrtmQ8ckXrh\n",
       "AXgMxZJWpmQ2k69ZahNf0QNUqW2YM/Z2f5rCzZzhTPs9mww3ZP6fB2Cve6daNTb967opRnScvZIM\n",
       "MxVmPfpSd8iadQXlurVo17GpW56J4axfpoCXUNw4ix8PQwg6ZJZotPyBUSx+E415ODKOvVGX5Igx\n",
       "f9qiI2YE/7Jvy+h0mLyD5SsAAAAASUVORK5CYII=\n",
       "\" style=\"display:inline;vertical-align:middle;\" /></a></td></tr>\n",
       "<tr><td>2</td><td>Operation</td><td>operator:&nbsp;4<br>operands:&nbsp;5<br></td><td><a class=\"ProveItLink\" href=\"../8ce59291c6ba57755d30be9d424c2a53f7765c5b0/expr.ipynb\"><img src=\"data:image/png;base64,iVBORw0KGgoAAAANSUhEUgAAAEAAAAAUBAMAAADPWCYMAAAAMFBMVEX///+6uroyMjJERETMzMwQ\n",
       "EBAiIiKYmJju7u5mZmaqqqpUVFSIiIh2dnbc3NwAAAAWgogoAAAAAXRSTlMAQObYZgAAAOZJREFU\n",
       "KM9jYMAHFjAQAAYDpYBD31iDgTM/C7cJzAXODAz8DNxKSkFKOtgUcKfwHGBgxbSC41BamgJYgVDD\n",
       "FmwKnCpgJrhsaGpAKHh7+tXJA0CazwJuhcMaFgO4Ao4L7OmsCSCnPUAo4BSoASvYAMS8DDwfuByA\n",
       "jGaEIx0YdnC7wp3GwA1ximhaGsyRDgzdHKoIx7EeAFPeyCawXHBFKHjvwNAApNqQFTBUMcN47A/O\n",
       "M/CAFHAXICvgfQzjrS8wZXgDdkwiPKgFgMQkGK/5bO8diN5HUyAijPrBQLIJSxysVoP4AgUAAJvP\n",
       "MDf1+uzOAAAAAElFTkSuQmCC\n",
       "\" style=\"display:inline;vertical-align:middle;\" /></a></td></tr>\n",
       "<tr><td>3</td><td>Literal</td><td></td><td><a class=\"ProveItLink\" href=\"../../../../../logic/boolean/__pv_it/46271c8230be96415d662709611f4ed2279d702b0/expr.ipynb\"><img src=\"data:image/png;base64,iVBORw0KGgoAAAANSUhEUgAAAA0AAAAOBAMAAAAGUYvhAAAAMFBMVEX///9mZmbMzMzc3NxUVFSY\n",
       "mJju7u6IiIi6urqqqqoiIiIQEBBEREQyMjJ2dnYAAAAQvcRZAAAAAXRSTlMAQObYZgAAAElJREFU\n",
       "CNdjePvn/u01ExgYGA60s117B6YZKngh9FSWBAjfBsxnWnoMRHet/10AkS+fA6F5OB5AaIYDqDRU\n",
       "PLCGgQFoz6ktExgAgLIl8DFvGtkAAAAASUVORK5CYII=\n",
       "\" style=\"display:inline;vertical-align:middle;\" /></a></td></tr>\n",
       "<tr><td>4</td><td>Literal</td><td></td><td><a class=\"ProveItLink\" href=\"../../../../../logic/set_theory/membership/__pv_it/088cbc857536a28d4119ad9639a84270ccb0545d0/expr.ipynb\"><img src=\"data:image/png;base64,iVBORw0KGgoAAAANSUhEUgAAAAwAAAAMBAMAAACkW0HUAAAALVBMVEX///+qqqpmZmZUVFQQEBC6\n",
       "urpERETc3NyYmJjMzMwiIiIyMjKIiIju7u4AAACYsrA9AAAAAXRSTlMAQObYZgAAADxJREFUCNdj\n",
       "YOA9vWrVBgaG2b0MQMCeCyIZ2ArA1DUwyRCyahVIyWQI7xaEYm4AU7xLIdxqTQgtvGvVBgCkcQ7e\n",
       "geM/tQAAAABJRU5ErkJggg==\n",
       "\" style=\"display:inline;vertical-align:middle;\" /></a></td></tr>\n",
       "<tr><td>5</td><td>ExprTuple</td><td>6, 7</td><td><a class=\"ProveItLink\" href=\"../b71e2c0b1169f0972f0551b7f4feafa69fdc572a0/expr.ipynb\"><img src=\"data:image/png;base64,iVBORw0KGgoAAAANSUhEUgAAAEAAAAAbBAMAAAA+DpTZAAAAMFBMVEX///+qqqp2dnYiIiJERESI\n",
       "iIhmZmYQEBDc3NyYmJgyMjLu7u5UVFTMzMy6uroAAACGxKilAAAAAXRSTlMAQObYZgAAAV1JREFU\n",
       "KM9jYMABGBHMd1gVsIAIBRDBewC3gjsgYtcG3ApYA4DESQbcChgsGBg4CpCFd33x2sCQ/FkApiCG\n",
       "gYEtAUWjJ68DA8MHhlOrlq9aBTR//wYG9gcoCg5fCGVgKIBbwTyB4T6q1edW81xAUsDmwBCOquDs\n",
       "He7VSAo4gbYBKQ7VE6KpUAWMAVeQFPD9ZvABUpsYJk8ohipgyOMMACngAXN5/zIsA4doPIMsTAHP\n",
       "hrMIn3P8YzADUhsYjsDdwMB9YBdCAfdHsAIGhlKEAoZLvCgmrAHTfxm44Qo4BRwQCv6CDZ/B+oEh\n",
       "GqIEqIBBA6GA7wdDMDBt/GQp4Ahg2G8AFPEDhc4CuAJgOLwHusRVWymSgWH7DwaGV9+BurkRCpgW\n",
       "MPBfgPNeYEY6VwADjwKcNwFTwf4GBl4DfAqmALEjjMOKJV3ZAnEXA27ACUpNjAq4FbSAyYm4FWQz\n",
       "EAYARbBUbbkOq14AAAAASUVORK5CYII=\n",
       "\" style=\"display:inline;vertical-align:middle;\" /></a></td></tr>\n",
       "<tr><td>6</td><td>Variable</td><td></td><td><a class=\"ProveItLink\" href=\"../../../../../__pv_it/530be409e3083890784cf1d7b28c9e67e90af9360/expr.ipynb\"><img src=\"data:image/png;base64,iVBORw0KGgoAAAANSUhEUgAAAAsAAAAJBAMAAAAWSsseAAAAKlBMVEX///9ERETMzMwQEBAiIiKY\n",
       "mJju7u5mZmaqqqpUVFSIiIh2dnbc3NwAAAA/vyDhAAAAAXRSTlMAQObYZgAAAENJREFUCNdjYDi9\n",
       "8sTyBQxsG1hdmR0YuBm4LnAoMLAxcAowgADzAjB1VoEhgYH1wFoGrgSG3gBhhlMMDImrs3cFMAAA\n",
       "t0YN+iTRa+sAAAAASUVORK5CYII=\n",
       "\" style=\"display:inline;vertical-align:middle;\" /></a></td></tr>\n",
       "<tr><td>7</td><td>Literal</td><td></td><td><a class=\"ProveItLink\" href=\"../42d4bc2e45d5054d807f2641a228c1b440fb8de30/expr.ipynb\"><img src=\"data:image/png;base64,iVBORw0KGgoAAAANSUhEUgAAABsAAAATBAMAAACTqWsLAAAAMFBMVEX////c3Nx2dna6uroQEBCI\n",
       "iIhUVFTMzMyYmJiqqqoiIiJmZmZEREQyMjLu7u4AAADjlg78AAAAAXRSTlMAQObYZgAAAHZJREFU\n",
       "GNNjYIADTgYUwEMy9+2fsw8Ydv2aAJM9wX6AgeEDQ+7dK3fvBjAwZBWEMjA4wPUm32MrQOKml/Hd\n",
       "Q+ZyBtQgcxk2cwSAuGxQLtuDdAe47ekMfAlvkbkMRewoXI4JB5C5DIoI7mEg5r4A49l+AcrwwbgA\n",
       "axoiJO4Xc9gAAAAASUVORK5CYII=\n",
       "\" style=\"display:inline;vertical-align:middle;\" /></a></td></tr>\n",
       "</table>\n"
      ],
      "text/plain": [
       "0. (x in NaturalsPos) in BOOLEANS\n",
       "   core type: Operation\n",
       "   operator: 4\n",
       "   operands: 1\n",
       "1. (x in NaturalsPos , BOOLEANS)\n",
       "   core type: ExprTuple\n",
       "   sub-expressions: 2, 3\n",
       "2. x in NaturalsPos\n",
       "   core type: Operation\n",
       "   operator: 4\n",
       "   operands: 5\n",
       "3. BOOLEANS\n",
       "   core type: Literal\n",
       "   sub-expressions: \n",
       "4. in\n",
       "   core type: Literal\n",
       "   sub-expressions: \n",
       "5. (x , NaturalsPos)\n",
       "   core type: ExprTuple\n",
       "   sub-expressions: 6, 7\n",
       "6. x\n",
       "   core type: Variable\n",
       "   sub-expressions: \n",
       "7. NaturalsPos\n",
       "   core type: Literal\n",
       "   sub-expressions: "
      ]
     },
     "execution_count": 4,
     "metadata": {},
     "output_type": "execute_result"
    }
   ],
   "source": [
    "# display the expression information\n",
    "expr.exprInfo()"
   ]
  },
  {
   "cell_type": "code",
   "execution_count": null,
   "metadata": {},
   "outputs": [],
   "source": []
  }
 ],
 "metadata": {
  "kernelspec": {
   "display_name": "Python 3",
   "language": "python",
   "name": "python3"
  }
 },
 "nbformat": 4,
 "nbformat_minor": 0
}
