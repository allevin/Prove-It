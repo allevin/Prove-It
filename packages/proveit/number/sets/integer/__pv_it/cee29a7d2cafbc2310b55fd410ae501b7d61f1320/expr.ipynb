{
 "cells": [
  {
   "cell_type": "markdown",
   "metadata": {},
   "source": [
    "Theorem <a class=\"ProveItLink\" href=\"../../_theorems_.ipynb#xInNatsPosInBool\">xInNatsPosInBool</a> of type <a class=\"ProveItLink\" href=\"../../../../../../../doc/html/api/proveit.logic.Forall.html\">Forall</a>\n",
    "=======================\n",
    "# from context <a class=\"ProveItLink\" href=\"../../_context_.ipynb\">proveit.number.sets.integer</a>\n",
    "*** see <a class=\"ProveItLink\" href=\"dependencies.ipynb\">dependencies</a> ***"
   ]
  },
  {
   "cell_type": "code",
   "execution_count": 1,
   "metadata": {},
   "outputs": [],
   "source": [
    "# import the special expression\n",
    "from proveit.number.sets.integer._theorems_ import xInNatsPosInBool"
   ]
  },
  {
   "cell_type": "code",
   "execution_count": 2,
   "metadata": {},
   "outputs": [
    {
     "name": "stdout",
     "output_type": "stream",
     "text": [
      "Passed sanity check: built 'xInNatsPosInBool' is the same as the stored Expression.\n"
     ]
    }
   ],
   "source": [
    "# check that the built expression is the same as the stored expression\n",
    "%check_expr xInNatsPosInBool"
   ]
  },
  {
   "cell_type": "code",
   "execution_count": 3,
   "metadata": {},
   "outputs": [
    {
     "data": {
      "text/html": [
       "<table><tr><th>&nbsp;</th><th>core type</th><th>sub-expressions</th><th>expression</th></tr>\n",
       "<tr><td>0</td><td>Operation</td><td>operator:&nbsp;1<br>operand:&nbsp;2<br></td><td><a class=\"ProveItLink\" href=\"expr.ipynb\"><img src=\"data:image/png;base64,iVBORw0KGgoAAAANSUhEUgAAAK0AAAAbBAMAAAD8EhIYAAAAMFBMVEX///8QEBC6urrMzMxUVFRm\n",
       "ZmZERETc3NwyMjKqqqp2dnaIiIiYmJgiIiLu7u4AAAAU9Wx4AAAAAXRSTlMAQObYZgAAArpJREFU\n",
       "SMe1VU9o02AUf23SpjZtLCIiiDDBgzBkEYd4kZUNJniQgijCQHLqDqLUS+dFzG6FaVvwz8F56M25\n",
       "wRgyRJloL1NkqMOBoqwsBxlDGK0WNgQZvi/N9+Xv18DAB/kl+f2SX973vscLwO6iuot3oj0U+KHh\n",
       "UeNoSQ7fz6C7L+8RIRtIK2UKIb7yHEdcwMPwsWKdQogvfOWI6QLAMrlYcrI3GPhWUsmXIbb2jfrO\n",
       "e/Sprcr4F9xRGQvxlBCuRV9k4It4/RTAXhBLpYOlCYCmd7Far1Kexu/vABTxVtKc4j4G/hKtYE0j\n",
       "rA7pus8XniXwvAqQwG/GnN0otCjY63/RaOim7zFjyOEb0zw6+j4W0fASQOrJ2Ngtp4mcocDi9Eea\n",
       "78nshmH7ploeneRLCvAJj618/rtrrboF0szZyRHCSNeZpk4Kmu0b3QG3rvUKq+SmD3MeAhh17U3W\n",
       "gp/woX7YZAq2b6xnyfQ1W19og1vXjq/9Ik09oAIcBUV3+iZyFtTgDdwjzLq9FhXOiyfYrfQb3DrW\n",
       "YeEhnm/jEEiD7NrWdM4CA4Y7zJFGg+6bCj+UcXs//3h09I1HcWw0SRPX00agL8Ahx7yg+Qo1X779\n",
       "znzjpPQkX0Un/MzgvGrVIUtBaoNCmE2nL7yP276d+m76fYnX6CCONmM4YjWxqFnwTm7Ba3DNCuKb\n",
       "LNoDdRvcOq1DH9nJBzgionCH9e9yB/b8jWckc2Ipn1mvkKF8mfla/Wvr6Lv43OpfiJgvb7MkWh1Q\n",
       "rs5Ov+pQNy9YUuUA4oY9wHW3jnPn2n6y7Cnzq2TbhIxAn24zYHH/bkMPGBeJOY4+QS8Gkjr7e5xj\n",
       "EBbNQjCvsMWvvxyZpddnGITFWw6f0gKHbJVCWKzw/hdqECvpFEIileMIi8H0Iwbdo8jhJY2TR5VC\n",
       "97jC4WMG/Lf4B9iJu/0YVPICAAAAAElFTkSuQmCC\n",
       "\" style=\"display:inline;vertical-align:middle;\" /></a></td></tr>\n",
       "<tr><td>1</td><td>Literal</td><td></td><td><a class=\"ProveItLink\" href=\"../../../../../logic/boolean/quantification/universal/__pv_it/265f8c02ac1094d56e0e6410a1c1fd3500dc9f540/expr.ipynb\"><img src=\"data:image/png;base64,iVBORw0KGgoAAAANSUhEUgAAAAwAAAAQBAMAAADQT4M0AAAAMFBMVEX///8QEBC6urrMzMxUVFRm\n",
       "ZmZERETc3NwyMjKqqqp2dnaIiIiYmJgiIiLu7u4AAAAU9Wx4AAAAAXRSTlMAQObYZgAAAFhJREFU\n",
       "CNdjeMAABhdAxGmGlSCqj6EMSLInMHAAJVknMPAsLy+vBYp8S0u7BaScGRjSgZQKA18DkOJl4D4A\n",
       "pLgP8IJM4mswARuX7gSmpoKNZWDcAKZ4gCoAgTQTILaSE58AAAAASUVORK5CYII=\n",
       "\" style=\"display:inline;vertical-align:middle;\" /></a></td></tr>\n",
       "<tr><td>2</td><td>Lambda</td><td>parameter:&nbsp;9<br>body:&nbsp;3<br></td><td><a class=\"ProveItLink\" href=\"../d3cf16ca6c5bc68bb6b298414ef77f30bdda26c60/expr.ipynb\"><img src=\"data:image/png;base64,iVBORw0KGgoAAAANSUhEUgAAALkAAAAbCAMAAAAXp96LAAAANlBMVEX///+6uroUFBQNDQ0yMjJE\n",
       "RETMzMwQEBAiIiKYmJju7u5mZmaqqqpUVFSIiIh2dnbc3NwAAACltDI1AAAAAXRSTlMAQObYZgAA\n",
       "Al9JREFUWMPNl+tyqzAMhOUe3+9+/5c9NoFgI0EgDNPqR7vT9oONvJZdgN8q/wvvZAyr6yUWka6S\n",
       "6dtXyoDVHeeXn/Ltay23SN1yDjFeRC8DrwoGq3vOQeeL7GWgVVZYfV6mIsS0QE4X7ZHz+GH5U+V5\n",
       "4UoLfw4gyzmsTjTYgHxZLW2xeC3VvryW3Rb7cYFYbOlM6SRAlGJYnYiYlnM6FZEW0OaMc4gM+EmA\n",
       "2NcFKyIeketafHXOaliC3HPuxDE+O/cGgqWAU9taYYU/Hjeb1QyyjrJpFpHOTTnG3z3PogdyiiH7\n",
       "6N6jho9n3XDYBb5VCIcsUApru32cok46Z31uCfzlXGqz/GoCbA29qblR+p26zVv7B4mwURgHgWdW\n",
       "C4pjYOLqPAwZlHCEN+dal6JiD7TdGmvzvdxxbkP3KO42CuOWyOAU8dCiTmYsl3W3U/iSluhFB7SO\n",
       "huGv//3ooVT3XO02CuNMLSAfndsWddK5Lf4Qn523b2kE1HCc6m3DuvGHnGOculZMzkEm+Nxz8lby\n",
       "dj5vjwXIU8zsjnPX544HrDa41XvOwXgQtPM15xROOK+AyVNOIe44l0ND12DMCuPUfWZ2DimTzlnJ\n",
       "cISjtDTAFwOiLmFeDY43sXFERT0qAq9dQ6erWH7iOOV8mOcEPjs3Lnbz3IqY6nUgnjxOWRkViWfu\n",
       "5ADxosRy+aKvVEf4fOMSWgVPAudqTWSRB/+qBT4Oh+Pi8SLOv7ihh4TV3bIlPwxMG1ZjdbeMeBp4\n",
       "bRaP1c3S8mlg3j9Y3Wy5expYtk/C6k5l8TSwfmSP1Y1y9mngj9V/ghwZKsfxR1kAAAAASUVORK5C\n",
       "YII=\n",
       "\" style=\"display:inline;vertical-align:middle;\" /></a></td></tr>\n",
       "<tr><td>3</td><td>Operation</td><td>operator:&nbsp;7<br>operands:&nbsp;4<br></td><td><a class=\"ProveItLink\" href=\"../722b8182fdc57895020c6fbe2314e44afd0c56430/expr.ipynb\"><img src=\"data:image/png;base64,iVBORw0KGgoAAAANSUhEUgAAAHgAAAAbBAMAAABFKlYVAAAAMFBMVEX///+qqqp2dnYiIiJERESI\n",
       "iIhmZmYQEBDc3NyYmJgyMjLu7u5UVFTMzMy6uroAAACGxKilAAAAAXRSTlMAQObYZgAAAfxJREFU\n",
       "OMtjYCAABPBLv8Mr6wDETDhleQ8Q1Ixbya4NBDUzhOKSPclAWDNzA3ZJjgIsgtzrXVYzsNkbwjSz\n",
       "ormbab3Xr2JHBga2BGxGsky4wsDAz8CzalXVqqVAw36jy/MF7NqkwMD+AJtmHlvWAAZ2uLMZLDE1\n",
       "sz5YwHAfRXDrYmMrsOZXG84ia06BeifK2HgBVDPjhNMM4SjRthIa9Dx3D+zagKR5PkT41mwkm184\n",
       "MJwCMptiGsMCQGItsGjjuSDK64Ck+T1YgsMbydmXp2xg8AE6RoHTkt0AJOYB9/MFtgdTwZoh4Xz/\n",
       "AlhLA0Kz8f9SBoZloNTH+oERJMvtgNDMcJrnOsI//eBg3YISYIEODGZAPQw8EF18xcbG0AC7wLCH\n",
       "ezlC835w/ngOlIYHGIPDI5BmBgb2ALRkDtTMq4Bh8x1kmxkcWBjWgOUuMIBChNsASTPDRBYkzWA/\n",
       "b0bXfISBgbMhnoF1A0o6B2lmakFofg8OKp4JKJofMQQzMMhPcGdoBYtthiU3FhAjC6EZEs/cdkia\n",
       "OVMdGN4DAzFokyrETI5lFyAht74ElFkRmrUgVFcuPGN8MT8ITP0XkJMY4ylIaKODpVBaZjEktGG+\n",
       "U2AgDLh/4CiFDIjQzOmAQ8KRCM3MF3BIdBGheRouCUbCnuZwwCk1kaBmtg0M1AcAHHt+mhAxLJcA\n",
       "AAAASUVORK5CYII=\n",
       "\" style=\"display:inline;vertical-align:middle;\" /></a></td></tr>\n",
       "<tr><td>4</td><td>ExprTuple</td><td>5, 6</td><td><a class=\"ProveItLink\" href=\"../448eb8db4d8c04360abba6e5665f4563cb9bb3c60/expr.ipynb\"><img src=\"data:image/png;base64,iVBORw0KGgoAAAANSUhEUgAAAGYAAAAbBAMAAAB8TedOAAAAMFBMVEX///+qqqp2dnYiIiJERESI\n",
       "iIhmZmYQEBDc3NyYmJgyMjLu7u5UVFTMzMy6uroAAACGxKilAAAAAXRSTlMAQObYZgAAAdVJREFU\n",
       "OMudkztIw1AUhv9qX7FJdHE2i3ul4AvECIIiDlFBF0EXF10EdXGxii4uRtBdEBWr0OBjKUIruFQR\n",
       "AgouisVJHHyggyg+zk1qm7bBGg/cyzn3ni/33D/nAkWswnb1/ldGzoslNgkJR8wlm2KaI8aj0JSE\n",
       "Iwb1gH/UJjEQbd2Ct7nGwpREO97GWsjpB7yDdl93q+dAOfhIZDKyll4SldgOKRDX4EvZMXwT1e3L\n",
       "qY0YT2oFKFVxnZO7vxpqNJg77bSQcaknVJiMPisibKZF5K8SMa3wnFuKuEccUzjTP93LJMTsj+68\n",
       "XinIBczZEu2L7+gklSSuwRdk6+2Z++je1LLBJLJM6GuC1fKBdZIRnkeXziSWswxO+ItcKam2Lkrw\n",
       "f6KWUsGbyeJYKJTWQMdBYCOfgXxD2U+MAXwKcluPGEG6KGTcxjnbLF7QwW4fCFoYLLrtmQ8ckXrh\n",
       "AXgMxZJWpmQ2k69ZahNf0QNUqW2YM/Z2f5rCzZzhTPs9mww3ZP6fB2Cve6daNTb967opRnScvZIM\n",
       "MxVmPfpSd8iadQXlurVo17GpW56J4axfpoCXUNw4ix8PQwg6ZJZotPyBUSx+E415ODKOvVGX5Igx\n",
       "f9qiI2YE/7Jvy+h0mLyD5SsAAAAASUVORK5CYII=\n",
       "\" style=\"display:inline;vertical-align:middle;\" /></a></td></tr>\n",
       "<tr><td>5</td><td>Operation</td><td>operator:&nbsp;7<br>operands:&nbsp;8<br></td><td><a class=\"ProveItLink\" href=\"../8ce59291c6ba57755d30be9d424c2a53f7765c5b0/expr.ipynb\"><img src=\"data:image/png;base64,iVBORw0KGgoAAAANSUhEUgAAAEAAAAAUBAMAAADPWCYMAAAAMFBMVEX///+6uroyMjJERETMzMwQ\n",
       "EBAiIiKYmJju7u5mZmaqqqpUVFSIiIh2dnbc3NwAAAAWgogoAAAAAXRSTlMAQObYZgAAAOZJREFU\n",
       "KM9jYMAHFjAQAAYDpYBD31iDgTM/C7cJzAXODAz8DNxKSkFKOtgUcKfwHGBgxbSC41BamgJYgVDD\n",
       "FmwKnCpgJrhsaGpAKHh7+tXJA0CazwJuhcMaFgO4Ao4L7OmsCSCnPUAo4BSoASvYAMS8DDwfuByA\n",
       "jGaEIx0YdnC7wp3GwA1ximhaGsyRDgzdHKoIx7EeAFPeyCawXHBFKHjvwNAApNqQFTBUMcN47A/O\n",
       "M/CAFHAXICvgfQzjrS8wZXgDdkwiPKgFgMQkGK/5bO8diN5HUyAijPrBQLIJSxysVoP4AgUAAJvP\n",
       "MDf1+uzOAAAAAElFTkSuQmCC\n",
       "\" style=\"display:inline;vertical-align:middle;\" /></a></td></tr>\n",
       "<tr><td>6</td><td>Literal</td><td></td><td><a class=\"ProveItLink\" href=\"../../../../../logic/boolean/__pv_it/46271c8230be96415d662709611f4ed2279d702b0/expr.ipynb\"><img src=\"data:image/png;base64,iVBORw0KGgoAAAANSUhEUgAAAA0AAAAOBAMAAAAGUYvhAAAAMFBMVEX///9mZmbMzMzc3NxUVFSY\n",
       "mJju7u6IiIi6urqqqqoiIiIQEBBEREQyMjJ2dnYAAAAQvcRZAAAAAXRSTlMAQObYZgAAAElJREFU\n",
       "CNdjePvn/u01ExgYGA60s117B6YZKngh9FSWBAjfBsxnWnoMRHet/10AkS+fA6F5OB5AaIYDqDRU\n",
       "PLCGgQFoz6ktExgAgLIl8DFvGtkAAAAASUVORK5CYII=\n",
       "\" style=\"display:inline;vertical-align:middle;\" /></a></td></tr>\n",
       "<tr><td>7</td><td>Literal</td><td></td><td><a class=\"ProveItLink\" href=\"../../../../../logic/set_theory/membership/__pv_it/088cbc857536a28d4119ad9639a84270ccb0545d0/expr.ipynb\"><img src=\"data:image/png;base64,iVBORw0KGgoAAAANSUhEUgAAAAwAAAAMBAMAAACkW0HUAAAALVBMVEX///+qqqpmZmZUVFQQEBC6\n",
       "urpERETc3NyYmJjMzMwiIiIyMjKIiIju7u4AAACYsrA9AAAAAXRSTlMAQObYZgAAADxJREFUCNdj\n",
       "YOA9vWrVBgaG2b0MQMCeCyIZ2ArA1DUwyRCyahVIyWQI7xaEYm4AU7xLIdxqTQgtvGvVBgCkcQ7e\n",
       "geM/tQAAAABJRU5ErkJggg==\n",
       "\" style=\"display:inline;vertical-align:middle;\" /></a></td></tr>\n",
       "<tr><td>8</td><td>ExprTuple</td><td>9, 10</td><td><a class=\"ProveItLink\" href=\"../b71e2c0b1169f0972f0551b7f4feafa69fdc572a0/expr.ipynb\"><img src=\"data:image/png;base64,iVBORw0KGgoAAAANSUhEUgAAAEAAAAAbBAMAAAA+DpTZAAAAMFBMVEX///+qqqp2dnYiIiJERESI\n",
       "iIhmZmYQEBDc3NyYmJgyMjLu7u5UVFTMzMy6uroAAACGxKilAAAAAXRSTlMAQObYZgAAAV1JREFU\n",
       "KM9jYMABGBHMd1gVsIAIBRDBewC3gjsgYtcG3ApYA4DESQbcChgsGBg4CpCFd33x2sCQ/FkApiCG\n",
       "gYEtAUWjJ68DA8MHhlOrlq9aBTR//wYG9gcoCg5fCGVgKIBbwTyB4T6q1edW81xAUsDmwBCOquDs\n",
       "He7VSAo4gbYBKQ7VE6KpUAWMAVeQFPD9ZvABUpsYJk8ohipgyOMMACngAXN5/zIsA4doPIMsTAHP\n",
       "hrMIn3P8YzADUhsYjsDdwMB9YBdCAfdHsAIGhlKEAoZLvCgmrAHTfxm44Qo4BRwQCv6CDZ/B+oEh\n",
       "GqIEqIBBA6GA7wdDMDBt/GQp4Ahg2G8AFPEDhc4CuAJgOLwHusRVWymSgWH7DwaGV9+BurkRCpgW\n",
       "MPBfgPNeYEY6VwADjwKcNwFTwf4GBl4DfAqmALEjjMOKJV3ZAnEXA27ACUpNjAq4FbSAyYm4FWQz\n",
       "EAYARbBUbbkOq14AAAAASUVORK5CYII=\n",
       "\" style=\"display:inline;vertical-align:middle;\" /></a></td></tr>\n",
       "<tr><td>9</td><td>Variable</td><td></td><td><a class=\"ProveItLink\" href=\"../../../../../__pv_it/530be409e3083890784cf1d7b28c9e67e90af9360/expr.ipynb\"><img src=\"data:image/png;base64,iVBORw0KGgoAAAANSUhEUgAAAAsAAAAJBAMAAAAWSsseAAAAKlBMVEX///9ERETMzMwQEBAiIiKY\n",
       "mJju7u5mZmaqqqpUVFSIiIh2dnbc3NwAAAA/vyDhAAAAAXRSTlMAQObYZgAAAENJREFUCNdjYDi9\n",
       "8sTyBQxsG1hdmR0YuBm4LnAoMLAxcAowgADzAjB1VoEhgYH1wFoGrgSG3gBhhlMMDImrs3cFMAAA\n",
       "t0YN+iTRa+sAAAAASUVORK5CYII=\n",
       "\" style=\"display:inline;vertical-align:middle;\" /></a></td></tr>\n",
       "<tr><td>10</td><td>Literal</td><td></td><td><a class=\"ProveItLink\" href=\"../42d4bc2e45d5054d807f2641a228c1b440fb8de30/expr.ipynb\"><img src=\"data:image/png;base64,iVBORw0KGgoAAAANSUhEUgAAABsAAAATBAMAAACTqWsLAAAAMFBMVEX////c3Nx2dna6uroQEBCI\n",
       "iIhUVFTMzMyYmJiqqqoiIiJmZmZEREQyMjLu7u4AAADjlg78AAAAAXRSTlMAQObYZgAAAHZJREFU\n",
       "GNNjYIADTgYUwEMy9+2fsw8Ydv2aAJM9wX6AgeEDQ+7dK3fvBjAwZBWEMjA4wPUm32MrQOKml/Hd\n",
       "Q+ZyBtQgcxk2cwSAuGxQLtuDdAe47ekMfAlvkbkMRewoXI4JB5C5DIoI7mEg5r4A49l+AcrwwbgA\n",
       "axoiJO4Xc9gAAAAASUVORK5CYII=\n",
       "\" style=\"display:inline;vertical-align:middle;\" /></a></td></tr>\n",
       "</table>\n"
      ],
      "text/plain": [
       "0. forall_{x} ((x in NaturalsPos) in BOOLEANS)\n",
       "   core type: Operation\n",
       "   operator: 1\n",
       "   operand: 2\n",
       "1. forall\n",
       "   core type: Literal\n",
       "   sub-expressions: \n",
       "2. x -> ((x in NaturalsPos) in BOOLEANS)\n",
       "   core type: Lambda\n",
       "   parameter: 9\n",
       "   body: 3\n",
       "3. (x in NaturalsPos) in BOOLEANS\n",
       "   core type: Operation\n",
       "   operator: 7\n",
       "   operands: 4\n",
       "4. (x in NaturalsPos , BOOLEANS)\n",
       "   core type: ExprTuple\n",
       "   sub-expressions: 5, 6\n",
       "5. x in NaturalsPos\n",
       "   core type: Operation\n",
       "   operator: 7\n",
       "   operands: 8\n",
       "6. BOOLEANS\n",
       "   core type: Literal\n",
       "   sub-expressions: \n",
       "7. in\n",
       "   core type: Literal\n",
       "   sub-expressions: \n",
       "8. (x , NaturalsPos)\n",
       "   core type: ExprTuple\n",
       "   sub-expressions: 9, 10\n",
       "9. x\n",
       "   core type: Variable\n",
       "   sub-expressions: \n",
       "10. NaturalsPos\n",
       "    core type: Literal\n",
       "    sub-expressions: "
      ]
     },
     "execution_count": 3,
     "metadata": {},
     "output_type": "execute_result"
    }
   ],
   "source": [
    "# display the expression information\n",
    "xInNatsPosInBool.exprInfo()"
   ]
  },
  {
   "cell_type": "code",
   "execution_count": null,
   "metadata": {},
   "outputs": [],
   "source": []
  }
 ],
 "metadata": {
  "kernelspec": {
   "display_name": "Python 3",
   "language": "python",
   "name": "python3"
  }
 },
 "nbformat": 4,
 "nbformat_minor": 0
}
