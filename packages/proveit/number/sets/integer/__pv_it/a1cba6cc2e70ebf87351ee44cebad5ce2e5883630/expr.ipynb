{
 "cells": [
  {
   "cell_type": "markdown",
   "metadata": {},
   "source": [
    "Expression of type <a class=\"ProveItLink\" href=\"../../../../../../../doc/html/api/proveit.Lambda.html\">Lambda</a>\n",
    "=======================\n",
    "# from context <a class=\"ProveItLink\" href=\"../../_context_.ipynb\">proveit.number.sets.integer</a>"
   ]
  },
  {
   "cell_type": "code",
   "execution_count": 1,
   "metadata": {},
   "outputs": [],
   "source": [
    "# import Expression classes needed to build the expression\n",
    "from proveit import Lambda\n",
    "from proveit._common_ import S, x\n",
    "from proveit.logic import InSet\n",
    "from proveit.number import Add, one"
   ]
  },
  {
   "cell_type": "code",
   "execution_count": 2,
   "metadata": {},
   "outputs": [
    {
     "data": {
      "text/html": [
       "<strong id=\"expr\">expr:</strong> <a class=\"ProveItLink\" href=\"expr.ipynb\"><img src=\"data:image/png;base64,iVBORw0KGgoAAAANSUhEUgAAAO4AAAAVCAMAAAB2ZSLKAAAANlBMVEX///+6uroUFBQNDQ0yMjJE\n",
       "RETMzMwQEBAiIiKYmJju7u5mZmaqqqpUVFSIiIh2dnbc3NwAAACltDI1AAAAAXRSTlMAQObYZgAA\n",
       "AkVJREFUWMPVWGmzqyAMlftANtn+/599VmslCxepM87cfOjpkpxwEELoNP0xW/Kz+USEOGBW3PdP\n",
       "4lG1c4B4zZTbwM+XVAbvvXtpZfy/k3tSDpp0EK+YU+WIupLB7iG8/1dya8ohixEiLw/sLxdCOOTa\n",
       "1M0QdpdF8v7fyAWUQ6YdRL6c4LmIh1yn0cREaVarxpHLvoDnyPn35VJGRDlUpyTEUbmTWkAhkBZP\n",
       "myi7xzwz/n25DCOizCmGvET/GSOUstQJfYJIYntyk6+nXdE1kkuJVYEC/lguzc4xQkq3jtwaO2lz\n",
       "fGPQyndoz59IY3tywf5R3Bkay2qfX8h+q+Qy2VlGQJm2zyvx3JDrwsmhBUAa25MrdF2w2fWYbdDl\n",
       "qA1Ct+XS7A3GmvL1EoDbvx8DTJdPiuPdG2lsT+5cHQZCHxlIJUjFUn/ydEn2XxhPyvVhgfEZXMfP\n",
       "DEguifXyZUZvEDpyuU7lPSR3RS4dOdv7YMp3pXYNub7aD3qBSGKHFrOhx4g/WHN/MdPsDCOmtHnb\n",
       "AFNsyAWnlbIAaWxPrq1XWbBkG7x/9oHzR3KZ7JQRUS7rM1brFOZziHCwQMlxLuzIxA4dRM7gQ9Sb\n",
       "LTSqCwcRl50yIkqnYnIpRXutzTA1tmKRXO91kX53knAtSnQJCJNYW051EkrRlMtmJ4yUcqiJzBCv\n",
       "dVXn7OOtuATJ1tGWf79n7jAO3qTShV6/fRVOg20r9X/4vvvNBfB8WPK2/8Nyc4A4dhPLt/0flvsp\n",
       "hHn8z5s43/ePt+T+B+wtHUYz1waxAAAAAElFTkSuQmCC\n",
       "\" style=\"display:inline;vertical-align:middle;\" /></a><br>"
      ],
      "text/plain": [
       "expr: x -> ((x + 1) in S) | x in S"
      ]
     },
     "execution_count": 2,
     "metadata": {},
     "output_type": "execute_result"
    }
   ],
   "source": [
    "# build up the expression from sub-expressions\n",
    "expr = Lambda(x, InSet(Add(x, one), S), conditions = [InSet(x, S)])"
   ]
  },
  {
   "cell_type": "code",
   "execution_count": 3,
   "metadata": {},
   "outputs": [
    {
     "name": "stdout",
     "output_type": "stream",
     "text": [
      "Passed sanity check: built 'expr' is the same as the stored Expression.\n"
     ]
    }
   ],
   "source": [
    "# check that the built expression is the same as the stored expression\n",
    "%check_expr"
   ]
  },
  {
   "cell_type": "code",
   "execution_count": 4,
   "metadata": {},
   "outputs": [
    {
     "data": {
      "text/html": [
       "<table><tr><th>&nbsp;</th><th>core type</th><th>sub-expressions</th><th>expression</th></tr>\n",
       "<tr><td>0</td><td>Lambda</td><td>parameter:&nbsp;11<br>body:&nbsp;1<br>conditions:&nbsp;2<br></td><td><a class=\"ProveItLink\" href=\"expr.ipynb\"><img src=\"data:image/png;base64,iVBORw0KGgoAAAANSUhEUgAAAO4AAAAVCAMAAAB2ZSLKAAAANlBMVEX///+6uroUFBQNDQ0yMjJE\n",
       "RETMzMwQEBAiIiKYmJju7u5mZmaqqqpUVFSIiIh2dnbc3NwAAACltDI1AAAAAXRSTlMAQObYZgAA\n",
       "AkVJREFUWMPVWGmzqyAMlftANtn+/599VmslCxepM87cfOjpkpxwEELoNP0xW/Kz+USEOGBW3PdP\n",
       "4lG1c4B4zZTbwM+XVAbvvXtpZfy/k3tSDpp0EK+YU+WIupLB7iG8/1dya8ohixEiLw/sLxdCOOTa\n",
       "1M0QdpdF8v7fyAWUQ6YdRL6c4LmIh1yn0cREaVarxpHLvoDnyPn35VJGRDlUpyTEUbmTWkAhkBZP\n",
       "myi7xzwz/n25DCOizCmGvET/GSOUstQJfYJIYntyk6+nXdE1kkuJVYEC/lguzc4xQkq3jtwaO2lz\n",
       "fGPQyndoz59IY3tywf5R3Bkay2qfX8h+q+Qy2VlGQJm2zyvx3JDrwsmhBUAa25MrdF2w2fWYbdDl\n",
       "qA1Ct+XS7A3GmvL1EoDbvx8DTJdPiuPdG2lsT+5cHQZCHxlIJUjFUn/ydEn2XxhPyvVhgfEZXMfP\n",
       "DEguifXyZUZvEDpyuU7lPSR3RS4dOdv7YMp3pXYNub7aD3qBSGKHFrOhx4g/WHN/MdPsDCOmtHnb\n",
       "AFNsyAWnlbIAaWxPrq1XWbBkG7x/9oHzR3KZ7JQRUS7rM1brFOZziHCwQMlxLuzIxA4dRM7gQ9Sb\n",
       "LTSqCwcRl50yIkqnYnIpRXutzTA1tmKRXO91kX53knAtSnQJCJNYW051EkrRlMtmJ4yUcqiJzBCv\n",
       "dVXn7OOtuATJ1tGWf79n7jAO3qTShV6/fRVOg20r9X/4vvvNBfB8WPK2/8Nyc4A4dhPLt/0flvsp\n",
       "hHn8z5s43/ePt+T+B+wtHUYz1waxAAAAAElFTkSuQmCC\n",
       "\" style=\"display:inline;vertical-align:middle;\" /></a></td></tr>\n",
       "<tr><td>1</td><td>Operation</td><td>operator:&nbsp;6<br>operands:&nbsp;3<br></td><td><a class=\"ProveItLink\" href=\"../d172a68268fe8e4f2bbcf58ed40d39f1d7af5cf40/expr.ipynb\"><img src=\"data:image/png;base64,iVBORw0KGgoAAAANSUhEUgAAAGUAAAAVBAMAAACtcD09AAAAMFBMVEX////c3NwiIiJERESqqqqY\n",
       "mJh2dnZmZmYQEBDu7u4yMjJUVFTMzMyIiIi6uroAAAAs73DqAAAAAXRSTlMAQObYZgAAAXJJREFU\n",
       "OMtjYCAH8F3AJROHU89p7MKWDAzsBzBEWbeXT33AwLASq5bJP4HEAgzhpQyc9gwMvKhOmwihZu8G\n",
       "6QlD18KdwMDgxcDAMQFF1BdK84L0zIBy5i5S0gIz5IGuPcvA8IoBtx5mBzCbZynM3PdAgTMMDGVA\n",
       "pthtkesXsOhhKwCzheFOkf97AOIrBs4EVlUOBSx6WCCBYAh3Be///yBOH9A4Bt4PLAew6OFrADE5\n",
       "DRBOF93xA2jpP6AgA7cBVv/wfABHepOSEjQMgCA/AKwHGHgQ31StWqWxatVqND08G+AxCsTzgXpa\n",
       "oGE4AbfbFGB6poOUCjAwmAK1C9xn4MWmhxUSBltheoDRyVANxOkMDP4BFgyyDLjDetIDqGDRBQZe\n",
       "kM8fAdPWtWm5Aah62Ct+lTIwcEEUMy6HBuqG17tNwd4XwJoOwACWdlh2IcINHBYJKHreInNyceWf\n",
       "lThzFucCXDLSOPVwC+CSYcSZt+/gEAcA7j5eUJOjdXoAAAAASUVORK5CYII=\n",
       "\" style=\"display:inline;vertical-align:middle;\" /></a></td></tr>\n",
       "<tr><td>2</td><td>ExprTuple</td><td>4</td><td><a class=\"ProveItLink\" href=\"../fb4b58b42616fe0f04290bfd9475683bbfa6f1fa0/expr.ipynb\"><img src=\"data:image/png;base64,iVBORw0KGgoAAAANSUhEUgAAAD8AAAAVBAMAAAADRiu8AAAAMFBMVEX////c3NwiIiJERESqqqqY\n",
       "mJh2dnZmZmYQEBDu7u4yMjJUVFTMzMyIiIi6uroAAAAs73DqAAAAAXRSTlMAQObYZgAAATxJREFU\n",
       "KM9jYCAI+C7glosDEaexy7FuL5/6gP0AkLUSu4KlDJz2DAwLGBh4sdvAncDA4MXAEMbAwDEBWXzu\n",
       "IiUtMEMeaPhZBoYZDAyvkOV5lsKUv3dgYDjDwMDswFAG5IndFrkOtkkYbpz8X5D7GNgKgI5h4Exg\n",
       "VeVQAPEN4Wbx/v8P4rAsYOgDKmPg/cAC0sBpgLBNdMcPoHF8DQz/gOIM3BAZviYlJagjgSA/AOio\n",
       "DyAFQK9A/MqzAR5MQDwfoqAF6imQ8zgVYAqmgwQFwFaYApUL3GfgBbt/K0wBMIwYqkEmLWBIZ2Dw\n",
       "D7BgkAWLT3oAVVB0gYHXAOLNRwwMk69Nyw0AizMuPwBRsOH1blMQzfWAgUMAOShZdiF8AQLAoGZN\n",
       "wJdYcnFHNxhwAqObQRqPAm6Q/Yx4ktwdBgYAeCZFUIOujisAAAAASUVORK5CYII=\n",
       "\" style=\"display:inline;vertical-align:middle;\" /></a></td></tr>\n",
       "<tr><td>3</td><td>ExprTuple</td><td>5, 10</td><td><a class=\"ProveItLink\" href=\"../0b574a024f6edf142ea72b92494b022a5832c7700/expr.ipynb\"><img src=\"data:image/png;base64,iVBORw0KGgoAAAANSUhEUgAAAFMAAAAVBAMAAADInc9CAAAAMFBMVEX////c3NwiIiJERESqqqqY\n",
       "mJh2dnZmZmYQEBDu7u4yMjJUVFTMzMyIiIi6uroAAAAs73DqAAAAAXRSTlMAQObYZgAAAUtJREFU\n",
       "KM9jYCAB8F0gRlUciDiNXY55AozFur186gP2A0DWSqwqOe3hSpcCOQwMCxgYeFHtnwhVuXs/TCl3\n",
       "AgODFwNDGAMDxwQUpb4wxn2YuDzQ6rMMDDMYGF4xEFD63oGB4QzQ7Q4MZUCe2G2R6xdwmvoX5CMG\n",
       "tgKgoxk4E1hVORRwKeX9/98QSLEsYOgDamDg/cByAJdSBtEdP4BsvgaGf0BTGbgNcLsVCPIDGBh4\n",
       "PoCUAoMB4tKqVas0Vq1ajaKUFYjnQ5S2QANkAg5Tp4OkBcAOMAVqFLjPwItNKUgMGPoM1SDTFzCk\n",
       "MzD4B1gwyGJxK+cnIF10gYHXABJYjxgYJl+blhuAprS8f3kAZz/Q4g2vd5uCBLgeMHAIYI8tcPpE\n",
       "kgNGLGsCitK3yBxWJHYuzkSIrpQTmAgZpHErRUqf3CC3MBKVYe4wMAAA0M1alw/3X2IAAAAASUVO\n",
       "RK5CYII=\n",
       "\" style=\"display:inline;vertical-align:middle;\" /></a></td></tr>\n",
       "<tr><td>4</td><td>Operation</td><td>operator:&nbsp;6<br>operands:&nbsp;7<br></td><td><a class=\"ProveItLink\" href=\"../1a5edcc057c65f4f25007410b60206f5c08ed0560/expr.ipynb\"><img src=\"data:image/png;base64,iVBORw0KGgoAAAANSUhEUgAAADMAAAAPBAMAAAC7N+rPAAAAMFBMVEX///+6uroyMjJERETMzMwQ\n",
       "EBAiIiKYmJju7u5mZmaqqqpUVFSIiIh2dnbc3NwAAAAWgogoAAAAAXRSTlMAQObYZgAAAM1JREFU\n",
       "GNNjYMAG2HfObBfAKsOgzsBhj12G+wIDwyIUkR61tCQw470DA4MPsgyLegOUJb+AgcEFSL89/erk\n",
       "AZDAY5gMw/s/DiCK4wJ7OmsCiGUH18/z/z+Iw8vA84ELpIjDAGH2861fgUZwMHBDxBjD0tKgzgCC\n",
       "+wUgkvUAxBUb4B4G4v4CqFNBDuBIgEl1ggQfAJU8OM/AA3bbdpgUyLezgXh9gSnDG7BIGyzUph1g\n",
       "4AHZ33y29w7YXAY+TQeI1Abp3eZoQce1CeFCIAAAnqEy768c/WoAAAAASUVORK5CYII=\n",
       "\" style=\"display:inline;vertical-align:middle;\" /></a></td></tr>\n",
       "<tr><td>5</td><td>Operation</td><td>operator:&nbsp;8<br>operands:&nbsp;9<br></td><td><a class=\"ProveItLink\" href=\"../44cc2899d0771d57d9d2a2d5795f6efb9fc890200/expr.ipynb\"><img src=\"data:image/png;base64,iVBORw0KGgoAAAANSUhEUgAAAC4AAAAQBAMAAACb51DZAAAAMFBMVEX///+6uroyMjJERETMzMwQ\n",
       "EBAiIiKYmJju7u5mZmaqqqpUVFSIiIh2dnbc3NwAAAAWgogoAAAAAXRSTlMAQObYZgAAAHVJREFU\n",
       "GNNjYMAGLLCKMjT/QOFyPIDQ3btRxbkOQBk8+MTfnn518gCmOMcF9nTWBExxXgaeD1wOWNQzcBtg\n",
       "t5cVzOVUUlILUlLagBB/78DQgKme/cF5Bh4s4usLTBneYDG/+WzvnQJUcc6pn6Zj9S8aYEQSBwDE\n",
       "6i3cl5OwbgAAAABJRU5ErkJggg==\n",
       "\" style=\"display:inline;vertical-align:middle;\" /></a></td></tr>\n",
       "<tr><td>6</td><td>Literal</td><td></td><td><a class=\"ProveItLink\" href=\"../../../../../logic/set_theory/membership/__pv_it/088cbc857536a28d4119ad9639a84270ccb0545d0/expr.ipynb\"><img src=\"data:image/png;base64,iVBORw0KGgoAAAANSUhEUgAAAAwAAAAMBAMAAACkW0HUAAAALVBMVEX///+qqqpmZmZUVFQQEBC6\n",
       "urpERETc3NyYmJjMzMwiIiIyMjKIiIju7u4AAACYsrA9AAAAAXRSTlMAQObYZgAAADxJREFUCNdj\n",
       "YOA9vWrVBgaG2b0MQMCeCyIZ2ArA1DUwyRCyahVIyWQI7xaEYm4AU7xLIdxqTQgtvGvVBgCkcQ7e\n",
       "geM/tQAAAABJRU5ErkJggg==\n",
       "\" style=\"display:inline;vertical-align:middle;\" /></a></td></tr>\n",
       "<tr><td>7</td><td>ExprTuple</td><td>11, 10</td><td><a class=\"ProveItLink\" href=\"../75ea65b79fca5a7e0a4b0a55cd46edaf622a0d8e0/expr.ipynb\"><img src=\"data:image/png;base64,iVBORw0KGgoAAAANSUhEUgAAAC8AAAAVBAMAAAAk6KpUAAAAMFBMVEX////c3NwiIiJERESqqqqY\n",
       "mJh2dnZmZmYQEBDu7u4yMjJUVFTMzMyIiIi6uroAAAAs73DqAAAAAXRSTlMAQObYZgAAARhJREFU\n",
       "KM9jYMAJ+C5gisWBiNOoYqzby6c+YD8AZK1ElVjKwGnPwLCAgYEX1STuBAYGLwaGMAYGjgkoEvJA\n",
       "Q84yMMxgYHiFatJ7BwaGMwwMzA4MZUCe2G2R61AT5f+C7GVgKwBaxsCZwKrKoQCR4P3/3xBIsSxg\n",
       "6ANKM/B+YDkANUt0xw+grXwNDP+AOhi4DZCsyQ9gYOD5AJIAOg3mZlYgng+RaIE6EuLq6SCOANgo\n",
       "U6AygfsMvBPAUkC/MVSDdC5gSGdg8A+wYJBl4PwEFCi6wMBrAHHuIwaGydem5QYwcPYDjdjwercp\n",
       "yEiuBwwcAvDwF0C4DBgkrAkMSC6CgVzkYEeS4AQGO4M0jIcU/twgUxmxRO0dBgYA4X0+BGW7KnUA\n",
       "AAAASUVORK5CYII=\n",
       "\" style=\"display:inline;vertical-align:middle;\" /></a></td></tr>\n",
       "<tr><td>8</td><td>Literal</td><td></td><td><a class=\"ProveItLink\" href=\"../../../../addition/__pv_it/3e6688136fa3c7aefbebe51301b7c3ebf0b69c440/expr.ipynb\"><img src=\"data:image/png;base64,iVBORw0KGgoAAAANSUhEUgAAAA4AAAAOBAMAAADtZjDiAAAAJFBMVEX///+6urpUVFQQEBAiIiIy\n",
       "MjJmZmaIiIiqqqrc3Nzu7u4AAACgHpL+AAAAAXRSTlMAQObYZgAAAB5JREFUCNdjYGBgWMkAAe2k\n",
       "0Kmhoc6hoUGk6BMHYgAHOwjcado9fwAAAABJRU5ErkJggg==\n",
       "\" style=\"display:inline;vertical-align:middle;\" /></a></td></tr>\n",
       "<tr><td>9</td><td>ExprTuple</td><td>11, 12</td><td><a class=\"ProveItLink\" href=\"../457c4f371bb7527d09ecb7966f2077b7c5ea537e0/expr.ipynb\"><img src=\"data:image/png;base64,iVBORw0KGgoAAAANSUhEUgAAACsAAAAVBAMAAAAtAwouAAAAMFBMVEX////c3NwiIiJERESqqqqY\n",
       "mJh2dnZmZmYQEBDu7u4yMjJUVFTMzMyIiIi6uroAAAAs73DqAAAAAXRSTlMAQObYZgAAAOFJREFU\n",
       "GNNjYMAB+C6gi8SBiNOoYpYMDOwHgPRKFNHJP4HEAgYGXhQzZu8GCYcxMHBMQFHNCxKewcDwigFT\n",
       "mNmBoQxIid0WuX4BSZitgGEpAwNnAqsqhwKSMMsChj6gJAPvB5YDSMJ8DQz/gKoZuA1QzOb5ABIG\n",
       "OucCunALiCN/gGECqiGmDAysAvcZeCdAJMDCrAsY0hkY/AMsGGQZOD8hO/ARMByuTcsNYODsFwCG\n",
       "UsWvUgYGrgcMHALwEIazgJ5nTYBxWOEhkIscsHBhTmDAMkjDeHC3c4NMY8SItDsMDABYdDicWEvs\n",
       "mgAAAABJRU5ErkJggg==\n",
       "\" style=\"display:inline;vertical-align:middle;\" /></a></td></tr>\n",
       "<tr><td>10</td><td>Variable</td><td></td><td><a class=\"ProveItLink\" href=\"../../../../../__pv_it/abeee18594afe51bfb1be95d9591fbba24ac53f30/expr.ipynb\"><img src=\"data:image/png;base64,iVBORw0KGgoAAAANSUhEUgAAAA0AAAAOBAMAAAAGUYvhAAAAMFBMVEX///8iIiIQEBCIiIjMzMzc\n",
       "3Nyqqqp2dnZEREQyMjK6urru7u5mZmZUVFSYmJgAAACI6eGPAAAAAXRSTlMAQObYZgAAAF1JREFU\n",
       "CNdjYGDgu3Nm3wIGBoZ5DNz9QIq3gIEhE0jHOzAwOAPp9QkMDC4g/megABAw///fCmbEXfq0Acxg\n",
       "qH8ANAVI7wfSe0BKAyBGnAXigwYMzA1A+sLau31ACgAz0hhbkhGHbwAAAABJRU5ErkJggg==\n",
       "\" style=\"display:inline;vertical-align:middle;\" /></a></td></tr>\n",
       "<tr><td>11</td><td>Variable</td><td></td><td><a class=\"ProveItLink\" href=\"../../../../../__pv_it/530be409e3083890784cf1d7b28c9e67e90af9360/expr.ipynb\"><img src=\"data:image/png;base64,iVBORw0KGgoAAAANSUhEUgAAAAsAAAAJBAMAAAAWSsseAAAAKlBMVEX///9ERETMzMwQEBAiIiKY\n",
       "mJju7u5mZmaqqqpUVFSIiIh2dnbc3NwAAAA/vyDhAAAAAXRSTlMAQObYZgAAAENJREFUCNdjYDi9\n",
       "8sTyBQxsG1hdmR0YuBm4LnAoMLAxcAowgADzAjB1VoEhgYH1wFoGrgSG3gBhhlMMDImrs3cFMAAA\n",
       "t0YN+iTRa+sAAAAASUVORK5CYII=\n",
       "\" style=\"display:inline;vertical-align:middle;\" /></a></td></tr>\n",
       "<tr><td>12</td><td>Literal</td><td></td><td><a class=\"ProveItLink\" href=\"../../../../numeral/__pv_it/9be8badea4c35b9724062cecc501d17a3158d1d20/expr.ipynb\"><img src=\"data:image/png;base64,iVBORw0KGgoAAAANSUhEUgAAAAgAAAAPBAMAAAArJJMAAAAAHlBMVEX///+YmJgyMjIQEBBmZmaI\n",
       "iIhUVFTu7u5EREQAAAAw+MI4AAAAAXRSTlMAQObYZgAAACFJREFUCNdjYGBoZ2BgqJjOwFCWBiQY\n",
       "WEklWJwnOTKAAACjEQo8HvEr3AAAAABJRU5ErkJggg==\n",
       "\" style=\"display:inline;vertical-align:middle;\" /></a></td></tr>\n",
       "</table>\n"
      ],
      "text/plain": [
       "0. x -> ((x + 1) in S) | x in S\n",
       "   core type: Lambda\n",
       "   parameter: 11\n",
       "   body: 1\n",
       "   conditions: 2\\n1. (x + 1) in S\n",
       "   core type: Operation\n",
       "   operator: 6\n",
       "   operands: 3\n",
       "2. (x in S)\n",
       "   core type: ExprTuple\n",
       "   sub-expressions: 4\n",
       "3. (x + 1 , S)\n",
       "   core type: ExprTuple\n",
       "   sub-expressions: 5, 10\n",
       "4. x in S\n",
       "   core type: Operation\n",
       "   operator: 6\n",
       "   operands: 7\n",
       "5. x + 1\n",
       "   core type: Operation\n",
       "   operator: 8\n",
       "   operands: 9\n",
       "6. in\n",
       "   core type: Literal\n",
       "   sub-expressions: \n",
       "7. (x , S)\n",
       "   core type: ExprTuple\n",
       "   sub-expressions: 11, 10\n",
       "8. +\n",
       "   core type: Literal\n",
       "   sub-expressions: \n",
       "9. (x , 1)\n",
       "   core type: ExprTuple\n",
       "   sub-expressions: 11, 12\n",
       "10. S\n",
       "    core type: Variable\n",
       "    sub-expressions: \n",
       "11. x\n",
       "    core type: Variable\n",
       "    sub-expressions: \n",
       "12. 1\n",
       "    core type: Literal\n",
       "    sub-expressions: "
      ]
     },
     "execution_count": 4,
     "metadata": {},
     "output_type": "execute_result"
    }
   ],
   "source": [
    "# display the expression information\n",
    "expr.exprInfo()"
   ]
  },
  {
   "cell_type": "code",
   "execution_count": null,
   "metadata": {},
   "outputs": [],
   "source": []
  }
 ],
 "metadata": {
  "kernelspec": {
   "display_name": "Python 3",
   "language": "python",
   "name": "python3"
  }
 },
 "nbformat": 4,
 "nbformat_minor": 0
}
