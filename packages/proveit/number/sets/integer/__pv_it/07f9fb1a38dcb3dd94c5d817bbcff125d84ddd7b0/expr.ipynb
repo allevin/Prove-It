{
 "cells": [
  {
   "cell_type": "markdown",
   "metadata": {},
   "source": [
    "Expression of type <a class=\"ProveItLink\" href=\"../../../../../../../doc/html/api/proveit.ExprTuple.html\">ExprTuple</a>\n",
    "=======================\n",
    "# from context <a class=\"ProveItLink\" href=\"../../_context_.ipynb\">proveit.number.sets.integer</a>"
   ]
  },
  {
   "cell_type": "code",
   "execution_count": 1,
   "metadata": {},
   "outputs": [],
   "source": [
    "# import Expression classes needed to build the expression\n",
    "from proveit import ExprTuple\n",
    "from proveit._common_ import n\n",
    "from proveit.logic import SetOfAll\n",
    "from proveit.number import Naturals, NaturalsPos, Neg"
   ]
  },
  {
   "cell_type": "code",
   "execution_count": 2,
   "metadata": {},
   "outputs": [
    {
     "data": {
      "text/html": [
       "<strong id=\"expr\">expr:</strong> <a class=\"ProveItLink\" href=\"expr.ipynb\"><img src=\"data:image/png;base64,iVBORw0KGgoAAAANSUhEUgAAALwAAAAaBAMAAAD/IitrAAAAMFBMVEX///+qqqp2dnYiIiJERESI\n",
       "iIhmZmYQEBDc3NyYmJgyMjLu7u5UVFTMzMy6uroAAACGxKilAAAAAXRSTlMAQObYZgAAAwRJREFU\n",
       "SMe1lk1oE0EUx//dpkk2+5FcvAjFCCoeeqj1Aw8WI7Q3kYCWgigEwUKtShAPBSnm0ILaS1qqoBAJ\n",
       "qBVR7IKKtAopouBHhVCUXpTuJRQE24oXpVR8M9lJdjbZ9qAdyMzu7H9++/LmvTcLYBEb1OKsM6Y3\n",
       "Cv+FdVOWZ1btXXNRQ8Z9N7vTX9mUpO6dZ1JrY33J+05bXCnOVQm32TAX8+fvB8JpaBMdDxE8uMt5\n",
       "53Jdj53z4EkRLNIYzPvjT9DjFBDIfgKiYnmauojXY4h48EyRF3KfVrAQIrXeTm4KufFdNVI1LuOZ\n",
       "YnQdfGMW8zTo36yPMv5SjVRLy3imeL4OPphAN8N/nZ6y3HizjkMPSXiuCMTWxqvLeM/wxU1Gwo0P\n",
       "xqsa89iVrlc07pDwXKGk1sabKzjM8UH7usCzUIhkqxpFv4cCxchmCc8VDXluoW8zVjHO8figzzlz\n",
       "c7Q8ZFc1i40JFOh+QcJzhcksH/fHh/9gXxn/UrvvZPIAdVFaHL6zmzXbIvYWisJ5Cc8UMJjlgQd+\n",
       "5QbaD4E34sL6haKzWDRisw3yw7fVszslrH9UxmMk4DzRyaEhd6afAX5rNc6JOc6RfW+Mn0d3XwW/\n",
       "itcOXhkEeKoqrSyNXUsuQF1RgFsSnivUvBQ5z3p6MaZYiiXw5i8cZVqbG6n9FIGppKT9URLN3sDk\n",
       "Cjkwm44Mv8DNZEqxzs4cmImV436JXjJxkRVmaJczIq1aXcGbRriTxI/ltGKKiF2Wq6dLLcANNp9r\n",
       "Hqpar+QRLbpIAo/+dYtCv6soTC5lG4u8wCGnTM5W8JEkdFeCqpWaM1qDV5Iynim2O/Lh44hmDA7K\n",
       "Id5SwRcyMFo9eLV+QZ6qLchaXtT7NxRXxp6Ojk7CX31SwY+5ShU1bqC2l+1nzXHy1oMnhZ5xkhwD\n",
       "6DG16bL15mfClw/Mdvpdq6lzW6kb8p6blS1qclJuCCfFWRtexsD3sgE5cpv45yr7Dw3xf/4kMBM4\n",
       "lcVTeq9514Yupgd5P/K/Pjy2ke/drQ8b3f4Ctnjb9jYkA0sAAAAASUVORK5CYII=\n",
       "\" style=\"display:inline;vertical-align:middle;\" /></a><br>"
      ],
      "text/plain": [
       "expr: (Naturals , {(-n) s.t. ()}_{n in NaturalsPos})"
      ]
     },
     "execution_count": 2,
     "metadata": {},
     "output_type": "execute_result"
    }
   ],
   "source": [
    "# build up the expression from sub-expressions\n",
    "expr = ExprTuple(Naturals, SetOfAll([n], Neg(n), domain = NaturalsPos, conditions = []))"
   ]
  },
  {
   "cell_type": "code",
   "execution_count": 3,
   "metadata": {},
   "outputs": [
    {
     "name": "stdout",
     "output_type": "stream",
     "text": [
      "Passed sanity check: built 'expr' is the same as the stored Expression.\n"
     ]
    }
   ],
   "source": [
    "# check that the built expression is the same as the stored expression\n",
    "%check_expr"
   ]
  },
  {
   "cell_type": "code",
   "execution_count": 4,
   "metadata": {},
   "outputs": [
    {
     "data": {
      "text/html": [
       "<table><tr><th>&nbsp;</th><th>core type</th><th>sub-expressions</th><th>expression</th></tr>\n",
       "<tr><td>0</td><td>ExprTuple</td><td>1, 2</td><td><a class=\"ProveItLink\" href=\"expr.ipynb\"><img src=\"data:image/png;base64,iVBORw0KGgoAAAANSUhEUgAAALwAAAAaBAMAAAD/IitrAAAAMFBMVEX///+qqqp2dnYiIiJERESI\n",
       "iIhmZmYQEBDc3NyYmJgyMjLu7u5UVFTMzMy6uroAAACGxKilAAAAAXRSTlMAQObYZgAAAwRJREFU\n",
       "SMe1lk1oE0EUx//dpkk2+5FcvAjFCCoeeqj1Aw8WI7Q3kYCWgigEwUKtShAPBSnm0ILaS1qqoBAJ\n",
       "qBVR7IKKtAopouBHhVCUXpTuJRQE24oXpVR8M9lJdjbZ9qAdyMzu7H9++/LmvTcLYBEb1OKsM6Y3\n",
       "Cv+FdVOWZ1btXXNRQ8Z9N7vTX9mUpO6dZ1JrY33J+05bXCnOVQm32TAX8+fvB8JpaBMdDxE8uMt5\n",
       "53Jdj53z4EkRLNIYzPvjT9DjFBDIfgKiYnmauojXY4h48EyRF3KfVrAQIrXeTm4KufFdNVI1LuOZ\n",
       "YnQdfGMW8zTo36yPMv5SjVRLy3imeL4OPphAN8N/nZ6y3HizjkMPSXiuCMTWxqvLeM/wxU1Gwo0P\n",
       "xqsa89iVrlc07pDwXKGk1sabKzjM8UH7usCzUIhkqxpFv4cCxchmCc8VDXluoW8zVjHO8figzzlz\n",
       "c7Q8ZFc1i40JFOh+QcJzhcksH/fHh/9gXxn/UrvvZPIAdVFaHL6zmzXbIvYWisJ5Cc8UMJjlgQd+\n",
       "5QbaD4E34sL6haKzWDRisw3yw7fVszslrH9UxmMk4DzRyaEhd6afAX5rNc6JOc6RfW+Mn0d3XwW/\n",
       "itcOXhkEeKoqrSyNXUsuQF1RgFsSnivUvBQ5z3p6MaZYiiXw5i8cZVqbG6n9FIGppKT9URLN3sDk\n",
       "Cjkwm44Mv8DNZEqxzs4cmImV436JXjJxkRVmaJczIq1aXcGbRriTxI/ltGKKiF2Wq6dLLcANNp9r\n",
       "Hqpar+QRLbpIAo/+dYtCv6soTC5lG4u8wCGnTM5W8JEkdFeCqpWaM1qDV5Iynim2O/Lh44hmDA7K\n",
       "Id5SwRcyMFo9eLV+QZ6qLchaXtT7NxRXxp6Ojk7CX31SwY+5ShU1bqC2l+1nzXHy1oMnhZ5xkhwD\n",
       "6DG16bL15mfClw/Mdvpdq6lzW6kb8p6blS1qclJuCCfFWRtexsD3sgE5cpv45yr7Dw3xf/4kMBM4\n",
       "lcVTeq9514Yupgd5P/K/Pjy2ke/drQ8b3f4Ctnjb9jYkA0sAAAAASUVORK5CYII=\n",
       "\" style=\"display:inline;vertical-align:middle;\" /></a></td></tr>\n",
       "<tr><td>1</td><td>Literal</td><td></td><td><a class=\"ProveItLink\" href=\"../e5d9bd86b06b357eee742ad868997123619e09700/expr.ipynb\"><img src=\"data:image/png;base64,iVBORw0KGgoAAAANSUhEUgAAAA8AAAAOBAMAAAACpFvcAAAAMFBMVEX////c3Nx2dna6uroQEBCI\n",
       "iIhUVFTMzMyYmJiqqqoiIiJmZmZEREQyMjLu7u4AAADjlg78AAAAAXRSTlMAQObYZgAAAGBJREFU\n",
       "CNdjePvn7AOGXb8mMDCcYD/AwPCBgYEhqyCUgcEByEi+x1YAZqSX8d2DMDgDaiAMhs0cARAG24N0\n",
       "CIMv4S2EwVDEDmVwTDgAYTAoghiHgZj7AgOD7Rcgj+8CAwA9oh2B0HK+MAAAAABJRU5ErkJggg==\n",
       "\" style=\"display:inline;vertical-align:middle;\" /></a></td></tr>\n",
       "<tr><td>2</td><td>Operation</td><td>operator:&nbsp;3<br>operand:&nbsp;4<br></td><td><a class=\"ProveItLink\" href=\"../42fa9862390d971b044480dfddf80a7573c190a10/expr.ipynb\"><img src=\"data:image/png;base64,iVBORw0KGgoAAAANSUhEUgAAAJEAAAAXBAMAAAD5H7DVAAAAMFBMVEX////c3NxERESqqqpUVFS6\n",
       "urrMzMwyMjIQEBCIiIh2dnYiIiLu7u5mZmaYmJgAAABXZE4RAAAAAXRSTlMAQObYZgAAAhBJREFU\n",
       "OMullD9MwkAUxh9CAWspxMWQEP8lDm5MzpqQGLdORiYZHJCpcdfAwsRAolHZqrK4GaODuDROGo1x\n",
       "0EEjhJjIQKKy6OTgu2tre1cKib7hlffl64/ru7sHAHIDeoU/5qxye95OqUZymlNff3+JivFMG1o2\n",
       "6Uka7GAKznJqJMOR0EG1iOpJEvOYQjovqxyJOFTL3oNUccltjlQxtX6kkku+5EglU+tDEtwfP5Bk\n",
       "SNRBtD6kiGbX6Yn4FpbiHUOiDqL1IJHNCDXtWpsvS194jFSGRB1EkzuepCw6w8pvKSjHIH3iM8+Q\n",
       "qINq616glSKmKPpGzkmcSojxf+P56TAk4jC0gY0uFNqdpYzps27HNwTUHqRat/XQppLXwkmmb9Gm\n",
       "7vq6pPl1bJ+C6w+w+2ySxCNcsaPjYQ0+dA1ktuPUQTTH3l3VG/Ai6qJukfKOLccYU2Dfn+FPAS3Z\n",
       "UzA4lbiB9/KdqN+nTlLmUROObNISwPAmbrvCnkziIBqxy4/pKsAb0VszcWZNUOh7WwqO23K73BzK\n",
       "GHe8Jd7mGFLbRTrkSG1TI/bEDkRjQbrzLdCqFknuOlWkLlOFanQ+LWAPgseTk9NIGr22SNIZJh8/\n",
       "6QIxjoQOqpErAUWoC9KssSZhFUmGWz7AFOdI2/ZMNVsfpxqd474OFBdhziBBW4c/hzAOT024wL8Q\n",
       "1hQIwL9jH/tkxw+V95sEmoKgHgAAAABJRU5ErkJggg==\n",
       "\" style=\"display:inline;vertical-align:middle;\" /></a></td></tr>\n",
       "<tr><td>3</td><td>Literal</td><td></td><td><a class=\"ProveItLink\" href=\"../../../../../logic/set_theory/comprehension/__pv_it/250168afd46c0cd40d5032f83711ac039eed02c90/expr.ipynb\"><img src=\"data:image/png;base64,iVBORw0KGgoAAAANSUhEUgAAAB4AAAAOBAMAAADKyLEKAAAAMFBMVEX///8iIiIQEBCIiIjMzMzc\n",
       "3Nyqqqp2dnZEREQyMjK6urru7u5mZmZUVFSYmJgAAACI6eGPAAAAAXRSTlMAQObYZgAAALRJREFU\n",
       "CNdjYGDgu3Nm3wIGBJjHwN0PZW5yYGDgLWBgyITy8zcwMMQDxZyh/INAvD6BgcEFypcB4vjPDiBm\n",
       "TPFRrhs/LjMwMP//38rAwCbKEMPA9gEkE3fp0waG+AUMRxh4JkC01T9guPTOOICBEWgVH5C//wHD\n",
       "H5D4fqCz9oCMDGD4DLaegRXslLMMDMpAgxlOMmQxHDRgYG5gYLBk4D7KcIe7gOHC2rt9QCXsh40Z\n",
       "GCKMGQDRkC8N/Ph1XAAAAABJRU5ErkJggg==\n",
       "\" style=\"display:inline;vertical-align:middle;\" /></a></td></tr>\n",
       "<tr><td>4</td><td>Lambda</td><td>parameter:&nbsp;11<br>body:&nbsp;5<br>conditions:&nbsp;6<br></td><td><a class=\"ProveItLink\" href=\"../3ce967c1947fb15166b3dcb59d06e006757e43cc0/expr.ipynb\"><img src=\"data:image/png;base64,iVBORw0KGgoAAAANSUhEUgAAALIAAAAYCAMAAABp01fSAAAANlBMVEX///8UFBQNDQ0QEBCYmJhm\n",
       "ZmaqqqoiIiLMzMzu7u4yMjJ2dnZUVFTc3NxERESIiIi6uroAAAAna2R4AAAAAXRSTlMAQObYZgAA\n",
       "Ad5JREFUWMPtloluwyAMhr1BuA/z/i87kl4BDEmbTF2lWWpVpfD7Cz4wwAeZgI+z8I88Dql/KzLG\n",
       "8f8c22cW34ms3NaKSR1H1iaFYPSsJpMUx5AXnY0lZ5xy4KAujCl/nMnG5q/4tFLcsYXbE5CdVFdn\n",
       "7GBiML0jquxpZB2NzLaKj8McT6eOI6PZFVTxJLIyvD4Kp3LV6DkNG2SMwfsYne2koijcT7bTRQoR\n",
       "Ow2QW4fgQxu7fMAiLuncINuc2jlldLrXuaz2ruUMJ5ErEWEGyK1DCETbnnNiQuDxgXztVYggZ3qd\n",
       "sIOs3UqQkRGuRZD1kQmHmkrSJY3dnM61mL7uFel+mN9fsjD2EIfrT29W/2MjolIfmXCI7CZlKmQ9\n",
       "pzNrL9Nlr3uslvX7rk42deqoFBkhEw7J22lBBmVBtcjTsjdx0DTytE401hkAS5FRYhAOtewiAxdE\n",
       "b2Nz6fL85pZEVrG6k+h2XYjwUfm1DsHxLjJY3yD7JdY2gLhVcKySvfA9kcSVyLDJtQ7zMbf5FrAI\n",
       "SlHt7NIZ466ZHyX9uBQxOOrLhENvqlkKTWLhNiEdHADZjsn3hQsbhDNlxzjPuN1eY+PvzMuv2vbw\n",
       "qU8ZPk80vzniO//HkMFvTMxREc9ORP4BWAkVgxyB/+AAAAAASUVORK5CYII=\n",
       "\" style=\"display:inline;vertical-align:middle;\" /></a></td></tr>\n",
       "<tr><td>5</td><td>Operation</td><td>operator:&nbsp;7<br>operand:&nbsp;11<br></td><td><a class=\"ProveItLink\" href=\"../39d4141c0c87bfec03c3a4cacefb9789ccaa8a240/expr.ipynb\"><img src=\"data:image/png;base64,iVBORw0KGgoAAAANSUhEUgAAABsAAAAJBAMAAAAx5Er2AAAAMFBMVEX///8QEBCYmJhmZmaqqqrM\n",
       "zMzu7u52dnZUVFRERESIiIi6uroiIiIyMjLc3NwAAACYIUNuAAAAAXRSTlMAQObYZgAAAFFJREFU\n",
       "CNdjYICCXfNerShggIOC3gVsX+E87g0nGdh+MzC8PQMCp9mAbJZvCMVANscFBJf5AgO/QgKcy1jA\n",
       "oJ+AMPr9BoZKlgA4dyMDw8slDABOHRl7oVQ5tAAAAABJRU5ErkJggg==\n",
       "\" style=\"display:inline;vertical-align:middle;\" /></a></td></tr>\n",
       "<tr><td>6</td><td>ExprTuple</td><td>8</td><td><a class=\"ProveItLink\" href=\"../81d747e598eb5a1be95fcb01ec6b61d2f221daeb0/expr.ipynb\"><img src=\"data:image/png;base64,iVBORw0KGgoAAAANSUhEUgAAAFAAAAAbBAMAAAAZoBUxAAAAMFBMVEX///+qqqp2dnYiIiJERESI\n",
       "iIhmZmYQEBDc3NyYmJgyMjLu7u5UVFTMzMy6uroAAACGxKilAAAAAXRSTlMAQObYZgAAAYZJREFU\n",
       "OMuNkr9Lw1AQx79NtSYmqf0DFDs6CgFxUeLg4A8koEUQB8FNUYp/QQcHcarg5hIQLbQOAZ26pKiL\n",
       "hUgQJynoJjj4AwWVUvG9Z5uXQDA5ePfu3n1y795dgAhJcPP5X7CLqixVai0abFBVtaLBboOoK0SD\n",
       "GAXEfFi4+jFtYfU90wGXgdRKaKIpVQdeUS+XymVyr22h5yEUvHBzQN67OlnEfSAuL2maSY3riuL6\n",
       "wJSOxQB4d9A2nIZc8YESqQJIL+zkzpkvznS+cBLGrQ9MNzELCMoRbJf1ouCB2JQMCirMVVs4JjNM\n",
       "6rDZm87AQcVyeOfEH4wAFqEG2XweNa39GAdyrcpB+Y2ClKrDm2k7I27UQMYTsq0B3zL1T/2glNE5\n",
       "2MIl2bYgNQXqK0UfiCEOpr8wz/IK+gArZbwTmaNdNj2Q9PGF4HmIkxl2sLvxF3j6JNlkDgom+tzA\n",
       "aPoPNTNk9L0GlCxiiF2AOhwH3CdrIg44RuuPwUn0707EKHKb6b1ocB3x5RcROmByhIcETAAAAABJ\n",
       "RU5ErkJggg==\n",
       "\" style=\"display:inline;vertical-align:middle;\" /></a></td></tr>\n",
       "<tr><td>7</td><td>Literal</td><td></td><td><a class=\"ProveItLink\" href=\"../../../../negation/__pv_it/3fc7a08bb9735faa20ef8e175f6ea95511acc9c70/expr.ipynb\"><img src=\"data:image/png;base64,iVBORw0KGgoAAAANSUhEUgAAAA4AAAACBAMAAACapPCZAAAAElBMVEX///+6uroiIiIyMjLc3NwA\n",
       "AAA6l9OrAAAAAXRSTlMAQObYZgAAABBJREFUCNdjcFYCAUUGKAAADR4BD8/TF5gAAAAASUVORK5C\n",
       "YII=\n",
       "\" style=\"display:inline;vertical-align:middle;\" /></a></td></tr>\n",
       "<tr><td>8</td><td>Operation</td><td>operator:&nbsp;9<br>operands:&nbsp;10<br></td><td><a class=\"ProveItLink\" href=\"../ca168172ae8fdbc0b3309171207549f95d3e04720/expr.ipynb\"><img src=\"data:image/png;base64,iVBORw0KGgoAAAANSUhEUgAAAEEAAAAUBAMAAAAgmk0yAAAAMFBMVEX///8QEBCYmJhmZmaqqqoi\n",
       "IiLMzMzu7u4yMjJ2dnZUVFTc3NxERESIiIi6uroAAABbPXqjAAAAAXRSTlMAQObYZgAAAO9JREFU\n",
       "KM9jYMAHWBgIAZ4BVVHx50QBg+lXBzxmHGI7wMDwgWFFR2NHxwWsKpYm3GVgEMBiC/uN0NAGEGNd\n",
       "O1cCVhUZ6lDGsiz2doQKvju7764Ei3MfhyldxnIhB6GCk6uXoT4B7LUNcBUMdkwXQCq4QLx3rAcY\n",
       "6h+AWDUMCBVcBcsEYLwCoLR/AYj1MDQU6tJlDOwLKuAqQNIrwIwsJDMYMtkQKiwYGD6xgxilyCqY\n",
       "HA7AuZIMTN85QQwuBSQVDLPhKrj/MXAecAMHWBxM7BwQMzfAeHwCDNxnHcDMHWYQoRcfgfrZG7DF\n",
       "h1drKKY4AGqVPTHpMHFDAAAAAElFTkSuQmCC\n",
       "\" style=\"display:inline;vertical-align:middle;\" /></a></td></tr>\n",
       "<tr><td>9</td><td>Literal</td><td></td><td><a class=\"ProveItLink\" href=\"../../../../../logic/set_theory/membership/__pv_it/088cbc857536a28d4119ad9639a84270ccb0545d0/expr.ipynb\"><img src=\"data:image/png;base64,iVBORw0KGgoAAAANSUhEUgAAAAwAAAAMBAMAAACkW0HUAAAALVBMVEX///+qqqpmZmZUVFQQEBC6\n",
       "urpERETc3NyYmJjMzMwiIiIyMjKIiIju7u4AAACYsrA9AAAAAXRSTlMAQObYZgAAADxJREFUCNdj\n",
       "YOA9vWrVBgaG2b0MQMCeCyIZ2ArA1DUwyRCyahVIyWQI7xaEYm4AU7xLIdxqTQgtvGvVBgCkcQ7e\n",
       "geM/tQAAAABJRU5ErkJggg==\n",
       "\" style=\"display:inline;vertical-align:middle;\" /></a></td></tr>\n",
       "<tr><td>10</td><td>ExprTuple</td><td>11, 12</td><td><a class=\"ProveItLink\" href=\"../d845077e116d4a126343c8eabd70d8cb8fc5613f0/expr.ipynb\"><img src=\"data:image/png;base64,iVBORw0KGgoAAAANSUhEUgAAAEAAAAAbBAMAAAA+DpTZAAAAMFBMVEX///+qqqp2dnYiIiJERESI\n",
       "iIhmZmYQEBDc3NyYmJgyMjLu7u5UVFTMzMy6uroAAACGxKilAAAAAXRSTlMAQObYZgAAAVxJREFU\n",
       "KM+F0j1Lw0AYB/B/Uq2Jl9R8ATGjo5O4CHFwUEQCWlwcBDcFCX4BMziIk4IfoIsKqcPNWVKqi4VK\n",
       "EMeCnR18oYJKqXgXmjfM6cE9l7v73XPJ5QBBkdLH50IwwoPJg94Qgw4PPhWDUZuFW4gB5gDFyQ77\n",
       "78sU2z0jBptAeSu3cEm3gFe0vEvPY/kDirFuDlyHVcBJtiid4DG/9V1dCzOgbGEjD9odUs8Ale0G\n",
       "VNaPqs0YSPZDBlT6WAFk7RxBOATYU20OtKirD3DBzrpkIejGQKPt9MuVb8wClM1O0RiQhp8C8sYB\n",
       "n23F7wDc67kMV6zZAb5IAlTDSsEAN6zZh9qXQYcA0ymofGItyiNbk6THR1b56dQSwM7hhTEHyqJB\n",
       "Dlzg6YOtJimQa5gIk3Tu758+bkMzk3QFtyJwoc/8Bc5YXYg7dgGYZ/UY4qLy2ySZYnAYxVMx2MX/\n",
       "5QcYXFhfcnNwuwAAAABJRU5ErkJggg==\n",
       "\" style=\"display:inline;vertical-align:middle;\" /></a></td></tr>\n",
       "<tr><td>11</td><td>Variable</td><td></td><td><a class=\"ProveItLink\" href=\"../../../../../__pv_it/39dbcd3ca0390345b51c6ef7785756419e2c14390/expr.ipynb\"><img src=\"data:image/png;base64,iVBORw0KGgoAAAANSUhEUgAAAAwAAAAJBAMAAAD0ltBnAAAAMFBMVEX///8QEBCYmJhmZmaqqqoi\n",
       "IiLMzMzu7u4yMjJ2dnZUVFTc3NxERESIiIi6uroAAABbPXqjAAAAAXRSTlMAQObYZgAAAERJREFU\n",
       "CNdj4Luz++5KBgZOrl6G+gSGd6wHGOofMBQAsX8BAwivYGBgsGBg+MTOwCDJwPSdk4H7HwPnATcG\n",
       "PgEG7rMOAGtQEUwHZIDZAAAAAElFTkSuQmCC\n",
       "\" style=\"display:inline;vertical-align:middle;\" /></a></td></tr>\n",
       "<tr><td>12</td><td>Literal</td><td></td><td><a class=\"ProveItLink\" href=\"../42d4bc2e45d5054d807f2641a228c1b440fb8de30/expr.ipynb\"><img src=\"data:image/png;base64,iVBORw0KGgoAAAANSUhEUgAAABsAAAATBAMAAACTqWsLAAAAMFBMVEX////c3Nx2dna6uroQEBCI\n",
       "iIhUVFTMzMyYmJiqqqoiIiJmZmZEREQyMjLu7u4AAADjlg78AAAAAXRSTlMAQObYZgAAAHZJREFU\n",
       "GNNjYIADTgYUwEMy9+2fsw8Ydv2aAJM9wX6AgeEDQ+7dK3fvBjAwZBWEMjA4wPUm32MrQOKml/Hd\n",
       "Q+ZyBtQgcxk2cwSAuGxQLtuDdAe47ekMfAlvkbkMRewoXI4JB5C5DIoI7mEg5r4A49l+AcrwwbgA\n",
       "axoiJO4Xc9gAAAAASUVORK5CYII=\n",
       "\" style=\"display:inline;vertical-align:middle;\" /></a></td></tr>\n",
       "</table>\n"
      ],
      "text/plain": [
       "0. (Naturals , {(-n) s.t. ()}_{n in NaturalsPos})\n",
       "   core type: ExprTuple\n",
       "   sub-expressions: 1, 2\n",
       "1. Naturals\n",
       "   core type: Literal\n",
       "   sub-expressions: \n",
       "2. {(-n) s.t. ()}_{n in NaturalsPos}\n",
       "   core type: Operation\n",
       "   operator: 3\n",
       "   operand: 4\n",
       "3. Set\n",
       "   core type: Literal\n",
       "   sub-expressions: \n",
       "4. n -> (-n) | n in NaturalsPos\n",
       "   core type: Lambda\n",
       "   parameter: 11\n",
       "   body: 5\n",
       "   conditions: 6\\n5. -n\n",
       "   core type: Operation\n",
       "   operator: 7\n",
       "   operand: 11\n",
       "6. (n in NaturalsPos)\n",
       "   core type: ExprTuple\n",
       "   sub-expressions: 8\n",
       "7. -\n",
       "   core type: Literal\n",
       "   sub-expressions: \n",
       "8. n in NaturalsPos\n",
       "   core type: Operation\n",
       "   operator: 9\n",
       "   operands: 10\n",
       "9. in\n",
       "   core type: Literal\n",
       "   sub-expressions: \n",
       "10. (n , NaturalsPos)\n",
       "    core type: ExprTuple\n",
       "    sub-expressions: 11, 12\n",
       "11. n\n",
       "    core type: Variable\n",
       "    sub-expressions: \n",
       "12. NaturalsPos\n",
       "    core type: Literal\n",
       "    sub-expressions: "
      ]
     },
     "execution_count": 4,
     "metadata": {},
     "output_type": "execute_result"
    }
   ],
   "source": [
    "# display the expression information\n",
    "expr.exprInfo()"
   ]
  },
  {
   "cell_type": "code",
   "execution_count": null,
   "metadata": {},
   "outputs": [],
   "source": []
  }
 ],
 "metadata": {
  "kernelspec": {
   "display_name": "Python 3",
   "language": "python",
   "name": "python3"
  }
 },
 "nbformat": 4,
 "nbformat_minor": 0
}
