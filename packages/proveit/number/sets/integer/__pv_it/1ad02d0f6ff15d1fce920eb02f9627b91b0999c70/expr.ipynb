{
 "cells": [
  {
   "cell_type": "markdown",
   "metadata": {},
   "source": [
    "Expression of type <a class=\"ProveItLink\" href=\"../../../../../../../doc/html/api/proveit.logic.Forall.html\">Forall</a>\n",
    "=======================\n",
    "# from context <a class=\"ProveItLink\" href=\"../../_context_.ipynb\">proveit.number.sets.integer</a>"
   ]
  },
  {
   "cell_type": "code",
   "execution_count": 1,
   "metadata": {},
   "outputs": [],
   "source": [
    "# import Expression classes needed to build the expression\n",
    "from proveit._common_ import n\n",
    "from proveit.logic import Forall\n",
    "from proveit.number import Naturals\n",
    "from proveit.number._common_ import Pn"
   ]
  },
  {
   "cell_type": "code",
   "execution_count": 2,
   "metadata": {},
   "outputs": [
    {
     "data": {
      "text/html": [
       "<strong id=\"expr\">expr:</strong> <a class=\"ProveItLink\" href=\"expr.ipynb\"><img src=\"data:image/png;base64,iVBORw0KGgoAAAANSUhEUgAAAGEAAAAVBAMAAACkm51HAAAAMFBMVEX///8QEBC6urrMzMxUVFRm\n",
       "ZmZERETc3NwyMjKqqqp2dnaIiIiYmJgiIiLu7u4AAAAU9Wx4AAAAAXRSTlMAQObYZgAAAdtJREFU\n",
       "OMuVUz0sA2EYfnrX6v9V0sEm17B10MFEpIKEREQjqQERDO1g0Imhfm5hFImY3UAbLBUGYnAhDCVh\n",
       "MpjOYvETQUQMeL9+d4fmJLzJd+9z7/c+79/3fcC/Rf+TV9TQB7TOGTixdfN3P7d1tTMkNhsmVwxY\n",
       "Y2DePnJIAYYzBDxWJWQZJ+UesmfEVWCZFvYsU5HTXQv2jH0ZOEsQqLZMV0AgPzEx9Uu/Y7S6KZqg\n",
       "WKYK+n1JpS5/YbwC0gvrlyqLprPbpHyUshVI2xPEN6CJFeXRALWjID0BXkpXC0n57jbbg81BPt3n\n",
       "9dU8Aw4ZgnwB6ZEKrASC8Gum+01yAMc+3ceHWfFuTlmGRO5e+hcfKJIWNKftH5m+x2khYTBC518M\n",
       "5u5UOENS6mli/dEV4IhtHy5mDUY8YTAcNCCXgpCml6pCugW4rdOCMZT6OfTdNujWcfDyqGyHijNd\n",
       "RYD5LFHy6R2EMqJaYkBd4Ywxs1o20hkZOW+sBOEo0KcTEYgXqdQoMSbvmKvU+9FpMASKGaELtUuD\n",
       "ZnkDbD+MpCA18xxCY/kTqPp+S7i4HxCuQTtnoFjOKFpowwTCEPo0XFNKYU6Gs/z0rdv+47CZ5KgP\n",
       "O3GbL8qZ+evbzhp6C/gElWp6sNpSK9UAAAAASUVORK5CYII=\n",
       "\" style=\"display:inline;vertical-align:middle;\" /></a><br>"
      ],
      "text/plain": [
       "expr: forall_{n in Naturals} P(n)"
      ]
     },
     "execution_count": 2,
     "metadata": {},
     "output_type": "execute_result"
    }
   ],
   "source": [
    "# build up the expression from sub-expressions\n",
    "expr = Forall([n], Pn, domain = Naturals, conditions = [])"
   ]
  },
  {
   "cell_type": "code",
   "execution_count": 3,
   "metadata": {},
   "outputs": [
    {
     "name": "stdout",
     "output_type": "stream",
     "text": [
      "Passed sanity check: built 'expr' is the same as the stored Expression.\n"
     ]
    }
   ],
   "source": [
    "# check that the built expression is the same as the stored expression\n",
    "%check_expr"
   ]
  },
  {
   "cell_type": "code",
   "execution_count": 4,
   "metadata": {},
   "outputs": [
    {
     "data": {
      "text/html": [
       "<table><tr><th>&nbsp;</th><th>core type</th><th>sub-expressions</th><th>expression</th></tr>\n",
       "<tr><td>0</td><td>Operation</td><td>operator:&nbsp;1<br>operand:&nbsp;2<br></td><td><a class=\"ProveItLink\" href=\"expr.ipynb\"><img src=\"data:image/png;base64,iVBORw0KGgoAAAANSUhEUgAAAGEAAAAVBAMAAACkm51HAAAAMFBMVEX///8QEBC6urrMzMxUVFRm\n",
       "ZmZERETc3NwyMjKqqqp2dnaIiIiYmJgiIiLu7u4AAAAU9Wx4AAAAAXRSTlMAQObYZgAAAdtJREFU\n",
       "OMuVUz0sA2EYfnrX6v9V0sEm17B10MFEpIKEREQjqQERDO1g0Imhfm5hFImY3UAbLBUGYnAhDCVh\n",
       "MpjOYvETQUQMeL9+d4fmJLzJd+9z7/c+79/3fcC/Rf+TV9TQB7TOGTixdfN3P7d1tTMkNhsmVwxY\n",
       "Y2DePnJIAYYzBDxWJWQZJ+UesmfEVWCZFvYsU5HTXQv2jH0ZOEsQqLZMV0AgPzEx9Uu/Y7S6KZqg\n",
       "WKYK+n1JpS5/YbwC0gvrlyqLprPbpHyUshVI2xPEN6CJFeXRALWjID0BXkpXC0n57jbbg81BPt3n\n",
       "9dU8Aw4ZgnwB6ZEKrASC8Gum+01yAMc+3ceHWfFuTlmGRO5e+hcfKJIWNKftH5m+x2khYTBC518M\n",
       "5u5UOENS6mli/dEV4IhtHy5mDUY8YTAcNCCXgpCml6pCugW4rdOCMZT6OfTdNujWcfDyqGyHijNd\n",
       "RYD5LFHy6R2EMqJaYkBd4Ywxs1o20hkZOW+sBOEo0KcTEYgXqdQoMSbvmKvU+9FpMASKGaELtUuD\n",
       "ZnkDbD+MpCA18xxCY/kTqPp+S7i4HxCuQTtnoFjOKFpowwTCEPo0XFNKYU6Gs/z0rdv+47CZ5KgP\n",
       "O3GbL8qZ+evbzhp6C/gElWp6sNpSK9UAAAAASUVORK5CYII=\n",
       "\" style=\"display:inline;vertical-align:middle;\" /></a></td></tr>\n",
       "<tr><td>1</td><td>Literal</td><td></td><td><a class=\"ProveItLink\" href=\"../../../../../logic/boolean/quantification/universal/__pv_it/265f8c02ac1094d56e0e6410a1c1fd3500dc9f540/expr.ipynb\"><img src=\"data:image/png;base64,iVBORw0KGgoAAAANSUhEUgAAAAwAAAAQBAMAAADQT4M0AAAAMFBMVEX///8QEBC6urrMzMxUVFRm\n",
       "ZmZERETc3NwyMjKqqqp2dnaIiIiYmJgiIiLu7u4AAAAU9Wx4AAAAAXRSTlMAQObYZgAAAFhJREFU\n",
       "CNdjeMAABhdAxGmGlSCqj6EMSLInMHAAJVknMPAsLy+vBYp8S0u7BaScGRjSgZQKA18DkOJl4D4A\n",
       "pLgP8IJM4mswARuX7gSmpoKNZWDcAKZ4gCoAgTQTILaSE58AAAAASUVORK5CYII=\n",
       "\" style=\"display:inline;vertical-align:middle;\" /></a></td></tr>\n",
       "<tr><td>2</td><td>Lambda</td><td>parameter:&nbsp;9<br>body:&nbsp;3<br>conditions:&nbsp;4<br></td><td><a class=\"ProveItLink\" href=\"../69a9143f288fb35c234f4c16810dfd314ccbb7550/expr.ipynb\"><img src=\"data:image/png;base64,iVBORw0KGgoAAAANSUhEUgAAAKkAAAAVCAMAAAAKAz4TAAAANlBMVEX///8UFBQNDQ0QEBCYmJhm\n",
       "ZmaqqqoiIiLMzMzu7u4yMjJ2dnZUVFTc3NxERESIiIi6uroAAAAna2R4AAAAAXRSTlMAQObYZgAA\n",
       "AfhJREFUSMfNlumSwyAIgNnVqChe7/+yq8a2o5LMts0e/Mk0ofDJJQC/JsrDP5AUx98yrTou/TJU\n",
       "pJypiKZHjAzNWpt5mxRtDsFiNaazVq+wZtseQdxRm71R7AUxDRJM2F2+FFST3V53/VnCHFct6d4n\n",
       "JW26bfFa+vPuUuatvxHI5E48TYrR6iKPbFAqySLzMmnoqaDcaydZVk09SWqsnE5MpjQA1tISe9sG\n",
       "72Mkd1BiSvFlijncuscBY8htx6SrTwAflsyUcKrYSrWROiAbq+N7t+pJH7kyNfpOYiUwhpQ9Jl19\n",
       "lhys47YmfksgYyNNCXRoIUoHpEh+LFNyzm3u8VK0f86GkjgkZXwCBmBJa6DIVFvY9VW+h+7zQw8i\n",
       "chrKdM7S/nk2ZPIhKeOzHOzmzo6kWEtV9GlT9emhoOejDa2QNbCks6ETUsYnc3l0UjAOzE66Nf0s\n",
       "AXnSzY9lOncKiN5zo6GT7DM+AfURKUgFe2kI14YjgmNJTWSn6XiVMIbkSUetPguWPCIF5xupb65d\n",
       "AHVrxBEN52m6DJM+jyZDZ1Nq9VmDuoYgDSnYs+RD/MYOgFso68l8dyYNjCGbTuYp59Pbca1JNotw\n",
       "W1YuWq+Ev+Q2BUV26P3rZd1GClf88/2Uk3Xrwyu2vh8QvwxD8v+TFPyU62iYbfE90i+66hedqXi3\n",
       "1QAAAABJRU5ErkJggg==\n",
       "\" style=\"display:inline;vertical-align:middle;\" /></a></td></tr>\n",
       "<tr><td>3</td><td>Operation</td><td>operator:&nbsp;5<br>operand:&nbsp;9<br></td><td><a class=\"ProveItLink\" href=\"../../../../__pv_it/20f66fb84c2270f9538a0cccaaaccf2060edd0940/expr.ipynb\"><img src=\"data:image/png;base64,iVBORw0KGgoAAAANSUhEUgAAAC0AAAAVBAMAAAAgHXppAAAAMFBMVEX////u7u5mZmaYmJi6urqq\n",
       "qqp2dnbMzMwQEBBEREQyMjLc3NwiIiJUVFSIiIgAAAAeC3ydAAAAAXRSTlMAQObYZgAAARJJREFU\n",
       "GNNjYCAC+EFpEzD59v/du2c3ABnsF6DiTAVg6hcDA2c3kOYSgGlcACLYvzEwsAIxwzu4gWYggu8L\n",
       "AwPzJyCjES4uASI4PzAw8H5lYGBZABfnDAAS/EC+/ASgbQlAF83e9xZIsSkAxesTGNgPgaw1YGBI\n",
       "uPWA8TvQOpDW99fS1EDO5HBgYHE4ycAItI6lAcifD3UevwMDI1CQ9SPQiUArGf4wwMVBgrwLIOLs\n",
       "n6DiHEBHMC1g4DcQAJsDcj7EcUB7ORIY7AUSGJiBejg/QsVBjtvvwJDJWgBiCs3/+wAiznKAgcGD\n",
       "gWHnU6CTHZCDuRs1HFBDCwzyUMTh4cy4AEWcGxYvvBtQ43EflH7OwAAAnLU9gtMrIbUAAAAASUVO\n",
       "RK5CYII=\n",
       "\" style=\"display:inline;vertical-align:middle;\" /></a></td></tr>\n",
       "<tr><td>4</td><td>ExprTuple</td><td>6</td><td><a class=\"ProveItLink\" href=\"../802037ca7e760f9f476e5a8ae423dcba7faff3200/expr.ipynb\"><img src=\"data:image/png;base64,iVBORw0KGgoAAAANSUhEUgAAAEEAAAAVBAMAAADrxp6XAAAAMFBMVEX////c3NwiIiJERESqqqqY\n",
       "mJh2dnZmZmYQEBDu7u4yMjJUVFTMzMyIiIi6uroAAAAs73DqAAAAAXRSTlMAQObYZgAAAUxJREFU\n",
       "KM9jYCAM+C7gkYwDEaexycz6bDWBoeiTA/sBIGclVs2mPAYMDB8YGBYwMPBit2TTgbsMDA0MDGEM\n",
       "DBwTkCU4bykpLQAx9q3kPgBSMYOB4RWK1lORUMae05wrQSqYHRjKgL65LHh3G1ic0RKmdA/LhcMg\n",
       "FWwFDEuBJPdahvkgRzMwC8BVMNSxXgCqYFnA0MfA8I7JgGH+A5D4ZAaECu4Je4Aq+BoY/jEwTABK\n",
       "+4Md/EJJCerSPQycG2YBVfB8AKkASe9iQA29PQwMx3ggKlqA3CoGhq+cIPFJyCpYHQzAtpgCuW0M\n",
       "rD/ZQOLcAUgqGBKBKlgXMKQD/fiPgc3ABxxgejAVdkDMvgDs20dgkxhtHcASUjUQBa9+APVzAlVw\n",
       "PWDgEEAJVO9FEL/AADDUWRPwpp5cnLEPi0mQgdL4VHCD3MCILxXeYWAAACH1U+TBh7V9AAAAAElF\n",
       "TkSuQmCC\n",
       "\" style=\"display:inline;vertical-align:middle;\" /></a></td></tr>\n",
       "<tr><td>5</td><td>Variable</td><td></td><td><a class=\"ProveItLink\" href=\"../../../../../__pv_it/6369c6c8083c513ca7161ace249642d040f9327d0/expr.ipynb\"><img src=\"data:image/png;base64,iVBORw0KGgoAAAANSUhEUgAAABAAAAAOBAMAAADUAYG5AAAAMFBMVEX////u7u5mZmaYmJi6urqq\n",
       "qqp2dnbMzMwQEBBEREQyMjLc3NwiIiJUVFSIiIgAAAAeC3ydAAAAAXRSTlMAQObYZgAAAGBJREFU\n",
       "CNdjYGB4+//u3bMbGIDgFwMDZzeQZv/GwMAKxAx8XxgYmD8BGZwfGBh4vwIZ/AsYGOQnABn1CQzs\n",
       "h0Ca3l9LUwPrni/AAAF/oDT7JygDZAwYcH6E0ELz/z4A0QBnpRnRyxnfJQAAAABJRU5ErkJggg==\n",
       "\" style=\"display:inline;vertical-align:middle;\" /></a></td></tr>\n",
       "<tr><td>6</td><td>Operation</td><td>operator:&nbsp;7<br>operands:&nbsp;8<br></td><td><a class=\"ProveItLink\" href=\"../6fd08b35d78856b7ea3156277c15e40ee659a8580/expr.ipynb\"><img src=\"data:image/png;base64,iVBORw0KGgoAAAANSUhEUgAAADUAAAAPBAMAAAC2KZqIAAAAMFBMVEX///8QEBCYmJhmZmaqqqoi\n",
       "IiLMzMzu7u4yMjJ2dnZUVFTc3NxERESIiIi6uroAAABbPXqjAAAAAXRSTlMAQObYZgAAAN1JREFU\n",
       "GNNjYMAEFX9OFDCYfnVgwAYOsR1gYPiAVYphacJdBgYBFCH2G6GhDSDGunauBDS5DHUoY1kWeztI\n",
       "ju/O7rsrwSLcx2GKlrFcyAHJcXL1MtQngER4NsDlGOyYLgDl3rEeYKh/ABKpYUDIcRUsA8oVACX8\n",
       "C0AiD0NDoW5ZxsC+oALkFqDECrDqLCR9DJlsIDkLBoZP7CCRUmQ5Jgeg9xkkGZi+c4JEuBSQ5Bhm\n",
       "A+W4/zFwHnADez0OJncOiJmBNvMJMHCfhQTrDjOI1IuPQD3sDajh6NUaiiwCANEJOSZMR12MAAAA\n",
       "AElFTkSuQmCC\n",
       "\" style=\"display:inline;vertical-align:middle;\" /></a></td></tr>\n",
       "<tr><td>7</td><td>Literal</td><td></td><td><a class=\"ProveItLink\" href=\"../../../../../logic/set_theory/membership/__pv_it/088cbc857536a28d4119ad9639a84270ccb0545d0/expr.ipynb\"><img src=\"data:image/png;base64,iVBORw0KGgoAAAANSUhEUgAAAAwAAAAMBAMAAACkW0HUAAAALVBMVEX///+qqqpmZmZUVFQQEBC6\n",
       "urpERETc3NyYmJjMzMwiIiIyMjKIiIju7u4AAACYsrA9AAAAAXRSTlMAQObYZgAAADxJREFUCNdj\n",
       "YOA9vWrVBgaG2b0MQMCeCyIZ2ArA1DUwyRCyahVIyWQI7xaEYm4AU7xLIdxqTQgtvGvVBgCkcQ7e\n",
       "geM/tQAAAABJRU5ErkJggg==\n",
       "\" style=\"display:inline;vertical-align:middle;\" /></a></td></tr>\n",
       "<tr><td>8</td><td>ExprTuple</td><td>9, 10</td><td><a class=\"ProveItLink\" href=\"../608994a850b7086ae814d4225267c7801557afdb0/expr.ipynb\"><img src=\"data:image/png;base64,iVBORw0KGgoAAAANSUhEUgAAADEAAAAVBAMAAAAdjxsPAAAAMFBMVEX////c3NwiIiJERESqqqqY\n",
       "mJh2dnZmZmYQEBDu7u4yMjJUVFTMzMyIiIi6uroAAAAs73DqAAAAAXRSTlMAQObYZgAAAR5JREFU\n",
       "KM910TFLw0AUwPF/tJf2TCxx9ktk6SIo+QCCm6Po5CSIg4ODdBBHzShdmsUhgyAODlIkILh0Cbha\n",
       "KI4OUiqCLsV3sVcSqIEcvPe7vLu8B/8/zXxOcscs/XKm87kWczSO6pkEaWVzyw9hBAksV4vdZQNo\n",
       "wzY04oo8pl5m5Areq0f3+jo1shhxLLd7WRncW6nlT0bcQ65l9W7oZlPhVOUitYQL+FgI6Q6teHFP\n",
       "pNlmArGkt2Ir+rYj4o+MmPSDPQee/T85k/AEvvRMVBQW1VoSnqN+XOKpsCeiEvbBmeCGm3psZEPe\n",
       "elLc+q340lmP9GUg//0t+7XI0pBGMBtHUOqFdEft2kCVu3RQnkJZTEFWbVQeh2cqO/Om/Qq/671N\n",
       "AY/DlZoAAAAASUVORK5CYII=\n",
       "\" style=\"display:inline;vertical-align:middle;\" /></a></td></tr>\n",
       "<tr><td>9</td><td>Variable</td><td></td><td><a class=\"ProveItLink\" href=\"../../../../../__pv_it/39dbcd3ca0390345b51c6ef7785756419e2c14390/expr.ipynb\"><img src=\"data:image/png;base64,iVBORw0KGgoAAAANSUhEUgAAAAwAAAAJBAMAAAD0ltBnAAAAMFBMVEX///8QEBCYmJhmZmaqqqoi\n",
       "IiLMzMzu7u4yMjJ2dnZUVFTc3NxERESIiIi6uroAAABbPXqjAAAAAXRSTlMAQObYZgAAAERJREFU\n",
       "CNdj4Luz++5KBgZOrl6G+gSGd6wHGOofMBQAsX8BAwivYGBgsGBg+MTOwCDJwPSdk4H7HwPnATcG\n",
       "PgEG7rMOAGtQEUwHZIDZAAAAAElFTkSuQmCC\n",
       "\" style=\"display:inline;vertical-align:middle;\" /></a></td></tr>\n",
       "<tr><td>10</td><td>Literal</td><td></td><td><a class=\"ProveItLink\" href=\"../e5d9bd86b06b357eee742ad868997123619e09700/expr.ipynb\"><img src=\"data:image/png;base64,iVBORw0KGgoAAAANSUhEUgAAAA8AAAAOBAMAAAACpFvcAAAAMFBMVEX////c3Nx2dna6uroQEBCI\n",
       "iIhUVFTMzMyYmJiqqqoiIiJmZmZEREQyMjLu7u4AAADjlg78AAAAAXRSTlMAQObYZgAAAGBJREFU\n",
       "CNdjePvn7AOGXb8mMDCcYD/AwPCBgYEhqyCUgcEByEi+x1YAZqSX8d2DMDgDaiAMhs0cARAG24N0\n",
       "CIMv4S2EwVDEDmVwTDgAYTAoghiHgZj7AgOD7Rcgj+8CAwA9oh2B0HK+MAAAAABJRU5ErkJggg==\n",
       "\" style=\"display:inline;vertical-align:middle;\" /></a></td></tr>\n",
       "</table>\n"
      ],
      "text/plain": [
       "0. forall_{n in Naturals} P(n)\n",
       "   core type: Operation\n",
       "   operator: 1\n",
       "   operand: 2\n",
       "1. forall\n",
       "   core type: Literal\n",
       "   sub-expressions: \n",
       "2. n -> P(n) | n in Naturals\n",
       "   core type: Lambda\n",
       "   parameter: 9\n",
       "   body: 3\n",
       "   conditions: 4\\n3. P(n)\n",
       "   core type: Operation\n",
       "   operator: 5\n",
       "   operand: 9\n",
       "4. (n in Naturals)\n",
       "   core type: ExprTuple\n",
       "   sub-expressions: 6\n",
       "5. P\n",
       "   core type: Variable\n",
       "   sub-expressions: \n",
       "6. n in Naturals\n",
       "   core type: Operation\n",
       "   operator: 7\n",
       "   operands: 8\n",
       "7. in\n",
       "   core type: Literal\n",
       "   sub-expressions: \n",
       "8. (n , Naturals)\n",
       "   core type: ExprTuple\n",
       "   sub-expressions: 9, 10\n",
       "9. n\n",
       "   core type: Variable\n",
       "   sub-expressions: \n",
       "10. Naturals\n",
       "    core type: Literal\n",
       "    sub-expressions: "
      ]
     },
     "execution_count": 4,
     "metadata": {},
     "output_type": "execute_result"
    }
   ],
   "source": [
    "# display the expression information\n",
    "expr.exprInfo()"
   ]
  },
  {
   "cell_type": "code",
   "execution_count": null,
   "metadata": {},
   "outputs": [],
   "source": []
  }
 ],
 "metadata": {
  "kernelspec": {
   "display_name": "Python 3",
   "language": "python",
   "name": "python3"
  }
 },
 "nbformat": 4,
 "nbformat_minor": 0
}
