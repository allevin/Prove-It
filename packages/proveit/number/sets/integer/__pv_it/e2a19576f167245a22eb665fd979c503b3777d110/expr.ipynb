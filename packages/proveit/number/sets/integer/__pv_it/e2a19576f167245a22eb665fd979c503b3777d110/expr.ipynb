{
 "cells": [
  {
   "cell_type": "markdown",
   "metadata": {},
   "source": [
    "Expression of type <a class=\"ProveItLink\" href=\"../../../../../../../doc/html/api/proveit.logic.Equals.html\">Equals</a>\n",
    "=======================\n",
    "# from context <a class=\"ProveItLink\" href=\"../../_context_.ipynb\">proveit.number.sets.integer</a>"
   ]
  },
  {
   "cell_type": "code",
   "execution_count": 1,
   "metadata": {},
   "outputs": [],
   "source": [
    "# import Expression classes needed to build the expression\n",
    "from proveit._common_ import S, n\n",
    "from proveit.logic import Equals, InSet, TRUE\n",
    "from proveit.number import Add, one"
   ]
  },
  {
   "cell_type": "code",
   "execution_count": 2,
   "metadata": {},
   "outputs": [
    {
     "data": {
      "text/html": [
       "<strong id=\"expr\">expr:</strong> <a class=\"ProveItLink\" href=\"expr.ipynb\"><img src=\"data:image/png;base64,iVBORw0KGgoAAAANSUhEUgAAAKAAAAAVBAMAAAAz5vjYAAAAMFBMVEX////c3NwiIiJERESqqqqY\n",
       "mJh2dnZmZmYQEBDu7u4yMjJUVFTMzMyIiIi6uroAAAAs73DqAAAAAXRSTlMAQObYZgAAAcVJREFU\n",
       "OMutlE1IAkEYhr8tXfNvMTp2CbuEEBjUMeocRZ4TwpvX6JAkHSQi6JJWtyCMQKQiMSIPeshTHTq0\n",
       "4LVQOkVQFOUhCG12fna3ZkYQeuF1v31hHmdmvxmAf5emE4vlbHSXI91SC9SbAVjj42hidZHPl4OG\n",
       "hgGOgZiXewoBPVzsicDemyAHuDF+/DqxTTuUV7lCQGfs77ASgONQkFNgX4bYpjlW1FHuTpH64CgY\n",
       "woXyDeDTzZwDPlPLgDCOS1+O/an2id6qLOeBK8Rarf+hJATGcTlgLkJp3+NnXALMEaveM8hWRcAZ\n",
       "XI5Zw+rtjwDLkyeGTu3AbeLXnjBkGyLgE/5AYQuoRNNbLBfMsEWcQbT5jAh4hzduHfVYiOVqk+Vy\n",
       "oEEr00WMsEVYQF/RHBVB8+0E3KBOAjTd8iUPmd2+hBb9znLzeFjACepNcH6pIuACLi9ZhnoaXEUz\n",
       "52cYJ1ZaoIZn5W2zyy4D1yhArVPbPBJrKVAmp38DE+k82rAC+bR52lNerXIRMYoCD7zGRy9ALDop\n",
       "eM/oEXOUra9sz/mLLcZdAC/2F1VyVarSK1R+fWHtd5kDDFJLdN5ljrZbJxbLX+0uhx/38pAOclpa\n",
       "iwAAAABJRU5ErkJggg==\n",
       "\" style=\"display:inline;vertical-align:middle;\" /></a><br>"
      ],
      "text/plain": [
       "expr: ((n + 1) in S) = TRUE"
      ]
     },
     "execution_count": 2,
     "metadata": {},
     "output_type": "execute_result"
    }
   ],
   "source": [
    "# build up the expression from sub-expressions\n",
    "expr = Equals(InSet(Add(n, one), S), TRUE)"
   ]
  },
  {
   "cell_type": "code",
   "execution_count": 3,
   "metadata": {},
   "outputs": [
    {
     "name": "stdout",
     "output_type": "stream",
     "text": [
      "Passed sanity check: built 'expr' is the same as the stored Expression.\n"
     ]
    }
   ],
   "source": [
    "# check that the built expression is the same as the stored expression\n",
    "%check_expr"
   ]
  },
  {
   "cell_type": "code",
   "execution_count": 4,
   "metadata": {},
   "outputs": [
    {
     "data": {
      "text/html": [
       "<table><tr><th>&nbsp;</th><th>core type</th><th>sub-expressions</th><th>expression</th></tr>\n",
       "<tr><td>0</td><td>Operation</td><td>operator:&nbsp;1<br>operands:&nbsp;2<br></td><td><a class=\"ProveItLink\" href=\"expr.ipynb\"><img src=\"data:image/png;base64,iVBORw0KGgoAAAANSUhEUgAAAKAAAAAVBAMAAAAz5vjYAAAAMFBMVEX////c3NwiIiJERESqqqqY\n",
       "mJh2dnZmZmYQEBDu7u4yMjJUVFTMzMyIiIi6uroAAAAs73DqAAAAAXRSTlMAQObYZgAAAcVJREFU\n",
       "OMutlE1IAkEYhr8tXfNvMTp2CbuEEBjUMeocRZ4TwpvX6JAkHSQi6JJWtyCMQKQiMSIPeshTHTq0\n",
       "4LVQOkVQFOUhCG12fna3ZkYQeuF1v31hHmdmvxmAf5emE4vlbHSXI91SC9SbAVjj42hidZHPl4OG\n",
       "hgGOgZiXewoBPVzsicDemyAHuDF+/DqxTTuUV7lCQGfs77ASgONQkFNgX4bYpjlW1FHuTpH64CgY\n",
       "woXyDeDTzZwDPlPLgDCOS1+O/an2id6qLOeBK8Rarf+hJATGcTlgLkJp3+NnXALMEaveM8hWRcAZ\n",
       "XI5Zw+rtjwDLkyeGTu3AbeLXnjBkGyLgE/5AYQuoRNNbLBfMsEWcQbT5jAh4hzduHfVYiOVqk+Vy\n",
       "oEEr00WMsEVYQF/RHBVB8+0E3KBOAjTd8iUPmd2+hBb9znLzeFjACepNcH6pIuACLi9ZhnoaXEUz\n",
       "52cYJ1ZaoIZn5W2zyy4D1yhArVPbPBJrKVAmp38DE+k82rAC+bR52lNerXIRMYoCD7zGRy9ALDop\n",
       "eM/oEXOUra9sz/mLLcZdAC/2F1VyVarSK1R+fWHtd5kDDFJLdN5ljrZbJxbLX+0uhx/38pAOclpa\n",
       "iwAAAABJRU5ErkJggg==\n",
       "\" style=\"display:inline;vertical-align:middle;\" /></a></td></tr>\n",
       "<tr><td>1</td><td>Literal</td><td></td><td><a class=\"ProveItLink\" href=\"../../../../../logic/equality/__pv_it/2fb26078095930560931daa0500ce419a39ea6cd0/expr.ipynb\"><img src=\"data:image/png;base64,iVBORw0KGgoAAAANSUhEUgAAAA4AAAAFBAMAAACHocAhAAAAFVBMVEX///9EREQiIiJUVFQyMjJm\n",
       "ZmYAAADubVkoAAAAAXRSTlMAQObYZgAAABRJREFUCNdjCHEBAWcGXCBICQQUAUpuAwlgGKrkAAAA\n",
       "AElFTkSuQmCC\n",
       "\" style=\"display:inline;vertical-align:middle;\" /></a></td></tr>\n",
       "<tr><td>2</td><td>ExprTuple</td><td>3, 4</td><td><a class=\"ProveItLink\" href=\"../9228137806af566cebcc9fac1b28c688802ad9780/expr.ipynb\"><img src=\"data:image/png;base64,iVBORw0KGgoAAAANSUhEUgAAAIsAAAAVBAMAAACEWwD/AAAAMFBMVEX////c3NwiIiJERESqqqqY\n",
       "mJh2dnZmZmYQEBDu7u4yMjJUVFTMzMyIiIi6uroAAAAs73DqAAAAAXRSTlMAQObYZgAAAehJREFU\n",
       "OMutlDtIA0EQhicmd+byIiJWFhFtJFUCWoqpRdHKwkLsrESxMBAtgoilOQVRBEkQQjCixMIHSWEq\n",
       "LVQM2CqGVKL4QBC0MHF29y65x8Y0Dvw7s3N33+3OPgD+yTwFJr4JxcaEcdJcKuKYVQZYMJNPwusU\n",
       "PttJrAua89jZVWQ2qR8xDlM6iQ/U+IK2CQB3gUljqwold4YYYcJAcWJiQI8ZBbDLTBobUoMHzEtR\n",
       "Fm/vdPpp4MMpXOsxmwBPwFQPAz00dCXVX72FAK70GGsI5tChPLct98dczCQNW6sD9v3ka39kGHEG\n",
       "C0aKBqJzH+J5HobVIVj90l2pBA0YWwJW0KFemwIQL/Iwj7TcgdoI2k6/ZD3GE4UyOpSMjGGZh7mh\n",
       "Ly7iDvGr+ekRPcb1rmIII0tSkXS6O53eM2BcmermQ8XNmCV0RBGAT6n+pDrU3Aapstc0qV50RMsg\n",
       "fIs8zBgNj9Qcqfg8FkGLERJ0PVGWMoiBwfoLvqYe0dkCuAMgfRgWvISuRMdl6QvpMeFYCotwQGNL\n",
       "StkNmeccDl6KsXmd09ZRBDv27V7+LqZVUQ6DLVtbKVIO7Seb7OgZjt+LtiPyryJB25n686KgtgUN\n",
       "MRJeFNCuqI4d8tPaMTrJBC0FJr65840v0TuAXy9DjMDmuDPrAAAAAElFTkSuQmCC\n",
       "\" style=\"display:inline;vertical-align:middle;\" /></a></td></tr>\n",
       "<tr><td>3</td><td>Operation</td><td>operator:&nbsp;5<br>operands:&nbsp;6<br></td><td><a class=\"ProveItLink\" href=\"../8a710e20fe035b5bc6a90d4e6d804a3611dd61600/expr.ipynb\"><img src=\"data:image/png;base64,iVBORw0KGgoAAAANSUhEUgAAAGYAAAAVBAMAAABGR4Y+AAAAMFBMVEX////c3NwiIiJERESqqqqY\n",
       "mJh2dnZmZmYQEBDu7u4yMjJUVFTMzMyIiIi6uroAAAAs73DqAAAAAXRSTlMAQObYZgAAAXlJREFU\n",
       "OMtjYCAH8F3AJcP6AJfMaezCzBMYGGowhaPLK+MYGFZi1cJpD9TDhSHMFcAw+QMDL6rTJkK17N4P\n",
       "1MOagK5nGwMDywIGjgkogr4wxn2gOGcDhD13kZIWmMH4h4GB5wLDKwbcehhMwEyepTBz+b4AeQcY\n",
       "yoCsy4J3t2HVkw5mCsOdwvj/DohaysDAxr2WYf4BbHq8wExDhDPu//8swMDQx8DwjsmAYf4DbHpe\n",
       "gMPDAKGHMbq/k4HhHwPDBKAG/wnY9JwHe6JJSQkaBkDA9hWsB6RhF4hftWqVxqpVq9H08GyAWxMA\n",
       "tBWopwWkloHhKydutynAI7oA6LqPDAymQHYbA+tPNmx6osDMrTAxYHQysG8AByfjPwY2Ax/cYT0J\n",
       "llbZdRkYLgPpR0BPNjAw2jqg6invXw50/DpIYC2HRgQ33+7NQFEGDgHs6QDsfmjaYdmFCDdwJkFN\n",
       "h2+ROWy4stZK3NlxFi4Jadx6NuKSYMSZt3kPYBcHAI3aZwMDkZPWAAAAAElFTkSuQmCC\n",
       "\" style=\"display:inline;vertical-align:middle;\" /></a></td></tr>\n",
       "<tr><td>4</td><td>Literal</td><td></td><td><a class=\"ProveItLink\" href=\"../../../../../logic/boolean/__pv_it/68a87cc3370287d726c7086ace789e680e4461c30/expr.ipynb\"><img src=\"data:image/png;base64,iVBORw0KGgoAAAANSUhEUgAAAA4AAAAOBAMAAADtZjDiAAAAFVBMVEX///92dnbMzMxEREQiIiJm\n",
       "ZmYAAABAT6GXAAAAAXRSTlMAQObYZgAAABhJREFUCNdjCHEBAWcGIFBlgABa0YpADAAxegPJJk4d\n",
       "XAAAAABJRU5ErkJggg==\n",
       "\" style=\"display:inline;vertical-align:middle;\" /></a></td></tr>\n",
       "<tr><td>5</td><td>Literal</td><td></td><td><a class=\"ProveItLink\" href=\"../../../../../logic/set_theory/membership/__pv_it/088cbc857536a28d4119ad9639a84270ccb0545d0/expr.ipynb\"><img src=\"data:image/png;base64,iVBORw0KGgoAAAANSUhEUgAAAAwAAAAMBAMAAACkW0HUAAAALVBMVEX///+qqqpmZmZUVFQQEBC6\n",
       "urpERETc3NyYmJjMzMwiIiIyMjKIiIju7u4AAACYsrA9AAAAAXRSTlMAQObYZgAAADxJREFUCNdj\n",
       "YOA9vWrVBgaG2b0MQMCeCyIZ2ArA1DUwyRCyahVIyWQI7xaEYm4AU7xLIdxqTQgtvGvVBgCkcQ7e\n",
       "geM/tQAAAABJRU5ErkJggg==\n",
       "\" style=\"display:inline;vertical-align:middle;\" /></a></td></tr>\n",
       "<tr><td>6</td><td>ExprTuple</td><td>7, 8</td><td><a class=\"ProveItLink\" href=\"../6da01f1f21993d2475286143be05967dafb150840/expr.ipynb\"><img src=\"data:image/png;base64,iVBORw0KGgoAAAANSUhEUgAAAFMAAAAVBAMAAADInc9CAAAAMFBMVEX////c3NwiIiJERESqqqqY\n",
       "mJh2dnZmZmYQEBDu7u4yMjJUVFTMzMyIiIi6uroAAAAs73DqAAAAAXRSTlMAQObYZgAAAU5JREFU\n",
       "KM+Vkz8sBEEUh7/DrltnL6dQKbTKUyjF1UJcpZTrVEIULqFRiNKtQujuGhErEhXiCtcjuURLbJTE\n",
       "n0gkFO68ubOyy06cSWbmNzNf3nvz5g38oyWrrVBTajiLPmt3fGUc5Te8zoqo3UjSGvlGt2UBJbDD\n",
       "/te/yPKpjyZyMAqTEHdC6Lgvbvz9fnF9AVtwxx/oUwbOJfYMC5KDy57rQ73VD3UjzDkJGjOxT7Gi\n",
       "Q+16fVCmjhJr8NiWpujpUHqP30Qnl6mBI9yEo0VhNgvdzwpV3InaWnTdAdfdC6GG9GITXVEIvFoa\n",
       "q5vqZqlGAEMiVzHezQhU0ZJ9lpT1EtMQq2Gmx36j1ovM81XsdDNZtw3bseFMGM0XdrJWQRwf3JeV\n",
       "Y7o84qno12rUZ+BMHtbIhdCH4MII6BltEf5ELSlC+vRooD4TKpZYSx/mCj4BOSte9FUBhZwAAAAA\n",
       "SUVORK5CYII=\n",
       "\" style=\"display:inline;vertical-align:middle;\" /></a></td></tr>\n",
       "<tr><td>7</td><td>Operation</td><td>operator:&nbsp;9<br>operands:&nbsp;10<br></td><td><a class=\"ProveItLink\" href=\"../b946c43e057b554aa1f97d0883c5f68ff71f80e80/expr.ipynb\"><img src=\"data:image/png;base64,iVBORw0KGgoAAAANSUhEUgAAAC4AAAAQBAMAAACb51DZAAAAMFBMVEX///8QEBCYmJhmZmaqqqoi\n",
       "IiLMzMzu7u4yMjJ2dnZUVFTc3NxERESIiIi6uroAAABbPXqjAAAAAXRSTlMAQObYZgAAAHdJREFU\n",
       "GNNjYMAGjmMVZaj5jsqvhlBVq9DEfaE0Lx5xvju7767EIs7J1ctQn4Ap/o71AEP9A0zxAqCgfwEW\n",
       "e4GCK0Aci46OwI6OLri4BQPDJ3Ys6iUZmL5zYopz/2PgPOCGxf0CDNxnHVDEmQ1/GGH1Lzp4i2AC\n",
       "AAL3KRFAMapqAAAAAElFTkSuQmCC\n",
       "\" style=\"display:inline;vertical-align:middle;\" /></a></td></tr>\n",
       "<tr><td>8</td><td>Variable</td><td></td><td><a class=\"ProveItLink\" href=\"../../../../../__pv_it/abeee18594afe51bfb1be95d9591fbba24ac53f30/expr.ipynb\"><img src=\"data:image/png;base64,iVBORw0KGgoAAAANSUhEUgAAAA0AAAAOBAMAAAAGUYvhAAAAMFBMVEX///8iIiIQEBCIiIjMzMzc\n",
       "3Nyqqqp2dnZEREQyMjK6urru7u5mZmZUVFSYmJgAAACI6eGPAAAAAXRSTlMAQObYZgAAAF1JREFU\n",
       "CNdjYGDgu3Nm3wIGBoZ5DNz9QIq3gIEhE0jHOzAwOAPp9QkMDC4g/megABAw///fCmbEXfq0Acxg\n",
       "qH8ANAVI7wfSe0BKAyBGnAXigwYMzA1A+sLau31ACgAz0hhbkhGHbwAAAABJRU5ErkJggg==\n",
       "\" style=\"display:inline;vertical-align:middle;\" /></a></td></tr>\n",
       "<tr><td>9</td><td>Literal</td><td></td><td><a class=\"ProveItLink\" href=\"../../../../addition/__pv_it/3e6688136fa3c7aefbebe51301b7c3ebf0b69c440/expr.ipynb\"><img src=\"data:image/png;base64,iVBORw0KGgoAAAANSUhEUgAAAA4AAAAOBAMAAADtZjDiAAAAJFBMVEX///+6urpUVFQQEBAiIiIy\n",
       "MjJmZmaIiIiqqqrc3Nzu7u4AAACgHpL+AAAAAXRSTlMAQObYZgAAAB5JREFUCNdjYGBgWMkAAe2k\n",
       "0Kmhoc6hoUGk6BMHYgAHOwjcado9fwAAAABJRU5ErkJggg==\n",
       "\" style=\"display:inline;vertical-align:middle;\" /></a></td></tr>\n",
       "<tr><td>10</td><td>ExprTuple</td><td>11, 12</td><td><a class=\"ProveItLink\" href=\"../713289cfc951db6eb87a9a7ba22620683870a2810/expr.ipynb\"><img src=\"data:image/png;base64,iVBORw0KGgoAAAANSUhEUgAAACsAAAAVBAMAAAAtAwouAAAAMFBMVEX////c3NwiIiJERESqqqqY\n",
       "mJh2dnZmZmYQEBDu7u4yMjJUVFTMzMyIiIi6uroAAAAs73DqAAAAAXRSTlMAQObYZgAAAOFJREFU\n",
       "GNNjYMAB+C6gi8SBiNOoYpYMDOwHgPRKFNHJP4HEAgYGXhQzZu8GCYcxMHBMQFHNCxKewcDwigFT\n",
       "mNmBoQzolsuCd7chC7MVMCwFktxrGeYfQBJmWcDQx8DwjsmAYf4DJGG+BoZ/DAwTgGL+E5CEeT6A\n",
       "hEFiuxhQhVuAVBUDw1dOVENMgVQbA+tPNoYJcGHWBQzpDAyM/xjYDHw4PyE78BFYD6OtA2e/ADCU\n",
       "Kn6VMjBwPWDgEICHMJwF9DxrAozDCg+BXOSAhQtzAgOWQRrGg4cwN8g0RoxIu8PAAABTtzz5enAE\n",
       "fwAAAABJRU5ErkJggg==\n",
       "\" style=\"display:inline;vertical-align:middle;\" /></a></td></tr>\n",
       "<tr><td>11</td><td>Variable</td><td></td><td><a class=\"ProveItLink\" href=\"../../../../../__pv_it/39dbcd3ca0390345b51c6ef7785756419e2c14390/expr.ipynb\"><img src=\"data:image/png;base64,iVBORw0KGgoAAAANSUhEUgAAAAwAAAAJBAMAAAD0ltBnAAAAMFBMVEX///8QEBCYmJhmZmaqqqoi\n",
       "IiLMzMzu7u4yMjJ2dnZUVFTc3NxERESIiIi6uroAAABbPXqjAAAAAXRSTlMAQObYZgAAAERJREFU\n",
       "CNdj4Luz++5KBgZOrl6G+gSGd6wHGOofMBQAsX8BAwivYGBgsGBg+MTOwCDJwPSdk4H7HwPnATcG\n",
       "PgEG7rMOAGtQEUwHZIDZAAAAAElFTkSuQmCC\n",
       "\" style=\"display:inline;vertical-align:middle;\" /></a></td></tr>\n",
       "<tr><td>12</td><td>Literal</td><td></td><td><a class=\"ProveItLink\" href=\"../../../../numeral/__pv_it/9be8badea4c35b9724062cecc501d17a3158d1d20/expr.ipynb\"><img src=\"data:image/png;base64,iVBORw0KGgoAAAANSUhEUgAAAAgAAAAPBAMAAAArJJMAAAAAHlBMVEX///+YmJgyMjIQEBBmZmaI\n",
       "iIhUVFTu7u5EREQAAAAw+MI4AAAAAXRSTlMAQObYZgAAACFJREFUCNdjYGBoZ2BgqJjOwFCWBiQY\n",
       "WEklWJwnOTKAAACjEQo8HvEr3AAAAABJRU5ErkJggg==\n",
       "\" style=\"display:inline;vertical-align:middle;\" /></a></td></tr>\n",
       "</table>\n"
      ],
      "text/plain": [
       "0. ((n + 1) in S) = TRUE\n",
       "   core type: Operation\n",
       "   operator: 1\n",
       "   operands: 2\n",
       "1. =\n",
       "   core type: Literal\n",
       "   sub-expressions: \n",
       "2. ((n + 1) in S , TRUE)\n",
       "   core type: ExprTuple\n",
       "   sub-expressions: 3, 4\n",
       "3. (n + 1) in S\n",
       "   core type: Operation\n",
       "   operator: 5\n",
       "   operands: 6\n",
       "4. TRUE\n",
       "   core type: Literal\n",
       "   sub-expressions: \n",
       "5. in\n",
       "   core type: Literal\n",
       "   sub-expressions: \n",
       "6. (n + 1 , S)\n",
       "   core type: ExprTuple\n",
       "   sub-expressions: 7, 8\n",
       "7. n + 1\n",
       "   core type: Operation\n",
       "   operator: 9\n",
       "   operands: 10\n",
       "8. S\n",
       "   core type: Variable\n",
       "   sub-expressions: \n",
       "9. +\n",
       "   core type: Literal\n",
       "   sub-expressions: \n",
       "10. (n , 1)\n",
       "    core type: ExprTuple\n",
       "    sub-expressions: 11, 12\n",
       "11. n\n",
       "    core type: Variable\n",
       "    sub-expressions: \n",
       "12. 1\n",
       "    core type: Literal\n",
       "    sub-expressions: "
      ]
     },
     "execution_count": 4,
     "metadata": {},
     "output_type": "execute_result"
    }
   ],
   "source": [
    "# display the expression information\n",
    "expr.exprInfo()"
   ]
  },
  {
   "cell_type": "code",
   "execution_count": null,
   "metadata": {},
   "outputs": [],
   "source": []
  }
 ],
 "metadata": {
  "kernelspec": {
   "display_name": "Python 3",
   "language": "python",
   "name": "python3"
  }
 },
 "nbformat": 4,
 "nbformat_minor": 0
}
