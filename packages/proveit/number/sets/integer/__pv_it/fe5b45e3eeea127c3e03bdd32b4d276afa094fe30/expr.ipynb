{
 "cells": [
  {
   "cell_type": "markdown",
   "metadata": {},
   "source": [
    "Theorem <a class=\"ProveItLink\" href=\"../../_theorems_.ipynb#natsInComplexes\">natsInComplexes</a> of type <a class=\"ProveItLink\" href=\"../../../../../../../doc/html/api/proveit.logic.Forall.html\">Forall</a>\n",
    "=======================\n",
    "# from context <a class=\"ProveItLink\" href=\"../../_context_.ipynb\">proveit.number.sets.integer</a>\n",
    "*** see <a class=\"ProveItLink\" href=\"dependencies.ipynb\">dependencies</a> ***"
   ]
  },
  {
   "cell_type": "code",
   "execution_count": 1,
   "metadata": {},
   "outputs": [],
   "source": [
    "# import the special expression\n",
    "from proveit.number.sets.integer._theorems_ import natsInComplexes"
   ]
  },
  {
   "cell_type": "code",
   "execution_count": 2,
   "metadata": {},
   "outputs": [
    {
     "name": "stdout",
     "output_type": "stream",
     "text": [
      "Passed sanity check: built 'natsInComplexes' is the same as the stored Expression.\n"
     ]
    }
   ],
   "source": [
    "# check that the built expression is the same as the stored expression\n",
    "%check_expr natsInComplexes"
   ]
  },
  {
   "cell_type": "code",
   "execution_count": 3,
   "metadata": {},
   "outputs": [
    {
     "data": {
      "text/html": [
       "<table><tr><th>&nbsp;</th><th>core type</th><th>sub-expressions</th><th>expression</th></tr>\n",
       "<tr><td>0</td><td>Operation</td><td>operator:&nbsp;1<br>operand:&nbsp;2<br></td><td><a class=\"ProveItLink\" href=\"expr.ipynb\"><img src=\"data:image/png;base64,iVBORw0KGgoAAAANSUhEUgAAAHcAAAAVBAMAAACOK2zoAAAAMFBMVEX///8QEBC6urrMzMxUVFRm\n",
       "ZmZERETc3NwyMjKqqqp2dnaIiIiYmJgiIiLu7u4AAAAU9Wx4AAAAAXRSTlMAQObYZgAAAhtJREFU\n",
       "OMtjYKAEPMAnybQBt9whIL4AYpzGocAEqyj3jX7ZVAZWAwaGlSBuHw7NWMWZ9RX41m9hYGhgYCgD\n",
       "ctkTsOvlxurqAz4MDJxfGBhOMTBwAD3NOgG7ZkbkAOHbcfcu0DIGngcCQDKEgeEhkL28vLwWh6s1\n",
       "kDkW5yA0K7sDkHzNwMAGtPJbWtotHJqjQF7yXiQOYrPnQQWfMi2AMLgCGBicGRjScWjuAWLFArYP\n",
       "IDZbAVTQivMAhMEJ9IQKA18DsutCFbhFoX4VAlr4h4EVHJzPYAqsmKCamYB+52XgPgALk62hB3gS\n",
       "1jGsg/I/MTCwfGDgBYe54t27kAB7xgx1NjPQRdwHeGGBuk393QOe06zImvkTGN4boKQXjgcOCM18\n",
       "DSDx0l3JDDwBoJiwNN8A0yzJwFC/gWE+OAm/hWnmWQDSzAdxNkO6E5B9nf0fAwdYzmDdYZjmHAaG\n",
       "9xMYPDhBVrPA/MaQow0kdB8w8IA8MRWYvFkCmC8wWEE0c3H5QZUtBTryAOdVLnB4XIJpZnHbx6eW\n",
       "B4kqBkZggPArcDsw2KalpW3gMWA/dw+qTBcUzZvMNoE5FcEw3ab3PzqBPK8ATm9A1z1gO1fwBGIz\n",
       "g/I+WPIsQI71Kb13keMUlDxhqdje5gFLAUQzzzp42ODL7KvhuT76dAwDXxIoPQMJB7xZEpYoGlD5\n",
       "XEA/owiU4NHMUkCgjGLHUwxtZmAAALmggfvUC+0oAAAAAElFTkSuQmCC\n",
       "\" style=\"display:inline;vertical-align:middle;\" /></a></td></tr>\n",
       "<tr><td>1</td><td>Literal</td><td></td><td><a class=\"ProveItLink\" href=\"../../../../../logic/boolean/quantification/universal/__pv_it/265f8c02ac1094d56e0e6410a1c1fd3500dc9f540/expr.ipynb\"><img src=\"data:image/png;base64,iVBORw0KGgoAAAANSUhEUgAAAAwAAAAQBAMAAADQT4M0AAAAMFBMVEX///8QEBC6urrMzMxUVFRm\n",
       "ZmZERETc3NwyMjKqqqp2dnaIiIiYmJgiIiLu7u4AAAAU9Wx4AAAAAXRSTlMAQObYZgAAAFhJREFU\n",
       "CNdjeMAABhdAxGmGlSCqj6EMSLInMHAAJVknMPAsLy+vBYp8S0u7BaScGRjSgZQKA18DkOJl4D4A\n",
       "pLgP8IJM4mswARuX7gSmpoKNZWDcAKZ4gCoAgTQTILaSE58AAAAASUVORK5CYII=\n",
       "\" style=\"display:inline;vertical-align:middle;\" /></a></td></tr>\n",
       "<tr><td>2</td><td>Lambda</td><td>parameter:&nbsp;10<br>body:&nbsp;3<br>conditions:&nbsp;4<br></td><td><a class=\"ProveItLink\" href=\"../806876dd3cac81ee45aa73232a558956c1d1f0320/expr.ipynb\"><img src=\"data:image/png;base64,iVBORw0KGgoAAAANSUhEUgAAALkAAAAVCAMAAAAtrb/7AAAANlBMVEX///8UFBQNDQ0yMjKqqqrM\n",
       "zMzu7u4iIiJmZmaYmJhEREQQEBC6urp2dnaIiIhUVFTc3NwAAACAukRkAAAAAXRSTlMAQObYZgAA\n",
       "AgtJREFUSMfFl9mShCAMRTPDvsP//+ywuLQsNthV0z5Zlrkc4iWJAN+7sP/X5bR9Fid088jo/wQn\n",
       "buVtyxAKikke7zn5kJyiICWiSYoFhlfJc+TsLnWIbNQEm7eLPs65FEBkvgvLKbcLXhHgRPFzyOTC\n",
       "fEruGNkI1DK5GqacWsTidSZW0EOfZ3KqFskbSafjJ3fkCblGQ2cgUW2Kg3cHQvnYeIm8lXQkHjOa\n",
       "DLuRe2eNVkeJutLh1+X4/sGrEPCy/hiUg67sYfgd+XvJlG5ss9ULeX5dnp5n1esvAkhANwRkU5qJ\n",
       "ASyq+o1uyCcks1G4BmELuQ9pAS5H5NSdEqqs1YRQCR1yXZFrNSafkSwWd8nqWcnlfbKzaPz+sMul\n",
       "wrHCdteEaLW/jF5WJpVbSBiTz0gWcpqsnslD2hwNZJTzeKKhIm9Cev0plYF58inJTJ4SknPug80l\n",
       "N8b1yfmL3xSGbghlnXJuTnL6zi1zkoUcBIayz0TjEGDSJSf22sS6IXvPqTrePuNolnnE+ITOSW7k\n",
       "YLzc6wVmHA5TXtsk7dS1JiRmqFObnZOWAtVyq293VXFKUu5PONrqqNVE2plWrBkMQjxqJyogcTQK\n",
       "6jgnSN/UlveSOg5vch++1rv/eKTGDl0KQdvMV7v/e8mVKds8jzX2q/P5ypRbj9ff/bPw7mmk898l\n",
       "B//wb862B9h+RP4HE80XX8mRuOIAAAAASUVORK5CYII=\n",
       "\" style=\"display:inline;vertical-align:middle;\" /></a></td></tr>\n",
       "<tr><td>3</td><td>Operation</td><td>operator:&nbsp;8<br>operands:&nbsp;5<br></td><td><a class=\"ProveItLink\" href=\"../cd457d59bfd8582be7220a7500a0989802bcb0120/expr.ipynb\"><img src=\"data:image/png;base64,iVBORw0KGgoAAAANSUhEUgAAADMAAAAPBAMAAAC7N+rPAAAAMFBMVEX///8yMjKqqqrMzMzu7u4i\n",
       "IiJmZmaYmJhEREQQEBC6urp2dnaIiIhUVFTc3NwAAAD87Fq/AAAAAXRSTlMAQObYZgAAANRJREFU\n",
       "GNNjYMACeALlp7Zhk2BgXr+AZf9ZrFIF1xkYmP4ii7AcDA0VANLsDhOAZC6ylGEJhGbjuwAkfYCY\n",
       "786ueSARvhaoEjeuDVDWygccH0A0xwOogDVTAYTB952BrQHE8IAZbM0FleL9wMB6AKw7NBTiDA9m\n",
       "qIH8DQz+BiCGLUwXo8MFCOP9AQZ9BgcgwxUmxb4BJMXCwOCvwHCRCaSNtwAm174GSCx1YGAsYArj\n",
       "Bvs4CibFe+MIy4oWkLdOWZwCizxMhsmZxf+8hRp2uqJgF8IAAH82L/mC9qalAAAAAElFTkSuQmCC\n",
       "\" style=\"display:inline;vertical-align:middle;\" /></a></td></tr>\n",
       "<tr><td>4</td><td>ExprTuple</td><td>6</td><td><a class=\"ProveItLink\" href=\"../1aef02f7e4ec06b9c782027edcee698da5ec149e0/expr.ipynb\"><img src=\"data:image/png;base64,iVBORw0KGgoAAAANSUhEUgAAAD8AAAAVBAMAAAADRiu8AAAAMFBMVEX////c3NwiIiJERESqqqqY\n",
       "mJh2dnZmZmYQEBDu7u4yMjJUVFTMzMyIiIi6uroAAAAs73DqAAAAAXRSTlMAQObYZgAAAUhJREFU\n",
       "KM+FkjFIw0AUhv+YpGmaWDPrIGRxkywddJDsDnYSXEQnJ0UcnEQqOEvQRbo0CA7ZxFGiBAoOdsks\n",
       "WsSpdAqK4CS+lzR6QhoP7rj33vfu3fvvgH9HPR4fW+elVxBovy962HtztYiMoCi1YTpAAvjAZGGF\n",
       "6+gZaAGrQNUT/Pqjbfu8uQuMiIFzYCgmPqyNNmFPDxiQXeyTKd3uHLFbWsjJUIm7DFR2cUnmwJIT\n",
       "dsvWD4BDNSZA8XFCiR/QHHaf4RcwvJCAegtfgJFgIu1lYNujS4bQr9oEmAkDUw460V/NQuDezIBj\n",
       "YDbGCrjbUxFQXSct0QA6Lm4UPsJoCgA2CVB9bAG1pjJXSXWaz4ElmpqftvnKMvS7/dQ/fZDFh5+U\n",
       "rRNQe0HVEqVcvsi6yAdJrW6UfZbtcc+dPx4fN1MCGFxfKvlyT8A38B5SsNmj17wAAAAASUVORK5C\n",
       "YII=\n",
       "\" style=\"display:inline;vertical-align:middle;\" /></a></td></tr>\n",
       "<tr><td>5</td><td>ExprTuple</td><td>10, 7</td><td><a class=\"ProveItLink\" href=\"../4d7c0ad813ab3197c922864bf572a2de9c4f2e7d0/expr.ipynb\"><img src=\"data:image/png;base64,iVBORw0KGgoAAAANSUhEUgAAAC8AAAAVBAMAAAAk6KpUAAAAMFBMVEX////c3NwiIiJERESqqqqY\n",
       "mJh2dnZmZmYQEBDu7u4yMjJUVFTMzMyIiIi6uroAAAAs73DqAAAAAXRSTlMAQObYZgAAASFJREFU\n",
       "KM9jYMAJ+C5gisWBiNMoQrxa65vMGdgPAJkrkcV53j/gzL/NwLAAqATFpICtDAwsvxkYwhgYOCYg\n",
       "ibNOaACS1QwMMxgYXiFrYGfcACTnMjAwOzCUAVmMe/MawRLT+RIgKtgKGJYCqRcCzB/A/GMsARAJ\n",
       "lgUMfUANXxnYDSASfFAJvgaGfwwM3B8YmCBum8wDNYrnA0iC34Bh/gEwn2vCBrhECwOD/AUGfwaw\n",
       "q1kTQBKcYKNMGRjmOzDsYjnACZIxfQskHk1gYF3AkA40IIBFnY1hvgJQjHvzTc7HlmDnPgJ5497h\n",
       "ewwzPoK0HNf/sQ9k2QMGDgGYtx8iBcEMkH3wAESSyEUOdiQJTmCwM0jDoghJAzfIfEYsUXuHgQEA\n",
       "M61El67l9nMAAAAASUVORK5CYII=\n",
       "\" style=\"display:inline;vertical-align:middle;\" /></a></td></tr>\n",
       "<tr><td>6</td><td>Operation</td><td>operator:&nbsp;8<br>operands:&nbsp;9<br></td><td><a class=\"ProveItLink\" href=\"../3975ea040636df685b2318cfeae40a19d7dd506b0/expr.ipynb\"><img src=\"data:image/png;base64,iVBORw0KGgoAAAANSUhEUgAAADMAAAAPBAMAAAC7N+rPAAAAMFBMVEX///8yMjKqqqrMzMzu7u4i\n",
       "IiJmZmaYmJhEREQQEBC6urp2dnaIiIhUVFTc3NwAAAD87Fq/AAAAAXRSTlMAQObYZgAAANdJREFU\n",
       "GNNjYMAAjj8aHRhSvyowYAHtzA0MDB+wyTBcNTjDwDABWYTlYGioAIhxS4TXAFXKsATKuGzLIgKW\n",
       "4ruzax5IgK8FpuYy0wELsNTKBxxgKzkewKUYstgPAKX4vjOwNYAEPBgQUrwOl4FSvB8YWA+ABFaG\n",
       "hkKdcZmB5YIjUIq/gcHfACRgi6SLwZoZKPX+AIM+gwNQwBVZil0BaIm/AsNFJpA23gIkKYZ9QCnG\n",
       "AqYwbrCPo2BSXUDMJgDy1imLU2CRh8kQmYU/gTpYBFDCTlc0FFkAAE78NpyYZbUWAAAAAElFTkSu\n",
       "QmCC\n",
       "\" style=\"display:inline;vertical-align:middle;\" /></a></td></tr>\n",
       "<tr><td>7</td><td>Literal</td><td></td><td><a class=\"ProveItLink\" href=\"../../../complex/__pv_it/c357845f93a5a2d9f649129d299e7ec28dda4b960/expr.ipynb\"><img src=\"data:image/png;base64,iVBORw0KGgoAAAANSUhEUgAAAA8AAAAOBAMAAAACpFvcAAAAMFBMVEX////c3NyqqqqYmJhUVFR2\n",
       "dnbu7u66urrMzMxmZmZEREQQEBAyMjIiIiKIiIgAAAB7fvZ0AAAAAXRSTlMAQObYZgAAAGVJREFU\n",
       "CNdjYGDgu3N+70oGBgaO+gK2+CdAhoEzAwPTFwYG5oQNQN4UBgZORgcgI4+BIZM9gAEMWpkMoAx2\n",
       "KCOLAyrFk+AAYTAHgBhsQLy4DkjUJjAwsHg9Y6taBpLsvP/bnYEBACkBFGQfBv8RAAAAAElFTkSu\n",
       "QmCC\n",
       "\" style=\"display:inline;vertical-align:middle;\" /></a></td></tr>\n",
       "<tr><td>8</td><td>Literal</td><td></td><td><a class=\"ProveItLink\" href=\"../../../../../logic/set_theory/membership/__pv_it/088cbc857536a28d4119ad9639a84270ccb0545d0/expr.ipynb\"><img src=\"data:image/png;base64,iVBORw0KGgoAAAANSUhEUgAAAAwAAAAMBAMAAACkW0HUAAAALVBMVEX///+qqqpmZmZUVFQQEBC6\n",
       "urpERETc3NyYmJjMzMwiIiIyMjKIiIju7u4AAACYsrA9AAAAAXRSTlMAQObYZgAAADxJREFUCNdj\n",
       "YOA9vWrVBgaG2b0MQMCeCyIZ2ArA1DUwyRCyahVIyWQI7xaEYm4AU7xLIdxqTQgtvGvVBgCkcQ7e\n",
       "geM/tQAAAABJRU5ErkJggg==\n",
       "\" style=\"display:inline;vertical-align:middle;\" /></a></td></tr>\n",
       "<tr><td>9</td><td>ExprTuple</td><td>10, 11</td><td><a class=\"ProveItLink\" href=\"../4d77c211283b3822532de3c9a446d2004228547e0/expr.ipynb\"><img src=\"data:image/png;base64,iVBORw0KGgoAAAANSUhEUgAAAC8AAAAVBAMAAAAk6KpUAAAAMFBMVEX////c3NwiIiJERESqqqqY\n",
       "mJh2dnZmZmYQEBDu7u4yMjJUVFTMzMyIiIi6uroAAAAs73DqAAAAAXRSTlMAQObYZgAAARpJREFU\n",
       "KM910b9Lw0AUwPFvbdI0Tfpjd9DNNUsXB8l/YCdH0amTIg6OUsFZMpYuyeKQTRylSqDg0iV/gBZ1\n",
       "EqeoCE7iu5qDK2rgAu997l7y3sG/Tyv/ndtWr6mRGL2vRxy+hU4mQWpu7foBFJBAc6HSZXYPA9iC\n",
       "emTCTeplCobwsvDV8dRNFVRDjiSsXO+flGDlEwW1A84lfO5UixI4tnMBK+FMDnzgBBq8aCzQGvAF\n",
       "XsFSrsG9GAn4hYJ2QJxp4Nb/gVNYydkk0mCHwbxUF+KQKytzS2BXwE7oQ6NnrdWIVyW5IctJ5r/7\n",
       "pNqYTWYMX6XbT9ntCjQeqHd014/GBGQk9o4OegbsmWM3QFVjuQyaxgFP1a/8cbV38A1BUkyB6e2h\n",
       "TwAAAABJRU5ErkJggg==\n",
       "\" style=\"display:inline;vertical-align:middle;\" /></a></td></tr>\n",
       "<tr><td>10</td><td>Variable</td><td></td><td><a class=\"ProveItLink\" href=\"../../../../../__pv_it/07527342713064c87612d00d8557c53d53d5324a0/expr.ipynb\"><img src=\"data:image/png;base64,iVBORw0KGgoAAAANSUhEUgAAAAsAAAAJBAMAAAAWSsseAAAAMFBMVEX///8yMjKqqqrMzMzu7u4i\n",
       "IiJmZmaYmJhEREQQEBC6urp2dnaIiIhUVFTc3NwAAAD87Fq/AAAAAXRSTlMAQObYZgAAAEhJREFU\n",
       "CNdjYOC7s2seAwPDygccHxgY+L4zsDUwMPB+YGA9wMDA38Dgb8DA8P4Agz6DA4O/AsNFJgMGxgKm\n",
       "MG6gyjunLE4xAAAZTBA5TB6DCwAAAABJRU5ErkJggg==\n",
       "\" style=\"display:inline;vertical-align:middle;\" /></a></td></tr>\n",
       "<tr><td>11</td><td>Literal</td><td></td><td><a class=\"ProveItLink\" href=\"../e5d9bd86b06b357eee742ad868997123619e09700/expr.ipynb\"><img src=\"data:image/png;base64,iVBORw0KGgoAAAANSUhEUgAAAA8AAAAOBAMAAAACpFvcAAAAMFBMVEX////c3Nx2dna6uroQEBCI\n",
       "iIhUVFTMzMyYmJiqqqoiIiJmZmZEREQyMjLu7u4AAADjlg78AAAAAXRSTlMAQObYZgAAAGBJREFU\n",
       "CNdjePvn7AOGXb8mMDCcYD/AwPCBgYEhqyCUgcEByEi+x1YAZqSX8d2DMDgDaiAMhs0cARAG24N0\n",
       "CIMv4S2EwVDEDmVwTDgAYTAoghiHgZj7AgOD7Rcgj+8CAwA9oh2B0HK+MAAAAABJRU5ErkJggg==\n",
       "\" style=\"display:inline;vertical-align:middle;\" /></a></td></tr>\n",
       "</table>\n"
      ],
      "text/plain": [
       "0. forall_{a in Naturals} (a in Complexes)\n",
       "   core type: Operation\n",
       "   operator: 1\n",
       "   operand: 2\n",
       "1. forall\n",
       "   core type: Literal\n",
       "   sub-expressions: \n",
       "2. a -> (a in Complexes) | a in Naturals\n",
       "   core type: Lambda\n",
       "   parameter: 10\n",
       "   body: 3\n",
       "   conditions: 4\\n3. a in Complexes\n",
       "   core type: Operation\n",
       "   operator: 8\n",
       "   operands: 5\n",
       "4. (a in Naturals)\n",
       "   core type: ExprTuple\n",
       "   sub-expressions: 6\n",
       "5. (a , Complexes)\n",
       "   core type: ExprTuple\n",
       "   sub-expressions: 10, 7\n",
       "6. a in Naturals\n",
       "   core type: Operation\n",
       "   operator: 8\n",
       "   operands: 9\n",
       "7. Complexes\n",
       "   core type: Literal\n",
       "   sub-expressions: \n",
       "8. in\n",
       "   core type: Literal\n",
       "   sub-expressions: \n",
       "9. (a , Naturals)\n",
       "   core type: ExprTuple\n",
       "   sub-expressions: 10, 11\n",
       "10. a\n",
       "    core type: Variable\n",
       "    sub-expressions: \n",
       "11. Naturals\n",
       "    core type: Literal\n",
       "    sub-expressions: "
      ]
     },
     "execution_count": 3,
     "metadata": {},
     "output_type": "execute_result"
    }
   ],
   "source": [
    "# display the expression information\n",
    "natsInComplexes.exprInfo()"
   ]
  },
  {
   "cell_type": "code",
   "execution_count": null,
   "metadata": {},
   "outputs": [],
   "source": []
  }
 ],
 "metadata": {
  "kernelspec": {
   "display_name": "Python 3",
   "language": "python",
   "name": "python3"
  }
 },
 "nbformat": 4,
 "nbformat_minor": 0
}
