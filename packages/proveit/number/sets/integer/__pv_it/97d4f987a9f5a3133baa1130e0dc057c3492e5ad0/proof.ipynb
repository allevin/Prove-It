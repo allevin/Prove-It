{
 "cells": [
  {
   "cell_type": "markdown",
   "metadata": {},
   "source": [
    "Show the Proof\n",
    "========"
   ]
  },
  {
   "cell_type": "code",
   "execution_count": 1,
   "metadata": {},
   "outputs": [
    {
     "data": {
      "text/html": [
       "<table><tr><th>&nbsp;</th><th>step type</th><th>requirements</th><th>statement</th></tr>\n",
       "<tr><td>0</td><td>specialization</td><td>1</td><td><span style=\"font-size:20px;\"> <a class=\"ProveItLink\" href=\"proof.ipynb\" style=\"text-decoration: none\">&#x22A2;&nbsp;</a><a class=\"ProveItLink\" href=\"../bb99379610db692a310591fa0dca49923a0b5d180/expr.ipynb\"><img src=\"data:image/png;base64,iVBORw0KGgoAAAANSUhEUgAAAHgAAAAbBAMAAABFKlYVAAAAMFBMVEX///+qqqp2dnYiIiJERESI\n",
       "iIhmZmYQEBDc3NyYmJgyMjLu7u5UVFTMzMy6uroAAACGxKilAAAAAXRSTlMAQObYZgAAAedJREFU\n",
       "OMtjYCAABPBLv8Mr6wDETDhleQ8Q1Ixbya4NBDUzhOKSPclAWDNzA3ZJjgIsgtzrXVYzsNkbwjSz\n",
       "ormbab3Xr2JHBga2BGxGsky4wsDAz8CzalXVqqVAw36jy/MF7NqkwMD+AJtmHlvWAAZ2uLMZLDE1\n",
       "sz5YwHAfxblRxsYLwJpfbTiLrDkFTR6omXHCaYZwZM23ZsNsvntg1wYkzfPR5EE2v3BgOAVi9wQ9\n",
       "B4Unhzfc2RdEeR2QNL8HxydCHqj58pQNDD5AJl8Fgz9YqAGhme3BVLBmSDjfv4Aqz8Jn/L+UgWEZ\n",
       "kNk/AeKpLYgAu8Bwmuc6wj/9D1DlQc4OdGAwAzLPMzCYgoSeGxvDAuwCwx7u5QjN+wVQ5YGaGRwe\n",
       "gTV/YeD+CxK6g2wzrwKGzXeQbWZwYGFYAwyHrwyMH7iBQpuRNTNMZEHSDPbzZnTNR4Cx95GBZ4Es\n",
       "SMsEZM1MLQjN78FBhZCHOjsYyFzJIJygAEoDdnBJkDOzEJoh8YwkzxfAmerA8B4UzaFvXcGe6sqF\n",
       "yPGtLwFlVoRmLQgFkwdmjC/mB4Gp/wJyEpNZDAlNdLAUuzyPAgNhwP0DRylkQIRmTgccEo5EaGa+\n",
       "gEOiiwjN03BJMBL2NIcDTqmJBDWzbWCgPgAAPFqAzHtAmwgAAAAASUVORK5CYII=\n",
       "\" style=\"display:inline;vertical-align:middle;\" /></a></span></td></tr>\n",
       "<tr><td>&nbsp;</td><td colspan=4 style=\"text-align:left\"><span style=\"font-size:20px;\"><a class=\"ProveItLink\" href=\"../../../../../__pv_it/530be409e3083890784cf1d7b28c9e67e90af9360/expr.ipynb\"><img src=\"data:image/png;base64,iVBORw0KGgoAAAANSUhEUgAAAAsAAAAJBAMAAAAWSsseAAAAKlBMVEX///9ERETMzMwQEBAiIiKY\n",
       "mJju7u5mZmaqqqpUVFSIiIh2dnbc3NwAAAA/vyDhAAAAAXRSTlMAQObYZgAAAENJREFUCNdjYDi9\n",
       "8sTyBQxsG1hdmR0YuBm4LnAoMLAxcAowgADzAjB1VoEhgYH1wFoGrgSG3gBhhlMMDImrs3cFMAAA\n",
       "t0YN+iTRa+sAAAAASUVORK5CYII=\n",
       "\" style=\"display:inline;vertical-align:middle;\" /></a> : <a class=\"ProveItLink\" href=\"../../../../../__pv_it/07527342713064c87612d00d8557c53d53d5324a0/expr.ipynb\"><img src=\"data:image/png;base64,iVBORw0KGgoAAAANSUhEUgAAAAsAAAAJBAMAAAAWSsseAAAAMFBMVEX///8yMjKqqqrMzMzu7u4i\n",
       "IiJmZmaYmJhEREQQEBC6urp2dnaIiIhUVFTc3NwAAAD87Fq/AAAAAXRSTlMAQObYZgAAAEhJREFU\n",
       "CNdjYOC7s2seAwPDygccHxgY+L4zsDUwMPB+YGA9wMDA38Dgb8DA8P4Agz6DA4O/AsNFJgMGxgKm\n",
       "MG6gyjunLE4xAAAZTBA5TB6DCwAAAABJRU5ErkJggg==\n",
       "\" style=\"display:inline;vertical-align:middle;\" /></a></span></td></tr><tr><td>1</td><td>theorem</td><td></td><td><span style=\"font-size:20px;\"> <a class=\"ProveItLink\" href=\"../../_proofs_/xInNatsPosInBool.ipynb\" style=\"text-decoration: none\">&#x22A2;&nbsp;</a><a class=\"ProveItLink\" href=\"../cee29a7d2cafbc2310b55fd410ae501b7d61f1320/expr.ipynb\"><img src=\"data:image/png;base64,iVBORw0KGgoAAAANSUhEUgAAAK0AAAAbBAMAAAD8EhIYAAAAMFBMVEX///8QEBC6urrMzMxUVFRm\n",
       "ZmZERETc3NwyMjKqqqp2dnaIiIiYmJgiIiLu7u4AAAAU9Wx4AAAAAXRSTlMAQObYZgAAArpJREFU\n",
       "SMe1VU9o02AUf23SpjZtLCIiiDDBgzBkEYd4kZUNJniQgijCQHLqDqLUS+dFzG6FaVvwz8F56M25\n",
       "wRgyRJloL1NkqMOBoqwsBxlDGK0WNgQZvi/N9+Xv18DAB/kl+f2SX973vscLwO6iuot3oj0U+KHh\n",
       "UeNoSQ7fz6C7L+8RIRtIK2UKIb7yHEdcwMPwsWKdQogvfOWI6QLAMrlYcrI3GPhWUsmXIbb2jfrO\n",
       "e/Sprcr4F9xRGQvxlBCuRV9k4It4/RTAXhBLpYOlCYCmd7Far1Kexu/vABTxVtKc4j4G/hKtYE0j\n",
       "rA7pus8XniXwvAqQwG/GnN0otCjY63/RaOim7zFjyOEb0zw6+j4W0fASQOrJ2Ngtp4mcocDi9Eea\n",
       "78nshmH7ploeneRLCvAJj618/rtrrboF0szZyRHCSNeZpk4Kmu0b3QG3rvUKq+SmD3MeAhh17U3W\n",
       "gp/woX7YZAq2b6xnyfQ1W19og1vXjq/9Ik09oAIcBUV3+iZyFtTgDdwjzLq9FhXOiyfYrfQb3DrW\n",
       "YeEhnm/jEEiD7NrWdM4CA4Y7zJFGg+6bCj+UcXs//3h09I1HcWw0SRPX00agL8Ahx7yg+Qo1X779\n",
       "znzjpPQkX0Un/MzgvGrVIUtBaoNCmE2nL7yP276d+m76fYnX6CCONmM4YjWxqFnwTm7Ba3DNCuKb\n",
       "LNoDdRvcOq1DH9nJBzgionCH9e9yB/b8jWckc2Ipn1mvkKF8mfla/Wvr6Lv43OpfiJgvb7MkWh1Q\n",
       "rs5Ov+pQNy9YUuUA4oY9wHW3jnPn2n6y7Cnzq2TbhIxAn24zYHH/bkMPGBeJOY4+QS8Gkjr7e5xj\n",
       "EBbNQjCvsMWvvxyZpddnGITFWw6f0gKHbJVCWKzw/hdqECvpFEIileMIi8H0Iwbdo8jhJY2TR5VC\n",
       "97jC4WMG/Lf4B9iJu/0YVPICAAAAAElFTkSuQmCC\n",
       "\" style=\"display:inline;vertical-align:middle;\" /></a></span></td></tr>\n",
       "<tr><td>&nbsp;</td><td colspan=4 style-\"text-align:left\"><a class=\"ProveItLink\" href=\"../../_proofs_/xInNatsPosInBool.ipynb\">proveit.number.sets.integer.xInNatsPosInBool</a></td></tr></table>"
      ],
      "text/plain": [
       "<proveit._core_.proof._ShowProof at 0x7f94ebaa9d30>"
      ]
     },
     "execution_count": 1,
     "metadata": {},
     "output_type": "execute_result"
    }
   ],
   "source": [
    "import proveit\n",
    "%show_proof"
   ]
  },
  {
   "cell_type": "code",
   "execution_count": null,
   "metadata": {},
   "outputs": [],
   "source": []
  }
 ],
 "metadata": {
  "kernelspec": {
   "display_name": "Python 3",
   "language": "python",
   "name": "python3"
  }
 },
 "nbformat": 4,
 "nbformat_minor": 0
}
