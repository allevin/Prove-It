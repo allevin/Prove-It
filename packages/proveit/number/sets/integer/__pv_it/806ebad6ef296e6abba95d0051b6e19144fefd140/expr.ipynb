{
 "cells": [
  {
   "cell_type": "markdown",
   "metadata": {},
   "source": [
    "Expression of type <a class=\"ProveItLink\" href=\"../../../../../../../doc/html/api/proveit.ExprTuple.html\">ExprTuple</a>\n",
    "=======================\n",
    "# from context <a class=\"ProveItLink\" href=\"../../_context_.ipynb\">proveit.number.sets.integer</a>"
   ]
  },
  {
   "cell_type": "code",
   "execution_count": 1,
   "metadata": {},
   "outputs": [],
   "source": [
    "# import Expression classes needed to build the expression\n",
    "from proveit import ExprTuple\n",
    "from proveit.number import Integers, NaturalsPos"
   ]
  },
  {
   "cell_type": "code",
   "execution_count": 2,
   "metadata": {},
   "outputs": [
    {
     "data": {
      "text/html": [
       "<strong id=\"expr\">expr:</strong> <a class=\"ProveItLink\" href=\"expr.ipynb\"><img src=\"data:image/png;base64,iVBORw0KGgoAAAANSUhEUgAAAEIAAAAbBAMAAAA6+0TkAAAAMFBMVEX///+qqqp2dnYiIiJERESI\n",
       "iIhmZmYQEBDc3NyYmJgyMjLu7u5UVFTMzMy6uroAAACGxKilAAAAAXRSTlMAQObYZgAAAX9JREFU\n",
       "KM+Nkj1Iw1AQx//GmDbNRwviHkFwE11ECsUIRUQdCg6COIijXRy66GIGJ3Fowe4uWqhCM4hDEdrB\n",
       "QS1CB8FFsZODgx84KEjVe4m2SSoPD969C+/HXe5/B/gshr/s0RObgTeDOa3KIW6YK9scoidF7hwc\n",
       "AmNAeBVKKXkAaXzES/R+xQvxNWARkJYAMXsFRKEWi+vFPZdYSCPC+IqNUANQE1Qv5KuyDPQL9NSd\n",
       "xR19qg/2ZYCoIVxljUgm5hlxWy3bocCfivYMefkZF4yo92lmkMjLWfL6B2YdQmrkHaKtnmIeOXo2\n",
       "se8QqKnXfiHU+hm7wp8YdYkTpeAn7nVnJsrLL6EZgRy7EUCwWI5Dl0BO9AFCbIjEoCpNnP4Qwmbr\n",
       "lY1ym418kHp5xxxrncTDSquLV3JToo3jAUePJ+JKGbYFLWLDgp4pJKffJin1LqL1jqXTrXYcSUE1\n",
       "OgjZE1csaMNcYofORAeR8sQJOlvgmEz7hS6DQ7gi5ThEGv+wbw75WWtT8mWEAAAAAElFTkSuQmCC\n",
       "\" style=\"display:inline;vertical-align:middle;\" /></a><br>"
      ],
      "text/plain": [
       "expr: (NaturalsPos , Integers)"
      ]
     },
     "execution_count": 2,
     "metadata": {},
     "output_type": "execute_result"
    }
   ],
   "source": [
    "# build up the expression from sub-expressions\n",
    "expr = ExprTuple(NaturalsPos, Integers)"
   ]
  },
  {
   "cell_type": "code",
   "execution_count": 3,
   "metadata": {},
   "outputs": [
    {
     "name": "stdout",
     "output_type": "stream",
     "text": [
      "Passed sanity check: built 'expr' is the same as the stored Expression.\n"
     ]
    }
   ],
   "source": [
    "# check that the built expression is the same as the stored expression\n",
    "%check_expr"
   ]
  },
  {
   "cell_type": "code",
   "execution_count": 4,
   "metadata": {},
   "outputs": [
    {
     "data": {
      "text/html": [
       "<table><tr><th>&nbsp;</th><th>core type</th><th>sub-expressions</th><th>expression</th></tr>\n",
       "<tr><td>0</td><td>ExprTuple</td><td>1, 2</td><td><a class=\"ProveItLink\" href=\"expr.ipynb\"><img src=\"data:image/png;base64,iVBORw0KGgoAAAANSUhEUgAAAEIAAAAbBAMAAAA6+0TkAAAAMFBMVEX///+qqqp2dnYiIiJERESI\n",
       "iIhmZmYQEBDc3NyYmJgyMjLu7u5UVFTMzMy6uroAAACGxKilAAAAAXRSTlMAQObYZgAAAX9JREFU\n",
       "KM+Nkj1Iw1AQx//GmDbNRwviHkFwE11ECsUIRUQdCg6COIijXRy66GIGJ3Fowe4uWqhCM4hDEdrB\n",
       "QS1CB8FFsZODgx84KEjVe4m2SSoPD969C+/HXe5/B/gshr/s0RObgTeDOa3KIW6YK9scoidF7hwc\n",
       "AmNAeBVKKXkAaXzES/R+xQvxNWARkJYAMXsFRKEWi+vFPZdYSCPC+IqNUANQE1Qv5KuyDPQL9NSd\n",
       "xR19qg/2ZYCoIVxljUgm5hlxWy3bocCfivYMefkZF4yo92lmkMjLWfL6B2YdQmrkHaKtnmIeOXo2\n",
       "se8QqKnXfiHU+hm7wp8YdYkTpeAn7nVnJsrLL6EZgRy7EUCwWI5Dl0BO9AFCbIjEoCpNnP4Qwmbr\n",
       "lY1ym418kHp5xxxrncTDSquLV3JToo3jAUePJ+JKGbYFLWLDgp4pJKffJin1LqL1jqXTrXYcSUE1\n",
       "OgjZE1csaMNcYofORAeR8sQJOlvgmEz7hS6DQ7gi5ThEGv+wbw75WWtT8mWEAAAAAElFTkSuQmCC\n",
       "\" style=\"display:inline;vertical-align:middle;\" /></a></td></tr>\n",
       "<tr><td>1</td><td>Literal</td><td></td><td><a class=\"ProveItLink\" href=\"../42d4bc2e45d5054d807f2641a228c1b440fb8de30/expr.ipynb\"><img src=\"data:image/png;base64,iVBORw0KGgoAAAANSUhEUgAAABsAAAATBAMAAACTqWsLAAAAMFBMVEX////c3Nx2dna6uroQEBCI\n",
       "iIhUVFTMzMyYmJiqqqoiIiJmZmZEREQyMjLu7u4AAADjlg78AAAAAXRSTlMAQObYZgAAAHZJREFU\n",
       "GNNjYIADTgYUwEMy9+2fsw8Ydv2aAJM9wX6AgeEDQ+7dK3fvBjAwZBWEMjA4wPUm32MrQOKml/Hd\n",
       "Q+ZyBtQgcxk2cwSAuGxQLtuDdAe47ekMfAlvkbkMRewoXI4JB5C5DIoI7mEg5r4A49l+AcrwwbgA\n",
       "axoiJO4Xc9gAAAAASUVORK5CYII=\n",
       "\" style=\"display:inline;vertical-align:middle;\" /></a></td></tr>\n",
       "<tr><td>2</td><td>Literal</td><td></td><td><a class=\"ProveItLink\" href=\"../7b9e51516f347f625fa636d7bb440e96498977000/expr.ipynb\"><img src=\"data:image/png;base64,iVBORw0KGgoAAAANSUhEUgAAAA4AAAAOBAMAAADtZjDiAAAAMFBMVEX////MzMzc3NxUVFS6urp2\n",
       "dnZERETu7u5mZmaIiIiYmJgQEBAyMjIiIiKqqqoAAAAf68ZqAAAAAXRSTlMAQObYZgAAAGlJREFU\n",
       "CNdj4Lv/98ze0wsYOE8UMBxgY2DgCGBgfRDCwMBcwKDMaMAAAulsBSCKa8IqMLeMPQFMGzIrgCiW\n",
       "Blcwl4fhAANDEANDHKsDA8MFBiYDYQYG1g0MbArpDOytCQzeOdvSzm9rAAAm6xY1AUf+1AAAAABJ\n",
       "RU5ErkJggg==\n",
       "\" style=\"display:inline;vertical-align:middle;\" /></a></td></tr>\n",
       "</table>\n"
      ],
      "text/plain": [
       "0. (NaturalsPos , Integers)\n",
       "   core type: ExprTuple\n",
       "   sub-expressions: 1, 2\n",
       "1. NaturalsPos\n",
       "   core type: Literal\n",
       "   sub-expressions: \n",
       "2. Integers\n",
       "   core type: Literal\n",
       "   sub-expressions: "
      ]
     },
     "execution_count": 4,
     "metadata": {},
     "output_type": "execute_result"
    }
   ],
   "source": [
    "# display the expression information\n",
    "expr.exprInfo()"
   ]
  },
  {
   "cell_type": "code",
   "execution_count": null,
   "metadata": {},
   "outputs": [],
   "source": []
  }
 ],
 "metadata": {
  "kernelspec": {
   "display_name": "Python 3",
   "language": "python",
   "name": "python3"
  }
 },
 "nbformat": 4,
 "nbformat_minor": 0
}
