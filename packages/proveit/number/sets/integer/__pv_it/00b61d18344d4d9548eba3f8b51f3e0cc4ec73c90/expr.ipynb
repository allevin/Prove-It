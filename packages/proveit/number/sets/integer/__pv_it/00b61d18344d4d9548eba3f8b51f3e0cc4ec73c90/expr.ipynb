{
 "cells": [
  {
   "cell_type": "markdown",
   "metadata": {},
   "source": [
    "Expression of type <a class=\"ProveItLink\" href=\"../../../../../../../doc/html/api/proveit.logic.Forall.html\">Forall</a>\n",
    "=======================\n",
    "# from context <a class=\"ProveItLink\" href=\"../../_context_.ipynb\">proveit.number.sets.integer</a>"
   ]
  },
  {
   "cell_type": "code",
   "execution_count": 1,
   "metadata": {},
   "outputs": [],
   "source": [
    "# import Expression classes needed to build the expression\n",
    "from proveit._common_ import AA\n",
    "from proveit.logic import Equals, Forall"
   ]
  },
  {
   "cell_type": "code",
   "execution_count": 2,
   "metadata": {},
   "outputs": [
    {
     "data": {
      "text/html": [
       "<strong id=\"expr\">expr:</strong> <a class=\"ProveItLink\" href=\"expr.ipynb\"><img src=\"data:image/png;base64,iVBORw0KGgoAAAANSUhEUgAAAHEAAAAVBAMAAACDNRyvAAAAMFBMVEX///8QEBC6urrMzMxUVFRm\n",
       "ZmZERETc3NwyMjKqqqp2dnaIiIiYmJgiIiLu7u4AAAAU9Wx4AAAAAXRSTlMAQObYZgAAAbFJREFU\n",
       "OMudk79PwkAUxx8/CgXKrzgQF8vgZgyQuNto4iqji9FFWJlkIIYODsZBWZx1M8bFxNFBdMQFHRxM\n",
       "jPAPIDHKonLee9fW9EodfMn3Xu8+fb3Xd+8A/m29SYtzwi22JqFbPqK6OL1z05Ah/MuJJ5AjpQik\n",
       "M5wfuLEqEokzwxOJyATSNnfRTTe+spJlXU8koo4QfkSR/mdGuH029EQi6gtpp/X6jpsGTXKJrj6W\n",
       "AwlFWkKjSuXJjRVRmGbx8E2OJBQvCy0DVGm1YOestsltwcYXPaztoe06KGYKzUJKZKfbZxDI46hl\n",
       "4PpD3pNQMCOUhATtoeh2hdMU+dqCwkiOJBQaCiXaSTq++eOMK3I1m2Xff0amzAVafGjalQzgD8em\n",
       "BoMmo/n6M9qjg+xsobpEDVNO25WMYPZ9/k6S1aQ9CWmmEBxRp5R66qeFseLRFXyPyS2PyDkVCFzg\n",
       "2n1Wf7ePm3+KsTGEGWNFqRNwFzUvBBoWKG6A5tQj538pc7/dZ1mpByFmTzr+kYjOLZEl+YW6YdPu\n",
       "WzbJOMLGsZrHY1HDN5KjMC94uObDG/7pNuCSj1w/N8d520W0BGAAAAAASUVORK5CYII=\n",
       "\" style=\"display:inline;vertical-align:middle;\" /></a><br>"
      ],
      "text/plain": [
       "expr: forall_{A} (A = ())"
      ]
     },
     "execution_count": 2,
     "metadata": {},
     "output_type": "execute_result"
    }
   ],
   "source": [
    "# build up the expression from sub-expressions\n",
    "subExpr1 = []\n",
    "expr = Forall([AA], Equals(AA, subExpr1), conditions = subExpr1)"
   ]
  },
  {
   "cell_type": "code",
   "execution_count": 3,
   "metadata": {},
   "outputs": [
    {
     "name": "stdout",
     "output_type": "stream",
     "text": [
      "Passed sanity check: built 'expr' is the same as the stored Expression.\n"
     ]
    }
   ],
   "source": [
    "# check that the built expression is the same as the stored expression\n",
    "%check_expr"
   ]
  },
  {
   "cell_type": "code",
   "execution_count": 4,
   "metadata": {},
   "outputs": [
    {
     "data": {
      "text/html": [
       "<table><tr><th>&nbsp;</th><th>core type</th><th>sub-expressions</th><th>expression</th></tr>\n",
       "<tr><td>0</td><td>Operation</td><td>operator:&nbsp;1<br>operand:&nbsp;2<br></td><td><a class=\"ProveItLink\" href=\"expr.ipynb\"><img src=\"data:image/png;base64,iVBORw0KGgoAAAANSUhEUgAAAHEAAAAVBAMAAACDNRyvAAAAMFBMVEX///8QEBC6urrMzMxUVFRm\n",
       "ZmZERETc3NwyMjKqqqp2dnaIiIiYmJgiIiLu7u4AAAAU9Wx4AAAAAXRSTlMAQObYZgAAAbFJREFU\n",
       "OMudk79PwkAUxx8/CgXKrzgQF8vgZgyQuNto4iqji9FFWJlkIIYODsZBWZx1M8bFxNFBdMQFHRxM\n",
       "jPAPIDHKonLee9fW9EodfMn3Xu8+fb3Xd+8A/m29SYtzwi22JqFbPqK6OL1z05Ah/MuJJ5AjpQik\n",
       "M5wfuLEqEokzwxOJyATSNnfRTTe+spJlXU8koo4QfkSR/mdGuH029EQi6gtpp/X6jpsGTXKJrj6W\n",
       "AwlFWkKjSuXJjRVRmGbx8E2OJBQvCy0DVGm1YOestsltwcYXPaztoe06KGYKzUJKZKfbZxDI46hl\n",
       "4PpD3pNQMCOUhATtoeh2hdMU+dqCwkiOJBQaCiXaSTq++eOMK3I1m2Xff0amzAVafGjalQzgD8em\n",
       "BoMmo/n6M9qjg+xsobpEDVNO25WMYPZ9/k6S1aQ9CWmmEBxRp5R66qeFseLRFXyPyS2PyDkVCFzg\n",
       "2n1Wf7ePm3+KsTGEGWNFqRNwFzUvBBoWKG6A5tQj538pc7/dZ1mpByFmTzr+kYjOLZEl+YW6YdPu\n",
       "WzbJOMLGsZrHY1HDN5KjMC94uObDG/7pNuCSj1w/N8d520W0BGAAAAAASUVORK5CYII=\n",
       "\" style=\"display:inline;vertical-align:middle;\" /></a></td></tr>\n",
       "<tr><td>1</td><td>Literal</td><td></td><td><a class=\"ProveItLink\" href=\"../../../../../logic/boolean/quantification/universal/__pv_it/265f8c02ac1094d56e0e6410a1c1fd3500dc9f540/expr.ipynb\"><img src=\"data:image/png;base64,iVBORw0KGgoAAAANSUhEUgAAAAwAAAAQBAMAAADQT4M0AAAAMFBMVEX///8QEBC6urrMzMxUVFRm\n",
       "ZmZERETc3NwyMjKqqqp2dnaIiIiYmJgiIiLu7u4AAAAU9Wx4AAAAAXRSTlMAQObYZgAAAFhJREFU\n",
       "CNdjeMAABhdAxGmGlSCqj6EMSLInMHAAJVknMPAsLy+vBYp8S0u7BaScGRjSgZQKA18DkOJl4D4A\n",
       "pLgP8IJM4mswARuX7gSmpoKNZWDcAKZ4gCoAgTQTILaSE58AAAAASUVORK5CYII=\n",
       "\" style=\"display:inline;vertical-align:middle;\" /></a></td></tr>\n",
       "<tr><td>2</td><td>Lambda</td><td>parameter:&nbsp;6<br>body:&nbsp;3<br></td><td><a class=\"ProveItLink\" href=\"../f2e56467b48c18f47fd99d7a07e6d2badc8325890/expr.ipynb\"><img src=\"data:image/png;base64,iVBORw0KGgoAAAANSUhEUgAAAH4AAAAVCAMAAAC3zqojAAAANlBMVEX///8UFBQNDQ2YmJhmZmZE\n",
       "RES6urrc3Nzu7u4QEBCIiIgyMjJUVFR2dnYiIiKqqqrMzMwAAACALMBcAAAAAXRSTlMAQObYZgAA\n",
       "AWBJREFUSMfNltmShCAMRTMDsqPk/3923ICkhSqkX+a+XKj2GAghNsC/UcJt+FnlZsiDEuoaZy9a\n",
       "MQ6vNMyQFyXTNct+KyKG0fDezJA35fOUJxBxHYzu3AyZKRG5X2vZ94CD4S3b/CiZKWO5n0tbwSKa\n",
       "sQpiaRslK7Vs3AE0JvCItRpZBNhYZUuatQfZU6Wi5L4vZB9JRFGLmbOB7s4LMnmQID1RaFCb5w7i\n",
       "OAaHKHvhTdDkEMlWn2T36AulLHdztg2FuJSHf39WJkvSS4YNsqdKJeQe0O5i9+fzJgXVelGLfB1+\n",
       "s8ns0vT+fLxOaprGUogtEiTN2tKgePJN/mFF1O3wifWZJRdRk+ypUCA8cR3yChesnw7HK4+357vO\n",
       "2mRP9ZrRi4eHzHmMp9JA27lS85JUJaFecX8rq7+hWk33lUT8hoqO+3t5M0+Zu/CMn/5jpMM8lftn\n",
       "0DAf381S7q7Q0/8A3P0TNgthwowAAAAASUVORK5CYII=\n",
       "\" style=\"display:inline;vertical-align:middle;\" /></a></td></tr>\n",
       "<tr><td>3</td><td>Operation</td><td>operator:&nbsp;4<br>operands:&nbsp;5<br></td><td><a class=\"ProveItLink\" href=\"../0270a6f1fdae669af9d4a157038c14d06b9228bc0/expr.ipynb\"><img src=\"data:image/png;base64,iVBORw0KGgoAAAANSUhEUgAAADsAAAAVBAMAAAAKrYvGAAAAMFBMVEX///+YmJhmZmZERES6urrc\n",
       "3Nzu7u4QEBCIiIgyMjJUVFR2dnYiIiKqqqrMzMwAAAD8et6HAAAAAXRSTlMAQObYZgAAAOxJREFU\n",
       "KM9jYCAC8P3FFPNgEIExeX5j6ljAwPQAyt7/C0OaM4GBYQJU5f8/GNIdQCwNVbn/P4Z0GRCnQ5g9\n",
       "7P8T0GRZQAYzXwAxWf9x/ndAk2baACS4FUBMZgWm/wJgsZlgsABkH0iAF+w2cQaO/wpoutlBxrEU\n",
       "AAm2vwws/w3QpPlB0nwfgATX9/L6/wdwSl9/lpb6/wPY7jNgADKJ/QLUcLZaIOP8VzTdzCCnMQKd\n",
       "FgVSbI8eJ2A/AQn+/8AgWf///z+0YAE5htMBZxyXIgIVGwBFxw7c0sAIZZuAW5p1AQNXAJ4EFsHQ\n",
       "x8AAAER9Pp6cccGsAAAAAElFTkSuQmCC\n",
       "\" style=\"display:inline;vertical-align:middle;\" /></a></td></tr>\n",
       "<tr><td>4</td><td>Literal</td><td></td><td><a class=\"ProveItLink\" href=\"../../../../../logic/equality/__pv_it/2fb26078095930560931daa0500ce419a39ea6cd0/expr.ipynb\"><img src=\"data:image/png;base64,iVBORw0KGgoAAAANSUhEUgAAAA4AAAAFBAMAAACHocAhAAAAFVBMVEX///9EREQiIiJUVFQyMjJm\n",
       "ZmYAAADubVkoAAAAAXRSTlMAQObYZgAAABRJREFUCNdjCHEBAWcGXCBICQQUAUpuAwlgGKrkAAAA\n",
       "AElFTkSuQmCC\n",
       "\" style=\"display:inline;vertical-align:middle;\" /></a></td></tr>\n",
       "<tr><td>5</td><td>ExprTuple</td><td>6, 7</td><td><a class=\"ProveItLink\" href=\"../15eecfbbe1405bc10d5e003e1299a97a31fb61150/expr.ipynb\"><img src=\"data:image/png;base64,iVBORw0KGgoAAAANSUhEUgAAADcAAAAVBAMAAAAQkWtIAAAAMFBMVEX////c3NwiIiJERESqqqqY\n",
       "mJh2dnZmZmYQEBDu7u4yMjJUVFTMzMyIiIi6uroAAAAs73DqAAAAAXRSTlMAQObYZgAAASxJREFU\n",
       "KM99kj9Lw1AUxU+MMX+axu5F8Bvo4mxHRydxkm5O0kydFRx0sXHTLYtDt34DXcWlOCsUR0FoSxDB\n",
       "4u29973YUMHA773knMe5970X4N8nGeoUF7/KB454FPBklJXP0osH8B+goG+kzndpRhmQQ6nbVJqW\n",
       "5itzYAgys7xDpXnJ3BjejfIcUGYblEi3pXRVcWYRjYzpt3lYS5U7VdzUp33bj8yruXKlyiHqlBoz\n",
       "kITkVPkRISyQ0LYx18WMx4qata+LHm3+Nc9F2Hu8vaaxjW0tYnckVVZsTQDZjSsNeblyzK9NKbdb\n",
       "IJzaXZRbeeMqxAdwTzQLew1Ok9rRSAka1euTj7PF8XntiunBHvqJpb9s8pWF3I+AZsXU63MGqHG8\n",
       "AGe4/ONs4IVHZg58YFVvymW/lAAAAABJRU5ErkJggg==\n",
       "\" style=\"display:inline;vertical-align:middle;\" /></a></td></tr>\n",
       "<tr><td>6</td><td>Variable</td><td></td><td><a class=\"ProveItLink\" href=\"../../../../../__pv_it/eb438fefc4bd0ac977777d6dfd3e8a72dfbedbd50/expr.ipynb\"><img src=\"data:image/png;base64,iVBORw0KGgoAAAANSUhEUgAAABIAAAAPBAMAAAAbqIIhAAAAMFBMVEX///+YmJhmZmZERES6urrc\n",
       "3Nzu7u4QEBCIiIgyMjJUVFR2dnYiIiKqqqrMzMwAAAD8et6HAAAAAXRSTlMAQObYZgAAAGpJREFU\n",
       "CNdjYAABvr8MUMDzG8ba/wvK4Pv/B8ri3P8fyuph/58AZrD+4/zvAGYxKzD9FwCzxBk4/iuAGGx/\n",
       "GVj+G4BYXN/L6/8fALGuP0tL/f8BJFkLJM5/BRJRICX2QCfw/weauv7//38AzEYi08a6/oIAAAAA\n",
       "SUVORK5CYII=\n",
       "\" style=\"display:inline;vertical-align:middle;\" /></a></td></tr>\n",
       "<tr><td>7</td><td>ExprTuple</td><td></td><td><a class=\"ProveItLink\" href=\"../feb17bb8e989ce470672228f3fb01ca3e9677f560/expr.ipynb\"><img src=\"data:image/png;base64,iVBORw0KGgoAAAANSUhEUgAAAAwAAAAVBAMAAACAghKHAAAAMFBMVEX////c3NwiIiJERESqqqqY\n",
       "mJh2dnZmZmYQEBDu7u4yMjJUVFTMzMyIiIi6uroAAAAs73DqAAAAAXRSTlMAQObYZgAAAG1JREFU\n",
       "CNdjYIACvgusD4DUaQaGGiC1koGBi4GB9wIDA2sCA8cEBgbOBoZXIGUmDGUgKp1hKYjyYugDUS8Y\n",
       "/oGo8zCqBSJoCqKigGrBGh6BqHUMHAJgw4DGMrBdAFs0CyguzcCwEUgxXuA9wAAApdcX/S64IkwA\n",
       "AAAASUVORK5CYII=\n",
       "\" style=\"display:inline;vertical-align:middle;\" /></a></td></tr>\n",
       "</table>\n"
      ],
      "text/plain": [
       "0. forall_{A} (A = ())\n",
       "   core type: Operation\n",
       "   operator: 1\n",
       "   operand: 2\n",
       "1. forall\n",
       "   core type: Literal\n",
       "   sub-expressions: \n",
       "2. A -> (A = ())\n",
       "   core type: Lambda\n",
       "   parameter: 6\n",
       "   body: 3\n",
       "3. A = ()\n",
       "   core type: Operation\n",
       "   operator: 4\n",
       "   operands: 5\n",
       "4. =\n",
       "   core type: Literal\n",
       "   sub-expressions: \n",
       "5. (A , ())\n",
       "   core type: ExprTuple\n",
       "   sub-expressions: 6, 7\n",
       "6. A\n",
       "   core type: Variable\n",
       "   sub-expressions: \n",
       "7. ()\n",
       "   core type: ExprTuple\n",
       "   sub-expressions: "
      ]
     },
     "execution_count": 4,
     "metadata": {},
     "output_type": "execute_result"
    }
   ],
   "source": [
    "# display the expression information\n",
    "expr.exprInfo()"
   ]
  },
  {
   "cell_type": "code",
   "execution_count": null,
   "metadata": {},
   "outputs": [],
   "source": []
  }
 ],
 "metadata": {
  "kernelspec": {
   "display_name": "Python 3",
   "language": "python",
   "name": "python3"
  }
 },
 "nbformat": 4,
 "nbformat_minor": 0
}
