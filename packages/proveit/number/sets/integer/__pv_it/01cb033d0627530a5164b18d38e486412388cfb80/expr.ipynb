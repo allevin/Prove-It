{
 "cells": [
  {
   "cell_type": "markdown",
   "metadata": {},
   "source": [
    "Expression of type <a class=\"ProveItLink\" href=\"../../../../../../../doc/html/api/proveit.logic.InSet.html\">InSet</a>\n",
    "=======================\n",
    "# from context <a class=\"ProveItLink\" href=\"../../_context_.ipynb\">proveit.number.sets.integer</a>"
   ]
  },
  {
   "cell_type": "code",
   "execution_count": 1,
   "metadata": {},
   "outputs": [],
   "source": [
    "# import Expression classes needed to build the expression\n",
    "from proveit._common_ import n\n",
    "from proveit.logic import InSet\n",
    "from proveit.number import Add, Naturals, one"
   ]
  },
  {
   "cell_type": "code",
   "execution_count": 2,
   "metadata": {},
   "outputs": [
    {
     "data": {
      "text/html": [
       "<strong id=\"expr\">expr:</strong> <a class=\"ProveItLink\" href=\"expr.ipynb\"><img src=\"data:image/png;base64,iVBORw0KGgoAAAANSUhEUgAAAGcAAAAVBAMAAACphe0AAAAAMFBMVEX////c3NwiIiJERESqqqqY\n",
       "mJh2dnZmZmYQEBDu7u4yMjJUVFTMzMyIiIi6uroAAAAs73DqAAAAAXRSTlMAQObYZgAAAX1JREFU\n",
       "OMudkzFIw0AUhv9oExubiuLoIp3EKYJdBDWzKDo76eTuoCAiRcRRo2NBKkIpiShV0KEGDQguHSw4\n",
       "F4uTFBRRBF2KL9c0JOFuMRD4816+u3f/vQf86+mriTJyQwhV+eFuE9iMxfJfEyZWPw3A4jLqNEG9\n",
       "8WhW04EPIB2t7sBnbu4Ikpdi0KVbB3JA0oyE5zrimeJqrq2PTjKjTNxaKdeDmhBDGGdSK3YWdqqq\n",
       "5UFr5N/TQP2aC60wORgU4yRq9x5UBJTUGQouD5phciyow8GWXCNoD3jv0lFo8KBXZooeglKmQ1AL\n",
       "MImYN3nQI7v97UzGN8KBWs63IY+oeLEN2x6x7dMYpJVDO+FBI2jH+xn4VsXlDYch2aBqs6R3If8q\n",
       "PGiRyaswhGWduSq1oOizYssPg8adorfnGHihk+YgTRpRaH2/tACcMy2V/Pto/tAuKkHJfn5HsNP4\n",
       "bZSo+O4FQxNtyrfwhyIcNUs8n3lhZkgMXQgzkrCGtCtI/AG2mXCko5W41gAAAABJRU5ErkJggg==\n",
       "\" style=\"display:inline;vertical-align:middle;\" /></a><br>"
      ],
      "text/plain": [
       "expr: (n + 1) in Naturals"
      ]
     },
     "execution_count": 2,
     "metadata": {},
     "output_type": "execute_result"
    }
   ],
   "source": [
    "# build up the expression from sub-expressions\n",
    "expr = InSet(Add(n, one), Naturals)"
   ]
  },
  {
   "cell_type": "code",
   "execution_count": 3,
   "metadata": {},
   "outputs": [
    {
     "name": "stdout",
     "output_type": "stream",
     "text": [
      "Passed sanity check: built 'expr' is the same as the stored Expression.\n"
     ]
    }
   ],
   "source": [
    "# check that the built expression is the same as the stored expression\n",
    "%check_expr"
   ]
  },
  {
   "cell_type": "code",
   "execution_count": 4,
   "metadata": {},
   "outputs": [
    {
     "data": {
      "text/html": [
       "<table><tr><th>&nbsp;</th><th>core type</th><th>sub-expressions</th><th>expression</th></tr>\n",
       "<tr><td>0</td><td>Operation</td><td>operator:&nbsp;1<br>operands:&nbsp;2<br></td><td><a class=\"ProveItLink\" href=\"expr.ipynb\"><img src=\"data:image/png;base64,iVBORw0KGgoAAAANSUhEUgAAAGcAAAAVBAMAAACphe0AAAAAMFBMVEX////c3NwiIiJERESqqqqY\n",
       "mJh2dnZmZmYQEBDu7u4yMjJUVFTMzMyIiIi6uroAAAAs73DqAAAAAXRSTlMAQObYZgAAAX1JREFU\n",
       "OMudkzFIw0AUhv9oExubiuLoIp3EKYJdBDWzKDo76eTuoCAiRcRRo2NBKkIpiShV0KEGDQguHSw4\n",
       "F4uTFBRRBF2KL9c0JOFuMRD4816+u3f/vQf86+mriTJyQwhV+eFuE9iMxfJfEyZWPw3A4jLqNEG9\n",
       "8WhW04EPIB2t7sBnbu4Ikpdi0KVbB3JA0oyE5zrimeJqrq2PTjKjTNxaKdeDmhBDGGdSK3YWdqqq\n",
       "5UFr5N/TQP2aC60wORgU4yRq9x5UBJTUGQouD5phciyow8GWXCNoD3jv0lFo8KBXZooeglKmQ1AL\n",
       "MImYN3nQI7v97UzGN8KBWs63IY+oeLEN2x6x7dMYpJVDO+FBI2jH+xn4VsXlDYch2aBqs6R3If8q\n",
       "PGiRyaswhGWduSq1oOizYssPg8adorfnGHihk+YgTRpRaH2/tACcMy2V/Pto/tAuKkHJfn5HsNP4\n",
       "bZSo+O4FQxNtyrfwhyIcNUs8n3lhZkgMXQgzkrCGtCtI/AG2mXCko5W41gAAAABJRU5ErkJggg==\n",
       "\" style=\"display:inline;vertical-align:middle;\" /></a></td></tr>\n",
       "<tr><td>1</td><td>Literal</td><td></td><td><a class=\"ProveItLink\" href=\"../../../../../logic/set_theory/membership/__pv_it/088cbc857536a28d4119ad9639a84270ccb0545d0/expr.ipynb\"><img src=\"data:image/png;base64,iVBORw0KGgoAAAANSUhEUgAAAAwAAAAMBAMAAACkW0HUAAAALVBMVEX///+qqqpmZmZUVFQQEBC6\n",
       "urpERETc3NyYmJjMzMwiIiIyMjKIiIju7u4AAACYsrA9AAAAAXRSTlMAQObYZgAAADxJREFUCNdj\n",
       "YOA9vWrVBgaG2b0MQMCeCyIZ2ArA1DUwyRCyahVIyWQI7xaEYm4AU7xLIdxqTQgtvGvVBgCkcQ7e\n",
       "geM/tQAAAABJRU5ErkJggg==\n",
       "\" style=\"display:inline;vertical-align:middle;\" /></a></td></tr>\n",
       "<tr><td>2</td><td>ExprTuple</td><td>3, 4</td><td><a class=\"ProveItLink\" href=\"../3fc59885ce121737f725b56b7b2412397f9db4780/expr.ipynb\"><img src=\"data:image/png;base64,iVBORw0KGgoAAAANSUhEUgAAAFUAAAAVBAMAAADFg78FAAAAMFBMVEX////c3NwiIiJERESqqqqY\n",
       "mJh2dnZmZmYQEBDu7u4yMjJUVFTMzMyIiIi6uroAAAAs73DqAAAAAXRSTlMAQObYZgAAAVFJREFU\n",
       "KM+V0zFLw0AUB/B/bK7tmVjq7JfI0kVQ8wEEnRxFJydBHBQcpIM4ONgbpUuDIJKAUBwctGhAcOkS\n",
       "cLVYHDtIqQi6FN8lDSQ2hzXDXd7dL5fHvTvgP08pmIity6adPZcTUV//mBfYHdgFnwI3k/KlkUXF\n",
       "tIA+4AAz6RR4OeruHmJ77XeAKrAGFEXK6vGnr/H4vWv40p4BPfxhW23uSpuzsUc78TzbuVFbPXiU\n",
       "Nr+DC2qNKzR8pcUhC8jqDk6B9ykLja7aGqJFtlTFEBAEV4Ta8madrNmXVsJbOVzwvPMTz2v+sngy\n",
       "I3tE4QHwydXrgtlWmEOFwmOw73yGFSOLTbLMwRagDZG3lsctH8iXRZmcE+7ZW7i6tmCn7X7tcpXX\n",
       "qOC9L1qTk53uoljOrlt4XJNzVGO2oT7NLDmzrTyTY1amgTm1Tf7DkPlok92hF+AH0rZvcBvnBdcA\n",
       "AAAASUVORK5CYII=\n",
       "\" style=\"display:inline;vertical-align:middle;\" /></a></td></tr>\n",
       "<tr><td>3</td><td>Operation</td><td>operator:&nbsp;5<br>operands:&nbsp;6<br></td><td><a class=\"ProveItLink\" href=\"../b946c43e057b554aa1f97d0883c5f68ff71f80e80/expr.ipynb\"><img src=\"data:image/png;base64,iVBORw0KGgoAAAANSUhEUgAAAC4AAAAQBAMAAACb51DZAAAAMFBMVEX///8QEBCYmJhmZmaqqqoi\n",
       "IiLMzMzu7u4yMjJ2dnZUVFTc3NxERESIiIi6uroAAABbPXqjAAAAAXRSTlMAQObYZgAAAHdJREFU\n",
       "GNNjYMAGjmMVZaj5jsqvhlBVq9DEfaE0Lx5xvju7767EIs7J1ctQn4Ap/o71AEP9A0zxAqCgfwEW\n",
       "e4GCK0Aci46OwI6OLri4BQPDJ3Ys6iUZmL5zYopz/2PgPOCGxf0CDNxnHVDEmQ1/GGH1Lzp4i2AC\n",
       "AAL3KRFAMapqAAAAAElFTkSuQmCC\n",
       "\" style=\"display:inline;vertical-align:middle;\" /></a></td></tr>\n",
       "<tr><td>4</td><td>Literal</td><td></td><td><a class=\"ProveItLink\" href=\"../e5d9bd86b06b357eee742ad868997123619e09700/expr.ipynb\"><img src=\"data:image/png;base64,iVBORw0KGgoAAAANSUhEUgAAAA8AAAAOBAMAAAACpFvcAAAAMFBMVEX////c3Nx2dna6uroQEBCI\n",
       "iIhUVFTMzMyYmJiqqqoiIiJmZmZEREQyMjLu7u4AAADjlg78AAAAAXRSTlMAQObYZgAAAGBJREFU\n",
       "CNdjePvn7AOGXb8mMDCcYD/AwPCBgYEhqyCUgcEByEi+x1YAZqSX8d2DMDgDaiAMhs0cARAG24N0\n",
       "CIMv4S2EwVDEDmVwTDgAYTAoghiHgZj7AgOD7Rcgj+8CAwA9oh2B0HK+MAAAAABJRU5ErkJggg==\n",
       "\" style=\"display:inline;vertical-align:middle;\" /></a></td></tr>\n",
       "<tr><td>5</td><td>Literal</td><td></td><td><a class=\"ProveItLink\" href=\"../../../../addition/__pv_it/3e6688136fa3c7aefbebe51301b7c3ebf0b69c440/expr.ipynb\"><img src=\"data:image/png;base64,iVBORw0KGgoAAAANSUhEUgAAAA4AAAAOBAMAAADtZjDiAAAAJFBMVEX///+6urpUVFQQEBAiIiIy\n",
       "MjJmZmaIiIiqqqrc3Nzu7u4AAACgHpL+AAAAAXRSTlMAQObYZgAAAB5JREFUCNdjYGBgWMkAAe2k\n",
       "0Kmhoc6hoUGk6BMHYgAHOwjcado9fwAAAABJRU5ErkJggg==\n",
       "\" style=\"display:inline;vertical-align:middle;\" /></a></td></tr>\n",
       "<tr><td>6</td><td>ExprTuple</td><td>7, 8</td><td><a class=\"ProveItLink\" href=\"../713289cfc951db6eb87a9a7ba22620683870a2810/expr.ipynb\"><img src=\"data:image/png;base64,iVBORw0KGgoAAAANSUhEUgAAACsAAAAVBAMAAAAtAwouAAAAMFBMVEX////c3NwiIiJERESqqqqY\n",
       "mJh2dnZmZmYQEBDu7u4yMjJUVFTMzMyIiIi6uroAAAAs73DqAAAAAXRSTlMAQObYZgAAAOFJREFU\n",
       "GNNjYMAB+C6gi8SBiNOoYpYMDOwHgPRKFNHJP4HEAgYGXhQzZu8GCYcxMHBMQFHNCxKewcDwigFT\n",
       "mNmBoQzolsuCd7chC7MVMCwFktxrGeYfQBJmWcDQx8DwjsmAYf4DJGG+BoZ/DAwTgGL+E5CEeT6A\n",
       "hEFiuxhQhVuAVBUDw1dOVENMgVQbA+tPNoYJcGHWBQzpDAyM/xjYDHw4PyE78BFYD6OtA2e/ADCU\n",
       "Kn6VMjBwPWDgEICHMJwF9DxrAozDCg+BXOSAhQtzAgOWQRrGg4cwN8g0RoxIu8PAAABTtzz5enAE\n",
       "fwAAAABJRU5ErkJggg==\n",
       "\" style=\"display:inline;vertical-align:middle;\" /></a></td></tr>\n",
       "<tr><td>7</td><td>Variable</td><td></td><td><a class=\"ProveItLink\" href=\"../../../../../__pv_it/39dbcd3ca0390345b51c6ef7785756419e2c14390/expr.ipynb\"><img src=\"data:image/png;base64,iVBORw0KGgoAAAANSUhEUgAAAAwAAAAJBAMAAAD0ltBnAAAAMFBMVEX///8QEBCYmJhmZmaqqqoi\n",
       "IiLMzMzu7u4yMjJ2dnZUVFTc3NxERESIiIi6uroAAABbPXqjAAAAAXRSTlMAQObYZgAAAERJREFU\n",
       "CNdj4Luz++5KBgZOrl6G+gSGd6wHGOofMBQAsX8BAwivYGBgsGBg+MTOwCDJwPSdk4H7HwPnATcG\n",
       "PgEG7rMOAGtQEUwHZIDZAAAAAElFTkSuQmCC\n",
       "\" style=\"display:inline;vertical-align:middle;\" /></a></td></tr>\n",
       "<tr><td>8</td><td>Literal</td><td></td><td><a class=\"ProveItLink\" href=\"../../../../numeral/__pv_it/9be8badea4c35b9724062cecc501d17a3158d1d20/expr.ipynb\"><img src=\"data:image/png;base64,iVBORw0KGgoAAAANSUhEUgAAAAgAAAAPBAMAAAArJJMAAAAAHlBMVEX///+YmJgyMjIQEBBmZmaI\n",
       "iIhUVFTu7u5EREQAAAAw+MI4AAAAAXRSTlMAQObYZgAAACFJREFUCNdjYGBoZ2BgqJjOwFCWBiQY\n",
       "WEklWJwnOTKAAACjEQo8HvEr3AAAAABJRU5ErkJggg==\n",
       "\" style=\"display:inline;vertical-align:middle;\" /></a></td></tr>\n",
       "</table>\n"
      ],
      "text/plain": [
       "0. (n + 1) in Naturals\n",
       "   core type: Operation\n",
       "   operator: 1\n",
       "   operands: 2\n",
       "1. in\n",
       "   core type: Literal\n",
       "   sub-expressions: \n",
       "2. (n + 1 , Naturals)\n",
       "   core type: ExprTuple\n",
       "   sub-expressions: 3, 4\n",
       "3. n + 1\n",
       "   core type: Operation\n",
       "   operator: 5\n",
       "   operands: 6\n",
       "4. Naturals\n",
       "   core type: Literal\n",
       "   sub-expressions: \n",
       "5. +\n",
       "   core type: Literal\n",
       "   sub-expressions: \n",
       "6. (n , 1)\n",
       "   core type: ExprTuple\n",
       "   sub-expressions: 7, 8\n",
       "7. n\n",
       "   core type: Variable\n",
       "   sub-expressions: \n",
       "8. 1\n",
       "   core type: Literal\n",
       "   sub-expressions: "
      ]
     },
     "execution_count": 4,
     "metadata": {},
     "output_type": "execute_result"
    }
   ],
   "source": [
    "# display the expression information\n",
    "expr.exprInfo()"
   ]
  },
  {
   "cell_type": "code",
   "execution_count": null,
   "metadata": {},
   "outputs": [],
   "source": []
  }
 ],
 "metadata": {
  "kernelspec": {
   "display_name": "Python 3",
   "language": "python",
   "name": "python3"
  }
 },
 "nbformat": 4,
 "nbformat_minor": 0
}
