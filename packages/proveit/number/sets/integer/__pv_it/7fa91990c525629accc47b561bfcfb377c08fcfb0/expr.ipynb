{
 "cells": [
  {
   "cell_type": "markdown",
   "metadata": {},
   "source": [
    "Expression of type <a class=\"ProveItLink\" href=\"../../../../../../../doc/html/api/proveit.logic.Forall.html\">Forall</a>\n",
    "=======================\n",
    "# from context <a class=\"ProveItLink\" href=\"../../_context_.ipynb\">proveit.number.sets.integer</a>"
   ]
  },
  {
   "cell_type": "code",
   "execution_count": 1,
   "metadata": {},
   "outputs": [],
   "source": [
    "# import Expression classes needed to build the expression\n",
    "from proveit._common_ import n\n",
    "from proveit.logic import Forall\n",
    "from proveit.number import NaturalsPos\n",
    "from proveit.number._common_ import Pn"
   ]
  },
  {
   "cell_type": "code",
   "execution_count": 2,
   "metadata": {},
   "outputs": [
    {
     "data": {
      "text/html": [
       "<strong id=\"expr\">expr:</strong> <a class=\"ProveItLink\" href=\"expr.ipynb\"><img src=\"data:image/png;base64,iVBORw0KGgoAAAANSUhEUgAAAG0AAAAVBAMAAAC+p33JAAAAMFBMVEX///8QEBC6urrMzMxUVFRm\n",
       "ZmZERETc3NwyMjKqqqp2dnaIiIiYmJgiIiLu7u4AAAAU9Wx4AAAAAXRSTlMAQObYZgAAAfRJREFU\n",
       "OMudUz1IG1Ec/91dYpJLchEcupUrumUwg5MiEQ0oSDGIdrClqEMydDCTDlF7SztKoTh7gx+0XVLq\n",
       "oDh4GNohLSSDOHQ6Fxc/EA2hdGj7f/fxctrjoH3weL/3f//f//sB/7nMf9BNO+cR7QYDXwOU4xPN\n",
       "3ONRhqQhRxTOAO8YWAvyktKAuRKBKI+NJIt0RGaDeFkd2KCNAy6q2UbCb4J4hypQzxN4yEWnQGJn\n",
       "aWklsBoLtCfIsqhxUQddW4XCdx9tnaMfgNJi1SBRuljepUMm9yNA0YeXd4H0Exhkt6hB1sYqyi0Q\n",
       "I9c9ULQgXrz5fmuHAUGFqJ5AuaGQO4Ek4oZHX3o1iY/PPbyOX24/VChEitFduiZ7RpL35Xz6Gb7I\n",
       "pmxO5Y5zTpFTjTaPkUKazVO0Ph7S/OoVvlXysunxl3WRQIbCGlKGacWJ4jB142l6E/jMnqtvy3d4\n",
       "rH12wJSOoKNu6kiwiqxTIBe9RjIDqz5V+aLfy1tws2DFf6liO5axIIQKsLqHVEmyelaFvtnmKU9+\n",
       "jzs8kew/osHcp5awGBLM4DiJpJNC4QXxli9JUvq7NQ+8c+asLkyLypDtTxzw/5Q1jj64IHKNrm6M\n",
       "2jzU/Hn8H7UHRZzFjIEzClt8rSLkP+AR99+G7iexTfkFrLJzfgL+AHuIgDCh8REZAAAAAElFTkSu\n",
       "QmCC\n",
       "\" style=\"display:inline;vertical-align:middle;\" /></a><br>"
      ],
      "text/plain": [
       "expr: forall_{n in NaturalsPos} P(n)"
      ]
     },
     "execution_count": 2,
     "metadata": {},
     "output_type": "execute_result"
    }
   ],
   "source": [
    "# build up the expression from sub-expressions\n",
    "expr = Forall([n], Pn, domain = NaturalsPos, conditions = [])"
   ]
  },
  {
   "cell_type": "code",
   "execution_count": 3,
   "metadata": {},
   "outputs": [
    {
     "name": "stdout",
     "output_type": "stream",
     "text": [
      "Passed sanity check: built 'expr' is the same as the stored Expression.\n"
     ]
    }
   ],
   "source": [
    "# check that the built expression is the same as the stored expression\n",
    "%check_expr"
   ]
  },
  {
   "cell_type": "code",
   "execution_count": 4,
   "metadata": {},
   "outputs": [
    {
     "data": {
      "text/html": [
       "<table><tr><th>&nbsp;</th><th>core type</th><th>sub-expressions</th><th>expression</th></tr>\n",
       "<tr><td>0</td><td>Operation</td><td>operator:&nbsp;1<br>operand:&nbsp;2<br></td><td><a class=\"ProveItLink\" href=\"expr.ipynb\"><img src=\"data:image/png;base64,iVBORw0KGgoAAAANSUhEUgAAAG0AAAAVBAMAAAC+p33JAAAAMFBMVEX///8QEBC6urrMzMxUVFRm\n",
       "ZmZERETc3NwyMjKqqqp2dnaIiIiYmJgiIiLu7u4AAAAU9Wx4AAAAAXRSTlMAQObYZgAAAfRJREFU\n",
       "OMudUz1IG1Ec/91dYpJLchEcupUrumUwg5MiEQ0oSDGIdrClqEMydDCTDlF7SztKoTh7gx+0XVLq\n",
       "oDh4GNohLSSDOHQ6Fxc/EA2hdGj7f/fxctrjoH3weL/3f//f//sB/7nMf9BNO+cR7QYDXwOU4xPN\n",
       "3ONRhqQhRxTOAO8YWAvyktKAuRKBKI+NJIt0RGaDeFkd2KCNAy6q2UbCb4J4hypQzxN4yEWnQGJn\n",
       "aWklsBoLtCfIsqhxUQddW4XCdx9tnaMfgNJi1SBRuljepUMm9yNA0YeXd4H0Exhkt6hB1sYqyi0Q\n",
       "I9c9ULQgXrz5fmuHAUGFqJ5AuaGQO4Ek4oZHX3o1iY/PPbyOX24/VChEitFduiZ7RpL35Xz6Gb7I\n",
       "pmxO5Y5zTpFTjTaPkUKazVO0Ph7S/OoVvlXysunxl3WRQIbCGlKGacWJ4jB142l6E/jMnqtvy3d4\n",
       "rH12wJSOoKNu6kiwiqxTIBe9RjIDqz5V+aLfy1tws2DFf6liO5axIIQKsLqHVEmyelaFvtnmKU9+\n",
       "jzs8kew/osHcp5awGBLM4DiJpJNC4QXxli9JUvq7NQ+8c+asLkyLypDtTxzw/5Q1jj64IHKNrm6M\n",
       "2jzU/Hn8H7UHRZzFjIEzClt8rSLkP+AR99+G7iexTfkFrLJzfgL+AHuIgDCh8REZAAAAAElFTkSu\n",
       "QmCC\n",
       "\" style=\"display:inline;vertical-align:middle;\" /></a></td></tr>\n",
       "<tr><td>1</td><td>Literal</td><td></td><td><a class=\"ProveItLink\" href=\"../../../../../logic/boolean/quantification/universal/__pv_it/265f8c02ac1094d56e0e6410a1c1fd3500dc9f540/expr.ipynb\"><img src=\"data:image/png;base64,iVBORw0KGgoAAAANSUhEUgAAAAwAAAAQBAMAAADQT4M0AAAAMFBMVEX///8QEBC6urrMzMxUVFRm\n",
       "ZmZERETc3NwyMjKqqqp2dnaIiIiYmJgiIiLu7u4AAAAU9Wx4AAAAAXRSTlMAQObYZgAAAFhJREFU\n",
       "CNdjeMAABhdAxGmGlSCqj6EMSLInMHAAJVknMPAsLy+vBYp8S0u7BaScGRjSgZQKA18DkOJl4D4A\n",
       "pLgP8IJM4mswARuX7gSmpoKNZWDcAKZ4gCoAgTQTILaSE58AAAAASUVORK5CYII=\n",
       "\" style=\"display:inline;vertical-align:middle;\" /></a></td></tr>\n",
       "<tr><td>2</td><td>Lambda</td><td>parameter:&nbsp;9<br>body:&nbsp;3<br>conditions:&nbsp;4<br></td><td><a class=\"ProveItLink\" href=\"../41be4e0ecedb240e45673e803f23aa70f075f5b60/expr.ipynb\"><img src=\"data:image/png;base64,iVBORw0KGgoAAAANSUhEUgAAALUAAAAYCAMAAACLD0yrAAAANlBMVEX///8UFBQNDQ0QEBCYmJhm\n",
       "ZmaqqqoiIiLMzMzu7u4yMjJ2dnZUVFTc3NxERESIiIi6uroAAAAna2R4AAAAAXRSTlMAQObYZgAA\n",
       "AgpJREFUWMPtl4tuwjAMRb3l/Xb+/2eXtoGSxKlgFA2kWQIEtNcH58YxAJ8VEj4x4j/1XYsb3o0a\n",
       "U/ue43iNwz+kTj5nX0L5vXba91cJ/TS1sTlGaxYxlZV8ttbZbgLsir1qt2FPqHXkoDfMXB7elmDL\n",
       "U/oFtM5u82l9LeUnZLh7ntorXbXZ075OeUvPs6ifMEOsL3uY2iSrSuyr5LEsotenUMdcNXP1Glry\n",
       "Mvkgtba8+/Velw1jFvsN1JhiCCl5N/OklKStTb4oCEcJOTGnJnJCiMOKlTLLtFp7oHbF5mmB2He9\n",
       "6m42hK21ulJZTglJO6cmckIc2/liDoHA005dmxUiqLiWDmfUxofG1t45J9z+GUNKCNmUmsppCMeu\n",
       "lvaLtXstU++Vea/o95dqgt2oF1v3K7l92wvpPKWmciK7ZLMttVmszcaTdr3X3yyo6n/z7T7KCkjq\n",
       "XuiAmso5HlSVGrQDPVKL9d7MwUyoRWhs3e8yYJISOnAIldOoGTVwSTQ85tbma8DR1DpR3bo9wggh\n",
       "frAbiZzg+YwaXBiow4rhIsjrhk6d89tuPTSo2uM6oaPOR+QsxR7Lgc3SNOMa27pluuNvghGxjE79\n",
       "+Y2KErJ40K+pnMG2IxfazOJlkHrB5MzCKSc6SG+bHvLaGCelwpheMl+fGeOkas6YVF8cYWi2Prw/\n",
       "NYTOD0kTE+551D9wMhibEzg9cgAAAABJRU5ErkJggg==\n",
       "\" style=\"display:inline;vertical-align:middle;\" /></a></td></tr>\n",
       "<tr><td>3</td><td>Operation</td><td>operator:&nbsp;5<br>operand:&nbsp;9<br></td><td><a class=\"ProveItLink\" href=\"../../../../__pv_it/20f66fb84c2270f9538a0cccaaaccf2060edd0940/expr.ipynb\"><img src=\"data:image/png;base64,iVBORw0KGgoAAAANSUhEUgAAAC0AAAAVBAMAAAAgHXppAAAAMFBMVEX////u7u5mZmaYmJi6urqq\n",
       "qqp2dnbMzMwQEBBEREQyMjLc3NwiIiJUVFSIiIgAAAAeC3ydAAAAAXRSTlMAQObYZgAAARJJREFU\n",
       "GNNjYCAC+EFpEzD59v/du2c3ABnsF6DiTAVg6hcDA2c3kOYSgGlcACLYvzEwsAIxwzu4gWYggu8L\n",
       "AwPzJyCjES4uASI4PzAw8H5lYGBZABfnDAAS/EC+/ASgbQlAF83e9xZIsSkAxesTGNgPgaw1YGBI\n",
       "uPWA8TvQOpDW99fS1EDO5HBgYHE4ycAItI6lAcifD3UevwMDI1CQ9SPQiUArGf4wwMVBgrwLIOLs\n",
       "n6DiHEBHMC1g4DcQAJsDcj7EcUB7ORIY7AUSGJiBejg/QsVBjtvvwJDJWgBiCs3/+wAiznKAgcGD\n",
       "gWHnU6CTHZCDuRs1HFBDCwzyUMTh4cy4AEWcGxYvvBtQ43EflH7OwAAAnLU9gtMrIbUAAAAASUVO\n",
       "RK5CYII=\n",
       "\" style=\"display:inline;vertical-align:middle;\" /></a></td></tr>\n",
       "<tr><td>4</td><td>ExprTuple</td><td>6</td><td><a class=\"ProveItLink\" href=\"../81d747e598eb5a1be95fcb01ec6b61d2f221daeb0/expr.ipynb\"><img src=\"data:image/png;base64,iVBORw0KGgoAAAANSUhEUgAAAFAAAAAbBAMAAAAZoBUxAAAAMFBMVEX///+qqqp2dnYiIiJERESI\n",
       "iIhmZmYQEBDc3NyYmJgyMjLu7u5UVFTMzMy6uroAAACGxKilAAAAAXRSTlMAQObYZgAAAYZJREFU\n",
       "OMuNkr9Lw1AQx79NtSYmqf0DFDs6CgFxUeLg4A8koEUQB8FNUYp/QQcHcarg5hIQLbQOAZ26pKiL\n",
       "hUgQJynoJjj4AwWVUvG9Z5uXQDA5ePfu3n1y795dgAhJcPP5X7CLqixVai0abFBVtaLBboOoK0SD\n",
       "GAXEfFi4+jFtYfU90wGXgdRKaKIpVQdeUS+XymVyr22h5yEUvHBzQN67OlnEfSAuL2maSY3riuL6\n",
       "wJSOxQB4d9A2nIZc8YESqQJIL+zkzpkvznS+cBLGrQ9MNzELCMoRbJf1ouCB2JQMCirMVVs4JjNM\n",
       "6rDZm87AQcVyeOfEH4wAFqEG2XweNa39GAdyrcpB+Y2ClKrDm2k7I27UQMYTsq0B3zL1T/2glNE5\n",
       "2MIl2bYgNQXqK0UfiCEOpr8wz/IK+gArZbwTmaNdNj2Q9PGF4HmIkxl2sLvxF3j6JNlkDgom+tzA\n",
       "aPoPNTNk9L0GlCxiiF2AOhwH3CdrIg44RuuPwUn0707EKHKb6b1ocB3x5RcROmByhIcETAAAAABJ\n",
       "RU5ErkJggg==\n",
       "\" style=\"display:inline;vertical-align:middle;\" /></a></td></tr>\n",
       "<tr><td>5</td><td>Variable</td><td></td><td><a class=\"ProveItLink\" href=\"../../../../../__pv_it/6369c6c8083c513ca7161ace249642d040f9327d0/expr.ipynb\"><img src=\"data:image/png;base64,iVBORw0KGgoAAAANSUhEUgAAABAAAAAOBAMAAADUAYG5AAAAMFBMVEX////u7u5mZmaYmJi6urqq\n",
       "qqp2dnbMzMwQEBBEREQyMjLc3NwiIiJUVFSIiIgAAAAeC3ydAAAAAXRSTlMAQObYZgAAAGBJREFU\n",
       "CNdjYGB4+//u3bMbGIDgFwMDZzeQZv/GwMAKxAx8XxgYmD8BGZwfGBh4vwIZ/AsYGOQnABn1CQzs\n",
       "h0Ca3l9LUwPrni/AAAF/oDT7JygDZAwYcH6E0ELz/z4A0QBnpRnRyxnfJQAAAABJRU5ErkJggg==\n",
       "\" style=\"display:inline;vertical-align:middle;\" /></a></td></tr>\n",
       "<tr><td>6</td><td>Operation</td><td>operator:&nbsp;7<br>operands:&nbsp;8<br></td><td><a class=\"ProveItLink\" href=\"../ca168172ae8fdbc0b3309171207549f95d3e04720/expr.ipynb\"><img src=\"data:image/png;base64,iVBORw0KGgoAAAANSUhEUgAAAEEAAAAUBAMAAAAgmk0yAAAAMFBMVEX///8QEBCYmJhmZmaqqqoi\n",
       "IiLMzMzu7u4yMjJ2dnZUVFTc3NxERESIiIi6uroAAABbPXqjAAAAAXRSTlMAQObYZgAAAO9JREFU\n",
       "KM9jYMAHWBgIAZ4BVVHx50QBg+lXBzxmHGI7wMDwgWFFR2NHxwWsKpYm3GVgEMBiC/uN0NAGEGNd\n",
       "O1cCVhUZ6lDGsiz2doQKvju7764Ei3MfhyldxnIhB6GCk6uXoT4B7LUNcBUMdkwXQCq4QLx3rAcY\n",
       "6h+AWDUMCBVcBcsEYLwCoLR/AYj1MDQU6tJlDOwLKuAqQNIrwIwsJDMYMtkQKiwYGD6xgxilyCqY\n",
       "HA7AuZIMTN85QQwuBSQVDLPhKrj/MXAecAMHWBxM7BwQMzfAeHwCDNxnHcDMHWYQoRcfgfrZG7DF\n",
       "h1drKKY4AGqVPTHpMHFDAAAAAElFTkSuQmCC\n",
       "\" style=\"display:inline;vertical-align:middle;\" /></a></td></tr>\n",
       "<tr><td>7</td><td>Literal</td><td></td><td><a class=\"ProveItLink\" href=\"../../../../../logic/set_theory/membership/__pv_it/088cbc857536a28d4119ad9639a84270ccb0545d0/expr.ipynb\"><img src=\"data:image/png;base64,iVBORw0KGgoAAAANSUhEUgAAAAwAAAAMBAMAAACkW0HUAAAALVBMVEX///+qqqpmZmZUVFQQEBC6\n",
       "urpERETc3NyYmJjMzMwiIiIyMjKIiIju7u4AAACYsrA9AAAAAXRSTlMAQObYZgAAADxJREFUCNdj\n",
       "YOA9vWrVBgaG2b0MQMCeCyIZ2ArA1DUwyRCyahVIyWQI7xaEYm4AU7xLIdxqTQgtvGvVBgCkcQ7e\n",
       "geM/tQAAAABJRU5ErkJggg==\n",
       "\" style=\"display:inline;vertical-align:middle;\" /></a></td></tr>\n",
       "<tr><td>8</td><td>ExprTuple</td><td>9, 10</td><td><a class=\"ProveItLink\" href=\"../d845077e116d4a126343c8eabd70d8cb8fc5613f0/expr.ipynb\"><img src=\"data:image/png;base64,iVBORw0KGgoAAAANSUhEUgAAAEAAAAAbBAMAAAA+DpTZAAAAMFBMVEX///+qqqp2dnYiIiJERESI\n",
       "iIhmZmYQEBDc3NyYmJgyMjLu7u5UVFTMzMy6uroAAACGxKilAAAAAXRSTlMAQObYZgAAAVxJREFU\n",
       "KM+F0j1Lw0AYB/B/Uq2Jl9R8ATGjo5O4CHFwUEQCWlwcBDcFCX4BMziIk4IfoIsKqcPNWVKqi4VK\n",
       "EMeCnR18oYJKqXgXmjfM6cE9l7v73XPJ5QBBkdLH50IwwoPJg94Qgw4PPhWDUZuFW4gB5gDFyQ77\n",
       "78sU2z0jBptAeSu3cEm3gFe0vEvPY/kDirFuDlyHVcBJtiid4DG/9V1dCzOgbGEjD9odUs8Ale0G\n",
       "VNaPqs0YSPZDBlT6WAFk7RxBOATYU20OtKirD3DBzrpkIejGQKPt9MuVb8wClM1O0RiQhp8C8sYB\n",
       "n23F7wDc67kMV6zZAb5IAlTDSsEAN6zZh9qXQYcA0ymofGItyiNbk6THR1b56dQSwM7hhTEHyqJB\n",
       "Dlzg6YOtJimQa5gIk3Tu758+bkMzk3QFtyJwoc/8Bc5YXYg7dgGYZ/UY4qLy2ySZYnAYxVMx2MX/\n",
       "5QcYXFhfcnNwuwAAAABJRU5ErkJggg==\n",
       "\" style=\"display:inline;vertical-align:middle;\" /></a></td></tr>\n",
       "<tr><td>9</td><td>Variable</td><td></td><td><a class=\"ProveItLink\" href=\"../../../../../__pv_it/39dbcd3ca0390345b51c6ef7785756419e2c14390/expr.ipynb\"><img src=\"data:image/png;base64,iVBORw0KGgoAAAANSUhEUgAAAAwAAAAJBAMAAAD0ltBnAAAAMFBMVEX///8QEBCYmJhmZmaqqqoi\n",
       "IiLMzMzu7u4yMjJ2dnZUVFTc3NxERESIiIi6uroAAABbPXqjAAAAAXRSTlMAQObYZgAAAERJREFU\n",
       "CNdj4Luz++5KBgZOrl6G+gSGd6wHGOofMBQAsX8BAwivYGBgsGBg+MTOwCDJwPSdk4H7HwPnATcG\n",
       "PgEG7rMOAGtQEUwHZIDZAAAAAElFTkSuQmCC\n",
       "\" style=\"display:inline;vertical-align:middle;\" /></a></td></tr>\n",
       "<tr><td>10</td><td>Literal</td><td></td><td><a class=\"ProveItLink\" href=\"../42d4bc2e45d5054d807f2641a228c1b440fb8de30/expr.ipynb\"><img src=\"data:image/png;base64,iVBORw0KGgoAAAANSUhEUgAAABsAAAATBAMAAACTqWsLAAAAMFBMVEX////c3Nx2dna6uroQEBCI\n",
       "iIhUVFTMzMyYmJiqqqoiIiJmZmZEREQyMjLu7u4AAADjlg78AAAAAXRSTlMAQObYZgAAAHZJREFU\n",
       "GNNjYIADTgYUwEMy9+2fsw8Ydv2aAJM9wX6AgeEDQ+7dK3fvBjAwZBWEMjA4wPUm32MrQOKml/Hd\n",
       "Q+ZyBtQgcxk2cwSAuGxQLtuDdAe47ekMfAlvkbkMRewoXI4JB5C5DIoI7mEg5r4A49l+AcrwwbgA\n",
       "axoiJO4Xc9gAAAAASUVORK5CYII=\n",
       "\" style=\"display:inline;vertical-align:middle;\" /></a></td></tr>\n",
       "</table>\n"
      ],
      "text/plain": [
       "0. forall_{n in NaturalsPos} P(n)\n",
       "   core type: Operation\n",
       "   operator: 1\n",
       "   operand: 2\n",
       "1. forall\n",
       "   core type: Literal\n",
       "   sub-expressions: \n",
       "2. n -> P(n) | n in NaturalsPos\n",
       "   core type: Lambda\n",
       "   parameter: 9\n",
       "   body: 3\n",
       "   conditions: 4\\n3. P(n)\n",
       "   core type: Operation\n",
       "   operator: 5\n",
       "   operand: 9\n",
       "4. (n in NaturalsPos)\n",
       "   core type: ExprTuple\n",
       "   sub-expressions: 6\n",
       "5. P\n",
       "   core type: Variable\n",
       "   sub-expressions: \n",
       "6. n in NaturalsPos\n",
       "   core type: Operation\n",
       "   operator: 7\n",
       "   operands: 8\n",
       "7. in\n",
       "   core type: Literal\n",
       "   sub-expressions: \n",
       "8. (n , NaturalsPos)\n",
       "   core type: ExprTuple\n",
       "   sub-expressions: 9, 10\n",
       "9. n\n",
       "   core type: Variable\n",
       "   sub-expressions: \n",
       "10. NaturalsPos\n",
       "    core type: Literal\n",
       "    sub-expressions: "
      ]
     },
     "execution_count": 4,
     "metadata": {},
     "output_type": "execute_result"
    }
   ],
   "source": [
    "# display the expression information\n",
    "expr.exprInfo()"
   ]
  },
  {
   "cell_type": "code",
   "execution_count": null,
   "metadata": {},
   "outputs": [],
   "source": []
  }
 ],
 "metadata": {
  "kernelspec": {
   "display_name": "Python 3",
   "language": "python",
   "name": "python3"
  }
 },
 "nbformat": 4,
 "nbformat_minor": 0
}
