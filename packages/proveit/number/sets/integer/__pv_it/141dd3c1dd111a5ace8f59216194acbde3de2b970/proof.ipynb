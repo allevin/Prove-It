{
 "cells": [
  {
   "cell_type": "markdown",
   "metadata": {},
   "source": [
    "Show the Proof\n",
    "========"
   ]
  },
  {
   "cell_type": "code",
   "execution_count": 1,
   "metadata": {},
   "outputs": [
    {
     "data": {
      "text/html": [
       "<table><tr><th>&nbsp;</th><th>step type</th><th>requirements</th><th>statement</th></tr>\n",
       "<tr><td>0</td><td>specialization</td><td>1</td><td><span style=\"font-size:20px;\"> <a class=\"ProveItLink\" href=\"proof.ipynb\" style=\"text-decoration: none\">&#x22A2;&nbsp;</a><a class=\"ProveItLink\" href=\"../bc25964104997098bd3050527191cf942b1fd6670/expr.ipynb\"><img src=\"data:image/png;base64,iVBORw0KGgoAAAANSUhEUgAAAGkAAAAVBAMAAAC3TN2zAAAAMFBMVEX////c3NwiIiJERESqqqqY\n",
       "mJh2dnZmZmYQEBDu7u4yMjJUVFTMzMyIiIi6uroAAAAs73DqAAAAAXRSTlMAQObYZgAAAaVJREFU\n",
       "OMudlDFIAmEUx/+mp553ieHYIkZLS1+BQ0EhRFvQVlvYUhAE0dDQEBLREsTRJEF4BFI3RBLUIEcI\n",
       "QYuL4JohjoIhSWCL9L7Dszs7b+jg4PF79/ve+959d8D/rnDZJbkxLFFygpfteQX7n8lA0c532ve3\n",
       "E0kKNMe1EjIDWoA6wFlT1LaAUecGH4pVIA2s/bHwHgKCihVeXcenjOBZk4rcygxwspYlBQ2rJOfM\n",
       "NfSSqHHLm7RzXisKHNAUK2PVJ4NF+4V1X/mFW/49O2dNeXIOyFFGukPWGNZMv6qOI6FMlk+1c1af\n",
       "7tAkzoGPEYZsjZDILJak6GSF03ZOHVaXgC6gkLLKewgfx+O9XesQ85dkyC07J8sbTnGLKwVj03lL\n",
       "LbzKpmXh3ALDCYWHwJfIO4lZLSHJzA5jg1aCwlMI337OHq0WNskSVDvvdbgNeLrwsxXOLmpmdpHu\n",
       "gGpO/peTtV4B6kYXngXjbXpueqe10aE6Ilmhmo3T6Z09o0eDEevh8BV6szKvjDMXUq5f3+4QrrlJ\n",
       "ojokMe5mSZEhCY/bH+DNGf8AIQp7+QwMlhAAAAAASUVORK5CYII=\n",
       "\" style=\"display:inline;vertical-align:middle;\" /></a></span></td></tr>\n",
       "<tr><td>&nbsp;</td><td colspan=4 style=\"text-align:left\"><span style=\"font-size:20px;\"><a class=\"ProveItLink\" href=\"../../../../../__pv_it/530be409e3083890784cf1d7b28c9e67e90af9360/expr.ipynb\"><img src=\"data:image/png;base64,iVBORw0KGgoAAAANSUhEUgAAAAsAAAAJBAMAAAAWSsseAAAAKlBMVEX///9ERETMzMwQEBAiIiKY\n",
       "mJju7u5mZmaqqqpUVFSIiIh2dnbc3NwAAAA/vyDhAAAAAXRSTlMAQObYZgAAAENJREFUCNdjYDi9\n",
       "8sTyBQxsG1hdmR0YuBm4LnAoMLAxcAowgADzAjB1VoEhgYH1wFoGrgSG3gBhhlMMDImrs3cFMAAA\n",
       "t0YN+iTRa+sAAAAASUVORK5CYII=\n",
       "\" style=\"display:inline;vertical-align:middle;\" /></a> : <a class=\"ProveItLink\" href=\"../../../../../__pv_it/39dbcd3ca0390345b51c6ef7785756419e2c14390/expr.ipynb\"><img src=\"data:image/png;base64,iVBORw0KGgoAAAANSUhEUgAAAAwAAAAJBAMAAAD0ltBnAAAAMFBMVEX///8QEBCYmJhmZmaqqqoi\n",
       "IiLMzMzu7u4yMjJ2dnZUVFTc3NxERESIiIi6uroAAABbPXqjAAAAAXRSTlMAQObYZgAAAERJREFU\n",
       "CNdj4Luz++5KBgZOrl6G+gSGd6wHGOofMBQAsX8BAwivYGBgsGBg+MTOwCDJwPSdk4H7HwPnATcG\n",
       "PgEG7rMOAGtQEUwHZIDZAAAAAElFTkSuQmCC\n",
       "\" style=\"display:inline;vertical-align:middle;\" /></a></span></td></tr><tr><td>1</td><td>theorem</td><td></td><td><span style=\"font-size:20px;\"> <a class=\"ProveItLink\" href=\"../../_proofs_/xInNatsInBool.ipynb\" style=\"text-decoration: none\">&#x22A2;&nbsp;</a><a class=\"ProveItLink\" href=\"../87ac5c849d5490ea46d3bceebd0b1a2f533866a00/expr.ipynb\"><img src=\"data:image/png;base64,iVBORw0KGgoAAAANSUhEUgAAAJoAAAAVBAMAAABMN+opAAAAMFBMVEX///8QEBC6urrMzMxUVFRm\n",
       "ZmZERETc3NwyMjKqqqp2dnaIiIiYmJgiIiLu7u4AAAAU9Wx4AAAAAXRSTlMAQObYZgAAAjRJREFU\n",
       "OMutlD1oFEEYhr/b3fvJ7mY8RAQLIYJFQAIbFNuEBNRCbGxEm7W5IKikkAsq4kWwi3fXKIKC2wR/\n",
       "ArJIFNTCawQlzYEgKjmyhYRDEdQits4338zezF3WEPCF95h9vp33dn4B/quSAWLF5Cz5I9m8jY0V\n",
       "nR6S7hdrVOqQX/sMJ/sKjzYa8x+bgPwxPtf1Yr0fKBVahwF2AJT6C+EBVn8ieJU/FUOt5MXkQTkf\n",
       "OM/xIUUDafCsJHiJT1y+qZVyCbmn77c6n0TaaDKNaaxscky77yTI/Ydzc9f0vqPSqewFme0cnOwm\n",
       "PA3OmVx8W5X4RqXyRe98WvrK8uXnYsBV1ckJ7tkhpi2CwXmavXqR+DTAjJ62QGaRv5oTC55WnSA/\n",
       "soJpd8HgEI6t/YqJ7wdW09N2kl3wfg4FuDHCXhqccMZ5Yx8YHEf6+g7xYfBaetpvMgOHXrf2djpy\n",
       "FQL4yuZ5Y8LkmFawIsG91nCySRpfWNom9qT2bXY0rtJ6XKRBKDir4cZfmloOqLRHGq4H4tixtpYG\n",
       "7wvpSNsDachnpvgsJUdyctOdJ/uzb8ATH31cT3NxJ7wDg6cjRX6b/4klllJokfygdRauCvBDnfIC\n",
       "Nk6lOyTlmPb2heQ0P39UaYy8/urbEq1O8SbNgdXYzX+73DcMjqf+wq6m5D6Oxy7b6mTNknsaOibX\n",
       "Tl0m5X9zmHBrrrqmok3OtSE33oKvvzzzdMsbSam7HX5JOlNHt8OLMTlLXpDJ/wJ62Z8oLdAWHAAA\n",
       "AABJRU5ErkJggg==\n",
       "\" style=\"display:inline;vertical-align:middle;\" /></a></span></td></tr>\n",
       "<tr><td>&nbsp;</td><td colspan=4 style-\"text-align:left\"><a class=\"ProveItLink\" href=\"../../_proofs_/xInNatsInBool.ipynb\">proveit.number.sets.integer.xInNatsInBool</a></td></tr></table>"
      ],
      "text/plain": [
       "<proveit._core_.proof._ShowProof at 0x7f950c6af470>"
      ]
     },
     "execution_count": 1,
     "metadata": {},
     "output_type": "execute_result"
    }
   ],
   "source": [
    "import proveit\n",
    "%show_proof"
   ]
  },
  {
   "cell_type": "code",
   "execution_count": null,
   "metadata": {},
   "outputs": [],
   "source": []
  }
 ],
 "metadata": {
  "kernelspec": {
   "display_name": "Python 3",
   "language": "python",
   "name": "python3"
  }
 },
 "nbformat": 4,
 "nbformat_minor": 0
}
