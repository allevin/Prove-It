{
 "cells": [
  {
   "cell_type": "markdown",
   "metadata": {},
   "source": [
    "Axiom Dependencies\n",
    "=======================\n",
    "\n",
    "## <a class=\"ProveItLink\" href=\"../../_context_.ipynb\">proveit.number.sets.integer</a>.<a class=\"ProveItLink\" href=\"../../_axioms_.ipynb#naturalsDef\">naturalsDef</a> \n"
   ]
  },
  {
   "cell_type": "code",
   "execution_count": 1,
   "metadata": {},
   "outputs": [],
   "source": [
    "from proveit.number.sets.integer._axioms_ import naturalsDef"
   ]
  },
  {
   "cell_type": "code",
   "execution_count": 2,
   "metadata": {},
   "outputs": [
    {
     "data": {
      "text/html": [
       "<h3>Theorems that depend directly on naturalsDef</h3>"
      ],
      "text/plain": [
       "<IPython.core.display.HTML object>"
      ]
     },
     "metadata": {},
     "output_type": "display_data"
    },
    {
     "data": {
      "text/html": [
       "<dl>"
      ],
      "text/plain": [
       "<IPython.core.display.HTML object>"
      ]
     },
     "metadata": {},
     "output_type": "display_data"
    },
    {
     "data": {
      "text/html": [
       "<dt><a class=\"ProveItLink\" href=\"../../_proofs_/inductionLemma.ipynb\">proveit.number.sets.integer.inductionLemma</a></dt><dd><a class=\"ProveItLink\" href=\"../d0264aa0299b621bd4376e4ba0a5a560ddd4864a0/expr.ipynb\"><img src=\"data:image/png;base64,iVBORw0KGgoAAAANSUhEUgAAAfkAAAAVBAMAAAC3aYqaAAAAMFBMVEX///8QEBC6urrMzMxUVFRm\n",
       "ZmZERETc3NwyMjKqqqp2dnaIiIiYmJgiIiLu7u4AAAAU9Wx4AAAAAXRSTlMAQObYZgAABd1JREFU\n",
       "WMPlWF1oHFUUPpndZLOzs5NgHsSK7VQrCkWyoC2lRZOm1RYVXK2rNTGy9mGDtLb7ELJqarv+RAI2\n",
       "slCFiA8JoVV0aV0xKdGkdDEoEkVSKxLErVOxMWjSxIKKPzTe35k7s/cO+uyBk8zcmW++892559wz\n",
       "C/C/NjvgWmz2DsnoesEV9pHv/PQLQTSglajLzbCUJMaAVcXlBhkUHQPP4PPP5LfpVpzQewILtTpu\n",
       "dowlqmK9M7Vg1fqGRwJp4DbmEqtD07YLlCS6BbUJCQwHKJ1JDmTgt/HgKyr1egH9q/e8OHzGPG6Z\n",
       "5/yYI2AeAMjTk4jN1QfRkHH5NfMAZgIlCRLAucAfpMzc6Ci4BweZVqknV3o8gxOunwYY90HCwwCD\n",
       "ANMsiCRXH0QTK1EX7Ecmfvt9SIYxrCTB6qeFyRKDlJgQHQXjWaotqNSTV/KIZ3C1618BNGcJ63il\n",
       "Ql/BYbSitgBcoPduPM/VB9HU2NQFe4MfnEHjZiM9/nmgMusjweovSF75as/TJEAGNt7K5Z4Fpfrp\n",
       "XC4346lQedd/BWghijZ9wS83o/NbUbpSoW0TXH0Qzc3MVerhCZrLR+wqEqy+zp1UrdUNUigCEiAH\n",
       "/5bJfKNW35DJPOlZeLXDjkf+ROrxio3sdy4f/osUIZ0seTMf5+qDaNqZPzP69FhJpv44Oeyxq0mw\n",
       "AD3pPqroBqmdyk3crQRy8DaALrX6cALq0OIOtRen2OIqO07U46mpy7o5vLKCnxYlk6+X2WIfkdBs\n",
       "eGcywUsRcXPY+LZmRqZ+kBx2SUiwAMrVWcH2XdIJUg+/DEsJFZCD16FXJC6Tvgfgvccc9WgtzaOj\n",
       "G0FbZklqOe6onxPwB7f+ggLWSKrGIZLn6n00oCWhmR1eRV2H2HI0IVO/liyktIQEC9AahccOWjzI\n",
       "6+NpWLJUQA6OQ6zslIfUo/CJbuu2ox5t1JOA/wJ7RoPluLPy1+Jpd7S9ix4XWmb7+zauXqAxx1Jl\n",
       "dA517PwydRPCaXnet5Dpug6RzPpIcIShZXGLfM5iQdpI+pCtAnJwrBzneRHbc+gSfF5KiuonAdVt\n",
       "8wpAuUo9qXplT6diIF9y1J/nl0Y8NKduumTDkk1uFtSjV0azfnd//9n+/hd96t0GRiCpUr/pJA8S\n",
       "S9+pBHKwmUcRGh3rjwF8jG+ZOtorqp8n4LMjzvZUcB3teEM45Rcd8ou4tGTZaoyiJKzPMvWEBopt\n",
       "owmD5GZ8ldPAXsMcb0i2euXPSEjclU/zvrLfCRJ2A/xtqoAcDF1tAAvN5XiCdk1T+sJmQX1dN77n\n",
       "4po/eOtZdh11OydIE+GkDq5PD+JZxo/CyqNJpp7Q6PZdNQXaupn3r/Cdah91I3sGYlL1n5LDeyUk\n",
       "OEJDqCevukHCKjCu6CogB8NraG4OjUNDNkS2tikYPiaoj3bSnnUr3weSrscLZhNR8iV/fmcJYmm+\n",
       "420EWjGoekyj4dq+md3bzavVcepD5cehF9Q73qJVTeLb8ViRJUORy6Cnj6qAHEyz7R60vEJfZzJ7\n",
       "kfqDi4J6uBb59yhfeK2ecd1sH6U1+in+IdK6bvs+suVgZJvTc444Sf07wO2ZTKZkWmDyfL2F+tyH\n",
       "PxXLPvWpNX1o6HkqrS9RRYIjrHe/AfnWSwJshMjeggrIwWBgrU2Q0sxW+u61LaJ63Ma9zl4ktqsF\n",
       "d1fcQMWzn5Huk0SlcfWEJtQYgh/wSLQAIV7ha7LUZb0eWVpskUR3uqUbQNbphsQgXZMAOZjO6zI0\n",
       "3QA7qHqYFtVje0hoGaYFV1rR/4VLrUXP6xDGQmvTbo+Ev2J8XzKez3O9pCTBERYllwKDI4iiIE9L\n",
       "Q3sZ5nAFfQk1eOBTvyuVykq+cJVm5uXq5z7oOAnmHqx+Q+rhf/GFS2xeTYIiNP/LF64DZGCPvYny\n",
       "3tvpVluk1XWVhbNy9eyxKO89A93MFbZDTYJ78awiyMDoGDjIYhXZ7ya9givsff8vW+cCeSIl6ooo\n",
       "EkqSWMWq4nKDDIqOgv8BriUJuoAKH4MAAAAASUVORK5CYII=\n",
       "\" style=\"display:inline;vertical-align:middle;\" /></a></dd>"
      ],
      "text/plain": [
       "<IPython.core.display.HTML object>"
      ]
     },
     "metadata": {},
     "output_type": "display_data"
    },
    {
     "data": {
      "text/html": [
       "<dt><a class=\"ProveItLink\" href=\"../../_proofs_/successiveNats.ipynb\">proveit.number.sets.integer.successiveNats</a></dt><dd><a class=\"ProveItLink\" href=\"../693be06eb794fa495f778b07725d082d9ef710cf0/expr.ipynb\"><img src=\"data:image/png;base64,iVBORw0KGgoAAAANSUhEUgAAAK4AAAAVBAMAAAAtL8hrAAAAMFBMVEX///8QEBC6urrMzMxUVFRm\n",
       "ZmZERETc3NwyMjKqqqp2dnaIiIiYmJgiIiLu7u4AAAAU9Wx4AAAAAXRSTlMAQObYZgAAApNJREFU\n",
       "OMu1lU1oE0EUx//Zj8RskkmgoJ5kix6EHNyiiOjBYIUKglRLQbRI8JAiQsmpFaI1Ckou/QAVBC97\n",
       "qBXxEtFDxctiUDQVLQoFheAKpQRspSiIp+LMzmyziTvqxQf/3bdvZn95M/PeBvhP5v5xNCsUbs8k\n",
       "8aQJLDBnXjJBzXGF2QigW+0hMlWYhP7pAwaA+ywwKeFucrlCbHmdXsodwaizF0jTd4BR+hjLS7hP\n",
       "hQIpFfl96TDj1jvma+8TVUToRtheOvq0hLtNqGXxqnASjPtZ/Nhco+Glru10exmXZJC8NzZ2SYJV\n",
       "ylxSbpQntO+Nn+/uXNOlXJwDfhQKHyVc3ebKDpce22Fco5+5sZGNfbDuqHnGvQv0AsOyY3O47CNV\n",
       "8j2MG/cWEy22uLo5z7i3gR0gwaWq107g4RnuR0xPirkI8i2Mq2S80midm4VjWg91uoEUEo4f/zI4\n",
       "hBeGa4jSSpueCIXG18O46hpzuxsN/9wsLJEr1DlIJzgpv0ITZ8e/4nW1v4PLoBp7T69UJrZWKrkO\n",
       "7p5gvqrdw7mkTOPJ09kZ4Dkbq90o+dzINJdeRtpxpfuwGuTiVZTvA4YPASu7nJTF26dmrOx3/fbh\n",
       "ith469oh3CRfvRPkGqzTXlLdop+I8Tmki6r3ag32jOCyMmK6bGI2bknrjLzb6GO6aTjJ6wwRNvUo\n",
       "TV1dLBTOU+7FVcFVFrjoqkaftJ+bfvznEC1C03u4MCDmT22m1ybVVbYYRunCoEJyPF/lgH+QW4RC\n",
       "+s0z0ce4OdFoa0uSEU5sDV3b0ce5qPvc+m/fFqWN+0DSUIY/S8njlINluizlugntH76TXlplyUCz\n",
       "43mW7m/QYjkuiWlFyUDf3/6lSkLh9kgST1j4BcjZtiuI3JifAAAAAElFTkSuQmCC\n",
       "\" style=\"display:inline;vertical-align:middle;\" /></a></dd>"
      ],
      "text/plain": [
       "<IPython.core.display.HTML object>"
      ]
     },
     "metadata": {},
     "output_type": "display_data"
    },
    {
     "data": {
      "text/html": [
       "<dt><a class=\"ProveItLink\" href=\"../../_proofs_/zeroInNats.ipynb\">proveit.number.sets.integer.zeroInNats</a></dt><dd><a class=\"ProveItLink\" href=\"../96963c4a116b4edbad2dd70262237f9296baf3120/expr.ipynb\"><img src=\"data:image/png;base64,iVBORw0KGgoAAAANSUhEUgAAADMAAAAPBAMAAAC7N+rPAAAAMFBMVEX///9EREQQEBCYmJh2dnaq\n",
       "qqrc3NxUVFQyMjK6uroiIiLMzMyIiIhmZmbu7u4AAADSWfX9AAAAAXRSTlMAQObYZgAAANxJREFU\n",
       "GNNjYHh75jYDCnjxUeIBw61fAQwMKxlebUCVE+YWYGD4wMDAs4CBpwFVqmrDGQYGBQYGrgIGzm9g\n",
       "kTddq1aAGZV97BtAUvwXGLi/ggS4mx9AdVVv5+sDSeU7MHD/AQkkwmQYqlkPbIRJfQEJiMHtqma4\n",
       "yXwASYpPAEmK/UE1koGcWqtWQZ1RzcBX8ALqjM8gVxQg6WLYwg1xPCvI8XwLkKWYAwTAXmYBixYj\n",
       "SzG4gaxeyvAIHFCvJsCkJIGYFxRCb32qwQJsvdCgnPEJqIMPJfBYK6AuhAIAynxBe6QeIUQAAAAA\n",
       "SUVORK5CYII=\n",
       "\" style=\"display:inline;vertical-align:middle;\" /></a></dd>"
      ],
      "text/plain": [
       "<IPython.core.display.HTML object>"
      ]
     },
     "metadata": {},
     "output_type": "display_data"
    },
    {
     "data": {
      "text/html": [
       "</dl>"
      ],
      "text/plain": [
       "<IPython.core.display.HTML object>"
      ]
     },
     "metadata": {},
     "output_type": "display_data"
    }
   ],
   "source": [
    "%dependencies naturalsDef"
   ]
  }
 ],
 "metadata": {
  "kernelspec": {
   "display_name": "Python 3",
   "language": "python",
   "name": "python3"
  }
 },
 "nbformat": 4,
 "nbformat_minor": 0
}
