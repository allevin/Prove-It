{
 "cells": [
  {
   "cell_type": "markdown",
   "metadata": {},
   "source": [
    "Show the Proof\n",
    "========"
   ]
  },
  {
   "cell_type": "code",
   "execution_count": 1,
   "metadata": {},
   "outputs": [
    {
     "data": {
      "text/html": [
       "<table><tr><th>&nbsp;</th><th>step type</th><th>requirements</th><th>statement</th></tr>\n",
       "<tr><td>0</td><td>specialization</td><td>1</td><td><span style=\"font-size:20px;\"> <a class=\"ProveItLink\" href=\"proof.ipynb\" style=\"text-decoration: none\">&#x22A2;&nbsp;</a><a class=\"ProveItLink\" href=\"../06171cb96e0c411e69b125b9590ac60f66d8e63a0/expr.ipynb\"><img src=\"data:image/png;base64,iVBORw0KGgoAAAANSUhEUgAAAh0AAAAVCAMAAADVcqyRAAAAM1BMVEX///+/v7/c3NwiIiJERESq\n",
       "qqqYmJh2dnZmZmYQEBDu7u4yMjJUVFTMzMyIiIi6uroAAABHoQ3jAAAAAXRSTlMAQObYZgAABZlJ\n",
       "REFUaN7tmtu6oyAMhR1BQY6+/9MOINAQwMa2l5uLYfZXNX+WCwi0y/LX/tpd8+6j23ZPuMgxbdUz\n",
       "DNz/lioA/fuBVh/AkfTqr9818w/v/k65Nq416S8lnZP25m6lT851fNWSnWwLnX0fUoQI7AVwg50x\n",
       "UP+WqjzZSClVTOzN1QGIxkOCpDV+jQ9KHqNMhKff/Qvlmrj6Yo9OUez2cXxfLE//O9O/muYOsZW/\n",
       "9M00Uj5rewJVuniPevBzQLUqDETjIUFSWsAqd1Ei9Jlc7iDd/RvlQFzn8oyb/r1FMCHYdflx2U6Q\n",
       "3LHy8qL4zYzvRj2FKoJdIJseUGmJgUg8JMixG9bmL2NMcQdBr1Em2R2Tu9UY8hvlQNwjTx1pOvIn\n",
       "SE05zUJ7BTA+2NLY6g51kNxRR5rc5hdmDNRTqMJbPq8hYl1PZTlTGIjCQ4Ictg1bxxV3YL36VIaZ\n",
       "ZHdM1O6msaly1Hggrs/XnmmI2fMlmNU7CmxsWNJUxMmP4RvJHbtYU2M3hZQe9hSqqMH1ubU9lfHt\n",
       "QI9ABB4S5FN3IL0GqQwzye6YqO3NELJXjhwPxJUim0hcT6uprbx7C2HaCKnH0iO7Q0iSO5ZQzobG\n",
       "bibWjIF6ElW87HRggYVUSsOquAC95yFBrsKZdXPSUd3R6DVKZZhJccdEbeEGkL1y9HggbqpKwNOq\n",
       "YnxdBu5YpI+VfnbH9hpEUoNmkDvSalSfaKUQbrd9cdT1JKqkf2j1I0C1iB0tIAmo5RnW/QNGDKkC\n",
       "1c725WBUd0CycfhRJsUdUG0G2il7yF45ejwQ9/Bjd6hBxZZENbH0yO7wB23uSLOfKvOyTFMaWiz9\n",
       "qCdRpQt3c5ylGoBU8cWtGgM1PMPpesSIIUVSN2hpqe6AZJNUBpkUd0zV3rTHkL076PFA3NOPVxZ/\n",
       "FGvq1h0qlh75KfakuSO9JLe/XlhwcntdxkA9iaqGOveO6jrQMBYDQR5YtYWt/z5lxJBRUsOf1B1Q\n",
       "r5tUUCbFHXO1wwvxLWS/stDjgbg141zF7Mv8vOdS2YrFPnVHfBN576AurXaKO0hU5VFq4I4rJrzr\n",
       "AgI84C1yvyqlpowdZByp0ArX6soOtLqO3TFKZZzJW3dYLRSGxMo9iAfiHnlRvnZAW90BKTZzx7Jv\n",
       "ZVSBua5ZCTl2R5jFKx07RH8qXDBQT6FSslRYK6ba8kd6RUCAJ1SW3sXMdrB8Dxk7yLIjVB+tLIya\n",
       "yWBladRmTbk5Ue5BPBCX7ws4DROvR5h95o5FlGOkXRPnjlASGV+ZjvPc+mPYUU+hKqWULPZ7URVX\n",
       "bBIDVZ4w6sLqECXVjW4DRgy3r6nsWBzZHY1efSqTTIqGE7U3M4LslKPHA3HrNil+c6IOC7zdjR7u\n",
       "6xT6bEcb3w+07mpwgdXupV49gUqy63CQdztay2Fx2gBVHl+qfIv2tz0jgtvCfMzDNasj1x2NXn0q\n",
       "k0zud7SrHkNi5ejxQFzP6nARDpZvIWz7JY7X58FfpwhpbHqqO+oCra6ZHS+hBQP3b6nCmAhbEGP4\n",
       "a2RUqjpdgaPvAgQKhmtetSwdgnA3ZURwijuh4r73viqVYRrSV62L9OpSmWRSkMdq443qVDlyPBj3\n",
       "mO/6N6OHu4PqRuJJepqs8vjZtnZU1+VyHfffUAE1PQZ6HRvGEtumvViNMGEkwI3mjrleb1IhnaTb\n",
       "GeRz6fqTdMpXQ9NX7+juqEOJj09m0DdAX2DdUyGgUJ0LfR1dmPUdIw1u/usK4T7KJCNT7/5eORj3\n",
       "8dfY8JT6uTusDG1g7/E3+D+nQkBhedikSxtC9SqrZozfwSn92fV1m0Vs3yrXxF3Nh+4w6wfumLaC\n",
       "gfsfU90BiVx30CF/rtfo+vxtxPpUyU/52rjrZ78cdJQfKznGqL9pKhi4/y3VAyAK5K/16q8PwP7h\n",
       "3d8pB+L+B4u5Sq7k2CcZAAAAAElFTkSuQmCC\n",
       "\" style=\"display:inline;vertical-align:middle;\" /></a></span></td></tr>\n",
       "<tr><td>&nbsp;</td><td colspan=4 style=\"text-align:left\"><span style=\"font-size:20px;\"><a class=\"ProveItLink\" href=\"../../../../../__pv_it/39dbcd3ca0390345b51c6ef7785756419e2c14390/expr.ipynb\"><img src=\"data:image/png;base64,iVBORw0KGgoAAAANSUhEUgAAAAwAAAAJBAMAAAD0ltBnAAAAMFBMVEX///8QEBCYmJhmZmaqqqoi\n",
       "IiLMzMzu7u4yMjJ2dnZUVFTc3NxERESIiIi6uroAAABbPXqjAAAAAXRSTlMAQObYZgAAAERJREFU\n",
       "CNdj4Luz++5KBgZOrl6G+gSGd6wHGOofMBQAsX8BAwivYGBgsGBg+MTOwCDJwPSdk4H7HwPnATcG\n",
       "PgEG7rMOAGtQEUwHZIDZAAAAAElFTkSuQmCC\n",
       "\" style=\"display:inline;vertical-align:middle;\" /></a> : <a class=\"ProveItLink\" href=\"../../../../numeral/__pv_it/ec23fc7a1b4222a5f4948b495002b97d6fa18c3c0/expr.ipynb\"><img src=\"data:image/png;base64,iVBORw0KGgoAAAANSUhEUgAAAAoAAAAOBAMAAADkjZCYAAAALVBMVEX///8QEBCYmJh2dnaqqqrc\n",
       "3NxUVFQyMjK6uroiIiLMzMyIiIhmZmbu7u4AAAAZjyHdAAAAAXRSTlMAQObYZgAAAEpJREFUCNdj\n",
       "YLiz+xQDA8MMhpsLGLgnMHAXMHAmMHA8ZeA7wMD1hCHOgIHrNZh8jES+Bss+AqlkeQrSxTyBgWEK\n",
       "w8UFDAx3rLMYAMCjFldHSx/9AAAAAElFTkSuQmCC\n",
       "\" style=\"display:inline;vertical-align:middle;\" /></a></span></td></tr><tr><td>1</td><td>axiom</td><td></td><td><span style=\"font-size:20px;\"> <a class=\"ProveItLink\" href=\"../../_axioms_.ipynb#naturalsDef\" style=\"text-decoration: none\">&#x22A2;&nbsp;</a><a class=\"ProveItLink\" href=\"../c6511f6651a3b1ea3d7fea8c79711a435b982f6d0/expr.ipynb\"><img src=\"data:image/png;base64,iVBORw0KGgoAAAANSUhEUgAAAlQAAAAVCAMAAAC33YD7AAAAM1BMVEX///+/v78QEBC6urrMzMxU\n",
       "VFRmZmZERETc3NwyMjKqqqp2dnaIiIiYmJgiIiLu7u4AAAB/uxFxAAAAAXRSTlMAQObYZgAABihJ\n",
       "REFUaN7tmtm2rSgMRS3ppfP/v7ZARGmCRvapt+KFe8cRM7MSIOBelv/b/+2vm0c9RUzdf26WIB4y\n",
       "Tv2zTPHMcb1BBR7qf9D2BzqUXv3zVjnycfRsSLMNyLK7nxq/nbK6R+Sq2oVQMSLc7W4LHX0fpAkO\n",
       "p+M5e8+NQdixjHPuo/svDwceJNAfqRabSGmM0QtyRRP86O9wkEXAst7y42o8KfOf1Id5K+xCxfGv\n",
       "PY1FJRUKp+M5+zhXvHvTU9mYf2KHoKRvkwoH9GeqBa48CmOhdyWFFjV6xitIvN6yFFlPMd4GTN2j\n",
       "GgvRTQPWlOIak1QYnI7n7M2xqpgXPVni2BQEpXibVCigadW8rP/LGMtJhdALcuUMLTzaDyGxQYXE\n",
       "AyznVOXb8FWrr3sI1ygXWhFQRsKbGb2Syq+YpMLgdDxn746VnOzyCUvuaSWjBoCiwvmGBwU0q9qy\n",
       "dTE1OakatN4T2JUztLDa/bL0KaQD8QDLVsujuXEpp+oe2pmVbekYDdu1j26ctsWGSap3nI4n9/ux\n",
       "zNB9e8Ii558pBaAYqWbuIRMCaFa1x6Sq0QBPYFfO0MJqEzaAxIV0JB5gOVTUobnxast11RMjpDSG\n",
       "FQOk6BM+LFJBslhWnUmlOSap3nFantzLXaekMk9Yct9NUXVVUF6VhXmW6R0IRSm1YXIz3GCTqkSD\n",
       "PIFdyaGF1dYGhESGdCQeYPnYohYhn4uzu9cLU4HN7/frocHxtZzEM9OZVNs9K7gqGquD+IrT8uT+\n",
       "Sir9hBWiFtr1l62cqtrWu1yS6R0IQ+kDlXV2WR02qUo02DrkSg7tPZq7ou0cgkSGdCQeYPlYE/3D\n",
       "Ir2Ssifh3B9rVr+T+8iywEm1sFhWnUlFVtRKVeNQrrWx9IHn6ruk8nBpLS1b91xLVFAx3lK1SfWq\n",
       "DwjZ0ukjJEFyik2qAm3gCeRKDu1I7U2RDhIb0pF4kOWopbFjzbKp1PvT9nZ5H16TJ4JqksrHsuo0\n",
       "TXdUUlU4hB87+RPP1XfbH4h1WtptD5UuohhteF71ASFbuigWE19qqgLtwZPWlRzaodohHqSBxIZ0\n",
       "JB5kOQrmPDapsm2mni/QUnCoXujHpCpx0l4hUEl1Fer2Aev8m4eSKhmlrE0qWB9vOOd2CNnRxXWh\n",
       "SKFUAbi1qQDgpAIFhl15SyqqtO8hcSEdiQdZDkv7473qutU9P2yHN2c674ZJtdgty10syNU2L5og\n",
       "Fjg+KWyfeXKfrhS260oBwPI8V5yyg9rOvynZJBWojxFEeu+HkB1dPpD7me0PEHjgSr/9VWK7uv7+\n",
       "FNKheKBlIdl5ccUNMZr1d+NVv8Ztxgbnr4qY2WFSLTrfGlqFW6lunJAnqybQXT3Yp8tPfcvRY+XS\n",
       "kmcfC6icTBtveAqgcIIjJnpmi4IXhGzprDxKqsWgk6rUCxB44EpGgdXeGAyJCulQPNDyxlMgvCVx\n",
       "ZWs/dNQnx5CocbQWRc3pHRB6spSzAH2lcOMck2Pd9/bGpeG5Xxy/MfqVLmMs7kxaZvorBSrKer1K\n",
       "qgso7ByhLorTW1UzGIBs6LYgrAhTWBp0TVXqBQg8cOXxSkEqGBIX0qF4sOVzs5f++MaxN6dJ4qo+\n",
       "LW9SmK2kbT5hErWv4r79OVYCgkyqqvZYJGvPMQ3P1YfoasPo8oDFwlmOMXHPwhvqWh3vTxfXApSB\n",
       "SD6E0+bWqods6Lww2scz4nOhzkN+qlSp1Xp1noxcycyg2t09wZeQjsWDLV93p8xAh9FV1j28sCrw\n",
       "qHBPNtxnmhLHpxprf+N54HrBKqCKIJA2qYq75TTjqDtuRIUZQ+JUM2i93gTGfKahQ8iZkD58pqlt\n",
       "xBtLvjRZ3nw5nGvaoJPq8mqr96URzzzXMxRQKsWjLD2uSt4gUXQPP2bSZsqVkxk7+peQZhsvluV+\n",
       "JBZpM3rmRxzd9cjyOam4GNztDn768tdQLU84LGuV7jGZfIX8jc6rueevEzT24t//GtE3yyQKxHVX\n",
       "+EtW9xONyYmkojw0YGDLM8v1AtXyhMJo4+a45/H3OWQE+Rsdk3PPn5+W0KPnQ5ptzFq+Di1y9ufE\n",
       "BvNTROMcneOZ43qDeuTRZ03136hm6NTzgZh8HD0b0mwDsPwv/5pOoqfOVSkAAAAASUVORK5CYII=\n",
       "\" style=\"display:inline;vertical-align:middle;\" /></a></span></td></tr>\n",
       "<tr><td>&nbsp;</td><td colspan=4 style-\"text-align:left\"><a class=\"ProveItLink\" href=\"../../_axioms_.ipynb#naturalsDef\">proveit.number.sets.integer.naturalsDef</a></td></tr></table>"
      ],
      "text/plain": [
       "<proveit._core_.proof._ShowProof at 0x7f94ebcfda90>"
      ]
     },
     "execution_count": 1,
     "metadata": {},
     "output_type": "execute_result"
    }
   ],
   "source": [
    "import proveit\n",
    "%show_proof"
   ]
  },
  {
   "cell_type": "code",
   "execution_count": null,
   "metadata": {},
   "outputs": [],
   "source": []
  }
 ],
 "metadata": {
  "kernelspec": {
   "display_name": "Python 3",
   "language": "python",
   "name": "python3"
  }
 },
 "nbformat": 4,
 "nbformat_minor": 0
}
