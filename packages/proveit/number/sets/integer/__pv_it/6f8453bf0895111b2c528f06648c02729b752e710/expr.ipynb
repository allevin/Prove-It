{
 "cells": [
  {
   "cell_type": "markdown",
   "metadata": {},
   "source": [
    "Expression of type <a class=\"ProveItLink\" href=\"../../../../../../../doc/html/api/proveit.ExprTuple.html\">ExprTuple</a>\n",
    "=======================\n",
    "# from context <a class=\"ProveItLink\" href=\"../../_context_.ipynb\">proveit.number.sets.integer</a>"
   ]
  },
  {
   "cell_type": "code",
   "execution_count": 1,
   "metadata": {},
   "outputs": [],
   "source": [
    "# import Expression classes needed to build the expression\n",
    "from proveit import ExprTuple\n",
    "from proveit._common_ import x\n",
    "from proveit.number import Add, zero"
   ]
  },
  {
   "cell_type": "code",
   "execution_count": 2,
   "metadata": {},
   "outputs": [
    {
     "data": {
      "text/html": [
       "<strong id=\"expr\">expr:</strong> <a class=\"ProveItLink\" href=\"expr.ipynb\"><img src=\"data:image/png;base64,iVBORw0KGgoAAAANSUhEUgAAAFEAAAAVBAMAAADMaB9/AAAAMFBMVEX////c3NwiIiJERESqqqqY\n",
       "mJh2dnZmZmYQEBDu7u4yMjJUVFTMzMyIiIi6uroAAAAs73DqAAAAAXRSTlMAQObYZgAAAV5JREFU\n",
       "KM9jYCAe8F0gQlEciDiNVWr63RpkLvsBILESq0o9hkkHkPkLGBh4US2fCKF4FRh4FyCLhzEwcExA\n",
       "UekLoZg2MPB9RBafwcDwigGbSv4CBp4vyOLMDgxlQErstsj1Cygq5RMYeP6CWYy5G31rGRjYChiW\n",
       "MjBwJrCqcihgqPwGZk1jCApoYmBgWcDQB1TPwPuB5QAOlQkM9xl8gKHewPAPaCYDtwGaOxG2T2DY\n",
       "DKJ4PoBUAgMA4sqqVas0Vq1aDfXRV6jmXqjKFrARBxgmoIcSCzSUGP8ALQXZbsrAwCpwn4EXVSUw\n",
       "5NkUwLoDeT8w3ASqWcCQzsDgH2DBIIvqTgYVhhkHOD8B/fyVuYHxAjiUHjEwTL42LTcATeX03D0M\n",
       "nP0CDJy2mWlXgXyuBwwcAtjiCJogBZBjkzUBReVbZA4rgpmLM9WhqeQEJSxp3CoRCZIb5A5GYnLH\n",
       "HQYGAPrrU8QDd4geAAAAAElFTkSuQmCC\n",
       "\" style=\"display:inline;vertical-align:middle;\" /></a><br>"
      ],
      "text/plain": [
       "expr: (x + 0 , x)"
      ]
     },
     "execution_count": 2,
     "metadata": {},
     "output_type": "execute_result"
    }
   ],
   "source": [
    "# build up the expression from sub-expressions\n",
    "expr = ExprTuple(Add(x, zero), x)"
   ]
  },
  {
   "cell_type": "code",
   "execution_count": 3,
   "metadata": {},
   "outputs": [
    {
     "name": "stdout",
     "output_type": "stream",
     "text": [
      "Passed sanity check: built 'expr' is the same as the stored Expression.\n"
     ]
    }
   ],
   "source": [
    "# check that the built expression is the same as the stored expression\n",
    "%check_expr"
   ]
  },
  {
   "cell_type": "code",
   "execution_count": 4,
   "metadata": {},
   "outputs": [
    {
     "data": {
      "text/html": [
       "<table><tr><th>&nbsp;</th><th>core type</th><th>sub-expressions</th><th>expression</th></tr>\n",
       "<tr><td>0</td><td>ExprTuple</td><td>1, 4</td><td><a class=\"ProveItLink\" href=\"expr.ipynb\"><img src=\"data:image/png;base64,iVBORw0KGgoAAAANSUhEUgAAAFEAAAAVBAMAAADMaB9/AAAAMFBMVEX////c3NwiIiJERESqqqqY\n",
       "mJh2dnZmZmYQEBDu7u4yMjJUVFTMzMyIiIi6uroAAAAs73DqAAAAAXRSTlMAQObYZgAAAV5JREFU\n",
       "KM9jYCAe8F0gQlEciDiNVWr63RpkLvsBILESq0o9hkkHkPkLGBh4US2fCKF4FRh4FyCLhzEwcExA\n",
       "UekLoZg2MPB9RBafwcDwigGbSv4CBp4vyOLMDgxlQErstsj1Cygq5RMYeP6CWYy5G31rGRjYChiW\n",
       "MjBwJrCqcihgqPwGZk1jCApoYmBgWcDQB1TPwPuB5QAOlQkM9xl8gKHewPAPaCYDtwGaOxG2T2DY\n",
       "DKJ4PoBUAgMA4sqqVas0Vq1aDfXRV6jmXqjKFrARBxgmoIcSCzSUGP8ALQXZbsrAwCpwn4EXVSUw\n",
       "5NkUwLoDeT8w3ASqWcCQzsDgH2DBIIvqTgYVhhkHOD8B/fyVuYHxAjiUHjEwTL42LTcATeX03D0M\n",
       "nP0CDJy2mWlXgXyuBwwcAtjiCJogBZBjkzUBReVbZA4rgpmLM9WhqeQEJSxp3CoRCZIb5A5GYnLH\n",
       "HQYGAPrrU8QDd4geAAAAAElFTkSuQmCC\n",
       "\" style=\"display:inline;vertical-align:middle;\" /></a></td></tr>\n",
       "<tr><td>1</td><td>Operation</td><td>operator:&nbsp;2<br>operands:&nbsp;3<br></td><td><a class=\"ProveItLink\" href=\"../203fc6c86883eed9b0e0e16ee31c292c92b0d36e0/expr.ipynb\"><img src=\"data:image/png;base64,iVBORw0KGgoAAAANSUhEUgAAAC8AAAAQBAMAAAB0JTvnAAAAMFBMVEX///+6uroyMjJERETMzMwQ\n",
       "EBAiIiKYmJju7u5mZmaqqqpUVFSIiIh2dnbc3NwAAAAWgogoAAAAAXRSTlMAQObYZgAAAKRJREFU\n",
       "GNNjYMAEHHNOOjBgA2wCHCmoKh9A6GMMDIdQJLgOQOhsBgb5B9gkfjIw+C9gYHh7+tXJA8gSfH+B\n",
       "EgcYOC6wp7MmYEhcYOBl4PnA5YBFgoOB2wDVDqhRDAysYD6nkpJakJLSBqjlBUD6vQNDA7pz1z9g\n",
       "YH9wnoEHVQLowWtAuQJThjeo/mBbwBHCwNB8tvdOAaoEx9zTDliDBAMwIksAAFNPNS3cF/nkAAAA\n",
       "AElFTkSuQmCC\n",
       "\" style=\"display:inline;vertical-align:middle;\" /></a></td></tr>\n",
       "<tr><td>2</td><td>Literal</td><td></td><td><a class=\"ProveItLink\" href=\"../../../../addition/__pv_it/3e6688136fa3c7aefbebe51301b7c3ebf0b69c440/expr.ipynb\"><img src=\"data:image/png;base64,iVBORw0KGgoAAAANSUhEUgAAAA4AAAAOBAMAAADtZjDiAAAAJFBMVEX///+6urpUVFQQEBAiIiIy\n",
       "MjJmZmaIiIiqqqrc3Nzu7u4AAACgHpL+AAAAAXRSTlMAQObYZgAAAB5JREFUCNdjYGBgWMkAAe2k\n",
       "0Kmhoc6hoUGk6BMHYgAHOwjcado9fwAAAABJRU5ErkJggg==\n",
       "\" style=\"display:inline;vertical-align:middle;\" /></a></td></tr>\n",
       "<tr><td>3</td><td>ExprTuple</td><td>4, 5</td><td><a class=\"ProveItLink\" href=\"../b58230362316c99193bfc03c9103bdf2cadec5110/expr.ipynb\"><img src=\"data:image/png;base64,iVBORw0KGgoAAAANSUhEUgAAACsAAAAVBAMAAAAtAwouAAAAMFBMVEX////c3NwiIiJERESqqqqY\n",
       "mJh2dnZmZmYQEBDu7u4yMjJUVFTMzMyIiIi6uroAAAAs73DqAAAAAXRSTlMAQObYZgAAAQhJREFU\n",
       "GNNjYMAB+C6gi8SBiNPIIpy11w8wsB8AslYiCzM94NRhYFjAwMCLYsYlBoZbDAxhDAwcE5CFtRkY\n",
       "3gswzGBgeIVi23cGhvMODMwODGVAjthtketgsxi/AYUvMLAVMCwFWp/AqsqhABdOYGBZwNDHwMDG\n",
       "wPuB5QCSMF8Dwz+gagZuA4jRUEN4PoCEgc65gGRlAEi4BcSTP8AwAeZAfwGQIaYMDKwC9xl4J4Al\n",
       "gN5JAgosYEgHygdYMMgycH4Ced6Bs4cB5MBHDAyTr03LDWDg7BcA2l52G+gkrgcMHALwEIazgJ5n\n",
       "TYBxWOFBkIscsHBhTmDAMkjDePAQ5gaZxogRaXcYGACUckCr9X7ZnwAAAABJRU5ErkJggg==\n",
       "\" style=\"display:inline;vertical-align:middle;\" /></a></td></tr>\n",
       "<tr><td>4</td><td>Variable</td><td></td><td><a class=\"ProveItLink\" href=\"../../../../../__pv_it/530be409e3083890784cf1d7b28c9e67e90af9360/expr.ipynb\"><img src=\"data:image/png;base64,iVBORw0KGgoAAAANSUhEUgAAAAsAAAAJBAMAAAAWSsseAAAAKlBMVEX///9ERETMzMwQEBAiIiKY\n",
       "mJju7u5mZmaqqqpUVFSIiIh2dnbc3NwAAAA/vyDhAAAAAXRSTlMAQObYZgAAAENJREFUCNdjYDi9\n",
       "8sTyBQxsG1hdmR0YuBm4LnAoMLAxcAowgADzAjB1VoEhgYH1wFoGrgSG3gBhhlMMDImrs3cFMAAA\n",
       "t0YN+iTRa+sAAAAASUVORK5CYII=\n",
       "\" style=\"display:inline;vertical-align:middle;\" /></a></td></tr>\n",
       "<tr><td>5</td><td>Literal</td><td></td><td><a class=\"ProveItLink\" href=\"../../../../numeral/__pv_it/ec23fc7a1b4222a5f4948b495002b97d6fa18c3c0/expr.ipynb\"><img src=\"data:image/png;base64,iVBORw0KGgoAAAANSUhEUgAAAAoAAAAOBAMAAADkjZCYAAAALVBMVEX///8QEBCYmJh2dnaqqqrc\n",
       "3NxUVFQyMjK6uroiIiLMzMyIiIhmZmbu7u4AAAAZjyHdAAAAAXRSTlMAQObYZgAAAEpJREFUCNdj\n",
       "YLiz+xQDA8MMhpsLGLgnMHAXMHAmMHA8ZeA7wMD1hCHOgIHrNZh8jES+Bss+AqlkeQrSxTyBgWEK\n",
       "w8UFDAx3rLMYAMCjFldHSx/9AAAAAElFTkSuQmCC\n",
       "\" style=\"display:inline;vertical-align:middle;\" /></a></td></tr>\n",
       "</table>\n"
      ],
      "text/plain": [
       "0. (x + 0 , x)\n",
       "   core type: ExprTuple\n",
       "   sub-expressions: 1, 4\n",
       "1. x + 0\n",
       "   core type: Operation\n",
       "   operator: 2\n",
       "   operands: 3\n",
       "2. +\n",
       "   core type: Literal\n",
       "   sub-expressions: \n",
       "3. (x , 0)\n",
       "   core type: ExprTuple\n",
       "   sub-expressions: 4, 5\n",
       "4. x\n",
       "   core type: Variable\n",
       "   sub-expressions: \n",
       "5. 0\n",
       "   core type: Literal\n",
       "   sub-expressions: "
      ]
     },
     "execution_count": 4,
     "metadata": {},
     "output_type": "execute_result"
    }
   ],
   "source": [
    "# display the expression information\n",
    "expr.exprInfo()"
   ]
  },
  {
   "cell_type": "code",
   "execution_count": null,
   "metadata": {},
   "outputs": [],
   "source": []
  }
 ],
 "metadata": {
  "kernelspec": {
   "display_name": "Python 3",
   "language": "python",
   "name": "python3"
  }
 },
 "nbformat": 4,
 "nbformat_minor": 0
}
