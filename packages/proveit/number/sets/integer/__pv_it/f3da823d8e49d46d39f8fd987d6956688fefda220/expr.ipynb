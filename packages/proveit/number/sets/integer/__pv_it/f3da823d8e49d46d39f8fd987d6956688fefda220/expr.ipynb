{
 "cells": [
  {
   "cell_type": "markdown",
   "metadata": {},
   "source": [
    "Expression of type <a class=\"ProveItLink\" href=\"../../../../../../../doc/html/api/proveit.Lambda.html\">Lambda</a>\n",
    "=======================\n",
    "# from context <a class=\"ProveItLink\" href=\"../../_context_.ipynb\">proveit.number.sets.integer</a>"
   ]
  },
  {
   "cell_type": "code",
   "execution_count": 1,
   "metadata": {},
   "outputs": [],
   "source": [
    "# import Expression classes needed to build the expression\n",
    "from proveit import Lambda\n",
    "from proveit._common_ import a\n",
    "from proveit.logic import InSet\n",
    "from proveit.number import Integers, NaturalsPos"
   ]
  },
  {
   "cell_type": "code",
   "execution_count": 2,
   "metadata": {},
   "outputs": [
    {
     "data": {
      "text/html": [
       "<strong id=\"expr\">expr:</strong> <a class=\"ProveItLink\" href=\"expr.ipynb\"><img src=\"data:image/png;base64,iVBORw0KGgoAAAANSUhEUgAAAMQAAAAYCAMAAACShKINAAAANlBMVEX///8UFBQNDQ0yMjKqqqrM\n",
       "zMzu7u4iIiJmZmaYmJhEREQQEBC6urp2dnaIiIhUVFTc3NwAAACAukRkAAAAAXRSTlMAQObYZgAA\n",
       "AipJREFUWMPtl4ty4yAMRdkV7zf//7MV1Ca2gZjY2Wm3U42TSTzWhQOSkAn5r42SH2D6F+IdoRC/\n",
       "DML6K17Ktvec/SoIFmbXWaQkAIwAo/CvZHchOCStgWctkQS9A1FUZsyDzI/COhDc3wmtCPsUS/gJ\n",
       "gGby16ux4acdpCsTpetclbsNEQRbJmBuhZMZbgT3INDqgof8ZAw1/rh5EeIoiJIW4yCwuxAWhrkC\n",
       "qsOneb6W3/QliI5gYLgiPAd0ByIG76ypBW8/UUqbGGldSNS9LVKeKFXnLJ9BzAjiJlBf0qKFKL46\n",
       "1WfFwXWjBqrvQnSv5nOdr7oa8ARiSjBHkrR5aSrEWitjKiVQjyB4eOgZ23fh3djEQTe+1owh5gRL\n",
       "OoScFk1+hcIvHmXn7x+xM5PqaMuvxsWa9eHNcltJ7KYksTSGmBMsEDynRQORMjRPbLQTWBTIAaJx\n",
       "6R6BsKaXi2cQc4IFgjBHmp2IKfNTHIH3IeQmOg3tu3DR6SrqESHOwmlOcIEgijaVlSdajj9CWReC\n",
       "+f2Z2XUhQR1HfBwR7nP2apzYU4IVAne2yZhccaiQpIbv/lDeVbqlTDYuuHLHoo/lpVRJLp0+LbEz\n",
       "gii53pLQLpn3lmk/0wRYMXKJsG/xrNFgNHZsyeiF3D6pTueCeNCi1NoL3mp9zfgdgAbYF5ND2L7a\n",
       "dpwJXre2jZs15//F+8Q1m27Fm7cB8n0gYrjmF+I3giDx0uupZ517b4P4AL4PGAsJFD3tAAAAAElF\n",
       "TkSuQmCC\n",
       "\" style=\"display:inline;vertical-align:middle;\" /></a><br>"
      ],
      "text/plain": [
       "expr: a -> (a in Integers) | a in NaturalsPos"
      ]
     },
     "execution_count": 2,
     "metadata": {},
     "output_type": "execute_result"
    }
   ],
   "source": [
    "# build up the expression from sub-expressions\n",
    "expr = Lambda(a, InSet(a, Integers), conditions = [InSet(a, NaturalsPos)])"
   ]
  },
  {
   "cell_type": "code",
   "execution_count": 3,
   "metadata": {},
   "outputs": [
    {
     "name": "stdout",
     "output_type": "stream",
     "text": [
      "Passed sanity check: built 'expr' is the same as the stored Expression.\n"
     ]
    }
   ],
   "source": [
    "# check that the built expression is the same as the stored expression\n",
    "%check_expr"
   ]
  },
  {
   "cell_type": "code",
   "execution_count": 4,
   "metadata": {},
   "outputs": [
    {
     "data": {
      "text/html": [
       "<table><tr><th>&nbsp;</th><th>core type</th><th>sub-expressions</th><th>expression</th></tr>\n",
       "<tr><td>0</td><td>Lambda</td><td>parameter:&nbsp;8<br>body:&nbsp;1<br>conditions:&nbsp;2<br></td><td><a class=\"ProveItLink\" href=\"expr.ipynb\"><img src=\"data:image/png;base64,iVBORw0KGgoAAAANSUhEUgAAAMQAAAAYCAMAAACShKINAAAANlBMVEX///8UFBQNDQ0yMjKqqqrM\n",
       "zMzu7u4iIiJmZmaYmJhEREQQEBC6urp2dnaIiIhUVFTc3NwAAACAukRkAAAAAXRSTlMAQObYZgAA\n",
       "AipJREFUWMPtl4ty4yAMRdkV7zf//7MV1Ca2gZjY2Wm3U42TSTzWhQOSkAn5r42SH2D6F+IdoRC/\n",
       "DML6K17Ktvec/SoIFmbXWaQkAIwAo/CvZHchOCStgWctkQS9A1FUZsyDzI/COhDc3wmtCPsUS/gJ\n",
       "gGby16ux4acdpCsTpetclbsNEQRbJmBuhZMZbgT3INDqgof8ZAw1/rh5EeIoiJIW4yCwuxAWhrkC\n",
       "qsOneb6W3/QliI5gYLgiPAd0ByIG76ypBW8/UUqbGGldSNS9LVKeKFXnLJ9BzAjiJlBf0qKFKL46\n",
       "1WfFwXWjBqrvQnSv5nOdr7oa8ARiSjBHkrR5aSrEWitjKiVQjyB4eOgZ23fh3djEQTe+1owh5gRL\n",
       "OoScFk1+hcIvHmXn7x+xM5PqaMuvxsWa9eHNcltJ7KYksTSGmBMsEDynRQORMjRPbLQTWBTIAaJx\n",
       "6R6BsKaXi2cQc4IFgjBHmp2IKfNTHIH3IeQmOg3tu3DR6SrqESHOwmlOcIEgijaVlSdajj9CWReC\n",
       "+f2Z2XUhQR1HfBwR7nP2apzYU4IVAne2yZhccaiQpIbv/lDeVbqlTDYuuHLHoo/lpVRJLp0+LbEz\n",
       "gii53pLQLpn3lmk/0wRYMXKJsG/xrNFgNHZsyeiF3D6pTueCeNCi1NoL3mp9zfgdgAbYF5ND2L7a\n",
       "dpwJXre2jZs15//F+8Q1m27Fm7cB8n0gYrjmF+I3giDx0uupZ517b4P4AL4PGAsJFD3tAAAAAElF\n",
       "TkSuQmCC\n",
       "\" style=\"display:inline;vertical-align:middle;\" /></a></td></tr>\n",
       "<tr><td>1</td><td>Operation</td><td>operator:&nbsp;6<br>operands:&nbsp;3<br></td><td><a class=\"ProveItLink\" href=\"../01b3f57f6ab80847a4b7589977b22caf36a86d450/expr.ipynb\"><img src=\"data:image/png;base64,iVBORw0KGgoAAAANSUhEUgAAADIAAAAPBAMAAABU9YHxAAAAMFBMVEX///8yMjKqqqrMzMzu7u4i\n",
       "IiJmZmaYmJhEREQQEBC6urp2dnaIiIhUVFTc3NwAAAD87Fq/AAAAAXRSTlMAQObYZgAAANpJREFU\n",
       "GNNjYMAATPFfBadKFmBKMPCIOTAIcGCRYGDbwMCtsAtZxEc0NBBE8zowvGW+gCTBLO4AZ7dwgNh8\n",
       "d3bNA/FeICTYD5SDqJUPOD6A6D6Edg+WBpCW7wxsIBrMgYLLvA9A9n1gYD0ApLmmhoZCXMDAlbAa\n",
       "RPE3MPgbgByAcA0jgwADwz6G9wcY9BmAlrMEwGU2cS9gYAhg8FdguMgE0nQdJsF3wZaBgXsCA2MB\n",
       "Uxg3SMB1AVSG40ELA0t2A9A7pyxOgZWKGUBkVjbO6JCfkYAcxhehboMAAOemMLNTwnkhAAAAAElF\n",
       "TkSuQmCC\n",
       "\" style=\"display:inline;vertical-align:middle;\" /></a></td></tr>\n",
       "<tr><td>2</td><td>ExprTuple</td><td>4</td><td><a class=\"ProveItLink\" href=\"../12957ba5983d78ba5bc6241148699b12df1a8c520/expr.ipynb\"><img src=\"data:image/png;base64,iVBORw0KGgoAAAANSUhEUgAAAE4AAAAbBAMAAAAgx6RqAAAAMFBMVEX///+qqqp2dnYiIiJERESI\n",
       "iIhmZmYQEBDc3NyYmJgyMjLu7u5UVFTMzMy6uroAAACGxKilAAAAAXRSTlMAQObYZgAAAYNJREFU\n",
       "OMuNkr9Lw1AQx79pa02apO0fINjRSYRAcVHi6A8kICKIFMFRlI6OHZxcrODmEhAUWoeATl1aUAcL\n",
       "kSCdpKBbwUErCipS8V1skyeEpge5d5f3efcu3wvQ3wQ/fO7HxchlyKm1UK5JrmKFckMGczcI5TAJ\n",
       "iPmA3cr7nIWNt3SPWwPi60FlZlUdaKNeOi2V2KVVC8OPQdylswzkvXujRTzw2/KqppkU3JYVh+Pi\n",
       "OlZ47v6oG9hNucxxEmuBLeL1+A6l4nzvgC0YDY5LfmOBLa1CrO2KUPA4bEsGcYqbqh2csDJf1ACz\n",
       "C/icYtm+YuIPsuxMG1FSHC1N636HDblW8Tn5lbiUjqrjzbFbD3fqv3pnwL6BUdCUz3lOSus+18EV\n",
       "UzuNukAFlSLHYcznkp9YAhJFIRtx25jubSySuKbHMf1eSL5cI+fme1t/758+WC3Z5yImUg4/kJFj\n",
       "zQwYd8KAkkG4VQtQJwbgDtkzMwA3Rb2HYxL9y0J4g7uuPwjlNjGw/QK83F8MsS1u0QAAAABJRU5E\n",
       "rkJggg==\n",
       "\" style=\"display:inline;vertical-align:middle;\" /></a></td></tr>\n",
       "<tr><td>3</td><td>ExprTuple</td><td>8, 5</td><td><a class=\"ProveItLink\" href=\"../f55b49253e0029eb481714eaf47fbcf12f16a3380/expr.ipynb\"><img src=\"data:image/png;base64,iVBORw0KGgoAAAANSUhEUgAAAC4AAAAVBAMAAADLKsFqAAAAMFBMVEX////c3NwiIiJERESqqqqY\n",
       "mJh2dnZmZmYQEBDu7u4yMjJUVFTMzMyIiIi6uroAAAAs73DqAAAAAXRSTlMAQObYZgAAAR5JREFU\n",
       "GNNjYMAF+C5gCLE+ABKnkQRY9D+taloRwFADZK9EEuddPoFhATMDAxeQiWwMewIDm0Me0KAEBo4J\n",
       "SOLcExikeTYwMHA2MLxCs9OSGaTQhKEMSDLuzWuEOeVCKIhKZ1gKJF8IMH+Aik/mNABRXgx9QOVf\n",
       "GdgNoOJ7uAVA1AuGf0DbPjAwQV3FV/AMTJ8HifMbMMw/ABHnYljAwJAIEm9hYJC/wODPAHFuChsw\n",
       "CBRA5pgyMMx3YNjFcoAT5LANwFBha2BgiAK6iIErgEWdjWE+UBmzgCUDZ5kByJ2PQM6/d/gew4yP\n",
       "QO1WzcbrmwsYGNYxcAjAfPoQ4WlgOACDCAoCEOJsF5DCGUl8FhBLw8IeKfA2gtyGGY+8BxgAz2FB\n",
       "pcJZQS4AAAAASUVORK5CYII=\n",
       "\" style=\"display:inline;vertical-align:middle;\" /></a></td></tr>\n",
       "<tr><td>4</td><td>Operation</td><td>operator:&nbsp;6<br>operands:&nbsp;7<br></td><td><a class=\"ProveItLink\" href=\"../12dd556c18372ffa5a86a0a8bde7d7d68d4b9b2f0/expr.ipynb\"><img src=\"data:image/png;base64,iVBORw0KGgoAAAANSUhEUgAAAD8AAAAUBAMAAADIGvgZAAAAMFBMVEX///8yMjKqqqrMzMzu7u4i\n",
       "IiJmZmaYmJhEREQQEBC6urp2dnaIiIhUVFTc3NwAAAD87Fq/AAAAAXRSTlMAQObYZgAAAOpJREFU\n",
       "KM9jYMADmBgIAI4BU+D4o9GBIfWrAm4T2pkbGBg+MFwUlBQUPIBNwVWDMwwMEzCtYDkYGioAYtwS\n",
       "4TXApsCwBMq4bMsigqSA786ueWC6BabyMtMBCyQFKx9wfAD76QFcAUMW+wGQAl6wxu8MbA0ghgcD\n",
       "QgGvw+UJMB7vBwZWsF9WhoZCHXmZgeWCI1wBfwODvwGIYYtkAoM1M1zB+wMM+gwOQIYrsgJ2hQYY\n",
       "z1+B4SITyAjeAiQFDPvgChgLmMK4weEUBRPqAmI2ARiP784pi1Ng1sNkiMjCn0DdLAJY4kBXNBRT\n",
       "GAAhQDjQGds0wgAAAABJRU5ErkJggg==\n",
       "\" style=\"display:inline;vertical-align:middle;\" /></a></td></tr>\n",
       "<tr><td>5</td><td>Literal</td><td></td><td><a class=\"ProveItLink\" href=\"../7b9e51516f347f625fa636d7bb440e96498977000/expr.ipynb\"><img src=\"data:image/png;base64,iVBORw0KGgoAAAANSUhEUgAAAA4AAAAOBAMAAADtZjDiAAAAMFBMVEX////MzMzc3NxUVFS6urp2\n",
       "dnZERETu7u5mZmaIiIiYmJgQEBAyMjIiIiKqqqoAAAAf68ZqAAAAAXRSTlMAQObYZgAAAGlJREFU\n",
       "CNdj4Lv/98ze0wsYOE8UMBxgY2DgCGBgfRDCwMBcwKDMaMAAAulsBSCKa8IqMLeMPQFMGzIrgCiW\n",
       "Blcwl4fhAANDEANDHKsDA8MFBiYDYQYG1g0MbArpDOytCQzeOdvSzm9rAAAm6xY1AUf+1AAAAABJ\n",
       "RU5ErkJggg==\n",
       "\" style=\"display:inline;vertical-align:middle;\" /></a></td></tr>\n",
       "<tr><td>6</td><td>Literal</td><td></td><td><a class=\"ProveItLink\" href=\"../../../../../logic/set_theory/membership/__pv_it/088cbc857536a28d4119ad9639a84270ccb0545d0/expr.ipynb\"><img src=\"data:image/png;base64,iVBORw0KGgoAAAANSUhEUgAAAAwAAAAMBAMAAACkW0HUAAAALVBMVEX///+qqqpmZmZUVFQQEBC6\n",
       "urpERETc3NyYmJjMzMwiIiIyMjKIiIju7u4AAACYsrA9AAAAAXRSTlMAQObYZgAAADxJREFUCNdj\n",
       "YOA9vWrVBgaG2b0MQMCeCyIZ2ArA1DUwyRCyahVIyWQI7xaEYm4AU7xLIdxqTQgtvGvVBgCkcQ7e\n",
       "geM/tQAAAABJRU5ErkJggg==\n",
       "\" style=\"display:inline;vertical-align:middle;\" /></a></td></tr>\n",
       "<tr><td>7</td><td>ExprTuple</td><td>8, 9</td><td><a class=\"ProveItLink\" href=\"../138086bec9c7cd7ae91abca3a5893cc380c3eb300/expr.ipynb\"><img src=\"data:image/png;base64,iVBORw0KGgoAAAANSUhEUgAAAD4AAAAbBAMAAADWjiHyAAAAMFBMVEX///+qqqp2dnYiIiJERESI\n",
       "iIhmZmYQEBDc3NyYmJgyMjLu7u5UVFTMzMy6uroAAACGxKilAAAAAXRSTlMAQObYZgAAAVdJREFU\n",
       "KM+F0j1Lw0AYB/B/+mbTJG2+gRmdpFNxEeKoiAREXKQIjoJ0dOzg5GIEP0AnhdQhm5AlBXWwUAnS\n",
       "saCb4qARBStS8bmS9BKa6ME99/LLc8ddDkguAu++JHmOBY0FpZPqAxYcO9XzBoUbpDoWgGIjMut8\n",
       "rNjYeVdD3wIK29G0ZUUHfHStM8uixV0bMw9Rv/Q2gMZk/ayJ+9i2t23Zi3hBx2bMewOpHXGRtqKm\n",
       "eD2/H7hg9CNe/sYqNY/NnB849kSDuTweKiOcUvoX2yhw2e7xExd/UKNvfWSN0KWOw116Y17R4Xqh\n",
       "406J5Z8DRwZmYYcuqjr3Ea7ollR0BU8KHHPcy0OsAyVTqGXgVmlijV1Ka+J0/ld2/Hq/josh8PxJ\n",
       "uRL3TAsVLxw8Tf/lkgFZCwfmtLtNKNU//ITqUtDPJ7yiRaqHSC0iezuCluoH43ic6rv4t/wC9F1Y\n",
       "B6PU2xsAAAAASUVORK5CYII=\n",
       "\" style=\"display:inline;vertical-align:middle;\" /></a></td></tr>\n",
       "<tr><td>8</td><td>Variable</td><td></td><td><a class=\"ProveItLink\" href=\"../../../../../__pv_it/07527342713064c87612d00d8557c53d53d5324a0/expr.ipynb\"><img src=\"data:image/png;base64,iVBORw0KGgoAAAANSUhEUgAAAAsAAAAJBAMAAAAWSsseAAAAMFBMVEX///8yMjKqqqrMzMzu7u4i\n",
       "IiJmZmaYmJhEREQQEBC6urp2dnaIiIhUVFTc3NwAAAD87Fq/AAAAAXRSTlMAQObYZgAAAEhJREFU\n",
       "CNdjYOC7s2seAwPDygccHxgY+L4zsDUwMPB+YGA9wMDA38Dgb8DA8P4Agz6DA4O/AsNFJgMGxgKm\n",
       "MG6gyjunLE4xAAAZTBA5TB6DCwAAAABJRU5ErkJggg==\n",
       "\" style=\"display:inline;vertical-align:middle;\" /></a></td></tr>\n",
       "<tr><td>9</td><td>Literal</td><td></td><td><a class=\"ProveItLink\" href=\"../42d4bc2e45d5054d807f2641a228c1b440fb8de30/expr.ipynb\"><img src=\"data:image/png;base64,iVBORw0KGgoAAAANSUhEUgAAABsAAAATBAMAAACTqWsLAAAAMFBMVEX////c3Nx2dna6uroQEBCI\n",
       "iIhUVFTMzMyYmJiqqqoiIiJmZmZEREQyMjLu7u4AAADjlg78AAAAAXRSTlMAQObYZgAAAHZJREFU\n",
       "GNNjYIADTgYUwEMy9+2fsw8Ydv2aAJM9wX6AgeEDQ+7dK3fvBjAwZBWEMjA4wPUm32MrQOKml/Hd\n",
       "Q+ZyBtQgcxk2cwSAuGxQLtuDdAe47ekMfAlvkbkMRewoXI4JB5C5DIoI7mEg5r4A49l+AcrwwbgA\n",
       "axoiJO4Xc9gAAAAASUVORK5CYII=\n",
       "\" style=\"display:inline;vertical-align:middle;\" /></a></td></tr>\n",
       "</table>\n"
      ],
      "text/plain": [
       "0. a -> (a in Integers) | a in NaturalsPos\n",
       "   core type: Lambda\n",
       "   parameter: 8\n",
       "   body: 1\n",
       "   conditions: 2\\n1. a in Integers\n",
       "   core type: Operation\n",
       "   operator: 6\n",
       "   operands: 3\n",
       "2. (a in NaturalsPos)\n",
       "   core type: ExprTuple\n",
       "   sub-expressions: 4\n",
       "3. (a , Integers)\n",
       "   core type: ExprTuple\n",
       "   sub-expressions: 8, 5\n",
       "4. a in NaturalsPos\n",
       "   core type: Operation\n",
       "   operator: 6\n",
       "   operands: 7\n",
       "5. Integers\n",
       "   core type: Literal\n",
       "   sub-expressions: \n",
       "6. in\n",
       "   core type: Literal\n",
       "   sub-expressions: \n",
       "7. (a , NaturalsPos)\n",
       "   core type: ExprTuple\n",
       "   sub-expressions: 8, 9\n",
       "8. a\n",
       "   core type: Variable\n",
       "   sub-expressions: \n",
       "9. NaturalsPos\n",
       "   core type: Literal\n",
       "   sub-expressions: "
      ]
     },
     "execution_count": 4,
     "metadata": {},
     "output_type": "execute_result"
    }
   ],
   "source": [
    "# display the expression information\n",
    "expr.exprInfo()"
   ]
  },
  {
   "cell_type": "code",
   "execution_count": null,
   "metadata": {},
   "outputs": [],
   "source": []
  }
 ],
 "metadata": {
  "kernelspec": {
   "display_name": "Python 3",
   "language": "python",
   "name": "python3"
  }
 },
 "nbformat": 4,
 "nbformat_minor": 0
}
