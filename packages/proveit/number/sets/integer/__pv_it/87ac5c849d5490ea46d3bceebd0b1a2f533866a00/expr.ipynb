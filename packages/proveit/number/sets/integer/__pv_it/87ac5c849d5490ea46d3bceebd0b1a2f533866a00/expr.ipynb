{
 "cells": [
  {
   "cell_type": "markdown",
   "metadata": {},
   "source": [
    "Theorem <a class=\"ProveItLink\" href=\"../../_theorems_.ipynb#xInNatsInBool\">xInNatsInBool</a> of type <a class=\"ProveItLink\" href=\"../../../../../../../doc/html/api/proveit.logic.Forall.html\">Forall</a>\n",
    "=======================\n",
    "# from context <a class=\"ProveItLink\" href=\"../../_context_.ipynb\">proveit.number.sets.integer</a>\n",
    "*** see <a class=\"ProveItLink\" href=\"dependencies.ipynb\">dependencies</a> ***"
   ]
  },
  {
   "cell_type": "code",
   "execution_count": 1,
   "metadata": {},
   "outputs": [],
   "source": [
    "# import the special expression\n",
    "from proveit.number.sets.integer._theorems_ import xInNatsInBool"
   ]
  },
  {
   "cell_type": "code",
   "execution_count": 2,
   "metadata": {},
   "outputs": [
    {
     "name": "stdout",
     "output_type": "stream",
     "text": [
      "Passed sanity check: built 'xInNatsInBool' is the same as the stored Expression.\n"
     ]
    }
   ],
   "source": [
    "# check that the built expression is the same as the stored expression\n",
    "%check_expr xInNatsInBool"
   ]
  },
  {
   "cell_type": "code",
   "execution_count": 3,
   "metadata": {},
   "outputs": [
    {
     "data": {
      "text/html": [
       "<table><tr><th>&nbsp;</th><th>core type</th><th>sub-expressions</th><th>expression</th></tr>\n",
       "<tr><td>0</td><td>Operation</td><td>operator:&nbsp;1<br>operand:&nbsp;2<br></td><td><a class=\"ProveItLink\" href=\"expr.ipynb\"><img src=\"data:image/png;base64,iVBORw0KGgoAAAANSUhEUgAAAJoAAAAVBAMAAABMN+opAAAAMFBMVEX///8QEBC6urrMzMxUVFRm\n",
       "ZmZERETc3NwyMjKqqqp2dnaIiIiYmJgiIiLu7u4AAAAU9Wx4AAAAAXRSTlMAQObYZgAAAjRJREFU\n",
       "OMutlD1oFEEYhr/b3fvJ7mY8RAQLIYJFQAIbFNuEBNRCbGxEm7W5IKikkAsq4kWwi3fXKIKC2wR/\n",
       "ArJIFNTCawQlzYEgKjmyhYRDEdQits4338zezF3WEPCF95h9vp33dn4B/quSAWLF5Cz5I9m8jY0V\n",
       "nR6S7hdrVOqQX/sMJ/sKjzYa8x+bgPwxPtf1Yr0fKBVahwF2AJT6C+EBVn8ieJU/FUOt5MXkQTkf\n",
       "OM/xIUUDafCsJHiJT1y+qZVyCbmn77c6n0TaaDKNaaxscky77yTI/Ydzc9f0vqPSqewFme0cnOwm\n",
       "PA3OmVx8W5X4RqXyRe98WvrK8uXnYsBV1ckJ7tkhpi2CwXmavXqR+DTAjJ62QGaRv5oTC55WnSA/\n",
       "soJpd8HgEI6t/YqJ7wdW09N2kl3wfg4FuDHCXhqccMZ5Yx8YHEf6+g7xYfBaetpvMgOHXrf2djpy\n",
       "FQL4yuZ5Y8LkmFawIsG91nCySRpfWNom9qT2bXY0rtJ6XKRBKDir4cZfmloOqLRHGq4H4tixtpYG\n",
       "7wvpSNsDachnpvgsJUdyctOdJ/uzb8ATH31cT3NxJ7wDg6cjRX6b/4klllJokfygdRauCvBDnfIC\n",
       "Nk6lOyTlmPb2heQ0P39UaYy8/urbEq1O8SbNgdXYzX+73DcMjqf+wq6m5D6Oxy7b6mTNknsaOibX\n",
       "Tl0m5X9zmHBrrrqmok3OtSE33oKvvzzzdMsbSam7HX5JOlNHt8OLMTlLXpDJ/wJ62Z8oLdAWHAAA\n",
       "AABJRU5ErkJggg==\n",
       "\" style=\"display:inline;vertical-align:middle;\" /></a></td></tr>\n",
       "<tr><td>1</td><td>Literal</td><td></td><td><a class=\"ProveItLink\" href=\"../../../../../logic/boolean/quantification/universal/__pv_it/265f8c02ac1094d56e0e6410a1c1fd3500dc9f540/expr.ipynb\"><img src=\"data:image/png;base64,iVBORw0KGgoAAAANSUhEUgAAAAwAAAAQBAMAAADQT4M0AAAAMFBMVEX///8QEBC6urrMzMxUVFRm\n",
       "ZmZERETc3NwyMjKqqqp2dnaIiIiYmJgiIiLu7u4AAAAU9Wx4AAAAAXRSTlMAQObYZgAAAFhJREFU\n",
       "CNdjeMAABhdAxGmGlSCqj6EMSLInMHAAJVknMPAsLy+vBYp8S0u7BaScGRjSgZQKA18DkOJl4D4A\n",
       "pLgP8IJM4mswARuX7gSmpoKNZWDcAKZ4gCoAgTQTILaSE58AAAAASUVORK5CYII=\n",
       "\" style=\"display:inline;vertical-align:middle;\" /></a></td></tr>\n",
       "<tr><td>2</td><td>Lambda</td><td>parameter:&nbsp;9<br>body:&nbsp;3<br></td><td><a class=\"ProveItLink\" href=\"../1afe917acdeff5455e94b8e0a8d52a654117c3e30/expr.ipynb\"><img src=\"data:image/png;base64,iVBORw0KGgoAAAANSUhEUgAAAKYAAAAVCAMAAAD7CGWeAAAANlBMVEX///+6uroUFBQNDQ0yMjJE\n",
       "RETMzMwQEBAiIiKYmJju7u5mZmaqqqpUVFSIiIh2dnbc3NwAAACltDI1AAAAAXRSTlMAQObYZgAA\n",
       "AhJJREFUSMfdVt2aqyAMDHv4FwK8/8seUFAiVG33683mZqydwJiEEIA/agwpvmuGfZe/mfQUb83y\n",
       "JAS3+WnRSbsM8tohZAeeuNLCrb/v+FNbN+zwgQkDUqxPaXO9dSipstyG8Iw/GiLFJ+a1rHy1pTE8\n",
       "kQnIqsBb/mjKUpxlGbnOdsTAsxx6L3eZVl3zq0xnwNsJ/8n54RRnxcvN6RO8zIVsS5XU/WrRveLv\n",
       "0Yyi48eAPjpcWhqpAtcvCUugePbNb8QQ5xxIh2t5VplhgSv+JlNq0/4qfJt3NNqA0pWkT5v0y3BD\n",
       "cPDNW0SYyISFgcEm0/UJjtPa1Dol1T6+8EtcMB9BJ+cyre8WUozg4AtWwFRm+Vovq0x2FNuM35KO\n",
       "Thz8Eizfk//9aGIqHQ22PVYcfPOKzY1TmbaUZ5Un0yW/yiwQCF/17UWfg9FdAyeZg++0668yQQaQ\n",
       "o8zpLbHLBNHzY5I1NBOZS188ylE8+4LVr2SCcSDGpOsHMgvfxLW8AOcyJZ4ulB4H36zJvJIJoTUY\n",
       "0yV4wh+SnvkuGRBZbdzl0PuFtovWSjYcfUt4hlFBtDcLHxvShF9lmgXFzrcCQ7480Txr77rHqW/k\n",
       "dFZgPCnRppDaztgFv44eQivfKou/PSSpSHFmznN6cs+3qfod/8n0F+DTceAIF36X/+EgNwyg3+Vv\n",
       "peQpvm8+fpdf9SHFtydW+QH/P4LUFXpdhofOAAAAAElFTkSuQmCC\n",
       "\" style=\"display:inline;vertical-align:middle;\" /></a></td></tr>\n",
       "<tr><td>3</td><td>Operation</td><td>operator:&nbsp;7<br>operands:&nbsp;4<br></td><td><a class=\"ProveItLink\" href=\"../ee3460a1e7db99b465049f5263708ea88df0f8be0/expr.ipynb\"><img src=\"data:image/png;base64,iVBORw0KGgoAAAANSUhEUgAAAGkAAAAVBAMAAAC3TN2zAAAAMFBMVEX////c3NwiIiJERESqqqqY\n",
       "mJh2dnZmZmYQEBDu7u4yMjJUVFTMzMyIiIi6uroAAAAs73DqAAAAAXRSTlMAQObYZgAAAapJREFU\n",
       "OMtjYCAP8F3ALcf6AJfMaSxinOuNVzKw66sw1KBJZH1ev0LZAchYic0o5oDDDAz8DAxc6BIGbzlX\n",
       "pjEw8GJ1ILcOUJwD6MQEDF0M94BGcUxAFpy7SEkLrOvVhD0gXZwNqOIgXa7cExheIWviWQo1g/vM\n",
       "hlkTgLoYTFDFwXYJMzCUAZlit0Wugx0qDJPkPuDLYwDSlc6AIg7UxaNqycCwFOiMBFZVDgWQmCHc\n",
       "XwfYH8SCdHkxoIgzGDzS/wG0oI+BgY2B9wPLAVCAGyB0MezkPgFkvGBAEQe58K4zA8M/oCADN0SY\n",
       "r0lJCRoaBxhmc64AMs6jioN0MfMlgHQBAxIS/DwbkOziSTgB04UQB+tiMGBoAbHlDzCA/MupgKSL\n",
       "IYQZ7kIFdF2mwKgUuM/ACw6lrci62IAhzBDFgCIOcyEwaP0DLBhkwWKTYKmVGcSogoc8XBykK/wy\n",
       "A8MjBobJ16blBoDFGJcfgATL+mYgOQuI16GIg1KvUTcw9XIIICcOll3QsIIl/gbs4hjpEwWw4cp8\n",
       "K/HpmoVLQhqfro24JBjxlAC8B7CLAwDsM29oKbMW/QAAAABJRU5ErkJggg==\n",
       "\" style=\"display:inline;vertical-align:middle;\" /></a></td></tr>\n",
       "<tr><td>4</td><td>ExprTuple</td><td>5, 6</td><td><a class=\"ProveItLink\" href=\"../ac406442275490cb32d6f34915bd3827317208e90/expr.ipynb\"><img src=\"data:image/png;base64,iVBORw0KGgoAAAANSUhEUgAAAFgAAAAVBAMAAAAwfTS1AAAAMFBMVEX////c3NwiIiJERESqqqqY\n",
       "mJh2dnZmZmYQEBDu7u4yMjJUVFTMzMyIiIi6uroAAAAs73DqAAAAAXRSTlMAQObYZgAAAZVJREFU\n",
       "KM9jYCAJ8F0gTh3rAyBxGosE53rjlQzs+ipgTtbn9SuUHRgYaoDsldiMYQ44zMDAD+UYvOVcmcbA\n",
       "wMXAwIvVFdw6QHEOuGKGe0CVrAkMHBOQFc1dpKQFVvxqwh5kxa7cExg4GxheIavlWQrVyn1mw6wJ\n",
       "yCYLA2kThjIgKXZb5DrYNcIwa7gP+PIYIBTzqFoC6XSGpUC/J7CqciiAhA3hbj7A/iAWrviR/g+Q\n",
       "WV4MfQwMbAy8H1gOgELMAKGYYSf3CYQz7joD6RcM/4BqGLghqvialJSgHjzAMJtzBUIxM18CA8N5\n",
       "kGIGBg5I+PFsQDKZJwHJZGYGA5DiFhBX/gADyGucCkiKGUKY0RS/YDAFhrbAfQZecDhsRVbMBgyu\n",
       "CcjOiAKGB4N/gAWDLFjNpAew6AYxqhg4P0EVh18GB90jBobJ16blBoDVMC4/APHp+mYgOYuBs18A\n",
       "nJCMuoEJiWEdA4cAchSy7IKEBjz9IskCoxuYPPAlYiQ22wUcSRSb4llALI1PMXL63QjyFJHZivcA\n",
       "AwAK/GgcLqiXGQAAAABJRU5ErkJggg==\n",
       "\" style=\"display:inline;vertical-align:middle;\" /></a></td></tr>\n",
       "<tr><td>5</td><td>Operation</td><td>operator:&nbsp;7<br>operands:&nbsp;8<br></td><td><a class=\"ProveItLink\" href=\"../7952ed02aa608df9fd5e9105051eea71f2d606740/expr.ipynb\"><img src=\"data:image/png;base64,iVBORw0KGgoAAAANSUhEUgAAADQAAAAPBAMAAABZ6/G2AAAAMFBMVEX///+6uroyMjJERETMzMwQ\n",
       "EBAiIiKYmJju7u5mZmaqqqpUVFSIiIh2dnbc3NwAAAAWgogoAAAAAXRSTlMAQObYZgAAANNJREFU\n",
       "GNNjYMAAHPrGGgyc+VkMWABzgTMDAz82GQbuFJ4DDKwoBh1KS1MASwk1bEGVcqqA6XLZ0NQAknp7\n",
       "+tXJA0CazwJuoMMaFgOgFMcF9nTWBJDlDxBSnAI1QCleBp4PXA5AgWaEMxwYdnC7AnUxcBuABUTT\n",
       "0mDOcGDo5lAFsVgPgKW8kXWxXHAFsd47MDQAqTZkKYYqZgYG9gfnGXhAUtwFyFK8jxkY1heYMrwB\n",
       "+zgRHlACQGIS0GFne+9A1D+aApFh1A8Gkk0oYbdaDeJCKAAAWl0sSNBtrqUAAAAASUVORK5CYII=\n",
       "\" style=\"display:inline;vertical-align:middle;\" /></a></td></tr>\n",
       "<tr><td>6</td><td>Literal</td><td></td><td><a class=\"ProveItLink\" href=\"../../../../../logic/boolean/__pv_it/46271c8230be96415d662709611f4ed2279d702b0/expr.ipynb\"><img src=\"data:image/png;base64,iVBORw0KGgoAAAANSUhEUgAAAA0AAAAOBAMAAAAGUYvhAAAAMFBMVEX///9mZmbMzMzc3NxUVFSY\n",
       "mJju7u6IiIi6urqqqqoiIiIQEBBEREQyMjJ2dnYAAAAQvcRZAAAAAXRSTlMAQObYZgAAAElJREFU\n",
       "CNdjePvn/u01ExgYGA60s117B6YZKngh9FSWBAjfBsxnWnoMRHet/10AkS+fA6F5OB5AaIYDqDRU\n",
       "PLCGgQFoz6ktExgAgLIl8DFvGtkAAAAASUVORK5CYII=\n",
       "\" style=\"display:inline;vertical-align:middle;\" /></a></td></tr>\n",
       "<tr><td>7</td><td>Literal</td><td></td><td><a class=\"ProveItLink\" href=\"../../../../../logic/set_theory/membership/__pv_it/088cbc857536a28d4119ad9639a84270ccb0545d0/expr.ipynb\"><img src=\"data:image/png;base64,iVBORw0KGgoAAAANSUhEUgAAAAwAAAAMBAMAAACkW0HUAAAALVBMVEX///+qqqpmZmZUVFQQEBC6\n",
       "urpERETc3NyYmJjMzMwiIiIyMjKIiIju7u4AAACYsrA9AAAAAXRSTlMAQObYZgAAADxJREFUCNdj\n",
       "YOA9vWrVBgaG2b0MQMCeCyIZ2ArA1DUwyRCyahVIyWQI7xaEYm4AU7xLIdxqTQgtvGvVBgCkcQ7e\n",
       "geM/tQAAAABJRU5ErkJggg==\n",
       "\" style=\"display:inline;vertical-align:middle;\" /></a></td></tr>\n",
       "<tr><td>8</td><td>ExprTuple</td><td>9, 10</td><td><a class=\"ProveItLink\" href=\"../c91e63d4935bca4fa8e17a63018b68c512dd970c0/expr.ipynb\"><img src=\"data:image/png;base64,iVBORw0KGgoAAAANSUhEUgAAADAAAAAVBAMAAADyTXAxAAAAMFBMVEX////c3NwiIiJERESqqqqY\n",
       "mJh2dnZmZmYQEBDu7u4yMjJUVFTMzMyIiIi6uroAAAAs73DqAAAAAXRSTlMAQObYZgAAARxJREFU\n",
       "KM9jYMAJ+C5girE+ABKnkQQ41xuvZGDXV2GoAXJWIitlDjjMwMDPwMDFwMCLYhK3DpDPATQrgYFj\n",
       "AorEqwl7QBKcDQyvUGzlPrNh1gSgBIMJQxmQFLstch1iIvcBXx4DkEQ6w1KgvgRWVQ4FqAT7g1iQ\n",
       "hBdDHwMDGwPvB5YDUAmGndwngIwXDP+AOhi4DWB2HGCYzbkCyDgPkmBg4LiAkOBJOAGWaAHx5Q8w\n",
       "TIBJMIQwg40yBfpG4D4D7wSwFEiCTRjIiAK6i8E/wIJBloHzEyhIQKFXBXbuIwaGydem5QYwcPYL\n",
       "MPCtbwYKzgLidQwcAvDwF0AK5gZQcMEiASlo2C4gBTuyBMg0aRgHOfw3AjEjlqjlPcAAAA39QHDb\n",
       "h8r+AAAAAElFTkSuQmCC\n",
       "\" style=\"display:inline;vertical-align:middle;\" /></a></td></tr>\n",
       "<tr><td>9</td><td>Variable</td><td></td><td><a class=\"ProveItLink\" href=\"../../../../../__pv_it/530be409e3083890784cf1d7b28c9e67e90af9360/expr.ipynb\"><img src=\"data:image/png;base64,iVBORw0KGgoAAAANSUhEUgAAAAsAAAAJBAMAAAAWSsseAAAAKlBMVEX///9ERETMzMwQEBAiIiKY\n",
       "mJju7u5mZmaqqqpUVFSIiIh2dnbc3NwAAAA/vyDhAAAAAXRSTlMAQObYZgAAAENJREFUCNdjYDi9\n",
       "8sTyBQxsG1hdmR0YuBm4LnAoMLAxcAowgADzAjB1VoEhgYH1wFoGrgSG3gBhhlMMDImrs3cFMAAA\n",
       "t0YN+iTRa+sAAAAASUVORK5CYII=\n",
       "\" style=\"display:inline;vertical-align:middle;\" /></a></td></tr>\n",
       "<tr><td>10</td><td>Literal</td><td></td><td><a class=\"ProveItLink\" href=\"../e5d9bd86b06b357eee742ad868997123619e09700/expr.ipynb\"><img src=\"data:image/png;base64,iVBORw0KGgoAAAANSUhEUgAAAA8AAAAOBAMAAAACpFvcAAAAMFBMVEX////c3Nx2dna6uroQEBCI\n",
       "iIhUVFTMzMyYmJiqqqoiIiJmZmZEREQyMjLu7u4AAADjlg78AAAAAXRSTlMAQObYZgAAAGBJREFU\n",
       "CNdjePvn7AOGXb8mMDCcYD/AwPCBgYEhqyCUgcEByEi+x1YAZqSX8d2DMDgDaiAMhs0cARAG24N0\n",
       "CIMv4S2EwVDEDmVwTDgAYTAoghiHgZj7AgOD7Rcgj+8CAwA9oh2B0HK+MAAAAABJRU5ErkJggg==\n",
       "\" style=\"display:inline;vertical-align:middle;\" /></a></td></tr>\n",
       "</table>\n"
      ],
      "text/plain": [
       "0. forall_{x} ((x in Naturals) in BOOLEANS)\n",
       "   core type: Operation\n",
       "   operator: 1\n",
       "   operand: 2\n",
       "1. forall\n",
       "   core type: Literal\n",
       "   sub-expressions: \n",
       "2. x -> ((x in Naturals) in BOOLEANS)\n",
       "   core type: Lambda\n",
       "   parameter: 9\n",
       "   body: 3\n",
       "3. (x in Naturals) in BOOLEANS\n",
       "   core type: Operation\n",
       "   operator: 7\n",
       "   operands: 4\n",
       "4. (x in Naturals , BOOLEANS)\n",
       "   core type: ExprTuple\n",
       "   sub-expressions: 5, 6\n",
       "5. x in Naturals\n",
       "   core type: Operation\n",
       "   operator: 7\n",
       "   operands: 8\n",
       "6. BOOLEANS\n",
       "   core type: Literal\n",
       "   sub-expressions: \n",
       "7. in\n",
       "   core type: Literal\n",
       "   sub-expressions: \n",
       "8. (x , Naturals)\n",
       "   core type: ExprTuple\n",
       "   sub-expressions: 9, 10\n",
       "9. x\n",
       "   core type: Variable\n",
       "   sub-expressions: \n",
       "10. Naturals\n",
       "    core type: Literal\n",
       "    sub-expressions: "
      ]
     },
     "execution_count": 3,
     "metadata": {},
     "output_type": "execute_result"
    }
   ],
   "source": [
    "# display the expression information\n",
    "xInNatsInBool.exprInfo()"
   ]
  },
  {
   "cell_type": "code",
   "execution_count": null,
   "metadata": {},
   "outputs": [],
   "source": []
  }
 ],
 "metadata": {
  "kernelspec": {
   "display_name": "Python 3",
   "language": "python",
   "name": "python3"
  }
 },
 "nbformat": 4,
 "nbformat_minor": 0
}
