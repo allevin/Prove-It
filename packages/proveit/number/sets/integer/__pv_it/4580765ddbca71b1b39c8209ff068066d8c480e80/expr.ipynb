{
 "cells": [
  {
   "cell_type": "markdown",
   "metadata": {},
   "source": [
    "Expression of type <a class=\"ProveItLink\" href=\"../../../../../../../doc/html/api/proveit.Lambda.html\">Lambda</a>\n",
    "=======================\n",
    "# from context <a class=\"ProveItLink\" href=\"../../_context_.ipynb\">proveit.number.sets.integer</a>"
   ]
  },
  {
   "cell_type": "code",
   "execution_count": 1,
   "metadata": {},
   "outputs": [],
   "source": [
    "# import Expression classes needed to build the expression\n",
    "from proveit import Lambda\n",
    "from proveit._common_ import n\n",
    "from proveit.logic import InSet\n",
    "from proveit.number import Add, Naturals, one"
   ]
  },
  {
   "cell_type": "code",
   "execution_count": 2,
   "metadata": {},
   "outputs": [
    {
     "data": {
      "text/html": [
       "<strong id=\"expr\">expr:</strong> <a class=\"ProveItLink\" href=\"expr.ipynb\"><img src=\"data:image/png;base64,iVBORw0KGgoAAAANSUhEUgAAAPEAAAAVCAMAAACgwPivAAAANlBMVEX///8UFBQNDQ0QEBCYmJhm\n",
       "ZmaqqqoiIiLMzMzu7u4yMjJ2dnZUVFTc3NxERESIiIi6uroAAAAna2R4AAAAAXRSTlMAQObYZgAA\n",
       "AkZJREFUWMPVV9mO5CAMZIb7hv//2Q3ppoNj0sBEirS8VBSVj+IwmJD/bgj/dMQUIa4Mlu7zbXpY\n",
       "sHIQJ0fQO3D1laVNDsEUKpdZii5/VTHyuTqMhjgXNeRqNpoZRlTYv/IFf32Nzz7XRowQ+wLhUdPO\n",
       "uaqY2e/+nVRv3/SCv6747HNtUA2xX1zQdMSqWMOgOhq5jWMlXdo2j1Of7DRdVjz0uVa2DMRlxSS0\n",
       "J0kZdpo5p7YCocuRoR3+jOKhzxSD9zG6Y/dAMQJE5BYgNh4qtvz46wPaKdtSbNbl2FHMR4o78cc+\n",
       "LXFmS1DnT1WUJ37rwTCA2HioWDQTGvDVWjYfT4TFqliYL4o78Yc+UyKy1DGd04Vi7RofNLXYMR4q\n",
       "TrSp4KSbXZlkpyjiI8Wd+GOf+k0Xn5TI748EgzZ66ucLO8ZDxeq4IRKtIQzMTpdjRxEfKe7En/H5\n",
       "oruDIM9T1CwgVIyNuSlD0h3cQHHvEbNnR5QlakJxJ/kZn3ynZ0Z0XzFvDwYVEJHx0q6WV9kRJkgY\n",
       "7+pO/BmftBQ6tmVku4pVPD1fACLjoWLWVCLHrrIj1gfMx4px/LFPv29QG4io9Q6mC09ovSveiI2X\n",
       "bict0d0aEli9we3UiT/2+do1PsSpN3aSAC+Mz4o5p9nw1+SbNiFvYKuQTKahNgAE89F93Ik/4XPt\n",
       "lekhTr65jmU9HUvhDKirI/7Mu3rkc7FjtRMdwZfW2S521Zj/eH/8p26xaVZv8x9X7B3ExcbN3+Y/\n",
       "rpj4CHGpu1b3+fGe4n/2VCB3ZHGj+wAAAABJRU5ErkJggg==\n",
       "\" style=\"display:inline;vertical-align:middle;\" /></a><br>"
      ],
      "text/plain": [
       "expr: n -> ((n + 1) in Naturals) | n in Naturals"
      ]
     },
     "execution_count": 2,
     "metadata": {},
     "output_type": "execute_result"
    }
   ],
   "source": [
    "# build up the expression from sub-expressions\n",
    "expr = Lambda(n, InSet(Add(n, one), Naturals), conditions = [InSet(n, Naturals)])"
   ]
  },
  {
   "cell_type": "code",
   "execution_count": 3,
   "metadata": {},
   "outputs": [
    {
     "name": "stdout",
     "output_type": "stream",
     "text": [
      "Passed sanity check: built 'expr' is the same as the stored Expression.\n"
     ]
    }
   ],
   "source": [
    "# check that the built expression is the same as the stored expression\n",
    "%check_expr"
   ]
  },
  {
   "cell_type": "code",
   "execution_count": 4,
   "metadata": {},
   "outputs": [
    {
     "data": {
      "text/html": [
       "<table><tr><th>&nbsp;</th><th>core type</th><th>sub-expressions</th><th>expression</th></tr>\n",
       "<tr><td>0</td><td>Lambda</td><td>parameter:&nbsp;11<br>body:&nbsp;1<br>conditions:&nbsp;2<br></td><td><a class=\"ProveItLink\" href=\"expr.ipynb\"><img src=\"data:image/png;base64,iVBORw0KGgoAAAANSUhEUgAAAPEAAAAVCAMAAACgwPivAAAANlBMVEX///8UFBQNDQ0QEBCYmJhm\n",
       "ZmaqqqoiIiLMzMzu7u4yMjJ2dnZUVFTc3NxERESIiIi6uroAAAAna2R4AAAAAXRSTlMAQObYZgAA\n",
       "AkZJREFUWMPVV9mO5CAMZIb7hv//2Q3ppoNj0sBEirS8VBSVj+IwmJD/bgj/dMQUIa4Mlu7zbXpY\n",
       "sHIQJ0fQO3D1laVNDsEUKpdZii5/VTHyuTqMhjgXNeRqNpoZRlTYv/IFf32Nzz7XRowQ+wLhUdPO\n",
       "uaqY2e/+nVRv3/SCv6747HNtUA2xX1zQdMSqWMOgOhq5jWMlXdo2j1Of7DRdVjz0uVa2DMRlxSS0\n",
       "J0kZdpo5p7YCocuRoR3+jOKhzxSD9zG6Y/dAMQJE5BYgNh4qtvz46wPaKdtSbNbl2FHMR4o78cc+\n",
       "LXFmS1DnT1WUJ37rwTCA2HioWDQTGvDVWjYfT4TFqliYL4o78Yc+UyKy1DGd04Vi7RofNLXYMR4q\n",
       "TrSp4KSbXZlkpyjiI8Wd+GOf+k0Xn5TI748EgzZ66ucLO8ZDxeq4IRKtIQzMTpdjRxEfKe7En/H5\n",
       "oruDIM9T1CwgVIyNuSlD0h3cQHHvEbNnR5QlakJxJ/kZn3ynZ0Z0XzFvDwYVEJHx0q6WV9kRJkgY\n",
       "7+pO/BmftBQ6tmVku4pVPD1fACLjoWLWVCLHrrIj1gfMx4px/LFPv29QG4io9Q6mC09ovSveiI2X\n",
       "bict0d0aEli9we3UiT/2+do1PsSpN3aSAC+Mz4o5p9nw1+SbNiFvYKuQTKahNgAE89F93Ik/4XPt\n",
       "lekhTr65jmU9HUvhDKirI/7Mu3rkc7FjtRMdwZfW2S521Zj/eH/8p26xaVZv8x9X7B3ExcbN3+Y/\n",
       "rpj4CHGpu1b3+fGe4n/2VCB3ZHGj+wAAAABJRU5ErkJggg==\n",
       "\" style=\"display:inline;vertical-align:middle;\" /></a></td></tr>\n",
       "<tr><td>1</td><td>Operation</td><td>operator:&nbsp;6<br>operands:&nbsp;3<br></td><td><a class=\"ProveItLink\" href=\"../01cb033d0627530a5164b18d38e486412388cfb80/expr.ipynb\"><img src=\"data:image/png;base64,iVBORw0KGgoAAAANSUhEUgAAAGcAAAAVBAMAAACphe0AAAAAMFBMVEX////c3NwiIiJERESqqqqY\n",
       "mJh2dnZmZmYQEBDu7u4yMjJUVFTMzMyIiIi6uroAAAAs73DqAAAAAXRSTlMAQObYZgAAAX1JREFU\n",
       "OMudkzFIw0AUhv9oExubiuLoIp3EKYJdBDWzKDo76eTuoCAiRcRRo2NBKkIpiShV0KEGDQguHSw4\n",
       "F4uTFBRRBF2KL9c0JOFuMRD4816+u3f/vQf86+mriTJyQwhV+eFuE9iMxfJfEyZWPw3A4jLqNEG9\n",
       "8WhW04EPIB2t7sBnbu4Ikpdi0KVbB3JA0oyE5zrimeJqrq2PTjKjTNxaKdeDmhBDGGdSK3YWdqqq\n",
       "5UFr5N/TQP2aC60wORgU4yRq9x5UBJTUGQouD5phciyow8GWXCNoD3jv0lFo8KBXZooeglKmQ1AL\n",
       "MImYN3nQI7v97UzGN8KBWs63IY+oeLEN2x6x7dMYpJVDO+FBI2jH+xn4VsXlDYch2aBqs6R3If8q\n",
       "PGiRyaswhGWduSq1oOizYssPg8adorfnGHihk+YgTRpRaH2/tACcMy2V/Pto/tAuKkHJfn5HsNP4\n",
       "bZSo+O4FQxNtyrfwhyIcNUs8n3lhZkgMXQgzkrCGtCtI/AG2mXCko5W41gAAAABJRU5ErkJggg==\n",
       "\" style=\"display:inline;vertical-align:middle;\" /></a></td></tr>\n",
       "<tr><td>2</td><td>ExprTuple</td><td>4</td><td><a class=\"ProveItLink\" href=\"../802037ca7e760f9f476e5a8ae423dcba7faff3200/expr.ipynb\"><img src=\"data:image/png;base64,iVBORw0KGgoAAAANSUhEUgAAAEEAAAAVBAMAAADrxp6XAAAAMFBMVEX////c3NwiIiJERESqqqqY\n",
       "mJh2dnZmZmYQEBDu7u4yMjJUVFTMzMyIiIi6uroAAAAs73DqAAAAAXRSTlMAQObYZgAAAUxJREFU\n",
       "KM9jYCAM+C7gkYwDEaexycz6bDWBoeiTA/sBIGclVs2mPAYMDB8YGBYwMPBit2TTgbsMDA0MDGEM\n",
       "DBwTkCU4bykpLQAx9q3kPgBSMYOB4RWK1lORUMae05wrQSqYHRjKgL65LHh3G1ic0RKmdA/LhcMg\n",
       "FWwFDEuBJPdahvkgRzMwC8BVMNSxXgCqYFnA0MfA8I7JgGH+A5D4ZAaECu4Je4Aq+BoY/jEwTABK\n",
       "+4Md/EJJCerSPQycG2YBVfB8AKkASe9iQA29PQwMx3ggKlqA3CoGhq+cIPFJyCpYHQzAtpgCuW0M\n",
       "rD/ZQOLcAUgqGBKBKlgXMKQD/fiPgc3ABxxgejAVdkDMvgDs20dgkxhtHcASUjUQBa9+APVzAlVw\n",
       "PWDgEEAJVO9FEL/AADDUWRPwpp5cnLEPi0mQgdL4VHCD3MCILxXeYWAAACH1U+TBh7V9AAAAAElF\n",
       "TkSuQmCC\n",
       "\" style=\"display:inline;vertical-align:middle;\" /></a></td></tr>\n",
       "<tr><td>3</td><td>ExprTuple</td><td>5, 10</td><td><a class=\"ProveItLink\" href=\"../3fc59885ce121737f725b56b7b2412397f9db4780/expr.ipynb\"><img src=\"data:image/png;base64,iVBORw0KGgoAAAANSUhEUgAAAFUAAAAVBAMAAADFg78FAAAAMFBMVEX////c3NwiIiJERESqqqqY\n",
       "mJh2dnZmZmYQEBDu7u4yMjJUVFTMzMyIiIi6uroAAAAs73DqAAAAAXRSTlMAQObYZgAAAVFJREFU\n",
       "KM+V0zFLw0AUB/B/bK7tmVjq7JfI0kVQ8wEEnRxFJydBHBQcpIM4ONgbpUuDIJKAUBwctGhAcOkS\n",
       "cLVYHDtIqQi6FN8lDSQ2hzXDXd7dL5fHvTvgP08pmIity6adPZcTUV//mBfYHdgFnwI3k/KlkUXF\n",
       "tIA+4AAz6RR4OeruHmJ77XeAKrAGFEXK6vGnr/H4vWv40p4BPfxhW23uSpuzsUc78TzbuVFbPXiU\n",
       "Nr+DC2qNKzR8pcUhC8jqDk6B9ykLja7aGqJFtlTFEBAEV4Ta8madrNmXVsJbOVzwvPMTz2v+sngy\n",
       "I3tE4QHwydXrgtlWmEOFwmOw73yGFSOLTbLMwRagDZG3lsctH8iXRZmcE+7ZW7i6tmCn7X7tcpXX\n",
       "qOC9L1qTk53uoljOrlt4XJNzVGO2oT7NLDmzrTyTY1amgTm1Tf7DkPlok92hF+AH0rZvcBvnBdcA\n",
       "AAAASUVORK5CYII=\n",
       "\" style=\"display:inline;vertical-align:middle;\" /></a></td></tr>\n",
       "<tr><td>4</td><td>Operation</td><td>operator:&nbsp;6<br>operands:&nbsp;7<br></td><td><a class=\"ProveItLink\" href=\"../6fd08b35d78856b7ea3156277c15e40ee659a8580/expr.ipynb\"><img src=\"data:image/png;base64,iVBORw0KGgoAAAANSUhEUgAAADUAAAAPBAMAAAC2KZqIAAAAMFBMVEX///8QEBCYmJhmZmaqqqoi\n",
       "IiLMzMzu7u4yMjJ2dnZUVFTc3NxERESIiIi6uroAAABbPXqjAAAAAXRSTlMAQObYZgAAAN1JREFU\n",
       "GNNjYMAEFX9OFDCYfnVgwAYOsR1gYPiAVYphacJdBgYBFCH2G6GhDSDGunauBDS5DHUoY1kWeztI\n",
       "ju/O7rsrwSLcx2GKlrFcyAHJcXL1MtQngER4NsDlGOyYLgDl3rEeYKh/ABKpYUDIcRUsA8oVACX8\n",
       "C0AiD0NDoW5ZxsC+oALkFqDECrDqLCR9DJlsIDkLBoZP7CCRUmQ5Jgeg9xkkGZi+c4JEuBSQ5Bhm\n",
       "A+W4/zFwHnADez0OJncOiJmBNvMJMHCfhQTrDjOI1IuPQD3sDajh6NUaiiwCANEJOSZMR12MAAAA\n",
       "AElFTkSuQmCC\n",
       "\" style=\"display:inline;vertical-align:middle;\" /></a></td></tr>\n",
       "<tr><td>5</td><td>Operation</td><td>operator:&nbsp;8<br>operands:&nbsp;9<br></td><td><a class=\"ProveItLink\" href=\"../b946c43e057b554aa1f97d0883c5f68ff71f80e80/expr.ipynb\"><img src=\"data:image/png;base64,iVBORw0KGgoAAAANSUhEUgAAAC4AAAAQBAMAAACb51DZAAAAMFBMVEX///8QEBCYmJhmZmaqqqoi\n",
       "IiLMzMzu7u4yMjJ2dnZUVFTc3NxERESIiIi6uroAAABbPXqjAAAAAXRSTlMAQObYZgAAAHdJREFU\n",
       "GNNjYMAGjmMVZaj5jsqvhlBVq9DEfaE0Lx5xvju7767EIs7J1ctQn4Ap/o71AEP9A0zxAqCgfwEW\n",
       "e4GCK0Aci46OwI6OLri4BQPDJ3Ys6iUZmL5zYopz/2PgPOCGxf0CDNxnHVDEmQ1/GGH1Lzp4i2AC\n",
       "AAL3KRFAMapqAAAAAElFTkSuQmCC\n",
       "\" style=\"display:inline;vertical-align:middle;\" /></a></td></tr>\n",
       "<tr><td>6</td><td>Literal</td><td></td><td><a class=\"ProveItLink\" href=\"../../../../../logic/set_theory/membership/__pv_it/088cbc857536a28d4119ad9639a84270ccb0545d0/expr.ipynb\"><img src=\"data:image/png;base64,iVBORw0KGgoAAAANSUhEUgAAAAwAAAAMBAMAAACkW0HUAAAALVBMVEX///+qqqpmZmZUVFQQEBC6\n",
       "urpERETc3NyYmJjMzMwiIiIyMjKIiIju7u4AAACYsrA9AAAAAXRSTlMAQObYZgAAADxJREFUCNdj\n",
       "YOA9vWrVBgaG2b0MQMCeCyIZ2ArA1DUwyRCyahVIyWQI7xaEYm4AU7xLIdxqTQgtvGvVBgCkcQ7e\n",
       "geM/tQAAAABJRU5ErkJggg==\n",
       "\" style=\"display:inline;vertical-align:middle;\" /></a></td></tr>\n",
       "<tr><td>7</td><td>ExprTuple</td><td>11, 10</td><td><a class=\"ProveItLink\" href=\"../608994a850b7086ae814d4225267c7801557afdb0/expr.ipynb\"><img src=\"data:image/png;base64,iVBORw0KGgoAAAANSUhEUgAAADEAAAAVBAMAAAAdjxsPAAAAMFBMVEX////c3NwiIiJERESqqqqY\n",
       "mJh2dnZmZmYQEBDu7u4yMjJUVFTMzMyIiIi6uroAAAAs73DqAAAAAXRSTlMAQObYZgAAAR5JREFU\n",
       "KM910TFLw0AUwPF/tJf2TCxx9ktk6SIo+QCCm6Po5CSIg4ODdBBHzShdmsUhgyAODlIkILh0Cbha\n",
       "KI4OUiqCLsV3sVcSqIEcvPe7vLu8B/8/zXxOcscs/XKm87kWczSO6pkEaWVzyw9hBAksV4vdZQNo\n",
       "wzY04oo8pl5m5Areq0f3+jo1shhxLLd7WRncW6nlT0bcQ65l9W7oZlPhVOUitYQL+FgI6Q6teHFP\n",
       "pNlmArGkt2Ir+rYj4o+MmPSDPQee/T85k/AEvvRMVBQW1VoSnqN+XOKpsCeiEvbBmeCGm3psZEPe\n",
       "elLc+q340lmP9GUg//0t+7XI0pBGMBtHUOqFdEft2kCVu3RQnkJZTEFWbVQeh2cqO/Om/Qq/671N\n",
       "AY/DlZoAAAAASUVORK5CYII=\n",
       "\" style=\"display:inline;vertical-align:middle;\" /></a></td></tr>\n",
       "<tr><td>8</td><td>Literal</td><td></td><td><a class=\"ProveItLink\" href=\"../../../../addition/__pv_it/3e6688136fa3c7aefbebe51301b7c3ebf0b69c440/expr.ipynb\"><img src=\"data:image/png;base64,iVBORw0KGgoAAAANSUhEUgAAAA4AAAAOBAMAAADtZjDiAAAAJFBMVEX///+6urpUVFQQEBAiIiIy\n",
       "MjJmZmaIiIiqqqrc3Nzu7u4AAACgHpL+AAAAAXRSTlMAQObYZgAAAB5JREFUCNdjYGBgWMkAAe2k\n",
       "0Kmhoc6hoUGk6BMHYgAHOwjcado9fwAAAABJRU5ErkJggg==\n",
       "\" style=\"display:inline;vertical-align:middle;\" /></a></td></tr>\n",
       "<tr><td>9</td><td>ExprTuple</td><td>11, 12</td><td><a class=\"ProveItLink\" href=\"../713289cfc951db6eb87a9a7ba22620683870a2810/expr.ipynb\"><img src=\"data:image/png;base64,iVBORw0KGgoAAAANSUhEUgAAACsAAAAVBAMAAAAtAwouAAAAMFBMVEX////c3NwiIiJERESqqqqY\n",
       "mJh2dnZmZmYQEBDu7u4yMjJUVFTMzMyIiIi6uroAAAAs73DqAAAAAXRSTlMAQObYZgAAAOFJREFU\n",
       "GNNjYMAB+C6gi8SBiNOoYpYMDOwHgPRKFNHJP4HEAgYGXhQzZu8GCYcxMHBMQFHNCxKewcDwigFT\n",
       "mNmBoQzolsuCd7chC7MVMCwFktxrGeYfQBJmWcDQx8DwjsmAYf4DJGG+BoZ/DAwTgGL+E5CEeT6A\n",
       "hEFiuxhQhVuAVBUDw1dOVENMgVQbA+tPNoYJcGHWBQzpDAyM/xjYDHw4PyE78BFYD6OtA2e/ADCU\n",
       "Kn6VMjBwPWDgEICHMJwF9DxrAozDCg+BXOSAhQtzAgOWQRrGg4cwN8g0RoxIu8PAAABTtzz5enAE\n",
       "fwAAAABJRU5ErkJggg==\n",
       "\" style=\"display:inline;vertical-align:middle;\" /></a></td></tr>\n",
       "<tr><td>10</td><td>Literal</td><td></td><td><a class=\"ProveItLink\" href=\"../e5d9bd86b06b357eee742ad868997123619e09700/expr.ipynb\"><img src=\"data:image/png;base64,iVBORw0KGgoAAAANSUhEUgAAAA8AAAAOBAMAAAACpFvcAAAAMFBMVEX////c3Nx2dna6uroQEBCI\n",
       "iIhUVFTMzMyYmJiqqqoiIiJmZmZEREQyMjLu7u4AAADjlg78AAAAAXRSTlMAQObYZgAAAGBJREFU\n",
       "CNdjePvn7AOGXb8mMDCcYD/AwPCBgYEhqyCUgcEByEi+x1YAZqSX8d2DMDgDaiAMhs0cARAG24N0\n",
       "CIMv4S2EwVDEDmVwTDgAYTAoghiHgZj7AgOD7Rcgj+8CAwA9oh2B0HK+MAAAAABJRU5ErkJggg==\n",
       "\" style=\"display:inline;vertical-align:middle;\" /></a></td></tr>\n",
       "<tr><td>11</td><td>Variable</td><td></td><td><a class=\"ProveItLink\" href=\"../../../../../__pv_it/39dbcd3ca0390345b51c6ef7785756419e2c14390/expr.ipynb\"><img src=\"data:image/png;base64,iVBORw0KGgoAAAANSUhEUgAAAAwAAAAJBAMAAAD0ltBnAAAAMFBMVEX///8QEBCYmJhmZmaqqqoi\n",
       "IiLMzMzu7u4yMjJ2dnZUVFTc3NxERESIiIi6uroAAABbPXqjAAAAAXRSTlMAQObYZgAAAERJREFU\n",
       "CNdj4Luz++5KBgZOrl6G+gSGd6wHGOofMBQAsX8BAwivYGBgsGBg+MTOwCDJwPSdk4H7HwPnATcG\n",
       "PgEG7rMOAGtQEUwHZIDZAAAAAElFTkSuQmCC\n",
       "\" style=\"display:inline;vertical-align:middle;\" /></a></td></tr>\n",
       "<tr><td>12</td><td>Literal</td><td></td><td><a class=\"ProveItLink\" href=\"../../../../numeral/__pv_it/9be8badea4c35b9724062cecc501d17a3158d1d20/expr.ipynb\"><img src=\"data:image/png;base64,iVBORw0KGgoAAAANSUhEUgAAAAgAAAAPBAMAAAArJJMAAAAAHlBMVEX///+YmJgyMjIQEBBmZmaI\n",
       "iIhUVFTu7u5EREQAAAAw+MI4AAAAAXRSTlMAQObYZgAAACFJREFUCNdjYGBoZ2BgqJjOwFCWBiQY\n",
       "WEklWJwnOTKAAACjEQo8HvEr3AAAAABJRU5ErkJggg==\n",
       "\" style=\"display:inline;vertical-align:middle;\" /></a></td></tr>\n",
       "</table>\n"
      ],
      "text/plain": [
       "0. n -> ((n + 1) in Naturals) | n in Naturals\n",
       "   core type: Lambda\n",
       "   parameter: 11\n",
       "   body: 1\n",
       "   conditions: 2\\n1. (n + 1) in Naturals\n",
       "   core type: Operation\n",
       "   operator: 6\n",
       "   operands: 3\n",
       "2. (n in Naturals)\n",
       "   core type: ExprTuple\n",
       "   sub-expressions: 4\n",
       "3. (n + 1 , Naturals)\n",
       "   core type: ExprTuple\n",
       "   sub-expressions: 5, 10\n",
       "4. n in Naturals\n",
       "   core type: Operation\n",
       "   operator: 6\n",
       "   operands: 7\n",
       "5. n + 1\n",
       "   core type: Operation\n",
       "   operator: 8\n",
       "   operands: 9\n",
       "6. in\n",
       "   core type: Literal\n",
       "   sub-expressions: \n",
       "7. (n , Naturals)\n",
       "   core type: ExprTuple\n",
       "   sub-expressions: 11, 10\n",
       "8. +\n",
       "   core type: Literal\n",
       "   sub-expressions: \n",
       "9. (n , 1)\n",
       "   core type: ExprTuple\n",
       "   sub-expressions: 11, 12\n",
       "10. Naturals\n",
       "    core type: Literal\n",
       "    sub-expressions: \n",
       "11. n\n",
       "    core type: Variable\n",
       "    sub-expressions: \n",
       "12. 1\n",
       "    core type: Literal\n",
       "    sub-expressions: "
      ]
     },
     "execution_count": 4,
     "metadata": {},
     "output_type": "execute_result"
    }
   ],
   "source": [
    "# display the expression information\n",
    "expr.exprInfo()"
   ]
  },
  {
   "cell_type": "code",
   "execution_count": null,
   "metadata": {},
   "outputs": [],
   "source": []
  }
 ],
 "metadata": {
  "kernelspec": {
   "display_name": "Python 3",
   "language": "python",
   "name": "python3"
  }
 },
 "nbformat": 4,
 "nbformat_minor": 0
}
