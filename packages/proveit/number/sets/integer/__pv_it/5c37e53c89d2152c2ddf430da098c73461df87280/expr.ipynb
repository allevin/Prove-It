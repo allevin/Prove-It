{
 "cells": [
  {
   "cell_type": "markdown",
   "metadata": {},
   "source": [
    "Expression of type <a class=\"ProveItLink\" href=\"../../../../../../../doc/html/api/proveit.ExprTuple.html\">ExprTuple</a>\n",
    "=======================\n",
    "# from context <a class=\"ProveItLink\" href=\"../../_context_.ipynb\">proveit.number.sets.integer</a>"
   ]
  },
  {
   "cell_type": "code",
   "execution_count": 1,
   "metadata": {},
   "outputs": [],
   "source": [
    "# import Expression classes needed to build the expression\n",
    "from proveit import ExprTuple\n",
    "from proveit._common_ import a\n",
    "from proveit.logic import InSet\n",
    "from proveit.number import Greater, Integers, zero"
   ]
  },
  {
   "cell_type": "code",
   "execution_count": 2,
   "metadata": {},
   "outputs": [
    {
     "data": {
      "text/html": [
       "<strong id=\"expr\">expr:</strong> <a class=\"ProveItLink\" href=\"expr.ipynb\"><img src=\"data:image/png;base64,iVBORw0KGgoAAAANSUhEUgAAAHkAAAAVBAMAAACQ4lxbAAAAMFBMVEX////c3NwiIiJERESqqqqY\n",
       "mJh2dnZmZmYQEBDu7u4yMjJUVFTMzMyIiIi6uroAAAAs73DqAAAAAXRSTlMAQObYZgAAAdlJREFU\n",
       "OMulVD1Iw0AYfbFtbNpag6MdlC5CFamIiOIQHHVocBAclFIFdVCcBEFBUTeRYgfdGgWhbjoqCAE3\n",
       "HSwu4g+l6qC4WAd/JvXuTC6xtEH0G8J39+59976fC/A/C2b/SByin5NSSPdnJBNZLkuU5s51VOrE\n",
       "2ykFX87Ah2hZdkVeagI0oKqk8GlgRMz/3Avp3D0j8YF+wJu0K7oMhzXq7EPYLU4p0MrDNQJPMjaA\n",
       "R/uB4wHuupIdxYKEA8Xw3oBTBS6FaoRwOLnAYBth0KOaJAMl0hLfe8IrYWchTmGbrB5kV4HdJ1s5\n",
       "RFOma6J092ycs+Nwa1glixdUsvqmrKv9+p55tYky65ux2MF5fJCTBVSwyj+Ew0bVcB+Mm3FMlNnJ\n",
       "pqU8UKDs6ijSetHgaD5AZIlwlNpdF6+aStlLQF0WMdDGrXGyqEySmWAuR4n17PGOxWSqvA1IKzhw\n",
       "0/B+lU9GYBcYgwQbSpIet6YlAXg0jAI+1d0gspI2m+wWVxLrw0jX29HEBZ9URVoB7dgtbWjuKMd2\n",
       "a2eNd7eYae18b8fGsw2tUa1+Tl8RNb48vLJ9nHq3jJobduP0RMmkeuJOB1QncKLcC/0NW6IqQw4H\n",
       "qpwi+2nOwl//TNfAFzvLfwYxOcfbAAAAAElFTkSuQmCC\n",
       "\" style=\"display:inline;vertical-align:middle;\" /></a><br>"
      ],
      "text/plain": [
       "expr: (a in Integers , a > 0)"
      ]
     },
     "execution_count": 2,
     "metadata": {},
     "output_type": "execute_result"
    }
   ],
   "source": [
    "# build up the expression from sub-expressions\n",
    "expr = ExprTuple(InSet(a, Integers), Greater(a, zero))"
   ]
  },
  {
   "cell_type": "code",
   "execution_count": 3,
   "metadata": {},
   "outputs": [
    {
     "name": "stdout",
     "output_type": "stream",
     "text": [
      "Passed sanity check: built 'expr' is the same as the stored Expression.\n"
     ]
    }
   ],
   "source": [
    "# check that the built expression is the same as the stored expression\n",
    "%check_expr"
   ]
  },
  {
   "cell_type": "code",
   "execution_count": 4,
   "metadata": {},
   "outputs": [
    {
     "data": {
      "text/html": [
       "<table><tr><th>&nbsp;</th><th>core type</th><th>sub-expressions</th><th>expression</th></tr>\n",
       "<tr><td>0</td><td>ExprTuple</td><td>1, 2</td><td><a class=\"ProveItLink\" href=\"expr.ipynb\"><img src=\"data:image/png;base64,iVBORw0KGgoAAAANSUhEUgAAAHkAAAAVBAMAAACQ4lxbAAAAMFBMVEX////c3NwiIiJERESqqqqY\n",
       "mJh2dnZmZmYQEBDu7u4yMjJUVFTMzMyIiIi6uroAAAAs73DqAAAAAXRSTlMAQObYZgAAAdlJREFU\n",
       "OMulVD1Iw0AYfbFtbNpag6MdlC5CFamIiOIQHHVocBAclFIFdVCcBEFBUTeRYgfdGgWhbjoqCAE3\n",
       "HSwu4g+l6qC4WAd/JvXuTC6xtEH0G8J39+59976fC/A/C2b/SByin5NSSPdnJBNZLkuU5s51VOrE\n",
       "2ykFX87Ah2hZdkVeagI0oKqk8GlgRMz/3Avp3D0j8YF+wJu0K7oMhzXq7EPYLU4p0MrDNQJPMjaA\n",
       "R/uB4wHuupIdxYKEA8Xw3oBTBS6FaoRwOLnAYBth0KOaJAMl0hLfe8IrYWchTmGbrB5kV4HdJ1s5\n",
       "RFOma6J092ycs+Nwa1glixdUsvqmrKv9+p55tYky65ux2MF5fJCTBVSwyj+Ew0bVcB+Mm3FMlNnJ\n",
       "pqU8UKDs6ijSetHgaD5AZIlwlNpdF6+aStlLQF0WMdDGrXGyqEySmWAuR4n17PGOxWSqvA1IKzhw\n",
       "0/B+lU9GYBcYgwQbSpIet6YlAXg0jAI+1d0gspI2m+wWVxLrw0jX29HEBZ9URVoB7dgtbWjuKMd2\n",
       "a2eNd7eYae18b8fGsw2tUa1+Tl8RNb48vLJ9nHq3jJobduP0RMmkeuJOB1QncKLcC/0NW6IqQw4H\n",
       "qpwi+2nOwl//TNfAFzvLfwYxOcfbAAAAAElFTkSuQmCC\n",
       "\" style=\"display:inline;vertical-align:middle;\" /></a></td></tr>\n",
       "<tr><td>1</td><td>Operation</td><td>operator:&nbsp;3<br>operands:&nbsp;4<br></td><td><a class=\"ProveItLink\" href=\"../01b3f57f6ab80847a4b7589977b22caf36a86d450/expr.ipynb\"><img src=\"data:image/png;base64,iVBORw0KGgoAAAANSUhEUgAAADIAAAAPBAMAAABU9YHxAAAAMFBMVEX///8yMjKqqqrMzMzu7u4i\n",
       "IiJmZmaYmJhEREQQEBC6urp2dnaIiIhUVFTc3NwAAAD87Fq/AAAAAXRSTlMAQObYZgAAANpJREFU\n",
       "GNNjYMAATPFfBadKFmBKMPCIOTAIcGCRYGDbwMCtsAtZxEc0NBBE8zowvGW+gCTBLO4AZ7dwgNh8\n",
       "d3bNA/FeICTYD5SDqJUPOD6A6D6Edg+WBpCW7wxsIBrMgYLLvA9A9n1gYD0ApLmmhoZCXMDAlbAa\n",
       "RPE3MPgbgByAcA0jgwADwz6G9wcY9BmAlrMEwGU2cS9gYAhg8FdguMgE0nQdJsF3wZaBgXsCA2MB\n",
       "Uxg3SMB1AVSG40ELA0t2A9A7pyxOgZWKGUBkVjbO6JCfkYAcxhehboMAAOemMLNTwnkhAAAAAElF\n",
       "TkSuQmCC\n",
       "\" style=\"display:inline;vertical-align:middle;\" /></a></td></tr>\n",
       "<tr><td>2</td><td>Operation</td><td>operator:&nbsp;5<br>operands:&nbsp;6<br></td><td><a class=\"ProveItLink\" href=\"../3fee3f8941aa0c6ba4074ab219fba945f6d80f400/expr.ipynb\"><img src=\"data:image/png;base64,iVBORw0KGgoAAAANSUhEUgAAADEAAAAOBAMAAAB0nulXAAAAMFBMVEX///8yMjKqqqrMzMzu7u4i\n",
       "IiJmZmaYmJhEREQQEBC6urp2dnaIiIhUVFTc3NwAAAD87Fq/AAAAAXRSTlMAQObYZgAAALVJREFU\n",
       "GNNjYMACWHKOGTBgBawLWIKRuG8Ryo4yMBxEkmHuWABjxjIwrH+AJMV3UQHK+sbAYA9k893ZNQ9q\n",
       "8dYCiJLfQJkDDAwrH3B8gLnp6Ba4zAYGvu8MbA1wE0tTEDK8HxhYD8BlbOUQpvE3MPjD3buiGe6C\n",
       "Aob3Bxj0GRwgEor34K7Wf8Dgr8BwkQmiqXQLwqdbGRgYC5jCuCFuPgIPHQWWySDvnLI4BeI+LUCE\n",
       "aPZZAwYAMNozW7yxOncAAAAASUVORK5CYII=\n",
       "\" style=\"display:inline;vertical-align:middle;\" /></a></td></tr>\n",
       "<tr><td>3</td><td>Literal</td><td></td><td><a class=\"ProveItLink\" href=\"../../../../../logic/set_theory/membership/__pv_it/088cbc857536a28d4119ad9639a84270ccb0545d0/expr.ipynb\"><img src=\"data:image/png;base64,iVBORw0KGgoAAAANSUhEUgAAAAwAAAAMBAMAAACkW0HUAAAALVBMVEX///+qqqpmZmZUVFQQEBC6\n",
       "urpERETc3NyYmJjMzMwiIiIyMjKIiIju7u4AAACYsrA9AAAAAXRSTlMAQObYZgAAADxJREFUCNdj\n",
       "YOA9vWrVBgaG2b0MQMCeCyIZ2ArA1DUwyRCyahVIyWQI7xaEYm4AU7xLIdxqTQgtvGvVBgCkcQ7e\n",
       "geM/tQAAAABJRU5ErkJggg==\n",
       "\" style=\"display:inline;vertical-align:middle;\" /></a></td></tr>\n",
       "<tr><td>4</td><td>ExprTuple</td><td>8, 7</td><td><a class=\"ProveItLink\" href=\"../f55b49253e0029eb481714eaf47fbcf12f16a3380/expr.ipynb\"><img src=\"data:image/png;base64,iVBORw0KGgoAAAANSUhEUgAAAC4AAAAVBAMAAADLKsFqAAAAMFBMVEX////c3NwiIiJERESqqqqY\n",
       "mJh2dnZmZmYQEBDu7u4yMjJUVFTMzMyIiIi6uroAAAAs73DqAAAAAXRSTlMAQObYZgAAAR5JREFU\n",
       "GNNjYMAF+C5gCLE+ABKnkQRY9D+taloRwFADZK9EEuddPoFhATMDAxeQiWwMewIDm0Me0KAEBo4J\n",
       "SOLcExikeTYwMHA2MLxCs9OSGaTQhKEMSDLuzWuEOeVCKIhKZ1gKJF8IMH+Aik/mNABRXgx9QOVf\n",
       "GdgNoOJ7uAVA1AuGf0DbPjAwQV3FV/AMTJ8HifMbMMw/ABHnYljAwJAIEm9hYJC/wODPAHFuChsw\n",
       "CBRA5pgyMMx3YNjFcoAT5LANwFBha2BgiAK6iIErgEWdjWE+UBmzgCUDZ5kByJ2PQM6/d/gew4yP\n",
       "QO1WzcbrmwsYGNYxcAjAfPoQ4WlgOACDCAoCEOJsF5DCGUl8FhBLw8IeKfA2gtyGGY+8BxgAz2FB\n",
       "pcJZQS4AAAAASUVORK5CYII=\n",
       "\" style=\"display:inline;vertical-align:middle;\" /></a></td></tr>\n",
       "<tr><td>5</td><td>Literal</td><td></td><td><a class=\"ProveItLink\" href=\"../../../../ordering/__pv_it/fed4085ae483b560677c9d938187885e1d910a490/expr.ipynb\"><img src=\"data:image/png;base64,iVBORw0KGgoAAAANSUhEUgAAAA4AAAAMBAMAAACgrpHpAAAALVBMVEX///9mZmaIiIiYmJgiIiJ2\n",
       "dnbu7u6qqqoyMjK6urpERETMzMxUVFTc3NwAAADHHImEAAAAAXRSTlMAQObYZgAAADlJREFUCNdj\n",
       "uLOBAQy4V02AMHhPFEAYbCEGUIZKGITBYCIGoff0gqlZq8FUxVmIZBhElxqYdwWiGQBNjQtMyuln\n",
       "xAAAAABJRU5ErkJggg==\n",
       "\" style=\"display:inline;vertical-align:middle;\" /></a></td></tr>\n",
       "<tr><td>6</td><td>ExprTuple</td><td>8, 9</td><td><a class=\"ProveItLink\" href=\"../0fd9d36c4b3c7aeb3d44da3149e6af22e27515840/expr.ipynb\"><img src=\"data:image/png;base64,iVBORw0KGgoAAAANSUhEUgAAACsAAAAVBAMAAAAtAwouAAAAMFBMVEX////c3NwiIiJERESqqqqY\n",
       "mJh2dnZmZmYQEBDu7u4yMjJUVFTMzMyIiIi6uroAAAAs73DqAAAAAXRSTlMAQObYZgAAAQdJREFU\n",
       "GNN1kT1PAkEURc/C8jEguL2FdhZa0NDvP2ArS0NorCRUdCaaWBJDSbfbWPgXTEw2oaRgY2OihgAV\n",
       "oXEt1M44z7DLoGGKl7knk/vefQNbTjX6S06ljEyiLp5CCqG+3Zk4M1XHEEBlw+MRnuEEin0TH8Gb\n",
       "wwCWG92+YOySdelqYT20r36p9alxRL7DrVYLJxuvcRM74EaLDwo1E1cv+YZyTCYyTXZiwbs1/HDd\n",
       "0hN8DfsRDfrJgA1HTOrgu9zboVrFaUEu4AxKnn2Yxz+Q8K7qIQPOZezJcMLgXVbVfdFdSlOKTpJw\n",
       "lmbV4XPNRHgpPjcXm2KlF8veSlTSx2Xxtf592iv8AGmYRIg8+9vnAAAAAElFTkSuQmCC\n",
       "\" style=\"display:inline;vertical-align:middle;\" /></a></td></tr>\n",
       "<tr><td>7</td><td>Literal</td><td></td><td><a class=\"ProveItLink\" href=\"../7b9e51516f347f625fa636d7bb440e96498977000/expr.ipynb\"><img src=\"data:image/png;base64,iVBORw0KGgoAAAANSUhEUgAAAA4AAAAOBAMAAADtZjDiAAAAMFBMVEX////MzMzc3NxUVFS6urp2\n",
       "dnZERETu7u5mZmaIiIiYmJgQEBAyMjIiIiKqqqoAAAAf68ZqAAAAAXRSTlMAQObYZgAAAGlJREFU\n",
       "CNdj4Lv/98ze0wsYOE8UMBxgY2DgCGBgfRDCwMBcwKDMaMAAAulsBSCKa8IqMLeMPQFMGzIrgCiW\n",
       "Blcwl4fhAANDEANDHKsDA8MFBiYDYQYG1g0MbArpDOytCQzeOdvSzm9rAAAm6xY1AUf+1AAAAABJ\n",
       "RU5ErkJggg==\n",
       "\" style=\"display:inline;vertical-align:middle;\" /></a></td></tr>\n",
       "<tr><td>8</td><td>Variable</td><td></td><td><a class=\"ProveItLink\" href=\"../../../../../__pv_it/07527342713064c87612d00d8557c53d53d5324a0/expr.ipynb\"><img src=\"data:image/png;base64,iVBORw0KGgoAAAANSUhEUgAAAAsAAAAJBAMAAAAWSsseAAAAMFBMVEX///8yMjKqqqrMzMzu7u4i\n",
       "IiJmZmaYmJhEREQQEBC6urp2dnaIiIhUVFTc3NwAAAD87Fq/AAAAAXRSTlMAQObYZgAAAEhJREFU\n",
       "CNdjYOC7s2seAwPDygccHxgY+L4zsDUwMPB+YGA9wMDA38Dgb8DA8P4Agz6DA4O/AsNFJgMGxgKm\n",
       "MG6gyjunLE4xAAAZTBA5TB6DCwAAAABJRU5ErkJggg==\n",
       "\" style=\"display:inline;vertical-align:middle;\" /></a></td></tr>\n",
       "<tr><td>9</td><td>Literal</td><td></td><td><a class=\"ProveItLink\" href=\"../../../../numeral/__pv_it/ec23fc7a1b4222a5f4948b495002b97d6fa18c3c0/expr.ipynb\"><img src=\"data:image/png;base64,iVBORw0KGgoAAAANSUhEUgAAAAoAAAAOBAMAAADkjZCYAAAALVBMVEX///8QEBCYmJh2dnaqqqrc\n",
       "3NxUVFQyMjK6uroiIiLMzMyIiIhmZmbu7u4AAAAZjyHdAAAAAXRSTlMAQObYZgAAAEpJREFUCNdj\n",
       "YLiz+xQDA8MMhpsLGLgnMHAXMHAmMHA8ZeA7wMD1hCHOgIHrNZh8jES+Bss+AqlkeQrSxTyBgWEK\n",
       "w8UFDAx3rLMYAMCjFldHSx/9AAAAAElFTkSuQmCC\n",
       "\" style=\"display:inline;vertical-align:middle;\" /></a></td></tr>\n",
       "</table>\n"
      ],
      "text/plain": [
       "0. (a in Integers , a > 0)\n",
       "   core type: ExprTuple\n",
       "   sub-expressions: 1, 2\n",
       "1. a in Integers\n",
       "   core type: Operation\n",
       "   operator: 3\n",
       "   operands: 4\n",
       "2. a > 0\n",
       "   core type: Operation\n",
       "   operator: 5\n",
       "   operands: 6\n",
       "3. in\n",
       "   core type: Literal\n",
       "   sub-expressions: \n",
       "4. (a , Integers)\n",
       "   core type: ExprTuple\n",
       "   sub-expressions: 8, 7\n",
       "5. >\n",
       "   core type: Literal\n",
       "   sub-expressions: \n",
       "6. (a , 0)\n",
       "   core type: ExprTuple\n",
       "   sub-expressions: 8, 9\n",
       "7. Integers\n",
       "   core type: Literal\n",
       "   sub-expressions: \n",
       "8. a\n",
       "   core type: Variable\n",
       "   sub-expressions: \n",
       "9. 0\n",
       "   core type: Literal\n",
       "   sub-expressions: "
      ]
     },
     "execution_count": 4,
     "metadata": {},
     "output_type": "execute_result"
    }
   ],
   "source": [
    "# display the expression information\n",
    "expr.exprInfo()"
   ]
  },
  {
   "cell_type": "code",
   "execution_count": null,
   "metadata": {},
   "outputs": [],
   "source": []
  }
 ],
 "metadata": {
  "kernelspec": {
   "display_name": "Python 3",
   "language": "python",
   "name": "python3"
  }
 },
 "nbformat": 4,
 "nbformat_minor": 0
}
