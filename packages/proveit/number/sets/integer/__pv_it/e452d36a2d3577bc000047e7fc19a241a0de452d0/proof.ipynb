{
 "cells": [
  {
   "cell_type": "markdown",
   "metadata": {},
   "source": [
    "Show the Proof\n",
    "========"
   ]
  },
  {
   "cell_type": "code",
   "execution_count": 1,
   "metadata": {},
   "outputs": [
    {
     "data": {
      "text/html": [
       "<table><tr><th>&nbsp;</th><th>step type</th><th>requirements</th><th>statement</th></tr>\n",
       "<tr><td>0</td><td>assumption</td><td></td><td><span style=\"font-size:20px;\"><a class=\"ProveItLink\" href=\"../0734596e0fc97c4b6d73c8238716dd8933f40e2f0/expr.ipynb\"><img src=\"data:image/png;base64,iVBORw0KGgoAAAANSUhEUgAAASUAAAAVCAMAAAA3tAhcAAAAM1BMVEX///+/v7/c3NxERESqqqpU\n",
       "VFS6urrMzMwyMjIQEBCIiIh2dnYiIiLu7u5mZmaYmJgAAAA8KjMYAAAAAXRSTlMAQObYZgAAA+BJ\n",
       "REFUWMPtWNeC5CgM9JJN/v+vXZJMboe7x+Vh8DSpqpCE4DhicdYd/8pcuFIIvo1W1+9MfpjMsZsO\n",
       "Uos//wEsgPoA7hbaur8TOn/wkwAHX8WjSTYrpeX3M1JrrYnz3nVW7NB12FuuGVStnxVsUvWAx5KK\n",
       "KvJaARzOq7dIU0cdjb6bXkQvNThJLIY2ZEaVFOnXeFFgwJuBAReMerLCTAVUusSpKkmZ/SP9vZme\n",
       "ZjclqZtTw7J2VAlhEBC/FEnKvl6Kgvp/KaWg0gjtIZUfKp3ZlJJlM9+sbKTQoTTCIZ9tjSfs5ux9\n",
       "BGszqHRZgiUvVTpNX68KmRSUoNIAbWayprJXieWxPhkC95UOF26EyEozzyvgjjtl/cbHJZ1Cqei3\n",
       "oVv09VuVemgLJmsqe5WsytKqrNK1MsLzNiLvZRO5VOtiJhDSo0qHx7Fo9VIlq/oaKUkRkVY+VamF\n",
       "tmKypjKpdIXxFMSqShcfjFbhwodytZB2p5UbHCstSfl2Lthoq5R0fBFZa20CKqfdceqnKrXQ1quv\n",
       "qIBKriQA/IScIn9MKpl1vEWOnh6CBWu9PxJAYlSJ0WJmW9+yyfzHsMS6WpXUhfCnKjXQNkxWVECl\n",
       "fBBxel7rebb0OHbqUiaKyped5g25nBBRPqiUxJNTkm9kSFUctIftHto96+pIheI3camB9oPJSOVS\n",
       "6cDJitklUwEC0dsd+2yutJmVSvl8a0flJaNCeowLEjNkjElzmWbmnUrJrBpNrIhFn6miNyot89I1\n",
       "lUslCKQUhC3ZeM4EyJUJmPlYMhYCH5rMmpQ2gQaVgrcBzBCBmYzW5prQqk+1uE/AFeG6KpST23zx\n",
       "uMUBu6EyxqVDwVjsjppVqjojndwEIqKFzXHVhEEdYgeVQuykJbiY6DWRt+jwnt5P2VQBBbVD+UYl\n",
       "H6vUQFsw2VHZZwJwZmoSkyvebMG4x1bnLB3PmQDHbRDvVCK2/MTgyOJDXoDoOcUL29Yk+AUOfZB8\n",
       "HJfaTGBmsqPyI6vUsKlKtsE3HFjDpZGGE4tSXHdGsJpRjleLumQTULJ9c52SKBx+N9kr/XTy6bY2\n",
       "WCoT84Xf0dsGsxTlOUiwX0x2VH7dULbJDKFieTIc0zWgwcRGlWrey8MAHi9cdQXSW+IxgjrRm9x7\n",
       "Be0Jk/sbypOb4eZpRN69nHTZoz+UyKkPvahbvEn7ANQvcD9enpT8RGVSyZ3H51eNeiV5oVJwG2KD\n",
       "56RPaLI85E0W/U8vJ4+h7fpP70tG1xsb/aQSRa9U6ttKXNoXAPUJ3B20XX/FhotJNGY4gNGXF115\n",
       "92AntebH9wKgPoCT/FP/AJg1795/AbaNKQfMszvHAAAAAElFTkSuQmCC\n",
       "\" style=\"display:inline;vertical-align:middle;\" /></a> <a class=\"ProveItLink\" href=\"proof.ipynb\" style=\"text-decoration: none\">&#x22A2;&nbsp;</a><a class=\"ProveItLink\" href=\"../a76441f165fc350641149817e87a16b59ca2a4f00/expr.ipynb\"><img src=\"data:image/png;base64,iVBORw0KGgoAAAANSUhEUgAAAQ4AAAAVCAMAAACACfB7AAAAM1BMVEX///+/v7/c3NwiIiJERESq\n",
       "qqqYmJh2dnZmZmYQEBDu7u4yMjJUVFTMzMyIiIi6uroAAABHoQ3jAAAAAXRSTlMAQObYZgAAA41J\n",
       "REFUWMPtWEe23CAQlMkiNNz/tG5ASMRReF6axe+ZT1BV0Umzbf9HNzx82CT8zQKg5s8/APUB3C20\n",
       "+XphaPzgbPyiFYBy91utUkrHA+4WS7/Ra9tbUhnUZZ8NppN5wGNKRUY5TDojKqPp3TlGROVYSJ+7\n",
       "OaJ7OSQ/9+mXcpQNbzYirrLryRNGKlEOgOza6e/NOVYmw9MyIbvzVS8HYUUp9lINgNZO2ZP2q7W2\n",
       "yNFDe0glyrFn50hO6UP1CA2G4qgUIiF7j0sg9d66N6O6k+O8W8VfyrHr1s4GH6SCIkcHbWQyp4KQ\n",
       "fV4U0tW6cOF2RvRY/DHt8lGsIWl9e5VRDiFJGvRtHjWtfStHC23CZE4FISuZxZJZjvMRhI0XQ0KA\n",
       "KrvIOjo0Iqe9HFtgcVD5Ug4lW0skWMJBwVM5amgzJnMqCDlllEuOEzgjs5AOOM4ZXt+dFF1MJDms\n",
       "W55Vrk5JCcJN0txlNaISVGw7fSpHDW3+9BkVhLz7qRx6nvyIsHsoAe3rCI1Iienl8PZwnGVYqOS5\n",
       "ferwjZUJPoJ2T+WooC2YzKgg5OCnweJ3eoyBiwzH3bmKRW4srOvkSCqBGIoCYMkXZR4vsJsPvrER\n",
       "s2VvckcF7QeTnsopx5lKxbZuf445PZMjV5V6V5YjSkH72AXmidY6naWrk1dyJEepyCsTB92TsTdy\n",
       "TBu5OZUYLDnec6HlZ6HVYzHQqmQhMngkP+YM6eTAQCl4MB16iP4jqjxHdzlpqQ9Qpy2FUX8JlklZ\n",
       "W1BBKExsVxsmr6128PCSnlSRW1zeV2TgqpMDE5k9EoCODh8JmgbYHsLQlRygihUkpY4NHstRQZsw\n",
       "WVGJjfRBgPLYjbhK1P7WFM39KxsLrWN1Rm3k4Or4ly+FwnVll9h9iGlVW44uzXANgce5oy60I5MV\n",
       "ldiG0XJNEupMiGWiexOyWCesZZfWxl8tWN9dn3LUQZ9d09HUjDD8v84BFYZ6Q2urGUgdy/HvVKrQ\n",
       "0UxO0BW0GZMVldSkL5sCbs00H29DJ1w93PdyXB2hww0uvlxcT+Ctb13Jg7T2WVc6g/aESdWkP3nd\n",
       "WbzBw90LftNuhU2a3ELYk6Niiz6pgPoF7scvIRI+Uale8F8PbbY3cqDHc4VOnz6WKeWw/1DkH73g\n",
       "P4a2Wp8gE/tJDkteydHOHbljPQqoT+DuoK3WZ8jky4+DcPdLEVDqtu+jgPoADtyn9QjY/wVXiiW8\n",
       "fH3z0wAAAABJRU5ErkJggg==\n",
       "\" style=\"display:inline;vertical-align:middle;\" /></a></span></td></tr>\n",
       "</table>"
      ],
      "text/plain": [
       "<proveit._core_.proof._ShowProof at 0x7f94ebf66cc0>"
      ]
     },
     "execution_count": 1,
     "metadata": {},
     "output_type": "execute_result"
    }
   ],
   "source": [
    "import proveit\n",
    "%show_proof"
   ]
  },
  {
   "cell_type": "code",
   "execution_count": null,
   "metadata": {},
   "outputs": [],
   "source": []
  }
 ],
 "metadata": {
  "kernelspec": {
   "display_name": "Python 3",
   "language": "python",
   "name": "python3"
  }
 },
 "nbformat": 4,
 "nbformat_minor": 0
}
