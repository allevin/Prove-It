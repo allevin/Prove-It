{
 "cells": [
  {
   "cell_type": "markdown",
   "metadata": {},
   "source": [
    "Theorem Dependencies\n",
    "=======================\n",
    "\n",
    "## <a class=\"ProveItLink\" href=\"../../_context_.ipynb\">proveit.number.sets.integer</a>.<a class=\"ProveItLink\" href=\"../../_theorems_.ipynb#inductionLemma\">inductionLemma</a> \n",
    "***see <a class=\"ProveItLink\" href=\"../../_proofs_/inductionLemma.ipynb\">proof</a>***"
   ]
  },
  {
   "cell_type": "code",
   "execution_count": 1,
   "metadata": {},
   "outputs": [],
   "source": [
    "from proveit.number.sets.integer._theorems_ import inductionLemma"
   ]
  },
  {
   "cell_type": "code",
   "execution_count": 2,
   "metadata": {},
   "outputs": [
    {
     "data": {
      "text/html": [
       "<h3>Axioms required (directly or indirectly) to prove inductionLemma</h3>"
      ],
      "text/plain": [
       "<IPython.core.display.HTML object>"
      ]
     },
     "metadata": {},
     "output_type": "display_data"
    },
    {
     "data": {
      "text/html": [
       "<dl>"
      ],
      "text/plain": [
       "<IPython.core.display.HTML object>"
      ]
     },
     "metadata": {},
     "output_type": "display_data"
    },
    {
     "data": {
      "text/html": [
       "<dt><a class=\"ProveItLink\" href=\"../../../../../logic/boolean/_axioms_.ipynb#eqTrueElim\">proveit.logic.boolean.eqTrueElim</a></dt><dd><a class=\"ProveItLink\" href=\"../../../../../logic/boolean/__pv_it/3e7bd867633eab3d515d0929d36506bc9b5772e10/expr.ipynb\"><img src=\"data:image/png;base64,iVBORw0KGgoAAAANSUhEUgAAAGgAAAAWBAMAAADeGsQjAAAAMFBMVEX///8QEBC6urrMzMxUVFRm\n",
       "ZmZERETc3NwyMjKqqqp2dnaIiIiYmJgiIiLu7u4AAAAU9Wx4AAAAAXRSTlMAQObYZgAAAUpJREFU\n",
       "OMtjeMBABrgAIk6ToIEZqGMliNFHgiaODwwMZUCaPYEETWf/ATUCPcU6gXg97FO/MzDwLC8vryXB\n",
       "Im7uT0DyW1raLRI06XH+AZLODAzpYG47mGSCe7gAmx4+BebfQEqFga8BxOX5BBZlg0mfV4AyWNPS\n",
       "xNKyoBwmBvavQIqXgfsAiPv0D4omvvgDCPMRoWvi4vIN5LMDvOBUse4qiiautwHYNAGtlwAZ2WAC\n",
       "jugNaSiarNkSsGjiBOKLIEa6E4hkYYhF0eTAeoHBowMINiBrqgTifhBjKjj5nWTYj6yJZwL3B0yb\n",
       "wEGWD/INI8gsvquhYA5M09vQsH8YmtgTfxQwHPvfCjIUpJi1gMHeAElTOAPzZ4YMDOehAh0GBv4D\n",
       "CE1MQPYfbKGHDJ58Y2D3vwPXxOefwFDy9wABTQjARk5Opp8mFiLUAADNR1FAr8G4iQAAAABJRU5E\n",
       "rkJggg==\n",
       "\" style=\"display:inline;vertical-align:middle;\" /></a></dd>"
      ],
      "text/plain": [
       "<IPython.core.display.HTML object>"
      ]
     },
     "metadata": {},
     "output_type": "display_data"
    },
    {
     "data": {
      "text/html": [
       "<dt><a class=\"ProveItLink\" href=\"../../../../../logic/boolean/_axioms_.ipynb#eqTrueIntro\">proveit.logic.boolean.eqTrueIntro</a></dt><dd><a class=\"ProveItLink\" href=\"../../../../../logic/boolean/__pv_it/d0cb838f1f1e44deadf0499da151f8dae5a0de4f0/expr.ipynb\"><img src=\"data:image/png;base64,iVBORw0KGgoAAAANSUhEUgAAAIwAAAAXBAMAAAArT7qNAAAAMFBMVEX///8QEBC6urrMzMxUVFRm\n",
       "ZmZERETc3NwyMjKqqqp2dnaIiIiYmJgiIiLu7u4AAAAU9Wx4AAAAAXRSTlMAQObYZgAAAaxJREFU\n",
       "OMtjYKAOeEBYCdMG/PI8CgwMF0CM03iVmUAoW3Rx1rtgkMAQzMCwEiTQh9cYqGw/FinmABDJwcBQ\n",
       "BqTYE/CZwg3xE8/9B7iM4VnAwAGUZJ2AzxhGiPbK+AJcxvAJMPAsLy+vxesnDQi1Yb8CLmMYMhkY\n",
       "vqWl3cJrTBQkuh7MP4DTmKUMDM4MDOlgdjtEOUxFO4zRAyYfMdiDw4i1AwwcUIyZwcCgwsDXAA6n\n",
       "T2ARNlhi+AQzRghMKjDUB+B0jSIDAy8DN9i1T/+gGAPlAgHYPGYXF/8EnMbYA+PzAC84KtZdRTEG\n",
       "yoUZA/QrYwM+Y/gawKmUeUMasjEwLhBIgghgkuAVQEm6aJ5iSHcCsVgYYpGNgXGBIAeUQIHGcHzA\n",
       "6ZoTQDwVnK1OMuxHNgbGhcQmwwuQzD98Ec7ACIpIvquh+Q8QxsC5QKALzDHy7Qw8+T8wo4p5AZhq\n",
       "AkUtSD1rAYO9AcIYOBdkTQGhkoRPAMbSYWDgP4AwBs6FZDwCgAtWID35xsDufwduDIJLuBiBhhwa\n",
       "YMMUKiFkjDtRxrATKES5DYgyhhzAQpYuAAUAaqwIkhhoAAAAAElFTkSuQmCC\n",
       "\" style=\"display:inline;vertical-align:middle;\" /></a></dd>"
      ],
      "text/plain": [
       "<IPython.core.display.HTML object>"
      ]
     },
     "metadata": {},
     "output_type": "display_data"
    },
    {
     "data": {
      "text/html": [
       "<dt><a class=\"ProveItLink\" href=\"../../../../../logic/equality/_axioms_.ipynb#equalsSymmetry\">proveit.logic.equality.equalsSymmetry</a></dt><dd><a class=\"ProveItLink\" href=\"../../../../../logic/equality/__pv_it/00337eac3723871d5661da0e358240a663e29ee80/expr.ipynb\"><img src=\"data:image/png;base64,iVBORw0KGgoAAAANSUhEUgAAAN0AAAAWBAMAAAC2xYReAAAAMFBMVEX///8QEBC6urrMzMxUVFRm\n",
       "ZmZERETc3NwyMjKqqqp2dnaIiIiYmJgiIiLu7u4AAAAU9Wx4AAAAAXRSTlMAQObYZgAAAoFJREFU\n",
       "SMe9VjFoFEEU/bd7u5u7vdscppAgyhUWggQVbFJFIkTQRsQiGESrS6HFFmIEUbdQSBFCQK0s3CaI\n",
       "HgkHyoGc6GIjRISrLITA2qTQ5jCghRbOnz+7uZ2dubtGHzzu9r83f/Zm/p85gP+MWCcYLaIO7xWx\n",
       "o4PtyC4+fFQYTgrqYB3PhcxTg+3I5/iwqjCsauIpglxkLB5iZ7zJPpyredltEfXYykU6w+xb9E7W\n",
       "Wl4uxEQ9vuYih4bZGSvPlpbuKOQjgnrY8lsawTA78mej8UUhXyJ66yHck36m0zzzZAGgfF4uiTDV\n",
       "+iFSoB15GmBRMd8KsWz04B0+zy8j7uPXb/ApOghQCqT4WJRqYPHwMhasSIF25GHwVOuwjzhtdaEh\n",
       "SSEb/pAtX03e8nqq9UOkQDuyCm6kmO8HMS604HfuiJjj3daT4uP1VMvYKQXakW5UjfXzwdPY3M2J\n",
       "B7TzCS0DSpHM5wV4ijRnX7HmN9ppD0wKzoPL1+3yNuIzFcwueMl69sULa6kGFg9v88amFMl6wuIs\n",
       "29N4Dt3fx/0T4qWuCz4AWz6lPrg9eMs6Sd52O0q1DCgF2vmQx+wINXg9wt0paAvTuuBFOCZtb+mP\n",
       "XXNain5ggUTLgFIk/QAFrv/i0lk4J0xTgjudK77UT9c2X7zB8q/L/d5NtQwoBdr5kArumFkzqQsm\n",
       "kuL2iQAbI59n+3Vny8beeUaYKQdluOXDhJEUXSXkLHa9SU2S5ggnOEKkaPYP2Xm9sAkzETxqB9n7\n",
       "qBraoXo6b9T7iFKgXR4SOX4x3ewbnKXOBc3PK/q5kKO8bykF2qUhpm+He1cClpkz4AJ8qYjdHmyX\n",
       "hlTYq4T/+O/SX8R3y4z+LqoKAAAAAElFTkSuQmCC\n",
       "\" style=\"display:inline;vertical-align:middle;\" /></a></dd>"
      ],
      "text/plain": [
       "<IPython.core.display.HTML object>"
      ]
     },
     "metadata": {},
     "output_type": "display_data"
    },
    {
     "data": {
      "text/html": [
       "<dt><a class=\"ProveItLink\" href=\"../../../../../logic/equality/_axioms_.ipynb#equalsTransitivity\">proveit.logic.equality.equalsTransitivity</a></dt><dd><a class=\"ProveItLink\" href=\"../../../../../logic/equality/__pv_it/15953cfebb497c481d8be77ed0e16c42a27f82610/expr.ipynb\"><img src=\"data:image/png;base64,iVBORw0KGgoAAAANSUhEUgAAANEAAAAXBAMAAABnpbd1AAAAMFBMVEX///8QEBC6urrMzMxUVFRm\n",
       "ZmZERETc3NwyMjKqqqp2dnaIiIiYmJgiIiLu7u4AAAAU9Wx4AAAAAXRSTlMAQObYZgAAAoBJREFU\n",
       "SMe9VUtoE1EUPZOZZvLrJLQLFVFScKFUMcVC3UglhQotSFYiFiGrVqyLQcQoogQRKihF0Lqwm8GN\n",
       "n0AIWAO2ooNQBD+QlYggRBeKuokIdtOF976Zya+daOHhgXDe3Jt55913PwP8N1TlbdXv73pBvwov\n",
       "XssQUg/6+7pSwANezMpQCnW6njxwlkjPylBa6uR85Zyk64YMpe2dnJ+A2L1c7qIMoUC+kzdIwfye\n",
       "nPwgQ6nLojQUDs1PtDv6evQSIhlgBJjyO+aGCsIGvuOtvY0fjl5lXOGlfurxESBMEe+A4Rd3cCNK\n",
       "ShKw8Bw32+wGjMN06ATQjagtQyme5DEwuo7nDDdbDaTTXZWlBGxdJwcZV8nID9KqkF6gNg6UobDs\n",
       "gdnzDaXIQv+IN2+yopZdEoPh/Ve3RRRm/RfdFuH4R8Y74bgj5Oj2MJWm3aqj/M8fcXOA7ellq6FU\n",
       "1LJbNE7wNaO0otIbghwLtN3HvAugHLyM1vCsLaSwBY2aiWthrsJVdp2tl/agLNzfmm4vGfLyqH+u\n",
       "RLN1chPudT3VcXg1mKCKbsX+5TeXhZfCFr4VYR7DuNgy2ZynuOm9pVlaqUECp+vpqMCYLj582p6m\n",
       "TOwnHSbEO8Y4M2pCZXMPepn2YahJaQCpoHNXSlJJiYJWPIuaUr1zbPrLNHIwHMlHcM5Eb6BGpI7t\n",
       "ytaV1Np9WF7PpPZCnxHkYvDu7aYh6o+Ct/jyZKKIYRu3ynmiaGCzWVcypucWvTYIj5+AuirIRalv\n",
       "5l++Gu3DwdZNToDt2085TmPMoTXQO3wJNbP1o2kGrZ1MvkoneWAPObQWF/yVHrU+xhBesph8leYX\n",
       "OXKHpEKTudkfgDCcYn7TElEAAAAASUVORK5CYII=\n",
       "\" style=\"display:inline;vertical-align:middle;\" /></a></dd>"
      ],
      "text/plain": [
       "<IPython.core.display.HTML object>"
      ]
     },
     "metadata": {},
     "output_type": "display_data"
    },
    {
     "data": {
      "text/html": [
       "<dt><a class=\"ProveItLink\" href=\"../../../../../logic/equality/_axioms_.ipynb#substitution\">proveit.logic.equality.substitution</a></dt><dd><a class=\"ProveItLink\" href=\"../../../../../logic/equality/__pv_it/8d36a51e21a3e1f2d1a576f0cfdfe721d403af1e0/expr.ipynb\"><img src=\"data:image/png;base64,iVBORw0KGgoAAAANSUhEUgAAAO8AAAAXBAMAAAARnwX+AAAAMFBMVEX///8QEBC6urrMzMxUVFRm\n",
       "ZmZERETc3NwyMjKqqqp2dnaIiIiYmJgiIiLu7u4AAAAU9Wx4AAAAAXRSTlMAQObYZgAAAvdJREFU\n",
       "SMfFVj1oFEEUfvef293bHKayECJYpIk5wcYqRyRGTBPUQgyiNonCgVuI8QfNIggWEq5QsLttDglB\n",
       "OTAemhRZJIVoc7UorE0QLXIYMIUiznszO7O3uznJQfDBm/123jfzZt+99+YA/pd4vS5MNqLYGPw3\n",
       "/63QFr586MHxURzMyQmJUc7EEEOcTInrIr4s9OCY1mQXf3es74shhjk21xvskbu0e786RW7zcFVi\n",
       "irUTZYY577n2sR85U9294wQlRy2AKazFKDPM+cLVeDY3d7eHSA/ReCGASa5GmWFOtsr158zMxx4c\n",
       "n8dh/cC4j28v33rFolmPEBXHrDsw74E2BaTHAWYxSOON6O5dquMRjb98bDrGpwSrkKeUuA9JytDJ\n",
       "0ZJtWAPI21wPgYl5llmZiu7eJen24ZDb8rEGejvPiuRghKg4xzItmGEFXeRaAN1lhkLc13Vx/AOH\n",
       "fNvHJqSJPBohKo6XaODnp9pcdbeACdfv9eBYaymcaMQ7DnBqXmpLOTZt7CnGtWk0L40ts3glmyL7\n",
       "uWM+SW2vKctiPyVoWeH5ErZfCnXmMwlfHeCcA72oQg2zY2h4R6fzTiRYon/vt46oL6bJk5gtDWkA\n",
       "qKivRGxYa6B7YpvOgpcceECnMGyu8IRiQXWQ5Ml6bxiayrGY7DAI/uagj2vuZbgDceWkOHAWRlyQ\n",
       "5SSOVOG0bRpPwWTwN96Wu/gGgGEcRjwfb6x8W8IcvR9xrDiwsXrRYr1ykCsYniwPSBVT/GUg4Bgn\n",
       "r1CopYEdl20BrwN4p5bZwXmuWqa/4g/ATWtUszX2gIFkWzmmSSG+ga4Do1wJXw1auAsFOemWiSm2\n",
       "JBTEVzEP7sab6RfsAY+btnJMk0J8A11ziYVW8IpE+RpJrQCn4GQdoHZl2upk+Gu7HLs5K92IrWNp\n",
       "YHIdjLolsZCJsOMgJ796mj3TFldxga+zSk3x15SVdYbiG4g04CECUfWxXtq54/icl0LF/xEMuiEO\n",
       "yY7mxDuWhr2W8t5t/RfNBeNeS11EOAAAAABJRU5ErkJggg==\n",
       "\" style=\"display:inline;vertical-align:middle;\" /></a></dd>"
      ],
      "text/plain": [
       "<IPython.core.display.HTML object>"
      ]
     },
     "metadata": {},
     "output_type": "display_data"
    },
    {
     "data": {
      "text/html": [
       "<dt><a class=\"ProveItLink\" href=\"../../_axioms_.ipynb#naturalsDef\">proveit.number.sets.integer.naturalsDef</a></dt><dd><a class=\"ProveItLink\" href=\"../c6511f6651a3b1ea3d7fea8c79711a435b982f6d0/expr.ipynb\"><img src=\"data:image/png;base64,iVBORw0KGgoAAAANSUhEUgAAAlQAAAAVCAMAAAC33YD7AAAAM1BMVEX///+/v78QEBC6urrMzMxU\n",
       "VFRmZmZERETc3NwyMjKqqqp2dnaIiIiYmJgiIiLu7u4AAAB/uxFxAAAAAXRSTlMAQObYZgAABihJ\n",
       "REFUaN7tmtm2rSgMRS3ppfP/v7ZARGmCRvapt+KFe8cRM7MSIOBelv/b/+2vm0c9RUzdf26WIB4y\n",
       "Tv2zTPHMcb1BBR7qf9D2BzqUXv3zVjnycfRsSLMNyLK7nxq/nbK6R+Sq2oVQMSLc7W4LHX0fpAkO\n",
       "p+M5e8+NQdixjHPuo/svDwceJNAfqRabSGmM0QtyRRP86O9wkEXAst7y42o8KfOf1Id5K+xCxfGv\n",
       "PY1FJRUKp+M5+zhXvHvTU9mYf2KHoKRvkwoH9GeqBa48CmOhdyWFFjV6xitIvN6yFFlPMd4GTN2j\n",
       "GgvRTQPWlOIak1QYnI7n7M2xqpgXPVni2BQEpXibVCigadW8rP/LGMtJhdALcuUMLTzaDyGxQYXE\n",
       "AyznVOXb8FWrr3sI1ygXWhFQRsKbGb2Syq+YpMLgdDxn746VnOzyCUvuaSWjBoCiwvmGBwU0q9qy\n",
       "dTE1OakatN4T2JUztLDa/bL0KaQD8QDLVsujuXEpp+oe2pmVbekYDdu1j26ctsWGSap3nI4n9/ux\n",
       "zNB9e8Ii558pBaAYqWbuIRMCaFa1x6Sq0QBPYFfO0MJqEzaAxIV0JB5gOVTUobnxast11RMjpDSG\n",
       "FQOk6BM+LFJBslhWnUmlOSap3nFantzLXaekMk9Yct9NUXVVUF6VhXmW6R0IRSm1YXIz3GCTqkSD\n",
       "PIFdyaGF1dYGhESGdCQeYPnYohYhn4uzu9cLU4HN7/frocHxtZzEM9OZVNs9K7gqGquD+IrT8uT+\n",
       "Sir9hBWiFtr1l62cqtrWu1yS6R0IQ+kDlXV2WR02qUo02DrkSg7tPZq7ou0cgkSGdCQeYPlYE/3D\n",
       "Ir2Ssifh3B9rVr+T+8iywEm1sFhWnUlFVtRKVeNQrrWx9IHn6ruk8nBpLS1b91xLVFAx3lK1SfWq\n",
       "DwjZ0ukjJEFyik2qAm3gCeRKDu1I7U2RDhIb0pF4kOWopbFjzbKp1PvT9nZ5H16TJ4JqksrHsuo0\n",
       "TXdUUlU4hB87+RPP1XfbH4h1WtptD5UuohhteF71ASFbuigWE19qqgLtwZPWlRzaodohHqSBxIZ0\n",
       "JB5kOQrmPDapsm2mni/QUnCoXujHpCpx0l4hUEl1Fer2Aev8m4eSKhmlrE0qWB9vOOd2CNnRxXWh\n",
       "SKFUAbi1qQDgpAIFhl15SyqqtO8hcSEdiQdZDkv7473qutU9P2yHN2c674ZJtdgty10syNU2L5og\n",
       "Fjg+KWyfeXKfrhS260oBwPI8V5yyg9rOvynZJBWojxFEeu+HkB1dPpD7me0PEHjgSr/9VWK7uv7+\n",
       "FNKheKBlIdl5ccUNMZr1d+NVv8Ztxgbnr4qY2WFSLTrfGlqFW6lunJAnqybQXT3Yp8tPfcvRY+XS\n",
       "kmcfC6icTBtveAqgcIIjJnpmi4IXhGzprDxKqsWgk6rUCxB44EpGgdXeGAyJCulQPNDyxlMgvCVx\n",
       "ZWs/dNQnx5CocbQWRc3pHRB6spSzAH2lcOMck2Pd9/bGpeG5Xxy/MfqVLmMs7kxaZvorBSrKer1K\n",
       "qgso7ByhLorTW1UzGIBs6LYgrAhTWBp0TVXqBQg8cOXxSkEqGBIX0qF4sOVzs5f++MaxN6dJ4qo+\n",
       "LW9SmK2kbT5hErWv4r79OVYCgkyqqvZYJGvPMQ3P1YfoasPo8oDFwlmOMXHPwhvqWh3vTxfXApSB\n",
       "SD6E0+bWqods6Lww2scz4nOhzkN+qlSp1Xp1noxcycyg2t09wZeQjsWDLV93p8xAh9FV1j28sCrw\n",
       "qHBPNtxnmhLHpxprf+N54HrBKqCKIJA2qYq75TTjqDtuRIUZQ+JUM2i93gTGfKahQ8iZkD58pqlt\n",
       "xBtLvjRZ3nw5nGvaoJPq8mqr96URzzzXMxRQKsWjLD2uSt4gUXQPP2bSZsqVkxk7+peQZhsvluV+\n",
       "JBZpM3rmRxzd9cjyOam4GNztDn768tdQLU84LGuV7jGZfIX8jc6rueevEzT24t//GtE3yyQKxHVX\n",
       "+EtW9xONyYmkojw0YGDLM8v1AtXyhMJo4+a45/H3OWQE+Rsdk3PPn5+W0KPnQ5ptzFq+Di1y9ufE\n",
       "BvNTROMcneOZ43qDeuTRZ03136hm6NTzgZh8HD0b0mwDsPwv/5pOoqfOVSkAAAAASUVORK5CYII=\n",
       "\" style=\"display:inline;vertical-align:middle;\" /></a></dd>"
      ],
      "text/plain": [
       "<IPython.core.display.HTML object>"
      ]
     },
     "metadata": {},
     "output_type": "display_data"
    },
    {
     "data": {
      "text/html": [
       "</dl>"
      ],
      "text/plain": [
       "<IPython.core.display.HTML object>"
      ]
     },
     "metadata": {},
     "output_type": "display_data"
    },
    {
     "data": {
      "text/html": [
       "<h3>No theorems depend upon inductionLemma</h3>"
      ],
      "text/plain": [
       "<IPython.core.display.HTML object>"
      ]
     },
     "metadata": {},
     "output_type": "display_data"
    }
   ],
   "source": [
    "%dependencies inductionLemma"
   ]
  }
 ],
 "metadata": {
  "kernelspec": {
   "display_name": "Python 3",
   "language": "python",
   "name": "python3"
  }
 },
 "nbformat": 4,
 "nbformat_minor": 0
}
