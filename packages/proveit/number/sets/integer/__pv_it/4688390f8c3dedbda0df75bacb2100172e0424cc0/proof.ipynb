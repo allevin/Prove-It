{
 "cells": [
  {
   "cell_type": "markdown",
   "metadata": {},
   "source": [
    "Show the Proof\n",
    "========"
   ]
  },
  {
   "cell_type": "code",
   "execution_count": 1,
   "metadata": {},
   "outputs": [
    {
     "data": {
      "text/html": [
       "<table><tr><th>&nbsp;</th><th>step type</th><th>requirements</th><th>statement</th></tr>\n",
       "<tr><td>0</td><td>specialization</td><td>1</td><td><span style=\"font-size:20px;\"> <a class=\"ProveItLink\" href=\"proof.ipynb\" style=\"text-decoration: none\">&#x22A2;&nbsp;</a><a class=\"ProveItLink\" href=\"../f6bbbd373785173f6ed6c9c40968b626bf21842a0/expr.ipynb\"><img src=\"data:image/png;base64,iVBORw0KGgoAAAANSUhEUgAAAiEAAAAVCAMAAACnvc4nAAAAM1BMVEX///+/v7/c3NwiIiJERESq\n",
       "qqqYmJh2dnZmZmYQEBDu7u4yMjJUVFTMzMyIiIi6uroAAABHoQ3jAAAAAXRSTlMAQObYZgAABdhJ\n",
       "REFUaN7tmtu2pCoMRT2AgFz9/689gIJcgkZ3PTYPze5RUplJFhCwluVf+9eemncfB3KPeMhRbdU7\n",
       "kL7/LVUA+u8H0foAh4rX+DzX1L8c/TWl2UZr2RrseKV3xnRMt6Q7XUNnnweJYINeCDfoGaTtlXQO\n",
       "Y4cbKaWKrj08HYBwPChIXGPHHMH4AXkiPH70ezjIYmNZqxee8sWy9Nee/tU4hYg1/+/OWP6s7aOK\n",
       "FX0MjuZRTWwHqIjqgXA8KEjUzGJ7HoWxMHpyKAQ1+otXUOwqy+7NLDIhVceA7RCfQCmEsJwsdrP6\n",
       "O6h3ab67p+CYA2TVAJWWPRCKBwUJK4I0/zPGZIUg4gV5cipkMlrNILFJhWJXWd5u9KacpqFd6TE+\n",
       "yNPYohC1oRRSRC3X+YMZpO1pWjD9Tm6oQqb3Y5GxbqSyjKoeCMODggTb2mfIZYX08RpdAT05FTKJ\n",
       "9rBivErpJHaXZX8zO63mnS1jwxanItL5RWxFKYQLkhq9Ka402O9pAbD7ekMVFXR8bu1IZXw7pyIQ\n",
       "ggcF+VYhXbwAV0BPToVMou0NDIlL6Sx2xbIUZ/HLCHHO1OsYYUMmwvIR3I+lyKkQIVEKWUKJGxq9\n",
       "WWRPkK4nuzgU4m6o4mO7q0qVmkrpulLOQM88KEginCGrkw6rkCZekCugJ1khk2gLB0EiUzqLXbGc\n",
       "qpTw12J0sKP26llGFkAhi/TxBHAqZL30KnXVTKeQtDOVb7RSCMftWC4NfVGIuKFKOQitfFRRLYJ3\n",
       "m0kCannA2QYw9pAqUHHKl41iFVKTweYhT7JC6mjTqu0SgESmdBa7YnlLxn04AcaiTe2+qsAXUCGL\n",
       "iaXIqRC/4daQtBKqvEbLtLh1m6eH+kEhalJbEm62PW/ANVVMHtE9UMMDLt0QYw8pUnxDNC1WITXZ\n",
       "xBXAk6yQabRX7XtIbEpnsSuWj/Hq/KJ1v1Yhv2WJ6lYhKpYi5/fYHaeQlCjHr6QFPbfPZUfafthl\n",
       "IKpiaucD1XHhYWwPVPPUdZyUkk8Ze8gYLMPe1CF1vG5c6TzJCplHOyTEt5DYlM5iVyxnn48vMvr+\n",
       "2uWItBWLfauQmI3zTKEOZo5RSKlU+d1l0PmhAhRy2KxHHUAVT5VJ5olSaso4QMYZW8vh2Gnp1u20\n",
       "sEIgV2BPHhVitVADJC6ls9gVy9uafUtfzq/TtaIzhSx8zbOrWveanZH1CgkreuGjmxhvkDNI1x+n\n",
       "3bWcdiEqJXPNRXqq9fxIkw6o4gnVpnfRM15t5yDjAJnPiurTLkOxngC7TBNt2hSgr1I6jV2xzE7p\n",
       "bHE158GTq/Q1fKaQReSrJq6Ra0gokowvVNu+r+N1LdQfN2aC3lHl4kpmCV5UWRmr7IEKT5h9YaeI\n",
       "YdVN5ADGHo6TVIYsDq2QJl6jKxNPcgwn0V4NCIlK6TR2xfJ5uCFpaRKsLroUHWYR80utT/xpN+ao\n",
       "FjAxfdHVnrKuPr7/UdstlaTH9SsbTruW1QVrA1R4fK7+bXf2HRk7uDXMTxaeIQ5dhzTxGl2ZeHJ/\n",
       "2iUahMSldBq7YtnTak0hzK2N6fZlkdf7xq5bhjRHPVYhZcNWxyrfb6mewr2SwtWF5kAVZkY4mhjD\n",
       "rvlRqMqyVd1EZ6CqgDhWWEvTJQlzU8YOTjEnVDwT31eqMixH+qh/u3gNrkw8ychwtPsj7JuUzmN3\n",
       "Wd7I3e2g0eCpoWgSeeuelq1zHq1rO7vL9kng/i9UVUR9D3RdLsay26YzWrEwYUTAQWvIPF4PrqBu\n",
       "3e0M8kvwxlt3zMukm/Q7vELKlGLw3U33zugPYPdUHVCo2YU+rjYMeWLEwc1/nSHcJ09OZOzov6Q0\n",
       "26gtv34B3t5ov1eIlaEBMoff/v+cqgMKW8UqXTosqqvMmjH+DU7pb8+X4xeyfU9pttFYJuazQgz5\n",
       "oJBpyyB9/2OqOyBx1iF4yJ/HC3r+fHNB3kbyO2FrmXz9FaLD/OjJUYr9bVQG6fvfUr0AwkD+Ol7j\n",
       "8wHYvxz9NaXZRmX5f9AfSYg+yrA8AAAAAElFTkSuQmCC\n",
       "\" style=\"display:inline;vertical-align:middle;\" /></a></span></td></tr>\n",
       "<tr><td>&nbsp;</td><td colspan=4 style=\"text-align:left\"><span style=\"font-size:20px;\"><a class=\"ProveItLink\" href=\"../../../../../__pv_it/39dbcd3ca0390345b51c6ef7785756419e2c14390/expr.ipynb\"><img src=\"data:image/png;base64,iVBORw0KGgoAAAANSUhEUgAAAAwAAAAJBAMAAAD0ltBnAAAAMFBMVEX///8QEBCYmJhmZmaqqqoi\n",
       "IiLMzMzu7u4yMjJ2dnZUVFTc3NxERESIiIi6uroAAABbPXqjAAAAAXRSTlMAQObYZgAAAERJREFU\n",
       "CNdj4Luz++5KBgZOrl6G+gSGd6wHGOofMBQAsX8BAwivYGBgsGBg+MTOwCDJwPSdk4H7HwPnATcG\n",
       "PgEG7rMOAGtQEUwHZIDZAAAAAElFTkSuQmCC\n",
       "\" style=\"display:inline;vertical-align:middle;\" /></a> : <a class=\"ProveItLink\" href=\"../../../../../__pv_it/39dbcd3ca0390345b51c6ef7785756419e2c14390/expr.ipynb\"><img src=\"data:image/png;base64,iVBORw0KGgoAAAANSUhEUgAAAAwAAAAJBAMAAAD0ltBnAAAAMFBMVEX///8QEBCYmJhmZmaqqqoi\n",
       "IiLMzMzu7u4yMjJ2dnZUVFTc3NxERESIiIi6uroAAABbPXqjAAAAAXRSTlMAQObYZgAAAERJREFU\n",
       "CNdj4Luz++5KBgZOrl6G+gSGd6wHGOofMBQAsX8BAwivYGBgsGBg+MTOwCDJwPSdk4H7HwPnATcG\n",
       "PgEG7rMOAGtQEUwHZIDZAAAAAElFTkSuQmCC\n",
       "\" style=\"display:inline;vertical-align:middle;\" /></a></span></td></tr><tr><td>1</td><td>axiom</td><td></td><td><span style=\"font-size:20px;\"> <a class=\"ProveItLink\" href=\"../../_axioms_.ipynb#naturalsDef\" style=\"text-decoration: none\">&#x22A2;&nbsp;</a><a class=\"ProveItLink\" href=\"../c6511f6651a3b1ea3d7fea8c79711a435b982f6d0/expr.ipynb\"><img src=\"data:image/png;base64,iVBORw0KGgoAAAANSUhEUgAAAlQAAAAVCAMAAAC33YD7AAAAM1BMVEX///+/v78QEBC6urrMzMxU\n",
       "VFRmZmZERETc3NwyMjKqqqp2dnaIiIiYmJgiIiLu7u4AAAB/uxFxAAAAAXRSTlMAQObYZgAABihJ\n",
       "REFUaN7tmtm2rSgMRS3ppfP/v7ZARGmCRvapt+KFe8cRM7MSIOBelv/b/+2vm0c9RUzdf26WIB4y\n",
       "Tv2zTPHMcb1BBR7qf9D2BzqUXv3zVjnycfRsSLMNyLK7nxq/nbK6R+Sq2oVQMSLc7W4LHX0fpAkO\n",
       "p+M5e8+NQdixjHPuo/svDwceJNAfqRabSGmM0QtyRRP86O9wkEXAst7y42o8KfOf1Id5K+xCxfGv\n",
       "PY1FJRUKp+M5+zhXvHvTU9mYf2KHoKRvkwoH9GeqBa48CmOhdyWFFjV6xitIvN6yFFlPMd4GTN2j\n",
       "GgvRTQPWlOIak1QYnI7n7M2xqpgXPVni2BQEpXibVCigadW8rP/LGMtJhdALcuUMLTzaDyGxQYXE\n",
       "AyznVOXb8FWrr3sI1ygXWhFQRsKbGb2Syq+YpMLgdDxn746VnOzyCUvuaSWjBoCiwvmGBwU0q9qy\n",
       "dTE1OakatN4T2JUztLDa/bL0KaQD8QDLVsujuXEpp+oe2pmVbekYDdu1j26ctsWGSap3nI4n9/ux\n",
       "zNB9e8Ii558pBaAYqWbuIRMCaFa1x6Sq0QBPYFfO0MJqEzaAxIV0JB5gOVTUobnxast11RMjpDSG\n",
       "FQOk6BM+LFJBslhWnUmlOSap3nFantzLXaekMk9Yct9NUXVVUF6VhXmW6R0IRSm1YXIz3GCTqkSD\n",
       "PIFdyaGF1dYGhESGdCQeYPnYohYhn4uzu9cLU4HN7/frocHxtZzEM9OZVNs9K7gqGquD+IrT8uT+\n",
       "Sir9hBWiFtr1l62cqtrWu1yS6R0IQ+kDlXV2WR02qUo02DrkSg7tPZq7ou0cgkSGdCQeYPlYE/3D\n",
       "Ir2Ssifh3B9rVr+T+8iywEm1sFhWnUlFVtRKVeNQrrWx9IHn6ruk8nBpLS1b91xLVFAx3lK1SfWq\n",
       "DwjZ0ukjJEFyik2qAm3gCeRKDu1I7U2RDhIb0pF4kOWopbFjzbKp1PvT9nZ5H16TJ4JqksrHsuo0\n",
       "TXdUUlU4hB87+RPP1XfbH4h1WtptD5UuohhteF71ASFbuigWE19qqgLtwZPWlRzaodohHqSBxIZ0\n",
       "JB5kOQrmPDapsm2mni/QUnCoXujHpCpx0l4hUEl1Fer2Aev8m4eSKhmlrE0qWB9vOOd2CNnRxXWh\n",
       "SKFUAbi1qQDgpAIFhl15SyqqtO8hcSEdiQdZDkv7473qutU9P2yHN2c674ZJtdgty10syNU2L5og\n",
       "Fjg+KWyfeXKfrhS260oBwPI8V5yyg9rOvynZJBWojxFEeu+HkB1dPpD7me0PEHjgSr/9VWK7uv7+\n",
       "FNKheKBlIdl5ccUNMZr1d+NVv8Ztxgbnr4qY2WFSLTrfGlqFW6lunJAnqybQXT3Yp8tPfcvRY+XS\n",
       "kmcfC6icTBtveAqgcIIjJnpmi4IXhGzprDxKqsWgk6rUCxB44EpGgdXeGAyJCulQPNDyxlMgvCVx\n",
       "ZWs/dNQnx5CocbQWRc3pHRB6spSzAH2lcOMck2Pd9/bGpeG5Xxy/MfqVLmMs7kxaZvorBSrKer1K\n",
       "qgso7ByhLorTW1UzGIBs6LYgrAhTWBp0TVXqBQg8cOXxSkEqGBIX0qF4sOVzs5f++MaxN6dJ4qo+\n",
       "LW9SmK2kbT5hErWv4r79OVYCgkyqqvZYJGvPMQ3P1YfoasPo8oDFwlmOMXHPwhvqWh3vTxfXApSB\n",
       "SD6E0+bWqods6Lww2scz4nOhzkN+qlSp1Xp1noxcycyg2t09wZeQjsWDLV93p8xAh9FV1j28sCrw\n",
       "qHBPNtxnmhLHpxprf+N54HrBKqCKIJA2qYq75TTjqDtuRIUZQ+JUM2i93gTGfKahQ8iZkD58pqlt\n",
       "xBtLvjRZ3nw5nGvaoJPq8mqr96URzzzXMxRQKsWjLD2uSt4gUXQPP2bSZsqVkxk7+peQZhsvluV+\n",
       "JBZpM3rmRxzd9cjyOam4GNztDn768tdQLU84LGuV7jGZfIX8jc6rueevEzT24t//GtE3yyQKxHVX\n",
       "+EtW9xONyYmkojw0YGDLM8v1AtXyhMJo4+a45/H3OWQE+Rsdk3PPn5+W0KPnQ5ptzFq+Di1y9ufE\n",
       "BvNTROMcneOZ43qDeuTRZ03136hm6NTzgZh8HD0b0mwDsPwv/5pOoqfOVSkAAAAASUVORK5CYII=\n",
       "\" style=\"display:inline;vertical-align:middle;\" /></a></span></td></tr>\n",
       "<tr><td>&nbsp;</td><td colspan=4 style-\"text-align:left\"><a class=\"ProveItLink\" href=\"../../_axioms_.ipynb#naturalsDef\">proveit.number.sets.integer.naturalsDef</a></td></tr></table>"
      ],
      "text/plain": [
       "<proveit._core_.proof._ShowProof at 0x7f94eb687208>"
      ]
     },
     "execution_count": 1,
     "metadata": {},
     "output_type": "execute_result"
    }
   ],
   "source": [
    "import proveit\n",
    "%show_proof"
   ]
  },
  {
   "cell_type": "code",
   "execution_count": null,
   "metadata": {},
   "outputs": [],
   "source": []
  }
 ],
 "metadata": {
  "kernelspec": {
   "display_name": "Python 3",
   "language": "python",
   "name": "python3"
  }
 },
 "nbformat": 4,
 "nbformat_minor": 0
}
