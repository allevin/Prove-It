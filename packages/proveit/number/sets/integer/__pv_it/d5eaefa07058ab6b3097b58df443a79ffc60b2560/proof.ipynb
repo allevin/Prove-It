{
 "cells": [
  {
   "cell_type": "markdown",
   "metadata": {},
   "source": [
    "Show the Proof\n",
    "========"
   ]
  },
  {
   "cell_type": "code",
   "execution_count": 1,
   "metadata": {},
   "outputs": [
    {
     "data": {
      "text/html": [
       "<table><tr><th>&nbsp;</th><th>step type</th><th>requirements</th><th>statement</th></tr>\n",
       "<tr><td>0</td><td>assumption</td><td></td><td><span style=\"font-size:20px;\"><a class=\"ProveItLink\" href=\"../75e71f441bdadd674b86b8d226035cc114a291f20/expr.ipynb\"><img src=\"data:image/png;base64,iVBORw0KGgoAAAANSUhEUgAAAHsAAAAVBAMAAACUF4xmAAAAMFBMVEX////c3NxERESqqqpUVFS6\n",
       "urrMzMwyMjIQEBCIiIh2dnYiIiLu7u5mZmaYmJgAAABXZE4RAAAAAXRSTlMAQObYZgAAAdVJREFU\n",
       "OMudlD1Iw0AUx59tkrYxSUMX6eTH4tLBwcWtg+jikM26BSnasVuECq2KujgUFMUt6KJOoihoBoMU\n",
       "Krg4qZMExEER6qIuHbx3/Uiv5DqY4d27y/3y3r37vwCA9gL/eaQTHQflGu0cd9sbl19DG/tCNx28\n",
       "JQWgmuySUhxZBvXmHOAJp3KJmIgbSN/Wicl3LYa8eYA4cY7a+D4bQG+MlUnEP7pw4TJWhiiDbzEb\n",
       "wuWmE0P8rvnNPcehiQiz7hSLi/keeGiM+oufregL6arL4KpNaj+c3LGDcPkB3b5UO3lzQhpq4yqJ\n",
       "HPEA7Omy8hOEh2lqId3HVeMd8RrOcgZA1ADROAPlOwgXS/QS/NKZMCPk8LpIWtkN4sQNUAgbrgfh\n",
       "EgoDMo7TKp0JFWUJvVGSdMakOLICvlYtq7BpWekuPNsZXbIxej+WCpnoGK1B3HO5yd934vAaap1d\n",
       "PkUhkU/YUHPtAFxrpOx14nKi8+LwbgYNOAib3ItTLtqiJSelevdlQzLIACS22dKpz7+kmSMGnQw8\n",
       "NhbF4iqxVUa0K8Gqo09TtDBecFhx+jjbFiKDH/ManuJaj4alh87z3tB+V65Q0WkuLui8v806HbRD\n",
       "YpJcfLfXv+4PAQaC0r1MSRoAAAAASUVORK5CYII=\n",
       "\" style=\"display:inline;vertical-align:middle;\" /></a> <a class=\"ProveItLink\" href=\"proof.ipynb\" style=\"text-decoration: none\">&#x22A2;&nbsp;</a><a class=\"ProveItLink\" href=\"../01cb033d0627530a5164b18d38e486412388cfb80/expr.ipynb\"><img src=\"data:image/png;base64,iVBORw0KGgoAAAANSUhEUgAAAGcAAAAVBAMAAACphe0AAAAAMFBMVEX////c3NwiIiJERESqqqqY\n",
       "mJh2dnZmZmYQEBDu7u4yMjJUVFTMzMyIiIi6uroAAAAs73DqAAAAAXRSTlMAQObYZgAAAX1JREFU\n",
       "OMudkzFIw0AUhv9oExubiuLoIp3EKYJdBDWzKDo76eTuoCAiRcRRo2NBKkIpiShV0KEGDQguHSw4\n",
       "F4uTFBRRBF2KL9c0JOFuMRD4816+u3f/vQf86+mriTJyQwhV+eFuE9iMxfJfEyZWPw3A4jLqNEG9\n",
       "8WhW04EPIB2t7sBnbu4Ikpdi0KVbB3JA0oyE5zrimeJqrq2PTjKjTNxaKdeDmhBDGGdSK3YWdqqq\n",
       "5UFr5N/TQP2aC60wORgU4yRq9x5UBJTUGQouD5phciyow8GWXCNoD3jv0lFo8KBXZooeglKmQ1AL\n",
       "MImYN3nQI7v97UzGN8KBWs63IY+oeLEN2x6x7dMYpJVDO+FBI2jH+xn4VsXlDYch2aBqs6R3If8q\n",
       "PGiRyaswhGWduSq1oOizYssPg8adorfnGHihk+YgTRpRaH2/tACcMy2V/Pto/tAuKkHJfn5HsNP4\n",
       "bZSo+O4FQxNtyrfwhyIcNUs8n3lhZkgMXQgzkrCGtCtI/AG2mXCko5W41gAAAABJRU5ErkJggg==\n",
       "\" style=\"display:inline;vertical-align:middle;\" /></a></span></td></tr>\n",
       "</table>"
      ],
      "text/plain": [
       "<proveit._core_.proof._ShowProof at 0x7f94ea7b6128>"
      ]
     },
     "execution_count": 1,
     "metadata": {},
     "output_type": "execute_result"
    }
   ],
   "source": [
    "import proveit\n",
    "%show_proof"
   ]
  },
  {
   "cell_type": "code",
   "execution_count": null,
   "metadata": {},
   "outputs": [],
   "source": []
  }
 ],
 "metadata": {
  "kernelspec": {
   "display_name": "Python 3",
   "language": "python",
   "name": "python3"
  }
 },
 "nbformat": 4,
 "nbformat_minor": 0
}
