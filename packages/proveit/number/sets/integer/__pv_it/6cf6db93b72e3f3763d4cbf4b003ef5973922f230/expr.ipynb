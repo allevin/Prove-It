{
 "cells": [
  {
   "cell_type": "markdown",
   "metadata": {},
   "source": [
    "Theorem <a class=\"ProveItLink\" href=\"../../_theorems_.ipynb#natsPosInNats\">natsPosInNats</a> of type <a class=\"ProveItLink\" href=\"../../../../../../../doc/html/api/proveit.logic.Subset.html\">Subset</a>\n",
    "=======================\n",
    "# from context <a class=\"ProveItLink\" href=\"../../_context_.ipynb\">proveit.number.sets.integer</a>\n",
    "*** see <a class=\"ProveItLink\" href=\"dependencies.ipynb\">dependencies</a> ***"
   ]
  },
  {
   "cell_type": "code",
   "execution_count": 1,
   "metadata": {},
   "outputs": [],
   "source": [
    "# import the special expression\n",
    "from proveit.number.sets.integer._theorems_ import natsPosInNats"
   ]
  },
  {
   "cell_type": "code",
   "execution_count": 2,
   "metadata": {},
   "outputs": [
    {
     "name": "stdout",
     "output_type": "stream",
     "text": [
      "Passed sanity check: built 'natsPosInNats' is the same as the stored Expression.\n"
     ]
    }
   ],
   "source": [
    "# check that the built expression is the same as the stored expression\n",
    "%check_expr natsPosInNats"
   ]
  },
  {
   "cell_type": "code",
   "execution_count": 3,
   "metadata": {},
   "outputs": [
    {
     "data": {
      "text/html": [
       "<table><tr><th>&nbsp;</th><th>core type</th><th>sub-expressions</th><th>expression</th></tr>\n",
       "<tr><td>0</td><td>Operation</td><td>operator:&nbsp;1<br>operands:&nbsp;2<br></td><td><a class=\"ProveItLink\" href=\"expr.ipynb\"><img src=\"data:image/png;base64,iVBORw0KGgoAAAANSUhEUgAAAEcAAAAUBAMAAAAthD11AAAAMFBMVEX////c3Nx2dna6uroQEBCI\n",
       "iIhUVFTMzMyYmJiqqqoiIiJmZmZEREQyMjLu7u4AAADjlg78AAAAAXRSTlMAQObYZgAAANFJREFU\n",
       "KM9jYIADTgYiAM+gUfT2z9kHDLt+TcCmCCF3gv0AA8MHhty7V+7eDUBTBZVjYMgqCGVgcMBuHVwu\n",
       "+R5bAZqi2FWrVi1mQJZLL+O7h6qoKg7GgsulcwbUoChiXAg3Ei6XzrCZIwDEYIPKsBkgFMHk0hnY\n",
       "HqQ7IHucAUkRVC6dgS/hLbKiMmRFULl0BoYidpyKoHJABseEA0iKuFAUQeSADAZFZEXcE5AVQeQO\n",
       "g8QvICniWwxnwuRsvwBV8l1AidftUAYWOQQwuwWNFigAAJ/jTCysLkbkAAAAAElFTkSuQmCC\n",
       "\" style=\"display:inline;vertical-align:middle;\" /></a></td></tr>\n",
       "<tr><td>1</td><td>Literal</td><td></td><td><a class=\"ProveItLink\" href=\"../../../../../logic/set_theory/containment/__pv_it/8abd5f716af72ef69ffdc0b40f17a6fa6115e4300/expr.ipynb\"><img src=\"data:image/png;base64,iVBORw0KGgoAAAANSUhEUgAAAA4AAAAMBAMAAACgrpHpAAAAJFBMVEX///+qqqpmZmZUVFTc3Nzu\n",
       "7u7MzMy6uroiIiIyMjKIiIgAAABMlAC/AAAAAXRSTlMAQObYZgAAADdJREFUCNdjYGBY2dHR0c7A\n",
       "kLGUAQRYWsAUA3MBhI6EUAzJaDQHlGYSgNCs7VCBSDUoo3gG0FwA+8MJt4mISzAAAAAASUVORK5C\n",
       "YII=\n",
       "\" style=\"display:inline;vertical-align:middle;\" /></a></td></tr>\n",
       "<tr><td>2</td><td>ExprTuple</td><td>3, 4</td><td><a class=\"ProveItLink\" href=\"../3196dfb12360d60604724f43d70a199604667e7e0/expr.ipynb\"><img src=\"data:image/png;base64,iVBORw0KGgoAAAANSUhEUgAAAEIAAAAbBAMAAAA6+0TkAAAAMFBMVEX///+qqqp2dnYiIiJERESI\n",
       "iIhmZmYQEBDc3NyYmJgyMjLu7u5UVFTMzMy6uroAAACGxKilAAAAAXRSTlMAQObYZgAAAUBJREFU\n",
       "KM+Nkz1Lw0AYx//1JSZe0vYjZHTsJC5CHBWRgIiLQ8FRkHwEByenCn6ATgqpQzYhSwq6KFRCcSzY\n",
       "URx8QcGCVHwub71e5PCBe3j+v/y4g0sCiFXBn/UyGefkZzZvVldhDHgLA4Ux71K7hcLACqB7CD83\n",
       "Aux/1AWjQHuA1gTWLQd4w51/4ftuqmQIUYCFIXAd7wDe1Ck5mm3hkeJ9x4wlI0eag12KvQHrSEaO\n",
       "DDqcx4r7IBsZqn5jk0ccGi43zImRIWuM8ySaQc+buocc6T9YTiLrhrKRIvaeGehbspEi2uMyjUbd\n",
       "kY0E6WPcpBFLhcEgoOoI2zRu0dLauRE1BET38Qo8f5HMCuNqJKCZNmpx6Y0/CfOiC9MuGS1hjo5g\n",
       "NZTGGa210pcnhlVaJ1CU0eT/iK0wjpN+qjAO8I/6BQ+raCL0pnlaAAAAAElFTkSuQmCC\n",
       "\" style=\"display:inline;vertical-align:middle;\" /></a></td></tr>\n",
       "<tr><td>3</td><td>Literal</td><td></td><td><a class=\"ProveItLink\" href=\"../42d4bc2e45d5054d807f2641a228c1b440fb8de30/expr.ipynb\"><img src=\"data:image/png;base64,iVBORw0KGgoAAAANSUhEUgAAABsAAAATBAMAAACTqWsLAAAAMFBMVEX////c3Nx2dna6uroQEBCI\n",
       "iIhUVFTMzMyYmJiqqqoiIiJmZmZEREQyMjLu7u4AAADjlg78AAAAAXRSTlMAQObYZgAAAHZJREFU\n",
       "GNNjYIADTgYUwEMy9+2fsw8Ydv2aAJM9wX6AgeEDQ+7dK3fvBjAwZBWEMjA4wPUm32MrQOKml/Hd\n",
       "Q+ZyBtQgcxk2cwSAuGxQLtuDdAe47ekMfAlvkbkMRewoXI4JB5C5DIoI7mEg5r4A49l+AcrwwbgA\n",
       "axoiJO4Xc9gAAAAASUVORK5CYII=\n",
       "\" style=\"display:inline;vertical-align:middle;\" /></a></td></tr>\n",
       "<tr><td>4</td><td>Literal</td><td></td><td><a class=\"ProveItLink\" href=\"../e5d9bd86b06b357eee742ad868997123619e09700/expr.ipynb\"><img src=\"data:image/png;base64,iVBORw0KGgoAAAANSUhEUgAAAA8AAAAOBAMAAAACpFvcAAAAMFBMVEX////c3Nx2dna6uroQEBCI\n",
       "iIhUVFTMzMyYmJiqqqoiIiJmZmZEREQyMjLu7u4AAADjlg78AAAAAXRSTlMAQObYZgAAAGBJREFU\n",
       "CNdjePvn7AOGXb8mMDCcYD/AwPCBgYEhqyCUgcEByEi+x1YAZqSX8d2DMDgDaiAMhs0cARAG24N0\n",
       "CIMv4S2EwVDEDmVwTDgAYTAoghiHgZj7AgOD7Rcgj+8CAwA9oh2B0HK+MAAAAABJRU5ErkJggg==\n",
       "\" style=\"display:inline;vertical-align:middle;\" /></a></td></tr>\n",
       "</table>\n"
      ],
      "text/plain": [
       "0. NaturalsPos subset Naturals\n",
       "   core type: Operation\n",
       "   operator: 1\n",
       "   operands: 2\n",
       "1. subset\n",
       "   core type: Literal\n",
       "   sub-expressions: \n",
       "2. (NaturalsPos , Naturals)\n",
       "   core type: ExprTuple\n",
       "   sub-expressions: 3, 4\n",
       "3. NaturalsPos\n",
       "   core type: Literal\n",
       "   sub-expressions: \n",
       "4. Naturals\n",
       "   core type: Literal\n",
       "   sub-expressions: "
      ]
     },
     "execution_count": 3,
     "metadata": {},
     "output_type": "execute_result"
    }
   ],
   "source": [
    "# display the expression information\n",
    "natsPosInNats.exprInfo()"
   ]
  },
  {
   "cell_type": "code",
   "execution_count": null,
   "metadata": {},
   "outputs": [],
   "source": []
  }
 ],
 "metadata": {
  "kernelspec": {
   "display_name": "Python 3",
   "language": "python",
   "name": "python3"
  }
 },
 "nbformat": 4,
 "nbformat_minor": 0
}
