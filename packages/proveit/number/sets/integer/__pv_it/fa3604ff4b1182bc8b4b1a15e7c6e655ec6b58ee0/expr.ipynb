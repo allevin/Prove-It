{
 "cells": [
  {
   "cell_type": "markdown",
   "metadata": {},
   "source": [
    "Expression of type <a class=\"ProveItLink\" href=\"../../../../../../../doc/html/api/proveit.Lambda.html\">Lambda</a>\n",
    "=======================\n",
    "# from context <a class=\"ProveItLink\" href=\"../../_context_.ipynb\">proveit.number.sets.integer</a>"
   ]
  },
  {
   "cell_type": "code",
   "execution_count": 1,
   "metadata": {},
   "outputs": [],
   "source": [
    "# import Expression classes needed to build the expression\n",
    "from proveit import Lambda\n",
    "from proveit._common_ import a\n",
    "from proveit.logic import InSet\n",
    "from proveit.number import Complexes, NaturalsPos"
   ]
  },
  {
   "cell_type": "code",
   "execution_count": 2,
   "metadata": {},
   "outputs": [
    {
     "data": {
      "text/html": [
       "<strong id=\"expr\">expr:</strong> <a class=\"ProveItLink\" href=\"expr.ipynb\"><img src=\"data:image/png;base64,iVBORw0KGgoAAAANSUhEUgAAAMUAAAAYCAMAAAB9RskzAAAANlBMVEX///8UFBQNDQ0yMjKqqqrM\n",
       "zMzu7u4iIiJmZmaYmJhEREQQEBC6urp2dnaIiIhUVFTc3NwAAACAukRkAAAAAXRSTlMAQObYZgAA\n",
       "AjJJREFUWMPtl4ly6yAMRXmPHcT2/z9bwLEdIzn10k6XKTPJeBzrohO0mbGfvQT7Dcv9UXxMNOSv\n",
       "o4B4ycwCuhXgyyhkOvFw1JwXr52p10bepFC8OMdVk9JFi1sUXeYgMJTqpwoldnJ++yycZXJyu9RP\n",
       "4nX59nU6OuJxC8uSneK/dAob7lIkLR8O+HsR5feOQkWu61r/cKuWvUynUP4kBZJMUCMhydsUwPei\n",
       "h9uBz7CcFnemHcUpCiyZZM1K1WKaoMgpBvBL2ds6KjZbm0DbZDeekTIMhhAK5hXFoEhItmMQsacG\n",
       "puimrizP6sH0WYxb2sah0i8DE3boD/wFxahISPZgMsBsXCnm486lbWbcHoVKT3IeSBuFw7NSwEAB\n",
       "fp8CeUFITimRWmp49FPn12vt+f9Pb5Yv626Py9EG/Pwwf/JCDhElyz4F8oKQnChUSw1EURq0KnLv\n",
       "LGplYCPFaEO1wlZOjlMgLyjJTtH+HHQWucRe0qsGTWGe49ML0kZpol2ElUK9F1HYC0pyomBWoAKr\n",
       "iuh9kAlJUsg4dE/SJlmq084jF+jum93PbqxIST4oWMgoaVrZEdqwJYi33VlRxRLZKE3U/pRcVEyB\n",
       "e9TMV5UWKVKSbr5jUNuqdTqCdPHQOAB6xyZzPO0xWce24pe84vCiRmEvRkmog6WbB8N7k7DffScQ\n",
       "iW8KCh4ozk4g70teXWikO75C/IT3i4vrxGQ+vh6w70OR00XDlL8RBcvX3lgjTv74YRRvCLQYDHRR\n",
       "2oMAAAAASUVORK5CYII=\n",
       "\" style=\"display:inline;vertical-align:middle;\" /></a><br>"
      ],
      "text/plain": [
       "expr: a -> (a in Complexes) | a in NaturalsPos"
      ]
     },
     "execution_count": 2,
     "metadata": {},
     "output_type": "execute_result"
    }
   ],
   "source": [
    "# build up the expression from sub-expressions\n",
    "expr = Lambda(a, InSet(a, Complexes), conditions = [InSet(a, NaturalsPos)])"
   ]
  },
  {
   "cell_type": "code",
   "execution_count": 3,
   "metadata": {},
   "outputs": [
    {
     "name": "stdout",
     "output_type": "stream",
     "text": [
      "Passed sanity check: built 'expr' is the same as the stored Expression.\n"
     ]
    }
   ],
   "source": [
    "# check that the built expression is the same as the stored expression\n",
    "%check_expr"
   ]
  },
  {
   "cell_type": "code",
   "execution_count": 4,
   "metadata": {},
   "outputs": [
    {
     "data": {
      "text/html": [
       "<table><tr><th>&nbsp;</th><th>core type</th><th>sub-expressions</th><th>expression</th></tr>\n",
       "<tr><td>0</td><td>Lambda</td><td>parameter:&nbsp;8<br>body:&nbsp;1<br>conditions:&nbsp;2<br></td><td><a class=\"ProveItLink\" href=\"expr.ipynb\"><img src=\"data:image/png;base64,iVBORw0KGgoAAAANSUhEUgAAAMUAAAAYCAMAAAB9RskzAAAANlBMVEX///8UFBQNDQ0yMjKqqqrM\n",
       "zMzu7u4iIiJmZmaYmJhEREQQEBC6urp2dnaIiIhUVFTc3NwAAACAukRkAAAAAXRSTlMAQObYZgAA\n",
       "AjJJREFUWMPtl4ly6yAMRXmPHcT2/z9bwLEdIzn10k6XKTPJeBzrohO0mbGfvQT7Dcv9UXxMNOSv\n",
       "o4B4ycwCuhXgyyhkOvFw1JwXr52p10bepFC8OMdVk9JFi1sUXeYgMJTqpwoldnJ++yycZXJyu9RP\n",
       "4nX59nU6OuJxC8uSneK/dAob7lIkLR8O+HsR5feOQkWu61r/cKuWvUynUP4kBZJMUCMhydsUwPei\n",
       "h9uBz7CcFnemHcUpCiyZZM1K1WKaoMgpBvBL2ds6KjZbm0DbZDeekTIMhhAK5hXFoEhItmMQsacG\n",
       "puimrizP6sH0WYxb2sah0i8DE3boD/wFxahISPZgMsBsXCnm486lbWbcHoVKT3IeSBuFw7NSwEAB\n",
       "fp8CeUFITimRWmp49FPn12vt+f9Pb5Yv626Py9EG/Pwwf/JCDhElyz4F8oKQnChUSw1EURq0KnLv\n",
       "LGplYCPFaEO1wlZOjlMgLyjJTtH+HHQWucRe0qsGTWGe49ML0kZpol2ElUK9F1HYC0pyomBWoAKr\n",
       "iuh9kAlJUsg4dE/SJlmq084jF+jum93PbqxIST4oWMgoaVrZEdqwJYi33VlRxRLZKE3U/pRcVEyB\n",
       "e9TMV5UWKVKSbr5jUNuqdTqCdPHQOAB6xyZzPO0xWce24pe84vCiRmEvRkmog6WbB8N7k7DffScQ\n",
       "iW8KCh4ozk4g70teXWikO75C/IT3i4vrxGQ+vh6w70OR00XDlL8RBcvX3lgjTv74YRRvCLQYDHRR\n",
       "2oMAAAAASUVORK5CYII=\n",
       "\" style=\"display:inline;vertical-align:middle;\" /></a></td></tr>\n",
       "<tr><td>1</td><td>Operation</td><td>operator:&nbsp;6<br>operands:&nbsp;3<br></td><td><a class=\"ProveItLink\" href=\"../cd457d59bfd8582be7220a7500a0989802bcb0120/expr.ipynb\"><img src=\"data:image/png;base64,iVBORw0KGgoAAAANSUhEUgAAADMAAAAPBAMAAAC7N+rPAAAAMFBMVEX///8yMjKqqqrMzMzu7u4i\n",
       "IiJmZmaYmJhEREQQEBC6urp2dnaIiIhUVFTc3NwAAAD87Fq/AAAAAXRSTlMAQObYZgAAANRJREFU\n",
       "GNNjYMACeALlp7Zhk2BgXr+AZf9ZrFIF1xkYmP4ii7AcDA0VANLsDhOAZC6ylGEJhGbjuwAkfYCY\n",
       "786ueSARvhaoEjeuDVDWygccH0A0xwOogDVTAYTB952BrQHE8IAZbM0FleL9wMB6AKw7NBTiDA9m\n",
       "qIH8DQz+BiCGLUwXo8MFCOP9AQZ9BgcgwxUmxb4BJMXCwOCvwHCRCaSNtwAm174GSCx1YGAsYArj\n",
       "Bvs4CibFe+MIy4oWkLdOWZwCizxMhsmZxf+8hRp2uqJgF8IAAH82L/mC9qalAAAAAElFTkSuQmCC\n",
       "\" style=\"display:inline;vertical-align:middle;\" /></a></td></tr>\n",
       "<tr><td>2</td><td>ExprTuple</td><td>4</td><td><a class=\"ProveItLink\" href=\"../12957ba5983d78ba5bc6241148699b12df1a8c520/expr.ipynb\"><img src=\"data:image/png;base64,iVBORw0KGgoAAAANSUhEUgAAAE4AAAAbBAMAAAAgx6RqAAAAMFBMVEX///+qqqp2dnYiIiJERESI\n",
       "iIhmZmYQEBDc3NyYmJgyMjLu7u5UVFTMzMy6uroAAACGxKilAAAAAXRSTlMAQObYZgAAAYNJREFU\n",
       "OMuNkr9Lw1AQx79pa02apO0fINjRSYRAcVHi6A8kICKIFMFRlI6OHZxcrODmEhAUWoeATl1aUAcL\n",
       "kSCdpKBbwUErCipS8V1skyeEpge5d5f3efcu3wvQ3wQ/fO7HxchlyKm1UK5JrmKFckMGczcI5TAJ\n",
       "iPmA3cr7nIWNt3SPWwPi60FlZlUdaKNeOi2V2KVVC8OPQdylswzkvXujRTzw2/KqppkU3JYVh+Pi\n",
       "OlZ47v6oG9hNucxxEmuBLeL1+A6l4nzvgC0YDY5LfmOBLa1CrO2KUPA4bEsGcYqbqh2csDJf1ACz\n",
       "C/icYtm+YuIPsuxMG1FSHC1N636HDblW8Tn5lbiUjqrjzbFbD3fqv3pnwL6BUdCUz3lOSus+18EV\n",
       "UzuNukAFlSLHYcznkp9YAhJFIRtx25jubSySuKbHMf1eSL5cI+fme1t/758+WC3Z5yImUg4/kJFj\n",
       "zQwYd8KAkkG4VQtQJwbgDtkzMwA3Rb2HYxL9y0J4g7uuPwjlNjGw/QK83F8MsS1u0QAAAABJRU5E\n",
       "rkJggg==\n",
       "\" style=\"display:inline;vertical-align:middle;\" /></a></td></tr>\n",
       "<tr><td>3</td><td>ExprTuple</td><td>8, 5</td><td><a class=\"ProveItLink\" href=\"../4d7c0ad813ab3197c922864bf572a2de9c4f2e7d0/expr.ipynb\"><img src=\"data:image/png;base64,iVBORw0KGgoAAAANSUhEUgAAAC8AAAAVBAMAAAAk6KpUAAAAMFBMVEX////c3NwiIiJERESqqqqY\n",
       "mJh2dnZmZmYQEBDu7u4yMjJUVFTMzMyIiIi6uroAAAAs73DqAAAAAXRSTlMAQObYZgAAASFJREFU\n",
       "KM9jYMAJ+C5gisWBiNMoQrxa65vMGdgPAJkrkcV53j/gzL/NwLAAqATFpICtDAwsvxkYwhgYOCYg\n",
       "ibNOaACS1QwMMxgYXiFrYGfcACTnMjAwOzCUAVmMe/MawRLT+RIgKtgKGJYCqRcCzB/A/GMsARAJ\n",
       "lgUMfUANXxnYDSASfFAJvgaGfwwM3B8YmCBum8wDNYrnA0iC34Bh/gEwn2vCBrhECwOD/AUGfwaw\n",
       "q1kTQBKcYKNMGRjmOzDsYjnACZIxfQskHk1gYF3AkA40IIBFnY1hvgJQjHvzTc7HlmDnPgJ5497h\n",
       "ewwzPoK0HNf/sQ9k2QMGDgGYtx8iBcEMkH3wAESSyEUOdiQJTmCwM0jDoghJAzfIfEYsUXuHgQEA\n",
       "M61El67l9nMAAAAASUVORK5CYII=\n",
       "\" style=\"display:inline;vertical-align:middle;\" /></a></td></tr>\n",
       "<tr><td>4</td><td>Operation</td><td>operator:&nbsp;6<br>operands:&nbsp;7<br></td><td><a class=\"ProveItLink\" href=\"../12dd556c18372ffa5a86a0a8bde7d7d68d4b9b2f0/expr.ipynb\"><img src=\"data:image/png;base64,iVBORw0KGgoAAAANSUhEUgAAAD8AAAAUBAMAAADIGvgZAAAAMFBMVEX///8yMjKqqqrMzMzu7u4i\n",
       "IiJmZmaYmJhEREQQEBC6urp2dnaIiIhUVFTc3NwAAAD87Fq/AAAAAXRSTlMAQObYZgAAAOpJREFU\n",
       "KM9jYMADmBgIAI4BU+D4o9GBIfWrAm4T2pkbGBg+MFwUlBQUPIBNwVWDMwwMEzCtYDkYGioAYtwS\n",
       "4TXApsCwBMq4bMsigqSA786ueWC6BabyMtMBCyQFKx9wfAD76QFcAUMW+wGQAl6wxu8MbA0ghgcD\n",
       "QgGvw+UJMB7vBwZWsF9WhoZCHXmZgeWCI1wBfwODvwGIYYtkAoM1M1zB+wMM+gwOQIYrsgJ2hQYY\n",
       "z1+B4SITyAjeAiQFDPvgChgLmMK4weEUBRPqAmI2ARiP784pi1Ng1sNkiMjCn0DdLAJY4kBXNBRT\n",
       "GAAhQDjQGds0wgAAAABJRU5ErkJggg==\n",
       "\" style=\"display:inline;vertical-align:middle;\" /></a></td></tr>\n",
       "<tr><td>5</td><td>Literal</td><td></td><td><a class=\"ProveItLink\" href=\"../../../complex/__pv_it/c357845f93a5a2d9f649129d299e7ec28dda4b960/expr.ipynb\"><img src=\"data:image/png;base64,iVBORw0KGgoAAAANSUhEUgAAAA8AAAAOBAMAAAACpFvcAAAAMFBMVEX////c3NyqqqqYmJhUVFR2\n",
       "dnbu7u66urrMzMxmZmZEREQQEBAyMjIiIiKIiIgAAAB7fvZ0AAAAAXRSTlMAQObYZgAAAGVJREFU\n",
       "CNdjYGDgu3N+70oGBgaO+gK2+CdAhoEzAwPTFwYG5oQNQN4UBgZORgcgI4+BIZM9gAEMWpkMoAx2\n",
       "KCOLAyrFk+AAYTAHgBhsQLy4DkjUJjAwsHg9Y6taBpLsvP/bnYEBACkBFGQfBv8RAAAAAElFTkSu\n",
       "QmCC\n",
       "\" style=\"display:inline;vertical-align:middle;\" /></a></td></tr>\n",
       "<tr><td>6</td><td>Literal</td><td></td><td><a class=\"ProveItLink\" href=\"../../../../../logic/set_theory/membership/__pv_it/088cbc857536a28d4119ad9639a84270ccb0545d0/expr.ipynb\"><img src=\"data:image/png;base64,iVBORw0KGgoAAAANSUhEUgAAAAwAAAAMBAMAAACkW0HUAAAALVBMVEX///+qqqpmZmZUVFQQEBC6\n",
       "urpERETc3NyYmJjMzMwiIiIyMjKIiIju7u4AAACYsrA9AAAAAXRSTlMAQObYZgAAADxJREFUCNdj\n",
       "YOA9vWrVBgaG2b0MQMCeCyIZ2ArA1DUwyRCyahVIyWQI7xaEYm4AU7xLIdxqTQgtvGvVBgCkcQ7e\n",
       "geM/tQAAAABJRU5ErkJggg==\n",
       "\" style=\"display:inline;vertical-align:middle;\" /></a></td></tr>\n",
       "<tr><td>7</td><td>ExprTuple</td><td>8, 9</td><td><a class=\"ProveItLink\" href=\"../138086bec9c7cd7ae91abca3a5893cc380c3eb300/expr.ipynb\"><img src=\"data:image/png;base64,iVBORw0KGgoAAAANSUhEUgAAAD4AAAAbBAMAAADWjiHyAAAAMFBMVEX///+qqqp2dnYiIiJERESI\n",
       "iIhmZmYQEBDc3NyYmJgyMjLu7u5UVFTMzMy6uroAAACGxKilAAAAAXRSTlMAQObYZgAAAVdJREFU\n",
       "KM+F0j1Lw0AYB/B/+mbTJG2+gRmdpFNxEeKoiAREXKQIjoJ0dOzg5GIEP0AnhdQhm5AlBXWwUAnS\n",
       "saCb4qARBStS8bmS9BKa6ME99/LLc8ddDkguAu++JHmOBY0FpZPqAxYcO9XzBoUbpDoWgGIjMut8\n",
       "rNjYeVdD3wIK29G0ZUUHfHStM8uixV0bMw9Rv/Q2gMZk/ayJ+9i2t23Zi3hBx2bMewOpHXGRtqKm\n",
       "eD2/H7hg9CNe/sYqNY/NnB849kSDuTweKiOcUvoX2yhw2e7xExd/UKNvfWSN0KWOw116Y17R4Xqh\n",
       "406J5Z8DRwZmYYcuqjr3Ea7ollR0BU8KHHPcy0OsAyVTqGXgVmlijV1Ka+J0/ld2/Hq/josh8PxJ\n",
       "uRL3TAsVLxw8Tf/lkgFZCwfmtLtNKNU//ITqUtDPJ7yiRaqHSC0iezuCluoH43ic6rv4t/wC9F1Y\n",
       "B6PU2xsAAAAASUVORK5CYII=\n",
       "\" style=\"display:inline;vertical-align:middle;\" /></a></td></tr>\n",
       "<tr><td>8</td><td>Variable</td><td></td><td><a class=\"ProveItLink\" href=\"../../../../../__pv_it/07527342713064c87612d00d8557c53d53d5324a0/expr.ipynb\"><img src=\"data:image/png;base64,iVBORw0KGgoAAAANSUhEUgAAAAsAAAAJBAMAAAAWSsseAAAAMFBMVEX///8yMjKqqqrMzMzu7u4i\n",
       "IiJmZmaYmJhEREQQEBC6urp2dnaIiIhUVFTc3NwAAAD87Fq/AAAAAXRSTlMAQObYZgAAAEhJREFU\n",
       "CNdjYOC7s2seAwPDygccHxgY+L4zsDUwMPB+YGA9wMDA38Dgb8DA8P4Agz6DA4O/AsNFJgMGxgKm\n",
       "MG6gyjunLE4xAAAZTBA5TB6DCwAAAABJRU5ErkJggg==\n",
       "\" style=\"display:inline;vertical-align:middle;\" /></a></td></tr>\n",
       "<tr><td>9</td><td>Literal</td><td></td><td><a class=\"ProveItLink\" href=\"../42d4bc2e45d5054d807f2641a228c1b440fb8de30/expr.ipynb\"><img src=\"data:image/png;base64,iVBORw0KGgoAAAANSUhEUgAAABsAAAATBAMAAACTqWsLAAAAMFBMVEX////c3Nx2dna6uroQEBCI\n",
       "iIhUVFTMzMyYmJiqqqoiIiJmZmZEREQyMjLu7u4AAADjlg78AAAAAXRSTlMAQObYZgAAAHZJREFU\n",
       "GNNjYIADTgYUwEMy9+2fsw8Ydv2aAJM9wX6AgeEDQ+7dK3fvBjAwZBWEMjA4wPUm32MrQOKml/Hd\n",
       "Q+ZyBtQgcxk2cwSAuGxQLtuDdAe47ekMfAlvkbkMRewoXI4JB5C5DIoI7mEg5r4A49l+AcrwwbgA\n",
       "axoiJO4Xc9gAAAAASUVORK5CYII=\n",
       "\" style=\"display:inline;vertical-align:middle;\" /></a></td></tr>\n",
       "</table>\n"
      ],
      "text/plain": [
       "0. a -> (a in Complexes) | a in NaturalsPos\n",
       "   core type: Lambda\n",
       "   parameter: 8\n",
       "   body: 1\n",
       "   conditions: 2\\n1. a in Complexes\n",
       "   core type: Operation\n",
       "   operator: 6\n",
       "   operands: 3\n",
       "2. (a in NaturalsPos)\n",
       "   core type: ExprTuple\n",
       "   sub-expressions: 4\n",
       "3. (a , Complexes)\n",
       "   core type: ExprTuple\n",
       "   sub-expressions: 8, 5\n",
       "4. a in NaturalsPos\n",
       "   core type: Operation\n",
       "   operator: 6\n",
       "   operands: 7\n",
       "5. Complexes\n",
       "   core type: Literal\n",
       "   sub-expressions: \n",
       "6. in\n",
       "   core type: Literal\n",
       "   sub-expressions: \n",
       "7. (a , NaturalsPos)\n",
       "   core type: ExprTuple\n",
       "   sub-expressions: 8, 9\n",
       "8. a\n",
       "   core type: Variable\n",
       "   sub-expressions: \n",
       "9. NaturalsPos\n",
       "   core type: Literal\n",
       "   sub-expressions: "
      ]
     },
     "execution_count": 4,
     "metadata": {},
     "output_type": "execute_result"
    }
   ],
   "source": [
    "# display the expression information\n",
    "expr.exprInfo()"
   ]
  },
  {
   "cell_type": "code",
   "execution_count": null,
   "metadata": {},
   "outputs": [],
   "source": []
  }
 ],
 "metadata": {
  "kernelspec": {
   "display_name": "Python 3",
   "language": "python",
   "name": "python3"
  }
 },
 "nbformat": 4,
 "nbformat_minor": 0
}
