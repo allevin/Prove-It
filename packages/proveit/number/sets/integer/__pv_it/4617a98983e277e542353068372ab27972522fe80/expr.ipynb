{
 "cells": [
  {
   "cell_type": "markdown",
   "metadata": {},
   "source": [
    "Expression of type <a class=\"ProveItLink\" href=\"../../../../../../../doc/html/api/proveit.Lambda.html\">Lambda</a>\n",
    "=======================\n",
    "# from context <a class=\"ProveItLink\" href=\"../../_context_.ipynb\">proveit.number.sets.integer</a>"
   ]
  },
  {
   "cell_type": "code",
   "execution_count": 1,
   "metadata": {},
   "outputs": [],
   "source": [
    "# import Expression classes needed to build the expression\n",
    "from proveit import Lambda\n",
    "from proveit._common_ import P, Q\n",
    "from proveit.logic import Equals"
   ]
  },
  {
   "cell_type": "code",
   "execution_count": 2,
   "metadata": {},
   "outputs": [
    {
     "data": {
      "text/html": [
       "<strong id=\"expr\">expr:</strong> <a class=\"ProveItLink\" href=\"expr.ipynb\"><img src=\"data:image/png;base64,iVBORw0KGgoAAAANSUhEUgAAAKoAAAAVCAMAAADhNIUQAAAANlBMVEX///8UFBQNDQ2YmJiqqqq6\n",
       "uroQEBBERETu7u4iIiLMzMwyMjKIiIhUVFRmZmZ2dnbc3NwAAACuhPXhAAAAAXRSTlMAQObYZgAA\n",
       "AadJREFUSMfVl9lygzAMRd0C3jf9/88WShpkRTKeQDtTvZhJuMcXWxZCqbtiruq/RFn+ZJpacikp\n",
       "jt4eE0Baw6XasSpBWfWotRL8NiRnR81C+B6MrqLVDpRRi3vVUGwwj991GnTqoez5+RhfrfagnJoP\n",
       "Sgnu558Mg8saYfc1QRas9qCcmg9CyeCfs8Hg0TCwjwlm3moXyqnZIJQK5pjt0Ia2EM1sslmkbawK\n",
       "0I6aPVGEkmFCj/t8CteqkmWSzbssFCsBKqpzQJEkikOpBFoJVm1TWCKkUtYiUqW6KkA7ai4oBZHw\n",
       "ifz8cE1onHGGO37YqgDtqNmKSChwrF/QVlpVlfDZAHfythKgHTVrlVACHM5RUhFcrk2y5ROrAlRU\n",
       "Z7yBRqLMWxWI0Suv8cK1Vn3k6qJs9QVqz9RsA0Qpxdk1D8psmjRvX912INmaukqgFu3lcKoy1pYU\n",
       "SnRb8fMDcpvN2m3Es86qhVoNta/mg7Vm1uvJqwvBNIEIurzfzVJrJqsl3N2vIuj0PphaW3tIWO62\n",
       "iqAXrFJrXutJ3W31gMYL4OvWXhrD3/5g+QI0FxlfXT0DVQAAAABJRU5ErkJggg==\n",
       "\" style=\"display:inline;vertical-align:middle;\" /></a><br>"
      ],
      "text/plain": [
       "expr: Q -> P | Q , P = Q"
      ]
     },
     "execution_count": 2,
     "metadata": {},
     "output_type": "execute_result"
    }
   ],
   "source": [
    "# build up the expression from sub-expressions\n",
    "expr = Lambda(Q, P, conditions = [Q, Equals(P, Q)])"
   ]
  },
  {
   "cell_type": "code",
   "execution_count": 3,
   "metadata": {},
   "outputs": [
    {
     "name": "stdout",
     "output_type": "stream",
     "text": [
      "Passed sanity check: built 'expr' is the same as the stored Expression.\n"
     ]
    }
   ],
   "source": [
    "# check that the built expression is the same as the stored expression\n",
    "%check_expr"
   ]
  },
  {
   "cell_type": "code",
   "execution_count": 4,
   "metadata": {},
   "outputs": [
    {
     "data": {
      "text/html": [
       "<table><tr><th>&nbsp;</th><th>core type</th><th>sub-expressions</th><th>expression</th></tr>\n",
       "<tr><td>0</td><td>Lambda</td><td>parameter:&nbsp;6<br>body:&nbsp;5<br>conditions:&nbsp;1<br></td><td><a class=\"ProveItLink\" href=\"expr.ipynb\"><img src=\"data:image/png;base64,iVBORw0KGgoAAAANSUhEUgAAAKoAAAAVCAMAAADhNIUQAAAANlBMVEX///8UFBQNDQ2YmJiqqqq6\n",
       "uroQEBBERETu7u4iIiLMzMwyMjKIiIhUVFRmZmZ2dnbc3NwAAACuhPXhAAAAAXRSTlMAQObYZgAA\n",
       "AadJREFUSMfVl9lygzAMRd0C3jf9/88WShpkRTKeQDtTvZhJuMcXWxZCqbtiruq/RFn+ZJpacikp\n",
       "jt4eE0Baw6XasSpBWfWotRL8NiRnR81C+B6MrqLVDpRRi3vVUGwwj991GnTqoez5+RhfrfagnJoP\n",
       "Sgnu558Mg8saYfc1QRas9qCcmg9CyeCfs8Hg0TCwjwlm3moXyqnZIJQK5pjt0Ia2EM1sslmkbawK\n",
       "0I6aPVGEkmFCj/t8CteqkmWSzbssFCsBKqpzQJEkikOpBFoJVm1TWCKkUtYiUqW6KkA7ai4oBZHw\n",
       "ifz8cE1onHGGO37YqgDtqNmKSChwrF/QVlpVlfDZAHfythKgHTVrlVACHM5RUhFcrk2y5ROrAlRU\n",
       "Z7yBRqLMWxWI0Suv8cK1Vn3k6qJs9QVqz9RsA0Qpxdk1D8psmjRvX912INmaukqgFu3lcKoy1pYU\n",
       "SnRb8fMDcpvN2m3Es86qhVoNta/mg7Vm1uvJqwvBNIEIurzfzVJrJqsl3N2vIuj0PphaW3tIWO62\n",
       "iqAXrFJrXutJ3W31gMYL4OvWXhrD3/5g+QI0FxlfXT0DVQAAAABJRU5ErkJggg==\n",
       "\" style=\"display:inline;vertical-align:middle;\" /></a></td></tr>\n",
       "<tr><td>1</td><td>ExprTuple</td><td>6, 2</td><td><a class=\"ProveItLink\" href=\"../cc4d38a3eabc20d53f1028e22da5a7dbb8b2b3600/expr.ipynb\"><img src=\"data:image/png;base64,iVBORw0KGgoAAAANSUhEUgAAAGEAAAAVBAMAAACkm51HAAAAMFBMVEX////c3NwiIiJERESqqqqY\n",
       "mJh2dnZmZmYQEBDu7u4yMjJUVFTMzMyIiIi6uroAAAAs73DqAAAAAXRSTlMAQObYZgAAAcxJREFU\n",
       "OMuVU88vA1EQ/mp1+2tVTy4iBJee1EE4SDTxB9TJSSgRTYhoSHpw4UBCJPQk4tQQ4leCHknTjZPE\n",
       "gTgTG0cuokirTWvmdVdi21Q6yZt9szPfvHkz3wOqF/ddFcHDrG5YNUSmDGBdMnsZPy+JtYQmEoBN\n",
       "pe0hLfkEiEd1X30M6PGYEZMqXF6AfHWU27FLv+xnuu82CASCJsC2j9QaMEiBlNrZQqYtozufNGAk\n",
       "bELssFqIYgt44R1XJ+d1Zx+tpP8vwJZjPaNB8iNCl0qxKX/o3m8qM2U6otknEH7IYexRgk82pVzR\n",
       "qXwBV6Ko+SOWY1HPgDhdRW0M60CNuEH9ot7d7ERo1NypDtHINE1vEXkj1miPlCkzuTSrWjpdeRMI\n",
       "bhUO9HkULZO8s3KuCsQS7d44Qc4Yx29jZ1tZ2nh7KqpQRVVdFJy3PKrXNIWoMY4SCWhNDwpdGdYY\n",
       "QvQZ28R4J/VUnN0XLYOQvUG5n5lD3X1m+l5Mt0OBY8MDx1whUY60r/v3flBVTg32Iud6MURITwWi\n",
       "S6qVEMQSa7Gp3W5ipbXS05DCTKhpne1EpIL2D8JVoEE4KC8ahX29TKria1RWiCkurttSzat9AH4A\n",
       "nxN3Rz3Rb+oAAAAASUVORK5CYII=\n",
       "\" style=\"display:inline;vertical-align:middle;\" /></a></td></tr>\n",
       "<tr><td>2</td><td>Operation</td><td>operator:&nbsp;3<br>operands:&nbsp;4<br></td><td><a class=\"ProveItLink\" href=\"../ad8cc5574d6913586ec316afc8f8eb4e46f2e1150/expr.ipynb\"><img src=\"data:image/png;base64,iVBORw0KGgoAAAANSUhEUgAAADsAAAASBAMAAAAXqLt+AAAAMFBMVEX////u7u5mZmaYmJi6urqq\n",
       "qqp2dnbMzMwQEBBEREQyMjLc3NwiIiJUVFSIiIgAAAAeC3ydAAAAAXRSTlMAQObYZgAAAN5JREFU\n",
       "KM9jYGB4+//u3bMbGNAAd1LaPQjrFwMDZze6dFYBA+9BEIP9GwMD6zc0WakJQKIXxOL7wsDA/AlN\n",
       "eg2I0BcAEpwfGBh4v6LKMn0HkfkOQIJ/AQOD/ARU6f1gfn4AkKhPYGA/BNayCgwugIw1AAnMLwAS\n",
       "76+lqaH76zzIVoYfYDUCDBgALAHxzh9MWYgYVyPI23A/MZ0BA5Cr1oP48QVQb2OAeId9z9lbQCzO\n",
       "j1ik2Q4msEWC3Cs0/+8DLPK+y94EMBQw4AacBcx4pRW88Mgy8P7/gk+avQMYsACkOkEpvD6FzwAA\n",
       "AABJRU5ErkJggg==\n",
       "\" style=\"display:inline;vertical-align:middle;\" /></a></td></tr>\n",
       "<tr><td>3</td><td>Literal</td><td></td><td><a class=\"ProveItLink\" href=\"../../../../../logic/equality/__pv_it/2fb26078095930560931daa0500ce419a39ea6cd0/expr.ipynb\"><img src=\"data:image/png;base64,iVBORw0KGgoAAAANSUhEUgAAAA4AAAAFBAMAAACHocAhAAAAFVBMVEX///9EREQiIiJUVFQyMjJm\n",
       "ZmYAAADubVkoAAAAAXRSTlMAQObYZgAAABRJREFUCNdjCHEBAWcGXCBICQQUAUpuAwlgGKrkAAAA\n",
       "AElFTkSuQmCC\n",
       "\" style=\"display:inline;vertical-align:middle;\" /></a></td></tr>\n",
       "<tr><td>4</td><td>ExprTuple</td><td>5, 6</td><td><a class=\"ProveItLink\" href=\"../d7a1e7ea4a4f91471e6430488ddf80a6c01c0dbd0/expr.ipynb\"><img src=\"data:image/png;base64,iVBORw0KGgoAAAANSUhEUgAAADMAAAAVBAMAAAAZessyAAAAMFBMVEX////c3NwiIiJERESqqqqY\n",
       "mJh2dnZmZmYQEBDu7u4yMjJUVFTMzMyIiIi6uroAAAAs73DqAAAAAXRSTlMAQObYZgAAAUZJREFU\n",
       "KM99Ur9Lw1AYvJImbZpUu4s4SnHQxbkB/4A6OUqmFgRpp65VcFAEzaa4GAQFJzeXImR3UFwtGBx1\n",
       "KSJt/UHrd++10aH4IJfLu3Dv++57wD9r6n7S7jrhVp7HYau1UNCbqWrlBshEQi/5/QkY21raiOAU\n",
       "gRDI08/tAumuUk6WBPaBNSAbCM0PALOnpDNCM8Ax8EJqdADnnSzzTazFMDw0SKfF+ZROmFNY82DV\n",
       "cU5658OdV37NVWIpQjrEAenTdaWha1/k0ehLu1sYqL+Ccat9Aot1O1p6S1JQLLenpB221UukK0I5\n",
       "UobLo7Zk0bUcz7Zdnm+GqLKtDyo2zayib62wIin+GTgqfTEt+5BbrxcPHsQwFyNb+B2PpkZkiiRB\n",
       "mX4imfpl1Bne5ngofyVnKFXZEh1mEmk0bndXwnJonpp4AdrAD2bmUgaDRD48AAAAAElFTkSuQmCC\n",
       "\" style=\"display:inline;vertical-align:middle;\" /></a></td></tr>\n",
       "<tr><td>5</td><td>Variable</td><td></td><td><a class=\"ProveItLink\" href=\"../../../../../__pv_it/6369c6c8083c513ca7161ace249642d040f9327d0/expr.ipynb\"><img src=\"data:image/png;base64,iVBORw0KGgoAAAANSUhEUgAAABAAAAAOBAMAAADUAYG5AAAAMFBMVEX////u7u5mZmaYmJi6urqq\n",
       "qqp2dnbMzMwQEBBEREQyMjLc3NwiIiJUVFSIiIgAAAAeC3ydAAAAAXRSTlMAQObYZgAAAGBJREFU\n",
       "CNdjYGB4+//u3bMbGIDgFwMDZzeQZv/GwMAKxAx8XxgYmD8BGZwfGBh4vwIZ/AsYGOQnABn1CQzs\n",
       "h0Ca3l9LUwPrni/AAAF/oDT7JygDZAwYcH6E0ELz/z4A0QBnpRnRyxnfJQAAAABJRU5ErkJggg==\n",
       "\" style=\"display:inline;vertical-align:middle;\" /></a></td></tr>\n",
       "<tr><td>6</td><td>Variable</td><td></td><td><a class=\"ProveItLink\" href=\"../../../../../__pv_it/98124f92e6e1fc3772af50ac63eaa1f5624776f20/expr.ipynb\"><img src=\"data:image/png;base64,iVBORw0KGgoAAAANSUhEUgAAAA8AAAASBAMAAAB2sJk8AAAAMFBMVEX///+YmJiqqqq6uroQEBBE\n",
       "RETu7u4iIiLMzMwyMjKIiIhUVFRmZmZ2dnbc3NwAAADS0us6AAAAAXRSTlMAQObYZgAAAHxJREFU\n",
       "CNdjYGDgu3N3FwMI3Gxg4C4D0pkBQMIbiKeDRM8nMPD8ADHuGzC8DwAzFBjOC4AY8Q0M9Qkgxhcw\n",
       "YmBg+svA8B3E4HRjYJgPYug3ALHBqxUczkAOb9kFXtUHIGHrucsVGBrAtrI2MEIZByzBNAP3/88Q\n",
       "BocL0BoActoerD1tNT4AAAAASUVORK5CYII=\n",
       "\" style=\"display:inline;vertical-align:middle;\" /></a></td></tr>\n",
       "</table>\n"
      ],
      "text/plain": [
       "0. Q -> P | Q , P = Q\n",
       "   core type: Lambda\n",
       "   parameter: 6\n",
       "   body: 5\n",
       "   conditions: 1\\n1. (Q , P = Q)\n",
       "   core type: ExprTuple\n",
       "   sub-expressions: 6, 2\n",
       "2. P = Q\n",
       "   core type: Operation\n",
       "   operator: 3\n",
       "   operands: 4\n",
       "3. =\n",
       "   core type: Literal\n",
       "   sub-expressions: \n",
       "4. (P , Q)\n",
       "   core type: ExprTuple\n",
       "   sub-expressions: 5, 6\n",
       "5. P\n",
       "   core type: Variable\n",
       "   sub-expressions: \n",
       "6. Q\n",
       "   core type: Variable\n",
       "   sub-expressions: "
      ]
     },
     "execution_count": 4,
     "metadata": {},
     "output_type": "execute_result"
    }
   ],
   "source": [
    "# display the expression information\n",
    "expr.exprInfo()"
   ]
  },
  {
   "cell_type": "code",
   "execution_count": null,
   "metadata": {},
   "outputs": [],
   "source": []
  }
 ],
 "metadata": {
  "kernelspec": {
   "display_name": "Python 3",
   "language": "python",
   "name": "python3"
  }
 },
 "nbformat": 4,
 "nbformat_minor": 0
}
