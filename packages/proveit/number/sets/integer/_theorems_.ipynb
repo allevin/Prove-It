{
 "cells": [
  {
   "cell_type": "markdown",
   "metadata": {
    "collapsed": true
   },
   "source": [
    "Theorems for context <a href=\"_context_.ipynb\" class=\"ProveItLink\">proveit.number.sets.integer</a>\n",
    "========"
   ]
  },
  {
   "cell_type": "code",
   "execution_count": 1,
   "metadata": {},
   "outputs": [],
   "source": [
    "import proveit\n",
    "# the context is in the current directory:\n",
    "context = proveit.Context('.') # adds context root to sys.path if necessary\n",
    "from proveit import Operation\n",
    "from proveit._common_ import a, b, c, d, e, f, g, h, i, m, n, x, y, S, P\n",
    "from proveit.logic import Forall, And, Implies, Equals, InSet, Subset\n",
    "from proveit.number import zero, one, num\n",
    "from proveit.number import Naturals, NaturalsPos, Integers, Interval, Reals, RealsPos, Complexes\n",
    "from proveit.number import Add, Len, Greater, GreaterEq, Less, LessEq, LessEqOnlySeq\n",
    "from proveit.number._common_ import Pzero, Pone, Pm, P_mAddOne, Pn"
   ]
  },
  {
   "cell_type": "code",
   "execution_count": 2,
   "metadata": {},
   "outputs": [
    {
     "name": "stdout",
     "output_type": "stream",
     "text": [
      "Defining theorems for context 'proveit.number.sets.integer'\n",
      "Subsequent end-of-cell assignments will define theorems\n",
      "'%end theorems' will finalize the definitions\n"
     ]
    }
   ],
   "source": [
    "%begin theorems"
   ]
  },
  {
   "cell_type": "code",
   "execution_count": 3,
   "metadata": {},
   "outputs": [
    {
     "data": {
      "text/html": [
       "<strong id=\"zeroInNats\"><a class=\"ProveItLink\" href=\"_proofs_/zeroInNats.ipynb\">zeroInNats</a>:</strong> <a class=\"ProveItLink\" href=\"__pv_it/50688835e4f8f7c7ea93ceb53b4c2bc2c084e66a0/expr.ipynb\"><img src=\"__pv_it/50688835e4f8f7c7ea93ceb53b4c2bc2c084e66a0/expr.png\" style=\"display:inline;vertical-align:middle;\" /></a><br>"
      ],
      "text/plain": [
       "zeroInNats: 0 in Naturals"
      ]
     },
     "execution_count": 3,
     "metadata": {},
     "output_type": "execute_result"
    }
   ],
   "source": [
    "# Proven\n",
    "zeroInNats = InSet(zero, Naturals)"
   ]
  },
  {
   "cell_type": "code",
   "execution_count": 4,
   "metadata": {},
   "outputs": [
    {
     "data": {
      "text/html": [
       "<strong id=\"successiveNats\"><a class=\"ProveItLink\" href=\"_proofs_/successiveNats.ipynb\">successiveNats</a>:</strong> <a class=\"ProveItLink\" href=\"__pv_it/8e400090fb63f3b476d53594c4d61b8709839d170/expr.ipynb\"><img src=\"__pv_it/8e400090fb63f3b476d53594c4d61b8709839d170/expr.png\" style=\"display:inline;vertical-align:middle;\" /></a><br>"
      ],
      "text/plain": [
       "successiveNats: forall_{n in Naturals} ((n + 1) in Naturals)"
      ]
     },
     "execution_count": 4,
     "metadata": {},
     "output_type": "execute_result"
    }
   ],
   "source": [
    "# Proven\n",
    "successiveNats = Forall(n, InSet(Add(n, one), Naturals), domain=Naturals)"
   ]
  },
  {
   "cell_type": "code",
   "execution_count": 5,
   "metadata": {},
   "outputs": [
    {
     "data": {
      "text/html": [
       "<strong id=\"inductionLemma\"><a class=\"ProveItLink\" href=\"_proofs_/inductionLemma.ipynb\">inductionLemma</a>:</strong> <a class=\"ProveItLink\" href=\"__pv_it/30f0eac65bb94087259ebecaeaf997c556c0ab3c0/expr.ipynb\"><img src=\"__pv_it/30f0eac65bb94087259ebecaeaf997c556c0ab3c0/expr.png\" style=\"display:inline;vertical-align:middle;\" /></a><br>"
      ],
      "text/plain": [
       "inductionLemma: forall_{n in Naturals} [forall_{S} (((0 in S) and [forall_{x in S} ((x + 1) in S)]) => (n in S))]"
      ]
     },
     "execution_count": 5,
     "metadata": {},
     "output_type": "execute_result"
    }
   ],
   "source": [
    "# Proven\n",
    "inductionLemma = Forall(n, Forall(S, Implies(And(InSet(zero, S), Forall(x, InSet(Add(x,one), S), domain=S)), InSet(n, S))), domain=Naturals)"
   ]
  },
  {
   "cell_type": "code",
   "execution_count": 6,
   "metadata": {},
   "outputs": [
    {
     "data": {
      "text/html": [
       "<strong id=\"induction\"><a class=\"ProveItLink\" href=\"_proofs_/induction.ipynb\">induction</a>:</strong> <a class=\"ProveItLink\" href=\"__pv_it/63f54bb13fad81db8dc1626e3cde463523867e4d0/expr.ipynb\"><img src=\"__pv_it/63f54bb13fad81db8dc1626e3cde463523867e4d0/expr.png\" style=\"display:inline;vertical-align:middle;\" /></a><br>"
      ],
      "text/plain": [
       "induction: forall_{P} ((P(0) and [forall_{m in Naturals | P(m)} P(m + 1)]) => [forall_{n in Naturals} P(n)])"
      ]
     },
     "execution_count": 6,
     "metadata": {},
     "output_type": "execute_result"
    }
   ],
   "source": [
    "# NOT Proven\n",
    "induction = Forall(P, Implies(And(Pzero, Forall(m, P_mAddOne, domain=Naturals, conditions=[Pm])), Forall(n, Pn, Naturals)))"
   ]
  },
  {
   "cell_type": "code",
   "execution_count": 7,
   "metadata": {},
   "outputs": [
    {
     "data": {
      "text/html": [
       "<strong id=\"natPosInduction\"><a class=\"ProveItLink\" href=\"_proofs_/natPosInduction.ipynb\">natPosInduction</a>:</strong> <a class=\"ProveItLink\" href=\"__pv_it/a2b18004b5c6029b0f83d7446606bff2356c5f2d0/expr.ipynb\"><img src=\"__pv_it/a2b18004b5c6029b0f83d7446606bff2356c5f2d0/expr.png\" style=\"display:inline;vertical-align:middle;\" /></a><br>"
      ],
      "text/plain": [
       "natPosInduction: forall_{P} ((P(1) and [forall_{m in Naturals | P(m)} P(m + 1)]) => [forall_{n in NaturalsPos} P(n)])"
      ]
     },
     "execution_count": 7,
     "metadata": {},
     "output_type": "execute_result"
    }
   ],
   "source": [
    "# NOT Proven\n",
    "natPosInduction = Forall(P, Implies(And(Pone, Forall(m, P_mAddOne, domain=Naturals, conditions=[Pm])), Forall(n, Pn, NaturalsPos)))"
   ]
  },
  {
   "cell_type": "code",
   "execution_count": 8,
   "metadata": {},
   "outputs": [
    {
     "data": {
      "text/html": [
       "<strong id=\"inNaturalsIfNonNeg\"><a class=\"ProveItLink\" href=\"_proofs_/inNaturalsIfNonNeg.ipynb\">inNaturalsIfNonNeg</a>:</strong> <a class=\"ProveItLink\" href=\"__pv_it/c6240b595b39b5bc4a94f5d78ad1d5d11d943abb0/expr.ipynb\"><img src=\"__pv_it/c6240b595b39b5bc4a94f5d78ad1d5d11d943abb0/expr.png\" style=\"display:inline;vertical-align:middle;\" /></a><br>"
      ],
      "text/plain": [
       "inNaturalsIfNonNeg: forall_{a in Integers | a >= 0} (a in Naturals)"
      ]
     },
     "execution_count": 8,
     "metadata": {},
     "output_type": "execute_result"
    }
   ],
   "source": [
    "# In Progress\n",
    "inNaturalsIfNonNeg = Forall(a, InSet(a,Naturals), domain=Integers, conditions=[GreaterEq(a, zero)])"
   ]
  },
  {
   "cell_type": "code",
   "execution_count": 9,
   "metadata": {},
   "outputs": [
    {
     "data": {
      "text/html": [
       "<strong id=\"inNaturalsPosIfPos\"><a class=\"ProveItLink\" href=\"_proofs_/inNaturalsPosIfPos.ipynb\">inNaturalsPosIfPos</a>:</strong> <a class=\"ProveItLink\" href=\"__pv_it/b0f33bb9310b61eda5e00881ec4c32feb0aa1cb60/expr.ipynb\"><img src=\"__pv_it/b0f33bb9310b61eda5e00881ec4c32feb0aa1cb60/expr.png\" style=\"display:inline;vertical-align:middle;\" /></a><br>"
      ],
      "text/plain": [
       "inNaturalsPosIfPos: forall_{a in Integers | a > 0} (a in NaturalsPos)"
      ]
     },
     "execution_count": 9,
     "metadata": {},
     "output_type": "execute_result"
    }
   ],
   "source": [
    "# NOT Proven\n",
    "inNaturalsPosIfPos = Forall(a, InSet(a,NaturalsPos), domain=Integers, conditions=[Greater(a, zero)])"
   ]
  },
  {
   "cell_type": "code",
   "execution_count": 10,
   "metadata": {},
   "outputs": [
    {
     "data": {
      "text/html": [
       "<strong id=\"intervalInNats\"><a class=\"ProveItLink\" href=\"_proofs_/intervalInNats.ipynb\">intervalInNats</a>:</strong> <a class=\"ProveItLink\" href=\"__pv_it/7133fa2286458985709c4efe4655e506113837c70/expr.ipynb\"><img src=\"__pv_it/7133fa2286458985709c4efe4655e506113837c70/expr.png\" style=\"display:inline;vertical-align:middle;\" /></a><br>"
      ],
      "text/plain": [
       "intervalInNats: forall_{a, b in Naturals} [forall_{n in {a...b}} (n in Naturals)]"
      ]
     },
     "execution_count": 10,
     "metadata": {},
     "output_type": "execute_result"
    }
   ],
   "source": [
    "# NOT Proven\n",
    "intervalInNats = Forall((a, b), Forall(n, InSet(n, Naturals), domain=Interval(a, b)), domain=Naturals)"
   ]
  },
  {
   "cell_type": "code",
   "execution_count": 11,
   "metadata": {},
   "outputs": [
    {
     "data": {
      "text/html": [
       "<strong id=\"intervalInNatsPos\"><a class=\"ProveItLink\" href=\"_proofs_/intervalInNatsPos.ipynb\">intervalInNatsPos</a>:</strong> <a class=\"ProveItLink\" href=\"__pv_it/83eb45f7382a97bf0f1567a4434cb6450875d6090/expr.ipynb\"><img src=\"__pv_it/83eb45f7382a97bf0f1567a4434cb6450875d6090/expr.png\" style=\"display:inline;vertical-align:middle;\" /></a><br>"
      ],
      "text/plain": [
       "intervalInNatsPos: forall_{a, b in Integers | a > 0} [forall_{n in {a...b}} (n in NaturalsPos)]"
      ]
     },
     "execution_count": 11,
     "metadata": {},
     "output_type": "execute_result"
    }
   ],
   "source": [
    "# NOT Proven\n",
    "intervalInNatsPos = Forall((a, b), Forall(n, InSet(n, NaturalsPos), domain=Interval(a, b)), domain=Integers, conditions=[Greater(a, zero)])"
   ]
  },
  {
   "cell_type": "code",
   "execution_count": 12,
   "metadata": {},
   "outputs": [
    {
     "data": {
      "text/html": [
       "<strong id=\"allInNegativeIntervalAreNegative\"><a class=\"ProveItLink\" href=\"_proofs_/allInNegativeIntervalAreNegative.ipynb\">allInNegativeIntervalAreNegative</a>:</strong> <a class=\"ProveItLink\" href=\"__pv_it/7a797b344c263c07d5e1c3c99d9750beae2b5bab0/expr.ipynb\"><img src=\"__pv_it/7a797b344c263c07d5e1c3c99d9750beae2b5bab0/expr.png\" style=\"display:inline;vertical-align:middle;\" /></a><br>"
      ],
      "text/plain": [
       "allInNegativeIntervalAreNegative: forall_{a, b in Integers | b < 0} [forall_{n in {a...b}} (n < 0)]"
      ]
     },
     "execution_count": 12,
     "metadata": {},
     "output_type": "execute_result"
    }
   ],
   "source": [
    "# NOT Proven\n",
    "allInNegativeIntervalAreNegative = Forall((a, b), Forall(n, Less(n, zero), domain=Interval(a, b)), domain=Integers, conditions=[Less(b, zero)])"
   ]
  },
  {
   "cell_type": "code",
   "execution_count": 13,
   "metadata": {},
   "outputs": [
    {
     "data": {
      "text/html": [
       "<strong id=\"allInPositiveIntervalArePositive\"><a class=\"ProveItLink\" href=\"_proofs_/allInPositiveIntervalArePositive.ipynb\">allInPositiveIntervalArePositive</a>:</strong> <a class=\"ProveItLink\" href=\"__pv_it/2afa6d03f10563dbd8f945e27f2078b4113c7dd50/expr.ipynb\"><img src=\"__pv_it/2afa6d03f10563dbd8f945e27f2078b4113c7dd50/expr.png\" style=\"display:inline;vertical-align:middle;\" /></a><br>"
      ],
      "text/plain": [
       "allInPositiveIntervalArePositive: forall_{a, b in Integers | a > 0} [forall_{n in {a...b}} (n > 0)]"
      ]
     },
     "execution_count": 13,
     "metadata": {},
     "output_type": "execute_result"
    }
   ],
   "source": [
    "# NOT Proven\n",
    "allInPositiveIntervalArePositive = Forall((a, b), Forall(n, Greater(n, zero), domain=Interval(a, b)), domain=Integers, conditions=[Greater(a, zero)])"
   ]
  },
  {
   "cell_type": "code",
   "execution_count": 14,
   "metadata": {},
   "outputs": [
    {
     "data": {
      "text/html": [
       "<strong id=\"intervalLowerBound\"><a class=\"ProveItLink\" href=\"_proofs_/intervalLowerBound.ipynb\">intervalLowerBound</a>:</strong> <a class=\"ProveItLink\" href=\"__pv_it/b4926ca8a8aefb24ba455bf38d267fe13d7386bf0/expr.ipynb\"><img src=\"__pv_it/b4926ca8a8aefb24ba455bf38d267fe13d7386bf0/expr.png\" style=\"display:inline;vertical-align:middle;\" /></a><br>"
      ],
      "text/plain": [
       "intervalLowerBound: forall_{a, b in Integers} [forall_{n in {a...b}} (a <= n)]"
      ]
     },
     "execution_count": 14,
     "metadata": {},
     "output_type": "execute_result"
    }
   ],
   "source": [
    "# NOT Proven\n",
    "intervalLowerBound = Forall((a, b), Forall(n, LessEq(a, n), domain=Interval(a, b)), domain=Integers)"
   ]
  },
  {
   "cell_type": "code",
   "execution_count": 15,
   "metadata": {},
   "outputs": [
    {
     "data": {
      "text/html": [
       "<strong id=\"intervalUpperBound\"><a class=\"ProveItLink\" href=\"_proofs_/intervalUpperBound.ipynb\">intervalUpperBound</a>:</strong> <a class=\"ProveItLink\" href=\"__pv_it/3103519477ab9de0372167f75f17c68a3a018cc40/expr.ipynb\"><img src=\"__pv_it/3103519477ab9de0372167f75f17c68a3a018cc40/expr.png\" style=\"display:inline;vertical-align:middle;\" /></a><br>"
      ],
      "text/plain": [
       "intervalUpperBound: forall_{a, b in Integers} [forall_{n in {a...b}} (n <= b)]"
      ]
     },
     "execution_count": 15,
     "metadata": {},
     "output_type": "execute_result"
    }
   ],
   "source": [
    "# NOT Proven\n",
    "intervalUpperBound = Forall((a, b), Forall(n, LessEq(n, b), domain=Interval(a, b)), domain=Integers)"
   ]
  },
  {
   "cell_type": "code",
   "execution_count": 16,
   "metadata": {},
   "outputs": [
    {
     "data": {
      "text/html": [
       "<strong id=\"inInterval\"><a class=\"ProveItLink\" href=\"_proofs_/inInterval.ipynb\">inInterval</a>:</strong> <a class=\"ProveItLink\" href=\"__pv_it/854a3acaa3c34186367f4f68797fb5500fbaf5620/expr.ipynb\"><img src=\"__pv_it/854a3acaa3c34186367f4f68797fb5500fbaf5620/expr.png\" style=\"display:inline;vertical-align:middle;\" /></a><br>"
      ],
      "text/plain": [
       "inInterval: forall_{a, b, n in Integers | a <= n <= b} (n in {a...b})"
      ]
     },
     "execution_count": 16,
     "metadata": {},
     "output_type": "execute_result"
    }
   ],
   "source": [
    "# NOT Proven\n",
    "inInterval = Forall((a, b, n), InSet(n, Interval(a, b)), domain=Integers, \n",
    "                    conditions=[LessEqOnlySeq(a, n, b)])"
   ]
  },
  {
   "cell_type": "code",
   "execution_count": 17,
   "metadata": {},
   "outputs": [
    {
     "data": {
      "text/html": [
       "<strong id=\"natsInInts\"><a class=\"ProveItLink\" href=\"_proofs_/natsInInts.ipynb\">natsInInts</a>:</strong> <a class=\"ProveItLink\" href=\"__pv_it/4146342ce066973ea7c009a73ef00e69b2a7cf510/expr.ipynb\"><img src=\"__pv_it/4146342ce066973ea7c009a73ef00e69b2a7cf510/expr.png\" style=\"display:inline;vertical-align:middle;\" /></a><br>"
      ],
      "text/plain": [
       "natsInInts: forall_{a in Naturals} (a in Integers)"
      ]
     },
     "execution_count": 17,
     "metadata": {},
     "output_type": "execute_result"
    }
   ],
   "source": [
    "# NOT Proven\n",
    "natsInInts = Forall(a,InSet(a,Integers),domain = Naturals)"
   ]
  },
  {
   "cell_type": "code",
   "execution_count": 18,
   "metadata": {},
   "outputs": [
    {
     "data": {
      "text/html": [
       "<strong id=\"natsInReals\"><a class=\"ProveItLink\" href=\"_proofs_/natsInReals.ipynb\">natsInReals</a>:</strong> <a class=\"ProveItLink\" href=\"__pv_it/bcf53f5bb2b8979e5111b2609a43472090b751a60/expr.ipynb\"><img src=\"__pv_it/bcf53f5bb2b8979e5111b2609a43472090b751a60/expr.png\" style=\"display:inline;vertical-align:middle;\" /></a><br>"
      ],
      "text/plain": [
       "natsInReals: forall_{a in Naturals} (a in Reals)"
      ]
     },
     "execution_count": 18,
     "metadata": {},
     "output_type": "execute_result"
    }
   ],
   "source": [
    "# NOT Proven\n",
    "natsInReals = Forall(a,InSet(a,Reals),domain = Naturals)"
   ]
  },
  {
   "cell_type": "code",
   "execution_count": 19,
   "metadata": {},
   "outputs": [
    {
     "data": {
      "text/html": [
       "<strong id=\"natsInComplexes\"><a class=\"ProveItLink\" href=\"_proofs_/natsInComplexes.ipynb\">natsInComplexes</a>:</strong> <a class=\"ProveItLink\" href=\"__pv_it/92005de89a91dff584a6022053d4f29fb57b7bc00/expr.ipynb\"><img src=\"__pv_it/92005de89a91dff584a6022053d4f29fb57b7bc00/expr.png\" style=\"display:inline;vertical-align:middle;\" /></a><br>"
      ],
      "text/plain": [
       "natsInComplexes: forall_{a in Naturals} (a in Complexes)"
      ]
     },
     "execution_count": 19,
     "metadata": {},
     "output_type": "execute_result"
    }
   ],
   "source": [
    "# NOT Proven\n",
    "natsInComplexes = Forall(a,InSet(a,Complexes),domain = Naturals)"
   ]
  },
  {
   "cell_type": "code",
   "execution_count": 20,
   "metadata": {},
   "outputs": [
    {
     "data": {
      "text/html": [
       "<strong id=\"natsPosInNaturals\"><a class=\"ProveItLink\" href=\"_proofs_/natsPosInNaturals.ipynb\">natsPosInNaturals</a>:</strong> <a class=\"ProveItLink\" href=\"__pv_it/1caf495796815a9a906bbef6b09d7ca5a4dbf0d60/expr.ipynb\"><img src=\"__pv_it/1caf495796815a9a906bbef6b09d7ca5a4dbf0d60/expr.png\" style=\"display:inline;vertical-align:middle;\" /></a><br>"
      ],
      "text/plain": [
       "natsPosInNaturals: forall_{a in NaturalsPos} (a in Naturals)"
      ]
     },
     "execution_count": 20,
     "metadata": {},
     "output_type": "execute_result"
    }
   ],
   "source": [
    "# NOT Proven\n",
    "natsPosInNaturals = Forall(a,InSet(a,Naturals),domain = NaturalsPos)"
   ]
  },
  {
   "cell_type": "code",
   "execution_count": 21,
   "metadata": {},
   "outputs": [
    {
     "data": {
      "text/html": [
       "<strong id=\"natsPosInIntegers\"><a class=\"ProveItLink\" href=\"_proofs_/natsPosInIntegers.ipynb\">natsPosInIntegers</a>:</strong> <a class=\"ProveItLink\" href=\"__pv_it/e9509a2db751ed863a7bab63d50d9de8837f3e4d0/expr.ipynb\"><img src=\"__pv_it/e9509a2db751ed863a7bab63d50d9de8837f3e4d0/expr.png\" style=\"display:inline;vertical-align:middle;\" /></a><br>"
      ],
      "text/plain": [
       "natsPosInIntegers: forall_{a in NaturalsPos} (a in Integers)"
      ]
     },
     "execution_count": 21,
     "metadata": {},
     "output_type": "execute_result"
    }
   ],
   "source": [
    "# NOT Proven\n",
    "natsPosInIntegers = Forall(a,InSet(a,Integers),domain = NaturalsPos)"
   ]
  },
  {
   "cell_type": "code",
   "execution_count": 22,
   "metadata": {},
   "outputs": [
    {
     "data": {
      "text/html": [
       "<strong id=\"natsPosInRealsPos\"><a class=\"ProveItLink\" href=\"_proofs_/natsPosInRealsPos.ipynb\">natsPosInRealsPos</a>:</strong> <a class=\"ProveItLink\" href=\"__pv_it/206a2c42dfa501cb2765aa4db6074d24d6d43e290/expr.ipynb\"><img src=\"__pv_it/206a2c42dfa501cb2765aa4db6074d24d6d43e290/expr.png\" style=\"display:inline;vertical-align:middle;\" /></a><br>"
      ],
      "text/plain": [
       "natsPosInRealsPos: forall_{a in NaturalsPos} (a in RealsPos)"
      ]
     },
     "execution_count": 22,
     "metadata": {},
     "output_type": "execute_result"
    }
   ],
   "source": [
    "# NOT Proven\n",
    "natsPosInRealsPos = Forall(a,InSet(a,RealsPos),domain = NaturalsPos)"
   ]
  },
  {
   "cell_type": "code",
   "execution_count": 23,
   "metadata": {},
   "outputs": [
    {
     "data": {
      "text/html": [
       "<strong id=\"natsPosInReals\"><a class=\"ProveItLink\" href=\"_proofs_/natsPosInReals.ipynb\">natsPosInReals</a>:</strong> <a class=\"ProveItLink\" href=\"__pv_it/516a65fa259f7507085779802b69ce32d538d0da0/expr.ipynb\"><img src=\"__pv_it/516a65fa259f7507085779802b69ce32d538d0da0/expr.png\" style=\"display:inline;vertical-align:middle;\" /></a><br>"
      ],
      "text/plain": [
       "natsPosInReals: forall_{a in NaturalsPos} (a in Reals)"
      ]
     },
     "execution_count": 23,
     "metadata": {},
     "output_type": "execute_result"
    }
   ],
   "source": [
    "# NOT Proven\n",
    "natsPosInReals = Forall(a,InSet(a,Reals),domain = NaturalsPos)"
   ]
  },
  {
   "cell_type": "code",
   "execution_count": 24,
   "metadata": {},
   "outputs": [
    {
     "data": {
      "text/html": [
       "<strong id=\"natsPosInComplexes\"><a class=\"ProveItLink\" href=\"_proofs_/natsPosInComplexes.ipynb\">natsPosInComplexes</a>:</strong> <a class=\"ProveItLink\" href=\"__pv_it/5074336bb4f9b28d9d86c9a80dfd345eb187effd0/expr.ipynb\"><img src=\"__pv_it/5074336bb4f9b28d9d86c9a80dfd345eb187effd0/expr.png\" style=\"display:inline;vertical-align:middle;\" /></a><br>"
      ],
      "text/plain": [
       "natsPosInComplexes: forall_{a in NaturalsPos} (a in Complexes)"
      ]
     },
     "execution_count": 24,
     "metadata": {},
     "output_type": "execute_result"
    }
   ],
   "source": [
    "# NOT Proven\n",
    "natsPosInComplexes = Forall(a,InSet(a,Complexes),domain = NaturalsPos)"
   ]
  },
  {
   "cell_type": "code",
   "execution_count": 25,
   "metadata": {},
   "outputs": [
    {
     "data": {
      "text/html": [
       "<strong id=\"naturalsLowerBound\"><a class=\"ProveItLink\" href=\"_proofs_/naturalsLowerBound.ipynb\">naturalsLowerBound</a>:</strong> <a class=\"ProveItLink\" href=\"__pv_it/7650282aed01b8baed2e6359a86dc2e3fb06b5dc0/expr.ipynb\"><img src=\"__pv_it/7650282aed01b8baed2e6359a86dc2e3fb06b5dc0/expr.png\" style=\"display:inline;vertical-align:middle;\" /></a><br>"
      ],
      "text/plain": [
       "naturalsLowerBound: forall_{n in Naturals} (n >= 0)"
      ]
     },
     "execution_count": 25,
     "metadata": {},
     "output_type": "execute_result"
    }
   ],
   "source": [
    "# NOT Proven\n",
    "naturalsLowerBound = Forall(n, GreaterEq(n, zero), domain=Naturals)"
   ]
  },
  {
   "cell_type": "code",
   "execution_count": 26,
   "metadata": {},
   "outputs": [
    {
     "data": {
      "text/html": [
       "<strong id=\"naturalsPosLowerBound\"><a class=\"ProveItLink\" href=\"_proofs_/naturalsPosLowerBound.ipynb\">naturalsPosLowerBound</a>:</strong> <a class=\"ProveItLink\" href=\"__pv_it/06d0bafd6684812c683dc958a2f3cff721289e900/expr.ipynb\"><img src=\"__pv_it/06d0bafd6684812c683dc958a2f3cff721289e900/expr.png\" style=\"display:inline;vertical-align:middle;\" /></a><br>"
      ],
      "text/plain": [
       "naturalsPosLowerBound: forall_{n in NaturalsPos} (n >= 1)"
      ]
     },
     "execution_count": 26,
     "metadata": {},
     "output_type": "execute_result"
    }
   ],
   "source": [
    "# NOT Proven\n",
    "naturalsPosLowerBound = Forall(n, GreaterEq(n, one), domain=NaturalsPos)"
   ]
  },
  {
   "cell_type": "code",
   "execution_count": 27,
   "metadata": {},
   "outputs": [
    {
     "data": {
      "text/html": [
       "<strong id=\"intervalInInts\"><a class=\"ProveItLink\" href=\"_proofs_/intervalInInts.ipynb\">intervalInInts</a>:</strong> <a class=\"ProveItLink\" href=\"__pv_it/da739674da158727f8d0709ea18f481150bc39640/expr.ipynb\"><img src=\"__pv_it/da739674da158727f8d0709ea18f481150bc39640/expr.png\" style=\"display:inline;vertical-align:middle;\" /></a><br>"
      ],
      "text/plain": [
       "intervalInInts: forall_{a, b in Integers} [forall_{n in {a...b}} (n in Integers)]"
      ]
     },
     "execution_count": 27,
     "metadata": {},
     "output_type": "execute_result"
    }
   ],
   "source": [
    "# NOT Proven\n",
    "# ACTUALLY, PROBABLY WANT TO DO THE SUBSET THING\n",
    "intervalInInts = Forall((a, b), Forall(n, InSet(n, Integers), domain=Interval(a, b)), domain=Integers)"
   ]
  },
  {
   "cell_type": "code",
   "execution_count": 28,
   "metadata": {},
   "outputs": [
    {
     "data": {
      "text/html": [
       "<strong id=\"natsPosInNats\"><a class=\"ProveItLink\" href=\"_proofs_/natsPosInNats.ipynb\">natsPosInNats</a>:</strong> <a class=\"ProveItLink\" href=\"__pv_it/ce2dc78ed4781e7dc362dff03c0a6df9da0f0f850/expr.ipynb\"><img src=\"__pv_it/ce2dc78ed4781e7dc362dff03c0a6df9da0f0f850/expr.png\" style=\"display:inline;vertical-align:middle;\" /></a><br>"
      ],
      "text/plain": [
       "natsPosInNats: NaturalsPos subset Naturals"
      ]
     },
     "execution_count": 28,
     "metadata": {},
     "output_type": "execute_result"
    }
   ],
   "source": [
    "# NOT Proven\n",
    "natsPosInNats = Subset(NaturalsPos, Naturals)"
   ]
  },
  {
   "cell_type": "code",
   "execution_count": 29,
   "metadata": {},
   "outputs": [
    {
     "name": "stdout",
     "output_type": "stream",
     "text": [
      "WARNING: Redefining natsInInts\n"
     ]
    },
    {
     "data": {
      "text/html": [
       "<strong id=\"natsInInts\"><a class=\"ProveItLink\" href=\"_proofs_/natsInInts.ipynb\">natsInInts</a>:</strong> <a class=\"ProveItLink\" href=\"__pv_it/e79e8ed3dbd265e1c5bc1793e775360fa0b144350/expr.ipynb\"><img src=\"__pv_it/e79e8ed3dbd265e1c5bc1793e775360fa0b144350/expr.png\" style=\"display:inline;vertical-align:middle;\" /></a><br>"
      ],
      "text/plain": [
       "natsInInts: Naturals subset Integers"
      ]
     },
     "execution_count": 29,
     "metadata": {},
     "output_type": "execute_result"
    }
   ],
   "source": [
    "# NOT Proven\n",
    "natsInInts = Subset(Naturals, Integers)"
   ]
  },
  {
   "cell_type": "code",
   "execution_count": 30,
   "metadata": {},
   "outputs": [
    {
     "data": {
      "text/html": [
       "<strong id=\"natsPosInInts\"><a class=\"ProveItLink\" href=\"_proofs_/natsPosInInts.ipynb\">natsPosInInts</a>:</strong> <a class=\"ProveItLink\" href=\"__pv_it/8f137c501990278ab8a0cd348031a3baf5f4b2b70/expr.ipynb\"><img src=\"__pv_it/8f137c501990278ab8a0cd348031a3baf5f4b2b70/expr.png\" style=\"display:inline;vertical-align:middle;\" /></a><br>"
      ],
      "text/plain": [
       "natsPosInInts: NaturalsPos subset Integers"
      ]
     },
     "execution_count": 30,
     "metadata": {},
     "output_type": "execute_result"
    }
   ],
   "source": [
    "# NOT Proven\n",
    "natsPosInInts = Subset(NaturalsPos, Integers)"
   ]
  },
  {
   "cell_type": "code",
   "execution_count": 31,
   "metadata": {},
   "outputs": [
    {
     "name": "stdout",
     "output_type": "stream",
     "text": [
      "Theorems may be imported from autogenerated _theorems_.py\n"
     ]
    }
   ],
   "source": [
    "%end theorems"
   ]
  },
  {
   "cell_type": "code",
   "execution_count": null,
   "metadata": {},
   "outputs": [],
   "source": []
  }
 ],
 "metadata": {
  "kernelspec": {
   "display_name": "Python 3",
   "language": "python",
   "name": "python3"
  },
  "language_info": {
   "codemirror_mode": {
    "name": "ipython",
    "version": 3
   },
   "file_extension": ".py",
   "mimetype": "text/x-python",
   "name": "python",
   "nbconvert_exporter": "python",
   "pygments_lexer": "ipython3",
   "version": "3.7.1"
  }
 },
 "nbformat": 4,
 "nbformat_minor": 1
}
