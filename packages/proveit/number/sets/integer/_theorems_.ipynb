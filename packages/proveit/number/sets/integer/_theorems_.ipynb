{
 "cells": [
  {
   "cell_type": "markdown",
   "metadata": {},
   "source": [
    "Theorems for context <a href=\"_context_.ipynb\" class=\"ProveItLink\">proveit.number.sets.integer</a>\n",
    "========"
   ]
  },
  {
   "cell_type": "code",
   "execution_count": 1,
   "metadata": {},
   "outputs": [],
   "source": [
    "import proveit\n",
    "# the context is in the current directory:\n",
    "context = proveit.Context('.') # adds context root to sys.path if necessary\n",
    "from proveit import Operation\n",
    "from proveit._common_ import a, b, c, d, e, f, g, h, i, m, n, x, y, S, P\n",
    "from proveit.logic import And, Equals, Forall, Implies, inBool, InSet, Subset\n",
    "from proveit.number import zero, one, num\n",
    "from proveit.number import Naturals, NaturalsPos, Integers, Interval, Reals, RealsPos, Complexes\n",
    "from proveit.number import Add, subtract, Len, Greater, GreaterEq, Less, LessEq, LessEqOnlySeq\n",
    "from proveit.number._common_ import Pzero, Pone, Pm, P_mAddOne, Pn"
   ]
  },
  {
   "cell_type": "code",
   "execution_count": 2,
   "metadata": {},
   "outputs": [
    {
     "name": "stdout",
     "output_type": "stream",
     "text": [
      "Defining theorems for context 'proveit.number.sets.integer'\n",
      "Subsequent end-of-cell assignments will define theorems\n",
      "'%end theorems' will finalize the definitions\n"
     ]
    }
   ],
   "source": [
    "%begin theorems"
   ]
  },
  {
   "cell_type": "code",
   "execution_count": 3,
   "metadata": {},
   "outputs": [
    {
     "data": {
      "text/html": [
       "<strong id=\"zeroInNats\"><a class=\"ProveItLink\" href=\"_proofs_/zeroInNats.ipynb\">zeroInNats</a>:</strong> <a class=\"ProveItLink\" href=\"__pv_it/96963c4a116b4edbad2dd70262237f9296baf3120/expr.ipynb\"><img src=\"data:image/png;base64,iVBORw0KGgoAAAANSUhEUgAAADMAAAAPBAMAAAC7N+rPAAAAMFBMVEX///9EREQQEBCYmJh2dnaq\n",
       "qqrc3NxUVFQyMjK6uroiIiLMzMyIiIhmZmbu7u4AAADSWfX9AAAAAXRSTlMAQObYZgAAANxJREFU\n",
       "GNNjYHh75jYDCnjxUeIBw61fAQwMKxlebUCVE+YWYGD4wMDAs4CBpwFVqmrDGQYGBQYGrgIGzm9g\n",
       "kTddq1aAGZV97BtAUvwXGLi/ggS4mx9AdVVv5+sDSeU7MHD/AQkkwmQYqlkPbIRJfQEJiMHtqma4\n",
       "yXwASYpPAEmK/UE1koGcWqtWQZ1RzcBX8ALqjM8gVxQg6WLYwg1xPCvI8XwLkKWYAwTAXmYBixYj\n",
       "SzG4gaxeyvAIHFCvJsCkJIGYFxRCb32qwQJsvdCgnPEJqIMPJfBYK6AuhAIAynxBe6QeIUQAAAAA\n",
       "SUVORK5CYII=\n",
       "\" style=\"display:inline;vertical-align:middle;\" /></a><br>"
      ],
      "text/plain": [
       "zeroInNats: 0 in Naturals"
      ]
     },
     "execution_count": 3,
     "metadata": {},
     "output_type": "execute_result"
    }
   ],
   "source": [
    "# Proven\n",
    "zeroInNats = InSet(zero, Naturals)"
   ]
  },
  {
   "cell_type": "code",
   "execution_count": 4,
   "metadata": {},
   "outputs": [
    {
     "data": {
      "text/html": [
       "<strong id=\"successiveNats\"><a class=\"ProveItLink\" href=\"_proofs_/successiveNats.ipynb\">successiveNats</a>:</strong> <a class=\"ProveItLink\" href=\"__pv_it/693be06eb794fa495f778b07725d082d9ef710cf0/expr.ipynb\"><img src=\"data:image/png;base64,iVBORw0KGgoAAAANSUhEUgAAAK4AAAAVBAMAAAAtL8hrAAAAMFBMVEX///8QEBC6urrMzMxUVFRm\n",
       "ZmZERETc3NwyMjKqqqp2dnaIiIiYmJgiIiLu7u4AAAAU9Wx4AAAAAXRSTlMAQObYZgAAApNJREFU\n",
       "OMu1lU1oE0EUx//Zj8RskkmgoJ5kix6EHNyiiOjBYIUKglRLQbRI8JAiQsmpFaI1Ckou/QAVBC97\n",
       "qBXxEtFDxctiUDQVLQoFheAKpQRspSiIp+LMzmyziTvqxQf/3bdvZn95M/PeBvhP5v5xNCsUbs8k\n",
       "8aQJLDBnXjJBzXGF2QigW+0hMlWYhP7pAwaA+ywwKeFucrlCbHmdXsodwaizF0jTd4BR+hjLS7hP\n",
       "hQIpFfl96TDj1jvma+8TVUToRtheOvq0hLtNqGXxqnASjPtZ/Nhco+Glru10exmXZJC8NzZ2SYJV\n",
       "ylxSbpQntO+Nn+/uXNOlXJwDfhQKHyVc3ebKDpce22Fco5+5sZGNfbDuqHnGvQv0AsOyY3O47CNV\n",
       "8j2MG/cWEy22uLo5z7i3gR0gwaWq107g4RnuR0xPirkI8i2Mq2S80midm4VjWg91uoEUEo4f/zI4\n",
       "hBeGa4jSSpueCIXG18O46hpzuxsN/9wsLJEr1DlIJzgpv0ITZ8e/4nW1v4PLoBp7T69UJrZWKrkO\n",
       "7p5gvqrdw7mkTOPJ09kZ4Dkbq90o+dzINJdeRtpxpfuwGuTiVZTvA4YPASu7nJTF26dmrOx3/fbh\n",
       "ith469oh3CRfvRPkGqzTXlLdop+I8Tmki6r3ag32jOCyMmK6bGI2bknrjLzb6GO6aTjJ6wwRNvUo\n",
       "TV1dLBTOU+7FVcFVFrjoqkaftJ+bfvznEC1C03u4MCDmT22m1ybVVbYYRunCoEJyPF/lgH+QW4RC\n",
       "+s0z0ce4OdFoa0uSEU5sDV3b0ce5qPvc+m/fFqWN+0DSUIY/S8njlINluizlugntH76TXlplyUCz\n",
       "43mW7m/QYjkuiWlFyUDf3/6lSkLh9kgST1j4BcjZtiuI3JifAAAAAElFTkSuQmCC\n",
       "\" style=\"display:inline;vertical-align:middle;\" /></a><br>"
      ],
      "text/plain": [
       "successiveNats: forall_{n in Naturals} ((n + 1) in Naturals)"
      ]
     },
     "execution_count": 4,
     "metadata": {},
     "output_type": "execute_result"
    }
   ],
   "source": [
    "# In Progress\n",
    "successiveNats = Forall(n, InSet(Add(n, one), Naturals), domain=Naturals)"
   ]
  },
  {
   "cell_type": "code",
   "execution_count": 5,
   "metadata": {},
   "outputs": [
    {
     "data": {
      "text/html": [
       "<strong id=\"inductionLemma\"><a class=\"ProveItLink\" href=\"_proofs_/inductionLemma.ipynb\">inductionLemma</a>:</strong> <a class=\"ProveItLink\" href=\"__pv_it/d0264aa0299b621bd4376e4ba0a5a560ddd4864a0/expr.ipynb\"><img src=\"data:image/png;base64,iVBORw0KGgoAAAANSUhEUgAAAfkAAAAVBAMAAAC3aYqaAAAAMFBMVEX///8QEBC6urrMzMxUVFRm\n",
       "ZmZERETc3NwyMjKqqqp2dnaIiIiYmJgiIiLu7u4AAAAU9Wx4AAAAAXRSTlMAQObYZgAABd1JREFU\n",
       "WMPlWF1oHFUUPpndZLOzs5NgHsSK7VQrCkWyoC2lRZOm1RYVXK2rNTGy9mGDtLb7ELJqarv+RAI2\n",
       "slCFiA8JoVV0aV0xKdGkdDEoEkVSKxLErVOxMWjSxIKKPzTe35k7s/cO+uyBk8zcmW++892559wz\n",
       "C/C/NjvgWmz2DsnoesEV9pHv/PQLQTSglajLzbCUJMaAVcXlBhkUHQPP4PPP5LfpVpzQewILtTpu\n",
       "dowlqmK9M7Vg1fqGRwJp4DbmEqtD07YLlCS6BbUJCQwHKJ1JDmTgt/HgKyr1egH9q/e8OHzGPG6Z\n",
       "5/yYI2AeAMjTk4jN1QfRkHH5NfMAZgIlCRLAucAfpMzc6Ci4BweZVqknV3o8gxOunwYY90HCwwCD\n",
       "ANMsiCRXH0QTK1EX7Ecmfvt9SIYxrCTB6qeFyRKDlJgQHQXjWaotqNSTV/KIZ3C1618BNGcJ63il\n",
       "Ql/BYbSitgBcoPduPM/VB9HU2NQFe4MfnEHjZiM9/nmgMusjweovSF75as/TJEAGNt7K5Z4Fpfrp\n",
       "XC4346lQedd/BWghijZ9wS83o/NbUbpSoW0TXH0Qzc3MVerhCZrLR+wqEqy+zp1UrdUNUigCEiAH\n",
       "/5bJfKNW35DJPOlZeLXDjkf+ROrxio3sdy4f/osUIZ0seTMf5+qDaNqZPzP69FhJpv44Oeyxq0mw\n",
       "AD3pPqroBqmdyk3crQRy8DaALrX6cALq0OIOtRen2OIqO07U46mpy7o5vLKCnxYlk6+X2WIfkdBs\n",
       "eGcywUsRcXPY+LZmRqZ+kBx2SUiwAMrVWcH2XdIJUg+/DEsJFZCD16FXJC6Tvgfgvccc9WgtzaOj\n",
       "G0FbZklqOe6onxPwB7f+ggLWSKrGIZLn6n00oCWhmR1eRV2H2HI0IVO/liyktIQEC9AahccOWjzI\n",
       "6+NpWLJUQA6OQ6zslIfUo/CJbuu2ox5t1JOA/wJ7RoPluLPy1+Jpd7S9ix4XWmb7+zauXqAxx1Jl\n",
       "dA517PwydRPCaXnet5Dpug6RzPpIcIShZXGLfM5iQdpI+pCtAnJwrBzneRHbc+gSfF5KiuonAdVt\n",
       "8wpAuUo9qXplT6diIF9y1J/nl0Y8NKduumTDkk1uFtSjV0azfnd//9n+/hd96t0GRiCpUr/pJA8S\n",
       "S9+pBHKwmUcRGh3rjwF8jG+ZOtorqp8n4LMjzvZUcB3teEM45Rcd8ou4tGTZaoyiJKzPMvWEBopt\n",
       "owmD5GZ8ldPAXsMcb0i2euXPSEjclU/zvrLfCRJ2A/xtqoAcDF1tAAvN5XiCdk1T+sJmQX1dN77n\n",
       "4po/eOtZdh11OydIE+GkDq5PD+JZxo/CyqNJpp7Q6PZdNQXaupn3r/Cdah91I3sGYlL1n5LDeyUk\n",
       "OEJDqCevukHCKjCu6CogB8NraG4OjUNDNkS2tikYPiaoj3bSnnUr3weSrscLZhNR8iV/fmcJYmm+\n",
       "420EWjGoekyj4dq+md3bzavVcepD5cehF9Q73qJVTeLb8ViRJUORy6Cnj6qAHEyz7R60vEJfZzJ7\n",
       "kfqDi4J6uBb59yhfeK2ecd1sH6U1+in+IdK6bvs+suVgZJvTc444Sf07wO2ZTKZkWmDyfL2F+tyH\n",
       "PxXLPvWpNX1o6HkqrS9RRYIjrHe/AfnWSwJshMjeggrIwWBgrU2Q0sxW+u61LaJ63Ma9zl4ktqsF\n",
       "d1fcQMWzn5Huk0SlcfWEJtQYgh/wSLQAIV7ha7LUZb0eWVpskUR3uqUbQNbphsQgXZMAOZjO6zI0\n",
       "3QA7qHqYFtVje0hoGaYFV1rR/4VLrUXP6xDGQmvTbo+Ev2J8XzKez3O9pCTBERYllwKDI4iiIE9L\n",
       "Q3sZ5nAFfQk1eOBTvyuVykq+cJVm5uXq5z7oOAnmHqx+Q+rhf/GFS2xeTYIiNP/LF64DZGCPvYny\n",
       "3tvpVluk1XWVhbNy9eyxKO89A93MFbZDTYJ78awiyMDoGDjIYhXZ7ya9givsff8vW+cCeSIl6ooo\n",
       "EkqSWMWq4nKDDIqOgv8BriUJuoAKH4MAAAAASUVORK5CYII=\n",
       "\" style=\"display:inline;vertical-align:middle;\" /></a><br>"
      ],
      "text/plain": [
       "inductionLemma: forall_{n in Naturals} [forall_{S} (((0 in S) and [forall_{x in S} ((x + 1) in S)]) => (n in S))]"
      ]
     },
     "execution_count": 5,
     "metadata": {},
     "output_type": "execute_result"
    }
   ],
   "source": [
    "inductionLemma = Forall(n, Forall(S, Implies(And(InSet(zero, S), Forall(x, InSet(Add(x,one), S), domain=S)), InSet(n, S))), domain=Naturals)"
   ]
  },
  {
   "cell_type": "code",
   "execution_count": 6,
   "metadata": {},
   "outputs": [
    {
     "data": {
      "text/html": [
       "<strong id=\"induction\"><a class=\"ProveItLink\" href=\"_proofs_/induction.ipynb\">induction</a>:</strong> <a class=\"ProveItLink\" href=\"__pv_it/fad3901ec083ce758131ba87ecbafc7a6969893b0/expr.ipynb\"><img src=\"data:image/png;base64,iVBORw0KGgoAAAANSUhEUgAAAfsAAAAaBAMAAABCyuhyAAAAMFBMVEX///8QEBC6urrMzMxUVFRm\n",
       "ZmZERETc3NwyMjKqqqp2dnaIiIiYmJgiIiLu7u4AAAAU9Wx4AAAAAXRSTlMAQObYZgAABsBJREFU\n",
       "WMPlmH2IVFUUwM+++dj5fLPoH1KBjBURLOL80V+F7FALihJOHyu2mkwFu/RhO5G4wpoOlbll2ED4\n",
       "T/6xg/iRVjDlJtoqTm5JbJGbX0G08oQyQWsX129KO+d+vTvvvZndpkWCLuyZt/fdd8793Xvuuede\n",
       "AK9iJKWYsKwYycFtKbNHigDFKVQYqfrmASUmLMNwu0pjerJ9mlzxpau8MDdJ8V/Dj5amUOEA/lke\n",
       "9f6yFHZp5j+H3fjmlPTFqAV2WOLDjx5vD75hTcpEs6btm2MA8ZyYvW8r270iRXTRpdZH5wlPMZd+\n",
       "noJAyoUfp59YfdPSf6u19USu9lJ7GbhVht/v0WCrJ4TLhHJ2pm0r0mHFLqpw+HmbEok8wDP0bciC\n",
       "eNI8DpAXbdYq/EiBv6+rXAMIzvDogl3O3gRuleGPWl74u2ppkCbsLuY5vomaV5HibOUH05RowVDb\n",
       "V+Tr5CDAPoAh0Wa9wmdfr6oz/NwACN8Ar0X9G//5pZXwhyR+XFuSlsL3gnCZGFBVQxwffuZjEihU\n",
       "fjAmBRzCze9oBh9mApwAmJODM6LNCkuFPhr2p+rDj17EdXMZHxpcs7pFNiH8MxI/oEFuUvgeEG4T\n",
       "M1XVGYG/GN/s7O5+zfFBkxTQhX+LUK+B/oIqWgoQ5Fb8zSWFP9Td3V3nBhDEQfZfx4f7oSY+WWX4\n",
       "sTG7xb0K3wPCZcLI21UFjn8U/650dPzkCPx5KWjdmFdo0IvQiA7UUoJIhrU5J3c8/El0dKyYVD7y\n",
       "qnwIyweKLaM0oe3Yv73dAwuMgee98MkqwzduanlLSeJ7QIDTBCJAc2dPf5FrI/w56DSPAHRih7ra\n",
       "nuyUg5OWgtbNXOINlTl+EcJ8ED+W7o74/hQEq6V+PHPk2hvVGPnkEyr0naSHd7FT/o0wuhX6vPDJ\n",
       "KsP3jbPYPcLKZYXPITyLNIEIUJxfMse5NsJvSZELmUT0JcAn4oNQRoropd3bd1JVQ1LiG02CerXC\n",
       "N9LoDJXRY/3j8OlyehJLlWkP6sGal0MLdrfnRKC9O56F0ZI3Plll+I0XNTPh16UyAeG2b5tABCN5\n",
       "CsyLXBv1YB1OThyiFE1bcSmI8BPPSBGUrpZISufnIRG3eX9KZX3DcECzfb5tGRyJWBFLw2fat9ht\n",
       "5HB1yYiHnbJGk9BnwRIvfLLK8M3r+jCfmybwBYTbvm0CEUxkD9/k2gh/FGNAtBy3+CYwH5z4iWEb\n",
       "n4W+ssDHT0QWQS0OwGktcD679g/4rpSpwGfaNfcUYwd/gY1P7E8D3En/Lunt/aG39003fsXs+96x\n",
       "BL6AcNu3TRACslNMk/g0+2aeEi5cEjGZUIbSUrRkRFVDgW18fTnh/Jvxb4PCP0dD8fVnX6QHnsNf\n",
       "qh18v0fH59qb7EZim/ddliR3EDPASTCumjWdX1/7pyzp/AwitrR5m9O+bYIQAnlIlC3b+WkSOh8m\n",
       "/Td2L1NTk5XikDzzBsss7cHoEGNrbIMYAo4fXImOdfhPHKCvRFo4GLnwoIbPtPvydiMjrfZkXl4C\n",
       "mnd0Tn9+jQd+TIY+46q29NN2ICGIC3PK8ZTDvm2CEBqKuAaLTBuL/BQTNhNBRIsc0WEp1NKkrSJe\n",
       "MKfzJ/ARVVzhh9FnG8/nYRy2i6A+CMVtGj7TjsiyEQ0F6LGF6tCvcVcPlYq1Nj5931+txVGCWLsP\n",
       "EjmHfdsEqUBv3xFOqY3vKPMKcsRgRjt8jXFhLr61UFahdrO9H50lRA7hT6o8lUWHu6iu5GuCt8F3\n",
       "qqPjRTS/5ncNn2mnyRKNBP6vXZdkrjubOXgkC+GFqQr8wGPXlnGrDF+fpk4Nn0EshFlO+7YJQpiF\n",
       "2fl+ro0++pBFcWqX0FPGcSVUmaEnjGDYezrD/546kIpmG8eSZpqPvvGQhs+0G1nViD1XlIZctaxP\n",
       "WWX4Ie1skNLwGcR0aDMc9r0QVNK70U4OdPMLlKg4JbDyUbXrjnU4tbFsEeZx8zCk4TPt5rDdKObM\n",
       "El0V6nSurPITX87rxCfuQ8Zg+j0O+14ITBvFSxVHIu89oTWcq4Qq8rRYkV1U4N8H8ZTvhRycRacw\n",
       "3kqCHxS+0H7abhRw3SPWvFsy1YH3CFTHR5dqLzvseyBwbfhRrMoZkR1rggXnTRPbFXITXnbtwLWn\n",
       "im5hv9YV11cra+Ezq6wLx2vge9n3QODaKFdKVblVy0thlx7+s+cf3vXp+GerLGxus9Z10R7Z/VjG\n",
       "67Lr+OSOlz2atoPHRIbgVT5Q4t9eder4YfuqIl3nVWedtyre+rLV3sQKUkxYRmrf81dwDqpQU8fV\n",
       "2OwR1LV8CvEDFvzfy9/JAk+MWbL5fAAAAABJRU5ErkJggg==\n",
       "\" style=\"display:inline;vertical-align:middle;\" /></a><br>"
      ],
      "text/plain": [
       "induction: forall_{P} ((P(0) and [forall_{m in Naturals | P(m)} P(m + 1)]) => [forall_{n in Naturals} P(n)])"
      ]
     },
     "execution_count": 6,
     "metadata": {},
     "output_type": "execute_result"
    }
   ],
   "source": [
    "induction = Forall(P, Implies(And(Pzero, Forall(m, P_mAddOne, domain=Naturals, conditions=[Pm])), Forall(n, Pn, Naturals)))"
   ]
  },
  {
   "cell_type": "code",
   "execution_count": 7,
   "metadata": {},
   "outputs": [
    {
     "data": {
      "text/html": [
       "<strong id=\"natPosInduction\"><a class=\"ProveItLink\" href=\"_proofs_/natPosInduction.ipynb\">natPosInduction</a>:</strong> <a class=\"ProveItLink\" href=\"__pv_it/7edb62f7f68d2e8c624c0965dc9c39af199823bf0/expr.ipynb\"><img src=\"data:image/png;base64,iVBORw0KGgoAAAANSUhEUgAAAgYAAAAaCAMAAAD7amRbAAAAM1BMVEX///+/v78QEBC6urrMzMxU\n",
       "VFRmZmZERETc3NwyMjKqqqp2dnaIiIiYmJgiIiLu7u4AAAB/uxFxAAAAAXRSTlMAQObYZgAABl1J\n",
       "REFUaN7tW9mW2yoQ1BW7AMH/f+0ViL0BI9uZk+SEl/SMx6iqKegFZdvWB0LQ+niw8zz59jcNdDGS\n",
       "3pJ/ANrHGDGB1ufj3P7CwcnX/fSrxlOMRhhg/ZPBVAabUr8/1hvj8ooSDa3ekVgx12hJBuY3cgt6\n",
       "e+ky2SiDbTneqVP890OEIkwtTpQw5t2op/z5DixFrCXXOAmHZwy7l5biFRmsgvj2RpgReJTgNGST\n",
       "DNTqbBJ9wwlrhBJMiRJGecRP50c9pdDarLi9sPNmEsNsmE20cjIdGayC+PoYEngULgHZJANjzbIM\n",
       "vuKEJUKikoHHyFmEzqbz7wha2N555mFlHWguQUb+uklFBe3IYBXE1/OjAYH5qtcHfY9sksF29gOo\n",
       "6cjgG05YIxRh3jK4MUa10GM+P7Q2Ze95tI1ru5v0UbDMXs/DTtNJEddAfD8qjAmMx6HgNA3ZLAPa\n",
       "X1KwRd2KfMEJa4QizCADj1FL7sc8ZVc7tDYWFEFsAI4E8MzGKlIENfI8gz5XQHx9TAi8JYNINstA\n",
       "237aRjoy+IITFgkFmBIVGC1z45z3EYiAVgxExkbJUwk9I2lVdbYlYvhpCcSzog0kp8cokgICSDHO\n",
       "lSLyshQ71mUQyGYZoEFyIBWUwUMnyHFqMCFUwgwyuDES7y92R7yDWUopYW2hwwi0QiDCZ1pooaFn\n",
       "jlKPUrdnXpBBBeJBMVStT4mdQy9h2Y+kkIC8xK6cN52jDrsug0CWFz7KaqRnMSyFMnjmBDpMDSaE\n",
       "cAkzyODG6A8oExdL+zNftgdTzuyypSyRUlLJO3lk9gzam0XnoiODGsQgPxGUIheVaNphdeQtsbN+\n",
       "Ot4sX58Auqo35jeV2p7JIJDNMuB21Dk5BGqhrThhKoPXhFAJM/gjYHRuU3EfE3KHi7auo9Bi4MCz\n",
       "HRkUKWUoiAnudBErEG1Ko65dfn2m2SavaWV+bL3YBfZDdRuhbSTtEzDBX4f/nIp1GQSyWQbGHuO2\n",
       "bN41YUVmTgDbgPZSgxVCCWaQQcDoHpzy97vCIa0kezKwIJd5JYP7KVVDI85RgWi8zBA35vpMXzKi\n",
       "ExkU2PsnK6nzhTGBIAD/+Z5iCRVunLv/hyzJYHwaYFHwiJ2cvhPgNqC+R0RIo7FXhOKy1jIIGK9N\n",
       "gnO/w3lKgyZoZp0sbIEe92MaFI7wBcGhDDIITRVSklwVL8P3z+kwwQfmaiiDEvvem6kpoicE7hPA\n",
       "Kx5ZXpf5D4PCIDc4mYHxqlyJl9uAdlKDF4Ssvqm0QeHGyDhBKbN1wQWeS4QBS0Ghs06KqPPBEpf/\n",
       "oFAGCYTRyLpNcblDk7oPqfHlAo1HMiiwY9GbqanTJgT8CXAfpNcO4npVBlqASqGf8B2km7aklYgK\n",
       "nmwDOuwajAi5cCkLmKlSCOUBTYshBwmKOoEFA1FRHPYKRszA2hdmBMGNchicQv1Xi/xeu99tkgxk\n",
       "UGD3693OFNQxiaSp4PP+vOvpK8OW7xeMg74BF/3sNTohKhhPtgFdSA1qQpJtB4YFY8K4J2aMDioz\n",
       "W1uGMmtJ6xB0xmuH3YpwpuSEmOTMQUEZZBBuWuyOLXH46sdX00zdMuDanAMZFNjDZqtnqmQwJXAf\n",
       "mpLdUyk8lUGHbJbBYFuB1CUWMcEJUcF8sg2alVogxJk6SpjhoQmjTo4dJrY5xtnJpeHOR43LushH\n",
       "HRkkEDt28dBJ2P2dIZUbNoTVQAYFdsQ6M6Vfb08ILHQRAdksA9H/YzyqZZMT3IL6xRtug7X2Qo9Q\n",
       "00yGGLEdTU4ktMaXFuN2WTtg55Tb4AWXGDuTVzK4ntGXQYndnL2ZOvBeE4AH45hRJFvcMC72gtqW\n",
       "hlcwpZd6p9vg9egRijDjDSM4moQdvSCAT2gt3Jm8bIbAyfyWdVERM98HMQzF/vhtFdkVG2H3O6ad\n",
       "aaOv36H85KbbgItmvXpZ2MrAK3jHCM+3wcKAhEx90awfXWjm1jqb3IDxJgMm/LEMOj4Kh2IH1Ogr\n",
       "qotxoUHHP3h/MJHNbx/hN2XgFUxd7326DbZ3CCWYoWeFH00nhmlu9WfVcqmXj/jsTnEoA8OeRfUR\n",
       "gScjk42u13T5u+dkNcbbYHuDUIR5PRI9whicKKH1+fhFMtiOTk/2x14UDjL44Zdo3oP6GKM+oPW5\n",
       "DD76fwqThdUwG/+ZF9zc/1O4cVHz+8vgT8D4b/zQ+B8xPUlOLte/AgAAAABJRU5ErkJggg==\n",
       "\" style=\"display:inline;vertical-align:middle;\" /></a><br>"
      ],
      "text/plain": [
       "natPosInduction: forall_{P} ((P(1) and [forall_{m in Naturals | P(m)} P(m + 1)]) => [forall_{n in NaturalsPos} P(n)])"
      ]
     },
     "execution_count": 7,
     "metadata": {},
     "output_type": "execute_result"
    }
   ],
   "source": [
    "natPosInduction = Forall(P, Implies(And(Pone, Forall(m, P_mAddOne, domain=Naturals, conditions=[Pm])), Forall(n, Pn, NaturalsPos)))"
   ]
  },
  {
   "cell_type": "code",
   "execution_count": 8,
   "metadata": {},
   "outputs": [
    {
     "data": {
      "text/html": [
       "<strong id=\"inNaturalsIfNonNeg\"><a class=\"ProveItLink\" href=\"_proofs_/inNaturalsIfNonNeg.ipynb\">inNaturalsIfNonNeg</a>:</strong> <a class=\"ProveItLink\" href=\"__pv_it/a720796aeeafa0af8341b7a41b64f6c08ea9f5340/expr.ipynb\"><img src=\"data:image/png;base64,iVBORw0KGgoAAAANSUhEUgAAAKcAAAAXBAMAAACc8kKqAAAAMFBMVEX///8QEBC6urrMzMxUVFRm\n",
       "ZmZERETc3NwyMjKqqqp2dnaIiIiYmJgiIiLu7u4AAAAU9Wx4AAAAAXRSTlMAQObYZgAAAphJREFU\n",
       "OMu1lc9rE0EUx79JdvNzsxURxFuKgl7EPZSipdLQeBBECP64+ANCxa1ClT2o9eCP/AE1BKxeDUKN\n",
       "VpBQiYi9LOLJQgmCiEpgBZVS0UYP9aLF9ya7m43GxQQcGPLmO/M+mXnz3izwP5rVi1Ow8ve5p9Rr\n",
       "bCx0CR3ooC2tnrJw/GdR1oB7LBS6hHZcPxHKAQ0gD1ygYSTXHTPR8fT7tXlgHfAciFJQ5WJ30ID3\n",
       "ItTH9XqejdGCpDH0HaCUJycvd3n6bd7BzkXbyAyoBYaGaYuruv6mS+gRDtm+2xvZjpx11EysMsjQ\n",
       "eJZsYLyTZ+p3YbbqWFPU+41wg+2w4UJxQKkQNEbB2AI173ENb5g5mWWjdXnTwi9RCqZtYT1t8Adk\n",
       "seIjWlDJyhA0SD2JhOnEvHrYTBrxT1Y7NHKIUg9JDWu28A2QGkiKHOiv1+2LykBNLxEwRCdImEnn\n",
       "Mh9t/WIpGL6EdmiTumLhdQval8OK1l4HFMehkA1V86yff3ICijg2slkPlHVacyeFEQtvbfdNwNUK\n",
       "bokS/+yFKsVc8/gYHyWvV5E1RMWcsktrQYXOv3etHS3oBO27iL0xXiiZHijK5KVwMG5Q+UvZUA1D\n",
       "Ym55GS2o0PmWprw7naGaMWMv4+LvXjjQMepyvplSCFDA+1KJNHbrul5B6QGuuFCh0x+dpr0ZfGzR\n",
       "tnOazg3OicHFg3ZFfM1BJFKUk1Gx+BbCi8Z78apdN1F2oULHMm8ioOG7U6aGN3+nr9W9Ocll6lTz\n",
       "yLAl8VpZRrDmQoX+YczOUychlJJfvd13X92jC8egsvOzPbNn0i5U6Juba+arlu/T5yR7vn0c55g6\n",
       "ze85POczJxk+k37QiM/n5CH+CXqTskLv6Vv2R0v37voLXz+yLQ7T3TwAAAAASUVORK5CYII=\n",
       "\" style=\"display:inline;vertical-align:middle;\" /></a><br>"
      ],
      "text/plain": [
       "inNaturalsIfNonNeg: forall_{a in Integers | a >= 0} (a in Naturals)"
      ]
     },
     "execution_count": 8,
     "metadata": {},
     "output_type": "execute_result"
    }
   ],
   "source": [
    "inNaturalsIfNonNeg = Forall(a, InSet(a,Naturals), domain=Integers, conditions=[GreaterEq(a, zero)])"
   ]
  },
  {
   "cell_type": "code",
   "execution_count": 9,
   "metadata": {},
   "outputs": [
    {
     "data": {
      "text/html": [
       "<strong id=\"inNaturalsPosIfPos\"><a class=\"ProveItLink\" href=\"_proofs_/inNaturalsPosIfPos.ipynb\">inNaturalsPosIfPos</a>:</strong> <a class=\"ProveItLink\" href=\"__pv_it/72a335b12b0279e063bbd9b9be14a7657ff1ca180/expr.ipynb\"><img src=\"data:image/png;base64,iVBORw0KGgoAAAANSUhEUgAAALcAAAAbBAMAAADMngM5AAAAMFBMVEX///8QEBC6urrMzMxUVFRm\n",
       "ZmZERETc3NwyMjKqqqp2dnaIiIiYmJgiIiLu7u4AAAAU9Wx4AAAAAXRSTlMAQObYZgAAAuBJREFU\n",
       "SMe1lk9oE0EUxr8ku0mbTbYi4p+DUFG0t64ogtLSYEVERHOpCIoEtelBxBVqclEbD0KxtRWKIIqQ\n",
       "i1R7KL3UQ4uwBwUloAEPWjW4hx5Ki7ZQqIhQfDPJ7k7SmO1GfLBh5u3sb2be++ZNgP9g9//tc39z\n",
       "rbcJesL1w/fDDR6I1ctWh1zhmKbHrAcuGe7wqA7kWSPnEX6t2m6Gk0OQv81YcIXi8pw1hjzCu6o5\n",
       "g8YBoAlSf//W/gGabBVIkTuU8AjfWDVWH5QJ+Oyw4CvQQEGXPQozsCT2Fu4VPnF4i9kpwk8DkdF0\n",
       "+qbHhSsbxJkGS5qQ9sXmTAH+np6VZPKzV7Fk6Kd3aofOOilLb5L2OJAQ4K30ohPoqUZYcwbHJu3U\n",
       "kRD8W3CVd+yPJU1uznF48fx0aMAuqBkx55uedsed6Zmli7HI+q1D10AD+gwWVBJFwoHjpLTXIfXR\n",
       "8qJQrCOhTnYZUT28YJbDU+f5odCwWnJECX4K+MKrzPZCoZRQDbPqbQe+SDJRjKgVtRd7fpgRtN1A\n",
       "ORwt42ysiRkBvgJ1GWU1hOCBbMXK1QyrQtenLiLCw4F4XIAzP/BwgkJoFpfKwhJD6Dcal1S227wA\n",
       "x9ugANdYRg7TkI+hVTRwX+Sg5sC5n+yNwZJvwaUE1F+kmRHWOSHCwykH3srE9IDmluKBPA5x3/y8\n",
       "UH24n9lLXVi5Qr5BPIlnWee7Jasga5xx4Ezn8NGem5qpzrQnk8kJZMdxy4ZzP0vbXSzq2GZdFXRC\n",
       "e6d3XubY0J3iTv3Dm+l3zoE/43EwWbaC7/RZPmbEwKgN537KWrcJn4af1nfLov4bjxXVUmkDVsNn\n",
       "drSZEguSLMOft+Hcj8AlnevcFtDx9Vwo9lL8Z3PnoF6g1qsjY1diNpz7Q0f5OZ+etC+W9nXAIxWl\n",
       "NsxiXnadcNutrSnd6yijUc3trvqLhTLu8NeoE45HruzaF1DNvwYR17jIdd38HuwP1Sy5J17EVJMA\n",
       "AAAASUVORK5CYII=\n",
       "\" style=\"display:inline;vertical-align:middle;\" /></a><br>"
      ],
      "text/plain": [
       "inNaturalsPosIfPos: forall_{a in Integers | a > 0} (a in NaturalsPos)"
      ]
     },
     "execution_count": 9,
     "metadata": {},
     "output_type": "execute_result"
    }
   ],
   "source": [
    "inNaturalsPosIfPos = Forall(a, InSet(a,NaturalsPos), domain=Integers, conditions=[Greater(a, zero)])"
   ]
  },
  {
   "cell_type": "code",
   "execution_count": 10,
   "metadata": {},
   "outputs": [
    {
     "data": {
      "text/html": [
       "<strong id=\"intervalInNats\"><a class=\"ProveItLink\" href=\"_proofs_/intervalInNats.ipynb\">intervalInNats</a>:</strong> <a class=\"ProveItLink\" href=\"__pv_it/7b3862c0e5fb260fd837475593f67e92b72ef9300/expr.ipynb\"><img src=\"data:image/png;base64,iVBORw0KGgoAAAANSUhEUgAAAPEAAAAZBAMAAAAS8tXVAAAAMFBMVEX///8QEBC6urrMzMxUVFRm\n",
       "ZmZERETc3NwyMjKqqqp2dnaIiIiYmJgiIiLu7u4AAAAU9Wx4AAAAAXRSTlMAQObYZgAAA5BJREFU\n",
       "SMfFll1o01AUgE/Tv7VN071MH8QR8W84hEzFn+FocYh7kDGQgTKFotAhOOiDtmNDVkXBgXZ7EQRf\n",
       "+rKJICXIJjiHBEXQFWph4B90RhhYGFPYwD4ow3PvbZpmrU0GAwNt7s2553655y8HwPwayEdhk6/9\n",
       "+ZSVZTnY/Msd+o9k1QpZ2OjGrXVkvMjI9EAZE7KfasiWwfZathTGIklwfv0MZxj5MXmYNCF7x/HW\n",
       "oFom117qUg4DBFDKyDFyC5uQ6YKYdWO/qPnUMe+TwYbGS1EyeT3nuFmEEaOcs05uNsyW7uU/UXKL\n",
       "2knIQiMl84/i8eumsT0Xj8ethziXMDj9bsn2joOhgopkuMyy6lck8sWUHIhEBlKWyU5c2to/PMU0\n",
       "YprTHdJDe5iQJxi5E6C//LJ3/kF2SOAyFrIhxXBKVNxXftKAo1SXLKzSWXl3h+QUM4T8gJF3gaAb\n",
       "Z6J0P9or+ppUncyFoGCsBFuNb0cUe7WJTQRO/ADCCk2msE6GbkcbDnYwsh98+uuPkqXTvQofTkO6\n",
       "soblYLaclygHT8JIHmVHYVdABAGxnjVqju35fCnCJFgUbuAgyMg+xa9nXxF/z/b+UPmM00iehQVt\n",
       "SuRV5OI6MsE6EsaqgmR7qk0nC4lDOLk2c4m83+8ple8h9erYEdlALpAN3jydwWQgckp2901Kmp9R\n",
       "USfbMEudCQgo5EhCroIM71y6taH/BIo/uolpfDk+1EArpZR+bSC7rqIFX/2BeVqBGHk5OqJZiyjq\n",
       "ZBe6z5aC9yoN7tOVZC+pR29L5PskdnvsdH+Zz7UzstfbXUn2XMDVSwm0ajvbBTc9CR1lFirCNy36\n",
       "vWiWEREmPdQky6K2iAzO6lkFNpl4xkeHkjPcEYlEZF5yZxcMX8ltBCdzjUDl3C2crsBU2b6oCFyT\n",
       "ZvsctWjsOUuD28wn3NgW4jb83SyReTTZT9WVjZJy7lcW2Zlh50sDOcv27xEXtWIhrMGV71pMoaJ+\n",
       "ZjCmnKeLxXY5ORorOgObGjyuDkb96CtHlJH5dFVnMAK2AxKVUz8321ez7iQMqu4kUYSW8t5zdUuc\n",
       "V64gc32Z8xBUuD48ykWct+BfqIq8B5xPmJySd89OK/YiBKP2IlHUI8zkg1qo7oZYRfGiH+t1Q1S+\n",
       "Pp+hMp9NuqxTVSvsUet9WH0yDNcB+6QqMr+BDnB93YbKur1pvWe+Vr89VNWVtSob6bdDfwHQwAJv\n",
       "tLOjbgAAAABJRU5ErkJggg==\n",
       "\" style=\"display:inline;vertical-align:middle;\" /></a><br>"
      ],
      "text/plain": [
       "intervalInNats: forall_{a, b in Naturals} [forall_{n in {a...b}} (n in Naturals)]"
      ]
     },
     "execution_count": 10,
     "metadata": {},
     "output_type": "execute_result"
    }
   ],
   "source": [
    "intervalInNats = Forall((a, b), Forall(n, InSet(n, Naturals), domain=Interval(a, b)), domain=Naturals)"
   ]
  },
  {
   "cell_type": "code",
   "execution_count": 11,
   "metadata": {},
   "outputs": [
    {
     "data": {
      "text/html": [
       "<strong id=\"intervalInNatsPos\"><a class=\"ProveItLink\" href=\"_proofs_/intervalInNatsPos.ipynb\">intervalInNatsPos</a>:</strong> <a class=\"ProveItLink\" href=\"__pv_it/e891a533be90ab3ec68928536e57fc88d6a62fde0/expr.ipynb\"><img src=\"data:image/png;base64,iVBORw0KGgoAAAANSUhEUgAAATIAAAAbBAMAAAANPB68AAAAMFBMVEX///8QEBC6urrMzMxUVFRm\n",
       "ZmZERETc3NwyMjKqqqp2dnaIiIiYmJgiIiLu7u4AAAAU9Wx4AAAAAXRSTlMAQObYZgAABFlJREFU\n",
       "WMPNl2+IG0UUwF/2T3JJNpt+8C+CRNF62A9dtYhKS4LV0g8iASkopyVom0PwZD/Uy1H/XASFU/Fa\n",
       "UKHgl3xpi0VKlDvReoVFVKwHZ/DU0kp0hUOPlnpyBwZRDue92Z2dTUKzyYk0MElm37y3v5l5f2YA\n",
       "rqjP4f/GzFjT7lvn5suLS6zVWFOa5zdC1uhfRS30JttG/w78z2TLbm+ydJ2TuRshM/tVeQh6k8FZ\n",
       "TkYTnx+QLIM/Rj2yRmJTt6fmofI06D+f88lmONl7+DM9IFkKY2ko+rLrxa6P487dAFnQpqaum3oD\n",
       "YMUlsnGcSmlAMlIcj64Ry3V9rC0y34qJ3cw4RIYz1g8PGgG42I9F18iHd/HjZrNKZMPuTolMLxGZ\n",
       "cbxSeXHg2Py6Uqn0EaIfhHr3LPhrdldh2Q3IjD941vizXD4/MFm2XB6rRdfYzdqW0ednSCXxrNhN\n",
       "6121FJAp65xsJ8CoP0SZareltD84MSuTaRbEw4XgoBNSZwZvD57swxS/u26ukd/bAZmemycySsTq\n",
       "Gie7BcyqUD3qR8tVR/dTHMWFqELf6ZpSkMhYZzmcF64NTwQN7hG9V5lG7gcwV7HzaxABFjys3RHY\n",
       "WOVkGUgHk3oNHXN2j5OxUxfdMNn4XoobC9blGtCAOeHQTA+S1TAZGjwiet+zUQwrSSZuajb9CLBg\n",
       "yXw5iIy/OFnayQQJqcXaR7f97hqw/QUIk8HwSaBcc04mm4Of/C7qdZC12skQS6NB2+Q1U2uda2ZW\n",
       "cchzp55Ct/h7xjV4NiwWJTIuPcKSfd6FH2WyZazRX3x4qgBcD8kSI8cs38+YQYnsFcwJVcg6uBaX\n",
       "ZDI4E6xBwvMzGL2f4Z1N4AqnG0ZhiKTGvVZA5knhKwe2tpHFD+TA/OwfWASuh2SX7El/F9CgRLYL\n",
       "s20NvnExODVHJksFCVtpeWTvYIwVVXpP3WjcR9ILFyAg86QAp+32NUs+weZ4scp2jetp7J0Pwg5R\n",
       "d5hB+EUE4WnWJnNwLInTNr8Vo7A0PCrI/HwGMbZJ2VwaQy5m6aUd5XK5DrWT8JIg86SgvA4rNlwf\n",
       "OgXdgDh1ZROQnoL7tcprMngGQbna725Fx2fB9An1Jh7x1ujQNegXgixV9cgMFx07vmBjVc04SzT4\n",
       "LQeOCzJPqu532avIqQOyBf7+Ym6J1+wamOvwzG/eEDQorVnWCoXH2282q13y8VBdOjnG3Px2d8LO\n",
       "MJ/Q0I6ug9IQZCQFdZ9N+azUcXKchNidFumRn92ori0kpmHCTUyjQRgOXD1SvVixJTJlZP5xyDvK\n",
       "CJvyk6z/+QMnxgqCjKSJXfTqT2fdDrLNoL/P9Yjs1rlZR21B3lZbaFCKADVSjf2y87TNgyWFfiac\n",
       "U/zbbPU4bZNessv2BGTwdBSyxQ4ytctVKN7nPaAH2UQEMJ4YQ2QGbJysvW5CqG5CMoKjjUe7O2mX\n",
       "kTW73TcPdtwKtsinjzO9yfbSffM7uGI//wL300UoTgAyHQAAAABJRU5ErkJggg==\n",
       "\" style=\"display:inline;vertical-align:middle;\" /></a><br>"
      ],
      "text/plain": [
       "intervalInNatsPos: forall_{a, b in Integers | a > 0} [forall_{n in {a...b}} (n in NaturalsPos)]"
      ]
     },
     "execution_count": 11,
     "metadata": {},
     "output_type": "execute_result"
    }
   ],
   "source": [
    "intervalInNatsPos = Forall((a, b), Forall(n, InSet(n, NaturalsPos), domain=Interval(a, b)), domain=Integers, conditions=[Greater(a, zero)])"
   ]
  },
  {
   "cell_type": "code",
   "execution_count": 12,
   "metadata": {},
   "outputs": [
    {
     "data": {
      "text/html": [
       "<strong id=\"allInNegativeIntervalAreNegative\"><a class=\"ProveItLink\" href=\"_proofs_/allInNegativeIntervalAreNegative.ipynb\">allInNegativeIntervalAreNegative</a>:</strong> <a class=\"ProveItLink\" href=\"__pv_it/8b1aeb2a306e00d642194580f48977903d41ce440/expr.ipynb\"><img src=\"data:image/png;base64,iVBORw0KGgoAAAANSUhEUgAAAR0AAAAZBAMAAAD+oufqAAAAMFBMVEX///8QEBC6urrMzMxUVFRm\n",
       "ZmZERETc3NwyMjKqqqp2dnaIiIiYmJgiIiLu7u4AAAAU9Wx4AAAAAXRSTlMAQObYZgAABANJREFU\n",
       "SMfNl0toE0EYx//ZzaNNNpuigqggUXxdxEW8KEqDDxQPEhDroyrFR4qokIMaEbWheFAUKYjgzVxU\n",
       "fBJEPaRVgiiIYgl6KD5ZwWKpaEXBoJbiNzP7SraNTdqDC5vN7O5/5jffa2aBmg//ux6M7zH/XWYM\n",
       "6jDG/QjE/jsefQw8arUSKTviIyUqeAqs8aw2Hm4hJTt6yaLhb/d2rgfWC56r7MbZ2niCHXSpq8LC\n",
       "I4zzAl801AmeQ+zSUhsP1x0avSLkMuVBjd0uIJSGkuE8bHq+jhrjmc138+gVnnJTLmrnHcUgFaE2\n",
       "cB7lSip1rNb8eppKpQqjV8wrb6/gl0gc8i9gj8j3n4nE61p5IonE/ipK2BbKsHupzrVG88JGcW3L\n",
       "QP4DXBI8xNhq5eNJV4aKiaTNdvB63MHj1eBPlrx/JF9qgTSkG1brDOm9pzGg8db9W7B5fhOe4JkF\n",
       "1RqNMYq1YNKl3Xxgv6AwII4jR+/bPFIMfaUFbXLpdJjQZ81gAjAz3IIBVmpw0wpug2eG4AkjZM/p\n",
       "FJ3q3Q35cDL4Wbd56kTA97biJSK6oz4X0GVKmQz16VIeJrTvfQd0grnIelATUScP+atR8ITyYTvs\n",
       "i3Tem/tVV7D0KGyeCHdKfzvUIYQ7HDxdeG9KmczFw4QlPAxmDW/Ia8yOWDwPWjxqmlXNg7mdLFr+\n",
       "3NEVYd543MGzoHMdgZPxZOLJOnj6ZOrh8e0c5Sl/n40daL6smQRMaPNMoXMTMCjWmcA2wy+U7/VF\n",
       "y19oXU5QPYEhXpmUWJ1YThZrDp77eITQGQZcxuM/EIX6cJDcKGRs7C/JNsvgTGjz7KNzKpShoOHh\n",
       "mw9EmSwgSFXjicFznv574zKrI/6sUljC3+nvh4NnL57Lb7iRy3jqt1Enn9PkZyHzUvavwjLLXySE\n",
       "OtmRLYHvCLacM288Fyn2Ch80K9/hoQEi0RD/q/laliUSiSwytyiZLJ6JaFKbWPypRXic8YNpDCIr\n",
       "NYDLpBM8Su5YPCQkR5gJNp8M3IDAXns5uMC90HudFcZ2g0ch6w7o/m4KvQjC+Y+87JzL44rN8w1v\n",
       "oTZpfIBI0snTLWYRj3IZfBkW8vs+meNxoWUfT7JCsTTWC3NlaVyqH06GqSh5mcjng1SweQo8TlfS\n",
       "kxzmuPZjbfAs1LiMx8p0+Ud34CwO6/TDhJIVP0qlWh7MOnik5mdb0ZiXmml+O6j9aOW1/TGbZ3aO\n",
       "B8+uJEKd2108c+C7IWScZ3bX3bxcRGOSfpjQUQMq7Wv63PtVkX9BFj/Wpt35XN5ZYb/KZeX1x2Q0\n",
       "jgMVeFa7eORh3Ouvbv/8D57AyHvJkObiUTBmnvL1i8d4fBy/L7wVeIb7/jrisoDUVcX3V+wv4zcP\n",
       "OpWkcLwAAAAASUVORK5CYII=\n",
       "\" style=\"display:inline;vertical-align:middle;\" /></a><br>"
      ],
      "text/plain": [
       "allInNegativeIntervalAreNegative: forall_{a, b in Integers | b < 0} [forall_{n in {a...b}} (n < 0)]"
      ]
     },
     "execution_count": 12,
     "metadata": {},
     "output_type": "execute_result"
    }
   ],
   "source": [
    "allInNegativeIntervalAreNegative = Forall((a, b), Forall(n, Less(n, zero), domain=Interval(a, b)), domain=Integers, conditions=[Less(b, zero)])"
   ]
  },
  {
   "cell_type": "code",
   "execution_count": 13,
   "metadata": {},
   "outputs": [
    {
     "data": {
      "text/html": [
       "<strong id=\"allInPositiveIntervalArePositive\"><a class=\"ProveItLink\" href=\"_proofs_/allInPositiveIntervalArePositive.ipynb\">allInPositiveIntervalArePositive</a>:</strong> <a class=\"ProveItLink\" href=\"__pv_it/c56e8b8768c51711061dbf0804ab6676304698200/expr.ipynb\"><img src=\"data:image/png;base64,iVBORw0KGgoAAAANSUhEUgAAAR8AAAAZBAMAAAD6VzfXAAAAMFBMVEX///8QEBC6urrMzMxUVFRm\n",
       "ZmZERETc3NwyMjKqqqp2dnaIiIiYmJgiIiLu7u4AAAAU9Wx4AAAAAXRSTlMAQObYZgAAA+xJREFU\n",
       "SMfNl0toE0EYx//ZTbJNskmKD0QFieILRVhEBKXS4APFU0AEtSpFMSIq7KGaUtQG8eCLUhDBm7lU\n",
       "8YEEUQ9tD0EURKEERYr1wQqKxaKFCga1FOexmZ1N2tikPbiw7M7s/L/5zXzffDML1H753/djeq9V\n",
       "7zNTkYcx7ZcW//+ArKkARaqVKNkJP+kxDpSnhRc1ArE50rOTl6wZv/pzzw5gBwe6RSs6agQKdpJH\n",
       "XRWTPEFHL/HNQB0HOkkfzTUCMeHJyStC0mRqm5zqPEJp6BkGRMfn66w1qOmId09e4ZEnc+0BYSgO\n",
       "pYBIPQPSb6ZSp2teZc9TqVR+8orlrlLLBfslmoD6CzjCl/3PZHKgZqBoMnm8ily2h6yzR6me7Xbx\n",
       "6zv+bM9A/QN0cSDiysNiVZ4vW6elFcE7CQnIa8Bvur635VxyYnCFU3OZ6L2XMGzY5aEBqwj0G7jG\n",
       "gRYjkhaKruKuMKvrEOvY7wQh77ibCBwgJY5Bd2ab4+anBneK0gxgUbgZwzGRfF5bDtBCDhRGyBkC\n",
       "9Wrk4c5c2AwOWSVAh1jFK0QtKVPn0VtsQHUIpN1A1OA1URoBLEJzXcS2us10XNbIgUK5sBP7BXI/\n",
       "Wvbd0tFwCm4gKBdJu8gYwp0SUC8+FL9TXRlQoRSI0mwTJpNGMahHBVAkTdPnie6DtMGfB5bOYySR\n",
       "kIC0phtEGbhEhkSAshLQoEpMPL3fTZYrE1Ag3pr3SAxKQHPJvQsYtbecwDmzuOwDBeEyHN5IqPq1\n",
       "MZah9Hgdd+46QwL6ZrbTWdQvQykB8rfEEHk8SjzJdRTIbg3boAR0jNzzoI8FeR8DlkiMQZI8ntlA\n",
       "V8m7N6HSdOLP6vn1fEV+hQS0BRu4sr90hgL7iJWhNHEN13kzTmvbID6aUohrIwg2X2FdvBWh8gYf\n",
       "DbHs4SEdRGMh9mr4mjckk8ksMvdwxgEawQOe2DKRAjxyDGE+pcgq9WA65ZzU2jYIZbY4gBEn1kM7\n",
       "Si1o76TN9Q7dR87aQDoBHbb8fWQcUYRzn5jvr+RwUwCRSD72hSb7/cBMRE0ZqI93m4gxHXwZ0ZqF\n",
       "KzEozZDHrJA17a2juMk0NlitZpj420tFPh+UvDNDC9QfpOO1W1keWlp2QGuHZ7XBdCyGaGutA62W\n",
       "1kENShuGXimrB7MSkNL0Yi8ac0oTGSDd855svn087gAt6X2YQwtL6KGe/WVAS+G7y3UMiLZWC2g0\n",
       "1QI1KAV1xXPOYPkRlifIII0hEZVOGjr4jyMs05XmIbjyEFoqAG0tA1LH8bC/yjP1P4C0iU+XIaMM\n",
       "SMfUgUr3Mrj2smn46/BWAhrvv6ytbA5W5qr4L4v/BQTnGGbDSqN+AAAAAElFTkSuQmCC\n",
       "\" style=\"display:inline;vertical-align:middle;\" /></a><br>"
      ],
      "text/plain": [
       "allInPositiveIntervalArePositive: forall_{a, b in Integers | a > 0} [forall_{n in {a...b}} (n > 0)]"
      ]
     },
     "execution_count": 13,
     "metadata": {},
     "output_type": "execute_result"
    }
   ],
   "source": [
    "allInPositiveIntervalArePositive = Forall((a, b), Forall(n, Greater(n, zero), domain=Interval(a, b)), domain=Integers, conditions=[Greater(a, zero)])"
   ]
  },
  {
   "cell_type": "code",
   "execution_count": 14,
   "metadata": {},
   "outputs": [
    {
     "data": {
      "text/html": [
       "<strong id=\"intervalLowerBound\"><a class=\"ProveItLink\" href=\"_proofs_/intervalLowerBound.ipynb\">intervalLowerBound</a>:</strong> <a class=\"ProveItLink\" href=\"__pv_it/f1891b172d63b86c7e5e00bcea94b6ad6a28ad4d0/expr.ipynb\"><img src=\"data:image/png;base64,iVBORw0KGgoAAAANSUhEUgAAAO4AAAAZBAMAAADEVw+wAAAAMFBMVEX///8QEBC6urrMzMxUVFRm\n",
       "ZmZERETc3NwyMjKqqqp2dnaIiIiYmJgiIiLu7u4AAAAU9Wx4AAAAAXRSTlMAQObYZgAAA4VJREFU\n",
       "SMfFlltIFFEYgP+d2dnr7GxUIBHECllBREtEUCguViAEsS8FZYEUrQ8pzIO5YtkOYVAQshBBby2B\n",
       "SiWxmAbZBoPYi5It3QQvMYKVKOWSkA+JdC7OeGZWd0cQOrAzc85/9nzn/LfzAxRtrslR2NzGTY7Z\n",
       "mBWAzW+N/42r2eBKG1Zken3ZAOVm8Wu4MJecWEzb5x4uIBPChPsEf7cX5vqS6OXR7HOt6/k/MB2F\n",
       "cJvQ011bmEvkTfaxfotqZsfZ3hDh4mMIySJ+hfd/zj7XYVbNtwlTd4pwxa54vLWYPw/F4/Gsfe4+\n",
       "s+/eteSDJImjP7HYWDFuMBZrSNnnnse2O/W4hPrYLX14f931XrSKL0q4xwHqDP+/szbXGQaXbBps\n",
       "Uc0nVIDrNnr30K9UduXw9/fLxnCqOi0tAHgVwt0NkmKIOnRdbO+4El3lchGYMXHcJea94TMI+h9g\n",
       "K5qwBALxVv+4bmwu9AWk3+i9hXAD4F/dOzaF1HdGDci+OY3JV1nI6FOwmOyZbZ4kMGNocWcOAtSr\n",
       "xbGVhSQE9S4D8DnC9auBVfdbRL+Xe39pIpTfYPNkBr7qXSzO4wZlCzdYC/Nh2vPeXjERgjoVgysp\n",
       "OLtc68d24P72aiJVVzTKcmf4CMDbnv4IUDFmuGs6w/qcg69PM9wdAIk0PNJzMNdG5wkKBFVN1zPU\n",
       "VSH4qHsZGyMrRjxUO0fDLNfVGAJpYAk+AhVjxk85YSjqDQwy3HqA+SRUe/Ul+Bj5cqTgvZYCkfoV\n",
       "PECR6YzyOD5daTF7jKaYWdN95L2IzjenIDtQsRPFw0moMOZchXcglTDe6VG9n32GmK/Cz0QIOtFe\n",
       "VuIIHMj+wZA/gj/DQm1FLBZLQ+o53GTvwZ0YlkYqImKujVix11h4G5xFoaOb5gAO354jPZaALEXJ\n",
       "9hXaUohyRaStec01gqwfhIA6TUxyX4UuljtCdxUNTVNTpUBahvof+pI5mGDO65ALZZUp5t53aJXl\n",
       "WrMcgIfgxH8SBOCy1ns/AY5DYSImttzFL4y426FZQ48sGuAM+4oFc9szhsvVDF+ASpWrQee4hPqD\n",
       "J542RKzcPSB0UzHhlmX6VH4RKmX0KOtn44i9B1sncWPuQUnJq3No/vBh+65f5xCxNX71vdgon4jC\n",
       "TBN42XZ9VYTrLlCbvMjbmGi/rrPmZ+Jr0U2uJ9eqn1vyTsRlNlA/f/oHNuD1dIW0Xz0AAAAASUVO\n",
       "RK5CYII=\n",
       "\" style=\"display:inline;vertical-align:middle;\" /></a><br>"
      ],
      "text/plain": [
       "intervalLowerBound: forall_{a, b in Integers} [forall_{n in {a...b}} (a <= n)]"
      ]
     },
     "execution_count": 14,
     "metadata": {},
     "output_type": "execute_result"
    }
   ],
   "source": [
    "intervalLowerBound = Forall((a, b), Forall(n, LessEq(a, n), domain=Interval(a, b)), domain=Integers)"
   ]
  },
  {
   "cell_type": "code",
   "execution_count": 15,
   "metadata": {},
   "outputs": [
    {
     "data": {
      "text/html": [
       "<strong id=\"intervalUpperBound\"><a class=\"ProveItLink\" href=\"_proofs_/intervalUpperBound.ipynb\">intervalUpperBound</a>:</strong> <a class=\"ProveItLink\" href=\"__pv_it/53627333c645c1c68307d576b2ec677e16491bed0/expr.ipynb\"><img src=\"data:image/png;base64,iVBORw0KGgoAAAANSUhEUgAAAOwAAAAZBAMAAADAot+NAAAAMFBMVEX///8QEBC6urrMzMxUVFRm\n",
       "ZmZERETc3NwyMjKqqqp2dnaIiIiYmJgiIiLu7u4AAAAU9Wx4AAAAAXRSTlMAQObYZgAAA5BJREFU\n",
       "SMfFll1IFFEUx/87u7Oj6+xsVCAVxBZZvoRLRFAoblkgFTEvfaq0JK0PKuyDuSKV++BDUciCBL7l\n",
       "i0mlspT64EcMYi+KslAgSMYIQqKUYqAPiXTvHWd2dld3JxC6MHf3njNzf+eee865F8janHMz2NPG\n",
       "zc1aeMuNPW8N/wurWsBK/+zG2K6qMQ0bpz+TmbFsvWLMOvbsjlLpIoHxPoZ9SwVtmbGuKPnJUa1j\n",
       "0+Yb9dI+x0+6CMM2kl4IZMYyfaN1al6KY6ReTeCh5k8wLF0EH80SUtT6u9axtmTHSFWK9qeIyucZ\n",
       "VuwOh59ki+SJcDgct44tTBoJ5fqqelkZiLIEWg8GZ7NhPcFgfad17D0Sy4Ph4atsYC/36vLW4euA\n",
       "S2bYMqDGCPxnO2MdPjhDScJmJXl9EXA9xuglmdzxAis0aKWgz3D2Ojw+5EYY9gSkiPFBl14QD3Y9\n",
       "lBNYzo/FZMflJ5tGl8DrH2A/cNwdwApb5ugnXZy7BVsnuH0M60ZewvLn1KiBm4o75FpWTVUqjhHD\n",
       "ZqJmJptbDtmwhGwNUAnztTbDVN+2mI/AI8O+yrB5ijsReBvkGTz1SxVR/NhcHEfwXR9SdRrWE0rB\n",
       "Umb59rDj9vZEMooUHStFaE15NFRN9/ZPvypqvpJlM3bRTjL984chPzQ1RQgVb4xtKxq+YcIeIs8d\n",
       "YFMvqoVletreV3Uno+YSYc8IWzTP46I/h70inveZsc4GL6SxTXyBpqaIn6EWw02jGDdh68hzGOKW\n",
       "Sxecq2ZYH5FC1EIKr0hGOmQ7zUtnTIxfYC8uLSWdQLlVZHXLEbIJmtpB0ukKSox3ajEFKd8UmMIa\n",
       "XIH2RJGm0eWI8n4jgWAjlcvjzaP10ubjAyXBYDCGzj48NR98R+hnMeIgpuZa2Q72G9MewC3gmL4v\n",
       "p0FdKdSmFD/pWiWNPq+GFYmrVlTnNIkKD9zKAkvgdgXdZuy0ZpTsXdCCshPSFup+6DOu4ptptbZQ\n",
       "hloybzrmbWppsdoUcqMDDvoNz4OLpx7zLbCd8TE128ej9t/TQhuaVNLFiYAz9lbMVNHem7BcxWQl\n",
       "ShWugqziARmPX35X70/FngTfo6kZtmBkQLFvoDREuoIhcwKZDz5hjjWjQEqRtEuNVjZcdG93v9Qw\n",
       "dWre6qZkvysxbyXp7SHLd6ksWGH3m8jHNLNE61e41JrMwkze25vjTvfk5rT1cCPW78lf/wIfV+7J\n",
       "urs20wAAAABJRU5ErkJggg==\n",
       "\" style=\"display:inline;vertical-align:middle;\" /></a><br>"
      ],
      "text/plain": [
       "intervalUpperBound: forall_{a, b in Integers} [forall_{n in {a...b}} (n <= b)]"
      ]
     },
     "execution_count": 15,
     "metadata": {},
     "output_type": "execute_result"
    }
   ],
   "source": [
    "intervalUpperBound = Forall((a, b), Forall(n, LessEq(n, b), domain=Interval(a, b)), domain=Integers)"
   ]
  },
  {
   "cell_type": "code",
   "execution_count": 16,
   "metadata": {},
   "outputs": [
    {
     "data": {
      "text/html": [
       "<strong id=\"inInterval\"><a class=\"ProveItLink\" href=\"_proofs_/inInterval.ipynb\">inInterval</a>:</strong> <a class=\"ProveItLink\" href=\"__pv_it/0aef9d29580dfd0d524d6107307ba43742e68ae80/expr.ipynb\"><img src=\"data:image/png;base64,iVBORw0KGgoAAAANSUhEUgAAARMAAAAXBAMAAADaYbYpAAAAMFBMVEX///8QEBC6urrMzMxUVFRm\n",
       "ZmZERETc3NwyMjKqqqp2dnaIiIiYmJgiIiLu7u4AAAAU9Wx4AAAAAXRSTlMAQObYZgAAA7BJREFU\n",
       "SMe9ll1IFFEUx//uuo67OzsbCUVBoH1AEeEGPoWQfUCiUvtihAqZwUoYtQ+mvmQ+FBRuIUTiS7UP\n",
       "pUgkQhGiFEMfFEmxD5GlCeNLD30pBUZY0jl3Ptdddwu2LsyduXPPnPO7555z5gL/o8kNGSZ3DBgP\n",
       "Wk5tuobTvVUmM360vQd4SPcED8ZzhVKW9q1/bhlxZReb93TRFQIG+dWlXKGkV+RbsZx8YYU5TTht\n",
       "dJMac0TiH/5LlGCPOf2cuChYPD05QslLiryPF6ffZEEp1czpGQrugfb207nan83OgTumZfXKbWu6\n",
       "gNwxH4lM5gqljnLoXvtYlRi0aUkb1DpaEk354OxYjTHtCwN7gGYrF88vZ6Q4ky+6zKcYqczvxmyI\n",
       "B5ZWkSKu1TiZmkHzCIYgc4J5SWYjFEsVbi6RPVJ1sFY8JAd2rx0T3hNiQXpbCawPNGKWwRX7k+00\n",
       "PqPiYAqKdxF5ceAce4FcE4BfteYuOKOutgETGHqQitL3wFbWraHQivqvVDKJ4zqTutZNT+thW1ZE\n",
       "3QFgKgWF3BWkdRSQN93kGr8asNf43ZGYTZ1foLqfqikoz+yUlbs5I6MOFOaoFFFbYUmV0IbNQ/mW\n",
       "ghIIo5T0c6wyitLFJfLU6FFeycJdwpLrt94AnujcHjhQhNQIw+ky/pjIyLH9huo1dB0Cfiq8QQnL\n",
       "Yn4XpAV455Q0ZeWwpscKbxCad9N3E9IieyIh01o+laqBEPQAenTZgSKkrortEDLet2LuPh4bqo/T\n",
       "tRbyoo8HNXaJS0D5QUCXzX8ed8xFMbvWyCCZ7V0h/PywmxdRMCzTrXOEfO6OC+NDcQeKkPrQxI9C\n",
       "RukXidWCF3bUS1/haxT8n4udyRzD1TDpUn7B6GbZbI+nwpHMyKOtDxb7eWvzQh62WY0SuF9HIi3w\n",
       "+TRJs1B0qY/HYMhAuccuKrJyY5twtNQiHCedCzlQWsc2tBCbsgpGN0MqleoGs+wUMrhMtma1gpcU\n",
       "fEEEVKG71qWIqNtSDl/UQjGk/BcMGbqNkNU5vDMLf1IR81ZmLfz29Iz989hZrnVEA+hDR1SaQ9EG\n",
       "7OP34TCv1EQRUgwfgy7D6aQi4TULkxz/y9+hPX3LKrP14w3Yqbrq49w3ok7Fe/KYvLeq/5WNIqTE\n",
       "ejVdhts1bBrNckiQM6NwMXaUWdFURw/0U6xY7Q+PEa3pT0hTmU9xtOj85P+TO2r3S9sfokjpDyzy\n",
       "YLaz7Z0lHzj65VF6I9T0+uzlxxP4z63i35v4DUH0+jHxTUG/AAAAAElFTkSuQmCC\n",
       "\" style=\"display:inline;vertical-align:middle;\" /></a><br>"
      ],
      "text/plain": [
       "inInterval: forall_{a, b, n in Integers | a <= n <= b} (n in {a...b})"
      ]
     },
     "execution_count": 16,
     "metadata": {},
     "output_type": "execute_result"
    }
   ],
   "source": [
    "inInterval = Forall((a, b, n), InSet(n, Interval(a, b)), domain=Integers, \n",
    "                    conditions=[LessEqOnlySeq(a, n, b)])"
   ]
  },
  {
   "cell_type": "code",
   "execution_count": 17,
   "metadata": {},
   "outputs": [
    {
     "data": {
      "text/html": [
       "<strong id=\"natsInInts\"><a class=\"ProveItLink\" href=\"_proofs_/natsInInts.ipynb\">natsInInts</a>:</strong> <a class=\"ProveItLink\" href=\"__pv_it/70e508340a9d87d9071e5905dab1a885e5b0ec720/expr.ipynb\"><img src=\"data:image/png;base64,iVBORw0KGgoAAAANSUhEUgAAAHYAAAAVBAMAAABh6QfWAAAAMFBMVEX///8QEBC6urrMzMxUVFRm\n",
       "ZmZERETc3NwyMjKqqqp2dnaIiIiYmJgiIiLu7u4AAAAU9Wx4AAAAAXRSTlMAQObYZgAAAhxJREFU\n",
       "OMtjYKAAPMAnqY1bikeBgeECiHEauzyzAxZBzvt/O2QbDzAEMzCsBPH7sOvlwOYo7tYHDA1sQEkG\n",
       "hjIglz0Bu97d2ARZFzBwTVgEdPQCsNmsE7DrlUPmvO69ewNEszxgKAF5hk+AgWd5eXktdq1MDch+\n",
       "70F4II8NxM5kYPiWlnYLu16g6xgYSnYpFoA4ZQitPBvOgKilDAzODAzpOILqANBucYZ8MAdJzTM+\n",
       "cPjMYGBQYeBDdptFqAK3KMQORmAU1h9gCAOx+ZCC05kF7BJFBgZeBu4DUEG+raEHeBLWMayDcPmB\n",
       "ev0ZGG6D/S579y4krBiYArTAtD0wvg7wwryyTf3dA57TrMh6vzHwfUZLJhwMQHcuB+vlazABCpTu\n",
       "SmbgCQAFhKX5BqhexgkM7L8ZOD/wgZx0Aa53JRckOSqCQsEJKHWd/R8opQD1Gqw7DNXLdoCB7ycD\n",
       "S8NkEMcHppXdAWgXlwADwwkgZyrQDJYA5gsMVhC9XFx+EFVcQHf0MMwNAEUVw1sFqF62gjwGvqgE\n",
       "cBwxMG4AeY3bgcE2LS1tA48B+7l70LQBNLRkt3I2WBd7qwFEVDFDLK1fDGhsE8gmYFC9f8B2ruAJ\n",
       "xF4G5X1QK8RR8o8HNJxhkSIAZTA+sLd5AI42oF4eqH8ZTuHL21wbYEk3+nQMA18SkKUBJBzw5UEY\n",
       "eIFmFNC/yHx2Bzx63QkUSNW4pbgNGAC0un4nnw6qzAAAAABJRU5ErkJggg==\n",
       "\" style=\"display:inline;vertical-align:middle;\" /></a><br>"
      ],
      "text/plain": [
       "natsInInts: forall_{a in Naturals} (a in Integers)"
      ]
     },
     "execution_count": 17,
     "metadata": {},
     "output_type": "execute_result"
    }
   ],
   "source": [
    "natsInInts = Forall(a,InSet(a,Integers),domain = Naturals)"
   ]
  },
  {
   "cell_type": "code",
   "execution_count": 18,
   "metadata": {},
   "outputs": [
    {
     "data": {
      "text/html": [
       "<strong id=\"natsInReals\"><a class=\"ProveItLink\" href=\"_proofs_/natsInReals.ipynb\">natsInReals</a>:</strong> <a class=\"ProveItLink\" href=\"__pv_it/413af6371478b4ed546b9c1f59983c05c27dab5c0/expr.ipynb\"><img src=\"data:image/png;base64,iVBORw0KGgoAAAANSUhEUgAAAHcAAAAVBAMAAACOK2zoAAAAMFBMVEX///8QEBC6urrMzMxUVFRm\n",
       "ZmZERETc3NwyMjKqqqp2dnaIiIiYmJgiIiLu7u4AAAAU9Wx4AAAAAXRSTlMAQObYZgAAAhJJREFU\n",
       "OMtjYKAEPMAnybQBt9whIL4AYpzGocAEi9iJb/kdEkBDWQ0YGFaCBPpwaMYqnlDCYDajgIGhgYGh\n",
       "DMhlT8CulxurqxNKGdieA3WcYmDgAHqadQJ2zYzIAcK34+7dBqhmLgOg5ocMDDzLy8trcbhaA5lj\n",
       "cQ5hM1gzG9DKb2lpt3BojgJ5yXuROIjNnofkbBaQs7kCGBicGRjScWjuAWLFArYPIDZbAZJm3RNA\n",
       "HifQEyoMfA3IrgtV4BaF+lUIaOEfBlZwcD5DBFjh3RugQGISYGDgZeA+AAuTraEHeBLWMayD8j8x\n",
       "MLB8YOAFh7ni3bvwAFNlA5nODHQR9wFeWKBuU3/3gOc0K7Jm/gSG9wao6SWhlFXZAaqZrwEkXror\n",
       "mYEHGAIMPJbmG2CaJRkY6jcwzAcn4bfI8dy3B+pshnQnoAnX2f8xcICkeAzWHYZpzmFgeD+BwYMT\n",
       "ZDXLASTNJixAIR6QJ6YCkzdLAPMFBiuIZi4uP6iypcA0dIDzKhc4PC4haeaakA6JKgZGYIDwK3A7\n",
       "MNimpaVt4DFgP3cPqkwXFM2bzDaBORXB8IyRzNDWP4GBQwFkF9BL7x+wnSt4ArGZQXkfLHkWIMf6\n",
       "lN67yHEKSp6wVGxv84ClAKKZB+ZnngX4MvtqeK6PPh3DwJcESs9AwgFvloQligZUPhfQzygCJXg0\n",
       "sxQQKKPY8RRDmxkYAD6Zi3FYdfnKAAAAAElFTkSuQmCC\n",
       "\" style=\"display:inline;vertical-align:middle;\" /></a><br>"
      ],
      "text/plain": [
       "natsInReals: forall_{a in Naturals} (a in Reals)"
      ]
     },
     "execution_count": 18,
     "metadata": {},
     "output_type": "execute_result"
    }
   ],
   "source": [
    "natsInReals = Forall(a,InSet(a,Reals),domain = Naturals)"
   ]
  },
  {
   "cell_type": "code",
   "execution_count": 19,
   "metadata": {},
   "outputs": [
    {
     "data": {
      "text/html": [
       "<strong id=\"natsInComplexes\"><a class=\"ProveItLink\" href=\"_proofs_/natsInComplexes.ipynb\">natsInComplexes</a>:</strong> <a class=\"ProveItLink\" href=\"__pv_it/fe5b45e3eeea127c3e03bdd32b4d276afa094fe30/expr.ipynb\"><img src=\"data:image/png;base64,iVBORw0KGgoAAAANSUhEUgAAAHcAAAAVBAMAAACOK2zoAAAAMFBMVEX///8QEBC6urrMzMxUVFRm\n",
       "ZmZERETc3NwyMjKqqqp2dnaIiIiYmJgiIiLu7u4AAAAU9Wx4AAAAAXRSTlMAQObYZgAAAhtJREFU\n",
       "OMtjYKAEPMAnybQBt9whIL4AYpzGocAEqyj3jX7ZVAZWAwaGlSBuHw7NWMWZ9RX41m9hYGhgYCgD\n",
       "ctkTsOvlxurqAz4MDJxfGBhOMTBwAD3NOgG7ZkbkAOHbcfcu0DIGngcCQDKEgeEhkL28vLwWh6s1\n",
       "kDkW5yA0K7sDkHzNwMAGtPJbWtotHJqjQF7yXiQOYrPnQQWfMi2AMLgCGBicGRjScWjuAWLFArYP\n",
       "IDZbAVTQivMAhMEJ9IQKA18DsutCFbhFoX4VAlr4h4EVHJzPYAqsmKCamYB+52XgPgALk62hB3gS\n",
       "1jGsg/I/MTCwfGDgBYe54t27kAB7xgx1NjPQRdwHeGGBuk393QOe06zImvkTGN4boKQXjgcOCM18\n",
       "DSDx0l3JDDwBoJiwNN8A0yzJwFC/gWE+OAm/hWnmWQDSzAdxNkO6E5B9nf0fAwdYzmDdYZjmHAaG\n",
       "9xMYPDhBVrPA/MaQow0kdB8w8IA8MRWYvFkCmC8wWEE0c3H5QZUtBTryAOdVLnB4XIJpZnHbx6eW\n",
       "B4kqBkZggPArcDsw2KalpW3gMWA/dw+qTBcUzZvMNoE5FcEw3ab3PzqBPK8ATm9A1z1gO1fwBGIz\n",
       "g/I+WPIsQI71Kb13keMUlDxhqdje5gFLAUQzzzp42ODL7KvhuT76dAwDXxIoPQMJB7xZEpYoGlD5\n",
       "XEA/owiU4NHMUkCgjGLHUwxtZmAAALmggfvUC+0oAAAAAElFTkSuQmCC\n",
       "\" style=\"display:inline;vertical-align:middle;\" /></a><br>"
      ],
      "text/plain": [
       "natsInComplexes: forall_{a in Naturals} (a in Complexes)"
      ]
     },
     "execution_count": 19,
     "metadata": {},
     "output_type": "execute_result"
    }
   ],
   "source": [
    "natsInComplexes = Forall(a,InSet(a,Complexes),domain = Naturals)"
   ]
  },
  {
   "cell_type": "code",
   "execution_count": 20,
   "metadata": {},
   "outputs": [
    {
     "data": {
      "text/html": [
       "<strong id=\"natsPosInNaturals\"><a class=\"ProveItLink\" href=\"_proofs_/natsPosInNaturals.ipynb\">natsPosInNaturals</a>:</strong> <a class=\"ProveItLink\" href=\"__pv_it/bcce1d2811cf7024aebc933426bfdbf8208738780/expr.ipynb\"><img src=\"data:image/png;base64,iVBORw0KGgoAAAANSUhEUgAAAIMAAAAVBAMAAACXjEALAAAAMFBMVEX///8QEBC6urrMzMxUVFRm\n",
       "ZmZERETc3NwyMjKqqqp2dnaIiIiYmJgiIiLu7u4AAAAU9Wx4AAAAAXRSTlMAQObYZgAAAi9JREFU\n",
       "OMullE9o03AUx79rk6Zpfs1EEPEgVBTcRchhTB2KZdlhopMh7OIfCAqZhx1ymNtJ7MXbLL14VgQZ\n",
       "IoQw0YOCFL1ZGL2IIlQy8DAQbfWwk4rvNU37i6tR8Ae/8PL7vd8n733f+wX4/xH+3SUT/HnvJc0m\n",
       "G41UxPiQta3tayEu/6ipFvCQF6qpiKG7i1kH6AAVYJleNSeNYAzNY9Z6DuwCXgN5EkOtpSFGZLk+\n",
       "3W696xpTVcVixCYg1lZWbqTmMSbZ2dWYZ4+bVUbk6PPbrvt+57nCwLzAqZ65v5ft5X5Eth5MMKIw\n",
       "RzawsBOhDsxVmge8XIftgaeN8yIghE56HoJZSUXspiC+Q2XJTUdCKKFNiAzNIoy6dPbYfMnYE8qI\n",
       "b4DSQZHrktnfavXktGGWt+h4lqIz6sU4QfPJfF04Pnx1enb6tIQYddC2WM2yFAUmsz2EWel339PD\n",
       "X0LRUOEnEtkH3Axwl6+C2ZQRouZEiWBhih7Xn12FIHEhjh8NkohFoF3DjM5hnJURWCOEYCHvENp8\n",
       "q/1EnreE5b9KIh5Q/9X1N90yfy7Fq1dY80pUVIyQUMpctonJCFEonEsgjnBbrE+ss63dsnr99tVB\n",
       "t5R5hgpKcrRklHHSdd1AWNrGB/KVGtyTCqbP9CoSj83YaIe5De9jFAUOvkg4iXtp7f9ocJVOnQgV\n",
       "L0II/x8ue9wH/bbMXGxcgskSjdGjnHRbSkEo3m93i7QY4qal/PgeA78AoROD19qDR+cAAAAASUVO\n",
       "RK5CYII=\n",
       "\" style=\"display:inline;vertical-align:middle;\" /></a><br>"
      ],
      "text/plain": [
       "natsPosInNaturals: forall_{a in NaturalsPos} (a in Naturals)"
      ]
     },
     "execution_count": 20,
     "metadata": {},
     "output_type": "execute_result"
    }
   ],
   "source": [
    "natsPosInNaturals = Forall(a,InSet(a,Naturals),domain = NaturalsPos)"
   ]
  },
  {
   "cell_type": "code",
   "execution_count": 21,
   "metadata": {},
   "outputs": [
    {
     "data": {
      "text/html": [
       "<strong id=\"natsPosInIntegers\"><a class=\"ProveItLink\" href=\"_proofs_/natsPosInIntegers.ipynb\">natsPosInIntegers</a>:</strong> <a class=\"ProveItLink\" href=\"__pv_it/c9051c3914a677405a56d88d3b6d262d5b77358b0/expr.ipynb\"><img src=\"data:image/png;base64,iVBORw0KGgoAAAANSUhEUgAAAIIAAAAVBAMAAAB4Tis1AAAAMFBMVEX///8QEBC6urrMzMxUVFRm\n",
       "ZmZERETc3NwyMjKqqqp2dnaIiIiYmJgiIiLu7u4AAAAU9Wx4AAAAAXRSTlMAQObYZgAAAi5JREFU\n",
       "OMtjYKAYPCCsRBu3FI8CA8MFEOM0PgOYHbAIct7/2yHbeIAhmIFhJYjfh88EDmzO5G59wNDABpRk\n",
       "YCgDctkT8JmwG5sg6wIGrgmLgN5YALaBdQI+E+SQOa97794A0SwPGEpA3uMTYOBZXl5ei88Apgbk\n",
       "MOlBeCmPDcTOZGD4lpZ2C1MfF7J7GRhKdikWgDhlCAN4NpwBUUsZGJwZGNKx+BMRkAeA7hBnyAdz\n",
       "kFQ+4wOH3gwGBhUGvgZ8JjACo7z+AEMYiM2HFOTOLGBXKTIw8DJwH0DSahGqwC36AMkEfqAJ/gwM\n",
       "t8FhInv3LiQkGZgCtMC0PTBmD/DCPMe3NfQAT8I6hnWsLr4unkgmfGPg+4yWuDgYgC5fDjaBr8EE\n",
       "JrpN/d0DntOsDOtQfDGBgf03A+cHPpAVF+DCK7kgCVoRFDpOQKJ0VzIDTwAoiC3NN6CYwHaAge8n\n",
       "A0vDZBDHBybK7gC0l0uAgeEEkDMVaBLfdfZ/oBQKNMFg3WEUE7iA5vYwzA0ARSrDWwWYuQV5DHxR\n",
       "CeDYZGDcAExiAcwXGKwgJnBx+SGbwAS0oGS3cjZYL3urAURUMUMsrV8MaHgTSM8DUHBxOzDYpqWl\n",
       "beAxYD93D6gUETviKHnSAxoXsMAXgDLeP2A7V/AE4gYG5X0oSeMUvjTPtQEW4A/sbR6AkwjQBJ51\n",
       "hHM3DLyAezb6dAwDXxKQpQEkUIsUdgc8JrijOQkYDlhUVeM2gNuAAQA45X9+8rGIlwAAAABJRU5E\n",
       "rkJggg==\n",
       "\" style=\"display:inline;vertical-align:middle;\" /></a><br>"
      ],
      "text/plain": [
       "natsPosInIntegers: forall_{a in NaturalsPos} (a in Integers)"
      ]
     },
     "execution_count": 21,
     "metadata": {},
     "output_type": "execute_result"
    }
   ],
   "source": [
    "natsPosInIntegers = Forall(a,InSet(a,Integers),domain = NaturalsPos)"
   ]
  },
  {
   "cell_type": "code",
   "execution_count": 22,
   "metadata": {},
   "outputs": [
    {
     "data": {
      "text/html": [
       "<strong id=\"natsPosInRealsPos\"><a class=\"ProveItLink\" href=\"_proofs_/natsPosInRealsPos.ipynb\">natsPosInRealsPos</a>:</strong> <a class=\"ProveItLink\" href=\"__pv_it/fcbfd7beccf10cb7dac26ae3b9fa8715e47420800/expr.ipynb\"><img src=\"data:image/png;base64,iVBORw0KGgoAAAANSUhEUgAAAJMAAAAbBAMAAACKKKCTAAAAMFBMVEX///8QEBC6urrMzMxUVFRm\n",
       "ZmZERETc3NwyMjKqqqp2dnaIiIiYmJgiIiLu7u4AAAAU9Wx4AAAAAXRSTlMAQObYZgAAAmpJREFU\n",
       "OMtjYKAYTCBFsRJe2QQg5iLSJGYHgkYRUAIHLx4QNIphNxA/IGyUDwNho3gLGBgugBin8SllF8Ai\n",
       "yNOf9qOxG2EUN9CHK0GMPnxGsQZgE2Vjd2DObGdg6eiQ6AAayfePgaEMZG8CPqMYFbAbFcCQVwZ3\n",
       "FcMdBgYOYGCx4k0a9ii81713b8CMWsyGMCoM6Onl5eW1eIN1I0rC6HmAcBWyUeeB+Fta2i1M/Uhp\n",
       "zgNElOxSLADRZQ+QPOiH5EF9oIQzA0M6lrBGMFOAmEmcIR/MSUcKK6Y77SAWJHXaGzAwqDDwNeA1\n",
       "qhWI6w+AAgMYUQkIo2TvdiJpqAdGDi8D9wEkIYtQBW7RB8hGXQVifwaG2yA2k+zdu7BgDwrIQ9L3\n",
       "Hhh13Ad4Yf7n2xp6gCdhHcM6VhdfF09ko74x8H1GzY5ADwaZoLmKrwEusk393QOe06wM61A82AJM\n",
       "eL8ZOD/wgSy7gGQUx2sk79QbgELSCUiU7kpm4AElax5L8w2oRrkBTfjJwNIwGSU/Ao1idnBGqNIH\n",
       "RfBUoE1819n/MXCAM5fBusOoRu0F4h6GuQELQJy3CkiJYSVbAVzVeXDG2MDAwBLAfIHBCmIUF5cf\n",
       "ilH6oGS1WzkbbAh7qwEsO38z4Mj4CVe1AiwKDHV+BWDWtk1LS9vAY8B+7h5QC8IofgPkVMLpAYlB\n",
       "dNANj8oHbOcKnkBcxaC8D0URywIiike+7/Dc/8De5gFLAcQonnWo5fEFIozigaddpujTMQx8SUCW\n",
       "RhIsK8BBJhFG8Rqg5WFgWGFRVkGEUUeJqyY4CQcW/sITCZwkqIL1AQM1AQCdqJFosXfudQAAAABJ\n",
       "RU5ErkJggg==\n",
       "\" style=\"display:inline;vertical-align:middle;\" /></a><br>"
      ],
      "text/plain": [
       "natsPosInRealsPos: forall_{a in NaturalsPos} (a in RealsPos)"
      ]
     },
     "execution_count": 22,
     "metadata": {},
     "output_type": "execute_result"
    }
   ],
   "source": [
    "natsPosInRealsPos = Forall(a,InSet(a,RealsPos),domain = NaturalsPos)"
   ]
  },
  {
   "cell_type": "code",
   "execution_count": 23,
   "metadata": {},
   "outputs": [
    {
     "data": {
      "text/html": [
       "<strong id=\"natsPosInReals\"><a class=\"ProveItLink\" href=\"_proofs_/natsPosInReals.ipynb\">natsPosInReals</a>:</strong> <a class=\"ProveItLink\" href=\"__pv_it/3fd828e6464cdab704eb7ed937e232316371156a0/expr.ipynb\"><img src=\"data:image/png;base64,iVBORw0KGgoAAAANSUhEUgAAAIMAAAAVBAMAAACXjEALAAAAMFBMVEX///8QEBC6urrMzMxUVFRm\n",
       "ZmZERETc3NwyMjKqqqp2dnaIiIiYmJgiIiLu7u4AAAAU9Wx4AAAAAXRSTlMAQObYZgAAAitJREFU\n",
       "OMullEtoE1EUhv8m80hmbqYiiLoQIlV0U5hFqQ8Ug3ZR8UE33aiLwcJkIzhCHysxG8VFrdkI7hRB\n",
       "RIQhVHQhIkE3xUDJRixCZAqCC9EUF12JeE6Tydyx8So4MMOZe8/95v7/PWeA/7+iv6dkan+ee013\n",
       "k4OGEjHSZ2xp/fLNHYTWXeAxDywoEX1nvWmM3g2ACjBLr6anIth9dXgzMD7TurdAjszQqyrEgGzX\n",
       "l1utlRhhuYRYBcSjubmrSh37pTg7HyW72EAY9Pl13/+weZ2VhOdY6qkH2zmejSQhGguxJoATQHkz\n",
       "Qk/Cebp3B8Yax2XZi+ElsjNPfu6BU1EittImfkBny53Ed+9Ka4UtzGwBCrDr0tqDk0V7WyQjvgPa\n",
       "Ggp8LpldrVbPzr0Gq8rS7ux6IRboPJusCy9EqI+dGTspIQY9tF3OL0lC9KFSF+FUetX3fN+3SDR0\n",
       "hCkhO4FrNdzjVnCashcLL7tCUD5Oj5kXUxBkLsShA7U04hLQrmI8z9s4LSNGNBoSbOQdQjvvzZ/I\n",
       "8ZRwwzdpxEOqv3r+3cYxfy1KCKta7hwqBsgobSLbxOEOwrLOphDDXBaLo4scm9fdXptN4cbtKnIM\n",
       "FSRysGiXcNT3/ZpwzeWPlCsVeCAdWH68eyLxtRoH7chYDj51doGhV6kkcV9V/k+SVjp2JNKCDkKE\n",
       "/9DscR30yjJzvnEBzkVuKnqU0mnTCoQW/NZb5EWfNFPx43sK/ALERoxfbK1ARwAAAABJRU5ErkJg\n",
       "gg==\n",
       "\" style=\"display:inline;vertical-align:middle;\" /></a><br>"
      ],
      "text/plain": [
       "natsPosInReals: forall_{a in NaturalsPos} (a in Reals)"
      ]
     },
     "execution_count": 23,
     "metadata": {},
     "output_type": "execute_result"
    }
   ],
   "source": [
    "natsPosInReals = Forall(a,InSet(a,Reals),domain = NaturalsPos)"
   ]
  },
  {
   "cell_type": "code",
   "execution_count": 24,
   "metadata": {},
   "outputs": [
    {
     "data": {
      "text/html": [
       "<strong id=\"natsPosInComplexes\"><a class=\"ProveItLink\" href=\"_proofs_/natsPosInComplexes.ipynb\">natsPosInComplexes</a>:</strong> <a class=\"ProveItLink\" href=\"__pv_it/a503e4f7ac56787bfa14a5387ce0f2b346a608890/expr.ipynb\"><img src=\"data:image/png;base64,iVBORw0KGgoAAAANSUhEUgAAAIMAAAAVBAMAAACXjEALAAAAMFBMVEX///8QEBC6urrMzMxUVFRm\n",
       "ZmZERETc3NwyMjKqqqp2dnaIiIiYmJgiIiLu7u4AAAAU9Wx4AAAAAXRSTlMAQObYZgAAAixJREFU\n",
       "OMullE2I01AQx/+bJk3TpE8RRDwsRBQVZLEHP4ti0EVWXKUH96IeimL2IpKD7p7EXrytuhfPFkFE\n",
       "hFjWj4OHJejNwtKLuAjVLKgX0a4inkScaZovt0bBQF4n8ya/zvxnXoD/v/y/h0jNP+89o7vNRisT\n",
       "sWOgV1+8MXwOShm4x4/XMxEDd3PbTfHgEVAHpuhRrWUR9IF1eOOA9g14ARRIDGU2CzGUlOvjtc4i\n",
       "/xr+alpPAEtk352evpxZx9Zk+jN9nqJaDATy9Pffbfv1yveKsXmSSz16ex3bU2FG76VGP7AKHAIm\n",
       "VyKU2Jyhe4OTX2Y7iqxoXmBopOcmiHomYg0l8QMKSy4i3StSHyGRJiXoXuLdPROmvtZPIr4C8jJK\n",
       "3BdpuNMJ5PyQ6xeSo+x0rxQWKB5PeEbNhauMHhs9kkCsqqFb5ngrdBZ8K0aIejR9T7Z89o2WAjdV\n",
       "yHrgShO3+CiIdug0GowQQSGYPEjLpadnYVR5b+/uZhpxHujOYkzjNMZj7zZaRnwYLORNQotX6k8U\n",
       "eviy+zyNuENpe9rLXps/maFXPjwvNl8ImoohEkqu5tqoBIhi8XgKMcJjMbdrjm31ajl073z7hdMv\n",
       "mL1ZJb1M3cJ+27abRlldeEOxiQF3Eg3TxoKORNdSaHT9/ILzLsgCG+dTQUYja/zvx0fpwD5fdgKE\n",
       "4f7DYQ/nIBpL6VTrNMQZPlS0WOmwixkI2fntbJEWA8LUjA/fQ+AXw4mC6X1IqoUAAAAASUVORK5C\n",
       "YII=\n",
       "\" style=\"display:inline;vertical-align:middle;\" /></a><br>"
      ],
      "text/plain": [
       "natsPosInComplexes: forall_{a in NaturalsPos} (a in Complexes)"
      ]
     },
     "execution_count": 24,
     "metadata": {},
     "output_type": "execute_result"
    }
   ],
   "source": [
    "natsPosInComplexes = Forall(a,InSet(a,Complexes),domain = NaturalsPos)"
   ]
  },
  {
   "cell_type": "code",
   "execution_count": 25,
   "metadata": {},
   "outputs": [
    {
     "data": {
      "text/html": [
       "<strong id=\"naturalsLowerBound\"><a class=\"ProveItLink\" href=\"_proofs_/naturalsLowerBound.ipynb\">naturalsLowerBound</a>:</strong> <a class=\"ProveItLink\" href=\"__pv_it/42a2a3164c6c581f5e22174579b701a72054dd900/expr.ipynb\"><img src=\"data:image/png;base64,iVBORw0KGgoAAAANSUhEUgAAAHcAAAAVBAMAAACOK2zoAAAAMFBMVEX///8QEBC6urrMzMxUVFRm\n",
       "ZmZERETc3NwyMjKqqqp2dnaIiIiYmJgiIiLu7u4AAAAU9Wx4AAAAAXRSTlMAQObYZgAAAg9JREFU\n",
       "OMullD1IHEEUx/+3e+d6pzcXuMIurChpLLwiWGiRIxYRbESQgEYRi7vC5go/ivPjELQMBxJI5xZi\n",
       "CEE5iQFDEJYcWpxKQhQLQTgbGz8QxRQW4pvdndtVbs7Cgd19b9785r15780CzxnFitYmuek3PX+5\n",
       "sC1ZoMbLTrO+HzEEYsBXrn2UwNWeuM5XSmJYZ3tABhgjRRuUwL+8yuf3QtoA1oGCvXkgK4FfPtBe\n",
       "tTvCPtCcwjFQ+2V8fFLCKpmHesuQ/b0B3mRRRS7/JxKHEjhgUL6T6TVDTIzM8Ld2S3AOoS6AYknK\n",
       "8mUCRkeOXZdmRvcEbCBIcTWCeaNTZ7uxOmDLPh2KfgB2VbLuDriw8oLyjhpT2E57PmArVAw5FYro\n",
       "YEQG70R9N1Y8YauXIDQsqlkzNHWBnVyXB+ak34mMLefchJkWzDKvKed9TYvAJrfk59MC9lE+AxlE\n",
       "TEvX+k23VAspK2wk3wJnzWY4BstDPnTW6sBVtNpn4E+Rp1vryHqaZJkc8uWfqL2n1hFJqVZJ8jAW\n",
       "HZgXY1rHUpDaGGO6255ZFrWt8PGTdKIe6kEiMUzwxLkDK7RtPWE/H1+M3jXarprvVsuXRtGjsLjt\n",
       "WWkTGayrdF2PhaBdItqAdzaMgoALleBvpS4eRK+JEwpEmdPhL3clJ4/4+OfG/qjxsURn9g4tLnfs\n",
       "Tz31k0rLTd+Be6fUjPtjtxU8AAAAAElFTkSuQmCC\n",
       "\" style=\"display:inline;vertical-align:middle;\" /></a><br>"
      ],
      "text/plain": [
       "naturalsLowerBound: forall_{n in Naturals} (n >= 0)"
      ]
     },
     "execution_count": 25,
     "metadata": {},
     "output_type": "execute_result"
    }
   ],
   "source": [
    "naturalsLowerBound = Forall(n, GreaterEq(n, zero), domain=Naturals)"
   ]
  },
  {
   "cell_type": "code",
   "execution_count": 26,
   "metadata": {},
   "outputs": [
    {
     "data": {
      "text/html": [
       "<strong id=\"naturalsPosLowerBound\"><a class=\"ProveItLink\" href=\"_proofs_/naturalsPosLowerBound.ipynb\">naturalsPosLowerBound</a>:</strong> <a class=\"ProveItLink\" href=\"__pv_it/470e836f7439223b2b91489ed535733df819359a0/expr.ipynb\"><img src=\"data:image/png;base64,iVBORw0KGgoAAAANSUhEUgAAAIMAAAAVBAMAAACXjEALAAAAMFBMVEX///8QEBC6urrMzMxUVFRm\n",
       "ZmZERETc3NwyMjKqqqp2dnaIiIiYmJgiIiLu7u4AAAAU9Wx4AAAAAXRSTlMAQObYZgAAAgVJREFU\n",
       "OMtjYKAcPCBCjTZuqUNAfAHEOI3XBGYHHBJ5DAysBgwMK0HsPrxGcCC59O06BPvZPyDRwMBQBqTY\n",
       "E/AasRuZMyMcxnriAjLiFMQK1gl4jZBD4ak5w1jcICMeMjDwLC8vr8VrAlMDKt8sCdkINqD139LS\n",
       "bmHRuADOYgUytdOrt8BFSpqQjOAKYGAAuisdixEBiNA8ADTQYwPfZ7hI6WWEEZxAN6ow8DXgNYJR\n",
       "gYFJ4RoD3ye4yNk4hBFMAgwMvAzcB5ATQWsQw8Y4ZCP4FRj4gPo5/0H5fHvXIXmE+QOQcYAXHu+v\n",
       "Q2MYjnE94HoQ4nLFZQLCCJB+Fqhb+dZuYEAzgq/BBB5LSXXvGM5sCOB6gOIRoFmsDQz8B8A2scce\n",
       "QIlUkEcY0p2AURutvYSB4ShI4vDkalQj2IB6GBcwnH8AihJ2D0QaAhvBA3LcVGA2eaN/gNeAAezU\n",
       "w1xvrFCMAEVbvQLDMk5gdmAoU2BANQIky8AI9FvdDgb+AmZwzB9mWLAExQgmoBWKQM070eKMNfBH\n",
       "DDDKQWbygPzoDVTFfC0tLRtoRM1boEgBQq04vrT7EM4SZghl4nOAuILJGrUQOYXPiNUwBvsHBmFl\n",
       "BneIEQynHuDM7LV3QeASnI9IlkwJDFEHGJ4B/cXUpsDAgmoRuwNuR7AUoAksA4YFFlCN24jNDAwA\n",
       "Of2NBGq3icoAAAAASUVORK5CYII=\n",
       "\" style=\"display:inline;vertical-align:middle;\" /></a><br>"
      ],
      "text/plain": [
       "naturalsPosLowerBound: forall_{n in NaturalsPos} (n >= 1)"
      ]
     },
     "execution_count": 26,
     "metadata": {},
     "output_type": "execute_result"
    }
   ],
   "source": [
    "naturalsPosLowerBound = Forall(n, GreaterEq(n, one), domain=NaturalsPos)"
   ]
  },
  {
   "cell_type": "code",
   "execution_count": 27,
   "metadata": {},
   "outputs": [
    {
     "data": {
      "text/html": [
       "<strong id=\"intervalInInts\"><a class=\"ProveItLink\" href=\"_proofs_/intervalInInts.ipynb\">intervalInInts</a>:</strong> <a class=\"ProveItLink\" href=\"__pv_it/806af43d76081600142b2b72adc71f5636e860a50/expr.ipynb\"><img src=\"data:image/png;base64,iVBORw0KGgoAAAANSUhEUgAAAO8AAAAZBAMAAAArlWSOAAAAMFBMVEX///8QEBC6urrMzMxUVFRm\n",
       "ZmZERETc3NwyMjKqqqp2dnaIiIiYmJgiIiLu7u4AAAAU9Wx4AAAAAXRSTlMAQObYZgAAA3VJREFU\n",
       "SMfFlk9IFFEcx387+8/d+bOBoadipSJJwj10qDBcMjAKYkHsoB4Wo7GQZIRSwbIpCOyQCRV0HCIV\n",
       "K2IPFqYFczCILFs6KERLcwgJLZOCPETR+zM782Z3dVZY6Ac6+958335++/vz3gNwtUBmAUpsezNa\n",
       "ESoRSm/B+P8DG8WAjc1+cc36r4QoBafxYNYF7C5ymrdQJEOf/gxuu6JDEwWP47khF7C7yGllhULE\n",
       "XzNADaCXFNyDH0kXsLvIadOFJv0ahIfvoVhrBIyd8w+7gN1FTtvODqTJTEZFT58B53EOpC0ELIz1\n",
       "9l5yKy53kcM4lR3tn7M+dgVwDs7Sdvolyx9c28lVlBtUqOnonyC7RLDLLujUG/wYoeAGgA7L1cF1\n",
       "wKyINuIjx7BaBc6eKdMBtKMp6SfZ+BRrflEidXKXgneCZEdmJLtNbh05nWDADhG2bsUxDCOxP7sA\n",
       "PFHgovMg/SA0W9XgI6uqKFgEXrdeXcfF8KRZF5XwssGAWdFycxvx2tE/qPJClmuRKEiIGvpLMJkM\n",
       "LS7gEnvI63oK5nXR7ro19Pd094ohQN1FNtSMiG8fWMkDR5QcMKb6yMQ+2ztAE2MWWFLxqwtTp7BP\n",
       "vycMgUYskWDBRCS01twHeAlmnsw1xGqnTzBgD/r9fhUiOnb2mwUeD0fJJmiGGjoOoy9eCOK48Gkh\n",
       "XkYL8EDMcUhg0ddaXYyBmgWba4i9gBkGHEBp8WjwzsBl7dOtgwE5H0ZN/MoE30FO+BJevB8HUkL6\n",
       "IFEtLTlPJywamEQh9dKT9Ji1hlgnvAWpki21y1EYDWHnpfdZd5QukFqSVjuBJ4WzwpOPMX/ykCzL\n",
       "KdAewwALxiI4jqLknZflTqiOW2uIlcNJFMJsdjgaz55nZNTXRGerzlTINyuQ5qoJFlAmvhuBOVQf\n",
       "ERD1z2TpLR2XgQ3GIvT1zZxEYS3WGmKr8JH5xVDpqLzbNzJsL5pbplkORn2d0aeIKHek1/x+4rbz\n",
       "IhBchfId0JjNMV1jBIegz0ijBDMb5euN9rVwigFzrbNtUK9zrRpI7Wg8c+TBuXgumEtCiw6LURNM\n",
       "1yjeNfRv1xTbToWPxax9yb/60PoL4xxvcPUZRTnO7WNy0KvFXaka8wRepfg718Zg6F+fy8fywMIm\n",
       "Lnvd+U7ae3WpbpmF7tXBh3mH8PPN3Kvj/wD58vApYC64GwAAAABJRU5ErkJggg==\n",
       "\" style=\"display:inline;vertical-align:middle;\" /></a><br>"
      ],
      "text/plain": [
       "intervalInInts: forall_{a, b in Integers} [forall_{n in {a...b}} (n in Integers)]"
      ]
     },
     "execution_count": 27,
     "metadata": {},
     "output_type": "execute_result"
    }
   ],
   "source": [
    "# ACTUALLY, PROBABLY WANT TO DO THE SUBSET THING\n",
    "intervalInInts = Forall((a, b), Forall(n, InSet(n, Integers), domain=Interval(a, b)), domain=Integers)"
   ]
  },
  {
   "cell_type": "code",
   "execution_count": 28,
   "metadata": {},
   "outputs": [
    {
     "data": {
      "text/html": [
       "<strong id=\"natsPosInNats\"><a class=\"ProveItLink\" href=\"_proofs_/natsPosInNats.ipynb\">natsPosInNats</a>:</strong> <a class=\"ProveItLink\" href=\"__pv_it/6cf6db93b72e3f3763d4cbf4b003ef5973922f230/expr.ipynb\"><img src=\"data:image/png;base64,iVBORw0KGgoAAAANSUhEUgAAAEcAAAAUBAMAAAAthD11AAAAMFBMVEX////c3Nx2dna6uroQEBCI\n",
       "iIhUVFTMzMyYmJiqqqoiIiJmZmZEREQyMjLu7u4AAADjlg78AAAAAXRSTlMAQObYZgAAANFJREFU\n",
       "KM9jYIADTgYiAM+gUfT2z9kHDLt+TcCmCCF3gv0AA8MHhty7V+7eDUBTBZVjYMgqCGVgcMBuHVwu\n",
       "+R5bAZqi2FWrVi1mQJZLL+O7h6qoKg7GgsulcwbUoChiXAg3Ei6XzrCZIwDEYIPKsBkgFMHk0hnY\n",
       "HqQ7IHucAUkRVC6dgS/hLbKiMmRFULl0BoYidpyKoHJABseEA0iKuFAUQeSADAZFZEXcE5AVQeQO\n",
       "g8QvICniWwxnwuRsvwBV8l1AidftUAYWOQQwuwWNFigAAJ/jTCysLkbkAAAAAElFTkSuQmCC\n",
       "\" style=\"display:inline;vertical-align:middle;\" /></a><br>"
      ],
      "text/plain": [
       "natsPosInNats: NaturalsPos subset Naturals"
      ]
     },
     "execution_count": 28,
     "metadata": {},
     "output_type": "execute_result"
    }
   ],
   "source": [
    "natsPosInNats = Subset(NaturalsPos, Naturals)"
   ]
  },
  {
   "cell_type": "code",
   "execution_count": 29,
   "metadata": {},
   "outputs": [
    {
     "name": "stdout",
     "output_type": "stream",
     "text": [
      "WARNING: Redefining natsInInts\n"
     ]
    },
    {
     "data": {
      "text/html": [
       "<strong id=\"natsInInts\"><a class=\"ProveItLink\" href=\"_proofs_/natsInInts.ipynb\">natsInInts</a>:</strong> <a class=\"ProveItLink\" href=\"__pv_it/04813def94bfe331e141faec306a92129663360c0/expr.ipynb\"><img src=\"data:image/png;base64,iVBORw0KGgoAAAANSUhEUgAAADkAAAAPBAMAAACsFXoGAAAAMFBMVEX////c3Nx2dna6uroQEBCI\n",
       "iIhUVFTMzMyYmJiqqqoiIiJmZmZEREQyMjLu7u4AAADjlg78AAAAAXRSTlMAQObYZgAAAPJJREFU\n",
       "GNNjePvn7AOGXb8mMKCAWf/XXlnrAWScYD/AwPABVZIhdh8DLwNQnCGrIJSBwQFNdhMDgyaTAZCR\n",
       "fI+tACYbu2rVqsUgRh4DY0IZiJFexncPKlsVh9DN8+AcWJYzoAYiy7gQyexWjgawLMNmjgCwLJsB\n",
       "QpLvwBsGiCzbg3Sw7FskrWwFiVBZvoS3YNkyJFlrZgWoLEMRO4bsBV4GBiYBsCzHBJDHGbgQkkwT\n",
       "lCF8oCyDIliWGxGcYuwJDAwqQMZhkPgFsDsXw2UP8jxgeK3DwGD7BaiPDyzL8HY7VJLZ58qZs19O\n",
       "owWv2S1oSEIBAJyrQZauZbLWAAAAAElFTkSuQmCC\n",
       "\" style=\"display:inline;vertical-align:middle;\" /></a><br>"
      ],
      "text/plain": [
       "natsInInts: Naturals subset Integers"
      ]
     },
     "execution_count": 29,
     "metadata": {},
     "output_type": "execute_result"
    }
   ],
   "source": [
    "natsInInts = Subset(Naturals, Integers)"
   ]
  },
  {
   "cell_type": "code",
   "execution_count": 30,
   "metadata": {},
   "outputs": [
    {
     "data": {
      "text/html": [
       "<strong id=\"natsPosInInts\"><a class=\"ProveItLink\" href=\"_proofs_/natsPosInInts.ipynb\">natsPosInInts</a>:</strong> <a class=\"ProveItLink\" href=\"__pv_it/4cd5b830d506ea21ad2281ce6db5c1139b46d2730/expr.ipynb\"><img src=\"data:image/png;base64,iVBORw0KGgoAAAANSUhEUgAAAEYAAAAUBAMAAADCRlZLAAAAMFBMVEX////c3Nx2dna6uroQEBCI\n",
       "iIhUVFTMzMyYmJiqqqoiIiJmZmZEREQyMjLu7u4AAADjlg78AAAAAXRSTlMAQObYZgAAAQxJREFU\n",
       "KM9jYIADTgbCgGdQqHn75+wDhl2/JmBTw7n+112vKw0MDCfYDzAwfGDIvXvl7t0AVDWstx8wXABp\n",
       "zSoIZWBwwGoXtwID0wRlICP5HlsBqhrWW6tWrTIAMtgeMIixJwAZ6WV891DUsC99gDDqHA+Ik84Z\n",
       "UIOiRkoAoYQjoANEpTNs5ggAqWGDiicjuegN3wGIGrYH6Q4IYb4LSGrS2QQgavgS3iKpATsSCpg3\n",
       "GEGUMjAUseNQw8sANFQRrIZjwgEk8xcgmJpMBmA+UA2DIrKanXAWY0IZAwMT0I7DoABFducrA3gs\n",
       "C5xj4Nt0gMH2ywE0v/DdLoCyTM76nLnvswFbUmDOhcYFFAAAMcdHko4zLuwAAAAASUVORK5CYII=\n",
       "\" style=\"display:inline;vertical-align:middle;\" /></a><br>"
      ],
      "text/plain": [
       "natsPosInInts: NaturalsPos subset Integers"
      ]
     },
     "execution_count": 30,
     "metadata": {},
     "output_type": "execute_result"
    }
   ],
   "source": [
    "natsPosInInts = Subset(NaturalsPos, Integers)"
   ]
  },
  {
   "cell_type": "markdown",
   "metadata": {},
   "source": [
    "***A set of inBool theorems, which are accessed by the respective NumberSets to implement their deduceMembershipInBool() methods:***"
   ]
  },
  {
   "cell_type": "code",
   "execution_count": 31,
   "metadata": {},
   "outputs": [
    {
     "data": {
      "text/html": [
       "<strong id=\"xInNatsInBool\"><a class=\"ProveItLink\" href=\"_proofs_/xInNatsInBool.ipynb\">xInNatsInBool</a>:</strong> <a class=\"ProveItLink\" href=\"__pv_it/87ac5c849d5490ea46d3bceebd0b1a2f533866a00/expr.ipynb\"><img src=\"data:image/png;base64,iVBORw0KGgoAAAANSUhEUgAAAJoAAAAVBAMAAABMN+opAAAAMFBMVEX///8QEBC6urrMzMxUVFRm\n",
       "ZmZERETc3NwyMjKqqqp2dnaIiIiYmJgiIiLu7u4AAAAU9Wx4AAAAAXRSTlMAQObYZgAAAjRJREFU\n",
       "OMutlD1oFEEYhr/b3fvJ7mY8RAQLIYJFQAIbFNuEBNRCbGxEm7W5IKikkAsq4kWwi3fXKIKC2wR/\n",
       "ArJIFNTCawQlzYEgKjmyhYRDEdQits4338zezF3WEPCF95h9vp33dn4B/quSAWLF5Cz5I9m8jY0V\n",
       "nR6S7hdrVOqQX/sMJ/sKjzYa8x+bgPwxPtf1Yr0fKBVahwF2AJT6C+EBVn8ieJU/FUOt5MXkQTkf\n",
       "OM/xIUUDafCsJHiJT1y+qZVyCbmn77c6n0TaaDKNaaxscky77yTI/Ydzc9f0vqPSqewFme0cnOwm\n",
       "PA3OmVx8W5X4RqXyRe98WvrK8uXnYsBV1ckJ7tkhpi2CwXmavXqR+DTAjJ62QGaRv5oTC55WnSA/\n",
       "soJpd8HgEI6t/YqJ7wdW09N2kl3wfg4FuDHCXhqccMZ5Yx8YHEf6+g7xYfBaetpvMgOHXrf2djpy\n",
       "FQL4yuZ5Y8LkmFawIsG91nCySRpfWNom9qT2bXY0rtJ6XKRBKDir4cZfmloOqLRHGq4H4tixtpYG\n",
       "7wvpSNsDachnpvgsJUdyctOdJ/uzb8ATH31cT3NxJ7wDg6cjRX6b/4klllJokfygdRauCvBDnfIC\n",
       "Nk6lOyTlmPb2heQ0P39UaYy8/urbEq1O8SbNgdXYzX+73DcMjqf+wq6m5D6Oxy7b6mTNknsaOibX\n",
       "Tl0m5X9zmHBrrrqmok3OtSE33oKvvzzzdMsbSam7HX5JOlNHt8OLMTlLXpDJ/wJ62Z8oLdAWHAAA\n",
       "AABJRU5ErkJggg==\n",
       "\" style=\"display:inline;vertical-align:middle;\" /></a><br>"
      ],
      "text/plain": [
       "xInNatsInBool: forall_{x} ((x in Naturals) in BOOLEANS)"
      ]
     },
     "execution_count": 31,
     "metadata": {},
     "output_type": "execute_result"
    }
   ],
   "source": [
    "# In progress\n",
    "# For Naturals\n",
    "xInNatsInBool = Forall(x, inBool(InSet(x, Naturals)))"
   ]
  },
  {
   "cell_type": "code",
   "execution_count": 32,
   "metadata": {},
   "outputs": [
    {
     "data": {
      "text/html": [
       "<strong id=\"xInNatsPosInBool\"><a class=\"ProveItLink\" href=\"_proofs_/xInNatsPosInBool.ipynb\">xInNatsPosInBool</a>:</strong> <a class=\"ProveItLink\" href=\"__pv_it/cee29a7d2cafbc2310b55fd410ae501b7d61f1320/expr.ipynb\"><img src=\"data:image/png;base64,iVBORw0KGgoAAAANSUhEUgAAAK0AAAAbBAMAAAD8EhIYAAAAMFBMVEX///8QEBC6urrMzMxUVFRm\n",
       "ZmZERETc3NwyMjKqqqp2dnaIiIiYmJgiIiLu7u4AAAAU9Wx4AAAAAXRSTlMAQObYZgAAArpJREFU\n",
       "SMe1VU9o02AUf23SpjZtLCIiiDDBgzBkEYd4kZUNJniQgijCQHLqDqLUS+dFzG6FaVvwz8F56M25\n",
       "wRgyRJloL1NkqMOBoqwsBxlDGK0WNgQZvi/N9+Xv18DAB/kl+f2SX973vscLwO6iuot3oj0U+KHh\n",
       "UeNoSQ7fz6C7L+8RIRtIK2UKIb7yHEdcwMPwsWKdQogvfOWI6QLAMrlYcrI3GPhWUsmXIbb2jfrO\n",
       "e/Sprcr4F9xRGQvxlBCuRV9k4It4/RTAXhBLpYOlCYCmd7Far1Kexu/vABTxVtKc4j4G/hKtYE0j\n",
       "rA7pus8XniXwvAqQwG/GnN0otCjY63/RaOim7zFjyOEb0zw6+j4W0fASQOrJ2Ngtp4mcocDi9Eea\n",
       "78nshmH7ploeneRLCvAJj618/rtrrboF0szZyRHCSNeZpk4Kmu0b3QG3rvUKq+SmD3MeAhh17U3W\n",
       "gp/woX7YZAq2b6xnyfQ1W19og1vXjq/9Ik09oAIcBUV3+iZyFtTgDdwjzLq9FhXOiyfYrfQb3DrW\n",
       "YeEhnm/jEEiD7NrWdM4CA4Y7zJFGg+6bCj+UcXs//3h09I1HcWw0SRPX00agL8Ahx7yg+Qo1X779\n",
       "znzjpPQkX0Un/MzgvGrVIUtBaoNCmE2nL7yP276d+m76fYnX6CCONmM4YjWxqFnwTm7Ba3DNCuKb\n",
       "LNoDdRvcOq1DH9nJBzgionCH9e9yB/b8jWckc2Ipn1mvkKF8mfla/Wvr6Lv43OpfiJgvb7MkWh1Q\n",
       "rs5Ov+pQNy9YUuUA4oY9wHW3jnPn2n6y7Cnzq2TbhIxAn24zYHH/bkMPGBeJOY4+QS8Gkjr7e5xj\n",
       "EBbNQjCvsMWvvxyZpddnGITFWw6f0gKHbJVCWKzw/hdqECvpFEIileMIi8H0Iwbdo8jhJY2TR5VC\n",
       "97jC4WMG/Lf4B9iJu/0YVPICAAAAAElFTkSuQmCC\n",
       "\" style=\"display:inline;vertical-align:middle;\" /></a><br>"
      ],
      "text/plain": [
       "xInNatsPosInBool: forall_{x} ((x in NaturalsPos) in BOOLEANS)"
      ]
     },
     "execution_count": 32,
     "metadata": {},
     "output_type": "execute_result"
    }
   ],
   "source": [
    "# For Positive Naturals (NaturalsPos)\n",
    "xInNatsPosInBool = Forall(x, inBool(InSet(x, NaturalsPos)))"
   ]
  },
  {
   "cell_type": "code",
   "execution_count": 33,
   "metadata": {},
   "outputs": [
    {
     "data": {
      "text/html": [
       "<strong id=\"xInIntsInBool\"><a class=\"ProveItLink\" href=\"_proofs_/xInIntsInBool.ipynb\">xInIntsInBool</a>:</strong> <a class=\"ProveItLink\" href=\"__pv_it/b1c86db27f9fb988509be4557073be722ea380560/expr.ipynb\"><img src=\"data:image/png;base64,iVBORw0KGgoAAAANSUhEUgAAAJkAAAAVBAMAAACnAFEqAAAAMFBMVEX///8QEBC6urrMzMxUVFRm\n",
       "ZmZERETc3NwyMjKqqqp2dnaIiIiYmJgiIiLu7u4AAAAU9Wx4AAAAAXRSTlMAQObYZgAAAldJREFU\n",
       "OMutVE1oE0EU/rJpNmazXXOqhxLZgiDoJQev0tJCqyAS8GYuOaUtQulB2oMIq1Dw0NqACIKXIEip\n",
       "gRLQS1F08aBSFeJNhOD2IqUiFITqQdH3dmZ/JrvBiw8+ZuYb3rfz/hb4r+YlqdMSA8y00/mXhC5v\n",
       "3sbZ7IRAwgqff98q33BxSaWN9bmf5XkgVwE2mbgdvz3iCSSsuOLB0emyj9e1zt5+C3CAJTrm6/HL\n",
       "pxIJy7VgNB9QqK2EWtEmqR3xilwzfnlcIrSva72PvA55uMopsEoqT2oF9yKwSx/aWF6+HvfVHIEo\n",
       "j6tR2As67+dVnt92ksLT6VGHjcanvnh85Nsz92tMLEViZucdLw+h8KR29hUdjCowBcwqRXAF9vHe\n",
       "LTMRu/1i+Rm+B4XXtd6fUa45RXQCVjwuZGyBFl7gDp2tWImmhhZ5GYPCc6TbdNIon8MounG1o7aA\n",
       "h2mRx3KvJ7INrXrKX8dVntRQp5vsAXWRO+ylqQGjYTMHSeCW2pBqEe+r6ULNcs4Q0558UpGRNgWQ\n",
       "/w6LI+qGapuG7Q+PiLTbr8aRYnaSyuFNZ2TT6a7A6+IBnjNxIfDKT9B3DXJ5A4UPIjU5/3fpIxpW\n",
       "w7Gr+ij80kv5DhPfginXFxdgXa4HHRLxWses1YUnMr7Pj7B7uz6sK1uPnoknrcgcjM2NNNZHyOWm\n",
       "wtPUH344z2lleZOLkC1lA7ljEtG/45ysqbRgsvr53WAzbjhGsN+RGGhGJ51vh02+Xdv65x8psL10\n",
       "Wh2CqHQCA20mnRZzkrBrEgOsWEnnHwN/AeCOoFHKMKGFAAAAAElFTkSuQmCC\n",
       "\" style=\"display:inline;vertical-align:middle;\" /></a><br>"
      ],
      "text/plain": [
       "xInIntsInBool: forall_{x} ((x in Integers) in BOOLEANS)"
      ]
     },
     "execution_count": 33,
     "metadata": {},
     "output_type": "execute_result"
    }
   ],
   "source": [
    "# For Integers\n",
    "xInIntsInBool = Forall(x, inBool(InSet(x, Integers)))"
   ]
  },
  {
   "cell_type": "code",
   "execution_count": 34,
   "metadata": {},
   "outputs": [
    {
     "data": {
      "text/html": [
       "<strong id=\"differenceInNaturals\"><a class=\"ProveItLink\" href=\"_proofs_/differenceInNaturals.ipynb\">differenceInNaturals</a>:</strong> <a class=\"ProveItLink\" href=\"__pv_it/6238790e88c85a5727e2e83b6b2b047f06ca42e90/expr.ipynb\"><img src=\"data:image/png;base64,iVBORw0KGgoAAAANSUhEUgAAAOUAAAAXBAMAAAAGvZU3AAAAMFBMVEX///8QEBC6urrMzMxUVFRm\n",
       "ZmZERETc3NwyMjKqqqp2dnaIiIiYmJgiIiLu7u4AAAAU9Wx4AAAAAXRSTlMAQObYZgAAA0ZJREFU\n",
       "SMfFVk1oE0EUfkk2m6TZbAoKBQ8lRYsFD82hiJaWRqMn/4Kil1YMiqnQWnOotuBP9+BBaS2BKnhR\n",
       "cmmLihKwLaVRWKQHabGEXsSfwAqipVKNFiJSLM6bmXQ3yfaHgPrgm8x+O3nfvDfvTQLwH0wr/as7\n",
       "OEztxRp8CifTpUjaAgxFJu8hTu3+fHIue06Dk79jyD9Aor8UTafGYPIGd6IUkO22MECG8pfIoyNc\n",
       "imaSo9i8MTJMFZCH/GRxOeVxp/ZYKZqVHMVWi9F/4IkeT6dpyHv7BT9qEl4a7uq6WoqkVWEwscc4\n",
       "iCyQXTOcDNbJ/aiJfDYSeVuKpj3OAJ0TVdH8V9eTBwHKQjh1dOTIoCuxEzWRDwK0ruz9RlE0dKwx\n",
       "icepMlgr4EJB3WbB6wcX/Y64sp0gHJUSRBP5bSDrHgf5p7h58Czdp0gf2Z7B1WHwbPEx9KhwIl/T\n",
       "tQyWOFjLcf4JdE1BCxIOeQ+41ZUXN3Gbo8dVT7Tsi6ZrOunZuHqNneH1MRwBeIfP3Wm0Wcy6At4Q\n",
       "2DLIViGpME05MEf0kHerHt3VT4Kx7V81CRqugK7pxQxJvfkNwTWzIC/mx+kJQa3KNesMcUK9jWvK\n",
       "CvIXJ87g6S2NaBLLYyhk0KxNHgZ3H62J5iF+wVhiFI4lcGXkwvY8pfHcLhg1pViY5RZa9xLh145l\n",
       "MnWnpICTrpB2+w2az2HS9YbOFqI9PCuiSiH/AkEZyNf0wxbigWZUUA2aMBzm/B1yOwohG168YkJK\n",
       "1dMV8/Ng0GyDV/KQD2f7oZH7wLpC9MG9UDxPU4jZA7m6k2dz7Gl20oy3JPBg3HhHWvz2cGMkEklA\n",
       "/Alc0zU3kdKUx7CQfsBIrotSDJ3JrW2+/F450IJ1x8juY4ys+R4G2iGUl0iyvmniDKkTL3jUj9Th\n",
       "gArDumYG3pNxPAbyMrR/5q4rOFYxfvfB7VtpxYwHi9bUoHVHPXAXBKxRu53GkNNMsQZ/qUKlbTF3\n",
       "mU2ZXOQGe7Qeb22eboEm1docBxkTP7nv4fmArlk9wZbdh+pno+q6v2U0wcrGeOatDM8zZ+LqgTgC\n",
       "DOYmRDfE20yWraEJlzlM7enGeAnW0HSRco50/JO/aMJf8PkHqm/beoaY6YgAAAAASUVORK5CYII=\n",
       "\" style=\"display:inline;vertical-align:middle;\" /></a><br>"
      ],
      "text/plain": [
       "differenceInNaturals: forall_{a, b in Integers | b <= a} ((a - b) in Naturals)"
      ]
     },
     "execution_count": 34,
     "metadata": {},
     "output_type": "execute_result"
    }
   ],
   "source": [
    "differenceInNaturals = Forall((a, b), InSet(subtract(a, b), Naturals),\n",
    "                              domain=Integers, \n",
    "                              conditions=[LessEq(b, a)])"
   ]
  },
  {
   "cell_type": "code",
   "execution_count": 35,
   "metadata": {},
   "outputs": [
    {
     "data": {
      "text/html": [
       "<strong id=\"differenceInNaturalsPos\"><a class=\"ProveItLink\" href=\"_proofs_/differenceInNaturalsPos.ipynb\">differenceInNaturalsPos</a>:</strong> <a class=\"ProveItLink\" href=\"__pv_it/76e860cd4a8cbe8e31b073630882e081c2ae76020/expr.ipynb\"><img src=\"data:image/png;base64,iVBORw0KGgoAAAANSUhEUgAAAPUAAAAbBAMAAABW0dSkAAAAMFBMVEX///8QEBC6urrMzMxUVFRm\n",
       "ZmZERETc3NwyMjKqqqp2dnaIiIiYmJgiIiLu7u4AAAAU9Wx4AAAAAXRSTlMAQObYZgAAA5hJREFU\n",
       "SMe9Vl1IVFEQnt29d9X9uUpEfyCsFeRLuFEIheKSkUZRC5VE9rD0sxEV7YOpD5UWCSv+ggRBRPsi\n",
       "Wg+xgYYowX0oSIRciMh+pPuwgihlJCliSDPn/m+7S12lgVnOzpl7vjkzc75zAP6/dK/FIlutfRZC\n",
       "da0S2hGwjm31W1WmJevYMIIqWcc+gmqPZ5j0+LJjeyMACRqMWYHOKcCfPelmkoX4c9xsE7rCncB/\n",
       "+aBiuzHpj2nQaQWbD2b88i5qborNKZYC5AMXjW6KtmEsKwD1tIOQFWwbZtWdPuVLlPSY2ca9RWeb\n",
       "lnP4jOFhwXlLJ66C8NO2i32Fklwg/5ntmJxg2MVSpRG7BsPra2i4aanVnqEWp51xsSa6JB/EdiU8\n",
       "bndgWjJgj6MuhMMfLWFXo56mQd1wUcQ0k3t4QAToZeN6NTOc/4EjZMAuwYlKgItasqKpAL70ZpLz\n",
       "qO00uxGumWfmQjAPcJ+NtbU5P+8bY9gyrVT4AbaD0Kx91as25freC0E9RsWcY6puC+o61CaRameU\n",
       "RxJsAShiRyukY8NRbpfu1ITb8oJb1Ayt5D54UvRGXLOSjt0qH9EaU2rfof5APQbwiQLrmCShRJ0C\n",
       "+Cn3ItgL0TahYCeF24bkYIO7Ra++nUXU5zu+SR4ou6FzEDOD0G+mKhV7AYR5SJmx/1Kwdd5GbEcs\n",
       "Zd9CM3HT9eFzFOXygORhuYZgUMcmM8BQt+anEchm3O8y5H0XUo43v6LmPGHAhlGnAdtP3bAfXd7n\n",
       "0Jl0JzwBmY88e/06NplhiCqj+DE5iHoFTUvANfeYsOfBhsTyWiN9DdtVrzuVUAHvYWhc0EEBOuOe\n",
       "xD42MzNj4H0ylzMGU/yYvFCasB0eBs0cdghOaA36VS2UU+kEVcYZN+Kq+T7idrD5+VB5OByOQ+wp\n",
       "3NKwyTx1lkaKnxw46k463iPbLps7ITlIObojn40WOYH2rg107epO/Sy9WMs5yfkmQlTvFZPMs0eE\n",
       "Pg2bzDBFhVb8mOTjorZIRupROTWvWu7zVGnT7gWpokxqjHiREDhajufBntDvWsYTdVWKn1rA2J8X\n",
       "hpFY41lZUVjUCK127AxUiPbaGAiU3JcHnlwN6H1eyyBKq2Q/9cmUyHr7TmdnZE/K3SlzjIvqbXpj\n",
       "qFLqN7nTZVGXcfGq7Nhe81qOSIb3TQZppFbKlFm3Pzv2q5Q0wL9h58Wsv/X+5rmS9Sk7ah2bX8Ub\n",
       "dS3kN4ry7Iyw5OErAAAAAElFTkSuQmCC\n",
       "\" style=\"display:inline;vertical-align:middle;\" /></a><br>"
      ],
      "text/plain": [
       "differenceInNaturalsPos: forall_{a, b in Integers | b < a} ((a - b) in NaturalsPos)"
      ]
     },
     "execution_count": 35,
     "metadata": {},
     "output_type": "execute_result"
    }
   ],
   "source": [
    "differenceInNaturalsPos = \\\n",
    "    Forall((a, b), InSet(subtract(a, b), NaturalsPos),\n",
    "           domain=Integers, \n",
    "           conditions=[Less(b, a)])"
   ]
  },
  {
   "cell_type": "code",
   "execution_count": 36,
   "metadata": {},
   "outputs": [
    {
     "name": "stdout",
     "output_type": "stream",
     "text": [
      "Theorems may be imported from autogenerated _theorems_.py\n"
     ]
    }
   ],
   "source": [
    "%end theorems"
   ]
  },
  {
   "cell_type": "code",
   "execution_count": null,
   "metadata": {},
   "outputs": [],
   "source": []
  }
 ],
 "metadata": {
  "kernelspec": {
   "display_name": "Python 3",
   "language": "python",
   "name": "python3"
  }
 },
 "nbformat": 4,
 "nbformat_minor": 0
}
