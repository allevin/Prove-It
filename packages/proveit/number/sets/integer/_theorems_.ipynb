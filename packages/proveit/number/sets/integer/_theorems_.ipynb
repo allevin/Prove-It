{
 "cells": [
  {
   "cell_type": "markdown",
   "metadata": {
    "collapsed": true
   },
   "source": [
    "Theorems for context <a href=\"_context_.ipynb\" class=\"ProveItLink\">proveit.number.sets.integer</a>\n",
    "========"
   ]
  },
  {
   "cell_type": "code",
   "execution_count": 1,
   "metadata": {},
   "outputs": [],
   "source": [
    "import proveit\n",
    "# the context is in the current directory:\n",
    "context = proveit.Context('.') # adds context root to sys.path if necessary\n",
    "from proveit import Operation\n",
    "from proveit._common_ import a, b, c, d, e, f, g, h, i, m, n, x, y, S, P\n",
    "from proveit.logic import Forall, And, Implies, Equals, InSet, Subset\n",
    "from proveit.number import zero, one, num\n",
    "from proveit.number import Naturals, NaturalsPos, Integers, Interval, Reals, RealsPos, Complexes\n",
    "from proveit.number import Add, Len, Greater, GreaterEq, Less, LessEq, LessEqOnlySeq\n",
    "from proveit.number._common_ import Pzero, Pone, Pm, P_mAddOne, Pn"
   ]
  },
  {
   "cell_type": "code",
   "execution_count": 2,
   "metadata": {},
   "outputs": [
    {
     "name": "stdout",
     "output_type": "stream",
     "text": [
      "Defining theorems for context 'proveit.number.sets.integer'\n",
      "Subsequent end-of-cell assignments will define theorems\n",
      "'%end theorems' will finalize the definitions\n"
     ]
    }
   ],
   "source": [
    "%begin theorems"
   ]
  },
  {
   "cell_type": "code",
   "execution_count": 3,
   "metadata": {},
   "outputs": [
    {
     "data": {
      "text/html": [
       "<strong id=\"zeroInNats\"><a class=\"ProveItLink\" href=\"_proofs_/zeroInNats.ipynb\">zeroInNats</a>:</strong> <a class=\"ProveItLink\" href=\"__pv_it/50688835e4f8f7c7ea93ceb53b4c2bc2c084e66a0/expr.ipynb\"><img src=\"__pv_it/50688835e4f8f7c7ea93ceb53b4c2bc2c084e66a0/expr.png\" style=\"display:inline;vertical-align:middle;\" /></a><br>"
      ],
      "text/plain": [
       "zeroInNats: 0 in Naturals"
      ]
     },
     "execution_count": 3,
     "metadata": {},
     "output_type": "execute_result"
    }
   ],
   "source": [
    "zeroInNats = InSet(zero, Naturals)"
   ]
  },
  {
   "cell_type": "code",
   "execution_count": 4,
   "metadata": {},
   "outputs": [
    {
     "data": {
      "text/html": [
       "<strong id=\"successiveNats\"><a class=\"ProveItLink\" href=\"_proofs_/successiveNats.ipynb\">successiveNats</a>:</strong> <a class=\"ProveItLink\" href=\"__pv_it/c54c1e91f09c6603c4564f657427011fca2bf5d40/expr.ipynb\"><img src=\"__pv_it/c54c1e91f09c6603c4564f657427011fca2bf5d40/expr.png\" style=\"display:inline;vertical-align:middle;\" /></a><br>"
      ],
      "text/plain": [
       "successiveNats: forall_{n in Naturals} ((n + 1) in Naturals)"
      ]
     },
     "execution_count": 4,
     "metadata": {},
     "output_type": "execute_result"
    }
   ],
   "source": [
    "successiveNats = Forall(n, InSet(Add(n, one), Naturals), domain=Naturals)"
   ]
  },
  {
   "cell_type": "code",
   "execution_count": 5,
   "metadata": {},
   "outputs": [
    {
     "data": {
      "text/html": [
       "<strong id=\"inductionLemma\"><a class=\"ProveItLink\" href=\"_proofs_/inductionLemma.ipynb\">inductionLemma</a>:</strong> <a class=\"ProveItLink\" href=\"__pv_it/4b1fb241ffbccf5173b430a9da852414611c48880/expr.ipynb\"><img src=\"__pv_it/4b1fb241ffbccf5173b430a9da852414611c48880/expr.png\" style=\"display:inline;vertical-align:middle;\" /></a><br>"
      ],
      "text/plain": [
       "inductionLemma: forall_{n in Naturals} [forall_{S} (((0 in S) and [forall_{x in S} ((x + 1) in S)]) => (n in S))]"
      ]
     },
     "execution_count": 5,
     "metadata": {},
     "output_type": "execute_result"
    }
   ],
   "source": [
    "inductionLemma = Forall(n, Forall(S, Implies(And(InSet(zero, S), Forall(x, InSet(Add(x,one), S), domain=S)), InSet(n, S))), domain=Naturals)"
   ]
  },
  {
   "cell_type": "code",
   "execution_count": 6,
   "metadata": {},
   "outputs": [
    {
     "data": {
      "text/html": [
       "<strong id=\"induction\"><a class=\"ProveItLink\" href=\"_proofs_/induction.ipynb\">induction</a>:</strong> <a class=\"ProveItLink\" href=\"__pv_it/5b01d329707a2de2c379aca649f37deb99062eaa0/expr.ipynb\"><img src=\"__pv_it/5b01d329707a2de2c379aca649f37deb99062eaa0/expr.png\" style=\"display:inline;vertical-align:middle;\" /></a><br>"
      ],
      "text/plain": [
       "induction: forall_{P} ((P(0) and [forall_{m in Naturals | P(m)} P(m + 1)]) => [forall_{n in Naturals} P(n)])"
      ]
     },
     "execution_count": 6,
     "metadata": {},
     "output_type": "execute_result"
    }
   ],
   "source": [
    "induction = Forall(P, Implies(And(Pzero, Forall(m, P_mAddOne, domain=Naturals, conditions=[Pm])), Forall(n, Pn, Naturals)))"
   ]
  },
  {
   "cell_type": "code",
   "execution_count": 7,
   "metadata": {},
   "outputs": [
    {
     "data": {
      "text/html": [
       "<strong id=\"natPosInduction\"><a class=\"ProveItLink\" href=\"_proofs_/natPosInduction.ipynb\">natPosInduction</a>:</strong> <a class=\"ProveItLink\" href=\"__pv_it/dcf1ef101e5451ee1d0d74c81ce5a948bec9e5f20/expr.ipynb\"><img src=\"__pv_it/dcf1ef101e5451ee1d0d74c81ce5a948bec9e5f20/expr.png\" style=\"display:inline;vertical-align:middle;\" /></a><br>"
      ],
      "text/plain": [
       "natPosInduction: forall_{P} ((P(1) and [forall_{m in Naturals | P(m)} P(m + 1)]) => [forall_{n in NaturalsPos} P(n)])"
      ]
     },
     "execution_count": 7,
     "metadata": {},
     "output_type": "execute_result"
    }
   ],
   "source": [
    "natPosInduction = Forall(P, Implies(And(Pone, Forall(m, P_mAddOne, domain=Naturals, conditions=[Pm])), Forall(n, Pn, NaturalsPos)))"
   ]
  },
  {
   "cell_type": "code",
   "execution_count": 8,
   "metadata": {},
   "outputs": [
    {
     "data": {
      "text/html": [
       "<strong id=\"inNaturalsIfNonNeg\"><a class=\"ProveItLink\" href=\"_proofs_/inNaturalsIfNonNeg.ipynb\">inNaturalsIfNonNeg</a>:</strong> <a class=\"ProveItLink\" href=\"__pv_it/c1546aba9593778dac978b65509cc98ac76f0cfe0/expr.ipynb\"><img src=\"__pv_it/c1546aba9593778dac978b65509cc98ac76f0cfe0/expr.png\" style=\"display:inline;vertical-align:middle;\" /></a><br>"
      ],
      "text/plain": [
       "inNaturalsIfNonNeg: forall_{a in Integers | a >= 0} (a in Naturals)"
      ]
     },
     "execution_count": 8,
     "metadata": {},
     "output_type": "execute_result"
    }
   ],
   "source": [
    "inNaturalsIfNonNeg = Forall(a, InSet(a,Naturals), domain=Integers, conditions=[GreaterEq(a, zero)])"
   ]
  },
  {
   "cell_type": "code",
   "execution_count": 9,
   "metadata": {},
   "outputs": [
    {
     "data": {
      "text/html": [
       "<strong id=\"inNaturalsPosIfPos\"><a class=\"ProveItLink\" href=\"_proofs_/inNaturalsPosIfPos.ipynb\">inNaturalsPosIfPos</a>:</strong> <a class=\"ProveItLink\" href=\"__pv_it/2a4cbd70428cb2d8e57ef48e6896e18a2e8afb770/expr.ipynb\"><img src=\"__pv_it/2a4cbd70428cb2d8e57ef48e6896e18a2e8afb770/expr.png\" style=\"display:inline;vertical-align:middle;\" /></a><br>"
      ],
      "text/plain": [
       "inNaturalsPosIfPos: forall_{a in Integers | a > 0} (a in NaturalsPos)"
      ]
     },
     "execution_count": 9,
     "metadata": {},
     "output_type": "execute_result"
    }
   ],
   "source": [
    "inNaturalsPosIfPos = Forall(a, InSet(a,NaturalsPos), domain=Integers, conditions=[Greater(a, zero)])"
   ]
  },
  {
   "cell_type": "code",
   "execution_count": 10,
   "metadata": {},
   "outputs": [
    {
     "data": {
      "text/html": [
       "<strong id=\"intervalInNats\"><a class=\"ProveItLink\" href=\"_proofs_/intervalInNats.ipynb\">intervalInNats</a>:</strong> <a class=\"ProveItLink\" href=\"__pv_it/f3cdd0405cc1a5e44864f4b87f146e4f2b17e1fb0/expr.ipynb\"><img src=\"__pv_it/f3cdd0405cc1a5e44864f4b87f146e4f2b17e1fb0/expr.png\" style=\"display:inline;vertical-align:middle;\" /></a><br>"
      ],
      "text/plain": [
       "intervalInNats: forall_{a, b in Naturals} [forall_{n in {a...b}} (n in Naturals)]"
      ]
     },
     "execution_count": 10,
     "metadata": {},
     "output_type": "execute_result"
    }
   ],
   "source": [
    "intervalInNats = Forall((a, b), Forall(n, InSet(n, Naturals), domain=Interval(a, b)), domain=Naturals)"
   ]
  },
  {
   "cell_type": "code",
   "execution_count": 11,
   "metadata": {},
   "outputs": [
    {
     "data": {
      "text/html": [
       "<strong id=\"intervalInNatsPos\"><a class=\"ProveItLink\" href=\"_proofs_/intervalInNatsPos.ipynb\">intervalInNatsPos</a>:</strong> <a class=\"ProveItLink\" href=\"__pv_it/7309fd2a7047948d0d25ebfd40915e41cc6f6a120/expr.ipynb\"><img src=\"__pv_it/7309fd2a7047948d0d25ebfd40915e41cc6f6a120/expr.png\" style=\"display:inline;vertical-align:middle;\" /></a><br>"
      ],
      "text/plain": [
       "intervalInNatsPos: forall_{a, b in Integers | a > 0} [forall_{n in {a...b}} (n in NaturalsPos)]"
      ]
     },
     "execution_count": 11,
     "metadata": {},
     "output_type": "execute_result"
    }
   ],
   "source": [
    "intervalInNatsPos = Forall((a, b), Forall(n, InSet(n, NaturalsPos), domain=Interval(a, b)), domain=Integers, conditions=[Greater(a, zero)])"
   ]
  },
  {
   "cell_type": "code",
   "execution_count": 12,
   "metadata": {},
   "outputs": [
    {
     "data": {
      "text/html": [
       "<strong id=\"allInNegativeIntervalAreNegative\"><a class=\"ProveItLink\" href=\"_proofs_/allInNegativeIntervalAreNegative.ipynb\">allInNegativeIntervalAreNegative</a>:</strong> <a class=\"ProveItLink\" href=\"__pv_it/5a41b993276be850c5f77276d9b6fbdb83ceb3750/expr.ipynb\"><img src=\"__pv_it/5a41b993276be850c5f77276d9b6fbdb83ceb3750/expr.png\" style=\"display:inline;vertical-align:middle;\" /></a><br>"
      ],
      "text/plain": [
       "allInNegativeIntervalAreNegative: forall_{a, b in Integers | b < 0} [forall_{n in {a...b}} (n < 0)]"
      ]
     },
     "execution_count": 12,
     "metadata": {},
     "output_type": "execute_result"
    }
   ],
   "source": [
    "allInNegativeIntervalAreNegative = Forall((a, b), Forall(n, Less(n, zero), domain=Interval(a, b)), domain=Integers, conditions=[Less(b, zero)])"
   ]
  },
  {
   "cell_type": "code",
   "execution_count": 13,
   "metadata": {},
   "outputs": [
    {
     "data": {
      "text/html": [
       "<strong id=\"allInPositiveIntervalArePositive\"><a class=\"ProveItLink\" href=\"_proofs_/allInPositiveIntervalArePositive.ipynb\">allInPositiveIntervalArePositive</a>:</strong> <a class=\"ProveItLink\" href=\"__pv_it/1e27c734943f0da88db94157c47291e1993e2dfe0/expr.ipynb\"><img src=\"__pv_it/1e27c734943f0da88db94157c47291e1993e2dfe0/expr.png\" style=\"display:inline;vertical-align:middle;\" /></a><br>"
      ],
      "text/plain": [
       "allInPositiveIntervalArePositive: forall_{a, b in Integers | a > 0} [forall_{n in {a...b}} (n > 0)]"
      ]
     },
     "execution_count": 13,
     "metadata": {},
     "output_type": "execute_result"
    }
   ],
   "source": [
    "allInPositiveIntervalArePositive = Forall((a, b), Forall(n, Greater(n, zero), domain=Interval(a, b)), domain=Integers, conditions=[Greater(a, zero)])"
   ]
  },
  {
   "cell_type": "code",
   "execution_count": 14,
   "metadata": {},
   "outputs": [
    {
     "data": {
      "text/html": [
       "<strong id=\"intervalLowerBound\"><a class=\"ProveItLink\" href=\"_proofs_/intervalLowerBound.ipynb\">intervalLowerBound</a>:</strong> <a class=\"ProveItLink\" href=\"__pv_it/2adf578f625bb3bfab6bcd56c44efaa2c34fa66d0/expr.ipynb\"><img src=\"__pv_it/2adf578f625bb3bfab6bcd56c44efaa2c34fa66d0/expr.png\" style=\"display:inline;vertical-align:middle;\" /></a><br>"
      ],
      "text/plain": [
       "intervalLowerBound: forall_{a, b in Integers} [forall_{n in {a...b}} (a <= n)]"
      ]
     },
     "execution_count": 14,
     "metadata": {},
     "output_type": "execute_result"
    }
   ],
   "source": [
    "intervalLowerBound = Forall((a, b), Forall(n, LessEq(a, n), domain=Interval(a, b)), domain=Integers)"
   ]
  },
  {
   "cell_type": "code",
   "execution_count": 15,
   "metadata": {},
   "outputs": [
    {
     "data": {
      "text/html": [
       "<strong id=\"intervalUpperBound\"><a class=\"ProveItLink\" href=\"_proofs_/intervalUpperBound.ipynb\">intervalUpperBound</a>:</strong> <a class=\"ProveItLink\" href=\"__pv_it/49cddec0ff7867c8fe900262ae951ebc5c5f027f0/expr.ipynb\"><img src=\"__pv_it/49cddec0ff7867c8fe900262ae951ebc5c5f027f0/expr.png\" style=\"display:inline;vertical-align:middle;\" /></a><br>"
      ],
      "text/plain": [
       "intervalUpperBound: forall_{a, b in Integers} [forall_{n in {a...b}} (n <= b)]"
      ]
     },
     "execution_count": 15,
     "metadata": {},
     "output_type": "execute_result"
    }
   ],
   "source": [
    "intervalUpperBound = Forall((a, b), Forall(n, LessEq(n, b), domain=Interval(a, b)), domain=Integers)"
   ]
  },
  {
   "cell_type": "code",
   "execution_count": 16,
   "metadata": {},
   "outputs": [
    {
     "data": {
      "text/html": [
       "<strong id=\"inInterval\"><a class=\"ProveItLink\" href=\"_proofs_/inInterval.ipynb\">inInterval</a>:</strong> <a class=\"ProveItLink\" href=\"__pv_it/6017fed9a5ad788ef9ac88d12354f0489e22c33a0/expr.ipynb\"><img src=\"__pv_it/6017fed9a5ad788ef9ac88d12354f0489e22c33a0/expr.png\" style=\"display:inline;vertical-align:middle;\" /></a><br>"
      ],
      "text/plain": [
       "inInterval: forall_{a, b, n in Integers | a <= n <= b} (n in {a...b})"
      ]
     },
     "execution_count": 16,
     "metadata": {},
     "output_type": "execute_result"
    }
   ],
   "source": [
    "inInterval = Forall((a, b, n), InSet(n, Interval(a, b)), domain=Integers, \n",
    "                    conditions=[LessEqOnlySeq(a, n, b)])"
   ]
  },
  {
   "cell_type": "code",
   "execution_count": 17,
   "metadata": {},
   "outputs": [
    {
     "data": {
      "text/html": [
       "<strong id=\"natsInInts\"><a class=\"ProveItLink\" href=\"_proofs_/natsInInts.ipynb\">natsInInts</a>:</strong> <a class=\"ProveItLink\" href=\"__pv_it/8276b2a24cda8243dda70add2e16ac6755ae4cb90/expr.ipynb\"><img src=\"__pv_it/8276b2a24cda8243dda70add2e16ac6755ae4cb90/expr.png\" style=\"display:inline;vertical-align:middle;\" /></a><br>"
      ],
      "text/plain": [
       "natsInInts: forall_{a in Naturals} (a in Integers)"
      ]
     },
     "execution_count": 17,
     "metadata": {},
     "output_type": "execute_result"
    }
   ],
   "source": [
    "natsInInts = Forall(a,InSet(a,Integers),domain = Naturals)"
   ]
  },
  {
   "cell_type": "code",
   "execution_count": 18,
   "metadata": {},
   "outputs": [
    {
     "data": {
      "text/html": [
       "<strong id=\"natsInReals\"><a class=\"ProveItLink\" href=\"_proofs_/natsInReals.ipynb\">natsInReals</a>:</strong> <a class=\"ProveItLink\" href=\"__pv_it/3583c7f6589b5fb9de93bb2afb344fa0db4df65d0/expr.ipynb\"><img src=\"__pv_it/3583c7f6589b5fb9de93bb2afb344fa0db4df65d0/expr.png\" style=\"display:inline;vertical-align:middle;\" /></a><br>"
      ],
      "text/plain": [
       "natsInReals: forall_{a in Naturals} (a in Reals)"
      ]
     },
     "execution_count": 18,
     "metadata": {},
     "output_type": "execute_result"
    }
   ],
   "source": [
    "natsInReals = Forall(a,InSet(a,Reals),domain = Naturals)"
   ]
  },
  {
   "cell_type": "code",
   "execution_count": 19,
   "metadata": {},
   "outputs": [
    {
     "data": {
      "text/html": [
       "<strong id=\"natsInComplexes\"><a class=\"ProveItLink\" href=\"_proofs_/natsInComplexes.ipynb\">natsInComplexes</a>:</strong> <a class=\"ProveItLink\" href=\"__pv_it/28b1599bf66b583f794260a6815482cb2c6b37480/expr.ipynb\"><img src=\"__pv_it/28b1599bf66b583f794260a6815482cb2c6b37480/expr.png\" style=\"display:inline;vertical-align:middle;\" /></a><br>"
      ],
      "text/plain": [
       "natsInComplexes: forall_{a in Naturals} (a in Complexes)"
      ]
     },
     "execution_count": 19,
     "metadata": {},
     "output_type": "execute_result"
    }
   ],
   "source": [
    "natsInComplexes = Forall(a,InSet(a,Complexes),domain = Naturals)"
   ]
  },
  {
   "cell_type": "code",
   "execution_count": 20,
   "metadata": {},
   "outputs": [
    {
     "data": {
      "text/html": [
       "<strong id=\"natsPosInNaturals\"><a class=\"ProveItLink\" href=\"_proofs_/natsPosInNaturals.ipynb\">natsPosInNaturals</a>:</strong> <a class=\"ProveItLink\" href=\"__pv_it/274ad4d3b2103bd950ef1674101880f5fe9dbf550/expr.ipynb\"><img src=\"__pv_it/274ad4d3b2103bd950ef1674101880f5fe9dbf550/expr.png\" style=\"display:inline;vertical-align:middle;\" /></a><br>"
      ],
      "text/plain": [
       "natsPosInNaturals: forall_{a in NaturalsPos} (a in Naturals)"
      ]
     },
     "execution_count": 20,
     "metadata": {},
     "output_type": "execute_result"
    }
   ],
   "source": [
    "natsPosInNaturals = Forall(a,InSet(a,Naturals),domain = NaturalsPos)"
   ]
  },
  {
   "cell_type": "code",
   "execution_count": 21,
   "metadata": {},
   "outputs": [
    {
     "data": {
      "text/html": [
       "<strong id=\"natsPosInIntegers\"><a class=\"ProveItLink\" href=\"_proofs_/natsPosInIntegers.ipynb\">natsPosInIntegers</a>:</strong> <a class=\"ProveItLink\" href=\"__pv_it/330a14295d4ddd0f09e2805c346bd6424a0db8b60/expr.ipynb\"><img src=\"__pv_it/330a14295d4ddd0f09e2805c346bd6424a0db8b60/expr.png\" style=\"display:inline;vertical-align:middle;\" /></a><br>"
      ],
      "text/plain": [
       "natsPosInIntegers: forall_{a in NaturalsPos} (a in Integers)"
      ]
     },
     "execution_count": 21,
     "metadata": {},
     "output_type": "execute_result"
    }
   ],
   "source": [
    "natsPosInIntegers = Forall(a,InSet(a,Integers),domain = NaturalsPos)"
   ]
  },
  {
   "cell_type": "code",
   "execution_count": 22,
   "metadata": {},
   "outputs": [
    {
     "data": {
      "text/html": [
       "<strong id=\"natsPosInRealsPos\"><a class=\"ProveItLink\" href=\"_proofs_/natsPosInRealsPos.ipynb\">natsPosInRealsPos</a>:</strong> <a class=\"ProveItLink\" href=\"__pv_it/3a2e6b745144554ab90c12830c68aa8e74dd62270/expr.ipynb\"><img src=\"__pv_it/3a2e6b745144554ab90c12830c68aa8e74dd62270/expr.png\" style=\"display:inline;vertical-align:middle;\" /></a><br>"
      ],
      "text/plain": [
       "natsPosInRealsPos: forall_{a in NaturalsPos} (a in RealsPos)"
      ]
     },
     "execution_count": 22,
     "metadata": {},
     "output_type": "execute_result"
    }
   ],
   "source": [
    "natsPosInRealsPos = Forall(a,InSet(a,RealsPos),domain = NaturalsPos)"
   ]
  },
  {
   "cell_type": "code",
   "execution_count": 23,
   "metadata": {},
   "outputs": [
    {
     "data": {
      "text/html": [
       "<strong id=\"natsPosInReals\"><a class=\"ProveItLink\" href=\"_proofs_/natsPosInReals.ipynb\">natsPosInReals</a>:</strong> <a class=\"ProveItLink\" href=\"__pv_it/632b8cd30faa0daf8d72aeeb82a3cd230d99aea80/expr.ipynb\"><img src=\"__pv_it/632b8cd30faa0daf8d72aeeb82a3cd230d99aea80/expr.png\" style=\"display:inline;vertical-align:middle;\" /></a><br>"
      ],
      "text/plain": [
       "natsPosInReals: forall_{a in NaturalsPos} (a in Reals)"
      ]
     },
     "execution_count": 23,
     "metadata": {},
     "output_type": "execute_result"
    }
   ],
   "source": [
    "natsPosInReals = Forall(a,InSet(a,Reals),domain = NaturalsPos)"
   ]
  },
  {
   "cell_type": "code",
   "execution_count": 24,
   "metadata": {},
   "outputs": [
    {
     "data": {
      "text/html": [
       "<strong id=\"natsPosInComplexes\"><a class=\"ProveItLink\" href=\"_proofs_/natsPosInComplexes.ipynb\">natsPosInComplexes</a>:</strong> <a class=\"ProveItLink\" href=\"__pv_it/e836160f978b441405946377f52de0870cfdc1ee0/expr.ipynb\"><img src=\"__pv_it/e836160f978b441405946377f52de0870cfdc1ee0/expr.png\" style=\"display:inline;vertical-align:middle;\" /></a><br>"
      ],
      "text/plain": [
       "natsPosInComplexes: forall_{a in NaturalsPos} (a in Complexes)"
      ]
     },
     "execution_count": 24,
     "metadata": {},
     "output_type": "execute_result"
    }
   ],
   "source": [
    "natsPosInComplexes = Forall(a,InSet(a,Complexes),domain = NaturalsPos)"
   ]
  },
  {
   "cell_type": "code",
   "execution_count": 25,
   "metadata": {},
   "outputs": [
    {
     "data": {
      "text/html": [
       "<strong id=\"naturalsLowerBound\"><a class=\"ProveItLink\" href=\"_proofs_/naturalsLowerBound.ipynb\">naturalsLowerBound</a>:</strong> <a class=\"ProveItLink\" href=\"__pv_it/05de587f8184c1522500252b1db3b916058a90920/expr.ipynb\"><img src=\"__pv_it/05de587f8184c1522500252b1db3b916058a90920/expr.png\" style=\"display:inline;vertical-align:middle;\" /></a><br>"
      ],
      "text/plain": [
       "naturalsLowerBound: forall_{n in Naturals} (n >= 0)"
      ]
     },
     "execution_count": 25,
     "metadata": {},
     "output_type": "execute_result"
    }
   ],
   "source": [
    "naturalsLowerBound = Forall(n, GreaterEq(n, zero), domain=Naturals)"
   ]
  },
  {
   "cell_type": "code",
   "execution_count": 26,
   "metadata": {},
   "outputs": [
    {
     "data": {
      "text/html": [
       "<strong id=\"naturalsPosLowerBound\"><a class=\"ProveItLink\" href=\"_proofs_/naturalsPosLowerBound.ipynb\">naturalsPosLowerBound</a>:</strong> <a class=\"ProveItLink\" href=\"__pv_it/2c91e8c0df1e0569b1f18cd9f0f9bfd1d3c5f4ff0/expr.ipynb\"><img src=\"__pv_it/2c91e8c0df1e0569b1f18cd9f0f9bfd1d3c5f4ff0/expr.png\" style=\"display:inline;vertical-align:middle;\" /></a><br>"
      ],
      "text/plain": [
       "naturalsPosLowerBound: forall_{n in NaturalsPos} (n >= 1)"
      ]
     },
     "execution_count": 26,
     "metadata": {},
     "output_type": "execute_result"
    }
   ],
   "source": [
    "naturalsPosLowerBound = Forall(n, GreaterEq(n, one), domain=NaturalsPos)"
   ]
  },
  {
   "cell_type": "code",
   "execution_count": 27,
   "metadata": {},
   "outputs": [
    {
     "data": {
      "text/html": [
       "<strong id=\"intervalInInts\"><a class=\"ProveItLink\" href=\"_proofs_/intervalInInts.ipynb\">intervalInInts</a>:</strong> <a class=\"ProveItLink\" href=\"__pv_it/d17551c2c6933f65b031f1e253b706b15632c0370/expr.ipynb\"><img src=\"__pv_it/d17551c2c6933f65b031f1e253b706b15632c0370/expr.png\" style=\"display:inline;vertical-align:middle;\" /></a><br>"
      ],
      "text/plain": [
       "intervalInInts: forall_{a, b in Integers} [forall_{n in {a...b}} (n in Integers)]"
      ]
     },
     "execution_count": 27,
     "metadata": {},
     "output_type": "execute_result"
    }
   ],
   "source": [
    "# ACTUALLY, PROBABLY WANT TO DO THE SUBSET THING\n",
    "intervalInInts = Forall((a, b), Forall(n, InSet(n, Integers), domain=Interval(a, b)), domain=Integers)"
   ]
  },
  {
   "cell_type": "code",
   "execution_count": 28,
   "metadata": {},
   "outputs": [
    {
     "data": {
      "text/html": [
       "<strong id=\"natsPosInNats\"><a class=\"ProveItLink\" href=\"_proofs_/natsPosInNats.ipynb\">natsPosInNats</a>:</strong> <a class=\"ProveItLink\" href=\"__pv_it/ce2dc78ed4781e7dc362dff03c0a6df9da0f0f850/expr.ipynb\"><img src=\"__pv_it/ce2dc78ed4781e7dc362dff03c0a6df9da0f0f850/expr.png\" style=\"display:inline;vertical-align:middle;\" /></a><br>"
      ],
      "text/plain": [
       "natsPosInNats: NaturalsPos subset Naturals"
      ]
     },
     "execution_count": 28,
     "metadata": {},
     "output_type": "execute_result"
    }
   ],
   "source": [
    "natsPosInNats = Subset(NaturalsPos, Naturals)"
   ]
  },
  {
   "cell_type": "code",
   "execution_count": 29,
   "metadata": {},
   "outputs": [
    {
     "name": "stdout",
     "output_type": "stream",
     "text": [
      "WARNING: Redefining natsInInts\n"
     ]
    },
    {
     "data": {
      "text/html": [
       "<strong id=\"natsInInts\"><a class=\"ProveItLink\" href=\"_proofs_/natsInInts.ipynb\">natsInInts</a>:</strong> <a class=\"ProveItLink\" href=\"__pv_it/e79e8ed3dbd265e1c5bc1793e775360fa0b144350/expr.ipynb\"><img src=\"__pv_it/e79e8ed3dbd265e1c5bc1793e775360fa0b144350/expr.png\" style=\"display:inline;vertical-align:middle;\" /></a><br>"
      ],
      "text/plain": [
       "natsInInts: Naturals subset Integers"
      ]
     },
     "execution_count": 29,
     "metadata": {},
     "output_type": "execute_result"
    }
   ],
   "source": [
    "natsInInts = Subset(Naturals, Integers)"
   ]
  },
  {
   "cell_type": "code",
   "execution_count": 30,
   "metadata": {},
   "outputs": [
    {
     "data": {
      "text/html": [
       "<strong id=\"natsPosInInts\"><a class=\"ProveItLink\" href=\"_proofs_/natsPosInInts.ipynb\">natsPosInInts</a>:</strong> <a class=\"ProveItLink\" href=\"__pv_it/8f137c501990278ab8a0cd348031a3baf5f4b2b70/expr.ipynb\"><img src=\"__pv_it/8f137c501990278ab8a0cd348031a3baf5f4b2b70/expr.png\" style=\"display:inline;vertical-align:middle;\" /></a><br>"
      ],
      "text/plain": [
       "natsPosInInts: NaturalsPos subset Integers"
      ]
     },
     "execution_count": 30,
     "metadata": {},
     "output_type": "execute_result"
    }
   ],
   "source": [
    "natsPosInInts = Subset(NaturalsPos, Integers)"
   ]
  },
  {
   "cell_type": "code",
   "execution_count": 31,
   "metadata": {},
   "outputs": [
    {
     "name": "stdout",
     "output_type": "stream",
     "text": [
      "Theorems may be imported from autogenerated _theorems_.py\n"
     ]
    }
   ],
   "source": [
    "%end theorems"
   ]
  },
  {
   "cell_type": "code",
   "execution_count": 32,
   "metadata": {
    "collapsed": true
   },
   "outputs": [],
   "source": []
  }
 ],
 "metadata": {
  "kernelspec": {
   "display_name": "Python 3",
   "language": "python",
   "name": "python3"
  },
  "language_info": {
   "codemirror_mode": {
    "name": "ipython",
    "version": 3
   },
   "file_extension": ".py",
   "mimetype": "text/x-python",
   "name": "python",
   "nbconvert_exporter": "python",
   "pygments_lexer": "ipython3",
   "version": "3.7.0"
  }
 },
 "nbformat": 4,
 "nbformat_minor": 1
}
