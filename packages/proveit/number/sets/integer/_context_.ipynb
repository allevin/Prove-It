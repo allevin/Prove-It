{
 "cells": [
  {
   "cell_type": "markdown",
   "metadata": {},
   "source": [
    "Context: <a href=\"../../../_context_.ipynb\" class=\"ProveItLink\">proveit</a>.<a href=\"../../_context_.ipynb\" class=\"ProveItLink\">number</a>.<a href=\"../_context_.ipynb\" class=\"ProveItLink\">sets</a>.integer\n",
    "========\n",
    "\n",
    "Context for the set of integers, $\\mathbb{Z}$, and important subsets such as naturals, $\\mathbb{N}$, and positive natruals, $\\mathbb{N}^{+}$.  Naturals are first defined via counting, addition is defined as repetitive counting, subtraction is defined as the inverse of addition, then the integers are the full set (closure) defined via addition and subtraction of natural numbers."
   ]
  },
  {
   "cell_type": "code",
   "execution_count": null,
   "metadata": {},
   "outputs": [],
   "source": [
    "import proveit\n",
    "%context # toggles between interactive and static modes"
   ]
  },
  {
   "cell_type": "code",
   "execution_count": null,
   "metadata": {},
   "outputs": [],
   "source": []
  }
 ],
 "metadata": {
  "kernelspec": {
   "display_name": "Python 3",
   "language": "python",
   "name": "python3"
  }
 },
 "nbformat": 4,
 "nbformat_minor": 0
}
