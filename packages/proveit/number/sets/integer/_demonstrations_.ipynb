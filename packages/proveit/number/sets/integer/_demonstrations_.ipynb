{
 "cells": [
  {
   "cell_type": "markdown",
   "metadata": {},
   "source": [
    "Demonstrations for context <a class=\"ProveItLink\" href=\"_context_.ipynb\">proveit.number.sets.integer</a>\n",
    "========"
   ]
  },
  {
   "cell_type": "code",
   "execution_count": 1,
   "metadata": {},
   "outputs": [],
   "source": [
    "import proveit\n",
    "from proveit._common_ import a, b, c, n\n",
    "from proveit.logic import InSet\n",
    "from proveit.number import two, nine, Integers, Naturals, NaturalsPos\n",
    "%begin demonstrations"
   ]
  },
  {
   "cell_type": "markdown",
   "metadata": {},
   "source": [
    "# Naturals $\\mathbb{N}$, Positive Naturals $\\mathbb{N}^{+}$, & Integers $\\mathbb{Z}$\n",
    "\n",
    "### UNDER CONSTRUCTION"
   ]
  },
  {
   "cell_type": "markdown",
   "metadata": {},
   "source": [
    "<div style=\"line-height:1.4; font-size:14pt\">\n",
    "\n",
    "<a href='#introduction'>Introduction</a><br>\n",
    "<a href='#simple_expressions'>Simple Expressions involving the Naturals $\\mathbb{N}$ and Integers $\\mathbb{Z}$</a><br>\n",
    "<a href='#common_attributes'>Common Attributes of NumberSet classes</a><br>\n",
    "<a href='#axioms'>Axioms</a><br>\n",
    "<a href='#further_demonstrations'>Further Demonstrations</a><br>\n",
    "    <ol>\n",
    "        <li><a href='#demo01'>Demo 1</a></li>\n",
    "        <li><a href='#demo02'>Demo 2</a></li>\n",
    "        <li><a href='#demo03'>Demo 3</a></li>\n",
    "    </ol>\n",
    "\n",
    "</div>\n"
   ]
  },
  {
   "cell_type": "markdown",
   "metadata": {},
   "source": [
    "## Introduction <a id='introduction'></a>"
   ]
  },
  {
   "cell_type": "markdown",
   "metadata": {},
   "source": [
    "<font size=4>UNDER CONSTRUCTION. Something here about the importance of having and using specifically pre-defined number sets such as the Naturals ($\\mathbb{N}$) and Integers ($\\mathbb{Z}$), the axiomatic definitions, and perhaps the distinctiveness from the Reals ($\\mathbb{R}$).</font>"
   ]
  },
  {
   "cell_type": "code",
   "execution_count": 2,
   "metadata": {},
   "outputs": [
    {
     "data": {
      "text/html": [
       "<span style=\"font-size:20px;\"> <a class=\"ProveItLink\" href=\"__pv_it/141dd3c1dd111a5ace8f59216194acbde3de2b970/proof.ipynb\" style=\"text-decoration: none\">&#x22A2;&nbsp;</a><a class=\"ProveItLink\" href=\"__pv_it/bc25964104997098bd3050527191cf942b1fd6670/expr.ipynb\"><img src=\"data:image/png;base64,iVBORw0KGgoAAAANSUhEUgAAAGkAAAAVBAMAAAC3TN2zAAAAMFBMVEX////c3NwiIiJERESqqqqY\n",
       "mJh2dnZmZmYQEBDu7u4yMjJUVFTMzMyIiIi6uroAAAAs73DqAAAAAXRSTlMAQObYZgAAAaVJREFU\n",
       "OMudlDFIAmEUx/+mp553ieHYIkZLS1+BQ0EhRFvQVlvYUhAE0dDQEBLREsTRJEF4BFI3RBLUIEcI\n",
       "QYuL4JohjoIhSWCL9L7Dszs7b+jg4PF79/ve+959d8D/rnDZJbkxLFFygpfteQX7n8lA0c532ve3\n",
       "E0kKNMe1EjIDWoA6wFlT1LaAUecGH4pVIA2s/bHwHgKCihVeXcenjOBZk4rcygxwspYlBQ2rJOfM\n",
       "NfSSqHHLm7RzXisKHNAUK2PVJ4NF+4V1X/mFW/49O2dNeXIOyFFGukPWGNZMv6qOI6FMlk+1c1af\n",
       "7tAkzoGPEYZsjZDILJak6GSF03ZOHVaXgC6gkLLKewgfx+O9XesQ85dkyC07J8sbTnGLKwVj03lL\n",
       "LbzKpmXh3ALDCYWHwJfIO4lZLSHJzA5jg1aCwlMI337OHq0WNskSVDvvdbgNeLrwsxXOLmpmdpHu\n",
       "gGpO/peTtV4B6kYXngXjbXpueqe10aE6Ilmhmo3T6Z09o0eDEevh8BV6szKvjDMXUq5f3+4QrrlJ\n",
       "ojokMe5mSZEhCY/bH+DNGf8AIQp7+QwMlhAAAAAASUVORK5CYII=\n",
       "\" style=\"display:inline;vertical-align:middle;\" /></a></span>"
      ],
      "text/plain": [
       "|- (n in Naturals) in BOOLEANS"
      ]
     },
     "execution_count": 2,
     "metadata": {},
     "output_type": "execute_result"
    }
   ],
   "source": [
    "InSet(n, Naturals).deduceInBool()"
   ]
  },
  {
   "cell_type": "code",
   "execution_count": 3,
   "metadata": {},
   "outputs": [
    {
     "data": {
      "text/html": [
       "<span style=\"font-size:20px;\"> <a class=\"ProveItLink\" href=\"__pv_it/97d4f987a9f5a3133baa1130e0dc057c3492e5ad0/proof.ipynb\" style=\"text-decoration: none\">&#x22A2;&nbsp;</a><a class=\"ProveItLink\" href=\"__pv_it/bb99379610db692a310591fa0dca49923a0b5d180/expr.ipynb\"><img src=\"data:image/png;base64,iVBORw0KGgoAAAANSUhEUgAAAHgAAAAbBAMAAABFKlYVAAAAMFBMVEX///+qqqp2dnYiIiJERESI\n",
       "iIhmZmYQEBDc3NyYmJgyMjLu7u5UVFTMzMy6uroAAACGxKilAAAAAXRSTlMAQObYZgAAAedJREFU\n",
       "OMtjYCAABPBLv8Mr6wDETDhleQ8Q1Ixbya4NBDUzhOKSPclAWDNzA3ZJjgIsgtzrXVYzsNkbwjSz\n",
       "ormbab3Xr2JHBga2BGxGsky4wsDAz8CzalXVqqVAw36jy/MF7NqkwMD+AJtmHlvWAAZ2uLMZLDE1\n",
       "sz5YwHAfxblRxsYLwJpfbTiLrDkFTR6omXHCaYZwZM23ZsNsvntg1wYkzfPR5EE2v3BgOAVi9wQ9\n",
       "B4Unhzfc2RdEeR2QNL8HxydCHqj58pQNDD5AJl8Fgz9YqAGhme3BVLBmSDjfv4Aqz8Jn/L+UgWEZ\n",
       "kNk/AeKpLYgAu8Bwmuc6wj/9D1DlQc4OdGAwAzLPMzCYgoSeGxvDAuwCwx7u5QjN+wVQ5YGaGRwe\n",
       "gTV/YeD+CxK6g2wzrwKGzXeQbWZwYGFYAwyHrwyMH7iBQpuRNTNMZEHSDPbzZnTNR4Cx95GBZ4Es\n",
       "SMsEZM1MLQjN78FBhZCHOjsYyFzJIJygAEoDdnBJkDOzEJoh8YwkzxfAmerA8B4UzaFvXcGe6sqF\n",
       "yPGtLwFlVoRmLQgFkwdmjC/mB4Gp/wJyEpNZDAlNdLAUuzyPAgNhwP0DRylkQIRmTgccEo5EaGa+\n",
       "gEOiiwjN03BJMBL2NIcDTqmJBDWzbWCgPgAAPFqAzHtAmwgAAAAASUVORK5CYII=\n",
       "\" style=\"display:inline;vertical-align:middle;\" /></a></span>"
      ],
      "text/plain": [
       "|- (a in NaturalsPos) in BOOLEANS"
      ]
     },
     "execution_count": 3,
     "metadata": {},
     "output_type": "execute_result"
    }
   ],
   "source": [
    "InSet(a, NaturalsPos).deduceInBool()"
   ]
  },
  {
   "cell_type": "code",
   "execution_count": 4,
   "metadata": {},
   "outputs": [
    {
     "data": {
      "text/html": [
       "<table><tr><th>&nbsp;</th><th>step type</th><th>requirements</th><th>statement</th></tr>\n",
       "<tr><td>0</td><td>theorem</td><td></td><td><span style=\"font-size:20px;\"> <a class=\"ProveItLink\" href=\"../../numeral/deci/_proofs_/posnat9.ipynb\" style=\"text-decoration: none\">&#x22A2;&nbsp;</a><a class=\"ProveItLink\" href=\"../../numeral/deci/__pv_it/7996db6a00023c5e5a4f8afc0e657b59f0db11ed0/expr.ipynb\"><img src=\"data:image/png;base64,iVBORw0KGgoAAAANSUhEUgAAAD8AAAAUBAMAAADIGvgZAAAAMFBMVEX///8iIiKYmJi6urqIiIgy\n",
       "MjJERESqqqoQEBDc3NzMzMx2dnZmZmZUVFTu7u4AAABn2L4sAAAAAXRSTlMAQObYZgAAAPxJREFU\n",
       "KM9jYMAD2BkIADZ6KXh7+haq8NNvqQ8YDn4sgCrgbGeYMQFVRRJXAgPDB4aroRGhoQ4MbA0MvAmo\n",
       "Ci4ucGFgaIBZwR/AwP0PLM7nKigYAGJcjuNdgFDwPoGB5TNYwVI9qAm31vLFoZrwCeyYPJgVt9gd\n",
       "liEU8DQwsH0B+wnu1FsMh5kcQAp4wTYHMdSAFTxjQCjgfXCrAc5lclnyHURbCApCHXmLge/C0wYk\n",
       "b0F8sRbJBIbVXMgKWMH6HiIrYCqAhw3LT4b5BiAGrwKSAoadCAVyDCGQcBKGCSWDPBcAN3DPsQII\n",
       "Y+opCG36A6ibLwBL7NYGCmIKAwAjNUHIGNcUpgAAAABJRU5ErkJggg==\n",
       "\" style=\"display:inline;vertical-align:middle;\" /></a></span></td></tr>\n",
       "<tr><td>&nbsp;</td><td colspan=4 style-\"text-align:left\"><a class=\"ProveItLink\" href=\"../../numeral/deci/_proofs_/posnat9.ipynb\">proveit.number.numeral.deci.posnat9</a></td></tr></table>"
      ],
      "text/plain": [
       "proveit.number.numeral.deci.posnat9"
      ]
     },
     "execution_count": 4,
     "metadata": {},
     "output_type": "execute_result"
    }
   ],
   "source": [
    "InSet(nine, NaturalsPos).prove().proof()"
   ]
  },
  {
   "cell_type": "code",
   "execution_count": 5,
   "metadata": {},
   "outputs": [
    {
     "data": {
      "text/html": [
       "<span style=\"font-size:20px;\"> <a class=\"ProveItLink\" href=\"__pv_it/776786e94244a1eef23b2028ceb09b619282604a0/proof.ipynb\" style=\"text-decoration: none\">&#x22A2;&nbsp;</a><a class=\"ProveItLink\" href=\"__pv_it/d1e62e412f7ba61dedf8615fddab30e6b033793c0/expr.ipynb\"><img src=\"data:image/png;base64,iVBORw0KGgoAAAANSUhEUgAAAGUAAAAVBAMAAACtcD09AAAAMFBMVEX////c3NwiIiJERESqqqqY\n",
       "mJh2dnZmZmYQEBDu7u4yMjJUVFTMzMyIiIi6uroAAAAs73DqAAAAAXRSTlMAQObYZgAAAcZJREFU\n",
       "OMtjYCAH8F3AJcP6AJfMaQbOHQqoQiz6n1Y1rQhgqEFTmvV5/QplByBjJQMD1wZUOd7lExgWMAPF\n",
       "0c03eMu5Mg0oD3QavwOqFHsCA5tDHtBxCRh6GO4BDeKYwMDwfgJEiPOWktICIM09gUGaB2g3ZwNE\n",
       "fO4iJS2YHleg5CsgMwlqzKlIuImWzCBzTMBsnqUTkOwRZmAoAzJX390KEmG0RATZhVAQlQ7mCE9A\n",
       "uI1HFahoKdAJnxn4DwBFmAXgeiZzGoAoLzDHEOGfR/o/gP7vAwbtTwYOkG8nIzy7hxus/wXYlwbI\n",
       "YXDXmYHhHzCYFjDwF4BUKClBwoCBr+AZWM15MKcJKAwPA2a+BJAepgKG9wHg2IUBLgag1kSoHp4N\n",
       "yPYwMxgwtICjpx7kzUlwuRQ2YLJRgLlNAV2PKQMoANpAItwBUCnGDUAr2YCREwXmbkXRA3QbMDi5\n",
       "HdjB1nPqQaWYBSwZOMsMYGE96QGSnvDLDAyPgGr3lkKEpKCJ8oVVs/H6ZmCwrINYu/wAPI0adQPT\n",
       "GYcAUnryXgQJNyiApR2WXdBwg8V4Au6sxYYra63ErWcWLglp3Ho24pJgxJm3eQ9gFwcAC9pwXPtw\n",
       "JX8AAAAASUVORK5CYII=\n",
       "\" style=\"display:inline;vertical-align:middle;\" /></a></span>"
      ],
      "text/plain": [
       "|- (b in Integers) in BOOLEANS"
      ]
     },
     "execution_count": 5,
     "metadata": {},
     "output_type": "execute_result"
    }
   ],
   "source": [
    "InSet(b, Integers).deduceInBool()"
   ]
  },
  {
   "cell_type": "code",
   "execution_count": 6,
   "metadata": {},
   "outputs": [],
   "source": [
    "%end demonstrations"
   ]
  }
 ],
 "metadata": {
  "kernelspec": {
   "display_name": "Python 3",
   "language": "python",
   "name": "python3"
  }
 },
 "nbformat": 4,
 "nbformat_minor": 0
}
