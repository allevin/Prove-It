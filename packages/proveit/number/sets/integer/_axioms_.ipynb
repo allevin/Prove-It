{
 "cells": [
  {
   "cell_type": "markdown",
   "metadata": {
    "collapsed": true
   },
   "source": [
    "Axioms for context <a href=\"_context_.ipynb\" class=\"ProveItLink\">proveit.number.sets.integer</a>\n",
    "========"
   ]
  },
  {
   "cell_type": "code",
   "execution_count": 1,
   "metadata": {},
   "outputs": [
    {
     "name": "stdout",
     "output_type": "stream",
     "text": [
      "Defining axioms for context 'proveit.number.sets.integer'\n",
      "Subsequent end-of-cell assignments will define axioms\n",
      "%end_axioms will finalize the definitions\n"
     ]
    }
   ],
   "source": [
    "from proveit.logic import Forall, InSet, Iff, Equals, Implies, And, SetOfAll, Union\n",
    "from proveit.number import Naturals, NaturalsPos, Neg, Integers, Complexes\n",
    "from proveit.number import Add, Greater, Less\n",
    "from proveit.number import Len, zero, one, num\n",
    "from proveit._common_ import n, m, x, y, S, AA\n",
    "from proveit.logic._common_ import xIter1n\n",
    "%begin axioms"
   ]
  },
  {
   "cell_type": "markdown",
   "metadata": {},
   "source": [
    "**Define the set of naturals, $\\mathbb{N}$, as, essentially, the minimal set that contains zero and all of its successors:**"
   ]
  },
  {
   "cell_type": "code",
   "execution_count": 2,
   "metadata": {},
   "outputs": [
    {
     "data": {
      "text/html": [
       "<strong id=\"naturalsDef\">naturalsDef:</strong> <a class=\"ProveItLink\" href=\"__pv_it/ee3b010b656ce39b3e4c0e002f955d1a0de34dbe0/expr.ipynb\"><img src=\"__pv_it/ee3b010b656ce39b3e4c0e002f955d1a0de34dbe0/expr.png\" style=\"display:inline;vertical-align:middle;\" /></a><br>"
      ],
      "text/plain": [
       "naturalsDef: forall_{n} ((n in Naturals) = [forall_{S} (((0 in S) and [forall_{x in S} ((x + 1) in S)]) => (n in S))])"
      ]
     },
     "execution_count": 2,
     "metadata": {},
     "output_type": "execute_result"
    }
   ],
   "source": [
    "naturalsDef = Forall(n, Equals(InSet(n, Naturals), Forall(S, Implies(And(InSet(zero, S), Forall(x, InSet(Add(x,one), S), domain=S)), InSet(n, S)))))"
   ]
  },
  {
   "cell_type": "markdown",
   "metadata": {},
   "source": [
    "that is, $n \\in \\mathbb{N}$ iff n is in all sets that contain zero and all successors."
   ]
  },
  {
   "cell_type": "markdown",
   "metadata": {},
   "source": [
    "**Define the set of positive naturals, $\\mathbb{N}^{+}$, as the set of naturals that are greater than zero:**"
   ]
  },
  {
   "cell_type": "code",
   "execution_count": 3,
   "metadata": {},
   "outputs": [
    {
     "data": {
      "text/html": [
       "<strong id=\"naturalsPosDef\">naturalsPosDef:</strong> <a class=\"ProveItLink\" href=\"__pv_it/8d2e15232b70a44511acb1488f53b326e7b9655d0/expr.ipynb\"><img src=\"__pv_it/8d2e15232b70a44511acb1488f53b326e7b9655d0/expr.png\" style=\"display:inline;vertical-align:middle;\" /></a><br>"
      ],
      "text/plain": [
       "naturalsPosDef: {n s.t. (n > 0)}_{n in Naturals}"
      ]
     },
     "execution_count": 3,
     "metadata": {},
     "output_type": "execute_result"
    }
   ],
   "source": [
    "naturalsPosDef = SetOfAll(n, n, conditions=[Greater(n, zero)], domain=Naturals)"
   ]
  },
  {
   "cell_type": "markdown",
   "metadata": {},
   "source": [
    "**Define the integers, $\\mathbb{Z}$ as the union of the naturals and the negated positive naturals (i.e., the positive and negative forms of all natural numbers where zero is its own negative):**"
   ]
  },
  {
   "cell_type": "code",
   "execution_count": 4,
   "metadata": {},
   "outputs": [
    {
     "data": {
      "text/html": [
       "<strong id=\"integersDef\">integersDef:</strong> <a class=\"ProveItLink\" href=\"__pv_it/a2ab2e3ebab254c65deab6701911082319c5071a0/expr.ipynb\"><img src=\"__pv_it/a2ab2e3ebab254c65deab6701911082319c5071a0/expr.png\" style=\"display:inline;vertical-align:middle;\" /></a><br>"
      ],
      "text/plain": [
       "integersDef: Integers = (Naturals union {(-n) s.t. ()}_{n in NaturalsPos})"
      ]
     },
     "execution_count": 4,
     "metadata": {},
     "output_type": "execute_result"
    }
   ],
   "source": [
    "integersDef = Equals(Integers, Union(Naturals, SetOfAll(n, Neg(n), domain=NaturalsPos)))"
   ]
  },
  {
   "cell_type": "markdown",
   "metadata": {},
   "source": [
    "**Defining properties of individual natural numbers:**"
   ]
  },
  {
   "cell_type": "code",
   "execution_count": 5,
   "metadata": {},
   "outputs": [
    {
     "data": {
      "text/html": [
       "<strong id=\"addByZero\">addByZero:</strong> <a class=\"ProveItLink\" href=\"__pv_it/2e8625301b1cd2fcd75e8b108ed5c08e887f44ae0/expr.ipynb\"><img src=\"__pv_it/2e8625301b1cd2fcd75e8b108ed5c08e887f44ae0/expr.png\" style=\"display:inline;vertical-align:middle;\" /></a><br>"
      ],
      "text/plain": [
       "addByZero: forall_{x in Complexes} ((x + 0) = x)"
      ]
     },
     "execution_count": 5,
     "metadata": {},
     "output_type": "execute_result"
    }
   ],
   "source": [
    "addByZero = Forall(x, Equals(Add(x, zero), x), domain=Complexes)"
   ]
  },
  {
   "cell_type": "markdown",
   "metadata": {},
   "source": [
    "** Define the length of an ExpressionList via iteration:**"
   ]
  },
  {
   "cell_type": "code",
   "execution_count": 6,
   "metadata": {},
   "outputs": [
    {
     "data": {
      "text/html": [
       "<strong id=\"listLen0\">listLen0:</strong> <a class=\"ProveItLink\" href=\"__pv_it/ea45fc51e98adc6f747cb4e1e0e06e2f77959eee0/expr.ipynb\"><img src=\"__pv_it/ea45fc51e98adc6f747cb4e1e0e06e2f77959eee0/expr.png\" style=\"display:inline;vertical-align:middle;\" /></a><br>"
      ],
      "text/plain": [
       "listLen0: |()| = 0"
      ]
     },
     "execution_count": 6,
     "metadata": {},
     "output_type": "execute_result"
    }
   ],
   "source": [
    "# The zero-length case is a special case:\n",
    "listLen0 = Equals(Len([]), zero)"
   ]
  },
  {
   "cell_type": "code",
   "execution_count": 7,
   "metadata": {},
   "outputs": [
    {
     "data": {
      "text/html": [
       "<strong id=\"listLenDef\">listLenDef:</strong> <a class=\"ProveItLink\" href=\"__pv_it/8e552f208bb85b3fe9940fcb12f945c6a8f7e52f0/expr.ipynb\"><img src=\"__pv_it/8e552f208bb85b3fe9940fcb12f945c6a8f7e52f0/expr.png\" style=\"display:inline;vertical-align:middle;\" /></a><br>"
      ],
      "text/plain": [
       "listLenDef: forall_{n in NaturalsPos} [forall_{x_1,...,x_n} (|(x_1 ,  ...  , x_n)| = n)]"
      ]
     },
     "execution_count": 7,
     "metadata": {},
     "output_type": "execute_result"
    }
   ],
   "source": [
    "listLenDef = Forall(n, Forall(xIter1n, Equals(Len([xIter1n]), n)),\n",
    "                    domain=NaturalsPos)"
   ]
  },
  {
   "cell_type": "code",
   "execution_count": 8,
   "metadata": {},
   "outputs": [
    {
     "data": {
      "text/html": [
       "<strong id=\"emptyNatDef\">emptyNatDef:</strong> <a class=\"ProveItLink\" href=\"__pv_it/a85e1c2f6ed69a0c41ffcd008d71eddb49bc663d0/expr.ipynb\"><img src=\"__pv_it/a85e1c2f6ed69a0c41ffcd008d71eddb49bc663d0/expr.png\" style=\"display:inline;vertical-align:middle;\" /></a><br>"
      ],
      "text/plain": [
       "emptyNatDef: forall_{n, m in Naturals | n < m} [forall_{A} (A = ())]"
      ]
     },
     "execution_count": 8,
     "metadata": {},
     "output_type": "execute_result"
    }
   ],
   "source": [
    "emptyNatDef = Forall({n,m}, Forall(AA, Equals(AA,())), domain = Naturals, conditions = (Less(n,m),))"
   ]
  },
  {
   "cell_type": "code",
   "execution_count": 9,
   "metadata": {},
   "outputs": [
    {
     "name": "stdout",
     "output_type": "stream",
     "text": [
      "Modifying axiom naturalsDef in proveit.number.sets.integer context\n",
      "Modifying axiom integersDef in proveit.number.sets.integer context\n",
      "Modifying axiom addByZero in proveit.number.sets.integer context\n",
      "Adding axiom emptyNatDef to proveit.number.sets.integer context\n",
      "naturalsDef expression notebook is being updated\n",
      "integersDef expression notebook is being updated\n",
      "addByZero expression notebook is being updated\n",
      "emptyNatDef expression notebook is being updated\n",
      "Axioms may be imported from autogenerated _axioms_.py\n"
     ]
    }
   ],
   "source": [
    "%end axioms"
   ]
  },
  {
   "cell_type": "code",
   "execution_count": null,
   "metadata": {},
   "outputs": [],
   "source": []
  }
 ],
 "metadata": {
  "kernelspec": {
   "display_name": "Python 3",
   "language": "python",
   "name": "python3"
  },
  "language_info": {
   "codemirror_mode": {
    "name": "ipython",
    "version": 3
   },
   "file_extension": ".py",
   "mimetype": "text/x-python",
   "name": "python",
   "nbconvert_exporter": "python",
   "pygments_lexer": "ipython3",
   "version": "3.7.1"
  }
 },
 "nbformat": 4,
 "nbformat_minor": 1
}
