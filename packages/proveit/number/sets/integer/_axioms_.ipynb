{
 "cells": [
  {
   "cell_type": "markdown",
   "metadata": {},
   "source": [
    "Axioms for context <a href=\"_context_.ipynb\" class=\"ProveItLink\">proveit.number.sets.integer</a>\n",
    "========"
   ]
  },
  {
   "cell_type": "code",
   "execution_count": 1,
   "metadata": {},
   "outputs": [
    {
     "name": "stdout",
     "output_type": "stream",
     "text": [
      "Defining axioms for context 'proveit.number.sets.integer'\n",
      "Subsequent end-of-cell assignments will define axioms\n",
      "%end_axioms will finalize the definitions\n"
     ]
    }
   ],
   "source": [
    "from proveit.logic import Forall, InSet, Iff, Equals, Implies, And, SetOfAll, Union\n",
    "from proveit.number import Naturals, NaturalsPos, Neg, Integers, Complexes\n",
    "from proveit.number import Add, Greater, Less\n",
    "from proveit.number import Len, zero, one, num\n",
    "from proveit._common_ import n, m, x, y, S, AA\n",
    "from proveit.logic._common_ import xIter1n\n",
    "%begin axioms"
   ]
  },
  {
   "cell_type": "markdown",
   "metadata": {},
   "source": [
    "**Define the set of naturals, $\\mathbb{N}$, as, essentially, the minimal set that contains zero and all of its successors:**"
   ]
  },
  {
   "cell_type": "code",
   "execution_count": 2,
   "metadata": {},
   "outputs": [
    {
     "data": {
      "text/html": [
       "<strong id=\"naturalsDef\">naturalsDef:</strong> <a class=\"ProveItLink\" href=\"__pv_it/c6511f6651a3b1ea3d7fea8c79711a435b982f6d0/expr.ipynb\"><img src=\"data:image/png;base64,iVBORw0KGgoAAAANSUhEUgAAAlQAAAAVCAMAAAC33YD7AAAAM1BMVEX///+/v78QEBC6urrMzMxU\n",
       "VFRmZmZERETc3NwyMjKqqqp2dnaIiIiYmJgiIiLu7u4AAAB/uxFxAAAAAXRSTlMAQObYZgAABihJ\n",
       "REFUaN7tmtm2rSgMRS3ppfP/v7ZARGmCRvapt+KFe8cRM7MSIOBelv/b/+2vm0c9RUzdf26WIB4y\n",
       "Tv2zTPHMcb1BBR7qf9D2BzqUXv3zVjnycfRsSLMNyLK7nxq/nbK6R+Sq2oVQMSLc7W4LHX0fpAkO\n",
       "p+M5e8+NQdixjHPuo/svDwceJNAfqRabSGmM0QtyRRP86O9wkEXAst7y42o8KfOf1Id5K+xCxfGv\n",
       "PY1FJRUKp+M5+zhXvHvTU9mYf2KHoKRvkwoH9GeqBa48CmOhdyWFFjV6xitIvN6yFFlPMd4GTN2j\n",
       "GgvRTQPWlOIak1QYnI7n7M2xqpgXPVni2BQEpXibVCigadW8rP/LGMtJhdALcuUMLTzaDyGxQYXE\n",
       "AyznVOXb8FWrr3sI1ygXWhFQRsKbGb2Syq+YpMLgdDxn746VnOzyCUvuaSWjBoCiwvmGBwU0q9qy\n",
       "dTE1OakatN4T2JUztLDa/bL0KaQD8QDLVsujuXEpp+oe2pmVbekYDdu1j26ctsWGSap3nI4n9/ux\n",
       "zNB9e8Ii558pBaAYqWbuIRMCaFa1x6Sq0QBPYFfO0MJqEzaAxIV0JB5gOVTUobnxast11RMjpDSG\n",
       "FQOk6BM+LFJBslhWnUmlOSap3nFantzLXaekMk9Yct9NUXVVUF6VhXmW6R0IRSm1YXIz3GCTqkSD\n",
       "PIFdyaGF1dYGhESGdCQeYPnYohYhn4uzu9cLU4HN7/frocHxtZzEM9OZVNs9K7gqGquD+IrT8uT+\n",
       "Sir9hBWiFtr1l62cqtrWu1yS6R0IQ+kDlXV2WR02qUo02DrkSg7tPZq7ou0cgkSGdCQeYPlYE/3D\n",
       "Ir2Ssifh3B9rVr+T+8iywEm1sFhWnUlFVtRKVeNQrrWx9IHn6ruk8nBpLS1b91xLVFAx3lK1SfWq\n",
       "DwjZ0ukjJEFyik2qAm3gCeRKDu1I7U2RDhIb0pF4kOWopbFjzbKp1PvT9nZ5H16TJ4JqksrHsuo0\n",
       "TXdUUlU4hB87+RPP1XfbH4h1WtptD5UuohhteF71ASFbuigWE19qqgLtwZPWlRzaodohHqSBxIZ0\n",
       "JB5kOQrmPDapsm2mni/QUnCoXujHpCpx0l4hUEl1Fer2Aev8m4eSKhmlrE0qWB9vOOd2CNnRxXWh\n",
       "SKFUAbi1qQDgpAIFhl15SyqqtO8hcSEdiQdZDkv7473qutU9P2yHN2c674ZJtdgty10syNU2L5og\n",
       "Fjg+KWyfeXKfrhS260oBwPI8V5yyg9rOvynZJBWojxFEeu+HkB1dPpD7me0PEHjgSr/9VWK7uv7+\n",
       "FNKheKBlIdl5ccUNMZr1d+NVv8Ztxgbnr4qY2WFSLTrfGlqFW6lunJAnqybQXT3Yp8tPfcvRY+XS\n",
       "kmcfC6icTBtveAqgcIIjJnpmi4IXhGzprDxKqsWgk6rUCxB44EpGgdXeGAyJCulQPNDyxlMgvCVx\n",
       "ZWs/dNQnx5CocbQWRc3pHRB6spSzAH2lcOMck2Pd9/bGpeG5Xxy/MfqVLmMs7kxaZvorBSrKer1K\n",
       "qgso7ByhLorTW1UzGIBs6LYgrAhTWBp0TVXqBQg8cOXxSkEqGBIX0qF4sOVzs5f++MaxN6dJ4qo+\n",
       "LW9SmK2kbT5hErWv4r79OVYCgkyqqvZYJGvPMQ3P1YfoasPo8oDFwlmOMXHPwhvqWh3vTxfXApSB\n",
       "SD6E0+bWqods6Lww2scz4nOhzkN+qlSp1Xp1noxcycyg2t09wZeQjsWDLV93p8xAh9FV1j28sCrw\n",
       "qHBPNtxnmhLHpxprf+N54HrBKqCKIJA2qYq75TTjqDtuRIUZQ+JUM2i93gTGfKahQ8iZkD58pqlt\n",
       "xBtLvjRZ3nw5nGvaoJPq8mqr96URzzzXMxRQKsWjLD2uSt4gUXQPP2bSZsqVkxk7+peQZhsvluV+\n",
       "JBZpM3rmRxzd9cjyOam4GNztDn768tdQLU84LGuV7jGZfIX8jc6rueevEzT24t//GtE3yyQKxHVX\n",
       "+EtW9xONyYmkojw0YGDLM8v1AtXyhMJo4+a45/H3OWQE+Rsdk3PPn5+W0KPnQ5ptzFq+Di1y9ufE\n",
       "BvNTROMcneOZ43qDeuTRZ03136hm6NTzgZh8HD0b0mwDsPwv/5pOoqfOVSkAAAAASUVORK5CYII=\n",
       "\" style=\"display:inline;vertical-align:middle;\" /></a><br>"
      ],
      "text/plain": [
       "naturalsDef: forall_{n} ((n in Naturals) = [forall_{S} (((0 in S) and [forall_{x in S} ((x + 1) in S)]) => (n in S))])"
      ]
     },
     "execution_count": 2,
     "metadata": {},
     "output_type": "execute_result"
    }
   ],
   "source": [
    "naturalsDef = Forall(n, Equals(InSet(n, Naturals), Forall(S, Implies(And(InSet(zero, S), Forall(x, InSet(Add(x,one), S), domain=S)), InSet(n, S)))))"
   ]
  },
  {
   "cell_type": "markdown",
   "metadata": {},
   "source": [
    "that is, $n \\in \\mathbb{Z}$ iff n is in all sets that contain zero and all successors."
   ]
  },
  {
   "cell_type": "markdown",
   "metadata": {},
   "source": [
    "**Define the set of postiive naturals, $\\mathbb{N}^{+}$, as the set of naturals that are greater than zero:**"
   ]
  },
  {
   "cell_type": "code",
   "execution_count": 3,
   "metadata": {},
   "outputs": [
    {
     "data": {
      "text/html": [
       "<strong id=\"naturalsPosDef\">naturalsPosDef:</strong> <a class=\"ProveItLink\" href=\"__pv_it/22b9be4f1c76ed795f081716f6a8457febf607330/expr.ipynb\"><img src=\"data:image/png;base64,iVBORw0KGgoAAAANSUhEUgAAAJoAAAAXBAMAAAAB/0siAAAAMFBMVEX////c3NxERESqqqpUVFS6\n",
       "urrMzMwyMjIQEBCIiIh2dnYiIiLu7u5mZmaYmJgAAABXZE4RAAAAAXRSTlMAQObYZgAAAi9JREFU\n",
       "OMutlT1s00AUx//5sEPdi2MhloiKj0ggsXmCkXSq2CwG1Ez1wFC6YNiLYMnEEImKggqSKV1QOlQV\n",
       "QqKTxQQCVV0YWtHKQiJDKiALDAgk3tnYvivnQARvsC7/8/v5vXf3XgCYe8isZOHvbO6RUmYb4i/D\n",
       "SVatfNIH/pi1VVtjAyVNb6q/vf3QRdWlVdVT7Rs3lbRKoKSNO+wZ4P3m9wfafUE84qbLJWAR6I9K\n",
       "uy2IeiOt5lNgxsLLEWmaVJXCVFLyH8BVG0V7GK11sr7gS7SqL6pg3TDGfiNaB8ZWHo2fjT/VYV8l\n",
       "WiUUVcItraY0HyXyMQcq2qwDzVkH+yLRDkkqt/13GU3jcc0rYJfb9GFyKn2XaDVHVKMXr2WZ6jyu\n",
       "4g0FbpqOn5zK3kGaoJJdPJ2eQhjTNlSZcgeqXS0MpExtUQXOTaY35LwVZSrXTZ9/i3tUC2ONfH18\n",
       "DnyRVgxFFfur2e3tEsmTzvTV7h7eG4ERxOpxB8slV6TxO5CqrPsg7SybtXHghoydmniDT52thDYN\n",
       "HL4j3941QT0aZl2/s0D8ihP7mdutFeAj3+idrSc0RWfdGjbcks7anAnH3WgGoGdszuXT+sNoT37R\n",
       "JhZRs/SotD34K0QzR5pIcbpeMt8uUDn09UbjDNGOvSYX9lxJKzTzaWUr7iGgjV2NNePYtCs8APOx\n",
       "OInT2VPPp91N/hcKA7QvYTKmoR/gn0w7gZ0QLygC7bqDMv6LLVPdIvsJ5jSqMafnGu8AAAAASUVO\n",
       "RK5CYII=\n",
       "\" style=\"display:inline;vertical-align:middle;\" /></a><br>"
      ],
      "text/plain": [
       "naturalsPosDef: {n s.t. (n > 0)}_{n in Naturals}"
      ]
     },
     "execution_count": 3,
     "metadata": {},
     "output_type": "execute_result"
    }
   ],
   "source": [
    "naturalsPosDef = SetOfAll(n, n, conditions=[Greater(n, zero)], domain=Naturals)"
   ]
  },
  {
   "cell_type": "markdown",
   "metadata": {},
   "source": [
    "**Define the integers, $\\mathbb{Z}$ as the union of the naturals and the negated positive naturals (i.e., the positive and negative forms of all natural numbers where zero is its own negative):**"
   ]
  },
  {
   "cell_type": "code",
   "execution_count": 4,
   "metadata": {},
   "outputs": [
    {
     "data": {
      "text/html": [
       "<strong id=\"integersDef\">integersDef:</strong> <a class=\"ProveItLink\" href=\"__pv_it/0b7fa47292271213f6a2ba6a468065d58a5afdf40/expr.ipynb\"><img src=\"data:image/png;base64,iVBORw0KGgoAAAANSUhEUgAAAPUAAAAaBAMAAACdjQcBAAAAMFBMVEX////MzMzc3NxUVFS6urp2\n",
       "dnZERETu7u5mZmaIiIiYmJgQEBAyMjIiIiKqqqoAAAAf68ZqAAAAAXRSTlMAQObYZgAAA4ZJREFU\n",
       "SMfFll1IFFEUx89+zM7srLljZi9WLgSCILgiJITJFhmIgotISxGyVKwvEQNCEQntSyFhsJJ9SBQb\n",
       "KGkPuvmgvQQLPmQpuEbaB5RLD0FvJkEQBJ17Z3Zm587c6cXogndm/vfs/XnPPefcC8Bpx+GfNsFl\n",
       "zBP9t2y3+YdUZ12+6TrlF8tXTS/fcpw/dNhZFtdJ38moE8Zbn/7s1LTaIhewKwJQufl75cVylhnx\n",
       "5kBcTb0EafOzRQ9uOflLUhg2WlBNynPZQZwkuKRCPsCOSGmAQHYvQJgslkp0E4QcdhW2/cgzbGKR\n",
       "L5lzPPgTKXEQin3sSCgG4FsLZiBE3EM9ETXY9q2aZNjjuubCho9IUOGgPejq8M/XrTabbI/JXrDN\n",
       "c5VhL+iaG/sG7QcCNic+IOyq6JDqwPbbNzFQtLCpBdHc2LM0bTJPbQNthK188yQd2LhLRus823Ab\n",
       "P4W0hU0tiObG7iELviQm6cfICmmL9P0cZUuxaYZNAreiLCnibRnxOyZL3sKmFkSTt/jsOpIIzb6I\n",
       "bWCJsqHVV2tl18a0ONSbP7YB4g985ixsakG1JT67CY386Q77wHuNPSguW9jVz7AL448aP5H2VkRw\n",
       "JSaLZ8vCJhaaFnjNLeXXMB4qSCb2OrM9cWbdXYo+s94Q7Mu7sNcdFiyZ6+4XsCvgxy26lg06sKix\n",
       "YSZgsGk4EVCorFDi/oezqs3nRd3n1v3eNxwLPlcNtoI1o9ohHg/pbKGeAMhUAo0woUDqXVkNisOs\n",
       "GgfZGmvUgmjmvOL94aycTEDCWHdPBAKRARCvJxn2QzID8dwIKWlvsOuGUo4ZCaU57mSlwuYY/bTm\n",
       "2N1jl1V5WoKE1HKkpV3P764L86nV+TSbfOiz1XlyllJntVd9HTDY/oJp1wVQ/whjJmatLcSCaMR8\n",
       "auxOFGQCkA/szpjrPsNLgLBi+exoGQWDDXN/ralzZk0VJ37BGgY0YSuJxyb7FY/ti3OuOrnyk8No\n",
       "pxj2pK6hufdKHrahRmMLQmuJLW5zrzQFzrXF8QwVHc5QqpEy6MtgxO9PpVIZWfE+eVdiy0lu1bnI\n",
       "OXU/GMdpuZciDBstqEbLoCKlY4PauuHoPRzU7i0Kl93I0eV+7BoYcdR4G9OfDVSj97UmCO1R6H+C\n",
       "bDlRspziV9vK+E7dSE+AdBrE8yRNsSu5zJt0+cnMDt/Hcb8thVWF/9r+AOIx1+Jen8GjAAAAAElF\n",
       "TkSuQmCC\n",
       "\" style=\"display:inline;vertical-align:middle;\" /></a><br>"
      ],
      "text/plain": [
       "integersDef: Integers = (Naturals union {(-n) s.t. ()}_{n in NaturalsPos})"
      ]
     },
     "execution_count": 4,
     "metadata": {},
     "output_type": "execute_result"
    }
   ],
   "source": [
    "integersDef = Equals(Integers, Union(Naturals, SetOfAll(n, Neg(n), domain=NaturalsPos)))"
   ]
  },
  {
   "cell_type": "markdown",
   "metadata": {},
   "source": [
    "**Defining properties of individual natural numbers:**"
   ]
  },
  {
   "cell_type": "code",
   "execution_count": 5,
   "metadata": {},
   "outputs": [
    {
     "data": {
      "text/html": [
       "<strong id=\"addByZero\">addByZero:</strong> <a class=\"ProveItLink\" href=\"__pv_it/40d057b0bdef8e6e7f34fe0349583694d117344a0/expr.ipynb\"><img src=\"data:image/png;base64,iVBORw0KGgoAAAANSUhEUgAAAKwAAAAVBAMAAAAp2hhWAAAAMFBMVEX///8QEBC6urrMzMxUVFRm\n",
       "ZmZERETc3NwyMjKqqqp2dnaIiIiYmJgiIiLu7u4AAAAU9Wx4AAAAAXRSTlMAQObYZgAAAkVJREFU\n",
       "OMu1VU2I00AYfW1a203ToejJW3UFRRFzEA+CVFbQkyCIIO1lFckieMhBXHQRi3gIiywFEQQP20sR\n",
       "KUrAVvxBDZ5EQVYUD6IQQVZZRRZBBU/O9JuY39k9+cFjJvO9eZl8PxPg/5i/kjPvErLtqWLdqAML\n",
       "YvJCQdgpkTLWGpoomopth4GbYpxT+OdUvmqdvQbaim1l4AwfSpPZ7opLiNhnGh4B94Dnqih0UebB\n",
       "LXay3TmfELHrNLwBdtj4qJBlNRg3pqfPK9xbJNKyP4FGB2sUx8FJ4JdlvVN4mxLnBmeHblS29IfL\n",
       "utAPJXdIZg/YB0wpZC8TWNd4n1tIyXYxNspZ0RnZXoTMa8AmsFhGv80ebMnpWoKOyvKYmSGbryXO\n",
       "ETA38FpBxQtCPTziabt8bVY+/yAwFCbjsZVB0JaTuZLMBq8grxok++7m774xA2yNy/JyoMgedZxX\n",
       "jnNJpsxLywZMLsvaoo/6EwPTEBkYv8IPIznrJXDBDJo8LLB5Wwah+GFk9EHE5EHA1AQPir8/1ymL\n",
       "9ccvw1efIhj2E1TisrwdbnFHss0C5jM+v8pTlxcZ352U7RHmvWOYiddttcPWIV1gAbP3Lxy/gT2W\n",
       "Zbkbx0PWdsLig6W+F5dlzQFPeLmekA2YF8XJxfdpNQ2fhKfwNYxtziaku4xsheYla+htHQWhoDVt\n",
       "PAyvjBEiti360FfI6sH1tHi/dRvsuJguvT1RX/VipEOpLsYvibfw2MYWTktkW8FWOA6s8kcquYRs\n",
       "u6NYr5j4C5tyqPpxLIomAAAAAElFTkSuQmCC\n",
       "\" style=\"display:inline;vertical-align:middle;\" /></a><br>"
      ],
      "text/plain": [
       "addByZero: forall_{x in Complexes} ((x + 0) = x)"
      ]
     },
     "execution_count": 5,
     "metadata": {},
     "output_type": "execute_result"
    }
   ],
   "source": [
    "addByZero = Forall(x, Equals(Add(x, zero), x), domain=Complexes)"
   ]
  },
  {
   "cell_type": "markdown",
   "metadata": {},
   "source": [
    "** Define the length of an ExpressionList via iteration:**"
   ]
  },
  {
   "cell_type": "code",
   "execution_count": 6,
   "metadata": {},
   "outputs": [
    {
     "data": {
      "text/html": [
       "<strong id=\"listLen0\">listLen0:</strong> <a class=\"ProveItLink\" href=\"__pv_it/a858bccd0498679bd8f4b55b7658c175660b8a200/expr.ipynb\"><img src=\"data:image/png;base64,iVBORw0KGgoAAAANSUhEUgAAAD8AAAAVBAMAAAADRiu8AAAAMFBMVEX///8iIiJERESYmJhmZmYQ\n",
       "EBDu7u4yMjJUVFTMzMyIiIi6urp2dnbc3NyqqqoAAABw9lLDAAAAAXRSTlMAQObYZgAAAOJJREFU\n",
       "KM9jeMsAB0hMJHAaiLkXMG+AMrErmMHA4IlFAZvXkgkQ0TIGBnYsChg3sEmCRbkWMDAwH8BUsJCB\n",
       "YTlYlDUBaFwApgIJBob9F0Ci20E8PUwFXxgY5j8AifqAeEcwFPD+ASpYABItBnGfQxW4l4NABUzB\n",
       "AZBoNEhiK3YTwAp+g7jz8ViBQwHYkQYg0ThkKxwFQUAI6s33YG8qg3jmWAPqIFj0CHZvMjA+YIsE\n",
       "i24E8aqxRJbPCkhksV7AHtTw6AZFFM8CfOkBGN3peBPMDQaGXpwKVoPCbAHXBCgTAwAAmd9UpKMO\n",
       "UQUAAAAASUVORK5CYII=\n",
       "\" style=\"display:inline;vertical-align:middle;\" /></a><br>"
      ],
      "text/plain": [
       "listLen0: |()| = 0"
      ]
     },
     "execution_count": 6,
     "metadata": {},
     "output_type": "execute_result"
    }
   ],
   "source": [
    "# The zero-length case is a special case:\n",
    "listLen0 = Equals(Len([]), zero)"
   ]
  },
  {
   "cell_type": "code",
   "execution_count": 7,
   "metadata": {},
   "outputs": [
    {
     "data": {
      "text/html": [
       "<strong id=\"listLenDef\">listLenDef:</strong> <a class=\"ProveItLink\" href=\"__pv_it/902f5d11c16ef6bcd5b23355a11cfb4f029b84a40/expr.ipynb\"><img src=\"data:image/png;base64,iVBORw0KGgoAAAANSUhEUgAAAVwAAAAWBAMAAAB+jDmhAAAAMFBMVEX///8QEBC6urrMzMxUVFRm\n",
       "ZmZERETc3NwyMjKqqqp2dnaIiIiYmJgiIiLu7u4AAAAU9Wx4AAAAAXRSTlMAQObYZgAABBhJREFU\n",
       "SMe9l2loE0EUx182abfd3WyDghdo4wEKIi3iAfqh9cCKZ/EArSLBD6lixQhixaoNLWq9akBEEcRQ\n",
       "PFEkKqig4mJRxAODVauFyhZUBI9qkIq2Gmdmd9NJdnfWKPpgN7Pz/jvz2znevAD8A8sP/c3bh1hO\n",
       "1fH1G/VqVt2NBsGPf7lYtqC3yL3J0iehNu8+hjgu32c10vQbGsrcpTruuKzHNafYHhcWEtcZXGxk\n",
       "4zprKMtTddzG7NdBmIGbR1wb0Z0PsHGdNZRdAw1XjGWPe4+BK0WxCw0G5ETYuM4ayobouC41e9wO\n",
       "Bq7swy7pVHX1VmDjOmt6jQvruKNwF0uej91XytS/3lc/6onxkBuxx4XVxNUVDLZZOKMUrp3GcrtE\n",
       "ddwKdH2IuH6862bJ5RdQ+PKmsW6Ecgtc7nL1tVno9wRxTQOotGinnMa10VjuCEXH3YuuOVDQXdAD\n",
       "MMFW7lEgGUsqRsAOG7g5DcTwzAiePdCJYsZh4hoBctgJ10ZjZS6/jtuHTFHtVykG4+faygXgk6FU\n",
       "jOR8FqM7zBuATtTiUOLygqjQYXP7AriwIgM3Q8OyAgM3QR4fYQA4ynhB+kx1/skCV0Wsx9C+LSEu\n",
       "UfGm9vC7xcvhjqAK6qLpT6ZHenFpTXa480udcD1fHHAx60wwcOVw6vgRV277CA9i5YKaMbpEI894\n",
       "erre1NurtRUNxfRiiOi4A9F1BApjcIWFmx91dYMYkpaNPp62GHLaiZFgvwSgRzYWA1RORTNC5Lex\n",
       "s/lAjQmXaLzFRWVoJOal99fCfamlQ1WusdWq0AcmRyb9vE/DxdMjQ2ahM1GbgPXwvkjxoo+Wwlaj\n",
       "OwiknwLKGDTXQZQSaHKynZqF95NMuFhTAzcPvYBJ/dOa4mPit630CYJjEcFFcYfv8hT6N/kJrvwD\n",
       "w8UzC7WBKQm+DrZdhYKQTSDjEyAEDhiBDFwo6hG5m8TaZogeN+G6SGRch8ejNaO13J/pUTKu447B\n",
       "yVzbqwF12tqVCxFOB5pcuR/oBVwjtp+f0oDks/FcQ57fKu76gF+DRqROc0kYAsvdz4LBNQh3ywdU\n",
       "E0rDxZq86GDYYsLd7YrzirT0empB9DcOYSrpxYuBMyXBdE1fWMz9ziFMyeVSbXS5yWr6IaxZSVMX\n",
       "Pghbgd8Jm1S+Ed92ur8XBXIj+ZfBR6UpBFeKpuNK5hBGTfgn6Dsc4CwDV4j1ujR5mYYL9yxxPcGH\n",
       "qyIY190DJSH3V3zrgRlVz3ahY48PMxLIzfuXOeByAahQ9LPIBvct5dLkb1A33A4/eMAKV7dWuh+j\n",
       "FBdvGZ/IG+n5hvT3zPmkqcYTYuCWmV0n0do1//lpoZ8mD4rAxNSTXpID0rlUXQ2Ifi1oZJs/XiL3\n",
       "i5Y+EcW5G4//6M+fYlH6P/YL2M9H3B25E2YAAAAASUVORK5CYII=\n",
       "\" style=\"display:inline;vertical-align:middle;\" /></a><br>"
      ],
      "text/plain": [
       "listLenDef: forall_{n in NaturalsPos} [forall_{x_1,...,x_n} (|(x_1 ,  ...  , x_n)| = n)]"
      ]
     },
     "execution_count": 7,
     "metadata": {},
     "output_type": "execute_result"
    }
   ],
   "source": [
    "listLenDef = Forall(n, Forall(xIter1n, Equals(Len([xIter1n]), n)),\n",
    "                    domain=NaturalsPos)"
   ]
  },
  {
   "cell_type": "code",
   "execution_count": 8,
   "metadata": {},
   "outputs": [
    {
     "data": {
      "text/html": [
       "<strong id=\"emptyNatDef\">emptyNatDef:</strong> <a class=\"ProveItLink\" href=\"__pv_it/54a2f6bffceb54be2525589920af0e0edaaaa8470/expr.ipynb\"><img src=\"data:image/png;base64,iVBORw0KGgoAAAANSUhEUgAAAQAAAAAXBAMAAAAW+IzCAAAAMFBMVEX///8QEBC6urrMzMxUVFRm\n",
       "ZmZERETc3NwyMjKqqqp2dnaIiIiYmJgiIiLu7u4AAAAU9Wx4AAAAAXRSTlMAQObYZgAAA1RJREFU\n",
       "SMfFll1IFFEUgM/uqLPtzK6aTxHkRlFBSPsQBAW6VOBDD1mhkP2wVKz0R/sg7kNlIvQjRBkR9Lgs\n",
       "WvTk1FNUwpYVYlEiEf1g+lJJmqwphmFM59w7O7Mzdzehobpw7p05P/d+e8+5dxbgf7dR1zMob6rz\n",
       "qb0aG6S5fCY1BEDSPwSDpHnmBsAfCtCganb1ej4EfogRaNoFXFJwizSX3AH4O3HwOfbSmLNnRoxA\n",
       "kw+4pKAFeznqDoDFtzgSY2RA/ynmDE1qkkuKgRd3ugNgv3a3XevhG+Lr0YUAMgXLuKRAvZlInAaX\n",
       "AAOJRGLQrl3Dh16PLpQ5Mx3mkgKYjcXeuQUojcWOJ+3aRtbL0z495Axgpm4uCLAFoGmBJUILARSF\n",
       "oSTODph56C6yvqSuWE/TQ/EF1iKm6ToXBFgJwba8E0tnd8Lt/fTkqNFWAcAbgTGeXvPQLWb9Q1D0\n",
       "OufEzLScCwIEQEmLq4/X74Wn/lH/qAjwsUkAwNvkAXveMZvVfqMuOAdeXThizFTDBQGUdEC8DZUD\n",
       "rZPwXKvLA/ClXUwBLv+BZeDtlG2VoqnySn1wAYBgG15M6p61XaR+cude5P5BHOml7+rJHADDRenI\n",
       "cTMBxiSW3cBqs+aXUHelevKznmE1MMxa1DRZKYCmzQAT69KBMMI8modX8BiAVUWff2KjBcBdFKog\n",
       "080EKGkO8dI2a/4Y+dFSI9+dO0Am6OdCANdwj1rvQimWsTzeBtM4jcTOVB8kuywA5iK9Z4fLcLMA\n",
       "Fu1jZbsMLme/CGRtpsATwteo234MwUMx29ieQJEmlUEHSK9jsaMIcOprTg2QS7AhlONmAcBSloHy\n",
       "cj1iaKsASnVMyHZdn3YAVFHXzoUAVFqkAuq9BBNWonImFIzwHfBuygFgLsGGsOWWA/CCnrBGXmZL\n",
       "zhMveHGQybqKeZMzULFCPg9n8Mep0STUcgAYsACYCw5bMTzrZgEYGYCajPGiJgsCkMmvcckCeKPQ\n",
       "mJbmYRUEwtKROHzCSb3n8IoDE4C50DKH4qabHWBkBtTKqU775zhfQxPdW2NgARho1uMNrAGz2a8S\n",
       "6aB4D+RpzYUB0ERbXCsAbCgQ8Pu/C8pwOJ9a1gpGyJqCISS9QzZD+o8A/kGL/MW5fwGnIAD9l/2T\n",
       "fAAAAABJRU5ErkJggg==\n",
       "\" style=\"display:inline;vertical-align:middle;\" /></a><br>"
      ],
      "text/plain": [
       "emptyNatDef: forall_{n, m in Naturals | n < m} [forall_{A} (A = ())]"
      ]
     },
     "execution_count": 8,
     "metadata": {},
     "output_type": "execute_result"
    }
   ],
   "source": [
    "emptyNatDef = Forall({n,m}, Forall(AA, Equals(AA,())), domain = Naturals, conditions = (Less(n,m),))"
   ]
  },
  {
   "cell_type": "code",
   "execution_count": 9,
   "metadata": {},
   "outputs": [
    {
     "name": "stdout",
     "output_type": "stream",
     "text": [
      "Axioms may be imported from autogenerated _axioms_.py\n"
     ]
    }
   ],
   "source": [
    "%end axioms"
   ]
  },
  {
   "cell_type": "code",
   "execution_count": null,
   "metadata": {},
   "outputs": [],
   "source": []
  }
 ],
 "metadata": {
  "kernelspec": {
   "display_name": "Python 3",
   "language": "python",
   "name": "python3"
  }
 },
 "nbformat": 4,
 "nbformat_minor": 0
}
