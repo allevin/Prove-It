{
 "cells": [
  {
   "cell_type": "markdown",
   "metadata": {},
   "source": [
    "Proof of <a class=\"ProveItLink\" href=\"../../../../_context_.ipynb\">proveit</a>.<a class=\"ProveItLink\" href=\"../../../_context_.ipynb\">number</a>.<a class=\"ProveItLink\" href=\"../../_context_.ipynb\">sets</a>.<a class=\"ProveItLink\" href=\"../_context_.ipynb\">integer</a>.<a class=\"ProveItLink\" href=\"../_theorems_.ipynb#natsPosInIntegers\">natsPosInIntegers</a> theorem\n",
    "========"
   ]
  },
  {
   "cell_type": "code",
   "execution_count": 1,
   "metadata": {},
   "outputs": [],
   "source": [
    "import proveit\n",
    "context = proveit.Context('..') # the theorem's context is in the parent directory"
   ]
  },
  {
   "cell_type": "code",
   "execution_count": 2,
   "metadata": {},
   "outputs": [
    {
     "name": "stdout",
     "output_type": "stream",
     "text": [
      "Beginning proof of natsPosInIntegers\n",
      "Recorded 'presuming' information\n",
      "Presuming previous theorems (applied transitively).\n"
     ]
    },
    {
     "data": {
      "text/html": [
       "<strong id=\"natsPosInIntegers\">natsPosInIntegers:</strong> <a class=\"ProveItLink\" href=\"../__pv_it/c9051c3914a677405a56d88d3b6d262d5b77358b0/expr.ipynb\"><img src=\"data:image/png;base64,iVBORw0KGgoAAAANSUhEUgAAAIIAAAAVBAMAAAB4Tis1AAAAMFBMVEX///8QEBC6urrMzMxUVFRm\n",
       "ZmZERETc3NwyMjKqqqp2dnaIiIiYmJgiIiLu7u4AAAAU9Wx4AAAAAXRSTlMAQObYZgAAAi5JREFU\n",
       "OMtjYKAYPCCsRBu3FI8CA8MFEOM0PgOYHbAIct7/2yHbeIAhmIFhJYjfh88EDmzO5G59wNDABpRk\n",
       "YCgDctkT8JmwG5sg6wIGrgmLgN5YALaBdQI+E+SQOa97794A0SwPGEpA3uMTYOBZXl5ei88Apgbk\n",
       "MOlBeCmPDcTOZGD4lpZ2C1MfF7J7GRhKdikWgDhlCAN4NpwBUUsZGJwZGNKx+BMRkAeA7hBnyAdz\n",
       "kFQ+4wOH3gwGBhUGvgZ8JjACo7z+AEMYiM2HFOTOLGBXKTIw8DJwH0DSahGqwC36AMkEfqAJ/gwM\n",
       "t8FhInv3LiQkGZgCtMC0PTBmD/DCPMe3NfQAT8I6hnWsLr4unkgmfGPg+4yWuDgYgC5fDjaBr8EE\n",
       "JrpN/d0DntOsDOtQfDGBgf03A+cHPpAVF+DCK7kgCVoRFDpOQKJ0VzIDTwAoiC3NN6CYwHaAge8n\n",
       "A0vDZBDHBybK7gC0l0uAgeEEkDMVaBLfdfZ/oBQKNMFg3WEUE7iA5vYwzA0ARSrDWwWYuQV5DHxR\n",
       "CeDYZGDcAExiAcwXGKwgJnBx+SGbwAS0oGS3cjZYL3urAURUMUMsrV8MaHgTSM8DUHBxOzDYpqWl\n",
       "beAxYD93D6gUETviKHnSAxoXsMAXgDLeP2A7V/AE4gYG5X0oSeMUvjTPtQEW4A/sbR6AkwjQBJ51\n",
       "hHM3DLyAezb6dAwDXxKQpQEkUIsUdgc8JrijOQkYDlhUVeM2gNuAAQA45X9+8rGIlwAAAABJRU5E\n",
       "rkJggg==\n",
       "\" style=\"display:inline;vertical-align:middle;\" /></a><br>(see <a class=\"ProveItLink\" href=\"../__pv_it/c9051c3914a677405a56d88d3b6d262d5b77358b0/dependencies.ipynb\">dependencies</a>)<br>"
      ],
      "text/plain": [
       "natsPosInIntegers: forall_{a in NaturalsPos} (a in Integers)"
      ]
     },
     "execution_count": 2,
     "metadata": {},
     "output_type": "execute_result"
    }
   ],
   "source": [
    "%proving natsPosInIntegers presuming []"
   ]
  },
  {
   "cell_type": "code",
   "execution_count": null,
   "metadata": {},
   "outputs": [],
   "source": []
  }
 ],
 "metadata": {
  "kernelspec": {
   "display_name": "Python 3",
   "language": "python",
   "name": "python3"
  }
 },
 "nbformat": 4,
 "nbformat_minor": 0
}
