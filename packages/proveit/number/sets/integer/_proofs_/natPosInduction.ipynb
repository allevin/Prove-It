{
 "cells": [
  {
   "cell_type": "markdown",
   "metadata": {},
   "source": [
    "Proof of <a class=\"ProveItLink\" href=\"../../../../_context_.ipynb\">proveit</a>.<a class=\"ProveItLink\" href=\"../../../_context_.ipynb\">number</a>.<a class=\"ProveItLink\" href=\"../../_context_.ipynb\">sets</a>.<a class=\"ProveItLink\" href=\"../_context_.ipynb\">integer</a>.<a class=\"ProveItLink\" href=\"../_theorems_.ipynb#natPosInduction\">natPosInduction</a> theorem\n",
    "========"
   ]
  },
  {
   "cell_type": "code",
   "execution_count": 1,
   "metadata": {},
   "outputs": [],
   "source": [
    "import proveit\n",
    "from proveit.number.sets.integer._theorems_ import inductionLemma\n",
    "context = proveit.Context('..') # the theorem's context is in the parent directory"
   ]
  },
  {
   "cell_type": "code",
   "execution_count": 2,
   "metadata": {},
   "outputs": [
    {
     "name": "stdout",
     "output_type": "stream",
     "text": [
      "Beginning proof of natPosInduction\n",
      "Recorded 'presuming' information\n",
      "Presuming previous theorems (applied transitively).\n"
     ]
    },
    {
     "data": {
      "text/html": [
       "<strong id=\"natPosInduction\">natPosInduction:</strong> <a class=\"ProveItLink\" href=\"../__pv_it/7edb62f7f68d2e8c624c0965dc9c39af199823bf0/expr.ipynb\"><img src=\"data:image/png;base64,iVBORw0KGgoAAAANSUhEUgAAAgYAAAAaCAMAAAD7amRbAAAAM1BMVEX///+/v78QEBC6urrMzMxU\n",
       "VFRmZmZERETc3NwyMjKqqqp2dnaIiIiYmJgiIiLu7u4AAAB/uxFxAAAAAXRSTlMAQObYZgAABl1J\n",
       "REFUaN7tW9mW2yoQ1BW7AMH/f+0ViL0BI9uZk+SEl/SMx6iqKegFZdvWB0LQ+niw8zz59jcNdDGS\n",
       "3pJ/ANrHGDGB1ufj3P7CwcnX/fSrxlOMRhhg/ZPBVAabUr8/1hvj8ooSDa3ekVgx12hJBuY3cgt6\n",
       "e+ky2SiDbTneqVP890OEIkwtTpQw5t2op/z5DixFrCXXOAmHZwy7l5biFRmsgvj2RpgReJTgNGST\n",
       "DNTqbBJ9wwlrhBJMiRJGecRP50c9pdDarLi9sPNmEsNsmE20cjIdGayC+PoYEngULgHZJANjzbIM\n",
       "vuKEJUKikoHHyFmEzqbz7wha2N555mFlHWguQUb+uklFBe3IYBXE1/OjAYH5qtcHfY9sksF29gOo\n",
       "6cjgG05YIxRh3jK4MUa10GM+P7Q2Ze95tI1ru5v0UbDMXs/DTtNJEddAfD8qjAmMx6HgNA3ZLAPa\n",
       "X1KwRd2KfMEJa4QizCADj1FL7sc8ZVc7tDYWFEFsAI4E8MzGKlIENfI8gz5XQHx9TAi8JYNINstA\n",
       "237aRjoy+IITFgkFmBIVGC1z45z3EYiAVgxExkbJUwk9I2lVdbYlYvhpCcSzog0kp8cokgICSDHO\n",
       "lSLyshQ71mUQyGYZoEFyIBWUwUMnyHFqMCFUwgwyuDES7y92R7yDWUopYW2hwwi0QiDCZ1pooaFn\n",
       "jlKPUrdnXpBBBeJBMVStT4mdQy9h2Y+kkIC8xK6cN52jDrsug0CWFz7KaqRnMSyFMnjmBDpMDSaE\n",
       "cAkzyODG6A8oExdL+zNftgdTzuyypSyRUlLJO3lk9gzam0XnoiODGsQgPxGUIheVaNphdeQtsbN+\n",
       "Ot4sX58Auqo35jeV2p7JIJDNMuB21Dk5BGqhrThhKoPXhFAJM/gjYHRuU3EfE3KHi7auo9Bi4MCz\n",
       "HRkUKWUoiAnudBErEG1Ko65dfn2m2SavaWV+bL3YBfZDdRuhbSTtEzDBX4f/nIp1GQSyWQbGHuO2\n",
       "bN41YUVmTgDbgPZSgxVCCWaQQcDoHpzy97vCIa0kezKwIJd5JYP7KVVDI85RgWi8zBA35vpMXzKi\n",
       "ExkU2PsnK6nzhTGBIAD/+Z5iCRVunLv/hyzJYHwaYFHwiJ2cvhPgNqC+R0RIo7FXhOKy1jIIGK9N\n",
       "gnO/w3lKgyZoZp0sbIEe92MaFI7wBcGhDDIITRVSklwVL8P3z+kwwQfmaiiDEvvem6kpoicE7hPA\n",
       "Kx5ZXpf5D4PCIDc4mYHxqlyJl9uAdlKDF4Ssvqm0QeHGyDhBKbN1wQWeS4QBS0Ghs06KqPPBEpf/\n",
       "oFAGCYTRyLpNcblDk7oPqfHlAo1HMiiwY9GbqanTJgT8CXAfpNcO4npVBlqASqGf8B2km7aklYgK\n",
       "nmwDOuwajAi5cCkLmKlSCOUBTYshBwmKOoEFA1FRHPYKRszA2hdmBMGNchicQv1Xi/xeu99tkgxk\n",
       "UGD3693OFNQxiaSp4PP+vOvpK8OW7xeMg74BF/3sNTohKhhPtgFdSA1qQpJtB4YFY8K4J2aMDioz\n",
       "W1uGMmtJ6xB0xmuH3YpwpuSEmOTMQUEZZBBuWuyOLXH46sdX00zdMuDanAMZFNjDZqtnqmQwJXAf\n",
       "mpLdUyk8lUGHbJbBYFuB1CUWMcEJUcF8sg2alVogxJk6SpjhoQmjTo4dJrY5xtnJpeHOR43LushH\n",
       "HRkkEDt28dBJ2P2dIZUbNoTVQAYFdsQ6M6Vfb08ILHQRAdksA9H/YzyqZZMT3IL6xRtug7X2Qo9Q\n",
       "00yGGLEdTU4ktMaXFuN2WTtg55Tb4AWXGDuTVzK4ntGXQYndnL2ZOvBeE4AH45hRJFvcMC72gtqW\n",
       "hlcwpZd6p9vg9egRijDjDSM4moQdvSCAT2gt3Jm8bIbAyfyWdVERM98HMQzF/vhtFdkVG2H3O6ad\n",
       "aaOv36H85KbbgItmvXpZ2MrAK3jHCM+3wcKAhEx90awfXWjm1jqb3IDxJgMm/LEMOj4Kh2IH1Ogr\n",
       "qotxoUHHP3h/MJHNbx/hN2XgFUxd7326DbZ3CCWYoWeFH00nhmlu9WfVcqmXj/jsTnEoA8OeRfUR\n",
       "gScjk42u13T5u+dkNcbbYHuDUIR5PRI9whicKKH1+fhFMtiOTk/2x14UDjL44Zdo3oP6GKM+oPW5\n",
       "DD76fwqThdUwG/+ZF9zc/1O4cVHz+8vgT8D4b/zQ+B8xPUlOLte/AgAAAABJRU5ErkJggg==\n",
       "\" style=\"display:inline;vertical-align:middle;\" /></a><br>(see <a class=\"ProveItLink\" href=\"../__pv_it/7edb62f7f68d2e8c624c0965dc9c39af199823bf0/dependencies.ipynb\">dependencies</a>)<br>"
      ],
      "text/plain": [
       "natPosInduction: forall_{P} ((P(1) and [forall_{m in Naturals | P(m)} P(m + 1)]) => [forall_{n in NaturalsPos} P(n)])"
      ]
     },
     "execution_count": 2,
     "metadata": {},
     "output_type": "execute_result"
    }
   ],
   "source": [
    "%proving natPosInduction presuming []"
   ]
  },
  {
   "cell_type": "code",
   "execution_count": null,
   "metadata": {},
   "outputs": [],
   "source": []
  }
 ],
 "metadata": {
  "kernelspec": {
   "display_name": "Python 3",
   "language": "python",
   "name": "python3"
  }
 },
 "nbformat": 4,
 "nbformat_minor": 0
}
