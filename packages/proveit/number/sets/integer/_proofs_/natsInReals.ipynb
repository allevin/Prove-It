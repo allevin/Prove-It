{
 "cells": [
  {
   "cell_type": "markdown",
   "metadata": {},
   "source": [
    "Proof of <a class=\"ProveItLink\" href=\"../../../../_context_.ipynb\">proveit</a>.<a class=\"ProveItLink\" href=\"../../../_context_.ipynb\">number</a>.<a class=\"ProveItLink\" href=\"../../_context_.ipynb\">sets</a>.<a class=\"ProveItLink\" href=\"../_context_.ipynb\">integer</a>.<a class=\"ProveItLink\" href=\"../_theorems_.ipynb#natsInReals\">natsInReals</a> theorem\n",
    "========"
   ]
  },
  {
   "cell_type": "code",
   "execution_count": 1,
   "metadata": {},
   "outputs": [],
   "source": [
    "import proveit\n",
    "context = proveit.Context('..') # the theorem's context is in the parent directory"
   ]
  },
  {
   "cell_type": "code",
   "execution_count": 2,
   "metadata": {},
   "outputs": [
    {
     "name": "stdout",
     "output_type": "stream",
     "text": [
      "Beginning proof of natsInReals\n",
      "Recorded 'presuming' information\n",
      "Presuming previous theorems (applied transitively).\n"
     ]
    },
    {
     "data": {
      "text/html": [
       "<strong id=\"natsInReals\">natsInReals:</strong> <a class=\"ProveItLink\" href=\"../__pv_it/413af6371478b4ed546b9c1f59983c05c27dab5c0/expr.ipynb\"><img src=\"data:image/png;base64,iVBORw0KGgoAAAANSUhEUgAAAHcAAAAVBAMAAACOK2zoAAAAMFBMVEX///8QEBC6urrMzMxUVFRm\n",
       "ZmZERETc3NwyMjKqqqp2dnaIiIiYmJgiIiLu7u4AAAAU9Wx4AAAAAXRSTlMAQObYZgAAAhJJREFU\n",
       "OMtjYKAEPMAnybQBt9whIL4AYpzGocAEi9iJb/kdEkBDWQ0YGFaCBPpwaMYqnlDCYDajgIGhgYGh\n",
       "DMhlT8CulxurqxNKGdieA3WcYmDgAHqadQJ2zYzIAcK34+7dBqhmLgOg5ocMDDzLy8trcbhaA5lj\n",
       "cQ5hM1gzG9DKb2lpt3BojgJ5yXuROIjNnofkbBaQs7kCGBicGRjScWjuAWLFArYPIDZbAZJm3RNA\n",
       "HifQEyoMfA3IrgtV4BaF+lUIaOEfBlZwcD5DBFjh3RugQGISYGDgZeA+AAuTraEHeBLWMayD8j8x\n",
       "MLB8YOAFh7ni3bvwAFNlA5nODHQR9wFeWKBuU3/3gOc0K7Jm/gSG9wao6SWhlFXZAaqZrwEkXror\n",
       "mYEHGAIMPJbmG2CaJRkY6jcwzAcn4bfI8dy3B+pshnQnoAnX2f8xcICkeAzWHYZpzmFgeD+BwYMT\n",
       "ZDXLASTNJixAIR6QJ6YCkzdLAPMFBiuIZi4uP6iypcA0dIDzKhc4PC4haeaakA6JKgZGYIDwK3A7\n",
       "MNimpaVt4DFgP3cPqkwXFM2bzDaBORXB8IyRzNDWP4GBQwFkF9BL7x+wnSt4ArGZQXkfLHkWIMf6\n",
       "lN67yHEKSp6wVGxv84ClAKKZB+ZnngX4MvtqeK6PPh3DwJcESs9AwgFvloQligZUPhfQzygCJXg0\n",
       "sxQQKKPY8RRDmxkYAD6Zi3FYdfnKAAAAAElFTkSuQmCC\n",
       "\" style=\"display:inline;vertical-align:middle;\" /></a><br>(see <a class=\"ProveItLink\" href=\"../__pv_it/413af6371478b4ed546b9c1f59983c05c27dab5c0/dependencies.ipynb\">dependencies</a>)<br>"
      ],
      "text/plain": [
       "natsInReals: forall_{a in Naturals} (a in Reals)"
      ]
     },
     "execution_count": 2,
     "metadata": {},
     "output_type": "execute_result"
    }
   ],
   "source": [
    "%proving natsInReals presuming []"
   ]
  },
  {
   "cell_type": "code",
   "execution_count": null,
   "metadata": {},
   "outputs": [],
   "source": []
  }
 ],
 "metadata": {
  "kernelspec": {
   "display_name": "Python 3",
   "language": "python",
   "name": "python3"
  }
 },
 "nbformat": 4,
 "nbformat_minor": 0
}
