{
 "cells": [
  {
   "cell_type": "markdown",
   "metadata": {},
   "source": [
    "Proof of <a class=\"ProveItLink\" href=\"../../../../_context_.ipynb\">proveit</a>.<a class=\"ProveItLink\" href=\"../../../_context_.ipynb\">number</a>.<a class=\"ProveItLink\" href=\"../../_context_.ipynb\">sets</a>.<a class=\"ProveItLink\" href=\"../_context_.ipynb\">integer</a>.<a class=\"ProveItLink\" href=\"../_theorems_.ipynb#natsInInts\">natsInInts</a> theorem\n",
    "========"
   ]
  },
  {
   "cell_type": "code",
   "execution_count": 1,
   "metadata": {},
   "outputs": [],
   "source": [
    "import proveit\n",
    "context = proveit.Context('..') # the theorem's context is in the parent directory"
   ]
  },
  {
   "cell_type": "code",
   "execution_count": 2,
   "metadata": {},
   "outputs": [
    {
     "name": "stdout",
     "output_type": "stream",
     "text": [
      "Beginning proof of natsInInts\n",
      "Recorded 'presuming' information\n",
      "Presuming previous theorems (applied transitively).\n"
     ]
    },
    {
     "data": {
      "text/html": [
       "<strong id=\"natsInInts\">natsInInts:</strong> <a class=\"ProveItLink\" href=\"../__pv_it/04813def94bfe331e141faec306a92129663360c0/expr.ipynb\"><img src=\"data:image/png;base64,iVBORw0KGgoAAAANSUhEUgAAADkAAAAPBAMAAACsFXoGAAAAMFBMVEX////c3Nx2dna6uroQEBCI\n",
       "iIhUVFTMzMyYmJiqqqoiIiJmZmZEREQyMjLu7u4AAADjlg78AAAAAXRSTlMAQObYZgAAAPJJREFU\n",
       "GNNjePvn7AOGXb8mMKCAWf/XXlnrAWScYD/AwPABVZIhdh8DLwNQnCGrIJSBwQFNdhMDgyaTAZCR\n",
       "fI+tACYbu2rVqsUgRh4DY0IZiJFexncPKlsVh9DN8+AcWJYzoAYiy7gQyexWjgawLMNmjgCwLJsB\n",
       "QpLvwBsGiCzbg3Sw7FskrWwFiVBZvoS3YNkyJFlrZgWoLEMRO4bsBV4GBiYBsCzHBJDHGbgQkkwT\n",
       "lCF8oCyDIliWGxGcYuwJDAwqQMZhkPgFsDsXw2UP8jxgeK3DwGD7BaiPDyzL8HY7VJLZ58qZs19O\n",
       "owWv2S1oSEIBAJyrQZauZbLWAAAAAElFTkSuQmCC\n",
       "\" style=\"display:inline;vertical-align:middle;\" /></a><br>(see <a class=\"ProveItLink\" href=\"../__pv_it/04813def94bfe331e141faec306a92129663360c0/dependencies.ipynb\">dependencies</a>)<br>"
      ],
      "text/plain": [
       "natsInInts: Naturals subset Integers"
      ]
     },
     "execution_count": 2,
     "metadata": {},
     "output_type": "execute_result"
    }
   ],
   "source": [
    "%proving natsInInts presuming []"
   ]
  },
  {
   "cell_type": "code",
   "execution_count": null,
   "metadata": {},
   "outputs": [],
   "source": []
  }
 ],
 "metadata": {
  "kernelspec": {
   "display_name": "Python 3",
   "language": "python",
   "name": "python3"
  }
 },
 "nbformat": 4,
 "nbformat_minor": 0
}
