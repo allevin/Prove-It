{
 "cells": [
  {
   "cell_type": "markdown",
   "metadata": {},
   "source": [
    "Proof of <a class=\"ProveItLink\" href=\"../../../../_context_.ipynb\">proveit</a>.<a class=\"ProveItLink\" href=\"../../../_context_.ipynb\">number</a>.<a class=\"ProveItLink\" href=\"../../_context_.ipynb\">sets</a>.<a class=\"ProveItLink\" href=\"../_context_.ipynb\">integer</a>.<a class=\"ProveItLink\" href=\"../_theorems_.ipynb#inInterval\">inInterval</a> theorem\n",
    "========"
   ]
  },
  {
   "cell_type": "code",
   "execution_count": 1,
   "metadata": {},
   "outputs": [],
   "source": [
    "import proveit\n",
    "context = proveit.Context('..') # the theorem's context is in the parent directory"
   ]
  },
  {
   "cell_type": "code",
   "execution_count": 2,
   "metadata": {},
   "outputs": [
    {
     "name": "stdout",
     "output_type": "stream",
     "text": [
      "Beginning proof of inInterval\n",
      "Recorded 'presuming' information\n",
      "Presuming previous theorems (applied transitively).\n"
     ]
    },
    {
     "data": {
      "text/html": [
       "<strong id=\"inInterval\">inInterval:</strong> <a class=\"ProveItLink\" href=\"../__pv_it/0aef9d29580dfd0d524d6107307ba43742e68ae80/expr.ipynb\"><img src=\"data:image/png;base64,iVBORw0KGgoAAAANSUhEUgAAARMAAAAXBAMAAADaYbYpAAAAMFBMVEX///8QEBC6urrMzMxUVFRm\n",
       "ZmZERETc3NwyMjKqqqp2dnaIiIiYmJgiIiLu7u4AAAAU9Wx4AAAAAXRSTlMAQObYZgAAA7BJREFU\n",
       "SMe9ll1IFFEUx//uuo67OzsbCUVBoH1AEeEGPoWQfUCiUvtihAqZwUoYtQ+mvmQ+FBRuIUTiS7UP\n",
       "pUgkQhGiFEMfFEmxD5GlCeNLD30pBUZY0jl3Ptdddwu2LsyduXPPnPO7555z5gL/o8kNGSZ3DBgP\n",
       "Wk5tuobTvVUmM360vQd4SPcED8ZzhVKW9q1/bhlxZReb93TRFQIG+dWlXKGkV+RbsZx8YYU5TTht\n",
       "dJMac0TiH/5LlGCPOf2cuChYPD05QslLiryPF6ffZEEp1czpGQrugfb207nan83OgTumZfXKbWu6\n",
       "gNwxH4lM5gqljnLoXvtYlRi0aUkb1DpaEk354OxYjTHtCwN7gGYrF88vZ6Q4ky+6zKcYqczvxmyI\n",
       "B5ZWkSKu1TiZmkHzCIYgc4J5SWYjFEsVbi6RPVJ1sFY8JAd2rx0T3hNiQXpbCawPNGKWwRX7k+00\n",
       "PqPiYAqKdxF5ceAce4FcE4BfteYuOKOutgETGHqQitL3wFbWraHQivqvVDKJ4zqTutZNT+thW1ZE\n",
       "3QFgKgWF3BWkdRSQN93kGr8asNf43ZGYTZ1foLqfqikoz+yUlbs5I6MOFOaoFFFbYUmV0IbNQ/mW\n",
       "ghIIo5T0c6wyitLFJfLU6FFeycJdwpLrt94AnujcHjhQhNQIw+ky/pjIyLH9huo1dB0Cfiq8QQnL\n",
       "Yn4XpAV455Q0ZeWwpscKbxCad9N3E9IieyIh01o+laqBEPQAenTZgSKkrortEDLet2LuPh4bqo/T\n",
       "tRbyoo8HNXaJS0D5QUCXzX8ed8xFMbvWyCCZ7V0h/PywmxdRMCzTrXOEfO6OC+NDcQeKkPrQxI9C\n",
       "RukXidWCF3bUS1/haxT8n4udyRzD1TDpUn7B6GbZbI+nwpHMyKOtDxb7eWvzQh62WY0SuF9HIi3w\n",
       "+TRJs1B0qY/HYMhAuccuKrJyY5twtNQiHCedCzlQWsc2tBCbsgpGN0MqleoGs+wUMrhMtma1gpcU\n",
       "fEEEVKG71qWIqNtSDl/UQjGk/BcMGbqNkNU5vDMLf1IR81ZmLfz29Iz989hZrnVEA+hDR1SaQ9EG\n",
       "7OP34TCv1EQRUgwfgy7D6aQi4TULkxz/y9+hPX3LKrP14w3Yqbrq49w3ok7Fe/KYvLeq/5WNIqTE\n",
       "ejVdhts1bBrNckiQM6NwMXaUWdFURw/0U6xY7Q+PEa3pT0hTmU9xtOj85P+TO2r3S9sfokjpDyzy\n",
       "YLaz7Z0lHzj65VF6I9T0+uzlxxP4z63i35v4DUH0+jHxTUG/AAAAAElFTkSuQmCC\n",
       "\" style=\"display:inline;vertical-align:middle;\" /></a><br>(see <a class=\"ProveItLink\" href=\"../__pv_it/0aef9d29580dfd0d524d6107307ba43742e68ae80/dependencies.ipynb\">dependencies</a>)<br>"
      ],
      "text/plain": [
       "inInterval: forall_{a, b, n in Integers | a <= n <= b} (n in {a...b})"
      ]
     },
     "execution_count": 2,
     "metadata": {},
     "output_type": "execute_result"
    }
   ],
   "source": [
    "%proving inInterval presuming []"
   ]
  },
  {
   "cell_type": "code",
   "execution_count": null,
   "metadata": {},
   "outputs": [],
   "source": []
  }
 ],
 "metadata": {
  "kernelspec": {
   "display_name": "Python 3",
   "language": "python",
   "name": "python3"
  }
 },
 "nbformat": 4,
 "nbformat_minor": 0
}
