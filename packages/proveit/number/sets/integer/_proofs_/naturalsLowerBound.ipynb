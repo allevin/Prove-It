{
 "cells": [
  {
   "cell_type": "markdown",
   "metadata": {},
   "source": [
    "Proof of <a class=\"ProveItLink\" href=\"../../../../_context_.ipynb\">proveit</a>.<a class=\"ProveItLink\" href=\"../../../_context_.ipynb\">number</a>.<a class=\"ProveItLink\" href=\"../../_context_.ipynb\">sets</a>.<a class=\"ProveItLink\" href=\"../_context_.ipynb\">integer</a>.<a class=\"ProveItLink\" href=\"../_theorems_.ipynb#naturalsLowerBound\">naturalsLowerBound</a> theorem\n",
    "========"
   ]
  },
  {
   "cell_type": "code",
   "execution_count": 1,
   "metadata": {},
   "outputs": [],
   "source": [
    "import proveit\n",
    "context = proveit.Context('..') # the theorem's context is in the parent directory"
   ]
  },
  {
   "cell_type": "code",
   "execution_count": 2,
   "metadata": {},
   "outputs": [
    {
     "name": "stdout",
     "output_type": "stream",
     "text": [
      "Beginning proof of naturalsLowerBound\n",
      "Recorded 'presuming' information\n",
      "Presuming previous theorems (applied transitively).\n"
     ]
    },
    {
     "data": {
      "text/html": [
       "<strong id=\"naturalsLowerBound\">naturalsLowerBound:</strong> <a class=\"ProveItLink\" href=\"../__pv_it/42a2a3164c6c581f5e22174579b701a72054dd900/expr.ipynb\"><img src=\"data:image/png;base64,iVBORw0KGgoAAAANSUhEUgAAAHcAAAAVBAMAAACOK2zoAAAAMFBMVEX///8QEBC6urrMzMxUVFRm\n",
       "ZmZERETc3NwyMjKqqqp2dnaIiIiYmJgiIiLu7u4AAAAU9Wx4AAAAAXRSTlMAQObYZgAAAg9JREFU\n",
       "OMullD1IHEEUx/+3e+d6pzcXuMIurChpLLwiWGiRIxYRbESQgEYRi7vC5go/ivPjELQMBxJI5xZi\n",
       "CEE5iQFDEJYcWpxKQhQLQTgbGz8QxRQW4pvdndtVbs7Cgd19b9785r15780CzxnFitYmuek3PX+5\n",
       "sC1ZoMbLTrO+HzEEYsBXrn2UwNWeuM5XSmJYZ3tABhgjRRuUwL+8yuf3QtoA1oGCvXkgK4FfPtBe\n",
       "tTvCPtCcwjFQ+2V8fFLCKpmHesuQ/b0B3mRRRS7/JxKHEjhgUL6T6TVDTIzM8Ld2S3AOoS6AYknK\n",
       "8mUCRkeOXZdmRvcEbCBIcTWCeaNTZ7uxOmDLPh2KfgB2VbLuDriw8oLyjhpT2E57PmArVAw5FYro\n",
       "YEQG70R9N1Y8YauXIDQsqlkzNHWBnVyXB+ak34mMLefchJkWzDKvKed9TYvAJrfk59MC9lE+AxlE\n",
       "TEvX+k23VAspK2wk3wJnzWY4BstDPnTW6sBVtNpn4E+Rp1vryHqaZJkc8uWfqL2n1hFJqVZJ8jAW\n",
       "HZgXY1rHUpDaGGO6255ZFrWt8PGTdKIe6kEiMUzwxLkDK7RtPWE/H1+M3jXarprvVsuXRtGjsLjt\n",
       "WWkTGayrdF2PhaBdItqAdzaMgoALleBvpS4eRK+JEwpEmdPhL3clJ4/4+OfG/qjxsURn9g4tLnfs\n",
       "Tz31k0rLTd+Be6fUjPtjtxU8AAAAAElFTkSuQmCC\n",
       "\" style=\"display:inline;vertical-align:middle;\" /></a><br>(see <a class=\"ProveItLink\" href=\"../__pv_it/42a2a3164c6c581f5e22174579b701a72054dd900/dependencies.ipynb\">dependencies</a>)<br>"
      ],
      "text/plain": [
       "naturalsLowerBound: forall_{n in Naturals} (n >= 0)"
      ]
     },
     "execution_count": 2,
     "metadata": {},
     "output_type": "execute_result"
    }
   ],
   "source": [
    "%proving naturalsLowerBound presuming []"
   ]
  },
  {
   "cell_type": "code",
   "execution_count": null,
   "metadata": {},
   "outputs": [],
   "source": []
  }
 ],
 "metadata": {
  "kernelspec": {
   "display_name": "Python 3",
   "language": "python",
   "name": "python3"
  }
 },
 "nbformat": 4,
 "nbformat_minor": 0
}
