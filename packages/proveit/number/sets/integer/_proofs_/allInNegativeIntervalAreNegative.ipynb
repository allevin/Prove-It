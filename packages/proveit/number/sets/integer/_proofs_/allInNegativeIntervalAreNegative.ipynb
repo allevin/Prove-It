{
 "cells": [
  {
   "cell_type": "markdown",
   "metadata": {},
   "source": [
    "Proof of <a class=\"ProveItLink\" href=\"../../../../_context_.ipynb\">proveit</a>.<a class=\"ProveItLink\" href=\"../../../_context_.ipynb\">number</a>.<a class=\"ProveItLink\" href=\"../../_context_.ipynb\">sets</a>.<a class=\"ProveItLink\" href=\"../_context_.ipynb\">integer</a>.<a class=\"ProveItLink\" href=\"../_theorems_.ipynb#allInNegativeIntervalAreNegative\">allInNegativeIntervalAreNegative</a> theorem\n",
    "========"
   ]
  },
  {
   "cell_type": "code",
   "execution_count": 1,
   "metadata": {},
   "outputs": [],
   "source": [
    "import proveit\n",
    "context = proveit.Context('..') # the theorem's context is in the parent directory"
   ]
  },
  {
   "cell_type": "code",
   "execution_count": 2,
   "metadata": {},
   "outputs": [
    {
     "name": "stdout",
     "output_type": "stream",
     "text": [
      "Beginning proof of allInNegativeIntervalAreNegative\n",
      "Recorded 'presuming' information\n",
      "Presuming previous theorems (applied transitively).\n"
     ]
    },
    {
     "data": {
      "text/html": [
       "<strong id=\"allInNegativeIntervalAreNegative\">allInNegativeIntervalAreNegative:</strong> <a class=\"ProveItLink\" href=\"../__pv_it/8b1aeb2a306e00d642194580f48977903d41ce440/expr.ipynb\"><img src=\"data:image/png;base64,iVBORw0KGgoAAAANSUhEUgAAAR0AAAAZBAMAAAD+oufqAAAAMFBMVEX///8QEBC6urrMzMxUVFRm\n",
       "ZmZERETc3NwyMjKqqqp2dnaIiIiYmJgiIiLu7u4AAAAU9Wx4AAAAAXRSTlMAQObYZgAABANJREFU\n",
       "SMfNl0toE0EYx//ZzaNNNpuigqggUXxdxEW8KEqDDxQPEhDroyrFR4qokIMaEbWheFAUKYjgzVxU\n",
       "fBJEPaRVgiiIYgl6KD5ZwWKpaEXBoJbiNzP7SraNTdqDC5vN7O5/5jffa2aBmg//ux6M7zH/XWYM\n",
       "6jDG/QjE/jsefQw8arUSKTviIyUqeAqs8aw2Hm4hJTt6yaLhb/d2rgfWC56r7MbZ2niCHXSpq8LC\n",
       "I4zzAl801AmeQ+zSUhsP1x0avSLkMuVBjd0uIJSGkuE8bHq+jhrjmc138+gVnnJTLmrnHcUgFaE2\n",
       "cB7lSip1rNb8eppKpQqjV8wrb6/gl0gc8i9gj8j3n4nE61p5IonE/ipK2BbKsHupzrVG88JGcW3L\n",
       "QP4DXBI8xNhq5eNJV4aKiaTNdvB63MHj1eBPlrx/JF9qgTSkG1brDOm9pzGg8db9W7B5fhOe4JkF\n",
       "1RqNMYq1YNKl3Xxgv6AwII4jR+/bPFIMfaUFbXLpdJjQZ81gAjAz3IIBVmpw0wpug2eG4AkjZM/p\n",
       "FJ3q3Q35cDL4Wbd56kTA97biJSK6oz4X0GVKmQz16VIeJrTvfQd0grnIelATUScP+atR8ITyYTvs\n",
       "i3Tem/tVV7D0KGyeCHdKfzvUIYQ7HDxdeG9KmczFw4QlPAxmDW/Ia8yOWDwPWjxqmlXNg7mdLFr+\n",
       "3NEVYd543MGzoHMdgZPxZOLJOnj6ZOrh8e0c5Sl/n40daL6smQRMaPNMoXMTMCjWmcA2wy+U7/VF\n",
       "y19oXU5QPYEhXpmUWJ1YThZrDp77eITQGQZcxuM/EIX6cJDcKGRs7C/JNsvgTGjz7KNzKpShoOHh\n",
       "mw9EmSwgSFXjicFznv574zKrI/6sUljC3+nvh4NnL57Lb7iRy3jqt1Enn9PkZyHzUvavwjLLXySE\n",
       "OtmRLYHvCLacM288Fyn2Ch80K9/hoQEi0RD/q/laliUSiSwytyiZLJ6JaFKbWPypRXic8YNpDCIr\n",
       "NYDLpBM8Su5YPCQkR5gJNp8M3IDAXns5uMC90HudFcZ2g0ch6w7o/m4KvQjC+Y+87JzL44rN8w1v\n",
       "oTZpfIBI0snTLWYRj3IZfBkW8vs+meNxoWUfT7JCsTTWC3NlaVyqH06GqSh5mcjng1SweQo8TlfS\n",
       "kxzmuPZjbfAs1LiMx8p0+Ud34CwO6/TDhJIVP0qlWh7MOnik5mdb0ZiXmml+O6j9aOW1/TGbZ3aO\n",
       "B8+uJEKd2108c+C7IWScZ3bX3bxcRGOSfpjQUQMq7Wv63PtVkX9BFj/Wpt35XN5ZYb/KZeX1x2Q0\n",
       "jgMVeFa7eORh3Ouvbv/8D57AyHvJkObiUTBmnvL1i8d4fBy/L7wVeIb7/jrisoDUVcX3V+wv4zcP\n",
       "OpWkcLwAAAAASUVORK5CYII=\n",
       "\" style=\"display:inline;vertical-align:middle;\" /></a><br>(see <a class=\"ProveItLink\" href=\"../__pv_it/8b1aeb2a306e00d642194580f48977903d41ce440/dependencies.ipynb\">dependencies</a>)<br>"
      ],
      "text/plain": [
       "allInNegativeIntervalAreNegative: forall_{a, b in Integers | b < 0} [forall_{n in {a...b}} (n < 0)]"
      ]
     },
     "execution_count": 2,
     "metadata": {},
     "output_type": "execute_result"
    }
   ],
   "source": [
    "%proving allInNegativeIntervalAreNegative presuming []"
   ]
  },
  {
   "cell_type": "code",
   "execution_count": null,
   "metadata": {},
   "outputs": [],
   "source": []
  }
 ],
 "metadata": {
  "kernelspec": {
   "display_name": "Python 3",
   "language": "python",
   "name": "python3"
  }
 },
 "nbformat": 4,
 "nbformat_minor": 0
}
