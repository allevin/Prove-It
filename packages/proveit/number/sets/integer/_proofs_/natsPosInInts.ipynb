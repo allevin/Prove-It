{
 "cells": [
  {
   "cell_type": "markdown",
   "metadata": {},
   "source": [
    "Proof of <a class=\"ProveItLink\" href=\"../../../../_context_.ipynb\">proveit</a>.<a class=\"ProveItLink\" href=\"../../../_context_.ipynb\">number</a>.<a class=\"ProveItLink\" href=\"../../_context_.ipynb\">sets</a>.<a class=\"ProveItLink\" href=\"../_context_.ipynb\">integer</a>.<a class=\"ProveItLink\" href=\"../_theorems_.ipynb#natsPosInInts\">natsPosInInts</a> theorem\n",
    "========"
   ]
  },
  {
   "cell_type": "code",
   "execution_count": 1,
   "metadata": {},
   "outputs": [],
   "source": [
    "import proveit\n",
    "context = proveit.Context('..') # the theorem's context is in the parent directory"
   ]
  },
  {
   "cell_type": "code",
   "execution_count": 2,
   "metadata": {},
   "outputs": [
    {
     "name": "stdout",
     "output_type": "stream",
     "text": [
      "Beginning proof of natsPosInInts\n",
      "Recorded 'presuming' information\n",
      "Presuming previous theorems (applied transitively).\n"
     ]
    },
    {
     "data": {
      "text/html": [
       "<strong id=\"natsPosInInts\">natsPosInInts:</strong> <a class=\"ProveItLink\" href=\"../__pv_it/4cd5b830d506ea21ad2281ce6db5c1139b46d2730/expr.ipynb\"><img src=\"data:image/png;base64,iVBORw0KGgoAAAANSUhEUgAAAEYAAAAUBAMAAADCRlZLAAAAMFBMVEX////c3Nx2dna6uroQEBCI\n",
       "iIhUVFTMzMyYmJiqqqoiIiJmZmZEREQyMjLu7u4AAADjlg78AAAAAXRSTlMAQObYZgAAAQxJREFU\n",
       "KM9jYIADTgbCgGdQqHn75+wDhl2/JmBTw7n+112vKw0MDCfYDzAwfGDIvXvl7t0AVDWstx8wXABp\n",
       "zSoIZWBwwGoXtwID0wRlICP5HlsBqhrWW6tWrTIAMtgeMIixJwAZ6WV891DUsC99gDDqHA+Ik84Z\n",
       "UIOiRkoAoYQjoANEpTNs5ggAqWGDiicjuegN3wGIGrYH6Q4IYb4LSGrS2QQgavgS3iKpATsSCpg3\n",
       "GEGUMjAUseNQw8sANFQRrIZjwgEk8xcgmJpMBmA+UA2DIrKanXAWY0IZAwMT0I7DoABFducrA3gs\n",
       "C5xj4Nt0gMH2ywE0v/DdLoCyTM76nLnvswFbUmDOhcYFFAAAMcdHko4zLuwAAAAASUVORK5CYII=\n",
       "\" style=\"display:inline;vertical-align:middle;\" /></a><br>(see <a class=\"ProveItLink\" href=\"../__pv_it/4cd5b830d506ea21ad2281ce6db5c1139b46d2730/dependencies.ipynb\">dependencies</a>)<br>"
      ],
      "text/plain": [
       "natsPosInInts: NaturalsPos subset Integers"
      ]
     },
     "execution_count": 2,
     "metadata": {},
     "output_type": "execute_result"
    }
   ],
   "source": [
    "%proving natsPosInInts presuming []"
   ]
  },
  {
   "cell_type": "code",
   "execution_count": null,
   "metadata": {},
   "outputs": [],
   "source": []
  }
 ],
 "metadata": {
  "kernelspec": {
   "display_name": "Python 3",
   "language": "python",
   "name": "python3"
  }
 },
 "nbformat": 4,
 "nbformat_minor": 0
}
