{
 "cells": [
  {
   "cell_type": "markdown",
   "metadata": {},
   "source": [
    "Proof of <a class=\"ProveItLink\" href=\"../../../../_context_.ipynb\">proveit</a>.<a class=\"ProveItLink\" href=\"../../../_context_.ipynb\">number</a>.<a class=\"ProveItLink\" href=\"../../_context_.ipynb\">sets</a>.<a class=\"ProveItLink\" href=\"../_context_.ipynb\">integer</a>.<a class=\"ProveItLink\" href=\"../_theorems_.ipynb#natsPosInRealsPos\">natsPosInRealsPos</a> theorem\n",
    "========"
   ]
  },
  {
   "cell_type": "code",
   "execution_count": 1,
   "metadata": {},
   "outputs": [],
   "source": [
    "import proveit\n",
    "context = proveit.Context('..') # the theorem's context is in the parent directory"
   ]
  },
  {
   "cell_type": "code",
   "execution_count": 2,
   "metadata": {},
   "outputs": [
    {
     "name": "stdout",
     "output_type": "stream",
     "text": [
      "Beginning proof of natsPosInRealsPos\n",
      "Recorded 'presuming' information\n",
      "Presuming previous theorems (applied transitively).\n"
     ]
    },
    {
     "data": {
      "text/html": [
       "<strong id=\"natsPosInRealsPos\">natsPosInRealsPos:</strong> <a class=\"ProveItLink\" href=\"../__pv_it/fcbfd7beccf10cb7dac26ae3b9fa8715e47420800/expr.ipynb\"><img src=\"data:image/png;base64,iVBORw0KGgoAAAANSUhEUgAAAJMAAAAbBAMAAACKKKCTAAAAMFBMVEX///8QEBC6urrMzMxUVFRm\n",
       "ZmZERETc3NwyMjKqqqp2dnaIiIiYmJgiIiLu7u4AAAAU9Wx4AAAAAXRSTlMAQObYZgAAAmpJREFU\n",
       "OMtjYKAYTCBFsRJe2QQg5iLSJGYHgkYRUAIHLx4QNIphNxA/IGyUDwNho3gLGBgugBin8SllF8Ai\n",
       "yNOf9qOxG2EUN9CHK0GMPnxGsQZgE2Vjd2DObGdg6eiQ6AAayfePgaEMZG8CPqMYFbAbFcCQVwZ3\n",
       "FcMdBgYOYGCx4k0a9ii81713b8CMWsyGMCoM6Onl5eW1eIN1I0rC6HmAcBWyUeeB+Fta2i1M/Uhp\n",
       "zgNElOxSLADRZQ+QPOiH5EF9oIQzA0M6lrBGMFOAmEmcIR/MSUcKK6Y77SAWJHXaGzAwqDDwNeA1\n",
       "qhWI6w+AAgMYUQkIo2TvdiJpqAdGDi8D9wEkIYtQBW7RB8hGXQVifwaG2yA2k+zdu7BgDwrIQ9L3\n",
       "Hhh13Ad4Yf7n2xp6gCdhHcM6VhdfF09ko74x8H1GzY5ADwaZoLmKrwEusk393QOe06wM61A82AJM\n",
       "eL8ZOD/wgSy7gGQUx2sk79QbgELSCUiU7kpm4AElax5L8w2oRrkBTfjJwNIwGSU/Ao1idnBGqNIH\n",
       "RfBUoE1819n/MXCAM5fBusOoRu0F4h6GuQELQJy3CkiJYSVbAVzVeXDG2MDAwBLAfIHBCmIUF5cf\n",
       "ilH6oGS1WzkbbAh7qwEsO38z4Mj4CVe1AiwKDHV+BWDWtk1LS9vAY8B+7h5QC8IofgPkVMLpAYlB\n",
       "dNANj8oHbOcKnkBcxaC8D0URywIiike+7/Dc/8De5gFLAcQonnWo5fEFIozigaddpujTMQx8SUCW\n",
       "RhIsK8BBJhFG8Rqg5WFgWGFRVkGEUUeJqyY4CQcW/sITCZwkqIL1AQM1AQCdqJFosXfudQAAAABJ\n",
       "RU5ErkJggg==\n",
       "\" style=\"display:inline;vertical-align:middle;\" /></a><br>(see <a class=\"ProveItLink\" href=\"../__pv_it/fcbfd7beccf10cb7dac26ae3b9fa8715e47420800/dependencies.ipynb\">dependencies</a>)<br>"
      ],
      "text/plain": [
       "natsPosInRealsPos: forall_{a in NaturalsPos} (a in RealsPos)"
      ]
     },
     "execution_count": 2,
     "metadata": {},
     "output_type": "execute_result"
    }
   ],
   "source": [
    "%proving natsPosInRealsPos presuming []"
   ]
  },
  {
   "cell_type": "code",
   "execution_count": null,
   "metadata": {},
   "outputs": [],
   "source": []
  }
 ],
 "metadata": {
  "kernelspec": {
   "display_name": "Python 3",
   "language": "python",
   "name": "python3"
  }
 },
 "nbformat": 4,
 "nbformat_minor": 0
}
