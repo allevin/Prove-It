{
 "cells": [
  {
   "cell_type": "markdown",
   "metadata": {},
   "source": [
    "Proof of <a class=\"ProveItLink\" href=\"../../../../_context_.ipynb\">proveit</a>.<a class=\"ProveItLink\" href=\"../../../_context_.ipynb\">number</a>.<a class=\"ProveItLink\" href=\"../../_context_.ipynb\">sets</a>.<a class=\"ProveItLink\" href=\"../_context_.ipynb\">integer</a>.<a class=\"ProveItLink\" href=\"../_theorems_.ipynb#natsInComplexes\">natsInComplexes</a> theorem\n",
    "========"
   ]
  },
  {
   "cell_type": "code",
   "execution_count": 1,
   "metadata": {},
   "outputs": [],
   "source": [
    "import proveit\n",
    "context = proveit.Context('..') # the theorem's context is in the parent directory"
   ]
  },
  {
   "cell_type": "code",
   "execution_count": 2,
   "metadata": {},
   "outputs": [
    {
     "name": "stdout",
     "output_type": "stream",
     "text": [
      "Beginning proof of natsInComplexes\n",
      "Recorded 'presuming' information\n",
      "Presuming previous theorems (applied transitively).\n"
     ]
    },
    {
     "data": {
      "text/html": [
       "<strong id=\"natsInComplexes\">natsInComplexes:</strong> <a class=\"ProveItLink\" href=\"../__pv_it/fe5b45e3eeea127c3e03bdd32b4d276afa094fe30/expr.ipynb\"><img src=\"data:image/png;base64,iVBORw0KGgoAAAANSUhEUgAAAHcAAAAVBAMAAACOK2zoAAAAMFBMVEX///8QEBC6urrMzMxUVFRm\n",
       "ZmZERETc3NwyMjKqqqp2dnaIiIiYmJgiIiLu7u4AAAAU9Wx4AAAAAXRSTlMAQObYZgAAAhtJREFU\n",
       "OMtjYKAEPMAnybQBt9whIL4AYpzGocAEqyj3jX7ZVAZWAwaGlSBuHw7NWMWZ9RX41m9hYGhgYCgD\n",
       "ctkTsOvlxurqAz4MDJxfGBhOMTBwAD3NOgG7ZkbkAOHbcfcu0DIGngcCQDKEgeEhkL28vLwWh6s1\n",
       "kDkW5yA0K7sDkHzNwMAGtPJbWtotHJqjQF7yXiQOYrPnQQWfMi2AMLgCGBicGRjScWjuAWLFArYP\n",
       "IDZbAVTQivMAhMEJ9IQKA18DsutCFbhFoX4VAlr4h4EVHJzPYAqsmKCamYB+52XgPgALk62hB3gS\n",
       "1jGsg/I/MTCwfGDgBYe54t27kAB7xgx1NjPQRdwHeGGBuk393QOe06zImvkTGN4boKQXjgcOCM18\n",
       "DSDx0l3JDDwBoJiwNN8A0yzJwFC/gWE+OAm/hWnmWQDSzAdxNkO6E5B9nf0fAwdYzmDdYZjmHAaG\n",
       "9xMYPDhBVrPA/MaQow0kdB8w8IA8MRWYvFkCmC8wWEE0c3H5QZUtBTryAOdVLnB4XIJpZnHbx6eW\n",
       "B4kqBkZggPArcDsw2KalpW3gMWA/dw+qTBcUzZvMNoE5FcEw3ab3PzqBPK8ATm9A1z1gO1fwBGIz\n",
       "g/I+WPIsQI71Kb13keMUlDxhqdje5gFLAUQzzzp42ODL7KvhuT76dAwDXxIoPQMJB7xZEpYoGlD5\n",
       "XEA/owiU4NHMUkCgjGLHUwxtZmAAALmggfvUC+0oAAAAAElFTkSuQmCC\n",
       "\" style=\"display:inline;vertical-align:middle;\" /></a><br>(see <a class=\"ProveItLink\" href=\"../__pv_it/fe5b45e3eeea127c3e03bdd32b4d276afa094fe30/dependencies.ipynb\">dependencies</a>)<br>"
      ],
      "text/plain": [
       "natsInComplexes: forall_{a in Naturals} (a in Complexes)"
      ]
     },
     "execution_count": 2,
     "metadata": {},
     "output_type": "execute_result"
    }
   ],
   "source": [
    "%proving natsInComplexes presuming []"
   ]
  },
  {
   "cell_type": "code",
   "execution_count": null,
   "metadata": {},
   "outputs": [],
   "source": []
  }
 ],
 "metadata": {
  "kernelspec": {
   "display_name": "Python 3",
   "language": "python",
   "name": "python3"
  }
 },
 "nbformat": 4,
 "nbformat_minor": 0
}
