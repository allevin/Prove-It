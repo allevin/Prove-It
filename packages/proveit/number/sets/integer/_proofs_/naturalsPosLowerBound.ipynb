{
 "cells": [
  {
   "cell_type": "markdown",
   "metadata": {},
   "source": [
    "Proof of <a class=\"ProveItLink\" href=\"../../../../_context_.ipynb\">proveit</a>.<a class=\"ProveItLink\" href=\"../../../_context_.ipynb\">number</a>.<a class=\"ProveItLink\" href=\"../../_context_.ipynb\">sets</a>.<a class=\"ProveItLink\" href=\"../_context_.ipynb\">integer</a>.<a class=\"ProveItLink\" href=\"../_theorems_.ipynb#naturalsPosLowerBound\">naturalsPosLowerBound</a> theorem\n",
    "========"
   ]
  },
  {
   "cell_type": "code",
   "execution_count": 1,
   "metadata": {},
   "outputs": [],
   "source": [
    "import proveit\n",
    "context = proveit.Context('..') # the theorem's context is in the parent directory"
   ]
  },
  {
   "cell_type": "code",
   "execution_count": 2,
   "metadata": {},
   "outputs": [
    {
     "name": "stdout",
     "output_type": "stream",
     "text": [
      "Beginning proof of naturalsPosLowerBound\n",
      "Recorded 'presuming' information\n",
      "Presuming previous theorems (applied transitively).\n"
     ]
    },
    {
     "data": {
      "text/html": [
       "<strong id=\"naturalsPosLowerBound\">naturalsPosLowerBound:</strong> <a class=\"ProveItLink\" href=\"../__pv_it/470e836f7439223b2b91489ed535733df819359a0/expr.ipynb\"><img src=\"data:image/png;base64,iVBORw0KGgoAAAANSUhEUgAAAIMAAAAVBAMAAACXjEALAAAAMFBMVEX///8QEBC6urrMzMxUVFRm\n",
       "ZmZERETc3NwyMjKqqqp2dnaIiIiYmJgiIiLu7u4AAAAU9Wx4AAAAAXRSTlMAQObYZgAAAgVJREFU\n",
       "OMtjYKAcPCBCjTZuqUNAfAHEOI3XBGYHHBJ5DAysBgwMK0HsPrxGcCC59O06BPvZPyDRwMBQBqTY\n",
       "E/AasRuZMyMcxnriAjLiFMQK1gl4jZBD4ak5w1jcICMeMjDwLC8vr8VrAlMDKt8sCdkINqD139LS\n",
       "bmHRuADOYgUytdOrt8BFSpqQjOAKYGAAuisdixEBiNA8ADTQYwPfZ7hI6WWEEZxAN6ow8DXgNYJR\n",
       "gYFJ4RoD3ye4yNk4hBFMAgwMvAzcB5ATQWsQw8Y4ZCP4FRj4gPo5/0H5fHvXIXmE+QOQcYAXHu+v\n",
       "Q2MYjnE94HoQ4nLFZQLCCJB+Fqhb+dZuYEAzgq/BBB5LSXXvGM5sCOB6gOIRoFmsDQz8B8A2scce\n",
       "QIlUkEcY0p2AURutvYSB4ShI4vDkalQj2IB6GBcwnH8AihJ2D0QaAhvBA3LcVGA2eaN/gNeAAezU\n",
       "w1xvrFCMAEVbvQLDMk5gdmAoU2BANQIky8AI9FvdDgb+AmZwzB9mWLAExQgmoBWKQM070eKMNfBH\n",
       "DDDKQWbygPzoDVTFfC0tLRtoRM1boEgBQq04vrT7EM4SZghl4nOAuILJGrUQOYXPiNUwBvsHBmFl\n",
       "BneIEQynHuDM7LV3QeASnI9IlkwJDFEHGJ4B/cXUpsDAgmoRuwNuR7AUoAksA4YFFlCN24jNDAwA\n",
       "Of2NBGq3icoAAAAASUVORK5CYII=\n",
       "\" style=\"display:inline;vertical-align:middle;\" /></a><br>(see <a class=\"ProveItLink\" href=\"../__pv_it/470e836f7439223b2b91489ed535733df819359a0/dependencies.ipynb\">dependencies</a>)<br>"
      ],
      "text/plain": [
       "naturalsPosLowerBound: forall_{n in NaturalsPos} (n >= 1)"
      ]
     },
     "execution_count": 2,
     "metadata": {},
     "output_type": "execute_result"
    }
   ],
   "source": [
    "%proving naturalsPosLowerBound presuming []"
   ]
  },
  {
   "cell_type": "code",
   "execution_count": null,
   "metadata": {},
   "outputs": [],
   "source": []
  }
 ],
 "metadata": {
  "kernelspec": {
   "display_name": "Python 3",
   "language": "python",
   "name": "python3"
  }
 },
 "nbformat": 4,
 "nbformat_minor": 0
}
