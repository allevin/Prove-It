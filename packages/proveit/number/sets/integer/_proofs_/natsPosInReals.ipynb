{
 "cells": [
  {
   "cell_type": "markdown",
   "metadata": {},
   "source": [
    "Proof of <a class=\"ProveItLink\" href=\"../../../../_context_.ipynb\">proveit</a>.<a class=\"ProveItLink\" href=\"../../../_context_.ipynb\">number</a>.<a class=\"ProveItLink\" href=\"../../_context_.ipynb\">sets</a>.<a class=\"ProveItLink\" href=\"../_context_.ipynb\">integer</a>.<a class=\"ProveItLink\" href=\"../_theorems_.ipynb#natsPosInReals\">natsPosInReals</a> theorem\n",
    "========"
   ]
  },
  {
   "cell_type": "code",
   "execution_count": 1,
   "metadata": {},
   "outputs": [],
   "source": [
    "import proveit\n",
    "context = proveit.Context('..') # the theorem's context is in the parent directory"
   ]
  },
  {
   "cell_type": "code",
   "execution_count": 2,
   "metadata": {},
   "outputs": [
    {
     "name": "stdout",
     "output_type": "stream",
     "text": [
      "Beginning proof of natsPosInReals\n",
      "Recorded 'presuming' information\n",
      "Presuming previous theorems (applied transitively).\n"
     ]
    },
    {
     "data": {
      "text/html": [
       "<strong id=\"natsPosInReals\">natsPosInReals:</strong> <a class=\"ProveItLink\" href=\"../__pv_it/3fd828e6464cdab704eb7ed937e232316371156a0/expr.ipynb\"><img src=\"data:image/png;base64,iVBORw0KGgoAAAANSUhEUgAAAIMAAAAVBAMAAACXjEALAAAAMFBMVEX///8QEBC6urrMzMxUVFRm\n",
       "ZmZERETc3NwyMjKqqqp2dnaIiIiYmJgiIiLu7u4AAAAU9Wx4AAAAAXRSTlMAQObYZgAAAitJREFU\n",
       "OMullEtoE1EUhv8m80hmbqYiiLoQIlV0U5hFqQ8Ug3ZR8UE33aiLwcJkIzhCHysxG8VFrdkI7hRB\n",
       "RIQhVHQhIkE3xUDJRixCZAqCC9EUF12JeE6Tydyx8So4MMOZe8/95v7/PWeA/7+iv6dkan+ee013\n",
       "k4OGEjHSZ2xp/fLNHYTWXeAxDywoEX1nvWmM3g2ACjBLr6anIth9dXgzMD7TurdAjszQqyrEgGzX\n",
       "l1utlRhhuYRYBcSjubmrSh37pTg7HyW72EAY9Pl13/+weZ2VhOdY6qkH2zmejSQhGguxJoATQHkz\n",
       "Qk/Cebp3B8Yax2XZi+ElsjNPfu6BU1EittImfkBny53Ed+9Ka4UtzGwBCrDr0tqDk0V7WyQjvgPa\n",
       "Ggp8LpldrVbPzr0Gq8rS7ux6IRboPJusCy9EqI+dGTspIQY9tF3OL0lC9KFSF+FUetX3fN+3SDR0\n",
       "hCkhO4FrNdzjVnCashcLL7tCUD5Oj5kXUxBkLsShA7U04hLQrmI8z9s4LSNGNBoSbOQdQjvvzZ/I\n",
       "8ZRwwzdpxEOqv3r+3cYxfy1KCKta7hwqBsgobSLbxOEOwrLOphDDXBaLo4scm9fdXptN4cbtKnIM\n",
       "FSRysGiXcNT3/ZpwzeWPlCsVeCAdWH68eyLxtRoH7chYDj51doGhV6kkcV9V/k+SVjp2JNKCDkKE\n",
       "/9DscR30yjJzvnEBzkVuKnqU0mnTCoQW/NZb5EWfNFPx43sK/ALERoxfbK1ARwAAAABJRU5ErkJg\n",
       "gg==\n",
       "\" style=\"display:inline;vertical-align:middle;\" /></a><br>(see <a class=\"ProveItLink\" href=\"../__pv_it/3fd828e6464cdab704eb7ed937e232316371156a0/dependencies.ipynb\">dependencies</a>)<br>"
      ],
      "text/plain": [
       "natsPosInReals: forall_{a in NaturalsPos} (a in Reals)"
      ]
     },
     "execution_count": 2,
     "metadata": {},
     "output_type": "execute_result"
    }
   ],
   "source": [
    "%proving natsPosInReals presuming []"
   ]
  },
  {
   "cell_type": "code",
   "execution_count": null,
   "metadata": {},
   "outputs": [],
   "source": []
  }
 ],
 "metadata": {
  "kernelspec": {
   "display_name": "Python 3",
   "language": "python",
   "name": "python3"
  }
 },
 "nbformat": 4,
 "nbformat_minor": 0
}
