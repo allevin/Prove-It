{
 "cells": [
  {
   "cell_type": "markdown",
   "metadata": {},
   "source": [
    "Proof of <a class=\"ProveItLink\" href=\"../../../../_context_.ipynb\">proveit</a>.<a class=\"ProveItLink\" href=\"../../../_context_.ipynb\">number</a>.<a class=\"ProveItLink\" href=\"../../_context_.ipynb\">sets</a>.<a class=\"ProveItLink\" href=\"../_context_.ipynb\">integer</a>.<a class=\"ProveItLink\" href=\"../_theorems_.ipynb#inNaturalsPosIfPos\">inNaturalsPosIfPos</a> theorem\n",
    "========"
   ]
  },
  {
   "cell_type": "code",
   "execution_count": 1,
   "metadata": {},
   "outputs": [],
   "source": [
    "import proveit\n",
    "context = proveit.Context('..') # the theorem's context is in the parent directory"
   ]
  },
  {
   "cell_type": "code",
   "execution_count": 2,
   "metadata": {},
   "outputs": [
    {
     "name": "stdout",
     "output_type": "stream",
     "text": [
      "Beginning proof of inNaturalsPosIfPos\n",
      "Recorded 'presuming' information\n",
      "Presuming previous theorems (applied transitively).\n"
     ]
    },
    {
     "data": {
      "text/html": [
       "<strong id=\"inNaturalsPosIfPos\">inNaturalsPosIfPos:</strong> <a class=\"ProveItLink\" href=\"../__pv_it/72a335b12b0279e063bbd9b9be14a7657ff1ca180/expr.ipynb\"><img src=\"data:image/png;base64,iVBORw0KGgoAAAANSUhEUgAAALcAAAAbBAMAAADMngM5AAAAMFBMVEX///8QEBC6urrMzMxUVFRm\n",
       "ZmZERETc3NwyMjKqqqp2dnaIiIiYmJgiIiLu7u4AAAAU9Wx4AAAAAXRSTlMAQObYZgAAAuBJREFU\n",
       "SMe1lk9oE0EUxr8ku0mbTbYi4p+DUFG0t64ogtLSYEVERHOpCIoEtelBxBVqclEbD0KxtRWKIIqQ\n",
       "i1R7KL3UQ4uwBwUloAEPWjW4hx5Ki7ZQqIhQfDPJ7k7SmO1GfLBh5u3sb2be++ZNgP9g9//tc39z\n",
       "rbcJesL1w/fDDR6I1ctWh1zhmKbHrAcuGe7wqA7kWSPnEX6t2m6Gk0OQv81YcIXi8pw1hjzCu6o5\n",
       "g8YBoAlSf//W/gGabBVIkTuU8AjfWDVWH5QJ+Oyw4CvQQEGXPQozsCT2Fu4VPnF4i9kpwk8DkdF0\n",
       "+qbHhSsbxJkGS5qQ9sXmTAH+np6VZPKzV7Fk6Kd3aofOOilLb5L2OJAQ4K30ohPoqUZYcwbHJu3U\n",
       "kRD8W3CVd+yPJU1uznF48fx0aMAuqBkx55uedsed6Zmli7HI+q1D10AD+gwWVBJFwoHjpLTXIfXR\n",
       "8qJQrCOhTnYZUT28YJbDU+f5odCwWnJECX4K+MKrzPZCoZRQDbPqbQe+SDJRjKgVtRd7fpgRtN1A\n",
       "ORwt42ysiRkBvgJ1GWU1hOCBbMXK1QyrQtenLiLCw4F4XIAzP/BwgkJoFpfKwhJD6Dcal1S227wA\n",
       "x9ugANdYRg7TkI+hVTRwX+Sg5sC5n+yNwZJvwaUE1F+kmRHWOSHCwykH3srE9IDmluKBPA5x3/y8\n",
       "UH24n9lLXVi5Qr5BPIlnWee7Jasga5xx4Ezn8NGem5qpzrQnk8kJZMdxy4ZzP0vbXSzq2GZdFXRC\n",
       "e6d3XubY0J3iTv3Dm+l3zoE/43EwWbaC7/RZPmbEwKgN537KWrcJn4af1nfLov4bjxXVUmkDVsNn\n",
       "drSZEguSLMOft+Hcj8AlnevcFtDx9Vwo9lL8Z3PnoF6g1qsjY1diNpz7Q0f5OZ+etC+W9nXAIxWl\n",
       "NsxiXnadcNutrSnd6yijUc3trvqLhTLu8NeoE45HruzaF1DNvwYR17jIdd38HuwP1Sy5J17EVJMA\n",
       "AAAASUVORK5CYII=\n",
       "\" style=\"display:inline;vertical-align:middle;\" /></a><br>(see <a class=\"ProveItLink\" href=\"../__pv_it/72a335b12b0279e063bbd9b9be14a7657ff1ca180/dependencies.ipynb\">dependencies</a>)<br>"
      ],
      "text/plain": [
       "inNaturalsPosIfPos: forall_{a in Integers | a > 0} (a in NaturalsPos)"
      ]
     },
     "execution_count": 2,
     "metadata": {},
     "output_type": "execute_result"
    }
   ],
   "source": [
    "%proving inNaturalsPosIfPos presuming []"
   ]
  },
  {
   "cell_type": "code",
   "execution_count": null,
   "metadata": {},
   "outputs": [],
   "source": []
  }
 ],
 "metadata": {
  "kernelspec": {
   "display_name": "Python 3",
   "language": "python",
   "name": "python3"
  }
 },
 "nbformat": 4,
 "nbformat_minor": 0
}
