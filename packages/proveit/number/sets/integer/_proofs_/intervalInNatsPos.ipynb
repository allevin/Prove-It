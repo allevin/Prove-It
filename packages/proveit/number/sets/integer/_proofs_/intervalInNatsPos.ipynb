{
 "cells": [
  {
   "cell_type": "markdown",
   "metadata": {},
   "source": [
    "Proof of <a class=\"ProveItLink\" href=\"../../../../_context_.ipynb\">proveit</a>.<a class=\"ProveItLink\" href=\"../../../_context_.ipynb\">number</a>.<a class=\"ProveItLink\" href=\"../../_context_.ipynb\">sets</a>.<a class=\"ProveItLink\" href=\"../_context_.ipynb\">integer</a>.<a class=\"ProveItLink\" href=\"../_theorems_.ipynb#intervalInNatsPos\">intervalInNatsPos</a> theorem\n",
    "========"
   ]
  },
  {
   "cell_type": "code",
   "execution_count": 1,
   "metadata": {},
   "outputs": [],
   "source": [
    "import proveit\n",
    "context = proveit.Context('..') # the theorem's context is in the parent directory"
   ]
  },
  {
   "cell_type": "code",
   "execution_count": 2,
   "metadata": {},
   "outputs": [
    {
     "name": "stdout",
     "output_type": "stream",
     "text": [
      "Beginning proof of intervalInNatsPos\n",
      "Recorded 'presuming' information\n",
      "Presuming previous theorems (applied transitively).\n"
     ]
    },
    {
     "data": {
      "text/html": [
       "<strong id=\"intervalInNatsPos\">intervalInNatsPos:</strong> <a class=\"ProveItLink\" href=\"../__pv_it/e891a533be90ab3ec68928536e57fc88d6a62fde0/expr.ipynb\"><img src=\"data:image/png;base64,iVBORw0KGgoAAAANSUhEUgAAATIAAAAbBAMAAAANPB68AAAAMFBMVEX///8QEBC6urrMzMxUVFRm\n",
       "ZmZERETc3NwyMjKqqqp2dnaIiIiYmJgiIiLu7u4AAAAU9Wx4AAAAAXRSTlMAQObYZgAABFlJREFU\n",
       "WMPNl2+IG0UUwF/2T3JJNpt+8C+CRNF62A9dtYhKS4LV0g8iASkopyVom0PwZD/Uy1H/XASFU/Fa\n",
       "UKHgl3xpi0VKlDvReoVFVKwHZ/DU0kp0hUOPlnpyBwZRDue92Z2dTUKzyYk0MElm37y3v5l5f2YA\n",
       "rqjP4f/GzFjT7lvn5suLS6zVWFOa5zdC1uhfRS30JttG/w78z2TLbm+ydJ2TuRshM/tVeQh6k8FZ\n",
       "TkYTnx+QLIM/Rj2yRmJTt6fmofI06D+f88lmONl7+DM9IFkKY2ko+rLrxa6P487dAFnQpqaum3oD\n",
       "YMUlsnGcSmlAMlIcj64Ry3V9rC0y34qJ3cw4RIYz1g8PGgG42I9F18iHd/HjZrNKZMPuTolMLxGZ\n",
       "cbxSeXHg2Py6Uqn0EaIfhHr3LPhrdldh2Q3IjD941vizXD4/MFm2XB6rRdfYzdqW0ednSCXxrNhN\n",
       "6121FJAp65xsJ8CoP0SZareltD84MSuTaRbEw4XgoBNSZwZvD57swxS/u26ukd/bAZmemycySsTq\n",
       "Gie7BcyqUD3qR8tVR/dTHMWFqELf6ZpSkMhYZzmcF64NTwQN7hG9V5lG7gcwV7HzaxABFjys3RHY\n",
       "WOVkGUgHk3oNHXN2j5OxUxfdMNn4XoobC9blGtCAOeHQTA+S1TAZGjwiet+zUQwrSSZuajb9CLBg\n",
       "yXw5iIy/OFnayQQJqcXaR7f97hqw/QUIk8HwSaBcc04mm4Of/C7qdZC12skQS6NB2+Q1U2uda2ZW\n",
       "cchzp55Ct/h7xjV4NiwWJTIuPcKSfd6FH2WyZazRX3x4qgBcD8kSI8cs38+YQYnsFcwJVcg6uBaX\n",
       "ZDI4E6xBwvMzGL2f4Z1N4AqnG0ZhiKTGvVZA5knhKwe2tpHFD+TA/OwfWASuh2SX7El/F9CgRLYL\n",
       "s20NvnExODVHJksFCVtpeWTvYIwVVXpP3WjcR9ILFyAg86QAp+32NUs+weZ4scp2jetp7J0Pwg5R\n",
       "d5hB+EUE4WnWJnNwLInTNr8Vo7A0PCrI/HwGMbZJ2VwaQy5m6aUd5XK5DrWT8JIg86SgvA4rNlwf\n",
       "OgXdgDh1ZROQnoL7tcprMngGQbna725Fx2fB9An1Jh7x1ujQNegXgixV9cgMFx07vmBjVc04SzT4\n",
       "LQeOCzJPqu532avIqQOyBf7+Ym6J1+wamOvwzG/eEDQorVnWCoXH2282q13y8VBdOjnG3Px2d8LO\n",
       "MJ/Q0I6ug9IQZCQFdZ9N+azUcXKchNidFumRn92ori0kpmHCTUyjQRgOXD1SvVixJTJlZP5xyDvK\n",
       "CJvyk6z/+QMnxgqCjKSJXfTqT2fdDrLNoL/P9Yjs1rlZR21B3lZbaFCKADVSjf2y87TNgyWFfiac\n",
       "U/zbbPU4bZNessv2BGTwdBSyxQ4ytctVKN7nPaAH2UQEMJ4YQ2QGbJysvW5CqG5CMoKjjUe7O2mX\n",
       "kTW73TcPdtwKtsinjzO9yfbSffM7uGI//wL300UoTgAyHQAAAABJRU5ErkJggg==\n",
       "\" style=\"display:inline;vertical-align:middle;\" /></a><br>(see <a class=\"ProveItLink\" href=\"../__pv_it/e891a533be90ab3ec68928536e57fc88d6a62fde0/dependencies.ipynb\">dependencies</a>)<br>"
      ],
      "text/plain": [
       "intervalInNatsPos: forall_{a, b in Integers | a > 0} [forall_{n in {a...b}} (n in NaturalsPos)]"
      ]
     },
     "execution_count": 2,
     "metadata": {},
     "output_type": "execute_result"
    }
   ],
   "source": [
    "%proving intervalInNatsPos presuming []"
   ]
  },
  {
   "cell_type": "code",
   "execution_count": null,
   "metadata": {},
   "outputs": [],
   "source": []
  }
 ],
 "metadata": {
  "kernelspec": {
   "display_name": "Python 3",
   "language": "python",
   "name": "python3"
  }
 },
 "nbformat": 4,
 "nbformat_minor": 0
}
