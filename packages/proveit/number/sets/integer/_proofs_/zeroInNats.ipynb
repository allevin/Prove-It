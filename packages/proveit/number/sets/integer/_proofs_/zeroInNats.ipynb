{
 "cells": [
  {
   "cell_type": "markdown",
   "metadata": {
    "collapsed": true
   },
   "source": [
    "Proof of <a class=\"ProveItLink\" href=\"../../../../_context_.ipynb\">proveit</a>.<a class=\"ProveItLink\" href=\"../../../_context_.ipynb\">number</a>.<a class=\"ProveItLink\" href=\"../../_context_.ipynb\">sets</a>.<a class=\"ProveItLink\" href=\"../_context_.ipynb\">integer</a>.<a class=\"ProveItLink\" href=\"../_theorems_.ipynb#zeroInNats\">zeroInNats</a> theorem\n",
    "========"
   ]
  },
  {
   "cell_type": "code",
   "execution_count": 1,
   "metadata": {},
   "outputs": [],
   "source": [
    "import proveit\n",
    "from proveit.number import zero\n",
    "from proveit.logic import InSet\n",
    "from proveit.number import Naturals\n",
    "from proveit._common_ import x, n, S\n",
    "from proveit.number.sets.integer._axioms_ import naturalsDef\n",
    "from proveit.logic.boolean.conjunction._theorems_ import leftFromAnd\n",
    "\n",
    "context = proveit.Context('..') # the theorem's context is in the parent directory"
   ]
  },
  {
   "cell_type": "code",
   "execution_count": 2,
   "metadata": {},
   "outputs": [
    {
     "name": "stdout",
     "output_type": "stream",
     "text": [
      "Beginning proof of zeroInNats\n",
      "Recorded 'presuming' information\n",
      "Presuming theorems in proveit.logic (except any that presume this theorem).\n"
     ]
    },
    {
     "data": {
      "text/html": [
       "<strong id=\"zeroInNats\">zeroInNats:</strong> <a class=\"ProveItLink\" href=\"../__pv_it/50688835e4f8f7c7ea93ceb53b4c2bc2c084e66a0/expr.ipynb\"><img src=\"../__pv_it/50688835e4f8f7c7ea93ceb53b4c2bc2c084e66a0/expr.png\" style=\"display:inline;vertical-align:middle;\" /></a><br>(see <a class=\"ProveItLink\" href=\"../__pv_it/50688835e4f8f7c7ea93ceb53b4c2bc2c084e66a0/dependencies.ipynb\">dependencies</a>)<br>"
      ],
      "text/plain": [
       "zeroInNats: 0 in Naturals"
      ]
     },
     "execution_count": 2,
     "metadata": {},
     "output_type": "execute_result"
    }
   ],
   "source": [
    "%proving zeroInNats presuming [proveit.logic]"
   ]
  },
  {
   "cell_type": "code",
   "execution_count": 3,
   "metadata": {},
   "outputs": [
    {
     "data": {
      "text/html": [
       "<strong id=\"z\">z:</strong> <a class=\"ProveItLink\" href=\"../../../numeral/__pv_it/ec23fc7a1b4222a5f4948b495002b97d6fa18c3c0/expr.ipynb\"><img src=\"../../../numeral/__pv_it/ec23fc7a1b4222a5f4948b495002b97d6fa18c3c0/expr.png\" style=\"display:inline;vertical-align:middle;\" /></a><br>\n",
       "<strong id=\"nat\">nat:</strong> <a class=\"ProveItLink\" href=\"../__pv_it/4434d1ec6afb2b8deec87ded0866b923feb9d6e60/expr.ipynb\"><img src=\"../__pv_it/4434d1ec6afb2b8deec87ded0866b923feb9d6e60/expr.png\" style=\"display:inline;vertical-align:middle;\" /></a><br>"
      ],
      "text/plain": [
       "z: 0\n",
       "nat: Naturals"
      ]
     },
     "execution_count": 3,
     "metadata": {},
     "output_type": "execute_result"
    }
   ],
   "source": [
    "z, nat = zeroInNats.operands"
   ]
  },
  {
   "cell_type": "code",
   "execution_count": 4,
   "metadata": {},
   "outputs": [
    {
     "data": {
      "text/html": [
       "<span style=\"font-size:20px;\"> &#x22A2;&nbsp;<a class=\"ProveItLink\" href=\"../__pv_it/ee3b010b656ce39b3e4c0e002f955d1a0de34dbe0/expr.ipynb\"><img src=\"../__pv_it/ee3b010b656ce39b3e4c0e002f955d1a0de34dbe0/expr.png\" style=\"display:inline;vertical-align:middle;\" /></a></span>"
      ],
      "text/plain": [
       "|= forall_{n} ((n in Naturals) = [forall_{S} (((0 in S) and [forall_{x in S} ((x + 1) in S)]) => (n in S))])"
      ]
     },
     "execution_count": 4,
     "metadata": {},
     "output_type": "execute_result"
    }
   ],
   "source": [
    "naturalsDef"
   ]
  },
  {
   "cell_type": "code",
   "execution_count": 5,
   "metadata": {},
   "outputs": [
    {
     "data": {
      "text/html": [
       "<strong id=\"spec_natDef\">spec_natDef:</strong> <span style=\"font-size:20px;\"> &#x22A2;&nbsp;<a class=\"ProveItLink\" href=\"../__pv_it/4c1aece0f35f1aed0e9ad6042c3384ca41af90b00/expr.ipynb\"><img src=\"../__pv_it/4c1aece0f35f1aed0e9ad6042c3384ca41af90b00/expr.png\" style=\"display:inline;vertical-align:middle;\" /></a></span><br>"
      ],
      "text/plain": [
       "spec_natDef: |= (0 in Naturals) = [forall_{S} (((0 in S) and [forall_{x in S} ((x + 1) in S)]) => (0 in S))]"
      ]
     },
     "execution_count": 5,
     "metadata": {},
     "output_type": "execute_result"
    }
   ],
   "source": [
    "spec_natDef = naturalsDef.specialize({n:z})"
   ]
  },
  {
   "cell_type": "code",
   "execution_count": 6,
   "metadata": {},
   "outputs": [
    {
     "data": {
      "text/html": [
       "<strong id=\"rhsProve\">rhsProve:</strong> <span style=\"font-size:20px;\"> &#x22A2;&nbsp;<a class=\"ProveItLink\" href=\"../__pv_it/62851c14b69eab4a626529a6abfb0d65505314d60/expr.ipynb\"><img src=\"../__pv_it/62851c14b69eab4a626529a6abfb0d65505314d60/expr.png\" style=\"display:inline;vertical-align:middle;\" /></a></span><br>"
      ],
      "text/plain": [
       "rhsProve: |= forall_{S} (((0 in S) and [forall_{x in S} ((x + 1) in S)]) => (0 in S))"
      ]
     },
     "execution_count": 6,
     "metadata": {},
     "output_type": "execute_result"
    }
   ],
   "source": [
    "rhsProve = spec_natDef.rhs.prove()"
   ]
  },
  {
   "cell_type": "code",
   "execution_count": 7,
   "metadata": {},
   "outputs": [
    {
     "name": "stdout",
     "output_type": "stream",
     "text": [
      "zeroInNats has been proven.  Now simply execute \"%qed\".\n"
     ]
    },
    {
     "data": {
      "text/html": [
       "<span style=\"font-size:20px;\"> &#x22A2;&nbsp;<a class=\"ProveItLink\" href=\"../__pv_it/932cd8f8b71e6c89cfa25891905ba91b5905cc6b0/expr.ipynb\"><img src=\"../__pv_it/932cd8f8b71e6c89cfa25891905ba91b5905cc6b0/expr.png\" style=\"display:inline;vertical-align:middle;\" /></a></span>"
      ],
      "text/plain": [
       "|= (0 in Naturals) = TRUE"
      ]
     },
     "execution_count": 7,
     "metadata": {},
     "output_type": "execute_result"
    }
   ],
   "source": [
    "zeroInNats.evaluation()"
   ]
  },
  {
   "cell_type": "code",
   "execution_count": 8,
   "metadata": {},
   "outputs": [
    {
     "data": {
      "text/html": [
       "<table><tr><th>&nbsp;</th><th>step type</th><th>requirements</th><th>statement</th></tr>\n",
       "<tr><td>0</td><td>specialization</td><td>1, 2</td><td><span style=\"font-size:20px;\"> &#x22A2;&nbsp;<a class=\"ProveItLink\" href=\"../__pv_it/50688835e4f8f7c7ea93ceb53b4c2bc2c084e66a0/expr.ipynb\"><img src=\"../__pv_it/50688835e4f8f7c7ea93ceb53b4c2bc2c084e66a0/expr.png\" style=\"display:inline;vertical-align:middle;\" /></a></span></td></tr>\n",
       "<tr><td>&nbsp;</td><td colspan=4 style=\"text-align:left\"><span style=\"font-size:20px;\"><a class=\"ProveItLink\" href=\"../__pv_it/d7d39155e4171e6f9dcc6cab1052e61e6be428700/expr.ipynb\"><img src=\"../__pv_it/d7d39155e4171e6f9dcc6cab1052e61e6be428700/expr.png\" style=\"display:inline;vertical-align:middle;\" /></a></span></td></tr><tr><td>1</td><td>axiom</td><td></td><td><span style=\"font-size:20px;\"> &#x22A2;&nbsp;<a class=\"ProveItLink\" href=\"../../../../logic/boolean/__pv_it/464b3c7344f9d4c18e61245dc2e5438b3dda88b90/expr.ipynb\"><img src=\"../../../../logic/boolean/__pv_it/464b3c7344f9d4c18e61245dc2e5438b3dda88b90/expr.png\" style=\"display:inline;vertical-align:middle;\" /></a></span></td></tr>\n",
       "<tr><td>&nbsp;</td><td colspan=4 style-\"text-align:left\"><a class=\"ProveItLink\" href=\"../../../../logic/boolean/_axioms_.ipynb#eqTrueElim\">proveit.logic.boolean.eqTrueElim</a></td></tr><tr><td>2</td><td>specialization</td><td>3, 4, 5</td><td><span style=\"font-size:20px;\"> &#x22A2;&nbsp;<a class=\"ProveItLink\" href=\"../__pv_it/932cd8f8b71e6c89cfa25891905ba91b5905cc6b0/expr.ipynb\"><img src=\"../__pv_it/932cd8f8b71e6c89cfa25891905ba91b5905cc6b0/expr.png\" style=\"display:inline;vertical-align:middle;\" /></a></span></td></tr>\n",
       "<tr><td>&nbsp;</td><td colspan=4 style=\"text-align:left\"><span style=\"font-size:20px;\"><a class=\"ProveItLink\" href=\"../__pv_it/ef20700041cee016b9c1cf02d09c9a30ae80e0930/expr.ipynb\"><img src=\"../__pv_it/ef20700041cee016b9c1cf02d09c9a30ae80e0930/expr.png\" style=\"display:inline;vertical-align:middle;\" /></a>, <a class=\"ProveItLink\" href=\"../__pv_it/460a79c70d522b52fed293a53416919c1599bf010/expr.ipynb\"><img src=\"../__pv_it/460a79c70d522b52fed293a53416919c1599bf010/expr.png\" style=\"display:inline;vertical-align:middle;\" /></a>, <a class=\"ProveItLink\" href=\"../__pv_it/81a641f2ce86182ac74d053677a77135842a87500/expr.ipynb\"><img src=\"../__pv_it/81a641f2ce86182ac74d053677a77135842a87500/expr.png\" style=\"display:inline;vertical-align:middle;\" /></a></span></td></tr><tr><td>3</td><td>axiom</td><td></td><td><span style=\"font-size:20px;\"> &#x22A2;&nbsp;<a class=\"ProveItLink\" href=\"../../../../logic/equality/__pv_it/3e27e37ba4c21dbc2950467f18d0691b4108abf10/expr.ipynb\"><img src=\"../../../../logic/equality/__pv_it/3e27e37ba4c21dbc2950467f18d0691b4108abf10/expr.png\" style=\"display:inline;vertical-align:middle;\" /></a></span></td></tr>\n",
       "<tr><td>&nbsp;</td><td colspan=4 style-\"text-align:left\"><a class=\"ProveItLink\" href=\"../../../../logic/equality/_axioms_.ipynb#equalsTransitivity\">proveit.logic.equality.equalsTransitivity</a></td></tr><tr><td>4</td><td>specialization</td><td>6</td><td><span style=\"font-size:20px;\"> &#x22A2;&nbsp;<a class=\"ProveItLink\" href=\"../__pv_it/4c1aece0f35f1aed0e9ad6042c3384ca41af90b00/expr.ipynb\"><img src=\"../__pv_it/4c1aece0f35f1aed0e9ad6042c3384ca41af90b00/expr.png\" style=\"display:inline;vertical-align:middle;\" /></a></span></td></tr>\n",
       "<tr><td>&nbsp;</td><td colspan=4 style=\"text-align:left\"><span style=\"font-size:20px;\"><a class=\"ProveItLink\" href=\"../__pv_it/0f6eb1572cef9d10cf6191da0e57ed56b8c1137b0/expr.ipynb\"><img src=\"../__pv_it/0f6eb1572cef9d10cf6191da0e57ed56b8c1137b0/expr.png\" style=\"display:inline;vertical-align:middle;\" /></a></span></td></tr><tr><td>5</td><td>specialization</td><td>7, 8</td><td><span style=\"font-size:20px;\"> &#x22A2;&nbsp;<a class=\"ProveItLink\" href=\"../__pv_it/1f96b38284871e0d677eabd70d096fbe40806b3b0/expr.ipynb\"><img src=\"../__pv_it/1f96b38284871e0d677eabd70d096fbe40806b3b0/expr.png\" style=\"display:inline;vertical-align:middle;\" /></a></span></td></tr>\n",
       "<tr><td>&nbsp;</td><td colspan=4 style=\"text-align:left\"><span style=\"font-size:20px;\"><a class=\"ProveItLink\" href=\"../__pv_it/d48ebd1c9402e91f9d9ee26c333ff3f435f2b38c0/expr.ipynb\"><img src=\"../__pv_it/d48ebd1c9402e91f9d9ee26c333ff3f435f2b38c0/expr.png\" style=\"display:inline;vertical-align:middle;\" /></a></span></td></tr><tr><td>6</td><td>axiom</td><td></td><td><span style=\"font-size:20px;\"> &#x22A2;&nbsp;<a class=\"ProveItLink\" href=\"../__pv_it/ee3b010b656ce39b3e4c0e002f955d1a0de34dbe0/expr.ipynb\"><img src=\"../__pv_it/ee3b010b656ce39b3e4c0e002f955d1a0de34dbe0/expr.png\" style=\"display:inline;vertical-align:middle;\" /></a></span></td></tr>\n",
       "<tr><td>&nbsp;</td><td colspan=4 style-\"text-align:left\"><a class=\"ProveItLink\" href=\"../_axioms_.ipynb#naturalsDef\">proveit.number.sets.integer.naturalsDef</a></td></tr><tr><td>7</td><td>axiom</td><td></td><td><span style=\"font-size:20px;\"> &#x22A2;&nbsp;<a class=\"ProveItLink\" href=\"../../../../logic/boolean/__pv_it/04576f2f89fdf94b2e1520e8f4ab361286daf7f30/expr.ipynb\"><img src=\"../../../../logic/boolean/__pv_it/04576f2f89fdf94b2e1520e8f4ab361286daf7f30/expr.png\" style=\"display:inline;vertical-align:middle;\" /></a></span></td></tr>\n",
       "<tr><td>&nbsp;</td><td colspan=4 style-\"text-align:left\"><a class=\"ProveItLink\" href=\"../../../../logic/boolean/_axioms_.ipynb#eqTrueIntro\">proveit.logic.boolean.eqTrueIntro</a></td></tr><tr><td>8</td><td>generalizaton</td><td>9</td><td><span style=\"font-size:20px;\"> &#x22A2;&nbsp;<a class=\"ProveItLink\" href=\"../__pv_it/62851c14b69eab4a626529a6abfb0d65505314d60/expr.ipynb\"><img src=\"../__pv_it/62851c14b69eab4a626529a6abfb0d65505314d60/expr.png\" style=\"display:inline;vertical-align:middle;\" /></a></span></td></tr>\n",
       "<tr><td>9</td><td>hypothetical reasoning</td><td>10</td><td><span style=\"font-size:20px;\"> &#x22A2;&nbsp;<a class=\"ProveItLink\" href=\"../__pv_it/e786d4a2752094e58bf2e1f7c00e708716b6857e0/expr.ipynb\"><img src=\"../__pv_it/e786d4a2752094e58bf2e1f7c00e708716b6857e0/expr.png\" style=\"display:inline;vertical-align:middle;\" /></a></span></td></tr>\n",
       "<tr><td>10</td><td>specialization</td><td>11, 12</td><td><span style=\"font-size:20px;\"><a class=\"ProveItLink\" href=\"../__pv_it/ca4d76d16b9b7e4aa378633b93437ee87b4cd9ed0/expr.ipynb\"><img src=\"../__pv_it/ca4d76d16b9b7e4aa378633b93437ee87b4cd9ed0/expr.png\" style=\"display:inline;vertical-align:middle;\" /></a> &#x22A2;&nbsp;<a class=\"ProveItLink\" href=\"../__pv_it/5dd321beabf1e63d97f364a511d41117fc76889b0/expr.ipynb\"><img src=\"../__pv_it/5dd321beabf1e63d97f364a511d41117fc76889b0/expr.png\" style=\"display:inline;vertical-align:middle;\" /></a></span></td></tr>\n",
       "<tr><td>&nbsp;</td><td colspan=4 style=\"text-align:left\"><span style=\"font-size:20px;\"><a class=\"ProveItLink\" href=\"../__pv_it/89e6254ba2571007b02a4a5292eb3d599642f3de0/expr.ipynb\"><img src=\"../__pv_it/89e6254ba2571007b02a4a5292eb3d599642f3de0/expr.png\" style=\"display:inline;vertical-align:middle;\" /></a>, <a class=\"ProveItLink\" href=\"../__pv_it/698d37871f04584e2bb07e628107a0763e77f39a0/expr.ipynb\"><img src=\"../__pv_it/698d37871f04584e2bb07e628107a0763e77f39a0/expr.png\" style=\"display:inline;vertical-align:middle;\" /></a></span></td></tr><tr><td>11</td><td>theorem</td><td></td><td><span style=\"font-size:20px;\"> &#x22A2;&nbsp;<a class=\"ProveItLink\" href=\"../../../../logic/boolean/conjunction/__pv_it/fd9e84bef514d5cc0c4f918b0a872a857991e1790/expr.ipynb\"><img src=\"../../../../logic/boolean/conjunction/__pv_it/fd9e84bef514d5cc0c4f918b0a872a857991e1790/expr.png\" style=\"display:inline;vertical-align:middle;\" /></a></span></td></tr>\n",
       "<tr><td>&nbsp;</td><td colspan=4 style-\"text-align:left\"><a class=\"ProveItLink\" href=\"../../../../logic/boolean/conjunction/_proofs_/leftFromAnd.ipynb\">proveit.logic.boolean.conjunction.leftFromAnd</a></td></tr><tr><td>12</td><td>assumption</td><td></td><td><span style=\"font-size:20px;\"><a class=\"ProveItLink\" href=\"../__pv_it/ca4d76d16b9b7e4aa378633b93437ee87b4cd9ed0/expr.ipynb\"><img src=\"../__pv_it/ca4d76d16b9b7e4aa378633b93437ee87b4cd9ed0/expr.png\" style=\"display:inline;vertical-align:middle;\" /></a> &#x22A2;&nbsp;<a class=\"ProveItLink\" href=\"../__pv_it/9930867f404c9ba2b46af0dd191b71ba0056c8ff0/expr.ipynb\"><img src=\"../__pv_it/9930867f404c9ba2b46af0dd191b71ba0056c8ff0/expr.png\" style=\"display:inline;vertical-align:middle;\" /></a></span></td></tr>\n",
       "</table>"
      ],
      "text/plain": [
       "\tstep type\trequirements\tstatement\n",
       "0\tspecialization\t1, 2\t|= 0 in Naturals\n",
       "\tA -> (0 in Naturals)\n",
       "1\taxiom\t\t|= forall_{A | A = TRUE} A\n",
       "\tproveit.logic.boolean.eqTrueElim\n",
       "2\tspecialization\t3, 4, 5\t|= (0 in Naturals) = TRUE\n",
       "\t{x -> (0 in Naturals)}, {y -> [forall_{S} (((0 in S) and [forall_{x in S} ((x + 1) in S)]) => (0 in S))]}, {z -> TRUE}\n",
       "3\taxiom\t\t|= forall_{x, y, z | x = y , y = z} (x = z)\n",
       "\tproveit.logic.equality.equalsTransitivity\n",
       "4\tspecialization\t6\t|= (0 in Naturals) = [forall_{S} (((0 in S) and [forall_{x in S} ((x + 1) in S)]) => (0 in S))]\n",
       "\tn -> 0\n",
       "5\tspecialization\t7, 8\t|= [forall_{S} (((0 in S) and [forall_{x in S} ((x + 1) in S)]) => (0 in S))] = TRUE\n",
       "\tA -> [forall_{S} (((0 in S) and [forall_{x in S} ((x + 1) in S)]) => (0 in S))]\n",
       "6\taxiom\t\t|= forall_{n} ((n in Naturals) = [forall_{S} (((0 in S) and [forall_{x in S} ((x + 1) in S)]) => (n in S))])\n",
       "\tproveit.number.sets.integer.naturalsDef\n",
       "7\taxiom\t\t|= forall_{A | A} (A = TRUE)\n",
       "\tproveit.logic.boolean.eqTrueIntro\n",
       "8\tgeneralizaton\t9\t|= forall_{S} (((0 in S) and [forall_{x in S} ((x + 1) in S)]) => (0 in S))\n",
       "9\thypothetical reasoning\t10\t|= ((0 in S) and [forall_{x in S} ((x + 1) in S)]) => (0 in S)\n",
       "10\tspecialization\t11, 12\t{(0 in S) and [forall_{x in S} ((x + 1) in S)]} |= 0 in S\n",
       "\t{A -> (0 in S)}, {B -> [forall_{x in S} ((x + 1) in S)]}\n",
       "11\ttheorem\t\t|= forall_{A, B | A and B} A\n",
       "\tproveit.logic.boolean.conjunction.leftFromAnd\n",
       "12\tassumption\t\t{(0 in S) and [forall_{x in S} ((x + 1) in S)]} |= (0 in S) and [forall_{x in S} ((x + 1) in S)]"
      ]
     },
     "execution_count": 8,
     "metadata": {},
     "output_type": "execute_result"
    }
   ],
   "source": [
    "%qed"
   ]
  },
  {
   "cell_type": "code",
   "execution_count": null,
   "metadata": {},
   "outputs": [],
   "source": []
  }
 ],
 "metadata": {
  "kernelspec": {
   "display_name": "Python 3",
   "language": "python",
   "name": "python3"
  },
  "language_info": {
   "codemirror_mode": {
    "name": "ipython",
    "version": 3
   },
   "file_extension": ".py",
   "mimetype": "text/x-python",
   "name": "python",
   "nbconvert_exporter": "python",
   "pygments_lexer": "ipython3",
   "version": "3.7.3"
  }
 },
 "nbformat": 4,
 "nbformat_minor": 1
}
