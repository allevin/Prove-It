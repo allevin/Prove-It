{
 "cells": [
  {
   "cell_type": "markdown",
   "metadata": {
    "collapsed": true
   },
   "source": [
    "Proof of <a class=\"ProveItLink\" href=\"../../../../_context_.ipynb\">proveit</a>.<a class=\"ProveItLink\" href=\"../../../_context_.ipynb\">number</a>.<a class=\"ProveItLink\" href=\"../../_context_.ipynb\">sets</a>.<a class=\"ProveItLink\" href=\"../_context_.ipynb\">integer</a>.<a class=\"ProveItLink\" href=\"../_theorems_.ipynb#zeroInNats\">zeroInNats</a> theorem\n",
    "========"
   ]
  },
  {
   "cell_type": "code",
   "execution_count": 1,
   "metadata": {},
   "outputs": [],
   "source": [
    "import proveit\n",
    "from proveit._common_ import n, S\n",
    "from proveit.number import zero, Naturals\n",
    "from proveit.number.sets.integer._axioms_ import naturalsDef\n",
    "context = proveit.Context('..') # the theorem's context is in the parent directory"
   ]
  },
  {
   "cell_type": "code",
   "execution_count": 2,
   "metadata": {},
   "outputs": [
    {
     "name": "stdout",
     "output_type": "stream",
     "text": [
      "Beginning proof of zeroInNats\n",
      "Recorded 'presuming' information\n",
      "Presuming theorems in proveit.logic (except any that presume this theorem).\n"
     ]
    },
    {
     "data": {
      "text/html": [
       "<strong id=\"zeroInNats\">zeroInNats:</strong> <a class=\"ProveItLink\" href=\"../__pv_it/50688835e4f8f7c7ea93ceb53b4c2bc2c084e66a0/expr.ipynb\"><img src=\"../__pv_it/50688835e4f8f7c7ea93ceb53b4c2bc2c084e66a0/expr.png\" style=\"display:inline;vertical-align:middle;\" /></a><br>(see <a class=\"ProveItLink\" href=\"../__pv_it/50688835e4f8f7c7ea93ceb53b4c2bc2c084e66a0/dependencies.ipynb\">dependencies</a>)<br>"
      ],
      "text/plain": [
       "zeroInNats: 0 in Naturals"
      ]
     },
     "execution_count": 2,
     "metadata": {},
     "output_type": "execute_result"
    }
   ],
   "source": [
    "%proving zeroInNats presuming [proveit.logic]"
   ]
  },
  {
   "cell_type": "code",
   "execution_count": 12,
   "metadata": {},
   "outputs": [
    {
     "data": {
      "text/html": [
       "<span style=\"font-size:20px;\"> &#x22A2;&nbsp;<a class=\"ProveItLink\" href=\"../__pv_it/ee3b010b656ce39b3e4c0e002f955d1a0de34dbe0/expr.ipynb\"><img src=\"../__pv_it/ee3b010b656ce39b3e4c0e002f955d1a0de34dbe0/expr.png\" style=\"display:inline;vertical-align:middle;\" /></a></span>"
      ],
      "text/plain": [
       "|- forall_{n} ((n in Naturals) = [forall_{S} (((0 in S) and [forall_{x in S} ((x + 1) in S)]) => (n in S))])"
      ]
     },
     "execution_count": 12,
     "metadata": {},
     "output_type": "execute_result"
    }
   ],
   "source": [
    "naturalsDef"
   ]
  },
  {
   "cell_type": "code",
   "execution_count": 13,
   "metadata": {},
   "outputs": [
    {
     "data": {
      "text/html": [
       "<strong id=\"tempRHS\">tempRHS:</strong> <a class=\"ProveItLink\" href=\"../__pv_it/fce5b10628f08ce062d8342edcc7f2007955255e0/expr.ipynb\"><img src=\"../__pv_it/fce5b10628f08ce062d8342edcc7f2007955255e0/expr.png\" style=\"display:inline;vertical-align:middle;\" /></a><br>"
      ],
      "text/plain": [
       "tempRHS: forall_{S} (((0 in S) and [forall_{x in S} ((x + 1) in S)]) => (n in S))"
      ]
     },
     "execution_count": 13,
     "metadata": {},
     "output_type": "execute_result"
    }
   ],
   "source": [
    "tempRHS = naturalsDef.instanceExpr.rhs"
   ]
  },
  {
   "cell_type": "code",
   "execution_count": 15,
   "metadata": {},
   "outputs": [
    {
     "data": {
      "text/html": [
       "<strong id=\"tempRHSKT\">tempRHSKT:</strong> <span style=\"font-size:20px;\"><a class=\"ProveItLink\" href=\"../__pv_it/031a758e8ce561184d696eb252f84c310e9c74390/expr.ipynb\"><img src=\"../__pv_it/031a758e8ce561184d696eb252f84c310e9c74390/expr.png\" style=\"display:inline;vertical-align:middle;\" /></a> &#x22A2;&nbsp;<a class=\"ProveItLink\" href=\"../__pv_it/fce5b10628f08ce062d8342edcc7f2007955255e0/expr.ipynb\"><img src=\"../__pv_it/fce5b10628f08ce062d8342edcc7f2007955255e0/expr.png\" style=\"display:inline;vertical-align:middle;\" /></a></span><br>"
      ],
      "text/plain": [
       "tempRHSKT: {forall_{S} (((0 in S) and [forall_{x in S} ((x + 1) in S)]) => (n in S))} |- forall_{S} (((0 in S) and [forall_{x in S} ((x + 1) in S)]) => (n in S))"
      ]
     },
     "execution_count": 15,
     "metadata": {},
     "output_type": "execute_result"
    }
   ],
   "source": [
    "tempRHSKT = tempRHS.prove(assumptions={tempRHS})"
   ]
  },
  {
   "cell_type": "code",
   "execution_count": 16,
   "metadata": {},
   "outputs": [
    {
     "data": {
      "text/html": [
       "<span style=\"font-size:20px;\"><a class=\"ProveItLink\" href=\"../__pv_it/031a758e8ce561184d696eb252f84c310e9c74390/expr.ipynb\"><img src=\"../__pv_it/031a758e8ce561184d696eb252f84c310e9c74390/expr.png\" style=\"display:inline;vertical-align:middle;\" /></a> &#x22A2;&nbsp;<a class=\"ProveItLink\" href=\"../__pv_it/502574547e84254ffaab309c9a95b0998a522dce0/expr.ipynb\"><img src=\"../__pv_it/502574547e84254ffaab309c9a95b0998a522dce0/expr.png\" style=\"display:inline;vertical-align:middle;\" /></a></span>"
      ],
      "text/plain": [
       "{forall_{S} (((0 in S) and [forall_{x in S} ((x + 1) in S)]) => (n in S))} |- ((0 in Naturals) and [forall_{x in Naturals} ((x + 1) in Naturals)]) => (n in Naturals)"
      ]
     },
     "execution_count": 16,
     "metadata": {},
     "output_type": "execute_result"
    }
   ],
   "source": [
    "tempRHSKT.specialize({S:Naturals})"
   ]
  },
  {
   "cell_type": "code",
   "execution_count": 17,
   "metadata": {},
   "outputs": [
    {
     "data": {
      "text/html": [
       "<span style=\"font-size:20px;\"> &#x22A2;&nbsp;<a class=\"ProveItLink\" href=\"../__pv_it/4c1aece0f35f1aed0e9ad6042c3384ca41af90b00/expr.ipynb\"><img src=\"../__pv_it/4c1aece0f35f1aed0e9ad6042c3384ca41af90b00/expr.png\" style=\"display:inline;vertical-align:middle;\" /></a></span>"
      ],
      "text/plain": [
       "|- (0 in Naturals) = [forall_{S} (((0 in S) and [forall_{x in S} ((x + 1) in S)]) => (0 in S))]"
      ]
     },
     "execution_count": 17,
     "metadata": {},
     "output_type": "execute_result"
    }
   ],
   "source": [
    "naturalsDef.specialize({n:zero})"
   ]
  },
  {
   "cell_type": "code",
   "execution_count": null,
   "metadata": {},
   "outputs": [],
   "source": []
  }
 ],
 "metadata": {
  "kernelspec": {
   "display_name": "Python 3",
   "language": "python",
   "name": "python3"
  },
  "language_info": {
   "codemirror_mode": {
    "name": "ipython",
    "version": 3
   },
   "file_extension": ".py",
   "mimetype": "text/x-python",
   "name": "python",
   "nbconvert_exporter": "python",
   "pygments_lexer": "ipython3",
   "version": "3.7.1"
  }
 },
 "nbformat": 4,
 "nbformat_minor": 1
}
