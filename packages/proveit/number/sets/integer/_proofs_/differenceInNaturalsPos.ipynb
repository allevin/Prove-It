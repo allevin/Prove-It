{
 "cells": [
  {
   "cell_type": "markdown",
   "metadata": {},
   "source": [
    "Proof of <a class=\"ProveItLink\" href=\"../../../../_context_.ipynb\">proveit</a>.<a class=\"ProveItLink\" href=\"../../../_context_.ipynb\">number</a>.<a class=\"ProveItLink\" href=\"../../_context_.ipynb\">sets</a>.<a class=\"ProveItLink\" href=\"../_context_.ipynb\">integer</a>.<a class=\"ProveItLink\" href=\"../_theorems_.ipynb#differenceInNaturalsPos\">differenceInNaturalsPos</a> theorem\n",
    "========"
   ]
  },
  {
   "cell_type": "code",
   "execution_count": 1,
   "metadata": {},
   "outputs": [],
   "source": [
    "import proveit\n",
    "context = proveit.Context('..') # the theorem's context is in the parent directory"
   ]
  },
  {
   "cell_type": "code",
   "execution_count": 2,
   "metadata": {},
   "outputs": [
    {
     "name": "stdout",
     "output_type": "stream",
     "text": [
      "Beginning proof of differenceInNaturalsPos\n",
      "Recorded 'presuming' information\n",
      "Presuming previous theorems (applied transitively).\n"
     ]
    },
    {
     "data": {
      "text/html": [
       "<strong id=\"differenceInNaturalsPos\">differenceInNaturalsPos:</strong> <a class=\"ProveItLink\" href=\"../__pv_it/76e860cd4a8cbe8e31b073630882e081c2ae76020/expr.ipynb\"><img src=\"data:image/png;base64,iVBORw0KGgoAAAANSUhEUgAAAPUAAAAbBAMAAABW0dSkAAAAMFBMVEX///8QEBC6urrMzMxUVFRm\n",
       "ZmZERETc3NwyMjKqqqp2dnaIiIiYmJgiIiLu7u4AAAAU9Wx4AAAAAXRSTlMAQObYZgAAA5hJREFU\n",
       "SMe9Vl1IVFEQnt29d9X9uUpEfyCsFeRLuFEIheKSkUZRC5VE9rD0sxEV7YOpD5UWCSv+ggRBRPsi\n",
       "Wg+xgYYowX0oSIRciMh+pPuwgihlJCliSDPn/m+7S12lgVnOzpl7vjkzc75zAP6/dK/FIlutfRZC\n",
       "da0S2hGwjm31W1WmJevYMIIqWcc+gmqPZ5j0+LJjeyMACRqMWYHOKcCfPelmkoX4c9xsE7rCncB/\n",
       "+aBiuzHpj2nQaQWbD2b88i5qborNKZYC5AMXjW6KtmEsKwD1tIOQFWwbZtWdPuVLlPSY2ca9RWeb\n",
       "lnP4jOFhwXlLJ66C8NO2i32Fklwg/5ntmJxg2MVSpRG7BsPra2i4aanVnqEWp51xsSa6JB/EdiU8\n",
       "bndgWjJgj6MuhMMfLWFXo56mQd1wUcQ0k3t4QAToZeN6NTOc/4EjZMAuwYlKgItasqKpAL70ZpLz\n",
       "qO00uxGumWfmQjAPcJ+NtbU5P+8bY9gyrVT4AbaD0Kx91as25freC0E9RsWcY6puC+o61CaRameU\n",
       "RxJsAShiRyukY8NRbpfu1ITb8oJb1Ayt5D54UvRGXLOSjt0qH9EaU2rfof5APQbwiQLrmCShRJ0C\n",
       "+Cn3ItgL0TahYCeF24bkYIO7Ra++nUXU5zu+SR4ou6FzEDOD0G+mKhV7AYR5SJmx/1Kwdd5GbEcs\n",
       "Zd9CM3HT9eFzFOXygORhuYZgUMcmM8BQt+anEchm3O8y5H0XUo43v6LmPGHAhlGnAdtP3bAfXd7n\n",
       "0Jl0JzwBmY88e/06NplhiCqj+DE5iHoFTUvANfeYsOfBhsTyWiN9DdtVrzuVUAHvYWhc0EEBOuOe\n",
       "xD42MzNj4H0ylzMGU/yYvFCasB0eBs0cdghOaA36VS2UU+kEVcYZN+Kq+T7idrD5+VB5OByOQ+wp\n",
       "3NKwyTx1lkaKnxw46k463iPbLps7ITlIObojn40WOYH2rg107epO/Sy9WMs5yfkmQlTvFZPMs0eE\n",
       "Pg2bzDBFhVb8mOTjorZIRupROTWvWu7zVGnT7gWpokxqjHiREDhajufBntDvWsYTdVWKn1rA2J8X\n",
       "hpFY41lZUVjUCK127AxUiPbaGAiU3JcHnlwN6H1eyyBKq2Q/9cmUyHr7TmdnZE/K3SlzjIvqbXpj\n",
       "qFLqN7nTZVGXcfGq7Nhe81qOSIb3TQZppFbKlFm3Pzv2q5Q0wL9h58Wsv/X+5rmS9Sk7ah2bX8Ub\n",
       "dS3kN4ry7Iyw5OErAAAAAElFTkSuQmCC\n",
       "\" style=\"display:inline;vertical-align:middle;\" /></a><br>(see <a class=\"ProveItLink\" href=\"../__pv_it/76e860cd4a8cbe8e31b073630882e081c2ae76020/dependencies.ipynb\">dependencies</a>)<br>"
      ],
      "text/plain": [
       "differenceInNaturalsPos: forall_{a, b in Integers | b < a} ((a - b) in NaturalsPos)"
      ]
     },
     "execution_count": 2,
     "metadata": {},
     "output_type": "execute_result"
    }
   ],
   "source": [
    "%proving differenceInNaturalsPos presuming []"
   ]
  },
  {
   "cell_type": "code",
   "execution_count": null,
   "metadata": {},
   "outputs": [],
   "source": []
  }
 ],
 "metadata": {
  "kernelspec": {
   "display_name": "Python 3",
   "language": "python",
   "name": "python3"
  }
 },
 "nbformat": 4,
 "nbformat_minor": 0
}
