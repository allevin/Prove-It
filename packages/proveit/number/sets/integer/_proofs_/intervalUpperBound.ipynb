{
 "cells": [
  {
   "cell_type": "markdown",
   "metadata": {},
   "source": [
    "Proof of <a class=\"ProveItLink\" href=\"../../../../_context_.ipynb\">proveit</a>.<a class=\"ProveItLink\" href=\"../../../_context_.ipynb\">number</a>.<a class=\"ProveItLink\" href=\"../../_context_.ipynb\">sets</a>.<a class=\"ProveItLink\" href=\"../_context_.ipynb\">integer</a>.<a class=\"ProveItLink\" href=\"../_theorems_.ipynb#intervalUpperBound\">intervalUpperBound</a> theorem\n",
    "========"
   ]
  },
  {
   "cell_type": "code",
   "execution_count": 1,
   "metadata": {},
   "outputs": [],
   "source": [
    "import proveit\n",
    "context = proveit.Context('..') # the theorem's context is in the parent directory"
   ]
  },
  {
   "cell_type": "code",
   "execution_count": 2,
   "metadata": {},
   "outputs": [
    {
     "name": "stdout",
     "output_type": "stream",
     "text": [
      "Beginning proof of intervalUpperBound\n",
      "Recorded 'presuming' information\n",
      "Presuming previous theorems (applied transitively).\n"
     ]
    },
    {
     "data": {
      "text/html": [
       "<strong id=\"intervalUpperBound\">intervalUpperBound:</strong> <a class=\"ProveItLink\" href=\"../__pv_it/53627333c645c1c68307d576b2ec677e16491bed0/expr.ipynb\"><img src=\"data:image/png;base64,iVBORw0KGgoAAAANSUhEUgAAAOwAAAAZBAMAAADAot+NAAAAMFBMVEX///8QEBC6urrMzMxUVFRm\n",
       "ZmZERETc3NwyMjKqqqp2dnaIiIiYmJgiIiLu7u4AAAAU9Wx4AAAAAXRSTlMAQObYZgAAA5BJREFU\n",
       "SMfFll1IFFEUx/87u7Oj6+xsVCAVxBZZvoRLRFAoblkgFTEvfaq0JK0PKuyDuSKV++BDUciCBL7l\n",
       "i0mlspT64EcMYi+KslAgSMYIQqKUYqAPiXTvHWd2dld3JxC6MHf3njNzf+eee865F8janHMz2NPG\n",
       "zc1aeMuNPW8N/wurWsBK/+zG2K6qMQ0bpz+TmbFsvWLMOvbsjlLpIoHxPoZ9SwVtmbGuKPnJUa1j\n",
       "0+Yb9dI+x0+6CMM2kl4IZMYyfaN1al6KY6ReTeCh5k8wLF0EH80SUtT6u9axtmTHSFWK9qeIyucZ\n",
       "VuwOh59ki+SJcDgct44tTBoJ5fqqelkZiLIEWg8GZ7NhPcFgfad17D0Sy4Ph4atsYC/36vLW4euA\n",
       "S2bYMqDGCPxnO2MdPjhDScJmJXl9EXA9xuglmdzxAis0aKWgz3D2Ojw+5EYY9gSkiPFBl14QD3Y9\n",
       "lBNYzo/FZMflJ5tGl8DrH2A/cNwdwApb5ugnXZy7BVsnuH0M60ZewvLn1KiBm4o75FpWTVUqjhHD\n",
       "ZqJmJptbDtmwhGwNUAnztTbDVN+2mI/AI8O+yrB5ijsReBvkGTz1SxVR/NhcHEfwXR9SdRrWE0rB\n",
       "Umb59rDj9vZEMooUHStFaE15NFRN9/ZPvypqvpJlM3bRTjL984chPzQ1RQgVb4xtKxq+YcIeIs8d\n",
       "YFMvqoVletreV3Uno+YSYc8IWzTP46I/h70inveZsc4GL6SxTXyBpqaIn6EWw02jGDdh68hzGOKW\n",
       "Sxecq2ZYH5FC1EIKr0hGOmQ7zUtnTIxfYC8uLSWdQLlVZHXLEbIJmtpB0ukKSox3ajEFKd8UmMIa\n",
       "XIH2RJGm0eWI8n4jgWAjlcvjzaP10ubjAyXBYDCGzj48NR98R+hnMeIgpuZa2Q72G9MewC3gmL4v\n",
       "p0FdKdSmFD/pWiWNPq+GFYmrVlTnNIkKD9zKAkvgdgXdZuy0ZpTsXdCCshPSFup+6DOu4ptptbZQ\n",
       "hloybzrmbWppsdoUcqMDDvoNz4OLpx7zLbCd8TE128ej9t/TQhuaVNLFiYAz9lbMVNHem7BcxWQl\n",
       "ShWugqziARmPX35X70/FngTfo6kZtmBkQLFvoDREuoIhcwKZDz5hjjWjQEqRtEuNVjZcdG93v9Qw\n",
       "dWre6qZkvysxbyXp7SHLd6ksWGH3m8jHNLNE61e41JrMwkze25vjTvfk5rT1cCPW78lf/wIfV+7J\n",
       "urs20wAAAABJRU5ErkJggg==\n",
       "\" style=\"display:inline;vertical-align:middle;\" /></a><br>(see <a class=\"ProveItLink\" href=\"../__pv_it/53627333c645c1c68307d576b2ec677e16491bed0/dependencies.ipynb\">dependencies</a>)<br>"
      ],
      "text/plain": [
       "intervalUpperBound: forall_{a, b in Integers} [forall_{n in {a...b}} (n <= b)]"
      ]
     },
     "execution_count": 2,
     "metadata": {},
     "output_type": "execute_result"
    }
   ],
   "source": [
    "%proving intervalUpperBound presuming []"
   ]
  },
  {
   "cell_type": "code",
   "execution_count": null,
   "metadata": {},
   "outputs": [],
   "source": []
  }
 ],
 "metadata": {
  "kernelspec": {
   "display_name": "Python 3",
   "language": "python",
   "name": "python3"
  }
 },
 "nbformat": 4,
 "nbformat_minor": 0
}
