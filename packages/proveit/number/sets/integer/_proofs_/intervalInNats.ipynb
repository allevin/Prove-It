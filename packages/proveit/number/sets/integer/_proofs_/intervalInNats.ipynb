{
 "cells": [
  {
   "cell_type": "markdown",
   "metadata": {},
   "source": [
    "Proof of <a class=\"ProveItLink\" href=\"../../../../_context_.ipynb\">proveit</a>.<a class=\"ProveItLink\" href=\"../../../_context_.ipynb\">number</a>.<a class=\"ProveItLink\" href=\"../../_context_.ipynb\">sets</a>.<a class=\"ProveItLink\" href=\"../_context_.ipynb\">integer</a>.<a class=\"ProveItLink\" href=\"../_theorems_.ipynb#intervalInNats\">intervalInNats</a> theorem\n",
    "========"
   ]
  },
  {
   "cell_type": "code",
   "execution_count": 1,
   "metadata": {},
   "outputs": [],
   "source": [
    "import proveit\n",
    "context = proveit.Context('..') # the theorem's context is in the parent directory"
   ]
  },
  {
   "cell_type": "code",
   "execution_count": 2,
   "metadata": {},
   "outputs": [
    {
     "name": "stdout",
     "output_type": "stream",
     "text": [
      "Beginning proof of intervalInNats\n",
      "Recorded 'presuming' information\n",
      "Presuming previous theorems (applied transitively).\n"
     ]
    },
    {
     "data": {
      "text/html": [
       "<strong id=\"intervalInNats\">intervalInNats:</strong> <a class=\"ProveItLink\" href=\"../__pv_it/7b3862c0e5fb260fd837475593f67e92b72ef9300/expr.ipynb\"><img src=\"data:image/png;base64,iVBORw0KGgoAAAANSUhEUgAAAPEAAAAZBAMAAAAS8tXVAAAAMFBMVEX///8QEBC6urrMzMxUVFRm\n",
       "ZmZERETc3NwyMjKqqqp2dnaIiIiYmJgiIiLu7u4AAAAU9Wx4AAAAAXRSTlMAQObYZgAAA5BJREFU\n",
       "SMfFll1o01AUgE/Tv7VN071MH8QR8W84hEzFn+FocYh7kDGQgTKFotAhOOiDtmNDVkXBgXZ7EQRf\n",
       "+rKJICXIJjiHBEXQFWph4B90RhhYGFPYwD4ow3PvbZpmrU0GAwNt7s2553655y8HwPwayEdhk6/9\n",
       "+ZSVZTnY/Msd+o9k1QpZ2OjGrXVkvMjI9EAZE7KfasiWwfZathTGIklwfv0MZxj5MXmYNCF7x/HW\n",
       "oFom117qUg4DBFDKyDFyC5uQ6YKYdWO/qPnUMe+TwYbGS1EyeT3nuFmEEaOcs05uNsyW7uU/UXKL\n",
       "2knIQiMl84/i8eumsT0Xj8ethziXMDj9bsn2joOhgopkuMyy6lck8sWUHIhEBlKWyU5c2to/PMU0\n",
       "YprTHdJDe5iQJxi5E6C//LJ3/kF2SOAyFrIhxXBKVNxXftKAo1SXLKzSWXl3h+QUM4T8gJF3gaAb\n",
       "Z6J0P9or+ppUncyFoGCsBFuNb0cUe7WJTQRO/ADCCk2msE6GbkcbDnYwsh98+uuPkqXTvQofTkO6\n",
       "soblYLaclygHT8JIHmVHYVdABAGxnjVqju35fCnCJFgUbuAgyMg+xa9nXxF/z/b+UPmM00iehQVt\n",
       "SuRV5OI6MsE6EsaqgmR7qk0nC4lDOLk2c4m83+8ple8h9erYEdlALpAN3jydwWQgckp2901Kmp9R\n",
       "USfbMEudCQgo5EhCroIM71y6taH/BIo/uolpfDk+1EArpZR+bSC7rqIFX/2BeVqBGHk5OqJZiyjq\n",
       "ZBe6z5aC9yoN7tOVZC+pR29L5PskdnvsdH+Zz7UzstfbXUn2XMDVSwm0ajvbBTc9CR1lFirCNy36\n",
       "vWiWEREmPdQky6K2iAzO6lkFNpl4xkeHkjPcEYlEZF5yZxcMX8ltBCdzjUDl3C2crsBU2b6oCFyT\n",
       "ZvsctWjsOUuD28wn3NgW4jb83SyReTTZT9WVjZJy7lcW2Zlh50sDOcv27xEXtWIhrMGV71pMoaJ+\n",
       "ZjCmnKeLxXY5ORorOgObGjyuDkb96CtHlJH5dFVnMAK2AxKVUz8321ez7iQMqu4kUYSW8t5zdUuc\n",
       "V64gc32Z8xBUuD48ykWct+BfqIq8B5xPmJySd89OK/YiBKP2IlHUI8zkg1qo7oZYRfGiH+t1Q1S+\n",
       "Pp+hMp9NuqxTVSvsUet9WH0yDNcB+6QqMr+BDnB93YbKur1pvWe+Vr89VNWVtSob6bdDfwHQwAJv\n",
       "tLOjbgAAAABJRU5ErkJggg==\n",
       "\" style=\"display:inline;vertical-align:middle;\" /></a><br>(see <a class=\"ProveItLink\" href=\"../__pv_it/7b3862c0e5fb260fd837475593f67e92b72ef9300/dependencies.ipynb\">dependencies</a>)<br>"
      ],
      "text/plain": [
       "intervalInNats: forall_{a, b in Naturals} [forall_{n in {a...b}} (n in Naturals)]"
      ]
     },
     "execution_count": 2,
     "metadata": {},
     "output_type": "execute_result"
    }
   ],
   "source": [
    "%proving intervalInNats presuming []"
   ]
  },
  {
   "cell_type": "code",
   "execution_count": null,
   "metadata": {},
   "outputs": [],
   "source": []
  }
 ],
 "metadata": {
  "kernelspec": {
   "display_name": "Python 3",
   "language": "python",
   "name": "python3"
  }
 },
 "nbformat": 4,
 "nbformat_minor": 0
}
