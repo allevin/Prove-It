{
 "cells": [
  {
   "cell_type": "markdown",
   "metadata": {},
   "source": [
    "Proof of <a class=\"ProveItLink\" href=\"../../../../_context_.ipynb\">proveit</a>.<a class=\"ProveItLink\" href=\"../../../_context_.ipynb\">number</a>.<a class=\"ProveItLink\" href=\"../../_context_.ipynb\">sets</a>.<a class=\"ProveItLink\" href=\"../_context_.ipynb\">integer</a>.<a class=\"ProveItLink\" href=\"../_theorems_.ipynb#intervalInInts\">intervalInInts</a> theorem\n",
    "========"
   ]
  },
  {
   "cell_type": "code",
   "execution_count": 1,
   "metadata": {},
   "outputs": [],
   "source": [
    "import proveit\n",
    "context = proveit.Context('..') # the theorem's context is in the parent directory"
   ]
  },
  {
   "cell_type": "code",
   "execution_count": 2,
   "metadata": {},
   "outputs": [
    {
     "name": "stdout",
     "output_type": "stream",
     "text": [
      "Beginning proof of intervalInInts\n",
      "Recorded 'presuming' information\n",
      "Presuming previous theorems (applied transitively).\n"
     ]
    },
    {
     "data": {
      "text/html": [
       "<strong id=\"intervalInInts\">intervalInInts:</strong> <a class=\"ProveItLink\" href=\"../__pv_it/806af43d76081600142b2b72adc71f5636e860a50/expr.ipynb\"><img src=\"data:image/png;base64,iVBORw0KGgoAAAANSUhEUgAAAO8AAAAZBAMAAAArlWSOAAAAMFBMVEX///8QEBC6urrMzMxUVFRm\n",
       "ZmZERETc3NwyMjKqqqp2dnaIiIiYmJgiIiLu7u4AAAAU9Wx4AAAAAXRSTlMAQObYZgAAA3VJREFU\n",
       "SMfFlk9IFFEcx387+8/d+bOBoadipSJJwj10qDBcMjAKYkHsoB4Wo7GQZIRSwbIpCOyQCRV0HCIV\n",
       "K2IPFqYFczCILFs6KERLcwgJLZOCPETR+zM782Z3dVZY6Ac6+958335++/vz3gNwtUBmAUpsezNa\n",
       "ESoRSm/B+P8DG8WAjc1+cc36r4QoBafxYNYF7C5ymrdQJEOf/gxuu6JDEwWP47khF7C7yGllhULE\n",
       "XzNADaCXFNyDH0kXsLvIadOFJv0ahIfvoVhrBIyd8w+7gN1FTtvODqTJTEZFT58B53EOpC0ELIz1\n",
       "9l5yKy53kcM4lR3tn7M+dgVwDs7Sdvolyx9c28lVlBtUqOnonyC7RLDLLujUG/wYoeAGgA7L1cF1\n",
       "wKyINuIjx7BaBc6eKdMBtKMp6SfZ+BRrflEidXKXgneCZEdmJLtNbh05nWDADhG2bsUxDCOxP7sA\n",
       "PFHgovMg/SA0W9XgI6uqKFgEXrdeXcfF8KRZF5XwssGAWdFycxvx2tE/qPJClmuRKEiIGvpLMJkM\n",
       "LS7gEnvI63oK5nXR7ro19Pd094ohQN1FNtSMiG8fWMkDR5QcMKb6yMQ+2ztAE2MWWFLxqwtTp7BP\n",
       "vycMgUYskWDBRCS01twHeAlmnsw1xGqnTzBgD/r9fhUiOnb2mwUeD0fJJmiGGjoOoy9eCOK48Gkh\n",
       "XkYL8EDMcUhg0ddaXYyBmgWba4i9gBkGHEBp8WjwzsBl7dOtgwE5H0ZN/MoE30FO+BJevB8HUkL6\n",
       "IFEtLTlPJywamEQh9dKT9Ji1hlgnvAWpki21y1EYDWHnpfdZd5QukFqSVjuBJ4WzwpOPMX/ykCzL\n",
       "KdAewwALxiI4jqLknZflTqiOW2uIlcNJFMJsdjgaz55nZNTXRGerzlTINyuQ5qoJFlAmvhuBOVQf\n",
       "ERD1z2TpLR2XgQ3GIvT1zZxEYS3WGmKr8JH5xVDpqLzbNzJsL5pbplkORn2d0aeIKHek1/x+4rbz\n",
       "IhBchfId0JjNMV1jBIegz0ijBDMb5euN9rVwigFzrbNtUK9zrRpI7Wg8c+TBuXgumEtCiw6LURNM\n",
       "1yjeNfRv1xTbToWPxax9yb/60PoL4xxvcPUZRTnO7WNy0KvFXaka8wRepfg718Zg6F+fy8fywMIm\n",
       "Lnvd+U7ae3WpbpmF7tXBh3mH8PPN3Kvj/wD58vApYC64GwAAAABJRU5ErkJggg==\n",
       "\" style=\"display:inline;vertical-align:middle;\" /></a><br>(see <a class=\"ProveItLink\" href=\"../__pv_it/806af43d76081600142b2b72adc71f5636e860a50/dependencies.ipynb\">dependencies</a>)<br>"
      ],
      "text/plain": [
       "intervalInInts: forall_{a, b in Integers} [forall_{n in {a...b}} (n in Integers)]"
      ]
     },
     "execution_count": 2,
     "metadata": {},
     "output_type": "execute_result"
    }
   ],
   "source": [
    "%proving intervalInInts presuming []"
   ]
  },
  {
   "cell_type": "code",
   "execution_count": null,
   "metadata": {},
   "outputs": [],
   "source": []
  }
 ],
 "metadata": {
  "kernelspec": {
   "display_name": "Python 3",
   "language": "python",
   "name": "python3"
  }
 },
 "nbformat": 4,
 "nbformat_minor": 0
}
