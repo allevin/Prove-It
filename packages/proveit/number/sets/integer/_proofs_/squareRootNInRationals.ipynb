{
 "cells": [
  {
   "cell_type": "markdown",
   "metadata": {},
   "source": [
    "Proof of <a class=\"ProveItLink\" href=\"../../../../_context_.ipynb\">proveit</a>.<a class=\"ProveItLink\" href=\"../../../_context_.ipynb\">number</a>.<a class=\"ProveItLink\" href=\"../../_context_.ipynb\">sets</a>.<a class=\"ProveItLink\" href=\"../_context_.ipynb\">integer</a>.<a class=\"ProveItLink\" href=\"../_theorems_.ipynb#squareRootNInRationals\">squareRootNInRationals</a> theorem\n",
    "========"
   ]
  },
  {
   "cell_type": "code",
   "execution_count": null,
   "metadata": {},
   "outputs": [],
   "source": [
    "import proveit\n",
    "from proveit import Function\n",
    "from proveit._common_ import n,q,a,b,x, aPrime, bPrime, G\n",
    "from proveit.number import one,two, Sqrt, Reals, NaturalsPos, Frac, Mult, Exp\n",
    "from proveit.number.sets.real._common_ import Rationals, RationalsPos\n",
    "from proveit.number.sets.real._axioms_ import rationalsDef, rationalsPosDef\n",
    "from proveit.number.sets.integer.naturals import NaturalsPosSet\n",
    "from proveit.logic import InSet, Forall, Implies, Exists, Equals, And\n",
    "context = proveit.Context('..') # the theorem's context is in the parent directory"
   ]
  },
  {
   "cell_type": "code",
   "execution_count": null,
   "metadata": {},
   "outputs": [],
   "source": [
    "%proving squareRootNInRationals presuming [proveit.logic]"
   ]
  },
  {
   "cell_type": "code",
   "execution_count": null,
   "metadata": {},
   "outputs": [],
   "source": []
  }
 ],
 "metadata": {
  "kernelspec": {
   "display_name": "Python 3",
   "language": "python",
   "name": "python3"
  }
 },
 "nbformat": 4,
 "nbformat_minor": 0
}
