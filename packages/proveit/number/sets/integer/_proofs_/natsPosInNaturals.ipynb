{
 "cells": [
  {
   "cell_type": "markdown",
   "metadata": {},
   "source": [
    "Proof of <a class=\"ProveItLink\" href=\"../../../../_context_.ipynb\">proveit</a>.<a class=\"ProveItLink\" href=\"../../../_context_.ipynb\">number</a>.<a class=\"ProveItLink\" href=\"../../_context_.ipynb\">sets</a>.<a class=\"ProveItLink\" href=\"../_context_.ipynb\">integer</a>.<a class=\"ProveItLink\" href=\"../_theorems_.ipynb#natsPosInNaturals\">natsPosInNaturals</a> theorem\n",
    "========"
   ]
  },
  {
   "cell_type": "code",
   "execution_count": 1,
   "metadata": {},
   "outputs": [],
   "source": [
    "import proveit\n",
    "context = proveit.Context('..') # the theorem's context is in the parent directory"
   ]
  },
  {
   "cell_type": "code",
   "execution_count": 2,
   "metadata": {},
   "outputs": [
    {
     "name": "stdout",
     "output_type": "stream",
     "text": [
      "Beginning proof of natsPosInNaturals\n",
      "Recorded 'presuming' information\n",
      "Presuming previous theorems (applied transitively).\n"
     ]
    },
    {
     "data": {
      "text/html": [
       "<strong id=\"natsPosInNaturals\">natsPosInNaturals:</strong> <a class=\"ProveItLink\" href=\"../__pv_it/bcce1d2811cf7024aebc933426bfdbf8208738780/expr.ipynb\"><img src=\"data:image/png;base64,iVBORw0KGgoAAAANSUhEUgAAAIMAAAAVBAMAAACXjEALAAAAMFBMVEX///8QEBC6urrMzMxUVFRm\n",
       "ZmZERETc3NwyMjKqqqp2dnaIiIiYmJgiIiLu7u4AAAAU9Wx4AAAAAXRSTlMAQObYZgAAAi9JREFU\n",
       "OMullE9o03AUx79rk6Zpfs1EEPEgVBTcRchhTB2KZdlhopMh7OIfCAqZhx1ymNtJ7MXbLL14VgQZ\n",
       "IoQw0YOCFL1ZGL2IIlQy8DAQbfWwk4rvNU37i6tR8Ae/8PL7vd8n733f+wX4/xH+3SUT/HnvJc0m\n",
       "G41UxPiQta3tayEu/6ipFvCQF6qpiKG7i1kH6AAVYJleNSeNYAzNY9Z6DuwCXgN5EkOtpSFGZLk+\n",
       "3W696xpTVcVixCYg1lZWbqTmMSbZ2dWYZ4+bVUbk6PPbrvt+57nCwLzAqZ65v5ft5X5Eth5MMKIw\n",
       "RzawsBOhDsxVmge8XIftgaeN8yIghE56HoJZSUXspiC+Q2XJTUdCKKFNiAzNIoy6dPbYfMnYE8qI\n",
       "b4DSQZHrktnfavXktGGWt+h4lqIz6sU4QfPJfF04Pnx1enb6tIQYddC2WM2yFAUmsz2EWel339PD\n",
       "X0LRUOEnEtkH3Axwl6+C2ZQRouZEiWBhih7Xn12FIHEhjh8NkohFoF3DjM5hnJURWCOEYCHvENp8\n",
       "q/1EnreE5b9KIh5Q/9X1N90yfy7Fq1dY80pUVIyQUMpctonJCFEonEsgjnBbrE+ss63dsnr99tVB\n",
       "t5R5hgpKcrRklHHSdd1AWNrGB/KVGtyTCqbP9CoSj83YaIe5De9jFAUOvkg4iXtp7f9ocJVOnQgV\n",
       "L0II/x8ue9wH/bbMXGxcgskSjdGjnHRbSkEo3m93i7QY4qal/PgeA78AoROD19qDR+cAAAAASUVO\n",
       "RK5CYII=\n",
       "\" style=\"display:inline;vertical-align:middle;\" /></a><br>(see <a class=\"ProveItLink\" href=\"../__pv_it/bcce1d2811cf7024aebc933426bfdbf8208738780/dependencies.ipynb\">dependencies</a>)<br>"
      ],
      "text/plain": [
       "natsPosInNaturals: forall_{a in NaturalsPos} (a in Naturals)"
      ]
     },
     "execution_count": 2,
     "metadata": {},
     "output_type": "execute_result"
    }
   ],
   "source": [
    "%proving natsPosInNaturals presuming []"
   ]
  },
  {
   "cell_type": "code",
   "execution_count": null,
   "metadata": {},
   "outputs": [],
   "source": []
  }
 ],
 "metadata": {
  "kernelspec": {
   "display_name": "Python 3",
   "language": "python",
   "name": "python3"
  }
 },
 "nbformat": 4,
 "nbformat_minor": 0
}
