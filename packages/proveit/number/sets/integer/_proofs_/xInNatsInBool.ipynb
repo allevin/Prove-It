{
 "cells": [
  {
   "cell_type": "markdown",
   "metadata": {},
   "source": [
    "Proof of <a class=\"ProveItLink\" href=\"../../../../_context_.ipynb\">proveit</a>.<a class=\"ProveItLink\" href=\"../../../_context_.ipynb\">number</a>.<a class=\"ProveItLink\" href=\"../../_context_.ipynb\">sets</a>.<a class=\"ProveItLink\" href=\"../_context_.ipynb\">integer</a>.<a class=\"ProveItLink\" href=\"../_theorems_.ipynb#xInNatsInBool\">xInNatsInBool</a> theorem\n",
    "========"
   ]
  },
  {
   "cell_type": "code",
   "execution_count": null,
   "metadata": {},
   "outputs": [],
   "source": [
    "import proveit\n",
    "from proveit._common_ import k, l, n\n",
    "from proveit.number import Naturals, NaturalsPos\n",
    "from proveit.number import zero, one\n",
    "from proveit.logic import InSet\n",
    "from proveit.number.sets.integer._axioms_ import naturalsDef\n",
    "from proveit.number.numeral.deci._theorems_ import posnat1\n",
    "from proveit.logic.boolean.quantification.universal._axioms_ import forallInBool\n",
    "context = proveit.Context('..') # the theorem's context is in the parent directory"
   ]
  },
  {
   "cell_type": "code",
   "execution_count": null,
   "metadata": {},
   "outputs": [],
   "source": [
    "%proving xInNatsInBool presuming [proveit.logic, proveit.number.numeral.deci]"
   ]
  },
  {
   "cell_type": "markdown",
   "metadata": {},
   "source": [
    "After some discussion with Wayne, appears this theorem proof will need to wait a bit until some details of the ``forallInBool`` axiom are updated/modified (10/25/2019)."
   ]
  },
  {
   "cell_type": "code",
   "execution_count": null,
   "metadata": {},
   "outputs": [],
   "source": [
    "naturalsDef"
   ]
  },
  {
   "cell_type": "code",
   "execution_count": null,
   "metadata": {},
   "outputs": [],
   "source": [
    "naturalsDefSpec = naturalsDef.specialize()"
   ]
  },
  {
   "cell_type": "code",
   "execution_count": null,
   "metadata": {},
   "outputs": [],
   "source": [
    "naturalsDefSpecRHS = naturalsDefSpec.rhs"
   ]
  },
  {
   "cell_type": "markdown",
   "metadata": {},
   "source": [
    "Currently broken.  Forall.deduceInBool must be updated."
   ]
  },
  {
   "cell_type": "code",
   "execution_count": null,
   "metadata": {},
   "outputs": [],
   "source": [
    "#naturalsDefSpecRHS.deduceInBool()"
   ]
  },
  {
   "cell_type": "code",
   "execution_count": null,
   "metadata": {},
   "outputs": [],
   "source": [
    "#forallInBool"
   ]
  },
  {
   "cell_type": "code",
   "execution_count": null,
   "metadata": {},
   "outputs": [],
   "source": [
    "#forallInBoolSpec = forallInBool.specialize({k:zero, l:one})"
   ]
  },
  {
   "cell_type": "code",
   "execution_count": null,
   "metadata": {},
   "outputs": [],
   "source": [
    "#%qed"
   ]
  },
  {
   "cell_type": "code",
   "execution_count": null,
   "metadata": {},
   "outputs": [],
   "source": []
  }
 ],
 "metadata": {
  "kernelspec": {
   "display_name": "Python 3",
   "language": "python",
   "name": "python3"
  }
 },
 "nbformat": 4,
 "nbformat_minor": 0
}
