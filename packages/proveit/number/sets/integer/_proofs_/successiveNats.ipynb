{
 "cells": [
  {
   "cell_type": "markdown",
   "metadata": {
    "collapsed": true
   },
   "source": [
    "Proof of <a class=\"ProveItLink\" href=\"../../../../_context_.ipynb\">proveit</a>.<a class=\"ProveItLink\" href=\"../../../_context_.ipynb\">number</a>.<a class=\"ProveItLink\" href=\"../../_context_.ipynb\">sets</a>.<a class=\"ProveItLink\" href=\"../_context_.ipynb\">integer</a>.<a class=\"ProveItLink\" href=\"../_theorems_.ipynb#successiveNats\">successiveNats</a> theorem\n",
    "========"
   ]
  },
  {
   "cell_type": "code",
   "execution_count": 1,
   "metadata": {},
   "outputs": [],
   "source": [
    "import proveit\n",
    "from proveit import defaults\n",
    "from proveit.number import zero, one\n",
    "from proveit.logic import InSet, NotInSet, Forall, And, Booleans\n",
    "from proveit.number import Naturals, Add\n",
    "from proveit import Operation\n",
    "from proveit._common_ import x, n, S, A, P, m\n",
    "from proveit.number.sets.integer._axioms_ import naturalsDef\n",
    "from proveit.number.sets.integer._theorems_ import zeroInNats, induction\n",
    "from proveit.logic.boolean.conjunction._theorems_ import andIfBoth\n",
    "context = proveit.Context('..') # the theorem's context is in the parent directory"
   ]
  },
  {
   "cell_type": "code",
   "execution_count": 2,
   "metadata": {},
   "outputs": [
    {
     "name": "stdout",
     "output_type": "stream",
     "text": [
      "Beginning proof of successiveNats\n",
      "Recorded 'presuming' information\n",
      "Presuming theorems in proveit.logic (except any that presume this theorem).\n",
      "Presuming previous theorem (applied transitively).\n"
     ]
    },
    {
     "data": {
      "text/html": [
       "<strong id=\"successiveNats\">successiveNats:</strong> <a class=\"ProveItLink\" href=\"../__pv_it/8e400090fb63f3b476d53594c4d61b8709839d170/expr.ipynb\"><img src=\"../__pv_it/8e400090fb63f3b476d53594c4d61b8709839d170/expr.png\" style=\"display:inline;vertical-align:middle;\" /></a><br>(see <a class=\"ProveItLink\" href=\"../__pv_it/8e400090fb63f3b476d53594c4d61b8709839d170/dependencies.ipynb\">dependencies</a>)<br>"
      ],
      "text/plain": [
       "successiveNats: forall_{n in Naturals} ((n + 1) in Naturals)"
      ]
     },
     "execution_count": 2,
     "metadata": {},
     "output_type": "execute_result"
    }
   ],
   "source": [
    "%proving successiveNats presuming [proveit.logic]"
   ]
  },
  {
   "cell_type": "code",
   "execution_count": 3,
   "metadata": {},
   "outputs": [
    {
     "data": {
      "text/html": [
       "<strong id=\"nPlusOne\">nPlusOne:</strong> <a class=\"ProveItLink\" href=\"../__pv_it/97008dbe76270e24662f0e9934b34d8a26faaf590/expr.ipynb\"><img src=\"../__pv_it/97008dbe76270e24662f0e9934b34d8a26faaf590/expr.png\" style=\"display:inline;vertical-align:middle;\" /></a><br>\n",
       "<strong id=\"nats\">nats:</strong> <a class=\"ProveItLink\" href=\"../__pv_it/4434d1ec6afb2b8deec87ded0866b923feb9d6e60/expr.ipynb\"><img src=\"../__pv_it/4434d1ec6afb2b8deec87ded0866b923feb9d6e60/expr.png\" style=\"display:inline;vertical-align:middle;\" /></a><br>"
      ],
      "text/plain": [
       "nPlusOne: n + 1\n",
       "nats: Naturals"
      ]
     },
     "execution_count": 3,
     "metadata": {},
     "output_type": "execute_result"
    }
   ],
   "source": [
    "nPlusOne, nats = successiveNats.instanceExpr.operands"
   ]
  },
  {
   "cell_type": "code",
   "execution_count": 4,
   "metadata": {
    "scrolled": true
   },
   "outputs": [
    {
     "data": {
      "text/html": [
       "<strong id=\"defaults.assumptions\">defaults.assumptions:</strong> <a class=\"ProveItLink\" href=\"../__pv_it/666df2326eb160e699697a00197e4e5a193ad3860/expr.ipynb\"><img src=\"../__pv_it/666df2326eb160e699697a00197e4e5a193ad3860/expr.png\" style=\"display:inline;vertical-align:middle;\" /></a><br>"
      ],
      "text/plain": [
       "defaults.assumptions: (n in Naturals)"
      ]
     },
     "execution_count": 4,
     "metadata": {},
     "output_type": "execute_result"
    }
   ],
   "source": [
    "defaults.assumptions = successiveNats.conditions"
   ]
  },
  {
   "cell_type": "code",
   "execution_count": 5,
   "metadata": {},
   "outputs": [
    {
     "data": {
      "text/html": [
       "<strong id=\"zInNat\">zInNat:</strong> <span style=\"font-size:20px;\"> &#x22A2;&nbsp;<a class=\"ProveItLink\" href=\"../__pv_it/932cd8f8b71e6c89cfa25891905ba91b5905cc6b0/expr.ipynb\"><img src=\"../__pv_it/932cd8f8b71e6c89cfa25891905ba91b5905cc6b0/expr.png\" style=\"display:inline;vertical-align:middle;\" /></a></span><br>"
      ],
      "text/plain": [
       "zInNat: |= (0 in Naturals) = TRUE"
      ]
     },
     "execution_count": 5,
     "metadata": {},
     "output_type": "execute_result"
    }
   ],
   "source": [
    "zInNat = zeroInNats.evaluation()"
   ]
  },
  {
   "cell_type": "code",
   "execution_count": 6,
   "metadata": {},
   "outputs": [
    {
     "data": {
      "text/html": [
       "<span style=\"font-size:20px;\"> &#x22A2;&nbsp;<a class=\"ProveItLink\" href=\"../__pv_it/ee3b010b656ce39b3e4c0e002f955d1a0de34dbe0/expr.ipynb\"><img src=\"../__pv_it/ee3b010b656ce39b3e4c0e002f955d1a0de34dbe0/expr.png\" style=\"display:inline;vertical-align:middle;\" /></a></span>"
      ],
      "text/plain": [
       "|= forall_{n} ((n in Naturals) = [forall_{S} (((0 in S) and [forall_{x in S} ((x + 1) in S)]) => (n in S))])"
      ]
     },
     "execution_count": 6,
     "metadata": {},
     "output_type": "execute_result"
    }
   ],
   "source": [
    "naturalsDef"
   ]
  },
  {
   "cell_type": "code",
   "execution_count": 7,
   "metadata": {},
   "outputs": [
    {
     "data": {
      "text/html": [
       "<strong id=\"spec_natDef_n\">spec_natDef_n:</strong> <span style=\"font-size:20px;\"> &#x22A2;&nbsp;<a class=\"ProveItLink\" href=\"../__pv_it/8ceef9575a7927c42b5dbae620bafc896ad004ea0/expr.ipynb\"><img src=\"../__pv_it/8ceef9575a7927c42b5dbae620bafc896ad004ea0/expr.png\" style=\"display:inline;vertical-align:middle;\" /></a></span><br>"
      ],
      "text/plain": [
       "spec_natDef_n: |= (n in Naturals) = [forall_{S} (((0 in S) and [forall_{x in S} ((x + 1) in S)]) => (n in S))]"
      ]
     },
     "execution_count": 7,
     "metadata": {},
     "output_type": "execute_result"
    }
   ],
   "source": [
    "spec_natDef_n = naturalsDef.specialize({n:n})"
   ]
  },
  {
   "cell_type": "code",
   "execution_count": 8,
   "metadata": {},
   "outputs": [
    {
     "data": {
      "text/html": [
       "<strong id=\"rhsN\">rhsN:</strong> <span style=\"font-size:20px;\"><a class=\"ProveItLink\" href=\"../__pv_it/fe51320ccf75fc72e4eb9bb0a308ad669aa2c6230/expr.ipynb\"><img src=\"../__pv_it/fe51320ccf75fc72e4eb9bb0a308ad669aa2c6230/expr.png\" style=\"display:inline;vertical-align:middle;\" /></a> &#x22A2;&nbsp;<a class=\"ProveItLink\" href=\"../__pv_it/fce5b10628f08ce062d8342edcc7f2007955255e0/expr.ipynb\"><img src=\"../__pv_it/fce5b10628f08ce062d8342edcc7f2007955255e0/expr.png\" style=\"display:inline;vertical-align:middle;\" /></a></span><br>"
      ],
      "text/plain": [
       "rhsN: {n in Naturals} |= forall_{S} (((0 in S) and [forall_{x in S} ((x + 1) in S)]) => (n in S))"
      ]
     },
     "execution_count": 8,
     "metadata": {},
     "output_type": "execute_result"
    }
   ],
   "source": [
    "rhsN = spec_natDef_n.deriveRightViaEquivalence()"
   ]
  },
  {
   "cell_type": "code",
   "execution_count": 9,
   "metadata": {},
   "outputs": [
    {
     "data": {
      "text/html": [
       "<strong id=\"rhsNspecS\">rhsNspecS:</strong> <span style=\"font-size:20px;\"><a class=\"ProveItLink\" href=\"../__pv_it/fe51320ccf75fc72e4eb9bb0a308ad669aa2c6230/expr.ipynb\"><img src=\"../__pv_it/fe51320ccf75fc72e4eb9bb0a308ad669aa2c6230/expr.png\" style=\"display:inline;vertical-align:middle;\" /></a> &#x22A2;&nbsp;<a class=\"ProveItLink\" href=\"../__pv_it/a45dbb07b8434a455de49a2ca30d52c421dd0d490/expr.ipynb\"><img src=\"../__pv_it/a45dbb07b8434a455de49a2ca30d52c421dd0d490/expr.png\" style=\"display:inline;vertical-align:middle;\" /></a></span><br>"
      ],
      "text/plain": [
       "rhsNspecS: {n in Naturals} |= ((0 in S) and [forall_{x in S} ((x + 1) in S)]) => (n in S)"
      ]
     },
     "execution_count": 9,
     "metadata": {},
     "output_type": "execute_result"
    }
   ],
   "source": [
    "rhsNspecS = rhsN.specialize({S:S})"
   ]
  },
  {
   "cell_type": "code",
   "execution_count": 10,
   "metadata": {},
   "outputs": [
    {
     "data": {
      "text/html": [
       "<strong id=\"spec_natDef_nPlus1\">spec_natDef_nPlus1:</strong> <span style=\"font-size:20px;\"> &#x22A2;&nbsp;<a class=\"ProveItLink\" href=\"../__pv_it/c07e383ea7ba075ad1a7e5b7cdae7382d78918d70/expr.ipynb\"><img src=\"../__pv_it/c07e383ea7ba075ad1a7e5b7cdae7382d78918d70/expr.png\" style=\"display:inline;vertical-align:middle;\" /></a></span><br>"
      ],
      "text/plain": [
       "spec_natDef_nPlus1: |= ((n + 1) in Naturals) = [forall_{S} (((0 in S) and [forall_{x in S} ((x + 1) in S)]) => ((n + 1) in S))]"
      ]
     },
     "execution_count": 10,
     "metadata": {},
     "output_type": "execute_result"
    }
   ],
   "source": [
    "spec_natDef_nPlus1 = naturalsDef.specialize({n:nPlusOne})"
   ]
  },
  {
   "cell_type": "code",
   "execution_count": 11,
   "metadata": {},
   "outputs": [
    {
     "data": {
      "text/html": [
       "<strong id=\"rhsNplus1\">rhsNplus1:</strong> <span style=\"font-size:20px;\"><a class=\"ProveItLink\" href=\"../__pv_it/7ec190f92e4b73fb4bce562cff20ef33bc4eae100/expr.ipynb\"><img src=\"../__pv_it/7ec190f92e4b73fb4bce562cff20ef33bc4eae100/expr.png\" style=\"display:inline;vertical-align:middle;\" /></a> &#x22A2;&nbsp;<a class=\"ProveItLink\" href=\"../__pv_it/3bc1c281ee709b44a60667164b66e008d0b617a30/expr.ipynb\"><img src=\"../__pv_it/3bc1c281ee709b44a60667164b66e008d0b617a30/expr.png\" style=\"display:inline;vertical-align:middle;\" /></a></span><br>"
      ],
      "text/plain": [
       "rhsNplus1: {(n + 1) in Naturals} |= forall_{S} (((0 in S) and [forall_{x in S} ((x + 1) in S)]) => ((n + 1) in S))"
      ]
     },
     "execution_count": 11,
     "metadata": {},
     "output_type": "execute_result"
    }
   ],
   "source": [
    "rhsNplus1 = spec_natDef_nPlus1.deriveRightViaEquivalence(assumptions = ((InSet(nPlusOne, Naturals),)))"
   ]
  },
  {
   "cell_type": "code",
   "execution_count": 12,
   "metadata": {},
   "outputs": [
    {
     "data": {
      "text/html": [
       "<strong id=\"spec_nPlus1\">spec_nPlus1:</strong> <span style=\"font-size:20px;\"><a class=\"ProveItLink\" href=\"../__pv_it/7ec190f92e4b73fb4bce562cff20ef33bc4eae100/expr.ipynb\"><img src=\"../__pv_it/7ec190f92e4b73fb4bce562cff20ef33bc4eae100/expr.png\" style=\"display:inline;vertical-align:middle;\" /></a> &#x22A2;&nbsp;<a class=\"ProveItLink\" href=\"../__pv_it/6bfc5a2b64fafaade3e64d16d4c39c66fb78f0dc0/expr.ipynb\"><img src=\"../__pv_it/6bfc5a2b64fafaade3e64d16d4c39c66fb78f0dc0/expr.png\" style=\"display:inline;vertical-align:middle;\" /></a></span><br>"
      ],
      "text/plain": [
       "spec_nPlus1: {(n + 1) in Naturals} |= ((0 in S) and [forall_{x in S} ((x + 1) in S)]) => ((n + 1) in S)"
      ]
     },
     "execution_count": 12,
     "metadata": {},
     "output_type": "execute_result"
    }
   ],
   "source": [
    "spec_nPlus1 = rhsNplus1.specialize({S:S}, assumptions = rhsNplus1.assumptions)"
   ]
  },
  {
   "cell_type": "code",
   "execution_count": 13,
   "metadata": {},
   "outputs": [
    {
     "data": {
      "text/html": [
       "<strong id=\"xplus1\">xplus1:</strong> <a class=\"ProveItLink\" href=\"../__pv_it/194af819806d50b75b5f8d57acbfabae960c3a3c0/expr.ipynb\"><img src=\"../__pv_it/194af819806d50b75b5f8d57acbfabae960c3a3c0/expr.png\" style=\"display:inline;vertical-align:middle;\" /></a><br>"
      ],
      "text/plain": [
       "xplus1: forall_{x in S} ((x + 1) in S)"
      ]
     },
     "execution_count": 13,
     "metadata": {},
     "output_type": "execute_result"
    }
   ],
   "source": [
    "xplus1 = spec_nPlus1.antecedent.operands[1]"
   ]
  },
  {
   "cell_type": "code",
   "execution_count": 14,
   "metadata": {
    "scrolled": true
   },
   "outputs": [
    {
     "data": {
      "text/html": [
       "<strong id=\"spec_xplus1\">spec_xplus1:</strong> <span style=\"font-size:20px;\"><a class=\"ProveItLink\" href=\"../__pv_it/bfe9c55f7ce24b055706289f04aa087108d4e8670/expr.ipynb\"><img src=\"../__pv_it/bfe9c55f7ce24b055706289f04aa087108d4e8670/expr.png\" style=\"display:inline;vertical-align:middle;\" /></a> &#x22A2;&nbsp;<a class=\"ProveItLink\" href=\"../__pv_it/5053c9248beb911b5896b7c73f78098d24f614200/expr.ipynb\"><img src=\"../__pv_it/5053c9248beb911b5896b7c73f78098d24f614200/expr.png\" style=\"display:inline;vertical-align:middle;\" /></a></span><br>"
      ],
      "text/plain": [
       "spec_xplus1: {(0 in S) and [forall_{x in S} ((x + 1) in S)] , n in Naturals} |= (n + 1) in S"
      ]
     },
     "execution_count": 14,
     "metadata": {},
     "output_type": "execute_result"
    }
   ],
   "source": [
    "spec_xplus1 = xplus1.specialize({x:n}, assumptions = [spec_nPlus1.antecedent, InSet(n,Naturals)])"
   ]
  },
  {
   "cell_type": "code",
   "execution_count": 15,
   "metadata": {},
   "outputs": [
    {
     "data": {
      "text/html": [
       "<span style=\"font-size:20px;\"><a class=\"ProveItLink\" href=\"../__pv_it/bfe9c55f7ce24b055706289f04aa087108d4e8670/expr.ipynb\"><img src=\"../__pv_it/bfe9c55f7ce24b055706289f04aa087108d4e8670/expr.png\" style=\"display:inline;vertical-align:middle;\" /></a> &#x22A2;&nbsp;<a class=\"ProveItLink\" href=\"../__pv_it/025c9c44158995bd345cfdefbb8fd30ed07ba2170/expr.ipynb\"><img src=\"../__pv_it/025c9c44158995bd345cfdefbb8fd30ed07ba2170/expr.png\" style=\"display:inline;vertical-align:middle;\" /></a></span>"
      ],
      "text/plain": [
       "{(0 in S) and [forall_{x in S} ((x + 1) in S)] , n in Naturals} |= ((n + 1) in S) = TRUE"
      ]
     },
     "execution_count": 15,
     "metadata": {},
     "output_type": "execute_result"
    }
   ],
   "source": [
    "spec_xplus1.evaluation()"
   ]
  },
  {
   "cell_type": "code",
   "execution_count": 16,
   "metadata": {},
   "outputs": [
    {
     "data": {
      "text/html": [
       "<span style=\"font-size:20px;\"><a class=\"ProveItLink\" href=\"../__pv_it/fe51320ccf75fc72e4eb9bb0a308ad669aa2c6230/expr.ipynb\"><img src=\"../__pv_it/fe51320ccf75fc72e4eb9bb0a308ad669aa2c6230/expr.png\" style=\"display:inline;vertical-align:middle;\" /></a> &#x22A2;&nbsp;<a class=\"ProveItLink\" href=\"../__pv_it/6bfc5a2b64fafaade3e64d16d4c39c66fb78f0dc0/expr.ipynb\"><img src=\"../__pv_it/6bfc5a2b64fafaade3e64d16d4c39c66fb78f0dc0/expr.png\" style=\"display:inline;vertical-align:middle;\" /></a></span>"
      ],
      "text/plain": [
       "{n in Naturals} |= ((0 in S) and [forall_{x in S} ((x + 1) in S)]) => ((n + 1) in S)"
      ]
     },
     "execution_count": 16,
     "metadata": {},
     "output_type": "execute_result"
    }
   ],
   "source": [
    "spec_xplus1.asImplication(spec_nPlus1.antecedent)"
   ]
  },
  {
   "cell_type": "code",
   "execution_count": 17,
   "metadata": {},
   "outputs": [
    {
     "data": {
      "text/html": [
       "<span style=\"font-size:20px;\"><a class=\"ProveItLink\" href=\"../__pv_it/fe51320ccf75fc72e4eb9bb0a308ad669aa2c6230/expr.ipynb\"><img src=\"../__pv_it/fe51320ccf75fc72e4eb9bb0a308ad669aa2c6230/expr.png\" style=\"display:inline;vertical-align:middle;\" /></a> &#x22A2;&nbsp;<a class=\"ProveItLink\" href=\"../__pv_it/a5255f7fc5a0ff03165d9e6b1132d7b5e860af290/expr.ipynb\"><img src=\"../__pv_it/a5255f7fc5a0ff03165d9e6b1132d7b5e860af290/expr.png\" style=\"display:inline;vertical-align:middle;\" /></a></span>"
      ],
      "text/plain": [
       "{n in Naturals} |= (n + 1) in Naturals"
      ]
     },
     "execution_count": 17,
     "metadata": {},
     "output_type": "execute_result"
    }
   ],
   "source": [
    "spec_natDef_nPlus1.deriveLeftViaEquivalence()"
   ]
  },
  {
   "cell_type": "code",
   "execution_count": 18,
   "metadata": {},
   "outputs": [
    {
     "data": {
      "text/html": [
       "<table><tr><th>&nbsp;</th><th>step type</th><th>requirements</th><th>statement</th></tr>\n",
       "<tr><td>0</td><td>generalizaton</td><td>1</td><td><span style=\"font-size:20px;\"> &#x22A2;&nbsp;<a class=\"ProveItLink\" href=\"../__pv_it/8e400090fb63f3b476d53594c4d61b8709839d170/expr.ipynb\"><img src=\"../__pv_it/8e400090fb63f3b476d53594c4d61b8709839d170/expr.png\" style=\"display:inline;vertical-align:middle;\" /></a></span></td></tr>\n",
       "<tr><td>1</td><td>specialization</td><td>2, 3, 4</td><td><span style=\"font-size:20px;\"><a class=\"ProveItLink\" href=\"../__pv_it/fe51320ccf75fc72e4eb9bb0a308ad669aa2c6230/expr.ipynb\"><img src=\"../__pv_it/fe51320ccf75fc72e4eb9bb0a308ad669aa2c6230/expr.png\" style=\"display:inline;vertical-align:middle;\" /></a> &#x22A2;&nbsp;<a class=\"ProveItLink\" href=\"../__pv_it/a5255f7fc5a0ff03165d9e6b1132d7b5e860af290/expr.ipynb\"><img src=\"../__pv_it/a5255f7fc5a0ff03165d9e6b1132d7b5e860af290/expr.png\" style=\"display:inline;vertical-align:middle;\" /></a></span></td></tr>\n",
       "<tr><td>&nbsp;</td><td colspan=4 style=\"text-align:left\"><span style=\"font-size:20px;\"><a class=\"ProveItLink\" href=\"../../../../__pv_it/6369c6c8083c513ca7161ace249642d040f9327d0/expr.ipynb\"><img src=\"../../../../__pv_it/6369c6c8083c513ca7161ace249642d040f9327d0/expr.png\" style=\"display:inline;vertical-align:middle;\" /></a> : <a class=\"ProveItLink\" href=\"../__pv_it/a5255f7fc5a0ff03165d9e6b1132d7b5e860af290/expr.ipynb\"><img src=\"../__pv_it/a5255f7fc5a0ff03165d9e6b1132d7b5e860af290/expr.png\" style=\"display:inline;vertical-align:middle;\" /></a>, <a class=\"ProveItLink\" href=\"../../../../__pv_it/98124f92e6e1fc3772af50ac63eaa1f5624776f20/expr.ipynb\"><img src=\"../../../../__pv_it/98124f92e6e1fc3772af50ac63eaa1f5624776f20/expr.png\" style=\"display:inline;vertical-align:middle;\" /></a> : <a class=\"ProveItLink\" href=\"../__pv_it/3bc1c281ee709b44a60667164b66e008d0b617a30/expr.ipynb\"><img src=\"../__pv_it/3bc1c281ee709b44a60667164b66e008d0b617a30/expr.png\" style=\"display:inline;vertical-align:middle;\" /></a></span></td></tr><tr><td>2</td><td>theorem</td><td></td><td><span style=\"font-size:20px;\"> &#x22A2;&nbsp;<a class=\"ProveItLink\" href=\"../../../../logic/equality/__pv_it/20e88ce75ad82ac426b1e24a0c22cab3a686b0da0/expr.ipynb\"><img src=\"../../../../logic/equality/__pv_it/20e88ce75ad82ac426b1e24a0c22cab3a686b0da0/expr.png\" style=\"display:inline;vertical-align:middle;\" /></a></span></td></tr>\n",
       "<tr><td>&nbsp;</td><td colspan=4 style-\"text-align:left\"><a class=\"ProveItLink\" href=\"../../../../logic/equality/_proofs_/lhsViaEquivalence.ipynb\">proveit.logic.equality.lhsViaEquivalence</a></td></tr><tr><td>3</td><td>generalizaton</td><td>5</td><td><span style=\"font-size:20px;\"><a class=\"ProveItLink\" href=\"../__pv_it/fe51320ccf75fc72e4eb9bb0a308ad669aa2c6230/expr.ipynb\"><img src=\"../__pv_it/fe51320ccf75fc72e4eb9bb0a308ad669aa2c6230/expr.png\" style=\"display:inline;vertical-align:middle;\" /></a> &#x22A2;&nbsp;<a class=\"ProveItLink\" href=\"../__pv_it/3bc1c281ee709b44a60667164b66e008d0b617a30/expr.ipynb\"><img src=\"../__pv_it/3bc1c281ee709b44a60667164b66e008d0b617a30/expr.png\" style=\"display:inline;vertical-align:middle;\" /></a></span></td></tr>\n",
       "<tr><td>4</td><td>specialization</td><td>16</td><td><span style=\"font-size:20px;\"> &#x22A2;&nbsp;<a class=\"ProveItLink\" href=\"../__pv_it/c07e383ea7ba075ad1a7e5b7cdae7382d78918d70/expr.ipynb\"><img src=\"../__pv_it/c07e383ea7ba075ad1a7e5b7cdae7382d78918d70/expr.png\" style=\"display:inline;vertical-align:middle;\" /></a></span></td></tr>\n",
       "<tr><td>&nbsp;</td><td colspan=4 style=\"text-align:left\"><span style=\"font-size:20px;\"><a class=\"ProveItLink\" href=\"../../../../__pv_it/39dbcd3ca0390345b51c6ef7785756419e2c14390/expr.ipynb\"><img src=\"../../../../__pv_it/39dbcd3ca0390345b51c6ef7785756419e2c14390/expr.png\" style=\"display:inline;vertical-align:middle;\" /></a> : <a class=\"ProveItLink\" href=\"../__pv_it/97008dbe76270e24662f0e9934b34d8a26faaf590/expr.ipynb\"><img src=\"../__pv_it/97008dbe76270e24662f0e9934b34d8a26faaf590/expr.png\" style=\"display:inline;vertical-align:middle;\" /></a></span></td></tr><tr><td>5</td><td>hypothetical reasoning</td><td>6</td><td><span style=\"font-size:20px;\"><a class=\"ProveItLink\" href=\"../__pv_it/fe51320ccf75fc72e4eb9bb0a308ad669aa2c6230/expr.ipynb\"><img src=\"../__pv_it/fe51320ccf75fc72e4eb9bb0a308ad669aa2c6230/expr.png\" style=\"display:inline;vertical-align:middle;\" /></a> &#x22A2;&nbsp;<a class=\"ProveItLink\" href=\"../__pv_it/6bfc5a2b64fafaade3e64d16d4c39c66fb78f0dc0/expr.ipynb\"><img src=\"../__pv_it/6bfc5a2b64fafaade3e64d16d4c39c66fb78f0dc0/expr.png\" style=\"display:inline;vertical-align:middle;\" /></a></span></td></tr>\n",
       "<tr><td>6</td><td>specialization</td><td>7, 8</td><td><span style=\"font-size:20px;\"><a class=\"ProveItLink\" href=\"../__pv_it/bfe9c55f7ce24b055706289f04aa087108d4e8670/expr.ipynb\"><img src=\"../__pv_it/bfe9c55f7ce24b055706289f04aa087108d4e8670/expr.png\" style=\"display:inline;vertical-align:middle;\" /></a> &#x22A2;&nbsp;<a class=\"ProveItLink\" href=\"../__pv_it/5053c9248beb911b5896b7c73f78098d24f614200/expr.ipynb\"><img src=\"../__pv_it/5053c9248beb911b5896b7c73f78098d24f614200/expr.png\" style=\"display:inline;vertical-align:middle;\" /></a></span></td></tr>\n",
       "<tr><td>&nbsp;</td><td colspan=4 style=\"text-align:left\"><span style=\"font-size:20px;\"><a class=\"ProveItLink\" href=\"../../../../__pv_it/530be409e3083890784cf1d7b28c9e67e90af9360/expr.ipynb\"><img src=\"../../../../__pv_it/530be409e3083890784cf1d7b28c9e67e90af9360/expr.png\" style=\"display:inline;vertical-align:middle;\" /></a> : <a class=\"ProveItLink\" href=\"../../../../__pv_it/39dbcd3ca0390345b51c6ef7785756419e2c14390/expr.ipynb\"><img src=\"../../../../__pv_it/39dbcd3ca0390345b51c6ef7785756419e2c14390/expr.png\" style=\"display:inline;vertical-align:middle;\" /></a></span></td></tr><tr><td>7</td><td>specialization</td><td>9, 11</td><td><span style=\"font-size:20px;\"><a class=\"ProveItLink\" href=\"../__pv_it/ca4d76d16b9b7e4aa378633b93437ee87b4cd9ed0/expr.ipynb\"><img src=\"../__pv_it/ca4d76d16b9b7e4aa378633b93437ee87b4cd9ed0/expr.png\" style=\"display:inline;vertical-align:middle;\" /></a> &#x22A2;&nbsp;<a class=\"ProveItLink\" href=\"../__pv_it/194af819806d50b75b5f8d57acbfabae960c3a3c0/expr.ipynb\"><img src=\"../__pv_it/194af819806d50b75b5f8d57acbfabae960c3a3c0/expr.png\" style=\"display:inline;vertical-align:middle;\" /></a></span></td></tr>\n",
       "<tr><td>&nbsp;</td><td colspan=4 style=\"text-align:left\"><span style=\"font-size:20px;\"><a class=\"ProveItLink\" href=\"../../../../__pv_it/2cbe72a7ad6f655694dd697106680215e8489b600/expr.ipynb\"><img src=\"../../../../__pv_it/2cbe72a7ad6f655694dd697106680215e8489b600/expr.png\" style=\"display:inline;vertical-align:middle;\" /></a> : <a class=\"ProveItLink\" href=\"../__pv_it/5dd321beabf1e63d97f364a511d41117fc76889b0/expr.ipynb\"><img src=\"../__pv_it/5dd321beabf1e63d97f364a511d41117fc76889b0/expr.png\" style=\"display:inline;vertical-align:middle;\" /></a>, <a class=\"ProveItLink\" href=\"../../../../__pv_it/077b2ff79244fb4582cbe22c6e3356fa92a52f2f0/expr.ipynb\"><img src=\"../../../../__pv_it/077b2ff79244fb4582cbe22c6e3356fa92a52f2f0/expr.png\" style=\"display:inline;vertical-align:middle;\" /></a> : <a class=\"ProveItLink\" href=\"../__pv_it/194af819806d50b75b5f8d57acbfabae960c3a3c0/expr.ipynb\"><img src=\"../__pv_it/194af819806d50b75b5f8d57acbfabae960c3a3c0/expr.png\" style=\"display:inline;vertical-align:middle;\" /></a></span></td></tr><tr><td>8</td><td>modus ponens</td><td>10, 11</td><td><span style=\"font-size:20px;\"><a class=\"ProveItLink\" href=\"../__pv_it/bfe9c55f7ce24b055706289f04aa087108d4e8670/expr.ipynb\"><img src=\"../__pv_it/bfe9c55f7ce24b055706289f04aa087108d4e8670/expr.png\" style=\"display:inline;vertical-align:middle;\" /></a> &#x22A2;&nbsp;<a class=\"ProveItLink\" href=\"../__pv_it/d5d90c80b47bb258e8ac945a563d7fb90193c1ec0/expr.ipynb\"><img src=\"../__pv_it/d5d90c80b47bb258e8ac945a563d7fb90193c1ec0/expr.png\" style=\"display:inline;vertical-align:middle;\" /></a></span></td></tr>\n",
       "<tr><td>9</td><td>theorem</td><td></td><td><span style=\"font-size:20px;\"> &#x22A2;&nbsp;<a class=\"ProveItLink\" href=\"../../../../logic/boolean/conjunction/__pv_it/cacedd51471fbbbbf687acfa7e76e99ae2041b550/expr.ipynb\"><img src=\"../../../../logic/boolean/conjunction/__pv_it/cacedd51471fbbbbf687acfa7e76e99ae2041b550/expr.png\" style=\"display:inline;vertical-align:middle;\" /></a></span></td></tr>\n",
       "<tr><td>&nbsp;</td><td colspan=4 style-\"text-align:left\"><a class=\"ProveItLink\" href=\"../../../../logic/boolean/conjunction/_proofs_/rightFromAnd.ipynb\">proveit.logic.boolean.conjunction.rightFromAnd</a></td></tr><tr><td>10</td><td>specialization</td><td>12</td><td><span style=\"font-size:20px;\"><a class=\"ProveItLink\" href=\"../__pv_it/fe51320ccf75fc72e4eb9bb0a308ad669aa2c6230/expr.ipynb\"><img src=\"../__pv_it/fe51320ccf75fc72e4eb9bb0a308ad669aa2c6230/expr.png\" style=\"display:inline;vertical-align:middle;\" /></a> &#x22A2;&nbsp;<a class=\"ProveItLink\" href=\"../__pv_it/a45dbb07b8434a455de49a2ca30d52c421dd0d490/expr.ipynb\"><img src=\"../__pv_it/a45dbb07b8434a455de49a2ca30d52c421dd0d490/expr.png\" style=\"display:inline;vertical-align:middle;\" /></a></span></td></tr>\n",
       "<tr><td>&nbsp;</td><td colspan=4 style=\"text-align:left\"><span style=\"font-size:20px;\"><a class=\"ProveItLink\" href=\"../../../../__pv_it/abeee18594afe51bfb1be95d9591fbba24ac53f30/expr.ipynb\"><img src=\"../../../../__pv_it/abeee18594afe51bfb1be95d9591fbba24ac53f30/expr.png\" style=\"display:inline;vertical-align:middle;\" /></a> : <a class=\"ProveItLink\" href=\"../../../../__pv_it/abeee18594afe51bfb1be95d9591fbba24ac53f30/expr.ipynb\"><img src=\"../../../../__pv_it/abeee18594afe51bfb1be95d9591fbba24ac53f30/expr.png\" style=\"display:inline;vertical-align:middle;\" /></a></span></td></tr><tr><td>11</td><td>assumption</td><td></td><td><span style=\"font-size:20px;\"><a class=\"ProveItLink\" href=\"../__pv_it/ca4d76d16b9b7e4aa378633b93437ee87b4cd9ed0/expr.ipynb\"><img src=\"../__pv_it/ca4d76d16b9b7e4aa378633b93437ee87b4cd9ed0/expr.png\" style=\"display:inline;vertical-align:middle;\" /></a> &#x22A2;&nbsp;<a class=\"ProveItLink\" href=\"../__pv_it/9930867f404c9ba2b46af0dd191b71ba0056c8ff0/expr.ipynb\"><img src=\"../__pv_it/9930867f404c9ba2b46af0dd191b71ba0056c8ff0/expr.png\" style=\"display:inline;vertical-align:middle;\" /></a></span></td></tr>\n",
       "<tr><td>12</td><td>specialization</td><td>13, 14, 15</td><td><span style=\"font-size:20px;\"><a class=\"ProveItLink\" href=\"../__pv_it/fe51320ccf75fc72e4eb9bb0a308ad669aa2c6230/expr.ipynb\"><img src=\"../__pv_it/fe51320ccf75fc72e4eb9bb0a308ad669aa2c6230/expr.png\" style=\"display:inline;vertical-align:middle;\" /></a> &#x22A2;&nbsp;<a class=\"ProveItLink\" href=\"../__pv_it/fce5b10628f08ce062d8342edcc7f2007955255e0/expr.ipynb\"><img src=\"../__pv_it/fce5b10628f08ce062d8342edcc7f2007955255e0/expr.png\" style=\"display:inline;vertical-align:middle;\" /></a></span></td></tr>\n",
       "<tr><td>&nbsp;</td><td colspan=4 style=\"text-align:left\"><span style=\"font-size:20px;\"><a class=\"ProveItLink\" href=\"../../../../__pv_it/6369c6c8083c513ca7161ace249642d040f9327d0/expr.ipynb\"><img src=\"../../../../__pv_it/6369c6c8083c513ca7161ace249642d040f9327d0/expr.png\" style=\"display:inline;vertical-align:middle;\" /></a> : <a class=\"ProveItLink\" href=\"../__pv_it/0aa9ef9a9d1be14695976d59d4413e57bf1941ef0/expr.ipynb\"><img src=\"../__pv_it/0aa9ef9a9d1be14695976d59d4413e57bf1941ef0/expr.png\" style=\"display:inline;vertical-align:middle;\" /></a>, <a class=\"ProveItLink\" href=\"../../../../__pv_it/98124f92e6e1fc3772af50ac63eaa1f5624776f20/expr.ipynb\"><img src=\"../../../../__pv_it/98124f92e6e1fc3772af50ac63eaa1f5624776f20/expr.png\" style=\"display:inline;vertical-align:middle;\" /></a> : <a class=\"ProveItLink\" href=\"../__pv_it/fce5b10628f08ce062d8342edcc7f2007955255e0/expr.ipynb\"><img src=\"../__pv_it/fce5b10628f08ce062d8342edcc7f2007955255e0/expr.png\" style=\"display:inline;vertical-align:middle;\" /></a></span></td></tr><tr><td>13</td><td>theorem</td><td></td><td><span style=\"font-size:20px;\"> &#x22A2;&nbsp;<a class=\"ProveItLink\" href=\"../../../../logic/equality/__pv_it/5519e736e5532a5ae5ff775c349b2696cf5476500/expr.ipynb\"><img src=\"../../../../logic/equality/__pv_it/5519e736e5532a5ae5ff775c349b2696cf5476500/expr.png\" style=\"display:inline;vertical-align:middle;\" /></a></span></td></tr>\n",
       "<tr><td>&nbsp;</td><td colspan=4 style-\"text-align:left\"><a class=\"ProveItLink\" href=\"../../../../logic/equality/_proofs_/rhsViaEquivalence.ipynb\">proveit.logic.equality.rhsViaEquivalence</a></td></tr><tr><td>14</td><td>assumption</td><td></td><td><span style=\"font-size:20px;\"><a class=\"ProveItLink\" href=\"../__pv_it/fe51320ccf75fc72e4eb9bb0a308ad669aa2c6230/expr.ipynb\"><img src=\"../__pv_it/fe51320ccf75fc72e4eb9bb0a308ad669aa2c6230/expr.png\" style=\"display:inline;vertical-align:middle;\" /></a> &#x22A2;&nbsp;<a class=\"ProveItLink\" href=\"../__pv_it/0aa9ef9a9d1be14695976d59d4413e57bf1941ef0/expr.ipynb\"><img src=\"../__pv_it/0aa9ef9a9d1be14695976d59d4413e57bf1941ef0/expr.png\" style=\"display:inline;vertical-align:middle;\" /></a></span></td></tr>\n",
       "<tr><td>15</td><td>specialization</td><td>16</td><td><span style=\"font-size:20px;\"> &#x22A2;&nbsp;<a class=\"ProveItLink\" href=\"../__pv_it/8ceef9575a7927c42b5dbae620bafc896ad004ea0/expr.ipynb\"><img src=\"../__pv_it/8ceef9575a7927c42b5dbae620bafc896ad004ea0/expr.png\" style=\"display:inline;vertical-align:middle;\" /></a></span></td></tr>\n",
       "<tr><td>&nbsp;</td><td colspan=4 style=\"text-align:left\"><span style=\"font-size:20px;\"><a class=\"ProveItLink\" href=\"../../../../__pv_it/39dbcd3ca0390345b51c6ef7785756419e2c14390/expr.ipynb\"><img src=\"../../../../__pv_it/39dbcd3ca0390345b51c6ef7785756419e2c14390/expr.png\" style=\"display:inline;vertical-align:middle;\" /></a> : <a class=\"ProveItLink\" href=\"../../../../__pv_it/39dbcd3ca0390345b51c6ef7785756419e2c14390/expr.ipynb\"><img src=\"../../../../__pv_it/39dbcd3ca0390345b51c6ef7785756419e2c14390/expr.png\" style=\"display:inline;vertical-align:middle;\" /></a></span></td></tr><tr><td>16</td><td>axiom</td><td></td><td><span style=\"font-size:20px;\"> &#x22A2;&nbsp;<a class=\"ProveItLink\" href=\"../__pv_it/ee3b010b656ce39b3e4c0e002f955d1a0de34dbe0/expr.ipynb\"><img src=\"../__pv_it/ee3b010b656ce39b3e4c0e002f955d1a0de34dbe0/expr.png\" style=\"display:inline;vertical-align:middle;\" /></a></span></td></tr>\n",
       "<tr><td>&nbsp;</td><td colspan=4 style-\"text-align:left\"><a class=\"ProveItLink\" href=\"../_axioms_.ipynb#naturalsDef\">proveit.number.sets.integer.naturalsDef</a></td></tr></table>"
      ],
      "text/plain": [
       "\tstep type\trequirements\tstatement\n",
       "0\tgeneralizaton\t1\t|= forall_{n in Naturals} ((n + 1) in Naturals)\n",
       "1\tspecialization\t2, 3, 4\t{n in Naturals} |= (n + 1) in Naturals\n",
       "\tP : (n + 1) in Naturals, Q : forall_{S} (((0 in S) and [forall_{x in S} ((x + 1) in S)]) => ((n + 1) in S))\n",
       "2\ttheorem\t\t|= forall_{P, Q | Q , P = Q} P\n",
       "\tproveit.logic.equality.lhsViaEquivalence\n",
       "3\tgeneralizaton\t5\t{n in Naturals} |= forall_{S} (((0 in S) and [forall_{x in S} ((x + 1) in S)]) => ((n + 1) in S))\n",
       "4\tspecialization\t16\t|= ((n + 1) in Naturals) = [forall_{S} (((0 in S) and [forall_{x in S} ((x + 1) in S)]) => ((n + 1) in S))]\n",
       "\tn : n + 1\n",
       "5\thypothetical reasoning\t6\t{n in Naturals} |= ((0 in S) and [forall_{x in S} ((x + 1) in S)]) => ((n + 1) in S)\n",
       "6\tspecialization\t7, 8\t{(0 in S) and [forall_{x in S} ((x + 1) in S)] , n in Naturals} |= (n + 1) in S\n",
       "\tx : n\n",
       "7\tspecialization\t9, 11\t{(0 in S) and [forall_{x in S} ((x + 1) in S)]} |= forall_{x in S} ((x + 1) in S)\n",
       "\tA : 0 in S, B : forall_{x in S} ((x + 1) in S)\n",
       "8\tmodus ponens\t10, 11\t{(0 in S) and [forall_{x in S} ((x + 1) in S)] , n in Naturals} |= n in S\n",
       "9\ttheorem\t\t|= forall_{A, B | A and B} B\n",
       "\tproveit.logic.boolean.conjunction.rightFromAnd\n",
       "10\tspecialization\t12\t{n in Naturals} |= ((0 in S) and [forall_{x in S} ((x + 1) in S)]) => (n in S)\n",
       "\tS : S\n",
       "11\tassumption\t\t{(0 in S) and [forall_{x in S} ((x + 1) in S)]} |= (0 in S) and [forall_{x in S} ((x + 1) in S)]\n",
       "12\tspecialization\t13, 14, 15\t{n in Naturals} |= forall_{S} (((0 in S) and [forall_{x in S} ((x + 1) in S)]) => (n in S))\n",
       "\tP : n in Naturals, Q : forall_{S} (((0 in S) and [forall_{x in S} ((x + 1) in S)]) => (n in S))\n",
       "13\ttheorem\t\t|= forall_{P, Q | P , P = Q} Q\n",
       "\tproveit.logic.equality.rhsViaEquivalence\n",
       "14\tassumption\t\t{n in Naturals} |= n in Naturals\n",
       "15\tspecialization\t16\t|= (n in Naturals) = [forall_{S} (((0 in S) and [forall_{x in S} ((x + 1) in S)]) => (n in S))]\n",
       "\tn : n\n",
       "16\taxiom\t\t|= forall_{n} ((n in Naturals) = [forall_{S} (((0 in S) and [forall_{x in S} ((x + 1) in S)]) => (n in S))])\n",
       "\tproveit.number.sets.integer.naturalsDef"
      ]
     },
     "execution_count": 18,
     "metadata": {},
     "output_type": "execute_result"
    }
   ],
   "source": [
    "%qed"
   ]
  },
  {
   "cell_type": "code",
   "execution_count": null,
   "metadata": {},
   "outputs": [],
   "source": []
  },
  {
   "cell_type": "code",
   "execution_count": null,
   "metadata": {},
   "outputs": [],
   "source": []
  }
 ],
 "metadata": {
  "kernelspec": {
   "display_name": "Python 3",
   "language": "python",
   "name": "python3"
  },
  "language_info": {
   "codemirror_mode": {
    "name": "ipython",
    "version": 3
   },
   "file_extension": ".py",
   "mimetype": "text/x-python",
   "name": "python",
   "nbconvert_exporter": "python",
   "pygments_lexer": "ipython3",
   "version": "3.7.3"
  }
 },
 "nbformat": 4,
 "nbformat_minor": 1
}
