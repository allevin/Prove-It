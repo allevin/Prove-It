{
 "cells": [
  {
   "cell_type": "markdown",
   "metadata": {
    "collapsed": true
   },
   "source": [
    "Proof of <a class=\"ProveItLink\" href=\"../../../../_context_.ipynb\">proveit</a>.<a class=\"ProveItLink\" href=\"../../../_context_.ipynb\">number</a>.<a class=\"ProveItLink\" href=\"../../_context_.ipynb\">sets</a>.<a class=\"ProveItLink\" href=\"../_context_.ipynb\">integer</a>.<a class=\"ProveItLink\" href=\"../_theorems_.ipynb#successiveNats\">successiveNats</a> theorem\n",
    "========"
   ]
  },
  {
   "cell_type": "code",
   "execution_count": 1,
   "metadata": {},
   "outputs": [],
   "source": [
    "import proveit\n",
    "from proveit.number import zero\n",
    "from proveit.logic import InSet\n",
    "from proveit.number import Naturals\n",
    "from proveit import Operation\n",
    "from proveit._common_ import x, n, S, A, P, m\n",
    "from proveit.number.sets.integer._axioms_ import naturalsDef\n",
    "from proveit.number.sets.integer._theorems_ import zeroInNats, induction\n",
    "from proveit.logic.boolean.conjunction._theorems_ import andIfBoth\n",
    "context = proveit.Context('..') # the theorem's context is in the parent directory"
   ]
  },
  {
   "cell_type": "code",
   "execution_count": 2,
   "metadata": {},
   "outputs": [
    {
     "name": "stdout",
     "output_type": "stream",
     "text": [
      "Beginning proof of successiveNats\n",
      "Recorded 'presuming' information\n",
      "Presuming theorems in proveit.logic (except any that presume this theorem).\n",
      "Presuming previous theorem (applied transitively).\n"
     ]
    },
    {
     "data": {
      "text/html": [
       "<strong id=\"successiveNats\">successiveNats:</strong> <a class=\"ProveItLink\" href=\"../__pv_it/8e400090fb63f3b476d53594c4d61b8709839d170/expr.ipynb\"><img src=\"../__pv_it/8e400090fb63f3b476d53594c4d61b8709839d170/expr.png\" style=\"display:inline;vertical-align:middle;\" /></a><br>(see <a class=\"ProveItLink\" href=\"../__pv_it/8e400090fb63f3b476d53594c4d61b8709839d170/dependencies.ipynb\">dependencies</a>)<br>"
      ],
      "text/plain": [
       "successiveNats: forall_{n in Naturals} ((n + 1) in Naturals)"
      ]
     },
     "execution_count": 2,
     "metadata": {},
     "output_type": "execute_result"
    }
   ],
   "source": [
    "%proving successiveNats presuming [proveit.logic]"
   ]
  },
  {
   "cell_type": "code",
   "execution_count": 3,
   "metadata": {},
   "outputs": [
    {
     "data": {
      "text/html": [
       "<strong id=\"nPlusOne\">nPlusOne:</strong> <a class=\"ProveItLink\" href=\"../__pv_it/97008dbe76270e24662f0e9934b34d8a26faaf590/expr.ipynb\"><img src=\"../__pv_it/97008dbe76270e24662f0e9934b34d8a26faaf590/expr.png\" style=\"display:inline;vertical-align:middle;\" /></a><br>\n",
       "<strong id=\"nats\">nats:</strong> <a class=\"ProveItLink\" href=\"../__pv_it/4434d1ec6afb2b8deec87ded0866b923feb9d6e60/expr.ipynb\"><img src=\"../__pv_it/4434d1ec6afb2b8deec87ded0866b923feb9d6e60/expr.png\" style=\"display:inline;vertical-align:middle;\" /></a><br>"
      ],
      "text/plain": [
       "nPlusOne: n + 1\n",
       "nats: Naturals"
      ]
     },
     "execution_count": 3,
     "metadata": {},
     "output_type": "execute_result"
    }
   ],
   "source": [
    "nPlusOne, nats = successiveNats.instanceExpr.operands"
   ]
  },
  {
   "cell_type": "code",
   "execution_count": 4,
   "metadata": {},
   "outputs": [
    {
     "data": {
      "text/html": [
       "<span style=\"font-size:20px;\"> &#x22A2;&nbsp;<a class=\"ProveItLink\" href=\"../__pv_it/50688835e4f8f7c7ea93ceb53b4c2bc2c084e66a0/expr.ipynb\"><img src=\"../__pv_it/50688835e4f8f7c7ea93ceb53b4c2bc2c084e66a0/expr.png\" style=\"display:inline;vertical-align:middle;\" /></a></span>"
      ],
      "text/plain": [
       "|= 0 in Naturals"
      ]
     },
     "execution_count": 4,
     "metadata": {},
     "output_type": "execute_result"
    }
   ],
   "source": [
    "zeroInNats"
   ]
  },
  {
   "cell_type": "code",
   "execution_count": 5,
   "metadata": {},
   "outputs": [
    {
     "data": {
      "text/html": [
       "<span style=\"font-size:20px;\"> &#x22A2;&nbsp;<a class=\"ProveItLink\" href=\"../__pv_it/ee3b010b656ce39b3e4c0e002f955d1a0de34dbe0/expr.ipynb\"><img src=\"../__pv_it/ee3b010b656ce39b3e4c0e002f955d1a0de34dbe0/expr.png\" style=\"display:inline;vertical-align:middle;\" /></a></span>"
      ],
      "text/plain": [
       "|= forall_{n} ((n in Naturals) = [forall_{S} (((0 in S) and [forall_{x in S} ((x + 1) in S)]) => (n in S))])"
      ]
     },
     "execution_count": 5,
     "metadata": {},
     "output_type": "execute_result"
    }
   ],
   "source": [
    "naturalsDef"
   ]
  },
  {
   "cell_type": "code",
   "execution_count": 6,
   "metadata": {},
   "outputs": [
    {
     "data": {
      "text/html": [
       "<strong id=\"spec_natDef\">spec_natDef:</strong> <span style=\"font-size:20px;\"> &#x22A2;&nbsp;<a class=\"ProveItLink\" href=\"../__pv_it/c07e383ea7ba075ad1a7e5b7cdae7382d78918d70/expr.ipynb\"><img src=\"../__pv_it/c07e383ea7ba075ad1a7e5b7cdae7382d78918d70/expr.png\" style=\"display:inline;vertical-align:middle;\" /></a></span><br>"
      ],
      "text/plain": [
       "spec_natDef: |= ((n + 1) in Naturals) = [forall_{S} (((0 in S) and [forall_{x in S} ((x + 1) in S)]) => ((n + 1) in S))]"
      ]
     },
     "execution_count": 6,
     "metadata": {},
     "output_type": "execute_result"
    }
   ],
   "source": [
    "spec_natDef = naturalsDef.specialize({n:nPlusOne})"
   ]
  },
  {
   "cell_type": "code",
   "execution_count": 7,
   "metadata": {},
   "outputs": [
    {
     "data": {
      "text/html": [
       "<span style=\"font-size:20px;\"> &#x22A2;&nbsp;<a class=\"ProveItLink\" href=\"../../../../logic/boolean/conjunction/__pv_it/6397fc86901c06478c078bb796d806f963b300270/expr.ipynb\"><img src=\"../../../../logic/boolean/conjunction/__pv_it/6397fc86901c06478c078bb796d806f963b300270/expr.png\" style=\"display:inline;vertical-align:middle;\" /></a></span>"
      ],
      "text/plain": [
       "|= forall_{A, B | A , B} (A and B)"
      ]
     },
     "execution_count": 7,
     "metadata": {},
     "output_type": "execute_result"
    }
   ],
   "source": [
    "andIfBoth"
   ]
  },
  {
   "cell_type": "code",
   "execution_count": 11,
   "metadata": {},
   "outputs": [
    {
     "data": {
      "text/html": [
       "<strong id=\"specAnd\">specAnd:</strong> <span style=\"font-size:20px;\"> &#x22A2;&nbsp;<a class=\"ProveItLink\" href=\"../__pv_it/6c8a758eac45fe4cf3c43a2e0724376f6412e6b60/expr.ipynb\"><img src=\"../__pv_it/6c8a758eac45fe4cf3c43a2e0724376f6412e6b60/expr.png\" style=\"display:inline;vertical-align:middle;\" /></a></span><br>"
      ],
      "text/plain": [
       "specAnd: |= forall_{B | B} ((0 in Naturals) and B)"
      ]
     },
     "execution_count": 11,
     "metadata": {},
     "output_type": "execute_result"
    }
   ],
   "source": [
    "specAnd = andIfBoth.specialize({A:zeroInNats})"
   ]
  },
  {
   "cell_type": "code",
   "execution_count": null,
   "metadata": {},
   "outputs": [],
   "source": []
  },
  {
   "cell_type": "code",
   "execution_count": null,
   "metadata": {},
   "outputs": [],
   "source": []
  }
 ],
 "metadata": {
  "kernelspec": {
   "display_name": "Python 3",
   "language": "python",
   "name": "python3"
  },
  "language_info": {
   "codemirror_mode": {
    "name": "ipython",
    "version": 3
   },
   "file_extension": ".py",
   "mimetype": "text/x-python",
   "name": "python",
   "nbconvert_exporter": "python",
   "pygments_lexer": "ipython3",
   "version": "3.7.3"
  }
 },
 "nbformat": 4,
 "nbformat_minor": 1
}
