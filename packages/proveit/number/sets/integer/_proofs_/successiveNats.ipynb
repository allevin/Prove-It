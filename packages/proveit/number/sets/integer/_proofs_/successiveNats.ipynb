{
 "cells": [
  {
   "cell_type": "markdown",
   "metadata": {
    "collapsed": true
   },
   "source": [
    "Proof of <a class=\"ProveItLink\" href=\"../../../../_context_.ipynb\">proveit</a>.<a class=\"ProveItLink\" href=\"../../../_context_.ipynb\">number</a>.<a class=\"ProveItLink\" href=\"../../_context_.ipynb\">sets</a>.<a class=\"ProveItLink\" href=\"../_context_.ipynb\">integer</a>.<a class=\"ProveItLink\" href=\"../_theorems_.ipynb#successiveNats\">successiveNats</a> theorem\n",
    "========"
   ]
  },
  {
   "cell_type": "code",
   "execution_count": 1,
   "metadata": {},
   "outputs": [],
   "source": [
    "import proveit\n",
    "from proveit import defaults\n",
    "from proveit.number import zero, one\n",
    "from proveit.logic import InSet\n",
    "from proveit.number import Naturals, Add\n",
    "from proveit import Operation\n",
    "from proveit._common_ import x, n, S, A, P, m\n",
    "from proveit.number.sets.integer._axioms_ import naturalsDef\n",
    "from proveit.number.sets.integer._theorems_ import zeroInNats, induction\n",
    "from proveit.logic.boolean.conjunction._theorems_ import andIfBoth\n",
    "context = proveit.Context('..') # the theorem's context is in the parent directory"
   ]
  },
  {
   "cell_type": "code",
   "execution_count": 2,
   "metadata": {},
   "outputs": [
    {
     "name": "stdout",
     "output_type": "stream",
     "text": [
      "Beginning proof of successiveNats\n",
      "Recorded 'presuming' information\n",
      "Presuming theorems in proveit.logic (except any that presume this theorem).\n",
      "Presuming previous theorem (applied transitively).\n"
     ]
    },
    {
     "data": {
      "text/html": [
       "<strong id=\"successiveNats\">successiveNats:</strong> <a class=\"ProveItLink\" href=\"../__pv_it/8e400090fb63f3b476d53594c4d61b8709839d170/expr.ipynb\"><img src=\"../__pv_it/8e400090fb63f3b476d53594c4d61b8709839d170/expr.png\" style=\"display:inline;vertical-align:middle;\" /></a><br>(see <a class=\"ProveItLink\" href=\"../__pv_it/8e400090fb63f3b476d53594c4d61b8709839d170/dependencies.ipynb\">dependencies</a>)<br>"
      ],
      "text/plain": [
       "successiveNats: forall_{n in Naturals} ((n + 1) in Naturals)"
      ]
     },
     "execution_count": 2,
     "metadata": {},
     "output_type": "execute_result"
    }
   ],
   "source": [
    "%proving successiveNats presuming [proveit.logic]"
   ]
  },
  {
   "cell_type": "code",
   "execution_count": 3,
   "metadata": {},
   "outputs": [
    {
     "data": {
      "text/html": [
       "<strong id=\"nPlusOne\">nPlusOne:</strong> <a class=\"ProveItLink\" href=\"../__pv_it/97008dbe76270e24662f0e9934b34d8a26faaf590/expr.ipynb\"><img src=\"../__pv_it/97008dbe76270e24662f0e9934b34d8a26faaf590/expr.png\" style=\"display:inline;vertical-align:middle;\" /></a><br>\n",
       "<strong id=\"nats\">nats:</strong> <a class=\"ProveItLink\" href=\"../__pv_it/4434d1ec6afb2b8deec87ded0866b923feb9d6e60/expr.ipynb\"><img src=\"../__pv_it/4434d1ec6afb2b8deec87ded0866b923feb9d6e60/expr.png\" style=\"display:inline;vertical-align:middle;\" /></a><br>"
      ],
      "text/plain": [
       "nPlusOne: n + 1\n",
       "nats: Naturals"
      ]
     },
     "execution_count": 3,
     "metadata": {},
     "output_type": "execute_result"
    }
   ],
   "source": [
    "nPlusOne, nats = successiveNats.instanceExpr.operands"
   ]
  },
  {
   "cell_type": "code",
   "execution_count": 4,
   "metadata": {},
   "outputs": [
    {
     "data": {
      "text/html": [
       "<strong id=\"defaults.assumptions\">defaults.assumptions:</strong> <a class=\"ProveItLink\" href=\"../__pv_it/666df2326eb160e699697a00197e4e5a193ad3860/expr.ipynb\"><img src=\"../__pv_it/666df2326eb160e699697a00197e4e5a193ad3860/expr.png\" style=\"display:inline;vertical-align:middle;\" /></a><br>"
      ],
      "text/plain": [
       "defaults.assumptions: (n in Naturals)"
      ]
     },
     "execution_count": 4,
     "metadata": {},
     "output_type": "execute_result"
    }
   ],
   "source": [
    "defaults.assumptions = successiveNats.conditions"
   ]
  },
  {
   "cell_type": "code",
   "execution_count": 5,
   "metadata": {},
   "outputs": [
    {
     "data": {
      "text/html": [
       "<span style=\"font-size:20px;\"> &#x22A2;&nbsp;<a class=\"ProveItLink\" href=\"../__pv_it/50688835e4f8f7c7ea93ceb53b4c2bc2c084e66a0/expr.ipynb\"><img src=\"../__pv_it/50688835e4f8f7c7ea93ceb53b4c2bc2c084e66a0/expr.png\" style=\"display:inline;vertical-align:middle;\" /></a></span>"
      ],
      "text/plain": [
       "|= 0 in Naturals"
      ]
     },
     "execution_count": 5,
     "metadata": {},
     "output_type": "execute_result"
    }
   ],
   "source": [
    "zeroInNats"
   ]
  },
  {
   "cell_type": "code",
   "execution_count": 6,
   "metadata": {},
   "outputs": [
    {
     "data": {
      "text/html": [
       "<span style=\"font-size:20px;\"> &#x22A2;&nbsp;<a class=\"ProveItLink\" href=\"../__pv_it/ee3b010b656ce39b3e4c0e002f955d1a0de34dbe0/expr.ipynb\"><img src=\"../__pv_it/ee3b010b656ce39b3e4c0e002f955d1a0de34dbe0/expr.png\" style=\"display:inline;vertical-align:middle;\" /></a></span>"
      ],
      "text/plain": [
       "|= forall_{n} ((n in Naturals) = [forall_{S} (((0 in S) and [forall_{x in S} ((x + 1) in S)]) => (n in S))])"
      ]
     },
     "execution_count": 6,
     "metadata": {},
     "output_type": "execute_result"
    }
   ],
   "source": [
    "naturalsDef"
   ]
  },
  {
   "cell_type": "code",
   "execution_count": 7,
   "metadata": {},
   "outputs": [
    {
     "data": {
      "text/html": [
       "<strong id=\"spec_natDef_n\">spec_natDef_n:</strong> <span style=\"font-size:20px;\"> &#x22A2;&nbsp;<a class=\"ProveItLink\" href=\"../__pv_it/8ceef9575a7927c42b5dbae620bafc896ad004ea0/expr.ipynb\"><img src=\"../__pv_it/8ceef9575a7927c42b5dbae620bafc896ad004ea0/expr.png\" style=\"display:inline;vertical-align:middle;\" /></a></span><br>"
      ],
      "text/plain": [
       "spec_natDef_n: |= (n in Naturals) = [forall_{S} (((0 in S) and [forall_{x in S} ((x + 1) in S)]) => (n in S))]"
      ]
     },
     "execution_count": 7,
     "metadata": {},
     "output_type": "execute_result"
    }
   ],
   "source": [
    "spec_natDef_n = naturalsDef.specialize({n:n})"
   ]
  },
  {
   "cell_type": "code",
   "execution_count": 8,
   "metadata": {},
   "outputs": [
    {
     "data": {
      "text/html": [
       "<strong id=\"rhsN\">rhsN:</strong> <span style=\"font-size:20px;\"><a class=\"ProveItLink\" href=\"../__pv_it/fe51320ccf75fc72e4eb9bb0a308ad669aa2c6230/expr.ipynb\"><img src=\"../__pv_it/fe51320ccf75fc72e4eb9bb0a308ad669aa2c6230/expr.png\" style=\"display:inline;vertical-align:middle;\" /></a> &#x22A2;&nbsp;<a class=\"ProveItLink\" href=\"../__pv_it/fce5b10628f08ce062d8342edcc7f2007955255e0/expr.ipynb\"><img src=\"../__pv_it/fce5b10628f08ce062d8342edcc7f2007955255e0/expr.png\" style=\"display:inline;vertical-align:middle;\" /></a></span><br>"
      ],
      "text/plain": [
       "rhsN: {n in Naturals} |= forall_{S} (((0 in S) and [forall_{x in S} ((x + 1) in S)]) => (n in S))"
      ]
     },
     "execution_count": 8,
     "metadata": {},
     "output_type": "execute_result"
    }
   ],
   "source": [
    "rhsN = spec_natDef_n.deriveRightViaEquivalence()"
   ]
  },
  {
   "cell_type": "code",
   "execution_count": 9,
   "metadata": {},
   "outputs": [
    {
     "data": {
      "text/html": [
       "<strong id=\"rhsNspecS\">rhsNspecS:</strong> <span style=\"font-size:20px;\"><a class=\"ProveItLink\" href=\"../__pv_it/fe51320ccf75fc72e4eb9bb0a308ad669aa2c6230/expr.ipynb\"><img src=\"../__pv_it/fe51320ccf75fc72e4eb9bb0a308ad669aa2c6230/expr.png\" style=\"display:inline;vertical-align:middle;\" /></a> &#x22A2;&nbsp;<a class=\"ProveItLink\" href=\"../__pv_it/a45dbb07b8434a455de49a2ca30d52c421dd0d490/expr.ipynb\"><img src=\"../__pv_it/a45dbb07b8434a455de49a2ca30d52c421dd0d490/expr.png\" style=\"display:inline;vertical-align:middle;\" /></a></span><br>"
      ],
      "text/plain": [
       "rhsNspecS: {n in Naturals} |= ((0 in S) and [forall_{x in S} ((x + 1) in S)]) => (n in S)"
      ]
     },
     "execution_count": 9,
     "metadata": {},
     "output_type": "execute_result"
    }
   ],
   "source": [
    "rhsNspecS = rhsN.specialize({S:S})"
   ]
  },
  {
   "cell_type": "code",
   "execution_count": 10,
   "metadata": {},
   "outputs": [
    {
     "data": {
      "text/html": [
       "<strong id=\"spec_natDef_nPlus1\">spec_natDef_nPlus1:</strong> <span style=\"font-size:20px;\"> &#x22A2;&nbsp;<a class=\"ProveItLink\" href=\"../__pv_it/c07e383ea7ba075ad1a7e5b7cdae7382d78918d70/expr.ipynb\"><img src=\"../__pv_it/c07e383ea7ba075ad1a7e5b7cdae7382d78918d70/expr.png\" style=\"display:inline;vertical-align:middle;\" /></a></span><br>"
      ],
      "text/plain": [
       "spec_natDef_nPlus1: |= ((n + 1) in Naturals) = [forall_{S} (((0 in S) and [forall_{x in S} ((x + 1) in S)]) => ((n + 1) in S))]"
      ]
     },
     "execution_count": 10,
     "metadata": {},
     "output_type": "execute_result"
    }
   ],
   "source": [
    "spec_natDef_nPlus1 = naturalsDef.specialize({n:nPlusOne})"
   ]
  },
  {
   "cell_type": "code",
   "execution_count": 11,
   "metadata": {},
   "outputs": [
    {
     "data": {
      "text/html": [
       "<strong id=\"rhsNplus1\">rhsNplus1:</strong> <span style=\"font-size:20px;\"><a class=\"ProveItLink\" href=\"../__pv_it/7ec190f92e4b73fb4bce562cff20ef33bc4eae100/expr.ipynb\"><img src=\"../__pv_it/7ec190f92e4b73fb4bce562cff20ef33bc4eae100/expr.png\" style=\"display:inline;vertical-align:middle;\" /></a> &#x22A2;&nbsp;<a class=\"ProveItLink\" href=\"../__pv_it/3bc1c281ee709b44a60667164b66e008d0b617a30/expr.ipynb\"><img src=\"../__pv_it/3bc1c281ee709b44a60667164b66e008d0b617a30/expr.png\" style=\"display:inline;vertical-align:middle;\" /></a></span><br>"
      ],
      "text/plain": [
       "rhsNplus1: {(n + 1) in Naturals} |= forall_{S} (((0 in S) and [forall_{x in S} ((x + 1) in S)]) => ((n + 1) in S))"
      ]
     },
     "execution_count": 11,
     "metadata": {},
     "output_type": "execute_result"
    }
   ],
   "source": [
    "rhsNplus1 = spec_natDef_nPlus1.deriveRightViaEquivalence(assumptions = ((InSet(nPlusOne, Naturals),)))"
   ]
  },
  {
   "cell_type": "code",
   "execution_count": 12,
   "metadata": {},
   "outputs": [
    {
     "data": {
      "text/html": [
       "<strong id=\"spec_nPlus1\">spec_nPlus1:</strong> <span style=\"font-size:20px;\"><a class=\"ProveItLink\" href=\"../__pv_it/7ec190f92e4b73fb4bce562cff20ef33bc4eae100/expr.ipynb\"><img src=\"../__pv_it/7ec190f92e4b73fb4bce562cff20ef33bc4eae100/expr.png\" style=\"display:inline;vertical-align:middle;\" /></a> &#x22A2;&nbsp;<a class=\"ProveItLink\" href=\"../__pv_it/6bfc5a2b64fafaade3e64d16d4c39c66fb78f0dc0/expr.ipynb\"><img src=\"../__pv_it/6bfc5a2b64fafaade3e64d16d4c39c66fb78f0dc0/expr.png\" style=\"display:inline;vertical-align:middle;\" /></a></span><br>"
      ],
      "text/plain": [
       "spec_nPlus1: {(n + 1) in Naturals} |= ((0 in S) and [forall_{x in S} ((x + 1) in S)]) => ((n + 1) in S)"
      ]
     },
     "execution_count": 12,
     "metadata": {},
     "output_type": "execute_result"
    }
   ],
   "source": [
    "spec_nPlus1 = rhsNplus1.specialize({S:S}, assumptions = rhsNplus1.assumptions)"
   ]
  },
  {
   "cell_type": "code",
   "execution_count": 13,
   "metadata": {},
   "outputs": [
    {
     "data": {
      "text/html": [
       "<strong id=\"xplus1\">xplus1:</strong> <a class=\"ProveItLink\" href=\"../__pv_it/194af819806d50b75b5f8d57acbfabae960c3a3c0/expr.ipynb\"><img src=\"../__pv_it/194af819806d50b75b5f8d57acbfabae960c3a3c0/expr.png\" style=\"display:inline;vertical-align:middle;\" /></a><br>"
      ],
      "text/plain": [
       "xplus1: forall_{x in S} ((x + 1) in S)"
      ]
     },
     "execution_count": 13,
     "metadata": {},
     "output_type": "execute_result"
    }
   ],
   "source": [
    "xplus1 = spec_nPlus1.antecedent.operands[1]"
   ]
  },
  {
   "cell_type": "code",
   "execution_count": 14,
   "metadata": {
    "scrolled": true
   },
   "outputs": [
    {
     "data": {
      "text/html": [
       "<strong id=\"spec_xplus1\">spec_xplus1:</strong> <span style=\"font-size:20px;\"><a class=\"ProveItLink\" href=\"../__pv_it/80712a467c4ac0f0ae35e5afb8c23cd6a72f8d150/expr.ipynb\"><img src=\"../__pv_it/80712a467c4ac0f0ae35e5afb8c23cd6a72f8d150/expr.png\" style=\"display:inline;vertical-align:middle;\" /></a> &#x22A2;&nbsp;<a class=\"ProveItLink\" href=\"../__pv_it/5053c9248beb911b5896b7c73f78098d24f614200/expr.ipynb\"><img src=\"../__pv_it/5053c9248beb911b5896b7c73f78098d24f614200/expr.png\" style=\"display:inline;vertical-align:middle;\" /></a></span><br>"
      ],
      "text/plain": [
       "spec_xplus1: {forall_{x in S} ((x + 1) in S) , n in S} |= (n + 1) in S"
      ]
     },
     "execution_count": 14,
     "metadata": {},
     "output_type": "execute_result"
    }
   ],
   "source": [
    "spec_xplus1 = xplus1.specialize({x:n}, assumptions = [xplus1,InSet(n,S)])"
   ]
  },
  {
   "cell_type": "code",
   "execution_count": 15,
   "metadata": {},
   "outputs": [
    {
     "data": {
      "text/html": [
       "<span style=\"font-size:20px;\"><a class=\"ProveItLink\" href=\"../__pv_it/80712a467c4ac0f0ae35e5afb8c23cd6a72f8d150/expr.ipynb\"><img src=\"../__pv_it/80712a467c4ac0f0ae35e5afb8c23cd6a72f8d150/expr.png\" style=\"display:inline;vertical-align:middle;\" /></a> &#x22A2;&nbsp;<a class=\"ProveItLink\" href=\"../__pv_it/025c9c44158995bd345cfdefbb8fd30ed07ba2170/expr.ipynb\"><img src=\"../__pv_it/025c9c44158995bd345cfdefbb8fd30ed07ba2170/expr.png\" style=\"display:inline;vertical-align:middle;\" /></a></span>"
      ],
      "text/plain": [
       "{forall_{x in S} ((x + 1) in S) , n in S} |= ((n + 1) in S) = TRUE"
      ]
     },
     "execution_count": 15,
     "metadata": {},
     "output_type": "execute_result"
    }
   ],
   "source": [
    "spec_xplus1.evaluation()"
   ]
  },
  {
   "cell_type": "code",
   "execution_count": 16,
   "metadata": {},
   "outputs": [
    {
     "data": {
      "text/html": [
       "<strong id=\"rhsAnt\">rhsAnt:</strong> <a class=\"ProveItLink\" href=\"../__pv_it/194af819806d50b75b5f8d57acbfabae960c3a3c0/expr.ipynb\"><img src=\"../__pv_it/194af819806d50b75b5f8d57acbfabae960c3a3c0/expr.png\" style=\"display:inline;vertical-align:middle;\" /></a><br>"
      ],
      "text/plain": [
       "rhsAnt: forall_{x in S} ((x + 1) in S)"
      ]
     },
     "execution_count": 16,
     "metadata": {},
     "output_type": "execute_result"
    }
   ],
   "source": [
    "rhsAnt = spec_natDef_nPlus1.rhs.instanceExpr.antecedent.operands[1]"
   ]
  },
  {
   "cell_type": "code",
   "execution_count": 17,
   "metadata": {},
   "outputs": [
    {
     "data": {
      "text/html": [
       "<span style=\"font-size:20px;\"><a class=\"ProveItLink\" href=\"../__pv_it/80712a467c4ac0f0ae35e5afb8c23cd6a72f8d150/expr.ipynb\"><img src=\"../__pv_it/80712a467c4ac0f0ae35e5afb8c23cd6a72f8d150/expr.png\" style=\"display:inline;vertical-align:middle;\" /></a> &#x22A2;&nbsp;<a class=\"ProveItLink\" href=\"../__pv_it/5053c9248beb911b5896b7c73f78098d24f614200/expr.ipynb\"><img src=\"../__pv_it/5053c9248beb911b5896b7c73f78098d24f614200/expr.png\" style=\"display:inline;vertical-align:middle;\" /></a></span>"
      ],
      "text/plain": [
       "{forall_{x in S} ((x + 1) in S) , n in S} |= (n + 1) in S"
      ]
     },
     "execution_count": 17,
     "metadata": {},
     "output_type": "execute_result"
    }
   ],
   "source": [
    "rhsAnt.specialize({x:n}, assumptions = (rhsAnt, InSet(n,S)))"
   ]
  },
  {
   "cell_type": "code",
   "execution_count": 18,
   "metadata": {},
   "outputs": [
    {
     "data": {
      "text/html": [
       "<strong id=\"proveCons\">proveCons:</strong> <a class=\"ProveItLink\" href=\"../__pv_it/5053c9248beb911b5896b7c73f78098d24f614200/expr.ipynb\"><img src=\"../__pv_it/5053c9248beb911b5896b7c73f78098d24f614200/expr.png\" style=\"display:inline;vertical-align:middle;\" /></a><br>"
      ],
      "text/plain": [
       "proveCons: (n + 1) in S"
      ]
     },
     "execution_count": 18,
     "metadata": {},
     "output_type": "execute_result"
    }
   ],
   "source": [
    "proveCons = spec_natDef_nPlus1.rhs.instanceExpr.consequent"
   ]
  },
  {
   "cell_type": "code",
   "execution_count": 19,
   "metadata": {},
   "outputs": [
    {
     "data": {
      "text/html": [
       "<strong id=\"rhsAntAll\">rhsAntAll:</strong> <a class=\"ProveItLink\" href=\"../__pv_it/9930867f404c9ba2b46af0dd191b71ba0056c8ff0/expr.ipynb\"><img src=\"../__pv_it/9930867f404c9ba2b46af0dd191b71ba0056c8ff0/expr.png\" style=\"display:inline;vertical-align:middle;\" /></a><br>"
      ],
      "text/plain": [
       "rhsAntAll: (0 in S) and [forall_{x in S} ((x + 1) in S)]"
      ]
     },
     "execution_count": 19,
     "metadata": {},
     "output_type": "execute_result"
    }
   ],
   "source": [
    "rhsAntAll = spec_natDef_nPlus1.rhs.instanceExpr.antecedent"
   ]
  },
  {
   "cell_type": "code",
   "execution_count": 20,
   "metadata": {},
   "outputs": [
    {
     "data": {
      "text/html": [
       "<strong id=\"derRhs\">derRhs:</strong> <span style=\"font-size:20px;\"><a class=\"ProveItLink\" href=\"../__pv_it/ca4d76d16b9b7e4aa378633b93437ee87b4cd9ed0/expr.ipynb\"><img src=\"../__pv_it/ca4d76d16b9b7e4aa378633b93437ee87b4cd9ed0/expr.png\" style=\"display:inline;vertical-align:middle;\" /></a> &#x22A2;&nbsp;<a class=\"ProveItLink\" href=\"../__pv_it/194af819806d50b75b5f8d57acbfabae960c3a3c0/expr.ipynb\"><img src=\"../__pv_it/194af819806d50b75b5f8d57acbfabae960c3a3c0/expr.png\" style=\"display:inline;vertical-align:middle;\" /></a></span><br>"
      ],
      "text/plain": [
       "derRhs: {(0 in S) and [forall_{x in S} ((x + 1) in S)]} |= forall_{x in S} ((x + 1) in S)"
      ]
     },
     "execution_count": 20,
     "metadata": {},
     "output_type": "execute_result"
    }
   ],
   "source": [
    "derRhs = rhsAntAll.deriveRight([rhsAntAll])"
   ]
  },
  {
   "cell_type": "code",
   "execution_count": 21,
   "metadata": {},
   "outputs": [
    {
     "data": {
      "text/html": [
       "<strong id=\"dRhs\">dRhs:</strong> <a class=\"ProveItLink\" href=\"../__pv_it/194af819806d50b75b5f8d57acbfabae960c3a3c0/expr.ipynb\"><img src=\"../__pv_it/194af819806d50b75b5f8d57acbfabae960c3a3c0/expr.png\" style=\"display:inline;vertical-align:middle;\" /></a><br>"
      ],
      "text/plain": [
       "dRhs: forall_{x in S} ((x + 1) in S)"
      ]
     },
     "execution_count": 21,
     "metadata": {},
     "output_type": "execute_result"
    }
   ],
   "source": [
    "dRhs = derRhs.expr"
   ]
  },
  {
   "cell_type": "code",
   "execution_count": 22,
   "metadata": {},
   "outputs": [
    {
     "data": {
      "text/html": [
       "<span style=\"font-size:20px;\"><a class=\"ProveItLink\" href=\"../__pv_it/bfe9c55f7ce24b055706289f04aa087108d4e8670/expr.ipynb\"><img src=\"../__pv_it/bfe9c55f7ce24b055706289f04aa087108d4e8670/expr.png\" style=\"display:inline;vertical-align:middle;\" /></a> &#x22A2;&nbsp;<a class=\"ProveItLink\" href=\"../__pv_it/d5d90c80b47bb258e8ac945a563d7fb90193c1ec0/expr.ipynb\"><img src=\"../__pv_it/d5d90c80b47bb258e8ac945a563d7fb90193c1ec0/expr.png\" style=\"display:inline;vertical-align:middle;\" /></a></span>"
      ],
      "text/plain": [
       "{(0 in S) and [forall_{x in S} ((x + 1) in S)] , n in Naturals} |= n in S"
      ]
     },
     "execution_count": 22,
     "metadata": {},
     "output_type": "execute_result"
    }
   ],
   "source": [
    "InSet(n,S).prove([rhsAntAll, InSet(n,Naturals)])"
   ]
  },
  {
   "cell_type": "code",
   "execution_count": 23,
   "metadata": {},
   "outputs": [
    {
     "data": {
      "text/html": [
       "<strong id=\"almost\">almost:</strong> <span style=\"font-size:20px;\"><a class=\"ProveItLink\" href=\"../__pv_it/ca4d76d16b9b7e4aa378633b93437ee87b4cd9ed0/expr.ipynb\"><img src=\"../__pv_it/ca4d76d16b9b7e4aa378633b93437ee87b4cd9ed0/expr.png\" style=\"display:inline;vertical-align:middle;\" /></a> &#x22A2;&nbsp;<a class=\"ProveItLink\" href=\"../__pv_it/194af819806d50b75b5f8d57acbfabae960c3a3c0/expr.ipynb\"><img src=\"../__pv_it/194af819806d50b75b5f8d57acbfabae960c3a3c0/expr.png\" style=\"display:inline;vertical-align:middle;\" /></a></span><br>"
      ],
      "text/plain": [
       "almost: {(0 in S) and [forall_{x in S} ((x + 1) in S)]} |= forall_{x in S} ((x + 1) in S)"
      ]
     },
     "execution_count": 23,
     "metadata": {},
     "output_type": "execute_result"
    }
   ],
   "source": [
    "almost = dRhs.prove([rhsAntAll, InSet(n,Naturals), InSet(x, S)])"
   ]
  },
  {
   "cell_type": "code",
   "execution_count": null,
   "metadata": {},
   "outputs": [],
   "source": []
  }
 ],
 "metadata": {
  "kernelspec": {
   "display_name": "Python 3",
   "language": "python",
   "name": "python3"
  },
  "language_info": {
   "codemirror_mode": {
    "name": "ipython",
    "version": 3
   },
   "file_extension": ".py",
   "mimetype": "text/x-python",
   "name": "python",
   "nbconvert_exporter": "python",
   "pygments_lexer": "ipython3",
   "version": "3.7.3"
  }
 },
 "nbformat": 4,
 "nbformat_minor": 1
}
