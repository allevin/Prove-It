{
 "cells": [
  {
   "cell_type": "markdown",
   "metadata": {},
   "source": [
    "Proof of <a class=\"ProveItLink\" href=\"../../../../_context_.ipynb\">proveit</a>.<a class=\"ProveItLink\" href=\"../../../_context_.ipynb\">number</a>.<a class=\"ProveItLink\" href=\"../../_context_.ipynb\">sets</a>.<a class=\"ProveItLink\" href=\"../_context_.ipynb\">integer</a>.<a class=\"ProveItLink\" href=\"../_theorems_.ipynb#differenceInNaturals\">differenceInNaturals</a> theorem\n",
    "========"
   ]
  },
  {
   "cell_type": "code",
   "execution_count": 1,
   "metadata": {},
   "outputs": [],
   "source": [
    "import proveit\n",
    "context = proveit.Context('..') # the theorem's context is in the parent directory"
   ]
  },
  {
   "cell_type": "code",
   "execution_count": 2,
   "metadata": {},
   "outputs": [
    {
     "name": "stdout",
     "output_type": "stream",
     "text": [
      "Beginning proof of differenceInNaturals\n",
      "Recorded 'presuming' information\n",
      "Presuming previous theorems (applied transitively).\n"
     ]
    },
    {
     "data": {
      "text/html": [
       "<strong id=\"differenceInNaturals\">differenceInNaturals:</strong> <a class=\"ProveItLink\" href=\"../__pv_it/6238790e88c85a5727e2e83b6b2b047f06ca42e90/expr.ipynb\"><img src=\"data:image/png;base64,iVBORw0KGgoAAAANSUhEUgAAAOUAAAAXBAMAAAAGvZU3AAAAMFBMVEX///8QEBC6urrMzMxUVFRm\n",
       "ZmZERETc3NwyMjKqqqp2dnaIiIiYmJgiIiLu7u4AAAAU9Wx4AAAAAXRSTlMAQObYZgAAA0ZJREFU\n",
       "SMfFVk1oE0EUfkk2m6TZbAoKBQ8lRYsFD82hiJaWRqMn/4Kil1YMiqnQWnOotuBP9+BBaS2BKnhR\n",
       "cmmLihKwLaVRWKQHabGEXsSfwAqipVKNFiJSLM6bmXQ3yfaHgPrgm8x+O3nfvDfvTQLwH0wr/as7\n",
       "OEztxRp8CifTpUjaAgxFJu8hTu3+fHIue06Dk79jyD9Aor8UTafGYPIGd6IUkO22MECG8pfIoyNc\n",
       "imaSo9i8MTJMFZCH/GRxOeVxp/ZYKZqVHMVWi9F/4IkeT6dpyHv7BT9qEl4a7uq6WoqkVWEwscc4\n",
       "iCyQXTOcDNbJ/aiJfDYSeVuKpj3OAJ0TVdH8V9eTBwHKQjh1dOTIoCuxEzWRDwK0ruz9RlE0dKwx\n",
       "icepMlgr4EJB3WbB6wcX/Y64sp0gHJUSRBP5bSDrHgf5p7h58Czdp0gf2Z7B1WHwbPEx9KhwIl/T\n",
       "tQyWOFjLcf4JdE1BCxIOeQ+41ZUXN3Gbo8dVT7Tsi6ZrOunZuHqNneH1MRwBeIfP3Wm0Wcy6At4Q\n",
       "2DLIViGpME05MEf0kHerHt3VT4Kx7V81CRqugK7pxQxJvfkNwTWzIC/mx+kJQa3KNesMcUK9jWvK\n",
       "CvIXJ87g6S2NaBLLYyhk0KxNHgZ3H62J5iF+wVhiFI4lcGXkwvY8pfHcLhg1pViY5RZa9xLh145l\n",
       "MnWnpICTrpB2+w2az2HS9YbOFqI9PCuiSiH/AkEZyNf0wxbigWZUUA2aMBzm/B1yOwohG168YkJK\n",
       "1dMV8/Ng0GyDV/KQD2f7oZH7wLpC9MG9UDxPU4jZA7m6k2dz7Gl20oy3JPBg3HhHWvz2cGMkEklA\n",
       "/Alc0zU3kdKUx7CQfsBIrotSDJ3JrW2+/F450IJ1x8juY4ys+R4G2iGUl0iyvmniDKkTL3jUj9Th\n",
       "gArDumYG3pNxPAbyMrR/5q4rOFYxfvfB7VtpxYwHi9bUoHVHPXAXBKxRu53GkNNMsQZ/qUKlbTF3\n",
       "mU2ZXOQGe7Qeb22eboEm1docBxkTP7nv4fmArlk9wZbdh+pno+q6v2U0wcrGeOatDM8zZ+LqgTgC\n",
       "DOYmRDfE20yWraEJlzlM7enGeAnW0HSRco50/JO/aMJf8PkHqm/beoaY6YgAAAAASUVORK5CYII=\n",
       "\" style=\"display:inline;vertical-align:middle;\" /></a><br>(see <a class=\"ProveItLink\" href=\"../__pv_it/6238790e88c85a5727e2e83b6b2b047f06ca42e90/dependencies.ipynb\">dependencies</a>)<br>"
      ],
      "text/plain": [
       "differenceInNaturals: forall_{a, b in Integers | b <= a} ((a - b) in Naturals)"
      ]
     },
     "execution_count": 2,
     "metadata": {},
     "output_type": "execute_result"
    }
   ],
   "source": [
    "%proving differenceInNaturals presuming []"
   ]
  },
  {
   "cell_type": "code",
   "execution_count": null,
   "metadata": {},
   "outputs": [],
   "source": []
  }
 ],
 "metadata": {
  "kernelspec": {
   "display_name": "Python 3",
   "language": "python",
   "name": "python3"
  }
 },
 "nbformat": 4,
 "nbformat_minor": 0
}
