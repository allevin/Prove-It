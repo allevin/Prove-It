{
 "cells": [
  {
   "cell_type": "markdown",
   "metadata": {},
   "source": [
    "Proof of <a class=\"ProveItLink\" href=\"../../../../_context_.ipynb\">proveit</a>.<a class=\"ProveItLink\" href=\"../../../_context_.ipynb\">number</a>.<a class=\"ProveItLink\" href=\"../../_context_.ipynb\">sets</a>.<a class=\"ProveItLink\" href=\"../_context_.ipynb\">integer</a>.<a class=\"ProveItLink\" href=\"../_theorems_.ipynb#xInNatsPosInBool\">xInNatsPosInBool</a> theorem\n",
    "========"
   ]
  },
  {
   "cell_type": "code",
   "execution_count": 1,
   "metadata": {},
   "outputs": [],
   "source": [
    "import proveit\n",
    "context = proveit.Context('..') # the theorem's context is in the parent directory"
   ]
  },
  {
   "cell_type": "code",
   "execution_count": 2,
   "metadata": {},
   "outputs": [
    {
     "name": "stdout",
     "output_type": "stream",
     "text": [
      "Beginning proof of xInNatsPosInBool\n",
      "Recorded 'presuming' information\n",
      "Presuming previous theorems (applied transitively).\n"
     ]
    },
    {
     "data": {
      "text/html": [
       "<strong id=\"xInNatsPosInBool\">xInNatsPosInBool:</strong> <a class=\"ProveItLink\" href=\"../__pv_it/cee29a7d2cafbc2310b55fd410ae501b7d61f1320/expr.ipynb\"><img src=\"data:image/png;base64,iVBORw0KGgoAAAANSUhEUgAAAK0AAAAbBAMAAAD8EhIYAAAAMFBMVEX///8QEBC6urrMzMxUVFRm\n",
       "ZmZERETc3NwyMjKqqqp2dnaIiIiYmJgiIiLu7u4AAAAU9Wx4AAAAAXRSTlMAQObYZgAAArpJREFU\n",
       "SMe1VU9o02AUf23SpjZtLCIiiDDBgzBkEYd4kZUNJniQgijCQHLqDqLUS+dFzG6FaVvwz8F56M25\n",
       "wRgyRJloL1NkqMOBoqwsBxlDGK0WNgQZvi/N9+Xv18DAB/kl+f2SX973vscLwO6iuot3oj0U+KHh\n",
       "UeNoSQ7fz6C7L+8RIRtIK2UKIb7yHEdcwMPwsWKdQogvfOWI6QLAMrlYcrI3GPhWUsmXIbb2jfrO\n",
       "e/Sprcr4F9xRGQvxlBCuRV9k4It4/RTAXhBLpYOlCYCmd7Far1Kexu/vABTxVtKc4j4G/hKtYE0j\n",
       "rA7pus8XniXwvAqQwG/GnN0otCjY63/RaOim7zFjyOEb0zw6+j4W0fASQOrJ2Ngtp4mcocDi9Eea\n",
       "78nshmH7ploeneRLCvAJj618/rtrrboF0szZyRHCSNeZpk4Kmu0b3QG3rvUKq+SmD3MeAhh17U3W\n",
       "gp/woX7YZAq2b6xnyfQ1W19og1vXjq/9Ik09oAIcBUV3+iZyFtTgDdwjzLq9FhXOiyfYrfQb3DrW\n",
       "YeEhnm/jEEiD7NrWdM4CA4Y7zJFGg+6bCj+UcXs//3h09I1HcWw0SRPX00agL8Ahx7yg+Qo1X779\n",
       "znzjpPQkX0Un/MzgvGrVIUtBaoNCmE2nL7yP276d+m76fYnX6CCONmM4YjWxqFnwTm7Ba3DNCuKb\n",
       "LNoDdRvcOq1DH9nJBzgionCH9e9yB/b8jWckc2Ipn1mvkKF8mfla/Wvr6Lv43OpfiJgvb7MkWh1Q\n",
       "rs5Ov+pQNy9YUuUA4oY9wHW3jnPn2n6y7Cnzq2TbhIxAn24zYHH/bkMPGBeJOY4+QS8Gkjr7e5xj\n",
       "EBbNQjCvsMWvvxyZpddnGITFWw6f0gKHbJVCWKzw/hdqECvpFEIileMIi8H0Iwbdo8jhJY2TR5VC\n",
       "97jC4WMG/Lf4B9iJu/0YVPICAAAAAElFTkSuQmCC\n",
       "\" style=\"display:inline;vertical-align:middle;\" /></a><br>(see <a class=\"ProveItLink\" href=\"../__pv_it/cee29a7d2cafbc2310b55fd410ae501b7d61f1320/dependencies.ipynb\">dependencies</a>)<br>"
      ],
      "text/plain": [
       "xInNatsPosInBool: forall_{x} ((x in NaturalsPos) in BOOLEANS)"
      ]
     },
     "execution_count": 2,
     "metadata": {},
     "output_type": "execute_result"
    }
   ],
   "source": [
    "%proving xInNatsPosInBool presuming []"
   ]
  },
  {
   "cell_type": "code",
   "execution_count": null,
   "metadata": {},
   "outputs": [],
   "source": []
  }
 ],
 "metadata": {
  "kernelspec": {
   "display_name": "Python 3",
   "language": "python",
   "name": "python3"
  }
 },
 "nbformat": 4,
 "nbformat_minor": 0
}
