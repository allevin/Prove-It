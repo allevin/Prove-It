{
 "cells": [
  {
   "cell_type": "markdown",
   "metadata": {},
   "source": [
    "Proof of <a class=\"ProveItLink\" href=\"../../../../_context_.ipynb\">proveit</a>.<a class=\"ProveItLink\" href=\"../../../_context_.ipynb\">number</a>.<a class=\"ProveItLink\" href=\"../../_context_.ipynb\">sets</a>.<a class=\"ProveItLink\" href=\"../_context_.ipynb\">integer</a>.<a class=\"ProveItLink\" href=\"../_theorems_.ipynb#natsPosInComplexes\">natsPosInComplexes</a> theorem\n",
    "========"
   ]
  },
  {
   "cell_type": "code",
   "execution_count": 1,
   "metadata": {},
   "outputs": [],
   "source": [
    "import proveit\n",
    "context = proveit.Context('..') # the theorem's context is in the parent directory"
   ]
  },
  {
   "cell_type": "code",
   "execution_count": 2,
   "metadata": {},
   "outputs": [
    {
     "name": "stdout",
     "output_type": "stream",
     "text": [
      "Beginning proof of natsPosInComplexes\n",
      "Recorded 'presuming' information\n",
      "Presuming previous theorems (applied transitively).\n"
     ]
    },
    {
     "data": {
      "text/html": [
       "<strong id=\"natsPosInComplexes\">natsPosInComplexes:</strong> <a class=\"ProveItLink\" href=\"../__pv_it/a503e4f7ac56787bfa14a5387ce0f2b346a608890/expr.ipynb\"><img src=\"data:image/png;base64,iVBORw0KGgoAAAANSUhEUgAAAIMAAAAVBAMAAACXjEALAAAAMFBMVEX///8QEBC6urrMzMxUVFRm\n",
       "ZmZERETc3NwyMjKqqqp2dnaIiIiYmJgiIiLu7u4AAAAU9Wx4AAAAAXRSTlMAQObYZgAAAixJREFU\n",
       "OMullE2I01AQx/+bJk3TpE8RRDwsRBQVZLEHP4ti0EVWXKUH96IeimL2IpKD7p7EXrytuhfPFkFE\n",
       "hFjWj4OHJejNwtKLuAjVLKgX0a4inkScaZovt0bBQF4n8ya/zvxnXoD/v/y/h0jNP+89o7vNRisT\n",
       "sWOgV1+8MXwOShm4x4/XMxEDd3PbTfHgEVAHpuhRrWUR9IF1eOOA9g14ARRIDGU2CzGUlOvjtc4i\n",
       "/xr+alpPAEtk352evpxZx9Zk+jN9nqJaDATy9Pffbfv1yveKsXmSSz16ex3bU2FG76VGP7AKHAIm\n",
       "VyKU2Jyhe4OTX2Y7iqxoXmBopOcmiHomYg0l8QMKSy4i3StSHyGRJiXoXuLdPROmvtZPIr4C8jJK\n",
       "3BdpuNMJ5PyQ6xeSo+x0rxQWKB5PeEbNhauMHhs9kkCsqqFb5ngrdBZ8K0aIejR9T7Z89o2WAjdV\n",
       "yHrgShO3+CiIdug0GowQQSGYPEjLpadnYVR5b+/uZhpxHujOYkzjNMZj7zZaRnwYLORNQotX6k8U\n",
       "eviy+zyNuENpe9rLXps/maFXPjwvNl8ImoohEkqu5tqoBIhi8XgKMcJjMbdrjm31ajl073z7hdMv\n",
       "mL1ZJb1M3cJ+27abRlldeEOxiQF3Eg3TxoKORNdSaHT9/ILzLsgCG+dTQUYja/zvx0fpwD5fdgKE\n",
       "4f7DYQ/nIBpL6VTrNMQZPlS0WOmwixkI2fntbJEWA8LUjA/fQ+AXw4mC6X1IqoUAAAAASUVORK5C\n",
       "YII=\n",
       "\" style=\"display:inline;vertical-align:middle;\" /></a><br>(see <a class=\"ProveItLink\" href=\"../__pv_it/a503e4f7ac56787bfa14a5387ce0f2b346a608890/dependencies.ipynb\">dependencies</a>)<br>"
      ],
      "text/plain": [
       "natsPosInComplexes: forall_{a in NaturalsPos} (a in Complexes)"
      ]
     },
     "execution_count": 2,
     "metadata": {},
     "output_type": "execute_result"
    }
   ],
   "source": [
    "%proving natsPosInComplexes presuming []"
   ]
  },
  {
   "cell_type": "code",
   "execution_count": null,
   "metadata": {},
   "outputs": [],
   "source": []
  }
 ],
 "metadata": {
  "kernelspec": {
   "display_name": "Python 3",
   "language": "python",
   "name": "python3"
  }
 },
 "nbformat": 4,
 "nbformat_minor": 0
}
