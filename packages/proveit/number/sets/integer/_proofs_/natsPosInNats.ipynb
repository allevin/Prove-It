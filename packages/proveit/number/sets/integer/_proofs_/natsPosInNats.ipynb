{
 "cells": [
  {
   "cell_type": "markdown",
   "metadata": {},
   "source": [
    "Proof of <a class=\"ProveItLink\" href=\"../../../../_context_.ipynb\">proveit</a>.<a class=\"ProveItLink\" href=\"../../../_context_.ipynb\">number</a>.<a class=\"ProveItLink\" href=\"../../_context_.ipynb\">sets</a>.<a class=\"ProveItLink\" href=\"../_context_.ipynb\">integer</a>.<a class=\"ProveItLink\" href=\"../_theorems_.ipynb#natsPosInNats\">natsPosInNats</a> theorem\n",
    "========"
   ]
  },
  {
   "cell_type": "code",
   "execution_count": 1,
   "metadata": {},
   "outputs": [],
   "source": [
    "import proveit\n",
    "context = proveit.Context('..') # the theorem's context is in the parent directory"
   ]
  },
  {
   "cell_type": "code",
   "execution_count": 2,
   "metadata": {},
   "outputs": [
    {
     "name": "stdout",
     "output_type": "stream",
     "text": [
      "Beginning proof of natsPosInNats\n",
      "Recorded 'presuming' information\n",
      "Presuming previous theorems (applied transitively).\n"
     ]
    },
    {
     "data": {
      "text/html": [
       "<strong id=\"natsPosInNats\">natsPosInNats:</strong> <a class=\"ProveItLink\" href=\"../__pv_it/6cf6db93b72e3f3763d4cbf4b003ef5973922f230/expr.ipynb\"><img src=\"data:image/png;base64,iVBORw0KGgoAAAANSUhEUgAAAEcAAAAUBAMAAAAthD11AAAAMFBMVEX////c3Nx2dna6uroQEBCI\n",
       "iIhUVFTMzMyYmJiqqqoiIiJmZmZEREQyMjLu7u4AAADjlg78AAAAAXRSTlMAQObYZgAAANFJREFU\n",
       "KM9jYIADTgYiAM+gUfT2z9kHDLt+TcCmCCF3gv0AA8MHhty7V+7eDUBTBZVjYMgqCGVgcMBuHVwu\n",
       "+R5bAZqi2FWrVi1mQJZLL+O7h6qoKg7GgsulcwbUoChiXAg3Ei6XzrCZIwDEYIPKsBkgFMHk0hnY\n",
       "HqQ7IHucAUkRVC6dgS/hLbKiMmRFULl0BoYidpyKoHJABseEA0iKuFAUQeSADAZFZEXcE5AVQeQO\n",
       "g8QvICniWwxnwuRsvwBV8l1AidftUAYWOQQwuwWNFigAAJ/jTCysLkbkAAAAAElFTkSuQmCC\n",
       "\" style=\"display:inline;vertical-align:middle;\" /></a><br>(see <a class=\"ProveItLink\" href=\"../__pv_it/6cf6db93b72e3f3763d4cbf4b003ef5973922f230/dependencies.ipynb\">dependencies</a>)<br>"
      ],
      "text/plain": [
       "natsPosInNats: NaturalsPos subset Naturals"
      ]
     },
     "execution_count": 2,
     "metadata": {},
     "output_type": "execute_result"
    }
   ],
   "source": [
    "%proving natsPosInNats presuming []"
   ]
  },
  {
   "cell_type": "code",
   "execution_count": null,
   "metadata": {},
   "outputs": [],
   "source": []
  }
 ],
 "metadata": {
  "kernelspec": {
   "display_name": "Python 3",
   "language": "python",
   "name": "python3"
  }
 },
 "nbformat": 4,
 "nbformat_minor": 0
}
