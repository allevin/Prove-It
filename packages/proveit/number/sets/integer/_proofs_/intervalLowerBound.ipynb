{
 "cells": [
  {
   "cell_type": "markdown",
   "metadata": {},
   "source": [
    "Proof of <a class=\"ProveItLink\" href=\"../../../../_context_.ipynb\">proveit</a>.<a class=\"ProveItLink\" href=\"../../../_context_.ipynb\">number</a>.<a class=\"ProveItLink\" href=\"../../_context_.ipynb\">sets</a>.<a class=\"ProveItLink\" href=\"../_context_.ipynb\">integer</a>.<a class=\"ProveItLink\" href=\"../_theorems_.ipynb#intervalLowerBound\">intervalLowerBound</a> theorem\n",
    "========"
   ]
  },
  {
   "cell_type": "code",
   "execution_count": 1,
   "metadata": {},
   "outputs": [],
   "source": [
    "import proveit\n",
    "context = proveit.Context('..') # the theorem's context is in the parent directory"
   ]
  },
  {
   "cell_type": "code",
   "execution_count": 2,
   "metadata": {},
   "outputs": [
    {
     "name": "stdout",
     "output_type": "stream",
     "text": [
      "Beginning proof of intervalLowerBound\n",
      "Recorded 'presuming' information\n",
      "Presuming previous theorems (applied transitively).\n"
     ]
    },
    {
     "data": {
      "text/html": [
       "<strong id=\"intervalLowerBound\">intervalLowerBound:</strong> <a class=\"ProveItLink\" href=\"../__pv_it/f1891b172d63b86c7e5e00bcea94b6ad6a28ad4d0/expr.ipynb\"><img src=\"data:image/png;base64,iVBORw0KGgoAAAANSUhEUgAAAO4AAAAZBAMAAADEVw+wAAAAMFBMVEX///8QEBC6urrMzMxUVFRm\n",
       "ZmZERETc3NwyMjKqqqp2dnaIiIiYmJgiIiLu7u4AAAAU9Wx4AAAAAXRSTlMAQObYZgAAA4VJREFU\n",
       "SMfFlltIFFEYgP+d2dnr7GxUIBHECllBREtEUCguViAEsS8FZYEUrQ8pzIO5YtkOYVAQshBBby2B\n",
       "SiWxmAbZBoPYi5It3QQvMYKVKOWSkA+JdC7OeGZWd0cQOrAzc85/9nzn/LfzAxRtrslR2NzGTY7Z\n",
       "mBWAzW+N/42r2eBKG1Zken3ZAOVm8Wu4MJecWEzb5x4uIBPChPsEf7cX5vqS6OXR7HOt6/k/MB2F\n",
       "cJvQ011bmEvkTfaxfotqZsfZ3hDh4mMIySJ+hfd/zj7XYVbNtwlTd4pwxa54vLWYPw/F4/Gsfe4+\n",
       "s+/eteSDJImjP7HYWDFuMBZrSNnnnse2O/W4hPrYLX14f931XrSKL0q4xwHqDP+/szbXGQaXbBps\n",
       "Uc0nVIDrNnr30K9UduXw9/fLxnCqOi0tAHgVwt0NkmKIOnRdbO+4El3lchGYMXHcJea94TMI+h9g\n",
       "K5qwBALxVv+4bmwu9AWk3+i9hXAD4F/dOzaF1HdGDci+OY3JV1nI6FOwmOyZbZ4kMGNocWcOAtSr\n",
       "xbGVhSQE9S4D8DnC9auBVfdbRL+Xe39pIpTfYPNkBr7qXSzO4wZlCzdYC/Nh2vPeXjERgjoVgysp\n",
       "OLtc68d24P72aiJVVzTKcmf4CMDbnv4IUDFmuGs6w/qcg69PM9wdAIk0PNJzMNdG5wkKBFVN1zPU\n",
       "VSH4qHsZGyMrRjxUO0fDLNfVGAJpYAk+AhVjxk85YSjqDQwy3HqA+SRUe/Ul+Bj5cqTgvZYCkfoV\n",
       "PECR6YzyOD5daTF7jKaYWdN95L2IzjenIDtQsRPFw0moMOZchXcglTDe6VG9n32GmK/Cz0QIOtFe\n",
       "VuIIHMj+wZA/gj/DQm1FLBZLQ+o53GTvwZ0YlkYqImKujVix11h4G5xFoaOb5gAO354jPZaALEXJ\n",
       "9hXaUohyRaStec01gqwfhIA6TUxyX4UuljtCdxUNTVNTpUBahvof+pI5mGDO65ALZZUp5t53aJXl\n",
       "WrMcgIfgxH8SBOCy1ns/AY5DYSImttzFL4y426FZQ48sGuAM+4oFc9szhsvVDF+ASpWrQee4hPqD\n",
       "J542RKzcPSB0UzHhlmX6VH4RKmX0KOtn44i9B1sncWPuQUnJq3No/vBh+65f5xCxNX71vdgon4jC\n",
       "TBN42XZ9VYTrLlCbvMjbmGi/rrPmZ+Jr0U2uJ9eqn1vyTsRlNlA/f/oHNuD1dIW0Xz0AAAAASUVO\n",
       "RK5CYII=\n",
       "\" style=\"display:inline;vertical-align:middle;\" /></a><br>(see <a class=\"ProveItLink\" href=\"../__pv_it/f1891b172d63b86c7e5e00bcea94b6ad6a28ad4d0/dependencies.ipynb\">dependencies</a>)<br>"
      ],
      "text/plain": [
       "intervalLowerBound: forall_{a, b in Integers} [forall_{n in {a...b}} (a <= n)]"
      ]
     },
     "execution_count": 2,
     "metadata": {},
     "output_type": "execute_result"
    }
   ],
   "source": [
    "%proving intervalLowerBound presuming []"
   ]
  },
  {
   "cell_type": "code",
   "execution_count": null,
   "metadata": {},
   "outputs": [],
   "source": []
  }
 ],
 "metadata": {
  "kernelspec": {
   "display_name": "Python 3",
   "language": "python",
   "name": "python3"
  }
 },
 "nbformat": 4,
 "nbformat_minor": 0
}
