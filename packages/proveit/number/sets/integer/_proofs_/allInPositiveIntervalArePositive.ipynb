{
 "cells": [
  {
   "cell_type": "markdown",
   "metadata": {},
   "source": [
    "Proof of <a class=\"ProveItLink\" href=\"../../../../_context_.ipynb\">proveit</a>.<a class=\"ProveItLink\" href=\"../../../_context_.ipynb\">number</a>.<a class=\"ProveItLink\" href=\"../../_context_.ipynb\">sets</a>.<a class=\"ProveItLink\" href=\"../_context_.ipynb\">integer</a>.<a class=\"ProveItLink\" href=\"../_theorems_.ipynb#allInPositiveIntervalArePositive\">allInPositiveIntervalArePositive</a> theorem\n",
    "========"
   ]
  },
  {
   "cell_type": "code",
   "execution_count": 1,
   "metadata": {},
   "outputs": [],
   "source": [
    "import proveit\n",
    "context = proveit.Context('..') # the theorem's context is in the parent directory"
   ]
  },
  {
   "cell_type": "code",
   "execution_count": 2,
   "metadata": {},
   "outputs": [
    {
     "name": "stdout",
     "output_type": "stream",
     "text": [
      "Beginning proof of allInPositiveIntervalArePositive\n",
      "Recorded 'presuming' information\n",
      "Presuming previous theorems (applied transitively).\n"
     ]
    },
    {
     "data": {
      "text/html": [
       "<strong id=\"allInPositiveIntervalArePositive\">allInPositiveIntervalArePositive:</strong> <a class=\"ProveItLink\" href=\"../__pv_it/c56e8b8768c51711061dbf0804ab6676304698200/expr.ipynb\"><img src=\"data:image/png;base64,iVBORw0KGgoAAAANSUhEUgAAAR8AAAAZBAMAAAD6VzfXAAAAMFBMVEX///8QEBC6urrMzMxUVFRm\n",
       "ZmZERETc3NwyMjKqqqp2dnaIiIiYmJgiIiLu7u4AAAAU9Wx4AAAAAXRSTlMAQObYZgAAA+xJREFU\n",
       "SMfNl0toE0EYx//ZTbJNskmKD0QFieILRVhEBKXS4APFU0AEtSpFMSIq7KGaUtQG8eCLUhDBm7lU\n",
       "8YEEUQ9tD0EURKEERYr1wQqKxaKFCga1FOexmZ1N2tikPbiw7M7s/L/5zXzffDML1H753/djeq9V\n",
       "7zNTkYcx7ZcW//+ArKkARaqVKNkJP+kxDpSnhRc1ArE50rOTl6wZv/pzzw5gBwe6RSs6agQKdpJH\n",
       "XRWTPEFHL/HNQB0HOkkfzTUCMeHJyStC0mRqm5zqPEJp6BkGRMfn66w1qOmId09e4ZEnc+0BYSgO\n",
       "pYBIPQPSb6ZSp2teZc9TqVR+8orlrlLLBfslmoD6CzjCl/3PZHKgZqBoMnm8ily2h6yzR6me7Xbx\n",
       "6zv+bM9A/QN0cSDiysNiVZ4vW6elFcE7CQnIa8Bvur635VxyYnCFU3OZ6L2XMGzY5aEBqwj0G7jG\n",
       "gRYjkhaKruKuMKvrEOvY7wQh77ibCBwgJY5Bd2ab4+anBneK0gxgUbgZwzGRfF5bDtBCDhRGyBkC\n",
       "9Wrk4c5c2AwOWSVAh1jFK0QtKVPn0VtsQHUIpN1A1OA1URoBLEJzXcS2us10XNbIgUK5sBP7BXI/\n",
       "Wvbd0tFwCm4gKBdJu8gYwp0SUC8+FL9TXRlQoRSI0mwTJpNGMahHBVAkTdPnie6DtMGfB5bOYySR\n",
       "kIC0phtEGbhEhkSAshLQoEpMPL3fTZYrE1Ag3pr3SAxKQHPJvQsYtbecwDmzuOwDBeEyHN5IqPq1\n",
       "MZah9Hgdd+46QwL6ZrbTWdQvQykB8rfEEHk8SjzJdRTIbg3boAR0jNzzoI8FeR8DlkiMQZI8ntlA\n",
       "V8m7N6HSdOLP6vn1fEV+hQS0BRu4sr90hgL7iJWhNHEN13kzTmvbID6aUohrIwg2X2FdvBWh8gYf\n",
       "DbHs4SEdRGMh9mr4mjckk8ksMvdwxgEawQOe2DKRAjxyDGE+pcgq9WA65ZzU2jYIZbY4gBEn1kM7\n",
       "Si1o76TN9Q7dR87aQDoBHbb8fWQcUYRzn5jvr+RwUwCRSD72hSb7/cBMRE0ZqI93m4gxHXwZ0ZqF\n",
       "KzEozZDHrJA17a2juMk0NlitZpj420tFPh+UvDNDC9QfpOO1W1keWlp2QGuHZ7XBdCyGaGutA62W\n",
       "1kENShuGXimrB7MSkNL0Yi8ac0oTGSDd855svn087gAt6X2YQwtL6KGe/WVAS+G7y3UMiLZWC2g0\n",
       "1QI1KAV1xXPOYPkRlifIII0hEZVOGjr4jyMs05XmIbjyEFoqAG0tA1LH8bC/yjP1P4C0iU+XIaMM\n",
       "SMfUgUr3Mrj2smn46/BWAhrvv6ytbA5W5qr4L4v/BQTnGGbDSqN+AAAAAElFTkSuQmCC\n",
       "\" style=\"display:inline;vertical-align:middle;\" /></a><br>(see <a class=\"ProveItLink\" href=\"../__pv_it/c56e8b8768c51711061dbf0804ab6676304698200/dependencies.ipynb\">dependencies</a>)<br>"
      ],
      "text/plain": [
       "allInPositiveIntervalArePositive: forall_{a, b in Integers | a > 0} [forall_{n in {a...b}} (n > 0)]"
      ]
     },
     "execution_count": 2,
     "metadata": {},
     "output_type": "execute_result"
    }
   ],
   "source": [
    "%proving allInPositiveIntervalArePositive presuming []"
   ]
  },
  {
   "cell_type": "code",
   "execution_count": null,
   "metadata": {},
   "outputs": [],
   "source": []
  }
 ],
 "metadata": {
  "kernelspec": {
   "display_name": "Python 3",
   "language": "python",
   "name": "python3"
  }
 },
 "nbformat": 4,
 "nbformat_minor": 0
}
