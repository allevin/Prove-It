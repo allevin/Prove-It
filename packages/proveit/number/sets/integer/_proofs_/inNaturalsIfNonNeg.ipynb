{
 "cells": [
  {
   "cell_type": "markdown",
   "metadata": {
    "collapsed": true
   },
   "source": [
    "Proof of <a class=\"ProveItLink\" href=\"../../../../_context_.ipynb\">proveit</a>.<a class=\"ProveItLink\" href=\"../../../_context_.ipynb\">number</a>.<a class=\"ProveItLink\" href=\"../../_context_.ipynb\">sets</a>.<a class=\"ProveItLink\" href=\"../_context_.ipynb\">integer</a>.<a class=\"ProveItLink\" href=\"../_theorems_.ipynb#inNaturalsIfNonNeg\">inNaturalsIfNonNeg</a> theorem\n",
    "========"
   ]
  },
  {
   "cell_type": "code",
   "execution_count": 1,
   "metadata": {},
   "outputs": [],
   "source": [
    "import proveit\n",
    "from proveit import defaults\n",
    "from proveit._common_ import a,m, n, x, A, B, AA\n",
    "from proveit.logic._common_ import iterA1m\n",
    "from proveit.number import zero, num, Neg, NaturalsPos, Integers, Greater, Naturals, GreaterEq\n",
    "from proveit.logic import NotInSet, SetOfAll, InSet, Implies, And\n",
    "from proveit.logic.set_theory.unification._theorems_ import membershipUnfolding\n",
    "from proveit.number.sets.integer._axioms_ import naturalsPosDef, integersDef\n",
    "from proveit.number.sets.integer._theorems_ import zeroInNats, successiveNats\n",
    "context = proveit.Context('..') # the theorem's context is in the parent directory"
   ]
  },
  {
   "cell_type": "code",
   "execution_count": 2,
   "metadata": {
    "scrolled": true
   },
   "outputs": [
    {
     "name": "stdout",
     "output_type": "stream",
     "text": [
      "Beginning proof of inNaturalsIfNonNeg\n",
      "Recorded 'presuming' information\n",
      "Presuming theorems in proveit.logic, proveit.number (except any that presume this theorem).\n",
      "Presuming previous theorems (applied transitively).\n"
     ]
    },
    {
     "data": {
      "text/html": [
       "<strong id=\"inNaturalsIfNonNeg\">inNaturalsIfNonNeg:</strong> <a class=\"ProveItLink\" href=\"../__pv_it/c6240b595b39b5bc4a94f5d78ad1d5d11d943abb0/expr.ipynb\"><img src=\"../__pv_it/c6240b595b39b5bc4a94f5d78ad1d5d11d943abb0/expr.png\" style=\"display:inline;vertical-align:middle;\" /></a><br>(see <a class=\"ProveItLink\" href=\"../__pv_it/c6240b595b39b5bc4a94f5d78ad1d5d11d943abb0/dependencies.ipynb\">dependencies</a>)<br>"
      ],
      "text/plain": [
       "inNaturalsIfNonNeg: forall_{a in Integers | a >= 0} (a in Naturals)"
      ]
     },
     "execution_count": 2,
     "metadata": {},
     "output_type": "execute_result"
    }
   ],
   "source": [
    "%proving inNaturalsIfNonNeg presuming [proveit.logic, proveit.number]"
   ]
  },
  {
   "cell_type": "code",
   "execution_count": 3,
   "metadata": {},
   "outputs": [
    {
     "data": {
      "text/html": [
       "<strong id=\"defaults.assumptions\">defaults.assumptions:</strong> <a class=\"ProveItLink\" href=\"../__pv_it/617ea89d6d11f0b1ffdaf8c1f189efd02ae699920/expr.ipynb\"><img src=\"../__pv_it/617ea89d6d11f0b1ffdaf8c1f189efd02ae699920/expr.png\" style=\"display:inline;vertical-align:middle;\" /></a><br>"
      ],
      "text/plain": [
       "defaults.assumptions: (a in Integers , a >= 0)"
      ]
     },
     "execution_count": 3,
     "metadata": {},
     "output_type": "execute_result"
    }
   ],
   "source": [
    "defaults.assumptions = inNaturalsIfNonNeg.allConditions()"
   ]
  },
  {
   "cell_type": "code",
   "execution_count": 4,
   "metadata": {},
   "outputs": [
    {
     "data": {
      "text/html": [
       "<span style=\"font-size:20px;\"> &#x22A2;&nbsp;<a class=\"ProveItLink\" href=\"../__pv_it/a2ab2e3ebab254c65deab6701911082319c5071a0/expr.ipynb\"><img src=\"../__pv_it/a2ab2e3ebab254c65deab6701911082319c5071a0/expr.png\" style=\"display:inline;vertical-align:middle;\" /></a></span>"
      ],
      "text/plain": [
       "|= Integers = (Naturals union {(-n) s.t. ()}_{n in NaturalsPos})"
      ]
     },
     "execution_count": 4,
     "metadata": {},
     "output_type": "execute_result"
    }
   ],
   "source": [
    "integersDef"
   ]
  },
  {
   "cell_type": "code",
   "execution_count": 5,
   "metadata": {},
   "outputs": [
    {
     "data": {
      "text/html": [
       "<span style=\"font-size:20px;\"> &#x22A2;&nbsp;<a class=\"ProveItLink\" href=\"../__pv_it/6ae7ac26672a30816b0f080a15969c7131fbc55a0/expr.ipynb\"><img src=\"../__pv_it/6ae7ac26672a30816b0f080a15969c7131fbc55a0/expr.png\" style=\"display:inline;vertical-align:middle;\" /></a></span>"
      ],
      "text/plain": [
       "|= (Integers = (Naturals union {(-n) s.t. ()}_{n in NaturalsPos})) = TRUE"
      ]
     },
     "execution_count": 5,
     "metadata": {},
     "output_type": "execute_result"
    }
   ],
   "source": [
    "integersDef.evaluation()"
   ]
  },
  {
   "cell_type": "code",
   "execution_count": 6,
   "metadata": {},
   "outputs": [
    {
     "data": {
      "text/html": [
       "<strong id=\"intUnion\">intUnion:</strong> <a class=\"ProveItLink\" href=\"../__pv_it/029979c90a656ab515ac37081335e1cdfdfae1760/expr.ipynb\"><img src=\"../__pv_it/029979c90a656ab515ac37081335e1cdfdfae1760/expr.png\" style=\"display:inline;vertical-align:middle;\" /></a><br>"
      ],
      "text/plain": [
       "intUnion: Naturals union {(-n) s.t. ()}_{n in NaturalsPos}"
      ]
     },
     "execution_count": 6,
     "metadata": {},
     "output_type": "execute_result"
    }
   ],
   "source": [
    "intUnion = integersDef.expr.rhs"
   ]
  },
  {
   "cell_type": "code",
   "execution_count": 7,
   "metadata": {},
   "outputs": [
    {
     "data": {
      "text/html": [
       "<a class=\"ProveItLink\" href=\"../__pv_it/1c86ee6c6385823967eb54ca381d6c288352bfff0/expr.ipynb\"><img src=\"../__pv_it/1c86ee6c6385823967eb54ca381d6c288352bfff0/expr.png\" style=\"display:inline;vertical-align:middle;\" /></a>"
      ],
      "text/plain": [
       "(Naturals , {(-n) s.t. ()}_{n in NaturalsPos})"
      ]
     },
     "execution_count": 7,
     "metadata": {},
     "output_type": "execute_result"
    }
   ],
   "source": [
    "intUnion.operands"
   ]
  },
  {
   "cell_type": "code",
   "execution_count": 8,
   "metadata": {},
   "outputs": [
    {
     "data": {
      "text/html": [
       "<span style=\"font-size:20px;\"> &#x22A2;&nbsp;<a class=\"ProveItLink\" href=\"../../../../logic/set_theory/unification/__pv_it/39965638aa748035705a7c3b8252555208d67c270/expr.ipynb\"><img src=\"../../../../logic/set_theory/unification/__pv_it/39965638aa748035705a7c3b8252555208d67c270/expr.png\" style=\"display:inline;vertical-align:middle;\" /></a></span>"
      ],
      "text/plain": [
       "|= forall_{m in NaturalsPos} [forall_{x, A_1,...,A_m | x in (A_1 union  ...  union A_m)} ((x in A_1) or  ...  or (x in A_m))]"
      ]
     },
     "execution_count": 8,
     "metadata": {},
     "output_type": "execute_result"
    }
   ],
   "source": [
    "membershipUnfolding"
   ]
  },
  {
   "cell_type": "code",
   "execution_count": 9,
   "metadata": {},
   "outputs": [
    {
     "data": {
      "text/html": [
       "<strong id=\"spec1\">spec1:</strong> <span style=\"font-size:20px;\"> &#x22A2;&nbsp;<a class=\"ProveItLink\" href=\"../__pv_it/756a718589aeb17b97ad493aab978d0bfa323f3d0/expr.ipynb\"><img src=\"../__pv_it/756a718589aeb17b97ad493aab978d0bfa323f3d0/expr.png\" style=\"display:inline;vertical-align:middle;\" /></a></span><br>"
      ],
      "text/plain": [
       "spec1: |= forall_{A_1,...,A_2 | a in (A_1 union  ...  union A_2)} ((a in A_1) or  ...  or (a in A_2))"
      ]
     },
     "execution_count": 9,
     "metadata": {},
     "output_type": "execute_result"
    }
   ],
   "source": [
    "spec1 = membershipUnfolding.specialize({x:a, m:num(2)}, assumptions = [InSet(m, NaturalsPos), *defaults.assumptions])"
   ]
  },
  {
   "cell_type": "code",
   "execution_count": 10,
   "metadata": {
    "scrolled": true
   },
   "outputs": [
    {
     "data": {
      "text/html": [
       "<strong id=\"aInInt\">aInInt:</strong> <a class=\"ProveItLink\" href=\"../__pv_it/0e36680063bb87f5711fc4abb6fb5fd3106a8ebe0/expr.ipynb\"><img src=\"../__pv_it/0e36680063bb87f5711fc4abb6fb5fd3106a8ebe0/expr.png\" style=\"display:inline;vertical-align:middle;\" /></a><br>"
      ],
      "text/plain": [
       "aInInt: a in Integers"
      ]
     },
     "execution_count": 10,
     "metadata": {},
     "output_type": "execute_result"
    }
   ],
   "source": [
    "aInInt = defaults.assumptions[0]"
   ]
  },
  {
   "cell_type": "code",
   "execution_count": 11,
   "metadata": {},
   "outputs": [
    {
     "data": {
      "text/html": [
       "<strong id=\"aElemUnion\">aElemUnion:</strong> <a class=\"ProveItLink\" href=\"../__pv_it/051864e55d2b91daa47cf3752e3ec1492f42bfe30/expr.ipynb\"><img src=\"../__pv_it/051864e55d2b91daa47cf3752e3ec1492f42bfe30/expr.png\" style=\"display:inline;vertical-align:middle;\" /></a><br>"
      ],
      "text/plain": [
       "aElemUnion: ((a in Integers) and (Integers = (Naturals union {(-n) s.t. ()}_{n in NaturalsPos}))) => (a in (Naturals union {(-n) s.t. ()}_{n in NaturalsPos}))"
      ]
     },
     "execution_count": 11,
     "metadata": {},
     "output_type": "execute_result"
    }
   ],
   "source": [
    "aElemUnion = Implies(And(aInInt, integersDef.expr),InSet(a,intUnion))"
   ]
  },
  {
   "cell_type": "code",
   "execution_count": 12,
   "metadata": {},
   "outputs": [
    {
     "data": {
      "text/html": [
       "<strong id=\"newAssumpt\">newAssumpt:</strong> <a class=\"ProveItLink\" href=\"../__pv_it/43adca6b4676f2c4ca97aea6af6d60be10ff2a910/expr.ipynb\"><img src=\"../__pv_it/43adca6b4676f2c4ca97aea6af6d60be10ff2a910/expr.png\" style=\"display:inline;vertical-align:middle;\" /></a><br>"
      ],
      "text/plain": [
       "newAssumpt: ((a in Integers , a >= 0) , Integers = (Naturals union {(-n) s.t. ()}_{n in NaturalsPos}))"
      ]
     },
     "execution_count": 12,
     "metadata": {},
     "output_type": "execute_result"
    }
   ],
   "source": [
    "newAssumpt = [defaults.assumptions]+ [integersDef.expr]"
   ]
  },
  {
   "cell_type": "code",
   "execution_count": null,
   "metadata": {},
   "outputs": [],
   "source": []
  },
  {
   "cell_type": "code",
   "execution_count": null,
   "metadata": {},
   "outputs": [],
   "source": []
  }
 ],
 "metadata": {
  "kernelspec": {
   "display_name": "Python 3",
   "language": "python",
   "name": "python3"
  },
  "language_info": {
   "codemirror_mode": {
    "name": "ipython",
    "version": 3
   },
   "file_extension": ".py",
   "mimetype": "text/x-python",
   "name": "python",
   "nbconvert_exporter": "python",
   "pygments_lexer": "ipython3",
   "version": "3.7.1"
  }
 },
 "nbformat": 4,
 "nbformat_minor": 1
}
