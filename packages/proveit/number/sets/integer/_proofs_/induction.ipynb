{
 "cells": [
  {
   "cell_type": "markdown",
   "metadata": {
    "collapsed": true
   },
   "source": [
    "Proof of <a class=\"ProveItLink\" href=\"../../../../_context_.ipynb\">proveit</a>.<a class=\"ProveItLink\" href=\"../../../_context_.ipynb\">number</a>.<a class=\"ProveItLink\" href=\"../../_context_.ipynb\">sets</a>.<a class=\"ProveItLink\" href=\"../_context_.ipynb\">integer</a>.<a class=\"ProveItLink\" href=\"../_theorems_.ipynb#induction\">induction</a> theorem\n",
    "========"
   ]
  },
  {
   "cell_type": "code",
   "execution_count": 1,
   "metadata": {},
   "outputs": [],
   "source": [
    "import proveit\n",
    "from proveit import defaults\n",
    "from proveit._common_ import n,x, S, y\n",
    "from proveit.number import zero, Naturals\n",
    "from proveit.logic import InSet\n",
    "from proveit.number._common_ import Pzero, Pone, Pm, P_mAddOne, Pn\n",
    "\n",
    "from proveit.number.sets.integer._theorems_ import inductionLemma\n",
    "context = proveit.Context('..') # the theorem's context is in the parent directory"
   ]
  },
  {
   "cell_type": "code",
   "execution_count": 2,
   "metadata": {},
   "outputs": [
    {
     "name": "stdout",
     "output_type": "stream",
     "text": [
      "Beginning proof of induction\n",
      "Recorded 'presuming' information\n",
      "Presuming theorems in proveit.logic (except any that presume this theorem).\n",
      "Presuming previous theorems (applied transitively).\n"
     ]
    },
    {
     "data": {
      "text/html": [
       "<strong id=\"induction\">induction:</strong> <a class=\"ProveItLink\" href=\"../__pv_it/63f54bb13fad81db8dc1626e3cde463523867e4d0/expr.ipynb\"><img src=\"../__pv_it/63f54bb13fad81db8dc1626e3cde463523867e4d0/expr.png\" style=\"display:inline;vertical-align:middle;\" /></a><br>(see <a class=\"ProveItLink\" href=\"../__pv_it/63f54bb13fad81db8dc1626e3cde463523867e4d0/dependencies.ipynb\">dependencies</a>)<br>"
      ],
      "text/plain": [
       "induction: forall_{P} ((P(0) and [forall_{m in Naturals | P(m)} P(m + 1)]) => [forall_{n in Naturals} P(n)])"
      ]
     },
     "execution_count": 2,
     "metadata": {},
     "output_type": "execute_result"
    }
   ],
   "source": [
    "%proving induction presuming [proveit.logic]"
   ]
  },
  {
   "cell_type": "code",
   "execution_count": 3,
   "metadata": {},
   "outputs": [
    {
     "data": {
      "text/html": [
       "<strong id=\"defaults.assumptions\">defaults.assumptions:</strong> <a class=\"ProveItLink\" href=\"../__pv_it/47fa43ebc28df30ca42c709a7d123d39f2fac3160/expr.ipynb\"><img src=\"../__pv_it/47fa43ebc28df30ca42c709a7d123d39f2fac3160/expr.png\" style=\"display:inline;vertical-align:middle;\" /></a><br>"
      ],
      "text/plain": [
       "defaults.assumptions: ()"
      ]
     },
     "execution_count": 3,
     "metadata": {},
     "output_type": "execute_result"
    }
   ],
   "source": [
    "defaults.assumptions = induction.allConditions()"
   ]
  },
  {
   "cell_type": "code",
   "execution_count": 4,
   "metadata": {},
   "outputs": [
    {
     "data": {
      "text/html": [
       "<span style=\"font-size:20px;\"> &#x22A2;&nbsp;<a class=\"ProveItLink\" href=\"../__pv_it/30f0eac65bb94087259ebecaeaf997c556c0ab3c0/expr.ipynb\"><img src=\"../__pv_it/30f0eac65bb94087259ebecaeaf997c556c0ab3c0/expr.png\" style=\"display:inline;vertical-align:middle;\" /></a></span>"
      ],
      "text/plain": [
       "|= forall_{n in Naturals} [forall_{S} (((0 in S) and [forall_{x in S} ((x + 1) in S)]) => (n in S))]"
      ]
     },
     "execution_count": 4,
     "metadata": {},
     "output_type": "execute_result"
    }
   ],
   "source": [
    "inductionLemma"
   ]
  },
  {
   "cell_type": "code",
   "execution_count": 7,
   "metadata": {},
   "outputs": [
    {
     "data": {
      "text/html": [
       "<span style=\"font-size:20px;\"><a class=\"ProveItLink\" href=\"../__pv_it/fe51320ccf75fc72e4eb9bb0a308ad669aa2c6230/expr.ipynb\"><img src=\"../__pv_it/fe51320ccf75fc72e4eb9bb0a308ad669aa2c6230/expr.png\" style=\"display:inline;vertical-align:middle;\" /></a> &#x22A2;&nbsp;<a class=\"ProveItLink\" href=\"../__pv_it/fce5b10628f08ce062d8342edcc7f2007955255e0/expr.ipynb\"><img src=\"../__pv_it/fce5b10628f08ce062d8342edcc7f2007955255e0/expr.png\" style=\"display:inline;vertical-align:middle;\" /></a></span>"
      ],
      "text/plain": [
       "{n in Naturals} |= forall_{S} (((0 in S) and [forall_{x in S} ((x + 1) in S)]) => (n in S))"
      ]
     },
     "execution_count": 7,
     "metadata": {},
     "output_type": "execute_result"
    }
   ],
   "source": [
    "inductionLemma.specialize(assumptions =  [InSet(n, Naturals)])"
   ]
  },
  {
   "cell_type": "code",
   "execution_count": null,
   "metadata": {},
   "outputs": [],
   "source": []
  },
  {
   "cell_type": "code",
   "execution_count": null,
   "metadata": {},
   "outputs": [],
   "source": []
  }
 ],
 "metadata": {
  "kernelspec": {
   "display_name": "Python 3",
   "language": "python",
   "name": "python3"
  },
  "language_info": {
   "codemirror_mode": {
    "name": "ipython",
    "version": 3
   },
   "file_extension": ".py",
   "mimetype": "text/x-python",
   "name": "python",
   "nbconvert_exporter": "python",
   "pygments_lexer": "ipython3",
   "version": "3.7.3"
  }
 },
 "nbformat": 4,
 "nbformat_minor": 1
}
