{
 "cells": [
  {
   "cell_type": "markdown",
   "metadata": {},
   "source": [
    "Proof of <a class=\"ProveItLink\" href=\"../../../../_context_.ipynb\">proveit</a>.<a class=\"ProveItLink\" href=\"../../../_context_.ipynb\">number</a>.<a class=\"ProveItLink\" href=\"../../_context_.ipynb\">sets</a>.<a class=\"ProveItLink\" href=\"../_context_.ipynb\">integer</a>.<a class=\"ProveItLink\" href=\"../_theorems_.ipynb#induction\">induction</a> theorem\n",
    "========"
   ]
  },
  {
   "cell_type": "code",
   "execution_count": 1,
   "metadata": {},
   "outputs": [],
   "source": [
    "import proveit\n",
    "from proveit import defaults\n",
    "from proveit._common_ import n,x, S, y\n",
    "from proveit.number import zero, Naturals\n",
    "from proveit.logic import InSet\n",
    "from proveit.number._common_ import Pzero, Pone, Pm, P_mAddOne, Pn\n",
    "\n",
    "from proveit.number.sets.integer._theorems_ import inductionLemma\n",
    "context = proveit.Context('..') # the theorem's context is in the parent directory"
   ]
  },
  {
   "cell_type": "code",
   "execution_count": 2,
   "metadata": {},
   "outputs": [
    {
     "name": "stdout",
     "output_type": "stream",
     "text": [
      "Beginning proof of induction\n",
      "Recorded 'presuming' information\n"
     ]
    },
    {
     "name": "stdout",
     "output_type": "stream",
     "text": [
      "Presuming theorems in proveit.logic (except any that presume this theorem).\n",
      "Presuming previous theorems (applied transitively).\n"
     ]
    },
    {
     "data": {
      "text/html": [
       "<strong id=\"induction\">induction:</strong> <a class=\"ProveItLink\" href=\"../__pv_it/fad3901ec083ce758131ba87ecbafc7a6969893b0/expr.ipynb\"><img src=\"data:image/png;base64,iVBORw0KGgoAAAANSUhEUgAAAfsAAAAaBAMAAABCyuhyAAAAMFBMVEX///8QEBC6urrMzMxUVFRm\n",
       "ZmZERETc3NwyMjKqqqp2dnaIiIiYmJgiIiLu7u4AAAAU9Wx4AAAAAXRSTlMAQObYZgAABsBJREFU\n",
       "WMPlmH2IVFUUwM+++dj5fLPoH1KBjBURLOL80V+F7FALihJOHyu2mkwFu/RhO5G4wpoOlbll2ED4\n",
       "T/6xg/iRVjDlJtoqTm5JbJGbX0G08oQyQWsX129KO+d+vTvvvZndpkWCLuyZt/fdd8793Xvuuede\n",
       "AK9iJKWYsKwYycFtKbNHigDFKVQYqfrmASUmLMNwu0pjerJ9mlzxpau8MDdJ8V/Dj5amUOEA/lke\n",
       "9f6yFHZp5j+H3fjmlPTFqAV2WOLDjx5vD75hTcpEs6btm2MA8ZyYvW8r270iRXTRpdZH5wlPMZd+\n",
       "noJAyoUfp59YfdPSf6u19USu9lJ7GbhVht/v0WCrJ4TLhHJ2pm0r0mHFLqpw+HmbEok8wDP0bciC\n",
       "eNI8DpAXbdYq/EiBv6+rXAMIzvDogl3O3gRuleGPWl74u2ppkCbsLuY5vomaV5HibOUH05RowVDb\n",
       "V+Tr5CDAPoAh0Wa9wmdfr6oz/NwACN8Ar0X9G//5pZXwhyR+XFuSlsL3gnCZGFBVQxwffuZjEihU\n",
       "fjAmBRzCze9oBh9mApwAmJODM6LNCkuFPhr2p+rDj17EdXMZHxpcs7pFNiH8MxI/oEFuUvgeEG4T\n",
       "M1XVGYG/GN/s7O5+zfFBkxTQhX+LUK+B/oIqWgoQ5Fb8zSWFP9Td3V3nBhDEQfZfx4f7oSY+WWX4\n",
       "sTG7xb0K3wPCZcLI21UFjn8U/650dPzkCPx5KWjdmFdo0IvQiA7UUoJIhrU5J3c8/El0dKyYVD7y\n",
       "qnwIyweKLaM0oe3Yv73dAwuMgee98MkqwzduanlLSeJ7QIDTBCJAc2dPf5FrI/w56DSPAHRih7ra\n",
       "nuyUg5OWgtbNXOINlTl+EcJ8ED+W7o74/hQEq6V+PHPk2hvVGPnkEyr0naSHd7FT/o0wuhX6vPDJ\n",
       "KsP3jbPYPcLKZYXPITyLNIEIUJxfMse5NsJvSZELmUT0JcAn4oNQRoropd3bd1JVQ1LiG02CerXC\n",
       "N9LoDJXRY/3j8OlyehJLlWkP6sGal0MLdrfnRKC9O56F0ZI3Plll+I0XNTPh16UyAeG2b5tABCN5\n",
       "CsyLXBv1YB1OThyiFE1bcSmI8BPPSBGUrpZISufnIRG3eX9KZX3DcECzfb5tGRyJWBFLw2fat9ht\n",
       "5HB1yYiHnbJGk9BnwRIvfLLK8M3r+jCfmybwBYTbvm0CEUxkD9/k2gh/FGNAtBy3+CYwH5z4iWEb\n",
       "n4W+ssDHT0QWQS0OwGktcD679g/4rpSpwGfaNfcUYwd/gY1P7E8D3En/Lunt/aG39003fsXs+96x\n",
       "BL6AcNu3TRACslNMk/g0+2aeEi5cEjGZUIbSUrRkRFVDgW18fTnh/Jvxb4PCP0dD8fVnX6QHnsNf\n",
       "qh18v0fH59qb7EZim/ddliR3EDPASTCumjWdX1/7pyzp/AwitrR5m9O+bYIQAnlIlC3b+WkSOh8m\n",
       "/Td2L1NTk5XikDzzBsss7cHoEGNrbIMYAo4fXImOdfhPHKCvRFo4GLnwoIbPtPvydiMjrfZkXl4C\n",
       "mnd0Tn9+jQd+TIY+46q29NN2ICGIC3PK8ZTDvm2CEBqKuAaLTBuL/BQTNhNBRIsc0WEp1NKkrSJe\n",
       "MKfzJ/ARVVzhh9FnG8/nYRy2i6A+CMVtGj7TjsiyEQ0F6LGF6tCvcVcPlYq1Nj5931+txVGCWLsP\n",
       "EjmHfdsEqUBv3xFOqY3vKPMKcsRgRjt8jXFhLr61UFahdrO9H50lRA7hT6o8lUWHu6iu5GuCt8F3\n",
       "qqPjRTS/5ncNn2mnyRKNBP6vXZdkrjubOXgkC+GFqQr8wGPXlnGrDF+fpk4Nn0EshFlO+7YJQpiF\n",
       "2fl+ro0++pBFcWqX0FPGcSVUmaEnjGDYezrD/546kIpmG8eSZpqPvvGQhs+0G1nViD1XlIZctaxP\n",
       "WWX4Ie1skNLwGcR0aDMc9r0QVNK70U4OdPMLlKg4JbDyUbXrjnU4tbFsEeZx8zCk4TPt5rDdKObM\n",
       "El0V6nSurPITX87rxCfuQ8Zg+j0O+14ITBvFSxVHIu89oTWcq4Qq8rRYkV1U4N8H8ZTvhRycRacw\n",
       "3kqCHxS+0H7abhRw3SPWvFsy1YH3CFTHR5dqLzvseyBwbfhRrMoZkR1rggXnTRPbFXITXnbtwLWn\n",
       "im5hv9YV11cra+Ezq6wLx2vge9n3QODaKFdKVblVy0thlx7+s+cf3vXp+GerLGxus9Z10R7Z/VjG\n",
       "67Lr+OSOlz2atoPHRIbgVT5Q4t9eder4YfuqIl3nVWedtyre+rLV3sQKUkxYRmrf81dwDqpQU8fV\n",
       "2OwR1LV8CvEDFvzfy9/JAk+MWbL5fAAAAABJRU5ErkJggg==\n",
       "\" style=\"display:inline;vertical-align:middle;\" /></a><br>(see <a class=\"ProveItLink\" href=\"../__pv_it/fad3901ec083ce758131ba87ecbafc7a6969893b0/dependencies.ipynb\">dependencies</a>)<br>"
      ],
      "text/plain": [
       "induction: forall_{P} ((P(0) and [forall_{m in Naturals | P(m)} P(m + 1)]) => [forall_{n in Naturals} P(n)])"
      ]
     },
     "execution_count": 2,
     "metadata": {},
     "output_type": "execute_result"
    }
   ],
   "source": [
    "%proving induction presuming [proveit.logic]"
   ]
  },
  {
   "cell_type": "code",
   "execution_count": null,
   "metadata": {},
   "outputs": [],
   "source": []
  }
 ],
 "metadata": {
  "kernelspec": {
   "display_name": "Python 3",
   "language": "python",
   "name": "python3"
  }
 },
 "nbformat": 4,
 "nbformat_minor": 0
}
