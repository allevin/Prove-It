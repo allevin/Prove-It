{
 "cells": [
  {
   "cell_type": "markdown",
   "metadata": {},
   "source": [
    "Proof of <a class=\"ProveItLink\" href=\"../../../../_context_.ipynb\">proveit</a>.<a class=\"ProveItLink\" href=\"../../../_context_.ipynb\">number</a>.<a class=\"ProveItLink\" href=\"../../_context_.ipynb\">sets</a>.<a class=\"ProveItLink\" href=\"../_context_.ipynb\">integer</a>.<a class=\"ProveItLink\" href=\"../_theorems_.ipynb#xInIntsInBool\">xInIntsInBool</a> theorem\n",
    "========"
   ]
  },
  {
   "cell_type": "code",
   "execution_count": 1,
   "metadata": {},
   "outputs": [],
   "source": [
    "import proveit\n",
    "context = proveit.Context('..') # the theorem's context is in the parent directory"
   ]
  },
  {
   "cell_type": "code",
   "execution_count": 2,
   "metadata": {},
   "outputs": [
    {
     "name": "stdout",
     "output_type": "stream",
     "text": [
      "Beginning proof of xInIntsInBool\n",
      "Recorded 'presuming' information\n",
      "Presuming previous theorems (applied transitively).\n"
     ]
    },
    {
     "data": {
      "text/html": [
       "<strong id=\"xInIntsInBool\">xInIntsInBool:</strong> <a class=\"ProveItLink\" href=\"../__pv_it/b1c86db27f9fb988509be4557073be722ea380560/expr.ipynb\"><img src=\"data:image/png;base64,iVBORw0KGgoAAAANSUhEUgAAAJkAAAAVBAMAAACnAFEqAAAAMFBMVEX///8QEBC6urrMzMxUVFRm\n",
       "ZmZERETc3NwyMjKqqqp2dnaIiIiYmJgiIiLu7u4AAAAU9Wx4AAAAAXRSTlMAQObYZgAAAldJREFU\n",
       "OMutVE1oE0EU/rJpNmazXXOqhxLZgiDoJQev0tJCqyAS8GYuOaUtQulB2oMIq1Dw0NqACIKXIEip\n",
       "gRLQS1F08aBSFeJNhOD2IqUiFITqQdH3dmZ/JrvBiw8+ZuYb3rfz/hb4r+YlqdMSA8y00/mXhC5v\n",
       "3sbZ7IRAwgqff98q33BxSaWN9bmf5XkgVwE2mbgdvz3iCSSsuOLB0emyj9e1zt5+C3CAJTrm6/HL\n",
       "pxIJy7VgNB9QqK2EWtEmqR3xilwzfnlcIrSva72PvA55uMopsEoqT2oF9yKwSx/aWF6+HvfVHIEo\n",
       "j6tR2As67+dVnt92ksLT6VGHjcanvnh85Nsz92tMLEViZucdLw+h8KR29hUdjCowBcwqRXAF9vHe\n",
       "LTMRu/1i+Rm+B4XXtd6fUa45RXQCVjwuZGyBFl7gDp2tWImmhhZ5GYPCc6TbdNIon8MounG1o7aA\n",
       "h2mRx3KvJ7INrXrKX8dVntRQp5vsAXWRO+ylqQGjYTMHSeCW2pBqEe+r6ULNcs4Q0558UpGRNgWQ\n",
       "/w6LI+qGapuG7Q+PiLTbr8aRYnaSyuFNZ2TT6a7A6+IBnjNxIfDKT9B3DXJ5A4UPIjU5/3fpIxpW\n",
       "w7Gr+ij80kv5DhPfginXFxdgXa4HHRLxWses1YUnMr7Pj7B7uz6sK1uPnoknrcgcjM2NNNZHyOWm\n",
       "wtPUH344z2lleZOLkC1lA7ljEtG/45ysqbRgsvr53WAzbjhGsN+RGGhGJ51vh02+Xdv65x8psL10\n",
       "Wh2CqHQCA20mnRZzkrBrEgOsWEnnHwN/AeCOoFHKMKGFAAAAAElFTkSuQmCC\n",
       "\" style=\"display:inline;vertical-align:middle;\" /></a><br>(see <a class=\"ProveItLink\" href=\"../__pv_it/b1c86db27f9fb988509be4557073be722ea380560/dependencies.ipynb\">dependencies</a>)<br>"
      ],
      "text/plain": [
       "xInIntsInBool: forall_{x} ((x in Integers) in BOOLEANS)"
      ]
     },
     "execution_count": 2,
     "metadata": {},
     "output_type": "execute_result"
    }
   ],
   "source": [
    "%proving xInIntsInBool presuming []"
   ]
  },
  {
   "cell_type": "code",
   "execution_count": null,
   "metadata": {},
   "outputs": [],
   "source": []
  }
 ],
 "metadata": {
  "kernelspec": {
   "display_name": "Python 3",
   "language": "python",
   "name": "python3"
  }
 },
 "nbformat": 4,
 "nbformat_minor": 0
}
