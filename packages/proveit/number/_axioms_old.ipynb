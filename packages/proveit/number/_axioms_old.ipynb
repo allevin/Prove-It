{
 "cells": [
  {
   "cell_type": "code",
   "execution_count": 1,
   "metadata": {
    "collapsed": false
   },
   "outputs": [],
   "source": [
    "from proveit.basiclogic.boolean.boolOps import Implies, Not, Or\n",
    "from proveit.basiclogic import Equals\n",
    "from proveit.basiclogic.boolean.quantifiers import Forall\n",
    "from proveit.common import a, b, c, x, y, z, f, fx, fy, fa, fb, xEtc, yEtc, zEtc\n",
    "from proveit.number.arithmeticOps import Add, Subtract, Multiply, GreaterThan, LessThan, \\\n",
    "    GreaterThanEquals, LessThanEquals, Summation, DiscreteContiguousSet\n",
    "from proveit.number.numberSets import Integers\n",
    "from proveit.number.common import one\n",
    "import proveit.specialStatementMagic # for %begin_axioms and %end_axioms"
   ]
  },
  {
   "cell_type": "code",
   "execution_count": 2,
   "metadata": {
    "collapsed": true
   },
   "outputs": [],
   "source": [
    "%begin_axioms"
   ]
  },
  {
   "cell_type": "markdown",
   "metadata": {},
   "source": [
    "Here we define the addition operation to be associative.  Don't use this ADD for any non-associative operation."
   ]
  },
  {
   "cell_type": "code",
   "execution_count": 3,
   "metadata": {
    "collapsed": false
   },
   "outputs": [
    {
     "data": {
      "image/png": "[encoded data removed]",
      "text/plain": [
       "$\\forall_{~.., x_{\\Box} ,..., y_{\\Box} ,..., z_{\\Box} ,..~} \\left(\\left(~..+ x_{\\Box} +...+ y_{\\Box} +...+ z_{\\Box} +..~\\right) = \\left(~..+ x_{\\Box} +..~+ \\left(~..+ y_{\\Box} +..~\\right) +~..+ z_{\\Box} +..~\\right)\\right)$"
      ]
     },
     "execution_count": 3,
     "metadata": {},
     "output_type": "execute_result"
    }
   ],
   "source": [
    "addAssoc = Forall([xEtc,yEtc,zEtc],\n",
    "                  Equals(\n",
    "                        Add(\n",
    "                                xEtc,yEtc,zEtc),\n",
    "                        Add(\n",
    "                                xEtc,Add(yEtc),zEtc)\n",
    "                        ),\n",
    "                  )\n",
    "addAssoc"
   ]
  },
  {
   "cell_type": "markdown",
   "metadata": {},
   "source": [
    "Here we define the addition operation to be associative.  Don't use this ADD for any non-associative operation."
   ]
  },
  {
   "cell_type": "code",
   "execution_count": 4,
   "metadata": {
    "collapsed": false
   },
   "outputs": [
    {
     "data": {
      "image/png": "[encoded data removed]",
      "text/plain": [
       "$\\forall_{~.., x_{\\Box} ,..., y_{\\Box} ,..., z_{\\Box} ,..~} \\left(\\left(~..\\cdot x_{\\Box} \\cdot...\\cdot y_{\\Box} \\cdot...\\cdot z_{\\Box} \\cdot..~\\right) = \\left(~..\\cdot x_{\\Box} \\cdot..~\\cdot \\left(~..\\cdot y_{\\Box} \\cdot..~\\right) \\cdot~..\\cdot z_{\\Box} \\cdot..~\\right)\\right)$"
      ]
     },
     "execution_count": 4,
     "metadata": {},
     "output_type": "execute_result"
    }
   ],
   "source": [
    "multAssoc = Forall([xEtc,yEtc,zEtc],\n",
    "                  Equals(\n",
    "                        Multiply(\n",
    "                                xEtc,yEtc,zEtc),\n",
    "                        Multiply(\n",
    "                                xEtc,Multiply(yEtc),zEtc)\n",
    "                        )\n",
    "                  )\n",
    "multAssoc"
   ]
  },
  {
   "cell_type": "code",
   "execution_count": 5,
   "metadata": {
    "collapsed": false
   },
   "outputs": [
    {
     "data": {
      "image/png": "[encoded data removed]",
      "text/plain": [
       "$\\forall_{ x , y } \\left(\\left(x \\geq y\\right) \\Rightarrow \\left(y \\leq x\\right)\\right)$"
      ]
     },
     "execution_count": 5,
     "metadata": {},
     "output_type": "execute_result"
    }
   ],
   "source": [
    "reverseGreaterThanEquals = Forall((x, y), Implies(GreaterThanEquals(x, y), LessThanEquals(y, x)))\n",
    "reverseGreaterThanEquals"
   ]
  },
  {
   "cell_type": "code",
   "execution_count": 6,
   "metadata": {
    "collapsed": false
   },
   "outputs": [
    {
     "data": {
      "image/png": "[encoded data removed]",
      "text/plain": [
       "$\\forall_{ x , y } \\left(\\left(x \\leq y\\right) \\Rightarrow \\left(y \\geq x\\right)\\right)$"
      ]
     },
     "execution_count": 6,
     "metadata": {},
     "output_type": "execute_result"
    }
   ],
   "source": [
    "reverseLessThanEquals = Forall((x, y), Implies(LessThanEquals(x, y), GreaterThanEquals(y, x)))\n",
    "reverseLessThanEquals"
   ]
  },
  {
   "cell_type": "code",
   "execution_count": 7,
   "metadata": {
    "collapsed": false
   },
   "outputs": [
    {
     "data": {
      "image/png": "[encoded data removed]",
      "text/plain": [
       "$\\forall_{ x , y } \\left(\\left(x > y\\right) \\Rightarrow \\left(y < x\\right)\\right)$"
      ]
     },
     "execution_count": 7,
     "metadata": {},
     "output_type": "execute_result"
    }
   ],
   "source": [
    "reverseGreaterThan = Forall((x, y), Implies(GreaterThan(x, y), LessThan(y, x)))\n",
    "reverseGreaterThan"
   ]
  },
  {
   "cell_type": "code",
   "execution_count": 8,
   "metadata": {
    "collapsed": false
   },
   "outputs": [
    {
     "data": {
      "image/png": "[encoded data removed]",
      "text/plain": [
       "$\\forall_{ x , y } \\left(\\left(x < y\\right) \\Rightarrow \\left(y > x\\right)\\right)$"
      ]
     },
     "execution_count": 8,
     "metadata": {},
     "output_type": "execute_result"
    }
   ],
   "source": [
    "reverseLessThan = Forall((x, y), Implies(LessThan(x, y), GreaterThan(y, x)))\n",
    "reverseLessThan"
   ]
  },
  {
   "cell_type": "code",
   "execution_count": 9,
   "metadata": {
    "collapsed": false
   },
   "outputs": [
    {
     "data": {
      "image/png": "[encoded data removed]",
      "text/plain": [
       "$\\forall_{ x , y } \\left(\\left(x \\geq y\\right) \\Rightarrow \\left( \\left(x > y\\right) \\lor \\left(x = y\\right) \\right)\\right)$"
      ]
     },
     "execution_count": 9,
     "metadata": {},
     "output_type": "execute_result"
    }
   ],
   "source": [
    "greaterThanEqualsDef = Forall((x,y), Implies(GreaterThanEquals(x,y), Or(GreaterThan(x,y),Equals(x,y))))\n",
    "greaterThanEqualsDef"
   ]
  },
  {
   "cell_type": "code",
   "execution_count": 10,
   "metadata": {
    "collapsed": false
   },
   "outputs": [
    {
     "data": {
      "image/png": "[encoded data removed]",
      "text/plain": [
       "$\\forall_{ x , y } \\left(\\left(x \\leq y\\right) \\Rightarrow \\left( \\left(x < y\\right) \\lor \\left(x = y\\right) \\right)\\right)$"
      ]
     },
     "execution_count": 10,
     "metadata": {},
     "output_type": "execute_result"
    }
   ],
   "source": [
    "lessThanEqualsDef = Forall((x,y), Implies(LessThanEquals(x,y), Or(LessThan(x,y),Equals(x,y))))\n",
    "lessThanEqualsDef"
   ]
  },
  {
   "cell_type": "code",
   "execution_count": 11,
   "metadata": {
    "collapsed": false
   },
   "outputs": [
    {
     "data": {
      "image/png": "[encoded data removed]",
      "text/plain": [
       "$\\forall_{ x , y , z } \\left(\\left(x < y\\right) \\Rightarrow \\left(\\left(y < z\\right) \\Rightarrow \\left(x < z\\right)\\right)\\right)$"
      ]
     },
     "execution_count": 11,
     "metadata": {},
     "output_type": "execute_result"
    }
   ],
   "source": [
    "lessThanTransLessThanRight = Forall((x,y,z),\n",
    "                               Implies(LessThan(x,y),\n",
    "                                      Implies(LessThan(y,z),\n",
    "                                             LessThan(x,z))))\n",
    "lessThanTransLessThanRight"
   ]
  },
  {
   "cell_type": "code",
   "execution_count": 12,
   "metadata": {
    "collapsed": false
   },
   "outputs": [
    {
     "data": {
      "image/png": "[encoded data removed]",
      "text/plain": [
       "$\\forall_{ x , y , z } \\left(\\left(x < y\\right) \\Rightarrow \\left(\\left(y \\leq z\\right) \\Rightarrow \\left(x < z\\right)\\right)\\right)$"
      ]
     },
     "execution_count": 12,
     "metadata": {},
     "output_type": "execute_result"
    }
   ],
   "source": [
    "lessThanTransLessThanEqualsRight = Forall((x,y,z),\n",
    "                               Implies(LessThan(x,y),\n",
    "                                      Implies(LessThanEquals(y,z),\n",
    "                                             LessThan(x,z))))\n",
    "lessThanTransLessThanEqualsRight"
   ]
  },
  {
   "cell_type": "code",
   "execution_count": 13,
   "metadata": {
    "collapsed": false
   },
   "outputs": [
    {
     "data": {
      "image/png": "[encoded data removed]",
      "text/plain": [
       "$\\forall_{ x , y , z } \\left(\\left(x < y\\right) \\Rightarrow \\left(\\left(z < x\\right) \\Rightarrow \\left(z < y\\right)\\right)\\right)$"
      ]
     },
     "execution_count": 13,
     "metadata": {},
     "output_type": "execute_result"
    }
   ],
   "source": [
    "lessThanTransLessThanLeft = Forall((x,y,z),\n",
    "                               Implies(LessThan(x,y),\n",
    "                                      Implies(LessThan(z,x),\n",
    "                                             LessThan(z,y))))\n",
    "lessThanTransLessThanLeft"
   ]
  },
  {
   "cell_type": "code",
   "execution_count": 14,
   "metadata": {
    "collapsed": false
   },
   "outputs": [
    {
     "data": {
      "image/png": "[encoded data removed]",
      "text/plain": [
       "$\\forall_{ x , y , z } \\left(\\left(x < y\\right) \\Rightarrow \\left(\\left(z \\leq x\\right) \\Rightarrow \\left(z < y\\right)\\right)\\right)$"
      ]
     },
     "execution_count": 14,
     "metadata": {},
     "output_type": "execute_result"
    }
   ],
   "source": [
    "lessThanTransLessThanEqualsLeft = Forall((x,y,z),\n",
    "                               Implies(LessThan(x,y),\n",
    "                                      Implies(LessThanEquals(z,x),\n",
    "                                             LessThan(z,y))))\n",
    "lessThanTransLessThanEqualsLeft"
   ]
  },
  {
   "cell_type": "code",
   "execution_count": 15,
   "metadata": {
    "collapsed": false
   },
   "outputs": [
    {
     "data": {
      "image/png": "[encoded data removed]",
      "text/plain": [
       "$\\forall_{ x , y , z } \\left(\\left(x \\leq y\\right) \\Rightarrow \\left(\\left(y < z\\right) \\Rightarrow \\left(x < z\\right)\\right)\\right)$"
      ]
     },
     "execution_count": 15,
     "metadata": {},
     "output_type": "execute_result"
    }
   ],
   "source": [
    "lessThanEqualsTransLessThanRight = Forall((x,y,z),\n",
    "                               Implies(LessThanEquals(x,y),\n",
    "                                      Implies(LessThan(y,z),\n",
    "                                             LessThan(x,z))))\n",
    "lessThanEqualsTransLessThanRight"
   ]
  },
  {
   "cell_type": "code",
   "execution_count": 16,
   "metadata": {
    "collapsed": false
   },
   "outputs": [
    {
     "data": {
      "image/png": "[encoded data removed]",
      "text/plain": [
       "$\\forall_{ x , y , z } \\left(\\left(x \\leq y\\right) \\Rightarrow \\left(\\left(y \\leq z\\right) \\Rightarrow \\left(x \\leq z\\right)\\right)\\right)$"
      ]
     },
     "execution_count": 16,
     "metadata": {},
     "output_type": "execute_result"
    }
   ],
   "source": [
    "lessThanEqualsTransLessThanEqualsRight = Forall((x,y,z),\n",
    "                               Implies(LessThanEquals(x,y),\n",
    "                                      Implies(LessThanEquals(y,z),\n",
    "                                             LessThanEquals(x,z))))\n",
    "lessThanEqualsTransLessThanEqualsRight"
   ]
  },
  {
   "cell_type": "code",
   "execution_count": 17,
   "metadata": {
    "collapsed": false
   },
   "outputs": [
    {
     "data": {
      "image/png": "[encoded data removed]",
      "text/plain": [
       "$\\forall_{ x , y , z } \\left(\\left(x \\leq y\\right) \\Rightarrow \\left(\\left(z < x\\right) \\Rightarrow \\left(z < y\\right)\\right)\\right)$"
      ]
     },
     "execution_count": 17,
     "metadata": {},
     "output_type": "execute_result"
    }
   ],
   "source": [
    "lessThanEqualsTransLessThanLeft = Forall((x,y,z),\n",
    "                               Implies(LessThanEquals(x,y),\n",
    "                                      Implies(LessThan(z,x),\n",
    "                                             LessThan(z,y))))\n",
    "lessThanEqualsTransLessThanLeft"
   ]
  },
  {
   "cell_type": "code",
   "execution_count": 18,
   "metadata": {
    "collapsed": false
   },
   "outputs": [
    {
     "data": {
      "image/png": "[encoded data removed]",
      "text/plain": [
       "$\\forall_{ x , y , z } \\left(\\left(x \\leq y\\right) \\Rightarrow \\left(\\left(z \\leq x\\right) \\Rightarrow \\left(z \\leq y\\right)\\right)\\right)$"
      ]
     },
     "execution_count": 18,
     "metadata": {},
     "output_type": "execute_result"
    }
   ],
   "source": [
    "lessThanEqualsTransLessThanEqualsLeft = Forall((x,y,z),\n",
    "                               Implies(LessThanEquals(x,y),\n",
    "                                      Implies(LessThanEquals(z,x),\n",
    "                                             LessThanEquals(z,y))))\n",
    "lessThanEqualsTransLessThanEqualsLeft"
   ]
  },
  {
   "cell_type": "code",
   "execution_count": 19,
   "metadata": {
    "collapsed": false
   },
   "outputs": [
    {
     "data": {
      "image/png": "[encoded data removed]",
      "text/plain": [
       "$\\forall_{ x , y , z } \\left(\\left(x > y\\right) \\Rightarrow \\left(\\left(y > z\\right) \\Rightarrow \\left(x > z\\right)\\right)\\right)$"
      ]
     },
     "execution_count": 19,
     "metadata": {},
     "output_type": "execute_result"
    }
   ],
   "source": [
    "greaterThanTransGreaterThanRight = Forall((x,y,z),\n",
    "                                    Implies(GreaterThan(x,y),\n",
    "                                           Implies(GreaterThan(y,z),\n",
    "                                                  GreaterThan(x,z))))\n",
    "greaterThanTransGreaterThanRight"
   ]
  },
  {
   "cell_type": "code",
   "execution_count": 20,
   "metadata": {
    "collapsed": false
   },
   "outputs": [
    {
     "data": {
      "image/png": "[encoded data removed]",
      "text/plain": [
       "$\\forall_{ x , y , z } \\left(\\left(x > y\\right) \\Rightarrow \\left(\\left(y \\geq z\\right) \\Rightarrow \\left(x > z\\right)\\right)\\right)$"
      ]
     },
     "execution_count": 20,
     "metadata": {},
     "output_type": "execute_result"
    }
   ],
   "source": [
    "greaterThanTransGreaterThanEqualsRight = Forall((x,y,z),\n",
    "                                    Implies(GreaterThan(x,y),\n",
    "                                           Implies(GreaterThanEquals(y,z),\n",
    "                                                  GreaterThan(x,z))))\n",
    "greaterThanTransGreaterThanEqualsRight"
   ]
  },
  {
   "cell_type": "code",
   "execution_count": 21,
   "metadata": {
    "collapsed": false
   },
   "outputs": [
    {
     "data": {
      "image/png": "[encoded data removed]",
      "text/plain": [
       "$\\forall_{ x , y , z } \\left(\\left(x > y\\right) \\Rightarrow \\left(\\left(z > x\\right) \\Rightarrow \\left(z > y\\right)\\right)\\right)$"
      ]
     },
     "execution_count": 21,
     "metadata": {},
     "output_type": "execute_result"
    }
   ],
   "source": [
    "greaterThanTransGreaterThanLeft = Forall((x,y,z),\n",
    "                                    Implies(GreaterThan(x,y),\n",
    "                                           Implies(GreaterThan(z,x),\n",
    "                                                  GreaterThan(z,y))))\n",
    "greaterThanTransGreaterThanLeft"
   ]
  },
  {
   "cell_type": "code",
   "execution_count": 22,
   "metadata": {
    "collapsed": false
   },
   "outputs": [
    {
     "data": {
      "image/png": "[encoded data removed]",
      "text/plain": [
       "$\\forall_{ x , y , z } \\left(\\left(x > y\\right) \\Rightarrow \\left(\\left(z \\geq x\\right) \\Rightarrow \\left(z > y\\right)\\right)\\right)$"
      ]
     },
     "execution_count": 22,
     "metadata": {},
     "output_type": "execute_result"
    }
   ],
   "source": [
    "greaterThanTransGreaterThanEqualsLeft = Forall((x,y,z),\n",
    "                                    Implies(GreaterThan(x,y),\n",
    "                                           Implies(GreaterThanEquals(z,x),\n",
    "                                                  GreaterThan(z,y))))\n",
    "greaterThanTransGreaterThanEqualsLeft"
   ]
  },
  {
   "cell_type": "code",
   "execution_count": 23,
   "metadata": {
    "collapsed": false
   },
   "outputs": [
    {
     "data": {
      "image/png": "[encoded data removed]",
      "text/plain": [
       "$\\forall_{ x , y , z } \\left(\\left(x \\geq y\\right) \\Rightarrow \\left(\\left(y > z\\right) \\Rightarrow \\left(x > z\\right)\\right)\\right)$"
      ]
     },
     "execution_count": 23,
     "metadata": {},
     "output_type": "execute_result"
    }
   ],
   "source": [
    "greaterThanEqualsTransGreaterThanRight = Forall((x,y,z),\n",
    "                                               Implies(GreaterThanEquals(x,y),\n",
    "                                                      Implies(GreaterThan(y,z),\n",
    "                                                             GreaterThan(x,z))))\n",
    "greaterThanEqualsTransGreaterThanRight"
   ]
  },
  {
   "cell_type": "code",
   "execution_count": 24,
   "metadata": {
    "collapsed": false
   },
   "outputs": [
    {
     "data": {
      "image/png": "[encoded data removed]",
      "text/plain": [
       "$\\forall_{ x , y , z } \\left(\\left(x \\geq y\\right) \\Rightarrow \\left(\\left(y \\geq z\\right) \\Rightarrow \\left(x \\geq z\\right)\\right)\\right)$"
      ]
     },
     "execution_count": 24,
     "metadata": {},
     "output_type": "execute_result"
    }
   ],
   "source": [
    "greaterThanEqualsTransGreaterThanEqualsRight = Forall((x,y,z),\n",
    "                                               Implies(GreaterThanEquals(x,y),\n",
    "                                                      Implies(GreaterThanEquals(y,z),\n",
    "                                                             GreaterThanEquals(x,z))))\n",
    "greaterThanEqualsTransGreaterThanEqualsRight"
   ]
  },
  {
   "cell_type": "code",
   "execution_count": 25,
   "metadata": {
    "collapsed": false
   },
   "outputs": [
    {
     "data": {
      "image/png": "[encoded data removed]",
      "text/plain": [
       "$\\forall_{ x , y , z } \\left(\\left(x \\geq y\\right) \\Rightarrow \\left(\\left(z > x\\right) \\Rightarrow \\left(z > y\\right)\\right)\\right)$"
      ]
     },
     "execution_count": 25,
     "metadata": {},
     "output_type": "execute_result"
    }
   ],
   "source": [
    "greaterThanEqualsTransGreaterThanLeft = Forall((x,y,z),\n",
    "                                               Implies(GreaterThanEquals(x,y),\n",
    "                                                      Implies(GreaterThan(z,x),\n",
    "                                                             GreaterThan(z,y))))\n",
    "greaterThanEqualsTransGreaterThanLeft"
   ]
  },
  {
   "cell_type": "code",
   "execution_count": 26,
   "metadata": {
    "collapsed": false
   },
   "outputs": [
    {
     "data": {
      "image/png": "[encoded data removed]",
      "text/plain": [
       "$\\forall_{ x , y , z } \\left(\\left(x \\geq y\\right) \\Rightarrow \\left(\\left(z \\geq x\\right) \\Rightarrow \\left(z \\geq y\\right)\\right)\\right)$"
      ]
     },
     "execution_count": 26,
     "metadata": {},
     "output_type": "execute_result"
    }
   ],
   "source": [
    "greaterThanEqualsTransGreaterThanEqualsLeft = Forall((x,y,z),\n",
    "                                               Implies(GreaterThanEquals(x,y),\n",
    "                                                      Implies(GreaterThanEquals(z,x),\n",
    "                                                             GreaterThanEquals(z,y))))\n",
    "greaterThanEqualsTransGreaterThanEqualsLeft"
   ]
  },
  {
   "cell_type": "markdown",
   "metadata": {},
   "source": [
    "These define summation over a discrete continguous set.  Does not assume that addition is commutative or associative."
   ]
  },
  {
   "cell_type": "code",
   "execution_count": 27,
   "metadata": {
    "collapsed": false
   },
   "outputs": [
    {
     "data": {
      "image/png": "[encoded data removed]",
      "text/plain": [
       "$\\forall_{ f } \\left[\\forall_{ a  \\in \\mathbb{Z}} \\left(\\left(\\sum_{x=a}^{a} f\\left( x \\right)\\right) = f\\left( a \\right)\\right)\\right]$"
      ]
     },
     "execution_count": 27,
     "metadata": {},
     "output_type": "execute_result"
    }
   ],
   "source": [
    "sumSingle = Forall(f, Forall(a,\n",
    "                              Equals(Summation(x,fx,DiscreteContiguousSet(a,a)),\n",
    "                                     fa),\n",
    "                              domain=Integers))\n",
    "sumSingle"
   ]
  },
  {
   "cell_type": "code",
   "execution_count": 28,
   "metadata": {
    "collapsed": false
   },
   "outputs": [
    {
     "data": {
      "image/png": "[encoded data removed]",
      "text/plain": [
       "$\\forall_{ f } \\left[\\forall_{ a , b  \\in \\mathbb{Z}~|~ \\left(a < b\\right) } \\left(\\left(\\sum_{x=a}^{b} f\\left( x \\right)\\right) = \\left( \\left(\\sum_{x=a}^{b - 1} f\\left( x \\right)\\right) + f\\left( b \\right) \\right)\\right)\\right]$"
      ]
     },
     "execution_count": 28,
     "metadata": {},
     "output_type": "execute_result"
    }
   ],
   "source": [
    "sumSplitLast = Forall(f, \n",
    "                      Forall([a,b],\n",
    "                             Equals(Summation(x,fx,DiscreteContiguousSet(a,b)),\n",
    "                                    Add(Summation(x,fx,DiscreteContiguousSet(a,Subtract(b, one))),\n",
    "                                       fb)),\n",
    "                             domain=Integers, conditions=[LessThan(a, b)]))\n",
    "sumSplitLast"
   ]
  },
  {
   "cell_type": "code",
   "execution_count": 29,
   "metadata": {
    "collapsed": false
   },
   "outputs": [
    {
     "name": "stdout",
     "output_type": "stream",
     "text": [
      "Creating axioms *.dill and *.pv_it files in the __pv_it__ directory\n",
      "These axioms may be imported from proveit.number.axioms\n"
     ]
    }
   ],
   "source": [
    "%end_axioms"
   ]
  },
  {
   "cell_type": "code",
   "execution_count": null,
   "metadata": {
    "collapsed": true
   },
   "outputs": [],
   "source": []
  }
 ],
 "metadata": {
  "kernelspec": {
   "display_name": "Python 3",
   "language": "python",
   "name": "python3"
  },
  "language_info": {
   "codemirror_mode": {
    "name": "ipython",
    "version": 3
   },
   "file_extension": ".py",
   "mimetype": "text/x-python",
   "name": "python",
   "nbconvert_exporter": "python",
   "pygments_lexer": "ipython3"
  }
 },
 "nbformat": 4,
 "nbformat_minor": 0
}
