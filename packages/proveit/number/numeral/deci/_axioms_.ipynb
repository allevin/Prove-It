{
 "cells": [
  {
   "cell_type": "markdown",
   "metadata": {},
   "source": [
    "Axioms for context <a class=\"ProveItLink\" href=\"_context_.ipynb\">proveit.number.numeral.decimal</a>\n",
    "========"
   ]
  },
  {
   "cell_type": "code",
   "execution_count": 1,
   "metadata": {},
   "outputs": [],
   "source": [
    "import proveit\n",
    "from proveit.logic import Equals\n",
    "from proveit.number import num, zero, one, Add\n",
    "# the context is in the current directory:\n",
    "context = proveit.Context('.') # adds context root to sys.path if necessary"
   ]
  },
  {
   "cell_type": "code",
   "execution_count": 2,
   "metadata": {},
   "outputs": [
    {
     "name": "stdout",
     "output_type": "stream",
     "text": [
      "Defining axioms for context 'proveit.number.numeral.deci'\n",
      "Subsequent end-of-cell assignments will define axioms\n",
      "%end_axioms will finalize the definitions\n"
     ]
    }
   ],
   "source": [
    "%begin axioms"
   ]
  },
  {
   "cell_type": "code",
   "execution_count": 3,
   "metadata": {},
   "outputs": [
    {
     "data": {
      "text/html": [
       "<strong id=\"twoDef\">twoDef:</strong> <a class=\"ProveItLink\" href=\"__pv_it/dca63e0489d4aaa7c44dad39271996ad67cbf73c0/expr.ipynb\"><img src=\"data:image/png;base64,iVBORw0KGgoAAAANSUhEUgAAAGAAAAAVBAMAAABLWfZ5AAAAMFBMVEX///+YmJh2dnbMzMwQEBAi\n",
       "IiLu7u6qqqqIiIhUVFS6urpEREQyMjJmZmbc3NwAAACOMKdoAAAAAXRSTlMAQObYZgAAASJJREFU\n",
       "OMtjYKAKWIFDnHEBAwPf3dML0MWZJwCJbeii3AkMDJcZGF4ycHxHl+IBSmV/QxNk2w8U5WFgmMbA\n",
       "EI+uoYOBIXMmTAPbAwg1cz5QA6MCg0sCw3x0N7kBMQdMA3sDlNEP1MDmwHA+geE+mgauAzg1MGwH\n",
       "seITUDXwKuDWoAsKk08g7p0zIHAS7GcB3BpqQPIb0LzAsgC3hiVAfBs9kPjxaLAHykzAo4H3zJmj\n",
       "PmfOTEDWUMvABwrpq6EgEA12UgE+JzFfYGB8gJYG8HhahuGpktJVNCcxXcAXrPH//39F08AVAHT8\n",
       "lT8XUTXc9T8LtPkU1lTsh8yB2wBOUQ5YNQih2IesgakBqwaeBFw5Kwe7MN8EXBrm4RB/gUOcw4AB\n",
       "AOhZW6Msgr9DAAAAAElFTkSuQmCC\n",
       "\" style=\"display:inline;vertical-align:middle;\" /></a><br>"
      ],
      "text/plain": [
       "twoDef: 2 = (1 + 1)"
      ]
     },
     "execution_count": 3,
     "metadata": {},
     "output_type": "execute_result"
    }
   ],
   "source": [
    "twoDef = Equals(num(2), Add(one, one))"
   ]
  },
  {
   "cell_type": "code",
   "execution_count": 4,
   "metadata": {},
   "outputs": [
    {
     "data": {
      "text/html": [
       "<strong id=\"threeDef\">threeDef:</strong> <a class=\"ProveItLink\" href=\"__pv_it/015aa7f30be99ae22fd2fad984ef2387eed145b60/expr.ipynb\"><img src=\"data:image/png;base64,iVBORw0KGgoAAAANSUhEUgAAAGEAAAAVBAMAAACkm51HAAAAMFBMVEX///+YmJju7u4QEBBUVFQy\n",
       "MjIiIiKIiIi6urpmZmbc3NyqqqpERER2dnbMzMwAAAB0GlNiAAAAAXRSTlMAQObYZgAAAU1JREFU\n",
       "OMtjYKAO4CjAISEBIt7ePY0h8YSBYeXUE+iihxgYOB8wMHBNYOjHMDGIgcuBoX4DqqDOJyARwMDA\n",
       "+5uBPwFNA3sBA4sCA9sHCE8LQqm4gHTIMjBwY9HBrMDAbMTA8gPC2w4zB6RDGczEcFUrAwPrJwZO\n",
       "bDp4wE4NQffGXDDJ9gmLDt4JDAx8Vx1AfM5QMACzA8Eq3l/AooM7AMQsbkCzwwJMxjBg0cFhAPbo\n",
       "JzQdYA9wHsCmg+8DA9cDBp6P2HSUgJlTQ0OTQ0NDkHXof4Lo4EwDA7DB1iAHT2BYhd1V/AEMbL/Q\n",
       "7DgIxC8ZGKSw6GAMYGAXYOi/gKbjJjDx5N69mYAjdHfOjEaPjzZgZPz//x9VB+fkrxOBMduANU0z\n",
       "L0DmbUfmKGPPBYwozmxH5lzHkXGCcGU1pgAcEktw6WBZgEOCC1eurWNgAAD2C1y2zIS0iQAAAABJ\n",
       "RU5ErkJggg==\n",
       "\" style=\"display:inline;vertical-align:middle;\" /></a><br>"
      ],
      "text/plain": [
       "threeDef: 3 = (2 + 1)"
      ]
     },
     "execution_count": 4,
     "metadata": {},
     "output_type": "execute_result"
    }
   ],
   "source": [
    "threeDef = Equals(num(3), Add(num(2), one))"
   ]
  },
  {
   "cell_type": "code",
   "execution_count": 5,
   "metadata": {},
   "outputs": [
    {
     "data": {
      "text/html": [
       "<strong id=\"fourDef\">fourDef:</strong> <a class=\"ProveItLink\" href=\"__pv_it/d3e8b51d97e15b0bd0ad3bd7aac673c53ba7f0f70/expr.ipynb\"><img src=\"data:image/png;base64,iVBORw0KGgoAAAANSUhEUgAAAGEAAAAVBAMAAACkm51HAAAAMFBMVEX///+6urpmZmaqqqru7u52\n",
       "dnYyMjKYmJjc3NwQEBCIiIhEREQiIiJUVFTMzMwAAACQ7J58AAAAAXRSTlMAQObYZgAAATpJREFU\n",
       "OMtjYKAOYFyAQ6IQQr3FkACKPA3djC66hYGB6QGYdRpDRwoDhwKDPJpF3l+ARAKIxTUbXQPXAgbW\n",
       "zwz8ByA8DwjlexekoxTEbM9G18HpwMCM0GEFMwekwxPECsDQIQYmYa5C0cFtwMDA3oChQxVM5jJg\n",
       "0cGqwMDgxQDWwZQGBhdA7HQg5gu7gE0HM9DrAQwYdkwEkysFsOhgnMDA/ABTx0eI/79g0cH3gcGV\n",
       "AasOjgcM3N+BTLW0tJNpabnIOmzv3v15C+SPM2CwASQ3mYHB/wtEBxZXAQFGDG5nYOBPYOD5gUUH\n",
       "ewJWHUFA6QIG+QAcocsQ+18dTYcMEBspJaOGLpPmN6A6NgGsaZqzAZlnhczxxJ4L2AOQeVLInCgc\n",
       "GScFV1ZjScAh0YtLB28DDgkOXLl2HQMDAIB0UdDv/ekpAAAAAElFTkSuQmCC\n",
       "\" style=\"display:inline;vertical-align:middle;\" /></a><br>"
      ],
      "text/plain": [
       "fourDef: 4 = (3 + 1)"
      ]
     },
     "execution_count": 5,
     "metadata": {},
     "output_type": "execute_result"
    }
   ],
   "source": [
    "fourDef = Equals(num(4), Add(num(3), one))"
   ]
  },
  {
   "cell_type": "code",
   "execution_count": 6,
   "metadata": {},
   "outputs": [
    {
     "data": {
      "text/html": [
       "<strong id=\"fiveDef\">fiveDef:</strong> <a class=\"ProveItLink\" href=\"__pv_it/6735c01c81870d6bcd9c10332f574409622a5eac0/expr.ipynb\"><img src=\"data:image/png;base64,iVBORw0KGgoAAAANSUhEUgAAAGAAAAAVBAMAAABLWfZ5AAAAMFBMVEX///8iIiJERES6urqIiIjM\n",
       "zMxUVFRmZmYQEBCqqqp2dnbc3Nzu7u6YmJgyMjIAAADYGhJvAAAAAXRSTlMAQObYZgAAATZJREFU\n",
       "OMtjYKAKMMEhzmvAwMB3h3slujhrAoxABkwHGBhKGRg4/v9fgK6BDyjFwKiAKsijDxTlA6KypRg2\n",
       "u4AID6gGng0QKi0fqIF3AQMbFqf2ADH3PagGTgeoqD9QA08DNg3MD4AEFx82DQyaDGwubgZoGthB\n",
       "nrqNXcNyoN95PoO4de9A4BnYzxeAdjtg1zAPxMpAs4EDaCUXA3YNFiDW+gBUDfxADVNxaIhnUARq\n",
       "MMDQwLMAooH93buHfe/eJSBpaGRgqAeFdKEgCAiBnTSBgTMtLb/NAauTChgY3qGngQtgbViddI9h\n",
       "OwNnN5oGrgLcGpYzsJanbUCPOAGQrvzvF1A0lPc/Bwo8xpqKUayE2wBOUQ1YNdxCsQ9ZA5cDVg3g\n",
       "5I0VnMMuzJ2AS0M2DvEtOMRZAhgAcGJPr9P1q/sAAAAASUVORK5CYII=\n",
       "\" style=\"display:inline;vertical-align:middle;\" /></a><br>"
      ],
      "text/plain": [
       "fiveDef: 5 = (4 + 1)"
      ]
     },
     "execution_count": 6,
     "metadata": {},
     "output_type": "execute_result"
    }
   ],
   "source": [
    "fiveDef = Equals(num(5), Add(num(4), one))"
   ]
  },
  {
   "cell_type": "code",
   "execution_count": 7,
   "metadata": {},
   "outputs": [
    {
     "data": {
      "text/html": [
       "<strong id=\"sixDef\">sixDef:</strong> <a class=\"ProveItLink\" href=\"__pv_it/856913d7cd0eb0bb5b44cac11eda289e08819cd80/expr.ipynb\"><img src=\"data:image/png;base64,iVBORw0KGgoAAAANSUhEUgAAAGEAAAAVBAMAAACkm51HAAAAMFBMVEX///+6urpERESqqqqIiIgQ\n",
       "EBCYmJgyMjJUVFQiIiLc3NzMzMxmZmZ2dnbu7u4AAABf+mkYAAAAAXRSTlMAQObYZgAAAU5JREFU\n",
       "OMtjYKAOYHTAIZEIIvju3N2ALrGDgaHswVoDNFE9BgYekNKVGzgmoOuoY2CI//8XTfDRPyBRAMRz\n",
       "GdgL0ORYgI6q6YXZ/ApCvegA6chlYGD7h+la1gcMDA1wngnMHJDKpwwM7AGYOsQZcOpgMmDgr3Y5\n",
       "jK7jLBC3uDRi08F7gOH9NAbOBCCTpxwMwEaXgQPmvQAWHcwFDO8/MPCieyUQTHIEYNHBGMDwfgID\n",
       "22c0HR/BJO9vLDq4PzDwFzCwfcHUwTSBgRek8Xh5+dTy8gpkHUxQO3hmgoECSC4YGMATGHh+YXcV\n",
       "MxZ/qAENYIBHLIoONqCgLsPTBDQddxgYuA4wmC7AHroMPD2N6PEhCcR7TnShxgfP0e/HgBYLYE3T\n",
       "rAuQeSbInKfYcwHbBWSeCDLnCo6MU4crq/EV4JBYgUsHxwIcEly4cq03AwMABehe0TjMJR8AAAAA\n",
       "SUVORK5CYII=\n",
       "\" style=\"display:inline;vertical-align:middle;\" /></a><br>"
      ],
      "text/plain": [
       "sixDef: 6 = (5 + 1)"
      ]
     },
     "execution_count": 7,
     "metadata": {},
     "output_type": "execute_result"
    }
   ],
   "source": [
    "sixDef = Equals(num(6), Add(num(5), one))"
   ]
  },
  {
   "cell_type": "code",
   "execution_count": 8,
   "metadata": {},
   "outputs": [
    {
     "data": {
      "text/html": [
       "<strong id=\"sevenDef\">sevenDef:</strong> <a class=\"ProveItLink\" href=\"__pv_it/28baa1f88d9f50a2c24092f6be70c783795533ee0/expr.ipynb\"><img src=\"data:image/png;base64,iVBORw0KGgoAAAANSUhEUgAAAGAAAAAVBAMAAABLWfZ5AAAAMFBMVEX////c3NwQEBAyMjKqqqpE\n",
       "RESIiIi6urru7u5UVFSYmJh2dnZmZmYiIiLMzMwAAADdSUq1AAAAAXRSTlMAQObYZgAAAU1JREFU\n",
       "OMtjYKAKKMMhzlXAwPD29O7dG9DE+SYwMHSf3ocmytrAwHCOgWH9////J6BJMTcwMN5jmIsqyBEP\n",
       "1MDMwLCDgYET3eY0BgbeDQzGUIUCEGrmfKAGrg0MQOeg282gAbS4AcZhSYAy8oFCHApABnsCmnp2\n",
       "AwYGIwasGhhCgLgV3QIeoK2fn+U4YNOwB4iPgLmHjUHAEuznBQwcfxcw3MKmwRnorA/oNjAVMHD8\n",
       "Z2DY34BFQxEDA5sBugZ+oIa/QH87YNHwHhiAE7BoYPgM1ABUyWNsbKtsbDwBWUP/AbCqs3dB4CrY\n",
       "SUCjY3HYAHRS/QF0G1gXMDD44/DDYqAUhgZuoAjrBg4tHMH6fgG6BvYLQOLkyQJUDWf0bYAqzbGm\n",
       "YkVkDgtyQgAnDUywGsU+ZA3cCVg1MDfgylnN2IUZJ+DSMBGHuBgOcbYHDAAhAFq+QkkgcgAAAABJ\n",
       "RU5ErkJggg==\n",
       "\" style=\"display:inline;vertical-align:middle;\" /></a><br>"
      ],
      "text/plain": [
       "sevenDef: 7 = (6 + 1)"
      ]
     },
     "execution_count": 8,
     "metadata": {},
     "output_type": "execute_result"
    }
   ],
   "source": [
    "sevenDef = Equals(num(7), Add(num(6), one))"
   ]
  },
  {
   "cell_type": "code",
   "execution_count": 9,
   "metadata": {},
   "outputs": [
    {
     "data": {
      "text/html": [
       "<strong id=\"eightDef\">eightDef:</strong> <a class=\"ProveItLink\" href=\"__pv_it/f43c86ccf55740810cd71ccb08cba9b93c367a120/expr.ipynb\"><img src=\"data:image/png;base64,iVBORw0KGgoAAAANSUhEUgAAAGEAAAAVBAMAAACkm51HAAAAMFBMVEX///+6uroQEBAyMjLMzMzc\n",
       "3NxERESIiIhUVFQiIiKYmJiqqqpmZmZ2dnbu7u4AAAACo3QQAAAAAXRSTlMAQObYZgAAAUtJREFU\n",
       "OMtjYKAOYCzAIbEQRLy9expDwoOBZc7du3fRRPMYGHgcgPQBBp4F6DrsGLj+////A1Xw2T8gYcDA\n",
       "wLWAgW8Cmgb2AgbeBwwMDRDeUwj1ogOkYy0DA28Dpg6mBwy8QBkHCG87zByQjkcMDNw/HvCi+1MY\n",
       "TIozYNHBtoGBIf9XLbo3zoIIvgRsOngPAL3/fyqIz2MMBmC3W4EFNmDTwQ30+hrn/xvQ7FAEEe8Z\n",
       "sOlgVGDgOsCw/h+ajo8gohirDpYPoHBh/YVNxwww87Cx8SRjYwtkHcDgYjgOcvZMMAB7Vxvk8T+4\n",
       "XMUUwMDQimZHFkgKuw4uAwZuOwbuC2g67oACBbsOUOhKnMFIiZIgB/9C08Fz6PMpBgZmAaxpGuRS\n",
       "BNiOzHmEPRdwoThTHJlzHUfGscOV1fgMcEhE4NLBEYBDghVXri1hYAAAjq5e9hEtMuEAAAAASUVO\n",
       "RK5CYII=\n",
       "\" style=\"display:inline;vertical-align:middle;\" /></a><br>"
      ],
      "text/plain": [
       "eightDef: 8 = (7 + 1)"
      ]
     },
     "execution_count": 9,
     "metadata": {},
     "output_type": "execute_result"
    }
   ],
   "source": [
    "eightDef = Equals(num(8), Add(num(7), one))"
   ]
  },
  {
   "cell_type": "code",
   "execution_count": 10,
   "metadata": {},
   "outputs": [
    {
     "data": {
      "text/html": [
       "<strong id=\"nineDef\">nineDef:</strong> <a class=\"ProveItLink\" href=\"__pv_it/d1dd288fc692635b22357f5807fe84362a47f5370/expr.ipynb\"><img src=\"data:image/png;base64,iVBORw0KGgoAAAANSUhEUgAAAGEAAAAVBAMAAACkm51HAAAAMFBMVEX///8iIiKYmJi6urqIiIgy\n",
       "MjJERESqqqoQEBDc3NzMzMx2dnZmZmZUVFTu7u4AAABn2L4sAAAAAXRSTlMAQObYZgAAAWFJREFU\n",
       "OMtjYKAOYHbAIaEMIt6evoUhsZaB4fXu4+iieQwMPAsYGDjbGWZMQJeLY2A4wMCjgCr47B+QCGBg\n",
       "YGtg4E1A08DiwMCkwMAnAOG9hFBv74J0aDMw8AcwcP9D08HxgIH7AlxHCcwckLIXDAzvExhYPqPp\n",
       "MGVgYP/7gNsBiw62ArAdn9B0nAbi/E/eDFh0cAP918DA9gXI5AkFgwsguSAQ/78kNh3sAQx8QQw1\n",
       "X9DsaAZinaX/C7DoYG5gYGByWfIdTQfQX0wHGPT/YdHB9QHExAirz+Dg4gR572hoqERoaCyaDtYA\n",
       "kLsFwQAcNe3gUGQ4gt1VLD8Z5hug2ZEEtAOYDm5i0cEUwMAixxCCnkj2AMMkjoF9A/bQZdhzrABd\n",
       "hyEQ2545jhq6PCe+HgL6wABrmuZASZolyJwX2HMB0wZkngkyZwuOjBOHK6vxBeCQmItLB+8EHBKc\n",
       "uHKtFwMDAKuGXlkCnhhDAAAAAElFTkSuQmCC\n",
       "\" style=\"display:inline;vertical-align:middle;\" /></a><br>"
      ],
      "text/plain": [
       "nineDef: 9 = (8 + 1)"
      ]
     },
     "execution_count": 10,
     "metadata": {},
     "output_type": "execute_result"
    }
   ],
   "source": [
    "nineDef = Equals(num(9), Add(num(8), one))"
   ]
  },
  {
   "cell_type": "code",
   "execution_count": 11,
   "metadata": {},
   "outputs": [
    {
     "name": "stdout",
     "output_type": "stream",
     "text": [
      "Axioms may be imported from autogenerated _axioms_.py\n"
     ]
    }
   ],
   "source": [
    "%end axioms"
   ]
  },
  {
   "cell_type": "code",
   "execution_count": null,
   "metadata": {},
   "outputs": [],
   "source": []
  }
 ],
 "metadata": {
  "kernelspec": {
   "display_name": "Python 3",
   "language": "python",
   "name": "python3"
  }
 },
 "nbformat": 4,
 "nbformat_minor": 0
}
