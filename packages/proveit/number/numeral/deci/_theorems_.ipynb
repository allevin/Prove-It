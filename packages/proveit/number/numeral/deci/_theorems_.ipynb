{
 "cells": [
  {
   "cell_type": "markdown",
   "metadata": {
    "collapsed": true,
    "deletable": true,
    "editable": true
   },
   "source": [
    "Theorems for context <a class=\"ProveItLink\" href=\"_context_.ipynb\">proveit.number.numeral.decimal</a>\n",
    "========"
   ]
  },
  {
   "cell_type": "code",
   "execution_count": 1,
   "metadata": {
    "collapsed": false,
    "deletable": true,
    "editable": true
   },
   "outputs": [],
   "source": [
    "import proveit\n",
    "from proveit.logic import Forall, Equals, InSet\n",
    "from proveit.number import num, Add, Less, LesserSequence, Naturals, NaturalsPos, Len\n",
    "from proveit._common_ import a,b,c,d,e,f,g,h,i\n",
    "# the context is in the current directory:\n",
    "context = proveit.Context('.') # adds context root to sys.path if necessary"
   ]
  },
  {
   "cell_type": "code",
   "execution_count": 2,
   "metadata": {
    "collapsed": false,
    "deletable": true,
    "editable": true
   },
   "outputs": [
    {
     "name": "stdout",
     "output_type": "stream",
     "text": [
      "Defining theorems for context 'proveit.number.numeral.deci'\n",
      "Subsequent end-of-cell assignments will define theorems\n",
      "'%end theorems' will finalize the definitions\n"
     ]
    }
   ],
   "source": [
    "%begin theorems"
   ]
  },
  {
   "cell_type": "markdown",
   "metadata": {
    "deletable": true,
    "editable": true
   },
   "source": [
    "### List lengths 1-9"
   ]
  },
  {
   "cell_type": "code",
   "execution_count": 3,
   "metadata": {
    "collapsed": false,
    "deletable": true,
    "editable": true
   },
   "outputs": [
    {
     "data": {
      "text/html": [
       "<strong id=\"listLen1\"><a class=\"ProveItLink\" href=\"_proofs_/listLen1.ipynb\">listLen1</a>:</strong> <a class=\"ProveItLink\" href=\"__pv_it/04c6f13650c995a5aee7cd81ef334ff937d9b2560/expr.ipynb\"><img src=\"__pv_it/04c6f13650c995a5aee7cd81ef334ff937d9b2560/expr.png\" style=\"display:inline;vertical-align:middle;\" /></a><br>\n",
       "<strong id=\"listLen2\"><a class=\"ProveItLink\" href=\"_proofs_/listLen2.ipynb\">listLen2</a>:</strong> <a class=\"ProveItLink\" href=\"__pv_it/99b4d3dd7d697784f8f1c1bf070680bc6edefc8b0/expr.ipynb\"><img src=\"__pv_it/99b4d3dd7d697784f8f1c1bf070680bc6edefc8b0/expr.png\" style=\"display:inline;vertical-align:middle;\" /></a><br>\n",
       "<strong id=\"listLen3\"><a class=\"ProveItLink\" href=\"_proofs_/listLen3.ipynb\">listLen3</a>:</strong> <a class=\"ProveItLink\" href=\"__pv_it/28f9e8a62e272528fa12cde7604c4540c3ed299a0/expr.ipynb\"><img src=\"__pv_it/28f9e8a62e272528fa12cde7604c4540c3ed299a0/expr.png\" style=\"display:inline;vertical-align:middle;\" /></a><br>\n",
       "<strong id=\"listLen4\"><a class=\"ProveItLink\" href=\"_proofs_/listLen4.ipynb\">listLen4</a>:</strong> <a class=\"ProveItLink\" href=\"__pv_it/a1e47cb70728d38e9257a56ad28e91f0739b091e0/expr.ipynb\"><img src=\"__pv_it/a1e47cb70728d38e9257a56ad28e91f0739b091e0/expr.png\" style=\"display:inline;vertical-align:middle;\" /></a><br>\n",
       "<strong id=\"listLen5\"><a class=\"ProveItLink\" href=\"_proofs_/listLen5.ipynb\">listLen5</a>:</strong> <a class=\"ProveItLink\" href=\"__pv_it/48f3a81fa33245e504d6451a42b55bc12fc21ec60/expr.ipynb\"><img src=\"__pv_it/48f3a81fa33245e504d6451a42b55bc12fc21ec60/expr.png\" style=\"display:inline;vertical-align:middle;\" /></a><br>\n",
       "<strong id=\"listLen6\"><a class=\"ProveItLink\" href=\"_proofs_/listLen6.ipynb\">listLen6</a>:</strong> <a class=\"ProveItLink\" href=\"__pv_it/48964fc657c38d2e6f4a31fa13b0dac982b657a20/expr.ipynb\"><img src=\"__pv_it/48964fc657c38d2e6f4a31fa13b0dac982b657a20/expr.png\" style=\"display:inline;vertical-align:middle;\" /></a><br>\n",
       "<strong id=\"listLen7\"><a class=\"ProveItLink\" href=\"_proofs_/listLen7.ipynb\">listLen7</a>:</strong> <a class=\"ProveItLink\" href=\"__pv_it/b816f0be00a8323bf99673073aec1e41ed2f3c280/expr.ipynb\"><img src=\"__pv_it/b816f0be00a8323bf99673073aec1e41ed2f3c280/expr.png\" style=\"display:inline;vertical-align:middle;\" /></a><br>\n",
       "<strong id=\"listLen8\"><a class=\"ProveItLink\" href=\"_proofs_/listLen8.ipynb\">listLen8</a>:</strong> <a class=\"ProveItLink\" href=\"__pv_it/0492a174b0b1a14810ff2c00562d0b84e11852f70/expr.ipynb\"><img src=\"__pv_it/0492a174b0b1a14810ff2c00562d0b84e11852f70/expr.png\" style=\"display:inline;vertical-align:middle;\" /></a><br>\n",
       "<strong id=\"listLen9\"><a class=\"ProveItLink\" href=\"_proofs_/listLen9.ipynb\">listLen9</a>:</strong> <a class=\"ProveItLink\" href=\"__pv_it/4386b8fcf5beffce973a330324159a5e139738af0/expr.ipynb\"><img src=\"__pv_it/4386b8fcf5beffce973a330324159a5e139738af0/expr.png\" style=\"display:inline;vertical-align:middle;\" /></a><br>"
      ],
      "text/plain": [
       "listLen1: forall_{a} (|(a)| = 1)\n",
       "listLen2: forall_{a, b} (|(a , b)| = 2)\n",
       "listLen3: forall_{a, b, c} (|(a , b , c)| = 3)\n",
       "listLen4: forall_{a, b, c, d} (|(a , b , c , d)| = 4)\n",
       "listLen5: forall_{a, b, c, d, e} (|(a , b , c , d , e)| = 5)\n",
       "listLen6: forall_{a, b, c, d, e, f} (|(a , b , c , d , e , f)| = 6)\n",
       "listLen7: forall_{a, b, c, d, e, f, g} (|(a , b , c , d , e , f , g)| = 7)\n",
       "listLen8: forall_{a, b, c, d, e, f, g, h} (|(a , b , c , d , e , f , g , h)| = 8)\n",
       "listLen9: forall_{a, b, c, d, e, f, g, h, i} (|(a , b , c , d , e , f , g , h , i)| = 9)"
      ]
     },
     "execution_count": 3,
     "metadata": {},
     "output_type": "execute_result"
    }
   ],
   "source": [
    "cur_vars = vars()\n",
    "def nvars(count):\n",
    "    return [cur_vars[chr(ord('a')+k)] for k in range(count)]\n",
    "listLen1, listLen2, listLen3, listLen4, listLen5, listLen6, listLen7, listLen8, listLen9 = [Forall(nvars(count), Equals(Len(nvars(count)), num(count))) for count in range(1, 10)]"
   ]
  },
  {
   "cell_type": "markdown",
   "metadata": {
    "deletable": true,
    "editable": true
   },
   "source": [
    "### Number sets containing the digits (beyond 0):"
   ]
  },
  {
   "cell_type": "code",
   "execution_count": 4,
   "metadata": {
    "collapsed": false,
    "deletable": true,
    "editable": true
   },
   "outputs": [
    {
     "data": {
      "text/html": [
       "<strong id=\"nat1\"><a class=\"ProveItLink\" href=\"_proofs_/nat1.ipynb\">nat1</a>:</strong> <a class=\"ProveItLink\" href=\"__pv_it/3f15fb519636fc585376b5b502be456d654dd18d0/expr.ipynb\"><img src=\"__pv_it/3f15fb519636fc585376b5b502be456d654dd18d0/expr.png\" style=\"display:inline;vertical-align:middle;\" /></a><br>\n",
       "<strong id=\"nat2\"><a class=\"ProveItLink\" href=\"_proofs_/nat2.ipynb\">nat2</a>:</strong> <a class=\"ProveItLink\" href=\"__pv_it/286f0443dba55bdb259c90cef1db0ca273fac95e0/expr.ipynb\"><img src=\"__pv_it/286f0443dba55bdb259c90cef1db0ca273fac95e0/expr.png\" style=\"display:inline;vertical-align:middle;\" /></a><br>\n",
       "<strong id=\"nat3\"><a class=\"ProveItLink\" href=\"_proofs_/nat3.ipynb\">nat3</a>:</strong> <a class=\"ProveItLink\" href=\"__pv_it/106bf174ef7755d5609db086689abcc208d6bf3d0/expr.ipynb\"><img src=\"__pv_it/106bf174ef7755d5609db086689abcc208d6bf3d0/expr.png\" style=\"display:inline;vertical-align:middle;\" /></a><br>\n",
       "<strong id=\"nat4\"><a class=\"ProveItLink\" href=\"_proofs_/nat4.ipynb\">nat4</a>:</strong> <a class=\"ProveItLink\" href=\"__pv_it/3fc93db3b3fd1b15204240d9de18a48656bfb08c0/expr.ipynb\"><img src=\"__pv_it/3fc93db3b3fd1b15204240d9de18a48656bfb08c0/expr.png\" style=\"display:inline;vertical-align:middle;\" /></a><br>\n",
       "<strong id=\"nat5\"><a class=\"ProveItLink\" href=\"_proofs_/nat5.ipynb\">nat5</a>:</strong> <a class=\"ProveItLink\" href=\"__pv_it/e1fbc969f423eedb93abd86e7a97d4f86379d69c0/expr.ipynb\"><img src=\"__pv_it/e1fbc969f423eedb93abd86e7a97d4f86379d69c0/expr.png\" style=\"display:inline;vertical-align:middle;\" /></a><br>\n",
       "<strong id=\"nat6\"><a class=\"ProveItLink\" href=\"_proofs_/nat6.ipynb\">nat6</a>:</strong> <a class=\"ProveItLink\" href=\"__pv_it/45dcb82ef989e77cc7309440389a565c1144dd580/expr.ipynb\"><img src=\"__pv_it/45dcb82ef989e77cc7309440389a565c1144dd580/expr.png\" style=\"display:inline;vertical-align:middle;\" /></a><br>\n",
       "<strong id=\"nat7\"><a class=\"ProveItLink\" href=\"_proofs_/nat7.ipynb\">nat7</a>:</strong> <a class=\"ProveItLink\" href=\"__pv_it/a1f5ae759b336054bda9813e1a1080965ac658570/expr.ipynb\"><img src=\"__pv_it/a1f5ae759b336054bda9813e1a1080965ac658570/expr.png\" style=\"display:inline;vertical-align:middle;\" /></a><br>\n",
       "<strong id=\"nat8\"><a class=\"ProveItLink\" href=\"_proofs_/nat8.ipynb\">nat8</a>:</strong> <a class=\"ProveItLink\" href=\"__pv_it/b6e2d0c46d742e7e90bcda2cb0d4f296acd344680/expr.ipynb\"><img src=\"__pv_it/b6e2d0c46d742e7e90bcda2cb0d4f296acd344680/expr.png\" style=\"display:inline;vertical-align:middle;\" /></a><br>\n",
       "<strong id=\"nat9\"><a class=\"ProveItLink\" href=\"_proofs_/nat9.ipynb\">nat9</a>:</strong> <a class=\"ProveItLink\" href=\"__pv_it/0c7c73eb99c01621888861d6c90f85b78973156d0/expr.ipynb\"><img src=\"__pv_it/0c7c73eb99c01621888861d6c90f85b78973156d0/expr.png\" style=\"display:inline;vertical-align:middle;\" /></a><br>"
      ],
      "text/plain": [
       "nat1: 1 in Naturals\n",
       "nat2: 2 in Naturals\n",
       "nat3: 3 in Naturals\n",
       "nat4: 4 in Naturals\n",
       "nat5: 5 in Naturals\n",
       "nat6: 6 in Naturals\n",
       "nat7: 7 in Naturals\n",
       "nat8: 8 in Naturals\n",
       "nat9: 9 in Naturals"
      ]
     },
     "execution_count": 4,
     "metadata": {},
     "output_type": "execute_result"
    }
   ],
   "source": [
    "nat1, nat2, nat3, nat4, nat5, nat6, nat7, nat8, nat9 = [InSet(num(n), Naturals) for n in range(1, 10)]"
   ]
  },
  {
   "cell_type": "code",
   "execution_count": 5,
   "metadata": {
    "collapsed": false,
    "deletable": true,
    "editable": true
   },
   "outputs": [
    {
     "data": {
      "text/html": [
       "<strong id=\"posnat1\"><a class=\"ProveItLink\" href=\"_proofs_/posnat1.ipynb\">posnat1</a>:</strong> <a class=\"ProveItLink\" href=\"__pv_it/6c7d3f1e028a441777ca5213f1e5722dfd0835ed0/expr.ipynb\"><img src=\"__pv_it/6c7d3f1e028a441777ca5213f1e5722dfd0835ed0/expr.png\" style=\"display:inline;vertical-align:middle;\" /></a><br>\n",
       "<strong id=\"posnat2\"><a class=\"ProveItLink\" href=\"_proofs_/posnat2.ipynb\">posnat2</a>:</strong> <a class=\"ProveItLink\" href=\"__pv_it/cc8f030bf3f8fa8886abea87852067059d7e0b5a0/expr.ipynb\"><img src=\"__pv_it/cc8f030bf3f8fa8886abea87852067059d7e0b5a0/expr.png\" style=\"display:inline;vertical-align:middle;\" /></a><br>\n",
       "<strong id=\"posnat3\"><a class=\"ProveItLink\" href=\"_proofs_/posnat3.ipynb\">posnat3</a>:</strong> <a class=\"ProveItLink\" href=\"__pv_it/4a25aa593418cb85c344f5a2bec51d67120428e00/expr.ipynb\"><img src=\"__pv_it/4a25aa593418cb85c344f5a2bec51d67120428e00/expr.png\" style=\"display:inline;vertical-align:middle;\" /></a><br>\n",
       "<strong id=\"posnat4\"><a class=\"ProveItLink\" href=\"_proofs_/posnat4.ipynb\">posnat4</a>:</strong> <a class=\"ProveItLink\" href=\"__pv_it/a8e2987330479c05c40c94f9edaad0d2c48f343a0/expr.ipynb\"><img src=\"__pv_it/a8e2987330479c05c40c94f9edaad0d2c48f343a0/expr.png\" style=\"display:inline;vertical-align:middle;\" /></a><br>\n",
       "<strong id=\"posnat5\"><a class=\"ProveItLink\" href=\"_proofs_/posnat5.ipynb\">posnat5</a>:</strong> <a class=\"ProveItLink\" href=\"__pv_it/8351e8ccf2c74a9f5e1ff0d40d9453369b3d2eb10/expr.ipynb\"><img src=\"__pv_it/8351e8ccf2c74a9f5e1ff0d40d9453369b3d2eb10/expr.png\" style=\"display:inline;vertical-align:middle;\" /></a><br>\n",
       "<strong id=\"posnat6\"><a class=\"ProveItLink\" href=\"_proofs_/posnat6.ipynb\">posnat6</a>:</strong> <a class=\"ProveItLink\" href=\"__pv_it/0fa5bab0e1ffc5aacfe93f5453772a6b478bf8340/expr.ipynb\"><img src=\"__pv_it/0fa5bab0e1ffc5aacfe93f5453772a6b478bf8340/expr.png\" style=\"display:inline;vertical-align:middle;\" /></a><br>\n",
       "<strong id=\"posnat7\"><a class=\"ProveItLink\" href=\"_proofs_/posnat7.ipynb\">posnat7</a>:</strong> <a class=\"ProveItLink\" href=\"__pv_it/c27e9e68de619b515141b59ca83ec870b17b88590/expr.ipynb\"><img src=\"__pv_it/c27e9e68de619b515141b59ca83ec870b17b88590/expr.png\" style=\"display:inline;vertical-align:middle;\" /></a><br>\n",
       "<strong id=\"posnat8\"><a class=\"ProveItLink\" href=\"_proofs_/posnat8.ipynb\">posnat8</a>:</strong> <a class=\"ProveItLink\" href=\"__pv_it/f661bdd0fe957c5957a0815a031150ee05b4d0940/expr.ipynb\"><img src=\"__pv_it/f661bdd0fe957c5957a0815a031150ee05b4d0940/expr.png\" style=\"display:inline;vertical-align:middle;\" /></a><br>\n",
       "<strong id=\"posnat9\"><a class=\"ProveItLink\" href=\"_proofs_/posnat9.ipynb\">posnat9</a>:</strong> <a class=\"ProveItLink\" href=\"__pv_it/f42bcb685b6ad87ddfda15f247f4208ea6bba65b0/expr.ipynb\"><img src=\"__pv_it/f42bcb685b6ad87ddfda15f247f4208ea6bba65b0/expr.png\" style=\"display:inline;vertical-align:middle;\" /></a><br>"
      ],
      "text/plain": [
       "posnat1: 1 in NaturalsPos\n",
       "posnat2: 2 in NaturalsPos\n",
       "posnat3: 3 in NaturalsPos\n",
       "posnat4: 4 in NaturalsPos\n",
       "posnat5: 5 in NaturalsPos\n",
       "posnat6: 6 in NaturalsPos\n",
       "posnat7: 7 in NaturalsPos\n",
       "posnat8: 8 in NaturalsPos\n",
       "posnat9: 9 in NaturalsPos"
      ]
     },
     "execution_count": 5,
     "metadata": {},
     "output_type": "execute_result"
    }
   ],
   "source": [
    "posnat1, posnat2, posnat3, posnat4, posnat5, posnat6, posnat7, posnat8, posnat9 = [InSet(num(n), NaturalsPos) for n in range(1, 10)]"
   ]
  },
  {
   "cell_type": "markdown",
   "metadata": {
    "deletable": true,
    "editable": true
   },
   "source": [
    "### Sorted order of the digits"
   ]
  },
  {
   "cell_type": "code",
   "execution_count": 6,
   "metadata": {
    "collapsed": false,
    "deletable": true,
    "editable": true
   },
   "outputs": [
    {
     "data": {
      "text/html": [
       "<strong id=\"less_0_1\"><a class=\"ProveItLink\" href=\"_proofs_/less_0_1.ipynb\">less_0_1</a>:</strong> <a class=\"ProveItLink\" href=\"__pv_it/d060bd26c883154e5b471568d486c4165d01a0d00/expr.ipynb\"><img src=\"__pv_it/d060bd26c883154e5b471568d486c4165d01a0d00/expr.png\" style=\"display:inline;vertical-align:middle;\" /></a><br>\n",
       "<strong id=\"less_1_2\"><a class=\"ProveItLink\" href=\"_proofs_/less_1_2.ipynb\">less_1_2</a>:</strong> <a class=\"ProveItLink\" href=\"__pv_it/3f96bd3cd3458158a7aac789291520ebb13da1980/expr.ipynb\"><img src=\"__pv_it/3f96bd3cd3458158a7aac789291520ebb13da1980/expr.png\" style=\"display:inline;vertical-align:middle;\" /></a><br>\n",
       "<strong id=\"less_2_3\"><a class=\"ProveItLink\" href=\"_proofs_/less_2_3.ipynb\">less_2_3</a>:</strong> <a class=\"ProveItLink\" href=\"__pv_it/ea73ff1eea783ca266e3b5ffcdce42d0484d9f6a0/expr.ipynb\"><img src=\"__pv_it/ea73ff1eea783ca266e3b5ffcdce42d0484d9f6a0/expr.png\" style=\"display:inline;vertical-align:middle;\" /></a><br>\n",
       "<strong id=\"less_3_4\"><a class=\"ProveItLink\" href=\"_proofs_/less_3_4.ipynb\">less_3_4</a>:</strong> <a class=\"ProveItLink\" href=\"__pv_it/062fba8f811ddd0affa8a613573c5a0599a508690/expr.ipynb\"><img src=\"__pv_it/062fba8f811ddd0affa8a613573c5a0599a508690/expr.png\" style=\"display:inline;vertical-align:middle;\" /></a><br>\n",
       "<strong id=\"less_4_5\"><a class=\"ProveItLink\" href=\"_proofs_/less_4_5.ipynb\">less_4_5</a>:</strong> <a class=\"ProveItLink\" href=\"__pv_it/9bcbd5f65b86303142f407ec37fc070a174cd48f0/expr.ipynb\"><img src=\"__pv_it/9bcbd5f65b86303142f407ec37fc070a174cd48f0/expr.png\" style=\"display:inline;vertical-align:middle;\" /></a><br>\n",
       "<strong id=\"less_5_6\"><a class=\"ProveItLink\" href=\"_proofs_/less_5_6.ipynb\">less_5_6</a>:</strong> <a class=\"ProveItLink\" href=\"__pv_it/0696f2ed126c6fc3b976a835d92848b94db3b5c20/expr.ipynb\"><img src=\"__pv_it/0696f2ed126c6fc3b976a835d92848b94db3b5c20/expr.png\" style=\"display:inline;vertical-align:middle;\" /></a><br>\n",
       "<strong id=\"less_6_7\"><a class=\"ProveItLink\" href=\"_proofs_/less_6_7.ipynb\">less_6_7</a>:</strong> <a class=\"ProveItLink\" href=\"__pv_it/4ee51052f4c8646ad1a0bdccea086774b6b906cf0/expr.ipynb\"><img src=\"__pv_it/4ee51052f4c8646ad1a0bdccea086774b6b906cf0/expr.png\" style=\"display:inline;vertical-align:middle;\" /></a><br>\n",
       "<strong id=\"less_7_8\"><a class=\"ProveItLink\" href=\"_proofs_/less_7_8.ipynb\">less_7_8</a>:</strong> <a class=\"ProveItLink\" href=\"__pv_it/fe4b3dad26861935c5ce13f85acf58b5fda14c080/expr.ipynb\"><img src=\"__pv_it/fe4b3dad26861935c5ce13f85acf58b5fda14c080/expr.png\" style=\"display:inline;vertical-align:middle;\" /></a><br>\n",
       "<strong id=\"less_8_9\"><a class=\"ProveItLink\" href=\"_proofs_/less_8_9.ipynb\">less_8_9</a>:</strong> <a class=\"ProveItLink\" href=\"__pv_it/420060b3211fc38f60276be8a2fa7a8b6f8627720/expr.ipynb\"><img src=\"__pv_it/420060b3211fc38f60276be8a2fa7a8b6f8627720/expr.png\" style=\"display:inline;vertical-align:middle;\" /></a><br>"
      ],
      "text/plain": [
       "less_0_1: 0 < 1\n",
       "less_1_2: 1 < 2\n",
       "less_2_3: 2 < 3\n",
       "less_3_4: 3 < 4\n",
       "less_4_5: 4 < 5\n",
       "less_5_6: 5 < 6\n",
       "less_6_7: 6 < 7\n",
       "less_7_8: 7 < 8\n",
       "less_8_9: 8 < 9"
      ]
     },
     "execution_count": 6,
     "metadata": {},
     "output_type": "execute_result"
    }
   ],
   "source": [
    "less_0_1, less_1_2, less_2_3, less_3_4, less_4_5, less_5_6, less_6_7, less_7_8, less_8_9 = [Less(num(n), num(n+1)) for n in range(9)]"
   ]
  },
  {
   "cell_type": "code",
   "execution_count": 7,
   "metadata": {
    "collapsed": false,
    "deletable": true,
    "editable": true
   },
   "outputs": [
    {
     "data": {
      "text/html": [
       "<strong id=\"sorted_digits\"><a class=\"ProveItLink\" href=\"_proofs_/sorted_digits.ipynb\">sorted_digits</a>:</strong> <a class=\"ProveItLink\" href=\"__pv_it/71cebb8f6c07fb147e720c1d70db6e454e5789ad0/expr.ipynb\"><img src=\"__pv_it/71cebb8f6c07fb147e720c1d70db6e454e5789ad0/expr.png\" style=\"display:inline;vertical-align:middle;\" /></a><br>"
      ],
      "text/plain": [
       "sorted_digits: 0 < 1 < 2 < 3 < 4 < 5 < 6 < 7 < 8 < 9"
      ]
     },
     "execution_count": 7,
     "metadata": {},
     "output_type": "execute_result"
    }
   ],
   "source": [
    "sorted_digits = LesserSequence([Less._operator_]*9, [num(n) for n in range(10)])"
   ]
  },
  {
   "cell_type": "markdown",
   "metadata": {
    "deletable": true,
    "editable": true
   },
   "source": [
    "### Adding digits"
   ]
  },
  {
   "cell_type": "code",
   "execution_count": 8,
   "metadata": {
    "collapsed": false,
    "deletable": true,
    "editable": true
   },
   "outputs": [
    {
     "data": {
      "text/html": [
       "<strong id=\"add_0_0\"><a class=\"ProveItLink\" href=\"_proofs_/add_0_0.ipynb\">add_0_0</a>:</strong> <a class=\"ProveItLink\" href=\"__pv_it/e6f7b60aec474ff620637f03dc19ce6392747df10/expr.ipynb\"><img src=\"__pv_it/e6f7b60aec474ff620637f03dc19ce6392747df10/expr.png\" style=\"display:inline;vertical-align:middle;\" /></a><br>\n",
       "<strong id=\"add_1_0\"><a class=\"ProveItLink\" href=\"_proofs_/add_1_0.ipynb\">add_1_0</a>:</strong> <a class=\"ProveItLink\" href=\"__pv_it/299d8f71d36c7404279442da2c010219087d7c830/expr.ipynb\"><img src=\"__pv_it/299d8f71d36c7404279442da2c010219087d7c830/expr.png\" style=\"display:inline;vertical-align:middle;\" /></a><br>\n",
       "<strong id=\"add_2_0\"><a class=\"ProveItLink\" href=\"_proofs_/add_2_0.ipynb\">add_2_0</a>:</strong> <a class=\"ProveItLink\" href=\"__pv_it/19c2da17e186ae6bc74187762e70a0497b7e1be30/expr.ipynb\"><img src=\"__pv_it/19c2da17e186ae6bc74187762e70a0497b7e1be30/expr.png\" style=\"display:inline;vertical-align:middle;\" /></a><br>\n",
       "<strong id=\"add_3_0\"><a class=\"ProveItLink\" href=\"_proofs_/add_3_0.ipynb\">add_3_0</a>:</strong> <a class=\"ProveItLink\" href=\"__pv_it/3205a17ee3bc44cb739da9eb844a3fff048fec920/expr.ipynb\"><img src=\"__pv_it/3205a17ee3bc44cb739da9eb844a3fff048fec920/expr.png\" style=\"display:inline;vertical-align:middle;\" /></a><br>\n",
       "<strong id=\"add_4_0\"><a class=\"ProveItLink\" href=\"_proofs_/add_4_0.ipynb\">add_4_0</a>:</strong> <a class=\"ProveItLink\" href=\"__pv_it/41244aed5e237f36d106338810554bbb4f8112260/expr.ipynb\"><img src=\"__pv_it/41244aed5e237f36d106338810554bbb4f8112260/expr.png\" style=\"display:inline;vertical-align:middle;\" /></a><br>\n",
       "<strong id=\"add_5_0\"><a class=\"ProveItLink\" href=\"_proofs_/add_5_0.ipynb\">add_5_0</a>:</strong> <a class=\"ProveItLink\" href=\"__pv_it/5f36f271fa3a4f738bf9350ff1b48a3a6e57d6820/expr.ipynb\"><img src=\"__pv_it/5f36f271fa3a4f738bf9350ff1b48a3a6e57d6820/expr.png\" style=\"display:inline;vertical-align:middle;\" /></a><br>\n",
       "<strong id=\"add_6_0\"><a class=\"ProveItLink\" href=\"_proofs_/add_6_0.ipynb\">add_6_0</a>:</strong> <a class=\"ProveItLink\" href=\"__pv_it/fc4a553be79da7e24a080c99643536ef3b3bbed80/expr.ipynb\"><img src=\"__pv_it/fc4a553be79da7e24a080c99643536ef3b3bbed80/expr.png\" style=\"display:inline;vertical-align:middle;\" /></a><br>\n",
       "<strong id=\"add_7_0\"><a class=\"ProveItLink\" href=\"_proofs_/add_7_0.ipynb\">add_7_0</a>:</strong> <a class=\"ProveItLink\" href=\"__pv_it/48b55a92f133b3a3045ec0a0674cc5e907212d930/expr.ipynb\"><img src=\"__pv_it/48b55a92f133b3a3045ec0a0674cc5e907212d930/expr.png\" style=\"display:inline;vertical-align:middle;\" /></a><br>\n",
       "<strong id=\"add_8_0\"><a class=\"ProveItLink\" href=\"_proofs_/add_8_0.ipynb\">add_8_0</a>:</strong> <a class=\"ProveItLink\" href=\"__pv_it/3856b928dfec5c9a4cf44603ddf2bb3f046f6a680/expr.ipynb\"><img src=\"__pv_it/3856b928dfec5c9a4cf44603ddf2bb3f046f6a680/expr.png\" style=\"display:inline;vertical-align:middle;\" /></a><br>\n",
       "<strong id=\"add_9_0\"><a class=\"ProveItLink\" href=\"_proofs_/add_9_0.ipynb\">add_9_0</a>:</strong> <a class=\"ProveItLink\" href=\"__pv_it/b5e059925d7faac428261ffd06ae40873f392ff80/expr.ipynb\"><img src=\"__pv_it/b5e059925d7faac428261ffd06ae40873f392ff80/expr.png\" style=\"display:inline;vertical-align:middle;\" /></a><br>"
      ],
      "text/plain": [
       "add_0_0: (0 + 0) = 0\n",
       "add_1_0: (1 + 0) = 1\n",
       "add_2_0: (2 + 0) = 2\n",
       "add_3_0: (3 + 0) = 3\n",
       "add_4_0: (4 + 0) = 4\n",
       "add_5_0: (5 + 0) = 5\n",
       "add_6_0: (6 + 0) = 6\n",
       "add_7_0: (7 + 0) = 7\n",
       "add_8_0: (8 + 0) = 8\n",
       "add_9_0: (9 + 0) = 9"
      ]
     },
     "execution_count": 8,
     "metadata": {},
     "output_type": "execute_result"
    }
   ],
   "source": [
    "add_0_0, add_1_0, add_2_0, add_3_0, add_4_0, add_5_0, add_6_0, add_7_0, add_8_0, add_9_0 = [Equals(Add(num(n), num(0)), num(n+0)) for n in range(10)]"
   ]
  },
  {
   "cell_type": "code",
   "execution_count": 9,
   "metadata": {
    "collapsed": false,
    "deletable": true,
    "editable": true
   },
   "outputs": [
    {
     "data": {
      "text/html": [
       "<strong id=\"add_0_1\"><a class=\"ProveItLink\" href=\"_proofs_/add_0_1.ipynb\">add_0_1</a>:</strong> <a class=\"ProveItLink\" href=\"__pv_it/09170cbce9edb0ee5c4c5a477c10b6305eb9974a0/expr.ipynb\"><img src=\"__pv_it/09170cbce9edb0ee5c4c5a477c10b6305eb9974a0/expr.png\" style=\"display:inline;vertical-align:middle;\" /></a><br>\n",
       "<strong id=\"add_1_1\"><a class=\"ProveItLink\" href=\"_proofs_/add_1_1.ipynb\">add_1_1</a>:</strong> <a class=\"ProveItLink\" href=\"__pv_it/c5d3f2ba07647aec518bec1929b16561d1a340400/expr.ipynb\"><img src=\"__pv_it/c5d3f2ba07647aec518bec1929b16561d1a340400/expr.png\" style=\"display:inline;vertical-align:middle;\" /></a><br>\n",
       "<strong id=\"add_2_1\"><a class=\"ProveItLink\" href=\"_proofs_/add_2_1.ipynb\">add_2_1</a>:</strong> <a class=\"ProveItLink\" href=\"__pv_it/21aa4b60034093b61b7d779cdd54bc7d2d51c73e0/expr.ipynb\"><img src=\"__pv_it/21aa4b60034093b61b7d779cdd54bc7d2d51c73e0/expr.png\" style=\"display:inline;vertical-align:middle;\" /></a><br>\n",
       "<strong id=\"add_3_1\"><a class=\"ProveItLink\" href=\"_proofs_/add_3_1.ipynb\">add_3_1</a>:</strong> <a class=\"ProveItLink\" href=\"__pv_it/dacb710858c5d508d55e05fa21bc52e5449bb54c0/expr.ipynb\"><img src=\"__pv_it/dacb710858c5d508d55e05fa21bc52e5449bb54c0/expr.png\" style=\"display:inline;vertical-align:middle;\" /></a><br>\n",
       "<strong id=\"add_4_1\"><a class=\"ProveItLink\" href=\"_proofs_/add_4_1.ipynb\">add_4_1</a>:</strong> <a class=\"ProveItLink\" href=\"__pv_it/40c99f576150d8b62295a339956c083d3a6106810/expr.ipynb\"><img src=\"__pv_it/40c99f576150d8b62295a339956c083d3a6106810/expr.png\" style=\"display:inline;vertical-align:middle;\" /></a><br>\n",
       "<strong id=\"add_5_1\"><a class=\"ProveItLink\" href=\"_proofs_/add_5_1.ipynb\">add_5_1</a>:</strong> <a class=\"ProveItLink\" href=\"__pv_it/e4032c17aedaf1f1dc53c8b615414e9fbce1ae810/expr.ipynb\"><img src=\"__pv_it/e4032c17aedaf1f1dc53c8b615414e9fbce1ae810/expr.png\" style=\"display:inline;vertical-align:middle;\" /></a><br>\n",
       "<strong id=\"add_6_1\"><a class=\"ProveItLink\" href=\"_proofs_/add_6_1.ipynb\">add_6_1</a>:</strong> <a class=\"ProveItLink\" href=\"__pv_it/f31ba96eafb0637266cfd9c757138e9f5981d4800/expr.ipynb\"><img src=\"__pv_it/f31ba96eafb0637266cfd9c757138e9f5981d4800/expr.png\" style=\"display:inline;vertical-align:middle;\" /></a><br>\n",
       "<strong id=\"add_7_1\"><a class=\"ProveItLink\" href=\"_proofs_/add_7_1.ipynb\">add_7_1</a>:</strong> <a class=\"ProveItLink\" href=\"__pv_it/d50c3b3d60942d18d5c812a9871b61a56d1718cd0/expr.ipynb\"><img src=\"__pv_it/d50c3b3d60942d18d5c812a9871b61a56d1718cd0/expr.png\" style=\"display:inline;vertical-align:middle;\" /></a><br>\n",
       "<strong id=\"add_8_1\"><a class=\"ProveItLink\" href=\"_proofs_/add_8_1.ipynb\">add_8_1</a>:</strong> <a class=\"ProveItLink\" href=\"__pv_it/ca1c1eff77b75b6a8c371e3031f5c18e2673ed380/expr.ipynb\"><img src=\"__pv_it/ca1c1eff77b75b6a8c371e3031f5c18e2673ed380/expr.png\" style=\"display:inline;vertical-align:middle;\" /></a><br>\n",
       "<strong id=\"add_9_1\"><a class=\"ProveItLink\" href=\"_proofs_/add_9_1.ipynb\">add_9_1</a>:</strong> <a class=\"ProveItLink\" href=\"__pv_it/eb388487dc61f6af4826028553ffbe9eb64a33720/expr.ipynb\"><img src=\"__pv_it/eb388487dc61f6af4826028553ffbe9eb64a33720/expr.png\" style=\"display:inline;vertical-align:middle;\" /></a><br>"
      ],
      "text/plain": [
       "add_0_1: (0 + 1) = 1\n",
       "add_1_1: (1 + 1) = 2\n",
       "add_2_1: (2 + 1) = 3\n",
       "add_3_1: (3 + 1) = 4\n",
       "add_4_1: (4 + 1) = 5\n",
       "add_5_1: (5 + 1) = 6\n",
       "add_6_1: (6 + 1) = 7\n",
       "add_7_1: (7 + 1) = 8\n",
       "add_8_1: (8 + 1) = 9\n",
       "add_9_1: (9 + 1) = 10"
      ]
     },
     "execution_count": 9,
     "metadata": {},
     "output_type": "execute_result"
    }
   ],
   "source": [
    "add_0_1, add_1_1, add_2_1, add_3_1, add_4_1, add_5_1, add_6_1, add_7_1, add_8_1, add_9_1 = [Equals(Add(num(n), num(1)), num(n+1)) for n in range(10)]"
   ]
  },
  {
   "cell_type": "code",
   "execution_count": 10,
   "metadata": {
    "collapsed": false,
    "deletable": true,
    "editable": true
   },
   "outputs": [
    {
     "data": {
      "text/html": [
       "<strong id=\"add_0_2\"><a class=\"ProveItLink\" href=\"_proofs_/add_0_2.ipynb\">add_0_2</a>:</strong> <a class=\"ProveItLink\" href=\"__pv_it/5d6c2725b83d1989476786f25129b9c268538f2a0/expr.ipynb\"><img src=\"__pv_it/5d6c2725b83d1989476786f25129b9c268538f2a0/expr.png\" style=\"display:inline;vertical-align:middle;\" /></a><br>\n",
       "<strong id=\"add_1_2\"><a class=\"ProveItLink\" href=\"_proofs_/add_1_2.ipynb\">add_1_2</a>:</strong> <a class=\"ProveItLink\" href=\"__pv_it/77287321a4a6128a43305e09c726f06a9fd7615f0/expr.ipynb\"><img src=\"__pv_it/77287321a4a6128a43305e09c726f06a9fd7615f0/expr.png\" style=\"display:inline;vertical-align:middle;\" /></a><br>\n",
       "<strong id=\"add_2_2\"><a class=\"ProveItLink\" href=\"_proofs_/add_2_2.ipynb\">add_2_2</a>:</strong> <a class=\"ProveItLink\" href=\"__pv_it/5e623a383ebb5342ba3514a180347b3d6e063a1c0/expr.ipynb\"><img src=\"__pv_it/5e623a383ebb5342ba3514a180347b3d6e063a1c0/expr.png\" style=\"display:inline;vertical-align:middle;\" /></a><br>\n",
       "<strong id=\"add_3_2\"><a class=\"ProveItLink\" href=\"_proofs_/add_3_2.ipynb\">add_3_2</a>:</strong> <a class=\"ProveItLink\" href=\"__pv_it/4f70536f0a70c5c4ab9dd6e95440df50a57cc2490/expr.ipynb\"><img src=\"__pv_it/4f70536f0a70c5c4ab9dd6e95440df50a57cc2490/expr.png\" style=\"display:inline;vertical-align:middle;\" /></a><br>\n",
       "<strong id=\"add_4_2\"><a class=\"ProveItLink\" href=\"_proofs_/add_4_2.ipynb\">add_4_2</a>:</strong> <a class=\"ProveItLink\" href=\"__pv_it/1c010758a69ff7425d16bd90ffd92eae80c69cd70/expr.ipynb\"><img src=\"__pv_it/1c010758a69ff7425d16bd90ffd92eae80c69cd70/expr.png\" style=\"display:inline;vertical-align:middle;\" /></a><br>\n",
       "<strong id=\"add_5_2\"><a class=\"ProveItLink\" href=\"_proofs_/add_5_2.ipynb\">add_5_2</a>:</strong> <a class=\"ProveItLink\" href=\"__pv_it/14f30a7d2add20c531a501b71181a28d2e1c39530/expr.ipynb\"><img src=\"__pv_it/14f30a7d2add20c531a501b71181a28d2e1c39530/expr.png\" style=\"display:inline;vertical-align:middle;\" /></a><br>\n",
       "<strong id=\"add_6_2\"><a class=\"ProveItLink\" href=\"_proofs_/add_6_2.ipynb\">add_6_2</a>:</strong> <a class=\"ProveItLink\" href=\"__pv_it/8c18ab0de4ac9ac601f69682b1e099d3db1f4d5f0/expr.ipynb\"><img src=\"__pv_it/8c18ab0de4ac9ac601f69682b1e099d3db1f4d5f0/expr.png\" style=\"display:inline;vertical-align:middle;\" /></a><br>\n",
       "<strong id=\"add_7_2\"><a class=\"ProveItLink\" href=\"_proofs_/add_7_2.ipynb\">add_7_2</a>:</strong> <a class=\"ProveItLink\" href=\"__pv_it/5cc8ccf77b03e45eac41ed14609b7040d790f5d60/expr.ipynb\"><img src=\"__pv_it/5cc8ccf77b03e45eac41ed14609b7040d790f5d60/expr.png\" style=\"display:inline;vertical-align:middle;\" /></a><br>\n",
       "<strong id=\"add_8_2\"><a class=\"ProveItLink\" href=\"_proofs_/add_8_2.ipynb\">add_8_2</a>:</strong> <a class=\"ProveItLink\" href=\"__pv_it/05ea969b31126be149d63e86633bbbfb67a737f70/expr.ipynb\"><img src=\"__pv_it/05ea969b31126be149d63e86633bbbfb67a737f70/expr.png\" style=\"display:inline;vertical-align:middle;\" /></a><br>\n",
       "<strong id=\"add_9_2\"><a class=\"ProveItLink\" href=\"_proofs_/add_9_2.ipynb\">add_9_2</a>:</strong> <a class=\"ProveItLink\" href=\"__pv_it/02a245bd05a2430a9ddcff473ad2cbb542e56d7b0/expr.ipynb\"><img src=\"__pv_it/02a245bd05a2430a9ddcff473ad2cbb542e56d7b0/expr.png\" style=\"display:inline;vertical-align:middle;\" /></a><br>"
      ],
      "text/plain": [
       "add_0_2: (0 + 2) = 2\n",
       "add_1_2: (1 + 2) = 3\n",
       "add_2_2: (2 + 2) = 4\n",
       "add_3_2: (3 + 2) = 5\n",
       "add_4_2: (4 + 2) = 6\n",
       "add_5_2: (5 + 2) = 7\n",
       "add_6_2: (6 + 2) = 8\n",
       "add_7_2: (7 + 2) = 9\n",
       "add_8_2: (8 + 2) = 10\n",
       "add_9_2: (9 + 2) = 11"
      ]
     },
     "execution_count": 10,
     "metadata": {},
     "output_type": "execute_result"
    }
   ],
   "source": [
    "add_0_2, add_1_2, add_2_2, add_3_2, add_4_2, add_5_2, add_6_2, add_7_2, add_8_2, add_9_2 = [Equals(Add(num(n), num(2)), num(n+2)) for n in range(10)]"
   ]
  },
  {
   "cell_type": "code",
   "execution_count": 11,
   "metadata": {
    "collapsed": false,
    "deletable": true,
    "editable": true
   },
   "outputs": [
    {
     "data": {
      "text/html": [
       "<strong id=\"add_0_3\"><a class=\"ProveItLink\" href=\"_proofs_/add_0_3.ipynb\">add_0_3</a>:</strong> <a class=\"ProveItLink\" href=\"__pv_it/80f9fd601e9f2171d2a4374d57858fe05c9fbb5d0/expr.ipynb\"><img src=\"__pv_it/80f9fd601e9f2171d2a4374d57858fe05c9fbb5d0/expr.png\" style=\"display:inline;vertical-align:middle;\" /></a><br>\n",
       "<strong id=\"add_1_3\"><a class=\"ProveItLink\" href=\"_proofs_/add_1_3.ipynb\">add_1_3</a>:</strong> <a class=\"ProveItLink\" href=\"__pv_it/ddc35cbf8b47a19664dc8153816d4b5e6c86e04a0/expr.ipynb\"><img src=\"__pv_it/ddc35cbf8b47a19664dc8153816d4b5e6c86e04a0/expr.png\" style=\"display:inline;vertical-align:middle;\" /></a><br>\n",
       "<strong id=\"add_2_3\"><a class=\"ProveItLink\" href=\"_proofs_/add_2_3.ipynb\">add_2_3</a>:</strong> <a class=\"ProveItLink\" href=\"__pv_it/c51faf1bd083493cbc54c5c3e919fff13c3fd9ec0/expr.ipynb\"><img src=\"__pv_it/c51faf1bd083493cbc54c5c3e919fff13c3fd9ec0/expr.png\" style=\"display:inline;vertical-align:middle;\" /></a><br>\n",
       "<strong id=\"add_3_3\"><a class=\"ProveItLink\" href=\"_proofs_/add_3_3.ipynb\">add_3_3</a>:</strong> <a class=\"ProveItLink\" href=\"__pv_it/aa0065dad70f0d7d6250ba6c1f85f905d39bea4d0/expr.ipynb\"><img src=\"__pv_it/aa0065dad70f0d7d6250ba6c1f85f905d39bea4d0/expr.png\" style=\"display:inline;vertical-align:middle;\" /></a><br>\n",
       "<strong id=\"add_4_3\"><a class=\"ProveItLink\" href=\"_proofs_/add_4_3.ipynb\">add_4_3</a>:</strong> <a class=\"ProveItLink\" href=\"__pv_it/789001319f22544f4ecccf04edacdb9883dfe24e0/expr.ipynb\"><img src=\"__pv_it/789001319f22544f4ecccf04edacdb9883dfe24e0/expr.png\" style=\"display:inline;vertical-align:middle;\" /></a><br>\n",
       "<strong id=\"add_5_3\"><a class=\"ProveItLink\" href=\"_proofs_/add_5_3.ipynb\">add_5_3</a>:</strong> <a class=\"ProveItLink\" href=\"__pv_it/4c15254f5dd361236109dbb9363d471c1c104d830/expr.ipynb\"><img src=\"__pv_it/4c15254f5dd361236109dbb9363d471c1c104d830/expr.png\" style=\"display:inline;vertical-align:middle;\" /></a><br>\n",
       "<strong id=\"add_6_3\"><a class=\"ProveItLink\" href=\"_proofs_/add_6_3.ipynb\">add_6_3</a>:</strong> <a class=\"ProveItLink\" href=\"__pv_it/a8568b2f65a30179c40704e5172a0daba6a29b000/expr.ipynb\"><img src=\"__pv_it/a8568b2f65a30179c40704e5172a0daba6a29b000/expr.png\" style=\"display:inline;vertical-align:middle;\" /></a><br>\n",
       "<strong id=\"add_7_3\"><a class=\"ProveItLink\" href=\"_proofs_/add_7_3.ipynb\">add_7_3</a>:</strong> <a class=\"ProveItLink\" href=\"__pv_it/fe6e22db33c884c5c27f92ff61021f62e0c4b9fa0/expr.ipynb\"><img src=\"__pv_it/fe6e22db33c884c5c27f92ff61021f62e0c4b9fa0/expr.png\" style=\"display:inline;vertical-align:middle;\" /></a><br>\n",
       "<strong id=\"add_8_3\"><a class=\"ProveItLink\" href=\"_proofs_/add_8_3.ipynb\">add_8_3</a>:</strong> <a class=\"ProveItLink\" href=\"__pv_it/f53c7be47fadcfe5de1370c754b4db4b67184ea30/expr.ipynb\"><img src=\"__pv_it/f53c7be47fadcfe5de1370c754b4db4b67184ea30/expr.png\" style=\"display:inline;vertical-align:middle;\" /></a><br>\n",
       "<strong id=\"add_9_3\"><a class=\"ProveItLink\" href=\"_proofs_/add_9_3.ipynb\">add_9_3</a>:</strong> <a class=\"ProveItLink\" href=\"__pv_it/30cb6a52d41149631c750f04ab8732a22804871a0/expr.ipynb\"><img src=\"__pv_it/30cb6a52d41149631c750f04ab8732a22804871a0/expr.png\" style=\"display:inline;vertical-align:middle;\" /></a><br>"
      ],
      "text/plain": [
       "add_0_3: (0 + 3) = 3\n",
       "add_1_3: (1 + 3) = 4\n",
       "add_2_3: (2 + 3) = 5\n",
       "add_3_3: (3 + 3) = 6\n",
       "add_4_3: (4 + 3) = 7\n",
       "add_5_3: (5 + 3) = 8\n",
       "add_6_3: (6 + 3) = 9\n",
       "add_7_3: (7 + 3) = 10\n",
       "add_8_3: (8 + 3) = 11\n",
       "add_9_3: (9 + 3) = 12"
      ]
     },
     "execution_count": 11,
     "metadata": {},
     "output_type": "execute_result"
    }
   ],
   "source": [
    "add_0_3, add_1_3, add_2_3, add_3_3, add_4_3, add_5_3, add_6_3, add_7_3, add_8_3, add_9_3 = [Equals(Add(num(n), num(3)), num(n+3)) for n in range(10)]"
   ]
  },
  {
   "cell_type": "code",
   "execution_count": 12,
   "metadata": {
    "collapsed": false,
    "deletable": true,
    "editable": true
   },
   "outputs": [
    {
     "data": {
      "text/html": [
       "<strong id=\"add_0_4\"><a class=\"ProveItLink\" href=\"_proofs_/add_0_4.ipynb\">add_0_4</a>:</strong> <a class=\"ProveItLink\" href=\"__pv_it/335966b596a7338f0464684ffdfc3d79faf1dd200/expr.ipynb\"><img src=\"__pv_it/335966b596a7338f0464684ffdfc3d79faf1dd200/expr.png\" style=\"display:inline;vertical-align:middle;\" /></a><br>\n",
       "<strong id=\"add_1_4\"><a class=\"ProveItLink\" href=\"_proofs_/add_1_4.ipynb\">add_1_4</a>:</strong> <a class=\"ProveItLink\" href=\"__pv_it/301c65a05e1d853fc66170a2417da61618f7fcd00/expr.ipynb\"><img src=\"__pv_it/301c65a05e1d853fc66170a2417da61618f7fcd00/expr.png\" style=\"display:inline;vertical-align:middle;\" /></a><br>\n",
       "<strong id=\"add_2_4\"><a class=\"ProveItLink\" href=\"_proofs_/add_2_4.ipynb\">add_2_4</a>:</strong> <a class=\"ProveItLink\" href=\"__pv_it/9f942e79630fb01ac784b80aa3fc6bccfc81ac300/expr.ipynb\"><img src=\"__pv_it/9f942e79630fb01ac784b80aa3fc6bccfc81ac300/expr.png\" style=\"display:inline;vertical-align:middle;\" /></a><br>\n",
       "<strong id=\"add_3_4\"><a class=\"ProveItLink\" href=\"_proofs_/add_3_4.ipynb\">add_3_4</a>:</strong> <a class=\"ProveItLink\" href=\"__pv_it/3f1994b174a505b7d310c865a83e846f0d0550510/expr.ipynb\"><img src=\"__pv_it/3f1994b174a505b7d310c865a83e846f0d0550510/expr.png\" style=\"display:inline;vertical-align:middle;\" /></a><br>\n",
       "<strong id=\"add_4_4\"><a class=\"ProveItLink\" href=\"_proofs_/add_4_4.ipynb\">add_4_4</a>:</strong> <a class=\"ProveItLink\" href=\"__pv_it/984cdea73e271555fb76f4e83328fe83a4436bbe0/expr.ipynb\"><img src=\"__pv_it/984cdea73e271555fb76f4e83328fe83a4436bbe0/expr.png\" style=\"display:inline;vertical-align:middle;\" /></a><br>\n",
       "<strong id=\"add_5_4\"><a class=\"ProveItLink\" href=\"_proofs_/add_5_4.ipynb\">add_5_4</a>:</strong> <a class=\"ProveItLink\" href=\"__pv_it/bd554ef09b61247e8a47d64141e3af98fbbb00960/expr.ipynb\"><img src=\"__pv_it/bd554ef09b61247e8a47d64141e3af98fbbb00960/expr.png\" style=\"display:inline;vertical-align:middle;\" /></a><br>\n",
       "<strong id=\"add_6_4\"><a class=\"ProveItLink\" href=\"_proofs_/add_6_4.ipynb\">add_6_4</a>:</strong> <a class=\"ProveItLink\" href=\"__pv_it/cb31d3b57c271700f010722437a3abd38de78d2c0/expr.ipynb\"><img src=\"__pv_it/cb31d3b57c271700f010722437a3abd38de78d2c0/expr.png\" style=\"display:inline;vertical-align:middle;\" /></a><br>\n",
       "<strong id=\"add_7_4\"><a class=\"ProveItLink\" href=\"_proofs_/add_7_4.ipynb\">add_7_4</a>:</strong> <a class=\"ProveItLink\" href=\"__pv_it/26127ec7a341d9d3fa2cbced805189dd39564f2e0/expr.ipynb\"><img src=\"__pv_it/26127ec7a341d9d3fa2cbced805189dd39564f2e0/expr.png\" style=\"display:inline;vertical-align:middle;\" /></a><br>\n",
       "<strong id=\"add_8_4\"><a class=\"ProveItLink\" href=\"_proofs_/add_8_4.ipynb\">add_8_4</a>:</strong> <a class=\"ProveItLink\" href=\"__pv_it/954acda9e3a1743835f828f2e5be31473cc969960/expr.ipynb\"><img src=\"__pv_it/954acda9e3a1743835f828f2e5be31473cc969960/expr.png\" style=\"display:inline;vertical-align:middle;\" /></a><br>\n",
       "<strong id=\"add_9_4\"><a class=\"ProveItLink\" href=\"_proofs_/add_9_4.ipynb\">add_9_4</a>:</strong> <a class=\"ProveItLink\" href=\"__pv_it/7ea22c7166d90f2173c79bc8b3b90416fb14310c0/expr.ipynb\"><img src=\"__pv_it/7ea22c7166d90f2173c79bc8b3b90416fb14310c0/expr.png\" style=\"display:inline;vertical-align:middle;\" /></a><br>"
      ],
      "text/plain": [
       "add_0_4: (0 + 4) = 4\n",
       "add_1_4: (1 + 4) = 5\n",
       "add_2_4: (2 + 4) = 6\n",
       "add_3_4: (3 + 4) = 7\n",
       "add_4_4: (4 + 4) = 8\n",
       "add_5_4: (5 + 4) = 9\n",
       "add_6_4: (6 + 4) = 10\n",
       "add_7_4: (7 + 4) = 11\n",
       "add_8_4: (8 + 4) = 12\n",
       "add_9_4: (9 + 4) = 13"
      ]
     },
     "execution_count": 12,
     "metadata": {},
     "output_type": "execute_result"
    }
   ],
   "source": [
    "add_0_4, add_1_4, add_2_4, add_3_4, add_4_4, add_5_4, add_6_4, add_7_4, add_8_4, add_9_4 = [Equals(Add(num(n), num(4)), num(n+4)) for n in range(10)]"
   ]
  },
  {
   "cell_type": "code",
   "execution_count": 13,
   "metadata": {
    "collapsed": false,
    "deletable": true,
    "editable": true
   },
   "outputs": [
    {
     "data": {
      "text/html": [
       "<strong id=\"add_0_5\"><a class=\"ProveItLink\" href=\"_proofs_/add_0_5.ipynb\">add_0_5</a>:</strong> <a class=\"ProveItLink\" href=\"__pv_it/be208afded0071ba1104ffdc0002fe1a2ac5118e0/expr.ipynb\"><img src=\"__pv_it/be208afded0071ba1104ffdc0002fe1a2ac5118e0/expr.png\" style=\"display:inline;vertical-align:middle;\" /></a><br>\n",
       "<strong id=\"add_1_5\"><a class=\"ProveItLink\" href=\"_proofs_/add_1_5.ipynb\">add_1_5</a>:</strong> <a class=\"ProveItLink\" href=\"__pv_it/11fc02a28fe3c51c0554b3dd762a66a7945806880/expr.ipynb\"><img src=\"__pv_it/11fc02a28fe3c51c0554b3dd762a66a7945806880/expr.png\" style=\"display:inline;vertical-align:middle;\" /></a><br>\n",
       "<strong id=\"add_2_5\"><a class=\"ProveItLink\" href=\"_proofs_/add_2_5.ipynb\">add_2_5</a>:</strong> <a class=\"ProveItLink\" href=\"__pv_it/713bf54d14f229ac9c97c4c72bb34df6dc841a480/expr.ipynb\"><img src=\"__pv_it/713bf54d14f229ac9c97c4c72bb34df6dc841a480/expr.png\" style=\"display:inline;vertical-align:middle;\" /></a><br>\n",
       "<strong id=\"add_3_5\"><a class=\"ProveItLink\" href=\"_proofs_/add_3_5.ipynb\">add_3_5</a>:</strong> <a class=\"ProveItLink\" href=\"__pv_it/ca947856a630e06db07593462e242a3df2841a6a0/expr.ipynb\"><img src=\"__pv_it/ca947856a630e06db07593462e242a3df2841a6a0/expr.png\" style=\"display:inline;vertical-align:middle;\" /></a><br>\n",
       "<strong id=\"add_4_5\"><a class=\"ProveItLink\" href=\"_proofs_/add_4_5.ipynb\">add_4_5</a>:</strong> <a class=\"ProveItLink\" href=\"__pv_it/d302f0e905caa9072fa60cff9521a061232462e90/expr.ipynb\"><img src=\"__pv_it/d302f0e905caa9072fa60cff9521a061232462e90/expr.png\" style=\"display:inline;vertical-align:middle;\" /></a><br>\n",
       "<strong id=\"add_5_5\"><a class=\"ProveItLink\" href=\"_proofs_/add_5_5.ipynb\">add_5_5</a>:</strong> <a class=\"ProveItLink\" href=\"__pv_it/333e5e3726c6d57009f287e1521b7e6e60033e2b0/expr.ipynb\"><img src=\"__pv_it/333e5e3726c6d57009f287e1521b7e6e60033e2b0/expr.png\" style=\"display:inline;vertical-align:middle;\" /></a><br>\n",
       "<strong id=\"add_6_5\"><a class=\"ProveItLink\" href=\"_proofs_/add_6_5.ipynb\">add_6_5</a>:</strong> <a class=\"ProveItLink\" href=\"__pv_it/946ea50981fffc2db9f98855eb245099ac1d6d540/expr.ipynb\"><img src=\"__pv_it/946ea50981fffc2db9f98855eb245099ac1d6d540/expr.png\" style=\"display:inline;vertical-align:middle;\" /></a><br>\n",
       "<strong id=\"add_7_5\"><a class=\"ProveItLink\" href=\"_proofs_/add_7_5.ipynb\">add_7_5</a>:</strong> <a class=\"ProveItLink\" href=\"__pv_it/d6afbc5685d693e7abe7544834d1002bff2ee89c0/expr.ipynb\"><img src=\"__pv_it/d6afbc5685d693e7abe7544834d1002bff2ee89c0/expr.png\" style=\"display:inline;vertical-align:middle;\" /></a><br>\n",
       "<strong id=\"add_8_5\"><a class=\"ProveItLink\" href=\"_proofs_/add_8_5.ipynb\">add_8_5</a>:</strong> <a class=\"ProveItLink\" href=\"__pv_it/17f9079af583a037e9a7077df4f4d1e99f2f7bd00/expr.ipynb\"><img src=\"__pv_it/17f9079af583a037e9a7077df4f4d1e99f2f7bd00/expr.png\" style=\"display:inline;vertical-align:middle;\" /></a><br>\n",
       "<strong id=\"add_9_5\"><a class=\"ProveItLink\" href=\"_proofs_/add_9_5.ipynb\">add_9_5</a>:</strong> <a class=\"ProveItLink\" href=\"__pv_it/fcaa79ef96ef59d5f3881411c546caa61294b0f10/expr.ipynb\"><img src=\"__pv_it/fcaa79ef96ef59d5f3881411c546caa61294b0f10/expr.png\" style=\"display:inline;vertical-align:middle;\" /></a><br>"
      ],
      "text/plain": [
       "add_0_5: (0 + 5) = 5\n",
       "add_1_5: (1 + 5) = 6\n",
       "add_2_5: (2 + 5) = 7\n",
       "add_3_5: (3 + 5) = 8\n",
       "add_4_5: (4 + 5) = 9\n",
       "add_5_5: (5 + 5) = 10\n",
       "add_6_5: (6 + 5) = 11\n",
       "add_7_5: (7 + 5) = 12\n",
       "add_8_5: (8 + 5) = 13\n",
       "add_9_5: (9 + 5) = 14"
      ]
     },
     "execution_count": 13,
     "metadata": {},
     "output_type": "execute_result"
    }
   ],
   "source": [
    "add_0_5, add_1_5, add_2_5, add_3_5, add_4_5, add_5_5, add_6_5, add_7_5, add_8_5, add_9_5 = [Equals(Add(num(n), num(5)), num(n+5)) for n in range(10)]"
   ]
  },
  {
   "cell_type": "code",
   "execution_count": 14,
   "metadata": {
    "collapsed": false,
    "deletable": true,
    "editable": true
   },
   "outputs": [
    {
     "data": {
      "text/html": [
       "<strong id=\"add_0_6\"><a class=\"ProveItLink\" href=\"_proofs_/add_0_6.ipynb\">add_0_6</a>:</strong> <a class=\"ProveItLink\" href=\"__pv_it/966cd7ee3cf2624629399c94e16b87de371946210/expr.ipynb\"><img src=\"__pv_it/966cd7ee3cf2624629399c94e16b87de371946210/expr.png\" style=\"display:inline;vertical-align:middle;\" /></a><br>\n",
       "<strong id=\"add_1_6\"><a class=\"ProveItLink\" href=\"_proofs_/add_1_6.ipynb\">add_1_6</a>:</strong> <a class=\"ProveItLink\" href=\"__pv_it/b6ff66681453a9fafb557406bbe8574a76fa363c0/expr.ipynb\"><img src=\"__pv_it/b6ff66681453a9fafb557406bbe8574a76fa363c0/expr.png\" style=\"display:inline;vertical-align:middle;\" /></a><br>\n",
       "<strong id=\"add_2_6\"><a class=\"ProveItLink\" href=\"_proofs_/add_2_6.ipynb\">add_2_6</a>:</strong> <a class=\"ProveItLink\" href=\"__pv_it/5085081b25ee9a16ab041fa10d0d5e0cceaa98640/expr.ipynb\"><img src=\"__pv_it/5085081b25ee9a16ab041fa10d0d5e0cceaa98640/expr.png\" style=\"display:inline;vertical-align:middle;\" /></a><br>\n",
       "<strong id=\"add_3_6\"><a class=\"ProveItLink\" href=\"_proofs_/add_3_6.ipynb\">add_3_6</a>:</strong> <a class=\"ProveItLink\" href=\"__pv_it/f1f30b55adaca937d3471e0530447a949b31ea350/expr.ipynb\"><img src=\"__pv_it/f1f30b55adaca937d3471e0530447a949b31ea350/expr.png\" style=\"display:inline;vertical-align:middle;\" /></a><br>\n",
       "<strong id=\"add_4_6\"><a class=\"ProveItLink\" href=\"_proofs_/add_4_6.ipynb\">add_4_6</a>:</strong> <a class=\"ProveItLink\" href=\"__pv_it/ed52e62c3059ffd173648785bcd8e6be0cdcf38d0/expr.ipynb\"><img src=\"__pv_it/ed52e62c3059ffd173648785bcd8e6be0cdcf38d0/expr.png\" style=\"display:inline;vertical-align:middle;\" /></a><br>\n",
       "<strong id=\"add_5_6\"><a class=\"ProveItLink\" href=\"_proofs_/add_5_6.ipynb\">add_5_6</a>:</strong> <a class=\"ProveItLink\" href=\"__pv_it/13e6672975ba4843f2ec55b382f3b4de9d0ef0530/expr.ipynb\"><img src=\"__pv_it/13e6672975ba4843f2ec55b382f3b4de9d0ef0530/expr.png\" style=\"display:inline;vertical-align:middle;\" /></a><br>\n",
       "<strong id=\"add_6_6\"><a class=\"ProveItLink\" href=\"_proofs_/add_6_6.ipynb\">add_6_6</a>:</strong> <a class=\"ProveItLink\" href=\"__pv_it/61742a23a6b6f4cbc40e7a1bbaabaf74d932faa30/expr.ipynb\"><img src=\"__pv_it/61742a23a6b6f4cbc40e7a1bbaabaf74d932faa30/expr.png\" style=\"display:inline;vertical-align:middle;\" /></a><br>\n",
       "<strong id=\"add_7_6\"><a class=\"ProveItLink\" href=\"_proofs_/add_7_6.ipynb\">add_7_6</a>:</strong> <a class=\"ProveItLink\" href=\"__pv_it/9b84c56a22f5eadef3141761785c78497f495a3e0/expr.ipynb\"><img src=\"__pv_it/9b84c56a22f5eadef3141761785c78497f495a3e0/expr.png\" style=\"display:inline;vertical-align:middle;\" /></a><br>\n",
       "<strong id=\"add_8_6\"><a class=\"ProveItLink\" href=\"_proofs_/add_8_6.ipynb\">add_8_6</a>:</strong> <a class=\"ProveItLink\" href=\"__pv_it/0ca49435a934c5cdf7bff4f4fa7701152bd781060/expr.ipynb\"><img src=\"__pv_it/0ca49435a934c5cdf7bff4f4fa7701152bd781060/expr.png\" style=\"display:inline;vertical-align:middle;\" /></a><br>\n",
       "<strong id=\"add_9_6\"><a class=\"ProveItLink\" href=\"_proofs_/add_9_6.ipynb\">add_9_6</a>:</strong> <a class=\"ProveItLink\" href=\"__pv_it/836d9589e9c7660884b472226dbf7448411a49b60/expr.ipynb\"><img src=\"__pv_it/836d9589e9c7660884b472226dbf7448411a49b60/expr.png\" style=\"display:inline;vertical-align:middle;\" /></a><br>"
      ],
      "text/plain": [
       "add_0_6: (0 + 6) = 6\n",
       "add_1_6: (1 + 6) = 7\n",
       "add_2_6: (2 + 6) = 8\n",
       "add_3_6: (3 + 6) = 9\n",
       "add_4_6: (4 + 6) = 10\n",
       "add_5_6: (5 + 6) = 11\n",
       "add_6_6: (6 + 6) = 12\n",
       "add_7_6: (7 + 6) = 13\n",
       "add_8_6: (8 + 6) = 14\n",
       "add_9_6: (9 + 6) = 15"
      ]
     },
     "execution_count": 14,
     "metadata": {},
     "output_type": "execute_result"
    }
   ],
   "source": [
    "add_0_6, add_1_6, add_2_6, add_3_6, add_4_6, add_5_6, add_6_6, add_7_6, add_8_6, add_9_6 = [Equals(Add(num(n), num(6)), num(n+6)) for n in range(10)]"
   ]
  },
  {
   "cell_type": "code",
   "execution_count": 15,
   "metadata": {
    "collapsed": false,
    "deletable": true,
    "editable": true
   },
   "outputs": [
    {
     "data": {
      "text/html": [
       "<strong id=\"add_0_7\"><a class=\"ProveItLink\" href=\"_proofs_/add_0_7.ipynb\">add_0_7</a>:</strong> <a class=\"ProveItLink\" href=\"__pv_it/3d7307ec8f05fca6c3b60596f3653ebb42df02530/expr.ipynb\"><img src=\"__pv_it/3d7307ec8f05fca6c3b60596f3653ebb42df02530/expr.png\" style=\"display:inline;vertical-align:middle;\" /></a><br>\n",
       "<strong id=\"add_1_7\"><a class=\"ProveItLink\" href=\"_proofs_/add_1_7.ipynb\">add_1_7</a>:</strong> <a class=\"ProveItLink\" href=\"__pv_it/e6bf88471e563622cb3bb97c5e5ff7af253e10ab0/expr.ipynb\"><img src=\"__pv_it/e6bf88471e563622cb3bb97c5e5ff7af253e10ab0/expr.png\" style=\"display:inline;vertical-align:middle;\" /></a><br>\n",
       "<strong id=\"add_2_7\"><a class=\"ProveItLink\" href=\"_proofs_/add_2_7.ipynb\">add_2_7</a>:</strong> <a class=\"ProveItLink\" href=\"__pv_it/1fef9efd40bfd1c943ff5e3811339490815802320/expr.ipynb\"><img src=\"__pv_it/1fef9efd40bfd1c943ff5e3811339490815802320/expr.png\" style=\"display:inline;vertical-align:middle;\" /></a><br>\n",
       "<strong id=\"add_3_7\"><a class=\"ProveItLink\" href=\"_proofs_/add_3_7.ipynb\">add_3_7</a>:</strong> <a class=\"ProveItLink\" href=\"__pv_it/f79a29c6004ea5709caaf4923c1e34fd623ac76c0/expr.ipynb\"><img src=\"__pv_it/f79a29c6004ea5709caaf4923c1e34fd623ac76c0/expr.png\" style=\"display:inline;vertical-align:middle;\" /></a><br>\n",
       "<strong id=\"add_4_7\"><a class=\"ProveItLink\" href=\"_proofs_/add_4_7.ipynb\">add_4_7</a>:</strong> <a class=\"ProveItLink\" href=\"__pv_it/fd599421907e6a71d9be815f050ac1c107cc9ed00/expr.ipynb\"><img src=\"__pv_it/fd599421907e6a71d9be815f050ac1c107cc9ed00/expr.png\" style=\"display:inline;vertical-align:middle;\" /></a><br>\n",
       "<strong id=\"add_5_7\"><a class=\"ProveItLink\" href=\"_proofs_/add_5_7.ipynb\">add_5_7</a>:</strong> <a class=\"ProveItLink\" href=\"__pv_it/59c7e0ec8d784017f71930a73b7640b1485dd7040/expr.ipynb\"><img src=\"__pv_it/59c7e0ec8d784017f71930a73b7640b1485dd7040/expr.png\" style=\"display:inline;vertical-align:middle;\" /></a><br>\n",
       "<strong id=\"add_6_7\"><a class=\"ProveItLink\" href=\"_proofs_/add_6_7.ipynb\">add_6_7</a>:</strong> <a class=\"ProveItLink\" href=\"__pv_it/03778f87ab762d170b19de548d584be7e45d78560/expr.ipynb\"><img src=\"__pv_it/03778f87ab762d170b19de548d584be7e45d78560/expr.png\" style=\"display:inline;vertical-align:middle;\" /></a><br>\n",
       "<strong id=\"add_7_7\"><a class=\"ProveItLink\" href=\"_proofs_/add_7_7.ipynb\">add_7_7</a>:</strong> <a class=\"ProveItLink\" href=\"__pv_it/71c7d9d6d84510e57dd5780d587aa1d602a372870/expr.ipynb\"><img src=\"__pv_it/71c7d9d6d84510e57dd5780d587aa1d602a372870/expr.png\" style=\"display:inline;vertical-align:middle;\" /></a><br>\n",
       "<strong id=\"add_8_7\"><a class=\"ProveItLink\" href=\"_proofs_/add_8_7.ipynb\">add_8_7</a>:</strong> <a class=\"ProveItLink\" href=\"__pv_it/3da3b07c80f1e2d0d676b72a6a6d2dbd870e79690/expr.ipynb\"><img src=\"__pv_it/3da3b07c80f1e2d0d676b72a6a6d2dbd870e79690/expr.png\" style=\"display:inline;vertical-align:middle;\" /></a><br>\n",
       "<strong id=\"add_9_7\"><a class=\"ProveItLink\" href=\"_proofs_/add_9_7.ipynb\">add_9_7</a>:</strong> <a class=\"ProveItLink\" href=\"__pv_it/5e2826232194882e39ddc93b974ee1eeb03bcd1c0/expr.ipynb\"><img src=\"__pv_it/5e2826232194882e39ddc93b974ee1eeb03bcd1c0/expr.png\" style=\"display:inline;vertical-align:middle;\" /></a><br>"
      ],
      "text/plain": [
       "add_0_7: (0 + 7) = 7\n",
       "add_1_7: (1 + 7) = 8\n",
       "add_2_7: (2 + 7) = 9\n",
       "add_3_7: (3 + 7) = 10\n",
       "add_4_7: (4 + 7) = 11\n",
       "add_5_7: (5 + 7) = 12\n",
       "add_6_7: (6 + 7) = 13\n",
       "add_7_7: (7 + 7) = 14\n",
       "add_8_7: (8 + 7) = 15\n",
       "add_9_7: (9 + 7) = 16"
      ]
     },
     "execution_count": 15,
     "metadata": {},
     "output_type": "execute_result"
    }
   ],
   "source": [
    "add_0_7, add_1_7, add_2_7, add_3_7, add_4_7, add_5_7, add_6_7, add_7_7, add_8_7, add_9_7 = [Equals(Add(num(n), num(7)), num(n+7)) for n in range(10)]"
   ]
  },
  {
   "cell_type": "code",
   "execution_count": 16,
   "metadata": {
    "collapsed": false,
    "deletable": true,
    "editable": true
   },
   "outputs": [
    {
     "data": {
      "text/html": [
       "<strong id=\"add_0_8\"><a class=\"ProveItLink\" href=\"_proofs_/add_0_8.ipynb\">add_0_8</a>:</strong> <a class=\"ProveItLink\" href=\"__pv_it/ecf3025c1c5c375e6a822e318b858b554a486b170/expr.ipynb\"><img src=\"__pv_it/ecf3025c1c5c375e6a822e318b858b554a486b170/expr.png\" style=\"display:inline;vertical-align:middle;\" /></a><br>\n",
       "<strong id=\"add_1_8\"><a class=\"ProveItLink\" href=\"_proofs_/add_1_8.ipynb\">add_1_8</a>:</strong> <a class=\"ProveItLink\" href=\"__pv_it/78228b506b196e14216cd16aedad4c413b580ae70/expr.ipynb\"><img src=\"__pv_it/78228b506b196e14216cd16aedad4c413b580ae70/expr.png\" style=\"display:inline;vertical-align:middle;\" /></a><br>\n",
       "<strong id=\"add_2_8\"><a class=\"ProveItLink\" href=\"_proofs_/add_2_8.ipynb\">add_2_8</a>:</strong> <a class=\"ProveItLink\" href=\"__pv_it/2463ad048df1627869d211823256061579722eb80/expr.ipynb\"><img src=\"__pv_it/2463ad048df1627869d211823256061579722eb80/expr.png\" style=\"display:inline;vertical-align:middle;\" /></a><br>\n",
       "<strong id=\"add_3_8\"><a class=\"ProveItLink\" href=\"_proofs_/add_3_8.ipynb\">add_3_8</a>:</strong> <a class=\"ProveItLink\" href=\"__pv_it/a7dbf99d442d298d07b7f3d4151265e422a193f70/expr.ipynb\"><img src=\"__pv_it/a7dbf99d442d298d07b7f3d4151265e422a193f70/expr.png\" style=\"display:inline;vertical-align:middle;\" /></a><br>\n",
       "<strong id=\"add_4_8\"><a class=\"ProveItLink\" href=\"_proofs_/add_4_8.ipynb\">add_4_8</a>:</strong> <a class=\"ProveItLink\" href=\"__pv_it/6849ba092725216f821c2e996c2da94c2383f5bf0/expr.ipynb\"><img src=\"__pv_it/6849ba092725216f821c2e996c2da94c2383f5bf0/expr.png\" style=\"display:inline;vertical-align:middle;\" /></a><br>\n",
       "<strong id=\"add_5_8\"><a class=\"ProveItLink\" href=\"_proofs_/add_5_8.ipynb\">add_5_8</a>:</strong> <a class=\"ProveItLink\" href=\"__pv_it/9c6d4598f16664102e3f62d7ef4a0c7f7bb257e70/expr.ipynb\"><img src=\"__pv_it/9c6d4598f16664102e3f62d7ef4a0c7f7bb257e70/expr.png\" style=\"display:inline;vertical-align:middle;\" /></a><br>\n",
       "<strong id=\"add_6_8\"><a class=\"ProveItLink\" href=\"_proofs_/add_6_8.ipynb\">add_6_8</a>:</strong> <a class=\"ProveItLink\" href=\"__pv_it/74f6e5008796071466da61086257a1dbf8a82f9f0/expr.ipynb\"><img src=\"__pv_it/74f6e5008796071466da61086257a1dbf8a82f9f0/expr.png\" style=\"display:inline;vertical-align:middle;\" /></a><br>\n",
       "<strong id=\"add_7_8\"><a class=\"ProveItLink\" href=\"_proofs_/add_7_8.ipynb\">add_7_8</a>:</strong> <a class=\"ProveItLink\" href=\"__pv_it/97945519bb1547992b422cbadafff9ffb75c59ae0/expr.ipynb\"><img src=\"__pv_it/97945519bb1547992b422cbadafff9ffb75c59ae0/expr.png\" style=\"display:inline;vertical-align:middle;\" /></a><br>\n",
       "<strong id=\"add_8_8\"><a class=\"ProveItLink\" href=\"_proofs_/add_8_8.ipynb\">add_8_8</a>:</strong> <a class=\"ProveItLink\" href=\"__pv_it/429f68bc39ae11be44140b471f655a0b70f49f680/expr.ipynb\"><img src=\"__pv_it/429f68bc39ae11be44140b471f655a0b70f49f680/expr.png\" style=\"display:inline;vertical-align:middle;\" /></a><br>\n",
       "<strong id=\"add_9_8\"><a class=\"ProveItLink\" href=\"_proofs_/add_9_8.ipynb\">add_9_8</a>:</strong> <a class=\"ProveItLink\" href=\"__pv_it/7f79afd330044ba7044d32e313b5a1c6fd4d0d6f0/expr.ipynb\"><img src=\"__pv_it/7f79afd330044ba7044d32e313b5a1c6fd4d0d6f0/expr.png\" style=\"display:inline;vertical-align:middle;\" /></a><br>"
      ],
      "text/plain": [
       "add_0_8: (0 + 8) = 8\n",
       "add_1_8: (1 + 8) = 9\n",
       "add_2_8: (2 + 8) = 10\n",
       "add_3_8: (3 + 8) = 11\n",
       "add_4_8: (4 + 8) = 12\n",
       "add_5_8: (5 + 8) = 13\n",
       "add_6_8: (6 + 8) = 14\n",
       "add_7_8: (7 + 8) = 15\n",
       "add_8_8: (8 + 8) = 16\n",
       "add_9_8: (9 + 8) = 17"
      ]
     },
     "execution_count": 16,
     "metadata": {},
     "output_type": "execute_result"
    }
   ],
   "source": [
    "add_0_8, add_1_8, add_2_8, add_3_8, add_4_8, add_5_8, add_6_8, add_7_8, add_8_8, add_9_8 = [Equals(Add(num(n), num(8)), num(n+8)) for n in range(10)]"
   ]
  },
  {
   "cell_type": "code",
   "execution_count": 17,
   "metadata": {
    "collapsed": false,
    "deletable": true,
    "editable": true
   },
   "outputs": [
    {
     "data": {
      "text/html": [
       "<strong id=\"add_0_9\"><a class=\"ProveItLink\" href=\"_proofs_/add_0_9.ipynb\">add_0_9</a>:</strong> <a class=\"ProveItLink\" href=\"__pv_it/2707da8c2217097167d942f39cc423d76fe169e90/expr.ipynb\"><img src=\"__pv_it/2707da8c2217097167d942f39cc423d76fe169e90/expr.png\" style=\"display:inline;vertical-align:middle;\" /></a><br>\n",
       "<strong id=\"add_1_9\"><a class=\"ProveItLink\" href=\"_proofs_/add_1_9.ipynb\">add_1_9</a>:</strong> <a class=\"ProveItLink\" href=\"__pv_it/583c5c3f823931d749cc1fe0efc6dc2b5871dd740/expr.ipynb\"><img src=\"__pv_it/583c5c3f823931d749cc1fe0efc6dc2b5871dd740/expr.png\" style=\"display:inline;vertical-align:middle;\" /></a><br>\n",
       "<strong id=\"add_2_9\"><a class=\"ProveItLink\" href=\"_proofs_/add_2_9.ipynb\">add_2_9</a>:</strong> <a class=\"ProveItLink\" href=\"__pv_it/fa25fdb8c9e0445e45972577c75d39e30e2e448b0/expr.ipynb\"><img src=\"__pv_it/fa25fdb8c9e0445e45972577c75d39e30e2e448b0/expr.png\" style=\"display:inline;vertical-align:middle;\" /></a><br>\n",
       "<strong id=\"add_3_9\"><a class=\"ProveItLink\" href=\"_proofs_/add_3_9.ipynb\">add_3_9</a>:</strong> <a class=\"ProveItLink\" href=\"__pv_it/88f3d6f3a16f479bb9aaf48c32e0d0441cff4a9a0/expr.ipynb\"><img src=\"__pv_it/88f3d6f3a16f479bb9aaf48c32e0d0441cff4a9a0/expr.png\" style=\"display:inline;vertical-align:middle;\" /></a><br>\n",
       "<strong id=\"add_4_9\"><a class=\"ProveItLink\" href=\"_proofs_/add_4_9.ipynb\">add_4_9</a>:</strong> <a class=\"ProveItLink\" href=\"__pv_it/462f103305ddc78cd4e4d965438364d65ddd9fae0/expr.ipynb\"><img src=\"__pv_it/462f103305ddc78cd4e4d965438364d65ddd9fae0/expr.png\" style=\"display:inline;vertical-align:middle;\" /></a><br>\n",
       "<strong id=\"add_5_9\"><a class=\"ProveItLink\" href=\"_proofs_/add_5_9.ipynb\">add_5_9</a>:</strong> <a class=\"ProveItLink\" href=\"__pv_it/4b6d20452f4d6d510b52b33e79eacc38876ab6a70/expr.ipynb\"><img src=\"__pv_it/4b6d20452f4d6d510b52b33e79eacc38876ab6a70/expr.png\" style=\"display:inline;vertical-align:middle;\" /></a><br>\n",
       "<strong id=\"add_6_9\"><a class=\"ProveItLink\" href=\"_proofs_/add_6_9.ipynb\">add_6_9</a>:</strong> <a class=\"ProveItLink\" href=\"__pv_it/1dc8407f63709e87d1228d441677d71bcb8e56b60/expr.ipynb\"><img src=\"__pv_it/1dc8407f63709e87d1228d441677d71bcb8e56b60/expr.png\" style=\"display:inline;vertical-align:middle;\" /></a><br>\n",
       "<strong id=\"add_7_9\"><a class=\"ProveItLink\" href=\"_proofs_/add_7_9.ipynb\">add_7_9</a>:</strong> <a class=\"ProveItLink\" href=\"__pv_it/9524918faa88b2e62a7df5938f31cfa3611d91f80/expr.ipynb\"><img src=\"__pv_it/9524918faa88b2e62a7df5938f31cfa3611d91f80/expr.png\" style=\"display:inline;vertical-align:middle;\" /></a><br>\n",
       "<strong id=\"add_8_9\"><a class=\"ProveItLink\" href=\"_proofs_/add_8_9.ipynb\">add_8_9</a>:</strong> <a class=\"ProveItLink\" href=\"__pv_it/5f69c092b609c24c7a23e5fcb9aae79c2d7a22840/expr.ipynb\"><img src=\"__pv_it/5f69c092b609c24c7a23e5fcb9aae79c2d7a22840/expr.png\" style=\"display:inline;vertical-align:middle;\" /></a><br>\n",
       "<strong id=\"add_9_9\"><a class=\"ProveItLink\" href=\"_proofs_/add_9_9.ipynb\">add_9_9</a>:</strong> <a class=\"ProveItLink\" href=\"__pv_it/bd0e69b0bd2f1d4041960af6b46b0e0ae75e26f70/expr.ipynb\"><img src=\"__pv_it/bd0e69b0bd2f1d4041960af6b46b0e0ae75e26f70/expr.png\" style=\"display:inline;vertical-align:middle;\" /></a><br>"
      ],
      "text/plain": [
       "add_0_9: (0 + 9) = 9\n",
       "add_1_9: (1 + 9) = 10\n",
       "add_2_9: (2 + 9) = 11\n",
       "add_3_9: (3 + 9) = 12\n",
       "add_4_9: (4 + 9) = 13\n",
       "add_5_9: (5 + 9) = 14\n",
       "add_6_9: (6 + 9) = 15\n",
       "add_7_9: (7 + 9) = 16\n",
       "add_8_9: (8 + 9) = 17\n",
       "add_9_9: (9 + 9) = 18"
      ]
     },
     "execution_count": 17,
     "metadata": {},
     "output_type": "execute_result"
    }
   ],
   "source": [
    "add_0_9, add_1_9, add_2_9, add_3_9, add_4_9, add_5_9, add_6_9, add_7_9, add_8_9, add_9_9 = [Equals(Add(num(n), num(9)), num(n+9)) for n in range(10)]"
   ]
  },
  {
   "cell_type": "code",
   "execution_count": 18,
   "metadata": {
    "collapsed": false,
    "deletable": true,
    "editable": true
   },
   "outputs": [
    {
     "name": "stdout",
     "output_type": "stream",
     "text": [
      "Theorems may be imported from autogenerated _theorems_.py\n"
     ]
    }
   ],
   "source": [
    "%end theorems"
   ]
  },
  {
   "cell_type": "code",
   "execution_count": 19,
   "metadata": {
    "collapsed": true,
    "deletable": true,
    "editable": true
   },
   "outputs": [],
   "source": []
  }
 ],
 "metadata": {
  "kernelspec": {
   "display_name": "Python 3",
   "language": "python",
   "name": "python3"
  },
  "language_info": {
   "codemirror_mode": {
    "name": "ipython",
    "version": 3
   },
   "file_extension": ".py",
   "mimetype": "text/x-python",
   "name": "python",
   "nbconvert_exporter": "python",
   "pygments_lexer": "ipython3",
   "version": "3.7.0"
  }
 },
 "nbformat": 4,
 "nbformat_minor": 0
}
