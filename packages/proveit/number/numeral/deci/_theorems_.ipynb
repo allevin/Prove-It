{
 "cells": [
  {
   "cell_type": "markdown",
   "metadata": {
    "collapsed": true
   },
   "source": [
    "Theorems for context <a class=\"ProveItLink\" href=\"_context_.ipynb\">proveit.number.numeral.decimal</a>\n",
    "========"
   ]
  },
  {
   "cell_type": "code",
   "execution_count": 1,
   "metadata": {},
   "outputs": [],
   "source": [
    "import proveit\n",
    "from proveit.logic import Forall, Equals, InSet\n",
    "from proveit.number import num, Add, Mult, Less, LesserSequence, Naturals, NaturalsPos, Len\n",
    "from proveit._common_ import a,b,c,d,e,f,g,h,i\n",
    "# the context is in the current directory:\n",
    "context = proveit.Context('.') # adds context root to sys.path if necessary"
   ]
  },
  {
   "cell_type": "code",
   "execution_count": 2,
   "metadata": {},
   "outputs": [
    {
     "name": "stdout",
     "output_type": "stream",
     "text": [
      "Defining theorems for context 'proveit.number.numeral.deci'\n",
      "Subsequent end-of-cell assignments will define theorems\n",
      "'%end theorems' will finalize the definitions\n"
     ]
    }
   ],
   "source": [
    "%begin theorems"
   ]
  },
  {
   "cell_type": "markdown",
   "metadata": {},
   "source": [
    "### List lengths 1-9"
   ]
  },
  {
   "cell_type": "code",
   "execution_count": 3,
   "metadata": {},
   "outputs": [
    {
     "data": {
      "text/html": [
       "<strong id=\"listLen1\"><a class=\"ProveItLink\" href=\"_proofs_/listLen1.ipynb\">listLen1</a>:</strong> <a class=\"ProveItLink\" href=\"__pv_it/04c6f13650c995a5aee7cd81ef334ff937d9b2560/expr.ipynb\"><img src=\"__pv_it/04c6f13650c995a5aee7cd81ef334ff937d9b2560/expr.png\" style=\"display:inline;vertical-align:middle;\" /></a><br>\n",
       "<strong id=\"listLen2\"><a class=\"ProveItLink\" href=\"_proofs_/listLen2.ipynb\">listLen2</a>:</strong> <a class=\"ProveItLink\" href=\"__pv_it/99b4d3dd7d697784f8f1c1bf070680bc6edefc8b0/expr.ipynb\"><img src=\"__pv_it/99b4d3dd7d697784f8f1c1bf070680bc6edefc8b0/expr.png\" style=\"display:inline;vertical-align:middle;\" /></a><br>\n",
       "<strong id=\"listLen3\"><a class=\"ProveItLink\" href=\"_proofs_/listLen3.ipynb\">listLen3</a>:</strong> <a class=\"ProveItLink\" href=\"__pv_it/28f9e8a62e272528fa12cde7604c4540c3ed299a0/expr.ipynb\"><img src=\"__pv_it/28f9e8a62e272528fa12cde7604c4540c3ed299a0/expr.png\" style=\"display:inline;vertical-align:middle;\" /></a><br>\n",
       "<strong id=\"listLen4\"><a class=\"ProveItLink\" href=\"_proofs_/listLen4.ipynb\">listLen4</a>:</strong> <a class=\"ProveItLink\" href=\"__pv_it/a1e47cb70728d38e9257a56ad28e91f0739b091e0/expr.ipynb\"><img src=\"__pv_it/a1e47cb70728d38e9257a56ad28e91f0739b091e0/expr.png\" style=\"display:inline;vertical-align:middle;\" /></a><br>\n",
       "<strong id=\"listLen5\"><a class=\"ProveItLink\" href=\"_proofs_/listLen5.ipynb\">listLen5</a>:</strong> <a class=\"ProveItLink\" href=\"__pv_it/48f3a81fa33245e504d6451a42b55bc12fc21ec60/expr.ipynb\"><img src=\"__pv_it/48f3a81fa33245e504d6451a42b55bc12fc21ec60/expr.png\" style=\"display:inline;vertical-align:middle;\" /></a><br>\n",
       "<strong id=\"listLen6\"><a class=\"ProveItLink\" href=\"_proofs_/listLen6.ipynb\">listLen6</a>:</strong> <a class=\"ProveItLink\" href=\"__pv_it/48964fc657c38d2e6f4a31fa13b0dac982b657a20/expr.ipynb\"><img src=\"__pv_it/48964fc657c38d2e6f4a31fa13b0dac982b657a20/expr.png\" style=\"display:inline;vertical-align:middle;\" /></a><br>\n",
       "<strong id=\"listLen7\"><a class=\"ProveItLink\" href=\"_proofs_/listLen7.ipynb\">listLen7</a>:</strong> <a class=\"ProveItLink\" href=\"__pv_it/b816f0be00a8323bf99673073aec1e41ed2f3c280/expr.ipynb\"><img src=\"__pv_it/b816f0be00a8323bf99673073aec1e41ed2f3c280/expr.png\" style=\"display:inline;vertical-align:middle;\" /></a><br>\n",
       "<strong id=\"listLen8\"><a class=\"ProveItLink\" href=\"_proofs_/listLen8.ipynb\">listLen8</a>:</strong> <a class=\"ProveItLink\" href=\"__pv_it/0492a174b0b1a14810ff2c00562d0b84e11852f70/expr.ipynb\"><img src=\"__pv_it/0492a174b0b1a14810ff2c00562d0b84e11852f70/expr.png\" style=\"display:inline;vertical-align:middle;\" /></a><br>\n",
       "<strong id=\"listLen9\"><a class=\"ProveItLink\" href=\"_proofs_/listLen9.ipynb\">listLen9</a>:</strong> <a class=\"ProveItLink\" href=\"__pv_it/4386b8fcf5beffce973a330324159a5e139738af0/expr.ipynb\"><img src=\"__pv_it/4386b8fcf5beffce973a330324159a5e139738af0/expr.png\" style=\"display:inline;vertical-align:middle;\" /></a><br>"
      ],
      "text/plain": [
       "listLen1: forall_{a} (|(a)| = 1)\n",
       "listLen2: forall_{a, b} (|(a , b)| = 2)\n",
       "listLen3: forall_{a, b, c} (|(a , b , c)| = 3)\n",
       "listLen4: forall_{a, b, c, d} (|(a , b , c , d)| = 4)\n",
       "listLen5: forall_{a, b, c, d, e} (|(a , b , c , d , e)| = 5)\n",
       "listLen6: forall_{a, b, c, d, e, f} (|(a , b , c , d , e , f)| = 6)\n",
       "listLen7: forall_{a, b, c, d, e, f, g} (|(a , b , c , d , e , f , g)| = 7)\n",
       "listLen8: forall_{a, b, c, d, e, f, g, h} (|(a , b , c , d , e , f , g , h)| = 8)\n",
       "listLen9: forall_{a, b, c, d, e, f, g, h, i} (|(a , b , c , d , e , f , g , h , i)| = 9)"
      ]
     },
     "execution_count": 3,
     "metadata": {},
     "output_type": "execute_result"
    }
   ],
   "source": [
    "cur_vars = vars()\n",
    "def nvars(count):\n",
    "    return [cur_vars[chr(ord('a')+k)] for k in range(count)]\n",
    "listLen1, listLen2, listLen3, listLen4, listLen5, listLen6, listLen7, listLen8, listLen9 = [Forall(nvars(count), Equals(Len(nvars(count)), num(count))) for count in range(1, 10)]"
   ]
  },
  {
   "cell_type": "markdown",
   "metadata": {},
   "source": [
    "### Number sets containing the digits (beyond 0):"
   ]
  },
  {
   "cell_type": "code",
   "execution_count": 4,
   "metadata": {},
   "outputs": [
    {
     "data": {
      "text/html": [
       "<strong id=\"nat1\"><a class=\"ProveItLink\" href=\"_proofs_/nat1.ipynb\">nat1</a>:</strong> <a class=\"ProveItLink\" href=\"__pv_it/3f15fb519636fc585376b5b502be456d654dd18d0/expr.ipynb\"><img src=\"__pv_it/3f15fb519636fc585376b5b502be456d654dd18d0/expr.png\" style=\"display:inline;vertical-align:middle;\" /></a><br>\n",
       "<strong id=\"nat2\"><a class=\"ProveItLink\" href=\"_proofs_/nat2.ipynb\">nat2</a>:</strong> <a class=\"ProveItLink\" href=\"__pv_it/286f0443dba55bdb259c90cef1db0ca273fac95e0/expr.ipynb\"><img src=\"__pv_it/286f0443dba55bdb259c90cef1db0ca273fac95e0/expr.png\" style=\"display:inline;vertical-align:middle;\" /></a><br>\n",
       "<strong id=\"nat3\"><a class=\"ProveItLink\" href=\"_proofs_/nat3.ipynb\">nat3</a>:</strong> <a class=\"ProveItLink\" href=\"__pv_it/106bf174ef7755d5609db086689abcc208d6bf3d0/expr.ipynb\"><img src=\"__pv_it/106bf174ef7755d5609db086689abcc208d6bf3d0/expr.png\" style=\"display:inline;vertical-align:middle;\" /></a><br>\n",
       "<strong id=\"nat4\"><a class=\"ProveItLink\" href=\"_proofs_/nat4.ipynb\">nat4</a>:</strong> <a class=\"ProveItLink\" href=\"__pv_it/3fc93db3b3fd1b15204240d9de18a48656bfb08c0/expr.ipynb\"><img src=\"__pv_it/3fc93db3b3fd1b15204240d9de18a48656bfb08c0/expr.png\" style=\"display:inline;vertical-align:middle;\" /></a><br>\n",
       "<strong id=\"nat5\"><a class=\"ProveItLink\" href=\"_proofs_/nat5.ipynb\">nat5</a>:</strong> <a class=\"ProveItLink\" href=\"__pv_it/e1fbc969f423eedb93abd86e7a97d4f86379d69c0/expr.ipynb\"><img src=\"__pv_it/e1fbc969f423eedb93abd86e7a97d4f86379d69c0/expr.png\" style=\"display:inline;vertical-align:middle;\" /></a><br>\n",
       "<strong id=\"nat6\"><a class=\"ProveItLink\" href=\"_proofs_/nat6.ipynb\">nat6</a>:</strong> <a class=\"ProveItLink\" href=\"__pv_it/45dcb82ef989e77cc7309440389a565c1144dd580/expr.ipynb\"><img src=\"__pv_it/45dcb82ef989e77cc7309440389a565c1144dd580/expr.png\" style=\"display:inline;vertical-align:middle;\" /></a><br>\n",
       "<strong id=\"nat7\"><a class=\"ProveItLink\" href=\"_proofs_/nat7.ipynb\">nat7</a>:</strong> <a class=\"ProveItLink\" href=\"__pv_it/a1f5ae759b336054bda9813e1a1080965ac658570/expr.ipynb\"><img src=\"__pv_it/a1f5ae759b336054bda9813e1a1080965ac658570/expr.png\" style=\"display:inline;vertical-align:middle;\" /></a><br>\n",
       "<strong id=\"nat8\"><a class=\"ProveItLink\" href=\"_proofs_/nat8.ipynb\">nat8</a>:</strong> <a class=\"ProveItLink\" href=\"__pv_it/b6e2d0c46d742e7e90bcda2cb0d4f296acd344680/expr.ipynb\"><img src=\"__pv_it/b6e2d0c46d742e7e90bcda2cb0d4f296acd344680/expr.png\" style=\"display:inline;vertical-align:middle;\" /></a><br>\n",
       "<strong id=\"nat9\"><a class=\"ProveItLink\" href=\"_proofs_/nat9.ipynb\">nat9</a>:</strong> <a class=\"ProveItLink\" href=\"__pv_it/0c7c73eb99c01621888861d6c90f85b78973156d0/expr.ipynb\"><img src=\"__pv_it/0c7c73eb99c01621888861d6c90f85b78973156d0/expr.png\" style=\"display:inline;vertical-align:middle;\" /></a><br>"
      ],
      "text/plain": [
       "nat1: 1 in Naturals\n",
       "nat2: 2 in Naturals\n",
       "nat3: 3 in Naturals\n",
       "nat4: 4 in Naturals\n",
       "nat5: 5 in Naturals\n",
       "nat6: 6 in Naturals\n",
       "nat7: 7 in Naturals\n",
       "nat8: 8 in Naturals\n",
       "nat9: 9 in Naturals"
      ]
     },
     "execution_count": 4,
     "metadata": {},
     "output_type": "execute_result"
    }
   ],
   "source": [
    "nat1, nat2, nat3, nat4, nat5, nat6, nat7, nat8, nat9 = [InSet(num(n), Naturals) for n in range(1, 10)]"
   ]
  },
  {
   "cell_type": "code",
   "execution_count": 5,
   "metadata": {},
   "outputs": [
    {
     "data": {
      "text/html": [
       "<strong id=\"posnat1\"><a class=\"ProveItLink\" href=\"_proofs_/posnat1.ipynb\">posnat1</a>:</strong> <a class=\"ProveItLink\" href=\"__pv_it/6c7d3f1e028a441777ca5213f1e5722dfd0835ed0/expr.ipynb\"><img src=\"__pv_it/6c7d3f1e028a441777ca5213f1e5722dfd0835ed0/expr.png\" style=\"display:inline;vertical-align:middle;\" /></a><br>\n",
       "<strong id=\"posnat2\"><a class=\"ProveItLink\" href=\"_proofs_/posnat2.ipynb\">posnat2</a>:</strong> <a class=\"ProveItLink\" href=\"__pv_it/cc8f030bf3f8fa8886abea87852067059d7e0b5a0/expr.ipynb\"><img src=\"__pv_it/cc8f030bf3f8fa8886abea87852067059d7e0b5a0/expr.png\" style=\"display:inline;vertical-align:middle;\" /></a><br>\n",
       "<strong id=\"posnat3\"><a class=\"ProveItLink\" href=\"_proofs_/posnat3.ipynb\">posnat3</a>:</strong> <a class=\"ProveItLink\" href=\"__pv_it/4a25aa593418cb85c344f5a2bec51d67120428e00/expr.ipynb\"><img src=\"__pv_it/4a25aa593418cb85c344f5a2bec51d67120428e00/expr.png\" style=\"display:inline;vertical-align:middle;\" /></a><br>\n",
       "<strong id=\"posnat4\"><a class=\"ProveItLink\" href=\"_proofs_/posnat4.ipynb\">posnat4</a>:</strong> <a class=\"ProveItLink\" href=\"__pv_it/a8e2987330479c05c40c94f9edaad0d2c48f343a0/expr.ipynb\"><img src=\"__pv_it/a8e2987330479c05c40c94f9edaad0d2c48f343a0/expr.png\" style=\"display:inline;vertical-align:middle;\" /></a><br>\n",
       "<strong id=\"posnat5\"><a class=\"ProveItLink\" href=\"_proofs_/posnat5.ipynb\">posnat5</a>:</strong> <a class=\"ProveItLink\" href=\"__pv_it/8351e8ccf2c74a9f5e1ff0d40d9453369b3d2eb10/expr.ipynb\"><img src=\"__pv_it/8351e8ccf2c74a9f5e1ff0d40d9453369b3d2eb10/expr.png\" style=\"display:inline;vertical-align:middle;\" /></a><br>\n",
       "<strong id=\"posnat6\"><a class=\"ProveItLink\" href=\"_proofs_/posnat6.ipynb\">posnat6</a>:</strong> <a class=\"ProveItLink\" href=\"__pv_it/0fa5bab0e1ffc5aacfe93f5453772a6b478bf8340/expr.ipynb\"><img src=\"__pv_it/0fa5bab0e1ffc5aacfe93f5453772a6b478bf8340/expr.png\" style=\"display:inline;vertical-align:middle;\" /></a><br>\n",
       "<strong id=\"posnat7\"><a class=\"ProveItLink\" href=\"_proofs_/posnat7.ipynb\">posnat7</a>:</strong> <a class=\"ProveItLink\" href=\"__pv_it/c27e9e68de619b515141b59ca83ec870b17b88590/expr.ipynb\"><img src=\"__pv_it/c27e9e68de619b515141b59ca83ec870b17b88590/expr.png\" style=\"display:inline;vertical-align:middle;\" /></a><br>\n",
       "<strong id=\"posnat8\"><a class=\"ProveItLink\" href=\"_proofs_/posnat8.ipynb\">posnat8</a>:</strong> <a class=\"ProveItLink\" href=\"__pv_it/f661bdd0fe957c5957a0815a031150ee05b4d0940/expr.ipynb\"><img src=\"__pv_it/f661bdd0fe957c5957a0815a031150ee05b4d0940/expr.png\" style=\"display:inline;vertical-align:middle;\" /></a><br>\n",
       "<strong id=\"posnat9\"><a class=\"ProveItLink\" href=\"_proofs_/posnat9.ipynb\">posnat9</a>:</strong> <a class=\"ProveItLink\" href=\"__pv_it/f42bcb685b6ad87ddfda15f247f4208ea6bba65b0/expr.ipynb\"><img src=\"__pv_it/f42bcb685b6ad87ddfda15f247f4208ea6bba65b0/expr.png\" style=\"display:inline;vertical-align:middle;\" /></a><br>"
      ],
      "text/plain": [
       "posnat1: 1 in NaturalsPos\n",
       "posnat2: 2 in NaturalsPos\n",
       "posnat3: 3 in NaturalsPos\n",
       "posnat4: 4 in NaturalsPos\n",
       "posnat5: 5 in NaturalsPos\n",
       "posnat6: 6 in NaturalsPos\n",
       "posnat7: 7 in NaturalsPos\n",
       "posnat8: 8 in NaturalsPos\n",
       "posnat9: 9 in NaturalsPos"
      ]
     },
     "execution_count": 5,
     "metadata": {},
     "output_type": "execute_result"
    }
   ],
   "source": [
    "posnat1, posnat2, posnat3, posnat4, posnat5, posnat6, posnat7, posnat8, posnat9 = [InSet(num(n), NaturalsPos) for n in range(1, 10)]"
   ]
  },
  {
   "cell_type": "markdown",
   "metadata": {},
   "source": [
    "### Sorted order of the digits"
   ]
  },
  {
   "cell_type": "code",
   "execution_count": 6,
   "metadata": {},
   "outputs": [
    {
     "data": {
      "text/html": [
       "<strong id=\"less_0_1\"><a class=\"ProveItLink\" href=\"_proofs_/less_0_1.ipynb\">less_0_1</a>:</strong> <a class=\"ProveItLink\" href=\"__pv_it/d060bd26c883154e5b471568d486c4165d01a0d00/expr.ipynb\"><img src=\"__pv_it/d060bd26c883154e5b471568d486c4165d01a0d00/expr.png\" style=\"display:inline;vertical-align:middle;\" /></a><br>\n",
       "<strong id=\"less_1_2\"><a class=\"ProveItLink\" href=\"_proofs_/less_1_2.ipynb\">less_1_2</a>:</strong> <a class=\"ProveItLink\" href=\"__pv_it/3f96bd3cd3458158a7aac789291520ebb13da1980/expr.ipynb\"><img src=\"__pv_it/3f96bd3cd3458158a7aac789291520ebb13da1980/expr.png\" style=\"display:inline;vertical-align:middle;\" /></a><br>\n",
       "<strong id=\"less_2_3\"><a class=\"ProveItLink\" href=\"_proofs_/less_2_3.ipynb\">less_2_3</a>:</strong> <a class=\"ProveItLink\" href=\"__pv_it/ea73ff1eea783ca266e3b5ffcdce42d0484d9f6a0/expr.ipynb\"><img src=\"__pv_it/ea73ff1eea783ca266e3b5ffcdce42d0484d9f6a0/expr.png\" style=\"display:inline;vertical-align:middle;\" /></a><br>\n",
       "<strong id=\"less_3_4\"><a class=\"ProveItLink\" href=\"_proofs_/less_3_4.ipynb\">less_3_4</a>:</strong> <a class=\"ProveItLink\" href=\"__pv_it/062fba8f811ddd0affa8a613573c5a0599a508690/expr.ipynb\"><img src=\"__pv_it/062fba8f811ddd0affa8a613573c5a0599a508690/expr.png\" style=\"display:inline;vertical-align:middle;\" /></a><br>\n",
       "<strong id=\"less_4_5\"><a class=\"ProveItLink\" href=\"_proofs_/less_4_5.ipynb\">less_4_5</a>:</strong> <a class=\"ProveItLink\" href=\"__pv_it/9bcbd5f65b86303142f407ec37fc070a174cd48f0/expr.ipynb\"><img src=\"__pv_it/9bcbd5f65b86303142f407ec37fc070a174cd48f0/expr.png\" style=\"display:inline;vertical-align:middle;\" /></a><br>\n",
       "<strong id=\"less_5_6\"><a class=\"ProveItLink\" href=\"_proofs_/less_5_6.ipynb\">less_5_6</a>:</strong> <a class=\"ProveItLink\" href=\"__pv_it/0696f2ed126c6fc3b976a835d92848b94db3b5c20/expr.ipynb\"><img src=\"__pv_it/0696f2ed126c6fc3b976a835d92848b94db3b5c20/expr.png\" style=\"display:inline;vertical-align:middle;\" /></a><br>\n",
       "<strong id=\"less_6_7\"><a class=\"ProveItLink\" href=\"_proofs_/less_6_7.ipynb\">less_6_7</a>:</strong> <a class=\"ProveItLink\" href=\"__pv_it/4ee51052f4c8646ad1a0bdccea086774b6b906cf0/expr.ipynb\"><img src=\"__pv_it/4ee51052f4c8646ad1a0bdccea086774b6b906cf0/expr.png\" style=\"display:inline;vertical-align:middle;\" /></a><br>\n",
       "<strong id=\"less_7_8\"><a class=\"ProveItLink\" href=\"_proofs_/less_7_8.ipynb\">less_7_8</a>:</strong> <a class=\"ProveItLink\" href=\"__pv_it/fe4b3dad26861935c5ce13f85acf58b5fda14c080/expr.ipynb\"><img src=\"__pv_it/fe4b3dad26861935c5ce13f85acf58b5fda14c080/expr.png\" style=\"display:inline;vertical-align:middle;\" /></a><br>\n",
       "<strong id=\"less_8_9\"><a class=\"ProveItLink\" href=\"_proofs_/less_8_9.ipynb\">less_8_9</a>:</strong> <a class=\"ProveItLink\" href=\"__pv_it/420060b3211fc38f60276be8a2fa7a8b6f8627720/expr.ipynb\"><img src=\"__pv_it/420060b3211fc38f60276be8a2fa7a8b6f8627720/expr.png\" style=\"display:inline;vertical-align:middle;\" /></a><br>"
      ],
      "text/plain": [
       "less_0_1: 0 < 1\n",
       "less_1_2: 1 < 2\n",
       "less_2_3: 2 < 3\n",
       "less_3_4: 3 < 4\n",
       "less_4_5: 4 < 5\n",
       "less_5_6: 5 < 6\n",
       "less_6_7: 6 < 7\n",
       "less_7_8: 7 < 8\n",
       "less_8_9: 8 < 9"
      ]
     },
     "execution_count": 6,
     "metadata": {},
     "output_type": "execute_result"
    }
   ],
   "source": [
    "less_0_1, less_1_2, less_2_3, less_3_4, less_4_5, less_5_6, less_6_7, less_7_8, less_8_9 = [Less(num(n), num(n+1)) for n in range(9)]"
   ]
  },
  {
   "cell_type": "code",
   "execution_count": 7,
   "metadata": {},
   "outputs": [
    {
     "data": {
      "text/html": [
       "<strong id=\"sorted_digits\"><a class=\"ProveItLink\" href=\"_proofs_/sorted_digits.ipynb\">sorted_digits</a>:</strong> <a class=\"ProveItLink\" href=\"__pv_it/71cebb8f6c07fb147e720c1d70db6e454e5789ad0/expr.ipynb\"><img src=\"__pv_it/71cebb8f6c07fb147e720c1d70db6e454e5789ad0/expr.png\" style=\"display:inline;vertical-align:middle;\" /></a><br>"
      ],
      "text/plain": [
       "sorted_digits: 0 < 1 < 2 < 3 < 4 < 5 < 6 < 7 < 8 < 9"
      ]
     },
     "execution_count": 7,
     "metadata": {},
     "output_type": "execute_result"
    }
   ],
   "source": [
    "sorted_digits = LesserSequence([Less._operator_]*9, [num(n) for n in range(10)])"
   ]
  },
  {
   "cell_type": "markdown",
   "metadata": {},
   "source": [
    "### Adding digits"
   ]
  },
  {
   "cell_type": "code",
   "execution_count": 8,
   "metadata": {},
   "outputs": [
    {
     "data": {
      "text/html": [
       "<strong id=\"add_0_0\"><a class=\"ProveItLink\" href=\"_proofs_/add_0_0.ipynb\">add_0_0</a>:</strong> <a class=\"ProveItLink\" href=\"__pv_it/71bde49d133a9cd9d2f59a6023b6209ecd44c7270/expr.ipynb\"><img src=\"__pv_it/71bde49d133a9cd9d2f59a6023b6209ecd44c7270/expr.png\" style=\"display:inline;vertical-align:middle;\" /></a><br>\n",
       "<strong id=\"add_1_0\"><a class=\"ProveItLink\" href=\"_proofs_/add_1_0.ipynb\">add_1_0</a>:</strong> <a class=\"ProveItLink\" href=\"__pv_it/883027eb491b115c70ceb6a6b3f9402056fb84710/expr.ipynb\"><img src=\"__pv_it/883027eb491b115c70ceb6a6b3f9402056fb84710/expr.png\" style=\"display:inline;vertical-align:middle;\" /></a><br>\n",
       "<strong id=\"add_2_0\"><a class=\"ProveItLink\" href=\"_proofs_/add_2_0.ipynb\">add_2_0</a>:</strong> <a class=\"ProveItLink\" href=\"__pv_it/4313cc62fa7542955a57d8bbd42d5bda4f41cc6a0/expr.ipynb\"><img src=\"__pv_it/4313cc62fa7542955a57d8bbd42d5bda4f41cc6a0/expr.png\" style=\"display:inline;vertical-align:middle;\" /></a><br>\n",
       "<strong id=\"add_3_0\"><a class=\"ProveItLink\" href=\"_proofs_/add_3_0.ipynb\">add_3_0</a>:</strong> <a class=\"ProveItLink\" href=\"__pv_it/d2e9f310ca2a7e468251d98769f914626313a2730/expr.ipynb\"><img src=\"__pv_it/d2e9f310ca2a7e468251d98769f914626313a2730/expr.png\" style=\"display:inline;vertical-align:middle;\" /></a><br>\n",
       "<strong id=\"add_4_0\"><a class=\"ProveItLink\" href=\"_proofs_/add_4_0.ipynb\">add_4_0</a>:</strong> <a class=\"ProveItLink\" href=\"__pv_it/8e3b23ea5f0539885cbac0bd407b7341fec6a9ae0/expr.ipynb\"><img src=\"__pv_it/8e3b23ea5f0539885cbac0bd407b7341fec6a9ae0/expr.png\" style=\"display:inline;vertical-align:middle;\" /></a><br>\n",
       "<strong id=\"add_5_0\"><a class=\"ProveItLink\" href=\"_proofs_/add_5_0.ipynb\">add_5_0</a>:</strong> <a class=\"ProveItLink\" href=\"__pv_it/283112c32cf5da583b3367d54c22489a8ad23dd70/expr.ipynb\"><img src=\"__pv_it/283112c32cf5da583b3367d54c22489a8ad23dd70/expr.png\" style=\"display:inline;vertical-align:middle;\" /></a><br>\n",
       "<strong id=\"add_6_0\"><a class=\"ProveItLink\" href=\"_proofs_/add_6_0.ipynb\">add_6_0</a>:</strong> <a class=\"ProveItLink\" href=\"__pv_it/e55a94cdfb85ea8e844f2533cb57a4510ba354070/expr.ipynb\"><img src=\"__pv_it/e55a94cdfb85ea8e844f2533cb57a4510ba354070/expr.png\" style=\"display:inline;vertical-align:middle;\" /></a><br>\n",
       "<strong id=\"add_7_0\"><a class=\"ProveItLink\" href=\"_proofs_/add_7_0.ipynb\">add_7_0</a>:</strong> <a class=\"ProveItLink\" href=\"__pv_it/243a8ddd0fd8b2f42d97ce33674038617565f9ea0/expr.ipynb\"><img src=\"__pv_it/243a8ddd0fd8b2f42d97ce33674038617565f9ea0/expr.png\" style=\"display:inline;vertical-align:middle;\" /></a><br>\n",
       "<strong id=\"add_8_0\"><a class=\"ProveItLink\" href=\"_proofs_/add_8_0.ipynb\">add_8_0</a>:</strong> <a class=\"ProveItLink\" href=\"__pv_it/c8043425e842b2cb1005dfd5483a686c3255d8b40/expr.ipynb\"><img src=\"__pv_it/c8043425e842b2cb1005dfd5483a686c3255d8b40/expr.png\" style=\"display:inline;vertical-align:middle;\" /></a><br>\n",
       "<strong id=\"add_9_0\"><a class=\"ProveItLink\" href=\"_proofs_/add_9_0.ipynb\">add_9_0</a>:</strong> <a class=\"ProveItLink\" href=\"__pv_it/c71f9968b195ddf20decb494637d74528290247d0/expr.ipynb\"><img src=\"__pv_it/c71f9968b195ddf20decb494637d74528290247d0/expr.png\" style=\"display:inline;vertical-align:middle;\" /></a><br>"
      ],
      "text/plain": [
       "add_0_0: (0 + 0) = 0\n",
       "add_1_0: (1 + 0) = 1\n",
       "add_2_0: (2 + 0) = 2\n",
       "add_3_0: (3 + 0) = 3\n",
       "add_4_0: (4 + 0) = 4\n",
       "add_5_0: (5 + 0) = 5\n",
       "add_6_0: (6 + 0) = 6\n",
       "add_7_0: (7 + 0) = 7\n",
       "add_8_0: (8 + 0) = 8\n",
       "add_9_0: (9 + 0) = 9"
      ]
     },
     "execution_count": 8,
     "metadata": {},
     "output_type": "execute_result"
    }
   ],
   "source": [
    "add_0_0, add_1_0, add_2_0, add_3_0, add_4_0, add_5_0, add_6_0, add_7_0, add_8_0, add_9_0 = [Equals(Add(num(n), num(0)), num(n+0)) for n in range(10)]"
   ]
  },
  {
   "cell_type": "code",
   "execution_count": 9,
   "metadata": {},
   "outputs": [
    {
     "data": {
      "text/html": [
       "<strong id=\"add_0_1\"><a class=\"ProveItLink\" href=\"_proofs_/add_0_1.ipynb\">add_0_1</a>:</strong> <a class=\"ProveItLink\" href=\"__pv_it/83bf264e69171b1f486f6594cc5cde35f010b85d0/expr.ipynb\"><img src=\"__pv_it/83bf264e69171b1f486f6594cc5cde35f010b85d0/expr.png\" style=\"display:inline;vertical-align:middle;\" /></a><br>\n",
       "<strong id=\"add_1_1\"><a class=\"ProveItLink\" href=\"_proofs_/add_1_1.ipynb\">add_1_1</a>:</strong> <a class=\"ProveItLink\" href=\"__pv_it/43a2652e50d79bab45a44730429ccc22066c6ce50/expr.ipynb\"><img src=\"__pv_it/43a2652e50d79bab45a44730429ccc22066c6ce50/expr.png\" style=\"display:inline;vertical-align:middle;\" /></a><br>\n",
       "<strong id=\"add_2_1\"><a class=\"ProveItLink\" href=\"_proofs_/add_2_1.ipynb\">add_2_1</a>:</strong> <a class=\"ProveItLink\" href=\"__pv_it/e8ee2bb0ab2b64df9ffe1a8539fc0bef8e312cc20/expr.ipynb\"><img src=\"__pv_it/e8ee2bb0ab2b64df9ffe1a8539fc0bef8e312cc20/expr.png\" style=\"display:inline;vertical-align:middle;\" /></a><br>\n",
       "<strong id=\"add_3_1\"><a class=\"ProveItLink\" href=\"_proofs_/add_3_1.ipynb\">add_3_1</a>:</strong> <a class=\"ProveItLink\" href=\"__pv_it/50333c583e8264b7553c7411c691d9c135afa4630/expr.ipynb\"><img src=\"__pv_it/50333c583e8264b7553c7411c691d9c135afa4630/expr.png\" style=\"display:inline;vertical-align:middle;\" /></a><br>\n",
       "<strong id=\"add_4_1\"><a class=\"ProveItLink\" href=\"_proofs_/add_4_1.ipynb\">add_4_1</a>:</strong> <a class=\"ProveItLink\" href=\"__pv_it/a0828eb2e51bfd8db0ce4d10e63548f44a2cea290/expr.ipynb\"><img src=\"__pv_it/a0828eb2e51bfd8db0ce4d10e63548f44a2cea290/expr.png\" style=\"display:inline;vertical-align:middle;\" /></a><br>\n",
       "<strong id=\"add_5_1\"><a class=\"ProveItLink\" href=\"_proofs_/add_5_1.ipynb\">add_5_1</a>:</strong> <a class=\"ProveItLink\" href=\"__pv_it/8ca1fc9525d6ee0b380ad1decb0a2bd8a71a0c130/expr.ipynb\"><img src=\"__pv_it/8ca1fc9525d6ee0b380ad1decb0a2bd8a71a0c130/expr.png\" style=\"display:inline;vertical-align:middle;\" /></a><br>\n",
       "<strong id=\"add_6_1\"><a class=\"ProveItLink\" href=\"_proofs_/add_6_1.ipynb\">add_6_1</a>:</strong> <a class=\"ProveItLink\" href=\"__pv_it/2e11c9013605edb3446d35545ea2c14d90823da00/expr.ipynb\"><img src=\"__pv_it/2e11c9013605edb3446d35545ea2c14d90823da00/expr.png\" style=\"display:inline;vertical-align:middle;\" /></a><br>\n",
       "<strong id=\"add_7_1\"><a class=\"ProveItLink\" href=\"_proofs_/add_7_1.ipynb\">add_7_1</a>:</strong> <a class=\"ProveItLink\" href=\"__pv_it/4f2c04dc5da69ab3705e6fc9a3f381e2097a61b80/expr.ipynb\"><img src=\"__pv_it/4f2c04dc5da69ab3705e6fc9a3f381e2097a61b80/expr.png\" style=\"display:inline;vertical-align:middle;\" /></a><br>\n",
       "<strong id=\"add_8_1\"><a class=\"ProveItLink\" href=\"_proofs_/add_8_1.ipynb\">add_8_1</a>:</strong> <a class=\"ProveItLink\" href=\"__pv_it/a9bc1e098d6a0d199f9e47656c0505ef16b771840/expr.ipynb\"><img src=\"__pv_it/a9bc1e098d6a0d199f9e47656c0505ef16b771840/expr.png\" style=\"display:inline;vertical-align:middle;\" /></a><br>\n",
       "<strong id=\"add_9_1\"><a class=\"ProveItLink\" href=\"_proofs_/add_9_1.ipynb\">add_9_1</a>:</strong> <a class=\"ProveItLink\" href=\"__pv_it/9c0a17e9d1bb5442e15678797ecd28f87edf61e00/expr.ipynb\"><img src=\"__pv_it/9c0a17e9d1bb5442e15678797ecd28f87edf61e00/expr.png\" style=\"display:inline;vertical-align:middle;\" /></a><br>"
      ],
      "text/plain": [
       "add_0_1: (0 + 1) = 1\n",
       "add_1_1: (1 + 1) = 2\n",
       "add_2_1: (2 + 1) = 3\n",
       "add_3_1: (3 + 1) = 4\n",
       "add_4_1: (4 + 1) = 5\n",
       "add_5_1: (5 + 1) = 6\n",
       "add_6_1: (6 + 1) = 7\n",
       "add_7_1: (7 + 1) = 8\n",
       "add_8_1: (8 + 1) = 9\n",
       "add_9_1: (9 + 1) = 10"
      ]
     },
     "execution_count": 9,
     "metadata": {},
     "output_type": "execute_result"
    }
   ],
   "source": [
    "add_0_1, add_1_1, add_2_1, add_3_1, add_4_1, add_5_1, add_6_1, add_7_1, add_8_1, add_9_1 = [Equals(Add(num(n), num(1)), num(n+1)) for n in range(10)]"
   ]
  },
  {
   "cell_type": "code",
   "execution_count": 10,
   "metadata": {},
   "outputs": [
    {
     "data": {
      "text/html": [
       "<strong id=\"add_0_2\"><a class=\"ProveItLink\" href=\"_proofs_/add_0_2.ipynb\">add_0_2</a>:</strong> <a class=\"ProveItLink\" href=\"__pv_it/37625e2e7df80938226aba9153be6cd424cea4da0/expr.ipynb\"><img src=\"__pv_it/37625e2e7df80938226aba9153be6cd424cea4da0/expr.png\" style=\"display:inline;vertical-align:middle;\" /></a><br>\n",
       "<strong id=\"add_1_2\"><a class=\"ProveItLink\" href=\"_proofs_/add_1_2.ipynb\">add_1_2</a>:</strong> <a class=\"ProveItLink\" href=\"__pv_it/fb6442f35bbb4335cbf8fc2580e08fcc113b37890/expr.ipynb\"><img src=\"__pv_it/fb6442f35bbb4335cbf8fc2580e08fcc113b37890/expr.png\" style=\"display:inline;vertical-align:middle;\" /></a><br>\n",
       "<strong id=\"add_2_2\"><a class=\"ProveItLink\" href=\"_proofs_/add_2_2.ipynb\">add_2_2</a>:</strong> <a class=\"ProveItLink\" href=\"__pv_it/776ce5311c0a62409174d251895653a37d610f950/expr.ipynb\"><img src=\"__pv_it/776ce5311c0a62409174d251895653a37d610f950/expr.png\" style=\"display:inline;vertical-align:middle;\" /></a><br>\n",
       "<strong id=\"add_3_2\"><a class=\"ProveItLink\" href=\"_proofs_/add_3_2.ipynb\">add_3_2</a>:</strong> <a class=\"ProveItLink\" href=\"__pv_it/4cfa99da1c119f9c39ec9288818c2884e31c55400/expr.ipynb\"><img src=\"__pv_it/4cfa99da1c119f9c39ec9288818c2884e31c55400/expr.png\" style=\"display:inline;vertical-align:middle;\" /></a><br>\n",
       "<strong id=\"add_4_2\"><a class=\"ProveItLink\" href=\"_proofs_/add_4_2.ipynb\">add_4_2</a>:</strong> <a class=\"ProveItLink\" href=\"__pv_it/35ec96b323ec1cf9a8dc4b991630fa24bc9bdf070/expr.ipynb\"><img src=\"__pv_it/35ec96b323ec1cf9a8dc4b991630fa24bc9bdf070/expr.png\" style=\"display:inline;vertical-align:middle;\" /></a><br>\n",
       "<strong id=\"add_5_2\"><a class=\"ProveItLink\" href=\"_proofs_/add_5_2.ipynb\">add_5_2</a>:</strong> <a class=\"ProveItLink\" href=\"__pv_it/d2ea61bd6696ba80884d5febfa3cc83052bb74320/expr.ipynb\"><img src=\"__pv_it/d2ea61bd6696ba80884d5febfa3cc83052bb74320/expr.png\" style=\"display:inline;vertical-align:middle;\" /></a><br>\n",
       "<strong id=\"add_6_2\"><a class=\"ProveItLink\" href=\"_proofs_/add_6_2.ipynb\">add_6_2</a>:</strong> <a class=\"ProveItLink\" href=\"__pv_it/0bcbbe4e5cbc1ffea0ec0d5a1713553fed044f140/expr.ipynb\"><img src=\"__pv_it/0bcbbe4e5cbc1ffea0ec0d5a1713553fed044f140/expr.png\" style=\"display:inline;vertical-align:middle;\" /></a><br>\n",
       "<strong id=\"add_7_2\"><a class=\"ProveItLink\" href=\"_proofs_/add_7_2.ipynb\">add_7_2</a>:</strong> <a class=\"ProveItLink\" href=\"__pv_it/877ed0fcaccdfcb261761429c1312bfad6017dbb0/expr.ipynb\"><img src=\"__pv_it/877ed0fcaccdfcb261761429c1312bfad6017dbb0/expr.png\" style=\"display:inline;vertical-align:middle;\" /></a><br>\n",
       "<strong id=\"add_8_2\"><a class=\"ProveItLink\" href=\"_proofs_/add_8_2.ipynb\">add_8_2</a>:</strong> <a class=\"ProveItLink\" href=\"__pv_it/f86eb20fedd14638a01437cfdbedfb2b755747ed0/expr.ipynb\"><img src=\"__pv_it/f86eb20fedd14638a01437cfdbedfb2b755747ed0/expr.png\" style=\"display:inline;vertical-align:middle;\" /></a><br>\n",
       "<strong id=\"add_9_2\"><a class=\"ProveItLink\" href=\"_proofs_/add_9_2.ipynb\">add_9_2</a>:</strong> <a class=\"ProveItLink\" href=\"__pv_it/f1402b24f85b26e3473cf8331ebcfac9df131a1b0/expr.ipynb\"><img src=\"__pv_it/f1402b24f85b26e3473cf8331ebcfac9df131a1b0/expr.png\" style=\"display:inline;vertical-align:middle;\" /></a><br>"
      ],
      "text/plain": [
       "add_0_2: (0 + 2) = 2\n",
       "add_1_2: (1 + 2) = 3\n",
       "add_2_2: (2 + 2) = 4\n",
       "add_3_2: (3 + 2) = 5\n",
       "add_4_2: (4 + 2) = 6\n",
       "add_5_2: (5 + 2) = 7\n",
       "add_6_2: (6 + 2) = 8\n",
       "add_7_2: (7 + 2) = 9\n",
       "add_8_2: (8 + 2) = 10\n",
       "add_9_2: (9 + 2) = 11"
      ]
     },
     "execution_count": 10,
     "metadata": {},
     "output_type": "execute_result"
    }
   ],
   "source": [
    "add_0_2, add_1_2, add_2_2, add_3_2, add_4_2, add_5_2, add_6_2, add_7_2, add_8_2, add_9_2 = [Equals(Add(num(n), num(2)), num(n+2)) for n in range(10)]"
   ]
  },
  {
   "cell_type": "code",
   "execution_count": 11,
   "metadata": {},
   "outputs": [
    {
     "data": {
      "text/html": [
       "<strong id=\"add_0_3\"><a class=\"ProveItLink\" href=\"_proofs_/add_0_3.ipynb\">add_0_3</a>:</strong> <a class=\"ProveItLink\" href=\"__pv_it/7470088247b7b37054f26ae84222b7e0499a91ae0/expr.ipynb\"><img src=\"__pv_it/7470088247b7b37054f26ae84222b7e0499a91ae0/expr.png\" style=\"display:inline;vertical-align:middle;\" /></a><br>\n",
       "<strong id=\"add_1_3\"><a class=\"ProveItLink\" href=\"_proofs_/add_1_3.ipynb\">add_1_3</a>:</strong> <a class=\"ProveItLink\" href=\"__pv_it/3d72ad06e2bafed20640d60c05c5d7c3402405120/expr.ipynb\"><img src=\"__pv_it/3d72ad06e2bafed20640d60c05c5d7c3402405120/expr.png\" style=\"display:inline;vertical-align:middle;\" /></a><br>\n",
       "<strong id=\"add_2_3\"><a class=\"ProveItLink\" href=\"_proofs_/add_2_3.ipynb\">add_2_3</a>:</strong> <a class=\"ProveItLink\" href=\"__pv_it/1630277576bc7bbba18b1643ac5d687a611bafb20/expr.ipynb\"><img src=\"__pv_it/1630277576bc7bbba18b1643ac5d687a611bafb20/expr.png\" style=\"display:inline;vertical-align:middle;\" /></a><br>\n",
       "<strong id=\"add_3_3\"><a class=\"ProveItLink\" href=\"_proofs_/add_3_3.ipynb\">add_3_3</a>:</strong> <a class=\"ProveItLink\" href=\"__pv_it/3aaae05e727901b98dff772f166e10ab222942f20/expr.ipynb\"><img src=\"__pv_it/3aaae05e727901b98dff772f166e10ab222942f20/expr.png\" style=\"display:inline;vertical-align:middle;\" /></a><br>\n",
       "<strong id=\"add_4_3\"><a class=\"ProveItLink\" href=\"_proofs_/add_4_3.ipynb\">add_4_3</a>:</strong> <a class=\"ProveItLink\" href=\"__pv_it/cab61d61b120a2ba999d84f1c8d5e727cfdeac1c0/expr.ipynb\"><img src=\"__pv_it/cab61d61b120a2ba999d84f1c8d5e727cfdeac1c0/expr.png\" style=\"display:inline;vertical-align:middle;\" /></a><br>\n",
       "<strong id=\"add_5_3\"><a class=\"ProveItLink\" href=\"_proofs_/add_5_3.ipynb\">add_5_3</a>:</strong> <a class=\"ProveItLink\" href=\"__pv_it/99a3c8ed65188eac6c48234cc7f70a0fef04ed060/expr.ipynb\"><img src=\"__pv_it/99a3c8ed65188eac6c48234cc7f70a0fef04ed060/expr.png\" style=\"display:inline;vertical-align:middle;\" /></a><br>\n",
       "<strong id=\"add_6_3\"><a class=\"ProveItLink\" href=\"_proofs_/add_6_3.ipynb\">add_6_3</a>:</strong> <a class=\"ProveItLink\" href=\"__pv_it/04b899576d158a801a6f3bdb7b398f63558e54360/expr.ipynb\"><img src=\"__pv_it/04b899576d158a801a6f3bdb7b398f63558e54360/expr.png\" style=\"display:inline;vertical-align:middle;\" /></a><br>\n",
       "<strong id=\"add_7_3\"><a class=\"ProveItLink\" href=\"_proofs_/add_7_3.ipynb\">add_7_3</a>:</strong> <a class=\"ProveItLink\" href=\"__pv_it/8b4ce1720d32bd5af6eb49e7ad4b9d60903034850/expr.ipynb\"><img src=\"__pv_it/8b4ce1720d32bd5af6eb49e7ad4b9d60903034850/expr.png\" style=\"display:inline;vertical-align:middle;\" /></a><br>\n",
       "<strong id=\"add_8_3\"><a class=\"ProveItLink\" href=\"_proofs_/add_8_3.ipynb\">add_8_3</a>:</strong> <a class=\"ProveItLink\" href=\"__pv_it/566946d2cb986dc572bdb2413c727d647df115520/expr.ipynb\"><img src=\"__pv_it/566946d2cb986dc572bdb2413c727d647df115520/expr.png\" style=\"display:inline;vertical-align:middle;\" /></a><br>\n",
       "<strong id=\"add_9_3\"><a class=\"ProveItLink\" href=\"_proofs_/add_9_3.ipynb\">add_9_3</a>:</strong> <a class=\"ProveItLink\" href=\"__pv_it/c8220d5dc4932dfcb835c67ec5ba72b9592bf3080/expr.ipynb\"><img src=\"__pv_it/c8220d5dc4932dfcb835c67ec5ba72b9592bf3080/expr.png\" style=\"display:inline;vertical-align:middle;\" /></a><br>"
      ],
      "text/plain": [
       "add_0_3: (0 + 3) = 3\n",
       "add_1_3: (1 + 3) = 4\n",
       "add_2_3: (2 + 3) = 5\n",
       "add_3_3: (3 + 3) = 6\n",
       "add_4_3: (4 + 3) = 7\n",
       "add_5_3: (5 + 3) = 8\n",
       "add_6_3: (6 + 3) = 9\n",
       "add_7_3: (7 + 3) = 10\n",
       "add_8_3: (8 + 3) = 11\n",
       "add_9_3: (9 + 3) = 12"
      ]
     },
     "execution_count": 11,
     "metadata": {},
     "output_type": "execute_result"
    }
   ],
   "source": [
    "add_0_3, add_1_3, add_2_3, add_3_3, add_4_3, add_5_3, add_6_3, add_7_3, add_8_3, add_9_3 = [Equals(Add(num(n), num(3)), num(n+3)) for n in range(10)]"
   ]
  },
  {
   "cell_type": "code",
   "execution_count": 12,
   "metadata": {},
   "outputs": [
    {
     "data": {
      "text/html": [
       "<strong id=\"add_0_4\"><a class=\"ProveItLink\" href=\"_proofs_/add_0_4.ipynb\">add_0_4</a>:</strong> <a class=\"ProveItLink\" href=\"__pv_it/89a46e5e8c45028dc61a316ef727802f98a98d010/expr.ipynb\"><img src=\"__pv_it/89a46e5e8c45028dc61a316ef727802f98a98d010/expr.png\" style=\"display:inline;vertical-align:middle;\" /></a><br>\n",
       "<strong id=\"add_1_4\"><a class=\"ProveItLink\" href=\"_proofs_/add_1_4.ipynb\">add_1_4</a>:</strong> <a class=\"ProveItLink\" href=\"__pv_it/e47b1dd5f9505baee45dfacb99bda8152a7852810/expr.ipynb\"><img src=\"__pv_it/e47b1dd5f9505baee45dfacb99bda8152a7852810/expr.png\" style=\"display:inline;vertical-align:middle;\" /></a><br>\n",
       "<strong id=\"add_2_4\"><a class=\"ProveItLink\" href=\"_proofs_/add_2_4.ipynb\">add_2_4</a>:</strong> <a class=\"ProveItLink\" href=\"__pv_it/be905408ce8376ded4b4d1712938e97e14cc7b140/expr.ipynb\"><img src=\"__pv_it/be905408ce8376ded4b4d1712938e97e14cc7b140/expr.png\" style=\"display:inline;vertical-align:middle;\" /></a><br>\n",
       "<strong id=\"add_3_4\"><a class=\"ProveItLink\" href=\"_proofs_/add_3_4.ipynb\">add_3_4</a>:</strong> <a class=\"ProveItLink\" href=\"__pv_it/37737227a20da8cf2818b20b0043870e8af2bba90/expr.ipynb\"><img src=\"__pv_it/37737227a20da8cf2818b20b0043870e8af2bba90/expr.png\" style=\"display:inline;vertical-align:middle;\" /></a><br>\n",
       "<strong id=\"add_4_4\"><a class=\"ProveItLink\" href=\"_proofs_/add_4_4.ipynb\">add_4_4</a>:</strong> <a class=\"ProveItLink\" href=\"__pv_it/3a588c10ebdee16b666318f48e978269b5c23ed00/expr.ipynb\"><img src=\"__pv_it/3a588c10ebdee16b666318f48e978269b5c23ed00/expr.png\" style=\"display:inline;vertical-align:middle;\" /></a><br>\n",
       "<strong id=\"add_5_4\"><a class=\"ProveItLink\" href=\"_proofs_/add_5_4.ipynb\">add_5_4</a>:</strong> <a class=\"ProveItLink\" href=\"__pv_it/7ee75da749102f2aeddd459edb160d048275926a0/expr.ipynb\"><img src=\"__pv_it/7ee75da749102f2aeddd459edb160d048275926a0/expr.png\" style=\"display:inline;vertical-align:middle;\" /></a><br>\n",
       "<strong id=\"add_6_4\"><a class=\"ProveItLink\" href=\"_proofs_/add_6_4.ipynb\">add_6_4</a>:</strong> <a class=\"ProveItLink\" href=\"__pv_it/26d7f31b7d3edb9e7e2b5f4acd3161d01abcb8300/expr.ipynb\"><img src=\"__pv_it/26d7f31b7d3edb9e7e2b5f4acd3161d01abcb8300/expr.png\" style=\"display:inline;vertical-align:middle;\" /></a><br>\n",
       "<strong id=\"add_7_4\"><a class=\"ProveItLink\" href=\"_proofs_/add_7_4.ipynb\">add_7_4</a>:</strong> <a class=\"ProveItLink\" href=\"__pv_it/28cb53e4f8468f75e23c20c28930abd5832e03960/expr.ipynb\"><img src=\"__pv_it/28cb53e4f8468f75e23c20c28930abd5832e03960/expr.png\" style=\"display:inline;vertical-align:middle;\" /></a><br>\n",
       "<strong id=\"add_8_4\"><a class=\"ProveItLink\" href=\"_proofs_/add_8_4.ipynb\">add_8_4</a>:</strong> <a class=\"ProveItLink\" href=\"__pv_it/e77d920706dd5170649f1d8df7ccb5b4844566130/expr.ipynb\"><img src=\"__pv_it/e77d920706dd5170649f1d8df7ccb5b4844566130/expr.png\" style=\"display:inline;vertical-align:middle;\" /></a><br>\n",
       "<strong id=\"add_9_4\"><a class=\"ProveItLink\" href=\"_proofs_/add_9_4.ipynb\">add_9_4</a>:</strong> <a class=\"ProveItLink\" href=\"__pv_it/12c08ff19d2a42fcd53377a1f490163d539480110/expr.ipynb\"><img src=\"__pv_it/12c08ff19d2a42fcd53377a1f490163d539480110/expr.png\" style=\"display:inline;vertical-align:middle;\" /></a><br>"
      ],
      "text/plain": [
       "add_0_4: (0 + 4) = 4\n",
       "add_1_4: (1 + 4) = 5\n",
       "add_2_4: (2 + 4) = 6\n",
       "add_3_4: (3 + 4) = 7\n",
       "add_4_4: (4 + 4) = 8\n",
       "add_5_4: (5 + 4) = 9\n",
       "add_6_4: (6 + 4) = 10\n",
       "add_7_4: (7 + 4) = 11\n",
       "add_8_4: (8 + 4) = 12\n",
       "add_9_4: (9 + 4) = 13"
      ]
     },
     "execution_count": 12,
     "metadata": {},
     "output_type": "execute_result"
    }
   ],
   "source": [
    "add_0_4, add_1_4, add_2_4, add_3_4, add_4_4, add_5_4, add_6_4, add_7_4, add_8_4, add_9_4 = [Equals(Add(num(n), num(4)), num(n+4)) for n in range(10)]"
   ]
  },
  {
   "cell_type": "code",
   "execution_count": 13,
   "metadata": {},
   "outputs": [
    {
     "data": {
      "text/html": [
       "<strong id=\"add_0_5\"><a class=\"ProveItLink\" href=\"_proofs_/add_0_5.ipynb\">add_0_5</a>:</strong> <a class=\"ProveItLink\" href=\"__pv_it/71e794cb104cadf9597c890d8a509d8f36a6f2830/expr.ipynb\"><img src=\"__pv_it/71e794cb104cadf9597c890d8a509d8f36a6f2830/expr.png\" style=\"display:inline;vertical-align:middle;\" /></a><br>\n",
       "<strong id=\"add_1_5\"><a class=\"ProveItLink\" href=\"_proofs_/add_1_5.ipynb\">add_1_5</a>:</strong> <a class=\"ProveItLink\" href=\"__pv_it/7b23833ae44833d8296ca7dae1932f23a227bc9d0/expr.ipynb\"><img src=\"__pv_it/7b23833ae44833d8296ca7dae1932f23a227bc9d0/expr.png\" style=\"display:inline;vertical-align:middle;\" /></a><br>\n",
       "<strong id=\"add_2_5\"><a class=\"ProveItLink\" href=\"_proofs_/add_2_5.ipynb\">add_2_5</a>:</strong> <a class=\"ProveItLink\" href=\"__pv_it/d00543a1a8da540952427ccba466b60cb64cb2830/expr.ipynb\"><img src=\"__pv_it/d00543a1a8da540952427ccba466b60cb64cb2830/expr.png\" style=\"display:inline;vertical-align:middle;\" /></a><br>\n",
       "<strong id=\"add_3_5\"><a class=\"ProveItLink\" href=\"_proofs_/add_3_5.ipynb\">add_3_5</a>:</strong> <a class=\"ProveItLink\" href=\"__pv_it/3d97d4b1c979d504ce21c2b008c960a6af2894480/expr.ipynb\"><img src=\"__pv_it/3d97d4b1c979d504ce21c2b008c960a6af2894480/expr.png\" style=\"display:inline;vertical-align:middle;\" /></a><br>\n",
       "<strong id=\"add_4_5\"><a class=\"ProveItLink\" href=\"_proofs_/add_4_5.ipynb\">add_4_5</a>:</strong> <a class=\"ProveItLink\" href=\"__pv_it/8a35eb8bead2abc94aabe93c9f0b09b492bb022e0/expr.ipynb\"><img src=\"__pv_it/8a35eb8bead2abc94aabe93c9f0b09b492bb022e0/expr.png\" style=\"display:inline;vertical-align:middle;\" /></a><br>\n",
       "<strong id=\"add_5_5\"><a class=\"ProveItLink\" href=\"_proofs_/add_5_5.ipynb\">add_5_5</a>:</strong> <a class=\"ProveItLink\" href=\"__pv_it/227fc8ecaa29fc3748ab085f0420d69ac3f7671c0/expr.ipynb\"><img src=\"__pv_it/227fc8ecaa29fc3748ab085f0420d69ac3f7671c0/expr.png\" style=\"display:inline;vertical-align:middle;\" /></a><br>\n",
       "<strong id=\"add_6_5\"><a class=\"ProveItLink\" href=\"_proofs_/add_6_5.ipynb\">add_6_5</a>:</strong> <a class=\"ProveItLink\" href=\"__pv_it/d95c54fd75e7ca7de7db9731435b30f16965781c0/expr.ipynb\"><img src=\"__pv_it/d95c54fd75e7ca7de7db9731435b30f16965781c0/expr.png\" style=\"display:inline;vertical-align:middle;\" /></a><br>\n",
       "<strong id=\"add_7_5\"><a class=\"ProveItLink\" href=\"_proofs_/add_7_5.ipynb\">add_7_5</a>:</strong> <a class=\"ProveItLink\" href=\"__pv_it/b38f2f9f30687fca73cd5ea3325eb4aa6e2ef6c70/expr.ipynb\"><img src=\"__pv_it/b38f2f9f30687fca73cd5ea3325eb4aa6e2ef6c70/expr.png\" style=\"display:inline;vertical-align:middle;\" /></a><br>\n",
       "<strong id=\"add_8_5\"><a class=\"ProveItLink\" href=\"_proofs_/add_8_5.ipynb\">add_8_5</a>:</strong> <a class=\"ProveItLink\" href=\"__pv_it/09f74a4a5f63ff9becda11549a2aabf22f0010660/expr.ipynb\"><img src=\"__pv_it/09f74a4a5f63ff9becda11549a2aabf22f0010660/expr.png\" style=\"display:inline;vertical-align:middle;\" /></a><br>\n",
       "<strong id=\"add_9_5\"><a class=\"ProveItLink\" href=\"_proofs_/add_9_5.ipynb\">add_9_5</a>:</strong> <a class=\"ProveItLink\" href=\"__pv_it/604670c89865213f70d1906d4e2bbe453220e8090/expr.ipynb\"><img src=\"__pv_it/604670c89865213f70d1906d4e2bbe453220e8090/expr.png\" style=\"display:inline;vertical-align:middle;\" /></a><br>"
      ],
      "text/plain": [
       "add_0_5: (0 + 5) = 5\n",
       "add_1_5: (1 + 5) = 6\n",
       "add_2_5: (2 + 5) = 7\n",
       "add_3_5: (3 + 5) = 8\n",
       "add_4_5: (4 + 5) = 9\n",
       "add_5_5: (5 + 5) = 10\n",
       "add_6_5: (6 + 5) = 11\n",
       "add_7_5: (7 + 5) = 12\n",
       "add_8_5: (8 + 5) = 13\n",
       "add_9_5: (9 + 5) = 14"
      ]
     },
     "execution_count": 13,
     "metadata": {},
     "output_type": "execute_result"
    }
   ],
   "source": [
    "add_0_5, add_1_5, add_2_5, add_3_5, add_4_5, add_5_5, add_6_5, add_7_5, add_8_5, add_9_5 = [Equals(Add(num(n), num(5)), num(n+5)) for n in range(10)]"
   ]
  },
  {
   "cell_type": "code",
   "execution_count": 14,
   "metadata": {},
   "outputs": [
    {
     "data": {
      "text/html": [
       "<strong id=\"add_0_6\"><a class=\"ProveItLink\" href=\"_proofs_/add_0_6.ipynb\">add_0_6</a>:</strong> <a class=\"ProveItLink\" href=\"__pv_it/488d6882417f2910e43f775acaec8c56e2970c010/expr.ipynb\"><img src=\"__pv_it/488d6882417f2910e43f775acaec8c56e2970c010/expr.png\" style=\"display:inline;vertical-align:middle;\" /></a><br>\n",
       "<strong id=\"add_1_6\"><a class=\"ProveItLink\" href=\"_proofs_/add_1_6.ipynb\">add_1_6</a>:</strong> <a class=\"ProveItLink\" href=\"__pv_it/2a590ffecf46b94b90f0755e34e3f77525402ed30/expr.ipynb\"><img src=\"__pv_it/2a590ffecf46b94b90f0755e34e3f77525402ed30/expr.png\" style=\"display:inline;vertical-align:middle;\" /></a><br>\n",
       "<strong id=\"add_2_6\"><a class=\"ProveItLink\" href=\"_proofs_/add_2_6.ipynb\">add_2_6</a>:</strong> <a class=\"ProveItLink\" href=\"__pv_it/7a490d30802abc620fd78088c5fbe66e620f9f1d0/expr.ipynb\"><img src=\"__pv_it/7a490d30802abc620fd78088c5fbe66e620f9f1d0/expr.png\" style=\"display:inline;vertical-align:middle;\" /></a><br>\n",
       "<strong id=\"add_3_6\"><a class=\"ProveItLink\" href=\"_proofs_/add_3_6.ipynb\">add_3_6</a>:</strong> <a class=\"ProveItLink\" href=\"__pv_it/726341668edd9c7b1387608a4424fe57d95466150/expr.ipynb\"><img src=\"__pv_it/726341668edd9c7b1387608a4424fe57d95466150/expr.png\" style=\"display:inline;vertical-align:middle;\" /></a><br>\n",
       "<strong id=\"add_4_6\"><a class=\"ProveItLink\" href=\"_proofs_/add_4_6.ipynb\">add_4_6</a>:</strong> <a class=\"ProveItLink\" href=\"__pv_it/ab19d8fd945e9c5e5638f0afb79f796e4b7f9f570/expr.ipynb\"><img src=\"__pv_it/ab19d8fd945e9c5e5638f0afb79f796e4b7f9f570/expr.png\" style=\"display:inline;vertical-align:middle;\" /></a><br>\n",
       "<strong id=\"add_5_6\"><a class=\"ProveItLink\" href=\"_proofs_/add_5_6.ipynb\">add_5_6</a>:</strong> <a class=\"ProveItLink\" href=\"__pv_it/ed8206095757462aa3f4a5cbcfc1fd7e3e5bb0170/expr.ipynb\"><img src=\"__pv_it/ed8206095757462aa3f4a5cbcfc1fd7e3e5bb0170/expr.png\" style=\"display:inline;vertical-align:middle;\" /></a><br>\n",
       "<strong id=\"add_6_6\"><a class=\"ProveItLink\" href=\"_proofs_/add_6_6.ipynb\">add_6_6</a>:</strong> <a class=\"ProveItLink\" href=\"__pv_it/9c981c7eaf79b9ed4c61443f5c92e17221186cca0/expr.ipynb\"><img src=\"__pv_it/9c981c7eaf79b9ed4c61443f5c92e17221186cca0/expr.png\" style=\"display:inline;vertical-align:middle;\" /></a><br>\n",
       "<strong id=\"add_7_6\"><a class=\"ProveItLink\" href=\"_proofs_/add_7_6.ipynb\">add_7_6</a>:</strong> <a class=\"ProveItLink\" href=\"__pv_it/554df950525127c5d075382cf40d11838d060d460/expr.ipynb\"><img src=\"__pv_it/554df950525127c5d075382cf40d11838d060d460/expr.png\" style=\"display:inline;vertical-align:middle;\" /></a><br>\n",
       "<strong id=\"add_8_6\"><a class=\"ProveItLink\" href=\"_proofs_/add_8_6.ipynb\">add_8_6</a>:</strong> <a class=\"ProveItLink\" href=\"__pv_it/c99618f84c5458f4bd34994afb8358660245fc990/expr.ipynb\"><img src=\"__pv_it/c99618f84c5458f4bd34994afb8358660245fc990/expr.png\" style=\"display:inline;vertical-align:middle;\" /></a><br>\n",
       "<strong id=\"add_9_6\"><a class=\"ProveItLink\" href=\"_proofs_/add_9_6.ipynb\">add_9_6</a>:</strong> <a class=\"ProveItLink\" href=\"__pv_it/6c0500834503b78eed785dd35e05175038d93b370/expr.ipynb\"><img src=\"__pv_it/6c0500834503b78eed785dd35e05175038d93b370/expr.png\" style=\"display:inline;vertical-align:middle;\" /></a><br>"
      ],
      "text/plain": [
       "add_0_6: (0 + 6) = 6\n",
       "add_1_6: (1 + 6) = 7\n",
       "add_2_6: (2 + 6) = 8\n",
       "add_3_6: (3 + 6) = 9\n",
       "add_4_6: (4 + 6) = 10\n",
       "add_5_6: (5 + 6) = 11\n",
       "add_6_6: (6 + 6) = 12\n",
       "add_7_6: (7 + 6) = 13\n",
       "add_8_6: (8 + 6) = 14\n",
       "add_9_6: (9 + 6) = 15"
      ]
     },
     "execution_count": 14,
     "metadata": {},
     "output_type": "execute_result"
    }
   ],
   "source": [
    "add_0_6, add_1_6, add_2_6, add_3_6, add_4_6, add_5_6, add_6_6, add_7_6, add_8_6, add_9_6 = [Equals(Add(num(n), num(6)), num(n+6)) for n in range(10)]"
   ]
  },
  {
   "cell_type": "code",
   "execution_count": 15,
   "metadata": {},
   "outputs": [
    {
     "data": {
      "text/html": [
       "<strong id=\"add_0_7\"><a class=\"ProveItLink\" href=\"_proofs_/add_0_7.ipynb\">add_0_7</a>:</strong> <a class=\"ProveItLink\" href=\"__pv_it/b8fcf39295b9ca3e668c473ba2c890c601a754de0/expr.ipynb\"><img src=\"__pv_it/b8fcf39295b9ca3e668c473ba2c890c601a754de0/expr.png\" style=\"display:inline;vertical-align:middle;\" /></a><br>\n",
       "<strong id=\"add_1_7\"><a class=\"ProveItLink\" href=\"_proofs_/add_1_7.ipynb\">add_1_7</a>:</strong> <a class=\"ProveItLink\" href=\"__pv_it/308846af760771ec77852e7c53e6d281e3857af80/expr.ipynb\"><img src=\"__pv_it/308846af760771ec77852e7c53e6d281e3857af80/expr.png\" style=\"display:inline;vertical-align:middle;\" /></a><br>\n",
       "<strong id=\"add_2_7\"><a class=\"ProveItLink\" href=\"_proofs_/add_2_7.ipynb\">add_2_7</a>:</strong> <a class=\"ProveItLink\" href=\"__pv_it/b42b42a3b67599a4fbbe517b9407c1241c4978280/expr.ipynb\"><img src=\"__pv_it/b42b42a3b67599a4fbbe517b9407c1241c4978280/expr.png\" style=\"display:inline;vertical-align:middle;\" /></a><br>\n",
       "<strong id=\"add_3_7\"><a class=\"ProveItLink\" href=\"_proofs_/add_3_7.ipynb\">add_3_7</a>:</strong> <a class=\"ProveItLink\" href=\"__pv_it/627a7f9dfb0913de4b9856cc27e98465ebd7ba110/expr.ipynb\"><img src=\"__pv_it/627a7f9dfb0913de4b9856cc27e98465ebd7ba110/expr.png\" style=\"display:inline;vertical-align:middle;\" /></a><br>\n",
       "<strong id=\"add_4_7\"><a class=\"ProveItLink\" href=\"_proofs_/add_4_7.ipynb\">add_4_7</a>:</strong> <a class=\"ProveItLink\" href=\"__pv_it/b35518f76dcf6ce25c64fea002614f902a5531190/expr.ipynb\"><img src=\"__pv_it/b35518f76dcf6ce25c64fea002614f902a5531190/expr.png\" style=\"display:inline;vertical-align:middle;\" /></a><br>\n",
       "<strong id=\"add_5_7\"><a class=\"ProveItLink\" href=\"_proofs_/add_5_7.ipynb\">add_5_7</a>:</strong> <a class=\"ProveItLink\" href=\"__pv_it/fbbae281e68f4137a2b3fb64024cae4765a8cf7f0/expr.ipynb\"><img src=\"__pv_it/fbbae281e68f4137a2b3fb64024cae4765a8cf7f0/expr.png\" style=\"display:inline;vertical-align:middle;\" /></a><br>\n",
       "<strong id=\"add_6_7\"><a class=\"ProveItLink\" href=\"_proofs_/add_6_7.ipynb\">add_6_7</a>:</strong> <a class=\"ProveItLink\" href=\"__pv_it/0ba388adb2277f86afb48c3bf0e6f127714959440/expr.ipynb\"><img src=\"__pv_it/0ba388adb2277f86afb48c3bf0e6f127714959440/expr.png\" style=\"display:inline;vertical-align:middle;\" /></a><br>\n",
       "<strong id=\"add_7_7\"><a class=\"ProveItLink\" href=\"_proofs_/add_7_7.ipynb\">add_7_7</a>:</strong> <a class=\"ProveItLink\" href=\"__pv_it/3a24d1618a3c5acb75803447419ecc7f9aeef9110/expr.ipynb\"><img src=\"__pv_it/3a24d1618a3c5acb75803447419ecc7f9aeef9110/expr.png\" style=\"display:inline;vertical-align:middle;\" /></a><br>\n",
       "<strong id=\"add_8_7\"><a class=\"ProveItLink\" href=\"_proofs_/add_8_7.ipynb\">add_8_7</a>:</strong> <a class=\"ProveItLink\" href=\"__pv_it/c1e08d80002c70f03a8cdf8fc4415cff2ff6e9280/expr.ipynb\"><img src=\"__pv_it/c1e08d80002c70f03a8cdf8fc4415cff2ff6e9280/expr.png\" style=\"display:inline;vertical-align:middle;\" /></a><br>\n",
       "<strong id=\"add_9_7\"><a class=\"ProveItLink\" href=\"_proofs_/add_9_7.ipynb\">add_9_7</a>:</strong> <a class=\"ProveItLink\" href=\"__pv_it/14bc602867a9fb130984abf9422c5a16fb321e380/expr.ipynb\"><img src=\"__pv_it/14bc602867a9fb130984abf9422c5a16fb321e380/expr.png\" style=\"display:inline;vertical-align:middle;\" /></a><br>"
      ],
      "text/plain": [
       "add_0_7: (0 + 7) = 7\n",
       "add_1_7: (1 + 7) = 8\n",
       "add_2_7: (2 + 7) = 9\n",
       "add_3_7: (3 + 7) = 10\n",
       "add_4_7: (4 + 7) = 11\n",
       "add_5_7: (5 + 7) = 12\n",
       "add_6_7: (6 + 7) = 13\n",
       "add_7_7: (7 + 7) = 14\n",
       "add_8_7: (8 + 7) = 15\n",
       "add_9_7: (9 + 7) = 16"
      ]
     },
     "execution_count": 15,
     "metadata": {},
     "output_type": "execute_result"
    }
   ],
   "source": [
    "add_0_7, add_1_7, add_2_7, add_3_7, add_4_7, add_5_7, add_6_7, add_7_7, add_8_7, add_9_7 = [Equals(Add(num(n), num(7)), num(n+7)) for n in range(10)]"
   ]
  },
  {
   "cell_type": "code",
   "execution_count": 16,
   "metadata": {},
   "outputs": [
    {
     "data": {
      "text/html": [
       "<strong id=\"add_0_8\"><a class=\"ProveItLink\" href=\"_proofs_/add_0_8.ipynb\">add_0_8</a>:</strong> <a class=\"ProveItLink\" href=\"__pv_it/c3cdc347c21f5ba3574c7d3243793638cd3b377d0/expr.ipynb\"><img src=\"__pv_it/c3cdc347c21f5ba3574c7d3243793638cd3b377d0/expr.png\" style=\"display:inline;vertical-align:middle;\" /></a><br>\n",
       "<strong id=\"add_1_8\"><a class=\"ProveItLink\" href=\"_proofs_/add_1_8.ipynb\">add_1_8</a>:</strong> <a class=\"ProveItLink\" href=\"__pv_it/6718fc63112e2424556dfa2aa5e0a12ac93bb9f00/expr.ipynb\"><img src=\"__pv_it/6718fc63112e2424556dfa2aa5e0a12ac93bb9f00/expr.png\" style=\"display:inline;vertical-align:middle;\" /></a><br>\n",
       "<strong id=\"add_2_8\"><a class=\"ProveItLink\" href=\"_proofs_/add_2_8.ipynb\">add_2_8</a>:</strong> <a class=\"ProveItLink\" href=\"__pv_it/6c083623cb25c8bbfb17af27ebfaffcea69a7b930/expr.ipynb\"><img src=\"__pv_it/6c083623cb25c8bbfb17af27ebfaffcea69a7b930/expr.png\" style=\"display:inline;vertical-align:middle;\" /></a><br>\n",
       "<strong id=\"add_3_8\"><a class=\"ProveItLink\" href=\"_proofs_/add_3_8.ipynb\">add_3_8</a>:</strong> <a class=\"ProveItLink\" href=\"__pv_it/e2e32c0e5c78698014d7497b4239937d2112684e0/expr.ipynb\"><img src=\"__pv_it/e2e32c0e5c78698014d7497b4239937d2112684e0/expr.png\" style=\"display:inline;vertical-align:middle;\" /></a><br>\n",
       "<strong id=\"add_4_8\"><a class=\"ProveItLink\" href=\"_proofs_/add_4_8.ipynb\">add_4_8</a>:</strong> <a class=\"ProveItLink\" href=\"__pv_it/d65cc4a21a5d820f3319b5109230e40e1418e7160/expr.ipynb\"><img src=\"__pv_it/d65cc4a21a5d820f3319b5109230e40e1418e7160/expr.png\" style=\"display:inline;vertical-align:middle;\" /></a><br>\n",
       "<strong id=\"add_5_8\"><a class=\"ProveItLink\" href=\"_proofs_/add_5_8.ipynb\">add_5_8</a>:</strong> <a class=\"ProveItLink\" href=\"__pv_it/c0739066dd8ed3609d8c9e71bbf8cb57afa872560/expr.ipynb\"><img src=\"__pv_it/c0739066dd8ed3609d8c9e71bbf8cb57afa872560/expr.png\" style=\"display:inline;vertical-align:middle;\" /></a><br>\n",
       "<strong id=\"add_6_8\"><a class=\"ProveItLink\" href=\"_proofs_/add_6_8.ipynb\">add_6_8</a>:</strong> <a class=\"ProveItLink\" href=\"__pv_it/e8bd041be11b3b38493cb705a7b14112e27fadd00/expr.ipynb\"><img src=\"__pv_it/e8bd041be11b3b38493cb705a7b14112e27fadd00/expr.png\" style=\"display:inline;vertical-align:middle;\" /></a><br>\n",
       "<strong id=\"add_7_8\"><a class=\"ProveItLink\" href=\"_proofs_/add_7_8.ipynb\">add_7_8</a>:</strong> <a class=\"ProveItLink\" href=\"__pv_it/ea08db4184c0d90f9f63826b971a1714dc01b5710/expr.ipynb\"><img src=\"__pv_it/ea08db4184c0d90f9f63826b971a1714dc01b5710/expr.png\" style=\"display:inline;vertical-align:middle;\" /></a><br>\n",
       "<strong id=\"add_8_8\"><a class=\"ProveItLink\" href=\"_proofs_/add_8_8.ipynb\">add_8_8</a>:</strong> <a class=\"ProveItLink\" href=\"__pv_it/15e4186c9b2779af3278a56389cb4e0f5d5dfddf0/expr.ipynb\"><img src=\"__pv_it/15e4186c9b2779af3278a56389cb4e0f5d5dfddf0/expr.png\" style=\"display:inline;vertical-align:middle;\" /></a><br>\n",
       "<strong id=\"add_9_8\"><a class=\"ProveItLink\" href=\"_proofs_/add_9_8.ipynb\">add_9_8</a>:</strong> <a class=\"ProveItLink\" href=\"__pv_it/1a61daa0d34dc5840e247425e00e80189ca927230/expr.ipynb\"><img src=\"__pv_it/1a61daa0d34dc5840e247425e00e80189ca927230/expr.png\" style=\"display:inline;vertical-align:middle;\" /></a><br>"
      ],
      "text/plain": [
       "add_0_8: (0 + 8) = 8\n",
       "add_1_8: (1 + 8) = 9\n",
       "add_2_8: (2 + 8) = 10\n",
       "add_3_8: (3 + 8) = 11\n",
       "add_4_8: (4 + 8) = 12\n",
       "add_5_8: (5 + 8) = 13\n",
       "add_6_8: (6 + 8) = 14\n",
       "add_7_8: (7 + 8) = 15\n",
       "add_8_8: (8 + 8) = 16\n",
       "add_9_8: (9 + 8) = 17"
      ]
     },
     "execution_count": 16,
     "metadata": {},
     "output_type": "execute_result"
    }
   ],
   "source": [
    "add_0_8, add_1_8, add_2_8, add_3_8, add_4_8, add_5_8, add_6_8, add_7_8, add_8_8, add_9_8 = [Equals(Add(num(n), num(8)), num(n+8)) for n in range(10)]"
   ]
  },
  {
   "cell_type": "code",
   "execution_count": 17,
   "metadata": {},
   "outputs": [
    {
     "data": {
      "text/html": [
       "<strong id=\"add_0_9\"><a class=\"ProveItLink\" href=\"_proofs_/add_0_9.ipynb\">add_0_9</a>:</strong> <a class=\"ProveItLink\" href=\"__pv_it/4d338c176f366a04bc0590e4fa6d56ae413e14fe0/expr.ipynb\"><img src=\"__pv_it/4d338c176f366a04bc0590e4fa6d56ae413e14fe0/expr.png\" style=\"display:inline;vertical-align:middle;\" /></a><br>\n",
       "<strong id=\"add_1_9\"><a class=\"ProveItLink\" href=\"_proofs_/add_1_9.ipynb\">add_1_9</a>:</strong> <a class=\"ProveItLink\" href=\"__pv_it/a95dfd128aee43a98fd359c7836367ef79ddcdc80/expr.ipynb\"><img src=\"__pv_it/a95dfd128aee43a98fd359c7836367ef79ddcdc80/expr.png\" style=\"display:inline;vertical-align:middle;\" /></a><br>\n",
       "<strong id=\"add_2_9\"><a class=\"ProveItLink\" href=\"_proofs_/add_2_9.ipynb\">add_2_9</a>:</strong> <a class=\"ProveItLink\" href=\"__pv_it/56efb547b881d42310ad5c44c076e530a091d65f0/expr.ipynb\"><img src=\"__pv_it/56efb547b881d42310ad5c44c076e530a091d65f0/expr.png\" style=\"display:inline;vertical-align:middle;\" /></a><br>\n",
       "<strong id=\"add_3_9\"><a class=\"ProveItLink\" href=\"_proofs_/add_3_9.ipynb\">add_3_9</a>:</strong> <a class=\"ProveItLink\" href=\"__pv_it/2ae424dd91977b9693fbf6258ed03107f08bcbca0/expr.ipynb\"><img src=\"__pv_it/2ae424dd91977b9693fbf6258ed03107f08bcbca0/expr.png\" style=\"display:inline;vertical-align:middle;\" /></a><br>\n",
       "<strong id=\"add_4_9\"><a class=\"ProveItLink\" href=\"_proofs_/add_4_9.ipynb\">add_4_9</a>:</strong> <a class=\"ProveItLink\" href=\"__pv_it/ad64086509292023cd10c5aab306069ddd0e600e0/expr.ipynb\"><img src=\"__pv_it/ad64086509292023cd10c5aab306069ddd0e600e0/expr.png\" style=\"display:inline;vertical-align:middle;\" /></a><br>\n",
       "<strong id=\"add_5_9\"><a class=\"ProveItLink\" href=\"_proofs_/add_5_9.ipynb\">add_5_9</a>:</strong> <a class=\"ProveItLink\" href=\"__pv_it/3b5683d581a064af8989657da66946a0403f21730/expr.ipynb\"><img src=\"__pv_it/3b5683d581a064af8989657da66946a0403f21730/expr.png\" style=\"display:inline;vertical-align:middle;\" /></a><br>\n",
       "<strong id=\"add_6_9\"><a class=\"ProveItLink\" href=\"_proofs_/add_6_9.ipynb\">add_6_9</a>:</strong> <a class=\"ProveItLink\" href=\"__pv_it/1305451e0da79203a2d9081aeec4b787082b6bef0/expr.ipynb\"><img src=\"__pv_it/1305451e0da79203a2d9081aeec4b787082b6bef0/expr.png\" style=\"display:inline;vertical-align:middle;\" /></a><br>\n",
       "<strong id=\"add_7_9\"><a class=\"ProveItLink\" href=\"_proofs_/add_7_9.ipynb\">add_7_9</a>:</strong> <a class=\"ProveItLink\" href=\"__pv_it/7b033e2df8a72e5060dc1b1afdbf14ff07cc4a230/expr.ipynb\"><img src=\"__pv_it/7b033e2df8a72e5060dc1b1afdbf14ff07cc4a230/expr.png\" style=\"display:inline;vertical-align:middle;\" /></a><br>\n",
       "<strong id=\"add_8_9\"><a class=\"ProveItLink\" href=\"_proofs_/add_8_9.ipynb\">add_8_9</a>:</strong> <a class=\"ProveItLink\" href=\"__pv_it/5232ccc0f1c37015b0910e5a5860a5a0ca20d67e0/expr.ipynb\"><img src=\"__pv_it/5232ccc0f1c37015b0910e5a5860a5a0ca20d67e0/expr.png\" style=\"display:inline;vertical-align:middle;\" /></a><br>\n",
       "<strong id=\"add_9_9\"><a class=\"ProveItLink\" href=\"_proofs_/add_9_9.ipynb\">add_9_9</a>:</strong> <a class=\"ProveItLink\" href=\"__pv_it/3bf3aa0d8323f0da00df3bd30a25d70a7296566b0/expr.ipynb\"><img src=\"__pv_it/3bf3aa0d8323f0da00df3bd30a25d70a7296566b0/expr.png\" style=\"display:inline;vertical-align:middle;\" /></a><br>"
      ],
      "text/plain": [
       "add_0_9: (0 + 9) = 9\n",
       "add_1_9: (1 + 9) = 10\n",
       "add_2_9: (2 + 9) = 11\n",
       "add_3_9: (3 + 9) = 12\n",
       "add_4_9: (4 + 9) = 13\n",
       "add_5_9: (5 + 9) = 14\n",
       "add_6_9: (6 + 9) = 15\n",
       "add_7_9: (7 + 9) = 16\n",
       "add_8_9: (8 + 9) = 17\n",
       "add_9_9: (9 + 9) = 18"
      ]
     },
     "execution_count": 17,
     "metadata": {},
     "output_type": "execute_result"
    }
   ],
   "source": [
    "add_0_9, add_1_9, add_2_9, add_3_9, add_4_9, add_5_9, add_6_9, add_7_9, add_8_9, add_9_9 = [Equals(Add(num(n), num(9)), num(n+9)) for n in range(10)]"
   ]
  },
  {
   "cell_type": "markdown",
   "metadata": {},
   "source": [
    "### Multiplying digits"
   ]
  },
  {
   "cell_type": "code",
   "execution_count": 18,
   "metadata": {},
   "outputs": [
    {
     "data": {
      "text/html": [
       "<strong id=\"mult_0_0\"><a class=\"ProveItLink\" href=\"_proofs_/mult_0_0.ipynb\">mult_0_0</a>:</strong> <a class=\"ProveItLink\" href=\"__pv_it/771ef75e2eab4d34b437d154f0d440f6e8e3f7cc0/expr.ipynb\"><img src=\"__pv_it/771ef75e2eab4d34b437d154f0d440f6e8e3f7cc0/expr.png\" style=\"display:inline;vertical-align:middle;\" /></a><br>\n",
       "<strong id=\"mult_1_0\"><a class=\"ProveItLink\" href=\"_proofs_/mult_1_0.ipynb\">mult_1_0</a>:</strong> <a class=\"ProveItLink\" href=\"__pv_it/4313b2cce252330fce1aab6448c709335423ac250/expr.ipynb\"><img src=\"__pv_it/4313b2cce252330fce1aab6448c709335423ac250/expr.png\" style=\"display:inline;vertical-align:middle;\" /></a><br>\n",
       "<strong id=\"mult_2_0\"><a class=\"ProveItLink\" href=\"_proofs_/mult_2_0.ipynb\">mult_2_0</a>:</strong> <a class=\"ProveItLink\" href=\"__pv_it/fbd1b38f55ab0b3d757c31672cdfa2c55a66d0390/expr.ipynb\"><img src=\"__pv_it/fbd1b38f55ab0b3d757c31672cdfa2c55a66d0390/expr.png\" style=\"display:inline;vertical-align:middle;\" /></a><br>\n",
       "<strong id=\"mult_3_0\"><a class=\"ProveItLink\" href=\"_proofs_/mult_3_0.ipynb\">mult_3_0</a>:</strong> <a class=\"ProveItLink\" href=\"__pv_it/7aef0864ecca7c85232146bf03df1babec04ff270/expr.ipynb\"><img src=\"__pv_it/7aef0864ecca7c85232146bf03df1babec04ff270/expr.png\" style=\"display:inline;vertical-align:middle;\" /></a><br>\n",
       "<strong id=\"mult_4_0\"><a class=\"ProveItLink\" href=\"_proofs_/mult_4_0.ipynb\">mult_4_0</a>:</strong> <a class=\"ProveItLink\" href=\"__pv_it/86259e3a799fd84b18d873800237df0a180710a70/expr.ipynb\"><img src=\"__pv_it/86259e3a799fd84b18d873800237df0a180710a70/expr.png\" style=\"display:inline;vertical-align:middle;\" /></a><br>\n",
       "<strong id=\"mult_5_0\"><a class=\"ProveItLink\" href=\"_proofs_/mult_5_0.ipynb\">mult_5_0</a>:</strong> <a class=\"ProveItLink\" href=\"__pv_it/89f8f7cec05462774c081785fc4321b4aac5d4700/expr.ipynb\"><img src=\"__pv_it/89f8f7cec05462774c081785fc4321b4aac5d4700/expr.png\" style=\"display:inline;vertical-align:middle;\" /></a><br>\n",
       "<strong id=\"mult_6_0\"><a class=\"ProveItLink\" href=\"_proofs_/mult_6_0.ipynb\">mult_6_0</a>:</strong> <a class=\"ProveItLink\" href=\"__pv_it/1089aabc3b3ea4ea34eaee6991f7fb3acd3b0aab0/expr.ipynb\"><img src=\"__pv_it/1089aabc3b3ea4ea34eaee6991f7fb3acd3b0aab0/expr.png\" style=\"display:inline;vertical-align:middle;\" /></a><br>\n",
       "<strong id=\"mult_7_0\"><a class=\"ProveItLink\" href=\"_proofs_/mult_7_0.ipynb\">mult_7_0</a>:</strong> <a class=\"ProveItLink\" href=\"__pv_it/96d93dba703feb88deb580672e6a7e82771c0e3a0/expr.ipynb\"><img src=\"__pv_it/96d93dba703feb88deb580672e6a7e82771c0e3a0/expr.png\" style=\"display:inline;vertical-align:middle;\" /></a><br>\n",
       "<strong id=\"mult_8_0\"><a class=\"ProveItLink\" href=\"_proofs_/mult_8_0.ipynb\">mult_8_0</a>:</strong> <a class=\"ProveItLink\" href=\"__pv_it/e1ce6f2267fc4a304b63bd4a0d1baf0939e04ef70/expr.ipynb\"><img src=\"__pv_it/e1ce6f2267fc4a304b63bd4a0d1baf0939e04ef70/expr.png\" style=\"display:inline;vertical-align:middle;\" /></a><br>\n",
       "<strong id=\"mult_9_0\"><a class=\"ProveItLink\" href=\"_proofs_/mult_9_0.ipynb\">mult_9_0</a>:</strong> <a class=\"ProveItLink\" href=\"__pv_it/127545cba8809fc59371b98dbf7f075b09c160330/expr.ipynb\"><img src=\"__pv_it/127545cba8809fc59371b98dbf7f075b09c160330/expr.png\" style=\"display:inline;vertical-align:middle;\" /></a><br>"
      ],
      "text/plain": [
       "mult_0_0: (0 * 0) = 0\n",
       "mult_1_0: (1 * 0) = 0\n",
       "mult_2_0: (2 * 0) = 0\n",
       "mult_3_0: (3 * 0) = 0\n",
       "mult_4_0: (4 * 0) = 0\n",
       "mult_5_0: (5 * 0) = 0\n",
       "mult_6_0: (6 * 0) = 0\n",
       "mult_7_0: (7 * 0) = 0\n",
       "mult_8_0: (8 * 0) = 0\n",
       "mult_9_0: (9 * 0) = 0"
      ]
     },
     "execution_count": 18,
     "metadata": {},
     "output_type": "execute_result"
    }
   ],
   "source": [
    "mult_0_0, mult_1_0, mult_2_0, mult_3_0, mult_4_0, mult_5_0, mult_6_0, mult_7_0, mult_8_0, mult_9_0 = [Equals(Mult(num(n), num(0)), num(n*0)) for n in range(10)]"
   ]
  },
  {
   "cell_type": "code",
   "execution_count": 19,
   "metadata": {},
   "outputs": [
    {
     "data": {
      "text/html": [
       "<strong id=\"mult_0_1\"><a class=\"ProveItLink\" href=\"_proofs_/mult_0_1.ipynb\">mult_0_1</a>:</strong> <a class=\"ProveItLink\" href=\"__pv_it/b7488b4ce7a005f0af73eb797719882b45727d720/expr.ipynb\"><img src=\"__pv_it/b7488b4ce7a005f0af73eb797719882b45727d720/expr.png\" style=\"display:inline;vertical-align:middle;\" /></a><br>\n",
       "<strong id=\"mult_1_1\"><a class=\"ProveItLink\" href=\"_proofs_/mult_1_1.ipynb\">mult_1_1</a>:</strong> <a class=\"ProveItLink\" href=\"__pv_it/51b5687d189b60d5d9d255ccb7aee2ea2b0345ef0/expr.ipynb\"><img src=\"__pv_it/51b5687d189b60d5d9d255ccb7aee2ea2b0345ef0/expr.png\" style=\"display:inline;vertical-align:middle;\" /></a><br>\n",
       "<strong id=\"mult_2_1\"><a class=\"ProveItLink\" href=\"_proofs_/mult_2_1.ipynb\">mult_2_1</a>:</strong> <a class=\"ProveItLink\" href=\"__pv_it/0ea68bf795c3365511a5a3f5510a71f98ae2f2b30/expr.ipynb\"><img src=\"__pv_it/0ea68bf795c3365511a5a3f5510a71f98ae2f2b30/expr.png\" style=\"display:inline;vertical-align:middle;\" /></a><br>\n",
       "<strong id=\"mult_3_1\"><a class=\"ProveItLink\" href=\"_proofs_/mult_3_1.ipynb\">mult_3_1</a>:</strong> <a class=\"ProveItLink\" href=\"__pv_it/be129c02425562dd0995d0e2a1127973e08d123b0/expr.ipynb\"><img src=\"__pv_it/be129c02425562dd0995d0e2a1127973e08d123b0/expr.png\" style=\"display:inline;vertical-align:middle;\" /></a><br>\n",
       "<strong id=\"mult_4_1\"><a class=\"ProveItLink\" href=\"_proofs_/mult_4_1.ipynb\">mult_4_1</a>:</strong> <a class=\"ProveItLink\" href=\"__pv_it/695e3afbfcfa574e83962ee35e2104a3031767bc0/expr.ipynb\"><img src=\"__pv_it/695e3afbfcfa574e83962ee35e2104a3031767bc0/expr.png\" style=\"display:inline;vertical-align:middle;\" /></a><br>\n",
       "<strong id=\"mult_5_1\"><a class=\"ProveItLink\" href=\"_proofs_/mult_5_1.ipynb\">mult_5_1</a>:</strong> <a class=\"ProveItLink\" href=\"__pv_it/94131177d55e7136f2ba06bc6ecff042e7e0a6130/expr.ipynb\"><img src=\"__pv_it/94131177d55e7136f2ba06bc6ecff042e7e0a6130/expr.png\" style=\"display:inline;vertical-align:middle;\" /></a><br>\n",
       "<strong id=\"mult_6_1\"><a class=\"ProveItLink\" href=\"_proofs_/mult_6_1.ipynb\">mult_6_1</a>:</strong> <a class=\"ProveItLink\" href=\"__pv_it/4c2832d93e7e029c1b9ab4f62ffe3c3589f1c9070/expr.ipynb\"><img src=\"__pv_it/4c2832d93e7e029c1b9ab4f62ffe3c3589f1c9070/expr.png\" style=\"display:inline;vertical-align:middle;\" /></a><br>\n",
       "<strong id=\"mult_7_1\"><a class=\"ProveItLink\" href=\"_proofs_/mult_7_1.ipynb\">mult_7_1</a>:</strong> <a class=\"ProveItLink\" href=\"__pv_it/0538358e940cdb6575339e4d65248cfe4be4b2ba0/expr.ipynb\"><img src=\"__pv_it/0538358e940cdb6575339e4d65248cfe4be4b2ba0/expr.png\" style=\"display:inline;vertical-align:middle;\" /></a><br>\n",
       "<strong id=\"mult_8_1\"><a class=\"ProveItLink\" href=\"_proofs_/mult_8_1.ipynb\">mult_8_1</a>:</strong> <a class=\"ProveItLink\" href=\"__pv_it/f20a7a0b5c8b8169393be9cb6f2bed58e57439ea0/expr.ipynb\"><img src=\"__pv_it/f20a7a0b5c8b8169393be9cb6f2bed58e57439ea0/expr.png\" style=\"display:inline;vertical-align:middle;\" /></a><br>\n",
       "<strong id=\"mult_9_1\"><a class=\"ProveItLink\" href=\"_proofs_/mult_9_1.ipynb\">mult_9_1</a>:</strong> <a class=\"ProveItLink\" href=\"__pv_it/e872569ea23fe0e6f0ff8ea1470deba41f9ee0010/expr.ipynb\"><img src=\"__pv_it/e872569ea23fe0e6f0ff8ea1470deba41f9ee0010/expr.png\" style=\"display:inline;vertical-align:middle;\" /></a><br>"
      ],
      "text/plain": [
       "mult_0_1: (0 * 1) = 0\n",
       "mult_1_1: (1 * 1) = 1\n",
       "mult_2_1: (2 * 1) = 2\n",
       "mult_3_1: (3 * 1) = 3\n",
       "mult_4_1: (4 * 1) = 4\n",
       "mult_5_1: (5 * 1) = 5\n",
       "mult_6_1: (6 * 1) = 6\n",
       "mult_7_1: (7 * 1) = 7\n",
       "mult_8_1: (8 * 1) = 8\n",
       "mult_9_1: (9 * 1) = 9"
      ]
     },
     "execution_count": 19,
     "metadata": {},
     "output_type": "execute_result"
    }
   ],
   "source": [
    "mult_0_1, mult_1_1, mult_2_1, mult_3_1, mult_4_1, mult_5_1, mult_6_1, mult_7_1, mult_8_1, mult_9_1 = [Equals(Mult(num(n), num(1)), num(n*1)) for n in range(10)]"
   ]
  },
  {
   "cell_type": "code",
   "execution_count": 20,
   "metadata": {},
   "outputs": [
    {
     "data": {
      "text/html": [
       "<strong id=\"mult_0_2\"><a class=\"ProveItLink\" href=\"_proofs_/mult_0_2.ipynb\">mult_0_2</a>:</strong> <a class=\"ProveItLink\" href=\"__pv_it/a35120f7614e6a4b88f4be297a78ae33a80c56c80/expr.ipynb\"><img src=\"__pv_it/a35120f7614e6a4b88f4be297a78ae33a80c56c80/expr.png\" style=\"display:inline;vertical-align:middle;\" /></a><br>\n",
       "<strong id=\"mult_1_2\"><a class=\"ProveItLink\" href=\"_proofs_/mult_1_2.ipynb\">mult_1_2</a>:</strong> <a class=\"ProveItLink\" href=\"__pv_it/e69ed82fb1939bb550945a216f3331293ad8fba40/expr.ipynb\"><img src=\"__pv_it/e69ed82fb1939bb550945a216f3331293ad8fba40/expr.png\" style=\"display:inline;vertical-align:middle;\" /></a><br>\n",
       "<strong id=\"mult_2_2\"><a class=\"ProveItLink\" href=\"_proofs_/mult_2_2.ipynb\">mult_2_2</a>:</strong> <a class=\"ProveItLink\" href=\"__pv_it/9b27e8fa879d028e01d5a8e99383ba8b3715a3240/expr.ipynb\"><img src=\"__pv_it/9b27e8fa879d028e01d5a8e99383ba8b3715a3240/expr.png\" style=\"display:inline;vertical-align:middle;\" /></a><br>\n",
       "<strong id=\"mult_3_2\"><a class=\"ProveItLink\" href=\"_proofs_/mult_3_2.ipynb\">mult_3_2</a>:</strong> <a class=\"ProveItLink\" href=\"__pv_it/757f46298bd286053da358fa19b589c64d4452b70/expr.ipynb\"><img src=\"__pv_it/757f46298bd286053da358fa19b589c64d4452b70/expr.png\" style=\"display:inline;vertical-align:middle;\" /></a><br>\n",
       "<strong id=\"mult_4_2\"><a class=\"ProveItLink\" href=\"_proofs_/mult_4_2.ipynb\">mult_4_2</a>:</strong> <a class=\"ProveItLink\" href=\"__pv_it/d4a72c24651e3fdfa2264a40d197e73ca8226a360/expr.ipynb\"><img src=\"__pv_it/d4a72c24651e3fdfa2264a40d197e73ca8226a360/expr.png\" style=\"display:inline;vertical-align:middle;\" /></a><br>\n",
       "<strong id=\"mult_5_2\"><a class=\"ProveItLink\" href=\"_proofs_/mult_5_2.ipynb\">mult_5_2</a>:</strong> <a class=\"ProveItLink\" href=\"__pv_it/f7e41c3b421565ad46c02a1fb371f41b73c5f1370/expr.ipynb\"><img src=\"__pv_it/f7e41c3b421565ad46c02a1fb371f41b73c5f1370/expr.png\" style=\"display:inline;vertical-align:middle;\" /></a><br>\n",
       "<strong id=\"mult_6_2\"><a class=\"ProveItLink\" href=\"_proofs_/mult_6_2.ipynb\">mult_6_2</a>:</strong> <a class=\"ProveItLink\" href=\"__pv_it/dd984a02cbe23baca1873f1c5f04c54b7c7a20320/expr.ipynb\"><img src=\"__pv_it/dd984a02cbe23baca1873f1c5f04c54b7c7a20320/expr.png\" style=\"display:inline;vertical-align:middle;\" /></a><br>\n",
       "<strong id=\"mult_7_2\"><a class=\"ProveItLink\" href=\"_proofs_/mult_7_2.ipynb\">mult_7_2</a>:</strong> <a class=\"ProveItLink\" href=\"__pv_it/a5f7c33d07d411903f9f93e3637d9d98df7050560/expr.ipynb\"><img src=\"__pv_it/a5f7c33d07d411903f9f93e3637d9d98df7050560/expr.png\" style=\"display:inline;vertical-align:middle;\" /></a><br>\n",
       "<strong id=\"mult_8_2\"><a class=\"ProveItLink\" href=\"_proofs_/mult_8_2.ipynb\">mult_8_2</a>:</strong> <a class=\"ProveItLink\" href=\"__pv_it/54d36c8e72a01e04d72c0be73a9dbe7981577c1c0/expr.ipynb\"><img src=\"__pv_it/54d36c8e72a01e04d72c0be73a9dbe7981577c1c0/expr.png\" style=\"display:inline;vertical-align:middle;\" /></a><br>\n",
       "<strong id=\"mult_9_2\"><a class=\"ProveItLink\" href=\"_proofs_/mult_9_2.ipynb\">mult_9_2</a>:</strong> <a class=\"ProveItLink\" href=\"__pv_it/03d21f70420d74f0e4045205a2e7d8459516ddb50/expr.ipynb\"><img src=\"__pv_it/03d21f70420d74f0e4045205a2e7d8459516ddb50/expr.png\" style=\"display:inline;vertical-align:middle;\" /></a><br>"
      ],
      "text/plain": [
       "mult_0_2: (0 * 2) = 0\n",
       "mult_1_2: (1 * 2) = 2\n",
       "mult_2_2: (2 * 2) = 4\n",
       "mult_3_2: (3 * 2) = 6\n",
       "mult_4_2: (4 * 2) = 8\n",
       "mult_5_2: (5 * 2) = 10\n",
       "mult_6_2: (6 * 2) = 12\n",
       "mult_7_2: (7 * 2) = 14\n",
       "mult_8_2: (8 * 2) = 16\n",
       "mult_9_2: (9 * 2) = 18"
      ]
     },
     "execution_count": 20,
     "metadata": {},
     "output_type": "execute_result"
    }
   ],
   "source": [
    "mult_0_2, mult_1_2, mult_2_2, mult_3_2, mult_4_2, mult_5_2, mult_6_2, mult_7_2, mult_8_2, mult_9_2 = [Equals(Mult(num(n), num(2)), num(n*2)) for n in range(10)]"
   ]
  },
  {
   "cell_type": "code",
   "execution_count": 21,
   "metadata": {},
   "outputs": [
    {
     "data": {
      "text/html": [
       "<strong id=\"mult_0_3\"><a class=\"ProveItLink\" href=\"_proofs_/mult_0_3.ipynb\">mult_0_3</a>:</strong> <a class=\"ProveItLink\" href=\"__pv_it/13ad35b4819066f75fe7a394bfb8e6b5c936b6330/expr.ipynb\"><img src=\"__pv_it/13ad35b4819066f75fe7a394bfb8e6b5c936b6330/expr.png\" style=\"display:inline;vertical-align:middle;\" /></a><br>\n",
       "<strong id=\"mult_1_3\"><a class=\"ProveItLink\" href=\"_proofs_/mult_1_3.ipynb\">mult_1_3</a>:</strong> <a class=\"ProveItLink\" href=\"__pv_it/ee43ced26bbe250162dc5c36189e9735477e27380/expr.ipynb\"><img src=\"__pv_it/ee43ced26bbe250162dc5c36189e9735477e27380/expr.png\" style=\"display:inline;vertical-align:middle;\" /></a><br>\n",
       "<strong id=\"mult_2_3\"><a class=\"ProveItLink\" href=\"_proofs_/mult_2_3.ipynb\">mult_2_3</a>:</strong> <a class=\"ProveItLink\" href=\"__pv_it/28fdc21c904329628bb8f827da86a625b60362e90/expr.ipynb\"><img src=\"__pv_it/28fdc21c904329628bb8f827da86a625b60362e90/expr.png\" style=\"display:inline;vertical-align:middle;\" /></a><br>\n",
       "<strong id=\"mult_3_3\"><a class=\"ProveItLink\" href=\"_proofs_/mult_3_3.ipynb\">mult_3_3</a>:</strong> <a class=\"ProveItLink\" href=\"__pv_it/7e03daa0e4b7721b2aa9ee54b7e42b825c9408470/expr.ipynb\"><img src=\"__pv_it/7e03daa0e4b7721b2aa9ee54b7e42b825c9408470/expr.png\" style=\"display:inline;vertical-align:middle;\" /></a><br>\n",
       "<strong id=\"mult_4_3\"><a class=\"ProveItLink\" href=\"_proofs_/mult_4_3.ipynb\">mult_4_3</a>:</strong> <a class=\"ProveItLink\" href=\"__pv_it/6d7bad7649f2465bf95f550593a68e8497cf4abf0/expr.ipynb\"><img src=\"__pv_it/6d7bad7649f2465bf95f550593a68e8497cf4abf0/expr.png\" style=\"display:inline;vertical-align:middle;\" /></a><br>\n",
       "<strong id=\"mult_5_3\"><a class=\"ProveItLink\" href=\"_proofs_/mult_5_3.ipynb\">mult_5_3</a>:</strong> <a class=\"ProveItLink\" href=\"__pv_it/57bdf9f6af6d0a6e6293f8f38917c2ae9c5e4c340/expr.ipynb\"><img src=\"__pv_it/57bdf9f6af6d0a6e6293f8f38917c2ae9c5e4c340/expr.png\" style=\"display:inline;vertical-align:middle;\" /></a><br>\n",
       "<strong id=\"mult_6_3\"><a class=\"ProveItLink\" href=\"_proofs_/mult_6_3.ipynb\">mult_6_3</a>:</strong> <a class=\"ProveItLink\" href=\"__pv_it/8edbcbef9ef58787b3e36035eab82e7b27f2e8aa0/expr.ipynb\"><img src=\"__pv_it/8edbcbef9ef58787b3e36035eab82e7b27f2e8aa0/expr.png\" style=\"display:inline;vertical-align:middle;\" /></a><br>\n",
       "<strong id=\"mult_7_3\"><a class=\"ProveItLink\" href=\"_proofs_/mult_7_3.ipynb\">mult_7_3</a>:</strong> <a class=\"ProveItLink\" href=\"__pv_it/0c42565e4ef06ae6b022007b42bbe610cc8d6f630/expr.ipynb\"><img src=\"__pv_it/0c42565e4ef06ae6b022007b42bbe610cc8d6f630/expr.png\" style=\"display:inline;vertical-align:middle;\" /></a><br>\n",
       "<strong id=\"mult_8_3\"><a class=\"ProveItLink\" href=\"_proofs_/mult_8_3.ipynb\">mult_8_3</a>:</strong> <a class=\"ProveItLink\" href=\"__pv_it/56d05ca101e2efb59c54b8b54760c02b5fe20dfe0/expr.ipynb\"><img src=\"__pv_it/56d05ca101e2efb59c54b8b54760c02b5fe20dfe0/expr.png\" style=\"display:inline;vertical-align:middle;\" /></a><br>\n",
       "<strong id=\"mult_9_3\"><a class=\"ProveItLink\" href=\"_proofs_/mult_9_3.ipynb\">mult_9_3</a>:</strong> <a class=\"ProveItLink\" href=\"__pv_it/48f136a9b61cf422b49819d57509581c958a28060/expr.ipynb\"><img src=\"__pv_it/48f136a9b61cf422b49819d57509581c958a28060/expr.png\" style=\"display:inline;vertical-align:middle;\" /></a><br>"
      ],
      "text/plain": [
       "mult_0_3: (0 * 3) = 0\n",
       "mult_1_3: (1 * 3) = 3\n",
       "mult_2_3: (2 * 3) = 6\n",
       "mult_3_3: (3 * 3) = 9\n",
       "mult_4_3: (4 * 3) = 12\n",
       "mult_5_3: (5 * 3) = 15\n",
       "mult_6_3: (6 * 3) = 18\n",
       "mult_7_3: (7 * 3) = 21\n",
       "mult_8_3: (8 * 3) = 24\n",
       "mult_9_3: (9 * 3) = 27"
      ]
     },
     "execution_count": 21,
     "metadata": {},
     "output_type": "execute_result"
    }
   ],
   "source": [
    "mult_0_3, mult_1_3, mult_2_3, mult_3_3, mult_4_3, mult_5_3, mult_6_3, mult_7_3, mult_8_3, mult_9_3 = [Equals(Mult(num(n), num(3)), num(n*3)) for n in range(10)]"
   ]
  },
  {
   "cell_type": "code",
   "execution_count": 22,
   "metadata": {},
   "outputs": [
    {
     "data": {
      "text/html": [
       "<strong id=\"mult_0_4\"><a class=\"ProveItLink\" href=\"_proofs_/mult_0_4.ipynb\">mult_0_4</a>:</strong> <a class=\"ProveItLink\" href=\"__pv_it/ba83f3d07e6f18b6143647b0c028742ce4f36d020/expr.ipynb\"><img src=\"__pv_it/ba83f3d07e6f18b6143647b0c028742ce4f36d020/expr.png\" style=\"display:inline;vertical-align:middle;\" /></a><br>\n",
       "<strong id=\"mult_1_4\"><a class=\"ProveItLink\" href=\"_proofs_/mult_1_4.ipynb\">mult_1_4</a>:</strong> <a class=\"ProveItLink\" href=\"__pv_it/0a24a12477af90cdef186b61833ee6ecacbd73090/expr.ipynb\"><img src=\"__pv_it/0a24a12477af90cdef186b61833ee6ecacbd73090/expr.png\" style=\"display:inline;vertical-align:middle;\" /></a><br>\n",
       "<strong id=\"mult_2_4\"><a class=\"ProveItLink\" href=\"_proofs_/mult_2_4.ipynb\">mult_2_4</a>:</strong> <a class=\"ProveItLink\" href=\"__pv_it/99ed91c3aaf22c3ff89bd75070fa0d44c11faabd0/expr.ipynb\"><img src=\"__pv_it/99ed91c3aaf22c3ff89bd75070fa0d44c11faabd0/expr.png\" style=\"display:inline;vertical-align:middle;\" /></a><br>\n",
       "<strong id=\"mult_3_4\"><a class=\"ProveItLink\" href=\"_proofs_/mult_3_4.ipynb\">mult_3_4</a>:</strong> <a class=\"ProveItLink\" href=\"__pv_it/2f7f5c44d6fa0c282d9a9a317c3daa1c757afe440/expr.ipynb\"><img src=\"__pv_it/2f7f5c44d6fa0c282d9a9a317c3daa1c757afe440/expr.png\" style=\"display:inline;vertical-align:middle;\" /></a><br>\n",
       "<strong id=\"mult_4_4\"><a class=\"ProveItLink\" href=\"_proofs_/mult_4_4.ipynb\">mult_4_4</a>:</strong> <a class=\"ProveItLink\" href=\"__pv_it/d869ac931db0f6c4258ccc47ae0089cbd6163fcf0/expr.ipynb\"><img src=\"__pv_it/d869ac931db0f6c4258ccc47ae0089cbd6163fcf0/expr.png\" style=\"display:inline;vertical-align:middle;\" /></a><br>\n",
       "<strong id=\"mult_5_4\"><a class=\"ProveItLink\" href=\"_proofs_/mult_5_4.ipynb\">mult_5_4</a>:</strong> <a class=\"ProveItLink\" href=\"__pv_it/d4e10984da3b1c6284b0394e56a82d0fdef96ae80/expr.ipynb\"><img src=\"__pv_it/d4e10984da3b1c6284b0394e56a82d0fdef96ae80/expr.png\" style=\"display:inline;vertical-align:middle;\" /></a><br>\n",
       "<strong id=\"mult_6_4\"><a class=\"ProveItLink\" href=\"_proofs_/mult_6_4.ipynb\">mult_6_4</a>:</strong> <a class=\"ProveItLink\" href=\"__pv_it/0b231c3ff649aa95f0bf34ab5c930eaa00c2564c0/expr.ipynb\"><img src=\"__pv_it/0b231c3ff649aa95f0bf34ab5c930eaa00c2564c0/expr.png\" style=\"display:inline;vertical-align:middle;\" /></a><br>\n",
       "<strong id=\"mult_7_4\"><a class=\"ProveItLink\" href=\"_proofs_/mult_7_4.ipynb\">mult_7_4</a>:</strong> <a class=\"ProveItLink\" href=\"__pv_it/926aada3c4c257f9f45f509314692b17005471150/expr.ipynb\"><img src=\"__pv_it/926aada3c4c257f9f45f509314692b17005471150/expr.png\" style=\"display:inline;vertical-align:middle;\" /></a><br>\n",
       "<strong id=\"mult_8_4\"><a class=\"ProveItLink\" href=\"_proofs_/mult_8_4.ipynb\">mult_8_4</a>:</strong> <a class=\"ProveItLink\" href=\"__pv_it/ef45ba057097674f2a7d37f45959f131c16683da0/expr.ipynb\"><img src=\"__pv_it/ef45ba057097674f2a7d37f45959f131c16683da0/expr.png\" style=\"display:inline;vertical-align:middle;\" /></a><br>\n",
       "<strong id=\"mult_9_4\"><a class=\"ProveItLink\" href=\"_proofs_/mult_9_4.ipynb\">mult_9_4</a>:</strong> <a class=\"ProveItLink\" href=\"__pv_it/e54a66961d8a9fb21713b9bcd054bb6349e2d1690/expr.ipynb\"><img src=\"__pv_it/e54a66961d8a9fb21713b9bcd054bb6349e2d1690/expr.png\" style=\"display:inline;vertical-align:middle;\" /></a><br>"
      ],
      "text/plain": [
       "mult_0_4: (0 * 4) = 0\n",
       "mult_1_4: (1 * 4) = 4\n",
       "mult_2_4: (2 * 4) = 8\n",
       "mult_3_4: (3 * 4) = 12\n",
       "mult_4_4: (4 * 4) = 16\n",
       "mult_5_4: (5 * 4) = 20\n",
       "mult_6_4: (6 * 4) = 24\n",
       "mult_7_4: (7 * 4) = 28\n",
       "mult_8_4: (8 * 4) = 32\n",
       "mult_9_4: (9 * 4) = 36"
      ]
     },
     "execution_count": 22,
     "metadata": {},
     "output_type": "execute_result"
    }
   ],
   "source": [
    "mult_0_4, mult_1_4, mult_2_4, mult_3_4, mult_4_4, mult_5_4, mult_6_4, mult_7_4, mult_8_4, mult_9_4 = [Equals(Mult(num(n), num(4)), num(n*4)) for n in range(10)]"
   ]
  },
  {
   "cell_type": "code",
   "execution_count": 23,
   "metadata": {},
   "outputs": [
    {
     "data": {
      "text/html": [
       "<strong id=\"mult_0_5\"><a class=\"ProveItLink\" href=\"_proofs_/mult_0_5.ipynb\">mult_0_5</a>:</strong> <a class=\"ProveItLink\" href=\"__pv_it/af8f59325cca99fabdbc4e81f5b90da0eb860ce90/expr.ipynb\"><img src=\"__pv_it/af8f59325cca99fabdbc4e81f5b90da0eb860ce90/expr.png\" style=\"display:inline;vertical-align:middle;\" /></a><br>\n",
       "<strong id=\"mult_1_5\"><a class=\"ProveItLink\" href=\"_proofs_/mult_1_5.ipynb\">mult_1_5</a>:</strong> <a class=\"ProveItLink\" href=\"__pv_it/fde5cb44e6fd31ea37ddb056d2591d594750c4b90/expr.ipynb\"><img src=\"__pv_it/fde5cb44e6fd31ea37ddb056d2591d594750c4b90/expr.png\" style=\"display:inline;vertical-align:middle;\" /></a><br>\n",
       "<strong id=\"mult_2_5\"><a class=\"ProveItLink\" href=\"_proofs_/mult_2_5.ipynb\">mult_2_5</a>:</strong> <a class=\"ProveItLink\" href=\"__pv_it/362251e15648c9d4014310aa1485125deaae48610/expr.ipynb\"><img src=\"__pv_it/362251e15648c9d4014310aa1485125deaae48610/expr.png\" style=\"display:inline;vertical-align:middle;\" /></a><br>\n",
       "<strong id=\"mult_3_5\"><a class=\"ProveItLink\" href=\"_proofs_/mult_3_5.ipynb\">mult_3_5</a>:</strong> <a class=\"ProveItLink\" href=\"__pv_it/818f081be5a5a4660ebd3e4fd8bef1572bda2c4b0/expr.ipynb\"><img src=\"__pv_it/818f081be5a5a4660ebd3e4fd8bef1572bda2c4b0/expr.png\" style=\"display:inline;vertical-align:middle;\" /></a><br>\n",
       "<strong id=\"mult_4_5\"><a class=\"ProveItLink\" href=\"_proofs_/mult_4_5.ipynb\">mult_4_5</a>:</strong> <a class=\"ProveItLink\" href=\"__pv_it/73cc8287e4591fb56b12c88a1f64b7bbe756d07e0/expr.ipynb\"><img src=\"__pv_it/73cc8287e4591fb56b12c88a1f64b7bbe756d07e0/expr.png\" style=\"display:inline;vertical-align:middle;\" /></a><br>\n",
       "<strong id=\"mult_5_5\"><a class=\"ProveItLink\" href=\"_proofs_/mult_5_5.ipynb\">mult_5_5</a>:</strong> <a class=\"ProveItLink\" href=\"__pv_it/0a40605a88f768e9963e224eac0c52840342d2ef0/expr.ipynb\"><img src=\"__pv_it/0a40605a88f768e9963e224eac0c52840342d2ef0/expr.png\" style=\"display:inline;vertical-align:middle;\" /></a><br>\n",
       "<strong id=\"mult_6_5\"><a class=\"ProveItLink\" href=\"_proofs_/mult_6_5.ipynb\">mult_6_5</a>:</strong> <a class=\"ProveItLink\" href=\"__pv_it/3741ca1a51802a9a85ca26938387ce20a751b2c40/expr.ipynb\"><img src=\"__pv_it/3741ca1a51802a9a85ca26938387ce20a751b2c40/expr.png\" style=\"display:inline;vertical-align:middle;\" /></a><br>\n",
       "<strong id=\"mult_7_5\"><a class=\"ProveItLink\" href=\"_proofs_/mult_7_5.ipynb\">mult_7_5</a>:</strong> <a class=\"ProveItLink\" href=\"__pv_it/ba5bf6ad5203904db16c294bdf294ef9390036ce0/expr.ipynb\"><img src=\"__pv_it/ba5bf6ad5203904db16c294bdf294ef9390036ce0/expr.png\" style=\"display:inline;vertical-align:middle;\" /></a><br>\n",
       "<strong id=\"mult_8_5\"><a class=\"ProveItLink\" href=\"_proofs_/mult_8_5.ipynb\">mult_8_5</a>:</strong> <a class=\"ProveItLink\" href=\"__pv_it/073b02cb14f5e9f4e1f4c25a451b3c70878fae3f0/expr.ipynb\"><img src=\"__pv_it/073b02cb14f5e9f4e1f4c25a451b3c70878fae3f0/expr.png\" style=\"display:inline;vertical-align:middle;\" /></a><br>\n",
       "<strong id=\"mult_9_5\"><a class=\"ProveItLink\" href=\"_proofs_/mult_9_5.ipynb\">mult_9_5</a>:</strong> <a class=\"ProveItLink\" href=\"__pv_it/dae21a231fab0bf7e4c29d15b8b5e682e71d530b0/expr.ipynb\"><img src=\"__pv_it/dae21a231fab0bf7e4c29d15b8b5e682e71d530b0/expr.png\" style=\"display:inline;vertical-align:middle;\" /></a><br>"
      ],
      "text/plain": [
       "mult_0_5: (0 * 5) = 0\n",
       "mult_1_5: (1 * 5) = 5\n",
       "mult_2_5: (2 * 5) = 10\n",
       "mult_3_5: (3 * 5) = 15\n",
       "mult_4_5: (4 * 5) = 20\n",
       "mult_5_5: (5 * 5) = 25\n",
       "mult_6_5: (6 * 5) = 30\n",
       "mult_7_5: (7 * 5) = 35\n",
       "mult_8_5: (8 * 5) = 40\n",
       "mult_9_5: (9 * 5) = 45"
      ]
     },
     "execution_count": 23,
     "metadata": {},
     "output_type": "execute_result"
    }
   ],
   "source": [
    "mult_0_5, mult_1_5, mult_2_5, mult_3_5, mult_4_5, mult_5_5, mult_6_5, mult_7_5, mult_8_5, mult_9_5 = [Equals(Mult(num(n), num(5)), num(n*5)) for n in range(10)]"
   ]
  },
  {
   "cell_type": "code",
   "execution_count": 24,
   "metadata": {},
   "outputs": [
    {
     "data": {
      "text/html": [
       "<strong id=\"mult_0_6\"><a class=\"ProveItLink\" href=\"_proofs_/mult_0_6.ipynb\">mult_0_6</a>:</strong> <a class=\"ProveItLink\" href=\"__pv_it/6a37751581c034202ade303c993c23f6ae220df70/expr.ipynb\"><img src=\"__pv_it/6a37751581c034202ade303c993c23f6ae220df70/expr.png\" style=\"display:inline;vertical-align:middle;\" /></a><br>\n",
       "<strong id=\"mult_1_6\"><a class=\"ProveItLink\" href=\"_proofs_/mult_1_6.ipynb\">mult_1_6</a>:</strong> <a class=\"ProveItLink\" href=\"__pv_it/7d29b3d75a5cc3c2e7d14b6084db691034edeee90/expr.ipynb\"><img src=\"__pv_it/7d29b3d75a5cc3c2e7d14b6084db691034edeee90/expr.png\" style=\"display:inline;vertical-align:middle;\" /></a><br>\n",
       "<strong id=\"mult_2_6\"><a class=\"ProveItLink\" href=\"_proofs_/mult_2_6.ipynb\">mult_2_6</a>:</strong> <a class=\"ProveItLink\" href=\"__pv_it/8e18cfd73c03c2db543c54c8bf7253d19fccdeba0/expr.ipynb\"><img src=\"__pv_it/8e18cfd73c03c2db543c54c8bf7253d19fccdeba0/expr.png\" style=\"display:inline;vertical-align:middle;\" /></a><br>\n",
       "<strong id=\"mult_3_6\"><a class=\"ProveItLink\" href=\"_proofs_/mult_3_6.ipynb\">mult_3_6</a>:</strong> <a class=\"ProveItLink\" href=\"__pv_it/7a3b1c926aa0a6f4bfd7e6ce3992d6e85269abff0/expr.ipynb\"><img src=\"__pv_it/7a3b1c926aa0a6f4bfd7e6ce3992d6e85269abff0/expr.png\" style=\"display:inline;vertical-align:middle;\" /></a><br>\n",
       "<strong id=\"mult_4_6\"><a class=\"ProveItLink\" href=\"_proofs_/mult_4_6.ipynb\">mult_4_6</a>:</strong> <a class=\"ProveItLink\" href=\"__pv_it/2c052c992639622a56d8b32de1951c3ce2cf00b50/expr.ipynb\"><img src=\"__pv_it/2c052c992639622a56d8b32de1951c3ce2cf00b50/expr.png\" style=\"display:inline;vertical-align:middle;\" /></a><br>\n",
       "<strong id=\"mult_5_6\"><a class=\"ProveItLink\" href=\"_proofs_/mult_5_6.ipynb\">mult_5_6</a>:</strong> <a class=\"ProveItLink\" href=\"__pv_it/6dfdf70d723cab4c10deefb4c197800430c7a6cc0/expr.ipynb\"><img src=\"__pv_it/6dfdf70d723cab4c10deefb4c197800430c7a6cc0/expr.png\" style=\"display:inline;vertical-align:middle;\" /></a><br>\n",
       "<strong id=\"mult_6_6\"><a class=\"ProveItLink\" href=\"_proofs_/mult_6_6.ipynb\">mult_6_6</a>:</strong> <a class=\"ProveItLink\" href=\"__pv_it/62503818a9fb9c75e5cd8a1752318da05264142e0/expr.ipynb\"><img src=\"__pv_it/62503818a9fb9c75e5cd8a1752318da05264142e0/expr.png\" style=\"display:inline;vertical-align:middle;\" /></a><br>\n",
       "<strong id=\"mult_7_6\"><a class=\"ProveItLink\" href=\"_proofs_/mult_7_6.ipynb\">mult_7_6</a>:</strong> <a class=\"ProveItLink\" href=\"__pv_it/3b4988e357f1f3ba39b50b114174ab52389bbe240/expr.ipynb\"><img src=\"__pv_it/3b4988e357f1f3ba39b50b114174ab52389bbe240/expr.png\" style=\"display:inline;vertical-align:middle;\" /></a><br>\n",
       "<strong id=\"mult_8_6\"><a class=\"ProveItLink\" href=\"_proofs_/mult_8_6.ipynb\">mult_8_6</a>:</strong> <a class=\"ProveItLink\" href=\"__pv_it/08b9a69e9a30c0300e340d880310a85fef9dc8430/expr.ipynb\"><img src=\"__pv_it/08b9a69e9a30c0300e340d880310a85fef9dc8430/expr.png\" style=\"display:inline;vertical-align:middle;\" /></a><br>\n",
       "<strong id=\"mult_9_6\"><a class=\"ProveItLink\" href=\"_proofs_/mult_9_6.ipynb\">mult_9_6</a>:</strong> <a class=\"ProveItLink\" href=\"__pv_it/878eea346d1d9f520f345c442ae3b297dc2327120/expr.ipynb\"><img src=\"__pv_it/878eea346d1d9f520f345c442ae3b297dc2327120/expr.png\" style=\"display:inline;vertical-align:middle;\" /></a><br>"
      ],
      "text/plain": [
       "mult_0_6: (0 * 6) = 0\n",
       "mult_1_6: (1 * 6) = 6\n",
       "mult_2_6: (2 * 6) = 12\n",
       "mult_3_6: (3 * 6) = 18\n",
       "mult_4_6: (4 * 6) = 24\n",
       "mult_5_6: (5 * 6) = 30\n",
       "mult_6_6: (6 * 6) = 36\n",
       "mult_7_6: (7 * 6) = 42\n",
       "mult_8_6: (8 * 6) = 48\n",
       "mult_9_6: (9 * 6) = 54"
      ]
     },
     "execution_count": 24,
     "metadata": {},
     "output_type": "execute_result"
    }
   ],
   "source": [
    "mult_0_6, mult_1_6, mult_2_6, mult_3_6, mult_4_6, mult_5_6, mult_6_6, mult_7_6, mult_8_6, mult_9_6 = [Equals(Mult(num(n), num(6)), num(n*6)) for n in range(10)]"
   ]
  },
  {
   "cell_type": "code",
   "execution_count": 25,
   "metadata": {},
   "outputs": [
    {
     "data": {
      "text/html": [
       "<strong id=\"mult_0_7\"><a class=\"ProveItLink\" href=\"_proofs_/mult_0_7.ipynb\">mult_0_7</a>:</strong> <a class=\"ProveItLink\" href=\"__pv_it/0e41bc0fd622a953b0501ebe23c4fac10889e9ad0/expr.ipynb\"><img src=\"__pv_it/0e41bc0fd622a953b0501ebe23c4fac10889e9ad0/expr.png\" style=\"display:inline;vertical-align:middle;\" /></a><br>\n",
       "<strong id=\"mult_1_7\"><a class=\"ProveItLink\" href=\"_proofs_/mult_1_7.ipynb\">mult_1_7</a>:</strong> <a class=\"ProveItLink\" href=\"__pv_it/906c70460d0f5970ee5213e1e69dfa9a2131cd840/expr.ipynb\"><img src=\"__pv_it/906c70460d0f5970ee5213e1e69dfa9a2131cd840/expr.png\" style=\"display:inline;vertical-align:middle;\" /></a><br>\n",
       "<strong id=\"mult_2_7\"><a class=\"ProveItLink\" href=\"_proofs_/mult_2_7.ipynb\">mult_2_7</a>:</strong> <a class=\"ProveItLink\" href=\"__pv_it/33e0f65ca8ec137335a433bd6bb36e9d16675fc70/expr.ipynb\"><img src=\"__pv_it/33e0f65ca8ec137335a433bd6bb36e9d16675fc70/expr.png\" style=\"display:inline;vertical-align:middle;\" /></a><br>\n",
       "<strong id=\"mult_3_7\"><a class=\"ProveItLink\" href=\"_proofs_/mult_3_7.ipynb\">mult_3_7</a>:</strong> <a class=\"ProveItLink\" href=\"__pv_it/50b400932b3166276816ca12085c6c3a90e680100/expr.ipynb\"><img src=\"__pv_it/50b400932b3166276816ca12085c6c3a90e680100/expr.png\" style=\"display:inline;vertical-align:middle;\" /></a><br>\n",
       "<strong id=\"mult_4_7\"><a class=\"ProveItLink\" href=\"_proofs_/mult_4_7.ipynb\">mult_4_7</a>:</strong> <a class=\"ProveItLink\" href=\"__pv_it/6b87d5e4028a890a4519a14f202c7bcb933b65380/expr.ipynb\"><img src=\"__pv_it/6b87d5e4028a890a4519a14f202c7bcb933b65380/expr.png\" style=\"display:inline;vertical-align:middle;\" /></a><br>\n",
       "<strong id=\"mult_5_7\"><a class=\"ProveItLink\" href=\"_proofs_/mult_5_7.ipynb\">mult_5_7</a>:</strong> <a class=\"ProveItLink\" href=\"__pv_it/8560308dbb11b9b7615dd9e4206c0c7a6c3058eb0/expr.ipynb\"><img src=\"__pv_it/8560308dbb11b9b7615dd9e4206c0c7a6c3058eb0/expr.png\" style=\"display:inline;vertical-align:middle;\" /></a><br>\n",
       "<strong id=\"mult_6_7\"><a class=\"ProveItLink\" href=\"_proofs_/mult_6_7.ipynb\">mult_6_7</a>:</strong> <a class=\"ProveItLink\" href=\"__pv_it/2b909f0ad61d057c49fb3e84733f7491799ab52c0/expr.ipynb\"><img src=\"__pv_it/2b909f0ad61d057c49fb3e84733f7491799ab52c0/expr.png\" style=\"display:inline;vertical-align:middle;\" /></a><br>\n",
       "<strong id=\"mult_7_7\"><a class=\"ProveItLink\" href=\"_proofs_/mult_7_7.ipynb\">mult_7_7</a>:</strong> <a class=\"ProveItLink\" href=\"__pv_it/8c4e4ab7de16ad042cc81f5c1494903151610e930/expr.ipynb\"><img src=\"__pv_it/8c4e4ab7de16ad042cc81f5c1494903151610e930/expr.png\" style=\"display:inline;vertical-align:middle;\" /></a><br>\n",
       "<strong id=\"mult_8_7\"><a class=\"ProveItLink\" href=\"_proofs_/mult_8_7.ipynb\">mult_8_7</a>:</strong> <a class=\"ProveItLink\" href=\"__pv_it/11ab662eb081fc2c0ffac709d096c607560183030/expr.ipynb\"><img src=\"__pv_it/11ab662eb081fc2c0ffac709d096c607560183030/expr.png\" style=\"display:inline;vertical-align:middle;\" /></a><br>\n",
       "<strong id=\"mult_9_7\"><a class=\"ProveItLink\" href=\"_proofs_/mult_9_7.ipynb\">mult_9_7</a>:</strong> <a class=\"ProveItLink\" href=\"__pv_it/6cb5ec9f660c657f14d27d0a72d59a16a55e18f70/expr.ipynb\"><img src=\"__pv_it/6cb5ec9f660c657f14d27d0a72d59a16a55e18f70/expr.png\" style=\"display:inline;vertical-align:middle;\" /></a><br>"
      ],
      "text/plain": [
       "mult_0_7: (0 * 7) = 0\n",
       "mult_1_7: (1 * 7) = 7\n",
       "mult_2_7: (2 * 7) = 14\n",
       "mult_3_7: (3 * 7) = 21\n",
       "mult_4_7: (4 * 7) = 28\n",
       "mult_5_7: (5 * 7) = 35\n",
       "mult_6_7: (6 * 7) = 42\n",
       "mult_7_7: (7 * 7) = 49\n",
       "mult_8_7: (8 * 7) = 56\n",
       "mult_9_7: (9 * 7) = 63"
      ]
     },
     "execution_count": 25,
     "metadata": {},
     "output_type": "execute_result"
    }
   ],
   "source": [
    "mult_0_7, mult_1_7, mult_2_7, mult_3_7, mult_4_7, mult_5_7, mult_6_7, mult_7_7, mult_8_7, mult_9_7 = [Equals(Mult(num(n), num(7)), num(n*7)) for n in range(10)]"
   ]
  },
  {
   "cell_type": "code",
   "execution_count": 26,
   "metadata": {},
   "outputs": [
    {
     "data": {
      "text/html": [
       "<strong id=\"mult_0_8\"><a class=\"ProveItLink\" href=\"_proofs_/mult_0_8.ipynb\">mult_0_8</a>:</strong> <a class=\"ProveItLink\" href=\"__pv_it/68a5e5fb667a9c0ce8b0081edeb7345dd24126650/expr.ipynb\"><img src=\"__pv_it/68a5e5fb667a9c0ce8b0081edeb7345dd24126650/expr.png\" style=\"display:inline;vertical-align:middle;\" /></a><br>\n",
       "<strong id=\"mult_1_8\"><a class=\"ProveItLink\" href=\"_proofs_/mult_1_8.ipynb\">mult_1_8</a>:</strong> <a class=\"ProveItLink\" href=\"__pv_it/f85253086f194dbb25fc2ab4bfc6b84ad9f3db0f0/expr.ipynb\"><img src=\"__pv_it/f85253086f194dbb25fc2ab4bfc6b84ad9f3db0f0/expr.png\" style=\"display:inline;vertical-align:middle;\" /></a><br>\n",
       "<strong id=\"mult_2_8\"><a class=\"ProveItLink\" href=\"_proofs_/mult_2_8.ipynb\">mult_2_8</a>:</strong> <a class=\"ProveItLink\" href=\"__pv_it/525d6f219808ea3a4e68d7d9f9c90ddc865466090/expr.ipynb\"><img src=\"__pv_it/525d6f219808ea3a4e68d7d9f9c90ddc865466090/expr.png\" style=\"display:inline;vertical-align:middle;\" /></a><br>\n",
       "<strong id=\"mult_3_8\"><a class=\"ProveItLink\" href=\"_proofs_/mult_3_8.ipynb\">mult_3_8</a>:</strong> <a class=\"ProveItLink\" href=\"__pv_it/5f1c639f035ad45472eae2829c1c1d77aaa3391c0/expr.ipynb\"><img src=\"__pv_it/5f1c639f035ad45472eae2829c1c1d77aaa3391c0/expr.png\" style=\"display:inline;vertical-align:middle;\" /></a><br>\n",
       "<strong id=\"mult_4_8\"><a class=\"ProveItLink\" href=\"_proofs_/mult_4_8.ipynb\">mult_4_8</a>:</strong> <a class=\"ProveItLink\" href=\"__pv_it/ad7b8bd413649469dae57671475077cd7639962d0/expr.ipynb\"><img src=\"__pv_it/ad7b8bd413649469dae57671475077cd7639962d0/expr.png\" style=\"display:inline;vertical-align:middle;\" /></a><br>\n",
       "<strong id=\"mult_5_8\"><a class=\"ProveItLink\" href=\"_proofs_/mult_5_8.ipynb\">mult_5_8</a>:</strong> <a class=\"ProveItLink\" href=\"__pv_it/b93bd4dceafd1ab2ddedfd40697ffae07f590c590/expr.ipynb\"><img src=\"__pv_it/b93bd4dceafd1ab2ddedfd40697ffae07f590c590/expr.png\" style=\"display:inline;vertical-align:middle;\" /></a><br>\n",
       "<strong id=\"mult_6_8\"><a class=\"ProveItLink\" href=\"_proofs_/mult_6_8.ipynb\">mult_6_8</a>:</strong> <a class=\"ProveItLink\" href=\"__pv_it/af28dfc82c9db9423406652fd93d248a715470470/expr.ipynb\"><img src=\"__pv_it/af28dfc82c9db9423406652fd93d248a715470470/expr.png\" style=\"display:inline;vertical-align:middle;\" /></a><br>\n",
       "<strong id=\"mult_7_8\"><a class=\"ProveItLink\" href=\"_proofs_/mult_7_8.ipynb\">mult_7_8</a>:</strong> <a class=\"ProveItLink\" href=\"__pv_it/6afcc37121ea8f158fc6ca4f63a8b93b62b3fc390/expr.ipynb\"><img src=\"__pv_it/6afcc37121ea8f158fc6ca4f63a8b93b62b3fc390/expr.png\" style=\"display:inline;vertical-align:middle;\" /></a><br>\n",
       "<strong id=\"mult_8_8\"><a class=\"ProveItLink\" href=\"_proofs_/mult_8_8.ipynb\">mult_8_8</a>:</strong> <a class=\"ProveItLink\" href=\"__pv_it/02b731dda632e03f5aa0fafa56542efc2fbb39a10/expr.ipynb\"><img src=\"__pv_it/02b731dda632e03f5aa0fafa56542efc2fbb39a10/expr.png\" style=\"display:inline;vertical-align:middle;\" /></a><br>\n",
       "<strong id=\"mult_9_8\"><a class=\"ProveItLink\" href=\"_proofs_/mult_9_8.ipynb\">mult_9_8</a>:</strong> <a class=\"ProveItLink\" href=\"__pv_it/9360e3847974edf0a8886f0bc287abca7ea233e50/expr.ipynb\"><img src=\"__pv_it/9360e3847974edf0a8886f0bc287abca7ea233e50/expr.png\" style=\"display:inline;vertical-align:middle;\" /></a><br>"
      ],
      "text/plain": [
       "mult_0_8: (0 * 8) = 0\n",
       "mult_1_8: (1 * 8) = 8\n",
       "mult_2_8: (2 * 8) = 16\n",
       "mult_3_8: (3 * 8) = 24\n",
       "mult_4_8: (4 * 8) = 32\n",
       "mult_5_8: (5 * 8) = 40\n",
       "mult_6_8: (6 * 8) = 48\n",
       "mult_7_8: (7 * 8) = 56\n",
       "mult_8_8: (8 * 8) = 64\n",
       "mult_9_8: (9 * 8) = 72"
      ]
     },
     "execution_count": 26,
     "metadata": {},
     "output_type": "execute_result"
    }
   ],
   "source": [
    "mult_0_8, mult_1_8, mult_2_8, mult_3_8, mult_4_8, mult_5_8, mult_6_8, mult_7_8, mult_8_8, mult_9_8 = [Equals(Mult(num(n), num(8)), num(n*8)) for n in range(10)]"
   ]
  },
  {
   "cell_type": "code",
   "execution_count": 27,
   "metadata": {},
   "outputs": [
    {
     "data": {
      "text/html": [
       "<strong id=\"mult_0_9\"><a class=\"ProveItLink\" href=\"_proofs_/mult_0_9.ipynb\">mult_0_9</a>:</strong> <a class=\"ProveItLink\" href=\"__pv_it/3958d6a8e32c9bdf0763848bb6ce3760109b55580/expr.ipynb\"><img src=\"__pv_it/3958d6a8e32c9bdf0763848bb6ce3760109b55580/expr.png\" style=\"display:inline;vertical-align:middle;\" /></a><br>\n",
       "<strong id=\"mult_1_9\"><a class=\"ProveItLink\" href=\"_proofs_/mult_1_9.ipynb\">mult_1_9</a>:</strong> <a class=\"ProveItLink\" href=\"__pv_it/382ac70839cbc8da2cc8b1afe5673cad918e27b60/expr.ipynb\"><img src=\"__pv_it/382ac70839cbc8da2cc8b1afe5673cad918e27b60/expr.png\" style=\"display:inline;vertical-align:middle;\" /></a><br>\n",
       "<strong id=\"mult_2_9\"><a class=\"ProveItLink\" href=\"_proofs_/mult_2_9.ipynb\">mult_2_9</a>:</strong> <a class=\"ProveItLink\" href=\"__pv_it/2e8c04053246b335666c5b3a83c69cc2de45c1790/expr.ipynb\"><img src=\"__pv_it/2e8c04053246b335666c5b3a83c69cc2de45c1790/expr.png\" style=\"display:inline;vertical-align:middle;\" /></a><br>\n",
       "<strong id=\"mult_3_9\"><a class=\"ProveItLink\" href=\"_proofs_/mult_3_9.ipynb\">mult_3_9</a>:</strong> <a class=\"ProveItLink\" href=\"__pv_it/a042e3c7812cee9e9426afaeb4057d980aa3e8e70/expr.ipynb\"><img src=\"__pv_it/a042e3c7812cee9e9426afaeb4057d980aa3e8e70/expr.png\" style=\"display:inline;vertical-align:middle;\" /></a><br>\n",
       "<strong id=\"mult_4_9\"><a class=\"ProveItLink\" href=\"_proofs_/mult_4_9.ipynb\">mult_4_9</a>:</strong> <a class=\"ProveItLink\" href=\"__pv_it/b6efe3787632e06b5e42156f876f211940aecc440/expr.ipynb\"><img src=\"__pv_it/b6efe3787632e06b5e42156f876f211940aecc440/expr.png\" style=\"display:inline;vertical-align:middle;\" /></a><br>\n",
       "<strong id=\"mult_5_9\"><a class=\"ProveItLink\" href=\"_proofs_/mult_5_9.ipynb\">mult_5_9</a>:</strong> <a class=\"ProveItLink\" href=\"__pv_it/049ba00e49ca350cf692c264d47e0dba1d1bb1260/expr.ipynb\"><img src=\"__pv_it/049ba00e49ca350cf692c264d47e0dba1d1bb1260/expr.png\" style=\"display:inline;vertical-align:middle;\" /></a><br>\n",
       "<strong id=\"mult_6_9\"><a class=\"ProveItLink\" href=\"_proofs_/mult_6_9.ipynb\">mult_6_9</a>:</strong> <a class=\"ProveItLink\" href=\"__pv_it/0f652cdeb384f28cd65625a13e3805f1fbb192dd0/expr.ipynb\"><img src=\"__pv_it/0f652cdeb384f28cd65625a13e3805f1fbb192dd0/expr.png\" style=\"display:inline;vertical-align:middle;\" /></a><br>\n",
       "<strong id=\"mult_7_9\"><a class=\"ProveItLink\" href=\"_proofs_/mult_7_9.ipynb\">mult_7_9</a>:</strong> <a class=\"ProveItLink\" href=\"__pv_it/e94294999bce042c41b504b3d07444b885bb95440/expr.ipynb\"><img src=\"__pv_it/e94294999bce042c41b504b3d07444b885bb95440/expr.png\" style=\"display:inline;vertical-align:middle;\" /></a><br>\n",
       "<strong id=\"mult_8_9\"><a class=\"ProveItLink\" href=\"_proofs_/mult_8_9.ipynb\">mult_8_9</a>:</strong> <a class=\"ProveItLink\" href=\"__pv_it/0a7c890b98460265ee1cd252b8274c93e253f8d30/expr.ipynb\"><img src=\"__pv_it/0a7c890b98460265ee1cd252b8274c93e253f8d30/expr.png\" style=\"display:inline;vertical-align:middle;\" /></a><br>\n",
       "<strong id=\"mult_9_9\"><a class=\"ProveItLink\" href=\"_proofs_/mult_9_9.ipynb\">mult_9_9</a>:</strong> <a class=\"ProveItLink\" href=\"__pv_it/b4269ed4194c00abec9b1ea54fe8e7fb8b7f3a1c0/expr.ipynb\"><img src=\"__pv_it/b4269ed4194c00abec9b1ea54fe8e7fb8b7f3a1c0/expr.png\" style=\"display:inline;vertical-align:middle;\" /></a><br>"
      ],
      "text/plain": [
       "mult_0_9: (0 * 9) = 0\n",
       "mult_1_9: (1 * 9) = 9\n",
       "mult_2_9: (2 * 9) = 18\n",
       "mult_3_9: (3 * 9) = 27\n",
       "mult_4_9: (4 * 9) = 36\n",
       "mult_5_9: (5 * 9) = 45\n",
       "mult_6_9: (6 * 9) = 54\n",
       "mult_7_9: (7 * 9) = 63\n",
       "mult_8_9: (8 * 9) = 72\n",
       "mult_9_9: (9 * 9) = 81"
      ]
     },
     "execution_count": 27,
     "metadata": {},
     "output_type": "execute_result"
    }
   ],
   "source": [
    "mult_0_9, mult_1_9, mult_2_9, mult_3_9, mult_4_9, mult_5_9, mult_6_9, mult_7_9, mult_8_9, mult_9_9 = [Equals(Mult(num(n), num(9)), num(n*9)) for n in range(10)]"
   ]
  },
  {
   "cell_type": "code",
   "execution_count": 28,
   "metadata": {},
   "outputs": [
    {
     "name": "stdout",
     "output_type": "stream",
     "text": [
      "Theorems may be imported from autogenerated _theorems_.py\n"
     ]
    }
   ],
   "source": [
    "%end theorems"
   ]
  },
  {
   "cell_type": "code",
   "execution_count": null,
   "metadata": {},
   "outputs": [],
   "source": []
  }
 ],
 "metadata": {
  "kernelspec": {
   "display_name": "Python 3",
   "language": "python",
   "name": "python3"
  },
  "language_info": {
   "codemirror_mode": {
    "name": "ipython",
    "version": 3
   },
   "file_extension": ".py",
   "mimetype": "text/x-python",
   "name": "python",
   "nbconvert_exporter": "python",
   "pygments_lexer": "ipython3",
   "version": "3.7.1"
  }
 },
 "nbformat": 4,
 "nbformat_minor": 1
}
