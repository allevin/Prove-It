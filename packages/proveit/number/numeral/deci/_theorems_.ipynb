{
 "cells": [
  {
   "cell_type": "markdown",
   "metadata": {
    "collapsed": true
   },
   "source": [
    "Theorems for context <a class=\"ProveItLink\" href=\"_context_.ipynb\">proveit.number.numeral.decimal</a>\n",
    "========"
   ]
  },
  {
   "cell_type": "code",
   "execution_count": 1,
   "metadata": {},
   "outputs": [],
   "source": [
    "import proveit\n",
    "from proveit.logic import Forall, Equals, InSet\n",
    "from proveit.number import num, Add, Less, LesserSequence, Naturals, NaturalsPos, Len\n",
    "from proveit._common_ import a,b,c,d,e,f,g,h,i\n",
    "# the context is in the current directory:\n",
    "context = proveit.Context('.') # adds context root to sys.path if necessary"
   ]
  },
  {
   "cell_type": "code",
   "execution_count": 2,
   "metadata": {},
   "outputs": [
    {
     "name": "stdout",
     "output_type": "stream",
     "text": [
      "Defining theorems for context 'proveit.number.numeral.deci'\n",
      "Subsequent end-of-cell assignments will define theorems\n",
      "'%end theorems' will finalize the definitions\n"
     ]
    }
   ],
   "source": [
    "%begin theorems"
   ]
  },
  {
   "cell_type": "markdown",
   "metadata": {},
   "source": [
    "### List lengths 1-9"
   ]
  },
  {
   "cell_type": "code",
   "execution_count": 3,
   "metadata": {},
   "outputs": [
    {
     "data": {
      "text/html": [
       "<strong id=\"listLen1\"><a class=\"ProveItLink\" href=\"_proofs_/listLen1.ipynb\">listLen1</a>:</strong> <a class=\"ProveItLink\" href=\"__pv_it/04c6f13650c995a5aee7cd81ef334ff937d9b2560/expr.ipynb\"><img src=\"__pv_it/04c6f13650c995a5aee7cd81ef334ff937d9b2560/expr.png\" style=\"display:inline;vertical-align:middle;\" /></a><br>\n",
       "<strong id=\"listLen2\"><a class=\"ProveItLink\" href=\"_proofs_/listLen2.ipynb\">listLen2</a>:</strong> <a class=\"ProveItLink\" href=\"__pv_it/99b4d3dd7d697784f8f1c1bf070680bc6edefc8b0/expr.ipynb\"><img src=\"__pv_it/99b4d3dd7d697784f8f1c1bf070680bc6edefc8b0/expr.png\" style=\"display:inline;vertical-align:middle;\" /></a><br>\n",
       "<strong id=\"listLen3\"><a class=\"ProveItLink\" href=\"_proofs_/listLen3.ipynb\">listLen3</a>:</strong> <a class=\"ProveItLink\" href=\"__pv_it/28f9e8a62e272528fa12cde7604c4540c3ed299a0/expr.ipynb\"><img src=\"__pv_it/28f9e8a62e272528fa12cde7604c4540c3ed299a0/expr.png\" style=\"display:inline;vertical-align:middle;\" /></a><br>\n",
       "<strong id=\"listLen4\"><a class=\"ProveItLink\" href=\"_proofs_/listLen4.ipynb\">listLen4</a>:</strong> <a class=\"ProveItLink\" href=\"__pv_it/a1e47cb70728d38e9257a56ad28e91f0739b091e0/expr.ipynb\"><img src=\"__pv_it/a1e47cb70728d38e9257a56ad28e91f0739b091e0/expr.png\" style=\"display:inline;vertical-align:middle;\" /></a><br>\n",
       "<strong id=\"listLen5\"><a class=\"ProveItLink\" href=\"_proofs_/listLen5.ipynb\">listLen5</a>:</strong> <a class=\"ProveItLink\" href=\"__pv_it/48f3a81fa33245e504d6451a42b55bc12fc21ec60/expr.ipynb\"><img src=\"__pv_it/48f3a81fa33245e504d6451a42b55bc12fc21ec60/expr.png\" style=\"display:inline;vertical-align:middle;\" /></a><br>\n",
       "<strong id=\"listLen6\"><a class=\"ProveItLink\" href=\"_proofs_/listLen6.ipynb\">listLen6</a>:</strong> <a class=\"ProveItLink\" href=\"__pv_it/48964fc657c38d2e6f4a31fa13b0dac982b657a20/expr.ipynb\"><img src=\"__pv_it/48964fc657c38d2e6f4a31fa13b0dac982b657a20/expr.png\" style=\"display:inline;vertical-align:middle;\" /></a><br>\n",
       "<strong id=\"listLen7\"><a class=\"ProveItLink\" href=\"_proofs_/listLen7.ipynb\">listLen7</a>:</strong> <a class=\"ProveItLink\" href=\"__pv_it/b816f0be00a8323bf99673073aec1e41ed2f3c280/expr.ipynb\"><img src=\"__pv_it/b816f0be00a8323bf99673073aec1e41ed2f3c280/expr.png\" style=\"display:inline;vertical-align:middle;\" /></a><br>\n",
       "<strong id=\"listLen8\"><a class=\"ProveItLink\" href=\"_proofs_/listLen8.ipynb\">listLen8</a>:</strong> <a class=\"ProveItLink\" href=\"__pv_it/0492a174b0b1a14810ff2c00562d0b84e11852f70/expr.ipynb\"><img src=\"__pv_it/0492a174b0b1a14810ff2c00562d0b84e11852f70/expr.png\" style=\"display:inline;vertical-align:middle;\" /></a><br>\n",
       "<strong id=\"listLen9\"><a class=\"ProveItLink\" href=\"_proofs_/listLen9.ipynb\">listLen9</a>:</strong> <a class=\"ProveItLink\" href=\"__pv_it/4386b8fcf5beffce973a330324159a5e139738af0/expr.ipynb\"><img src=\"__pv_it/4386b8fcf5beffce973a330324159a5e139738af0/expr.png\" style=\"display:inline;vertical-align:middle;\" /></a><br>"
      ],
      "text/plain": [
       "listLen1: forall_{a} (|(a)| = 1)\n",
       "listLen2: forall_{a, b} (|(a , b)| = 2)\n",
       "listLen3: forall_{a, b, c} (|(a , b , c)| = 3)\n",
       "listLen4: forall_{a, b, c, d} (|(a , b , c , d)| = 4)\n",
       "listLen5: forall_{a, b, c, d, e} (|(a , b , c , d , e)| = 5)\n",
       "listLen6: forall_{a, b, c, d, e, f} (|(a , b , c , d , e , f)| = 6)\n",
       "listLen7: forall_{a, b, c, d, e, f, g} (|(a , b , c , d , e , f , g)| = 7)\n",
       "listLen8: forall_{a, b, c, d, e, f, g, h} (|(a , b , c , d , e , f , g , h)| = 8)\n",
       "listLen9: forall_{a, b, c, d, e, f, g, h, i} (|(a , b , c , d , e , f , g , h , i)| = 9)"
      ]
     },
     "execution_count": 3,
     "metadata": {},
     "output_type": "execute_result"
    }
   ],
   "source": [
    "cur_vars = vars()\n",
    "def nvars(count):\n",
    "    return [cur_vars[chr(ord('a')+k)] for k in range(count)]\n",
    "listLen1, listLen2, listLen3, listLen4, listLen5, listLen6, listLen7, listLen8, listLen9 = [Forall(nvars(count), Equals(Len(nvars(count)), num(count))) for count in range(1, 10)]"
   ]
  },
  {
   "cell_type": "markdown",
   "metadata": {},
   "source": [
    "### Number sets containing the digits (beyond 0):"
   ]
  },
  {
   "cell_type": "code",
   "execution_count": 4,
   "metadata": {},
   "outputs": [
    {
     "data": {
      "text/html": [
       "<strong id=\"nat1\"><a class=\"ProveItLink\" href=\"_proofs_/nat1.ipynb\">nat1</a>:</strong> <a class=\"ProveItLink\" href=\"__pv_it/3f15fb519636fc585376b5b502be456d654dd18d0/expr.ipynb\"><img src=\"__pv_it/3f15fb519636fc585376b5b502be456d654dd18d0/expr.png\" style=\"display:inline;vertical-align:middle;\" /></a><br>\n",
       "<strong id=\"nat2\"><a class=\"ProveItLink\" href=\"_proofs_/nat2.ipynb\">nat2</a>:</strong> <a class=\"ProveItLink\" href=\"__pv_it/286f0443dba55bdb259c90cef1db0ca273fac95e0/expr.ipynb\"><img src=\"__pv_it/286f0443dba55bdb259c90cef1db0ca273fac95e0/expr.png\" style=\"display:inline;vertical-align:middle;\" /></a><br>\n",
       "<strong id=\"nat3\"><a class=\"ProveItLink\" href=\"_proofs_/nat3.ipynb\">nat3</a>:</strong> <a class=\"ProveItLink\" href=\"__pv_it/106bf174ef7755d5609db086689abcc208d6bf3d0/expr.ipynb\"><img src=\"__pv_it/106bf174ef7755d5609db086689abcc208d6bf3d0/expr.png\" style=\"display:inline;vertical-align:middle;\" /></a><br>\n",
       "<strong id=\"nat4\"><a class=\"ProveItLink\" href=\"_proofs_/nat4.ipynb\">nat4</a>:</strong> <a class=\"ProveItLink\" href=\"__pv_it/3fc93db3b3fd1b15204240d9de18a48656bfb08c0/expr.ipynb\"><img src=\"__pv_it/3fc93db3b3fd1b15204240d9de18a48656bfb08c0/expr.png\" style=\"display:inline;vertical-align:middle;\" /></a><br>\n",
       "<strong id=\"nat5\"><a class=\"ProveItLink\" href=\"_proofs_/nat5.ipynb\">nat5</a>:</strong> <a class=\"ProveItLink\" href=\"__pv_it/e1fbc969f423eedb93abd86e7a97d4f86379d69c0/expr.ipynb\"><img src=\"__pv_it/e1fbc969f423eedb93abd86e7a97d4f86379d69c0/expr.png\" style=\"display:inline;vertical-align:middle;\" /></a><br>\n",
       "<strong id=\"nat6\"><a class=\"ProveItLink\" href=\"_proofs_/nat6.ipynb\">nat6</a>:</strong> <a class=\"ProveItLink\" href=\"__pv_it/45dcb82ef989e77cc7309440389a565c1144dd580/expr.ipynb\"><img src=\"__pv_it/45dcb82ef989e77cc7309440389a565c1144dd580/expr.png\" style=\"display:inline;vertical-align:middle;\" /></a><br>\n",
       "<strong id=\"nat7\"><a class=\"ProveItLink\" href=\"_proofs_/nat7.ipynb\">nat7</a>:</strong> <a class=\"ProveItLink\" href=\"__pv_it/a1f5ae759b336054bda9813e1a1080965ac658570/expr.ipynb\"><img src=\"__pv_it/a1f5ae759b336054bda9813e1a1080965ac658570/expr.png\" style=\"display:inline;vertical-align:middle;\" /></a><br>\n",
       "<strong id=\"nat8\"><a class=\"ProveItLink\" href=\"_proofs_/nat8.ipynb\">nat8</a>:</strong> <a class=\"ProveItLink\" href=\"__pv_it/b6e2d0c46d742e7e90bcda2cb0d4f296acd344680/expr.ipynb\"><img src=\"__pv_it/b6e2d0c46d742e7e90bcda2cb0d4f296acd344680/expr.png\" style=\"display:inline;vertical-align:middle;\" /></a><br>\n",
       "<strong id=\"nat9\"><a class=\"ProveItLink\" href=\"_proofs_/nat9.ipynb\">nat9</a>:</strong> <a class=\"ProveItLink\" href=\"__pv_it/0c7c73eb99c01621888861d6c90f85b78973156d0/expr.ipynb\"><img src=\"__pv_it/0c7c73eb99c01621888861d6c90f85b78973156d0/expr.png\" style=\"display:inline;vertical-align:middle;\" /></a><br>"
      ],
      "text/plain": [
       "nat1: 1 in Naturals\n",
       "nat2: 2 in Naturals\n",
       "nat3: 3 in Naturals\n",
       "nat4: 4 in Naturals\n",
       "nat5: 5 in Naturals\n",
       "nat6: 6 in Naturals\n",
       "nat7: 7 in Naturals\n",
       "nat8: 8 in Naturals\n",
       "nat9: 9 in Naturals"
      ]
     },
     "execution_count": 4,
     "metadata": {},
     "output_type": "execute_result"
    }
   ],
   "source": [
    "nat1, nat2, nat3, nat4, nat5, nat6, nat7, nat8, nat9 = [InSet(num(n), Naturals) for n in range(1, 10)]"
   ]
  },
  {
   "cell_type": "code",
   "execution_count": 5,
   "metadata": {},
   "outputs": [
    {
     "data": {
      "text/html": [
       "<strong id=\"posnat1\"><a class=\"ProveItLink\" href=\"_proofs_/posnat1.ipynb\">posnat1</a>:</strong> <a class=\"ProveItLink\" href=\"__pv_it/6c7d3f1e028a441777ca5213f1e5722dfd0835ed0/expr.ipynb\"><img src=\"__pv_it/6c7d3f1e028a441777ca5213f1e5722dfd0835ed0/expr.png\" style=\"display:inline;vertical-align:middle;\" /></a><br>\n",
       "<strong id=\"posnat2\"><a class=\"ProveItLink\" href=\"_proofs_/posnat2.ipynb\">posnat2</a>:</strong> <a class=\"ProveItLink\" href=\"__pv_it/cc8f030bf3f8fa8886abea87852067059d7e0b5a0/expr.ipynb\"><img src=\"__pv_it/cc8f030bf3f8fa8886abea87852067059d7e0b5a0/expr.png\" style=\"display:inline;vertical-align:middle;\" /></a><br>\n",
       "<strong id=\"posnat3\"><a class=\"ProveItLink\" href=\"_proofs_/posnat3.ipynb\">posnat3</a>:</strong> <a class=\"ProveItLink\" href=\"__pv_it/4a25aa593418cb85c344f5a2bec51d67120428e00/expr.ipynb\"><img src=\"__pv_it/4a25aa593418cb85c344f5a2bec51d67120428e00/expr.png\" style=\"display:inline;vertical-align:middle;\" /></a><br>\n",
       "<strong id=\"posnat4\"><a class=\"ProveItLink\" href=\"_proofs_/posnat4.ipynb\">posnat4</a>:</strong> <a class=\"ProveItLink\" href=\"__pv_it/a8e2987330479c05c40c94f9edaad0d2c48f343a0/expr.ipynb\"><img src=\"__pv_it/a8e2987330479c05c40c94f9edaad0d2c48f343a0/expr.png\" style=\"display:inline;vertical-align:middle;\" /></a><br>\n",
       "<strong id=\"posnat5\"><a class=\"ProveItLink\" href=\"_proofs_/posnat5.ipynb\">posnat5</a>:</strong> <a class=\"ProveItLink\" href=\"__pv_it/8351e8ccf2c74a9f5e1ff0d40d9453369b3d2eb10/expr.ipynb\"><img src=\"__pv_it/8351e8ccf2c74a9f5e1ff0d40d9453369b3d2eb10/expr.png\" style=\"display:inline;vertical-align:middle;\" /></a><br>\n",
       "<strong id=\"posnat6\"><a class=\"ProveItLink\" href=\"_proofs_/posnat6.ipynb\">posnat6</a>:</strong> <a class=\"ProveItLink\" href=\"__pv_it/0fa5bab0e1ffc5aacfe93f5453772a6b478bf8340/expr.ipynb\"><img src=\"__pv_it/0fa5bab0e1ffc5aacfe93f5453772a6b478bf8340/expr.png\" style=\"display:inline;vertical-align:middle;\" /></a><br>\n",
       "<strong id=\"posnat7\"><a class=\"ProveItLink\" href=\"_proofs_/posnat7.ipynb\">posnat7</a>:</strong> <a class=\"ProveItLink\" href=\"__pv_it/c27e9e68de619b515141b59ca83ec870b17b88590/expr.ipynb\"><img src=\"__pv_it/c27e9e68de619b515141b59ca83ec870b17b88590/expr.png\" style=\"display:inline;vertical-align:middle;\" /></a><br>\n",
       "<strong id=\"posnat8\"><a class=\"ProveItLink\" href=\"_proofs_/posnat8.ipynb\">posnat8</a>:</strong> <a class=\"ProveItLink\" href=\"__pv_it/f661bdd0fe957c5957a0815a031150ee05b4d0940/expr.ipynb\"><img src=\"__pv_it/f661bdd0fe957c5957a0815a031150ee05b4d0940/expr.png\" style=\"display:inline;vertical-align:middle;\" /></a><br>\n",
       "<strong id=\"posnat9\"><a class=\"ProveItLink\" href=\"_proofs_/posnat9.ipynb\">posnat9</a>:</strong> <a class=\"ProveItLink\" href=\"__pv_it/f42bcb685b6ad87ddfda15f247f4208ea6bba65b0/expr.ipynb\"><img src=\"__pv_it/f42bcb685b6ad87ddfda15f247f4208ea6bba65b0/expr.png\" style=\"display:inline;vertical-align:middle;\" /></a><br>"
      ],
      "text/plain": [
       "posnat1: 1 in NaturalsPos\n",
       "posnat2: 2 in NaturalsPos\n",
       "posnat3: 3 in NaturalsPos\n",
       "posnat4: 4 in NaturalsPos\n",
       "posnat5: 5 in NaturalsPos\n",
       "posnat6: 6 in NaturalsPos\n",
       "posnat7: 7 in NaturalsPos\n",
       "posnat8: 8 in NaturalsPos\n",
       "posnat9: 9 in NaturalsPos"
      ]
     },
     "execution_count": 5,
     "metadata": {},
     "output_type": "execute_result"
    }
   ],
   "source": [
    "posnat1, posnat2, posnat3, posnat4, posnat5, posnat6, posnat7, posnat8, posnat9 = [InSet(num(n), NaturalsPos) for n in range(1, 10)]"
   ]
  },
  {
   "cell_type": "markdown",
   "metadata": {},
   "source": [
    "### Sorted order of the digits"
   ]
  },
  {
   "cell_type": "code",
   "execution_count": 6,
   "metadata": {},
   "outputs": [
    {
     "data": {
      "text/html": [
       "<strong id=\"less_0_1\"><a class=\"ProveItLink\" href=\"_proofs_/less_0_1.ipynb\">less_0_1</a>:</strong> <a class=\"ProveItLink\" href=\"__pv_it/d060bd26c883154e5b471568d486c4165d01a0d00/expr.ipynb\"><img src=\"__pv_it/d060bd26c883154e5b471568d486c4165d01a0d00/expr.png\" style=\"display:inline;vertical-align:middle;\" /></a><br>\n",
       "<strong id=\"less_1_2\"><a class=\"ProveItLink\" href=\"_proofs_/less_1_2.ipynb\">less_1_2</a>:</strong> <a class=\"ProveItLink\" href=\"__pv_it/3f96bd3cd3458158a7aac789291520ebb13da1980/expr.ipynb\"><img src=\"__pv_it/3f96bd3cd3458158a7aac789291520ebb13da1980/expr.png\" style=\"display:inline;vertical-align:middle;\" /></a><br>\n",
       "<strong id=\"less_2_3\"><a class=\"ProveItLink\" href=\"_proofs_/less_2_3.ipynb\">less_2_3</a>:</strong> <a class=\"ProveItLink\" href=\"__pv_it/ea73ff1eea783ca266e3b5ffcdce42d0484d9f6a0/expr.ipynb\"><img src=\"__pv_it/ea73ff1eea783ca266e3b5ffcdce42d0484d9f6a0/expr.png\" style=\"display:inline;vertical-align:middle;\" /></a><br>\n",
       "<strong id=\"less_3_4\"><a class=\"ProveItLink\" href=\"_proofs_/less_3_4.ipynb\">less_3_4</a>:</strong> <a class=\"ProveItLink\" href=\"__pv_it/062fba8f811ddd0affa8a613573c5a0599a508690/expr.ipynb\"><img src=\"__pv_it/062fba8f811ddd0affa8a613573c5a0599a508690/expr.png\" style=\"display:inline;vertical-align:middle;\" /></a><br>\n",
       "<strong id=\"less_4_5\"><a class=\"ProveItLink\" href=\"_proofs_/less_4_5.ipynb\">less_4_5</a>:</strong> <a class=\"ProveItLink\" href=\"__pv_it/9bcbd5f65b86303142f407ec37fc070a174cd48f0/expr.ipynb\"><img src=\"__pv_it/9bcbd5f65b86303142f407ec37fc070a174cd48f0/expr.png\" style=\"display:inline;vertical-align:middle;\" /></a><br>\n",
       "<strong id=\"less_5_6\"><a class=\"ProveItLink\" href=\"_proofs_/less_5_6.ipynb\">less_5_6</a>:</strong> <a class=\"ProveItLink\" href=\"__pv_it/0696f2ed126c6fc3b976a835d92848b94db3b5c20/expr.ipynb\"><img src=\"__pv_it/0696f2ed126c6fc3b976a835d92848b94db3b5c20/expr.png\" style=\"display:inline;vertical-align:middle;\" /></a><br>\n",
       "<strong id=\"less_6_7\"><a class=\"ProveItLink\" href=\"_proofs_/less_6_7.ipynb\">less_6_7</a>:</strong> <a class=\"ProveItLink\" href=\"__pv_it/4ee51052f4c8646ad1a0bdccea086774b6b906cf0/expr.ipynb\"><img src=\"__pv_it/4ee51052f4c8646ad1a0bdccea086774b6b906cf0/expr.png\" style=\"display:inline;vertical-align:middle;\" /></a><br>\n",
       "<strong id=\"less_7_8\"><a class=\"ProveItLink\" href=\"_proofs_/less_7_8.ipynb\">less_7_8</a>:</strong> <a class=\"ProveItLink\" href=\"__pv_it/fe4b3dad26861935c5ce13f85acf58b5fda14c080/expr.ipynb\"><img src=\"__pv_it/fe4b3dad26861935c5ce13f85acf58b5fda14c080/expr.png\" style=\"display:inline;vertical-align:middle;\" /></a><br>\n",
       "<strong id=\"less_8_9\"><a class=\"ProveItLink\" href=\"_proofs_/less_8_9.ipynb\">less_8_9</a>:</strong> <a class=\"ProveItLink\" href=\"__pv_it/420060b3211fc38f60276be8a2fa7a8b6f8627720/expr.ipynb\"><img src=\"__pv_it/420060b3211fc38f60276be8a2fa7a8b6f8627720/expr.png\" style=\"display:inline;vertical-align:middle;\" /></a><br>"
      ],
      "text/plain": [
       "less_0_1: 0 < 1\n",
       "less_1_2: 1 < 2\n",
       "less_2_3: 2 < 3\n",
       "less_3_4: 3 < 4\n",
       "less_4_5: 4 < 5\n",
       "less_5_6: 5 < 6\n",
       "less_6_7: 6 < 7\n",
       "less_7_8: 7 < 8\n",
       "less_8_9: 8 < 9"
      ]
     },
     "execution_count": 6,
     "metadata": {},
     "output_type": "execute_result"
    }
   ],
   "source": [
    "less_0_1, less_1_2, less_2_3, less_3_4, less_4_5, less_5_6, less_6_7, less_7_8, less_8_9 = [Less(num(n), num(n+1)) for n in range(9)]"
   ]
  },
  {
   "cell_type": "code",
   "execution_count": 7,
   "metadata": {},
   "outputs": [
    {
     "data": {
      "text/html": [
       "<strong id=\"sorted_digits\"><a class=\"ProveItLink\" href=\"_proofs_/sorted_digits.ipynb\">sorted_digits</a>:</strong> <a class=\"ProveItLink\" href=\"__pv_it/71cebb8f6c07fb147e720c1d70db6e454e5789ad0/expr.ipynb\"><img src=\"__pv_it/71cebb8f6c07fb147e720c1d70db6e454e5789ad0/expr.png\" style=\"display:inline;vertical-align:middle;\" /></a><br>"
      ],
      "text/plain": [
       "sorted_digits: 0 < 1 < 2 < 3 < 4 < 5 < 6 < 7 < 8 < 9"
      ]
     },
     "execution_count": 7,
     "metadata": {},
     "output_type": "execute_result"
    }
   ],
   "source": [
    "sorted_digits = LesserSequence([Less._operator_]*9, [num(n) for n in range(10)])"
   ]
  },
  {
   "cell_type": "markdown",
   "metadata": {},
   "source": [
    "### Adding digits"
   ]
  },
  {
   "cell_type": "code",
   "execution_count": 8,
   "metadata": {},
   "outputs": [
    {
     "data": {
      "text/html": [
       "<strong id=\"add_0_0\"><a class=\"ProveItLink\" href=\"_proofs_/add_0_0.ipynb\">add_0_0</a>:</strong> <a class=\"ProveItLink\" href=\"__pv_it/e14e6051b2196e2cf68342775b707fff2ddb01d50/expr.ipynb\"><img src=\"__pv_it/e14e6051b2196e2cf68342775b707fff2ddb01d50/expr.png\" style=\"display:inline;vertical-align:middle;\" /></a><br>\n",
       "<strong id=\"add_1_0\"><a class=\"ProveItLink\" href=\"_proofs_/add_1_0.ipynb\">add_1_0</a>:</strong> <a class=\"ProveItLink\" href=\"__pv_it/0075539f71b94c9f478eaea30340d22052852bde0/expr.ipynb\"><img src=\"__pv_it/0075539f71b94c9f478eaea30340d22052852bde0/expr.png\" style=\"display:inline;vertical-align:middle;\" /></a><br>\n",
       "<strong id=\"add_2_0\"><a class=\"ProveItLink\" href=\"_proofs_/add_2_0.ipynb\">add_2_0</a>:</strong> <a class=\"ProveItLink\" href=\"__pv_it/a91f8eac5a80b27dccb72afd6e5638294f80c9560/expr.ipynb\"><img src=\"__pv_it/a91f8eac5a80b27dccb72afd6e5638294f80c9560/expr.png\" style=\"display:inline;vertical-align:middle;\" /></a><br>\n",
       "<strong id=\"add_3_0\"><a class=\"ProveItLink\" href=\"_proofs_/add_3_0.ipynb\">add_3_0</a>:</strong> <a class=\"ProveItLink\" href=\"__pv_it/bbc8f3839bba516380454981a7fde5dd0d2213dc0/expr.ipynb\"><img src=\"__pv_it/bbc8f3839bba516380454981a7fde5dd0d2213dc0/expr.png\" style=\"display:inline;vertical-align:middle;\" /></a><br>\n",
       "<strong id=\"add_4_0\"><a class=\"ProveItLink\" href=\"_proofs_/add_4_0.ipynb\">add_4_0</a>:</strong> <a class=\"ProveItLink\" href=\"__pv_it/0fb00d6aeec171bd69d26cd74138e7f466ce0d670/expr.ipynb\"><img src=\"__pv_it/0fb00d6aeec171bd69d26cd74138e7f466ce0d670/expr.png\" style=\"display:inline;vertical-align:middle;\" /></a><br>\n",
       "<strong id=\"add_5_0\"><a class=\"ProveItLink\" href=\"_proofs_/add_5_0.ipynb\">add_5_0</a>:</strong> <a class=\"ProveItLink\" href=\"__pv_it/b9f051f9e88f9188de098b01eaa3bc2b624115430/expr.ipynb\"><img src=\"__pv_it/b9f051f9e88f9188de098b01eaa3bc2b624115430/expr.png\" style=\"display:inline;vertical-align:middle;\" /></a><br>\n",
       "<strong id=\"add_6_0\"><a class=\"ProveItLink\" href=\"_proofs_/add_6_0.ipynb\">add_6_0</a>:</strong> <a class=\"ProveItLink\" href=\"__pv_it/2a83ceff4d69cf445bf5f20e0a80e6fbfcaab0500/expr.ipynb\"><img src=\"__pv_it/2a83ceff4d69cf445bf5f20e0a80e6fbfcaab0500/expr.png\" style=\"display:inline;vertical-align:middle;\" /></a><br>\n",
       "<strong id=\"add_7_0\"><a class=\"ProveItLink\" href=\"_proofs_/add_7_0.ipynb\">add_7_0</a>:</strong> <a class=\"ProveItLink\" href=\"__pv_it/1ca27d91eccc24df67793919a361909157da1b200/expr.ipynb\"><img src=\"__pv_it/1ca27d91eccc24df67793919a361909157da1b200/expr.png\" style=\"display:inline;vertical-align:middle;\" /></a><br>\n",
       "<strong id=\"add_8_0\"><a class=\"ProveItLink\" href=\"_proofs_/add_8_0.ipynb\">add_8_0</a>:</strong> <a class=\"ProveItLink\" href=\"__pv_it/ba121d4acb0990ab7df6450690cf1fbee96c5e820/expr.ipynb\"><img src=\"__pv_it/ba121d4acb0990ab7df6450690cf1fbee96c5e820/expr.png\" style=\"display:inline;vertical-align:middle;\" /></a><br>\n",
       "<strong id=\"add_9_0\"><a class=\"ProveItLink\" href=\"_proofs_/add_9_0.ipynb\">add_9_0</a>:</strong> <a class=\"ProveItLink\" href=\"__pv_it/307eb32b2393ee3aaeca4497f520438dbd5796850/expr.ipynb\"><img src=\"__pv_it/307eb32b2393ee3aaeca4497f520438dbd5796850/expr.png\" style=\"display:inline;vertical-align:middle;\" /></a><br>"
      ],
      "text/plain": [
       "add_0_0: (0 + 0) = 0\n",
       "add_1_0: (1 + 0) = 1\n",
       "add_2_0: (2 + 0) = 2\n",
       "add_3_0: (3 + 0) = 3\n",
       "add_4_0: (4 + 0) = 4\n",
       "add_5_0: (5 + 0) = 5\n",
       "add_6_0: (6 + 0) = 6\n",
       "add_7_0: (7 + 0) = 7\n",
       "add_8_0: (8 + 0) = 8\n",
       "add_9_0: (9 + 0) = 9"
      ]
     },
     "execution_count": 8,
     "metadata": {},
     "output_type": "execute_result"
    }
   ],
   "source": [
    "add_0_0, add_1_0, add_2_0, add_3_0, add_4_0, add_5_0, add_6_0, add_7_0, add_8_0, add_9_0 = [Equals(Add(num(n), num(0)), num(n+0)) for n in range(10)]"
   ]
  },
  {
   "cell_type": "code",
   "execution_count": null,
   "metadata": {},
   "outputs": [
    {
     "data": {
      "text/html": [
       "<strong id=\"add_0_1\"><a class=\"ProveItLink\" href=\"_proofs_/add_0_1.ipynb\">add_0_1</a>:</strong> <a class=\"ProveItLink\" href=\"__pv_it/60fe8dc528763e948b41f286ce5e6fda27bf53590/expr.ipynb\"><img src=\"__pv_it/60fe8dc528763e948b41f286ce5e6fda27bf53590/expr.png\" style=\"display:inline;vertical-align:middle;\" /></a><br>\n",
       "<strong id=\"add_1_1\"><a class=\"ProveItLink\" href=\"_proofs_/add_1_1.ipynb\">add_1_1</a>:</strong> <a class=\"ProveItLink\" href=\"__pv_it/5b6ff6a2fca03ad41d2a3084e44fbb28428ffb6a0/expr.ipynb\"><img src=\"__pv_it/5b6ff6a2fca03ad41d2a3084e44fbb28428ffb6a0/expr.png\" style=\"display:inline;vertical-align:middle;\" /></a><br>\n",
       "<strong id=\"add_2_1\"><a class=\"ProveItLink\" href=\"_proofs_/add_2_1.ipynb\">add_2_1</a>:</strong> <a class=\"ProveItLink\" href=\"__pv_it/349c663074c343ced32577f83aa9971191d0752c0/expr.ipynb\"><img src=\"__pv_it/349c663074c343ced32577f83aa9971191d0752c0/expr.png\" style=\"display:inline;vertical-align:middle;\" /></a><br>\n",
       "<strong id=\"add_3_1\"><a class=\"ProveItLink\" href=\"_proofs_/add_3_1.ipynb\">add_3_1</a>:</strong> <a class=\"ProveItLink\" href=\"__pv_it/9b6fcf185675beb8420ce00c17510693f9522a6a0/expr.ipynb\"><img src=\"__pv_it/9b6fcf185675beb8420ce00c17510693f9522a6a0/expr.png\" style=\"display:inline;vertical-align:middle;\" /></a><br>\n",
       "<strong id=\"add_4_1\"><a class=\"ProveItLink\" href=\"_proofs_/add_4_1.ipynb\">add_4_1</a>:</strong> <a class=\"ProveItLink\" href=\"__pv_it/eee32dd69c573fe7e17382936ba1bd03dbd127bf0/expr.ipynb\"><img src=\"__pv_it/eee32dd69c573fe7e17382936ba1bd03dbd127bf0/expr.png\" style=\"display:inline;vertical-align:middle;\" /></a><br>\n",
       "<strong id=\"add_5_1\"><a class=\"ProveItLink\" href=\"_proofs_/add_5_1.ipynb\">add_5_1</a>:</strong> <a class=\"ProveItLink\" href=\"__pv_it/8ba85fbad86aadba9e2262cd4c93b1ca4c769c8b0/expr.ipynb\"><img src=\"__pv_it/8ba85fbad86aadba9e2262cd4c93b1ca4c769c8b0/expr.png\" style=\"display:inline;vertical-align:middle;\" /></a><br>\n",
       "<strong id=\"add_6_1\"><a class=\"ProveItLink\" href=\"_proofs_/add_6_1.ipynb\">add_6_1</a>:</strong> <a class=\"ProveItLink\" href=\"__pv_it/2cb1357112fd6589bc134484ccd118fb572e3a000/expr.ipynb\"><img src=\"__pv_it/2cb1357112fd6589bc134484ccd118fb572e3a000/expr.png\" style=\"display:inline;vertical-align:middle;\" /></a><br>\n",
       "<strong id=\"add_7_1\"><a class=\"ProveItLink\" href=\"_proofs_/add_7_1.ipynb\">add_7_1</a>:</strong> <a class=\"ProveItLink\" href=\"__pv_it/6c2f46afe1b95b68353efd46829e982bc77866a80/expr.ipynb\"><img src=\"__pv_it/6c2f46afe1b95b68353efd46829e982bc77866a80/expr.png\" style=\"display:inline;vertical-align:middle;\" /></a><br>\n",
       "<strong id=\"add_8_1\"><a class=\"ProveItLink\" href=\"_proofs_/add_8_1.ipynb\">add_8_1</a>:</strong> <a class=\"ProveItLink\" href=\"__pv_it/4a971c58f5162c6820d3478bafcbd6b780c4dbd30/expr.ipynb\"><img src=\"__pv_it/4a971c58f5162c6820d3478bafcbd6b780c4dbd30/expr.png\" style=\"display:inline;vertical-align:middle;\" /></a><br>\n",
       "<strong id=\"add_9_1\"><a class=\"ProveItLink\" href=\"_proofs_/add_9_1.ipynb\">add_9_1</a>:</strong> <a class=\"ProveItLink\" href=\"__pv_it/e9012bd821ff3b0580864df7cf52e06b2afd79b30/expr.ipynb\"><img src=\"__pv_it/e9012bd821ff3b0580864df7cf52e06b2afd79b30/expr.png\" style=\"display:inline;vertical-align:middle;\" /></a><br>"
      ],
      "text/plain": [
       "add_0_1: (0 + 1) = 1\n",
       "add_1_1: (1 + 1) = 2\n",
       "add_2_1: (2 + 1) = 3\n",
       "add_3_1: (3 + 1) = 4\n",
       "add_4_1: (4 + 1) = 5\n",
       "add_5_1: (5 + 1) = 6\n",
       "add_6_1: (6 + 1) = 7\n",
       "add_7_1: (7 + 1) = 8\n",
       "add_8_1: (8 + 1) = 9\n",
       "add_9_1: (9 + 1) = 10"
      ]
     },
     "execution_count": 9,
     "metadata": {},
     "output_type": "execute_result"
    }
   ],
   "source": [
    "add_0_1, add_1_1, add_2_1, add_3_1, add_4_1, add_5_1, add_6_1, add_7_1, add_8_1, add_9_1 = [Equals(Add(num(n), num(1)), num(n+1)) for n in range(10)]"
   ]
  },
  {
   "cell_type": "code",
   "execution_count": null,
   "metadata": {},
   "outputs": [
    {
     "data": {
      "text/html": [
       "<strong id=\"add_0_2\"><a class=\"ProveItLink\" href=\"_proofs_/add_0_2.ipynb\">add_0_2</a>:</strong> <a class=\"ProveItLink\" href=\"__pv_it/70ac6e204933b094488caccfffd70bdd0e17ab760/expr.ipynb\"><img src=\"__pv_it/70ac6e204933b094488caccfffd70bdd0e17ab760/expr.png\" style=\"display:inline;vertical-align:middle;\" /></a><br>\n",
       "<strong id=\"add_1_2\"><a class=\"ProveItLink\" href=\"_proofs_/add_1_2.ipynb\">add_1_2</a>:</strong> <a class=\"ProveItLink\" href=\"__pv_it/5c0392a5de448a660d9cd1bf28f136227f8701e90/expr.ipynb\"><img src=\"__pv_it/5c0392a5de448a660d9cd1bf28f136227f8701e90/expr.png\" style=\"display:inline;vertical-align:middle;\" /></a><br>\n",
       "<strong id=\"add_2_2\"><a class=\"ProveItLink\" href=\"_proofs_/add_2_2.ipynb\">add_2_2</a>:</strong> <a class=\"ProveItLink\" href=\"__pv_it/7ecafd1924c20d6332f2dfe5ae7acb0922f5f5450/expr.ipynb\"><img src=\"__pv_it/7ecafd1924c20d6332f2dfe5ae7acb0922f5f5450/expr.png\" style=\"display:inline;vertical-align:middle;\" /></a><br>\n",
       "<strong id=\"add_3_2\"><a class=\"ProveItLink\" href=\"_proofs_/add_3_2.ipynb\">add_3_2</a>:</strong> <a class=\"ProveItLink\" href=\"__pv_it/f95800268194e4cb92d0d58c47bd7869314bfe470/expr.ipynb\"><img src=\"__pv_it/f95800268194e4cb92d0d58c47bd7869314bfe470/expr.png\" style=\"display:inline;vertical-align:middle;\" /></a><br>\n",
       "<strong id=\"add_4_2\"><a class=\"ProveItLink\" href=\"_proofs_/add_4_2.ipynb\">add_4_2</a>:</strong> <a class=\"ProveItLink\" href=\"__pv_it/048a1b41ddea93fbce1ba229aaec1174620a605e0/expr.ipynb\"><img src=\"__pv_it/048a1b41ddea93fbce1ba229aaec1174620a605e0/expr.png\" style=\"display:inline;vertical-align:middle;\" /></a><br>\n",
       "<strong id=\"add_5_2\"><a class=\"ProveItLink\" href=\"_proofs_/add_5_2.ipynb\">add_5_2</a>:</strong> <a class=\"ProveItLink\" href=\"__pv_it/aac857858ec5c7e2cc40872d93e6a02f3f1499b80/expr.ipynb\"><img src=\"__pv_it/aac857858ec5c7e2cc40872d93e6a02f3f1499b80/expr.png\" style=\"display:inline;vertical-align:middle;\" /></a><br>\n",
       "<strong id=\"add_6_2\"><a class=\"ProveItLink\" href=\"_proofs_/add_6_2.ipynb\">add_6_2</a>:</strong> <a class=\"ProveItLink\" href=\"__pv_it/0bad2c7582c67ea890cd7a937579ec15b35cdf8e0/expr.ipynb\"><img src=\"__pv_it/0bad2c7582c67ea890cd7a937579ec15b35cdf8e0/expr.png\" style=\"display:inline;vertical-align:middle;\" /></a><br>\n",
       "<strong id=\"add_7_2\"><a class=\"ProveItLink\" href=\"_proofs_/add_7_2.ipynb\">add_7_2</a>:</strong> <a class=\"ProveItLink\" href=\"__pv_it/383727f2358c1737ecfa6abefaa6a1ba1060597a0/expr.ipynb\"><img src=\"__pv_it/383727f2358c1737ecfa6abefaa6a1ba1060597a0/expr.png\" style=\"display:inline;vertical-align:middle;\" /></a><br>\n",
       "<strong id=\"add_8_2\"><a class=\"ProveItLink\" href=\"_proofs_/add_8_2.ipynb\">add_8_2</a>:</strong> <a class=\"ProveItLink\" href=\"__pv_it/bed7e559b80fca6a5d2c7e69af5f6b86b6c88b750/expr.ipynb\"><img src=\"__pv_it/bed7e559b80fca6a5d2c7e69af5f6b86b6c88b750/expr.png\" style=\"display:inline;vertical-align:middle;\" /></a><br>\n",
       "<strong id=\"add_9_2\"><a class=\"ProveItLink\" href=\"_proofs_/add_9_2.ipynb\">add_9_2</a>:</strong> <a class=\"ProveItLink\" href=\"__pv_it/7b12a7e9756dda0c82c857dc2e8b6202573901130/expr.ipynb\"><img src=\"__pv_it/7b12a7e9756dda0c82c857dc2e8b6202573901130/expr.png\" style=\"display:inline;vertical-align:middle;\" /></a><br>"
      ],
      "text/plain": [
       "add_0_2: (0 + 2) = 2\n",
       "add_1_2: (1 + 2) = 3\n",
       "add_2_2: (2 + 2) = 4\n",
       "add_3_2: (3 + 2) = 5\n",
       "add_4_2: (4 + 2) = 6\n",
       "add_5_2: (5 + 2) = 7\n",
       "add_6_2: (6 + 2) = 8\n",
       "add_7_2: (7 + 2) = 9\n",
       "add_8_2: (8 + 2) = 10\n",
       "add_9_2: (9 + 2) = 11"
      ]
     },
     "execution_count": 10,
     "metadata": {},
     "output_type": "execute_result"
    }
   ],
   "source": [
    "add_0_2, add_1_2, add_2_2, add_3_2, add_4_2, add_5_2, add_6_2, add_7_2, add_8_2, add_9_2 = [Equals(Add(num(n), num(2)), num(n+2)) for n in range(10)]"
   ]
  },
  {
   "cell_type": "code",
   "execution_count": null,
   "metadata": {},
   "outputs": [
    {
     "data": {
      "text/html": [
       "<strong id=\"add_0_3\"><a class=\"ProveItLink\" href=\"_proofs_/add_0_3.ipynb\">add_0_3</a>:</strong> <a class=\"ProveItLink\" href=\"__pv_it/fcc5dfdab615c29e13cb32de6096d01f12c842a50/expr.ipynb\"><img src=\"__pv_it/fcc5dfdab615c29e13cb32de6096d01f12c842a50/expr.png\" style=\"display:inline;vertical-align:middle;\" /></a><br>\n",
       "<strong id=\"add_1_3\"><a class=\"ProveItLink\" href=\"_proofs_/add_1_3.ipynb\">add_1_3</a>:</strong> <a class=\"ProveItLink\" href=\"__pv_it/1cb2805d0ee1aaf52f0c80402a1b2a4d588292090/expr.ipynb\"><img src=\"__pv_it/1cb2805d0ee1aaf52f0c80402a1b2a4d588292090/expr.png\" style=\"display:inline;vertical-align:middle;\" /></a><br>\n",
       "<strong id=\"add_2_3\"><a class=\"ProveItLink\" href=\"_proofs_/add_2_3.ipynb\">add_2_3</a>:</strong> <a class=\"ProveItLink\" href=\"__pv_it/7ad315ec0cd788a3b266f93a007ccf5207338df40/expr.ipynb\"><img src=\"__pv_it/7ad315ec0cd788a3b266f93a007ccf5207338df40/expr.png\" style=\"display:inline;vertical-align:middle;\" /></a><br>\n",
       "<strong id=\"add_3_3\"><a class=\"ProveItLink\" href=\"_proofs_/add_3_3.ipynb\">add_3_3</a>:</strong> <a class=\"ProveItLink\" href=\"__pv_it/7156e8d5c8073dae34ba9a56ba5965a342f527ff0/expr.ipynb\"><img src=\"__pv_it/7156e8d5c8073dae34ba9a56ba5965a342f527ff0/expr.png\" style=\"display:inline;vertical-align:middle;\" /></a><br>\n",
       "<strong id=\"add_4_3\"><a class=\"ProveItLink\" href=\"_proofs_/add_4_3.ipynb\">add_4_3</a>:</strong> <a class=\"ProveItLink\" href=\"__pv_it/ecb7d9e51fbd76558de89ac19e2c0c8d5a89bc110/expr.ipynb\"><img src=\"__pv_it/ecb7d9e51fbd76558de89ac19e2c0c8d5a89bc110/expr.png\" style=\"display:inline;vertical-align:middle;\" /></a><br>\n",
       "<strong id=\"add_5_3\"><a class=\"ProveItLink\" href=\"_proofs_/add_5_3.ipynb\">add_5_3</a>:</strong> <a class=\"ProveItLink\" href=\"__pv_it/dfab8dc7e543c587ffa1c448c0943127870bfd8e0/expr.ipynb\"><img src=\"__pv_it/dfab8dc7e543c587ffa1c448c0943127870bfd8e0/expr.png\" style=\"display:inline;vertical-align:middle;\" /></a><br>\n",
       "<strong id=\"add_6_3\"><a class=\"ProveItLink\" href=\"_proofs_/add_6_3.ipynb\">add_6_3</a>:</strong> <a class=\"ProveItLink\" href=\"__pv_it/07d3430ebb6976e05984417068760c49eb2a66420/expr.ipynb\"><img src=\"__pv_it/07d3430ebb6976e05984417068760c49eb2a66420/expr.png\" style=\"display:inline;vertical-align:middle;\" /></a><br>\n",
       "<strong id=\"add_7_3\"><a class=\"ProveItLink\" href=\"_proofs_/add_7_3.ipynb\">add_7_3</a>:</strong> <a class=\"ProveItLink\" href=\"__pv_it/4bc47e06e60cadb67e746903aaa6c59cd19809930/expr.ipynb\"><img src=\"__pv_it/4bc47e06e60cadb67e746903aaa6c59cd19809930/expr.png\" style=\"display:inline;vertical-align:middle;\" /></a><br>\n",
       "<strong id=\"add_8_3\"><a class=\"ProveItLink\" href=\"_proofs_/add_8_3.ipynb\">add_8_3</a>:</strong> <a class=\"ProveItLink\" href=\"__pv_it/815c7565ab73f6ea965fee9bf2caee0922f215760/expr.ipynb\"><img src=\"__pv_it/815c7565ab73f6ea965fee9bf2caee0922f215760/expr.png\" style=\"display:inline;vertical-align:middle;\" /></a><br>\n",
       "<strong id=\"add_9_3\"><a class=\"ProveItLink\" href=\"_proofs_/add_9_3.ipynb\">add_9_3</a>:</strong> <a class=\"ProveItLink\" href=\"__pv_it/8e4412756728fa9221a8fbd12b1af3e2f00c183d0/expr.ipynb\"><img src=\"__pv_it/8e4412756728fa9221a8fbd12b1af3e2f00c183d0/expr.png\" style=\"display:inline;vertical-align:middle;\" /></a><br>"
      ],
      "text/plain": [
       "add_0_3: (0 + 3) = 3\n",
       "add_1_3: (1 + 3) = 4\n",
       "add_2_3: (2 + 3) = 5\n",
       "add_3_3: (3 + 3) = 6\n",
       "add_4_3: (4 + 3) = 7\n",
       "add_5_3: (5 + 3) = 8\n",
       "add_6_3: (6 + 3) = 9\n",
       "add_7_3: (7 + 3) = 10\n",
       "add_8_3: (8 + 3) = 11\n",
       "add_9_3: (9 + 3) = 12"
      ]
     },
     "execution_count": 11,
     "metadata": {},
     "output_type": "execute_result"
    }
   ],
   "source": [
    "add_0_3, add_1_3, add_2_3, add_3_3, add_4_3, add_5_3, add_6_3, add_7_3, add_8_3, add_9_3 = [Equals(Add(num(n), num(3)), num(n+3)) for n in range(10)]"
   ]
  },
  {
   "cell_type": "code",
   "execution_count": null,
   "metadata": {},
   "outputs": [
    {
     "data": {
      "text/html": [
       "<strong id=\"add_0_4\"><a class=\"ProveItLink\" href=\"_proofs_/add_0_4.ipynb\">add_0_4</a>:</strong> <a class=\"ProveItLink\" href=\"__pv_it/6240de3dfdaedf97330397bd46c9a35faa7239f20/expr.ipynb\"><img src=\"__pv_it/6240de3dfdaedf97330397bd46c9a35faa7239f20/expr.png\" style=\"display:inline;vertical-align:middle;\" /></a><br>\n",
       "<strong id=\"add_1_4\"><a class=\"ProveItLink\" href=\"_proofs_/add_1_4.ipynb\">add_1_4</a>:</strong> <a class=\"ProveItLink\" href=\"__pv_it/a67ca7688c5cad4da65f89458112e1635229e73d0/expr.ipynb\"><img src=\"__pv_it/a67ca7688c5cad4da65f89458112e1635229e73d0/expr.png\" style=\"display:inline;vertical-align:middle;\" /></a><br>\n",
       "<strong id=\"add_2_4\"><a class=\"ProveItLink\" href=\"_proofs_/add_2_4.ipynb\">add_2_4</a>:</strong> <a class=\"ProveItLink\" href=\"__pv_it/907f13e5f66c31d66b298c1bfc07503771b114830/expr.ipynb\"><img src=\"__pv_it/907f13e5f66c31d66b298c1bfc07503771b114830/expr.png\" style=\"display:inline;vertical-align:middle;\" /></a><br>\n",
       "<strong id=\"add_3_4\"><a class=\"ProveItLink\" href=\"_proofs_/add_3_4.ipynb\">add_3_4</a>:</strong> <a class=\"ProveItLink\" href=\"__pv_it/7badaaa61abe378c78799f5130be938114d353d50/expr.ipynb\"><img src=\"__pv_it/7badaaa61abe378c78799f5130be938114d353d50/expr.png\" style=\"display:inline;vertical-align:middle;\" /></a><br>\n",
       "<strong id=\"add_4_4\"><a class=\"ProveItLink\" href=\"_proofs_/add_4_4.ipynb\">add_4_4</a>:</strong> <a class=\"ProveItLink\" href=\"__pv_it/a8f573f0aae8a25e55bf14fc18acc1d6a6a8076e0/expr.ipynb\"><img src=\"__pv_it/a8f573f0aae8a25e55bf14fc18acc1d6a6a8076e0/expr.png\" style=\"display:inline;vertical-align:middle;\" /></a><br>\n",
       "<strong id=\"add_5_4\"><a class=\"ProveItLink\" href=\"_proofs_/add_5_4.ipynb\">add_5_4</a>:</strong> <a class=\"ProveItLink\" href=\"__pv_it/8a6bfb839f8e75955287c028b594e58db86f7bce0/expr.ipynb\"><img src=\"__pv_it/8a6bfb839f8e75955287c028b594e58db86f7bce0/expr.png\" style=\"display:inline;vertical-align:middle;\" /></a><br>\n",
       "<strong id=\"add_6_4\"><a class=\"ProveItLink\" href=\"_proofs_/add_6_4.ipynb\">add_6_4</a>:</strong> <a class=\"ProveItLink\" href=\"__pv_it/dac2b240fab044d662b789bbcc9442fda5d9cef00/expr.ipynb\"><img src=\"__pv_it/dac2b240fab044d662b789bbcc9442fda5d9cef00/expr.png\" style=\"display:inline;vertical-align:middle;\" /></a><br>\n",
       "<strong id=\"add_7_4\"><a class=\"ProveItLink\" href=\"_proofs_/add_7_4.ipynb\">add_7_4</a>:</strong> <a class=\"ProveItLink\" href=\"__pv_it/dabbe04367af6f4ccef4997c86820a2c9c6045ae0/expr.ipynb\"><img src=\"__pv_it/dabbe04367af6f4ccef4997c86820a2c9c6045ae0/expr.png\" style=\"display:inline;vertical-align:middle;\" /></a><br>\n",
       "<strong id=\"add_8_4\"><a class=\"ProveItLink\" href=\"_proofs_/add_8_4.ipynb\">add_8_4</a>:</strong> <a class=\"ProveItLink\" href=\"__pv_it/a8746df71dd8b25d544aeba829d789ec8e82d73c0/expr.ipynb\"><img src=\"__pv_it/a8746df71dd8b25d544aeba829d789ec8e82d73c0/expr.png\" style=\"display:inline;vertical-align:middle;\" /></a><br>\n",
       "<strong id=\"add_9_4\"><a class=\"ProveItLink\" href=\"_proofs_/add_9_4.ipynb\">add_9_4</a>:</strong> <a class=\"ProveItLink\" href=\"__pv_it/f7140c79fc896770c68aacf43b9d3fd1c2a867dd0/expr.ipynb\"><img src=\"__pv_it/f7140c79fc896770c68aacf43b9d3fd1c2a867dd0/expr.png\" style=\"display:inline;vertical-align:middle;\" /></a><br>"
      ],
      "text/plain": [
       "add_0_4: (0 + 4) = 4\n",
       "add_1_4: (1 + 4) = 5\n",
       "add_2_4: (2 + 4) = 6\n",
       "add_3_4: (3 + 4) = 7\n",
       "add_4_4: (4 + 4) = 8\n",
       "add_5_4: (5 + 4) = 9\n",
       "add_6_4: (6 + 4) = 10\n",
       "add_7_4: (7 + 4) = 11\n",
       "add_8_4: (8 + 4) = 12\n",
       "add_9_4: (9 + 4) = 13"
      ]
     },
     "execution_count": 12,
     "metadata": {},
     "output_type": "execute_result"
    }
   ],
   "source": [
    "add_0_4, add_1_4, add_2_4, add_3_4, add_4_4, add_5_4, add_6_4, add_7_4, add_8_4, add_9_4 = [Equals(Add(num(n), num(4)), num(n+4)) for n in range(10)]"
   ]
  },
  {
   "cell_type": "code",
   "execution_count": null,
   "metadata": {},
   "outputs": [
    {
     "data": {
      "text/html": [
       "<strong id=\"add_0_5\"><a class=\"ProveItLink\" href=\"_proofs_/add_0_5.ipynb\">add_0_5</a>:</strong> <a class=\"ProveItLink\" href=\"__pv_it/83c04e09e621d85885436487bebb927437f471c00/expr.ipynb\"><img src=\"__pv_it/83c04e09e621d85885436487bebb927437f471c00/expr.png\" style=\"display:inline;vertical-align:middle;\" /></a><br>\n",
       "<strong id=\"add_1_5\"><a class=\"ProveItLink\" href=\"_proofs_/add_1_5.ipynb\">add_1_5</a>:</strong> <a class=\"ProveItLink\" href=\"__pv_it/069e4593fa09b0cd992a1d5d60a6e100c727edde0/expr.ipynb\"><img src=\"__pv_it/069e4593fa09b0cd992a1d5d60a6e100c727edde0/expr.png\" style=\"display:inline;vertical-align:middle;\" /></a><br>\n",
       "<strong id=\"add_2_5\"><a class=\"ProveItLink\" href=\"_proofs_/add_2_5.ipynb\">add_2_5</a>:</strong> <a class=\"ProveItLink\" href=\"__pv_it/3b338a6f703ff46ef7be2536c84a820b6219db8a0/expr.ipynb\"><img src=\"__pv_it/3b338a6f703ff46ef7be2536c84a820b6219db8a0/expr.png\" style=\"display:inline;vertical-align:middle;\" /></a><br>\n",
       "<strong id=\"add_3_5\"><a class=\"ProveItLink\" href=\"_proofs_/add_3_5.ipynb\">add_3_5</a>:</strong> <a class=\"ProveItLink\" href=\"__pv_it/2d179cab108c02c6d1bf4773c33847b9bb276b820/expr.ipynb\"><img src=\"__pv_it/2d179cab108c02c6d1bf4773c33847b9bb276b820/expr.png\" style=\"display:inline;vertical-align:middle;\" /></a><br>\n",
       "<strong id=\"add_4_5\"><a class=\"ProveItLink\" href=\"_proofs_/add_4_5.ipynb\">add_4_5</a>:</strong> <a class=\"ProveItLink\" href=\"__pv_it/358420d32eb0b2ec0853c0821df148c324566c940/expr.ipynb\"><img src=\"__pv_it/358420d32eb0b2ec0853c0821df148c324566c940/expr.png\" style=\"display:inline;vertical-align:middle;\" /></a><br>\n",
       "<strong id=\"add_5_5\"><a class=\"ProveItLink\" href=\"_proofs_/add_5_5.ipynb\">add_5_5</a>:</strong> <a class=\"ProveItLink\" href=\"__pv_it/92956c835036552176d40c8cafe1f250e1041b1d0/expr.ipynb\"><img src=\"__pv_it/92956c835036552176d40c8cafe1f250e1041b1d0/expr.png\" style=\"display:inline;vertical-align:middle;\" /></a><br>\n",
       "<strong id=\"add_6_5\"><a class=\"ProveItLink\" href=\"_proofs_/add_6_5.ipynb\">add_6_5</a>:</strong> <a class=\"ProveItLink\" href=\"__pv_it/31ff556425ae1bf99d39b63307860027c534bf980/expr.ipynb\"><img src=\"__pv_it/31ff556425ae1bf99d39b63307860027c534bf980/expr.png\" style=\"display:inline;vertical-align:middle;\" /></a><br>\n",
       "<strong id=\"add_7_5\"><a class=\"ProveItLink\" href=\"_proofs_/add_7_5.ipynb\">add_7_5</a>:</strong> <a class=\"ProveItLink\" href=\"__pv_it/dbf38049bee9b255378f36945d4034afb39c24670/expr.ipynb\"><img src=\"__pv_it/dbf38049bee9b255378f36945d4034afb39c24670/expr.png\" style=\"display:inline;vertical-align:middle;\" /></a><br>\n",
       "<strong id=\"add_8_5\"><a class=\"ProveItLink\" href=\"_proofs_/add_8_5.ipynb\">add_8_5</a>:</strong> <a class=\"ProveItLink\" href=\"__pv_it/bdb5d105e288413b0745b1e0e04ad348befb83910/expr.ipynb\"><img src=\"__pv_it/bdb5d105e288413b0745b1e0e04ad348befb83910/expr.png\" style=\"display:inline;vertical-align:middle;\" /></a><br>\n",
       "<strong id=\"add_9_5\"><a class=\"ProveItLink\" href=\"_proofs_/add_9_5.ipynb\">add_9_5</a>:</strong> <a class=\"ProveItLink\" href=\"__pv_it/eac100cab39301d223babd544382f75911837eaf0/expr.ipynb\"><img src=\"__pv_it/eac100cab39301d223babd544382f75911837eaf0/expr.png\" style=\"display:inline;vertical-align:middle;\" /></a><br>"
      ],
      "text/plain": [
       "add_0_5: (0 + 5) = 5\n",
       "add_1_5: (1 + 5) = 6\n",
       "add_2_5: (2 + 5) = 7\n",
       "add_3_5: (3 + 5) = 8\n",
       "add_4_5: (4 + 5) = 9\n",
       "add_5_5: (5 + 5) = 10\n",
       "add_6_5: (6 + 5) = 11\n",
       "add_7_5: (7 + 5) = 12\n",
       "add_8_5: (8 + 5) = 13\n",
       "add_9_5: (9 + 5) = 14"
      ]
     },
     "execution_count": 13,
     "metadata": {},
     "output_type": "execute_result"
    }
   ],
   "source": [
    "add_0_5, add_1_5, add_2_5, add_3_5, add_4_5, add_5_5, add_6_5, add_7_5, add_8_5, add_9_5 = [Equals(Add(num(n), num(5)), num(n+5)) for n in range(10)]"
   ]
  },
  {
   "cell_type": "code",
   "execution_count": null,
   "metadata": {},
   "outputs": [],
   "source": [
    "add_0_6, add_1_6, add_2_6, add_3_6, add_4_6, add_5_6, add_6_6, add_7_6, add_8_6, add_9_6 = [Equals(Add(num(n), num(6)), num(n+6)) for n in range(10)]"
   ]
  },
  {
   "cell_type": "code",
   "execution_count": null,
   "metadata": {},
   "outputs": [],
   "source": [
    "add_0_7, add_1_7, add_2_7, add_3_7, add_4_7, add_5_7, add_6_7, add_7_7, add_8_7, add_9_7 = [Equals(Add(num(n), num(7)), num(n+7)) for n in range(10)]"
   ]
  },
  {
   "cell_type": "code",
   "execution_count": null,
   "metadata": {},
   "outputs": [],
   "source": [
    "add_0_8, add_1_8, add_2_8, add_3_8, add_4_8, add_5_8, add_6_8, add_7_8, add_8_8, add_9_8 = [Equals(Add(num(n), num(8)), num(n+8)) for n in range(10)]"
   ]
  },
  {
   "cell_type": "code",
   "execution_count": null,
   "metadata": {},
   "outputs": [],
   "source": [
    "add_0_9, add_1_9, add_2_9, add_3_9, add_4_9, add_5_9, add_6_9, add_7_9, add_8_9, add_9_9 = [Equals(Add(num(n), num(9)), num(n+9)) for n in range(10)]"
   ]
  },
  {
   "cell_type": "code",
   "execution_count": null,
   "metadata": {},
   "outputs": [],
   "source": [
    "%end theorems"
   ]
  },
  {
   "cell_type": "code",
   "execution_count": null,
   "metadata": {},
   "outputs": [],
   "source": []
  }
 ],
 "metadata": {
  "kernelspec": {
   "display_name": "Python 3",
   "language": "python",
   "name": "python3"
  },
  "language_info": {
   "codemirror_mode": {
    "name": "ipython",
    "version": 3
   },
   "file_extension": ".py",
   "mimetype": "text/x-python",
   "name": "python",
   "nbconvert_exporter": "python",
   "pygments_lexer": "ipython3",
   "version": "3.7.3"
  }
 },
 "nbformat": 4,
 "nbformat_minor": 1
}
