{
 "cells": [
  {
   "cell_type": "markdown",
   "metadata": {},
   "source": [
    "Expression of type <a class=\"ProveItLink\" href=\"../../../../../../../doc/html/api/proveit.ExprTuple.html\">ExprTuple</a>\n",
    "=======================\n",
    "# from context <a class=\"ProveItLink\" href=\"../../_context_.ipynb\">proveit.number.numeral.deci</a>"
   ]
  },
  {
   "cell_type": "code",
   "execution_count": 1,
   "metadata": {},
   "outputs": [],
   "source": [
    "# import Expression classes needed to build the expression\n",
    "from proveit import ExprTuple\n",
    "from proveit.number import Mult, nine, zero"
   ]
  },
  {
   "cell_type": "code",
   "execution_count": 2,
   "metadata": {},
   "outputs": [
    {
     "data": {
      "text/html": [
       "<strong id=\"expr\">expr:</strong> <a class=\"ProveItLink\" href=\"expr.ipynb\"><img src=\"data:image/png;base64,iVBORw0KGgoAAAANSUhEUgAAAEMAAAAVBAMAAADvM06qAAAAMFBMVEX////c3NwiIiJERESqqqqY\n",
       "mJh2dnZmZmYQEBDu7u4yMjJUVFTMzMyIiIi6uroAAAAs73DqAAAAAXRSTlMAQObYZgAAAV1JREFU\n",
       "KM+NkrEvA3EUxz9XbfVXvbpRYtDBRsRAYnP/gZtspLEYpNGpDASJUaSxaCxuMTBJDBZDd4NLFwmV\n",
       "ltFCg0okGvd6vesNTeOGy/f93ufufd/7PfjHk3b6ZZfldQvHT1vBmbpeK3fU9n2ZQQnOYYqjso+M\n",
       "mNqepyJ1NQk26A56Bt32kTm48lQFHmAREkUil6QbPvID68W2moA3gxK8wnCe1Kdv5QNq9bb8hjuT\n",
       "AZMCjGVJ/Yb/YonQmi7iEM9z5iFNH9mEeSdAskRtDruIEg8nVnQnjKR3aXULnWYktVStmaFCqXdB\n",
       "xO6Xe1ia9mp1OhK7liD7SNPRRmjoF/hNLxhSaBYZXTzj52uG1kJ1RrcCMZtVNxinFFxApZh0PFcR\n",
       "Ux0gTb+4wXHuJqgS35hxXUldVXh0P0zWSRi9duA5UO4FxLK9ECtQOW8Z+iBKVmC0B6EHakh8aH0X\n",
       "swp/Hv1hhNayZSYAAAAASUVORK5CYII=\n",
       "\" style=\"display:inline;vertical-align:middle;\" /></a><br>"
      ],
      "text/plain": [
       "expr: (0 * 9 , 0)"
      ]
     },
     "execution_count": 2,
     "metadata": {},
     "output_type": "execute_result"
    }
   ],
   "source": [
    "# build up the expression from sub-expressions\n",
    "expr = ExprTuple(Mult(zero, nine), zero)"
   ]
  },
  {
   "cell_type": "code",
   "execution_count": 3,
   "metadata": {},
   "outputs": [
    {
     "name": "stdout",
     "output_type": "stream",
     "text": [
      "Passed sanity check: built 'expr' is the same as the stored Expression.\n"
     ]
    }
   ],
   "source": [
    "# check that the built expression is the same as the stored expression\n",
    "%check_expr"
   ]
  },
  {
   "cell_type": "code",
   "execution_count": 4,
   "metadata": {},
   "outputs": [
    {
     "data": {
      "text/html": [
       "<table><tr><th>&nbsp;</th><th>core type</th><th>sub-expressions</th><th>expression</th></tr>\n",
       "<tr><td>0</td><td>ExprTuple</td><td>1, 4</td><td><a class=\"ProveItLink\" href=\"expr.ipynb\"><img src=\"data:image/png;base64,iVBORw0KGgoAAAANSUhEUgAAAEMAAAAVBAMAAADvM06qAAAAMFBMVEX////c3NwiIiJERESqqqqY\n",
       "mJh2dnZmZmYQEBDu7u4yMjJUVFTMzMyIiIi6uroAAAAs73DqAAAAAXRSTlMAQObYZgAAAV1JREFU\n",
       "KM+NkrEvA3EUxz9XbfVXvbpRYtDBRsRAYnP/gZtspLEYpNGpDASJUaSxaCxuMTBJDBZDd4NLFwmV\n",
       "ltFCg0okGvd6vesNTeOGy/f93ufufd/7PfjHk3b6ZZfldQvHT1vBmbpeK3fU9n2ZQQnOYYqjso+M\n",
       "mNqepyJ1NQk26A56Bt32kTm48lQFHmAREkUil6QbPvID68W2moA3gxK8wnCe1Kdv5QNq9bb8hjuT\n",
       "AZMCjGVJ/Yb/YonQmi7iEM9z5iFNH9mEeSdAskRtDruIEg8nVnQnjKR3aXULnWYktVStmaFCqXdB\n",
       "xO6Xe1ia9mp1OhK7liD7SNPRRmjoF/hNLxhSaBYZXTzj52uG1kJ1RrcCMZtVNxinFFxApZh0PFcR\n",
       "Ux0gTb+4wXHuJqgS35hxXUldVXh0P0zWSRi9duA5UO4FxLK9ECtQOW8Z+iBKVmC0B6EHakh8aH0X\n",
       "swp/Hv1hhNayZSYAAAAASUVORK5CYII=\n",
       "\" style=\"display:inline;vertical-align:middle;\" /></a></td></tr>\n",
       "<tr><td>1</td><td>Operation</td><td>operator:&nbsp;2<br>operands:&nbsp;3<br></td><td><a class=\"ProveItLink\" href=\"../2f0aed1c0742786afcf90f256bde4bb79dfce9be0/expr.ipynb\"><img src=\"data:image/png;base64,iVBORw0KGgoAAAANSUhEUgAAACMAAAAOBAMAAABXxbiCAAAAMFBMVEX///9EREQQEBCYmJh2dnaq\n",
       "qqrc3NxUVFQyMjK6uroiIiLMzMyIiIhmZmbu7u4AAADSWfX9AAAAAXRSTlMAQObYZgAAAKZJREFU\n",
       "GNNjYHh75jYDDPDVum8AUisZXm2ACSUFsKkxMPAsYOBpgAkJMTAUMjBwFTBwfoMJ/WBg8H/AwH+B\n",
       "gfsrzKiPDAznJzDkOzBw/0FWZQAW+gITusTAIH8ALsT3AEi8MGC9fwCu8f0CkDKb0+cDwMZ/BnIe\n",
       "CUD0Am0EOoIV7ggg6AA7lWUBjH8+ge0nkFrK8AjuoVMPOA4Aqbc+1XBdLHdFGRgAF1wy6zJ9EBMA\n",
       "AAAASUVORK5CYII=\n",
       "\" style=\"display:inline;vertical-align:middle;\" /></a></td></tr>\n",
       "<tr><td>2</td><td>Literal</td><td></td><td><a class=\"ProveItLink\" href=\"../../../../multiplication/__pv_it/21fd2079611555ecce512d99547a00d551e6b86b0/expr.ipynb\"><img src=\"data:image/png;base64,iVBORw0KGgoAAAANSUhEUgAAAAMAAAADBAMAAACkBqiMAAAAElBMVEX///9EREQQEBAiIiLu7u4A\n",
       "AABGBidwAAAAAXRSTlMAQObYZgAAABFJREFUCNdjYHFgcDVgcBIAAASWAQx4jI0xAAAAAElFTkSu\n",
       "QmCC\n",
       "\" style=\"display:inline;vertical-align:middle;\" /></a></td></tr>\n",
       "<tr><td>3</td><td>ExprTuple</td><td>4, 5</td><td><a class=\"ProveItLink\" href=\"../74254a43cb9bb3b817b473eb655291df8a8b47420/expr.ipynb\"><img src=\"data:image/png;base64,iVBORw0KGgoAAAANSUhEUgAAACkAAAAVBAMAAAAp9toTAAAAMFBMVEX////c3NwiIiJERESqqqqY\n",
       "mJh2dnZmZmYQEBDu7u4yMjJUVFTMzMyIiIi6uroAAAAs73DqAAAAAXRSTlMAQObYZgAAARVJREFU\n",
       "GNNtka9Pw0AYhp9CO9bRdpUkE0ygUZDg6J8whYPMIcjC1ECQAAkaGswWVA0CFAkCg6jHNOgtXZAo\n",
       "xi9BAuG769qMhROX731y9973vQf/Ly+ZAltqe4Du4CAD9t1OzFws1RUscx5ruhAYxxCBm+DWcSNN\n",
       "1+AWNqAcMnODN9L0C3ZDevAM1TbOu7Z9g3TIbEAHFps438XZBqU2lxn91HQf1hPMiNNJetEwDxO8\n",
       "I34mHdjspwHOi6LqtY98MulB6AmqM3OU02uUwypqilKdUFDqG3LXitgWsUQvtl+leAwrkpV09iSi\n",
       "27rHPvNF762IrAwp+3mieaEmtprj2ioCbmVJ/qW2yq82FsWXzCsrY/qH+vALB8xGYw9QxH8AAAAA\n",
       "SUVORK5CYII=\n",
       "\" style=\"display:inline;vertical-align:middle;\" /></a></td></tr>\n",
       "<tr><td>4</td><td>Literal</td><td></td><td><a class=\"ProveItLink\" href=\"../../../__pv_it/ec23fc7a1b4222a5f4948b495002b97d6fa18c3c0/expr.ipynb\"><img src=\"data:image/png;base64,iVBORw0KGgoAAAANSUhEUgAAAAoAAAAOBAMAAADkjZCYAAAALVBMVEX///8QEBCYmJh2dnaqqqrc\n",
       "3NxUVFQyMjK6uroiIiLMzMyIiIhmZmbu7u4AAAAZjyHdAAAAAXRSTlMAQObYZgAAAEpJREFUCNdj\n",
       "YLiz+xQDA8MMhpsLGLgnMHAXMHAmMHA8ZeA7wMD1hCHOgIHrNZh8jES+Bss+AqlkeQrSxTyBgWEK\n",
       "w8UFDAx3rLMYAMCjFldHSx/9AAAAAElFTkSuQmCC\n",
       "\" style=\"display:inline;vertical-align:middle;\" /></a></td></tr>\n",
       "<tr><td>5</td><td>Literal</td><td></td><td><a class=\"ProveItLink\" href=\"../../../__pv_it/cdcd6ad997b4d5c13a719b005810863ba48ff0c70/expr.ipynb\"><img src=\"data:image/png;base64,iVBORw0KGgoAAAANSUhEUgAAAAoAAAAOBAMAAADkjZCYAAAAMFBMVEX///8iIiKYmJi6urqIiIgy\n",
       "MjJERESqqqoQEBDc3NzMzMx2dnZmZmZUVFTu7u4AAABn2L4sAAAAAXRSTlMAQObYZgAAAFVJREFU\n",
       "CNdjYHh7+hYDA2c7w4wJDGwNDLwJDPwBDNz/GN4nMLB8BrM/MfA0MLB9YeALYqj5wsDA5LLkOwMQ\n",
       "ANUAAWsAA8tPhvkGDCxyDCFA/p5jBQwAtzwVEbGPESsAAAAASUVORK5CYII=\n",
       "\" style=\"display:inline;vertical-align:middle;\" /></a></td></tr>\n",
       "</table>\n"
      ],
      "text/plain": [
       "0. (0 * 9 , 0)\n",
       "   core type: ExprTuple\n",
       "   sub-expressions: 1, 4\n",
       "1. 0 * 9\n",
       "   core type: Operation\n",
       "   operator: 2\n",
       "   operands: 3\n",
       "2. *\n",
       "   core type: Literal\n",
       "   sub-expressions: \n",
       "3. (0 , 9)\n",
       "   core type: ExprTuple\n",
       "   sub-expressions: 4, 5\n",
       "4. 0\n",
       "   core type: Literal\n",
       "   sub-expressions: \n",
       "5. 9\n",
       "   core type: Literal\n",
       "   sub-expressions: "
      ]
     },
     "execution_count": 4,
     "metadata": {},
     "output_type": "execute_result"
    }
   ],
   "source": [
    "# display the expression information\n",
    "expr.exprInfo()"
   ]
  },
  {
   "cell_type": "code",
   "execution_count": null,
   "metadata": {},
   "outputs": [],
   "source": []
  }
 ],
 "metadata": {
  "kernelspec": {
   "display_name": "Python 3",
   "language": "python",
   "name": "python3"
  }
 },
 "nbformat": 4,
 "nbformat_minor": 0
}
