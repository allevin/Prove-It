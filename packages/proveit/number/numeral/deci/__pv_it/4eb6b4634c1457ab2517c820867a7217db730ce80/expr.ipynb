{
 "cells": [
  {
   "cell_type": "markdown",
   "metadata": {},
   "source": [
    "Theorem <a class=\"ProveItLink\" href=\"../../_theorems_.ipynb#add_2_0\">add_2_0</a> of type <a class=\"ProveItLink\" href=\"../../../../../../../doc/html/api/proveit.logic.Equals.html\">Equals</a>\n",
    "=======================\n",
    "# from context <a class=\"ProveItLink\" href=\"../../_context_.ipynb\">proveit.number.numeral.deci</a>\n",
    "*** see <a class=\"ProveItLink\" href=\"dependencies.ipynb\">dependencies</a> ***"
   ]
  },
  {
   "cell_type": "code",
   "execution_count": 1,
   "metadata": {},
   "outputs": [],
   "source": [
    "# import the special expression\n",
    "from proveit.number.numeral.deci._theorems_ import add_2_0"
   ]
  },
  {
   "cell_type": "code",
   "execution_count": 2,
   "metadata": {},
   "outputs": [
    {
     "name": "stdout",
     "output_type": "stream",
     "text": [
      "Passed sanity check: built 'add_2_0' is the same as the stored Expression.\n"
     ]
    }
   ],
   "source": [
    "# check that the built expression is the same as the stored expression\n",
    "%check_expr add_2_0"
   ]
  },
  {
   "cell_type": "code",
   "execution_count": 3,
   "metadata": {},
   "outputs": [
    {
     "data": {
      "text/html": [
       "<table><tr><th>&nbsp;</th><th>core type</th><th>sub-expressions</th><th>expression</th></tr>\n",
       "<tr><td>0</td><td>Operation</td><td>operator:&nbsp;1<br>operands:&nbsp;2<br></td><td><a class=\"ProveItLink\" href=\"expr.ipynb\"><img src=\"data:image/png;base64,iVBORw0KGgoAAAANSUhEUgAAAGEAAAAVBAMAAACkm51HAAAAMFBMVEX////c3NwiIiJERESqqqqY\n",
       "mJh2dnZmZmYQEBDu7u4yMjJUVFTMzMyIiIi6uroAAAAs73DqAAAAAXRSTlMAQObYZgAAAXVJREFU\n",
       "OMuVkztIA0EQhr+LiZfLQ04bizRiIYJCbGwlnVVQG0sJFkklBIUIAdHCQkHk7CwDwSJnYVor7Sws\n",
       "DDaCETwsBTGIKGk8170U9yxcOHZm/v242Zkd+P8a6UQIa1HELYzXF7wxbefhGvXaf1TZblpia6G0\n",
       "eS54pJilzULDT+TIfkK2Q9og1nNiJ852D4+w6icuIQ9Jg+Qh6R8nVnS2GXjXOfUTBwZXFq+Q6qN6\n",
       "iW+4KzBU8BEXBrsWNSfxvptQvgTRYbgarFPe4Ewad6UAUSIur66acrWlkhHKsbSahBAje4FfpOZA\n",
       "XkCdIySrTC9AbDEgutKtm+a0aZ4Pbr4cQmT/ctsXX7zKqL+6S/ogK3VSLpnFIorOvDBuYMVDiA6u\n",
       "Q8Lf9EyVhE5FpD1Vrkx4iFhBOyJY3bFyeRNehG7btpfQal3xDFOWvxm2/SFeie6OFd3OafhjT5Tc\n",
       "3pvb2YiYj1bU4GiNCCEXRaT1CEGJmtqn8PAvz85iUh3RB/4AAAAASUVORK5CYII=\n",
       "\" style=\"display:inline;vertical-align:middle;\" /></a></td></tr>\n",
       "<tr><td>1</td><td>Literal</td><td></td><td><a class=\"ProveItLink\" href=\"../../../../../logic/equality/__pv_it/2fb26078095930560931daa0500ce419a39ea6cd0/expr.ipynb\"><img src=\"data:image/png;base64,iVBORw0KGgoAAAANSUhEUgAAAA4AAAAFBAMAAACHocAhAAAAFVBMVEX///9EREQiIiJUVFQyMjJm\n",
       "ZmYAAADubVkoAAAAAXRSTlMAQObYZgAAABRJREFUCNdjCHEBAWcGXCBICQQUAUpuAwlgGKrkAAAA\n",
       "AElFTkSuQmCC\n",
       "\" style=\"display:inline;vertical-align:middle;\" /></a></td></tr>\n",
       "<tr><td>2</td><td>ExprTuple</td><td>3, 6</td><td><a class=\"ProveItLink\" href=\"../434326a0a512fe49874a2e44303ec8c22cf81eb20/expr.ipynb\"><img src=\"data:image/png;base64,iVBORw0KGgoAAAANSUhEUgAAAE0AAAAVBAMAAADx+n4ZAAAAMFBMVEX////c3NwiIiJERESqqqqY\n",
       "mJh2dnZmZmYQEBDu7u4yMjJUVFTMzMyIiIi6uroAAAAs73DqAAAAAXRSTlMAQObYZgAAAW1JREFU\n",
       "KM+NkjtIA0EQhr/EvF+eNhYWphCxMmlsJZ1VChtLSZVUgaCgEAQtLLTR0yYpD4KFsTCtIJjOwsL0\n",
       "KgZLQYgShRR67u3GIxc54hQ7/958zO79O/DfSLRGImvWcgtT5aWhSuVxWwnPVq1NsCnUGZ4GTxkn\n",
       "t8BJU4pp4l0wIN4iquPtqPqxSvEkcUOqS0jBKoR0QgdEvxWQVcnbIPEm1b7OdZsqvECkR9DJjZeI\n",
       "daW60NlpM5ZhUzXoObiZHLGv37umdAIlTqW+y/3hPvuYJXwGh3JTw5WLpIXHu8iLBdO4nrth9ewo\n",
       "7l5+Kdfr8/X6ef8/PvoWNRS3J5KvxMSwLz7lC8t4NOvcRaFvYMXBCZ8DSXSrUwm/ht+gIN5wLl9I\n",
       "OjhmqTbD70JM5vPrWL48i1NM0xziKsUrwkeaMM80BR5pE9IG3z/rmDi7JN7NnxssvQ5u/LYqyrly\n",
       "C5sLG3LC3MIe9Kh1Ac/ouX+AH5BsW7yB/WgQAAAAAElFTkSuQmCC\n",
       "\" style=\"display:inline;vertical-align:middle;\" /></a></td></tr>\n",
       "<tr><td>3</td><td>Operation</td><td>operator:&nbsp;4<br>operands:&nbsp;5<br></td><td><a class=\"ProveItLink\" href=\"../3c68327b49cd0242a5331f7c039f86a886e2b4cc0/expr.ipynb\"><img src=\"data:image/png;base64,iVBORw0KGgoAAAANSUhEUgAAACwAAAAQBAMAAACfEoDkAAAAMFBMVEX///+YmJh2dnbMzMwQEBAi\n",
       "IiLu7u6qqqqIiIhUVFS6urpEREQyMjJmZmbc3NwAAACOMKdoAAAAAXRSTlMAQObYZgAAAK5JREFU\n",
       "GNNj4Lt7egEDCsjtuMzA8JKB4zuqcBRDqgHDNAaGeAiX7QGY4ghg4DjA4JLAMB9iCnsDmGKdwMD1\n",
       "j+F8AsN9FGH+CwzMYGPjE5CF3yswMP8A0syfGNCFQSI8G7AK32ZgwGIIxwQQh/fMmaM+Z85MgFj5\n",
       "kYGhloHvAZoD2f8xMF9gYEQRBnqHKYDhqZLSVRSzGcIZUgwY4v///4oqnKsxGTmIYMJogAtJGAAr\n",
       "CzfF50jLfQAAAABJRU5ErkJggg==\n",
       "\" style=\"display:inline;vertical-align:middle;\" /></a></td></tr>\n",
       "<tr><td>4</td><td>Literal</td><td></td><td><a class=\"ProveItLink\" href=\"../../../../addition/__pv_it/3e6688136fa3c7aefbebe51301b7c3ebf0b69c440/expr.ipynb\"><img src=\"data:image/png;base64,iVBORw0KGgoAAAANSUhEUgAAAA4AAAAOBAMAAADtZjDiAAAAJFBMVEX///+6urpUVFQQEBAiIiIy\n",
       "MjJmZmaIiIiqqqrc3Nzu7u4AAACgHpL+AAAAAXRSTlMAQObYZgAAAB5JREFUCNdjYGBgWMkAAe2k\n",
       "0Kmhoc6hoUGk6BMHYgAHOwjcado9fwAAAABJRU5ErkJggg==\n",
       "\" style=\"display:inline;vertical-align:middle;\" /></a></td></tr>\n",
       "<tr><td>5</td><td>ExprTuple</td><td>6, 7</td><td><a class=\"ProveItLink\" href=\"../957e48a856eb48c77fec483893240d58673c92860/expr.ipynb\"><img src=\"data:image/png;base64,iVBORw0KGgoAAAANSUhEUgAAACkAAAAVBAMAAAAp9toTAAAAMFBMVEX////c3NwiIiJERESqqqqY\n",
       "mJh2dnZmZmYQEBDu7u4yMjJUVFTMzMyIiIi6uroAAAAs73DqAAAAAXRSTlMAQObYZgAAAQ9JREFU\n",
       "GNNtkSFPw1AUhb+OlfatsBSFwExhQGCwpP8AMEjSIJgimZogIUFgSAhUIpsQBI6fMIdArMGQMBIW\n",
       "JIYFAZmhvPte2ywNT9yc+4nz7j0X/n/trAb2pTzC8vGWBerkeYA30OoO5563yNDGWK1DCosZQUJj\n",
       "YugTvMAe+An+OcGvoWvwGXINH9Ca4ln6A8OIuYi+NZxKdb41zZjvcWvoMK5oTDPl0tAbZmj7FGPo\n",
       "bTDjsDCxdFSsJb/tCD3TTbPHUjnZdigOm7p5gF0Su8UBuCldbbd62O2oLxkwUhfIZO9a53neUVeh\n",
       "Tqc/0tG0xvhhmWgpZGM3LrRbBXxkkqxRpZNkpWiqkwRi5dQv9Ap/h6tFLkeZXqEAAAAASUVORK5C\n",
       "YII=\n",
       "\" style=\"display:inline;vertical-align:middle;\" /></a></td></tr>\n",
       "<tr><td>6</td><td>Literal</td><td></td><td><a class=\"ProveItLink\" href=\"../../../__pv_it/77d407a64829263cdc16415becd4c2293f77a4bf0/expr.ipynb\"><img src=\"data:image/png;base64,iVBORw0KGgoAAAANSUhEUgAAAAkAAAAOBAMAAAAPuiubAAAAMFBMVEX///+YmJh2dnbMzMwQEBAi\n",
       "IiLu7u6qqqqIiIhUVFS6urpEREQyMjJmZmbc3NwAAACOMKdoAAAAAXRSTlMAQObYZgAAAFBJREFU\n",
       "CNdj4Lt7egEDw0sGju8MDNMYGOIZGFwSGOYvYDifwHAfKAEUSQASzJ9ATJ4NIPI2iOCYACJrGfge\n",
       "MDBfYGB8wPBUSekqUPH//18ZAIliFhc3zESNAAAAAElFTkSuQmCC\n",
       "\" style=\"display:inline;vertical-align:middle;\" /></a></td></tr>\n",
       "<tr><td>7</td><td>Literal</td><td></td><td><a class=\"ProveItLink\" href=\"../../../__pv_it/ec23fc7a1b4222a5f4948b495002b97d6fa18c3c0/expr.ipynb\"><img src=\"data:image/png;base64,iVBORw0KGgoAAAANSUhEUgAAAAoAAAAOBAMAAADkjZCYAAAALVBMVEX///8QEBCYmJh2dnaqqqrc\n",
       "3NxUVFQyMjK6uroiIiLMzMyIiIhmZmbu7u4AAAAZjyHdAAAAAXRSTlMAQObYZgAAAEpJREFUCNdj\n",
       "YLiz+xQDA8MMhpsLGLgnMHAXMHAmMHA8ZeA7wMD1hCHOgIHrNZh8jES+Bss+AqlkeQrSxTyBgWEK\n",
       "w8UFDAx3rLMYAMCjFldHSx/9AAAAAElFTkSuQmCC\n",
       "\" style=\"display:inline;vertical-align:middle;\" /></a></td></tr>\n",
       "</table>\n"
      ],
      "text/plain": [
       "0. (2 + 0) = 2\n",
       "   core type: Operation\n",
       "   operator: 1\n",
       "   operands: 2\n",
       "1. =\n",
       "   core type: Literal\n",
       "   sub-expressions: \n",
       "2. (2 + 0 , 2)\n",
       "   core type: ExprTuple\n",
       "   sub-expressions: 3, 6\n",
       "3. 2 + 0\n",
       "   core type: Operation\n",
       "   operator: 4\n",
       "   operands: 5\n",
       "4. +\n",
       "   core type: Literal\n",
       "   sub-expressions: \n",
       "5. (2 , 0)\n",
       "   core type: ExprTuple\n",
       "   sub-expressions: 6, 7\n",
       "6. 2\n",
       "   core type: Literal\n",
       "   sub-expressions: \n",
       "7. 0\n",
       "   core type: Literal\n",
       "   sub-expressions: "
      ]
     },
     "execution_count": 3,
     "metadata": {},
     "output_type": "execute_result"
    }
   ],
   "source": [
    "# display the expression information\n",
    "add_2_0.exprInfo()"
   ]
  },
  {
   "cell_type": "code",
   "execution_count": null,
   "metadata": {},
   "outputs": [],
   "source": []
  }
 ],
 "metadata": {
  "kernelspec": {
   "display_name": "Python 3",
   "language": "python",
   "name": "python3"
  }
 },
 "nbformat": 4,
 "nbformat_minor": 0
}
