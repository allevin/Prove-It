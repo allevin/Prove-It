{
 "cells": [
  {
   "cell_type": "markdown",
   "metadata": {},
   "source": [
    "Expression of type <a class=\"ProveItLink\" href=\"../../../../../../../doc/html/api/proveit.ExprTuple.html\">ExprTuple</a>\n",
    "=======================\n",
    "# from context <a class=\"ProveItLink\" href=\"../../_context_.ipynb\">proveit.number.numeral.deci</a>"
   ]
  },
  {
   "cell_type": "code",
   "execution_count": 1,
   "metadata": {},
   "outputs": [],
   "source": [
    "# import Expression classes needed to build the expression\n",
    "from proveit import ExprTuple\n",
    "from proveit.number import DecimalSequence, Mult, one, seven, three, two"
   ]
  },
  {
   "cell_type": "code",
   "execution_count": 2,
   "metadata": {},
   "outputs": [
    {
     "data": {
      "text/html": [
       "<strong id=\"expr\">expr:</strong> <a class=\"ProveItLink\" href=\"expr.ipynb\"><img src=\"data:image/png;base64,iVBORw0KGgoAAAANSUhEUgAAAE0AAAAVBAMAAADx+n4ZAAAAMFBMVEX////c3NwiIiJERESqqqqY\n",
       "mJh2dnZmZmYQEBDu7u4yMjJUVFTMzMyIiIi6uroAAAAs73DqAAAAAXRSTlMAQObYZgAAAW1JREFU\n",
       "KM+Nkq1Pw0AYxp9u69aydluwGP6DToDA4ZBUIaGqBAJJw8eGA4FAkSYzJIg1AQRBUEsQLAgMgkoE\n",
       "oiAxHWSQDEG5u3a3NltSTtw979tf3q++wH9PxctElun1CDyYM9x33zBNgymheeaTZw4odch7CcFC\n",
       "wIOuhGHoMjUFtQe0+kQ6gOqh2EN1esCtAeVI3QAaTm8ptwRINgpJjuTciNSRjTsfKuVOgHfmC7zR\n",
       "xq5t7Mdcfh4N5rtKdNcaSs2OuKKFC/Io626C2+FK+UbEFRwcM88znYBsUyl3OTdRj7nKAX6ZR6JW\n",
       "mzWjOpzbRswpXcoJHeS/aFd1+jHHa1DdBHdI4vQjLjpta6AWINR43lmg6iD3wbmAcDLrwoIYc6KD\n",
       "VRJaR2BwbtGKK500zS3wubzRBM3z4ViedFIpDa+F4SdKez+7pHEfUm3cJr2mTfLfRGMcp6fNTbZX\n",
       "mZzssDUbPWraLNPahOy9fwH+AAUrZag9xVKDAAAAAElFTkSuQmCC\n",
       "\" style=\"display:inline;vertical-align:middle;\" /></a><br>"
      ],
      "text/plain": [
       "expr: (3 * 7 , 21)"
      ]
     },
     "execution_count": 2,
     "metadata": {},
     "output_type": "execute_result"
    }
   ],
   "source": [
    "# build up the expression from sub-expressions\n",
    "expr = ExprTuple(Mult(three, seven), DecimalSequence(two, one))"
   ]
  },
  {
   "cell_type": "code",
   "execution_count": 3,
   "metadata": {},
   "outputs": [
    {
     "name": "stdout",
     "output_type": "stream",
     "text": [
      "Passed sanity check: built 'expr' is the same as the stored Expression.\n"
     ]
    }
   ],
   "source": [
    "# check that the built expression is the same as the stored expression\n",
    "%check_expr"
   ]
  },
  {
   "cell_type": "code",
   "execution_count": 4,
   "metadata": {},
   "outputs": [
    {
     "data": {
      "text/html": [
       "<table><tr><th>&nbsp;</th><th>core type</th><th>sub-expressions</th><th>expression</th></tr>\n",
       "<tr><td>0</td><td>ExprTuple</td><td>1, 2</td><td><a class=\"ProveItLink\" href=\"expr.ipynb\"><img src=\"data:image/png;base64,iVBORw0KGgoAAAANSUhEUgAAAE0AAAAVBAMAAADx+n4ZAAAAMFBMVEX////c3NwiIiJERESqqqqY\n",
       "mJh2dnZmZmYQEBDu7u4yMjJUVFTMzMyIiIi6uroAAAAs73DqAAAAAXRSTlMAQObYZgAAAW1JREFU\n",
       "KM+Nkq1Pw0AYxp9u69aydluwGP6DToDA4ZBUIaGqBAJJw8eGA4FAkSYzJIg1AQRBUEsQLAgMgkoE\n",
       "oiAxHWSQDEG5u3a3NltSTtw979tf3q++wH9PxctElun1CDyYM9x33zBNgymheeaTZw4odch7CcFC\n",
       "wIOuhGHoMjUFtQe0+kQ6gOqh2EN1esCtAeVI3QAaTm8ptwRINgpJjuTciNSRjTsfKuVOgHfmC7zR\n",
       "xq5t7Mdcfh4N5rtKdNcaSs2OuKKFC/Io626C2+FK+UbEFRwcM88znYBsUyl3OTdRj7nKAX6ZR6JW\n",
       "mzWjOpzbRswpXcoJHeS/aFd1+jHHa1DdBHdI4vQjLjpta6AWINR43lmg6iD3wbmAcDLrwoIYc6KD\n",
       "VRJaR2BwbtGKK500zS3wubzRBM3z4ViedFIpDa+F4SdKez+7pHEfUm3cJr2mTfLfRGMcp6fNTbZX\n",
       "mZzssDUbPWraLNPahOy9fwH+AAUrZag9xVKDAAAAAElFTkSuQmCC\n",
       "\" style=\"display:inline;vertical-align:middle;\" /></a></td></tr>\n",
       "<tr><td>1</td><td>Operation</td><td>operator:&nbsp;3<br>operands:&nbsp;4<br></td><td><a class=\"ProveItLink\" href=\"../ad8b4ad7583cd8bd9498c343f36934960dddc2730/expr.ipynb\"><img src=\"data:image/png;base64,iVBORw0KGgoAAAANSUhEUgAAACQAAAAOBAMAAAC1GaP7AAAAMFBMVEX///+YmJju7u4QEBBUVFQy\n",
       "MjIiIiKIiIi6urpmZmbc3NyqqqpERER2dnbMzMwAAAB0GlNiAAAAAXRSTlMAQObYZgAAAJpJREFU\n",
       "GNNjYHh79zQDDDybe/fuBQauCQz9BTAh+f///zsw8P5m4E+ACV1iYGBhYOBGFrrAwHAPzEBoZGDg\n",
       "gLBDECIMOiCC76oDktBsCFXcACSYFEBMpg8QIeZPQEIfbAd7AJDgesDA8xFIKx8ACbGBDNH/BBGC\n",
       "AP0JQII/gIHtF1yoHyTELsDQfwEutB8kxLBzZjTCDe8FGBgAZ4gme1T2npoAAAAASUVORK5CYII=\n",
       "\" style=\"display:inline;vertical-align:middle;\" /></a></td></tr>\n",
       "<tr><td>2</td><td>Operation</td><td>operator:&nbsp;5<br>operands:&nbsp;6<br></td><td><a class=\"ProveItLink\" href=\"../6400e72a80c742bca39898b3bbcd9a693bb319fa0/expr.ipynb\"><img src=\"data:image/png;base64,iVBORw0KGgoAAAANSUhEUgAAABIAAAAPBAMAAAAbqIIhAAAAMFBMVEX///+YmJh2dnbMzMwQEBAi\n",
       "IiLu7u6qqqqIiIhUVFS6urpEREQyMjJmZmbc3NwAAACOMKdoAAAAAXRSTlMAQObYZgAAAGlJREFU\n",
       "CNdj4Lt7egEDA8M2BoaXDBzfGRiyvzEwTGNgiGfInAlkuSQwzF/AwAFknU9guA9hAUF8ApTF/IkB\n",
       "yuLZAGPdZoCyOCbAWLUMfA/ALOYLDIwQ1lMlpasQ2fj//78y8F75c5EBDgC2LybAUGhipQAAAABJ\n",
       "RU5ErkJggg==\n",
       "\" style=\"display:inline;vertical-align:middle;\" /></a></td></tr>\n",
       "<tr><td>3</td><td>Literal</td><td></td><td><a class=\"ProveItLink\" href=\"../../../../multiplication/__pv_it/21fd2079611555ecce512d99547a00d551e6b86b0/expr.ipynb\"><img src=\"data:image/png;base64,iVBORw0KGgoAAAANSUhEUgAAAAMAAAADBAMAAACkBqiMAAAAElBMVEX///9EREQQEBAiIiLu7u4A\n",
       "AABGBidwAAAAAXRSTlMAQObYZgAAABFJREFUCNdjYHFgcDVgcBIAAASWAQx4jI0xAAAAAElFTkSu\n",
       "QmCC\n",
       "\" style=\"display:inline;vertical-align:middle;\" /></a></td></tr>\n",
       "<tr><td>4</td><td>ExprTuple</td><td>7, 8</td><td><a class=\"ProveItLink\" href=\"../d714fb450e77131d47a7652d9de703ea3bfb0dcd0/expr.ipynb\"><img src=\"data:image/png;base64,iVBORw0KGgoAAAANSUhEUgAAACkAAAAVBAMAAAAp9toTAAAAMFBMVEX////c3NwiIiJERESqqqqY\n",
       "mJh2dnZmZmYQEBDu7u4yMjJUVFTMzMyIiIi6uroAAAAs73DqAAAAAXRSTlMAQObYZgAAAQZJREFU\n",
       "GNNtka9Pw0AUxz/d1tEyxuYx/BHD45BMTUJVyQhLKsiwCPRYgsHtBAgy0z9hQWAQVCIQC3Kmg4CY\n",
       "ody7WxvScMm9e99P8t69H/D/2U5K4EjMMzyFHQseh2EYbMy094ATkdqA4yzLYhQ0E+pftHYN7UMD\n",
       "euCNqRU0gDO4hYWRafLn7+o+QyOmeQE3+tYj7vWzdRrn9FzfmmJkxOvcQn8pWS75McpbWdpUEroU\n",
       "6syofltaiS29gsmqoJPIZtiDlqLywdhUKNRVnOhkXdLA/xR6GNnK3vVzcHGHf93W3ktXm805Xjvv\n",
       "KnekYzdY+24x4IGZZIn6UvPOWhQraUgqp7yhN/gFLGhAv98IaogAAAAASUVORK5CYII=\n",
       "\" style=\"display:inline;vertical-align:middle;\" /></a></td></tr>\n",
       "<tr><td>5</td><td>Literal</td><td></td><td><a class=\"ProveItLink\" href=\"../b28e6317a1d330492d51cd67ccba81d4d210b8b30/expr.ipynb\"><img src=\"data:image/png;base64,iVBORw0KGgoAAAANSUhEUgAAAE8AAAAOBAMAAACcHlx8AAAAMFBMVEX///8iIiIQEBCYmJjc3Ny6\n",
       "urru7u5mZmZ2dnaqqqrMzMxEREQyMjJUVFSIiIgAAABUCcz6AAAAAXRSTlMAQObYZgAAAWhJREFU\n",
       "KM99kL9Lw3AQxV/bNE1s0rh1VNTBqWR2sAXdEwRns9XJtFsRwSxVx/oXNLgqNKugtLsgHQVtDWLt\n",
       "IEahVrT+vIsK1qEH+QS+PN67ewDuPlutExd/JtnA8EgTJv/eAPllSOj/EyLLGHsmbFoYNRuMVJ9Q\n",
       "80cKM2HQA8FojtIJA6bmsWMTQqmbg7gTuKslxG8Xg7N4cEiadnkGMfb6Ts062M0JBeyZyrizAkk9\n",
       "hV1GFVjKUaLKXrjnai5NoY+EK2aQnKsUsRzxYPskFHpIeIiGF9QZU1Cn56+hUoZIq1u2iapFx9JD\n",
       "xEctrPmVvlgPWuF3X/kJrCoCs/xgu7gKa/wgRD1obG8wlCZ7IY34o2hwvnUsco18+pEV7uFrOqAb\n",
       "pkNeYh9qY8Gu4EJ2e9JPjQcUm2ogn1MLkNyqoNNlVIniO4oupyUM1oB8/b11vs47bAfkWQpukAwQ\n",
       "n4TkQW67Qruz30F3C18Fz3drZAxLCAAAAABJRU5ErkJggg==\n",
       "\" style=\"display:inline;vertical-align:middle;\" /></a></td></tr>\n",
       "<tr><td>6</td><td>ExprTuple</td><td>9, 10</td><td><a class=\"ProveItLink\" href=\"../a7356f1c695763636680b2bc30e143060874fd270/expr.ipynb\"><img src=\"data:image/png;base64,iVBORw0KGgoAAAANSUhEUgAAACkAAAAVBAMAAAAp9toTAAAAMFBMVEX////c3NwiIiJERESqqqqY\n",
       "mJh2dnZmZmYQEBDu7u4yMjJUVFTMzMyIiIi6uroAAAAs73DqAAAAAXRSTlMAQObYZgAAAOtJREFU\n",
       "GNNjYMAO+C6gCcSBiNMMDOJVdjAhSwYG9gNAeiUD4waG+w4Qwck/gcQCBgbeCwzcExiYPoAFZ+8G\n",
       "iYYxMHBMYODoZOD+B1HLCxKdwcDwioGB6ycDO7IoswNDGZjH9BNJlK2AYSmYdz4BSZRlAUMfmLeY\n",
       "AUmUr4EBbCC7AbIozweI6G0GNNEWkEEFDIKoJpgCqeMMDIEME+CirAsY0hkYGNXS0hU4PyG77BHQ\n",
       "sf///1fg7BcA2lrxqxToqwcMHAKwEIUxQD5mhbqfgRUewLngkEQT5QSGJIM0lAOPEm6QUYzoMXSH\n",
       "gQEAsGA9H0qwfKUAAAAASUVORK5CYII=\n",
       "\" style=\"display:inline;vertical-align:middle;\" /></a></td></tr>\n",
       "<tr><td>7</td><td>Literal</td><td></td><td><a class=\"ProveItLink\" href=\"../../../__pv_it/9176d93c83afa2c995b614976e3cb49207102fa70/expr.ipynb\"><img src=\"data:image/png;base64,iVBORw0KGgoAAAANSUhEUgAAAAoAAAAOBAMAAADkjZCYAAAAMFBMVEX///+YmJju7u4QEBBUVFQy\n",
       "MjIiIiKIiIi6urpmZmbc3NyqqqpERER2dnbMzMwAAAB0GlNiAAAAAXRSTlMAQObYZgAAAE1JREFU\n",
       "CNdjYHh79zQDA9cEhv4CBt7fDPwJDNxgEgiAIkAQAsR8Vx1ATIbiBhDJ/ImB6wEDz0cG/U8gkj+A\n",
       "ge0XA7sAQ/8FBoadM6MZAEflFACalZ/OAAAAAElFTkSuQmCC\n",
       "\" style=\"display:inline;vertical-align:middle;\" /></a></td></tr>\n",
       "<tr><td>8</td><td>Literal</td><td></td><td><a class=\"ProveItLink\" href=\"../../../__pv_it/44c347496acc279b31e97f8859fc6a0a1e31c26b0/expr.ipynb\"><img src=\"data:image/png;base64,iVBORw0KGgoAAAANSUhEUgAAAAoAAAAOBAMAAADkjZCYAAAAKlBMVEX///8yMjKqqqpERESIiIi6\n",
       "urru7u5UVFSYmJh2dnZmZmYiIiLMzMwAAACZcOxaAAAAAXRSTlMAQObYZgAAAEVJREFUCNdjOL1y\n",
       "5swJDL13794tYJjGwMDOwDCBgWEOAxCwOoDIZBDBsAhEsF0AkSwCIJK7AETmLgCRsWBSF0yebWBg\n",
       "AAAo0Q9n+lHhAQAAAABJRU5ErkJggg==\n",
       "\" style=\"display:inline;vertical-align:middle;\" /></a></td></tr>\n",
       "<tr><td>9</td><td>Literal</td><td></td><td><a class=\"ProveItLink\" href=\"../../../__pv_it/77d407a64829263cdc16415becd4c2293f77a4bf0/expr.ipynb\"><img src=\"data:image/png;base64,iVBORw0KGgoAAAANSUhEUgAAAAkAAAAOBAMAAAAPuiubAAAAMFBMVEX///+YmJh2dnbMzMwQEBAi\n",
       "IiLu7u6qqqqIiIhUVFS6urpEREQyMjJmZmbc3NwAAACOMKdoAAAAAXRSTlMAQObYZgAAAFBJREFU\n",
       "CNdj4Lt7egEDw0sGju8MDNMYGOIZGFwSGOYvYDifwHAfKAEUSQASzJ9ATJ4NIPI2iOCYACJrGfge\n",
       "MDBfYGB8wPBUSekqUPH//18ZAIliFhc3zESNAAAAAElFTkSuQmCC\n",
       "\" style=\"display:inline;vertical-align:middle;\" /></a></td></tr>\n",
       "<tr><td>10</td><td>Literal</td><td></td><td><a class=\"ProveItLink\" href=\"../../../__pv_it/9be8badea4c35b9724062cecc501d17a3158d1d20/expr.ipynb\"><img src=\"data:image/png;base64,iVBORw0KGgoAAAANSUhEUgAAAAgAAAAPBAMAAAArJJMAAAAAHlBMVEX///+YmJgyMjIQEBBmZmaI\n",
       "iIhUVFTu7u5EREQAAAAw+MI4AAAAAXRSTlMAQObYZgAAACFJREFUCNdjYGBoZ2BgqJjOwFCWBiQY\n",
       "WEklWJwnOTKAAACjEQo8HvEr3AAAAABJRU5ErkJggg==\n",
       "\" style=\"display:inline;vertical-align:middle;\" /></a></td></tr>\n",
       "</table>\n"
      ],
      "text/plain": [
       "0. (3 * 7 , 21)\n",
       "   core type: ExprTuple\n",
       "   sub-expressions: 1, 2\n",
       "1. 3 * 7\n",
       "   core type: Operation\n",
       "   operator: 3\n",
       "   operands: 4\n",
       "2. 21\n",
       "   core type: Operation\n",
       "   operator: 5\n",
       "   operands: 6\n",
       "3. *\n",
       "   core type: Literal\n",
       "   sub-expressions: \n",
       "4. (3 , 7)\n",
       "   core type: ExprTuple\n",
       "   sub-expressions: 7, 8\n",
       "5. Decimal\n",
       "   core type: Literal\n",
       "   sub-expressions: \n",
       "6. (2 , 1)\n",
       "   core type: ExprTuple\n",
       "   sub-expressions: 9, 10\n",
       "7. 3\n",
       "   core type: Literal\n",
       "   sub-expressions: \n",
       "8. 7\n",
       "   core type: Literal\n",
       "   sub-expressions: \n",
       "9. 2\n",
       "   core type: Literal\n",
       "   sub-expressions: \n",
       "10. 1\n",
       "    core type: Literal\n",
       "    sub-expressions: "
      ]
     },
     "execution_count": 4,
     "metadata": {},
     "output_type": "execute_result"
    }
   ],
   "source": [
    "# display the expression information\n",
    "expr.exprInfo()"
   ]
  },
  {
   "cell_type": "code",
   "execution_count": null,
   "metadata": {},
   "outputs": [],
   "source": []
  }
 ],
 "metadata": {
  "kernelspec": {
   "display_name": "Python 3",
   "language": "python",
   "name": "python3"
  }
 },
 "nbformat": 4,
 "nbformat_minor": 0
}
