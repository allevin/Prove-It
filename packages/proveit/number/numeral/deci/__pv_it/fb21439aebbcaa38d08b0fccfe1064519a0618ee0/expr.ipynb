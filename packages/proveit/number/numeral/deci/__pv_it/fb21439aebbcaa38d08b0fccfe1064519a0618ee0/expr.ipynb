{
 "cells": [
  {
   "cell_type": "markdown",
   "metadata": {},
   "source": [
    "Expression of type <a class=\"ProveItLink\" href=\"../../../../../../../doc/html/api/proveit.ExprTuple.html\">ExprTuple</a>\n",
    "=======================\n",
    "# from context <a class=\"ProveItLink\" href=\"../../_context_.ipynb\">proveit.number.numeral.deci</a>"
   ]
  },
  {
   "cell_type": "code",
   "execution_count": 1,
   "metadata": {},
   "outputs": [],
   "source": [
    "# import Expression classes needed to build the expression\n",
    "from proveit import ExprTuple\n",
    "from proveit.number import Add, eight, zero"
   ]
  },
  {
   "cell_type": "code",
   "execution_count": 2,
   "metadata": {},
   "outputs": [
    {
     "data": {
      "text/html": [
       "<strong id=\"expr\">expr:</strong> <a class=\"ProveItLink\" href=\"expr.ipynb\"><img src=\"data:image/png;base64,iVBORw0KGgoAAAANSUhEUgAAAE0AAAAVBAMAAADx+n4ZAAAAMFBMVEX////c3NwiIiJERESqqqqY\n",
       "mJh2dnZmZmYQEBDu7u4yMjJUVFTMzMyIiIi6uroAAAAs73DqAAAAAXRSTlMAQObYZgAAAX1JREFU\n",
       "KM+NkjFMwkAUhn+EUipQ2R3ExMHJzVkmBxNiF3VSO8FgSDqgJAYjJi4uWhmEsYsDdRAnY+LArAuT\n",
       "kybGUWOiREyM0fruTitnIHhD77++r+/e+/uA/y692RdZYo9LoHJT/BM5yOSF0DLZFNQGqRowgXJD\n",
       "5iyoBhcqsAo4QLyJeBJxR8T3xaYY0JJczQFlYB6I2BioQ38WQFps4foPt8K5KnAPDFmIvUhc6N0O\n",
       "i/Zmz5ADgimsASMmYh8Sh6n2lRBBb9Gk/BYOBfcqc6o3+q02WwnK72C3K7dw4aVER8VjKkkv4bPb\n",
       "vYqF5TfxARTPRuyJcayPNr1bd91x1z0CNyHQ5twOpTEYtw3mS0j2hXzABv8dJaq1ye6dBPM5nJS4\n",
       "CNV+ApvUFhBNQHGQpcMYqg3ZvxpCptYiNWNjmvtyR4dK7hxyvw+FPLQ9yqqfFqjxwVt+xe9KSxPn\n",
       "h6hexewMPXYeFF/lxFz1WD6nsWka7sn5gx5lBQT6z/018AVBVl3c29wWJgAAAABJRU5ErkJggg==\n",
       "\" style=\"display:inline;vertical-align:middle;\" /></a><br>"
      ],
      "text/plain": [
       "expr: (0 + 8 , 8)"
      ]
     },
     "execution_count": 2,
     "metadata": {},
     "output_type": "execute_result"
    }
   ],
   "source": [
    "# build up the expression from sub-expressions\n",
    "expr = ExprTuple(Add(zero, eight), eight)"
   ]
  },
  {
   "cell_type": "code",
   "execution_count": 3,
   "metadata": {},
   "outputs": [
    {
     "name": "stdout",
     "output_type": "stream",
     "text": [
      "Passed sanity check: built 'expr' is the same as the stored Expression.\n"
     ]
    }
   ],
   "source": [
    "# check that the built expression is the same as the stored expression\n",
    "%check_expr"
   ]
  },
  {
   "cell_type": "code",
   "execution_count": 4,
   "metadata": {},
   "outputs": [
    {
     "data": {
      "text/html": [
       "<table><tr><th>&nbsp;</th><th>core type</th><th>sub-expressions</th><th>expression</th></tr>\n",
       "<tr><td>0</td><td>ExprTuple</td><td>1, 5</td><td><a class=\"ProveItLink\" href=\"expr.ipynb\"><img src=\"data:image/png;base64,iVBORw0KGgoAAAANSUhEUgAAAE0AAAAVBAMAAADx+n4ZAAAAMFBMVEX////c3NwiIiJERESqqqqY\n",
       "mJh2dnZmZmYQEBDu7u4yMjJUVFTMzMyIiIi6uroAAAAs73DqAAAAAXRSTlMAQObYZgAAAX1JREFU\n",
       "KM+NkjFMwkAUhn+EUipQ2R3ExMHJzVkmBxNiF3VSO8FgSDqgJAYjJi4uWhmEsYsDdRAnY+LArAuT\n",
       "kybGUWOiREyM0fruTitnIHhD77++r+/e+/uA/y692RdZYo9LoHJT/BM5yOSF0DLZFNQGqRowgXJD\n",
       "5iyoBhcqsAo4QLyJeBJxR8T3xaYY0JJczQFlYB6I2BioQ38WQFps4foPt8K5KnAPDFmIvUhc6N0O\n",
       "i/Zmz5ADgimsASMmYh8Sh6n2lRBBb9Gk/BYOBfcqc6o3+q02WwnK72C3K7dw4aVER8VjKkkv4bPb\n",
       "vYqF5TfxARTPRuyJcayPNr1bd91x1z0CNyHQ5twOpTEYtw3mS0j2hXzABv8dJaq1ye6dBPM5nJS4\n",
       "CNV+ApvUFhBNQHGQpcMYqg3ZvxpCptYiNWNjmvtyR4dK7hxyvw+FPLQ9yqqfFqjxwVt+xe9KSxPn\n",
       "h6hexewMPXYeFF/lxFz1WD6nsWka7sn5gx5lBQT6z/018AVBVl3c29wWJgAAAABJRU5ErkJggg==\n",
       "\" style=\"display:inline;vertical-align:middle;\" /></a></td></tr>\n",
       "<tr><td>1</td><td>Operation</td><td>operator:&nbsp;2<br>operands:&nbsp;3<br></td><td><a class=\"ProveItLink\" href=\"../ed653717c71750c8e623be3ecf7189eb24c4cd520/expr.ipynb\"><img src=\"data:image/png;base64,iVBORw0KGgoAAAANSUhEUgAAAC0AAAAQBAMAAABw0OvaAAAAMFBMVEX///9EREQQEBCYmJh2dnaq\n",
       "qqrc3NxUVFQyMjK6uroiIiLMzMyIiIhmZmbu7u4AAADSWfX9AAAAAXRSTlMAQObYZgAAALdJREFU\n",
       "GNNjYHh75jYDCuBz8Q0AUisZXm1AEedlYLjMwMCzgIGnASLwDEIZMzC8YmDgKmDg/AYRiIFQ7mBx\n",
       "/gsM3F9RxOPrGHwYGPIdGLj/oIgz/rdxgIh/QRFnuP8rAZs48+3+r9jMsWVg/v8AbO9nIO9GR8ei\n",
       "jo52IEsPqNgA5E5WFHfyKQC9dgDkL5YFKOaoMTCwAy1eyvBoA4p4xAOGECD11qeaAUWcs/ZuAEqA\n",
       "xTBgB3OQ2ABqQjVk5ZukqgAAAABJRU5ErkJggg==\n",
       "\" style=\"display:inline;vertical-align:middle;\" /></a></td></tr>\n",
       "<tr><td>2</td><td>Literal</td><td></td><td><a class=\"ProveItLink\" href=\"../../../../addition/__pv_it/3e6688136fa3c7aefbebe51301b7c3ebf0b69c440/expr.ipynb\"><img src=\"data:image/png;base64,iVBORw0KGgoAAAANSUhEUgAAAA4AAAAOBAMAAADtZjDiAAAAJFBMVEX///+6urpUVFQQEBAiIiIy\n",
       "MjJmZmaIiIiqqqrc3Nzu7u4AAACgHpL+AAAAAXRSTlMAQObYZgAAAB5JREFUCNdjYGBgWMkAAe2k\n",
       "0Kmhoc6hoUGk6BMHYgAHOwjcado9fwAAAABJRU5ErkJggg==\n",
       "\" style=\"display:inline;vertical-align:middle;\" /></a></td></tr>\n",
       "<tr><td>3</td><td>ExprTuple</td><td>4, 5</td><td><a class=\"ProveItLink\" href=\"../e109d4cd5b18464664c12898b7dcf1e4e575a3cf0/expr.ipynb\"><img src=\"data:image/png;base64,iVBORw0KGgoAAAANSUhEUgAAACkAAAAVBAMAAAAp9toTAAAAMFBMVEX////c3NwiIiJERESqqqqY\n",
       "mJh2dnZmZmYQEBDu7u4yMjJUVFTMzMyIiIi6uroAAAAs73DqAAAAAXRSTlMAQObYZgAAARRJREFU\n",
       "GNNtkaFPw0AUxn+w3bZjbalHMIHG4asQGDCAglQxQZrMAGYJI8FgoJnZZA0CBY6QIOox/QMgWSZR\n",
       "sAAOxr3rtoyFE5fv/XJ5973vwf/Hy2bAvlxP0Hlp5kAf1APKqVE3sEo7tbQMR5CAm+HWcBNLt6EN\n",
       "O1CJmb/De7f00NIuvMJiA+fD0s0HIigEHMNyiPNtaWG4F0KpwXVOv3ITpwMfigmX01Q1b00rr8XP\n",
       "dIdd1DDGeRMqv31aemGebAk9R5wVrTPdMoNk0mENmaJUIzb4DKo+KqFuihW6qR4YsRGzbp31TdGJ\n",
       "HtFXxpN3fxLAQo+KP050LGRiFY60mgQc5Un+pVryWxoVk5VUpdXc7Iae4RdEykFwHwUuEgAAAABJ\n",
       "RU5ErkJggg==\n",
       "\" style=\"display:inline;vertical-align:middle;\" /></a></td></tr>\n",
       "<tr><td>4</td><td>Literal</td><td></td><td><a class=\"ProveItLink\" href=\"../../../__pv_it/ec23fc7a1b4222a5f4948b495002b97d6fa18c3c0/expr.ipynb\"><img src=\"data:image/png;base64,iVBORw0KGgoAAAANSUhEUgAAAAoAAAAOBAMAAADkjZCYAAAALVBMVEX///8QEBCYmJh2dnaqqqrc\n",
       "3NxUVFQyMjK6uroiIiLMzMyIiIhmZmbu7u4AAAAZjyHdAAAAAXRSTlMAQObYZgAAAEpJREFUCNdj\n",
       "YLiz+xQDA8MMhpsLGLgnMHAXMHAmMHA8ZeA7wMD1hCHOgIHrNZh8jES+Bss+AqlkeQrSxTyBgWEK\n",
       "w8UFDAx3rLMYAMCjFldHSx/9AAAAAElFTkSuQmCC\n",
       "\" style=\"display:inline;vertical-align:middle;\" /></a></td></tr>\n",
       "<tr><td>5</td><td>Literal</td><td></td><td><a class=\"ProveItLink\" href=\"../../../__pv_it/7ca36d8558dd5f18c1e16b5e877a0b7e314926450/expr.ipynb\"><img src=\"data:image/png;base64,iVBORw0KGgoAAAANSUhEUgAAAAoAAAAOBAMAAADkjZCYAAAAMFBMVEX///+6uroQEBAyMjLMzMzc\n",
       "3NxERESIiIhUVFQiIiKYmJiqqqpmZmZ2dnbu7u4AAAACo3QQAAAAAXRSTlMAQObYZgAAAFlJREFU\n",
       "CNdjYHh79zQDA8MBBp4FDFwLGPgmMPA2gEjuHw94CxgY8n/VAmV5/k8Fkmuc/29g4DrAsP4fA9MD\n",
       "BtZfDI+AgscZmAIYGFoZuO0YuC8wMEicOc0AAC98GKTiu3IvAAAAAElFTkSuQmCC\n",
       "\" style=\"display:inline;vertical-align:middle;\" /></a></td></tr>\n",
       "</table>\n"
      ],
      "text/plain": [
       "0. (0 + 8 , 8)\n",
       "   core type: ExprTuple\n",
       "   sub-expressions: 1, 5\n",
       "1. 0 + 8\n",
       "   core type: Operation\n",
       "   operator: 2\n",
       "   operands: 3\n",
       "2. +\n",
       "   core type: Literal\n",
       "   sub-expressions: \n",
       "3. (0 , 8)\n",
       "   core type: ExprTuple\n",
       "   sub-expressions: 4, 5\n",
       "4. 0\n",
       "   core type: Literal\n",
       "   sub-expressions: \n",
       "5. 8\n",
       "   core type: Literal\n",
       "   sub-expressions: "
      ]
     },
     "execution_count": 4,
     "metadata": {},
     "output_type": "execute_result"
    }
   ],
   "source": [
    "# display the expression information\n",
    "expr.exprInfo()"
   ]
  },
  {
   "cell_type": "code",
   "execution_count": null,
   "metadata": {},
   "outputs": [],
   "source": []
  }
 ],
 "metadata": {
  "kernelspec": {
   "display_name": "Python 3",
   "language": "python",
   "name": "python3"
  }
 },
 "nbformat": 4,
 "nbformat_minor": 0
}
