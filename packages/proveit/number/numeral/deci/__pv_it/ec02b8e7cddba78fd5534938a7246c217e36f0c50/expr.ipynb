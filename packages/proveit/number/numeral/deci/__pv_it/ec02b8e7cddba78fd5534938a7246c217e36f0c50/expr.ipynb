{
 "cells": [
  {
   "cell_type": "markdown",
   "metadata": {},
   "source": [
    "Expression of type <a class=\"ProveItLink\" href=\"../../../../../../../doc/html/api/proveit.ExprTuple.html\">ExprTuple</a>\n",
    "=======================\n",
    "# from context <a class=\"ProveItLink\" href=\"../../_context_.ipynb\">proveit.number.numeral.deci</a>"
   ]
  },
  {
   "cell_type": "code",
   "execution_count": 1,
   "metadata": {},
   "outputs": [],
   "source": [
    "# import Expression classes needed to build the expression\n",
    "from proveit import ExprTuple\n",
    "from proveit.number import Mult, nine, one"
   ]
  },
  {
   "cell_type": "code",
   "execution_count": 2,
   "metadata": {},
   "outputs": [
    {
     "data": {
      "text/html": [
       "<strong id=\"expr\">expr:</strong> <a class=\"ProveItLink\" href=\"expr.ipynb\"><img src=\"data:image/png;base64,iVBORw0KGgoAAAANSUhEUgAAAEMAAAAVBAMAAADvM06qAAAAMFBMVEX////c3NwiIiJERESqqqqY\n",
       "mJh2dnZmZmYQEBDu7u4yMjJUVFTMzMyIiIi6uroAAAAs73DqAAAAAXRSTlMAQObYZgAAAUNJREFU\n",
       "KM+NkjFIw0AUhr/Qpm1aUzMWHHR166Cgk9lcO7kpbh1EFMTazQidJeAS7NAsHRScHBx06C5CcK6k\n",
       "OjpZ1KEFxbvYBEND8Ia7/959vPc/7sE/VtlLe92S2z20G3d/oquTU7vZ6ZHvCXWB0qJiRMTZaCIq\n",
       "pnICLugeGYtSNSTatyGyAtewAQWbWZfcKMqih3IMezYOvEKniv49hWjv4A/ImDQIsnwmZ6mR26cL\n",
       "eYvM1zTShDWPrMupSNllXSKaHUPOa9ljj7KFNKE+PXyIo7MQQ9js+yYzb/z6DDpyqnEk6EggrUAX\n",
       "3WkvYl0iCy2L4JD5QQzRpPANRZRQXeoiuMgVMSRw9WgXxQ+Lpl/EpX5gRkS+OT7EGUp/R0vSwoCC\n",
       "kTQDz5ESH6BuJyG1SO0Gw5CGaLLVuQRCj1RJ+lBSB7MPP3wWWVwKUQ9SAAAAAElFTkSuQmCC\n",
       "\" style=\"display:inline;vertical-align:middle;\" /></a><br>"
      ],
      "text/plain": [
       "expr: (9 * 1 , 9)"
      ]
     },
     "execution_count": 2,
     "metadata": {},
     "output_type": "execute_result"
    }
   ],
   "source": [
    "# build up the expression from sub-expressions\n",
    "expr = ExprTuple(Mult(nine, one), nine)"
   ]
  },
  {
   "cell_type": "code",
   "execution_count": 3,
   "metadata": {},
   "outputs": [
    {
     "name": "stdout",
     "output_type": "stream",
     "text": [
      "Passed sanity check: built 'expr' is the same as the stored Expression.\n"
     ]
    }
   ],
   "source": [
    "# check that the built expression is the same as the stored expression\n",
    "%check_expr"
   ]
  },
  {
   "cell_type": "code",
   "execution_count": 4,
   "metadata": {},
   "outputs": [
    {
     "data": {
      "text/html": [
       "<table><tr><th>&nbsp;</th><th>core type</th><th>sub-expressions</th><th>expression</th></tr>\n",
       "<tr><td>0</td><td>ExprTuple</td><td>1, 4</td><td><a class=\"ProveItLink\" href=\"expr.ipynb\"><img src=\"data:image/png;base64,iVBORw0KGgoAAAANSUhEUgAAAEMAAAAVBAMAAADvM06qAAAAMFBMVEX////c3NwiIiJERESqqqqY\n",
       "mJh2dnZmZmYQEBDu7u4yMjJUVFTMzMyIiIi6uroAAAAs73DqAAAAAXRSTlMAQObYZgAAAUNJREFU\n",
       "KM+NkjFIw0AUhr/Qpm1aUzMWHHR166Cgk9lcO7kpbh1EFMTazQidJeAS7NAsHRScHBx06C5CcK6k\n",
       "OjpZ1KEFxbvYBEND8Ia7/959vPc/7sE/VtlLe92S2z20G3d/oquTU7vZ6ZHvCXWB0qJiRMTZaCIq\n",
       "pnICLugeGYtSNSTatyGyAtewAQWbWZfcKMqih3IMezYOvEKniv49hWjv4A/ImDQIsnwmZ6mR26cL\n",
       "eYvM1zTShDWPrMupSNllXSKaHUPOa9ljj7KFNKE+PXyIo7MQQ9js+yYzb/z6DDpyqnEk6EggrUAX\n",
       "3WkvYl0iCy2L4JD5QQzRpPANRZRQXeoiuMgVMSRw9WgXxQ+Lpl/EpX5gRkS+OT7EGUp/R0vSwoCC\n",
       "kTQDz5ESH6BuJyG1SO0Gw5CGaLLVuQRCj1RJ+lBSB7MPP3wWWVwKUQ9SAAAAAElFTkSuQmCC\n",
       "\" style=\"display:inline;vertical-align:middle;\" /></a></td></tr>\n",
       "<tr><td>1</td><td>Operation</td><td>operator:&nbsp;2<br>operands:&nbsp;3<br></td><td><a class=\"ProveItLink\" href=\"../d2248d04878ac253430a5e6459f5097f7b22bf370/expr.ipynb\"><img src=\"data:image/png;base64,iVBORw0KGgoAAAANSUhEUgAAACIAAAAPBAMAAABzWwAZAAAAMFBMVEX///8iIiKYmJi6urqIiIgy\n",
       "MjJERESqqqoQEBDc3NzMzMx2dnZmZmZUVFTu7u4AAABn2L4sAAAAAXRSTlMAQObYZgAAAIFJREFU\n",
       "GNNjYHh7+hYDAuQxMHC2M8yYABd49o+Bga2BgTcBJvD2LlCEP4CB+x9cDQuQ+T6BgeUzighIzScU\n",
       "EZ4GBrYvKCJ8QQw1IBG+BzARBiaXJd+B1HsBuAgDxK4XCUgirAEo5rD8ZJhvgCoixxDCgCLCsOdY\n",
       "AVyA58TXQwwYAAAYYSn/mAdViAAAAABJRU5ErkJggg==\n",
       "\" style=\"display:inline;vertical-align:middle;\" /></a></td></tr>\n",
       "<tr><td>2</td><td>Literal</td><td></td><td><a class=\"ProveItLink\" href=\"../../../../multiplication/__pv_it/21fd2079611555ecce512d99547a00d551e6b86b0/expr.ipynb\"><img src=\"data:image/png;base64,iVBORw0KGgoAAAANSUhEUgAAAAMAAAADBAMAAACkBqiMAAAAElBMVEX///9EREQQEBAiIiLu7u4A\n",
       "AABGBidwAAAAAXRSTlMAQObYZgAAABFJREFUCNdjYHFgcDVgcBIAAASWAQx4jI0xAAAAAElFTkSu\n",
       "QmCC\n",
       "\" style=\"display:inline;vertical-align:middle;\" /></a></td></tr>\n",
       "<tr><td>3</td><td>ExprTuple</td><td>4, 5</td><td><a class=\"ProveItLink\" href=\"../2b4c34da13c3e0a029677745ffa287e4c00ca0940/expr.ipynb\"><img src=\"data:image/png;base64,iVBORw0KGgoAAAANSUhEUgAAACkAAAAVBAMAAAAp9toTAAAAMFBMVEX////c3NwiIiJERESqqqqY\n",
       "mJh2dnZmZmYQEBDu7u4yMjJUVFTMzMyIiIi6uroAAAAs73DqAAAAAXRSTlMAQObYZgAAAPBJREFU\n",
       "GNNjYMAO+C6gCcSBiNMMDLPL9sCELBkY2A8A6ZUMjC0MEgIQwck/gcQCBgbeCwzMDQzcBmDB2btB\n",
       "omEMDBwTGPgXMLD9hKjlBdEzGBheMTDMN2Dg/YckyuzAUMYAVvsVSZStgGEp0NIGBua/SKIsCxj6\n",
       "GBg4lzK4I4vyNTCADGS9e/YLkijPBwaINShuAIq2gHlcC1BNMAUyPzLIP2CYABdlXcCQDmRqMqxl\n",
       "4PyE7LJHQCq92IGBsx8YFOwVv0qBxj1g4BCAhSiMAfIxawKUzQoP4FxwSKKJcoLcIw3lwKOEG2QU\n",
       "I3oM3WFgAAC1AD/Lm0hQ7gAAAABJRU5ErkJggg==\n",
       "\" style=\"display:inline;vertical-align:middle;\" /></a></td></tr>\n",
       "<tr><td>4</td><td>Literal</td><td></td><td><a class=\"ProveItLink\" href=\"../../../__pv_it/cdcd6ad997b4d5c13a719b005810863ba48ff0c70/expr.ipynb\"><img src=\"data:image/png;base64,iVBORw0KGgoAAAANSUhEUgAAAAoAAAAOBAMAAADkjZCYAAAAMFBMVEX///8iIiKYmJi6urqIiIgy\n",
       "MjJERESqqqoQEBDc3NzMzMx2dnZmZmZUVFTu7u4AAABn2L4sAAAAAXRSTlMAQObYZgAAAFVJREFU\n",
       "CNdjYHh7+hYDA2c7w4wJDGwNDLwJDPwBDNz/GN4nMLB8BrM/MfA0MLB9YeALYqj5wsDA5LLkOwMQ\n",
       "ANUAAWsAA8tPhvkGDCxyDCFA/p5jBQwAtzwVEbGPESsAAAAASUVORK5CYII=\n",
       "\" style=\"display:inline;vertical-align:middle;\" /></a></td></tr>\n",
       "<tr><td>5</td><td>Literal</td><td></td><td><a class=\"ProveItLink\" href=\"../../../__pv_it/9be8badea4c35b9724062cecc501d17a3158d1d20/expr.ipynb\"><img src=\"data:image/png;base64,iVBORw0KGgoAAAANSUhEUgAAAAgAAAAPBAMAAAArJJMAAAAAHlBMVEX///+YmJgyMjIQEBBmZmaI\n",
       "iIhUVFTu7u5EREQAAAAw+MI4AAAAAXRSTlMAQObYZgAAACFJREFUCNdjYGBoZ2BgqJjOwFCWBiQY\n",
       "WEklWJwnOTKAAACjEQo8HvEr3AAAAABJRU5ErkJggg==\n",
       "\" style=\"display:inline;vertical-align:middle;\" /></a></td></tr>\n",
       "</table>\n"
      ],
      "text/plain": [
       "0. (9 * 1 , 9)\n",
       "   core type: ExprTuple\n",
       "   sub-expressions: 1, 4\n",
       "1. 9 * 1\n",
       "   core type: Operation\n",
       "   operator: 2\n",
       "   operands: 3\n",
       "2. *\n",
       "   core type: Literal\n",
       "   sub-expressions: \n",
       "3. (9 , 1)\n",
       "   core type: ExprTuple\n",
       "   sub-expressions: 4, 5\n",
       "4. 9\n",
       "   core type: Literal\n",
       "   sub-expressions: \n",
       "5. 1\n",
       "   core type: Literal\n",
       "   sub-expressions: "
      ]
     },
     "execution_count": 4,
     "metadata": {},
     "output_type": "execute_result"
    }
   ],
   "source": [
    "# display the expression information\n",
    "expr.exprInfo()"
   ]
  },
  {
   "cell_type": "code",
   "execution_count": null,
   "metadata": {},
   "outputs": [],
   "source": []
  }
 ],
 "metadata": {
  "kernelspec": {
   "display_name": "Python 3",
   "language": "python",
   "name": "python3"
  }
 },
 "nbformat": 4,
 "nbformat_minor": 0
}
