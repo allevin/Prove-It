{
 "cells": [
  {
   "cell_type": "markdown",
   "metadata": {},
   "source": [
    "Theorem <a class=\"ProveItLink\" href=\"../../_theorems_.ipynb#add_2_2\">add_2_2</a> of type <a class=\"ProveItLink\" href=\"../../../../../../../doc/html/api/proveit.logic.Equals.html\">Equals</a>\n",
    "=======================\n",
    "# from context <a class=\"ProveItLink\" href=\"../../_context_.ipynb\">proveit.number.numeral.deci</a>\n",
    "*** see <a class=\"ProveItLink\" href=\"dependencies.ipynb\">dependencies</a> ***"
   ]
  },
  {
   "cell_type": "code",
   "execution_count": 1,
   "metadata": {},
   "outputs": [],
   "source": [
    "# import the special expression\n",
    "from proveit.number.numeral.deci._theorems_ import add_2_2"
   ]
  },
  {
   "cell_type": "code",
   "execution_count": 2,
   "metadata": {},
   "outputs": [
    {
     "name": "stdout",
     "output_type": "stream",
     "text": [
      "Passed sanity check: built 'add_2_2' is the same as the stored Expression.\n"
     ]
    }
   ],
   "source": [
    "# check that the built expression is the same as the stored expression\n",
    "%check_expr add_2_2"
   ]
  },
  {
   "cell_type": "code",
   "execution_count": 3,
   "metadata": {},
   "outputs": [
    {
     "data": {
      "text/html": [
       "<table><tr><th>&nbsp;</th><th>core type</th><th>sub-expressions</th><th>expression</th></tr>\n",
       "<tr><td>0</td><td>Operation</td><td>operator:&nbsp;1<br>operands:&nbsp;2<br></td><td><a class=\"ProveItLink\" href=\"expr.ipynb\"><img src=\"data:image/png;base64,iVBORw0KGgoAAAANSUhEUgAAAGEAAAAVBAMAAACkm51HAAAAMFBMVEX////c3NwiIiJERESqqqqY\n",
       "mJh2dnZmZmYQEBDu7u4yMjJUVFTMzMyIiIi6uroAAAAs73DqAAAAAXRSTlMAQObYZgAAAXFJREFU\n",
       "OMtjYCAd8F3AIRGHS8dpBgbxKjtUMcbyxQ8Y2A9gKubZACRWMjBuYLjvgCIhzcD7hYFhAaYOJgMG\n",
       "Bt4LDNwTGJg+QEQmQqidDAz6DAxhmDpuAHVwTGDg6GTg/gcR8YVQHRMY9j9gmIGhgTEKqOMVAwPX\n",
       "TwZ2VB3rJzDUP2BgdkDXwcYF1FEGcd9PFB1AoD+Bga0AXUcgSMdSMPN8ApoOnm8MDCxgr7OvAgNQ\n",
       "IHFeAOnoAytYzICmAyTF14DuKLAw2APsBug6ikH2fEDT4YPQcRssULVqlcaqVatBTN4NWHRwJoB1\n",
       "tACZLAUMgqh2uDMwCkBdxa4EBkClLLt37+++wGAKFDwODAUUHTwFDKwCDKyYkc4B1JgOjBe1tHQF\n",
       "FB1CaWlFDFhCF6zjETAy/v//j6pD////T8DweoARg/u/BzBwCCAL+SJzZmBP7KwJyLy3yJxcHPlj\n",
       "Ja6Mw7kAh4Q0Lh3cAjgkGHHl2jvYhQHWQVXd37+bpwAAAABJRU5ErkJggg==\n",
       "\" style=\"display:inline;vertical-align:middle;\" /></a></td></tr>\n",
       "<tr><td>1</td><td>Literal</td><td></td><td><a class=\"ProveItLink\" href=\"../../../../../logic/equality/__pv_it/2fb26078095930560931daa0500ce419a39ea6cd0/expr.ipynb\"><img src=\"data:image/png;base64,iVBORw0KGgoAAAANSUhEUgAAAA4AAAAFBAMAAACHocAhAAAAFVBMVEX///9EREQiIiJUVFQyMjJm\n",
       "ZmYAAADubVkoAAAAAXRSTlMAQObYZgAAABRJREFUCNdjCHEBAWcGXCBICQQUAUpuAwlgGKrkAAAA\n",
       "AElFTkSuQmCC\n",
       "\" style=\"display:inline;vertical-align:middle;\" /></a></td></tr>\n",
       "<tr><td>2</td><td>ExprTuple</td><td>3, 4</td><td><a class=\"ProveItLink\" href=\"../94bb50d357933e5d1b3e18f078b4d93fcb6067220/expr.ipynb\"><img src=\"data:image/png;base64,iVBORw0KGgoAAAANSUhEUgAAAE0AAAAVBAMAAADx+n4ZAAAAMFBMVEX////c3NwiIiJERESqqqqY\n",
       "mJh2dnZmZmYQEBDu7u4yMjJUVFTMzMyIiIi6uroAAAAs73DqAAAAAXRSTlMAQObYZgAAAUVJREFU\n",
       "KM+Nkq9Pw0AUx78d/XXtWIZCYFAEOYMl+wNYAgaBWKqYIplCTCEwhASKQzYhCIqZnxgOgaByCSQs\n",
       "SBKSBUNmKO/u1uOuyTJO9Po+75Pru9cH/HfVsoVKmz+egNXedimjkWof3gPtd7D6eGsamk4qDSAB\n",
       "ljOEMSoTCa/kphGMyNsH/Bj+GcIfCVty04h1QN418AEEU3impxE3IG+piWNZxNTwNLLHPbeLWxE9\n",
       "R2VvRljGPTvBhQhvUPZmxAX3aicQZXiNsleQHeFVJ9J7EayXpptpeo8/AhYV3ilFdhcr5nkFsQeD\n",
       "4XnGv7tF0SNdy/QEiWUv6TwnQYdauXHYWTc8QdiX8qgv79SqPM9NTxB2WecXHn7vIhjDr+sD0DIm\n",
       "TqXovzmRnvrUA0e9HYm5mreUx2iusDbXU4Me8gKsxXP/CvwCNvlS+JpVC1UAAAAASUVORK5CYII=\n",
       "\" style=\"display:inline;vertical-align:middle;\" /></a></td></tr>\n",
       "<tr><td>3</td><td>Operation</td><td>operator:&nbsp;5<br>operands:&nbsp;6<br></td><td><a class=\"ProveItLink\" href=\"../149ae7762b0c148d95fc0fdace779253bea2042c0/expr.ipynb\"><img src=\"data:image/png;base64,iVBORw0KGgoAAAANSUhEUgAAACwAAAAQBAMAAACfEoDkAAAAMFBMVEX///+YmJh2dnbMzMwQEBAi\n",
       "IiLu7u6qqqqIiIhUVFS6urpEREQyMjJmZmbc3NwAAACOMKdoAAAAAXRSTlMAQObYZgAAALVJREFU\n",
       "GNNj4Lt7egEDCnh7ZxcDw0sGju8oonwTGPoLGKYxMMRD+GwPwBRnAgPrBwaXBIb5EFPYG8AUixsD\n",
       "5y+G8wkM91GEeb4x8P4CMeITkIWBgPUbkGD+xIAmbK8A0rUBXfg0iLjNgCbMC1LHMQHMPHPmqM+Z\n",
       "M2B2J4ioZeB7gKKa/QLDOwbmCwyMqMK2DAxyDE+VlK6imM0XpKQbwBD///9XFGHW////ByCFEcKB\n",
       "KIALSRgAyl004gJzXPgAAAAASUVORK5CYII=\n",
       "\" style=\"display:inline;vertical-align:middle;\" /></a></td></tr>\n",
       "<tr><td>4</td><td>Literal</td><td></td><td><a class=\"ProveItLink\" href=\"../../../__pv_it/23412ce59ea7e77353d2f9225e02248e73651ca00/expr.ipynb\"><img src=\"data:image/png;base64,iVBORw0KGgoAAAANSUhEUgAAAAoAAAAPBAMAAAAv0UM9AAAALVBMVEX///9mZmaqqqru7u52dnYy\n",
       "MjKYmJjc3NwQEBCIiIhEREQiIiJUVFTMzMwAAACUDTcXAAAAAXRSTlMAQObYZgAAAD5JREFUCNdj\n",
       "YGBguMMAArtABGcXiCyLApEOIJKtAERaMoBIBxDJdAFEmjCASJ0zZ16cBCkF64KQPu/EwBwGACv6\n",
       "DSRgin9qAAAAAElFTkSuQmCC\n",
       "\" style=\"display:inline;vertical-align:middle;\" /></a></td></tr>\n",
       "<tr><td>5</td><td>Literal</td><td></td><td><a class=\"ProveItLink\" href=\"../../../../addition/__pv_it/3e6688136fa3c7aefbebe51301b7c3ebf0b69c440/expr.ipynb\"><img src=\"data:image/png;base64,iVBORw0KGgoAAAANSUhEUgAAAA4AAAAOBAMAAADtZjDiAAAAJFBMVEX///+6urpUVFQQEBAiIiIy\n",
       "MjJmZmaIiIiqqqrc3Nzu7u4AAACgHpL+AAAAAXRSTlMAQObYZgAAAB5JREFUCNdjYGBgWMkAAe2k\n",
       "0Kmhoc6hoUGk6BMHYgAHOwjcado9fwAAAABJRU5ErkJggg==\n",
       "\" style=\"display:inline;vertical-align:middle;\" /></a></td></tr>\n",
       "<tr><td>6</td><td>ExprTuple</td><td>7, 7</td><td><a class=\"ProveItLink\" href=\"../149c396ca93376d4598a50ad360b234f72321ed30/expr.ipynb\"><img src=\"data:image/png;base64,iVBORw0KGgoAAAANSUhEUgAAACkAAAAVBAMAAAAp9toTAAAAMFBMVEX////c3NwiIiJERESqqqqY\n",
       "mJh2dnZmZmYQEBDu7u4yMjJUVFTMzMyIiIi6uroAAAAs73DqAAAAAXRSTlMAQObYZgAAAQ9JREFU\n",
       "GNNtkStMA0EQhr8rPe7FkSsGganCtgZL6tAYJKm6KpILJJBgQCDAwErkJQ0CRS0KHAJBfUm4IFEN\n",
       "ISQ1LPtgKy6s2P3n28nknxn4/yyPa2BXX8+werxpgXc0rAgelbrFG/HWM3SN9AtKSMckgsbU0Hvo\n",
       "wA6EgvCC5MfQc8FDxTV8QDwjsPROcFKx0OPQhI2Zc9ARLBbcGP3S/4NL39AsuTTB0KXGXdXBKaZg\n",
       "0HX0QOdPLZ04mI4sPVNPs6Bl6RZepitsKP0E2widVeBn+CUD1f16PmhHn4qu5Pk+2tm7MiulbEdX\n",
       "mTIrpfqMK8LMTdQJ3bHv/PvzAe+ZSdZoVJqZ2jNfSaJLefUNvcIvFKA+uKO+SOEAAAAASUVORK5C\n",
       "YII=\n",
       "\" style=\"display:inline;vertical-align:middle;\" /></a></td></tr>\n",
       "<tr><td>7</td><td>Literal</td><td></td><td><a class=\"ProveItLink\" href=\"../../../__pv_it/77d407a64829263cdc16415becd4c2293f77a4bf0/expr.ipynb\"><img src=\"data:image/png;base64,iVBORw0KGgoAAAANSUhEUgAAAAkAAAAOBAMAAAAPuiubAAAAMFBMVEX///+YmJh2dnbMzMwQEBAi\n",
       "IiLu7u6qqqqIiIhUVFS6urpEREQyMjJmZmbc3NwAAACOMKdoAAAAAXRSTlMAQObYZgAAAFBJREFU\n",
       "CNdj4Lt7egEDw0sGju8MDNMYGOIZGFwSGOYvYDifwHAfKAEUSQASzJ9ATJ4NIPI2iOCYACJrGfge\n",
       "MDBfYGB8wPBUSekqUPH//18ZAIliFhc3zESNAAAAAElFTkSuQmCC\n",
       "\" style=\"display:inline;vertical-align:middle;\" /></a></td></tr>\n",
       "</table>\n"
      ],
      "text/plain": [
       "0. (2 + 2) = 4\n",
       "   core type: Operation\n",
       "   operator: 1\n",
       "   operands: 2\n",
       "1. =\n",
       "   core type: Literal\n",
       "   sub-expressions: \n",
       "2. (2 + 2 , 4)\n",
       "   core type: ExprTuple\n",
       "   sub-expressions: 3, 4\n",
       "3. 2 + 2\n",
       "   core type: Operation\n",
       "   operator: 5\n",
       "   operands: 6\n",
       "4. 4\n",
       "   core type: Literal\n",
       "   sub-expressions: \n",
       "5. +\n",
       "   core type: Literal\n",
       "   sub-expressions: \n",
       "6. (2 , 2)\n",
       "   core type: ExprTuple\n",
       "   sub-expressions: 7, 7\n",
       "7. 2\n",
       "   core type: Literal\n",
       "   sub-expressions: "
      ]
     },
     "execution_count": 3,
     "metadata": {},
     "output_type": "execute_result"
    }
   ],
   "source": [
    "# display the expression information\n",
    "add_2_2.exprInfo()"
   ]
  },
  {
   "cell_type": "code",
   "execution_count": null,
   "metadata": {},
   "outputs": [],
   "source": []
  }
 ],
 "metadata": {
  "kernelspec": {
   "display_name": "Python 3",
   "language": "python",
   "name": "python3"
  }
 },
 "nbformat": 4,
 "nbformat_minor": 0
}
