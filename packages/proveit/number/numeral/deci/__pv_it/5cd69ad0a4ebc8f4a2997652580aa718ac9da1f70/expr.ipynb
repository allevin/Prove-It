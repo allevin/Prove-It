{
 "cells": [
  {
   "cell_type": "markdown",
   "metadata": {},
   "source": [
    "Theorem <a class=\"ProveItLink\" href=\"../../_theorems_.ipynb#add_0_6\">add_0_6</a> of type <a class=\"ProveItLink\" href=\"../../../../../../../doc/html/api/proveit.logic.Equals.html\">Equals</a>\n",
    "=======================\n",
    "# from context <a class=\"ProveItLink\" href=\"../../_context_.ipynb\">proveit.number.numeral.deci</a>\n",
    "*** see <a class=\"ProveItLink\" href=\"dependencies.ipynb\">dependencies</a> ***"
   ]
  },
  {
   "cell_type": "code",
   "execution_count": 1,
   "metadata": {},
   "outputs": [],
   "source": [
    "# import the special expression\n",
    "from proveit.number.numeral.deci._theorems_ import add_0_6"
   ]
  },
  {
   "cell_type": "code",
   "execution_count": 2,
   "metadata": {},
   "outputs": [
    {
     "name": "stdout",
     "output_type": "stream",
     "text": [
      "Passed sanity check: built 'add_0_6' is the same as the stored Expression.\n"
     ]
    }
   ],
   "source": [
    "# check that the built expression is the same as the stored expression\n",
    "%check_expr add_0_6"
   ]
  },
  {
   "cell_type": "code",
   "execution_count": 3,
   "metadata": {},
   "outputs": [
    {
     "data": {
      "text/html": [
       "<table><tr><th>&nbsp;</th><th>core type</th><th>sub-expressions</th><th>expression</th></tr>\n",
       "<tr><td>0</td><td>Operation</td><td>operator:&nbsp;1<br>operands:&nbsp;2<br></td><td><a class=\"ProveItLink\" href=\"expr.ipynb\"><img src=\"data:image/png;base64,iVBORw0KGgoAAAANSUhEUgAAAGEAAAAVBAMAAACkm51HAAAAMFBMVEX////c3NwiIiJERESqqqqY\n",
       "mJh2dnZmZmYQEBDu7u4yMjJUVFTMzMyIiIi6uroAAAAs73DqAAAAAXRSTlMAQObYZgAAAVRJREFU\n",
       "OMuVk71Lw0AYh3/9TKNJ7O5gEQUHERHc+w8UnRw1m4vFTh2sg4OuEh1sxi6CPZfi7NBdhGwuCsVR\n",
       "ELSog2D1cm8ouevd4A338bz3JO99Af8vXmQIbJuMO6D9dKjAi+YerP7E3BgDXWAF53I0s4wboKMK\n",
       "hN0IbgVuEj2jJuuDAVuqQbgUINuD906sRs1OENehahB+AWYacD4k40rUuapiEG4Ccz6cH8n4vn/g\n",
       "s4sNxSB8ScZX2rCHm1gE8mJxFhOlN8anOuMX2A/gHcm/SPBIk5U95KuswnlTDMIjWvknJweMLTF2\n",
       "HSfMQ9GEkeBjxLubl3d3TXyMsrLmRVkd43XEJ1isSMaGSLigHjrhXd5bQNiXjJxvn2h2l/Az77Xr\n",
       "t5AMtFoDYGqgHrrApXIa1dKDUH/ZC3569Joe1A3vo2t6OHbHEJg1GdNlQyBjerWPevwHbD9i4343\n",
       "Fe4AAAAASUVORK5CYII=\n",
       "\" style=\"display:inline;vertical-align:middle;\" /></a></td></tr>\n",
       "<tr><td>1</td><td>Literal</td><td></td><td><a class=\"ProveItLink\" href=\"../../../../../logic/equality/__pv_it/2fb26078095930560931daa0500ce419a39ea6cd0/expr.ipynb\"><img src=\"data:image/png;base64,iVBORw0KGgoAAAANSUhEUgAAAA4AAAAFBAMAAACHocAhAAAAFVBMVEX///9EREQiIiJUVFQyMjJm\n",
       "ZmYAAADubVkoAAAAAXRSTlMAQObYZgAAABRJREFUCNdjCHEBAWcGXCBICQQUAUpuAwlgGKrkAAAA\n",
       "AElFTkSuQmCC\n",
       "\" style=\"display:inline;vertical-align:middle;\" /></a></td></tr>\n",
       "<tr><td>2</td><td>ExprTuple</td><td>3, 7</td><td><a class=\"ProveItLink\" href=\"../3ad3735cc974c10ab7ed5029165feff0774412f20/expr.ipynb\"><img src=\"data:image/png;base64,iVBORw0KGgoAAAANSUhEUgAAAE0AAAAVBAMAAADx+n4ZAAAAMFBMVEX////c3NwiIiJERESqqqqY\n",
       "mJh2dnZmZmYQEBDu7u4yMjJUVFTMzMyIiIi6uroAAAAs73DqAAAAAXRSTlMAQObYZgAAAXVJREFU\n",
       "KM+NkrtLA0EQh788LsnlZbC18AojFmIhaJ1/QExlqalMYzCFpDAWKbTVaKHpvEbQ00JsbESuFyGd\n",
       "jUKwFIQoUTDgY/fWhKxEdIu53+x8Nzs7O/Dflaz/icxLcwV7d2s/ImZ+0VVqt7REWOojmGDH1blB\n",
       "N2Z5wjfOGdiQqJOwSNgqvv3NjRJVO/4cDsxBpIr/lOSTis+oj/HWSbxQlbYGDzBQJN7SuGilwx16\n",
       "NpChBMM54u8aN3Byt6JU+/omA6EiB4p71bj9NP6sd+/nLGkI2mz25ZqEvBLNT1iukqzw0e/cfQuj\n",
       "pfKJq2SINyUn7/EiNlcdZ8xxjmV9Nob6sy24uuTWkX0J6n0JdPIx6eUT504h+xyyNC7o1SdbN+vV\n",
       "Z9jkhTNCzdU4pqllZW0EcuaG15d74ewVLtC58Pkl5lZKqHK5IfreIJLqff8ZbeK6IfFuRq439Njr\n",
       "GF1VUHP1y+pyppydoV+57qDHZAG+v+f+Fr4AjrVgDVgEtigAAAAASUVORK5CYII=\n",
       "\" style=\"display:inline;vertical-align:middle;\" /></a></td></tr>\n",
       "<tr><td>3</td><td>Operation</td><td>operator:&nbsp;4<br>operands:&nbsp;5<br></td><td><a class=\"ProveItLink\" href=\"../bf3c34c4ed3e36946ed9cc7eab8902cc5d950bbc0/expr.ipynb\"><img src=\"data:image/png;base64,iVBORw0KGgoAAAANSUhEUgAAAC0AAAAQBAMAAABw0OvaAAAAMFBMVEX///9EREQQEBCYmJh2dnaq\n",
       "qqrc3NxUVFQyMjK6uroiIiLMzMyIiIhmZmbu7u4AAADSWfX9AAAAAXRSTlMAQObYZgAAALBJREFU\n",
       "GNNjYHh75jYDKnhyxRtIrmR4tQFFmG01QxUDA88CBp4GiMAzCMXlwNABJAsYOL9BBGIglP0DEMl/\n",
       "gYH7K4p4E5jMd2Dg/oMi/mPP2QCI+Bdkcb5fBgyLsYn/Z2Dwf4BpDt8voNUBYHs/A7k3OjoWdXS0\n",
       "g8wHih8AuZMV1Z1SYPVAf7EsQBGPB5vPsJTh0QYUcUYHPmUg9danmgFFnOH69QkoARbDgB3MQWID\n",
       "AGsQN1J6712ZAAAAAElFTkSuQmCC\n",
       "\" style=\"display:inline;vertical-align:middle;\" /></a></td></tr>\n",
       "<tr><td>4</td><td>Literal</td><td></td><td><a class=\"ProveItLink\" href=\"../../../../addition/__pv_it/3e6688136fa3c7aefbebe51301b7c3ebf0b69c440/expr.ipynb\"><img src=\"data:image/png;base64,iVBORw0KGgoAAAANSUhEUgAAAA4AAAAOBAMAAADtZjDiAAAAJFBMVEX///+6urpUVFQQEBAiIiIy\n",
       "MjJmZmaIiIiqqqrc3Nzu7u4AAACgHpL+AAAAAXRSTlMAQObYZgAAAB5JREFUCNdjYGBgWMkAAe2k\n",
       "0Kmhoc6hoUGk6BMHYgAHOwjcado9fwAAAABJRU5ErkJggg==\n",
       "\" style=\"display:inline;vertical-align:middle;\" /></a></td></tr>\n",
       "<tr><td>5</td><td>ExprTuple</td><td>6, 7</td><td><a class=\"ProveItLink\" href=\"../22f451da684d50c034fe903ed143d9790a8726c00/expr.ipynb\"><img src=\"data:image/png;base64,iVBORw0KGgoAAAANSUhEUgAAACkAAAAVBAMAAAAp9toTAAAAMFBMVEX////c3NwiIiJERESqqqqY\n",
       "mJh2dnZmZmYQEBDu7u4yMjJUVFTMzMyIiIi6uroAAAAs73DqAAAAAXRSTlMAQObYZgAAAQ5JREFU\n",
       "GNNtkS1Pw1AUhp99dOxCW+YRTIAjCBJ8/wEoJNRhWJiaGQIBFhoEm6whARRBI+oJSR0GkgWJ2hZA\n",
       "kPBxz2m3jIUrTs775OY9X/D/89MpsC3hHjrPBzk5b+0xk9jkClY5SxQWVriFGLwUr44XKy2GXMMW\n",
       "VCOKN/gDpTuRxC68wnwT903ppcZSQAsWQ9wv1Z8PjwFUmlxk9EOgGW6yDOWYk0n6A/sR/iHfEw5m\n",
       "aAsGuH2hUu0987U0FXqEdFbOOlvTv9ZhHZmiUkda3VBfJ2bXiiW6iXhSCs2xdvZiRadxhzmt2azd\n",
       "7sFsj2pttNFRIhM7YZ474wU3sk3+pUb2t5CL8UnmxKowfaEn+AV5kUOeRroK2gAAAABJRU5ErkJg\n",
       "gg==\n",
       "\" style=\"display:inline;vertical-align:middle;\" /></a></td></tr>\n",
       "<tr><td>6</td><td>Literal</td><td></td><td><a class=\"ProveItLink\" href=\"../../../__pv_it/ec23fc7a1b4222a5f4948b495002b97d6fa18c3c0/expr.ipynb\"><img src=\"data:image/png;base64,iVBORw0KGgoAAAANSUhEUgAAAAoAAAAOBAMAAADkjZCYAAAALVBMVEX///8QEBCYmJh2dnaqqqrc\n",
       "3NxUVFQyMjK6uroiIiLMzMyIiIhmZmbu7u4AAAAZjyHdAAAAAXRSTlMAQObYZgAAAEpJREFUCNdj\n",
       "YLiz+xQDA8MMhpsLGLgnMHAXMHAmMHA8ZeA7wMD1hCHOgIHrNZh8jES+Bss+AqlkeQrSxTyBgWEK\n",
       "w8UFDAx3rLMYAMCjFldHSx/9AAAAAElFTkSuQmCC\n",
       "\" style=\"display:inline;vertical-align:middle;\" /></a></td></tr>\n",
       "<tr><td>7</td><td>Literal</td><td></td><td><a class=\"ProveItLink\" href=\"../../../__pv_it/09b499e53e24cf89c2513ba78b501f0314edaa680/expr.ipynb\"><img src=\"data:image/png;base64,iVBORw0KGgoAAAANSUhEUgAAAAoAAAAOBAMAAADkjZCYAAAAMFBMVEX///+6urpERESqqqqIiIgQ\n",
       "EBCYmJgyMjJUVFQiIiLc3NzMzMxmZmZ2dnbu7u4AAABf+mkYAAAAAXRSTlMAQObYZgAAAFNJREFU\n",
       "CNdjYOC7c3cDA8PKDRwTGBjmMrAXMLD9YwAC9gAQyV/tcpiB4f00Bs4EhvcfGHj/MbyfwMD2mYEf\n",
       "qOwLAxOYzQwWZ9BleJrAwMDT08gAANMyF0ZGTeKAAAAAAElFTkSuQmCC\n",
       "\" style=\"display:inline;vertical-align:middle;\" /></a></td></tr>\n",
       "</table>\n"
      ],
      "text/plain": [
       "0. (0 + 6) = 6\n",
       "   core type: Operation\n",
       "   operator: 1\n",
       "   operands: 2\n",
       "1. =\n",
       "   core type: Literal\n",
       "   sub-expressions: \n",
       "2. (0 + 6 , 6)\n",
       "   core type: ExprTuple\n",
       "   sub-expressions: 3, 7\n",
       "3. 0 + 6\n",
       "   core type: Operation\n",
       "   operator: 4\n",
       "   operands: 5\n",
       "4. +\n",
       "   core type: Literal\n",
       "   sub-expressions: \n",
       "5. (0 , 6)\n",
       "   core type: ExprTuple\n",
       "   sub-expressions: 6, 7\n",
       "6. 0\n",
       "   core type: Literal\n",
       "   sub-expressions: \n",
       "7. 6\n",
       "   core type: Literal\n",
       "   sub-expressions: "
      ]
     },
     "execution_count": 3,
     "metadata": {},
     "output_type": "execute_result"
    }
   ],
   "source": [
    "# display the expression information\n",
    "add_0_6.exprInfo()"
   ]
  },
  {
   "cell_type": "code",
   "execution_count": null,
   "metadata": {},
   "outputs": [],
   "source": []
  }
 ],
 "metadata": {
  "kernelspec": {
   "display_name": "Python 3",
   "language": "python",
   "name": "python3"
  }
 },
 "nbformat": 4,
 "nbformat_minor": 0
}
