{
 "cells": [
  {
   "cell_type": "markdown",
   "metadata": {},
   "source": [
    "Expression of type <a class=\"ProveItLink\" href=\"../../../../../../../doc/html/api/proveit.ExprTuple.html\">ExprTuple</a>\n",
    "=======================\n",
    "# from context <a class=\"ProveItLink\" href=\"../../_context_.ipynb\">proveit.number.numeral.deci</a>"
   ]
  },
  {
   "cell_type": "code",
   "execution_count": 1,
   "metadata": {},
   "outputs": [],
   "source": [
    "# import Expression classes needed to build the expression\n",
    "from proveit import ExprTuple\n",
    "from proveit.number import Add, nine, zero"
   ]
  },
  {
   "cell_type": "code",
   "execution_count": 2,
   "metadata": {},
   "outputs": [
    {
     "data": {
      "text/html": [
       "<strong id=\"expr\">expr:</strong> <a class=\"ProveItLink\" href=\"expr.ipynb\"><img src=\"data:image/png;base64,iVBORw0KGgoAAAANSUhEUgAAAE0AAAAVBAMAAADx+n4ZAAAAMFBMVEX////c3NwiIiJERESqqqqY\n",
       "mJh2dnZmZmYQEBDu7u4yMjJUVFTMzMyIiIi6uroAAAAs73DqAAAAAXRSTlMAQObYZgAAAXZJREFU\n",
       "KM+Nkj1IQlEUx3/m97ej0KBDQy3hUNCWW5Pg1Fa4OYQkBBYRZOBc1mLU0FscehEEDS0Ob49AmhWl\n",
       "MQiyNCgwuu++fPgMsTu8+7/v/Dj3nHP/8N8Vqk9E1vXPPZwXaiORSnPPEN67DQ23JtQlthLRiJWb\n",
       "50STIpq0HYACwTr2Iv6EET82tmCcoCLVEtzCKnjKhBVcnwaQMrapG0Idqb5gs8wpPMNFguC3hQvn\n",
       "CXRlee/QamNPUkDm61m4WIZA38yXxpWnCu4i9v4f7kOqHViu41A4FMmrrIzjztKO/TqhInphzuZD\n",
       "d8y9rDVaSQKvGA3IfndVdVZVr3776A1mKfoVXElqnzI6F0dnwKno9y6KqXaItS2cmLMrTlmoVsQm\n",
       "bnQqZMXfOa6xcMxwqnnfhHgs+4RPxFyexCG7lRzhKrka3iPx6K7tBb2sNh6LA1IWx5kh8W7OzHDo\n",
       "ZfjgNFVO+mrcMjmvPo3psZxpdL9egG2y7xvwA4FwY06+22ZtAAAAAElFTkSuQmCC\n",
       "\" style=\"display:inline;vertical-align:middle;\" /></a><br>"
      ],
      "text/plain": [
       "expr: (9 + 0 , 9)"
      ]
     },
     "execution_count": 2,
     "metadata": {},
     "output_type": "execute_result"
    }
   ],
   "source": [
    "# build up the expression from sub-expressions\n",
    "expr = ExprTuple(Add(nine, zero), nine)"
   ]
  },
  {
   "cell_type": "code",
   "execution_count": 3,
   "metadata": {},
   "outputs": [
    {
     "name": "stdout",
     "output_type": "stream",
     "text": [
      "Passed sanity check: built 'expr' is the same as the stored Expression.\n"
     ]
    }
   ],
   "source": [
    "# check that the built expression is the same as the stored expression\n",
    "%check_expr"
   ]
  },
  {
   "cell_type": "code",
   "execution_count": 4,
   "metadata": {},
   "outputs": [
    {
     "data": {
      "text/html": [
       "<table><tr><th>&nbsp;</th><th>core type</th><th>sub-expressions</th><th>expression</th></tr>\n",
       "<tr><td>0</td><td>ExprTuple</td><td>1, 4</td><td><a class=\"ProveItLink\" href=\"expr.ipynb\"><img src=\"data:image/png;base64,iVBORw0KGgoAAAANSUhEUgAAAE0AAAAVBAMAAADx+n4ZAAAAMFBMVEX////c3NwiIiJERESqqqqY\n",
       "mJh2dnZmZmYQEBDu7u4yMjJUVFTMzMyIiIi6uroAAAAs73DqAAAAAXRSTlMAQObYZgAAAXZJREFU\n",
       "KM+Nkj1IQlEUx3/m97ej0KBDQy3hUNCWW5Pg1Fa4OYQkBBYRZOBc1mLU0FscehEEDS0Ob49AmhWl\n",
       "MQiyNCgwuu++fPgMsTu8+7/v/Dj3nHP/8N8Vqk9E1vXPPZwXaiORSnPPEN67DQ23JtQlthLRiJWb\n",
       "50STIpq0HYACwTr2Iv6EET82tmCcoCLVEtzCKnjKhBVcnwaQMrapG0Idqb5gs8wpPMNFguC3hQvn\n",
       "CXRlee/QamNPUkDm61m4WIZA38yXxpWnCu4i9v4f7kOqHViu41A4FMmrrIzjztKO/TqhInphzuZD\n",
       "d8y9rDVaSQKvGA3IfndVdVZVr3776A1mKfoVXElqnzI6F0dnwKno9y6KqXaItS2cmLMrTlmoVsQm\n",
       "bnQqZMXfOa6xcMxwqnnfhHgs+4RPxFyexCG7lRzhKrka3iPx6K7tBb2sNh6LA1IWx5kh8W7OzHDo\n",
       "ZfjgNFVO+mrcMjmvPo3psZxpdL9egG2y7xvwA4FwY06+22ZtAAAAAElFTkSuQmCC\n",
       "\" style=\"display:inline;vertical-align:middle;\" /></a></td></tr>\n",
       "<tr><td>1</td><td>Operation</td><td>operator:&nbsp;2<br>operands:&nbsp;3<br></td><td><a class=\"ProveItLink\" href=\"../5447b688c6012e3992da57559ba87291821928e20/expr.ipynb\"><img src=\"data:image/png;base64,iVBORw0KGgoAAAANSUhEUgAAAC0AAAAQBAMAAABw0OvaAAAAMFBMVEX///8iIiKYmJi6urqIiIgy\n",
       "MjJERESqqqoQEBDc3NzMzMx2dnZmZmZUVFTu7u4AAABn2L4sAAAAAXRSTlMAQObYZgAAALRJREFU\n",
       "GNNjYHh7+hYDCuA74rOAgYGznWHGBBRxRgM+KQYGtgYG3gSIwEsI5cjA4MrAwB/AwP0PIlACoWQZ\n",
       "GOwnMLxPYGD5jCL+h4FhfQFY/Sdkcc7fQHEHBp4GBrYvGOIbGPiCGGqwiTMwuSz5jsUcIAC752ho\n",
       "qERoaCzUXgWQOGsAujvrJzCw/GSYb4AiDvTXRgYGFjmGEAYUccYCvi4gtedYAao432nfBSgBVsKA\n",
       "HZggsQEsFDLAVBgu9AAAAABJRU5ErkJggg==\n",
       "\" style=\"display:inline;vertical-align:middle;\" /></a></td></tr>\n",
       "<tr><td>2</td><td>Literal</td><td></td><td><a class=\"ProveItLink\" href=\"../../../../addition/__pv_it/3e6688136fa3c7aefbebe51301b7c3ebf0b69c440/expr.ipynb\"><img src=\"data:image/png;base64,iVBORw0KGgoAAAANSUhEUgAAAA4AAAAOBAMAAADtZjDiAAAAJFBMVEX///+6urpUVFQQEBAiIiIy\n",
       "MjJmZmaIiIiqqqrc3Nzu7u4AAACgHpL+AAAAAXRSTlMAQObYZgAAAB5JREFUCNdjYGBgWMkAAe2k\n",
       "0Kmhoc6hoUGk6BMHYgAHOwjcado9fwAAAABJRU5ErkJggg==\n",
       "\" style=\"display:inline;vertical-align:middle;\" /></a></td></tr>\n",
       "<tr><td>3</td><td>ExprTuple</td><td>4, 5</td><td><a class=\"ProveItLink\" href=\"../9e34a3638e16db174f50ee504e3b098d5081412c0/expr.ipynb\"><img src=\"data:image/png;base64,iVBORw0KGgoAAAANSUhEUgAAACkAAAAVBAMAAAAp9toTAAAAMFBMVEX////c3NwiIiJERESqqqqY\n",
       "mJh2dnZmZmYQEBDu7u4yMjJUVFTMzMyIiIi6uroAAAAs73DqAAAAAXRSTlMAQObYZgAAARJJREFU\n",
       "GNNtkTtLA0EUhb913SSTmLilYGEtWqSx385SK0sJNqmEgLCdsEVK0ZSChdOksPAfWKQXcbERfMBi\n",
       "mcYHPrAwZO7sg7A4xXDvx3DuuWfg/9OKS2BXrms4C69SoA7vR1RHprrA6bPkWzqXqHXQ0IxxIxpt\n",
       "S+/gAXagNmBRU/m1dA1efU5hDOdtmhNLf+A2wA0IsW+/BDrfhsZUegyhGuH+FbTDvObY+BmyOUtb\n",
       "ESLoPd98zigsvJGOyTzItG2hfdvWde5syxeFDbPIOysJg3SLPSOo6Rq6yiXqQzYO1BHi7MU03YMA\n",
       "dWKiUOGjiaaeUPPzRPNCNvY6We0VAe/bJEtUiZ/lrCm+pCFSTvmHnmAKjEtH2viX8goAAAAASUVO\n",
       "RK5CYII=\n",
       "\" style=\"display:inline;vertical-align:middle;\" /></a></td></tr>\n",
       "<tr><td>4</td><td>Literal</td><td></td><td><a class=\"ProveItLink\" href=\"../../../__pv_it/cdcd6ad997b4d5c13a719b005810863ba48ff0c70/expr.ipynb\"><img src=\"data:image/png;base64,iVBORw0KGgoAAAANSUhEUgAAAAoAAAAOBAMAAADkjZCYAAAAMFBMVEX///8iIiKYmJi6urqIiIgy\n",
       "MjJERESqqqoQEBDc3NzMzMx2dnZmZmZUVFTu7u4AAABn2L4sAAAAAXRSTlMAQObYZgAAAFVJREFU\n",
       "CNdjYHh7+hYDA2c7w4wJDGwNDLwJDPwBDNz/GN4nMLB8BrM/MfA0MLB9YeALYqj5wsDA5LLkOwMQ\n",
       "ANUAAWsAA8tPhvkGDCxyDCFA/p5jBQwAtzwVEbGPESsAAAAASUVORK5CYII=\n",
       "\" style=\"display:inline;vertical-align:middle;\" /></a></td></tr>\n",
       "<tr><td>5</td><td>Literal</td><td></td><td><a class=\"ProveItLink\" href=\"../../../__pv_it/ec23fc7a1b4222a5f4948b495002b97d6fa18c3c0/expr.ipynb\"><img src=\"data:image/png;base64,iVBORw0KGgoAAAANSUhEUgAAAAoAAAAOBAMAAADkjZCYAAAALVBMVEX///8QEBCYmJh2dnaqqqrc\n",
       "3NxUVFQyMjK6uroiIiLMzMyIiIhmZmbu7u4AAAAZjyHdAAAAAXRSTlMAQObYZgAAAEpJREFUCNdj\n",
       "YLiz+xQDA8MMhpsLGLgnMHAXMHAmMHA8ZeA7wMD1hCHOgIHrNZh8jES+Bss+AqlkeQrSxTyBgWEK\n",
       "w8UFDAx3rLMYAMCjFldHSx/9AAAAAElFTkSuQmCC\n",
       "\" style=\"display:inline;vertical-align:middle;\" /></a></td></tr>\n",
       "</table>\n"
      ],
      "text/plain": [
       "0. (9 + 0 , 9)\n",
       "   core type: ExprTuple\n",
       "   sub-expressions: 1, 4\n",
       "1. 9 + 0\n",
       "   core type: Operation\n",
       "   operator: 2\n",
       "   operands: 3\n",
       "2. +\n",
       "   core type: Literal\n",
       "   sub-expressions: \n",
       "3. (9 , 0)\n",
       "   core type: ExprTuple\n",
       "   sub-expressions: 4, 5\n",
       "4. 9\n",
       "   core type: Literal\n",
       "   sub-expressions: \n",
       "5. 0\n",
       "   core type: Literal\n",
       "   sub-expressions: "
      ]
     },
     "execution_count": 4,
     "metadata": {},
     "output_type": "execute_result"
    }
   ],
   "source": [
    "# display the expression information\n",
    "expr.exprInfo()"
   ]
  },
  {
   "cell_type": "code",
   "execution_count": null,
   "metadata": {},
   "outputs": [],
   "source": []
  }
 ],
 "metadata": {
  "kernelspec": {
   "display_name": "Python 3",
   "language": "python",
   "name": "python3"
  }
 },
 "nbformat": 4,
 "nbformat_minor": 0
}
