{
 "cells": [
  {
   "cell_type": "markdown",
   "metadata": {},
   "source": [
    "Expression of type <a class=\"ProveItLink\" href=\"../../../../../../../doc/html/api/proveit.ExprTuple.html\">ExprTuple</a>\n",
    "=======================\n",
    "# from context <a class=\"ProveItLink\" href=\"../../_context_.ipynb\">proveit.number.numeral.deci</a>"
   ]
  },
  {
   "cell_type": "code",
   "execution_count": 1,
   "metadata": {},
   "outputs": [],
   "source": [
    "# import Expression classes needed to build the expression\n",
    "from proveit import ExprTuple\n",
    "from proveit.number import Add, five, zero"
   ]
  },
  {
   "cell_type": "code",
   "execution_count": 2,
   "metadata": {},
   "outputs": [
    {
     "data": {
      "text/html": [
       "<strong id=\"expr\">expr:</strong> <a class=\"ProveItLink\" href=\"expr.ipynb\"><img src=\"data:image/png;base64,iVBORw0KGgoAAAANSUhEUgAAAE0AAAAVBAMAAADx+n4ZAAAAMFBMVEX////c3NwiIiJERESqqqqY\n",
       "mJh2dnZmZmYQEBDu7u4yMjJUVFTMzMyIiIi6uroAAAAs73DqAAAAAXRSTlMAQObYZgAAAW5JREFU\n",
       "KM+Nkj9Iw0AUxr+YNGnapGbSwcEMDk4OgoNbR5eugot0EFwsZlKwglWcbXRpN7MUMV3qIoJ/yObg\n",
       "4q6F4CgIVtRJW9/lSkiqob7h3Xd5v7vLffeA/0bufiiyzNId0LDH8vFKrb3NRWZJWIHikToFqr3P\n",
       "gR1mcOQFIt3rFQEH0OnYk3OvXz/kg25Cd/h+5TXKi7TABlrhPgU+jLSQ6wQqG+Q68Iw/uFEL2nuE\n",
       "E/PYoOG6fRPnJovQvjnXfvAB2UKDJvM49n9x/GqirXYBycEBX1ZJ4CguyOMKuoGWvxLOpVj3oL0y\n",
       "TjQhM3zLdaddt9m/x0cAzRLnM26frDGhdAZ9kfiXPWDHYOfOAQrZ6cQ48lk2Qc7CAlwg5WAVECws\n",
       "GDEOU6h76huJcUi7gS9PNLktn8X9Q610BbVKi7XNS8oZH2kj+v6FWMeFJXq3VDFaeolOUqEq8b5K\n",
       "iJBT2S0nErmw0bPsB4Thff8I/AAJOFs0+fhA/wAAAABJRU5ErkJggg==\n",
       "\" style=\"display:inline;vertical-align:middle;\" /></a><br>"
      ],
      "text/plain": [
       "expr: (5 + 0 , 5)"
      ]
     },
     "execution_count": 2,
     "metadata": {},
     "output_type": "execute_result"
    }
   ],
   "source": [
    "# build up the expression from sub-expressions\n",
    "expr = ExprTuple(Add(five, zero), five)"
   ]
  },
  {
   "cell_type": "code",
   "execution_count": 3,
   "metadata": {},
   "outputs": [
    {
     "name": "stdout",
     "output_type": "stream",
     "text": [
      "Passed sanity check: built 'expr' is the same as the stored Expression.\n"
     ]
    }
   ],
   "source": [
    "# check that the built expression is the same as the stored expression\n",
    "%check_expr"
   ]
  },
  {
   "cell_type": "code",
   "execution_count": 4,
   "metadata": {},
   "outputs": [
    {
     "data": {
      "text/html": [
       "<table><tr><th>&nbsp;</th><th>core type</th><th>sub-expressions</th><th>expression</th></tr>\n",
       "<tr><td>0</td><td>ExprTuple</td><td>1, 4</td><td><a class=\"ProveItLink\" href=\"expr.ipynb\"><img src=\"data:image/png;base64,iVBORw0KGgoAAAANSUhEUgAAAE0AAAAVBAMAAADx+n4ZAAAAMFBMVEX////c3NwiIiJERESqqqqY\n",
       "mJh2dnZmZmYQEBDu7u4yMjJUVFTMzMyIiIi6uroAAAAs73DqAAAAAXRSTlMAQObYZgAAAW5JREFU\n",
       "KM+Nkj9Iw0AUxr+YNGnapGbSwcEMDk4OgoNbR5eugot0EFwsZlKwglWcbXRpN7MUMV3qIoJ/yObg\n",
       "4q6F4CgIVtRJW9/lSkiqob7h3Xd5v7vLffeA/0bufiiyzNId0LDH8vFKrb3NRWZJWIHikToFqr3P\n",
       "gR1mcOQFIt3rFQEH0OnYk3OvXz/kg25Cd/h+5TXKi7TABlrhPgU+jLSQ6wQqG+Q68Iw/uFEL2nuE\n",
       "E/PYoOG6fRPnJovQvjnXfvAB2UKDJvM49n9x/GqirXYBycEBX1ZJ4CguyOMKuoGWvxLOpVj3oL0y\n",
       "TjQhM3zLdaddt9m/x0cAzRLnM26frDGhdAZ9kfiXPWDHYOfOAQrZ6cQ48lk2Qc7CAlwg5WAVECws\n",
       "GDEOU6h76huJcUi7gS9PNLktn8X9Q610BbVKi7XNS8oZH2kj+v6FWMeFJXq3VDFaeolOUqEq8b5K\n",
       "iJBT2S0nErmw0bPsB4Thff8I/AAJOFs0+fhA/wAAAABJRU5ErkJggg==\n",
       "\" style=\"display:inline;vertical-align:middle;\" /></a></td></tr>\n",
       "<tr><td>1</td><td>Operation</td><td>operator:&nbsp;2<br>operands:&nbsp;3<br></td><td><a class=\"ProveItLink\" href=\"../c91a7df824fafdd981b28770e4cebdc5d85acd670/expr.ipynb\"><img src=\"data:image/png;base64,iVBORw0KGgoAAAANSUhEUgAAACwAAAAQBAMAAACfEoDkAAAAMFBMVEX///8iIiJERES6urqIiIjM\n",
       "zMxUVFRmZmYQEBCqqqp2dnbc3Nzu7u6YmJgyMjIAAADYGhJvAAAAAXRSTlMAQObYZgAAAKdJREFU\n",
       "GNNj4LvDvZIBBRx3KWVg4Pj/fwGqsDDDwQAGvrKlUC7PBjDFIsDA8oCBDa6K0wFMMSYwMP/GFOYv\n",
       "YGD9ycDm4maAIrx/AQPrFwamAzyfMYR/gRgZ2IXXB2AaoggUBhrO/u7dw7537xIgVv5laGRgqN+A\n",
       "5kDO3wwFDAzvUMwGeodLgGE7A2c3ijCDJMOJAAbW8rQNqMLHl6QiBxFMGA0wIwkDANlwL/bm24rs\n",
       "AAAAAElFTkSuQmCC\n",
       "\" style=\"display:inline;vertical-align:middle;\" /></a></td></tr>\n",
       "<tr><td>2</td><td>Literal</td><td></td><td><a class=\"ProveItLink\" href=\"../../../../addition/__pv_it/3e6688136fa3c7aefbebe51301b7c3ebf0b69c440/expr.ipynb\"><img src=\"data:image/png;base64,iVBORw0KGgoAAAANSUhEUgAAAA4AAAAOBAMAAADtZjDiAAAAJFBMVEX///+6urpUVFQQEBAiIiIy\n",
       "MjJmZmaIiIiqqqrc3Nzu7u4AAACgHpL+AAAAAXRSTlMAQObYZgAAAB5JREFUCNdjYGBgWMkAAe2k\n",
       "0Kmhoc6hoUGk6BMHYgAHOwjcado9fwAAAABJRU5ErkJggg==\n",
       "\" style=\"display:inline;vertical-align:middle;\" /></a></td></tr>\n",
       "<tr><td>3</td><td>ExprTuple</td><td>4, 5</td><td><a class=\"ProveItLink\" href=\"../7728172d518bc2979febbd810d57a089e2ce03470/expr.ipynb\"><img src=\"data:image/png;base64,iVBORw0KGgoAAAANSUhEUgAAACkAAAAVBAMAAAAp9toTAAAAMFBMVEX////c3NwiIiJERESqqqqY\n",
       "mJh2dnZmZmYQEBDu7u4yMjJUVFTMzMyIiIi6uroAAAAs73DqAAAAAXRSTlMAQObYZgAAAQ5JREFU\n",
       "GNNtkSFMw0AUhr8x2u42WE5hMPPMTsxV4oZCkgWDIpmaISQTSMIqcdQsBAdmbksdArEFQwIjaZAz\n",
       "AwSYZfCuXZuycOLy/i+X/977H/x/yuMVcGCuB+h5W24E1OlTgBNIdQPdn6/42VqoquDDphhc94OY\n",
       "PsIz7EPBg9vEcgdmmkuYkqHfMHLJu7RFDF6HEcyJ/WiM3aInqs5VmNIm6z4X0atSJ0PLHRYRtecZ\n",
       "h413Q/MV7EX6256hZ9JcBecj6ayhjUMNHCj6ePEUh2D5HIldi12tPs3ErjrHdPYm4v7kDtXVkk77\n",
       "RWYvhhR0kmhSmImt5rK20oCP4yT/UiVJsr0U6UpKxiq3uqEJ/AItaEaOz2+YQgAAAABJRU5ErkJg\n",
       "gg==\n",
       "\" style=\"display:inline;vertical-align:middle;\" /></a></td></tr>\n",
       "<tr><td>4</td><td>Literal</td><td></td><td><a class=\"ProveItLink\" href=\"../../../__pv_it/aaeeaca7d86eb2b7cdc49e25c3108b81b52ec5400/expr.ipynb\"><img src=\"data:image/png;base64,iVBORw0KGgoAAAANSUhEUgAAAAkAAAAOBAMAAAAPuiubAAAAMFBMVEX///8iIiJERES6urqIiIjM\n",
       "zMxUVFRmZmYQEBCqqqp2dnbc3Nzu7u6YmJgyMjIAAADYGhJvAAAAAXRSTlMAQObYZgAAAE1JREFU\n",
       "CNdj4LvDvZKBgeP//wUMDHxlSxkYGNgYGBCki5sBAwPTAZ7PYG4GmFwfwKAIJA0YGhkY6jcwFDAw\n",
       "vGNg2M7A2c3AwFqetoEBAKS8EE1WXEJLAAAAAElFTkSuQmCC\n",
       "\" style=\"display:inline;vertical-align:middle;\" /></a></td></tr>\n",
       "<tr><td>5</td><td>Literal</td><td></td><td><a class=\"ProveItLink\" href=\"../../../__pv_it/ec23fc7a1b4222a5f4948b495002b97d6fa18c3c0/expr.ipynb\"><img src=\"data:image/png;base64,iVBORw0KGgoAAAANSUhEUgAAAAoAAAAOBAMAAADkjZCYAAAALVBMVEX///8QEBCYmJh2dnaqqqrc\n",
       "3NxUVFQyMjK6uroiIiLMzMyIiIhmZmbu7u4AAAAZjyHdAAAAAXRSTlMAQObYZgAAAEpJREFUCNdj\n",
       "YLiz+xQDA8MMhpsLGLgnMHAXMHAmMHA8ZeA7wMD1hCHOgIHrNZh8jES+Bss+AqlkeQrSxTyBgWEK\n",
       "w8UFDAx3rLMYAMCjFldHSx/9AAAAAElFTkSuQmCC\n",
       "\" style=\"display:inline;vertical-align:middle;\" /></a></td></tr>\n",
       "</table>\n"
      ],
      "text/plain": [
       "0. (5 + 0 , 5)\n",
       "   core type: ExprTuple\n",
       "   sub-expressions: 1, 4\n",
       "1. 5 + 0\n",
       "   core type: Operation\n",
       "   operator: 2\n",
       "   operands: 3\n",
       "2. +\n",
       "   core type: Literal\n",
       "   sub-expressions: \n",
       "3. (5 , 0)\n",
       "   core type: ExprTuple\n",
       "   sub-expressions: 4, 5\n",
       "4. 5\n",
       "   core type: Literal\n",
       "   sub-expressions: \n",
       "5. 0\n",
       "   core type: Literal\n",
       "   sub-expressions: "
      ]
     },
     "execution_count": 4,
     "metadata": {},
     "output_type": "execute_result"
    }
   ],
   "source": [
    "# display the expression information\n",
    "expr.exprInfo()"
   ]
  },
  {
   "cell_type": "code",
   "execution_count": null,
   "metadata": {},
   "outputs": [],
   "source": []
  }
 ],
 "metadata": {
  "kernelspec": {
   "display_name": "Python 3",
   "language": "python",
   "name": "python3"
  }
 },
 "nbformat": 4,
 "nbformat_minor": 0
}
