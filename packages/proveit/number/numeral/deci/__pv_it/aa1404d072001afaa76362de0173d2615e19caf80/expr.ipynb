{
 "cells": [
  {
   "cell_type": "markdown",
   "metadata": {},
   "source": [
    "Expression of type <a class=\"ProveItLink\" href=\"../../../../../../../doc/html/api/proveit.ExprTuple.html\">ExprTuple</a>\n",
    "=======================\n",
    "# from context <a class=\"ProveItLink\" href=\"../../_context_.ipynb\">proveit.number.numeral.deci</a>"
   ]
  },
  {
   "cell_type": "code",
   "execution_count": 1,
   "metadata": {},
   "outputs": [],
   "source": [
    "# import Expression classes needed to build the expression\n",
    "from proveit import ExprTuple\n",
    "from proveit.number import NaturalsPos, nine"
   ]
  },
  {
   "cell_type": "code",
   "execution_count": 2,
   "metadata": {},
   "outputs": [
    {
     "data": {
      "text/html": [
       "<strong id=\"expr\">expr:</strong> <a class=\"ProveItLink\" href=\"expr.ipynb\"><img src=\"data:image/png;base64,iVBORw0KGgoAAAANSUhEUgAAAD4AAAAbBAMAAADWjiHyAAAAMFBMVEX///+qqqp2dnYiIiJERESI\n",
       "iIhmZmYQEBDc3NyYmJgyMjLu7u5UVFTMzMy6uroAAACGxKilAAAAAXRSTlMAQObYZgAAAWhJREFU\n",
       "KM+Fkr9Lw0AUx7+ptiYmqfkTMjoIdhIXoZ1EEQ0UcVFaEHQQtKNjB0FwiqB7J4XUIZuQpQVFUKgE\n",
       "cSzYURz8gQWLUvFdLj8qbfTBvR/3uffu7t0Bg0WI3OdBfJgpnSm1HsubTDl2LE8apK4RyzENiCVA\n",
       "vppwvdhpz9tYf9cCvgqkisC+Ju7ytDk1C7zixjq1LCpeszHSAmaBS84v3GWgFNYfMvFA5hOY5Ke8\n",
       "rSpuD09lsULbt4FCy5toNOVqD5doKz/f5Fww7nt4+gsLZDaBJYNzbEsG44oXql2csGuZwk7AFbtR\n",
       "CrsgfmOK2eO1guZzue5EXH7jPDx/A7hTf+Wfcc9CwCUtG/Gu15hCmRbKPsd4xNMd5Mnk7VEDtQx5\n",
       "i6wplZDT/V/IJDZywHkHePqgXDniiQrG3CB47H9lKqvoQWD281oZauYPfkQj5/vJAb9ohsYBYkUq\n",
       "sp+ux/I9Tx/G8i38Kz8J21whLudfEwAAAABJRU5ErkJggg==\n",
       "\" style=\"display:inline;vertical-align:middle;\" /></a><br>"
      ],
      "text/plain": [
       "expr: (9 , NaturalsPos)"
      ]
     },
     "execution_count": 2,
     "metadata": {},
     "output_type": "execute_result"
    }
   ],
   "source": [
    "# build up the expression from sub-expressions\n",
    "expr = ExprTuple(nine, NaturalsPos)"
   ]
  },
  {
   "cell_type": "code",
   "execution_count": 3,
   "metadata": {},
   "outputs": [
    {
     "name": "stdout",
     "output_type": "stream",
     "text": [
      "Passed sanity check: built 'expr' is the same as the stored Expression.\n"
     ]
    }
   ],
   "source": [
    "# check that the built expression is the same as the stored expression\n",
    "%check_expr"
   ]
  },
  {
   "cell_type": "code",
   "execution_count": 4,
   "metadata": {},
   "outputs": [
    {
     "data": {
      "text/html": [
       "<table><tr><th>&nbsp;</th><th>core type</th><th>sub-expressions</th><th>expression</th></tr>\n",
       "<tr><td>0</td><td>ExprTuple</td><td>1, 2</td><td><a class=\"ProveItLink\" href=\"expr.ipynb\"><img src=\"data:image/png;base64,iVBORw0KGgoAAAANSUhEUgAAAD4AAAAbBAMAAADWjiHyAAAAMFBMVEX///+qqqp2dnYiIiJERESI\n",
       "iIhmZmYQEBDc3NyYmJgyMjLu7u5UVFTMzMy6uroAAACGxKilAAAAAXRSTlMAQObYZgAAAWhJREFU\n",
       "KM+Fkr9Lw0AUx7+ptiYmqfkTMjoIdhIXoZ1EEQ0UcVFaEHQQtKNjB0FwiqB7J4XUIZuQpQVFUKgE\n",
       "cSzYURz8gQWLUvFdLj8qbfTBvR/3uffu7t0Bg0WI3OdBfJgpnSm1HsubTDl2LE8apK4RyzENiCVA\n",
       "vppwvdhpz9tYf9cCvgqkisC+Ju7ytDk1C7zixjq1LCpeszHSAmaBS84v3GWgFNYfMvFA5hOY5Ke8\n",
       "rSpuD09lsULbt4FCy5toNOVqD5doKz/f5Fww7nt4+gsLZDaBJYNzbEsG44oXql2csGuZwk7AFbtR\n",
       "CrsgfmOK2eO1guZzue5EXH7jPDx/A7hTf+Wfcc9CwCUtG/Gu15hCmRbKPsd4xNMd5Mnk7VEDtQx5\n",
       "i6wplZDT/V/IJDZywHkHePqgXDniiQrG3CB47H9lKqvoQWD281oZauYPfkQj5/vJAb9ohsYBYkUq\n",
       "sp+ux/I9Tx/G8i38Kz8J21whLudfEwAAAABJRU5ErkJggg==\n",
       "\" style=\"display:inline;vertical-align:middle;\" /></a></td></tr>\n",
       "<tr><td>1</td><td>Literal</td><td></td><td><a class=\"ProveItLink\" href=\"../../../__pv_it/cdcd6ad997b4d5c13a719b005810863ba48ff0c70/expr.ipynb\"><img src=\"data:image/png;base64,iVBORw0KGgoAAAANSUhEUgAAAAoAAAAOBAMAAADkjZCYAAAAMFBMVEX///8iIiKYmJi6urqIiIgy\n",
       "MjJERESqqqoQEBDc3NzMzMx2dnZmZmZUVFTu7u4AAABn2L4sAAAAAXRSTlMAQObYZgAAAFVJREFU\n",
       "CNdjYHh7+hYDA2c7w4wJDGwNDLwJDPwBDNz/GN4nMLB8BrM/MfA0MLB9YeALYqj5wsDA5LLkOwMQ\n",
       "ANUAAWsAA8tPhvkGDCxyDCFA/p5jBQwAtzwVEbGPESsAAAAASUVORK5CYII=\n",
       "\" style=\"display:inline;vertical-align:middle;\" /></a></td></tr>\n",
       "<tr><td>2</td><td>Literal</td><td></td><td><a class=\"ProveItLink\" href=\"../../../../sets/integer/__pv_it/42d4bc2e45d5054d807f2641a228c1b440fb8de30/expr.ipynb\"><img src=\"data:image/png;base64,iVBORw0KGgoAAAANSUhEUgAAABsAAAATBAMAAACTqWsLAAAAMFBMVEX////c3Nx2dna6uroQEBCI\n",
       "iIhUVFTMzMyYmJiqqqoiIiJmZmZEREQyMjLu7u4AAADjlg78AAAAAXRSTlMAQObYZgAAAHZJREFU\n",
       "GNNjYIADTgYUwEMy9+2fsw8Ydv2aAJM9wX6AgeEDQ+7dK3fvBjAwZBWEMjA4wPUm32MrQOKml/Hd\n",
       "Q+ZyBtQgcxk2cwSAuGxQLtuDdAe47ekMfAlvkbkMRewoXI4JB5C5DIoI7mEg5r4A49l+AcrwwbgA\n",
       "axoiJO4Xc9gAAAAASUVORK5CYII=\n",
       "\" style=\"display:inline;vertical-align:middle;\" /></a></td></tr>\n",
       "</table>\n"
      ],
      "text/plain": [
       "0. (9 , NaturalsPos)\n",
       "   core type: ExprTuple\n",
       "   sub-expressions: 1, 2\n",
       "1. 9\n",
       "   core type: Literal\n",
       "   sub-expressions: \n",
       "2. NaturalsPos\n",
       "   core type: Literal\n",
       "   sub-expressions: "
      ]
     },
     "execution_count": 4,
     "metadata": {},
     "output_type": "execute_result"
    }
   ],
   "source": [
    "# display the expression information\n",
    "expr.exprInfo()"
   ]
  },
  {
   "cell_type": "code",
   "execution_count": null,
   "metadata": {},
   "outputs": [],
   "source": []
  }
 ],
 "metadata": {
  "kernelspec": {
   "display_name": "Python 3",
   "language": "python",
   "name": "python3"
  }
 },
 "nbformat": 4,
 "nbformat_minor": 0
}
