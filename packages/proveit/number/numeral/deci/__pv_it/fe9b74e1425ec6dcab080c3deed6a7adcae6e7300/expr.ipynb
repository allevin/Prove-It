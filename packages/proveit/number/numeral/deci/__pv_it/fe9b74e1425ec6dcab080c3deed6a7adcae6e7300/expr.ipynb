{
 "cells": [
  {
   "cell_type": "markdown",
   "metadata": {},
   "source": [
    "Expression of type <a class=\"ProveItLink\" href=\"../../../../../../../doc/html/api/proveit.number.Len.html\">Len</a>\n",
    "=======================\n",
    "# from context <a class=\"ProveItLink\" href=\"../../_context_.ipynb\">proveit.number.numeral.deci</a>"
   ]
  },
  {
   "cell_type": "code",
   "execution_count": 1,
   "metadata": {},
   "outputs": [],
   "source": [
    "# import Expression classes needed to build the expression\n",
    "from proveit._common_ import a, b, c, d, e, f, g\n",
    "from proveit.number import Len"
   ]
  },
  {
   "cell_type": "code",
   "execution_count": 2,
   "metadata": {},
   "outputs": [
    {
     "data": {
      "text/html": [
       "<strong id=\"expr\">expr:</strong> <a class=\"ProveItLink\" href=\"expr.ipynb\"><img src=\"data:image/png;base64,iVBORw0KGgoAAAANSUhEUgAAAJ4AAAAVBAMAAABF3EpTAAAAMFBMVEX///8iIiJERESYmJhmZmYQ\n",
       "EBDu7u4yMjJUVFTMzMyIiIi6urp2dnbc3NyqqqoAAABw9lLDAAAAAXRSTlMAQObYZgAAAmVJREFU\n",
       "OMutVE1oE1EQ/prsT8xmsx48iKccFKSI7k2RgoteVCoKgkKxGEHRk1nQg9BLQIoSEIPguRGCyEYx\n",
       "lxwUpBF7i4c9Fi/ZnsRDiVYIaGlx3s/+uYUI9cHyvp2d+XbeN/MG6/ifax0Dvr/fLVG+y7eB4NtT\n",
       "T3zSFvdm/Y1DTsZ255Ufv5xL8unVpJ9e3yEBK8iYjozsRFCSz5sUCixX/7Zom3eTB+4n+K5MCKX1\n",
       "MWMpf0+xX4r5DHdCKK37GYuSlvlozKewXFdf96S8D7yH8p+fvSYHZmOwLUzmbFt65Rf3yxLlz3+q\n",
       "ACsxn066GvM4Jlk2YAma511d5NDzc2Pxcc03w0JbLQnOYki2rzGfSs0ztHFa6jKGysXV5pDjFTR/\n",
       "QhGSmJtQmpJmKEF+zCvYi/ks4nsKHJC6uLB4DoVQcAJTfYEun3wTCjaSu1rHEmmwlObbgPZLfJ9y\n",
       "sMzTsirhySqoif63nGzZRgFeIMWnBjB/U/21sP0u8o4ZhgIRGKGa0ozWYbm/9XEQqfOSSto2Cu43\n",
       "HkTFuAZGbVGWNgO1AI/KTYZU4msJaszRw9ApgBX/eMxXolPcw5rT134wjQKljhoVtuCg1GRAt8v7\n",
       "StxUdHHT5150PehhqFYtbCHVLwZ5rnrvprvadRJWa5wBbjGXWe8lB2aj86wjTCteC9wLBnUQR0aj\n",
       "zbpqIXHf5qMxEk2MDxkQI+5VdCP/nJO+b5iJbnUUbGdAjJjXCd6aDHWZvii1dppX/8539YZEyhYe\n",
       "E7qdnFdmOPGidihmQAIxr5kLEpWn2+xHTyRfh+9fdjvvi+Lydf4AR5q6xduG42AAAAAASUVORK5C\n",
       "YII=\n",
       "\" style=\"display:inline;vertical-align:middle;\" /></a><br>"
      ],
      "text/plain": [
       "expr: |(a , b , c , d , e , f , g)|"
      ]
     },
     "execution_count": 2,
     "metadata": {},
     "output_type": "execute_result"
    }
   ],
   "source": [
    "# build up the expression from sub-expressions\n",
    "expr = Len([a, b, c, d, e, f, g])"
   ]
  },
  {
   "cell_type": "code",
   "execution_count": 3,
   "metadata": {},
   "outputs": [
    {
     "name": "stdout",
     "output_type": "stream",
     "text": [
      "Passed sanity check: built 'expr' is the same as the stored Expression.\n"
     ]
    }
   ],
   "source": [
    "# check that the built expression is the same as the stored expression\n",
    "%check_expr"
   ]
  },
  {
   "cell_type": "code",
   "execution_count": 4,
   "metadata": {},
   "outputs": [
    {
     "data": {
      "text/html": [
       "<table><tr><th>&nbsp;</th><th>core type</th><th>sub-expressions</th><th>expression</th></tr>\n",
       "<tr><td>0</td><td>Operation</td><td>operator:&nbsp;1<br>operand:&nbsp;2<br></td><td><a class=\"ProveItLink\" href=\"expr.ipynb\"><img src=\"data:image/png;base64,iVBORw0KGgoAAAANSUhEUgAAAJ4AAAAVBAMAAABF3EpTAAAAMFBMVEX///8iIiJERESYmJhmZmYQ\n",
       "EBDu7u4yMjJUVFTMzMyIiIi6urp2dnbc3NyqqqoAAABw9lLDAAAAAXRSTlMAQObYZgAAAmVJREFU\n",
       "OMutVE1oE1EQ/prsT8xmsx48iKccFKSI7k2RgoteVCoKgkKxGEHRk1nQg9BLQIoSEIPguRGCyEYx\n",
       "lxwUpBF7i4c9Fi/ZnsRDiVYIaGlx3s/+uYUI9cHyvp2d+XbeN/MG6/ifax0Dvr/fLVG+y7eB4NtT\n",
       "T3zSFvdm/Y1DTsZ255Ufv5xL8unVpJ9e3yEBK8iYjozsRFCSz5sUCixX/7Zom3eTB+4n+K5MCKX1\n",
       "MWMpf0+xX4r5DHdCKK37GYuSlvlozKewXFdf96S8D7yH8p+fvSYHZmOwLUzmbFt65Rf3yxLlz3+q\n",
       "ACsxn066GvM4Jlk2YAma511d5NDzc2Pxcc03w0JbLQnOYki2rzGfSs0ztHFa6jKGysXV5pDjFTR/\n",
       "QhGSmJtQmpJmKEF+zCvYi/ks4nsKHJC6uLB4DoVQcAJTfYEun3wTCjaSu1rHEmmwlObbgPZLfJ9y\n",
       "sMzTsirhySqoif63nGzZRgFeIMWnBjB/U/21sP0u8o4ZhgIRGKGa0ozWYbm/9XEQqfOSSto2Cu43\n",
       "HkTFuAZGbVGWNgO1AI/KTYZU4msJaszRw9ApgBX/eMxXolPcw5rT134wjQKljhoVtuCg1GRAt8v7\n",
       "StxUdHHT5150PehhqFYtbCHVLwZ5rnrvprvadRJWa5wBbjGXWe8lB2aj86wjTCteC9wLBnUQR0aj\n",
       "zbpqIXHf5qMxEk2MDxkQI+5VdCP/nJO+b5iJbnUUbGdAjJjXCd6aDHWZvii1dppX/8539YZEyhYe\n",
       "E7qdnFdmOPGidihmQAIxr5kLEpWn2+xHTyRfh+9fdjvvi+Lydf4AR5q6xduG42AAAAAASUVORK5C\n",
       "YII=\n",
       "\" style=\"display:inline;vertical-align:middle;\" /></a></td></tr>\n",
       "<tr><td>1</td><td>Literal</td><td></td><td><a class=\"ProveItLink\" href=\"../../../../sets/integer/__pv_it/0a9286fafc7688968c9f0b1c9372a7c495b9f9510/expr.ipynb\"><img src=\"data:image/png;base64,iVBORw0KGgoAAAANSUhEUgAAADsAAAASBAMAAAAXqLt+AAAAMFBMVEX///+qqqru7u5ERERUVFTM\n",
       "zMzc3NyIiIgQEBAyMjJmZmaYmJi6uroiIiJ2dnYAAAD2HuJxAAAAAXRSTlMAQObYZgAAAURJREFU\n",
       "KM99kT9LAnEYxz93Xmnn33fgvYJ0iISWhIJ0k95ABw2BixcFkhC1RFu4BU03lNIibg0N3hDUlhA0\n",
       "xlFDQQgmaBQOPXc5BGoPHPf93ef3fJ/vw0FnyKRSc23/He5OYEcwZ/tSr45jpQfxhC9D1jjWxfje\n",
       "8GWpMI6jYtz5lS15iq81bhe3dl2JUn9P3ywvWJxd7ZiCVmTUI0XcvKX24ZySTVLSfZl6VvCx+Dtc\n",
       "RJwH1CHhnpfpUlr6aGmYkY7cddlUhUngUJYNkyc/XVRmBQ/he7SMViWZYN9z8ZiYEsgafI72jzeN\n",
       "A5MllC5myuENQz653vggIZeW4coeH3JTcUSchE3i6xZ7qDXP6kUppAxtgGbPk0ftx6StYRCrl+EO\n",
       "NreJrFXazGYsTqHxPOFXBWyml0MqMZ3qA1b/aVYylebf8w8ORloN8BKQFQAAAABJRU5ErkJggg==\n",
       "\" style=\"display:inline;vertical-align:middle;\" /></a></td></tr>\n",
       "<tr><td>2</td><td>ExprTuple</td><td>3, 4, 5, 6, 7, 8, 9</td><td><a class=\"ProveItLink\" href=\"../9feaf65eec6ae0b89ee16140481a53973de59a880/expr.ipynb\"><img src=\"data:image/png;base64,iVBORw0KGgoAAAANSUhEUgAAAIsAAAAVBAMAAACEWwD/AAAAMFBMVEX////c3NwiIiJERESqqqqY\n",
       "mJh2dnZmZmYQEBDu7u4yMjJUVFTMzMyIiIi6uroAAAAs73DqAAAAAXRSTlMAQObYZgAAAkFJREFU\n",
       "OMutlD9oE1Ecx79n7pJ7TZPe1qFD42LXLMVJDLoKHoh2EDSD0MVIKujgH7RF7CDWm6TgcIfQoXRJ\n",
       "oaAIoQFHl5sqVK9EXfwHvdiUUIjF3/tzzcUrRKg33H3e7/1+v/f7ve97B/ynJ+8fNcMV/noXt7yY\n",
       "O8Tty3zCxOqrvUGmQa/lvvmVw5ZrJyypa7uxkQfk/AER1PZewuR+K8VGlwDTGRABpAsJ0/m+0SLw\n",
       "fVAEMFRNmG72t1jCbfpo9RuzKqL+wZb0vPJRwtjGtmpgtDKj4i7PvVI0tXGBFq9iifirlQpVz0V0\n",
       "BQwv4KVscxanZd/6cYxG6/+ORKppHZrxsEDF7CJTVD07eCzb9TEpYNzGHTk33sQ9Fa11FVx1uCj5\n",
       "h9gHsiGOKb0ooiNgPVqX4ISk1xcDSxl1VTyeYLhFpYc8zUgRbkOaJ5CXB2InSrMDti+pk1RCbyNX\n",
       "EGkeUbU+CeioY5MRkmtR8wR6yPr2g0tTk99cC6mqaIp2wC3hjd4Qvl2YZZGRajI4sDay3jlhekph\n",
       "kBlN2gNORogRktHwME0q2/pEGi4vdA13wX4RkKDXBSzhTLUsaBNsRnrBbUIQ28O6JQT/zI/N1tst\n",
       "LLb41Xxvgz2jmUwlcASMBT9PNQWl7weQXth2FP0I+EEcasKMdh+fDm6E9TfESHht9vxPystglCMH\n",
       "OwIjATEiL6M2qSjP9w6oxH8U/5zGXC4oemBlSTPm8Tuj5nMHnn4CesS9jGlL0dngFr2zfKgd+SdK\n",
       "d/gPca+c504IbBsAAAAASUVORK5CYII=\n",
       "\" style=\"display:inline;vertical-align:middle;\" /></a></td></tr>\n",
       "<tr><td>3</td><td>Variable</td><td></td><td><a class=\"ProveItLink\" href=\"../../../../../__pv_it/07527342713064c87612d00d8557c53d53d5324a0/expr.ipynb\"><img src=\"data:image/png;base64,iVBORw0KGgoAAAANSUhEUgAAAAsAAAAJBAMAAAAWSsseAAAAMFBMVEX///8yMjKqqqrMzMzu7u4i\n",
       "IiJmZmaYmJhEREQQEBC6urp2dnaIiIhUVFTc3NwAAAD87Fq/AAAAAXRSTlMAQObYZgAAAEhJREFU\n",
       "CNdjYOC7s2seAwPDygccHxgY+L4zsDUwMPB+YGA9wMDA38Dgb8DA8P4Agz6DA4O/AsNFJgMGxgKm\n",
       "MG6gyjunLE4xAAAZTBA5TB6DCwAAAABJRU5ErkJggg==\n",
       "\" style=\"display:inline;vertical-align:middle;\" /></a></td></tr>\n",
       "<tr><td>4</td><td>Variable</td><td></td><td><a class=\"ProveItLink\" href=\"../../../../../__pv_it/6840a4fa6c106149dc16a131294d0c5e44f1b0480/expr.ipynb\"><img src=\"data:image/png;base64,iVBORw0KGgoAAAANSUhEUgAAAAkAAAAOBAMAAAAPuiubAAAALVBMVEX///9mZmbMzMxERESYmJiI\n",
       "iIh2dna6urqqqqoyMjIiIiIQEBBUVFTu7u4AAAD9S1JeAAAAAXRSTlMAQObYZgAAAE1JREFUCNdj\n",
       "4D29gAEIOA+ASL4GEFl3AURmgQiGOaFHGBh4HzPwKTBwvGXgTmBgnMDAJ8DAJcBQ5wBSLncBJLWN\n",
       "gYGngRFoBO9REQYGAGrcDtUkVqASAAAAAElFTkSuQmCC\n",
       "\" style=\"display:inline;vertical-align:middle;\" /></a></td></tr>\n",
       "<tr><td>5</td><td>Variable</td><td></td><td><a class=\"ProveItLink\" href=\"../../../../../__pv_it/cbdfda466482236edba0ce44ac7ef39cda0af7a40/expr.ipynb\"><img src=\"data:image/png;base64,iVBORw0KGgoAAAANSUhEUgAAAAkAAAAJBAMAAAASvxsjAAAALVBMVEX///9mZmbc3NxUVFSYmJhE\n",
       "REQiIiIyMjK6uroQEBDMzMyIiIh2dnbu7u4AAABgFDGoAAAAAXRSTlMAQObYZgAAADZJREFUCNdj\n",
       "YOA9s3sBA8PKBvYEBt7ZDKwODMwPGICALwBE6m0Asx0YGIDiAgw8QJUyu/cyAAAmuwmycZ8WfQAA\n",
       "AABJRU5ErkJggg==\n",
       "\" style=\"display:inline;vertical-align:middle;\" /></a></td></tr>\n",
       "<tr><td>6</td><td>Variable</td><td></td><td><a class=\"ProveItLink\" href=\"../../../../../__pv_it/3a5de44ed6135dbbdbbeec6704c741e238f127300/expr.ipynb\"><img src=\"data:image/png;base64,iVBORw0KGgoAAAANSUhEUgAAAAsAAAAOBAMAAAALT/umAAAAMFBMVEX////MzMyYmJiIiIhUVFTc\n",
       "3NwyMjIiIiJ2dnbu7u6qqqpmZmYQEBBERES6uroAAABkyy6XAAAAAXRSTlMAQObYZgAAAFhJREFU\n",
       "CNdjYGBg4LuzgQEE+BeAqfcTwFQ7mGTIBmJW575fQOpNAO9PIOcTA3cCAwPLBwb2BqCeCwzzHzAw\n",
       "xBswrGeYwDB/AYMblwADmwJXNQdIm52sHQMAfyoTCZukXIEAAAAASUVORK5CYII=\n",
       "\" style=\"display:inline;vertical-align:middle;\" /></a></td></tr>\n",
       "<tr><td>7</td><td>Variable</td><td></td><td><a class=\"ProveItLink\" href=\"../../../../../__pv_it/0bc0f4a545336331111a0b22c4f05a0627b57b8f0/expr.ipynb\"><img src=\"data:image/png;base64,iVBORw0KGgoAAAANSUhEUgAAAAkAAAAJBAMAAAASvxsjAAAALVBMVEX////u7u4yMjKYmJgQEBBU\n",
       "VFTMzMy6uroiIiKqqqqIiIh2dnZmZmbc3NwAAAAyj3LLAAAAAXRSTlMAQObYZgAAADlJREFUCNdj\n",
       "YOA9veYCA8OMC7wHGHifM/AkMLA6W61lYOA7wAAEfAtAJAuQXMDApcAgA1S5Z9UCBgB6Cgz1W65k\n",
       "FgAAAABJRU5ErkJggg==\n",
       "\" style=\"display:inline;vertical-align:middle;\" /></a></td></tr>\n",
       "<tr><td>8</td><td>Variable</td><td></td><td><a class=\"ProveItLink\" href=\"../../../../../__pv_it/4d51ee1e62d011d06d4528b97697bf3da60c9de60/expr.ipynb\"><img src=\"data:image/png;base64,iVBORw0KGgoAAAANSUhEUgAAAAsAAAASBAMAAAB/WzlGAAAAMFBMVEX///8yMjLMzMwQEBAiIiJm\n",
       "Zma6urqYmJiqqqp2dnZERETc3NyIiIhUVFTu7u4AAAAe+HC4AAAAAXRSTlMAQObYZgAAAFVJREFU\n",
       "CNdjYGBgeHt2A5BkWNlfACT5vr0AcTg+gEgGVgcQyX7ZNwBE8x8AC+5XAFP9YJJhCoRaC6FswCTf\n",
       "NzDF9g9M8QiAyFoukPEMhk/AYpXRIBIAEwsRcZ82juYAAAAASUVORK5CYII=\n",
       "\" style=\"display:inline;vertical-align:middle;\" /></a></td></tr>\n",
       "<tr><td>9</td><td>Variable</td><td></td><td><a class=\"ProveItLink\" href=\"../../../../../__pv_it/b5004dd09038f1a7d88dab9010b943185ce1d3ea0/expr.ipynb\"><img src=\"data:image/png;base64,iVBORw0KGgoAAAANSUhEUgAAAAoAAAANBAMAAABiGeI2AAAALVBMVEX///+6uroiIiLMzMwQEBCq\n",
       "qqru7u7c3NxUVFRERER2dnaIiIhmZmaYmJgAAABs7E5IAAAAAXRSTlMAQObYZgAAAFRJREFUCNdj\n",
       "YGC4s+smAwNPA/sbBoZ7CQxPGRg8GJifM7A+ZeBWYOB+zsB5gIH3AQNfAAPbM4a+AgYGid2HGEBg\n",
       "DgMDIwMbUPm5Ao4GBobI3WcZGAA0kxQNEIuRVgAAAABJRU5ErkJggg==\n",
       "\" style=\"display:inline;vertical-align:middle;\" /></a></td></tr>\n",
       "</table>\n"
      ],
      "text/plain": [
       "0. |(a , b , c , d , e , f , g)|\n",
       "   core type: Operation\n",
       "   operator: 1\n",
       "   operand: 2\n",
       "1. length\n",
       "   core type: Literal\n",
       "   sub-expressions: \n",
       "2. (a , b , c , d , e , f , g)\n",
       "   core type: ExprTuple\n",
       "   sub-expressions: 3, 4, 5, 6, 7, 8, 9\n",
       "3. a\n",
       "   core type: Variable\n",
       "   sub-expressions: \n",
       "4. b\n",
       "   core type: Variable\n",
       "   sub-expressions: \n",
       "5. c\n",
       "   core type: Variable\n",
       "   sub-expressions: \n",
       "6. d\n",
       "   core type: Variable\n",
       "   sub-expressions: \n",
       "7. e\n",
       "   core type: Variable\n",
       "   sub-expressions: \n",
       "8. f\n",
       "   core type: Variable\n",
       "   sub-expressions: \n",
       "9. g\n",
       "   core type: Variable\n",
       "   sub-expressions: "
      ]
     },
     "execution_count": 4,
     "metadata": {},
     "output_type": "execute_result"
    }
   ],
   "source": [
    "# display the expression information\n",
    "expr.exprInfo()"
   ]
  },
  {
   "cell_type": "code",
   "execution_count": null,
   "metadata": {},
   "outputs": [],
   "source": []
  }
 ],
 "metadata": {
  "kernelspec": {
   "display_name": "Python 3",
   "language": "python",
   "name": "python3"
  }
 },
 "nbformat": 4,
 "nbformat_minor": 0
}
