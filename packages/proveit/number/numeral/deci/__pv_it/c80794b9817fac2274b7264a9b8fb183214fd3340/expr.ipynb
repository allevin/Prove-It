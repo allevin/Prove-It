{
 "cells": [
  {
   "cell_type": "markdown",
   "metadata": {},
   "source": [
    "Theorem <a class=\"ProveItLink\" href=\"../../_theorems_.ipynb#mult_0_5\">mult_0_5</a> of type <a class=\"ProveItLink\" href=\"../../../../../../../doc/html/api/proveit.logic.Equals.html\">Equals</a>\n",
    "=======================\n",
    "# from context <a class=\"ProveItLink\" href=\"../../_context_.ipynb\">proveit.number.numeral.deci</a>\n",
    "*** see <a class=\"ProveItLink\" href=\"dependencies.ipynb\">dependencies</a> ***"
   ]
  },
  {
   "cell_type": "code",
   "execution_count": 1,
   "metadata": {},
   "outputs": [],
   "source": [
    "# import the special expression\n",
    "from proveit.number.numeral.deci._theorems_ import mult_0_5"
   ]
  },
  {
   "cell_type": "code",
   "execution_count": 2,
   "metadata": {},
   "outputs": [
    {
     "name": "stdout",
     "output_type": "stream",
     "text": [
      "Passed sanity check: built 'mult_0_5' is the same as the stored Expression.\n"
     ]
    }
   ],
   "source": [
    "# check that the built expression is the same as the stored expression\n",
    "%check_expr mult_0_5"
   ]
  },
  {
   "cell_type": "code",
   "execution_count": 3,
   "metadata": {},
   "outputs": [
    {
     "data": {
      "text/html": [
       "<table><tr><th>&nbsp;</th><th>core type</th><th>sub-expressions</th><th>expression</th></tr>\n",
       "<tr><td>0</td><td>Operation</td><td>operator:&nbsp;1<br>operands:&nbsp;2<br></td><td><a class=\"ProveItLink\" href=\"expr.ipynb\"><img src=\"data:image/png;base64,iVBORw0KGgoAAAANSUhEUgAAAFcAAAAVBAMAAADBdm84AAAAMFBMVEX////c3NwiIiJERESqqqqY\n",
       "mJh2dnZmZmYQEBDu7u4yMjJUVFTMzMyIiIi6uroAAAAs73DqAAAAAXRSTlMAQObYZgAAAWRJREFU\n",
       "KM+Vkz1Lw1AUhp9+2rRpzebgYFE3RURw7z/QSXCRIIKLxeJQwQ/8wFGkuLSbXRxaF0dBh+4OFhfB\n",
       "WgiOLiponWy9aZqUJjeDZzjcvOfhcs97TuBfkap7tRU/+B6KzT3nM74cWGOo5qaU/SdTq8AM5041\n",
       "1unoUHbDQUOZhmSdZJqkU43vboi85IYf4VncVCB4TerTVhPdXHLDU/Cu8QbDOdSvQTiUccE/8JAh\n",
       "D2M66q8DNxsGRHODbKAl4DqXFtyy5VBBaUO428NO1YwrG9Y568NKweJvhPmHkpt12v1nXKStymYN\n",
       "9UP6jLbV4LdpwaxIcwI2PHC3wUVOMK0LO9Ydw4HWe8bWuBkTPesWNOYxhxJN27CwoQqRsncoq7Au\n",
       "TpOUnHGPED7yWkcwo5zCqzgVs3eOqm7famLohnuR8g1xX0yTrWJJvqERXaZmffa5ItGUsg88KtES\n",
       "mg8ckPxWL3L0DwCsXI2LlsynAAAAAElFTkSuQmCC\n",
       "\" style=\"display:inline;vertical-align:middle;\" /></a></td></tr>\n",
       "<tr><td>1</td><td>Literal</td><td></td><td><a class=\"ProveItLink\" href=\"../../../../../logic/equality/__pv_it/2fb26078095930560931daa0500ce419a39ea6cd0/expr.ipynb\"><img src=\"data:image/png;base64,iVBORw0KGgoAAAANSUhEUgAAAA4AAAAFBAMAAACHocAhAAAAFVBMVEX///9EREQiIiJUVFQyMjJm\n",
       "ZmYAAADubVkoAAAAAXRSTlMAQObYZgAAABRJREFUCNdjCHEBAWcGXCBICQQUAUpuAwlgGKrkAAAA\n",
       "AElFTkSuQmCC\n",
       "\" style=\"display:inline;vertical-align:middle;\" /></a></td></tr>\n",
       "<tr><td>2</td><td>ExprTuple</td><td>3, 6</td><td><a class=\"ProveItLink\" href=\"../9f63d5d307a6ce97e586e3a1e09b161720dcb3710/expr.ipynb\"><img src=\"data:image/png;base64,iVBORw0KGgoAAAANSUhEUgAAAEMAAAAVBAMAAADvM06qAAAAMFBMVEX////c3NwiIiJERESqqqqY\n",
       "mJh2dnZmZmYQEBDu7u4yMjJUVFTMzMyIiIi6uroAAAAs73DqAAAAAXRSTlMAQObYZgAAAVRJREFU\n",
       "KM+Nkr1LAzEYh59+adPe1dscHOzgpogI7v0P7CS4yCGCi8VOdVDxA0eR4tJu3uKgk6Ogw+0OFhfB\n",
       "WjgdXVTQOtmamF5asBQzhF+SJ/m975sX/jEytUGnS2q6gUpjy+ylFiMrWonte59hX6ozmObYD5Fk\n",
       "u+1qFQ3EFHhg17Cz2J55ZXOto+7gARbkrTLRCzLvIZI2lpPw6lCFFxgpYn38Rb7gNkcsRwnGXaxv\n",
       "gzTqwa+INCVSY6jIqUaaIRIri1YXcYl7HHURUdbUZS+S2aXVNTrJamTd7zGy3hSiwv2Um9UZOc1K\n",
       "JDDh5hVygEo6bpLehx0nTHreUUZzqNINZUOkCOeITumWIeGxKhcTVM0HjBLf01FFc+IQlfSzXFQK\n",
       "16Zg1saVLKnyFaW6vJgKSDr9euDJKPkBCbcfkjeqoJthACJUC4z1IWyj0iqOyMDGfIQfq8FatlJi\n",
       "6SsAAAAASUVORK5CYII=\n",
       "\" style=\"display:inline;vertical-align:middle;\" /></a></td></tr>\n",
       "<tr><td>3</td><td>Operation</td><td>operator:&nbsp;4<br>operands:&nbsp;5<br></td><td><a class=\"ProveItLink\" href=\"../61e3fd77655a42e3dd270e184c9aff1b9e0175650/expr.ipynb\"><img src=\"data:image/png;base64,iVBORw0KGgoAAAANSUhEUgAAACMAAAAOBAMAAABXxbiCAAAAMFBMVEX///9EREQQEBCYmJh2dnaq\n",
       "qqrc3NxUVFQyMjK6uroiIiLMzMyIiIhmZmbu7u4AAADSWfX9AAAAAXRSTlMAQObYZgAAAJlJREFU\n",
       "GNNjYHh75jYDDHDYsbkCqZUMrzbAhJj+/3dgYOBZwMDTAFd13RtIchUwcH6DCbGDSf4LDNxfUYXy\n",
       "HRi4/8CFzhyfABH6AhNifMD3EyHE9wAiWoTQ+H4BRMh/A9j4z0DmIwEgIQUUmgByBCvcEVoMDPcT\n",
       "QE5lWQATusDA0AGkljI8gnsol4FVDUi99amGe5v7bnkCAwCq+SvJq8kptQAAAABJRU5ErkJggg==\n",
       "\" style=\"display:inline;vertical-align:middle;\" /></a></td></tr>\n",
       "<tr><td>4</td><td>Literal</td><td></td><td><a class=\"ProveItLink\" href=\"../../../../multiplication/__pv_it/21fd2079611555ecce512d99547a00d551e6b86b0/expr.ipynb\"><img src=\"data:image/png;base64,iVBORw0KGgoAAAANSUhEUgAAAAMAAAADBAMAAACkBqiMAAAAElBMVEX///9EREQQEBAiIiLu7u4A\n",
       "AABGBidwAAAAAXRSTlMAQObYZgAAABFJREFUCNdjYHFgcDVgcBIAAASWAQx4jI0xAAAAAElFTkSu\n",
       "QmCC\n",
       "\" style=\"display:inline;vertical-align:middle;\" /></a></td></tr>\n",
       "<tr><td>5</td><td>ExprTuple</td><td>6, 7</td><td><a class=\"ProveItLink\" href=\"../2a150b17e5d3b8066b494f45a88bec3cb97c81520/expr.ipynb\"><img src=\"data:image/png;base64,iVBORw0KGgoAAAANSUhEUgAAACkAAAAVBAMAAAAp9toTAAAAMFBMVEX////c3NwiIiJERESqqqqY\n",
       "mJh2dnZmZmYQEBDu7u4yMjJUVFTMzMyIiIi6uroAAAAs73DqAAAAAXRSTlMAQObYZgAAAQtJREFU\n",
       "GNNtka1Pw2AQh59BO9atHXUIBBNoBAmev4IEQypIMCxUgYCEj6ChwWyyBgEKSQKiHjPPljRI1FgA\n",
       "x8bd+25LWTjxy93zXu69D/jf6p0ZsKPyAq3eiQXV7dIuC5l4d7DGTWZoZTSKIIWgQ9AgSG3u8b7o\n",
       "ljwnzD1Q/zC0ZrQN77AY438W6Pwmh7AS4f9Y2nvNoRxza+m3zUq8ITgpV0Uq9igTnDEsVhA7yPD7\n",
       "SvW3L4PWheZKL9HOHNvZBZyGWmEDnaLcIBEawz24KXsSrNLOvIE4SzjnprM3CVrNZ7zrEPyjJ9Fq\n",
       "TiWcbHTi6MRuNPbd6YKbdpN/qaf7Wx4H05PUtFRp9kJd+AXwkD+V8tk00AAAAABJRU5ErkJggg==\n",
       "\" style=\"display:inline;vertical-align:middle;\" /></a></td></tr>\n",
       "<tr><td>6</td><td>Literal</td><td></td><td><a class=\"ProveItLink\" href=\"../../../__pv_it/ec23fc7a1b4222a5f4948b495002b97d6fa18c3c0/expr.ipynb\"><img src=\"data:image/png;base64,iVBORw0KGgoAAAANSUhEUgAAAAoAAAAOBAMAAADkjZCYAAAALVBMVEX///8QEBCYmJh2dnaqqqrc\n",
       "3NxUVFQyMjK6uroiIiLMzMyIiIhmZmbu7u4AAAAZjyHdAAAAAXRSTlMAQObYZgAAAEpJREFUCNdj\n",
       "YLiz+xQDA8MMhpsLGLgnMHAXMHAmMHA8ZeA7wMD1hCHOgIHrNZh8jES+Bss+AqlkeQrSxTyBgWEK\n",
       "w8UFDAx3rLMYAMCjFldHSx/9AAAAAElFTkSuQmCC\n",
       "\" style=\"display:inline;vertical-align:middle;\" /></a></td></tr>\n",
       "<tr><td>7</td><td>Literal</td><td></td><td><a class=\"ProveItLink\" href=\"../../../__pv_it/aaeeaca7d86eb2b7cdc49e25c3108b81b52ec5400/expr.ipynb\"><img src=\"data:image/png;base64,iVBORw0KGgoAAAANSUhEUgAAAAkAAAAOBAMAAAAPuiubAAAAMFBMVEX///8iIiJERES6urqIiIjM\n",
       "zMxUVFRmZmYQEBCqqqp2dnbc3Nzu7u6YmJgyMjIAAADYGhJvAAAAAXRSTlMAQObYZgAAAE1JREFU\n",
       "CNdj4LvDvZKBgeP//wUMDHxlSxkYGNgYGBCki5sBAwPTAZ7PYG4GmFwfwKAIJA0YGhkY6jcwFDAw\n",
       "vGNg2M7A2c3AwFqetoEBAKS8EE1WXEJLAAAAAElFTkSuQmCC\n",
       "\" style=\"display:inline;vertical-align:middle;\" /></a></td></tr>\n",
       "</table>\n"
      ],
      "text/plain": [
       "0. (0 * 5) = 0\n",
       "   core type: Operation\n",
       "   operator: 1\n",
       "   operands: 2\n",
       "1. =\n",
       "   core type: Literal\n",
       "   sub-expressions: \n",
       "2. (0 * 5 , 0)\n",
       "   core type: ExprTuple\n",
       "   sub-expressions: 3, 6\n",
       "3. 0 * 5\n",
       "   core type: Operation\n",
       "   operator: 4\n",
       "   operands: 5\n",
       "4. *\n",
       "   core type: Literal\n",
       "   sub-expressions: \n",
       "5. (0 , 5)\n",
       "   core type: ExprTuple\n",
       "   sub-expressions: 6, 7\n",
       "6. 0\n",
       "   core type: Literal\n",
       "   sub-expressions: \n",
       "7. 5\n",
       "   core type: Literal\n",
       "   sub-expressions: "
      ]
     },
     "execution_count": 3,
     "metadata": {},
     "output_type": "execute_result"
    }
   ],
   "source": [
    "# display the expression information\n",
    "mult_0_5.exprInfo()"
   ]
  },
  {
   "cell_type": "code",
   "execution_count": null,
   "metadata": {},
   "outputs": [],
   "source": []
  }
 ],
 "metadata": {
  "kernelspec": {
   "display_name": "Python 3",
   "language": "python",
   "name": "python3"
  }
 },
 "nbformat": 4,
 "nbformat_minor": 0
}
