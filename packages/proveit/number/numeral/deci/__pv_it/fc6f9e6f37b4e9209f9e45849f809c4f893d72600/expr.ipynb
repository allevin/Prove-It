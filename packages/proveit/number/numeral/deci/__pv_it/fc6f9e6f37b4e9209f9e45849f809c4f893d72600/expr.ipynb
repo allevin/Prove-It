{
 "cells": [
  {
   "cell_type": "markdown",
   "metadata": {},
   "source": [
    "Expression of type <a class=\"ProveItLink\" href=\"../../../../../../../doc/html/api/proveit.ExprTuple.html\">ExprTuple</a>\n",
    "=======================\n",
    "# from context <a class=\"ProveItLink\" href=\"../../_context_.ipynb\">proveit.number.numeral.deci</a>"
   ]
  },
  {
   "cell_type": "code",
   "execution_count": 1,
   "metadata": {},
   "outputs": [],
   "source": [
    "# import Expression classes needed to build the expression\n",
    "from proveit import ExprTuple\n",
    "from proveit.number import DecimalSequence, Mult, eight, nine, seven, two"
   ]
  },
  {
   "cell_type": "code",
   "execution_count": 2,
   "metadata": {},
   "outputs": [
    {
     "data": {
      "text/html": [
       "<strong id=\"expr\">expr:</strong> <a class=\"ProveItLink\" href=\"expr.ipynb\"><img src=\"data:image/png;base64,iVBORw0KGgoAAAANSUhEUgAAAE0AAAAVBAMAAADx+n4ZAAAAMFBMVEX////c3NwiIiJERESqqqqY\n",
       "mJh2dnZmZmYQEBDu7u4yMjJUVFTMzMyIiIi6uroAAAAs73DqAAAAAXRSTlMAQObYZgAAAZdJREFU\n",
       "KM+Nkj0vBFEUhp+1BmsNE5VEQatajX4rEg0NKmw1G0Gy8bEaiZUoaGRCs4liJxGFQmwnEgnRivAD\n",
       "SIZS4yNIFIxzZ9xhk03WFG/OufeZe99z7oH/fq3XNZEJJRewkz+J1hJ2Nh1G53nbzsSWdj0azyTd\n",
       "J7ZGh6W5RlgMo0nf98udmK/ggnlNvECyV3MjsBVGU5DkGFIwCk0ObS4NH5qbjrgMzLDucOpRhAco\n",
       "9WJ+aW7omNk/JR46rHjE0+QJznvTe3F/PKPj7UBTDg059sR6gfhnVPDKS1TTgpKWd6h32ZRW7DGg\n",
       "uIQjYiwfvuoWPSltlhJbCyhjxu2l2it1i4xh+E7Ima7SeXXmE2EBQb1F1ZwN6BoOubqygsshtxYs\n",
       "Nbv6roL4/XnJUk5kgJil7u2TX57p8rT3VemulQjCR+FachgWhktWuB4OonIHHfpDpwwJ127bc6i+\n",
       "3MtCdj79Oz5HS2mKzyq8Ep8p338RWx5NVrVJuqtM5d2MTDVuuDKdDeaqJpdQ3eisgpmVaVJ5i9We\n",
       "+xv4BpliZjubxJPSAAAAAElFTkSuQmCC\n",
       "\" style=\"display:inline;vertical-align:middle;\" /></a><br>"
      ],
      "text/plain": [
       "expr: (9 * 8 , 72)"
      ]
     },
     "execution_count": 2,
     "metadata": {},
     "output_type": "execute_result"
    }
   ],
   "source": [
    "# build up the expression from sub-expressions\n",
    "expr = ExprTuple(Mult(nine, eight), DecimalSequence(seven, two))"
   ]
  },
  {
   "cell_type": "code",
   "execution_count": 3,
   "metadata": {},
   "outputs": [
    {
     "name": "stdout",
     "output_type": "stream",
     "text": [
      "Passed sanity check: built 'expr' is the same as the stored Expression.\n"
     ]
    }
   ],
   "source": [
    "# check that the built expression is the same as the stored expression\n",
    "%check_expr"
   ]
  },
  {
   "cell_type": "code",
   "execution_count": 4,
   "metadata": {},
   "outputs": [
    {
     "data": {
      "text/html": [
       "<table><tr><th>&nbsp;</th><th>core type</th><th>sub-expressions</th><th>expression</th></tr>\n",
       "<tr><td>0</td><td>ExprTuple</td><td>1, 2</td><td><a class=\"ProveItLink\" href=\"expr.ipynb\"><img src=\"data:image/png;base64,iVBORw0KGgoAAAANSUhEUgAAAE0AAAAVBAMAAADx+n4ZAAAAMFBMVEX////c3NwiIiJERESqqqqY\n",
       "mJh2dnZmZmYQEBDu7u4yMjJUVFTMzMyIiIi6uroAAAAs73DqAAAAAXRSTlMAQObYZgAAAZdJREFU\n",
       "KM+Nkj0vBFEUhp+1BmsNE5VEQatajX4rEg0NKmw1G0Gy8bEaiZUoaGRCs4liJxGFQmwnEgnRivAD\n",
       "SIZS4yNIFIxzZ9xhk03WFG/OufeZe99z7oH/fq3XNZEJJRewkz+J1hJ2Nh1G53nbzsSWdj0azyTd\n",
       "J7ZGh6W5RlgMo0nf98udmK/ggnlNvECyV3MjsBVGU5DkGFIwCk0ObS4NH5qbjrgMzLDucOpRhAco\n",
       "9WJ+aW7omNk/JR46rHjE0+QJznvTe3F/PKPj7UBTDg059sR6gfhnVPDKS1TTgpKWd6h32ZRW7DGg\n",
       "uIQjYiwfvuoWPSltlhJbCyhjxu2l2it1i4xh+E7Ima7SeXXmE2EBQb1F1ZwN6BoOubqygsshtxYs\n",
       "Nbv6roL4/XnJUk5kgJil7u2TX57p8rT3VemulQjCR+FachgWhktWuB4OonIHHfpDpwwJ127bc6i+\n",
       "3MtCdj79Oz5HS2mKzyq8Ep8p338RWx5NVrVJuqtM5d2MTDVuuDKdDeaqJpdQ3eisgpmVaVJ5i9We\n",
       "+xv4BpliZjubxJPSAAAAAElFTkSuQmCC\n",
       "\" style=\"display:inline;vertical-align:middle;\" /></a></td></tr>\n",
       "<tr><td>1</td><td>Operation</td><td>operator:&nbsp;3<br>operands:&nbsp;4<br></td><td><a class=\"ProveItLink\" href=\"../a4d2f389f6cf69cc6eecbdd638b2a76bccadff890/expr.ipynb\"><img src=\"data:image/png;base64,iVBORw0KGgoAAAANSUhEUgAAACMAAAAOBAMAAABXxbiCAAAAMFBMVEX///8iIiKYmJi6urqIiIgy\n",
       "MjJERESqqqoQEBDc3NzMzMx2dnZmZmZUVFTu7u4AAABn2L4sAAAAAXRSTlMAQObYZgAAALJJREFU\n",
       "GNNjYHh7+hYDDPDt3lPAwMDZzjBjAkyIh4HhEAMDWwMDbwJMSImB4SEDA38AA/c/mNBesND7BAaW\n",
       "zzCh+nsMWyCqPsGE2P6rbACa2MDA9gVu5fmPQKv4ghhqQEJ8D4AE06n47yDKZQmIei8AJHQYmP6D\n",
       "pCA2vgC5pI+BYb4CSIg1AOb4BqDZDgwsPxnmG8BM72Rg4J3AwCLHEAK3sPQBQzWQ2nOsAC7EfOdM\n",
       "AQMA3wovS2c8My8AAAAASUVORK5CYII=\n",
       "\" style=\"display:inline;vertical-align:middle;\" /></a></td></tr>\n",
       "<tr><td>2</td><td>Operation</td><td>operator:&nbsp;5<br>operands:&nbsp;6<br></td><td><a class=\"ProveItLink\" href=\"../05488c21ce8ea576e4d8a4c31c1c9ddf1691d1640/expr.ipynb\"><img src=\"data:image/png;base64,iVBORw0KGgoAAAANSUhEUgAAABMAAAAOBAMAAAA/Njq6AAAAMFBMVEX///8QEBDc3NwyMjKqqqpE\n",
       "RESIiIi6urru7u5UVFSYmJh2dnZmZmYiIiLMzMwAAACwhPg6AAAAAXRSTlMAQObYZgAAAIdJREFU\n",
       "CNdjeHt69+4NTGdMCxgY1v///3+CJgPbFwaGHQwMnAwzGBjuMzBsYGDYxyDYwDAfqIKBPYHBvoHh\n",
       "PIjZygAC9xuAxBEQi+83kOD4AGIyBwAJNgMQ8yiI4J0A4oMIhv4DQMKHgUmBgaEeyOQ7wMAFZPoD\n",
       "mbq7d58Fyr1fADT0//+/DABeXCZigOHJ8wAAAABJRU5ErkJggg==\n",
       "\" style=\"display:inline;vertical-align:middle;\" /></a></td></tr>\n",
       "<tr><td>3</td><td>Literal</td><td></td><td><a class=\"ProveItLink\" href=\"../../../../multiplication/__pv_it/21fd2079611555ecce512d99547a00d551e6b86b0/expr.ipynb\"><img src=\"data:image/png;base64,iVBORw0KGgoAAAANSUhEUgAAAAMAAAADBAMAAACkBqiMAAAAElBMVEX///9EREQQEBAiIiLu7u4A\n",
       "AABGBidwAAAAAXRSTlMAQObYZgAAABFJREFUCNdjYHFgcDVgcBIAAASWAQx4jI0xAAAAAElFTkSu\n",
       "QmCC\n",
       "\" style=\"display:inline;vertical-align:middle;\" /></a></td></tr>\n",
       "<tr><td>4</td><td>ExprTuple</td><td>7, 8</td><td><a class=\"ProveItLink\" href=\"../9f009724e6279e7889cac7283ab65bd2a00e5e8b0/expr.ipynb\"><img src=\"data:image/png;base64,iVBORw0KGgoAAAANSUhEUgAAACkAAAAVBAMAAAAp9toTAAAAMFBMVEX////c3NwiIiJERESqqqqY\n",
       "mJh2dnZmZmYQEBDu7u4yMjJUVFTMzMyIiIi6uroAAAAs73DqAAAAAXRSTlMAQObYZgAAAR5JREFU\n",
       "GNNtkTFLA0EQhb9wbpLzTLxSsEhtl8b+KgUbbdRKSeUVEhDE2AiekMZGDyvBwmtSWIilCCnsRbgf\n",
       "oBAsrTTEwkLj7FyS4nCLZeZjee/NLPx/qmkObNvrCa5a3Qy4O2FA6VGqGwpt5nylJTiABCopToRX\n",
       "V7oOF7AB5ZjZhOK30l2ll/AO13Uqv0pXH2iCE9BC334pdYZbDSju0RGPCOcnC3HcF9uphDPJ02E5\n",
       "o+bobiATRFhB8/o8ULqJGcbMfJDZjDKcQm3N0ra204mOFolJahUWZZBPaj1iwSfg+ZiEUOgCt7h9\n",
       "oSsxS5rsTZpwP8A9l0zV+8NA5HqU/fFGx4Wd2DRGtZksuKmbzFHX5pkfNZMv8axUIf9DL/AHAXpB\n",
       "V/yBVQEAAAAASUVORK5CYII=\n",
       "\" style=\"display:inline;vertical-align:middle;\" /></a></td></tr>\n",
       "<tr><td>5</td><td>Literal</td><td></td><td><a class=\"ProveItLink\" href=\"../b28e6317a1d330492d51cd67ccba81d4d210b8b30/expr.ipynb\"><img src=\"data:image/png;base64,iVBORw0KGgoAAAANSUhEUgAAAE8AAAAOBAMAAACcHlx8AAAAMFBMVEX///8iIiIQEBCYmJjc3Ny6\n",
       "urru7u5mZmZ2dnaqqqrMzMxEREQyMjJUVFSIiIgAAABUCcz6AAAAAXRSTlMAQObYZgAAAWhJREFU\n",
       "KM99kL9Lw3AQxV/bNE1s0rh1VNTBqWR2sAXdEwRns9XJtFsRwSxVx/oXNLgqNKugtLsgHQVtDWLt\n",
       "IEahVrT+vIsK1qEH+QS+PN67ewDuPlutExd/JtnA8EgTJv/eAPllSOj/EyLLGHsmbFoYNRuMVJ9Q\n",
       "80cKM2HQA8FojtIJA6bmsWMTQqmbg7gTuKslxG8Xg7N4cEiadnkGMfb6Ts062M0JBeyZyrizAkk9\n",
       "hV1GFVjKUaLKXrjnai5NoY+EK2aQnKsUsRzxYPskFHpIeIiGF9QZU1Cn56+hUoZIq1u2iapFx9JD\n",
       "xEctrPmVvlgPWuF3X/kJrCoCs/xgu7gKa/wgRD1obG8wlCZ7IY34o2hwvnUsco18+pEV7uFrOqAb\n",
       "pkNeYh9qY8Gu4EJ2e9JPjQcUm2ogn1MLkNyqoNNlVIniO4oupyUM1oB8/b11vs47bAfkWQpukAwQ\n",
       "n4TkQW67Qruz30F3C18Fz3drZAxLCAAAAABJRU5ErkJggg==\n",
       "\" style=\"display:inline;vertical-align:middle;\" /></a></td></tr>\n",
       "<tr><td>6</td><td>ExprTuple</td><td>9, 10</td><td><a class=\"ProveItLink\" href=\"../f52d176a5d043433fe92f0ea016f7e084629b7540/expr.ipynb\"><img src=\"data:image/png;base64,iVBORw0KGgoAAAANSUhEUgAAACkAAAAVBAMAAAAp9toTAAAAMFBMVEX////c3NwiIiJERESqqqqY\n",
       "mJh2dnZmZmYQEBDu7u4yMjJUVFTMzMyIiIi6uroAAAAs73DqAAAAAXRSTlMAQObYZgAAAQZJREFU\n",
       "GNNtkS1PA0EQhp8L3Wuv9JoLtj8AgSgGX8c/QBLUokiaklAJAoGClTguIQgUtSjqMdUEcUGSkBDC\n",
       "hyBh2dljV1wYsXnn2fnaWfjf+osG2Jbjnt6q1tqDZHpZ0Z47dY2y1n57OiB/hxLyBamBmae3MIQt\n",
       "6BhSSOeenhjuKs7h2bsvdaMbw2HF0ogD8bL1OMHQ5Y65EtkeBdj7hFbJqeiLGNp1Wf0jfkQ/RLov\n",
       "8a81XQswn9X0WJp9BbpJUkiFDVmFUCNRY1SBKtl1TsvR7M2JFa0nyGRPEvLh6FnhhrXWXXYrOkXY\n",
       "aBDyYrXzp1Wcbs9vskGz0u+0tvgly1Iqaf7QI/wCyeU7wVB5EOIAAAAASUVORK5CYII=\n",
       "\" style=\"display:inline;vertical-align:middle;\" /></a></td></tr>\n",
       "<tr><td>7</td><td>Literal</td><td></td><td><a class=\"ProveItLink\" href=\"../../../__pv_it/cdcd6ad997b4d5c13a719b005810863ba48ff0c70/expr.ipynb\"><img src=\"data:image/png;base64,iVBORw0KGgoAAAANSUhEUgAAAAoAAAAOBAMAAADkjZCYAAAAMFBMVEX///8iIiKYmJi6urqIiIgy\n",
       "MjJERESqqqoQEBDc3NzMzMx2dnZmZmZUVFTu7u4AAABn2L4sAAAAAXRSTlMAQObYZgAAAFVJREFU\n",
       "CNdjYHh7+hYDA2c7w4wJDGwNDLwJDPwBDNz/GN4nMLB8BrM/MfA0MLB9YeALYqj5wsDA5LLkOwMQ\n",
       "ANUAAWsAA8tPhvkGDCxyDCFA/p5jBQwAtzwVEbGPESsAAAAASUVORK5CYII=\n",
       "\" style=\"display:inline;vertical-align:middle;\" /></a></td></tr>\n",
       "<tr><td>8</td><td>Literal</td><td></td><td><a class=\"ProveItLink\" href=\"../../../__pv_it/7ca36d8558dd5f18c1e16b5e877a0b7e314926450/expr.ipynb\"><img src=\"data:image/png;base64,iVBORw0KGgoAAAANSUhEUgAAAAoAAAAOBAMAAADkjZCYAAAAMFBMVEX///+6uroQEBAyMjLMzMzc\n",
       "3NxERESIiIhUVFQiIiKYmJiqqqpmZmZ2dnbu7u4AAAACo3QQAAAAAXRSTlMAQObYZgAAAFlJREFU\n",
       "CNdjYHh79zQDA8MBBp4FDFwLGPgmMPA2gEjuHw94CxgY8n/VAmV5/k8Fkmuc/29g4DrAsP4fA9MD\n",
       "BtZfDI+AgscZmAIYGFoZuO0YuC8wMEicOc0AAC98GKTiu3IvAAAAAElFTkSuQmCC\n",
       "\" style=\"display:inline;vertical-align:middle;\" /></a></td></tr>\n",
       "<tr><td>9</td><td>Literal</td><td></td><td><a class=\"ProveItLink\" href=\"../../../__pv_it/44c347496acc279b31e97f8859fc6a0a1e31c26b0/expr.ipynb\"><img src=\"data:image/png;base64,iVBORw0KGgoAAAANSUhEUgAAAAoAAAAOBAMAAADkjZCYAAAAKlBMVEX///8yMjKqqqpERESIiIi6\n",
       "urru7u5UVFSYmJh2dnZmZmYiIiLMzMwAAACZcOxaAAAAAXRSTlMAQObYZgAAAEVJREFUCNdjOL1y\n",
       "5swJDL13794tYJjGwMDOwDCBgWEOAxCwOoDIZBDBsAhEsF0AkSwCIJK7AETmLgCRsWBSF0yebWBg\n",
       "AAAo0Q9n+lHhAQAAAABJRU5ErkJggg==\n",
       "\" style=\"display:inline;vertical-align:middle;\" /></a></td></tr>\n",
       "<tr><td>10</td><td>Literal</td><td></td><td><a class=\"ProveItLink\" href=\"../../../__pv_it/77d407a64829263cdc16415becd4c2293f77a4bf0/expr.ipynb\"><img src=\"data:image/png;base64,iVBORw0KGgoAAAANSUhEUgAAAAkAAAAOBAMAAAAPuiubAAAAMFBMVEX///+YmJh2dnbMzMwQEBAi\n",
       "IiLu7u6qqqqIiIhUVFS6urpEREQyMjJmZmbc3NwAAACOMKdoAAAAAXRSTlMAQObYZgAAAFBJREFU\n",
       "CNdj4Lt7egEDw0sGju8MDNMYGOIZGFwSGOYvYDifwHAfKAEUSQASzJ9ATJ4NIPI2iOCYACJrGfge\n",
       "MDBfYGB8wPBUSekqUPH//18ZAIliFhc3zESNAAAAAElFTkSuQmCC\n",
       "\" style=\"display:inline;vertical-align:middle;\" /></a></td></tr>\n",
       "</table>\n"
      ],
      "text/plain": [
       "0. (9 * 8 , 72)\n",
       "   core type: ExprTuple\n",
       "   sub-expressions: 1, 2\n",
       "1. 9 * 8\n",
       "   core type: Operation\n",
       "   operator: 3\n",
       "   operands: 4\n",
       "2. 72\n",
       "   core type: Operation\n",
       "   operator: 5\n",
       "   operands: 6\n",
       "3. *\n",
       "   core type: Literal\n",
       "   sub-expressions: \n",
       "4. (9 , 8)\n",
       "   core type: ExprTuple\n",
       "   sub-expressions: 7, 8\n",
       "5. Decimal\n",
       "   core type: Literal\n",
       "   sub-expressions: \n",
       "6. (7 , 2)\n",
       "   core type: ExprTuple\n",
       "   sub-expressions: 9, 10\n",
       "7. 9\n",
       "   core type: Literal\n",
       "   sub-expressions: \n",
       "8. 8\n",
       "   core type: Literal\n",
       "   sub-expressions: \n",
       "9. 7\n",
       "   core type: Literal\n",
       "   sub-expressions: \n",
       "10. 2\n",
       "    core type: Literal\n",
       "    sub-expressions: "
      ]
     },
     "execution_count": 4,
     "metadata": {},
     "output_type": "execute_result"
    }
   ],
   "source": [
    "# display the expression information\n",
    "expr.exprInfo()"
   ]
  },
  {
   "cell_type": "code",
   "execution_count": null,
   "metadata": {},
   "outputs": [],
   "source": []
  }
 ],
 "metadata": {
  "kernelspec": {
   "display_name": "Python 3",
   "language": "python",
   "name": "python3"
  }
 },
 "nbformat": 4,
 "nbformat_minor": 0
}
