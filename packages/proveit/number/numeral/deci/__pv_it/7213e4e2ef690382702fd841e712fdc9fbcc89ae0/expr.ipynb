{
 "cells": [
  {
   "cell_type": "markdown",
   "metadata": {},
   "source": [
    "Expression of type <a class=\"ProveItLink\" href=\"../../../../../../../doc/html/api/proveit.ExprTuple.html\">ExprTuple</a>\n",
    "=======================\n",
    "# from context <a class=\"ProveItLink\" href=\"../../_context_.ipynb\">proveit.number.numeral.deci</a>"
   ]
  },
  {
   "cell_type": "code",
   "execution_count": 1,
   "metadata": {},
   "outputs": [],
   "source": [
    "# import Expression classes needed to build the expression\n",
    "from proveit import ExprTuple\n",
    "from proveit.number import Add, two, zero"
   ]
  },
  {
   "cell_type": "code",
   "execution_count": 2,
   "metadata": {},
   "outputs": [
    {
     "data": {
      "text/html": [
       "<strong id=\"expr\">expr:</strong> <a class=\"ProveItLink\" href=\"expr.ipynb\"><img src=\"data:image/png;base64,iVBORw0KGgoAAAANSUhEUgAAAE0AAAAVBAMAAADx+n4ZAAAAMFBMVEX////c3NwiIiJERESqqqqY\n",
       "mJh2dnZmZmYQEBDu7u4yMjJUVFTMzMyIiIi6uroAAAAs73DqAAAAAXRSTlMAQObYZgAAAW5JREFU\n",
       "KM+Nkj9IAlEcxz9n/tcza2loyCGiKV1aw63JoaUxnHQSjoICCWpoqKWuFh0PpCEbcg2C3Boacq9I\n",
       "GoPAwgKHvN67l+JJUr/h3vd3vw/vvfveF/5bscafyJp83ELpcXtoMlVcUkLbqjQJ1IU6gwVO6i5M\n",
       "q/GUdtQ0ehss0BvoCXRLAcdqiZh4Wo66hCSsQlC8qhF7U0BGLcEDIl1H7ZtcNynDC4wbRNsuLtwh\n",
       "oLgLk50mY2k2YSZL9MvFifJ0eipp4jc4VdznMHeX/RFy5LU4HMFVeiKcEh7v0v393ECqpzbkni3J\n",
       "ye/4EF2xWp2vVs+d6X0P02uK20P64nX7gtdgQqlltLg8dxHpsz/h5m5gBVPuZOCL47PIi2aWct3F\n",
       "aXO5fCL0LtRkLreO9OVZNKXCFS7OY9t2InQUF+bZtsDDTYLxwQBkXInrj8R/82UHR6+Dja+vCipX\n",
       "I6rPhSwnYaOqH/SIvID2d+4f4BvCRlu8RRZ8/wAAAABJRU5ErkJggg==\n",
       "\" style=\"display:inline;vertical-align:middle;\" /></a><br>"
      ],
      "text/plain": [
       "expr: (0 + 2 , 2)"
      ]
     },
     "execution_count": 2,
     "metadata": {},
     "output_type": "execute_result"
    }
   ],
   "source": [
    "# build up the expression from sub-expressions\n",
    "expr = ExprTuple(Add(zero, two), two)"
   ]
  },
  {
   "cell_type": "code",
   "execution_count": 3,
   "metadata": {},
   "outputs": [
    {
     "name": "stdout",
     "output_type": "stream",
     "text": [
      "Passed sanity check: built 'expr' is the same as the stored Expression.\n"
     ]
    }
   ],
   "source": [
    "# check that the built expression is the same as the stored expression\n",
    "%check_expr"
   ]
  },
  {
   "cell_type": "code",
   "execution_count": 4,
   "metadata": {},
   "outputs": [
    {
     "data": {
      "text/html": [
       "<table><tr><th>&nbsp;</th><th>core type</th><th>sub-expressions</th><th>expression</th></tr>\n",
       "<tr><td>0</td><td>ExprTuple</td><td>1, 5</td><td><a class=\"ProveItLink\" href=\"expr.ipynb\"><img src=\"data:image/png;base64,iVBORw0KGgoAAAANSUhEUgAAAE0AAAAVBAMAAADx+n4ZAAAAMFBMVEX////c3NwiIiJERESqqqqY\n",
       "mJh2dnZmZmYQEBDu7u4yMjJUVFTMzMyIiIi6uroAAAAs73DqAAAAAXRSTlMAQObYZgAAAW5JREFU\n",
       "KM+Nkj9IAlEcxz9n/tcza2loyCGiKV1aw63JoaUxnHQSjoICCWpoqKWuFh0PpCEbcg2C3Boacq9I\n",
       "GoPAwgKHvN67l+JJUr/h3vd3vw/vvfveF/5bscafyJp83ELpcXtoMlVcUkLbqjQJ1IU6gwVO6i5M\n",
       "q/GUdtQ0ehss0BvoCXRLAcdqiZh4Wo66hCSsQlC8qhF7U0BGLcEDIl1H7ZtcNynDC4wbRNsuLtwh\n",
       "oLgLk50mY2k2YSZL9MvFifJ0eipp4jc4VdznMHeX/RFy5LU4HMFVeiKcEh7v0v393ECqpzbkni3J\n",
       "ye/4EF2xWp2vVs+d6X0P02uK20P64nX7gtdgQqlltLg8dxHpsz/h5m5gBVPuZOCL47PIi2aWct3F\n",
       "aXO5fCL0LtRkLreO9OVZNKXCFS7OY9t2InQUF+bZtsDDTYLxwQBkXInrj8R/82UHR6+Dja+vCipX\n",
       "I6rPhSwnYaOqH/SIvID2d+4f4BvCRlu8RRZ8/wAAAABJRU5ErkJggg==\n",
       "\" style=\"display:inline;vertical-align:middle;\" /></a></td></tr>\n",
       "<tr><td>1</td><td>Operation</td><td>operator:&nbsp;2<br>operands:&nbsp;3<br></td><td><a class=\"ProveItLink\" href=\"../8d4352610b5ea9c9a195beea32bf45836666be940/expr.ipynb\"><img src=\"data:image/png;base64,iVBORw0KGgoAAAANSUhEUgAAAC0AAAAQBAMAAABw0OvaAAAAMFBMVEX///9EREQQEBCYmJh2dnaq\n",
       "qqrc3NxUVFQyMjK6uroiIiLMzMyIiIhmZmbu7u4AAADSWfX9AAAAAXRSTlMAQObYZgAAALRJREFU\n",
       "GNNjYHh75jYDCmC72zgBSK1keLUBRTydgecrAwPPAgaeBojAMwhVx8CwnoGBq4CB8xtEIAZCKT1g\n",
       "qJ/AwH+Bgfsrinj/A4b7ExjyHRi4/6CIA8H6B2DxL2jiIAFs4hwCDFjNuQjEIHs/A+kbHR2LOjra\n",
       "QcI8BQxgd7KiupMhloEtAeQvlgUo4twXGJgTGBiWMjzagCKe5eJyC0i99almQBFf////L5QAi2HA\n",
       "DuYgsQFEPDczNwTuawAAAABJRU5ErkJggg==\n",
       "\" style=\"display:inline;vertical-align:middle;\" /></a></td></tr>\n",
       "<tr><td>2</td><td>Literal</td><td></td><td><a class=\"ProveItLink\" href=\"../../../../addition/__pv_it/3e6688136fa3c7aefbebe51301b7c3ebf0b69c440/expr.ipynb\"><img src=\"data:image/png;base64,iVBORw0KGgoAAAANSUhEUgAAAA4AAAAOBAMAAADtZjDiAAAAJFBMVEX///+6urpUVFQQEBAiIiIy\n",
       "MjJmZmaIiIiqqqrc3Nzu7u4AAACgHpL+AAAAAXRSTlMAQObYZgAAAB5JREFUCNdjYGBgWMkAAe2k\n",
       "0Kmhoc6hoUGk6BMHYgAHOwjcado9fwAAAABJRU5ErkJggg==\n",
       "\" style=\"display:inline;vertical-align:middle;\" /></a></td></tr>\n",
       "<tr><td>3</td><td>ExprTuple</td><td>4, 5</td><td><a class=\"ProveItLink\" href=\"../3e1f3f991e299584508e856d9b02e2f366933cc40/expr.ipynb\"><img src=\"data:image/png;base64,iVBORw0KGgoAAAANSUhEUgAAACkAAAAVBAMAAAAp9toTAAAAMFBMVEX////c3NwiIiJERESqqqqY\n",
       "mJh2dnZmZmYQEBDu7u4yMjJUVFTMzMyIiIi6uroAAAAs73DqAAAAAXRSTlMAQObYZgAAAQxJREFU\n",
       "GNNtkbFKA0EQhr/TXJKL2XjYWpjC2tjY2/kGlpIqVoFDQRtBCwsrXWySckEsrEwrCF5vkwdQOCyt\n",
       "NEQ7jTu7ucAFt1j++XaY/WcG/j+N4RzYk+sZeq8nHgTHNxmV1Ko72OA6dXQVNQYDaohqooyjD9CC\n",
       "XahqFgY0Ph290Dxl9OEdlhPqY0fvNacZi9scwVqb+k/uoKUpJ9x6+j2FIkqGyyKtbdoOzvgtVjiU\n",
       "/A+h8tuXh2rg6TnirOSdsUMQS4UtpItyEy1ZCWFMaNi3wTr9NBpZsdLpHCDO3mzQ6z4SXcXW7GRi\n",
       "H2sZ1TifaC6k47A91eFswF0/ySKNjJupP7OVLEmpYH5DL/AHXJBBfaMpF1EAAAAASUVORK5CYII=\n",
       "\" style=\"display:inline;vertical-align:middle;\" /></a></td></tr>\n",
       "<tr><td>4</td><td>Literal</td><td></td><td><a class=\"ProveItLink\" href=\"../../../__pv_it/ec23fc7a1b4222a5f4948b495002b97d6fa18c3c0/expr.ipynb\"><img src=\"data:image/png;base64,iVBORw0KGgoAAAANSUhEUgAAAAoAAAAOBAMAAADkjZCYAAAALVBMVEX///8QEBCYmJh2dnaqqqrc\n",
       "3NxUVFQyMjK6uroiIiLMzMyIiIhmZmbu7u4AAAAZjyHdAAAAAXRSTlMAQObYZgAAAEpJREFUCNdj\n",
       "YLiz+xQDA8MMhpsLGLgnMHAXMHAmMHA8ZeA7wMD1hCHOgIHrNZh8jES+Bss+AqlkeQrSxTyBgWEK\n",
       "w8UFDAx3rLMYAMCjFldHSx/9AAAAAElFTkSuQmCC\n",
       "\" style=\"display:inline;vertical-align:middle;\" /></a></td></tr>\n",
       "<tr><td>5</td><td>Literal</td><td></td><td><a class=\"ProveItLink\" href=\"../../../__pv_it/77d407a64829263cdc16415becd4c2293f77a4bf0/expr.ipynb\"><img src=\"data:image/png;base64,iVBORw0KGgoAAAANSUhEUgAAAAkAAAAOBAMAAAAPuiubAAAAMFBMVEX///+YmJh2dnbMzMwQEBAi\n",
       "IiLu7u6qqqqIiIhUVFS6urpEREQyMjJmZmbc3NwAAACOMKdoAAAAAXRSTlMAQObYZgAAAFBJREFU\n",
       "CNdj4Lt7egEDw0sGju8MDNMYGOIZGFwSGOYvYDifwHAfKAEUSQASzJ9ATJ4NIPI2iOCYACJrGfge\n",
       "MDBfYGB8wPBUSekqUPH//18ZAIliFhc3zESNAAAAAElFTkSuQmCC\n",
       "\" style=\"display:inline;vertical-align:middle;\" /></a></td></tr>\n",
       "</table>\n"
      ],
      "text/plain": [
       "0. (0 + 2 , 2)\n",
       "   core type: ExprTuple\n",
       "   sub-expressions: 1, 5\n",
       "1. 0 + 2\n",
       "   core type: Operation\n",
       "   operator: 2\n",
       "   operands: 3\n",
       "2. +\n",
       "   core type: Literal\n",
       "   sub-expressions: \n",
       "3. (0 , 2)\n",
       "   core type: ExprTuple\n",
       "   sub-expressions: 4, 5\n",
       "4. 0\n",
       "   core type: Literal\n",
       "   sub-expressions: \n",
       "5. 2\n",
       "   core type: Literal\n",
       "   sub-expressions: "
      ]
     },
     "execution_count": 4,
     "metadata": {},
     "output_type": "execute_result"
    }
   ],
   "source": [
    "# display the expression information\n",
    "expr.exprInfo()"
   ]
  },
  {
   "cell_type": "code",
   "execution_count": null,
   "metadata": {},
   "outputs": [],
   "source": []
  }
 ],
 "metadata": {
  "kernelspec": {
   "display_name": "Python 3",
   "language": "python",
   "name": "python3"
  }
 },
 "nbformat": 4,
 "nbformat_minor": 0
}
