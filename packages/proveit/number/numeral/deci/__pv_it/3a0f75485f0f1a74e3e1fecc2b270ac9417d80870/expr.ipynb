{
 "cells": [
  {
   "cell_type": "markdown",
   "metadata": {},
   "source": [
    "Expression of type <a class=\"ProveItLink\" href=\"../../../../../../../doc/html/api/proveit.ExprTuple.html\">ExprTuple</a>\n",
    "=======================\n",
    "# from context <a class=\"ProveItLink\" href=\"../../_context_.ipynb\">proveit.number.numeral.deci</a>"
   ]
  },
  {
   "cell_type": "code",
   "execution_count": 1,
   "metadata": {},
   "outputs": [],
   "source": [
    "# import Expression classes needed to build the expression\n",
    "from proveit import ExprTuple\n",
    "from proveit.number import Mult, three, zero"
   ]
  },
  {
   "cell_type": "code",
   "execution_count": 2,
   "metadata": {},
   "outputs": [
    {
     "data": {
      "text/html": [
       "<strong id=\"expr\">expr:</strong> <a class=\"ProveItLink\" href=\"expr.ipynb\"><img src=\"data:image/png;base64,iVBORw0KGgoAAAANSUhEUgAAAEMAAAAVBAMAAADvM06qAAAAMFBMVEX////c3NwiIiJERESqqqqY\n",
       "mJh2dnZmZmYQEBDu7u4yMjJUVFTMzMyIiIi6uroAAAAs73DqAAAAAXRSTlMAQObYZgAAAVhJREFU\n",
       "KM+Nkj9Lw0Achp/WtvZqErM5KNjBTVEXZ/MN2slRioJOxU4VRMHBUWpwaTazOIhLP4BDJxcHiyCC\n",
       "f6A6uvgHrSBUvWuaS4dSzHB57+45fu9794N/fFZj0O6yGi6g+rCt14y1VSdQYuemznBdqhOY5bAe\n",
       "ImNY7UDFm2IGfDAbmFlMP0Q2HN4DdQW3sARpl3gN6y1EchqZhhcbD55htITx0eO/W+gLLh2GHMow\n",
       "WcBoR0im1vnFWhJpkCpxHCAtTZyfEiEFEj6VCBFuZ8+s9CLWLj9RoaNscP7A7SlkvCpE2f2Ui968\n",
       "HCZgMa/t5hWyhwqdCEOLXzdEZOicrQotoK4ulQ3dfsOcLbpXtwJJn3U5mcLTD3CN1QpcxR2xjwr9\n",
       "JCfV4pnOnNjccvBUXVG+kwczTdJ2vx541Eo+QLLQD8lrVQyaYQAiVAuM9yFMrUaUj9jAxryHP0um\n",
       "XCnEA5MEAAAAAElFTkSuQmCC\n",
       "\" style=\"display:inline;vertical-align:middle;\" /></a><br>"
      ],
      "text/plain": [
       "expr: (0 * 3 , 0)"
      ]
     },
     "execution_count": 2,
     "metadata": {},
     "output_type": "execute_result"
    }
   ],
   "source": [
    "# build up the expression from sub-expressions\n",
    "expr = ExprTuple(Mult(zero, three), zero)"
   ]
  },
  {
   "cell_type": "code",
   "execution_count": 3,
   "metadata": {},
   "outputs": [
    {
     "name": "stdout",
     "output_type": "stream",
     "text": [
      "Passed sanity check: built 'expr' is the same as the stored Expression.\n"
     ]
    }
   ],
   "source": [
    "# check that the built expression is the same as the stored expression\n",
    "%check_expr"
   ]
  },
  {
   "cell_type": "code",
   "execution_count": 4,
   "metadata": {},
   "outputs": [
    {
     "data": {
      "text/html": [
       "<table><tr><th>&nbsp;</th><th>core type</th><th>sub-expressions</th><th>expression</th></tr>\n",
       "<tr><td>0</td><td>ExprTuple</td><td>1, 4</td><td><a class=\"ProveItLink\" href=\"expr.ipynb\"><img src=\"data:image/png;base64,iVBORw0KGgoAAAANSUhEUgAAAEMAAAAVBAMAAADvM06qAAAAMFBMVEX////c3NwiIiJERESqqqqY\n",
       "mJh2dnZmZmYQEBDu7u4yMjJUVFTMzMyIiIi6uroAAAAs73DqAAAAAXRSTlMAQObYZgAAAVhJREFU\n",
       "KM+Nkj9Lw0Achp/WtvZqErM5KNjBTVEXZ/MN2slRioJOxU4VRMHBUWpwaTazOIhLP4BDJxcHiyCC\n",
       "f6A6uvgHrSBUvWuaS4dSzHB57+45fu9794N/fFZj0O6yGi6g+rCt14y1VSdQYuemznBdqhOY5bAe\n",
       "ImNY7UDFm2IGfDAbmFlMP0Q2HN4DdQW3sARpl3gN6y1EchqZhhcbD55htITx0eO/W+gLLh2GHMow\n",
       "WcBoR0im1vnFWhJpkCpxHCAtTZyfEiEFEj6VCBFuZ8+s9CLWLj9RoaNscP7A7SlkvCpE2f2Ui968\n",
       "HCZgMa/t5hWyhwqdCEOLXzdEZOicrQotoK4ulQ3dfsOcLbpXtwJJn3U5mcLTD3CN1QpcxR2xjwr9\n",
       "JCfV4pnOnNjccvBUXVG+kwczTdJ2vx541Eo+QLLQD8lrVQyaYQAiVAuM9yFMrUaUj9jAxryHP0um\n",
       "XCnEA5MEAAAAAElFTkSuQmCC\n",
       "\" style=\"display:inline;vertical-align:middle;\" /></a></td></tr>\n",
       "<tr><td>1</td><td>Operation</td><td>operator:&nbsp;2<br>operands:&nbsp;3<br></td><td><a class=\"ProveItLink\" href=\"../73bab7e11f148aba88d5be44cdc07ca4b875da400/expr.ipynb\"><img src=\"data:image/png;base64,iVBORw0KGgoAAAANSUhEUgAAACMAAAAOBAMAAABXxbiCAAAAMFBMVEX///9EREQQEBCYmJh2dnaq\n",
       "qqrc3NxUVFQyMjK6uroiIiLMzMyIiIhmZmbu7u4AAADSWfX9AAAAAXRSTlMAQObYZgAAAJ9JREFU\n",
       "GNNjYHh75jYDDHC7OAYAqZUMrzbAhHIZOP8wMPAsYOBpgAn5BzD8YmDgKmDg/AYTigcL8V9g4P4K\n",
       "NwysMd+BgfsPQoijACL0BS6ypZ0BIcT3ACzGo4nQ+H4BRJ3+A7Dxn4HMRwJAIpuBQd4A5AhWmCP4\n",
       "/j8ACQGdyrIAZvoPBob1CQwMSxkewT10mIETZNVbn2q4G1jv3ghgAABf2i6DIaaUowAAAABJRU5E\n",
       "rkJggg==\n",
       "\" style=\"display:inline;vertical-align:middle;\" /></a></td></tr>\n",
       "<tr><td>2</td><td>Literal</td><td></td><td><a class=\"ProveItLink\" href=\"../../../../multiplication/__pv_it/21fd2079611555ecce512d99547a00d551e6b86b0/expr.ipynb\"><img src=\"data:image/png;base64,iVBORw0KGgoAAAANSUhEUgAAAAMAAAADBAMAAACkBqiMAAAAElBMVEX///9EREQQEBAiIiLu7u4A\n",
       "AABGBidwAAAAAXRSTlMAQObYZgAAABFJREFUCNdjYHFgcDVgcBIAAASWAQx4jI0xAAAAAElFTkSu\n",
       "QmCC\n",
       "\" style=\"display:inline;vertical-align:middle;\" /></a></td></tr>\n",
       "<tr><td>3</td><td>ExprTuple</td><td>4, 5</td><td><a class=\"ProveItLink\" href=\"../c61ef9628d8cd5a9bfbc091e87bbdf058ad967270/expr.ipynb\"><img src=\"data:image/png;base64,iVBORw0KGgoAAAANSUhEUgAAACkAAAAVBAMAAAAp9toTAAAAMFBMVEX////c3NwiIiJERESqqqqY\n",
       "mJh2dnZmZmYQEBDu7u4yMjJUVFTMzMyIiIi6uroAAAAs73DqAAAAAXRSTlMAQObYZgAAAQ1JREFU\n",
       "GNNtkSFPw1AUhT9gHStrH3UISJhAg5qm/wAUkiwhGWphChKCQKBZg9lkzcSC2Q9AVGEwMzhIFiQK\n",
       "CEyQDLj3tV3ShSdu7vnEeefeC/8/M5oDh1oeoPt8kQKveRSynEg3gG1uEkvXMFOIwR/h1/BjS09C\n",
       "PuAAKhGLQ8y7pXuW9uAVVtt4n/nf4rAUcgqbDbxpRleGUG7TT+kkhfe3Ukox1wWKL9pc8lN0oBPh\n",
       "vSnV374s2oDdfaVXaLKSTeb+RkrFoY5OUa4RCf6GnQAn5ljEFr3Elfg8YiY22YuIbusOtxNIprPz\n",
       "UDKPqQT5VHmjEzuNrHdmC26lmyxSV/e3nonZSapqtTB/oSf4A/EUQQgYGvjyAAAAAElFTkSuQmCC\n",
       "\" style=\"display:inline;vertical-align:middle;\" /></a></td></tr>\n",
       "<tr><td>4</td><td>Literal</td><td></td><td><a class=\"ProveItLink\" href=\"../../../__pv_it/ec23fc7a1b4222a5f4948b495002b97d6fa18c3c0/expr.ipynb\"><img src=\"data:image/png;base64,iVBORw0KGgoAAAANSUhEUgAAAAoAAAAOBAMAAADkjZCYAAAALVBMVEX///8QEBCYmJh2dnaqqqrc\n",
       "3NxUVFQyMjK6uroiIiLMzMyIiIhmZmbu7u4AAAAZjyHdAAAAAXRSTlMAQObYZgAAAEpJREFUCNdj\n",
       "YLiz+xQDA8MMhpsLGLgnMHAXMHAmMHA8ZeA7wMD1hCHOgIHrNZh8jES+Bss+AqlkeQrSxTyBgWEK\n",
       "w8UFDAx3rLMYAMCjFldHSx/9AAAAAElFTkSuQmCC\n",
       "\" style=\"display:inline;vertical-align:middle;\" /></a></td></tr>\n",
       "<tr><td>5</td><td>Literal</td><td></td><td><a class=\"ProveItLink\" href=\"../../../__pv_it/9176d93c83afa2c995b614976e3cb49207102fa70/expr.ipynb\"><img src=\"data:image/png;base64,iVBORw0KGgoAAAANSUhEUgAAAAoAAAAOBAMAAADkjZCYAAAAMFBMVEX///+YmJju7u4QEBBUVFQy\n",
       "MjIiIiKIiIi6urpmZmbc3NyqqqpERER2dnbMzMwAAAB0GlNiAAAAAXRSTlMAQObYZgAAAE1JREFU\n",
       "CNdjYHh79zQDA9cEhv4CBt7fDPwJDNxgEgiAIkAQAsR8Vx1ATIbiBhDJ/ImB6wEDz0cG/U8gkj+A\n",
       "ge0XA7sAQ/8FBoadM6MZAEflFACalZ/OAAAAAElFTkSuQmCC\n",
       "\" style=\"display:inline;vertical-align:middle;\" /></a></td></tr>\n",
       "</table>\n"
      ],
      "text/plain": [
       "0. (0 * 3 , 0)\n",
       "   core type: ExprTuple\n",
       "   sub-expressions: 1, 4\n",
       "1. 0 * 3\n",
       "   core type: Operation\n",
       "   operator: 2\n",
       "   operands: 3\n",
       "2. *\n",
       "   core type: Literal\n",
       "   sub-expressions: \n",
       "3. (0 , 3)\n",
       "   core type: ExprTuple\n",
       "   sub-expressions: 4, 5\n",
       "4. 0\n",
       "   core type: Literal\n",
       "   sub-expressions: \n",
       "5. 3\n",
       "   core type: Literal\n",
       "   sub-expressions: "
      ]
     },
     "execution_count": 4,
     "metadata": {},
     "output_type": "execute_result"
    }
   ],
   "source": [
    "# display the expression information\n",
    "expr.exprInfo()"
   ]
  },
  {
   "cell_type": "code",
   "execution_count": null,
   "metadata": {},
   "outputs": [],
   "source": []
  }
 ],
 "metadata": {
  "kernelspec": {
   "display_name": "Python 3",
   "language": "python",
   "name": "python3"
  }
 },
 "nbformat": 4,
 "nbformat_minor": 0
}
