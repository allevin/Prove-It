{
 "cells": [
  {
   "cell_type": "markdown",
   "metadata": {},
   "source": [
    "Theorem <a class=\"ProveItLink\" href=\"../../_theorems_.ipynb#add_7_0\">add_7_0</a> of type <a class=\"ProveItLink\" href=\"../../../../../../../doc/html/api/proveit.logic.Equals.html\">Equals</a>\n",
    "=======================\n",
    "# from context <a class=\"ProveItLink\" href=\"../../_context_.ipynb\">proveit.number.numeral.deci</a>\n",
    "*** see <a class=\"ProveItLink\" href=\"dependencies.ipynb\">dependencies</a> ***"
   ]
  },
  {
   "cell_type": "code",
   "execution_count": 1,
   "metadata": {},
   "outputs": [],
   "source": [
    "# import the special expression\n",
    "from proveit.number.numeral.deci._theorems_ import add_7_0"
   ]
  },
  {
   "cell_type": "code",
   "execution_count": 2,
   "metadata": {},
   "outputs": [
    {
     "name": "stdout",
     "output_type": "stream",
     "text": [
      "Passed sanity check: built 'add_7_0' is the same as the stored Expression.\n"
     ]
    }
   ],
   "source": [
    "# check that the built expression is the same as the stored expression\n",
    "%check_expr add_7_0"
   ]
  },
  {
   "cell_type": "code",
   "execution_count": 3,
   "metadata": {},
   "outputs": [
    {
     "data": {
      "text/html": [
       "<table><tr><th>&nbsp;</th><th>core type</th><th>sub-expressions</th><th>expression</th></tr>\n",
       "<tr><td>0</td><td>Operation</td><td>operator:&nbsp;1<br>operands:&nbsp;2<br></td><td><a class=\"ProveItLink\" href=\"expr.ipynb\"><img src=\"data:image/png;base64,iVBORw0KGgoAAAANSUhEUgAAAGIAAAAVBAMAAABPrCZEAAAAMFBMVEX////c3NwiIiJERESqqqqY\n",
       "mJh2dnZmZmYQEBDu7u4yMjJUVFTMzMyIiIi6uroAAAAs73DqAAAAAXRSTlMAQObYZgAAAV9JREFU\n",
       "OMtjYCAd8F3AIRGHS8dpBh71tLQ0FDHO2usHGNgPoCs9VJaWlsDAsJKB9f///79RpJgecOowMCxA\n",
       "1xEPVLiBgfcCA9sEBoYNELGJEOoSA8MtBoYwdB2ZDAzcDAwcExjYGBjYoC7whVDaDAzvBRhmoOsA\n",
       "uiiHgeEVmP2WAUXHdwaG8w4MzA5Yg6kM7FMDFB2M34A6gK4twNAxGYiXghjsDpg6EhhYwF5nXwUG\n",
       "EI+WAHEfiDGfAZsOvgZ0Kzg/AIl/INYtBmyu4vmAroN3AUyHNphftWqVxqpVq6E+D8CigwnkthaQ\n",
       "Zd9R7QCZ4C8AdRW7EhiAw2Y+KCxMQWGGrgMYg0kMDKwYkf4epCMdiFnQdTA5cPYwYAldf5DIIyDm\n",
       "+Yqmg7PsNjARcD1A1wH0HDCVCCAL+SJzZmBP7KwJyLy3yJxcHPljJa6Mw7kAh4Q0Lh3cAjgkGHHl\n",
       "2jvYhQH7zF29wHov0AAAAABJRU5ErkJggg==\n",
       "\" style=\"display:inline;vertical-align:middle;\" /></a></td></tr>\n",
       "<tr><td>1</td><td>Literal</td><td></td><td><a class=\"ProveItLink\" href=\"../../../../../logic/equality/__pv_it/2fb26078095930560931daa0500ce419a39ea6cd0/expr.ipynb\"><img src=\"data:image/png;base64,iVBORw0KGgoAAAANSUhEUgAAAA4AAAAFBAMAAACHocAhAAAAFVBMVEX///9EREQiIiJUVFQyMjJm\n",
       "ZmYAAADubVkoAAAAAXRSTlMAQObYZgAAABRJREFUCNdjCHEBAWcGXCBICQQUAUpuAwlgGKrkAAAA\n",
       "AElFTkSuQmCC\n",
       "\" style=\"display:inline;vertical-align:middle;\" /></a></td></tr>\n",
       "<tr><td>2</td><td>ExprTuple</td><td>3, 6</td><td><a class=\"ProveItLink\" href=\"../516fb81c4e806acd14fcb91d4746aa0141e73ec10/expr.ipynb\"><img src=\"data:image/png;base64,iVBORw0KGgoAAAANSUhEUgAAAE0AAAAVBAMAAADx+n4ZAAAAMFBMVEX////c3NwiIiJERESqqqqY\n",
       "mJh2dnZmZmYQEBDu7u4yMjJUVFTMzMyIiIi6uroAAAAs73DqAAAAAXRSTlMAQObYZgAAAVhJREFU\n",
       "KM+NkjFLw0AUx/9qc21sUrs72EFQEMTFvV+g6OSomSKChQzSQRwcnDXq0G7N4mBc8gEcQlcHO4uC\n",
       "OArFKlYH0XjvLhxJJNSDu/e/e7/cy3v3gP+OSn8ssknLDYwF27bTnvbDgRS9lm1bxZCrS2hRFH2l\n",
       "uWWchUJscV8ADzD7YC4QSP+pNGYNpifUDlAGNoCSCwYw+TUa0kwGqLwKZQG7QAd4FtsBUtyMA+M9\n",
       "kedUHS3S+kqam7NgfMdH53wyBxeki/W/3Ed8tMdnwcMx6S5yOX1IsQ/xQ5s75MYVeRtDyS2Jo33f\n",
       "X/T9qziPkUpdcEd092fmPu4syLqg68i4q2SyHK8zq8El+UKc5mGb0slymEcn1N9IrTmyLk8UfpTl\n",
       "2s1r6CdVrm7X+TL9iFI1+f6NVMcpF383zUq6BsmNplRT9FXeUJxONZzN5VSjl+kHJsb3/T3wC3/v\n",
       "VycwXNJ/AAAAAElFTkSuQmCC\n",
       "\" style=\"display:inline;vertical-align:middle;\" /></a></td></tr>\n",
       "<tr><td>3</td><td>Operation</td><td>operator:&nbsp;4<br>operands:&nbsp;5<br></td><td><a class=\"ProveItLink\" href=\"../87d5d27abdb7a8d482b2a4fcdc70337e0dc360890/expr.ipynb\"><img src=\"data:image/png;base64,iVBORw0KGgoAAAANSUhEUgAAACwAAAAQBAMAAACfEoDkAAAAMFBMVEX///8QEBDc3NwyMjKqqqpE\n",
       "RESIiIi6urru7u5UVFSYmJh2dnZmZmYiIiLMzMwAAACwhPg6AAAAAXRSTlMAQObYZgAAAKRJREFU\n",
       "GNNjeHt69+4NDMigJ+0cA8P6////T0ARvs7Q+4BhBwMDJ4TLoQCm2C4wsBkwAA3YBxFmSQBTvBMY\n",
       "2D8BafYEFGH+Awx8X4B0KwOKsP4GBr5vQPoIpvBvoE0fsAoDrcVmCC/Y1TzGxrbCxsYTIFb+YmDo\n",
       "P8CA7kAWoAPr0YSB3uG+wMDgjybMcIWh8QEDw/sFaMI92+YhBxFMGA2wIwkDANlkMsFaXnBLAAAA\n",
       "AElFTkSuQmCC\n",
       "\" style=\"display:inline;vertical-align:middle;\" /></a></td></tr>\n",
       "<tr><td>4</td><td>Literal</td><td></td><td><a class=\"ProveItLink\" href=\"../../../../addition/__pv_it/3e6688136fa3c7aefbebe51301b7c3ebf0b69c440/expr.ipynb\"><img src=\"data:image/png;base64,iVBORw0KGgoAAAANSUhEUgAAAA4AAAAOBAMAAADtZjDiAAAAJFBMVEX///+6urpUVFQQEBAiIiIy\n",
       "MjJmZmaIiIiqqqrc3Nzu7u4AAACgHpL+AAAAAXRSTlMAQObYZgAAAB5JREFUCNdjYGBgWMkAAe2k\n",
       "0Kmhoc6hoUGk6BMHYgAHOwjcado9fwAAAABJRU5ErkJggg==\n",
       "\" style=\"display:inline;vertical-align:middle;\" /></a></td></tr>\n",
       "<tr><td>5</td><td>ExprTuple</td><td>6, 7</td><td><a class=\"ProveItLink\" href=\"../ea94dcb4b10beb009375fced108115fd44d0347e0/expr.ipynb\"><img src=\"data:image/png;base64,iVBORw0KGgoAAAANSUhEUgAAACkAAAAVBAMAAAAp9toTAAAAMFBMVEX////c3NwiIiJERESqqqqY\n",
       "mJh2dnZmZmYQEBDu7u4yMjJUVFTMzMyIiIi6uroAAAAs73DqAAAAAXRSTlMAQObYZgAAAQRJREFU\n",
       "GNNtkT1PwlAUhh+EFi5W0t0f4ACDC3v/AU6OhjjUiYSJzcTB0UhHN7s4sPETujNIXEzQgTiaGI2J\n",
       "MJBYz7ktH2m8w8l5n5uc9573wv+nMS2AMy0TvKMwDC0wl88J1US6EU6apitL9+amBTEcTHEjGFv6\n",
       "BDM4hVqEC25iaRM+fe7g3cqPzGgJjwHlgIF1ObawtBAqE/s8qKwGW9qlEnOr8p5d2rjiV+WM3Qne\n",
       "V0abbN1OlF6r2TKnctvxdUJbo1AaZVucgxNzIaIi1HzrxoG5QV/2JsL7ETr0pQxeZMn6nJq/TnTd\n",
       "6MZON++dTcA9m2SBGkmSw1xsvmRfR5WKP/QKfzz/QjeTDjmjAAAAAElFTkSuQmCC\n",
       "\" style=\"display:inline;vertical-align:middle;\" /></a></td></tr>\n",
       "<tr><td>6</td><td>Literal</td><td></td><td><a class=\"ProveItLink\" href=\"../../../__pv_it/44c347496acc279b31e97f8859fc6a0a1e31c26b0/expr.ipynb\"><img src=\"data:image/png;base64,iVBORw0KGgoAAAANSUhEUgAAAAoAAAAOBAMAAADkjZCYAAAAKlBMVEX///8yMjKqqqpERESIiIi6\n",
       "urru7u5UVFSYmJh2dnZmZmYiIiLMzMwAAACZcOxaAAAAAXRSTlMAQObYZgAAAEVJREFUCNdjOL1y\n",
       "5swJDL13794tYJjGwMDOwDCBgWEOAxCwOoDIZBDBsAhEsF0AkSwCIJK7AETmLgCRsWBSF0yebWBg\n",
       "AAAo0Q9n+lHhAQAAAABJRU5ErkJggg==\n",
       "\" style=\"display:inline;vertical-align:middle;\" /></a></td></tr>\n",
       "<tr><td>7</td><td>Literal</td><td></td><td><a class=\"ProveItLink\" href=\"../../../__pv_it/ec23fc7a1b4222a5f4948b495002b97d6fa18c3c0/expr.ipynb\"><img src=\"data:image/png;base64,iVBORw0KGgoAAAANSUhEUgAAAAoAAAAOBAMAAADkjZCYAAAALVBMVEX///8QEBCYmJh2dnaqqqrc\n",
       "3NxUVFQyMjK6uroiIiLMzMyIiIhmZmbu7u4AAAAZjyHdAAAAAXRSTlMAQObYZgAAAEpJREFUCNdj\n",
       "YLiz+xQDA8MMhpsLGLgnMHAXMHAmMHA8ZeA7wMD1hCHOgIHrNZh8jES+Bss+AqlkeQrSxTyBgWEK\n",
       "w8UFDAx3rLMYAMCjFldHSx/9AAAAAElFTkSuQmCC\n",
       "\" style=\"display:inline;vertical-align:middle;\" /></a></td></tr>\n",
       "</table>\n"
      ],
      "text/plain": [
       "0. (7 + 0) = 7\n",
       "   core type: Operation\n",
       "   operator: 1\n",
       "   operands: 2\n",
       "1. =\n",
       "   core type: Literal\n",
       "   sub-expressions: \n",
       "2. (7 + 0 , 7)\n",
       "   core type: ExprTuple\n",
       "   sub-expressions: 3, 6\n",
       "3. 7 + 0\n",
       "   core type: Operation\n",
       "   operator: 4\n",
       "   operands: 5\n",
       "4. +\n",
       "   core type: Literal\n",
       "   sub-expressions: \n",
       "5. (7 , 0)\n",
       "   core type: ExprTuple\n",
       "   sub-expressions: 6, 7\n",
       "6. 7\n",
       "   core type: Literal\n",
       "   sub-expressions: \n",
       "7. 0\n",
       "   core type: Literal\n",
       "   sub-expressions: "
      ]
     },
     "execution_count": 3,
     "metadata": {},
     "output_type": "execute_result"
    }
   ],
   "source": [
    "# display the expression information\n",
    "add_7_0.exprInfo()"
   ]
  },
  {
   "cell_type": "code",
   "execution_count": null,
   "metadata": {},
   "outputs": [],
   "source": []
  }
 ],
 "metadata": {
  "kernelspec": {
   "display_name": "Python 3",
   "language": "python",
   "name": "python3"
  }
 },
 "nbformat": 4,
 "nbformat_minor": 0
}
