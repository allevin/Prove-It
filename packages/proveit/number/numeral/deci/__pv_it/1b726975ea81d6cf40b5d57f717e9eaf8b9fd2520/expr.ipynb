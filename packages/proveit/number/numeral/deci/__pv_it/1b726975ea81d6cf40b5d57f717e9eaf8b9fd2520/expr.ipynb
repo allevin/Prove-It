{
 "cells": [
  {
   "cell_type": "markdown",
   "metadata": {},
   "source": [
    "Theorem <a class=\"ProveItLink\" href=\"../../_theorems_.ipynb#add_6_3\">add_6_3</a> of type <a class=\"ProveItLink\" href=\"../../../../../../../doc/html/api/proveit.logic.Equals.html\">Equals</a>\n",
    "=======================\n",
    "# from context <a class=\"ProveItLink\" href=\"../../_context_.ipynb\">proveit.number.numeral.deci</a>\n",
    "*** see <a class=\"ProveItLink\" href=\"dependencies.ipynb\">dependencies</a> ***"
   ]
  },
  {
   "cell_type": "code",
   "execution_count": 1,
   "metadata": {},
   "outputs": [],
   "source": [
    "# import the special expression\n",
    "from proveit.number.numeral.deci._theorems_ import add_6_3"
   ]
  },
  {
   "cell_type": "code",
   "execution_count": 2,
   "metadata": {},
   "outputs": [
    {
     "name": "stdout",
     "output_type": "stream",
     "text": [
      "Passed sanity check: built 'add_6_3' is the same as the stored Expression.\n"
     ]
    }
   ],
   "source": [
    "# check that the built expression is the same as the stored expression\n",
    "%check_expr add_6_3"
   ]
  },
  {
   "cell_type": "code",
   "execution_count": 3,
   "metadata": {},
   "outputs": [
    {
     "data": {
      "text/html": [
       "<table><tr><th>&nbsp;</th><th>core type</th><th>sub-expressions</th><th>expression</th></tr>\n",
       "<tr><td>0</td><td>Operation</td><td>operator:&nbsp;1<br>operands:&nbsp;2<br></td><td><a class=\"ProveItLink\" href=\"expr.ipynb\"><img src=\"data:image/png;base64,iVBORw0KGgoAAAANSUhEUgAAAGEAAAAVBAMAAACkm51HAAAAMFBMVEX////c3NwiIiJERESqqqqY\n",
       "mJh2dnZmZmYQEBDu7u4yMjJUVFTMzMyIiIi6uroAAAAs73DqAAAAAXRSTlMAQObYZgAAAYBJREFU\n",
       "OMuVk79Lw0AUx7/Vpm3SNg0uCjoUQXHTQcXN/APFTG6KILSDiA5ipYsVnDVuxcUsDo0OgkM3yeTi\n",
       "UgS3SoujIBQVoYI/XhKR5JkbfMPdvffuc+/H3QH/F7UpcCyLiBtALhWdkC1TXNWRdPhWubHm2urA\n",
       "gJPOh1yDUD8AixNDemwPyFJS41B+vEf+tKHjGVjkxBxwCaRMSL1fW8GfFjyixol3OsvEI6BUOQEv\n",
       "q36dlfECtDvYBnLn91ucUC6AxGZEDAOnwMkY+owwcX1GQ9wrLml7QidgB5hv4oCILhI9FiNLdrXK\n",
       "Yhwb8d0mPonIQ3plBA5NZLq89KVWW3eJnAWJCkXFtids281nhMIbEYTXq33qCY8hf5ku4WeVHPVk\n",
       "yt9gAzNU4Z86qCmTGiR+6W0tRimVaDWLWrhXd1DfIrp7ayr0Qh7cwI2r8H3EyxW6PaXDiER5msaU\n",
       "FrQVgkot+rFLK0HtKaisC/5HXfRxZEvgGBYRaU3giIl+bSva/A3DTGJ9TjKpHQAAAABJRU5ErkJg\n",
       "gg==\n",
       "\" style=\"display:inline;vertical-align:middle;\" /></a></td></tr>\n",
       "<tr><td>1</td><td>Literal</td><td></td><td><a class=\"ProveItLink\" href=\"../../../../../logic/equality/__pv_it/2fb26078095930560931daa0500ce419a39ea6cd0/expr.ipynb\"><img src=\"data:image/png;base64,iVBORw0KGgoAAAANSUhEUgAAAA4AAAAFBAMAAACHocAhAAAAFVBMVEX///9EREQiIiJUVFQyMjJm\n",
       "ZmYAAADubVkoAAAAAXRSTlMAQObYZgAAABRJREFUCNdjCHEBAWcGXCBICQQUAUpuAwlgGKrkAAAA\n",
       "AElFTkSuQmCC\n",
       "\" style=\"display:inline;vertical-align:middle;\" /></a></td></tr>\n",
       "<tr><td>2</td><td>ExprTuple</td><td>3, 4</td><td><a class=\"ProveItLink\" href=\"../5c01301fb8e4ac4ae27c96646f9c458bd22b15600/expr.ipynb\"><img src=\"data:image/png;base64,iVBORw0KGgoAAAANSUhEUgAAAE0AAAAVBAMAAADx+n4ZAAAAMFBMVEX////c3NwiIiJERESqqqqY\n",
       "mJh2dnZmZmYQEBDu7u4yMjJUVFTMzMyIiIi6uroAAAAs73DqAAAAAXRSTlMAQObYZgAAAXVJREFU\n",
       "KM+Nkj1LA0EQhp9LcjEX84WVYGOj+ANU7ExnFbjKTkmVgCJaiIqNCtZ6dsEmV2jhaSFY2EkqG5tg\n",
       "ZRFJsBQk8auIoDjn6pFLCHGL3ZmbZ2Z2517470qUeyLz7nYDRj5X8keuc+PKMC4XS/S50RMYKPUP\n",
       "+zBthbpqM5jWdsCGuPijRG0FHKgj/EZSZU7BBcxCxEJveoUy6gh53AcsWxTgEaLb7Zws1dd4hWqN\n",
       "YJo1SJ7dr3Zwp3j1TMIrHENxhIDp52IL58rYgOkyIZs94RqEm+317mo/x6EZ2iqT2OZLuGH0t3Yu\n",
       "8ps5V6mmiTVcLmmjf8qnTccZcxz3YlqJ4PtfhrxXuF0IdtQrNls4B7fvhEyr437SIfCMJVY1pUlH\n",
       "3SYvziQF/3vjJvWs8SLWrRWVQcpcHsTpu7xqm9/M+hHGfkqIdVcQ0RqRVKsAMj7FeSH5b3q2NfTU\n",
       "6uietaR01WV5nOGqaagr5wm9372A1lv3FfgGN6BjshOjU4QAAAAASUVORK5CYII=\n",
       "\" style=\"display:inline;vertical-align:middle;\" /></a></td></tr>\n",
       "<tr><td>3</td><td>Operation</td><td>operator:&nbsp;5<br>operands:&nbsp;6<br></td><td><a class=\"ProveItLink\" href=\"../87aba077684002c6b99873866cf71c87c7f8fd010/expr.ipynb\"><img src=\"data:image/png;base64,iVBORw0KGgoAAAANSUhEUgAAAC0AAAAQBAMAAABw0OvaAAAAMFBMVEX///+6urpERESqqqqIiIgQ\n",
       "EBCYmJgyMjJUVFQiIiLc3NzMzMxmZmZ2dnbu7u4AAABf+mkYAAAAAXRSTlMAQObYZgAAALNJREFU\n",
       "GNNjYOC7c3cDAzLgvnvJAEit3MAxAUV8DQPjFyA1l4G9ACLwCkLdN2D4ycDA9g+u0ARC2YPF2QPQ\n",
       "xRnA5vBXuxxGF2dvYGB4P42BMwFVfG8FkHj/gYH3H5p6lkCg+AQGts9o4gzxDxj4CxjYQM49Xl4+\n",
       "tbwcZMJqBgb9BAYmdPV8/x+AxJkxzP/OwDB/AQODLsNTVPe4MTD+BVI8PY2o7mc+c9wAJcBMGLAD\n",
       "ESQ2AH8RMmZHtBEDAAAAAElFTkSuQmCC\n",
       "\" style=\"display:inline;vertical-align:middle;\" /></a></td></tr>\n",
       "<tr><td>4</td><td>Literal</td><td></td><td><a class=\"ProveItLink\" href=\"../../../__pv_it/cdcd6ad997b4d5c13a719b005810863ba48ff0c70/expr.ipynb\"><img src=\"data:image/png;base64,iVBORw0KGgoAAAANSUhEUgAAAAoAAAAOBAMAAADkjZCYAAAAMFBMVEX///8iIiKYmJi6urqIiIgy\n",
       "MjJERESqqqoQEBDc3NzMzMx2dnZmZmZUVFTu7u4AAABn2L4sAAAAAXRSTlMAQObYZgAAAFVJREFU\n",
       "CNdjYHh7+hYDA2c7w4wJDGwNDLwJDPwBDNz/GN4nMLB8BrM/MfA0MLB9YeALYqj5wsDA5LLkOwMQ\n",
       "ANUAAWsAA8tPhvkGDCxyDCFA/p5jBQwAtzwVEbGPESsAAAAASUVORK5CYII=\n",
       "\" style=\"display:inline;vertical-align:middle;\" /></a></td></tr>\n",
       "<tr><td>5</td><td>Literal</td><td></td><td><a class=\"ProveItLink\" href=\"../../../../addition/__pv_it/3e6688136fa3c7aefbebe51301b7c3ebf0b69c440/expr.ipynb\"><img src=\"data:image/png;base64,iVBORw0KGgoAAAANSUhEUgAAAA4AAAAOBAMAAADtZjDiAAAAJFBMVEX///+6urpUVFQQEBAiIiIy\n",
       "MjJmZmaIiIiqqqrc3Nzu7u4AAACgHpL+AAAAAXRSTlMAQObYZgAAAB5JREFUCNdjYGBgWMkAAe2k\n",
       "0Kmhoc6hoUGk6BMHYgAHOwjcado9fwAAAABJRU5ErkJggg==\n",
       "\" style=\"display:inline;vertical-align:middle;\" /></a></td></tr>\n",
       "<tr><td>6</td><td>ExprTuple</td><td>7, 8</td><td><a class=\"ProveItLink\" href=\"../a9ec708cde5c2612754e5b5cf8f0254c8bf4e2180/expr.ipynb\"><img src=\"data:image/png;base64,iVBORw0KGgoAAAANSUhEUgAAACkAAAAVBAMAAAAp9toTAAAAMFBMVEX////c3NwiIiJERESqqqqY\n",
       "mJh2dnZmZmYQEBDu7u4yMjJUVFTMzMyIiIi6uroAAAAs73DqAAAAAXRSTlMAQObYZgAAARFJREFU\n",
       "GNNtkSFPAzEUgD8Y3dbbdrvMIEDMgEWB5f4Bp5CEhGRTCwgCCWoCzU7OUYMgIHA4MoXBYHCQEOTU\n",
       "QpYlLBnstVsXWKho3vvSfu+9Fv5f4fMc2LPbE+h6reNAsXYQk7PxNVQ6haqjy4QjMFASwTqBcfQw\n",
       "5hN2IZ+ivrxyx9E2dCFo/qothkzMCZRv3449De4ge8QVXK6xmEzg441sS4YLoT2yXl2SPGzyLbSK\n",
       "6ntFK6XYs7RsUCOHVmE7sfRcavqz+ie1VAybYnfeVPAQNiKUoS7JFu1ES/u8EA5cZx+S5O4f0K1I\n",
       "bp2exdLzO/nIT+UDO7Han8ZqNnVj8pJ/qbbvtzJNZl9SsKqF+R96hTFKhEBzHZP+7gAAAABJRU5E\n",
       "rkJggg==\n",
       "\" style=\"display:inline;vertical-align:middle;\" /></a></td></tr>\n",
       "<tr><td>7</td><td>Literal</td><td></td><td><a class=\"ProveItLink\" href=\"../../../__pv_it/09b499e53e24cf89c2513ba78b501f0314edaa680/expr.ipynb\"><img src=\"data:image/png;base64,iVBORw0KGgoAAAANSUhEUgAAAAoAAAAOBAMAAADkjZCYAAAAMFBMVEX///+6urpERESqqqqIiIgQ\n",
       "EBCYmJgyMjJUVFQiIiLc3NzMzMxmZmZ2dnbu7u4AAABf+mkYAAAAAXRSTlMAQObYZgAAAFNJREFU\n",
       "CNdjYOC7c3cDA8PKDRwTGBjmMrAXMLD9YwAC9gAQyV/tcpiB4f00Bs4EhvcfGHj/MbyfwMD2mYEf\n",
       "qOwLAxOYzQwWZ9BleJrAwMDT08gAANMyF0ZGTeKAAAAAAElFTkSuQmCC\n",
       "\" style=\"display:inline;vertical-align:middle;\" /></a></td></tr>\n",
       "<tr><td>8</td><td>Literal</td><td></td><td><a class=\"ProveItLink\" href=\"../../../__pv_it/9176d93c83afa2c995b614976e3cb49207102fa70/expr.ipynb\"><img src=\"data:image/png;base64,iVBORw0KGgoAAAANSUhEUgAAAAoAAAAOBAMAAADkjZCYAAAAMFBMVEX///+YmJju7u4QEBBUVFQy\n",
       "MjIiIiKIiIi6urpmZmbc3NyqqqpERER2dnbMzMwAAAB0GlNiAAAAAXRSTlMAQObYZgAAAE1JREFU\n",
       "CNdjYHh79zQDA9cEhv4CBt7fDPwJDNxgEgiAIkAQAsR8Vx1ATIbiBhDJ/ImB6wEDz0cG/U8gkj+A\n",
       "ge0XA7sAQ/8FBoadM6MZAEflFACalZ/OAAAAAElFTkSuQmCC\n",
       "\" style=\"display:inline;vertical-align:middle;\" /></a></td></tr>\n",
       "</table>\n"
      ],
      "text/plain": [
       "0. (6 + 3) = 9\n",
       "   core type: Operation\n",
       "   operator: 1\n",
       "   operands: 2\n",
       "1. =\n",
       "   core type: Literal\n",
       "   sub-expressions: \n",
       "2. (6 + 3 , 9)\n",
       "   core type: ExprTuple\n",
       "   sub-expressions: 3, 4\n",
       "3. 6 + 3\n",
       "   core type: Operation\n",
       "   operator: 5\n",
       "   operands: 6\n",
       "4. 9\n",
       "   core type: Literal\n",
       "   sub-expressions: \n",
       "5. +\n",
       "   core type: Literal\n",
       "   sub-expressions: \n",
       "6. (6 , 3)\n",
       "   core type: ExprTuple\n",
       "   sub-expressions: 7, 8\n",
       "7. 6\n",
       "   core type: Literal\n",
       "   sub-expressions: \n",
       "8. 3\n",
       "   core type: Literal\n",
       "   sub-expressions: "
      ]
     },
     "execution_count": 3,
     "metadata": {},
     "output_type": "execute_result"
    }
   ],
   "source": [
    "# display the expression information\n",
    "add_6_3.exprInfo()"
   ]
  },
  {
   "cell_type": "code",
   "execution_count": null,
   "metadata": {},
   "outputs": [],
   "source": []
  }
 ],
 "metadata": {
  "kernelspec": {
   "display_name": "Python 3",
   "language": "python",
   "name": "python3"
  }
 },
 "nbformat": 4,
 "nbformat_minor": 0
}
