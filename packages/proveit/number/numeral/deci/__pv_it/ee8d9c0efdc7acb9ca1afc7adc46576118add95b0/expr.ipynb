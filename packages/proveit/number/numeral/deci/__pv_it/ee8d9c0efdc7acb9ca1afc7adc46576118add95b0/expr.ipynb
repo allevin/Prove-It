{
 "cells": [
  {
   "cell_type": "markdown",
   "metadata": {},
   "source": [
    "Expression of type <a class=\"ProveItLink\" href=\"../../../../../../../doc/html/api/proveit.number.Mult.html\">Mult</a>\n",
    "=======================\n",
    "# from context <a class=\"ProveItLink\" href=\"../../_context_.ipynb\">proveit.number.numeral.deci</a>"
   ]
  },
  {
   "cell_type": "code",
   "execution_count": 1,
   "metadata": {},
   "outputs": [],
   "source": [
    "# import Expression classes needed to build the expression\n",
    "from proveit.number import Mult, seven"
   ]
  },
  {
   "cell_type": "code",
   "execution_count": 2,
   "metadata": {},
   "outputs": [
    {
     "data": {
      "text/html": [
       "<strong id=\"expr\">expr:</strong> <a class=\"ProveItLink\" href=\"expr.ipynb\"><img src=\"data:image/png;base64,iVBORw0KGgoAAAANSUhEUgAAACMAAAAOBAMAAABXxbiCAAAALVBMVEX///8QEBAyMjKqqqpERESI\n",
       "iIi6urru7u5UVFSYmJh2dnZmZmYiIiLMzMwAAAACOUT4AAAAAXRSTlMAQObYZgAAAIZJREFUGNNj\n",
       "uLNr1aoFDBDAe3rVqlUMDPPevXvXABXiBLJfMDAsZ2DggIowcBUwMAClgZrWwoWA6AKIwRbAgACp\n",
       "YLIESYTdAUxtRhLiNgBLPABzysFkHZhkVQBLvAFzgsAkD9hV7CJgzgmI2g1Ipr8GU3lIQmwQITsk\n",
       "IWaI0L0JCCHel0ACAGZ/IWYWXR3hAAAAAElFTkSuQmCC\n",
       "\" style=\"display:inline;vertical-align:middle;\" /></a><br>"
      ],
      "text/plain": [
       "expr: 7 * 7"
      ]
     },
     "execution_count": 2,
     "metadata": {},
     "output_type": "execute_result"
    }
   ],
   "source": [
    "# build up the expression from sub-expressions\n",
    "expr = Mult(seven, seven)"
   ]
  },
  {
   "cell_type": "code",
   "execution_count": 3,
   "metadata": {},
   "outputs": [
    {
     "name": "stdout",
     "output_type": "stream",
     "text": [
      "Passed sanity check: built 'expr' is the same as the stored Expression.\n"
     ]
    }
   ],
   "source": [
    "# check that the built expression is the same as the stored expression\n",
    "%check_expr"
   ]
  },
  {
   "cell_type": "code",
   "execution_count": 4,
   "metadata": {},
   "outputs": [
    {
     "data": {
      "text/html": [
       "<table><tr><th>&nbsp;</th><th>core type</th><th>sub-expressions</th><th>expression</th></tr>\n",
       "<tr><td>0</td><td>Operation</td><td>operator:&nbsp;1<br>operands:&nbsp;2<br></td><td><a class=\"ProveItLink\" href=\"expr.ipynb\"><img src=\"data:image/png;base64,iVBORw0KGgoAAAANSUhEUgAAACMAAAAOBAMAAABXxbiCAAAALVBMVEX///8QEBAyMjKqqqpERESI\n",
       "iIi6urru7u5UVFSYmJh2dnZmZmYiIiLMzMwAAAACOUT4AAAAAXRSTlMAQObYZgAAAIZJREFUGNNj\n",
       "uLNr1aoFDBDAe3rVqlUMDPPevXvXABXiBLJfMDAsZ2DggIowcBUwMAClgZrWwoWA6AKIwRbAgACp\n",
       "YLIESYTdAUxtRhLiNgBLPABzysFkHZhkVQBLvAFzgsAkD9hV7CJgzgmI2g1Ipr8GU3lIQmwQITsk\n",
       "IWaI0L0JCCHel0ACAGZ/IWYWXR3hAAAAAElFTkSuQmCC\n",
       "\" style=\"display:inline;vertical-align:middle;\" /></a></td></tr>\n",
       "<tr><td>1</td><td>Literal</td><td></td><td><a class=\"ProveItLink\" href=\"../../../../multiplication/__pv_it/21fd2079611555ecce512d99547a00d551e6b86b0/expr.ipynb\"><img src=\"data:image/png;base64,iVBORw0KGgoAAAANSUhEUgAAAAMAAAADBAMAAACkBqiMAAAAElBMVEX///9EREQQEBAiIiLu7u4A\n",
       "AABGBidwAAAAAXRSTlMAQObYZgAAABFJREFUCNdjYHFgcDVgcBIAAASWAQx4jI0xAAAAAElFTkSu\n",
       "QmCC\n",
       "\" style=\"display:inline;vertical-align:middle;\" /></a></td></tr>\n",
       "<tr><td>2</td><td>ExprTuple</td><td>3, 3</td><td><a class=\"ProveItLink\" href=\"../f10d6b473eb81139cc985814980ef33601153f6f0/expr.ipynb\"><img src=\"data:image/png;base64,iVBORw0KGgoAAAANSUhEUgAAACkAAAAVBAMAAAAp9toTAAAAMFBMVEX////c3NwiIiJERESqqqqY\n",
       "mJh2dnZmZmYQEBDu7u4yMjJUVFTMzMyIiIi6uroAAAAs73DqAAAAAXRSTlMAQObYZgAAAPtJREFU\n",
       "GNNt0T9Lw0AcxvGvf5I2tpXuvgAHFxf3vgOdHDXTiVAhg3R2cNaAi1uzOLjlJRRXBzuLgzgKYhHE\n",
       "QTD+nkuvSDBwl+c+cL/7B/9/69MGHKi7p7vpnPNwN3IubU0s3RJVVfXt9dBSSQG9KXEOpddj6MA+\n",
       "tHNiiCdeUxjCNbz64dvftVcGjJST7aBX1uKMG+XWIOiptdWCC+VxwGSmKmf8aPAYtGe7ojurdSvo\n",
       "clnrueZ9BR1ndYUd/aS59F0aFRxpUdPkQ7qb1Tt7UaFP08u+pYc969aeaffDqULQiaN0nqPFBZ/4\n",
       "m2xooj1vzAeLJ+mo1FLzhZ7gF2zCOiOVT45EAAAAAElFTkSuQmCC\n",
       "\" style=\"display:inline;vertical-align:middle;\" /></a></td></tr>\n",
       "<tr><td>3</td><td>Literal</td><td></td><td><a class=\"ProveItLink\" href=\"../../../__pv_it/44c347496acc279b31e97f8859fc6a0a1e31c26b0/expr.ipynb\"><img src=\"data:image/png;base64,iVBORw0KGgoAAAANSUhEUgAAAAoAAAAOBAMAAADkjZCYAAAAKlBMVEX///8yMjKqqqpERESIiIi6\n",
       "urru7u5UVFSYmJh2dnZmZmYiIiLMzMwAAACZcOxaAAAAAXRSTlMAQObYZgAAAEVJREFUCNdjOL1y\n",
       "5swJDL13794tYJjGwMDOwDCBgWEOAxCwOoDIZBDBsAhEsF0AkSwCIJK7AETmLgCRsWBSF0yebWBg\n",
       "AAAo0Q9n+lHhAQAAAABJRU5ErkJggg==\n",
       "\" style=\"display:inline;vertical-align:middle;\" /></a></td></tr>\n",
       "</table>\n"
      ],
      "text/plain": [
       "0. 7 * 7\n",
       "   core type: Operation\n",
       "   operator: 1\n",
       "   operands: 2\n",
       "1. *\n",
       "   core type: Literal\n",
       "   sub-expressions: \n",
       "2. (7 , 7)\n",
       "   core type: ExprTuple\n",
       "   sub-expressions: 3, 3\n",
       "3. 7\n",
       "   core type: Literal\n",
       "   sub-expressions: "
      ]
     },
     "execution_count": 4,
     "metadata": {},
     "output_type": "execute_result"
    }
   ],
   "source": [
    "# display the expression information\n",
    "expr.exprInfo()"
   ]
  },
  {
   "cell_type": "code",
   "execution_count": null,
   "metadata": {},
   "outputs": [],
   "source": []
  }
 ],
 "metadata": {
  "kernelspec": {
   "display_name": "Python 3",
   "language": "python",
   "name": "python3"
  }
 },
 "nbformat": 4,
 "nbformat_minor": 0
}
