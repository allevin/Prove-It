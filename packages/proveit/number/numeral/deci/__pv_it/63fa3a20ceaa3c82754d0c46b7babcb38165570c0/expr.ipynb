{
 "cells": [
  {
   "cell_type": "markdown",
   "metadata": {},
   "source": [
    "Theorem <a class=\"ProveItLink\" href=\"../../_theorems_.ipynb#add_0_5\">add_0_5</a> of type <a class=\"ProveItLink\" href=\"../../../../../../../doc/html/api/proveit.logic.Equals.html\">Equals</a>\n",
    "=======================\n",
    "# from context <a class=\"ProveItLink\" href=\"../../_context_.ipynb\">proveit.number.numeral.deci</a>\n",
    "*** see <a class=\"ProveItLink\" href=\"dependencies.ipynb\">dependencies</a> ***"
   ]
  },
  {
   "cell_type": "code",
   "execution_count": 1,
   "metadata": {},
   "outputs": [],
   "source": [
    "# import the special expression\n",
    "from proveit.number.numeral.deci._theorems_ import add_0_5"
   ]
  },
  {
   "cell_type": "code",
   "execution_count": 2,
   "metadata": {},
   "outputs": [
    {
     "name": "stdout",
     "output_type": "stream",
     "text": [
      "Passed sanity check: built 'add_0_5' is the same as the stored Expression.\n"
     ]
    }
   ],
   "source": [
    "# check that the built expression is the same as the stored expression\n",
    "%check_expr add_0_5"
   ]
  },
  {
   "cell_type": "code",
   "execution_count": 3,
   "metadata": {},
   "outputs": [
    {
     "data": {
      "text/html": [
       "<table><tr><th>&nbsp;</th><th>core type</th><th>sub-expressions</th><th>expression</th></tr>\n",
       "<tr><td>0</td><td>Operation</td><td>operator:&nbsp;1<br>operands:&nbsp;2<br></td><td><a class=\"ProveItLink\" href=\"expr.ipynb\"><img src=\"data:image/png;base64,iVBORw0KGgoAAAANSUhEUgAAAGEAAAAVBAMAAACkm51HAAAAMFBMVEX////c3NwiIiJERESqqqqY\n",
       "mJh2dnZmZmYQEBDu7u4yMjJUVFTMzMyIiIi6uroAAAAs73DqAAAAAXRSTlMAQObYZgAAAVBJREFU\n",
       "OMtjYCAd8F3AIRGHS8dpBobpd2tQxbgiGVMY2A+gKwULMzCsZGDQY5iEKsvx/38CA8MCdB0QYd4L\n",
       "DLwKDLxQ2YlQw6pzgGQYhh1gYY4JDEwbGPg+QsR8IRQ3mJyBrgMi/IqBgb+AgecLFh3MDlh1lDEw\n",
       "yCcw8PxF1XH39gMGBrYCdB1g4aUQHd9QdDBP4PzHwMAC9hz7KjDYABfuw6YDCHYAY6oBMy6Awv+w\n",
       "uQoI8g8w8HzA1AEU/gfx+Vcgr2rVKo1Vq1YDWUZAqQeYOiDCLQyg0GVBDd0mBoZ6Aair2JXAwAAu\n",
       "bMoAikE2BRQdwEBaxcDAih7pEOF0IEuFYcYBFB3iDCyNWEIXIvwIyJqeu4cBRQdP+W4BYKJ4gKYD\n",
       "IswhgCzmi8yZgT2xsyYg894ic3Jx5I+VuDIO5wIcEtK4dHAL4JBgxJVr72AXBgBqZFrRcx/ugwAA\n",
       "AABJRU5ErkJggg==\n",
       "\" style=\"display:inline;vertical-align:middle;\" /></a></td></tr>\n",
       "<tr><td>1</td><td>Literal</td><td></td><td><a class=\"ProveItLink\" href=\"../../../../../logic/equality/__pv_it/2fb26078095930560931daa0500ce419a39ea6cd0/expr.ipynb\"><img src=\"data:image/png;base64,iVBORw0KGgoAAAANSUhEUgAAAA4AAAAFBAMAAACHocAhAAAAFVBMVEX///9EREQiIiJUVFQyMjJm\n",
       "ZmYAAADubVkoAAAAAXRSTlMAQObYZgAAABRJREFUCNdjCHEBAWcGXCBICQQUAUpuAwlgGKrkAAAA\n",
       "AElFTkSuQmCC\n",
       "\" style=\"display:inline;vertical-align:middle;\" /></a></td></tr>\n",
       "<tr><td>2</td><td>ExprTuple</td><td>3, 7</td><td><a class=\"ProveItLink\" href=\"../ae1b7513bf11f9c6db661169356ad62d3c1768090/expr.ipynb\"><img src=\"data:image/png;base64,iVBORw0KGgoAAAANSUhEUgAAAE0AAAAVBAMAAADx+n4ZAAAAMFBMVEX////c3NwiIiJERESqqqqY\n",
       "mJh2dnZmZmYQEBDu7u4yMjJUVFTMzMyIiIi6uroAAAAs73DqAAAAAXRSTlMAQObYZgAAAW5JREFU\n",
       "KM+Nkj1Iw0AUx//R9CNtWjPp4GAGBycHwcGto0tXwUU6CC4WMylYwSrONrq0m1mKmC51EcEPsjm4\n",
       "dNdCcBQEFe2kje9ySehJa73h8X/vfvfe3bsH/HdlW0ORFWbugWp759dO3RzP+SK1LK0i4ZA6A2Zx\n",
       "7IhcxetwkfS8AmABmRYyOjIWDx8F3OlFcDBVWie7RAdMjDSRfePhfMA1w8Rp39aAZ2DMgPrxJzea\n",
       "wyYwVYD6LXI37duAaz+4QNxAnXMdkVvAicszmUoXkC0c9uUoUTlUl9TjMrp961Kpr1BtOFBfGcfe\n",
       "8UmBbduese0Gq6Yj3vWhOeJcxh2A9UUW+5LUkeCRfWBXY3Xnwfoc1wUuQQ22YJIyABuIWVgjZxo1\n",
       "R+AkA4ua8k5qAvKe35cncqrFa4jvuCudQ6logLp1RTblIqn1/n9emLhoi/4tVujdeul1YpEq8rka\n",
       "sCJOYdM0OZCLBj3NLiANn/tH4AciUls0UPjvSAAAAABJRU5ErkJggg==\n",
       "\" style=\"display:inline;vertical-align:middle;\" /></a></td></tr>\n",
       "<tr><td>3</td><td>Operation</td><td>operator:&nbsp;4<br>operands:&nbsp;5<br></td><td><a class=\"ProveItLink\" href=\"../7b49ececf4ed8da52c703f85b63d99e980854f190/expr.ipynb\"><img src=\"data:image/png;base64,iVBORw0KGgoAAAANSUhEUgAAAC0AAAAQBAMAAABw0OvaAAAAMFBMVEX///9EREQQEBCYmJh2dnaq\n",
       "qqrc3NxUVFQyMjK6uroiIiLMzMyIiIhmZmbu7u4AAADSWfX9AAAAAXRSTlMAQObYZgAAAKpJREFU\n",
       "GNNjYHh75jYDCuCwY3MFUisZXm1AEWf6/9+BgYFnAQNPA0TgGVT9dW8gyVXAwPkNIhADodjBJP8F\n",
       "Bu6vWMTzHRi4/6CKnzk+ASL+BUWc8QHfT2ziQFCEzRwg8N8AtvczkHmjo2NRR0c7kCUFFJ8Acicr\n",
       "qju1GBjuJ4D8xbIARfwCA0MHkFrK8GgDinguA6sakHrrU82AIs59tzwBJcBiGLCDOUhsAMTuMfFG\n",
       "19fOAAAAAElFTkSuQmCC\n",
       "\" style=\"display:inline;vertical-align:middle;\" /></a></td></tr>\n",
       "<tr><td>4</td><td>Literal</td><td></td><td><a class=\"ProveItLink\" href=\"../../../../addition/__pv_it/3e6688136fa3c7aefbebe51301b7c3ebf0b69c440/expr.ipynb\"><img src=\"data:image/png;base64,iVBORw0KGgoAAAANSUhEUgAAAA4AAAAOBAMAAADtZjDiAAAAJFBMVEX///+6urpUVFQQEBAiIiIy\n",
       "MjJmZmaIiIiqqqrc3Nzu7u4AAACgHpL+AAAAAXRSTlMAQObYZgAAAB5JREFUCNdjYGBgWMkAAe2k\n",
       "0Kmhoc6hoUGk6BMHYgAHOwjcado9fwAAAABJRU5ErkJggg==\n",
       "\" style=\"display:inline;vertical-align:middle;\" /></a></td></tr>\n",
       "<tr><td>5</td><td>ExprTuple</td><td>6, 7</td><td><a class=\"ProveItLink\" href=\"../2a150b17e5d3b8066b494f45a88bec3cb97c81520/expr.ipynb\"><img src=\"data:image/png;base64,iVBORw0KGgoAAAANSUhEUgAAACkAAAAVBAMAAAAp9toTAAAAMFBMVEX////c3NwiIiJERESqqqqY\n",
       "mJh2dnZmZmYQEBDu7u4yMjJUVFTMzMyIiIi6uroAAAAs73DqAAAAAXRSTlMAQObYZgAAAQtJREFU\n",
       "GNNtka1Pw2AQh59BO9atHXUIBBNoBAmev4IEQypIMCxUgYCEj6ChwWyyBgEKSQKiHjPPljRI1FgA\n",
       "x8bd+25LWTjxy93zXu69D/jf6p0ZsKPyAq3eiQXV7dIuC5l4d7DGTWZoZTSKIIWgQ9AgSG3u8b7o\n",
       "ljwnzD1Q/zC0ZrQN77AY438W6Pwmh7AS4f9Y2nvNoRxza+m3zUq8ITgpV0Uq9igTnDEsVhA7yPD7\n",
       "SvW3L4PWheZKL9HOHNvZBZyGWmEDnaLcIBEawz24KXsSrNLOvIE4SzjnprM3CVrNZ7zrEPyjJ9Fq\n",
       "TiWcbHTi6MRuNPbd6YKbdpN/qaf7Wx4H05PUtFRp9kJd+AXwkD+V8tk00AAAAABJRU5ErkJggg==\n",
       "\" style=\"display:inline;vertical-align:middle;\" /></a></td></tr>\n",
       "<tr><td>6</td><td>Literal</td><td></td><td><a class=\"ProveItLink\" href=\"../../../__pv_it/ec23fc7a1b4222a5f4948b495002b97d6fa18c3c0/expr.ipynb\"><img src=\"data:image/png;base64,iVBORw0KGgoAAAANSUhEUgAAAAoAAAAOBAMAAADkjZCYAAAALVBMVEX///8QEBCYmJh2dnaqqqrc\n",
       "3NxUVFQyMjK6uroiIiLMzMyIiIhmZmbu7u4AAAAZjyHdAAAAAXRSTlMAQObYZgAAAEpJREFUCNdj\n",
       "YLiz+xQDA8MMhpsLGLgnMHAXMHAmMHA8ZeA7wMD1hCHOgIHrNZh8jES+Bss+AqlkeQrSxTyBgWEK\n",
       "w8UFDAx3rLMYAMCjFldHSx/9AAAAAElFTkSuQmCC\n",
       "\" style=\"display:inline;vertical-align:middle;\" /></a></td></tr>\n",
       "<tr><td>7</td><td>Literal</td><td></td><td><a class=\"ProveItLink\" href=\"../../../__pv_it/aaeeaca7d86eb2b7cdc49e25c3108b81b52ec5400/expr.ipynb\"><img src=\"data:image/png;base64,iVBORw0KGgoAAAANSUhEUgAAAAkAAAAOBAMAAAAPuiubAAAAMFBMVEX///8iIiJERES6urqIiIjM\n",
       "zMxUVFRmZmYQEBCqqqp2dnbc3Nzu7u6YmJgyMjIAAADYGhJvAAAAAXRSTlMAQObYZgAAAE1JREFU\n",
       "CNdj4LvDvZKBgeP//wUMDHxlSxkYGNgYGBCki5sBAwPTAZ7PYG4GmFwfwKAIJA0YGhkY6jcwFDAw\n",
       "vGNg2M7A2c3AwFqetoEBAKS8EE1WXEJLAAAAAElFTkSuQmCC\n",
       "\" style=\"display:inline;vertical-align:middle;\" /></a></td></tr>\n",
       "</table>\n"
      ],
      "text/plain": [
       "0. (0 + 5) = 5\n",
       "   core type: Operation\n",
       "   operator: 1\n",
       "   operands: 2\n",
       "1. =\n",
       "   core type: Literal\n",
       "   sub-expressions: \n",
       "2. (0 + 5 , 5)\n",
       "   core type: ExprTuple\n",
       "   sub-expressions: 3, 7\n",
       "3. 0 + 5\n",
       "   core type: Operation\n",
       "   operator: 4\n",
       "   operands: 5\n",
       "4. +\n",
       "   core type: Literal\n",
       "   sub-expressions: \n",
       "5. (0 , 5)\n",
       "   core type: ExprTuple\n",
       "   sub-expressions: 6, 7\n",
       "6. 0\n",
       "   core type: Literal\n",
       "   sub-expressions: \n",
       "7. 5\n",
       "   core type: Literal\n",
       "   sub-expressions: "
      ]
     },
     "execution_count": 3,
     "metadata": {},
     "output_type": "execute_result"
    }
   ],
   "source": [
    "# display the expression information\n",
    "add_0_5.exprInfo()"
   ]
  },
  {
   "cell_type": "code",
   "execution_count": null,
   "metadata": {},
   "outputs": [],
   "source": []
  }
 ],
 "metadata": {
  "kernelspec": {
   "display_name": "Python 3",
   "language": "python",
   "name": "python3"
  }
 },
 "nbformat": 4,
 "nbformat_minor": 0
}
