{
 "cells": [
  {
   "cell_type": "markdown",
   "metadata": {},
   "source": [
    "Theorem Dependencies\n",
    "=======================\n",
    "\n",
    "## <a class=\"ProveItLink\" href=\"../../_context_.ipynb\">proveit.number.numeral.deci</a>.<a class=\"ProveItLink\" href=\"../../_theorems_.ipynb#nat1\">nat1</a> \n",
    "***see <a class=\"ProveItLink\" href=\"../../_proofs_/nat1.ipynb\">proof</a>***"
   ]
  },
  {
   "cell_type": "code",
   "execution_count": 1,
   "metadata": {},
   "outputs": [],
   "source": [
    "from proveit.number.numeral.deci._theorems_ import nat1"
   ]
  },
  {
   "cell_type": "code",
   "execution_count": 2,
   "metadata": {},
   "outputs": [
    {
     "data": {
      "text/html": [
       "<h3>This theorem has not been proven yet.</h3>"
      ],
      "text/plain": [
       "<IPython.core.display.HTML object>"
      ]
     },
     "metadata": {},
     "output_type": "display_data"
    },
    {
     "data": {
      "text/html": [
       "<h3>Theorems that depend directly on nat1</h3>"
      ],
      "text/plain": [
       "<IPython.core.display.HTML object>"
      ]
     },
     "metadata": {},
     "output_type": "display_data"
    },
    {
     "data": {
      "text/html": [
       "<dl>"
      ],
      "text/plain": [
       "<IPython.core.display.HTML object>"
      ]
     },
     "metadata": {},
     "output_type": "display_data"
    },
    {
     "data": {
      "text/html": [
       "<dt><a class=\"ProveItLink\" href=\"../../../../../logic/set_theory/enumeration/_proofs_/singletonDef.ipynb\">proveit.logic.set_theory.enumeration.singletonDef</a></dt><dd><a class=\"ProveItLink\" href=\"../../../../../logic/set_theory/enumeration/__pv_it/923a7dc38b83be31d38162c00e9400f6b23f2e3b0/expr.ipynb\"><img src=\"data:image/png;base64,iVBORw0KGgoAAAANSUhEUgAAAO8AAAAWBAMAAADaw9ZbAAAAMFBMVEX///8QEBC6urrMzMxUVFRm\n",
       "ZmZERETc3NwyMjKqqqp2dnaIiIiYmJgiIiLu7u4AAAAU9Wx4AAAAAXRSTlMAQObYZgAAAxhJREFU\n",
       "SMe9VkFoE0EU/dmk2SbZboM9SJFKBA+CFFPoRS8tFaqohyIeilXUS3LQwx6kVYt2DxY81FJQTx66\n",
       "l1JqaAm0BrRil16EipCTSDWwveTQIhQLetCD8+dPstnd2Vh68MMjk5n39s/++f/PAhzAtGticGYe\n",
       "DmxO2IJSJARN36wPe2YA1iWUk+EO1wXK+OejhNArELTUbn3YYjJkA4xof7hjpCMW8M+0hDAdMg+Q\n",
       "THuHZoDR6jSJsUkYZT/qTclrFQn7cLwRYKw2O9wNAm6uZSa4HHEIru08rXyROt4KiI82c7xF0ObH\n",
       "xh5Klk8IuOc25YS8cdy/b8Vs5hjpiJ+53KZk+arAg5X7r3nER51Gb/qcBRMOOU4O+fPHYsdXOPdy\n",
       "xFcNQjNEkrMAeYnjKYJuad8iPPPznlROKruwxuKFCZ7gLzj8BO0xzy0bYBs+2V3eeaFBOuI46LLI\n",
       "HCIkWfEksF50NwF7MgCnW8qQY+NJjGzanx+MYDEfz7zTQoN0RBukbInjHwQdYuRR6apUKLl6O7Dv\n",
       "RIrwGw+MRSW669O2Z7AxDQZ6FWmQjkjZbU64Y7b9or8nHMMIzDrRPfaD6SF1DHAk8EzS1BzrJvan\n",
       "wsAKe5xSqpdQpwBMZHlb1ct1fQyPZhhSaXHGFOrrFbTPfK+Y5uoeC5d3njS1UEN+gB2lM4jsnXaj\n",
       "Rzz9DkEz1iDF93LJraEyP9x4vygnzZ8jcXZ2H1hjfe+bJw3SueQFe47CsxgedUNJkOYIs/YtGOcT\n",
       "3zOe4r0Cp2wIKSc2kfgTT6v+xic0opzEIf7iSxfgoiB1E6pvtwuUe+pkttFxdfWGIYatGX8DKYN+\n",
       "e+nVO/8ZkwbpXKJhJKPpKBVRR60kDIJrifPelrkY3jIPh3WtRbdlkvUlzSTcM6BDqWWoZhFCLolY\n",
       "We+sOS5I74GgCU2hUVJ9M7IEfTY8L5n/vhY1rH4rbokmpu/3WiSNLpHYqhGrJ8RdAckXyFcW99XL\n",
       "tSYWMwIMVfohQBqk+yRRI265FxLmpCq/kLWFxm+uZQljPPxyWg5KNLYnC/6T/QXx5OS3NLO31gAA\n",
       "AABJRU5ErkJggg==\n",
       "\" style=\"display:inline;vertical-align:middle;\" /></a></dd>"
      ],
      "text/plain": [
       "<IPython.core.display.HTML object>"
      ]
     },
     "metadata": {},
     "output_type": "display_data"
    },
    {
     "data": {
      "text/html": [
       "</dl>"
      ],
      "text/plain": [
       "<IPython.core.display.HTML object>"
      ]
     },
     "metadata": {},
     "output_type": "display_data"
    }
   ],
   "source": [
    "%dependencies nat1"
   ]
  }
 ],
 "metadata": {
  "kernelspec": {
   "display_name": "Python 3",
   "language": "python",
   "name": "python3"
  }
 },
 "nbformat": 4,
 "nbformat_minor": 0
}
