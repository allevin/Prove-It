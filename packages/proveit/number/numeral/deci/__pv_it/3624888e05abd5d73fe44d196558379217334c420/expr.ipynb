{
 "cells": [
  {
   "cell_type": "markdown",
   "metadata": {},
   "source": [
    "Expression of type <a class=\"ProveItLink\" href=\"../../../../../../../doc/html/api/proveit.ExprTuple.html\">ExprTuple</a>\n",
    "=======================\n",
    "# from context <a class=\"ProveItLink\" href=\"../../_context_.ipynb\">proveit.number.numeral.deci</a>"
   ]
  },
  {
   "cell_type": "code",
   "execution_count": 1,
   "metadata": {},
   "outputs": [],
   "source": [
    "# import Expression classes needed to build the expression\n",
    "from proveit import ExprTuple\n",
    "from proveit.number import Add, eight, four"
   ]
  },
  {
   "cell_type": "code",
   "execution_count": 2,
   "metadata": {},
   "outputs": [
    {
     "data": {
      "text/html": [
       "<strong id=\"expr\">expr:</strong> <a class=\"ProveItLink\" href=\"expr.ipynb\"><img src=\"data:image/png;base64,iVBORw0KGgoAAAANSUhEUgAAAE0AAAAVBAMAAADx+n4ZAAAAMFBMVEX////c3NwiIiJERESqqqqY\n",
       "mJh2dnZmZmYQEBDu7u4yMjJUVFTMzMyIiIi6uroAAAAs73DqAAAAAXRSTlMAQObYZgAAAURJREFU\n",
       "KM+Nkj9Lw0AYhx+psY21JYuTg4OLX8A9k4NSdFEnJZMdpOBSBRGs1MVFo4O4CAFxMB0cRYrQ3aUf\n",
       "wEEcBUGKg5PxLuYuf2qpN1zufd6HXPjlhf+ucneosiG3J72lVkTMzapNviNOt7Kc6fMikoc6eFCS\n",
       "15aaUfdMaYqswDmsQsEV1eR11K4oT5Gt0LuEN1k5fZ4iSw/UIGezIwrDynqa5IJ1B8a2uRHFFVkv\n",
       "Jgc9C0Y9TuQlfZ4mxv7dp8i4wbewO1kvJmsYgcvEh/Qu+KV7vj/r+y1iAscwvSy9I1hst78eU+/T\n",
       "xGyIqLvy3rmw0czmIolM9hCKFoZHdaBn9sRjwWU+zOU1TD2oZzxBzFORSPl+14bxFwpW8u9XUhOn\n",
       "W+K/GU6y9Z4sDH2qqbn6c2nPFHPF1EBPD3pRfsDI8Ll/hh8JwFRO6UWp6gAAAABJRU5ErkJggg==\n",
       "\" style=\"display:inline;vertical-align:middle;\" /></a><br>"
      ],
      "text/plain": [
       "expr: (4 + 4 , 8)"
      ]
     },
     "execution_count": 2,
     "metadata": {},
     "output_type": "execute_result"
    }
   ],
   "source": [
    "# build up the expression from sub-expressions\n",
    "expr = ExprTuple(Add(four, four), eight)"
   ]
  },
  {
   "cell_type": "code",
   "execution_count": 3,
   "metadata": {},
   "outputs": [
    {
     "name": "stdout",
     "output_type": "stream",
     "text": [
      "Passed sanity check: built 'expr' is the same as the stored Expression.\n"
     ]
    }
   ],
   "source": [
    "# check that the built expression is the same as the stored expression\n",
    "%check_expr"
   ]
  },
  {
   "cell_type": "code",
   "execution_count": 4,
   "metadata": {},
   "outputs": [
    {
     "data": {
      "text/html": [
       "<table><tr><th>&nbsp;</th><th>core type</th><th>sub-expressions</th><th>expression</th></tr>\n",
       "<tr><td>0</td><td>ExprTuple</td><td>1, 2</td><td><a class=\"ProveItLink\" href=\"expr.ipynb\"><img src=\"data:image/png;base64,iVBORw0KGgoAAAANSUhEUgAAAE0AAAAVBAMAAADx+n4ZAAAAMFBMVEX////c3NwiIiJERESqqqqY\n",
       "mJh2dnZmZmYQEBDu7u4yMjJUVFTMzMyIiIi6uroAAAAs73DqAAAAAXRSTlMAQObYZgAAAURJREFU\n",
       "KM+Nkj9Lw0AYhx+psY21JYuTg4OLX8A9k4NSdFEnJZMdpOBSBRGs1MVFo4O4CAFxMB0cRYrQ3aUf\n",
       "wEEcBUGKg5PxLuYuf2qpN1zufd6HXPjlhf+ucneosiG3J72lVkTMzapNviNOt7Kc6fMikoc6eFCS\n",
       "15aaUfdMaYqswDmsQsEV1eR11K4oT5Gt0LuEN1k5fZ4iSw/UIGezIwrDynqa5IJ1B8a2uRHFFVkv\n",
       "Jgc9C0Y9TuQlfZ4mxv7dp8i4wbewO1kvJmsYgcvEh/Qu+KV7vj/r+y1iAscwvSy9I1hst78eU+/T\n",
       "xGyIqLvy3rmw0czmIolM9hCKFoZHdaBn9sRjwWU+zOU1TD2oZzxBzFORSPl+14bxFwpW8u9XUhOn\n",
       "W+K/GU6y9Z4sDH2qqbn6c2nPFHPF1EBPD3pRfsDI8Ll/hh8JwFRO6UWp6gAAAABJRU5ErkJggg==\n",
       "\" style=\"display:inline;vertical-align:middle;\" /></a></td></tr>\n",
       "<tr><td>1</td><td>Operation</td><td>operator:&nbsp;3<br>operands:&nbsp;4<br></td><td><a class=\"ProveItLink\" href=\"../b5b9e4f5bdf5663f2c0d1fe4f80ca8d8fb8976950/expr.ipynb\"><img src=\"data:image/png;base64,iVBORw0KGgoAAAANSUhEUgAAAC0AAAAQBAMAAABw0OvaAAAAMFBMVEX///+6urpmZmaqqqru7u52\n",
       "dnYyMjKYmJjc3NwQEBCIiIhEREQiIiJUVFTMzMwAAACQ7J58AAAAAXRSTlMAQObYZgAAAI1JREFU\n",
       "GNNjYGBgeMuABvgugKnT6OI8G0Ak12wo1wMmvhIs3p4N5VpBaY4ysHgAujgrG0icvQFdvAIs7sWA\n",
       "Js6yACwegC7OygASZ36ALm4HFndlgIirpaWdTEvLBRoTABa3vXv35y1k9cx3796fuwDEmo3mHgZO\n",
       "sPtxicf+V0fz1/1PBcjBZcWAHUghsQF7XyZw003ciAAAAABJRU5ErkJggg==\n",
       "\" style=\"display:inline;vertical-align:middle;\" /></a></td></tr>\n",
       "<tr><td>2</td><td>Literal</td><td></td><td><a class=\"ProveItLink\" href=\"../../../__pv_it/7ca36d8558dd5f18c1e16b5e877a0b7e314926450/expr.ipynb\"><img src=\"data:image/png;base64,iVBORw0KGgoAAAANSUhEUgAAAAoAAAAOBAMAAADkjZCYAAAAMFBMVEX///+6uroQEBAyMjLMzMzc\n",
       "3NxERESIiIhUVFQiIiKYmJiqqqpmZmZ2dnbu7u4AAAACo3QQAAAAAXRSTlMAQObYZgAAAFlJREFU\n",
       "CNdjYHh79zQDA8MBBp4FDFwLGPgmMPA2gEjuHw94CxgY8n/VAmV5/k8Fkmuc/29g4DrAsP4fA9MD\n",
       "BtZfDI+AgscZmAIYGFoZuO0YuC8wMEicOc0AAC98GKTiu3IvAAAAAElFTkSuQmCC\n",
       "\" style=\"display:inline;vertical-align:middle;\" /></a></td></tr>\n",
       "<tr><td>3</td><td>Literal</td><td></td><td><a class=\"ProveItLink\" href=\"../../../../addition/__pv_it/3e6688136fa3c7aefbebe51301b7c3ebf0b69c440/expr.ipynb\"><img src=\"data:image/png;base64,iVBORw0KGgoAAAANSUhEUgAAAA4AAAAOBAMAAADtZjDiAAAAJFBMVEX///+6urpUVFQQEBAiIiIy\n",
       "MjJmZmaIiIiqqqrc3Nzu7u4AAACgHpL+AAAAAXRSTlMAQObYZgAAAB5JREFUCNdjYGBgWMkAAe2k\n",
       "0Kmhoc6hoUGk6BMHYgAHOwjcado9fwAAAABJRU5ErkJggg==\n",
       "\" style=\"display:inline;vertical-align:middle;\" /></a></td></tr>\n",
       "<tr><td>4</td><td>ExprTuple</td><td>5, 5</td><td><a class=\"ProveItLink\" href=\"../ed944b380db6ec376d444660d5b46030c22ca8f60/expr.ipynb\"><img src=\"data:image/png;base64,iVBORw0KGgoAAAANSUhEUgAAACkAAAAVBAMAAAAp9toTAAAAMFBMVEX////c3NwiIiJERESqqqqY\n",
       "mJh2dnZmZmYQEBDu7u4yMjJUVFTMzMyIiIi6uroAAAAs73DqAAAAAXRSTlMAQObYZgAAAPNJREFU\n",
       "GNNjYMAO+C6gCcSBiNNwAgR4NjCwHwDSK0EcZZgokwEDwwIGBl6QAbzNMNEbQNEwBgaOCUC26GKo\n",
       "IGMUUHQGA8MrECcBJsrGBRRldmAoA7JZBWCigSBRtgKGpUD2XAaoKOcFkCjLAoY+kAEwUTYGkChf\n",
       "A8M/oNwBmKgPWJTnA0h0GgNUlDMBJtrCwOC9e/ePvSBRlt2793dfAJlgClYF9MUEMIMDqJZ1AUM6\n",
       "VJTzE1wU6LJHIHb2/1LOfgGQI/Z/D2DgesDAIQALURgD5GPWBCibFR7AubCQRBblBIYkgzSUA48S\n",
       "bpBRjOgxdIeBAQD8zzZrQ6+KXAAAAABJRU5ErkJggg==\n",
       "\" style=\"display:inline;vertical-align:middle;\" /></a></td></tr>\n",
       "<tr><td>5</td><td>Literal</td><td></td><td><a class=\"ProveItLink\" href=\"../../../__pv_it/23412ce59ea7e77353d2f9225e02248e73651ca00/expr.ipynb\"><img src=\"data:image/png;base64,iVBORw0KGgoAAAANSUhEUgAAAAoAAAAPBAMAAAAv0UM9AAAALVBMVEX///9mZmaqqqru7u52dnYy\n",
       "MjKYmJjc3NwQEBCIiIhEREQiIiJUVFTMzMwAAACUDTcXAAAAAXRSTlMAQObYZgAAAD5JREFUCNdj\n",
       "YGBguMMAArtABGcXiCyLApEOIJKtAERaMoBIBxDJdAFEmjCASJ0zZ16cBCkF64KQPu/EwBwGACv6\n",
       "DSRgin9qAAAAAElFTkSuQmCC\n",
       "\" style=\"display:inline;vertical-align:middle;\" /></a></td></tr>\n",
       "</table>\n"
      ],
      "text/plain": [
       "0. (4 + 4 , 8)\n",
       "   core type: ExprTuple\n",
       "   sub-expressions: 1, 2\n",
       "1. 4 + 4\n",
       "   core type: Operation\n",
       "   operator: 3\n",
       "   operands: 4\n",
       "2. 8\n",
       "   core type: Literal\n",
       "   sub-expressions: \n",
       "3. +\n",
       "   core type: Literal\n",
       "   sub-expressions: \n",
       "4. (4 , 4)\n",
       "   core type: ExprTuple\n",
       "   sub-expressions: 5, 5\n",
       "5. 4\n",
       "   core type: Literal\n",
       "   sub-expressions: "
      ]
     },
     "execution_count": 4,
     "metadata": {},
     "output_type": "execute_result"
    }
   ],
   "source": [
    "# display the expression information\n",
    "expr.exprInfo()"
   ]
  },
  {
   "cell_type": "code",
   "execution_count": null,
   "metadata": {},
   "outputs": [],
   "source": []
  }
 ],
 "metadata": {
  "kernelspec": {
   "display_name": "Python 3",
   "language": "python",
   "name": "python3"
  }
 },
 "nbformat": 4,
 "nbformat_minor": 0
}
