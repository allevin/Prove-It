{
 "cells": [
  {
   "cell_type": "markdown",
   "metadata": {},
   "source": [
    "Expression of type <a class=\"ProveItLink\" href=\"../../../../../../../doc/html/api/proveit.Lambda.html\">Lambda</a>\n",
    "=======================\n",
    "# from context <a class=\"ProveItLink\" href=\"../../_context_.ipynb\">proveit.number.numeral.deci</a>"
   ]
  },
  {
   "cell_type": "code",
   "execution_count": 1,
   "metadata": {},
   "outputs": [],
   "source": [
    "# import Expression classes needed to build the expression\n",
    "from proveit import Lambda\n",
    "from proveit._common_ import a, b, c\n",
    "from proveit.logic import Equals\n",
    "from proveit.number import Len, three"
   ]
  },
  {
   "cell_type": "code",
   "execution_count": 2,
   "metadata": {},
   "outputs": [
    {
     "data": {
      "text/html": [
       "<strong id=\"expr\">expr:</strong> <a class=\"ProveItLink\" href=\"expr.ipynb\"><img src=\"data:image/png;base64,iVBORw0KGgoAAAANSUhEUgAAAK8AAAAVCAMAAAAHHU5UAAAANlBMVEX///8UFBQNDQ2qqqpmZmbc\n",
       "3NxUVFSYmJhEREQiIiIyMjK6uroQEBDMzMyIiIh2dnbu7u4AAABEZtODAAAAAXRSTlMAQObYZgAA\n",
       "AjZJREFUSMetV9t2xCAITOslRg3o//9s4yUJarLFnvLQc8ruMCMgsssyb0It/2b/GevBHBx/0PWe\n",
       "OVsJvonFhzFt1z1H8TxY0H57CyP3Cb07IhrRwZhmQ89RPM9f1u8f8fUqmYoYoYXxDKDngA/dEMV7\n",
       "aZGtF3OYuLUwnvnQc/j39Lr4/lnwbL2C6L1hvMtmew73oUK4fQhlxNR9q/1QYQERYB9aK5+O1lRi\n",
       "z3F6FqUBnVdt+wLotU3rRYRySu95FTJs9wfGntnosqJJUe3ac5yeLNXERls0qY70ShMiYUe90hLT\n",
       "dEBc/yVY8CnXZn3WG/SdNO96jupRMaGlafsundQjbdqbyPmp/EIlSjDdpGX5/toa8/GKGAe91VNC\n",
       "bM2skDmDUZJSEaI9zr0XvlzeBItNWvr8LvoO+Ko3hwhN7ZetzE3SwJSIr1flqKYEOmAqwie9ktwh\n",
       "L4Z+EKUdIDfAobmbvpLMtIboqR8kLau5rkEOUfUmWE3Bc//u9DBmuG/FE7I2bRex35JztnP7Xh5C\n",
       "tFpufmP+5hbVCdO5xfAsZpvtZuSfQ+jmqJ40JsTRAJi01wPr4wxSL9RDiPjzDNbcV3jzyWMoQuBM\n",
       "7W14L7Zz+oLbDbg0BEomjsECsmT/9FAi69j3TUgpbe1EO7ei1QeBvsfj+urU756J9/gZxtxAsed4\n",
       "2EBWhgfhT3pxdtfm7JMMvWFin3yGMU0N+7rql9wxBaOHvJkzevX8byeVyMH1nsk1mjws4OZgPwgb\n",
       "GQF2/eSbAAAAAElFTkSuQmCC\n",
       "\" style=\"display:inline;vertical-align:middle;\" /></a><br>"
      ],
      "text/plain": [
       "expr: c -> (|(a , b , c)| = 3)"
      ]
     },
     "execution_count": 2,
     "metadata": {},
     "output_type": "execute_result"
    }
   ],
   "source": [
    "# build up the expression from sub-expressions\n",
    "expr = Lambda(c, Equals(Len([a, b, c]), three))"
   ]
  },
  {
   "cell_type": "code",
   "execution_count": 3,
   "metadata": {},
   "outputs": [
    {
     "name": "stdout",
     "output_type": "stream",
     "text": [
      "Passed sanity check: built 'expr' is the same as the stored Expression.\n"
     ]
    }
   ],
   "source": [
    "# check that the built expression is the same as the stored expression\n",
    "%check_expr"
   ]
  },
  {
   "cell_type": "code",
   "execution_count": 4,
   "metadata": {},
   "outputs": [
    {
     "data": {
      "text/html": [
       "<table><tr><th>&nbsp;</th><th>core type</th><th>sub-expressions</th><th>expression</th></tr>\n",
       "<tr><td>0</td><td>Lambda</td><td>parameter:&nbsp;10<br>body:&nbsp;1<br></td><td><a class=\"ProveItLink\" href=\"expr.ipynb\"><img src=\"data:image/png;base64,iVBORw0KGgoAAAANSUhEUgAAAK8AAAAVCAMAAAAHHU5UAAAANlBMVEX///8UFBQNDQ2qqqpmZmbc\n",
       "3NxUVFSYmJhEREQiIiIyMjK6uroQEBDMzMyIiIh2dnbu7u4AAABEZtODAAAAAXRSTlMAQObYZgAA\n",
       "AjZJREFUSMetV9t2xCAITOslRg3o//9s4yUJarLFnvLQc8ruMCMgsssyb0It/2b/GevBHBx/0PWe\n",
       "OVsJvonFhzFt1z1H8TxY0H57CyP3Cb07IhrRwZhmQ89RPM9f1u8f8fUqmYoYoYXxDKDngA/dEMV7\n",
       "aZGtF3OYuLUwnvnQc/j39Lr4/lnwbL2C6L1hvMtmew73oUK4fQhlxNR9q/1QYQERYB9aK5+O1lRi\n",
       "z3F6FqUBnVdt+wLotU3rRYRySu95FTJs9wfGntnosqJJUe3ac5yeLNXERls0qY70ShMiYUe90hLT\n",
       "dEBc/yVY8CnXZn3WG/SdNO96jupRMaGlafsundQjbdqbyPmp/EIlSjDdpGX5/toa8/GKGAe91VNC\n",
       "bM2skDmDUZJSEaI9zr0XvlzeBItNWvr8LvoO+Ko3hwhN7ZetzE3SwJSIr1flqKYEOmAqwie9ktwh\n",
       "L4Z+EKUdIDfAobmbvpLMtIboqR8kLau5rkEOUfUmWE3Bc//u9DBmuG/FE7I2bRex35JztnP7Xh5C\n",
       "tFpufmP+5hbVCdO5xfAsZpvtZuSfQ+jmqJ40JsTRAJi01wPr4wxSL9RDiPjzDNbcV3jzyWMoQuBM\n",
       "7W14L7Zz+oLbDbg0BEomjsECsmT/9FAi69j3TUgpbe1EO7ei1QeBvsfj+urU756J9/gZxtxAsed4\n",
       "2EBWhgfhT3pxdtfm7JMMvWFin3yGMU0N+7rql9wxBaOHvJkzevX8byeVyMH1nsk1mjws4OZgPwgb\n",
       "GQF2/eSbAAAAAElFTkSuQmCC\n",
       "\" style=\"display:inline;vertical-align:middle;\" /></a></td></tr>\n",
       "<tr><td>1</td><td>Operation</td><td>operator:&nbsp;2<br>operands:&nbsp;3<br></td><td><a class=\"ProveItLink\" href=\"../5651a7cf199f368338e5bfb164e7575179235c8a0/expr.ipynb\"><img src=\"data:image/png;base64,iVBORw0KGgoAAAANSUhEUgAAAHUAAAAVBAMAAACK3rzVAAAAMFBMVEX///8iIiJERESYmJhmZmYQ\n",
       "EBDu7u4yMjJUVFTMzMyIiIi6urp2dnbc3NyqqqoAAABw9lLDAAAAAXRSTlMAQObYZgAAAatJREFU\n",
       "OMtjeMtADMCu6jSY3IVLE/MGJFVY9XI2IIlkBCLLe2LVy3nm0AOoKHsCskQFMocdq94rDNy/oKKr\n",
       "UCT+oTj6ADa95x8wfISKhiGLc39D5rEFYNP7Hq6XuwBZnEcARZke9rCCuZkF5K4ba7ZegPiwa4UB\n",
       "RD7n1EoGhiPY9bI3QETZgWq5Yxn0IaL5Cgw/IYEZzVDIwPAcrte9HAQgITmnAirKCozE+wYMTlC/\n",
       "JDDEgBmpCxiUGRi2YreXKxoiyg/U28/AIAURdWdg+AJm9IPJ+TjSRnwCXO8nBjaISxlEGLg/gxmf\n",
       "cOu9ycCgbwBx8wMG3l8MfB/YoNHLAo4loBAIINzsKAgCQqCI+58A08tkwMD2j4Gj4CUDKH39ZGA9\n",
       "AGYAbWdmYDDHZu93Bgb5C2BRHgcGhmKGhw4H2IARztDH4MEAZrQwMJzEEUeLGbj/QNMGMDXcWLVT\n",
       "awNbPDCKM5YAnQFisJxaBbS+GptePhd3WF6IhaeWC+gM7GkSKQ/awFM+BoNnAQG98DyIqTedUN7n\n",
       "heX9BQzojF48eleDyVu4yhyuCUiq0AAAKWaDW3fPOoYAAAAASUVORK5CYII=\n",
       "\" style=\"display:inline;vertical-align:middle;\" /></a></td></tr>\n",
       "<tr><td>2</td><td>Literal</td><td></td><td><a class=\"ProveItLink\" href=\"../../../../../logic/equality/__pv_it/2fb26078095930560931daa0500ce419a39ea6cd0/expr.ipynb\"><img src=\"data:image/png;base64,iVBORw0KGgoAAAANSUhEUgAAAA4AAAAFBAMAAACHocAhAAAAFVBMVEX///9EREQiIiJUVFQyMjJm\n",
       "ZmYAAADubVkoAAAAAXRSTlMAQObYZgAAABRJREFUCNdjCHEBAWcGXCBICQQUAUpuAwlgGKrkAAAA\n",
       "AElFTkSuQmCC\n",
       "\" style=\"display:inline;vertical-align:middle;\" /></a></td></tr>\n",
       "<tr><td>3</td><td>ExprTuple</td><td>4, 5</td><td><a class=\"ProveItLink\" href=\"../f682553d8bff624cc964fc36bfd07120639253d20/expr.ipynb\"><img src=\"data:image/png;base64,iVBORw0KGgoAAAANSUhEUgAAAHEAAAAVBAMAAACDNRyvAAAAMFBMVEX////c3NwiIiJERESqqqqY\n",
       "mJh2dnZmZmYQEBDu7u4yMjJUVFTMzMyIiIi6uroAAAAs73DqAAAAAXRSTlMAQObYZgAAAeZJREFU\n",
       "OMuNlD1IHEEUx/+H97V7d3vbpbgE7axCrkkprtYBt7IMB4Gzih4ICqbJhRBIEd0yYOE2V4hNCtsQ\n",
       "qxBIs02UEO84rEQUDj9RNMmbt+8uM3sI2WJ4+5v3Y2bem12Anin8zzOU5USY5+DkXuc5j/NJ8l1Y\n",
       "8ZM2s/5GN3M7mlmsv/BisinMDvTkLWPRUDMfwLljUoqEtY3cc+NtVjMXPJwyyQfC3huHvzbMj5o5\n",
       "wyaRI2FOqKdmxwxzxNMrpHZLZElYrkZDZffQ5Un78y8/TrPq7R1kG7ppUy2JtITZlOk0MRlPblRx\n",
       "G0ffuvYY0qFmflXVI7IqLN8FRn0symECvIuX/IARH85rfc0SOUR+CyuT+QV4HE+uAFccFHrcw55x\n",
       "E9YCRXTzDJbscRzOBQflatJ8CEz6irzt79ZD6g7pniXtzMV9GY24mv92a/0JlEnkqTA6jXWOQvgM\n",
       "6i7dIl/joEyF85GRCilyAzxxFZkTUxW+helGzaI+YxuvwEGhgeygK0x+wLnk9IP+TaDeV9rHE11r\n",
       "jVq6vkdbUAGW2j+pZd3YVCS9vOIxybtygubgirjJYHD7DJKpiTnbh5mhAC/FNMnQVzZsWmHSZFIR\n",
       "M9X/siMkg4IrpklSETr89ujev8k+jx2T/AVdYYj3OL8UGAAAAABJRU5ErkJggg==\n",
       "\" style=\"display:inline;vertical-align:middle;\" /></a></td></tr>\n",
       "<tr><td>4</td><td>Operation</td><td>operator:&nbsp;6<br>operand:&nbsp;7<br></td><td><a class=\"ProveItLink\" href=\"../28e419b446082cfc187bb529fa9a51beba5544f90/expr.ipynb\"><img src=\"data:image/png;base64,iVBORw0KGgoAAAANSUhEUgAAAE4AAAAVBAMAAAAazcUaAAAAMFBMVEX///8iIiJERESYmJhmZmYQ\n",
       "EBDu7u4yMjJUVFTMzMyIiIi6urp2dnbc3NyqqqoAAABw9lLDAAAAAXRSTlMAQObYZgAAAVJJREFU\n",
       "KM9jeMtADHjLcBpM78KlgHkDmDoNUcfZgCSVEYis0BNZHXsCslQFMocdWd0qFLv+oVh8AEldGLIM\n",
       "9zdkHlsAQh13AbIMjwCK6XoIdSwgs2+s2XoB4qKuFQYQJTmnVjIwHEGoYweKc8cy6ENk8xUYfoIZ\n",
       "nNEMhQwMzxHqWIGBdN+AwQmi7n0CQwyYkbqAQZmBYStCHT9QXT8DgxREnTsDwxcwox9MzkdV94mB\n",
       "DWIbgwgD92cw4xO6OtYHDLy/GPg+sEGDjwUcMkAhEECyl8mAge0fA0fBSwZQvPxkYD0AZgBNZWZg\n",
       "MEeo43FgYChmeOhwgO0jkNfH4MEAZrQwMJxECRduYMjeWLVTawNbPDAIM5YAjQcxWE6tAhpbjRRv\n",
       "sfA4u4DOQI43Bht4rGMweBZgS1eY6tKR0xUvLJ0uYEBn9ELVrQbTt3Cle64JYGo1AHXdaijHCWnR\n",
       "AAAAAElFTkSuQmCC\n",
       "\" style=\"display:inline;vertical-align:middle;\" /></a></td></tr>\n",
       "<tr><td>5</td><td>Literal</td><td></td><td><a class=\"ProveItLink\" href=\"../../../__pv_it/9176d93c83afa2c995b614976e3cb49207102fa70/expr.ipynb\"><img src=\"data:image/png;base64,iVBORw0KGgoAAAANSUhEUgAAAAoAAAAOBAMAAADkjZCYAAAAMFBMVEX///+YmJju7u4QEBBUVFQy\n",
       "MjIiIiKIiIi6urpmZmbc3NyqqqpERER2dnbMzMwAAAB0GlNiAAAAAXRSTlMAQObYZgAAAE1JREFU\n",
       "CNdjYHh79zQDA9cEhv4CBt7fDPwJDNxgEgiAIkAQAsR8Vx1ATIbiBhDJ/ImB6wEDz0cG/U8gkj+A\n",
       "ge0XA7sAQ/8FBoadM6MZAEflFACalZ/OAAAAAElFTkSuQmCC\n",
       "\" style=\"display:inline;vertical-align:middle;\" /></a></td></tr>\n",
       "<tr><td>6</td><td>Literal</td><td></td><td><a class=\"ProveItLink\" href=\"../../../../sets/integer/__pv_it/0a9286fafc7688968c9f0b1c9372a7c495b9f9510/expr.ipynb\"><img src=\"data:image/png;base64,iVBORw0KGgoAAAANSUhEUgAAADsAAAASBAMAAAAXqLt+AAAAMFBMVEX///+qqqru7u5ERERUVFTM\n",
       "zMzc3NyIiIgQEBAyMjJmZmaYmJi6uroiIiJ2dnYAAAD2HuJxAAAAAXRSTlMAQObYZgAAAURJREFU\n",
       "KM99kT9LAnEYxz93Xmnn33fgvYJ0iISWhIJ0k95ABw2BixcFkhC1RFu4BU03lNIibg0N3hDUlhA0\n",
       "xlFDQQgmaBQOPXc5BGoPHPf93ef3fJ/vw0FnyKRSc23/He5OYEcwZ/tSr45jpQfxhC9D1jjWxfje\n",
       "8GWpMI6jYtz5lS15iq81bhe3dl2JUn9P3ywvWJxd7ZiCVmTUI0XcvKX24ZySTVLSfZl6VvCx+Dtc\n",
       "RJwH1CHhnpfpUlr6aGmYkY7cddlUhUngUJYNkyc/XVRmBQ/he7SMViWZYN9z8ZiYEsgafI72jzeN\n",
       "A5MllC5myuENQz653vggIZeW4coeH3JTcUSchE3i6xZ7qDXP6kUppAxtgGbPk0ftx6StYRCrl+EO\n",
       "NreJrFXazGYsTqHxPOFXBWyml0MqMZ3qA1b/aVYylebf8w8ORloN8BKQFQAAAABJRU5ErkJggg==\n",
       "\" style=\"display:inline;vertical-align:middle;\" /></a></td></tr>\n",
       "<tr><td>7</td><td>ExprTuple</td><td>8, 9, 10</td><td><a class=\"ProveItLink\" href=\"../d49e900d23804978f563e8d96d3cdab866f378630/expr.ipynb\"><img src=\"data:image/png;base64,iVBORw0KGgoAAAANSUhEUgAAADsAAAAVBAMAAAAKrYvGAAAAMFBMVEX////c3NwiIiJERESqqqqY\n",
       "mJh2dnZmZmYQEBDu7u4yMjJUVFTMzMyIiIi6uroAAAAs73DqAAAAAXRSTlMAQObYZgAAAThJREFU\n",
       "KM+FkrFLw0AUxn9t0qZpbNPdod1cs7jnPzCToxQHOylZ7KqCuCkduyWLg7h0EUQoBFwEl66CKdVJ\n",
       "XBoRBxfxcknhYinecPd978v78t67g39Wc7JK2Um3RyVg3nYUZkRiu1IT6iOVhdAoeNuuyrahNlAD\n",
       "8wIbwnuhmt0C01z64iiND06ywHV8kxe5F0dUfS4FfmtpSRb8xI4kepjVO+ghFyL5C8ORQf2bWld+\n",
       "d47m0TzmB6yEcla/EWL7KbCk21qSyrZDkFmWfeaebNDJ5VNoT9hikLd9JEFbugnzTQhc7vTITOWI\n",
       "MyQQHh6VkJ6YpKdvVAnEuC3XGGXApyobe03bnt5PGX6IgseHSEA/fhJ5M2qtxYxeloAYaqW7IN4S\n",
       "2FcvdEk2xYWynpMGf4GV/re08jE9wy8Jx0wlkMlGlgAAAABJRU5ErkJggg==\n",
       "\" style=\"display:inline;vertical-align:middle;\" /></a></td></tr>\n",
       "<tr><td>8</td><td>Variable</td><td></td><td><a class=\"ProveItLink\" href=\"../../../../../__pv_it/07527342713064c87612d00d8557c53d53d5324a0/expr.ipynb\"><img src=\"data:image/png;base64,iVBORw0KGgoAAAANSUhEUgAAAAsAAAAJBAMAAAAWSsseAAAAMFBMVEX///8yMjKqqqrMzMzu7u4i\n",
       "IiJmZmaYmJhEREQQEBC6urp2dnaIiIhUVFTc3NwAAAD87Fq/AAAAAXRSTlMAQObYZgAAAEhJREFU\n",
       "CNdjYOC7s2seAwPDygccHxgY+L4zsDUwMPB+YGA9wMDA38Dgb8DA8P4Agz6DA4O/AsNFJgMGxgKm\n",
       "MG6gyjunLE4xAAAZTBA5TB6DCwAAAABJRU5ErkJggg==\n",
       "\" style=\"display:inline;vertical-align:middle;\" /></a></td></tr>\n",
       "<tr><td>9</td><td>Variable</td><td></td><td><a class=\"ProveItLink\" href=\"../../../../../__pv_it/6840a4fa6c106149dc16a131294d0c5e44f1b0480/expr.ipynb\"><img src=\"data:image/png;base64,iVBORw0KGgoAAAANSUhEUgAAAAkAAAAOBAMAAAAPuiubAAAALVBMVEX///9mZmbMzMxERESYmJiI\n",
       "iIh2dna6urqqqqoyMjIiIiIQEBBUVFTu7u4AAAD9S1JeAAAAAXRSTlMAQObYZgAAAE1JREFUCNdj\n",
       "4D29gAEIOA+ASL4GEFl3AURmgQiGOaFHGBh4HzPwKTBwvGXgTmBgnMDAJ8DAJcBQ5wBSLncBJLWN\n",
       "gYGngRFoBO9REQYGAGrcDtUkVqASAAAAAElFTkSuQmCC\n",
       "\" style=\"display:inline;vertical-align:middle;\" /></a></td></tr>\n",
       "<tr><td>10</td><td>Variable</td><td></td><td><a class=\"ProveItLink\" href=\"../../../../../__pv_it/cbdfda466482236edba0ce44ac7ef39cda0af7a40/expr.ipynb\"><img src=\"data:image/png;base64,iVBORw0KGgoAAAANSUhEUgAAAAkAAAAJBAMAAAASvxsjAAAALVBMVEX///9mZmbc3NxUVFSYmJhE\n",
       "REQiIiIyMjK6uroQEBDMzMyIiIh2dnbu7u4AAABgFDGoAAAAAXRSTlMAQObYZgAAADZJREFUCNdj\n",
       "YOA9s3sBA8PKBvYEBt7ZDKwODMwPGICALwBE6m0Asx0YGIDiAgw8QJUyu/cyAAAmuwmycZ8WfQAA\n",
       "AABJRU5ErkJggg==\n",
       "\" style=\"display:inline;vertical-align:middle;\" /></a></td></tr>\n",
       "</table>\n"
      ],
      "text/plain": [
       "0. c -> (|(a , b , c)| = 3)\n",
       "   core type: Lambda\n",
       "   parameter: 10\n",
       "   body: 1\n",
       "1. |(a , b , c)| = 3\n",
       "   core type: Operation\n",
       "   operator: 2\n",
       "   operands: 3\n",
       "2. =\n",
       "   core type: Literal\n",
       "   sub-expressions: \n",
       "3. (|(a , b , c)| , 3)\n",
       "   core type: ExprTuple\n",
       "   sub-expressions: 4, 5\n",
       "4. |(a , b , c)|\n",
       "   core type: Operation\n",
       "   operator: 6\n",
       "   operand: 7\n",
       "5. 3\n",
       "   core type: Literal\n",
       "   sub-expressions: \n",
       "6. length\n",
       "   core type: Literal\n",
       "   sub-expressions: \n",
       "7. (a , b , c)\n",
       "   core type: ExprTuple\n",
       "   sub-expressions: 8, 9, 10\n",
       "8. a\n",
       "   core type: Variable\n",
       "   sub-expressions: \n",
       "9. b\n",
       "   core type: Variable\n",
       "   sub-expressions: \n",
       "10. c\n",
       "    core type: Variable\n",
       "    sub-expressions: "
      ]
     },
     "execution_count": 4,
     "metadata": {},
     "output_type": "execute_result"
    }
   ],
   "source": [
    "# display the expression information\n",
    "expr.exprInfo()"
   ]
  },
  {
   "cell_type": "code",
   "execution_count": null,
   "metadata": {},
   "outputs": [],
   "source": []
  }
 ],
 "metadata": {
  "kernelspec": {
   "display_name": "Python 3",
   "language": "python",
   "name": "python3"
  }
 },
 "nbformat": 4,
 "nbformat_minor": 0
}
