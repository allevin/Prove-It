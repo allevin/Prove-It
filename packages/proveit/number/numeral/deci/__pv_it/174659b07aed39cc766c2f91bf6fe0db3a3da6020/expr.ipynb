{
 "cells": [
  {
   "cell_type": "markdown",
   "metadata": {},
   "source": [
    "Theorem <a class=\"ProveItLink\" href=\"../../_theorems_.ipynb#mult_7_7\">mult_7_7</a> of type <a class=\"ProveItLink\" href=\"../../../../../../../doc/html/api/proveit.logic.Equals.html\">Equals</a>\n",
    "=======================\n",
    "# from context <a class=\"ProveItLink\" href=\"../../_context_.ipynb\">proveit.number.numeral.deci</a>\n",
    "*** see <a class=\"ProveItLink\" href=\"dependencies.ipynb\">dependencies</a> ***"
   ]
  },
  {
   "cell_type": "code",
   "execution_count": 1,
   "metadata": {},
   "outputs": [],
   "source": [
    "# import the special expression\n",
    "from proveit.number.numeral.deci._theorems_ import mult_7_7"
   ]
  },
  {
   "cell_type": "code",
   "execution_count": 2,
   "metadata": {},
   "outputs": [
    {
     "name": "stdout",
     "output_type": "stream",
     "text": [
      "Passed sanity check: built 'mult_7_7' is the same as the stored Expression.\n"
     ]
    }
   ],
   "source": [
    "# check that the built expression is the same as the stored expression\n",
    "%check_expr mult_7_7"
   ]
  },
  {
   "cell_type": "code",
   "execution_count": 3,
   "metadata": {},
   "outputs": [
    {
     "data": {
      "text/html": [
       "<table><tr><th>&nbsp;</th><th>core type</th><th>sub-expressions</th><th>expression</th></tr>\n",
       "<tr><td>0</td><td>Operation</td><td>operator:&nbsp;1<br>operands:&nbsp;2<br></td><td><a class=\"ProveItLink\" href=\"expr.ipynb\"><img src=\"data:image/png;base64,iVBORw0KGgoAAAANSUhEUgAAAGEAAAAVBAMAAACkm51HAAAAMFBMVEX////c3NwiIiJERESqqqqY\n",
       "mJh2dnZmZmYQEBDu7u4yMjJUVFTMzMyIiIi6uroAAAAs73DqAAAAAXRSTlMAQObYZgAAAYVJREFU\n",
       "OMuVk79Lw0AUx7+pbdqkrXQUXEQHB5cMCm72DxCMi4OgZoqIikWkiosKboIEXIpLuzi0LgEHhw4V\n",
       "VweDk0ghxVEQCyIFBeu9Ky0hdwQ8uIPv+97n3btfwP/bsCfGViOJB2Qmbdvuy/uibVvJO3FexoV2\n",
       "u0lGFYlut/vTN9aYcFERiZiBkbxyAmQ9qA7g9o0NIA0sicSzgVngBkg5UAF1UIYFbAElAVCWDXwD\n",
       "Ow7euH4PHcVQPkyouqF9An4LRZKaEfAuyC+EiUW9t4aJK5LJYMo91uN864c1atc8p8eIA2DOwznp\n",
       "Mp+qOXxsU2XH4aLAiEszfuThl/QLj5bHaMxS+kw7RMwTgZWmn+8RUzxa4ruJuRJCszjBz+qUdCdg\n",
       "lguDqnbHqU3Qvur1xhk9pxowQ36Q+CAiIV56yoCfU1hJ65QhSCwUpKdLxJOjs3VeqeqvgPNoskFv\n",
       "CTfY6Jjq/jShOdmDLkU89oQli25H/Y+qJKZVoohRSSydiyIUya9tRsz/A2dGYWM50Yu/AAAAAElF\n",
       "TkSuQmCC\n",
       "\" style=\"display:inline;vertical-align:middle;\" /></a></td></tr>\n",
       "<tr><td>1</td><td>Literal</td><td></td><td><a class=\"ProveItLink\" href=\"../../../../../logic/equality/__pv_it/2fb26078095930560931daa0500ce419a39ea6cd0/expr.ipynb\"><img src=\"data:image/png;base64,iVBORw0KGgoAAAANSUhEUgAAAA4AAAAFBAMAAACHocAhAAAAFVBMVEX///9EREQiIiJUVFQyMjJm\n",
       "ZmYAAADubVkoAAAAAXRSTlMAQObYZgAAABRJREFUCNdjCHEBAWcGXCBICQQUAUpuAwlgGKrkAAAA\n",
       "AElFTkSuQmCC\n",
       "\" style=\"display:inline;vertical-align:middle;\" /></a></td></tr>\n",
       "<tr><td>2</td><td>ExprTuple</td><td>3, 4</td><td><a class=\"ProveItLink\" href=\"../5d6a006d729c94365724c098fd2a37695bcee55a0/expr.ipynb\"><img src=\"data:image/png;base64,iVBORw0KGgoAAAANSUhEUgAAAE0AAAAVBAMAAADx+n4ZAAAAMFBMVEX////c3NwiIiJERESqqqqY\n",
       "mJh2dnZmZmYQEBDu7u4yMjJUVFTMzMyIiIi6uroAAAAs73DqAAAAAXRSTlMAQObYZgAAAX5JREFU\n",
       "KM+Nkr9Lw0AUx7/RNu2lP+gouLg5uGRQcDN/gGBcHAS1U0RU7CDVTQU3QQIuxaVZHHQqODh0aHF1\n",
       "MDiJFFodBbEiUlCwvnfJQQqBmuHu+9775N6PO+C/X94fiqzycofspOM4yndbdpxiqLM1iJvNJlJN\n",
       "Mi6R7Pf7P4pbI6MW6hETY5Z2BHhAzofuAiqEDSCj9KOJWeAaWALSLnRAb6oY5dwKpbZs4hvYcVEB\n",
       "XqXrLa4x3TDFJ9DuYNRCmT3CjHBnSiwawXk29BIu2JOyItxuuAufuH1gzkfCwym7qkHAlWtXpQVx\n",
       "53biwEf+EL/sepKB6gSvOS/k5pnDSqttIdsNuCkZqMgqR8IRiaLkZL/EHbOrFymvWgr2RL3eOOHW\n",
       "r8B5Z3gSUe6dOBHItIl2QaOMSQ/r/GuUWyipSpl7cA06k+bywvf9FeHubar0Qzbc6Nn63jQpo4N0\n",
       "Ie4lPQ+adG/JYhxnD5rb8l0N5QSPdDwGyw2aGa5NG/7uW8AfWGpfjEPHG3QAAAAASUVORK5CYII=\n",
       "\" style=\"display:inline;vertical-align:middle;\" /></a></td></tr>\n",
       "<tr><td>3</td><td>Operation</td><td>operator:&nbsp;5<br>operands:&nbsp;6<br></td><td><a class=\"ProveItLink\" href=\"../ee8d9c0efdc7acb9ca1afc7adc46576118add95b0/expr.ipynb\"><img src=\"data:image/png;base64,iVBORw0KGgoAAAANSUhEUgAAACMAAAAOBAMAAABXxbiCAAAALVBMVEX///8QEBAyMjKqqqpERESI\n",
       "iIi6urru7u5UVFSYmJh2dnZmZmYiIiLMzMwAAAACOUT4AAAAAXRSTlMAQObYZgAAAIZJREFUGNNj\n",
       "uLNr1aoFDBDAe3rVqlUMDPPevXvXABXiBLJfMDAsZ2DggIowcBUwMAClgZrWwoWA6AKIwRbAgACp\n",
       "YLIESYTdAUxtRhLiNgBLPABzysFkHZhkVQBLvAFzgsAkD9hV7CJgzgmI2g1Ipr8GU3lIQmwQITsk\n",
       "IWaI0L0JCCHel0ACAGZ/IWYWXR3hAAAAAElFTkSuQmCC\n",
       "\" style=\"display:inline;vertical-align:middle;\" /></a></td></tr>\n",
       "<tr><td>4</td><td>Operation</td><td>operator:&nbsp;7<br>operands:&nbsp;8<br></td><td><a class=\"ProveItLink\" href=\"../82ff7d75974072e2bd8c9ad747bad49d44f9a02f0/expr.ipynb\"><img src=\"data:image/png;base64,iVBORw0KGgoAAAANSUhEUgAAABQAAAAPBAMAAAAWtvJmAAAAMFBMVEX///+6urpmZmaqqqru7u52\n",
       "dnYyMjKYmJjc3NwQEBCIiIhEREQiIiJUVFTMzMwAAACQ7J58AAAAAXRSTlMAQObYZgAAAIpJREFU\n",
       "CNdjYGBgeMvA4Kt6jwEETjNwTGbobACyuGYzcE9g4N0AZLZnM/AnMLB+ATIDshn8NzBwfWRgYG+A\n",
       "iH5nYPBiyGZgmsDA/QsoD2SypDMY/WJgfgBkMrCvevWZwZUBxGQAmWB79+7PW0AmWwJIYDYD1w+G\n",
       "fgEo8whDFogV+1+dIUjbgAEJAACj1CKodoRagwAAAABJRU5ErkJggg==\n",
       "\" style=\"display:inline;vertical-align:middle;\" /></a></td></tr>\n",
       "<tr><td>5</td><td>Literal</td><td></td><td><a class=\"ProveItLink\" href=\"../../../../multiplication/__pv_it/21fd2079611555ecce512d99547a00d551e6b86b0/expr.ipynb\"><img src=\"data:image/png;base64,iVBORw0KGgoAAAANSUhEUgAAAAMAAAADBAMAAACkBqiMAAAAElBMVEX///9EREQQEBAiIiLu7u4A\n",
       "AABGBidwAAAAAXRSTlMAQObYZgAAABFJREFUCNdjYHFgcDVgcBIAAASWAQx4jI0xAAAAAElFTkSu\n",
       "QmCC\n",
       "\" style=\"display:inline;vertical-align:middle;\" /></a></td></tr>\n",
       "<tr><td>6</td><td>ExprTuple</td><td>9, 9</td><td><a class=\"ProveItLink\" href=\"../f10d6b473eb81139cc985814980ef33601153f6f0/expr.ipynb\"><img src=\"data:image/png;base64,iVBORw0KGgoAAAANSUhEUgAAACkAAAAVBAMAAAAp9toTAAAAMFBMVEX////c3NwiIiJERESqqqqY\n",
       "mJh2dnZmZmYQEBDu7u4yMjJUVFTMzMyIiIi6uroAAAAs73DqAAAAAXRSTlMAQObYZgAAAPtJREFU\n",
       "GNNt0T9Lw0AcxvGvf5I2tpXuvgAHFxf3vgOdHDXTiVAhg3R2cNaAi1uzOLjlJRRXBzuLgzgKYhHE\n",
       "QTD+nkuvSDBwl+c+cL/7B/9/69MGHKi7p7vpnPNwN3IubU0s3RJVVfXt9dBSSQG9KXEOpddj6MA+\n",
       "tHNiiCdeUxjCNbz64dvftVcGjJST7aBX1uKMG+XWIOiptdWCC+VxwGSmKmf8aPAYtGe7ojurdSvo\n",
       "clnrueZ9BR1ndYUd/aS59F0aFRxpUdPkQ7qb1Tt7UaFP08u+pYc969aeaffDqULQiaN0nqPFBZ/4\n",
       "m2xooj1vzAeLJ+mo1FLzhZ7gF2zCOiOVT45EAAAAAElFTkSuQmCC\n",
       "\" style=\"display:inline;vertical-align:middle;\" /></a></td></tr>\n",
       "<tr><td>7</td><td>Literal</td><td></td><td><a class=\"ProveItLink\" href=\"../b28e6317a1d330492d51cd67ccba81d4d210b8b30/expr.ipynb\"><img src=\"data:image/png;base64,iVBORw0KGgoAAAANSUhEUgAAAE8AAAAOBAMAAACcHlx8AAAAMFBMVEX///8iIiIQEBCYmJjc3Ny6\n",
       "urru7u5mZmZ2dnaqqqrMzMxEREQyMjJUVFSIiIgAAABUCcz6AAAAAXRSTlMAQObYZgAAAWhJREFU\n",
       "KM99kL9Lw3AQxV/bNE1s0rh1VNTBqWR2sAXdEwRns9XJtFsRwSxVx/oXNLgqNKugtLsgHQVtDWLt\n",
       "IEahVrT+vIsK1qEH+QS+PN67ewDuPlutExd/JtnA8EgTJv/eAPllSOj/EyLLGHsmbFoYNRuMVJ9Q\n",
       "80cKM2HQA8FojtIJA6bmsWMTQqmbg7gTuKslxG8Xg7N4cEiadnkGMfb6Ts062M0JBeyZyrizAkk9\n",
       "hV1GFVjKUaLKXrjnai5NoY+EK2aQnKsUsRzxYPskFHpIeIiGF9QZU1Cn56+hUoZIq1u2iapFx9JD\n",
       "xEctrPmVvlgPWuF3X/kJrCoCs/xgu7gKa/wgRD1obG8wlCZ7IY34o2hwvnUsco18+pEV7uFrOqAb\n",
       "pkNeYh9qY8Gu4EJ2e9JPjQcUm2ogn1MLkNyqoNNlVIniO4oupyUM1oB8/b11vs47bAfkWQpukAwQ\n",
       "n4TkQW67Qruz30F3C18Fz3drZAxLCAAAAABJRU5ErkJggg==\n",
       "\" style=\"display:inline;vertical-align:middle;\" /></a></td></tr>\n",
       "<tr><td>8</td><td>ExprTuple</td><td>10, 11</td><td><a class=\"ProveItLink\" href=\"../6ffcfc28c343a71f52238bab605c8246f69849220/expr.ipynb\"><img src=\"data:image/png;base64,iVBORw0KGgoAAAANSUhEUgAAACkAAAAVBAMAAAAp9toTAAAAMFBMVEX////c3NwiIiJERESqqqqY\n",
       "mJh2dnZmZmYQEBDu7u4yMjJUVFTMzMyIiIi6uroAAAAs73DqAAAAAXRSTlMAQObYZgAAAQdJREFU\n",
       "GNNtkT1Lw1AUhp9gor2tLVmEgqN/oYKb2bt0clO6ORTRpeqmorNmKiIUAtKhrg4ORcjuEpwLKR2d\n",
       "RBdxUM9pckMp3uHc932493A+4P9TSxbAnoaXIoB56sSsxKKGajcyWg+cC4igqgmqlxndgkfYgVIo\n",
       "bu0+o99wGHILb+raGTWfkE5YCjgW5/lzb1ssHzEQ0yenp7Cd4EZcawJL71ruWULtnB9wY0vZHacB\n",
       "q+9KexR0VoPQK2iORl/Plj6gGTZnWrrQulPfkb9exH5OzYdcr2FZWpXKpgo7v11z44s/aYgrTyj5\n",
       "dqJWaMdeO9deUcaBneQ8NTJJ1nNTrKSiqZzFDY3hD7I1QVAzxm0BAAAAAElFTkSuQmCC\n",
       "\" style=\"display:inline;vertical-align:middle;\" /></a></td></tr>\n",
       "<tr><td>9</td><td>Literal</td><td></td><td><a class=\"ProveItLink\" href=\"../../../__pv_it/44c347496acc279b31e97f8859fc6a0a1e31c26b0/expr.ipynb\"><img src=\"data:image/png;base64,iVBORw0KGgoAAAANSUhEUgAAAAoAAAAOBAMAAADkjZCYAAAAKlBMVEX///8yMjKqqqpERESIiIi6\n",
       "urru7u5UVFSYmJh2dnZmZmYiIiLMzMwAAACZcOxaAAAAAXRSTlMAQObYZgAAAEVJREFUCNdjOL1y\n",
       "5swJDL13794tYJjGwMDOwDCBgWEOAxCwOoDIZBDBsAhEsF0AkSwCIJK7AETmLgCRsWBSF0yebWBg\n",
       "AAAo0Q9n+lHhAQAAAABJRU5ErkJggg==\n",
       "\" style=\"display:inline;vertical-align:middle;\" /></a></td></tr>\n",
       "<tr><td>10</td><td>Literal</td><td></td><td><a class=\"ProveItLink\" href=\"../../../__pv_it/23412ce59ea7e77353d2f9225e02248e73651ca00/expr.ipynb\"><img src=\"data:image/png;base64,iVBORw0KGgoAAAANSUhEUgAAAAoAAAAPBAMAAAAv0UM9AAAALVBMVEX///9mZmaqqqru7u52dnYy\n",
       "MjKYmJjc3NwQEBCIiIhEREQiIiJUVFTMzMwAAACUDTcXAAAAAXRSTlMAQObYZgAAAD5JREFUCNdj\n",
       "YGBguMMAArtABGcXiCyLApEOIJKtAERaMoBIBxDJdAFEmjCASJ0zZ16cBCkF64KQPu/EwBwGACv6\n",
       "DSRgin9qAAAAAElFTkSuQmCC\n",
       "\" style=\"display:inline;vertical-align:middle;\" /></a></td></tr>\n",
       "<tr><td>11</td><td>Literal</td><td></td><td><a class=\"ProveItLink\" href=\"../../../__pv_it/cdcd6ad997b4d5c13a719b005810863ba48ff0c70/expr.ipynb\"><img src=\"data:image/png;base64,iVBORw0KGgoAAAANSUhEUgAAAAoAAAAOBAMAAADkjZCYAAAAMFBMVEX///8iIiKYmJi6urqIiIgy\n",
       "MjJERESqqqoQEBDc3NzMzMx2dnZmZmZUVFTu7u4AAABn2L4sAAAAAXRSTlMAQObYZgAAAFVJREFU\n",
       "CNdjYHh7+hYDA2c7w4wJDGwNDLwJDPwBDNz/GN4nMLB8BrM/MfA0MLB9YeALYqj5wsDA5LLkOwMQ\n",
       "ANUAAWsAA8tPhvkGDCxyDCFA/p5jBQwAtzwVEbGPESsAAAAASUVORK5CYII=\n",
       "\" style=\"display:inline;vertical-align:middle;\" /></a></td></tr>\n",
       "</table>\n"
      ],
      "text/plain": [
       "0. (7 * 7) = 49\n",
       "   core type: Operation\n",
       "   operator: 1\n",
       "   operands: 2\n",
       "1. =\n",
       "   core type: Literal\n",
       "   sub-expressions: \n",
       "2. (7 * 7 , 49)\n",
       "   core type: ExprTuple\n",
       "   sub-expressions: 3, 4\n",
       "3. 7 * 7\n",
       "   core type: Operation\n",
       "   operator: 5\n",
       "   operands: 6\n",
       "4. 49\n",
       "   core type: Operation\n",
       "   operator: 7\n",
       "   operands: 8\n",
       "5. *\n",
       "   core type: Literal\n",
       "   sub-expressions: \n",
       "6. (7 , 7)\n",
       "   core type: ExprTuple\n",
       "   sub-expressions: 9, 9\n",
       "7. Decimal\n",
       "   core type: Literal\n",
       "   sub-expressions: \n",
       "8. (4 , 9)\n",
       "   core type: ExprTuple\n",
       "   sub-expressions: 10, 11\n",
       "9. 7\n",
       "   core type: Literal\n",
       "   sub-expressions: \n",
       "10. 4\n",
       "    core type: Literal\n",
       "    sub-expressions: \n",
       "11. 9\n",
       "    core type: Literal\n",
       "    sub-expressions: "
      ]
     },
     "execution_count": 3,
     "metadata": {},
     "output_type": "execute_result"
    }
   ],
   "source": [
    "# display the expression information\n",
    "mult_7_7.exprInfo()"
   ]
  },
  {
   "cell_type": "code",
   "execution_count": null,
   "metadata": {},
   "outputs": [],
   "source": []
  }
 ],
 "metadata": {
  "kernelspec": {
   "display_name": "Python 3",
   "language": "python",
   "name": "python3"
  }
 },
 "nbformat": 4,
 "nbformat_minor": 0
}
