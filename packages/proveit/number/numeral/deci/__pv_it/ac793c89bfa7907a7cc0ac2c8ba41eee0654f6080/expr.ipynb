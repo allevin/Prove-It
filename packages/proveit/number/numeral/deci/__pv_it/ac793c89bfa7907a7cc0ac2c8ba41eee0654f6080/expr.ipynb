{
 "cells": [
  {
   "cell_type": "markdown",
   "metadata": {},
   "source": [
    "Expression of type <a class=\"ProveItLink\" href=\"../../../../../../../doc/html/api/proveit.Lambda.html\">Lambda</a>\n",
    "=======================\n",
    "# from context <a class=\"ProveItLink\" href=\"../../_context_.ipynb\">proveit.number.numeral.deci</a>"
   ]
  },
  {
   "cell_type": "code",
   "execution_count": 1,
   "metadata": {},
   "outputs": [],
   "source": [
    "# import Expression classes needed to build the expression\n",
    "from proveit import Lambda\n",
    "from proveit._common_ import a, b, c, d\n",
    "from proveit.logic import Equals\n",
    "from proveit.number import Len, four"
   ]
  },
  {
   "cell_type": "code",
   "execution_count": 2,
   "metadata": {},
   "outputs": [
    {
     "data": {
      "text/html": [
       "<strong id=\"expr\">expr:</strong> <a class=\"ProveItLink\" href=\"expr.ipynb\"><img src=\"data:image/png;base64,iVBORw0KGgoAAAANSUhEUgAAAMUAAAAVCAMAAADB2NrtAAAANlBMVEX///8UFBQNDQ3MzMyYmJiI\n",
       "iIhUVFTc3NwyMjIiIiJ2dnbu7u6qqqpmZmYQEBBERES6uroAAAAYnTBMAAAAAXRSTlMAQObYZgAA\n",
       "AmtJREFUWMO1V9uW5CAIzG5Ejbfo///seI1I0qc1Z8aHfqBTFAWCum1vlhHbn66/9r95iD/KE8Mv\n",
       "LIZ8Yv8LsM2fzs6Adk5YiuFpae6OycxkcrsvqijUCBZXMDNIqQlLMXz4mM9mNJPLRRXHWVhwPoKe\n",
       "AAIQFoBvsU0VI5MztaQCXFHRYRE4VX2nCYvT32KbWYVcuxUVgsmiosNiXWbawkvC4uXX2Kb2aSE/\n",
       "zYIKtVUVFSY4KN+rPwZm8K6wirDYq5rZiRNjWwBwNna8UgBDO2JyZedVMHGpyLDMffbqkwxytC0k\n",
       "IyzN0JwMEYfEEnDMu4tAiQkGciPvKqxEq08LHfuxqUgwEVj+ePugQvOeYOcJSzNUJ+dQxRybQ72n\n",
       "XZoFJyrPSO7ddC2S16YiwXhO4NHJ/v87huXC5TNQFc1QnQwDq8QWUL/xQIMZyfcwq8LsSEWC5brr\n",
       "Himtxcb7Xx9VVCfDjj/ydg0o8+G8zeKBfFqFzrKRChEgVz/+9azCoo51hu4oUzcGddJOC4umbflq\n",
       "aO0R97SjLN4WLQuGpxUchwrTmYzLUqS7ih0zn7S7q2Fw0sLOlcltcVnK1+yyEHIml87ueuplWBoz\n",
       "Jlb/aowxYcPB1UbhxdIMyIkONQ08Rmj5hi35a7V3y0i+MmmRigSLAxv8fsIM0B/01Duuqd+caBdE\n",
       "HW5gWRlN1RKPFwDQyDKSS79y6vEQin85fwOu8gW9gTy8BLx4Y1m9gTzApm/zirDgq9hle2WJXuGV\n",
       "CrX+wJm5mb9UoVdv5jfY9BL0lSRub4h7amYssffFKxX8zetWpADwKBC/9GLFl0Twa7AfNWAcTMYz\n",
       "ki0AAAAASUVORK5CYII=\n",
       "\" style=\"display:inline;vertical-align:middle;\" /></a><br>"
      ],
      "text/plain": [
       "expr: d -> (|(a , b , c , d)| = 4)"
      ]
     },
     "execution_count": 2,
     "metadata": {},
     "output_type": "execute_result"
    }
   ],
   "source": [
    "# build up the expression from sub-expressions\n",
    "expr = Lambda(d, Equals(Len([a, b, c, d]), four))"
   ]
  },
  {
   "cell_type": "code",
   "execution_count": 3,
   "metadata": {},
   "outputs": [
    {
     "name": "stdout",
     "output_type": "stream",
     "text": [
      "Passed sanity check: built 'expr' is the same as the stored Expression.\n"
     ]
    }
   ],
   "source": [
    "# check that the built expression is the same as the stored expression\n",
    "%check_expr"
   ]
  },
  {
   "cell_type": "code",
   "execution_count": 4,
   "metadata": {},
   "outputs": [
    {
     "data": {
      "text/html": [
       "<table><tr><th>&nbsp;</th><th>core type</th><th>sub-expressions</th><th>expression</th></tr>\n",
       "<tr><td>0</td><td>Lambda</td><td>parameter:&nbsp;11<br>body:&nbsp;1<br></td><td><a class=\"ProveItLink\" href=\"expr.ipynb\"><img src=\"data:image/png;base64,iVBORw0KGgoAAAANSUhEUgAAAMUAAAAVCAMAAADB2NrtAAAANlBMVEX///8UFBQNDQ3MzMyYmJiI\n",
       "iIhUVFTc3NwyMjIiIiJ2dnbu7u6qqqpmZmYQEBBERES6uroAAAAYnTBMAAAAAXRSTlMAQObYZgAA\n",
       "AmtJREFUWMO1V9uW5CAIzG5Ejbfo///seI1I0qc1Z8aHfqBTFAWCum1vlhHbn66/9r95iD/KE8Mv\n",
       "LIZ8Yv8LsM2fzs6Adk5YiuFpae6OycxkcrsvqijUCBZXMDNIqQlLMXz4mM9mNJPLRRXHWVhwPoKe\n",
       "AAIQFoBvsU0VI5MztaQCXFHRYRE4VX2nCYvT32KbWYVcuxUVgsmiosNiXWbawkvC4uXX2Kb2aSE/\n",
       "zYIKtVUVFSY4KN+rPwZm8K6wirDYq5rZiRNjWwBwNna8UgBDO2JyZedVMHGpyLDMffbqkwxytC0k\n",
       "IyzN0JwMEYfEEnDMu4tAiQkGciPvKqxEq08LHfuxqUgwEVj+ePugQvOeYOcJSzNUJ+dQxRybQ72n\n",
       "XZoFJyrPSO7ddC2S16YiwXhO4NHJ/v87huXC5TNQFc1QnQwDq8QWUL/xQIMZyfcwq8LsSEWC5brr\n",
       "Himtxcb7Xx9VVCfDjj/ydg0o8+G8zeKBfFqFzrKRChEgVz/+9azCoo51hu4oUzcGddJOC4umbflq\n",
       "aO0R97SjLN4WLQuGpxUchwrTmYzLUqS7ih0zn7S7q2Fw0sLOlcltcVnK1+yyEHIml87ueuplWBoz\n",
       "Jlb/aowxYcPB1UbhxdIMyIkONQ08Rmj5hi35a7V3y0i+MmmRigSLAxv8fsIM0B/01Duuqd+caBdE\n",
       "HW5gWRlN1RKPFwDQyDKSS79y6vEQin85fwOu8gW9gTy8BLx4Y1m9gTzApm/zirDgq9hle2WJXuGV\n",
       "CrX+wJm5mb9UoVdv5jfY9BL0lSRub4h7amYssffFKxX8zetWpADwKBC/9GLFl0Twa7AfNWAcTMYz\n",
       "ki0AAAAASUVORK5CYII=\n",
       "\" style=\"display:inline;vertical-align:middle;\" /></a></td></tr>\n",
       "<tr><td>1</td><td>Operation</td><td>operator:&nbsp;2<br>operands:&nbsp;3<br></td><td><a class=\"ProveItLink\" href=\"../79447c4c8405ea190af83c9c83b4a8c5e6fddc210/expr.ipynb\"><img src=\"data:image/png;base64,iVBORw0KGgoAAAANSUhEUgAAAIkAAAAVBAMAAACArtDCAAAAMFBMVEX///8iIiJERESYmJhmZmYQ\n",
       "EBDu7u4yMjJUVFTMzMyIiIi6urp2dnbc3NyqqqoAAABw9lLDAAAAAXRSTlMAQObYZgAAAeJJREFU\n",
       "OMuVlL9Lw0AUx7+2aVJJmqo4ORXExcVsDipUFx11EUHFLIKD0IiCjg6C0sEW/4IMCrZ16OKgi3W0\n",
       "Lh3FxTo6iPUHgg7i5S6JqbzY+objmy/vPnkv93J4xP+Czr/m63kb+0cC+SSlczvgrMwQaepAWsrT\n",
       "FGczdxUzaG9Rb0vWYdGUjpTrFpvsL4pyYWKUphx5lNmm4t8pyiWwTFISwy5FtYK21kVRNoBInaJo\n",
       "ikuRKmy5OTmtcVvJHhsiYbVacN+XvWZtammKMuZRFLZLXcSQsDMpfIiPP481YZ3WIqxN3fIok5tO\n",
       "8FOQbY8SKwN3BibElicTC1ws2+gXpbxCYgR1mqhFg0dJMkoO6BP+JPDGRc7LjDfQwZrubBCUhybK\n",
       "C2TRB3qhvnLx4s9KCpkyTZErPiVWR+ITekN2x0XiZ80sN+5sPMEMdDTe7UQPU/reXm7O5m7EgPyF\n",
       "uPUAZ4Y/EKtwwSqKcpGpY1fPI2qRUxdza3GOcB336Yr8zJ72MQUudoArLhRD79XCTtqnqGzObopn\n",
       "g2V5iY3MyiErzRFStWhykciWDkoMVianLvdmCHfRn/5aqAj7A35uhlHvKRougGoLin8z/EWRrRaU\n",
       "hHdL2QgViNfCKSW+3rZxYxYC+b/iG5ArkWK5qo/AAAAAAElFTkSuQmCC\n",
       "\" style=\"display:inline;vertical-align:middle;\" /></a></td></tr>\n",
       "<tr><td>2</td><td>Literal</td><td></td><td><a class=\"ProveItLink\" href=\"../../../../../logic/equality/__pv_it/2fb26078095930560931daa0500ce419a39ea6cd0/expr.ipynb\"><img src=\"data:image/png;base64,iVBORw0KGgoAAAANSUhEUgAAAA4AAAAFBAMAAACHocAhAAAAFVBMVEX///9EREQiIiJUVFQyMjJm\n",
       "ZmYAAADubVkoAAAAAXRSTlMAQObYZgAAABRJREFUCNdjCHEBAWcGXCBICQQUAUpuAwlgGKrkAAAA\n",
       "AElFTkSuQmCC\n",
       "\" style=\"display:inline;vertical-align:middle;\" /></a></td></tr>\n",
       "<tr><td>3</td><td>ExprTuple</td><td>4, 5</td><td><a class=\"ProveItLink\" href=\"../99dd40e7b4e69e59d591f83c96c217d6db279bd50/expr.ipynb\"><img src=\"data:image/png;base64,iVBORw0KGgoAAAANSUhEUgAAAIUAAAAVBAMAAACakjBMAAAAMFBMVEX////c3NwiIiJERESqqqqY\n",
       "mJh2dnZmZmYQEBDu7u4yMjJUVFTMzMyIiIi6uroAAAAs73DqAAAAAXRSTlMAQObYZgAAAjJJREFU\n",
       "OMuVlD9o1HAUx7/p5XJJrs1lP6TdOglZBBfxdC40Lh0cJDjo5HEgdNDFiggi6o2FDpelFHHp0MlS\n",
       "7sBFcMnkH/SO6FRE8dSWIlTx/X6/l393QWqG8PJ57/e538vvXQC6LuD/rql6J0JbBl9PsPqKvLcn\n",
       "yStms9u5zMbdEoFztlMbFBy0RpKnzOxuvv5Z2S4aLYQFx4wHQeYiZsNC+UGZ41sXKwXHW3IQMbvM\n",
       "HhS2/avMcRVYzzu0y54kn5k5Yb7aWChzbAGVVs5h2J4kq8xqAd2ar/ddmbX33vuqzro2HKgf3WtT\n",
       "g0Yn57gkHEQ2mdm0xlnDeZXteThW0cvYVnvadyvUoB5mDisSDiKPmZkxMO/jpkovd3Ff1T1CRe5I\n",
       "O0SN1jt3MocB4SDyh1mDHH3gtErfAo5kUB/zvimYoXZnx5ljSTqI5B0/YXEHi3AO1Uh4yWx46MUF\n",
       "hxUkjntJLy1ov6GPLR6Pmjrd+YgdFCyjm+9F393tP4wEOcOMurYOUA+XIOb1GGYggwa9DF94ey08\n",
       "1weo8jtVQ23SPohcZ4c4tE1c7ATWD3rawW3IoN6BMegtiHPTF430bGVOOYh8SmaM6prDL+di6wmN\n",
       "yMYb2pYIsDp8h/XvYjxGL0akipVD5oz+kS+I6XJ/a+mcu5MBPqajmsx6liNSDdixksDqVAA/jW6w\n",
       "o1ogU//9fzmscNIhSZMdWvINSk4zC+ZSWd1lR1QgWoSRfDp1gm/hB3kfFclfCcebmNfFDVsAAAAA\n",
       "SUVORK5CYII=\n",
       "\" style=\"display:inline;vertical-align:middle;\" /></a></td></tr>\n",
       "<tr><td>4</td><td>Operation</td><td>operator:&nbsp;6<br>operand:&nbsp;7<br></td><td><a class=\"ProveItLink\" href=\"../70cab01c33afeee5a8ff0703de40f701b58f208c0/expr.ipynb\"><img src=\"data:image/png;base64,iVBORw0KGgoAAAANSUhEUgAAAGIAAAAVBAMAAABPrCZEAAAAMFBMVEX///8iIiJERESYmJhmZmYQ\n",
       "EBDu7u4yMjJUVFTMzMyIiIi6urp2dnbc3NyqqqoAAABw9lLDAAAAAXRSTlMAQObYZgAAAZpJREFU\n",
       "OMuVk7FPwkAUxj+htJDS4sDkRGJcXOyuA3HRURcXJXYhYTChRgdHBxMTBiH+BQwOSh26MOBiHYWl\n",
       "I3Ghjg4EBGOCA/F6B+WaFIM33H137/3y3t17hy7+N7po0fVpAd9NOrcYkbjkLIX9EHd5LStUOELS\n",
       "eetFWISUC4MjagHjOIx41rHFEQeBBL7DiBcgPyNkg7cll8OIcyDi+oRgk6n9WHeoTSrda8zrpPnA\n",
       "hFJqkVSTWZ+QiIecwwYzFzMYUZE4xCk7qjsRkqpq+ETMAjoatpm5p+OIinwVqyzEEALxlvd8IkWI\n",
       "MrDCiB3gi4ry9A7xPpZI4ol+gBhAZLkgDXlIxcCvRQZFK0DEXCg/UPvipBwCfV9yNBmdKnrQ+awi\n",
       "GsQx4sYHvNqPELOpIJGiVBRdXKsVRGc3957tDO9ZW/wkuxvsgoor4JUKSVPTycDryqRm7Vpj3RKP\n",
       "SUkKdySkJ4RmTadCKZm3JgGtWZfk/A5x5opAl7Ae80Z0vgCaYd3+FyHy3a5Mf1QVcwXiDiNMuntb\n",
       "4NeyrjR/AcL/g5OOZcERAAAAAElFTkSuQmCC\n",
       "\" style=\"display:inline;vertical-align:middle;\" /></a></td></tr>\n",
       "<tr><td>5</td><td>Literal</td><td></td><td><a class=\"ProveItLink\" href=\"../../../__pv_it/23412ce59ea7e77353d2f9225e02248e73651ca00/expr.ipynb\"><img src=\"data:image/png;base64,iVBORw0KGgoAAAANSUhEUgAAAAoAAAAPBAMAAAAv0UM9AAAALVBMVEX///9mZmaqqqru7u52dnYy\n",
       "MjKYmJjc3NwQEBCIiIhEREQiIiJUVFTMzMwAAACUDTcXAAAAAXRSTlMAQObYZgAAAD5JREFUCNdj\n",
       "YGBguMMAArtABGcXiCyLApEOIJKtAERaMoBIBxDJdAFEmjCASJ0zZ16cBCkF64KQPu/EwBwGACv6\n",
       "DSRgin9qAAAAAElFTkSuQmCC\n",
       "\" style=\"display:inline;vertical-align:middle;\" /></a></td></tr>\n",
       "<tr><td>6</td><td>Literal</td><td></td><td><a class=\"ProveItLink\" href=\"../../../../sets/integer/__pv_it/0a9286fafc7688968c9f0b1c9372a7c495b9f9510/expr.ipynb\"><img src=\"data:image/png;base64,iVBORw0KGgoAAAANSUhEUgAAADsAAAASBAMAAAAXqLt+AAAAMFBMVEX///+qqqru7u5ERERUVFTM\n",
       "zMzc3NyIiIgQEBAyMjJmZmaYmJi6uroiIiJ2dnYAAAD2HuJxAAAAAXRSTlMAQObYZgAAAURJREFU\n",
       "KM99kT9LAnEYxz93Xmnn33fgvYJ0iISWhIJ0k95ABw2BixcFkhC1RFu4BU03lNIibg0N3hDUlhA0\n",
       "xlFDQQgmaBQOPXc5BGoPHPf93ef3fJ/vw0FnyKRSc23/He5OYEcwZ/tSr45jpQfxhC9D1jjWxfje\n",
       "8GWpMI6jYtz5lS15iq81bhe3dl2JUn9P3ywvWJxd7ZiCVmTUI0XcvKX24ZySTVLSfZl6VvCx+Dtc\n",
       "RJwH1CHhnpfpUlr6aGmYkY7cddlUhUngUJYNkyc/XVRmBQ/he7SMViWZYN9z8ZiYEsgafI72jzeN\n",
       "A5MllC5myuENQz653vggIZeW4coeH3JTcUSchE3i6xZ7qDXP6kUppAxtgGbPk0ftx6StYRCrl+EO\n",
       "NreJrFXazGYsTqHxPOFXBWyml0MqMZ3qA1b/aVYylebf8w8ORloN8BKQFQAAAABJRU5ErkJggg==\n",
       "\" style=\"display:inline;vertical-align:middle;\" /></a></td></tr>\n",
       "<tr><td>7</td><td>ExprTuple</td><td>8, 9, 10, 11</td><td><a class=\"ProveItLink\" href=\"../01f3547cb6e447be93e3bf9397d84951004f68d70/expr.ipynb\"><img src=\"data:image/png;base64,iVBORw0KGgoAAAANSUhEUgAAAFAAAAAVBAMAAAAjqnRBAAAAMFBMVEX////c3NwiIiJERESqqqqY\n",
       "mJh2dnZmZmYQEBDu7u4yMjJUVFTMzMyIiIi6uroAAAAs73DqAAAAAXRSTlMAQObYZgAAAXtJREFU\n",
       "KM+Nkz9Iw0AYxV/bJG0S2nTv0E66dtBRLI4imNkpOOgmWewgghZEJyWjuLSLgwhSB0GEYsBFcLCT\n",
       "4JBSdRERGmkdOlj87q6BFFJthuSXd+++f7kAE1+Z5v8euU23h5CgXhcibG8H2KbHWVjT6lEBe9CA\n",
       "9EhmoxRVXB+yhZQT1jpOhFEpQN3Fx4i2GpVZs4EZlIlijY2K0M69q2Fba54rKPfUoXrWcUr8nk34\n",
       "YrkLQ6zftzUxgEwF81TPIo4o4DeSRa5KfaQsvuMQCZNLeRNbLBYGgO4jLnpP1mDYDHQ/KPAWmKLH\n",
       "IzMaRVRFwriNDg9kFANjF+qAG/coehPLcIZj3OGQD6Yb+4Hkqyz1LFAt4UZyVWZ0sQ8OFNdkoPag\n",
       "15aAFeobmilNK6hSl3opWRdgQ3EZ0FQWbIuN55WNsXXXwvEX7W9sggPK3rOAnPc5R2fnAqlsUPbL\n",
       "eGCfULaCF3M8QGmGjtlfxhNWxJDTGAvAJZvUBL9C2sUvYK1jupu6jYwAAAAASUVORK5CYII=\n",
       "\" style=\"display:inline;vertical-align:middle;\" /></a></td></tr>\n",
       "<tr><td>8</td><td>Variable</td><td></td><td><a class=\"ProveItLink\" href=\"../../../../../__pv_it/07527342713064c87612d00d8557c53d53d5324a0/expr.ipynb\"><img src=\"data:image/png;base64,iVBORw0KGgoAAAANSUhEUgAAAAsAAAAJBAMAAAAWSsseAAAAMFBMVEX///8yMjKqqqrMzMzu7u4i\n",
       "IiJmZmaYmJhEREQQEBC6urp2dnaIiIhUVFTc3NwAAAD87Fq/AAAAAXRSTlMAQObYZgAAAEhJREFU\n",
       "CNdjYOC7s2seAwPDygccHxgY+L4zsDUwMPB+YGA9wMDA38Dgb8DA8P4Agz6DA4O/AsNFJgMGxgKm\n",
       "MG6gyjunLE4xAAAZTBA5TB6DCwAAAABJRU5ErkJggg==\n",
       "\" style=\"display:inline;vertical-align:middle;\" /></a></td></tr>\n",
       "<tr><td>9</td><td>Variable</td><td></td><td><a class=\"ProveItLink\" href=\"../../../../../__pv_it/6840a4fa6c106149dc16a131294d0c5e44f1b0480/expr.ipynb\"><img src=\"data:image/png;base64,iVBORw0KGgoAAAANSUhEUgAAAAkAAAAOBAMAAAAPuiubAAAALVBMVEX///9mZmbMzMxERESYmJiI\n",
       "iIh2dna6urqqqqoyMjIiIiIQEBBUVFTu7u4AAAD9S1JeAAAAAXRSTlMAQObYZgAAAE1JREFUCNdj\n",
       "4D29gAEIOA+ASL4GEFl3AURmgQiGOaFHGBh4HzPwKTBwvGXgTmBgnMDAJ8DAJcBQ5wBSLncBJLWN\n",
       "gYGngRFoBO9REQYGAGrcDtUkVqASAAAAAElFTkSuQmCC\n",
       "\" style=\"display:inline;vertical-align:middle;\" /></a></td></tr>\n",
       "<tr><td>10</td><td>Variable</td><td></td><td><a class=\"ProveItLink\" href=\"../../../../../__pv_it/cbdfda466482236edba0ce44ac7ef39cda0af7a40/expr.ipynb\"><img src=\"data:image/png;base64,iVBORw0KGgoAAAANSUhEUgAAAAkAAAAJBAMAAAASvxsjAAAALVBMVEX///9mZmbc3NxUVFSYmJhE\n",
       "REQiIiIyMjK6uroQEBDMzMyIiIh2dnbu7u4AAABgFDGoAAAAAXRSTlMAQObYZgAAADZJREFUCNdj\n",
       "YOA9s3sBA8PKBvYEBt7ZDKwODMwPGICALwBE6m0Asx0YGIDiAgw8QJUyu/cyAAAmuwmycZ8WfQAA\n",
       "AABJRU5ErkJggg==\n",
       "\" style=\"display:inline;vertical-align:middle;\" /></a></td></tr>\n",
       "<tr><td>11</td><td>Variable</td><td></td><td><a class=\"ProveItLink\" href=\"../../../../../__pv_it/3a5de44ed6135dbbdbbeec6704c741e238f127300/expr.ipynb\"><img src=\"data:image/png;base64,iVBORw0KGgoAAAANSUhEUgAAAAsAAAAOBAMAAAALT/umAAAAMFBMVEX////MzMyYmJiIiIhUVFTc\n",
       "3NwyMjIiIiJ2dnbu7u6qqqpmZmYQEBBERES6uroAAABkyy6XAAAAAXRSTlMAQObYZgAAAFhJREFU\n",
       "CNdjYGBg4LuzgQEE+BeAqfcTwFQ7mGTIBmJW575fQOpNAO9PIOcTA3cCAwPLBwb2BqCeCwzzHzAw\n",
       "xBswrGeYwDB/AYMblwADmwJXNQdIm52sHQMAfyoTCZukXIEAAAAASUVORK5CYII=\n",
       "\" style=\"display:inline;vertical-align:middle;\" /></a></td></tr>\n",
       "</table>\n"
      ],
      "text/plain": [
       "0. d -> (|(a , b , c , d)| = 4)\n",
       "   core type: Lambda\n",
       "   parameter: 11\n",
       "   body: 1\n",
       "1. |(a , b , c , d)| = 4\n",
       "   core type: Operation\n",
       "   operator: 2\n",
       "   operands: 3\n",
       "2. =\n",
       "   core type: Literal\n",
       "   sub-expressions: \n",
       "3. (|(a , b , c , d)| , 4)\n",
       "   core type: ExprTuple\n",
       "   sub-expressions: 4, 5\n",
       "4. |(a , b , c , d)|\n",
       "   core type: Operation\n",
       "   operator: 6\n",
       "   operand: 7\n",
       "5. 4\n",
       "   core type: Literal\n",
       "   sub-expressions: \n",
       "6. length\n",
       "   core type: Literal\n",
       "   sub-expressions: \n",
       "7. (a , b , c , d)\n",
       "   core type: ExprTuple\n",
       "   sub-expressions: 8, 9, 10, 11\n",
       "8. a\n",
       "   core type: Variable\n",
       "   sub-expressions: \n",
       "9. b\n",
       "   core type: Variable\n",
       "   sub-expressions: \n",
       "10. c\n",
       "    core type: Variable\n",
       "    sub-expressions: \n",
       "11. d\n",
       "    core type: Variable\n",
       "    sub-expressions: "
      ]
     },
     "execution_count": 4,
     "metadata": {},
     "output_type": "execute_result"
    }
   ],
   "source": [
    "# display the expression information\n",
    "expr.exprInfo()"
   ]
  },
  {
   "cell_type": "code",
   "execution_count": null,
   "metadata": {},
   "outputs": [],
   "source": []
  }
 ],
 "metadata": {
  "kernelspec": {
   "display_name": "Python 3",
   "language": "python",
   "name": "python3"
  }
 },
 "nbformat": 4,
 "nbformat_minor": 0
}
