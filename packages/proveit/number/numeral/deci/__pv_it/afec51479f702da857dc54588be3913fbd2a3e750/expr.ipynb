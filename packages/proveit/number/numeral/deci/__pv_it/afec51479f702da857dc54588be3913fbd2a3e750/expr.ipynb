{
 "cells": [
  {
   "cell_type": "markdown",
   "metadata": {},
   "source": [
    "Expression of type <a class=\"ProveItLink\" href=\"../../../../../../../doc/html/api/proveit.ExprTuple.html\">ExprTuple</a>\n",
    "=======================\n",
    "# from context <a class=\"ProveItLink\" href=\"../../_context_.ipynb\">proveit.number.numeral.deci</a>"
   ]
  },
  {
   "cell_type": "code",
   "execution_count": 1,
   "metadata": {},
   "outputs": [],
   "source": [
    "# import Expression classes needed to build the expression\n",
    "from proveit import ExprTuple\n",
    "from proveit.number import Add, four, zero"
   ]
  },
  {
   "cell_type": "code",
   "execution_count": 2,
   "metadata": {},
   "outputs": [
    {
     "data": {
      "text/html": [
       "<strong id=\"expr\">expr:</strong> <a class=\"ProveItLink\" href=\"expr.ipynb\"><img src=\"data:image/png;base64,iVBORw0KGgoAAAANSUhEUgAAAE0AAAAVBAMAAADx+n4ZAAAAMFBMVEX////c3NwiIiJERESqqqqY\n",
       "mJh2dnZmZmYQEBDu7u4yMjJUVFTMzMyIiIi6uroAAAAs73DqAAAAAXRSTlMAQObYZgAAAVJJREFU\n",
       "KM9jYCAW8F0gqCQORJyGE0hg+t0aGJNnAwP7ASC9EsRRRlOnxzDpAJTJZMDAsICBgRdkLW8zVHAi\n",
       "hOJVYOBdABW6AVQXxsDAMQHIFl0MFfSFmrGBge8jhMkYBVQ3g4HhFYiTgKaOv4CB5wuEycYFVMfs\n",
       "wFAGZLMKoKmTT2Dg+QthBoLUsRUwLAWy5zJgUfcNzOK8AFLHsoChD2QtbnVsDCB1fA0M/4CqDzDg\n",
       "tNcHrI7nA0jdNAaIuqpVqzRWrVoN9cdXsLUJMHUtDAzeu3f/2IseLizgcGHZvXt/9wWQvaZgiWZU\n",
       "e4HhzKbAMAHM5gCax7qAIR2bOgYVhhkHOD/B1QHD5RGInf2/FFXd9Nw9DJz9AiAP7/8ewMD1gIFD\n",
       "ADn+fVFSHFwKGG+sCchSb5E5rHBWLixdYQVwdZygtCONUx08oXODHMBION3fYWAAAKMaU2/TCvCu\n",
       "AAAAAElFTkSuQmCC\n",
       "\" style=\"display:inline;vertical-align:middle;\" /></a><br>"
      ],
      "text/plain": [
       "expr: (4 + 0 , 4)"
      ]
     },
     "execution_count": 2,
     "metadata": {},
     "output_type": "execute_result"
    }
   ],
   "source": [
    "# build up the expression from sub-expressions\n",
    "expr = ExprTuple(Add(four, zero), four)"
   ]
  },
  {
   "cell_type": "code",
   "execution_count": 3,
   "metadata": {},
   "outputs": [
    {
     "name": "stdout",
     "output_type": "stream",
     "text": [
      "Passed sanity check: built 'expr' is the same as the stored Expression.\n"
     ]
    }
   ],
   "source": [
    "# check that the built expression is the same as the stored expression\n",
    "%check_expr"
   ]
  },
  {
   "cell_type": "code",
   "execution_count": 4,
   "metadata": {},
   "outputs": [
    {
     "data": {
      "text/html": [
       "<table><tr><th>&nbsp;</th><th>core type</th><th>sub-expressions</th><th>expression</th></tr>\n",
       "<tr><td>0</td><td>ExprTuple</td><td>1, 4</td><td><a class=\"ProveItLink\" href=\"expr.ipynb\"><img src=\"data:image/png;base64,iVBORw0KGgoAAAANSUhEUgAAAE0AAAAVBAMAAADx+n4ZAAAAMFBMVEX////c3NwiIiJERESqqqqY\n",
       "mJh2dnZmZmYQEBDu7u4yMjJUVFTMzMyIiIi6uroAAAAs73DqAAAAAXRSTlMAQObYZgAAAVJJREFU\n",
       "KM9jYCAW8F0gqCQORJyGE0hg+t0aGJNnAwP7ASC9EsRRRlOnxzDpAJTJZMDAsICBgRdkLW8zVHAi\n",
       "hOJVYOBdABW6AVQXxsDAMQHIFl0MFfSFmrGBge8jhMkYBVQ3g4HhFYiTgKaOv4CB5wuEycYFVMfs\n",
       "wFAGZLMKoKmTT2Dg+QthBoLUsRUwLAWy5zJgUfcNzOK8AFLHsoChD2QtbnVsDCB1fA0M/4CqDzDg\n",
       "tNcHrI7nA0jdNAaIuqpVqzRWrVoN9cdXsLUJMHUtDAzeu3f/2IseLizgcGHZvXt/9wWQvaZgiWZU\n",
       "e4HhzKbAMAHM5gCax7qAIR2bOgYVhhkHOD/B1QHD5RGInf2/FFXd9Nw9DJz9AiAP7/8ewMD1gIFD\n",
       "ADn+fVFSHFwKGG+sCchSb5E5rHBWLixdYQVwdZygtCONUx08oXODHMBION3fYWAAAKMaU2/TCvCu\n",
       "AAAAAElFTkSuQmCC\n",
       "\" style=\"display:inline;vertical-align:middle;\" /></a></td></tr>\n",
       "<tr><td>1</td><td>Operation</td><td>operator:&nbsp;2<br>operands:&nbsp;3<br></td><td><a class=\"ProveItLink\" href=\"../3a4b45e5a5bcd2807a0eb3472315eb88324115d80/expr.ipynb\"><img src=\"data:image/png;base64,iVBORw0KGgoAAAANSUhEUgAAAC0AAAAQBAMAAABw0OvaAAAAMFBMVEX///+6urpmZmaqqqru7u52\n",
       "dnYyMjKYmJjc3NwQEBCIiIhEREQiIiJUVFTMzMwAAACQ7J58AAAAAXRSTlMAQObYZgAAAJpJREFU\n",
       "GNNjYGBgeMuAAli0Fj0AM06jivMIsJwD0VyzoQIeEGoNA8MyEN2eDRW3glBnGRjkG4B0AJr4JwaG\n",
       "9wYMDOwNqOIcX4HiCxgYvBiwiAcAjcEuzvyAAas5rgwQcbW0tJNpablQewsYbO/e/XkL3Z32IHcy\n",
       "zEZ1J9BfMQxYxHkMWOaB6Nj/6ijiLKprH6AEmBUDdiCFxAYAg5AtOHpydx0AAAAASUVORK5CYII=\n",
       "\" style=\"display:inline;vertical-align:middle;\" /></a></td></tr>\n",
       "<tr><td>2</td><td>Literal</td><td></td><td><a class=\"ProveItLink\" href=\"../../../../addition/__pv_it/3e6688136fa3c7aefbebe51301b7c3ebf0b69c440/expr.ipynb\"><img src=\"data:image/png;base64,iVBORw0KGgoAAAANSUhEUgAAAA4AAAAOBAMAAADtZjDiAAAAJFBMVEX///+6urpUVFQQEBAiIiIy\n",
       "MjJmZmaIiIiqqqrc3Nzu7u4AAACgHpL+AAAAAXRSTlMAQObYZgAAAB5JREFUCNdjYGBgWMkAAe2k\n",
       "0Kmhoc6hoUGk6BMHYgAHOwjcado9fwAAAABJRU5ErkJggg==\n",
       "\" style=\"display:inline;vertical-align:middle;\" /></a></td></tr>\n",
       "<tr><td>3</td><td>ExprTuple</td><td>4, 5</td><td><a class=\"ProveItLink\" href=\"../f32f2eb79d8284d85da157fd6ead52534c0b384a0/expr.ipynb\"><img src=\"data:image/png;base64,iVBORw0KGgoAAAANSUhEUgAAACkAAAAVBAMAAAAp9toTAAAAMFBMVEX////c3NwiIiJERESqqqqY\n",
       "mJh2dnZmZmYQEBDu7u4yMjJUVFTMzMyIiIi6uroAAAAs73DqAAAAAXRSTlMAQObYZgAAAP5JREFU\n",
       "GNNjYMAO+C6gCcSBiNNwgoGBs/b6AQb2A0DWShBXGSLK9IBTh4FhAQMDL8gA3maI6CUGhlsMDGEM\n",
       "DBwTgDzRxRBRbQaG9wIMMxgYXoF4CVDR7wwM5x0YmB0YyoAcVgGIKOM3oOgFBrYChqVA3lwGJNEE\n",
       "BpYFDH0gA1BF+RoY/jEwsBxgQDGB5wNIdBoDA5JtASDRFgYG7927f+yFucxfAGSCKZgL9MUEiC+S\n",
       "gE5awJAOFeX8BPKxA2cPA8hlj0CC2f9LOfsFgKFTdhsYNFwPGDgEYCEKY4B8zJoAZbPCAzgXFpLI\n",
       "opzAkGSQhnLgUcINMooRPYbuMDAAAHoTQuAx1oKAAAAAAElFTkSuQmCC\n",
       "\" style=\"display:inline;vertical-align:middle;\" /></a></td></tr>\n",
       "<tr><td>4</td><td>Literal</td><td></td><td><a class=\"ProveItLink\" href=\"../../../__pv_it/23412ce59ea7e77353d2f9225e02248e73651ca00/expr.ipynb\"><img src=\"data:image/png;base64,iVBORw0KGgoAAAANSUhEUgAAAAoAAAAPBAMAAAAv0UM9AAAALVBMVEX///9mZmaqqqru7u52dnYy\n",
       "MjKYmJjc3NwQEBCIiIhEREQiIiJUVFTMzMwAAACUDTcXAAAAAXRSTlMAQObYZgAAAD5JREFUCNdj\n",
       "YGBguMMAArtABGcXiCyLApEOIJKtAERaMoBIBxDJdAFEmjCASJ0zZ16cBCkF64KQPu/EwBwGACv6\n",
       "DSRgin9qAAAAAElFTkSuQmCC\n",
       "\" style=\"display:inline;vertical-align:middle;\" /></a></td></tr>\n",
       "<tr><td>5</td><td>Literal</td><td></td><td><a class=\"ProveItLink\" href=\"../../../__pv_it/ec23fc7a1b4222a5f4948b495002b97d6fa18c3c0/expr.ipynb\"><img src=\"data:image/png;base64,iVBORw0KGgoAAAANSUhEUgAAAAoAAAAOBAMAAADkjZCYAAAALVBMVEX///8QEBCYmJh2dnaqqqrc\n",
       "3NxUVFQyMjK6uroiIiLMzMyIiIhmZmbu7u4AAAAZjyHdAAAAAXRSTlMAQObYZgAAAEpJREFUCNdj\n",
       "YLiz+xQDA8MMhpsLGLgnMHAXMHAmMHA8ZeA7wMD1hCHOgIHrNZh8jES+Bss+AqlkeQrSxTyBgWEK\n",
       "w8UFDAx3rLMYAMCjFldHSx/9AAAAAElFTkSuQmCC\n",
       "\" style=\"display:inline;vertical-align:middle;\" /></a></td></tr>\n",
       "</table>\n"
      ],
      "text/plain": [
       "0. (4 + 0 , 4)\n",
       "   core type: ExprTuple\n",
       "   sub-expressions: 1, 4\n",
       "1. 4 + 0\n",
       "   core type: Operation\n",
       "   operator: 2\n",
       "   operands: 3\n",
       "2. +\n",
       "   core type: Literal\n",
       "   sub-expressions: \n",
       "3. (4 , 0)\n",
       "   core type: ExprTuple\n",
       "   sub-expressions: 4, 5\n",
       "4. 4\n",
       "   core type: Literal\n",
       "   sub-expressions: \n",
       "5. 0\n",
       "   core type: Literal\n",
       "   sub-expressions: "
      ]
     },
     "execution_count": 4,
     "metadata": {},
     "output_type": "execute_result"
    }
   ],
   "source": [
    "# display the expression information\n",
    "expr.exprInfo()"
   ]
  },
  {
   "cell_type": "code",
   "execution_count": null,
   "metadata": {},
   "outputs": [],
   "source": []
  }
 ],
 "metadata": {
  "kernelspec": {
   "display_name": "Python 3",
   "language": "python",
   "name": "python3"
  }
 },
 "nbformat": 4,
 "nbformat_minor": 0
}
