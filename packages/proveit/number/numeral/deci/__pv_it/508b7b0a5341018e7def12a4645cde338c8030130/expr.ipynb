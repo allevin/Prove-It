{
 "cells": [
  {
   "cell_type": "markdown",
   "metadata": {},
   "source": [
    "Expression of type <a class=\"ProveItLink\" href=\"../../../../../../../doc/html/api/proveit.ExprTuple.html\">ExprTuple</a>\n",
    "=======================\n",
    "# from context <a class=\"ProveItLink\" href=\"../../_context_.ipynb\">proveit.number.numeral.deci</a>"
   ]
  },
  {
   "cell_type": "code",
   "execution_count": 1,
   "metadata": {},
   "outputs": [],
   "source": [
    "# import Expression classes needed to build the expression\n",
    "from proveit import ExprTuple\n",
    "from proveit.number import Mult, three, zero"
   ]
  },
  {
   "cell_type": "code",
   "execution_count": 2,
   "metadata": {},
   "outputs": [
    {
     "data": {
      "text/html": [
       "<strong id=\"expr\">expr:</strong> <a class=\"ProveItLink\" href=\"expr.ipynb\"><img src=\"data:image/png;base64,iVBORw0KGgoAAAANSUhEUgAAAEMAAAAVBAMAAADvM06qAAAAMFBMVEX////c3NwiIiJERESqqqqY\n",
       "mJh2dnZmZmYQEBDu7u4yMjJUVFTMzMyIiIi6uroAAAAs73DqAAAAAXRSTlMAQObYZgAAASpJREFU\n",
       "KM9jYCAC8F3AJxsHIk4zMBxLM4GLcdZeP4DEYgdxVjIwFjC8hxvF9IBTB5m1gIGB9wID2xcGfgWY\n",
       "kksMDLeQWWEMDBwTGFiQlWgzMLwXQGLNYGB4BeYiLPrOwHDeAYnF7MBQBuauhqlg/AaUuIDEYitg\n",
       "WArk8WRtQFGSgMRiWcDQB5a58QDkywlYlPA1MPwDK+H4CSTmK2CxiOcDSAnjAQbmr0DBGQZQRwbA\n",
       "nRsAUtIC1P0TogTmVX8BJBbQIlMGBv4FDEwfkYIuiYETzmJgXcCQDgzgAIb3CfAIcODsAbsKwgJ5\n",
       "+hGQ416+BBGNZbcPMMz4CGMxcD1g4BDAlgYewlnACGBNwKYkAM7KBScGfEo4gYmBQRqLCl44ixvk\n",
       "Dka8CfMOAwMARKtj9NzTdM4AAAAASUVORK5CYII=\n",
       "\" style=\"display:inline;vertical-align:middle;\" /></a><br>"
      ],
      "text/plain": [
       "expr: (3 * 0 , 0)"
      ]
     },
     "execution_count": 2,
     "metadata": {},
     "output_type": "execute_result"
    }
   ],
   "source": [
    "# build up the expression from sub-expressions\n",
    "expr = ExprTuple(Mult(three, zero), zero)"
   ]
  },
  {
   "cell_type": "code",
   "execution_count": 3,
   "metadata": {},
   "outputs": [
    {
     "name": "stdout",
     "output_type": "stream",
     "text": [
      "Passed sanity check: built 'expr' is the same as the stored Expression.\n"
     ]
    }
   ],
   "source": [
    "# check that the built expression is the same as the stored expression\n",
    "%check_expr"
   ]
  },
  {
   "cell_type": "code",
   "execution_count": 4,
   "metadata": {},
   "outputs": [
    {
     "data": {
      "text/html": [
       "<table><tr><th>&nbsp;</th><th>core type</th><th>sub-expressions</th><th>expression</th></tr>\n",
       "<tr><td>0</td><td>ExprTuple</td><td>1, 5</td><td><a class=\"ProveItLink\" href=\"expr.ipynb\"><img src=\"data:image/png;base64,iVBORw0KGgoAAAANSUhEUgAAAEMAAAAVBAMAAADvM06qAAAAMFBMVEX////c3NwiIiJERESqqqqY\n",
       "mJh2dnZmZmYQEBDu7u4yMjJUVFTMzMyIiIi6uroAAAAs73DqAAAAAXRSTlMAQObYZgAAASpJREFU\n",
       "KM9jYCAC8F3AJxsHIk4zMBxLM4GLcdZeP4DEYgdxVjIwFjC8hxvF9IBTB5m1gIGB9wID2xcGfgWY\n",
       "kksMDLeQWWEMDBwTGFiQlWgzMLwXQGLNYGB4BeYiLPrOwHDeAYnF7MBQBuauhqlg/AaUuIDEYitg\n",
       "WArk8WRtQFGSgMRiWcDQB5a58QDkywlYlPA1MPwDK+H4CSTmK2CxiOcDSAnjAQbmr0DBGQZQRwbA\n",
       "nRsAUtIC1P0TogTmVX8BJBbQIlMGBv4FDEwfkYIuiYETzmJgXcCQDgzgAIb3CfAIcODsAbsKwgJ5\n",
       "+hGQ416+BBGNZbcPMMz4CGMxcD1g4BDAlgYewlnACGBNwKYkAM7KBScGfEo4gYmBQRqLCl44ixvk\n",
       "Dka8CfMOAwMARKtj9NzTdM4AAAAASUVORK5CYII=\n",
       "\" style=\"display:inline;vertical-align:middle;\" /></a></td></tr>\n",
       "<tr><td>1</td><td>Operation</td><td>operator:&nbsp;2<br>operands:&nbsp;3<br></td><td><a class=\"ProveItLink\" href=\"../fbd13847c29a6b1e26a8c115bcdc043f1b771e9b0/expr.ipynb\"><img src=\"data:image/png;base64,iVBORw0KGgoAAAANSUhEUgAAACMAAAAOBAMAAABXxbiCAAAAMFBMVEX///+YmJju7u4QEBBUVFQy\n",
       "MjIiIiKIiIi6urpmZmbc3NyqqqpERER2dnbMzMwAAAB0GlNiAAAAAXRSTlMAQObYZgAAAJpJREFU\n",
       "GNNjYHh79zQDDDBNr3zAwMA1gaG/ACbE1sCUx8DA+5uBPwEmVMbAUMrAwI0slMLA0L8AxEBo/MnA\n",
       "8H4DiBECE+H6CxQCyvNddUARugBiFTeA7FdAFmL+BCT0E+AauR4w8HwECikfgBovwKD/CSIEc8T+\n",
       "BQz8AQxsv5Cceo2BgV2Aof8C3EMbmOyA1M6Z0Qhvzy15wAAAfWIv2n2YAuMAAAAASUVORK5CYII=\n",
       "\" style=\"display:inline;vertical-align:middle;\" /></a></td></tr>\n",
       "<tr><td>2</td><td>Literal</td><td></td><td><a class=\"ProveItLink\" href=\"../../../../multiplication/__pv_it/21fd2079611555ecce512d99547a00d551e6b86b0/expr.ipynb\"><img src=\"data:image/png;base64,iVBORw0KGgoAAAANSUhEUgAAAAMAAAADBAMAAACkBqiMAAAAElBMVEX///9EREQQEBAiIiLu7u4A\n",
       "AABGBidwAAAAAXRSTlMAQObYZgAAABFJREFUCNdjYHFgcDVgcBIAAASWAQx4jI0xAAAAAElFTkSu\n",
       "QmCC\n",
       "\" style=\"display:inline;vertical-align:middle;\" /></a></td></tr>\n",
       "<tr><td>3</td><td>ExprTuple</td><td>4, 5</td><td><a class=\"ProveItLink\" href=\"../d6466423550d531bd9c4f74cdb48a9fa17d62dd20/expr.ipynb\"><img src=\"data:image/png;base64,iVBORw0KGgoAAAANSUhEUgAAACkAAAAVBAMAAAAp9toTAAAAMFBMVEX////c3NwiIiJERESqqqqY\n",
       "mJh2dnZmZmYQEBDu7u4yMjJUVFTMzMyIiIi6uroAAAAs73DqAAAAAXRSTlMAQObYZgAAAQpJREFU\n",
       "GNNtkStPA0EUhb9tu3QHSrseUw8S/LpKqpBkg4CEpElVUSQVlQQqcawA0WD4CatqKmgwEEBskJil\n",
       "hEdqCHdmHzQbRtzc8yVz5t4z8P+pTwtgV5cJjPc3E6CO70OqoXQjrC5xcqEUqQ0IYHXK0geNpqF3\n",
       "8Ag74Ayp5HQdYpdzeDUydfiGW4+yR8/Ia1OtL6Hi2OVKVO3w5o/6VAJOjX6IFmi9z4+hznzBofam\n",
       "qRVS/sxfa2s6gIt5RmWybVc7bEEjoDRjmGyxB3bAgazXJvbVu97YUyfoyV5EtI4uUWeupNN7kmiW\n",
       "Ixw3SzRr9Ma2n/Z2HnDHJFmgSpJkLRX5l6xoK6v4Q8/wC/yWSNOeqZkeAAAAAElFTkSuQmCC\n",
       "\" style=\"display:inline;vertical-align:middle;\" /></a></td></tr>\n",
       "<tr><td>4</td><td>Literal</td><td></td><td><a class=\"ProveItLink\" href=\"../../../__pv_it/9176d93c83afa2c995b614976e3cb49207102fa70/expr.ipynb\"><img src=\"data:image/png;base64,iVBORw0KGgoAAAANSUhEUgAAAAoAAAAOBAMAAADkjZCYAAAAMFBMVEX///+YmJju7u4QEBBUVFQy\n",
       "MjIiIiKIiIi6urpmZmbc3NyqqqpERER2dnbMzMwAAAB0GlNiAAAAAXRSTlMAQObYZgAAAE1JREFU\n",
       "CNdjYHh79zQDA9cEhv4CBt7fDPwJDNxgEgiAIkAQAsR8Vx1ATIbiBhDJ/ImB6wEDz0cG/U8gkj+A\n",
       "ge0XA7sAQ/8FBoadM6MZAEflFACalZ/OAAAAAElFTkSuQmCC\n",
       "\" style=\"display:inline;vertical-align:middle;\" /></a></td></tr>\n",
       "<tr><td>5</td><td>Literal</td><td></td><td><a class=\"ProveItLink\" href=\"../../../__pv_it/ec23fc7a1b4222a5f4948b495002b97d6fa18c3c0/expr.ipynb\"><img src=\"data:image/png;base64,iVBORw0KGgoAAAANSUhEUgAAAAoAAAAOBAMAAADkjZCYAAAALVBMVEX///8QEBCYmJh2dnaqqqrc\n",
       "3NxUVFQyMjK6uroiIiLMzMyIiIhmZmbu7u4AAAAZjyHdAAAAAXRSTlMAQObYZgAAAEpJREFUCNdj\n",
       "YLiz+xQDA8MMhpsLGLgnMHAXMHAmMHA8ZeA7wMD1hCHOgIHrNZh8jES+Bss+AqlkeQrSxTyBgWEK\n",
       "w8UFDAx3rLMYAMCjFldHSx/9AAAAAElFTkSuQmCC\n",
       "\" style=\"display:inline;vertical-align:middle;\" /></a></td></tr>\n",
       "</table>\n"
      ],
      "text/plain": [
       "0. (3 * 0 , 0)\n",
       "   core type: ExprTuple\n",
       "   sub-expressions: 1, 5\n",
       "1. 3 * 0\n",
       "   core type: Operation\n",
       "   operator: 2\n",
       "   operands: 3\n",
       "2. *\n",
       "   core type: Literal\n",
       "   sub-expressions: \n",
       "3. (3 , 0)\n",
       "   core type: ExprTuple\n",
       "   sub-expressions: 4, 5\n",
       "4. 3\n",
       "   core type: Literal\n",
       "   sub-expressions: \n",
       "5. 0\n",
       "   core type: Literal\n",
       "   sub-expressions: "
      ]
     },
     "execution_count": 4,
     "metadata": {},
     "output_type": "execute_result"
    }
   ],
   "source": [
    "# display the expression information\n",
    "expr.exprInfo()"
   ]
  },
  {
   "cell_type": "code",
   "execution_count": null,
   "metadata": {},
   "outputs": [],
   "source": []
  }
 ],
 "metadata": {
  "kernelspec": {
   "display_name": "Python 3",
   "language": "python",
   "name": "python3"
  }
 },
 "nbformat": 4,
 "nbformat_minor": 0
}
