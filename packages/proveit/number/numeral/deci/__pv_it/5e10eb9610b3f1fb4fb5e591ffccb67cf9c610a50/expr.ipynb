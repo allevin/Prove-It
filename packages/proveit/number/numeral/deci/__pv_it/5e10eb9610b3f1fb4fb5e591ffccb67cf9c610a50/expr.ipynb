{
 "cells": [
  {
   "cell_type": "markdown",
   "metadata": {},
   "source": [
    "Expression of type <a class=\"ProveItLink\" href=\"../../../../../../../doc/html/api/proveit.ExprTuple.html\">ExprTuple</a>\n",
    "=======================\n",
    "# from context <a class=\"ProveItLink\" href=\"../../_context_.ipynb\">proveit.number.numeral.deci</a>"
   ]
  },
  {
   "cell_type": "code",
   "execution_count": 1,
   "metadata": {},
   "outputs": [],
   "source": [
    "# import Expression classes needed to build the expression\n",
    "from proveit import ExprTuple\n",
    "from proveit.number import Mult, nine, one"
   ]
  },
  {
   "cell_type": "code",
   "execution_count": 2,
   "metadata": {},
   "outputs": [
    {
     "data": {
      "text/html": [
       "<strong id=\"expr\">expr:</strong> <a class=\"ProveItLink\" href=\"expr.ipynb\"><img src=\"data:image/png;base64,iVBORw0KGgoAAAANSUhEUgAAAEMAAAAVBAMAAADvM06qAAAAMFBMVEX////c3NwiIiJERESqqqqY\n",
       "mJh2dnZmZmYQEBDu7u4yMjJUVFTMzMyIiIi6uroAAAAs73DqAAAAAXRSTlMAQObYZgAAAQ9JREFU\n",
       "KM9jYCAC8F3AJxsHIk4DMfMEuBjn9uwDSCx2EGclkGOPUCLhwNiIzFrAwMB7gYFz936EEgsGhs3I\n",
       "rDAGBg6Q7H2Ekl8MDPkTkFgzGBheMaAo4fwM5D1AYjE7MJQxYJoSgMRiK2BYiqakgoHB/gISi2UB\n",
       "Qx9CCSeInBXAUg9RAmHxNTD8QyiZrwAiY+/cd4AYCGbxfEBWMsMAIpUPtxbIAippQXMLEKxCZgEt\n",
       "MkVTcl+A8R8DJ5zFwLqAIR1NyaUJXBcgrgKzQJ5+BOSU9y8PgClhKzcBuuojjMXA9YCBQwBbGngI\n",
       "ZwEjgDUBmxK4oQy5kMSARwknMDEwSGNRwQtncYPcwYg3Yd5hYAAAx9pfg59p75EAAAAASUVORK5C\n",
       "YII=\n",
       "\" style=\"display:inline;vertical-align:middle;\" /></a><br>"
      ],
      "text/plain": [
       "expr: (1 * 9 , 9)"
      ]
     },
     "execution_count": 2,
     "metadata": {},
     "output_type": "execute_result"
    }
   ],
   "source": [
    "# build up the expression from sub-expressions\n",
    "expr = ExprTuple(Mult(one, nine), nine)"
   ]
  },
  {
   "cell_type": "code",
   "execution_count": 3,
   "metadata": {},
   "outputs": [
    {
     "name": "stdout",
     "output_type": "stream",
     "text": [
      "Passed sanity check: built 'expr' is the same as the stored Expression.\n"
     ]
    }
   ],
   "source": [
    "# check that the built expression is the same as the stored expression\n",
    "%check_expr"
   ]
  },
  {
   "cell_type": "code",
   "execution_count": 4,
   "metadata": {},
   "outputs": [
    {
     "data": {
      "text/html": [
       "<table><tr><th>&nbsp;</th><th>core type</th><th>sub-expressions</th><th>expression</th></tr>\n",
       "<tr><td>0</td><td>ExprTuple</td><td>1, 5</td><td><a class=\"ProveItLink\" href=\"expr.ipynb\"><img src=\"data:image/png;base64,iVBORw0KGgoAAAANSUhEUgAAAEMAAAAVBAMAAADvM06qAAAAMFBMVEX////c3NwiIiJERESqqqqY\n",
       "mJh2dnZmZmYQEBDu7u4yMjJUVFTMzMyIiIi6uroAAAAs73DqAAAAAXRSTlMAQObYZgAAAQ9JREFU\n",
       "KM9jYCAC8F3AJxsHIk4DMfMEuBjn9uwDSCx2EGclkGOPUCLhwNiIzFrAwMB7gYFz936EEgsGhs3I\n",
       "rDAGBg6Q7H2Ekl8MDPkTkFgzGBheMaAo4fwM5D1AYjE7MJQxYJoSgMRiK2BYiqakgoHB/gISi2UB\n",
       "Qx9CCSeInBXAUg9RAmHxNTD8QyiZrwAiY+/cd4AYCGbxfEBWMsMAIpUPtxbIAippQXMLEKxCZgEt\n",
       "MkVTcl+A8R8DJ5zFwLqAIR1NyaUJXBcgrgKzQJ5+BOSU9y8PgClhKzcBuuojjMXA9YCBQwBbGngI\n",
       "ZwEjgDUBmxK4oQy5kMSARwknMDEwSGNRwQtncYPcwYg3Yd5hYAAAx9pfg59p75EAAAAASUVORK5C\n",
       "YII=\n",
       "\" style=\"display:inline;vertical-align:middle;\" /></a></td></tr>\n",
       "<tr><td>1</td><td>Operation</td><td>operator:&nbsp;2<br>operands:&nbsp;3<br></td><td><a class=\"ProveItLink\" href=\"../978bf756c968fb0019b8a80390fd445ca05fdb740/expr.ipynb\"><img src=\"data:image/png;base64,iVBORw0KGgoAAAANSUhEUgAAACIAAAAPBAMAAABzWwAZAAAAMFBMVEX///+6urqqqqrc3NzMzMx2\n",
       "dnYiIiKYmJgyMjIQEBBmZmaIiIhUVFTu7u5EREQAAABPUlcKAAAAAXRSTlMAQObYZgAAAHlJREFU\n",
       "GNNjYGB4ywAHd5YeAZL3/sIFmCcxWBow3DmDEOGbwMDzgIGBGyHC38DA+hdF5P4DBu6PGGq+o4hw\n",
       "TWDg+w0XuQvEvO0MWnAR3m8gkn239ye4yDyIRjS7gICjAUWE+zODvQCqSC5DN9DGlT+Ww4Wi1ikw\n",
       "YAIAVwspnP9AT8QAAAAASUVORK5CYII=\n",
       "\" style=\"display:inline;vertical-align:middle;\" /></a></td></tr>\n",
       "<tr><td>2</td><td>Literal</td><td></td><td><a class=\"ProveItLink\" href=\"../../../../multiplication/__pv_it/21fd2079611555ecce512d99547a00d551e6b86b0/expr.ipynb\"><img src=\"data:image/png;base64,iVBORw0KGgoAAAANSUhEUgAAAAMAAAADBAMAAACkBqiMAAAAElBMVEX///9EREQQEBAiIiLu7u4A\n",
       "AABGBidwAAAAAXRSTlMAQObYZgAAABFJREFUCNdjYHFgcDVgcBIAAASWAQx4jI0xAAAAAElFTkSu\n",
       "QmCC\n",
       "\" style=\"display:inline;vertical-align:middle;\" /></a></td></tr>\n",
       "<tr><td>3</td><td>ExprTuple</td><td>4, 5</td><td><a class=\"ProveItLink\" href=\"../0d95bf28b205aaa1866f8c26c8e203f02472ed090/expr.ipynb\"><img src=\"data:image/png;base64,iVBORw0KGgoAAAANSUhEUgAAACkAAAAVBAMAAAAp9toTAAAAMFBMVEX////c3NwiIiJERESqqqqY\n",
       "mJh2dnZmZmYQEBDu7u4yMjJUVFTMzMyIiIi6uroAAAAs73DqAAAAAXRSTlMAQObYZgAAAO5JREFU\n",
       "GNNjYMAO+C6gCcSBiNNAzDwBIsC5PfsAA/sBIGslkGMPFZVwYGxkYFjAwMB7gYFz936oqAUDw2YG\n",
       "hjAGBg6QwH2o6C8GhvwJDDMYGF4xIEQ5PwOZDxiYHRjKGNDUBjCwFTAsRRatYGCwv8DAsoChD1l0\n",
       "VgBL/QUGvgaGf8iiDLF37jsw8HxAEwW7ASjagia6igFkgilMFOxuAUagXtYFDOlQUc5PQPrSBC5g\n",
       "WAFd9gjIKe9fHsDZLwDkl5sAuVwPGDgEYCEKY4B8zJoAZbPCLcyFhCSqKCcwJBmkoRx4lHCDjGJE\n",
       "j6E7DAwAc4tF8oAQsJgAAAAASUVORK5CYII=\n",
       "\" style=\"display:inline;vertical-align:middle;\" /></a></td></tr>\n",
       "<tr><td>4</td><td>Literal</td><td></td><td><a class=\"ProveItLink\" href=\"../../../__pv_it/9be8badea4c35b9724062cecc501d17a3158d1d20/expr.ipynb\"><img src=\"data:image/png;base64,iVBORw0KGgoAAAANSUhEUgAAAAgAAAAPBAMAAAArJJMAAAAAHlBMVEX///+YmJgyMjIQEBBmZmaI\n",
       "iIhUVFTu7u5EREQAAAAw+MI4AAAAAXRSTlMAQObYZgAAACFJREFUCNdjYGBoZ2BgqJjOwFCWBiQY\n",
       "WEklWJwnOTKAAACjEQo8HvEr3AAAAABJRU5ErkJggg==\n",
       "\" style=\"display:inline;vertical-align:middle;\" /></a></td></tr>\n",
       "<tr><td>5</td><td>Literal</td><td></td><td><a class=\"ProveItLink\" href=\"../../../__pv_it/cdcd6ad997b4d5c13a719b005810863ba48ff0c70/expr.ipynb\"><img src=\"data:image/png;base64,iVBORw0KGgoAAAANSUhEUgAAAAoAAAAOBAMAAADkjZCYAAAAMFBMVEX///8iIiKYmJi6urqIiIgy\n",
       "MjJERESqqqoQEBDc3NzMzMx2dnZmZmZUVFTu7u4AAABn2L4sAAAAAXRSTlMAQObYZgAAAFVJREFU\n",
       "CNdjYHh7+hYDA2c7w4wJDGwNDLwJDPwBDNz/GN4nMLB8BrM/MfA0MLB9YeALYqj5wsDA5LLkOwMQ\n",
       "ANUAAWsAA8tPhvkGDCxyDCFA/p5jBQwAtzwVEbGPESsAAAAASUVORK5CYII=\n",
       "\" style=\"display:inline;vertical-align:middle;\" /></a></td></tr>\n",
       "</table>\n"
      ],
      "text/plain": [
       "0. (1 * 9 , 9)\n",
       "   core type: ExprTuple\n",
       "   sub-expressions: 1, 5\n",
       "1. 1 * 9\n",
       "   core type: Operation\n",
       "   operator: 2\n",
       "   operands: 3\n",
       "2. *\n",
       "   core type: Literal\n",
       "   sub-expressions: \n",
       "3. (1 , 9)\n",
       "   core type: ExprTuple\n",
       "   sub-expressions: 4, 5\n",
       "4. 1\n",
       "   core type: Literal\n",
       "   sub-expressions: \n",
       "5. 9\n",
       "   core type: Literal\n",
       "   sub-expressions: "
      ]
     },
     "execution_count": 4,
     "metadata": {},
     "output_type": "execute_result"
    }
   ],
   "source": [
    "# display the expression information\n",
    "expr.exprInfo()"
   ]
  },
  {
   "cell_type": "code",
   "execution_count": null,
   "metadata": {},
   "outputs": [],
   "source": []
  }
 ],
 "metadata": {
  "kernelspec": {
   "display_name": "Python 3",
   "language": "python",
   "name": "python3"
  }
 },
 "nbformat": 4,
 "nbformat_minor": 0
}
