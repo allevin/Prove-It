{
 "cells": [
  {
   "cell_type": "markdown",
   "metadata": {},
   "source": [
    "Expression of type <a class=\"ProveItLink\" href=\"../../../../../../../doc/html/api/proveit.ExprTuple.html\">ExprTuple</a>\n",
    "=======================\n",
    "# from context <a class=\"ProveItLink\" href=\"../../_context_.ipynb\">proveit.number.numeral.deci</a>"
   ]
  },
  {
   "cell_type": "code",
   "execution_count": 1,
   "metadata": {},
   "outputs": [],
   "source": [
    "# import Expression classes needed to build the expression\n",
    "from proveit import ExprTuple\n",
    "from proveit.number import Add, DecimalSequence, eight, four, one, two"
   ]
  },
  {
   "cell_type": "code",
   "execution_count": 2,
   "metadata": {},
   "outputs": [
    {
     "data": {
      "text/html": [
       "<strong id=\"expr\">expr:</strong> <a class=\"ProveItLink\" href=\"expr.ipynb\"><img src=\"data:image/png;base64,iVBORw0KGgoAAAANSUhEUgAAAFcAAAAVBAMAAADBdm84AAAAMFBMVEX////c3NwiIiJERESqqqqY\n",
       "mJh2dnZmZmYQEBDu7u4yMjJUVFTMzMyIiIi6uroAAAAs73DqAAAAAXRSTlMAQObYZgAAAYZJREFU\n",
       "KM+Vk7FLAlEcx7+HXXrpyRE0NRS0tNnS0OZUUEgu1VQ46RCCFGZEoGFDLXEVhBCRIA1dg20hErm3\n",
       "+Ac0XI1BUCJRDV2/5+n13mFgv+G93+97n/f48X7fA/4VwXpv3Apb7p3lN5R4ItzJpwApUzLhrVFx\n",
       "yZQxEfYC6XZ6/AkMQ20CRUBlXaj59qdDe1sAjuzstEpwBQgBi4BPJ2mo1IYj9rbqwFAJ3tNxZ6IA\n",
       "PDMl5oLnK0hycFlH1oQnjA0SZM0Fe6zlGAdThHT0p3BB2RlcMLINTYAD70BfEQesCzcsb5ebAjww\n",
       "QQPJ4ZuO1NzwEmRL5+F1dvsrg09gw1uGMW4YV5TtAyNRDlavbXgXmKtWP275m5UczaXOwTOQNNbG\n",
       "ZEvKi23sAH5NceBAih4MchGJbvCsjmmcj3bgwXh8DezpnloTs9ICHLzJhFF4Yy7Z/EojZFkNehET\n",
       "Po13UIQvHkV30bjlGC+88EVUhJMdi3YNEVbIomTWP0IVSz/rV+rxt3oAfgCWH2fokMySkgAAAABJ\n",
       "RU5ErkJggg==\n",
       "\" style=\"display:inline;vertical-align:middle;\" /></a><br>"
      ],
      "text/plain": [
       "expr: (4 + 8 , 12)"
      ]
     },
     "execution_count": 2,
     "metadata": {},
     "output_type": "execute_result"
    }
   ],
   "source": [
    "# build up the expression from sub-expressions\n",
    "expr = ExprTuple(Add(four, eight), DecimalSequence(one, two))"
   ]
  },
  {
   "cell_type": "code",
   "execution_count": 3,
   "metadata": {},
   "outputs": [
    {
     "name": "stdout",
     "output_type": "stream",
     "text": [
      "Passed sanity check: built 'expr' is the same as the stored Expression.\n"
     ]
    }
   ],
   "source": [
    "# check that the built expression is the same as the stored expression\n",
    "%check_expr"
   ]
  },
  {
   "cell_type": "code",
   "execution_count": 4,
   "metadata": {},
   "outputs": [
    {
     "data": {
      "text/html": [
       "<table><tr><th>&nbsp;</th><th>core type</th><th>sub-expressions</th><th>expression</th></tr>\n",
       "<tr><td>0</td><td>ExprTuple</td><td>1, 2</td><td><a class=\"ProveItLink\" href=\"expr.ipynb\"><img src=\"data:image/png;base64,iVBORw0KGgoAAAANSUhEUgAAAFcAAAAVBAMAAADBdm84AAAAMFBMVEX////c3NwiIiJERESqqqqY\n",
       "mJh2dnZmZmYQEBDu7u4yMjJUVFTMzMyIiIi6uroAAAAs73DqAAAAAXRSTlMAQObYZgAAAYZJREFU\n",
       "KM+Vk7FLAlEcx7+HXXrpyRE0NRS0tNnS0OZUUEgu1VQ46RCCFGZEoGFDLXEVhBCRIA1dg20hErm3\n",
       "+Ac0XI1BUCJRDV2/5+n13mFgv+G93+97n/f48X7fA/4VwXpv3Apb7p3lN5R4ItzJpwApUzLhrVFx\n",
       "yZQxEfYC6XZ6/AkMQ20CRUBlXaj59qdDe1sAjuzstEpwBQgBi4BPJ2mo1IYj9rbqwFAJ3tNxZ6IA\n",
       "PDMl5oLnK0hycFlH1oQnjA0SZM0Fe6zlGAdThHT0p3BB2RlcMLINTYAD70BfEQesCzcsb5ebAjww\n",
       "QQPJ4ZuO1NzwEmRL5+F1dvsrg09gw1uGMW4YV5TtAyNRDlavbXgXmKtWP275m5UczaXOwTOQNNbG\n",
       "ZEvKi23sAH5NceBAih4MchGJbvCsjmmcj3bgwXh8DezpnloTs9ICHLzJhFF4Yy7Z/EojZFkNehET\n",
       "Po13UIQvHkV30bjlGC+88EVUhJMdi3YNEVbIomTWP0IVSz/rV+rxt3oAfgCWH2fokMySkgAAAABJ\n",
       "RU5ErkJggg==\n",
       "\" style=\"display:inline;vertical-align:middle;\" /></a></td></tr>\n",
       "<tr><td>1</td><td>Operation</td><td>operator:&nbsp;3<br>operands:&nbsp;4<br></td><td><a class=\"ProveItLink\" href=\"../2aafb277ad8f90573cc26d7c62faa7caee461a9b0/expr.ipynb\"><img src=\"data:image/png;base64,iVBORw0KGgoAAAANSUhEUgAAAC0AAAAQBAMAAABw0OvaAAAAMFBMVEX///+6urpmZmaqqqru7u52\n",
       "dnYyMjKYmJjc3NwQEBCIiIhEREQiIiJUVFTMzMwAAACQ7J58AAAAAXRSTlMAQObYZgAAAKdJREFU\n",
       "GNNjYGBgeMuAAlhCgwzAjNOo4kwMDOogmms2VMADQpUzMPiA6PZsqLgVhIqFigegidtfYYgCUuwN\n",
       "aOLc/6sCgJQXA5o4g/6fBpAx6OLsevmfGRiYH6CLFzGw/3dgcGWAiKulpZ1MS8sFsqYwMPQXMNje\n",
       "vfvzFrJ6lglAry0AsWajmjODgYG3AYu4mQODKdh//9VRxBkvKRmgBJgVA3YghcQGACtIJSv7zyzF\n",
       "AAAAAElFTkSuQmCC\n",
       "\" style=\"display:inline;vertical-align:middle;\" /></a></td></tr>\n",
       "<tr><td>2</td><td>Operation</td><td>operator:&nbsp;5<br>operands:&nbsp;6<br></td><td><a class=\"ProveItLink\" href=\"../924182b6a365e5553cc4594df6a543e0523917720/expr.ipynb\"><img src=\"data:image/png;base64,iVBORw0KGgoAAAANSUhEUgAAABMAAAAPBAMAAAD0aukfAAAAMFBMVEX///92dnbMzMwiIiKqqqq6\n",
       "urrc3NyYmJgyMjIQEBBmZmaIiIhUVFTu7u5EREQAAADsrU5cAAAAAXRSTlMAQObYZgAAAG1JREFU\n",
       "CNdjYGB4y8DAtqovgIGB4d5fBoYcBu4vDAx3zgCZZxkY7IGi3EDmzAsM5wMgzP4LDOuhTCCwvwBj\n",
       "Mn1kgDE5HsCZ6xhgTO4DcKYXA1sChMm0gIEdykwWFFzMwMC18sdyBvv//z8zIAEAEZklb2GNE0kA\n",
       "AAAASUVORK5CYII=\n",
       "\" style=\"display:inline;vertical-align:middle;\" /></a></td></tr>\n",
       "<tr><td>3</td><td>Literal</td><td></td><td><a class=\"ProveItLink\" href=\"../../../../addition/__pv_it/3e6688136fa3c7aefbebe51301b7c3ebf0b69c440/expr.ipynb\"><img src=\"data:image/png;base64,iVBORw0KGgoAAAANSUhEUgAAAA4AAAAOBAMAAADtZjDiAAAAJFBMVEX///+6urpUVFQQEBAiIiIy\n",
       "MjJmZmaIiIiqqqrc3Nzu7u4AAACgHpL+AAAAAXRSTlMAQObYZgAAAB5JREFUCNdjYGBgWMkAAe2k\n",
       "0Kmhoc6hoUGk6BMHYgAHOwjcado9fwAAAABJRU5ErkJggg==\n",
       "\" style=\"display:inline;vertical-align:middle;\" /></a></td></tr>\n",
       "<tr><td>4</td><td>ExprTuple</td><td>7, 8</td><td><a class=\"ProveItLink\" href=\"../e11d4a07c440e3569a260fe86eb53bf49b3ab76d0/expr.ipynb\"><img src=\"data:image/png;base64,iVBORw0KGgoAAAANSUhEUgAAACkAAAAVBAMAAAAp9toTAAAAMFBMVEX////c3NwiIiJERESqqqqY\n",
       "mJh2dnZmZmYQEBDu7u4yMjJUVFTMzMyIiIi6uroAAAAs73DqAAAAAXRSTlMAQObYZgAAAQxJREFU\n",
       "GNNtkbFKA0EQhj+Ja3LGhGusLCx8BvurLLTQRq0MV5lCAjaJTcCINjZ6WIiNcCAWVpYiIZDeJg9g\n",
       "ESytJFhYeZnZ2z0kuMXs/N8uw/wz8P+pj2ZAQ8NbESA4bEaUh5I9qVzLaRnakEJNC9TOc7oLN7AH\n",
       "lUTU8kNOjyy9g09VsaPbr7SgFNERYUJHS9lBDAvHPIq4x1FOJyHMp1xpAU9N9/lbHPT4lbehp/uY\n",
       "LGHpS+ktnl7C6o7SC9jq938G1lpPjIy0wrr9JC607zOohpiUpqPBRK7NhA3b2Yf1lLWDa+mp/nIS\n",
       "weKYSugn6hN1bGKXm2LALT/JvzSQSbLiRLGSqpaam93QO0wB7zM8XUn+rSEAAAAASUVORK5CYII=\n",
       "\" style=\"display:inline;vertical-align:middle;\" /></a></td></tr>\n",
       "<tr><td>5</td><td>Literal</td><td></td><td><a class=\"ProveItLink\" href=\"../b28e6317a1d330492d51cd67ccba81d4d210b8b30/expr.ipynb\"><img src=\"data:image/png;base64,iVBORw0KGgoAAAANSUhEUgAAAE8AAAAOBAMAAACcHlx8AAAAMFBMVEX///8iIiIQEBCYmJjc3Ny6\n",
       "urru7u5mZmZ2dnaqqqrMzMxEREQyMjJUVFSIiIgAAABUCcz6AAAAAXRSTlMAQObYZgAAAWhJREFU\n",
       "KM99kL9Lw3AQxV/bNE1s0rh1VNTBqWR2sAXdEwRns9XJtFsRwSxVx/oXNLgqNKugtLsgHQVtDWLt\n",
       "IEahVrT+vIsK1qEH+QS+PN67ewDuPlutExd/JtnA8EgTJv/eAPllSOj/EyLLGHsmbFoYNRuMVJ9Q\n",
       "80cKM2HQA8FojtIJA6bmsWMTQqmbg7gTuKslxG8Xg7N4cEiadnkGMfb6Ts062M0JBeyZyrizAkk9\n",
       "hV1GFVjKUaLKXrjnai5NoY+EK2aQnKsUsRzxYPskFHpIeIiGF9QZU1Cn56+hUoZIq1u2iapFx9JD\n",
       "xEctrPmVvlgPWuF3X/kJrCoCs/xgu7gKa/wgRD1obG8wlCZ7IY34o2hwvnUsco18+pEV7uFrOqAb\n",
       "pkNeYh9qY8Gu4EJ2e9JPjQcUm2ogn1MLkNyqoNNlVIniO4oupyUM1oB8/b11vs47bAfkWQpukAwQ\n",
       "n4TkQW67Qruz30F3C18Fz3drZAxLCAAAAABJRU5ErkJggg==\n",
       "\" style=\"display:inline;vertical-align:middle;\" /></a></td></tr>\n",
       "<tr><td>6</td><td>ExprTuple</td><td>9, 10</td><td><a class=\"ProveItLink\" href=\"../ae02dd48deb37365fce54e88fb6bdda021f4c6730/expr.ipynb\"><img src=\"data:image/png;base64,iVBORw0KGgoAAAANSUhEUgAAACkAAAAVBAMAAAAp9toTAAAAMFBMVEX////c3NwiIiJERESqqqqY\n",
       "mJh2dnZmZmYQEBDu7u4yMjJUVFTMzMyIiIi6uroAAAAs73DqAAAAAXRSTlMAQObYZgAAAOtJREFU\n",
       "GNNjYMAO+C6gCcSBiNNAzDwBIsBYvvgBA/sBIGslAwOnPVRUmoH3CwPDAgYG3gsMnLv3Q0V3MjDo\n",
       "MzCEMTBwgATuQ0U7JjDsf8Awg4HhFQOS6PoJDPUPGJgdGMqQRYFAfwIDWwHDUlRRnm8MDCwLGPpQ\n",
       "RbkMgD5oYPiHKloMUv8BTZR3A0S0BUXUnYFRAGSCKUwUJMFTwMAqwMC6gCEdKsr5CUgLpaUVMYBc\n",
       "9gjIKe9fHsDZLwB07P//QEmuBwwcArAQhTFAPmZNgLJZ4d7LhYQkqijnAnCYQgA8SrhBRjGix9Ad\n",
       "BgYAyE9BDPXceaYAAAAASUVORK5CYII=\n",
       "\" style=\"display:inline;vertical-align:middle;\" /></a></td></tr>\n",
       "<tr><td>7</td><td>Literal</td><td></td><td><a class=\"ProveItLink\" href=\"../../../__pv_it/23412ce59ea7e77353d2f9225e02248e73651ca00/expr.ipynb\"><img src=\"data:image/png;base64,iVBORw0KGgoAAAANSUhEUgAAAAoAAAAPBAMAAAAv0UM9AAAALVBMVEX///9mZmaqqqru7u52dnYy\n",
       "MjKYmJjc3NwQEBCIiIhEREQiIiJUVFTMzMwAAACUDTcXAAAAAXRSTlMAQObYZgAAAD5JREFUCNdj\n",
       "YGBguMMAArtABGcXiCyLApEOIJKtAERaMoBIBxDJdAFEmjCASJ0zZ16cBCkF64KQPu/EwBwGACv6\n",
       "DSRgin9qAAAAAElFTkSuQmCC\n",
       "\" style=\"display:inline;vertical-align:middle;\" /></a></td></tr>\n",
       "<tr><td>8</td><td>Literal</td><td></td><td><a class=\"ProveItLink\" href=\"../../../__pv_it/7ca36d8558dd5f18c1e16b5e877a0b7e314926450/expr.ipynb\"><img src=\"data:image/png;base64,iVBORw0KGgoAAAANSUhEUgAAAAoAAAAOBAMAAADkjZCYAAAAMFBMVEX///+6uroQEBAyMjLMzMzc\n",
       "3NxERESIiIhUVFQiIiKYmJiqqqpmZmZ2dnbu7u4AAAACo3QQAAAAAXRSTlMAQObYZgAAAFlJREFU\n",
       "CNdjYHh79zQDA8MBBp4FDFwLGPgmMPA2gEjuHw94CxgY8n/VAmV5/k8Fkmuc/29g4DrAsP4fA9MD\n",
       "BtZfDI+AgscZmAIYGFoZuO0YuC8wMEicOc0AAC98GKTiu3IvAAAAAElFTkSuQmCC\n",
       "\" style=\"display:inline;vertical-align:middle;\" /></a></td></tr>\n",
       "<tr><td>9</td><td>Literal</td><td></td><td><a class=\"ProveItLink\" href=\"../../../__pv_it/9be8badea4c35b9724062cecc501d17a3158d1d20/expr.ipynb\"><img src=\"data:image/png;base64,iVBORw0KGgoAAAANSUhEUgAAAAgAAAAPBAMAAAArJJMAAAAAHlBMVEX///+YmJgyMjIQEBBmZmaI\n",
       "iIhUVFTu7u5EREQAAAAw+MI4AAAAAXRSTlMAQObYZgAAACFJREFUCNdjYGBoZ2BgqJjOwFCWBiQY\n",
       "WEklWJwnOTKAAACjEQo8HvEr3AAAAABJRU5ErkJggg==\n",
       "\" style=\"display:inline;vertical-align:middle;\" /></a></td></tr>\n",
       "<tr><td>10</td><td>Literal</td><td></td><td><a class=\"ProveItLink\" href=\"../../../__pv_it/77d407a64829263cdc16415becd4c2293f77a4bf0/expr.ipynb\"><img src=\"data:image/png;base64,iVBORw0KGgoAAAANSUhEUgAAAAkAAAAOBAMAAAAPuiubAAAAMFBMVEX///+YmJh2dnbMzMwQEBAi\n",
       "IiLu7u6qqqqIiIhUVFS6urpEREQyMjJmZmbc3NwAAACOMKdoAAAAAXRSTlMAQObYZgAAAFBJREFU\n",
       "CNdj4Lt7egEDw0sGju8MDNMYGOIZGFwSGOYvYDifwHAfKAEUSQASzJ9ATJ4NIPI2iOCYACJrGfge\n",
       "MDBfYGB8wPBUSekqUPH//18ZAIliFhc3zESNAAAAAElFTkSuQmCC\n",
       "\" style=\"display:inline;vertical-align:middle;\" /></a></td></tr>\n",
       "</table>\n"
      ],
      "text/plain": [
       "0. (4 + 8 , 12)\n",
       "   core type: ExprTuple\n",
       "   sub-expressions: 1, 2\n",
       "1. 4 + 8\n",
       "   core type: Operation\n",
       "   operator: 3\n",
       "   operands: 4\n",
       "2. 12\n",
       "   core type: Operation\n",
       "   operator: 5\n",
       "   operands: 6\n",
       "3. +\n",
       "   core type: Literal\n",
       "   sub-expressions: \n",
       "4. (4 , 8)\n",
       "   core type: ExprTuple\n",
       "   sub-expressions: 7, 8\n",
       "5. Decimal\n",
       "   core type: Literal\n",
       "   sub-expressions: \n",
       "6. (1 , 2)\n",
       "   core type: ExprTuple\n",
       "   sub-expressions: 9, 10\n",
       "7. 4\n",
       "   core type: Literal\n",
       "   sub-expressions: \n",
       "8. 8\n",
       "   core type: Literal\n",
       "   sub-expressions: \n",
       "9. 1\n",
       "   core type: Literal\n",
       "   sub-expressions: \n",
       "10. 2\n",
       "    core type: Literal\n",
       "    sub-expressions: "
      ]
     },
     "execution_count": 4,
     "metadata": {},
     "output_type": "execute_result"
    }
   ],
   "source": [
    "# display the expression information\n",
    "expr.exprInfo()"
   ]
  },
  {
   "cell_type": "code",
   "execution_count": null,
   "metadata": {},
   "outputs": [],
   "source": []
  }
 ],
 "metadata": {
  "kernelspec": {
   "display_name": "Python 3",
   "language": "python",
   "name": "python3"
  }
 },
 "nbformat": 4,
 "nbformat_minor": 0
}
