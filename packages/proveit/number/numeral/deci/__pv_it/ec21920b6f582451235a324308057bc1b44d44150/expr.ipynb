{
 "cells": [
  {
   "cell_type": "markdown",
   "metadata": {},
   "source": [
    "Theorem <a class=\"ProveItLink\" href=\"../../_theorems_.ipynb#mult_3_3\">mult_3_3</a> of type <a class=\"ProveItLink\" href=\"../../../../../../../doc/html/api/proveit.logic.Equals.html\">Equals</a>\n",
    "=======================\n",
    "# from context <a class=\"ProveItLink\" href=\"../../_context_.ipynb\">proveit.number.numeral.deci</a>\n",
    "*** see <a class=\"ProveItLink\" href=\"dependencies.ipynb\">dependencies</a> ***"
   ]
  },
  {
   "cell_type": "code",
   "execution_count": 1,
   "metadata": {},
   "outputs": [],
   "source": [
    "# import the special expression\n",
    "from proveit.number.numeral.deci._theorems_ import mult_3_3"
   ]
  },
  {
   "cell_type": "code",
   "execution_count": 2,
   "metadata": {},
   "outputs": [
    {
     "name": "stdout",
     "output_type": "stream",
     "text": [
      "Passed sanity check: built 'mult_3_3' is the same as the stored Expression.\n"
     ]
    }
   ],
   "source": [
    "# check that the built expression is the same as the stored expression\n",
    "%check_expr mult_3_3"
   ]
  },
  {
   "cell_type": "code",
   "execution_count": 3,
   "metadata": {},
   "outputs": [
    {
     "data": {
      "text/html": [
       "<table><tr><th>&nbsp;</th><th>core type</th><th>sub-expressions</th><th>expression</th></tr>\n",
       "<tr><td>0</td><td>Operation</td><td>operator:&nbsp;1<br>operands:&nbsp;2<br></td><td><a class=\"ProveItLink\" href=\"expr.ipynb\"><img src=\"data:image/png;base64,iVBORw0KGgoAAAANSUhEUgAAAFcAAAAVBAMAAADBdm84AAAAMFBMVEX////c3NwiIiJERESqqqqY\n",
       "mJh2dnZmZmYQEBDu7u4yMjJUVFTMzMyIiIi6uroAAAAs73DqAAAAAXRSTlMAQObYZgAAAW5JREFU\n",
       "KM9jYCAJ8F3AFIvDpfg0A8OxNBM4lyct2YGB/QC6Ks7t2SCxlQyMBQzv4caLM/D9ZWBYgK5YwoGx\n",
       "kYGB9wID2xcGfgWYaL4DwycGhjB0xRYMDJsZGDgmMLAgK/YHK56BrvgX0JgJDK/A7PdIvgQ5g9kB\n",
       "zcmfGRjuP2AoA3NWI0lwbWBgYCvAYnIAw1JQCGRtQAgfA2lkAfuwahUIgA2qYGCwv8DQB1Zx4wHI\n",
       "rglgNi9QiK8BzeRZASz1Fxj+gdkcP4HEfKgv+ycw8HxA92HsnfsOIMWMBxiYvwL5MwyAhAzQvgAs\n",
       "isGh0QI08SdEMdjb/yeAFEOcUaQEAspQqVUMDKYMDPwLGJg+InlbX4CBFT0K7wswAt2QDvRRAMP7\n",
       "BJjoVQa+b1iC7tIELmBUPAKy3MuXwEVZyquAEcL1AE0xWzkorXEIYEuKM7CnUNYEbKK5ONLzSixi\n",
       "nAtwKJbGIsYtgEMxI5ZsdQe7UgDqVF1QiJN/AwAAAABJRU5ErkJggg==\n",
       "\" style=\"display:inline;vertical-align:middle;\" /></a></td></tr>\n",
       "<tr><td>1</td><td>Literal</td><td></td><td><a class=\"ProveItLink\" href=\"../../../../../logic/equality/__pv_it/2fb26078095930560931daa0500ce419a39ea6cd0/expr.ipynb\"><img src=\"data:image/png;base64,iVBORw0KGgoAAAANSUhEUgAAAA4AAAAFBAMAAACHocAhAAAAFVBMVEX///9EREQiIiJUVFQyMjJm\n",
       "ZmYAAADubVkoAAAAAXRSTlMAQObYZgAAABRJREFUCNdjCHEBAWcGXCBICQQUAUpuAwlgGKrkAAAA\n",
       "AElFTkSuQmCC\n",
       "\" style=\"display:inline;vertical-align:middle;\" /></a></td></tr>\n",
       "<tr><td>2</td><td>ExprTuple</td><td>3, 4</td><td><a class=\"ProveItLink\" href=\"../1a21bf5056f2d0539c39c5a64a121d48b12720240/expr.ipynb\"><img src=\"data:image/png;base64,iVBORw0KGgoAAAANSUhEUgAAAEMAAAAVBAMAAADvM06qAAAAMFBMVEX////c3NwiIiJERESqqqqY\n",
       "mJh2dnZmZmYQEBDu7u4yMjJUVFTMzMyIiIi6uroAAAAs73DqAAAAAXRSTlMAQObYZgAAAWFJREFU\n",
       "KM+NkrtLw1AUh7/YtDa1Tbsp6OB/oIOCm9kczeSmFIQKitjJiosKzpqxuJhBB+1ScHDt1MUlCIJD\n",
       "odXRpb6hgo97k+Y2QylmOPzOyXfP494D//hMb9DfFWluoF6YUbF0YdUKlHG9UWO4JtQFWpG2SjWK\n",
       "+R2oMUs7ABcyHol3spMhsmXxGqg5uIIlSDroUWRRIV+CdyjDk++2Iz13Cxlv0GwRs9j2/UpkiFS1\n",
       "l8UmUeRcTrFe7RH1EN+BeQ/d5ch371sytePrTBDixNb3PMx9fnw32RHmtNvzcYCy3GhapJ8lotWI\n",
       "fYhQeVqYCZHeVjfgSORQnO4EiD/HrxNBLpGFZiHrMvQSRsUcUzlDqmZOEyXiLmuiP5t2PkTuMD+D\n",
       "rm6dlLgtMfSjcBZKZ2pmvbRrUZZJEyX5uKkWyVy/HXhQSjxAPN8PUQ2z6S/DIMQQy8B4HyKj1Ijs\n",
       "Qxu4mA34A8bOW3mClh/HAAAAAElFTkSuQmCC\n",
       "\" style=\"display:inline;vertical-align:middle;\" /></a></td></tr>\n",
       "<tr><td>3</td><td>Operation</td><td>operator:&nbsp;5<br>operands:&nbsp;6<br></td><td><a class=\"ProveItLink\" href=\"../7050c4e9f03f86cf8a4737c607a770aa14a6601f0/expr.ipynb\"><img src=\"data:image/png;base64,iVBORw0KGgoAAAANSUhEUgAAACMAAAAOBAMAAABXxbiCAAAAMFBMVEX///+YmJju7u4QEBBUVFQy\n",
       "MjIiIiKIiIi6urpmZmbc3NyqqqpERER2dnbMzMwAAAB0GlNiAAAAAXRSTlMAQObYZgAAAKNJREFU\n",
       "GNNjYHh79zQDDPDdvbOBgYFrAkN/AUxoJQPHdwYG3t8M/AkwofsbGL4xMHAjC+0HCwEBQiMDWCMQ\n",
       "hCBEGFgdQLZcdUCIvIVKFzcACSYFMJvdAkwxfwIS+lA77BUYuB4w8HwEMpUPAIl1DAznBRj0P0GE\n",
       "QIDpvwJIiD+Age0XzPSvDAz5CxjYBRj6L8CEChk4/gKpnTOj4W7gnjl1AwMAj8AqsF60evcAAAAA\n",
       "SUVORK5CYII=\n",
       "\" style=\"display:inline;vertical-align:middle;\" /></a></td></tr>\n",
       "<tr><td>4</td><td>Literal</td><td></td><td><a class=\"ProveItLink\" href=\"../../../__pv_it/cdcd6ad997b4d5c13a719b005810863ba48ff0c70/expr.ipynb\"><img src=\"data:image/png;base64,iVBORw0KGgoAAAANSUhEUgAAAAoAAAAOBAMAAADkjZCYAAAAMFBMVEX///8iIiKYmJi6urqIiIgy\n",
       "MjJERESqqqoQEBDc3NzMzMx2dnZmZmZUVFTu7u4AAABn2L4sAAAAAXRSTlMAQObYZgAAAFVJREFU\n",
       "CNdjYHh7+hYDA2c7w4wJDGwNDLwJDPwBDNz/GN4nMLB8BrM/MfA0MLB9YeALYqj5wsDA5LLkOwMQ\n",
       "ANUAAWsAA8tPhvkGDCxyDCFA/p5jBQwAtzwVEbGPESsAAAAASUVORK5CYII=\n",
       "\" style=\"display:inline;vertical-align:middle;\" /></a></td></tr>\n",
       "<tr><td>5</td><td>Literal</td><td></td><td><a class=\"ProveItLink\" href=\"../../../../multiplication/__pv_it/21fd2079611555ecce512d99547a00d551e6b86b0/expr.ipynb\"><img src=\"data:image/png;base64,iVBORw0KGgoAAAANSUhEUgAAAAMAAAADBAMAAACkBqiMAAAAElBMVEX///9EREQQEBAiIiLu7u4A\n",
       "AABGBidwAAAAAXRSTlMAQObYZgAAABFJREFUCNdjYHFgcDVgcBIAAASWAQx4jI0xAAAAAElFTkSu\n",
       "QmCC\n",
       "\" style=\"display:inline;vertical-align:middle;\" /></a></td></tr>\n",
       "<tr><td>6</td><td>ExprTuple</td><td>7, 7</td><td><a class=\"ProveItLink\" href=\"../c017262dc935bab7587f0744a3b31563e3ec1f2b0/expr.ipynb\"><img src=\"data:image/png;base64,iVBORw0KGgoAAAANSUhEUgAAACkAAAAVBAMAAAAp9toTAAAAMFBMVEX////c3NwiIiJERESqqqqY\n",
       "mJh2dnZmZmYQEBDu7u4yMjJUVFTMzMyIiIi6uroAAAAs73DqAAAAAXRSTlMAQObYZgAAAQ9JREFU\n",
       "GNNtkS1PA0EQhp+jvXIH7fUcAgT/AAOac0iqkKQJSUlICFU0QSHQ9CSOEyAIpj+hqgZTQ4JANEjM\n",
       "AQGSkvAxO909cWHFZt5nszPvzMD/JxqXwK657mDUWZ+BemcvYX4o0Q1el3z2YYnoGzJojKm901xV\n",
       "epTwBjsQpFQLuq30Ap5V5q6kyVBJOFZx6wwsDKDW5dqUPhhYODLP1YxzVQ8Tixuio1N+VARTl6Kf\n",
       "Un8x1BtS+VC0ApstQ8/gcmpp+JsaKhk2oJkx90oq+AvWYvyMfanQIm+HYp97ok919iRiq3dF2I/F\n",
       "U+8kEc8Tgth15QLTsd+2sV8M+FAnWaKhTJJlK4qVLJpUXnlDj/AHHh5B6Heel5EAAAAASUVORK5C\n",
       "YII=\n",
       "\" style=\"display:inline;vertical-align:middle;\" /></a></td></tr>\n",
       "<tr><td>7</td><td>Literal</td><td></td><td><a class=\"ProveItLink\" href=\"../../../__pv_it/9176d93c83afa2c995b614976e3cb49207102fa70/expr.ipynb\"><img src=\"data:image/png;base64,iVBORw0KGgoAAAANSUhEUgAAAAoAAAAOBAMAAADkjZCYAAAAMFBMVEX///+YmJju7u4QEBBUVFQy\n",
       "MjIiIiKIiIi6urpmZmbc3NyqqqpERER2dnbMzMwAAAB0GlNiAAAAAXRSTlMAQObYZgAAAE1JREFU\n",
       "CNdjYHh79zQDA9cEhv4CBt7fDPwJDNxgEgiAIkAQAsR8Vx1ATIbiBhDJ/ImB6wEDz0cG/U8gkj+A\n",
       "ge0XA7sAQ/8FBoadM6MZAEflFACalZ/OAAAAAElFTkSuQmCC\n",
       "\" style=\"display:inline;vertical-align:middle;\" /></a></td></tr>\n",
       "</table>\n"
      ],
      "text/plain": [
       "0. (3 * 3) = 9\n",
       "   core type: Operation\n",
       "   operator: 1\n",
       "   operands: 2\n",
       "1. =\n",
       "   core type: Literal\n",
       "   sub-expressions: \n",
       "2. (3 * 3 , 9)\n",
       "   core type: ExprTuple\n",
       "   sub-expressions: 3, 4\n",
       "3. 3 * 3\n",
       "   core type: Operation\n",
       "   operator: 5\n",
       "   operands: 6\n",
       "4. 9\n",
       "   core type: Literal\n",
       "   sub-expressions: \n",
       "5. *\n",
       "   core type: Literal\n",
       "   sub-expressions: \n",
       "6. (3 , 3)\n",
       "   core type: ExprTuple\n",
       "   sub-expressions: 7, 7\n",
       "7. 3\n",
       "   core type: Literal\n",
       "   sub-expressions: "
      ]
     },
     "execution_count": 3,
     "metadata": {},
     "output_type": "execute_result"
    }
   ],
   "source": [
    "# display the expression information\n",
    "mult_3_3.exprInfo()"
   ]
  },
  {
   "cell_type": "code",
   "execution_count": null,
   "metadata": {},
   "outputs": [],
   "source": []
  }
 ],
 "metadata": {
  "kernelspec": {
   "display_name": "Python 3",
   "language": "python",
   "name": "python3"
  }
 },
 "nbformat": 4,
 "nbformat_minor": 0
}
