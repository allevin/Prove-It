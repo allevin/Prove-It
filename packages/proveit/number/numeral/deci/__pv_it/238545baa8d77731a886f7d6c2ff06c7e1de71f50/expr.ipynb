{
 "cells": [
  {
   "cell_type": "markdown",
   "metadata": {},
   "source": [
    "Theorem <a class=\"ProveItLink\" href=\"../../_theorems_.ipynb#mult_2_4\">mult_2_4</a> of type <a class=\"ProveItLink\" href=\"../../../../../../../doc/html/api/proveit.logic.Equals.html\">Equals</a>\n",
    "=======================\n",
    "# from context <a class=\"ProveItLink\" href=\"../../_context_.ipynb\">proveit.number.numeral.deci</a>\n",
    "*** see <a class=\"ProveItLink\" href=\"dependencies.ipynb\">dependencies</a> ***"
   ]
  },
  {
   "cell_type": "code",
   "execution_count": 1,
   "metadata": {},
   "outputs": [],
   "source": [
    "# import the special expression\n",
    "from proveit.number.numeral.deci._theorems_ import mult_2_4"
   ]
  },
  {
   "cell_type": "code",
   "execution_count": 2,
   "metadata": {},
   "outputs": [
    {
     "name": "stdout",
     "output_type": "stream",
     "text": [
      "Passed sanity check: built 'mult_2_4' is the same as the stored Expression.\n"
     ]
    }
   ],
   "source": [
    "# check that the built expression is the same as the stored expression\n",
    "%check_expr mult_2_4"
   ]
  },
  {
   "cell_type": "code",
   "execution_count": 3,
   "metadata": {},
   "outputs": [
    {
     "data": {
      "text/html": [
       "<table><tr><th>&nbsp;</th><th>core type</th><th>sub-expressions</th><th>expression</th></tr>\n",
       "<tr><td>0</td><td>Operation</td><td>operator:&nbsp;1<br>operands:&nbsp;2<br></td><td><a class=\"ProveItLink\" href=\"expr.ipynb\"><img src=\"data:image/png;base64,iVBORw0KGgoAAAANSUhEUgAAAFcAAAAVBAMAAADBdm84AAAAMFBMVEX////c3NwiIiJERESqqqqY\n",
       "mJh2dnZmZmYQEBDu7u4yMjJUVFTMzMyIiIi6uroAAAAs73DqAAAAAXRSTlMAQObYZgAAAWtJREFU\n",
       "KM+V0z9Iw0AUBvAvbdKkTS1xcnCwKDh3cZVODiJYBxUEJVMzSKEIKhRBBZciSHDqZqE4VAe7iXSo\n",
       "m4ODGQUFxdGpiCBdjO+uJdHrZfCG5OXjx/HuT4B/jYw3nG1E4XtgrDL7K0i3oN+KKll08vRqQmnh\n",
       "JR/msRxQF7EObAMjHkwXsW6YPxJeEfEycAoYLowqzO8gVtYI10S8yfE7kOpBD3EiRTieF/DiDUrA\n",
       "Tr/PXhAvMZwoCzjur9vAOa8f7GDZHsMqX2Hlgo1Lnu9/WMAJLxvcuawLMJw5EGbW9q4+Ad6snmPP\n",
       "syw9FjhOdwW8Cs13+/iJBzVSSVuOq8BEAUdUqWWMDkK13e4ce4M2tibZmGId0rfuYYbKO9qDcBKD\n",
       "ZtbEIzwETAsOHcN00cn+xUNbN+9iDnijTfZ9P8SJzlcBqVfxbl7v0jkZluwq1uQ3VLNlaSniPjcl\n",
       "WbIegcclmWlFYEXyWz3L6Q9KVE8uhvC0WAAAAABJRU5ErkJggg==\n",
       "\" style=\"display:inline;vertical-align:middle;\" /></a></td></tr>\n",
       "<tr><td>1</td><td>Literal</td><td></td><td><a class=\"ProveItLink\" href=\"../../../../../logic/equality/__pv_it/2fb26078095930560931daa0500ce419a39ea6cd0/expr.ipynb\"><img src=\"data:image/png;base64,iVBORw0KGgoAAAANSUhEUgAAAA4AAAAFBAMAAACHocAhAAAAFVBMVEX///9EREQiIiJUVFQyMjJm\n",
       "ZmYAAADubVkoAAAAAXRSTlMAQObYZgAAABRJREFUCNdjCHEBAWcGXCBICQQUAUpuAwlgGKrkAAAA\n",
       "AElFTkSuQmCC\n",
       "\" style=\"display:inline;vertical-align:middle;\" /></a></td></tr>\n",
       "<tr><td>2</td><td>ExprTuple</td><td>3, 4</td><td><a class=\"ProveItLink\" href=\"../f7ce12c0952dd038b4c0503ab55259f37e0072ef0/expr.ipynb\"><img src=\"data:image/png;base64,iVBORw0KGgoAAAANSUhEUgAAAEMAAAAVBAMAAADvM06qAAAAMFBMVEX////c3NwiIiJERESqqqqY\n",
       "mJh2dnZmZmYQEBDu7u4yMjJUVFTMzMyIiIi6uroAAAAs73DqAAAAAXRSTlMAQObYZgAAAV9JREFU\n",
       "KM+NkjtIw1AUQE8/aZKmlTo5ONjJuYurdHIQwTqoICiZ2kEKXVQQwQouRZDg1M2COHSym0iHujk4\n",
       "mFFQ8DM6VRGki/Hl5adQihne/Z2Xe9+9F/7xjdmjohvucQsTu7O/vJmOJ/VypYh6LbQ2sQ5PxQiJ\n",
       "Fzypwha0IGtjWMT7EXLvI8twAiugWWgNjO+QiK35yKZEmvAG6QFqhKTSPrJ4RRUSRba9/IMQWQqQ\n",
       "hLNuihs1zqV5ZwaEbgcI+x85SLY4ltaZjFpuHgJE2bv4FG2rI4tQpfc0L46FEFlFcSwyfQ95kL6m\n",
       "iOlmiDRgquQih8JI1hj38ye73d6RHIleF3+33UQzwroR74hapxXQXXkARg6lRUU0a7pcyf9BZFXz\n",
       "FnPy0a+iKY7jREiq91VqvrsrcLkjJpd+RssN24GXUBMDUMxhSCnUqnIZRiG6WAYmhxDZUDPcOmIj\n",
       "F/MRfgByDE1XJqJN6AAAAABJRU5ErkJggg==\n",
       "\" style=\"display:inline;vertical-align:middle;\" /></a></td></tr>\n",
       "<tr><td>3</td><td>Operation</td><td>operator:&nbsp;5<br>operands:&nbsp;6<br></td><td><a class=\"ProveItLink\" href=\"../e3965ddd5594a7d5392207c133b5a93384e2101a0/expr.ipynb\"><img src=\"data:image/png;base64,iVBORw0KGgoAAAANSUhEUgAAACIAAAAPBAMAAABzWwAZAAAAMFBMVEX///+YmJh2dnbMzMwQEBAi\n",
       "IiLu7u6qqqqIiIhUVFS6urpEREQyMjJmZmbc3NwAAACOMKdoAAAAAXRSTlMAQObYZgAAAJFJREFU\n",
       "GNNj4Lt7egEDAlgyMLxk4PiOJBLNwDCNgSEeIcDhzcDgksAwH6Ht4WkGhvMJDPcRIgqnwVR8AkyA\n",
       "8QFYhPkTXEkGA1iEZwOITANrgojcBhFsX4EEuwFYhGMCWARoLUMSA1ikloHvAdSYypkzv8xgYL4A\n",
       "tAHhRKDSp0pKVxlQROL///+KEND8f5EBAwAAjPcnBoveopgAAAAASUVORK5CYII=\n",
       "\" style=\"display:inline;vertical-align:middle;\" /></a></td></tr>\n",
       "<tr><td>4</td><td>Literal</td><td></td><td><a class=\"ProveItLink\" href=\"../../../__pv_it/7ca36d8558dd5f18c1e16b5e877a0b7e314926450/expr.ipynb\"><img src=\"data:image/png;base64,iVBORw0KGgoAAAANSUhEUgAAAAoAAAAOBAMAAADkjZCYAAAAMFBMVEX///+6uroQEBAyMjLMzMzc\n",
       "3NxERESIiIhUVFQiIiKYmJiqqqpmZmZ2dnbu7u4AAAACo3QQAAAAAXRSTlMAQObYZgAAAFlJREFU\n",
       "CNdjYHh79zQDA8MBBp4FDFwLGPgmMPA2gEjuHw94CxgY8n/VAmV5/k8Fkmuc/29g4DrAsP4fA9MD\n",
       "BtZfDI+AgscZmAIYGFoZuO0YuC8wMEicOc0AAC98GKTiu3IvAAAAAElFTkSuQmCC\n",
       "\" style=\"display:inline;vertical-align:middle;\" /></a></td></tr>\n",
       "<tr><td>5</td><td>Literal</td><td></td><td><a class=\"ProveItLink\" href=\"../../../../multiplication/__pv_it/21fd2079611555ecce512d99547a00d551e6b86b0/expr.ipynb\"><img src=\"data:image/png;base64,iVBORw0KGgoAAAANSUhEUgAAAAMAAAADBAMAAACkBqiMAAAAElBMVEX///9EREQQEBAiIiLu7u4A\n",
       "AABGBidwAAAAAXRSTlMAQObYZgAAABFJREFUCNdjYHFgcDVgcBIAAASWAQx4jI0xAAAAAElFTkSu\n",
       "QmCC\n",
       "\" style=\"display:inline;vertical-align:middle;\" /></a></td></tr>\n",
       "<tr><td>6</td><td>ExprTuple</td><td>7, 8</td><td><a class=\"ProveItLink\" href=\"../fc6cee22f08cb27a3509e864440450d5a3ae8bbd0/expr.ipynb\"><img src=\"data:image/png;base64,iVBORw0KGgoAAAANSUhEUgAAACkAAAAVBAMAAAAp9toTAAAAMFBMVEX////c3NwiIiJERESqqqqY\n",
       "mJh2dnZmZmYQEBDu7u4yMjJUVFTMzMyIiIi6uroAAAAs73DqAAAAAXRSTlMAQObYZgAAAQhJREFU\n",
       "GNNjYMAO+C6gCcSBiNMMDOJVdjAhng0M7AeA9EoGxg0M9x2gokwGDAwLGBh4LzBwT2Bg+gAVvQEU\n",
       "DWNg4JjAwNHJwP0PIsgYBRSdwcDwioGB6ycDO1SUjQsoyuzAUAYx7idENBAkylbAsBTMO58Apjgv\n",
       "gERZFjD0gbmLoQYwgET5GhjABrIbQER9wKI8HyCityGCnAkw0RYgj6WAQRAkyrJ79/7uCyATTIG8\n",
       "40DLGSaAlXMA1bIuYEgHOl0tLV2B8xNcFOiyR0DH/v//X4GzXwDkiP3fAxi4HjBwCMBCFMYA+Zg1\n",
       "AcpmhQdwLjgk0UQ5gSHJIA3lwKOEG2QUI3oM3WFgAAAKdji5sE4iVwAAAABJRU5ErkJggg==\n",
       "\" style=\"display:inline;vertical-align:middle;\" /></a></td></tr>\n",
       "<tr><td>7</td><td>Literal</td><td></td><td><a class=\"ProveItLink\" href=\"../../../__pv_it/77d407a64829263cdc16415becd4c2293f77a4bf0/expr.ipynb\"><img src=\"data:image/png;base64,iVBORw0KGgoAAAANSUhEUgAAAAkAAAAOBAMAAAAPuiubAAAAMFBMVEX///+YmJh2dnbMzMwQEBAi\n",
       "IiLu7u6qqqqIiIhUVFS6urpEREQyMjJmZmbc3NwAAACOMKdoAAAAAXRSTlMAQObYZgAAAFBJREFU\n",
       "CNdj4Lt7egEDw0sGju8MDNMYGOIZGFwSGOYvYDifwHAfKAEUSQASzJ9ATJ4NIPI2iOCYACJrGfge\n",
       "MDBfYGB8wPBUSekqUPH//18ZAIliFhc3zESNAAAAAElFTkSuQmCC\n",
       "\" style=\"display:inline;vertical-align:middle;\" /></a></td></tr>\n",
       "<tr><td>8</td><td>Literal</td><td></td><td><a class=\"ProveItLink\" href=\"../../../__pv_it/23412ce59ea7e77353d2f9225e02248e73651ca00/expr.ipynb\"><img src=\"data:image/png;base64,iVBORw0KGgoAAAANSUhEUgAAAAoAAAAPBAMAAAAv0UM9AAAALVBMVEX///9mZmaqqqru7u52dnYy\n",
       "MjKYmJjc3NwQEBCIiIhEREQiIiJUVFTMzMwAAACUDTcXAAAAAXRSTlMAQObYZgAAAD5JREFUCNdj\n",
       "YGBguMMAArtABGcXiCyLApEOIJKtAERaMoBIBxDJdAFEmjCASJ0zZ16cBCkF64KQPu/EwBwGACv6\n",
       "DSRgin9qAAAAAElFTkSuQmCC\n",
       "\" style=\"display:inline;vertical-align:middle;\" /></a></td></tr>\n",
       "</table>\n"
      ],
      "text/plain": [
       "0. (2 * 4) = 8\n",
       "   core type: Operation\n",
       "   operator: 1\n",
       "   operands: 2\n",
       "1. =\n",
       "   core type: Literal\n",
       "   sub-expressions: \n",
       "2. (2 * 4 , 8)\n",
       "   core type: ExprTuple\n",
       "   sub-expressions: 3, 4\n",
       "3. 2 * 4\n",
       "   core type: Operation\n",
       "   operator: 5\n",
       "   operands: 6\n",
       "4. 8\n",
       "   core type: Literal\n",
       "   sub-expressions: \n",
       "5. *\n",
       "   core type: Literal\n",
       "   sub-expressions: \n",
       "6. (2 , 4)\n",
       "   core type: ExprTuple\n",
       "   sub-expressions: 7, 8\n",
       "7. 2\n",
       "   core type: Literal\n",
       "   sub-expressions: \n",
       "8. 4\n",
       "   core type: Literal\n",
       "   sub-expressions: "
      ]
     },
     "execution_count": 3,
     "metadata": {},
     "output_type": "execute_result"
    }
   ],
   "source": [
    "# display the expression information\n",
    "mult_2_4.exprInfo()"
   ]
  },
  {
   "cell_type": "code",
   "execution_count": null,
   "metadata": {},
   "outputs": [],
   "source": []
  }
 ],
 "metadata": {
  "kernelspec": {
   "display_name": "Python 3",
   "language": "python",
   "name": "python3"
  }
 },
 "nbformat": 4,
 "nbformat_minor": 0
}
