{
 "cells": [
  {
   "cell_type": "markdown",
   "metadata": {},
   "source": [
    "Expression of type <a class=\"ProveItLink\" href=\"../../../../../../../doc/html/api/proveit.ExprTuple.html\">ExprTuple</a>\n",
    "=======================\n",
    "# from context <a class=\"ProveItLink\" href=\"../../_context_.ipynb\">proveit.number.numeral.deci</a>"
   ]
  },
  {
   "cell_type": "code",
   "execution_count": 1,
   "metadata": {},
   "outputs": [],
   "source": [
    "# import Expression classes needed to build the expression\n",
    "from proveit import ExprTuple\n",
    "from proveit.number import Add, DecimalSequence, one, seven, six, three"
   ]
  },
  {
   "cell_type": "code",
   "execution_count": 2,
   "metadata": {},
   "outputs": [
    {
     "data": {
      "text/html": [
       "<strong id=\"expr\">expr:</strong> <a class=\"ProveItLink\" href=\"expr.ipynb\"><img src=\"data:image/png;base64,iVBORw0KGgoAAAANSUhEUgAAAFcAAAAVBAMAAADBdm84AAAAMFBMVEX////c3NwiIiJERESqqqqY\n",
       "mJh2dnZmZmYQEBDu7u4yMjJUVFTMzMyIiIi6uroAAAAs73DqAAAAAXRSTlMAQObYZgAAAYFJREFU\n",
       "KM+Vkz1Lw1AUht/aNm1qEro56OAiCgqK4OBk/kBpJ0dbEOKi6GKVdnHQVSOCCA7tImhcxNWlk4sI\n",
       "XUQQh+ooFLSgYkXjOYmt9wYK9Q73no+H85UT4F/HqHbHzfF1BW3YsizZs59fbInTgGbNm4hVSDlB\n",
       "1HXdT4kNjeH8V9z7APpgfAFlQK9CsYEz37XrPz05OL50eEHwsokGMAvEbSiAUvF9Kf/J2u0kOsFp\n",
       "Dz4AnjxTHRJ8DAmGV0bYRJ5ldUKGm9e3pgQnqExlBUcsx0wJVhsZDInw5SldkTK22VKCDLvUlC1G\n",
       "1gkzNvDN8l0Apnaypghjx4b27MOjnqHgOCOOwxmbBFf/4AFgJsPwJkd6lyNjUoqsujbDVMYUDyYI\n",
       "p7lmtR2ZEo0nES1jgfsMwuGcuoXSYAu+gfHmje6RDNprAEaxWMPBCw91vbmKyFqBikrUEE+KG5QS\n",
       "lQd5E+lzR3OioS4qGRle8la005FhlVYU/Z1YXVZ7ud5Ql7/VPfAD4hho+NgielAAAAAASUVORK5C\n",
       "YII=\n",
       "\" style=\"display:inline;vertical-align:middle;\" /></a><br>"
      ],
      "text/plain": [
       "expr: (7 + 6 , 13)"
      ]
     },
     "execution_count": 2,
     "metadata": {},
     "output_type": "execute_result"
    }
   ],
   "source": [
    "# build up the expression from sub-expressions\n",
    "expr = ExprTuple(Add(seven, six), DecimalSequence(one, three))"
   ]
  },
  {
   "cell_type": "code",
   "execution_count": 3,
   "metadata": {},
   "outputs": [
    {
     "name": "stdout",
     "output_type": "stream",
     "text": [
      "Passed sanity check: built 'expr' is the same as the stored Expression.\n"
     ]
    }
   ],
   "source": [
    "# check that the built expression is the same as the stored expression\n",
    "%check_expr"
   ]
  },
  {
   "cell_type": "code",
   "execution_count": 4,
   "metadata": {},
   "outputs": [
    {
     "data": {
      "text/html": [
       "<table><tr><th>&nbsp;</th><th>core type</th><th>sub-expressions</th><th>expression</th></tr>\n",
       "<tr><td>0</td><td>ExprTuple</td><td>1, 2</td><td><a class=\"ProveItLink\" href=\"expr.ipynb\"><img src=\"data:image/png;base64,iVBORw0KGgoAAAANSUhEUgAAAFcAAAAVBAMAAADBdm84AAAAMFBMVEX////c3NwiIiJERESqqqqY\n",
       "mJh2dnZmZmYQEBDu7u4yMjJUVFTMzMyIiIi6uroAAAAs73DqAAAAAXRSTlMAQObYZgAAAYFJREFU\n",
       "KM+Vkz1Lw1AUht/aNm1qEro56OAiCgqK4OBk/kBpJ0dbEOKi6GKVdnHQVSOCCA7tImhcxNWlk4sI\n",
       "XUQQh+ooFLSgYkXjOYmt9wYK9Q73no+H85UT4F/HqHbHzfF1BW3YsizZs59fbInTgGbNm4hVSDlB\n",
       "1HXdT4kNjeH8V9z7APpgfAFlQK9CsYEz37XrPz05OL50eEHwsokGMAvEbSiAUvF9Kf/J2u0kOsFp\n",
       "Dz4AnjxTHRJ8DAmGV0bYRJ5ldUKGm9e3pgQnqExlBUcsx0wJVhsZDInw5SldkTK22VKCDLvUlC1G\n",
       "1gkzNvDN8l0Apnaypghjx4b27MOjnqHgOCOOwxmbBFf/4AFgJsPwJkd6lyNjUoqsujbDVMYUDyYI\n",
       "p7lmtR2ZEo0nES1jgfsMwuGcuoXSYAu+gfHmje6RDNprAEaxWMPBCw91vbmKyFqBikrUEE+KG5QS\n",
       "lQd5E+lzR3OioS4qGRle8la005FhlVYU/Z1YXVZ7ud5Ql7/VPfAD4hho+NgielAAAAAASUVORK5C\n",
       "YII=\n",
       "\" style=\"display:inline;vertical-align:middle;\" /></a></td></tr>\n",
       "<tr><td>1</td><td>Operation</td><td>operator:&nbsp;3<br>operands:&nbsp;4<br></td><td><a class=\"ProveItLink\" href=\"../cb0ea93f1fc66150af69416876962bf54ea85acb0/expr.ipynb\"><img src=\"data:image/png;base64,iVBORw0KGgoAAAANSUhEUgAAACwAAAAQBAMAAACfEoDkAAAAMFBMVEX///8QEBDc3NwyMjKqqqpE\n",
       "RESIiIi6urru7u5UVFSYmJh2dnZmZmYiIiLMzMwAAACwhPg6AAAAAXRSTlMAQObYZgAAAKVJREFU\n",
       "GNNjeHt69+4NDMiAY8/uBwzr////PwFFWPcB5wWGHQwMnFBVChD6NgOzAQPQgH0QLksCmOL6AeGy\n",
       "J6AIMwtAuK0MKML8dmlHQPQRVOH+Wwy8C4A2fUAT/sDADTSezQBN+AID1xcGBl6wq3mMjW2FjY2B\n",
       "bH4DBq5vQNkDqKpZIarr0YRZIGb7owkzRDM0Al3yfgGaMM+c6chBBBNGA+xIwgD0ezAcvUknRgAA\n",
       "AABJRU5ErkJggg==\n",
       "\" style=\"display:inline;vertical-align:middle;\" /></a></td></tr>\n",
       "<tr><td>2</td><td>Operation</td><td>operator:&nbsp;5<br>operands:&nbsp;6<br></td><td><a class=\"ProveItLink\" href=\"../873bb3ffc2667d9132f492afcc62e21bc6e2906e0/expr.ipynb\"><img src=\"data:image/png;base64,iVBORw0KGgoAAAANSUhEUgAAABMAAAAPBAMAAAD0aukfAAAAMFBMVEX///8iIiK6urrc3Nyqqqp2\n",
       "dnbMzMyYmJgyMjIQEBBmZmaIiIhUVFTu7u5EREQAAAA2D8nPAAAAAXRSTlMAQObYZgAAAGtJREFU\n",
       "CNdjYGB4y8DAFhrnwMDAcO8vA4MVA9NvBoY7Z4DMeAeGj0BRbiDTH8FkACuAMjkOwJipPQxwUe5J\n",
       "cCbD/AsQphkDw/sCMJP3/wUYk+EHA4O8AYS5nYHpKwMD18ofyxlYVq1wYEACAGTnJW2UDzkRAAAA\n",
       "AElFTkSuQmCC\n",
       "\" style=\"display:inline;vertical-align:middle;\" /></a></td></tr>\n",
       "<tr><td>3</td><td>Literal</td><td></td><td><a class=\"ProveItLink\" href=\"../../../../addition/__pv_it/3e6688136fa3c7aefbebe51301b7c3ebf0b69c440/expr.ipynb\"><img src=\"data:image/png;base64,iVBORw0KGgoAAAANSUhEUgAAAA4AAAAOBAMAAADtZjDiAAAAJFBMVEX///+6urpUVFQQEBAiIiIy\n",
       "MjJmZmaIiIiqqqrc3Nzu7u4AAACgHpL+AAAAAXRSTlMAQObYZgAAAB5JREFUCNdjYGBgWMkAAe2k\n",
       "0Kmhoc6hoUGk6BMHYgAHOwjcado9fwAAAABJRU5ErkJggg==\n",
       "\" style=\"display:inline;vertical-align:middle;\" /></a></td></tr>\n",
       "<tr><td>4</td><td>ExprTuple</td><td>7, 8</td><td><a class=\"ProveItLink\" href=\"../0a27c2a0cb17f8921a375335a538eaa7d94df0380/expr.ipynb\"><img src=\"data:image/png;base64,iVBORw0KGgoAAAANSUhEUgAAACkAAAAVBAMAAAAp9toTAAAAMFBMVEX////c3NwiIiJERESqqqqY\n",
       "mJh2dnZmZmYQEBDu7u4yMjJUVFTMzMyIiIi6uroAAAAs73DqAAAAAXRSTlMAQObYZgAAAQ1JREFU\n",
       "GNNtkbFLw0AUxn+1TdrTWLo7i4MOIrjnP9DJUTPFRalTly4OumomcTOLoE7iX9BdhGyCOBRHQZCC\n",
       "FCqY3nt37RC84d37frx8ufsO/l/togL2pTwTraVp6shV74jmwDb3BGVZ/iqsbfAEOSwXhBk8Kl1I\n",
       "eIA9aGWEEA6UHmRSr+FT5ZezvdNaj+nJbjYdnby8xvbDE25FNWOFZrTLKjRyLkTeuFFTQjejfcqf\n",
       "yDdPR/aHMdG3o+v+WhNLC6FnMjP2dEtnrcO2RCFUjrqjvkHOoRWNsfOknphzPdmHFdGPpZcd2/X7\n",
       "Q1gc0urMEp01cuMg8X0wD/hYk6xQY5NkxYv5kyyJVa36Qu8wBebmPeKkSDhwAAAAAElFTkSuQmCC\n",
       "\" style=\"display:inline;vertical-align:middle;\" /></a></td></tr>\n",
       "<tr><td>5</td><td>Literal</td><td></td><td><a class=\"ProveItLink\" href=\"../b28e6317a1d330492d51cd67ccba81d4d210b8b30/expr.ipynb\"><img src=\"data:image/png;base64,iVBORw0KGgoAAAANSUhEUgAAAE8AAAAOBAMAAACcHlx8AAAAMFBMVEX///8iIiIQEBCYmJjc3Ny6\n",
       "urru7u5mZmZ2dnaqqqrMzMxEREQyMjJUVFSIiIgAAABUCcz6AAAAAXRSTlMAQObYZgAAAWhJREFU\n",
       "KM99kL9Lw3AQxV/bNE1s0rh1VNTBqWR2sAXdEwRns9XJtFsRwSxVx/oXNLgqNKugtLsgHQVtDWLt\n",
       "IEahVrT+vIsK1qEH+QS+PN67ewDuPlutExd/JtnA8EgTJv/eAPllSOj/EyLLGHsmbFoYNRuMVJ9Q\n",
       "80cKM2HQA8FojtIJA6bmsWMTQqmbg7gTuKslxG8Xg7N4cEiadnkGMfb6Ts062M0JBeyZyrizAkk9\n",
       "hV1GFVjKUaLKXrjnai5NoY+EK2aQnKsUsRzxYPskFHpIeIiGF9QZU1Cn56+hUoZIq1u2iapFx9JD\n",
       "xEctrPmVvlgPWuF3X/kJrCoCs/xgu7gKa/wgRD1obG8wlCZ7IY34o2hwvnUsco18+pEV7uFrOqAb\n",
       "pkNeYh9qY8Gu4EJ2e9JPjQcUm2ogn1MLkNyqoNNlVIniO4oupyUM1oB8/b11vs47bAfkWQpukAwQ\n",
       "n4TkQW67Qruz30F3C18Fz3drZAxLCAAAAABJRU5ErkJggg==\n",
       "\" style=\"display:inline;vertical-align:middle;\" /></a></td></tr>\n",
       "<tr><td>6</td><td>ExprTuple</td><td>9, 10</td><td><a class=\"ProveItLink\" href=\"../4a1e1fc4940fe3d4dea2df2e48254cb5d80bc01c0/expr.ipynb\"><img src=\"data:image/png;base64,iVBORw0KGgoAAAANSUhEUgAAACkAAAAVBAMAAAAp9toTAAAAMFBMVEX////c3NwiIiJERESqqqqY\n",
       "mJh2dnZmZmYQEBDu7u4yMjJUVFTMzMyIiIi6uroAAAAs73DqAAAAAXRSTlMAQObYZgAAAOpJREFU\n",
       "GNNjYMAO+C6gCcSBiNNAzDwBIsCTluzAwH4AyFrJwMBpDxUVZ+D7y8CwgIGB9wID5+79UNF8B4ZP\n",
       "DAxhDAwcIIH7UFF/sOgMBoZXDEiiDGATmB0YylBFuTYwMLAVMCxFET22GkiwLGDoQ1XLC+TzNTD8\n",
       "QxVl6J/AwPMBVVSGgcE+ACTagiTK+X8CSBRogilMFCTxi4FBX4CBdQFDOlSUE+h8hqsMfN/ALnsE\n",
       "5JT3Lw/g7BcAuqm8ygHo5gcMHAIwX8EYIB+zJkDZrHDH5UJCElWUExiSDNJQDjxKuEFGMaLH0B0G\n",
       "BgBc4kCXqUbjFQAAAABJRU5ErkJggg==\n",
       "\" style=\"display:inline;vertical-align:middle;\" /></a></td></tr>\n",
       "<tr><td>7</td><td>Literal</td><td></td><td><a class=\"ProveItLink\" href=\"../../../__pv_it/44c347496acc279b31e97f8859fc6a0a1e31c26b0/expr.ipynb\"><img src=\"data:image/png;base64,iVBORw0KGgoAAAANSUhEUgAAAAoAAAAOBAMAAADkjZCYAAAAKlBMVEX///8yMjKqqqpERESIiIi6\n",
       "urru7u5UVFSYmJh2dnZmZmYiIiLMzMwAAACZcOxaAAAAAXRSTlMAQObYZgAAAEVJREFUCNdjOL1y\n",
       "5swJDL13794tYJjGwMDOwDCBgWEOAxCwOoDIZBDBsAhEsF0AkSwCIJK7AETmLgCRsWBSF0yebWBg\n",
       "AAAo0Q9n+lHhAQAAAABJRU5ErkJggg==\n",
       "\" style=\"display:inline;vertical-align:middle;\" /></a></td></tr>\n",
       "<tr><td>8</td><td>Literal</td><td></td><td><a class=\"ProveItLink\" href=\"../../../__pv_it/09b499e53e24cf89c2513ba78b501f0314edaa680/expr.ipynb\"><img src=\"data:image/png;base64,iVBORw0KGgoAAAANSUhEUgAAAAoAAAAOBAMAAADkjZCYAAAAMFBMVEX///+6urpERESqqqqIiIgQ\n",
       "EBCYmJgyMjJUVFQiIiLc3NzMzMxmZmZ2dnbu7u4AAABf+mkYAAAAAXRSTlMAQObYZgAAAFNJREFU\n",
       "CNdjYOC7c3cDA8PKDRwTGBjmMrAXMLD9YwAC9gAQyV/tcpiB4f00Bs4EhvcfGHj/MbyfwMD2mYEf\n",
       "qOwLAxOYzQwWZ9BleJrAwMDT08gAANMyF0ZGTeKAAAAAAElFTkSuQmCC\n",
       "\" style=\"display:inline;vertical-align:middle;\" /></a></td></tr>\n",
       "<tr><td>9</td><td>Literal</td><td></td><td><a class=\"ProveItLink\" href=\"../../../__pv_it/9be8badea4c35b9724062cecc501d17a3158d1d20/expr.ipynb\"><img src=\"data:image/png;base64,iVBORw0KGgoAAAANSUhEUgAAAAgAAAAPBAMAAAArJJMAAAAAHlBMVEX///+YmJgyMjIQEBBmZmaI\n",
       "iIhUVFTu7u5EREQAAAAw+MI4AAAAAXRSTlMAQObYZgAAACFJREFUCNdjYGBoZ2BgqJjOwFCWBiQY\n",
       "WEklWJwnOTKAAACjEQo8HvEr3AAAAABJRU5ErkJggg==\n",
       "\" style=\"display:inline;vertical-align:middle;\" /></a></td></tr>\n",
       "<tr><td>10</td><td>Literal</td><td></td><td><a class=\"ProveItLink\" href=\"../../../__pv_it/9176d93c83afa2c995b614976e3cb49207102fa70/expr.ipynb\"><img src=\"data:image/png;base64,iVBORw0KGgoAAAANSUhEUgAAAAoAAAAOBAMAAADkjZCYAAAAMFBMVEX///+YmJju7u4QEBBUVFQy\n",
       "MjIiIiKIiIi6urpmZmbc3NyqqqpERER2dnbMzMwAAAB0GlNiAAAAAXRSTlMAQObYZgAAAE1JREFU\n",
       "CNdjYHh79zQDA9cEhv4CBt7fDPwJDNxgEgiAIkAQAsR8Vx1ATIbiBhDJ/ImB6wEDz0cG/U8gkj+A\n",
       "ge0XA7sAQ/8FBoadM6MZAEflFACalZ/OAAAAAElFTkSuQmCC\n",
       "\" style=\"display:inline;vertical-align:middle;\" /></a></td></tr>\n",
       "</table>\n"
      ],
      "text/plain": [
       "0. (7 + 6 , 13)\n",
       "   core type: ExprTuple\n",
       "   sub-expressions: 1, 2\n",
       "1. 7 + 6\n",
       "   core type: Operation\n",
       "   operator: 3\n",
       "   operands: 4\n",
       "2. 13\n",
       "   core type: Operation\n",
       "   operator: 5\n",
       "   operands: 6\n",
       "3. +\n",
       "   core type: Literal\n",
       "   sub-expressions: \n",
       "4. (7 , 6)\n",
       "   core type: ExprTuple\n",
       "   sub-expressions: 7, 8\n",
       "5. Decimal\n",
       "   core type: Literal\n",
       "   sub-expressions: \n",
       "6. (1 , 3)\n",
       "   core type: ExprTuple\n",
       "   sub-expressions: 9, 10\n",
       "7. 7\n",
       "   core type: Literal\n",
       "   sub-expressions: \n",
       "8. 6\n",
       "   core type: Literal\n",
       "   sub-expressions: \n",
       "9. 1\n",
       "   core type: Literal\n",
       "   sub-expressions: \n",
       "10. 3\n",
       "    core type: Literal\n",
       "    sub-expressions: "
      ]
     },
     "execution_count": 4,
     "metadata": {},
     "output_type": "execute_result"
    }
   ],
   "source": [
    "# display the expression information\n",
    "expr.exprInfo()"
   ]
  },
  {
   "cell_type": "code",
   "execution_count": null,
   "metadata": {},
   "outputs": [],
   "source": []
  }
 ],
 "metadata": {
  "kernelspec": {
   "display_name": "Python 3",
   "language": "python",
   "name": "python3"
  }
 },
 "nbformat": 4,
 "nbformat_minor": 0
}
