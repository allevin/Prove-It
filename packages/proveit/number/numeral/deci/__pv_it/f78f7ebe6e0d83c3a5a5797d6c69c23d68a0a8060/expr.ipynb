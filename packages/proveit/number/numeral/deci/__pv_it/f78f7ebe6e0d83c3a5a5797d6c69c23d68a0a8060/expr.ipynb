{
 "cells": [
  {
   "cell_type": "markdown",
   "metadata": {},
   "source": [
    "Theorem <a class=\"ProveItLink\" href=\"../../_theorems_.ipynb#mult_0_4\">mult_0_4</a> of type <a class=\"ProveItLink\" href=\"../../../../../../../doc/html/api/proveit.logic.Equals.html\">Equals</a>\n",
    "=======================\n",
    "# from context <a class=\"ProveItLink\" href=\"../../_context_.ipynb\">proveit.number.numeral.deci</a>\n",
    "*** see <a class=\"ProveItLink\" href=\"dependencies.ipynb\">dependencies</a> ***"
   ]
  },
  {
   "cell_type": "code",
   "execution_count": 1,
   "metadata": {},
   "outputs": [],
   "source": [
    "# import the special expression\n",
    "from proveit.number.numeral.deci._theorems_ import mult_0_4"
   ]
  },
  {
   "cell_type": "code",
   "execution_count": 2,
   "metadata": {},
   "outputs": [
    {
     "name": "stdout",
     "output_type": "stream",
     "text": [
      "Passed sanity check: built 'mult_0_4' is the same as the stored Expression.\n"
     ]
    }
   ],
   "source": [
    "# check that the built expression is the same as the stored expression\n",
    "%check_expr mult_0_4"
   ]
  },
  {
   "cell_type": "code",
   "execution_count": 3,
   "metadata": {},
   "outputs": [
    {
     "data": {
      "text/html": [
       "<table><tr><th>&nbsp;</th><th>core type</th><th>sub-expressions</th><th>expression</th></tr>\n",
       "<tr><td>0</td><td>Operation</td><td>operator:&nbsp;1<br>operands:&nbsp;2<br></td><td><a class=\"ProveItLink\" href=\"expr.ipynb\"><img src=\"data:image/png;base64,iVBORw0KGgoAAAANSUhEUgAAAFcAAAAVBAMAAADBdm84AAAAMFBMVEX////c3NwiIiJERESqqqqY\n",
       "mJh2dnZmZmYQEBDu7u4yMjJUVFTMzMyIiIi6uroAAAAs73DqAAAAAXRSTlMAQObYZgAAAVpJREFU\n",
       "KM+Vk79Lw0AUx7+JaczVJGZ3MKibIi7u+QME6+LgIIeLU6E4dBAFBzdFikuzmcWhunSv0O4OBhfF\n",
       "H1AcXVTQdrJ4l7ZJer0MviEcn/vweO/dC/CvsMNxtp0l3wLV14MUMOuYbIkWOXzgrAYs4zx1q64A\n",
       "gSirbbIEWCEsF1bq9pHJm6J8DzwBRgVqHfZXjJUtJvuivAh8OHgHpkswv2Os55k84QlyF7jzUAZm\n",
       "KczfGG9wWS+NukqHySEu+3Inbjvkshb1sH/F43ooU5wlMqnwKsBl+0iSmaKXlHHhss9aJJuf0jJ6\n",
       "/QZ/GPGZRahUjhos4Bh8dNpwdFqj0TwJB2XszfGYH4xu3cEq+KPobpLEYJlzwfij7AC77LQAvzUq\n",
       "i6OD6pFT4I2dqsWbBOvNbgH5trhI5WeWz3Bkq+jLNzRHZbSYsc81CSNBhjwjYVNOhqxIfqsXufoH\n",
       "SadYdhVVksUAAAAASUVORK5CYII=\n",
       "\" style=\"display:inline;vertical-align:middle;\" /></a></td></tr>\n",
       "<tr><td>1</td><td>Literal</td><td></td><td><a class=\"ProveItLink\" href=\"../../../../../logic/equality/__pv_it/2fb26078095930560931daa0500ce419a39ea6cd0/expr.ipynb\"><img src=\"data:image/png;base64,iVBORw0KGgoAAAANSUhEUgAAAA4AAAAFBAMAAACHocAhAAAAFVBMVEX///9EREQiIiJUVFQyMjJm\n",
       "ZmYAAADubVkoAAAAAXRSTlMAQObYZgAAABRJREFUCNdjCHEBAWcGXCBICQQUAUpuAwlgGKrkAAAA\n",
       "AElFTkSuQmCC\n",
       "\" style=\"display:inline;vertical-align:middle;\" /></a></td></tr>\n",
       "<tr><td>2</td><td>ExprTuple</td><td>3, 6</td><td><a class=\"ProveItLink\" href=\"../9f78191e5ce138851195f86d3d4b0c4eb5647ff90/expr.ipynb\"><img src=\"data:image/png;base64,iVBORw0KGgoAAAANSUhEUgAAAEMAAAAVBAMAAADvM06qAAAAMFBMVEX////c3NwiIiJERESqqqqY\n",
       "mJh2dnZmZmYQEBDu7u4yMjJUVFTMzMyIiIi6uroAAAAs73DqAAAAAXRSTlMAQObYZgAAAUhJREFU\n",
       "KM+N0q9Pw0AUwPFvx1Z6ox3zCCpwEDKD3x9AQjEIBGkwqCVTU5AgcBCyYFZHDQI3P5LVI2hmIPxI\n",
       "BhIDJLApCHesa7ukWai4vrv7NO+968E/nlI4bXdHDdfQetpPrZrt0Vsc3AbMBjK6hFXOgoTkKtG7\n",
       "L1bAByvEsrH8hNxFpAf3sAVGk1yb0kcstO2ILMNbGQ9eYb6O+RkTvRiRIdxUmanSgEUX8zsmmxHR\n",
       "BpKE6HUuRmQwFiJME5e8z2lCRFPlYZKUDvlJEp3bclhnMpH5rogq90suenJPuKTLdRQ5QjWdHzed\n",
       "73S6x+G46Y2ySrSGOjrdTo7OqCCio9uFgs+enCzhBRPkr6pcVZygmn6Rk1btKhF6d+h4Kq9oPMgP\n",
       "i32MctYdeI4j+QMKbhZx4qg2ugxTiFBXYCFDWHE0p+rQpl7MR/gFoLNWn4ByMyEAAAAASUVORK5C\n",
       "YII=\n",
       "\" style=\"display:inline;vertical-align:middle;\" /></a></td></tr>\n",
       "<tr><td>3</td><td>Operation</td><td>operator:&nbsp;4<br>operands:&nbsp;5<br></td><td><a class=\"ProveItLink\" href=\"../1bf081d79581f549096751369fcd259fd3babacf0/expr.ipynb\"><img src=\"data:image/png;base64,iVBORw0KGgoAAAANSUhEUgAAACMAAAAPBAMAAACcmWsnAAAAMFBMVEX///9EREQQEBCYmJh2dnaq\n",
       "qqrc3NxUVFQyMjK6uroiIiLMzMyIiIhmZmbu7u4AAADSWfX9AAAAAXRSTlMAQObYZgAAAJBJREFU\n",
       "GNNjYHh75jYDAnAXAImVDK82IIS4BBgYeBYw8DQghA4BhbgKGDi/wUXYLIBC/BcYuL/ChVg4gEL5\n",
       "Dgzcf+BCZjChLzARvgPIQnwPQPoYkDW+XwAkosFCIOM/A3mPgGw+B7AQ0BGsMEewlpfXqx8AOZVl\n",
       "AcKpTEBVDEsZHm1AE3rrU40QYan/a8CACQAXKiRTz7fN1wAAAABJRU5ErkJggg==\n",
       "\" style=\"display:inline;vertical-align:middle;\" /></a></td></tr>\n",
       "<tr><td>4</td><td>Literal</td><td></td><td><a class=\"ProveItLink\" href=\"../../../../multiplication/__pv_it/21fd2079611555ecce512d99547a00d551e6b86b0/expr.ipynb\"><img src=\"data:image/png;base64,iVBORw0KGgoAAAANSUhEUgAAAAMAAAADBAMAAACkBqiMAAAAElBMVEX///9EREQQEBAiIiLu7u4A\n",
       "AABGBidwAAAAAXRSTlMAQObYZgAAABFJREFUCNdjYHFgcDVgcBIAAASWAQx4jI0xAAAAAElFTkSu\n",
       "QmCC\n",
       "\" style=\"display:inline;vertical-align:middle;\" /></a></td></tr>\n",
       "<tr><td>5</td><td>ExprTuple</td><td>6, 7</td><td><a class=\"ProveItLink\" href=\"../e3e0b365dbe4d424525364fd7511a3fe8e9c8ad20/expr.ipynb\"><img src=\"data:image/png;base64,iVBORw0KGgoAAAANSUhEUgAAACkAAAAVBAMAAAAp9toTAAAAMFBMVEX////c3NwiIiJERESqqqqY\n",
       "mJh2dnZmZmYQEBDu7u4yMjJUVFTMzMyIiIi6uroAAAAs73DqAAAAAXRSTlMAQObYZgAAAQNJREFU\n",
       "GNNt0aFPw0AUx/HvRtu1o+3mEUxMLxg8fwCCmQkEqUMtmZpCIHBLYJnZZA0CNz+S1WMqJyBZkCgg\n",
       "wBRk9+7aZiyruL5+cvn13TvY/YTpFlzI8gTjl6uc/CmVRL0foMUoybR8BDEEKUGDIM50obQD7pDy\n",
       "lPDDYOlc6QTeoNbD/zLqVJXundCHwwj/12hb1Olxb/RHo5eKWjG3m+ogGl7zt5lwqtV/F5W/feuA\n",
       "KNcbpDNLd2bNZvNBKgnHyCmcBkOd4aq9dsylKptMEu+zUNXZqyrH3Ue8u7o0MV+dUV3i1vOJ5oWc\n",
       "2I6y2i4G3DWT/K+ezO8g+yiuZF+iSts39AxrUmY7ftnwseAAAAAASUVORK5CYII=\n",
       "\" style=\"display:inline;vertical-align:middle;\" /></a></td></tr>\n",
       "<tr><td>6</td><td>Literal</td><td></td><td><a class=\"ProveItLink\" href=\"../../../__pv_it/ec23fc7a1b4222a5f4948b495002b97d6fa18c3c0/expr.ipynb\"><img src=\"data:image/png;base64,iVBORw0KGgoAAAANSUhEUgAAAAoAAAAOBAMAAADkjZCYAAAALVBMVEX///8QEBCYmJh2dnaqqqrc\n",
       "3NxUVFQyMjK6uroiIiLMzMyIiIhmZmbu7u4AAAAZjyHdAAAAAXRSTlMAQObYZgAAAEpJREFUCNdj\n",
       "YLiz+xQDA8MMhpsLGLgnMHAXMHAmMHA8ZeA7wMD1hCHOgIHrNZh8jES+Bss+AqlkeQrSxTyBgWEK\n",
       "w8UFDAx3rLMYAMCjFldHSx/9AAAAAElFTkSuQmCC\n",
       "\" style=\"display:inline;vertical-align:middle;\" /></a></td></tr>\n",
       "<tr><td>7</td><td>Literal</td><td></td><td><a class=\"ProveItLink\" href=\"../../../__pv_it/23412ce59ea7e77353d2f9225e02248e73651ca00/expr.ipynb\"><img src=\"data:image/png;base64,iVBORw0KGgoAAAANSUhEUgAAAAoAAAAPBAMAAAAv0UM9AAAALVBMVEX///9mZmaqqqru7u52dnYy\n",
       "MjKYmJjc3NwQEBCIiIhEREQiIiJUVFTMzMwAAACUDTcXAAAAAXRSTlMAQObYZgAAAD5JREFUCNdj\n",
       "YGBguMMAArtABGcXiCyLApEOIJKtAERaMoBIBxDJdAFEmjCASJ0zZ16cBCkF64KQPu/EwBwGACv6\n",
       "DSRgin9qAAAAAElFTkSuQmCC\n",
       "\" style=\"display:inline;vertical-align:middle;\" /></a></td></tr>\n",
       "</table>\n"
      ],
      "text/plain": [
       "0. (0 * 4) = 0\n",
       "   core type: Operation\n",
       "   operator: 1\n",
       "   operands: 2\n",
       "1. =\n",
       "   core type: Literal\n",
       "   sub-expressions: \n",
       "2. (0 * 4 , 0)\n",
       "   core type: ExprTuple\n",
       "   sub-expressions: 3, 6\n",
       "3. 0 * 4\n",
       "   core type: Operation\n",
       "   operator: 4\n",
       "   operands: 5\n",
       "4. *\n",
       "   core type: Literal\n",
       "   sub-expressions: \n",
       "5. (0 , 4)\n",
       "   core type: ExprTuple\n",
       "   sub-expressions: 6, 7\n",
       "6. 0\n",
       "   core type: Literal\n",
       "   sub-expressions: \n",
       "7. 4\n",
       "   core type: Literal\n",
       "   sub-expressions: "
      ]
     },
     "execution_count": 3,
     "metadata": {},
     "output_type": "execute_result"
    }
   ],
   "source": [
    "# display the expression information\n",
    "mult_0_4.exprInfo()"
   ]
  },
  {
   "cell_type": "code",
   "execution_count": null,
   "metadata": {},
   "outputs": [],
   "source": []
  }
 ],
 "metadata": {
  "kernelspec": {
   "display_name": "Python 3",
   "language": "python",
   "name": "python3"
  }
 },
 "nbformat": 4,
 "nbformat_minor": 0
}
