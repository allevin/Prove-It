{
 "cells": [
  {
   "cell_type": "markdown",
   "metadata": {},
   "source": [
    "Theorem <a class=\"ProveItLink\" href=\"../../_theorems_.ipynb#mult_0_8\">mult_0_8</a> of type <a class=\"ProveItLink\" href=\"../../../../../../../doc/html/api/proveit.logic.Equals.html\">Equals</a>\n",
    "=======================\n",
    "# from context <a class=\"ProveItLink\" href=\"../../_context_.ipynb\">proveit.number.numeral.deci</a>\n",
    "*** see <a class=\"ProveItLink\" href=\"dependencies.ipynb\">dependencies</a> ***"
   ]
  },
  {
   "cell_type": "code",
   "execution_count": 1,
   "metadata": {},
   "outputs": [],
   "source": [
    "# import the special expression\n",
    "from proveit.number.numeral.deci._theorems_ import mult_0_8"
   ]
  },
  {
   "cell_type": "code",
   "execution_count": 2,
   "metadata": {},
   "outputs": [
    {
     "name": "stdout",
     "output_type": "stream",
     "text": [
      "Passed sanity check: built 'mult_0_8' is the same as the stored Expression.\n"
     ]
    }
   ],
   "source": [
    "# check that the built expression is the same as the stored expression\n",
    "%check_expr mult_0_8"
   ]
  },
  {
   "cell_type": "code",
   "execution_count": 3,
   "metadata": {},
   "outputs": [
    {
     "data": {
      "text/html": [
       "<table><tr><th>&nbsp;</th><th>core type</th><th>sub-expressions</th><th>expression</th></tr>\n",
       "<tr><td>0</td><td>Operation</td><td>operator:&nbsp;1<br>operands:&nbsp;2<br></td><td><a class=\"ProveItLink\" href=\"expr.ipynb\"><img src=\"data:image/png;base64,iVBORw0KGgoAAAANSUhEUgAAAFcAAAAVBAMAAADBdm84AAAAMFBMVEX////c3NwiIiJERESqqqqY\n",
       "mJh2dnZmZmYQEBDu7u4yMjJUVFTMzMyIiIi6uroAAAAs73DqAAAAAXRSTlMAQObYZgAAAWxJREFU\n",
       "KM+VkztIw1AUhr8+0jb2YXYHi7op4uLeycGlXdRJCQ52kEIRrCAVFVwEkdDFbHZxqA66ieDg7mBw\n",
       "EXxAcXTxgdbJ1pu2STG9HTzD4ea/X07OK/AvS1jd2kIv+BoOnoruo7qUTRG+8lLqxp2tVWCcknsb\n",
       "hlUoe2F/VR2DuEU8Sdy9nYESzHrhW7iHiIH/jMS7oy43YdMLj8Krxgv054l9Omr6ghwEUh74G25S\n",
       "FGBQJ/bjqIHGvA6h/F/WVxOwxVELrrn65ocGwWYN68e2nTiwzn4HVg3hlOKpSCmxJYmsU++kcZgU\n",
       "bg6lYRB7k6ZRbxX4JRRzQrhd8XKmC24WmGEHu3VBp3Wq+H7YaqexMmTbcLt1aY1J7KGEkk6IbYhq\n",
       "KOXuoSxCVpxGMN1xTxtMdbcOf0rdg2dxOshddpbwfE0MpK/qXaTCg4gX0WSraMo3VNFlaq7HPlck\n",
       "mlruAQ9ItKjWA/ZJfqtHOfoLzM9eaECtzywAAAAASUVORK5CYII=\n",
       "\" style=\"display:inline;vertical-align:middle;\" /></a></td></tr>\n",
       "<tr><td>1</td><td>Literal</td><td></td><td><a class=\"ProveItLink\" href=\"../../../../../logic/equality/__pv_it/2fb26078095930560931daa0500ce419a39ea6cd0/expr.ipynb\"><img src=\"data:image/png;base64,iVBORw0KGgoAAAANSUhEUgAAAA4AAAAFBAMAAACHocAhAAAAFVBMVEX///9EREQiIiJUVFQyMjJm\n",
       "ZmYAAADubVkoAAAAAXRSTlMAQObYZgAAABRJREFUCNdjCHEBAWcGXCBICQQUAUpuAwlgGKrkAAAA\n",
       "AElFTkSuQmCC\n",
       "\" style=\"display:inline;vertical-align:middle;\" /></a></td></tr>\n",
       "<tr><td>2</td><td>ExprTuple</td><td>3, 6</td><td><a class=\"ProveItLink\" href=\"../aac8bdb1fc60a8d52c8569e09a523a71295dd0de0/expr.ipynb\"><img src=\"data:image/png;base64,iVBORw0KGgoAAAANSUhEUgAAAEMAAAAVBAMAAADvM06qAAAAMFBMVEX////c3NwiIiJERESqqqqY\n",
       "mJh2dnZmZmYQEBDu7u4yMjJUVFTMzMyIiIi6uroAAAAs73DqAAAAAXRSTlMAQObYZgAAAV1JREFU\n",
       "KM+NkitMw1AUhr+92MrWUY9gAgchGHwVArMZQEEaBBNkyQzDjDASDAkhzczqqEGgwBESxDyCBkPC\n",
       "IxlIDI+MoWDcS9fbiWWh4uS/t9/N+c8D/vFlvWF/V2W4gsZjVd1p60Wzp7ZvmySbQp3ADPVmgCRh\n",
       "01fRljYNLugeeg7dDZBFqPvqBu5gCVI20TOy7wGyoZApeDVw4AXGymTaAZK/oOSrL7g2iZlUYMIi\n",
       "8x0gse6K9SciHYF4jJQ59pGOKmnnwwgRi7jLYYhotgiJ6mm7H8nW+AkTHeVEWCbRtfsSZd4kIu1+\n",
       "iktnVoR98aSg7BYksocsOh4UrdVE97yg6LwhE80hWzeSC9zuQtrQeq1bE95ciuIwiaMGsGAz77uK\n",
       "mtoBsuhncWiULsPBn2+ZODKvVrkXD0dbpIxBO/CklBhAwhqEFJQq+cswBNHkCowPIHSl0tJHZOhi\n",
       "PsAv0ghckc6T1eAAAAAASUVORK5CYII=\n",
       "\" style=\"display:inline;vertical-align:middle;\" /></a></td></tr>\n",
       "<tr><td>3</td><td>Operation</td><td>operator:&nbsp;4<br>operands:&nbsp;5<br></td><td><a class=\"ProveItLink\" href=\"../2d5ae4399bd91d7b5a40d9208e95539cf32d467d0/expr.ipynb\"><img src=\"data:image/png;base64,iVBORw0KGgoAAAANSUhEUgAAACMAAAAOBAMAAABXxbiCAAAAMFBMVEX///9EREQQEBCYmJh2dnaq\n",
       "qqrc3NxUVFQyMjK6uroiIiLMzMyIiIhmZmbu7u4AAADSWfX9AAAAAXRSTlMAQObYZgAAAKhJREFU\n",
       "GNNjYHh75jYDDPC5+AYAqZUMrzbAhHgZGC4zMPAsYOBpgAkZMzC8YmDgKmDg/AYTcgcL8V9g4P4K\n",
       "E4qvY/BhYMh3YOD+AxNi/G/jABH6Arfy/q8EhBDfAyDBfLv/K0Lj+wVAwpaB+f8DsPGfgbxHAkBC\n",
       "D6jEAOQIVpgj+BSArj0AcirLApjpagwM7EDzlzI8gnso4gFDCJB661MNdwNn7d0ABgBB1i88kus9\n",
       "CAAAAABJRU5ErkJggg==\n",
       "\" style=\"display:inline;vertical-align:middle;\" /></a></td></tr>\n",
       "<tr><td>4</td><td>Literal</td><td></td><td><a class=\"ProveItLink\" href=\"../../../../multiplication/__pv_it/21fd2079611555ecce512d99547a00d551e6b86b0/expr.ipynb\"><img src=\"data:image/png;base64,iVBORw0KGgoAAAANSUhEUgAAAAMAAAADBAMAAACkBqiMAAAAElBMVEX///9EREQQEBAiIiLu7u4A\n",
       "AABGBidwAAAAAXRSTlMAQObYZgAAABFJREFUCNdjYHFgcDVgcBIAAASWAQx4jI0xAAAAAElFTkSu\n",
       "QmCC\n",
       "\" style=\"display:inline;vertical-align:middle;\" /></a></td></tr>\n",
       "<tr><td>5</td><td>ExprTuple</td><td>6, 7</td><td><a class=\"ProveItLink\" href=\"../e109d4cd5b18464664c12898b7dcf1e4e575a3cf0/expr.ipynb\"><img src=\"data:image/png;base64,iVBORw0KGgoAAAANSUhEUgAAACkAAAAVBAMAAAAp9toTAAAAMFBMVEX////c3NwiIiJERESqqqqY\n",
       "mJh2dnZmZmYQEBDu7u4yMjJUVFTMzMyIiIi6uroAAAAs73DqAAAAAXRSTlMAQObYZgAAARRJREFU\n",
       "GNNtkaFPw0AUxn+w3bZjbalHMIHG4asQGDCAglQxQZrMAGYJI8FgoJnZZA0CBY6QIOox/QMgWSZR\n",
       "sAAOxr3rtoyFE5fv/XJ5973vwf/Hy2bAvlxP0Hlp5kAf1APKqVE3sEo7tbQMR5CAm+HWcBNLt6EN\n",
       "O1CJmb/De7f00NIuvMJiA+fD0s0HIigEHMNyiPNtaWG4F0KpwXVOv3ITpwMfigmX01Q1b00rr8XP\n",
       "dIdd1DDGeRMqv31aemGebAk9R5wVrTPdMoNk0mENmaJUIzb4DKo+KqFuihW6qR4YsRGzbp31TdGJ\n",
       "HtFXxpN3fxLAQo+KP050LGRiFY60mgQc5Un+pVryWxoVk5VUpdXc7Iae4RdEykFwHwUuEgAAAABJ\n",
       "RU5ErkJggg==\n",
       "\" style=\"display:inline;vertical-align:middle;\" /></a></td></tr>\n",
       "<tr><td>6</td><td>Literal</td><td></td><td><a class=\"ProveItLink\" href=\"../../../__pv_it/ec23fc7a1b4222a5f4948b495002b97d6fa18c3c0/expr.ipynb\"><img src=\"data:image/png;base64,iVBORw0KGgoAAAANSUhEUgAAAAoAAAAOBAMAAADkjZCYAAAALVBMVEX///8QEBCYmJh2dnaqqqrc\n",
       "3NxUVFQyMjK6uroiIiLMzMyIiIhmZmbu7u4AAAAZjyHdAAAAAXRSTlMAQObYZgAAAEpJREFUCNdj\n",
       "YLiz+xQDA8MMhpsLGLgnMHAXMHAmMHA8ZeA7wMD1hCHOgIHrNZh8jES+Bss+AqlkeQrSxTyBgWEK\n",
       "w8UFDAx3rLMYAMCjFldHSx/9AAAAAElFTkSuQmCC\n",
       "\" style=\"display:inline;vertical-align:middle;\" /></a></td></tr>\n",
       "<tr><td>7</td><td>Literal</td><td></td><td><a class=\"ProveItLink\" href=\"../../../__pv_it/7ca36d8558dd5f18c1e16b5e877a0b7e314926450/expr.ipynb\"><img src=\"data:image/png;base64,iVBORw0KGgoAAAANSUhEUgAAAAoAAAAOBAMAAADkjZCYAAAAMFBMVEX///+6uroQEBAyMjLMzMzc\n",
       "3NxERESIiIhUVFQiIiKYmJiqqqpmZmZ2dnbu7u4AAAACo3QQAAAAAXRSTlMAQObYZgAAAFlJREFU\n",
       "CNdjYHh79zQDA8MBBp4FDFwLGPgmMPA2gEjuHw94CxgY8n/VAmV5/k8Fkmuc/29g4DrAsP4fA9MD\n",
       "BtZfDI+AgscZmAIYGFoZuO0YuC8wMEicOc0AAC98GKTiu3IvAAAAAElFTkSuQmCC\n",
       "\" style=\"display:inline;vertical-align:middle;\" /></a></td></tr>\n",
       "</table>\n"
      ],
      "text/plain": [
       "0. (0 * 8) = 0\n",
       "   core type: Operation\n",
       "   operator: 1\n",
       "   operands: 2\n",
       "1. =\n",
       "   core type: Literal\n",
       "   sub-expressions: \n",
       "2. (0 * 8 , 0)\n",
       "   core type: ExprTuple\n",
       "   sub-expressions: 3, 6\n",
       "3. 0 * 8\n",
       "   core type: Operation\n",
       "   operator: 4\n",
       "   operands: 5\n",
       "4. *\n",
       "   core type: Literal\n",
       "   sub-expressions: \n",
       "5. (0 , 8)\n",
       "   core type: ExprTuple\n",
       "   sub-expressions: 6, 7\n",
       "6. 0\n",
       "   core type: Literal\n",
       "   sub-expressions: \n",
       "7. 8\n",
       "   core type: Literal\n",
       "   sub-expressions: "
      ]
     },
     "execution_count": 3,
     "metadata": {},
     "output_type": "execute_result"
    }
   ],
   "source": [
    "# display the expression information\n",
    "mult_0_8.exprInfo()"
   ]
  },
  {
   "cell_type": "code",
   "execution_count": null,
   "metadata": {},
   "outputs": [],
   "source": []
  }
 ],
 "metadata": {
  "kernelspec": {
   "display_name": "Python 3",
   "language": "python",
   "name": "python3"
  }
 },
 "nbformat": 4,
 "nbformat_minor": 0
}
