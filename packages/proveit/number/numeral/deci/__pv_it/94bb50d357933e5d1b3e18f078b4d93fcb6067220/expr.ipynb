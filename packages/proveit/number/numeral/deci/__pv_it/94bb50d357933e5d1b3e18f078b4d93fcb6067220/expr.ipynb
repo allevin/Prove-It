{
 "cells": [
  {
   "cell_type": "markdown",
   "metadata": {},
   "source": [
    "Expression of type <a class=\"ProveItLink\" href=\"../../../../../../../doc/html/api/proveit.ExprTuple.html\">ExprTuple</a>\n",
    "=======================\n",
    "# from context <a class=\"ProveItLink\" href=\"../../_context_.ipynb\">proveit.number.numeral.deci</a>"
   ]
  },
  {
   "cell_type": "code",
   "execution_count": 1,
   "metadata": {},
   "outputs": [],
   "source": [
    "# import Expression classes needed to build the expression\n",
    "from proveit import ExprTuple\n",
    "from proveit.number import Add, four, two"
   ]
  },
  {
   "cell_type": "code",
   "execution_count": 2,
   "metadata": {},
   "outputs": [
    {
     "data": {
      "text/html": [
       "<strong id=\"expr\">expr:</strong> <a class=\"ProveItLink\" href=\"expr.ipynb\"><img src=\"data:image/png;base64,iVBORw0KGgoAAAANSUhEUgAAAE0AAAAVBAMAAADx+n4ZAAAAMFBMVEX////c3NwiIiJERESqqqqY\n",
       "mJh2dnZmZmYQEBDu7u4yMjJUVFTMzMyIiIi6uroAAAAs73DqAAAAAXRSTlMAQObYZgAAAUVJREFU\n",
       "KM+Nkq9Pw0AUx78d/XXtWIZCYFAEOYMl+wNYAgaBWKqYIplCTCEwhASKQzYhCIqZnxgOgaByCSQs\n",
       "SBKSBUNmKO/u1uOuyTJO9Po+75Pru9cH/HfVsoVKmz+egNXedimjkWof3gPtd7D6eGsamk4qDSAB\n",
       "ljOEMSoTCa/kphGMyNsH/Bj+GcIfCVty04h1QN418AEEU3impxE3IG+piWNZxNTwNLLHPbeLWxE9\n",
       "R2VvRljGPTvBhQhvUPZmxAX3aicQZXiNsleQHeFVJ9J7EayXpptpeo8/AhYV3ilFdhcr5nkFsQeD\n",
       "4XnGv7tF0SNdy/QEiWUv6TwnQYdauXHYWTc8QdiX8qgv79SqPM9NTxB2WecXHn7vIhjDr+sD0DIm\n",
       "TqXovzmRnvrUA0e9HYm5mreUx2iusDbXU4Me8gKsxXP/CvwCNvlS+JpVC1UAAAAASUVORK5CYII=\n",
       "\" style=\"display:inline;vertical-align:middle;\" /></a><br>"
      ],
      "text/plain": [
       "expr: (2 + 2 , 4)"
      ]
     },
     "execution_count": 2,
     "metadata": {},
     "output_type": "execute_result"
    }
   ],
   "source": [
    "# build up the expression from sub-expressions\n",
    "expr = ExprTuple(Add(two, two), four)"
   ]
  },
  {
   "cell_type": "code",
   "execution_count": 3,
   "metadata": {},
   "outputs": [
    {
     "name": "stdout",
     "output_type": "stream",
     "text": [
      "Passed sanity check: built 'expr' is the same as the stored Expression.\n"
     ]
    }
   ],
   "source": [
    "# check that the built expression is the same as the stored expression\n",
    "%check_expr"
   ]
  },
  {
   "cell_type": "code",
   "execution_count": 4,
   "metadata": {},
   "outputs": [
    {
     "data": {
      "text/html": [
       "<table><tr><th>&nbsp;</th><th>core type</th><th>sub-expressions</th><th>expression</th></tr>\n",
       "<tr><td>0</td><td>ExprTuple</td><td>1, 2</td><td><a class=\"ProveItLink\" href=\"expr.ipynb\"><img src=\"data:image/png;base64,iVBORw0KGgoAAAANSUhEUgAAAE0AAAAVBAMAAADx+n4ZAAAAMFBMVEX////c3NwiIiJERESqqqqY\n",
       "mJh2dnZmZmYQEBDu7u4yMjJUVFTMzMyIiIi6uroAAAAs73DqAAAAAXRSTlMAQObYZgAAAUVJREFU\n",
       "KM+Nkq9Pw0AUx78d/XXtWIZCYFAEOYMl+wNYAgaBWKqYIplCTCEwhASKQzYhCIqZnxgOgaByCSQs\n",
       "SBKSBUNmKO/u1uOuyTJO9Po+75Pru9cH/HfVsoVKmz+egNXedimjkWof3gPtd7D6eGsamk4qDSAB\n",
       "ljOEMSoTCa/kphGMyNsH/Bj+GcIfCVty04h1QN418AEEU3impxE3IG+piWNZxNTwNLLHPbeLWxE9\n",
       "R2VvRljGPTvBhQhvUPZmxAX3aicQZXiNsleQHeFVJ9J7EayXpptpeo8/AhYV3ilFdhcr5nkFsQeD\n",
       "4XnGv7tF0SNdy/QEiWUv6TwnQYdauXHYWTc8QdiX8qgv79SqPM9NTxB2WecXHn7vIhjDr+sD0DIm\n",
       "TqXovzmRnvrUA0e9HYm5mreUx2iusDbXU4Me8gKsxXP/CvwCNvlS+JpVC1UAAAAASUVORK5CYII=\n",
       "\" style=\"display:inline;vertical-align:middle;\" /></a></td></tr>\n",
       "<tr><td>1</td><td>Operation</td><td>operator:&nbsp;3<br>operands:&nbsp;4<br></td><td><a class=\"ProveItLink\" href=\"../149ae7762b0c148d95fc0fdace779253bea2042c0/expr.ipynb\"><img src=\"data:image/png;base64,iVBORw0KGgoAAAANSUhEUgAAACwAAAAQBAMAAACfEoDkAAAAMFBMVEX///+YmJh2dnbMzMwQEBAi\n",
       "IiLu7u6qqqqIiIhUVFS6urpEREQyMjJmZmbc3NwAAACOMKdoAAAAAXRSTlMAQObYZgAAALVJREFU\n",
       "GNNj4Lt7egEDCnh7ZxcDw0sGju8oonwTGPoLGKYxMMRD+GwPwBRnAgPrBwaXBIb5EFPYG8AUixsD\n",
       "5y+G8wkM91GEeb4x8P4CMeITkIWBgPUbkGD+xIAmbK8A0rUBXfg0iLjNgCbMC1LHMQHMPHPmqM+Z\n",
       "M2B2J4ioZeB7gKKa/QLDOwbmCwyMqMK2DAxyDE+VlK6imM0XpKQbwBD///9XFGHW////ByCFEcKB\n",
       "KIALSRgAyl004gJzXPgAAAAASUVORK5CYII=\n",
       "\" style=\"display:inline;vertical-align:middle;\" /></a></td></tr>\n",
       "<tr><td>2</td><td>Literal</td><td></td><td><a class=\"ProveItLink\" href=\"../../../__pv_it/23412ce59ea7e77353d2f9225e02248e73651ca00/expr.ipynb\"><img src=\"data:image/png;base64,iVBORw0KGgoAAAANSUhEUgAAAAoAAAAPBAMAAAAv0UM9AAAALVBMVEX///9mZmaqqqru7u52dnYy\n",
       "MjKYmJjc3NwQEBCIiIhEREQiIiJUVFTMzMwAAACUDTcXAAAAAXRSTlMAQObYZgAAAD5JREFUCNdj\n",
       "YGBguMMAArtABGcXiCyLApEOIJKtAERaMoBIBxDJdAFEmjCASJ0zZ16cBCkF64KQPu/EwBwGACv6\n",
       "DSRgin9qAAAAAElFTkSuQmCC\n",
       "\" style=\"display:inline;vertical-align:middle;\" /></a></td></tr>\n",
       "<tr><td>3</td><td>Literal</td><td></td><td><a class=\"ProveItLink\" href=\"../../../../addition/__pv_it/3e6688136fa3c7aefbebe51301b7c3ebf0b69c440/expr.ipynb\"><img src=\"data:image/png;base64,iVBORw0KGgoAAAANSUhEUgAAAA4AAAAOBAMAAADtZjDiAAAAJFBMVEX///+6urpUVFQQEBAiIiIy\n",
       "MjJmZmaIiIiqqqrc3Nzu7u4AAACgHpL+AAAAAXRSTlMAQObYZgAAAB5JREFUCNdjYGBgWMkAAe2k\n",
       "0Kmhoc6hoUGk6BMHYgAHOwjcado9fwAAAABJRU5ErkJggg==\n",
       "\" style=\"display:inline;vertical-align:middle;\" /></a></td></tr>\n",
       "<tr><td>4</td><td>ExprTuple</td><td>5, 5</td><td><a class=\"ProveItLink\" href=\"../149c396ca93376d4598a50ad360b234f72321ed30/expr.ipynb\"><img src=\"data:image/png;base64,iVBORw0KGgoAAAANSUhEUgAAACkAAAAVBAMAAAAp9toTAAAAMFBMVEX////c3NwiIiJERESqqqqY\n",
       "mJh2dnZmZmYQEBDu7u4yMjJUVFTMzMyIiIi6uroAAAAs73DqAAAAAXRSTlMAQObYZgAAAQ9JREFU\n",
       "GNNtkStMA0EQhr8rPe7FkSsGganCtgZL6tAYJKm6KpILJJBgQCDAwErkJQ0CRS0KHAJBfUm4IFEN\n",
       "ISQ1LPtgKy6s2P3n28nknxn4/yyPa2BXX8+werxpgXc0rAgelbrFG/HWM3SN9AtKSMckgsbU0Hvo\n",
       "wA6EgvCC5MfQc8FDxTV8QDwjsPROcFKx0OPQhI2Zc9ARLBbcGP3S/4NL39AsuTTB0KXGXdXBKaZg\n",
       "0HX0QOdPLZ04mI4sPVNPs6Bl6RZepitsKP0E2widVeBn+CUD1f16PmhHn4qu5Pk+2tm7MiulbEdX\n",
       "mTIrpfqMK8LMTdQJ3bHv/PvzAe+ZSdZoVJqZ2jNfSaJLefUNvcIvFKA+uKO+SOEAAAAASUVORK5C\n",
       "YII=\n",
       "\" style=\"display:inline;vertical-align:middle;\" /></a></td></tr>\n",
       "<tr><td>5</td><td>Literal</td><td></td><td><a class=\"ProveItLink\" href=\"../../../__pv_it/77d407a64829263cdc16415becd4c2293f77a4bf0/expr.ipynb\"><img src=\"data:image/png;base64,iVBORw0KGgoAAAANSUhEUgAAAAkAAAAOBAMAAAAPuiubAAAAMFBMVEX///+YmJh2dnbMzMwQEBAi\n",
       "IiLu7u6qqqqIiIhUVFS6urpEREQyMjJmZmbc3NwAAACOMKdoAAAAAXRSTlMAQObYZgAAAFBJREFU\n",
       "CNdj4Lt7egEDw0sGju8MDNMYGOIZGFwSGOYvYDifwHAfKAEUSQASzJ9ATJ4NIPI2iOCYACJrGfge\n",
       "MDBfYGB8wPBUSekqUPH//18ZAIliFhc3zESNAAAAAElFTkSuQmCC\n",
       "\" style=\"display:inline;vertical-align:middle;\" /></a></td></tr>\n",
       "</table>\n"
      ],
      "text/plain": [
       "0. (2 + 2 , 4)\n",
       "   core type: ExprTuple\n",
       "   sub-expressions: 1, 2\n",
       "1. 2 + 2\n",
       "   core type: Operation\n",
       "   operator: 3\n",
       "   operands: 4\n",
       "2. 4\n",
       "   core type: Literal\n",
       "   sub-expressions: \n",
       "3. +\n",
       "   core type: Literal\n",
       "   sub-expressions: \n",
       "4. (2 , 2)\n",
       "   core type: ExprTuple\n",
       "   sub-expressions: 5, 5\n",
       "5. 2\n",
       "   core type: Literal\n",
       "   sub-expressions: "
      ]
     },
     "execution_count": 4,
     "metadata": {},
     "output_type": "execute_result"
    }
   ],
   "source": [
    "# display the expression information\n",
    "expr.exprInfo()"
   ]
  },
  {
   "cell_type": "code",
   "execution_count": null,
   "metadata": {},
   "outputs": [],
   "source": []
  }
 ],
 "metadata": {
  "kernelspec": {
   "display_name": "Python 3",
   "language": "python",
   "name": "python3"
  }
 },
 "nbformat": 4,
 "nbformat_minor": 0
}
