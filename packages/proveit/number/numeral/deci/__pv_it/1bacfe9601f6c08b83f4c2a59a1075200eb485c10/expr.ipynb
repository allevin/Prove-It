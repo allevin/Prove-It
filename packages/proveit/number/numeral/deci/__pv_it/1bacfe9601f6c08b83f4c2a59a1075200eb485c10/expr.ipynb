{
 "cells": [
  {
   "cell_type": "markdown",
   "metadata": {},
   "source": [
    "Expression of type <a class=\"ProveItLink\" href=\"../../../../../../../doc/html/api/proveit.ExprTuple.html\">ExprTuple</a>\n",
    "=======================\n",
    "# from context <a class=\"ProveItLink\" href=\"../../_context_.ipynb\">proveit.number.numeral.deci</a>"
   ]
  },
  {
   "cell_type": "code",
   "execution_count": 1,
   "metadata": {},
   "outputs": [],
   "source": [
    "# import Expression classes needed to build the expression\n",
    "from proveit import ExprTuple\n",
    "from proveit.number import DecimalSequence, Mult, eight, four, six"
   ]
  },
  {
   "cell_type": "code",
   "execution_count": 2,
   "metadata": {},
   "outputs": [
    {
     "data": {
      "text/html": [
       "<strong id=\"expr\">expr:</strong> <a class=\"ProveItLink\" href=\"expr.ipynb\"><img src=\"data:image/png;base64,iVBORw0KGgoAAAANSUhEUgAAAE0AAAAVBAMAAADx+n4ZAAAAMFBMVEX////c3NwiIiJERESqqqqY\n",
       "mJh2dnZmZmYQEBDu7u4yMjJUVFTMzMyIiIi6uroAAAAs73DqAAAAAXRSTlMAQObYZgAAAZ5JREFU\n",
       "KM+Nkj0sZFEUx39j5s3M9RW9AsV2W7xI1KZSbCSeAokEr5oprOwUPgo2S7JbiEReFDKdaSRoDI2I\n",
       "gppIprIkCpSrQYgg8Zz7njtMVjJucXM+fvec/7k58NlTX6yIDOrrABbTo2/BxfHvxqwtoNKZFIk9\n",
       "cVYhS8IxuchXNo1dZZOAMchDXRHLQTWXci5rxj626YEF6IWkR7zwjhvySgoi/TbDAZeDfxB78uKl\n",
       "YVbelMarbbq2GYFoinEJtN8dlZKPh39Tr2a3cFF/wJUXWZYlkPBbDKZuHL68mkXh+HXTIB3zzEuk\n",
       "b9/XNZRIUz78CCXGEc6aWr+VP57mGawsQw+SWGrW9WSUsHGn5vqwfI/aK83JyJE7SeRsrU+4YCjl\n",
       "am4WmhzN/Q6m5qcR2GrqxXZ2dudOpkV9Ufdtk3qidMNwXVqfCu2kzQzUNGDlycjLVWKu4aKu+hMo\n",
       "DblvHh3Bv1yIfznxbg8mJ8/IXQcD79479VsToqL6LGj6/zkvd2UCy/2Ic8rdkXCvKnFK9orGD7C6\n",
       "crdGa4tU3vtTeAHXaGN83px8fAAAAABJRU5ErkJggg==\n",
       "\" style=\"display:inline;vertical-align:middle;\" /></a><br>"
      ],
      "text/plain": [
       "expr: (8 * 6 , 48)"
      ]
     },
     "execution_count": 2,
     "metadata": {},
     "output_type": "execute_result"
    }
   ],
   "source": [
    "# build up the expression from sub-expressions\n",
    "expr = ExprTuple(Mult(eight, six), DecimalSequence(four, eight))"
   ]
  },
  {
   "cell_type": "code",
   "execution_count": 3,
   "metadata": {},
   "outputs": [
    {
     "name": "stdout",
     "output_type": "stream",
     "text": [
      "Passed sanity check: built 'expr' is the same as the stored Expression.\n"
     ]
    }
   ],
   "source": [
    "# check that the built expression is the same as the stored expression\n",
    "%check_expr"
   ]
  },
  {
   "cell_type": "code",
   "execution_count": 4,
   "metadata": {},
   "outputs": [
    {
     "data": {
      "text/html": [
       "<table><tr><th>&nbsp;</th><th>core type</th><th>sub-expressions</th><th>expression</th></tr>\n",
       "<tr><td>0</td><td>ExprTuple</td><td>1, 2</td><td><a class=\"ProveItLink\" href=\"expr.ipynb\"><img src=\"data:image/png;base64,iVBORw0KGgoAAAANSUhEUgAAAE0AAAAVBAMAAADx+n4ZAAAAMFBMVEX////c3NwiIiJERESqqqqY\n",
       "mJh2dnZmZmYQEBDu7u4yMjJUVFTMzMyIiIi6uroAAAAs73DqAAAAAXRSTlMAQObYZgAAAZ5JREFU\n",
       "KM+Nkj0sZFEUx39j5s3M9RW9AsV2W7xI1KZSbCSeAokEr5oprOwUPgo2S7JbiEReFDKdaSRoDI2I\n",
       "gppIprIkCpSrQYgg8Zz7njtMVjJucXM+fvec/7k58NlTX6yIDOrrABbTo2/BxfHvxqwtoNKZFIk9\n",
       "cVYhS8IxuchXNo1dZZOAMchDXRHLQTWXci5rxj626YEF6IWkR7zwjhvySgoi/TbDAZeDfxB78uKl\n",
       "YVbelMarbbq2GYFoinEJtN8dlZKPh39Tr2a3cFF/wJUXWZYlkPBbDKZuHL68mkXh+HXTIB3zzEuk\n",
       "b9/XNZRIUz78CCXGEc6aWr+VP57mGawsQw+SWGrW9WSUsHGn5vqwfI/aK83JyJE7SeRsrU+4YCjl\n",
       "am4WmhzN/Q6m5qcR2GrqxXZ2dudOpkV9Ufdtk3qidMNwXVqfCu2kzQzUNGDlycjLVWKu4aKu+hMo\n",
       "DblvHh3Bv1yIfznxbg8mJ8/IXQcD79479VsToqL6LGj6/zkvd2UCy/2Ic8rdkXCvKnFK9orGD7C6\n",
       "crdGa4tU3vtTeAHXaGN83px8fAAAAABJRU5ErkJggg==\n",
       "\" style=\"display:inline;vertical-align:middle;\" /></a></td></tr>\n",
       "<tr><td>1</td><td>Operation</td><td>operator:&nbsp;3<br>operands:&nbsp;4<br></td><td><a class=\"ProveItLink\" href=\"../d24cb069a8b214fb3004c0f3f113e9705ad1142f0/expr.ipynb\"><img src=\"data:image/png;base64,iVBORw0KGgoAAAANSUhEUgAAACMAAAAOBAMAAABXxbiCAAAAMFBMVEX///+6uroQEBAyMjLMzMzc\n",
       "3NxERESIiIhUVFQiIiKYmJiqqqpmZmZ2dnbu7u4AAAACo3QQAAAAAXRSTlMAQObYZgAAAK1JREFU\n",
       "GNNjYHh79zQDHLw9ewVIHmDgWQATYZ3C0MnAwLWAgW8CTIjzAoMxAwNvA5LQ+gcgkvvHA94CmJAR\n",
       "hMr/VQs3/bN7zQYgxfN/KkyE7+cChllAeo3zf5AMH9AYvv8MDPcfMHAdYFj/Dyj0fgJIFdCGDQxM\n",
       "DxhYfwGFHiWAzAIKFTA8ArKOwwzLhKgKYGBohQntB5vFbcfAfQEmxHaBTwtISZxB8vaJEwIMAJDe\n",
       "Na/7++3bAAAAAElFTkSuQmCC\n",
       "\" style=\"display:inline;vertical-align:middle;\" /></a></td></tr>\n",
       "<tr><td>2</td><td>Operation</td><td>operator:&nbsp;5<br>operands:&nbsp;6<br></td><td><a class=\"ProveItLink\" href=\"../7b5f395454bb0283d49520509101f35e2ababf560/expr.ipynb\"><img src=\"data:image/png;base64,iVBORw0KGgoAAAANSUhEUgAAABQAAAAPBAMAAAAWtvJmAAAAMFBMVEX///+6urpmZmaqqqru7u52\n",
       "dnYyMjKYmJjc3NwQEBCIiIhEREQiIiJUVFTMzMwAAACQ7J58AAAAAXRSTlMAQObYZgAAAIxJREFU\n",
       "CNdjYGBgeMvA4BqqzAACpxkYFBiYCoAsrtkM7AUMLAeAzPZsBtYLEGZANgPzXwfWBQwM7A3ZDAz7\n",
       "vy8FCnoxAJlM/0+A5EHMomf/DRiYHwCZ7AoM9V8YXBmATE4HBo7vDLZ37/685QlUqAWybTYDZwMD\n",
       "ww0IkzmFgTkAyIr9r84gqwRxDhQAACZiIXMdBf/fAAAAAElFTkSuQmCC\n",
       "\" style=\"display:inline;vertical-align:middle;\" /></a></td></tr>\n",
       "<tr><td>3</td><td>Literal</td><td></td><td><a class=\"ProveItLink\" href=\"../../../../multiplication/__pv_it/21fd2079611555ecce512d99547a00d551e6b86b0/expr.ipynb\"><img src=\"data:image/png;base64,iVBORw0KGgoAAAANSUhEUgAAAAMAAAADBAMAAACkBqiMAAAAElBMVEX///9EREQQEBAiIiLu7u4A\n",
       "AABGBidwAAAAAXRSTlMAQObYZgAAABFJREFUCNdjYHFgcDVgcBIAAASWAQx4jI0xAAAAAElFTkSu\n",
       "QmCC\n",
       "\" style=\"display:inline;vertical-align:middle;\" /></a></td></tr>\n",
       "<tr><td>4</td><td>ExprTuple</td><td>9, 7</td><td><a class=\"ProveItLink\" href=\"../cff04063378475c6e7a0ee774926d9c0f0d6c1800/expr.ipynb\"><img src=\"data:image/png;base64,iVBORw0KGgoAAAANSUhEUgAAACkAAAAVBAMAAAAp9toTAAAAMFBMVEX////c3NwiIiJERESqqqqY\n",
       "mJh2dnZmZmYQEBDu7u4yMjJUVFTMzMyIiIi6uroAAAAs73DqAAAAAXRSTlMAQObYZgAAARZJREFU\n",
       "GNNtkS9Pw2AQh5+ytaX8WfAzIHAoEjT9BlSBY1VgRqhYhlhIEGChakHWkDAU8AnQEJKqYRALEgwh\n",
       "mQASyr33dktYqLjePbn7/S73wv9fLZ8A2yY8QHenVZJuu4l/J0kPEvxIobPCLWQwn+NGBItKp2Ku\n",
       "YBOmU7zrEW2kJp7DK1S/U89aXmqshLTltz7sW7Ovx6cQvIQLKfxiSWHwEbEssxmnUm3dF6HSAvZT\n",
       "akf8gJvQ+LS9Yhgy926orOEMra7Q3NBj3YRDpavaKwpr0rsAN5hVN1TXzdgVzx7V2GhSiYMT3exF\n",
       "ireDFsGZTNDpDGBmoOP2oqPE+LhxmbvjA+/ZS/6lgVySelmMn2TWSDmTL/QMvy9oQwa9IUhuAAAA\n",
       "AElFTkSuQmCC\n",
       "\" style=\"display:inline;vertical-align:middle;\" /></a></td></tr>\n",
       "<tr><td>5</td><td>Literal</td><td></td><td><a class=\"ProveItLink\" href=\"../b28e6317a1d330492d51cd67ccba81d4d210b8b30/expr.ipynb\"><img src=\"data:image/png;base64,iVBORw0KGgoAAAANSUhEUgAAAE8AAAAOBAMAAACcHlx8AAAAMFBMVEX///8iIiIQEBCYmJjc3Ny6\n",
       "urru7u5mZmZ2dnaqqqrMzMxEREQyMjJUVFSIiIgAAABUCcz6AAAAAXRSTlMAQObYZgAAAWhJREFU\n",
       "KM99kL9Lw3AQxV/bNE1s0rh1VNTBqWR2sAXdEwRns9XJtFsRwSxVx/oXNLgqNKugtLsgHQVtDWLt\n",
       "IEahVrT+vIsK1qEH+QS+PN67ewDuPlutExd/JtnA8EgTJv/eAPllSOj/EyLLGHsmbFoYNRuMVJ9Q\n",
       "80cKM2HQA8FojtIJA6bmsWMTQqmbg7gTuKslxG8Xg7N4cEiadnkGMfb6Ts062M0JBeyZyrizAkk9\n",
       "hV1GFVjKUaLKXrjnai5NoY+EK2aQnKsUsRzxYPskFHpIeIiGF9QZU1Cn56+hUoZIq1u2iapFx9JD\n",
       "xEctrPmVvlgPWuF3X/kJrCoCs/xgu7gKa/wgRD1obG8wlCZ7IY34o2hwvnUsco18+pEV7uFrOqAb\n",
       "pkNeYh9qY8Gu4EJ2e9JPjQcUm2ogn1MLkNyqoNNlVIniO4oupyUM1oB8/b11vs47bAfkWQpukAwQ\n",
       "n4TkQW67Qruz30F3C18Fz3drZAxLCAAAAABJRU5ErkJggg==\n",
       "\" style=\"display:inline;vertical-align:middle;\" /></a></td></tr>\n",
       "<tr><td>6</td><td>ExprTuple</td><td>8, 9</td><td><a class=\"ProveItLink\" href=\"../e11d4a07c440e3569a260fe86eb53bf49b3ab76d0/expr.ipynb\"><img src=\"data:image/png;base64,iVBORw0KGgoAAAANSUhEUgAAACkAAAAVBAMAAAAp9toTAAAAMFBMVEX////c3NwiIiJERESqqqqY\n",
       "mJh2dnZmZmYQEBDu7u4yMjJUVFTMzMyIiIi6uroAAAAs73DqAAAAAXRSTlMAQObYZgAAAQxJREFU\n",
       "GNNtkbFKA0EQhj+Ja3LGhGusLCx8BvurLLTQRq0MV5lCAjaJTcCINjZ6WIiNcCAWVpYiIZDeJg9g\n",
       "ESytJFhYeZnZ2z0kuMXs/N8uw/wz8P+pj2ZAQ8NbESA4bEaUh5I9qVzLaRnakEJNC9TOc7oLN7AH\n",
       "lUTU8kNOjyy9g09VsaPbr7SgFNERYUJHS9lBDAvHPIq4x1FOJyHMp1xpAU9N9/lbHPT4lbehp/uY\n",
       "LGHpS+ktnl7C6o7SC9jq938G1lpPjIy0wrr9JC607zOohpiUpqPBRK7NhA3b2Yf1lLWDa+mp/nIS\n",
       "weKYSugn6hN1bGKXm2LALT/JvzSQSbLiRLGSqpaam93QO0wB7zM8XUn+rSEAAAAASUVORK5CYII=\n",
       "\" style=\"display:inline;vertical-align:middle;\" /></a></td></tr>\n",
       "<tr><td>7</td><td>Literal</td><td></td><td><a class=\"ProveItLink\" href=\"../../../__pv_it/09b499e53e24cf89c2513ba78b501f0314edaa680/expr.ipynb\"><img src=\"data:image/png;base64,iVBORw0KGgoAAAANSUhEUgAAAAoAAAAOBAMAAADkjZCYAAAAMFBMVEX///+6urpERESqqqqIiIgQ\n",
       "EBCYmJgyMjJUVFQiIiLc3NzMzMxmZmZ2dnbu7u4AAABf+mkYAAAAAXRSTlMAQObYZgAAAFNJREFU\n",
       "CNdjYOC7c3cDA8PKDRwTGBjmMrAXMLD9YwAC9gAQyV/tcpiB4f00Bs4EhvcfGHj/MbyfwMD2mYEf\n",
       "qOwLAxOYzQwWZ9BleJrAwMDT08gAANMyF0ZGTeKAAAAAAElFTkSuQmCC\n",
       "\" style=\"display:inline;vertical-align:middle;\" /></a></td></tr>\n",
       "<tr><td>8</td><td>Literal</td><td></td><td><a class=\"ProveItLink\" href=\"../../../__pv_it/23412ce59ea7e77353d2f9225e02248e73651ca00/expr.ipynb\"><img src=\"data:image/png;base64,iVBORw0KGgoAAAANSUhEUgAAAAoAAAAPBAMAAAAv0UM9AAAALVBMVEX///9mZmaqqqru7u52dnYy\n",
       "MjKYmJjc3NwQEBCIiIhEREQiIiJUVFTMzMwAAACUDTcXAAAAAXRSTlMAQObYZgAAAD5JREFUCNdj\n",
       "YGBguMMAArtABGcXiCyLApEOIJKtAERaMoBIBxDJdAFEmjCASJ0zZ16cBCkF64KQPu/EwBwGACv6\n",
       "DSRgin9qAAAAAElFTkSuQmCC\n",
       "\" style=\"display:inline;vertical-align:middle;\" /></a></td></tr>\n",
       "<tr><td>9</td><td>Literal</td><td></td><td><a class=\"ProveItLink\" href=\"../../../__pv_it/7ca36d8558dd5f18c1e16b5e877a0b7e314926450/expr.ipynb\"><img src=\"data:image/png;base64,iVBORw0KGgoAAAANSUhEUgAAAAoAAAAOBAMAAADkjZCYAAAAMFBMVEX///+6uroQEBAyMjLMzMzc\n",
       "3NxERESIiIhUVFQiIiKYmJiqqqpmZmZ2dnbu7u4AAAACo3QQAAAAAXRSTlMAQObYZgAAAFlJREFU\n",
       "CNdjYHh79zQDA8MBBp4FDFwLGPgmMPA2gEjuHw94CxgY8n/VAmV5/k8Fkmuc/29g4DrAsP4fA9MD\n",
       "BtZfDI+AgscZmAIYGFoZuO0YuC8wMEicOc0AAC98GKTiu3IvAAAAAElFTkSuQmCC\n",
       "\" style=\"display:inline;vertical-align:middle;\" /></a></td></tr>\n",
       "</table>\n"
      ],
      "text/plain": [
       "0. (8 * 6 , 48)\n",
       "   core type: ExprTuple\n",
       "   sub-expressions: 1, 2\n",
       "1. 8 * 6\n",
       "   core type: Operation\n",
       "   operator: 3\n",
       "   operands: 4\n",
       "2. 48\n",
       "   core type: Operation\n",
       "   operator: 5\n",
       "   operands: 6\n",
       "3. *\n",
       "   core type: Literal\n",
       "   sub-expressions: \n",
       "4. (8 , 6)\n",
       "   core type: ExprTuple\n",
       "   sub-expressions: 9, 7\n",
       "5. Decimal\n",
       "   core type: Literal\n",
       "   sub-expressions: \n",
       "6. (4 , 8)\n",
       "   core type: ExprTuple\n",
       "   sub-expressions: 8, 9\n",
       "7. 6\n",
       "   core type: Literal\n",
       "   sub-expressions: \n",
       "8. 4\n",
       "   core type: Literal\n",
       "   sub-expressions: \n",
       "9. 8\n",
       "   core type: Literal\n",
       "   sub-expressions: "
      ]
     },
     "execution_count": 4,
     "metadata": {},
     "output_type": "execute_result"
    }
   ],
   "source": [
    "# display the expression information\n",
    "expr.exprInfo()"
   ]
  },
  {
   "cell_type": "code",
   "execution_count": null,
   "metadata": {},
   "outputs": [],
   "source": []
  }
 ],
 "metadata": {
  "kernelspec": {
   "display_name": "Python 3",
   "language": "python",
   "name": "python3"
  }
 },
 "nbformat": 4,
 "nbformat_minor": 0
}
