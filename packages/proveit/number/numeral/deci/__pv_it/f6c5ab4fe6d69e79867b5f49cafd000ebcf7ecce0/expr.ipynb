{
 "cells": [
  {
   "cell_type": "markdown",
   "metadata": {},
   "source": [
    "Expression of type <a class=\"ProveItLink\" href=\"../../../../../../../doc/html/api/proveit.ExprTuple.html\">ExprTuple</a>\n",
    "=======================\n",
    "# from context <a class=\"ProveItLink\" href=\"../../_context_.ipynb\">proveit.number.numeral.deci</a>"
   ]
  },
  {
   "cell_type": "code",
   "execution_count": 1,
   "metadata": {},
   "outputs": [],
   "source": [
    "# import Expression classes needed to build the expression\n",
    "from proveit import ExprTuple\n",
    "from proveit.number import Add, three, zero"
   ]
  },
  {
   "cell_type": "code",
   "execution_count": 2,
   "metadata": {},
   "outputs": [
    {
     "data": {
      "text/html": [
       "<strong id=\"expr\">expr:</strong> <a class=\"ProveItLink\" href=\"expr.ipynb\"><img src=\"data:image/png;base64,iVBORw0KGgoAAAANSUhEUgAAAE0AAAAVBAMAAADx+n4ZAAAAMFBMVEX////c3NwiIiJERESqqqqY\n",
       "mJh2dnZmZmYQEBDu7u4yMjJUVFTMzMyIiIi6uroAAAAs73DqAAAAAXRSTlMAQObYZgAAAW1JREFU\n",
       "KM+Nkr9LAmEYxz/+zKu7062hIIeGplpq7rYmyakxhMAgkJwSpKGhOa1Ft26ooWvxD2hwamlxCRoK\n",
       "pDEIM1QwsHrfO+/wJLFnuPf73PM5nvf53gP/Db0xFdmVjweovByPVe6z645Qs3sGM3WhbmCVi7oP\n",
       "C+RpOW3m0QdggtZAS6KZDnDuHNEO8aStDg0+YQdiZYI19LYDpJwj7HHbNleFN4jnUTs+TkTLHU/2\n",
       "DRkcwVIGdTDO3bpitibukefa4Xp+Tj2ouZPLD8ImZ39y8NQcCk0Q+gnfE/rG+q4qlVE/JCfn6IoX\n",
       "RctasSzZJ1An1LWhRdhMS+4U6UvY78tlf8gpP2XJib4bSJ+jSR8XNwm2KQv1BWsJIib7IlmmWvdx\n",
       "WppWRhEG84jes315FUkld4d/jq3CFUopIRwpFA3hYZNYYnQBUr6N80riv0Uyo6X30STiqZyzVxPC\n",
       "4xS5TQsTOW/R5+QFAtP3/hl+AUkwXuyShgFIAAAAAElFTkSuQmCC\n",
       "\" style=\"display:inline;vertical-align:middle;\" /></a><br>"
      ],
      "text/plain": [
       "expr: (0 + 3 , 3)"
      ]
     },
     "execution_count": 2,
     "metadata": {},
     "output_type": "execute_result"
    }
   ],
   "source": [
    "# build up the expression from sub-expressions\n",
    "expr = ExprTuple(Add(zero, three), three)"
   ]
  },
  {
   "cell_type": "code",
   "execution_count": 3,
   "metadata": {},
   "outputs": [
    {
     "name": "stdout",
     "output_type": "stream",
     "text": [
      "Passed sanity check: built 'expr' is the same as the stored Expression.\n"
     ]
    }
   ],
   "source": [
    "# check that the built expression is the same as the stored expression\n",
    "%check_expr"
   ]
  },
  {
   "cell_type": "code",
   "execution_count": 4,
   "metadata": {},
   "outputs": [
    {
     "data": {
      "text/html": [
       "<table><tr><th>&nbsp;</th><th>core type</th><th>sub-expressions</th><th>expression</th></tr>\n",
       "<tr><td>0</td><td>ExprTuple</td><td>1, 5</td><td><a class=\"ProveItLink\" href=\"expr.ipynb\"><img src=\"data:image/png;base64,iVBORw0KGgoAAAANSUhEUgAAAE0AAAAVBAMAAADx+n4ZAAAAMFBMVEX////c3NwiIiJERESqqqqY\n",
       "mJh2dnZmZmYQEBDu7u4yMjJUVFTMzMyIiIi6uroAAAAs73DqAAAAAXRSTlMAQObYZgAAAW1JREFU\n",
       "KM+Nkr9LAmEYxz/+zKu7062hIIeGplpq7rYmyakxhMAgkJwSpKGhOa1Ft26ooWvxD2hwamlxCRoK\n",
       "pDEIM1QwsHrfO+/wJLFnuPf73PM5nvf53gP/Db0xFdmVjweovByPVe6z645Qs3sGM3WhbmCVi7oP\n",
       "C+RpOW3m0QdggtZAS6KZDnDuHNEO8aStDg0+YQdiZYI19LYDpJwj7HHbNleFN4jnUTs+TkTLHU/2\n",
       "DRkcwVIGdTDO3bpitibukefa4Xp+Tj2ouZPLD8ImZ39y8NQcCk0Q+gnfE/rG+q4qlVE/JCfn6IoX\n",
       "RctasSzZJ1An1LWhRdhMS+4U6UvY78tlf8gpP2XJib4bSJ+jSR8XNwm2KQv1BWsJIib7IlmmWvdx\n",
       "WppWRhEG84jes315FUkld4d/jq3CFUopIRwpFA3hYZNYYnQBUr6N80riv0Uyo6X30STiqZyzVxPC\n",
       "4xS5TQsTOW/R5+QFAtP3/hl+AUkwXuyShgFIAAAAAElFTkSuQmCC\n",
       "\" style=\"display:inline;vertical-align:middle;\" /></a></td></tr>\n",
       "<tr><td>1</td><td>Operation</td><td>operator:&nbsp;2<br>operands:&nbsp;3<br></td><td><a class=\"ProveItLink\" href=\"../c0a9df57ece566e6103fd30583dafe9cc1a7518f0/expr.ipynb\"><img src=\"data:image/png;base64,iVBORw0KGgoAAAANSUhEUgAAAC0AAAAQBAMAAABw0OvaAAAAMFBMVEX///9EREQQEBCYmJh2dnaq\n",
       "qqrc3NxUVFQyMjK6uroiIiLMzMyIiIhmZmbu7u4AAADSWfX9AAAAAXRSTlMAQObYZgAAAK9JREFU\n",
       "GNNjYHh75jYDCuB2cQwAUisZXm1AEc9l4PzDwMCzgIGnASLwDEL5BzD8YmDgKmDg/AYRiIFQ8WBx\n",
       "/gsM3F9RxBnA5uQ7MHD/QRPnKICIf0EV39LOgFWcgUcTuzkM+g/A9n4GMm90dCzq6ACZkM3AIG8A\n",
       "cicrijv5/j8AiQP9xbIAxZwfDAzrExgYljI82oAifpiBE+SQtz7VDCjirHdvBKAEWAwDdjAHiQ0A\n",
       "Kao0q0HS7SoAAAAASUVORK5CYII=\n",
       "\" style=\"display:inline;vertical-align:middle;\" /></a></td></tr>\n",
       "<tr><td>2</td><td>Literal</td><td></td><td><a class=\"ProveItLink\" href=\"../../../../addition/__pv_it/3e6688136fa3c7aefbebe51301b7c3ebf0b69c440/expr.ipynb\"><img src=\"data:image/png;base64,iVBORw0KGgoAAAANSUhEUgAAAA4AAAAOBAMAAADtZjDiAAAAJFBMVEX///+6urpUVFQQEBAiIiIy\n",
       "MjJmZmaIiIiqqqrc3Nzu7u4AAACgHpL+AAAAAXRSTlMAQObYZgAAAB5JREFUCNdjYGBgWMkAAe2k\n",
       "0Kmhoc6hoUGk6BMHYgAHOwjcado9fwAAAABJRU5ErkJggg==\n",
       "\" style=\"display:inline;vertical-align:middle;\" /></a></td></tr>\n",
       "<tr><td>3</td><td>ExprTuple</td><td>4, 5</td><td><a class=\"ProveItLink\" href=\"../c61ef9628d8cd5a9bfbc091e87bbdf058ad967270/expr.ipynb\"><img src=\"data:image/png;base64,iVBORw0KGgoAAAANSUhEUgAAACkAAAAVBAMAAAAp9toTAAAAMFBMVEX////c3NwiIiJERESqqqqY\n",
       "mJh2dnZmZmYQEBDu7u4yMjJUVFTMzMyIiIi6uroAAAAs73DqAAAAAXRSTlMAQObYZgAAAQ1JREFU\n",
       "GNNtkSFPw1AUhT9gHStrH3UISJhAg5qm/wAUkiwhGWphChKCQKBZg9lkzcSC2Q9AVGEwMzhIFiQK\n",
       "CEyQDLj3tV3ShSdu7vnEeefeC/8/M5oDh1oeoPt8kQKveRSynEg3gG1uEkvXMFOIwR/h1/BjS09C\n",
       "PuAAKhGLQ8y7pXuW9uAVVtt4n/nf4rAUcgqbDbxpRleGUG7TT+kkhfe3Ukox1wWKL9pc8lN0oBPh\n",
       "vSnV374s2oDdfaVXaLKSTeb+RkrFoY5OUa4RCf6GnQAn5ljEFr3Elfg8YiY22YuIbusOtxNIprPz\n",
       "UDKPqQT5VHmjEzuNrHdmC26lmyxSV/e3nonZSapqtTB/oSf4A/EUQQgYGvjyAAAAAElFTkSuQmCC\n",
       "\" style=\"display:inline;vertical-align:middle;\" /></a></td></tr>\n",
       "<tr><td>4</td><td>Literal</td><td></td><td><a class=\"ProveItLink\" href=\"../../../__pv_it/ec23fc7a1b4222a5f4948b495002b97d6fa18c3c0/expr.ipynb\"><img src=\"data:image/png;base64,iVBORw0KGgoAAAANSUhEUgAAAAoAAAAOBAMAAADkjZCYAAAALVBMVEX///8QEBCYmJh2dnaqqqrc\n",
       "3NxUVFQyMjK6uroiIiLMzMyIiIhmZmbu7u4AAAAZjyHdAAAAAXRSTlMAQObYZgAAAEpJREFUCNdj\n",
       "YLiz+xQDA8MMhpsLGLgnMHAXMHAmMHA8ZeA7wMD1hCHOgIHrNZh8jES+Bss+AqlkeQrSxTyBgWEK\n",
       "w8UFDAx3rLMYAMCjFldHSx/9AAAAAElFTkSuQmCC\n",
       "\" style=\"display:inline;vertical-align:middle;\" /></a></td></tr>\n",
       "<tr><td>5</td><td>Literal</td><td></td><td><a class=\"ProveItLink\" href=\"../../../__pv_it/9176d93c83afa2c995b614976e3cb49207102fa70/expr.ipynb\"><img src=\"data:image/png;base64,iVBORw0KGgoAAAANSUhEUgAAAAoAAAAOBAMAAADkjZCYAAAAMFBMVEX///+YmJju7u4QEBBUVFQy\n",
       "MjIiIiKIiIi6urpmZmbc3NyqqqpERER2dnbMzMwAAAB0GlNiAAAAAXRSTlMAQObYZgAAAE1JREFU\n",
       "CNdjYHh79zQDA9cEhv4CBt7fDPwJDNxgEgiAIkAQAsR8Vx1ATIbiBhDJ/ImB6wEDz0cG/U8gkj+A\n",
       "ge0XA7sAQ/8FBoadM6MZAEflFACalZ/OAAAAAElFTkSuQmCC\n",
       "\" style=\"display:inline;vertical-align:middle;\" /></a></td></tr>\n",
       "</table>\n"
      ],
      "text/plain": [
       "0. (0 + 3 , 3)\n",
       "   core type: ExprTuple\n",
       "   sub-expressions: 1, 5\n",
       "1. 0 + 3\n",
       "   core type: Operation\n",
       "   operator: 2\n",
       "   operands: 3\n",
       "2. +\n",
       "   core type: Literal\n",
       "   sub-expressions: \n",
       "3. (0 , 3)\n",
       "   core type: ExprTuple\n",
       "   sub-expressions: 4, 5\n",
       "4. 0\n",
       "   core type: Literal\n",
       "   sub-expressions: \n",
       "5. 3\n",
       "   core type: Literal\n",
       "   sub-expressions: "
      ]
     },
     "execution_count": 4,
     "metadata": {},
     "output_type": "execute_result"
    }
   ],
   "source": [
    "# display the expression information\n",
    "expr.exprInfo()"
   ]
  },
  {
   "cell_type": "code",
   "execution_count": null,
   "metadata": {},
   "outputs": [],
   "source": []
  }
 ],
 "metadata": {
  "kernelspec": {
   "display_name": "Python 3",
   "language": "python",
   "name": "python3"
  }
 },
 "nbformat": 4,
 "nbformat_minor": 0
}
