{
 "cells": [
  {
   "cell_type": "markdown",
   "metadata": {},
   "source": [
    "Theorem <a class=\"ProveItLink\" href=\"../../_theorems_.ipynb#add_3_0\">add_3_0</a> of type <a class=\"ProveItLink\" href=\"../../../../../../../doc/html/api/proveit.logic.Equals.html\">Equals</a>\n",
    "=======================\n",
    "# from context <a class=\"ProveItLink\" href=\"../../_context_.ipynb\">proveit.number.numeral.deci</a>\n",
    "*** see <a class=\"ProveItLink\" href=\"dependencies.ipynb\">dependencies</a> ***"
   ]
  },
  {
   "cell_type": "code",
   "execution_count": 1,
   "metadata": {},
   "outputs": [],
   "source": [
    "# import the special expression\n",
    "from proveit.number.numeral.deci._theorems_ import add_3_0"
   ]
  },
  {
   "cell_type": "code",
   "execution_count": 2,
   "metadata": {},
   "outputs": [
    {
     "name": "stdout",
     "output_type": "stream",
     "text": [
      "Passed sanity check: built 'add_3_0' is the same as the stored Expression.\n"
     ]
    }
   ],
   "source": [
    "# check that the built expression is the same as the stored expression\n",
    "%check_expr add_3_0"
   ]
  },
  {
   "cell_type": "code",
   "execution_count": 3,
   "metadata": {},
   "outputs": [
    {
     "data": {
      "text/html": [
       "<table><tr><th>&nbsp;</th><th>core type</th><th>sub-expressions</th><th>expression</th></tr>\n",
       "<tr><td>0</td><td>Operation</td><td>operator:&nbsp;1<br>operands:&nbsp;2<br></td><td><a class=\"ProveItLink\" href=\"expr.ipynb\"><img src=\"data:image/png;base64,iVBORw0KGgoAAAANSUhEUgAAAGEAAAAVBAMAAACkm51HAAAAMFBMVEX////c3NwiIiJERESqqqqY\n",
       "mJh2dnZmZmYQEBDu7u4yMjJUVFTMzMyIiIi6uroAAAAs73DqAAAAAXRSTlMAQObYZgAAAXhJREFU\n",
       "OMuVk79Lw0AUx7/pD5PUNs3moIM4CQo66Gy2TqWZHKUoVBDETi0UBAdH0bp1s4MOTZf+CZm6OFgE\n",
       "UdShOApSFX9QwR8vl4hJLjd4y7337n3u3o97wP+X1hMcrIiIU6BbWgja1O1LG7Iddk2X1gzaWpDK\n",
       "GAQfivXVWaAZJsagfQKZHkZekJ10bYfudg5cA8thYsvAM6DUkfgj8u42Awx0NMJEgRH3TP6NyiPe\n",
       "gTMDcYMvE0VVYVIbfkJ6I4KiLXNEqgOcODXY6PBEEQmWumyxxTy6zs37zOeqH0FoO9wbGXL/YpIy\n",
       "jIgq/ch376DuEJKN+CtpNcuatqy2l7nJExPAkold4GjoEoHqFnQvKnmKrXn6Cd91h1gEsk3EngIE\n",
       "dXAVSIab/gHM6VindEwMigEiZqh74Kt7AY0yvCMpVz0OVBdq5Ya+YaofIhLVGjVV0f22vF9pRH/2\n",
       "ZNGvPfiVTcF8tESDozYFB+MiYlQXHEiiqb2NNv8Akghlgo87lwIAAAAASUVORK5CYII=\n",
       "\" style=\"display:inline;vertical-align:middle;\" /></a></td></tr>\n",
       "<tr><td>1</td><td>Literal</td><td></td><td><a class=\"ProveItLink\" href=\"../../../../../logic/equality/__pv_it/2fb26078095930560931daa0500ce419a39ea6cd0/expr.ipynb\"><img src=\"data:image/png;base64,iVBORw0KGgoAAAANSUhEUgAAAA4AAAAFBAMAAACHocAhAAAAFVBMVEX///9EREQiIiJUVFQyMjJm\n",
       "ZmYAAADubVkoAAAAAXRSTlMAQObYZgAAABRJREFUCNdjCHEBAWcGXCBICQQUAUpuAwlgGKrkAAAA\n",
       "AElFTkSuQmCC\n",
       "\" style=\"display:inline;vertical-align:middle;\" /></a></td></tr>\n",
       "<tr><td>2</td><td>ExprTuple</td><td>3, 6</td><td><a class=\"ProveItLink\" href=\"../959d6986fbb98630af288e70921c51dbea2e90b10/expr.ipynb\"><img src=\"data:image/png;base64,iVBORw0KGgoAAAANSUhEUgAAAE0AAAAVBAMAAADx+n4ZAAAAMFBMVEX////c3NwiIiJERESqqqqY\n",
       "mJh2dnZmZmYQEBDu7u4yMjJUVFTMzMyIiIi6uroAAAAs73DqAAAAAXRSTlMAQObYZgAAAW9JREFU\n",
       "KM+Nkr9LQlEYhh/zR1rXq1tDQQ4NTbXUnFuT5NQYQmAQSE4J0tDQnLcW3bpDDV0X/4AGJ5cWl6Ch\n",
       "QBqDMEMFA6tzztWb1xA7wz3vd77nnO+e93zw36HXpyJ78nMPtfTGWKb4fGILLb0fZ7Yq1C2eLM2x\n",
       "Q9e4rCqxgN4HE8J1Am0iMTt/YU/hGGFTqaM4H7ALQQPfL5ewp5kKekupHcWV4FWFw7oDLpJFaw/v\n",
       "Kep64xyroIyLW06h9QdLcxUIZLmRlzqs/OW6tqzJI3wm5yp6bEziCAtCP+VLBcHexLoUDLR3yXmq\n",
       "eDtiIW9Zq5ZVHtyjo6Al2EpK7gyuejbn8sWnfAl9G5ITdTfFbpOZlosTPgdiGEJ9wnoUv8mBWE3S\n",
       "TLk4VihVQ8JgHtC7ypcXEWznrt2+UMzcESpEhSO5fFx42CAYHX3/hKvjnJR4N39qNPU2GvgdlVF9\n",
       "NWk4XEj2zuJEzunJefkDnul9/wQ/WPBe7Lb4/A4AAAAASUVORK5CYII=\n",
       "\" style=\"display:inline;vertical-align:middle;\" /></a></td></tr>\n",
       "<tr><td>3</td><td>Operation</td><td>operator:&nbsp;4<br>operands:&nbsp;5<br></td><td><a class=\"ProveItLink\" href=\"../aad7654b6695a79ae2d629b5a2a0fe5e218b3f5d0/expr.ipynb\"><img src=\"data:image/png;base64,iVBORw0KGgoAAAANSUhEUgAAAC0AAAAQBAMAAABw0OvaAAAAMFBMVEX///+YmJju7u4QEBBUVFQy\n",
       "MjIiIiKIiIi6urpmZmbc3NyqqqpERER2dnbMzMwAAAB0GlNiAAAAAXRSTlMAQObYZgAAAK5JREFU\n",
       "GNNjYHh79zQDCmCaXvmAgYFrAkN/AYo4WwNTHgMD728G/gSIgBaEKmNgKGVg4EaIb4dQKQwM/QtA\n",
       "DJg5UPGfDAzvN4AYIQzI4lx/geJAlXxXHTDFL4BYxQ3YxZk/YTGH6wEDz0cgd2poaHJoaAjUXgEG\n",
       "/U8QcRR37l/AwB/AwPYLRRzor2sMDOwCDP0XUMTZNjDZAamdM6NR3MnANLfkAUqAbWfADtqR2ADl\n",
       "DTl0KE25ygAAAABJRU5ErkJggg==\n",
       "\" style=\"display:inline;vertical-align:middle;\" /></a></td></tr>\n",
       "<tr><td>4</td><td>Literal</td><td></td><td><a class=\"ProveItLink\" href=\"../../../../addition/__pv_it/3e6688136fa3c7aefbebe51301b7c3ebf0b69c440/expr.ipynb\"><img src=\"data:image/png;base64,iVBORw0KGgoAAAANSUhEUgAAAA4AAAAOBAMAAADtZjDiAAAAJFBMVEX///+6urpUVFQQEBAiIiIy\n",
       "MjJmZmaIiIiqqqrc3Nzu7u4AAACgHpL+AAAAAXRSTlMAQObYZgAAAB5JREFUCNdjYGBgWMkAAe2k\n",
       "0Kmhoc6hoUGk6BMHYgAHOwjcado9fwAAAABJRU5ErkJggg==\n",
       "\" style=\"display:inline;vertical-align:middle;\" /></a></td></tr>\n",
       "<tr><td>5</td><td>ExprTuple</td><td>6, 7</td><td><a class=\"ProveItLink\" href=\"../d6466423550d531bd9c4f74cdb48a9fa17d62dd20/expr.ipynb\"><img src=\"data:image/png;base64,iVBORw0KGgoAAAANSUhEUgAAACkAAAAVBAMAAAAp9toTAAAAMFBMVEX////c3NwiIiJERESqqqqY\n",
       "mJh2dnZmZmYQEBDu7u4yMjJUVFTMzMyIiIi6uroAAAAs73DqAAAAAXRSTlMAQObYZgAAAQpJREFU\n",
       "GNNtkStPA0EUhb9tu3QHSrseUw8S/LpKqpBkg4CEpElVUSQVlQQqcawA0WD4CatqKmgwEEBskJil\n",
       "hEdqCHdmHzQbRtzc8yVz5t4z8P+pTwtgV5cJjPc3E6CO70OqoXQjrC5xcqEUqQ0IYHXK0geNpqF3\n",
       "8Ag74Ayp5HQdYpdzeDUydfiGW4+yR8/Ia1OtL6Hi2OVKVO3w5o/6VAJOjX6IFmi9z4+hznzBofam\n",
       "qRVS/sxfa2s6gIt5RmWybVc7bEEjoDRjmGyxB3bAgazXJvbVu97YUyfoyV5EtI4uUWeupNN7kmiW\n",
       "Ixw3SzRr9Ma2n/Z2HnDHJFmgSpJkLRX5l6xoK6v4Q8/wC/yWSNOeqZkeAAAAAElFTkSuQmCC\n",
       "\" style=\"display:inline;vertical-align:middle;\" /></a></td></tr>\n",
       "<tr><td>6</td><td>Literal</td><td></td><td><a class=\"ProveItLink\" href=\"../../../__pv_it/9176d93c83afa2c995b614976e3cb49207102fa70/expr.ipynb\"><img src=\"data:image/png;base64,iVBORw0KGgoAAAANSUhEUgAAAAoAAAAOBAMAAADkjZCYAAAAMFBMVEX///+YmJju7u4QEBBUVFQy\n",
       "MjIiIiKIiIi6urpmZmbc3NyqqqpERER2dnbMzMwAAAB0GlNiAAAAAXRSTlMAQObYZgAAAE1JREFU\n",
       "CNdjYHh79zQDA9cEhv4CBt7fDPwJDNxgEgiAIkAQAsR8Vx1ATIbiBhDJ/ImB6wEDz0cG/U8gkj+A\n",
       "ge0XA7sAQ/8FBoadM6MZAEflFACalZ/OAAAAAElFTkSuQmCC\n",
       "\" style=\"display:inline;vertical-align:middle;\" /></a></td></tr>\n",
       "<tr><td>7</td><td>Literal</td><td></td><td><a class=\"ProveItLink\" href=\"../../../__pv_it/ec23fc7a1b4222a5f4948b495002b97d6fa18c3c0/expr.ipynb\"><img src=\"data:image/png;base64,iVBORw0KGgoAAAANSUhEUgAAAAoAAAAOBAMAAADkjZCYAAAALVBMVEX///8QEBCYmJh2dnaqqqrc\n",
       "3NxUVFQyMjK6uroiIiLMzMyIiIhmZmbu7u4AAAAZjyHdAAAAAXRSTlMAQObYZgAAAEpJREFUCNdj\n",
       "YLiz+xQDA8MMhpsLGLgnMHAXMHAmMHA8ZeA7wMD1hCHOgIHrNZh8jES+Bss+AqlkeQrSxTyBgWEK\n",
       "w8UFDAx3rLMYAMCjFldHSx/9AAAAAElFTkSuQmCC\n",
       "\" style=\"display:inline;vertical-align:middle;\" /></a></td></tr>\n",
       "</table>\n"
      ],
      "text/plain": [
       "0. (3 + 0) = 3\n",
       "   core type: Operation\n",
       "   operator: 1\n",
       "   operands: 2\n",
       "1. =\n",
       "   core type: Literal\n",
       "   sub-expressions: \n",
       "2. (3 + 0 , 3)\n",
       "   core type: ExprTuple\n",
       "   sub-expressions: 3, 6\n",
       "3. 3 + 0\n",
       "   core type: Operation\n",
       "   operator: 4\n",
       "   operands: 5\n",
       "4. +\n",
       "   core type: Literal\n",
       "   sub-expressions: \n",
       "5. (3 , 0)\n",
       "   core type: ExprTuple\n",
       "   sub-expressions: 6, 7\n",
       "6. 3\n",
       "   core type: Literal\n",
       "   sub-expressions: \n",
       "7. 0\n",
       "   core type: Literal\n",
       "   sub-expressions: "
      ]
     },
     "execution_count": 3,
     "metadata": {},
     "output_type": "execute_result"
    }
   ],
   "source": [
    "# display the expression information\n",
    "add_3_0.exprInfo()"
   ]
  },
  {
   "cell_type": "code",
   "execution_count": null,
   "metadata": {},
   "outputs": [],
   "source": []
  }
 ],
 "metadata": {
  "kernelspec": {
   "display_name": "Python 3",
   "language": "python",
   "name": "python3"
  }
 },
 "nbformat": 4,
 "nbformat_minor": 0
}
