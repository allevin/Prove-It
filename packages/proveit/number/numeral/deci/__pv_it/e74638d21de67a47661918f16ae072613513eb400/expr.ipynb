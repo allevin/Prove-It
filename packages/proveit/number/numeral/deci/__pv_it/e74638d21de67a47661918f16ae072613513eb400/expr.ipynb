{
 "cells": [
  {
   "cell_type": "markdown",
   "metadata": {},
   "source": [
    "Theorem <a class=\"ProveItLink\" href=\"../../_theorems_.ipynb#mult_0_2\">mult_0_2</a> of type <a class=\"ProveItLink\" href=\"../../../../../../../doc/html/api/proveit.logic.Equals.html\">Equals</a>\n",
    "=======================\n",
    "# from context <a class=\"ProveItLink\" href=\"../../_context_.ipynb\">proveit.number.numeral.deci</a>\n",
    "*** see <a class=\"ProveItLink\" href=\"dependencies.ipynb\">dependencies</a> ***"
   ]
  },
  {
   "cell_type": "code",
   "execution_count": 1,
   "metadata": {},
   "outputs": [],
   "source": [
    "# import the special expression\n",
    "from proveit.number.numeral.deci._theorems_ import mult_0_2"
   ]
  },
  {
   "cell_type": "code",
   "execution_count": 2,
   "metadata": {},
   "outputs": [
    {
     "name": "stdout",
     "output_type": "stream",
     "text": [
      "Passed sanity check: built 'mult_0_2' is the same as the stored Expression.\n"
     ]
    }
   ],
   "source": [
    "# check that the built expression is the same as the stored expression\n",
    "%check_expr mult_0_2"
   ]
  },
  {
   "cell_type": "code",
   "execution_count": 3,
   "metadata": {},
   "outputs": [
    {
     "data": {
      "text/html": [
       "<table><tr><th>&nbsp;</th><th>core type</th><th>sub-expressions</th><th>expression</th></tr>\n",
       "<tr><td>0</td><td>Operation</td><td>operator:&nbsp;1<br>operands:&nbsp;2<br></td><td><a class=\"ProveItLink\" href=\"expr.ipynb\"><img src=\"data:image/png;base64,iVBORw0KGgoAAAANSUhEUgAAAFcAAAAVBAMAAADBdm84AAAAMFBMVEX////c3NwiIiJERESqqqqY\n",
       "mJh2dnZmZmYQEBDu7u4yMjJUVFTMzMyIiIi6uroAAAAs73DqAAAAAXRSTlMAQObYZgAAAWNJREFU\n",
       "KM+Vkz1Iw2AQhp/Utjba1ODawaJuiu3i3s1RJ0cJDnUqlAoVRNHBwUEkuDSbBXGoDnYVBN0dLC6C\n",
       "PxAcXfyh1snWJG0TTb8M3nR57+Hj7r0L/CsS9X5tKQi+hvLThvsprR2ZDF75KXnzztaqMMOBW02i\n",
       "NKDih0OmPA1KHSWF4lbPIQ2LfvgW7iGmE6qReO+puzqXJoYfnoJXlRcYKRBv9NQznS2TgawP/oKb\n",
       "LCUY04h//yqkdaKFv6zUtOA6xx246RXsPOzMsH5ix2kP1tj3YFl34KGMZf624GWNltfGYcoprNqv\n",
       "vwnbaHUG/LQUI2PrSk0AOwMusINtXdi1jjkktdtGcdyOia518yqz2EuJptzxCkRUIpX+pSzDipVN\n",
       "YrjrHs3livRZRygr78GzlZXzF57J7faH5YjpP6TSg/VeTBWdoiG+0IgmUvMB91wVaHIlAE4KtGE1\n",
       "AJYEv9WjGP0BDtRedUlWuhwAAAAASUVORK5CYII=\n",
       "\" style=\"display:inline;vertical-align:middle;\" /></a></td></tr>\n",
       "<tr><td>1</td><td>Literal</td><td></td><td><a class=\"ProveItLink\" href=\"../../../../../logic/equality/__pv_it/2fb26078095930560931daa0500ce419a39ea6cd0/expr.ipynb\"><img src=\"data:image/png;base64,iVBORw0KGgoAAAANSUhEUgAAAA4AAAAFBAMAAACHocAhAAAAFVBMVEX///9EREQiIiJUVFQyMjJm\n",
       "ZmYAAADubVkoAAAAAXRSTlMAQObYZgAAABRJREFUCNdjCHEBAWcGXCBICQQUAUpuAwlgGKrkAAAA\n",
       "AElFTkSuQmCC\n",
       "\" style=\"display:inline;vertical-align:middle;\" /></a></td></tr>\n",
       "<tr><td>2</td><td>ExprTuple</td><td>3, 6</td><td><a class=\"ProveItLink\" href=\"../08aba1394851628f609706206855b3247c4313b10/expr.ipynb\"><img src=\"data:image/png;base64,iVBORw0KGgoAAAANSUhEUgAAAEMAAAAVBAMAAADvM06qAAAAMFBMVEX////c3NwiIiJERESqqqqY\n",
       "mJh2dnZmZmYQEBDu7u4yMjJUVFTMzMyIiIi6uroAAAAs73DqAAAAAXRSTlMAQObYZgAAAVhJREFU\n",
       "KM+NkjtIA0EQhr/ERLMxFw9bC1PYKcbGPp2lqSwlWMQqEBRio2hhYSFy2OQ6D8TCyrSCYHoLg43g\n",
       "A6KljQ9irDTu3ub2AobgFsu/u9/wz8wO/GOlG4Nel9V2BdXHTXMX2ThuaiW2buuM1KU6hVkO6wEy\n",
       "gdXSKtoUM+CB1cDKYHkBcg5ZrW7gDpYg4RCtkX4PkD2HS+00Da82LrzAWJlUK0DOHLY18gXXOYZy\n",
       "VGCyQOq7p4qs4+fdlkiD4TInGmmHRFf7SIGYx0GICD+a5Fwvkt7hJzQ6yvhv69BjlHpTiEr3U166\n",
       "frhV6xqqdPMK2UUVHTNFs0DEDopetJXRPKp1wxmTbJm4LbqtW4G4x6o8TOGaDxgvFtd0VtGc2EcV\n",
       "/SwP1dJF2JRO5wNX+YrKvQxMNknY/WbgySj5AfFCPyRvVEkPwwBEeP6A/F2WUaMqj8jAwXyAX5JO\n",
       "XJ7iHf71AAAAAElFTkSuQmCC\n",
       "\" style=\"display:inline;vertical-align:middle;\" /></a></td></tr>\n",
       "<tr><td>3</td><td>Operation</td><td>operator:&nbsp;4<br>operands:&nbsp;5<br></td><td><a class=\"ProveItLink\" href=\"../6376a58f86f8fb6d3c8d7a6fe30087bbc530f7da0/expr.ipynb\"><img src=\"data:image/png;base64,iVBORw0KGgoAAAANSUhEUgAAACMAAAAOBAMAAABXxbiCAAAAMFBMVEX///9EREQQEBCYmJh2dnaq\n",
       "qqrc3NxUVFQyMjK6uroiIiLMzMyIiIhmZmbu7u4AAADSWfX9AAAAAXRSTlMAQObYZgAAAKRJREFU\n",
       "GNNjYHh75jYDDLDdbZwApFYyvNoAE0pn4PnKwMCzgIGnASZUx8CwnoGBq4CB8xtMSOkBQ/0EBv4L\n",
       "DNxfYUL9DxjuT2DId2Dg/sOAAOsfgIW+IERAbJgQ3wOwEIcAA1zj+wVgoYtADDL+M5B+JAAS4Slg\n",
       "ADuCFe4IhlgGtgSQU1kWwA2/wMCcwMCwlOER3ENZLi63gNRbn2qEo/7//8UAAHV9MQvoFt4KAAAA\n",
       "AElFTkSuQmCC\n",
       "\" style=\"display:inline;vertical-align:middle;\" /></a></td></tr>\n",
       "<tr><td>4</td><td>Literal</td><td></td><td><a class=\"ProveItLink\" href=\"../../../../multiplication/__pv_it/21fd2079611555ecce512d99547a00d551e6b86b0/expr.ipynb\"><img src=\"data:image/png;base64,iVBORw0KGgoAAAANSUhEUgAAAAMAAAADBAMAAACkBqiMAAAAElBMVEX///9EREQQEBAiIiLu7u4A\n",
       "AABGBidwAAAAAXRSTlMAQObYZgAAABFJREFUCNdjYHFgcDVgcBIAAASWAQx4jI0xAAAAAElFTkSu\n",
       "QmCC\n",
       "\" style=\"display:inline;vertical-align:middle;\" /></a></td></tr>\n",
       "<tr><td>5</td><td>ExprTuple</td><td>6, 7</td><td><a class=\"ProveItLink\" href=\"../3e1f3f991e299584508e856d9b02e2f366933cc40/expr.ipynb\"><img src=\"data:image/png;base64,iVBORw0KGgoAAAANSUhEUgAAACkAAAAVBAMAAAAp9toTAAAAMFBMVEX////c3NwiIiJERESqqqqY\n",
       "mJh2dnZmZmYQEBDu7u4yMjJUVFTMzMyIiIi6uroAAAAs73DqAAAAAXRSTlMAQObYZgAAAQxJREFU\n",
       "GNNtkbFKA0EQhr/TXJKL2XjYWpjC2tjY2/kGlpIqVoFDQRtBCwsrXWySckEsrEwrCF5vkwdQOCyt\n",
       "NEQ7jTu7ucAFt1j++XaY/WcG/j+N4RzYk+sZeq8nHgTHNxmV1Ko72OA6dXQVNQYDaohqooyjD9CC\n",
       "XahqFgY0Ph290Dxl9OEdlhPqY0fvNacZi9scwVqb+k/uoKUpJ9x6+j2FIkqGyyKtbdoOzvgtVjiU\n",
       "/A+h8tuXh2rg6TnirOSdsUMQS4UtpItyEy1ZCWFMaNi3wTr9NBpZsdLpHCDO3mzQ6z4SXcXW7GRi\n",
       "H2sZ1TifaC6k47A91eFswF0/ySKNjJupP7OVLEmpYH5DL/AHXJBBfaMpF1EAAAAASUVORK5CYII=\n",
       "\" style=\"display:inline;vertical-align:middle;\" /></a></td></tr>\n",
       "<tr><td>6</td><td>Literal</td><td></td><td><a class=\"ProveItLink\" href=\"../../../__pv_it/ec23fc7a1b4222a5f4948b495002b97d6fa18c3c0/expr.ipynb\"><img src=\"data:image/png;base64,iVBORw0KGgoAAAANSUhEUgAAAAoAAAAOBAMAAADkjZCYAAAALVBMVEX///8QEBCYmJh2dnaqqqrc\n",
       "3NxUVFQyMjK6uroiIiLMzMyIiIhmZmbu7u4AAAAZjyHdAAAAAXRSTlMAQObYZgAAAEpJREFUCNdj\n",
       "YLiz+xQDA8MMhpsLGLgnMHAXMHAmMHA8ZeA7wMD1hCHOgIHrNZh8jES+Bss+AqlkeQrSxTyBgWEK\n",
       "w8UFDAx3rLMYAMCjFldHSx/9AAAAAElFTkSuQmCC\n",
       "\" style=\"display:inline;vertical-align:middle;\" /></a></td></tr>\n",
       "<tr><td>7</td><td>Literal</td><td></td><td><a class=\"ProveItLink\" href=\"../../../__pv_it/77d407a64829263cdc16415becd4c2293f77a4bf0/expr.ipynb\"><img src=\"data:image/png;base64,iVBORw0KGgoAAAANSUhEUgAAAAkAAAAOBAMAAAAPuiubAAAAMFBMVEX///+YmJh2dnbMzMwQEBAi\n",
       "IiLu7u6qqqqIiIhUVFS6urpEREQyMjJmZmbc3NwAAACOMKdoAAAAAXRSTlMAQObYZgAAAFBJREFU\n",
       "CNdj4Lt7egEDw0sGju8MDNMYGOIZGFwSGOYvYDifwHAfKAEUSQASzJ9ATJ4NIPI2iOCYACJrGfge\n",
       "MDBfYGB8wPBUSekqUPH//18ZAIliFhc3zESNAAAAAElFTkSuQmCC\n",
       "\" style=\"display:inline;vertical-align:middle;\" /></a></td></tr>\n",
       "</table>\n"
      ],
      "text/plain": [
       "0. (0 * 2) = 0\n",
       "   core type: Operation\n",
       "   operator: 1\n",
       "   operands: 2\n",
       "1. =\n",
       "   core type: Literal\n",
       "   sub-expressions: \n",
       "2. (0 * 2 , 0)\n",
       "   core type: ExprTuple\n",
       "   sub-expressions: 3, 6\n",
       "3. 0 * 2\n",
       "   core type: Operation\n",
       "   operator: 4\n",
       "   operands: 5\n",
       "4. *\n",
       "   core type: Literal\n",
       "   sub-expressions: \n",
       "5. (0 , 2)\n",
       "   core type: ExprTuple\n",
       "   sub-expressions: 6, 7\n",
       "6. 0\n",
       "   core type: Literal\n",
       "   sub-expressions: \n",
       "7. 2\n",
       "   core type: Literal\n",
       "   sub-expressions: "
      ]
     },
     "execution_count": 3,
     "metadata": {},
     "output_type": "execute_result"
    }
   ],
   "source": [
    "# display the expression information\n",
    "mult_0_2.exprInfo()"
   ]
  },
  {
   "cell_type": "code",
   "execution_count": null,
   "metadata": {},
   "outputs": [],
   "source": []
  }
 ],
 "metadata": {
  "kernelspec": {
   "display_name": "Python 3",
   "language": "python",
   "name": "python3"
  }
 },
 "nbformat": 4,
 "nbformat_minor": 0
}
