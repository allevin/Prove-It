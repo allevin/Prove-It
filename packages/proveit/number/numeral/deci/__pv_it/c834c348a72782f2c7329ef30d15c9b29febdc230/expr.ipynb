{
 "cells": [
  {
   "cell_type": "markdown",
   "metadata": {},
   "source": [
    "Expression of type <a class=\"ProveItLink\" href=\"../../../../../../../doc/html/api/proveit.Lambda.html\">Lambda</a>\n",
    "=======================\n",
    "# from context <a class=\"ProveItLink\" href=\"../../_context_.ipynb\">proveit.number.numeral.deci</a>"
   ]
  },
  {
   "cell_type": "code",
   "execution_count": 1,
   "metadata": {},
   "outputs": [],
   "source": [
    "# import Expression classes needed to build the expression\n",
    "from proveit import Lambda\n",
    "from proveit._common_ import a, b, c, d, e\n",
    "from proveit.logic import Equals\n",
    "from proveit.number import Len, five"
   ]
  },
  {
   "cell_type": "code",
   "execution_count": 2,
   "metadata": {},
   "outputs": [
    {
     "data": {
      "text/html": [
       "<strong id=\"expr\">expr:</strong> <a class=\"ProveItLink\" href=\"expr.ipynb\"><img src=\"data:image/png;base64,iVBORw0KGgoAAAANSUhEUgAAANcAAAAVCAMAAADig4s4AAAANlBMVEX///9EREQUFBQNDQ3u7u4y\n",
       "MjKYmJgQEBBUVFTMzMy6uroiIiKqqqqIiIh2dnZmZmbc3NwAAAAWiq4JAAAAAXRSTlMAQObYZgAA\n",
       "AotJREFUWMO9WOuyniAMlBYE0XB5/5ctF8UkYgecnubHmW9Wl2STEPAsywc7wvK/7addWkh/nGXA\n",
       "z9iK3GCXE7RR2wxzUoGeSaP3wVwJ7bsP/DahS61yCe6gtFFTkjmpwMvLZnTZeLysMKFLx2SO0QYN\n",
       "gDkB+BDts2DxJTurm6iXN27jtEHTkjnR8kO0D3NvDSv1uC7Tow3mVTEnVn2JtpPqtyfi+KLrpAXv\n",
       "wIdnT5f5invJO+bEt4IHA87qQLcXgFlp/p0DILu68FjDonicH9cFyd35VqEde8hrXc9Zlo3EI4c5\n",
       "uYClSBKRaIgi7zGsYtOJqLCDk0caFsdzqKcur5DdVRIy+7SNFsrvezbufFzfRdCWObmAELNAL0h4\n",
       "JVrtcNvnKSNQCU8eaRESj9Vz55fRjWb0ugLcwf/+tRPTsS0Zua4LMKVSOxmONdqIto6JjzAqz9HQ\n",
       "UDxbnNPlan9kWmSblu92c6/4qqu0nCQ9t+y+zERUnSgeJ0HlkZhJPOO6xF512aYL/qrLo1mgD96H\n",
       "x9k6UBovxchOL4+2TuCeXnhA9l9nf+Fuaqmqlxsfw0XTdR3o69qwF8HnxgnIosGo5djuEEv1yvZq\n",
       "SH17bUiXR+JZ1Wi9apWVajTIP+VdFppUMqmuqducXECei0dqPJdjPRNjUszeLBgpb6dLQUN6PBLP\n",
       "+JwvA/TQiOY8wNil3O78XN7bKQR2E2Dz0KutkAYp+LWOwRNJx13yJBHS45F4lB2eG5v35prdavJK\n",
       "f6XDMoCqD1+QLjZzj1q+36OuC+XtpHfDXD8hXczBJ11u+ptw5Dvl3+mSM98pXdqoBf5dGR7fWM9c\n",
       "jSBdDF11ZnSZD/8zCNk9WAb8jOEbMtg52h/XJx36jqAvSgAAAABJRU5ErkJggg==\n",
       "\" style=\"display:inline;vertical-align:middle;\" /></a><br>"
      ],
      "text/plain": [
       "expr: e -> (|(a , b , c , d , e)| = 5)"
      ]
     },
     "execution_count": 2,
     "metadata": {},
     "output_type": "execute_result"
    }
   ],
   "source": [
    "# build up the expression from sub-expressions\n",
    "expr = Lambda(e, Equals(Len([a, b, c, d, e]), five))"
   ]
  },
  {
   "cell_type": "code",
   "execution_count": 3,
   "metadata": {},
   "outputs": [
    {
     "name": "stdout",
     "output_type": "stream",
     "text": [
      "Passed sanity check: built 'expr' is the same as the stored Expression.\n"
     ]
    }
   ],
   "source": [
    "# check that the built expression is the same as the stored expression\n",
    "%check_expr"
   ]
  },
  {
   "cell_type": "code",
   "execution_count": 4,
   "metadata": {},
   "outputs": [
    {
     "data": {
      "text/html": [
       "<table><tr><th>&nbsp;</th><th>core type</th><th>sub-expressions</th><th>expression</th></tr>\n",
       "<tr><td>0</td><td>Lambda</td><td>parameter:&nbsp;12<br>body:&nbsp;1<br></td><td><a class=\"ProveItLink\" href=\"expr.ipynb\"><img src=\"data:image/png;base64,iVBORw0KGgoAAAANSUhEUgAAANcAAAAVCAMAAADig4s4AAAANlBMVEX///9EREQUFBQNDQ3u7u4y\n",
       "MjKYmJgQEBBUVFTMzMy6uroiIiKqqqqIiIh2dnZmZmbc3NwAAAAWiq4JAAAAAXRSTlMAQObYZgAA\n",
       "AotJREFUWMO9WOuyniAMlBYE0XB5/5ctF8UkYgecnubHmW9Wl2STEPAsywc7wvK/7addWkh/nGXA\n",
       "z9iK3GCXE7RR2wxzUoGeSaP3wVwJ7bsP/DahS61yCe6gtFFTkjmpwMvLZnTZeLysMKFLx2SO0QYN\n",
       "gDkB+BDts2DxJTurm6iXN27jtEHTkjnR8kO0D3NvDSv1uC7Tow3mVTEnVn2JtpPqtyfi+KLrpAXv\n",
       "wIdnT5f5invJO+bEt4IHA87qQLcXgFlp/p0DILu68FjDonicH9cFyd35VqEde8hrXc9Zlo3EI4c5\n",
       "uYClSBKRaIgi7zGsYtOJqLCDk0caFsdzqKcur5DdVRIy+7SNFsrvezbufFzfRdCWObmAELNAL0h4\n",
       "JVrtcNvnKSNQCU8eaRESj9Vz55fRjWb0ugLcwf/+tRPTsS0Zua4LMKVSOxmONdqIto6JjzAqz9HQ\n",
       "UDxbnNPlan9kWmSblu92c6/4qqu0nCQ9t+y+zERUnSgeJ0HlkZhJPOO6xF512aYL/qrLo1mgD96H\n",
       "x9k6UBovxchOL4+2TuCeXnhA9l9nf+Fuaqmqlxsfw0XTdR3o69qwF8HnxgnIosGo5djuEEv1yvZq\n",
       "SH17bUiXR+JZ1Wi9apWVajTIP+VdFppUMqmuqducXECei0dqPJdjPRNjUszeLBgpb6dLQUN6PBLP\n",
       "+JwvA/TQiOY8wNil3O78XN7bKQR2E2Dz0KutkAYp+LWOwRNJx13yJBHS45F4lB2eG5v35prdavJK\n",
       "f6XDMoCqD1+QLjZzj1q+36OuC+XtpHfDXD8hXczBJ11u+ptw5Dvl3+mSM98pXdqoBf5dGR7fWM9c\n",
       "jSBdDF11ZnSZD/8zCNk9WAb8jOEbMtg52h/XJx36jqAvSgAAAABJRU5ErkJggg==\n",
       "\" style=\"display:inline;vertical-align:middle;\" /></a></td></tr>\n",
       "<tr><td>1</td><td>Operation</td><td>operator:&nbsp;2<br>operands:&nbsp;3<br></td><td><a class=\"ProveItLink\" href=\"../62b713fdc1540d20eb64bf49826f19e49cb1b1800/expr.ipynb\"><img src=\"data:image/png;base64,iVBORw0KGgoAAAANSUhEUgAAAJ0AAAAVBAMAAACu6/FQAAAAMFBMVEX///8iIiJERESYmJhmZmYQ\n",
       "EBDu7u4yMjJUVFTMzMyIiIi6urp2dnbc3NyqqqoAAABw9lLDAAAAAXRSTlMAQObYZgAAAg5JREFU\n",
       "OMudlDtLA0EQxyfvGO9yUfwAsbCVVApiEVFQIRBFsBADKRTLWAgKNgERRRAOwdoUInJBuMZGkESw\n",
       "EUWvsLIxVlZiUEgjPmZ3Lncn7vpawua/Mzu/nd2dW3iAf7a4JTSf8/7oL6SAyXrFlPNaih5LeDXx\n",
       "dVprV9odjAp5kR710uZF8p8cRcG6Ws0zQcgLvb9XbZ4hDXVaxbNkoCrMb+Ssud9JaajTTrwnMibi\n",
       "RZ3za52XhjptwTvo/p4XZPmrG+c5ciwZK3YeF4bOBfreyKRmdrFOToU8Y98kXiSF3aHlrxPlCTTC\n",
       "bJsRumr0NSjozlLxou8d3vAia0tM+vPhF+KF0KU+QzBJhdqAUJWDp8Cf4kmhj45EfYEgrnUoqb9V\n",
       "4mnoitbBV+JGDNV4sUXrzZ2gr0pqou8A/3YkvCvd4WlJKNAufWmo8LS0ZLOA0EfRtJCY14k8k/aL\n",
       "BXdbgkfI2+WX5eK2ZM/0+Mjk7negjbV2JscBshbnsVMq1GAtrodZjA7TwAWaU0y4vhDy8Ncryg9T\n",
       "X6TzU9LsjuMdChTwPqO1YJFEGhSdCdcXm4cZWb1cQzxn13OClVh5qwyzr3itG4PABWSMPS5cH5wa\n",
       "bMfLIl7L0Lplf285x3gsF64Sf2+e96rfGabkwlVK6Qee+179ijf303uqNl+8GEiFR21+wyvz/uYv\n",
       "732M131MyPsAsOShcm9nlF8AAAAASUVORK5CYII=\n",
       "\" style=\"display:inline;vertical-align:middle;\" /></a></td></tr>\n",
       "<tr><td>2</td><td>Literal</td><td></td><td><a class=\"ProveItLink\" href=\"../../../../../logic/equality/__pv_it/2fb26078095930560931daa0500ce419a39ea6cd0/expr.ipynb\"><img src=\"data:image/png;base64,iVBORw0KGgoAAAANSUhEUgAAAA4AAAAFBAMAAACHocAhAAAAFVBMVEX///9EREQiIiJUVFQyMjJm\n",
       "ZmYAAADubVkoAAAAAXRSTlMAQObYZgAAABRJREFUCNdjCHEBAWcGXCBICQQUAUpuAwlgGKrkAAAA\n",
       "AElFTkSuQmCC\n",
       "\" style=\"display:inline;vertical-align:middle;\" /></a></td></tr>\n",
       "<tr><td>3</td><td>ExprTuple</td><td>4, 5</td><td><a class=\"ProveItLink\" href=\"../28f0cfb0de42c304951ec8f591c87a2f19a7439a0/expr.ipynb\"><img src=\"data:image/png;base64,iVBORw0KGgoAAAANSUhEUgAAAJkAAAAVBAMAAACnAFEqAAAAMFBMVEX////c3NwiIiJERESqqqqY\n",
       "mJh2dnZmZmYQEBDu7u4yMjJUVFTMzMyIiIi6uroAAAAs73DqAAAAAXRSTlMAQObYZgAAAlFJREFU\n",
       "OMudVD1oE2EYfq65JvfTy93m0KFurkEUHKOji5mECkoQsYvGLMZBoa2om3qbwSW3SKmC1EEoSuHA\n",
       "RejgOYnohdipdGn8G7qkvt/f3RfTg+pL+O655733uffL+3wHUJzG/8ZEZTVBS4HDx/SAX1oadYkt\n",
       "m4rb1DL2+tFJheqpdn5zR1dz5o0rqMSEVhW3qlc6awc05Ne1B3Q1a3+/CUSAl0jOS4oKs9gNta02\n",
       "9d5uX6P1PMmGkrPCosIsLuv/xZKm5vK1C+wobqewMIsV/ebEhFqpjo7iGDA2Wssi/yJ9LXu4msYc\n",
       "UO6XoIzOpwBY0NXSLzTjchvPFMfAdlAaCo2f8IXI+4Ejxku5PVF7JjBouGc1tVJojwAzwiPFETB+\n",
       "o1LjaXMPFv+b7YcoNXhDlItEayNuhu1xv62Tg5YwUhwBd4gpMVkq9Lm53KF8muWaAt2/+JEuH8bV\n",
       "bsSYGY6p+TX0xP6m2tjlLfk1ZRnKCf+L14ypHSe1AVO7pzgCcwnOIZR2W+RgTrlQywlK3+ldYDFg\n",
       "Oz2pOAK9Ot6Ysc0qYjwAB9Rhg4E8Z5Ea/S5INfYG6vY5GTrig+ZqBJyGeayMHs3QrVfWBGijHDOQ\n",
       "57wIT3KH2D/ocgTmMnfIllLbYpbqv+uj+51GuXETHKCTfuYgz2EhZXt9KdUek/LMrbe0OgNYgTpZ\n",
       "gRrPt2KQo+xkVbO6rji9rfwYs2gUgxyVE6k2neWuH/hFOpTaU/ytZjNzzyq1Wcl6KAQaeqXUsg+Z\n",
       "y7ZsJOiLE/MvX3JPuLyvUV+BP2bxseq132zDAAAAAElFTkSuQmCC\n",
       "\" style=\"display:inline;vertical-align:middle;\" /></a></td></tr>\n",
       "<tr><td>4</td><td>Operation</td><td>operator:&nbsp;6<br>operand:&nbsp;7<br></td><td><a class=\"ProveItLink\" href=\"../1e54e2959ca3797cdfa320c4b567214c5626d7630/expr.ipynb\"><img src=\"data:image/png;base64,iVBORw0KGgoAAAANSUhEUgAAAHUAAAAVBAMAAACK3rzVAAAAMFBMVEX///8iIiJERESYmJhmZmYQ\n",
       "EBDu7u4yMjJUVFTMzMyIiIi6urp2dnbc3NyqqqoAAABw9lLDAAAAAXRSTlMAQObYZgAAAbJJREFU\n",
       "OMudlLtLw1AUxr++bEkfcfAPKIirZBOcCk5CQcHNFx0UxxYUEVwKIkJBCILgZgZxaBHiUJykFbrV\n",
       "IaNb6+QkFoUuRfHk3qQ50Qasl6b9cr/zu/fmnJPiFf8cGQttIZLGGFTEtL9TpsNeMGviePJ3fHIm\n",
       "590s+th9Hhcvj9hM7bIAzipGUNhwNArs0E3GxgpBYcPxwJ9qmbF3gWHDscdvZhmbpytdaW9I56B6\n",
       "5Kz/WNWFIO9LTqXzVxbQYuwuXXUr3JPEO1SJnJtxmXLy+pJ9ttKU8BfGrtGCH4hmZdH7iDXFIqsI\n",
       "a2Iz8kpy2wGitG6dsQMg0UNIZpvCVFHMRM95PNtrSrUyf0M/l35WzaIoTxrKoSG2U7Nu0cgzpZId\n",
       "wtlNoGPgDQWnvEtCdNyqM09O8TNPA8UuTjL6hO3rWIcQtLtmC8+LEUufOcZSzuNaZiqFIuU10Y2W\n",
       "pcghpdvC85QStn7U6NYuYe2shu1PSm9lAUIgX70WwvPQqtqnPuQ9abkdcx8sPOXryUjTndaChadS\n",
       "xsh38E/sju/9fXJmFQQKpk4dtiZ7bZz/HEX0kGJ+Aw2ejpk0RUVgAAAAAElFTkSuQmCC\n",
       "\" style=\"display:inline;vertical-align:middle;\" /></a></td></tr>\n",
       "<tr><td>5</td><td>Literal</td><td></td><td><a class=\"ProveItLink\" href=\"../../../__pv_it/aaeeaca7d86eb2b7cdc49e25c3108b81b52ec5400/expr.ipynb\"><img src=\"data:image/png;base64,iVBORw0KGgoAAAANSUhEUgAAAAkAAAAOBAMAAAAPuiubAAAAMFBMVEX///8iIiJERES6urqIiIjM\n",
       "zMxUVFRmZmYQEBCqqqp2dnbc3Nzu7u6YmJgyMjIAAADYGhJvAAAAAXRSTlMAQObYZgAAAE1JREFU\n",
       "CNdj4LvDvZKBgeP//wUMDHxlSxkYGNgYGBCki5sBAwPTAZ7PYG4GmFwfwKAIJA0YGhkY6jcwFDAw\n",
       "vGNg2M7A2c3AwFqetoEBAKS8EE1WXEJLAAAAAElFTkSuQmCC\n",
       "\" style=\"display:inline;vertical-align:middle;\" /></a></td></tr>\n",
       "<tr><td>6</td><td>Literal</td><td></td><td><a class=\"ProveItLink\" href=\"../../../../sets/integer/__pv_it/0a9286fafc7688968c9f0b1c9372a7c495b9f9510/expr.ipynb\"><img src=\"data:image/png;base64,iVBORw0KGgoAAAANSUhEUgAAADsAAAASBAMAAAAXqLt+AAAAMFBMVEX///+qqqru7u5ERERUVFTM\n",
       "zMzc3NyIiIgQEBAyMjJmZmaYmJi6uroiIiJ2dnYAAAD2HuJxAAAAAXRSTlMAQObYZgAAAURJREFU\n",
       "KM99kT9LAnEYxz93Xmnn33fgvYJ0iISWhIJ0k95ABw2BixcFkhC1RFu4BU03lNIibg0N3hDUlhA0\n",
       "xlFDQQgmaBQOPXc5BGoPHPf93ef3fJ/vw0FnyKRSc23/He5OYEcwZ/tSr45jpQfxhC9D1jjWxfje\n",
       "8GWpMI6jYtz5lS15iq81bhe3dl2JUn9P3ywvWJxd7ZiCVmTUI0XcvKX24ZySTVLSfZl6VvCx+Dtc\n",
       "RJwH1CHhnpfpUlr6aGmYkY7cddlUhUngUJYNkyc/XVRmBQ/he7SMViWZYN9z8ZiYEsgafI72jzeN\n",
       "A5MllC5myuENQz653vggIZeW4coeH3JTcUSchE3i6xZ7qDXP6kUppAxtgGbPk0ftx6StYRCrl+EO\n",
       "NreJrFXazGYsTqHxPOFXBWyml0MqMZ3qA1b/aVYylebf8w8ORloN8BKQFQAAAABJRU5ErkJggg==\n",
       "\" style=\"display:inline;vertical-align:middle;\" /></a></td></tr>\n",
       "<tr><td>7</td><td>ExprTuple</td><td>8, 9, 10, 11, 12</td><td><a class=\"ProveItLink\" href=\"../40ed97c84dd03f5d379689d83d97b2f10a8687be0/expr.ipynb\"><img src=\"data:image/png;base64,iVBORw0KGgoAAAANSUhEUgAAAGIAAAAVBAMAAABPrCZEAAAAMFBMVEX////c3NwiIiJERESqqqqY\n",
       "mJh2dnZmZmYQEBDu7u4yMjJUVFTMzMyIiIi6uroAAAAs73DqAAAAAXRSTlMAQObYZgAAAYtJREFU\n",
       "OMuVkz9Iw1AQxr/+T1tisjvUzbWDgmNxdDGzIAQHu0kXOwkqqJvSTXFpFxERpA6CCIWAi+DQOIlD\n",
       "SnUqLq2oQ5fivXdJ84YG7KNJf+++d5fjuwSYfs24UxxOden2rASy93MTSi5Vws0OXVeqmmtOKGyU\n",
       "lAOA7kaJ49WvKW3Z0GpR4nhtqH3v4TNSHK9LdbOAKt1jra193l97d36tTc+RQNoPh2LVVxMo44K4\n",
       "ZyYGfO4bBh986ubYNtKGnLFsxsi0FZxQ8i8yRRlMDqHZMvUYCUsWJq3BjxghQ9V6GAH5AeLsGImG\n",
       "ND8/8NsWms10uP5Cf22RYRRR517iFfRlaaMY2E1al4nn2MYBUHCxipo/jl0JhWBKisahHhaBegkP\n",
       "SScrog6OIIGeZAkINY0y6LdGbiFnJefTqJM3+VKmyVBB2hEQanoDp9LdD2F557GDsy+yqLUNCah6\n",
       "bxJCDWVP9HUDzQym+R4NIdFbkrKDjRUNIaVd5W3/V8Y5XbM+64gEhW7F9Kf5anUHf6kudAb6hmIS\n",
       "AAAAAElFTkSuQmCC\n",
       "\" style=\"display:inline;vertical-align:middle;\" /></a></td></tr>\n",
       "<tr><td>8</td><td>Variable</td><td></td><td><a class=\"ProveItLink\" href=\"../../../../../__pv_it/07527342713064c87612d00d8557c53d53d5324a0/expr.ipynb\"><img src=\"data:image/png;base64,iVBORw0KGgoAAAANSUhEUgAAAAsAAAAJBAMAAAAWSsseAAAAMFBMVEX///8yMjKqqqrMzMzu7u4i\n",
       "IiJmZmaYmJhEREQQEBC6urp2dnaIiIhUVFTc3NwAAAD87Fq/AAAAAXRSTlMAQObYZgAAAEhJREFU\n",
       "CNdjYOC7s2seAwPDygccHxgY+L4zsDUwMPB+YGA9wMDA38Dgb8DA8P4Agz6DA4O/AsNFJgMGxgKm\n",
       "MG6gyjunLE4xAAAZTBA5TB6DCwAAAABJRU5ErkJggg==\n",
       "\" style=\"display:inline;vertical-align:middle;\" /></a></td></tr>\n",
       "<tr><td>9</td><td>Variable</td><td></td><td><a class=\"ProveItLink\" href=\"../../../../../__pv_it/6840a4fa6c106149dc16a131294d0c5e44f1b0480/expr.ipynb\"><img src=\"data:image/png;base64,iVBORw0KGgoAAAANSUhEUgAAAAkAAAAOBAMAAAAPuiubAAAALVBMVEX///9mZmbMzMxERESYmJiI\n",
       "iIh2dna6urqqqqoyMjIiIiIQEBBUVFTu7u4AAAD9S1JeAAAAAXRSTlMAQObYZgAAAE1JREFUCNdj\n",
       "4D29gAEIOA+ASL4GEFl3AURmgQiGOaFHGBh4HzPwKTBwvGXgTmBgnMDAJ8DAJcBQ5wBSLncBJLWN\n",
       "gYGngRFoBO9REQYGAGrcDtUkVqASAAAAAElFTkSuQmCC\n",
       "\" style=\"display:inline;vertical-align:middle;\" /></a></td></tr>\n",
       "<tr><td>10</td><td>Variable</td><td></td><td><a class=\"ProveItLink\" href=\"../../../../../__pv_it/cbdfda466482236edba0ce44ac7ef39cda0af7a40/expr.ipynb\"><img src=\"data:image/png;base64,iVBORw0KGgoAAAANSUhEUgAAAAkAAAAJBAMAAAASvxsjAAAALVBMVEX///9mZmbc3NxUVFSYmJhE\n",
       "REQiIiIyMjK6uroQEBDMzMyIiIh2dnbu7u4AAABgFDGoAAAAAXRSTlMAQObYZgAAADZJREFUCNdj\n",
       "YOA9s3sBA8PKBvYEBt7ZDKwODMwPGICALwBE6m0Asx0YGIDiAgw8QJUyu/cyAAAmuwmycZ8WfQAA\n",
       "AABJRU5ErkJggg==\n",
       "\" style=\"display:inline;vertical-align:middle;\" /></a></td></tr>\n",
       "<tr><td>11</td><td>Variable</td><td></td><td><a class=\"ProveItLink\" href=\"../../../../../__pv_it/3a5de44ed6135dbbdbbeec6704c741e238f127300/expr.ipynb\"><img src=\"data:image/png;base64,iVBORw0KGgoAAAANSUhEUgAAAAsAAAAOBAMAAAALT/umAAAAMFBMVEX////MzMyYmJiIiIhUVFTc\n",
       "3NwyMjIiIiJ2dnbu7u6qqqpmZmYQEBBERES6uroAAABkyy6XAAAAAXRSTlMAQObYZgAAAFhJREFU\n",
       "CNdjYGBg4LuzgQEE+BeAqfcTwFQ7mGTIBmJW575fQOpNAO9PIOcTA3cCAwPLBwb2BqCeCwzzHzAw\n",
       "xBswrGeYwDB/AYMblwADmwJXNQdIm52sHQMAfyoTCZukXIEAAAAASUVORK5CYII=\n",
       "\" style=\"display:inline;vertical-align:middle;\" /></a></td></tr>\n",
       "<tr><td>12</td><td>Variable</td><td></td><td><a class=\"ProveItLink\" href=\"../../../../../__pv_it/0bc0f4a545336331111a0b22c4f05a0627b57b8f0/expr.ipynb\"><img src=\"data:image/png;base64,iVBORw0KGgoAAAANSUhEUgAAAAkAAAAJBAMAAAASvxsjAAAALVBMVEX////u7u4yMjKYmJgQEBBU\n",
       "VFTMzMy6uroiIiKqqqqIiIh2dnZmZmbc3NwAAAAyj3LLAAAAAXRSTlMAQObYZgAAADlJREFUCNdj\n",
       "YOA9veYCA8OMC7wHGHifM/AkMLA6W61lYOA7wAAEfAtAJAuQXMDApcAgA1S5Z9UCBgB6Cgz1W65k\n",
       "FgAAAABJRU5ErkJggg==\n",
       "\" style=\"display:inline;vertical-align:middle;\" /></a></td></tr>\n",
       "</table>\n"
      ],
      "text/plain": [
       "0. e -> (|(a , b , c , d , e)| = 5)\n",
       "   core type: Lambda\n",
       "   parameter: 12\n",
       "   body: 1\n",
       "1. |(a , b , c , d , e)| = 5\n",
       "   core type: Operation\n",
       "   operator: 2\n",
       "   operands: 3\n",
       "2. =\n",
       "   core type: Literal\n",
       "   sub-expressions: \n",
       "3. (|(a , b , c , d , e)| , 5)\n",
       "   core type: ExprTuple\n",
       "   sub-expressions: 4, 5\n",
       "4. |(a , b , c , d , e)|\n",
       "   core type: Operation\n",
       "   operator: 6\n",
       "   operand: 7\n",
       "5. 5\n",
       "   core type: Literal\n",
       "   sub-expressions: \n",
       "6. length\n",
       "   core type: Literal\n",
       "   sub-expressions: \n",
       "7. (a , b , c , d , e)\n",
       "   core type: ExprTuple\n",
       "   sub-expressions: 8, 9, 10, 11, 12\n",
       "8. a\n",
       "   core type: Variable\n",
       "   sub-expressions: \n",
       "9. b\n",
       "   core type: Variable\n",
       "   sub-expressions: \n",
       "10. c\n",
       "    core type: Variable\n",
       "    sub-expressions: \n",
       "11. d\n",
       "    core type: Variable\n",
       "    sub-expressions: \n",
       "12. e\n",
       "    core type: Variable\n",
       "    sub-expressions: "
      ]
     },
     "execution_count": 4,
     "metadata": {},
     "output_type": "execute_result"
    }
   ],
   "source": [
    "# display the expression information\n",
    "expr.exprInfo()"
   ]
  },
  {
   "cell_type": "code",
   "execution_count": null,
   "metadata": {},
   "outputs": [],
   "source": []
  }
 ],
 "metadata": {
  "kernelspec": {
   "display_name": "Python 3",
   "language": "python",
   "name": "python3"
  }
 },
 "nbformat": 4,
 "nbformat_minor": 0
}
