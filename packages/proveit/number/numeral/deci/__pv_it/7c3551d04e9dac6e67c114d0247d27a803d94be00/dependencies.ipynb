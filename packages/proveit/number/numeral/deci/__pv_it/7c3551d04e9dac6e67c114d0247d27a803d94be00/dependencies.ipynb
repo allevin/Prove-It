{
 "cells": [
  {
   "cell_type": "markdown",
   "metadata": {},
   "source": [
    "Theorem Dependencies\n",
    "=======================\n",
    "\n",
    "## <a class=\"ProveItLink\" href=\"../../_context_.ipynb\">proveit.number.numeral.deci</a>.<a class=\"ProveItLink\" href=\"../../_theorems_.ipynb#nat2\">nat2</a> \n",
    "***see <a class=\"ProveItLink\" href=\"../../_proofs_/nat2.ipynb\">proof</a>***"
   ]
  },
  {
   "cell_type": "code",
   "execution_count": 1,
   "metadata": {},
   "outputs": [],
   "source": [
    "from proveit.number.numeral.deci._theorems_ import nat2"
   ]
  },
  {
   "cell_type": "code",
   "execution_count": 2,
   "metadata": {},
   "outputs": [
    {
     "data": {
      "text/html": [
       "<h3>This theorem has not been proven yet.</h3>"
      ],
      "text/plain": [
       "<IPython.core.display.HTML object>"
      ]
     },
     "metadata": {},
     "output_type": "display_data"
    },
    {
     "data": {
      "text/html": [
       "<h3>Theorems that depend directly on nat2</h3>"
      ],
      "text/plain": [
       "<IPython.core.display.HTML object>"
      ]
     },
     "metadata": {},
     "output_type": "display_data"
    },
    {
     "data": {
      "text/html": [
       "<dl>"
      ],
      "text/plain": [
       "<IPython.core.display.HTML object>"
      ]
     },
     "metadata": {},
     "output_type": "display_data"
    },
    {
     "data": {
      "text/html": [
       "<dt><a class=\"ProveItLink\" href=\"../../../../../logic/boolean/_proofs_/foldInBool.ipynb\">proveit.logic.boolean.foldInBool</a></dt><dd><a class=\"ProveItLink\" href=\"../../../../../logic/boolean/__pv_it/768c25286834e2d519e3c28d5b79fe169910e93c0/expr.ipynb\"><img src=\"data:image/png;base64,iVBORw0KGgoAAAANSUhEUgAAAO0AAAAXBAMAAAAVatXDAAAAMFBMVEX///8QEBC6urrMzMxUVFRm\n",
       "ZmZERETc3NwyMjKqqqp2dnaIiIiYmJgiIiLu7u4AAAAU9Wx4AAAAAXRSTlMAQObYZgAAAr9JREFU\n",
       "SMfFVj1oFEEUfne7t/eze5tgJxLcIqiIwhYWNiGHBlQQk0YFRVybPQUhWxwJCsFrJILRWGil4CGI\n",
       "iCKLVlY5LAS1iUVAxMONqAQlGCyOFKK+mdndmfvZOZETH9zOzPfNzPfmzZuZA/hPFvyTWdO+jH2G\n",
       "v0VSedVv3V2sGGlFC/On14fOAGRsgPsEuNpv3XDC+TZYS/srX2oAVYApbGadPsvqLMzG+6BDV7dQ\n",
       "9CVADqnMtT7rppjeuZMea3+90ngT6ubrhwCW0ad709Mz/Q7zNlb4CxYtlbmAr3crBlfDhTZd923n\n",
       "yKzdZbr8n9LHWFIHt+u0MhXwOI88x0ZhAmAvQJmCs6wz63FegGJTalGtBz1Hvx9glO1zme9v49cm\n",
       "4iHu8TCYVZoE3xnFejgChHbEPeW6NbgTtdvocFhMb6BfCy5MkNJ0xLx6iq30IEARdBqNTz8E3bwv\n",
       "QBxfAZ1kazIdGnVIGRsbp4rpoUYjzitwtiO1hrPUizT8j5YEXc0TII6rto4ZUUmmRV3csRSNpFIS\n",
       "1guOxnTNKr1cFN8VdFMixHE8l7iCfRKa2UbyQQ+LgzTOi+26JM5Q3kN9hROC7u4IUi+hXY7wdAke\n",
       "Q7YkoZmdJSmPurk12jzYootxNkgcblB3XsCCoDssQhxXqvAZVE9CM7sbbrb2kzZXLa5rHHfYOYIU\n",
       "iY65dHgy4LrXRahl4oJVkdHMduKZ3TwLxuQ6TejsRTt6F5qvD2AlRxwxyOiMB6M2190SQVprIB08\n",
       "FEdldHhPem03yn6Wz5Etx7UdAAN1rrsqQnxBBt4MD0tSGloqCfYgqnxsQnb8HdfFo8UhPnEG4/PN\n",
       "7qTDayVjtb2DCWZWOzGmq3d/oXJks+Q0s4pUV/WSdM3uL/LNyGE5jc5J/+c8gSRduNV1QHzx9KD/\n",
       "wtQwM7o9dIX43PSge9tvpYXIP1vpZ/sAAAAASUVORK5CYII=\n",
       "\" style=\"display:inline;vertical-align:middle;\" /></a></dd>"
      ],
      "text/plain": [
       "<IPython.core.display.HTML object>"
      ]
     },
     "metadata": {},
     "output_type": "display_data"
    },
    {
     "data": {
      "text/html": [
       "<dt><a class=\"ProveItLink\" href=\"../../../../../logic/boolean/_proofs_/inBoolDef.ipynb\">proveit.logic.boolean.inBoolDef</a></dt><dd><a class=\"ProveItLink\" href=\"../../../../../logic/boolean/__pv_it/e4b2da0c82a93edf3fb4a80ce58edbf8f34075a60/expr.ipynb\"><img src=\"data:image/png;base64,iVBORw0KGgoAAAANSUhEUgAAAVMAAAAVBAMAAAAJExCCAAAAMFBMVEX///8QEBC6urrMzMxUVFRm\n",
       "ZmZERETc3NwyMjKqqqp2dnaIiIiYmJgiIiLu7u4AAAAU9Wx4AAAAAXRSTlMAQObYZgAAA5FJREFU\n",
       "SMfVVk1oU0EQniRNnkleYvGiImoKguIfPWjxUlpsQLzYQBFEKcZLa0FsDtJaihhEaQ/a5mDBm70U\n",
       "kYIEvCgeGjwUbVFaoR7E1FS0FEGQgrGgWHdmd/P+dl/ODnybl939dr7dnZ1dgP/HKoq6YJFDby8V\n",
       "dYcEfMxMqUj1HEksYMW8s/2YALNWZ0ts/PLG7j6AcLNn0FA7B34uuNrCZbIsdClIKgLaMDGbLTzG\n",
       "ijFnpzGratzFjwSLa98mAfKekbdUOPDzh9dxKEMt9E1rG5IkDQGOU5m3MMB+jKyjT7zIgTv2qeKR\n",
       "Gk8x2pxn5BcCzN781Uk1J7HskP39CELqnAWcV7jg6BOocDAbupij3+SzcjkvpEZLZwBWPCPvEWAz\n",
       "n/ilk5psxLIFi2XwJwipKxbMR4ODN5x9DggwK87wg3DirW1V97NNiBTcRzHPgbsSX9dJhT7abzb/\n",
       "aAb8CUIqOpKo9vR8cPY5L8CGqjws0bSv2gKgdZateCzjPjmTHMyORv9opU5hgTJRri9BSEVHEixw\n",
       "eqlyRPa5KwDwGdooZiM5S2p5cxd6o/U4N4p2m1aqxME2ORX6TeKpcbTdIfUBiM1vkSSLYB+uJhUd\n",
       "SeyDJLk1a5uwTQCP6k3ysOo4Vs9ZAAQbXWsQSHGwJjB+ale1SR7Bk5KkIwip6EgiAXGa29faJqwL\n",
       "QCid7qTk0IRZUR4ryB5kTe70sjXFwTJyOl3VSm2jMiGWx48gpKIjiXgpQaf9yZJHapDNOw/WfSCl\n",
       "RnylsmJHHanhQqxkSVUTFFKTeRISKvbIPjsFgB26BG30d49UHgDddAm9p70scECUYdFxRXkDwMgn\n",
       "QJIsgn04ZQBAL4VNA3RLOVcEjIK8RxpKDqksAEz3dRUpccCQ4o6zpL7i/zrmayQdQUhFRxIwQRfw\n",
       "a5iRfaYE1nAwukeS72xSzQtZRbKSCYWCsL/im6zY+V+ukXQERbKCAOaj5NLZWvcjHAN7R8Ds3yAX\n",
       "17tqz5Xq4mlMM+43UnCBYFzayMHs5h2vVJ5Cb4kHQ0aSNAQWC4sUC+hIAkyUGM5Bm3wtBXIcdrt/\n",
       "r+zYcu/Ful3A15Iix4UqFsnfbBersMPsOMqAxDcFf1fobdpTI98VvhYrekn1HU3bHX6pgtH5UfEI\n",
       "1K2O7yNQb2sKUl1HEiq7JqC3hpynymjn8LVTClJdRxIqM4ocenuqebUP+zuONyuf+nUcCfwDov0k\n",
       "9Q88fGgAAAAASUVORK5CYII=\n",
       "\" style=\"display:inline;vertical-align:middle;\" /></a></dd>"
      ],
      "text/plain": [
       "<IPython.core.display.HTML object>"
      ]
     },
     "metadata": {},
     "output_type": "display_data"
    },
    {
     "data": {
      "text/html": [
       "<dt><a class=\"ProveItLink\" href=\"../../../../../logic/boolean/_proofs_/unfoldInBoolExplicit.ipynb\">proveit.logic.boolean.unfoldInBoolExplicit</a></dt><dd><a class=\"ProveItLink\" href=\"../../../../../logic/boolean/__pv_it/6e6206562fb05c01d70d4ee84ce9b743652a06ea0/expr.ipynb\"><img src=\"data:image/png;base64,iVBORw0KGgoAAAANSUhEUgAAAPUAAAAVBAMAAABs27XUAAAAMFBMVEX///8QEBC6urrMzMxUVFRm\n",
       "ZmZERETc3NwyMjKqqqp2dnaIiIiYmJgiIiLu7u4AAAAU9Wx4AAAAAXRSTlMAQObYZgAAAp9JREFU\n",
       "SMfFVkFoE0EU/e12u83uJvamF2UVbxXJofbiocEWejQgAQ9Wqoct4qE5WSQoi1gsPWguBY+5qIgg\n",
       "Cx49uAiKWoT00B5ESwQVoSJFMAqKOvP/n8QkO5NjH7zJTHYeb+bP/L8LsItomB+PMQ3wgzSRCU+Z\n",
       "dTlY082yCkTZrXc9s98h5uBUiihNIFFBZZ54Xw5u6rxHGkTZ3UlZWhGfYB93bymRRgDHsI2Il8SP\n",
       "M6fzfswUeP1H5+3XZDul5psE7P2KKBdpV3XeB5hifas/dN65UdlOyGYLzAL2fk/07y0uXtFZD0ZE\n",
       "Ac/7pvOGCxjiMkCmCGYBew9Xic0wfKPztmtEgaOZ31rvO7KRvtLfKGBvt0gU5zSPf9xIuWoJUcQ1\n",
       "sH7hapYRhQ7v28DxnlCitgBOo+B6h3cmIh6GHAbJ5xD5KytLCc8cCIgikOB81+77oLqXJ5RIJ2Dv\n",
       "wVFiFjy0+ihDtF06A3Ft+xDP3BMQAcanp5ta70lss7wJk4C9rR2il2QxHx9uiP75q1+Ft/ulx1s0\n",
       "+/p421U3aXunC7q8c9E4DuMQ4JnsxbWxsyrmVSJkBNc7illvzJ0o2xK1BTCLgs3UmMM8ntIQzFK9\n",
       "gbi0X533cEKEy4K3tPt+QaOptZZIJ2BvPyLCKtbdl/AErBrt2z7OM1Uu4EEuNIw5Jm75VkukE3Tl\n",
       "GAzEMiU2SgsNazMML8rzdlVtqSOdcz/L8PzvUq83pfI1zsiiEmkEIvzrGP6RgAi+XJ5dhsl8rkD7\n",
       "bnnDXqYRVFPFShptkRlcUxlHxP1MYIZjXlF/c9E3w407x30F8ICJ+NAE5+Rb+BRgbQmTlHeoHp9T\n",
       "XrzmQEV8IzpwV5z3/3AKRCNmusZ9BUNlYh9U1LeGHl4+9ePEgEfEfzxt0gwHCx74AAAAAElFTkSu\n",
       "QmCC\n",
       "\" style=\"display:inline;vertical-align:middle;\" /></a></dd>"
      ],
      "text/plain": [
       "<IPython.core.display.HTML object>"
      ]
     },
     "metadata": {},
     "output_type": "display_data"
    },
    {
     "data": {
      "text/html": [
       "</dl>"
      ],
      "text/plain": [
       "<IPython.core.display.HTML object>"
      ]
     },
     "metadata": {},
     "output_type": "display_data"
    }
   ],
   "source": [
    "%dependencies nat2"
   ]
  }
 ],
 "metadata": {
  "kernelspec": {
   "display_name": "Python 3",
   "language": "python",
   "name": "python3"
  }
 },
 "nbformat": 4,
 "nbformat_minor": 0
}
