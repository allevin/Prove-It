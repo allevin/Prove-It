{
 "cells": [
  {
   "cell_type": "markdown",
   "metadata": {},
   "source": [
    "Theorem <a class=\"ProveItLink\" href=\"../../_theorems_.ipynb#add_8_0\">add_8_0</a> of type <a class=\"ProveItLink\" href=\"../../../../../../../doc/html/api/proveit.logic.Equals.html\">Equals</a>\n",
    "=======================\n",
    "# from context <a class=\"ProveItLink\" href=\"../../_context_.ipynb\">proveit.number.numeral.deci</a>\n",
    "*** see <a class=\"ProveItLink\" href=\"dependencies.ipynb\">dependencies</a> ***"
   ]
  },
  {
   "cell_type": "code",
   "execution_count": 1,
   "metadata": {},
   "outputs": [],
   "source": [
    "# import the special expression\n",
    "from proveit.number.numeral.deci._theorems_ import add_8_0"
   ]
  },
  {
   "cell_type": "code",
   "execution_count": 2,
   "metadata": {},
   "outputs": [
    {
     "name": "stdout",
     "output_type": "stream",
     "text": [
      "Passed sanity check: built 'add_8_0' is the same as the stored Expression.\n"
     ]
    }
   ],
   "source": [
    "# check that the built expression is the same as the stored expression\n",
    "%check_expr add_8_0"
   ]
  },
  {
   "cell_type": "code",
   "execution_count": 3,
   "metadata": {},
   "outputs": [
    {
     "data": {
      "text/html": [
       "<table><tr><th>&nbsp;</th><th>core type</th><th>sub-expressions</th><th>expression</th></tr>\n",
       "<tr><td>0</td><td>Operation</td><td>operator:&nbsp;1<br>operands:&nbsp;2<br></td><td><a class=\"ProveItLink\" href=\"expr.ipynb\"><img src=\"data:image/png;base64,iVBORw0KGgoAAAANSUhEUgAAAGEAAAAVBAMAAACkm51HAAAAMFBMVEX////c3NwiIiJERESqqqqY\n",
       "mJh2dnZmZmYQEBDu7u4yMjJUVFTMzMyIiIi6uroAAAAs73DqAAAAAXRSTlMAQObYZgAAAYJJREFU\n",
       "OMuVkztIw0AYx/99pPGsluwOPiZBBxdnMzkI0izaSQ0O7SCFDrUFsajgIohEB+nYxaFxsE7i1lkH\n",
       "g4OCOhRHRRSxigjGr0nR5Job/JbvdT/ue9wB/5eEJUjMi4hzYD+d98dY6boOuc4fZemMSqoK5CBr\n",
       "vlS4wUaBCk/IwDLQa0HSwAbc2K6rLoEbYJYnZoA9oMtArPZLTLtqBHhWUOaJJYd4AKJfRszyER/A\n",
       "hYqIyhHJU2SBAlkTzSt4idA7ERZiOY6I2HM6cNDqyB7sJHREndZl05Fay157VYAdMlJnthpAJNa5\n",
       "O6TVozfgm4wcFj4Dqup54YgUJNtoETSuUJMCK6Y5bJqH7c61TmIL6NewCWeKJX66SaVdlTzkyBit\n",
       "nHzZwjjdQe0c+wja4CJVyy99A4gryNA+qojqPiKssm10TnfKwCRwT9ZjMe+bLljhlp5hd4N/5idF\n",
       "1S3pT6a9Tjn4sUu613vyOlnB/6iKPg6rCBJ9IiKuCBIh0a+9Cw7/AODxZHL8R1E0AAAAAElFTkSu\n",
       "QmCC\n",
       "\" style=\"display:inline;vertical-align:middle;\" /></a></td></tr>\n",
       "<tr><td>1</td><td>Literal</td><td></td><td><a class=\"ProveItLink\" href=\"../../../../../logic/equality/__pv_it/2fb26078095930560931daa0500ce419a39ea6cd0/expr.ipynb\"><img src=\"data:image/png;base64,iVBORw0KGgoAAAANSUhEUgAAAA4AAAAFBAMAAACHocAhAAAAFVBMVEX///9EREQiIiJUVFQyMjJm\n",
       "ZmYAAADubVkoAAAAAXRSTlMAQObYZgAAABRJREFUCNdjCHEBAWcGXCBICQQUAUpuAwlgGKrkAAAA\n",
       "AElFTkSuQmCC\n",
       "\" style=\"display:inline;vertical-align:middle;\" /></a></td></tr>\n",
       "<tr><td>2</td><td>ExprTuple</td><td>3, 6</td><td><a class=\"ProveItLink\" href=\"../a38a5b22aa2aee38493e9eb66fa66a7b9a76943e0/expr.ipynb\"><img src=\"data:image/png;base64,iVBORw0KGgoAAAANSUhEUgAAAE0AAAAVBAMAAADx+n4ZAAAAMFBMVEX////c3NwiIiJERESqqqqY\n",
       "mJh2dnZmZmYQEBDu7u4yMjJUVFTMzMyIiIi6uroAAAAs73DqAAAAAXRSTlMAQObYZgAAAXpJREFU\n",
       "KM+NkjFIw1AQhv/aJjW2jd0drODg5OZsJwehmEU7qZnaQQoZqgWpWMHFRWMH2zFLh8bBOong0FmX\n",
       "TE4K4qgIWqwgovHei8S+SqhvyPsv9yV393PAf4/qDERW2OMKOMoV+zK127InlFw+jWibVBMwENVE\n",
       "bhrVNhdRYB2wgIQDSYOS8vKH3pVIIWFxtQhUgSVg2ITc8rmMdw21oL5wtca5OvAARD5M2RG4UQPx\n",
       "V64WzlEAwmlsUDDbvYbAjeuIf3IVdpd1QDbQYM26E3+5N09ud5JU0cI+6eylmw7gpPIJNaBW8EXa\n",
       "wOp7QN0sJNdE/JlxNHKoS+82bXvKto9/5uhybo8+0hi3y6fGVr8vEe6LUqHuHVZ3hv5HnZ4KHPks\n",
       "p2CS2gFiSUgW8jRNExFd4DCJelvpkJg3Mcd9uafgsVQUfUGtcAHlgOqoZyWyYuSOF/09GWHj/BRN\n",
       "IOm9qafeQPJVwdurgONzCtudsUDOX/QYayA0eO9vgG82pl3c5mKZNwAAAABJRU5ErkJggg==\n",
       "\" style=\"display:inline;vertical-align:middle;\" /></a></td></tr>\n",
       "<tr><td>3</td><td>Operation</td><td>operator:&nbsp;4<br>operands:&nbsp;5<br></td><td><a class=\"ProveItLink\" href=\"../85a67554ca393c5c55648c0552e3c7aff38d4e9f0/expr.ipynb\"><img src=\"data:image/png;base64,iVBORw0KGgoAAAANSUhEUgAAAC0AAAAQBAMAAABw0OvaAAAAMFBMVEX///+6uroQEBAyMjLMzMzc\n",
       "3NxERESIiIhUVFQiIiKYmJiqqqpmZmZ2dnbu7u4AAAACo3QQAAAAAXRSTlMAQObYZgAAALlJREFU\n",
       "GNNjYHh79zQDCuA7XuMApA4w8CxAEecU4JvCwMC1gIFvAkTgKYSqZGAoZmDgbYCLb4dQMxgY5AMY\n",
       "uH884C1AEf/DwOC/gYEh/1ctA7I461+gOFAlz/+pmOIXGBjWOP/fgEWc6wDD+n9YzGF6wMD6C8g9\n",
       "bGw8ydjYAmrvAoZHQNZxdHfuD2BgCmBgaEURB/rrJgMDtx0D9wUUcc4NfCpASuLMaRR3MvCdrXBA\n",
       "CbDtDNiBOBIbAPOfOTYNz5r+AAAAAElFTkSuQmCC\n",
       "\" style=\"display:inline;vertical-align:middle;\" /></a></td></tr>\n",
       "<tr><td>4</td><td>Literal</td><td></td><td><a class=\"ProveItLink\" href=\"../../../../addition/__pv_it/3e6688136fa3c7aefbebe51301b7c3ebf0b69c440/expr.ipynb\"><img src=\"data:image/png;base64,iVBORw0KGgoAAAANSUhEUgAAAA4AAAAOBAMAAADtZjDiAAAAJFBMVEX///+6urpUVFQQEBAiIiIy\n",
       "MjJmZmaIiIiqqqrc3Nzu7u4AAACgHpL+AAAAAXRSTlMAQObYZgAAAB5JREFUCNdjYGBgWMkAAe2k\n",
       "0Kmhoc6hoUGk6BMHYgAHOwjcado9fwAAAABJRU5ErkJggg==\n",
       "\" style=\"display:inline;vertical-align:middle;\" /></a></td></tr>\n",
       "<tr><td>5</td><td>ExprTuple</td><td>6, 7</td><td><a class=\"ProveItLink\" href=\"../1ea20cf02a5219093a31dfdf54faef6c53f139950/expr.ipynb\"><img src=\"data:image/png;base64,iVBORw0KGgoAAAANSUhEUgAAACkAAAAVBAMAAAAp9toTAAAAMFBMVEX////c3NwiIiJERESqqqqY\n",
       "mJh2dnZmZmYQEBDu7u4yMjJUVFTMzMyIiIi6uroAAAAs73DqAAAAAXRSTlMAQObYZgAAARFJREFU\n",
       "GNNtkStPA0EUhb+l++jwaNZjqAaLZv8Bq8DBBtEqkhVNq5ogkARWEeQaRB38g2oQbBCQAKJBgoCQ\n",
       "FEJIKHd2uktpGDG558vMvWfOwP+rlk2BLb1dwnGjZYDq3vbx+lL1IMYLczozUCuQwkKGE6KWcnoN\n",
       "d7AB1QT3rKDL8OJzAk9gfyWuGfkBVwGVgLaIteFNDq13oRluzKkob1T/pRF2yqGozYtRMEFre3yD\n",
       "E7P9OdFh/lVTsWENy2mhpvtoJ3QLZ+u+7rAqZ304JzGv2JGOKU3x28OO1Jt+caAO0M4eRTx3Wqgj\n",
       "uaHa9xLN7CC/bhItCj3Hica1Uwa8a5L8S5UkyeJYlF8yp1tZ0z/0AD+Fckdb9bgdXwAAAABJRU5E\n",
       "rkJggg==\n",
       "\" style=\"display:inline;vertical-align:middle;\" /></a></td></tr>\n",
       "<tr><td>6</td><td>Literal</td><td></td><td><a class=\"ProveItLink\" href=\"../../../__pv_it/7ca36d8558dd5f18c1e16b5e877a0b7e314926450/expr.ipynb\"><img src=\"data:image/png;base64,iVBORw0KGgoAAAANSUhEUgAAAAoAAAAOBAMAAADkjZCYAAAAMFBMVEX///+6uroQEBAyMjLMzMzc\n",
       "3NxERESIiIhUVFQiIiKYmJiqqqpmZmZ2dnbu7u4AAAACo3QQAAAAAXRSTlMAQObYZgAAAFlJREFU\n",
       "CNdjYHh79zQDA8MBBp4FDFwLGPgmMPA2gEjuHw94CxgY8n/VAmV5/k8Fkmuc/29g4DrAsP4fA9MD\n",
       "BtZfDI+AgscZmAIYGFoZuO0YuC8wMEicOc0AAC98GKTiu3IvAAAAAElFTkSuQmCC\n",
       "\" style=\"display:inline;vertical-align:middle;\" /></a></td></tr>\n",
       "<tr><td>7</td><td>Literal</td><td></td><td><a class=\"ProveItLink\" href=\"../../../__pv_it/ec23fc7a1b4222a5f4948b495002b97d6fa18c3c0/expr.ipynb\"><img src=\"data:image/png;base64,iVBORw0KGgoAAAANSUhEUgAAAAoAAAAOBAMAAADkjZCYAAAALVBMVEX///8QEBCYmJh2dnaqqqrc\n",
       "3NxUVFQyMjK6uroiIiLMzMyIiIhmZmbu7u4AAAAZjyHdAAAAAXRSTlMAQObYZgAAAEpJREFUCNdj\n",
       "YLiz+xQDA8MMhpsLGLgnMHAXMHAmMHA8ZeA7wMD1hCHOgIHrNZh8jES+Bss+AqlkeQrSxTyBgWEK\n",
       "w8UFDAx3rLMYAMCjFldHSx/9AAAAAElFTkSuQmCC\n",
       "\" style=\"display:inline;vertical-align:middle;\" /></a></td></tr>\n",
       "</table>\n"
      ],
      "text/plain": [
       "0. (8 + 0) = 8\n",
       "   core type: Operation\n",
       "   operator: 1\n",
       "   operands: 2\n",
       "1. =\n",
       "   core type: Literal\n",
       "   sub-expressions: \n",
       "2. (8 + 0 , 8)\n",
       "   core type: ExprTuple\n",
       "   sub-expressions: 3, 6\n",
       "3. 8 + 0\n",
       "   core type: Operation\n",
       "   operator: 4\n",
       "   operands: 5\n",
       "4. +\n",
       "   core type: Literal\n",
       "   sub-expressions: \n",
       "5. (8 , 0)\n",
       "   core type: ExprTuple\n",
       "   sub-expressions: 6, 7\n",
       "6. 8\n",
       "   core type: Literal\n",
       "   sub-expressions: \n",
       "7. 0\n",
       "   core type: Literal\n",
       "   sub-expressions: "
      ]
     },
     "execution_count": 3,
     "metadata": {},
     "output_type": "execute_result"
    }
   ],
   "source": [
    "# display the expression information\n",
    "add_8_0.exprInfo()"
   ]
  },
  {
   "cell_type": "code",
   "execution_count": null,
   "metadata": {},
   "outputs": [],
   "source": []
  }
 ],
 "metadata": {
  "kernelspec": {
   "display_name": "Python 3",
   "language": "python",
   "name": "python3"
  }
 },
 "nbformat": 4,
 "nbformat_minor": 0
}
