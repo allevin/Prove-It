{
 "cells": [
  {
   "cell_type": "markdown",
   "metadata": {},
   "source": [
    "Expression of type <a class=\"ProveItLink\" href=\"../../../../../../../doc/html/api/proveit.ExprTuple.html\">ExprTuple</a>\n",
    "=======================\n",
    "# from context <a class=\"ProveItLink\" href=\"../../_context_.ipynb\">proveit.number.numeral.deci</a>"
   ]
  },
  {
   "cell_type": "code",
   "execution_count": 1,
   "metadata": {},
   "outputs": [],
   "source": [
    "# import Expression classes needed to build the expression\n",
    "from proveit import ExprTuple\n",
    "from proveit.number import DecimalSequence, Mult, five, four, nine"
   ]
  },
  {
   "cell_type": "code",
   "execution_count": 2,
   "metadata": {},
   "outputs": [
    {
     "data": {
      "text/html": [
       "<strong id=\"expr\">expr:</strong> <a class=\"ProveItLink\" href=\"expr.ipynb\"><img src=\"data:image/png;base64,iVBORw0KGgoAAAANSUhEUgAAAE0AAAAVBAMAAADx+n4ZAAAAMFBMVEX////c3NwiIiJERESqqqqY\n",
       "mJh2dnZmZmYQEBDu7u4yMjJUVFTMzMyIiIi6uroAAAAs73DqAAAAAXRSTlMAQObYZgAAAZBJREFU\n",
       "KM+NkrFLw0AUxr/YNE3SVjKp4NI/IYiCTnZ0cIiLoKB0EBxU2skKHdqKm6AZi0u7FNGpIqhQtN0c\n",
       "XIKTYEujo5MiKIi0vsv1SgOFesPley+/u/fuuwP+O0adocg6mx6Asj0WFznteqsudKQCfUXaQIhl\n",
       "zoDjzldv7URcygs9YkLtdBJACYhS2dOr3haYBS6FfjKhZ7ZJLAOqDVT6evkBkjaX0qqJsKcKwBt8\n",
       "nPYJtFyuFV1wgTh26XPbvPPtZ3G5xLjmM61SUihTYg5FV3B7wDx3SnOIC9haG5BLOPJy4Rz7wfo6\n",
       "seQs5xQQR+OGPM6hzXO/NBVjTK41WtzMxS6XrCPyzrhADArDCyYvzc+rJRg3RaHLuAOyJobQR581\n",
       "594sV6u1Q2cfyBqs7gwQAvSSgFqG1IbGtWoi5S0LlrBJfqawYAju0dadbqeMG4ec93x5pfg+c9Er\n",
       "qqSnqVOvDaX2bUXSVdpCd6Eag17Siz+kewsmBnGWP9zh72oYp7FTTg7Aov4wzHqThr/7BvAHQ29j\n",
       "mblPpAcAAAAASUVORK5CYII=\n",
       "\" style=\"display:inline;vertical-align:middle;\" /></a><br>"
      ],
      "text/plain": [
       "expr: (5 * 9 , 45)"
      ]
     },
     "execution_count": 2,
     "metadata": {},
     "output_type": "execute_result"
    }
   ],
   "source": [
    "# build up the expression from sub-expressions\n",
    "expr = ExprTuple(Mult(five, nine), DecimalSequence(four, five))"
   ]
  },
  {
   "cell_type": "code",
   "execution_count": 3,
   "metadata": {},
   "outputs": [
    {
     "name": "stdout",
     "output_type": "stream",
     "text": [
      "Passed sanity check: built 'expr' is the same as the stored Expression.\n"
     ]
    }
   ],
   "source": [
    "# check that the built expression is the same as the stored expression\n",
    "%check_expr"
   ]
  },
  {
   "cell_type": "code",
   "execution_count": 4,
   "metadata": {},
   "outputs": [
    {
     "data": {
      "text/html": [
       "<table><tr><th>&nbsp;</th><th>core type</th><th>sub-expressions</th><th>expression</th></tr>\n",
       "<tr><td>0</td><td>ExprTuple</td><td>1, 2</td><td><a class=\"ProveItLink\" href=\"expr.ipynb\"><img src=\"data:image/png;base64,iVBORw0KGgoAAAANSUhEUgAAAE0AAAAVBAMAAADx+n4ZAAAAMFBMVEX////c3NwiIiJERESqqqqY\n",
       "mJh2dnZmZmYQEBDu7u4yMjJUVFTMzMyIiIi6uroAAAAs73DqAAAAAXRSTlMAQObYZgAAAZBJREFU\n",
       "KM+NkrFLw0AUxr/YNE3SVjKp4NI/IYiCTnZ0cIiLoKB0EBxU2skKHdqKm6AZi0u7FNGpIqhQtN0c\n",
       "XIKTYEujo5MiKIi0vsv1SgOFesPley+/u/fuuwP+O0adocg6mx6Asj0WFznteqsudKQCfUXaQIhl\n",
       "zoDjzldv7URcygs9YkLtdBJACYhS2dOr3haYBS6FfjKhZ7ZJLAOqDVT6evkBkjaX0qqJsKcKwBt8\n",
       "nPYJtFyuFV1wgTh26XPbvPPtZ3G5xLjmM61SUihTYg5FV3B7wDx3SnOIC9haG5BLOPJy4Rz7wfo6\n",
       "seQs5xQQR+OGPM6hzXO/NBVjTK41WtzMxS6XrCPyzrhADArDCyYvzc+rJRg3RaHLuAOyJobQR581\n",
       "594sV6u1Q2cfyBqs7gwQAvSSgFqG1IbGtWoi5S0LlrBJfqawYAju0dadbqeMG4ec93x5pfg+c9Er\n",
       "qqSnqVOvDaX2bUXSVdpCd6Eag17Siz+kewsmBnGWP9zh72oYp7FTTg7Aov4wzHqThr/7BvAHQ29j\n",
       "mblPpAcAAAAASUVORK5CYII=\n",
       "\" style=\"display:inline;vertical-align:middle;\" /></a></td></tr>\n",
       "<tr><td>1</td><td>Operation</td><td>operator:&nbsp;3<br>operands:&nbsp;4<br></td><td><a class=\"ProveItLink\" href=\"../533fcd37c49f11435c9bb8e60742b7758dada0a40/expr.ipynb\"><img src=\"data:image/png;base64,iVBORw0KGgoAAAANSUhEUgAAACIAAAAOBAMAAAC4B9O8AAAAMFBMVEX///8iIiJERES6urqIiIjM\n",
       "zMxUVFRmZmYQEBCqqqp2dnbc3Nzu7u6YmJgyMjIAAADYGhJvAAAAAXRSTlMAQObYZgAAAKBJREFU\n",
       "CNdj4LvDvZIBBo5VpTIwcPz/vwAmwN3JsGMDA1/ZUrgSpgYGNgUGNgYE4H/AwPUHReS8AgPLZwY2\n",
       "FzcDZDV/GZgO8HyGibA3MDB9ATEyQMQZIOZ5yzAdLLI+AMj5CGLxuoT8ZFAEigAN4mmCaATa1cjA\n",
       "UL8BYR3fA4YCBoZ3MC7Lb4b9BgzbGTi74SIyDE8YGFjL0xCalhdNYAAAA8co7DzzpScAAAAASUVO\n",
       "RK5CYII=\n",
       "\" style=\"display:inline;vertical-align:middle;\" /></a></td></tr>\n",
       "<tr><td>2</td><td>Operation</td><td>operator:&nbsp;5<br>operands:&nbsp;6<br></td><td><a class=\"ProveItLink\" href=\"../62b1456604166e5b954e6ba48eb1e8171fdbc80e0/expr.ipynb\"><img src=\"data:image/png;base64,iVBORw0KGgoAAAANSUhEUgAAABQAAAAPBAMAAAAWtvJmAAAAMFBMVEX///+6urpmZmaqqqru7u52\n",
       "dnYyMjKYmJjc3NwQEBCIiIhEREQiIiJUVFTMzMwAAACQ7J58AAAAAXRSTlMAQObYZgAAAIJJREFU\n",
       "CNdjYGBgeMvAkO7QagBkMZxmYJj//yuIxTWbgSHp6gMQsz2bgeECAxgEwJnsDUDmrVUXgUwvBiBz\n",
       "C4O/AFAexGRg4J3AwPwAwmT9x+DKAGRyH2Bg/chge/fuz1ucBxiYfoDkZjMwMTCwJUCYHAoMlg1A\n",
       "Vux/dYZHujcYkAAAkb8iULeWZCQAAAAASUVORK5CYII=\n",
       "\" style=\"display:inline;vertical-align:middle;\" /></a></td></tr>\n",
       "<tr><td>3</td><td>Literal</td><td></td><td><a class=\"ProveItLink\" href=\"../../../../multiplication/__pv_it/21fd2079611555ecce512d99547a00d551e6b86b0/expr.ipynb\"><img src=\"data:image/png;base64,iVBORw0KGgoAAAANSUhEUgAAAAMAAAADBAMAAACkBqiMAAAAElBMVEX///9EREQQEBAiIiLu7u4A\n",
       "AABGBidwAAAAAXRSTlMAQObYZgAAABFJREFUCNdjYHFgcDVgcBIAAASWAQx4jI0xAAAAAElFTkSu\n",
       "QmCC\n",
       "\" style=\"display:inline;vertical-align:middle;\" /></a></td></tr>\n",
       "<tr><td>4</td><td>ExprTuple</td><td>9, 7</td><td><a class=\"ProveItLink\" href=\"../fb7efb0a799d95228a7549263b91596104df512d0/expr.ipynb\"><img src=\"data:image/png;base64,iVBORw0KGgoAAAANSUhEUgAAACkAAAAVBAMAAAAp9toTAAAAMFBMVEX////c3NwiIiJERESqqqqY\n",
       "mJh2dnZmZmYQEBDu7u4yMjJUVFTMzMyIiIi6uroAAAAs73DqAAAAAXRSTlMAQObYZgAAARhJREFU\n",
       "GNNtkb9Lw0AYhp/QJumlWjKJ4NI/QkEnMzp2clPcHETspIKDFZxtRnExSxGdFEEnJVsHl+BcSXB0\n",
       "8gc4iFS/S3otFm+4+96Hu5f3+w7+X7VkDKzq7QE64VSQA3W7EePGUp1D++ezuDYdWAcQwaQYnN3E\n",
       "BZ2Ha1iGSgiXxvILtkKO4YURVR+QZpQCtkXdPd2P7jZwmnRELHCa5XQXFhPKEUe5rLby46RR3k+o\n",
       "tejn0vkuLFZ6acDEq6alOk7fxJAMQg8lXB33zdALtMMcuOBFSG5S35JHdsQ6WE2WfPUu9DH0pFVJ\n",
       "9iyiu3eFavuid2ZFehkV30zUFLpje21Q28MBbxaT/EuVTJKZgRh+SVVbWeM/1INfZYpE/kryXuwA\n",
       "AAAASUVORK5CYII=\n",
       "\" style=\"display:inline;vertical-align:middle;\" /></a></td></tr>\n",
       "<tr><td>5</td><td>Literal</td><td></td><td><a class=\"ProveItLink\" href=\"../b28e6317a1d330492d51cd67ccba81d4d210b8b30/expr.ipynb\"><img src=\"data:image/png;base64,iVBORw0KGgoAAAANSUhEUgAAAE8AAAAOBAMAAACcHlx8AAAAMFBMVEX///8iIiIQEBCYmJjc3Ny6\n",
       "urru7u5mZmZ2dnaqqqrMzMxEREQyMjJUVFSIiIgAAABUCcz6AAAAAXRSTlMAQObYZgAAAWhJREFU\n",
       "KM99kL9Lw3AQxV/bNE1s0rh1VNTBqWR2sAXdEwRns9XJtFsRwSxVx/oXNLgqNKugtLsgHQVtDWLt\n",
       "IEahVrT+vIsK1qEH+QS+PN67ewDuPlutExd/JtnA8EgTJv/eAPllSOj/EyLLGHsmbFoYNRuMVJ9Q\n",
       "80cKM2HQA8FojtIJA6bmsWMTQqmbg7gTuKslxG8Xg7N4cEiadnkGMfb6Ts062M0JBeyZyrizAkk9\n",
       "hV1GFVjKUaLKXrjnai5NoY+EK2aQnKsUsRzxYPskFHpIeIiGF9QZU1Cn56+hUoZIq1u2iapFx9JD\n",
       "xEctrPmVvlgPWuF3X/kJrCoCs/xgu7gKa/wgRD1obG8wlCZ7IY34o2hwvnUsco18+pEV7uFrOqAb\n",
       "pkNeYh9qY8Gu4EJ2e9JPjQcUm2ogn1MLkNyqoNNlVIniO4oupyUM1oB8/b11vs47bAfkWQpukAwQ\n",
       "n4TkQW67Qruz30F3C18Fz3drZAxLCAAAAABJRU5ErkJggg==\n",
       "\" style=\"display:inline;vertical-align:middle;\" /></a></td></tr>\n",
       "<tr><td>6</td><td>ExprTuple</td><td>8, 9</td><td><a class=\"ProveItLink\" href=\"../907f69467dae02797c7f89afc38a31a3a94605a00/expr.ipynb\"><img src=\"data:image/png;base64,iVBORw0KGgoAAAANSUhEUgAAACkAAAAVBAMAAAAp9toTAAAAMFBMVEX////c3NwiIiJERESqqqqY\n",
       "mJh2dnZmZmYQEBDu7u4yMjJUVFTMzMyIiIi6uroAAAAs73DqAAAAAXRSTlMAQObYZgAAAPxJREFU\n",
       "GNNjYMAO+C6gCcSBiNNwgoGBK5IxhYH9AJC1EsRVhohy/P+fwMCwgIGBF2QAbzNUbXUOkAwDSk8A\n",
       "0qKLIaLcYHIGA8MrEJ2AIsrswFAGpFgFYKJ3bz9gYGArYFgK5MxlgIoyT+D8x8DAsoChD2QATBQI\n",
       "dgB90MAAkjuAJJp/gIHnA0h0GgNM1Ago+gAk2sLA4L1794+9YNEmBoZ6AZAJpmAu0BcgdxcwMKwC\n",
       "OmkBQzpUlPMTkBJnYGkEu+wRSDD7fylnvwADA0/5biDJ9YCBQwAWojAGyMesCVA2K9xxubCQRBbl\n",
       "BIYkgzSUA48SbpBRjOgxdIeBAQCbCDqCorR+RQAAAABJRU5ErkJggg==\n",
       "\" style=\"display:inline;vertical-align:middle;\" /></a></td></tr>\n",
       "<tr><td>7</td><td>Literal</td><td></td><td><a class=\"ProveItLink\" href=\"../../../__pv_it/cdcd6ad997b4d5c13a719b005810863ba48ff0c70/expr.ipynb\"><img src=\"data:image/png;base64,iVBORw0KGgoAAAANSUhEUgAAAAoAAAAOBAMAAADkjZCYAAAAMFBMVEX///8iIiKYmJi6urqIiIgy\n",
       "MjJERESqqqoQEBDc3NzMzMx2dnZmZmZUVFTu7u4AAABn2L4sAAAAAXRSTlMAQObYZgAAAFVJREFU\n",
       "CNdjYHh7+hYDA2c7w4wJDGwNDLwJDPwBDNz/GN4nMLB8BrM/MfA0MLB9YeALYqj5wsDA5LLkOwMQ\n",
       "ANUAAWsAA8tPhvkGDCxyDCFA/p5jBQwAtzwVEbGPESsAAAAASUVORK5CYII=\n",
       "\" style=\"display:inline;vertical-align:middle;\" /></a></td></tr>\n",
       "<tr><td>8</td><td>Literal</td><td></td><td><a class=\"ProveItLink\" href=\"../../../__pv_it/23412ce59ea7e77353d2f9225e02248e73651ca00/expr.ipynb\"><img src=\"data:image/png;base64,iVBORw0KGgoAAAANSUhEUgAAAAoAAAAPBAMAAAAv0UM9AAAALVBMVEX///9mZmaqqqru7u52dnYy\n",
       "MjKYmJjc3NwQEBCIiIhEREQiIiJUVFTMzMwAAACUDTcXAAAAAXRSTlMAQObYZgAAAD5JREFUCNdj\n",
       "YGBguMMAArtABGcXiCyLApEOIJKtAERaMoBIBxDJdAFEmjCASJ0zZ16cBCkF64KQPu/EwBwGACv6\n",
       "DSRgin9qAAAAAElFTkSuQmCC\n",
       "\" style=\"display:inline;vertical-align:middle;\" /></a></td></tr>\n",
       "<tr><td>9</td><td>Literal</td><td></td><td><a class=\"ProveItLink\" href=\"../../../__pv_it/aaeeaca7d86eb2b7cdc49e25c3108b81b52ec5400/expr.ipynb\"><img src=\"data:image/png;base64,iVBORw0KGgoAAAANSUhEUgAAAAkAAAAOBAMAAAAPuiubAAAAMFBMVEX///8iIiJERES6urqIiIjM\n",
       "zMxUVFRmZmYQEBCqqqp2dnbc3Nzu7u6YmJgyMjIAAADYGhJvAAAAAXRSTlMAQObYZgAAAE1JREFU\n",
       "CNdj4LvDvZKBgeP//wUMDHxlSxkYGNgYGBCki5sBAwPTAZ7PYG4GmFwfwKAIJA0YGhkY6jcwFDAw\n",
       "vGNg2M7A2c3AwFqetoEBAKS8EE1WXEJLAAAAAElFTkSuQmCC\n",
       "\" style=\"display:inline;vertical-align:middle;\" /></a></td></tr>\n",
       "</table>\n"
      ],
      "text/plain": [
       "0. (5 * 9 , 45)\n",
       "   core type: ExprTuple\n",
       "   sub-expressions: 1, 2\n",
       "1. 5 * 9\n",
       "   core type: Operation\n",
       "   operator: 3\n",
       "   operands: 4\n",
       "2. 45\n",
       "   core type: Operation\n",
       "   operator: 5\n",
       "   operands: 6\n",
       "3. *\n",
       "   core type: Literal\n",
       "   sub-expressions: \n",
       "4. (5 , 9)\n",
       "   core type: ExprTuple\n",
       "   sub-expressions: 9, 7\n",
       "5. Decimal\n",
       "   core type: Literal\n",
       "   sub-expressions: \n",
       "6. (4 , 5)\n",
       "   core type: ExprTuple\n",
       "   sub-expressions: 8, 9\n",
       "7. 9\n",
       "   core type: Literal\n",
       "   sub-expressions: \n",
       "8. 4\n",
       "   core type: Literal\n",
       "   sub-expressions: \n",
       "9. 5\n",
       "   core type: Literal\n",
       "   sub-expressions: "
      ]
     },
     "execution_count": 4,
     "metadata": {},
     "output_type": "execute_result"
    }
   ],
   "source": [
    "# display the expression information\n",
    "expr.exprInfo()"
   ]
  },
  {
   "cell_type": "code",
   "execution_count": null,
   "metadata": {},
   "outputs": [],
   "source": []
  }
 ],
 "metadata": {
  "kernelspec": {
   "display_name": "Python 3",
   "language": "python",
   "name": "python3"
  }
 },
 "nbformat": 4,
 "nbformat_minor": 0
}
