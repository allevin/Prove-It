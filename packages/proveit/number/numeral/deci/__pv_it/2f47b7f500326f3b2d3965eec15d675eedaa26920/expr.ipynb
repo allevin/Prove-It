{
 "cells": [
  {
   "cell_type": "markdown",
   "metadata": {},
   "source": [
    "Expression of type <a class=\"ProveItLink\" href=\"../../../../../../../doc/html/api/proveit.ExprTuple.html\">ExprTuple</a>\n",
    "=======================\n",
    "# from context <a class=\"ProveItLink\" href=\"../../_context_.ipynb\">proveit.number.numeral.deci</a>"
   ]
  },
  {
   "cell_type": "code",
   "execution_count": 1,
   "metadata": {},
   "outputs": [],
   "source": [
    "# import Expression classes needed to build the expression\n",
    "from proveit import ExprTuple\n",
    "from proveit.number import DecimalSequence, Mult, five, one, two, zero"
   ]
  },
  {
   "cell_type": "code",
   "execution_count": 2,
   "metadata": {},
   "outputs": [
    {
     "data": {
      "text/html": [
       "<strong id=\"expr\">expr:</strong> <a class=\"ProveItLink\" href=\"expr.ipynb\"><img src=\"data:image/png;base64,iVBORw0KGgoAAAANSUhEUgAAAE0AAAAVBAMAAADx+n4ZAAAAMFBMVEX////c3NwiIiJERESqqqqY\n",
       "mJh2dnZmZmYQEBDu7u4yMjJUVFTMzMyIiIi6uroAAAAs73DqAAAAAXRSTlMAQObYZgAAAXNJREFU\n",
       "KM+Nkr9Lw1AQxz/pD9s0rcSpg0snFx1EcHCR/AfWRXCRImIXxS5WUcQfuAgiBZeCgwVx0MlR6NLN\n",
       "waHFRbCK0dHFuih1aHwvbVJSKzXDcfe9z3vv7nLw36+/0hOZk+YW4huTrhaZVRYcfwLUrfsSoZII\n",
       "LlCueDacXNiyUi33uA4+Ux2BAsQqaDl8Nfe+zaWWd1IU3B08wIw4nyN8gNZwOK1dVkxww/Cuk4c3\n",
       "cUWd0F/cF5QN/AZZW/LVXe6parY55VNwFfoynNtS2akdf05tdHApAgWObOlMGjXXzF//4vp3sA+H\n",
       "RqU9TTTzK6XOd6O1Jle19bykxwRnevtISm5fCIEMA059e7Cte+Yypct3x4VwA9MOl4FLVJcTc56H\n",
       "YIE0KEOL6YTDxQnstiqVnM9QD5FzeRW+ZVkuF10rivl/yObWv1dRs1XRVcQkrHfbpBdvKP5bMNWN\n",
       "S3rDZXuvenKq2CsGu2Axb6jJ2pTee/8IP3p8aC/hQciZAAAAAElFTkSuQmCC\n",
       "\" style=\"display:inline;vertical-align:middle;\" /></a><br>"
      ],
      "text/plain": [
       "expr: (2 * 5 , 10)"
      ]
     },
     "execution_count": 2,
     "metadata": {},
     "output_type": "execute_result"
    }
   ],
   "source": [
    "# build up the expression from sub-expressions\n",
    "expr = ExprTuple(Mult(two, five), DecimalSequence(one, zero))"
   ]
  },
  {
   "cell_type": "code",
   "execution_count": 3,
   "metadata": {},
   "outputs": [
    {
     "name": "stdout",
     "output_type": "stream",
     "text": [
      "Passed sanity check: built 'expr' is the same as the stored Expression.\n"
     ]
    }
   ],
   "source": [
    "# check that the built expression is the same as the stored expression\n",
    "%check_expr"
   ]
  },
  {
   "cell_type": "code",
   "execution_count": 4,
   "metadata": {},
   "outputs": [
    {
     "data": {
      "text/html": [
       "<table><tr><th>&nbsp;</th><th>core type</th><th>sub-expressions</th><th>expression</th></tr>\n",
       "<tr><td>0</td><td>ExprTuple</td><td>1, 2</td><td><a class=\"ProveItLink\" href=\"expr.ipynb\"><img src=\"data:image/png;base64,iVBORw0KGgoAAAANSUhEUgAAAE0AAAAVBAMAAADx+n4ZAAAAMFBMVEX////c3NwiIiJERESqqqqY\n",
       "mJh2dnZmZmYQEBDu7u4yMjJUVFTMzMyIiIi6uroAAAAs73DqAAAAAXRSTlMAQObYZgAAAXNJREFU\n",
       "KM+Nkr9Lw1AQxz/pD9s0rcSpg0snFx1EcHCR/AfWRXCRImIXxS5WUcQfuAgiBZeCgwVx0MlR6NLN\n",
       "waHFRbCK0dHFuih1aHwvbVJSKzXDcfe9z3vv7nLw36+/0hOZk+YW4huTrhaZVRYcfwLUrfsSoZII\n",
       "LlCueDacXNiyUi33uA4+Ux2BAsQqaDl8Nfe+zaWWd1IU3B08wIw4nyN8gNZwOK1dVkxww/Cuk4c3\n",
       "cUWd0F/cF5QN/AZZW/LVXe6parY55VNwFfoynNtS2akdf05tdHApAgWObOlMGjXXzF//4vp3sA+H\n",
       "RqU9TTTzK6XOd6O1Jle19bykxwRnevtISm5fCIEMA059e7Cte+Yypct3x4VwA9MOl4FLVJcTc56H\n",
       "YIE0KEOL6YTDxQnstiqVnM9QD5FzeRW+ZVkuF10rivl/yObWv1dRs1XRVcQkrHfbpBdvKP5bMNWN\n",
       "S3rDZXuvenKq2CsGu2Axb6jJ2pTee/8IP3p8aC/hQciZAAAAAElFTkSuQmCC\n",
       "\" style=\"display:inline;vertical-align:middle;\" /></a></td></tr>\n",
       "<tr><td>1</td><td>Operation</td><td>operator:&nbsp;3<br>operands:&nbsp;4<br></td><td><a class=\"ProveItLink\" href=\"../f1d7da814c6ee251ae56adf1aaa5d5f349b80e220/expr.ipynb\"><img src=\"data:image/png;base64,iVBORw0KGgoAAAANSUhEUgAAACIAAAAOBAMAAAC4B9O8AAAAMFBMVEX///+YmJh2dnbMzMwQEBAi\n",
       "IiLu7u6qqqqIiIhUVFS6urpEREQyMjJmZmbc3NwAAACOMKdoAAAAAXRSTlMAQObYZgAAAKBJREFU\n",
       "CNdj4Lt7egEDDBxMeFTA8JKB4ztcxP//JwaGaQwM8XCRs5MMGBhcEhjmw7VNABHnExjuo4oAQXwC\n",
       "TGRGxywQxfwJbs42hnyQep4NIE4aRIzTAUjcBrHYvkJEmD4zMHCAjWPzBhLcAQxMvxgYahn4HkCN\n",
       "YQlg4P3HwHyBgREmwgs09ADDUyWlqzCr+C4wlDxgiP///yvcdtub8xgAVUcrXcrb78AAAAAASUVO\n",
       "RK5CYII=\n",
       "\" style=\"display:inline;vertical-align:middle;\" /></a></td></tr>\n",
       "<tr><td>2</td><td>Operation</td><td>operator:&nbsp;5<br>operands:&nbsp;6<br></td><td><a class=\"ProveItLink\" href=\"../c5da19b219d745a4ac8838c1f2c02144cfa309910/expr.ipynb\"><img src=\"data:image/png;base64,iVBORw0KGgoAAAANSUhEUgAAABMAAAAPBAMAAAD0aukfAAAAMFBMVEX///92dnaqqqrc3Ny6uroi\n",
       "IiLMzMyYmJgyMjIQEBBmZmaIiIhUVFTu7u5EREQAAABoVq1WAAAAAXRSTlMAQObYZgAAAGVJREFU\n",
       "CNdjYGB4y8DAu3pXAgMDw72/DAysDrxhDAx3zgCZWxkYdgBFuYHMGAYGfwMI8xcDQ74CmMn8Ecjc\n",
       "gGAKYGVuQGgrgBumDzUMaIUo1ApWBd5pDAxcK38sZ+BduAfkHDgAABOZJVe5GJEqAAAAAElFTkSu\n",
       "QmCC\n",
       "\" style=\"display:inline;vertical-align:middle;\" /></a></td></tr>\n",
       "<tr><td>3</td><td>Literal</td><td></td><td><a class=\"ProveItLink\" href=\"../../../../multiplication/__pv_it/21fd2079611555ecce512d99547a00d551e6b86b0/expr.ipynb\"><img src=\"data:image/png;base64,iVBORw0KGgoAAAANSUhEUgAAAAMAAAADBAMAAACkBqiMAAAAElBMVEX///9EREQQEBAiIiLu7u4A\n",
       "AABGBidwAAAAAXRSTlMAQObYZgAAABFJREFUCNdjYHFgcDVgcBIAAASWAQx4jI0xAAAAAElFTkSu\n",
       "QmCC\n",
       "\" style=\"display:inline;vertical-align:middle;\" /></a></td></tr>\n",
       "<tr><td>4</td><td>ExprTuple</td><td>7, 8</td><td><a class=\"ProveItLink\" href=\"../6920faa293f385a3e49f52daa7274db20cf07a180/expr.ipynb\"><img src=\"data:image/png;base64,iVBORw0KGgoAAAANSUhEUgAAACkAAAAVBAMAAAAp9toTAAAAMFBMVEX////c3NwiIiJERESqqqqY\n",
       "mJh2dnZmZmYQEBDu7u4yMjJUVFTMzMyIiIi6uroAAAAs73DqAAAAAXRSTlMAQObYZgAAARBJREFU\n",
       "GNNtka9Pw0AUxz8dLW3XQYqawEyhCQmW7F/AkGBIBWEGQhUkIPgRDAYqkU0IAhSSBDOHQGx+EBok\n",
       "asHNcLy76xrScOLl+/3cu5f33sH/Z35YA1s6vEL7aM2C5qazjd8XdY/zyEfX0ECpBHKYGxJlNMY2\n",
       "93hX4oZcZwSXRD+GRibewJdkTPD/0pkuB0Y0Jpa+jwqYTbkzdpDYrCyUR27OlbG3VbdPMsEppqC/\n",
       "XNH9Pq2xpaMSrQgtNL0Q46YsGHoOJ7GusCrmBdbJRKTwAF5OD5ylnV4n/Bbaxj0znX1Ks0qpTngd\n",
       "Q+vwWWKzIIinG50KPbGXlNqrmtszm6zRUDbJYmmqL4l0Kaf+Q2/wC6igPNC0s0wRAAAAAElFTkSu\n",
       "QmCC\n",
       "\" style=\"display:inline;vertical-align:middle;\" /></a></td></tr>\n",
       "<tr><td>5</td><td>Literal</td><td></td><td><a class=\"ProveItLink\" href=\"../b28e6317a1d330492d51cd67ccba81d4d210b8b30/expr.ipynb\"><img src=\"data:image/png;base64,iVBORw0KGgoAAAANSUhEUgAAAE8AAAAOBAMAAACcHlx8AAAAMFBMVEX///8iIiIQEBCYmJjc3Ny6\n",
       "urru7u5mZmZ2dnaqqqrMzMxEREQyMjJUVFSIiIgAAABUCcz6AAAAAXRSTlMAQObYZgAAAWhJREFU\n",
       "KM99kL9Lw3AQxV/bNE1s0rh1VNTBqWR2sAXdEwRns9XJtFsRwSxVx/oXNLgqNKugtLsgHQVtDWLt\n",
       "IEahVrT+vIsK1qEH+QS+PN67ewDuPlutExd/JtnA8EgTJv/eAPllSOj/EyLLGHsmbFoYNRuMVJ9Q\n",
       "80cKM2HQA8FojtIJA6bmsWMTQqmbg7gTuKslxG8Xg7N4cEiadnkGMfb6Ts062M0JBeyZyrizAkk9\n",
       "hV1GFVjKUaLKXrjnai5NoY+EK2aQnKsUsRzxYPskFHpIeIiGF9QZU1Cn56+hUoZIq1u2iapFx9JD\n",
       "xEctrPmVvlgPWuF3X/kJrCoCs/xgu7gKa/wgRD1obG8wlCZ7IY34o2hwvnUsco18+pEV7uFrOqAb\n",
       "pkNeYh9qY8Gu4EJ2e9JPjQcUm2ogn1MLkNyqoNNlVIniO4oupyUM1oB8/b11vs47bAfkWQpukAwQ\n",
       "n4TkQW67Qruz30F3C18Fz3drZAxLCAAAAABJRU5ErkJggg==\n",
       "\" style=\"display:inline;vertical-align:middle;\" /></a></td></tr>\n",
       "<tr><td>6</td><td>ExprTuple</td><td>9, 10</td><td><a class=\"ProveItLink\" href=\"../c36f3d09113341b3142bc662288ad6b85b3a940a0/expr.ipynb\"><img src=\"data:image/png;base64,iVBORw0KGgoAAAANSUhEUgAAACkAAAAVBAMAAAAp9toTAAAAMFBMVEX////c3NwiIiJERESqqqqY\n",
       "mJh2dnZmZmYQEBDu7u4yMjJUVFTMzMyIiIi6uroAAAAs73DqAAAAAXRSTlMAQObYZgAAAORJREFU\n",
       "GNNjYMAO+C6gCcSBiNNAzDwBIsBZe/0AA/sBIGslkGMPFWV6wKnDwLCAgYH3AgPn7v1Q0UsMDLcY\n",
       "GMIYGDhAAvehotoMDO8FGGYwMLxiQBL9zsBw3oGB2YGhDEmU8RtQ9AIDWwHDUnTRBAaWBQx9mKJ8\n",
       "DQz/ME3g+YAiCrYtACTawoDqMn8BkAmmMNEJEF8kMTCwLmBIh4pyfgL52IGzhwHkskdATnn/8gDO\n",
       "fgFggJTdBgYN1wMGDgFYiMIYIB+zJkDZrPAAzoWEJKooJzAkGaShHHiUcIOMYkSPoTsMDAA7aUeC\n",
       "nMq5UgAAAABJRU5ErkJggg==\n",
       "\" style=\"display:inline;vertical-align:middle;\" /></a></td></tr>\n",
       "<tr><td>7</td><td>Literal</td><td></td><td><a class=\"ProveItLink\" href=\"../../../__pv_it/77d407a64829263cdc16415becd4c2293f77a4bf0/expr.ipynb\"><img src=\"data:image/png;base64,iVBORw0KGgoAAAANSUhEUgAAAAkAAAAOBAMAAAAPuiubAAAAMFBMVEX///+YmJh2dnbMzMwQEBAi\n",
       "IiLu7u6qqqqIiIhUVFS6urpEREQyMjJmZmbc3NwAAACOMKdoAAAAAXRSTlMAQObYZgAAAFBJREFU\n",
       "CNdj4Lt7egEDw0sGju8MDNMYGOIZGFwSGOYvYDifwHAfKAEUSQASzJ9ATJ4NIPI2iOCYACJrGfge\n",
       "MDBfYGB8wPBUSekqUPH//18ZAIliFhc3zESNAAAAAElFTkSuQmCC\n",
       "\" style=\"display:inline;vertical-align:middle;\" /></a></td></tr>\n",
       "<tr><td>8</td><td>Literal</td><td></td><td><a class=\"ProveItLink\" href=\"../../../__pv_it/aaeeaca7d86eb2b7cdc49e25c3108b81b52ec5400/expr.ipynb\"><img src=\"data:image/png;base64,iVBORw0KGgoAAAANSUhEUgAAAAkAAAAOBAMAAAAPuiubAAAAMFBMVEX///8iIiJERES6urqIiIjM\n",
       "zMxUVFRmZmYQEBCqqqp2dnbc3Nzu7u6YmJgyMjIAAADYGhJvAAAAAXRSTlMAQObYZgAAAE1JREFU\n",
       "CNdj4LvDvZKBgeP//wUMDHxlSxkYGNgYGBCki5sBAwPTAZ7PYG4GmFwfwKAIJA0YGhkY6jcwFDAw\n",
       "vGNg2M7A2c3AwFqetoEBAKS8EE1WXEJLAAAAAElFTkSuQmCC\n",
       "\" style=\"display:inline;vertical-align:middle;\" /></a></td></tr>\n",
       "<tr><td>9</td><td>Literal</td><td></td><td><a class=\"ProveItLink\" href=\"../../../__pv_it/9be8badea4c35b9724062cecc501d17a3158d1d20/expr.ipynb\"><img src=\"data:image/png;base64,iVBORw0KGgoAAAANSUhEUgAAAAgAAAAPBAMAAAArJJMAAAAAHlBMVEX///+YmJgyMjIQEBBmZmaI\n",
       "iIhUVFTu7u5EREQAAAAw+MI4AAAAAXRSTlMAQObYZgAAACFJREFUCNdjYGBoZ2BgqJjOwFCWBiQY\n",
       "WEklWJwnOTKAAACjEQo8HvEr3AAAAABJRU5ErkJggg==\n",
       "\" style=\"display:inline;vertical-align:middle;\" /></a></td></tr>\n",
       "<tr><td>10</td><td>Literal</td><td></td><td><a class=\"ProveItLink\" href=\"../../../__pv_it/ec23fc7a1b4222a5f4948b495002b97d6fa18c3c0/expr.ipynb\"><img src=\"data:image/png;base64,iVBORw0KGgoAAAANSUhEUgAAAAoAAAAOBAMAAADkjZCYAAAALVBMVEX///8QEBCYmJh2dnaqqqrc\n",
       "3NxUVFQyMjK6uroiIiLMzMyIiIhmZmbu7u4AAAAZjyHdAAAAAXRSTlMAQObYZgAAAEpJREFUCNdj\n",
       "YLiz+xQDA8MMhpsLGLgnMHAXMHAmMHA8ZeA7wMD1hCHOgIHrNZh8jES+Bss+AqlkeQrSxTyBgWEK\n",
       "w8UFDAx3rLMYAMCjFldHSx/9AAAAAElFTkSuQmCC\n",
       "\" style=\"display:inline;vertical-align:middle;\" /></a></td></tr>\n",
       "</table>\n"
      ],
      "text/plain": [
       "0. (2 * 5 , 10)\n",
       "   core type: ExprTuple\n",
       "   sub-expressions: 1, 2\n",
       "1. 2 * 5\n",
       "   core type: Operation\n",
       "   operator: 3\n",
       "   operands: 4\n",
       "2. 10\n",
       "   core type: Operation\n",
       "   operator: 5\n",
       "   operands: 6\n",
       "3. *\n",
       "   core type: Literal\n",
       "   sub-expressions: \n",
       "4. (2 , 5)\n",
       "   core type: ExprTuple\n",
       "   sub-expressions: 7, 8\n",
       "5. Decimal\n",
       "   core type: Literal\n",
       "   sub-expressions: \n",
       "6. (1 , 0)\n",
       "   core type: ExprTuple\n",
       "   sub-expressions: 9, 10\n",
       "7. 2\n",
       "   core type: Literal\n",
       "   sub-expressions: \n",
       "8. 5\n",
       "   core type: Literal\n",
       "   sub-expressions: \n",
       "9. 1\n",
       "   core type: Literal\n",
       "   sub-expressions: \n",
       "10. 0\n",
       "    core type: Literal\n",
       "    sub-expressions: "
      ]
     },
     "execution_count": 4,
     "metadata": {},
     "output_type": "execute_result"
    }
   ],
   "source": [
    "# display the expression information\n",
    "expr.exprInfo()"
   ]
  },
  {
   "cell_type": "code",
   "execution_count": null,
   "metadata": {},
   "outputs": [],
   "source": []
  }
 ],
 "metadata": {
  "kernelspec": {
   "display_name": "Python 3",
   "language": "python",
   "name": "python3"
  }
 },
 "nbformat": 4,
 "nbformat_minor": 0
}
