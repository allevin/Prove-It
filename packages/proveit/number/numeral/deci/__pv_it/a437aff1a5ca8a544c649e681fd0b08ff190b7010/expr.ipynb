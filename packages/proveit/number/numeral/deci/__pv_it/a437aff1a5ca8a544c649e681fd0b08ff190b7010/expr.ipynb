{
 "cells": [
  {
   "cell_type": "markdown",
   "metadata": {},
   "source": [
    "Expression of type <a class=\"ProveItLink\" href=\"../../../../../../../doc/html/api/proveit.ExprTuple.html\">ExprTuple</a>\n",
    "=======================\n",
    "# from context <a class=\"ProveItLink\" href=\"../../_context_.ipynb\">proveit.number.numeral.deci</a>"
   ]
  },
  {
   "cell_type": "code",
   "execution_count": 1,
   "metadata": {},
   "outputs": [],
   "source": [
    "# import Expression classes needed to build the expression\n",
    "from proveit import ExprTuple\n",
    "from proveit.number import DecimalSequence, Mult, six, three"
   ]
  },
  {
   "cell_type": "code",
   "execution_count": 2,
   "metadata": {},
   "outputs": [
    {
     "data": {
      "text/html": [
       "<strong id=\"expr\">expr:</strong> <a class=\"ProveItLink\" href=\"expr.ipynb\"><img src=\"data:image/png;base64,iVBORw0KGgoAAAANSUhEUgAAAE0AAAAVBAMAAADx+n4ZAAAAMFBMVEX////c3NwiIiJERESqqqqY\n",
       "mJh2dnZmZmYQEBDu7u4yMjJUVFTMzMyIiIi6uroAAAAs73DqAAAAAXRSTlMAQObYZgAAAXRJREFU\n",
       "KM+Nkr1LA0EQxV8+LslekkuwsdAiTawERdDW+w+8ylIDQtIoWkgE06TQNqaSWHmN4FchNnaSykYE\n",
       "G7FRiJZWMYigcMbZm92YwEHc4m5+O4/ZN7sD/HdZ90MlS/JzC4hSsdnb3C+vcpAqrtiMcZk9AUaa\n",
       "yZyWhSZxydEoLE+hC6Tp2AmYrtaFCzjlaN1GR+EikKjD+OrzslzX0YLUMTaAN8Cs9umO+1v0FEZs\n",
       "lIHM+fNmL/d992jr2LxQGNvAEXCYR9hRKdFxkFfxzZnGqIsa6dqISYuCvIguNaAtpmsKrSp+SJeD\n",
       "8QH/TwWold7BeweMqbbUZVwYnuxqWvqjBL/QODDvMJJuh7pR9fw1o+uJbp10jHTuLLlU/vjWpCEB\n",
       "rjyV9RGGixLtzKGh+0WkIHZ9p3iA9cko7+WVduJX13+XW6m00HinILq1bTPCbCGRDZqkl0GkdzMK\n",
       "QTpnENd4robphJymsQBZehCT0lto+Nw/Ab8tgms30iKu4AAAAABJRU5ErkJggg==\n",
       "\" style=\"display:inline;vertical-align:middle;\" /></a><br>"
      ],
      "text/plain": [
       "expr: (6 * 6 , 36)"
      ]
     },
     "execution_count": 2,
     "metadata": {},
     "output_type": "execute_result"
    }
   ],
   "source": [
    "# build up the expression from sub-expressions\n",
    "expr = ExprTuple(Mult(six, six), DecimalSequence(three, six))"
   ]
  },
  {
   "cell_type": "code",
   "execution_count": 3,
   "metadata": {},
   "outputs": [
    {
     "name": "stdout",
     "output_type": "stream",
     "text": [
      "Passed sanity check: built 'expr' is the same as the stored Expression.\n"
     ]
    }
   ],
   "source": [
    "# check that the built expression is the same as the stored expression\n",
    "%check_expr"
   ]
  },
  {
   "cell_type": "code",
   "execution_count": 4,
   "metadata": {},
   "outputs": [
    {
     "data": {
      "text/html": [
       "<table><tr><th>&nbsp;</th><th>core type</th><th>sub-expressions</th><th>expression</th></tr>\n",
       "<tr><td>0</td><td>ExprTuple</td><td>1, 2</td><td><a class=\"ProveItLink\" href=\"expr.ipynb\"><img src=\"data:image/png;base64,iVBORw0KGgoAAAANSUhEUgAAAE0AAAAVBAMAAADx+n4ZAAAAMFBMVEX////c3NwiIiJERESqqqqY\n",
       "mJh2dnZmZmYQEBDu7u4yMjJUVFTMzMyIiIi6uroAAAAs73DqAAAAAXRSTlMAQObYZgAAAXRJREFU\n",
       "KM+Nkr1LA0EQxV8+LslekkuwsdAiTawERdDW+w+8ylIDQtIoWkgE06TQNqaSWHmN4FchNnaSykYE\n",
       "G7FRiJZWMYigcMbZm92YwEHc4m5+O4/ZN7sD/HdZ90MlS/JzC4hSsdnb3C+vcpAqrtiMcZk9AUaa\n",
       "yZyWhSZxydEoLE+hC6Tp2AmYrtaFCzjlaN1GR+EikKjD+OrzslzX0YLUMTaAN8Cs9umO+1v0FEZs\n",
       "lIHM+fNmL/d992jr2LxQGNvAEXCYR9hRKdFxkFfxzZnGqIsa6dqISYuCvIguNaAtpmsKrSp+SJeD\n",
       "8QH/TwWold7BeweMqbbUZVwYnuxqWvqjBL/QODDvMJJuh7pR9fw1o+uJbp10jHTuLLlU/vjWpCEB\n",
       "rjyV9RGGixLtzKGh+0WkIHZ9p3iA9cko7+WVduJX13+XW6m00HinILq1bTPCbCGRDZqkl0GkdzMK\n",
       "QTpnENd4robphJymsQBZehCT0lto+Nw/Ab8tgms30iKu4AAAAABJRU5ErkJggg==\n",
       "\" style=\"display:inline;vertical-align:middle;\" /></a></td></tr>\n",
       "<tr><td>1</td><td>Operation</td><td>operator:&nbsp;3<br>operands:&nbsp;4<br></td><td><a class=\"ProveItLink\" href=\"../8912ff018bae46b1c6f524fd0bb87df8ecd096940/expr.ipynb\"><img src=\"data:image/png;base64,iVBORw0KGgoAAAANSUhEUgAAACMAAAAOBAMAAABXxbiCAAAAMFBMVEX///+6urpERESqqqqIiIgQ\n",
       "EBCYmJgyMjJUVFQiIiLc3NzMzMxmZmZ2dnbu7u4AAABf+mkYAAAAAXRSTlMAQObYZgAAAKtJREFU\n",
       "GNNjYOC7c3cDAwy8PXsbSK7cwDEBJsI1m6ETSM1lYC+ACXFeYChnYGD7x4AA+Q9AJHsAklApmOSv\n",
       "djkMF/q+xceAgeH9NAbOBKgI388EhmlAoQ8MvCDj+IDG8P1nYLj/gOH9BAa2z0AhIA1UBbTBgIG/\n",
       "gIHtC1DoqQLILKCQAwMTVBUYaIJVMUPNAgN7sFkMugxPYTYyMF3gCwNSPD2NCLeeOCHAAACMsTFn\n",
       "afrS3gAAAABJRU5ErkJggg==\n",
       "\" style=\"display:inline;vertical-align:middle;\" /></a></td></tr>\n",
       "<tr><td>2</td><td>Operation</td><td>operator:&nbsp;5<br>operands:&nbsp;6<br></td><td><a class=\"ProveItLink\" href=\"../0de738dc35c269971378b2949e970fc4f00ae2920/expr.ipynb\"><img src=\"data:image/png;base64,iVBORw0KGgoAAAANSUhEUgAAABQAAAAOBAMAAADd6iHDAAAAMFBMVEX///+YmJju7u4QEBBUVFQy\n",
       "MjIiIiKIiIi6urpmZmbc3NyqqqpERER2dnbMzMwAAAB0GlNiAAAAAXRSTlMAQObYZgAAAIlJREFU\n",
       "CNdjYHh79zQDA9PNuw8YuCYw9BcwLHvAksDA+5uBP4Ehl4E1gIEbxGT8xAAB/QWsBlBmCAN/XPls\n",
       "IIPvqgODfiIDmwBItLhB/wMDL1g58yf9BAbG3wxcDxh4PvIHMDB+Z9D/BGTygEWBAmy/uMFq2QUY\n",
       "+i8wnGVQBpqwc2Y0AwOnpwcDAO3DJo0tiCV4AAAAAElFTkSuQmCC\n",
       "\" style=\"display:inline;vertical-align:middle;\" /></a></td></tr>\n",
       "<tr><td>3</td><td>Literal</td><td></td><td><a class=\"ProveItLink\" href=\"../../../../multiplication/__pv_it/21fd2079611555ecce512d99547a00d551e6b86b0/expr.ipynb\"><img src=\"data:image/png;base64,iVBORw0KGgoAAAANSUhEUgAAAAMAAAADBAMAAACkBqiMAAAAElBMVEX///9EREQQEBAiIiLu7u4A\n",
       "AABGBidwAAAAAXRSTlMAQObYZgAAABFJREFUCNdjYHFgcDVgcBIAAASWAQx4jI0xAAAAAElFTkSu\n",
       "QmCC\n",
       "\" style=\"display:inline;vertical-align:middle;\" /></a></td></tr>\n",
       "<tr><td>4</td><td>ExprTuple</td><td>8, 8</td><td><a class=\"ProveItLink\" href=\"../82ce98ef1690536cc9ef03b5dddb271e277dd8aa0/expr.ipynb\"><img src=\"data:image/png;base64,iVBORw0KGgoAAAANSUhEUgAAACkAAAAVBAMAAAAp9toTAAAAMFBMVEX////c3NwiIiJERESqqqqY\n",
       "mJh2dnZmZmYQEBDu7u4yMjJUVFTMzMyIiIi6uroAAAAs73DqAAAAAXRSTlMAQObYZgAAARJJREFU\n",
       "GNNtka9PQlEUgD/AC1xQYFYLBZPJTfP7D3zJqC9JgWlwFApBq77kaL7ips5ksTm6c6NRdGNGE3MW\n",
       "3fxxzn1cNpk3nJ3z7ew7954L/5/KcA7saHgA29wbpOSs06Kg+RUsD8p1BzNr3EICSyJYpZQ4mo24\n",
       "hm0oxpgPr9yNNfbhFUo9Ty9dzAV0oHrzfJjSz8dRAPkDLuC8QTZUaN9CGrCQcCJ0Qt6p7Q/sx1R6\n",
       "fAutY97TXhkYsDhRWk0wX6lX6FDpkcz0vay7XjFsiN159apbzmsSmlJs0g/VSS6yx+5mL1IU7u6x\n",
       "pzXJut2xvGpMseY36hN9sYmmuZktuJ1u8i+1ur+VaTH7krKqMvM/9AS/0vJDCSkyUCoAAAAASUVO\n",
       "RK5CYII=\n",
       "\" style=\"display:inline;vertical-align:middle;\" /></a></td></tr>\n",
       "<tr><td>5</td><td>Literal</td><td></td><td><a class=\"ProveItLink\" href=\"../b28e6317a1d330492d51cd67ccba81d4d210b8b30/expr.ipynb\"><img src=\"data:image/png;base64,iVBORw0KGgoAAAANSUhEUgAAAE8AAAAOBAMAAACcHlx8AAAAMFBMVEX///8iIiIQEBCYmJjc3Ny6\n",
       "urru7u5mZmZ2dnaqqqrMzMxEREQyMjJUVFSIiIgAAABUCcz6AAAAAXRSTlMAQObYZgAAAWhJREFU\n",
       "KM99kL9Lw3AQxV/bNE1s0rh1VNTBqWR2sAXdEwRns9XJtFsRwSxVx/oXNLgqNKugtLsgHQVtDWLt\n",
       "IEahVrT+vIsK1qEH+QS+PN67ewDuPlutExd/JtnA8EgTJv/eAPllSOj/EyLLGHsmbFoYNRuMVJ9Q\n",
       "80cKM2HQA8FojtIJA6bmsWMTQqmbg7gTuKslxG8Xg7N4cEiadnkGMfb6Ts062M0JBeyZyrizAkk9\n",
       "hV1GFVjKUaLKXrjnai5NoY+EK2aQnKsUsRzxYPskFHpIeIiGF9QZU1Cn56+hUoZIq1u2iapFx9JD\n",
       "xEctrPmVvlgPWuF3X/kJrCoCs/xgu7gKa/wgRD1obG8wlCZ7IY34o2hwvnUsco18+pEV7uFrOqAb\n",
       "pkNeYh9qY8Gu4EJ2e9JPjQcUm2ogn1MLkNyqoNNlVIniO4oupyUM1oB8/b11vs47bAfkWQpukAwQ\n",
       "n4TkQW67Qruz30F3C18Fz3drZAxLCAAAAABJRU5ErkJggg==\n",
       "\" style=\"display:inline;vertical-align:middle;\" /></a></td></tr>\n",
       "<tr><td>6</td><td>ExprTuple</td><td>7, 8</td><td><a class=\"ProveItLink\" href=\"../0d67df4affbc69d6b595afedeb878788192359e80/expr.ipynb\"><img src=\"data:image/png;base64,iVBORw0KGgoAAAANSUhEUgAAACkAAAAVBAMAAAAp9toTAAAAMFBMVEX////c3NwiIiJERESqqqqY\n",
       "mJh2dnZmZmYQEBDu7u4yMjJUVFTMzMyIiIi6uroAAAAs73DqAAAAAXRSTlMAQObYZgAAARFJREFU\n",
       "GNNtkStPA0EUhb/tdssulLYeU4NDEfDrkFQhYVWbEAhVRdQgwMIqgmMFJDwM4RdUYUiTdSAQDRJT\n",
       "ICBaAdy5+xAbRtyc82XmzJ078P+qxQWwacojPLRXUnLa22FmIOIaq8s4OWAtcQ8RzMdUvqg3lZYC\n",
       "bmAD3JByTrdCU8/gTW2acKXV9umpuE0umw6ffKh0uRRT3b5T6H22WIRyxLH655HSX9gLqR3wo9Sd\n",
       "JHvlQp/qu6HWAPs7yRUaG3oI55OMLuteSViFekTpA9PquuY6ER15XotxYDKxA+9IO3sVs7Z/gXfS\n",
       "ENXvSzOzI9xGNtFMmBc7QaqdfMC7OskC9WSSLKQm/5I5E2UVf+gF/gCmjER+NakuTgAAAABJRU5E\n",
       "rkJggg==\n",
       "\" style=\"display:inline;vertical-align:middle;\" /></a></td></tr>\n",
       "<tr><td>7</td><td>Literal</td><td></td><td><a class=\"ProveItLink\" href=\"../../../__pv_it/9176d93c83afa2c995b614976e3cb49207102fa70/expr.ipynb\"><img src=\"data:image/png;base64,iVBORw0KGgoAAAANSUhEUgAAAAoAAAAOBAMAAADkjZCYAAAAMFBMVEX///+YmJju7u4QEBBUVFQy\n",
       "MjIiIiKIiIi6urpmZmbc3NyqqqpERER2dnbMzMwAAAB0GlNiAAAAAXRSTlMAQObYZgAAAE1JREFU\n",
       "CNdjYHh79zQDA9cEhv4CBt7fDPwJDNxgEgiAIkAQAsR8Vx1ATIbiBhDJ/ImB6wEDz0cG/U8gkj+A\n",
       "ge0XA7sAQ/8FBoadM6MZAEflFACalZ/OAAAAAElFTkSuQmCC\n",
       "\" style=\"display:inline;vertical-align:middle;\" /></a></td></tr>\n",
       "<tr><td>8</td><td>Literal</td><td></td><td><a class=\"ProveItLink\" href=\"../../../__pv_it/09b499e53e24cf89c2513ba78b501f0314edaa680/expr.ipynb\"><img src=\"data:image/png;base64,iVBORw0KGgoAAAANSUhEUgAAAAoAAAAOBAMAAADkjZCYAAAAMFBMVEX///+6urpERESqqqqIiIgQ\n",
       "EBCYmJgyMjJUVFQiIiLc3NzMzMxmZmZ2dnbu7u4AAABf+mkYAAAAAXRSTlMAQObYZgAAAFNJREFU\n",
       "CNdjYOC7c3cDA8PKDRwTGBjmMrAXMLD9YwAC9gAQyV/tcpiB4f00Bs4EhvcfGHj/MbyfwMD2mYEf\n",
       "qOwLAxOYzQwWZ9BleJrAwMDT08gAANMyF0ZGTeKAAAAAAElFTkSuQmCC\n",
       "\" style=\"display:inline;vertical-align:middle;\" /></a></td></tr>\n",
       "</table>\n"
      ],
      "text/plain": [
       "0. (6 * 6 , 36)\n",
       "   core type: ExprTuple\n",
       "   sub-expressions: 1, 2\n",
       "1. 6 * 6\n",
       "   core type: Operation\n",
       "   operator: 3\n",
       "   operands: 4\n",
       "2. 36\n",
       "   core type: Operation\n",
       "   operator: 5\n",
       "   operands: 6\n",
       "3. *\n",
       "   core type: Literal\n",
       "   sub-expressions: \n",
       "4. (6 , 6)\n",
       "   core type: ExprTuple\n",
       "   sub-expressions: 8, 8\n",
       "5. Decimal\n",
       "   core type: Literal\n",
       "   sub-expressions: \n",
       "6. (3 , 6)\n",
       "   core type: ExprTuple\n",
       "   sub-expressions: 7, 8\n",
       "7. 3\n",
       "   core type: Literal\n",
       "   sub-expressions: \n",
       "8. 6\n",
       "   core type: Literal\n",
       "   sub-expressions: "
      ]
     },
     "execution_count": 4,
     "metadata": {},
     "output_type": "execute_result"
    }
   ],
   "source": [
    "# display the expression information\n",
    "expr.exprInfo()"
   ]
  },
  {
   "cell_type": "code",
   "execution_count": null,
   "metadata": {},
   "outputs": [],
   "source": []
  }
 ],
 "metadata": {
  "kernelspec": {
   "display_name": "Python 3",
   "language": "python",
   "name": "python3"
  }
 },
 "nbformat": 4,
 "nbformat_minor": 0
}
