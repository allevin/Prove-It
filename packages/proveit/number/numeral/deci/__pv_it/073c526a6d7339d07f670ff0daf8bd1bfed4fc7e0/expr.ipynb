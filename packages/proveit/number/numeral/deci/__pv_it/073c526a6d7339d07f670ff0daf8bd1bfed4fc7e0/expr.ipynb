{
 "cells": [
  {
   "cell_type": "markdown",
   "metadata": {},
   "source": [
    "Expression of type <a class=\"ProveItLink\" href=\"../../../../../../../doc/html/api/proveit.ExprTuple.html\">ExprTuple</a>\n",
    "=======================\n",
    "# from context <a class=\"ProveItLink\" href=\"../../_context_.ipynb\">proveit.number.numeral.deci</a>"
   ]
  },
  {
   "cell_type": "code",
   "execution_count": 1,
   "metadata": {},
   "outputs": [],
   "source": [
    "# import Expression classes needed to build the expression\n",
    "from proveit import ExprTuple\n",
    "from proveit.number import Add, five, seven, two"
   ]
  },
  {
   "cell_type": "code",
   "execution_count": 2,
   "metadata": {},
   "outputs": [
    {
     "data": {
      "text/html": [
       "<strong id=\"expr\">expr:</strong> <a class=\"ProveItLink\" href=\"expr.ipynb\"><img src=\"data:image/png;base64,iVBORw0KGgoAAAANSUhEUgAAAE0AAAAVBAMAAADx+n4ZAAAAMFBMVEX////c3NwiIiJERESqqqqY\n",
       "mJh2dnZmZmYQEBDu7u4yMjJUVFTMzMyIiIi6uroAAAAs73DqAAAAAXRSTlMAQObYZgAAAWxJREFU\n",
       "KM9jYCAW8F0gqCQORJxmYFg6QcwBVUa8yg7COFSWlpbAfgDIWsnA0P//G6oyxg0M9yE64////7+B\n",
       "YQEDAy/Q2uXbDkAVTIRQ3BMYmD6AWZlADgNDGAMDxwQGhg1wg3whFEcnA/c/MCuBgSGHgWEGA8Mr\n",
       "BizquH4ysP9D8iezA0MZkLn37j5UdUDA9BPKmAzEbAUMS4GUJcP8B+jqzidAGSVAzLKAoQ/i8AZ0\n",
       "dYuhNCfIP3wNDBBnsP1BU8duAGXwAsOEgecDSB2zAgMbSHnVqlUaq1atBkvfhrtzA0RdCzAUFBjY\n",
       "P6Kax1LAIAhhzS+A2GsKtAMYEAtQ1R1nYAhkmABivQepY13AkA6MpQIGDwEUdYxqaekKnJ9ATP8C\n",
       "SLg8Aumu3ogafkzAWFXg7AdpPh8ACvcHDBwCyAnAFyXFwaWA8caagCz1FpnDCmflQtIVDgBXxwny\n",
       "pTROdfCEzg1yACPhdH+HgQEA6MhYubtQhOQAAAAASUVORK5CYII=\n",
       "\" style=\"display:inline;vertical-align:middle;\" /></a><br>"
      ],
      "text/plain": [
       "expr: (5 + 2 , 7)"
      ]
     },
     "execution_count": 2,
     "metadata": {},
     "output_type": "execute_result"
    }
   ],
   "source": [
    "# build up the expression from sub-expressions\n",
    "expr = ExprTuple(Add(five, two), seven)"
   ]
  },
  {
   "cell_type": "code",
   "execution_count": 3,
   "metadata": {},
   "outputs": [
    {
     "name": "stdout",
     "output_type": "stream",
     "text": [
      "Passed sanity check: built 'expr' is the same as the stored Expression.\n"
     ]
    }
   ],
   "source": [
    "# check that the built expression is the same as the stored expression\n",
    "%check_expr"
   ]
  },
  {
   "cell_type": "code",
   "execution_count": 4,
   "metadata": {},
   "outputs": [
    {
     "data": {
      "text/html": [
       "<table><tr><th>&nbsp;</th><th>core type</th><th>sub-expressions</th><th>expression</th></tr>\n",
       "<tr><td>0</td><td>ExprTuple</td><td>1, 2</td><td><a class=\"ProveItLink\" href=\"expr.ipynb\"><img src=\"data:image/png;base64,iVBORw0KGgoAAAANSUhEUgAAAE0AAAAVBAMAAADx+n4ZAAAAMFBMVEX////c3NwiIiJERESqqqqY\n",
       "mJh2dnZmZmYQEBDu7u4yMjJUVFTMzMyIiIi6uroAAAAs73DqAAAAAXRSTlMAQObYZgAAAWxJREFU\n",
       "KM9jYCAW8F0gqCQORJxmYFg6QcwBVUa8yg7COFSWlpbAfgDIWsnA0P//G6oyxg0M9yE64////7+B\n",
       "YQEDAy/Q2uXbDkAVTIRQ3BMYmD6AWZlADgNDGAMDxwQGhg1wg3whFEcnA/c/MCuBgSGHgWEGA8Mr\n",
       "BizquH4ysP9D8iezA0MZkLn37j5UdUDA9BPKmAzEbAUMS4GUJcP8B+jqzidAGSVAzLKAoQ/i8AZ0\n",
       "dYuhNCfIP3wNDBBnsP1BU8duAGXwAsOEgecDSB2zAgMbSHnVqlUaq1atBkvfhrtzA0RdCzAUFBjY\n",
       "P6Kax1LAIAhhzS+A2GsKtAMYEAtQ1R1nYAhkmABivQepY13AkA6MpQIGDwEUdYxqaekKnJ9ATP8C\n",
       "SLg8Aumu3ogafkzAWFXg7AdpPh8ACvcHDBwCyAnAFyXFwaWA8caagCz1FpnDCmflQtIVDgBXxwny\n",
       "pTROdfCEzg1yACPhdH+HgQEA6MhYubtQhOQAAAAASUVORK5CYII=\n",
       "\" style=\"display:inline;vertical-align:middle;\" /></a></td></tr>\n",
       "<tr><td>1</td><td>Operation</td><td>operator:&nbsp;3<br>operands:&nbsp;4<br></td><td><a class=\"ProveItLink\" href=\"../b13cbb1e2d7696d20e065d9d7e59c913c8e29e9e0/expr.ipynb\"><img src=\"data:image/png;base64,iVBORw0KGgoAAAANSUhEUgAAACwAAAAQBAMAAACfEoDkAAAAMFBMVEX///8iIiJERES6urqIiIjM\n",
       "zMxUVFRmZmYQEBCqqqp2dnbc3Nzu7u6YmJgyMjIAAADYGhJvAAAAAXRSTlMAQObYZgAAALBJREFU\n",
       "GNNj4LvDvZIBBWyvU2Zg4Pj/fwGKKHcCg/8EBr6ypVA+zwYwxXaAgfEDAxtcGacDmOLoYWD7jCnM\n",
       "94eBHSjs4maAIgwEjH8YmA7wfEYXjgc7IgNd+BGYXB+AKsyuwMCgCBQGGs7+7t3DvnfvEkDCbkDc\n",
       "yMBQvwFFNWcBw26GAgaGd6hmhzMw3GbYzsDZjSLMLbVquQADa3naBhRhxv///wsghRHCgSiAGUkY\n",
       "AINYLCyCndyXAAAAAElFTkSuQmCC\n",
       "\" style=\"display:inline;vertical-align:middle;\" /></a></td></tr>\n",
       "<tr><td>2</td><td>Literal</td><td></td><td><a class=\"ProveItLink\" href=\"../../../__pv_it/44c347496acc279b31e97f8859fc6a0a1e31c26b0/expr.ipynb\"><img src=\"data:image/png;base64,iVBORw0KGgoAAAANSUhEUgAAAAoAAAAOBAMAAADkjZCYAAAAKlBMVEX///8yMjKqqqpERESIiIi6\n",
       "urru7u5UVFSYmJh2dnZmZmYiIiLMzMwAAACZcOxaAAAAAXRSTlMAQObYZgAAAEVJREFUCNdjOL1y\n",
       "5swJDL13794tYJjGwMDOwDCBgWEOAxCwOoDIZBDBsAhEsF0AkSwCIJK7AETmLgCRsWBSF0yebWBg\n",
       "AAAo0Q9n+lHhAQAAAABJRU5ErkJggg==\n",
       "\" style=\"display:inline;vertical-align:middle;\" /></a></td></tr>\n",
       "<tr><td>3</td><td>Literal</td><td></td><td><a class=\"ProveItLink\" href=\"../../../../addition/__pv_it/3e6688136fa3c7aefbebe51301b7c3ebf0b69c440/expr.ipynb\"><img src=\"data:image/png;base64,iVBORw0KGgoAAAANSUhEUgAAAA4AAAAOBAMAAADtZjDiAAAAJFBMVEX///+6urpUVFQQEBAiIiIy\n",
       "MjJmZmaIiIiqqqrc3Nzu7u4AAACgHpL+AAAAAXRSTlMAQObYZgAAAB5JREFUCNdjYGBgWMkAAe2k\n",
       "0Kmhoc6hoUGk6BMHYgAHOwjcado9fwAAAABJRU5ErkJggg==\n",
       "\" style=\"display:inline;vertical-align:middle;\" /></a></td></tr>\n",
       "<tr><td>4</td><td>ExprTuple</td><td>5, 6</td><td><a class=\"ProveItLink\" href=\"../f996c3378bf3d3928d1e0cc4e0dc88233c632ff70/expr.ipynb\"><img src=\"data:image/png;base64,iVBORw0KGgoAAAANSUhEUgAAACkAAAAVBAMAAAAp9toTAAAAMFBMVEX////c3NwiIiJERESqqqqY\n",
       "mJh2dnZmZmYQEBDu7u4yMjJUVFTMzMyIiIi6uroAAAAs73DqAAAAAXRSTlMAQObYZgAAARRJREFU\n",
       "GNNtka9OA0EQh79Lubtey5ENAoPpGxSDwNXBEyAJqiiSCyQgEFQgUHQljktIQ1AUQ4IA6hCYPgAk\n",
       "GyQKCEERjtnbuws0jNjMfDP57fyB/21mPAHW7PMAAz3XyYG3e2oIR+KdQz/7dGXzxB+QQiwCZ1cj\n",
       "R6+hDatQ1zAsJQ81d4ZjeOEXvdDsG2oddiS4ebqtOmhrgoSBeEucmAJOy79TKUd50OwVtLEgE/T4\n",
       "zoPgq6Dbtv7V0lqLwCWJh44eSHMtwjdHl/GUVViEUORStK1K8BV+yoZMn7Cionehs93uFrazZwnu\n",
       "9y6J+kqazTJJNgx1VW60dOzE/nrh+9V4m26Tf2mU5jt1Vp2kaaW8yQs9wg+6TkAYhVns9wAAAABJ\n",
       "RU5ErkJggg==\n",
       "\" style=\"display:inline;vertical-align:middle;\" /></a></td></tr>\n",
       "<tr><td>5</td><td>Literal</td><td></td><td><a class=\"ProveItLink\" href=\"../../../__pv_it/aaeeaca7d86eb2b7cdc49e25c3108b81b52ec5400/expr.ipynb\"><img src=\"data:image/png;base64,iVBORw0KGgoAAAANSUhEUgAAAAkAAAAOBAMAAAAPuiubAAAAMFBMVEX///8iIiJERES6urqIiIjM\n",
       "zMxUVFRmZmYQEBCqqqp2dnbc3Nzu7u6YmJgyMjIAAADYGhJvAAAAAXRSTlMAQObYZgAAAE1JREFU\n",
       "CNdj4LvDvZKBgeP//wUMDHxlSxkYGNgYGBCki5sBAwPTAZ7PYG4GmFwfwKAIJA0YGhkY6jcwFDAw\n",
       "vGNg2M7A2c3AwFqetoEBAKS8EE1WXEJLAAAAAElFTkSuQmCC\n",
       "\" style=\"display:inline;vertical-align:middle;\" /></a></td></tr>\n",
       "<tr><td>6</td><td>Literal</td><td></td><td><a class=\"ProveItLink\" href=\"../../../__pv_it/77d407a64829263cdc16415becd4c2293f77a4bf0/expr.ipynb\"><img src=\"data:image/png;base64,iVBORw0KGgoAAAANSUhEUgAAAAkAAAAOBAMAAAAPuiubAAAAMFBMVEX///+YmJh2dnbMzMwQEBAi\n",
       "IiLu7u6qqqqIiIhUVFS6urpEREQyMjJmZmbc3NwAAACOMKdoAAAAAXRSTlMAQObYZgAAAFBJREFU\n",
       "CNdj4Lt7egEDw0sGju8MDNMYGOIZGFwSGOYvYDifwHAfKAEUSQASzJ9ATJ4NIPI2iOCYACJrGfge\n",
       "MDBfYGB8wPBUSekqUPH//18ZAIliFhc3zESNAAAAAElFTkSuQmCC\n",
       "\" style=\"display:inline;vertical-align:middle;\" /></a></td></tr>\n",
       "</table>\n"
      ],
      "text/plain": [
       "0. (5 + 2 , 7)\n",
       "   core type: ExprTuple\n",
       "   sub-expressions: 1, 2\n",
       "1. 5 + 2\n",
       "   core type: Operation\n",
       "   operator: 3\n",
       "   operands: 4\n",
       "2. 7\n",
       "   core type: Literal\n",
       "   sub-expressions: \n",
       "3. +\n",
       "   core type: Literal\n",
       "   sub-expressions: \n",
       "4. (5 , 2)\n",
       "   core type: ExprTuple\n",
       "   sub-expressions: 5, 6\n",
       "5. 5\n",
       "   core type: Literal\n",
       "   sub-expressions: \n",
       "6. 2\n",
       "   core type: Literal\n",
       "   sub-expressions: "
      ]
     },
     "execution_count": 4,
     "metadata": {},
     "output_type": "execute_result"
    }
   ],
   "source": [
    "# display the expression information\n",
    "expr.exprInfo()"
   ]
  },
  {
   "cell_type": "code",
   "execution_count": null,
   "metadata": {},
   "outputs": [],
   "source": []
  }
 ],
 "metadata": {
  "kernelspec": {
   "display_name": "Python 3",
   "language": "python",
   "name": "python3"
  }
 },
 "nbformat": 4,
 "nbformat_minor": 0
}
