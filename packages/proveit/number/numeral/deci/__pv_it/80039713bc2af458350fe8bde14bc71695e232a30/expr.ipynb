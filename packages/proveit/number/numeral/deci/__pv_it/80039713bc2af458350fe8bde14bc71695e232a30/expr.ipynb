{
 "cells": [
  {
   "cell_type": "markdown",
   "metadata": {},
   "source": [
    "Expression of type <a class=\"ProveItLink\" href=\"../../../../../../../doc/html/api/proveit.ExprTuple.html\">ExprTuple</a>\n",
    "=======================\n",
    "# from context <a class=\"ProveItLink\" href=\"../../_context_.ipynb\">proveit.number.numeral.deci</a>"
   ]
  },
  {
   "cell_type": "code",
   "execution_count": 1,
   "metadata": {},
   "outputs": [],
   "source": [
    "# import Expression classes needed to build the expression\n",
    "from proveit import ExprTuple\n",
    "from proveit.number import Add, eight, six, two"
   ]
  },
  {
   "cell_type": "code",
   "execution_count": 2,
   "metadata": {},
   "outputs": [
    {
     "data": {
      "text/html": [
       "<strong id=\"expr\">expr:</strong> <a class=\"ProveItLink\" href=\"expr.ipynb\"><img src=\"data:image/png;base64,iVBORw0KGgoAAAANSUhEUgAAAE0AAAAVBAMAAADx+n4ZAAAAMFBMVEX////c3NwiIiJERESqqqqY\n",
       "mJh2dnZmZmYQEBDu7u4yMjJUVFTMzMyIiIi6uroAAAAs73DqAAAAAXRSTlMAQObYZgAAAX9JREFU\n",
       "KM+Nkj9Iw1AQxr+mfU2TaFtdHBzMYnF00VE6OQjFOqiT0qkZpNDBP1AEK7h00ejUrQFxMAq6FRfp\n",
       "5uBgdxXFURBK6dJB4708CU1KqTfkvvfux7vL3QH/tXhzKLLJP4+AYuQb/shEaUEIJW+kIfPoJTDe\n",
       "0HQfFrrFW9pVMrADWMAopU1BtQRwKpxmQmq5ahU4A9aAmAnW9R7KCBerQPtx1ZbLVYFPQC0HObUL\n",
       "WXDLdygA4TR2gcT167afI5NEkrCzkQOiRVwAtWlI2SD3lBP+oJ0EIhaOiWsh2g1y58Kx/ZsO9bgM\n",
       "KqOmg3UCnDwr/DqYY2KkxbmEBfZNdyXbnrHtKzf+/MdXgKks546o1v73IkWMueOgVshNnneOLvvr\n",
       "ewBWYJI4pKYnwSwYdJhH1f+/oVTe0JU2qSUTi25fPnjR9Xt//yTHcXTlhDoSr+/RoNV3xJK9C5Dx\n",
       "bZwXormxXG/oq/fAPFUQezXAPE7h2zQ5kPMWXeMFhIbv/QvwC7c/Wxr+M1pYAAAAAElFTkSuQmCC\n",
       "\" style=\"display:inline;vertical-align:middle;\" /></a><br>"
      ],
      "text/plain": [
       "expr: (6 + 2 , 8)"
      ]
     },
     "execution_count": 2,
     "metadata": {},
     "output_type": "execute_result"
    }
   ],
   "source": [
    "# build up the expression from sub-expressions\n",
    "expr = ExprTuple(Add(six, two), eight)"
   ]
  },
  {
   "cell_type": "code",
   "execution_count": 3,
   "metadata": {},
   "outputs": [
    {
     "name": "stdout",
     "output_type": "stream",
     "text": [
      "Passed sanity check: built 'expr' is the same as the stored Expression.\n"
     ]
    }
   ],
   "source": [
    "# check that the built expression is the same as the stored expression\n",
    "%check_expr"
   ]
  },
  {
   "cell_type": "code",
   "execution_count": 4,
   "metadata": {},
   "outputs": [
    {
     "data": {
      "text/html": [
       "<table><tr><th>&nbsp;</th><th>core type</th><th>sub-expressions</th><th>expression</th></tr>\n",
       "<tr><td>0</td><td>ExprTuple</td><td>1, 2</td><td><a class=\"ProveItLink\" href=\"expr.ipynb\"><img src=\"data:image/png;base64,iVBORw0KGgoAAAANSUhEUgAAAE0AAAAVBAMAAADx+n4ZAAAAMFBMVEX////c3NwiIiJERESqqqqY\n",
       "mJh2dnZmZmYQEBDu7u4yMjJUVFTMzMyIiIi6uroAAAAs73DqAAAAAXRSTlMAQObYZgAAAX9JREFU\n",
       "KM+Nkj9Iw1AQxr+mfU2TaFtdHBzMYnF00VE6OQjFOqiT0qkZpNDBP1AEK7h00ejUrQFxMAq6FRfp\n",
       "5uBgdxXFURBK6dJB4708CU1KqTfkvvfux7vL3QH/tXhzKLLJP4+AYuQb/shEaUEIJW+kIfPoJTDe\n",
       "0HQfFrrFW9pVMrADWMAopU1BtQRwKpxmQmq5ahU4A9aAmAnW9R7KCBerQPtx1ZbLVYFPQC0HObUL\n",
       "WXDLdygA4TR2gcT167afI5NEkrCzkQOiRVwAtWlI2SD3lBP+oJ0EIhaOiWsh2g1y58Kx/ZsO9bgM\n",
       "KqOmg3UCnDwr/DqYY2KkxbmEBfZNdyXbnrHtKzf+/MdXgKks546o1v73IkWMueOgVshNnneOLvvr\n",
       "ewBWYJI4pKYnwSwYdJhH1f+/oVTe0JU2qSUTi25fPnjR9Xt//yTHcXTlhDoSr+/RoNV3xJK9C5Dx\n",
       "bZwXormxXG/oq/fAPFUQezXAPE7h2zQ5kPMWXeMFhIbv/QvwC7c/Wxr+M1pYAAAAAElFTkSuQmCC\n",
       "\" style=\"display:inline;vertical-align:middle;\" /></a></td></tr>\n",
       "<tr><td>1</td><td>Operation</td><td>operator:&nbsp;3<br>operands:&nbsp;4<br></td><td><a class=\"ProveItLink\" href=\"../f7a997fcd0746f9e7280b9107a6da5ff6290f85f0/expr.ipynb\"><img src=\"data:image/png;base64,iVBORw0KGgoAAAANSUhEUgAAAC0AAAAQBAMAAABw0OvaAAAAMFBMVEX///+6urpERESqqqqIiIgQ\n",
       "EBCYmJgyMjJUVFQiIiLc3NzMzMxmZmZ2dnbu7u4AAABf+mkYAAAAAXRSTlMAQObYZgAAALhJREFU\n",
       "GNNjYOC7c3cDAzLgOlMkAKRWbuCYgCK+goHlM5Cay8BeABF4BaH6GBjmMzCw/YMrNIFQoQ8Y+gUY\n",
       "2APQxesfMJwXYOCvdjmMKg4E8x8wvJ/GwJmAJs79l4Hh/QcG3n9o4uwKQPEJDGyf0cQPATF/AQPb\n",
       "FyB9vLx8anl5BUiYpQFIMGGqt2HgWsDAjGE+9wEGtgUMDLoMT1Hds/Lu3ZNAiqenEdX98////4kS\n",
       "YCYM2IEIEhsAM5Yzc7YRM0sAAAAASUVORK5CYII=\n",
       "\" style=\"display:inline;vertical-align:middle;\" /></a></td></tr>\n",
       "<tr><td>2</td><td>Literal</td><td></td><td><a class=\"ProveItLink\" href=\"../../../__pv_it/7ca36d8558dd5f18c1e16b5e877a0b7e314926450/expr.ipynb\"><img src=\"data:image/png;base64,iVBORw0KGgoAAAANSUhEUgAAAAoAAAAOBAMAAADkjZCYAAAAMFBMVEX///+6uroQEBAyMjLMzMzc\n",
       "3NxERESIiIhUVFQiIiKYmJiqqqpmZmZ2dnbu7u4AAAACo3QQAAAAAXRSTlMAQObYZgAAAFlJREFU\n",
       "CNdjYHh79zQDA8MBBp4FDFwLGPgmMPA2gEjuHw94CxgY8n/VAmV5/k8Fkmuc/29g4DrAsP4fA9MD\n",
       "BtZfDI+AgscZmAIYGFoZuO0YuC8wMEicOc0AAC98GKTiu3IvAAAAAElFTkSuQmCC\n",
       "\" style=\"display:inline;vertical-align:middle;\" /></a></td></tr>\n",
       "<tr><td>3</td><td>Literal</td><td></td><td><a class=\"ProveItLink\" href=\"../../../../addition/__pv_it/3e6688136fa3c7aefbebe51301b7c3ebf0b69c440/expr.ipynb\"><img src=\"data:image/png;base64,iVBORw0KGgoAAAANSUhEUgAAAA4AAAAOBAMAAADtZjDiAAAAJFBMVEX///+6urpUVFQQEBAiIiIy\n",
       "MjJmZmaIiIiqqqrc3Nzu7u4AAACgHpL+AAAAAXRSTlMAQObYZgAAAB5JREFUCNdjYGBgWMkAAe2k\n",
       "0Kmhoc6hoUGk6BMHYgAHOwjcado9fwAAAABJRU5ErkJggg==\n",
       "\" style=\"display:inline;vertical-align:middle;\" /></a></td></tr>\n",
       "<tr><td>4</td><td>ExprTuple</td><td>5, 6</td><td><a class=\"ProveItLink\" href=\"../0bb1ba8c2d53ac4a69061cba10677cc1535d2a840/expr.ipynb\"><img src=\"data:image/png;base64,iVBORw0KGgoAAAANSUhEUgAAACkAAAAVBAMAAAAp9toTAAAAMFBMVEX////c3NwiIiJERESqqqqY\n",
       "mJh2dnZmZmYQEBDu7u4yMjJUVFTMzMyIiIi6uroAAAAs73DqAAAAAXRSTlMAQObYZgAAARBJREFU\n",
       "GNNtkS1PA0EQhp+jbNu7cvRSi6kBWwxoHLYKSVBX1aQBApIKBApW1rEJQZCQgCMYqMfwAyC5IFFN\n",
       "05AgoMzufRAaRmzeeXbyZj7g/1h8ngHb9nkCvxMPHfAOLxIqVl9BY1hrOrpEOAEDoRisEBhH76EF\n",
       "W1DVqM/c8kTzmDCAdwj6Ob3RHCWUNjiA+vXrftFBS1PucQnny8y1M7jwAfOGU6Ejyrl1sCoT9PkW\n",
       "2kRNMrpn60eW1g3qK4XhbUqPofRbu4kXWYc1cXe+2lb1UBHK0JFknUHbH4toxPEutrM3SSp3D/hn\n",
       "kTQ7ncpnkFCN8o3mwk6sdjKtivG66Sb/Ut+4naZRnKRmrbzZC73AD7XxQOj9Ooa5AAAAAElFTkSu\n",
       "QmCC\n",
       "\" style=\"display:inline;vertical-align:middle;\" /></a></td></tr>\n",
       "<tr><td>5</td><td>Literal</td><td></td><td><a class=\"ProveItLink\" href=\"../../../__pv_it/09b499e53e24cf89c2513ba78b501f0314edaa680/expr.ipynb\"><img src=\"data:image/png;base64,iVBORw0KGgoAAAANSUhEUgAAAAoAAAAOBAMAAADkjZCYAAAAMFBMVEX///+6urpERESqqqqIiIgQ\n",
       "EBCYmJgyMjJUVFQiIiLc3NzMzMxmZmZ2dnbu7u4AAABf+mkYAAAAAXRSTlMAQObYZgAAAFNJREFU\n",
       "CNdjYOC7c3cDA8PKDRwTGBjmMrAXMLD9YwAC9gAQyV/tcpiB4f00Bs4EhvcfGHj/MbyfwMD2mYEf\n",
       "qOwLAxOYzQwWZ9BleJrAwMDT08gAANMyF0ZGTeKAAAAAAElFTkSuQmCC\n",
       "\" style=\"display:inline;vertical-align:middle;\" /></a></td></tr>\n",
       "<tr><td>6</td><td>Literal</td><td></td><td><a class=\"ProveItLink\" href=\"../../../__pv_it/77d407a64829263cdc16415becd4c2293f77a4bf0/expr.ipynb\"><img src=\"data:image/png;base64,iVBORw0KGgoAAAANSUhEUgAAAAkAAAAOBAMAAAAPuiubAAAAMFBMVEX///+YmJh2dnbMzMwQEBAi\n",
       "IiLu7u6qqqqIiIhUVFS6urpEREQyMjJmZmbc3NwAAACOMKdoAAAAAXRSTlMAQObYZgAAAFBJREFU\n",
       "CNdj4Lt7egEDw0sGju8MDNMYGOIZGFwSGOYvYDifwHAfKAEUSQASzJ9ATJ4NIPI2iOCYACJrGfge\n",
       "MDBfYGB8wPBUSekqUPH//18ZAIliFhc3zESNAAAAAElFTkSuQmCC\n",
       "\" style=\"display:inline;vertical-align:middle;\" /></a></td></tr>\n",
       "</table>\n"
      ],
      "text/plain": [
       "0. (6 + 2 , 8)\n",
       "   core type: ExprTuple\n",
       "   sub-expressions: 1, 2\n",
       "1. 6 + 2\n",
       "   core type: Operation\n",
       "   operator: 3\n",
       "   operands: 4\n",
       "2. 8\n",
       "   core type: Literal\n",
       "   sub-expressions: \n",
       "3. +\n",
       "   core type: Literal\n",
       "   sub-expressions: \n",
       "4. (6 , 2)\n",
       "   core type: ExprTuple\n",
       "   sub-expressions: 5, 6\n",
       "5. 6\n",
       "   core type: Literal\n",
       "   sub-expressions: \n",
       "6. 2\n",
       "   core type: Literal\n",
       "   sub-expressions: "
      ]
     },
     "execution_count": 4,
     "metadata": {},
     "output_type": "execute_result"
    }
   ],
   "source": [
    "# display the expression information\n",
    "expr.exprInfo()"
   ]
  },
  {
   "cell_type": "code",
   "execution_count": null,
   "metadata": {},
   "outputs": [],
   "source": []
  }
 ],
 "metadata": {
  "kernelspec": {
   "display_name": "Python 3",
   "language": "python",
   "name": "python3"
  }
 },
 "nbformat": 4,
 "nbformat_minor": 0
}
