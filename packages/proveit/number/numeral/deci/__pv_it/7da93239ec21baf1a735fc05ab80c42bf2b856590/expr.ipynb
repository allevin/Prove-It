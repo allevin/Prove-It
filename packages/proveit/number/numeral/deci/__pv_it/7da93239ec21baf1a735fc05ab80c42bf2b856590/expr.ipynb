{
 "cells": [
  {
   "cell_type": "markdown",
   "metadata": {},
   "source": [
    "Theorem <a class=\"ProveItLink\" href=\"../../_theorems_.ipynb#mult_8_0\">mult_8_0</a> of type <a class=\"ProveItLink\" href=\"../../../../../../../doc/html/api/proveit.logic.Equals.html\">Equals</a>\n",
    "=======================\n",
    "# from context <a class=\"ProveItLink\" href=\"../../_context_.ipynb\">proveit.number.numeral.deci</a>\n",
    "*** see <a class=\"ProveItLink\" href=\"dependencies.ipynb\">dependencies</a> ***"
   ]
  },
  {
   "cell_type": "code",
   "execution_count": 1,
   "metadata": {},
   "outputs": [],
   "source": [
    "# import the special expression\n",
    "from proveit.number.numeral.deci._theorems_ import mult_8_0"
   ]
  },
  {
   "cell_type": "code",
   "execution_count": 2,
   "metadata": {},
   "outputs": [
    {
     "name": "stdout",
     "output_type": "stream",
     "text": [
      "Passed sanity check: built 'mult_8_0' is the same as the stored Expression.\n"
     ]
    }
   ],
   "source": [
    "# check that the built expression is the same as the stored expression\n",
    "%check_expr mult_8_0"
   ]
  },
  {
   "cell_type": "code",
   "execution_count": 3,
   "metadata": {},
   "outputs": [
    {
     "data": {
      "text/html": [
       "<table><tr><th>&nbsp;</th><th>core type</th><th>sub-expressions</th><th>expression</th></tr>\n",
       "<tr><td>0</td><td>Operation</td><td>operator:&nbsp;1<br>operands:&nbsp;2<br></td><td><a class=\"ProveItLink\" href=\"expr.ipynb\"><img src=\"data:image/png;base64,iVBORw0KGgoAAAANSUhEUgAAAFcAAAAVBAMAAADBdm84AAAAMFBMVEX////c3NwiIiJERESqqqqY\n",
       "mJh2dnZmZmYQEBDu7u4yMjJUVFTMzMyIiIi6uroAAAAs73DqAAAAAXRSTlMAQObYZgAAAUhJREFU\n",
       "KM9jYCAJ8F3AFIvDpfg0A8O0tBI4l7P2+gEG9gPoqsDCDAwrGRgKGNgDYKJMDzh1GBgWoCuGCPNe\n",
       "YGANYOBUgIleYmC4xcAQhq4YIswxgYFtA5JibQaG9wIMM9AVQ4RfMTCw/J7ABvfldwaG8w4MzA5o\n",
       "iiHCZUCW/ddrMEHGb0DRCwxsBahqocJLgUz2/4ooogkMLGAfVq0CgdUI4T4gM/zUf5C1nBPgonwN\n",
       "WExOYPjHwMBawBD/EygyXwFuH88HrM74Bw4Qxq9AkRkGUJ8EYCiGCrcwgMOpFimM/AWgzihSAgFl\n",
       "hLAp0GQBBoaNSKGfBHTZAsxIAQqnA8N5JQNLAjxeHTh7GDCCDir8CMh6XY6UkMpuA1MM1wP0hAQW\n",
       "BrkBE8zAnkJZE7CJ5uJIzyuxiHEuwKFYGosYtwAOxYxYstUd7EoB4ndkU3OvRx4AAAAASUVORK5C\n",
       "YII=\n",
       "\" style=\"display:inline;vertical-align:middle;\" /></a></td></tr>\n",
       "<tr><td>1</td><td>Literal</td><td></td><td><a class=\"ProveItLink\" href=\"../../../../../logic/equality/__pv_it/2fb26078095930560931daa0500ce419a39ea6cd0/expr.ipynb\"><img src=\"data:image/png;base64,iVBORw0KGgoAAAANSUhEUgAAAA4AAAAFBAMAAACHocAhAAAAFVBMVEX///9EREQiIiJUVFQyMjJm\n",
       "ZmYAAADubVkoAAAAAXRSTlMAQObYZgAAABRJREFUCNdjCHEBAWcGXCBICQQUAUpuAwlgGKrkAAAA\n",
       "AElFTkSuQmCC\n",
       "\" style=\"display:inline;vertical-align:middle;\" /></a></td></tr>\n",
       "<tr><td>2</td><td>ExprTuple</td><td>3, 7</td><td><a class=\"ProveItLink\" href=\"../e565a5b94c7ff21b3b2d665f7ede0eca737295300/expr.ipynb\"><img src=\"data:image/png;base64,iVBORw0KGgoAAAANSUhEUgAAAEMAAAAVBAMAAADvM06qAAAAMFBMVEX////c3NwiIiJERESqqqqY\n",
       "mJh2dnZmZmYQEBDu7u4yMjJUVFTMzMyIiIi6uroAAAAs73DqAAAAAXRSTlMAQObYZgAAAS9JREFU\n",
       "KM+NkjEvBEEUx3/L7q3BXa7XnJpCo3bfwFZ0bBRUki3kVJcolCJbyXauUVzHN7iawkZB4hRHSYHi\n",
       "iEicN3d2MmKzMcXk9978M+//5g38Y1XSotM1vV3A0eaOyanmTcciXwdtiPCDTDLWU/M2taCc4gWo\n",
       "Wia5glubVmAipnRqSebguWpRAo/gfsYl4/kdLusWjddpSLDUv84UzpscpBaVIk4k8gezvyShRW6L\n",
       "Q4lWzwf6bhXnSCp7fIEXsf4hyeNaTqHpFy2Rppy+JJOFH5OBsRtoyT66L5pW08tVi6TQotwiqTPr\n",
       "6TZQhvBabMm7tHFDM4C6Ohi6GpFu+kGCp11rjI1uh+Q1IyZ7wyp/170hMeqFeRIzeLZHn6FAouQz\n",
       "MJOjKBua0j6cwo95B9/mw2J8jfB2nQAAAABJRU5ErkJggg==\n",
       "\" style=\"display:inline;vertical-align:middle;\" /></a></td></tr>\n",
       "<tr><td>3</td><td>Operation</td><td>operator:&nbsp;4<br>operands:&nbsp;5<br></td><td><a class=\"ProveItLink\" href=\"../aa26733078e9f26cbc6ff6eb17e326590f5b6ae40/expr.ipynb\"><img src=\"data:image/png;base64,iVBORw0KGgoAAAANSUhEUgAAACMAAAAOBAMAAABXxbiCAAAAMFBMVEX///+6uroQEBAyMjLMzMzc\n",
       "3NxERESIiIhUVFQiIiKYmJiqqqpmZmZ2dnbu7u4AAAACo3QQAAAAAXRSTlMAQObYZgAAAKZJREFU\n",
       "GNNjYHh79zQDDPAdr3EAUgcYeBbAhDgF+KYwMHAtYOCbABOqZGAoZmDgbUASmsHAIB/AwP3jAW8B\n",
       "TOgPA4P/BgaG/F+1MBHWv0AhoDzP/6koQhcYGNY4/98Asv8BXIjrAMP6f0Ch9xPgGpkeMLD+Ago9\n",
       "SoAav4DhEZB1HMkR+wMYmAIYGFqRnHqTgYHbjoH7AtxDG/hUgJTEGSRvn61wYAAAp/Yxs+p9gBYA\n",
       "AAAASUVORK5CYII=\n",
       "\" style=\"display:inline;vertical-align:middle;\" /></a></td></tr>\n",
       "<tr><td>4</td><td>Literal</td><td></td><td><a class=\"ProveItLink\" href=\"../../../../multiplication/__pv_it/21fd2079611555ecce512d99547a00d551e6b86b0/expr.ipynb\"><img src=\"data:image/png;base64,iVBORw0KGgoAAAANSUhEUgAAAAMAAAADBAMAAACkBqiMAAAAElBMVEX///9EREQQEBAiIiLu7u4A\n",
       "AABGBidwAAAAAXRSTlMAQObYZgAAABFJREFUCNdjYHFgcDVgcBIAAASWAQx4jI0xAAAAAElFTkSu\n",
       "QmCC\n",
       "\" style=\"display:inline;vertical-align:middle;\" /></a></td></tr>\n",
       "<tr><td>5</td><td>ExprTuple</td><td>6, 7</td><td><a class=\"ProveItLink\" href=\"../1ea20cf02a5219093a31dfdf54faef6c53f139950/expr.ipynb\"><img src=\"data:image/png;base64,iVBORw0KGgoAAAANSUhEUgAAACkAAAAVBAMAAAAp9toTAAAAMFBMVEX////c3NwiIiJERESqqqqY\n",
       "mJh2dnZmZmYQEBDu7u4yMjJUVFTMzMyIiIi6uroAAAAs73DqAAAAAXRSTlMAQObYZgAAARFJREFU\n",
       "GNNtkStPA0EUhb+l++jwaNZjqAaLZv8Bq8DBBtEqkhVNq5ogkARWEeQaRB38g2oQbBCQAKJBgoCQ\n",
       "FEJIKHd2uktpGDG558vMvWfOwP+rlk2BLb1dwnGjZYDq3vbx+lL1IMYLczozUCuQwkKGE6KWcnoN\n",
       "d7AB1QT3rKDL8OJzAk9gfyWuGfkBVwGVgLaIteFNDq13oRluzKkob1T/pRF2yqGozYtRMEFre3yD\n",
       "E7P9OdFh/lVTsWENy2mhpvtoJ3QLZ+u+7rAqZ304JzGv2JGOKU3x28OO1Jt+caAO0M4eRTx3Wqgj\n",
       "uaHa9xLN7CC/bhItCj3Hica1Uwa8a5L8S5UkyeJYlF8yp1tZ0z/0AD+Fckdb9bgdXwAAAABJRU5E\n",
       "rkJggg==\n",
       "\" style=\"display:inline;vertical-align:middle;\" /></a></td></tr>\n",
       "<tr><td>6</td><td>Literal</td><td></td><td><a class=\"ProveItLink\" href=\"../../../__pv_it/7ca36d8558dd5f18c1e16b5e877a0b7e314926450/expr.ipynb\"><img src=\"data:image/png;base64,iVBORw0KGgoAAAANSUhEUgAAAAoAAAAOBAMAAADkjZCYAAAAMFBMVEX///+6uroQEBAyMjLMzMzc\n",
       "3NxERESIiIhUVFQiIiKYmJiqqqpmZmZ2dnbu7u4AAAACo3QQAAAAAXRSTlMAQObYZgAAAFlJREFU\n",
       "CNdjYHh79zQDA8MBBp4FDFwLGPgmMPA2gEjuHw94CxgY8n/VAmV5/k8Fkmuc/29g4DrAsP4fA9MD\n",
       "BtZfDI+AgscZmAIYGFoZuO0YuC8wMEicOc0AAC98GKTiu3IvAAAAAElFTkSuQmCC\n",
       "\" style=\"display:inline;vertical-align:middle;\" /></a></td></tr>\n",
       "<tr><td>7</td><td>Literal</td><td></td><td><a class=\"ProveItLink\" href=\"../../../__pv_it/ec23fc7a1b4222a5f4948b495002b97d6fa18c3c0/expr.ipynb\"><img src=\"data:image/png;base64,iVBORw0KGgoAAAANSUhEUgAAAAoAAAAOBAMAAADkjZCYAAAALVBMVEX///8QEBCYmJh2dnaqqqrc\n",
       "3NxUVFQyMjK6uroiIiLMzMyIiIhmZmbu7u4AAAAZjyHdAAAAAXRSTlMAQObYZgAAAEpJREFUCNdj\n",
       "YLiz+xQDA8MMhpsLGLgnMHAXMHAmMHA8ZeA7wMD1hCHOgIHrNZh8jES+Bss+AqlkeQrSxTyBgWEK\n",
       "w8UFDAx3rLMYAMCjFldHSx/9AAAAAElFTkSuQmCC\n",
       "\" style=\"display:inline;vertical-align:middle;\" /></a></td></tr>\n",
       "</table>\n"
      ],
      "text/plain": [
       "0. (8 * 0) = 0\n",
       "   core type: Operation\n",
       "   operator: 1\n",
       "   operands: 2\n",
       "1. =\n",
       "   core type: Literal\n",
       "   sub-expressions: \n",
       "2. (8 * 0 , 0)\n",
       "   core type: ExprTuple\n",
       "   sub-expressions: 3, 7\n",
       "3. 8 * 0\n",
       "   core type: Operation\n",
       "   operator: 4\n",
       "   operands: 5\n",
       "4. *\n",
       "   core type: Literal\n",
       "   sub-expressions: \n",
       "5. (8 , 0)\n",
       "   core type: ExprTuple\n",
       "   sub-expressions: 6, 7\n",
       "6. 8\n",
       "   core type: Literal\n",
       "   sub-expressions: \n",
       "7. 0\n",
       "   core type: Literal\n",
       "   sub-expressions: "
      ]
     },
     "execution_count": 3,
     "metadata": {},
     "output_type": "execute_result"
    }
   ],
   "source": [
    "# display the expression information\n",
    "mult_8_0.exprInfo()"
   ]
  },
  {
   "cell_type": "code",
   "execution_count": null,
   "metadata": {},
   "outputs": [],
   "source": []
  }
 ],
 "metadata": {
  "kernelspec": {
   "display_name": "Python 3",
   "language": "python",
   "name": "python3"
  }
 },
 "nbformat": 4,
 "nbformat_minor": 0
}
