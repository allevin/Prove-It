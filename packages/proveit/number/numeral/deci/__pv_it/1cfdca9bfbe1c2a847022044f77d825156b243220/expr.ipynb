{
 "cells": [
  {
   "cell_type": "markdown",
   "metadata": {},
   "source": [
    "Theorem <a class=\"ProveItLink\" href=\"../../_theorems_.ipynb#mult_0_6\">mult_0_6</a> of type <a class=\"ProveItLink\" href=\"../../../../../../../doc/html/api/proveit.logic.Equals.html\">Equals</a>\n",
    "=======================\n",
    "# from context <a class=\"ProveItLink\" href=\"../../_context_.ipynb\">proveit.number.numeral.deci</a>\n",
    "*** see <a class=\"ProveItLink\" href=\"dependencies.ipynb\">dependencies</a> ***"
   ]
  },
  {
   "cell_type": "code",
   "execution_count": 1,
   "metadata": {},
   "outputs": [],
   "source": [
    "# import the special expression\n",
    "from proveit.number.numeral.deci._theorems_ import mult_0_6"
   ]
  },
  {
   "cell_type": "code",
   "execution_count": 2,
   "metadata": {},
   "outputs": [
    {
     "name": "stdout",
     "output_type": "stream",
     "text": [
      "Passed sanity check: built 'mult_0_6' is the same as the stored Expression.\n"
     ]
    }
   ],
   "source": [
    "# check that the built expression is the same as the stored expression\n",
    "%check_expr mult_0_6"
   ]
  },
  {
   "cell_type": "code",
   "execution_count": 3,
   "metadata": {},
   "outputs": [
    {
     "data": {
      "text/html": [
       "<table><tr><th>&nbsp;</th><th>core type</th><th>sub-expressions</th><th>expression</th></tr>\n",
       "<tr><td>0</td><td>Operation</td><td>operator:&nbsp;1<br>operands:&nbsp;2<br></td><td><a class=\"ProveItLink\" href=\"expr.ipynb\"><img src=\"data:image/png;base64,iVBORw0KGgoAAAANSUhEUgAAAFcAAAAVBAMAAADBdm84AAAAMFBMVEX////c3NwiIiJERESqqqqY\n",
       "mJh2dnZmZmYQEBDu7u4yMjJUVFTMzMyIiIi6uroAAAAs73DqAAAAAXRSTlMAQObYZgAAAWRJREFU\n",
       "KM+VkztLw1AYhp+mrTba1uwOFi+TRURwzz9oJ0cNLi4Wi0MHq+Cgm0hxsN3sIti6iLODu4jBpeAF\n",
       "iqOLF7SCYDUnNQkmJ4PfcDh5z8PH+10C/4q0GdTmw+ALqN6ve9/7pWX6z/2UutESWgOm2HNfI1lO\n",
       "oe6HlbaahZRJKkPKfVUMmjDnh6/hBhIVlBPSL466UBFnzQ9PwpPGIwwVSb456pF9RnUf/AFXOiUY\n",
       "MUh+OernZcsC+4p/2UjHgk0Oe3DHqfo1zwTE7BrWmiKOHdhg14NVy676DSsV0puSzAZdz8ZBRmS2\n",
       "atRJPkttdHsFvosWTAvPFmwGYLvAPFuI1sXc1s3YmXs2VkdFjP22LqcxixhKX8aBc7bneD04lEVY\n",
       "sm7j1NxxRw11O9g6FF3dgQfrVi2ceXK53IaBtn+RSrdWvoQmW8WafEPjhkwthOxzQ6Kp9RB4WKIN\n",
       "aiFwRPJb3cnRH2nXYJYNNp7SAAAAAElFTkSuQmCC\n",
       "\" style=\"display:inline;vertical-align:middle;\" /></a></td></tr>\n",
       "<tr><td>1</td><td>Literal</td><td></td><td><a class=\"ProveItLink\" href=\"../../../../../logic/equality/__pv_it/2fb26078095930560931daa0500ce419a39ea6cd0/expr.ipynb\"><img src=\"data:image/png;base64,iVBORw0KGgoAAAANSUhEUgAAAA4AAAAFBAMAAACHocAhAAAAFVBMVEX///9EREQiIiJUVFQyMjJm\n",
       "ZmYAAADubVkoAAAAAXRSTlMAQObYZgAAABRJREFUCNdjCHEBAWcGXCBICQQUAUpuAwlgGKrkAAAA\n",
       "AElFTkSuQmCC\n",
       "\" style=\"display:inline;vertical-align:middle;\" /></a></td></tr>\n",
       "<tr><td>2</td><td>ExprTuple</td><td>3, 6</td><td><a class=\"ProveItLink\" href=\"../b19b1645c81a72fa2512ab9766269e0e943cbaaf0/expr.ipynb\"><img src=\"data:image/png;base64,iVBORw0KGgoAAAANSUhEUgAAAEMAAAAVBAMAAADvM06qAAAAMFBMVEX////c3NwiIiJERESqqqqY\n",
       "mJh2dnZmZmYQEBDu7u4yMjJUVFTMzMyIiIi6uroAAAAs73DqAAAAAXRSTlMAQObYZgAAAVlJREFU\n",
       "KM+NkjtLA0EURk82DzOajektTKGVQUSw33+QVJa62NgYTJUmChbaiQQLs53bCGol1hbpRVxsAj4g\n",
       "Wtr4QCMIPmbczGyKENxi+WbumbnfnXvhH182GBRdUL9zaNytRZt71ZVQiPVWk6GmVEcwzW5TE7EC\n",
       "p6Gy2qIAPtgBdh7b14jlchyqK7iGeUjXsU7Ivmhksa7VFDzl8OARRitk3nTg0Jj6gEuHuEMVxl0y\n",
       "XzrwedFyQlMdiQSkKhyESKdLiNcSkxHikvDZiRAhbYgfWK33INkNvqNE+3l1i3Ts9CTKPCtE2X2X\n",
       "m96M8iKRwNgtKWQTVXTCFD2rb1FFF3Mq0Rzq6VJ5jRSVF9F9uiVI+izLxQSeaUDcFVt/rrAcsY0q\n",
       "+kEuGuWzqI21WhtP5RXVG3lwuE06128G7o2SDUi6/ZCSUeVwGAYgQo3AWB/CNmpE+YgNHMxb+AVg\n",
       "TV6/RWEelwAAAABJRU5ErkJggg==\n",
       "\" style=\"display:inline;vertical-align:middle;\" /></a></td></tr>\n",
       "<tr><td>3</td><td>Operation</td><td>operator:&nbsp;4<br>operands:&nbsp;5<br></td><td><a class=\"ProveItLink\" href=\"../3c7535009dedb29e9c350183096f9e75129b4e800/expr.ipynb\"><img src=\"data:image/png;base64,iVBORw0KGgoAAAANSUhEUgAAACMAAAAOBAMAAABXxbiCAAAAMFBMVEX///9EREQQEBCYmJh2dnaq\n",
       "qqrc3NxUVFQyMjK6uroiIiLMzMyIiIhmZmbu7u4AAADSWfX9AAAAAXRSTlMAQObYZgAAAJ9JREFU\n",
       "GNNjYHh75jYDHDy54g0kVzK82gATYVvNUMXAwLOAgacBJsTlwNABJAsYOL/BhOwfgEj+CwzcX2FC\n",
       "TWAy34GB+w9M6MeeswEQoS9QEb5fBgyLEUJ8QGP4/jMw+D+Aa3y/AKQKaEMA2PjPQKFHAiCzgEIH\n",
       "QI5ghTtCCqwK6FSWBTCheLBZDEsZHsE9xOjApwyk3vpUI7x9/foEBgCRlTEqxnoBDQAAAABJRU5E\n",
       "rkJggg==\n",
       "\" style=\"display:inline;vertical-align:middle;\" /></a></td></tr>\n",
       "<tr><td>4</td><td>Literal</td><td></td><td><a class=\"ProveItLink\" href=\"../../../../multiplication/__pv_it/21fd2079611555ecce512d99547a00d551e6b86b0/expr.ipynb\"><img src=\"data:image/png;base64,iVBORw0KGgoAAAANSUhEUgAAAAMAAAADBAMAAACkBqiMAAAAElBMVEX///9EREQQEBAiIiLu7u4A\n",
       "AABGBidwAAAAAXRSTlMAQObYZgAAABFJREFUCNdjYHFgcDVgcBIAAASWAQx4jI0xAAAAAElFTkSu\n",
       "QmCC\n",
       "\" style=\"display:inline;vertical-align:middle;\" /></a></td></tr>\n",
       "<tr><td>5</td><td>ExprTuple</td><td>6, 7</td><td><a class=\"ProveItLink\" href=\"../22f451da684d50c034fe903ed143d9790a8726c00/expr.ipynb\"><img src=\"data:image/png;base64,iVBORw0KGgoAAAANSUhEUgAAACkAAAAVBAMAAAAp9toTAAAAMFBMVEX////c3NwiIiJERESqqqqY\n",
       "mJh2dnZmZmYQEBDu7u4yMjJUVFTMzMyIiIi6uroAAAAs73DqAAAAAXRSTlMAQObYZgAAAQ5JREFU\n",
       "GNNtkS1Pw1AUhp99dOxCW+YRTIAjCBJ8/wEoJNRhWJiaGQIBFhoEm6whARRBI+oJSR0GkgWJ2hZA\n",
       "kPBxz2m3jIUrTs775OY9X/D/89MpsC3hHjrPBzk5b+0xk9jkClY5SxQWVriFGLwUr44XKy2GXMMW\n",
       "VCOKN/gDpTuRxC68wnwT903ppcZSQAsWQ9wv1Z8PjwFUmlxk9EOgGW6yDOWYk0n6A/sR/iHfEw5m\n",
       "aAsGuH2hUu0987U0FXqEdFbOOlvTv9ZhHZmiUkda3VBfJ2bXiiW6iXhSCs2xdvZiRadxhzmt2azd\n",
       "7sFsj2pttNFRIhM7YZ474wU3sk3+pUb2t5CL8UnmxKowfaEn+AV5kUOeRroK2gAAAABJRU5ErkJg\n",
       "gg==\n",
       "\" style=\"display:inline;vertical-align:middle;\" /></a></td></tr>\n",
       "<tr><td>6</td><td>Literal</td><td></td><td><a class=\"ProveItLink\" href=\"../../../__pv_it/ec23fc7a1b4222a5f4948b495002b97d6fa18c3c0/expr.ipynb\"><img src=\"data:image/png;base64,iVBORw0KGgoAAAANSUhEUgAAAAoAAAAOBAMAAADkjZCYAAAALVBMVEX///8QEBCYmJh2dnaqqqrc\n",
       "3NxUVFQyMjK6uroiIiLMzMyIiIhmZmbu7u4AAAAZjyHdAAAAAXRSTlMAQObYZgAAAEpJREFUCNdj\n",
       "YLiz+xQDA8MMhpsLGLgnMHAXMHAmMHA8ZeA7wMD1hCHOgIHrNZh8jES+Bss+AqlkeQrSxTyBgWEK\n",
       "w8UFDAx3rLMYAMCjFldHSx/9AAAAAElFTkSuQmCC\n",
       "\" style=\"display:inline;vertical-align:middle;\" /></a></td></tr>\n",
       "<tr><td>7</td><td>Literal</td><td></td><td><a class=\"ProveItLink\" href=\"../../../__pv_it/09b499e53e24cf89c2513ba78b501f0314edaa680/expr.ipynb\"><img src=\"data:image/png;base64,iVBORw0KGgoAAAANSUhEUgAAAAoAAAAOBAMAAADkjZCYAAAAMFBMVEX///+6urpERESqqqqIiIgQ\n",
       "EBCYmJgyMjJUVFQiIiLc3NzMzMxmZmZ2dnbu7u4AAABf+mkYAAAAAXRSTlMAQObYZgAAAFNJREFU\n",
       "CNdjYOC7c3cDA8PKDRwTGBjmMrAXMLD9YwAC9gAQyV/tcpiB4f00Bs4EhvcfGHj/MbyfwMD2mYEf\n",
       "qOwLAxOYzQwWZ9BleJrAwMDT08gAANMyF0ZGTeKAAAAAAElFTkSuQmCC\n",
       "\" style=\"display:inline;vertical-align:middle;\" /></a></td></tr>\n",
       "</table>\n"
      ],
      "text/plain": [
       "0. (0 * 6) = 0\n",
       "   core type: Operation\n",
       "   operator: 1\n",
       "   operands: 2\n",
       "1. =\n",
       "   core type: Literal\n",
       "   sub-expressions: \n",
       "2. (0 * 6 , 0)\n",
       "   core type: ExprTuple\n",
       "   sub-expressions: 3, 6\n",
       "3. 0 * 6\n",
       "   core type: Operation\n",
       "   operator: 4\n",
       "   operands: 5\n",
       "4. *\n",
       "   core type: Literal\n",
       "   sub-expressions: \n",
       "5. (0 , 6)\n",
       "   core type: ExprTuple\n",
       "   sub-expressions: 6, 7\n",
       "6. 0\n",
       "   core type: Literal\n",
       "   sub-expressions: \n",
       "7. 6\n",
       "   core type: Literal\n",
       "   sub-expressions: "
      ]
     },
     "execution_count": 3,
     "metadata": {},
     "output_type": "execute_result"
    }
   ],
   "source": [
    "# display the expression information\n",
    "mult_0_6.exprInfo()"
   ]
  },
  {
   "cell_type": "code",
   "execution_count": null,
   "metadata": {},
   "outputs": [],
   "source": []
  }
 ],
 "metadata": {
  "kernelspec": {
   "display_name": "Python 3",
   "language": "python",
   "name": "python3"
  }
 },
 "nbformat": 4,
 "nbformat_minor": 0
}
