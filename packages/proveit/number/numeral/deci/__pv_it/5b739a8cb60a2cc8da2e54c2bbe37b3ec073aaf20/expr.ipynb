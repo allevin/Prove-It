{
 "cells": [
  {
   "cell_type": "markdown",
   "metadata": {},
   "source": [
    "Expression of type <a class=\"ProveItLink\" href=\"../../../../../../../doc/html/api/proveit.ExprTuple.html\">ExprTuple</a>\n",
    "=======================\n",
    "# from context <a class=\"ProveItLink\" href=\"../../_context_.ipynb\">proveit.number.numeral.deci</a>"
   ]
  },
  {
   "cell_type": "code",
   "execution_count": 1,
   "metadata": {},
   "outputs": [],
   "source": [
    "# import Expression classes needed to build the expression\n",
    "from proveit import ExprTuple\n",
    "from proveit.number import Add, DecimalSequence, nine, one, three, two"
   ]
  },
  {
   "cell_type": "code",
   "execution_count": 2,
   "metadata": {},
   "outputs": [
    {
     "data": {
      "text/html": [
       "<strong id=\"expr\">expr:</strong> <a class=\"ProveItLink\" href=\"expr.ipynb\"><img src=\"data:image/png;base64,iVBORw0KGgoAAAANSUhEUgAAAFcAAAAVBAMAAADBdm84AAAAMFBMVEX////c3NwiIiJERESqqqqY\n",
       "mJh2dnZmZmYQEBDu7u4yMjJUVFTMzMyIiIi6uroAAAAs73DqAAAAAXRSTlMAQObYZgAAAYlJREFU\n",
       "KM+Vkz1IQlEUx3+i5uczaSkwqLEmWxqaeluT5NQYQaBTJEkftOTQ0GQvWoKGHkRDRuQaBTW1RODS\n",
       "VvBqDIIMExTK7vWVvSsIdoZ3z7nnx+F/zj0P/mWRUnfcrPzcwv7KpZoIp+b1X38CXKuHFr5rERzj\n",
       "2mQgqsD9RD5/3N0axNAqYIJWwp0jNGanduxjUefd9vYvBHwOcZgBv0GvSU/NziXsY7oFo4nMlsGV\n",
       "xR68wMEY2pcC8ydDwmcGGxZunRWalT/a4GDRAQuLG/RkOAJfDvenCt+coMDhKnhM8hA4YqoNRssr\n",
       "cFAMIJJDivU+3lXaYLYNJ5yV1d+wO2tOY71QGCkUpIBBmEw6YK1ow5t2P6azcqBhqPAUrqiUMS7i\n",
       "MkOWIqMu2o8GWnA4gzeK1yQt4lFOUeB7IlUOhn/hvlRqCTm6Z3GRzuoq7Fld19krC8+3Vl8m3miI\n",
       "Bw1a+JUVSjiDJ3UVxXN755wXr84gqcILzRXtZCockAOLdWI1NQxJva4uf6sH+AaFvmx6YpnJCgAA\n",
       "AABJRU5ErkJggg==\n",
       "\" style=\"display:inline;vertical-align:middle;\" /></a><br>"
      ],
      "text/plain": [
       "expr: (9 + 3 , 12)"
      ]
     },
     "execution_count": 2,
     "metadata": {},
     "output_type": "execute_result"
    }
   ],
   "source": [
    "# build up the expression from sub-expressions\n",
    "expr = ExprTuple(Add(nine, three), DecimalSequence(one, two))"
   ]
  },
  {
   "cell_type": "code",
   "execution_count": 3,
   "metadata": {},
   "outputs": [
    {
     "name": "stdout",
     "output_type": "stream",
     "text": [
      "Passed sanity check: built 'expr' is the same as the stored Expression.\n"
     ]
    }
   ],
   "source": [
    "# check that the built expression is the same as the stored expression\n",
    "%check_expr"
   ]
  },
  {
   "cell_type": "code",
   "execution_count": 4,
   "metadata": {},
   "outputs": [
    {
     "data": {
      "text/html": [
       "<table><tr><th>&nbsp;</th><th>core type</th><th>sub-expressions</th><th>expression</th></tr>\n",
       "<tr><td>0</td><td>ExprTuple</td><td>1, 2</td><td><a class=\"ProveItLink\" href=\"expr.ipynb\"><img src=\"data:image/png;base64,iVBORw0KGgoAAAANSUhEUgAAAFcAAAAVBAMAAADBdm84AAAAMFBMVEX////c3NwiIiJERESqqqqY\n",
       "mJh2dnZmZmYQEBDu7u4yMjJUVFTMzMyIiIi6uroAAAAs73DqAAAAAXRSTlMAQObYZgAAAYlJREFU\n",
       "KM+Vkz1IQlEUx3+i5uczaSkwqLEmWxqaeluT5NQYQaBTJEkftOTQ0GQvWoKGHkRDRuQaBTW1RODS\n",
       "VvBqDIIMExTK7vWVvSsIdoZ3z7nnx+F/zj0P/mWRUnfcrPzcwv7KpZoIp+b1X38CXKuHFr5rERzj\n",
       "2mQgqsD9RD5/3N0axNAqYIJWwp0jNGanduxjUefd9vYvBHwOcZgBv0GvSU/NziXsY7oFo4nMlsGV\n",
       "xR68wMEY2pcC8ydDwmcGGxZunRWalT/a4GDRAQuLG/RkOAJfDvenCt+coMDhKnhM8hA4YqoNRssr\n",
       "cFAMIJJDivU+3lXaYLYNJ5yV1d+wO2tOY71QGCkUpIBBmEw6YK1ow5t2P6azcqBhqPAUrqiUMS7i\n",
       "MkOWIqMu2o8GWnA4gzeK1yQt4lFOUeB7IlUOhn/hvlRqCTm6Z3GRzuoq7Fld19krC8+3Vl8m3miI\n",
       "Bw1a+JUVSjiDJ3UVxXN755wXr84gqcILzRXtZCockAOLdWI1NQxJva4uf6sH+AaFvmx6YpnJCgAA\n",
       "AABJRU5ErkJggg==\n",
       "\" style=\"display:inline;vertical-align:middle;\" /></a></td></tr>\n",
       "<tr><td>1</td><td>Operation</td><td>operator:&nbsp;3<br>operands:&nbsp;4<br></td><td><a class=\"ProveItLink\" href=\"../17ee47d0a3771eb43f236c50ff7ececda0d1b4cc0/expr.ipynb\"><img src=\"data:image/png;base64,iVBORw0KGgoAAAANSUhEUgAAAC0AAAAQBAMAAABw0OvaAAAAMFBMVEX///8iIiKYmJi6urqIiIgy\n",
       "MjJERESqqqoQEBDc3NzMzMx2dnZmZmZUVFTu7u4AAABn2L4sAAAAAXRSTlMAQObYZgAAALtJREFU\n",
       "GNNjYHh7+hYDCuDava2AgYGznWHGBBTxOQzMXxgY2BoYeBMgAi8h1P4Cho8MDPwBDNz/IAIlEKoe\n",
       "LP4+gYHlM4o4A9gckPpPaOKsFxgYeBoY2L6giq+OBRJ8QQw1aOIMLM1AgsllyXc0cYb+ByAS7J6j\n",
       "oaESoaEgE2YxMOQrgK0JQFbP9/8BSJzlJ8N8AxRzvjIwyE9gYJFjCGFAEXdiYP4NpPYcK0AVZz9z\n",
       "tAAlwEoYsAMTJDYAlNgyka9Xk1kAAAAASUVORK5CYII=\n",
       "\" style=\"display:inline;vertical-align:middle;\" /></a></td></tr>\n",
       "<tr><td>2</td><td>Operation</td><td>operator:&nbsp;5<br>operands:&nbsp;6<br></td><td><a class=\"ProveItLink\" href=\"../924182b6a365e5553cc4594df6a543e0523917720/expr.ipynb\"><img src=\"data:image/png;base64,iVBORw0KGgoAAAANSUhEUgAAABMAAAAPBAMAAAD0aukfAAAAMFBMVEX///92dnbMzMwiIiKqqqq6\n",
       "urrc3NyYmJgyMjIQEBBmZmaIiIhUVFTu7u5EREQAAADsrU5cAAAAAXRSTlMAQObYZgAAAG1JREFU\n",
       "CNdjYGB4y8DAtqovgIGB4d5fBoYcBu4vDAx3zgCZZxkY7IGi3EDmzAsM5wMgzP4LDOuhTCCwvwBj\n",
       "Mn1kgDE5HsCZ6xhgTO4DcKYXA1sChMm0gIEdykwWFFzMwMC18sdyBvv//z8zIAEAEZklb2GNE0kA\n",
       "AAAASUVORK5CYII=\n",
       "\" style=\"display:inline;vertical-align:middle;\" /></a></td></tr>\n",
       "<tr><td>3</td><td>Literal</td><td></td><td><a class=\"ProveItLink\" href=\"../../../../addition/__pv_it/3e6688136fa3c7aefbebe51301b7c3ebf0b69c440/expr.ipynb\"><img src=\"data:image/png;base64,iVBORw0KGgoAAAANSUhEUgAAAA4AAAAOBAMAAADtZjDiAAAAJFBMVEX///+6urpUVFQQEBAiIiIy\n",
       "MjJmZmaIiIiqqqrc3Nzu7u4AAACgHpL+AAAAAXRSTlMAQObYZgAAAB5JREFUCNdjYGBgWMkAAe2k\n",
       "0Kmhoc6hoUGk6BMHYgAHOwjcado9fwAAAABJRU5ErkJggg==\n",
       "\" style=\"display:inline;vertical-align:middle;\" /></a></td></tr>\n",
       "<tr><td>4</td><td>ExprTuple</td><td>7, 8</td><td><a class=\"ProveItLink\" href=\"../1e50059c247fa025fdb59d63b95f0d2f521885840/expr.ipynb\"><img src=\"data:image/png;base64,iVBORw0KGgoAAAANSUhEUgAAACkAAAAVBAMAAAAp9toTAAAAMFBMVEX////c3NwiIiJERESqqqqY\n",
       "mJh2dnZmZmYQEBDu7u4yMjJUVFTMzMyIiIi6uroAAAAs73DqAAAAAXRSTlMAQObYZgAAARVJREFU\n",
       "GNNtkTFLA0EQRl+4XJI1ufM6BQVrK9NYu52lVpYiBEwlCkIEqytSmysFC69JISL4AyysbERIk04h\n",
       "pLRSUUEh6uzeXorDLYaZx/LNNzPw/wsHBbBtwj2cdW4y0Nhtaaq3kl1Q6jIfWTpHOIEUggFeTL1p\n",
       "6b7mDbagljCbUvmydMPSU3iG8ybBT95bFDxNB/v3w9GZa6gc0IdqjDfJ4N2lhHLKCag+644SSB3G\n",
       "GEH/6eE9n6GX0Hgha+M8LMLapqHdrElqovpNDBWFVdF6ZWlEIvgbViL8lLbQZa5QYp8h4ad1Npai\n",
       "fahRPVlF+ehYi9yIWpRPlSdmYn/H5f50wXt2kwWqjJ8FV0xPUjdSpeKFHuEPrcRA7+Hx1E0AAAAA\n",
       "SUVORK5CYII=\n",
       "\" style=\"display:inline;vertical-align:middle;\" /></a></td></tr>\n",
       "<tr><td>5</td><td>Literal</td><td></td><td><a class=\"ProveItLink\" href=\"../b28e6317a1d330492d51cd67ccba81d4d210b8b30/expr.ipynb\"><img src=\"data:image/png;base64,iVBORw0KGgoAAAANSUhEUgAAAE8AAAAOBAMAAACcHlx8AAAAMFBMVEX///8iIiIQEBCYmJjc3Ny6\n",
       "urru7u5mZmZ2dnaqqqrMzMxEREQyMjJUVFSIiIgAAABUCcz6AAAAAXRSTlMAQObYZgAAAWhJREFU\n",
       "KM99kL9Lw3AQxV/bNE1s0rh1VNTBqWR2sAXdEwRns9XJtFsRwSxVx/oXNLgqNKugtLsgHQVtDWLt\n",
       "IEahVrT+vIsK1qEH+QS+PN67ewDuPlutExd/JtnA8EgTJv/eAPllSOj/EyLLGHsmbFoYNRuMVJ9Q\n",
       "80cKM2HQA8FojtIJA6bmsWMTQqmbg7gTuKslxG8Xg7N4cEiadnkGMfb6Ts062M0JBeyZyrizAkk9\n",
       "hV1GFVjKUaLKXrjnai5NoY+EK2aQnKsUsRzxYPskFHpIeIiGF9QZU1Cn56+hUoZIq1u2iapFx9JD\n",
       "xEctrPmVvlgPWuF3X/kJrCoCs/xgu7gKa/wgRD1obG8wlCZ7IY34o2hwvnUsco18+pEV7uFrOqAb\n",
       "pkNeYh9qY8Gu4EJ2e9JPjQcUm2ogn1MLkNyqoNNlVIniO4oupyUM1oB8/b11vs47bAfkWQpukAwQ\n",
       "n4TkQW67Qruz30F3C18Fz3drZAxLCAAAAABJRU5ErkJggg==\n",
       "\" style=\"display:inline;vertical-align:middle;\" /></a></td></tr>\n",
       "<tr><td>6</td><td>ExprTuple</td><td>9, 10</td><td><a class=\"ProveItLink\" href=\"../ae02dd48deb37365fce54e88fb6bdda021f4c6730/expr.ipynb\"><img src=\"data:image/png;base64,iVBORw0KGgoAAAANSUhEUgAAACkAAAAVBAMAAAAp9toTAAAAMFBMVEX////c3NwiIiJERESqqqqY\n",
       "mJh2dnZmZmYQEBDu7u4yMjJUVFTMzMyIiIi6uroAAAAs73DqAAAAAXRSTlMAQObYZgAAAOtJREFU\n",
       "GNNjYMAO+C6gCcSBiNNAzDwBIsBYvvgBA/sBIGslAwOnPVRUmoH3CwPDAgYG3gsMnLv3Q0V3MjDo\n",
       "MzCEMTBwgATuQ0U7JjDsf8Awg4HhFQOS6PoJDPUPGJgdGMqQRYFAfwIDWwHDUlRRnm8MDCwLGPpQ\n",
       "RbkMgD5oYPiHKloMUv8BTZR3A0S0BUXUnYFRAGSCKUwUJMFTwMAqwMC6gCEdKsr5CUgLpaUVMYBc\n",
       "9gjIKe9fHsDZLwB07P//QEmuBwwcArAQhTFAPmZNgLJZ4d7LhYQkqijnAnCYQgA8SrhBRjGix9Ad\n",
       "BgYAyE9BDPXceaYAAAAASUVORK5CYII=\n",
       "\" style=\"display:inline;vertical-align:middle;\" /></a></td></tr>\n",
       "<tr><td>7</td><td>Literal</td><td></td><td><a class=\"ProveItLink\" href=\"../../../__pv_it/cdcd6ad997b4d5c13a719b005810863ba48ff0c70/expr.ipynb\"><img src=\"data:image/png;base64,iVBORw0KGgoAAAANSUhEUgAAAAoAAAAOBAMAAADkjZCYAAAAMFBMVEX///8iIiKYmJi6urqIiIgy\n",
       "MjJERESqqqoQEBDc3NzMzMx2dnZmZmZUVFTu7u4AAABn2L4sAAAAAXRSTlMAQObYZgAAAFVJREFU\n",
       "CNdjYHh7+hYDA2c7w4wJDGwNDLwJDPwBDNz/GN4nMLB8BrM/MfA0MLB9YeALYqj5wsDA5LLkOwMQ\n",
       "ANUAAWsAA8tPhvkGDCxyDCFA/p5jBQwAtzwVEbGPESsAAAAASUVORK5CYII=\n",
       "\" style=\"display:inline;vertical-align:middle;\" /></a></td></tr>\n",
       "<tr><td>8</td><td>Literal</td><td></td><td><a class=\"ProveItLink\" href=\"../../../__pv_it/9176d93c83afa2c995b614976e3cb49207102fa70/expr.ipynb\"><img src=\"data:image/png;base64,iVBORw0KGgoAAAANSUhEUgAAAAoAAAAOBAMAAADkjZCYAAAAMFBMVEX///+YmJju7u4QEBBUVFQy\n",
       "MjIiIiKIiIi6urpmZmbc3NyqqqpERER2dnbMzMwAAAB0GlNiAAAAAXRSTlMAQObYZgAAAE1JREFU\n",
       "CNdjYHh79zQDA9cEhv4CBt7fDPwJDNxgEgiAIkAQAsR8Vx1ATIbiBhDJ/ImB6wEDz0cG/U8gkj+A\n",
       "ge0XA7sAQ/8FBoadM6MZAEflFACalZ/OAAAAAElFTkSuQmCC\n",
       "\" style=\"display:inline;vertical-align:middle;\" /></a></td></tr>\n",
       "<tr><td>9</td><td>Literal</td><td></td><td><a class=\"ProveItLink\" href=\"../../../__pv_it/9be8badea4c35b9724062cecc501d17a3158d1d20/expr.ipynb\"><img src=\"data:image/png;base64,iVBORw0KGgoAAAANSUhEUgAAAAgAAAAPBAMAAAArJJMAAAAAHlBMVEX///+YmJgyMjIQEBBmZmaI\n",
       "iIhUVFTu7u5EREQAAAAw+MI4AAAAAXRSTlMAQObYZgAAACFJREFUCNdjYGBoZ2BgqJjOwFCWBiQY\n",
       "WEklWJwnOTKAAACjEQo8HvEr3AAAAABJRU5ErkJggg==\n",
       "\" style=\"display:inline;vertical-align:middle;\" /></a></td></tr>\n",
       "<tr><td>10</td><td>Literal</td><td></td><td><a class=\"ProveItLink\" href=\"../../../__pv_it/77d407a64829263cdc16415becd4c2293f77a4bf0/expr.ipynb\"><img src=\"data:image/png;base64,iVBORw0KGgoAAAANSUhEUgAAAAkAAAAOBAMAAAAPuiubAAAAMFBMVEX///+YmJh2dnbMzMwQEBAi\n",
       "IiLu7u6qqqqIiIhUVFS6urpEREQyMjJmZmbc3NwAAACOMKdoAAAAAXRSTlMAQObYZgAAAFBJREFU\n",
       "CNdj4Lt7egEDw0sGju8MDNMYGOIZGFwSGOYvYDifwHAfKAEUSQASzJ9ATJ4NIPI2iOCYACJrGfge\n",
       "MDBfYGB8wPBUSekqUPH//18ZAIliFhc3zESNAAAAAElFTkSuQmCC\n",
       "\" style=\"display:inline;vertical-align:middle;\" /></a></td></tr>\n",
       "</table>\n"
      ],
      "text/plain": [
       "0. (9 + 3 , 12)\n",
       "   core type: ExprTuple\n",
       "   sub-expressions: 1, 2\n",
       "1. 9 + 3\n",
       "   core type: Operation\n",
       "   operator: 3\n",
       "   operands: 4\n",
       "2. 12\n",
       "   core type: Operation\n",
       "   operator: 5\n",
       "   operands: 6\n",
       "3. +\n",
       "   core type: Literal\n",
       "   sub-expressions: \n",
       "4. (9 , 3)\n",
       "   core type: ExprTuple\n",
       "   sub-expressions: 7, 8\n",
       "5. Decimal\n",
       "   core type: Literal\n",
       "   sub-expressions: \n",
       "6. (1 , 2)\n",
       "   core type: ExprTuple\n",
       "   sub-expressions: 9, 10\n",
       "7. 9\n",
       "   core type: Literal\n",
       "   sub-expressions: \n",
       "8. 3\n",
       "   core type: Literal\n",
       "   sub-expressions: \n",
       "9. 1\n",
       "   core type: Literal\n",
       "   sub-expressions: \n",
       "10. 2\n",
       "    core type: Literal\n",
       "    sub-expressions: "
      ]
     },
     "execution_count": 4,
     "metadata": {},
     "output_type": "execute_result"
    }
   ],
   "source": [
    "# display the expression information\n",
    "expr.exprInfo()"
   ]
  },
  {
   "cell_type": "code",
   "execution_count": null,
   "metadata": {},
   "outputs": [],
   "source": []
  }
 ],
 "metadata": {
  "kernelspec": {
   "display_name": "Python 3",
   "language": "python",
   "name": "python3"
  }
 },
 "nbformat": 4,
 "nbformat_minor": 0
}
