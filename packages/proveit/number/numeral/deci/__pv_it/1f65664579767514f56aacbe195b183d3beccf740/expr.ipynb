{
 "cells": [
  {
   "cell_type": "markdown",
   "metadata": {},
   "source": [
    "Theorem <a class=\"ProveItLink\" href=\"../../_theorems_.ipynb#mult_6_8\">mult_6_8</a> of type <a class=\"ProveItLink\" href=\"../../../../../../../doc/html/api/proveit.logic.Equals.html\">Equals</a>\n",
    "=======================\n",
    "# from context <a class=\"ProveItLink\" href=\"../../_context_.ipynb\">proveit.number.numeral.deci</a>\n",
    "*** see <a class=\"ProveItLink\" href=\"dependencies.ipynb\">dependencies</a> ***"
   ]
  },
  {
   "cell_type": "code",
   "execution_count": 1,
   "metadata": {},
   "outputs": [],
   "source": [
    "# import the special expression\n",
    "from proveit.number.numeral.deci._theorems_ import mult_6_8"
   ]
  },
  {
   "cell_type": "code",
   "execution_count": 2,
   "metadata": {},
   "outputs": [
    {
     "name": "stdout",
     "output_type": "stream",
     "text": [
      "Passed sanity check: built 'mult_6_8' is the same as the stored Expression.\n"
     ]
    }
   ],
   "source": [
    "# check that the built expression is the same as the stored expression\n",
    "%check_expr mult_6_8"
   ]
  },
  {
   "cell_type": "code",
   "execution_count": 3,
   "metadata": {},
   "outputs": [
    {
     "data": {
      "text/html": [
       "<table><tr><th>&nbsp;</th><th>core type</th><th>sub-expressions</th><th>expression</th></tr>\n",
       "<tr><td>0</td><td>Operation</td><td>operator:&nbsp;1<br>operands:&nbsp;2<br></td><td><a class=\"ProveItLink\" href=\"expr.ipynb\"><img src=\"data:image/png;base64,iVBORw0KGgoAAAANSUhEUgAAAGEAAAAVBAMAAACkm51HAAAAMFBMVEX////c3NwiIiJERESqqqqY\n",
       "mJh2dnZmZmYQEBDu7u4yMjJUVFTMzMyIiIi6uroAAAAs73DqAAAAAXRSTlMAQObYZgAAAX5JREFU\n",
       "OMuVkz1Iw0AUx//9uLZJqw2uDhZF5yw6d3IQwTqoICid2kEKIn6ACFZwEUGCUzazOFQF3YoUbHeX\n",
       "jgoK4uhURBAHre9y11hyIeAbkrv3ux/39Q74fwy21dxqqHEPaOVSq9fVSuU8ki11XOZGMKAGDLXS\n",
       "uR5IAluAoxpRU7IBWtQEdG/IAnAKLKrGgylZygL76gNrbtZWhMiyKdkboFf7yNwtKkAs7zcSuinZ\n",
       "NpC9et70SKy7UiS+7jfmyRDsHDgbR7Tgof13A4i7+9q94HHpHmGbDMFOyOggwbeiWfRhe9cfdElV\n",
       "/6JAhmA/ZOTAqMX/wBJY10Km4zNmuSEYGVkH7JuyNs2LI2CkoBhakRuCHdJm5RwuouUk23JVG6M8\n",
       "xqgVbzSax4+CTVJX7sONAyBtgKmXnjIlK1NnCrZ3VjMWpoNOlxuCvfJaqt/9lXJ9h25Pf1FusPlZ\n",
       "ECxlBBW0HVLsrBiUrYS9j1pATnPCjOGAXNoIMyIBr/YpZPwvvpdjKI43gZAAAAAASUVORK5CYII=\n",
       "\" style=\"display:inline;vertical-align:middle;\" /></a></td></tr>\n",
       "<tr><td>1</td><td>Literal</td><td></td><td><a class=\"ProveItLink\" href=\"../../../../../logic/equality/__pv_it/2fb26078095930560931daa0500ce419a39ea6cd0/expr.ipynb\"><img src=\"data:image/png;base64,iVBORw0KGgoAAAANSUhEUgAAAA4AAAAFBAMAAACHocAhAAAAFVBMVEX///9EREQiIiJUVFQyMjJm\n",
       "ZmYAAADubVkoAAAAAXRSTlMAQObYZgAAABRJREFUCNdjCHEBAWcGXCBICQQUAUpuAwlgGKrkAAAA\n",
       "AElFTkSuQmCC\n",
       "\" style=\"display:inline;vertical-align:middle;\" /></a></td></tr>\n",
       "<tr><td>2</td><td>ExprTuple</td><td>3, 4</td><td><a class=\"ProveItLink\" href=\"../4033f67072759ccd7f76f69bf84cc7f297bf38e30/expr.ipynb\"><img src=\"data:image/png;base64,iVBORw0KGgoAAAANSUhEUgAAAE0AAAAVBAMAAADx+n4ZAAAAMFBMVEX////c3NwiIiJERESqqqqY\n",
       "mJh2dnZmZmYQEBDu7u4yMjJUVFTMzMyIiIi6uroAAAAs73DqAAAAAXRSTlMAQObYZgAAAXNJREFU\n",
       "KM+NkjtIA0EQhv88NrlHXthamEbra7ROZSGCsVBBUFLlCglY+GgEI9iIIIfVdbnGIiBoFyRg0tuk\n",
       "VFBQS6soglhonH1ckoODc4tlvp2Pm9nbAf67cr1IZZNvd4BuV7v+mV61S36cuZaY5tkmMNE1i34u\n",
       "Dez6cdxS6AFZKjsDw/NzK8C5H99bClcBzQH7Hutla+TF1i2FLvAGGPUxb+kGNRWmDEthooQ9IH/5\n",
       "tDP0EoONigqXyZOY2sYF0JhGvDwUDz8K6uY98iQmPZyR10eKt6g7tLGDq09VFuRJzNXxS14RjOca\n",
       "/OesgQ0c4S1yT2Kmz728B/ZDCZfK4ASYEk3oFe5JJO+YWlffE1m6e1q8ZLLd7pw+SKS6s3Si+hPr\n",
       "CDALuow1SyKYB5t4Du7wvgsO5mWnwhPI/8srf9PW7Wh8WvsluO/iwp2vskAYz9AKYZP0EkR6N1YJ\n",
       "88pBrMm5ivJ0Pk2TIVo2iCbvLRY994/AHxqAYVHzararAAAAAElFTkSuQmCC\n",
       "\" style=\"display:inline;vertical-align:middle;\" /></a></td></tr>\n",
       "<tr><td>3</td><td>Operation</td><td>operator:&nbsp;5<br>operands:&nbsp;6<br></td><td><a class=\"ProveItLink\" href=\"../d30e23667967473f44ae1429760d45fcf9e379c40/expr.ipynb\"><img src=\"data:image/png;base64,iVBORw0KGgoAAAANSUhEUgAAACMAAAAOBAMAAABXxbiCAAAAMFBMVEX///+6urpERESqqqqIiIgQ\n",
       "EBCYmJgyMjJUVFQiIiLc3NzMzMxmZmZ2dnbu7u4AAABf+mkYAAAAAXRSTlMAQObYZgAAALJJREFU\n",
       "GNNjYOC7c3cDAxTw3b1jAKRWbuCYABPiYWA4BqTmMrAXwITSGBheMjCw/WNAgBtgIfYAJCH7PoYr\n",
       "DAz81S6H4UJM/1MuMDC8n8bAmQAXO/9zAVDoAwMvyDi+B0CC7XT9Z6DQBAY2IAWiGRhyGNj+P2Dg\n",
       "L2Bg+wLkPVUAEnEMDOsTGJigqsCOB9rO48DADDULDKIYGDiA5usyPIXbaP6AwRbkr55GuBsYe84Y\n",
       "MAAAvZgxWfAm2k8AAAAASUVORK5CYII=\n",
       "\" style=\"display:inline;vertical-align:middle;\" /></a></td></tr>\n",
       "<tr><td>4</td><td>Operation</td><td>operator:&nbsp;7<br>operands:&nbsp;8<br></td><td><a class=\"ProveItLink\" href=\"../7b5f395454bb0283d49520509101f35e2ababf560/expr.ipynb\"><img src=\"data:image/png;base64,iVBORw0KGgoAAAANSUhEUgAAABQAAAAPBAMAAAAWtvJmAAAAMFBMVEX///+6urpmZmaqqqru7u52\n",
       "dnYyMjKYmJjc3NwQEBCIiIhEREQiIiJUVFTMzMwAAACQ7J58AAAAAXRSTlMAQObYZgAAAIxJREFU\n",
       "CNdjYGBgeMvA4BqqzAACpxkYFBiYCoAsrtkM7AUMLAeAzPZsBtYLEGZANgPzXwfWBQwM7A3ZDAz7\n",
       "vy8FCnoxAJlM/0+A5EHMomf/DRiYHwCZ7AoM9V8YXBmATE4HBo7vDLZ37/685QlUqAWybTYDZwMD\n",
       "ww0IkzmFgTkAyIr9r84gqwRxDhQAACZiIXMdBf/fAAAAAElFTkSuQmCC\n",
       "\" style=\"display:inline;vertical-align:middle;\" /></a></td></tr>\n",
       "<tr><td>5</td><td>Literal</td><td></td><td><a class=\"ProveItLink\" href=\"../../../../multiplication/__pv_it/21fd2079611555ecce512d99547a00d551e6b86b0/expr.ipynb\"><img src=\"data:image/png;base64,iVBORw0KGgoAAAANSUhEUgAAAAMAAAADBAMAAACkBqiMAAAAElBMVEX///9EREQQEBAiIiLu7u4A\n",
       "AABGBidwAAAAAXRSTlMAQObYZgAAABFJREFUCNdjYHFgcDVgcBIAAASWAQx4jI0xAAAAAElFTkSu\n",
       "QmCC\n",
       "\" style=\"display:inline;vertical-align:middle;\" /></a></td></tr>\n",
       "<tr><td>6</td><td>ExprTuple</td><td>9, 11</td><td><a class=\"ProveItLink\" href=\"../d789f5179f0c82cea3e36e9e78e92f45b21257070/expr.ipynb\"><img src=\"data:image/png;base64,iVBORw0KGgoAAAANSUhEUgAAACkAAAAVBAMAAAAp9toTAAAAMFBMVEX////c3NwiIiJERESqqqqY\n",
       "mJh2dnZmZmYQEBDu7u4yMjJUVFTMzMyIiIi6uroAAAAs73DqAAAAAXRSTlMAQObYZgAAARpJREFU\n",
       "GNNtkS1PA0EURQ+U6Xa60G6wCGrgH4BehcCwBlAlVV1BmiD4MCSUBIOBDaqONQgSEmRTQ+ox/QEl\n",
       "IUhU09QgoLyZ7TShYcTkvZPJnXfvg/9PqTcDDsz1Cjqudy3Q9TjEM/UjLHf9iqUenEAKSyKwTjG1\n",
       "dBfuYA8KCerLSR5a2oJPKDYd3enQgFzIKZSf3o4zmhtXa5A/4gHu15iPMnwxDGAh5UbogHwmrc6f\n",
       "R+KgyY/QCmpk6T5qnLA4MLScor4tvYbVyNAr+cO91TKM1zMKG6JudRPBl+AHqJRYmk1akR5KsZ2w\n",
       "ZSf7MPbbL+hbmanUPgvF1TuFwCXqCuNY1Sa1mgbcyJL8S7XJb2XSTFfiG6m52Q314ReeK0DbBoso\n",
       "UAAAAABJRU5ErkJggg==\n",
       "\" style=\"display:inline;vertical-align:middle;\" /></a></td></tr>\n",
       "<tr><td>7</td><td>Literal</td><td></td><td><a class=\"ProveItLink\" href=\"../b28e6317a1d330492d51cd67ccba81d4d210b8b30/expr.ipynb\"><img src=\"data:image/png;base64,iVBORw0KGgoAAAANSUhEUgAAAE8AAAAOBAMAAACcHlx8AAAAMFBMVEX///8iIiIQEBCYmJjc3Ny6\n",
       "urru7u5mZmZ2dnaqqqrMzMxEREQyMjJUVFSIiIgAAABUCcz6AAAAAXRSTlMAQObYZgAAAWhJREFU\n",
       "KM99kL9Lw3AQxV/bNE1s0rh1VNTBqWR2sAXdEwRns9XJtFsRwSxVx/oXNLgqNKugtLsgHQVtDWLt\n",
       "IEahVrT+vIsK1qEH+QS+PN67ewDuPlutExd/JtnA8EgTJv/eAPllSOj/EyLLGHsmbFoYNRuMVJ9Q\n",
       "80cKM2HQA8FojtIJA6bmsWMTQqmbg7gTuKslxG8Xg7N4cEiadnkGMfb6Ts062M0JBeyZyrizAkk9\n",
       "hV1GFVjKUaLKXrjnai5NoY+EK2aQnKsUsRzxYPskFHpIeIiGF9QZU1Cn56+hUoZIq1u2iapFx9JD\n",
       "xEctrPmVvlgPWuF3X/kJrCoCs/xgu7gKa/wgRD1obG8wlCZ7IY34o2hwvnUsco18+pEV7uFrOqAb\n",
       "pkNeYh9qY8Gu4EJ2e9JPjQcUm2ogn1MLkNyqoNNlVIniO4oupyUM1oB8/b11vs47bAfkWQpukAwQ\n",
       "n4TkQW67Qruz30F3C18Fz3drZAxLCAAAAABJRU5ErkJggg==\n",
       "\" style=\"display:inline;vertical-align:middle;\" /></a></td></tr>\n",
       "<tr><td>8</td><td>ExprTuple</td><td>10, 11</td><td><a class=\"ProveItLink\" href=\"../e11d4a07c440e3569a260fe86eb53bf49b3ab76d0/expr.ipynb\"><img src=\"data:image/png;base64,iVBORw0KGgoAAAANSUhEUgAAACkAAAAVBAMAAAAp9toTAAAAMFBMVEX////c3NwiIiJERESqqqqY\n",
       "mJh2dnZmZmYQEBDu7u4yMjJUVFTMzMyIiIi6uroAAAAs73DqAAAAAXRSTlMAQObYZgAAAQxJREFU\n",
       "GNNtkbFKA0EQhj+Ja3LGhGusLCx8BvurLLTQRq0MV5lCAjaJTcCINjZ6WIiNcCAWVpYiIZDeJg9g\n",
       "ESytJFhYeZnZ2z0kuMXs/N8uw/wz8P+pj2ZAQ8NbESA4bEaUh5I9qVzLaRnakEJNC9TOc7oLN7AH\n",
       "lUTU8kNOjyy9g09VsaPbr7SgFNERYUJHS9lBDAvHPIq4x1FOJyHMp1xpAU9N9/lbHPT4lbehp/uY\n",
       "LGHpS+ktnl7C6o7SC9jq938G1lpPjIy0wrr9JC607zOohpiUpqPBRK7NhA3b2Yf1lLWDa+mp/nIS\n",
       "weKYSugn6hN1bGKXm2LALT/JvzSQSbLiRLGSqpaam93QO0wB7zM8XUn+rSEAAAAASUVORK5CYII=\n",
       "\" style=\"display:inline;vertical-align:middle;\" /></a></td></tr>\n",
       "<tr><td>9</td><td>Literal</td><td></td><td><a class=\"ProveItLink\" href=\"../../../__pv_it/09b499e53e24cf89c2513ba78b501f0314edaa680/expr.ipynb\"><img src=\"data:image/png;base64,iVBORw0KGgoAAAANSUhEUgAAAAoAAAAOBAMAAADkjZCYAAAAMFBMVEX///+6urpERESqqqqIiIgQ\n",
       "EBCYmJgyMjJUVFQiIiLc3NzMzMxmZmZ2dnbu7u4AAABf+mkYAAAAAXRSTlMAQObYZgAAAFNJREFU\n",
       "CNdjYOC7c3cDA8PKDRwTGBjmMrAXMLD9YwAC9gAQyV/tcpiB4f00Bs4EhvcfGHj/MbyfwMD2mYEf\n",
       "qOwLAxOYzQwWZ9BleJrAwMDT08gAANMyF0ZGTeKAAAAAAElFTkSuQmCC\n",
       "\" style=\"display:inline;vertical-align:middle;\" /></a></td></tr>\n",
       "<tr><td>10</td><td>Literal</td><td></td><td><a class=\"ProveItLink\" href=\"../../../__pv_it/23412ce59ea7e77353d2f9225e02248e73651ca00/expr.ipynb\"><img src=\"data:image/png;base64,iVBORw0KGgoAAAANSUhEUgAAAAoAAAAPBAMAAAAv0UM9AAAALVBMVEX///9mZmaqqqru7u52dnYy\n",
       "MjKYmJjc3NwQEBCIiIhEREQiIiJUVFTMzMwAAACUDTcXAAAAAXRSTlMAQObYZgAAAD5JREFUCNdj\n",
       "YGBguMMAArtABGcXiCyLApEOIJKtAERaMoBIBxDJdAFEmjCASJ0zZ16cBCkF64KQPu/EwBwGACv6\n",
       "DSRgin9qAAAAAElFTkSuQmCC\n",
       "\" style=\"display:inline;vertical-align:middle;\" /></a></td></tr>\n",
       "<tr><td>11</td><td>Literal</td><td></td><td><a class=\"ProveItLink\" href=\"../../../__pv_it/7ca36d8558dd5f18c1e16b5e877a0b7e314926450/expr.ipynb\"><img src=\"data:image/png;base64,iVBORw0KGgoAAAANSUhEUgAAAAoAAAAOBAMAAADkjZCYAAAAMFBMVEX///+6uroQEBAyMjLMzMzc\n",
       "3NxERESIiIhUVFQiIiKYmJiqqqpmZmZ2dnbu7u4AAAACo3QQAAAAAXRSTlMAQObYZgAAAFlJREFU\n",
       "CNdjYHh79zQDA8MBBp4FDFwLGPgmMPA2gEjuHw94CxgY8n/VAmV5/k8Fkmuc/29g4DrAsP4fA9MD\n",
       "BtZfDI+AgscZmAIYGFoZuO0YuC8wMEicOc0AAC98GKTiu3IvAAAAAElFTkSuQmCC\n",
       "\" style=\"display:inline;vertical-align:middle;\" /></a></td></tr>\n",
       "</table>\n"
      ],
      "text/plain": [
       "0. (6 * 8) = 48\n",
       "   core type: Operation\n",
       "   operator: 1\n",
       "   operands: 2\n",
       "1. =\n",
       "   core type: Literal\n",
       "   sub-expressions: \n",
       "2. (6 * 8 , 48)\n",
       "   core type: ExprTuple\n",
       "   sub-expressions: 3, 4\n",
       "3. 6 * 8\n",
       "   core type: Operation\n",
       "   operator: 5\n",
       "   operands: 6\n",
       "4. 48\n",
       "   core type: Operation\n",
       "   operator: 7\n",
       "   operands: 8\n",
       "5. *\n",
       "   core type: Literal\n",
       "   sub-expressions: \n",
       "6. (6 , 8)\n",
       "   core type: ExprTuple\n",
       "   sub-expressions: 9, 11\n",
       "7. Decimal\n",
       "   core type: Literal\n",
       "   sub-expressions: \n",
       "8. (4 , 8)\n",
       "   core type: ExprTuple\n",
       "   sub-expressions: 10, 11\n",
       "9. 6\n",
       "   core type: Literal\n",
       "   sub-expressions: \n",
       "10. 4\n",
       "    core type: Literal\n",
       "    sub-expressions: \n",
       "11. 8\n",
       "    core type: Literal\n",
       "    sub-expressions: "
      ]
     },
     "execution_count": 3,
     "metadata": {},
     "output_type": "execute_result"
    }
   ],
   "source": [
    "# display the expression information\n",
    "mult_6_8.exprInfo()"
   ]
  },
  {
   "cell_type": "code",
   "execution_count": null,
   "metadata": {},
   "outputs": [],
   "source": []
  }
 ],
 "metadata": {
  "kernelspec": {
   "display_name": "Python 3",
   "language": "python",
   "name": "python3"
  }
 },
 "nbformat": 4,
 "nbformat_minor": 0
}
