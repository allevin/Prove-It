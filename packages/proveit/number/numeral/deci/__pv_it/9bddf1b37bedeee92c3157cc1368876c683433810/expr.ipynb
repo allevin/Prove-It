{
 "cells": [
  {
   "cell_type": "markdown",
   "metadata": {},
   "source": [
    "Expression of type <a class=\"ProveItLink\" href=\"../../../../../../../doc/html/api/proveit.ExprTuple.html\">ExprTuple</a>\n",
    "=======================\n",
    "# from context <a class=\"ProveItLink\" href=\"../../_context_.ipynb\">proveit.number.numeral.deci</a>"
   ]
  },
  {
   "cell_type": "code",
   "execution_count": 1,
   "metadata": {},
   "outputs": [],
   "source": [
    "# import Expression classes needed to build the expression\n",
    "from proveit import ExprTuple\n",
    "from proveit.number import DecimalSequence, Mult, five, four, nine"
   ]
  },
  {
   "cell_type": "code",
   "execution_count": 2,
   "metadata": {},
   "outputs": [
    {
     "data": {
      "text/html": [
       "<strong id=\"expr\">expr:</strong> <a class=\"ProveItLink\" href=\"expr.ipynb\"><img src=\"data:image/png;base64,iVBORw0KGgoAAAANSUhEUgAAAE0AAAAVBAMAAADx+n4ZAAAAMFBMVEX////c3NwiIiJERESqqqqY\n",
       "mJh2dnZmZmYQEBDu7u4yMjJUVFTMzMyIiIi6uroAAAAs73DqAAAAAXRSTlMAQObYZgAAAWpJREFU\n",
       "KM+Nkj1Iw0AUx/8x/Uqa1G4KDrq6HYJ7NxeHugg6SAahi2JBqIODVboJkrHg0CwdFARHIUK7i5BR\n",
       "0EJ1dLKgiIPWd1+RQKBmyN3v7nfv3r074L9fKZqobPHfHXDeuI3H7A1jW/eda4n5PsEFjBZmy3qu\n",
       "MB57uj/FFAaAG8FsosjieIc7cewHpnCd1vuYDpD70nPFv7SMTaawDbwCHQb3J8XL2dozK2hAxPuI\n",
       "vcHjUHXXuCcwV0cXyDdhfmvP9C0V24rIk5gJcEYDXaxwz/KlcKO2hc0Ulprgi7OD+3dqOgtS2OuL\n",
       "ZlV5hM4b5CbivG0+vEQTIkHL455E8lqyaoHO7wQ4EkXPhGHvNJJI+y5TqUeY12dEHbiEpe6GSUQ2\n",
       "QI28RVzFRZtB5lhnSp5AXpcX4tp+Jfacg7CM9kgk3fusCoQ9RKGc9pKek0j3lvXSvGoSd8W7muhZ\n",
       "vBpzKZqbxCLPzZj87p+AX9EnXhe0XxzRAAAAAElFTkSuQmCC\n",
       "\" style=\"display:inline;vertical-align:middle;\" /></a><br>"
      ],
      "text/plain": [
       "expr: (9 * 5 , 45)"
      ]
     },
     "execution_count": 2,
     "metadata": {},
     "output_type": "execute_result"
    }
   ],
   "source": [
    "# build up the expression from sub-expressions\n",
    "expr = ExprTuple(Mult(nine, five), DecimalSequence(four, five))"
   ]
  },
  {
   "cell_type": "code",
   "execution_count": 3,
   "metadata": {},
   "outputs": [
    {
     "name": "stdout",
     "output_type": "stream",
     "text": [
      "Passed sanity check: built 'expr' is the same as the stored Expression.\n"
     ]
    }
   ],
   "source": [
    "# check that the built expression is the same as the stored expression\n",
    "%check_expr"
   ]
  },
  {
   "cell_type": "code",
   "execution_count": 4,
   "metadata": {},
   "outputs": [
    {
     "data": {
      "text/html": [
       "<table><tr><th>&nbsp;</th><th>core type</th><th>sub-expressions</th><th>expression</th></tr>\n",
       "<tr><td>0</td><td>ExprTuple</td><td>1, 2</td><td><a class=\"ProveItLink\" href=\"expr.ipynb\"><img src=\"data:image/png;base64,iVBORw0KGgoAAAANSUhEUgAAAE0AAAAVBAMAAADx+n4ZAAAAMFBMVEX////c3NwiIiJERESqqqqY\n",
       "mJh2dnZmZmYQEBDu7u4yMjJUVFTMzMyIiIi6uroAAAAs73DqAAAAAXRSTlMAQObYZgAAAWpJREFU\n",
       "KM+Nkj1Iw0AUx/8x/Uqa1G4KDrq6HYJ7NxeHugg6SAahi2JBqIODVboJkrHg0CwdFARHIUK7i5BR\n",
       "0EJ1dLKgiIPWd1+RQKBmyN3v7nfv3r074L9fKZqobPHfHXDeuI3H7A1jW/eda4n5PsEFjBZmy3qu\n",
       "MB57uj/FFAaAG8FsosjieIc7cewHpnCd1vuYDpD70nPFv7SMTaawDbwCHQb3J8XL2dozK2hAxPuI\n",
       "vcHjUHXXuCcwV0cXyDdhfmvP9C0V24rIk5gJcEYDXaxwz/KlcKO2hc0Ulprgi7OD+3dqOgtS2OuL\n",
       "ZlV5hM4b5CbivG0+vEQTIkHL455E8lqyaoHO7wQ4EkXPhGHvNJJI+y5TqUeY12dEHbiEpe6GSUQ2\n",
       "QI28RVzFRZtB5lhnSp5AXpcX4tp+Jfacg7CM9kgk3fusCoQ9RKGc9pKek0j3lvXSvGoSd8W7muhZ\n",
       "vBpzKZqbxCLPzZj87p+AX9EnXhe0XxzRAAAAAElFTkSuQmCC\n",
       "\" style=\"display:inline;vertical-align:middle;\" /></a></td></tr>\n",
       "<tr><td>1</td><td>Operation</td><td>operator:&nbsp;3<br>operands:&nbsp;4<br></td><td><a class=\"ProveItLink\" href=\"../52e99bb7c7d5e2dccf9372982e9d1010992097da0/expr.ipynb\"><img src=\"data:image/png;base64,iVBORw0KGgoAAAANSUhEUgAAACMAAAAOBAMAAABXxbiCAAAAMFBMVEX///8iIiKYmJi6urqIiIgy\n",
       "MjJERESqqqoQEBDc3NzMzMx2dnZmZmZUVFTu7u4AAABn2L4sAAAAAXRSTlMAQObYZgAAAKdJREFU\n",
       "GNNjYHh7+hYDDLDqcW5nYOBsZ5gxASbE8f//BgYGtgYG3gS4qrO7gCR/AAP3P5gQL5h8n8DA8hlV\n",
       "CKTqE1zIxdeAgYGngYHtC0yI7QEfUAdfEEMNSIjvAUT0BhAzuSz5DjJTACK0fwGIBNv4AuSSRKCQ\n",
       "Adg1ATCzGhkYzk9gYPnJMN8AJnSAgSGUgYFFjiEE7sc5DOydQGrPsQK4ENeZuxMYAPh4KjV0CeJB\n",
       "AAAAAElFTkSuQmCC\n",
       "\" style=\"display:inline;vertical-align:middle;\" /></a></td></tr>\n",
       "<tr><td>2</td><td>Operation</td><td>operator:&nbsp;5<br>operands:&nbsp;6<br></td><td><a class=\"ProveItLink\" href=\"../62b1456604166e5b954e6ba48eb1e8171fdbc80e0/expr.ipynb\"><img src=\"data:image/png;base64,iVBORw0KGgoAAAANSUhEUgAAABQAAAAPBAMAAAAWtvJmAAAAMFBMVEX///+6urpmZmaqqqru7u52\n",
       "dnYyMjKYmJjc3NwQEBCIiIhEREQiIiJUVFTMzMwAAACQ7J58AAAAAXRSTlMAQObYZgAAAIJJREFU\n",
       "CNdjYGBgeMvAkO7QagBkMZxmYJj//yuIxTWbgSHp6gMQsz2bgeECAxgEwJnsDUDmrVUXgUwvBiBz\n",
       "C4O/AFAexGRg4J3AwPwAwmT9x+DKAGRyH2Bg/chge/fuz1ucBxiYfoDkZjMwMTCwJUCYHAoMlg1A\n",
       "Vux/dYZHujcYkAAAkb8iULeWZCQAAAAASUVORK5CYII=\n",
       "\" style=\"display:inline;vertical-align:middle;\" /></a></td></tr>\n",
       "<tr><td>3</td><td>Literal</td><td></td><td><a class=\"ProveItLink\" href=\"../../../../multiplication/__pv_it/21fd2079611555ecce512d99547a00d551e6b86b0/expr.ipynb\"><img src=\"data:image/png;base64,iVBORw0KGgoAAAANSUhEUgAAAAMAAAADBAMAAACkBqiMAAAAElBMVEX///9EREQQEBAiIiLu7u4A\n",
       "AABGBidwAAAAAXRSTlMAQObYZgAAABFJREFUCNdjYHFgcDVgcBIAAASWAQx4jI0xAAAAAElFTkSu\n",
       "QmCC\n",
       "\" style=\"display:inline;vertical-align:middle;\" /></a></td></tr>\n",
       "<tr><td>4</td><td>ExprTuple</td><td>7, 9</td><td><a class=\"ProveItLink\" href=\"../d964cea0054ae537ffa981f94371d6070339b8870/expr.ipynb\"><img src=\"data:image/png;base64,iVBORw0KGgoAAAANSUhEUgAAACkAAAAVBAMAAAAp9toTAAAAMFBMVEX////c3NwiIiJERESqqqqY\n",
       "mJh2dnZmZmYQEBDu7u4yMjJUVFTMzMyIiIi6uroAAAAs73DqAAAAAXRSTlMAQObYZgAAARVJREFU\n",
       "GNNtkTFLA0EQRt9xuSSbS/Q6BQtruyDYp/MfCDaSQkijGBBiYeEpqfVKwcJtUijYC1qkFyG9Bg5L\n",
       "KxUtLGKc3b0LcrjF7Mzb2dlvZuH/NTcqgC1jHuCid+9AbdPbpjIU7wqvz2JkaXU6bYOGxgg/Jmy6\n",
       "3MMdsRtynDCvKX9bGlp7Dq9w2aTx84f6LXrY3C9Hx08plLsMoBLjT1xWouRSSXMKasD6JFd7Kx3E\n",
       "mILB+PEzp3tD6m+4ZzINq0JTQ/tOqLbbCRxFpsKaNPLOckoitAvXUlDTEbrCDepD6AKlY6vsRYLO\n",
       "fgt1JqOoH9yJraVUo3yiuWM6DtqZH8wGvGsnWaDK6FnKgtmXhKaUV/yhZ/gFrUA/fNOh79YAAAAA\n",
       "SUVORK5CYII=\n",
       "\" style=\"display:inline;vertical-align:middle;\" /></a></td></tr>\n",
       "<tr><td>5</td><td>Literal</td><td></td><td><a class=\"ProveItLink\" href=\"../b28e6317a1d330492d51cd67ccba81d4d210b8b30/expr.ipynb\"><img src=\"data:image/png;base64,iVBORw0KGgoAAAANSUhEUgAAAE8AAAAOBAMAAACcHlx8AAAAMFBMVEX///8iIiIQEBCYmJjc3Ny6\n",
       "urru7u5mZmZ2dnaqqqrMzMxEREQyMjJUVFSIiIgAAABUCcz6AAAAAXRSTlMAQObYZgAAAWhJREFU\n",
       "KM99kL9Lw3AQxV/bNE1s0rh1VNTBqWR2sAXdEwRns9XJtFsRwSxVx/oXNLgqNKugtLsgHQVtDWLt\n",
       "IEahVrT+vIsK1qEH+QS+PN67ewDuPlutExd/JtnA8EgTJv/eAPllSOj/EyLLGHsmbFoYNRuMVJ9Q\n",
       "80cKM2HQA8FojtIJA6bmsWMTQqmbg7gTuKslxG8Xg7N4cEiadnkGMfb6Ts062M0JBeyZyrizAkk9\n",
       "hV1GFVjKUaLKXrjnai5NoY+EK2aQnKsUsRzxYPskFHpIeIiGF9QZU1Cn56+hUoZIq1u2iapFx9JD\n",
       "xEctrPmVvlgPWuF3X/kJrCoCs/xgu7gKa/wgRD1obG8wlCZ7IY34o2hwvnUsco18+pEV7uFrOqAb\n",
       "pkNeYh9qY8Gu4EJ2e9JPjQcUm2ogn1MLkNyqoNNlVIniO4oupyUM1oB8/b11vs47bAfkWQpukAwQ\n",
       "n4TkQW67Qruz30F3C18Fz3drZAxLCAAAAABJRU5ErkJggg==\n",
       "\" style=\"display:inline;vertical-align:middle;\" /></a></td></tr>\n",
       "<tr><td>6</td><td>ExprTuple</td><td>8, 9</td><td><a class=\"ProveItLink\" href=\"../907f69467dae02797c7f89afc38a31a3a94605a00/expr.ipynb\"><img src=\"data:image/png;base64,iVBORw0KGgoAAAANSUhEUgAAACkAAAAVBAMAAAAp9toTAAAAMFBMVEX////c3NwiIiJERESqqqqY\n",
       "mJh2dnZmZmYQEBDu7u4yMjJUVFTMzMyIiIi6uroAAAAs73DqAAAAAXRSTlMAQObYZgAAAPxJREFU\n",
       "GNNjYMAO+C6gCcSBiNNwgoGBK5IxhYH9AJC1EsRVhohy/P+fwMCwgIGBF2QAbzNUbXUOkAwDSk8A\n",
       "0qKLIaLcYHIGA8MrEJ2AIsrswFAGpFgFYKJ3bz9gYGArYFgK5MxlgIoyT+D8x8DAsoChD2QATBQI\n",
       "dgB90MAAkjuAJJp/gIHnA0h0GgNM1Ago+gAk2sLA4L1794+9YNEmBoZ6AZAJpmAu0BcgdxcwMKwC\n",
       "OmkBQzpUlPMTkBJnYGkEu+wRSDD7fylnvwADA0/5biDJ9YCBQwAWojAGyMesCVA2K9xxubCQRBbl\n",
       "BIYkgzSUA48SbpBRjOgxdIeBAQCbCDqCorR+RQAAAABJRU5ErkJggg==\n",
       "\" style=\"display:inline;vertical-align:middle;\" /></a></td></tr>\n",
       "<tr><td>7</td><td>Literal</td><td></td><td><a class=\"ProveItLink\" href=\"../../../__pv_it/cdcd6ad997b4d5c13a719b005810863ba48ff0c70/expr.ipynb\"><img src=\"data:image/png;base64,iVBORw0KGgoAAAANSUhEUgAAAAoAAAAOBAMAAADkjZCYAAAAMFBMVEX///8iIiKYmJi6urqIiIgy\n",
       "MjJERESqqqoQEBDc3NzMzMx2dnZmZmZUVFTu7u4AAABn2L4sAAAAAXRSTlMAQObYZgAAAFVJREFU\n",
       "CNdjYHh7+hYDA2c7w4wJDGwNDLwJDPwBDNz/GN4nMLB8BrM/MfA0MLB9YeALYqj5wsDA5LLkOwMQ\n",
       "ANUAAWsAA8tPhvkGDCxyDCFA/p5jBQwAtzwVEbGPESsAAAAASUVORK5CYII=\n",
       "\" style=\"display:inline;vertical-align:middle;\" /></a></td></tr>\n",
       "<tr><td>8</td><td>Literal</td><td></td><td><a class=\"ProveItLink\" href=\"../../../__pv_it/23412ce59ea7e77353d2f9225e02248e73651ca00/expr.ipynb\"><img src=\"data:image/png;base64,iVBORw0KGgoAAAANSUhEUgAAAAoAAAAPBAMAAAAv0UM9AAAALVBMVEX///9mZmaqqqru7u52dnYy\n",
       "MjKYmJjc3NwQEBCIiIhEREQiIiJUVFTMzMwAAACUDTcXAAAAAXRSTlMAQObYZgAAAD5JREFUCNdj\n",
       "YGBguMMAArtABGcXiCyLApEOIJKtAERaMoBIBxDJdAFEmjCASJ0zZ16cBCkF64KQPu/EwBwGACv6\n",
       "DSRgin9qAAAAAElFTkSuQmCC\n",
       "\" style=\"display:inline;vertical-align:middle;\" /></a></td></tr>\n",
       "<tr><td>9</td><td>Literal</td><td></td><td><a class=\"ProveItLink\" href=\"../../../__pv_it/aaeeaca7d86eb2b7cdc49e25c3108b81b52ec5400/expr.ipynb\"><img src=\"data:image/png;base64,iVBORw0KGgoAAAANSUhEUgAAAAkAAAAOBAMAAAAPuiubAAAAMFBMVEX///8iIiJERES6urqIiIjM\n",
       "zMxUVFRmZmYQEBCqqqp2dnbc3Nzu7u6YmJgyMjIAAADYGhJvAAAAAXRSTlMAQObYZgAAAE1JREFU\n",
       "CNdj4LvDvZKBgeP//wUMDHxlSxkYGNgYGBCki5sBAwPTAZ7PYG4GmFwfwKAIJA0YGhkY6jcwFDAw\n",
       "vGNg2M7A2c3AwFqetoEBAKS8EE1WXEJLAAAAAElFTkSuQmCC\n",
       "\" style=\"display:inline;vertical-align:middle;\" /></a></td></tr>\n",
       "</table>\n"
      ],
      "text/plain": [
       "0. (9 * 5 , 45)\n",
       "   core type: ExprTuple\n",
       "   sub-expressions: 1, 2\n",
       "1. 9 * 5\n",
       "   core type: Operation\n",
       "   operator: 3\n",
       "   operands: 4\n",
       "2. 45\n",
       "   core type: Operation\n",
       "   operator: 5\n",
       "   operands: 6\n",
       "3. *\n",
       "   core type: Literal\n",
       "   sub-expressions: \n",
       "4. (9 , 5)\n",
       "   core type: ExprTuple\n",
       "   sub-expressions: 7, 9\n",
       "5. Decimal\n",
       "   core type: Literal\n",
       "   sub-expressions: \n",
       "6. (4 , 5)\n",
       "   core type: ExprTuple\n",
       "   sub-expressions: 8, 9\n",
       "7. 9\n",
       "   core type: Literal\n",
       "   sub-expressions: \n",
       "8. 4\n",
       "   core type: Literal\n",
       "   sub-expressions: \n",
       "9. 5\n",
       "   core type: Literal\n",
       "   sub-expressions: "
      ]
     },
     "execution_count": 4,
     "metadata": {},
     "output_type": "execute_result"
    }
   ],
   "source": [
    "# display the expression information\n",
    "expr.exprInfo()"
   ]
  },
  {
   "cell_type": "code",
   "execution_count": null,
   "metadata": {},
   "outputs": [],
   "source": []
  }
 ],
 "metadata": {
  "kernelspec": {
   "display_name": "Python 3",
   "language": "python",
   "name": "python3"
  }
 },
 "nbformat": 4,
 "nbformat_minor": 0
}
