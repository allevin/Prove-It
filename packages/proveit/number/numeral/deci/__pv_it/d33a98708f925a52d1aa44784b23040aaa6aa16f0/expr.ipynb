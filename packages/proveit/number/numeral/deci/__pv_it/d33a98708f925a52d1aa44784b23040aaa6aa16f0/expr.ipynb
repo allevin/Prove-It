{
 "cells": [
  {
   "cell_type": "markdown",
   "metadata": {},
   "source": [
    "Theorem <a class=\"ProveItLink\" href=\"../../_theorems_.ipynb#mult_0_7\">mult_0_7</a> of type <a class=\"ProveItLink\" href=\"../../../../../../../doc/html/api/proveit.logic.Equals.html\">Equals</a>\n",
    "=======================\n",
    "# from context <a class=\"ProveItLink\" href=\"../../_context_.ipynb\">proveit.number.numeral.deci</a>\n",
    "*** see <a class=\"ProveItLink\" href=\"dependencies.ipynb\">dependencies</a> ***"
   ]
  },
  {
   "cell_type": "code",
   "execution_count": 1,
   "metadata": {},
   "outputs": [],
   "source": [
    "# import the special expression\n",
    "from proveit.number.numeral.deci._theorems_ import mult_0_7"
   ]
  },
  {
   "cell_type": "code",
   "execution_count": 2,
   "metadata": {},
   "outputs": [
    {
     "name": "stdout",
     "output_type": "stream",
     "text": [
      "Passed sanity check: built 'mult_0_7' is the same as the stored Expression.\n"
     ]
    }
   ],
   "source": [
    "# check that the built expression is the same as the stored expression\n",
    "%check_expr mult_0_7"
   ]
  },
  {
   "cell_type": "code",
   "execution_count": 3,
   "metadata": {},
   "outputs": [
    {
     "data": {
      "text/html": [
       "<table><tr><th>&nbsp;</th><th>core type</th><th>sub-expressions</th><th>expression</th></tr>\n",
       "<tr><td>0</td><td>Operation</td><td>operator:&nbsp;1<br>operands:&nbsp;2<br></td><td><a class=\"ProveItLink\" href=\"expr.ipynb\"><img src=\"data:image/png;base64,iVBORw0KGgoAAAANSUhEUgAAAFcAAAAVBAMAAADBdm84AAAAMFBMVEX////c3NwiIiJERESqqqqY\n",
       "mJh2dnZmZmYQEBDu7u4yMjJUVFTMzMyIiIi6uroAAAAs73DqAAAAAXRSTlMAQObYZgAAAVlJREFU\n",
       "KM+Vkz1LA0EQhp/EJObMh9dbeKidIjb2+QexstTDIiIYOERSiIKFpUjQItcljUW0yQ9IIbYWBhvB\n",
       "DwiWNomgsTLn7sXckcte4cDC7jsPy8y7s/CvyLbGtY0w+A4qr4fe8bZUKJiTN0FKO3qUWh2WOfey\n",
       "m47jNKgF4WhbW4JMi4xBxsvuQArWg/ADPEGyTLRB9mOomrALdhBehI7OO0xbpD9HO57IBeBvuM9R\n",
       "glmT9I+vX4iVsEbZSE/ALS4HcM9P7IsVc3s4uJJxPYRNznxYK7smdWUpx4qbTfp+GVVD6q4x6a6y\n",
       "jP6gwS+h2Cuuow0F7Da4xombjnnWUbW8MvbmZMz/WZfXWUU+SsLw4I6E47XxR9mCbbFbwPaHIW8p\n",
       "rCOa007hTewqxaYvi9Jgqh0cpNKzuC+pq0bRVk9o3FSpxZB5ris0rRYCzyi0lB4CRxTf6kWN/gI0\n",
       "H1zXj5TTtgAAAABJRU5ErkJggg==\n",
       "\" style=\"display:inline;vertical-align:middle;\" /></a></td></tr>\n",
       "<tr><td>1</td><td>Literal</td><td></td><td><a class=\"ProveItLink\" href=\"../../../../../logic/equality/__pv_it/2fb26078095930560931daa0500ce419a39ea6cd0/expr.ipynb\"><img src=\"data:image/png;base64,iVBORw0KGgoAAAANSUhEUgAAAA4AAAAFBAMAAACHocAhAAAAFVBMVEX///9EREQiIiJUVFQyMjJm\n",
       "ZmYAAADubVkoAAAAAXRSTlMAQObYZgAAABRJREFUCNdjCHEBAWcGXCBICQQUAUpuAwlgGKrkAAAA\n",
       "AElFTkSuQmCC\n",
       "\" style=\"display:inline;vertical-align:middle;\" /></a></td></tr>\n",
       "<tr><td>2</td><td>ExprTuple</td><td>3, 6</td><td><a class=\"ProveItLink\" href=\"../0291815c4f00512e3b37732c3a9c232d4012251c0/expr.ipynb\"><img src=\"data:image/png;base64,iVBORw0KGgoAAAANSUhEUgAAAEMAAAAVBAMAAADvM06qAAAAMFBMVEX////c3NwiIiJERESqqqqY\n",
       "mJh2dnZmZmYQEBDu7u4yMjJUVFTMzMyIiIi6uroAAAAs73DqAAAAAXRSTlMAQObYZgAAAU1JREFU\n",
       "KM+Nkr9PwkAYhh8QkBOK7A4yuGmMi3v/A5gctXHAmEjSwTBp4uBoDNGBbnRxcOsf4EBcHWxcTPyR\n",
       "oKMLmChOinctvWpsiB3a9+6e5v3e7z74x1PyJ52uq9cVtB/39N5ls163AiX2b7tMd6U6h2VOuhGy\n",
       "MRqNvECle2IJXDB8jAqGGyHbUAjVDdzBGuRbpD1KrxEiTXZCtQj9Mg68wKxN8e1v/R9wbTJl0oR5\n",
       "i+JnjJyGn9RQIj45m7MQGcbI7g/EIuNyHCOiFWQd/EJKB3zFRp2KOorCjY2KA4Woct/lprMStMMj\n",
       "LremkMNgM6ND07HRoatlZbSKal2uopG+RMS4dZuQddmSiwUcfQFU7XFVaVMcoUI/y0W7cRFnlv44\n",
       "ylc07+WPMz3y5aQZeNJKXkDWSkJqWjXCYZiACNWluQTC0Kqg6khNHMwH+AbwR1sAeqaCTAAAAABJ\n",
       "RU5ErkJggg==\n",
       "\" style=\"display:inline;vertical-align:middle;\" /></a></td></tr>\n",
       "<tr><td>3</td><td>Operation</td><td>operator:&nbsp;4<br>operands:&nbsp;5<br></td><td><a class=\"ProveItLink\" href=\"../2d1d67696806234845d2ff5b6777cac0392cf93b0/expr.ipynb\"><img src=\"data:image/png;base64,iVBORw0KGgoAAAANSUhEUgAAACQAAAAOBAMAAAC1GaP7AAAAMFBMVEX///9EREQQEBCYmJh2dnaq\n",
       "qqrc3NxUVFQyMjK6uroiIiLMzMyIiIhmZmbu7u4AAADSWfX9AAAAAXRSTlMAQObYZgAAAJxJREFU\n",
       "GNNjYHh75jYDDOy64uLiwMCwkuHVBpiQ/f///wsYeBYw8DTAhPwYGNgZGLgKGDi/wYSAmrwZGPgv\n",
       "MHB/hRvGwHmAgSHfgYH7D0LoIQNE6AtC6CqSEN8DkAjfBwaExvcLQEJgy0HGfwbSjwRAQkD7wQQr\n",
       "3BEM7y+AlC5gYFkAF5oPEmJYyvAI7iGGeLDQW59qhBv2GzAwAACfBizdbMUi4QAAAABJRU5ErkJg\n",
       "gg==\n",
       "\" style=\"display:inline;vertical-align:middle;\" /></a></td></tr>\n",
       "<tr><td>4</td><td>Literal</td><td></td><td><a class=\"ProveItLink\" href=\"../../../../multiplication/__pv_it/21fd2079611555ecce512d99547a00d551e6b86b0/expr.ipynb\"><img src=\"data:image/png;base64,iVBORw0KGgoAAAANSUhEUgAAAAMAAAADBAMAAACkBqiMAAAAElBMVEX///9EREQQEBAiIiLu7u4A\n",
       "AABGBidwAAAAAXRSTlMAQObYZgAAABFJREFUCNdjYHFgcDVgcBIAAASWAQx4jI0xAAAAAElFTkSu\n",
       "QmCC\n",
       "\" style=\"display:inline;vertical-align:middle;\" /></a></td></tr>\n",
       "<tr><td>5</td><td>ExprTuple</td><td>6, 7</td><td><a class=\"ProveItLink\" href=\"../64d5d699e3e8d990b59ea08a9363ce6d909a78600/expr.ipynb\"><img src=\"data:image/png;base64,iVBORw0KGgoAAAANSUhEUgAAACkAAAAVBAMAAAAp9toTAAAAMFBMVEX////c3NwiIiJERESqqqqY\n",
       "mJh2dnZmZmYQEBDu7u4yMjJUVFTMzMyIiIi6uroAAAAs73DqAAAAAXRSTlMAQObYZgAAAQNJREFU\n",
       "GNNtkbFOAkEQhj+UAw7ukJ5CCms7e95AK0u9CmICyRWEysLCWokW0HGNhR0PYHGhpZAHkIRY0gBG\n",
       "6OTc2T2IR9xkZv/9itl/ZuD/UxzvgStJI+hObg0Ytms1Lxsq9QqnPIWaXkdRNCAAd4xbwQ00vYEC\n",
       "XEKuw8GA4lJTDxrQgxkc+Tjff/4+rNKGYw/nJ6bPKjI+L4auY9pSkQ54SFB7IVXu2CQqaC/OQqj8\n",
       "tjJU2dH0Xsu0cUbfNxXOkC4yFTpC50KtgLq6TuiF9pfQc984+1RXt/mG/VhS6v1CpfyUXGnb1VZI\n",
       "x5YXa2s34KaZZJLa4rkcP3YrKUip1P6GPuAX/14/3+I8GGIAAAAASUVORK5CYII=\n",
       "\" style=\"display:inline;vertical-align:middle;\" /></a></td></tr>\n",
       "<tr><td>6</td><td>Literal</td><td></td><td><a class=\"ProveItLink\" href=\"../../../__pv_it/ec23fc7a1b4222a5f4948b495002b97d6fa18c3c0/expr.ipynb\"><img src=\"data:image/png;base64,iVBORw0KGgoAAAANSUhEUgAAAAoAAAAOBAMAAADkjZCYAAAALVBMVEX///8QEBCYmJh2dnaqqqrc\n",
       "3NxUVFQyMjK6uroiIiLMzMyIiIhmZmbu7u4AAAAZjyHdAAAAAXRSTlMAQObYZgAAAEpJREFUCNdj\n",
       "YLiz+xQDA8MMhpsLGLgnMHAXMHAmMHA8ZeA7wMD1hCHOgIHrNZh8jES+Bss+AqlkeQrSxTyBgWEK\n",
       "w8UFDAx3rLMYAMCjFldHSx/9AAAAAElFTkSuQmCC\n",
       "\" style=\"display:inline;vertical-align:middle;\" /></a></td></tr>\n",
       "<tr><td>7</td><td>Literal</td><td></td><td><a class=\"ProveItLink\" href=\"../../../__pv_it/44c347496acc279b31e97f8859fc6a0a1e31c26b0/expr.ipynb\"><img src=\"data:image/png;base64,iVBORw0KGgoAAAANSUhEUgAAAAoAAAAOBAMAAADkjZCYAAAAKlBMVEX///8yMjKqqqpERESIiIi6\n",
       "urru7u5UVFSYmJh2dnZmZmYiIiLMzMwAAACZcOxaAAAAAXRSTlMAQObYZgAAAEVJREFUCNdjOL1y\n",
       "5swJDL13794tYJjGwMDOwDCBgWEOAxCwOoDIZBDBsAhEsF0AkSwCIJK7AETmLgCRsWBSF0yebWBg\n",
       "AAAo0Q9n+lHhAQAAAABJRU5ErkJggg==\n",
       "\" style=\"display:inline;vertical-align:middle;\" /></a></td></tr>\n",
       "</table>\n"
      ],
      "text/plain": [
       "0. (0 * 7) = 0\n",
       "   core type: Operation\n",
       "   operator: 1\n",
       "   operands: 2\n",
       "1. =\n",
       "   core type: Literal\n",
       "   sub-expressions: \n",
       "2. (0 * 7 , 0)\n",
       "   core type: ExprTuple\n",
       "   sub-expressions: 3, 6\n",
       "3. 0 * 7\n",
       "   core type: Operation\n",
       "   operator: 4\n",
       "   operands: 5\n",
       "4. *\n",
       "   core type: Literal\n",
       "   sub-expressions: \n",
       "5. (0 , 7)\n",
       "   core type: ExprTuple\n",
       "   sub-expressions: 6, 7\n",
       "6. 0\n",
       "   core type: Literal\n",
       "   sub-expressions: \n",
       "7. 7\n",
       "   core type: Literal\n",
       "   sub-expressions: "
      ]
     },
     "execution_count": 3,
     "metadata": {},
     "output_type": "execute_result"
    }
   ],
   "source": [
    "# display the expression information\n",
    "mult_0_7.exprInfo()"
   ]
  },
  {
   "cell_type": "code",
   "execution_count": null,
   "metadata": {},
   "outputs": [],
   "source": []
  }
 ],
 "metadata": {
  "kernelspec": {
   "display_name": "Python 3",
   "language": "python",
   "name": "python3"
  }
 },
 "nbformat": 4,
 "nbformat_minor": 0
}
