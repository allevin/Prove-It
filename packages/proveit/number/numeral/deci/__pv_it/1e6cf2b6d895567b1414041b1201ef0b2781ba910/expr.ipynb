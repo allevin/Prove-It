{
 "cells": [
  {
   "cell_type": "markdown",
   "metadata": {},
   "source": [
    "Expression of type <a class=\"ProveItLink\" href=\"../../../../../../../doc/html/api/proveit.ExprTuple.html\">ExprTuple</a>\n",
    "=======================\n",
    "# from context <a class=\"ProveItLink\" href=\"../../_context_.ipynb\">proveit.number.numeral.deci</a>"
   ]
  },
  {
   "cell_type": "code",
   "execution_count": 1,
   "metadata": {},
   "outputs": [],
   "source": [
    "# import Expression classes needed to build the expression\n",
    "from proveit import ExprTuple\n",
    "from proveit.number import Mult, seven, zero"
   ]
  },
  {
   "cell_type": "code",
   "execution_count": 2,
   "metadata": {},
   "outputs": [
    {
     "data": {
      "text/html": [
       "<strong id=\"expr\">expr:</strong> <a class=\"ProveItLink\" href=\"expr.ipynb\"><img src=\"data:image/png;base64,iVBORw0KGgoAAAANSUhEUgAAAEMAAAAVBAMAAADvM06qAAAAMFBMVEX////c3NwiIiJERESqqqqY\n",
       "mJh2dnZmZmYQEBDu7u4yMjJUVFTMzMyIiIi6uroAAAAs73DqAAAAAXRSTlMAQObYZgAAASNJREFU\n",
       "KM+NkiFPw0AUx/8ba7dj3VKPwSGGmMH3G6wKuSwTRZGg5kgQSEIq61aDwPER6hE0GBJAbJNLFpiA\n",
       "CRLKvSt3eySXhorm97/7Je/d3QP+8XXzqt0h/e7hHURRpNfE+VPGqEnhFk5RFF9aqc/EIacU6ORw\n",
       "Y+BOK4/AM6djoBXDBdxMKz3gzWeUAEsVV6a/DfAQMNoJMFGd9bVR+5QbOSP3DDcUm8EfZcSokeKa\n",
       "4rQ8ZWxRuhf4plieYbpvKeS9l0pPKUn/t8nQtBuSckkVNtsbl/bAZyQLHdEzMUVe2BjCEJwUJzI0\n",
       "mFIPxJXqqiQ69EIG72OriMlLhmStCbsztHzbDMwNyQdwRjYlNHSqhqFKEXIYsGcxOoba1EetcjBf\n",
       "gR+bu11Y6fmv1gAAAABJRU5ErkJggg==\n",
       "\" style=\"display:inline;vertical-align:middle;\" /></a><br>"
      ],
      "text/plain": [
       "expr: (7 * 0 , 0)"
      ]
     },
     "execution_count": 2,
     "metadata": {},
     "output_type": "execute_result"
    }
   ],
   "source": [
    "# build up the expression from sub-expressions\n",
    "expr = ExprTuple(Mult(seven, zero), zero)"
   ]
  },
  {
   "cell_type": "code",
   "execution_count": 3,
   "metadata": {},
   "outputs": [
    {
     "name": "stdout",
     "output_type": "stream",
     "text": [
      "Passed sanity check: built 'expr' is the same as the stored Expression.\n"
     ]
    }
   ],
   "source": [
    "# check that the built expression is the same as the stored expression\n",
    "%check_expr"
   ]
  },
  {
   "cell_type": "code",
   "execution_count": 4,
   "metadata": {},
   "outputs": [
    {
     "data": {
      "text/html": [
       "<table><tr><th>&nbsp;</th><th>core type</th><th>sub-expressions</th><th>expression</th></tr>\n",
       "<tr><td>0</td><td>ExprTuple</td><td>1, 5</td><td><a class=\"ProveItLink\" href=\"expr.ipynb\"><img src=\"data:image/png;base64,iVBORw0KGgoAAAANSUhEUgAAAEMAAAAVBAMAAADvM06qAAAAMFBMVEX////c3NwiIiJERESqqqqY\n",
       "mJh2dnZmZmYQEBDu7u4yMjJUVFTMzMyIiIi6uroAAAAs73DqAAAAAXRSTlMAQObYZgAAASNJREFU\n",
       "KM+NkiFPw0AUx/8ba7dj3VKPwSGGmMH3G6wKuSwTRZGg5kgQSEIq61aDwPER6hE0GBJAbJNLFpiA\n",
       "CRLKvSt3eySXhorm97/7Je/d3QP+8XXzqt0h/e7hHURRpNfE+VPGqEnhFk5RFF9aqc/EIacU6ORw\n",
       "Y+BOK4/AM6djoBXDBdxMKz3gzWeUAEsVV6a/DfAQMNoJMFGd9bVR+5QbOSP3DDcUm8EfZcSokeKa\n",
       "4rQ8ZWxRuhf4plieYbpvKeS9l0pPKUn/t8nQtBuSckkVNtsbl/bAZyQLHdEzMUVe2BjCEJwUJzI0\n",
       "mFIPxJXqqiQ69EIG72OriMlLhmStCbsztHzbDMwNyQdwRjYlNHSqhqFKEXIYsGcxOoba1EetcjBf\n",
       "gR+bu11Y6fmv1gAAAABJRU5ErkJggg==\n",
       "\" style=\"display:inline;vertical-align:middle;\" /></a></td></tr>\n",
       "<tr><td>1</td><td>Operation</td><td>operator:&nbsp;2<br>operands:&nbsp;3<br></td><td><a class=\"ProveItLink\" href=\"../0f5d1b740ab03c1995a89a3fd5b1b787defbda2b0/expr.ipynb\"><img src=\"data:image/png;base64,iVBORw0KGgoAAAANSUhEUgAAACIAAAAOBAMAAAC4B9O8AAAAMFBMVEX////c3NwQEBAyMjKqqqpE\n",
       "RESIiIi6urru7u5UVFSYmJh2dnZmZmYiIiLMzMwAAADdSUq1AAAAAXRSTlMAQObYZgAAAJRJREFU\n",
       "CNdjeHt69+4NDFDQk3aOgWH9////J8BErjP0PmDYwcDACRNgu8DAZsAA1LEPJsI7gYH9I5BmT4CJ\n",
       "8B9g4PsCpFthAgzyGxj4vgHpIygivxkYOD6AeR0IEaDpQMDxF6GLF+waDlWoyb8YGPoPMCDZzgK0\n",
       "vR4hAnQh9wUGBn+ECMMVhqYHDAzvFyBEerbNYwAADYAtpwZo8ngAAAAASUVORK5CYII=\n",
       "\" style=\"display:inline;vertical-align:middle;\" /></a></td></tr>\n",
       "<tr><td>2</td><td>Literal</td><td></td><td><a class=\"ProveItLink\" href=\"../../../../multiplication/__pv_it/21fd2079611555ecce512d99547a00d551e6b86b0/expr.ipynb\"><img src=\"data:image/png;base64,iVBORw0KGgoAAAANSUhEUgAAAAMAAAADBAMAAACkBqiMAAAAElBMVEX///9EREQQEBAiIiLu7u4A\n",
       "AABGBidwAAAAAXRSTlMAQObYZgAAABFJREFUCNdjYHFgcDVgcBIAAASWAQx4jI0xAAAAAElFTkSu\n",
       "QmCC\n",
       "\" style=\"display:inline;vertical-align:middle;\" /></a></td></tr>\n",
       "<tr><td>3</td><td>ExprTuple</td><td>4, 5</td><td><a class=\"ProveItLink\" href=\"../ea94dcb4b10beb009375fced108115fd44d0347e0/expr.ipynb\"><img src=\"data:image/png;base64,iVBORw0KGgoAAAANSUhEUgAAACkAAAAVBAMAAAAp9toTAAAAMFBMVEX////c3NwiIiJERESqqqqY\n",
       "mJh2dnZmZmYQEBDu7u4yMjJUVFTMzMyIiIi6uroAAAAs73DqAAAAAXRSTlMAQObYZgAAAQRJREFU\n",
       "GNNtkT1PwlAUhh+EFi5W0t0f4ACDC3v/AU6OhjjUiYSJzcTB0UhHN7s4sPETujNIXEzQgTiaGI2J\n",
       "MJBYz7ktH2m8w8l5n5uc9573wv+nMS2AMy0TvKMwDC0wl88J1US6EU6apitL9+amBTEcTHEjGFv6\n",
       "BDM4hVqEC25iaRM+fe7g3cqPzGgJjwHlgIF1ObawtBAqE/s8qKwGW9qlEnOr8p5d2rjiV+WM3Qne\n",
       "V0abbN1OlF6r2TKnctvxdUJbo1AaZVucgxNzIaIi1HzrxoG5QV/2JsL7ETr0pQxeZMn6nJq/TnTd\n",
       "6MZON++dTcA9m2SBGkmSw1xsvmRfR5WKP/QKfzz/QjeTDjmjAAAAAElFTkSuQmCC\n",
       "\" style=\"display:inline;vertical-align:middle;\" /></a></td></tr>\n",
       "<tr><td>4</td><td>Literal</td><td></td><td><a class=\"ProveItLink\" href=\"../../../__pv_it/44c347496acc279b31e97f8859fc6a0a1e31c26b0/expr.ipynb\"><img src=\"data:image/png;base64,iVBORw0KGgoAAAANSUhEUgAAAAoAAAAOBAMAAADkjZCYAAAAKlBMVEX///8yMjKqqqpERESIiIi6\n",
       "urru7u5UVFSYmJh2dnZmZmYiIiLMzMwAAACZcOxaAAAAAXRSTlMAQObYZgAAAEVJREFUCNdjOL1y\n",
       "5swJDL13794tYJjGwMDOwDCBgWEOAxCwOoDIZBDBsAhEsF0AkSwCIJK7AETmLgCRsWBSF0yebWBg\n",
       "AAAo0Q9n+lHhAQAAAABJRU5ErkJggg==\n",
       "\" style=\"display:inline;vertical-align:middle;\" /></a></td></tr>\n",
       "<tr><td>5</td><td>Literal</td><td></td><td><a class=\"ProveItLink\" href=\"../../../__pv_it/ec23fc7a1b4222a5f4948b495002b97d6fa18c3c0/expr.ipynb\"><img src=\"data:image/png;base64,iVBORw0KGgoAAAANSUhEUgAAAAoAAAAOBAMAAADkjZCYAAAALVBMVEX///8QEBCYmJh2dnaqqqrc\n",
       "3NxUVFQyMjK6uroiIiLMzMyIiIhmZmbu7u4AAAAZjyHdAAAAAXRSTlMAQObYZgAAAEpJREFUCNdj\n",
       "YLiz+xQDA8MMhpsLGLgnMHAXMHAmMHA8ZeA7wMD1hCHOgIHrNZh8jES+Bss+AqlkeQrSxTyBgWEK\n",
       "w8UFDAx3rLMYAMCjFldHSx/9AAAAAElFTkSuQmCC\n",
       "\" style=\"display:inline;vertical-align:middle;\" /></a></td></tr>\n",
       "</table>\n"
      ],
      "text/plain": [
       "0. (7 * 0 , 0)\n",
       "   core type: ExprTuple\n",
       "   sub-expressions: 1, 5\n",
       "1. 7 * 0\n",
       "   core type: Operation\n",
       "   operator: 2\n",
       "   operands: 3\n",
       "2. *\n",
       "   core type: Literal\n",
       "   sub-expressions: \n",
       "3. (7 , 0)\n",
       "   core type: ExprTuple\n",
       "   sub-expressions: 4, 5\n",
       "4. 7\n",
       "   core type: Literal\n",
       "   sub-expressions: \n",
       "5. 0\n",
       "   core type: Literal\n",
       "   sub-expressions: "
      ]
     },
     "execution_count": 4,
     "metadata": {},
     "output_type": "execute_result"
    }
   ],
   "source": [
    "# display the expression information\n",
    "expr.exprInfo()"
   ]
  },
  {
   "cell_type": "code",
   "execution_count": null,
   "metadata": {},
   "outputs": [],
   "source": []
  }
 ],
 "metadata": {
  "kernelspec": {
   "display_name": "Python 3",
   "language": "python",
   "name": "python3"
  }
 },
 "nbformat": 4,
 "nbformat_minor": 0
}
