{
 "cells": [
  {
   "cell_type": "markdown",
   "metadata": {},
   "source": [
    "Expression of type <a class=\"ProveItLink\" href=\"../../../../../../../doc/html/api/proveit.number.Mult.html\">Mult</a>\n",
    "=======================\n",
    "# from context <a class=\"ProveItLink\" href=\"../../_context_.ipynb\">proveit.number.numeral.deci</a>"
   ]
  },
  {
   "cell_type": "code",
   "execution_count": 1,
   "metadata": {},
   "outputs": [],
   "source": [
    "# import Expression classes needed to build the expression\n",
    "from proveit.number import Mult, eight, five"
   ]
  },
  {
   "cell_type": "code",
   "execution_count": 2,
   "metadata": {},
   "outputs": [
    {
     "data": {
      "text/html": [
       "<strong id=\"expr\">expr:</strong> <a class=\"ProveItLink\" href=\"expr.ipynb\"><img src=\"data:image/png;base64,iVBORw0KGgoAAAANSUhEUgAAACMAAAAOBAMAAABXxbiCAAAAMFBMVEX///+6uroQEBAyMjLMzMzc\n",
       "3NxERESIiIhUVFQiIiKYmJiqqqpmZmZ2dnbu7u4AAAACo3QQAAAAAXRSTlMAQObYZgAAAKpJREFU\n",
       "GNNjYHh79zQDDDCvY70NpA4w8CyACTH9/3+BgYFrAQPfBLiqE1eAJG8DkhAHmOT+8YC3AFWIIf9X\n",
       "Ldx4jvIKASDF838qXIjtAd9HILXG+f8GIMX3ACLaBLTxAMP6f0Dme6gd9x0YmB4wsP4CMh8lAIlM\n",
       "oJAAwyMg6zjMLE0GhvMBDEwBDAytMKEDDAzGQHfZMXBfgAnFMHCrAimJMwhvs5zpCGAAAB52LLdu\n",
       "Px8BAAAAAElFTkSuQmCC\n",
       "\" style=\"display:inline;vertical-align:middle;\" /></a><br>"
      ],
      "text/plain": [
       "expr: 8 * 5"
      ]
     },
     "execution_count": 2,
     "metadata": {},
     "output_type": "execute_result"
    }
   ],
   "source": [
    "# build up the expression from sub-expressions\n",
    "expr = Mult(eight, five)"
   ]
  },
  {
   "cell_type": "code",
   "execution_count": 3,
   "metadata": {},
   "outputs": [
    {
     "name": "stdout",
     "output_type": "stream",
     "text": [
      "Passed sanity check: built 'expr' is the same as the stored Expression.\n"
     ]
    }
   ],
   "source": [
    "# check that the built expression is the same as the stored expression\n",
    "%check_expr"
   ]
  },
  {
   "cell_type": "code",
   "execution_count": 4,
   "metadata": {},
   "outputs": [
    {
     "data": {
      "text/html": [
       "<table><tr><th>&nbsp;</th><th>core type</th><th>sub-expressions</th><th>expression</th></tr>\n",
       "<tr><td>0</td><td>Operation</td><td>operator:&nbsp;1<br>operands:&nbsp;2<br></td><td><a class=\"ProveItLink\" href=\"expr.ipynb\"><img src=\"data:image/png;base64,iVBORw0KGgoAAAANSUhEUgAAACMAAAAOBAMAAABXxbiCAAAAMFBMVEX///+6uroQEBAyMjLMzMzc\n",
       "3NxERESIiIhUVFQiIiKYmJiqqqpmZmZ2dnbu7u4AAAACo3QQAAAAAXRSTlMAQObYZgAAAKpJREFU\n",
       "GNNjYHh79zQDDDCvY70NpA4w8CyACTH9/3+BgYFrAQPfBLiqE1eAJG8DkhAHmOT+8YC3AFWIIf9X\n",
       "Ldx4jvIKASDF838qXIjtAd9HILXG+f8GIMX3ACLaBLTxAMP6f0Dme6gd9x0YmB4wsP4CMh8lAIlM\n",
       "oJAAwyMg6zjMLE0GhvMBDEwBDAytMKEDDAzGQHfZMXBfgAnFMHCrAimJMwhvs5zpCGAAAB52LLdu\n",
       "Px8BAAAAAElFTkSuQmCC\n",
       "\" style=\"display:inline;vertical-align:middle;\" /></a></td></tr>\n",
       "<tr><td>1</td><td>Literal</td><td></td><td><a class=\"ProveItLink\" href=\"../../../../multiplication/__pv_it/21fd2079611555ecce512d99547a00d551e6b86b0/expr.ipynb\"><img src=\"data:image/png;base64,iVBORw0KGgoAAAANSUhEUgAAAAMAAAADBAMAAACkBqiMAAAAElBMVEX///9EREQQEBAiIiLu7u4A\n",
       "AABGBidwAAAAAXRSTlMAQObYZgAAABFJREFUCNdjYHFgcDVgcBIAAASWAQx4jI0xAAAAAElFTkSu\n",
       "QmCC\n",
       "\" style=\"display:inline;vertical-align:middle;\" /></a></td></tr>\n",
       "<tr><td>2</td><td>ExprTuple</td><td>3, 4</td><td><a class=\"ProveItLink\" href=\"../93eef9047238abac92d1913277945a1a9f956d4b0/expr.ipynb\"><img src=\"data:image/png;base64,iVBORw0KGgoAAAANSUhEUgAAACkAAAAVBAMAAAAp9toTAAAAMFBMVEX////c3NwiIiJERESqqqqY\n",
       "mJh2dnZmZmYQEBDu7u4yMjJUVFTMzMyIiIi6uroAAAAs73DqAAAAAXRSTlMAQObYZgAAARZJREFU\n",
       "GNNtkStPA0EQgL9L78H2CqmrwMBfIEHTn1AFwcAJAgbCiYYKQngEDacI8gyiKHAkmGowp2qgyQUJ\n",
       "hpBUEBKO2d1eAw0rZme+nffC/2cmmwBrWjzCxWbbguqqs0HQE60LMUHL0KmiiCCF6QyvhZqzvvvb\n",
       "IpflOcG/KWlo5CW8gvuV+NkvWmmyJ9fSsG+rhYOnHPyYKzGCYt7SSqK+JTblTIyVh6JZdnsnExwh\n",
       "b17M+mdJd3vU3jWVNpyhQQtCc01PTSccGHoCh3WdYVF863BLgh6Sa8mYsiU1u7iR+hDawD02nb2I\n",
       "8dZpo84lota5F1nNTbjdaKnoOl400r3xgnfsJv9SJZtkdmSMvyTUqZzJH3qGH6ZnPv3AGbAyAAAA\n",
       "AElFTkSuQmCC\n",
       "\" style=\"display:inline;vertical-align:middle;\" /></a></td></tr>\n",
       "<tr><td>3</td><td>Literal</td><td></td><td><a class=\"ProveItLink\" href=\"../../../__pv_it/7ca36d8558dd5f18c1e16b5e877a0b7e314926450/expr.ipynb\"><img src=\"data:image/png;base64,iVBORw0KGgoAAAANSUhEUgAAAAoAAAAOBAMAAADkjZCYAAAAMFBMVEX///+6uroQEBAyMjLMzMzc\n",
       "3NxERESIiIhUVFQiIiKYmJiqqqpmZmZ2dnbu7u4AAAACo3QQAAAAAXRSTlMAQObYZgAAAFlJREFU\n",
       "CNdjYHh79zQDA8MBBp4FDFwLGPgmMPA2gEjuHw94CxgY8n/VAmV5/k8Fkmuc/29g4DrAsP4fA9MD\n",
       "BtZfDI+AgscZmAIYGFoZuO0YuC8wMEicOc0AAC98GKTiu3IvAAAAAElFTkSuQmCC\n",
       "\" style=\"display:inline;vertical-align:middle;\" /></a></td></tr>\n",
       "<tr><td>4</td><td>Literal</td><td></td><td><a class=\"ProveItLink\" href=\"../../../__pv_it/aaeeaca7d86eb2b7cdc49e25c3108b81b52ec5400/expr.ipynb\"><img src=\"data:image/png;base64,iVBORw0KGgoAAAANSUhEUgAAAAkAAAAOBAMAAAAPuiubAAAAMFBMVEX///8iIiJERES6urqIiIjM\n",
       "zMxUVFRmZmYQEBCqqqp2dnbc3Nzu7u6YmJgyMjIAAADYGhJvAAAAAXRSTlMAQObYZgAAAE1JREFU\n",
       "CNdj4LvDvZKBgeP//wUMDHxlSxkYGNgYGBCki5sBAwPTAZ7PYG4GmFwfwKAIJA0YGhkY6jcwFDAw\n",
       "vGNg2M7A2c3AwFqetoEBAKS8EE1WXEJLAAAAAElFTkSuQmCC\n",
       "\" style=\"display:inline;vertical-align:middle;\" /></a></td></tr>\n",
       "</table>\n"
      ],
      "text/plain": [
       "0. 8 * 5\n",
       "   core type: Operation\n",
       "   operator: 1\n",
       "   operands: 2\n",
       "1. *\n",
       "   core type: Literal\n",
       "   sub-expressions: \n",
       "2. (8 , 5)\n",
       "   core type: ExprTuple\n",
       "   sub-expressions: 3, 4\n",
       "3. 8\n",
       "   core type: Literal\n",
       "   sub-expressions: \n",
       "4. 5\n",
       "   core type: Literal\n",
       "   sub-expressions: "
      ]
     },
     "execution_count": 4,
     "metadata": {},
     "output_type": "execute_result"
    }
   ],
   "source": [
    "# display the expression information\n",
    "expr.exprInfo()"
   ]
  },
  {
   "cell_type": "code",
   "execution_count": null,
   "metadata": {},
   "outputs": [],
   "source": []
  }
 ],
 "metadata": {
  "kernelspec": {
   "display_name": "Python 3",
   "language": "python",
   "name": "python3"
  }
 },
 "nbformat": 4,
 "nbformat_minor": 0
}
