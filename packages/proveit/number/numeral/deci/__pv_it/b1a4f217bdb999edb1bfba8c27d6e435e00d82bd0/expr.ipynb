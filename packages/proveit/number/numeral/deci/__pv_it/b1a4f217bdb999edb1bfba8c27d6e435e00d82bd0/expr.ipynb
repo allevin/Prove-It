{
 "cells": [
  {
   "cell_type": "markdown",
   "metadata": {},
   "source": [
    "Theorem <a class=\"ProveItLink\" href=\"../../_theorems_.ipynb#mult_7_4\">mult_7_4</a> of type <a class=\"ProveItLink\" href=\"../../../../../../../doc/html/api/proveit.logic.Equals.html\">Equals</a>\n",
    "=======================\n",
    "# from context <a class=\"ProveItLink\" href=\"../../_context_.ipynb\">proveit.number.numeral.deci</a>\n",
    "*** see <a class=\"ProveItLink\" href=\"dependencies.ipynb\">dependencies</a> ***"
   ]
  },
  {
   "cell_type": "code",
   "execution_count": 1,
   "metadata": {},
   "outputs": [],
   "source": [
    "# import the special expression\n",
    "from proveit.number.numeral.deci._theorems_ import mult_7_4"
   ]
  },
  {
   "cell_type": "code",
   "execution_count": 2,
   "metadata": {},
   "outputs": [
    {
     "name": "stdout",
     "output_type": "stream",
     "text": [
      "Passed sanity check: built 'mult_7_4' is the same as the stored Expression.\n"
     ]
    }
   ],
   "source": [
    "# check that the built expression is the same as the stored expression\n",
    "%check_expr mult_7_4"
   ]
  },
  {
   "cell_type": "code",
   "execution_count": 3,
   "metadata": {},
   "outputs": [
    {
     "data": {
      "text/html": [
       "<table><tr><th>&nbsp;</th><th>core type</th><th>sub-expressions</th><th>expression</th></tr>\n",
       "<tr><td>0</td><td>Operation</td><td>operator:&nbsp;1<br>operands:&nbsp;2<br></td><td><a class=\"ProveItLink\" href=\"expr.ipynb\"><img src=\"data:image/png;base64,iVBORw0KGgoAAAANSUhEUgAAAGEAAAAVBAMAAACkm51HAAAAMFBMVEX////c3NwiIiJERESqqqqY\n",
       "mJh2dnZmZmYQEBDu7u4yMjJUVFTMzMyIiIi6uroAAAAs73DqAAAAAXRSTlMAQObYZgAAAZJJREFU\n",
       "OMuVkz9Iw0AUxr/Y5l+bluAmHRQdHBzaxb2TggjWQQVB6ZQOUigVLYhQBQdFkMOpWwviUB3aTUqH\n",
       "urtkFHEIjoIgpdpBMN5diylJDHjDkfe993v38t4d8P8VN73adiDxAG3WMAxH0JqQ791RQunKgmrk\n",
       "0vS7DtG27S/HOZYCam4igVgPMrAHxExIBGg6zkdKrLuJFpDEGnAJKAQSIDllCJuUqLiJU4KOtcOJ\n",
       "Vy68OT4pQolQ2kU0CMrWSgt5YJ/ZasrxrTJCKnhblCQheysLXDNDdlKqJiPC/NcPbti6HbbwEyh3\n",
       "deCCWdVBMGFFgRHxI88RVBYPGz3gm1lPXKtO0W2ZE9q7h9gFNuggyICY41qFhqrZP4gY7f8ZMJnB\n",
       "CSun/+sIt9udc3NYVXGarRnuWIQwQUXZxDy7Wv3RbAo9Q3QPXStA1I+BqI4cS+whPN0dN4wilggW\n",
       "gBeW4GPEJ3X6GUQs9zBsu4v4XYmOQdH9LnQl4LKLWT81H/Q+6j6aWgsiEj5aVA8iBJ9X+xwQ/wPr\n",
       "nF4OJoVomgAAAABJRU5ErkJggg==\n",
       "\" style=\"display:inline;vertical-align:middle;\" /></a></td></tr>\n",
       "<tr><td>1</td><td>Literal</td><td></td><td><a class=\"ProveItLink\" href=\"../../../../../logic/equality/__pv_it/2fb26078095930560931daa0500ce419a39ea6cd0/expr.ipynb\"><img src=\"data:image/png;base64,iVBORw0KGgoAAAANSUhEUgAAAA4AAAAFBAMAAACHocAhAAAAFVBMVEX///9EREQiIiJUVFQyMjJm\n",
       "ZmYAAADubVkoAAAAAXRSTlMAQObYZgAAABRJREFUCNdjCHEBAWcGXCBICQQUAUpuAwlgGKrkAAAA\n",
       "AElFTkSuQmCC\n",
       "\" style=\"display:inline;vertical-align:middle;\" /></a></td></tr>\n",
       "<tr><td>2</td><td>ExprTuple</td><td>3, 4</td><td><a class=\"ProveItLink\" href=\"../ca22106b57e79d47da812dd9f525099b5c9099880/expr.ipynb\"><img src=\"data:image/png;base64,iVBORw0KGgoAAAANSUhEUgAAAE0AAAAVBAMAAADx+n4ZAAAAMFBMVEX////c3NwiIiJERESqqqqY\n",
       "mJh2dnZmZmYQEBDu7u4yMjJUVFTMzMyIiIi6uroAAAAs73DqAAAAAXRSTlMAQObYZgAAAYJJREFU\n",
       "KM+Nkj9IQkEcxz+m7+nzT0hbNNTW0KBLu1NBBNlQQVA4PYcQpCiXoIKGIohHk1tCNDTlFuKge4tj\n",
       "RIM1BkGJ5RD0ujvF0wrshrv7fd/n7n7v+/vBf8dwbSCyLqdbwpO2bWs1XGyvntxFHctOJ/BXRXiF\n",
       "4brup+aG4u11jEgTP2xDASI1TAeKmrvrcCWIsQRnsAwBBxPMahfzrHa4I4dKfUNxeXhW2ou+zgx2\n",
       "uGuHvfpCiQx4E+xIyYprbjGog5jjdddS4myWSxn7E91PVk1z4Q/Ya0TBV+BUCudtxJHPojmxM3av\n",
       "m8Ljfb6kcK/k8wkxzfdwW7AiXHMIv7a5KSXnBWClNBcRZh3DeFJyh/LBVjc9X7lcOelUchbP6L5I\n",
       "vibfnZYlbvVWMxDHUn+RxYgeQCiKUSAtL/nJqUxHbHuTOYcZ5cuTPPneg5mVVjL/Js1z3QbDNznh\n",
       "WbBOIPpXJz32h6JuRuovLtkfZlRfDeSsgmqz3yPSH4Zkbp7Bff8A33X7XDdsuXx7AAAAAElFTkSu\n",
       "QmCC\n",
       "\" style=\"display:inline;vertical-align:middle;\" /></a></td></tr>\n",
       "<tr><td>3</td><td>Operation</td><td>operator:&nbsp;5<br>operands:&nbsp;6<br></td><td><a class=\"ProveItLink\" href=\"../042a59eb430e91934837cd6f8dd93132a72265690/expr.ipynb\"><img src=\"data:image/png;base64,iVBORw0KGgoAAAANSUhEUgAAACIAAAAPBAMAAABzWwAZAAAAMFBMVEX////c3NwQEBAyMjKqqqpE\n",
       "RESIiIi6urru7u5UVFSYmJh2dnZmZmYiIiLMzMwAAADdSUq1AAAAAXRSTlMAQObYZgAAAIVJREFU\n",
       "GNNjeHt69+4NDHDwkoFh/f///ycgRK4yMOxgYOBECLCpMjAAdexDiEiZgkj2BITIBrBIK0KASwAs\n",
       "cgQh0sYAEuH4AOZ0gDWBRdgMQGyOv0CC5QFYhBfsGg6gtQzdDGCR/gNwYzxnzvw0jYGhHiECBCCl\n",
       "/hgi7xcgCez8f4oBAwAAuvkhX89e49EAAAAASUVORK5CYII=\n",
       "\" style=\"display:inline;vertical-align:middle;\" /></a></td></tr>\n",
       "<tr><td>4</td><td>Operation</td><td>operator:&nbsp;7<br>operands:&nbsp;8<br></td><td><a class=\"ProveItLink\" href=\"../510f37126cc41cbfa17f3825167a54424924fbaf0/expr.ipynb\"><img src=\"data:image/png;base64,iVBORw0KGgoAAAANSUhEUgAAABMAAAAOBAMAAAA/Njq6AAAAMFBMVEX///+YmJh2dnbMzMwQEBAi\n",
       "IiLu7u6qqqqIiIhUVFS6urpEREQyMjJmZmbc3NwAAACOMKdoAAAAAXRSTlMAQObYZgAAAJFJREFU\n",
       "CNcdzKEKwkAAgOH/GMimbmizCHJJg+9gEKOvsCv2YVbmI5jWxHsE38MwRUwydkXBJAhj8eb5py/9\n",
       "RMVZ05LTBN74NSFcIYOYPqxgrjjqyZ+5otRpxhhXrDp2MHLyvlBWxrF7Qtzy2vEBQ4RV4O9hAZ8e\n",
       "bIleMwh3eBeEWUJgeEp5Z6NY/6bWVrQPRUIDc44omek3RI8AAAAASUVORK5CYII=\n",
       "\" style=\"display:inline;vertical-align:middle;\" /></a></td></tr>\n",
       "<tr><td>5</td><td>Literal</td><td></td><td><a class=\"ProveItLink\" href=\"../../../../multiplication/__pv_it/21fd2079611555ecce512d99547a00d551e6b86b0/expr.ipynb\"><img src=\"data:image/png;base64,iVBORw0KGgoAAAANSUhEUgAAAAMAAAADBAMAAACkBqiMAAAAElBMVEX///9EREQQEBAiIiLu7u4A\n",
       "AABGBidwAAAAAXRSTlMAQObYZgAAABFJREFUCNdjYHFgcDVgcBIAAASWAQx4jI0xAAAAAElFTkSu\n",
       "QmCC\n",
       "\" style=\"display:inline;vertical-align:middle;\" /></a></td></tr>\n",
       "<tr><td>6</td><td>ExprTuple</td><td>9, 10</td><td><a class=\"ProveItLink\" href=\"../d36fac91443cdda4714de3245a45f438e6692ebd0/expr.ipynb\"><img src=\"data:image/png;base64,iVBORw0KGgoAAAANSUhEUgAAACkAAAAVBAMAAAAp9toTAAAAMFBMVEX////c3NwiIiJERESqqqqY\n",
       "mJh2dnZmZmYQEBDu7u4yMjJUVFTMzMyIiIi6uroAAAAs73DqAAAAAXRSTlMAQObYZgAAAPtJREFU\n",
       "GNNt0SFvwlAUBeADo4+WFYLfD0DMYPD8gInNIBAEVRQJCj0xt4RVzlGDwOER4GcqlwVBkCQkhIQg\n",
       "SFbuaW8rGirad77e3Lx3H3D/qYU56PH1A7fheZ6Su0B5Ld85rCiKrqrFJhAA1RDGBxaqv6IdwPZh\n",
       "ALNOsNAV/Qb2cTpoqamIPrQxZnCaqm9UM8KModxO0AmppQATpmnaANTaO/6Z/lRfYnWPiT5rg36q\n",
       "H0yXREvL5eozZIcWR0H14x+21FoBBqwRdU6Zys52HMlZ9KvOTawur6hsYdfTiaYLntjq69rKBjyM\n",
       "J5lTRyaJJw3ZlTyyVSF/QxvgBr+7NcIF8Lg1AAAAAElFTkSuQmCC\n",
       "\" style=\"display:inline;vertical-align:middle;\" /></a></td></tr>\n",
       "<tr><td>7</td><td>Literal</td><td></td><td><a class=\"ProveItLink\" href=\"../b28e6317a1d330492d51cd67ccba81d4d210b8b30/expr.ipynb\"><img src=\"data:image/png;base64,iVBORw0KGgoAAAANSUhEUgAAAE8AAAAOBAMAAACcHlx8AAAAMFBMVEX///8iIiIQEBCYmJjc3Ny6\n",
       "urru7u5mZmZ2dnaqqqrMzMxEREQyMjJUVFSIiIgAAABUCcz6AAAAAXRSTlMAQObYZgAAAWhJREFU\n",
       "KM99kL9Lw3AQxV/bNE1s0rh1VNTBqWR2sAXdEwRns9XJtFsRwSxVx/oXNLgqNKugtLsgHQVtDWLt\n",
       "IEahVrT+vIsK1qEH+QS+PN67ewDuPlutExd/JtnA8EgTJv/eAPllSOj/EyLLGHsmbFoYNRuMVJ9Q\n",
       "80cKM2HQA8FojtIJA6bmsWMTQqmbg7gTuKslxG8Xg7N4cEiadnkGMfb6Ts062M0JBeyZyrizAkk9\n",
       "hV1GFVjKUaLKXrjnai5NoY+EK2aQnKsUsRzxYPskFHpIeIiGF9QZU1Cn56+hUoZIq1u2iapFx9JD\n",
       "xEctrPmVvlgPWuF3X/kJrCoCs/xgu7gKa/wgRD1obG8wlCZ7IY34o2hwvnUsco18+pEV7uFrOqAb\n",
       "pkNeYh9qY8Gu4EJ2e9JPjQcUm2ogn1MLkNyqoNNlVIniO4oupyUM1oB8/b11vs47bAfkWQpukAwQ\n",
       "n4TkQW67Qruz30F3C18Fz3drZAxLCAAAAABJRU5ErkJggg==\n",
       "\" style=\"display:inline;vertical-align:middle;\" /></a></td></tr>\n",
       "<tr><td>8</td><td>ExprTuple</td><td>11, 12</td><td><a class=\"ProveItLink\" href=\"../6272c0a2487df634356573246abbee1dd79a481b0/expr.ipynb\"><img src=\"data:image/png;base64,iVBORw0KGgoAAAANSUhEUgAAACkAAAAVBAMAAAAp9toTAAAAMFBMVEX////c3NwiIiJERESqqqqY\n",
       "mJh2dnZmZmYQEBDu7u4yMjJUVFTMzMyIiIi6uroAAAAs73DqAAAAAXRSTlMAQObYZgAAARpJREFU\n",
       "GNNtkS1Mw1AUhb/9lLYrLEUhEEyhMVhShcAAAlCQqVWQJTNAQkgYCWYGGhSyCUGgwC04HAJBPSQQ\n",
       "JGpZMDOU2/u6iYYn3rvnS97NuefC/6eeFMBedr3A3PGKAW4rDLCfpLqj9MBHoNSGA4hhJsGLKA+U\n",
       "bsEVbIMT4fTwfpXuK72Gb6iNsA1df6QNlYBDleWRPpV0twlTHW5VvjaNidOhD9WYC1U3Blon9z8y\n",
       "QRdtaC8ZuoOVRkwPDH3Lx+rBwkZGz0VUO8zqaF35lmQdlkU9wyaRFGfg+VgxIZQWW2HDHQpdi1hV\n",
       "Z19iNk3Thnspnur9Iwmk9onjjxMdF9nEVu4faxJwW5MsUFeSZD4Xk5V4WatScUPv8Af8yz6rdN9x\n",
       "lAAAAABJRU5ErkJggg==\n",
       "\" style=\"display:inline;vertical-align:middle;\" /></a></td></tr>\n",
       "<tr><td>9</td><td>Literal</td><td></td><td><a class=\"ProveItLink\" href=\"../../../__pv_it/44c347496acc279b31e97f8859fc6a0a1e31c26b0/expr.ipynb\"><img src=\"data:image/png;base64,iVBORw0KGgoAAAANSUhEUgAAAAoAAAAOBAMAAADkjZCYAAAAKlBMVEX///8yMjKqqqpERESIiIi6\n",
       "urru7u5UVFSYmJh2dnZmZmYiIiLMzMwAAACZcOxaAAAAAXRSTlMAQObYZgAAAEVJREFUCNdjOL1y\n",
       "5swJDL13794tYJjGwMDOwDCBgWEOAxCwOoDIZBDBsAhEsF0AkSwCIJK7AETmLgCRsWBSF0yebWBg\n",
       "AAAo0Q9n+lHhAQAAAABJRU5ErkJggg==\n",
       "\" style=\"display:inline;vertical-align:middle;\" /></a></td></tr>\n",
       "<tr><td>10</td><td>Literal</td><td></td><td><a class=\"ProveItLink\" href=\"../../../__pv_it/23412ce59ea7e77353d2f9225e02248e73651ca00/expr.ipynb\"><img src=\"data:image/png;base64,iVBORw0KGgoAAAANSUhEUgAAAAoAAAAPBAMAAAAv0UM9AAAALVBMVEX///9mZmaqqqru7u52dnYy\n",
       "MjKYmJjc3NwQEBCIiIhEREQiIiJUVFTMzMwAAACUDTcXAAAAAXRSTlMAQObYZgAAAD5JREFUCNdj\n",
       "YGBguMMAArtABGcXiCyLApEOIJKtAERaMoBIBxDJdAFEmjCASJ0zZ16cBCkF64KQPu/EwBwGACv6\n",
       "DSRgin9qAAAAAElFTkSuQmCC\n",
       "\" style=\"display:inline;vertical-align:middle;\" /></a></td></tr>\n",
       "<tr><td>11</td><td>Literal</td><td></td><td><a class=\"ProveItLink\" href=\"../../../__pv_it/77d407a64829263cdc16415becd4c2293f77a4bf0/expr.ipynb\"><img src=\"data:image/png;base64,iVBORw0KGgoAAAANSUhEUgAAAAkAAAAOBAMAAAAPuiubAAAAMFBMVEX///+YmJh2dnbMzMwQEBAi\n",
       "IiLu7u6qqqqIiIhUVFS6urpEREQyMjJmZmbc3NwAAACOMKdoAAAAAXRSTlMAQObYZgAAAFBJREFU\n",
       "CNdj4Lt7egEDw0sGju8MDNMYGOIZGFwSGOYvYDifwHAfKAEUSQASzJ9ATJ4NIPI2iOCYACJrGfge\n",
       "MDBfYGB8wPBUSekqUPH//18ZAIliFhc3zESNAAAAAElFTkSuQmCC\n",
       "\" style=\"display:inline;vertical-align:middle;\" /></a></td></tr>\n",
       "<tr><td>12</td><td>Literal</td><td></td><td><a class=\"ProveItLink\" href=\"../../../__pv_it/7ca36d8558dd5f18c1e16b5e877a0b7e314926450/expr.ipynb\"><img src=\"data:image/png;base64,iVBORw0KGgoAAAANSUhEUgAAAAoAAAAOBAMAAADkjZCYAAAAMFBMVEX///+6uroQEBAyMjLMzMzc\n",
       "3NxERESIiIhUVFQiIiKYmJiqqqpmZmZ2dnbu7u4AAAACo3QQAAAAAXRSTlMAQObYZgAAAFlJREFU\n",
       "CNdjYHh79zQDA8MBBp4FDFwLGPgmMPA2gEjuHw94CxgY8n/VAmV5/k8Fkmuc/29g4DrAsP4fA9MD\n",
       "BtZfDI+AgscZmAIYGFoZuO0YuC8wMEicOc0AAC98GKTiu3IvAAAAAElFTkSuQmCC\n",
       "\" style=\"display:inline;vertical-align:middle;\" /></a></td></tr>\n",
       "</table>\n"
      ],
      "text/plain": [
       "0. (7 * 4) = 28\n",
       "   core type: Operation\n",
       "   operator: 1\n",
       "   operands: 2\n",
       "1. =\n",
       "   core type: Literal\n",
       "   sub-expressions: \n",
       "2. (7 * 4 , 28)\n",
       "   core type: ExprTuple\n",
       "   sub-expressions: 3, 4\n",
       "3. 7 * 4\n",
       "   core type: Operation\n",
       "   operator: 5\n",
       "   operands: 6\n",
       "4. 28\n",
       "   core type: Operation\n",
       "   operator: 7\n",
       "   operands: 8\n",
       "5. *\n",
       "   core type: Literal\n",
       "   sub-expressions: \n",
       "6. (7 , 4)\n",
       "   core type: ExprTuple\n",
       "   sub-expressions: 9, 10\n",
       "7. Decimal\n",
       "   core type: Literal\n",
       "   sub-expressions: \n",
       "8. (2 , 8)\n",
       "   core type: ExprTuple\n",
       "   sub-expressions: 11, 12\n",
       "9. 7\n",
       "   core type: Literal\n",
       "   sub-expressions: \n",
       "10. 4\n",
       "    core type: Literal\n",
       "    sub-expressions: \n",
       "11. 2\n",
       "    core type: Literal\n",
       "    sub-expressions: \n",
       "12. 8\n",
       "    core type: Literal\n",
       "    sub-expressions: "
      ]
     },
     "execution_count": 3,
     "metadata": {},
     "output_type": "execute_result"
    }
   ],
   "source": [
    "# display the expression information\n",
    "mult_7_4.exprInfo()"
   ]
  },
  {
   "cell_type": "code",
   "execution_count": null,
   "metadata": {},
   "outputs": [],
   "source": []
  }
 ],
 "metadata": {
  "kernelspec": {
   "display_name": "Python 3",
   "language": "python",
   "name": "python3"
  }
 },
 "nbformat": 4,
 "nbformat_minor": 0
}
