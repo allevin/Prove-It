{
 "cells": [
  {
   "cell_type": "markdown",
   "metadata": {},
   "source": [
    "Theorem <a class=\"ProveItLink\" href=\"../../_theorems_.ipynb#nat5\">nat5</a> of type <a class=\"ProveItLink\" href=\"../../../../../../../doc/html/api/proveit.logic.InSet.html\">InSet</a>\n",
    "=======================\n",
    "# from context <a class=\"ProveItLink\" href=\"../../_context_.ipynb\">proveit.number.numeral.deci</a>\n",
    "*** see <a class=\"ProveItLink\" href=\"dependencies.ipynb\">dependencies</a> ***"
   ]
  },
  {
   "cell_type": "code",
   "execution_count": 1,
   "metadata": {},
   "outputs": [],
   "source": [
    "# import the special expression\n",
    "from proveit.number.numeral.deci._theorems_ import nat5"
   ]
  },
  {
   "cell_type": "code",
   "execution_count": 2,
   "metadata": {},
   "outputs": [
    {
     "name": "stdout",
     "output_type": "stream",
     "text": [
      "Passed sanity check: built 'nat5' is the same as the stored Expression.\n"
     ]
    }
   ],
   "source": [
    "# check that the built expression is the same as the stored expression\n",
    "%check_expr nat5"
   ]
  },
  {
   "cell_type": "code",
   "execution_count": 3,
   "metadata": {},
   "outputs": [
    {
     "data": {
      "text/html": [
       "<table><tr><th>&nbsp;</th><th>core type</th><th>sub-expressions</th><th>expression</th></tr>\n",
       "<tr><td>0</td><td>Operation</td><td>operator:&nbsp;1<br>operands:&nbsp;2<br></td><td><a class=\"ProveItLink\" href=\"expr.ipynb\"><img src=\"data:image/png;base64,iVBORw0KGgoAAAANSUhEUgAAADIAAAAPBAMAAABU9YHxAAAAMFBMVEX///8iIiJERES6urqIiIjM\n",
       "zMxUVFRmZmYQEBCqqqp2dnbc3Nzu7u6YmJgyMjIAAADYGhJvAAAAAXRSTlMAQObYZgAAANdJREFU\n",
       "GNNj4LvDvZIBGfC8V3rDwC4vycDx//8CFBkGpgtBDAz8DAx8ZUtRJRjYRFkcGDiANNwUP0HBB2AZ\n",
       "uwOpKDJxd2B6QhPOHQDJuLgZgPjcOnDTAqawKgBlmA7wfAbbuwEhw25whQPMzAARhxAuCGDIYYsA\n",
       "M9cHAAkLQUGYCwIYjvG8YGBQBMqALApD1sO6AKinkYGhHmTFQWQZhptMDAwFDAzvwPwLyDJcmxgY\n",
       "tjNwdoM9KgwPHZDhdQwMrOVpEPfuK4VIML9vApLnkMNr2kOI26AAANzsL23PUYZFAAAAAElFTkSu\n",
       "QmCC\n",
       "\" style=\"display:inline;vertical-align:middle;\" /></a></td></tr>\n",
       "<tr><td>1</td><td>Literal</td><td></td><td><a class=\"ProveItLink\" href=\"../../../../../logic/set_theory/membership/__pv_it/088cbc857536a28d4119ad9639a84270ccb0545d0/expr.ipynb\"><img src=\"data:image/png;base64,iVBORw0KGgoAAAANSUhEUgAAAAwAAAAMBAMAAACkW0HUAAAALVBMVEX///+qqqpmZmZUVFQQEBC6\n",
       "urpERETc3NyYmJjMzMwiIiIyMjKIiIju7u4AAACYsrA9AAAAAXRSTlMAQObYZgAAADxJREFUCNdj\n",
       "YOA9vWrVBgaG2b0MQMCeCyIZ2ArA1DUwyRCyahVIyWQI7xaEYm4AU7xLIdxqTQgtvGvVBgCkcQ7e\n",
       "geM/tQAAAABJRU5ErkJggg==\n",
       "\" style=\"display:inline;vertical-align:middle;\" /></a></td></tr>\n",
       "<tr><td>2</td><td>ExprTuple</td><td>3, 4</td><td><a class=\"ProveItLink\" href=\"../f6505131cbf6daa596b52872a166aa21f034d61f0/expr.ipynb\"><img src=\"data:image/png;base64,iVBORw0KGgoAAAANSUhEUgAAAC8AAAAVBAMAAAAk6KpUAAAAMFBMVEX////c3NwiIiJERESqqqqY\n",
       "mJh2dnZmZmYQEBDu7u4yMjJUVFTMzMyIiIi6uroAAAAs73DqAAAAAXRSTlMAQObYZgAAASNJREFU\n",
       "KM910TFLw1AQwPF/aZM0TSyZXFz6Ebp00EEy+gkcRScnoTi4CJLB2WaULmYpkq06ONUSEHTokg9g\n",
       "oXR0qhXEQar30pcSqAYS7u73OF7u4N+nnq7XDtRnBL1w088K3Y+dkNO5byWSxND5+dRHW24TZhDB\n",
       "hnS6fUg03CdjCGAfqiH0V82HsZMouIY3ijAY2bGCss+ZpI/jYQ6V9EmB2aYn6TY3Ew1cGKlAJeIq\n",
       "KzhBDk44kLgesMgK5ncOdr8r4M4UlBuYixx4dpdwKTduYL2vwPCbWasWWFCLCDVwJGBEHEOpzZ5n\n",
       "zxXsymtF2XWnEr6c32F3PPnbLzltC9QmVL18/F5h7jIS41DHRnEhJ8uxr4HqxpZOiot0VNvSH6t9\n",
       "hV/bHU6Hi7Au7QAAAABJRU5ErkJggg==\n",
       "\" style=\"display:inline;vertical-align:middle;\" /></a></td></tr>\n",
       "<tr><td>3</td><td>Literal</td><td></td><td><a class=\"ProveItLink\" href=\"../../../__pv_it/aaeeaca7d86eb2b7cdc49e25c3108b81b52ec5400/expr.ipynb\"><img src=\"data:image/png;base64,iVBORw0KGgoAAAANSUhEUgAAAAkAAAAOBAMAAAAPuiubAAAAMFBMVEX///8iIiJERES6urqIiIjM\n",
       "zMxUVFRmZmYQEBCqqqp2dnbc3Nzu7u6YmJgyMjIAAADYGhJvAAAAAXRSTlMAQObYZgAAAE1JREFU\n",
       "CNdj4LvDvZKBgeP//wUMDHxlSxkYGNgYGBCki5sBAwPTAZ7PYG4GmFwfwKAIJA0YGhkY6jcwFDAw\n",
       "vGNg2M7A2c3AwFqetoEBAKS8EE1WXEJLAAAAAElFTkSuQmCC\n",
       "\" style=\"display:inline;vertical-align:middle;\" /></a></td></tr>\n",
       "<tr><td>4</td><td>Literal</td><td></td><td><a class=\"ProveItLink\" href=\"../../../../sets/integer/__pv_it/e5d9bd86b06b357eee742ad868997123619e09700/expr.ipynb\"><img src=\"data:image/png;base64,iVBORw0KGgoAAAANSUhEUgAAAA8AAAAOBAMAAAACpFvcAAAAMFBMVEX////c3Nx2dna6uroQEBCI\n",
       "iIhUVFTMzMyYmJiqqqoiIiJmZmZEREQyMjLu7u4AAADjlg78AAAAAXRSTlMAQObYZgAAAGBJREFU\n",
       "CNdjePvn7AOGXb8mMDCcYD/AwPCBgYEhqyCUgcEByEi+x1YAZqSX8d2DMDgDaiAMhs0cARAG24N0\n",
       "CIMv4S2EwVDEDmVwTDgAYTAoghiHgZj7AgOD7Rcgj+8CAwA9oh2B0HK+MAAAAABJRU5ErkJggg==\n",
       "\" style=\"display:inline;vertical-align:middle;\" /></a></td></tr>\n",
       "</table>\n"
      ],
      "text/plain": [
       "0. 5 in Naturals\n",
       "   core type: Operation\n",
       "   operator: 1\n",
       "   operands: 2\n",
       "1. in\n",
       "   core type: Literal\n",
       "   sub-expressions: \n",
       "2. (5 , Naturals)\n",
       "   core type: ExprTuple\n",
       "   sub-expressions: 3, 4\n",
       "3. 5\n",
       "   core type: Literal\n",
       "   sub-expressions: \n",
       "4. Naturals\n",
       "   core type: Literal\n",
       "   sub-expressions: "
      ]
     },
     "execution_count": 3,
     "metadata": {},
     "output_type": "execute_result"
    }
   ],
   "source": [
    "# display the expression information\n",
    "nat5.exprInfo()"
   ]
  },
  {
   "cell_type": "code",
   "execution_count": null,
   "metadata": {},
   "outputs": [],
   "source": []
  }
 ],
 "metadata": {
  "kernelspec": {
   "display_name": "Python 3",
   "language": "python",
   "name": "python3"
  }
 },
 "nbformat": 4,
 "nbformat_minor": 0
}
