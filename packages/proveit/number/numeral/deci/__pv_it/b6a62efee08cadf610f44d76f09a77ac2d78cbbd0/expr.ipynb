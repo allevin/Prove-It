{
 "cells": [
  {
   "cell_type": "markdown",
   "metadata": {},
   "source": [
    "Theorem <a class=\"ProveItLink\" href=\"../../_theorems_.ipynb#less_5_6\">less_5_6</a> of type <a class=\"ProveItLink\" href=\"../../../../../../../doc/html/api/proveit.number.Less.html\">Less</a>\n",
    "=======================\n",
    "# from context <a class=\"ProveItLink\" href=\"../../_context_.ipynb\">proveit.number.numeral.deci</a>\n",
    "*** see <a class=\"ProveItLink\" href=\"dependencies.ipynb\">dependencies</a> ***"
   ]
  },
  {
   "cell_type": "code",
   "execution_count": 1,
   "metadata": {},
   "outputs": [],
   "source": [
    "# import the special expression\n",
    "from proveit.number.numeral.deci._theorems_ import less_5_6"
   ]
  },
  {
   "cell_type": "code",
   "execution_count": 2,
   "metadata": {},
   "outputs": [
    {
     "name": "stdout",
     "output_type": "stream",
     "text": [
      "Passed sanity check: built 'less_5_6' is the same as the stored Expression.\n"
     ]
    }
   ],
   "source": [
    "# check that the built expression is the same as the stored expression\n",
    "%check_expr less_5_6"
   ]
  },
  {
   "cell_type": "code",
   "execution_count": 3,
   "metadata": {},
   "outputs": [
    {
     "data": {
      "text/html": [
       "<table><tr><th>&nbsp;</th><th>core type</th><th>sub-expressions</th><th>expression</th></tr>\n",
       "<tr><td>0</td><td>Operation</td><td>operator:&nbsp;1<br>operands:&nbsp;2<br></td><td><a class=\"ProveItLink\" href=\"expr.ipynb\"><img src=\"data:image/png;base64,iVBORw0KGgoAAAANSUhEUgAAADAAAAAOBAMAAACbXIJpAAAAMFBMVEX///8iIiJERES6urqIiIjM\n",
       "zMxUVFRmZmYQEBCqqqp2dnbc3Nzu7u6YmJgyMjIAAADYGhJvAAAAAXRSTlMAQObYZgAAAMZJREFU\n",
       "GNNj4LvDvZIBDfAsXxXAwPH//wJ0iY0BbAIMfGVLkYS2B4BIKQa+BwxsyErDHoNI3j8gElnCLhVM\n",
       "8TWAJVzcDKDi86ohNP9Tl0oGBqYDPJ8hfMc1UAXnZRkYL4AYGWDuQgeYiec/MHCBrVkPcgqPkgFc\n",
       "QoCB9yeDIlACLMSaNwEqwf+AgfcLQyMDQ/0GMJ+78AJEggmso4CB4R0sJBb6gGlOsB3bGTi74R65\n",
       "CHGYFsOJCwys5WkbEF6cBw4S9vRkBgBFLDE9PuAqyAAAAABJRU5ErkJggg==\n",
       "\" style=\"display:inline;vertical-align:middle;\" /></a></td></tr>\n",
       "<tr><td>1</td><td>Literal</td><td></td><td><a class=\"ProveItLink\" href=\"../../../../ordering/__pv_it/7c444b9b2efa607ed6397b492680dde2810212f00/expr.ipynb\"><img src=\"data:image/png;base64,iVBORw0KGgoAAAANSUhEUgAAAA4AAAAMBAMAAACgrpHpAAAALVBMVEX///+YmJhERETu7u52dnYi\n",
       "IiKIiIiqqqq6uroyMjJUVFTMzMxmZmbc3NwAAADmAst+AAAAAXRSTlMAQObYZgAAAD5JREFUCNdj\n",
       "YAAB3tNgintlA4jimLUBRLHPuQCi2EIMQBRLGFgJg5EGhGbYNR3KuBMIZZiEGUAYjCFQBvtsABzC\n",
       "Cm98G6SsAAAAAElFTkSuQmCC\n",
       "\" style=\"display:inline;vertical-align:middle;\" /></a></td></tr>\n",
       "<tr><td>2</td><td>ExprTuple</td><td>3, 4</td><td><a class=\"ProveItLink\" href=\"../1cb51f233933e3c8f6e424a455c155d4cb6a17ac0/expr.ipynb\"><img src=\"data:image/png;base64,iVBORw0KGgoAAAANSUhEUgAAACkAAAAVBAMAAAAp9toTAAAAMFBMVEX////c3NwiIiJERESqqqqY\n",
       "mJh2dnZmZmYQEBDu7u4yMjJUVFTMzMyIiIi6uroAAAAs73DqAAAAAXRSTlMAQObYZgAAARRJREFU\n",
       "GNNtkS1Mw1AQx3+jtF03WKowmBkcigSBq8SBQkIdZoSpmZoJsKyK4KhZ+FCAwEHmEGTJHAaSBTkF\n",
       "CMRCGHfvrQssPHHv7vcu//t48P+p9KbAtppHaKcLkSXHjRp+R5wLaI0+LSwscwMZzIvA2W3H0pmY\n",
       "S9iCYgpXueROqvYEBvyi58Y6EQ257l7uLR12n6SsV6ctwRqnfYXBxyZLMJtxZJLKTUNHsJ9SafJt\n",
       "qPdlc6VgxNybUqeKZx+HQntKD6S5Kv67oSsmVxRWwYdShra6YXTdjF2Zs856qJo4cXBoOnuV4CG5\n",
       "JmiF4iWJtFjqUwzzjeaOTuzGY9+dLHjPbvIvDWSTLI6DyZeUVaow/UPP8APXT0I5hIDBdwAAAABJ\n",
       "RU5ErkJggg==\n",
       "\" style=\"display:inline;vertical-align:middle;\" /></a></td></tr>\n",
       "<tr><td>3</td><td>Literal</td><td></td><td><a class=\"ProveItLink\" href=\"../../../__pv_it/aaeeaca7d86eb2b7cdc49e25c3108b81b52ec5400/expr.ipynb\"><img src=\"data:image/png;base64,iVBORw0KGgoAAAANSUhEUgAAAAkAAAAOBAMAAAAPuiubAAAAMFBMVEX///8iIiJERES6urqIiIjM\n",
       "zMxUVFRmZmYQEBCqqqp2dnbc3Nzu7u6YmJgyMjIAAADYGhJvAAAAAXRSTlMAQObYZgAAAE1JREFU\n",
       "CNdj4LvDvZKBgeP//wUMDHxlSxkYGNgYGBCki5sBAwPTAZ7PYG4GmFwfwKAIJA0YGhkY6jcwFDAw\n",
       "vGNg2M7A2c3AwFqetoEBAKS8EE1WXEJLAAAAAElFTkSuQmCC\n",
       "\" style=\"display:inline;vertical-align:middle;\" /></a></td></tr>\n",
       "<tr><td>4</td><td>Literal</td><td></td><td><a class=\"ProveItLink\" href=\"../../../__pv_it/09b499e53e24cf89c2513ba78b501f0314edaa680/expr.ipynb\"><img src=\"data:image/png;base64,iVBORw0KGgoAAAANSUhEUgAAAAoAAAAOBAMAAADkjZCYAAAAMFBMVEX///+6urpERESqqqqIiIgQ\n",
       "EBCYmJgyMjJUVFQiIiLc3NzMzMxmZmZ2dnbu7u4AAABf+mkYAAAAAXRSTlMAQObYZgAAAFNJREFU\n",
       "CNdjYOC7c3cDA8PKDRwTGBjmMrAXMLD9YwAC9gAQyV/tcpiB4f00Bs4EhvcfGHj/MbyfwMD2mYEf\n",
       "qOwLAxOYzQwWZ9BleJrAwMDT08gAANMyF0ZGTeKAAAAAAElFTkSuQmCC\n",
       "\" style=\"display:inline;vertical-align:middle;\" /></a></td></tr>\n",
       "</table>\n"
      ],
      "text/plain": [
       "0. 5 < 6\n",
       "   core type: Operation\n",
       "   operator: 1\n",
       "   operands: 2\n",
       "1. <\n",
       "   core type: Literal\n",
       "   sub-expressions: \n",
       "2. (5 , 6)\n",
       "   core type: ExprTuple\n",
       "   sub-expressions: 3, 4\n",
       "3. 5\n",
       "   core type: Literal\n",
       "   sub-expressions: \n",
       "4. 6\n",
       "   core type: Literal\n",
       "   sub-expressions: "
      ]
     },
     "execution_count": 3,
     "metadata": {},
     "output_type": "execute_result"
    }
   ],
   "source": [
    "# display the expression information\n",
    "less_5_6.exprInfo()"
   ]
  },
  {
   "cell_type": "code",
   "execution_count": null,
   "metadata": {},
   "outputs": [],
   "source": []
  }
 ],
 "metadata": {
  "kernelspec": {
   "display_name": "Python 3",
   "language": "python",
   "name": "python3"
  }
 },
 "nbformat": 4,
 "nbformat_minor": 0
}
