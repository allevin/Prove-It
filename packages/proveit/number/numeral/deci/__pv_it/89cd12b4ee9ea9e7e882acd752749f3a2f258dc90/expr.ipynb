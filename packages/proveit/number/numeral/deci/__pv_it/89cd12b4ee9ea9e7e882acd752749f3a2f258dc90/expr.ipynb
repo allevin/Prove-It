{
 "cells": [
  {
   "cell_type": "markdown",
   "metadata": {},
   "source": [
    "Theorem <a class=\"ProveItLink\" href=\"../../_theorems_.ipynb#mult_2_6\">mult_2_6</a> of type <a class=\"ProveItLink\" href=\"../../../../../../../doc/html/api/proveit.logic.Equals.html\">Equals</a>\n",
    "=======================\n",
    "# from context <a class=\"ProveItLink\" href=\"../../_context_.ipynb\">proveit.number.numeral.deci</a>\n",
    "*** see <a class=\"ProveItLink\" href=\"dependencies.ipynb\">dependencies</a> ***"
   ]
  },
  {
   "cell_type": "code",
   "execution_count": 1,
   "metadata": {},
   "outputs": [],
   "source": [
    "# import the special expression\n",
    "from proveit.number.numeral.deci._theorems_ import mult_2_6"
   ]
  },
  {
   "cell_type": "code",
   "execution_count": 2,
   "metadata": {},
   "outputs": [
    {
     "name": "stdout",
     "output_type": "stream",
     "text": [
      "Passed sanity check: built 'mult_2_6' is the same as the stored Expression.\n"
     ]
    }
   ],
   "source": [
    "# check that the built expression is the same as the stored expression\n",
    "%check_expr mult_2_6"
   ]
  },
  {
   "cell_type": "code",
   "execution_count": 3,
   "metadata": {},
   "outputs": [
    {
     "data": {
      "text/html": [
       "<table><tr><th>&nbsp;</th><th>core type</th><th>sub-expressions</th><th>expression</th></tr>\n",
       "<tr><td>0</td><td>Operation</td><td>operator:&nbsp;1<br>operands:&nbsp;2<br></td><td><a class=\"ProveItLink\" href=\"expr.ipynb\"><img src=\"data:image/png;base64,iVBORw0KGgoAAAANSUhEUgAAAGEAAAAVBAMAAACkm51HAAAAMFBMVEX////c3NwiIiJERESqqqqY\n",
       "mJh2dnZmZmYQEBDu7u4yMjJUVFTMzMyIiIi6uroAAAAs73DqAAAAAXRSTlMAQObYZgAAAYtJREFU\n",
       "OMuVkz9Iw1AQxr/0j2napkQXhy5F0UloERxcJJujujhqpnZRLBWrtIMOCrpIQJCCg4Ui2DpY3MRB\n",
       "NwcRuzkoGBydiojQDsbLa9NK8xrwIMd7992Pe/dyD/i/RWrO2JIr8QAM52a6++PsCsQ7Z940IGyW\n",
       "DFqVIVTxptqCMIEroOgAjhpAFPIXINcQ0uGp24pHQwVY7AVOboi4BuJAQEfgAKEfW1rWLV9w1JCJ\n",
       "2Ndxa+ADCDYgdohz5r0qj7jUsW0g2zpLw1aaj8+UPZDmEWRxHWds8aS1BelzHmOAj7Weq1h28YcI\n",
       "fwOHbF9i2dSCZAJrOiI7/BrBBMAaEBOWP41ZNah5FeE6n1hHm3hhwYLFNYmo9SPkKrld+nxpDNrK\n",
       "JKvROlVmxLLRLjELQcEULe6BBZuYY334i7wa4TT8ClI0GOPJVMxWvJq01+92h5LJDPBOP8M0zQ6B\n",
       "fJ6mLWj0AOJWcwNx06SLCSi8gS64DLtf40VX3d5HmROTim5ElBMLKW6EwHm1ry75v1piZ5kRUGjL\n",
       "AAAAAElFTkSuQmCC\n",
       "\" style=\"display:inline;vertical-align:middle;\" /></a></td></tr>\n",
       "<tr><td>1</td><td>Literal</td><td></td><td><a class=\"ProveItLink\" href=\"../../../../../logic/equality/__pv_it/2fb26078095930560931daa0500ce419a39ea6cd0/expr.ipynb\"><img src=\"data:image/png;base64,iVBORw0KGgoAAAANSUhEUgAAAA4AAAAFBAMAAACHocAhAAAAFVBMVEX///9EREQiIiJUVFQyMjJm\n",
       "ZmYAAADubVkoAAAAAXRSTlMAQObYZgAAABRJREFUCNdjCHEBAWcGXCBICQQUAUpuAwlgGKrkAAAA\n",
       "AElFTkSuQmCC\n",
       "\" style=\"display:inline;vertical-align:middle;\" /></a></td></tr>\n",
       "<tr><td>2</td><td>ExprTuple</td><td>3, 4</td><td><a class=\"ProveItLink\" href=\"../859bd88b7d45687816a6ac657f8bb5b20592b08c0/expr.ipynb\"><img src=\"data:image/png;base64,iVBORw0KGgoAAAANSUhEUgAAAE0AAAAVBAMAAADx+n4ZAAAAMFBMVEX////c3NwiIiJERESqqqqY\n",
       "mJh2dnZmZmYQEBDu7u4yMjJUVFTMzMyIiIi6uroAAAAs73DqAAAAAXRSTlMAQObYZgAAAYFJREFU\n",
       "KM+NkjtIA0EQhv/Lw+SSnEQbC5s0WgkJgoWNXGdpbCz1qqRRDIpRTKGFgjayIEjAwoMgqI3BTiy0\n",
       "sxAxnYWCp6VVFBGSwnN2L3veaSBOsTuPj9mZ2QH+K921jsg0P26AvtWxH+decVaqo4CyXLEQuSLj\n",
       "GEoVT7qMKUM4a6m7DaAf2gdgAloNcYZAXXIBAyeOtn9B3DmQBqaAKEN0G/Evyc0wtwKNuC2GSwtl\n",
       "4BWINRBxuSP4uFOGNQtBHUXntYYMNm/vdQ9HkmboKuBQ6HdGK6a+ZzHg4xKfQMjEjnBVBEOlqTYw\n",
       "z7xcLEMzXocoLJLh50GK56NWdC+3yHPWHe5B+MucbhJX83Ba1eE26AoV0CP7GP6VbxxKkr87Qvo1\n",
       "MCm5CV6f6nKJAsJJhE3k6asGc/mU5IKGuikqdbjeXG4BfC4vNDzbtl0OpRLN/403t9JcQtq2qbOY\n",
       "hWiy3SY9+036t7DRjsv6zTmxVx05lfaKNuyvaH4zzmtTOu/9I/ANctplwg/k3mUAAAAASUVORK5C\n",
       "YII=\n",
       "\" style=\"display:inline;vertical-align:middle;\" /></a></td></tr>\n",
       "<tr><td>3</td><td>Operation</td><td>operator:&nbsp;5<br>operands:&nbsp;6<br></td><td><a class=\"ProveItLink\" href=\"../28bb31668bc2639b789cd5e7299ee0cd839db7000/expr.ipynb\"><img src=\"data:image/png;base64,iVBORw0KGgoAAAANSUhEUgAAACIAAAAOBAMAAAC4B9O8AAAAMFBMVEX///+YmJh2dnbMzMwQEBAi\n",
       "IiLu7u6qqqqIiIhUVFS6urpEREQyMjJmZmbc3NwAAACOMKdoAAAAAXRSTlMAQObYZgAAAKBJREFU\n",
       "CNdj4Lt7egEDDLDpKhkwvGTg+A4XeWrAGcAwjYEhHi4SxMBzgMElgWE+TBvjNxB5PoHhPkyExwHK\n",
       "iE+AMvgPd1wH0cyfYMbkBzKwCoDUbgDx0kAiHxiYQEbdBrvkK0gkgIER6BSOCWARb5A5BxgYfzAw\n",
       "1DLwPYCaww1Ww3yBgREmwg4256mS0lW4mzcxpAgwxP///xUuwjt3FgMAynwqpcOkWKYAAAAASUVO\n",
       "RK5CYII=\n",
       "\" style=\"display:inline;vertical-align:middle;\" /></a></td></tr>\n",
       "<tr><td>4</td><td>Operation</td><td>operator:&nbsp;7<br>operands:&nbsp;8<br></td><td><a class=\"ProveItLink\" href=\"../924182b6a365e5553cc4594df6a543e0523917720/expr.ipynb\"><img src=\"data:image/png;base64,iVBORw0KGgoAAAANSUhEUgAAABMAAAAPBAMAAAD0aukfAAAAMFBMVEX///92dnbMzMwiIiKqqqq6\n",
       "urrc3NyYmJgyMjIQEBBmZmaIiIhUVFTu7u5EREQAAADsrU5cAAAAAXRSTlMAQObYZgAAAG1JREFU\n",
       "CNdjYGB4y8DAtqovgIGB4d5fBoYcBu4vDAx3zgCZZxkY7IGi3EDmzAsM5wMgzP4LDOuhTCCwvwBj\n",
       "Mn1kgDE5HsCZ6xhgTO4DcKYXA1sChMm0gIEdykwWFFzMwMC18sdyBvv//z8zIAEAEZklb2GNE0kA\n",
       "AAAASUVORK5CYII=\n",
       "\" style=\"display:inline;vertical-align:middle;\" /></a></td></tr>\n",
       "<tr><td>5</td><td>Literal</td><td></td><td><a class=\"ProveItLink\" href=\"../../../../multiplication/__pv_it/21fd2079611555ecce512d99547a00d551e6b86b0/expr.ipynb\"><img src=\"data:image/png;base64,iVBORw0KGgoAAAANSUhEUgAAAAMAAAADBAMAAACkBqiMAAAAElBMVEX///9EREQQEBAiIiLu7u4A\n",
       "AABGBidwAAAAAXRSTlMAQObYZgAAABFJREFUCNdjYHFgcDVgcBIAAASWAQx4jI0xAAAAAElFTkSu\n",
       "QmCC\n",
       "\" style=\"display:inline;vertical-align:middle;\" /></a></td></tr>\n",
       "<tr><td>6</td><td>ExprTuple</td><td>11, 9</td><td><a class=\"ProveItLink\" href=\"../8ae068e0cee685f24bae13d2f1e0e6ea18e796270/expr.ipynb\"><img src=\"data:image/png;base64,iVBORw0KGgoAAAANSUhEUgAAACkAAAAVBAMAAAAp9toTAAAAMFBMVEX////c3NwiIiJERESqqqqY\n",
       "mJh2dnZmZmYQEBDu7u4yMjJUVFTMzMyIiIi6uroAAAAs73DqAAAAAXRSTlMAQObYZgAAARdJREFU\n",
       "GNNtkSFPw0AUx3/dVtqjsAyFwMyAQhASLOk3AAwSqpiBMDXBDAIEBqoIsgkhARThE+AQhFCHgIQF\n",
       "iVrmNkF599pNNJz433u/3P3vvXfw/6qnJbBj5QXmj9YLctnZx3uS4A7nga9QobPMIyQwmxLEVPpK\n",
       "KxH3sA1+jH9G8Kt0N7Z6BT8wPcTL6a1qNaSTXx3qNnp9lwem2txo+hZZNYNNFqGWcK70WtVkcBhT\n",
       "P0YNvZWcDuTBkJl+Tj+KJkZCU0tPJKm1mVO6qmfFYU2SZ9jClrqhvm5CS/pc2ms1rSfVyJxqZd9S\n",
       "bJZlTXPRENzt9qSrHn5jPNFxYDt2oyJ2JwM+0EmWqJFJslAkky8JrJVT/qFP+AMxoUDZt0WWhQAA\n",
       "AABJRU5ErkJggg==\n",
       "\" style=\"display:inline;vertical-align:middle;\" /></a></td></tr>\n",
       "<tr><td>7</td><td>Literal</td><td></td><td><a class=\"ProveItLink\" href=\"../b28e6317a1d330492d51cd67ccba81d4d210b8b30/expr.ipynb\"><img src=\"data:image/png;base64,iVBORw0KGgoAAAANSUhEUgAAAE8AAAAOBAMAAACcHlx8AAAAMFBMVEX///8iIiIQEBCYmJjc3Ny6\n",
       "urru7u5mZmZ2dnaqqqrMzMxEREQyMjJUVFSIiIgAAABUCcz6AAAAAXRSTlMAQObYZgAAAWhJREFU\n",
       "KM99kL9Lw3AQxV/bNE1s0rh1VNTBqWR2sAXdEwRns9XJtFsRwSxVx/oXNLgqNKugtLsgHQVtDWLt\n",
       "IEahVrT+vIsK1qEH+QS+PN67ewDuPlutExd/JtnA8EgTJv/eAPllSOj/EyLLGHsmbFoYNRuMVJ9Q\n",
       "80cKM2HQA8FojtIJA6bmsWMTQqmbg7gTuKslxG8Xg7N4cEiadnkGMfb6Ts062M0JBeyZyrizAkk9\n",
       "hV1GFVjKUaLKXrjnai5NoY+EK2aQnKsUsRzxYPskFHpIeIiGF9QZU1Cn56+hUoZIq1u2iapFx9JD\n",
       "xEctrPmVvlgPWuF3X/kJrCoCs/xgu7gKa/wgRD1obG8wlCZ7IY34o2hwvnUsco18+pEV7uFrOqAb\n",
       "pkNeYh9qY8Gu4EJ2e9JPjQcUm2ogn1MLkNyqoNNlVIniO4oupyUM1oB8/b11vs47bAfkWQpukAwQ\n",
       "n4TkQW67Qruz30F3C18Fz3drZAxLCAAAAABJRU5ErkJggg==\n",
       "\" style=\"display:inline;vertical-align:middle;\" /></a></td></tr>\n",
       "<tr><td>8</td><td>ExprTuple</td><td>10, 11</td><td><a class=\"ProveItLink\" href=\"../ae02dd48deb37365fce54e88fb6bdda021f4c6730/expr.ipynb\"><img src=\"data:image/png;base64,iVBORw0KGgoAAAANSUhEUgAAACkAAAAVBAMAAAAp9toTAAAAMFBMVEX////c3NwiIiJERESqqqqY\n",
       "mJh2dnZmZmYQEBDu7u4yMjJUVFTMzMyIiIi6uroAAAAs73DqAAAAAXRSTlMAQObYZgAAAOtJREFU\n",
       "GNNjYMAO+C6gCcSBiNNAzDwBIsBYvvgBA/sBIGslAwOnPVRUmoH3CwPDAgYG3gsMnLv3Q0V3MjDo\n",
       "MzCEMTBwgATuQ0U7JjDsf8Awg4HhFQOS6PoJDPUPGJgdGMqQRYFAfwIDWwHDUlRRnm8MDCwLGPpQ\n",
       "RbkMgD5oYPiHKloMUv8BTZR3A0S0BUXUnYFRAGSCKUwUJMFTwMAqwMC6gCEdKsr5CUgLpaUVMYBc\n",
       "9gjIKe9fHsDZLwB07P//QEmuBwwcArAQhTFAPmZNgLJZ4d7LhYQkqijnAnCYQgA8SrhBRjGix9Ad\n",
       "BgYAyE9BDPXceaYAAAAASUVORK5CYII=\n",
       "\" style=\"display:inline;vertical-align:middle;\" /></a></td></tr>\n",
       "<tr><td>9</td><td>Literal</td><td></td><td><a class=\"ProveItLink\" href=\"../../../__pv_it/09b499e53e24cf89c2513ba78b501f0314edaa680/expr.ipynb\"><img src=\"data:image/png;base64,iVBORw0KGgoAAAANSUhEUgAAAAoAAAAOBAMAAADkjZCYAAAAMFBMVEX///+6urpERESqqqqIiIgQ\n",
       "EBCYmJgyMjJUVFQiIiLc3NzMzMxmZmZ2dnbu7u4AAABf+mkYAAAAAXRSTlMAQObYZgAAAFNJREFU\n",
       "CNdjYOC7c3cDA8PKDRwTGBjmMrAXMLD9YwAC9gAQyV/tcpiB4f00Bs4EhvcfGHj/MbyfwMD2mYEf\n",
       "qOwLAxOYzQwWZ9BleJrAwMDT08gAANMyF0ZGTeKAAAAAAElFTkSuQmCC\n",
       "\" style=\"display:inline;vertical-align:middle;\" /></a></td></tr>\n",
       "<tr><td>10</td><td>Literal</td><td></td><td><a class=\"ProveItLink\" href=\"../../../__pv_it/9be8badea4c35b9724062cecc501d17a3158d1d20/expr.ipynb\"><img src=\"data:image/png;base64,iVBORw0KGgoAAAANSUhEUgAAAAgAAAAPBAMAAAArJJMAAAAAHlBMVEX///+YmJgyMjIQEBBmZmaI\n",
       "iIhUVFTu7u5EREQAAAAw+MI4AAAAAXRSTlMAQObYZgAAACFJREFUCNdjYGBoZ2BgqJjOwFCWBiQY\n",
       "WEklWJwnOTKAAACjEQo8HvEr3AAAAABJRU5ErkJggg==\n",
       "\" style=\"display:inline;vertical-align:middle;\" /></a></td></tr>\n",
       "<tr><td>11</td><td>Literal</td><td></td><td><a class=\"ProveItLink\" href=\"../../../__pv_it/77d407a64829263cdc16415becd4c2293f77a4bf0/expr.ipynb\"><img src=\"data:image/png;base64,iVBORw0KGgoAAAANSUhEUgAAAAkAAAAOBAMAAAAPuiubAAAAMFBMVEX///+YmJh2dnbMzMwQEBAi\n",
       "IiLu7u6qqqqIiIhUVFS6urpEREQyMjJmZmbc3NwAAACOMKdoAAAAAXRSTlMAQObYZgAAAFBJREFU\n",
       "CNdj4Lt7egEDw0sGju8MDNMYGOIZGFwSGOYvYDifwHAfKAEUSQASzJ9ATJ4NIPI2iOCYACJrGfge\n",
       "MDBfYGB8wPBUSekqUPH//18ZAIliFhc3zESNAAAAAElFTkSuQmCC\n",
       "\" style=\"display:inline;vertical-align:middle;\" /></a></td></tr>\n",
       "</table>\n"
      ],
      "text/plain": [
       "0. (2 * 6) = 12\n",
       "   core type: Operation\n",
       "   operator: 1\n",
       "   operands: 2\n",
       "1. =\n",
       "   core type: Literal\n",
       "   sub-expressions: \n",
       "2. (2 * 6 , 12)\n",
       "   core type: ExprTuple\n",
       "   sub-expressions: 3, 4\n",
       "3. 2 * 6\n",
       "   core type: Operation\n",
       "   operator: 5\n",
       "   operands: 6\n",
       "4. 12\n",
       "   core type: Operation\n",
       "   operator: 7\n",
       "   operands: 8\n",
       "5. *\n",
       "   core type: Literal\n",
       "   sub-expressions: \n",
       "6. (2 , 6)\n",
       "   core type: ExprTuple\n",
       "   sub-expressions: 11, 9\n",
       "7. Decimal\n",
       "   core type: Literal\n",
       "   sub-expressions: \n",
       "8. (1 , 2)\n",
       "   core type: ExprTuple\n",
       "   sub-expressions: 10, 11\n",
       "9. 6\n",
       "   core type: Literal\n",
       "   sub-expressions: \n",
       "10. 1\n",
       "    core type: Literal\n",
       "    sub-expressions: \n",
       "11. 2\n",
       "    core type: Literal\n",
       "    sub-expressions: "
      ]
     },
     "execution_count": 3,
     "metadata": {},
     "output_type": "execute_result"
    }
   ],
   "source": [
    "# display the expression information\n",
    "mult_2_6.exprInfo()"
   ]
  },
  {
   "cell_type": "code",
   "execution_count": null,
   "metadata": {},
   "outputs": [],
   "source": []
  }
 ],
 "metadata": {
  "kernelspec": {
   "display_name": "Python 3",
   "language": "python",
   "name": "python3"
  }
 },
 "nbformat": 4,
 "nbformat_minor": 0
}
