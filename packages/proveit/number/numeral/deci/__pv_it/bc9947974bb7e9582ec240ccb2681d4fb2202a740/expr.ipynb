{
 "cells": [
  {
   "cell_type": "markdown",
   "metadata": {},
   "source": [
    "Expression of type <a class=\"ProveItLink\" href=\"../../../../../../../doc/html/api/proveit.Lambda.html\">Lambda</a>\n",
    "=======================\n",
    "# from context <a class=\"ProveItLink\" href=\"../../_context_.ipynb\">proveit.number.numeral.deci</a>"
   ]
  },
  {
   "cell_type": "code",
   "execution_count": 1,
   "metadata": {},
   "outputs": [],
   "source": [
    "# import Expression classes needed to build the expression\n",
    "from proveit import Lambda\n",
    "from proveit._common_ import a\n",
    "from proveit.logic import Equals\n",
    "from proveit.number import Len, one"
   ]
  },
  {
   "cell_type": "code",
   "execution_count": 2,
   "metadata": {},
   "outputs": [
    {
     "data": {
      "text/html": [
       "<strong id=\"expr\">expr:</strong> <a class=\"ProveItLink\" href=\"expr.ipynb\"><img src=\"data:image/png;base64,iVBORw0KGgoAAAANSUhEUgAAAI0AAAAVCAMAAABMtZ25AAAANlBMVEX///8UFBQNDQ0yMjKqqqrM\n",
       "zMzu7u4iIiJmZmaYmJhEREQQEBC6urp2dnaIiIhUVFTc3NwAAACAukRkAAAAAXRSTlMAQObYZgAA\n",
       "AY1JREFUSMe1Vtt2xCAITOs1XlD//2e7uiZBNKfGbXnIA3GGERXYtiXj8S+XrZuD/PWOek7b0S+8\n",
       "7Bfb3YIYEWiY6rlMi2dqjKSwaWOShqkevOaJGmmSpLBZA6BhAPqk+2k1MoRwqLlgs2YlDWNlH8I+\n",
       "OSk41Fyw2SvMaBg3yq/hK2oqLAbwzsb+2Msj5fiCehrm9GASr5fUFFjhMOn8rdrVAR0F22mYw9OQ\n",
       "cNar0QxZGKrJsJgyoTZ3amS4Sph1NEz1tCTOLuUmw0LZkLqexveXasymkzN1aqqnJRFpSU2Gpbwh\n",
       "mcRdbrZwUd6qaUnW1cSUN8RfeDlWo1Gvsd1jeXsIyeikNE63uTspmTJfYBsXQzUCVzfT3eK3h5Ds\n",
       "bCk3GZZfBVd6OythW1yb4tY/3eppST544a9CAU4YmGlwTnXVTx3VBpEwN61Ga5uY3lvYdGeIXWeI\n",
       "H3aGAWx6CvE0zKDXeVhS4+E/Jgr5aKIYwaYtdtNWpNMWqt1P1ISVqTWWfOI7H9sMA5rhYF5Ngf0A\n",
       "98ETHnNp3AUAAAAASUVORK5CYII=\n",
       "\" style=\"display:inline;vertical-align:middle;\" /></a><br>"
      ],
      "text/plain": [
       "expr: a -> (|(a)| = 1)"
      ]
     },
     "execution_count": 2,
     "metadata": {},
     "output_type": "execute_result"
    }
   ],
   "source": [
    "# build up the expression from sub-expressions\n",
    "expr = Lambda(a, Equals(Len([a]), one))"
   ]
  },
  {
   "cell_type": "code",
   "execution_count": 3,
   "metadata": {},
   "outputs": [
    {
     "name": "stdout",
     "output_type": "stream",
     "text": [
      "Passed sanity check: built 'expr' is the same as the stored Expression.\n"
     ]
    }
   ],
   "source": [
    "# check that the built expression is the same as the stored expression\n",
    "%check_expr"
   ]
  },
  {
   "cell_type": "code",
   "execution_count": 4,
   "metadata": {},
   "outputs": [
    {
     "data": {
      "text/html": [
       "<table><tr><th>&nbsp;</th><th>core type</th><th>sub-expressions</th><th>expression</th></tr>\n",
       "<tr><td>0</td><td>Lambda</td><td>parameter:&nbsp;8<br>body:&nbsp;1<br></td><td><a class=\"ProveItLink\" href=\"expr.ipynb\"><img src=\"data:image/png;base64,iVBORw0KGgoAAAANSUhEUgAAAI0AAAAVCAMAAABMtZ25AAAANlBMVEX///8UFBQNDQ0yMjKqqqrM\n",
       "zMzu7u4iIiJmZmaYmJhEREQQEBC6urp2dnaIiIhUVFTc3NwAAACAukRkAAAAAXRSTlMAQObYZgAA\n",
       "AY1JREFUSMe1Vtt2xCAITOs1XlD//2e7uiZBNKfGbXnIA3GGERXYtiXj8S+XrZuD/PWOek7b0S+8\n",
       "7Bfb3YIYEWiY6rlMi2dqjKSwaWOShqkevOaJGmmSpLBZA6BhAPqk+2k1MoRwqLlgs2YlDWNlH8I+\n",
       "OSk41Fyw2SvMaBg3yq/hK2oqLAbwzsb+2Msj5fiCehrm9GASr5fUFFjhMOn8rdrVAR0F22mYw9OQ\n",
       "cNar0QxZGKrJsJgyoTZ3amS4Sph1NEz1tCTOLuUmw0LZkLqexveXasymkzN1aqqnJRFpSU2Gpbwh\n",
       "mcRdbrZwUd6qaUnW1cSUN8RfeDlWo1Gvsd1jeXsIyeikNE63uTspmTJfYBsXQzUCVzfT3eK3h5Ds\n",
       "bCk3GZZfBVd6OythW1yb4tY/3eppST544a9CAU4YmGlwTnXVTx3VBpEwN61Ga5uY3lvYdGeIXWeI\n",
       "H3aGAWx6CvE0zKDXeVhS4+E/Jgr5aKIYwaYtdtNWpNMWqt1P1ISVqTWWfOI7H9sMA5rhYF5Ngf0A\n",
       "98ETHnNp3AUAAAAASUVORK5CYII=\n",
       "\" style=\"display:inline;vertical-align:middle;\" /></a></td></tr>\n",
       "<tr><td>1</td><td>Operation</td><td>operator:&nbsp;2<br>operands:&nbsp;3<br></td><td><a class=\"ProveItLink\" href=\"../73d063f65a1a14e3965fe276c01df6c1e5aa47350/expr.ipynb\"><img src=\"data:image/png;base64,iVBORw0KGgoAAAANSUhEUgAAAFAAAAAVBAMAAAAjqnRBAAAAMFBMVEX///8iIiJERESYmJhmZmYQ\n",
       "EBDu7u4yMjJUVFTMzMyIiIi6urp2dnbc3NyqqqoAAABw9lLDAAAAAXRSTlMAQObYZgAAAPFJREFU\n",
       "KM9jeMuACbCJMZwGk7sgHOYNSGLYFHI2QHmeOBSqQQXZE6AC7NgVJn2DCq6CiTAfwKYwowOmMAwm\n",
       "xBaA1UQuqELuAriQHl6FLCALb6zZeoGB4QhehewGQFNjGfSBzOdwhe7lIFCBopAVGHz3DRicgMyt\n",
       "eE3kByrsZ2CQAjLnE1T4iYHtJ0GFrA8YeH8x8H1gQ7baURAEhFAUMhkwsP1j4Ch4ycBgjtdEHgcG\n",
       "hmKGhw4HCAUPtwAwGFft1AI6tRqbQhbX784QwVgCUQgXtIHxeBbgVwhPZukEEi4vLOH24la4Gkze\n",
       "gvpuApIYKgAANcdaM2o+wVcAAAAASUVORK5CYII=\n",
       "\" style=\"display:inline;vertical-align:middle;\" /></a></td></tr>\n",
       "<tr><td>2</td><td>Literal</td><td></td><td><a class=\"ProveItLink\" href=\"../../../../../logic/equality/__pv_it/2fb26078095930560931daa0500ce419a39ea6cd0/expr.ipynb\"><img src=\"data:image/png;base64,iVBORw0KGgoAAAANSUhEUgAAAA4AAAAFBAMAAACHocAhAAAAFVBMVEX///9EREQiIiJUVFQyMjJm\n",
       "ZmYAAADubVkoAAAAAXRSTlMAQObYZgAAABRJREFUCNdjCHEBAWcGXCBICQQUAUpuAwlgGKrkAAAA\n",
       "AElFTkSuQmCC\n",
       "\" style=\"display:inline;vertical-align:middle;\" /></a></td></tr>\n",
       "<tr><td>3</td><td>ExprTuple</td><td>4, 5</td><td><a class=\"ProveItLink\" href=\"../4fb90888d2698ee9f3b4c83b07f5ef2ad7e21a530/expr.ipynb\"><img src=\"data:image/png;base64,iVBORw0KGgoAAAANSUhEUgAAAE0AAAAVBAMAAADx+n4ZAAAAMFBMVEX////c3NwiIiJERESqqqqY\n",
       "mJh2dnZmZmYQEBDu7u4yMjJUVFTMzMyIiIi6uroAAAAs73DqAAAAAXRSTlMAQObYZgAAAWFJREFU\n",
       "KM91kqFPw0AUxr9m69Z2W6lfCPwDOBAIwkASRNUEgsyhaJYQCAKxJRgMNMEsYGoQGAIawTyCKhRb\n",
       "FtRCIFkAAwHC6/Vd03LsxN2773559+57B9BYgjoUzQ7hieAl3usDsXgpZD2ablkrX7K6l+XmgWKX\n",
       "1nPWLJ8PrAx3/EFTAFRC1noygd5IcafXEVcHDJ+1A8mZrXS+SsR1gCfW7CApe1bhcjXssFaMbqve\n",
       "Dx1gQ+EKTZyxZrmUs41FClcULh/gkDWDbJtysUXhUOHsFn5YmyDuBpih8E7hyqMM9wbzaxy3L++t\n",
       "QftGfmSOuXeOtZwL8x2lYBVYY85POD0QJnjx0+nty81G4ov5mvblUfo8Tfb1nheozAvmjsjL4u7n\n",
       "Npk2gOFwLW2lb7YjpU7cdcHVpVgImdOTTm7+969O8Jczo95XmdPkP72SXCi5UlSAFqIvdpNsWFcs\n",
       "/dS/fwB+AUwiZEZSBOm7AAAAAElFTkSuQmCC\n",
       "\" style=\"display:inline;vertical-align:middle;\" /></a></td></tr>\n",
       "<tr><td>4</td><td>Operation</td><td>operator:&nbsp;6<br>operand:&nbsp;7<br></td><td><a class=\"ProveItLink\" href=\"../41d8f931bfc371bd3e17bec61c2d73693d6f25bf0/expr.ipynb\"><img src=\"data:image/png;base64,iVBORw0KGgoAAAANSUhEUgAAACoAAAAVBAMAAADCwWEQAAAAMFBMVEX///8iIiJERESYmJhmZmYQ\n",
       "EBDu7u4yMjJUVFTMzMyIiIi6urp2dnbc3NyqqqoAAABw9lLDAAAAAXRSTlMAQObYZgAAAMdJREFU\n",
       "GNNjeMuACd4ynAbTuyBc5g1g6jRElLMBqsoTWZQ9ASrKjiy6CmYi8wEk0TCYKFsAQpS7AG69HkKU\n",
       "BaTvxpqtFxgYjiBE2Q2A6mMZ9IHM5whRVqAz7xswOAGZWxGi/EDRfgYGKSBzPqroJwa2n6iirA8Y\n",
       "eH8x8H1gQzGByYCB7R8DR8FLBgZzhCiPAwNDMcNDhwMoLuMWADp31U4toPHVSD6OxeZjBhuYKM8C\n",
       "bCGZjhySvLBQ74WKrgbTtyCCXBPA1GoA/cpHkl9SEYQAAAAASUVORK5CYII=\n",
       "\" style=\"display:inline;vertical-align:middle;\" /></a></td></tr>\n",
       "<tr><td>5</td><td>Literal</td><td></td><td><a class=\"ProveItLink\" href=\"../../../__pv_it/9be8badea4c35b9724062cecc501d17a3158d1d20/expr.ipynb\"><img src=\"data:image/png;base64,iVBORw0KGgoAAAANSUhEUgAAAAgAAAAPBAMAAAArJJMAAAAAHlBMVEX///+YmJgyMjIQEBBmZmaI\n",
       "iIhUVFTu7u5EREQAAAAw+MI4AAAAAXRSTlMAQObYZgAAACFJREFUCNdjYGBoZ2BgqJjOwFCWBiQY\n",
       "WEklWJwnOTKAAACjEQo8HvEr3AAAAABJRU5ErkJggg==\n",
       "\" style=\"display:inline;vertical-align:middle;\" /></a></td></tr>\n",
       "<tr><td>6</td><td>Literal</td><td></td><td><a class=\"ProveItLink\" href=\"../../../../sets/integer/__pv_it/0a9286fafc7688968c9f0b1c9372a7c495b9f9510/expr.ipynb\"><img src=\"data:image/png;base64,iVBORw0KGgoAAAANSUhEUgAAADsAAAASBAMAAAAXqLt+AAAAMFBMVEX///+qqqru7u5ERERUVFTM\n",
       "zMzc3NyIiIgQEBAyMjJmZmaYmJi6uroiIiJ2dnYAAAD2HuJxAAAAAXRSTlMAQObYZgAAAURJREFU\n",
       "KM99kT9LAnEYxz93Xmnn33fgvYJ0iISWhIJ0k95ABw2BixcFkhC1RFu4BU03lNIibg0N3hDUlhA0\n",
       "xlFDQQgmaBQOPXc5BGoPHPf93ef3fJ/vw0FnyKRSc23/He5OYEcwZ/tSr45jpQfxhC9D1jjWxfje\n",
       "8GWpMI6jYtz5lS15iq81bhe3dl2JUn9P3ywvWJxd7ZiCVmTUI0XcvKX24ZySTVLSfZl6VvCx+Dtc\n",
       "RJwH1CHhnpfpUlr6aGmYkY7cddlUhUngUJYNkyc/XVRmBQ/he7SMViWZYN9z8ZiYEsgafI72jzeN\n",
       "A5MllC5myuENQz653vggIZeW4coeH3JTcUSchE3i6xZ7qDXP6kUppAxtgGbPk0ftx6StYRCrl+EO\n",
       "NreJrFXazGYsTqHxPOFXBWyml0MqMZ3qA1b/aVYylebf8w8ORloN8BKQFQAAAABJRU5ErkJggg==\n",
       "\" style=\"display:inline;vertical-align:middle;\" /></a></td></tr>\n",
       "<tr><td>7</td><td>ExprTuple</td><td>8</td><td><a class=\"ProveItLink\" href=\"../4cedc84ed0eb99d331b44e08d4b572c8ef9f87970/expr.ipynb\"><img src=\"data:image/png;base64,iVBORw0KGgoAAAANSUhEUgAAABcAAAAVBAMAAABfzGiYAAAAMFBMVEX////c3NwiIiJERESqqqqY\n",
       "mJh2dnZmZmYQEBDu7u4yMjJUVFTMzMyIiIi6uroAAAAs73DqAAAAAXRSTlMAQObYZgAAALRJREFU\n",
       "GNNjYEABfBcgdByIOA0VZD8AJFbClCxgYOC9AOOEMTBwTIBxZjAwvIKbxOzAUAakGPfmNTIwsBUw\n",
       "LAVyXggwf2BgYFnA0AeU+MrAbgC0sIHhHwMD9wcGJqCZPB9AHH4DhvkHwJwWBgb5Cwz+DBNAykwZ\n",
       "GOY7MOxiOcDAuoAhnYGBK4BFnQ1s9COQNfcO3wOKPWDgEEByDmsCjJOL5AVOoBcYpKEcbpB6RqiH\n",
       "7jAwAABtCChc/Udu1AAAAABJRU5ErkJggg==\n",
       "\" style=\"display:inline;vertical-align:middle;\" /></a></td></tr>\n",
       "<tr><td>8</td><td>Variable</td><td></td><td><a class=\"ProveItLink\" href=\"../../../../../__pv_it/07527342713064c87612d00d8557c53d53d5324a0/expr.ipynb\"><img src=\"data:image/png;base64,iVBORw0KGgoAAAANSUhEUgAAAAsAAAAJBAMAAAAWSsseAAAAMFBMVEX///8yMjKqqqrMzMzu7u4i\n",
       "IiJmZmaYmJhEREQQEBC6urp2dnaIiIhUVFTc3NwAAAD87Fq/AAAAAXRSTlMAQObYZgAAAEhJREFU\n",
       "CNdjYOC7s2seAwPDygccHxgY+L4zsDUwMPB+YGA9wMDA38Dgb8DA8P4Agz6DA4O/AsNFJgMGxgKm\n",
       "MG6gyjunLE4xAAAZTBA5TB6DCwAAAABJRU5ErkJggg==\n",
       "\" style=\"display:inline;vertical-align:middle;\" /></a></td></tr>\n",
       "</table>\n"
      ],
      "text/plain": [
       "0. a -> (|(a)| = 1)\n",
       "   core type: Lambda\n",
       "   parameter: 8\n",
       "   body: 1\n",
       "1. |(a)| = 1\n",
       "   core type: Operation\n",
       "   operator: 2\n",
       "   operands: 3\n",
       "2. =\n",
       "   core type: Literal\n",
       "   sub-expressions: \n",
       "3. (|(a)| , 1)\n",
       "   core type: ExprTuple\n",
       "   sub-expressions: 4, 5\n",
       "4. |(a)|\n",
       "   core type: Operation\n",
       "   operator: 6\n",
       "   operand: 7\n",
       "5. 1\n",
       "   core type: Literal\n",
       "   sub-expressions: \n",
       "6. length\n",
       "   core type: Literal\n",
       "   sub-expressions: \n",
       "7. (a)\n",
       "   core type: ExprTuple\n",
       "   sub-expressions: 8\n",
       "8. a\n",
       "   core type: Variable\n",
       "   sub-expressions: "
      ]
     },
     "execution_count": 4,
     "metadata": {},
     "output_type": "execute_result"
    }
   ],
   "source": [
    "# display the expression information\n",
    "expr.exprInfo()"
   ]
  },
  {
   "cell_type": "code",
   "execution_count": null,
   "metadata": {},
   "outputs": [],
   "source": []
  }
 ],
 "metadata": {
  "kernelspec": {
   "display_name": "Python 3",
   "language": "python",
   "name": "python3"
  }
 },
 "nbformat": 4,
 "nbformat_minor": 0
}
