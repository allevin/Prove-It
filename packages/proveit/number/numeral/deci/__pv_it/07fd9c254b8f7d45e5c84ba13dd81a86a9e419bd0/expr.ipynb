{
 "cells": [
  {
   "cell_type": "markdown",
   "metadata": {},
   "source": [
    "Expression of type <a class=\"ProveItLink\" href=\"../../../../../../../doc/html/api/proveit.ExprTuple.html\">ExprTuple</a>\n",
    "=======================\n",
    "# from context <a class=\"ProveItLink\" href=\"../../_context_.ipynb\">proveit.number.numeral.deci</a>"
   ]
  },
  {
   "cell_type": "code",
   "execution_count": 1,
   "metadata": {},
   "outputs": [],
   "source": [
    "# import Expression classes needed to build the expression\n",
    "from proveit import ExprTuple\n",
    "from proveit.number import DecimalSequence, Mult, five, seven, three"
   ]
  },
  {
   "cell_type": "code",
   "execution_count": 2,
   "metadata": {},
   "outputs": [
    {
     "data": {
      "text/html": [
       "<strong id=\"expr\">expr:</strong> <a class=\"ProveItLink\" href=\"expr.ipynb\"><img src=\"data:image/png;base64,iVBORw0KGgoAAAANSUhEUgAAAE0AAAAVBAMAAADx+n4ZAAAAMFBMVEX////c3NwiIiJERESqqqqY\n",
       "mJh2dnZmZmYQEBDu7u4yMjJUVFTMzMyIiIi6uroAAAAs73DqAAAAAXRSTlMAQObYZgAAAYxJREFU\n",
       "KM+Nkr1Lw0AYxp/ajzRJWzLpoEP/A0VwcDKjWzsJLlpQKkKlGaQFO1jF2QZcujVLEXWpiwiiFAcd\n",
       "HHRx0kJ0dLE6dBDt+d7FJg0UaobL8773e7/uDvjvl3gYiizx5Q6om6N6z3ddyGYzQsWyKzqUxcAq\n",
       "pCaZR0CFddzYZcZYQ6gxJH4QZYyiLCBOZQ/Pmi63DqiOyuv4hFLKkVwAoibQ6OuFonOOSnHOiakC\n",
       "b/Bz/YNRXYcL6ijQ77J11ccduEppQG092UDEQJ3sWdRsj9vsiZsTymTKXSBkYV+41DItssml3HYj\n",
       "4mLznBoooys8kW9aakmxaXmpKzwy30SszblgEhGOV6f43khvqglgLj1NnM25PTqaJKQPN0fNcP4y\n",
       "M4nbBbY1XncGkGgyr9g7cTIXX8CkRsYxELawBgQMzGsulzL+On1EokOXF9oR5/JKntvSqdf7fZo6\n",
       "5W2Eils6YsULSqHYiGqDXtKL36R7C2cGcWm/ueG8q2GczKccH4DF/abKewsMf/fPwC/fkWKfgXXk\n",
       "rQAAAABJRU5ErkJggg==\n",
       "\" style=\"display:inline;vertical-align:middle;\" /></a><br>"
      ],
      "text/plain": [
       "expr: (5 * 7 , 35)"
      ]
     },
     "execution_count": 2,
     "metadata": {},
     "output_type": "execute_result"
    }
   ],
   "source": [
    "# build up the expression from sub-expressions\n",
    "expr = ExprTuple(Mult(five, seven), DecimalSequence(three, five))"
   ]
  },
  {
   "cell_type": "code",
   "execution_count": 3,
   "metadata": {},
   "outputs": [
    {
     "name": "stdout",
     "output_type": "stream",
     "text": [
      "Passed sanity check: built 'expr' is the same as the stored Expression.\n"
     ]
    }
   ],
   "source": [
    "# check that the built expression is the same as the stored expression\n",
    "%check_expr"
   ]
  },
  {
   "cell_type": "code",
   "execution_count": 4,
   "metadata": {},
   "outputs": [
    {
     "data": {
      "text/html": [
       "<table><tr><th>&nbsp;</th><th>core type</th><th>sub-expressions</th><th>expression</th></tr>\n",
       "<tr><td>0</td><td>ExprTuple</td><td>1, 2</td><td><a class=\"ProveItLink\" href=\"expr.ipynb\"><img src=\"data:image/png;base64,iVBORw0KGgoAAAANSUhEUgAAAE0AAAAVBAMAAADx+n4ZAAAAMFBMVEX////c3NwiIiJERESqqqqY\n",
       "mJh2dnZmZmYQEBDu7u4yMjJUVFTMzMyIiIi6uroAAAAs73DqAAAAAXRSTlMAQObYZgAAAYxJREFU\n",
       "KM+Nkr1Lw0AYxp/ajzRJWzLpoEP/A0VwcDKjWzsJLlpQKkKlGaQFO1jF2QZcujVLEXWpiwiiFAcd\n",
       "HHRx0kJ0dLE6dBDt+d7FJg0UaobL8773e7/uDvjvl3gYiizx5Q6om6N6z3ddyGYzQsWyKzqUxcAq\n",
       "pCaZR0CFddzYZcZYQ6gxJH4QZYyiLCBOZQ/Pmi63DqiOyuv4hFLKkVwAoibQ6OuFonOOSnHOiakC\n",
       "b/Bz/YNRXYcL6ijQ77J11ccduEppQG092UDEQJ3sWdRsj9vsiZsTymTKXSBkYV+41DItssml3HYj\n",
       "4mLznBoooys8kW9aakmxaXmpKzwy30SszblgEhGOV6f43khvqglgLj1NnM25PTqaJKQPN0fNcP4y\n",
       "M4nbBbY1XncGkGgyr9g7cTIXX8CkRsYxELawBgQMzGsulzL+On1EokOXF9oR5/JKntvSqdf7fZo6\n",
       "5W2Eils6YsULSqHYiGqDXtKL36R7C2cGcWm/ueG8q2GczKccH4DF/abKewsMf/fPwC/fkWKfgXXk\n",
       "rQAAAABJRU5ErkJggg==\n",
       "\" style=\"display:inline;vertical-align:middle;\" /></a></td></tr>\n",
       "<tr><td>1</td><td>Operation</td><td>operator:&nbsp;3<br>operands:&nbsp;4<br></td><td><a class=\"ProveItLink\" href=\"../a319bc152e192e13a3cce0323943de9c7d0e73550/expr.ipynb\"><img src=\"data:image/png;base64,iVBORw0KGgoAAAANSUhEUgAAACMAAAAOBAMAAABXxbiCAAAAMFBMVEX///8iIiJERES6urqIiIjM\n",
       "zMxUVFRmZmYQEBCqqqp2dnbc3Nzu7u6YmJgyMjIAAADYGhJvAAAAAXRSTlMAQObYZgAAAJZJREFU\n",
       "GNNj4LvDvZIBCljFV61axcDA8f//ApgQ7////78xMPCVLYWJMHAdYGBIYGBgY0AALiAKQBUCAhMg\n",
       "ZnNxM0CI8CgACaYDPJ8RQuwTIHQGiDgDZp6HSq0HGsnzEcz0AxGKQCGgYTxNYCExENHIwFC/AW76\n",
       "dxBZwMDwDm46M1hoOwNnN1yIEyzEWp4G18fA+hdIAABKnSB1u8/6RwAAAABJRU5ErkJggg==\n",
       "\" style=\"display:inline;vertical-align:middle;\" /></a></td></tr>\n",
       "<tr><td>2</td><td>Operation</td><td>operator:&nbsp;5<br>operands:&nbsp;6<br></td><td><a class=\"ProveItLink\" href=\"../c6ea798c8a2a90a5d6e28aac1966a37b3dc2ea250/expr.ipynb\"><img src=\"data:image/png;base64,iVBORw0KGgoAAAANSUhEUgAAABQAAAAOBAMAAADd6iHDAAAAMFBMVEX///+YmJju7u4QEBBUVFQy\n",
       "MjIiIiKIiIi6urpmZmbc3NyqqqpERER2dnbMzMwAAAB0GlNiAAAAAXRSTlMAQObYZgAAAIlJREFU\n",
       "CNdjYHh79zQDQ6DC2g0MXBMY+gsY7P//ZWDg/c3An8AQ6fuAgYEbzHRggACgAhgzhIHBvdwDyOC7\n",
       "ChQ6xKDfABItBpEsBiAm8ycgwfuPgesBA89HngQG3h8M+p+ATOYEBs5fDPwBDGy/OBkYWAMY2AUY\n",
       "+i8Abd+8gIFh58xoBoaXU7wYABa5JK6WsK9SAAAAAElFTkSuQmCC\n",
       "\" style=\"display:inline;vertical-align:middle;\" /></a></td></tr>\n",
       "<tr><td>3</td><td>Literal</td><td></td><td><a class=\"ProveItLink\" href=\"../../../../multiplication/__pv_it/21fd2079611555ecce512d99547a00d551e6b86b0/expr.ipynb\"><img src=\"data:image/png;base64,iVBORw0KGgoAAAANSUhEUgAAAAMAAAADBAMAAACkBqiMAAAAElBMVEX///9EREQQEBAiIiLu7u4A\n",
       "AABGBidwAAAAAXRSTlMAQObYZgAAABFJREFUCNdjYHFgcDVgcBIAAASWAQx4jI0xAAAAAElFTkSu\n",
       "QmCC\n",
       "\" style=\"display:inline;vertical-align:middle;\" /></a></td></tr>\n",
       "<tr><td>4</td><td>ExprTuple</td><td>9, 7</td><td><a class=\"ProveItLink\" href=\"../0a2fd8ba8dd28d2ca28c6acac4b3ba570c188e9a0/expr.ipynb\"><img src=\"data:image/png;base64,iVBORw0KGgoAAAANSUhEUgAAACkAAAAVBAMAAAAp9toTAAAAMFBMVEX////c3NwiIiJERESqqqqY\n",
       "mJh2dnZmZmYQEBDu7u4yMjJUVFTMzMyIiIi6uroAAAAs73DqAAAAAXRSTlMAQObYZgAAAQxJREFU\n",
       "GNNtkSFPw0AUx39jtF1XRqowmH0JBG4SBwoJVSNLRlJBZjATaNYEg1vNQnDF4CALBoGADwDJMonZ\n",
       "QEwRyru+dmHLLrl7//e7y//eu4PVY/NtCRyZ5QUG0VYjA0+dZjNwhqJuoZfO9NhxmqYJMdTE4OZ+\n",
       "qLQFHhxCJYKksAygDdfwyT+qd5cbdEQ+fDwW9EqmHTKQsEt/lNMzmesxl1nidRW6U+PS5TfL7B+l\n",
       "NamKjamh5Tq2brKWKL2Q4uo4X0r7oTrsgAPVmMjQiaFWzAmUQvZ899vQ/VArG0t4Pr/D7fmiXg9k\n",
       "qY6o+EVXhTAdW0GurXnXp/qSi9Q1NW/nyfxLPGNVWv6hd/gDXSs+epjXSykAAAAASUVORK5CYII=\n",
       "\" style=\"display:inline;vertical-align:middle;\" /></a></td></tr>\n",
       "<tr><td>5</td><td>Literal</td><td></td><td><a class=\"ProveItLink\" href=\"../b28e6317a1d330492d51cd67ccba81d4d210b8b30/expr.ipynb\"><img src=\"data:image/png;base64,iVBORw0KGgoAAAANSUhEUgAAAE8AAAAOBAMAAACcHlx8AAAAMFBMVEX///8iIiIQEBCYmJjc3Ny6\n",
       "urru7u5mZmZ2dnaqqqrMzMxEREQyMjJUVFSIiIgAAABUCcz6AAAAAXRSTlMAQObYZgAAAWhJREFU\n",
       "KM99kL9Lw3AQxV/bNE1s0rh1VNTBqWR2sAXdEwRns9XJtFsRwSxVx/oXNLgqNKugtLsgHQVtDWLt\n",
       "IEahVrT+vIsK1qEH+QS+PN67ewDuPlutExd/JtnA8EgTJv/eAPllSOj/EyLLGHsmbFoYNRuMVJ9Q\n",
       "80cKM2HQA8FojtIJA6bmsWMTQqmbg7gTuKslxG8Xg7N4cEiadnkGMfb6Ts062M0JBeyZyrizAkk9\n",
       "hV1GFVjKUaLKXrjnai5NoY+EK2aQnKsUsRzxYPskFHpIeIiGF9QZU1Cn56+hUoZIq1u2iapFx9JD\n",
       "xEctrPmVvlgPWuF3X/kJrCoCs/xgu7gKa/wgRD1obG8wlCZ7IY34o2hwvnUsco18+pEV7uFrOqAb\n",
       "pkNeYh9qY8Gu4EJ2e9JPjQcUm2ogn1MLkNyqoNNlVIniO4oupyUM1oB8/b11vs47bAfkWQpukAwQ\n",
       "n4TkQW67Qruz30F3C18Fz3drZAxLCAAAAABJRU5ErkJggg==\n",
       "\" style=\"display:inline;vertical-align:middle;\" /></a></td></tr>\n",
       "<tr><td>6</td><td>ExprTuple</td><td>8, 9</td><td><a class=\"ProveItLink\" href=\"../f8ed5e0c8931e00915b30de151b53821c4a7f5430/expr.ipynb\"><img src=\"data:image/png;base64,iVBORw0KGgoAAAANSUhEUgAAACkAAAAVBAMAAAAp9toTAAAAMFBMVEX////c3NwiIiJERESqqqqY\n",
       "mJh2dnZmZmYQEBDu7u4yMjJUVFTMzMyIiIi6uroAAAAs73DqAAAAAXRSTlMAQObYZgAAARBJREFU\n",
       "GNNtkS1PxEAQhp/S9rheD64OgeE3EPA4LIoEQyrIkRAIVZxA8BE0VOKoAAEYJAmmCoM5SQIkDRJz\n",
       "QECcuWN2t1vRsGLyvs/uzs7Mwv9rul8D6yo8wWN3wYDWmrPBZC7qGidhYC40x+MYMpjq0/ihM2fO\n",
       "7m9LXJXtFK+ioY7n8KFFmcFQd4k9LW7Na+HbSwGNhCsx7a07Q900GIGXcartc2GrvZcODhmZkoaW\n",
       "7ua0PxV1ctxfjeaFFoqewMXQ0mM4iFSGRehkTHyRCk3gBvyMTWlvhUEcfAudwTvSlb2LWe5dEpxF\n",
       "UmLvQWKroBnZiVqhOvbjUvvVgHf0JGs0kEkyW5rqS0KVyqn/0Cv8AR2aQHVPuisJAAAAAElFTkSu\n",
       "QmCC\n",
       "\" style=\"display:inline;vertical-align:middle;\" /></a></td></tr>\n",
       "<tr><td>7</td><td>Literal</td><td></td><td><a class=\"ProveItLink\" href=\"../../../__pv_it/44c347496acc279b31e97f8859fc6a0a1e31c26b0/expr.ipynb\"><img src=\"data:image/png;base64,iVBORw0KGgoAAAANSUhEUgAAAAoAAAAOBAMAAADkjZCYAAAAKlBMVEX///8yMjKqqqpERESIiIi6\n",
       "urru7u5UVFSYmJh2dnZmZmYiIiLMzMwAAACZcOxaAAAAAXRSTlMAQObYZgAAAEVJREFUCNdjOL1y\n",
       "5swJDL13794tYJjGwMDOwDCBgWEOAxCwOoDIZBDBsAhEsF0AkSwCIJK7AETmLgCRsWBSF0yebWBg\n",
       "AAAo0Q9n+lHhAQAAAABJRU5ErkJggg==\n",
       "\" style=\"display:inline;vertical-align:middle;\" /></a></td></tr>\n",
       "<tr><td>8</td><td>Literal</td><td></td><td><a class=\"ProveItLink\" href=\"../../../__pv_it/9176d93c83afa2c995b614976e3cb49207102fa70/expr.ipynb\"><img src=\"data:image/png;base64,iVBORw0KGgoAAAANSUhEUgAAAAoAAAAOBAMAAADkjZCYAAAAMFBMVEX///+YmJju7u4QEBBUVFQy\n",
       "MjIiIiKIiIi6urpmZmbc3NyqqqpERER2dnbMzMwAAAB0GlNiAAAAAXRSTlMAQObYZgAAAE1JREFU\n",
       "CNdjYHh79zQDA9cEhv4CBt7fDPwJDNxgEgiAIkAQAsR8Vx1ATIbiBhDJ/ImB6wEDz0cG/U8gkj+A\n",
       "ge0XA7sAQ/8FBoadM6MZAEflFACalZ/OAAAAAElFTkSuQmCC\n",
       "\" style=\"display:inline;vertical-align:middle;\" /></a></td></tr>\n",
       "<tr><td>9</td><td>Literal</td><td></td><td><a class=\"ProveItLink\" href=\"../../../__pv_it/aaeeaca7d86eb2b7cdc49e25c3108b81b52ec5400/expr.ipynb\"><img src=\"data:image/png;base64,iVBORw0KGgoAAAANSUhEUgAAAAkAAAAOBAMAAAAPuiubAAAAMFBMVEX///8iIiJERES6urqIiIjM\n",
       "zMxUVFRmZmYQEBCqqqp2dnbc3Nzu7u6YmJgyMjIAAADYGhJvAAAAAXRSTlMAQObYZgAAAE1JREFU\n",
       "CNdj4LvDvZKBgeP//wUMDHxlSxkYGNgYGBCki5sBAwPTAZ7PYG4GmFwfwKAIJA0YGhkY6jcwFDAw\n",
       "vGNg2M7A2c3AwFqetoEBAKS8EE1WXEJLAAAAAElFTkSuQmCC\n",
       "\" style=\"display:inline;vertical-align:middle;\" /></a></td></tr>\n",
       "</table>\n"
      ],
      "text/plain": [
       "0. (5 * 7 , 35)\n",
       "   core type: ExprTuple\n",
       "   sub-expressions: 1, 2\n",
       "1. 5 * 7\n",
       "   core type: Operation\n",
       "   operator: 3\n",
       "   operands: 4\n",
       "2. 35\n",
       "   core type: Operation\n",
       "   operator: 5\n",
       "   operands: 6\n",
       "3. *\n",
       "   core type: Literal\n",
       "   sub-expressions: \n",
       "4. (5 , 7)\n",
       "   core type: ExprTuple\n",
       "   sub-expressions: 9, 7\n",
       "5. Decimal\n",
       "   core type: Literal\n",
       "   sub-expressions: \n",
       "6. (3 , 5)\n",
       "   core type: ExprTuple\n",
       "   sub-expressions: 8, 9\n",
       "7. 7\n",
       "   core type: Literal\n",
       "   sub-expressions: \n",
       "8. 3\n",
       "   core type: Literal\n",
       "   sub-expressions: \n",
       "9. 5\n",
       "   core type: Literal\n",
       "   sub-expressions: "
      ]
     },
     "execution_count": 4,
     "metadata": {},
     "output_type": "execute_result"
    }
   ],
   "source": [
    "# display the expression information\n",
    "expr.exprInfo()"
   ]
  },
  {
   "cell_type": "code",
   "execution_count": null,
   "metadata": {},
   "outputs": [],
   "source": []
  }
 ],
 "metadata": {
  "kernelspec": {
   "display_name": "Python 3",
   "language": "python",
   "name": "python3"
  }
 },
 "nbformat": 4,
 "nbformat_minor": 0
}
