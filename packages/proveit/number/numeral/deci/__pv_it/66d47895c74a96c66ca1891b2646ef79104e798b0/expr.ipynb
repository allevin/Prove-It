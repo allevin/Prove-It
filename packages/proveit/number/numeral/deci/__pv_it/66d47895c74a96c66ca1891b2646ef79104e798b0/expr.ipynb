{
 "cells": [
  {
   "cell_type": "markdown",
   "metadata": {},
   "source": [
    "Expression of type <a class=\"ProveItLink\" href=\"../../../../../../../doc/html/api/proveit.ExprTuple.html\">ExprTuple</a>\n",
    "=======================\n",
    "# from context <a class=\"ProveItLink\" href=\"../../_context_.ipynb\">proveit.number.numeral.deci</a>"
   ]
  },
  {
   "cell_type": "code",
   "execution_count": 1,
   "metadata": {},
   "outputs": [],
   "source": [
    "# import Expression classes needed to build the expression\n",
    "from proveit import ExprTuple\n",
    "from proveit.number import DecimalSequence, Mult, eight, four, six"
   ]
  },
  {
   "cell_type": "code",
   "execution_count": 2,
   "metadata": {},
   "outputs": [
    {
     "data": {
      "text/html": [
       "<strong id=\"expr\">expr:</strong> <a class=\"ProveItLink\" href=\"expr.ipynb\"><img src=\"data:image/png;base64,iVBORw0KGgoAAAANSUhEUgAAAE0AAAAVBAMAAADx+n4ZAAAAMFBMVEX////c3NwiIiJERESqqqqY\n",
       "mJh2dnZmZmYQEBDu7u4yMjJUVFTMzMyIiIi6uroAAAAs73DqAAAAAXRSTlMAQObYZgAAAZ9JREFU\n",
       "KM+NkjtIw1AUhv8+kpq+6O6gDm4OIjibQRxEMA5aELSZ2kGLHbQdqlhBBxFKcCjd7CJYF6uLSIc6\n",
       "K0ImH+BQHXXRYhErGM/NNanFQs1w73/v+Tj3/CcH+O8X1Dsi82y5BHLRZftOisbkH5lLLtLqL8Fz\n",
       "TnsRSMCjWJwHWOHKMYAT2pyDQAEI6BAUSL0WNw3scuVUcUjbLXEzQJcGsfSLW7C5iGZmnSUuDzwB\n",
       "7k9NtM1MniHO1YG5il7iXDKSpEfq17YPlzGnctW4uiFHU4wTE9hntRt9zSas10LceE1BPySdce4C\n",
       "snQVvjBYLyRWkLB69MY5A1jSRDAumMEXhRKIfFBkj5kJQzA0no+syBMm539hHFl21CmSpxtsAz28\n",
       "mQ3i7lSL2zRdY836HRkql5sfIm60XK7s6OzdYcpHhR9bNjYAX0gyO8TqoyjlEwqIkZsi3KrFjWsY\n",
       "45W6VGkLnKO+PJJ8TjXnIHiakpF/ZTKdrhJSeVfgrZqP/v0eWo/kQFDbcUrrMc7nqhMn0Vyhuw0W\n",
       "aD36WG2OznN/D3wD31ZjfE7eoWQAAAAASUVORK5CYII=\n",
       "\" style=\"display:inline;vertical-align:middle;\" /></a><br>"
      ],
      "text/plain": [
       "expr: (8 * 8 , 64)"
      ]
     },
     "execution_count": 2,
     "metadata": {},
     "output_type": "execute_result"
    }
   ],
   "source": [
    "# build up the expression from sub-expressions\n",
    "expr = ExprTuple(Mult(eight, eight), DecimalSequence(six, four))"
   ]
  },
  {
   "cell_type": "code",
   "execution_count": 3,
   "metadata": {},
   "outputs": [
    {
     "name": "stdout",
     "output_type": "stream",
     "text": [
      "Passed sanity check: built 'expr' is the same as the stored Expression.\n"
     ]
    }
   ],
   "source": [
    "# check that the built expression is the same as the stored expression\n",
    "%check_expr"
   ]
  },
  {
   "cell_type": "code",
   "execution_count": 4,
   "metadata": {},
   "outputs": [
    {
     "data": {
      "text/html": [
       "<table><tr><th>&nbsp;</th><th>core type</th><th>sub-expressions</th><th>expression</th></tr>\n",
       "<tr><td>0</td><td>ExprTuple</td><td>1, 2</td><td><a class=\"ProveItLink\" href=\"expr.ipynb\"><img src=\"data:image/png;base64,iVBORw0KGgoAAAANSUhEUgAAAE0AAAAVBAMAAADx+n4ZAAAAMFBMVEX////c3NwiIiJERESqqqqY\n",
       "mJh2dnZmZmYQEBDu7u4yMjJUVFTMzMyIiIi6uroAAAAs73DqAAAAAXRSTlMAQObYZgAAAZ9JREFU\n",
       "KM+NkjtIw1AUhv8+kpq+6O6gDm4OIjibQRxEMA5aELSZ2kGLHbQdqlhBBxFKcCjd7CJYF6uLSIc6\n",
       "K0ImH+BQHXXRYhErGM/NNanFQs1w73/v+Tj3/CcH+O8X1Dsi82y5BHLRZftOisbkH5lLLtLqL8Fz\n",
       "TnsRSMCjWJwHWOHKMYAT2pyDQAEI6BAUSL0WNw3scuVUcUjbLXEzQJcGsfSLW7C5iGZmnSUuDzwB\n",
       "7k9NtM1MniHO1YG5il7iXDKSpEfq17YPlzGnctW4uiFHU4wTE9hntRt9zSas10LceE1BPySdce4C\n",
       "snQVvjBYLyRWkLB69MY5A1jSRDAumMEXhRKIfFBkj5kJQzA0no+syBMm539hHFl21CmSpxtsAz28\n",
       "mQ3i7lSL2zRdY836HRkql5sfIm60XK7s6OzdYcpHhR9bNjYAX0gyO8TqoyjlEwqIkZsi3KrFjWsY\n",
       "45W6VGkLnKO+PJJ8TjXnIHiakpF/ZTKdrhJSeVfgrZqP/v0eWo/kQFDbcUrrMc7nqhMn0Vyhuw0W\n",
       "aD36WG2OznN/D3wD31ZjfE7eoWQAAAAASUVORK5CYII=\n",
       "\" style=\"display:inline;vertical-align:middle;\" /></a></td></tr>\n",
       "<tr><td>1</td><td>Operation</td><td>operator:&nbsp;3<br>operands:&nbsp;4<br></td><td><a class=\"ProveItLink\" href=\"../ca49ad6300b5552b6e361b532183835f2fce9e840/expr.ipynb\"><img src=\"data:image/png;base64,iVBORw0KGgoAAAANSUhEUgAAACMAAAAOBAMAAABXxbiCAAAAMFBMVEX///+6uroQEBAyMjLMzMzc\n",
       "3NxERESIiIhUVFQiIiKYmJiqqqpmZmZ2dnbu7u4AAAACo3QQAAAAAXRSTlMAQObYZgAAALdJREFU\n",
       "GNNjYHh79zQDDPDdvbMBSB1g4FkAE+JhYDjFwMC1gIFvAkxoFQPDSwYG3gYkoRtgIe4fD3gLYEL7\n",
       "+xiuA6n8X7Vw49n+L78AMvL/VLgQw/mfAUByjfN/kMV8D4AE1xH730DyAMP6f0Dee5Adaxi4/j9g\n",
       "YHrAwPoLyHuUACT0GBjiFzA8ArKOwxyvADS6gIEJaF4rzHRVBgaOAAZuOwbuCzChzQ8Y9gIpiTMI\n",
       "bzP2nNnAAAAJNzT2SWATEwAAAABJRU5ErkJggg==\n",
       "\" style=\"display:inline;vertical-align:middle;\" /></a></td></tr>\n",
       "<tr><td>2</td><td>Operation</td><td>operator:&nbsp;5<br>operands:&nbsp;6<br></td><td><a class=\"ProveItLink\" href=\"../5647def8f3283862dcce13cd392ed63665aa0f3e0/expr.ipynb\"><img src=\"data:image/png;base64,iVBORw0KGgoAAAANSUhEUgAAABQAAAAPBAMAAAAWtvJmAAAAMFBMVEX///+6urpERESqqqqIiIgQ\n",
       "EBCYmJgyMjJUVFQiIiLc3NzMzMxmZmZ2dnbu7u4AAABf+mkYAAAAAXRSTlMAQObYZgAAAIRJREFU\n",
       "CNdjYOC7c3cDAwPDDiBeuYFjApCaBMRzGdgLGBhYghgY2P4xgMCyIgYG9gAw8wKQyV/tchgotwDI\n",
       "fD+NgTOB4QkDiPmBgfcfwwUwcwID22fmDSAmfwED25e3DCAmE0jUoqPjawsDM1gtAwPQCgZdhqcJ\n",
       "UCZPTyOQvPH/GAMCAADp5Sd21lYpHQAAAABJRU5ErkJggg==\n",
       "\" style=\"display:inline;vertical-align:middle;\" /></a></td></tr>\n",
       "<tr><td>3</td><td>Literal</td><td></td><td><a class=\"ProveItLink\" href=\"../../../../multiplication/__pv_it/21fd2079611555ecce512d99547a00d551e6b86b0/expr.ipynb\"><img src=\"data:image/png;base64,iVBORw0KGgoAAAANSUhEUgAAAAMAAAADBAMAAACkBqiMAAAAElBMVEX///9EREQQEBAiIiLu7u4A\n",
       "AABGBidwAAAAAXRSTlMAQObYZgAAABFJREFUCNdjYHFgcDVgcBIAAASWAQx4jI0xAAAAAElFTkSu\n",
       "QmCC\n",
       "\" style=\"display:inline;vertical-align:middle;\" /></a></td></tr>\n",
       "<tr><td>4</td><td>ExprTuple</td><td>7, 7</td><td><a class=\"ProveItLink\" href=\"../9772c59c7b4cd8064de5d152c26cf53fca68447b0/expr.ipynb\"><img src=\"data:image/png;base64,iVBORw0KGgoAAAANSUhEUgAAACkAAAAVBAMAAAAp9toTAAAAMFBMVEX////c3NwiIiJERESqqqqY\n",
       "mJh2dnZmZmYQEBDu7u4yMjJUVFTMzMyIiIi6uroAAAAs73DqAAAAAXRSTlMAQObYZgAAAR1JREFU\n",
       "GNNtkaFPw0AUxn/Ldi3HYJlHAH8EmioEhhqYAqo2QZZUDGYgjASDgQZBkDWIKUAR3DSYqqkJggRD\n",
       "FiYICeXdtVvCwonL9365d9937+D/VUmmwI7ZnuGq3sqArjc83J6oLoS4vqUu7EMM8wnKRy9ZugmX\n",
       "sAUzEc7dmO5Zeg1vUPqOnMxy45EmFD0OpFgd9TO3YrodgBNyY0zS5TzV8bAqvTHnomtPqWehOrz9\n",
       "lBd0+BEdsvtlaQ2VRsx9GCoxCiNLz2DRN/TUJuHIPq0jHom5YUXOisM9keATKFdRMQ3x7FIK9FDo\n",
       "esSaTfYqxXu7hb6QjspDW8LMvtj2bKJjYXxUkGs1GXAzm+RfqmWSLOTF5EvK5qrC9A8N4Bf6kkDY\n",
       "dVs9BQAAAABJRU5ErkJggg==\n",
       "\" style=\"display:inline;vertical-align:middle;\" /></a></td></tr>\n",
       "<tr><td>5</td><td>Literal</td><td></td><td><a class=\"ProveItLink\" href=\"../b28e6317a1d330492d51cd67ccba81d4d210b8b30/expr.ipynb\"><img src=\"data:image/png;base64,iVBORw0KGgoAAAANSUhEUgAAAE8AAAAOBAMAAACcHlx8AAAAMFBMVEX///8iIiIQEBCYmJjc3Ny6\n",
       "urru7u5mZmZ2dnaqqqrMzMxEREQyMjJUVFSIiIgAAABUCcz6AAAAAXRSTlMAQObYZgAAAWhJREFU\n",
       "KM99kL9Lw3AQxV/bNE1s0rh1VNTBqWR2sAXdEwRns9XJtFsRwSxVx/oXNLgqNKugtLsgHQVtDWLt\n",
       "IEahVrT+vIsK1qEH+QS+PN67ewDuPlutExd/JtnA8EgTJv/eAPllSOj/EyLLGHsmbFoYNRuMVJ9Q\n",
       "80cKM2HQA8FojtIJA6bmsWMTQqmbg7gTuKslxG8Xg7N4cEiadnkGMfb6Ts062M0JBeyZyrizAkk9\n",
       "hV1GFVjKUaLKXrjnai5NoY+EK2aQnKsUsRzxYPskFHpIeIiGF9QZU1Cn56+hUoZIq1u2iapFx9JD\n",
       "xEctrPmVvlgPWuF3X/kJrCoCs/xgu7gKa/wgRD1obG8wlCZ7IY34o2hwvnUsco18+pEV7uFrOqAb\n",
       "pkNeYh9qY8Gu4EJ2e9JPjQcUm2ogn1MLkNyqoNNlVIniO4oupyUM1oB8/b11vs47bAfkWQpukAwQ\n",
       "n4TkQW67Qruz30F3C18Fz3drZAxLCAAAAABJRU5ErkJggg==\n",
       "\" style=\"display:inline;vertical-align:middle;\" /></a></td></tr>\n",
       "<tr><td>6</td><td>ExprTuple</td><td>8, 9</td><td><a class=\"ProveItLink\" href=\"../7e84d1d92bf31b7172bcc23886796819563ef3340/expr.ipynb\"><img src=\"data:image/png;base64,iVBORw0KGgoAAAANSUhEUgAAACkAAAAVBAMAAAAp9toTAAAAMFBMVEX////c3NwiIiJERESqqqqY\n",
       "mJh2dnZmZmYQEBDu7u4yMjJUVFTMzMyIiIi6uroAAAAs73DqAAAAAXRSTlMAQObYZgAAAQdJREFU\n",
       "GNNt0aFPAzEUx/Hvxnq7u41twWJmQGNA8wcgDoNALFNMLZkg6AkcCUzOUYMgQeAQS9g85iQCEoJE\n",
       "LYSEICC81/WasFDRvH7S/Nq+wv+jkS9BR6cHSHpHM0/1W6paX8ParNb2Wt4CC6sSsElqvT6KHkA8\n",
       "wnyFzNKh6BjeIB0GjVLRlV1OoHnzfOx1XzUacAWXG5Qzh0muWrGci86JFtERqo0hP6JtzIfTPaf1\n",
       "uWrTYr5dQLfQUzmz2FuZTKZnuSZsy8LljlxGLHuNpSflDuMseQ8qN3uVsnp3T3LR0ktMPzPSF+JW\n",
       "0dGi0Bebrq9NeHZ/0cm/mmj/1v0ifElNo0rLP/QEv6vHOun5HdSJAAAAAElFTkSuQmCC\n",
       "\" style=\"display:inline;vertical-align:middle;\" /></a></td></tr>\n",
       "<tr><td>7</td><td>Literal</td><td></td><td><a class=\"ProveItLink\" href=\"../../../__pv_it/7ca36d8558dd5f18c1e16b5e877a0b7e314926450/expr.ipynb\"><img src=\"data:image/png;base64,iVBORw0KGgoAAAANSUhEUgAAAAoAAAAOBAMAAADkjZCYAAAAMFBMVEX///+6uroQEBAyMjLMzMzc\n",
       "3NxERESIiIhUVFQiIiKYmJiqqqpmZmZ2dnbu7u4AAAACo3QQAAAAAXRSTlMAQObYZgAAAFlJREFU\n",
       "CNdjYHh79zQDA8MBBp4FDFwLGPgmMPA2gEjuHw94CxgY8n/VAmV5/k8Fkmuc/29g4DrAsP4fA9MD\n",
       "BtZfDI+AgscZmAIYGFoZuO0YuC8wMEicOc0AAC98GKTiu3IvAAAAAElFTkSuQmCC\n",
       "\" style=\"display:inline;vertical-align:middle;\" /></a></td></tr>\n",
       "<tr><td>8</td><td>Literal</td><td></td><td><a class=\"ProveItLink\" href=\"../../../__pv_it/09b499e53e24cf89c2513ba78b501f0314edaa680/expr.ipynb\"><img src=\"data:image/png;base64,iVBORw0KGgoAAAANSUhEUgAAAAoAAAAOBAMAAADkjZCYAAAAMFBMVEX///+6urpERESqqqqIiIgQ\n",
       "EBCYmJgyMjJUVFQiIiLc3NzMzMxmZmZ2dnbu7u4AAABf+mkYAAAAAXRSTlMAQObYZgAAAFNJREFU\n",
       "CNdjYOC7c3cDA8PKDRwTGBjmMrAXMLD9YwAC9gAQyV/tcpiB4f00Bs4EhvcfGHj/MbyfwMD2mYEf\n",
       "qOwLAxOYzQwWZ9BleJrAwMDT08gAANMyF0ZGTeKAAAAAAElFTkSuQmCC\n",
       "\" style=\"display:inline;vertical-align:middle;\" /></a></td></tr>\n",
       "<tr><td>9</td><td>Literal</td><td></td><td><a class=\"ProveItLink\" href=\"../../../__pv_it/23412ce59ea7e77353d2f9225e02248e73651ca00/expr.ipynb\"><img src=\"data:image/png;base64,iVBORw0KGgoAAAANSUhEUgAAAAoAAAAPBAMAAAAv0UM9AAAALVBMVEX///9mZmaqqqru7u52dnYy\n",
       "MjKYmJjc3NwQEBCIiIhEREQiIiJUVFTMzMwAAACUDTcXAAAAAXRSTlMAQObYZgAAAD5JREFUCNdj\n",
       "YGBguMMAArtABGcXiCyLApEOIJKtAERaMoBIBxDJdAFEmjCASJ0zZ16cBCkF64KQPu/EwBwGACv6\n",
       "DSRgin9qAAAAAElFTkSuQmCC\n",
       "\" style=\"display:inline;vertical-align:middle;\" /></a></td></tr>\n",
       "</table>\n"
      ],
      "text/plain": [
       "0. (8 * 8 , 64)\n",
       "   core type: ExprTuple\n",
       "   sub-expressions: 1, 2\n",
       "1. 8 * 8\n",
       "   core type: Operation\n",
       "   operator: 3\n",
       "   operands: 4\n",
       "2. 64\n",
       "   core type: Operation\n",
       "   operator: 5\n",
       "   operands: 6\n",
       "3. *\n",
       "   core type: Literal\n",
       "   sub-expressions: \n",
       "4. (8 , 8)\n",
       "   core type: ExprTuple\n",
       "   sub-expressions: 7, 7\n",
       "5. Decimal\n",
       "   core type: Literal\n",
       "   sub-expressions: \n",
       "6. (6 , 4)\n",
       "   core type: ExprTuple\n",
       "   sub-expressions: 8, 9\n",
       "7. 8\n",
       "   core type: Literal\n",
       "   sub-expressions: \n",
       "8. 6\n",
       "   core type: Literal\n",
       "   sub-expressions: \n",
       "9. 4\n",
       "   core type: Literal\n",
       "   sub-expressions: "
      ]
     },
     "execution_count": 4,
     "metadata": {},
     "output_type": "execute_result"
    }
   ],
   "source": [
    "# display the expression information\n",
    "expr.exprInfo()"
   ]
  },
  {
   "cell_type": "code",
   "execution_count": null,
   "metadata": {},
   "outputs": [],
   "source": []
  }
 ],
 "metadata": {
  "kernelspec": {
   "display_name": "Python 3",
   "language": "python",
   "name": "python3"
  }
 },
 "nbformat": 4,
 "nbformat_minor": 0
}
