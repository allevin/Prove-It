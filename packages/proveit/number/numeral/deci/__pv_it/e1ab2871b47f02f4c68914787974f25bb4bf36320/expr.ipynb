{
 "cells": [
  {
   "cell_type": "markdown",
   "metadata": {},
   "source": [
    "Theorem <a class=\"ProveItLink\" href=\"../../_theorems_.ipynb#add_8_8\">add_8_8</a> of type <a class=\"ProveItLink\" href=\"../../../../../../../doc/html/api/proveit.logic.Equals.html\">Equals</a>\n",
    "=======================\n",
    "# from context <a class=\"ProveItLink\" href=\"../../_context_.ipynb\">proveit.number.numeral.deci</a>\n",
    "*** see <a class=\"ProveItLink\" href=\"dependencies.ipynb\">dependencies</a> ***"
   ]
  },
  {
   "cell_type": "code",
   "execution_count": 1,
   "metadata": {},
   "outputs": [],
   "source": [
    "# import the special expression\n",
    "from proveit.number.numeral.deci._theorems_ import add_8_8"
   ]
  },
  {
   "cell_type": "code",
   "execution_count": 2,
   "metadata": {},
   "outputs": [
    {
     "name": "stdout",
     "output_type": "stream",
     "text": [
      "Passed sanity check: built 'add_8_8' is the same as the stored Expression.\n"
     ]
    }
   ],
   "source": [
    "# check that the built expression is the same as the stored expression\n",
    "%check_expr add_8_8"
   ]
  },
  {
   "cell_type": "code",
   "execution_count": 3,
   "metadata": {},
   "outputs": [
    {
     "data": {
      "text/html": [
       "<table><tr><th>&nbsp;</th><th>core type</th><th>sub-expressions</th><th>expression</th></tr>\n",
       "<tr><td>0</td><td>Operation</td><td>operator:&nbsp;1<br>operands:&nbsp;2<br></td><td><a class=\"ProveItLink\" href=\"expr.ipynb\"><img src=\"data:image/png;base64,iVBORw0KGgoAAAANSUhEUgAAAGwAAAAVBAMAAABRZRb3AAAAMFBMVEX////c3NwiIiJERESqqqqY\n",
       "mJh2dnZmZmYQEBDu7u4yMjJUVFTMzMyIiIi6uroAAAAs73DqAAAAAXRSTlMAQObYZgAAAXZJREFU\n",
       "OMudkz9Iw0AUh3+1+WMqteLqUgXF0UFd6ywUsgkudmrXDsWCKHRw1rhIcWkXkUYp7eQgaGcdzOQm\n",
       "ipMogoMdgmh9vUurl1wyeBBy77t89y7v7oB/tnEnZEB9jNJugMN8yQcZ2Q5+HLcAo5DvAA2gCN0U\n",
       "hxlJBCwjQ9pkZyyNpAPVhJHm/MBbHyNqzm9dXJE2h0Qdoxa01lDL8hcnRiWQ7sGC6vY7L4DyaWmO\n",
       "oHlkUaYl2GSb9GS6dxA0jxRkWursnsp1TIHem/ZpnKyyrs1aa6DVZjFiYo+Cteveiqhx8izLVnuH\n",
       "5uKb6lbEhitoHrmValTij75GxYx1iW3Z9rxtn2JIpFqqDvULu0CV4h0hm0fYIvUZ1hYGWpxlW6K5\n",
       "J4C2oHlkXZZNYf9GRVYaUHLivnEi3QAso2riiYLXcsm3AZw0/VZ5/8SEfn7J1/PbssIRrITfG/G8\n",
       "vv0NNCfivjVCR46irulU6Eg7SouFLSXZCZd+APHqdUce23JdAAAAAElFTkSuQmCC\n",
       "\" style=\"display:inline;vertical-align:middle;\" /></a></td></tr>\n",
       "<tr><td>1</td><td>Literal</td><td></td><td><a class=\"ProveItLink\" href=\"../../../../../logic/equality/__pv_it/2fb26078095930560931daa0500ce419a39ea6cd0/expr.ipynb\"><img src=\"data:image/png;base64,iVBORw0KGgoAAAANSUhEUgAAAA4AAAAFBAMAAACHocAhAAAAFVBMVEX///9EREQiIiJUVFQyMjJm\n",
       "ZmYAAADubVkoAAAAAXRSTlMAQObYZgAAABRJREFUCNdjCHEBAWcGXCBICQQUAUpuAwlgGKrkAAAA\n",
       "AElFTkSuQmCC\n",
       "\" style=\"display:inline;vertical-align:middle;\" /></a></td></tr>\n",
       "<tr><td>2</td><td>ExprTuple</td><td>3, 4</td><td><a class=\"ProveItLink\" href=\"../7370f150b913b5629bd4e82639763c03d6247b270/expr.ipynb\"><img src=\"data:image/png;base64,iVBORw0KGgoAAAANSUhEUgAAAFcAAAAVBAMAAADBdm84AAAAMFBMVEX////c3NwiIiJERESqqqqY\n",
       "mJh2dnZmZmYQEBDu7u4yMjJUVFTMzMyIiIi6uroAAAAs73DqAAAAAXRSTlMAQObYZgAAAZxJREFU\n",
       "KM+Vkz9IAlEcx7+m53WZ4t6QDUFDU9DQ1E0NgXhLOZU36VCRg2lkkUENLXEViNCQS5DX0J8loqW5\n",
       "CG6qpcEai6AkBw26fneX+t4g2IN37/d+78OP7/fH74B/rYDRGTdrfe6AfDzFP0jxhNyIx2jn0/MQ\n",
       "bygoAUmICgeLwNJfuF8DXMO4AIqA34CgQAo5T7vOMQXsOdHBNcFdKnRgGujW4D1rwmHnmGvC8BMc\n",
       "06yoALwCnm/Na3Bw5AoLDHxsR24ZaTrGqw/gYLc5ozJw/f6R/HqTOLL8mAM8jPVKsAVLFQWDJKCI\n",
       "HUpEb02Zg4XV0y8GNoFFDYEcfugpiViNg6MQTI2pTB5l9H5YMDXEVaX8iq4P6foJRdtAv8JoJtiw\n",
       "4E27J1hjK0s58mG04BG7MskYpcpk5pyTsQH4glITjtiahSISZLMEj8rBkxomcBhqwG5V2rJb90KJ\n",
       "t0yKb13gMiOj8Gl1dblOU5LNloGesq2htcLs5ZkfRbImqGzinb3wk2gPQKntuPOwRCOKvnasn7/6\n",
       "LL2uDn+rJ+AXPpFuhIhcY7wAAAAASUVORK5CYII=\n",
       "\" style=\"display:inline;vertical-align:middle;\" /></a></td></tr>\n",
       "<tr><td>3</td><td>Operation</td><td>operator:&nbsp;5<br>operands:&nbsp;6<br></td><td><a class=\"ProveItLink\" href=\"../c7c6d38fbf3d0ac5d6657e4e355827875ecfd1c10/expr.ipynb\"><img src=\"data:image/png;base64,iVBORw0KGgoAAAANSUhEUgAAAC0AAAAQBAMAAABw0OvaAAAAMFBMVEX///+6uroQEBAyMjLMzMzc\n",
       "3NxERESIiIhUVFQiIiKYmJiqqqpmZmZ2dnbu7u4AAAACo3QQAAAAAXRSTlMAQObYZgAAAMhJREFU\n",
       "GNNjYHh79zQDCuC7e2cDkDrAwLMARZyHgeEUAwPXAga+CRCBpxBqFQPDSwYG3ga4+HYIdQMszv3j\n",
       "AW8Bivj+PobrQCr/Vy0Dijjb/+UXQNb8n4oqznD+ZwCQXOP8fwOKONcR+99A8gDD+n8o4msYuP4/\n",
       "YGB6wMD6C8g7bGw8ydjYAsjSY2CIX8DwCMg6jqyeTwFoZwEDE9COVhRzVBkYOAIYuO0YuC+giG9+\n",
       "wLAXSEmcOY3qTsaeMxtQAmw7A3YgjsQGAJBiPHn4wVoAAAAAAElFTkSuQmCC\n",
       "\" style=\"display:inline;vertical-align:middle;\" /></a></td></tr>\n",
       "<tr><td>4</td><td>Operation</td><td>operator:&nbsp;7<br>operands:&nbsp;8<br></td><td><a class=\"ProveItLink\" href=\"../8192be0268ee13a12451af2a7c22e9adae484f100/expr.ipynb\"><img src=\"data:image/png;base64,iVBORw0KGgoAAAANSUhEUgAAABMAAAAPBAMAAAD0aukfAAAAMFBMVEX///+6urqqqqoiIiLc3NzM\n",
       "zMx2dnaYmJgyMjIQEBBmZmaIiIhUVFTu7u5EREQAAAB1ZeHdAAAAAXRSTlMAQObYZgAAAGtJREFU\n",
       "CNdjYGB4y8DAcG1ZKpC895eBgcWU4TADw50zQCZzAkMHUJQbyKy/wMAAZXYywJk/oncpQJi8nwsY\n",
       "zKHM/wwM+RegokCdClC1QOYGCPMxQlQfrpaBL4F3OgMD18ofyxkY1qwRYEACAGCYJv/tn4b0AAAA\n",
       "AElFTkSuQmCC\n",
       "\" style=\"display:inline;vertical-align:middle;\" /></a></td></tr>\n",
       "<tr><td>5</td><td>Literal</td><td></td><td><a class=\"ProveItLink\" href=\"../../../../addition/__pv_it/3e6688136fa3c7aefbebe51301b7c3ebf0b69c440/expr.ipynb\"><img src=\"data:image/png;base64,iVBORw0KGgoAAAANSUhEUgAAAA4AAAAOBAMAAADtZjDiAAAAJFBMVEX///+6urpUVFQQEBAiIiIy\n",
       "MjJmZmaIiIiqqqrc3Nzu7u4AAACgHpL+AAAAAXRSTlMAQObYZgAAAB5JREFUCNdjYGBgWMkAAe2k\n",
       "0Kmhoc6hoUGk6BMHYgAHOwjcado9fwAAAABJRU5ErkJggg==\n",
       "\" style=\"display:inline;vertical-align:middle;\" /></a></td></tr>\n",
       "<tr><td>6</td><td>ExprTuple</td><td>9, 9</td><td><a class=\"ProveItLink\" href=\"../9772c59c7b4cd8064de5d152c26cf53fca68447b0/expr.ipynb\"><img src=\"data:image/png;base64,iVBORw0KGgoAAAANSUhEUgAAACkAAAAVBAMAAAAp9toTAAAAMFBMVEX////c3NwiIiJERESqqqqY\n",
       "mJh2dnZmZmYQEBDu7u4yMjJUVFTMzMyIiIi6uroAAAAs73DqAAAAAXRSTlMAQObYZgAAAR1JREFU\n",
       "GNNtkaFPw0AUxn/Ldi3HYJlHAH8EmioEhhqYAqo2QZZUDGYgjASDgQZBkDWIKUAR3DSYqqkJggRD\n",
       "FiYICeXdtVvCwonL9365d9937+D/VUmmwI7ZnuGq3sqArjc83J6oLoS4vqUu7EMM8wnKRy9ZugmX\n",
       "sAUzEc7dmO5Zeg1vUPqOnMxy45EmFD0OpFgd9TO3YrodgBNyY0zS5TzV8bAqvTHnomtPqWehOrz9\n",
       "lBd0+BEdsvtlaQ2VRsx9GCoxCiNLz2DRN/TUJuHIPq0jHom5YUXOisM9keATKFdRMQ3x7FIK9FDo\n",
       "esSaTfYqxXu7hb6QjspDW8LMvtj2bKJjYXxUkGs1GXAzm+RfqmWSLOTF5EvK5qrC9A8N4Bf6kkDY\n",
       "dVs9BQAAAABJRU5ErkJggg==\n",
       "\" style=\"display:inline;vertical-align:middle;\" /></a></td></tr>\n",
       "<tr><td>7</td><td>Literal</td><td></td><td><a class=\"ProveItLink\" href=\"../b28e6317a1d330492d51cd67ccba81d4d210b8b30/expr.ipynb\"><img src=\"data:image/png;base64,iVBORw0KGgoAAAANSUhEUgAAAE8AAAAOBAMAAACcHlx8AAAAMFBMVEX///8iIiIQEBCYmJjc3Ny6\n",
       "urru7u5mZmZ2dnaqqqrMzMxEREQyMjJUVFSIiIgAAABUCcz6AAAAAXRSTlMAQObYZgAAAWhJREFU\n",
       "KM99kL9Lw3AQxV/bNE1s0rh1VNTBqWR2sAXdEwRns9XJtFsRwSxVx/oXNLgqNKugtLsgHQVtDWLt\n",
       "IEahVrT+vIsK1qEH+QS+PN67ewDuPlutExd/JtnA8EgTJv/eAPllSOj/EyLLGHsmbFoYNRuMVJ9Q\n",
       "80cKM2HQA8FojtIJA6bmsWMTQqmbg7gTuKslxG8Xg7N4cEiadnkGMfb6Ts062M0JBeyZyrizAkk9\n",
       "hV1GFVjKUaLKXrjnai5NoY+EK2aQnKsUsRzxYPskFHpIeIiGF9QZU1Cn56+hUoZIq1u2iapFx9JD\n",
       "xEctrPmVvlgPWuF3X/kJrCoCs/xgu7gKa/wgRD1obG8wlCZ7IY34o2hwvnUsco18+pEV7uFrOqAb\n",
       "pkNeYh9qY8Gu4EJ2e9JPjQcUm2ogn1MLkNyqoNNlVIniO4oupyUM1oB8/b11vs47bAfkWQpukAwQ\n",
       "n4TkQW67Qruz30F3C18Fz3drZAxLCAAAAABJRU5ErkJggg==\n",
       "\" style=\"display:inline;vertical-align:middle;\" /></a></td></tr>\n",
       "<tr><td>8</td><td>ExprTuple</td><td>10, 11</td><td><a class=\"ProveItLink\" href=\"../0973db0ecd448d255531cd97851873c35247a6850/expr.ipynb\"><img src=\"data:image/png;base64,iVBORw0KGgoAAAANSUhEUgAAACkAAAAVBAMAAAAp9toTAAAAMFBMVEX////c3NwiIiJERESqqqqY\n",
       "mJh2dnZmZmYQEBDu7u4yMjJUVFTMzMyIiIi6uroAAAAs73DqAAAAAXRSTlMAQObYZgAAAOxJREFU\n",
       "GNNjYMAO+C6gCcSBiNNAzDwBKjKtLIeB/QCQsZKBgdMeKsqow7CJgWEBAwPvBQbO3fuhokwJDKsY\n",
       "GMIYGDhAAvehovFgegYDwysGJNEVYJLZgaEMWfTX2esODAxsBQxLkUQ5PwUwqDIwsCxg6EMW/c/A\n",
       "kD+Bga+B4R+KWqCFDgw8H1BEGX4BRS+ARFuQRY3AaoEmmMJEQRL+YHNZFzCkQ0VBZjIwJ3C2gl32\n",
       "CMgp718ewNkvAGRVVz9gYOB6wMAhAAtRGAPkY9YEKJsVHsC5kJBEFeUEhiSDNJQDjxJukFGM6DF0\n",
       "h4EBAOVQQy0L0PX6AAAAAElFTkSuQmCC\n",
       "\" style=\"display:inline;vertical-align:middle;\" /></a></td></tr>\n",
       "<tr><td>9</td><td>Literal</td><td></td><td><a class=\"ProveItLink\" href=\"../../../__pv_it/7ca36d8558dd5f18c1e16b5e877a0b7e314926450/expr.ipynb\"><img src=\"data:image/png;base64,iVBORw0KGgoAAAANSUhEUgAAAAoAAAAOBAMAAADkjZCYAAAAMFBMVEX///+6uroQEBAyMjLMzMzc\n",
       "3NxERESIiIhUVFQiIiKYmJiqqqpmZmZ2dnbu7u4AAAACo3QQAAAAAXRSTlMAQObYZgAAAFlJREFU\n",
       "CNdjYHh79zQDA8MBBp4FDFwLGPgmMPA2gEjuHw94CxgY8n/VAmV5/k8Fkmuc/29g4DrAsP4fA9MD\n",
       "BtZfDI+AgscZmAIYGFoZuO0YuC8wMEicOc0AAC98GKTiu3IvAAAAAElFTkSuQmCC\n",
       "\" style=\"display:inline;vertical-align:middle;\" /></a></td></tr>\n",
       "<tr><td>10</td><td>Literal</td><td></td><td><a class=\"ProveItLink\" href=\"../../../__pv_it/9be8badea4c35b9724062cecc501d17a3158d1d20/expr.ipynb\"><img src=\"data:image/png;base64,iVBORw0KGgoAAAANSUhEUgAAAAgAAAAPBAMAAAArJJMAAAAAHlBMVEX///+YmJgyMjIQEBBmZmaI\n",
       "iIhUVFTu7u5EREQAAAAw+MI4AAAAAXRSTlMAQObYZgAAACFJREFUCNdjYGBoZ2BgqJjOwFCWBiQY\n",
       "WEklWJwnOTKAAACjEQo8HvEr3AAAAABJRU5ErkJggg==\n",
       "\" style=\"display:inline;vertical-align:middle;\" /></a></td></tr>\n",
       "<tr><td>11</td><td>Literal</td><td></td><td><a class=\"ProveItLink\" href=\"../../../__pv_it/09b499e53e24cf89c2513ba78b501f0314edaa680/expr.ipynb\"><img src=\"data:image/png;base64,iVBORw0KGgoAAAANSUhEUgAAAAoAAAAOBAMAAADkjZCYAAAAMFBMVEX///+6urpERESqqqqIiIgQ\n",
       "EBCYmJgyMjJUVFQiIiLc3NzMzMxmZmZ2dnbu7u4AAABf+mkYAAAAAXRSTlMAQObYZgAAAFNJREFU\n",
       "CNdjYOC7c3cDA8PKDRwTGBjmMrAXMLD9YwAC9gAQyV/tcpiB4f00Bs4EhvcfGHj/MbyfwMD2mYEf\n",
       "qOwLAxOYzQwWZ9BleJrAwMDT08gAANMyF0ZGTeKAAAAAAElFTkSuQmCC\n",
       "\" style=\"display:inline;vertical-align:middle;\" /></a></td></tr>\n",
       "</table>\n"
      ],
      "text/plain": [
       "0. (8 + 8) = 16\n",
       "   core type: Operation\n",
       "   operator: 1\n",
       "   operands: 2\n",
       "1. =\n",
       "   core type: Literal\n",
       "   sub-expressions: \n",
       "2. (8 + 8 , 16)\n",
       "   core type: ExprTuple\n",
       "   sub-expressions: 3, 4\n",
       "3. 8 + 8\n",
       "   core type: Operation\n",
       "   operator: 5\n",
       "   operands: 6\n",
       "4. 16\n",
       "   core type: Operation\n",
       "   operator: 7\n",
       "   operands: 8\n",
       "5. +\n",
       "   core type: Literal\n",
       "   sub-expressions: \n",
       "6. (8 , 8)\n",
       "   core type: ExprTuple\n",
       "   sub-expressions: 9, 9\n",
       "7. Decimal\n",
       "   core type: Literal\n",
       "   sub-expressions: \n",
       "8. (1 , 6)\n",
       "   core type: ExprTuple\n",
       "   sub-expressions: 10, 11\n",
       "9. 8\n",
       "   core type: Literal\n",
       "   sub-expressions: \n",
       "10. 1\n",
       "    core type: Literal\n",
       "    sub-expressions: \n",
       "11. 6\n",
       "    core type: Literal\n",
       "    sub-expressions: "
      ]
     },
     "execution_count": 3,
     "metadata": {},
     "output_type": "execute_result"
    }
   ],
   "source": [
    "# display the expression information\n",
    "add_8_8.exprInfo()"
   ]
  },
  {
   "cell_type": "code",
   "execution_count": null,
   "metadata": {},
   "outputs": [],
   "source": []
  }
 ],
 "metadata": {
  "kernelspec": {
   "display_name": "Python 3",
   "language": "python",
   "name": "python3"
  }
 },
 "nbformat": 4,
 "nbformat_minor": 0
}
