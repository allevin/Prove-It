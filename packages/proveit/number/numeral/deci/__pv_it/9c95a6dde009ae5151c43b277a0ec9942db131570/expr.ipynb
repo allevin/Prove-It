{
 "cells": [
  {
   "cell_type": "markdown",
   "metadata": {},
   "source": [
    "Theorem <a class=\"ProveItLink\" href=\"../../_theorems_.ipynb#add_0_9\">add_0_9</a> of type <a class=\"ProveItLink\" href=\"../../../../../../../doc/html/api/proveit.logic.Equals.html\">Equals</a>\n",
    "=======================\n",
    "# from context <a class=\"ProveItLink\" href=\"../../_context_.ipynb\">proveit.number.numeral.deci</a>\n",
    "*** see <a class=\"ProveItLink\" href=\"dependencies.ipynb\">dependencies</a> ***"
   ]
  },
  {
   "cell_type": "code",
   "execution_count": 1,
   "metadata": {},
   "outputs": [],
   "source": [
    "# import the special expression\n",
    "from proveit.number.numeral.deci._theorems_ import add_0_9"
   ]
  },
  {
   "cell_type": "code",
   "execution_count": 2,
   "metadata": {},
   "outputs": [
    {
     "name": "stdout",
     "output_type": "stream",
     "text": [
      "Passed sanity check: built 'add_0_9' is the same as the stored Expression.\n"
     ]
    }
   ],
   "source": [
    "# check that the built expression is the same as the stored expression\n",
    "%check_expr add_0_9"
   ]
  },
  {
   "cell_type": "code",
   "execution_count": 3,
   "metadata": {},
   "outputs": [
    {
     "data": {
      "text/html": [
       "<table><tr><th>&nbsp;</th><th>core type</th><th>sub-expressions</th><th>expression</th></tr>\n",
       "<tr><td>0</td><td>Operation</td><td>operator:&nbsp;1<br>operands:&nbsp;2<br></td><td><a class=\"ProveItLink\" href=\"expr.ipynb\"><img src=\"data:image/png;base64,iVBORw0KGgoAAAANSUhEUgAAAGEAAAAVBAMAAACkm51HAAAAMFBMVEX////c3NwiIiJERESqqqqY\n",
       "mJh2dnZmZmYQEBDu7u4yMjJUVFTMzMyIiIi6uroAAAAs73DqAAAAAXRSTlMAQObYZgAAAVxJREFU\n",
       "OMuVk79Lw0AUx7/RNGlqEjMKDhZxcBIHBTfzDxQyuSndHKTYSUUEFZwlujQ4dXFoXAoOLg7ZXYJz\n",
       "JcVREBR/DILFa14puUtu8A25e5+XL+/eu3vA/82OJYEtmeIBaD0d8cy424mgR+KvKQY6wBIu+eiM\n",
       "q5wCbVFB2IphVWGNohe0rAG3wIaoIFz2MdGF/U6sRssPsOsjEBWEX4DpJszPrML4AJI+Jl2hDMJ7\n",
       "wFwd5m8uhwetWZDDwzUpvjnFAbAeQ02L08PUumN8XqS48tTjGPaJkIPwoOhU2OwlLsw3sfQUD6jy\n",
       "L+YfhuFiGN5QkDUlr0jxGYbdVfnuMgsxOpU+n9ryGK9ieINalVMkjsJyl8RLJ7zNdgsIIk7x6FfY\n",
       "+8x1l/Az27Ua9+AU2v4K+1b6goJw2cmyWtYJih97qZ71XrNOQzIfHdngGG1JYFammHIkAUU2tb1i\n",
       "/AeuumhtSdBJ7gAAAABJRU5ErkJggg==\n",
       "\" style=\"display:inline;vertical-align:middle;\" /></a></td></tr>\n",
       "<tr><td>1</td><td>Literal</td><td></td><td><a class=\"ProveItLink\" href=\"../../../../../logic/equality/__pv_it/2fb26078095930560931daa0500ce419a39ea6cd0/expr.ipynb\"><img src=\"data:image/png;base64,iVBORw0KGgoAAAANSUhEUgAAAA4AAAAFBAMAAACHocAhAAAAFVBMVEX///9EREQiIiJUVFQyMjJm\n",
       "ZmYAAADubVkoAAAAAXRSTlMAQObYZgAAABRJREFUCNdjCHEBAWcGXCBICQQUAUpuAwlgGKrkAAAA\n",
       "AElFTkSuQmCC\n",
       "\" style=\"display:inline;vertical-align:middle;\" /></a></td></tr>\n",
       "<tr><td>2</td><td>ExprTuple</td><td>3, 7</td><td><a class=\"ProveItLink\" href=\"../64dfc3f606c2a36e95c56a1d0f81370159a5c56f0/expr.ipynb\"><img src=\"data:image/png;base64,iVBORw0KGgoAAAANSUhEUgAAAE0AAAAVBAMAAADx+n4ZAAAAMFBMVEX////c3NwiIiJERESqqqqY\n",
       "mJh2dnZmZmYQEBDu7u4yMjJUVFTMzMyIiIi6uroAAAAs73DqAAAAAXRSTlMAQObYZgAAAXlJREFU\n",
       "KM+Nkj1Iw0AUx3+xTTS2qR0LDjo46CIdFNzs5iQ4uSndHEQUBBURrNBZo0uLDmZxMCIIDi4O2UUI\n",
       "zkqLoyD4DQqKd7kaGm2pN+T+L+939z7uwX9Xym+JTMvPBZRu1n559pbOlTDPZj3aPaEOYZAdL4Jp\n",
       "RTLpQGVy2gY4YPlYvViOArbVFiuQyAZqBE5hEjps2k5IPSpgXG1dDsZ7oD5g3qYMd+LvAsmXCLef\n",
       "xfoK0nuGSpVYjiXoyZP8/HPfa3jfBMYCB4p7i3DtBWLq5AqM+sQdNhtx5gFjitudiK/7pAp8NYqL\n",
       "fnNZy3jqupIj+SA5WYfMZtV1+133SPlr9RLUK7gisi/xaF/E6nR+lIuMO4zss9Eb4axHeqrYQlXS\n",
       "moioO8wIo4+yF+UGOMZ8EurK7hRzIvpyK4zSXO3Vw7gziznMLfHExvKQTKJKR7p+AMYjExe6xLvp\n",
       "+XrXfb2hh2pOzVWTFXKmrL27KRcOekImoLWe+2v4BoMyY05Ox1cMAAAAAElFTkSuQmCC\n",
       "\" style=\"display:inline;vertical-align:middle;\" /></a></td></tr>\n",
       "<tr><td>3</td><td>Operation</td><td>operator:&nbsp;4<br>operands:&nbsp;5<br></td><td><a class=\"ProveItLink\" href=\"../27ca9b8566db7800db0dd3fffe2560a4b8532ca70/expr.ipynb\"><img src=\"data:image/png;base64,iVBORw0KGgoAAAANSUhEUgAAAC0AAAAQBAMAAABw0OvaAAAAMFBMVEX///9EREQQEBCYmJh2dnaq\n",
       "qqrc3NxUVFQyMjK6uroiIiLMzMyIiIhmZmbu7u4AAADSWfX9AAAAAXRSTlMAQObYZgAAALVJREFU\n",
       "GNNjYHh75jYDCuCrdd8ApFYyvNqAIp4UwKbGwMCzgIGnASLwDEIJMTAUMjBwFTBwfoMIxECoHwwM\n",
       "/g8Y+C8wcH9FFuf7yMBwfgJDvgMD9x8M9QZg8S8o4pcYGOQPYBF/YcB6/wAWcxhsTp8PANv7Gci5\n",
       "0dGxqKOjHSIDdA/Qnayo7gSCDrC/WBagiJ9PYPsJpJYyPNqAIn7qAccBIPXWp5oBRZzlrihqQMYw\n",
       "YAdzkNgAaFc5E9GH9uwAAAAASUVORK5CYII=\n",
       "\" style=\"display:inline;vertical-align:middle;\" /></a></td></tr>\n",
       "<tr><td>4</td><td>Literal</td><td></td><td><a class=\"ProveItLink\" href=\"../../../../addition/__pv_it/3e6688136fa3c7aefbebe51301b7c3ebf0b69c440/expr.ipynb\"><img src=\"data:image/png;base64,iVBORw0KGgoAAAANSUhEUgAAAA4AAAAOBAMAAADtZjDiAAAAJFBMVEX///+6urpUVFQQEBAiIiIy\n",
       "MjJmZmaIiIiqqqrc3Nzu7u4AAACgHpL+AAAAAXRSTlMAQObYZgAAAB5JREFUCNdjYGBgWMkAAe2k\n",
       "0Kmhoc6hoUGk6BMHYgAHOwjcado9fwAAAABJRU5ErkJggg==\n",
       "\" style=\"display:inline;vertical-align:middle;\" /></a></td></tr>\n",
       "<tr><td>5</td><td>ExprTuple</td><td>6, 7</td><td><a class=\"ProveItLink\" href=\"../74254a43cb9bb3b817b473eb655291df8a8b47420/expr.ipynb\"><img src=\"data:image/png;base64,iVBORw0KGgoAAAANSUhEUgAAACkAAAAVBAMAAAAp9toTAAAAMFBMVEX////c3NwiIiJERESqqqqY\n",
       "mJh2dnZmZmYQEBDu7u4yMjJUVFTMzMyIiIi6uroAAAAs73DqAAAAAXRSTlMAQObYZgAAARVJREFU\n",
       "GNNtka9Pw0AYhp9CO9bRdpUkE0ygUZDg6J8whYPMIcjC1ECQAAkaGswWVA0CFAkCg6jHNOgtXZAo\n",
       "xi9BAuG769qMhROX731y9973vQf/Ly+ZAltqe4Du4CAD9t1OzFws1RUscx5ruhAYxxCBm+DWcSNN\n",
       "1+AWNqAcMnODN9L0C3ZDevAM1TbOu7Z9g3TIbEAHFps438XZBqU2lxn91HQf1hPMiNNJetEwDxO8\n",
       "I34mHdjspwHOi6LqtY98MulB6AmqM3OU02uUwypqilKdUFDqG3LXitgWsUQvtl+leAwrkpV09iSi\n",
       "27rHPvNF762IrAwp+3mieaEmtprj2ioCbmVJ/qW2yq82FsWXzCsrY/qH+vALB8xGYw9QxH8AAAAA\n",
       "SUVORK5CYII=\n",
       "\" style=\"display:inline;vertical-align:middle;\" /></a></td></tr>\n",
       "<tr><td>6</td><td>Literal</td><td></td><td><a class=\"ProveItLink\" href=\"../../../__pv_it/ec23fc7a1b4222a5f4948b495002b97d6fa18c3c0/expr.ipynb\"><img src=\"data:image/png;base64,iVBORw0KGgoAAAANSUhEUgAAAAoAAAAOBAMAAADkjZCYAAAALVBMVEX///8QEBCYmJh2dnaqqqrc\n",
       "3NxUVFQyMjK6uroiIiLMzMyIiIhmZmbu7u4AAAAZjyHdAAAAAXRSTlMAQObYZgAAAEpJREFUCNdj\n",
       "YLiz+xQDA8MMhpsLGLgnMHAXMHAmMHA8ZeA7wMD1hCHOgIHrNZh8jES+Bss+AqlkeQrSxTyBgWEK\n",
       "w8UFDAx3rLMYAMCjFldHSx/9AAAAAElFTkSuQmCC\n",
       "\" style=\"display:inline;vertical-align:middle;\" /></a></td></tr>\n",
       "<tr><td>7</td><td>Literal</td><td></td><td><a class=\"ProveItLink\" href=\"../../../__pv_it/cdcd6ad997b4d5c13a719b005810863ba48ff0c70/expr.ipynb\"><img src=\"data:image/png;base64,iVBORw0KGgoAAAANSUhEUgAAAAoAAAAOBAMAAADkjZCYAAAAMFBMVEX///8iIiKYmJi6urqIiIgy\n",
       "MjJERESqqqoQEBDc3NzMzMx2dnZmZmZUVFTu7u4AAABn2L4sAAAAAXRSTlMAQObYZgAAAFVJREFU\n",
       "CNdjYHh7+hYDA2c7w4wJDGwNDLwJDPwBDNz/GN4nMLB8BrM/MfA0MLB9YeALYqj5wsDA5LLkOwMQ\n",
       "ANUAAWsAA8tPhvkGDCxyDCFA/p5jBQwAtzwVEbGPESsAAAAASUVORK5CYII=\n",
       "\" style=\"display:inline;vertical-align:middle;\" /></a></td></tr>\n",
       "</table>\n"
      ],
      "text/plain": [
       "0. (0 + 9) = 9\n",
       "   core type: Operation\n",
       "   operator: 1\n",
       "   operands: 2\n",
       "1. =\n",
       "   core type: Literal\n",
       "   sub-expressions: \n",
       "2. (0 + 9 , 9)\n",
       "   core type: ExprTuple\n",
       "   sub-expressions: 3, 7\n",
       "3. 0 + 9\n",
       "   core type: Operation\n",
       "   operator: 4\n",
       "   operands: 5\n",
       "4. +\n",
       "   core type: Literal\n",
       "   sub-expressions: \n",
       "5. (0 , 9)\n",
       "   core type: ExprTuple\n",
       "   sub-expressions: 6, 7\n",
       "6. 0\n",
       "   core type: Literal\n",
       "   sub-expressions: \n",
       "7. 9\n",
       "   core type: Literal\n",
       "   sub-expressions: "
      ]
     },
     "execution_count": 3,
     "metadata": {},
     "output_type": "execute_result"
    }
   ],
   "source": [
    "# display the expression information\n",
    "add_0_9.exprInfo()"
   ]
  },
  {
   "cell_type": "code",
   "execution_count": null,
   "metadata": {},
   "outputs": [],
   "source": []
  }
 ],
 "metadata": {
  "kernelspec": {
   "display_name": "Python 3",
   "language": "python",
   "name": "python3"
  }
 },
 "nbformat": 4,
 "nbformat_minor": 0
}
