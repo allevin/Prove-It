{
 "cells": [
  {
   "cell_type": "markdown",
   "metadata": {},
   "source": [
    "Theorem <a class=\"ProveItLink\" href=\"../../_theorems_.ipynb#add_0_0\">add_0_0</a> of type <a class=\"ProveItLink\" href=\"../../../../../../../doc/html/api/proveit.logic.Equals.html\">Equals</a>\n",
    "=======================\n",
    "# from context <a class=\"ProveItLink\" href=\"../../_context_.ipynb\">proveit.number.numeral.deci</a>\n",
    "*** see <a class=\"ProveItLink\" href=\"dependencies.ipynb\">dependencies</a> ***"
   ]
  },
  {
   "cell_type": "code",
   "execution_count": 1,
   "metadata": {},
   "outputs": [],
   "source": [
    "# import the special expression\n",
    "from proveit.number.numeral.deci._theorems_ import add_0_0"
   ]
  },
  {
   "cell_type": "code",
   "execution_count": 2,
   "metadata": {},
   "outputs": [
    {
     "name": "stdout",
     "output_type": "stream",
     "text": [
      "Passed sanity check: built 'add_0_0' is the same as the stored Expression.\n"
     ]
    }
   ],
   "source": [
    "# check that the built expression is the same as the stored expression\n",
    "%check_expr add_0_0"
   ]
  },
  {
   "cell_type": "code",
   "execution_count": 3,
   "metadata": {},
   "outputs": [
    {
     "data": {
      "text/html": [
       "<table><tr><th>&nbsp;</th><th>core type</th><th>sub-expressions</th><th>expression</th></tr>\n",
       "<tr><td>0</td><td>Operation</td><td>operator:&nbsp;1<br>operands:&nbsp;2<br></td><td><a class=\"ProveItLink\" href=\"expr.ipynb\"><img src=\"data:image/png;base64,iVBORw0KGgoAAAANSUhEUgAAAGEAAAAVBAMAAACkm51HAAAAMFBMVEX////c3NwiIiJERESqqqqY\n",
       "mJh2dnZmZmYQEBDu7u4yMjJUVFTMzMyIiIi6uroAAAAs73DqAAAAAXRSTlMAQObYZgAAAUxJREFU\n",
       "OMtjYCAd8F3AIRGHS8dpBobpd2tQxThrrx9gYD+ArhQszMCwkoFBj2ESqizTA04dBoYF6DogwrwX\n",
       "GHgVGHihshMh1CUGhlsMDGHoOiDCHBMYmDYw8H2EiPlCKG0GhvcCDDPQdUCEXzEw8Bcw8HxB0fGd\n",
       "geG8AwOzA5oOiHAZA4N8AgPPX2QdjN+AUhcY2ApQNUCFl0J0fMPQkcDAAvYc+yow2AAX7sOtg68B\n",
       "ix0JDP9wu4rnA1ZX/YP4/CtQpGrVKo1Vq1ZDvRiAoQMq3MIACl0WjND1F4C6il0JDAzgwqYMoBhk\n",
       "U0DRAYyqJAYG1gWYMQgUTgeyVBhmHEDRweTA2cOAEbpQ4UdA1vTcPQwoOjjLbgON4HqAnhLBwhwC\n",
       "yGK+yJwZ2BM7awIy7y0yJxdH/liJK+NwLsAhIY1LB7cADglGXLn2DnZhAL/Sa40uCuUuAAAAAElF\n",
       "TkSuQmCC\n",
       "\" style=\"display:inline;vertical-align:middle;\" /></a></td></tr>\n",
       "<tr><td>1</td><td>Literal</td><td></td><td><a class=\"ProveItLink\" href=\"../../../../../logic/equality/__pv_it/2fb26078095930560931daa0500ce419a39ea6cd0/expr.ipynb\"><img src=\"data:image/png;base64,iVBORw0KGgoAAAANSUhEUgAAAA4AAAAFBAMAAACHocAhAAAAFVBMVEX///9EREQiIiJUVFQyMjJm\n",
       "ZmYAAADubVkoAAAAAXRSTlMAQObYZgAAABRJREFUCNdjCHEBAWcGXCBICQQUAUpuAwlgGKrkAAAA\n",
       "AElFTkSuQmCC\n",
       "\" style=\"display:inline;vertical-align:middle;\" /></a></td></tr>\n",
       "<tr><td>2</td><td>ExprTuple</td><td>3, 6</td><td><a class=\"ProveItLink\" href=\"../1ca9237d7b48904a791babf8d24d9d2f00e246690/expr.ipynb\"><img src=\"data:image/png;base64,iVBORw0KGgoAAAANSUhEUgAAAE0AAAAVBAMAAADx+n4ZAAAAMFBMVEX////c3NwiIiJERESqqqqY\n",
       "mJh2dnZmZmYQEBDu7u4yMjJUVFTMzMyIiIi6uroAAAAs73DqAAAAAXRSTlMAQObYZgAAAUBJREFU\n",
       "KM+Nkj9Lw0Achp/WpDbaxuwOdnAQFDf3foGik6MUF6dCpw6i4OAoWl3smMXBuPgBHLI7GFwK/oHi\n",
       "KIh/0Dgp3uXgkrOU5obc3ft7uLu8vxfyDjcai2zIzzWcPu78q2jF2e2HTIZidQ7LnIQmp5XiwFkC\n",
       "H6oR1RpVX9WP1ZQqt3AH61DuUrzEfVdAQ02psgivHj14hpk2lU+DS5VvuKkzUacDc00qPwanlUIs\n",
       "uIhSmzOlxkNcrLkmls9hHs7d4zfPvZU3yclXfwlxOwgWguCCVFH/sSa5/cQFa8gXS/uy6sl7VxJX\n",
       "SzWDU0pX+bwJts+W2MzTCw0uUZwPeXLdOUD68iS73rrC5KTiHHkiB517ccTUgLKX7X/DSJwuib7Z\n",
       "zWzpJbux9aqlcjViaM6R2ZkdyemgT8sHFMbn/gH+ADDaZPdiHNWpAAAAAElFTkSuQmCC\n",
       "\" style=\"display:inline;vertical-align:middle;\" /></a></td></tr>\n",
       "<tr><td>3</td><td>Operation</td><td>operator:&nbsp;4<br>operands:&nbsp;5<br></td><td><a class=\"ProveItLink\" href=\"../ee8ecb0be87b13ad06c27d2fe3d50c26b9f789120/expr.ipynb\"><img src=\"data:image/png;base64,iVBORw0KGgoAAAANSUhEUgAAAC0AAAAQBAMAAABw0OvaAAAALVBMVEX///8QEBCYmJh2dnaqqqrc\n",
       "3NxUVFQyMjK6uroiIiLMzMyIiIhmZmbu7u4AAAAZjyHdAAAAAXRSTlMAQObYZgAAAKZJREFUGNNj\n",
       "YLiz+xQDCuA9vWcBkJrBcHMBijhnA+8sBgbuCQzcBRCBqxBqJwPDdqBsAgPHU4iAN4SaxsDQF8DA\n",
       "d4CB6wmK+BsGhnUODHEGDFyvkcVZHwPFN4DFH2OIG+AVx2YOyN5HQO7x8vKJ5eVlUHsVQO5kwXCn\n",
       "XwDIX8wTUMSB/rIEUlMYLi5AEed04JUCUnessxhQxHkPb0MNMG8G7KAbiQ0ArRM1Sq9+PgIAAAAA\n",
       "SUVORK5CYII=\n",
       "\" style=\"display:inline;vertical-align:middle;\" /></a></td></tr>\n",
       "<tr><td>4</td><td>Literal</td><td></td><td><a class=\"ProveItLink\" href=\"../../../../addition/__pv_it/3e6688136fa3c7aefbebe51301b7c3ebf0b69c440/expr.ipynb\"><img src=\"data:image/png;base64,iVBORw0KGgoAAAANSUhEUgAAAA4AAAAOBAMAAADtZjDiAAAAJFBMVEX///+6urpUVFQQEBAiIiIy\n",
       "MjJmZmaIiIiqqqrc3Nzu7u4AAACgHpL+AAAAAXRSTlMAQObYZgAAAB5JREFUCNdjYGBgWMkAAe2k\n",
       "0Kmhoc6hoUGk6BMHYgAHOwjcado9fwAAAABJRU5ErkJggg==\n",
       "\" style=\"display:inline;vertical-align:middle;\" /></a></td></tr>\n",
       "<tr><td>5</td><td>ExprTuple</td><td>6, 6</td><td><a class=\"ProveItLink\" href=\"../44c8f5f353bc75ce004ffb99007c5966798d23f70/expr.ipynb\"><img src=\"data:image/png;base64,iVBORw0KGgoAAAANSUhEUgAAACkAAAAVBAMAAAAp9toTAAAAMFBMVEX////c3NwiIiJERESqqqqY\n",
       "mJh2dnZmZmYQEBDu7u4yMjJUVFTMzMyIiIi6uroAAAAs73DqAAAAAXRSTlMAQObYZgAAAQVJREFU\n",
       "GNNtkTFPwlAUhT+QAk/b0p1BBjeNm3v/gU6OpnFhImFiksTBkSBxgbGLAxs/wKG7g42LiWBCHFlA\n",
       "IzBpfLeFlwi+4eXeb7j3nHPh/+fGG+BCvkfovl2lQDVfIgqRrvpwzF2U0OxYHUEIToxTwQkT+gyv\n",
       "cA7FDtkB7kdCD2Hq0YMJlOrYXwldwpPPjk8D9gPsb4GZhaYx+Tr3KV0YGpALaW9T95qf7Qn2TKhs\n",
       "m5ttZ0JvEGU5o+zUkwkniIt8hU7q4hKskKpuDuhF6lMc+6qFKHvXTbf2gLr1dDqNoQ5kd0zRWye6\n",
       "LsSxFaxqywRcS5P8S5XkV1415iR7MiqzeaER/ALPm0fzkYndsgAAAABJRU5ErkJggg==\n",
       "\" style=\"display:inline;vertical-align:middle;\" /></a></td></tr>\n",
       "<tr><td>6</td><td>Literal</td><td></td><td><a class=\"ProveItLink\" href=\"../../../__pv_it/ec23fc7a1b4222a5f4948b495002b97d6fa18c3c0/expr.ipynb\"><img src=\"data:image/png;base64,iVBORw0KGgoAAAANSUhEUgAAAAoAAAAOBAMAAADkjZCYAAAALVBMVEX///8QEBCYmJh2dnaqqqrc\n",
       "3NxUVFQyMjK6uroiIiLMzMyIiIhmZmbu7u4AAAAZjyHdAAAAAXRSTlMAQObYZgAAAEpJREFUCNdj\n",
       "YLiz+xQDA8MMhpsLGLgnMHAXMHAmMHA8ZeA7wMD1hCHOgIHrNZh8jES+Bss+AqlkeQrSxTyBgWEK\n",
       "w8UFDAx3rLMYAMCjFldHSx/9AAAAAElFTkSuQmCC\n",
       "\" style=\"display:inline;vertical-align:middle;\" /></a></td></tr>\n",
       "</table>\n"
      ],
      "text/plain": [
       "0. (0 + 0) = 0\n",
       "   core type: Operation\n",
       "   operator: 1\n",
       "   operands: 2\n",
       "1. =\n",
       "   core type: Literal\n",
       "   sub-expressions: \n",
       "2. (0 + 0 , 0)\n",
       "   core type: ExprTuple\n",
       "   sub-expressions: 3, 6\n",
       "3. 0 + 0\n",
       "   core type: Operation\n",
       "   operator: 4\n",
       "   operands: 5\n",
       "4. +\n",
       "   core type: Literal\n",
       "   sub-expressions: \n",
       "5. (0 , 0)\n",
       "   core type: ExprTuple\n",
       "   sub-expressions: 6, 6\n",
       "6. 0\n",
       "   core type: Literal\n",
       "   sub-expressions: "
      ]
     },
     "execution_count": 3,
     "metadata": {},
     "output_type": "execute_result"
    }
   ],
   "source": [
    "# display the expression information\n",
    "add_0_0.exprInfo()"
   ]
  },
  {
   "cell_type": "code",
   "execution_count": null,
   "metadata": {},
   "outputs": [],
   "source": []
  }
 ],
 "metadata": {
  "kernelspec": {
   "display_name": "Python 3",
   "language": "python",
   "name": "python3"
  }
 },
 "nbformat": 4,
 "nbformat_minor": 0
}
