{
 "cells": [
  {
   "cell_type": "markdown",
   "metadata": {},
   "source": [
    "Expression of type <a class=\"ProveItLink\" href=\"../../../../../../../doc/html/api/proveit.ExprTuple.html\">ExprTuple</a>\n",
    "=======================\n",
    "# from context <a class=\"ProveItLink\" href=\"../../_context_.ipynb\">proveit.number.numeral.deci</a>"
   ]
  },
  {
   "cell_type": "code",
   "execution_count": 1,
   "metadata": {},
   "outputs": [],
   "source": [
    "# import Expression classes needed to build the expression\n",
    "from proveit import ExprTuple\n",
    "from proveit.number import Add, six, zero"
   ]
  },
  {
   "cell_type": "code",
   "execution_count": 2,
   "metadata": {},
   "outputs": [
    {
     "data": {
      "text/html": [
       "<strong id=\"expr\">expr:</strong> <a class=\"ProveItLink\" href=\"expr.ipynb\"><img src=\"data:image/png;base64,iVBORw0KGgoAAAANSUhEUgAAAE0AAAAVBAMAAADx+n4ZAAAAMFBMVEX////c3NwiIiJERESqqqqY\n",
       "mJh2dnZmZmYQEBDu7u4yMjJUVFTMzMyIiIi6uroAAAAs73DqAAAAAXRSTlMAQObYZgAAAXNJREFU\n",
       "KM+NkrtLA0EQh788Lsnlja2FVxixEAtB6/wDwVSWepVpDKaQFMYihbYaLTSd1wh6WoiNjUh6EdLZ\n",
       "GAiWghBDFCL42L0LR84Y4hazv935dndmduC/I14fiSxLcwdqbrXm9hw1tnrqsLhGUHrPYKwW0dzc\n",
       "LAf2Sc8MV2BATDw7Rdiw/fv2FNOI2TteHROWIFRB6Tr3ZOzJe0n81VIrFWmr8Azh8m8uUSDasdSp\n",
       "ZX1pimL3orHh5iZ0op+W+rh/SEOgwAkcp/BmB7h3KdR2lhT4DXYF1yLQHcJ9w3qFeJkvwWkonb/f\n",
       "VdsilTTRluQSBorc3TTNadM87+XxZscnuLrktkU2A/eJuvjtusxZ94l350WUA/GJOgc0ZOkWrfgU\n",
       "g5xYLFB158sk1ZqMDZ+u7lh1eRKL4PWtu34c5W9Q95JClUpN8RNNQsn+/8+4Os5xiX9T9H7XS/9C\n",
       "cVTe7qshw+FU2TvjQzmn0SMyAM/ovn+EH4Q7YA3ytFISAAAAAElFTkSuQmCC\n",
       "\" style=\"display:inline;vertical-align:middle;\" /></a><br>"
      ],
      "text/plain": [
       "expr: (6 + 0 , 6)"
      ]
     },
     "execution_count": 2,
     "metadata": {},
     "output_type": "execute_result"
    }
   ],
   "source": [
    "# build up the expression from sub-expressions\n",
    "expr = ExprTuple(Add(six, zero), six)"
   ]
  },
  {
   "cell_type": "code",
   "execution_count": 3,
   "metadata": {},
   "outputs": [
    {
     "name": "stdout",
     "output_type": "stream",
     "text": [
      "Passed sanity check: built 'expr' is the same as the stored Expression.\n"
     ]
    }
   ],
   "source": [
    "# check that the built expression is the same as the stored expression\n",
    "%check_expr"
   ]
  },
  {
   "cell_type": "code",
   "execution_count": 4,
   "metadata": {},
   "outputs": [
    {
     "data": {
      "text/html": [
       "<table><tr><th>&nbsp;</th><th>core type</th><th>sub-expressions</th><th>expression</th></tr>\n",
       "<tr><td>0</td><td>ExprTuple</td><td>1, 4</td><td><a class=\"ProveItLink\" href=\"expr.ipynb\"><img src=\"data:image/png;base64,iVBORw0KGgoAAAANSUhEUgAAAE0AAAAVBAMAAADx+n4ZAAAAMFBMVEX////c3NwiIiJERESqqqqY\n",
       "mJh2dnZmZmYQEBDu7u4yMjJUVFTMzMyIiIi6uroAAAAs73DqAAAAAXRSTlMAQObYZgAAAXNJREFU\n",
       "KM+NkrtLA0EQh788Lsnlja2FVxixEAtB6/wDwVSWepVpDKaQFMYihbYaLTSd1wh6WoiNjUh6EdLZ\n",
       "GAiWghBDFCL42L0LR84Y4hazv935dndmduC/I14fiSxLcwdqbrXm9hw1tnrqsLhGUHrPYKwW0dzc\n",
       "LAf2Sc8MV2BATDw7Rdiw/fv2FNOI2TteHROWIFRB6Tr3ZOzJe0n81VIrFWmr8Azh8m8uUSDasdSp\n",
       "ZX1pimL3orHh5iZ0op+W+rh/SEOgwAkcp/BmB7h3KdR2lhT4DXYF1yLQHcJ9w3qFeJkvwWkonb/f\n",
       "VdsilTTRluQSBorc3TTNadM87+XxZscnuLrktkU2A/eJuvjtusxZ94l350WUA/GJOgc0ZOkWrfgU\n",
       "g5xYLFB158sk1ZqMDZ+u7lh1eRKL4PWtu34c5W9Q95JClUpN8RNNQsn+/8+4Os5xiX9T9H7XS/9C\n",
       "cVTe7qshw+FU2TvjQzmn0SMyAM/ovn+EH4Q7YA3ytFISAAAAAElFTkSuQmCC\n",
       "\" style=\"display:inline;vertical-align:middle;\" /></a></td></tr>\n",
       "<tr><td>1</td><td>Operation</td><td>operator:&nbsp;2<br>operands:&nbsp;3<br></td><td><a class=\"ProveItLink\" href=\"../591b756334e233a581fb932596a141f7a503bf210/expr.ipynb\"><img src=\"data:image/png;base64,iVBORw0KGgoAAAANSUhEUgAAAC0AAAAQBAMAAABw0OvaAAAAMFBMVEX///+6urpERESqqqqIiIgQ\n",
       "EBCYmJgyMjJUVFQiIiLc3NzMzMxmZmZ2dnbu7u4AAABf+mkYAAAAAXRSTlMAQObYZgAAAKxJREFU\n",
       "GNNjYOC7c3cDAzLgO+IDEli5gWMCijinAN9sIDWXgb0AIvAKQnkyMLgzMLD9gys0gVAzGBjkFzCw\n",
       "B6CL/2Fg2G/AwF/tchhFnOsvUNyB4f00Bs4EDPELDO8/MPD+wyY+gYHtMxZz+AsY2L4AucfLy6eW\n",
       "l1dA7U1gYEJXD3Kn/QIGZnTzQf66CaR0GZ6iuIeB04AvGkjx9DSi+ovvrAdqQJowYAciSGwAkVc0\n",
       "88waZxAAAAAASUVORK5CYII=\n",
       "\" style=\"display:inline;vertical-align:middle;\" /></a></td></tr>\n",
       "<tr><td>2</td><td>Literal</td><td></td><td><a class=\"ProveItLink\" href=\"../../../../addition/__pv_it/3e6688136fa3c7aefbebe51301b7c3ebf0b69c440/expr.ipynb\"><img src=\"data:image/png;base64,iVBORw0KGgoAAAANSUhEUgAAAA4AAAAOBAMAAADtZjDiAAAAJFBMVEX///+6urpUVFQQEBAiIiIy\n",
       "MjJmZmaIiIiqqqrc3Nzu7u4AAACgHpL+AAAAAXRSTlMAQObYZgAAAB5JREFUCNdjYGBgWMkAAe2k\n",
       "0Kmhoc6hoUGk6BMHYgAHOwjcado9fwAAAABJRU5ErkJggg==\n",
       "\" style=\"display:inline;vertical-align:middle;\" /></a></td></tr>\n",
       "<tr><td>3</td><td>ExprTuple</td><td>4, 5</td><td><a class=\"ProveItLink\" href=\"../f287de4160255ef41d8d2f3313163508e8f60ca90/expr.ipynb\"><img src=\"data:image/png;base64,iVBORw0KGgoAAAANSUhEUgAAACkAAAAVBAMAAAAp9toTAAAAMFBMVEX////c3NwiIiJERESqqqqY\n",
       "mJh2dnZmZmYQEBDu7u4yMjJUVFTMzMyIiIi6uroAAAAs73DqAAAAAXRSTlMAQObYZgAAAQ1JREFU\n",
       "GNNtkb9LA0EQhb/82CR70eSwtUmjjbZa33/gVZYSLJJKsJB0QoqUoinTuY2FYG8n11sYbAQ1ECxt\n",
       "DEEMKRR3NtkjBrdY5n0sb2fewP+n0l8CB3Ldg242Egf06VNCUeprWEvKNUezQ70NBlatwSaBcfQR\n",
       "nmEfSl3U1FtuwUdID94haHs6gYeIXEQLqjeDEwczX5b2KRxzBZcbZOOU1skbzi0dUZgu0EqbH0tr\n",
       "qM8Fh5WR0KpBfae/xUI7kPNvpbO9UBx2IO98u7MpDkEZmlbs0ov1WCaO9BnS2ZsVxds79EVo02m9\n",
       "2GiCIaXQJ+oLmVjV57VKAz6aJfmXaslvfS7SlZTFKrO8oVf4BSkLR16w9aPXAAAAAElFTkSuQmCC\n",
       "\" style=\"display:inline;vertical-align:middle;\" /></a></td></tr>\n",
       "<tr><td>4</td><td>Literal</td><td></td><td><a class=\"ProveItLink\" href=\"../../../__pv_it/09b499e53e24cf89c2513ba78b501f0314edaa680/expr.ipynb\"><img src=\"data:image/png;base64,iVBORw0KGgoAAAANSUhEUgAAAAoAAAAOBAMAAADkjZCYAAAAMFBMVEX///+6urpERESqqqqIiIgQ\n",
       "EBCYmJgyMjJUVFQiIiLc3NzMzMxmZmZ2dnbu7u4AAABf+mkYAAAAAXRSTlMAQObYZgAAAFNJREFU\n",
       "CNdjYOC7c3cDA8PKDRwTGBjmMrAXMLD9YwAC9gAQyV/tcpiB4f00Bs4EhvcfGHj/MbyfwMD2mYEf\n",
       "qOwLAxOYzQwWZ9BleJrAwMDT08gAANMyF0ZGTeKAAAAAAElFTkSuQmCC\n",
       "\" style=\"display:inline;vertical-align:middle;\" /></a></td></tr>\n",
       "<tr><td>5</td><td>Literal</td><td></td><td><a class=\"ProveItLink\" href=\"../../../__pv_it/ec23fc7a1b4222a5f4948b495002b97d6fa18c3c0/expr.ipynb\"><img src=\"data:image/png;base64,iVBORw0KGgoAAAANSUhEUgAAAAoAAAAOBAMAAADkjZCYAAAALVBMVEX///8QEBCYmJh2dnaqqqrc\n",
       "3NxUVFQyMjK6uroiIiLMzMyIiIhmZmbu7u4AAAAZjyHdAAAAAXRSTlMAQObYZgAAAEpJREFUCNdj\n",
       "YLiz+xQDA8MMhpsLGLgnMHAXMHAmMHA8ZeA7wMD1hCHOgIHrNZh8jES+Bss+AqlkeQrSxTyBgWEK\n",
       "w8UFDAx3rLMYAMCjFldHSx/9AAAAAElFTkSuQmCC\n",
       "\" style=\"display:inline;vertical-align:middle;\" /></a></td></tr>\n",
       "</table>\n"
      ],
      "text/plain": [
       "0. (6 + 0 , 6)\n",
       "   core type: ExprTuple\n",
       "   sub-expressions: 1, 4\n",
       "1. 6 + 0\n",
       "   core type: Operation\n",
       "   operator: 2\n",
       "   operands: 3\n",
       "2. +\n",
       "   core type: Literal\n",
       "   sub-expressions: \n",
       "3. (6 , 0)\n",
       "   core type: ExprTuple\n",
       "   sub-expressions: 4, 5\n",
       "4. 6\n",
       "   core type: Literal\n",
       "   sub-expressions: \n",
       "5. 0\n",
       "   core type: Literal\n",
       "   sub-expressions: "
      ]
     },
     "execution_count": 4,
     "metadata": {},
     "output_type": "execute_result"
    }
   ],
   "source": [
    "# display the expression information\n",
    "expr.exprInfo()"
   ]
  },
  {
   "cell_type": "code",
   "execution_count": null,
   "metadata": {},
   "outputs": [],
   "source": []
  }
 ],
 "metadata": {
  "kernelspec": {
   "display_name": "Python 3",
   "language": "python",
   "name": "python3"
  }
 },
 "nbformat": 4,
 "nbformat_minor": 0
}
