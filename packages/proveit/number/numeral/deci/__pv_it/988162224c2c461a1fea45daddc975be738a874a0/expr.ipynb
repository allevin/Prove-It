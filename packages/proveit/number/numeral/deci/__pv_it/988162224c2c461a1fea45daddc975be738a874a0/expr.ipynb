{
 "cells": [
  {
   "cell_type": "markdown",
   "metadata": {},
   "source": [
    "Expression of type <a class=\"ProveItLink\" href=\"../../../../../../../doc/html/api/proveit.ExprTuple.html\">ExprTuple</a>\n",
    "=======================\n",
    "# from context <a class=\"ProveItLink\" href=\"../../_context_.ipynb\">proveit.number.numeral.deci</a>"
   ]
  },
  {
   "cell_type": "code",
   "execution_count": 1,
   "metadata": {},
   "outputs": [],
   "source": [
    "# import Expression classes needed to build the expression\n",
    "from proveit import ExprTuple\n",
    "from proveit.number import Mult, eight, one"
   ]
  },
  {
   "cell_type": "code",
   "execution_count": 2,
   "metadata": {},
   "outputs": [
    {
     "data": {
      "text/html": [
       "<strong id=\"expr\">expr:</strong> <a class=\"ProveItLink\" href=\"expr.ipynb\"><img src=\"data:image/png;base64,iVBORw0KGgoAAAANSUhEUgAAAEMAAAAVBAMAAADvM06qAAAAMFBMVEX////c3NwiIiJERESqqqqY\n",
       "mJh2dnZmZmYQEBDu7u4yMjJUVFTMzMyIiIi6uroAAAAs73DqAAAAAXRSTlMAQObYZgAAAUlJREFU\n",
       "KM+Nkq9Pw1AUhb9la0sZJfMIxn+AQaCYQmCYgSlgahNkyQRjCAgjwWBIAwlZgqAGMTVQhGDQYKpQ\n",
       "CECCAcIEkFDuK/vVdGl4oj3v9su75/Rd+McadaO+LqvHLRwV1vqq0+23WShmMK5FNaCMke0Sh59t\n",
       "YUAFHLBctCxmukMcX3WQBTiARRiy0c/6EKwOsuojdXiGxLetu2Fk/pISxDOsy2amdUcYiXtLedDL\n",
       "nCpj3sQAhO33lLRw2Bedu/EyKqUdQLTN5of8tho/osusqPpJOoDk0DybkVeFSKhYS2r1yQCyB+NZ\n",
       "hez6udgKeTFrYtJVjabkFHF1HkBMJXYgmUJzKIrpBol8APFdzdnM+qGfZPNS7V2jsfFVof6mRuCi\n",
       "KjmHH/wu4fXYVWJUyw9Cehdf+huGCMSUYWBsAGF1VVL5iEUO5j38ArilU+p8AOQuAAAAAElFTkSu\n",
       "QmCC\n",
       "\" style=\"display:inline;vertical-align:middle;\" /></a><br>"
      ],
      "text/plain": [
       "expr: (8 * 1 , 8)"
      ]
     },
     "execution_count": 2,
     "metadata": {},
     "output_type": "execute_result"
    }
   ],
   "source": [
    "# build up the expression from sub-expressions\n",
    "expr = ExprTuple(Mult(eight, one), eight)"
   ]
  },
  {
   "cell_type": "code",
   "execution_count": 3,
   "metadata": {},
   "outputs": [
    {
     "name": "stdout",
     "output_type": "stream",
     "text": [
      "Passed sanity check: built 'expr' is the same as the stored Expression.\n"
     ]
    }
   ],
   "source": [
    "# check that the built expression is the same as the stored expression\n",
    "%check_expr"
   ]
  },
  {
   "cell_type": "code",
   "execution_count": 4,
   "metadata": {},
   "outputs": [
    {
     "data": {
      "text/html": [
       "<table><tr><th>&nbsp;</th><th>core type</th><th>sub-expressions</th><th>expression</th></tr>\n",
       "<tr><td>0</td><td>ExprTuple</td><td>1, 4</td><td><a class=\"ProveItLink\" href=\"expr.ipynb\"><img src=\"data:image/png;base64,iVBORw0KGgoAAAANSUhEUgAAAEMAAAAVBAMAAADvM06qAAAAMFBMVEX////c3NwiIiJERESqqqqY\n",
       "mJh2dnZmZmYQEBDu7u4yMjJUVFTMzMyIiIi6uroAAAAs73DqAAAAAXRSTlMAQObYZgAAAUlJREFU\n",
       "KM+Nkq9Pw1AUhb9la0sZJfMIxn+AQaCYQmCYgSlgahNkyQRjCAgjwWBIAwlZgqAGMTVQhGDQYKpQ\n",
       "CECCAcIEkFDuK/vVdGl4oj3v9su75/Rd+McadaO+LqvHLRwV1vqq0+23WShmMK5FNaCMke0Sh59t\n",
       "YUAFHLBctCxmukMcX3WQBTiARRiy0c/6EKwOsuojdXiGxLetu2Fk/pISxDOsy2amdUcYiXtLedDL\n",
       "nCpj3sQAhO33lLRw2Bedu/EyKqUdQLTN5of8tho/osusqPpJOoDk0DybkVeFSKhYS2r1yQCyB+NZ\n",
       "hez6udgKeTFrYtJVjabkFHF1HkBMJXYgmUJzKIrpBol8APFdzdnM+qGfZPNS7V2jsfFVof6mRuCi\n",
       "KjmHH/wu4fXYVWJUyw9Cehdf+huGCMSUYWBsAGF1VVL5iEUO5j38ArilU+p8AOQuAAAAAElFTkSu\n",
       "QmCC\n",
       "\" style=\"display:inline;vertical-align:middle;\" /></a></td></tr>\n",
       "<tr><td>1</td><td>Operation</td><td>operator:&nbsp;2<br>operands:&nbsp;3<br></td><td><a class=\"ProveItLink\" href=\"../7ddc94578f30225f0dfc1bf3da9c27083538ef190/expr.ipynb\"><img src=\"data:image/png;base64,iVBORw0KGgoAAAANSUhEUgAAACIAAAAPBAMAAABzWwAZAAAAMFBMVEX///+6uroQEBAyMjLMzMzc\n",
       "3NxERESIiIhUVFQiIiKYmJiqqqpmZmZ2dnbu7u4AAAACo3QQAAAAAXRSTlMAQObYZgAAAIJJREFU\n",
       "GNNjYHh79zQDAuQB8QEGngVwgWf/GBi4FjDwTYAJvOgAivA2IIkwsANFuH884C1AEWHI/1XLgCrC\n",
       "838qmsga5/8bgBTfA5gI1wGG9SCJ9xNgIkwPGFh/AdmPEmAij4D0cRRzmAIYGFpR3WPHwH0B1S6J\n",
       "Mwif8hz6fIoBAwAAyLAt0MH6G9kAAAAASUVORK5CYII=\n",
       "\" style=\"display:inline;vertical-align:middle;\" /></a></td></tr>\n",
       "<tr><td>2</td><td>Literal</td><td></td><td><a class=\"ProveItLink\" href=\"../../../../multiplication/__pv_it/21fd2079611555ecce512d99547a00d551e6b86b0/expr.ipynb\"><img src=\"data:image/png;base64,iVBORw0KGgoAAAANSUhEUgAAAAMAAAADBAMAAACkBqiMAAAAElBMVEX///9EREQQEBAiIiLu7u4A\n",
       "AABGBidwAAAAAXRSTlMAQObYZgAAABFJREFUCNdjYHFgcDVgcBIAAASWAQx4jI0xAAAAAElFTkSu\n",
       "QmCC\n",
       "\" style=\"display:inline;vertical-align:middle;\" /></a></td></tr>\n",
       "<tr><td>3</td><td>ExprTuple</td><td>4, 5</td><td><a class=\"ProveItLink\" href=\"../75a9bdbf54dc4ae41e8c7a2aa23322a41fa7379c0/expr.ipynb\"><img src=\"data:image/png;base64,iVBORw0KGgoAAAANSUhEUgAAACkAAAAVBAMAAAAp9toTAAAAMFBMVEX////c3NwiIiJERESqqqqY\n",
       "mJh2dnZmZmYQEBDu7u4yMjJUVFTMzMyIiIi6uroAAAAs73DqAAAAAXRSTlMAQObYZgAAAPJJREFU\n",
       "GNNjYMAO+C6gCcSBiNMMDNPSSmBClgwM7AeA9EoGhgIG9gCI4OSfQGIBAwPvBQbWAAZOBbDg7N0g\n",
       "0TAGBo4JDGwbYKIMvCDRGQwMrxgYWH5PYLuAJMrswFAGpOy/XmNAEmUrYFgKpNj/KyKLsixg6ANS\n",
       "4af+OyCJ8jUw/GNgYC1giP+JJMrzASQKdAbjV1TRFrBLGGpRTTAFqhVgYNjIMAEuyrqAIR1o50oG\n",
       "lgTOT8guewSkXpeXMHD2A3WwV/wqZWDgegDWDglRGANkD2sClM0KD+BcSEiiinICQ5JBGsqBRwk3\n",
       "yChG9Bi6w8AAAK4nP0yR+FLAAAAAAElFTkSuQmCC\n",
       "\" style=\"display:inline;vertical-align:middle;\" /></a></td></tr>\n",
       "<tr><td>4</td><td>Literal</td><td></td><td><a class=\"ProveItLink\" href=\"../../../__pv_it/7ca36d8558dd5f18c1e16b5e877a0b7e314926450/expr.ipynb\"><img src=\"data:image/png;base64,iVBORw0KGgoAAAANSUhEUgAAAAoAAAAOBAMAAADkjZCYAAAAMFBMVEX///+6uroQEBAyMjLMzMzc\n",
       "3NxERESIiIhUVFQiIiKYmJiqqqpmZmZ2dnbu7u4AAAACo3QQAAAAAXRSTlMAQObYZgAAAFlJREFU\n",
       "CNdjYHh79zQDA8MBBp4FDFwLGPgmMPA2gEjuHw94CxgY8n/VAmV5/k8Fkmuc/29g4DrAsP4fA9MD\n",
       "BtZfDI+AgscZmAIYGFoZuO0YuC8wMEicOc0AAC98GKTiu3IvAAAAAElFTkSuQmCC\n",
       "\" style=\"display:inline;vertical-align:middle;\" /></a></td></tr>\n",
       "<tr><td>5</td><td>Literal</td><td></td><td><a class=\"ProveItLink\" href=\"../../../__pv_it/9be8badea4c35b9724062cecc501d17a3158d1d20/expr.ipynb\"><img src=\"data:image/png;base64,iVBORw0KGgoAAAANSUhEUgAAAAgAAAAPBAMAAAArJJMAAAAAHlBMVEX///+YmJgyMjIQEBBmZmaI\n",
       "iIhUVFTu7u5EREQAAAAw+MI4AAAAAXRSTlMAQObYZgAAACFJREFUCNdjYGBoZ2BgqJjOwFCWBiQY\n",
       "WEklWJwnOTKAAACjEQo8HvEr3AAAAABJRU5ErkJggg==\n",
       "\" style=\"display:inline;vertical-align:middle;\" /></a></td></tr>\n",
       "</table>\n"
      ],
      "text/plain": [
       "0. (8 * 1 , 8)\n",
       "   core type: ExprTuple\n",
       "   sub-expressions: 1, 4\n",
       "1. 8 * 1\n",
       "   core type: Operation\n",
       "   operator: 2\n",
       "   operands: 3\n",
       "2. *\n",
       "   core type: Literal\n",
       "   sub-expressions: \n",
       "3. (8 , 1)\n",
       "   core type: ExprTuple\n",
       "   sub-expressions: 4, 5\n",
       "4. 8\n",
       "   core type: Literal\n",
       "   sub-expressions: \n",
       "5. 1\n",
       "   core type: Literal\n",
       "   sub-expressions: "
      ]
     },
     "execution_count": 4,
     "metadata": {},
     "output_type": "execute_result"
    }
   ],
   "source": [
    "# display the expression information\n",
    "expr.exprInfo()"
   ]
  },
  {
   "cell_type": "code",
   "execution_count": null,
   "metadata": {},
   "outputs": [],
   "source": []
  }
 ],
 "metadata": {
  "kernelspec": {
   "display_name": "Python 3",
   "language": "python",
   "name": "python3"
  }
 },
 "nbformat": 4,
 "nbformat_minor": 0
}
