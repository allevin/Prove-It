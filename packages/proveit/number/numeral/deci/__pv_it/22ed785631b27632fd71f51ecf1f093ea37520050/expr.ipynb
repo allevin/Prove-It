{
 "cells": [
  {
   "cell_type": "markdown",
   "metadata": {},
   "source": [
    "Expression of type <a class=\"ProveItLink\" href=\"../../../../../../../doc/html/api/proveit.number.Len.html\">Len</a>\n",
    "=======================\n",
    "# from context <a class=\"ProveItLink\" href=\"../../_context_.ipynb\">proveit.number.numeral.deci</a>"
   ]
  },
  {
   "cell_type": "code",
   "execution_count": 1,
   "metadata": {},
   "outputs": [],
   "source": [
    "# import Expression classes needed to build the expression\n",
    "from proveit._common_ import a, b, c, d, e, f, g, h\n",
    "from proveit.number import Len"
   ]
  },
  {
   "cell_type": "code",
   "execution_count": 2,
   "metadata": {},
   "outputs": [
    {
     "data": {
      "text/html": [
       "<strong id=\"expr\">expr:</strong> <a class=\"ProveItLink\" href=\"expr.ipynb\"><img src=\"data:image/png;base64,iVBORw0KGgoAAAANSUhEUgAAALIAAAAVBAMAAAAQvakNAAAAMFBMVEX///8iIiJERESYmJhmZmYQ\n",
       "EBDu7u4yMjJUVFTMzMyIiIi6urp2dnbc3NyqqqoAAABw9lLDAAAAAXRSTlMAQObYZgAAAopJREFU\n",
       "OMu1VU1rE1EUPSYzk6STpLNwJQqFuurGgBtRwehGLRYsiAttMZtAF0IiioirLCxKQOs/MEpBTQsO\n",
       "goKCNOIHmILMoovgpnHporTWUkkkxTvvvsm8ZBLior7Fy8m5l5P7+YI1/J+zhmXx+XYXNY+Je5mV\n",
       "YwXFMjPZw/3lhQBlFO93M7MW3dpDRTmSUR1u9YpkJ8CEvv7qpiJp984ryuUBIoC5HaByr+vd1LBg\n",
       "jivKFweIAHErQK0HvZZE7llf2cwPEPHy7Dgng17vuUz1trJWoau2+MphkeKzFDterT5nUFtckpmv\n",
       "VCekypHJOxKFxz+MMLpx9AlpxNNt5QgpmdM4JOs3goYAscu4xvUhG/c4eQArXoBND5zBKmdk/HY0\n",
       "mrJkvq2s28BqCqdk/TKYEiBbwqgAZDvNtlUbZ6VeouGFvC07h2QDUYrePN9WHiblOWAfe5LIlgBz\n",
       "XlAE9jOaPVx2JJnckEAv4BGTmoU9VNjYRofyJgwZxF6YPKibnjLZ/jDa6tHo9ToeMyJZSkpV1utI\n",
       "NCkIQ46zJuYu4RVSsTWVRfH29oWDg7JDNj4ho1YjlIKxg2j+B9w+NaBXBKDIwy5QbJeAIfCP6CW6\n",
       "XO6EG4zgCE2FHYT9Drpjch3f0xXjJ317QM0WgKbqiwC+7SmMCeQsGSC75TLRFnN3qaLxjqkzia6V\n",
       "34zZxhVqxcw8peACrVrOCODb4uP0EGRb3r4JzizOW8zdBs59piG2/e2ebm+20xco6B1E+G0ulJYc\n",
       "H2W7+Q0Rs9kfKIgWK1wY9TgbubrgvFPt9Yr+s7J+05Kc1sI9qMqG+oomvAkqoS/w0ZAr+dGRXHKM\n",
       "+iI4eaIOKy+Ib9928d+KX7GFvy9z1TO1Z/nRAAAAAElFTkSuQmCC\n",
       "\" style=\"display:inline;vertical-align:middle;\" /></a><br>"
      ],
      "text/plain": [
       "expr: |(a , b , c , d , e , f , g , h)|"
      ]
     },
     "execution_count": 2,
     "metadata": {},
     "output_type": "execute_result"
    }
   ],
   "source": [
    "# build up the expression from sub-expressions\n",
    "expr = Len([a, b, c, d, e, f, g, h])"
   ]
  },
  {
   "cell_type": "code",
   "execution_count": 3,
   "metadata": {},
   "outputs": [
    {
     "name": "stdout",
     "output_type": "stream",
     "text": [
      "Passed sanity check: built 'expr' is the same as the stored Expression.\n"
     ]
    }
   ],
   "source": [
    "# check that the built expression is the same as the stored expression\n",
    "%check_expr"
   ]
  },
  {
   "cell_type": "code",
   "execution_count": 4,
   "metadata": {},
   "outputs": [
    {
     "data": {
      "text/html": [
       "<table><tr><th>&nbsp;</th><th>core type</th><th>sub-expressions</th><th>expression</th></tr>\n",
       "<tr><td>0</td><td>Operation</td><td>operator:&nbsp;1<br>operand:&nbsp;2<br></td><td><a class=\"ProveItLink\" href=\"expr.ipynb\"><img src=\"data:image/png;base64,iVBORw0KGgoAAAANSUhEUgAAALIAAAAVBAMAAAAQvakNAAAAMFBMVEX///8iIiJERESYmJhmZmYQ\n",
       "EBDu7u4yMjJUVFTMzMyIiIi6urp2dnbc3NyqqqoAAABw9lLDAAAAAXRSTlMAQObYZgAAAopJREFU\n",
       "OMu1VU1rE1EUPSYzk6STpLNwJQqFuurGgBtRwehGLRYsiAttMZtAF0IiioirLCxKQOs/MEpBTQsO\n",
       "goKCNOIHmILMoovgpnHporTWUkkkxTvvvsm8ZBLior7Fy8m5l5P7+YI1/J+zhmXx+XYXNY+Je5mV\n",
       "YwXFMjPZw/3lhQBlFO93M7MW3dpDRTmSUR1u9YpkJ8CEvv7qpiJp984ryuUBIoC5HaByr+vd1LBg\n",
       "jivKFweIAHErQK0HvZZE7llf2cwPEPHy7Dgng17vuUz1trJWoau2+MphkeKzFDterT5nUFtckpmv\n",
       "VCekypHJOxKFxz+MMLpx9AlpxNNt5QgpmdM4JOs3goYAscu4xvUhG/c4eQArXoBND5zBKmdk/HY0\n",
       "mrJkvq2s28BqCqdk/TKYEiBbwqgAZDvNtlUbZ6VeouGFvC07h2QDUYrePN9WHiblOWAfe5LIlgBz\n",
       "XlAE9jOaPVx2JJnckEAv4BGTmoU9VNjYRofyJgwZxF6YPKibnjLZ/jDa6tHo9ToeMyJZSkpV1utI\n",
       "NCkIQ46zJuYu4RVSsTWVRfH29oWDg7JDNj4ho1YjlIKxg2j+B9w+NaBXBKDIwy5QbJeAIfCP6CW6\n",
       "XO6EG4zgCE2FHYT9Drpjch3f0xXjJ317QM0WgKbqiwC+7SmMCeQsGSC75TLRFnN3qaLxjqkzia6V\n",
       "34zZxhVqxcw8peACrVrOCODb4uP0EGRb3r4JzizOW8zdBs59piG2/e2ebm+20xco6B1E+G0ulJYc\n",
       "H2W7+Q0Rs9kfKIgWK1wY9TgbubrgvFPt9Yr+s7J+05Kc1sI9qMqG+oomvAkqoS/w0ZAr+dGRXHKM\n",
       "+iI4eaIOKy+Ib9928d+KX7GFvy9z1TO1Z/nRAAAAAElFTkSuQmCC\n",
       "\" style=\"display:inline;vertical-align:middle;\" /></a></td></tr>\n",
       "<tr><td>1</td><td>Literal</td><td></td><td><a class=\"ProveItLink\" href=\"../../../../sets/integer/__pv_it/0a9286fafc7688968c9f0b1c9372a7c495b9f9510/expr.ipynb\"><img src=\"data:image/png;base64,iVBORw0KGgoAAAANSUhEUgAAADsAAAASBAMAAAAXqLt+AAAAMFBMVEX///+qqqru7u5ERERUVFTM\n",
       "zMzc3NyIiIgQEBAyMjJmZmaYmJi6uroiIiJ2dnYAAAD2HuJxAAAAAXRSTlMAQObYZgAAAURJREFU\n",
       "KM99kT9LAnEYxz93Xmnn33fgvYJ0iISWhIJ0k95ABw2BixcFkhC1RFu4BU03lNIibg0N3hDUlhA0\n",
       "xlFDQQgmaBQOPXc5BGoPHPf93ef3fJ/vw0FnyKRSc23/He5OYEcwZ/tSr45jpQfxhC9D1jjWxfje\n",
       "8GWpMI6jYtz5lS15iq81bhe3dl2JUn9P3ywvWJxd7ZiCVmTUI0XcvKX24ZySTVLSfZl6VvCx+Dtc\n",
       "RJwH1CHhnpfpUlr6aGmYkY7cddlUhUngUJYNkyc/XVRmBQ/he7SMViWZYN9z8ZiYEsgafI72jzeN\n",
       "A5MllC5myuENQz653vggIZeW4coeH3JTcUSchE3i6xZ7qDXP6kUppAxtgGbPk0ftx6StYRCrl+EO\n",
       "NreJrFXazGYsTqHxPOFXBWyml0MqMZ3qA1b/aVYylebf8w8ORloN8BKQFQAAAABJRU5ErkJggg==\n",
       "\" style=\"display:inline;vertical-align:middle;\" /></a></td></tr>\n",
       "<tr><td>2</td><td>ExprTuple</td><td>3, 4, 5, 6, 7, 8, 9, 10</td><td><a class=\"ProveItLink\" href=\"../1df5b3cd77c2904730c1a4e203f64b2ea9a10b0f0/expr.ipynb\"><img src=\"data:image/png;base64,iVBORw0KGgoAAAANSUhEUgAAAKAAAAAVBAMAAAAz5vjYAAAAMFBMVEX////c3NwiIiJERESqqqqY\n",
       "mJh2dnZmZmYQEBDu7u4yMjJUVFTMzMyIiIi6uroAAAAs73DqAAAAAXRSTlMAQObYZgAAAmNJREFU\n",
       "OMutVT2IE0EU/nL52WziZre3OKuzsIngH9gE7WwSERQUMVjcdRIPkkbhoqiFcrqIoGiRWIiIIBER\n",
       "DuFwwUawcG0UkT2ilWhxOY1ImuCbeTPuXvbiWWRgZz6+t+//zS4w8VXwJ2cr3aXtTYQwl7Zt4HFf\n",
       "Lcbd++SMMhfFfp6eR1E619nAr12KUXvKlVHqodQHLH8TXWDVHWXM4a3YW32ZcxVZ99+6tE7HmFQv\n",
       "XpiB9NTEt010dTLrlhEvdYapXWjQnlg+c4Hpx8FzldRs4ElAsj5TicYH1Yn00g7dp2Pvj6jq14Od\n",
       "dMzhAe1fnSTnYP6EzXZed3PskmQDVjngJLQZWxfe6CR+M2rdxzk6DuE6uf4Fo8i1GSBblZYXkZR9\n",
       "FLI2BziE4Sk70xqccqHiL3t4JvxjCOR7mGKXpGvLKPK66kJWZXT55DtdsLIG17BljdE8MEPHW2HQ\n",
       "LqLFLqdqWJWB2UWdHMm6jGrx3qX6sFR/ZkQKwuAlSsAnl64awwUJpnWRIrLIwO5Xp7WGZE1NJjJN\n",
       "U6S8m+pZwouUZwolD1cgAcVZESCUZcmgz7axKEyIdvdEDC6jbPUwcJz6jFwltT2DFsWeLxkdBjVk\n",
       "PAFCmdXGbcf8ocKB5MwBXjKXb1PZqmJsvohRW3m1gjtUXXO5DgnQCD5KEMowF/gwbzj6VkjuezDP\n",
       "XM6HMUuhPkH272fj83gQooJ43WqH3F7FqfvQFNdZrcp4EKI0PSd4RGkrwOwzpy+gH/l8/bfBqzc1\n",
       "t+DkO+sM3qVnqx4BjAURJGbn6FnNHQzqilPrqbhSE/wFWB7+AEWYsfiUD5poAAAAAElFTkSuQmCC\n",
       "\" style=\"display:inline;vertical-align:middle;\" /></a></td></tr>\n",
       "<tr><td>3</td><td>Variable</td><td></td><td><a class=\"ProveItLink\" href=\"../../../../../__pv_it/07527342713064c87612d00d8557c53d53d5324a0/expr.ipynb\"><img src=\"data:image/png;base64,iVBORw0KGgoAAAANSUhEUgAAAAsAAAAJBAMAAAAWSsseAAAAMFBMVEX///8yMjKqqqrMzMzu7u4i\n",
       "IiJmZmaYmJhEREQQEBC6urp2dnaIiIhUVFTc3NwAAAD87Fq/AAAAAXRSTlMAQObYZgAAAEhJREFU\n",
       "CNdjYOC7s2seAwPDygccHxgY+L4zsDUwMPB+YGA9wMDA38Dgb8DA8P4Agz6DA4O/AsNFJgMGxgKm\n",
       "MG6gyjunLE4xAAAZTBA5TB6DCwAAAABJRU5ErkJggg==\n",
       "\" style=\"display:inline;vertical-align:middle;\" /></a></td></tr>\n",
       "<tr><td>4</td><td>Variable</td><td></td><td><a class=\"ProveItLink\" href=\"../../../../../__pv_it/6840a4fa6c106149dc16a131294d0c5e44f1b0480/expr.ipynb\"><img src=\"data:image/png;base64,iVBORw0KGgoAAAANSUhEUgAAAAkAAAAOBAMAAAAPuiubAAAALVBMVEX///9mZmbMzMxERESYmJiI\n",
       "iIh2dna6urqqqqoyMjIiIiIQEBBUVFTu7u4AAAD9S1JeAAAAAXRSTlMAQObYZgAAAE1JREFUCNdj\n",
       "4D29gAEIOA+ASL4GEFl3AURmgQiGOaFHGBh4HzPwKTBwvGXgTmBgnMDAJ8DAJcBQ5wBSLncBJLWN\n",
       "gYGngRFoBO9REQYGAGrcDtUkVqASAAAAAElFTkSuQmCC\n",
       "\" style=\"display:inline;vertical-align:middle;\" /></a></td></tr>\n",
       "<tr><td>5</td><td>Variable</td><td></td><td><a class=\"ProveItLink\" href=\"../../../../../__pv_it/cbdfda466482236edba0ce44ac7ef39cda0af7a40/expr.ipynb\"><img src=\"data:image/png;base64,iVBORw0KGgoAAAANSUhEUgAAAAkAAAAJBAMAAAASvxsjAAAALVBMVEX///9mZmbc3NxUVFSYmJhE\n",
       "REQiIiIyMjK6uroQEBDMzMyIiIh2dnbu7u4AAABgFDGoAAAAAXRSTlMAQObYZgAAADZJREFUCNdj\n",
       "YOA9s3sBA8PKBvYEBt7ZDKwODMwPGICALwBE6m0Asx0YGIDiAgw8QJUyu/cyAAAmuwmycZ8WfQAA\n",
       "AABJRU5ErkJggg==\n",
       "\" style=\"display:inline;vertical-align:middle;\" /></a></td></tr>\n",
       "<tr><td>6</td><td>Variable</td><td></td><td><a class=\"ProveItLink\" href=\"../../../../../__pv_it/3a5de44ed6135dbbdbbeec6704c741e238f127300/expr.ipynb\"><img src=\"data:image/png;base64,iVBORw0KGgoAAAANSUhEUgAAAAsAAAAOBAMAAAALT/umAAAAMFBMVEX////MzMyYmJiIiIhUVFTc\n",
       "3NwyMjIiIiJ2dnbu7u6qqqpmZmYQEBBERES6uroAAABkyy6XAAAAAXRSTlMAQObYZgAAAFhJREFU\n",
       "CNdjYGBg4LuzgQEE+BeAqfcTwFQ7mGTIBmJW575fQOpNAO9PIOcTA3cCAwPLBwb2BqCeCwzzHzAw\n",
       "xBswrGeYwDB/AYMblwADmwJXNQdIm52sHQMAfyoTCZukXIEAAAAASUVORK5CYII=\n",
       "\" style=\"display:inline;vertical-align:middle;\" /></a></td></tr>\n",
       "<tr><td>7</td><td>Variable</td><td></td><td><a class=\"ProveItLink\" href=\"../../../../../__pv_it/0bc0f4a545336331111a0b22c4f05a0627b57b8f0/expr.ipynb\"><img src=\"data:image/png;base64,iVBORw0KGgoAAAANSUhEUgAAAAkAAAAJBAMAAAASvxsjAAAALVBMVEX////u7u4yMjKYmJgQEBBU\n",
       "VFTMzMy6uroiIiKqqqqIiIh2dnZmZmbc3NwAAAAyj3LLAAAAAXRSTlMAQObYZgAAADlJREFUCNdj\n",
       "YOA9veYCA8OMC7wHGHifM/AkMLA6W61lYOA7wAAEfAtAJAuQXMDApcAgA1S5Z9UCBgB6Cgz1W65k\n",
       "FgAAAABJRU5ErkJggg==\n",
       "\" style=\"display:inline;vertical-align:middle;\" /></a></td></tr>\n",
       "<tr><td>8</td><td>Variable</td><td></td><td><a class=\"ProveItLink\" href=\"../../../../../__pv_it/4d51ee1e62d011d06d4528b97697bf3da60c9de60/expr.ipynb\"><img src=\"data:image/png;base64,iVBORw0KGgoAAAANSUhEUgAAAAsAAAASBAMAAAB/WzlGAAAAMFBMVEX///8yMjLMzMwQEBAiIiJm\n",
       "Zma6urqYmJiqqqp2dnZERETc3NyIiIhUVFTu7u4AAAAe+HC4AAAAAXRSTlMAQObYZgAAAFVJREFU\n",
       "CNdjYGBgeHt2A5BkWNlfACT5vr0AcTg+gEgGVgcQyX7ZNwBE8x8AC+5XAFP9YJJhCoRaC6FswCTf\n",
       "NzDF9g9M8QiAyFoukPEMhk/AYpXRIBIAEwsRcZ82juYAAAAASUVORK5CYII=\n",
       "\" style=\"display:inline;vertical-align:middle;\" /></a></td></tr>\n",
       "<tr><td>9</td><td>Variable</td><td></td><td><a class=\"ProveItLink\" href=\"../../../../../__pv_it/b5004dd09038f1a7d88dab9010b943185ce1d3ea0/expr.ipynb\"><img src=\"data:image/png;base64,iVBORw0KGgoAAAANSUhEUgAAAAoAAAANBAMAAABiGeI2AAAALVBMVEX///+6uroiIiLMzMwQEBCq\n",
       "qqru7u7c3NxUVFRERER2dnaIiIhmZmaYmJgAAABs7E5IAAAAAXRSTlMAQObYZgAAAFRJREFUCNdj\n",
       "YGC4s+smAwNPA/sbBoZ7CQxPGRg8GJifM7A+ZeBWYOB+zsB5gIH3AQNfAAPbM4a+AgYGid2HGEBg\n",
       "DgMDIwMbUPm5Ao4GBobI3WcZGAA0kxQNEIuRVgAAAABJRU5ErkJggg==\n",
       "\" style=\"display:inline;vertical-align:middle;\" /></a></td></tr>\n",
       "<tr><td>10</td><td>Variable</td><td></td><td><a class=\"ProveItLink\" href=\"../../../../../__pv_it/3b5a3cc74431604b3beba568cf7dfeb60b1886650/expr.ipynb\"><img src=\"data:image/png;base64,iVBORw0KGgoAAAANSUhEUgAAAAsAAAAOBAMAAAALT/umAAAAMFBMVEX////MzMzc3NxERESIiIiY\n",
       "mJh2dna6urqqqqpmZmYyMjIiIiIQEBBUVFTu7u4AAAAdUKnwAAAAAXRSTlMAQObYZgAAAFlJREFU\n",
       "CNdj4LuzgQEEuCaAKf4GMFX/AExlg0mGlSHOCgwMfL8UOC8wMHB8ZOA1YGDg3MDAncAAwvoFDAzv\n",
       "CxhyGB4wxDMwHGNVYLjFwPeRjYFhCQPDtDwGADR5Es9USdyIAAAAAElFTkSuQmCC\n",
       "\" style=\"display:inline;vertical-align:middle;\" /></a></td></tr>\n",
       "</table>\n"
      ],
      "text/plain": [
       "0. |(a , b , c , d , e , f , g , h)|\n",
       "   core type: Operation\n",
       "   operator: 1\n",
       "   operand: 2\n",
       "1. length\n",
       "   core type: Literal\n",
       "   sub-expressions: \n",
       "2. (a , b , c , d , e , f , g , h)\n",
       "   core type: ExprTuple\n",
       "   sub-expressions: 3, 4, 5, 6, 7, 8, 9, 10\n",
       "3. a\n",
       "   core type: Variable\n",
       "   sub-expressions: \n",
       "4. b\n",
       "   core type: Variable\n",
       "   sub-expressions: \n",
       "5. c\n",
       "   core type: Variable\n",
       "   sub-expressions: \n",
       "6. d\n",
       "   core type: Variable\n",
       "   sub-expressions: \n",
       "7. e\n",
       "   core type: Variable\n",
       "   sub-expressions: \n",
       "8. f\n",
       "   core type: Variable\n",
       "   sub-expressions: \n",
       "9. g\n",
       "   core type: Variable\n",
       "   sub-expressions: \n",
       "10. h\n",
       "    core type: Variable\n",
       "    sub-expressions: "
      ]
     },
     "execution_count": 4,
     "metadata": {},
     "output_type": "execute_result"
    }
   ],
   "source": [
    "# display the expression information\n",
    "expr.exprInfo()"
   ]
  },
  {
   "cell_type": "code",
   "execution_count": null,
   "metadata": {},
   "outputs": [],
   "source": []
  }
 ],
 "metadata": {
  "kernelspec": {
   "display_name": "Python 3",
   "language": "python",
   "name": "python3"
  }
 },
 "nbformat": 4,
 "nbformat_minor": 0
}
