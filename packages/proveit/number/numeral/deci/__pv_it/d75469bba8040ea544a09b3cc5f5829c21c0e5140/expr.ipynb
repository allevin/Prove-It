{
 "cells": [
  {
   "cell_type": "markdown",
   "metadata": {},
   "source": [
    "Expression of type <a class=\"ProveItLink\" href=\"../../../../../../../doc/html/api/proveit.ExprTuple.html\">ExprTuple</a>\n",
    "=======================\n",
    "# from context <a class=\"ProveItLink\" href=\"../../_context_.ipynb\">proveit.number.numeral.deci</a>"
   ]
  },
  {
   "cell_type": "code",
   "execution_count": 1,
   "metadata": {},
   "outputs": [],
   "source": [
    "# import Expression classes needed to build the expression\n",
    "from proveit import ExprTuple\n",
    "from proveit.number import Less"
   ]
  },
  {
   "cell_type": "code",
   "execution_count": 2,
   "metadata": {},
   "outputs": [
    {
     "data": {
      "text/html": [
       "<strong id=\"expr\">expr:</strong> <a class=\"ProveItLink\" href=\"expr.ipynb\"><img src=\"data:image/png;base64,iVBORw0KGgoAAAANSUhEUgAAAOcAAAAVBAMAAABPgOQBAAAAMFBMVEX////c3NwiIiJERESqqqqY\n",
       "mJh2dnZmZmYQEBDu7u4yMjJUVFTMzMyIiIi6uroAAAAs73DqAAAAAXRSTlMAQObYZgAAAVNJREFU\n",
       "SMdjYBgQwHeBvvbFgYjTdPYk+wEgsZLeQbuAgYEXFrriB5AkkDmMNTgkyFQVxsDAMQHCPb0OSR0y\n",
       "h2fXA+wS5KqawcDwCsJ9tQdJHTKHb/UB7BJkq2J2YCgDc70KkdQhc1iWC2CXIF8VWwHDUhB9KRNJ\n",
       "HTKHV20CdgkKVLEsYOgDUknIWRWZw6aLQ4ISVXwNDP8YGDiNkRIBCmeyHQ4JSlTxfABZCkxUDsgp\n",
       "DIlzegkOCQpUAS1tAWefogCkvITMEVfFIUG+KmDwmkICIukmkIQmBxTONF0gg5OBeqoYWBcwpEOd\n",
       "EZTJwPmJAQuHFZjo5itQTxUoyzyC56gDnP0C2DgsaxhmfKSeKgauBwwcSNmaT4ABB+chA/VUAYtB\n",
       "1gQElxW5MkDhBDBQT1UuatVGF0s5gVUbgzSCj9KGQObw4pIgQxU3KKgZ6dxcucPAAADNv6DWNWLp\n",
       "LwAAAABJRU5ErkJggg==\n",
       "\" style=\"display:inline;vertical-align:middle;\" /></a><br>"
      ],
      "text/plain": [
       "expr: (< , < , < , < , < , < , < , < , <)"
      ]
     },
     "execution_count": 2,
     "metadata": {},
     "output_type": "execute_result"
    }
   ],
   "source": [
    "# build up the expression from sub-expressions\n",
    "expr = ExprTuple(Less._operator_, Less._operator_, Less._operator_, Less._operator_, Less._operator_, Less._operator_, Less._operator_, Less._operator_, Less._operator_)"
   ]
  },
  {
   "cell_type": "code",
   "execution_count": 3,
   "metadata": {},
   "outputs": [
    {
     "name": "stdout",
     "output_type": "stream",
     "text": [
      "Passed sanity check: built 'expr' is the same as the stored Expression.\n"
     ]
    }
   ],
   "source": [
    "# check that the built expression is the same as the stored expression\n",
    "%check_expr"
   ]
  },
  {
   "cell_type": "code",
   "execution_count": 4,
   "metadata": {},
   "outputs": [
    {
     "data": {
      "text/html": [
       "<table><tr><th>&nbsp;</th><th>core type</th><th>sub-expressions</th><th>expression</th></tr>\n",
       "<tr><td>0</td><td>ExprTuple</td><td>1, 1, 1, 1, 1, 1, 1, 1, 1</td><td><a class=\"ProveItLink\" href=\"expr.ipynb\"><img src=\"data:image/png;base64,iVBORw0KGgoAAAANSUhEUgAAAOcAAAAVBAMAAABPgOQBAAAAMFBMVEX////c3NwiIiJERESqqqqY\n",
       "mJh2dnZmZmYQEBDu7u4yMjJUVFTMzMyIiIi6uroAAAAs73DqAAAAAXRSTlMAQObYZgAAAVNJREFU\n",
       "SMdjYBgQwHeBvvbFgYjTdPYk+wEgsZLeQbuAgYEXFrriB5AkkDmMNTgkyFQVxsDAMQHCPb0OSR0y\n",
       "h2fXA+wS5KqawcDwCsJ9tQdJHTKHb/UB7BJkq2J2YCgDc70KkdQhc1iWC2CXIF8VWwHDUhB9KRNJ\n",
       "HTKHV20CdgkKVLEsYOgDUknIWRWZw6aLQ4ISVXwNDP8YGDiNkRIBCmeyHQ4JSlTxfABZCkxUDsgp\n",
       "DIlzegkOCQpUAS1tAWefogCkvITMEVfFIUG+KmDwmkICIukmkIQmBxTONF0gg5OBeqoYWBcwpEOd\n",
       "EZTJwPmJAQuHFZjo5itQTxUoyzyC56gDnP0C2DgsaxhmfKSeKgauBwwcSNmaT4ABB+chA/VUAYtB\n",
       "1gQElxW5MkDhBDBQT1UuatVGF0s5gVUbgzSCj9KGQObw4pIgQxU3KKgZ6dxcucPAAADNv6DWNWLp\n",
       "LwAAAABJRU5ErkJggg==\n",
       "\" style=\"display:inline;vertical-align:middle;\" /></a></td></tr>\n",
       "<tr><td>1</td><td>Literal</td><td></td><td><a class=\"ProveItLink\" href=\"../../../../ordering/__pv_it/7c444b9b2efa607ed6397b492680dde2810212f00/expr.ipynb\"><img src=\"data:image/png;base64,iVBORw0KGgoAAAANSUhEUgAAAA4AAAAMBAMAAACgrpHpAAAALVBMVEX///+YmJhERETu7u52dnYi\n",
       "IiKIiIiqqqq6uroyMjJUVFTMzMxmZmbc3NwAAADmAst+AAAAAXRSTlMAQObYZgAAAD5JREFUCNdj\n",
       "YAAB3tNgintlA4jimLUBRLHPuQCi2EIMQBRLGFgJg5EGhGbYNR3KuBMIZZiEGUAYjCFQBvtsABzC\n",
       "Cm98G6SsAAAAAElFTkSuQmCC\n",
       "\" style=\"display:inline;vertical-align:middle;\" /></a></td></tr>\n",
       "</table>\n"
      ],
      "text/plain": [
       "0. (< , < , < , < , < , < , < , < , <)\n",
       "   core type: ExprTuple\n",
       "   sub-expressions: 1, 1, 1, 1, 1, 1, 1, 1, 1\n",
       "1. <\n",
       "   core type: Literal\n",
       "   sub-expressions: "
      ]
     },
     "execution_count": 4,
     "metadata": {},
     "output_type": "execute_result"
    }
   ],
   "source": [
    "# display the expression information\n",
    "expr.exprInfo()"
   ]
  },
  {
   "cell_type": "code",
   "execution_count": null,
   "metadata": {},
   "outputs": [],
   "source": []
  }
 ],
 "metadata": {
  "kernelspec": {
   "display_name": "Python 3",
   "language": "python",
   "name": "python3"
  }
 },
 "nbformat": 4,
 "nbformat_minor": 0
}
