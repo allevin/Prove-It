{
 "cells": [
  {
   "cell_type": "markdown",
   "metadata": {},
   "source": [
    "Expression of type <a class=\"ProveItLink\" href=\"../../../../../../../doc/html/api/proveit.logic.Forall.html\">Forall</a>\n",
    "=======================\n",
    "# from context <a class=\"ProveItLink\" href=\"../../_context_.ipynb\">proveit.number.numeral.deci</a>"
   ]
  },
  {
   "cell_type": "code",
   "execution_count": 1,
   "metadata": {},
   "outputs": [],
   "source": [
    "# import Expression classes needed to build the expression\n",
    "from proveit._common_ import a, b\n",
    "from proveit.logic import Equals, Forall\n",
    "from proveit.number import Len, two"
   ]
  },
  {
   "cell_type": "code",
   "execution_count": 2,
   "metadata": {},
   "outputs": [
    {
     "data": {
      "text/html": [
       "<strong id=\"expr\">expr:</strong> <a class=\"ProveItLink\" href=\"expr.ipynb\"><img src=\"data:image/png;base64,iVBORw0KGgoAAAANSUhEUgAAAJEAAAAVBAMAAAC01xHeAAAAMFBMVEX///8QEBC6urrMzMxUVFRm\n",
       "ZmZERETc3NwyMjKqqqp2dnaIiIiYmJgiIiLu7u4AAAAU9Wx4AAAAAXRSTlMAQObYZgAAAlpJREFU\n",
       "OMt9VE1o1FAQ/pJtdtNuNlUvRUFN0YMgwh68W/QgItgFfyhKsacWUTCHxR6kGKRIhVILUvQiLoUi\n",
       "1kuo9WIvwZPUy170oMim0IM3i4uVtdo6L2+SZpcXBzZ5+ebbb968mXmAwp7gP5bpDDsB3cd8tDje\n",
       "4bCc6DWvUnlHv7pYfEiBJ5mcG0iB6wfpcVGpVLj8wIFRBl6Kr5mUZ4bJZttuJwWiVKqi2AI84I6Q\n",
       "Hdl1FH0mr7TxWyK9mkrpAtAAVmVoY3bXoYVMPtR2eNv0sPeolPaGGHSwRoFejI9PpBzHmKx7aXpP\n",
       "dJw3VEqPQlx3kKfNbI6Ofk45rjLZEKlU3/a7EWqeXw6AhYzaNUL0VIAzwBj0qRidZrJJ/9T7cFui\n",
       "30fQBJ4mSkNTwialM/cb6KYUjsL2OJywfUzWqHvuBbgi0echDgD96j2ZVDCdzrCEIoV/GMM/mNxL\n",
       "SoPAF4kOAT+BU2olES23QWUPSlSuXyqlTdhNiX6E/idLqTjASrZHXa1vLXMj7o+zm0VhC90bNreT\n",
       "sZ3ObvirsE+Rbw4FN8oOY6dJt27xcNxicj6A3UKX9ziazCY0quV71Z5yFVguLNE0c9Qred+qS8cC\n",
       "k0VZp/GsUrP/0tc5XEJGF0wsLg5LOjSaD61s8MSciDuTlKsrR2469mFqqfU3VBXcVyk1dnYoliku\n",
       "Cou234tSwNPiMrkvmRSXF+ppkbYWL0qy63hMI/Jqci8lI+NnK71K4l6rZd4qidK37JvO9hRglcmF\n",
       "+KbzY8/ZbKUuVwEWfCxFi7udHViOXksqpdfAPxkGobStbh2CAAAAAElFTkSuQmCC\n",
       "\" style=\"display:inline;vertical-align:middle;\" /></a><br>"
      ],
      "text/plain": [
       "expr: forall_{b} (|(a , b)| = 2)"
      ]
     },
     "execution_count": 2,
     "metadata": {},
     "output_type": "execute_result"
    }
   ],
   "source": [
    "# build up the expression from sub-expressions\n",
    "expr = Forall([b], Equals(Len([a, b]), two), conditions = [])"
   ]
  },
  {
   "cell_type": "code",
   "execution_count": 3,
   "metadata": {},
   "outputs": [
    {
     "name": "stdout",
     "output_type": "stream",
     "text": [
      "Passed sanity check: built 'expr' is the same as the stored Expression.\n"
     ]
    }
   ],
   "source": [
    "# check that the built expression is the same as the stored expression\n",
    "%check_expr"
   ]
  },
  {
   "cell_type": "code",
   "execution_count": 4,
   "metadata": {},
   "outputs": [
    {
     "data": {
      "text/html": [
       "<table><tr><th>&nbsp;</th><th>core type</th><th>sub-expressions</th><th>expression</th></tr>\n",
       "<tr><td>0</td><td>Operation</td><td>operator:&nbsp;1<br>operand:&nbsp;2<br></td><td><a class=\"ProveItLink\" href=\"expr.ipynb\"><img src=\"data:image/png;base64,iVBORw0KGgoAAAANSUhEUgAAAJEAAAAVBAMAAAC01xHeAAAAMFBMVEX///8QEBC6urrMzMxUVFRm\n",
       "ZmZERETc3NwyMjKqqqp2dnaIiIiYmJgiIiLu7u4AAAAU9Wx4AAAAAXRSTlMAQObYZgAAAlpJREFU\n",
       "OMt9VE1o1FAQ/pJtdtNuNlUvRUFN0YMgwh68W/QgItgFfyhKsacWUTCHxR6kGKRIhVILUvQiLoUi\n",
       "1kuo9WIvwZPUy170oMim0IM3i4uVtdo6L2+SZpcXBzZ5+ebbb968mXmAwp7gP5bpDDsB3cd8tDje\n",
       "4bCc6DWvUnlHv7pYfEiBJ5mcG0iB6wfpcVGpVLj8wIFRBl6Kr5mUZ4bJZttuJwWiVKqi2AI84I6Q\n",
       "Hdl1FH0mr7TxWyK9mkrpAtAAVmVoY3bXoYVMPtR2eNv0sPeolPaGGHSwRoFejI9PpBzHmKx7aXpP\n",
       "dJw3VEqPQlx3kKfNbI6Ofk45rjLZEKlU3/a7EWqeXw6AhYzaNUL0VIAzwBj0qRidZrJJ/9T7cFui\n",
       "30fQBJ4mSkNTwialM/cb6KYUjsL2OJywfUzWqHvuBbgi0echDgD96j2ZVDCdzrCEIoV/GMM/mNxL\n",
       "SoPAF4kOAT+BU2olES23QWUPSlSuXyqlTdhNiX6E/idLqTjASrZHXa1vLXMj7o+zm0VhC90bNreT\n",
       "sZ3ObvirsE+Rbw4FN8oOY6dJt27xcNxicj6A3UKX9ziazCY0quV71Z5yFVguLNE0c9Qred+qS8cC\n",
       "k0VZp/GsUrP/0tc5XEJGF0wsLg5LOjSaD61s8MSciDuTlKsrR2469mFqqfU3VBXcVyk1dnYoliku\n",
       "Cou234tSwNPiMrkvmRSXF+ppkbYWL0qy63hMI/Jqci8lI+NnK71K4l6rZd4qidK37JvO9hRglcmF\n",
       "+KbzY8/ZbKUuVwEWfCxFi7udHViOXksqpdfAPxkGobStbh2CAAAAAElFTkSuQmCC\n",
       "\" style=\"display:inline;vertical-align:middle;\" /></a></td></tr>\n",
       "<tr><td>1</td><td>Literal</td><td></td><td><a class=\"ProveItLink\" href=\"../../../../../logic/boolean/quantification/universal/__pv_it/265f8c02ac1094d56e0e6410a1c1fd3500dc9f540/expr.ipynb\"><img src=\"data:image/png;base64,iVBORw0KGgoAAAANSUhEUgAAAAwAAAAQBAMAAADQT4M0AAAAMFBMVEX///8QEBC6urrMzMxUVFRm\n",
       "ZmZERETc3NwyMjKqqqp2dnaIiIiYmJgiIiLu7u4AAAAU9Wx4AAAAAXRSTlMAQObYZgAAAFhJREFU\n",
       "CNdjeMAABhdAxGmGlSCqj6EMSLInMHAAJVknMPAsLy+vBYp8S0u7BaScGRjSgZQKA18DkOJl4D4A\n",
       "pLgP8IJM4mswARuX7gSmpoKNZWDcAKZ4gCoAgTQTILaSE58AAAAASUVORK5CYII=\n",
       "\" style=\"display:inline;vertical-align:middle;\" /></a></td></tr>\n",
       "<tr><td>2</td><td>Lambda</td><td>parameter:&nbsp;11<br>body:&nbsp;3<br></td><td><a class=\"ProveItLink\" href=\"../80248a8e64cff5aaa8b90f0af18fed1b2051058f0/expr.ipynb\"><img src=\"data:image/png;base64,iVBORw0KGgoAAAANSUhEUgAAAJ0AAAAVCAMAAABrGxxRAAAANlBMVEX///8UFBQNDQ3c3NxmZmbM\n",
       "zMxERESYmJiIiIh2dna6urqqqqoyMjIiIiIQEBBUVFTu7u4AAABebULIAAAAAXRSTlMAQObYZgAA\n",
       "AgtJREFUSMedVuvS6yAIzDlqgnd9/5f9IokRNe1g+dGZMtllkYtu27pZsf1ovyNZZuD80Wb0fLOD\n",
       "fN0hWbAUg+dCVBxjXJ4Xa7RSLagTUrrdUJiLXHUujTEuz/vHldbx1YmCgWwJ7PrDMIAxBnyp60N7\n",
       "aLa6iMn63GAmJ6a6kMYY4TO00abAVheQMGbzwDS37YwbYxj3+WtCu1uuOocpSVR3wVwEiMc2NQmu\n",
       "AFp0qccY1XP2C2gTRN92D62WazPrr2MvsJT30iR1sPxbI9zxjjFG9aCwPXczS2itm9VJR6wfS5Wv\n",
       "pAvMotCg39Wl2A4kmDHG7RG5qJR7d+qE1oSls3N7zbkkgQNWD///P99ZyA9jntTdnoin5rv5pbQq\n",
       "r6h7siwwL3HAjvez22Ij/KgOi5iy6nqH0C6pg7gRdbiW5DP+gzpJOj3YqbL2KixgKU+Fw7a7ad8q\n",
       "K2mBSE/YkpUQFYYpP203qFO0Wvs0FZcnoZLoNquaQEp7OPbZKWyFQ1RYPKllG5p++XfLti6GFuP2\n",
       "lNG1Zyl1UXqnR2n5G0V4fZr0DyxFkAdvG/tpG/u67cCoHUxZ8Fncw95oneGq8xnN9zDmTSamm2x+\n",
       "sJnJtXCTvcOYby49xmgXfHPNdxr8pE7DmjrWC2pSlxZeUO8wponp9SnGt+GcMLltVtTF9Ve+KMHB\n",
       "jJ6v25UsaeCrQ9gf0rAW9G/IsK4AAAAASUVORK5CYII=\n",
       "\" style=\"display:inline;vertical-align:middle;\" /></a></td></tr>\n",
       "<tr><td>3</td><td>Operation</td><td>operator:&nbsp;4<br>operands:&nbsp;5<br></td><td><a class=\"ProveItLink\" href=\"../e0db7189afbfd0261c4ba1552d2b1a351ffd749a0/expr.ipynb\"><img src=\"data:image/png;base64,iVBORw0KGgoAAAANSUhEUgAAAGMAAAAVBAMAAACgbk16AAAAMFBMVEX///8iIiJERESYmJhmZmYQ\n",
       "EBDu7u4yMjJUVFTMzMyIiIi6urp2dnbc3NyqqqoAAABw9lLDAAAAAXRSTlMAQObYZgAAAX9JREFU\n",
       "OMuFkz1PwlAUht8ItEKpX3FyKbODsrk4ADFBJ3XQSWI32SQ6SOIgk4OJ4j+QwcGgQxcGnRjcZKgb\n",
       "cVETE+NgFDUkGAPeL+qVXOAMJ+1z+qQ355yLV/QIdfGG5asO6nOkolIJ5iSSXiZpQamYc1uOoLot\n",
       "F7KUKJUqQk1Bi/8KTXqyskrZByxBV2Vu1EnSllTKio28w6iRkXl4hOYplbJnY5ErfnqK6kXJZVw/\n",
       "OIsC1106ZtmM6uQTI4VpDjcjaADPnpLcoZHlxeAPpwHSufsoEpy+2VgDSuq/6BFOh4mSByY4TQJf\n",
       "wIlaSeBP+YDW4HQcxmc3JZQTNPAA8xtD75oYi78uHyw+SmOM1Z5guowORKE1MZh5Ad2CBgKkgzOq\n",
       "vwRj8HElHAO28RgrazXydoR5dGnybaUS59Qgw6sWLycdbZ2MJn1Keo5dlWK1WjVBU96yuOJBvTDS\n",
       "8s9698TbmkIfxVt+T9nod8XM9hUrtPFhD+Wc5bvOkR1LxY74BU+7cixJZIhPAAAAAElFTkSuQmCC\n",
       "\" style=\"display:inline;vertical-align:middle;\" /></a></td></tr>\n",
       "<tr><td>4</td><td>Literal</td><td></td><td><a class=\"ProveItLink\" href=\"../../../../../logic/equality/__pv_it/2fb26078095930560931daa0500ce419a39ea6cd0/expr.ipynb\"><img src=\"data:image/png;base64,iVBORw0KGgoAAAANSUhEUgAAAA4AAAAFBAMAAACHocAhAAAAFVBMVEX///9EREQiIiJUVFQyMjJm\n",
       "ZmYAAADubVkoAAAAAXRSTlMAQObYZgAAABRJREFUCNdjCHEBAWcGXCBICQQUAUpuAwlgGKrkAAAA\n",
       "AElFTkSuQmCC\n",
       "\" style=\"display:inline;vertical-align:middle;\" /></a></td></tr>\n",
       "<tr><td>5</td><td>ExprTuple</td><td>6, 7</td><td><a class=\"ProveItLink\" href=\"../855de27d09f6ce8a05f9e637f96e53322611c8ba0/expr.ipynb\"><img src=\"data:image/png;base64,iVBORw0KGgoAAAANSUhEUgAAAF8AAAAVBAMAAADSoS/MAAAAMFBMVEX////c3NwiIiJERESqqqqY\n",
       "mJh2dnZmZmYQEBDu7u4yMjJUVFTMzMyIiIi6uroAAAAs73DqAAAAAXRSTlMAQObYZgAAAa1JREFU\n",
       "OMt9kz1Lw1AUht/Y1jb9DK5F9A9IXRzF6uLikMlRikOdLEFRx1oQ0UUzOgakgzjYRdBBdHfp5GQl\n",
       "OIkoSiuC4Nc9Nyf13hbMcEmel+fm5JwbQFzT+OfqC7NNVOTNc2+yINdKL7lmlm4oiXk2CsSvFMHY\n",
       "OPQDcsQs6aq7J0n3FCGPzJskmSazllZOriiWeUU4BwqSJFxmu5rwQu87UIQdF5c+kUdmWU8TFmmJ\n",
       "FP+EExdVn8g6s3iJCr15sIL8uHUKDDpalwoukTqzpC3eUsMUd6mD3BWiniqk30Fkj1nCB0ZsrAZh\n",
       "9AOJErKbqpAcB5FvZjkhXAJjQRj3kHOQflUF2ksQVejA/AzCAQcvti5kGoGwFZZUhPGF6KsZjqHq\n",
       "6iXNwrCITDCL2DDfkPLmQBMQX7wNxPijiaQdxCwiSyxQC+uYcUpmWzylivFGt62SDJXLK5Lch4MT\n",
       "py3fepr0zX0xCvNijfriBwKRws9PW5KExWXWuufdCu/Co6GRWImF+RDGuqNdZkEnfce7G5teryBJ\n",
       "ngUj/IGaYZyyWNCJ0cSdfBru/UVv5Xqnk19P63pFB2C7RgAAAABJRU5ErkJggg==\n",
       "\" style=\"display:inline;vertical-align:middle;\" /></a></td></tr>\n",
       "<tr><td>6</td><td>Operation</td><td>operator:&nbsp;8<br>operand:&nbsp;9<br></td><td><a class=\"ProveItLink\" href=\"../f3af0d6e6ea9bfb11747088ecb5660daff0f5c070/expr.ipynb\"><img src=\"data:image/png;base64,iVBORw0KGgoAAAANSUhEUgAAADwAAAAVBAMAAADocZC/AAAAMFBMVEX///8iIiJERESYmJhmZmYQ\n",
       "EBDu7u4yMjJUVFTMzMyIiIi6urp2dnbc3NyqqqoAAABw9lLDAAAAAXRSTlMAQObYZgAAAR9JREFU\n",
       "KM9jeMuAB7xlOA2md6GJM28AU6ch0pwNSFIZgUDCE1maPQFZawVIBFl6FYrJ/0CmH0CSDkOW5f4G\n",
       "JNgCENLcBcjSPAIgUg8hzQIy6caarRfA0uxdKwwYGI4gpNmBXO5YBn2I7nwFhp8MDM8R0qxAX943\n",
       "YHCCSL9PYIhhYNiKkOYHSvczMEhBpN0ZGL4wMMxHlf7EwPYTIi3CwP0ZRZr1AQPvLwa+D2xQb7N8\n",
       "QzGcyYCB7R8DR8FLBlDo/WRgBfrEHCHN48DAUMzw0OEA20cgr4/BgwHFY9zAgLixaqfWBrZ4oNcz\n",
       "lgD9yVCNFKix8AC9AGUgByqDDTye4SG7AFuEwqXTkSOUF5YcFsCke6HSq8H0LbTExDUBTK0GAFgD\n",
       "W5z9Es+xAAAAAElFTkSuQmCC\n",
       "\" style=\"display:inline;vertical-align:middle;\" /></a></td></tr>\n",
       "<tr><td>7</td><td>Literal</td><td></td><td><a class=\"ProveItLink\" href=\"../../../__pv_it/77d407a64829263cdc16415becd4c2293f77a4bf0/expr.ipynb\"><img src=\"data:image/png;base64,iVBORw0KGgoAAAANSUhEUgAAAAkAAAAOBAMAAAAPuiubAAAAMFBMVEX///+YmJh2dnbMzMwQEBAi\n",
       "IiLu7u6qqqqIiIhUVFS6urpEREQyMjJmZmbc3NwAAACOMKdoAAAAAXRSTlMAQObYZgAAAFBJREFU\n",
       "CNdj4Lt7egEDw0sGju8MDNMYGOIZGFwSGOYvYDifwHAfKAEUSQASzJ9ATJ4NIPI2iOCYACJrGfge\n",
       "MDBfYGB8wPBUSekqUPH//18ZAIliFhc3zESNAAAAAElFTkSuQmCC\n",
       "\" style=\"display:inline;vertical-align:middle;\" /></a></td></tr>\n",
       "<tr><td>8</td><td>Literal</td><td></td><td><a class=\"ProveItLink\" href=\"../../../../sets/integer/__pv_it/0a9286fafc7688968c9f0b1c9372a7c495b9f9510/expr.ipynb\"><img src=\"data:image/png;base64,iVBORw0KGgoAAAANSUhEUgAAADsAAAASBAMAAAAXqLt+AAAAMFBMVEX///+qqqru7u5ERERUVFTM\n",
       "zMzc3NyIiIgQEBAyMjJmZmaYmJi6uroiIiJ2dnYAAAD2HuJxAAAAAXRSTlMAQObYZgAAAURJREFU\n",
       "KM99kT9LAnEYxz93Xmnn33fgvYJ0iISWhIJ0k95ABw2BixcFkhC1RFu4BU03lNIibg0N3hDUlhA0\n",
       "xlFDQQgmaBQOPXc5BGoPHPf93ef3fJ/vw0FnyKRSc23/He5OYEcwZ/tSr45jpQfxhC9D1jjWxfje\n",
       "8GWpMI6jYtz5lS15iq81bhe3dl2JUn9P3ywvWJxd7ZiCVmTUI0XcvKX24ZySTVLSfZl6VvCx+Dtc\n",
       "RJwH1CHhnpfpUlr6aGmYkY7cddlUhUngUJYNkyc/XVRmBQ/he7SMViWZYN9z8ZiYEsgafI72jzeN\n",
       "A5MllC5myuENQz653vggIZeW4coeH3JTcUSchE3i6xZ7qDXP6kUppAxtgGbPk0ftx6StYRCrl+EO\n",
       "NreJrFXazGYsTqHxPOFXBWyml0MqMZ3qA1b/aVYylebf8w8ORloN8BKQFQAAAABJRU5ErkJggg==\n",
       "\" style=\"display:inline;vertical-align:middle;\" /></a></td></tr>\n",
       "<tr><td>9</td><td>ExprTuple</td><td>10, 11</td><td><a class=\"ProveItLink\" href=\"../359d2ffcad0b096b85ece3bdabdf3ac9ad97321c0/expr.ipynb\"><img src=\"data:image/png;base64,iVBORw0KGgoAAAANSUhEUgAAACkAAAAVBAMAAAAp9toTAAAAMFBMVEX////c3NwiIiJERESqqqqY\n",
       "mJh2dnZmZmYQEBDu7u4yMjJUVFTMzMyIiIi6uroAAAAs73DqAAAAAXRSTlMAQObYZgAAAQxJREFU\n",
       "GNNtkSFPw1AQx3/burWlbJ1HgMPO4PsNqEKSBYOC1IAFEoIklXOtQRDMDAkhWdIEidkHgAVQBLOS\n",
       "ZQJDuGv3km7hiXv/+72Xe/+7B/+vzngF7Gt4rgD3YQvsTNRt9d7aUEIK7aUCfiBhD5y4SqeaDeBr\n",
       "6aUDDY2AU9lqo+OLkt693kMr4kb0Z7eRlx5m+BlWyrVcnWP3Cmr94PTpnPMLXk69dGKn+BHruVK/\n",
       "R5IVtB4xDZVewuaYXeKF3bNYK+xAEvBoZa7SjCtophxKm6G13SKREXiBPSycfajdydOEwbc4G53o\n",
       "MN5wuqavdyOk42bfJKERR9VJGurKJNlYJG1z6mnN2uoPvcAf68w9OrA141UAAAAASUVORK5CYII=\n",
       "\" style=\"display:inline;vertical-align:middle;\" /></a></td></tr>\n",
       "<tr><td>10</td><td>Variable</td><td></td><td><a class=\"ProveItLink\" href=\"../../../../../__pv_it/07527342713064c87612d00d8557c53d53d5324a0/expr.ipynb\"><img src=\"data:image/png;base64,iVBORw0KGgoAAAANSUhEUgAAAAsAAAAJBAMAAAAWSsseAAAAMFBMVEX///8yMjKqqqrMzMzu7u4i\n",
       "IiJmZmaYmJhEREQQEBC6urp2dnaIiIhUVFTc3NwAAAD87Fq/AAAAAXRSTlMAQObYZgAAAEhJREFU\n",
       "CNdjYOC7s2seAwPDygccHxgY+L4zsDUwMPB+YGA9wMDA38Dgb8DA8P4Agz6DA4O/AsNFJgMGxgKm\n",
       "MG6gyjunLE4xAAAZTBA5TB6DCwAAAABJRU5ErkJggg==\n",
       "\" style=\"display:inline;vertical-align:middle;\" /></a></td></tr>\n",
       "<tr><td>11</td><td>Variable</td><td></td><td><a class=\"ProveItLink\" href=\"../../../../../__pv_it/6840a4fa6c106149dc16a131294d0c5e44f1b0480/expr.ipynb\"><img src=\"data:image/png;base64,iVBORw0KGgoAAAANSUhEUgAAAAkAAAAOBAMAAAAPuiubAAAALVBMVEX///9mZmbMzMxERESYmJiI\n",
       "iIh2dna6urqqqqoyMjIiIiIQEBBUVFTu7u4AAAD9S1JeAAAAAXRSTlMAQObYZgAAAE1JREFUCNdj\n",
       "4D29gAEIOA+ASL4GEFl3AURmgQiGOaFHGBh4HzPwKTBwvGXgTmBgnMDAJ8DAJcBQ5wBSLncBJLWN\n",
       "gYGngRFoBO9REQYGAGrcDtUkVqASAAAAAElFTkSuQmCC\n",
       "\" style=\"display:inline;vertical-align:middle;\" /></a></td></tr>\n",
       "</table>\n"
      ],
      "text/plain": [
       "0. forall_{b} (|(a , b)| = 2)\n",
       "   core type: Operation\n",
       "   operator: 1\n",
       "   operand: 2\n",
       "1. forall\n",
       "   core type: Literal\n",
       "   sub-expressions: \n",
       "2. b -> (|(a , b)| = 2)\n",
       "   core type: Lambda\n",
       "   parameter: 11\n",
       "   body: 3\n",
       "3. |(a , b)| = 2\n",
       "   core type: Operation\n",
       "   operator: 4\n",
       "   operands: 5\n",
       "4. =\n",
       "   core type: Literal\n",
       "   sub-expressions: \n",
       "5. (|(a , b)| , 2)\n",
       "   core type: ExprTuple\n",
       "   sub-expressions: 6, 7\n",
       "6. |(a , b)|\n",
       "   core type: Operation\n",
       "   operator: 8\n",
       "   operand: 9\n",
       "7. 2\n",
       "   core type: Literal\n",
       "   sub-expressions: \n",
       "8. length\n",
       "   core type: Literal\n",
       "   sub-expressions: \n",
       "9. (a , b)\n",
       "   core type: ExprTuple\n",
       "   sub-expressions: 10, 11\n",
       "10. a\n",
       "    core type: Variable\n",
       "    sub-expressions: \n",
       "11. b\n",
       "    core type: Variable\n",
       "    sub-expressions: "
      ]
     },
     "execution_count": 4,
     "metadata": {},
     "output_type": "execute_result"
    }
   ],
   "source": [
    "# display the expression information\n",
    "expr.exprInfo()"
   ]
  },
  {
   "cell_type": "code",
   "execution_count": null,
   "metadata": {},
   "outputs": [],
   "source": []
  }
 ],
 "metadata": {
  "kernelspec": {
   "display_name": "Python 3",
   "language": "python",
   "name": "python3"
  }
 },
 "nbformat": 4,
 "nbformat_minor": 0
}
