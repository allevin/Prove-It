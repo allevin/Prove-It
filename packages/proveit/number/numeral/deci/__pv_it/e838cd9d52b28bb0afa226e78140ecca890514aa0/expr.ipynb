{
 "cells": [
  {
   "cell_type": "markdown",
   "metadata": {},
   "source": [
    "Expression of type <a class=\"ProveItLink\" href=\"../../../../../../../doc/html/api/proveit.ExprTuple.html\">ExprTuple</a>\n",
    "=======================\n",
    "# from context <a class=\"ProveItLink\" href=\"../../_context_.ipynb\">proveit.number.numeral.deci</a>"
   ]
  },
  {
   "cell_type": "code",
   "execution_count": 1,
   "metadata": {},
   "outputs": [],
   "source": [
    "# import Expression classes needed to build the expression\n",
    "from proveit import ExprTuple\n",
    "from proveit.number import Add, DecimalSequence, nine, one, two"
   ]
  },
  {
   "cell_type": "code",
   "execution_count": 2,
   "metadata": {},
   "outputs": [
    {
     "data": {
      "text/html": [
       "<strong id=\"expr\">expr:</strong> <a class=\"ProveItLink\" href=\"expr.ipynb\"><img src=\"data:image/png;base64,iVBORw0KGgoAAAANSUhEUgAAAFcAAAAVBAMAAADBdm84AAAAMFBMVEX////c3NwiIiJERESqqqqY\n",
       "mJh2dnZmZmYQEBDu7u4yMjJUVFTMzMyIiIi6uroAAAAs73DqAAAAAXRSTlMAQObYZgAAAVtJREFU\n",
       "KM+Vk7FLw1AQxr8Q0zZtUoOT4KCjTsni4NatU8HJUZzaSSgWq7iYoYOTRFwKHRqQDkZEV1HQXYT+\n",
       "AQrVURCsVCGC1pe8BHJJC/WG777L+/Fy7+UC/Cvy3cm4dU/ugVb9hi4IOye90K8Ekr5j+RRCA7Ma\n",
       "geegDgJ77IZiA2oXoomcwZeOeLoCdO5a124gWAMyFqZtpFy+VuLpwMJt0IfqhtIEXoG2AfWXwBcW\n",
       "9hOwWEAd/s6fBGahW3E4VUWHndOE+BODlS/E4Skbh4DcQTEOZ40EnDfhNSs9PQxicA0JWHkHP5l/\n",
       "G3uOs+g4Zz5yORJu8LfadOciBG1EG8vM9jHfI7BShaTJMViyUWF2Cecg8Ey5vIX2QuLqXliq1AoU\n",
       "1ofDDzT7zKV3v7e5INtDhoxQKVo801Fkn1vaiD54ixarFN70R3RcUFi2/dkdEyotc16/woS/1SPw\n",
       "B5PPa1a7FM0OAAAAAElFTkSuQmCC\n",
       "\" style=\"display:inline;vertical-align:middle;\" /></a><br>"
      ],
      "text/plain": [
       "expr: (9 + 2 , 11)"
      ]
     },
     "execution_count": 2,
     "metadata": {},
     "output_type": "execute_result"
    }
   ],
   "source": [
    "# build up the expression from sub-expressions\n",
    "expr = ExprTuple(Add(nine, two), DecimalSequence(one, one))"
   ]
  },
  {
   "cell_type": "code",
   "execution_count": 3,
   "metadata": {},
   "outputs": [
    {
     "name": "stdout",
     "output_type": "stream",
     "text": [
      "Passed sanity check: built 'expr' is the same as the stored Expression.\n"
     ]
    }
   ],
   "source": [
    "# check that the built expression is the same as the stored expression\n",
    "%check_expr"
   ]
  },
  {
   "cell_type": "code",
   "execution_count": 4,
   "metadata": {},
   "outputs": [
    {
     "data": {
      "text/html": [
       "<table><tr><th>&nbsp;</th><th>core type</th><th>sub-expressions</th><th>expression</th></tr>\n",
       "<tr><td>0</td><td>ExprTuple</td><td>1, 2</td><td><a class=\"ProveItLink\" href=\"expr.ipynb\"><img src=\"data:image/png;base64,iVBORw0KGgoAAAANSUhEUgAAAFcAAAAVBAMAAADBdm84AAAAMFBMVEX////c3NwiIiJERESqqqqY\n",
       "mJh2dnZmZmYQEBDu7u4yMjJUVFTMzMyIiIi6uroAAAAs73DqAAAAAXRSTlMAQObYZgAAAVtJREFU\n",
       "KM+Vk7FLw1AQxr8Q0zZtUoOT4KCjTsni4NatU8HJUZzaSSgWq7iYoYOTRFwKHRqQDkZEV1HQXYT+\n",
       "AQrVURCsVCGC1pe8BHJJC/WG777L+/Fy7+UC/Cvy3cm4dU/ugVb9hi4IOye90K8Ekr5j+RRCA7Ma\n",
       "geegDgJ77IZiA2oXoomcwZeOeLoCdO5a124gWAMyFqZtpFy+VuLpwMJt0IfqhtIEXoG2AfWXwBcW\n",
       "9hOwWEAd/s6fBGahW3E4VUWHndOE+BODlS/E4Skbh4DcQTEOZ40EnDfhNSs9PQxicA0JWHkHP5l/\n",
       "G3uOs+g4Zz5yORJu8LfadOciBG1EG8vM9jHfI7BShaTJMViyUWF2Cecg8Ey5vIX2QuLqXliq1AoU\n",
       "1ofDDzT7zKV3v7e5INtDhoxQKVo801Fkn1vaiD54ixarFN70R3RcUFi2/dkdEyotc16/woS/1SPw\n",
       "B5PPa1a7FM0OAAAAAElFTkSuQmCC\n",
       "\" style=\"display:inline;vertical-align:middle;\" /></a></td></tr>\n",
       "<tr><td>1</td><td>Operation</td><td>operator:&nbsp;3<br>operands:&nbsp;4<br></td><td><a class=\"ProveItLink\" href=\"../d1fbe6e415c29fc3f0076446c57e058f8de24cfe0/expr.ipynb\"><img src=\"data:image/png;base64,iVBORw0KGgoAAAANSUhEUgAAAC0AAAAQBAMAAABw0OvaAAAAMFBMVEX///8iIiKYmJi6urqIiIgy\n",
       "MjJERESqqqoQEBDc3NzMzMx2dnZmZmZUVFTu7u4AAABn2L4sAAAAAXRSTlMAQObYZgAAALlJREFU\n",
       "GNNjYHh7+hYDCuA8E2YAJNsZZkxAEZ/LwPKdgYGtgYE3ASLwEkLdY2CQZ2DgD2Dg/gcRKIFQHQ8Y\n",
       "7hswvE9gYPmMIh7/gOG8AVj9JxRxIJB/wMDTwMD2BU2c6zcDA18QQw26OCvIIUwuS76jiR+DUGD3\n",
       "HA0NlQgNjQXxWS5AtQWgqq9h4JzAwPKTYb4BijjXAQYmoLgcQwgDivjE3bsPAqk9xwpQxeX///+I\n",
       "EmAlDNiBCRIbALF6MqdUxCYlAAAAAElFTkSuQmCC\n",
       "\" style=\"display:inline;vertical-align:middle;\" /></a></td></tr>\n",
       "<tr><td>2</td><td>Operation</td><td>operator:&nbsp;5<br>operands:&nbsp;6<br></td><td><a class=\"ProveItLink\" href=\"../3c9184c6c8bad5c37fa37ad5895a1d2f537d7bb70/expr.ipynb\"><img src=\"data:image/png;base64,iVBORw0KGgoAAAANSUhEUgAAABIAAAAPBAMAAAAbqIIhAAAAHlBMVEX///+YmJgyMjIQEBBmZmaI\n",
       "iIhUVFTu7u5EREQAAAAw+MI4AAAAAXRSTlMAQObYZgAAACJJREFUCNdjYGBoZ2CAEBXToURZGoxg\n",
       "YKU9weI8yRFCwAEAkfsUd18Xo3AAAAAASUVORK5CYII=\n",
       "\" style=\"display:inline;vertical-align:middle;\" /></a></td></tr>\n",
       "<tr><td>3</td><td>Literal</td><td></td><td><a class=\"ProveItLink\" href=\"../../../../addition/__pv_it/3e6688136fa3c7aefbebe51301b7c3ebf0b69c440/expr.ipynb\"><img src=\"data:image/png;base64,iVBORw0KGgoAAAANSUhEUgAAAA4AAAAOBAMAAADtZjDiAAAAJFBMVEX///+6urpUVFQQEBAiIiIy\n",
       "MjJmZmaIiIiqqqrc3Nzu7u4AAACgHpL+AAAAAXRSTlMAQObYZgAAAB5JREFUCNdjYGBgWMkAAe2k\n",
       "0Kmhoc6hoUGk6BMHYgAHOwjcado9fwAAAABJRU5ErkJggg==\n",
       "\" style=\"display:inline;vertical-align:middle;\" /></a></td></tr>\n",
       "<tr><td>4</td><td>ExprTuple</td><td>7, 8</td><td><a class=\"ProveItLink\" href=\"../39a899842e4ba5fc91a0e0750407e7239b9908ea0/expr.ipynb\"><img src=\"data:image/png;base64,iVBORw0KGgoAAAANSUhEUgAAACkAAAAVBAMAAAAp9toTAAAAMFBMVEX////c3NwiIiJERESqqqqY\n",
       "mJh2dnZmZmYQEBDu7u4yMjJUVFTMzMyIiIi6uroAAAAs73DqAAAAAXRSTlMAQObYZgAAARRJREFU\n",
       "GNNtkT1LA0EQhp/j3CSXePGwEiysrS6Nfbr8A0uxSiohGIilV6Sw0i0FCxckhYVoKwjai5AfoLCk\n",
       "tFKJgoXG/bhLcTjFMvvsuzOz78L/0ZyUwI5dHuFseOdBcHChqT6Y7JJgxFri6DrxDBTEE8KMRsvR\n",
       "W0hhG2qSFUXl29Ejyb3mFF7hvEX86+i15FATthnitJ/FBKmk0mcM1YzwJ4fLX7CkOIZoTKegddO2\n",
       "mWELipenWU4HVv+Gb5PPQHzj6chfVJ52CBJbYcsI3tnQSKvqIxKEomfoJldEH4audrv72MmmZtMb\n",
       "tIlOjBXpfG4O65paUjhaJPbFYjfPxcLgPedkiUbKeepj8SUNWyoo/9Az/AEZQEFkACczcQAAAABJ\n",
       "RU5ErkJggg==\n",
       "\" style=\"display:inline;vertical-align:middle;\" /></a></td></tr>\n",
       "<tr><td>5</td><td>Literal</td><td></td><td><a class=\"ProveItLink\" href=\"../b28e6317a1d330492d51cd67ccba81d4d210b8b30/expr.ipynb\"><img src=\"data:image/png;base64,iVBORw0KGgoAAAANSUhEUgAAAE8AAAAOBAMAAACcHlx8AAAAMFBMVEX///8iIiIQEBCYmJjc3Ny6\n",
       "urru7u5mZmZ2dnaqqqrMzMxEREQyMjJUVFSIiIgAAABUCcz6AAAAAXRSTlMAQObYZgAAAWhJREFU\n",
       "KM99kL9Lw3AQxV/bNE1s0rh1VNTBqWR2sAXdEwRns9XJtFsRwSxVx/oXNLgqNKugtLsgHQVtDWLt\n",
       "IEahVrT+vIsK1qEH+QS+PN67ewDuPlutExd/JtnA8EgTJv/eAPllSOj/EyLLGHsmbFoYNRuMVJ9Q\n",
       "80cKM2HQA8FojtIJA6bmsWMTQqmbg7gTuKslxG8Xg7N4cEiadnkGMfb6Ts062M0JBeyZyrizAkk9\n",
       "hV1GFVjKUaLKXrjnai5NoY+EK2aQnKsUsRzxYPskFHpIeIiGF9QZU1Cn56+hUoZIq1u2iapFx9JD\n",
       "xEctrPmVvlgPWuF3X/kJrCoCs/xgu7gKa/wgRD1obG8wlCZ7IY34o2hwvnUsco18+pEV7uFrOqAb\n",
       "pkNeYh9qY8Gu4EJ2e9JPjQcUm2ogn1MLkNyqoNNlVIniO4oupyUM1oB8/b11vs47bAfkWQpukAwQ\n",
       "n4TkQW67Qruz30F3C18Fz3drZAxLCAAAAABJRU5ErkJggg==\n",
       "\" style=\"display:inline;vertical-align:middle;\" /></a></td></tr>\n",
       "<tr><td>6</td><td>ExprTuple</td><td>9, 9</td><td><a class=\"ProveItLink\" href=\"../71c9c782a9b8c913a0129f505682fe99210fc82a0/expr.ipynb\"><img src=\"data:image/png;base64,iVBORw0KGgoAAAANSUhEUgAAACkAAAAVBAMAAAAp9toTAAAAMFBMVEX////c3NwiIiJERESqqqqY\n",
       "mJh2dnZmZmYQEBDu7u4yMjJUVFTMzMyIiIi6uroAAAAs73DqAAAAAXRSTlMAQObYZgAAALpJREFU\n",
       "GNNjYMAO+C6gCcSBiNNAzDwBJmTJwMB+AEivZGDgtIeJTv4JJBYwMPBeYODcvR8qOns3SDSMgYED\n",
       "JHAfppYXJDqDgeEVA4YoswNDGaYoWwHDUkxRlgUMfZiifA0M/zBFeT7gEG3BaoIpTHQCXJR1AUM6\n",
       "VJTzE7LLHgGp8v7lAZz9AsCAqfhVysDA9YCBQwAWojAGyMesCVA2KzyAcyEhiSrKCQxJBmkoBx4l\n",
       "3CCjGNFj6A4DAwBkHj9zZVlc6AAAAABJRU5ErkJggg==\n",
       "\" style=\"display:inline;vertical-align:middle;\" /></a></td></tr>\n",
       "<tr><td>7</td><td>Literal</td><td></td><td><a class=\"ProveItLink\" href=\"../../../__pv_it/cdcd6ad997b4d5c13a719b005810863ba48ff0c70/expr.ipynb\"><img src=\"data:image/png;base64,iVBORw0KGgoAAAANSUhEUgAAAAoAAAAOBAMAAADkjZCYAAAAMFBMVEX///8iIiKYmJi6urqIiIgy\n",
       "MjJERESqqqoQEBDc3NzMzMx2dnZmZmZUVFTu7u4AAABn2L4sAAAAAXRSTlMAQObYZgAAAFVJREFU\n",
       "CNdjYHh7+hYDA2c7w4wJDGwNDLwJDPwBDNz/GN4nMLB8BrM/MfA0MLB9YeALYqj5wsDA5LLkOwMQ\n",
       "ANUAAWsAA8tPhvkGDCxyDCFA/p5jBQwAtzwVEbGPESsAAAAASUVORK5CYII=\n",
       "\" style=\"display:inline;vertical-align:middle;\" /></a></td></tr>\n",
       "<tr><td>8</td><td>Literal</td><td></td><td><a class=\"ProveItLink\" href=\"../../../__pv_it/77d407a64829263cdc16415becd4c2293f77a4bf0/expr.ipynb\"><img src=\"data:image/png;base64,iVBORw0KGgoAAAANSUhEUgAAAAkAAAAOBAMAAAAPuiubAAAAMFBMVEX///+YmJh2dnbMzMwQEBAi\n",
       "IiLu7u6qqqqIiIhUVFS6urpEREQyMjJmZmbc3NwAAACOMKdoAAAAAXRSTlMAQObYZgAAAFBJREFU\n",
       "CNdj4Lt7egEDw0sGju8MDNMYGOIZGFwSGOYvYDifwHAfKAEUSQASzJ9ATJ4NIPI2iOCYACJrGfge\n",
       "MDBfYGB8wPBUSekqUPH//18ZAIliFhc3zESNAAAAAElFTkSuQmCC\n",
       "\" style=\"display:inline;vertical-align:middle;\" /></a></td></tr>\n",
       "<tr><td>9</td><td>Literal</td><td></td><td><a class=\"ProveItLink\" href=\"../../../__pv_it/9be8badea4c35b9724062cecc501d17a3158d1d20/expr.ipynb\"><img src=\"data:image/png;base64,iVBORw0KGgoAAAANSUhEUgAAAAgAAAAPBAMAAAArJJMAAAAAHlBMVEX///+YmJgyMjIQEBBmZmaI\n",
       "iIhUVFTu7u5EREQAAAAw+MI4AAAAAXRSTlMAQObYZgAAACFJREFUCNdjYGBoZ2BgqJjOwFCWBiQY\n",
       "WEklWJwnOTKAAACjEQo8HvEr3AAAAABJRU5ErkJggg==\n",
       "\" style=\"display:inline;vertical-align:middle;\" /></a></td></tr>\n",
       "</table>\n"
      ],
      "text/plain": [
       "0. (9 + 2 , 11)\n",
       "   core type: ExprTuple\n",
       "   sub-expressions: 1, 2\n",
       "1. 9 + 2\n",
       "   core type: Operation\n",
       "   operator: 3\n",
       "   operands: 4\n",
       "2. 11\n",
       "   core type: Operation\n",
       "   operator: 5\n",
       "   operands: 6\n",
       "3. +\n",
       "   core type: Literal\n",
       "   sub-expressions: \n",
       "4. (9 , 2)\n",
       "   core type: ExprTuple\n",
       "   sub-expressions: 7, 8\n",
       "5. Decimal\n",
       "   core type: Literal\n",
       "   sub-expressions: \n",
       "6. (1 , 1)\n",
       "   core type: ExprTuple\n",
       "   sub-expressions: 9, 9\n",
       "7. 9\n",
       "   core type: Literal\n",
       "   sub-expressions: \n",
       "8. 2\n",
       "   core type: Literal\n",
       "   sub-expressions: \n",
       "9. 1\n",
       "   core type: Literal\n",
       "   sub-expressions: "
      ]
     },
     "execution_count": 4,
     "metadata": {},
     "output_type": "execute_result"
    }
   ],
   "source": [
    "# display the expression information\n",
    "expr.exprInfo()"
   ]
  },
  {
   "cell_type": "code",
   "execution_count": null,
   "metadata": {},
   "outputs": [],
   "source": []
  }
 ],
 "metadata": {
  "kernelspec": {
   "display_name": "Python 3",
   "language": "python",
   "name": "python3"
  }
 },
 "nbformat": 4,
 "nbformat_minor": 0
}
