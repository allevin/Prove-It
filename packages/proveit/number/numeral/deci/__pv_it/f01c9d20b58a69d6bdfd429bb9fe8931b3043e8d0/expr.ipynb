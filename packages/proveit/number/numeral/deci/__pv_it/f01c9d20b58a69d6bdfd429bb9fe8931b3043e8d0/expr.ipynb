{
 "cells": [
  {
   "cell_type": "markdown",
   "metadata": {},
   "source": [
    "Expression of type <a class=\"ProveItLink\" href=\"../../../../../../../doc/html/api/proveit.ExprTuple.html\">ExprTuple</a>\n",
    "=======================\n",
    "# from context <a class=\"ProveItLink\" href=\"../../_context_.ipynb\">proveit.number.numeral.deci</a>"
   ]
  },
  {
   "cell_type": "code",
   "execution_count": 1,
   "metadata": {},
   "outputs": [],
   "source": [
    "# import Expression classes needed to build the expression\n",
    "from proveit import ExprTuple\n",
    "from proveit.number import Add, DecimalSequence, eight, four, one, two"
   ]
  },
  {
   "cell_type": "code",
   "execution_count": 2,
   "metadata": {},
   "outputs": [
    {
     "data": {
      "text/html": [
       "<strong id=\"expr\">expr:</strong> <a class=\"ProveItLink\" href=\"expr.ipynb\"><img src=\"data:image/png;base64,iVBORw0KGgoAAAANSUhEUgAAAFcAAAAVBAMAAADBdm84AAAAMFBMVEX////c3NwiIiJERESqqqqY\n",
       "mJh2dnZmZmYQEBDu7u4yMjJUVFTMzMyIiIi6uroAAAAs73DqAAAAAXRSTlMAQObYZgAAAYFJREFU\n",
       "KM+VkzFIw0AUhv9okzbalOLqUje3dnFwspuLhbooOGinOAlBqxVBdHAQBIkIUnCwIA6Ng3WUDnHW\n",
       "JZM4OERHRVCxShWM72xTcyeF+obw/ruPx38/L8C/KuZ0xk2zzyWwp+fFq2jF74YBqXDoInxOogwY\n",
       "CGcFuCvVbHbrQD+0V6AEaA7kLNRE42rHh6+b8H6V4DMgCUwAERNKpQVnmqw05U/WCN40YbsoAvdA\n",
       "6NNUHB5WeoLwiYk1F91pLNHBSO0KPDzOwVRJMmDgiLqwN8DDqiPA0TcyUMI2tZMXXpqDFQgwk7F1\n",
       "fAGygZk6B4+J8AKb/sRgCkSqkVqxrEHLOiYXOQHWKg14AywTrAYnh6pVe8sJwKOQ4szGEE2OA6d8\n",
       "GoikoLbgqAE5DrmEWRpURij3Fz5I+HCfrs+DRXdHBw+FvJCzYr9ni88s1eWPRSQ974UScX88/FYm\n",
       "KG753aKnybngwWNQCJs411jRNsXDKq0oLWub0njZy/xKHf5WN8A3qKVmca5Uv6IAAAAASUVORK5C\n",
       "YII=\n",
       "\" style=\"display:inline;vertical-align:middle;\" /></a><br>"
      ],
      "text/plain": [
       "expr: (8 + 4 , 12)"
      ]
     },
     "execution_count": 2,
     "metadata": {},
     "output_type": "execute_result"
    }
   ],
   "source": [
    "# build up the expression from sub-expressions\n",
    "expr = ExprTuple(Add(eight, four), DecimalSequence(one, two))"
   ]
  },
  {
   "cell_type": "code",
   "execution_count": 3,
   "metadata": {},
   "outputs": [
    {
     "name": "stdout",
     "output_type": "stream",
     "text": [
      "Passed sanity check: built 'expr' is the same as the stored Expression.\n"
     ]
    }
   ],
   "source": [
    "# check that the built expression is the same as the stored expression\n",
    "%check_expr"
   ]
  },
  {
   "cell_type": "code",
   "execution_count": 4,
   "metadata": {},
   "outputs": [
    {
     "data": {
      "text/html": [
       "<table><tr><th>&nbsp;</th><th>core type</th><th>sub-expressions</th><th>expression</th></tr>\n",
       "<tr><td>0</td><td>ExprTuple</td><td>1, 2</td><td><a class=\"ProveItLink\" href=\"expr.ipynb\"><img src=\"data:image/png;base64,iVBORw0KGgoAAAANSUhEUgAAAFcAAAAVBAMAAADBdm84AAAAMFBMVEX////c3NwiIiJERESqqqqY\n",
       "mJh2dnZmZmYQEBDu7u4yMjJUVFTMzMyIiIi6uroAAAAs73DqAAAAAXRSTlMAQObYZgAAAYFJREFU\n",
       "KM+VkzFIw0AUhv9okzbalOLqUje3dnFwspuLhbooOGinOAlBqxVBdHAQBIkIUnCwIA6Ng3WUDnHW\n",
       "JZM4OERHRVCxShWM72xTcyeF+obw/ruPx38/L8C/KuZ0xk2zzyWwp+fFq2jF74YBqXDoInxOogwY\n",
       "CGcFuCvVbHbrQD+0V6AEaA7kLNRE42rHh6+b8H6V4DMgCUwAERNKpQVnmqw05U/WCN40YbsoAvdA\n",
       "6NNUHB5WeoLwiYk1F91pLNHBSO0KPDzOwVRJMmDgiLqwN8DDqiPA0TcyUMI2tZMXXpqDFQgwk7F1\n",
       "fAGygZk6B4+J8AKb/sRgCkSqkVqxrEHLOiYXOQHWKg14AywTrAYnh6pVe8sJwKOQ4szGEE2OA6d8\n",
       "GoikoLbgqAE5DrmEWRpURij3Fz5I+HCfrs+DRXdHBw+FvJCzYr9ni88s1eWPRSQ974UScX88/FYm\n",
       "KG753aKnybngwWNQCJs411jRNsXDKq0oLWub0njZy/xKHf5WN8A3qKVmca5Uv6IAAAAASUVORK5C\n",
       "YII=\n",
       "\" style=\"display:inline;vertical-align:middle;\" /></a></td></tr>\n",
       "<tr><td>1</td><td>Operation</td><td>operator:&nbsp;3<br>operands:&nbsp;4<br></td><td><a class=\"ProveItLink\" href=\"../ad804faabdda98a65b700a04a538be054ccacaf10/expr.ipynb\"><img src=\"data:image/png;base64,iVBORw0KGgoAAAANSUhEUgAAAC0AAAAQBAMAAABw0OvaAAAAMFBMVEX///+6uroQEBAyMjLMzMzc\n",
       "3NxERESIiIhUVFQiIiKYmJiqqqpmZmZ2dnbu7u4AAAACo3QQAAAAAXRSTlMAQObYZgAAAK5JREFU\n",
       "GNNjYHh79zQDGmBpABIHGHgWoIlzJjAwcC1g4JsA4T6FiRcBxXkb4OLbocKsi4Hi3D8e8BagivMy\n",
       "A8UZ8n/VMqCKLwWL8/yfiirOVwAWX+P8fwOKOC8DSJzrAMP6fyjiW8DiTA8YWH8BeYeNjScZG1sA\n",
       "jbkAFn8EFDuOrJ67o6Nfo4CBKYCBoRXVPQxMIPfbMXBfwCLOIHHmNJr7efv/oITYdgbsQByJDQBP\n",
       "7TD8BN5QyQAAAABJRU5ErkJggg==\n",
       "\" style=\"display:inline;vertical-align:middle;\" /></a></td></tr>\n",
       "<tr><td>2</td><td>Operation</td><td>operator:&nbsp;5<br>operands:&nbsp;6<br></td><td><a class=\"ProveItLink\" href=\"../924182b6a365e5553cc4594df6a543e0523917720/expr.ipynb\"><img src=\"data:image/png;base64,iVBORw0KGgoAAAANSUhEUgAAABMAAAAPBAMAAAD0aukfAAAAMFBMVEX///92dnbMzMwiIiKqqqq6\n",
       "urrc3NyYmJgyMjIQEBBmZmaIiIhUVFTu7u5EREQAAADsrU5cAAAAAXRSTlMAQObYZgAAAG1JREFU\n",
       "CNdjYGB4y8DAtqovgIGB4d5fBoYcBu4vDAx3zgCZZxkY7IGi3EDmzAsM5wMgzP4LDOuhTCCwvwBj\n",
       "Mn1kgDE5HsCZ6xhgTO4DcKYXA1sChMm0gIEdykwWFFzMwMC18sdyBvv//z8zIAEAEZklb2GNE0kA\n",
       "AAAASUVORK5CYII=\n",
       "\" style=\"display:inline;vertical-align:middle;\" /></a></td></tr>\n",
       "<tr><td>3</td><td>Literal</td><td></td><td><a class=\"ProveItLink\" href=\"../../../../addition/__pv_it/3e6688136fa3c7aefbebe51301b7c3ebf0b69c440/expr.ipynb\"><img src=\"data:image/png;base64,iVBORw0KGgoAAAANSUhEUgAAAA4AAAAOBAMAAADtZjDiAAAAJFBMVEX///+6urpUVFQQEBAiIiIy\n",
       "MjJmZmaIiIiqqqrc3Nzu7u4AAACgHpL+AAAAAXRSTlMAQObYZgAAAB5JREFUCNdjYGBgWMkAAe2k\n",
       "0Kmhoc6hoUGk6BMHYgAHOwjcado9fwAAAABJRU5ErkJggg==\n",
       "\" style=\"display:inline;vertical-align:middle;\" /></a></td></tr>\n",
       "<tr><td>4</td><td>ExprTuple</td><td>7, 8</td><td><a class=\"ProveItLink\" href=\"../fb5576d2382b064263856cc20c0bbc82adb495c50/expr.ipynb\"><img src=\"data:image/png;base64,iVBORw0KGgoAAAANSUhEUgAAACkAAAAVBAMAAAAp9toTAAAAMFBMVEX////c3NwiIiJERESqqqqY\n",
       "mJh2dnZmZmYQEBDu7u4yMjJUVFTMzMyIiIi6uroAAAAs73DqAAAAAXRSTlMAQObYZgAAAQ5JREFU\n",
       "GNNt0S9Pw0AYx/FvoX92YyzzGHgHGDR7AYhiIEFAFSiSigUUCQJHAlUEWYOYG3piaDBVBIEgyGEI\n",
       "yUIICeN5rtcmLFS0z31y/d2T5+D/p13MwK6+HuBqv1dRa0B0J98+pESx07lVyGGxIIgxy06fRLeg\n",
       "kREOavV2RK9hDP53Frojw6bofJcjqdcnjy5gUzVMuZE6mq6UaApVP+dCFtv3024ZgGr7lB8IUva+\n",
       "rG5Ybb2rShvexAYklZ7ZTjhR9YfD0XmhCWuytwO3ZDajIXuDnAPZ0sdPzEet0tmrlG/HPcxlR5sY\n",
       "fcY0X+zv5USrQs8JElcH9YAPy0n+VSOTZMkt6itZ0Chv9oae4RcIPTrmRlDQAAAAAABJRU5ErkJg\n",
       "gg==\n",
       "\" style=\"display:inline;vertical-align:middle;\" /></a></td></tr>\n",
       "<tr><td>5</td><td>Literal</td><td></td><td><a class=\"ProveItLink\" href=\"../b28e6317a1d330492d51cd67ccba81d4d210b8b30/expr.ipynb\"><img src=\"data:image/png;base64,iVBORw0KGgoAAAANSUhEUgAAAE8AAAAOBAMAAACcHlx8AAAAMFBMVEX///8iIiIQEBCYmJjc3Ny6\n",
       "urru7u5mZmZ2dnaqqqrMzMxEREQyMjJUVFSIiIgAAABUCcz6AAAAAXRSTlMAQObYZgAAAWhJREFU\n",
       "KM99kL9Lw3AQxV/bNE1s0rh1VNTBqWR2sAXdEwRns9XJtFsRwSxVx/oXNLgqNKugtLsgHQVtDWLt\n",
       "IEahVrT+vIsK1qEH+QS+PN67ewDuPlutExd/JtnA8EgTJv/eAPllSOj/EyLLGHsmbFoYNRuMVJ9Q\n",
       "80cKM2HQA8FojtIJA6bmsWMTQqmbg7gTuKslxG8Xg7N4cEiadnkGMfb6Ts062M0JBeyZyrizAkk9\n",
       "hV1GFVjKUaLKXrjnai5NoY+EK2aQnKsUsRzxYPskFHpIeIiGF9QZU1Cn56+hUoZIq1u2iapFx9JD\n",
       "xEctrPmVvlgPWuF3X/kJrCoCs/xgu7gKa/wgRD1obG8wlCZ7IY34o2hwvnUsco18+pEV7uFrOqAb\n",
       "pkNeYh9qY8Gu4EJ2e9JPjQcUm2ogn1MLkNyqoNNlVIniO4oupyUM1oB8/b11vs47bAfkWQpukAwQ\n",
       "n4TkQW67Qruz30F3C18Fz3drZAxLCAAAAABJRU5ErkJggg==\n",
       "\" style=\"display:inline;vertical-align:middle;\" /></a></td></tr>\n",
       "<tr><td>6</td><td>ExprTuple</td><td>9, 10</td><td><a class=\"ProveItLink\" href=\"../ae02dd48deb37365fce54e88fb6bdda021f4c6730/expr.ipynb\"><img src=\"data:image/png;base64,iVBORw0KGgoAAAANSUhEUgAAACkAAAAVBAMAAAAp9toTAAAAMFBMVEX////c3NwiIiJERESqqqqY\n",
       "mJh2dnZmZmYQEBDu7u4yMjJUVFTMzMyIiIi6uroAAAAs73DqAAAAAXRSTlMAQObYZgAAAOtJREFU\n",
       "GNNjYMAO+C6gCcSBiNNAzDwBIsBYvvgBA/sBIGslAwOnPVRUmoH3CwPDAgYG3gsMnLv3Q0V3MjDo\n",
       "MzCEMTBwgATuQ0U7JjDsf8Awg4HhFQOS6PoJDPUPGJgdGMqQRYFAfwIDWwHDUlRRnm8MDCwLGPpQ\n",
       "RbkMgD5oYPiHKloMUv8BTZR3A0S0BUXUnYFRAGSCKUwUJMFTwMAqwMC6gCEdKsr5CUgLpaUVMYBc\n",
       "9gjIKe9fHsDZLwB07P//QEmuBwwcArAQhTFAPmZNgLJZ4d7LhYQkqijnAnCYQgA8SrhBRjGix9Ad\n",
       "BgYAyE9BDPXceaYAAAAASUVORK5CYII=\n",
       "\" style=\"display:inline;vertical-align:middle;\" /></a></td></tr>\n",
       "<tr><td>7</td><td>Literal</td><td></td><td><a class=\"ProveItLink\" href=\"../../../__pv_it/7ca36d8558dd5f18c1e16b5e877a0b7e314926450/expr.ipynb\"><img src=\"data:image/png;base64,iVBORw0KGgoAAAANSUhEUgAAAAoAAAAOBAMAAADkjZCYAAAAMFBMVEX///+6uroQEBAyMjLMzMzc\n",
       "3NxERESIiIhUVFQiIiKYmJiqqqpmZmZ2dnbu7u4AAAACo3QQAAAAAXRSTlMAQObYZgAAAFlJREFU\n",
       "CNdjYHh79zQDA8MBBp4FDFwLGPgmMPA2gEjuHw94CxgY8n/VAmV5/k8Fkmuc/29g4DrAsP4fA9MD\n",
       "BtZfDI+AgscZmAIYGFoZuO0YuC8wMEicOc0AAC98GKTiu3IvAAAAAElFTkSuQmCC\n",
       "\" style=\"display:inline;vertical-align:middle;\" /></a></td></tr>\n",
       "<tr><td>8</td><td>Literal</td><td></td><td><a class=\"ProveItLink\" href=\"../../../__pv_it/23412ce59ea7e77353d2f9225e02248e73651ca00/expr.ipynb\"><img src=\"data:image/png;base64,iVBORw0KGgoAAAANSUhEUgAAAAoAAAAPBAMAAAAv0UM9AAAALVBMVEX///9mZmaqqqru7u52dnYy\n",
       "MjKYmJjc3NwQEBCIiIhEREQiIiJUVFTMzMwAAACUDTcXAAAAAXRSTlMAQObYZgAAAD5JREFUCNdj\n",
       "YGBguMMAArtABGcXiCyLApEOIJKtAERaMoBIBxDJdAFEmjCASJ0zZ16cBCkF64KQPu/EwBwGACv6\n",
       "DSRgin9qAAAAAElFTkSuQmCC\n",
       "\" style=\"display:inline;vertical-align:middle;\" /></a></td></tr>\n",
       "<tr><td>9</td><td>Literal</td><td></td><td><a class=\"ProveItLink\" href=\"../../../__pv_it/9be8badea4c35b9724062cecc501d17a3158d1d20/expr.ipynb\"><img src=\"data:image/png;base64,iVBORw0KGgoAAAANSUhEUgAAAAgAAAAPBAMAAAArJJMAAAAAHlBMVEX///+YmJgyMjIQEBBmZmaI\n",
       "iIhUVFTu7u5EREQAAAAw+MI4AAAAAXRSTlMAQObYZgAAACFJREFUCNdjYGBoZ2BgqJjOwFCWBiQY\n",
       "WEklWJwnOTKAAACjEQo8HvEr3AAAAABJRU5ErkJggg==\n",
       "\" style=\"display:inline;vertical-align:middle;\" /></a></td></tr>\n",
       "<tr><td>10</td><td>Literal</td><td></td><td><a class=\"ProveItLink\" href=\"../../../__pv_it/77d407a64829263cdc16415becd4c2293f77a4bf0/expr.ipynb\"><img src=\"data:image/png;base64,iVBORw0KGgoAAAANSUhEUgAAAAkAAAAOBAMAAAAPuiubAAAAMFBMVEX///+YmJh2dnbMzMwQEBAi\n",
       "IiLu7u6qqqqIiIhUVFS6urpEREQyMjJmZmbc3NwAAACOMKdoAAAAAXRSTlMAQObYZgAAAFBJREFU\n",
       "CNdj4Lt7egEDw0sGju8MDNMYGOIZGFwSGOYvYDifwHAfKAEUSQASzJ9ATJ4NIPI2iOCYACJrGfge\n",
       "MDBfYGB8wPBUSekqUPH//18ZAIliFhc3zESNAAAAAElFTkSuQmCC\n",
       "\" style=\"display:inline;vertical-align:middle;\" /></a></td></tr>\n",
       "</table>\n"
      ],
      "text/plain": [
       "0. (8 + 4 , 12)\n",
       "   core type: ExprTuple\n",
       "   sub-expressions: 1, 2\n",
       "1. 8 + 4\n",
       "   core type: Operation\n",
       "   operator: 3\n",
       "   operands: 4\n",
       "2. 12\n",
       "   core type: Operation\n",
       "   operator: 5\n",
       "   operands: 6\n",
       "3. +\n",
       "   core type: Literal\n",
       "   sub-expressions: \n",
       "4. (8 , 4)\n",
       "   core type: ExprTuple\n",
       "   sub-expressions: 7, 8\n",
       "5. Decimal\n",
       "   core type: Literal\n",
       "   sub-expressions: \n",
       "6. (1 , 2)\n",
       "   core type: ExprTuple\n",
       "   sub-expressions: 9, 10\n",
       "7. 8\n",
       "   core type: Literal\n",
       "   sub-expressions: \n",
       "8. 4\n",
       "   core type: Literal\n",
       "   sub-expressions: \n",
       "9. 1\n",
       "   core type: Literal\n",
       "   sub-expressions: \n",
       "10. 2\n",
       "    core type: Literal\n",
       "    sub-expressions: "
      ]
     },
     "execution_count": 4,
     "metadata": {},
     "output_type": "execute_result"
    }
   ],
   "source": [
    "# display the expression information\n",
    "expr.exprInfo()"
   ]
  },
  {
   "cell_type": "code",
   "execution_count": null,
   "metadata": {},
   "outputs": [],
   "source": []
  }
 ],
 "metadata": {
  "kernelspec": {
   "display_name": "Python 3",
   "language": "python",
   "name": "python3"
  }
 },
 "nbformat": 4,
 "nbformat_minor": 0
}
