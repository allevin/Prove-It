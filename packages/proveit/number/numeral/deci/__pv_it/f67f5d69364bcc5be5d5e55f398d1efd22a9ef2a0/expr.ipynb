{
 "cells": [
  {
   "cell_type": "markdown",
   "metadata": {},
   "source": [
    "Expression of type <a class=\"ProveItLink\" href=\"../../../../../../../doc/html/api/proveit.ExprTuple.html\">ExprTuple</a>\n",
    "=======================\n",
    "# from context <a class=\"ProveItLink\" href=\"../../_context_.ipynb\">proveit.number.numeral.deci</a>"
   ]
  },
  {
   "cell_type": "code",
   "execution_count": 1,
   "metadata": {},
   "outputs": [],
   "source": [
    "# import Expression classes needed to build the expression\n",
    "from proveit import ExprTuple\n",
    "from proveit.number import Add, DecimalSequence, four, nine, one, three"
   ]
  },
  {
   "cell_type": "code",
   "execution_count": 2,
   "metadata": {},
   "outputs": [
    {
     "data": {
      "text/html": [
       "<strong id=\"expr\">expr:</strong> <a class=\"ProveItLink\" href=\"expr.ipynb\"><img src=\"data:image/png;base64,iVBORw0KGgoAAAANSUhEUgAAAFcAAAAVBAMAAADBdm84AAAAMFBMVEX////c3NwiIiJERESqqqqY\n",
       "mJh2dnZmZmYQEBDu7u4yMjJUVFTMzMyIiIi6uroAAAAs73DqAAAAAXRSTlMAQObYZgAAAX9JREFU\n",
       "KM+V0z1Iw0AUB/B/bZsmaRO7KSjoqJNdHJzM1sViXBwcpCDYSRTEKp06dBO04lLo0CwdjAjuFerk\n",
       "IkIWwUGhOgqCFT9ooerLNSm5SKFmOO7d+/Hy7nIB/vWo1mBu1R6ugXL2wp+KnbuzOQrW1zRELik4\n",
       "QaCA0bgPDyWcyXELGIHaAQxAsRDMI+rkjlx85yyUa4Q3NbwBy4BYxLABodXNpRwbWHErK5RZZLgE\n",
       "PAOVBJRvHguyF4O1EdSQBav8weMlH5Zpv8IWqkAkj2CHw5LF46tTGkIGDihVRZLHAnyVFWJqHnaz\n",
       "4Yebdw4v+DEOi4i9orszdho505wyTXqjlObxODCv27jAlmTDWzlUq9X3rR6Wfoo2pjZmKW5iosGf\n",
       "BsQEpF7lNjATR9hAhuJpnOEvrky6+BbqJzu6J1rIbGs+LNS/9FKTJpG99g5CuzkCcgMid4VS3uCR\n",
       "v1v0ucNp78KLN9B5vMGuaL+Hx5J9YGP9rMKHUbvfwIC/1T3wC+VnZnuRYFkzAAAAAElFTkSuQmCC\n",
       "\" style=\"display:inline;vertical-align:middle;\" /></a><br>"
      ],
      "text/plain": [
       "expr: (9 + 4 , 13)"
      ]
     },
     "execution_count": 2,
     "metadata": {},
     "output_type": "execute_result"
    }
   ],
   "source": [
    "# build up the expression from sub-expressions\n",
    "expr = ExprTuple(Add(nine, four), DecimalSequence(one, three))"
   ]
  },
  {
   "cell_type": "code",
   "execution_count": 3,
   "metadata": {},
   "outputs": [
    {
     "name": "stdout",
     "output_type": "stream",
     "text": [
      "Passed sanity check: built 'expr' is the same as the stored Expression.\n"
     ]
    }
   ],
   "source": [
    "# check that the built expression is the same as the stored expression\n",
    "%check_expr"
   ]
  },
  {
   "cell_type": "code",
   "execution_count": 4,
   "metadata": {},
   "outputs": [
    {
     "data": {
      "text/html": [
       "<table><tr><th>&nbsp;</th><th>core type</th><th>sub-expressions</th><th>expression</th></tr>\n",
       "<tr><td>0</td><td>ExprTuple</td><td>1, 2</td><td><a class=\"ProveItLink\" href=\"expr.ipynb\"><img src=\"data:image/png;base64,iVBORw0KGgoAAAANSUhEUgAAAFcAAAAVBAMAAADBdm84AAAAMFBMVEX////c3NwiIiJERESqqqqY\n",
       "mJh2dnZmZmYQEBDu7u4yMjJUVFTMzMyIiIi6uroAAAAs73DqAAAAAXRSTlMAQObYZgAAAX9JREFU\n",
       "KM+V0z1Iw0AUB/B/bZsmaRO7KSjoqJNdHJzM1sViXBwcpCDYSRTEKp06dBO04lLo0CwdjAjuFerk\n",
       "IkIWwUGhOgqCFT9ooerLNSm5SKFmOO7d+/Hy7nIB/vWo1mBu1R6ugXL2wp+KnbuzOQrW1zRELik4\n",
       "QaCA0bgPDyWcyXELGIHaAQxAsRDMI+rkjlx85yyUa4Q3NbwBy4BYxLABodXNpRwbWHErK5RZZLgE\n",
       "PAOVBJRvHguyF4O1EdSQBav8weMlH5Zpv8IWqkAkj2CHw5LF46tTGkIGDihVRZLHAnyVFWJqHnaz\n",
       "4Yebdw4v+DEOi4i9orszdho505wyTXqjlObxODCv27jAlmTDWzlUq9X3rR6Wfoo2pjZmKW5iosGf\n",
       "BsQEpF7lNjATR9hAhuJpnOEvrky6+BbqJzu6J1rIbGs+LNS/9FKTJpG99g5CuzkCcgMid4VS3uCR\n",
       "v1v0ucNp78KLN9B5vMGuaL+Hx5J9YGP9rMKHUbvfwIC/1T3wC+VnZnuRYFkzAAAAAElFTkSuQmCC\n",
       "\" style=\"display:inline;vertical-align:middle;\" /></a></td></tr>\n",
       "<tr><td>1</td><td>Operation</td><td>operator:&nbsp;3<br>operands:&nbsp;4<br></td><td><a class=\"ProveItLink\" href=\"../e0b3017f114c7ecd7e4c45ea935ff2603f9543400/expr.ipynb\"><img src=\"data:image/png;base64,iVBORw0KGgoAAAANSUhEUgAAAC0AAAAQBAMAAABw0OvaAAAAMFBMVEX///8iIiKYmJi6urqIiIgy\n",
       "MjJERESqqqoQEBDc3NzMzMx2dnZmZmZUVFTu7u4AAABn2L4sAAAAAXRSTlMAQObYZgAAAKtJREFU\n",
       "GNNjYHh7+hYDGuC6wMDA2c4wYwKaOGMCAwNbAwNvAoT7EibuARTgD2Dg/gfhlkCFOVWB4u8TGFg+\n",
       "o4pzs0LVf0IV1wSJ8zQwsH1BEedzAInzBTHUoIpzM4DEGZhclnxHEa+CiDNA3HM0NFQiNDQWaMAG\n",
       "mDhrALJ69rt37/c6MLD8ZJhvgOoeBg6gehY5hhAGLOIMe44VoIlz3/+jgBxcJQzYgQkSGwBWByqP\n",
       "vGG8lgAAAABJRU5ErkJggg==\n",
       "\" style=\"display:inline;vertical-align:middle;\" /></a></td></tr>\n",
       "<tr><td>2</td><td>Operation</td><td>operator:&nbsp;5<br>operands:&nbsp;6<br></td><td><a class=\"ProveItLink\" href=\"../873bb3ffc2667d9132f492afcc62e21bc6e2906e0/expr.ipynb\"><img src=\"data:image/png;base64,iVBORw0KGgoAAAANSUhEUgAAABMAAAAPBAMAAAD0aukfAAAAMFBMVEX///8iIiK6urrc3Nyqqqp2\n",
       "dnbMzMyYmJgyMjIQEBBmZmaIiIhUVFTu7u5EREQAAAA2D8nPAAAAAXRSTlMAQObYZgAAAGtJREFU\n",
       "CNdjYGB4y8DAFhrnwMDAcO8vA4MVA9NvBoY7Z4DMeAeGj0BRbiDTH8FkACuAMjkOwJipPQxwUe5J\n",
       "cCbD/AsQphkDw/sCMJP3/wUYk+EHA4O8AYS5nYHpKwMD18ofyxlYVq1wYEACAGTnJW2UDzkRAAAA\n",
       "AElFTkSuQmCC\n",
       "\" style=\"display:inline;vertical-align:middle;\" /></a></td></tr>\n",
       "<tr><td>3</td><td>Literal</td><td></td><td><a class=\"ProveItLink\" href=\"../../../../addition/__pv_it/3e6688136fa3c7aefbebe51301b7c3ebf0b69c440/expr.ipynb\"><img src=\"data:image/png;base64,iVBORw0KGgoAAAANSUhEUgAAAA4AAAAOBAMAAADtZjDiAAAAJFBMVEX///+6urpUVFQQEBAiIiIy\n",
       "MjJmZmaIiIiqqqrc3Nzu7u4AAACgHpL+AAAAAXRSTlMAQObYZgAAAB5JREFUCNdjYGBgWMkAAe2k\n",
       "0Kmhoc6hoUGk6BMHYgAHOwjcado9fwAAAABJRU5ErkJggg==\n",
       "\" style=\"display:inline;vertical-align:middle;\" /></a></td></tr>\n",
       "<tr><td>4</td><td>ExprTuple</td><td>7, 8</td><td><a class=\"ProveItLink\" href=\"../68133b2991aeb96fe9553a450db02b24f13c99000/expr.ipynb\"><img src=\"data:image/png;base64,iVBORw0KGgoAAAANSUhEUgAAACkAAAAVBAMAAAAp9toTAAAAMFBMVEX////c3NwiIiJERESqqqqY\n",
       "mJh2dnZmZmYQEBDu7u4yMjJUVFTMzMyIiIi6uroAAAAs73DqAAAAAXRSTlMAQObYZgAAAQtJREFU\n",
       "GNNt0SFMw0AUgOG/dL31uq1MkiDQuBr8HAYBBoEgc1MkS0imK+ZIYJIEQc0EggQ/kuEJSSUCkgWJ\n",
       "GgRCEBDu3bUVDRXXd99d3r17B/9/cV6DQxnu4WJ0W1L7huad+V/hjVnrFrqSQAadHD+llRT6aIJ9\n",
       "CCesZqhvh96B0XN4hcuEzq9TFRn1e4ywez+d7omqIVNopvg/FnUu2sg4NfGUbacK0ThFEgbPDx9W\n",
       "d6y2l7hjXA26X+rYapTJ2JjN5ie5ZNgyF3ljY8HELodmb5AxMLrJNfq9UlPZiwkHxz30mbRCzb92\n",
       "iRaEZV/iMpAbB/0iDqoGH9lO1lRLPevFpHqSlqTy6i/0BH8PFjtlq/A06wAAAABJRU5ErkJggg==\n",
       "\" style=\"display:inline;vertical-align:middle;\" /></a></td></tr>\n",
       "<tr><td>5</td><td>Literal</td><td></td><td><a class=\"ProveItLink\" href=\"../b28e6317a1d330492d51cd67ccba81d4d210b8b30/expr.ipynb\"><img src=\"data:image/png;base64,iVBORw0KGgoAAAANSUhEUgAAAE8AAAAOBAMAAACcHlx8AAAAMFBMVEX///8iIiIQEBCYmJjc3Ny6\n",
       "urru7u5mZmZ2dnaqqqrMzMxEREQyMjJUVFSIiIgAAABUCcz6AAAAAXRSTlMAQObYZgAAAWhJREFU\n",
       "KM99kL9Lw3AQxV/bNE1s0rh1VNTBqWR2sAXdEwRns9XJtFsRwSxVx/oXNLgqNKugtLsgHQVtDWLt\n",
       "IEahVrT+vIsK1qEH+QS+PN67ewDuPlutExd/JtnA8EgTJv/eAPllSOj/EyLLGHsmbFoYNRuMVJ9Q\n",
       "80cKM2HQA8FojtIJA6bmsWMTQqmbg7gTuKslxG8Xg7N4cEiadnkGMfb6Ts062M0JBeyZyrizAkk9\n",
       "hV1GFVjKUaLKXrjnai5NoY+EK2aQnKsUsRzxYPskFHpIeIiGF9QZU1Cn56+hUoZIq1u2iapFx9JD\n",
       "xEctrPmVvlgPWuF3X/kJrCoCs/xgu7gKa/wgRD1obG8wlCZ7IY34o2hwvnUsco18+pEV7uFrOqAb\n",
       "pkNeYh9qY8Gu4EJ2e9JPjQcUm2ogn1MLkNyqoNNlVIniO4oupyUM1oB8/b11vs47bAfkWQpukAwQ\n",
       "n4TkQW67Qruz30F3C18Fz3drZAxLCAAAAABJRU5ErkJggg==\n",
       "\" style=\"display:inline;vertical-align:middle;\" /></a></td></tr>\n",
       "<tr><td>6</td><td>ExprTuple</td><td>9, 10</td><td><a class=\"ProveItLink\" href=\"../4a1e1fc4940fe3d4dea2df2e48254cb5d80bc01c0/expr.ipynb\"><img src=\"data:image/png;base64,iVBORw0KGgoAAAANSUhEUgAAACkAAAAVBAMAAAAp9toTAAAAMFBMVEX////c3NwiIiJERESqqqqY\n",
       "mJh2dnZmZmYQEBDu7u4yMjJUVFTMzMyIiIi6uroAAAAs73DqAAAAAXRSTlMAQObYZgAAAOpJREFU\n",
       "GNNjYMAO+C6gCcSBiNNAzDwBIsCTluzAwH4AyFrJwMBpDxUVZ+D7y8CwgIGB9wID5+79UNF8B4ZP\n",
       "DAxhDAwcIIH7UFF/sOgMBoZXDEiiDGATmB0YylBFuTYwMLAVMCxFET22GkiwLGDoQ1XLC+TzNTD8\n",
       "QxVl6J/AwPMBVVSGgcE+ACTagiTK+X8CSBRogilMFCTxi4FBX4CBdQFDOlSUE+h8hqsMfN/ALnsE\n",
       "5JT3Lw/g7BcAuqm8ygHo5gcMHAIwX8EYIB+zJkDZrHDH5UJCElWUExiSDNJQDjxKuEFGMaLH0B0G\n",
       "BgBc4kCXqUbjFQAAAABJRU5ErkJggg==\n",
       "\" style=\"display:inline;vertical-align:middle;\" /></a></td></tr>\n",
       "<tr><td>7</td><td>Literal</td><td></td><td><a class=\"ProveItLink\" href=\"../../../__pv_it/cdcd6ad997b4d5c13a719b005810863ba48ff0c70/expr.ipynb\"><img src=\"data:image/png;base64,iVBORw0KGgoAAAANSUhEUgAAAAoAAAAOBAMAAADkjZCYAAAAMFBMVEX///8iIiKYmJi6urqIiIgy\n",
       "MjJERESqqqoQEBDc3NzMzMx2dnZmZmZUVFTu7u4AAABn2L4sAAAAAXRSTlMAQObYZgAAAFVJREFU\n",
       "CNdjYHh7+hYDA2c7w4wJDGwNDLwJDPwBDNz/GN4nMLB8BrM/MfA0MLB9YeALYqj5wsDA5LLkOwMQ\n",
       "ANUAAWsAA8tPhvkGDCxyDCFA/p5jBQwAtzwVEbGPESsAAAAASUVORK5CYII=\n",
       "\" style=\"display:inline;vertical-align:middle;\" /></a></td></tr>\n",
       "<tr><td>8</td><td>Literal</td><td></td><td><a class=\"ProveItLink\" href=\"../../../__pv_it/23412ce59ea7e77353d2f9225e02248e73651ca00/expr.ipynb\"><img src=\"data:image/png;base64,iVBORw0KGgoAAAANSUhEUgAAAAoAAAAPBAMAAAAv0UM9AAAALVBMVEX///9mZmaqqqru7u52dnYy\n",
       "MjKYmJjc3NwQEBCIiIhEREQiIiJUVFTMzMwAAACUDTcXAAAAAXRSTlMAQObYZgAAAD5JREFUCNdj\n",
       "YGBguMMAArtABGcXiCyLApEOIJKtAERaMoBIBxDJdAFEmjCASJ0zZ16cBCkF64KQPu/EwBwGACv6\n",
       "DSRgin9qAAAAAElFTkSuQmCC\n",
       "\" style=\"display:inline;vertical-align:middle;\" /></a></td></tr>\n",
       "<tr><td>9</td><td>Literal</td><td></td><td><a class=\"ProveItLink\" href=\"../../../__pv_it/9be8badea4c35b9724062cecc501d17a3158d1d20/expr.ipynb\"><img src=\"data:image/png;base64,iVBORw0KGgoAAAANSUhEUgAAAAgAAAAPBAMAAAArJJMAAAAAHlBMVEX///+YmJgyMjIQEBBmZmaI\n",
       "iIhUVFTu7u5EREQAAAAw+MI4AAAAAXRSTlMAQObYZgAAACFJREFUCNdjYGBoZ2BgqJjOwFCWBiQY\n",
       "WEklWJwnOTKAAACjEQo8HvEr3AAAAABJRU5ErkJggg==\n",
       "\" style=\"display:inline;vertical-align:middle;\" /></a></td></tr>\n",
       "<tr><td>10</td><td>Literal</td><td></td><td><a class=\"ProveItLink\" href=\"../../../__pv_it/9176d93c83afa2c995b614976e3cb49207102fa70/expr.ipynb\"><img src=\"data:image/png;base64,iVBORw0KGgoAAAANSUhEUgAAAAoAAAAOBAMAAADkjZCYAAAAMFBMVEX///+YmJju7u4QEBBUVFQy\n",
       "MjIiIiKIiIi6urpmZmbc3NyqqqpERER2dnbMzMwAAAB0GlNiAAAAAXRSTlMAQObYZgAAAE1JREFU\n",
       "CNdjYHh79zQDA9cEhv4CBt7fDPwJDNxgEgiAIkAQAsR8Vx1ATIbiBhDJ/ImB6wEDz0cG/U8gkj+A\n",
       "ge0XA7sAQ/8FBoadM6MZAEflFACalZ/OAAAAAElFTkSuQmCC\n",
       "\" style=\"display:inline;vertical-align:middle;\" /></a></td></tr>\n",
       "</table>\n"
      ],
      "text/plain": [
       "0. (9 + 4 , 13)\n",
       "   core type: ExprTuple\n",
       "   sub-expressions: 1, 2\n",
       "1. 9 + 4\n",
       "   core type: Operation\n",
       "   operator: 3\n",
       "   operands: 4\n",
       "2. 13\n",
       "   core type: Operation\n",
       "   operator: 5\n",
       "   operands: 6\n",
       "3. +\n",
       "   core type: Literal\n",
       "   sub-expressions: \n",
       "4. (9 , 4)\n",
       "   core type: ExprTuple\n",
       "   sub-expressions: 7, 8\n",
       "5. Decimal\n",
       "   core type: Literal\n",
       "   sub-expressions: \n",
       "6. (1 , 3)\n",
       "   core type: ExprTuple\n",
       "   sub-expressions: 9, 10\n",
       "7. 9\n",
       "   core type: Literal\n",
       "   sub-expressions: \n",
       "8. 4\n",
       "   core type: Literal\n",
       "   sub-expressions: \n",
       "9. 1\n",
       "   core type: Literal\n",
       "   sub-expressions: \n",
       "10. 3\n",
       "    core type: Literal\n",
       "    sub-expressions: "
      ]
     },
     "execution_count": 4,
     "metadata": {},
     "output_type": "execute_result"
    }
   ],
   "source": [
    "# display the expression information\n",
    "expr.exprInfo()"
   ]
  },
  {
   "cell_type": "code",
   "execution_count": null,
   "metadata": {},
   "outputs": [],
   "source": []
  }
 ],
 "metadata": {
  "kernelspec": {
   "display_name": "Python 3",
   "language": "python",
   "name": "python3"
  }
 },
 "nbformat": 4,
 "nbformat_minor": 0
}
