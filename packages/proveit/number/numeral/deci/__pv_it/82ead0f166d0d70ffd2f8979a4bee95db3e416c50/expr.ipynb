{
 "cells": [
  {
   "cell_type": "markdown",
   "metadata": {},
   "source": [
    "Theorem <a class=\"ProveItLink\" href=\"../../_theorems_.ipynb#mult_0_0\">mult_0_0</a> of type <a class=\"ProveItLink\" href=\"../../../../../../../doc/html/api/proveit.logic.Equals.html\">Equals</a>\n",
    "=======================\n",
    "# from context <a class=\"ProveItLink\" href=\"../../_context_.ipynb\">proveit.number.numeral.deci</a>\n",
    "*** see <a class=\"ProveItLink\" href=\"dependencies.ipynb\">dependencies</a> ***"
   ]
  },
  {
   "cell_type": "code",
   "execution_count": 1,
   "metadata": {},
   "outputs": [],
   "source": [
    "# import the special expression\n",
    "from proveit.number.numeral.deci._theorems_ import mult_0_0"
   ]
  },
  {
   "cell_type": "code",
   "execution_count": 2,
   "metadata": {},
   "outputs": [
    {
     "name": "stdout",
     "output_type": "stream",
     "text": [
      "Passed sanity check: built 'mult_0_0' is the same as the stored Expression.\n"
     ]
    }
   ],
   "source": [
    "# check that the built expression is the same as the stored expression\n",
    "%check_expr mult_0_0"
   ]
  },
  {
   "cell_type": "code",
   "execution_count": 3,
   "metadata": {},
   "outputs": [
    {
     "data": {
      "text/html": [
       "<table><tr><th>&nbsp;</th><th>core type</th><th>sub-expressions</th><th>expression</th></tr>\n",
       "<tr><td>0</td><td>Operation</td><td>operator:&nbsp;1<br>operands:&nbsp;2<br></td><td><a class=\"ProveItLink\" href=\"expr.ipynb\"><img src=\"data:image/png;base64,iVBORw0KGgoAAAANSUhEUgAAAFcAAAAVBAMAAADBdm84AAAAMFBMVEX////c3NwiIiJERESqqqqY\n",
       "mJh2dnZmZmYQEBDu7u4yMjJUVFTMzMyIiIi6uroAAAAs73DqAAAAAXRSTlMAQObYZgAAAT1JREFU\n",
       "KM9jYCAJ8F3AFIvDpfg0A8P0uzVwLmft9QMM7AfQVYGFGRhWMjDoMUyCyzI94NRhYFiArhgizHuB\n",
       "gVeBgRcue4mB4RYDQxi6YogwxwQGpg0MfB9hotoMDO8FGGagK4YIv2Jg4C9g4PkCE/3OwHDegYHZ\n",
       "AU0xRLiMgUE+gYHnL1SQ8RtQ9AIDWwGqWqjwUojib8iiCQwsYD9UrQKB1QjhPoRizglwUb4GLCYn\n",
       "MPxDOGO+Atw+ng9YnfEP4sGvQJEZBlCfBGAohgq3MICCjgU56PwFoM4oUgIBZYSwKQMoUtgUkEI/\n",
       "iYGBdQFmpACF04EsFYYZiOh24OxhwAg6qPAjIGt67h5Eiim7DdTI9QA9IYGFOQSwJcUZ2FMoawI2\n",
       "0Vwc6XklFjHOBTgUS2MR4xbAoZgRS7a6g10pAJPwZOvOQ5U5AAAAAElFTkSuQmCC\n",
       "\" style=\"display:inline;vertical-align:middle;\" /></a></td></tr>\n",
       "<tr><td>1</td><td>Literal</td><td></td><td><a class=\"ProveItLink\" href=\"../../../../../logic/equality/__pv_it/2fb26078095930560931daa0500ce419a39ea6cd0/expr.ipynb\"><img src=\"data:image/png;base64,iVBORw0KGgoAAAANSUhEUgAAAA4AAAAFBAMAAACHocAhAAAAFVBMVEX///9EREQiIiJUVFQyMjJm\n",
       "ZmYAAADubVkoAAAAAXRSTlMAQObYZgAAABRJREFUCNdjCHEBAWcGXCBICQQUAUpuAwlgGKrkAAAA\n",
       "AElFTkSuQmCC\n",
       "\" style=\"display:inline;vertical-align:middle;\" /></a></td></tr>\n",
       "<tr><td>2</td><td>ExprTuple</td><td>3, 6</td><td><a class=\"ProveItLink\" href=\"../4cf21629c2ba7a2fe17d68a7255056fbf4696db40/expr.ipynb\"><img src=\"data:image/png;base64,iVBORw0KGgoAAAANSUhEUgAAAEMAAAAVBAMAAADvM06qAAAAMFBMVEX////c3NwiIiJERESqqqqY\n",
       "mJh2dnZmZmYQEBDu7u4yMjJUVFTMzMyIiIi6uroAAAAs73DqAAAAAXRSTlMAQObYZgAAASVJREFU\n",
       "KM+Nkq9Pw0AUgL+NbeygLfUIKnAQgsH3P6AKSRrM1JKpKUgQSEIWzOqoQeD4AxD1CBoMCT+SDYmB\n",
       "JWMoCHd0vZ5oGiqa7919yXvv3oN/fE5adbuvfrcwfDnUZ+LoITFoUQVXsMV5kiv1kdg0KQY7xfaw\n",
       "41y5h0eT9qA9oH6NM8mVDXh3DYrgDVZ6WNNc+YI736AFnz6shVjfc6M2kxepQa0el5kyM5XQoEbM\n",
       "WaGIQYniHPNTJLrwShJZH0pR5X7Kw2h7XmSgyw2UcoJqumE2vesaJBPtoJ6u5RlPd4DQRDOmI4N1\n",
       "omIAvjj9qyoj1fSrDIbdm2KM/aeEaJITSyPabtkOjDXJATTDMiXQ1M2WoUIRagVWSwxb07Kqo1a5\n",
       "mM/wC/wBYxT0LXHbAAAAAElFTkSuQmCC\n",
       "\" style=\"display:inline;vertical-align:middle;\" /></a></td></tr>\n",
       "<tr><td>3</td><td>Operation</td><td>operator:&nbsp;4<br>operands:&nbsp;5<br></td><td><a class=\"ProveItLink\" href=\"../e0a0bfd67f9c4f8e85821fb1b93b5ecd1e7460350/expr.ipynb\"><img src=\"data:image/png;base64,iVBORw0KGgoAAAANSUhEUgAAACMAAAAOBAMAAABXxbiCAAAAMFBMVEX///9EREQQEBCYmJh2dnaq\n",
       "qqrc3NxUVFQyMjK6uroiIiLMzMyIiIhmZmbu7u4AAADSWfX9AAAAAXRSTlMAQObYZgAAAJZJREFU\n",
       "GNNjYHh75jYDDPDdObsBSK1keLUBJsQ1gW81AwPPAgaeBpjQKQaGE0CJAgbObzCh5QwM8xMY+C8w\n",
       "cH+FCf1lYNgfwJDvwMD9ByrC9gUodAAs9AVZyAEuxPcARQik8f0CuEaQ8Z+BQo8EoMYbgBzBiuyI\n",
       "+ASQU1kWIDnVC0gtZXiE8FAAnzaQeutTjfD2leMbGABReDVgxCSNEAAAAABJRU5ErkJggg==\n",
       "\" style=\"display:inline;vertical-align:middle;\" /></a></td></tr>\n",
       "<tr><td>4</td><td>Literal</td><td></td><td><a class=\"ProveItLink\" href=\"../../../../multiplication/__pv_it/21fd2079611555ecce512d99547a00d551e6b86b0/expr.ipynb\"><img src=\"data:image/png;base64,iVBORw0KGgoAAAANSUhEUgAAAAMAAAADBAMAAACkBqiMAAAAElBMVEX///9EREQQEBAiIiLu7u4A\n",
       "AABGBidwAAAAAXRSTlMAQObYZgAAABFJREFUCNdjYHFgcDVgcBIAAASWAQx4jI0xAAAAAElFTkSu\n",
       "QmCC\n",
       "\" style=\"display:inline;vertical-align:middle;\" /></a></td></tr>\n",
       "<tr><td>5</td><td>ExprTuple</td><td>6, 6</td><td><a class=\"ProveItLink\" href=\"../44c8f5f353bc75ce004ffb99007c5966798d23f70/expr.ipynb\"><img src=\"data:image/png;base64,iVBORw0KGgoAAAANSUhEUgAAACkAAAAVBAMAAAAp9toTAAAAMFBMVEX////c3NwiIiJERESqqqqY\n",
       "mJh2dnZmZmYQEBDu7u4yMjJUVFTMzMyIiIi6uroAAAAs73DqAAAAAXRSTlMAQObYZgAAAQVJREFU\n",
       "GNNtkTFPwlAUhT+QAk/b0p1BBjeNm3v/gU6OpnFhImFiksTBkSBxgbGLAxs/wKG7g42LiWBCHFlA\n",
       "IzBpfLeFlwi+4eXeb7j3nHPh/+fGG+BCvkfovl2lQDVfIgqRrvpwzF2U0OxYHUEIToxTwQkT+gyv\n",
       "cA7FDtkB7kdCD2Hq0YMJlOrYXwldwpPPjk8D9gPsb4GZhaYx+Tr3KV0YGpALaW9T95qf7Qn2TKhs\n",
       "m5ttZ0JvEGU5o+zUkwkniIt8hU7q4hKskKpuDuhF6lMc+6qFKHvXTbf2gLr1dDqNoQ5kd0zRWye6\n",
       "LsSxFaxqywRcS5P8S5XkV1415iR7MiqzeaER/ALPm0fzkYndsgAAAABJRU5ErkJggg==\n",
       "\" style=\"display:inline;vertical-align:middle;\" /></a></td></tr>\n",
       "<tr><td>6</td><td>Literal</td><td></td><td><a class=\"ProveItLink\" href=\"../../../__pv_it/ec23fc7a1b4222a5f4948b495002b97d6fa18c3c0/expr.ipynb\"><img src=\"data:image/png;base64,iVBORw0KGgoAAAANSUhEUgAAAAoAAAAOBAMAAADkjZCYAAAALVBMVEX///8QEBCYmJh2dnaqqqrc\n",
       "3NxUVFQyMjK6uroiIiLMzMyIiIhmZmbu7u4AAAAZjyHdAAAAAXRSTlMAQObYZgAAAEpJREFUCNdj\n",
       "YLiz+xQDA8MMhpsLGLgnMHAXMHAmMHA8ZeA7wMD1hCHOgIHrNZh8jES+Bss+AqlkeQrSxTyBgWEK\n",
       "w8UFDAx3rLMYAMCjFldHSx/9AAAAAElFTkSuQmCC\n",
       "\" style=\"display:inline;vertical-align:middle;\" /></a></td></tr>\n",
       "</table>\n"
      ],
      "text/plain": [
       "0. (0 * 0) = 0\n",
       "   core type: Operation\n",
       "   operator: 1\n",
       "   operands: 2\n",
       "1. =\n",
       "   core type: Literal\n",
       "   sub-expressions: \n",
       "2. (0 * 0 , 0)\n",
       "   core type: ExprTuple\n",
       "   sub-expressions: 3, 6\n",
       "3. 0 * 0\n",
       "   core type: Operation\n",
       "   operator: 4\n",
       "   operands: 5\n",
       "4. *\n",
       "   core type: Literal\n",
       "   sub-expressions: \n",
       "5. (0 , 0)\n",
       "   core type: ExprTuple\n",
       "   sub-expressions: 6, 6\n",
       "6. 0\n",
       "   core type: Literal\n",
       "   sub-expressions: "
      ]
     },
     "execution_count": 3,
     "metadata": {},
     "output_type": "execute_result"
    }
   ],
   "source": [
    "# display the expression information\n",
    "mult_0_0.exprInfo()"
   ]
  },
  {
   "cell_type": "code",
   "execution_count": null,
   "metadata": {},
   "outputs": [],
   "source": []
  }
 ],
 "metadata": {
  "kernelspec": {
   "display_name": "Python 3",
   "language": "python",
   "name": "python3"
  }
 },
 "nbformat": 4,
 "nbformat_minor": 0
}
