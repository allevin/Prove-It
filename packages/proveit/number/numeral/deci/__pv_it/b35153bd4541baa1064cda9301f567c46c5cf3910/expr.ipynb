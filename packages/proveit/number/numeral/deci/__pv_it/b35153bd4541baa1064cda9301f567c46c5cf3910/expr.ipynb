{
 "cells": [
  {
   "cell_type": "markdown",
   "metadata": {},
   "source": [
    "Expression of type <a class=\"ProveItLink\" href=\"../../../../../../../doc/html/api/proveit.ExprTuple.html\">ExprTuple</a>\n",
    "=======================\n",
    "# from context <a class=\"ProveItLink\" href=\"../../_context_.ipynb\">proveit.number.numeral.deci</a>"
   ]
  },
  {
   "cell_type": "code",
   "execution_count": 1,
   "metadata": {},
   "outputs": [],
   "source": [
    "# import Expression classes needed to build the expression\n",
    "from proveit import ExprTuple\n",
    "from proveit.number import DecimalSequence, Mult, five, two"
   ]
  },
  {
   "cell_type": "code",
   "execution_count": 2,
   "metadata": {},
   "outputs": [
    {
     "data": {
      "text/html": [
       "<strong id=\"expr\">expr:</strong> <a class=\"ProveItLink\" href=\"expr.ipynb\"><img src=\"data:image/png;base64,iVBORw0KGgoAAAANSUhEUgAAAE0AAAAVBAMAAADx+n4ZAAAAMFBMVEX////c3NwiIiJERESqqqqY\n",
       "mJh2dnZmZmYQEBDu7u4yMjJUVFTMzMyIiIi6uroAAAAs73DqAAAAAXRSTlMAQObYZgAAAWlJREFU\n",
       "KM+Nkj1LA0EQht8jn5fkwmGhhU3+QUSwsEunpZVgIykkNoqHgilSJIqFlW6ZLgcSRBtjI4qo6Sxs\n",
       "7DVwWlqpSCrxnM3srgaVuMXePDvv3M7MDvDflb0dKJmX2w3QFMMFfZaasxbYssp7AWOiTXgA7IZd\n",
       "E5sMwyJbo3DeFPqAQ9fun7SNLlVZUtYZkFc4S/ECaH3LJW2sbYGrgLEOPOEv3ZFAVekiBazT56Jz\n",
       "+aXr3AUG8oIx7qFJOImG8UWE/aHtTFdh1McO/6VGmy3YfWpqGlOYrYGD4++0NXLsXtHVr2nMPEtd\n",
       "JIe4lNdl+Dg5VBJOSyPptqg1OSRe9F2bQNVlcwqWy0j3TgAJysTXOg84hN2rwkPM7SFiPhbpIT1M\n",
       "u1o3gugGZzpUKq0yyr480sl15di0LFM+d1GXaeTD8JURqQBJ97dJeuhHerdY8TfdTD8u81wN0tl+\n",
       "b8x+Lqcf0zI3a/Dc3wOfuoViynF9lVYAAAAASUVORK5CYII=\n",
       "\" style=\"display:inline;vertical-align:middle;\" /></a><br>"
      ],
      "text/plain": [
       "expr: (5 * 5 , 25)"
      ]
     },
     "execution_count": 2,
     "metadata": {},
     "output_type": "execute_result"
    }
   ],
   "source": [
    "# build up the expression from sub-expressions\n",
    "expr = ExprTuple(Mult(five, five), DecimalSequence(two, five))"
   ]
  },
  {
   "cell_type": "code",
   "execution_count": 3,
   "metadata": {},
   "outputs": [
    {
     "name": "stdout",
     "output_type": "stream",
     "text": [
      "Passed sanity check: built 'expr' is the same as the stored Expression.\n"
     ]
    }
   ],
   "source": [
    "# check that the built expression is the same as the stored expression\n",
    "%check_expr"
   ]
  },
  {
   "cell_type": "code",
   "execution_count": 4,
   "metadata": {},
   "outputs": [
    {
     "data": {
      "text/html": [
       "<table><tr><th>&nbsp;</th><th>core type</th><th>sub-expressions</th><th>expression</th></tr>\n",
       "<tr><td>0</td><td>ExprTuple</td><td>1, 2</td><td><a class=\"ProveItLink\" href=\"expr.ipynb\"><img src=\"data:image/png;base64,iVBORw0KGgoAAAANSUhEUgAAAE0AAAAVBAMAAADx+n4ZAAAAMFBMVEX////c3NwiIiJERESqqqqY\n",
       "mJh2dnZmZmYQEBDu7u4yMjJUVFTMzMyIiIi6uroAAAAs73DqAAAAAXRSTlMAQObYZgAAAWlJREFU\n",
       "KM+Nkj1LA0EQht8jn5fkwmGhhU3+QUSwsEunpZVgIykkNoqHgilSJIqFlW6ZLgcSRBtjI4qo6Sxs\n",
       "7DVwWlqpSCrxnM3srgaVuMXePDvv3M7MDvDflb0dKJmX2w3QFMMFfZaasxbYssp7AWOiTXgA7IZd\n",
       "E5sMwyJbo3DeFPqAQ9fun7SNLlVZUtYZkFc4S/ECaH3LJW2sbYGrgLEOPOEv3ZFAVekiBazT56Jz\n",
       "+aXr3AUG8oIx7qFJOImG8UWE/aHtTFdh1McO/6VGmy3YfWpqGlOYrYGD4++0NXLsXtHVr2nMPEtd\n",
       "JIe4lNdl+Dg5VBJOSyPptqg1OSRe9F2bQNVlcwqWy0j3TgAJysTXOg84hN2rwkPM7SFiPhbpIT1M\n",
       "u1o3gugGZzpUKq0yyr480sl15di0LFM+d1GXaeTD8JURqQBJ97dJeuhHerdY8TfdTD8u81wN0tl+\n",
       "b8x+Lqcf0zI3a/Dc3wOfuoViynF9lVYAAAAASUVORK5CYII=\n",
       "\" style=\"display:inline;vertical-align:middle;\" /></a></td></tr>\n",
       "<tr><td>1</td><td>Operation</td><td>operator:&nbsp;3<br>operands:&nbsp;4<br></td><td><a class=\"ProveItLink\" href=\"../80c787af8fb5522073b0fdfd610a33f3418fa5800/expr.ipynb\"><img src=\"data:image/png;base64,iVBORw0KGgoAAAANSUhEUgAAACIAAAAOBAMAAAC4B9O8AAAAMFBMVEX///8iIiJERES6urqIiIjM\n",
       "zMxUVFRmZmYQEBCqqqp2dnbc3Nzu7u6YmJgyMjIAAADYGhJvAAAAAXRSTlMAQObYZgAAAJtJREFU\n",
       "CNdj4LvDvZIBBt4e2DWBgeP//wVwkf7/vxgY+MqWwgUYnmcFMDCwMSCBBBCBRcTFzQAukuKSzMDA\n",
       "dIDnM1xEh+E8WDoDRJyBiLE1gMj1QAt4PkJEuL4yKAJFgCp5moBcJgEGrs8MjQwM9RugxnAIMLD/\n",
       "ZihgYHgHM5gd6OAHDNsZOLthItwFDDM2MLCWp22A2x5els0AAIpfJFjpnDeVAAAAAElFTkSuQmCC\n",
       "\" style=\"display:inline;vertical-align:middle;\" /></a></td></tr>\n",
       "<tr><td>2</td><td>Operation</td><td>operator:&nbsp;5<br>operands:&nbsp;6<br></td><td><a class=\"ProveItLink\" href=\"../2a5e004ec383d3f17fad7201b62d660c53dff3340/expr.ipynb\"><img src=\"data:image/png;base64,iVBORw0KGgoAAAANSUhEUgAAABMAAAAOBAMAAAA/Njq6AAAAMFBMVEX///+YmJh2dnbMzMwQEBAi\n",
       "IiLu7u6qqqqIiIhUVFS6urpEREQyMjJmZmbc3NwAAACOMKdoAAAAAXRSTlMAQObYZgAAAI1JREFU\n",
       "CNctjCEKAkEYRp+M6C4OE82yBuN6CK1eYecidm0GEUzOESyewgW3GESWnWIwWAQRLOP84gsfLzw+\n",
       "TH106L4ZwZ3kTTuEAWygQF+GwMSycynCydL8NVLYdLF0YupJz3Y+onovu5a5/qp8DMkKDlFjPMf4\n",
       "KTQeVdHyFZRwy7IzD7qzeBrCC1VvPV+raiaB5uIggwAAAABJRU5ErkJggg==\n",
       "\" style=\"display:inline;vertical-align:middle;\" /></a></td></tr>\n",
       "<tr><td>3</td><td>Literal</td><td></td><td><a class=\"ProveItLink\" href=\"../../../../multiplication/__pv_it/21fd2079611555ecce512d99547a00d551e6b86b0/expr.ipynb\"><img src=\"data:image/png;base64,iVBORw0KGgoAAAANSUhEUgAAAAMAAAADBAMAAACkBqiMAAAAElBMVEX///9EREQQEBAiIiLu7u4A\n",
       "AABGBidwAAAAAXRSTlMAQObYZgAAABFJREFUCNdjYHFgcDVgcBIAAASWAQx4jI0xAAAAAElFTkSu\n",
       "QmCC\n",
       "\" style=\"display:inline;vertical-align:middle;\" /></a></td></tr>\n",
       "<tr><td>4</td><td>ExprTuple</td><td>8, 8</td><td><a class=\"ProveItLink\" href=\"../cf70de6578955e1a9088185c20dba96a9ff01ccb0/expr.ipynb\"><img src=\"data:image/png;base64,iVBORw0KGgoAAAANSUhEUgAAACkAAAAVBAMAAAAp9toTAAAAMFBMVEX////c3NwiIiJERESqqqqY\n",
       "mJh2dnZmZmYQEBDu7u4yMjJUVFTMzMyIiIi6uroAAAAs73DqAAAAAXRSTlMAQObYZgAAAQ9JREFU\n",
       "GNNtka9Pw1AQxz/N1nbtBqkCgdnfQDKBm+QvIMGQCRIMhCoQEwyC3ipx1CwEFBhCQiB1CAweljRI\n",
       "FCBQZOXee31L2PbEvbvPXb65HzD/Lb5MgS1lnmGYLLU1CDedbfxMvEsYFD+mrFYUHUhhQQQubjND\n",
       "w+6u2A1JJ3BtJevansEHM7TS5kC+h9FjSUevOXgxQwnWOM9NVRKMoZrSN0U9K3InE/QYa9/7tXQ/\n",
       "o/GpaKWJZ5KrQnNFT6W5Jv6XpidwFCmFFvjSfor0TQxX4KbsgBOzHgXfQpepHuvO3iV46t4QDCJo\n",
       "HN6LDXNqkd2oddTEbqf03cmC98wm/9NANslKGUxOUldSzvSF3uAPTl0+MCXd7ocAAAAASUVORK5C\n",
       "YII=\n",
       "\" style=\"display:inline;vertical-align:middle;\" /></a></td></tr>\n",
       "<tr><td>5</td><td>Literal</td><td></td><td><a class=\"ProveItLink\" href=\"../b28e6317a1d330492d51cd67ccba81d4d210b8b30/expr.ipynb\"><img src=\"data:image/png;base64,iVBORw0KGgoAAAANSUhEUgAAAE8AAAAOBAMAAACcHlx8AAAAMFBMVEX///8iIiIQEBCYmJjc3Ny6\n",
       "urru7u5mZmZ2dnaqqqrMzMxEREQyMjJUVFSIiIgAAABUCcz6AAAAAXRSTlMAQObYZgAAAWhJREFU\n",
       "KM99kL9Lw3AQxV/bNE1s0rh1VNTBqWR2sAXdEwRns9XJtFsRwSxVx/oXNLgqNKugtLsgHQVtDWLt\n",
       "IEahVrT+vIsK1qEH+QS+PN67ewDuPlutExd/JtnA8EgTJv/eAPllSOj/EyLLGHsmbFoYNRuMVJ9Q\n",
       "80cKM2HQA8FojtIJA6bmsWMTQqmbg7gTuKslxG8Xg7N4cEiadnkGMfb6Ts062M0JBeyZyrizAkk9\n",
       "hV1GFVjKUaLKXrjnai5NoY+EK2aQnKsUsRzxYPskFHpIeIiGF9QZU1Cn56+hUoZIq1u2iapFx9JD\n",
       "xEctrPmVvlgPWuF3X/kJrCoCs/xgu7gKa/wgRD1obG8wlCZ7IY34o2hwvnUsco18+pEV7uFrOqAb\n",
       "pkNeYh9qY8Gu4EJ2e9JPjQcUm2ogn1MLkNyqoNNlVIniO4oupyUM1oB8/b11vs47bAfkWQpukAwQ\n",
       "n4TkQW67Qruz30F3C18Fz3drZAxLCAAAAABJRU5ErkJggg==\n",
       "\" style=\"display:inline;vertical-align:middle;\" /></a></td></tr>\n",
       "<tr><td>6</td><td>ExprTuple</td><td>7, 8</td><td><a class=\"ProveItLink\" href=\"../6920faa293f385a3e49f52daa7274db20cf07a180/expr.ipynb\"><img src=\"data:image/png;base64,iVBORw0KGgoAAAANSUhEUgAAACkAAAAVBAMAAAAp9toTAAAAMFBMVEX////c3NwiIiJERESqqqqY\n",
       "mJh2dnZmZmYQEBDu7u4yMjJUVFTMzMyIiIi6uroAAAAs73DqAAAAAXRSTlMAQObYZgAAARBJREFU\n",
       "GNNtka9Pw0AUxz8dLW3XQYqawEyhCQmW7F/AkGBIBWEGQhUkIPgRDAYqkU0IAhSSBDOHQGx+EBok\n",
       "asHNcLy76xrScOLl+/3cu5f33sH/Z35YA1s6vEL7aM2C5qazjd8XdY/zyEfX0ECpBHKYGxJlNMY2\n",
       "93hX4oZcZwSXRD+GRibewJdkTPD/0pkuB0Y0Jpa+jwqYTbkzdpDYrCyUR27OlbG3VbdPMsEppqC/\n",
       "XNH9Pq2xpaMSrQgtNL0Q46YsGHoOJ7GusCrmBdbJRKTwAF5OD5ylnV4n/Bbaxj0znX1Ks0qpTngd\n",
       "Q+vwWWKzIIinG50KPbGXlNqrmtszm6zRUDbJYmmqL4l0Kaf+Q2/wC6igPNC0s0wRAAAAAElFTkSu\n",
       "QmCC\n",
       "\" style=\"display:inline;vertical-align:middle;\" /></a></td></tr>\n",
       "<tr><td>7</td><td>Literal</td><td></td><td><a class=\"ProveItLink\" href=\"../../../__pv_it/77d407a64829263cdc16415becd4c2293f77a4bf0/expr.ipynb\"><img src=\"data:image/png;base64,iVBORw0KGgoAAAANSUhEUgAAAAkAAAAOBAMAAAAPuiubAAAAMFBMVEX///+YmJh2dnbMzMwQEBAi\n",
       "IiLu7u6qqqqIiIhUVFS6urpEREQyMjJmZmbc3NwAAACOMKdoAAAAAXRSTlMAQObYZgAAAFBJREFU\n",
       "CNdj4Lt7egEDw0sGju8MDNMYGOIZGFwSGOYvYDifwHAfKAEUSQASzJ9ATJ4NIPI2iOCYACJrGfge\n",
       "MDBfYGB8wPBUSekqUPH//18ZAIliFhc3zESNAAAAAElFTkSuQmCC\n",
       "\" style=\"display:inline;vertical-align:middle;\" /></a></td></tr>\n",
       "<tr><td>8</td><td>Literal</td><td></td><td><a class=\"ProveItLink\" href=\"../../../__pv_it/aaeeaca7d86eb2b7cdc49e25c3108b81b52ec5400/expr.ipynb\"><img src=\"data:image/png;base64,iVBORw0KGgoAAAANSUhEUgAAAAkAAAAOBAMAAAAPuiubAAAAMFBMVEX///8iIiJERES6urqIiIjM\n",
       "zMxUVFRmZmYQEBCqqqp2dnbc3Nzu7u6YmJgyMjIAAADYGhJvAAAAAXRSTlMAQObYZgAAAE1JREFU\n",
       "CNdj4LvDvZKBgeP//wUMDHxlSxkYGNgYGBCki5sBAwPTAZ7PYG4GmFwfwKAIJA0YGhkY6jcwFDAw\n",
       "vGNg2M7A2c3AwFqetoEBAKS8EE1WXEJLAAAAAElFTkSuQmCC\n",
       "\" style=\"display:inline;vertical-align:middle;\" /></a></td></tr>\n",
       "</table>\n"
      ],
      "text/plain": [
       "0. (5 * 5 , 25)\n",
       "   core type: ExprTuple\n",
       "   sub-expressions: 1, 2\n",
       "1. 5 * 5\n",
       "   core type: Operation\n",
       "   operator: 3\n",
       "   operands: 4\n",
       "2. 25\n",
       "   core type: Operation\n",
       "   operator: 5\n",
       "   operands: 6\n",
       "3. *\n",
       "   core type: Literal\n",
       "   sub-expressions: \n",
       "4. (5 , 5)\n",
       "   core type: ExprTuple\n",
       "   sub-expressions: 8, 8\n",
       "5. Decimal\n",
       "   core type: Literal\n",
       "   sub-expressions: \n",
       "6. (2 , 5)\n",
       "   core type: ExprTuple\n",
       "   sub-expressions: 7, 8\n",
       "7. 2\n",
       "   core type: Literal\n",
       "   sub-expressions: \n",
       "8. 5\n",
       "   core type: Literal\n",
       "   sub-expressions: "
      ]
     },
     "execution_count": 4,
     "metadata": {},
     "output_type": "execute_result"
    }
   ],
   "source": [
    "# display the expression information\n",
    "expr.exprInfo()"
   ]
  },
  {
   "cell_type": "code",
   "execution_count": null,
   "metadata": {},
   "outputs": [],
   "source": []
  }
 ],
 "metadata": {
  "kernelspec": {
   "display_name": "Python 3",
   "language": "python",
   "name": "python3"
  }
 },
 "nbformat": 4,
 "nbformat_minor": 0
}
