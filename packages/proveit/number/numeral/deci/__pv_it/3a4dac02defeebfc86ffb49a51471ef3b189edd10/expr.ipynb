{
 "cells": [
  {
   "cell_type": "markdown",
   "metadata": {},
   "source": [
    "Expression of type <a class=\"ProveItLink\" href=\"../../../../../../../doc/html/api/proveit.number.Len.html\">Len</a>\n",
    "=======================\n",
    "# from context <a class=\"ProveItLink\" href=\"../../_context_.ipynb\">proveit.number.numeral.deci</a>"
   ]
  },
  {
   "cell_type": "code",
   "execution_count": 1,
   "metadata": {},
   "outputs": [],
   "source": [
    "# import Expression classes needed to build the expression\n",
    "from proveit._common_ import a, b, c, d, e, f, g, h, i\n",
    "from proveit.number import Len"
   ]
  },
  {
   "cell_type": "code",
   "execution_count": 2,
   "metadata": {},
   "outputs": [
    {
     "data": {
      "text/html": [
       "<strong id=\"expr\">expr:</strong> <a class=\"ProveItLink\" href=\"expr.ipynb\"><img src=\"data:image/png;base64,iVBORw0KGgoAAAANSUhEUgAAAMMAAAAVBAMAAAAJNkerAAAAMFBMVEX///8iIiJERESYmJhmZmYQ\n",
       "EBDu7u4yMjJUVFTMzMyIiIi6urp2dnbc3NyqqqoAAABw9lLDAAAAAXRSTlMAQObYZgAAAqtJREFU\n",
       "SMe1VU1oE0EUft1NJunmZ3vw4DGgggeRIIJShKb0JEQqeFBq1QiKHsQGlCJ6CUgpFMQgCN5cREQ2\n",
       "CutB9CKJUL3Uwx69JXrxJIk/REpo8c28me5sNmk82IWZfLz35n3fvHkzge+ws1/WhzUBUs7/T256\n",
       "fE57kuKR5mJLE9H41L5CxHb1uR826CuNMhwPUSzqkYnKAE12K2I60M73WRKBDsOBhE5hOSOyAdRL\n",
       "/RbWu769DrOhUcRL22fD7330IDsjdLCTGsWbEdnwuxmxxCZG6TioURRxZFbWzpHnlntXyvjkVgVA\n",
       "3yaZMsWn8ozNpd2q8odfHJI6Jp9I7zWeclWjuIHjtW/QztlPsCnzQy9BStHXpaVf/IxKbKsDjFUy\n",
       "v2nlHz8mW6VRx+mbRnEW5f2CWI5q3IV4Q6yYA0P0DPeVaRM9iFVl5qYCUyWgPWbXIUk5xlvTXJlG\n",
       "0QNIdmCMZGE2WyhNqvPkvgahU5MvVaXbCpyB8Q11OjKOwRzOj8MUdg4WSNZYAepCvJ1TJUGfR6gQ\n",
       "PdvsJlhUT8zf9ECVIkxxHrftoKySbO5ZAZqq2JpPu0D75a+1AQYxo44PFIfXtxQu1B50t2A5W2U8\n",
       "TRXmQQDcS56DwBdHCkdm4aXgyOxwVRxNAcybPhOqPKzYEY0CuyuRz+5KwwLuONnCthCgAOkqB4HP\n",
       "KsMln/2gy42DI9aF+2RbBrZOcdDO5MNN+4q3fu1BDS7jubGVGRAAiu4zAQIfrLoOsAu8+VNYbUJv\n",
       "3WlCt3HJR4ozXJzu6A/I1pP5bjgIUIqHW2WFAPZuIT0u9ICYDeXODwcBMnEcFVeGoxSwTUJ9cWln\n",
       "4GP+zxSnLyo06ycrAymuhP4vPqsGhKFAQ1zdsRMKfXVnJOqLuycpavQw7MAfqyVusuX9BT8f3YiP\n",
       "VQEvAAAAAElFTkSuQmCC\n",
       "\" style=\"display:inline;vertical-align:middle;\" /></a><br>"
      ],
      "text/plain": [
       "expr: |(a , b , c , d , e , f , g , h , i)|"
      ]
     },
     "execution_count": 2,
     "metadata": {},
     "output_type": "execute_result"
    }
   ],
   "source": [
    "# build up the expression from sub-expressions\n",
    "expr = Len([a, b, c, d, e, f, g, h, i])"
   ]
  },
  {
   "cell_type": "code",
   "execution_count": 3,
   "metadata": {},
   "outputs": [
    {
     "name": "stdout",
     "output_type": "stream",
     "text": [
      "Passed sanity check: built 'expr' is the same as the stored Expression.\n"
     ]
    }
   ],
   "source": [
    "# check that the built expression is the same as the stored expression\n",
    "%check_expr"
   ]
  },
  {
   "cell_type": "code",
   "execution_count": 4,
   "metadata": {},
   "outputs": [
    {
     "data": {
      "text/html": [
       "<table><tr><th>&nbsp;</th><th>core type</th><th>sub-expressions</th><th>expression</th></tr>\n",
       "<tr><td>0</td><td>Operation</td><td>operator:&nbsp;1<br>operand:&nbsp;2<br></td><td><a class=\"ProveItLink\" href=\"expr.ipynb\"><img src=\"data:image/png;base64,iVBORw0KGgoAAAANSUhEUgAAAMMAAAAVBAMAAAAJNkerAAAAMFBMVEX///8iIiJERESYmJhmZmYQ\n",
       "EBDu7u4yMjJUVFTMzMyIiIi6urp2dnbc3NyqqqoAAABw9lLDAAAAAXRSTlMAQObYZgAAAqtJREFU\n",
       "SMe1VU1oE0EUft1NJunmZ3vw4DGgggeRIIJShKb0JEQqeFBq1QiKHsQGlCJ6CUgpFMQgCN5cREQ2\n",
       "CutB9CKJUL3Uwx69JXrxJIk/REpo8c28me5sNmk82IWZfLz35n3fvHkzge+ws1/WhzUBUs7/T256\n",
       "fE57kuKR5mJLE9H41L5CxHb1uR826CuNMhwPUSzqkYnKAE12K2I60M73WRKBDsOBhE5hOSOyAdRL\n",
       "/RbWu769DrOhUcRL22fD7330IDsjdLCTGsWbEdnwuxmxxCZG6TioURRxZFbWzpHnlntXyvjkVgVA\n",
       "3yaZMsWn8ozNpd2q8odfHJI6Jp9I7zWeclWjuIHjtW/QztlPsCnzQy9BStHXpaVf/IxKbKsDjFUy\n",
       "v2nlHz8mW6VRx+mbRnEW5f2CWI5q3IV4Q6yYA0P0DPeVaRM9iFVl5qYCUyWgPWbXIUk5xlvTXJlG\n",
       "0QNIdmCMZGE2WyhNqvPkvgahU5MvVaXbCpyB8Q11OjKOwRzOj8MUdg4WSNZYAepCvJ1TJUGfR6gQ\n",
       "PdvsJlhUT8zf9ECVIkxxHrftoKySbO5ZAZqq2JpPu0D75a+1AQYxo44PFIfXtxQu1B50t2A5W2U8\n",
       "TRXmQQDcS56DwBdHCkdm4aXgyOxwVRxNAcybPhOqPKzYEY0CuyuRz+5KwwLuONnCthCgAOkqB4HP\n",
       "KsMln/2gy42DI9aF+2RbBrZOcdDO5MNN+4q3fu1BDS7jubGVGRAAiu4zAQIfrLoOsAu8+VNYbUJv\n",
       "3WlCt3HJR4ozXJzu6A/I1pP5bjgIUIqHW2WFAPZuIT0u9ICYDeXODwcBMnEcFVeGoxSwTUJ9cWln\n",
       "4GP+zxSnLyo06ycrAymuhP4vPqsGhKFAQ1zdsRMKfXVnJOqLuycpavQw7MAfqyVusuX9BT8f3YiP\n",
       "VQEvAAAAAElFTkSuQmCC\n",
       "\" style=\"display:inline;vertical-align:middle;\" /></a></td></tr>\n",
       "<tr><td>1</td><td>Literal</td><td></td><td><a class=\"ProveItLink\" href=\"../../../../sets/integer/__pv_it/0a9286fafc7688968c9f0b1c9372a7c495b9f9510/expr.ipynb\"><img src=\"data:image/png;base64,iVBORw0KGgoAAAANSUhEUgAAADsAAAASBAMAAAAXqLt+AAAAMFBMVEX///+qqqru7u5ERERUVFTM\n",
       "zMzc3NyIiIgQEBAyMjJmZmaYmJi6uroiIiJ2dnYAAAD2HuJxAAAAAXRSTlMAQObYZgAAAURJREFU\n",
       "KM99kT9LAnEYxz93Xmnn33fgvYJ0iISWhIJ0k95ABw2BixcFkhC1RFu4BU03lNIibg0N3hDUlhA0\n",
       "xlFDQQgmaBQOPXc5BGoPHPf93ef3fJ/vw0FnyKRSc23/He5OYEcwZ/tSr45jpQfxhC9D1jjWxfje\n",
       "8GWpMI6jYtz5lS15iq81bhe3dl2JUn9P3ywvWJxd7ZiCVmTUI0XcvKX24ZySTVLSfZl6VvCx+Dtc\n",
       "RJwH1CHhnpfpUlr6aGmYkY7cddlUhUngUJYNkyc/XVRmBQ/he7SMViWZYN9z8ZiYEsgafI72jzeN\n",
       "A5MllC5myuENQz653vggIZeW4coeH3JTcUSchE3i6xZ7qDXP6kUppAxtgGbPk0ftx6StYRCrl+EO\n",
       "NreJrFXazGYsTqHxPOFXBWyml0MqMZ3qA1b/aVYylebf8w8ORloN8BKQFQAAAABJRU5ErkJggg==\n",
       "\" style=\"display:inline;vertical-align:middle;\" /></a></td></tr>\n",
       "<tr><td>2</td><td>ExprTuple</td><td>3, 4, 5, 6, 7, 8, 9, 10, 11</td><td><a class=\"ProveItLink\" href=\"../e27e91b49cf5f485102688c4e463ededaa59b2e60/expr.ipynb\"><img src=\"data:image/png;base64,iVBORw0KGgoAAAANSUhEUgAAALAAAAAVBAMAAAAUSHkwAAAAMFBMVEX////c3NwiIiJERESqqqqY\n",
       "mJh2dnZmZmYQEBDu7u4yMjJUVFTMzMyIiIi6uroAAAAs73DqAAAAAXRSTlMAQObYZgAAAodJREFU\n",
       "OMu1VT9oE1EY/6WXa/KSXu52h3RzcMngP3AJurkkICgopcHB6iKx0ExCFbSDUg0iKjo0i4iIEgeh\n",
       "FIoHLoKDJ4IiciU6iQ5JNSKREvze++71zvxpHOzBe/fL933v9/19F2Dbnoz3/znNBm2vIgKxPDnA\n",
       "8/5yn+zeR+dvQfSkUcN5ej2M6lP1Af7tfJ9ob6HYI0mF3g0PKcDyRnAAzWqvRHRvbu3dLCFZ3ZqD\n",
       "npN9knhrhHdxAV9HcNDzoE+SmBzlfTcqtMdWz17k34/8Z4HLU76rAOnaLIpV3gcdM5d36Yoee3ck\n",
       "8D71NtDekpQzuE/7F8fg3MQP2Mz3spHiqEjX4QMHnZims3VjEvXYLz7520kEjS81aTuMaxTKTyRy\n",
       "XLsOkiVltwhD9V3qahxwFwk34MtqMF0F5xPfQJo5JvKzMh50gXQLYxwCcdgqqrTujtSVGF2eeqMr\n",
       "WNDgKibWddUDO4FF2l9LYjuHJQ5hrIymCtTO6aRJ12BU7u9UvA2LK0as2QZ02pL4EiXmUQjVYBjn\n",
       "FcjqIkZ0kYE/ELytdRjsj7yfZju6ZFVZij0kzGMl7gp52MUCFKC4ixKEuiQRe8FZmaxEZkvGItE0\n",
       "sGA6QsXSoJocp7lAqhjfOY4lyimdp9YqUMa4K0Gos2q47YjvfPFoSSQ6eM6yFYgNtkMhVpTj9lmO\n",
       "6tqLNdyhLojVOSiAiv9BgVCHGd+DuC6HNUNVZPTNn2X0mI6cYTvDp+0JkpufqU/DQYgy0tyqaQTs\n",
       "20RRO7rSZkkLi8NBiExaJ9SIS5SBaDPqsRv3Ip/Nfya+ckOjeSddH0h8l9YOPToYCiJIztzRcxod\n",
       "8ucC1GP3VF7Vbfhrslz8ASLjvmDNI9HRAAAAAElFTkSuQmCC\n",
       "\" style=\"display:inline;vertical-align:middle;\" /></a></td></tr>\n",
       "<tr><td>3</td><td>Variable</td><td></td><td><a class=\"ProveItLink\" href=\"../../../../../__pv_it/07527342713064c87612d00d8557c53d53d5324a0/expr.ipynb\"><img src=\"data:image/png;base64,iVBORw0KGgoAAAANSUhEUgAAAAsAAAAJBAMAAAAWSsseAAAAMFBMVEX///8yMjKqqqrMzMzu7u4i\n",
       "IiJmZmaYmJhEREQQEBC6urp2dnaIiIhUVFTc3NwAAAD87Fq/AAAAAXRSTlMAQObYZgAAAEhJREFU\n",
       "CNdjYOC7s2seAwPDygccHxgY+L4zsDUwMPB+YGA9wMDA38Dgb8DA8P4Agz6DA4O/AsNFJgMGxgKm\n",
       "MG6gyjunLE4xAAAZTBA5TB6DCwAAAABJRU5ErkJggg==\n",
       "\" style=\"display:inline;vertical-align:middle;\" /></a></td></tr>\n",
       "<tr><td>4</td><td>Variable</td><td></td><td><a class=\"ProveItLink\" href=\"../../../../../__pv_it/6840a4fa6c106149dc16a131294d0c5e44f1b0480/expr.ipynb\"><img src=\"data:image/png;base64,iVBORw0KGgoAAAANSUhEUgAAAAkAAAAOBAMAAAAPuiubAAAALVBMVEX///9mZmbMzMxERESYmJiI\n",
       "iIh2dna6urqqqqoyMjIiIiIQEBBUVFTu7u4AAAD9S1JeAAAAAXRSTlMAQObYZgAAAE1JREFUCNdj\n",
       "4D29gAEIOA+ASL4GEFl3AURmgQiGOaFHGBh4HzPwKTBwvGXgTmBgnMDAJ8DAJcBQ5wBSLncBJLWN\n",
       "gYGngRFoBO9REQYGAGrcDtUkVqASAAAAAElFTkSuQmCC\n",
       "\" style=\"display:inline;vertical-align:middle;\" /></a></td></tr>\n",
       "<tr><td>5</td><td>Variable</td><td></td><td><a class=\"ProveItLink\" href=\"../../../../../__pv_it/cbdfda466482236edba0ce44ac7ef39cda0af7a40/expr.ipynb\"><img src=\"data:image/png;base64,iVBORw0KGgoAAAANSUhEUgAAAAkAAAAJBAMAAAASvxsjAAAALVBMVEX///9mZmbc3NxUVFSYmJhE\n",
       "REQiIiIyMjK6uroQEBDMzMyIiIh2dnbu7u4AAABgFDGoAAAAAXRSTlMAQObYZgAAADZJREFUCNdj\n",
       "YOA9s3sBA8PKBvYEBt7ZDKwODMwPGICALwBE6m0Asx0YGIDiAgw8QJUyu/cyAAAmuwmycZ8WfQAA\n",
       "AABJRU5ErkJggg==\n",
       "\" style=\"display:inline;vertical-align:middle;\" /></a></td></tr>\n",
       "<tr><td>6</td><td>Variable</td><td></td><td><a class=\"ProveItLink\" href=\"../../../../../__pv_it/3a5de44ed6135dbbdbbeec6704c741e238f127300/expr.ipynb\"><img src=\"data:image/png;base64,iVBORw0KGgoAAAANSUhEUgAAAAsAAAAOBAMAAAALT/umAAAAMFBMVEX////MzMyYmJiIiIhUVFTc\n",
       "3NwyMjIiIiJ2dnbu7u6qqqpmZmYQEBBERES6uroAAABkyy6XAAAAAXRSTlMAQObYZgAAAFhJREFU\n",
       "CNdjYGBg4LuzgQEE+BeAqfcTwFQ7mGTIBmJW575fQOpNAO9PIOcTA3cCAwPLBwb2BqCeCwzzHzAw\n",
       "xBswrGeYwDB/AYMblwADmwJXNQdIm52sHQMAfyoTCZukXIEAAAAASUVORK5CYII=\n",
       "\" style=\"display:inline;vertical-align:middle;\" /></a></td></tr>\n",
       "<tr><td>7</td><td>Variable</td><td></td><td><a class=\"ProveItLink\" href=\"../../../../../__pv_it/0bc0f4a545336331111a0b22c4f05a0627b57b8f0/expr.ipynb\"><img src=\"data:image/png;base64,iVBORw0KGgoAAAANSUhEUgAAAAkAAAAJBAMAAAASvxsjAAAALVBMVEX////u7u4yMjKYmJgQEBBU\n",
       "VFTMzMy6uroiIiKqqqqIiIh2dnZmZmbc3NwAAAAyj3LLAAAAAXRSTlMAQObYZgAAADlJREFUCNdj\n",
       "YOA9veYCA8OMC7wHGHifM/AkMLA6W61lYOA7wAAEfAtAJAuQXMDApcAgA1S5Z9UCBgB6Cgz1W65k\n",
       "FgAAAABJRU5ErkJggg==\n",
       "\" style=\"display:inline;vertical-align:middle;\" /></a></td></tr>\n",
       "<tr><td>8</td><td>Variable</td><td></td><td><a class=\"ProveItLink\" href=\"../../../../../__pv_it/4d51ee1e62d011d06d4528b97697bf3da60c9de60/expr.ipynb\"><img src=\"data:image/png;base64,iVBORw0KGgoAAAANSUhEUgAAAAsAAAASBAMAAAB/WzlGAAAAMFBMVEX///8yMjLMzMwQEBAiIiJm\n",
       "Zma6urqYmJiqqqp2dnZERETc3NyIiIhUVFTu7u4AAAAe+HC4AAAAAXRSTlMAQObYZgAAAFVJREFU\n",
       "CNdjYGBgeHt2A5BkWNlfACT5vr0AcTg+gEgGVgcQyX7ZNwBE8x8AC+5XAFP9YJJhCoRaC6FswCTf\n",
       "NzDF9g9M8QiAyFoukPEMhk/AYpXRIBIAEwsRcZ82juYAAAAASUVORK5CYII=\n",
       "\" style=\"display:inline;vertical-align:middle;\" /></a></td></tr>\n",
       "<tr><td>9</td><td>Variable</td><td></td><td><a class=\"ProveItLink\" href=\"../../../../../__pv_it/b5004dd09038f1a7d88dab9010b943185ce1d3ea0/expr.ipynb\"><img src=\"data:image/png;base64,iVBORw0KGgoAAAANSUhEUgAAAAoAAAANBAMAAABiGeI2AAAALVBMVEX///+6uroiIiLMzMwQEBCq\n",
       "qqru7u7c3NxUVFRERER2dnaIiIhmZmaYmJgAAABs7E5IAAAAAXRSTlMAQObYZgAAAFRJREFUCNdj\n",
       "YGC4s+smAwNPA/sbBoZ7CQxPGRg8GJifM7A+ZeBWYOB+zsB5gIH3AQNfAAPbM4a+AgYGid2HGEBg\n",
       "DgMDIwMbUPm5Ao4GBobI3WcZGAA0kxQNEIuRVgAAAABJRU5ErkJggg==\n",
       "\" style=\"display:inline;vertical-align:middle;\" /></a></td></tr>\n",
       "<tr><td>10</td><td>Variable</td><td></td><td><a class=\"ProveItLink\" href=\"../../../../../__pv_it/3b5a3cc74431604b3beba568cf7dfeb60b1886650/expr.ipynb\"><img src=\"data:image/png;base64,iVBORw0KGgoAAAANSUhEUgAAAAsAAAAOBAMAAAALT/umAAAAMFBMVEX////MzMzc3NxERESIiIiY\n",
       "mJh2dna6urqqqqpmZmYyMjIiIiIQEBBUVFTu7u4AAAAdUKnwAAAAAXRSTlMAQObYZgAAAFlJREFU\n",
       "CNdj4LuzgQEEuCaAKf4GMFX/AExlg0mGlSHOCgwMfL8UOC8wMHB8ZOA1YGDg3MDAncAAwvoFDAzv\n",
       "CxhyGB4wxDMwHGNVYLjFwPeRjYFhCQPDtDwGADR5Es9USdyIAAAAAElFTkSuQmCC\n",
       "\" style=\"display:inline;vertical-align:middle;\" /></a></td></tr>\n",
       "<tr><td>11</td><td>Variable</td><td></td><td><a class=\"ProveItLink\" href=\"../../../../../__pv_it/4cc43b4ba7e5ae9f0f864f240ab9735c1604d8200/expr.ipynb\"><img src=\"data:image/png;base64,iVBORw0KGgoAAAANSUhEUgAAAAcAAAAOBAMAAAARcxsoAAAAMFBMVEX///+YmJjc3NxUVFQQEBAi\n",
       "IiKqqqrMzMy6urpmZmZ2dnbu7u6IiIgyMjJEREQAAADwIkbYAAAAAXRSTlMAQObYZgAAADtJREFU\n",
       "CNdjYGB4ywAEbxjQAffKBQwMXBwfGBjKOAMYGDawHAAK5m8AEpe5GRiYfnAxMLB9UARpPcAAAFud\n",
       "DDeiFOVzAAAAAElFTkSuQmCC\n",
       "\" style=\"display:inline;vertical-align:middle;\" /></a></td></tr>\n",
       "</table>\n"
      ],
      "text/plain": [
       "0. |(a , b , c , d , e , f , g , h , i)|\n",
       "   core type: Operation\n",
       "   operator: 1\n",
       "   operand: 2\n",
       "1. length\n",
       "   core type: Literal\n",
       "   sub-expressions: \n",
       "2. (a , b , c , d , e , f , g , h , i)\n",
       "   core type: ExprTuple\n",
       "   sub-expressions: 3, 4, 5, 6, 7, 8, 9, 10, 11\n",
       "3. a\n",
       "   core type: Variable\n",
       "   sub-expressions: \n",
       "4. b\n",
       "   core type: Variable\n",
       "   sub-expressions: \n",
       "5. c\n",
       "   core type: Variable\n",
       "   sub-expressions: \n",
       "6. d\n",
       "   core type: Variable\n",
       "   sub-expressions: \n",
       "7. e\n",
       "   core type: Variable\n",
       "   sub-expressions: \n",
       "8. f\n",
       "   core type: Variable\n",
       "   sub-expressions: \n",
       "9. g\n",
       "   core type: Variable\n",
       "   sub-expressions: \n",
       "10. h\n",
       "    core type: Variable\n",
       "    sub-expressions: \n",
       "11. i\n",
       "    core type: Variable\n",
       "    sub-expressions: "
      ]
     },
     "execution_count": 4,
     "metadata": {},
     "output_type": "execute_result"
    }
   ],
   "source": [
    "# display the expression information\n",
    "expr.exprInfo()"
   ]
  },
  {
   "cell_type": "code",
   "execution_count": null,
   "metadata": {},
   "outputs": [],
   "source": []
  }
 ],
 "metadata": {
  "kernelspec": {
   "display_name": "Python 3",
   "language": "python",
   "name": "python3"
  }
 },
 "nbformat": 4,
 "nbformat_minor": 0
}
