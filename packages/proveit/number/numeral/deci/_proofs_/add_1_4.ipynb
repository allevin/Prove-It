{
 "cells": [
  {
   "cell_type": "markdown",
   "metadata": {},
   "source": [
    "Proof of <a class=\"ProveItLink\" href=\"../../../../_context_.ipynb\">proveit</a>.<a class=\"ProveItLink\" href=\"../../../_context_.ipynb\">number</a>.<a class=\"ProveItLink\" href=\"../../_context_.ipynb\">numeral</a>.<a class=\"ProveItLink\" href=\"../_context_.ipynb\">decimal</a>.<a class=\"ProveItLink\" href=\"../_theorems_.ipynb#add_1_4\">add_1_4</a> theorem\n",
    "========"
   ]
  },
  {
   "cell_type": "code",
   "execution_count": 1,
   "metadata": {},
   "outputs": [],
   "source": [
    "import proveit\n",
    "context = proveit.Context('..') # the theorem's context is in the parent directory"
   ]
  },
  {
   "cell_type": "code",
   "execution_count": 2,
   "metadata": {},
   "outputs": [
    {
     "name": "stdout",
     "output_type": "stream",
     "text": [
      "Beginning proof of add_1_4\n",
      "Recorded 'presuming' information\n",
      "Presuming previous theorems (applied transitively).\n"
     ]
    },
    {
     "data": {
      "text/html": [
       "<strong id=\"add_1_4\">add_1_4:</strong> <a class=\"ProveItLink\" href=\"../__pv_it/b3bbde0a6b98df290543afe9705cdccc80028e710/expr.ipynb\"><img src=\"data:image/png;base64,iVBORw0KGgoAAAANSUhEUgAAAGEAAAAVBAMAAACkm51HAAAAMFBMVEX////c3NwiIiJERESqqqqY\n",
       "mJh2dnZmZmYQEBDu7u4yMjJUVFTMzMyIiIi6uroAAAAs73DqAAAAAXRSTlMAQObYZgAAAT1JREFU\n",
       "OMtjYCAd8F3AIRGHS8dpIGaegC7Ks4GB/QC6IFckYwqQWsnAwGmPoYPJgIFhAbogx///CQwMvBcY\n",
       "OHfvh+mYCJO8AdQRhmFHdQ5IH0jxfZgOXyjNGAXUMQNdBzeYfMWATQcbF1AHswNWHWVYdQSCdLAV\n",
       "oOu4e/sBA8NSbDo4L4B0sIC9zr4KDDaAg5TzHwNDHzYdbAwgHXwNmHGxg4HhHzYdPmAdPB8wdeQf\n",
       "QNZRtWqVxqpVq4GOSsCuwwio4wFDCxY7WHbv3t99AeoqdiUwAJrA0MTAUC/AYIo1rBg4gCpY0SMd\n",
       "GHarGBjScevACF1xBpZGBoZHQFZ5//IAtBjc/z2AgesBevIs3y0ANEwAWcwXmTMDe2JnTUDmvUXm\n",
       "5OLIHytxZRzOBTgkpHHp4BbAIcGIK9fewS4MAMz/VklJc+qIAAAAAElFTkSuQmCC\n",
       "\" style=\"display:inline;vertical-align:middle;\" /></a><br>(see <a class=\"ProveItLink\" href=\"../__pv_it/b3bbde0a6b98df290543afe9705cdccc80028e710/dependencies.ipynb\">dependencies</a>)<br>"
      ],
      "text/plain": [
       "add_1_4: (1 + 4) = 5"
      ]
     },
     "execution_count": 2,
     "metadata": {},
     "output_type": "execute_result"
    }
   ],
   "source": [
    "%proving add_1_4 presuming []"
   ]
  },
  {
   "cell_type": "code",
   "execution_count": null,
   "metadata": {},
   "outputs": [],
   "source": []
  }
 ],
 "metadata": {
  "kernelspec": {
   "display_name": "Python 3",
   "language": "python",
   "name": "python3"
  }
 },
 "nbformat": 4,
 "nbformat_minor": 0
}
