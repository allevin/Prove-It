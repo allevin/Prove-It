{
 "cells": [
  {
   "cell_type": "markdown",
   "metadata": {},
   "source": [
    "Proof of <a class=\"ProveItLink\" href=\"../../../../_context_.ipynb\">proveit</a>.<a class=\"ProveItLink\" href=\"../../../_context_.ipynb\">number</a>.<a class=\"ProveItLink\" href=\"../../_context_.ipynb\">numeral</a>.<a class=\"ProveItLink\" href=\"../_context_.ipynb\">decimal</a>.<a class=\"ProveItLink\" href=\"../_theorems_.ipynb#add_2_0\">add_2_0</a> theorem\n",
    "========"
   ]
  },
  {
   "cell_type": "code",
   "execution_count": 1,
   "metadata": {},
   "outputs": [],
   "source": [
    "import proveit\n",
    "context = proveit.Context('..') # the theorem's context is in the parent directory"
   ]
  },
  {
   "cell_type": "code",
   "execution_count": 2,
   "metadata": {},
   "outputs": [
    {
     "name": "stdout",
     "output_type": "stream",
     "text": [
      "Beginning proof of add_2_0\n",
      "Recorded 'presuming' information\n",
      "Presuming previous theorems (applied transitively).\n"
     ]
    },
    {
     "data": {
      "text/html": [
       "<strong id=\"add_2_0\">add_2_0:</strong> <a class=\"ProveItLink\" href=\"../__pv_it/4eb6b4634c1457ab2517c820867a7217db730ce80/expr.ipynb\"><img src=\"data:image/png;base64,iVBORw0KGgoAAAANSUhEUgAAAGEAAAAVBAMAAACkm51HAAAAMFBMVEX////c3NwiIiJERESqqqqY\n",
       "mJh2dnZmZmYQEBDu7u4yMjJUVFTMzMyIiIi6uroAAAAs73DqAAAAAXRSTlMAQObYZgAAAXVJREFU\n",
       "OMuVkztIA0EQhr+LiZfLQ04bizRiIYJCbGwlnVVQG0sJFkklBIUIAdHCQkHk7CwDwSJnYVor7Sws\n",
       "DDaCETwsBTGIKGk8170U9yxcOHZm/v242Zkd+P8a6UQIa1HELYzXF7wxbefhGvXaf1TZblpia6G0\n",
       "eS54pJilzULDT+TIfkK2Q9og1nNiJ852D4+w6icuIQ9Jg+Qh6R8nVnS2GXjXOfUTBwZXFq+Q6qN6\n",
       "iW+4KzBU8BEXBrsWNSfxvptQvgTRYbgarFPe4Ewad6UAUSIur66acrWlkhHKsbSahBAje4FfpOZA\n",
       "XkCdIySrTC9AbDEgutKtm+a0aZ4Pbr4cQmT/ctsXX7zKqL+6S/ogK3VSLpnFIorOvDBuYMVDiA6u\n",
       "Q8Lf9EyVhE5FpD1Vrkx4iFhBOyJY3bFyeRNehG7btpfQal3xDFOWvxm2/SFeie6OFd3OafhjT5Tc\n",
       "3pvb2YiYj1bU4GiNCCEXRaT1CEGJmtqn8PAvz85iUh3RB/4AAAAASUVORK5CYII=\n",
       "\" style=\"display:inline;vertical-align:middle;\" /></a><br>(see <a class=\"ProveItLink\" href=\"../__pv_it/4eb6b4634c1457ab2517c820867a7217db730ce80/dependencies.ipynb\">dependencies</a>)<br>"
      ],
      "text/plain": [
       "add_2_0: (2 + 0) = 2"
      ]
     },
     "execution_count": 2,
     "metadata": {},
     "output_type": "execute_result"
    }
   ],
   "source": [
    "%proving add_2_0 presuming []"
   ]
  },
  {
   "cell_type": "code",
   "execution_count": null,
   "metadata": {},
   "outputs": [],
   "source": []
  }
 ],
 "metadata": {
  "kernelspec": {
   "display_name": "Python 3",
   "language": "python",
   "name": "python3"
  }
 },
 "nbformat": 4,
 "nbformat_minor": 0
}
