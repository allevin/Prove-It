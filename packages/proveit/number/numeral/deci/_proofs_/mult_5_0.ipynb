{
 "cells": [
  {
   "cell_type": "markdown",
   "metadata": {},
   "source": [
    "Proof of <a class=\"ProveItLink\" href=\"../../../../_context_.ipynb\">proveit</a>.<a class=\"ProveItLink\" href=\"../../../_context_.ipynb\">number</a>.<a class=\"ProveItLink\" href=\"../../_context_.ipynb\">numeral</a>.<a class=\"ProveItLink\" href=\"../_context_.ipynb\">deci</a>.<a class=\"ProveItLink\" href=\"../_theorems_.ipynb#mult_5_0\">mult_5_0</a> theorem\n",
    "========"
   ]
  },
  {
   "cell_type": "code",
   "execution_count": 1,
   "metadata": {},
   "outputs": [],
   "source": [
    "import proveit\n",
    "context = proveit.Context('..') # the theorem's context is in the parent directory"
   ]
  },
  {
   "cell_type": "code",
   "execution_count": 2,
   "metadata": {},
   "outputs": [
    {
     "name": "stdout",
     "output_type": "stream",
     "text": [
      "Beginning proof of mult_5_0\n",
      "Recorded 'presuming' information\n",
      "Presuming previous theorems (applied transitively).\n"
     ]
    },
    {
     "data": {
      "text/html": [
       "<strong id=\"mult_5_0\">mult_5_0:</strong> <a class=\"ProveItLink\" href=\"../__pv_it/3c5470acf6e3e634ef2d7aa5681e2b2c5e7ca3f70/expr.ipynb\"><img src=\"data:image/png;base64,iVBORw0KGgoAAAANSUhEUgAAAFcAAAAVBAMAAADBdm84AAAAMFBMVEX////c3NwiIiJERESqqqqY\n",
       "mJh2dnZmZmYQEBDu7u4yMjJUVFTMzMyIiIi6uroAAAAs73DqAAAAAXRSTlMAQObYZgAAAUNJREFU\n",
       "KM9jYCAJ8F3AFIvDpfg0A8PSCWIOMC5n7fUDDOwH0FWBhRkYVjIw9P//BhdlesCpw8CwAF0xRJgX\n",
       "6Irl2xAmXWJguMXAEIauGCLMMYGBYQOSqDYDw3sBhhnoiiHCrxhQFX9nYDjvwMDsgKYYIlwGZO29\n",
       "uw8myAh0/fkLDGwFqGqhwkuBTEuG+Q+QRRMYWMA+rFoFAqsRwn1gNdwNoOCZABfla8BicgLDPzCH\n",
       "7Q+QmK8At4/nA1ZnABUzKzCwgfTMMID6JABDMVS4BRh6CgzsH5HCyF8A6owiJRBQRgibMjCwMzBw\n",
       "LUAK/SQGBtYFmJECFE4HOqiAwUMAHq8OnD0MGEEHFX4EZB2v3ohIMWW3gXHP9QA9IYGFOQSwJcUZ\n",
       "2FMoawI20Vwc6XklFjHOBTgUS2MR4xbAoZgRS7a6g10pADg+Y4agI8KDAAAAAElFTkSuQmCC\n",
       "\" style=\"display:inline;vertical-align:middle;\" /></a><br>(see <a class=\"ProveItLink\" href=\"../__pv_it/3c5470acf6e3e634ef2d7aa5681e2b2c5e7ca3f70/dependencies.ipynb\">dependencies</a>)<br>"
      ],
      "text/plain": [
       "mult_5_0: (5 * 0) = 0"
      ]
     },
     "execution_count": 2,
     "metadata": {},
     "output_type": "execute_result"
    }
   ],
   "source": [
    "%proving mult_5_0 presuming []"
   ]
  },
  {
   "cell_type": "code",
   "execution_count": null,
   "metadata": {},
   "outputs": [],
   "source": []
  }
 ],
 "metadata": {
  "kernelspec": {
   "display_name": "Python 3",
   "language": "python",
   "name": "python3"
  }
 },
 "nbformat": 4,
 "nbformat_minor": 0
}
