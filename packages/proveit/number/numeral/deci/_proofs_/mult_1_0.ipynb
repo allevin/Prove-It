{
 "cells": [
  {
   "cell_type": "markdown",
   "metadata": {},
   "source": [
    "Proof of <a class=\"ProveItLink\" href=\"../../../../_context_.ipynb\">proveit</a>.<a class=\"ProveItLink\" href=\"../../../_context_.ipynb\">number</a>.<a class=\"ProveItLink\" href=\"../../_context_.ipynb\">numeral</a>.<a class=\"ProveItLink\" href=\"../_context_.ipynb\">deci</a>.<a class=\"ProveItLink\" href=\"../_theorems_.ipynb#mult_1_0\">mult_1_0</a> theorem\n",
    "========"
   ]
  },
  {
   "cell_type": "code",
   "execution_count": 1,
   "metadata": {},
   "outputs": [],
   "source": [
    "import proveit\n",
    "context = proveit.Context('..') # the theorem's context is in the parent directory"
   ]
  },
  {
   "cell_type": "code",
   "execution_count": 2,
   "metadata": {},
   "outputs": [
    {
     "name": "stdout",
     "output_type": "stream",
     "text": [
      "Beginning proof of mult_1_0\n",
      "Recorded 'presuming' information\n",
      "Presuming previous theorems (applied transitively).\n"
     ]
    },
    {
     "data": {
      "text/html": [
       "<strong id=\"mult_1_0\">mult_1_0:</strong> <a class=\"ProveItLink\" href=\"../__pv_it/9961c30a4899f150a834634e7c69912c45ed86470/expr.ipynb\"><img src=\"data:image/png;base64,iVBORw0KGgoAAAANSUhEUgAAAFcAAAAVBAMAAADBdm84AAAAMFBMVEX////c3NwiIiJERESqqqqY\n",
       "mJh2dnZmZmYQEBDu7u4yMjJUVFTMzMyIiIi6uroAAAAs73DqAAAAAXRSTlMAQObYZgAAARdJREFU\n",
       "KM9jYCAJ8F3AFIvDpfg0EDNPgHM5a68fYGA/gK4KLMzAsBLIskcoZnrAqcPAsABdMUSY9wID5+79\n",
       "CMWXGBhuMTCEoSuGCHOA1N1HKNZmYHgvwDADXTFE+BUDquLvDAznHRiYHdAUQ4TLUBUzfgOKXmBg\n",
       "K0BVCxVeikVxAgML2IdVq0BgNUK4D6GYcwJclK8Bi8kJDP8QiucrwO3j+YDVGUiKZxhAfRKAoRgq\n",
       "3MKAEXT+AlBnFCmBgDJC2BRNMTD0kxgYWBdgRgpQOB1NMZMDZw8DRtBBhR8BWeX9ywPgKabsNjDF\n",
       "cD1AT0hgYQ4BbElxBvYUypqATTQXR3peiUWMcwEOxdJYxLgFcChmxJKt7mBXCgBNgGR6jXuSMwAA\n",
       "AABJRU5ErkJggg==\n",
       "\" style=\"display:inline;vertical-align:middle;\" /></a><br>(see <a class=\"ProveItLink\" href=\"../__pv_it/9961c30a4899f150a834634e7c69912c45ed86470/dependencies.ipynb\">dependencies</a>)<br>"
      ],
      "text/plain": [
       "mult_1_0: (1 * 0) = 0"
      ]
     },
     "execution_count": 2,
     "metadata": {},
     "output_type": "execute_result"
    }
   ],
   "source": [
    "%proving mult_1_0 presuming []"
   ]
  },
  {
   "cell_type": "code",
   "execution_count": null,
   "metadata": {},
   "outputs": [],
   "source": []
  }
 ],
 "metadata": {
  "kernelspec": {
   "display_name": "Python 3",
   "language": "python",
   "name": "python3"
  }
 },
 "nbformat": 4,
 "nbformat_minor": 0
}
