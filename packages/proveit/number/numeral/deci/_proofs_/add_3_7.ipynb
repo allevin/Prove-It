{
 "cells": [
  {
   "cell_type": "markdown",
   "metadata": {},
   "source": [
    "Proof of <a class=\"ProveItLink\" href=\"../../../../_context_.ipynb\">proveit</a>.<a class=\"ProveItLink\" href=\"../../../_context_.ipynb\">number</a>.<a class=\"ProveItLink\" href=\"../../_context_.ipynb\">numeral</a>.<a class=\"ProveItLink\" href=\"../_context_.ipynb\">decimal</a>.<a class=\"ProveItLink\" href=\"../_theorems_.ipynb#add_3_7\">add_3_7</a> theorem\n",
    "========"
   ]
  },
  {
   "cell_type": "code",
   "execution_count": 1,
   "metadata": {},
   "outputs": [],
   "source": [
    "import proveit\n",
    "context = proveit.Context('..') # the theorem's context is in the parent directory"
   ]
  },
  {
   "cell_type": "code",
   "execution_count": 2,
   "metadata": {},
   "outputs": [
    {
     "name": "stdout",
     "output_type": "stream",
     "text": [
      "Beginning proof of add_3_7\n",
      "Recorded 'presuming' information\n",
      "Presuming previous theorems (applied transitively).\n"
     ]
    },
    {
     "data": {
      "text/html": [
       "<strong id=\"add_3_7\">add_3_7:</strong> <a class=\"ProveItLink\" href=\"../__pv_it/17b154f85ec19487ce5537abd391b222511dc5720/expr.ipynb\"><img src=\"data:image/png;base64,iVBORw0KGgoAAAANSUhEUgAAAGwAAAAVBAMAAABRZRb3AAAAMFBMVEX////c3NwiIiJERESqqqqY\n",
       "mJh2dnZmZmYQEBDu7u4yMjJUVFTMzMyIiIi6uroAAAAs73DqAAAAAXRSTlMAQObYZgAAAX9JREFU\n",
       "OMtjYCAT8F3AIcH6AJ+20wwMx9JMUMV41NPS0hhqMBUzT2BgmH4XJLGSgbGA4T2qlaz/////zcCF\n",
       "oYvTHqhNj2HSAQbeCwxsXxj4FSDiEyEUG1B2AwNrArqu3fsnMPAqMPAuYOCYwMCC0OYL1QZEBxg4\n",
       "GzCsuz+BgWkDA99HhldgLsyRvnAFb4HYBJs2/gIGni8MZWDuagY0bZwGQCIdmzb5BAaevwxLQQGX\n",
       "tQFdG7sDkPACs1aBwQZkbd8Y+sDcGw/QtM0HES9w2faN4R+Yy/ETTdstEHEetyOB2hgPMDB/BYpV\n",
       "rVqlsWoVxJvaOLWBguQrQwvQQT8h2pBs4/wOdyS7EhgYIEUAy0cGUwYG/gUMTB9RtfGBtUVhsw0Y\n",
       "3WwKoEDmDWB4n4CqjQWsDWsEMKgwzDjA8AjIcS9fghYBPGBHr0PXVd6/PIBheu4eYBgKIIv7oiTB\n",
       "Btz5BjW9vkXmsF3Ak99W4pSZhS+bSuOU2YhPGyMup/AewK0JAMUucjAJrQyGAAAAAElFTkSuQmCC\n",
       "\" style=\"display:inline;vertical-align:middle;\" /></a><br>(see <a class=\"ProveItLink\" href=\"../__pv_it/17b154f85ec19487ce5537abd391b222511dc5720/dependencies.ipynb\">dependencies</a>)<br>"
      ],
      "text/plain": [
       "add_3_7: (3 + 7) = 10"
      ]
     },
     "execution_count": 2,
     "metadata": {},
     "output_type": "execute_result"
    }
   ],
   "source": [
    "%proving add_3_7 presuming []"
   ]
  },
  {
   "cell_type": "code",
   "execution_count": null,
   "metadata": {},
   "outputs": [],
   "source": []
  }
 ],
 "metadata": {
  "kernelspec": {
   "display_name": "Python 3",
   "language": "python",
   "name": "python3"
  }
 },
 "nbformat": 4,
 "nbformat_minor": 0
}
