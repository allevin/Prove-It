{
 "cells": [
  {
   "cell_type": "markdown",
   "metadata": {},
   "source": [
    "Proof of <a class=\"ProveItLink\" href=\"../../../../_context_.ipynb\">proveit</a>.<a class=\"ProveItLink\" href=\"../../../_context_.ipynb\">number</a>.<a class=\"ProveItLink\" href=\"../../_context_.ipynb\">numeral</a>.<a class=\"ProveItLink\" href=\"../_context_.ipynb\">decimal</a>.<a class=\"ProveItLink\" href=\"../_theorems_.ipynb#add_4_5\">add_4_5</a> theorem\n",
    "========"
   ]
  },
  {
   "cell_type": "code",
   "execution_count": 1,
   "metadata": {},
   "outputs": [],
   "source": [
    "import proveit\n",
    "context = proveit.Context('..') # the theorem's context is in the parent directory"
   ]
  },
  {
   "cell_type": "code",
   "execution_count": 2,
   "metadata": {},
   "outputs": [
    {
     "name": "stdout",
     "output_type": "stream",
     "text": [
      "Beginning proof of add_4_5\n",
      "Recorded 'presuming' information\n",
      "Presuming previous theorems (applied transitively).\n"
     ]
    },
    {
     "data": {
      "text/html": [
       "<strong id=\"add_4_5\">add_4_5:</strong> <a class=\"ProveItLink\" href=\"../__pv_it/1c3dd00444f24201a595390e89590133d296a49b0/expr.ipynb\"><img src=\"data:image/png;base64,iVBORw0KGgoAAAANSUhEUgAAAGEAAAAVBAMAAACkm51HAAAAMFBMVEX////c3NwiIiJERESqqqqY\n",
       "mJh2dnZmZmYQEBDu7u4yMjJUVFTMzMyIiIi6uroAAAAs73DqAAAAAXRSTlMAQObYZgAAAWZJREFU\n",
       "OMtjYCAd8F3AIRGHS8dpOIEAXJGMKQzsB9CVcm7PBomtBLGVUaU4/v9PYGBYgK5DwoGxkYGBF+Qo\n",
       "3mao2ESoHdU5QDIMXYcFA8NmoHETgEzRxVAxXwjFDSZnoOv4xcCQP4HhFYiZgFUHswOaNz4zMNx/\n",
       "wFAGZLIKoOu4e/sBAwNbARY7AhiWAllzGdB0ME/g/MfAwAL2OvsqMNgAZFYwMNhfYOgDOQpdBxDs\n",
       "AMZUA5odswJY6i8wgMw6gEVH/gEGng/oXo+9c98BpGMaA0RH1apVGqtWrQayjIA6HmDRAQ6rFgYG\n",
       "7927f+xFsaOJgaFeAOoqdiUwMIDIrGJgMAUzmlFdVQCWYkWP9PsCjEAnpWPTIc7A0ogldC9N4AKm\n",
       "kEcgZvb/UhQdPOW7BYBp5QGaDrZyE1CiE0AW80XmzMCe2FkTkHlvkTm5OPLHSlwZh3MBDglpXDq4\n",
       "BXBIMOLKtXewCwMAYTxcjAjbtfUAAAAASUVORK5CYII=\n",
       "\" style=\"display:inline;vertical-align:middle;\" /></a><br>(see <a class=\"ProveItLink\" href=\"../__pv_it/1c3dd00444f24201a595390e89590133d296a49b0/dependencies.ipynb\">dependencies</a>)<br>"
      ],
      "text/plain": [
       "add_4_5: (4 + 5) = 9"
      ]
     },
     "execution_count": 2,
     "metadata": {},
     "output_type": "execute_result"
    }
   ],
   "source": [
    "%proving add_4_5 presuming []"
   ]
  },
  {
   "cell_type": "code",
   "execution_count": null,
   "metadata": {},
   "outputs": [],
   "source": []
  }
 ],
 "metadata": {
  "kernelspec": {
   "display_name": "Python 3",
   "language": "python",
   "name": "python3"
  }
 },
 "nbformat": 4,
 "nbformat_minor": 0
}
