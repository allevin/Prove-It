{
 "cells": [
  {
   "cell_type": "markdown",
   "metadata": {},
   "source": [
    "Proof of <a class=\"ProveItLink\" href=\"../../../../_context_.ipynb\">proveit</a>.<a class=\"ProveItLink\" href=\"../../../_context_.ipynb\">number</a>.<a class=\"ProveItLink\" href=\"../../_context_.ipynb\">numeral</a>.<a class=\"ProveItLink\" href=\"../_context_.ipynb\">decimal</a>.<a class=\"ProveItLink\" href=\"../_theorems_.ipynb#add_1_0\">add_1_0</a> theorem\n",
    "========"
   ]
  },
  {
   "cell_type": "code",
   "execution_count": 1,
   "metadata": {},
   "outputs": [],
   "source": [
    "import proveit\n",
    "context = proveit.Context('..') # the theorem's context is in the parent directory"
   ]
  },
  {
   "cell_type": "code",
   "execution_count": 2,
   "metadata": {},
   "outputs": [
    {
     "name": "stdout",
     "output_type": "stream",
     "text": [
      "Beginning proof of add_1_0\n",
      "Recorded 'presuming' information\n",
      "Presuming previous theorems (applied transitively).\n"
     ]
    },
    {
     "data": {
      "text/html": [
       "<strong id=\"add_1_0\">add_1_0:</strong> <a class=\"ProveItLink\" href=\"../__pv_it/ab7695a78ac7e22129435f9735945a5cfe6db5490/expr.ipynb\"><img src=\"data:image/png;base64,iVBORw0KGgoAAAANSUhEUgAAAGAAAAAVBAMAAABLWfZ5AAAAMFBMVEX////c3NwiIiJERESqqqqY\n",
       "mJh2dnZmZmYQEBDu7u4yMjJUVFTMzMyIiIi6uroAAAAs73DqAAAAAXRSTlMAQObYZgAAARtJREFU\n",
       "OMtjYCAZ8F3AIRGHQ/w0EDNPQBXjrL1+gIH9AKZiSyBeCZS3R9PA9IBTh4FhAYb6yT8ZGHgvMHDu\n",
       "3g/TMBFCXWJguMXAEIaufvZuoAYOkNr7MA2+EEqbgeG9AMMMDBt4gRpeMWDR8J2B4bwDA7MDNg1l\n",
       "WDQwfgNquMDAVoBNw1JcGhIYWMC+Zl8FBhtgGvpwa+BrwGbDP9xO4vlAQEPVqlUaq1athno6AIeG\n",
       "FgbsweovAHUSuxIYGMA0mGLTAIy4JAYG1gXYbEjHpoHJgbOHAUewPgLS5f3LA1A0cJbdBqY8rgdo\n",
       "6tkrfpUycAggC/kic2ZgTd2sCci8t8icXOz5YSWunMW5ALu4NC4N3ALYxRlxZdE7WEUBxAxjDVoN\n",
       "BRAAAAAASUVORK5CYII=\n",
       "\" style=\"display:inline;vertical-align:middle;\" /></a><br>(see <a class=\"ProveItLink\" href=\"../__pv_it/ab7695a78ac7e22129435f9735945a5cfe6db5490/dependencies.ipynb\">dependencies</a>)<br>"
      ],
      "text/plain": [
       "add_1_0: (1 + 0) = 1"
      ]
     },
     "execution_count": 2,
     "metadata": {},
     "output_type": "execute_result"
    }
   ],
   "source": [
    "%proving add_1_0 presuming []"
   ]
  },
  {
   "cell_type": "code",
   "execution_count": null,
   "metadata": {},
   "outputs": [],
   "source": []
  }
 ],
 "metadata": {
  "kernelspec": {
   "display_name": "Python 3",
   "language": "python",
   "name": "python3"
  }
 },
 "nbformat": 4,
 "nbformat_minor": 0
}
