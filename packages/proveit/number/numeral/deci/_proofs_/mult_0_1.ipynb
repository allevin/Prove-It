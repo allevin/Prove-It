{
 "cells": [
  {
   "cell_type": "markdown",
   "metadata": {},
   "source": [
    "Proof of <a class=\"ProveItLink\" href=\"../../../../_context_.ipynb\">proveit</a>.<a class=\"ProveItLink\" href=\"../../../_context_.ipynb\">number</a>.<a class=\"ProveItLink\" href=\"../../_context_.ipynb\">numeral</a>.<a class=\"ProveItLink\" href=\"../_context_.ipynb\">deci</a>.<a class=\"ProveItLink\" href=\"../_theorems_.ipynb#mult_0_1\">mult_0_1</a> theorem\n",
    "========"
   ]
  },
  {
   "cell_type": "code",
   "execution_count": 1,
   "metadata": {},
   "outputs": [],
   "source": [
    "import proveit\n",
    "context = proveit.Context('..') # the theorem's context is in the parent directory"
   ]
  },
  {
   "cell_type": "code",
   "execution_count": 2,
   "metadata": {},
   "outputs": [
    {
     "name": "stdout",
     "output_type": "stream",
     "text": [
      "Beginning proof of mult_0_1\n",
      "Recorded 'presuming' information\n",
      "Presuming previous theorems (applied transitively).\n"
     ]
    },
    {
     "data": {
      "text/html": [
       "<strong id=\"mult_0_1\">mult_0_1:</strong> <a class=\"ProveItLink\" href=\"../__pv_it/0f90b4ccee79361837bdc18d26284c433e46dee20/expr.ipynb\"><img src=\"data:image/png;base64,iVBORw0KGgoAAAANSUhEUgAAAFcAAAAVBAMAAADBdm84AAAAMFBMVEX////c3NwiIiJERESqqqqY\n",
       "mJh2dnZmZmYQEBDu7u4yMjJUVFTMzMyIiIi6uroAAAAs73DqAAAAAXRSTlMAQObYZgAAAUBJREFU\n",
       "KM9jYCAJ8F3AFIvDpfg0A8P0uzVIApYMDOwH0FVx1l4Hia1kYNBjmISQnfwTSCxAV8z0gFOHgYH3\n",
       "AgOvAgMvXHb2bpDiMHTFlxgYbjEwcExgYNrAwPcRLswLUjwDXbE2A8N7AYZXDAz8BQw8X1AVMzug\n",
       "Kf7OwHDegaGMgUE+gYHnL6pitgJUtYzfgIovMCyFKP6GqpgF7IeqVSCwGqY4gaEPoZhzAlwxXwMW\n",
       "kxMY/iGcMV8BrpjnA1Zn/IN48CsoCAxwKgZ7MIChhQEUdCxoQQdxRpESCChDg85fgMGUARQpbAqo\n",
       "ilkXYEZKEgNDOpClwjDjAP6gY2By4OxhYHgEZE3P3QMXZa/4VcrAwPUAPSGV3QaaxyGALSnOwJ5C\n",
       "WROwiebiSM8rsYhxLsChWBqLGLcADsWMWLLVHexKAQ7dXNwUwuq8AAAAAElFTkSuQmCC\n",
       "\" style=\"display:inline;vertical-align:middle;\" /></a><br>(see <a class=\"ProveItLink\" href=\"../__pv_it/0f90b4ccee79361837bdc18d26284c433e46dee20/dependencies.ipynb\">dependencies</a>)<br>"
      ],
      "text/plain": [
       "mult_0_1: (0 * 1) = 0"
      ]
     },
     "execution_count": 2,
     "metadata": {},
     "output_type": "execute_result"
    }
   ],
   "source": [
    "%proving mult_0_1 presuming []"
   ]
  },
  {
   "cell_type": "code",
   "execution_count": null,
   "metadata": {},
   "outputs": [],
   "source": []
  }
 ],
 "metadata": {
  "kernelspec": {
   "display_name": "Python 3",
   "language": "python",
   "name": "python3"
  }
 },
 "nbformat": 4,
 "nbformat_minor": 0
}
