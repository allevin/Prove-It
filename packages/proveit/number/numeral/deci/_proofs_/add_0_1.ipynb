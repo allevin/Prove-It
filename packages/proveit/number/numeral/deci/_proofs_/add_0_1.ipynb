{
 "cells": [
  {
   "cell_type": "markdown",
   "metadata": {},
   "source": [
    "Proof of <a class=\"ProveItLink\" href=\"../../../../_context_.ipynb\">proveit</a>.<a class=\"ProveItLink\" href=\"../../../_context_.ipynb\">number</a>.<a class=\"ProveItLink\" href=\"../../_context_.ipynb\">numeral</a>.<a class=\"ProveItLink\" href=\"../_context_.ipynb\">decimal</a>.<a class=\"ProveItLink\" href=\"../_theorems_.ipynb#add_0_1\">add_0_1</a> theorem\n",
    "========"
   ]
  },
  {
   "cell_type": "code",
   "execution_count": 1,
   "metadata": {},
   "outputs": [],
   "source": [
    "import proveit\n",
    "context = proveit.Context('..') # the theorem's context is in the parent directory"
   ]
  },
  {
   "cell_type": "code",
   "execution_count": 2,
   "metadata": {},
   "outputs": [
    {
     "name": "stdout",
     "output_type": "stream",
     "text": [
      "Beginning proof of add_0_1\n",
      "Recorded 'presuming' information\n",
      "Presuming previous theorems (applied transitively).\n"
     ]
    },
    {
     "data": {
      "text/html": [
       "<strong id=\"add_0_1\">add_0_1:</strong> <a class=\"ProveItLink\" href=\"../__pv_it/33220dbeecc0a3df12377999ed5f4342c4572cf70/expr.ipynb\"><img src=\"data:image/png;base64,iVBORw0KGgoAAAANSUhEUgAAAGAAAAAVBAMAAABLWfZ5AAAAMFBMVEX////c3NwiIiJERESqqqqY\n",
       "mJh2dnZmZmYQEBDu7u4yMjJUVFTMzMyIiIi6uroAAAAs73DqAAAAAXRSTlMAQObYZgAAARVJREFU\n",
       "OMtjYCAZ8F3AIRGHQ/w0A8P0uzXoopYMDOwHMBUDhRlWMjDoMUxCk5z8E0gswFAPEua9wMCrwMAL\n",
       "lZwIoWbvBmkIQ1cPFuaYwMC0gYHvI0TIFyrFC9IwA8MGkPArBgb+AgaeL1g0MDtg01DGwCCfwMDz\n",
       "F4sGtgJsGpZCNHzDooEF7DH2VWCwASbch1sDXwM2G/7hdhLPBxwaQJ7+CuRWrVqlsWrVagIaWhhA\n",
       "wcryEaeT2JXAwAAmbMoAijg2BSwaWBdgsyEdSKswzDhAdLA+AtLTc/cwoGhgr/hVysDA9QBNPViY\n",
       "QwBZyBeZMwNr6mZNQOa9RebkYs8PK3HlLM4F2MWlcWngFsAuzogri97BKgoARh1bb+Z/BLIAAAAA\n",
       "SUVORK5CYII=\n",
       "\" style=\"display:inline;vertical-align:middle;\" /></a><br>(see <a class=\"ProveItLink\" href=\"../__pv_it/33220dbeecc0a3df12377999ed5f4342c4572cf70/dependencies.ipynb\">dependencies</a>)<br>"
      ],
      "text/plain": [
       "add_0_1: (0 + 1) = 1"
      ]
     },
     "execution_count": 2,
     "metadata": {},
     "output_type": "execute_result"
    }
   ],
   "source": [
    "%proving add_0_1 presuming []"
   ]
  },
  {
   "cell_type": "code",
   "execution_count": null,
   "metadata": {},
   "outputs": [],
   "source": []
  }
 ],
 "metadata": {
  "kernelspec": {
   "display_name": "Python 3",
   "language": "python",
   "name": "python3"
  }
 },
 "nbformat": 4,
 "nbformat_minor": 0
}
