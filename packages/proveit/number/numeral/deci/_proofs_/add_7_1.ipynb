{
 "cells": [
  {
   "cell_type": "markdown",
   "metadata": {},
   "source": [
    "Proof of <a class=\"ProveItLink\" href=\"../../../../_context_.ipynb\">proveit</a>.<a class=\"ProveItLink\" href=\"../../../_context_.ipynb\">number</a>.<a class=\"ProveItLink\" href=\"../../_context_.ipynb\">numeral</a>.<a class=\"ProveItLink\" href=\"../_context_.ipynb\">decimal</a>.<a class=\"ProveItLink\" href=\"../_theorems_.ipynb#add_7_1\">add_7_1</a> theorem\n",
    "========"
   ]
  },
  {
   "cell_type": "code",
   "execution_count": 1,
   "metadata": {},
   "outputs": [],
   "source": [
    "import proveit\n",
    "context = proveit.Context('..') # the theorem's context is in the parent directory"
   ]
  },
  {
   "cell_type": "code",
   "execution_count": 2,
   "metadata": {},
   "outputs": [
    {
     "name": "stdout",
     "output_type": "stream",
     "text": [
      "Beginning proof of add_7_1\n",
      "Recorded 'presuming' information\n",
      "Presuming previous theorems (applied transitively).\n"
     ]
    },
    {
     "data": {
      "text/html": [
       "<strong id=\"add_7_1\">add_7_1:</strong> <a class=\"ProveItLink\" href=\"../__pv_it/555fad3da76fa4c3d431ed6d385eee0f05f957920/expr.ipynb\"><img src=\"data:image/png;base64,iVBORw0KGgoAAAANSUhEUgAAAGEAAAAVBAMAAACkm51HAAAAMFBMVEX////c3NwiIiJERESqqqqY\n",
       "mJh2dnZmZmYQEBDu7u4yMjJUVFTMzMyIiIi6uroAAAAs73DqAAAAAXRSTlMAQObYZgAAAU1JREFU\n",
       "OMtjYCAd8F3AIRGHS8dpBh71tLQ0NFFLBgb2A+hKOdPSHYDUSgbW/////0aVm/wTSCxA18HOwFDK\n",
       "wMB7gYFtAgPDBojYRAg1ezdIRxi6jlAGhkkMDBwTGNgYGNigLvCFyvGCdMxA15EN1vEKzH7LgEUH\n",
       "swOaDv+dDLkMDGVgLxlg08FWgKaD+X9sAgPDUrCXHLDpYAF7nX0VGIA9Wv9JgIGhD8Saz4BNB18D\n",
       "mh2sNeu/MDD8AzFvYdXB8wFNRzgwIiZAdGiDBapWrdJYtWo1bh2dDAzyAQwtII9/x+MqdiUwAIYN\n",
       "J5DPfoHBFCSFXQcreqQ3MjBwCzCkgwIFuw6M0PWawODGwPAI5OCvaDrYK34BExDXA/Rkvr0cGA0c\n",
       "AshivsicGdgTO2sCMu8tMicXR/5YiSvjcC7AISGNSwe3AA4JRly59g52YQDHb1c/2bWIsAAAAABJ\n",
       "RU5ErkJggg==\n",
       "\" style=\"display:inline;vertical-align:middle;\" /></a><br>(see <a class=\"ProveItLink\" href=\"../__pv_it/555fad3da76fa4c3d431ed6d385eee0f05f957920/dependencies.ipynb\">dependencies</a>)<br>"
      ],
      "text/plain": [
       "add_7_1: (7 + 1) = 8"
      ]
     },
     "execution_count": 2,
     "metadata": {},
     "output_type": "execute_result"
    }
   ],
   "source": [
    "%proving add_7_1 presuming []"
   ]
  },
  {
   "cell_type": "code",
   "execution_count": null,
   "metadata": {},
   "outputs": [],
   "source": []
  }
 ],
 "metadata": {
  "kernelspec": {
   "display_name": "Python 3",
   "language": "python",
   "name": "python3"
  }
 },
 "nbformat": 4,
 "nbformat_minor": 0
}
