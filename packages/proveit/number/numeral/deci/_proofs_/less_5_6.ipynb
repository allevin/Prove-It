{
 "cells": [
  {
   "cell_type": "markdown",
   "metadata": {},
   "source": [
    "Proof of <a class=\"ProveItLink\" href=\"../../../../_context_.ipynb\">proveit</a>.<a class=\"ProveItLink\" href=\"../../../_context_.ipynb\">number</a>.<a class=\"ProveItLink\" href=\"../../_context_.ipynb\">numeral</a>.<a class=\"ProveItLink\" href=\"../_context_.ipynb\">decimal</a>.<a class=\"ProveItLink\" href=\"../_theorems_.ipynb#less_5_6\">less_5_6</a> theorem\n",
    "========"
   ]
  },
  {
   "cell_type": "code",
   "execution_count": 1,
   "metadata": {},
   "outputs": [],
   "source": [
    "import proveit\n",
    "context = proveit.Context('..') # the theorem's context is in the parent directory"
   ]
  },
  {
   "cell_type": "code",
   "execution_count": 2,
   "metadata": {},
   "outputs": [
    {
     "name": "stdout",
     "output_type": "stream",
     "text": [
      "Beginning proof of less_5_6\n",
      "Recorded 'presuming' information\n",
      "Presuming previous theorems (applied transitively).\n"
     ]
    },
    {
     "data": {
      "text/html": [
       "<strong id=\"less_5_6\">less_5_6:</strong> <a class=\"ProveItLink\" href=\"../__pv_it/b6a62efee08cadf610f44d76f09a77ac2d78cbbd0/expr.ipynb\"><img src=\"data:image/png;base64,iVBORw0KGgoAAAANSUhEUgAAADAAAAAOBAMAAACbXIJpAAAAMFBMVEX///8iIiJERES6urqIiIjM\n",
       "zMxUVFRmZmYQEBCqqqp2dnbc3Nzu7u6YmJgyMjIAAADYGhJvAAAAAXRSTlMAQObYZgAAAMZJREFU\n",
       "GNNj4LvDvZIBDfAsXxXAwPH//wJ0iY0BbAIMfGVLkYS2B4BIKQa+BwxsyErDHoNI3j8gElnCLhVM\n",
       "8TWAJVzcDKDi86ohNP9Tl0oGBqYDPJ8hfMc1UAXnZRkYL4AYGWDuQgeYiec/MHCBrVkPcgqPkgFc\n",
       "QoCB9yeDIlACLMSaNwEqwf+AgfcLQyMDQ/0GMJ+78AJEggmso4CB4R0sJBb6gGlOsB3bGTi74R65\n",
       "CHGYFsOJCwys5WkbEF6cBw4S9vRkBgBFLDE9PuAqyAAAAABJRU5ErkJggg==\n",
       "\" style=\"display:inline;vertical-align:middle;\" /></a><br>(see <a class=\"ProveItLink\" href=\"../__pv_it/b6a62efee08cadf610f44d76f09a77ac2d78cbbd0/dependencies.ipynb\">dependencies</a>)<br>"
      ],
      "text/plain": [
       "less_5_6: 5 < 6"
      ]
     },
     "execution_count": 2,
     "metadata": {},
     "output_type": "execute_result"
    }
   ],
   "source": [
    "%proving less_5_6 presuming []"
   ]
  },
  {
   "cell_type": "code",
   "execution_count": null,
   "metadata": {},
   "outputs": [],
   "source": []
  }
 ],
 "metadata": {
  "kernelspec": {
   "display_name": "Python 3",
   "language": "python",
   "name": "python3"
  }
 },
 "nbformat": 4,
 "nbformat_minor": 0
}
