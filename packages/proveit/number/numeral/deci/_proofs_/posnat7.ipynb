{
 "cells": [
  {
   "cell_type": "markdown",
   "metadata": {},
   "source": [
    "Proof of <a class=\"ProveItLink\" href=\"../../../../_context_.ipynb\">proveit</a>.<a class=\"ProveItLink\" href=\"../../../_context_.ipynb\">number</a>.<a class=\"ProveItLink\" href=\"../../_context_.ipynb\">numeral</a>.<a class=\"ProveItLink\" href=\"../_context_.ipynb\">decimal</a>.<a class=\"ProveItLink\" href=\"../_theorems_.ipynb#posnat7\">posnat7</a> theorem\n",
    "========"
   ]
  },
  {
   "cell_type": "code",
   "execution_count": 1,
   "metadata": {},
   "outputs": [],
   "source": [
    "import proveit\n",
    "context = proveit.Context('..') # the theorem's context is in the parent directory"
   ]
  },
  {
   "cell_type": "code",
   "execution_count": 2,
   "metadata": {},
   "outputs": [
    {
     "name": "stdout",
     "output_type": "stream",
     "text": [
      "Beginning proof of posnat7\n",
      "Recorded 'presuming' information\n",
      "Presuming previous theorems (applied transitively).\n"
     ]
    },
    {
     "data": {
      "text/html": [
       "<strong id=\"posnat7\">posnat7:</strong> <a class=\"ProveItLink\" href=\"../__pv_it/225c6ea7f7c16f80f384b4dd5d2f8d55ac845bcd0/expr.ipynb\"><img src=\"data:image/png;base64,iVBORw0KGgoAAAANSUhEUgAAAD4AAAAUBAMAAAAn2JMnAAAAMFBMVEX///8QEBDc3NwyMjKqqqpE\n",
       "RESIiIi6urru7u5UVFSYmJh2dnZmZmYiIiLMzMwAAACwhPg6AAAAAXRSTlMAQObYZgAAAOlJREFU\n",
       "KM9jYMADHBjwgwA6yL89vXv3BmRBDvtQCwae+1eg8uv///8/AUUX64KnDAz8DJzGxsLGZgw7GBg4\n",
       "UU3lvMeWwMAIMx9o9j6IeJvt3ctg+eKGeQh5Bgb2BDDFZ9UA1f9uQnMDknwrRFi1AWb+Aze+ACT5\n",
       "IxDhILj9D3gKloHlwe7m+ADxVgBCnmEG50O4c9kMIK6QvXsX6r4HDJ0chnB5Xojv+SYg6efbgNDf\n",
       "fwBi/gUkeYYlrHD5eog8wyxkeW5VuLw/VL63ABa+IMZhuPz7BRCayeYBxKH2okCyGTM2WSZD3I8C\n",
       "APM1Pp9G4kh8AAAAAElFTkSuQmCC\n",
       "\" style=\"display:inline;vertical-align:middle;\" /></a><br>(see <a class=\"ProveItLink\" href=\"../__pv_it/225c6ea7f7c16f80f384b4dd5d2f8d55ac845bcd0/dependencies.ipynb\">dependencies</a>)<br>"
      ],
      "text/plain": [
       "posnat7: 7 in NaturalsPos"
      ]
     },
     "execution_count": 2,
     "metadata": {},
     "output_type": "execute_result"
    }
   ],
   "source": [
    "%proving posnat7 presuming []"
   ]
  },
  {
   "cell_type": "code",
   "execution_count": null,
   "metadata": {},
   "outputs": [],
   "source": []
  }
 ],
 "metadata": {
  "kernelspec": {
   "display_name": "Python 3",
   "language": "python",
   "name": "python3"
  }
 },
 "nbformat": 4,
 "nbformat_minor": 0
}
