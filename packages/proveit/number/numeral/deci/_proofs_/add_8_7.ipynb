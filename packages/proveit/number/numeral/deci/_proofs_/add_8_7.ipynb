{
 "cells": [
  {
   "cell_type": "markdown",
   "metadata": {},
   "source": [
    "Proof of <a class=\"ProveItLink\" href=\"../../../../_context_.ipynb\">proveit</a>.<a class=\"ProveItLink\" href=\"../../../_context_.ipynb\">number</a>.<a class=\"ProveItLink\" href=\"../../_context_.ipynb\">numeral</a>.<a class=\"ProveItLink\" href=\"../_context_.ipynb\">decimal</a>.<a class=\"ProveItLink\" href=\"../_theorems_.ipynb#add_8_7\">add_8_7</a> theorem\n",
    "========"
   ]
  },
  {
   "cell_type": "code",
   "execution_count": 1,
   "metadata": {},
   "outputs": [],
   "source": [
    "import proveit\n",
    "context = proveit.Context('..') # the theorem's context is in the parent directory"
   ]
  },
  {
   "cell_type": "code",
   "execution_count": 2,
   "metadata": {},
   "outputs": [
    {
     "name": "stdout",
     "output_type": "stream",
     "text": [
      "Beginning proof of add_8_7\n",
      "Recorded 'presuming' information\n",
      "Presuming previous theorems (applied transitively).\n"
     ]
    },
    {
     "data": {
      "text/html": [
       "<strong id=\"add_8_7\">add_8_7:</strong> <a class=\"ProveItLink\" href=\"../__pv_it/7b7265fe5ae5a948013d3c029d7e042b380187da0/expr.ipynb\"><img src=\"data:image/png;base64,iVBORw0KGgoAAAANSUhEUgAAAGwAAAAVBAMAAABRZRb3AAAAMFBMVEX////c3NwiIiJERESqqqqY\n",
       "mJh2dnZmZmYQEBDu7u4yMjJUVFTMzMyIiIi6uroAAAAs73DqAAAAAXRSTlMAQObYZgAAAYhJREFU\n",
       "OMudkz9Iw0AUxr/SNGlqWzq5uFQXBZcOOji1owiFbIKLneLaoVjwD3RwtnERcamLlEaQdnERtZug\n",
       "g5kcBLE4idLBoYpUGl9Srd41l8GP3EvevfzyLu/uAf9U3BIEQi0/7BrY1QvsXHRS13VsDL8cNIBD\n",
       "YzQD1IA8FI1NZNt2F5EhSk0TVrbfgJiFkAY12Z/f6d9kitYRyvHU6QUFqidNIGxArg+w7DdGVxNq\n",
       "aSjdg/s90jMgdQ3ZYjBSm8aMGFulke7cgsPUFJkVT+zs/pzqQo5ij/OYQsXCgvtkuqoPsDlUWtgm\n",
       "Z/HKznBYxTFPntmAkRJ6VO48lj847M4xNwJM/nQwKmagQ96aaU6Z5pEbnxZiwSTkHraAPfI32Wzq\n",
       "+2CRyoSr1A8WTkJ5xSxlSwANFou72JJXNgWIHDhFlmqQciwmuZjnBgTymE/gkZyXYoHbgKjzrzjm\n",
       "qWK5quFyvdFf4a+yzBEsifuGPa/tv45s+fRbTRjZ92vTMWGk4YcFREuJNcXQF5gzb1OZNFBfAAAA\n",
       "AElFTkSuQmCC\n",
       "\" style=\"display:inline;vertical-align:middle;\" /></a><br>(see <a class=\"ProveItLink\" href=\"../__pv_it/7b7265fe5ae5a948013d3c029d7e042b380187da0/dependencies.ipynb\">dependencies</a>)<br>"
      ],
      "text/plain": [
       "add_8_7: (8 + 7) = 15"
      ]
     },
     "execution_count": 2,
     "metadata": {},
     "output_type": "execute_result"
    }
   ],
   "source": [
    "%proving add_8_7 presuming []"
   ]
  },
  {
   "cell_type": "code",
   "execution_count": null,
   "metadata": {},
   "outputs": [],
   "source": []
  }
 ],
 "metadata": {
  "kernelspec": {
   "display_name": "Python 3",
   "language": "python",
   "name": "python3"
  }
 },
 "nbformat": 4,
 "nbformat_minor": 0
}
