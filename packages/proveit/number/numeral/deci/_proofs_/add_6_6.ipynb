{
 "cells": [
  {
   "cell_type": "markdown",
   "metadata": {},
   "source": [
    "Proof of <a class=\"ProveItLink\" href=\"../../../../_context_.ipynb\">proveit</a>.<a class=\"ProveItLink\" href=\"../../../_context_.ipynb\">number</a>.<a class=\"ProveItLink\" href=\"../../_context_.ipynb\">numeral</a>.<a class=\"ProveItLink\" href=\"../_context_.ipynb\">decimal</a>.<a class=\"ProveItLink\" href=\"../_theorems_.ipynb#add_6_6\">add_6_6</a> theorem\n",
    "========"
   ]
  },
  {
   "cell_type": "code",
   "execution_count": 1,
   "metadata": {},
   "outputs": [],
   "source": [
    "import proveit\n",
    "context = proveit.Context('..') # the theorem's context is in the parent directory"
   ]
  },
  {
   "cell_type": "code",
   "execution_count": 2,
   "metadata": {},
   "outputs": [
    {
     "name": "stdout",
     "output_type": "stream",
     "text": [
      "Beginning proof of add_6_6\n",
      "Recorded 'presuming' information\n",
      "Presuming previous theorems (applied transitively).\n"
     ]
    },
    {
     "data": {
      "text/html": [
       "<strong id=\"add_6_6\">add_6_6:</strong> <a class=\"ProveItLink\" href=\"../__pv_it/3119ac00f2dd92dec1d29f2491e2f9304fb8bebb0/expr.ipynb\"><img src=\"data:image/png;base64,iVBORw0KGgoAAAANSUhEUgAAAGwAAAAVBAMAAABRZRb3AAAAMFBMVEX////c3NwiIiJERESqqqqY\n",
       "mJh2dnZmZmYQEBDu7u4yMjJUVFTMzMyIiIi6uroAAAAs73DqAAAAAXRSTlMAQObYZgAAAWtJREFU\n",
       "OMudkz9Iw0AUh3+JpmkSatXFwSUIFscO6qjOQqGuTp2a1UEUikMGFxeNm7goiEijSJ0cBM3m4NDu\n",
       "IhUnEYQOLhlMvF6O0EtyGTwIufvefbx3/4B/tomeIKC852kvgGY1PR5SspeePOYAM60V0msD055h\n",
       "8mFK9JSlrTqQOuivoURqrEA/j/gxi1OiNJLWw5MDw4E8QNGB4seBGlsWJZqdStd3UDyAEeAL0O2k\n",
       "xshilqb7UAPsAOWbt21eY8TK0kiTfVwCZ/OQ65zGyPqwr7q0dUa0bgOHZNIABZ/XIvIpyHYBBGSS\n",
       "CeWH1yLSzdbUKtXKZK9/ybDluguue42YCLRX8u2To09lY4QWqc7RVo218S1MYYn8U2tjZDMz2zOw\n",
       "QTd5GSf8TjKSeQBSpWmZ+BjWcf/Inxsjt0lr9+iqLodhaKI4Ocpr3BW0xe+Gv6/fo4NCL+e9tYWR\n",
       "07xnOiuM3OVpkqiUkieW/gBoGHMdLKXjEAAAAABJRU5ErkJggg==\n",
       "\" style=\"display:inline;vertical-align:middle;\" /></a><br>(see <a class=\"ProveItLink\" href=\"../__pv_it/3119ac00f2dd92dec1d29f2491e2f9304fb8bebb0/dependencies.ipynb\">dependencies</a>)<br>"
      ],
      "text/plain": [
       "add_6_6: (6 + 6) = 12"
      ]
     },
     "execution_count": 2,
     "metadata": {},
     "output_type": "execute_result"
    }
   ],
   "source": [
    "%proving add_6_6 presuming []"
   ]
  },
  {
   "cell_type": "code",
   "execution_count": null,
   "metadata": {},
   "outputs": [],
   "source": []
  }
 ],
 "metadata": {
  "kernelspec": {
   "display_name": "Python 3",
   "language": "python",
   "name": "python3"
  }
 },
 "nbformat": 4,
 "nbformat_minor": 0
}
