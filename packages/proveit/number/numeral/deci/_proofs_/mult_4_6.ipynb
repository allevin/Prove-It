{
 "cells": [
  {
   "cell_type": "markdown",
   "metadata": {},
   "source": [
    "Proof of <a class=\"ProveItLink\" href=\"../../../../_context_.ipynb\">proveit</a>.<a class=\"ProveItLink\" href=\"../../../_context_.ipynb\">number</a>.<a class=\"ProveItLink\" href=\"../../_context_.ipynb\">numeral</a>.<a class=\"ProveItLink\" href=\"../_context_.ipynb\">deci</a>.<a class=\"ProveItLink\" href=\"../_theorems_.ipynb#mult_4_6\">mult_4_6</a> theorem\n",
    "========"
   ]
  },
  {
   "cell_type": "code",
   "execution_count": 1,
   "metadata": {},
   "outputs": [],
   "source": [
    "import proveit\n",
    "context = proveit.Context('..') # the theorem's context is in the parent directory"
   ]
  },
  {
   "cell_type": "code",
   "execution_count": 2,
   "metadata": {},
   "outputs": [
    {
     "name": "stdout",
     "output_type": "stream",
     "text": [
      "Beginning proof of mult_4_6\n",
      "Recorded 'presuming' information\n",
      "Presuming previous theorems (applied transitively).\n"
     ]
    },
    {
     "data": {
      "text/html": [
       "<strong id=\"mult_4_6\">mult_4_6:</strong> <a class=\"ProveItLink\" href=\"../__pv_it/6f9bec79574c38dd25359c6e103eef12729f249a0/expr.ipynb\"><img src=\"data:image/png;base64,iVBORw0KGgoAAAANSUhEUgAAAGEAAAAVBAMAAACkm51HAAAAMFBMVEX////c3NwiIiJERESqqqqY\n",
       "mJh2dnZmZmYQEBDu7u4yMjJUVFTMzMyIiIi6uroAAAAs73DqAAAAAXRSTlMAQObYZgAAAY5JREFU\n",
       "OMuVkz1Iw0AUx/+xtjY1KUV06iKKm9AiuHdzULAuDg6aqQ4qlooV7KCggiBIptJFLBTB1sHiJkHa\n",
       "XYRsOjgERycRUXEwvsvRBC4h4Bve5X388u7duwP+L0nT71sOJe5dxaVaXsdAV8ySdhoWLUqbVJM5\n",
       "xr3QJG6AukikoX7Q0pcFVLYp9cAN9WloAYsicQtkaHkiIq7Tx0jDDa0wGzWRONbRsSAtEfHKbM0j\n",
       "Lh0dyQnEtY49C7EEEWUyoymP+Hl4pOxY0X9EGR0LjLig7zO4hPyexwTQ77S+22JyxSPKJ2STEads\n",
       "U5yQqQXZBjZ1JPd9JSg5xhR+6YddTpyPshrUfA7Km4/YAuZ6RBWcqGVZH0SYAYTahqw5xCEwaxjf\n",
       "d73IlFOD76o0xoRPdwbSsGF0TkxMO7Y3wXmnj6g4dKVIJ0rToxqrAhHR5KOA0x0qFErgxAuz1+xt\n",
       "N1ap0JVLWOIwbJvOJNb5yiOeCrrQtZDLHtWCvBth76MZ4JPrYUQ6wDeYCiOkgFf7HJL/B3XUYOUn\n",
       "Sz//AAAAAElFTkSuQmCC\n",
       "\" style=\"display:inline;vertical-align:middle;\" /></a><br>(see <a class=\"ProveItLink\" href=\"../__pv_it/6f9bec79574c38dd25359c6e103eef12729f249a0/dependencies.ipynb\">dependencies</a>)<br>"
      ],
      "text/plain": [
       "mult_4_6: (4 * 6) = 24"
      ]
     },
     "execution_count": 2,
     "metadata": {},
     "output_type": "execute_result"
    }
   ],
   "source": [
    "%proving mult_4_6 presuming []"
   ]
  },
  {
   "cell_type": "code",
   "execution_count": null,
   "metadata": {},
   "outputs": [],
   "source": []
  }
 ],
 "metadata": {
  "kernelspec": {
   "display_name": "Python 3",
   "language": "python",
   "name": "python3"
  }
 },
 "nbformat": 4,
 "nbformat_minor": 0
}
