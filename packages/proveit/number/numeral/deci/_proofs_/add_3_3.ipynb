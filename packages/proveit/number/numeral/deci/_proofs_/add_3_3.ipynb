{
 "cells": [
  {
   "cell_type": "markdown",
   "metadata": {},
   "source": [
    "Proof of <a class=\"ProveItLink\" href=\"../../../../_context_.ipynb\">proveit</a>.<a class=\"ProveItLink\" href=\"../../../_context_.ipynb\">number</a>.<a class=\"ProveItLink\" href=\"../../_context_.ipynb\">numeral</a>.<a class=\"ProveItLink\" href=\"../_context_.ipynb\">decimal</a>.<a class=\"ProveItLink\" href=\"../_theorems_.ipynb#add_3_3\">add_3_3</a> theorem\n",
    "========"
   ]
  },
  {
   "cell_type": "code",
   "execution_count": 1,
   "metadata": {},
   "outputs": [],
   "source": [
    "import proveit\n",
    "context = proveit.Context('..') # the theorem's context is in the parent directory"
   ]
  },
  {
   "cell_type": "code",
   "execution_count": 2,
   "metadata": {},
   "outputs": [
    {
     "name": "stdout",
     "output_type": "stream",
     "text": [
      "Beginning proof of add_3_3\n",
      "Recorded 'presuming' information\n",
      "Presuming previous theorems (applied transitively).\n"
     ]
    },
    {
     "data": {
      "text/html": [
       "<strong id=\"add_3_3\">add_3_3:</strong> <a class=\"ProveItLink\" href=\"../__pv_it/81b98e68e87d73f4c736ea6eb31efdbed031736e0/expr.ipynb\"><img src=\"data:image/png;base64,iVBORw0KGgoAAAANSUhEUgAAAGEAAAAVBAMAAACkm51HAAAAMFBMVEX////c3NwiIiJERESqqqqY\n",
       "mJh2dnZmZmYQEBDu7u4yMjJUVFTMzMyIiIi6uroAAAAs73DqAAAAAXRSTlMAQObYZgAAAYNJREFU\n",
       "OMtjYCAd8F3AIRGHS8dpBoZjaSaoYjxpyQ4M7Acw1E4rywGSKxkYCxjeo1okzsD3l4FhAboGRh2G\n",
       "TQwMvBcY2L4w8CtAxCZCqHwHhk8MDGHoOpgSGFYxMHBMYGBB6PCFUP5gHTPQdcRPAJGvwGyYq3zh\n",
       "4QF0FbMDmo4VYLIMTK5mQNPBtYGBga0ATcevs9eBhiwFBU3WBjQdx0BGsIC9zr4KDIAqOD8FMKgy\n",
       "MPSBVdx4gGYHL1CcrwHVCs7/wDCZwPAPzOH4iaaDoX8CA88HNB3A0Ih3AOlgPMDA/BUoUrVqlcaq\n",
       "VSD3yDAw2Adg6GD4BdRxgaGFgWH+T4gOuB2c/yeAdEBcxa4EBgZAphHYDlMGBv4FDEwfUVwFNExf\n",
       "gIEVPdL9wf5IB/oygOF9AoqOqwx837CELnMCZysDwyMgy718CWrospRXAQOe6wF6pFdXA4U4BJCF\n",
       "fJE5M7AndtYEZN5bZE4ujvyxElfG4VyAQ0Ialw5uARwSjLhy7R3swgD65GEt1qFtwwAAAABJRU5E\n",
       "rkJggg==\n",
       "\" style=\"display:inline;vertical-align:middle;\" /></a><br>(see <a class=\"ProveItLink\" href=\"../__pv_it/81b98e68e87d73f4c736ea6eb31efdbed031736e0/dependencies.ipynb\">dependencies</a>)<br>"
      ],
      "text/plain": [
       "add_3_3: (3 + 3) = 6"
      ]
     },
     "execution_count": 2,
     "metadata": {},
     "output_type": "execute_result"
    }
   ],
   "source": [
    "%proving add_3_3 presuming []"
   ]
  },
  {
   "cell_type": "code",
   "execution_count": null,
   "metadata": {},
   "outputs": [],
   "source": []
  }
 ],
 "metadata": {
  "kernelspec": {
   "display_name": "Python 3",
   "language": "python",
   "name": "python3"
  }
 },
 "nbformat": 4,
 "nbformat_minor": 0
}
