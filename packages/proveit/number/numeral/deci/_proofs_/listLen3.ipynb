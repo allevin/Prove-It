{
 "cells": [
  {
   "cell_type": "markdown",
   "metadata": {},
   "source": [
    "Proof of <a class=\"ProveItLink\" href=\"../../../../_context_.ipynb\">proveit</a>.<a class=\"ProveItLink\" href=\"../../../_context_.ipynb\">number</a>.<a class=\"ProveItLink\" href=\"../../_context_.ipynb\">numeral</a>.<a class=\"ProveItLink\" href=\"../_context_.ipynb\">decimal</a>.<a class=\"ProveItLink\" href=\"../_theorems_.ipynb#listLen3\">listLen3</a> theorem\n",
    "========"
   ]
  },
  {
   "cell_type": "code",
   "execution_count": 1,
   "metadata": {},
   "outputs": [],
   "source": [
    "import proveit\n",
    "context = proveit.Context('..') # the theorem's context is in the parent directory"
   ]
  },
  {
   "cell_type": "code",
   "execution_count": 2,
   "metadata": {},
   "outputs": [
    {
     "name": "stdout",
     "output_type": "stream",
     "text": [
      "Beginning proof of listLen3\n",
      "Recorded 'presuming' information\n",
      "Presuming previous theorems (applied transitively).\n"
     ]
    },
    {
     "data": {
      "text/html": [
       "<strong id=\"listLen3\">listLen3:</strong> <a class=\"ProveItLink\" href=\"../__pv_it/97b0cf36f805bd37bd491845d0a946bc020af9e50/expr.ipynb\"><img src=\"data:image/png;base64,iVBORw0KGgoAAAANSUhEUgAAAL8AAAAWBAMAAABj11ATAAAAMFBMVEX///8QEBC6urrMzMxUVFRm\n",
       "ZmZERETc3NwyMjKqqqp2dnaIiIiYmJgiIiLu7u4AAAAU9Wx4AAAAAXRSTlMAQObYZgAAAuBJREFU\n",
       "SMetVUFoE0EUfdl0kyab7EovRQ9aQVAQMQfxIEKjIgoVDIhQbMWC0CIIBrRWEDFIDxVU9iJ4a1Cq\n",
       "aFBD66n1sHiSFiQgKgji5iCIlxQPVWyt/j87u8mmO+rBDzv7Z/a/fbvv//kD/M1SRfyDqaPcPwO3\n",
       "I93Dd62qisiI515Uu72gq8bOggodz0vorpZFc1+tNeZYJEH80X0beg54yLNbKoJOV0JDEZ350CyS\n",
       "YBTaMlACLtIkOaQimJNQI6SQZYc0KkcRPLXxE5gX3wjdVhFslNBYKFU7QzNzXRTBpCCoE/+DsbEr\n",
       "qvdrJQndFlp+HI46E51klihBn740PPxeRaCXJfQEC9l3t9tbHp87IgO+VGaAqWgCzlS6ABwARgLS\n",
       "ibYYR0Jv0LW5mFj0NFmClfNKpQs3gTsBQf8E27h4todvKZJgC8xS8MapMEGsR0K76AdWoHvFkFpF\n",
       "rCy8ehVniTn6DwwCaZSfLAwnWLwejrF8gq9AxyKyXi3pJVgF4R0VY69io21yEad/Npxssyi+qQms\n",
       "ITQ8YbIF7PS+aUlNcB445wgCs8S7dHT2tEj8Myb7VJFlH7MldD1wtYpJr7HQNjglnOSyiGpKdPID\n",
       "21vO0y+XCVgijOyn+bvkKstWy1Dqzdeal00k/CST0g0bh1M5kwly2AB2sEJlDryM+oPvwMciMpze\n",
       "29RZOgpx7i+JaoYnedPTQlSZgE5xRaXepNHg57aeFw4OAvcUZfoc2g/vBYhVWWyD+0ssx4ViBcFa\n",
       "TUJ38DaY3j2NOmXJ7BuEcKBX5kira1EEqeP9pG8nL2copuEmXlFHt5AlURrN3t7tt4pgaesaJ7pV\n",
       "eFYPCt7t3eteKmZp09CYwxO5Pi+hmbIf6axx0lU1QSXQYmBhEL2ONlCmMdk36yrb9VqCz+oDp2UL\n",
       "t2CclpWkf+Bc8Lcn2h0cUhN0hA/SeLE5+nYZhoAmlUemISrOiCSYaTtdW8b/Zr8ByN25XedbYPoA\n",
       "AAAASUVORK5CYII=\n",
       "\" style=\"display:inline;vertical-align:middle;\" /></a><br>(see <a class=\"ProveItLink\" href=\"../__pv_it/97b0cf36f805bd37bd491845d0a946bc020af9e50/dependencies.ipynb\">dependencies</a>)<br>"
      ],
      "text/plain": [
       "listLen3: forall_{a, b, c} (|(a , b , c)| = 3)"
      ]
     },
     "execution_count": 2,
     "metadata": {},
     "output_type": "execute_result"
    }
   ],
   "source": [
    "%proving listLen3 presuming []"
   ]
  },
  {
   "cell_type": "code",
   "execution_count": null,
   "metadata": {},
   "outputs": [],
   "source": []
  }
 ],
 "metadata": {
  "kernelspec": {
   "display_name": "Python 3",
   "language": "python",
   "name": "python3"
  }
 },
 "nbformat": 4,
 "nbformat_minor": 0
}
