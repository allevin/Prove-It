{
 "cells": [
  {
   "cell_type": "markdown",
   "metadata": {},
   "source": [
    "Proof of <a class=\"ProveItLink\" href=\"../../../../_context_.ipynb\">proveit</a>.<a class=\"ProveItLink\" href=\"../../../_context_.ipynb\">number</a>.<a class=\"ProveItLink\" href=\"../../_context_.ipynb\">numeral</a>.<a class=\"ProveItLink\" href=\"../_context_.ipynb\">decimal</a>.<a class=\"ProveItLink\" href=\"../_theorems_.ipynb#add_2_7\">add_2_7</a> theorem\n",
    "========"
   ]
  },
  {
   "cell_type": "code",
   "execution_count": 1,
   "metadata": {},
   "outputs": [],
   "source": [
    "import proveit\n",
    "context = proveit.Context('..') # the theorem's context is in the parent directory"
   ]
  },
  {
   "cell_type": "code",
   "execution_count": 2,
   "metadata": {},
   "outputs": [
    {
     "name": "stdout",
     "output_type": "stream",
     "text": [
      "Beginning proof of add_2_7\n",
      "Recorded 'presuming' information\n",
      "Presuming previous theorems (applied transitively).\n"
     ]
    },
    {
     "data": {
      "text/html": [
       "<strong id=\"add_2_7\">add_2_7:</strong> <a class=\"ProveItLink\" href=\"../__pv_it/e6fe10f3e44eab9b2b7b4331119172bd9e75030b0/expr.ipynb\"><img src=\"data:image/png;base64,iVBORw0KGgoAAAANSUhEUgAAAGEAAAAVBAMAAACkm51HAAAAMFBMVEX////c3NwiIiJERESqqqqY\n",
       "mJh2dnZmZmYQEBDu7u4yMjJUVFTMzMyIiIi6uroAAAAs73DqAAAAAXRSTlMAQObYZgAAAXZJREFU\n",
       "OMuVk79Lw0AUx7+pbdMmtsRJwUUcxNFBwUnzDxTr4qZmShEVM0iVLiq4uEjEpbhYEIfGJeDgKi4O\n",
       "Dg2uFlocBbHgVAfr5SKSe+QGD+7He+8+d+/HHfD/VgwkhjUZ8QSM1hZE3UPVti31nm7N322GuiYU\n",
       "Hx1TMK0PBgMfDUqMmcoRUAigu0j1It1ZNG0AOrBCiXngFsi5yJ1A/450pWiygC2gTokvYMfFG6D1\n",
       "oYpElI8hk4TxCXS6qHIh1SfEOetZJ+GOMq75umURYpf1NA9d9Xjz2XIfWAxwyjdcQSTyYSaKh+SO\n",
       "i3L6IAAPQJ0hRCE8frhHQ19tszJw4oXLNc+b9rwbHpefSPBcHYcOOxgR77h0/rxSJ3n79cID5tj0\n",
       "CCyLxEdIZGjRO4bCXKoAypRdmRCJJScpu8+uxsr0ypxmr4gQrTIbtC4hsnuzbMwZcV0pLtSTH3vG\n",
       "ikvvcWFb8j+aso+Tb0gM4zJCNyQGRfZr28nqH1WqXyRAxxJVAAAAAElFTkSuQmCC\n",
       "\" style=\"display:inline;vertical-align:middle;\" /></a><br>(see <a class=\"ProveItLink\" href=\"../__pv_it/e6fe10f3e44eab9b2b7b4331119172bd9e75030b0/dependencies.ipynb\">dependencies</a>)<br>"
      ],
      "text/plain": [
       "add_2_7: (2 + 7) = 9"
      ]
     },
     "execution_count": 2,
     "metadata": {},
     "output_type": "execute_result"
    }
   ],
   "source": [
    "%proving add_2_7 presuming []"
   ]
  },
  {
   "cell_type": "code",
   "execution_count": null,
   "metadata": {},
   "outputs": [],
   "source": []
  }
 ],
 "metadata": {
  "kernelspec": {
   "display_name": "Python 3",
   "language": "python",
   "name": "python3"
  }
 },
 "nbformat": 4,
 "nbformat_minor": 0
}
