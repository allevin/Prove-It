{
 "cells": [
  {
   "cell_type": "markdown",
   "metadata": {},
   "source": [
    "Proof of <a class=\"ProveItLink\" href=\"../../../../_context_.ipynb\">proveit</a>.<a class=\"ProveItLink\" href=\"../../../_context_.ipynb\">number</a>.<a class=\"ProveItLink\" href=\"../../_context_.ipynb\">numeral</a>.<a class=\"ProveItLink\" href=\"../_context_.ipynb\">decimal</a>.<a class=\"ProveItLink\" href=\"../_theorems_.ipynb#posnat9\">posnat9</a> theorem\n",
    "========"
   ]
  },
  {
   "cell_type": "code",
   "execution_count": 1,
   "metadata": {},
   "outputs": [],
   "source": [
    "import proveit\n",
    "context = proveit.Context('..') # the theorem's context is in the parent directory"
   ]
  },
  {
   "cell_type": "code",
   "execution_count": 2,
   "metadata": {},
   "outputs": [
    {
     "name": "stdout",
     "output_type": "stream",
     "text": [
      "Beginning proof of posnat9\n",
      "Recorded 'presuming' information\n",
      "Presuming previous theorems (applied transitively).\n"
     ]
    },
    {
     "data": {
      "text/html": [
       "<strong id=\"posnat9\">posnat9:</strong> <a class=\"ProveItLink\" href=\"../__pv_it/7996db6a00023c5e5a4f8afc0e657b59f0db11ed0/expr.ipynb\"><img src=\"data:image/png;base64,iVBORw0KGgoAAAANSUhEUgAAAD8AAAAUBAMAAADIGvgZAAAAMFBMVEX///8iIiKYmJi6urqIiIgy\n",
       "MjJERESqqqoQEBDc3NzMzMx2dnZmZmZUVFTu7u4AAABn2L4sAAAAAXRSTlMAQObYZgAAAPxJREFU\n",
       "KM9jYMAD2BkIADZ6KXh7+haq8NNvqQ8YDn4sgCrgbGeYMQFVRRJXAgPDB4aroRGhoQ4MbA0MvAmo\n",
       "Ci4ucGFgaIBZwR/AwP0PLM7nKigYAGJcjuNdgFDwPoGB5TNYwVI9qAm31vLFoZrwCeyYPJgVt9gd\n",
       "liEU8DQwsH0B+wnu1FsMh5kcQAp4wTYHMdSAFTxjQCjgfXCrAc5lclnyHURbCApCHXmLge/C0wYk\n",
       "b0F8sRbJBIbVXMgKWMH6HiIrYCqAhw3LT4b5BiAGrwKSAoadCAVyDCGQcBKGCSWDPBcAN3DPsQII\n",
       "Y+opCG36A6ibLwBL7NYGCmIKAwAjNUHIGNcUpgAAAABJRU5ErkJggg==\n",
       "\" style=\"display:inline;vertical-align:middle;\" /></a><br>(see <a class=\"ProveItLink\" href=\"../__pv_it/7996db6a00023c5e5a4f8afc0e657b59f0db11ed0/dependencies.ipynb\">dependencies</a>)<br>"
      ],
      "text/plain": [
       "posnat9: 9 in NaturalsPos"
      ]
     },
     "execution_count": 2,
     "metadata": {},
     "output_type": "execute_result"
    }
   ],
   "source": [
    "%proving posnat9 presuming []"
   ]
  },
  {
   "cell_type": "code",
   "execution_count": null,
   "metadata": {},
   "outputs": [],
   "source": []
  }
 ],
 "metadata": {
  "kernelspec": {
   "display_name": "Python 3",
   "language": "python",
   "name": "python3"
  }
 },
 "nbformat": 4,
 "nbformat_minor": 0
}
