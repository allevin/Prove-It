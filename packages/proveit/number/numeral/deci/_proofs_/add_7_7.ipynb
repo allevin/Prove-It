{
 "cells": [
  {
   "cell_type": "markdown",
   "metadata": {},
   "source": [
    "Proof of <a class=\"ProveItLink\" href=\"../../../../_context_.ipynb\">proveit</a>.<a class=\"ProveItLink\" href=\"../../../_context_.ipynb\">number</a>.<a class=\"ProveItLink\" href=\"../../_context_.ipynb\">numeral</a>.<a class=\"ProveItLink\" href=\"../_context_.ipynb\">decimal</a>.<a class=\"ProveItLink\" href=\"../_theorems_.ipynb#add_7_7\">add_7_7</a> theorem\n",
    "========"
   ]
  },
  {
   "cell_type": "code",
   "execution_count": 1,
   "metadata": {},
   "outputs": [],
   "source": [
    "import proveit\n",
    "context = proveit.Context('..') # the theorem's context is in the parent directory"
   ]
  },
  {
   "cell_type": "code",
   "execution_count": 2,
   "metadata": {},
   "outputs": [
    {
     "name": "stdout",
     "output_type": "stream",
     "text": [
      "Beginning proof of add_7_7\n",
      "Recorded 'presuming' information\n",
      "Presuming previous theorems (applied transitively).\n"
     ]
    },
    {
     "data": {
      "text/html": [
       "<strong id=\"add_7_7\">add_7_7:</strong> <a class=\"ProveItLink\" href=\"../__pv_it/9cd557e97f04939ad071e7f8e8f612f85769adf40/expr.ipynb\"><img src=\"data:image/png;base64,iVBORw0KGgoAAAANSUhEUgAAAGwAAAAVBAMAAABRZRb3AAAAMFBMVEX////c3NwiIiJERESqqqqY\n",
       "mJh2dnZmZmYQEBDu7u4yMjJUVFTMzMyIiIi6uroAAAAs73DqAAAAAXRSTlMAQObYZgAAAUlJREFU\n",
       "OMudkz9Iw1AQh39ik7ZipIuTmw4KLh101lkpODtlSgdnLYhDoc5aFwdBHESkT5A6BzG7g5ldFCcR\n",
       "OooFwZh3V0Pz/mTwlrz77n3cS3IP+GfMxJaC81qkPWJ6MQiCHGNyoG+e7LIC9OAkSfKdb0RkSrOq\n",
       "a6QtAF4MN133mZ/wg4njq1b4IDWvA1S6cNN9ERcaI41Ita21e5Ha7CXwQekAOW1EVsyan2p71L2u\n",
       "akSaRs2ppdqVzMrrqkZkg1aCop9p50i1I5ldQNWIvBu7+VL7kdmzphF5MmmlKNOWie0LsSTEDTJi\n",
       "1E4htUP5/l9qNyZ0yPI8Rf1P2wzD4T1W5VhqGpNt8w9Ahz9ySdOYNO3am5zcT1VjcqtarePrLWAn\n",
       "2UWlNs4buRFs2+9Nfl4H44kbF9y3nrVyVnRN56yVuyJtwnYUL7JLv/pwZoE2rKTfAAAAAElFTkSu\n",
       "QmCC\n",
       "\" style=\"display:inline;vertical-align:middle;\" /></a><br>(see <a class=\"ProveItLink\" href=\"../__pv_it/9cd557e97f04939ad071e7f8e8f612f85769adf40/dependencies.ipynb\">dependencies</a>)<br>"
      ],
      "text/plain": [
       "add_7_7: (7 + 7) = 14"
      ]
     },
     "execution_count": 2,
     "metadata": {},
     "output_type": "execute_result"
    }
   ],
   "source": [
    "%proving add_7_7 presuming []"
   ]
  },
  {
   "cell_type": "code",
   "execution_count": null,
   "metadata": {},
   "outputs": [],
   "source": []
  }
 ],
 "metadata": {
  "kernelspec": {
   "display_name": "Python 3",
   "language": "python",
   "name": "python3"
  }
 },
 "nbformat": 4,
 "nbformat_minor": 0
}
