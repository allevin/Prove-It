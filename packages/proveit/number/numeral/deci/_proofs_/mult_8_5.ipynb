{
 "cells": [
  {
   "cell_type": "markdown",
   "metadata": {},
   "source": [
    "Proof of <a class=\"ProveItLink\" href=\"../../../../_context_.ipynb\">proveit</a>.<a class=\"ProveItLink\" href=\"../../../_context_.ipynb\">number</a>.<a class=\"ProveItLink\" href=\"../../_context_.ipynb\">numeral</a>.<a class=\"ProveItLink\" href=\"../_context_.ipynb\">deci</a>.<a class=\"ProveItLink\" href=\"../_theorems_.ipynb#mult_8_5\">mult_8_5</a> theorem\n",
    "========"
   ]
  },
  {
   "cell_type": "code",
   "execution_count": 1,
   "metadata": {},
   "outputs": [],
   "source": [
    "import proveit\n",
    "context = proveit.Context('..') # the theorem's context is in the parent directory"
   ]
  },
  {
   "cell_type": "code",
   "execution_count": 2,
   "metadata": {},
   "outputs": [
    {
     "name": "stdout",
     "output_type": "stream",
     "text": [
      "Beginning proof of mult_8_5\n",
      "Recorded 'presuming' information\n",
      "Presuming previous theorems (applied transitively).\n"
     ]
    },
    {
     "data": {
      "text/html": [
       "<strong id=\"mult_8_5\">mult_8_5:</strong> <a class=\"ProveItLink\" href=\"../__pv_it/f59ed3691967357a5e420ee371e4b26e75950b1e0/expr.ipynb\"><img src=\"data:image/png;base64,iVBORw0KGgoAAAANSUhEUgAAAGEAAAAVBAMAAACkm51HAAAAMFBMVEX////c3NwiIiJERESqqqqY\n",
       "mJh2dnZmZmYQEBDu7u4yMjJUVFTMzMyIiIi6uroAAAAs73DqAAAAAXRSTlMAQObYZgAAAZdJREFU\n",
       "OMuVk79Lw1AQx7/p79dWyebg4o9RhyA42z9AMC6KDhpEdFEsIi0oxR+4KZJJutnFoXWpm9ChnXUw\n",
       "OKhYheCogy61iNB4SZOofSHgDY93d+9zd+/uPeD/0q3xtjlf4go4Xtpw1fiMsIhojT+XLIPl7kxH\n",
       "EUgjKjuOmGEoQIEnAhICOhsGujSEZbA+N8fWCq1TPHEv4QZ4oJgqIuVfRMJa8xwgzEoYAt5EvACh\n",
       "LzWi/SWCqU4iEpfQBK5TyJA21rh1PYmnuk7+dCcxGZeEDyI0nJIWNfpdT1BlLUprXX2zZMqZuWWa\n",
       "TSg4InX60jCrYGobuqAh7XQWBZeggOE05j/JemJff62G5HsHMQ63qpbVLqFhNkiiZYQInSOYAvvm\n",
       "Mvbbrcw5vj1gW7SrWh8wZZB2oUqleqBRdydEjFIOETh3CGpSiQrlhx6zJrgALFOAIkKK4+hBaNer\n",
       "uyYRSLFD4JmU1+zPS0xmK5QyrnMTrDZllqnX2iXxkvd57GHFy7rq9z+KHjZW8CN6PWwJ0Y8QPH7t\n",
       "o8/5b0+7Z81iNdiNAAAAAElFTkSuQmCC\n",
       "\" style=\"display:inline;vertical-align:middle;\" /></a><br>(see <a class=\"ProveItLink\" href=\"../__pv_it/f59ed3691967357a5e420ee371e4b26e75950b1e0/dependencies.ipynb\">dependencies</a>)<br>"
      ],
      "text/plain": [
       "mult_8_5: (8 * 5) = 40"
      ]
     },
     "execution_count": 2,
     "metadata": {},
     "output_type": "execute_result"
    }
   ],
   "source": [
    "%proving mult_8_5 presuming []"
   ]
  },
  {
   "cell_type": "code",
   "execution_count": null,
   "metadata": {},
   "outputs": [],
   "source": []
  }
 ],
 "metadata": {
  "kernelspec": {
   "display_name": "Python 3",
   "language": "python",
   "name": "python3"
  }
 },
 "nbformat": 4,
 "nbformat_minor": 0
}
