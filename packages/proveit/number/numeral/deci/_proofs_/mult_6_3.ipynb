{
 "cells": [
  {
   "cell_type": "markdown",
   "metadata": {},
   "source": [
    "Proof of <a class=\"ProveItLink\" href=\"../../../../_context_.ipynb\">proveit</a>.<a class=\"ProveItLink\" href=\"../../../_context_.ipynb\">number</a>.<a class=\"ProveItLink\" href=\"../../_context_.ipynb\">numeral</a>.<a class=\"ProveItLink\" href=\"../_context_.ipynb\">deci</a>.<a class=\"ProveItLink\" href=\"../_theorems_.ipynb#mult_6_3\">mult_6_3</a> theorem\n",
    "========"
   ]
  },
  {
   "cell_type": "code",
   "execution_count": 1,
   "metadata": {},
   "outputs": [],
   "source": [
    "import proveit\n",
    "context = proveit.Context('..') # the theorem's context is in the parent directory"
   ]
  },
  {
   "cell_type": "code",
   "execution_count": 2,
   "metadata": {},
   "outputs": [
    {
     "name": "stdout",
     "output_type": "stream",
     "text": [
      "Beginning proof of mult_6_3\n",
      "Recorded 'presuming' information\n",
      "Presuming previous theorems (applied transitively).\n"
     ]
    },
    {
     "data": {
      "text/html": [
       "<strong id=\"mult_6_3\">mult_6_3:</strong> <a class=\"ProveItLink\" href=\"../__pv_it/a5d576c27f518931998f03dd642da93b0c002de30/expr.ipynb\"><img src=\"data:image/png;base64,iVBORw0KGgoAAAANSUhEUgAAAGEAAAAVBAMAAACkm51HAAAAMFBMVEX////c3NwiIiJERESqqqqY\n",
       "mJh2dnZmZmYQEBDu7u4yMjJUVFTMzMyIiIi6uroAAAAs73DqAAAAAXRSTlMAQObYZgAAAYpJREFU\n",
       "OMuVkz0sQ1EUx38+ntfX1uuLxUBCCCsLiUkng0UXTKSJpB1EiKiKSJBYLLywNDHoYvCRsIlIpJPF\n",
       "0sVGIkaTNCLRhDrv0ZfS6yXOcN89539+99xz373wfzPz1bFJX+IGjGQiV3bDiakoeq46b0DyEsmo\n",
       "zA6hKRdqLwvNmO+QrQJ230CHFDTKproJeimzUQow9hvYuxRiFHYgYKO9VUgjLpGpqtEoSdMu8QTB\n",
       "tZ9HIbuqi6qIkQtmYBEiJ/cLFVrwDBrmVERdaSIOB7DfRW3Mk66PZah3+1o+cuzYI1gtWLAlxDMN\n",
       "jm/YX5qEzDVVDW3l9AU+hGhHk5nzdW3bJvysIsbRSrZDRLJo0i2ZXhlaYTD2B7EJbTE2pKHvGo4Z\n",
       "sogQX7ua73Css0wYEtTz9Emb3324VoQeCy2rqrEOIYukeP1kvLO6xXz963SHbYbgUTz9/MpT6tPL\n",
       "8veCD78AfamYwjxPixawVBc643PZtbgqOuP3Pg4VMSPrR7QoYiHLj6hRvNo7n/xPs89nJsZpU4UA\n",
       "AAAASUVORK5CYII=\n",
       "\" style=\"display:inline;vertical-align:middle;\" /></a><br>(see <a class=\"ProveItLink\" href=\"../__pv_it/a5d576c27f518931998f03dd642da93b0c002de30/dependencies.ipynb\">dependencies</a>)<br>"
      ],
      "text/plain": [
       "mult_6_3: (6 * 3) = 18"
      ]
     },
     "execution_count": 2,
     "metadata": {},
     "output_type": "execute_result"
    }
   ],
   "source": [
    "%proving mult_6_3 presuming []"
   ]
  },
  {
   "cell_type": "code",
   "execution_count": null,
   "metadata": {},
   "outputs": [],
   "source": []
  }
 ],
 "metadata": {
  "kernelspec": {
   "display_name": "Python 3",
   "language": "python",
   "name": "python3"
  }
 },
 "nbformat": 4,
 "nbformat_minor": 0
}
