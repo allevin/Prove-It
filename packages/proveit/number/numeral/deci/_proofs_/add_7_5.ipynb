{
 "cells": [
  {
   "cell_type": "markdown",
   "metadata": {},
   "source": [
    "Proof of <a class=\"ProveItLink\" href=\"../../../../_context_.ipynb\">proveit</a>.<a class=\"ProveItLink\" href=\"../../../_context_.ipynb\">number</a>.<a class=\"ProveItLink\" href=\"../../_context_.ipynb\">numeral</a>.<a class=\"ProveItLink\" href=\"../_context_.ipynb\">decimal</a>.<a class=\"ProveItLink\" href=\"../_theorems_.ipynb#add_7_5\">add_7_5</a> theorem\n",
    "========"
   ]
  },
  {
   "cell_type": "code",
   "execution_count": 1,
   "metadata": {},
   "outputs": [],
   "source": [
    "import proveit\n",
    "context = proveit.Context('..') # the theorem's context is in the parent directory"
   ]
  },
  {
   "cell_type": "code",
   "execution_count": 2,
   "metadata": {},
   "outputs": [
    {
     "name": "stdout",
     "output_type": "stream",
     "text": [
      "Beginning proof of add_7_5\n",
      "Recorded 'presuming' information\n",
      "Presuming previous theorems (applied transitively).\n"
     ]
    },
    {
     "data": {
      "text/html": [
       "<strong id=\"add_7_5\">add_7_5:</strong> <a class=\"ProveItLink\" href=\"../__pv_it/ca130b1da69639bbda3add7db198c43772a1f1e30/expr.ipynb\"><img src=\"data:image/png;base64,iVBORw0KGgoAAAANSUhEUgAAAGwAAAAVBAMAAABRZRb3AAAAMFBMVEX////c3NwiIiJERESqqqqY\n",
       "mJh2dnZmZmYQEBDu7u4yMjJUVFTMzMyIiIi6uroAAAAs73DqAAAAAXRSTlMAQObYZgAAAYJJREFU\n",
       "OMudkz9Iw0AUxr/UNkn/SV10cAkOKrh00MFFM4pQ0NWpU7p2UqgOHVxc7Lm6VJBSGkHaxUXUbh0c\n",
       "7KxIxUmEgg4qRUm8XIM0l1wGHySXe9/93ru8ewf808a7AiH2FIbdIjVnGIbXWSOTOvb8i8cIMFVa\n",
       "oV8NxGzb/vbKFfsTSPio+CqB1ERPR7oLmYZoDv1Hrl6/aNNd5nnq8oYgSRB5g0ogA3J7KOTcBSxK\n",
       "vOxL1yNQD5C08MqmfQRgWAzCEgMoFrZZ3CyHXT1e03chCKMWGaDmjIrOYcuo0vKvM81k1hzB7vI4\n",
       "dMYqOAxI0h97EWQ7BSxnvPdj8g+NGowpWRdbYL6Sac6b5plzqhpkS4g90GffqcgXl03VoLy7m1Rm\n",
       "mGX/sGgRE1hy2pLHFNoiJ8BWYLYOsMmKHOUxqYi1jOAApFmjoOGZTlIffEk6uy36PuepnUp9I0I7\n",
       "WIOaGfXnPC1YFt8bb7/2RydyN+S+NYTKcdg1nRYqrTBMEm0l3RZDv4DJbSY+htFEAAAAAElFTkSu\n",
       "QmCC\n",
       "\" style=\"display:inline;vertical-align:middle;\" /></a><br>(see <a class=\"ProveItLink\" href=\"../__pv_it/ca130b1da69639bbda3add7db198c43772a1f1e30/dependencies.ipynb\">dependencies</a>)<br>"
      ],
      "text/plain": [
       "add_7_5: (7 + 5) = 12"
      ]
     },
     "execution_count": 2,
     "metadata": {},
     "output_type": "execute_result"
    }
   ],
   "source": [
    "%proving add_7_5 presuming []"
   ]
  },
  {
   "cell_type": "code",
   "execution_count": null,
   "metadata": {},
   "outputs": [],
   "source": []
  }
 ],
 "metadata": {
  "kernelspec": {
   "display_name": "Python 3",
   "language": "python",
   "name": "python3"
  }
 },
 "nbformat": 4,
 "nbformat_minor": 0
}
