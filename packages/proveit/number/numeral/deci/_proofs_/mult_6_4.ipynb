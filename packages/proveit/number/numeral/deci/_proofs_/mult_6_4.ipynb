{
 "cells": [
  {
   "cell_type": "markdown",
   "metadata": {},
   "source": [
    "Proof of <a class=\"ProveItLink\" href=\"../../../../_context_.ipynb\">proveit</a>.<a class=\"ProveItLink\" href=\"../../../_context_.ipynb\">number</a>.<a class=\"ProveItLink\" href=\"../../_context_.ipynb\">numeral</a>.<a class=\"ProveItLink\" href=\"../_context_.ipynb\">deci</a>.<a class=\"ProveItLink\" href=\"../_theorems_.ipynb#mult_6_4\">mult_6_4</a> theorem\n",
    "========"
   ]
  },
  {
   "cell_type": "code",
   "execution_count": 1,
   "metadata": {},
   "outputs": [],
   "source": [
    "import proveit\n",
    "context = proveit.Context('..') # the theorem's context is in the parent directory"
   ]
  },
  {
   "cell_type": "code",
   "execution_count": 2,
   "metadata": {},
   "outputs": [
    {
     "name": "stdout",
     "output_type": "stream",
     "text": [
      "Beginning proof of mult_6_4\n",
      "Recorded 'presuming' information\n",
      "Presuming previous theorems (applied transitively).\n"
     ]
    },
    {
     "data": {
      "text/html": [
       "<strong id=\"mult_6_4\">mult_6_4:</strong> <a class=\"ProveItLink\" href=\"../__pv_it/32ab12dc375e00fe84786a16d29b55bb4d86b9850/expr.ipynb\"><img src=\"data:image/png;base64,iVBORw0KGgoAAAANSUhEUgAAAGEAAAAVBAMAAACkm51HAAAAMFBMVEX////c3NwiIiJERESqqqqY\n",
       "mJh2dnZmZmYQEBDu7u4yMjJUVFTMzMyIiIi6uroAAAAs73DqAAAAAXRSTlMAQObYZgAAAXJJREFU\n",
       "OMtjYCAd8F3AFIvDq+M0AwNnetoBhADPBgb2A+iqGMsXP4DIMTCsZGAQOsCtgJBkMmBgWICuQ5qB\n",
       "9wtUjhfoKDUGLiQlN4CiYeg6djIw6EPlOCYwsP5EsT8KKDoDXUfHBIb9DyByrxgYuBqQ5di4gKLM\n",
       "Dmg61k9gqH8AkStjYOBfc7cEIRcIEmUrwAwi/QkQuaUMDPNVGZgCYOKcF0CiLGB/Va0CgdXQIPwG\n",
       "lesD6vjAwAbyCucEkKMYQKJ8DRhWAIUhcv+AOhQYWEFBNx8UxD5gUZ4PGDqKYXJAHfwLGFj/AsVm\n",
       "ALmcCTh08G6AybUAAwZqBwiw7N69v/sC1FVFSiCgDJZwZ2AUgciZAlVB/QEFHEBzWNEjnaeAgVUA\n",
       "IpcO5JoxzAhA1YERukJpaUVQuUdAmn37PqQY3P89gIHrAXpk/P//CSrHIYAtQc/Ak9hZE7CJ5uLL\n",
       "HyuxiHEuwKdDGosYtwA+HYxYcu0dPOoBMepdQ/mUpm4AAAAASUVORK5CYII=\n",
       "\" style=\"display:inline;vertical-align:middle;\" /></a><br>(see <a class=\"ProveItLink\" href=\"../__pv_it/32ab12dc375e00fe84786a16d29b55bb4d86b9850/dependencies.ipynb\">dependencies</a>)<br>"
      ],
      "text/plain": [
       "mult_6_4: (6 * 4) = 24"
      ]
     },
     "execution_count": 2,
     "metadata": {},
     "output_type": "execute_result"
    }
   ],
   "source": [
    "%proving mult_6_4 presuming []"
   ]
  },
  {
   "cell_type": "code",
   "execution_count": null,
   "metadata": {},
   "outputs": [],
   "source": []
  }
 ],
 "metadata": {
  "kernelspec": {
   "display_name": "Python 3",
   "language": "python",
   "name": "python3"
  }
 },
 "nbformat": 4,
 "nbformat_minor": 0
}
