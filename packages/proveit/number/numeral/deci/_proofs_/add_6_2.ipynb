{
 "cells": [
  {
   "cell_type": "markdown",
   "metadata": {},
   "source": [
    "Proof of <a class=\"ProveItLink\" href=\"../../../../_context_.ipynb\">proveit</a>.<a class=\"ProveItLink\" href=\"../../../_context_.ipynb\">number</a>.<a class=\"ProveItLink\" href=\"../../_context_.ipynb\">numeral</a>.<a class=\"ProveItLink\" href=\"../_context_.ipynb\">decimal</a>.<a class=\"ProveItLink\" href=\"../_theorems_.ipynb#add_6_2\">add_6_2</a> theorem\n",
    "========"
   ]
  },
  {
   "cell_type": "code",
   "execution_count": 1,
   "metadata": {},
   "outputs": [],
   "source": [
    "import proveit\n",
    "context = proveit.Context('..') # the theorem's context is in the parent directory"
   ]
  },
  {
   "cell_type": "code",
   "execution_count": 2,
   "metadata": {},
   "outputs": [
    {
     "name": "stdout",
     "output_type": "stream",
     "text": [
      "Beginning proof of add_6_2\n",
      "Recorded 'presuming' information\n",
      "Presuming previous theorems (applied transitively).\n"
     ]
    },
    {
     "data": {
      "text/html": [
       "<strong id=\"add_6_2\">add_6_2:</strong> <a class=\"ProveItLink\" href=\"../__pv_it/cc881bc18616ae0a44ba35ca77251972e0586ea20/expr.ipynb\"><img src=\"data:image/png;base64,iVBORw0KGgoAAAANSUhEUgAAAGEAAAAVBAMAAACkm51HAAAAMFBMVEX////c3NwiIiJERESqqqqY\n",
       "mJh2dnZmZmYQEBDu7u4yMjJUVFTMzMyIiIi6uroAAAAs73DqAAAAAXRSTlMAQObYZgAAAX5JREFU\n",
       "OMuVk71LQlEUwH9mr5df+XBtSIKizZaamwoCyaWaCqfnEIL0JUSgQUMt8WpyS4gGX4Fu0lLuLf0B\n",
       "BdIYBCISONTrPpXwXX1DZzn3nHN/nK974f8y8eIS2HYjnsGX0msOnyd7U0etyVd9empJqBJEaoGo\n",
       "IzRJqAVFmVDhAEKiqFn8vehlVz1ADDZkYh2uYNxAaf/54l11ZvBUpyATOx3iA/x5mSgb5Op4lyRi\n",
       "7YE0HEL4/m3fSQiJGYxlJMJrbSXhFq5nGElIRPALRjvNqWZHKvY519TgQhANxtoS4Z8Xm8pLOZTj\n",
       "shjhjyCiKC2J2LPzNCRiE8UybCJcRPkWjiPTnDPNOzsWqgwjzmEqwaloaDDHCh6tV5U63RFRpU/Y\n",
       "6gsLosOBPoIZFA1FXvoJBDRS4rRIwTmriK7vMjjdVYNleLcTVx+d+4hZVlPMqy4/82pWLHVc6/fF\n",
       "+43C8MeuJPutz34j7fI/Sm4fx1d0CUy6EQHNJeBx+7Wvw92/HYRd/6b8IRYAAAAASUVORK5CYII=\n",
       "\" style=\"display:inline;vertical-align:middle;\" /></a><br>(see <a class=\"ProveItLink\" href=\"../__pv_it/cc881bc18616ae0a44ba35ca77251972e0586ea20/dependencies.ipynb\">dependencies</a>)<br>"
      ],
      "text/plain": [
       "add_6_2: (6 + 2) = 8"
      ]
     },
     "execution_count": 2,
     "metadata": {},
     "output_type": "execute_result"
    }
   ],
   "source": [
    "%proving add_6_2 presuming []"
   ]
  },
  {
   "cell_type": "code",
   "execution_count": null,
   "metadata": {},
   "outputs": [],
   "source": []
  }
 ],
 "metadata": {
  "kernelspec": {
   "display_name": "Python 3",
   "language": "python",
   "name": "python3"
  }
 },
 "nbformat": 4,
 "nbformat_minor": 0
}
