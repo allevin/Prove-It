{
 "cells": [
  {
   "cell_type": "markdown",
   "metadata": {},
   "source": [
    "Proof of <a class=\"ProveItLink\" href=\"../../../../_context_.ipynb\">proveit</a>.<a class=\"ProveItLink\" href=\"../../../_context_.ipynb\">number</a>.<a class=\"ProveItLink\" href=\"../../_context_.ipynb\">numeral</a>.<a class=\"ProveItLink\" href=\"../_context_.ipynb\">decimal</a>.<a class=\"ProveItLink\" href=\"../_theorems_.ipynb#add_7_8\">add_7_8</a> theorem\n",
    "========"
   ]
  },
  {
   "cell_type": "code",
   "execution_count": 1,
   "metadata": {},
   "outputs": [],
   "source": [
    "import proveit\n",
    "context = proveit.Context('..') # the theorem's context is in the parent directory"
   ]
  },
  {
   "cell_type": "code",
   "execution_count": 2,
   "metadata": {},
   "outputs": [
    {
     "name": "stdout",
     "output_type": "stream",
     "text": [
      "Beginning proof of add_7_8\n",
      "Recorded 'presuming' information\n",
      "Presuming previous theorems (applied transitively).\n"
     ]
    },
    {
     "data": {
      "text/html": [
       "<strong id=\"add_7_8\">add_7_8:</strong> <a class=\"ProveItLink\" href=\"../__pv_it/d6dd80e2ea0b6ce28c26dfdda371ebbf849e8bfa0/expr.ipynb\"><img src=\"data:image/png;base64,iVBORw0KGgoAAAANSUhEUgAAAGwAAAAVBAMAAABRZRb3AAAAMFBMVEX////c3NwiIiJERESqqqqY\n",
       "mJh2dnZmZmYQEBDu7u4yMjJUVFTMzMyIiIi6uroAAAAs73DqAAAAAXRSTlMAQObYZgAAAYdJREFU\n",
       "OMudkz1Iw0AUx/+hySWtrXRycakuCi4ddHBqRxEK2QQXO8W1g1jwAzo427iIuNRFSiOUdnERtZug\n",
       "g50cBLE4idLBIYpUGi+XVs21l8EHubv33v3uPV7eA/4po02BQ2kFYTeIThmG4TfuG2vA1uDlkAkc\n",
       "m2NpoALFcZyO352DqiMyQIVTFCs670CsCULPNc++18tPRzgBJctTZ5f0avm0AWgmCEAaniPjbaTm\n",
       "YuHCQLjHfoQXprbhw+SOSWilZsXYOoue9GNI2Xd0XR2KnT9c0Lq4mprmMNWZoOsiO1pMaj/YPEot\n",
       "7LpaCRy2dO3Ql56HRgNGCui6+z2HKTmsfAK3Aox8edgMs21Y1rRlnYCVV7IFWCgB0sWOW5EPLtoB\n",
       "/bZ7SaqTTJJ9TEtAfcOc25Y8psWBOrA8LJoKRI5YkWUekyuQs4IfIOWwEMcTVaI2X8nXPG1lVHkq\n",
       "XyzruNqse/n8SsbXggXx3Pj7tf1XIc2AeasIPYdBYzou9NSDMEmUSqwhhr4BO6tvU6kXIaUAAAAA\n",
       "SUVORK5CYII=\n",
       "\" style=\"display:inline;vertical-align:middle;\" /></a><br>(see <a class=\"ProveItLink\" href=\"../__pv_it/d6dd80e2ea0b6ce28c26dfdda371ebbf849e8bfa0/dependencies.ipynb\">dependencies</a>)<br>"
      ],
      "text/plain": [
       "add_7_8: (7 + 8) = 15"
      ]
     },
     "execution_count": 2,
     "metadata": {},
     "output_type": "execute_result"
    }
   ],
   "source": [
    "%proving add_7_8 presuming []"
   ]
  },
  {
   "cell_type": "code",
   "execution_count": null,
   "metadata": {},
   "outputs": [],
   "source": []
  }
 ],
 "metadata": {
  "kernelspec": {
   "display_name": "Python 3",
   "language": "python",
   "name": "python3"
  }
 },
 "nbformat": 4,
 "nbformat_minor": 0
}
