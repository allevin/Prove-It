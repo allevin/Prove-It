{
 "cells": [
  {
   "cell_type": "markdown",
   "metadata": {},
   "source": [
    "Proof of <a class=\"ProveItLink\" href=\"../../../../_context_.ipynb\">proveit</a>.<a class=\"ProveItLink\" href=\"../../../_context_.ipynb\">number</a>.<a class=\"ProveItLink\" href=\"../../_context_.ipynb\">numeral</a>.<a class=\"ProveItLink\" href=\"../_context_.ipynb\">deci</a>.<a class=\"ProveItLink\" href=\"../_theorems_.ipynb#mult_2_3\">mult_2_3</a> theorem\n",
    "========"
   ]
  },
  {
   "cell_type": "code",
   "execution_count": 1,
   "metadata": {},
   "outputs": [],
   "source": [
    "import proveit\n",
    "context = proveit.Context('..') # the theorem's context is in the parent directory"
   ]
  },
  {
   "cell_type": "code",
   "execution_count": 2,
   "metadata": {},
   "outputs": [
    {
     "name": "stdout",
     "output_type": "stream",
     "text": [
      "Beginning proof of mult_2_3\n",
      "Recorded 'presuming' information\n",
      "Presuming previous theorems (applied transitively).\n"
     ]
    },
    {
     "data": {
      "text/html": [
       "<strong id=\"mult_2_3\">mult_2_3:</strong> <a class=\"ProveItLink\" href=\"../__pv_it/1abefe4763b322d08e8291ad983acb3f810d664d0/expr.ipynb\"><img src=\"data:image/png;base64,iVBORw0KGgoAAAANSUhEUgAAAFcAAAAVBAMAAADBdm84AAAAMFBMVEX////c3NwiIiJERESqqqqY\n",
       "mJh2dnZmZmYQEBDu7u4yMjJUVFTMzMyIiIi6uroAAAAs73DqAAAAAXRSTlMAQObYZgAAAXJJREFU\n",
       "KM9jYCAJ8F3AFIvDpfg0A4N4lR2cy5OW7MDAfgBD2bSyHCC5koFxA8N9B5igOAPfXwaGBehqGXUY\n",
       "NjEw8F5g4J7AwPQBJprvwPCJgSEMXTFTAsMqBgaOCQwcnQzc/2Ci/mDFM9AVx08Aka8YGLh+MrD/\n",
       "Q/Ix0BnMDmiKV4DJMogtPxHiXBsYGNgK0BT/OnsdqH8pmH0+AS58bDWQYAH7sGoVCID4nJ8CGFQZ\n",
       "GPrAKhaDCE6wuxh4gUJ8DagGc/4Hen0CA9ix7AYgcr4CRKZ/AgPPBzTFQE/HO0AU3waLzABpkWFg\n",
       "sA/AUMzwC6j4AkMLyIUFDIJw+yaAFEOcUaQEAsogphHYZFMg6zgDQyCSEfoCDKzoUegPdnM6MCrV\n",
       "0tIVYKJXGfi+YQk65gTOVgaGR8BA/v//P1wxS3kVMEC5HqBHYXU1UIhDAFtSnIE9hbImYBPNxZGe\n",
       "V2IR41yAQ7E0FjFuARyKGbFkqzvYlQIAiftW5krFqp8AAAAASUVORK5CYII=\n",
       "\" style=\"display:inline;vertical-align:middle;\" /></a><br>(see <a class=\"ProveItLink\" href=\"../__pv_it/1abefe4763b322d08e8291ad983acb3f810d664d0/dependencies.ipynb\">dependencies</a>)<br>"
      ],
      "text/plain": [
       "mult_2_3: (2 * 3) = 6"
      ]
     },
     "execution_count": 2,
     "metadata": {},
     "output_type": "execute_result"
    }
   ],
   "source": [
    "%proving mult_2_3 presuming []"
   ]
  },
  {
   "cell_type": "code",
   "execution_count": null,
   "metadata": {},
   "outputs": [],
   "source": []
  }
 ],
 "metadata": {
  "kernelspec": {
   "display_name": "Python 3",
   "language": "python",
   "name": "python3"
  }
 },
 "nbformat": 4,
 "nbformat_minor": 0
}
