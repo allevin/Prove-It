{
 "cells": [
  {
   "cell_type": "markdown",
   "metadata": {},
   "source": [
    "Proof of <a class=\"ProveItLink\" href=\"../../../../_context_.ipynb\">proveit</a>.<a class=\"ProveItLink\" href=\"../../../_context_.ipynb\">number</a>.<a class=\"ProveItLink\" href=\"../../_context_.ipynb\">numeral</a>.<a class=\"ProveItLink\" href=\"../_context_.ipynb\">decimal</a>.<a class=\"ProveItLink\" href=\"../_theorems_.ipynb#add_7_6\">add_7_6</a> theorem\n",
    "========"
   ]
  },
  {
   "cell_type": "code",
   "execution_count": 1,
   "metadata": {},
   "outputs": [],
   "source": [
    "import proveit\n",
    "context = proveit.Context('..') # the theorem's context is in the parent directory"
   ]
  },
  {
   "cell_type": "code",
   "execution_count": 2,
   "metadata": {},
   "outputs": [
    {
     "name": "stdout",
     "output_type": "stream",
     "text": [
      "Beginning proof of add_7_6\n",
      "Recorded 'presuming' information\n",
      "Presuming previous theorems (applied transitively).\n"
     ]
    },
    {
     "data": {
      "text/html": [
       "<strong id=\"add_7_6\">add_7_6:</strong> <a class=\"ProveItLink\" href=\"../__pv_it/2076c78e36a0e6534b91a8ff672fa3c2e07557ec0/expr.ipynb\"><img src=\"data:image/png;base64,iVBORw0KGgoAAAANSUhEUgAAAGwAAAAVBAMAAABRZRb3AAAAMFBMVEX////c3NwiIiJERESqqqqY\n",
       "mJh2dnZmZmYQEBDu7u4yMjJUVFTMzMyIiIi6uroAAAAs73DqAAAAAXRSTlMAQObYZgAAAX9JREFU\n",
       "OMtjYCAT8F3AIcH6AJ+20ww86mlpaaiCnOlpBxhqMBUzT2BgOJZmAmStZGD9////b1RpoQPcCgxc\n",
       "GLo47ScwMBYwvL/AwHuBgQ1oxAaI+ESovBoD1wIG1gR0Xbv3T2Bg+8LAr8DAAWQwMLAdgEj4Qr31\n",
       "E6yqAcO6+xMYWMDaXoG5bxlQtHFBNJhg0wYEQEeWgc01QNXGv+ZuCZBKx6FtNQPDUhDN7oCqbb4q\n",
       "A1MAA4MXWG4VGGyAa+PJArL7wMoY0LR9YGADeu8FDttuPGD4B6JvoWtTYGD9wsBwHoc2jp8Qbdpg\n",
       "sapVqzRWrVoN8hsw9P/i0MZ4gIH5K0MLKES+o9nGDLEN7Eh2JTAwgGmb/xOkzRSULNG1sUD8FoXN\n",
       "NqBLmD6CA5kFXRuDGcOMABwRwBvA8D6B4RGQw/MVXRv79n1Ach26rvL+5QEM7uVLgKEigCzui5IE\n",
       "G3DnG9T0+haZw3YBT35biVNmFr5sKo1TZiM+bYy4nMJ7ALcmAAzMcZuVqd+SAAAAAElFTkSuQmCC\n",
       "\" style=\"display:inline;vertical-align:middle;\" /></a><br>(see <a class=\"ProveItLink\" href=\"../__pv_it/2076c78e36a0e6534b91a8ff672fa3c2e07557ec0/dependencies.ipynb\">dependencies</a>)<br>"
      ],
      "text/plain": [
       "add_7_6: (7 + 6) = 13"
      ]
     },
     "execution_count": 2,
     "metadata": {},
     "output_type": "execute_result"
    }
   ],
   "source": [
    "%proving add_7_6 presuming []"
   ]
  },
  {
   "cell_type": "code",
   "execution_count": null,
   "metadata": {},
   "outputs": [],
   "source": []
  }
 ],
 "metadata": {
  "kernelspec": {
   "display_name": "Python 3",
   "language": "python",
   "name": "python3"
  }
 },
 "nbformat": 4,
 "nbformat_minor": 0
}
