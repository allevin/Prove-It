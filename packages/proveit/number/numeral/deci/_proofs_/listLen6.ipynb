{
 "cells": [
  {
   "cell_type": "markdown",
   "metadata": {},
   "source": [
    "Proof of <a class=\"ProveItLink\" href=\"../../../../_context_.ipynb\">proveit</a>.<a class=\"ProveItLink\" href=\"../../../_context_.ipynb\">number</a>.<a class=\"ProveItLink\" href=\"../../_context_.ipynb\">numeral</a>.<a class=\"ProveItLink\" href=\"../_context_.ipynb\">decimal</a>.<a class=\"ProveItLink\" href=\"../_theorems_.ipynb#listLen6\">listLen6</a> theorem\n",
    "========"
   ]
  },
  {
   "cell_type": "code",
   "execution_count": 1,
   "metadata": {},
   "outputs": [],
   "source": [
    "import proveit\n",
    "context = proveit.Context('..') # the theorem's context is in the parent directory"
   ]
  },
  {
   "cell_type": "code",
   "execution_count": 2,
   "metadata": {},
   "outputs": [
    {
     "name": "stdout",
     "output_type": "stream",
     "text": [
      "Beginning proof of listLen6\n",
      "Recorded 'presuming' information\n",
      "Presuming previous theorems (applied transitively).\n"
     ]
    },
    {
     "data": {
      "text/html": [
       "<strong id=\"listLen6\">listLen6:</strong> <a class=\"ProveItLink\" href=\"../__pv_it/50cf8f1c39ba2ebc638cd860286a503e6c7bbb5d0/expr.ipynb\"><img src=\"data:image/png;base64,iVBORw0KGgoAAAANSUhEUgAAASMAAAAWBAMAAAB5zue0AAAAMFBMVEX///8QEBC6urrMzMxUVFRm\n",
       "ZmZERETc3NwyMjKqqqp2dnaIiIiYmJgiIiLu7u4AAAAU9Wx4AAAAAXRSTlMAQObYZgAAA/lJREFU\n",
       "SMelVm9IU1EUP29zm+7PM4KQ/liTooKoFgR9KNCKkJBQSFJckhAUUdE+aAkRrQgyKBlE5JdwFBIx\n",
       "qJEK4b48oiIsaiQV9AeeUBB+mRRaMbPOPffetzf3XrZ14d137jnn3vu759+9AKW0igj8f7tuJ9CL\n",
       "X2sdeIPs70iWhsVPs+GmlewhfmlGPCtmRWedgLTZzP1UbaG6elEBS22oh73WkCbaboErBHCHDXqL\n",
       "gVSuC0j5sy5Y6f4s4LjvzEC5JSTPGOwBiAKcZIOOYiClgEPyJefZHV07W8DKbIiBP24FKRCHHoBR\n",
       "OjO4YsVAWi4gKfo8u6NeuoDVz5y3wArSS1pvHGPt9qlTZ4pB5IgKSGvn2x3P21TAamfdEStI57hj\n",
       "0TzThw69KwaSKy4gtbFR50gNLwjlDUOaiNLEICc6RzYK83clWsTsR9W7sB+wgvRj6zCqe/EUOwEO\n",
       "GxboyVM6EDSnVFicXBOQLrMJVXBCxEgHfOMJuRCu8MVQxn1b8Ra65DJZ1vUZkFp7WGOpof7S4APq\n",
       "ohNWgRo19h3ID0XzICxkSlBAWojfWQ32iRjRYQkR40k4RgTKWrnsbFDkPWYS4a6xsJL6G+CeDg6M\n",
       "swD4NIN/KU+rzzx4Jf6VEtJX/BoB3nM27j5FRKOcgISIiO3PU7LcV0yyvtYK0i+M8Bg4UcGnBXKp\n",
       "8z1PK89ms1aQpkHl7oLX4JghYlpOQNlXTk3NzYJay1hCSEmCpEZZFe4aOcjcnx1i8D4nksQim02k\n",
       "qP48mRJlSIkJSIvRDVk8tirKkotAe7LSRTlZ1lQp6/Id1/6RtTeMPE5WYo6DwzsQ11sPW9CX9uMU\n",
       "dcwxabA8vSqt4pcB55bhjRGj/oSy6FW6J7+BEicCbeVnhEm2FFcGjk6hgz21slI/xRLtcw1tWdbk\n",
       "ZBZ1J/1sUKeGiMUAuxtS5FevLDGMIEgDlHU3muIsCmA3NFM4ACb5LSJysgegtkCGXJYJgl0RcMfV\n",
       "ZWIfBrwy6GO2UEKuDh4tBqsylDMOz+20gLSelZ7UyqNBdQUG76dhDYhwJVI6ETmZN4yX0DjF6UY6\n",
       "33nLa7e5GZctZ0v7USuju1/g3EoI4M4ZSg/JivD3i2LUqCp5oRiPJkfEljBRa4AMZnuh8DYuCUWv\n",
       "3aZ3RwKY99iH4G53RLDcMbXJc5EhlLqjAhK/PCnO7AkThYf111HJ8ibtISWMs4Sf7YdazRGOY+9p\n",
       "GNEZTSwVY8mJIbvpL4+Tf4ak9FJAfbF/wpnKtpw0pxc/XPdx7l0jn3CdkpO0J3KUj60zQG6st4dU\n",
       "lv+Edkbm9vK3BS7vzOmdBh9B8pT40PXxjLlvJRuc8yYu6OVPg7YSty+h/QEknzGgNgvgbwAAAABJ\n",
       "RU5ErkJggg==\n",
       "\" style=\"display:inline;vertical-align:middle;\" /></a><br>(see <a class=\"ProveItLink\" href=\"../__pv_it/50cf8f1c39ba2ebc638cd860286a503e6c7bbb5d0/dependencies.ipynb\">dependencies</a>)<br>"
      ],
      "text/plain": [
       "listLen6: forall_{a, b, c, d, e, f} (|(a , b , c , d , e , f)| = 6)"
      ]
     },
     "execution_count": 2,
     "metadata": {},
     "output_type": "execute_result"
    }
   ],
   "source": [
    "%proving listLen6 presuming []"
   ]
  },
  {
   "cell_type": "code",
   "execution_count": null,
   "metadata": {},
   "outputs": [],
   "source": []
  }
 ],
 "metadata": {
  "kernelspec": {
   "display_name": "Python 3",
   "language": "python",
   "name": "python3"
  }
 },
 "nbformat": 4,
 "nbformat_minor": 0
}
