{
 "cells": [
  {
   "cell_type": "markdown",
   "metadata": {},
   "source": [
    "Proof of <a class=\"ProveItLink\" href=\"../../../../_context_.ipynb\">proveit</a>.<a class=\"ProveItLink\" href=\"../../../_context_.ipynb\">number</a>.<a class=\"ProveItLink\" href=\"../../_context_.ipynb\">numeral</a>.<a class=\"ProveItLink\" href=\"../_context_.ipynb\">decimal</a>.<a class=\"ProveItLink\" href=\"../_theorems_.ipynb#nat5\">nat5</a> theorem\n",
    "========"
   ]
  },
  {
   "cell_type": "code",
   "execution_count": 1,
   "metadata": {},
   "outputs": [],
   "source": [
    "import proveit\n",
    "context = proveit.Context('..') # the theorem's context is in the parent directory"
   ]
  },
  {
   "cell_type": "code",
   "execution_count": 2,
   "metadata": {},
   "outputs": [
    {
     "name": "stdout",
     "output_type": "stream",
     "text": [
      "Beginning proof of nat5\n",
      "Recorded 'presuming' information\n",
      "Presuming previous theorems (applied transitively).\n"
     ]
    },
    {
     "data": {
      "text/html": [
       "<strong id=\"nat5\">nat5:</strong> <a class=\"ProveItLink\" href=\"../__pv_it/43f3f1be77f5430598e8ddbc8d62f3d508e95d7d0/expr.ipynb\"><img src=\"data:image/png;base64,iVBORw0KGgoAAAANSUhEUgAAADIAAAAPBAMAAABU9YHxAAAAMFBMVEX///8iIiJERES6urqIiIjM\n",
       "zMxUVFRmZmYQEBCqqqp2dnbc3Nzu7u6YmJgyMjIAAADYGhJvAAAAAXRSTlMAQObYZgAAANdJREFU\n",
       "GNNj4LvDvZIBGfC8V3rDwC4vycDx//8CFBkGpgtBDAz8DAx8ZUtRJRjYRFkcGDiANNwUP0HBB2AZ\n",
       "uwOpKDJxd2B6QhPOHQDJuLgZgPjcOnDTAqawKgBlmA7wfAbbuwEhw25whQPMzAARhxAuCGDIYYsA\n",
       "M9cHAAkLQUGYCwIYjvG8YGBQBMqALApD1sO6AKinkYGhHmTFQWQZhptMDAwFDAzvwPwLyDJcmxgY\n",
       "tjNwdoM9KgwPHZDhdQwMrOVpEPfuK4VIML9vApLnkMNr2kOI26AAANzsL23PUYZFAAAAAElFTkSu\n",
       "QmCC\n",
       "\" style=\"display:inline;vertical-align:middle;\" /></a><br>(see <a class=\"ProveItLink\" href=\"../__pv_it/43f3f1be77f5430598e8ddbc8d62f3d508e95d7d0/dependencies.ipynb\">dependencies</a>)<br>"
      ],
      "text/plain": [
       "nat5: 5 in Naturals"
      ]
     },
     "execution_count": 2,
     "metadata": {},
     "output_type": "execute_result"
    }
   ],
   "source": [
    "%proving nat5 presuming []"
   ]
  },
  {
   "cell_type": "code",
   "execution_count": null,
   "metadata": {},
   "outputs": [],
   "source": []
  }
 ],
 "metadata": {
  "kernelspec": {
   "display_name": "Python 3",
   "language": "python",
   "name": "python3"
  }
 },
 "nbformat": 4,
 "nbformat_minor": 0
}
