{
 "cells": [
  {
   "cell_type": "markdown",
   "metadata": {},
   "source": [
    "Proof of <a class=\"ProveItLink\" href=\"../../../../_context_.ipynb\">proveit</a>.<a class=\"ProveItLink\" href=\"../../../_context_.ipynb\">number</a>.<a class=\"ProveItLink\" href=\"../../_context_.ipynb\">numeral</a>.<a class=\"ProveItLink\" href=\"../_context_.ipynb\">decimal</a>.<a class=\"ProveItLink\" href=\"../_theorems_.ipynb#add_8_5\">add_8_5</a> theorem\n",
    "========"
   ]
  },
  {
   "cell_type": "code",
   "execution_count": 1,
   "metadata": {},
   "outputs": [],
   "source": [
    "import proveit\n",
    "context = proveit.Context('..') # the theorem's context is in the parent directory"
   ]
  },
  {
   "cell_type": "code",
   "execution_count": 2,
   "metadata": {},
   "outputs": [
    {
     "name": "stdout",
     "output_type": "stream",
     "text": [
      "Beginning proof of add_8_5\n",
      "Recorded 'presuming' information\n",
      "Presuming previous theorems (applied transitively).\n"
     ]
    },
    {
     "data": {
      "text/html": [
       "<strong id=\"add_8_5\">add_8_5:</strong> <a class=\"ProveItLink\" href=\"../__pv_it/782bbd557bf84f069ee71c5a803ef301d78559680/expr.ipynb\"><img src=\"data:image/png;base64,iVBORw0KGgoAAAANSUhEUgAAAGwAAAAVBAMAAABRZRb3AAAAMFBMVEX////c3NwiIiJERESqqqqY\n",
       "mJh2dnZmZmYQEBDu7u4yMjJUVFTMzMyIiIi6uroAAAAs73DqAAAAAXRSTlMAQObYZgAAAZJJREFU\n",
       "OMudkz9IAnEUx7+X551WplNLy9XU2GBDk26FINwWtORk0OQgCf0Bh+a8logWHQrxhNClJSqnghq6\n",
       "KVoiaYoiRMhACu3dadbv9HdDb7jfe7/3Prx37/ce8E8ZMzgOd9UJuwH24knb5ZE2HsZmf7BLAy7j\n",
       "QdIKQAKyyroz7Q9guI/yhjQICdQM+Ay4VXiVzv1u158/qVCVMTt1eqFBeodfgYeUUg+LdgNKVlS6\n",
       "L92jBtHCXgDxU5OMARiCgzASKnKNjlDjDix29nBO3xUOVqSe0SG3J23YHLLU/oipyrolpR42ukr6\n",
       "DhmL1+0wiwEj9GPPnGz3VbSoYwksN+2Y9AXccjBP08SomUKDrHVdn9b1ovmqCqQWBxMqcDWwDeyT\n",
       "vcVk8yiQ690i5SlLZn6wbNPEZikoAJQZTKYRyQFLg7L5cxiqm00WCxBjDEYDtBDgPIBPRS2GJzJe\n",
       "U0nbA1xtmOmP7VQqk1cxnzrsVPgrUWYE0/y9Yef17a8hGQ77VuB6DpzWdILrKTthAq8UX4UPfQMF\n",
       "L3Xv7qgtzAAAAABJRU5ErkJggg==\n",
       "\" style=\"display:inline;vertical-align:middle;\" /></a><br>(see <a class=\"ProveItLink\" href=\"../__pv_it/782bbd557bf84f069ee71c5a803ef301d78559680/dependencies.ipynb\">dependencies</a>)<br>"
      ],
      "text/plain": [
       "add_8_5: (8 + 5) = 13"
      ]
     },
     "execution_count": 2,
     "metadata": {},
     "output_type": "execute_result"
    }
   ],
   "source": [
    "%proving add_8_5 presuming []"
   ]
  },
  {
   "cell_type": "code",
   "execution_count": null,
   "metadata": {},
   "outputs": [],
   "source": []
  }
 ],
 "metadata": {
  "kernelspec": {
   "display_name": "Python 3",
   "language": "python",
   "name": "python3"
  }
 },
 "nbformat": 4,
 "nbformat_minor": 0
}
