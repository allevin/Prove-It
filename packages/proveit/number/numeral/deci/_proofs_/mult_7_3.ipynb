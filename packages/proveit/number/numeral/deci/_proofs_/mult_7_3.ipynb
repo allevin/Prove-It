{
 "cells": [
  {
   "cell_type": "markdown",
   "metadata": {},
   "source": [
    "Proof of <a class=\"ProveItLink\" href=\"../../../../_context_.ipynb\">proveit</a>.<a class=\"ProveItLink\" href=\"../../../_context_.ipynb\">number</a>.<a class=\"ProveItLink\" href=\"../../_context_.ipynb\">numeral</a>.<a class=\"ProveItLink\" href=\"../_context_.ipynb\">deci</a>.<a class=\"ProveItLink\" href=\"../_theorems_.ipynb#mult_7_3\">mult_7_3</a> theorem\n",
    "========"
   ]
  },
  {
   "cell_type": "code",
   "execution_count": 1,
   "metadata": {},
   "outputs": [],
   "source": [
    "import proveit\n",
    "context = proveit.Context('..') # the theorem's context is in the parent directory"
   ]
  },
  {
   "cell_type": "code",
   "execution_count": 2,
   "metadata": {},
   "outputs": [
    {
     "name": "stdout",
     "output_type": "stream",
     "text": [
      "Beginning proof of mult_7_3\n",
      "Recorded 'presuming' information\n",
      "Presuming previous theorems (applied transitively).\n"
     ]
    },
    {
     "data": {
      "text/html": [
       "<strong id=\"mult_7_3\">mult_7_3:</strong> <a class=\"ProveItLink\" href=\"../__pv_it/9670a635122fb13827a03fde204e8f82e9d5ce2c0/expr.ipynb\"><img src=\"data:image/png;base64,iVBORw0KGgoAAAANSUhEUgAAAGAAAAAVBAMAAABLWfZ5AAAAMFBMVEX////c3NwiIiJERESqqqqY\n",
       "mJh2dnZmZmYQEBDu7u4yMjJUVFTMzMyIiIi6uroAAAAs73DqAAAAAXRSTlMAQObYZgAAAX1JREFU\n",
       "OMtjYCAZ8F3AFIvDp+E0A496WloajMuTluzAwH4AXRVj+eIHQMoSiFcysP7///83TEacge8vA8MC\n",
       "dA3SDLxfGBgm/2Rg4L3AwDaBgWEDTCbfgeETA0MYuoadDAz6DLN3AzVwTGBgY2Bgg7vBH6xhBrqG\n",
       "jgkM+x8w8AI1vALz3yKHAtBJzA5oGtZPYKiHaCgDcTkNkOS4gM5jK8AMHf0JYA1LQWx2JAOPrQYS\n",
       "LGBfV60CgdXQ4PvGANbQB+LMBwtxTgBTvEAhvgYMC7gMIBr+gTi3wELzFSBS/RMYeD5gaChmQNKg\n",
       "DRaaAfKJDAODfQAWDbwboBpaQG75Dhfn/D8BpAHipCIlEFAGS7gzMAqANZiCAhKhgeEXMDgEGFjR\n",
       "o5qngIEVoiEdFCZIGq4y8H3DEqxCaWlFECc9Amn/ipBhKa8ChjHXA/RI+P//EwN7xa9SBg4BbEl4\n",
       "Bu7UzZqATTQXT35YiUWMcwEeDdJYxLgF8GhgxJJF7+BWDgC+QmIMFrNEdQAAAABJRU5ErkJggg==\n",
       "\" style=\"display:inline;vertical-align:middle;\" /></a><br>(see <a class=\"ProveItLink\" href=\"../__pv_it/9670a635122fb13827a03fde204e8f82e9d5ce2c0/dependencies.ipynb\">dependencies</a>)<br>"
      ],
      "text/plain": [
       "mult_7_3: (7 * 3) = 21"
      ]
     },
     "execution_count": 2,
     "metadata": {},
     "output_type": "execute_result"
    }
   ],
   "source": [
    "%proving mult_7_3 presuming []"
   ]
  },
  {
   "cell_type": "code",
   "execution_count": null,
   "metadata": {},
   "outputs": [],
   "source": []
  }
 ],
 "metadata": {
  "kernelspec": {
   "display_name": "Python 3",
   "language": "python",
   "name": "python3"
  }
 },
 "nbformat": 4,
 "nbformat_minor": 0
}
