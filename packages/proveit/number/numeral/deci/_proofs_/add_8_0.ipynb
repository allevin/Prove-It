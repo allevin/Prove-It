{
 "cells": [
  {
   "cell_type": "markdown",
   "metadata": {},
   "source": [
    "Proof of <a class=\"ProveItLink\" href=\"../../../../_context_.ipynb\">proveit</a>.<a class=\"ProveItLink\" href=\"../../../_context_.ipynb\">number</a>.<a class=\"ProveItLink\" href=\"../../_context_.ipynb\">numeral</a>.<a class=\"ProveItLink\" href=\"../_context_.ipynb\">decimal</a>.<a class=\"ProveItLink\" href=\"../_theorems_.ipynb#add_8_0\">add_8_0</a> theorem\n",
    "========"
   ]
  },
  {
   "cell_type": "code",
   "execution_count": 1,
   "metadata": {},
   "outputs": [],
   "source": [
    "import proveit\n",
    "context = proveit.Context('..') # the theorem's context is in the parent directory"
   ]
  },
  {
   "cell_type": "code",
   "execution_count": 2,
   "metadata": {},
   "outputs": [
    {
     "name": "stdout",
     "output_type": "stream",
     "text": [
      "Beginning proof of add_8_0\n",
      "Recorded 'presuming' information\n",
      "Presuming previous theorems (applied transitively).\n"
     ]
    },
    {
     "data": {
      "text/html": [
       "<strong id=\"add_8_0\">add_8_0:</strong> <a class=\"ProveItLink\" href=\"../__pv_it/dcf8673c175aefe55bc72154d98005ba55f96f2a0/expr.ipynb\"><img src=\"data:image/png;base64,iVBORw0KGgoAAAANSUhEUgAAAGEAAAAVBAMAAACkm51HAAAAMFBMVEX////c3NwiIiJERESqqqqY\n",
       "mJh2dnZmZmYQEBDu7u4yMjJUVFTMzMyIiIi6uroAAAAs73DqAAAAAXRSTlMAQObYZgAAAYJJREFU\n",
       "OMuVkztIw0AYx/99pPGsluwOPiZBBxdnMzkI0izaSQ0O7SCFDrUFsajgIohEB+nYxaFxsE7i1lkH\n",
       "g4OCOhRHRRSxigjGr0nR5Job/JbvdT/ue9wB/5eEJUjMi4hzYD+d98dY6boOuc4fZemMSqoK5CBr\n",
       "vlS4wUaBCk/IwDLQa0HSwAbc2K6rLoEbYJYnZoA9oMtArPZLTLtqBHhWUOaJJYd4AKJfRszyER/A\n",
       "hYqIyhHJU2SBAlkTzSt4idA7ERZiOY6I2HM6cNDqyB7sJHREndZl05Fay157VYAdMlJnthpAJNa5\n",
       "O6TVozfgm4wcFj4Dqup54YgUJNtoETSuUJMCK6Y5bJqH7c61TmIL6NewCWeKJX66SaVdlTzkyBit\n",
       "nHzZwjjdQe0c+wja4CJVyy99A4gryNA+qojqPiKssm10TnfKwCRwT9ZjMe+bLljhlp5hd4N/5idF\n",
       "1S3pT6a9Tjn4sUu613vyOlnB/6iKPg6rCBJ9IiKuCBIh0a+9Cw7/AODxZHL8R1E0AAAAAElFTkSu\n",
       "QmCC\n",
       "\" style=\"display:inline;vertical-align:middle;\" /></a><br>(see <a class=\"ProveItLink\" href=\"../__pv_it/dcf8673c175aefe55bc72154d98005ba55f96f2a0/dependencies.ipynb\">dependencies</a>)<br>"
      ],
      "text/plain": [
       "add_8_0: (8 + 0) = 8"
      ]
     },
     "execution_count": 2,
     "metadata": {},
     "output_type": "execute_result"
    }
   ],
   "source": [
    "%proving add_8_0 presuming []"
   ]
  },
  {
   "cell_type": "code",
   "execution_count": null,
   "metadata": {},
   "outputs": [],
   "source": []
  }
 ],
 "metadata": {
  "kernelspec": {
   "display_name": "Python 3",
   "language": "python",
   "name": "python3"
  }
 },
 "nbformat": 4,
 "nbformat_minor": 0
}
