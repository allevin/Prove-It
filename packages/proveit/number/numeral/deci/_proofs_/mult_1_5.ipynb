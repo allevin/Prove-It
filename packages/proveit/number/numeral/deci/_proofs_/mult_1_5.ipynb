{
 "cells": [
  {
   "cell_type": "markdown",
   "metadata": {},
   "source": [
    "Proof of <a class=\"ProveItLink\" href=\"../../../../_context_.ipynb\">proveit</a>.<a class=\"ProveItLink\" href=\"../../../_context_.ipynb\">number</a>.<a class=\"ProveItLink\" href=\"../../_context_.ipynb\">numeral</a>.<a class=\"ProveItLink\" href=\"../_context_.ipynb\">deci</a>.<a class=\"ProveItLink\" href=\"../_theorems_.ipynb#mult_1_5\">mult_1_5</a> theorem\n",
    "========"
   ]
  },
  {
   "cell_type": "code",
   "execution_count": 1,
   "metadata": {},
   "outputs": [],
   "source": [
    "import proveit\n",
    "context = proveit.Context('..') # the theorem's context is in the parent directory"
   ]
  },
  {
   "cell_type": "code",
   "execution_count": 2,
   "metadata": {},
   "outputs": [
    {
     "name": "stdout",
     "output_type": "stream",
     "text": [
      "Beginning proof of mult_1_5\n",
      "Recorded 'presuming' information\n",
      "Presuming previous theorems (applied transitively).\n"
     ]
    },
    {
     "data": {
      "text/html": [
       "<strong id=\"mult_1_5\">mult_1_5:</strong> <a class=\"ProveItLink\" href=\"../__pv_it/6657ae92d34212f9a113abb5b276c0e005d9e2500/expr.ipynb\"><img src=\"data:image/png;base64,iVBORw0KGgoAAAANSUhEUgAAAFcAAAAVBAMAAADBdm84AAAAMFBMVEX////c3NwiIiJERESqqqqY\n",
       "mJh2dnZmZmYQEBDu7u4yMjJUVFTMzMyIiIi6uroAAAAs73DqAAAAAXRSTlMAQObYZgAAARZJREFU\n",
       "KM9jYCAJ8F3AFIvDpfg0EDNPgHO5IhlTGNgPoKsCCzMwrGRg4LRHKOb4/z+BgWEBumKIMO8FBs7d\n",
       "+5FMrs4BkmEYJoOFOUDq7iMUc4PJGeiKIcKvGLApZnbAqrgMXfHd2w8YGNgK0BWDhZeiKWaewPmP\n",
       "gYEF7MOqVSCwGiHch1DMCdWyAxj4DZhhDBT+h1A8XwEimn+AgecDpmKgMJLiGQZAwggo+gBTMUS4\n",
       "Bc3NTQwM9QJQZxQpgYAyQtgUTTEwGFYxMLCiRyFEOB1NsTgDSyOWoIMIPwKyyvuXB8BEecp3CwBj\n",
       "9wGaYogwhwC2pDgDewplTcAmmosjPa/EIsa5AIdiaSxi3AI4FDNiyVZ3sCsFAOdbU75ENEOvAAAA\n",
       "AElFTkSuQmCC\n",
       "\" style=\"display:inline;vertical-align:middle;\" /></a><br>(see <a class=\"ProveItLink\" href=\"../__pv_it/6657ae92d34212f9a113abb5b276c0e005d9e2500/dependencies.ipynb\">dependencies</a>)<br>"
      ],
      "text/plain": [
       "mult_1_5: (1 * 5) = 5"
      ]
     },
     "execution_count": 2,
     "metadata": {},
     "output_type": "execute_result"
    }
   ],
   "source": [
    "%proving mult_1_5 presuming []"
   ]
  },
  {
   "cell_type": "code",
   "execution_count": null,
   "metadata": {},
   "outputs": [],
   "source": []
  }
 ],
 "metadata": {
  "kernelspec": {
   "display_name": "Python 3",
   "language": "python",
   "name": "python3"
  }
 },
 "nbformat": 4,
 "nbformat_minor": 0
}
