{
 "cells": [
  {
   "cell_type": "markdown",
   "metadata": {},
   "source": [
    "Proof of <a class=\"ProveItLink\" href=\"../../../../_context_.ipynb\">proveit</a>.<a class=\"ProveItLink\" href=\"../../../_context_.ipynb\">number</a>.<a class=\"ProveItLink\" href=\"../../_context_.ipynb\">numeral</a>.<a class=\"ProveItLink\" href=\"../_context_.ipynb\">deci</a>.<a class=\"ProveItLink\" href=\"../_theorems_.ipynb#mult_8_9\">mult_8_9</a> theorem\n",
    "========"
   ]
  },
  {
   "cell_type": "code",
   "execution_count": 1,
   "metadata": {},
   "outputs": [],
   "source": [
    "import proveit\n",
    "context = proveit.Context('..') # the theorem's context is in the parent directory"
   ]
  },
  {
   "cell_type": "code",
   "execution_count": 2,
   "metadata": {},
   "outputs": [
    {
     "name": "stdout",
     "output_type": "stream",
     "text": [
      "Beginning proof of mult_8_9\n",
      "Recorded 'presuming' information\n",
      "Presuming previous theorems (applied transitively).\n"
     ]
    },
    {
     "data": {
      "text/html": [
       "<strong id=\"mult_8_9\">mult_8_9:</strong> <a class=\"ProveItLink\" href=\"../__pv_it/1f02f4aaf1a5bda232684254c98b3507ce8d2e840/expr.ipynb\"><img src=\"data:image/png;base64,iVBORw0KGgoAAAANSUhEUgAAAGEAAAAVBAMAAACkm51HAAAAMFBMVEX////c3NwiIiJERESqqqqY\n",
       "mJh2dnZmZmYQEBDu7u4yMjJUVFTMzMyIiIi6uroAAAAs73DqAAAAAXRSTlMAQObYZgAAAa5JREFU\n",
       "OMuVk79LW1EUxz/P5kefJvJwKmSx7R+QDC10M5tjM+lkzfSk2GKIxRRBbMHBSR4IErokIA7RwYiD\n",
       "ODV01KHBoZOQR0cdDNUIbaGv57702fDe44FnOPee873fe8793nvh/jbaDuZeRTJOYct8dxfqR/Mt\n",
       "ki3/qi9LplnUKtu2zBtQIlnwoEd57SPU/YxZx3GaGdI3kG4TL6CPe9ALOIQpP+M1jHAMWXhokWgO\n",
       "MH7BgkXVzyjCG9YtPttcQOy3lfCOr19Dx+ZBPkyhfYtVmyUJJnrfGKxRIFEKMDZdn7XYkSHpPL4D\n",
       "3ssGbWLu0Zd3le31AVfO1C1syDh94qgudEvcp0Jstc3oB38Jvav8cA7+QLzE7E8Ja+7xZ847eVJd\n",
       "PyPtVl3EZYhcWk+m1VwfFK2CjKGmoim3hivlygC4y7+uyk+UPXWTNaXFJJrBc6lhwIG3vGNoqtHA\n",
       "pV8JI1UibjAn99EgVvSQM2tY7iao7kvJjJlmGb5LdFn5/xITlWdKE9vP+CovL+s4P/otBa0a8djj\n",
       "xbDs26j/0QjJ6fUoRiYkN2JEMbSQX3sesf4v13Bshpaxc3cAAAAASUVORK5CYII=\n",
       "\" style=\"display:inline;vertical-align:middle;\" /></a><br>(see <a class=\"ProveItLink\" href=\"../__pv_it/1f02f4aaf1a5bda232684254c98b3507ce8d2e840/dependencies.ipynb\">dependencies</a>)<br>"
      ],
      "text/plain": [
       "mult_8_9: (8 * 9) = 72"
      ]
     },
     "execution_count": 2,
     "metadata": {},
     "output_type": "execute_result"
    }
   ],
   "source": [
    "%proving mult_8_9 presuming []"
   ]
  },
  {
   "cell_type": "code",
   "execution_count": null,
   "metadata": {},
   "outputs": [],
   "source": []
  }
 ],
 "metadata": {
  "kernelspec": {
   "display_name": "Python 3",
   "language": "python",
   "name": "python3"
  }
 },
 "nbformat": 4,
 "nbformat_minor": 0
}
