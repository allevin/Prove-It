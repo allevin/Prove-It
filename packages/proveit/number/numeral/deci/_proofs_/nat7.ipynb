{
 "cells": [
  {
   "cell_type": "markdown",
   "metadata": {},
   "source": [
    "Proof of <a class=\"ProveItLink\" href=\"../../../../_context_.ipynb\">proveit</a>.<a class=\"ProveItLink\" href=\"../../../_context_.ipynb\">number</a>.<a class=\"ProveItLink\" href=\"../../_context_.ipynb\">numeral</a>.<a class=\"ProveItLink\" href=\"../_context_.ipynb\">decimal</a>.<a class=\"ProveItLink\" href=\"../_theorems_.ipynb#nat7\">nat7</a> theorem\n",
    "========"
   ]
  },
  {
   "cell_type": "code",
   "execution_count": 1,
   "metadata": {},
   "outputs": [],
   "source": [
    "import proveit\n",
    "context = proveit.Context('..') # the theorem's context is in the parent directory"
   ]
  },
  {
   "cell_type": "code",
   "execution_count": 2,
   "metadata": {},
   "outputs": [
    {
     "name": "stdout",
     "output_type": "stream",
     "text": [
      "Beginning proof of nat7\n",
      "Recorded 'presuming' information\n",
      "Presuming previous theorems (applied transitively).\n"
     ]
    },
    {
     "data": {
      "text/html": [
       "<strong id=\"nat7\">nat7:</strong> <a class=\"ProveItLink\" href=\"../__pv_it/c30fe0deee8c2c7d7bac0f869bc6742332ada2b00/expr.ipynb\"><img src=\"data:image/png;base64,iVBORw0KGgoAAAANSUhEUgAAADIAAAAPBAMAAABU9YHxAAAAMFBMVEX///8QEBDc3NwyMjKqqqpE\n",
       "RESIiIi6urru7u5UVFSYmJh2dnZmZmYiIiLMzMwAAACwhPg6AAAAAXRSTlMAQObYZgAAANNJREFU\n",
       "GNNjeHt69+4NDEiAwz7UgoHn/hWG9f///5+ALMPAuuApAwM/A8MOBgZOFAkGzntsCQyMDAxAk/ZB\n",
       "TEm+e9cALFPcMA8kw8DAngCWebwCpufdhOYGsEwrmM8UATftgRtfAFjmCMReBYQMT8EykAzHBwaE\n",
       "TogMwwzOh0AGG9hahsK7d2EueMDQyWEIZPBCfPMSWQ/fBpCe/gNgfi+yDMMSViCjHiLDuQBZhlsV\n",
       "yPCHyHBch4dOAZA4DMTvoYqVz0FodntRINmMHF6ethC3QQEAUIA6BdsmWm8AAAAASUVORK5CYII=\n",
       "\" style=\"display:inline;vertical-align:middle;\" /></a><br>(see <a class=\"ProveItLink\" href=\"../__pv_it/c30fe0deee8c2c7d7bac0f869bc6742332ada2b00/dependencies.ipynb\">dependencies</a>)<br>"
      ],
      "text/plain": [
       "nat7: 7 in Naturals"
      ]
     },
     "execution_count": 2,
     "metadata": {},
     "output_type": "execute_result"
    }
   ],
   "source": [
    "%proving nat7 presuming []"
   ]
  },
  {
   "cell_type": "code",
   "execution_count": null,
   "metadata": {},
   "outputs": [],
   "source": []
  }
 ],
 "metadata": {
  "kernelspec": {
   "display_name": "Python 3",
   "language": "python",
   "name": "python3"
  }
 },
 "nbformat": 4,
 "nbformat_minor": 0
}
