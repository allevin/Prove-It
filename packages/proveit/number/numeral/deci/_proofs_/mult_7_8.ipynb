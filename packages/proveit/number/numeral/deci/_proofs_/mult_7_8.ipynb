{
 "cells": [
  {
   "cell_type": "markdown",
   "metadata": {},
   "source": [
    "Proof of <a class=\"ProveItLink\" href=\"../../../../_context_.ipynb\">proveit</a>.<a class=\"ProveItLink\" href=\"../../../_context_.ipynb\">number</a>.<a class=\"ProveItLink\" href=\"../../_context_.ipynb\">numeral</a>.<a class=\"ProveItLink\" href=\"../_context_.ipynb\">deci</a>.<a class=\"ProveItLink\" href=\"../_theorems_.ipynb#mult_7_8\">mult_7_8</a> theorem\n",
    "========"
   ]
  },
  {
   "cell_type": "code",
   "execution_count": 1,
   "metadata": {},
   "outputs": [],
   "source": [
    "import proveit\n",
    "context = proveit.Context('..') # the theorem's context is in the parent directory"
   ]
  },
  {
   "cell_type": "code",
   "execution_count": 2,
   "metadata": {},
   "outputs": [
    {
     "name": "stdout",
     "output_type": "stream",
     "text": [
      "Beginning proof of mult_7_8\n",
      "Recorded 'presuming' information\n",
      "Presuming previous theorems (applied transitively).\n"
     ]
    },
    {
     "data": {
      "text/html": [
       "<strong id=\"mult_7_8\">mult_7_8:</strong> <a class=\"ProveItLink\" href=\"../__pv_it/3a46d83541cba9f3890a4d4b83b9bd3fc14815c70/expr.ipynb\"><img src=\"data:image/png;base64,iVBORw0KGgoAAAANSUhEUgAAAGEAAAAVBAMAAACkm51HAAAAMFBMVEX////c3NwiIiJERESqqqqY\n",
       "mJh2dnZmZmYQEBDu7u4yMjJUVFTMzMyIiIi6uroAAAAs73DqAAAAAXRSTlMAQObYZgAAAaFJREFU\n",
       "OMuVkz9Iw0AUxr/apm3aKNkcHBRFHHSQgnsnB5d2UXFQM0g6aKkItmAFrejgIsFBsrWLYOuguKi4\n",
       "uIoI2QT/QHEUBCmKUKHx3dXGkoSANxz3vne/d++9uwP+P7oMpzbnSdxCGlJVtWWKaiqO0LV9V2TG\n",
       "twAcZJdoXYZgmuZ3yxUCVoGSnQibpgLfCM6ATgNBDThtuSaBfWDKcUaeoncoqBCsIQgErTQWOaHb\n",
       "iSib5jU2v3LhzXIlLpEG/HE34ogvs7zcUcvlN2cVOnPZTjw/VlG/u6dIh7zctpAbNRkI8NLXKmwc\n",
       "80Ca2BBrSQwCe8wuNhvL0hTWTz7okjad13AhmkBGQ4MZD1wq9tE0Tc3WIL07icxNjYqPN4lhLums\n",
       "ml2gN+kkYkRU60QY2GbpfFkekdIJGb9ZrfSzMcCWW1SgHONnjLGn9UegQH2RIdgvnXpXQYLXkSIz\n",
       "0EZMaBh36W43AgX4FXEHeCFT+mx7yuc5anWkaiOk3BU1PZ8nPSy7PWjd47ELipua9vofZRdNLHkR\n",
       "PS5aVPYifC6/9slj/w+I+WRGX6Qe9wAAAABJRU5ErkJggg==\n",
       "\" style=\"display:inline;vertical-align:middle;\" /></a><br>(see <a class=\"ProveItLink\" href=\"../__pv_it/3a46d83541cba9f3890a4d4b83b9bd3fc14815c70/dependencies.ipynb\">dependencies</a>)<br>"
      ],
      "text/plain": [
       "mult_7_8: (7 * 8) = 56"
      ]
     },
     "execution_count": 2,
     "metadata": {},
     "output_type": "execute_result"
    }
   ],
   "source": [
    "%proving mult_7_8 presuming []"
   ]
  },
  {
   "cell_type": "code",
   "execution_count": null,
   "metadata": {},
   "outputs": [],
   "source": []
  }
 ],
 "metadata": {
  "kernelspec": {
   "display_name": "Python 3",
   "language": "python",
   "name": "python3"
  }
 },
 "nbformat": 4,
 "nbformat_minor": 0
}
