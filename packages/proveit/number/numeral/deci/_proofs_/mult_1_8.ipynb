{
 "cells": [
  {
   "cell_type": "markdown",
   "metadata": {},
   "source": [
    "Proof of <a class=\"ProveItLink\" href=\"../../../../_context_.ipynb\">proveit</a>.<a class=\"ProveItLink\" href=\"../../../_context_.ipynb\">number</a>.<a class=\"ProveItLink\" href=\"../../_context_.ipynb\">numeral</a>.<a class=\"ProveItLink\" href=\"../_context_.ipynb\">deci</a>.<a class=\"ProveItLink\" href=\"../_theorems_.ipynb#mult_1_8\">mult_1_8</a> theorem\n",
    "========"
   ]
  },
  {
   "cell_type": "code",
   "execution_count": 1,
   "metadata": {},
   "outputs": [],
   "source": [
    "import proveit\n",
    "context = proveit.Context('..') # the theorem's context is in the parent directory"
   ]
  },
  {
   "cell_type": "code",
   "execution_count": 2,
   "metadata": {},
   "outputs": [
    {
     "name": "stdout",
     "output_type": "stream",
     "text": [
      "Beginning proof of mult_1_8\n",
      "Recorded 'presuming' information\n",
      "Presuming previous theorems (applied transitively).\n"
     ]
    },
    {
     "data": {
      "text/html": [
       "<strong id=\"mult_1_8\">mult_1_8:</strong> <a class=\"ProveItLink\" href=\"../__pv_it/2ee06290939712d04170036ba93d24cc4ac857d10/expr.ipynb\"><img src=\"data:image/png;base64,iVBORw0KGgoAAAANSUhEUgAAAFcAAAAVBAMAAADBdm84AAAAMFBMVEX////c3NwiIiJERESqqqqY\n",
       "mJh2dnZmZmYQEBDu7u4yMjJUVFTMzMyIiIi6uroAAAAs73DqAAAAAXRSTlMAQObYZgAAASZJREFU\n",
       "KM9jYCAJ8F3AFIvDpfg0EDNPgHM509IdGNgPoKsCCzMwrASy7BGK2RkYShkYFqArhgjzXmDg3L0f\n",
       "oTiUgWESA0MYumKIMAdI3X2E4myw6Ax0xRDhVwyoiv13MuQCPeGAphgiXIammPl/bAIDA1sBmmKI\n",
       "8FI0xQz1nwQYGFjAPqxaBQKrEcJ9CMWcIJK1Zv0XYOA3oJkMEf6HUDxfAUiEM7D+n8DA8wFNMUQY\n",
       "SfEMAyDRycAgH4CpGCLcgupmTqD97BegzihSAgFlhLApmgcbGRi4BRhY0aMQIpyOpthrAoMblqCD\n",
       "CD8Cssr7lwfAE+H2cmCEcD1AT5tgYQ4BbElxBvYUypqATTQXR3peiUWMcwEOxdJYxLgFcChmxJKt\n",
       "7mBXCgBVEld0hRJNOwAAAABJRU5ErkJggg==\n",
       "\" style=\"display:inline;vertical-align:middle;\" /></a><br>(see <a class=\"ProveItLink\" href=\"../__pv_it/2ee06290939712d04170036ba93d24cc4ac857d10/dependencies.ipynb\">dependencies</a>)<br>"
      ],
      "text/plain": [
       "mult_1_8: (1 * 8) = 8"
      ]
     },
     "execution_count": 2,
     "metadata": {},
     "output_type": "execute_result"
    }
   ],
   "source": [
    "%proving mult_1_8 presuming []"
   ]
  },
  {
   "cell_type": "code",
   "execution_count": null,
   "metadata": {},
   "outputs": [],
   "source": []
  }
 ],
 "metadata": {
  "kernelspec": {
   "display_name": "Python 3",
   "language": "python",
   "name": "python3"
  }
 },
 "nbformat": 4,
 "nbformat_minor": 0
}
