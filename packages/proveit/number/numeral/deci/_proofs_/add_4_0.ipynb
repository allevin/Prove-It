{
 "cells": [
  {
   "cell_type": "markdown",
   "metadata": {},
   "source": [
    "Proof of <a class=\"ProveItLink\" href=\"../../../../_context_.ipynb\">proveit</a>.<a class=\"ProveItLink\" href=\"../../../_context_.ipynb\">number</a>.<a class=\"ProveItLink\" href=\"../../_context_.ipynb\">numeral</a>.<a class=\"ProveItLink\" href=\"../_context_.ipynb\">decimal</a>.<a class=\"ProveItLink\" href=\"../_theorems_.ipynb#add_4_0\">add_4_0</a> theorem\n",
    "========"
   ]
  },
  {
   "cell_type": "code",
   "execution_count": 1,
   "metadata": {},
   "outputs": [],
   "source": [
    "import proveit\n",
    "context = proveit.Context('..') # the theorem's context is in the parent directory"
   ]
  },
  {
   "cell_type": "code",
   "execution_count": 2,
   "metadata": {},
   "outputs": [
    {
     "name": "stdout",
     "output_type": "stream",
     "text": [
      "Beginning proof of add_4_0\n",
      "Recorded 'presuming' information\n",
      "Presuming previous theorems (applied transitively).\n"
     ]
    },
    {
     "data": {
      "text/html": [
       "<strong id=\"add_4_0\">add_4_0:</strong> <a class=\"ProveItLink\" href=\"../__pv_it/b019bc0b589cdd26e9cd12db1c529f5ae00db7a60/expr.ipynb\"><img src=\"data:image/png;base64,iVBORw0KGgoAAAANSUhEUgAAAGEAAAAVBAMAAACkm51HAAAAMFBMVEX////c3NwiIiJERESqqqqY\n",
       "mJh2dnZmZmYQEBDu7u4yMjJUVFTMzMyIiIi6uroAAAAs73DqAAAAAXRSTlMAQObYZgAAAVVJREFU\n",
       "OMtjYCAd8F3AIRGHS8dpOIEAnLXXDzCwH8BUzLMBSKwEsZRRJZgecOowMCzA1MFkwMDAC3IUbzNU\n",
       "ZCKEusTAcIuBIQxTxw2gDo4JQIboYqiIL4TSZmB4L8AwA0MDYxRQxysQKwFNx3cGhvMODMwO6DrY\n",
       "uIA6yoAMVgFUHYzfgDouMLAVoOsIBOlYCmTMZcCiI4GBBex19lVgAAokzgsgHX0gR2HXwdeA7igG\n",
       "kI5/DAwsBxiwuornA5oOH5iOaQwQHVWrVmmsWrUa6vMADB2cCWAdLQwM3rt3/9iLHrr+AlBXsSuB\n",
       "AVApy+7d+7svMJiClTSjhi4wBpOAQYgZ6RxAjenYdDA5cPYwYAldsI5HIEb2/1IUHZxlt4HJkOsB\n",
       "Rgzu/x7AwCGALOSLzJmBPbGzJiDz3iJzcnHkj5W4Mg7nAhwS0rh0cAvgkGDElWvvYBcGAH3cWgU8\n",
       "ZVgrAAAAAElFTkSuQmCC\n",
       "\" style=\"display:inline;vertical-align:middle;\" /></a><br>(see <a class=\"ProveItLink\" href=\"../__pv_it/b019bc0b589cdd26e9cd12db1c529f5ae00db7a60/dependencies.ipynb\">dependencies</a>)<br>"
      ],
      "text/plain": [
       "add_4_0: (4 + 0) = 4"
      ]
     },
     "execution_count": 2,
     "metadata": {},
     "output_type": "execute_result"
    }
   ],
   "source": [
    "%proving add_4_0 presuming []"
   ]
  },
  {
   "cell_type": "code",
   "execution_count": null,
   "metadata": {},
   "outputs": [],
   "source": []
  }
 ],
 "metadata": {
  "kernelspec": {
   "display_name": "Python 3",
   "language": "python",
   "name": "python3"
  }
 },
 "nbformat": 4,
 "nbformat_minor": 0
}
