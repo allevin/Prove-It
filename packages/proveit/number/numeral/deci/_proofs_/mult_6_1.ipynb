{
 "cells": [
  {
   "cell_type": "markdown",
   "metadata": {},
   "source": [
    "Proof of <a class=\"ProveItLink\" href=\"../../../../_context_.ipynb\">proveit</a>.<a class=\"ProveItLink\" href=\"../../../_context_.ipynb\">number</a>.<a class=\"ProveItLink\" href=\"../../_context_.ipynb\">numeral</a>.<a class=\"ProveItLink\" href=\"../_context_.ipynb\">deci</a>.<a class=\"ProveItLink\" href=\"../_theorems_.ipynb#mult_6_1\">mult_6_1</a> theorem\n",
    "========"
   ]
  },
  {
   "cell_type": "code",
   "execution_count": 1,
   "metadata": {},
   "outputs": [],
   "source": [
    "import proveit\n",
    "context = proveit.Context('..') # the theorem's context is in the parent directory"
   ]
  },
  {
   "cell_type": "code",
   "execution_count": 2,
   "metadata": {},
   "outputs": [
    {
     "name": "stdout",
     "output_type": "stream",
     "text": [
      "Beginning proof of mult_6_1\n",
      "Recorded 'presuming' information\n",
      "Presuming previous theorems (applied transitively).\n"
     ]
    },
    {
     "data": {
      "text/html": [
       "<strong id=\"mult_6_1\">mult_6_1:</strong> <a class=\"ProveItLink\" href=\"../__pv_it/fb454c77547346b7ad0b093d5e9de2f46ef58bdb0/expr.ipynb\"><img src=\"data:image/png;base64,iVBORw0KGgoAAAANSUhEUgAAAFcAAAAVBAMAAADBdm84AAAAMFBMVEX////c3NwiIiJERESqqqqY\n",
       "mJh2dnZmZmYQEBDu7u4yMjJUVFTMzMyIiIi6uroAAAAs73DqAAAAAXRSTlMAQObYZgAAAU9JREFU\n",
       "KM9jYCAJ8F3AFIvDpfg0AwNnetoBhIAlAwP7AQxl08pygORKBgahA9wKcNHJP4HEAnS1jDoMmxgY\n",
       "eIGuUGPggsvO3g1SHIaumCmBYRUDA8cEBtafyMK8IN4MdMXxE0DkKwYGrgYMxcwOaIpXgMkyBgb+\n",
       "NXdL0BSzFaAp/nX2OlD/UgaG+aoMTAGoilnAfqhaBQKrgSzOTwEMqgwMfUDFHxjYQCo4J8AV8zWg\n",
       "Gsz5n4EhfwLDP6BiBQbWLwxgGqaY5wOa4k9APzqAFPMvYGD9CwoCA5yKGX4BFV9gaAF6HWoykpsh\n",
       "zihSAgFlENMIbLIp0DdQNyMpZkWPQn+wm9OBLDOGGQEEgo45gbOVgeERkMW+fR9clL3iVykwnh6g\n",
       "R2F1NVCIQwBbUpyBPYWyJmATzcWRnldiEeNcgEOxNBYxbgEcihmxZKs72JUCANrJV/I/lfwmAAAA\n",
       "AElFTkSuQmCC\n",
       "\" style=\"display:inline;vertical-align:middle;\" /></a><br>(see <a class=\"ProveItLink\" href=\"../__pv_it/fb454c77547346b7ad0b093d5e9de2f46ef58bdb0/dependencies.ipynb\">dependencies</a>)<br>"
      ],
      "text/plain": [
       "mult_6_1: (6 * 1) = 6"
      ]
     },
     "execution_count": 2,
     "metadata": {},
     "output_type": "execute_result"
    }
   ],
   "source": [
    "%proving mult_6_1 presuming []"
   ]
  },
  {
   "cell_type": "code",
   "execution_count": null,
   "metadata": {},
   "outputs": [],
   "source": []
  }
 ],
 "metadata": {
  "kernelspec": {
   "display_name": "Python 3",
   "language": "python",
   "name": "python3"
  }
 },
 "nbformat": 4,
 "nbformat_minor": 0
}
