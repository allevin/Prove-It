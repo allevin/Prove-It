{
 "cells": [
  {
   "cell_type": "markdown",
   "metadata": {},
   "source": [
    "Proof of <a class=\"ProveItLink\" href=\"../../../../_context_.ipynb\">proveit</a>.<a class=\"ProveItLink\" href=\"../../../_context_.ipynb\">number</a>.<a class=\"ProveItLink\" href=\"../../_context_.ipynb\">numeral</a>.<a class=\"ProveItLink\" href=\"../_context_.ipynb\">decimal</a>.<a class=\"ProveItLink\" href=\"../_theorems_.ipynb#add_1_8\">add_1_8</a> theorem\n",
    "========"
   ]
  },
  {
   "cell_type": "code",
   "execution_count": 1,
   "metadata": {},
   "outputs": [],
   "source": [
    "import proveit\n",
    "context = proveit.Context('..') # the theorem's context is in the parent directory"
   ]
  },
  {
   "cell_type": "code",
   "execution_count": 2,
   "metadata": {},
   "outputs": [
    {
     "name": "stdout",
     "output_type": "stream",
     "text": [
      "Beginning proof of add_1_8\n",
      "Recorded 'presuming' information\n",
      "Presuming previous theorems (applied transitively).\n"
     ]
    },
    {
     "data": {
      "text/html": [
       "<strong id=\"add_1_8\">add_1_8:</strong> <a class=\"ProveItLink\" href=\"../__pv_it/32833d6136620bbe3626ac5c76899b3aac333d670/expr.ipynb\"><img src=\"data:image/png;base64,iVBORw0KGgoAAAANSUhEUgAAAGEAAAAVBAMAAACkm51HAAAAMFBMVEX////c3NwiIiJERESqqqqY\n",
       "mJh2dnZmZmYQEBDu7u4yMjJUVFTMzMyIiIi6uroAAAAs73DqAAAAAXRSTlMAQObYZgAAAV5JREFU\n",
       "OMtjYCAd8F3AIRGHS8dpIGaegCrGmZbuwMB+AF0p5/ZskNhKIMseTQc7A0MpA8MCdB0SDoyNDAy8\n",
       "Fxg4d++H6ZgIoUIZGCYxMISh67BgYNjMwMABUnwfpsMXQmWDdcxA1/GLgSF/AsMrBiw6/Hcy5AJ9\n",
       "54Dmjc9AlQ8YyrDpYP4fm8DAwFaAxY4AhqXYdDDUfxJgYGABe519FRhsADIrGBjsLzD0YdPBWrP+\n",
       "CzCmGtDsmBXAUn+B4R82HeEMrP8nMPB8QPd67J37Dsg6qlat0li1ajWQ1cnAIB+ARQc4rFqw2MEJ\n",
       "dA77Bair2JXAwACiYBUDgyk2VwFjlluAgRU90u8LMAKdlI5Nh9cEBjcsoXtpAhcw2T4Cssr7lweg\n",
       "6ODbXg6MPa4HaDrYyk2AJIcAspgvMmcG9sTOmoDMe4vMycWRP1biyjicC3BISOPSwS2AQ4IRV669\n",
       "g10YAK9IYwkEn0amAAAAAElFTkSuQmCC\n",
       "\" style=\"display:inline;vertical-align:middle;\" /></a><br>(see <a class=\"ProveItLink\" href=\"../__pv_it/32833d6136620bbe3626ac5c76899b3aac333d670/dependencies.ipynb\">dependencies</a>)<br>"
      ],
      "text/plain": [
       "add_1_8: (1 + 8) = 9"
      ]
     },
     "execution_count": 2,
     "metadata": {},
     "output_type": "execute_result"
    }
   ],
   "source": [
    "%proving add_1_8 presuming []"
   ]
  },
  {
   "cell_type": "code",
   "execution_count": null,
   "metadata": {},
   "outputs": [],
   "source": []
  }
 ],
 "metadata": {
  "kernelspec": {
   "display_name": "Python 3",
   "language": "python",
   "name": "python3"
  }
 },
 "nbformat": 4,
 "nbformat_minor": 0
}
