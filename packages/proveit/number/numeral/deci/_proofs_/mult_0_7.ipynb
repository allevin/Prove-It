{
 "cells": [
  {
   "cell_type": "markdown",
   "metadata": {},
   "source": [
    "Proof of <a class=\"ProveItLink\" href=\"../../../../_context_.ipynb\">proveit</a>.<a class=\"ProveItLink\" href=\"../../../_context_.ipynb\">number</a>.<a class=\"ProveItLink\" href=\"../../_context_.ipynb\">numeral</a>.<a class=\"ProveItLink\" href=\"../_context_.ipynb\">deci</a>.<a class=\"ProveItLink\" href=\"../_theorems_.ipynb#mult_0_7\">mult_0_7</a> theorem\n",
    "========"
   ]
  },
  {
   "cell_type": "code",
   "execution_count": 1,
   "metadata": {},
   "outputs": [],
   "source": [
    "import proveit\n",
    "context = proveit.Context('..') # the theorem's context is in the parent directory"
   ]
  },
  {
   "cell_type": "code",
   "execution_count": 2,
   "metadata": {},
   "outputs": [
    {
     "name": "stdout",
     "output_type": "stream",
     "text": [
      "Beginning proof of mult_0_7\n",
      "Recorded 'presuming' information\n",
      "Presuming previous theorems (applied transitively).\n"
     ]
    },
    {
     "data": {
      "text/html": [
       "<strong id=\"mult_0_7\">mult_0_7:</strong> <a class=\"ProveItLink\" href=\"../__pv_it/d33a98708f925a52d1aa44784b23040aaa6aa16f0/expr.ipynb\"><img src=\"data:image/png;base64,iVBORw0KGgoAAAANSUhEUgAAAFcAAAAVBAMAAADBdm84AAAAMFBMVEX////c3NwiIiJERESqqqqY\n",
       "mJh2dnZmZmYQEBDu7u4yMjJUVFTMzMyIiIi6uroAAAAs73DqAAAAAXRSTlMAQObYZgAAAVlJREFU\n",
       "KM+Vkz1LA0EQhp/EJObMh9dbeKidIjb2+QexstTDIiIYOERSiIKFpUjQItcljUW0yQ9IIbYWBhvB\n",
       "DwiWNomgsTLn7sXckcte4cDC7jsPy8y7s/CvyLbGtY0w+A4qr4fe8bZUKJiTN0FKO3qUWh2WOfey\n",
       "m47jNKgF4WhbW4JMi4xBxsvuQArWg/ADPEGyTLRB9mOomrALdhBehI7OO0xbpD9HO57IBeBvuM9R\n",
       "glmT9I+vX4iVsEbZSE/ALS4HcM9P7IsVc3s4uJJxPYRNznxYK7smdWUpx4qbTfp+GVVD6q4x6a6y\n",
       "jP6gwS+h2Cuuow0F7Da4xombjnnWUbW8MvbmZMz/WZfXWUU+SsLw4I6E47XxR9mCbbFbwPaHIW8p\n",
       "rCOa007hTewqxaYvi9Jgqh0cpNKzuC+pq0bRVk9o3FSpxZB5ris0rRYCzyi0lB4CRxTf6kWN/gI0\n",
       "H1zXj5TTtgAAAABJRU5ErkJggg==\n",
       "\" style=\"display:inline;vertical-align:middle;\" /></a><br>(see <a class=\"ProveItLink\" href=\"../__pv_it/d33a98708f925a52d1aa44784b23040aaa6aa16f0/dependencies.ipynb\">dependencies</a>)<br>"
      ],
      "text/plain": [
       "mult_0_7: (0 * 7) = 0"
      ]
     },
     "execution_count": 2,
     "metadata": {},
     "output_type": "execute_result"
    }
   ],
   "source": [
    "%proving mult_0_7 presuming []"
   ]
  },
  {
   "cell_type": "code",
   "execution_count": null,
   "metadata": {},
   "outputs": [],
   "source": []
  }
 ],
 "metadata": {
  "kernelspec": {
   "display_name": "Python 3",
   "language": "python",
   "name": "python3"
  }
 },
 "nbformat": 4,
 "nbformat_minor": 0
}
