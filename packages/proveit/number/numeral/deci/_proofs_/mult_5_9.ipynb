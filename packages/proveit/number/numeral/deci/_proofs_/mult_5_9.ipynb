{
 "cells": [
  {
   "cell_type": "markdown",
   "metadata": {},
   "source": [
    "Proof of <a class=\"ProveItLink\" href=\"../../../../_context_.ipynb\">proveit</a>.<a class=\"ProveItLink\" href=\"../../../_context_.ipynb\">number</a>.<a class=\"ProveItLink\" href=\"../../_context_.ipynb\">numeral</a>.<a class=\"ProveItLink\" href=\"../_context_.ipynb\">deci</a>.<a class=\"ProveItLink\" href=\"../_theorems_.ipynb#mult_5_9\">mult_5_9</a> theorem\n",
    "========"
   ]
  },
  {
   "cell_type": "code",
   "execution_count": 1,
   "metadata": {},
   "outputs": [],
   "source": [
    "import proveit\n",
    "context = proveit.Context('..') # the theorem's context is in the parent directory"
   ]
  },
  {
   "cell_type": "code",
   "execution_count": 2,
   "metadata": {},
   "outputs": [
    {
     "name": "stdout",
     "output_type": "stream",
     "text": [
      "Beginning proof of mult_5_9\n",
      "Recorded 'presuming' information\n",
      "Presuming previous theorems (applied transitively).\n"
     ]
    },
    {
     "data": {
      "text/html": [
       "<strong id=\"mult_5_9\">mult_5_9:</strong> <a class=\"ProveItLink\" href=\"../__pv_it/f10eeaf5841ec842033452b1dbfea738ff94851e0/expr.ipynb\"><img src=\"data:image/png;base64,iVBORw0KGgoAAAANSUhEUgAAAGEAAAAVBAMAAACkm51HAAAAMFBMVEX////c3NwiIiJERESqqqqY\n",
       "mJh2dnZmZmYQEBDu7u4yMjJUVFTMzMyIiIi6uroAAAAs73DqAAAAAXRSTlMAQObYZgAAAZ5JREFU\n",
       "OMuVk7tLw1AUxr/YZ9JaMqngUvQfCKKgkxkdHOoiKCgdBAeVFgcrdmgVN0EzFpd2EWldKoIKRdvN\n",
       "wSU4CbY0ODopgoJI67lp00cSAh5IOPd893cf55wL/N9CqjW26kg8AmfKkGwM+ZuNCnwV67xgEcIS\n",
       "t0ZeHjhpfnWEEZnbB3JWYkCCv9mMAoN0qPPr7prTwBWwaCWeJQjJTXL8ClDsEX6AmIKMBeCWJQR0\n",
       "7w19BP8J1DW4ZDPhFQxih7672n3fHhF442ZigRG1F43yRKMZZDVD2QVmVbj1q+8VmF3oe6tEuBS+\n",
       "ARzr8wJpFqUr4TTiTqkIpc2HAhFkt0CjFfilXzbM3JVqXUbw3UTMt4lYhRGuMLwMzEgtlXJlJvgo\n",
       "IyZI03BICQ7D99EjF9A+1fYYs3Hy3KVS+Ug9AFIipgAfIHSKXBc52s9jLbpfQlxfbZ2KE8ecaAhP\n",
       "ikBdYM0uI4bhpg56pcFD8rKblMQk/QXNUsHydySYKNHKftGuoTMOze6J2kW3nN5H3ibG55yIUZtY\n",
       "QHQiOJtXW3WY/weTPGVwAFiZ3gAAAABJRU5ErkJggg==\n",
       "\" style=\"display:inline;vertical-align:middle;\" /></a><br>(see <a class=\"ProveItLink\" href=\"../__pv_it/f10eeaf5841ec842033452b1dbfea738ff94851e0/dependencies.ipynb\">dependencies</a>)<br>"
      ],
      "text/plain": [
       "mult_5_9: (5 * 9) = 45"
      ]
     },
     "execution_count": 2,
     "metadata": {},
     "output_type": "execute_result"
    }
   ],
   "source": [
    "%proving mult_5_9 presuming []"
   ]
  },
  {
   "cell_type": "code",
   "execution_count": null,
   "metadata": {},
   "outputs": [],
   "source": []
  }
 ],
 "metadata": {
  "kernelspec": {
   "display_name": "Python 3",
   "language": "python",
   "name": "python3"
  }
 },
 "nbformat": 4,
 "nbformat_minor": 0
}
