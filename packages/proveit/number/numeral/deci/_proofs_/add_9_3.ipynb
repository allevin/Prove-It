{
 "cells": [
  {
   "cell_type": "markdown",
   "metadata": {},
   "source": [
    "Proof of <a class=\"ProveItLink\" href=\"../../../../_context_.ipynb\">proveit</a>.<a class=\"ProveItLink\" href=\"../../../_context_.ipynb\">number</a>.<a class=\"ProveItLink\" href=\"../../_context_.ipynb\">numeral</a>.<a class=\"ProveItLink\" href=\"../_context_.ipynb\">decimal</a>.<a class=\"ProveItLink\" href=\"../_theorems_.ipynb#add_9_3\">add_9_3</a> theorem\n",
    "========"
   ]
  },
  {
   "cell_type": "code",
   "execution_count": 1,
   "metadata": {},
   "outputs": [],
   "source": [
    "import proveit\n",
    "context = proveit.Context('..') # the theorem's context is in the parent directory"
   ]
  },
  {
   "cell_type": "code",
   "execution_count": 2,
   "metadata": {},
   "outputs": [
    {
     "name": "stdout",
     "output_type": "stream",
     "text": [
      "Beginning proof of add_9_3\n",
      "Recorded 'presuming' information\n",
      "Presuming previous theorems (applied transitively).\n"
     ]
    },
    {
     "data": {
      "text/html": [
       "<strong id=\"add_9_3\">add_9_3:</strong> <a class=\"ProveItLink\" href=\"../__pv_it/da4a0bf4f1f24f4eb30e702cac1cab63223c25440/expr.ipynb\"><img src=\"data:image/png;base64,iVBORw0KGgoAAAANSUhEUgAAAGwAAAAVBAMAAABRZRb3AAAAMFBMVEX////c3NwiIiJERESqqqqY\n",
       "mJh2dnZmZmYQEBDu7u4yMjJUVFTMzMyIiIi6uroAAAAs73DqAAAAAXRSTlMAQObYZgAAAY9JREFU\n",
       "OMudkz9IAlEcx7/nqXdqlzUVNCQNUdsNtpabEAi2NjkpNAmBgjTc4NJS11qDQkl4UdhckFMNEd4Y\n",
       "RChNEYQJOtyg9u4Ownfeu6EfvL+/9+H37/2Af8qszlAEOl7YM3BWuHdcPmbjwMH0Y14FFkqbZFcH\n",
       "V8biHKXl8ujqCE9RoS0VXAPtBCQdvIKIbN+f2Euwj2gMgYyTuntQEVHh+4GoIlpF0LAVKXvxW1hI\n",
       "mTLXViEeIjLCF1CRIY0ojAhxEnE3LGxAGKEAy9rAiV2RkXPDiPgM1ABBAT+ksZm9Bpm3za2gWdKY\n",
       "wFoZHJFIa0gOndZeSdU+GdbOATOowPtL34mJJEktd0yQbQx2JkuatqZpZlBcE/yAib2RUbaO4Spl\n",
       "rWJYmOWksGKJ/If585jHBiD1sNyhMJJbXw/YdbX2BOyYSZbWcQ0Kk9LoZhgF4FazuRg+zPrsJ2gM\n",
       "yeIFmW+cVPH4Mu0bj8cxiNQnTlFfUGH3Df1fvycPQd2j3+pMzalXmy4xNbdeGMdyRWqyoV96GHUO\n",
       "npOOBgAAAABJRU5ErkJggg==\n",
       "\" style=\"display:inline;vertical-align:middle;\" /></a><br>(see <a class=\"ProveItLink\" href=\"../__pv_it/da4a0bf4f1f24f4eb30e702cac1cab63223c25440/dependencies.ipynb\">dependencies</a>)<br>"
      ],
      "text/plain": [
       "add_9_3: (9 + 3) = 12"
      ]
     },
     "execution_count": 2,
     "metadata": {},
     "output_type": "execute_result"
    }
   ],
   "source": [
    "%proving add_9_3 presuming []"
   ]
  },
  {
   "cell_type": "code",
   "execution_count": null,
   "metadata": {},
   "outputs": [],
   "source": []
  }
 ],
 "metadata": {
  "kernelspec": {
   "display_name": "Python 3",
   "language": "python",
   "name": "python3"
  }
 },
 "nbformat": 4,
 "nbformat_minor": 0
}
