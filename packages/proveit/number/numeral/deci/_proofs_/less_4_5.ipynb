{
 "cells": [
  {
   "cell_type": "markdown",
   "metadata": {},
   "source": [
    "Proof of <a class=\"ProveItLink\" href=\"../../../../_context_.ipynb\">proveit</a>.<a class=\"ProveItLink\" href=\"../../../_context_.ipynb\">number</a>.<a class=\"ProveItLink\" href=\"../../_context_.ipynb\">numeral</a>.<a class=\"ProveItLink\" href=\"../_context_.ipynb\">decimal</a>.<a class=\"ProveItLink\" href=\"../_theorems_.ipynb#less_4_5\">less_4_5</a> theorem\n",
    "========"
   ]
  },
  {
   "cell_type": "code",
   "execution_count": 1,
   "metadata": {},
   "outputs": [],
   "source": [
    "import proveit\n",
    "context = proveit.Context('..') # the theorem's context is in the parent directory"
   ]
  },
  {
   "cell_type": "code",
   "execution_count": 2,
   "metadata": {},
   "outputs": [
    {
     "name": "stdout",
     "output_type": "stream",
     "text": [
      "Beginning proof of less_4_5\n",
      "Recorded 'presuming' information\n",
      "Presuming previous theorems (applied transitively).\n"
     ]
    },
    {
     "data": {
      "text/html": [
       "<strong id=\"less_4_5\">less_4_5:</strong> <a class=\"ProveItLink\" href=\"../__pv_it/f49b8974055086df6f77c1f9a7a99b7f9a16b3620/expr.ipynb\"><img src=\"data:image/png;base64,iVBORw0KGgoAAAANSUhEUgAAADEAAAAPBAMAAAC/wjryAAAAMFBMVEX///+6urpmZmaqqqru7u52\n",
       "dnYyMjKYmJjc3NwQEBCIiIhEREQiIiJUVFTMzMwAAACQ7J58AAAAAXRSTlMAQObYZgAAALVJREFU\n",
       "GNNjYGBgeMuABthKOILBjNPoMpz//weAaK7ZCDEOPbAe3Tgwrz0bLsF3TQBE8UK5AXAZxtwHDEgy\n",
       "7A0wGeakBgiDd9VakF4vBqgM11EHqBJuB5aPIMOgMqynkJ13E2jEA6iM90ZkmfgHDK4MMNPeJsOE\n",
       "9wBlBBhs7979eQsi0HQcKjOHgUEf7Bi4T11PQdygwMCQxoAiw8AOcV4TA/MMEB37Xx0uxZwHDgql\n",
       "uw0MuAEA5xQo00Zqsw8AAAAASUVORK5CYII=\n",
       "\" style=\"display:inline;vertical-align:middle;\" /></a><br>(see <a class=\"ProveItLink\" href=\"../__pv_it/f49b8974055086df6f77c1f9a7a99b7f9a16b3620/dependencies.ipynb\">dependencies</a>)<br>"
      ],
      "text/plain": [
       "less_4_5: 4 < 5"
      ]
     },
     "execution_count": 2,
     "metadata": {},
     "output_type": "execute_result"
    }
   ],
   "source": [
    "%proving less_4_5 presuming []"
   ]
  },
  {
   "cell_type": "code",
   "execution_count": null,
   "metadata": {},
   "outputs": [],
   "source": []
  }
 ],
 "metadata": {
  "kernelspec": {
   "display_name": "Python 3",
   "language": "python",
   "name": "python3"
  }
 },
 "nbformat": 4,
 "nbformat_minor": 0
}
