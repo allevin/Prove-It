{
 "cells": [
  {
   "cell_type": "markdown",
   "metadata": {},
   "source": [
    "Proof of <a class=\"ProveItLink\" href=\"../../../../_context_.ipynb\">proveit</a>.<a class=\"ProveItLink\" href=\"../../../_context_.ipynb\">number</a>.<a class=\"ProveItLink\" href=\"../../_context_.ipynb\">numeral</a>.<a class=\"ProveItLink\" href=\"../_context_.ipynb\">decimal</a>.<a class=\"ProveItLink\" href=\"../_theorems_.ipynb#add_0_2\">add_0_2</a> theorem\n",
    "========"
   ]
  },
  {
   "cell_type": "code",
   "execution_count": 1,
   "metadata": {},
   "outputs": [],
   "source": [
    "import proveit\n",
    "context = proveit.Context('..') # the theorem's context is in the parent directory"
   ]
  },
  {
   "cell_type": "code",
   "execution_count": 2,
   "metadata": {},
   "outputs": [
    {
     "name": "stdout",
     "output_type": "stream",
     "text": [
      "Beginning proof of add_0_2\n",
      "Recorded 'presuming' information\n",
      "Presuming previous theorems (applied transitively).\n"
     ]
    },
    {
     "data": {
      "text/html": [
       "<strong id=\"add_0_2\">add_0_2:</strong> <a class=\"ProveItLink\" href=\"../__pv_it/3844bc7a60bb99bf12eac95ff776b0b723497fe70/expr.ipynb\"><img src=\"data:image/png;base64,iVBORw0KGgoAAAANSUhEUgAAAGEAAAAVBAMAAACkm51HAAAAMFBMVEX////c3NwiIiJERESqqqqY\n",
       "mJh2dnZmZmYQEBDu7u4yMjJUVFTMzMyIiIi6uroAAAAs73DqAAAAAXRSTlMAQObYZgAAAVJJREFU\n",
       "OMuVk7FLw0AUh3/Rpqma1ODawSIOTqaLu5tTV0fpVKdCqKAggg4OThJdmrEgDo2DWQXB7i79AxSC\n",
       "oyCotG623t0rJXfJDb7l7r6XL7l7Lwf8P8oDTWJPZzwDndcTmRlHNwmsvvqowEAP2MS1nK3AGQJd\n",
       "1SDsDOBU4UyzVzQ8AB6wqxqESwHmYpS/iNVpuAjwlCBUDcLvwLIPeygZ9wFOE8xvKwbhQ2C1AftX\n",
       "Mlh4AYp+tk4M35LxoxgcFMThrEhEPMOX+cZijXXqLPMJjsf5uzrgL/zMGByP6eQjNj2Ooo0ouuMZ\n",
       "J841BD4Hr25Bri52YLjTXVlrImozvAXewWJVMmwfpgtTbTrhfTZbR9iXjJVms41sdQm/sVmn9QjJ\n",
       "8CaTb1aYRG2GwCU3zerpRZj/s5uN9OojvWhp7kdPd3EWuppERWcsuZqEobu1L/n4D29nXqGE4275\n",
       "AAAAAElFTkSuQmCC\n",
       "\" style=\"display:inline;vertical-align:middle;\" /></a><br>(see <a class=\"ProveItLink\" href=\"../__pv_it/3844bc7a60bb99bf12eac95ff776b0b723497fe70/dependencies.ipynb\">dependencies</a>)<br>"
      ],
      "text/plain": [
       "add_0_2: (0 + 2) = 2"
      ]
     },
     "execution_count": 2,
     "metadata": {},
     "output_type": "execute_result"
    }
   ],
   "source": [
    "%proving add_0_2 presuming []"
   ]
  },
  {
   "cell_type": "code",
   "execution_count": null,
   "metadata": {},
   "outputs": [],
   "source": []
  }
 ],
 "metadata": {
  "kernelspec": {
   "display_name": "Python 3",
   "language": "python",
   "name": "python3"
  }
 },
 "nbformat": 4,
 "nbformat_minor": 0
}
