{
 "cells": [
  {
   "cell_type": "markdown",
   "metadata": {},
   "source": [
    "Proof of <a class=\"ProveItLink\" href=\"../../../../_context_.ipynb\">proveit</a>.<a class=\"ProveItLink\" href=\"../../../_context_.ipynb\">number</a>.<a class=\"ProveItLink\" href=\"../../_context_.ipynb\">numeral</a>.<a class=\"ProveItLink\" href=\"../_context_.ipynb\">decimal</a>.<a class=\"ProveItLink\" href=\"../_theorems_.ipynb#add_3_9\">add_3_9</a> theorem\n",
    "========"
   ]
  },
  {
   "cell_type": "code",
   "execution_count": 1,
   "metadata": {},
   "outputs": [],
   "source": [
    "import proveit\n",
    "context = proveit.Context('..') # the theorem's context is in the parent directory"
   ]
  },
  {
   "cell_type": "code",
   "execution_count": 2,
   "metadata": {},
   "outputs": [
    {
     "name": "stdout",
     "output_type": "stream",
     "text": [
      "Beginning proof of add_3_9\n",
      "Recorded 'presuming' information\n",
      "Presuming previous theorems (applied transitively).\n"
     ]
    },
    {
     "data": {
      "text/html": [
       "<strong id=\"add_3_9\">add_3_9:</strong> <a class=\"ProveItLink\" href=\"../__pv_it/74d9266af97de6fd0501df506d47a3648da18d9e0/expr.ipynb\"><img src=\"data:image/png;base64,iVBORw0KGgoAAAANSUhEUgAAAGwAAAAVBAMAAABRZRb3AAAAMFBMVEX////c3NwiIiJERESqqqqY\n",
       "mJh2dnZmZmYQEBDu7u4yMjJUVFTMzMyIiIi6uroAAAAs73DqAAAAAXRSTlMAQObYZgAAAZFJREFU\n",
       "OMudkz1Iw0AUx//pV9LW2DopOFgcRLcMddVuBaFQV6dOLTgVhBaKQ4YuLhpXHSxokUaUOivYSQcR\n",
       "OwoiLU4iSC3UIYOp5zVqrsl18EFy9+7d797H3QP+KeNNjsHfHoXdAtfZ+NDifuES2HRu9mrAZGmJ\n",
       "zGoQ8uiwLoUypqIIOajgsgahjlYCchOBHiKxwfqudaiKsAJ/Zpi6uNIQ1uB5h6TB94elBkOkgoCB\n",
       "oOpw19IgbSFs4pWqP0Fa2IEC2QTibljIgGiiQNUTOLx9ADk3jIjHQJUMY+t1FhNVeD+BFTrXqdRt\n",
       "2H0G21R9aDNYsIokwV443g4Bk6qSwWDwP931yKnumKhQTGjASzJBSdfndd1Kk1SShz2Sr0zqZgww\n",
       "mzcgVLGCFGepKL+YL48JLNK6eboMJncxQ7Jdc/V2A6x+F1lOo5NhsQWcgnMBwlw2F8MzUZLFI/YC\n",
       "kNtIkP/ZMFXcOU57+v1+DFLUvp5inqDK7xv2vb7ZlUBzRL/VuJa9UW06zbWcj8IEXihygw99AYua\n",
       "dQ6/uWNAAAAAAElFTkSuQmCC\n",
       "\" style=\"display:inline;vertical-align:middle;\" /></a><br>(see <a class=\"ProveItLink\" href=\"../__pv_it/74d9266af97de6fd0501df506d47a3648da18d9e0/dependencies.ipynb\">dependencies</a>)<br>"
      ],
      "text/plain": [
       "add_3_9: (3 + 9) = 12"
      ]
     },
     "execution_count": 2,
     "metadata": {},
     "output_type": "execute_result"
    }
   ],
   "source": [
    "%proving add_3_9 presuming []"
   ]
  },
  {
   "cell_type": "code",
   "execution_count": null,
   "metadata": {},
   "outputs": [],
   "source": []
  }
 ],
 "metadata": {
  "kernelspec": {
   "display_name": "Python 3",
   "language": "python",
   "name": "python3"
  }
 },
 "nbformat": 4,
 "nbformat_minor": 0
}
