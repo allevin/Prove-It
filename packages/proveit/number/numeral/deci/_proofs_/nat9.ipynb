{
 "cells": [
  {
   "cell_type": "markdown",
   "metadata": {},
   "source": [
    "Proof of <a class=\"ProveItLink\" href=\"../../../../_context_.ipynb\">proveit</a>.<a class=\"ProveItLink\" href=\"../../../_context_.ipynb\">number</a>.<a class=\"ProveItLink\" href=\"../../_context_.ipynb\">numeral</a>.<a class=\"ProveItLink\" href=\"../_context_.ipynb\">decimal</a>.<a class=\"ProveItLink\" href=\"../_theorems_.ipynb#nat9\">nat9</a> theorem\n",
    "========"
   ]
  },
  {
   "cell_type": "code",
   "execution_count": 1,
   "metadata": {},
   "outputs": [],
   "source": [
    "import proveit\n",
    "context = proveit.Context('..') # the theorem's context is in the parent directory"
   ]
  },
  {
   "cell_type": "code",
   "execution_count": 2,
   "metadata": {},
   "outputs": [
    {
     "name": "stdout",
     "output_type": "stream",
     "text": [
      "Beginning proof of nat9\n",
      "Recorded 'presuming' information\n",
      "Presuming previous theorems (applied transitively).\n"
     ]
    },
    {
     "data": {
      "text/html": [
       "<strong id=\"nat9\">nat9:</strong> <a class=\"ProveItLink\" href=\"../__pv_it/53abe3a03288e5fd1e4c2fa9246be3d80be9154c0/expr.ipynb\"><img src=\"data:image/png;base64,iVBORw0KGgoAAAANSUhEUgAAADMAAAAPBAMAAAC7N+rPAAAAMFBMVEX///8iIiKYmJi6urqIiIgy\n",
       "MjJERESqqqoQEBDc3NzMzMx2dnZmZmZUVFTu7u4AAABn2L4sAAAAAXRSTlMAQObYZgAAAOxJREFU\n",
       "GNNjYHh7+hYDCnj6LfUBw8GPBQyc7QwzJqDKJXElMDB8YGBga2DgTUCVurjAhYGhgYGBP4CB+x9Y\n",
       "5EmgoCiYcTmOdwFI6n0CA8tnkABX0AOorltr+eJguj6BBKbBZBhusTssA0nxNDCwfQEJZMLtusVw\n",
       "mMkBKMUXxFADkuJLQJLifXALKMXA5LLkO5BibhQUhDrjFgPfhacNYCbYhVwXkHQxrOaCSLEGgAwU\n",
       "QJZiKgCaz/KTYb4BSOASshTDTpCUHEMIWOChAUwqGYh5QCbtOVYAFuCMWQCRMf0B1MEXgBx07Feh\n",
       "LoQCAEPeQOONVzmZAAAAAElFTkSuQmCC\n",
       "\" style=\"display:inline;vertical-align:middle;\" /></a><br>(see <a class=\"ProveItLink\" href=\"../__pv_it/53abe3a03288e5fd1e4c2fa9246be3d80be9154c0/dependencies.ipynb\">dependencies</a>)<br>"
      ],
      "text/plain": [
       "nat9: 9 in Naturals"
      ]
     },
     "execution_count": 2,
     "metadata": {},
     "output_type": "execute_result"
    }
   ],
   "source": [
    "%proving nat9 presuming []"
   ]
  },
  {
   "cell_type": "code",
   "execution_count": null,
   "metadata": {},
   "outputs": [],
   "source": []
  }
 ],
 "metadata": {
  "kernelspec": {
   "display_name": "Python 3",
   "language": "python",
   "name": "python3"
  }
 },
 "nbformat": 4,
 "nbformat_minor": 0
}
