{
 "cells": [
  {
   "cell_type": "markdown",
   "metadata": {},
   "source": [
    "Proof of <a class=\"ProveItLink\" href=\"../../../../_context_.ipynb\">proveit</a>.<a class=\"ProveItLink\" href=\"../../../_context_.ipynb\">number</a>.<a class=\"ProveItLink\" href=\"../../_context_.ipynb\">numeral</a>.<a class=\"ProveItLink\" href=\"../_context_.ipynb\">decimal</a>.<a class=\"ProveItLink\" href=\"../_theorems_.ipynb#nat3\">nat3</a> theorem\n",
    "========"
   ]
  },
  {
   "cell_type": "code",
   "execution_count": 1,
   "metadata": {},
   "outputs": [],
   "source": [
    "import proveit\n",
    "context = proveit.Context('..') # the theorem's context is in the parent directory"
   ]
  },
  {
   "cell_type": "code",
   "execution_count": 2,
   "metadata": {},
   "outputs": [
    {
     "name": "stdout",
     "output_type": "stream",
     "text": [
      "Beginning proof of nat3\n",
      "Recorded 'presuming' information\n",
      "Presuming previous theorems (applied transitively).\n"
     ]
    },
    {
     "data": {
      "text/html": [
       "<strong id=\"nat3\">nat3:</strong> <a class=\"ProveItLink\" href=\"../__pv_it/f0e602e1bef1c73ebe83a9d751d7872acb80fd450/expr.ipynb\"><img src=\"data:image/png;base64,iVBORw0KGgoAAAANSUhEUgAAADMAAAAPBAMAAAC7N+rPAAAAMFBMVEX///+YmJju7u4QEBBUVFQy\n",
       "MjIiIiKIiIi6urpmZmbc3NyqqqpERER2dnbMzMwAAAB0GlNiAAAAAXRSTlMAQObYZgAAAOJJREFU\n",
       "GNNjYHh79zQDClD9c1SBYdq3DQxcExj6C1DlDvIdYGD4wMDA+5uBPwFVyu1BOQODAQMDN1xKPSwt\n",
       "FczwCGJ5AJICAoiBfIEKUF1+T5iCoFIhYHINTIbBj7vgDViK76oDWOAU3C4/hhmMBRBdxQ1AgukA\n",
       "khSLgh9EivkTkOAwS0uDOsOPgclBFSjF9YCB5yPIXAckXQxv+YBS+p8gUkwJyFKMG4Dm8wcwsP0C\n",
       "CTgiSzHcAkqxCzD0XwAJqDXApE4AMWcAkNg5MxoswBX5ACLT+hmogykAOei4XaEuhAIAcaI359oR\n",
       "WgoAAAAASUVORK5CYII=\n",
       "\" style=\"display:inline;vertical-align:middle;\" /></a><br>(see <a class=\"ProveItLink\" href=\"../__pv_it/f0e602e1bef1c73ebe83a9d751d7872acb80fd450/dependencies.ipynb\">dependencies</a>)<br>"
      ],
      "text/plain": [
       "nat3: 3 in Naturals"
      ]
     },
     "execution_count": 2,
     "metadata": {},
     "output_type": "execute_result"
    }
   ],
   "source": [
    "%proving nat3 presuming []"
   ]
  },
  {
   "cell_type": "code",
   "execution_count": null,
   "metadata": {},
   "outputs": [],
   "source": []
  }
 ],
 "metadata": {
  "kernelspec": {
   "display_name": "Python 3",
   "language": "python",
   "name": "python3"
  }
 },
 "nbformat": 4,
 "nbformat_minor": 0
}
