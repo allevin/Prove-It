{
 "cells": [
  {
   "cell_type": "markdown",
   "metadata": {},
   "source": [
    "Proof of <a class=\"ProveItLink\" href=\"../../../../_context_.ipynb\">proveit</a>.<a class=\"ProveItLink\" href=\"../../../_context_.ipynb\">number</a>.<a class=\"ProveItLink\" href=\"../../_context_.ipynb\">numeral</a>.<a class=\"ProveItLink\" href=\"../_context_.ipynb\">decimal</a>.<a class=\"ProveItLink\" href=\"../_theorems_.ipynb#less_8_9\">less_8_9</a> theorem\n",
    "========"
   ]
  },
  {
   "cell_type": "code",
   "execution_count": 1,
   "metadata": {},
   "outputs": [],
   "source": [
    "import proveit\n",
    "context = proveit.Context('..') # the theorem's context is in the parent directory"
   ]
  },
  {
   "cell_type": "code",
   "execution_count": 2,
   "metadata": {},
   "outputs": [
    {
     "name": "stdout",
     "output_type": "stream",
     "text": [
      "Beginning proof of less_8_9\n",
      "Recorded 'presuming' information\n",
      "Presuming previous theorems (applied transitively).\n"
     ]
    },
    {
     "data": {
      "text/html": [
       "<strong id=\"less_8_9\">less_8_9:</strong> <a class=\"ProveItLink\" href=\"../__pv_it/4bca5b4cd2dc7ec5ded2bdca362ce4f63a12c1170/expr.ipynb\"><img src=\"data:image/png;base64,iVBORw0KGgoAAAANSUhEUgAAADEAAAAOBAMAAAB0nulXAAAAMFBMVEX///+6uroQEBAyMjLMzMzc\n",
       "3NxERESIiIhUVFQiIiKYmJiqqqpmZmZ2dnbu7u4AAAACo3QQAAAAAXRSTlMAQObYZgAAANpJREFU\n",
       "GNNjYHh79zQDGuDrueEApA4w8CxAkwnawKrKwMC1gIFvAlyM9QiITGJgaGNg4G1AkmFpFgBRnxkY\n",
       "7j9g4P7xgLcAKsFo4QC25hsDQz1QSf6vWqgEt00AhAHSA7Sb5/9UCJ997gOokkNA9UBz1jj/3wDi\n",
       "8k6Hu+PxAu7zBQxcBxjW/wNxnyUinL28pH4DA9MDBtZfYK6HNZKXgG57BKSOQ3gxsxAyxgwMTED3\n",
       "tEK5b6dD3FAfwPoR6FQ7Bu4LMJVcEOdVPmAGeVHiDFKIcpuAnXkmm4EBAOdhPCIObD0hAAAAAElF\n",
       "TkSuQmCC\n",
       "\" style=\"display:inline;vertical-align:middle;\" /></a><br>(see <a class=\"ProveItLink\" href=\"../__pv_it/4bca5b4cd2dc7ec5ded2bdca362ce4f63a12c1170/dependencies.ipynb\">dependencies</a>)<br>"
      ],
      "text/plain": [
       "less_8_9: 8 < 9"
      ]
     },
     "execution_count": 2,
     "metadata": {},
     "output_type": "execute_result"
    }
   ],
   "source": [
    "%proving less_8_9 presuming []"
   ]
  },
  {
   "cell_type": "code",
   "execution_count": null,
   "metadata": {},
   "outputs": [],
   "source": []
  }
 ],
 "metadata": {
  "kernelspec": {
   "display_name": "Python 3",
   "language": "python",
   "name": "python3"
  }
 },
 "nbformat": 4,
 "nbformat_minor": 0
}
