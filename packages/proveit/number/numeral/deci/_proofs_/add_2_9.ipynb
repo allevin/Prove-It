{
 "cells": [
  {
   "cell_type": "markdown",
   "metadata": {},
   "source": [
    "Proof of <a class=\"ProveItLink\" href=\"../../../../_context_.ipynb\">proveit</a>.<a class=\"ProveItLink\" href=\"../../../_context_.ipynb\">number</a>.<a class=\"ProveItLink\" href=\"../../_context_.ipynb\">numeral</a>.<a class=\"ProveItLink\" href=\"../_context_.ipynb\">decimal</a>.<a class=\"ProveItLink\" href=\"../_theorems_.ipynb#add_2_9\">add_2_9</a> theorem\n",
    "========"
   ]
  },
  {
   "cell_type": "code",
   "execution_count": 1,
   "metadata": {},
   "outputs": [],
   "source": [
    "import proveit\n",
    "context = proveit.Context('..') # the theorem's context is in the parent directory"
   ]
  },
  {
   "cell_type": "code",
   "execution_count": 2,
   "metadata": {},
   "outputs": [
    {
     "name": "stdout",
     "output_type": "stream",
     "text": [
      "Beginning proof of add_2_9\n",
      "Recorded 'presuming' information\n",
      "Presuming previous theorems (applied transitively).\n"
     ]
    },
    {
     "data": {
      "text/html": [
       "<strong id=\"add_2_9\">add_2_9:</strong> <a class=\"ProveItLink\" href=\"../__pv_it/4db1b0fd23caa2c5b3d42caf4b3641fece6644e60/expr.ipynb\"><img src=\"data:image/png;base64,iVBORw0KGgoAAAANSUhEUgAAAGsAAAAVBAMAAACzuQ2OAAAAMFBMVEX////c3NwiIiJERESqqqqY\n",
       "mJh2dnZmZmYQEBDu7u4yMjJUVFTMzMyIiIi6uroAAAAs73DqAAAAAXRSTlMAQObYZgAAAVxJREFU\n",
       "OMtjYCAT8F3AIcH6AJ+20wwM4lV2aIKzy/YwMNRgKmaeACNWMjBuYLjvgCLL2MIgIcDAhaGL034C\n",
       "lOC9wMA9gYHpA0R8ItTQBgZuAwbWBHRdu/dPgBAMHBMYODoZuP9BJHwhFP8CBrafDJwNGNbdnwAl\n",
       "XjEwcP1kYEfVNt+AgRcoYoJbWxmYy/QTw7avDAzpuLUtBXPPJ6BoY29gYP7LwOAFZq8Cgw2o2vrA\n",
       "3MUMKNo4lzK4A7W9wG0b2FPsBqjaGFjvnv0CdAMBbbfBYlWrVmmsWrUaogAYkvi0tQBplgIGQVTb\n",
       "gMG7AOpIdiUwMEDVZgqkjzMwBKJo4/3IIA9MkVG4bQMGMqNaWroCqjZNhrUMeCPgETDS/v//j6qN\n",
       "Ib0YlEjXoesq718eACE4BJDFfVGSYAPufIOaXt8ic9gu4MlvK3HKzMKXTaVxymzEp40Rl1N4D+DW\n",
       "BACqGXO9/jGwgAAAAABJRU5ErkJggg==\n",
       "\" style=\"display:inline;vertical-align:middle;\" /></a><br>(see <a class=\"ProveItLink\" href=\"../__pv_it/4db1b0fd23caa2c5b3d42caf4b3641fece6644e60/dependencies.ipynb\">dependencies</a>)<br>"
      ],
      "text/plain": [
       "add_2_9: (2 + 9) = 11"
      ]
     },
     "execution_count": 2,
     "metadata": {},
     "output_type": "execute_result"
    }
   ],
   "source": [
    "%proving add_2_9 presuming []"
   ]
  },
  {
   "cell_type": "code",
   "execution_count": null,
   "metadata": {},
   "outputs": [],
   "source": []
  }
 ],
 "metadata": {
  "kernelspec": {
   "display_name": "Python 3",
   "language": "python",
   "name": "python3"
  }
 },
 "nbformat": 4,
 "nbformat_minor": 0
}
