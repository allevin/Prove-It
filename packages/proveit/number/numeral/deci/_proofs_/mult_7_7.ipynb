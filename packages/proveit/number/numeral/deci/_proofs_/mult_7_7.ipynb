{
 "cells": [
  {
   "cell_type": "markdown",
   "metadata": {},
   "source": [
    "Proof of <a class=\"ProveItLink\" href=\"../../../../_context_.ipynb\">proveit</a>.<a class=\"ProveItLink\" href=\"../../../_context_.ipynb\">number</a>.<a class=\"ProveItLink\" href=\"../../_context_.ipynb\">numeral</a>.<a class=\"ProveItLink\" href=\"../_context_.ipynb\">deci</a>.<a class=\"ProveItLink\" href=\"../_theorems_.ipynb#mult_7_7\">mult_7_7</a> theorem\n",
    "========"
   ]
  },
  {
   "cell_type": "code",
   "execution_count": 1,
   "metadata": {},
   "outputs": [],
   "source": [
    "import proveit\n",
    "context = proveit.Context('..') # the theorem's context is in the parent directory"
   ]
  },
  {
   "cell_type": "code",
   "execution_count": 2,
   "metadata": {},
   "outputs": [
    {
     "name": "stdout",
     "output_type": "stream",
     "text": [
      "Beginning proof of mult_7_7\n",
      "Recorded 'presuming' information\n",
      "Presuming previous theorems (applied transitively).\n"
     ]
    },
    {
     "data": {
      "text/html": [
       "<strong id=\"mult_7_7\">mult_7_7:</strong> <a class=\"ProveItLink\" href=\"../__pv_it/174659b07aed39cc766c2f91bf6fe0db3a3da6020/expr.ipynb\"><img src=\"data:image/png;base64,iVBORw0KGgoAAAANSUhEUgAAAGEAAAAVBAMAAACkm51HAAAAMFBMVEX////c3NwiIiJERESqqqqY\n",
       "mJh2dnZmZmYQEBDu7u4yMjJUVFTMzMyIiIi6uroAAAAs73DqAAAAAXRSTlMAQObYZgAAAYVJREFU\n",
       "OMuVk79Lw0AUx7+pbdqkrXQUXEQHB5cMCm72DxCMi4OgZoqIikWkiosKboIEXIpLuzi0LgEHhw4V\n",
       "VweDk0ghxVEQCyIFBeu9Ky0hdwQ8uIPv+97n3btfwP/bsCfGViOJB2Qmbdvuy/uibVvJO3FexoV2\n",
       "u0lGFYlut/vTN9aYcFERiZiBkbxyAmQ9qA7g9o0NIA0sicSzgVngBkg5UAF1UIYFbAElAVCWDXwD\n",
       "Ow7euH4PHcVQPkyouqF9An4LRZKaEfAuyC+EiUW9t4aJK5LJYMo91uN864c1atc8p8eIA2DOwznp\n",
       "Mp+qOXxsU2XH4aLAiEszfuThl/QLj5bHaMxS+kw7RMwTgZWmn+8RUzxa4ruJuRJCszjBz+qUdCdg\n",
       "lguDqnbHqU3Qvur1xhk9pxowQ36Q+CAiIV56yoCfU1hJ65QhSCwUpKdLxJOjs3VeqeqvgPNoskFv\n",
       "CTfY6Jjq/jShOdmDLkU89oQli25H/Y+qJKZVoohRSSydiyIUya9tRsz/A2dGYWM50Yu/AAAAAElF\n",
       "TkSuQmCC\n",
       "\" style=\"display:inline;vertical-align:middle;\" /></a><br>(see <a class=\"ProveItLink\" href=\"../__pv_it/174659b07aed39cc766c2f91bf6fe0db3a3da6020/dependencies.ipynb\">dependencies</a>)<br>"
      ],
      "text/plain": [
       "mult_7_7: (7 * 7) = 49"
      ]
     },
     "execution_count": 2,
     "metadata": {},
     "output_type": "execute_result"
    }
   ],
   "source": [
    "%proving mult_7_7 presuming []"
   ]
  },
  {
   "cell_type": "code",
   "execution_count": null,
   "metadata": {},
   "outputs": [],
   "source": []
  }
 ],
 "metadata": {
  "kernelspec": {
   "display_name": "Python 3",
   "language": "python",
   "name": "python3"
  }
 },
 "nbformat": 4,
 "nbformat_minor": 0
}
