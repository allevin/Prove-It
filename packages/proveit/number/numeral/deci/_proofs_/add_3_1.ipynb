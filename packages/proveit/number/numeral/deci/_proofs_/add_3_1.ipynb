{
 "cells": [
  {
   "cell_type": "markdown",
   "metadata": {},
   "source": [
    "Proof of <a class=\"ProveItLink\" href=\"../../../../_context_.ipynb\">proveit</a>.<a class=\"ProveItLink\" href=\"../../../_context_.ipynb\">number</a>.<a class=\"ProveItLink\" href=\"../../_context_.ipynb\">numeral</a>.<a class=\"ProveItLink\" href=\"../_context_.ipynb\">decimal</a>.<a class=\"ProveItLink\" href=\"../_theorems_.ipynb#add_3_1\">add_3_1</a> theorem\n",
    "========"
   ]
  },
  {
   "cell_type": "code",
   "execution_count": 1,
   "metadata": {},
   "outputs": [],
   "source": [
    "import proveit\n",
    "context = proveit.Context('..') # the theorem's context is in the parent directory"
   ]
  },
  {
   "cell_type": "code",
   "execution_count": 2,
   "metadata": {},
   "outputs": [
    {
     "name": "stdout",
     "output_type": "stream",
     "text": [
      "Beginning proof of add_3_1\n",
      "Recorded 'presuming' information\n",
      "Presuming previous theorems (applied transitively).\n"
     ]
    },
    {
     "data": {
      "text/html": [
       "<strong id=\"add_3_1\">add_3_1:</strong> <a class=\"ProveItLink\" href=\"../__pv_it/a17bb6fc975382ef2e73677fdc9b68a1334eba220/expr.ipynb\"><img src=\"data:image/png;base64,iVBORw0KGgoAAAANSUhEUgAAAGEAAAAVBAMAAACkm51HAAAAMFBMVEX////c3NwiIiJERESqqqqY\n",
       "mJh2dnZmZmYQEBDu7u4yMjJUVFTMzMyIiIi6uroAAAAs73DqAAAAAXRSTlMAQObYZgAAAT9JREFU\n",
       "OMtjYCAd8F3AIRGHS8dpBoZjaSboopYMDOwHMBXzbAASKxkYCxjeo1k0+SeQWICpg8mAgYH3AgPb\n",
       "FwZ+BYjIRAg1ezdIRximjhtAHRwTGFgQOnyhMrwgHTMwNDBGAXW8AjNhrkLRweyAroONC6ijDMxc\n",
       "zYBFB1sBuo5AkI6loBDI2oBNBwvY6+yrwACkgvMCSEcfxEcPsOjga0B3FANIxz8wm+MnFh08H9B0\n",
       "+MB0MB5gYP4KFKhatUpj1arVOHVwJoB1tDAwzP8J0YHdVexKYABUyrJ79/7uCwymDAz8CxiYPmLR\n",
       "wYoZ6RxAjelA6QCG9wlEhS5YxyMg7V6+BDV02St+lTIwcD3AiMH93wMYOASQhXyROTOwJ3bWBGTe\n",
       "W2ROLo78sRJXxuFcgENCGpcObgEcEoy4cu0d7MIARrlX6Y2B75gAAAAASUVORK5CYII=\n",
       "\" style=\"display:inline;vertical-align:middle;\" /></a><br>(see <a class=\"ProveItLink\" href=\"../__pv_it/a17bb6fc975382ef2e73677fdc9b68a1334eba220/dependencies.ipynb\">dependencies</a>)<br>"
      ],
      "text/plain": [
       "add_3_1: (3 + 1) = 4"
      ]
     },
     "execution_count": 2,
     "metadata": {},
     "output_type": "execute_result"
    }
   ],
   "source": [
    "%proving add_3_1 presuming []"
   ]
  },
  {
   "cell_type": "code",
   "execution_count": null,
   "metadata": {},
   "outputs": [],
   "source": []
  }
 ],
 "metadata": {
  "kernelspec": {
   "display_name": "Python 3",
   "language": "python",
   "name": "python3"
  }
 },
 "nbformat": 4,
 "nbformat_minor": 0
}
