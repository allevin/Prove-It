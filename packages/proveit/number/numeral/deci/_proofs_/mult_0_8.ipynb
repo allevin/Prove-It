{
 "cells": [
  {
   "cell_type": "markdown",
   "metadata": {},
   "source": [
    "Proof of <a class=\"ProveItLink\" href=\"../../../../_context_.ipynb\">proveit</a>.<a class=\"ProveItLink\" href=\"../../../_context_.ipynb\">number</a>.<a class=\"ProveItLink\" href=\"../../_context_.ipynb\">numeral</a>.<a class=\"ProveItLink\" href=\"../_context_.ipynb\">deci</a>.<a class=\"ProveItLink\" href=\"../_theorems_.ipynb#mult_0_8\">mult_0_8</a> theorem\n",
    "========"
   ]
  },
  {
   "cell_type": "code",
   "execution_count": 1,
   "metadata": {},
   "outputs": [],
   "source": [
    "import proveit\n",
    "context = proveit.Context('..') # the theorem's context is in the parent directory"
   ]
  },
  {
   "cell_type": "code",
   "execution_count": 2,
   "metadata": {},
   "outputs": [
    {
     "name": "stdout",
     "output_type": "stream",
     "text": [
      "Beginning proof of mult_0_8\n",
      "Recorded 'presuming' information\n",
      "Presuming previous theorems (applied transitively).\n"
     ]
    },
    {
     "data": {
      "text/html": [
       "<strong id=\"mult_0_8\">mult_0_8:</strong> <a class=\"ProveItLink\" href=\"../__pv_it/3e135a0dcb7cd8b3c7ccd2774ad5891b183df9180/expr.ipynb\"><img src=\"data:image/png;base64,iVBORw0KGgoAAAANSUhEUgAAAFcAAAAVBAMAAADBdm84AAAAMFBMVEX////c3NwiIiJERESqqqqY\n",
       "mJh2dnZmZmYQEBDu7u4yMjJUVFTMzMyIiIi6uroAAAAs73DqAAAAAXRSTlMAQObYZgAAAWxJREFU\n",
       "KM+VkztIw1AUhr8+0jb2YXYHi7op4uLeycGlXdRJCQ52kEIRrCAVFVwEkdDFbHZxqA66ieDg7mBw\n",
       "EXxAcXTxgdbJ1pu2STG9HTzD4ea/X07OK/AvS1jd2kIv+BoOnoruo7qUTRG+8lLqxp2tVWCcknsb\n",
       "hlUoe2F/VR2DuEU8Sdy9nYESzHrhW7iHiIH/jMS7oy43YdMLj8Krxgv054l9Omr6ghwEUh74G25S\n",
       "FGBQJ/bjqIHGvA6h/F/WVxOwxVELrrn65ocGwWYN68e2nTiwzn4HVg3hlOKpSCmxJYmsU++kcZgU\n",
       "bg6lYRB7k6ZRbxX4JRRzQrhd8XKmC24WmGEHu3VBp3Wq+H7YaqexMmTbcLt1aY1J7KGEkk6IbYhq\n",
       "KOXuoSxCVpxGMN1xTxtMdbcOf0rdg2dxOshddpbwfE0MpK/qXaTCg4gX0WSraMo3VNFlaq7HPlck\n",
       "mlruAQ9ItKjWA/ZJfqtHOfoLzM9eaECtzywAAAAASUVORK5CYII=\n",
       "\" style=\"display:inline;vertical-align:middle;\" /></a><br>(see <a class=\"ProveItLink\" href=\"../__pv_it/3e135a0dcb7cd8b3c7ccd2774ad5891b183df9180/dependencies.ipynb\">dependencies</a>)<br>"
      ],
      "text/plain": [
       "mult_0_8: (0 * 8) = 0"
      ]
     },
     "execution_count": 2,
     "metadata": {},
     "output_type": "execute_result"
    }
   ],
   "source": [
    "%proving mult_0_8 presuming []"
   ]
  },
  {
   "cell_type": "code",
   "execution_count": null,
   "metadata": {},
   "outputs": [],
   "source": []
  }
 ],
 "metadata": {
  "kernelspec": {
   "display_name": "Python 3",
   "language": "python",
   "name": "python3"
  }
 },
 "nbformat": 4,
 "nbformat_minor": 0
}
