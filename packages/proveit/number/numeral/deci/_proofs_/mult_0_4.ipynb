{
 "cells": [
  {
   "cell_type": "markdown",
   "metadata": {},
   "source": [
    "Proof of <a class=\"ProveItLink\" href=\"../../../../_context_.ipynb\">proveit</a>.<a class=\"ProveItLink\" href=\"../../../_context_.ipynb\">number</a>.<a class=\"ProveItLink\" href=\"../../_context_.ipynb\">numeral</a>.<a class=\"ProveItLink\" href=\"../_context_.ipynb\">deci</a>.<a class=\"ProveItLink\" href=\"../_theorems_.ipynb#mult_0_4\">mult_0_4</a> theorem\n",
    "========"
   ]
  },
  {
   "cell_type": "code",
   "execution_count": 1,
   "metadata": {},
   "outputs": [],
   "source": [
    "import proveit\n",
    "context = proveit.Context('..') # the theorem's context is in the parent directory"
   ]
  },
  {
   "cell_type": "code",
   "execution_count": 2,
   "metadata": {},
   "outputs": [
    {
     "name": "stdout",
     "output_type": "stream",
     "text": [
      "Beginning proof of mult_0_4\n",
      "Recorded 'presuming' information\n",
      "Presuming previous theorems (applied transitively).\n"
     ]
    },
    {
     "data": {
      "text/html": [
       "<strong id=\"mult_0_4\">mult_0_4:</strong> <a class=\"ProveItLink\" href=\"../__pv_it/f78f7ebe6e0d83c3a5a5797d6c69c23d68a0a8060/expr.ipynb\"><img src=\"data:image/png;base64,iVBORw0KGgoAAAANSUhEUgAAAFcAAAAVBAMAAADBdm84AAAAMFBMVEX////c3NwiIiJERESqqqqY\n",
       "mJh2dnZmZmYQEBDu7u4yMjJUVFTMzMyIiIi6uroAAAAs73DqAAAAAXRSTlMAQObYZgAAAVpJREFU\n",
       "KM+Vk79Lw0AUx7+JaczVJGZ3MKibIi7u+QME6+LgIIeLU6E4dBAFBzdFikuzmcWhunSv0O4OBhfF\n",
       "H1AcXVTQdrJ4l7ZJer0MviEcn/vweO/dC/CvsMNxtp0l3wLV14MUMOuYbIkWOXzgrAYs4zx1q64A\n",
       "gSirbbIEWCEsF1bq9pHJm6J8DzwBRgVqHfZXjJUtJvuivAh8OHgHpkswv2Os55k84QlyF7jzUAZm\n",
       "KczfGG9wWS+NukqHySEu+3Inbjvkshb1sH/F43ooU5wlMqnwKsBl+0iSmaKXlHHhss9aJJuf0jJ6\n",
       "/QZ/GPGZRahUjhos4Bh8dNpwdFqj0TwJB2XszfGYH4xu3cEq+KPobpLEYJlzwfij7AC77LQAvzUq\n",
       "i6OD6pFT4I2dqsWbBOvNbgH5trhI5WeWz3Bkq+jLNzRHZbSYsc81CSNBhjwjYVNOhqxIfqsXufoH\n",
       "SadYdhVVksUAAAAASUVORK5CYII=\n",
       "\" style=\"display:inline;vertical-align:middle;\" /></a><br>(see <a class=\"ProveItLink\" href=\"../__pv_it/f78f7ebe6e0d83c3a5a5797d6c69c23d68a0a8060/dependencies.ipynb\">dependencies</a>)<br>"
      ],
      "text/plain": [
       "mult_0_4: (0 * 4) = 0"
      ]
     },
     "execution_count": 2,
     "metadata": {},
     "output_type": "execute_result"
    }
   ],
   "source": [
    "%proving mult_0_4 presuming []"
   ]
  },
  {
   "cell_type": "code",
   "execution_count": null,
   "metadata": {},
   "outputs": [],
   "source": []
  }
 ],
 "metadata": {
  "kernelspec": {
   "display_name": "Python 3",
   "language": "python",
   "name": "python3"
  }
 },
 "nbformat": 4,
 "nbformat_minor": 0
}
