{
 "cells": [
  {
   "cell_type": "markdown",
   "metadata": {},
   "source": [
    "Proof of <a class=\"ProveItLink\" href=\"../../../../_context_.ipynb\">proveit</a>.<a class=\"ProveItLink\" href=\"../../../_context_.ipynb\">number</a>.<a class=\"ProveItLink\" href=\"../../_context_.ipynb\">numeral</a>.<a class=\"ProveItLink\" href=\"../_context_.ipynb\">decimal</a>.<a class=\"ProveItLink\" href=\"../_theorems_.ipynb#add_5_2\">add_5_2</a> theorem\n",
    "========"
   ]
  },
  {
   "cell_type": "code",
   "execution_count": 1,
   "metadata": {},
   "outputs": [],
   "source": [
    "import proveit\n",
    "context = proveit.Context('..') # the theorem's context is in the parent directory"
   ]
  },
  {
   "cell_type": "code",
   "execution_count": 2,
   "metadata": {},
   "outputs": [
    {
     "name": "stdout",
     "output_type": "stream",
     "text": [
      "Beginning proof of add_5_2\n",
      "Recorded 'presuming' information\n",
      "Presuming previous theorems (applied transitively).\n"
     ]
    },
    {
     "data": {
      "text/html": [
       "<strong id=\"add_5_2\">add_5_2:</strong> <a class=\"ProveItLink\" href=\"../__pv_it/9bf0f0c149387230b7e2676e9009e68f182b46230/expr.ipynb\"><img src=\"data:image/png;base64,iVBORw0KGgoAAAANSUhEUgAAAGIAAAAVBAMAAABPrCZEAAAAMFBMVEX////c3NwiIiJERESqqqqY\n",
       "mJh2dnZmZmYQEBDu7u4yMjJUVFTMzMyIiIi6uroAAAAs73DqAAAAAXRSTlMAQObYZgAAAXFJREFU\n",
       "OMtjYCAd8F3AIRGHS8dpBoalE8QcUMQYyxc/YGA/gK70UFlaWgIDw0oGhv7/31ClpBl4vzAwLEDX\n",
       "Ef////8NDLxARy3fBjNuIoTaycCgz8AQhq4jk4GBm4GBYwIDwwa4mC+E6pjAsP8Bwwx0HUAX5TAw\n",
       "vGLAomP9BIb6BwzMDliDqQxI7727D1UHEOhPYGArwNAxGYiXArElw/wHaDp4gGHBAvY6+yowgLij\n",
       "BIj7wCzuBjQdXAZAJzSgW8H5AUj8AzPZ/qDpKAbZ8wFdB+8CiA5mBQY2kMaqVas0Vq1aDZbagFUH\n",
       "E0i4BRjACgzsH1HtcGdgFIC6il0JDAxA7PmgsDAFigGdvQBFB08BA6sAAytGpL8H6UgHpqICBg8B\n",
       "FB1CaWlFDFhC1x8k8giIj1dvRI0P/f//PwEtfoCu43wAkOAQQBbyRebMwJ7YWROQeW+RObk48sdK\n",
       "XBmHcwEOCWlcOrgFcEgw4sq1d7ALAwAhoVue09XUwgAAAABJRU5ErkJggg==\n",
       "\" style=\"display:inline;vertical-align:middle;\" /></a><br>(see <a class=\"ProveItLink\" href=\"../__pv_it/9bf0f0c149387230b7e2676e9009e68f182b46230/dependencies.ipynb\">dependencies</a>)<br>"
      ],
      "text/plain": [
       "add_5_2: (5 + 2) = 7"
      ]
     },
     "execution_count": 2,
     "metadata": {},
     "output_type": "execute_result"
    }
   ],
   "source": [
    "%proving add_5_2 presuming []"
   ]
  },
  {
   "cell_type": "code",
   "execution_count": null,
   "metadata": {},
   "outputs": [],
   "source": []
  }
 ],
 "metadata": {
  "kernelspec": {
   "display_name": "Python 3",
   "language": "python",
   "name": "python3"
  }
 },
 "nbformat": 4,
 "nbformat_minor": 0
}
