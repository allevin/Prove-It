{
 "cells": [
  {
   "cell_type": "markdown",
   "metadata": {},
   "source": [
    "Proof of <a class=\"ProveItLink\" href=\"../../../../_context_.ipynb\">proveit</a>.<a class=\"ProveItLink\" href=\"../../../_context_.ipynb\">number</a>.<a class=\"ProveItLink\" href=\"../../_context_.ipynb\">numeral</a>.<a class=\"ProveItLink\" href=\"../_context_.ipynb\">decimal</a>.<a class=\"ProveItLink\" href=\"../_theorems_.ipynb#posnat5\">posnat5</a> theorem\n",
    "========"
   ]
  },
  {
   "cell_type": "code",
   "execution_count": 1,
   "metadata": {},
   "outputs": [],
   "source": [
    "import proveit\n",
    "context = proveit.Context('..') # the theorem's context is in the parent directory"
   ]
  },
  {
   "cell_type": "code",
   "execution_count": 2,
   "metadata": {},
   "outputs": [
    {
     "name": "stdout",
     "output_type": "stream",
     "text": [
      "Beginning proof of posnat5\n",
      "Recorded 'presuming' information\n",
      "Presuming previous theorems (applied transitively).\n"
     ]
    },
    {
     "data": {
      "text/html": [
       "<strong id=\"posnat5\">posnat5:</strong> <a class=\"ProveItLink\" href=\"../__pv_it/23b96aee92535d596be7b337250eede3826030130/expr.ipynb\"><img src=\"data:image/png;base64,iVBORw0KGgoAAAANSUhEUgAAAD4AAAAUBAMAAAAn2JMnAAAAMFBMVEX///8iIiJERES6urqIiIjM\n",
       "zMxUVFRmZmYQEBCqqqp2dnbc3Nzu7u6YmJgyMjIAAADYGhJvAAAAAXRSTlMAQObYZgAAAO9JREFU\n",
       "KM9jYMADJjDgBwp0kOe7w70SRZDnvdIbBnZ5Sag8x///C1B1MV0IYmDgZ2B7967v3RMGvrKlaKay\n",
       "ibI4MHDAzGeDix95KCgHlrc7kIpFnvXtAaj+0IRzBxDyLm4GYOFNB2DmB0xhVYDLMx3g+QwW1obb\n",
       "H8BucAUsnwARyAB7SwEhz5DDFoHk4PUBQIK5UVAQ6r4AhmM8L2CSikB5kANYE5D0sy6A629kYKjf\n",
       "ADJfAEme4SYTjFfAwPAOzMhFlufaBONtZ+DsBjMOGsDCF8SogwdLedoGMIP7eQCYZn7fBCTPYcYm\n",
       "Zx7E/SgAACYZNGY44fCCAAAAAElFTkSuQmCC\n",
       "\" style=\"display:inline;vertical-align:middle;\" /></a><br>(see <a class=\"ProveItLink\" href=\"../__pv_it/23b96aee92535d596be7b337250eede3826030130/dependencies.ipynb\">dependencies</a>)<br>"
      ],
      "text/plain": [
       "posnat5: 5 in NaturalsPos"
      ]
     },
     "execution_count": 2,
     "metadata": {},
     "output_type": "execute_result"
    }
   ],
   "source": [
    "%proving posnat5 presuming []"
   ]
  },
  {
   "cell_type": "code",
   "execution_count": null,
   "metadata": {},
   "outputs": [],
   "source": []
  }
 ],
 "metadata": {
  "kernelspec": {
   "display_name": "Python 3",
   "language": "python",
   "name": "python3"
  }
 },
 "nbformat": 4,
 "nbformat_minor": 0
}
