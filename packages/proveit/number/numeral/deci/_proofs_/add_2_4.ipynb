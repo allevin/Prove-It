{
 "cells": [
  {
   "cell_type": "markdown",
   "metadata": {},
   "source": [
    "Proof of <a class=\"ProveItLink\" href=\"../../../../_context_.ipynb\">proveit</a>.<a class=\"ProveItLink\" href=\"../../../_context_.ipynb\">number</a>.<a class=\"ProveItLink\" href=\"../../_context_.ipynb\">numeral</a>.<a class=\"ProveItLink\" href=\"../_context_.ipynb\">decimal</a>.<a class=\"ProveItLink\" href=\"../_theorems_.ipynb#add_2_4\">add_2_4</a> theorem\n",
    "========"
   ]
  },
  {
   "cell_type": "code",
   "execution_count": 1,
   "metadata": {},
   "outputs": [],
   "source": [
    "import proveit\n",
    "context = proveit.Context('..') # the theorem's context is in the parent directory"
   ]
  },
  {
   "cell_type": "code",
   "execution_count": 2,
   "metadata": {},
   "outputs": [
    {
     "name": "stdout",
     "output_type": "stream",
     "text": [
      "Beginning proof of add_2_4\n",
      "Recorded 'presuming' information\n",
      "Presuming previous theorems (applied transitively).\n"
     ]
    },
    {
     "data": {
      "text/html": [
       "<strong id=\"add_2_4\">add_2_4:</strong> <a class=\"ProveItLink\" href=\"../__pv_it/4310d57cd4728bb1b4c6aedc037ec257f1871af70/expr.ipynb\"><img src=\"data:image/png;base64,iVBORw0KGgoAAAANSUhEUgAAAGEAAAAVBAMAAACkm51HAAAAMFBMVEX////c3NwiIiJERESqqqqY\n",
       "mJh2dnZmZmYQEBDu7u4yMjJUVFTMzMyIiIi6uroAAAAs73DqAAAAAXRSTlMAQObYZgAAAXRJREFU\n",
       "OMtjYCAd8F3AIRGHS8dpBgbxKjt0UZ4NDOwHMNROK8sBkisZGDcw3HdAk2MyYGBYgK6BUYdhEwMD\n",
       "7wUG7gkMTB8gYhNhkjeAOsLQdTAlMKxiYOCYwMDRycD9DyLmCzMtCqhjBrqO+Akg8hUDA9dPBnY0\n",
       "HWxcQB3M6E5dASbLIPb9RNURCNLBVoCm49fZ60BDloLZ5xNQdHBeAOlgAXudfRUYbACKfgpgUGVg\n",
       "6AMrWcyAooONAaSDrwHVCs7/DAz5ExjAHmA3QNXhA9bB8wFNxyeg5x0gOm6DRapWrdJYtWo1UCoB\n",
       "qw6GX0AdFxhagCyWAgZBZDtYdu/e330B6ip2JTAAucIIbIcpkHUcGDioYcXAAVTBih7p/mB/pAOj\n",
       "Sy0tXQGLDozQZU7gbGVgeASMjP///6PpYNv/PYCB6wF6pFdXA4U4BJCFfJE5M7AndtYEZN5bZE4u\n",
       "jvyxElfG4VyAQ0Ialw5uARwSjLhy7R3swgCyQVf+auesHwAAAABJRU5ErkJggg==\n",
       "\" style=\"display:inline;vertical-align:middle;\" /></a><br>(see <a class=\"ProveItLink\" href=\"../__pv_it/4310d57cd4728bb1b4c6aedc037ec257f1871af70/dependencies.ipynb\">dependencies</a>)<br>"
      ],
      "text/plain": [
       "add_2_4: (2 + 4) = 6"
      ]
     },
     "execution_count": 2,
     "metadata": {},
     "output_type": "execute_result"
    }
   ],
   "source": [
    "%proving add_2_4 presuming []"
   ]
  },
  {
   "cell_type": "code",
   "execution_count": null,
   "metadata": {},
   "outputs": [],
   "source": []
  }
 ],
 "metadata": {
  "kernelspec": {
   "display_name": "Python 3",
   "language": "python",
   "name": "python3"
  }
 },
 "nbformat": 4,
 "nbformat_minor": 0
}
