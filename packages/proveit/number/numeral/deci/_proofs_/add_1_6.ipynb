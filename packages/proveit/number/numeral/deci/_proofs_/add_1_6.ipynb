{
 "cells": [
  {
   "cell_type": "markdown",
   "metadata": {},
   "source": [
    "Proof of <a class=\"ProveItLink\" href=\"../../../../_context_.ipynb\">proveit</a>.<a class=\"ProveItLink\" href=\"../../../_context_.ipynb\">number</a>.<a class=\"ProveItLink\" href=\"../../_context_.ipynb\">numeral</a>.<a class=\"ProveItLink\" href=\"../_context_.ipynb\">decimal</a>.<a class=\"ProveItLink\" href=\"../_theorems_.ipynb#add_1_6\">add_1_6</a> theorem\n",
    "========"
   ]
  },
  {
   "cell_type": "code",
   "execution_count": 1,
   "metadata": {},
   "outputs": [],
   "source": [
    "import proveit\n",
    "context = proveit.Context('..') # the theorem's context is in the parent directory"
   ]
  },
  {
   "cell_type": "code",
   "execution_count": 2,
   "metadata": {},
   "outputs": [
    {
     "name": "stdout",
     "output_type": "stream",
     "text": [
      "Beginning proof of add_1_6\n",
      "Recorded 'presuming' information\n",
      "Presuming previous theorems (applied transitively).\n"
     ]
    },
    {
     "data": {
      "text/html": [
       "<strong id=\"add_1_6\">add_1_6:</strong> <a class=\"ProveItLink\" href=\"../__pv_it/7b06753142298f51092c046bc8a55d9b90d687e70/expr.ipynb\"><img src=\"data:image/png;base64,iVBORw0KGgoAAAANSUhEUgAAAGIAAAAVBAMAAABPrCZEAAAAMFBMVEX////c3NwiIiJERESqqqqY\n",
       "mJh2dnZmZmYQEBDu7u4yMjJUVFTMzMyIiIi6uroAAAAs73DqAAAAAXRSTlMAQObYZgAAAUNJREFU\n",
       "OMtjYCAd8F3AIRGHS8dpIGaegCY4rSyHgf0AutJDZWlpCQwMKxkYOO3RdDDqMGxiYFiAriP+////\n",
       "Gxh4LzBw7t4P0zERQjElMKxiYAhD15HJwMDNwMABUnwfpsMXahiYPwNdB9BFOQwMrxiw6FgBJpkd\n",
       "sAZTGTYdv85eB6pmK8DQMRmIl2LRwfkpgEGVgYEF7HX2VWCwASxTAsR92HT8Z2DIn8DA14BuBecH\n",
       "IPEPqx1Azzsw8HxA18G7AFVH1apVGqtWrQb5A6jjAhYdTCC3tWDzuRHYDoir2JXAwADEng8KC1Ns\n",
       "OvzB/mDFiPT3IB3p2HQwJ3C2Ygtdf5DIIyAu718egKKDobr6AQMD1wN0HedByjgEkIV8kTkzsCd2\n",
       "1gRk3ltkTi6O/LESV8bhXIBDQhqXDm4BHBKMuHLtHezCAJezXrMZAW2gAAAAAElFTkSuQmCC\n",
       "\" style=\"display:inline;vertical-align:middle;\" /></a><br>(see <a class=\"ProveItLink\" href=\"../__pv_it/7b06753142298f51092c046bc8a55d9b90d687e70/dependencies.ipynb\">dependencies</a>)<br>"
      ],
      "text/plain": [
       "add_1_6: (1 + 6) = 7"
      ]
     },
     "execution_count": 2,
     "metadata": {},
     "output_type": "execute_result"
    }
   ],
   "source": [
    "%proving add_1_6 presuming []"
   ]
  },
  {
   "cell_type": "code",
   "execution_count": null,
   "metadata": {},
   "outputs": [],
   "source": []
  }
 ],
 "metadata": {
  "kernelspec": {
   "display_name": "Python 3",
   "language": "python",
   "name": "python3"
  }
 },
 "nbformat": 4,
 "nbformat_minor": 0
}
