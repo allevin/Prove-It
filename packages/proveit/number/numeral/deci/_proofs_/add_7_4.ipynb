{
 "cells": [
  {
   "cell_type": "markdown",
   "metadata": {},
   "source": [
    "Proof of <a class=\"ProveItLink\" href=\"../../../../_context_.ipynb\">proveit</a>.<a class=\"ProveItLink\" href=\"../../../_context_.ipynb\">number</a>.<a class=\"ProveItLink\" href=\"../../_context_.ipynb\">numeral</a>.<a class=\"ProveItLink\" href=\"../_context_.ipynb\">decimal</a>.<a class=\"ProveItLink\" href=\"../_theorems_.ipynb#add_7_4\">add_7_4</a> theorem\n",
    "========"
   ]
  },
  {
   "cell_type": "code",
   "execution_count": 1,
   "metadata": {},
   "outputs": [],
   "source": [
    "import proveit\n",
    "context = proveit.Context('..') # the theorem's context is in the parent directory"
   ]
  },
  {
   "cell_type": "code",
   "execution_count": 2,
   "metadata": {},
   "outputs": [
    {
     "name": "stdout",
     "output_type": "stream",
     "text": [
      "Beginning proof of add_7_4\n",
      "Recorded 'presuming' information\n",
      "Presuming previous theorems (applied transitively).\n"
     ]
    },
    {
     "data": {
      "text/html": [
       "<strong id=\"add_7_4\">add_7_4:</strong> <a class=\"ProveItLink\" href=\"../__pv_it/2dba71c800c6b588e0a01d8beda1771798d070db0/expr.ipynb\"><img src=\"data:image/png;base64,iVBORw0KGgoAAAANSUhEUgAAAGsAAAAVBAMAAACzuQ2OAAAAMFBMVEX////c3NwiIiJERESqqqqY\n",
       "mJh2dnZmZmYQEBDu7u4yMjJUVFTMzMyIiIi6uroAAAAs73DqAAAAAXRSTlMAQObYZgAAATNJREFU\n",
       "OMtjYCAT8F3AIcH6AJ+20ww86mlpaZjCDDWYipknwIiVDKz/////ja5AmYGBC0MXp/0EKMF7gYEN\n",
       "SG2AiE+EKeBtBroyAV3X7v0TIAQDxwQGNgYGtgMQCV+YCtHFQFUNGNbdnwAlXoG5bxnQtCUAtTGY\n",
       "4NZWBrbdAE0bqwBIWzpubUtBPHYHNG1zGUDavMByq8BgA6q2PhBvPgOatgSwthe4bfsH4t1C08Zy\n",
       "AKztPAFt2mCxqlWrNFatWg1kTWMgpK0FFCLf0Wzz3r37x16oI9mVwMAAVZspKFmiawMCYHQzROG2\n",
       "DRTILDi04YmAR0Ca5yuGtuz/pQwM69B1lfcvD4AQHALI4r4oSbABd75BTa9vkTlsF/Dkt5U4ZWbh\n",
       "y6bSOGU24tPGiMspvAdwawIAxolrzCnBO9oAAAAASUVORK5CYII=\n",
       "\" style=\"display:inline;vertical-align:middle;\" /></a><br>(see <a class=\"ProveItLink\" href=\"../__pv_it/2dba71c800c6b588e0a01d8beda1771798d070db0/dependencies.ipynb\">dependencies</a>)<br>"
      ],
      "text/plain": [
       "add_7_4: (7 + 4) = 11"
      ]
     },
     "execution_count": 2,
     "metadata": {},
     "output_type": "execute_result"
    }
   ],
   "source": [
    "%proving add_7_4 presuming []"
   ]
  },
  {
   "cell_type": "code",
   "execution_count": null,
   "metadata": {},
   "outputs": [],
   "source": []
  }
 ],
 "metadata": {
  "kernelspec": {
   "display_name": "Python 3",
   "language": "python",
   "name": "python3"
  }
 },
 "nbformat": 4,
 "nbformat_minor": 0
}
