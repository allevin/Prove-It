{
 "cells": [
  {
   "cell_type": "markdown",
   "metadata": {},
   "source": [
    "Proof of <a class=\"ProveItLink\" href=\"../../../../_context_.ipynb\">proveit</a>.<a class=\"ProveItLink\" href=\"../../../_context_.ipynb\">number</a>.<a class=\"ProveItLink\" href=\"../../_context_.ipynb\">numeral</a>.<a class=\"ProveItLink\" href=\"../_context_.ipynb\">decimal</a>.<a class=\"ProveItLink\" href=\"../_theorems_.ipynb#add_6_7\">add_6_7</a> theorem\n",
    "========"
   ]
  },
  {
   "cell_type": "code",
   "execution_count": 1,
   "metadata": {},
   "outputs": [],
   "source": [
    "import proveit\n",
    "context = proveit.Context('..') # the theorem's context is in the parent directory"
   ]
  },
  {
   "cell_type": "code",
   "execution_count": 2,
   "metadata": {},
   "outputs": [
    {
     "name": "stdout",
     "output_type": "stream",
     "text": [
      "Beginning proof of add_6_7\n",
      "Recorded 'presuming' information\n",
      "Presuming previous theorems (applied transitively).\n"
     ]
    },
    {
     "data": {
      "text/html": [
       "<strong id=\"add_6_7\">add_6_7:</strong> <a class=\"ProveItLink\" href=\"../__pv_it/481e03d956e112f25bc4934beb536ea4c6e677bf0/expr.ipynb\"><img src=\"data:image/png;base64,iVBORw0KGgoAAAANSUhEUgAAAGwAAAAVBAMAAABRZRb3AAAAMFBMVEX////c3NwiIiJERESqqqqY\n",
       "mJh2dnZmZmYQEBDu7u4yMjJUVFTMzMyIiIi6uroAAAAs73DqAAAAAXRSTlMAQObYZgAAAYJJREFU\n",
       "OMtjYCAT8F3AIcH6AJ+20wwMnOlpB1DEeNTT0tIYajAVM09gYDiWZgJkrWRgEDrArYBq0f///38z\n",
       "cGHo4rSfwMBYwPD+AgMv0I1qDFwLIOITIRQb0NANDKwJ6Lp275/AwPaFgV+BgWMCA+tPuIQvVBsQ\n",
       "HWDgbMCw7v4EBhawtlcMDFwN6NqA4C0Qm2DTBgRAR5YxMPCvuVuCro3TAEik49C2moFhKQPDfFUG\n",
       "pgA0bewOQMILzFoFBhvg2niygOw+oLYPDGw/0bTNBxEvcNh24wHDP6ASBQbWL2jaboGI8zi0cfwE\n",
       "aeNfwMD6F8irWrVKY9Wq1WB5bZzaGA8wMH9laAFGPaZtnN/hjmRXAgMDmLb5P0HaTBkYWDD9xgfW\n",
       "FoXNNqDbmD6CA9mMYQZaSLKAtWGNAN4AhvcJDI9A7ti+Dy3eeL6CyHXousr7lwcwuJcvAYaKALK4\n",
       "L0oSbMCdb1DT61tkDtsFPPltJU6ZWfiyqTROmY34tDHicgrvAdyaAGmKcZuQ/Zg+AAAAAElFTkSu\n",
       "QmCC\n",
       "\" style=\"display:inline;vertical-align:middle;\" /></a><br>(see <a class=\"ProveItLink\" href=\"../__pv_it/481e03d956e112f25bc4934beb536ea4c6e677bf0/dependencies.ipynb\">dependencies</a>)<br>"
      ],
      "text/plain": [
       "add_6_7: (6 + 7) = 13"
      ]
     },
     "execution_count": 2,
     "metadata": {},
     "output_type": "execute_result"
    }
   ],
   "source": [
    "%proving add_6_7 presuming []"
   ]
  },
  {
   "cell_type": "code",
   "execution_count": null,
   "metadata": {},
   "outputs": [],
   "source": []
  }
 ],
 "metadata": {
  "kernelspec": {
   "display_name": "Python 3",
   "language": "python",
   "name": "python3"
  }
 },
 "nbformat": 4,
 "nbformat_minor": 0
}
