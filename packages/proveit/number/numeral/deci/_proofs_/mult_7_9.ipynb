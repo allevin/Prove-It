{
 "cells": [
  {
   "cell_type": "markdown",
   "metadata": {},
   "source": [
    "Proof of <a class=\"ProveItLink\" href=\"../../../../_context_.ipynb\">proveit</a>.<a class=\"ProveItLink\" href=\"../../../_context_.ipynb\">number</a>.<a class=\"ProveItLink\" href=\"../../_context_.ipynb\">numeral</a>.<a class=\"ProveItLink\" href=\"../_context_.ipynb\">deci</a>.<a class=\"ProveItLink\" href=\"../_theorems_.ipynb#mult_7_9\">mult_7_9</a> theorem\n",
    "========"
   ]
  },
  {
   "cell_type": "code",
   "execution_count": 1,
   "metadata": {},
   "outputs": [],
   "source": [
    "import proveit\n",
    "context = proveit.Context('..') # the theorem's context is in the parent directory"
   ]
  },
  {
   "cell_type": "code",
   "execution_count": 2,
   "metadata": {},
   "outputs": [
    {
     "name": "stdout",
     "output_type": "stream",
     "text": [
      "Beginning proof of mult_7_9\n",
      "Recorded 'presuming' information\n",
      "Presuming previous theorems (applied transitively).\n"
     ]
    },
    {
     "data": {
      "text/html": [
       "<strong id=\"mult_7_9\">mult_7_9:</strong> <a class=\"ProveItLink\" href=\"../__pv_it/fc1fefd8b195ad558fd2964992c076a81bde0c4c0/expr.ipynb\"><img src=\"data:image/png;base64,iVBORw0KGgoAAAANSUhEUgAAAGEAAAAVBAMAAACkm51HAAAAMFBMVEX////c3NwiIiJERESqqqqY\n",
       "mJh2dnZmZmYQEBDu7u4yMjJUVFTMzMyIiIi6uroAAAAs73DqAAAAAXRSTlMAQObYZgAAAZ9JREFU\n",
       "OMuVkz1Iw0AUx/+xafphW7Ip6CCKOCgoouBmVqdmctMWhDioVBxaaQcVdNVMUlzaRbB1ER1cO7mI\n",
       "EAQRpNDiKAhSUaGi8V76fQ0Bbwj3/u9+7yt3wP9XyOjWlh2JWwTGNE1rmL7rtQI8ha5jx/F1BLQV\n",
       "hW1zcJum+d3w9CvCHpDlAWECl+hD6AcIGpB04KLhmgOugEWe6Ikij5iCCuDVIQFSs4wqENOR5okI\n",
       "i4qwRbxYwmuzjXegVIZL4Yiz+phYVXHr3BTac6iQNjmievdIQfys+lOyPa2Q28C8AdFqPZmndU4h\n",
       "KypGgRvaH5IrU6uIaj1RxR0Dod3OFD7Tag9BdvyXhCdLzgzRd6lYUhB44wjWcYQKOdJrxLglp+vd\n",
       "sGA8Qe1FjEFWsYp9ivDV4c2jXtXWMK0R2k4zYsHUiZilmbURJVlgad38Tw9TapZoUsYqM8U24l73\n",
       "s6vZNV1X1HeAB4Q+gWdmBj5aLikxQ3Mv8z89lSpDTCRZ917Z7kKnHS67O2qnbji9j5yN5ss6EQM2\n",
       "Wq/sRAg2r7bocP4PRLFqrAkf/hQAAAAASUVORK5CYII=\n",
       "\" style=\"display:inline;vertical-align:middle;\" /></a><br>(see <a class=\"ProveItLink\" href=\"../__pv_it/fc1fefd8b195ad558fd2964992c076a81bde0c4c0/dependencies.ipynb\">dependencies</a>)<br>"
      ],
      "text/plain": [
       "mult_7_9: (7 * 9) = 63"
      ]
     },
     "execution_count": 2,
     "metadata": {},
     "output_type": "execute_result"
    }
   ],
   "source": [
    "%proving mult_7_9 presuming []"
   ]
  },
  {
   "cell_type": "code",
   "execution_count": null,
   "metadata": {},
   "outputs": [],
   "source": []
  }
 ],
 "metadata": {
  "kernelspec": {
   "display_name": "Python 3",
   "language": "python",
   "name": "python3"
  }
 },
 "nbformat": 4,
 "nbformat_minor": 0
}
