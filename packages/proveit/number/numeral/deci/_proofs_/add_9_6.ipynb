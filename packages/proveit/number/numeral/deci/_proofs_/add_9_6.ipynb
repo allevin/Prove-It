{
 "cells": [
  {
   "cell_type": "markdown",
   "metadata": {},
   "source": [
    "Proof of <a class=\"ProveItLink\" href=\"../../../../_context_.ipynb\">proveit</a>.<a class=\"ProveItLink\" href=\"../../../_context_.ipynb\">number</a>.<a class=\"ProveItLink\" href=\"../../_context_.ipynb\">numeral</a>.<a class=\"ProveItLink\" href=\"../_context_.ipynb\">decimal</a>.<a class=\"ProveItLink\" href=\"../_theorems_.ipynb#add_9_6\">add_9_6</a> theorem\n",
    "========"
   ]
  },
  {
   "cell_type": "code",
   "execution_count": 1,
   "metadata": {},
   "outputs": [],
   "source": [
    "import proveit\n",
    "context = proveit.Context('..') # the theorem's context is in the parent directory"
   ]
  },
  {
   "cell_type": "code",
   "execution_count": 2,
   "metadata": {},
   "outputs": [
    {
     "name": "stdout",
     "output_type": "stream",
     "text": [
      "Beginning proof of add_9_6\n",
      "Recorded 'presuming' information\n",
      "Presuming previous theorems (applied transitively).\n"
     ]
    },
    {
     "data": {
      "text/html": [
       "<strong id=\"add_9_6\">add_9_6:</strong> <a class=\"ProveItLink\" href=\"../__pv_it/a2265c42b615b016da7b12b7d0e6302c4e5712950/expr.ipynb\"><img src=\"data:image/png;base64,iVBORw0KGgoAAAANSUhEUgAAAGwAAAAVBAMAAABRZRb3AAAAMFBMVEX////c3NwiIiJERESqqqqY\n",
       "mJh2dnZmZmYQEBDu7u4yMjJUVFTMzMyIiIi6uroAAAAs73DqAAAAAXRSTlMAQObYZgAAAYxJREFU\n",
       "OMudk71Lw0AYxp8ak7QNscVBBAeDoOjWQQUnuylCIbOTk10FpYI6ZOhs6yY6tEspjR+0iw5+ZXMQ\n",
       "sf9AsTiJIFhQQbDVy10VL+1l8F1y97758dz7BfzT+qqCgFz3w26A/dS5xxlKLjvY6vxZygKF7EAc\n",
       "KCGQxmCUD/c7moFwBxWaJVjm6x3Qq5AsaDHm32nHxxDOQ17yUmdXBCueOEAwi0geygcLJNpp0WvI\n",
       "6pC7J1jZPTwBuRj0FoeFGTApxlKgam8cFjmsrZFPsit2UbskdQFUC1KTw3Kj6DGBBfes2tTKv9gM\n",
       "cnVskxwKmPNgLzTbx65qgGbBTUqu3b7ymAGZeO4EmPIJVgtayQ3bHrftA9Bs5aYAkwwoLaRZ6fKc\n",
       "msTU6CPVEWqxHyxoQG1ginS8geE6h/Wy3Ba7qalUhBRZn8AROAzT2DUFDQisYD6KB7c/q3EPpp6S\n",
       "3uDYS61niiauNytkuLghTnAjaIn3hp/X578XpeqzbyVhZM9vTYeEkYofFhA9RXfE0DdYY3T57nrv\n",
       "HwAAAABJRU5ErkJggg==\n",
       "\" style=\"display:inline;vertical-align:middle;\" /></a><br>(see <a class=\"ProveItLink\" href=\"../__pv_it/a2265c42b615b016da7b12b7d0e6302c4e5712950/dependencies.ipynb\">dependencies</a>)<br>"
      ],
      "text/plain": [
       "add_9_6: (9 + 6) = 15"
      ]
     },
     "execution_count": 2,
     "metadata": {},
     "output_type": "execute_result"
    }
   ],
   "source": [
    "%proving add_9_6 presuming []"
   ]
  },
  {
   "cell_type": "code",
   "execution_count": null,
   "metadata": {},
   "outputs": [],
   "source": []
  }
 ],
 "metadata": {
  "kernelspec": {
   "display_name": "Python 3",
   "language": "python",
   "name": "python3"
  }
 },
 "nbformat": 4,
 "nbformat_minor": 0
}
