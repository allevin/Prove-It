{
 "cells": [
  {
   "cell_type": "markdown",
   "metadata": {},
   "source": [
    "Proof of <a class=\"ProveItLink\" href=\"../../../../_context_.ipynb\">proveit</a>.<a class=\"ProveItLink\" href=\"../../../_context_.ipynb\">number</a>.<a class=\"ProveItLink\" href=\"../../_context_.ipynb\">numeral</a>.<a class=\"ProveItLink\" href=\"../_context_.ipynb\">deci</a>.<a class=\"ProveItLink\" href=\"../_theorems_.ipynb#mult_6_7\">mult_6_7</a> theorem\n",
    "========"
   ]
  },
  {
   "cell_type": "code",
   "execution_count": 1,
   "metadata": {},
   "outputs": [],
   "source": [
    "import proveit\n",
    "context = proveit.Context('..') # the theorem's context is in the parent directory"
   ]
  },
  {
   "cell_type": "code",
   "execution_count": 2,
   "metadata": {},
   "outputs": [
    {
     "name": "stdout",
     "output_type": "stream",
     "text": [
      "Beginning proof of mult_6_7\n",
      "Recorded 'presuming' information\n",
      "Presuming previous theorems (applied transitively).\n"
     ]
    },
    {
     "data": {
      "text/html": [
       "<strong id=\"mult_6_7\">mult_6_7:</strong> <a class=\"ProveItLink\" href=\"../__pv_it/c1d47e06e1fcf87955f656da737ff34ebc12b6d20/expr.ipynb\"><img src=\"data:image/png;base64,iVBORw0KGgoAAAANSUhEUgAAAGEAAAAVBAMAAACkm51HAAAAMFBMVEX////c3NwiIiJERESqqqqY\n",
       "mJh2dnZmZmYQEBDu7u4yMjJUVFTMzMyIiIi6uroAAAAs73DqAAAAAXRSTlMAQObYZgAAAYxJREFU\n",
       "OMuVkz9Iw1AQxr9U0zZpYkPXLkXRtVl0dnMRrIuDg3ZKERRClQoudnAQBAm4ZGtBHKqC3UQKtrg6\n",
       "2NFBITi6WEQUB43v0r/khYA3JHf3vV9yd+894P820eZza6HEPSAVjFY/vCsZRj7W4tcpdQi7pw7z\n",
       "akCqlcj0hXXXdeuo8kRERxrqB6CyomYgD5ZsAAlghSceddwAWSBuQfweEfLAJmBzgLCq49BC08Er\n",
       "IJe5UYzN+4morOPKwr6DEpC8fN4Z0U5IN/3EMiOYZS2cAZVpRHJDjehxr6+9c7ILcqW2RyifwDEj\n",
       "OohSK5LlaR2qrOwvCh5Bj19GZCCyqdGbmUqfVzo+YrFLbMMjklWIP8y1vUoj9QBCynuEStoBG0zv\n",
       "H12rmIOqipNkU9RXo9E8amMBgoZZFvb66NobESK/6XEdiglRQ4EFc7CHs1oyA6dLRMowisALC2LX\n",
       "t0PlgWDZ4Xaw+ZXLuu47Q7WgA22HHHYxH5TdCrsftYCcVA0j0gG5hBZGCAG39ilk/R/LymGkPeCj\n",
       "7AAAAABJRU5ErkJggg==\n",
       "\" style=\"display:inline;vertical-align:middle;\" /></a><br>(see <a class=\"ProveItLink\" href=\"../__pv_it/c1d47e06e1fcf87955f656da737ff34ebc12b6d20/dependencies.ipynb\">dependencies</a>)<br>"
      ],
      "text/plain": [
       "mult_6_7: (6 * 7) = 42"
      ]
     },
     "execution_count": 2,
     "metadata": {},
     "output_type": "execute_result"
    }
   ],
   "source": [
    "%proving mult_6_7 presuming []"
   ]
  },
  {
   "cell_type": "code",
   "execution_count": null,
   "metadata": {},
   "outputs": [],
   "source": []
  }
 ],
 "metadata": {
  "kernelspec": {
   "display_name": "Python 3",
   "language": "python",
   "name": "python3"
  }
 },
 "nbformat": 4,
 "nbformat_minor": 0
}
