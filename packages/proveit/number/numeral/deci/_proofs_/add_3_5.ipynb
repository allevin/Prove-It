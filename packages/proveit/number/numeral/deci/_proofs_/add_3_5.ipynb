{
 "cells": [
  {
   "cell_type": "markdown",
   "metadata": {},
   "source": [
    "Proof of <a class=\"ProveItLink\" href=\"../../../../_context_.ipynb\">proveit</a>.<a class=\"ProveItLink\" href=\"../../../_context_.ipynb\">number</a>.<a class=\"ProveItLink\" href=\"../../_context_.ipynb\">numeral</a>.<a class=\"ProveItLink\" href=\"../_context_.ipynb\">decimal</a>.<a class=\"ProveItLink\" href=\"../_theorems_.ipynb#add_3_5\">add_3_5</a> theorem\n",
    "========"
   ]
  },
  {
   "cell_type": "code",
   "execution_count": 1,
   "metadata": {},
   "outputs": [],
   "source": [
    "import proveit\n",
    "context = proveit.Context('..') # the theorem's context is in the parent directory"
   ]
  },
  {
   "cell_type": "code",
   "execution_count": 2,
   "metadata": {},
   "outputs": [
    {
     "name": "stdout",
     "output_type": "stream",
     "text": [
      "Beginning proof of add_3_5\n",
      "Recorded 'presuming' information\n",
      "Presuming previous theorems (applied transitively).\n"
     ]
    },
    {
     "data": {
      "text/html": [
       "<strong id=\"add_3_5\">add_3_5:</strong> <a class=\"ProveItLink\" href=\"../__pv_it/9b71a0e00a2303194413df38d885188fe870e8840/expr.ipynb\"><img src=\"data:image/png;base64,iVBORw0KGgoAAAANSUhEUgAAAGEAAAAVBAMAAACkm51HAAAAMFBMVEX////c3NwiIiJERESqqqqY\n",
       "mJh2dnZmZmYQEBDu7u4yMjJUVFTMzMyIiIi6uroAAAAs73DqAAAAAXRSTlMAQObYZgAAAYNJREFU\n",
       "OMuVkzEsQ0EYx//Pa/v62kffZjAQk1GEvROJpNEFMZAO0iZodKEJEioWizymbjow9BnYEEsni6Wj\n",
       "BMmLUSJFaujS5+u9St+d3uAb7r7vu/vd99333QH/l76qZGFJRjwA9+lx3hdZUJahVcStejoTp6kM\n",
       "JYcaHyjsuimgJBIasAH0VhGqIzbk+Y7bMbbXaJwTiVnghI6zEOgQCW+KsrEoEquMeGP6b1YcocYF\n",
       "YuYWWWCT6RfgiZcnBwjlBEJ1F+l656QZK1c8oVp6Ewiwq2s2E7Zj98sEjtiWR4cjSG6oU3tCjODO\n",
       "ZR1oeuVsiMR6BcaHQMwj6FotQqlA/SbHlm2P2HbrSmNEOH+JQ2AwiQPgtOERnRj7lLLZzkobZjJK\n",
       "LSdbq2ICiJXQ88kRVCSb0habXqAqmshQ25OopTiiH4FCl+pOW5gEXkmbyp/x1TXyd1TGiCM+8+s8\n",
       "NTVs+n0Jv1Hs/tiDKb/17jeykv9Rln0cvSRZGJARUVOyoMh+7XN39w++C12MukFyIAAAAABJRU5E\n",
       "rkJggg==\n",
       "\" style=\"display:inline;vertical-align:middle;\" /></a><br>(see <a class=\"ProveItLink\" href=\"../__pv_it/9b71a0e00a2303194413df38d885188fe870e8840/dependencies.ipynb\">dependencies</a>)<br>"
      ],
      "text/plain": [
       "add_3_5: (3 + 5) = 8"
      ]
     },
     "execution_count": 2,
     "metadata": {},
     "output_type": "execute_result"
    }
   ],
   "source": [
    "%proving add_3_5 presuming []"
   ]
  },
  {
   "cell_type": "code",
   "execution_count": null,
   "metadata": {},
   "outputs": [],
   "source": []
  }
 ],
 "metadata": {
  "kernelspec": {
   "display_name": "Python 3",
   "language": "python",
   "name": "python3"
  }
 },
 "nbformat": 4,
 "nbformat_minor": 0
}
