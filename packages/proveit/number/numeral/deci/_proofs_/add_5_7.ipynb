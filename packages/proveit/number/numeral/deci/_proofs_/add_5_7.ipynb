{
 "cells": [
  {
   "cell_type": "markdown",
   "metadata": {},
   "source": [
    "Proof of <a class=\"ProveItLink\" href=\"../../../../_context_.ipynb\">proveit</a>.<a class=\"ProveItLink\" href=\"../../../_context_.ipynb\">number</a>.<a class=\"ProveItLink\" href=\"../../_context_.ipynb\">numeral</a>.<a class=\"ProveItLink\" href=\"../_context_.ipynb\">decimal</a>.<a class=\"ProveItLink\" href=\"../_theorems_.ipynb#add_5_7\">add_5_7</a> theorem\n",
    "========"
   ]
  },
  {
   "cell_type": "code",
   "execution_count": 1,
   "metadata": {},
   "outputs": [],
   "source": [
    "import proveit\n",
    "context = proveit.Context('..') # the theorem's context is in the parent directory"
   ]
  },
  {
   "cell_type": "code",
   "execution_count": 2,
   "metadata": {},
   "outputs": [
    {
     "name": "stdout",
     "output_type": "stream",
     "text": [
      "Beginning proof of add_5_7\n",
      "Recorded 'presuming' information\n",
      "Presuming previous theorems (applied transitively).\n"
     ]
    },
    {
     "data": {
      "text/html": [
       "<strong id=\"add_5_7\">add_5_7:</strong> <a class=\"ProveItLink\" href=\"../__pv_it/5fefd3cbc63aca6284012fa73430377a3731bce20/expr.ipynb\"><img src=\"data:image/png;base64,iVBORw0KGgoAAAANSUhEUgAAAGwAAAAVBAMAAABRZRb3AAAAMFBMVEX////c3NwiIiJERESqqqqY\n",
       "mJh2dnZmZmYQEBDu7u4yMjJUVFTMzMyIiIi6uroAAAAs73DqAAAAAXRSTlMAQObYZgAAAX9JREFU\n",
       "OMtjYCAT8F3AIcH6AJ+20wwMSyeIOaCI8ainpaUx1GAqZp7AwCBeZQdkrWRg6P//Dc2i/////2bg\n",
       "wtDFaT+BgXEDw30HBl6gG5dvOwAVnwih2ICGbmBgTUDXtXv/BAbuCQxMHxg4wCpgwBeqDYgOMHA2\n",
       "YFh3fwIDRycD9z+GVwxYtAHBWyA2waaN6ycD+z+GMiBn79196No4DYBEOjZtQMD0k2EpkLJkmP8A\n",
       "TRs7KGi9wKxVYLABSdv5BIY+MJe7AU3bfBDxAodtixkY/kHC4A+atltgU7FrYzcAa2NWYGAD6a5a\n",
       "tUpj1arVYHltPNpuA3ELAwOHAgP7R1TbOL/DHcmuBAYGcG0sBQyCDKZACQYGrgWo2vjA2qKw2nac\n",
       "gSEQFMiMBQweAqjaWMDasEYAo1paugLDIyDnePVGtHjj+Qoi16HrKu9fHsAETK8KDBwCyOK+KEmw\n",
       "AXe+QU2vb5E5bBfw5LeVOGVm4cum0jhlNuLTxojLKbwHcGsCAM7nbSYRH+vFAAAAAElFTkSuQmCC\n",
       "\" style=\"display:inline;vertical-align:middle;\" /></a><br>(see <a class=\"ProveItLink\" href=\"../__pv_it/5fefd3cbc63aca6284012fa73430377a3731bce20/dependencies.ipynb\">dependencies</a>)<br>"
      ],
      "text/plain": [
       "add_5_7: (5 + 7) = 12"
      ]
     },
     "execution_count": 2,
     "metadata": {},
     "output_type": "execute_result"
    }
   ],
   "source": [
    "%proving add_5_7 presuming []"
   ]
  },
  {
   "cell_type": "code",
   "execution_count": null,
   "metadata": {},
   "outputs": [],
   "source": []
  }
 ],
 "metadata": {
  "kernelspec": {
   "display_name": "Python 3",
   "language": "python",
   "name": "python3"
  }
 },
 "nbformat": 4,
 "nbformat_minor": 0
}
