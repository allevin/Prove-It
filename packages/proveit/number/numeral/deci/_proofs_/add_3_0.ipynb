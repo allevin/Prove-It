{
 "cells": [
  {
   "cell_type": "markdown",
   "metadata": {},
   "source": [
    "Proof of <a class=\"ProveItLink\" href=\"../../../../_context_.ipynb\">proveit</a>.<a class=\"ProveItLink\" href=\"../../../_context_.ipynb\">number</a>.<a class=\"ProveItLink\" href=\"../../_context_.ipynb\">numeral</a>.<a class=\"ProveItLink\" href=\"../_context_.ipynb\">decimal</a>.<a class=\"ProveItLink\" href=\"../_theorems_.ipynb#add_3_0\">add_3_0</a> theorem\n",
    "========"
   ]
  },
  {
   "cell_type": "code",
   "execution_count": 1,
   "metadata": {},
   "outputs": [],
   "source": [
    "import proveit\n",
    "context = proveit.Context('..') # the theorem's context is in the parent directory"
   ]
  },
  {
   "cell_type": "code",
   "execution_count": 2,
   "metadata": {},
   "outputs": [
    {
     "name": "stdout",
     "output_type": "stream",
     "text": [
      "Beginning proof of add_3_0\n",
      "Recorded 'presuming' information\n",
      "Presuming previous theorems (applied transitively).\n"
     ]
    },
    {
     "data": {
      "text/html": [
       "<strong id=\"add_3_0\">add_3_0:</strong> <a class=\"ProveItLink\" href=\"../__pv_it/89426a2c5d660e1362a3c9bc60aa61195228ce660/expr.ipynb\"><img src=\"data:image/png;base64,iVBORw0KGgoAAAANSUhEUgAAAGEAAAAVBAMAAACkm51HAAAAMFBMVEX////c3NwiIiJERESqqqqY\n",
       "mJh2dnZmZmYQEBDu7u4yMjJUVFTMzMyIiIi6uroAAAAs73DqAAAAAXRSTlMAQObYZgAAAXhJREFU\n",
       "OMuVk79Lw0AUx7/pD5PUNs3moIM4CQo66Gy2TqWZHKUoVBDETi0UBAdH0bp1s4MOTZf+CZm6OFgE\n",
       "UdShOApSFX9QwR8vl4hJLjd4y7337n3u3o97wP+X1hMcrIiIU6BbWgja1O1LG7Iddk2X1gzaWpDK\n",
       "GAQfivXVWaAZJsagfQKZHkZekJ10bYfudg5cA8thYsvAM6DUkfgj8u42Awx0NMJEgRH3TP6NyiPe\n",
       "gTMDcYMvE0VVYVIbfkJ6I4KiLXNEqgOcODXY6PBEEQmWumyxxTy6zs37zOeqH0FoO9wbGXL/YpIy\n",
       "jIgq/ch376DuEJKN+CtpNcuatqy2l7nJExPAkold4GjoEoHqFnQvKnmKrXn6Cd91h1gEsk3EngIE\n",
       "dXAVSIab/gHM6VindEwMigEiZqh74Kt7AY0yvCMpVz0OVBdq5Ya+YaofIhLVGjVV0f22vF9pRH/2\n",
       "ZNGvPfiVTcF8tESDozYFB+MiYlQXHEiiqb2NNv8Akghlgo87lwIAAAAASUVORK5CYII=\n",
       "\" style=\"display:inline;vertical-align:middle;\" /></a><br>(see <a class=\"ProveItLink\" href=\"../__pv_it/89426a2c5d660e1362a3c9bc60aa61195228ce660/dependencies.ipynb\">dependencies</a>)<br>"
      ],
      "text/plain": [
       "add_3_0: (3 + 0) = 3"
      ]
     },
     "execution_count": 2,
     "metadata": {},
     "output_type": "execute_result"
    }
   ],
   "source": [
    "%proving add_3_0 presuming []"
   ]
  },
  {
   "cell_type": "code",
   "execution_count": null,
   "metadata": {},
   "outputs": [],
   "source": []
  }
 ],
 "metadata": {
  "kernelspec": {
   "display_name": "Python 3",
   "language": "python",
   "name": "python3"
  }
 },
 "nbformat": 4,
 "nbformat_minor": 0
}
