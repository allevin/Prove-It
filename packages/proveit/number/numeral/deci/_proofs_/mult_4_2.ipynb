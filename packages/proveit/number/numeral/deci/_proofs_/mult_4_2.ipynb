{
 "cells": [
  {
   "cell_type": "markdown",
   "metadata": {},
   "source": [
    "Proof of <a class=\"ProveItLink\" href=\"../../../../_context_.ipynb\">proveit</a>.<a class=\"ProveItLink\" href=\"../../../_context_.ipynb\">number</a>.<a class=\"ProveItLink\" href=\"../../_context_.ipynb\">numeral</a>.<a class=\"ProveItLink\" href=\"../_context_.ipynb\">deci</a>.<a class=\"ProveItLink\" href=\"../_theorems_.ipynb#mult_4_2\">mult_4_2</a> theorem\n",
    "========"
   ]
  },
  {
   "cell_type": "code",
   "execution_count": 1,
   "metadata": {},
   "outputs": [],
   "source": [
    "import proveit\n",
    "context = proveit.Context('..') # the theorem's context is in the parent directory"
   ]
  },
  {
   "cell_type": "code",
   "execution_count": 2,
   "metadata": {},
   "outputs": [
    {
     "name": "stdout",
     "output_type": "stream",
     "text": [
      "Beginning proof of mult_4_2\n",
      "Recorded 'presuming' information\n",
      "Presuming previous theorems (applied transitively).\n"
     ]
    },
    {
     "data": {
      "text/html": [
       "<strong id=\"mult_4_2\">mult_4_2:</strong> <a class=\"ProveItLink\" href=\"../__pv_it/14f97a68e6bdab03fe9df618759130e5951a87630/expr.ipynb\"><img src=\"data:image/png;base64,iVBORw0KGgoAAAANSUhEUgAAAFcAAAAVBAMAAADBdm84AAAAMFBMVEX////c3NwiIiJERESqqqqY\n",
       "mJh2dnZmZmYQEBDu7u4yMjJUVFTMzMyIiIi6uroAAAAs73DqAAAAAXRSTlMAQObYZgAAAWZJREFU\n",
       "KM+Vk7FLw0AUxr9QYxvbyCE4dVD0D2gX904KOuiiTkqmdJBCqdSCCFV00EUOB8kiLQSH6lA3KUXs\n",
       "7tI/wCE4OkkRcTLeXeRarpfBN1xevvx4vPveC/CvmO6Pa7tx8Is8RBg1P0Cyp1KWWyywR4vni1LN\n",
       "wv4EmiqcBKqAzbuwT6XaAXLAlgpvAldAirJ01pfqOcVzAE+F9wT8zlNnCLcp6gESBQVe76AEHLDM\n",
       "JP7ohxzFZFmBE+GOA9yy7AajcOYLmBA3PLzjcS/U+oAAl7yLCLaokKfyzPxjpbJ51GYm/bAyvQhu\n",
       "zAt9n1f/UOBtmCHl8DUi2Mvz037QwRfA3AbOgLVu9/tJyiswyF8blQUefGAWe0/2sSSI4VAyZWYO\n",
       "THWEJ0CaoKjAM65bwbh1qxTLwJuYT1iVJofhgDkSqLv5WGNzShHdKnr6DTUdnVqK2eeWRrOaMXBW\n",
       "o6VJDGxofqtXPfoLtAtS3wekeewAAAAASUVORK5CYII=\n",
       "\" style=\"display:inline;vertical-align:middle;\" /></a><br>(see <a class=\"ProveItLink\" href=\"../__pv_it/14f97a68e6bdab03fe9df618759130e5951a87630/dependencies.ipynb\">dependencies</a>)<br>"
      ],
      "text/plain": [
       "mult_4_2: (4 * 2) = 8"
      ]
     },
     "execution_count": 2,
     "metadata": {},
     "output_type": "execute_result"
    }
   ],
   "source": [
    "%proving mult_4_2 presuming []"
   ]
  },
  {
   "cell_type": "code",
   "execution_count": null,
   "metadata": {},
   "outputs": [],
   "source": []
  }
 ],
 "metadata": {
  "kernelspec": {
   "display_name": "Python 3",
   "language": "python",
   "name": "python3"
  }
 },
 "nbformat": 4,
 "nbformat_minor": 0
}
