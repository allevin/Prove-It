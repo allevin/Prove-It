{
 "cells": [
  {
   "cell_type": "markdown",
   "metadata": {},
   "source": [
    "Proof of <a class=\"ProveItLink\" href=\"../../../../_context_.ipynb\">proveit</a>.<a class=\"ProveItLink\" href=\"../../../_context_.ipynb\">number</a>.<a class=\"ProveItLink\" href=\"../../_context_.ipynb\">numeral</a>.<a class=\"ProveItLink\" href=\"../_context_.ipynb\">deci</a>.<a class=\"ProveItLink\" href=\"../_theorems_.ipynb#mult_3_4\">mult_3_4</a> theorem\n",
    "========"
   ]
  },
  {
   "cell_type": "code",
   "execution_count": 1,
   "metadata": {},
   "outputs": [],
   "source": [
    "import proveit\n",
    "context = proveit.Context('..') # the theorem's context is in the parent directory"
   ]
  },
  {
   "cell_type": "code",
   "execution_count": 2,
   "metadata": {},
   "outputs": [
    {
     "name": "stdout",
     "output_type": "stream",
     "text": [
      "Beginning proof of mult_3_4\n",
      "Recorded 'presuming' information\n",
      "Presuming previous theorems (applied transitively).\n"
     ]
    },
    {
     "data": {
      "text/html": [
       "<strong id=\"mult_3_4\">mult_3_4:</strong> <a class=\"ProveItLink\" href=\"../__pv_it/612f300d66f09dbf02081117746b0745e8838d670/expr.ipynb\"><img src=\"data:image/png;base64,iVBORw0KGgoAAAANSUhEUgAAAGEAAAAVBAMAAACkm51HAAAAMFBMVEX////c3NwiIiJERESqqqqY\n",
       "mJh2dnZmZmYQEBDu7u4yMjJUVFTMzMyIiIi6uroAAAAs73DqAAAAAXRSTlMAQObYZgAAAXNJREFU\n",
       "OMuVkz1Lw1AUht/0I21q0gbXLqI/oA46uLm5ONTFwUE6VRCEUtGKiw4OgiABl4KDAXVoO9hVOrST\n",
       "i0tGB4fg6FKVqtTBek4qJm0uFzzTPe+5z/niXuD/lnbC2rqUuAfuinMBQW8i0QnfWwCUyqVLpxqU\n",
       "ErqBQpFZwA4BZ30gC6MHGA7UHjJTfuyBiNVx4LxFxC2QA5IWYiOEskZENVTDIOLYQtvFs+cHulJT\n",
       "REQXRcSNhQMXu57f8EMrTKglEUGWs3DN29ls/kU0h4mYN/p+na0RIPQP4HQ4LW9Ns7gpMJE+FNfg\n",
       "2LfnJ9m/4PGXPVV/ERPb8Ailg+g7Hat0VSvICIO7P6Lc/SHBFmu12ifOb1flabYZn1iCYmIeyNiI\n",
       "vPrZklQjbotq6CXETWyQk0e3MEqItztZLJaBJy5WufJDavszj5Q7BiT2vnaQGwzeKKMpetBVyWOP\n",
       "F0Tqlux/1ASaZsuIrECbMGWEIvi1j5L7PwSFYx4UvAIgAAAAAElFTkSuQmCC\n",
       "\" style=\"display:inline;vertical-align:middle;\" /></a><br>(see <a class=\"ProveItLink\" href=\"../__pv_it/612f300d66f09dbf02081117746b0745e8838d670/dependencies.ipynb\">dependencies</a>)<br>"
      ],
      "text/plain": [
       "mult_3_4: (3 * 4) = 12"
      ]
     },
     "execution_count": 2,
     "metadata": {},
     "output_type": "execute_result"
    }
   ],
   "source": [
    "%proving mult_3_4 presuming []"
   ]
  },
  {
   "cell_type": "code",
   "execution_count": null,
   "metadata": {},
   "outputs": [],
   "source": []
  }
 ],
 "metadata": {
  "kernelspec": {
   "display_name": "Python 3",
   "language": "python",
   "name": "python3"
  }
 },
 "nbformat": 4,
 "nbformat_minor": 0
}
