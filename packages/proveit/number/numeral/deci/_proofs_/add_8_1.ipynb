{
 "cells": [
  {
   "cell_type": "markdown",
   "metadata": {},
   "source": [
    "Proof of <a class=\"ProveItLink\" href=\"../../../../_context_.ipynb\">proveit</a>.<a class=\"ProveItLink\" href=\"../../../_context_.ipynb\">number</a>.<a class=\"ProveItLink\" href=\"../../_context_.ipynb\">numeral</a>.<a class=\"ProveItLink\" href=\"../_context_.ipynb\">decimal</a>.<a class=\"ProveItLink\" href=\"../_theorems_.ipynb#add_8_1\">add_8_1</a> theorem\n",
    "========"
   ]
  },
  {
   "cell_type": "code",
   "execution_count": 1,
   "metadata": {},
   "outputs": [],
   "source": [
    "import proveit\n",
    "context = proveit.Context('..') # the theorem's context is in the parent directory"
   ]
  },
  {
   "cell_type": "code",
   "execution_count": 2,
   "metadata": {},
   "outputs": [
    {
     "name": "stdout",
     "output_type": "stream",
     "text": [
      "Beginning proof of add_8_1\n",
      "Recorded 'presuming' information\n",
      "Presuming previous theorems (applied transitively).\n"
     ]
    },
    {
     "data": {
      "text/html": [
       "<strong id=\"add_8_1\">add_8_1:</strong> <a class=\"ProveItLink\" href=\"../__pv_it/0f1c7621a1020127e9590563ef62a661646f14f20/expr.ipynb\"><img src=\"data:image/png;base64,iVBORw0KGgoAAAANSUhEUgAAAGEAAAAVBAMAAACkm51HAAAAMFBMVEX////c3NwiIiJERESqqqqY\n",
       "mJh2dnZmZmYQEBDu7u4yMjJUVFTMzMyIiIi6uroAAAAs73DqAAAAAXRSTlMAQObYZgAAAVxJREFU\n",
       "OMtjYCAd8F3AIRGHS8dpBoZpaSXoopYMDOwH0AU5t2eDxFYyMBQwsAegyk3+CSQWoOuQcGBsZGDg\n",
       "vcDAGsDAqQARmwihZu8G6QhD12HBwLCZgYFjAgPbBrgOX6gcL0jHDHQdvxgY8icwvGJgYPk9ge0C\n",
       "Fh3MDmje+MzAcP8BQxmQaf/1GgMWHWwFWOwIYFgKZLH/V8SmgwXsdfZVYLAByKwAGn6BoQ/ICj/1\n",
       "3wGLDr4GNDtmBbDUX2D4x8DAWsAQ/xOLDp4P6F6PvXPfAaQDGFyMX4H8qlWrNFatWo1HBzisWiCh\n",
       "WIvTVexKYGAAkVjFwGAKtEOAgWEjFh2s6JF+X4AR6KR0YJisZGBJICZ0L03gAsbbIyDrdXkJauiy\n",
       "V/wqZWDgeoCmg63chAHiJATwRebMwJ7YWROQeW+RObk48sdKXBmHcwEOCWlcOrgFcEgw4sq1d7AL\n",
       "AwBM/2FWhEyviwAAAABJRU5ErkJggg==\n",
       "\" style=\"display:inline;vertical-align:middle;\" /></a><br>(see <a class=\"ProveItLink\" href=\"../__pv_it/0f1c7621a1020127e9590563ef62a661646f14f20/dependencies.ipynb\">dependencies</a>)<br>"
      ],
      "text/plain": [
       "add_8_1: (8 + 1) = 9"
      ]
     },
     "execution_count": 2,
     "metadata": {},
     "output_type": "execute_result"
    }
   ],
   "source": [
    "%proving add_8_1 presuming []"
   ]
  },
  {
   "cell_type": "code",
   "execution_count": null,
   "metadata": {},
   "outputs": [],
   "source": []
  }
 ],
 "metadata": {
  "kernelspec": {
   "display_name": "Python 3",
   "language": "python",
   "name": "python3"
  }
 },
 "nbformat": 4,
 "nbformat_minor": 0
}
