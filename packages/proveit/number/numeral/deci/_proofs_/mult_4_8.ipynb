{
 "cells": [
  {
   "cell_type": "markdown",
   "metadata": {},
   "source": [
    "Proof of <a class=\"ProveItLink\" href=\"../../../../_context_.ipynb\">proveit</a>.<a class=\"ProveItLink\" href=\"../../../_context_.ipynb\">number</a>.<a class=\"ProveItLink\" href=\"../../_context_.ipynb\">numeral</a>.<a class=\"ProveItLink\" href=\"../_context_.ipynb\">deci</a>.<a class=\"ProveItLink\" href=\"../_theorems_.ipynb#mult_4_8\">mult_4_8</a> theorem\n",
    "========"
   ]
  },
  {
   "cell_type": "code",
   "execution_count": 1,
   "metadata": {},
   "outputs": [],
   "source": [
    "import proveit\n",
    "context = proveit.Context('..') # the theorem's context is in the parent directory"
   ]
  },
  {
   "cell_type": "code",
   "execution_count": 2,
   "metadata": {},
   "outputs": [
    {
     "name": "stdout",
     "output_type": "stream",
     "text": [
      "Beginning proof of mult_4_8\n",
      "Recorded 'presuming' information\n",
      "Presuming previous theorems (applied transitively).\n"
     ]
    },
    {
     "data": {
      "text/html": [
       "<strong id=\"mult_4_8\">mult_4_8:</strong> <a class=\"ProveItLink\" href=\"../__pv_it/f4364490df54fcdfa415b384998d5948db56df7a0/expr.ipynb\"><img src=\"data:image/png;base64,iVBORw0KGgoAAAANSUhEUgAAAGEAAAAVBAMAAACkm51HAAAAMFBMVEX////c3NwiIiJERESqqqqY\n",
       "mJh2dnZmZmYQEBDu7u4yMjJUVFTMzMyIiIi6uroAAAAs73DqAAAAAXRSTlMAQObYZgAAAZlJREFU\n",
       "OMuVk79Lw0AUxz+lxtralCCIQwVF/4C6OJtJQYd2USelINRBRKloQYQqOuiiwUG6iIXiUB3qJiKi\n",
       "k4tLFzeH4ugkRYoINd6lmkISAr7hfrx7n7t373sH/7dY1e2b9yWe7MaycGZRJ/TgjIpmFnQCuVJN\n",
       "jMvSMWwvhWAdik6ij1iTOOoHqDIpdddemoZjmHESKzp1biABXYaY95bspSWLKDiJpCT2De5rvMl5\n",
       "uk0kb1iGoO6uUJOKQb7GhpgoWpsImnNp6Fx1EZEr2SYMzkV3SpsgX9egw7r65oW0S8v9aHXRBhzK\n",
       "pFpEWF5J2aqIesS2XWeoMjIyAt9iw4cWcTYomlkU0yD67hbuSGy4hkWc0CIKYgMOYCDlJvphLIUq\n",
       "77IHU7e3n3d/kot0QtXfrLJD0qS6YXGuICYIaIxagW0Fd6BbQ3GK/iXKpEVXRVlZdBCTBuMe1X0m\n",
       "1qAnk8nCqyW0uW4LdZ0T6kVqDqIjt6mTMM26eCWa14Mu+Dx2Je3lXfb7H2UPX7joR8Q9fN2aHxHw\n",
       "+LUvPvE/HchkQf9C9LcAAAAASUVORK5CYII=\n",
       "\" style=\"display:inline;vertical-align:middle;\" /></a><br>(see <a class=\"ProveItLink\" href=\"../__pv_it/f4364490df54fcdfa415b384998d5948db56df7a0/dependencies.ipynb\">dependencies</a>)<br>"
      ],
      "text/plain": [
       "mult_4_8: (4 * 8) = 32"
      ]
     },
     "execution_count": 2,
     "metadata": {},
     "output_type": "execute_result"
    }
   ],
   "source": [
    "%proving mult_4_8 presuming []"
   ]
  },
  {
   "cell_type": "code",
   "execution_count": null,
   "metadata": {},
   "outputs": [],
   "source": []
  }
 ],
 "metadata": {
  "kernelspec": {
   "display_name": "Python 3",
   "language": "python",
   "name": "python3"
  }
 },
 "nbformat": 4,
 "nbformat_minor": 0
}
