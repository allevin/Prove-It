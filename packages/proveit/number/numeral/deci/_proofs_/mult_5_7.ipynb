{
 "cells": [
  {
   "cell_type": "markdown",
   "metadata": {},
   "source": [
    "Proof of <a class=\"ProveItLink\" href=\"../../../../_context_.ipynb\">proveit</a>.<a class=\"ProveItLink\" href=\"../../../_context_.ipynb\">number</a>.<a class=\"ProveItLink\" href=\"../../_context_.ipynb\">numeral</a>.<a class=\"ProveItLink\" href=\"../_context_.ipynb\">deci</a>.<a class=\"ProveItLink\" href=\"../_theorems_.ipynb#mult_5_7\">mult_5_7</a> theorem\n",
    "========"
   ]
  },
  {
   "cell_type": "code",
   "execution_count": 1,
   "metadata": {},
   "outputs": [],
   "source": [
    "import proveit\n",
    "context = proveit.Context('..') # the theorem's context is in the parent directory"
   ]
  },
  {
   "cell_type": "code",
   "execution_count": 2,
   "metadata": {},
   "outputs": [
    {
     "name": "stdout",
     "output_type": "stream",
     "text": [
      "Beginning proof of mult_5_7\n",
      "Recorded 'presuming' information\n",
      "Presuming previous theorems (applied transitively).\n"
     ]
    },
    {
     "data": {
      "text/html": [
       "<strong id=\"mult_5_7\">mult_5_7:</strong> <a class=\"ProveItLink\" href=\"../__pv_it/62521e4695e58fcbdd4cef1754708daf0c67be3b0/expr.ipynb\"><img src=\"data:image/png;base64,iVBORw0KGgoAAAANSUhEUgAAAGEAAAAVBAMAAACkm51HAAAAMFBMVEX////c3NwiIiJERESqqqqY\n",
       "mJh2dnZmZmYQEBDu7u4yMjJUVFTMzMyIiIi6uroAAAAs73DqAAAAAXRSTlMAQObYZgAAAZhJREFU\n",
       "OMuVk79Lw0AUx781/ZWmLZl00KHoH6AIDk5mdLOT4KIFpSIoDSIttINVnG3ApVu7iLQucRFBlOKg\n",
       "g4MuTloIji5Whw5ie76L2tQkBDy45L33vc/L5b074P8jfu+MLXoSt8ChNqj8ulfZdDoVathXRdPL\n",
       "CiILvhWya0CJtXvSEmNMR9VODCHeQZixFBCjTR2dWjnXAAmYtxMZBe+IFNbJDGuA3idREgqX7cQc\n",
       "JyTTfMFf4rsUguKsUOeHyNK8aF72SQc0g6qDiOiQmo8G1YmcaVQMS9qi6Td/PV/n49iMXtNL0MQu\n",
       "sG/6UpEeosZNscW3UHR8I2auPAO6phv8pEclYSo8fbTlbFyJJ8w0OCEkEORgeYILA7obMQLMJCeJ\n",
       "MLBHBU4g9NbTKmpvV5ujfIzxrTKNiF1gW8YUEKJCWE1+5UTA3vQPYFwmpQ6sAj4Vs7LVK9Wtug+I\n",
       "t+mo+HeAZ3JvCieWdpfkxTdshD+XVxDNnVPmsOx2oMsehz2QcotueN2PmktMrHoRwy4xSfYifC63\n",
       "9slj/ReV/WR2MvwMhQAAAABJRU5ErkJggg==\n",
       "\" style=\"display:inline;vertical-align:middle;\" /></a><br>(see <a class=\"ProveItLink\" href=\"../__pv_it/62521e4695e58fcbdd4cef1754708daf0c67be3b0/dependencies.ipynb\">dependencies</a>)<br>"
      ],
      "text/plain": [
       "mult_5_7: (5 * 7) = 35"
      ]
     },
     "execution_count": 2,
     "metadata": {},
     "output_type": "execute_result"
    }
   ],
   "source": [
    "%proving mult_5_7 presuming []"
   ]
  },
  {
   "cell_type": "code",
   "execution_count": null,
   "metadata": {},
   "outputs": [],
   "source": []
  }
 ],
 "metadata": {
  "kernelspec": {
   "display_name": "Python 3",
   "language": "python",
   "name": "python3"
  }
 },
 "nbformat": 4,
 "nbformat_minor": 0
}
