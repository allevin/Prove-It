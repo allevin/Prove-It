{
 "cells": [
  {
   "cell_type": "markdown",
   "metadata": {},
   "source": [
    "Proof of <a class=\"ProveItLink\" href=\"../../../../_context_.ipynb\">proveit</a>.<a class=\"ProveItLink\" href=\"../../../_context_.ipynb\">number</a>.<a class=\"ProveItLink\" href=\"../../_context_.ipynb\">numeral</a>.<a class=\"ProveItLink\" href=\"../_context_.ipynb\">deci</a>.<a class=\"ProveItLink\" href=\"../_theorems_.ipynb#mult_6_5\">mult_6_5</a> theorem\n",
    "========"
   ]
  },
  {
   "cell_type": "code",
   "execution_count": 1,
   "metadata": {},
   "outputs": [],
   "source": [
    "import proveit\n",
    "context = proveit.Context('..') # the theorem's context is in the parent directory"
   ]
  },
  {
   "cell_type": "code",
   "execution_count": 2,
   "metadata": {},
   "outputs": [
    {
     "name": "stdout",
     "output_type": "stream",
     "text": [
      "Beginning proof of mult_6_5\n",
      "Recorded 'presuming' information\n",
      "Presuming previous theorems (applied transitively).\n"
     ]
    },
    {
     "data": {
      "text/html": [
       "<strong id=\"mult_6_5\">mult_6_5:</strong> <a class=\"ProveItLink\" href=\"../__pv_it/76755dea86f4c58f182bd2644889935773e637ba0/expr.ipynb\"><img src=\"data:image/png;base64,iVBORw0KGgoAAAANSUhEUgAAAGEAAAAVBAMAAACkm51HAAAAMFBMVEX////c3NwiIiJERESqqqqY\n",
       "mJh2dnZmZmYQEBDu7u4yMjJUVFTMzMyIiIi6uroAAAAs73DqAAAAAXRSTlMAQObYZgAAAaJJREFU\n",
       "OMuVk79Lw0AUx7/9Edukv4KLgw5F0UVBEXQ1/0EzCS5SVNpFUURaqIhVHKXGrVu7OLR1cFMQJJOL\n",
       "g0UQwVoIji4WkYpCre/S1EoSAr7hjnvvPnfvfe8d8H8LV62+RUfiBuCTCbW7FBZcK/Cp5l3BxLIE\n",
       "fueBBUpAvxqIdkP+djsOFM3EAMItuDV+AghRUmMQfrcI26s0zpuJdQlvuAMe6UwF3OefUEAf82Yi\n",
       "xohx4FXECx2btRAeyapQCx/ArYQUEDmtb/WIek0D+jYshHDmahJRxQlQGIVb7gY8Cv8NePW6MmVm\n",
       "Fd1/XYFOxJEjooE+VgqvdKALSiFruSOUMwg6sBAF9w597uiiItiwPtzRcScrIiJFcC0m0BQN00Ro\n",
       "VmIImJNZ5TIOKHXjDt32gV3RyGpzmNkIS7itEEHqxkTMUJlGHbqRSGWAMz/6FzAp0gsuAUlaziIv\n",
       "99rBu2ej7j3CTbgl/hB4pqXv/KrXculLkcTXTIQ3naFOTNWoE/2iXUPnHZqdi9t515z+R8nGxxed\n",
       "iEEbX0B0Ilw2v/bJYf8PaRptWn9oroAAAAAASUVORK5CYII=\n",
       "\" style=\"display:inline;vertical-align:middle;\" /></a><br>(see <a class=\"ProveItLink\" href=\"../__pv_it/76755dea86f4c58f182bd2644889935773e637ba0/dependencies.ipynb\">dependencies</a>)<br>"
      ],
      "text/plain": [
       "mult_6_5: (6 * 5) = 30"
      ]
     },
     "execution_count": 2,
     "metadata": {},
     "output_type": "execute_result"
    }
   ],
   "source": [
    "%proving mult_6_5 presuming []"
   ]
  },
  {
   "cell_type": "code",
   "execution_count": null,
   "metadata": {},
   "outputs": [],
   "source": []
  }
 ],
 "metadata": {
  "kernelspec": {
   "display_name": "Python 3",
   "language": "python",
   "name": "python3"
  }
 },
 "nbformat": 4,
 "nbformat_minor": 0
}
