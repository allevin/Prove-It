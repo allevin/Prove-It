{
 "cells": [
  {
   "cell_type": "markdown",
   "metadata": {},
   "source": [
    "Proof of <a class=\"ProveItLink\" href=\"../../../../_context_.ipynb\">proveit</a>.<a class=\"ProveItLink\" href=\"../../../_context_.ipynb\">number</a>.<a class=\"ProveItLink\" href=\"../../_context_.ipynb\">numeral</a>.<a class=\"ProveItLink\" href=\"../_context_.ipynb\">decimal</a>.<a class=\"ProveItLink\" href=\"../_theorems_.ipynb#add_9_1\">add_9_1</a> theorem\n",
    "========"
   ]
  },
  {
   "cell_type": "code",
   "execution_count": 1,
   "metadata": {},
   "outputs": [],
   "source": [
    "import proveit\n",
    "context = proveit.Context('..') # the theorem's context is in the parent directory"
   ]
  },
  {
   "cell_type": "code",
   "execution_count": 2,
   "metadata": {},
   "outputs": [
    {
     "name": "stdout",
     "output_type": "stream",
     "text": [
      "Beginning proof of add_9_1\n",
      "Recorded 'presuming' information\n",
      "Presuming previous theorems (applied transitively).\n"
     ]
    },
    {
     "data": {
      "text/html": [
       "<strong id=\"add_9_1\">add_9_1:</strong> <a class=\"ProveItLink\" href=\"../__pv_it/8e4fdce97df970b2a6b3c4ac7900ef768aff34ad0/expr.ipynb\"><img src=\"data:image/png;base64,iVBORw0KGgoAAAANSUhEUgAAAGwAAAAVBAMAAABRZRb3AAAAMFBMVEX////c3NwiIiJERESqqqqY\n",
       "mJh2dnZmZmYQEBDu7u4yMjJUVFTMzMyIiIi6uroAAAAs73DqAAAAAXRSTlMAQObYZgAAAVtJREFU\n",
       "OMtjYCAT8F3AIcH6AJ+20wwMs8v2oIsyT2BgqMFUDBKefhcksZKBsYVBQgBVmtMeKM+FoQssrMcw\n",
       "6QAD7wUG5gYGbgOI+ESo9O79QHnWBHRdIGFeBQbeBQwcExj4FzCw/YRI+MJU3Adq42zAsA4ozLSB\n",
       "ge8jwysGhvkGDLz/sGhjMMGmjb+AgecLQxkD2Lav2LSlY9Mmn8DA85dhKQMDewMD819s2rxALPZV\n",
       "YLABWds3hj6gH5YyuGPV9gKXbd8YQJ5ivXv2CzZt53E7EhIW4JCsWrVKY9Wq1QS0gYLkK0MLmMu1\n",
       "AKcj2ZXAwAApAlg+MpgyMPB+ZJB/gE1bFDbbgNHNpgAKZF5NhrUMREcAgwrDjAMMj0DSxQ5o2sr7\n",
       "lwcwMKxD1wUWnp4LTPgcKInYFyUJNuDON6jp9S0yh+0Cnvy2EqfMLHzZVBqnzEZ82hhxOYX3AG5N\n",
       "APIsdoKR+KRjAAAAAElFTkSuQmCC\n",
       "\" style=\"display:inline;vertical-align:middle;\" /></a><br>(see <a class=\"ProveItLink\" href=\"../__pv_it/8e4fdce97df970b2a6b3c4ac7900ef768aff34ad0/dependencies.ipynb\">dependencies</a>)<br>"
      ],
      "text/plain": [
       "add_9_1: (9 + 1) = 10"
      ]
     },
     "execution_count": 2,
     "metadata": {},
     "output_type": "execute_result"
    }
   ],
   "source": [
    "%proving add_9_1 presuming []"
   ]
  },
  {
   "cell_type": "code",
   "execution_count": null,
   "metadata": {},
   "outputs": [],
   "source": []
  }
 ],
 "metadata": {
  "kernelspec": {
   "display_name": "Python 3",
   "language": "python",
   "name": "python3"
  }
 },
 "nbformat": 4,
 "nbformat_minor": 0
}
