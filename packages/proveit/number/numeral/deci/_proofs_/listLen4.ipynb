{
 "cells": [
  {
   "cell_type": "markdown",
   "metadata": {},
   "source": [
    "Proof of <a class=\"ProveItLink\" href=\"../../../../_context_.ipynb\">proveit</a>.<a class=\"ProveItLink\" href=\"../../../_context_.ipynb\">number</a>.<a class=\"ProveItLink\" href=\"../../_context_.ipynb\">numeral</a>.<a class=\"ProveItLink\" href=\"../_context_.ipynb\">decimal</a>.<a class=\"ProveItLink\" href=\"../_theorems_.ipynb#listLen4\">listLen4</a> theorem\n",
    "========"
   ]
  },
  {
   "cell_type": "code",
   "execution_count": 1,
   "metadata": {},
   "outputs": [],
   "source": [
    "import proveit\n",
    "context = proveit.Context('..') # the theorem's context is in the parent directory"
   ]
  },
  {
   "cell_type": "code",
   "execution_count": 2,
   "metadata": {},
   "outputs": [
    {
     "name": "stdout",
     "output_type": "stream",
     "text": [
      "Beginning proof of listLen4\n",
      "Recorded 'presuming' information\n",
      "Presuming previous theorems (applied transitively).\n"
     ]
    },
    {
     "data": {
      "text/html": [
       "<strong id=\"listLen4\">listLen4:</strong> <a class=\"ProveItLink\" href=\"../__pv_it/38f44fa5f787e2303a98d818e3654abd4997b4f40/expr.ipynb\"><img src=\"data:image/png;base64,iVBORw0KGgoAAAANSUhEUgAAAN8AAAAWBAMAAACyMFRjAAAAMFBMVEX///8QEBC6urrMzMxUVFRm\n",
       "ZmZERETc3NwyMjKqqqp2dnaIiIiYmJgiIiLu7u4AAAAU9Wx4AAAAAXRSTlMAQObYZgAAAytJREFU\n",
       "SMetVk9o02AUf82apn/SbAxhKKgdehBE7EE8CRs6QemhPYgMpxgRtoMDc5huILIcFCbMURiiF1mp\n",
       "DJGixDov2yV4UTaQgUxBETKYFy8tjk3Gpvi+P0mb+WWt4Dt8+eX3Xt7v+96X9yUATdpD+DcLjHea\n",
       "eVqyoEjB4SaC39CxGORaJGChQY5jPEFLdx25slc0tSs5OS0WxIeJ6xnBEw0EJ3iCqK8ed0ShrXkw\n",
       "xYJJHYjrJkJF31kvYfEEcz56QxR71IF5seBLVJlnk5bzOwuGHJ5gn696v0WxzwGWhYLKO5261KfD\n",
       "w7cbVPQQTyCZ9Wx8URR7FyCSFwnGozpzrff3f24geIEnkAs4DM12GpSNZmZs5v9eesVXkSlineM5\n",
       "keBbIkhcpwAGvCqN+WIup9h1nCeIooDUAdcZW9Fhlb1+7XCfUZ1GBOscM13B3jFi9OXSLCJIXAdB\n",
       "q1Vq2idY4dd2niCEExi14TxjpxzYQ8GyBYNsgVsgYy6pTbDCOBBB4kpCwvboe76gR/z6gydoRcEs\n",
       "wBfG9gKsUZB148NVSGLVW6oCwUkqSFwJO1nrrp++oGmB4DporJCwBNIWBeteD+pQSYkFtYInqJl4\n",
       "jsCN2atkDzdniPi3kkUpd7273ZLmQdmEWFXjbSjTxkCK26gFU3hW1kp66Suxj4hiPT3ZXRZzDZxE\n",
       "1U8KeTixqOLhpX2Qqh5FbJAniNigbUDYnKQn8CqEChTgOlUKKnk4E0uDagobP4QrpK4H2E/hXAvp\n",
       "qoilkptuLU2ptrrSkgTkpR6Hx7mC9gvvzsI5oOA0wBMKonZsKR7UFlSQukIW2Z0EOZdDaVlnW+VR\n",
       "xI64jY+zGZo7cC2l7cdWXHmNCyZALs05FCiZ8vEy6qaEjZ9ds5lLxWpUnMh7fKIVkvjGVmhjc4rO\n",
       "zeAJOryGNQJB0NFWc7HTsuuEM2IksRNwTMOLEYNSzKsWeIJ5N14NBgClYMGSN+O+hYvQZUt9BRyV\n",
       "zKxDMFJBn6edBDUzUFAz/ff2XyO3IZ5AcXfVgkAAYSNQMGz4P8nG9tH7tFhQpuBWE78Y7CAvB7vA\n",
       "XxV1+5b8X/sDSc/yIcpy38UAAAAASUVORK5CYII=\n",
       "\" style=\"display:inline;vertical-align:middle;\" /></a><br>(see <a class=\"ProveItLink\" href=\"../__pv_it/38f44fa5f787e2303a98d818e3654abd4997b4f40/dependencies.ipynb\">dependencies</a>)<br>"
      ],
      "text/plain": [
       "listLen4: forall_{a, b, c, d} (|(a , b , c , d)| = 4)"
      ]
     },
     "execution_count": 2,
     "metadata": {},
     "output_type": "execute_result"
    }
   ],
   "source": [
    "%proving listLen4 presuming []"
   ]
  },
  {
   "cell_type": "code",
   "execution_count": null,
   "metadata": {},
   "outputs": [],
   "source": []
  }
 ],
 "metadata": {
  "kernelspec": {
   "display_name": "Python 3",
   "language": "python",
   "name": "python3"
  }
 },
 "nbformat": 4,
 "nbformat_minor": 0
}
