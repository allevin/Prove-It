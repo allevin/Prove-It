{
 "cells": [
  {
   "cell_type": "markdown",
   "metadata": {},
   "source": [
    "Proof of <a class=\"ProveItLink\" href=\"../../../../_context_.ipynb\">proveit</a>.<a class=\"ProveItLink\" href=\"../../../_context_.ipynb\">number</a>.<a class=\"ProveItLink\" href=\"../../_context_.ipynb\">numeral</a>.<a class=\"ProveItLink\" href=\"../_context_.ipynb\">deci</a>.<a class=\"ProveItLink\" href=\"../_theorems_.ipynb#mult_9_8\">mult_9_8</a> theorem\n",
    "========"
   ]
  },
  {
   "cell_type": "code",
   "execution_count": 1,
   "metadata": {},
   "outputs": [],
   "source": [
    "import proveit\n",
    "context = proveit.Context('..') # the theorem's context is in the parent directory"
   ]
  },
  {
   "cell_type": "code",
   "execution_count": 2,
   "metadata": {},
   "outputs": [
    {
     "name": "stdout",
     "output_type": "stream",
     "text": [
      "Beginning proof of mult_9_8\n",
      "Recorded 'presuming' information\n",
      "Presuming previous theorems (applied transitively).\n"
     ]
    },
    {
     "data": {
      "text/html": [
       "<strong id=\"mult_9_8\">mult_9_8:</strong> <a class=\"ProveItLink\" href=\"../__pv_it/af84137076846b1e51b43b1a52b1af8336b5c39e0/expr.ipynb\"><img src=\"data:image/png;base64,iVBORw0KGgoAAAANSUhEUgAAAGEAAAAVBAMAAACkm51HAAAAMFBMVEX////c3NwiIiJERESqqqqY\n",
       "mJh2dnZmZmYQEBDu7u4yMjJUVFTMzMyIiIi6uroAAAAs73DqAAAAAXRSTlMAQObYZgAAAahJREFU\n",
       "OMuVk79LI0EUxz8xrnHzy8XqIEVEq6u0sbdSsNFGrTxTbRAVRM8Ih2AEC21k0SZgkYBYqIh2IgiK\n",
       "7XGYP0BhsbTxBypY6Ppmcxthsyw4xWPf+85nZuf7ZuD7I11trP0KJf7CduGsnupmvo/YhX/WZcE0\n",
       "c5HFHVu+94is8sPwpBgsQMVPTDiOc5wh9QypKtEiiR5PGoFNGPUTk5DgFLqh1aKtQsubJ025RMlP\n",
       "5GCaNYtzmzso95D68KShU2Yg2hfk0JHFsk0Bd48XT4g647Jey2wDseXGbotdOWyR6HtdWX4SF5rd\n",
       "o//ZV+OgVv+tQvIVNsTQXQYUoVsStKUj8SNd9G+hP6gYF4fUAbSbfzKLcoeEMTTHIvngJ1LurvPU\n",
       "CGpelZTF65AdDiCajhWmwqqbx72W6fI7ser/v5rrVKPLFcrKiwEiBr1CPpK1vbVWpFUGWkPT74VI\n",
       "zqIZ5IX4yWFdGbToD3J3SCrtpjkHt5Ll578alj5ZlCRu+4mrYWmG4zzJLTGCLnQp5LJruaDqTNj7\n",
       "2Auo6ZUwIhNQSxhhRCTg1V6HzP8ExhJoEvfj9wsAAAAASUVORK5CYII=\n",
       "\" style=\"display:inline;vertical-align:middle;\" /></a><br>(see <a class=\"ProveItLink\" href=\"../__pv_it/af84137076846b1e51b43b1a52b1af8336b5c39e0/dependencies.ipynb\">dependencies</a>)<br>"
      ],
      "text/plain": [
       "mult_9_8: (9 * 8) = 72"
      ]
     },
     "execution_count": 2,
     "metadata": {},
     "output_type": "execute_result"
    }
   ],
   "source": [
    "%proving mult_9_8 presuming []"
   ]
  },
  {
   "cell_type": "code",
   "execution_count": null,
   "metadata": {},
   "outputs": [],
   "source": []
  }
 ],
 "metadata": {
  "kernelspec": {
   "display_name": "Python 3",
   "language": "python",
   "name": "python3"
  }
 },
 "nbformat": 4,
 "nbformat_minor": 0
}
