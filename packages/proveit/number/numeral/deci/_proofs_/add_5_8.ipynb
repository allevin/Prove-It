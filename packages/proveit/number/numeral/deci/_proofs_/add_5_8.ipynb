{
 "cells": [
  {
   "cell_type": "markdown",
   "metadata": {},
   "source": [
    "Proof of <a class=\"ProveItLink\" href=\"../../../../_context_.ipynb\">proveit</a>.<a class=\"ProveItLink\" href=\"../../../_context_.ipynb\">number</a>.<a class=\"ProveItLink\" href=\"../../_context_.ipynb\">numeral</a>.<a class=\"ProveItLink\" href=\"../_context_.ipynb\">decimal</a>.<a class=\"ProveItLink\" href=\"../_theorems_.ipynb#add_5_8\">add_5_8</a> theorem\n",
    "========"
   ]
  },
  {
   "cell_type": "code",
   "execution_count": 1,
   "metadata": {},
   "outputs": [],
   "source": [
    "import proveit\n",
    "context = proveit.Context('..') # the theorem's context is in the parent directory"
   ]
  },
  {
   "cell_type": "code",
   "execution_count": 2,
   "metadata": {},
   "outputs": [
    {
     "name": "stdout",
     "output_type": "stream",
     "text": [
      "Beginning proof of add_5_8\n",
      "Recorded 'presuming' information\n",
      "Presuming previous theorems (applied transitively).\n"
     ]
    },
    {
     "data": {
      "text/html": [
       "<strong id=\"add_5_8\">add_5_8:</strong> <a class=\"ProveItLink\" href=\"../__pv_it/997a6b1b5e3cd021a466a5b969243ff16d92b80c0/expr.ipynb\"><img src=\"data:image/png;base64,iVBORw0KGgoAAAANSUhEUgAAAGwAAAAVBAMAAABRZRb3AAAAMFBMVEX////c3NwiIiJERESqqqqY\n",
       "mJh2dnZmZmYQEBDu7u4yMjJUVFTMzMyIiIi6uroAAAAs73DqAAAAAXRSTlMAQObYZgAAAZBJREFU\n",
       "OMudkz9IAnEUx7+m3nnWpVNLy9XU2GBDk22FENwWtORk0OQQCf0Bh+a8logWHQrxhNClJSqnghpy\n",
       "ipZImqIIEbpAiuzdeUm/O3839OD39/0+vC+/9x7wTxuucxzBhhd2AxxpIzPs5V5qFdh0P/ZrwGUq\n",
       "RrsSkOt8ONxpiCrCLkqKa/Cl0axDJo3Fk5p9v2vrUyEpCCad1OmFBuEdEQUhClvpOea7i1AxMSnr\n",
       "CveoIWBhL+iDBT41gVTE+mFkJHKNlrOHcxZD3LijeZmDlekXaZlGvsFiYmeM5oS11S2r9LChFdrv\n",
       "WMfBLIstXHcoJc+caPcNfHf/4IvBgmkstYFbDhZqm5hfgWDS67o+oetl857SY3AwXw1+A9v0SIHY\n",
       "YqLt09iyRYrjlk3+Yvm2iU2RAwgXGCwUBarAYr9okQIGWuYnU7nMRdm8lRBIchIgq2gm8USHq42q\n",
       "I2+vGSplHDupTK6oYjZz2NUDZ5XYJZjl9w1br29/D0Ldo99KXM+BV5uOcj1VL8zHkyLX+NAP9rZ1\n",
       "71H3YIMAAAAASUVORK5CYII=\n",
       "\" style=\"display:inline;vertical-align:middle;\" /></a><br>(see <a class=\"ProveItLink\" href=\"../__pv_it/997a6b1b5e3cd021a466a5b969243ff16d92b80c0/dependencies.ipynb\">dependencies</a>)<br>"
      ],
      "text/plain": [
       "add_5_8: (5 + 8) = 13"
      ]
     },
     "execution_count": 2,
     "metadata": {},
     "output_type": "execute_result"
    }
   ],
   "source": [
    "%proving add_5_8 presuming []"
   ]
  },
  {
   "cell_type": "code",
   "execution_count": null,
   "metadata": {},
   "outputs": [],
   "source": []
  }
 ],
 "metadata": {
  "kernelspec": {
   "display_name": "Python 3",
   "language": "python",
   "name": "python3"
  }
 },
 "nbformat": 4,
 "nbformat_minor": 0
}
