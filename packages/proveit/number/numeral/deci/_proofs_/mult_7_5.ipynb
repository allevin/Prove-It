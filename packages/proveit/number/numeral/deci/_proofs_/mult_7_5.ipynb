{
 "cells": [
  {
   "cell_type": "markdown",
   "metadata": {},
   "source": [
    "Proof of <a class=\"ProveItLink\" href=\"../../../../_context_.ipynb\">proveit</a>.<a class=\"ProveItLink\" href=\"../../../_context_.ipynb\">number</a>.<a class=\"ProveItLink\" href=\"../../_context_.ipynb\">numeral</a>.<a class=\"ProveItLink\" href=\"../_context_.ipynb\">deci</a>.<a class=\"ProveItLink\" href=\"../_theorems_.ipynb#mult_7_5\">mult_7_5</a> theorem\n",
    "========"
   ]
  },
  {
   "cell_type": "code",
   "execution_count": 1,
   "metadata": {},
   "outputs": [],
   "source": [
    "import proveit\n",
    "context = proveit.Context('..') # the theorem's context is in the parent directory"
   ]
  },
  {
   "cell_type": "code",
   "execution_count": 2,
   "metadata": {},
   "outputs": [
    {
     "name": "stdout",
     "output_type": "stream",
     "text": [
      "Beginning proof of mult_7_5\n",
      "Recorded 'presuming' information\n",
      "Presuming previous theorems (applied transitively).\n"
     ]
    },
    {
     "data": {
      "text/html": [
       "<strong id=\"mult_7_5\">mult_7_5:</strong> <a class=\"ProveItLink\" href=\"../__pv_it/874a0ea44447092a2c113a1eea7266dcde6edd3d0/expr.ipynb\"><img src=\"data:image/png;base64,iVBORw0KGgoAAAANSUhEUgAAAGEAAAAVBAMAAACkm51HAAAAMFBMVEX////c3NwiIiJERESqqqqY\n",
       "mJh2dnZmZmYQEBDu7u4yMjJUVFTMzMyIiIi6uroAAAAs73DqAAAAAXRSTlMAQObYZgAAAWpJREFU\n",
       "OMtjYCAd8F3AFIvDq+M0A496WloajMsVyZjCwH4AXRVPWrIDRI6BYSUD6////3/DpDj+/09gYFiA\n",
       "rkOcge8vVI73AgPbBAaGDXA7qnOAZBi6jnwHhk9QOY4JDGwMDGxwZ3CDyRnoOvxBOiByr8DkWwZU\n",
       "HcwOmCH0FypXBiI4DRA67t5+ALSzAEMH1wao3FIQjx1hJPMEzn8MDCxgr1etAoHVYPFjq2FyfSDu\n",
       "fLAg5wSIph1AJzRg2MHbB5X7B6JvgcXmK0DD5QADzwfMiOufAJED69CGBBDIN0ZA0QeYOmQYGOwD\n",
       "IHItIOd8R0g1MTDUC0BdVaQEAsogFf8nAHVA5ExBAYekAxhIqxgYWNEj/RcDg74ARC4dyGX5jpwc\n",
       "WBqxhO5VBr5vULlHoGT2FSnJle8WAAb+AzQdLOVVDlA5DgFsCXoGnsTOmoBNNBdf/liJRYxzAT4d\n",
       "0ljEuAXw6WDEkmvv4FEPANK8X9U1FN4EAAAAAElFTkSuQmCC\n",
       "\" style=\"display:inline;vertical-align:middle;\" /></a><br>(see <a class=\"ProveItLink\" href=\"../__pv_it/874a0ea44447092a2c113a1eea7266dcde6edd3d0/dependencies.ipynb\">dependencies</a>)<br>"
      ],
      "text/plain": [
       "mult_7_5: (7 * 5) = 35"
      ]
     },
     "execution_count": 2,
     "metadata": {},
     "output_type": "execute_result"
    }
   ],
   "source": [
    "%proving mult_7_5 presuming []"
   ]
  },
  {
   "cell_type": "code",
   "execution_count": null,
   "metadata": {},
   "outputs": [],
   "source": []
  }
 ],
 "metadata": {
  "kernelspec": {
   "display_name": "Python 3",
   "language": "python",
   "name": "python3"
  }
 },
 "nbformat": 4,
 "nbformat_minor": 0
}
