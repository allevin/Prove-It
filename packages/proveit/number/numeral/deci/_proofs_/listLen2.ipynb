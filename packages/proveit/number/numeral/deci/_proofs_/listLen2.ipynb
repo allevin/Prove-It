{
 "cells": [
  {
   "cell_type": "markdown",
   "metadata": {},
   "source": [
    "Proof of <a class=\"ProveItLink\" href=\"../../../../_context_.ipynb\">proveit</a>.<a class=\"ProveItLink\" href=\"../../../_context_.ipynb\">number</a>.<a class=\"ProveItLink\" href=\"../../_context_.ipynb\">numeral</a>.<a class=\"ProveItLink\" href=\"../_context_.ipynb\">decimal</a>.<a class=\"ProveItLink\" href=\"../_theorems_.ipynb#listLen2\">listLen2</a> theorem\n",
    "========"
   ]
  },
  {
   "cell_type": "code",
   "execution_count": 1,
   "metadata": {},
   "outputs": [],
   "source": [
    "import proveit\n",
    "context = proveit.Context('..') # the theorem's context is in the parent directory"
   ]
  },
  {
   "cell_type": "code",
   "execution_count": 2,
   "metadata": {},
   "outputs": [
    {
     "name": "stdout",
     "output_type": "stream",
     "text": [
      "Beginning proof of listLen2\n",
      "Recorded 'presuming' information\n",
      "Presuming previous theorem (applied transitively).\n"
     ]
    },
    {
     "data": {
      "text/html": [
       "<strong id=\"listLen2\">listLen2:</strong> <a class=\"ProveItLink\" href=\"../__pv_it/ccbdb8ded4cf1f74d7b933562a66eccf7314c0b60/expr.ipynb\"><img src=\"data:image/png;base64,iVBORw0KGgoAAAANSUhEUgAAAJ8AAAAWBAMAAAAsilPDAAAAMFBMVEX///8QEBC6urrMzMxUVFRm\n",
       "ZmZERETc3NwyMjKqqqp2dnaIiIiYmJgiIiLu7u4AAAAU9Wx4AAAAAXRSTlMAQObYZgAAAo9JREFU\n",
       "OMutVU1oE0EU/nbzs2mz2aqXoqCm6EEQIQePQooeRAQb8IdiLRaEFlFwD9EKUgxSpEKpBSl6EUOh\n",
       "iPWy1HppL4snaUFyUUGRbKEHby0GK2m19c3s7Cabnb2IA9l982a/b+bN+94LED2e4l8WnQi/amGa\n",
       "G0dbFvQsf03LQO/oV2HGcnjtuMDEupucq/vpcV5KqF18mEUiB7xis4kw4YTApAIhjDKPlLCIdB0o\n",
       "AXcY+0CIL20JzGLAXWcxl2WE54AqsOSeIDEZIlQcgTkQuNhtehi7ZIS7HfRksUL7vRweHglHfERg\n",
       "1FKzt53f+HUZ4WMHV7NI0tE2Bge/hAkvC0yCxVdc6DK5N3V23gZmIrJcddBeAE4BQ35IY541LjAp\n",
       "IlA7ccv1rg2gBjzzCXvH2Bh1F2ObQBsFdBhGI6wZz9gjMAqp7r6NS673hYN9QJf8hClKrUr3m0Ha\n",
       "9p2PPOOHwHQQYQ/w1fX2Aj+BvJyQbRpbJ4HYmYbUfskIN2DUXO9HqL+jCNPdgtAoUVHg9sI1dodb\n",
       "84J8rxfyJLQttK0bQoaJ7eaQ+7+x8YmvTUEzecgYOkmsnzUmsXRFF5V2U2CSNow64qUnvOhrUCjr\n",
       "72UnjBWgm9BZOqZIXPFCjEksaemVRnYYhulgHM8LZeMPzc7gAiJkMzI72+9+DsViV8WvQMklRBUe\n",
       "84RNGxQXD93IGgdJiqtvWf4eyAirOzu0ZYq1Ip2CWXOSHwjQgYzIuGIKTKevUVMY8tJzx0qjdPMn\n",
       "nLtmxhWt6AAcs+T3Qb/+rGjC1/72fctXkLfVvnJk+/IJv0c3WKMUnNuB/uZiNK/BWt7K6WjCuBnM\n",
       "fPNUszDHjXutAs7x15yM8E3LvwX+w/gLlR+wyokt4uEAAAAASUVORK5CYII=\n",
       "\" style=\"display:inline;vertical-align:middle;\" /></a><br>(see <a class=\"ProveItLink\" href=\"../__pv_it/ccbdb8ded4cf1f74d7b933562a66eccf7314c0b60/dependencies.ipynb\">dependencies</a>)<br>"
      ],
      "text/plain": [
       "listLen2: forall_{a, b} (|(a , b)| = 2)"
      ]
     },
     "execution_count": 2,
     "metadata": {},
     "output_type": "execute_result"
    }
   ],
   "source": [
    "%proving listLen2 presuming []"
   ]
  },
  {
   "cell_type": "code",
   "execution_count": null,
   "metadata": {},
   "outputs": [],
   "source": []
  }
 ],
 "metadata": {
  "kernelspec": {
   "display_name": "Python 3",
   "language": "python",
   "name": "python3"
  }
 },
 "nbformat": 4,
 "nbformat_minor": 0
}
