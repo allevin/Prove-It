{
 "cells": [
  {
   "cell_type": "markdown",
   "metadata": {},
   "source": [
    "Proof of <a class=\"ProveItLink\" href=\"../../../../_context_.ipynb\">proveit</a>.<a class=\"ProveItLink\" href=\"../../../_context_.ipynb\">number</a>.<a class=\"ProveItLink\" href=\"../../_context_.ipynb\">numeral</a>.<a class=\"ProveItLink\" href=\"../_context_.ipynb\">decimal</a>.<a class=\"ProveItLink\" href=\"../_theorems_.ipynb#add_4_9\">add_4_9</a> theorem\n",
    "========"
   ]
  },
  {
   "cell_type": "code",
   "execution_count": 1,
   "metadata": {},
   "outputs": [],
   "source": [
    "import proveit\n",
    "context = proveit.Context('..') # the theorem's context is in the parent directory"
   ]
  },
  {
   "cell_type": "code",
   "execution_count": 2,
   "metadata": {},
   "outputs": [
    {
     "name": "stdout",
     "output_type": "stream",
     "text": [
      "Beginning proof of add_4_9\n",
      "Recorded 'presuming' information\n",
      "Presuming previous theorems (applied transitively).\n"
     ]
    },
    {
     "data": {
      "text/html": [
       "<strong id=\"add_4_9\">add_4_9:</strong> <a class=\"ProveItLink\" href=\"../__pv_it/4b8bc2698dae2574f0e57b1a030f9ff1ad2309020/expr.ipynb\"><img src=\"data:image/png;base64,iVBORw0KGgoAAAANSUhEUgAAAGwAAAAVBAMAAABRZRb3AAAAMFBMVEX////c3NwiIiJERESqqqqY\n",
       "mJh2dnZmZmYQEBDu7u4yMjJUVFTMzMyIiIi6uroAAAAs73DqAAAAAXRSTlMAQObYZgAAAYJJREFU\n",
       "OMudkz1Iw0AUx/+xn6nGdhEEB0UX3TrUWbeCUujs1MmCLoLYgjgE2lnj4qBIC1qkKYrOVezkImJH\n",
       "F7E4iSCl0IId/HiXxpJccxl8w9179+5375+XO+CfNloXJHwNN+y+P1jsKHMN7Axu9mjA3WqMvDIL\n",
       "Z+xZKY/xCEIDlLygQdpAsw6FaVRy5vq+eaiK4Sh8KZ6q3mrwtxGeQpDKYuzETCR6U7gIfxeyOlDu\n",
       "RYPXwN5ZlOKwQhTKNxBzwshIZIb1LOJQrQOkBVgFKNF0DA4LqPB8AUuGrxt22cdG1sjfZRp5TC4h\n",
       "TtiboNpTA/QJ3hqPwff80AYeBViwy7AD9LBtXZ/V9UpvA3XSGZNq8HSQB5ar1c8bezUgVDRFBqYN\n",
       "i/5hhS7D5o0wZxeptDBJN3LFqRp1eahlNpnH5nAOwQ9Qkmim8Mqi9Z8tu8j05iKNFzyV3TtLIp49\n",
       "pa5ErOsJ2xVUxe/Gfl8/rIG/7vLeysLModsznRBmrtwwSSRFqYmhX6lucsCM3H6CAAAAAElFTkSu\n",
       "QmCC\n",
       "\" style=\"display:inline;vertical-align:middle;\" /></a><br>(see <a class=\"ProveItLink\" href=\"../__pv_it/4b8bc2698dae2574f0e57b1a030f9ff1ad2309020/dependencies.ipynb\">dependencies</a>)<br>"
      ],
      "text/plain": [
       "add_4_9: (4 + 9) = 13"
      ]
     },
     "execution_count": 2,
     "metadata": {},
     "output_type": "execute_result"
    }
   ],
   "source": [
    "%proving add_4_9 presuming []"
   ]
  },
  {
   "cell_type": "code",
   "execution_count": null,
   "metadata": {},
   "outputs": [],
   "source": []
  }
 ],
 "metadata": {
  "kernelspec": {
   "display_name": "Python 3",
   "language": "python",
   "name": "python3"
  }
 },
 "nbformat": 4,
 "nbformat_minor": 0
}
