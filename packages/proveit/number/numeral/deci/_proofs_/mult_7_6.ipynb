{
 "cells": [
  {
   "cell_type": "markdown",
   "metadata": {},
   "source": [
    "Proof of <a class=\"ProveItLink\" href=\"../../../../_context_.ipynb\">proveit</a>.<a class=\"ProveItLink\" href=\"../../../_context_.ipynb\">number</a>.<a class=\"ProveItLink\" href=\"../../_context_.ipynb\">numeral</a>.<a class=\"ProveItLink\" href=\"../_context_.ipynb\">deci</a>.<a class=\"ProveItLink\" href=\"../_theorems_.ipynb#mult_7_6\">mult_7_6</a> theorem\n",
    "========"
   ]
  },
  {
   "cell_type": "code",
   "execution_count": 1,
   "metadata": {},
   "outputs": [],
   "source": [
    "import proveit\n",
    "context = proveit.Context('..') # the theorem's context is in the parent directory"
   ]
  },
  {
   "cell_type": "code",
   "execution_count": 2,
   "metadata": {},
   "outputs": [
    {
     "name": "stdout",
     "output_type": "stream",
     "text": [
      "Beginning proof of mult_7_6\n",
      "Recorded 'presuming' information\n",
      "Presuming previous theorems (applied transitively).\n"
     ]
    },
    {
     "data": {
      "text/html": [
       "<strong id=\"mult_7_6\">mult_7_6:</strong> <a class=\"ProveItLink\" href=\"../__pv_it/d9f7cce650cdafc77c051bf4fde1bc825b545d1c0/expr.ipynb\"><img src=\"data:image/png;base64,iVBORw0KGgoAAAANSUhEUgAAAGEAAAAVBAMAAACkm51HAAAAMFBMVEX////c3NwiIiJERESqqqqY\n",
       "mJh2dnZmZmYQEBDu7u4yMjJUVFTMzMyIiIi6uroAAAAs73DqAAAAAXRSTlMAQObYZgAAAY9JREFU\n",
       "OMuVkzFIw0AUhv/YJm1qWoJrF1HEQaFBcO/mIlgXBwftFBfFUqGCHXRQEATJJN1aEMHWweImHeou\n",
       "QjZFHIKjIIiohQrGe1eNJRcC3nB373/vu7t39w74f0vZorYUSlxDGzdN07OPSquIXYlxWhPS5rHD\n",
       "ZnXIrut+/jqkSVwANZEYMJBG8g1I2lAsoOk58mgACyJxZ+ASyABxCwqgeMdYtqivCIC0aGDfQtvB\n",
       "E7efPc8p7yNZP6EkDJxb2HZQIlM1PE/35pZFKwU/MZ/gMRkLJzTGvCXV1xzGgChPfatB7YzrNie0\n",
       "D+CQ7GovmqWgusC6hdSO/1DgBHVfZN9ztTpMe7Dks9BefMRsj9jADzHB1QppXUbYAqHmOZGkR9gl\n",
       "u/Pnm+J79E5VHKE2ymbRVqt9YGMGko5pKq0+Yo7nIYuPHjegFSDrWKEV+ohIXt0Lul0ihkyzCDzS\n",
       "nb33ecplVm0JR3jBdieXcV12MXE9qKArIcUu54PUtbD/UQ/Q1FoYkQ7QBvUwQgr4tQ8h8d+YimA8\n",
       "aQ3b2AAAAABJRU5ErkJggg==\n",
       "\" style=\"display:inline;vertical-align:middle;\" /></a><br>(see <a class=\"ProveItLink\" href=\"../__pv_it/d9f7cce650cdafc77c051bf4fde1bc825b545d1c0/dependencies.ipynb\">dependencies</a>)<br>"
      ],
      "text/plain": [
       "mult_7_6: (7 * 6) = 42"
      ]
     },
     "execution_count": 2,
     "metadata": {},
     "output_type": "execute_result"
    }
   ],
   "source": [
    "%proving mult_7_6 presuming []"
   ]
  },
  {
   "cell_type": "code",
   "execution_count": null,
   "metadata": {},
   "outputs": [],
   "source": []
  }
 ],
 "metadata": {
  "kernelspec": {
   "display_name": "Python 3",
   "language": "python",
   "name": "python3"
  }
 },
 "nbformat": 4,
 "nbformat_minor": 0
}
