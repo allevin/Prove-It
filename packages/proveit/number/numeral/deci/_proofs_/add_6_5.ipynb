{
 "cells": [
  {
   "cell_type": "markdown",
   "metadata": {},
   "source": [
    "Proof of <a class=\"ProveItLink\" href=\"../../../../_context_.ipynb\">proveit</a>.<a class=\"ProveItLink\" href=\"../../../_context_.ipynb\">number</a>.<a class=\"ProveItLink\" href=\"../../_context_.ipynb\">numeral</a>.<a class=\"ProveItLink\" href=\"../_context_.ipynb\">decimal</a>.<a class=\"ProveItLink\" href=\"../_theorems_.ipynb#add_6_5\">add_6_5</a> theorem\n",
    "========"
   ]
  },
  {
   "cell_type": "code",
   "execution_count": 1,
   "metadata": {},
   "outputs": [],
   "source": [
    "import proveit\n",
    "context = proveit.Context('..') # the theorem's context is in the parent directory"
   ]
  },
  {
   "cell_type": "code",
   "execution_count": 2,
   "metadata": {},
   "outputs": [
    {
     "name": "stdout",
     "output_type": "stream",
     "text": [
      "Beginning proof of add_6_5\n",
      "Recorded 'presuming' information\n",
      "Presuming previous theorems (applied transitively).\n"
     ]
    },
    {
     "data": {
      "text/html": [
       "<strong id=\"add_6_5\">add_6_5:</strong> <a class=\"ProveItLink\" href=\"../__pv_it/84fa62a9db9878184c1b6a0c23c7fed8361828430/expr.ipynb\"><img src=\"data:image/png;base64,iVBORw0KGgoAAAANSUhEUgAAAGsAAAAVBAMAAACzuQ2OAAAAMFBMVEX////c3NwiIiJERESqqqqY\n",
       "mJh2dnZmZmYQEBDu7u4yMjJUVFTMzMyIiIi6uroAAAAs73DqAAAAAXRSTlMAQObYZgAAAVFJREFU\n",
       "OMtjYCAT8F3AIcH6AJ+20wwMnOlpB1AFl04Qc2CowVTMPAFGrGRgEDrArYAq3f//GwMDF4YuTvsJ\n",
       "UIIX6EY1Bq4FEPGJUPnl24DWsyag69q9fwKEYOCYwMD6Ey7hC6U3gFU1YFh3fwKUeAV0TAN2bQwm\n",
       "uLWVMTDwr7lbgqZt7919QDIdt7alDAzzVRmYAlC1WTLMBwa/F4jJvgoMNqBq6wNq+8DA9hNVGwMD\n",
       "N9DlL3Db9g+oTYGB9Qu6NrY/DAzn8WrjX8DA+hfIrVq1SmPVqtWgCFVgYPuHV1sLWBGabRwKDOwf\n",
       "oY5kVwIDA1RtpgwMLBh+Y2cAJ4Ao3LaBAtmMYQZqSDIWMHgI4I2ARyDDt+9Di7fj1RuB5Dp0XeX9\n",
       "ywMgBIcAsrgvShJswJ1vUNPrW2QO2wU8+W0lTplZ+LKpNE6Zjfi0MeJyCu8B3JoA5ZV0oVfLxKIA\n",
       "AAAASUVORK5CYII=\n",
       "\" style=\"display:inline;vertical-align:middle;\" /></a><br>(see <a class=\"ProveItLink\" href=\"../__pv_it/84fa62a9db9878184c1b6a0c23c7fed8361828430/dependencies.ipynb\">dependencies</a>)<br>"
      ],
      "text/plain": [
       "add_6_5: (6 + 5) = 11"
      ]
     },
     "execution_count": 2,
     "metadata": {},
     "output_type": "execute_result"
    }
   ],
   "source": [
    "%proving add_6_5 presuming []"
   ]
  },
  {
   "cell_type": "code",
   "execution_count": null,
   "metadata": {},
   "outputs": [],
   "source": []
  }
 ],
 "metadata": {
  "kernelspec": {
   "display_name": "Python 3",
   "language": "python",
   "name": "python3"
  }
 },
 "nbformat": 4,
 "nbformat_minor": 0
}
