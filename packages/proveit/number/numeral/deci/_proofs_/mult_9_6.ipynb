{
 "cells": [
  {
   "cell_type": "markdown",
   "metadata": {},
   "source": [
    "Proof of <a class=\"ProveItLink\" href=\"../../../../_context_.ipynb\">proveit</a>.<a class=\"ProveItLink\" href=\"../../../_context_.ipynb\">number</a>.<a class=\"ProveItLink\" href=\"../../_context_.ipynb\">numeral</a>.<a class=\"ProveItLink\" href=\"../_context_.ipynb\">deci</a>.<a class=\"ProveItLink\" href=\"../_theorems_.ipynb#mult_9_6\">mult_9_6</a> theorem\n",
    "========"
   ]
  },
  {
   "cell_type": "code",
   "execution_count": 1,
   "metadata": {},
   "outputs": [],
   "source": [
    "import proveit\n",
    "context = proveit.Context('..') # the theorem's context is in the parent directory"
   ]
  },
  {
   "cell_type": "code",
   "execution_count": 2,
   "metadata": {},
   "outputs": [
    {
     "name": "stdout",
     "output_type": "stream",
     "text": [
      "Beginning proof of mult_9_6\n",
      "Recorded 'presuming' information\n",
      "Presuming previous theorems (applied transitively).\n"
     ]
    },
    {
     "data": {
      "text/html": [
       "<strong id=\"mult_9_6\">mult_9_6:</strong> <a class=\"ProveItLink\" href=\"../__pv_it/4f26f995b179491504c507178c0fbcdd84602fc90/expr.ipynb\"><img src=\"data:image/png;base64,iVBORw0KGgoAAAANSUhEUgAAAGEAAAAVBAMAAACkm51HAAAAMFBMVEX////c3NwiIiJERESqqqqY\n",
       "mJh2dnZmZmYQEBDu7u4yMjJUVFTMzMyIiIi6uroAAAAs73DqAAAAAXRSTlMAQObYZgAAAZ9JREFU\n",
       "OMuVkz9Iw1AQxr80bdr0nx0EBQdFcRAciuDezUWwLoIOmkHoUqkoVLCDVeokSCYpODRLwVYEcRIq\n",
       "tLsUsiloobjppKKIBVvvJU0tSQj4hnfJfffj3t29B/x/hVWrb9WRuAVO0zd//yfpJLw1c5R/mVsn\n",
       "E7ykrQQuh+GIIXHTuAIUM+HrdCQyrigQUsFnEYgakktCGViy5MgkmbmnOJ+MAQXCtyGtyWzPm4mA\n",
       "foAVIl6AQhShtiGdaTsfsyUEPxFpaDk+DalVv6NoYdNMNB6awCIjioA3C/6nq4jvcUwCbq303TJb\n",
       "51pSWWxDVBlxTFFFzDFCpBLEDpCSEc5ax3ANAYxgBXga9Q8yhTGWg4qPIfhqJVK1+R4BvVd51uIW\n",
       "EaqVmCHiWdKInN5upU+iHPqptsbZmmCfB8DeYKVSPVIxS0N8w2jTIBa0OjzmoVPvymz0lCNBxBQu\n",
       "ehIviYc23R2Ce79LPJFNbPcNLJOhfP6miQjuVOjqCdWvOHwRuwudd7jsHsnOu+H0Pko2PlFxIkZs\n",
       "fIGIE8HZvNpHh/hfPzVj9xSN/HYAAAAASUVORK5CYII=\n",
       "\" style=\"display:inline;vertical-align:middle;\" /></a><br>(see <a class=\"ProveItLink\" href=\"../__pv_it/4f26f995b179491504c507178c0fbcdd84602fc90/dependencies.ipynb\">dependencies</a>)<br>"
      ],
      "text/plain": [
       "mult_9_6: (9 * 6) = 54"
      ]
     },
     "execution_count": 2,
     "metadata": {},
     "output_type": "execute_result"
    }
   ],
   "source": [
    "%proving mult_9_6 presuming []"
   ]
  },
  {
   "cell_type": "code",
   "execution_count": null,
   "metadata": {},
   "outputs": [],
   "source": []
  }
 ],
 "metadata": {
  "kernelspec": {
   "display_name": "Python 3",
   "language": "python",
   "name": "python3"
  }
 },
 "nbformat": 4,
 "nbformat_minor": 0
}
