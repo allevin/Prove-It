{
 "cells": [
  {
   "cell_type": "markdown",
   "metadata": {},
   "source": [
    "Proof of <a class=\"ProveItLink\" href=\"../../../../_context_.ipynb\">proveit</a>.<a class=\"ProveItLink\" href=\"../../../_context_.ipynb\">number</a>.<a class=\"ProveItLink\" href=\"../../_context_.ipynb\">numeral</a>.<a class=\"ProveItLink\" href=\"../_context_.ipynb\">decimal</a>.<a class=\"ProveItLink\" href=\"../_theorems_.ipynb#add_4_8\">add_4_8</a> theorem\n",
    "========"
   ]
  },
  {
   "cell_type": "code",
   "execution_count": 1,
   "metadata": {},
   "outputs": [],
   "source": [
    "import proveit\n",
    "context = proveit.Context('..') # the theorem's context is in the parent directory"
   ]
  },
  {
   "cell_type": "code",
   "execution_count": 2,
   "metadata": {},
   "outputs": [
    {
     "name": "stdout",
     "output_type": "stream",
     "text": [
      "Beginning proof of add_4_8\n",
      "Recorded 'presuming' information\n",
      "Presuming previous theorems (applied transitively).\n"
     ]
    },
    {
     "data": {
      "text/html": [
       "<strong id=\"add_4_8\">add_4_8:</strong> <a class=\"ProveItLink\" href=\"../__pv_it/ba91b4d0992d8808d372fe54baeac5c58b8f2e840/expr.ipynb\"><img src=\"data:image/png;base64,iVBORw0KGgoAAAANSUhEUgAAAGwAAAAVBAMAAABRZRb3AAAAMFBMVEX////c3NwiIiJERESqqqqY\n",
       "mJh2dnZmZmYQEBDu7u4yMjJUVFTMzMyIiIi6uroAAAAs73DqAAAAAXRSTlMAQObYZgAAAYRJREFU\n",
       "OMtjYCAT8F3AIcH6AJ+203ACCUxLK2FgqMFUzDyBgUG8yg7IWgniKqNJFzCwBzBwYejitJ/AwLiB\n",
       "4b4DAy/IjbzNUPGJUPcFMHAqMLAmoOvavX8CA/cEBqYPDBxAaxlEF0MlfCEU2waQNs4GDOvuT2Dg\n",
       "6GTg/sfwCsRLQNPG8nsCG9AVJti0cf1kYP/HUAZykwCaNgb7r9eAZDo2bUDA9JNhKZCay4Cujf2/\n",
       "IpD0AjNXgcEGJG3nExj6QG7E0BZ+6r8DA8MLHLYBVf8D+uQAujbWAob4n0BTsWtjNwBrm8YA0Va1\n",
       "apXGqlWrgSxg8DJ+xantNhC3MDB47979Yy+KbTOAuBbqSHYlMDCAa2MpYBBkMAVzm1EdySHAwLCR\n",
       "gSEKq23HGRgCoYGMpo1lJQNLAo4IYFRLS1dgeATiZf8vRQ3J1+XApMywDl1Xef/yAKb///8rgN2D\n",
       "AL4oSbABd75BTa9vkTlsF/Dkt5U4ZWbhy6bSOGU24tPGiMspvAdwawIA8LpunGvhKagAAAAASUVO\n",
       "RK5CYII=\n",
       "\" style=\"display:inline;vertical-align:middle;\" /></a><br>(see <a class=\"ProveItLink\" href=\"../__pv_it/ba91b4d0992d8808d372fe54baeac5c58b8f2e840/dependencies.ipynb\">dependencies</a>)<br>"
      ],
      "text/plain": [
       "add_4_8: (4 + 8) = 12"
      ]
     },
     "execution_count": 2,
     "metadata": {},
     "output_type": "execute_result"
    }
   ],
   "source": [
    "%proving add_4_8 presuming []"
   ]
  },
  {
   "cell_type": "code",
   "execution_count": null,
   "metadata": {},
   "outputs": [],
   "source": []
  }
 ],
 "metadata": {
  "kernelspec": {
   "display_name": "Python 3",
   "language": "python",
   "name": "python3"
  }
 },
 "nbformat": 4,
 "nbformat_minor": 0
}
