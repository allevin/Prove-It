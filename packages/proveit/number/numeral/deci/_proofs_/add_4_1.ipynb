{
 "cells": [
  {
   "cell_type": "markdown",
   "metadata": {},
   "source": [
    "Proof of <a class=\"ProveItLink\" href=\"../../../../_context_.ipynb\">proveit</a>.<a class=\"ProveItLink\" href=\"../../../_context_.ipynb\">number</a>.<a class=\"ProveItLink\" href=\"../../_context_.ipynb\">numeral</a>.<a class=\"ProveItLink\" href=\"../_context_.ipynb\">decimal</a>.<a class=\"ProveItLink\" href=\"../_theorems_.ipynb#add_4_1\">add_4_1</a> theorem\n",
    "========"
   ]
  },
  {
   "cell_type": "code",
   "execution_count": 1,
   "metadata": {},
   "outputs": [],
   "source": [
    "import proveit\n",
    "context = proveit.Context('..') # the theorem's context is in the parent directory"
   ]
  },
  {
   "cell_type": "code",
   "execution_count": 2,
   "metadata": {},
   "outputs": [
    {
     "name": "stdout",
     "output_type": "stream",
     "text": [
      "Beginning proof of add_4_1\n",
      "Recorded 'presuming' information\n",
      "Presuming previous theorems (applied transitively).\n"
     ]
    },
    {
     "data": {
      "text/html": [
       "<strong id=\"add_4_1\">add_4_1:</strong> <a class=\"ProveItLink\" href=\"../__pv_it/4c9779cac6ecd6a779c4aa6c0773375681cd33dc0/expr.ipynb\"><img src=\"data:image/png;base64,iVBORw0KGgoAAAANSUhEUgAAAGEAAAAVBAMAAACkm51HAAAAMFBMVEX////c3NwiIiJERESqqqqY\n",
       "mJh2dnZmZmYQEBDu7u4yMjJUVFTMzMyIiIi6uroAAAAs73DqAAAAAXRSTlMAQObYZgAAATVJREFU\n",
       "OMtjYCAd8F3AIRGHS8dpOIEMLBkY2A+gC3JFMqYAqZUgtjKa3OSfQGIBug6O//8TGBh4QY7ibYaK\n",
       "TYRQs3eDdIRh2FGdA9I3AUiILoaK+UJpXpCOGeg6uMHkKxCRgFUHswNWHWVAzCqAVQdbAbqOu7cf\n",
       "MDAsBbLmMmDVwQL2OvsqMNgAsnQC5z8Ghj6Qo7Dr4GvAjIsdDAxATSwHsOvg+YCpI/8ASMc0BoiO\n",
       "qlWrNFatWo1bhxFQxwOGFgYG7927f+zF6Sp2JTAwADKbGBjqBRhMwSqasbmKFT3SgWG3ioEhHbcO\n",
       "jNAVZ2BpZGB4BGJm/y9F0cFe8QsowPUATQdP+W4BYCoRQBbzRebMwJ7YWROQeW+RObk48sdKXBmH\n",
       "cwEOCWlcOrgFcEgw4sq1d7ALAwCbklYNqRxF3gAAAABJRU5ErkJggg==\n",
       "\" style=\"display:inline;vertical-align:middle;\" /></a><br>(see <a class=\"ProveItLink\" href=\"../__pv_it/4c9779cac6ecd6a779c4aa6c0773375681cd33dc0/dependencies.ipynb\">dependencies</a>)<br>"
      ],
      "text/plain": [
       "add_4_1: (4 + 1) = 5"
      ]
     },
     "execution_count": 2,
     "metadata": {},
     "output_type": "execute_result"
    }
   ],
   "source": [
    "%proving add_4_1 presuming []"
   ]
  },
  {
   "cell_type": "code",
   "execution_count": null,
   "metadata": {},
   "outputs": [],
   "source": []
  }
 ],
 "metadata": {
  "kernelspec": {
   "display_name": "Python 3",
   "language": "python",
   "name": "python3"
  }
 },
 "nbformat": 4,
 "nbformat_minor": 0
}
