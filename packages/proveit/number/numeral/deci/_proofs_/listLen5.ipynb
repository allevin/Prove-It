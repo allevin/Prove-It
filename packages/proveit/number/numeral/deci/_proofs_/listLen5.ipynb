{
 "cells": [
  {
   "cell_type": "markdown",
   "metadata": {},
   "source": [
    "Proof of <a class=\"ProveItLink\" href=\"../../../../_context_.ipynb\">proveit</a>.<a class=\"ProveItLink\" href=\"../../../_context_.ipynb\">number</a>.<a class=\"ProveItLink\" href=\"../../_context_.ipynb\">numeral</a>.<a class=\"ProveItLink\" href=\"../_context_.ipynb\">decimal</a>.<a class=\"ProveItLink\" href=\"../_theorems_.ipynb#listLen5\">listLen5</a> theorem\n",
    "========"
   ]
  },
  {
   "cell_type": "code",
   "execution_count": 1,
   "metadata": {},
   "outputs": [],
   "source": [
    "import proveit\n",
    "context = proveit.Context('..') # the theorem's context is in the parent directory"
   ]
  },
  {
   "cell_type": "code",
   "execution_count": 2,
   "metadata": {},
   "outputs": [
    {
     "name": "stdout",
     "output_type": "stream",
     "text": [
      "Beginning proof of listLen5\n",
      "Recorded 'presuming' information\n",
      "Presuming previous theorems (applied transitively).\n"
     ]
    },
    {
     "data": {
      "text/html": [
       "<strong id=\"listLen5\">listLen5:</strong> <a class=\"ProveItLink\" href=\"../__pv_it/f341e6557e8ba24b6ae03a6cbef42738c8a38c8f0/expr.ipynb\"><img src=\"data:image/png;base64,iVBORw0KGgoAAAANSUhEUgAAAP8AAAAWBAMAAAD9bVezAAAAMFBMVEX///8QEBC6urrMzMxUVFRm\n",
       "ZmZERETc3NwyMjKqqqp2dnaIiIiYmJgiIiLu7u4AAAAU9Wx4AAAAAXRSTlMAQObYZgAAA4pJREFU\n",
       "SMe1lk1oE0EUgF/+Nv+zIkjQoq4oKog0gngSmqoHIYIBFUtbqSC0BxX30NiCSPfQQwUpARG9iKFS\n",
       "pAY11B6kC7J4tFICogVBSA9evCQIVkq19c3PbnfLrKSCA5m8eW9255v33rxZgE21uA7/2B74Geqb\n",
       "eMkhSGj0P1jdzNJvWT/hZ6pRYa6lN4VyAuCoS0k6a5Kp+7ety5GsDCA2H51ipik6Gm8JIFYXAJ7p\n",
       "sZxs7rJLNmQAgbW1MjPdxEH0cksAJnCApCcCakkyNbjqGryTeuD8E27CbUGk1BLALgEQ8ORNuyyL\n",
       "Eu64LMoAwrYp9XRo6HZL6wcNAXDQo34ujVbBNVBKvgDUtNTf/7klgEhZAHTTqOUnMlw9ap4R6fjM\n",
       "zHJpcLZd+LRYuYgPFWQA5ozGTScBBpxNjnkm9WmeXVkC4C7+9uhKky+7BCpf94gW444PZuAGj0t8\n",
       "AYrYGzZA1xhto2zvdfKdm/YBMZxFJj0ADW/eagJgKzrgF0R45sZXIVBmJG2gWEw1YkEXf2REg3MI\n",
       "tEVeBzq5KQ1Jy9Hd8cx46BmpNgCSh5uQ5mchYoDKAh5u2hPPAoigdr43sXSGmnKAl1lmSlrp9Tz+\n",
       "6Zkx6QugXoYGd3y6AO1sA6pzlpeAepe2H7yAyQCuI4DGTMSgha04e4VGb2WGwnytVJmK+eObKY59\n",
       "oCQAtqNvq/CYV3EsA31MGLGrQ3QF4k3CxBWeE04ILn2h7RMVd2KK6dw0cAIpFqK0dCRrKaxr5EOw\n",
       "6aii40SUOsVOwmuYHSU4Hc/SVTADdwAT0GxRgSxD2LjH8NrwlXjSDYkHMGxjwnQfczdcCNEMVqop\n",
       "OsiRLFNRPCVvigjRI8MAJumJiH9MQINOLkVyXChAIksFPCWPCmXyG6XXQPyOYRHiGWEKVGl8k3Sf\n",
       "gSzNbVXjIWcqccaoJ2sC4DAtA9PHpmERU4bke4EJ0G2+4cKgufeqRnZj+iV6THp+NQlA6MIpXZhS\n",
       "uMNGXZnHsQppdGSDXfq2Sndu7Ixdip2PggP+AgT1v5Zil4klWL3jeH1YT+PJwz4LL4Z1oVJKpLB+\n",
       "qTCAVNl+zPIXIOVIFX+AioPbM9cLHVawp4x9ND9bpzJTEScHJNdxSwDE8AVwlUDX0+7e9UIMvP1B\n",
       "MigUSfAVAJw7O6z7AoS9X3ghfWNv/4l2C5IMILqpT7JXrJ/2N21wmrt3BfJ/tT9Y/ANHQjfkRgAA\n",
       "AABJRU5ErkJggg==\n",
       "\" style=\"display:inline;vertical-align:middle;\" /></a><br>(see <a class=\"ProveItLink\" href=\"../__pv_it/f341e6557e8ba24b6ae03a6cbef42738c8a38c8f0/dependencies.ipynb\">dependencies</a>)<br>"
      ],
      "text/plain": [
       "listLen5: forall_{a, b, c, d, e} (|(a , b , c , d , e)| = 5)"
      ]
     },
     "execution_count": 2,
     "metadata": {},
     "output_type": "execute_result"
    }
   ],
   "source": [
    "%proving listLen5 presuming []"
   ]
  },
  {
   "cell_type": "code",
   "execution_count": null,
   "metadata": {},
   "outputs": [],
   "source": []
  }
 ],
 "metadata": {
  "kernelspec": {
   "display_name": "Python 3",
   "language": "python",
   "name": "python3"
  }
 },
 "nbformat": 4,
 "nbformat_minor": 0
}
