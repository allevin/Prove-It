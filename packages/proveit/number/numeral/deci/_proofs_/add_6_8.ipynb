{
 "cells": [
  {
   "cell_type": "markdown",
   "metadata": {},
   "source": [
    "Proof of <a class=\"ProveItLink\" href=\"../../../../_context_.ipynb\">proveit</a>.<a class=\"ProveItLink\" href=\"../../../_context_.ipynb\">number</a>.<a class=\"ProveItLink\" href=\"../../_context_.ipynb\">numeral</a>.<a class=\"ProveItLink\" href=\"../_context_.ipynb\">decimal</a>.<a class=\"ProveItLink\" href=\"../_theorems_.ipynb#add_6_8\">add_6_8</a> theorem\n",
    "========"
   ]
  },
  {
   "cell_type": "code",
   "execution_count": 1,
   "metadata": {},
   "outputs": [],
   "source": [
    "import proveit\n",
    "context = proveit.Context('..') # the theorem's context is in the parent directory"
   ]
  },
  {
   "cell_type": "code",
   "execution_count": 2,
   "metadata": {},
   "outputs": [
    {
     "name": "stdout",
     "output_type": "stream",
     "text": [
      "Beginning proof of add_6_8\n",
      "Recorded 'presuming' information\n",
      "Presuming previous theorems (applied transitively).\n"
     ]
    },
    {
     "data": {
      "text/html": [
       "<strong id=\"add_6_8\">add_6_8:</strong> <a class=\"ProveItLink\" href=\"../__pv_it/9699a60078edb665bbb079a024a5c8d13afd69090/expr.ipynb\"><img src=\"data:image/png;base64,iVBORw0KGgoAAAANSUhEUgAAAGwAAAAVBAMAAABRZRb3AAAAMFBMVEX////c3NwiIiJERESqqqqY\n",
       "mJh2dnZmZmYQEBDu7u4yMjJUVFTMzMyIiIi6uroAAAAs73DqAAAAAXRSTlMAQObYZgAAAYZJREFU\n",
       "OMud0zFIAlEYB/C/dXd6hilBU4sVRWNDtdpcBG5BSzfp0OJgCVEg2Fy2iASRIBFeETo1SHVzDTm1\n",
       "RdEURdCQkETZd89Lenf3bujBnef7/N37/L73gH+O/oYgID94sWtATSYMfrKQSAMbzh/35i2CCjBg\n",
       "9EX5cAr+OIIOpcYYGwVClOM4gqXO/K6VXxxqFLJmV/VLk4VyQCAPudUNLHQ+lKrJ1KxjuXuTDZaB\n",
       "ZyCYtTPpM69QFlPuTCO2BoRP7tI8Q6x5S/ekK5MjxA6BgzH0xHnmbw/TfY496mxUu2wfxLaJvUFp\n",
       "8Wzxqj0LPLmuppnsmxgV7Z1jcgrL9KIbNyYZFguXIH/R3LquT+j6MVh5fU0BK8BkW9R6x2pFujat\n",
       "JP0jbEz+svl6/eMc01Rux38LRIAasOTeAOQ6RZ5Bka+kVIGkiRrA2KOZx9mFrW8vGbOTp3aV2Tmi\n",
       "96+0V1k+sO8SawtmxeeG36+vf78oDY/zVhFG9ryO6ZAwUvNiPlEqIUOMfgB9mnDMkQtbVQAAAABJ\n",
       "RU5ErkJggg==\n",
       "\" style=\"display:inline;vertical-align:middle;\" /></a><br>(see <a class=\"ProveItLink\" href=\"../__pv_it/9699a60078edb665bbb079a024a5c8d13afd69090/dependencies.ipynb\">dependencies</a>)<br>"
      ],
      "text/plain": [
       "add_6_8: (6 + 8) = 14"
      ]
     },
     "execution_count": 2,
     "metadata": {},
     "output_type": "execute_result"
    }
   ],
   "source": [
    "%proving add_6_8 presuming []"
   ]
  },
  {
   "cell_type": "code",
   "execution_count": null,
   "metadata": {},
   "outputs": [],
   "source": []
  }
 ],
 "metadata": {
  "kernelspec": {
   "display_name": "Python 3",
   "language": "python",
   "name": "python3"
  }
 },
 "nbformat": 4,
 "nbformat_minor": 0
}
