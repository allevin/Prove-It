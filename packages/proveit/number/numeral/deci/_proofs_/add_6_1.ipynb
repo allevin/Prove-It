{
 "cells": [
  {
   "cell_type": "markdown",
   "metadata": {},
   "source": [
    "Proof of <a class=\"ProveItLink\" href=\"../../../../_context_.ipynb\">proveit</a>.<a class=\"ProveItLink\" href=\"../../../_context_.ipynb\">number</a>.<a class=\"ProveItLink\" href=\"../../_context_.ipynb\">numeral</a>.<a class=\"ProveItLink\" href=\"../_context_.ipynb\">decimal</a>.<a class=\"ProveItLink\" href=\"../_theorems_.ipynb#add_6_1\">add_6_1</a> theorem\n",
    "========"
   ]
  },
  {
   "cell_type": "code",
   "execution_count": 1,
   "metadata": {},
   "outputs": [],
   "source": [
    "import proveit\n",
    "context = proveit.Context('..') # the theorem's context is in the parent directory"
   ]
  },
  {
   "cell_type": "code",
   "execution_count": 2,
   "metadata": {},
   "outputs": [
    {
     "name": "stdout",
     "output_type": "stream",
     "text": [
      "Beginning proof of add_6_1\n",
      "Recorded 'presuming' information\n",
      "Presuming previous theorems (applied transitively).\n"
     ]
    },
    {
     "data": {
      "text/html": [
       "<strong id=\"add_6_1\">add_6_1:</strong> <a class=\"ProveItLink\" href=\"../__pv_it/86f2fbb94e3b04c586c61670092baa79d41b60a40/expr.ipynb\"><img src=\"data:image/png;base64,iVBORw0KGgoAAAANSUhEUgAAAGIAAAAVBAMAAABPrCZEAAAAMFBMVEX////c3NwiIiJERESqqqqY\n",
       "mJh2dnZmZmYQEBDu7u4yMjJUVFTMzMyIiIi6uroAAAAs73DqAAAAAXRSTlMAQObYZgAAAURJREFU\n",
       "OMtjYCAd8F3AIRGHS8dpBgbO9LQDaKKWDAzs6GIMh8rS0hIYGFYyMAgd4FZAlZv8E0gsQNcR////\n",
       "/w0MvEBHqTFwQWUnQqjZu0E6wtB1ZDIwcDMwcExgYP0JF/OF0rwgoRnoOoAuymFgeMXAwNWAXQez\n",
       "A9ZgKmNg4F9ztwSbDrYCDB2TgXgpA8N8VQamACw6WMCeY18FBhvA4iCT+4A6PjCw/cSig68B3QrO\n",
       "D0DiH1CHAgPrFyw6eD6g6+BdANHBv4CB9S+QWbVqlcaqVavx6GACua0FGCY47IC4il0JDAxA7Pmg\n",
       "sDAF+hCHP1gxIv09SEc6EJsxzAggKnT9QSKPQBZv34caH+wVv0qBMfsAXcd5kMEcAshCvsicGdgT\n",
       "O2sCMu8tMicXR/5YiSvjcC7AISGNSwe3AA4JRly59g52YQBK/FrVBFMJLwAAAABJRU5ErkJggg==\n",
       "\" style=\"display:inline;vertical-align:middle;\" /></a><br>(see <a class=\"ProveItLink\" href=\"../__pv_it/86f2fbb94e3b04c586c61670092baa79d41b60a40/dependencies.ipynb\">dependencies</a>)<br>"
      ],
      "text/plain": [
       "add_6_1: (6 + 1) = 7"
      ]
     },
     "execution_count": 2,
     "metadata": {},
     "output_type": "execute_result"
    }
   ],
   "source": [
    "%proving add_6_1 presuming []"
   ]
  },
  {
   "cell_type": "code",
   "execution_count": null,
   "metadata": {},
   "outputs": [],
   "source": []
  }
 ],
 "metadata": {
  "kernelspec": {
   "display_name": "Python 3",
   "language": "python",
   "name": "python3"
  }
 },
 "nbformat": 4,
 "nbformat_minor": 0
}
