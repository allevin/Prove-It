{
 "cells": [
  {
   "cell_type": "markdown",
   "metadata": {},
   "source": [
    "Proof of <a class=\"ProveItLink\" href=\"../../../../_context_.ipynb\">proveit</a>.<a class=\"ProveItLink\" href=\"../../../_context_.ipynb\">number</a>.<a class=\"ProveItLink\" href=\"../../_context_.ipynb\">numeral</a>.<a class=\"ProveItLink\" href=\"../_context_.ipynb\">decimal</a>.<a class=\"ProveItLink\" href=\"../_theorems_.ipynb#add_5_6\">add_5_6</a> theorem\n",
    "========"
   ]
  },
  {
   "cell_type": "code",
   "execution_count": 1,
   "metadata": {},
   "outputs": [],
   "source": [
    "import proveit\n",
    "context = proveit.Context('..') # the theorem's context is in the parent directory"
   ]
  },
  {
   "cell_type": "code",
   "execution_count": 2,
   "metadata": {},
   "outputs": [
    {
     "name": "stdout",
     "output_type": "stream",
     "text": [
      "Beginning proof of add_5_6\n",
      "Recorded 'presuming' information\n",
      "Presuming previous theorems (applied transitively).\n"
     ]
    },
    {
     "data": {
      "text/html": [
       "<strong id=\"add_5_6\">add_5_6:</strong> <a class=\"ProveItLink\" href=\"../__pv_it/b296bc153434f6132d5084fc946a2c6eca9458bd0/expr.ipynb\"><img src=\"data:image/png;base64,iVBORw0KGgoAAAANSUhEUgAAAGsAAAAVBAMAAACzuQ2OAAAAMFBMVEX////c3NwiIiJERESqqqqY\n",
       "mJh2dnZmZmYQEBDu7u4yMjJUVFTMzMyIiIi6uroAAAAs73DqAAAAAXRSTlMAQObYZgAAAVFJREFU\n",
       "OMtjYCAT8F3AIcH6AJ+20wwMSyeIOaAKcqanHWCowVTMPAFGrGRg6P//DU1a6AC3AgMXhi5O+wlQ\n",
       "ghfoxuXbDkDFJ0JpNQauBQysCei6du+fACEYOIB4A1zCF+qtn2BVDRjW3Z8AJV4xYNHGBdFggltb\n",
       "GZDee3cfqjb+NXdLgFQ6bm1LgbQlw/wHKNrmqzIwBTAweIHY7KvAYAOqtj4wl7sBVdsHBjag917g\n",
       "tu0fmMv2B1WbAgPrFwaG83i1MSswsIF0V61apbFq1WqQ34Ch/xevthZgHCgwsH9EsY0ZYhvYkexK\n",
       "YGCAqs0UKMEAilxkbSwQv0Xhtg0YyIwFDB4CKNoYzBhmBOCNgEdA+nj1RtR4Y2DfDorJdei6yvuX\n",
       "B0AIDgFkcV+UJNiAO9+gpte3yBy2C3jy20qcMrPwZVNpnDIb8WljxOUU3gO4NQEA1vV0oXhICsQA\n",
       "AAAASUVORK5CYII=\n",
       "\" style=\"display:inline;vertical-align:middle;\" /></a><br>(see <a class=\"ProveItLink\" href=\"../__pv_it/b296bc153434f6132d5084fc946a2c6eca9458bd0/dependencies.ipynb\">dependencies</a>)<br>"
      ],
      "text/plain": [
       "add_5_6: (5 + 6) = 11"
      ]
     },
     "execution_count": 2,
     "metadata": {},
     "output_type": "execute_result"
    }
   ],
   "source": [
    "%proving add_5_6 presuming []"
   ]
  },
  {
   "cell_type": "code",
   "execution_count": null,
   "metadata": {},
   "outputs": [],
   "source": []
  }
 ],
 "metadata": {
  "kernelspec": {
   "display_name": "Python 3",
   "language": "python",
   "name": "python3"
  }
 },
 "nbformat": 4,
 "nbformat_minor": 0
}
