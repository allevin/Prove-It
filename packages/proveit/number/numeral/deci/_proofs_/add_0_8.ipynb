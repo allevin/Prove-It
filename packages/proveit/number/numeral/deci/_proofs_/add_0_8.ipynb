{
 "cells": [
  {
   "cell_type": "markdown",
   "metadata": {},
   "source": [
    "Proof of <a class=\"ProveItLink\" href=\"../../../../_context_.ipynb\">proveit</a>.<a class=\"ProveItLink\" href=\"../../../_context_.ipynb\">number</a>.<a class=\"ProveItLink\" href=\"../../_context_.ipynb\">numeral</a>.<a class=\"ProveItLink\" href=\"../_context_.ipynb\">decimal</a>.<a class=\"ProveItLink\" href=\"../_theorems_.ipynb#add_0_8\">add_0_8</a> theorem\n",
    "========"
   ]
  },
  {
   "cell_type": "code",
   "execution_count": 1,
   "metadata": {},
   "outputs": [],
   "source": [
    "import proveit\n",
    "context = proveit.Context('..') # the theorem's context is in the parent directory"
   ]
  },
  {
   "cell_type": "code",
   "execution_count": 2,
   "metadata": {},
   "outputs": [
    {
     "name": "stdout",
     "output_type": "stream",
     "text": [
      "Beginning proof of add_0_8\n",
      "Recorded 'presuming' information\n",
      "Presuming previous theorems (applied transitively).\n"
     ]
    },
    {
     "data": {
      "text/html": [
       "<strong id=\"add_0_8\">add_0_8:</strong> <a class=\"ProveItLink\" href=\"../__pv_it/5ca5cc457b52e6b1596e0e57764bc0962032c4f00/expr.ipynb\"><img src=\"data:image/png;base64,iVBORw0KGgoAAAANSUhEUgAAAGEAAAAVBAMAAACkm51HAAAAMFBMVEX////c3NwiIiJERESqqqqY\n",
       "mJh2dnZmZmYQEBDu7u4yMjJUVFTMzMyIiIi6uroAAAAs73DqAAAAAXRSTlMAQObYZgAAAVpJREFU\n",
       "OMuVk79Lw0AUx7/aptfYJM3uYBEHJ3Fx7+QgFF3USclkBwl0UUEKKri4SOzSjF0cmg52k4JDd5f8\n",
       "AQriKAgq6mbr9V4puTM3eMvdfV4+l3c/HvD/5sSawK7OuAeaj3WZmXvVMlhf/VRgoA0soSFHGXAA\n",
       "tFSDsB3DLsEeR6+o2wQawJZqEM4HmO7CeSdWoW5fhELVIPwCFGuwPiVjvQcfyJQVg/AhMOfB+pGM\n",
       "zHDHA3I1xSB8Tca3ZODkwwWyYnMsEq07wZdphlG/4Wk6p8o/CA/SstqGMQxgvSkG4QHt/IuD4yha\n",
       "jKIOH13wZTb+GoTPMTrdrHS6Jk+HxeOs2LxoyxO8gtEN5kpSVmdAwYWhXjrhKh8tIOxLxlqA1ZTT\n",
       "JfzMR03/DpLh3B7x25t5Up+5wHk3ySrJSZj+2A0vOXtNTnxNfbR1hWO2NIFZnVFwNYEpXdU+pONf\n",
       "a2leh3Id6hkAAAAASUVORK5CYII=\n",
       "\" style=\"display:inline;vertical-align:middle;\" /></a><br>(see <a class=\"ProveItLink\" href=\"../__pv_it/5ca5cc457b52e6b1596e0e57764bc0962032c4f00/dependencies.ipynb\">dependencies</a>)<br>"
      ],
      "text/plain": [
       "add_0_8: (0 + 8) = 8"
      ]
     },
     "execution_count": 2,
     "metadata": {},
     "output_type": "execute_result"
    }
   ],
   "source": [
    "%proving add_0_8 presuming []"
   ]
  },
  {
   "cell_type": "code",
   "execution_count": null,
   "metadata": {},
   "outputs": [],
   "source": []
  }
 ],
 "metadata": {
  "kernelspec": {
   "display_name": "Python 3",
   "language": "python",
   "name": "python3"
  }
 },
 "nbformat": 4,
 "nbformat_minor": 0
}
