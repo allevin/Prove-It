{
 "cells": [
  {
   "cell_type": "markdown",
   "metadata": {},
   "source": [
    "Proof of <a class=\"ProveItLink\" href=\"../../../../_context_.ipynb\">proveit</a>.<a class=\"ProveItLink\" href=\"../../../_context_.ipynb\">number</a>.<a class=\"ProveItLink\" href=\"../../_context_.ipynb\">numeral</a>.<a class=\"ProveItLink\" href=\"../_context_.ipynb\">decimal</a>.<a class=\"ProveItLink\" href=\"../_theorems_.ipynb#add_5_4\">add_5_4</a> theorem\n",
    "========"
   ]
  },
  {
   "cell_type": "code",
   "execution_count": 1,
   "metadata": {},
   "outputs": [],
   "source": [
    "import proveit\n",
    "context = proveit.Context('..') # the theorem's context is in the parent directory"
   ]
  },
  {
   "cell_type": "code",
   "execution_count": 2,
   "metadata": {},
   "outputs": [
    {
     "name": "stdout",
     "output_type": "stream",
     "text": [
      "Beginning proof of add_5_4\n",
      "Recorded 'presuming' information\n",
      "Presuming previous theorems (applied transitively).\n"
     ]
    },
    {
     "data": {
      "text/html": [
       "<strong id=\"add_5_4\">add_5_4:</strong> <a class=\"ProveItLink\" href=\"../__pv_it/ee46d0da206a1d8e13406c624ee5da2697d62f820/expr.ipynb\"><img src=\"data:image/png;base64,iVBORw0KGgoAAAANSUhEUgAAAGEAAAAVBAMAAACkm51HAAAAMFBMVEX////c3NwiIiJERESqqqqY\n",
       "mJh2dnZmZmYQEBDu7u4yMjJUVFTMzMyIiIi6uroAAAAs73DqAAAAAXRSTlMAQObYZgAAAXNJREFU\n",
       "OMtjYCAd8F3AIRGHS8dpBoalE8Qc0ER5NjCwH0BXyrk9GyS2koGh//83dEkmAwaGBeiCEg6MjQwM\n",
       "vEBHLd8GM24iTPIGUEcYug4LBobNDAwcExgYNsDFfKE0YxRQxwx0Hb8YGPInMLxiwKaDjQuogxnN\n",
       "c5yfGRjuP2AoAzL33t2HpiMQpIOtAIsdAQxLgSxLhvkPUHRwXgDpYAF7nX0VGIDcUcHAYH+BoQ+s\n",
       "hLsBRQcbA0gHXwOaHbMCWOovMPyDKPmDosMHrIPnA7rXY+/cdwDpYFZgYANprFq1SmPVqtVARyXg\n",
       "0AEOqxZgACswsH9EtoNl9+793RegrmJXAgMDiIJVDAymQDEGBq4FqGHFwAFUwYoe6fcFGIFuSQdG\n",
       "VwGDhwAWHRihe2kCFzCFPAKyjldvRI/B/d8DGLgeoOlgKzcBGSaALOaLzJmBPbGzJiDz3iJzcnHk\n",
       "j5W4Mg7nAhwS0rh0cAvgkGDElWvvYBcGAMG3XCPgpsbzAAAAAElFTkSuQmCC\n",
       "\" style=\"display:inline;vertical-align:middle;\" /></a><br>(see <a class=\"ProveItLink\" href=\"../__pv_it/ee46d0da206a1d8e13406c624ee5da2697d62f820/dependencies.ipynb\">dependencies</a>)<br>"
      ],
      "text/plain": [
       "add_5_4: (5 + 4) = 9"
      ]
     },
     "execution_count": 2,
     "metadata": {},
     "output_type": "execute_result"
    }
   ],
   "source": [
    "%proving add_5_4 presuming []"
   ]
  },
  {
   "cell_type": "code",
   "execution_count": null,
   "metadata": {},
   "outputs": [],
   "source": []
  }
 ],
 "metadata": {
  "kernelspec": {
   "display_name": "Python 3",
   "language": "python",
   "name": "python3"
  }
 },
 "nbformat": 4,
 "nbformat_minor": 0
}
