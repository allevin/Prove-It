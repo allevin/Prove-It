{
 "cells": [
  {
   "cell_type": "markdown",
   "metadata": {},
   "source": [
    "Proof of <a class=\"ProveItLink\" href=\"../../../../_context_.ipynb\">proveit</a>.<a class=\"ProveItLink\" href=\"../../../_context_.ipynb\">number</a>.<a class=\"ProveItLink\" href=\"../../_context_.ipynb\">numeral</a>.<a class=\"ProveItLink\" href=\"../_context_.ipynb\">deci</a>.<a class=\"ProveItLink\" href=\"../_theorems_.ipynb#mult_5_8\">mult_5_8</a> theorem\n",
    "========"
   ]
  },
  {
   "cell_type": "code",
   "execution_count": 1,
   "metadata": {},
   "outputs": [],
   "source": [
    "import proveit\n",
    "context = proveit.Context('..') # the theorem's context is in the parent directory"
   ]
  },
  {
   "cell_type": "code",
   "execution_count": 2,
   "metadata": {},
   "outputs": [
    {
     "name": "stdout",
     "output_type": "stream",
     "text": [
      "Beginning proof of mult_5_8\n",
      "Recorded 'presuming' information\n",
      "Presuming previous theorems (applied transitively).\n"
     ]
    },
    {
     "data": {
      "text/html": [
       "<strong id=\"mult_5_8\">mult_5_8:</strong> <a class=\"ProveItLink\" href=\"../__pv_it/11ea60d64dc38536118bf78caf0a00b08e6b22ca0/expr.ipynb\"><img src=\"data:image/png;base64,iVBORw0KGgoAAAANSUhEUgAAAGEAAAAVBAMAAACkm51HAAAAMFBMVEX////c3NwiIiJERESqqqqY\n",
       "mJh2dnZmZmYQEBDu7u4yMjJUVFTMzMyIiIi6uroAAAAs73DqAAAAAXRSTlMAQObYZgAAAZ9JREFU\n",
       "OMuVkztIw1AUhv8+0jRtlUwuDhYddcji4JZJRITWQQVBCQ52kEIRrOADK7iIosGpW7sUqQ7WRZGi\n",
       "dXNwaHBRfEBxdPGB2EWsJ7FNNTcEvMMl5/z3C+ec/17g/6tVY3OTjsQlkFPb5EYoTMdk8OfsuVAB\n",
       "wvK1LuSB7dqHKfDAHJBlCbcEd0XoAVqoqN2j5j9HgB1glCVuJFwBt4BfBQq/hBmDSDOAa1xCN/As\n",
       "4gl/icgJ4oBHthK+gIQqUJaRpOj04cxUPLUJhfSElRgOSC7qtqwhR1EfMhVTWnkTAa/R+sKevvaN\n",
       "EWp1QsGWcSyY0rPUErilg3cyKWUtCibx9ZP4pC0Tpm0MXE1F6MVCDMGsighPGD4dTEu0rQMdUYYQ\n",
       "FNQ7j2KNBhwG/9qQqBxeq1c126mvLvryFoulDY2mGxHRa9gcME1epaZEcKzpfsPBKSBG5iQwIDaE\n",
       "QRX9dtPVCbcsbAKPFFwsHjav8vE8uReoMA6WqlEheUfXyS/aXei0w2XnFLts3Ol95G1yQtaJaLfJ\n",
       "BUUnwmXzau8dzn8D6llo2/5baWQAAAAASUVORK5CYII=\n",
       "\" style=\"display:inline;vertical-align:middle;\" /></a><br>(see <a class=\"ProveItLink\" href=\"../__pv_it/11ea60d64dc38536118bf78caf0a00b08e6b22ca0/dependencies.ipynb\">dependencies</a>)<br>"
      ],
      "text/plain": [
       "mult_5_8: (5 * 8) = 40"
      ]
     },
     "execution_count": 2,
     "metadata": {},
     "output_type": "execute_result"
    }
   ],
   "source": [
    "%proving mult_5_8 presuming []"
   ]
  },
  {
   "cell_type": "code",
   "execution_count": null,
   "metadata": {},
   "outputs": [],
   "source": []
  }
 ],
 "metadata": {
  "kernelspec": {
   "display_name": "Python 3",
   "language": "python",
   "name": "python3"
  }
 },
 "nbformat": 4,
 "nbformat_minor": 0
}
