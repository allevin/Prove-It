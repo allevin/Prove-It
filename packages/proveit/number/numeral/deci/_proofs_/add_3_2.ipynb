{
 "cells": [
  {
   "cell_type": "markdown",
   "metadata": {},
   "source": [
    "Proof of <a class=\"ProveItLink\" href=\"../../../../_context_.ipynb\">proveit</a>.<a class=\"ProveItLink\" href=\"../../../_context_.ipynb\">number</a>.<a class=\"ProveItLink\" href=\"../../_context_.ipynb\">numeral</a>.<a class=\"ProveItLink\" href=\"../_context_.ipynb\">decimal</a>.<a class=\"ProveItLink\" href=\"../_theorems_.ipynb#add_3_2\">add_3_2</a> theorem\n",
    "========"
   ]
  },
  {
   "cell_type": "code",
   "execution_count": 1,
   "metadata": {},
   "outputs": [],
   "source": [
    "import proveit\n",
    "context = proveit.Context('..') # the theorem's context is in the parent directory"
   ]
  },
  {
   "cell_type": "code",
   "execution_count": 2,
   "metadata": {},
   "outputs": [
    {
     "name": "stdout",
     "output_type": "stream",
     "text": [
      "Beginning proof of add_3_2\n",
      "Recorded 'presuming' information\n",
      "Presuming previous theorems (applied transitively).\n"
     ]
    },
    {
     "data": {
      "text/html": [
       "<strong id=\"add_3_2\">add_3_2:</strong> <a class=\"ProveItLink\" href=\"../__pv_it/b2c26ec51c274b7c7bcbeedee8c49166a0c5e2f80/expr.ipynb\"><img src=\"data:image/png;base64,iVBORw0KGgoAAAANSUhEUgAAAGEAAAAVBAMAAACkm51HAAAAMFBMVEX////c3NwiIiJERESqqqqY\n",
       "mJh2dnZmZmYQEBDu7u4yMjJUVFTMzMyIiIi6uroAAAAs73DqAAAAAXRSTlMAQObYZgAAAXlJREFU\n",
       "OMuVkzFIw0AUhv/YpLVtYoOLQxdxcouI7m5OBSfBRTJIBVEMChZ0qIqDk8StmwV1aBzsqDiYycWl\n",
       "o6DC4ShIVarQpfFyqZhccoNveJf37n28d//lgP/bUEuwsSgi7oG78lQ0J1VOCTIuX5pbkJbo0oBk\n",
       "oR1tVITWAeo8Meh5JqC1kO6gMBrkjoPlGjCA+ViPnVWfsyH/EaVgObRxS1DjiTzzr8z/TtUnLm1U\n",
       "CVIzicQW8xeIENQMG2mLJ54fCXBOv9SVJk+o34DMjp5xmPkVKTvbA45YwQPhiNwEvand+F1cAb1A\n",
       "ty5HbPp93uPEuusTkovUF422HWfccdiRtGYSMUkJggPgpBsQoR6zkPT+VJkxZnRK7ANVHdNAoY6B\n",
       "jwihWlB0KPylU+0cYJmOMIe2GSGGy+UNxNUdgbwHvPgzVM6i6hqe90n1IhyhVm50qpIezpXCQS35\n",
       "Z1fMcPQWDtYE76MhejjZumCjKCLyumBDEr3ap+T0D2tUXZnAxHxxAAAAAElFTkSuQmCC\n",
       "\" style=\"display:inline;vertical-align:middle;\" /></a><br>(see <a class=\"ProveItLink\" href=\"../__pv_it/b2c26ec51c274b7c7bcbeedee8c49166a0c5e2f80/dependencies.ipynb\">dependencies</a>)<br>"
      ],
      "text/plain": [
       "add_3_2: (3 + 2) = 5"
      ]
     },
     "execution_count": 2,
     "metadata": {},
     "output_type": "execute_result"
    }
   ],
   "source": [
    "%proving add_3_2 presuming []"
   ]
  },
  {
   "cell_type": "code",
   "execution_count": null,
   "metadata": {},
   "outputs": [],
   "source": []
  }
 ],
 "metadata": {
  "kernelspec": {
   "display_name": "Python 3",
   "language": "python",
   "name": "python3"
  }
 },
 "nbformat": 4,
 "nbformat_minor": 0
}
