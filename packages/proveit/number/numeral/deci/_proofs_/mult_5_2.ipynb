{
 "cells": [
  {
   "cell_type": "markdown",
   "metadata": {},
   "source": [
    "Proof of <a class=\"ProveItLink\" href=\"../../../../_context_.ipynb\">proveit</a>.<a class=\"ProveItLink\" href=\"../../../_context_.ipynb\">number</a>.<a class=\"ProveItLink\" href=\"../../_context_.ipynb\">numeral</a>.<a class=\"ProveItLink\" href=\"../_context_.ipynb\">deci</a>.<a class=\"ProveItLink\" href=\"../_theorems_.ipynb#mult_5_2\">mult_5_2</a> theorem\n",
    "========"
   ]
  },
  {
   "cell_type": "code",
   "execution_count": 1,
   "metadata": {},
   "outputs": [],
   "source": [
    "import proveit\n",
    "context = proveit.Context('..') # the theorem's context is in the parent directory"
   ]
  },
  {
   "cell_type": "code",
   "execution_count": 2,
   "metadata": {},
   "outputs": [
    {
     "name": "stdout",
     "output_type": "stream",
     "text": [
      "Beginning proof of mult_5_2\n",
      "Recorded 'presuming' information\n",
      "Presuming previous theorems (applied transitively).\n"
     ]
    },
    {
     "data": {
      "text/html": [
       "<strong id=\"mult_5_2\">mult_5_2:</strong> <a class=\"ProveItLink\" href=\"../__pv_it/a3f758c0b85a910c9545e7748c27f4adf16f76d70/expr.ipynb\"><img src=\"data:image/png;base64,iVBORw0KGgoAAAANSUhEUgAAAGEAAAAVBAMAAACkm51HAAAAMFBMVEX////c3NwiIiJERESqqqqY\n",
       "mJh2dnZmZmYQEBDu7u4yMjJUVFTMzMyIiIi6uroAAAAs73DqAAAAAXRSTlMAQObYZgAAAYVJREFU\n",
       "OMuVkz1Iw1AQx/9pbdPYVh4OLl2Kjgrt4uCWTTedHKU41EkoFasoYgcHB9GAS8GhBSlSHayLIOLH\n",
       "5uDQ4iL4AcHRxQ9EUcR4edgmbV4CvuGRu//75e7d3QP+v7rqTt+EJ3EJlLUetWFKc9s65HPnuSFA\n",
       "Wbo2hQqwYbw3hRiib0DJAWx+Aj5dGQCilNTOofXPIyABjLcDW8dEXAE3QEgDqjZpVcOZjoIjRpSI\n",
       "fuCJ4RGtxL6GZR1+VUR8ADUVObJO7k/tYkJDMCMgJLptrY4yL0NRt7QICR386gu75tprIVJY53Y4\n",
       "T5ui8e/OJDUp7xYjhR9uB79pK8b594wZ59k9KyL8cQRNsJDkUtWN4DcfwwoVOA75pSkNQ2J/WWV7\n",
       "zdVnr+4owyAgU+7NJkcyCDAESqIY1MFJYIpGKYMR1lC60+ksxNWFT1XWgAeyLhYPrGYYxivF1NsA\n",
       "ef5rFkrulsYpxEQDXfAY9kBK5J32eh8VgU8peRExgS/MvAhJ8GrvPM7/AiTQbU4CmvdoAAAAAElF\n",
       "TkSuQmCC\n",
       "\" style=\"display:inline;vertical-align:middle;\" /></a><br>(see <a class=\"ProveItLink\" href=\"../__pv_it/a3f758c0b85a910c9545e7748c27f4adf16f76d70/dependencies.ipynb\">dependencies</a>)<br>"
      ],
      "text/plain": [
       "mult_5_2: (5 * 2) = 10"
      ]
     },
     "execution_count": 2,
     "metadata": {},
     "output_type": "execute_result"
    }
   ],
   "source": [
    "%proving mult_5_2 presuming []"
   ]
  },
  {
   "cell_type": "code",
   "execution_count": null,
   "metadata": {},
   "outputs": [],
   "source": []
  }
 ],
 "metadata": {
  "kernelspec": {
   "display_name": "Python 3",
   "language": "python",
   "name": "python3"
  }
 },
 "nbformat": 4,
 "nbformat_minor": 0
}
