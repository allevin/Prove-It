{
 "cells": [
  {
   "cell_type": "markdown",
   "metadata": {},
   "source": [
    "Proof of <a class=\"ProveItLink\" href=\"../../../../_context_.ipynb\">proveit</a>.<a class=\"ProveItLink\" href=\"../../../_context_.ipynb\">number</a>.<a class=\"ProveItLink\" href=\"../../_context_.ipynb\">numeral</a>.<a class=\"ProveItLink\" href=\"../_context_.ipynb\">deci</a>.<a class=\"ProveItLink\" href=\"../_theorems_.ipynb#mult_7_0\">mult_7_0</a> theorem\n",
    "========"
   ]
  },
  {
   "cell_type": "code",
   "execution_count": 1,
   "metadata": {},
   "outputs": [],
   "source": [
    "import proveit\n",
    "context = proveit.Context('..') # the theorem's context is in the parent directory"
   ]
  },
  {
   "cell_type": "code",
   "execution_count": 2,
   "metadata": {},
   "outputs": [
    {
     "name": "stdout",
     "output_type": "stream",
     "text": [
      "Beginning proof of mult_7_0\n",
      "Recorded 'presuming' information\n",
      "Presuming previous theorems (applied transitively).\n"
     ]
    },
    {
     "data": {
      "text/html": [
       "<strong id=\"mult_7_0\">mult_7_0:</strong> <a class=\"ProveItLink\" href=\"../__pv_it/e2e91e94f77d0933d46a7a7652b57be9debaefb20/expr.ipynb\"><img src=\"data:image/png;base64,iVBORw0KGgoAAAANSUhEUgAAAFcAAAAVBAMAAADBdm84AAAAMFBMVEX////c3NwiIiJERESqqqqY\n",
       "mJh2dnZmZmYQEBDu7u4yMjJUVFTMzMyIiIi6uroAAAAs73DqAAAAAXRSTlMAQObYZgAAATZJREFU\n",
       "KM9jYCAJ8F3AFIvDpfg0A496WloajMtZe/0AA/sBdFVgYQaGlQys/////w0TZXrAqcPAsABdMUSY\n",
       "9wID2wQGhg0w0UsMDLcYGMLQFUOEOSYwsDEwsMHt1WZgeC/AMANdMUT4FZj9Fi76nYHhvAMDswOa\n",
       "YohwGdj5BjBBxm9AUaDLClDVQoWXgtjsDiiiCQwsYB9WrQKB1QjhPpDofEjwTICL8jVgMTmB4R+I\n",
       "fQssMl8Bbh/PB6zO+Af1KxDMMID6JABDMVS4BWT/d5Qw8heAOqNICQSUEcKmoOTxHSX0kxgYWBdg\n",
       "RgpQOB3IYkFSzOTA2cOAEXRQ4UdAFs9XpBRTdhsYm1wP0BMSWJhDAFtSnIE9hbImYBPNxZGeV2IR\n",
       "41yAQ7E0FjFuARyKGbFkqzvYlQIAC6JfL0ICbtAAAAAASUVORK5CYII=\n",
       "\" style=\"display:inline;vertical-align:middle;\" /></a><br>(see <a class=\"ProveItLink\" href=\"../__pv_it/e2e91e94f77d0933d46a7a7652b57be9debaefb20/dependencies.ipynb\">dependencies</a>)<br>"
      ],
      "text/plain": [
       "mult_7_0: (7 * 0) = 0"
      ]
     },
     "execution_count": 2,
     "metadata": {},
     "output_type": "execute_result"
    }
   ],
   "source": [
    "%proving mult_7_0 presuming []"
   ]
  },
  {
   "cell_type": "code",
   "execution_count": null,
   "metadata": {},
   "outputs": [],
   "source": []
  }
 ],
 "metadata": {
  "kernelspec": {
   "display_name": "Python 3",
   "language": "python",
   "name": "python3"
  }
 },
 "nbformat": 4,
 "nbformat_minor": 0
}
