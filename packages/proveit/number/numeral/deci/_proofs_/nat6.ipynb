{
 "cells": [
  {
   "cell_type": "markdown",
   "metadata": {},
   "source": [
    "Proof of <a class=\"ProveItLink\" href=\"../../../../_context_.ipynb\">proveit</a>.<a class=\"ProveItLink\" href=\"../../../_context_.ipynb\">number</a>.<a class=\"ProveItLink\" href=\"../../_context_.ipynb\">numeral</a>.<a class=\"ProveItLink\" href=\"../_context_.ipynb\">decimal</a>.<a class=\"ProveItLink\" href=\"../_theorems_.ipynb#nat6\">nat6</a> theorem\n",
    "========"
   ]
  },
  {
   "cell_type": "code",
   "execution_count": 1,
   "metadata": {},
   "outputs": [],
   "source": [
    "import proveit\n",
    "context = proveit.Context('..') # the theorem's context is in the parent directory"
   ]
  },
  {
   "cell_type": "code",
   "execution_count": 2,
   "metadata": {},
   "outputs": [
    {
     "name": "stdout",
     "output_type": "stream",
     "text": [
      "Beginning proof of nat6\n",
      "Recorded 'presuming' information\n",
      "Presuming previous theorems (applied transitively).\n"
     ]
    },
    {
     "data": {
      "text/html": [
       "<strong id=\"nat6\">nat6:</strong> <a class=\"ProveItLink\" href=\"../__pv_it/352d3c48d53ed118c714ea516ce92410fd845dfc0/expr.ipynb\"><img src=\"data:image/png;base64,iVBORw0KGgoAAAANSUhEUgAAADMAAAAPBAMAAAC7N+rPAAAAMFBMVEX///+6urpERESqqqqIiIgQ\n",
       "EBCYmJgyMjJUVFQiIiLc3NzMzMxmZmZ2dnbu7u4AAABf+mkYAAAAAXRSTlMAQObYZgAAAOZJREFU\n",
       "GNNjYOC7c3cDAzJ4/kn9AcPJnwYMDCs3cExAkWJQ41ZgYPgAZMxlYC9Alerc4MLAEMDAwPYPJvKk\n",
       "cuZ0MKOxjmMDSIo9ACrDXfYAyurewVcHkuKvdjkMFlgEk2HoZnbYBJJ6P42BMwEkoAW3q5vhIJsD\n",
       "SOoDAy/IOj4FJCmOB90gqQkMbJ+BfMbImTOhzuhm4Gt4DrKrgIHtC8gVDUi6GPZyA6WYoLr4JiBL\n",
       "sRkAzWeG2sXQhizFcAtktS7DU7ALXwrApBSBmAcUQjw9jWABrhpoKIt/BergQwk85naoC6EAAB8G\n",
       "QAgZVqg6AAAAAElFTkSuQmCC\n",
       "\" style=\"display:inline;vertical-align:middle;\" /></a><br>(see <a class=\"ProveItLink\" href=\"../__pv_it/352d3c48d53ed118c714ea516ce92410fd845dfc0/dependencies.ipynb\">dependencies</a>)<br>"
      ],
      "text/plain": [
       "nat6: 6 in Naturals"
      ]
     },
     "execution_count": 2,
     "metadata": {},
     "output_type": "execute_result"
    }
   ],
   "source": [
    "%proving nat6 presuming []"
   ]
  },
  {
   "cell_type": "code",
   "execution_count": null,
   "metadata": {},
   "outputs": [],
   "source": []
  }
 ],
 "metadata": {
  "kernelspec": {
   "display_name": "Python 3",
   "language": "python",
   "name": "python3"
  }
 },
 "nbformat": 4,
 "nbformat_minor": 0
}
