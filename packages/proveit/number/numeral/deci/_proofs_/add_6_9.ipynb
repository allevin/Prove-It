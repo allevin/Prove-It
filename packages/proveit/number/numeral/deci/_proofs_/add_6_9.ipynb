{
 "cells": [
  {
   "cell_type": "markdown",
   "metadata": {},
   "source": [
    "Proof of <a class=\"ProveItLink\" href=\"../../../../_context_.ipynb\">proveit</a>.<a class=\"ProveItLink\" href=\"../../../_context_.ipynb\">number</a>.<a class=\"ProveItLink\" href=\"../../_context_.ipynb\">numeral</a>.<a class=\"ProveItLink\" href=\"../_context_.ipynb\">decimal</a>.<a class=\"ProveItLink\" href=\"../_theorems_.ipynb#add_6_9\">add_6_9</a> theorem\n",
    "========"
   ]
  },
  {
   "cell_type": "code",
   "execution_count": 1,
   "metadata": {},
   "outputs": [],
   "source": [
    "import proveit\n",
    "context = proveit.Context('..') # the theorem's context is in the parent directory"
   ]
  },
  {
   "cell_type": "code",
   "execution_count": 2,
   "metadata": {},
   "outputs": [
    {
     "name": "stdout",
     "output_type": "stream",
     "text": [
      "Beginning proof of add_6_9\n",
      "Recorded 'presuming' information\n",
      "Presuming previous theorems (applied transitively).\n"
     ]
    },
    {
     "data": {
      "text/html": [
       "<strong id=\"add_6_9\">add_6_9:</strong> <a class=\"ProveItLink\" href=\"../__pv_it/e2e69544d23ee1b6692f0b76bde4b503aa93a4e40/expr.ipynb\"><img src=\"data:image/png;base64,iVBORw0KGgoAAAANSUhEUgAAAGwAAAAVBAMAAABRZRb3AAAAMFBMVEX////c3NwiIiJERESqqqqY\n",
       "mJh2dnZmZmYQEBDu7u4yMjJUVFTMzMyIiIi6uroAAAAs73DqAAAAAXRSTlMAQObYZgAAAZBJREFU\n",
       "OMudk79Lw1AQx7+1JmlaosVBBAeDoOjWQQUn3RSh0NnJya6CUkEdMnS2dRMd2qWUxh+0iw5q7eYg\n",
       "Yv+BYnESQbCgQkGr91ItfUleBt+Sy9373I93d8A/T19VYJDqXtgtoMZXK7zyMHEJ7Dgv+9NALj04\n",
       "DxSAgUpI56y+JIbCCDoodY6w1PcHoFGO4whm2/q9X6cGQhFIK3bq4pqw/BmlFkhDanYM0fanPwu5\n",
       "CdVwhHsgrMiEZyBo2LFMBFoLmBJjCfJ9XNtwRnsH4q7YVa1M70K+x9AT4zDFgP8LWLJk0zrFDjaL\n",
       "TB27hL2ySroxNYcFwp5cowEhA1RCRof0xmGQanekuRdg8ifDqBKJfGPLNCdM86h9gcV3xfw65BaS\n",
       "YII9GqxOWkkqo9aJ/GEBHUoD00CvozatgRGayGW3aIrlkj3yDPb5l9QmcQJBA3xrWAzjkeVxXub7\n",
       "hvg6TStO7dRmKh/DzXaJhivcrY9yI2iI94af15fuH7nqsW8FoeXAa02HhZaSF+YTpaJVxNAPT6t0\n",
       "+RgRH/8AAAAASUVORK5CYII=\n",
       "\" style=\"display:inline;vertical-align:middle;\" /></a><br>(see <a class=\"ProveItLink\" href=\"../__pv_it/e2e69544d23ee1b6692f0b76bde4b503aa93a4e40/dependencies.ipynb\">dependencies</a>)<br>"
      ],
      "text/plain": [
       "add_6_9: (6 + 9) = 15"
      ]
     },
     "execution_count": 2,
     "metadata": {},
     "output_type": "execute_result"
    }
   ],
   "source": [
    "%proving add_6_9 presuming []"
   ]
  },
  {
   "cell_type": "code",
   "execution_count": null,
   "metadata": {},
   "outputs": [],
   "source": []
  }
 ],
 "metadata": {
  "kernelspec": {
   "display_name": "Python 3",
   "language": "python",
   "name": "python3"
  }
 },
 "nbformat": 4,
 "nbformat_minor": 0
}
