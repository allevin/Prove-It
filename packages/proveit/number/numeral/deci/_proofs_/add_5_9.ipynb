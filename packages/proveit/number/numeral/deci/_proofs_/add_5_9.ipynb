{
 "cells": [
  {
   "cell_type": "markdown",
   "metadata": {},
   "source": [
    "Proof of <a class=\"ProveItLink\" href=\"../../../../_context_.ipynb\">proveit</a>.<a class=\"ProveItLink\" href=\"../../../_context_.ipynb\">number</a>.<a class=\"ProveItLink\" href=\"../../_context_.ipynb\">numeral</a>.<a class=\"ProveItLink\" href=\"../_context_.ipynb\">decimal</a>.<a class=\"ProveItLink\" href=\"../_theorems_.ipynb#add_5_9\">add_5_9</a> theorem\n",
    "========"
   ]
  },
  {
   "cell_type": "code",
   "execution_count": 1,
   "metadata": {},
   "outputs": [],
   "source": [
    "import proveit\n",
    "context = proveit.Context('..') # the theorem's context is in the parent directory"
   ]
  },
  {
   "cell_type": "code",
   "execution_count": 2,
   "metadata": {},
   "outputs": [
    {
     "name": "stdout",
     "output_type": "stream",
     "text": [
      "Beginning proof of add_5_9\n",
      "Recorded 'presuming' information\n",
      "Presuming previous theorems (applied transitively).\n"
     ]
    },
    {
     "data": {
      "text/html": [
       "<strong id=\"add_5_9\">add_5_9:</strong> <a class=\"ProveItLink\" href=\"../__pv_it/49c545624c5376d5cb0e640439ccc0475f8a13070/expr.ipynb\"><img src=\"data:image/png;base64,iVBORw0KGgoAAAANSUhEUgAAAGwAAAAVBAMAAABRZRb3AAAAMFBMVEX////c3NwiIiJERESqqqqY\n",
       "mJh2dnZmZmYQEBDu7u4yMjJUVFTMzMyIiIi6uroAAAAs73DqAAAAAXRSTlMAQObYZgAAAYNJREFU\n",
       "OMud0z1Lw0AYB/B/qUnfiGZRBAeLLrp10MFJN0UpODtl6+AiiBXUIdDOti4OirQgoTSitItLrWZz\n",
       "ELFfoFicRHAoqCho6+UaS6+5y+Atl+ee++U57gX4ZxusCRJSw4vdAUZ2ZIEdPE5eAXvuyf6sQ1AE\n",
       "Mu0PNutLY1RF2KVC85RNAgpZY+HScsYPnJ/qiMQgaf2qcmMzJQUEyUepm4h3uqE85C+EdFe5R5sN\n",
       "nwIv4LBcDEoLmOEzjbAk6av1a3e1dyDBZZJKmEGCOeQaDAvo8P8Ay/TbpK3UZScgbJ+GEZ1hIQOL\n",
       "hD1zq2k2a9FQ/mYYpPr9G/DAYwOWw/xRyLbeMc0p0zzrTCA7yWeHsFmanEEUgSZbDQjnnUUGJmiL\n",
       "/bGVSuWzilmS6EzqYUoT42ST1vgHgBTdZN8GllSWTeMcogOg7Il0t7tl9tyQ2LTv9kW/2s4UVoH1\n",
       "9haCau94nLmCuvjdsPf1tTeQax7vrSjMHHk90zFhpuzFfKKlKJYY/QKbq3B7fKdmMgAAAABJRU5E\n",
       "rkJggg==\n",
       "\" style=\"display:inline;vertical-align:middle;\" /></a><br>(see <a class=\"ProveItLink\" href=\"../__pv_it/49c545624c5376d5cb0e640439ccc0475f8a13070/dependencies.ipynb\">dependencies</a>)<br>"
      ],
      "text/plain": [
       "add_5_9: (5 + 9) = 14"
      ]
     },
     "execution_count": 2,
     "metadata": {},
     "output_type": "execute_result"
    }
   ],
   "source": [
    "%proving add_5_9 presuming []"
   ]
  },
  {
   "cell_type": "code",
   "execution_count": null,
   "metadata": {},
   "outputs": [],
   "source": []
  }
 ],
 "metadata": {
  "kernelspec": {
   "display_name": "Python 3",
   "language": "python",
   "name": "python3"
  }
 },
 "nbformat": 4,
 "nbformat_minor": 0
}
