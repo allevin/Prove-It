{
 "cells": [
  {
   "cell_type": "markdown",
   "metadata": {},
   "source": [
    "Proof of <a class=\"ProveItLink\" href=\"../../../../_context_.ipynb\">proveit</a>.<a class=\"ProveItLink\" href=\"../../../_context_.ipynb\">number</a>.<a class=\"ProveItLink\" href=\"../../_context_.ipynb\">numeral</a>.<a class=\"ProveItLink\" href=\"../_context_.ipynb\">decimal</a>.<a class=\"ProveItLink\" href=\"../_theorems_.ipynb#listLen1\">listLen1</a> theorem\n",
    "========"
   ]
  },
  {
   "cell_type": "code",
   "execution_count": 1,
   "metadata": {},
   "outputs": [],
   "source": [
    "import proveit\n",
    "context = proveit.Context('..') # the theorem's context is in the parent directory"
   ]
  },
  {
   "cell_type": "code",
   "execution_count": 2,
   "metadata": {},
   "outputs": [
    {
     "name": "stdout",
     "output_type": "stream",
     "text": [
      "Beginning proof of listLen1\n",
      "Recorded 'presuming' information\n"
     ]
    },
    {
     "data": {
      "text/html": [
       "<strong id=\"listLen1\">listLen1:</strong> <a class=\"ProveItLink\" href=\"../__pv_it/b0a86b785826266406961fb4776f2640ba78d37b0/expr.ipynb\"><img src=\"data:image/png;base64,iVBORw0KGgoAAAANSUhEUgAAAIEAAAAVBAMAAACTeZA2AAAAMFBMVEX///8QEBC6urrMzMxUVFRm\n",
       "ZmZERETc3NwyMjKqqqp2dnaIiIiYmJgiIiLu7u4AAAAU9Wx4AAAAAXRSTlMAQObYZgAAAeBJREFU\n",
       "OMtjYMAGphMpBgYPMESYNjAsAjO0IXweBTC1CJvuQ0B8AcQ4jSxqAlXN7AAVCMZhQh4DA6sBA8NK\n",
       "ELsPWaIPqpoD5jwO7CY8+wckGhgYyoAUewKSBPcGqOrdMBGeBdhMeOICMuEUxCbWCUgyjA+gquVg\n",
       "InwCWN3ADTLhIdCC5eXltcgSGlDVTA1woUzcJrABLf+WlnYLWSIKqpoV5PaSXYoFDAxLcZvAFcDA\n",
       "4MzAkI4s0QNVzXEA6A5xhnwgcwbchIgOEGhBmMAJdKkKA18DsglCUNWMwGRQf4AhDMhUxO0GJmAY\n",
       "8TJwH0CW+ARVzQ80wZ+B4TaQaY/bBOYPQMYB3ge4TPjGwPeZsAl8DcBEyFC6KxkqIQnzxQQG9t8M\n",
       "nB/4kH0RexcErqH6giHdCWjMdfZ/UBNyoKrZDjDw/WRgaZjMwHACtxt4QGE4FZg1WAKYL0AllkJV\n",
       "g+Kph2FuwAKCscnAuAHkaW5YPtKFpSigkSW7lbOBwdGEzQTWwB8xwDgHZVweYEC+f8B2rgCaqgug\n",
       "qsUJpGoweIjIDPY2DxD5CKz6FEySawNuE1bDS5Xo0zE4c/cL3CUMamKEgRKoanZYyLjjNoGlAJso\n",
       "+waGTWBGNTTMDcDUJmxqNzMwAACAG4kUnHyycQAAAABJRU5ErkJggg==\n",
       "\" style=\"display:inline;vertical-align:middle;\" /></a><br>(see <a class=\"ProveItLink\" href=\"../__pv_it/b0a86b785826266406961fb4776f2640ba78d37b0/dependencies.ipynb\">dependencies</a>)<br>"
      ],
      "text/plain": [
       "listLen1: forall_{a} (|(a)| = 1)"
      ]
     },
     "execution_count": 2,
     "metadata": {},
     "output_type": "execute_result"
    }
   ],
   "source": [
    "%proving listLen1 presuming []"
   ]
  },
  {
   "cell_type": "code",
   "execution_count": null,
   "metadata": {},
   "outputs": [],
   "source": []
  }
 ],
 "metadata": {
  "kernelspec": {
   "display_name": "Python 3",
   "language": "python",
   "name": "python3"
  }
 },
 "nbformat": 4,
 "nbformat_minor": 0
}
