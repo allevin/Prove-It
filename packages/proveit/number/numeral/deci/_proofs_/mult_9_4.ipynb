{
 "cells": [
  {
   "cell_type": "markdown",
   "metadata": {},
   "source": [
    "Proof of <a class=\"ProveItLink\" href=\"../../../../_context_.ipynb\">proveit</a>.<a class=\"ProveItLink\" href=\"../../../_context_.ipynb\">number</a>.<a class=\"ProveItLink\" href=\"../../_context_.ipynb\">numeral</a>.<a class=\"ProveItLink\" href=\"../_context_.ipynb\">deci</a>.<a class=\"ProveItLink\" href=\"../_theorems_.ipynb#mult_9_4\">mult_9_4</a> theorem\n",
    "========"
   ]
  },
  {
   "cell_type": "code",
   "execution_count": 1,
   "metadata": {},
   "outputs": [],
   "source": [
    "import proveit\n",
    "context = proveit.Context('..') # the theorem's context is in the parent directory"
   ]
  },
  {
   "cell_type": "code",
   "execution_count": 2,
   "metadata": {},
   "outputs": [
    {
     "name": "stdout",
     "output_type": "stream",
     "text": [
      "Beginning proof of mult_9_4\n",
      "Recorded 'presuming' information\n",
      "Presuming previous theorems (applied transitively).\n"
     ]
    },
    {
     "data": {
      "text/html": [
       "<strong id=\"mult_9_4\">mult_9_4:</strong> <a class=\"ProveItLink\" href=\"../__pv_it/eb3c6b0cbfbe871fad459cdb84f99e2450ce84fe0/expr.ipynb\"><img src=\"data:image/png;base64,iVBORw0KGgoAAAANSUhEUgAAAGEAAAAVBAMAAACkm51HAAAAMFBMVEX////c3NwiIiJERESqqqqY\n",
       "mJh2dnZmZmYQEBDu7u4yMjJUVFTMzMyIiIi6uroAAAAs73DqAAAAAXRSTlMAQObYZgAAAaFJREFU\n",
       "OMuVkz1IQlEUx//Pj6fPr9wKCoqiIQiSoLm3tQTa0tCQQpBLURQY6OJgU1BvCqNBFyGVQFoNbGoJ\n",
       "4S1RQ4E0NpX0QYLZudf86L3Hg+7w3rnnnN89X/cC/18+Va9bNSVugNPYZZ/CU4LjSuvlWV+TgePY\n",
       "Bsl5CCkM+XtGSwDIaolB+JoQpnEBeFVYk3AHesZ7kpe1xJaMOiwRFACngoEsxK+uTVghIq0lgowI\n",
       "K0x8BjIBeL+7NtFFhFXWd6iJMy7EwGO8dy1LjBC3dYSrhEb1jk7KAY4krM2OQVIZYeOlxwtsFbn+\n",
       "ugipHsIkcEhOOSwwQmJpimCEL6mL4T2UWtQBBawA+2P1jX6ZMfoscsLzoh/c0UkdCMtol8x7lSZX\n",
       "KWJMjADzoQYRKlLtsjojs5XLlQP1N6udcbYmWMIthYhZHmOOMnzFaK13nJNi2LVDp+Nn/EFeR5SI\n",
       "KZzjL6Hr7i18H7BGpH3gibbR3b6BiZXPEFw1DWHbi5NPIkF6p9/oQqdNLrs9YqTdNHsfeQOdlDUj\n",
       "hg10br8ZIRi82gcT/x+XD2VqUHufKgAAAABJRU5ErkJggg==\n",
       "\" style=\"display:inline;vertical-align:middle;\" /></a><br>(see <a class=\"ProveItLink\" href=\"../__pv_it/eb3c6b0cbfbe871fad459cdb84f99e2450ce84fe0/dependencies.ipynb\">dependencies</a>)<br>"
      ],
      "text/plain": [
       "mult_9_4: (9 * 4) = 36"
      ]
     },
     "execution_count": 2,
     "metadata": {},
     "output_type": "execute_result"
    }
   ],
   "source": [
    "%proving mult_9_4 presuming []"
   ]
  },
  {
   "cell_type": "code",
   "execution_count": null,
   "metadata": {},
   "outputs": [],
   "source": []
  }
 ],
 "metadata": {
  "kernelspec": {
   "display_name": "Python 3",
   "language": "python",
   "name": "python3"
  }
 },
 "nbformat": 4,
 "nbformat_minor": 0
}
