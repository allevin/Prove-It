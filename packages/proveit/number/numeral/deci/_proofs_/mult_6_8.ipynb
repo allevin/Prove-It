{
 "cells": [
  {
   "cell_type": "markdown",
   "metadata": {},
   "source": [
    "Proof of <a class=\"ProveItLink\" href=\"../../../../_context_.ipynb\">proveit</a>.<a class=\"ProveItLink\" href=\"../../../_context_.ipynb\">number</a>.<a class=\"ProveItLink\" href=\"../../_context_.ipynb\">numeral</a>.<a class=\"ProveItLink\" href=\"../_context_.ipynb\">deci</a>.<a class=\"ProveItLink\" href=\"../_theorems_.ipynb#mult_6_8\">mult_6_8</a> theorem\n",
    "========"
   ]
  },
  {
   "cell_type": "code",
   "execution_count": 1,
   "metadata": {},
   "outputs": [],
   "source": [
    "import proveit\n",
    "context = proveit.Context('..') # the theorem's context is in the parent directory"
   ]
  },
  {
   "cell_type": "code",
   "execution_count": 2,
   "metadata": {},
   "outputs": [
    {
     "name": "stdout",
     "output_type": "stream",
     "text": [
      "Beginning proof of mult_6_8\n",
      "Recorded 'presuming' information\n",
      "Presuming previous theorems (applied transitively).\n"
     ]
    },
    {
     "data": {
      "text/html": [
       "<strong id=\"mult_6_8\">mult_6_8:</strong> <a class=\"ProveItLink\" href=\"../__pv_it/1f65664579767514f56aacbe195b183d3beccf740/expr.ipynb\"><img src=\"data:image/png;base64,iVBORw0KGgoAAAANSUhEUgAAAGEAAAAVBAMAAACkm51HAAAAMFBMVEX////c3NwiIiJERESqqqqY\n",
       "mJh2dnZmZmYQEBDu7u4yMjJUVFTMzMyIiIi6uroAAAAs73DqAAAAAXRSTlMAQObYZgAAAX5JREFU\n",
       "OMuVkz1Iw0AUx//9uLZJqw2uDhZF5yw6d3IQwTqoICid2kEKIn6ACFZwEUGCUzazOFQF3YoUbHeX\n",
       "jgoK4uhURBAHre9y11hyIeAbkrv3ux/39Q74fwy21dxqqHEPaOVSq9fVSuU8ki11XOZGMKAGDLXS\n",
       "uR5IAluAoxpRU7IBWtQEdG/IAnAKLKrGgylZygL76gNrbtZWhMiyKdkboFf7yNwtKkAs7zcSuinZ\n",
       "NpC9et70SKy7UiS+7jfmyRDsHDgbR7Tgof13A4i7+9q94HHpHmGbDMFOyOggwbeiWfRhe9cfdElV\n",
       "/6JAhmA/ZOTAqMX/wBJY10Km4zNmuSEYGVkH7JuyNs2LI2CkoBhakRuCHdJm5RwuouUk23JVG6M8\n",
       "xqgVbzSax4+CTVJX7sONAyBtgKmXnjIlK1NnCrZ3VjMWpoNOlxuCvfJaqt/9lXJ9h25Pf1FusPlZ\n",
       "ECxlBBW0HVLsrBiUrYS9j1pATnPCjOGAXNoIMyIBr/YpZPwvvpdjKI43gZAAAAAASUVORK5CYII=\n",
       "\" style=\"display:inline;vertical-align:middle;\" /></a><br>(see <a class=\"ProveItLink\" href=\"../__pv_it/1f65664579767514f56aacbe195b183d3beccf740/dependencies.ipynb\">dependencies</a>)<br>"
      ],
      "text/plain": [
       "mult_6_8: (6 * 8) = 48"
      ]
     },
     "execution_count": 2,
     "metadata": {},
     "output_type": "execute_result"
    }
   ],
   "source": [
    "%proving mult_6_8 presuming []"
   ]
  },
  {
   "cell_type": "code",
   "execution_count": null,
   "metadata": {},
   "outputs": [],
   "source": []
  }
 ],
 "metadata": {
  "kernelspec": {
   "display_name": "Python 3",
   "language": "python",
   "name": "python3"
  }
 },
 "nbformat": 4,
 "nbformat_minor": 0
}
