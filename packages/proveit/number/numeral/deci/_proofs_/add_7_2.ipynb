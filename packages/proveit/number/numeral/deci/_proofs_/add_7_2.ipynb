{
 "cells": [
  {
   "cell_type": "markdown",
   "metadata": {},
   "source": [
    "Proof of <a class=\"ProveItLink\" href=\"../../../../_context_.ipynb\">proveit</a>.<a class=\"ProveItLink\" href=\"../../../_context_.ipynb\">number</a>.<a class=\"ProveItLink\" href=\"../../_context_.ipynb\">numeral</a>.<a class=\"ProveItLink\" href=\"../_context_.ipynb\">decimal</a>.<a class=\"ProveItLink\" href=\"../_theorems_.ipynb#add_7_2\">add_7_2</a> theorem\n",
    "========"
   ]
  },
  {
   "cell_type": "code",
   "execution_count": 1,
   "metadata": {},
   "outputs": [],
   "source": [
    "import proveit\n",
    "context = proveit.Context('..') # the theorem's context is in the parent directory"
   ]
  },
  {
   "cell_type": "code",
   "execution_count": 2,
   "metadata": {},
   "outputs": [
    {
     "name": "stdout",
     "output_type": "stream",
     "text": [
      "Beginning proof of add_7_2\n",
      "Recorded 'presuming' information\n",
      "Presuming previous theorems (applied transitively).\n"
     ]
    },
    {
     "data": {
      "text/html": [
       "<strong id=\"add_7_2\">add_7_2:</strong> <a class=\"ProveItLink\" href=\"../__pv_it/9559c80d42cf956985b7168c11c874743f1437840/expr.ipynb\"><img src=\"data:image/png;base64,iVBORw0KGgoAAAANSUhEUgAAAGEAAAAVBAMAAACkm51HAAAAMFBMVEX////c3NwiIiJERESqqqqY\n",
       "mJh2dnZmZmYQEBDu7u4yMjJUVFTMzMyIiIi6uroAAAAs73DqAAAAAXRSTlMAQObYZgAAAXJJREFU\n",
       "OMuVkz1Iw1AQx//BJmlrU4KT0M1FwaEOCm5mcyp0clOc4iBiUbDiUgUHJ4lbcbEgDk0HCw7ipLtL\n",
       "cJRCg6NQED9BwfjeS4bkmjd4Q9595Jd7d7kD/i9FTxJYkRH3KEzatp3wKfVzH/odfTV3vc59bahB\n",
       "EPwkQiUY70CLEuOWcgAYHjQH6Ia+k/C4AcrAEiXmgSsg60ADtOgGlfA4cnDro0mJb2DTwbPQB0gQ\n",
       "lw4aPkYsUsYb0PexI/SZJMGkzHLXUnJUccFV3aJE4RPIiNJ1VwgvdBdY8HDMvWegRJ5lLe6THKfV\n",
       "TMPDL1cfh4htnueFlr7c61shMS3sPdedct0OV41uKiF6dcgL/6I5FqGY0a30CSFRb1xgjo8WJQo1\n",
       "qCZU+tP7psKutMa0DCXGbHsLw919cPJsbJ/4Jz8IUQ6CV9YvnxBafZY9s2bcV4kbzfRhV1fj1iBu\n",
       "bEj2oy1bnFxLEijJiFFTElBkW9tLd/8BOmJdyyiGLRgAAAAASUVORK5CYII=\n",
       "\" style=\"display:inline;vertical-align:middle;\" /></a><br>(see <a class=\"ProveItLink\" href=\"../__pv_it/9559c80d42cf956985b7168c11c874743f1437840/dependencies.ipynb\">dependencies</a>)<br>"
      ],
      "text/plain": [
       "add_7_2: (7 + 2) = 9"
      ]
     },
     "execution_count": 2,
     "metadata": {},
     "output_type": "execute_result"
    }
   ],
   "source": [
    "%proving add_7_2 presuming []"
   ]
  },
  {
   "cell_type": "code",
   "execution_count": null,
   "metadata": {},
   "outputs": [],
   "source": []
  }
 ],
 "metadata": {
  "kernelspec": {
   "display_name": "Python 3",
   "language": "python",
   "name": "python3"
  }
 },
 "nbformat": 4,
 "nbformat_minor": 0
}
