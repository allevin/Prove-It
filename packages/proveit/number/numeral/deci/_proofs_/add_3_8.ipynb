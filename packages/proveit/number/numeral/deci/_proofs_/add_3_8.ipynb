{
 "cells": [
  {
   "cell_type": "markdown",
   "metadata": {},
   "source": [
    "Proof of <a class=\"ProveItLink\" href=\"../../../../_context_.ipynb\">proveit</a>.<a class=\"ProveItLink\" href=\"../../../_context_.ipynb\">number</a>.<a class=\"ProveItLink\" href=\"../../_context_.ipynb\">numeral</a>.<a class=\"ProveItLink\" href=\"../_context_.ipynb\">decimal</a>.<a class=\"ProveItLink\" href=\"../_theorems_.ipynb#add_3_8\">add_3_8</a> theorem\n",
    "========"
   ]
  },
  {
   "cell_type": "code",
   "execution_count": 1,
   "metadata": {},
   "outputs": [],
   "source": [
    "import proveit\n",
    "context = proveit.Context('..') # the theorem's context is in the parent directory"
   ]
  },
  {
   "cell_type": "code",
   "execution_count": 2,
   "metadata": {},
   "outputs": [
    {
     "name": "stdout",
     "output_type": "stream",
     "text": [
      "Beginning proof of add_3_8\n",
      "Recorded 'presuming' information\n",
      "Presuming previous theorems (applied transitively).\n"
     ]
    },
    {
     "data": {
      "text/html": [
       "<strong id=\"add_3_8\">add_3_8:</strong> <a class=\"ProveItLink\" href=\"../__pv_it/8ee627203dce0df93d269d6de63370135e151b500/expr.ipynb\"><img src=\"data:image/png;base64,iVBORw0KGgoAAAANSUhEUgAAAGsAAAAVBAMAAACzuQ2OAAAAMFBMVEX////c3NwiIiJERESqqqqY\n",
       "mJh2dnZmZmYQEBDu7u4yMjJUVFTMzMyIiIi6uroAAAAs73DqAAAAAXRSTlMAQObYZgAAAVtJREFU\n",
       "OMtjYCAT8F3AIcH6AJ+20wwMx9JM0ASnpZUwMNRgKmaeACNWMjAWMLxHs7KAgT2AgQtDF6f9BCjB\n",
       "e4GB7QsDvwJEfCLUfQEMnAoMrAnounbvnwAhGDgmMLAgtPlCKLYNIG2cDRjW3Z8AJV6BuTBHQrWx\n",
       "/J7ABhQxwa2tDMxdzYCijcH+6zUgmY5b21IgzZO1AU0b+39FIOkFZq4Cgw2o2vrA3BsPULWFn/rv\n",
       "wMDwArdt/8Bcjp8o2lgLGOKBIufxamM8wMD8FcitWrVKY9UqkDeBwcv4Fa+2FgaG+T8h2hC2zQDi\n",
       "Wqgj2ZXAwABVmykDA/8CBqaPKNo4BBgYNjIwROG2DRjIvAEM7xNQ420lA0sC3gh4BKTdy5egRcDr\n",
       "cmBSZliHrqu8f3kAhAC5BwF8UZJgA+58g5pe3yJz2C7gyW8rccrMwpdNpXHKbMSnjRGXU3gP4NYE\n",
       "ANxmduNSWSpvAAAAAElFTkSuQmCC\n",
       "\" style=\"display:inline;vertical-align:middle;\" /></a><br>(see <a class=\"ProveItLink\" href=\"../__pv_it/8ee627203dce0df93d269d6de63370135e151b500/dependencies.ipynb\">dependencies</a>)<br>"
      ],
      "text/plain": [
       "add_3_8: (3 + 8) = 11"
      ]
     },
     "execution_count": 2,
     "metadata": {},
     "output_type": "execute_result"
    }
   ],
   "source": [
    "%proving add_3_8 presuming []"
   ]
  },
  {
   "cell_type": "code",
   "execution_count": null,
   "metadata": {},
   "outputs": [],
   "source": []
  }
 ],
 "metadata": {
  "kernelspec": {
   "display_name": "Python 3",
   "language": "python",
   "name": "python3"
  }
 },
 "nbformat": 4,
 "nbformat_minor": 0
}
