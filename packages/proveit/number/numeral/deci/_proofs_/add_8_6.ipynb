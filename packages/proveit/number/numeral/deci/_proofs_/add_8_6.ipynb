{
 "cells": [
  {
   "cell_type": "markdown",
   "metadata": {},
   "source": [
    "Proof of <a class=\"ProveItLink\" href=\"../../../../_context_.ipynb\">proveit</a>.<a class=\"ProveItLink\" href=\"../../../_context_.ipynb\">number</a>.<a class=\"ProveItLink\" href=\"../../_context_.ipynb\">numeral</a>.<a class=\"ProveItLink\" href=\"../_context_.ipynb\">decimal</a>.<a class=\"ProveItLink\" href=\"../_theorems_.ipynb#add_8_6\">add_8_6</a> theorem\n",
    "========"
   ]
  },
  {
   "cell_type": "code",
   "execution_count": 1,
   "metadata": {},
   "outputs": [],
   "source": [
    "import proveit\n",
    "context = proveit.Context('..') # the theorem's context is in the parent directory"
   ]
  },
  {
   "cell_type": "code",
   "execution_count": 2,
   "metadata": {},
   "outputs": [
    {
     "name": "stdout",
     "output_type": "stream",
     "text": [
      "Beginning proof of add_8_6\n",
      "Recorded 'presuming' information\n",
      "Presuming previous theorems (applied transitively).\n"
     ]
    },
    {
     "data": {
      "text/html": [
       "<strong id=\"add_8_6\">add_8_6:</strong> <a class=\"ProveItLink\" href=\"../__pv_it/f960e0f338026a7cefae0914c05fd1815800087f0/expr.ipynb\"><img src=\"data:image/png;base64,iVBORw0KGgoAAAANSUhEUgAAAGwAAAAVBAMAAABRZRb3AAAAMFBMVEX////c3NwiIiJERESqqqqY\n",
       "mJh2dnZmZmYQEBDu7u4yMjJUVFTMzMyIiIi6uroAAAAs73DqAAAAAXRSTlMAQObYZgAAAYlJREFU\n",
       "OMud0z1Iw0AUB/B/bT5spVoEJ5eqKI4O6lpnpdBNcDFTO7h0qBZEoVBnrUspglgQkUaRdnIoamYd\n",
       "zOQmipMogoMFi2h9ucTqtbkM3pDk7uWXd/cuB/yz9ZqCgHzvxa6AQiLdNhhIJgysdb7szzsEZSAF\n",
       "Nc6H+42eCIIdKhBlbAQImZDjCETs8W0nPoZgCbLWrmoXFgvlgO48lEqLxZxlNdhb2Y50dxYb2Aee\n",
       "AOkjr5gcC9pg0p1pxFboHq3fgGN9x7dWkZKuTA4TO6CO2hzi2d4ouqhIs9azqrNWabFdENukzvxl\n",
       "c4Znr1BoeY+u2TSLfVHWFBYbPItAfgOu3ZhkOIyK6avT2Kquj+v6kbU2qv6ngBVgsQ2gSP11Lpvf\n",
       "zsYmqQ6zNvHD5mq19zNMUbYwUOWYZK9twX0DkGNFlsqQNI5hGsW4aAMYe6DbcybNbwDU03O6nrSr\n",
       "zNYhfW2pucxm+Nti3C+YFZ8b/n99+dtRTI/zVhZGdryO6aAwUvViPtFUQoYYfQN9ZHDMuTgOygAA\n",
       "AABJRU5ErkJggg==\n",
       "\" style=\"display:inline;vertical-align:middle;\" /></a><br>(see <a class=\"ProveItLink\" href=\"../__pv_it/f960e0f338026a7cefae0914c05fd1815800087f0/dependencies.ipynb\">dependencies</a>)<br>"
      ],
      "text/plain": [
       "add_8_6: (8 + 6) = 14"
      ]
     },
     "execution_count": 2,
     "metadata": {},
     "output_type": "execute_result"
    }
   ],
   "source": [
    "%proving add_8_6 presuming []"
   ]
  },
  {
   "cell_type": "code",
   "execution_count": null,
   "metadata": {},
   "outputs": [],
   "source": []
  }
 ],
 "metadata": {
  "kernelspec": {
   "display_name": "Python 3",
   "language": "python",
   "name": "python3"
  }
 },
 "nbformat": 4,
 "nbformat_minor": 0
}
