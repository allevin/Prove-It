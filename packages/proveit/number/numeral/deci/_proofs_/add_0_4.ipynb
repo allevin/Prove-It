{
 "cells": [
  {
   "cell_type": "markdown",
   "metadata": {},
   "source": [
    "Proof of <a class=\"ProveItLink\" href=\"../../../../_context_.ipynb\">proveit</a>.<a class=\"ProveItLink\" href=\"../../../_context_.ipynb\">number</a>.<a class=\"ProveItLink\" href=\"../../_context_.ipynb\">numeral</a>.<a class=\"ProveItLink\" href=\"../_context_.ipynb\">decimal</a>.<a class=\"ProveItLink\" href=\"../_theorems_.ipynb#add_0_4\">add_0_4</a> theorem\n",
    "========"
   ]
  },
  {
   "cell_type": "code",
   "execution_count": 1,
   "metadata": {},
   "outputs": [],
   "source": [
    "import proveit\n",
    "context = proveit.Context('..') # the theorem's context is in the parent directory"
   ]
  },
  {
   "cell_type": "code",
   "execution_count": 2,
   "metadata": {},
   "outputs": [
    {
     "name": "stdout",
     "output_type": "stream",
     "text": [
      "Beginning proof of add_0_4\n",
      "Recorded 'presuming' information\n",
      "Presuming previous theorems (applied transitively).\n"
     ]
    },
    {
     "data": {
      "text/html": [
       "<strong id=\"add_0_4\">add_0_4:</strong> <a class=\"ProveItLink\" href=\"../__pv_it/87623ec9073de6840fa5971ce16d945344248d8c0/expr.ipynb\"><img src=\"data:image/png;base64,iVBORw0KGgoAAAANSUhEUgAAAGEAAAAVBAMAAACkm51HAAAAMFBMVEX////c3NwiIiJERESqqqqY\n",
       "mJh2dnZmZmYQEBDu7u4yMjJUVFTMzMyIiIi6uroAAAAs73DqAAAAAXRSTlMAQObYZgAAAURJREFU\n",
       "OMtjYCAd8F3AIRGHS8dpBobpd2vQRXk2MLAfwFQMFGZgWMnAoMcwCV2WyYCBYQGmDpAw7wUGXgUG\n",
       "XqjsRJjUDaBUGKYOkDDHBAamDQx8HyEivlAZxiig1AwMDWDhVwwM/AUMPF9QdbBxAaWYHdB1gIXL\n",
       "GBjkExh4/qLqCARJsRWg6wALL4Xo+Iaig/MCSIoF7Dn2VWCwAS7ch00HGwNIiq8B3VFg4X/YXOUD\n",
       "luL5gKbDB6YD5POvQIGqVas0Vq1aDbQ9AasOqHALAyh0WVBCl2X37v3dF6CuYlcCAwO4sCkDKAbZ\n",
       "FFDDioEDqIIVM9JBwulAWoVhxgEsOjBDFyz8CEhPz93DgBaD+78HMHA9wIhBkDCHALKQLzJnBvbE\n",
       "zpqAzHuLzMnFkT9W4so4nAtwSEjj0sEtgEOCEVeuvYNdGADXaVKjSlMd4gAAAABJRU5ErkJggg==\n",
       "\" style=\"display:inline;vertical-align:middle;\" /></a><br>(see <a class=\"ProveItLink\" href=\"../__pv_it/87623ec9073de6840fa5971ce16d945344248d8c0/dependencies.ipynb\">dependencies</a>)<br>"
      ],
      "text/plain": [
       "add_0_4: (0 + 4) = 4"
      ]
     },
     "execution_count": 2,
     "metadata": {},
     "output_type": "execute_result"
    }
   ],
   "source": [
    "%proving add_0_4 presuming []"
   ]
  },
  {
   "cell_type": "code",
   "execution_count": null,
   "metadata": {},
   "outputs": [],
   "source": []
  }
 ],
 "metadata": {
  "kernelspec": {
   "display_name": "Python 3",
   "language": "python",
   "name": "python3"
  }
 },
 "nbformat": 4,
 "nbformat_minor": 0
}
