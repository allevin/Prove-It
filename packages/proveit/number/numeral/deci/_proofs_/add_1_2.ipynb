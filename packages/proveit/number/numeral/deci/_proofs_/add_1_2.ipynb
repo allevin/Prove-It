{
 "cells": [
  {
   "cell_type": "markdown",
   "metadata": {},
   "source": [
    "Proof of <a class=\"ProveItLink\" href=\"../../../../_context_.ipynb\">proveit</a>.<a class=\"ProveItLink\" href=\"../../../_context_.ipynb\">number</a>.<a class=\"ProveItLink\" href=\"../../_context_.ipynb\">numeral</a>.<a class=\"ProveItLink\" href=\"../_context_.ipynb\">decimal</a>.<a class=\"ProveItLink\" href=\"../_theorems_.ipynb#add_1_2\">add_1_2</a> theorem\n",
    "========"
   ]
  },
  {
   "cell_type": "code",
   "execution_count": 1,
   "metadata": {},
   "outputs": [],
   "source": [
    "import proveit\n",
    "context = proveit.Context('..') # the theorem's context is in the parent directory"
   ]
  },
  {
   "cell_type": "code",
   "execution_count": 2,
   "metadata": {},
   "outputs": [
    {
     "name": "stdout",
     "output_type": "stream",
     "text": [
      "Beginning proof of add_1_2\n",
      "Recorded 'presuming' information\n",
      "Presuming previous theorems (applied transitively).\n"
     ]
    },
    {
     "data": {
      "text/html": [
       "<strong id=\"add_1_2\">add_1_2:</strong> <a class=\"ProveItLink\" href=\"../__pv_it/0c370a49e322fccbea79fd02d46e0eefa61ae4100/expr.ipynb\"><img src=\"data:image/png;base64,iVBORw0KGgoAAAANSUhEUgAAAGEAAAAVBAMAAACkm51HAAAAMFBMVEX////c3NwiIiJERESqqqqY\n",
       "mJh2dnZmZmYQEBDu7u4yMjJUVFTMzMyIiIi6uroAAAAs73DqAAAAAXRSTlMAQObYZgAAAVFJREFU\n",
       "OMtjYCAd8F3AIRGHS8dpIGaegCrGWL74AQP7AXSlPGnJDkBqJQMDpz2aDmkG3i8MDAvQdYgz8P1l\n",
       "YOC9wMC5ez9Mx0QItZOBQZ+BIQxdR74DwycGBg6Q4vswHb4QqmMCw/4HDDPQdfiDdbxiwKJj/QSG\n",
       "+gcMzA6YwQR0VRk2HUCgP4GBrQBDB9cGBoal2HXwfGNgYAF7nX0VGGwAsY+tBhJ92HVwGQCd0IBh\n",
       "By9Q+T/sOopB9nzAjL3+Ccg6qlat0li1ajXYrA3YdMgwMNgHMLRgtcOdgVEA6ip2JTAAupLz/wSQ\n",
       "DlNsOngKGFgFGFjRI/0XMAgFGNKx6RBKSytiwAzdqwx8wCB8BGSV9y8PQNGh//8/MHK5HqDpYCmv\n",
       "AkYqhwCymC8yZwb2xM6agMx7i8zJxZE/VuLKOJwLcEhI49LBLYBDghFXrr2DXRgAkiRdu/okqcoA\n",
       "AAAASUVORK5CYII=\n",
       "\" style=\"display:inline;vertical-align:middle;\" /></a><br>(see <a class=\"ProveItLink\" href=\"../__pv_it/0c370a49e322fccbea79fd02d46e0eefa61ae4100/dependencies.ipynb\">dependencies</a>)<br>"
      ],
      "text/plain": [
       "add_1_2: (1 + 2) = 3"
      ]
     },
     "execution_count": 2,
     "metadata": {},
     "output_type": "execute_result"
    }
   ],
   "source": [
    "%proving add_1_2 presuming []"
   ]
  },
  {
   "cell_type": "code",
   "execution_count": null,
   "metadata": {},
   "outputs": [],
   "source": []
  }
 ],
 "metadata": {
  "kernelspec": {
   "display_name": "Python 3",
   "language": "python",
   "name": "python3"
  }
 },
 "nbformat": 4,
 "nbformat_minor": 0
}
