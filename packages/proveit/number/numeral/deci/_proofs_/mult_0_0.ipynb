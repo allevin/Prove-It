{
 "cells": [
  {
   "cell_type": "markdown",
   "metadata": {},
   "source": [
    "Proof of <a class=\"ProveItLink\" href=\"../../../../_context_.ipynb\">proveit</a>.<a class=\"ProveItLink\" href=\"../../../_context_.ipynb\">number</a>.<a class=\"ProveItLink\" href=\"../../_context_.ipynb\">numeral</a>.<a class=\"ProveItLink\" href=\"../_context_.ipynb\">deci</a>.<a class=\"ProveItLink\" href=\"../_theorems_.ipynb#mult_0_0\">mult_0_0</a> theorem\n",
    "========"
   ]
  },
  {
   "cell_type": "code",
   "execution_count": 1,
   "metadata": {},
   "outputs": [],
   "source": [
    "import proveit\n",
    "context = proveit.Context('..') # the theorem's context is in the parent directory"
   ]
  },
  {
   "cell_type": "code",
   "execution_count": 2,
   "metadata": {},
   "outputs": [
    {
     "name": "stdout",
     "output_type": "stream",
     "text": [
      "Beginning proof of mult_0_0\n",
      "Recorded 'presuming' information\n",
      "Presuming previous theorems (applied transitively).\n"
     ]
    },
    {
     "data": {
      "text/html": [
       "<strong id=\"mult_0_0\">mult_0_0:</strong> <a class=\"ProveItLink\" href=\"../__pv_it/82ead0f166d0d70ffd2f8979a4bee95db3e416c50/expr.ipynb\"><img src=\"data:image/png;base64,iVBORw0KGgoAAAANSUhEUgAAAFcAAAAVBAMAAADBdm84AAAAMFBMVEX////c3NwiIiJERESqqqqY\n",
       "mJh2dnZmZmYQEBDu7u4yMjJUVFTMzMyIiIi6uroAAAAs73DqAAAAAXRSTlMAQObYZgAAAT1JREFU\n",
       "KM9jYCAJ8F3AFIvDpfg0A8P0uzVwLmft9QMM7AfQVYGFGRhWMjDoMUyCyzI94NRhYFiArhgizHuB\n",
       "gVeBgRcue4mB4RYDQxi6YogwxwQGpg0MfB9hotoMDO8FGGagK4YIv2Jg4C9g4PkCE/3OwHDegYHZ\n",
       "AU0xRLiMgUE+gYHnL1SQ8RtQ9AIDWwGqWqjwUojib8iiCQwsYD9UrQKB1QjhPoRizglwUb4GLCYn\n",
       "MPxDOGO+Atw+ng9YnfEP4sGvQJEZBlCfBGAohgq3MICCjgU56PwFoM4oUgIBZYSwKQMoUtgUkEI/\n",
       "iYGBdQFmpACF04EsFYYZiOh24OxhwAg6qPAjIGt67h5Eiim7DdTI9QA9IYGFOQSwJcUZ2FMoawI2\n",
       "0Vwc6XklFjHOBTgUS2MR4xbAoZgRS7a6g10pAJPwZOvOQ5U5AAAAAElFTkSuQmCC\n",
       "\" style=\"display:inline;vertical-align:middle;\" /></a><br>(see <a class=\"ProveItLink\" href=\"../__pv_it/82ead0f166d0d70ffd2f8979a4bee95db3e416c50/dependencies.ipynb\">dependencies</a>)<br>"
      ],
      "text/plain": [
       "mult_0_0: (0 * 0) = 0"
      ]
     },
     "execution_count": 2,
     "metadata": {},
     "output_type": "execute_result"
    }
   ],
   "source": [
    "%proving mult_0_0 presuming []"
   ]
  },
  {
   "cell_type": "code",
   "execution_count": null,
   "metadata": {},
   "outputs": [],
   "source": []
  }
 ],
 "metadata": {
  "kernelspec": {
   "display_name": "Python 3",
   "language": "python",
   "name": "python3"
  }
 },
 "nbformat": 4,
 "nbformat_minor": 0
}
