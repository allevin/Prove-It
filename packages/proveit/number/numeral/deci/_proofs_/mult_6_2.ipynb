{
 "cells": [
  {
   "cell_type": "markdown",
   "metadata": {},
   "source": [
    "Proof of <a class=\"ProveItLink\" href=\"../../../../_context_.ipynb\">proveit</a>.<a class=\"ProveItLink\" href=\"../../../_context_.ipynb\">number</a>.<a class=\"ProveItLink\" href=\"../../_context_.ipynb\">numeral</a>.<a class=\"ProveItLink\" href=\"../_context_.ipynb\">deci</a>.<a class=\"ProveItLink\" href=\"../_theorems_.ipynb#mult_6_2\">mult_6_2</a> theorem\n",
    "========"
   ]
  },
  {
   "cell_type": "code",
   "execution_count": 1,
   "metadata": {},
   "outputs": [],
   "source": [
    "import proveit\n",
    "context = proveit.Context('..') # the theorem's context is in the parent directory"
   ]
  },
  {
   "cell_type": "code",
   "execution_count": 2,
   "metadata": {},
   "outputs": [
    {
     "name": "stdout",
     "output_type": "stream",
     "text": [
      "Beginning proof of mult_6_2\n",
      "Recorded 'presuming' information\n",
      "Presuming previous theorems (applied transitively).\n"
     ]
    },
    {
     "data": {
      "text/html": [
       "<strong id=\"mult_6_2\">mult_6_2:</strong> <a class=\"ProveItLink\" href=\"../__pv_it/942a237b72bb7bed2d3cd5a05030c5a310b322b90/expr.ipynb\"><img src=\"data:image/png;base64,iVBORw0KGgoAAAANSUhEUgAAAGEAAAAVBAMAAACkm51HAAAAMFBMVEX////c3NwiIiJERESqqqqY\n",
       "mJh2dnZmZmYQEBDu7u4yMjJUVFTMzMyIiIi6uroAAAAs73DqAAAAAXRSTlMAQObYZgAAAWBJREFU\n",
       "OMuVk71Lw0AYh3+xXtOkxoauXYqia7souLm5OjmKUzoJpX7iYgcHJwm4BBwMiENV0E1KQbO7+Aco\n",
       "BEenIiJE0HqXS5rQXA98l+R9n3vy3kcO+H9MP2dr61LjCdAalhenyt6FD9XLjluKGNAByl6xGoMK\n",
       "jE/AzQinQcwMOql56MMhXaAGrI0KZ70gZgUbJEihYxuPPpxMDyOI2Tugt1Pk1sahj9yyyOBsFyjd\n",
       "vG6nYc1GvikyOLsEzucwsZqwqS9gMlzXwRWL65TB2Ak1+sizXLNDptfpIbXFPRj7pUYVhO4ae7LY\n",
       "Yt/qiw3GqFFyQX7oq1MP0d14I2RHQC7qwWMFihnNqjXDYjYxQrZAlxmtg6+7CWKCuKIenDVotghn\n",
       "uFdly2phzO5y9kYz9f4hOYzB4IPuiT8iqPvfOxErmKIf2pH87GRDVN2U3Y+OoKa5MqMiqBVNmaEI\n",
       "bu2LZPwfenBnqBU2mHoAAAAASUVORK5CYII=\n",
       "\" style=\"display:inline;vertical-align:middle;\" /></a><br>(see <a class=\"ProveItLink\" href=\"../__pv_it/942a237b72bb7bed2d3cd5a05030c5a310b322b90/dependencies.ipynb\">dependencies</a>)<br>"
      ],
      "text/plain": [
       "mult_6_2: (6 * 2) = 12"
      ]
     },
     "execution_count": 2,
     "metadata": {},
     "output_type": "execute_result"
    }
   ],
   "source": [
    "%proving mult_6_2 presuming []"
   ]
  },
  {
   "cell_type": "code",
   "execution_count": null,
   "metadata": {},
   "outputs": [],
   "source": []
  }
 ],
 "metadata": {
  "kernelspec": {
   "display_name": "Python 3",
   "language": "python",
   "name": "python3"
  }
 },
 "nbformat": 4,
 "nbformat_minor": 0
}
