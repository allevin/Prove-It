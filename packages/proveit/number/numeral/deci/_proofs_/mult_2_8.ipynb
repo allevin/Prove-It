{
 "cells": [
  {
   "cell_type": "markdown",
   "metadata": {},
   "source": [
    "Proof of <a class=\"ProveItLink\" href=\"../../../../_context_.ipynb\">proveit</a>.<a class=\"ProveItLink\" href=\"../../../_context_.ipynb\">number</a>.<a class=\"ProveItLink\" href=\"../../_context_.ipynb\">numeral</a>.<a class=\"ProveItLink\" href=\"../_context_.ipynb\">deci</a>.<a class=\"ProveItLink\" href=\"../_theorems_.ipynb#mult_2_8\">mult_2_8</a> theorem\n",
    "========"
   ]
  },
  {
   "cell_type": "code",
   "execution_count": 1,
   "metadata": {},
   "outputs": [],
   "source": [
    "import proveit\n",
    "context = proveit.Context('..') # the theorem's context is in the parent directory"
   ]
  },
  {
   "cell_type": "code",
   "execution_count": 2,
   "metadata": {},
   "outputs": [
    {
     "name": "stdout",
     "output_type": "stream",
     "text": [
      "Beginning proof of mult_2_8\n",
      "Recorded 'presuming' information\n",
      "Presuming previous theorems (applied transitively).\n"
     ]
    },
    {
     "data": {
      "text/html": [
       "<strong id=\"mult_2_8\">mult_2_8:</strong> <a class=\"ProveItLink\" href=\"../__pv_it/63da410a2e247412745757390a92d4cd3b0f53250/expr.ipynb\"><img src=\"data:image/png;base64,iVBORw0KGgoAAAANSUhEUgAAAGEAAAAVBAMAAACkm51HAAAAMFBMVEX////c3NwiIiJERESqqqqY\n",
       "mJh2dnZmZmYQEBDu7u4yMjJUVFTMzMyIiIi6uroAAAAs73DqAAAAAXRSTlMAQObYZgAAAZNJREFU\n",
       "OMuVkz1Iw0AUx//9iGkaLXFycLAoOjmI4OAimRxcWgd1UjO1gxaLYJVWUEGHLhIUpOBgQQRbB8VF\n",
       "xMXNQcRsDgqKo1MpLu1gfDm9DM0Z8OAe99673717994B/x8xy2ub8yXuga78mKsqqbQO+da7b5Tm\n",
       "QW6RZAWBC7zq3CEDK0DZA+w3gMAgLoEOC6qJYI17poA9YLoVOLwhImigCkRMRIpQv7hrgRElT4wO\n",
       "IuZNZ/UBRBuQXSJxjQwQ0kXEKVvlmAw2uCdkzxpAW1ZENB+e6KQTpj8armujrgFhlnq+6owzTij1\n",
       "JPqBXaYfs4d1rimtn39SkTYFMRQbWDLBEpCHHHkUJzEDyTbRXhMRdUpe/yGembHkcEWgJykm0CTC\n",
       "wjZp4Sw6ecnpOrL1e6vlXmf0ucQwizFC2h0wyc/aAlQNUlkUI8HySFPxB1LpOPdMmBj/63VDhrID\n",
       "vFMxbNt2idjVKr159K0FkNea1G6FAtkjmqihSz7NLhkia8bvf1QENqXsR3QLbKrmRwQEv/bFZ/83\n",
       "m+lnjI0+U3UAAAAASUVORK5CYII=\n",
       "\" style=\"display:inline;vertical-align:middle;\" /></a><br>(see <a class=\"ProveItLink\" href=\"../__pv_it/63da410a2e247412745757390a92d4cd3b0f53250/dependencies.ipynb\">dependencies</a>)<br>"
      ],
      "text/plain": [
       "mult_2_8: (2 * 8) = 16"
      ]
     },
     "execution_count": 2,
     "metadata": {},
     "output_type": "execute_result"
    }
   ],
   "source": [
    "%proving mult_2_8 presuming []"
   ]
  },
  {
   "cell_type": "code",
   "execution_count": null,
   "metadata": {},
   "outputs": [],
   "source": []
  }
 ],
 "metadata": {
  "kernelspec": {
   "display_name": "Python 3",
   "language": "python",
   "name": "python3"
  }
 },
 "nbformat": 4,
 "nbformat_minor": 0
}
