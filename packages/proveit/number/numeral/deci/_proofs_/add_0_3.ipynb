{
 "cells": [
  {
   "cell_type": "markdown",
   "metadata": {},
   "source": [
    "Proof of <a class=\"ProveItLink\" href=\"../../../../_context_.ipynb\">proveit</a>.<a class=\"ProveItLink\" href=\"../../../_context_.ipynb\">number</a>.<a class=\"ProveItLink\" href=\"../../_context_.ipynb\">numeral</a>.<a class=\"ProveItLink\" href=\"../_context_.ipynb\">decimal</a>.<a class=\"ProveItLink\" href=\"../_theorems_.ipynb#add_0_3\">add_0_3</a> theorem\n",
    "========"
   ]
  },
  {
   "cell_type": "code",
   "execution_count": 1,
   "metadata": {},
   "outputs": [],
   "source": [
    "import proveit\n",
    "context = proveit.Context('..') # the theorem's context is in the parent directory"
   ]
  },
  {
   "cell_type": "code",
   "execution_count": 2,
   "metadata": {},
   "outputs": [
    {
     "name": "stdout",
     "output_type": "stream",
     "text": [
      "Beginning proof of add_0_3\n",
      "Recorded 'presuming' information\n",
      "Presuming previous theorems (applied transitively).\n"
     ]
    },
    {
     "data": {
      "text/html": [
       "<strong id=\"add_0_3\">add_0_3:</strong> <a class=\"ProveItLink\" href=\"../__pv_it/dc3b92ca55d6f459cf389ca6cb423d06854fd4c90/expr.ipynb\"><img src=\"data:image/png;base64,iVBORw0KGgoAAAANSUhEUgAAAGEAAAAVBAMAAACkm51HAAAAMFBMVEX////c3NwiIiJERESqqqqY\n",
       "mJh2dnZmZmYQEBDu7u4yMjJUVFTMzMyIiIi6uroAAAAs73DqAAAAAXRSTlMAQObYZgAAAVNJREFU\n",
       "OMuVkyFPw0AUx/9At26jLXUISFgIAgUYNP0CCygkWUICamEKkgWBQEPBrHIGscP0AyCmMJgZHCQE\n",
       "SUICBCZINri7R5beXU9wor33e/3l7t7rAf8fQd+S2LEZd0D78Vhl3t5uBLenfyox0AVWcKlmZxEM\n",
       "gY5uEPb78Kvw/7IX9DqI8AFs6wbhUozJFME7sRq9NmUq0Q3CL8BME96nYkAuPxWZZeL4EFiowxtq\n",
       "RiUFik3DEPiKjIFq3F7zhyMP5zI50jE+yzXgcx6cGGsIPMrfFc5jeG9m9zge0cm/eNRibJkxsfA8\n",
       "sLFlGoRPIarrKNUt/8QiRbtyF+VYG+N1iA4Wq8quvoHVEAW96YT3+WwJSU8x7hEMcqpL+JnP2o0b\n",
       "KIZz1OLdqzxpBuFSmGW1bJDk/+yFejZ6zQYNy/3o2i5OuWNJzNmM6dCSmLDd2od8/Av0DV23z0fL\n",
       "iAAAAABJRU5ErkJggg==\n",
       "\" style=\"display:inline;vertical-align:middle;\" /></a><br>(see <a class=\"ProveItLink\" href=\"../__pv_it/dc3b92ca55d6f459cf389ca6cb423d06854fd4c90/dependencies.ipynb\">dependencies</a>)<br>"
      ],
      "text/plain": [
       "add_0_3: (0 + 3) = 3"
      ]
     },
     "execution_count": 2,
     "metadata": {},
     "output_type": "execute_result"
    }
   ],
   "source": [
    "%proving add_0_3 presuming []"
   ]
  },
  {
   "cell_type": "code",
   "execution_count": null,
   "metadata": {},
   "outputs": [],
   "source": []
  }
 ],
 "metadata": {
  "kernelspec": {
   "display_name": "Python 3",
   "language": "python",
   "name": "python3"
  }
 },
 "nbformat": 4,
 "nbformat_minor": 0
}
