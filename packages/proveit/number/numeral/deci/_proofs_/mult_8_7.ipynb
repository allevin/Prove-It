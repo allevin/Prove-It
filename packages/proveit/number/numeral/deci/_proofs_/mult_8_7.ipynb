{
 "cells": [
  {
   "cell_type": "markdown",
   "metadata": {},
   "source": [
    "Proof of <a class=\"ProveItLink\" href=\"../../../../_context_.ipynb\">proveit</a>.<a class=\"ProveItLink\" href=\"../../../_context_.ipynb\">number</a>.<a class=\"ProveItLink\" href=\"../../_context_.ipynb\">numeral</a>.<a class=\"ProveItLink\" href=\"../_context_.ipynb\">deci</a>.<a class=\"ProveItLink\" href=\"../_theorems_.ipynb#mult_8_7\">mult_8_7</a> theorem\n",
    "========"
   ]
  },
  {
   "cell_type": "code",
   "execution_count": 1,
   "metadata": {},
   "outputs": [],
   "source": [
    "import proveit\n",
    "context = proveit.Context('..') # the theorem's context is in the parent directory"
   ]
  },
  {
   "cell_type": "code",
   "execution_count": 2,
   "metadata": {},
   "outputs": [
    {
     "name": "stdout",
     "output_type": "stream",
     "text": [
      "Beginning proof of mult_8_7\n",
      "Recorded 'presuming' information\n",
      "Presuming previous theorems (applied transitively).\n"
     ]
    },
    {
     "data": {
      "text/html": [
       "<strong id=\"mult_8_7\">mult_8_7:</strong> <a class=\"ProveItLink\" href=\"../__pv_it/13885d990b9c74cd38e89ccc19c4e0d6253f048d0/expr.ipynb\"><img src=\"data:image/png;base64,iVBORw0KGgoAAAANSUhEUgAAAGEAAAAVBAMAAACkm51HAAAAMFBMVEX////c3NwiIiJERESqqqqY\n",
       "mJh2dnZmZmYQEBDu7u4yMjJUVFTMzMyIiIi6uroAAAAs73DqAAAAAXRSTlMAQObYZgAAAZpJREFU\n",
       "OMuVk7tLw0Acx79pk9brQ7o5uPjAzUEKzvY/aCfFxWaQiqA0iLRgER/oKgFBurWLYOtSnQQXcVMR\n",
       "O+mgQnDUwVLoYIWev0tprEkI+IMLv8d97vfIHfB/Gaw7fQuexB1wlFm3zOtcJqMGr+y7QvPSIm3M\n",
       "rZBeATQEU71QmnNeQ9lODHCuQprEORCtQ0mBjfRCy0AYmHXkKNDpPhVVgnUEan2EClCsaCfCZn5d\n",
       "fN8B+VsP1P+Owp9wI05MNUdrpvXYFzykFdDsxOuzgfb9E510TGaQj/YFxdxks/WNqpBTofp11mHN\n",
       "FCaAAzLnbrmogpllsoaobNv5Gy4YB7I6OoCiIf1FrpLZflQcH2k4iexNk5pPCILGJbXIVZwSAV/N\n",
       "jYgTYbSJqGOvO8pNK1bSrKrWxoSMC3UX2IrFzRzTlCMGnFnEpyAU+08nZxVJs48lGkwFsmrFkprb\n",
       "dIcg78Cvsn3gjcyP/O9NxIO4YiHDRkTyl1RJoWB0S3JK0eOyK6qbd9XrfVRcfKzsRQy7+MIxL0Jy\n",
       "ebUvHvt/ALGNZ9l1vLtdAAAAAElFTkSuQmCC\n",
       "\" style=\"display:inline;vertical-align:middle;\" /></a><br>(see <a class=\"ProveItLink\" href=\"../__pv_it/13885d990b9c74cd38e89ccc19c4e0d6253f048d0/dependencies.ipynb\">dependencies</a>)<br>"
      ],
      "text/plain": [
       "mult_8_7: (8 * 7) = 56"
      ]
     },
     "execution_count": 2,
     "metadata": {},
     "output_type": "execute_result"
    }
   ],
   "source": [
    "%proving mult_8_7 presuming []"
   ]
  },
  {
   "cell_type": "code",
   "execution_count": null,
   "metadata": {},
   "outputs": [],
   "source": []
  }
 ],
 "metadata": {
  "kernelspec": {
   "display_name": "Python 3",
   "language": "python",
   "name": "python3"
  }
 },
 "nbformat": 4,
 "nbformat_minor": 0
}
