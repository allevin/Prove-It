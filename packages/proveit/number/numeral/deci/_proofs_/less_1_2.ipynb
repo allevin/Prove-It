{
 "cells": [
  {
   "cell_type": "markdown",
   "metadata": {},
   "source": [
    "Proof of <a class=\"ProveItLink\" href=\"../../../../_context_.ipynb\">proveit</a>.<a class=\"ProveItLink\" href=\"../../../_context_.ipynb\">number</a>.<a class=\"ProveItLink\" href=\"../../_context_.ipynb\">numeral</a>.<a class=\"ProveItLink\" href=\"../_context_.ipynb\">decimal</a>.<a class=\"ProveItLink\" href=\"../_theorems_.ipynb#less_1_2\">less_1_2</a> theorem\n",
    "========"
   ]
  },
  {
   "cell_type": "code",
   "execution_count": 1,
   "metadata": {},
   "outputs": [],
   "source": [
    "import proveit\n",
    "context = proveit.Context('..') # the theorem's context is in the parent directory"
   ]
  },
  {
   "cell_type": "code",
   "execution_count": 2,
   "metadata": {},
   "outputs": [
    {
     "name": "stdout",
     "output_type": "stream",
     "text": [
      "Beginning proof of less_1_2\n",
      "Recorded 'presuming' information\n",
      "Presuming previous theorems (applied transitively).\n"
     ]
    },
    {
     "data": {
      "text/html": [
       "<strong id=\"less_1_2\">less_1_2:</strong> <a class=\"ProveItLink\" href=\"../__pv_it/e41047ac71065c5097c5724ed11304772176ec280/expr.ipynb\"><img src=\"data:image/png;base64,iVBORw0KGgoAAAANSUhEUgAAADAAAAAPBAMAAABQAFHMAAAAMFBMVEX///92dnYiIiKqqqq6urrM\n",
       "zMzc3NyYmJgyMjIQEBBmZmaIiIhUVFTu7u5EREQAAADjBJs/AAAAAXRSTlMAQObYZgAAAKNJREFU\n",
       "GNNjYGB4y4AOslY8AZL3/qKLsx1g2G/AcOcMskRWAJDgucDA9IGBgRtJIqYFRHLOZeD5giLhcRRM\n",
       "cfxl4EKRsFgGV8L0F0likyzCzHgBhITQBiRH9DHAJXjfOSDEuR4gJBhYTxjAJfYwIEkwsC0qgLKY\n",
       "FzCkIbuKV2gvhBHFwFCG6sEisMPYFAWlFBi4Vv5YjpCxAAUJ0////xUYcAEAvOcul+JhwsEAAAAA\n",
       "SUVORK5CYII=\n",
       "\" style=\"display:inline;vertical-align:middle;\" /></a><br>(see <a class=\"ProveItLink\" href=\"../__pv_it/e41047ac71065c5097c5724ed11304772176ec280/dependencies.ipynb\">dependencies</a>)<br>"
      ],
      "text/plain": [
       "less_1_2: 1 < 2"
      ]
     },
     "execution_count": 2,
     "metadata": {},
     "output_type": "execute_result"
    }
   ],
   "source": [
    "%proving less_1_2 presuming []"
   ]
  },
  {
   "cell_type": "code",
   "execution_count": null,
   "metadata": {},
   "outputs": [],
   "source": []
  }
 ],
 "metadata": {
  "kernelspec": {
   "display_name": "Python 3",
   "language": "python",
   "name": "python3"
  }
 },
 "nbformat": 4,
 "nbformat_minor": 0
}
