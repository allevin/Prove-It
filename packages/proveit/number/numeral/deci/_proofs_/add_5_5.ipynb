{
 "cells": [
  {
   "cell_type": "markdown",
   "metadata": {},
   "source": [
    "Proof of <a class=\"ProveItLink\" href=\"../../../../_context_.ipynb\">proveit</a>.<a class=\"ProveItLink\" href=\"../../../_context_.ipynb\">number</a>.<a class=\"ProveItLink\" href=\"../../_context_.ipynb\">numeral</a>.<a class=\"ProveItLink\" href=\"../_context_.ipynb\">decimal</a>.<a class=\"ProveItLink\" href=\"../_theorems_.ipynb#add_5_5\">add_5_5</a> theorem\n",
    "========"
   ]
  },
  {
   "cell_type": "code",
   "execution_count": 1,
   "metadata": {},
   "outputs": [],
   "source": [
    "import proveit\n",
    "context = proveit.Context('..') # the theorem's context is in the parent directory"
   ]
  },
  {
   "cell_type": "code",
   "execution_count": 2,
   "metadata": {},
   "outputs": [
    {
     "name": "stdout",
     "output_type": "stream",
     "text": [
      "Beginning proof of add_5_5\n",
      "Recorded 'presuming' information\n",
      "Presuming previous theorems (applied transitively).\n"
     ]
    },
    {
     "data": {
      "text/html": [
       "<strong id=\"add_5_5\">add_5_5:</strong> <a class=\"ProveItLink\" href=\"../__pv_it/832abcbc9349f4e6893eaa4a06c5c03a6b66ecd80/expr.ipynb\"><img src=\"data:image/png;base64,iVBORw0KGgoAAAANSUhEUgAAAGwAAAAVBAMAAABRZRb3AAAAMFBMVEX////c3NwiIiJERESqqqqY\n",
       "mJh2dnZmZmYQEBDu7u4yMjJUVFTMzMyIiIi6uroAAAAs73DqAAAAAXRSTlMAQObYZgAAAWRJREFU\n",
       "OMtjYCAT8F3AIcH6AJ+20wwMSyeIOaAKgkVqMBUzT2BgmH4XJLGSgaH//zc0abAIF4YuTnugNj2G\n",
       "SQcYeIFuXL7tAFR8IpQGi7AmoOvavX8CA68CA+8CBg6g/g1wCV8oDRbhbMCw7v4EBqYNDHwfGV4x\n",
       "4NTGYIJNG38BA88XhjIgZ+/dfWjaICLp2LTJJzDw/GVYCuRYMsx/gKoNIuIFYrKvAoMNyNq+MfSB\n",
       "udwNqNogIi9w2faN4R+Yy/YHXRtI5DxuRwK1MSswsIF0V61apbFq1WoGuMh5XEHylaGFgYFDgYH9\n",
       "I4ptUBGwI9mVwMAAKQJYPjKYAiWACWIBijaoSBQ224DRzaYACmTGAgYPARRtUBGsEcCgwjDjAMMj\n",
       "IOd49Ua0eIOIrEPXVd6/PIBheu4eoDcEkMV9UZJgA+58g5pe3yJz2C7gyW8rccrMwpdNpXHKbMSn\n",
       "jRGXU3gP4NYEAFuYdEJITCi1AAAAAElFTkSuQmCC\n",
       "\" style=\"display:inline;vertical-align:middle;\" /></a><br>(see <a class=\"ProveItLink\" href=\"../__pv_it/832abcbc9349f4e6893eaa4a06c5c03a6b66ecd80/dependencies.ipynb\">dependencies</a>)<br>"
      ],
      "text/plain": [
       "add_5_5: (5 + 5) = 10"
      ]
     },
     "execution_count": 2,
     "metadata": {},
     "output_type": "execute_result"
    }
   ],
   "source": [
    "%proving add_5_5 presuming []"
   ]
  },
  {
   "cell_type": "code",
   "execution_count": null,
   "metadata": {},
   "outputs": [],
   "source": []
  }
 ],
 "metadata": {
  "kernelspec": {
   "display_name": "Python 3",
   "language": "python",
   "name": "python3"
  }
 },
 "nbformat": 4,
 "nbformat_minor": 0
}
