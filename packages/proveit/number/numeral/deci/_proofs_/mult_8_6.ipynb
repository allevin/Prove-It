{
 "cells": [
  {
   "cell_type": "markdown",
   "metadata": {},
   "source": [
    "Proof of <a class=\"ProveItLink\" href=\"../../../../_context_.ipynb\">proveit</a>.<a class=\"ProveItLink\" href=\"../../../_context_.ipynb\">number</a>.<a class=\"ProveItLink\" href=\"../../_context_.ipynb\">numeral</a>.<a class=\"ProveItLink\" href=\"../_context_.ipynb\">deci</a>.<a class=\"ProveItLink\" href=\"../_theorems_.ipynb#mult_8_6\">mult_8_6</a> theorem\n",
    "========"
   ]
  },
  {
   "cell_type": "code",
   "execution_count": 1,
   "metadata": {},
   "outputs": [],
   "source": [
    "import proveit\n",
    "context = proveit.Context('..') # the theorem's context is in the parent directory"
   ]
  },
  {
   "cell_type": "code",
   "execution_count": 2,
   "metadata": {},
   "outputs": [
    {
     "name": "stdout",
     "output_type": "stream",
     "text": [
      "Beginning proof of mult_8_6\n",
      "Recorded 'presuming' information\n",
      "Presuming previous theorems (applied transitively).\n"
     ]
    },
    {
     "data": {
      "text/html": [
       "<strong id=\"mult_8_6\">mult_8_6:</strong> <a class=\"ProveItLink\" href=\"../__pv_it/c78fac3162e54c02a73b9ace11fc5ad39d56f4a70/expr.ipynb\"><img src=\"data:image/png;base64,iVBORw0KGgoAAAANSUhEUgAAAGEAAAAVBAMAAACkm51HAAAAMFBMVEX////c3NwiIiJERESqqqqY\n",
       "mJh2dnZmZmYQEBDu7u4yMjJUVFTMzMyIiIi6uroAAAAs73DqAAAAAXRSTlMAQObYZgAAAaxJREFU\n",
       "OMuVkz1IHEEUx3/n3d66fhzXW8RE7CwWIXWushDh1sIIgehWWiTiEeIJUVFBCxHCkuK4TptAzhQx\n",
       "aSRYmDpB2EoTsBBLbURyhERw82aPPeVmWfAVw77/m9++j5mB+1vO17WJROIHVKZe3/qV8kvMb/q+\n",
       "rl2sqemCfNWghOlEgdQAX2BbJ9psTJiDbh/DweptBlx24KlO/LQZg3fQ7pHdvUNMemqtakDqmc2L\n",
       "kDiHzLWXbbb/IVzThVYi22FT/MoMlMV7Uj9qRv4dHsvubKmVGBUiHTx34b14ZvAwClhXDv2SNmz9\n",
       "zY6yj6HuC8HyVR7eijv+PVBVWNKCFcCsR26ltSiEMBY//YYbMEpM/hV1q1flkOYLdF22ECOKGMcI\n",
       "PEXIuFJ1NSBb9SGErxGWq4gNeOCw1hjlUhQbDHM0qnr1SFmffGX29w82f4lo+jyWHNLO54gohn0Y\n",
       "+qG326xCZ55p+UGNjBsF0q61HjddRQx7DMGZOBfzd27iwsIpdJxqJ3jwx8ntzRcaJelWTbjshhun\n",
       "ziS9j1qMZm0nET0xWmc+iUjFvNqThP3/AbPrZVNIF1sRAAAAAElFTkSuQmCC\n",
       "\" style=\"display:inline;vertical-align:middle;\" /></a><br>(see <a class=\"ProveItLink\" href=\"../__pv_it/c78fac3162e54c02a73b9ace11fc5ad39d56f4a70/dependencies.ipynb\">dependencies</a>)<br>"
      ],
      "text/plain": [
       "mult_8_6: (8 * 6) = 48"
      ]
     },
     "execution_count": 2,
     "metadata": {},
     "output_type": "execute_result"
    }
   ],
   "source": [
    "%proving mult_8_6 presuming []"
   ]
  },
  {
   "cell_type": "code",
   "execution_count": null,
   "metadata": {},
   "outputs": [],
   "source": []
  }
 ],
 "metadata": {
  "kernelspec": {
   "display_name": "Python 3",
   "language": "python",
   "name": "python3"
  }
 },
 "nbformat": 4,
 "nbformat_minor": 0
}
