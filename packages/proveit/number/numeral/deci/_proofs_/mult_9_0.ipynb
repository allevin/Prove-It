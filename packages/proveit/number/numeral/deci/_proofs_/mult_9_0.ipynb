{
 "cells": [
  {
   "cell_type": "markdown",
   "metadata": {},
   "source": [
    "Proof of <a class=\"ProveItLink\" href=\"../../../../_context_.ipynb\">proveit</a>.<a class=\"ProveItLink\" href=\"../../../_context_.ipynb\">number</a>.<a class=\"ProveItLink\" href=\"../../_context_.ipynb\">numeral</a>.<a class=\"ProveItLink\" href=\"../_context_.ipynb\">deci</a>.<a class=\"ProveItLink\" href=\"../_theorems_.ipynb#mult_9_0\">mult_9_0</a> theorem\n",
    "========"
   ]
  },
  {
   "cell_type": "code",
   "execution_count": 1,
   "metadata": {},
   "outputs": [],
   "source": [
    "import proveit\n",
    "context = proveit.Context('..') # the theorem's context is in the parent directory"
   ]
  },
  {
   "cell_type": "code",
   "execution_count": 2,
   "metadata": {},
   "outputs": [
    {
     "name": "stdout",
     "output_type": "stream",
     "text": [
      "Beginning proof of mult_9_0\n",
      "Recorded 'presuming' information\n",
      "Presuming previous theorems (applied transitively).\n"
     ]
    },
    {
     "data": {
      "text/html": [
       "<strong id=\"mult_9_0\">mult_9_0:</strong> <a class=\"ProveItLink\" href=\"../__pv_it/2e4e8ac0713bac133036a83b783a6092bf29e8410/expr.ipynb\"><img src=\"data:image/png;base64,iVBORw0KGgoAAAANSUhEUgAAAFcAAAAVBAMAAADBdm84AAAAMFBMVEX////c3NwiIiJERESqqqqY\n",
       "mJh2dnZmZmYQEBDu7u4yMjJUVFTMzMyIiIi6uroAAAAs73DqAAAAAXRSTlMAQObYZgAAAUlJREFU\n",
       "KM9jYCAJ8F3AFIvDpfg0A8Pssj1wLmft9QMM7AfQVYGFGRhWMjC2MEgIwESZHnDqMDAsQFcMEea9\n",
       "wMDcwMBtABO9xMBwi4EhDF0xRJhjAgP/Aga2nzBRbQaG9wIMM9AVQ4RfMTDMN2Dg/QcT/c7AcN6B\n",
       "gdkBTTFEuIwBbPJXqCDjN6DoBQa2AlS1UOGlDAzsDQzMf5FFExhYwD6sWgUCqxHCfcBgWcrgDlLM\n",
       "OQEuyteAxeQEBpBjWe+e/QKk5ivA7eP5gNUZEJ+BQ2OGAdQnARiKocItYDbXAqQw8heAOqNICQSU\n",
       "EcKmwHj5yCD/ACn0k4AOW4AZKUDhdKBiTYa1iHh14OxhwAg6qPAjICu9GBEHnGW3gSmG6wF6QgIL\n",
       "cwhgS4ozsKdQ1gRsork40vNKLGKcC3AolsYixi2AQzEjlmx1B7tSAAaBZNKpOateAAAAAElFTkSu\n",
       "QmCC\n",
       "\" style=\"display:inline;vertical-align:middle;\" /></a><br>(see <a class=\"ProveItLink\" href=\"../__pv_it/2e4e8ac0713bac133036a83b783a6092bf29e8410/dependencies.ipynb\">dependencies</a>)<br>"
      ],
      "text/plain": [
       "mult_9_0: (9 * 0) = 0"
      ]
     },
     "execution_count": 2,
     "metadata": {},
     "output_type": "execute_result"
    }
   ],
   "source": [
    "%proving mult_9_0 presuming []"
   ]
  },
  {
   "cell_type": "code",
   "execution_count": null,
   "metadata": {},
   "outputs": [],
   "source": []
  }
 ],
 "metadata": {
  "kernelspec": {
   "display_name": "Python 3",
   "language": "python",
   "name": "python3"
  }
 },
 "nbformat": 4,
 "nbformat_minor": 0
}
