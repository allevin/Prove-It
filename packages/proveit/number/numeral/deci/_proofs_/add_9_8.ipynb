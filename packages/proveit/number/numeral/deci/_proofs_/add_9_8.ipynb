{
 "cells": [
  {
   "cell_type": "markdown",
   "metadata": {},
   "source": [
    "Proof of <a class=\"ProveItLink\" href=\"../../../../_context_.ipynb\">proveit</a>.<a class=\"ProveItLink\" href=\"../../../_context_.ipynb\">number</a>.<a class=\"ProveItLink\" href=\"../../_context_.ipynb\">numeral</a>.<a class=\"ProveItLink\" href=\"../_context_.ipynb\">decimal</a>.<a class=\"ProveItLink\" href=\"../_theorems_.ipynb#add_9_8\">add_9_8</a> theorem\n",
    "========"
   ]
  },
  {
   "cell_type": "code",
   "execution_count": 1,
   "metadata": {},
   "outputs": [],
   "source": [
    "import proveit\n",
    "context = proveit.Context('..') # the theorem's context is in the parent directory"
   ]
  },
  {
   "cell_type": "code",
   "execution_count": 2,
   "metadata": {},
   "outputs": [
    {
     "name": "stdout",
     "output_type": "stream",
     "text": [
      "Beginning proof of add_9_8\n",
      "Recorded 'presuming' information\n",
      "Presuming previous theorems (applied transitively).\n"
     ]
    },
    {
     "data": {
      "text/html": [
       "<strong id=\"add_9_8\">add_9_8:</strong> <a class=\"ProveItLink\" href=\"../__pv_it/1f1573b86148fb84f919cf0c0f7855f49691e7890/expr.ipynb\"><img src=\"data:image/png;base64,iVBORw0KGgoAAAANSUhEUgAAAG0AAAAVBAMAAAC+p33JAAAAMFBMVEX////c3NwiIiJERESqqqqY\n",
       "mJh2dnZmZmYQEBDu7u4yMjJUVFTMzMyIiIi6uroAAAAs73DqAAAAAXRSTlMAQObYZgAAAZBJREFU\n",
       "OMudkz9Iw0AUxr/SJmlqUx0FB/8sKi4ddG43QSh0E1zsFNeC0oIoZOiscRHRoV2KNKK0s4KdFbGT\n",
       "gyAWJ1E6CBaRovHl0lovTTL44C7v8t2P9+7dO+C/Fmt4CELTl7sGjnIXjp/76gawNbg5qCM6raoq\n",
       "uRUEChgd4fUspDQiA5ic0CGYptkBlAaCGobitrDXTTENeQJCxomdX+oQdaAKhHUMlyB+2krK/ohV\n",
       "i5O1gYCPxJFcB16AYhzKN8eFOrpI5Zp348haNHJg8doch0T7juY1d062DlUGJA3BL56TzEmal5hr\n",
       "MKv2OSlJ0w7xZSw6uOUrk8Rn93hFy7MOJjzcvHOckMUqVerWnbvvcbDruWkYM4ZxAlbkQNuTm7O8\n",
       "AltHSly8Axrb3TylKWbxX07+sLwFuvo3jDc5LkztUwNWXOPFGEe1VmZxCv7+KghlvO4hxLgni11P\n",
       "8hxe89TXOHNi+d3jNKLtXkp9S3HtqPk8I755W38XYsPv/VU8lUPfdzvmqdR8uYBXNkrdh/oBRslw\n",
       "n1fuK80AAAAASUVORK5CYII=\n",
       "\" style=\"display:inline;vertical-align:middle;\" /></a><br>(see <a class=\"ProveItLink\" href=\"../__pv_it/1f1573b86148fb84f919cf0c0f7855f49691e7890/dependencies.ipynb\">dependencies</a>)<br>"
      ],
      "text/plain": [
       "add_9_8: (9 + 8) = 17"
      ]
     },
     "execution_count": 2,
     "metadata": {},
     "output_type": "execute_result"
    }
   ],
   "source": [
    "%proving add_9_8 presuming []"
   ]
  },
  {
   "cell_type": "code",
   "execution_count": null,
   "metadata": {},
   "outputs": [],
   "source": []
  }
 ],
 "metadata": {
  "kernelspec": {
   "display_name": "Python 3",
   "language": "python",
   "name": "python3"
  }
 },
 "nbformat": 4,
 "nbformat_minor": 0
}
