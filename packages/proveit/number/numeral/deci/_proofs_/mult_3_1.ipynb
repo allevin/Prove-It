{
 "cells": [
  {
   "cell_type": "markdown",
   "metadata": {},
   "source": [
    "Proof of <a class=\"ProveItLink\" href=\"../../../../_context_.ipynb\">proveit</a>.<a class=\"ProveItLink\" href=\"../../../_context_.ipynb\">number</a>.<a class=\"ProveItLink\" href=\"../../_context_.ipynb\">numeral</a>.<a class=\"ProveItLink\" href=\"../_context_.ipynb\">deci</a>.<a class=\"ProveItLink\" href=\"../_theorems_.ipynb#mult_3_1\">mult_3_1</a> theorem\n",
    "========"
   ]
  },
  {
   "cell_type": "code",
   "execution_count": 1,
   "metadata": {},
   "outputs": [],
   "source": [
    "import proveit\n",
    "context = proveit.Context('..') # the theorem's context is in the parent directory"
   ]
  },
  {
   "cell_type": "code",
   "execution_count": 2,
   "metadata": {},
   "outputs": [
    {
     "name": "stdout",
     "output_type": "stream",
     "text": [
      "Beginning proof of mult_3_1\n",
      "Recorded 'presuming' information\n",
      "Presuming previous theorems (applied transitively).\n"
     ]
    },
    {
     "data": {
      "text/html": [
       "<strong id=\"mult_3_1\">mult_3_1:</strong> <a class=\"ProveItLink\" href=\"../__pv_it/d40f3d2cb26f008c4d69785e0158626db0fc47ef0/expr.ipynb\"><img src=\"data:image/png;base64,iVBORw0KGgoAAAANSUhEUgAAAFcAAAAVBAMAAADBdm84AAAAMFBMVEX////c3NwiIiJERESqqqqY\n",
       "mJh2dnZmZmYQEBDu7u4yMjJUVFTMzMyIiIi6uroAAAAs73DqAAAAAXRSTlMAQObYZgAAAUNJREFU\n",
       "KM9jYCAJ8F3AFIvDpfg0A8OxNBMkAUsGBvYD6Kp40pIdgNRKBsYChvcI4yf/BBIL0BWLM/D9ZWDg\n",
       "vcDA9oWBXwEmOns3SHEYuuJ8B4ZPDAwcExhYkBUz8IIUz0BX7A9W/ArMRnIGWDGzA2ZAAJ1RBmat\n",
       "ZkBVzFaAoZhrAwPDUpBXszagKWYB+7BqFQhADDoGovrAzBsPgATnBLhivgYMk3mBKv+BWRwgFfMV\n",
       "4Ip5PmBGSP8EkGLGAwzMX0FBYIBbsQwDg30AQwvQxJ8QxUhuhjijSAkElEEu/D8BpNiUgYF/AQPT\n",
       "R1TFrOhR+IuBQV+AIR0oHcDwPoFA0F1l4PvGwPAIyHIvXwIXZa/4VQoM1AdoilnKq4DxxCGALSnO\n",
       "wJ5CWROwiebiSM8rsYhxLsChWBqLGLcADsWMWLLVHexKAZZcVtGojtqhAAAAAElFTkSuQmCC\n",
       "\" style=\"display:inline;vertical-align:middle;\" /></a><br>(see <a class=\"ProveItLink\" href=\"../__pv_it/d40f3d2cb26f008c4d69785e0158626db0fc47ef0/dependencies.ipynb\">dependencies</a>)<br>"
      ],
      "text/plain": [
       "mult_3_1: (3 * 1) = 3"
      ]
     },
     "execution_count": 2,
     "metadata": {},
     "output_type": "execute_result"
    }
   ],
   "source": [
    "%proving mult_3_1 presuming []"
   ]
  },
  {
   "cell_type": "code",
   "execution_count": null,
   "metadata": {},
   "outputs": [],
   "source": []
  }
 ],
 "metadata": {
  "kernelspec": {
   "display_name": "Python 3",
   "language": "python",
   "name": "python3"
  }
 },
 "nbformat": 4,
 "nbformat_minor": 0
}
