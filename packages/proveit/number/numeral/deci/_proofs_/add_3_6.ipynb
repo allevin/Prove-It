{
 "cells": [
  {
   "cell_type": "markdown",
   "metadata": {},
   "source": [
    "Proof of <a class=\"ProveItLink\" href=\"../../../../_context_.ipynb\">proveit</a>.<a class=\"ProveItLink\" href=\"../../../_context_.ipynb\">number</a>.<a class=\"ProveItLink\" href=\"../../_context_.ipynb\">numeral</a>.<a class=\"ProveItLink\" href=\"../_context_.ipynb\">decimal</a>.<a class=\"ProveItLink\" href=\"../_theorems_.ipynb#add_3_6\">add_3_6</a> theorem\n",
    "========"
   ]
  },
  {
   "cell_type": "code",
   "execution_count": 1,
   "metadata": {},
   "outputs": [],
   "source": [
    "import proveit\n",
    "context = proveit.Context('..') # the theorem's context is in the parent directory"
   ]
  },
  {
   "cell_type": "code",
   "execution_count": 2,
   "metadata": {},
   "outputs": [
    {
     "name": "stdout",
     "output_type": "stream",
     "text": [
      "Beginning proof of add_3_6\n",
      "Recorded 'presuming' information\n",
      "Presuming previous theorems (applied transitively).\n"
     ]
    },
    {
     "data": {
      "text/html": [
       "<strong id=\"add_3_6\">add_3_6:</strong> <a class=\"ProveItLink\" href=\"../__pv_it/75be47fbc88a1ec30cba927375d303e8c0e276550/expr.ipynb\"><img src=\"data:image/png;base64,iVBORw0KGgoAAAANSUhEUgAAAGEAAAAVBAMAAACkm51HAAAAMFBMVEX////c3NwiIiJERESqqqqY\n",
       "mJh2dnZmZmYQEBDu7u4yMjJUVFTMzMyIiIi6uroAAAAs73DqAAAAAXRSTlMAQObYZgAAAYFJREFU\n",
       "OMuVkz1Iw0AUx//pd2ptMwouIggODiIKbmZzKmZy02ZS8AM7tWIHFXSVuEjpYgcFmy6ig2snFxGC\n",
       "iw6FBkdB6ufQDurlTmnuyA3ecHlfv7z37t0B/19pR+JYlBE3wPXSpGA8Kqwh3hBD1atVz1aDkkeb\n",
       "T6SM4QKoisSAruwC/Q5iH8gMMdsh+4RM2MC8SEwDl0DCQqRHZNknZ3l7WSS6wIaFJyr/VfVLnNE9\n",
       "rAttvAMtFwWq1MER3dt7Eh3LB+QwcEqk1Mo5R6hvBkaACG09btPlRWwCMw4OaMyDyxHftOD0jpCj\n",
       "YkS2HXxROdHhc5DmdaRexNYXmi3dI5QGwp9E37LtUduus4JzTgBBU+8Bxx1G9DqfoDlYVfFhusaZ\n",
       "h4xpCshUEXrliDn6s6g49JamkJKWydgNtE2OCJvqfsDp3llJMrdHIs0WT/h5oFQih5d0BSJW9G5s\n",
       "QvPbsn6lHHzZo6Zfe/Yr65L3UZM9HLUqcQzKiD5N4lBkr7YZbP4B1h5miMbYXpUAAAAASUVORK5C\n",
       "YII=\n",
       "\" style=\"display:inline;vertical-align:middle;\" /></a><br>(see <a class=\"ProveItLink\" href=\"../__pv_it/75be47fbc88a1ec30cba927375d303e8c0e276550/dependencies.ipynb\">dependencies</a>)<br>"
      ],
      "text/plain": [
       "add_3_6: (3 + 6) = 9"
      ]
     },
     "execution_count": 2,
     "metadata": {},
     "output_type": "execute_result"
    }
   ],
   "source": [
    "%proving add_3_6 presuming []"
   ]
  },
  {
   "cell_type": "code",
   "execution_count": null,
   "metadata": {},
   "outputs": [],
   "source": []
  }
 ],
 "metadata": {
  "kernelspec": {
   "display_name": "Python 3",
   "language": "python",
   "name": "python3"
  }
 },
 "nbformat": 4,
 "nbformat_minor": 0
}
