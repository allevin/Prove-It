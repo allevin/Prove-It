{
 "cells": [
  {
   "cell_type": "markdown",
   "metadata": {},
   "source": [
    "Proof of <a class=\"ProveItLink\" href=\"../../../../_context_.ipynb\">proveit</a>.<a class=\"ProveItLink\" href=\"../../../_context_.ipynb\">number</a>.<a class=\"ProveItLink\" href=\"../../_context_.ipynb\">numeral</a>.<a class=\"ProveItLink\" href=\"../_context_.ipynb\">deci</a>.<a class=\"ProveItLink\" href=\"../_theorems_.ipynb#mult_3_3\">mult_3_3</a> theorem\n",
    "========"
   ]
  },
  {
   "cell_type": "code",
   "execution_count": 1,
   "metadata": {},
   "outputs": [],
   "source": [
    "import proveit\n",
    "context = proveit.Context('..') # the theorem's context is in the parent directory"
   ]
  },
  {
   "cell_type": "code",
   "execution_count": 2,
   "metadata": {},
   "outputs": [
    {
     "name": "stdout",
     "output_type": "stream",
     "text": [
      "Beginning proof of mult_3_3\n",
      "Recorded 'presuming' information\n",
      "Presuming previous theorems (applied transitively).\n"
     ]
    },
    {
     "data": {
      "text/html": [
       "<strong id=\"mult_3_3\">mult_3_3:</strong> <a class=\"ProveItLink\" href=\"../__pv_it/ec21920b6f582451235a324308057bc1b44d44150/expr.ipynb\"><img src=\"data:image/png;base64,iVBORw0KGgoAAAANSUhEUgAAAFcAAAAVBAMAAADBdm84AAAAMFBMVEX////c3NwiIiJERESqqqqY\n",
       "mJh2dnZmZmYQEBDu7u4yMjJUVFTMzMyIiIi6uroAAAAs73DqAAAAAXRSTlMAQObYZgAAAW5JREFU\n",
       "KM9jYCAJ8F3AFIvDpfg0A8OxNBM4lyct2YGB/QC6Ks7t2SCxlQyMBQzv4caLM/D9ZWBYgK5YwoGx\n",
       "kYGB9wID2xcGfgWYaL4DwycGhjB0xRYMDJsZGDgmMLAgK/YHK56BrvgX0JgJDK/A7PdIvgQ5g9kB\n",
       "zcmfGRjuP2AoA3NWI0lwbWBgYCvAYnIAw1JQCGRtQAgfA2lkAfuwahUIgA2qYGCwv8DQB1Zx4wHI\n",
       "rglgNi9QiK8BzeRZASz1Fxj+gdkcP4HEfKgv+ycw8HxA92HsnfsOIMWMBxiYvwL5MwyAhAzQvgAs\n",
       "isGh0QI08SdEMdjb/yeAFEOcUaQEAspQqVUMDKYMDPwLGJg+InlbX4CBFT0K7wswAt2QDvRRAMP7\n",
       "BJjoVQa+b1iC7tIELmBUPAKy3MuXwEVZyquAEcL1AE0xWzkorXEIYEuKM7CnUNYEbKK5ONLzSixi\n",
       "nAtwKJbGIsYtgEMxI5ZsdQe7UgDqVF1QiJN/AwAAAABJRU5ErkJggg==\n",
       "\" style=\"display:inline;vertical-align:middle;\" /></a><br>(see <a class=\"ProveItLink\" href=\"../__pv_it/ec21920b6f582451235a324308057bc1b44d44150/dependencies.ipynb\">dependencies</a>)<br>"
      ],
      "text/plain": [
       "mult_3_3: (3 * 3) = 9"
      ]
     },
     "execution_count": 2,
     "metadata": {},
     "output_type": "execute_result"
    }
   ],
   "source": [
    "%proving mult_3_3 presuming []"
   ]
  },
  {
   "cell_type": "code",
   "execution_count": null,
   "metadata": {},
   "outputs": [],
   "source": []
  }
 ],
 "metadata": {
  "kernelspec": {
   "display_name": "Python 3",
   "language": "python",
   "name": "python3"
  }
 },
 "nbformat": 4,
 "nbformat_minor": 0
}
