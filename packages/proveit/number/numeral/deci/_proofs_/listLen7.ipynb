{
 "cells": [
  {
   "cell_type": "markdown",
   "metadata": {},
   "source": [
    "Proof of <a class=\"ProveItLink\" href=\"../../../../_context_.ipynb\">proveit</a>.<a class=\"ProveItLink\" href=\"../../../_context_.ipynb\">number</a>.<a class=\"ProveItLink\" href=\"../../_context_.ipynb\">numeral</a>.<a class=\"ProveItLink\" href=\"../_context_.ipynb\">decimal</a>.<a class=\"ProveItLink\" href=\"../_theorems_.ipynb#listLen7\">listLen7</a> theorem\n",
    "========"
   ]
  },
  {
   "cell_type": "code",
   "execution_count": 1,
   "metadata": {},
   "outputs": [],
   "source": [
    "import proveit\n",
    "context = proveit.Context('..') # the theorem's context is in the parent directory"
   ]
  },
  {
   "cell_type": "code",
   "execution_count": 2,
   "metadata": {},
   "outputs": [
    {
     "name": "stdout",
     "output_type": "stream",
     "text": [
      "Beginning proof of listLen7\n",
      "Recorded 'presuming' information\n",
      "Presuming previous theorems (applied transitively).\n"
     ]
    },
    {
     "data": {
      "text/html": [
       "<strong id=\"listLen7\">listLen7:</strong> <a class=\"ProveItLink\" href=\"../__pv_it/f07a175c6a37b215cd600c8b6628a24f5ce6eab80/expr.ipynb\"><img src=\"data:image/png;base64,iVBORw0KGgoAAAANSUhEUgAAAUMAAAAWBAMAAACoKePEAAAAMFBMVEX///8QEBC6urrMzMxUVFRm\n",
       "ZmZERETc3NwyMjKqqqp2dnaIiIiYmJgiIiLu7u4AAAAU9Wx4AAAAAXRSTlMAQObYZgAABFpJREFU\n",
       "SMe9V11oHFUUPvszO7uZ2TviS9WKbkFQkJIRRH1QsrWKwvowoKDuVltRW6o+zIO2BZEEqVihhH0R\n",
       "+yIJkfiTaBlig9BFXcSKJGBD/QNB2IAVFWRDwAaxJp5z77k7M90ZYjfihZn57jlzz/3u+bl3BmAL\n",
       "7Q34L1uqtc6gFrMBTElw81a52RX5mErSfYbXEoHFAQzfykZz1YhQ7FpKWMwTXp/sp1N+2HkwkeJd\n",
       "9ZmZScMFeI964wNQHGejxVgcitWEV51mn+iZiXZkUCLFsxsbG1UYAziEHXPf5TO0Ajba2owNwHBf\n",
       "NonVX6ORnkyieBIgD7CgnGA0L59ipsNGr9uEDbYP+iSllRjhK5IoIu+3AJZxBe8cPvzSAHG+iY1m\n",
       "xzZhg+2VPokRT9mDyeWCFQkFdN+F/ft/GIBinY0aFCSzNrVNiY+2HmDPzLRcCVD3pxKZ9XmuEXvX\n",
       "N1xBduN9zLLpZIo/4zWEL+4GONCjfSz2yt5KtAYbMd1xNlqktN/hF1TkxAVwFLNbKkXlKdStqyFv\n",
       "+qYubSdg8BCMouxEj+Ijx6gdVcpHKSUwSjeACGM1HaPRjXYacd2VbDSDyzAvgqEqrrQOGZn7YjsU\n",
       "ZM2STtk3V8FwefQoA3tdFtiORC8KWnYW87QMVlj/r8XeORHtnIuPX2WjDlLMr0BZuQXZONJTeV0P\n",
       "pJtU6NrFj/ToCV10VRjB4I8kUrRoaTk0ZLXLYRWuxd6J+W09naKzD7rKLWUPhuWCHb2PkU7li+P1\n",
       "V9VEEz6GNIrlKlMUY3hOwAunnySv/nWK6J6fDaRI+vS3lnTQF3/Qw5p9m8dfrQONcRoN0C0d3hb3\n",
       "SjCqky2iC8LZn+Lnpz48DdFAP/Yjte9UnnkcaDhwN/L83iQvWUs2MhdfZ1d6InNcyAPDHlN+vZeN\n",
       "P8dGKeO6Tbi/5Aqi4cI1IAGK2wRCXQYpBvxNsJ2/Ds4CULl/mejFYU/P+zpWXt7LUf0VAps6VeFK\n",
       "ES2gUGtJq1T8gKQPRpJgiuXFdunbIejS0KZRVcCDIZdAqMPUOu+Lv9Xhghehbie/BmmbzoSn56XV\n",
       "ORWLfJVxqTIdmTss4j1E1SfOolNyp966l2jrm7ttDpZxMlHbAxJAvfWJBKEOpjFlxPW0NWbRikTZ\n",
       "2jy55uVEiiM0ZZHI2B1aTeErHOFAmeImN1gt8lVsaHMBQ3lW9n02uq1n8sZ0EKKsr2tVIih4aQeg\n",
       "asvhiTtyZ+eIX8Z9Bu8unDzis6jQFJ75KjFGje3lq5GjXxpd6Flrp4MQ2Xh9LkNCqEK5CkNBOsXZ\n",
       "3toai3vQsdnGJN7N2ukOYSkSmIu5i3haSMc33m2nf4z9a4pX/c7IWIN7EP2S/kkr4p8AbCd65wda\n",
       "O6M6GX0+wPNs1NR+tSAVRBA5bOFhRqVn52mC+9Ip5v1YN+dfeteP2+H4buocklXCHwUBzEnw4lZ/\n",
       "DCy17Lkk3YeX/EP03fWjDfWAOne0Hof/vf0DMdVaOGq6q74AAAAASUVORK5CYII=\n",
       "\" style=\"display:inline;vertical-align:middle;\" /></a><br>(see <a class=\"ProveItLink\" href=\"../__pv_it/f07a175c6a37b215cd600c8b6628a24f5ce6eab80/dependencies.ipynb\">dependencies</a>)<br>"
      ],
      "text/plain": [
       "listLen7: forall_{a, b, c, d, e, f, g} (|(a , b , c , d , e , f , g)| = 7)"
      ]
     },
     "execution_count": 2,
     "metadata": {},
     "output_type": "execute_result"
    }
   ],
   "source": [
    "%proving listLen7 presuming []"
   ]
  },
  {
   "cell_type": "code",
   "execution_count": null,
   "metadata": {},
   "outputs": [],
   "source": []
  }
 ],
 "metadata": {
  "kernelspec": {
   "display_name": "Python 3",
   "language": "python",
   "name": "python3"
  }
 },
 "nbformat": 4,
 "nbformat_minor": 0
}
