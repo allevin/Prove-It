{
 "cells": [
  {
   "cell_type": "markdown",
   "metadata": {},
   "source": [
    "Proof of <a class=\"ProveItLink\" href=\"../../../../_context_.ipynb\">proveit</a>.<a class=\"ProveItLink\" href=\"../../../_context_.ipynb\">number</a>.<a class=\"ProveItLink\" href=\"../../_context_.ipynb\">numeral</a>.<a class=\"ProveItLink\" href=\"../_context_.ipynb\">decimal</a>.<a class=\"ProveItLink\" href=\"../_theorems_.ipynb#add_2_3\">add_2_3</a> theorem\n",
    "========"
   ]
  },
  {
   "cell_type": "code",
   "execution_count": 1,
   "metadata": {},
   "outputs": [],
   "source": [
    "import proveit\n",
    "context = proveit.Context('..') # the theorem's context is in the parent directory"
   ]
  },
  {
   "cell_type": "code",
   "execution_count": 2,
   "metadata": {},
   "outputs": [
    {
     "name": "stdout",
     "output_type": "stream",
     "text": [
      "Beginning proof of add_2_3\n",
      "Recorded 'presuming' information\n",
      "Presuming previous theorems (applied transitively).\n"
     ]
    },
    {
     "data": {
      "text/html": [
       "<strong id=\"add_2_3\">add_2_3:</strong> <a class=\"ProveItLink\" href=\"../__pv_it/cfbe8fdd6d8dd5864260429c5aff2bac2ffbd9580/expr.ipynb\"><img src=\"data:image/png;base64,iVBORw0KGgoAAAANSUhEUgAAAGEAAAAVBAMAAACkm51HAAAAMFBMVEX////c3NwiIiJERESqqqqY\n",
       "mJh2dnZmZmYQEBDu7u4yMjJUVFTMzMyIiIi6uroAAAAs73DqAAAAAXRSTlMAQObYZgAAAXlJREFU\n",
       "OMuVk79Lw0AUx79pU9P8aIhTBx3EQdwUwVXzDxR1EVwkoLSL0k4W4uAPXFw0bh0L4tC4dBRcOung\n",
       "YBenKgZHQSgOQgWNl8uSu+QG33B377373H3v3h3wfzP7gsSmiHgAyu4SGzOqWzaUHj9V25C2SdeB\n",
       "1MWrzaTKMH+ANk8Uw9ABSn3oHnLDOHYRd3Ubn8B6ao/9nYjzUDyF/hvHKnG3QokWT+i0fSfoCApL\n",
       "gKrK25nEHm1zI47QusBYgydeBgFwRcePDkvcXZNGpkdXfGpkBeQ9lWg5ozMuwe1RInHzMF2LG4Ae\n",
       "QJnnCZx7MIZpot6LiQH1XN+f9f1IzySwvJomFggR4CQS3MB4cg819CIiVqVMU4tUHAMHFhbJ6B5Y\n",
       "Y1R9A3MWCnzRyd35QA2QZqq1KYZ4gvmVcbtlyEfAGylGGIYsITddUj0t4AijeWuRV2IlY5Wk08p+\n",
       "7AUn6X0knV3B/+iIPo7aFiQmRIRuCRKS6Nc+Z4f/AC3PWX+6Yz2BAAAAAElFTkSuQmCC\n",
       "\" style=\"display:inline;vertical-align:middle;\" /></a><br>(see <a class=\"ProveItLink\" href=\"../__pv_it/cfbe8fdd6d8dd5864260429c5aff2bac2ffbd9580/dependencies.ipynb\">dependencies</a>)<br>"
      ],
      "text/plain": [
       "add_2_3: (2 + 3) = 5"
      ]
     },
     "execution_count": 2,
     "metadata": {},
     "output_type": "execute_result"
    }
   ],
   "source": [
    "%proving add_2_3 presuming []"
   ]
  },
  {
   "cell_type": "code",
   "execution_count": null,
   "metadata": {},
   "outputs": [],
   "source": []
  }
 ],
 "metadata": {
  "kernelspec": {
   "display_name": "Python 3",
   "language": "python",
   "name": "python3"
  }
 },
 "nbformat": 4,
 "nbformat_minor": 0
}
