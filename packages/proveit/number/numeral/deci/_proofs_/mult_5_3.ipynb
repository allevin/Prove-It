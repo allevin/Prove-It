{
 "cells": [
  {
   "cell_type": "markdown",
   "metadata": {},
   "source": [
    "Proof of <a class=\"ProveItLink\" href=\"../../../../_context_.ipynb\">proveit</a>.<a class=\"ProveItLink\" href=\"../../../_context_.ipynb\">number</a>.<a class=\"ProveItLink\" href=\"../../_context_.ipynb\">numeral</a>.<a class=\"ProveItLink\" href=\"../_context_.ipynb\">deci</a>.<a class=\"ProveItLink\" href=\"../_theorems_.ipynb#mult_5_3\">mult_5_3</a> theorem\n",
    "========"
   ]
  },
  {
   "cell_type": "code",
   "execution_count": 1,
   "metadata": {},
   "outputs": [],
   "source": [
    "import proveit\n",
    "context = proveit.Context('..') # the theorem's context is in the parent directory"
   ]
  },
  {
   "cell_type": "code",
   "execution_count": 2,
   "metadata": {},
   "outputs": [
    {
     "name": "stdout",
     "output_type": "stream",
     "text": [
      "Beginning proof of mult_5_3\n",
      "Recorded 'presuming' information\n",
      "Presuming previous theorems (applied transitively).\n"
     ]
    },
    {
     "data": {
      "text/html": [
       "<strong id=\"mult_5_3\">mult_5_3:</strong> <a class=\"ProveItLink\" href=\"../__pv_it/a276d5147408201ff9ec8227c752e04edd9174f60/expr.ipynb\"><img src=\"data:image/png;base64,iVBORw0KGgoAAAANSUhEUgAAAGEAAAAVBAMAAACkm51HAAAAMFBMVEX////c3NwiIiJERESqqqqY\n",
       "mJh2dnZmZmYQEBDu7u4yMjJUVFTMzMyIiIi6uroAAAAs73DqAAAAAXRSTlMAQObYZgAAAYJJREFU\n",
       "OMuVk7FLw0AUxr/StGnSNmSygw5F/wBFcHAyo5tOgosUFF2UFkEr7WAVZxtwKTg0i0jbRRcRitJJ\n",
       "BxcXJy0ERyd1KFi08eVqY20uAR/k8e5993t3eXcH/N+Ue3duyZe4A070Ia03jK0uaxAb7nnTgLwY\n",
       "WKGoAhStliMkoHwBhgs4+gAilpUC4rSp04vfmmkN78DCIHBcJ0LOr1MY0YGzPmmOESXXGnEioix6\n",
       "wV8CbFdBzZvYpu+qed2nyVQgnOESzUeT+sTaUDYd6aZGTmC/nqvaVnOIoC51gEM2jhbISXpXo5RS\n",
       "4K1Bdgl0WBD+JFdOdsWijtirB5Fu2EQwibANlibIjQAz8x7EJBEmDqjBSYhvP4Jk6TbR3dXmqG1j\n",
       "DrEP7KqYAkTqj3PIbWBcRcjgrUENrAJrQCCDWbWnPEBpeXU3AWEPeKbRbf7cUYRsjk5PNgcAcae9\n",
       "hVi2TpUjKu9Cl3wueyjFy274vY8KJycZfsQwJxdV/YgA59U++cz/BhUiZHueiZnIAAAAAElFTkSu\n",
       "QmCC\n",
       "\" style=\"display:inline;vertical-align:middle;\" /></a><br>(see <a class=\"ProveItLink\" href=\"../__pv_it/a276d5147408201ff9ec8227c752e04edd9174f60/dependencies.ipynb\">dependencies</a>)<br>"
      ],
      "text/plain": [
       "mult_5_3: (5 * 3) = 15"
      ]
     },
     "execution_count": 2,
     "metadata": {},
     "output_type": "execute_result"
    }
   ],
   "source": [
    "%proving mult_5_3 presuming []"
   ]
  },
  {
   "cell_type": "code",
   "execution_count": null,
   "metadata": {},
   "outputs": [],
   "source": []
  }
 ],
 "metadata": {
  "kernelspec": {
   "display_name": "Python 3",
   "language": "python",
   "name": "python3"
  }
 },
 "nbformat": 4,
 "nbformat_minor": 0
}
