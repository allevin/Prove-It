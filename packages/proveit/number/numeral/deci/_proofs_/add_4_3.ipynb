{
 "cells": [
  {
   "cell_type": "markdown",
   "metadata": {},
   "source": [
    "Proof of <a class=\"ProveItLink\" href=\"../../../../_context_.ipynb\">proveit</a>.<a class=\"ProveItLink\" href=\"../../../_context_.ipynb\">number</a>.<a class=\"ProveItLink\" href=\"../../_context_.ipynb\">numeral</a>.<a class=\"ProveItLink\" href=\"../_context_.ipynb\">decimal</a>.<a class=\"ProveItLink\" href=\"../_theorems_.ipynb#add_4_3\">add_4_3</a> theorem\n",
    "========"
   ]
  },
  {
   "cell_type": "code",
   "execution_count": 1,
   "metadata": {},
   "outputs": [],
   "source": [
    "import proveit\n",
    "context = proveit.Context('..') # the theorem's context is in the parent directory"
   ]
  },
  {
   "cell_type": "code",
   "execution_count": 2,
   "metadata": {},
   "outputs": [
    {
     "name": "stdout",
     "output_type": "stream",
     "text": [
      "Beginning proof of add_4_3\n",
      "Recorded 'presuming' information\n",
      "Presuming previous theorems (applied transitively).\n"
     ]
    },
    {
     "data": {
      "text/html": [
       "<strong id=\"add_4_3\">add_4_3:</strong> <a class=\"ProveItLink\" href=\"../__pv_it/b5490e6d3ae331e26b8c5cc7f038273377f09e050/expr.ipynb\"><img src=\"data:image/png;base64,iVBORw0KGgoAAAANSUhEUgAAAGIAAAAVBAMAAABPrCZEAAAAMFBMVEX////c3NwiIiJERESqqqqY\n",
       "mJh2dnZmZmYQEBDu7u4yMjJUVFTMzMyIiIi6uroAAAAs73DqAAAAAXRSTlMAQObYZgAAAVpJREFU\n",
       "OMtjYCAd8F3AIRGHS8dpOIEAPGnJDgzsB9CVHipLS0tgYFgJYiujSokz8P1lYFiAriP+////Gxh4\n",
       "QY7ibYaKTYRQ+Q4MnxgYwtB1ZDIwcDMwcEwAMkUXQ8V8IZQ/WMcMdB1AF+UwMLwCM9F0MIBdxeyA\n",
       "NZjKgDSrAIYOrg0MDGwFGDomA/FSIJ7LgK7j2GogwQL2OvsqMNgAFi8B4j6w+zDs4AWK8zWgW8H5\n",
       "AUj8A5p1AFMHQ/8EBp4P6Dp4F0B0TGOA6KhatUpj1SqQe2QYGOwDsOhgArmthYHBe/fuH3uR7eD8\n",
       "PwGkA+IqdiUwMACx54PCwhSsphnVVb8YGPQFGFgxIv09SEc6Nh1XGfi+YQtdf5DIIxAr+38pig6W\n",
       "8ipg7HE9QNdxPgBIcAggC/kic2ZgT+ysCci8t8icXBz5YyWujMO5AIeENC4d3AI4JBhx5do72IUB\n",
       "hapXewHZEkQAAAAASUVORK5CYII=\n",
       "\" style=\"display:inline;vertical-align:middle;\" /></a><br>(see <a class=\"ProveItLink\" href=\"../__pv_it/b5490e6d3ae331e26b8c5cc7f038273377f09e050/dependencies.ipynb\">dependencies</a>)<br>"
      ],
      "text/plain": [
       "add_4_3: (4 + 3) = 7"
      ]
     },
     "execution_count": 2,
     "metadata": {},
     "output_type": "execute_result"
    }
   ],
   "source": [
    "%proving add_4_3 presuming []"
   ]
  },
  {
   "cell_type": "code",
   "execution_count": null,
   "metadata": {},
   "outputs": [],
   "source": []
  }
 ],
 "metadata": {
  "kernelspec": {
   "display_name": "Python 3",
   "language": "python",
   "name": "python3"
  }
 },
 "nbformat": 4,
 "nbformat_minor": 0
}
