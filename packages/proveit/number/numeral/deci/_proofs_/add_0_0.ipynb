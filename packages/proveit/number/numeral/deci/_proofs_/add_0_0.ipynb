{
 "cells": [
  {
   "cell_type": "markdown",
   "metadata": {},
   "source": [
    "Proof of <a class=\"ProveItLink\" href=\"../../../../_context_.ipynb\">proveit</a>.<a class=\"ProveItLink\" href=\"../../../_context_.ipynb\">number</a>.<a class=\"ProveItLink\" href=\"../../_context_.ipynb\">numeral</a>.<a class=\"ProveItLink\" href=\"../_context_.ipynb\">decimal</a>.<a class=\"ProveItLink\" href=\"../_theorems_.ipynb#add_0_0\">add_0_0</a> theorem\n",
    "========"
   ]
  },
  {
   "cell_type": "code",
   "execution_count": 1,
   "metadata": {},
   "outputs": [],
   "source": [
    "import proveit\n",
    "context = proveit.Context('..') # the theorem's context is in the parent directory"
   ]
  },
  {
   "cell_type": "code",
   "execution_count": 2,
   "metadata": {},
   "outputs": [
    {
     "name": "stdout",
     "output_type": "stream",
     "text": [
      "Beginning proof of add_0_0\n",
      "Recorded 'presuming' information\n",
      "Presuming previous theorems (applied transitively).\n"
     ]
    },
    {
     "data": {
      "text/html": [
       "<strong id=\"add_0_0\">add_0_0:</strong> <a class=\"ProveItLink\" href=\"../__pv_it/d35616088f5c0bddb4864420b1ed0bdb28a142a80/expr.ipynb\"><img src=\"data:image/png;base64,iVBORw0KGgoAAAANSUhEUgAAAGEAAAAVBAMAAACkm51HAAAAMFBMVEX////c3NwiIiJERESqqqqY\n",
       "mJh2dnZmZmYQEBDu7u4yMjJUVFTMzMyIiIi6uroAAAAs73DqAAAAAXRSTlMAQObYZgAAAUxJREFU\n",
       "OMtjYCAd8F3AIRGHS8dpBobpd2tQxThrrx9gYD+ArhQszMCwkoFBj2ESqizTA04dBoYF6DogwrwX\n",
       "GHgVGHihshMh1CUGhlsMDGHoOiDCHBMYmDYw8H2EiPlCKG0GhvcCDDPQdUCEXzEw8Bcw8HxB0fGd\n",
       "geG8AwOzA5oOiHAZA4N8AgPPX2QdjN+AUhcY2ApQNUCFl0J0fMPQkcDAAvYc+yow2AAX7sOtg68B\n",
       "ix0JDP9wu4rnA1ZX/YP4/CtQpGrVKo1Vq1ZDvRiAoQMq3MIACl0WjND1F4C6il0JDAzgwqYMoBhk\n",
       "U0DRAYyqJAYG1gWYMQgUTgeyVBhmHEDRweTA2cOAEbpQ4UdA1vTcPQwoOjjLbgON4HqAnhLBwhwC\n",
       "yGK+yJwZ2BM7awIy7y0yJxdH/liJK+NwLsAhIY1LB7cADglGXLn2DnZhAL/Sa40uCuUuAAAAAElF\n",
       "TkSuQmCC\n",
       "\" style=\"display:inline;vertical-align:middle;\" /></a><br>(see <a class=\"ProveItLink\" href=\"../__pv_it/d35616088f5c0bddb4864420b1ed0bdb28a142a80/dependencies.ipynb\">dependencies</a>)<br>"
      ],
      "text/plain": [
       "add_0_0: (0 + 0) = 0"
      ]
     },
     "execution_count": 2,
     "metadata": {},
     "output_type": "execute_result"
    }
   ],
   "source": [
    "%proving add_0_0 presuming []"
   ]
  },
  {
   "cell_type": "code",
   "execution_count": null,
   "metadata": {},
   "outputs": [],
   "source": []
  }
 ],
 "metadata": {
  "kernelspec": {
   "display_name": "Python 3",
   "language": "python",
   "name": "python3"
  }
 },
 "nbformat": 4,
 "nbformat_minor": 0
}
