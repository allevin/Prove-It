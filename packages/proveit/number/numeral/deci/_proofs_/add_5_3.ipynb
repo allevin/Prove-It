{
 "cells": [
  {
   "cell_type": "markdown",
   "metadata": {},
   "source": [
    "Proof of <a class=\"ProveItLink\" href=\"../../../../_context_.ipynb\">proveit</a>.<a class=\"ProveItLink\" href=\"../../../_context_.ipynb\">number</a>.<a class=\"ProveItLink\" href=\"../../_context_.ipynb\">numeral</a>.<a class=\"ProveItLink\" href=\"../_context_.ipynb\">decimal</a>.<a class=\"ProveItLink\" href=\"../_theorems_.ipynb#add_5_3\">add_5_3</a> theorem\n",
    "========"
   ]
  },
  {
   "cell_type": "code",
   "execution_count": 1,
   "metadata": {},
   "outputs": [],
   "source": [
    "import proveit\n",
    "context = proveit.Context('..') # the theorem's context is in the parent directory"
   ]
  },
  {
   "cell_type": "code",
   "execution_count": 2,
   "metadata": {},
   "outputs": [
    {
     "name": "stdout",
     "output_type": "stream",
     "text": [
      "Beginning proof of add_5_3\n",
      "Recorded 'presuming' information\n",
      "Presuming previous theorems (applied transitively).\n"
     ]
    },
    {
     "data": {
      "text/html": [
       "<strong id=\"add_5_3\">add_5_3:</strong> <a class=\"ProveItLink\" href=\"../__pv_it/25ad6235025296ce08f81b375c3babeb882495f00/expr.ipynb\"><img src=\"data:image/png;base64,iVBORw0KGgoAAAANSUhEUgAAAGEAAAAVBAMAAACkm51HAAAAMFBMVEX////c3NwiIiJERESqqqqY\n",
       "mJh2dnZmZmYQEBDu7u4yMjJUVFTMzMyIiIi6uroAAAAs73DqAAAAAXRSTlMAQObYZgAAAYJJREFU\n",
       "OMuVkz9IAzEUxr/SXq9/j5t0ULA4ueni4ORNIkJpF3VSCkI7SLGLFqpgBRcXezp1s4tIz0FdFAfF\n",
       "SQeXLm4KxVEQtEgHUeu7FOXueRnMkLz3vfySl7wE+H/TGpLAvIy4BfbNHsOlxbILBtQrPjWczdnz\n",
       "6kCl03aHeqF9AjVOqMAyEKekDk5/ltvpDksGWsAMJ6aBXSBkAse/WrI7pARR5cSiIJ7gQUBk5TcY\n",
       "kTpHHlgh6+LhkhMRWiVYYIS/M5eheyJrDHtNN3F9SF1AHF21RBN5rLd0YFvMiJbZHnHStTLbQ1k7\n",
       "egO+hB38YAQqJmIvjJiF0jFtwp9A0AZLljVkWXY+/cB4+i+xBQyksUkXnID66twjTCsR0c1KHRRt\n",
       "hGTy1QZGRSkjNVdW78CwDoUXfYMOrCMH+AqY1F3EHbS2x+1OmZgAHsm6WT1x1yNQLFH1Ik3+zM+K\n",
       "JId0p5Z0OlXvx65knN6z08lL/kdd9nHCNUmgT0ZEdUnAJ/u1997yNycNXLr1PSaEAAAAAElFTkSu\n",
       "QmCC\n",
       "\" style=\"display:inline;vertical-align:middle;\" /></a><br>(see <a class=\"ProveItLink\" href=\"../__pv_it/25ad6235025296ce08f81b375c3babeb882495f00/dependencies.ipynb\">dependencies</a>)<br>"
      ],
      "text/plain": [
       "add_5_3: (5 + 3) = 8"
      ]
     },
     "execution_count": 2,
     "metadata": {},
     "output_type": "execute_result"
    }
   ],
   "source": [
    "%proving add_5_3 presuming []"
   ]
  },
  {
   "cell_type": "code",
   "execution_count": null,
   "metadata": {},
   "outputs": [],
   "source": []
  }
 ],
 "metadata": {
  "kernelspec": {
   "display_name": "Python 3",
   "language": "python",
   "name": "python3"
  }
 },
 "nbformat": 4,
 "nbformat_minor": 0
}
