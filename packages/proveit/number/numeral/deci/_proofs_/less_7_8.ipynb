{
 "cells": [
  {
   "cell_type": "markdown",
   "metadata": {},
   "source": [
    "Proof of <a class=\"ProveItLink\" href=\"../../../../_context_.ipynb\">proveit</a>.<a class=\"ProveItLink\" href=\"../../../_context_.ipynb\">number</a>.<a class=\"ProveItLink\" href=\"../../_context_.ipynb\">numeral</a>.<a class=\"ProveItLink\" href=\"../_context_.ipynb\">decimal</a>.<a class=\"ProveItLink\" href=\"../_theorems_.ipynb#less_7_8\">less_7_8</a> theorem\n",
    "========"
   ]
  },
  {
   "cell_type": "code",
   "execution_count": 1,
   "metadata": {},
   "outputs": [],
   "source": [
    "import proveit\n",
    "context = proveit.Context('..') # the theorem's context is in the parent directory"
   ]
  },
  {
   "cell_type": "code",
   "execution_count": 2,
   "metadata": {},
   "outputs": [
    {
     "name": "stdout",
     "output_type": "stream",
     "text": [
      "Beginning proof of less_7_8\n",
      "Recorded 'presuming' information\n",
      "Presuming previous theorems (applied transitively).\n"
     ]
    },
    {
     "data": {
      "text/html": [
       "<strong id=\"less_7_8\">less_7_8:</strong> <a class=\"ProveItLink\" href=\"../__pv_it/279950f672555c6751a4fef1706b3b4d17f9231e0/expr.ipynb\"><img src=\"data:image/png;base64,iVBORw0KGgoAAAANSUhEUgAAADAAAAAOBAMAAACbXIJpAAAAMFBMVEX///8QEBDc3NwyMjKqqqpE\n",
       "RESIiIi6urru7u5UVFSYmJh2dnZmZmYiIiLMzMwAAACwhPg6AAAAAXRSTlMAQObYZgAAAM5JREFU\n",
       "GNNjeHt69+4NDKige/cRBob1////n4AmcYCBZwHDDgYGToSQzgMgwbWAgeMCA9CYfXDxl+YgknsC\n",
       "SIKBgT0BJl48D0yx/GzgBom1wsSdD0EZ8b+yQdQRKDd3B0wFz/9LQJLjA4S3F24iw5rH/x0YGNgM\n",
       "wByO0AKYONcBhvU/GBh4ob7gm+wAlWBsYGD6xcDQfwDKZzq7AMJoBOJjDAz1MAkGjr0ZEB0KDAyT\n",
       "GBj8DyA8vhbsMBYLBhagv98vQAolZ1CQMFSeOcIAABE7N+pLBMtVAAAAAElFTkSuQmCC\n",
       "\" style=\"display:inline;vertical-align:middle;\" /></a><br>(see <a class=\"ProveItLink\" href=\"../__pv_it/279950f672555c6751a4fef1706b3b4d17f9231e0/dependencies.ipynb\">dependencies</a>)<br>"
      ],
      "text/plain": [
       "less_7_8: 7 < 8"
      ]
     },
     "execution_count": 2,
     "metadata": {},
     "output_type": "execute_result"
    }
   ],
   "source": [
    "%proving less_7_8 presuming []"
   ]
  },
  {
   "cell_type": "code",
   "execution_count": null,
   "metadata": {},
   "outputs": [],
   "source": []
  }
 ],
 "metadata": {
  "kernelspec": {
   "display_name": "Python 3",
   "language": "python",
   "name": "python3"
  }
 },
 "nbformat": 4,
 "nbformat_minor": 0
}
