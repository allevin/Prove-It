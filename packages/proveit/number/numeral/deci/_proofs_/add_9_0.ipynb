{
 "cells": [
  {
   "cell_type": "markdown",
   "metadata": {},
   "source": [
    "Proof of <a class=\"ProveItLink\" href=\"../../../../_context_.ipynb\">proveit</a>.<a class=\"ProveItLink\" href=\"../../../_context_.ipynb\">number</a>.<a class=\"ProveItLink\" href=\"../../_context_.ipynb\">numeral</a>.<a class=\"ProveItLink\" href=\"../_context_.ipynb\">decimal</a>.<a class=\"ProveItLink\" href=\"../_theorems_.ipynb#add_9_0\">add_9_0</a> theorem\n",
    "========"
   ]
  },
  {
   "cell_type": "code",
   "execution_count": 1,
   "metadata": {},
   "outputs": [],
   "source": [
    "import proveit\n",
    "context = proveit.Context('..') # the theorem's context is in the parent directory"
   ]
  },
  {
   "cell_type": "code",
   "execution_count": 2,
   "metadata": {},
   "outputs": [
    {
     "name": "stdout",
     "output_type": "stream",
     "text": [
      "Beginning proof of add_9_0\n",
      "Recorded 'presuming' information\n",
      "Presuming previous theorems (applied transitively).\n"
     ]
    },
    {
     "data": {
      "text/html": [
       "<strong id=\"add_9_0\">add_9_0:</strong> <a class=\"ProveItLink\" href=\"../__pv_it/207a8d377d9cf0dc9e76542fbeec303077dd4a820/expr.ipynb\"><img src=\"data:image/png;base64,iVBORw0KGgoAAAANSUhEUgAAAGEAAAAVBAMAAACkm51HAAAAMFBMVEX////c3NwiIiJERESqqqqY\n",
       "mJh2dnZmZmYQEBDu7u4yMjJUVFTMzMyIiIi6uroAAAAs73DqAAAAAXRSTlMAQObYZgAAAX5JREFU\n",
       "OMuVkz1Iw0AUx//pR9K0tmYsOAhOig4dFNzM5lTs5KYUlw4iCkIUQYzQUSRuRQezdGhEEBxcHLqL\n",
       "GLoIWmlwFETFLxQUr5cMuWtu8Ibcvffy430D/z85V2CYFxEXwIFxzurUzesmlCb/q3q22NU1IFWR\n",
       "1xhTzFPHAJsn8rq0DWRdxE1kCr5uz79awA0wyxOTwCmQstBvQ/7ydUX/GgWeNNR44htYtvAAHBaQ\n",
       "/WWIT+BKR1zn0ngFOh4MUB/vYUL6IIQLeSXCRwl1QDER/+khykjQ1BWHnhPyXAemXOwSb3VMRxE5\n",
       "k/OxX0psuegmkLy7fIuIqu+ZT32u3dHhp0xrteE4w45zFGReiiBorar0kbb56s5oQVTKED1Bwxxg\n",
       "gjTxBYMeQ5AOLpBg+aZ3NImEVCHECI7BEDFd3UFvdVtWmoztPXlVVnWWUI1bMnJpjyPktXHyTTEz\n",
       "WAwLtehhT5bD0mNYWBLsR0O0OKotMAyIiIwmMEiirW1Hq/8AK7Jp5J/0gSUAAAAASUVORK5CYII=\n",
       "\" style=\"display:inline;vertical-align:middle;\" /></a><br>(see <a class=\"ProveItLink\" href=\"../__pv_it/207a8d377d9cf0dc9e76542fbeec303077dd4a820/dependencies.ipynb\">dependencies</a>)<br>"
      ],
      "text/plain": [
       "add_9_0: (9 + 0) = 9"
      ]
     },
     "execution_count": 2,
     "metadata": {},
     "output_type": "execute_result"
    }
   ],
   "source": [
    "%proving add_9_0 presuming []"
   ]
  },
  {
   "cell_type": "code",
   "execution_count": null,
   "metadata": {},
   "outputs": [],
   "source": []
  }
 ],
 "metadata": {
  "kernelspec": {
   "display_name": "Python 3",
   "language": "python",
   "name": "python3"
  }
 },
 "nbformat": 4,
 "nbformat_minor": 0
}
