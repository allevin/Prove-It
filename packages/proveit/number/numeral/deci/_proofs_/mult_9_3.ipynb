{
 "cells": [
  {
   "cell_type": "markdown",
   "metadata": {},
   "source": [
    "Proof of <a class=\"ProveItLink\" href=\"../../../../_context_.ipynb\">proveit</a>.<a class=\"ProveItLink\" href=\"../../../_context_.ipynb\">number</a>.<a class=\"ProveItLink\" href=\"../../_context_.ipynb\">numeral</a>.<a class=\"ProveItLink\" href=\"../_context_.ipynb\">deci</a>.<a class=\"ProveItLink\" href=\"../_theorems_.ipynb#mult_9_3\">mult_9_3</a> theorem\n",
    "========"
   ]
  },
  {
   "cell_type": "code",
   "execution_count": 1,
   "metadata": {},
   "outputs": [],
   "source": [
    "import proveit\n",
    "context = proveit.Context('..') # the theorem's context is in the parent directory"
   ]
  },
  {
   "cell_type": "code",
   "execution_count": 2,
   "metadata": {},
   "outputs": [
    {
     "name": "stdout",
     "output_type": "stream",
     "text": [
      "Beginning proof of mult_9_3\n",
      "Recorded 'presuming' information\n",
      "Presuming previous theorems (applied transitively).\n"
     ]
    },
    {
     "data": {
      "text/html": [
       "<strong id=\"mult_9_3\">mult_9_3:</strong> <a class=\"ProveItLink\" href=\"../__pv_it/ab28ee24bd22e47be4e4ee2d3b407f39c49846490/expr.ipynb\"><img src=\"data:image/png;base64,iVBORw0KGgoAAAANSUhEUgAAAGIAAAAVBAMAAABPrCZEAAAAMFBMVEX////c3NwiIiJERESqqqqY\n",
       "mJh2dnZmZmYQEBDu7u4yMjJUVFTMzMyIiIi6uroAAAAs73DqAAAAAXRSTlMAQObYZgAAAaBJREFU\n",
       "OMuVkz9IAmEYxh/TU089O1oKDIqamnRpzs0xp8YSgougSDQUXHJwaKqDFqHBg3AwiVyDoGhoicil\n",
       "reBobMnChAK73u/O07g7Dvrgvj/v8/2+P8/7HfD/Em3bY6uuxB1wXLgcDiPSehKBa+ssT/FExU1B\n",
       "kjJAA54KpkRTmkS0DyhWIgahizVN01oQ2vCWEU6Y0k4SH8CKlbgA4tgEwkBQxrgC/5cpLetE1Urs\n",
       "y7hS6URbwCtQS0D4+WMFncqbtBDnMvZUw6YC9D0+R2KoBfizdoviMnBEbR0IlOHtD4XbJlU+/eql\n",
       "U1aaAxN7VO3SdwDwdaQYwcu6JFAoWrZtESJz+A512AW45/suNbVZQzuUEenYiDxbTBkQMLyqMoun\n",
       "gaW0AyHQ7TDGqoqxpZkyXpMZYZwqN8fKvC6k4BFRY4YsEv6OGdVc65tMEcFZkx7JghPxxogNIhZw\n",
       "NpQeEe05uDshSTlKLwu/MCo/SpivWKJBSLUmQ9PoKTykqRsUnR501eWxcxmn6Lbb/9FwiPGKGxFz\n",
       "iIVFN8Lj8Nc+ucz/BQvVZ6p292O9AAAAAElFTkSuQmCC\n",
       "\" style=\"display:inline;vertical-align:middle;\" /></a><br>(see <a class=\"ProveItLink\" href=\"../__pv_it/ab28ee24bd22e47be4e4ee2d3b407f39c49846490/dependencies.ipynb\">dependencies</a>)<br>"
      ],
      "text/plain": [
       "mult_9_3: (9 * 3) = 27"
      ]
     },
     "execution_count": 2,
     "metadata": {},
     "output_type": "execute_result"
    }
   ],
   "source": [
    "%proving mult_9_3 presuming []"
   ]
  },
  {
   "cell_type": "code",
   "execution_count": null,
   "metadata": {},
   "outputs": [],
   "source": []
  }
 ],
 "metadata": {
  "kernelspec": {
   "display_name": "Python 3",
   "language": "python",
   "name": "python3"
  }
 },
 "nbformat": 4,
 "nbformat_minor": 0
}
