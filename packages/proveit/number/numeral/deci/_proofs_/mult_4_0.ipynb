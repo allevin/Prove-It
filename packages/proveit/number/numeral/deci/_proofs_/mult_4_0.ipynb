{
 "cells": [
  {
   "cell_type": "markdown",
   "metadata": {},
   "source": [
    "Proof of <a class=\"ProveItLink\" href=\"../../../../_context_.ipynb\">proveit</a>.<a class=\"ProveItLink\" href=\"../../../_context_.ipynb\">number</a>.<a class=\"ProveItLink\" href=\"../../_context_.ipynb\">numeral</a>.<a class=\"ProveItLink\" href=\"../_context_.ipynb\">deci</a>.<a class=\"ProveItLink\" href=\"../_theorems_.ipynb#mult_4_0\">mult_4_0</a> theorem\n",
    "========"
   ]
  },
  {
   "cell_type": "code",
   "execution_count": 1,
   "metadata": {},
   "outputs": [],
   "source": [
    "import proveit\n",
    "context = proveit.Context('..') # the theorem's context is in the parent directory"
   ]
  },
  {
   "cell_type": "code",
   "execution_count": 2,
   "metadata": {},
   "outputs": [
    {
     "name": "stdout",
     "output_type": "stream",
     "text": [
      "Beginning proof of mult_4_0\n",
      "Recorded 'presuming' information\n",
      "Presuming previous theorems (applied transitively).\n"
     ]
    },
    {
     "data": {
      "text/html": [
       "<strong id=\"mult_4_0\">mult_4_0:</strong> <a class=\"ProveItLink\" href=\"../__pv_it/4acf9e958877e670f2dbb0b107ca7ae2450708d30/expr.ipynb\"><img src=\"data:image/png;base64,iVBORw0KGgoAAAANSUhEUgAAAFcAAAAVBAMAAADBdm84AAAAMFBMVEX////c3NwiIiJERESqqqqY\n",
       "mJh2dnZmZmYQEBDu7u4yMjJUVFTMzMyIiIi6uroAAAAs73DqAAAAAXRSTlMAQObYZgAAAS1JREFU\n",
       "KM9jYCAJ8F3AFIvDpfg0nAADztrrBxjYD6CrAgszMKwEsZXhokwPOHUYGBagK4YI84JcwdsMF73E\n",
       "wHCLgSEMXTFEmGMCkCm6GC6qzcDwXoBhBrpiiPArEDMBofg7A8N5BwZmBzTFEOEyIItVAK6Y8RtQ\n",
       "9AIDWwGqWqjwUiBzLgOq4gQGFrAPq1aBwGqEcB/IFRDFnBPgonwNWExOYPjHwMByAKJ4vgLcPp4P\n",
       "WJ0BVDyNAaJ4hgHUJwEYiqHCLQwM3rt3/9iLFEb+AlBnFCmBgDJC2BSsBCVSkoDhswAzUoDC6WiK\n",
       "mRw4exgwgg4q/AjEzP5fCk8xZbeBKYbrAXpCAgtzCGBLijOwp1DWBGyiuTjS80osYpwLcCiWxiLG\n",
       "LYBDMSOWbHUHu1IAaoNf2DyCkbsAAAAASUVORK5CYII=\n",
       "\" style=\"display:inline;vertical-align:middle;\" /></a><br>(see <a class=\"ProveItLink\" href=\"../__pv_it/4acf9e958877e670f2dbb0b107ca7ae2450708d30/dependencies.ipynb\">dependencies</a>)<br>"
      ],
      "text/plain": [
       "mult_4_0: (4 * 0) = 0"
      ]
     },
     "execution_count": 2,
     "metadata": {},
     "output_type": "execute_result"
    }
   ],
   "source": [
    "%proving mult_4_0 presuming []"
   ]
  },
  {
   "cell_type": "code",
   "execution_count": null,
   "metadata": {},
   "outputs": [],
   "source": []
  }
 ],
 "metadata": {
  "kernelspec": {
   "display_name": "Python 3",
   "language": "python",
   "name": "python3"
  }
 },
 "nbformat": 4,
 "nbformat_minor": 0
}
