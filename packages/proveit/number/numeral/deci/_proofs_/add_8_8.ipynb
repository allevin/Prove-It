{
 "cells": [
  {
   "cell_type": "markdown",
   "metadata": {},
   "source": [
    "Proof of <a class=\"ProveItLink\" href=\"../../../../_context_.ipynb\">proveit</a>.<a class=\"ProveItLink\" href=\"../../../_context_.ipynb\">number</a>.<a class=\"ProveItLink\" href=\"../../_context_.ipynb\">numeral</a>.<a class=\"ProveItLink\" href=\"../_context_.ipynb\">decimal</a>.<a class=\"ProveItLink\" href=\"../_theorems_.ipynb#add_8_8\">add_8_8</a> theorem\n",
    "========"
   ]
  },
  {
   "cell_type": "code",
   "execution_count": 1,
   "metadata": {},
   "outputs": [],
   "source": [
    "import proveit\n",
    "context = proveit.Context('..') # the theorem's context is in the parent directory"
   ]
  },
  {
   "cell_type": "code",
   "execution_count": 2,
   "metadata": {},
   "outputs": [
    {
     "name": "stdout",
     "output_type": "stream",
     "text": [
      "Beginning proof of add_8_8\n",
      "Recorded 'presuming' information\n",
      "Presuming previous theorems (applied transitively).\n"
     ]
    },
    {
     "data": {
      "text/html": [
       "<strong id=\"add_8_8\">add_8_8:</strong> <a class=\"ProveItLink\" href=\"../__pv_it/e1ab2871b47f02f4c68914787974f25bb4bf36320/expr.ipynb\"><img src=\"data:image/png;base64,iVBORw0KGgoAAAANSUhEUgAAAGwAAAAVBAMAAABRZRb3AAAAMFBMVEX////c3NwiIiJERESqqqqY\n",
       "mJh2dnZmZmYQEBDu7u4yMjJUVFTMzMyIiIi6uroAAAAs73DqAAAAAXRSTlMAQObYZgAAAXZJREFU\n",
       "OMudkz9Iw0AUh3+1+WMqteLqUgXF0UFd6ywUsgkudmrXDsWCKHRw1rhIcWkXkUYp7eQgaGcdzOQm\n",
       "ipMogoMdgmh9vUurl1wyeBBy77t89y7v7oB/tnEnZEB9jNJugMN8yQcZ2Q5+HLcAo5DvAA2gCN0U\n",
       "hxlJBCwjQ9pkZyyNpAPVhJHm/MBbHyNqzm9dXJE2h0Qdoxa01lDL8hcnRiWQ7sGC6vY7L4DyaWmO\n",
       "oHlkUaYl2GSb9GS6dxA0jxRkWursnsp1TIHem/ZpnKyyrs1aa6DVZjFiYo+Cteveiqhx8izLVnuH\n",
       "5uKb6lbEhitoHrmValTij75GxYx1iW3Z9rxtn2JIpFqqDvULu0CV4h0hm0fYIvUZ1hYGWpxlW6K5\n",
       "J4C2oHlkXZZNYf9GRVYaUHLivnEi3QAso2riiYLXcsm3AZw0/VZ5/8SEfn7J1/PbssIRrITfG/G8\n",
       "vv0NNCfivjVCR46irulU6Eg7SouFLSXZCZd+APHqdUce23JdAAAAAElFTkSuQmCC\n",
       "\" style=\"display:inline;vertical-align:middle;\" /></a><br>(see <a class=\"ProveItLink\" href=\"../__pv_it/e1ab2871b47f02f4c68914787974f25bb4bf36320/dependencies.ipynb\">dependencies</a>)<br>"
      ],
      "text/plain": [
       "add_8_8: (8 + 8) = 16"
      ]
     },
     "execution_count": 2,
     "metadata": {},
     "output_type": "execute_result"
    }
   ],
   "source": [
    "%proving add_8_8 presuming []"
   ]
  },
  {
   "cell_type": "code",
   "execution_count": null,
   "metadata": {},
   "outputs": [],
   "source": []
  }
 ],
 "metadata": {
  "kernelspec": {
   "display_name": "Python 3",
   "language": "python",
   "name": "python3"
  }
 },
 "nbformat": 4,
 "nbformat_minor": 0
}
