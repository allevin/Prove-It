{
 "cells": [
  {
   "cell_type": "markdown",
   "metadata": {},
   "source": [
    "Proof of <a class=\"ProveItLink\" href=\"../../../../_context_.ipynb\">proveit</a>.<a class=\"ProveItLink\" href=\"../../../_context_.ipynb\">number</a>.<a class=\"ProveItLink\" href=\"../../_context_.ipynb\">numeral</a>.<a class=\"ProveItLink\" href=\"../_context_.ipynb\">deci</a>.<a class=\"ProveItLink\" href=\"../_theorems_.ipynb#mult_2_7\">mult_2_7</a> theorem\n",
    "========"
   ]
  },
  {
   "cell_type": "code",
   "execution_count": 1,
   "metadata": {},
   "outputs": [],
   "source": [
    "import proveit\n",
    "context = proveit.Context('..') # the theorem's context is in the parent directory"
   ]
  },
  {
   "cell_type": "code",
   "execution_count": 2,
   "metadata": {},
   "outputs": [
    {
     "name": "stdout",
     "output_type": "stream",
     "text": [
      "Beginning proof of mult_2_7\n",
      "Recorded 'presuming' information\n",
      "Presuming previous theorems (applied transitively).\n"
     ]
    },
    {
     "data": {
      "text/html": [
       "<strong id=\"mult_2_7\">mult_2_7:</strong> <a class=\"ProveItLink\" href=\"../__pv_it/c850e3acd6797a3b7e60edbc4fd6a9f4c6afaacd0/expr.ipynb\"><img src=\"data:image/png;base64,iVBORw0KGgoAAAANSUhEUgAAAGEAAAAVBAMAAACkm51HAAAAMFBMVEX////c3NwiIiJERESqqqqY\n",
       "mJh2dnZmZmYQEBDu7u4yMjJUVFTMzMyIiIi6uroAAAAs73DqAAAAAXRSTlMAQObYZgAAAWpJREFU\n",
       "OMtjYCAd8F3AFIvDq+M0A4N4lR2ce6gsLS2B/QCmOksQwbMBSKxkYNzAcN8BJhH/////DQwLMDRM\n",
       "/gkimQwYGHgvMHBPYGD6AJPJZGDgZmAIQ9cwezdYxw2gDo4JDBydDNz/YFIJDAw5DAwzMOzgBelg\n",
       "jALqeMXAwPWTgf0falAwO2DVwcYF1FEG5jP9RHIxSKoAq45AkI6lYP75BIRcCRCzgL1etQoEVsN1\n",
       "cF4A6egD8xeDCM4JYBIUCHwN2OxgYwDpAHuA3QBEzlcAS4GM5/mATYcPQsdtsOAMsD6mDbh0cCaA\n",
       "dbSAXF3AIAiXml8Ad1WREggow3Sw7N69v/sCgymQdxwYCnAd70E6WBdgDSsGDqAd6cB4UUtLV4BL\n",
       "+RfgDl2wjkdAlwOTEkLH+QAgwfUATQN7xa9SoEH7vwcwcAhgS9Az8CR21gRsorn48sdKLGKcC/Dp\n",
       "kMYixi2ATwcjllx7B496ALq/XdvjjE13AAAAAElFTkSuQmCC\n",
       "\" style=\"display:inline;vertical-align:middle;\" /></a><br>(see <a class=\"ProveItLink\" href=\"../__pv_it/c850e3acd6797a3b7e60edbc4fd6a9f4c6afaacd0/dependencies.ipynb\">dependencies</a>)<br>"
      ],
      "text/plain": [
       "mult_2_7: (2 * 7) = 14"
      ]
     },
     "execution_count": 2,
     "metadata": {},
     "output_type": "execute_result"
    }
   ],
   "source": [
    "%proving mult_2_7 presuming []"
   ]
  },
  {
   "cell_type": "code",
   "execution_count": null,
   "metadata": {},
   "outputs": [],
   "source": []
  }
 ],
 "metadata": {
  "kernelspec": {
   "display_name": "Python 3",
   "language": "python",
   "name": "python3"
  }
 },
 "nbformat": 4,
 "nbformat_minor": 0
}
