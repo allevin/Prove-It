{
 "cells": [
  {
   "cell_type": "markdown",
   "metadata": {},
   "source": [
    "Proof of <a class=\"ProveItLink\" href=\"../../../../_context_.ipynb\">proveit</a>.<a class=\"ProveItLink\" href=\"../../../_context_.ipynb\">number</a>.<a class=\"ProveItLink\" href=\"../../_context_.ipynb\">numeral</a>.<a class=\"ProveItLink\" href=\"../_context_.ipynb\">decimal</a>.<a class=\"ProveItLink\" href=\"../_theorems_.ipynb#sorted_digits\">sorted_digits</a> theorem\n",
    "========"
   ]
  },
  {
   "cell_type": "code",
   "execution_count": 1,
   "metadata": {},
   "outputs": [],
   "source": [
    "import proveit\n",
    "context = proveit.Context('..') # the theorem's context is in the parent directory"
   ]
  },
  {
   "cell_type": "code",
   "execution_count": 2,
   "metadata": {},
   "outputs": [
    {
     "name": "stdout",
     "output_type": "stream",
     "text": [
      "Beginning proof of sorted_digits\n",
      "Recorded 'presuming' information\n",
      "Presuming previous theorems (applied transitively).\n"
     ]
    },
    {
     "data": {
      "text/html": [
       "<strong id=\"sorted_digits\">sorted_digits:</strong> <a class=\"ProveItLink\" href=\"../__pv_it/3d8b5c87c441332f68f6273cbac87bc9ab9606d80/expr.ipynb\"><img src=\"data:image/png;base64,iVBORw0KGgoAAAANSUhEUgAAAWEAAAAPBAMAAADHWGN6AAAAMFBMVEX///9EREQQEBCYmJh2dnaq\n",
       "qqrc3NxUVFQyMjK6uroiIiLMzMyIiIhmZmbu7u4AAADSWfX9AAAAAXRSTlMAQObYZgAAAyFJREFU\n",
       "SMfNls9LFGEYx7/r7uyuu+tsBR3yYhF46GADQYewnMOG4c89BHkJl4JuonXZyCwNwiKkPXbTyA6R\n",
       "hz0EQRQuXQSzXNIyksUpPIQkWqaoxE7v/Hhn3vdZ/4DmMLP7eZ/nne8+7/NjgdWZRdArYFDS8+UQ\n",
       "RS9SBysc8ZKC6JnwWcqW51sJeTWfSukyUlPtaWKlDjTn2eMZVvJ0pY4qDvdhlviHixgtVCh+TEGV\n",
       "aep0s+e4QVCTaZp9MqoB5ojVpXS4HkiMITHoh9ISr2ZvC4ptFDEQW/dfaZ1KaBPJMRmx3Y6AoOhC\n",
       "K0UxHfcI6mCvIOgEsELQAeAqc+9D9ZZ3pved56yv2EFVDYjscBS/nmN3RVTsIODyEAiKCDFyUZNR\n",
       "gdgxtBLULCh20TbQaSBZRHzTXXjUD6rYRdEyarji6mGeRV5WeEj3FHMkKOboTiVin+he3bfQJiP1\n",
       "F1OWQ6+O+F9noeszqGIfIVZ2nspIhqNhEBTMDFEUmZnKEbT9+n26Yq9v1DFgNurUkcVYsxX/sb9P\n",
       "d4AqFhAmHf/EOP818XNurfjoJ4YoChjqjozUXQ1PiBXwiTpiaTdD0EegruArbhEK31UsIldLaEJA\n",
       "b3ME6XtZ4ZqMVNNOR9lKXaeOwcWHmwT90JSlgpcV6v4cVSyhmn3O4YltuaosIyXvKpas0JmXkLrL\n",
       "ii9NrNx+JaDTCJoGsWp8x3qsVXkbTj2maYxFNMV7x13ecPIIbMhomZ+Ej1DLFOdkxNKxqSAjq2UR\n",
       "xwagVyNW9uEwU8XpbuGvGs1jHylFXHH7s5ODWCtzxR66kM3+vikjHGMJmZFRrRtjAWGtCNlRPczO\n",
       "tUCsYDVyNkFCbltVWz7QXuGhN8BJHskJezU5iNiWjNjlTRCOivDGBUfdbh6LjqNF6simWyQjo9lM\n",
       "2Krip/juTelTHRUTxEHh8VS7Ny6CdvEmNIzqMhIVc9QDpZ6ggK4epY7dRerYZeA8QdNG1Ir6alu/\n",
       "H/QuW3zp+Igmoxib+/5IVh5Y94slIcEchGZzjqB4KZuhVgsLOYomNbpX9UApTVCotMd/r///+gfQ\n",
       "Rj9gco6bTAAAAABJRU5ErkJggg==\n",
       "\" style=\"display:inline;vertical-align:middle;\" /></a><br>(see <a class=\"ProveItLink\" href=\"../__pv_it/3d8b5c87c441332f68f6273cbac87bc9ab9606d80/dependencies.ipynb\">dependencies</a>)<br>"
      ],
      "text/plain": [
       "sorted_digits: 0 < 1 < 2 < 3 < 4 < 5 < 6 < 7 < 8 < 9"
      ]
     },
     "execution_count": 2,
     "metadata": {},
     "output_type": "execute_result"
    }
   ],
   "source": [
    "%proving sorted_digits presuming []"
   ]
  },
  {
   "cell_type": "code",
   "execution_count": null,
   "metadata": {},
   "outputs": [],
   "source": []
  }
 ],
 "metadata": {
  "kernelspec": {
   "display_name": "Python 3",
   "language": "python",
   "name": "python3"
  }
 },
 "nbformat": 4,
 "nbformat_minor": 0
}
