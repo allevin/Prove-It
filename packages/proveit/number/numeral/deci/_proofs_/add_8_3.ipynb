{
 "cells": [
  {
   "cell_type": "markdown",
   "metadata": {},
   "source": [
    "Proof of <a class=\"ProveItLink\" href=\"../../../../_context_.ipynb\">proveit</a>.<a class=\"ProveItLink\" href=\"../../../_context_.ipynb\">number</a>.<a class=\"ProveItLink\" href=\"../../_context_.ipynb\">numeral</a>.<a class=\"ProveItLink\" href=\"../_context_.ipynb\">decimal</a>.<a class=\"ProveItLink\" href=\"../_theorems_.ipynb#add_8_3\">add_8_3</a> theorem\n",
    "========"
   ]
  },
  {
   "cell_type": "code",
   "execution_count": 1,
   "metadata": {},
   "outputs": [],
   "source": [
    "import proveit\n",
    "context = proveit.Context('..') # the theorem's context is in the parent directory"
   ]
  },
  {
   "cell_type": "code",
   "execution_count": 2,
   "metadata": {},
   "outputs": [
    {
     "name": "stdout",
     "output_type": "stream",
     "text": [
      "Beginning proof of add_8_3\n",
      "Recorded 'presuming' information\n",
      "Presuming previous theorems (applied transitively).\n"
     ]
    },
    {
     "data": {
      "text/html": [
       "<strong id=\"add_8_3\">add_8_3:</strong> <a class=\"ProveItLink\" href=\"../__pv_it/bd870f97fc16a76fa8b1c507cd194258ce2286d70/expr.ipynb\"><img src=\"data:image/png;base64,iVBORw0KGgoAAAANSUhEUgAAAGsAAAAVBAMAAACzuQ2OAAAAMFBMVEX////c3NwiIiJERESqqqqY\n",
       "mJh2dnZmZmYQEBDu7u4yMjJUVFTMzMyIiIi6uroAAAAs73DqAAAAAXRSTlMAQObYZgAAAVxJREFU\n",
       "OMtjYCAT8F3AIcH6AJ+20wwM09JK0ASPpZkwMNRgKmaeACNWMjAUMLAHoMgyFjC8v8DAhaGL034C\n",
       "lOC9wMAawMCpABGfCKHYvjDwKzCwJqDr2r1/AoRg4JjAwLYBrs0XQrGAtXE2YFh3fwKUeAVU9HsC\n",
       "2wUUbUAAdCSDCW5tZUDa/us1BnRtq4E4Hbe2pUCa/b8imjaerA1A0gvEZF8FBhtQtfUB6fBT/x3Q\n",
       "bbsBjLUXuG37B4zXAob4n+jaOIAi5/FqAwYm41cgt2rVKo1Vq0CeYjzAwPwVr7YWBoYZQGYtim3z\n",
       "f4K1gR3JrgQGBqjaTIG2CTAwbETRxr+AgekjA0MUbtuAgcyykoElAUUbbwDD+wS8EfAISL8uL0GL\n",
       "APfyJUByHbqu8v7lARAC5EIE8EVJgg248w1qen2LzGG7gCe/rcQpMwtfNpXGKbMRnzZGXE7hPYBb\n",
       "EwDB9nbjRuH8xwAAAABJRU5ErkJggg==\n",
       "\" style=\"display:inline;vertical-align:middle;\" /></a><br>(see <a class=\"ProveItLink\" href=\"../__pv_it/bd870f97fc16a76fa8b1c507cd194258ce2286d70/dependencies.ipynb\">dependencies</a>)<br>"
      ],
      "text/plain": [
       "add_8_3: (8 + 3) = 11"
      ]
     },
     "execution_count": 2,
     "metadata": {},
     "output_type": "execute_result"
    }
   ],
   "source": [
    "%proving add_8_3 presuming []"
   ]
  },
  {
   "cell_type": "code",
   "execution_count": null,
   "metadata": {},
   "outputs": [],
   "source": []
  }
 ],
 "metadata": {
  "kernelspec": {
   "display_name": "Python 3",
   "language": "python",
   "name": "python3"
  }
 },
 "nbformat": 4,
 "nbformat_minor": 0
}
