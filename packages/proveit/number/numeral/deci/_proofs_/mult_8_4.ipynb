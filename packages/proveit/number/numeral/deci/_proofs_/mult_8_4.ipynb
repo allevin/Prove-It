{
 "cells": [
  {
   "cell_type": "markdown",
   "metadata": {},
   "source": [
    "Proof of <a class=\"ProveItLink\" href=\"../../../../_context_.ipynb\">proveit</a>.<a class=\"ProveItLink\" href=\"../../../_context_.ipynb\">number</a>.<a class=\"ProveItLink\" href=\"../../_context_.ipynb\">numeral</a>.<a class=\"ProveItLink\" href=\"../_context_.ipynb\">deci</a>.<a class=\"ProveItLink\" href=\"../_theorems_.ipynb#mult_8_4\">mult_8_4</a> theorem\n",
    "========"
   ]
  },
  {
   "cell_type": "code",
   "execution_count": 1,
   "metadata": {},
   "outputs": [],
   "source": [
    "import proveit\n",
    "context = proveit.Context('..') # the theorem's context is in the parent directory"
   ]
  },
  {
   "cell_type": "code",
   "execution_count": 2,
   "metadata": {},
   "outputs": [
    {
     "name": "stdout",
     "output_type": "stream",
     "text": [
      "Beginning proof of mult_8_4\n",
      "Recorded 'presuming' information\n",
      "Presuming previous theorems (applied transitively).\n"
     ]
    },
    {
     "data": {
      "text/html": [
       "<strong id=\"mult_8_4\">mult_8_4:</strong> <a class=\"ProveItLink\" href=\"../__pv_it/94075bfcac01abf534de82eb120d52f51a67ad820/expr.ipynb\"><img src=\"data:image/png;base64,iVBORw0KGgoAAAANSUhEUgAAAGEAAAAVBAMAAACkm51HAAAAMFBMVEX////c3NwiIiJERESqqqqY\n",
       "mJh2dnZmZmYQEBDu7u4yMjJUVFTMzMyIiIi6uroAAAAs73DqAAAAAXRSTlMAQObYZgAAAZxJREFU\n",
       "OMuVk79Lw0AUx7/RJG1qEoKLQx388QfUxdluLoJxUXDQghAnMVSxUBAdHARBM0k3C+JQHayjdKiT\n",
       "gy5dFAeH4KiLFFtRqfFdWkxNQsA35O6+733u3nu5A/5vai2oLUQSt8Chsd4lyGXErvxRsrGUBpc7\n",
       "tmleAkzEdM/ZMwYU/cQA1BaSUN4ApQZBhzTkOR+ImPUTq2nUcQmkgLgFsdxNcPNEFPzENCN2LVRt\n",
       "PAP8lyV65YsJInrTwQ61cG5hy8YGLSYa955nhhGiGSASZfZNWTihIeYM/zqkGiN4t/T8KbMzV792\n",
       "B7kJ7NM4d+OwLCSLJQVGqNuBMxQWyXzfgGBi8YOWR6z8KVeVX4M/7oA2XINLULu4Bk0LFCplwolB\n",
       "qlaHwmrZabdys+PhK5XqXq2TVXaE2ShL2LEYMQlOwzidoQEX3nZxOkPw//RPapMmmxA0LNO+JfCZ\n",
       "v0Sgu3dQm+g3jCzwRMuXXNdNFKvvOhK2j+Bz+TRSjlNvpxS0QsRlFzJh6krU+yiFaFIxikiGaH1a\n",
       "FMGFvNrHiPgfzyNiyv4NUNEAAAAASUVORK5CYII=\n",
       "\" style=\"display:inline;vertical-align:middle;\" /></a><br>(see <a class=\"ProveItLink\" href=\"../__pv_it/94075bfcac01abf534de82eb120d52f51a67ad820/dependencies.ipynb\">dependencies</a>)<br>"
      ],
      "text/plain": [
       "mult_8_4: (8 * 4) = 32"
      ]
     },
     "execution_count": 2,
     "metadata": {},
     "output_type": "execute_result"
    }
   ],
   "source": [
    "%proving mult_8_4 presuming []"
   ]
  },
  {
   "cell_type": "code",
   "execution_count": null,
   "metadata": {},
   "outputs": [],
   "source": []
  }
 ],
 "metadata": {
  "kernelspec": {
   "display_name": "Python 3",
   "language": "python",
   "name": "python3"
  }
 },
 "nbformat": 4,
 "nbformat_minor": 0
}
