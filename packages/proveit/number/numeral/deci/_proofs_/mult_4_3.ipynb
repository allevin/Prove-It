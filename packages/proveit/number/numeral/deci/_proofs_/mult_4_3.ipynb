{
 "cells": [
  {
   "cell_type": "markdown",
   "metadata": {},
   "source": [
    "Proof of <a class=\"ProveItLink\" href=\"../../../../_context_.ipynb\">proveit</a>.<a class=\"ProveItLink\" href=\"../../../_context_.ipynb\">number</a>.<a class=\"ProveItLink\" href=\"../../_context_.ipynb\">numeral</a>.<a class=\"ProveItLink\" href=\"../_context_.ipynb\">deci</a>.<a class=\"ProveItLink\" href=\"../_theorems_.ipynb#mult_4_3\">mult_4_3</a> theorem\n",
    "========"
   ]
  },
  {
   "cell_type": "code",
   "execution_count": 1,
   "metadata": {},
   "outputs": [],
   "source": [
    "import proveit\n",
    "context = proveit.Context('..') # the theorem's context is in the parent directory"
   ]
  },
  {
   "cell_type": "code",
   "execution_count": 2,
   "metadata": {},
   "outputs": [
    {
     "name": "stdout",
     "output_type": "stream",
     "text": [
      "Beginning proof of mult_4_3\n",
      "Recorded 'presuming' information\n",
      "Presuming previous theorems (applied transitively).\n"
     ]
    },
    {
     "data": {
      "text/html": [
       "<strong id=\"mult_4_3\">mult_4_3:</strong> <a class=\"ProveItLink\" href=\"../__pv_it/79986264f8a5bb4068820a3e816038de88b1b74f0/expr.ipynb\"><img src=\"data:image/png;base64,iVBORw0KGgoAAAANSUhEUgAAAGEAAAAVBAMAAACkm51HAAAAMFBMVEX////c3NwiIiJERESqqqqY\n",
       "mJh2dnZmZmYQEBDu7u4yMjJUVFTMzMyIiIi6uroAAAAs73DqAAAAAXRSTlMAQObYZgAAAXhJREFU\n",
       "OMuVk79Lw0AUx7/Bxv4wCUEQhzqI/QPq4uBkNgcHnRylIMRBxFKplS4KOjjpgSABEQvFoXbQVYLY\n",
       "ycXFxc0hODqJSNGCxneJpqG5BnzDJe9973Pv3bs74P+mPURjS7HEfTB4ppjLBpKt6LxpQKrUHfpr\n",
       "cDcXCKPQvoBaBDj6BLJQ3wGVF6XuBsq6gTdgsRc4sYm4BvJAipE/Ug+keY+wIjlUIvYZbh28cLdQ\n",
       "D7eCqhowRMQlw7aDTfJkPUxkroDBooggyzOc0+cUIeKuSUPC23r1glszRCht4IAX5RNp5msU0nbE\n",
       "OTKTwDct2PKJs3FfPGRQXsXEBjziGD5h0QIYA2YW+hEqbRF7wJxtf9z8CmmXccKvqjTBLdclZiHp\n",
       "mPL87gl2qB865Jooh1KktmKlh3iE1u7X3WHTLAHP3F11y39KolKl08s4PUByq1NG3nXpPqR00YW2\n",
       "Yi67XBBF1+LeR0MQS9fiiKwgNqTHEZLg1T7FzP8BKK9itS/GqI0AAAAASUVORK5CYII=\n",
       "\" style=\"display:inline;vertical-align:middle;\" /></a><br>(see <a class=\"ProveItLink\" href=\"../__pv_it/79986264f8a5bb4068820a3e816038de88b1b74f0/dependencies.ipynb\">dependencies</a>)<br>"
      ],
      "text/plain": [
       "mult_4_3: (4 * 3) = 12"
      ]
     },
     "execution_count": 2,
     "metadata": {},
     "output_type": "execute_result"
    }
   ],
   "source": [
    "%proving mult_4_3 presuming []"
   ]
  },
  {
   "cell_type": "code",
   "execution_count": null,
   "metadata": {},
   "outputs": [],
   "source": []
  }
 ],
 "metadata": {
  "kernelspec": {
   "display_name": "Python 3",
   "language": "python",
   "name": "python3"
  }
 },
 "nbformat": 4,
 "nbformat_minor": 0
}
