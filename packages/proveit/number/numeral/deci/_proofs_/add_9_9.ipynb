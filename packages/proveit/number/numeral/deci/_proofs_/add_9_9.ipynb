{
 "cells": [
  {
   "cell_type": "markdown",
   "metadata": {},
   "source": [
    "Proof of <a class=\"ProveItLink\" href=\"../../../../_context_.ipynb\">proveit</a>.<a class=\"ProveItLink\" href=\"../../../_context_.ipynb\">number</a>.<a class=\"ProveItLink\" href=\"../../_context_.ipynb\">numeral</a>.<a class=\"ProveItLink\" href=\"../_context_.ipynb\">decimal</a>.<a class=\"ProveItLink\" href=\"../_theorems_.ipynb#add_9_9\">add_9_9</a> theorem\n",
    "========"
   ]
  },
  {
   "cell_type": "code",
   "execution_count": 1,
   "metadata": {},
   "outputs": [],
   "source": [
    "import proveit\n",
    "context = proveit.Context('..') # the theorem's context is in the parent directory"
   ]
  },
  {
   "cell_type": "code",
   "execution_count": 2,
   "metadata": {},
   "outputs": [
    {
     "name": "stdout",
     "output_type": "stream",
     "text": [
      "Beginning proof of add_9_9\n",
      "Recorded 'presuming' information\n",
      "Presuming previous theorems (applied transitively).\n"
     ]
    },
    {
     "data": {
      "text/html": [
       "<strong id=\"add_9_9\">add_9_9:</strong> <a class=\"ProveItLink\" href=\"../__pv_it/494cf38c570acbdc8e6f3fc9b4aa33e4450cf3f30/expr.ipynb\"><img src=\"data:image/png;base64,iVBORw0KGgoAAAANSUhEUgAAAGwAAAAVBAMAAABRZRb3AAAAMFBMVEX////c3NwiIiJERESqqqqY\n",
       "mJh2dnZmZmYQEBDu7u4yMjJUVFTMzMyIiIi6uroAAAAs73DqAAAAAXRSTlMAQObYZgAAAXRJREFU\n",
       "OMudkz1Iw0AYht/Q/DSVqKPg4M+kWwad200QCt0EFzvpWlBaEIUMnTUuIjrYpUgjlXZW0FkRM7mJ\n",
       "xUkUB8EMRbRe7s7iNZcM3nJ3z5fnvrvLd8A/27AfE9A6SdoNcFS+GICUbEU/TrnA/uoGGTWgVDE2\n",
       "KkQZyUQsM0u0EowCLB8pB0M243t8UUq04qB1fulCK8CcRNrFSA16lwXyrGPEdCLpHl3orVB7AY5t\n",
       "WN+CxsmcTFM/Xd1Hma0dRLIRsibTkA3ugTpgOEh9CRoni3Ts0dbqa0ZvCtghJ61jQdQ4eZZmW7ru\n",
       "5RAeSnu4/RA0Tu5kmlbCShfsLuhNbnrejOedok+kGrl6JUCVTjM1MRsjdJPGNG32r3ZAum3MA9Y7\n",
       "JjqCxsmyNBspqHZ4ydYsmhA1RqQ/QG1ALeIpDK/nRI2Ts0GrsntSwGuFlHJaKOK8UIJO/LsR6/Xt\n",
       "70T3E95bIzZymPRMx2Mj7SRNiduKdRUv/QAPPXZC9WcimAAAAABJRU5ErkJggg==\n",
       "\" style=\"display:inline;vertical-align:middle;\" /></a><br>(see <a class=\"ProveItLink\" href=\"../__pv_it/494cf38c570acbdc8e6f3fc9b4aa33e4450cf3f30/dependencies.ipynb\">dependencies</a>)<br>"
      ],
      "text/plain": [
       "add_9_9: (9 + 9) = 18"
      ]
     },
     "execution_count": 2,
     "metadata": {},
     "output_type": "execute_result"
    }
   ],
   "source": [
    "%proving add_9_9 presuming []"
   ]
  },
  {
   "cell_type": "code",
   "execution_count": null,
   "metadata": {},
   "outputs": [],
   "source": []
  }
 ],
 "metadata": {
  "kernelspec": {
   "display_name": "Python 3",
   "language": "python",
   "name": "python3"
  }
 },
 "nbformat": 4,
 "nbformat_minor": 0
}
