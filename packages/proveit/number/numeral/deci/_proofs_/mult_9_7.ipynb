{
 "cells": [
  {
   "cell_type": "markdown",
   "metadata": {},
   "source": [
    "Proof of <a class=\"ProveItLink\" href=\"../../../../_context_.ipynb\">proveit</a>.<a class=\"ProveItLink\" href=\"../../../_context_.ipynb\">number</a>.<a class=\"ProveItLink\" href=\"../../_context_.ipynb\">numeral</a>.<a class=\"ProveItLink\" href=\"../_context_.ipynb\">deci</a>.<a class=\"ProveItLink\" href=\"../_theorems_.ipynb#mult_9_7\">mult_9_7</a> theorem\n",
    "========"
   ]
  },
  {
   "cell_type": "code",
   "execution_count": 1,
   "metadata": {},
   "outputs": [],
   "source": [
    "import proveit\n",
    "context = proveit.Context('..') # the theorem's context is in the parent directory"
   ]
  },
  {
   "cell_type": "code",
   "execution_count": 2,
   "metadata": {},
   "outputs": [
    {
     "name": "stdout",
     "output_type": "stream",
     "text": [
      "Beginning proof of mult_9_7\n",
      "Recorded 'presuming' information\n",
      "Presuming previous theorems (applied transitively).\n"
     ]
    },
    {
     "data": {
      "text/html": [
       "<strong id=\"mult_9_7\">mult_9_7:</strong> <a class=\"ProveItLink\" href=\"../__pv_it/0f196636a675acc091f6eeca32650d73e2c00af30/expr.ipynb\"><img src=\"data:image/png;base64,iVBORw0KGgoAAAANSUhEUgAAAGEAAAAVBAMAAACkm51HAAAAMFBMVEX////c3NwiIiJERESqqqqY\n",
       "mJh2dnZmZmYQEBDu7u4yMjJUVFTMzMyIiIi6uroAAAAs73DqAAAAAXRSTlMAQObYZgAAAaJJREFU\n",
       "OMuVk01IAkEUx/+6fq26treCgqLoEARJ0Dlv0UlPHXMhUAJDqdhALx7sWkIQQge9CGkE0rlDdOgS\n",
       "kpfoUiAdu2RSQYJtb7b8GpeFBmb3zfvPb+a9eTPA/5uvNuxbNyVugRP1sju8ViMRxXk1NO1YjcEb\n",
       "2QiQWYIlgzG5o4Q1TaugwAOWeVxgFL42INUgpOHxd6RNwAOs8YRVQRnxAJqAK4uRAhxfHUkBYkCO\n",
       "J8JZ+gR14gXI+yF9Dx6FEOCI0z+NolKh7/HRE4+oOxIc0ao+sEXcFaAIONMQ2j1xl7pNTz1ZZu2M\n",
       "LLEZwixww+wDGhaxwgiRxQqxwXZPD24hakCcZImmswTsT9V3+uWnmCix5b0NjqCMwyyswyx+U9bP\n",
       "KqcfsbViQKBFRG0CWA4hozvcvZLlE92otqdZm2HmIhGrWpYRSxTHGybrXeKVEXa+6EGWB220ICNK\n",
       "xBzO+7SE0ekKiriPe/g+gWcaRnf6CnYXYlHW+aKnUnXY9pI00SUbXeicyWW3K0beLbP3UTLwiQUz\n",
       "YtzA55HNCIvBq300mf8DW+dpy7M7woYAAAAASUVORK5CYII=\n",
       "\" style=\"display:inline;vertical-align:middle;\" /></a><br>(see <a class=\"ProveItLink\" href=\"../__pv_it/0f196636a675acc091f6eeca32650d73e2c00af30/dependencies.ipynb\">dependencies</a>)<br>"
      ],
      "text/plain": [
       "mult_9_7: (9 * 7) = 63"
      ]
     },
     "execution_count": 2,
     "metadata": {},
     "output_type": "execute_result"
    }
   ],
   "source": [
    "%proving mult_9_7 presuming []"
   ]
  },
  {
   "cell_type": "code",
   "execution_count": null,
   "metadata": {},
   "outputs": [],
   "source": []
  }
 ],
 "metadata": {
  "kernelspec": {
   "display_name": "Python 3",
   "language": "python",
   "name": "python3"
  }
 },
 "nbformat": 4,
 "nbformat_minor": 0
}
