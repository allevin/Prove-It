{
 "cells": [
  {
   "cell_type": "markdown",
   "metadata": {},
   "source": [
    "Proof of <a class=\"ProveItLink\" href=\"../../../../_context_.ipynb\">proveit</a>.<a class=\"ProveItLink\" href=\"../../../_context_.ipynb\">number</a>.<a class=\"ProveItLink\" href=\"../../_context_.ipynb\">numeral</a>.<a class=\"ProveItLink\" href=\"../_context_.ipynb\">deci</a>.<a class=\"ProveItLink\" href=\"../_theorems_.ipynb#mult_3_5\">mult_3_5</a> theorem\n",
    "========"
   ]
  },
  {
   "cell_type": "code",
   "execution_count": 1,
   "metadata": {},
   "outputs": [],
   "source": [
    "import proveit\n",
    "context = proveit.Context('..') # the theorem's context is in the parent directory"
   ]
  },
  {
   "cell_type": "code",
   "execution_count": 2,
   "metadata": {},
   "outputs": [
    {
     "name": "stdout",
     "output_type": "stream",
     "text": [
      "Beginning proof of mult_3_5\n",
      "Recorded 'presuming' information\n",
      "Presuming previous theorems (applied transitively).\n"
     ]
    },
    {
     "data": {
      "text/html": [
       "<strong id=\"mult_3_5\">mult_3_5:</strong> <a class=\"ProveItLink\" href=\"../__pv_it/64d0db7f239e932691bd1596b22dc8162b525b3e0/expr.ipynb\"><img src=\"data:image/png;base64,iVBORw0KGgoAAAANSUhEUgAAAGEAAAAVBAMAAACkm51HAAAAMFBMVEX////c3NwiIiJERESqqqqY\n",
       "mJh2dnZmZmYQEBDu7u4yMjJUVFTMzMyIiIi6uroAAAAs73DqAAAAAXRSTlMAQObYZgAAAVRJREFU\n",
       "OMtjYCAd8F3AFIvDq+M0A8OxNBM4lyuSMYWB/QCmOkuoHAPDSgbGAob3cIs4/v9PYGBYgKFh8k+Y\n",
       "HO8FBrYvDPwKcDuqc4BkGLqG2bt/wuQ4JjCwIOvgBpMzMOzg/QmTewUmEa6CiDI74NZRBiZXw2W4\n",
       "795+wMDAVoBVB1huKZDHk7UBLsM8gfMfAwML2OtVq0BgNVwHRK4PzL8B1MvAOQGiaQcwkhqw2QGR\n",
       "+wcJUxB/PtT7+QcYeD7g0AGUA+pgPMDA/BUUQAZAwggo+gCHDohcC9DsnxAdYNDEwFAvAHVVkRII\n",
       "KMN1QORMGRj4FzAwfYTpAAbSKgYG1gXY7IDIpQM5AQzvE2Ay4gwsjbhCFyL3CMhzL18Cl+Ep3y0A\n",
       "TA8P0DSwV/wqhcpxCGBL0DPwJHbWBGyiufjyx0osYpwL8OmQxiLGLYBPByOWXHsHj3oApOFlTfYs\n",
       "KogAAAAASUVORK5CYII=\n",
       "\" style=\"display:inline;vertical-align:middle;\" /></a><br>(see <a class=\"ProveItLink\" href=\"../__pv_it/64d0db7f239e932691bd1596b22dc8162b525b3e0/dependencies.ipynb\">dependencies</a>)<br>"
      ],
      "text/plain": [
       "mult_3_5: (3 * 5) = 15"
      ]
     },
     "execution_count": 2,
     "metadata": {},
     "output_type": "execute_result"
    }
   ],
   "source": [
    "%proving mult_3_5 presuming []"
   ]
  },
  {
   "cell_type": "code",
   "execution_count": null,
   "metadata": {},
   "outputs": [],
   "source": []
  }
 ],
 "metadata": {
  "kernelspec": {
   "display_name": "Python 3",
   "language": "python",
   "name": "python3"
  }
 },
 "nbformat": 4,
 "nbformat_minor": 0
}
