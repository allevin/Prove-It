{
 "cells": [
  {
   "cell_type": "markdown",
   "metadata": {},
   "source": [
    "Proof of <a class=\"ProveItLink\" href=\"../../../../_context_.ipynb\">proveit</a>.<a class=\"ProveItLink\" href=\"../../../_context_.ipynb\">number</a>.<a class=\"ProveItLink\" href=\"../../_context_.ipynb\">numeral</a>.<a class=\"ProveItLink\" href=\"../_context_.ipynb\">deci</a>.<a class=\"ProveItLink\" href=\"../_theorems_.ipynb#mult_0_6\">mult_0_6</a> theorem\n",
    "========"
   ]
  },
  {
   "cell_type": "code",
   "execution_count": 1,
   "metadata": {},
   "outputs": [],
   "source": [
    "import proveit\n",
    "context = proveit.Context('..') # the theorem's context is in the parent directory"
   ]
  },
  {
   "cell_type": "code",
   "execution_count": 2,
   "metadata": {},
   "outputs": [
    {
     "name": "stdout",
     "output_type": "stream",
     "text": [
      "Beginning proof of mult_0_6\n",
      "Recorded 'presuming' information\n",
      "Presuming previous theorems (applied transitively).\n"
     ]
    },
    {
     "data": {
      "text/html": [
       "<strong id=\"mult_0_6\">mult_0_6:</strong> <a class=\"ProveItLink\" href=\"../__pv_it/1cfdca9bfbe1c2a847022044f77d825156b243220/expr.ipynb\"><img src=\"data:image/png;base64,iVBORw0KGgoAAAANSUhEUgAAAFcAAAAVBAMAAADBdm84AAAAMFBMVEX////c3NwiIiJERESqqqqY\n",
       "mJh2dnZmZmYQEBDu7u4yMjJUVFTMzMyIiIi6uroAAAAs73DqAAAAAXRSTlMAQObYZgAAAWRJREFU\n",
       "KM+VkztLw1AYhp+mrTba1uwOFi+TRURwzz9oJ0cNLi4Wi0MHq+Cgm0hxsN3sIti6iLODu4jBpeAF\n",
       "iqOLF7SCYDUnNQkmJ4PfcDh5z8PH+10C/4q0GdTmw+ALqN6ve9/7pWX6z/2UutESWgOm2HNfI1lO\n",
       "oe6HlbaahZRJKkPKfVUMmjDnh6/hBhIVlBPSL466UBFnzQ9PwpPGIwwVSb456pF9RnUf/AFXOiUY\n",
       "MUh+OernZcsC+4p/2UjHgk0Oe3DHqfo1zwTE7BrWmiKOHdhg14NVy676DSsV0puSzAZdz8ZBRmS2\n",
       "atRJPkttdHsFvosWTAvPFmwGYLvAPFuI1sXc1s3YmXs2VkdFjP22LqcxixhKX8aBc7bneD04lEVY\n",
       "sm7j1NxxRw11O9g6FF3dgQfrVi2ceXK53IaBtn+RSrdWvoQmW8WafEPjhkwthOxzQ6Kp9RB4WKIN\n",
       "aiFwRPJb3cnRH2nXYJYNNp7SAAAAAElFTkSuQmCC\n",
       "\" style=\"display:inline;vertical-align:middle;\" /></a><br>(see <a class=\"ProveItLink\" href=\"../__pv_it/1cfdca9bfbe1c2a847022044f77d825156b243220/dependencies.ipynb\">dependencies</a>)<br>"
      ],
      "text/plain": [
       "mult_0_6: (0 * 6) = 0"
      ]
     },
     "execution_count": 2,
     "metadata": {},
     "output_type": "execute_result"
    }
   ],
   "source": [
    "%proving mult_0_6 presuming []"
   ]
  },
  {
   "cell_type": "code",
   "execution_count": null,
   "metadata": {},
   "outputs": [],
   "source": []
  }
 ],
 "metadata": {
  "kernelspec": {
   "display_name": "Python 3",
   "language": "python",
   "name": "python3"
  }
 },
 "nbformat": 4,
 "nbformat_minor": 0
}
