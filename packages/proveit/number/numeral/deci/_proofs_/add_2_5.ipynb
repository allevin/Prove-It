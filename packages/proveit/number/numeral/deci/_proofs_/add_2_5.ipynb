{
 "cells": [
  {
   "cell_type": "markdown",
   "metadata": {},
   "source": [
    "Proof of <a class=\"ProveItLink\" href=\"../../../../_context_.ipynb\">proveit</a>.<a class=\"ProveItLink\" href=\"../../../_context_.ipynb\">number</a>.<a class=\"ProveItLink\" href=\"../../_context_.ipynb\">numeral</a>.<a class=\"ProveItLink\" href=\"../_context_.ipynb\">decimal</a>.<a class=\"ProveItLink\" href=\"../_theorems_.ipynb#add_2_5\">add_2_5</a> theorem\n",
    "========"
   ]
  },
  {
   "cell_type": "code",
   "execution_count": 1,
   "metadata": {},
   "outputs": [],
   "source": [
    "import proveit\n",
    "context = proveit.Context('..') # the theorem's context is in the parent directory"
   ]
  },
  {
   "cell_type": "code",
   "execution_count": 2,
   "metadata": {},
   "outputs": [
    {
     "name": "stdout",
     "output_type": "stream",
     "text": [
      "Beginning proof of add_2_5\n",
      "Recorded 'presuming' information\n",
      "Presuming previous theorems (applied transitively).\n"
     ]
    },
    {
     "data": {
      "text/html": [
       "<strong id=\"add_2_5\">add_2_5:</strong> <a class=\"ProveItLink\" href=\"../__pv_it/631842e029a6f9ae84742bcabb49cc3e43a752cc0/expr.ipynb\"><img src=\"data:image/png;base64,iVBORw0KGgoAAAANSUhEUgAAAGIAAAAVBAMAAABPrCZEAAAAMFBMVEX////c3NwiIiJERESqqqqY\n",
       "mJh2dnZmZmYQEBDu7u4yMjJUVFTMzMyIiIi6uroAAAAs73DqAAAAAXRSTlMAQObYZgAAAWpJREFU\n",
       "OMtjYCAd8F3AIRGHS8dpBgbxKjtUMa5IxhQG9gPoSg+VpaUlMDCsZGDcwHDfAUWK4/9/oMwCdB3x\n",
       "////38DAe4GBewID0weI2ESoHdU5QDIMXUcmAwM30LgJDBydDNz/IGK+EIobTM5A1wG0F2jSK6CJ\n",
       "PxnYselgdsAaTGVgFtNPVB13bz9gYGArwNAxGYiXglnnE1B0ME/gBFrKAvY6+yow2ACWKAHiPjBr\n",
       "MQOKDiDYAXRCA7oVnKAAAnuA3QBDR/4BBp4P6Dp4F8B03Abzq1at0li1ajWQZQTU8QCLDiaQ21qA\n",
       "mKWAQRDFjiYGhnoBqKvYlcAA7Ir5oLAwBeLjDAyBKDqAEqsYGFgxIv09SEc6AwOjWlq6AooOcQaW\n",
       "Rmyh6w8SeQR0HTC5oOrgKd8tAIzZB+g6zgeAEp0AspAvMmcG9sTOmoDMe4vMycWRP1biyjicC3BI\n",
       "SOPSwS2AQ4IRV669g10YAHsaWFb8pSCQAAAAAElFTkSuQmCC\n",
       "\" style=\"display:inline;vertical-align:middle;\" /></a><br>(see <a class=\"ProveItLink\" href=\"../__pv_it/631842e029a6f9ae84742bcabb49cc3e43a752cc0/dependencies.ipynb\">dependencies</a>)<br>"
      ],
      "text/plain": [
       "add_2_5: (2 + 5) = 7"
      ]
     },
     "execution_count": 2,
     "metadata": {},
     "output_type": "execute_result"
    }
   ],
   "source": [
    "%proving add_2_5 presuming []"
   ]
  },
  {
   "cell_type": "code",
   "execution_count": null,
   "metadata": {},
   "outputs": [],
   "source": []
  }
 ],
 "metadata": {
  "kernelspec": {
   "display_name": "Python 3",
   "language": "python",
   "name": "python3"
  }
 },
 "nbformat": 4,
 "nbformat_minor": 0
}
