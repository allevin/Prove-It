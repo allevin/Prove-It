{
 "cells": [
  {
   "cell_type": "markdown",
   "metadata": {},
   "source": [
    "Proof of <a class=\"ProveItLink\" href=\"../../../../_context_.ipynb\">proveit</a>.<a class=\"ProveItLink\" href=\"../../../_context_.ipynb\">number</a>.<a class=\"ProveItLink\" href=\"../../_context_.ipynb\">numeral</a>.<a class=\"ProveItLink\" href=\"../_context_.ipynb\">decimal</a>.<a class=\"ProveItLink\" href=\"../_theorems_.ipynb#nat4\">nat4</a> theorem\n",
    "========"
   ]
  },
  {
   "cell_type": "code",
   "execution_count": 1,
   "metadata": {},
   "outputs": [],
   "source": [
    "import proveit\n",
    "context = proveit.Context('..') # the theorem's context is in the parent directory"
   ]
  },
  {
   "cell_type": "code",
   "execution_count": 2,
   "metadata": {},
   "outputs": [
    {
     "name": "stdout",
     "output_type": "stream",
     "text": [
      "Beginning proof of nat4\n",
      "Recorded 'presuming' information\n",
      "Presuming previous theorems (applied transitively).\n"
     ]
    },
    {
     "data": {
      "text/html": [
       "<strong id=\"nat4\">nat4:</strong> <a class=\"ProveItLink\" href=\"../__pv_it/187f61bdf15fe8a518e21f4c2127ec83e106d9910/expr.ipynb\"><img src=\"data:image/png;base64,iVBORw0KGgoAAAANSUhEUgAAADMAAAAPBAMAAAC7N+rPAAAAMFBMVEX///+6urpmZmaqqqru7u52\n",
       "dnYyMjKYmJjc3NwQEBCIiIhEREQiIiJUVFTMzMwAAACQ7J58AAAAAXRSTlMAQObYZgAAANJJREFU\n",
       "GNNjYGBgeMuAAtx+b3Ng0PljAGKfRpVi2M63gYHhA4jFNRtN6s6DVQwME0Cs9myIiFfOmWNgxsUU\n",
       "3gcQqQCIFF+6A1TXvbcsKWAp9gaIVDdMhuEe84LXYCkvBojUDrhd9xgU2ReApAIgUiwbkKR4He4B\n",
       "pZgfQKQY55w5A3XGPQaWC25AKVcGiBTfBSRdDE/5gFK2d+/+vAUy8ACyFLsBxHyIl68jSzFEIEv5\n",
       "CMCkNgIxUwKIFftfHURxJD2AyIj9BOpgSUAOOuZrUBdCAQDo0EBn8/FI3gAAAABJRU5ErkJggg==\n",
       "\" style=\"display:inline;vertical-align:middle;\" /></a><br>(see <a class=\"ProveItLink\" href=\"../__pv_it/187f61bdf15fe8a518e21f4c2127ec83e106d9910/dependencies.ipynb\">dependencies</a>)<br>"
      ],
      "text/plain": [
       "nat4: 4 in Naturals"
      ]
     },
     "execution_count": 2,
     "metadata": {},
     "output_type": "execute_result"
    }
   ],
   "source": [
    "%proving nat4 presuming []"
   ]
  },
  {
   "cell_type": "code",
   "execution_count": null,
   "metadata": {},
   "outputs": [],
   "source": []
  }
 ],
 "metadata": {
  "kernelspec": {
   "display_name": "Python 3",
   "language": "python",
   "name": "python3"
  }
 },
 "nbformat": 4,
 "nbformat_minor": 0
}
