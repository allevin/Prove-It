{
 "cells": [
  {
   "cell_type": "markdown",
   "metadata": {},
   "source": [
    "Proof of <a class=\"ProveItLink\" href=\"../../../../_context_.ipynb\">proveit</a>.<a class=\"ProveItLink\" href=\"../../../_context_.ipynb\">number</a>.<a class=\"ProveItLink\" href=\"../../_context_.ipynb\">numeral</a>.<a class=\"ProveItLink\" href=\"../_context_.ipynb\">deci</a>.<a class=\"ProveItLink\" href=\"../_theorems_.ipynb#mult_5_6\">mult_5_6</a> theorem\n",
    "========"
   ]
  },
  {
   "cell_type": "code",
   "execution_count": 1,
   "metadata": {},
   "outputs": [],
   "source": [
    "import proveit\n",
    "context = proveit.Context('..') # the theorem's context is in the parent directory"
   ]
  },
  {
   "cell_type": "code",
   "execution_count": 2,
   "metadata": {},
   "outputs": [
    {
     "name": "stdout",
     "output_type": "stream",
     "text": [
      "Beginning proof of mult_5_6\n",
      "Recorded 'presuming' information\n",
      "Presuming previous theorems (applied transitively).\n"
     ]
    },
    {
     "data": {
      "text/html": [
       "<strong id=\"mult_5_6\">mult_5_6:</strong> <a class=\"ProveItLink\" href=\"../__pv_it/5ef627c6f65750c8d18b89df0159cbdf4f4e82e10/expr.ipynb\"><img src=\"data:image/png;base64,iVBORw0KGgoAAAANSUhEUgAAAGEAAAAVBAMAAACkm51HAAAAMFBMVEX////c3NwiIiJERESqqqqY\n",
       "mJh2dnZmZmYQEBDu7u4yMjJUVFTMzMyIiIi6uroAAAAs73DqAAAAAXRSTlMAQObYZgAAAaRJREFU\n",
       "OMuVkz9IAnEUx7/+9/xz3FRDDVI0JRRBQ1M3tunUWFJQS5E0GCiBQ22h1xJuukipizW0FU01RChB\n",
       "CP0BaWypHAwis/f7qWfdHQf9hh+8936fe+/73jvg/0es6n0LpsQ1kFcGZNU+iK3BdaF95VtZliFs\n",
       "11igAKTbTTVkCeIEyGmJQYgtWOtCEPBTUYen/W9aIygC81piQ0YDt8A94FaA8q/QosLujJYIMWIc\n",
       "eJXwgr/EEb9tsr5DLXwAFRkxMs6eztXA502NXjujOsJTtpDaShV5MmaQrXf9QiOMMcDOpceL7JR4\n",
       "4LIETkSQ4rY3yV6TBKFNKhWISV0Of6pLfHPT+UVXNsBykHgZvjf94NL7naqIsAXgZGBmkukgoqon\n",
       "hoHZMFMexg41OADXey80xXN0qtocYWeUFdxWiKDuhiRMAy5qhDrkENfh0A6dUk9INMElYJUWI4o5\n",
       "qReyRYRdg+7eQWzCKgt7wDOZV4njfiyRoE576hrCvhWnTYw90Dq5JaOFzpgsuyNi5F03+z8KBj4h\n",
       "Z0YMGfi8khlhMfhrH03e/wD5DHCT+/afLwAAAABJRU5ErkJggg==\n",
       "\" style=\"display:inline;vertical-align:middle;\" /></a><br>(see <a class=\"ProveItLink\" href=\"../__pv_it/5ef627c6f65750c8d18b89df0159cbdf4f4e82e10/dependencies.ipynb\">dependencies</a>)<br>"
      ],
      "text/plain": [
       "mult_5_6: (5 * 6) = 30"
      ]
     },
     "execution_count": 2,
     "metadata": {},
     "output_type": "execute_result"
    }
   ],
   "source": [
    "%proving mult_5_6 presuming []"
   ]
  },
  {
   "cell_type": "code",
   "execution_count": null,
   "metadata": {},
   "outputs": [],
   "source": []
  }
 ],
 "metadata": {
  "kernelspec": {
   "display_name": "Python 3",
   "language": "python",
   "name": "python3"
  }
 },
 "nbformat": 4,
 "nbformat_minor": 0
}
