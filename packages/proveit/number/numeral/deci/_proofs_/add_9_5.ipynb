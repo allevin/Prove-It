{
 "cells": [
  {
   "cell_type": "markdown",
   "metadata": {},
   "source": [
    "Proof of <a class=\"ProveItLink\" href=\"../../../../_context_.ipynb\">proveit</a>.<a class=\"ProveItLink\" href=\"../../../_context_.ipynb\">number</a>.<a class=\"ProveItLink\" href=\"../../_context_.ipynb\">numeral</a>.<a class=\"ProveItLink\" href=\"../_context_.ipynb\">decimal</a>.<a class=\"ProveItLink\" href=\"../_theorems_.ipynb#add_9_5\">add_9_5</a> theorem\n",
    "========"
   ]
  },
  {
   "cell_type": "code",
   "execution_count": 1,
   "metadata": {},
   "outputs": [],
   "source": [
    "import proveit\n",
    "context = proveit.Context('..') # the theorem's context is in the parent directory"
   ]
  },
  {
   "cell_type": "code",
   "execution_count": 2,
   "metadata": {},
   "outputs": [
    {
     "name": "stdout",
     "output_type": "stream",
     "text": [
      "Beginning proof of add_9_5\n",
      "Recorded 'presuming' information\n",
      "Presuming previous theorems (applied transitively).\n"
     ]
    },
    {
     "data": {
      "text/html": [
       "<strong id=\"add_9_5\">add_9_5:</strong> <a class=\"ProveItLink\" href=\"../__pv_it/7021a3f0617ef1a78240b2ddb41c9196963bf62c0/expr.ipynb\"><img src=\"data:image/png;base64,iVBORw0KGgoAAAANSUhEUgAAAGwAAAAVBAMAAABRZRb3AAAAMFBMVEX////c3NwiIiJERESqqqqY\n",
       "mJh2dnZmZmYQEBDu7u4yMjJUVFTMzMyIiIi6uroAAAAs73DqAAAAAXRSTlMAQObYZgAAAYNJREFU\n",
       "OMud079Lw0AYBuA3xCa1JdpFERwsuujWQQcnuylKwdmpm4OLIFZQh0A727o4KNKChNKI0i4utdrN\n",
       "QcT8A8XiJIJDQUVBW+8uqXhpLoM3HLn77sn9+O6Af5YBSxAINP3YLXCUunR1GrnhOHZ7B8s5h6AE\n",
       "KYORCB/Odt6BUI/qn2NsAtAsyDrCMbt/34kXL+pklUm3ql5TpqWBYA6DBSifdiDhDCizUXrPdA+U\n",
       "DZ0Az0A+Bq3twTDtzZKEpcBme+NZrXFF6lVPFogQZgCqDvmbZ7PIk+NfpJ+qyUr5lx2DsD2yBwPz\n",
       "LgaEycaePGdLUkY3FWjcvbqZ8gXce7G+epfBPslt05w0zVOa1SiUtoAdgLIMa4YK3GzBKNSWs0h1\n",
       "nJVYly1Vqx81zJD0tTDW5Jhq/2jFOwFIs0PWpnAGjknrWIiIEsDYI83PRpxnuNmpkPrcrbayxWVg\n",
       "rbOJIHeJE9wV1MXvhr+vL38biuXz3krCyKHfMx0VRip+TBItRauL0Q+zA3B7YQ3cNgAAAABJRU5E\n",
       "rkJggg==\n",
       "\" style=\"display:inline;vertical-align:middle;\" /></a><br>(see <a class=\"ProveItLink\" href=\"../__pv_it/7021a3f0617ef1a78240b2ddb41c9196963bf62c0/dependencies.ipynb\">dependencies</a>)<br>"
      ],
      "text/plain": [
       "add_9_5: (9 + 5) = 14"
      ]
     },
     "execution_count": 2,
     "metadata": {},
     "output_type": "execute_result"
    }
   ],
   "source": [
    "%proving add_9_5 presuming []"
   ]
  },
  {
   "cell_type": "code",
   "execution_count": null,
   "metadata": {},
   "outputs": [],
   "source": []
  }
 ],
 "metadata": {
  "kernelspec": {
   "display_name": "Python 3",
   "language": "python",
   "name": "python3"
  }
 },
 "nbformat": 4,
 "nbformat_minor": 0
}
