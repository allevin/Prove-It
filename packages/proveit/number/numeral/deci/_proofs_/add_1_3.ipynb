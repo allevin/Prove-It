{
 "cells": [
  {
   "cell_type": "markdown",
   "metadata": {},
   "source": [
    "Proof of <a class=\"ProveItLink\" href=\"../../../../_context_.ipynb\">proveit</a>.<a class=\"ProveItLink\" href=\"../../../_context_.ipynb\">number</a>.<a class=\"ProveItLink\" href=\"../../_context_.ipynb\">numeral</a>.<a class=\"ProveItLink\" href=\"../_context_.ipynb\">decimal</a>.<a class=\"ProveItLink\" href=\"../_theorems_.ipynb#add_1_3\">add_1_3</a> theorem\n",
    "========"
   ]
  },
  {
   "cell_type": "code",
   "execution_count": 1,
   "metadata": {},
   "outputs": [],
   "source": [
    "import proveit\n",
    "context = proveit.Context('..') # the theorem's context is in the parent directory"
   ]
  },
  {
   "cell_type": "code",
   "execution_count": 2,
   "metadata": {},
   "outputs": [
    {
     "name": "stdout",
     "output_type": "stream",
     "text": [
      "Beginning proof of add_1_3\n",
      "Recorded 'presuming' information\n",
      "Presuming previous theorems (applied transitively).\n"
     ]
    },
    {
     "data": {
      "text/html": [
       "<strong id=\"add_1_3\">add_1_3:</strong> <a class=\"ProveItLink\" href=\"../__pv_it/d7ca096171c73c9d2d505f6154a1bee910312ee80/expr.ipynb\"><img src=\"data:image/png;base64,iVBORw0KGgoAAAANSUhEUgAAAGEAAAAVBAMAAACkm51HAAAAMFBMVEX////c3NwiIiJERESqqqqY\n",
       "mJh2dnZmZmYQEBDu7u4yMjJUVFTMzMyIiIi6uroAAAAs73DqAAAAAXRSTlMAQObYZgAAAUBJREFU\n",
       "OMtjYCAd8F3AIRGHS8dpIGaegCrGk5bswMB+AFMxzwYgsZKBgdMeTYc4A99fBoYFmDqYDBgYeC8w\n",
       "cO7eD9MxEULlOzB8YmAIw9RxA6iDA6T4PkyHL4TyB+uYgaGBMQqo4xUDFh0MYFcxO6DrYOMC6ijD\n",
       "roML6EW2AnQdgSAdS7HqOLYaSLCAvc6+CgxAgcR5AaSjD7sdvEBxvgZ0RzGAdPzDroOhfwIDzwc0\n",
       "HT7oOqpWrdJYtQrkHhkGBvsADB2cCWAdLVjs4Pw/AaQD4ip2JTAAKmXZvXt/9wUGU2yu+sXAoC/A\n",
       "wIoZ6RxAjenYdFxl4PuGLXTBOh4B6fL+5QEoOljKq4Cxx/UAIwb3fw9g4BBAFvJF5szAnthZE5B5\n",
       "b5E5uTjyx0pcGYdzAQ4JaVw6uAVwSDDiyrV3sAsDAICeV7x02MFuAAAAAElFTkSuQmCC\n",
       "\" style=\"display:inline;vertical-align:middle;\" /></a><br>(see <a class=\"ProveItLink\" href=\"../__pv_it/d7ca096171c73c9d2d505f6154a1bee910312ee80/dependencies.ipynb\">dependencies</a>)<br>"
      ],
      "text/plain": [
       "add_1_3: (1 + 3) = 4"
      ]
     },
     "execution_count": 2,
     "metadata": {},
     "output_type": "execute_result"
    }
   ],
   "source": [
    "%proving add_1_3 presuming []"
   ]
  },
  {
   "cell_type": "code",
   "execution_count": null,
   "metadata": {},
   "outputs": [],
   "source": []
  }
 ],
 "metadata": {
  "kernelspec": {
   "display_name": "Python 3",
   "language": "python",
   "name": "python3"
  }
 },
 "nbformat": 4,
 "nbformat_minor": 0
}
