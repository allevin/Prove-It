{
 "cells": [
  {
   "cell_type": "markdown",
   "metadata": {},
   "source": [
    "Proof of <a class=\"ProveItLink\" href=\"../../../../_context_.ipynb\">proveit</a>.<a class=\"ProveItLink\" href=\"../../../_context_.ipynb\">number</a>.<a class=\"ProveItLink\" href=\"../../_context_.ipynb\">numeral</a>.<a class=\"ProveItLink\" href=\"../_context_.ipynb\">decimal</a>.<a class=\"ProveItLink\" href=\"../_theorems_.ipynb#less_3_4\">less_3_4</a> theorem\n",
    "========"
   ]
  },
  {
   "cell_type": "code",
   "execution_count": 1,
   "metadata": {},
   "outputs": [],
   "source": [
    "import proveit\n",
    "context = proveit.Context('..') # the theorem's context is in the parent directory"
   ]
  },
  {
   "cell_type": "code",
   "execution_count": 2,
   "metadata": {},
   "outputs": [
    {
     "name": "stdout",
     "output_type": "stream",
     "text": [
      "Beginning proof of less_3_4\n",
      "Recorded 'presuming' information\n",
      "Presuming previous theorems (applied transitively).\n"
     ]
    },
    {
     "data": {
      "text/html": [
       "<strong id=\"less_3_4\">less_3_4:</strong> <a class=\"ProveItLink\" href=\"../__pv_it/0f31126999246d81ff9dfb3945438f66b4bc5d900/expr.ipynb\"><img src=\"data:image/png;base64,iVBORw0KGgoAAAANSUhEUgAAADEAAAAPBAMAAAC/wjryAAAAMFBMVEX///+YmJju7u4QEBBUVFQy\n",
       "MjIiIiKIiIi6urpmZmbc3NyqqqpERER2dnbMzMwAAAB0GlNiAAAAAXRSTlMAQObYZgAAALtJREFU\n",
       "GNNjYHh79zQDBuBzYGDgmsDQX4Ahw3aAgYH3NwN/AlyEax6ELgbKcCPL8Lk2QBSIHgDTcNM4Qh5A\n",
       "GLysEJkQqAR35AIoSwosw3fVAcJlz1WASjAVQPUUgw3nTYe7g5cBKsP8CUTqnIDL7APLcD1g4PkI\n",
       "5j+Jhhl2ASyj/wkmw7AyEeoSFxd/kwIG/gAGtl9QxbrpMDcwA/WwCzD0X4BZwAhzHkiGYefMaER4\n",
       "ccdBHOf/U4ABJwAAdH8sFu7gVTAAAAAASUVORK5CYII=\n",
       "\" style=\"display:inline;vertical-align:middle;\" /></a><br>(see <a class=\"ProveItLink\" href=\"../__pv_it/0f31126999246d81ff9dfb3945438f66b4bc5d900/dependencies.ipynb\">dependencies</a>)<br>"
      ],
      "text/plain": [
       "less_3_4: 3 < 4"
      ]
     },
     "execution_count": 2,
     "metadata": {},
     "output_type": "execute_result"
    }
   ],
   "source": [
    "%proving less_3_4 presuming []"
   ]
  },
  {
   "cell_type": "code",
   "execution_count": null,
   "metadata": {},
   "outputs": [],
   "source": []
  }
 ],
 "metadata": {
  "kernelspec": {
   "display_name": "Python 3",
   "language": "python",
   "name": "python3"
  }
 },
 "nbformat": 4,
 "nbformat_minor": 0
}
