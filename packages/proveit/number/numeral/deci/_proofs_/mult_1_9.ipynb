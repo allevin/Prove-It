{
 "cells": [
  {
   "cell_type": "markdown",
   "metadata": {},
   "source": [
    "Proof of <a class=\"ProveItLink\" href=\"../../../../_context_.ipynb\">proveit</a>.<a class=\"ProveItLink\" href=\"../../../_context_.ipynb\">number</a>.<a class=\"ProveItLink\" href=\"../../_context_.ipynb\">numeral</a>.<a class=\"ProveItLink\" href=\"../_context_.ipynb\">deci</a>.<a class=\"ProveItLink\" href=\"../_theorems_.ipynb#mult_1_9\">mult_1_9</a> theorem\n",
    "========"
   ]
  },
  {
   "cell_type": "code",
   "execution_count": 1,
   "metadata": {},
   "outputs": [],
   "source": [
    "import proveit\n",
    "context = proveit.Context('..') # the theorem's context is in the parent directory"
   ]
  },
  {
   "cell_type": "code",
   "execution_count": 2,
   "metadata": {},
   "outputs": [
    {
     "name": "stdout",
     "output_type": "stream",
     "text": [
      "Beginning proof of mult_1_9\n",
      "Recorded 'presuming' information\n",
      "Presuming previous theorems (applied transitively).\n"
     ]
    },
    {
     "data": {
      "text/html": [
       "<strong id=\"mult_1_9\">mult_1_9:</strong> <a class=\"ProveItLink\" href=\"../__pv_it/e927a09523e48bc8e68ee778e1e38efd9e03f8980/expr.ipynb\"><img src=\"data:image/png;base64,iVBORw0KGgoAAAANSUhEUgAAAFcAAAAVBAMAAADBdm84AAAAMFBMVEX////c3NwiIiJERESqqqqY\n",
       "mJh2dnZmZmYQEBDu7u4yMjJUVFTMzMyIiIi6uroAAAAs73DqAAAAAXRSTlMAQObYZgAAASNJREFU\n",
       "KM9jYCAJ8F3AFIvDpfg0EDNPgHM5t2cfYGA/gK4KLMzAsBLIskcolnBgbGRgWICuGCLMe4GBc/d+\n",
       "hGILBobNDAxh6IohwhwgdfcRin8xMORPYJiBrhgi/IoBRTHnZyDvAQOzA5qTIcJlDJgmBzCwFWAx\n",
       "OYBhKZriCgYG+wsMLGAfVq0CgdUI4T6EYk4QOSuApf4CA18DmskQ4X8IxfMVQGTsnfsODDwf0H0I\n",
       "FkZSPMMAIg70NqZisHALmpuBYBUD1BlFSiCgjBA2RVN8X4ARaBkrehRChNPRFF+awAVMWRhBBxF+\n",
       "BGSV9y8PgImylZsASa4HaIohwhwC2JLiDOwplDUBm2gujvS8EosY5wIciqWxiHEL4FDMiCVb3cGu\n",
       "FAAFo2FadsFRYAAAAABJRU5ErkJggg==\n",
       "\" style=\"display:inline;vertical-align:middle;\" /></a><br>(see <a class=\"ProveItLink\" href=\"../__pv_it/e927a09523e48bc8e68ee778e1e38efd9e03f8980/dependencies.ipynb\">dependencies</a>)<br>"
      ],
      "text/plain": [
       "mult_1_9: (1 * 9) = 9"
      ]
     },
     "execution_count": 2,
     "metadata": {},
     "output_type": "execute_result"
    }
   ],
   "source": [
    "%proving mult_1_9 presuming []"
   ]
  },
  {
   "cell_type": "code",
   "execution_count": null,
   "metadata": {},
   "outputs": [],
   "source": []
  }
 ],
 "metadata": {
  "kernelspec": {
   "display_name": "Python 3",
   "language": "python",
   "name": "python3"
  }
 },
 "nbformat": 4,
 "nbformat_minor": 0
}
