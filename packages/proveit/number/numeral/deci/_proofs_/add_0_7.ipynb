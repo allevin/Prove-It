{
 "cells": [
  {
   "cell_type": "markdown",
   "metadata": {},
   "source": [
    "Proof of <a class=\"ProveItLink\" href=\"../../../../_context_.ipynb\">proveit</a>.<a class=\"ProveItLink\" href=\"../../../_context_.ipynb\">number</a>.<a class=\"ProveItLink\" href=\"../../_context_.ipynb\">numeral</a>.<a class=\"ProveItLink\" href=\"../_context_.ipynb\">decimal</a>.<a class=\"ProveItLink\" href=\"../_theorems_.ipynb#add_0_7\">add_0_7</a> theorem\n",
    "========"
   ]
  },
  {
   "cell_type": "code",
   "execution_count": 1,
   "metadata": {},
   "outputs": [],
   "source": [
    "import proveit\n",
    "context = proveit.Context('..') # the theorem's context is in the parent directory"
   ]
  },
  {
   "cell_type": "code",
   "execution_count": 2,
   "metadata": {},
   "outputs": [
    {
     "name": "stdout",
     "output_type": "stream",
     "text": [
      "Beginning proof of add_0_7\n",
      "Recorded 'presuming' information\n",
      "Presuming previous theorems (applied transitively).\n"
     ]
    },
    {
     "data": {
      "text/html": [
       "<strong id=\"add_0_7\">add_0_7:</strong> <a class=\"ProveItLink\" href=\"../__pv_it/7692b503c2dd09e727b53768c23b1244177d637f0/expr.ipynb\"><img src=\"data:image/png;base64,iVBORw0KGgoAAAANSUhEUgAAAGIAAAAVBAMAAABPrCZEAAAAMFBMVEX////c3NwiIiJERESqqqqY\n",
       "mJh2dnZmZmYQEBDu7u4yMjJUVFTMzMyIiIi6uroAAAAs73DqAAAAAXRSTlMAQObYZgAAAUFJREFU\n",
       "OMtjYCAd8F3AIRGHS8dpBobpd2tQxQ6VpaUlsB9AVwoWZmBYycCgxzAJVTb+////GxgWoOuACPNe\n",
       "YOBVYOCFyk6EUJkMDNwMDGHoOiDCHBMYmDYw8H2EiPlCKKDVOQwMM9B1QIRfMTDwFzDwfEHRAQkP\n",
       "ZgeswVTGwCCfwMDzF03HZCBmK8DQARJeCtHxDU1HCRCzgD3HvgoMNsCF+7Dq4PwAckIDuhVg4X9Y\n",
       "XQUOO54P6DrAwv8gPv8KZFatWqWxatVqkBTTBqw6wMItYJoFNXQZ5hfAXcWuBAYGcGFTBlAMsimg\n",
       "6ngPkmLFiHSwcDoQqzDMOICqw78Aa+iChR8B8fTcPQyoOs4HAAmuB+g6wMIcAshCvsicGdgTO2sC\n",
       "Mu8tMicXR/5YiSvjcC7AISGNSwe3AA4JRly59g52YQC2rVtlt1JfdgAAAABJRU5ErkJggg==\n",
       "\" style=\"display:inline;vertical-align:middle;\" /></a><br>(see <a class=\"ProveItLink\" href=\"../__pv_it/7692b503c2dd09e727b53768c23b1244177d637f0/dependencies.ipynb\">dependencies</a>)<br>"
      ],
      "text/plain": [
       "add_0_7: (0 + 7) = 7"
      ]
     },
     "execution_count": 2,
     "metadata": {},
     "output_type": "execute_result"
    }
   ],
   "source": [
    "%proving add_0_7 presuming []"
   ]
  },
  {
   "cell_type": "code",
   "execution_count": null,
   "metadata": {},
   "outputs": [],
   "source": []
  }
 ],
 "metadata": {
  "kernelspec": {
   "display_name": "Python 3",
   "language": "python",
   "name": "python3"
  }
 },
 "nbformat": 4,
 "nbformat_minor": 0
}
