{
 "cells": [
  {
   "cell_type": "markdown",
   "metadata": {},
   "source": [
    "Proof of <a class=\"ProveItLink\" href=\"../../../../_context_.ipynb\">proveit</a>.<a class=\"ProveItLink\" href=\"../../../_context_.ipynb\">number</a>.<a class=\"ProveItLink\" href=\"../../_context_.ipynb\">numeral</a>.<a class=\"ProveItLink\" href=\"../_context_.ipynb\">decimal</a>.<a class=\"ProveItLink\" href=\"../_theorems_.ipynb#add_2_6\">add_2_6</a> theorem\n",
    "========"
   ]
  },
  {
   "cell_type": "code",
   "execution_count": 1,
   "metadata": {},
   "outputs": [],
   "source": [
    "import proveit\n",
    "context = proveit.Context('..') # the theorem's context is in the parent directory"
   ]
  },
  {
   "cell_type": "code",
   "execution_count": 2,
   "metadata": {},
   "outputs": [
    {
     "name": "stdout",
     "output_type": "stream",
     "text": [
      "Beginning proof of add_2_6\n",
      "Recorded 'presuming' information\n",
      "Presuming previous theorems (applied transitively).\n"
     ]
    },
    {
     "data": {
      "text/html": [
       "<strong id=\"add_2_6\">add_2_6:</strong> <a class=\"ProveItLink\" href=\"../__pv_it/2639bc80d8d56178e674b54631ffdff6d6ed61f30/expr.ipynb\"><img src=\"data:image/png;base64,iVBORw0KGgoAAAANSUhEUgAAAGEAAAAVBAMAAACkm51HAAAAMFBMVEX////c3NwiIiJERESqqqqY\n",
       "mJh2dnZmZmYQEBDu7u4yMjJUVFTMzMyIiIi6uroAAAAs73DqAAAAAXRSTlMAQObYZgAAAYZJREFU\n",
       "OMuVkzFIAzEUhv9re6bnaTknBwdFUBwcRHCVmxyE0jqok3pTO2ixixVaQQUdusjpIB0LIthzsLiI\n",
       "m5uDiLc5KFgcBaEUlzp4pslyic1ghiTvf/nIe3l5wP9Hwlc4VlXEAzBYnJXE08IGyJ181MhkbbrU\n",
       "oNXxZgsubRLXQFUmCLAF9PswXUSaXDvmS8SBByzJxCJwAsRdxMswf7iW5Mua25krMrHOiA+gtw0i\n",
       "EhdsjtoSkbpFDijwMNoC8f34TE/35CUiGqw4wDnbPzlhwmilMQbEWOrEY6Pe2e+2LOCInTmDQATA\n",
       "povEnnSHvnP1BbAEyJRItGjyNvqaErEMPXA58cKEoudNeN5lJw9K+H+JMjCcxgHdxfIYEDKfZnfw\n",
       "qMgoGzQKg9rExwwV74EFgUixPHS56PuAaSFL/8R4JjsiEFHHOOzyuvMu5oB3WowgCEQCpVKDVrYh\n",
       "f/ObbVqmuBXWkmGj0v2z607Y+gwbOUV/1FSNY1QVjiEVYVoKh6bq2tfu8i/ywl3w9WJhQAAAAABJ\n",
       "RU5ErkJggg==\n",
       "\" style=\"display:inline;vertical-align:middle;\" /></a><br>(see <a class=\"ProveItLink\" href=\"../__pv_it/2639bc80d8d56178e674b54631ffdff6d6ed61f30/dependencies.ipynb\">dependencies</a>)<br>"
      ],
      "text/plain": [
       "add_2_6: (2 + 6) = 8"
      ]
     },
     "execution_count": 2,
     "metadata": {},
     "output_type": "execute_result"
    }
   ],
   "source": [
    "%proving add_2_6 presuming []"
   ]
  },
  {
   "cell_type": "code",
   "execution_count": null,
   "metadata": {},
   "outputs": [],
   "source": []
  }
 ],
 "metadata": {
  "kernelspec": {
   "display_name": "Python 3",
   "language": "python",
   "name": "python3"
  }
 },
 "nbformat": 4,
 "nbformat_minor": 0
}
