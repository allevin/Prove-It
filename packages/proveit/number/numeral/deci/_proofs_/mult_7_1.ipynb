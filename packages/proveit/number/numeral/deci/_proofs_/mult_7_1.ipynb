{
 "cells": [
  {
   "cell_type": "markdown",
   "metadata": {},
   "source": [
    "Proof of <a class=\"ProveItLink\" href=\"../../../../_context_.ipynb\">proveit</a>.<a class=\"ProveItLink\" href=\"../../../_context_.ipynb\">number</a>.<a class=\"ProveItLink\" href=\"../../_context_.ipynb\">numeral</a>.<a class=\"ProveItLink\" href=\"../_context_.ipynb\">deci</a>.<a class=\"ProveItLink\" href=\"../_theorems_.ipynb#mult_7_1\">mult_7_1</a> theorem\n",
    "========"
   ]
  },
  {
   "cell_type": "code",
   "execution_count": 1,
   "metadata": {},
   "outputs": [],
   "source": [
    "import proveit\n",
    "context = proveit.Context('..') # the theorem's context is in the parent directory"
   ]
  },
  {
   "cell_type": "code",
   "execution_count": 2,
   "metadata": {},
   "outputs": [
    {
     "name": "stdout",
     "output_type": "stream",
     "text": [
      "Beginning proof of mult_7_1\n",
      "Recorded 'presuming' information\n",
      "Presuming previous theorems (applied transitively).\n"
     ]
    },
    {
     "data": {
      "text/html": [
       "<strong id=\"mult_7_1\">mult_7_1:</strong> <a class=\"ProveItLink\" href=\"../__pv_it/f62e128274408613ff05d4f31259abbcdf1188df0/expr.ipynb\"><img src=\"data:image/png;base64,iVBORw0KGgoAAAANSUhEUgAAAFgAAAAVBAMAAAAwfTS1AAAAMFBMVEX////c3NwiIiJERESqqqqY\n",
       "mJh2dnZmZmYQEBDu7u4yMjJUVFTMzMyIiIi6uroAAAAs73DqAAAAAXRSTlMAQObYZgAAASxJREFU\n",
       "KM9jYCAJ8F3AFIvDpfg0A496WloaQsCSgYH9ALqqQ2VpaQkMDCsZWP////8bLjz5J5BYgK44Hqhm\n",
       "AwPvBQa2CQwMG2Cis3eDFIehK85kYOBmYOCYwMDGwMCGsJcXpHgGumKgE3IYGF6B2W8ZUBUzO2AN\n",
       "iDIQg9MATTFbAYbiyUC8FMRgd0BTzAL2YdUqEFgNES8B4j4QYz6YyzkBrpivAd1gzg9A4h+IdQvM\n",
       "n68AV8zzAV0x7wKYYm0wf4YBHsVMoMBtAVnxnQHNzRBnFCmBgDLEWpCXTUFSGIpZMaLwPUhxOsjv\n",
       "GIoxg84fJPII5MKvCEH2il+lDAxcD9AVnw8AEhwC2JLiDOwplDUBm2gujvS8EosY5wIciqWxiHEL\n",
       "4FDMiCVb3cGuFADge08M9HwrqAAAAABJRU5ErkJggg==\n",
       "\" style=\"display:inline;vertical-align:middle;\" /></a><br>(see <a class=\"ProveItLink\" href=\"../__pv_it/f62e128274408613ff05d4f31259abbcdf1188df0/dependencies.ipynb\">dependencies</a>)<br>"
      ],
      "text/plain": [
       "mult_7_1: (7 * 1) = 7"
      ]
     },
     "execution_count": 2,
     "metadata": {},
     "output_type": "execute_result"
    }
   ],
   "source": [
    "%proving mult_7_1 presuming []"
   ]
  },
  {
   "cell_type": "code",
   "execution_count": null,
   "metadata": {},
   "outputs": [],
   "source": []
  }
 ],
 "metadata": {
  "kernelspec": {
   "display_name": "Python 3",
   "language": "python",
   "name": "python3"
  }
 },
 "nbformat": 4,
 "nbformat_minor": 0
}
