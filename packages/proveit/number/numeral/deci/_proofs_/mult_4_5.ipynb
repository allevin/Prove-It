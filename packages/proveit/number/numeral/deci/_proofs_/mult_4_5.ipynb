{
 "cells": [
  {
   "cell_type": "markdown",
   "metadata": {},
   "source": [
    "Proof of <a class=\"ProveItLink\" href=\"../../../../_context_.ipynb\">proveit</a>.<a class=\"ProveItLink\" href=\"../../../_context_.ipynb\">number</a>.<a class=\"ProveItLink\" href=\"../../_context_.ipynb\">numeral</a>.<a class=\"ProveItLink\" href=\"../_context_.ipynb\">deci</a>.<a class=\"ProveItLink\" href=\"../_theorems_.ipynb#mult_4_5\">mult_4_5</a> theorem\n",
    "========"
   ]
  },
  {
   "cell_type": "code",
   "execution_count": 1,
   "metadata": {},
   "outputs": [],
   "source": [
    "import proveit\n",
    "context = proveit.Context('..') # the theorem's context is in the parent directory"
   ]
  },
  {
   "cell_type": "code",
   "execution_count": 2,
   "metadata": {},
   "outputs": [
    {
     "name": "stdout",
     "output_type": "stream",
     "text": [
      "Beginning proof of mult_4_5\n",
      "Recorded 'presuming' information\n",
      "Presuming previous theorems (applied transitively).\n"
     ]
    },
    {
     "data": {
      "text/html": [
       "<strong id=\"mult_4_5\">mult_4_5:</strong> <a class=\"ProveItLink\" href=\"../__pv_it/28c25d2a30694c5300db4bf2a3fe6a2e95d3281b0/expr.ipynb\"><img src=\"data:image/png;base64,iVBORw0KGgoAAAANSUhEUgAAAGEAAAAVBAMAAACkm51HAAAAMFBMVEX////c3NwiIiJERESqqqqY\n",
       "mJh2dnZmZmYQEBDu7u4yMjJUVFTMzMyIiIi6uroAAAAs73DqAAAAAXRSTlMAQObYZgAAAZFJREFU\n",
       "OMuVkz1Iw1AQx//phzZtI0EQhy6io0KL4N7NwUEnwUWCSB1ULBVbUKR+DQ4icZEuYqE4tA46KkXs\n",
       "7mBxEaxCcHRRRKqT8V5eTeUlBLzhyN0/v/fu3b0H/N+66s7ctCdxYzvLwlPSLDpr4l9SrmRAXr9n\n",
       "QpklBmwpZJoaUBSJGJQP+Ax5CFBYUcp2e4+1BfKTInEJxHEHPNCaOsU9JVuKWL4gErs6ro1B4FXF\n",
       "C4s1kfAnBeJMR974BG6TyFIYVP8QTw0D6Eg7WxQ/aBJRxwl9H6FN+HX5GwhYR1+tMDvlQrQpMULD\n",
       "PiuKE7LOtQsa0oZji3CiRbAFa5w47uPaUg3RNwexDIlXRcQhOFFIkBsmwnAhlHOAnXwCO8BYtfp1\n",
       "9atsAXm1VVWmnxmf7igklbo7rmLEitsTpCZVqHvi0KNp6ihNcAaYE4heBDZdutudSmXgS8p7wDOL\n",
       "580Ve7FcVaXGGOIwTPMdcrZBNzGkul3ogsdlD2pu2UWv91F2yclFLyLmkouoXoTk8mofPf7/AZc2\n",
       "aVEJsQpYAAAAAElFTkSuQmCC\n",
       "\" style=\"display:inline;vertical-align:middle;\" /></a><br>(see <a class=\"ProveItLink\" href=\"../__pv_it/28c25d2a30694c5300db4bf2a3fe6a2e95d3281b0/dependencies.ipynb\">dependencies</a>)<br>"
      ],
      "text/plain": [
       "mult_4_5: (4 * 5) = 20"
      ]
     },
     "execution_count": 2,
     "metadata": {},
     "output_type": "execute_result"
    }
   ],
   "source": [
    "%proving mult_4_5 presuming []"
   ]
  },
  {
   "cell_type": "code",
   "execution_count": null,
   "metadata": {},
   "outputs": [],
   "source": []
  }
 ],
 "metadata": {
  "kernelspec": {
   "display_name": "Python 3",
   "language": "python",
   "name": "python3"
  }
 },
 "nbformat": 4,
 "nbformat_minor": 0
}
