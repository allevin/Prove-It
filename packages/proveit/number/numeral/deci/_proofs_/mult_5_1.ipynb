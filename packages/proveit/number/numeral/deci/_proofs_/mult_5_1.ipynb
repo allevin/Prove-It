{
 "cells": [
  {
   "cell_type": "markdown",
   "metadata": {},
   "source": [
    "Proof of <a class=\"ProveItLink\" href=\"../../../../_context_.ipynb\">proveit</a>.<a class=\"ProveItLink\" href=\"../../../_context_.ipynb\">number</a>.<a class=\"ProveItLink\" href=\"../../_context_.ipynb\">numeral</a>.<a class=\"ProveItLink\" href=\"../_context_.ipynb\">deci</a>.<a class=\"ProveItLink\" href=\"../_theorems_.ipynb#mult_5_1\">mult_5_1</a> theorem\n",
    "========"
   ]
  },
  {
   "cell_type": "code",
   "execution_count": 1,
   "metadata": {},
   "outputs": [],
   "source": [
    "import proveit\n",
    "context = proveit.Context('..') # the theorem's context is in the parent directory"
   ]
  },
  {
   "cell_type": "code",
   "execution_count": 2,
   "metadata": {},
   "outputs": [
    {
     "name": "stdout",
     "output_type": "stream",
     "text": [
      "Beginning proof of mult_5_1\n",
      "Recorded 'presuming' information\n",
      "Presuming previous theorems (applied transitively).\n"
     ]
    },
    {
     "data": {
      "text/html": [
       "<strong id=\"mult_5_1\">mult_5_1:</strong> <a class=\"ProveItLink\" href=\"../__pv_it/94c8d2a75be2be5fabea88af42d956238f0397fd0/expr.ipynb\"><img src=\"data:image/png;base64,iVBORw0KGgoAAAANSUhEUgAAAFcAAAAVBAMAAADBdm84AAAAMFBMVEX////c3NwiIiJERESqqqqY\n",
       "mJh2dnZmZmYQEBDu7u4yMjJUVFTMzMyIiIi6uroAAAAs73DqAAAAAXRSTlMAQObYZgAAAT5JREFU\n",
       "KM9jYCAJ8F3AFIvDpfg0A8PSCWIOCAFLBgb2A+iquCIZU4DUSgaG/v/fEMKTfwKJBeiKOf7/T2Bg\n",
       "4AW6Yvk2hEmzd4MUh2GYXJ0D0jKBgWEDsjAvSPEMdMXcYPIVAzbFzA5YFZcB8d67+9AUsxWgK757\n",
       "+wEwJMD+n/8AVTEL2IdVq0BgNYjJPIHzHwNDH0RjA5DgnABXzNeAGcY7GBj+gRlsf4DEfAW4Yp4P\n",
       "mIrzD4AUMyswsIH0zDDArdgIqPgBQwsw9BQY2D+iuhnijCIlEFAGMZsYGOoFGEyBkQsM8wWoilnR\n",
       "oxAYOqsYGNIZGBgLGDwECASdOANLIwPDIyDrePVGuCh7xa9SoE0P0BTzlO8GmschgC0pzsCeQlkT\n",
       "sInm4kjPK7GIcS7AoVgaixi3AA7FjFiy1R3sSgHgSlMZCBjrPAAAAABJRU5ErkJggg==\n",
       "\" style=\"display:inline;vertical-align:middle;\" /></a><br>(see <a class=\"ProveItLink\" href=\"../__pv_it/94c8d2a75be2be5fabea88af42d956238f0397fd0/dependencies.ipynb\">dependencies</a>)<br>"
      ],
      "text/plain": [
       "mult_5_1: (5 * 1) = 5"
      ]
     },
     "execution_count": 2,
     "metadata": {},
     "output_type": "execute_result"
    }
   ],
   "source": [
    "%proving mult_5_1 presuming []"
   ]
  },
  {
   "cell_type": "code",
   "execution_count": null,
   "metadata": {},
   "outputs": [],
   "source": []
  }
 ],
 "metadata": {
  "kernelspec": {
   "display_name": "Python 3",
   "language": "python",
   "name": "python3"
  }
 },
 "nbformat": 4,
 "nbformat_minor": 0
}
