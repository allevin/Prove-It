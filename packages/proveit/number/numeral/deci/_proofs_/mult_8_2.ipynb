{
 "cells": [
  {
   "cell_type": "markdown",
   "metadata": {},
   "source": [
    "Proof of <a class=\"ProveItLink\" href=\"../../../../_context_.ipynb\">proveit</a>.<a class=\"ProveItLink\" href=\"../../../_context_.ipynb\">number</a>.<a class=\"ProveItLink\" href=\"../../_context_.ipynb\">numeral</a>.<a class=\"ProveItLink\" href=\"../_context_.ipynb\">deci</a>.<a class=\"ProveItLink\" href=\"../_theorems_.ipynb#mult_8_2\">mult_8_2</a> theorem\n",
    "========"
   ]
  },
  {
   "cell_type": "code",
   "execution_count": 1,
   "metadata": {},
   "outputs": [],
   "source": [
    "import proveit\n",
    "context = proveit.Context('..') # the theorem's context is in the parent directory"
   ]
  },
  {
   "cell_type": "code",
   "execution_count": 2,
   "metadata": {},
   "outputs": [
    {
     "name": "stdout",
     "output_type": "stream",
     "text": [
      "Beginning proof of mult_8_2\n",
      "Recorded 'presuming' information\n",
      "Presuming previous theorems (applied transitively).\n"
     ]
    },
    {
     "data": {
      "text/html": [
       "<strong id=\"mult_8_2\">mult_8_2:</strong> <a class=\"ProveItLink\" href=\"../__pv_it/32e0584d95a1bf6e279f58edefe9c7a1048e73470/expr.ipynb\"><img src=\"data:image/png;base64,iVBORw0KGgoAAAANSUhEUgAAAGEAAAAVBAMAAACkm51HAAAAMFBMVEX////c3NwiIiJERESqqqqY\n",
       "mJh2dnZmZmYQEBDu7u4yMjJUVFTMzMyIiIi6uroAAAAs73DqAAAAAXRSTlMAQObYZgAAAYxJREFU\n",
       "OMuVkz9Iw0AUxr/YpjHVSnDt4h/chBTBwclujnbSzWaqi2Ko2opFdFBwkoBQCg4WRLB1sLqJg86K\n",
       "0EkXh+CoixQrWMH4cjWxNNeABxfuvXe/+957uQP+P/qqXt+cL3EH5FMrrilkj0xIN959EzTzmQX6\n",
       "lgAdUsIJRBF5B4oeYP+TThvFBRCpQkxAHnAil4AKzLQDB1dEdGkoA90GQpUWYtfAtYmCRyNCRNKw\n",
       "Vy9A8MsIueWfGdg0EYjziBO2ytCcrD+0BlWS1XlE4/6RTjomS7IGW2K9HyTLSl8v2+PUIeRaAiPA\n",
       "Hlmzt5adhczSRDhGP2mLoyFbwJKBb0DUkSRNHDbLX7Z13nhEjYqP2wS1S6iTsxBjoUonAg0iqtgG\n",
       "a+WGG5qCoPxmlR6yx7BLjDGNcdJQgHO3bh2iArHI05hmdcxTY0oIak6kP5VKo0N3A5q8AzyT9Zr9\n",
       "u4mqZVGBYbMNkNYaq0AuZzZT8o6Cz2UXNZ530e99lDg+uehHRDm+HsWPEDiv9sln/w+xS2nG39D0\n",
       "6gAAAABJRU5ErkJggg==\n",
       "\" style=\"display:inline;vertical-align:middle;\" /></a><br>(see <a class=\"ProveItLink\" href=\"../__pv_it/32e0584d95a1bf6e279f58edefe9c7a1048e73470/dependencies.ipynb\">dependencies</a>)<br>"
      ],
      "text/plain": [
       "mult_8_2: (8 * 2) = 16"
      ]
     },
     "execution_count": 2,
     "metadata": {},
     "output_type": "execute_result"
    }
   ],
   "source": [
    "%proving mult_8_2 presuming []"
   ]
  },
  {
   "cell_type": "code",
   "execution_count": null,
   "metadata": {},
   "outputs": [],
   "source": []
  }
 ],
 "metadata": {
  "kernelspec": {
   "display_name": "Python 3",
   "language": "python",
   "name": "python3"
  }
 },
 "nbformat": 4,
 "nbformat_minor": 0
}
