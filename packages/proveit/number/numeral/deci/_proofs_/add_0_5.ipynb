{
 "cells": [
  {
   "cell_type": "markdown",
   "metadata": {},
   "source": [
    "Proof of <a class=\"ProveItLink\" href=\"../../../../_context_.ipynb\">proveit</a>.<a class=\"ProveItLink\" href=\"../../../_context_.ipynb\">number</a>.<a class=\"ProveItLink\" href=\"../../_context_.ipynb\">numeral</a>.<a class=\"ProveItLink\" href=\"../_context_.ipynb\">decimal</a>.<a class=\"ProveItLink\" href=\"../_theorems_.ipynb#add_0_5\">add_0_5</a> theorem\n",
    "========"
   ]
  },
  {
   "cell_type": "code",
   "execution_count": 1,
   "metadata": {},
   "outputs": [],
   "source": [
    "import proveit\n",
    "context = proveit.Context('..') # the theorem's context is in the parent directory"
   ]
  },
  {
   "cell_type": "code",
   "execution_count": 2,
   "metadata": {},
   "outputs": [
    {
     "name": "stdout",
     "output_type": "stream",
     "text": [
      "Beginning proof of add_0_5\n",
      "Recorded 'presuming' information\n",
      "Presuming previous theorems (applied transitively).\n"
     ]
    },
    {
     "data": {
      "text/html": [
       "<strong id=\"add_0_5\">add_0_5:</strong> <a class=\"ProveItLink\" href=\"../__pv_it/63fa3a20ceaa3c82754d0c46b7babcb38165570c0/expr.ipynb\"><img src=\"data:image/png;base64,iVBORw0KGgoAAAANSUhEUgAAAGEAAAAVBAMAAACkm51HAAAAMFBMVEX////c3NwiIiJERESqqqqY\n",
       "mJh2dnZmZmYQEBDu7u4yMjJUVFTMzMyIiIi6uroAAAAs73DqAAAAAXRSTlMAQObYZgAAAVBJREFU\n",
       "OMtjYCAd8F3AIRGHS8dpBobpd2tQxbgiGVMY2A+gKwULMzCsZGDQY5iEKsvx/38CA8MCdB0QYd4L\n",
       "DLwKDLxQ2YlQw6pzgGQYhh1gYY4JDEwbGPg+QsR8IRQ3mJyBrgMi/IqBgb+AgecLFh3MDlh1lDEw\n",
       "yCcw8PxF1XH39gMGBrYCdB1g4aUQHd9QdDBP4PzHwMAC9hz7KjDYABfuw6YDCHYAY6oBMy6Awv+w\n",
       "uQoI8g8w8HzA1AEU/gfx+Vcgr2rVKo1Vq1YDWUZAqQeYOiDCLQyg0GVBDd0mBoZ6Aair2JXAwAAu\n",
       "bMoAikE2BRQdwEBaxcDAih7pEOF0IEuFYcYBFB3iDCyNWEIXIvwIyJqeu4cBRQdP+W4BYKJ4gKYD\n",
       "IswhgCzmi8yZgT2xsyYg894ic3Jx5I+VuDIO5wIcEtK4dHAL4JBgxJVr72AXBgBqZFrRcx/ugwAA\n",
       "AABJRU5ErkJggg==\n",
       "\" style=\"display:inline;vertical-align:middle;\" /></a><br>(see <a class=\"ProveItLink\" href=\"../__pv_it/63fa3a20ceaa3c82754d0c46b7babcb38165570c0/dependencies.ipynb\">dependencies</a>)<br>"
      ],
      "text/plain": [
       "add_0_5: (0 + 5) = 5"
      ]
     },
     "execution_count": 2,
     "metadata": {},
     "output_type": "execute_result"
    }
   ],
   "source": [
    "%proving add_0_5 presuming []"
   ]
  },
  {
   "cell_type": "code",
   "execution_count": null,
   "metadata": {},
   "outputs": [],
   "source": []
  }
 ],
 "metadata": {
  "kernelspec": {
   "display_name": "Python 3",
   "language": "python",
   "name": "python3"
  }
 },
 "nbformat": 4,
 "nbformat_minor": 0
}
