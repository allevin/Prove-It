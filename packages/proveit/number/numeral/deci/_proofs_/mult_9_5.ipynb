{
 "cells": [
  {
   "cell_type": "markdown",
   "metadata": {},
   "source": [
    "Proof of <a class=\"ProveItLink\" href=\"../../../../_context_.ipynb\">proveit</a>.<a class=\"ProveItLink\" href=\"../../../_context_.ipynb\">number</a>.<a class=\"ProveItLink\" href=\"../../_context_.ipynb\">numeral</a>.<a class=\"ProveItLink\" href=\"../_context_.ipynb\">deci</a>.<a class=\"ProveItLink\" href=\"../_theorems_.ipynb#mult_9_5\">mult_9_5</a> theorem\n",
    "========"
   ]
  },
  {
   "cell_type": "code",
   "execution_count": 1,
   "metadata": {},
   "outputs": [],
   "source": [
    "import proveit\n",
    "context = proveit.Context('..') # the theorem's context is in the parent directory"
   ]
  },
  {
   "cell_type": "code",
   "execution_count": 2,
   "metadata": {},
   "outputs": [
    {
     "name": "stdout",
     "output_type": "stream",
     "text": [
      "Beginning proof of mult_9_5\n",
      "Recorded 'presuming' information\n",
      "Presuming previous theorems (applied transitively).\n"
     ]
    },
    {
     "data": {
      "text/html": [
       "<strong id=\"mult_9_5\">mult_9_5:</strong> <a class=\"ProveItLink\" href=\"../__pv_it/3a499640cd4058ea836db2ac3f6952e9e3ed25960/expr.ipynb\"><img src=\"data:image/png;base64,iVBORw0KGgoAAAANSUhEUgAAAGEAAAAVBAMAAACkm51HAAAAMFBMVEX////c3NwiIiJERESqqqqY\n",
       "mJh2dnZmZmYQEBDu7u4yMjJUVFTMzMyIiIi6uroAAAAs73DqAAAAAXRSTlMAQObYZgAAAXZJREFU\n",
       "OMtjYCAd8F3AFIvDq+M0A8Pssj1wLlckYwoD+wFMdTwbIHIMDCsZGFsYJARgEhz//ycwMCzA1MFk\n",
       "AJXjvcDA3MDAbQC3ozoHSIZh6rhhAJXjmMDAv4CB7SdMghtMzsDQwBhlAJV7xcAw34CB9x+qDmYH\n",
       "dB1sXDAdZQxgO77Cddy9/QAoX4CuIxCkAyy3lIGBvYGB+S9MhnkCJ9A+FrDXq1aBwGoQk/MCUAdE\n",
       "rg/IW8rgDtLBOQGiaQcwkhrQHcXAZQCVA3mA9e7ZL0BqvgJENv8AA88HNB0+UB1AOYiXwWE1AyRm\n",
       "BBR9gKGDMwGkAyLXAokFeJQ1MTDUC0BdVaQEAspAFsvu3fu7L0DkTIGR+JFB/gFMBzCQVgHdiRnp\n",
       "HAZQuXSgDk2GtXAJcQaWRmyhC9IBkXsE5KQXIyKMp3w3MI1xPcCIwf3fAyByHALYEvQMPImdNQGb\n",
       "aC6+/LESixjnAnw6pLGIcQvg08GIJdfewaMeAOcxX+5r/zXmAAAAAElFTkSuQmCC\n",
       "\" style=\"display:inline;vertical-align:middle;\" /></a><br>(see <a class=\"ProveItLink\" href=\"../__pv_it/3a499640cd4058ea836db2ac3f6952e9e3ed25960/dependencies.ipynb\">dependencies</a>)<br>"
      ],
      "text/plain": [
       "mult_9_5: (9 * 5) = 45"
      ]
     },
     "execution_count": 2,
     "metadata": {},
     "output_type": "execute_result"
    }
   ],
   "source": [
    "%proving mult_9_5 presuming []"
   ]
  },
  {
   "cell_type": "code",
   "execution_count": null,
   "metadata": {},
   "outputs": [],
   "source": []
  }
 ],
 "metadata": {
  "kernelspec": {
   "display_name": "Python 3",
   "language": "python",
   "name": "python3"
  }
 },
 "nbformat": 4,
 "nbformat_minor": 0
}
