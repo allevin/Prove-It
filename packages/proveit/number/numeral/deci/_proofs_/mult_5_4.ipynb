{
 "cells": [
  {
   "cell_type": "markdown",
   "metadata": {},
   "source": [
    "Proof of <a class=\"ProveItLink\" href=\"../../../../_context_.ipynb\">proveit</a>.<a class=\"ProveItLink\" href=\"../../../_context_.ipynb\">number</a>.<a class=\"ProveItLink\" href=\"../../_context_.ipynb\">numeral</a>.<a class=\"ProveItLink\" href=\"../_context_.ipynb\">deci</a>.<a class=\"ProveItLink\" href=\"../_theorems_.ipynb#mult_5_4\">mult_5_4</a> theorem\n",
    "========"
   ]
  },
  {
   "cell_type": "code",
   "execution_count": 1,
   "metadata": {},
   "outputs": [],
   "source": [
    "import proveit\n",
    "context = proveit.Context('..') # the theorem's context is in the parent directory"
   ]
  },
  {
   "cell_type": "code",
   "execution_count": 2,
   "metadata": {},
   "outputs": [
    {
     "name": "stdout",
     "output_type": "stream",
     "text": [
      "Beginning proof of mult_5_4\n",
      "Recorded 'presuming' information\n",
      "Presuming previous theorems (applied transitively).\n"
     ]
    },
    {
     "data": {
      "text/html": [
       "<strong id=\"mult_5_4\">mult_5_4:</strong> <a class=\"ProveItLink\" href=\"../__pv_it/88c3b84d5aed0480e2f5afe09fe7ee495ad798980/expr.ipynb\"><img src=\"data:image/png;base64,iVBORw0KGgoAAAANSUhEUgAAAGEAAAAVBAMAAACkm51HAAAAMFBMVEX////c3NwiIiJERESqqqqY\n",
       "mJh2dnZmZmYQEBDu7u4yMjJUVFTMzMyIiIi6uroAAAAs73DqAAAAAXRSTlMAQObYZgAAAZdJREFU\n",
       "OMuVkzlIw1AYx//pnR4SHFy6FB0V2sXBLZsOgnVxcJDiUCehVKigiB0cBEXj1q0FKVIdrIsgRevm\n",
       "4NDgonhAcHTxQNpFrN9LI01fYsA3PPIdv3znA/5/+lSrbs6RuAbKyoDcVYSr8F/yXsLyvgZx7ZYZ\n",
       "KsBuu2kyuhJAiSeiiHzCpYkjQISSOjg1//OOiBmeOAPiuAHugYACVHvizxJR4IlNBXVtGHiV8AKO\n",
       "8AWJcMsccaxgXWsBDRk5Es+fLrq2aUb4MtYWxfeo2oaKMn2Poaj96kWVER699JVDdo6MFjYFRqSw\n",
       "o4uhPHNWWFJgRF/eEiKYMIjvTvJfdBVjdE3qRPjNQixB6GRFhDsGHwML5Cqm/iAi1B5WeRIb1OAY\n",
       "/O+GwVOr1bdUI6vsIDtDumEcgkTdnZIwCvgpSdOQAxTDyw89nIFXognOAws0swwmpF7C0t3+dDoL\n",
       "lyxuA88kXq2emCZYbyUR1PhhtNsfEHMPtE4ByW6hCw7L7k3ZaRed3kfFRieWnIiojS4kORGCzat9\n",
       "dPD/AeM+aOhK+T39AAAAAElFTkSuQmCC\n",
       "\" style=\"display:inline;vertical-align:middle;\" /></a><br>(see <a class=\"ProveItLink\" href=\"../__pv_it/88c3b84d5aed0480e2f5afe09fe7ee495ad798980/dependencies.ipynb\">dependencies</a>)<br>"
      ],
      "text/plain": [
       "mult_5_4: (5 * 4) = 20"
      ]
     },
     "execution_count": 2,
     "metadata": {},
     "output_type": "execute_result"
    }
   ],
   "source": [
    "%proving mult_5_4 presuming []"
   ]
  },
  {
   "cell_type": "code",
   "execution_count": null,
   "metadata": {},
   "outputs": [],
   "source": []
  }
 ],
 "metadata": {
  "kernelspec": {
   "display_name": "Python 3",
   "language": "python",
   "name": "python3"
  }
 },
 "nbformat": 4,
 "nbformat_minor": 0
}
