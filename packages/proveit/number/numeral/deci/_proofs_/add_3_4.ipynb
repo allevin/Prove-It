{
 "cells": [
  {
   "cell_type": "markdown",
   "metadata": {},
   "source": [
    "Proof of <a class=\"ProveItLink\" href=\"../../../../_context_.ipynb\">proveit</a>.<a class=\"ProveItLink\" href=\"../../../_context_.ipynb\">number</a>.<a class=\"ProveItLink\" href=\"../../_context_.ipynb\">numeral</a>.<a class=\"ProveItLink\" href=\"../_context_.ipynb\">decimal</a>.<a class=\"ProveItLink\" href=\"../_theorems_.ipynb#add_3_4\">add_3_4</a> theorem\n",
    "========"
   ]
  },
  {
   "cell_type": "code",
   "execution_count": 1,
   "metadata": {},
   "outputs": [],
   "source": [
    "import proveit\n",
    "context = proveit.Context('..') # the theorem's context is in the parent directory"
   ]
  },
  {
   "cell_type": "code",
   "execution_count": 2,
   "metadata": {},
   "outputs": [
    {
     "name": "stdout",
     "output_type": "stream",
     "text": [
      "Beginning proof of add_3_4\n",
      "Recorded 'presuming' information\n",
      "Presuming previous theorems (applied transitively).\n"
     ]
    },
    {
     "data": {
      "text/html": [
       "<strong id=\"add_3_4\">add_3_4:</strong> <a class=\"ProveItLink\" href=\"../__pv_it/e021757b36f640c622a616362db1e673753c85ce0/expr.ipynb\"><img src=\"data:image/png;base64,iVBORw0KGgoAAAANSUhEUgAAAGIAAAAVBAMAAABPrCZEAAAAMFBMVEX////c3NwiIiJERESqqqqY\n",
       "mJh2dnZmZmYQEBDu7u4yMjJUVFTMzMyIiIi6uroAAAAs73DqAAAAAXRSTlMAQObYZgAAAWRJREFU\n",
       "OMtjYCAd8F3AIRGHS8dpBoZjaSboojwbGNgPoAseKktLS2BgWMnAWMDwHt0iJgMGhgXoOuL///+/\n",
       "gYH3AgPbFwZ+BYjYRJjkDaCOMHQdmQwM3AwMHBMYWBA6fKFyjFFAHTPQdQBdlMPA8ArMhrkKpoON\n",
       "C6iD2QFrMJWBWasZUHUEgnSwFWDomAzES0EBk7UBVQfnBZAOFrDX2VeBAURFCRD3QTz6AEUHGwNI\n",
       "B18DuhWcH4DEPzCT4yeKDh+wDp4P6Dp4F0B0MB5gYP4KZFatWqWxahXQS5wJOHQwgdzWwsAw/ydE\n",
       "B9wOlt2793dfgLqKXQkMDEDs+aCwMGVg4F/AwPQRNawYOIAqWDEi/T1IRzrQdQEM7xOw6MAMXX+Q\n",
       "yCMgdi9fghYfbPu/BzBwPUDXcT4AZJgAspAvMmcG9sTOmoDMe4vMycWRP1biyjicC3BISOPSwS2A\n",
       "Q4IRV669g10YAH0yV+TLclhFAAAAAElFTkSuQmCC\n",
       "\" style=\"display:inline;vertical-align:middle;\" /></a><br>(see <a class=\"ProveItLink\" href=\"../__pv_it/e021757b36f640c622a616362db1e673753c85ce0/dependencies.ipynb\">dependencies</a>)<br>"
      ],
      "text/plain": [
       "add_3_4: (3 + 4) = 7"
      ]
     },
     "execution_count": 2,
     "metadata": {},
     "output_type": "execute_result"
    }
   ],
   "source": [
    "%proving add_3_4 presuming []"
   ]
  },
  {
   "cell_type": "code",
   "execution_count": null,
   "metadata": {},
   "outputs": [],
   "source": []
  }
 ],
 "metadata": {
  "kernelspec": {
   "display_name": "Python 3",
   "language": "python",
   "name": "python3"
  }
 },
 "nbformat": 4,
 "nbformat_minor": 0
}
