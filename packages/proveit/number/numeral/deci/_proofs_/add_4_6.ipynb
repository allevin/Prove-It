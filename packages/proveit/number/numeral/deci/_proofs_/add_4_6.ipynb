{
 "cells": [
  {
   "cell_type": "markdown",
   "metadata": {},
   "source": [
    "Proof of <a class=\"ProveItLink\" href=\"../../../../_context_.ipynb\">proveit</a>.<a class=\"ProveItLink\" href=\"../../../_context_.ipynb\">number</a>.<a class=\"ProveItLink\" href=\"../../_context_.ipynb\">numeral</a>.<a class=\"ProveItLink\" href=\"../_context_.ipynb\">decimal</a>.<a class=\"ProveItLink\" href=\"../_theorems_.ipynb#add_4_6\">add_4_6</a> theorem\n",
    "========"
   ]
  },
  {
   "cell_type": "code",
   "execution_count": 1,
   "metadata": {},
   "outputs": [],
   "source": [
    "import proveit\n",
    "context = proveit.Context('..') # the theorem's context is in the parent directory"
   ]
  },
  {
   "cell_type": "code",
   "execution_count": 2,
   "metadata": {},
   "outputs": [
    {
     "name": "stdout",
     "output_type": "stream",
     "text": [
      "Beginning proof of add_4_6\n",
      "Recorded 'presuming' information\n",
      "Presuming previous theorems (applied transitively).\n"
     ]
    },
    {
     "data": {
      "text/html": [
       "<strong id=\"add_4_6\">add_4_6:</strong> <a class=\"ProveItLink\" href=\"../__pv_it/32edb18aac12d642e69f8ddb6f5a6a4bdb88199d0/expr.ipynb\"><img src=\"data:image/png;base64,iVBORw0KGgoAAAANSUhEUgAAAGwAAAAVBAMAAABRZRb3AAAAMFBMVEX////c3NwiIiJERESqqqqY\n",
       "mJh2dnZmZmYQEBDu7u4yMjJUVFTMzMyIiIi6uroAAAAs73DqAAAAAXRSTlMAQObYZgAAAXtJREFU\n",
       "OMtjYCAT8F3AIcH6AJ+203ACCXCmpx1gqMFUzDyBgWH6XZDEShBXGU1a6AC3AgMXhi5Oe6A2PYZJ\n",
       "Bxh4QW7kbYaKT4TSagxcCxhYE9B17d4/gYFXgYF3AQMHUD+D6GKohC/UWz/BqhowrLs/gYFpAwPf\n",
       "R4ZXIF4CmjYuiAYTbNr4Cxh4vjCUgQwXQNPGv+ZuCZBKx6ZNPoGB5y/DUiBnLgOatvmqDEwBDAxe\n",
       "IDb7KjDYgKztG0MfyI0Y2j4wsAG99wKXbd8Y/jEwsBzA0KbAwPqFgeE8bkcCtU1jgGirWrVKY9Wq\n",
       "1SC/AUP/Lw5toCD5ytDCwOC9e/ePvSi2MUNsAzuSXQkMDJAigOUjgymY24zqSBaI36Kw2QaMbjYF\n",
       "aCCjaWMwY5gRgCMCGFQYZhxgeATiZf8vRdXGvn0fkFyHrqu8f3kAw/TcPQwMHALI4r4oSbABd75B\n",
       "Ta9vkTlsF/Dkt5U4ZWbhy6bSOGU24tPGiMspvAdwawIA4ZBxZA7lJ8sAAAAASUVORK5CYII=\n",
       "\" style=\"display:inline;vertical-align:middle;\" /></a><br>(see <a class=\"ProveItLink\" href=\"../__pv_it/32edb18aac12d642e69f8ddb6f5a6a4bdb88199d0/dependencies.ipynb\">dependencies</a>)<br>"
      ],
      "text/plain": [
       "add_4_6: (4 + 6) = 10"
      ]
     },
     "execution_count": 2,
     "metadata": {},
     "output_type": "execute_result"
    }
   ],
   "source": [
    "%proving add_4_6 presuming []"
   ]
  },
  {
   "cell_type": "code",
   "execution_count": null,
   "metadata": {},
   "outputs": [],
   "source": []
  }
 ],
 "metadata": {
  "kernelspec": {
   "display_name": "Python 3",
   "language": "python",
   "name": "python3"
  }
 },
 "nbformat": 4,
 "nbformat_minor": 0
}
