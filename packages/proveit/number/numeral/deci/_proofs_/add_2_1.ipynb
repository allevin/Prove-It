{
 "cells": [
  {
   "cell_type": "markdown",
   "metadata": {},
   "source": [
    "Proof of <a class=\"ProveItLink\" href=\"../../../../_context_.ipynb\">proveit</a>.<a class=\"ProveItLink\" href=\"../../../_context_.ipynb\">number</a>.<a class=\"ProveItLink\" href=\"../../_context_.ipynb\">numeral</a>.<a class=\"ProveItLink\" href=\"../_context_.ipynb\">decimal</a>.<a class=\"ProveItLink\" href=\"../_theorems_.ipynb#add_2_1\">add_2_1</a> theorem\n",
    "========"
   ]
  },
  {
   "cell_type": "code",
   "execution_count": 1,
   "metadata": {},
   "outputs": [],
   "source": [
    "import proveit\n",
    "context = proveit.Context('..') # the theorem's context is in the parent directory"
   ]
  },
  {
   "cell_type": "code",
   "execution_count": 2,
   "metadata": {},
   "outputs": [
    {
     "name": "stdout",
     "output_type": "stream",
     "text": [
      "Beginning proof of add_2_1\n",
      "Recorded 'presuming' information\n",
      "Presuming previous theorems (applied transitively).\n"
     ]
    },
    {
     "data": {
      "text/html": [
       "<strong id=\"add_2_1\">add_2_1:</strong> <a class=\"ProveItLink\" href=\"../__pv_it/10362f3052a3f0618a6225b62b54b9008ac016550/expr.ipynb\"><img src=\"data:image/png;base64,iVBORw0KGgoAAAANSUhEUgAAAGEAAAAVBAMAAACkm51HAAAAMFBMVEX////c3NwiIiJERESqqqqY\n",
       "mJh2dnZmZmYQEBDu7u4yMjJUVFTMzMyIiIi6uroAAAAs73DqAAAAAXRSTlMAQObYZgAAAVBJREFU\n",
       "OMtjYCAd8F3AIRGHS8dpBgbxKjt0UUsGBvYD6II8ackOQGolA+MGhvsOqHKTfwKJBeg6xBn4/jIw\n",
       "8F5g4J7AwPQBIjYRQs3eDdIRhq4j34HhEwMDxwQGjk4G7n8QMV+oHC9Ixwx0Hf5gHa8YGLh+MrBj\n",
       "08HsgBlMQFeVgVlMP7HoYCvA0MG1gYFhKZh1PgGLDhaw19lXgcEGEPvYaiDRB1axmAGLDr4GDDt4\n",
       "gcrBHmA3wKaD5wNm7PVPgOi4DeZVrVqlsWrVatw6ZBgY7AMYWkAOLmAQxOkqdiUwALqC8/8EkA5T\n",
       "oOBxBoZALDpY0SP9FwODvgBDOgMDo1paugIxoXuVge8bA8MjYGT8//8fVQd7xa9SYOA/QNPBUl4F\n",
       "jFQOAWQxX2TODOyJnTUBmfcWmZOLI3+sxJVxOBfgkJDGpYNbAIcEI65cewe7MAAaulnOLikRRgAA\n",
       "AABJRU5ErkJggg==\n",
       "\" style=\"display:inline;vertical-align:middle;\" /></a><br>(see <a class=\"ProveItLink\" href=\"../__pv_it/10362f3052a3f0618a6225b62b54b9008ac016550/dependencies.ipynb\">dependencies</a>)<br>"
      ],
      "text/plain": [
       "add_2_1: (2 + 1) = 3"
      ]
     },
     "execution_count": 2,
     "metadata": {},
     "output_type": "execute_result"
    }
   ],
   "source": [
    "%proving add_2_1 presuming []"
   ]
  },
  {
   "cell_type": "code",
   "execution_count": null,
   "metadata": {},
   "outputs": [],
   "source": []
  }
 ],
 "metadata": {
  "kernelspec": {
   "display_name": "Python 3",
   "language": "python",
   "name": "python3"
  }
 },
 "nbformat": 4,
 "nbformat_minor": 0
}
