{
 "cells": [
  {
   "cell_type": "markdown",
   "metadata": {},
   "source": [
    "Proof of <a class=\"ProveItLink\" href=\"../../../../_context_.ipynb\">proveit</a>.<a class=\"ProveItLink\" href=\"../../../_context_.ipynb\">number</a>.<a class=\"ProveItLink\" href=\"../../_context_.ipynb\">numeral</a>.<a class=\"ProveItLink\" href=\"../_context_.ipynb\">decimal</a>.<a class=\"ProveItLink\" href=\"../_theorems_.ipynb#add_8_9\">add_8_9</a> theorem\n",
    "========"
   ]
  },
  {
   "cell_type": "code",
   "execution_count": 1,
   "metadata": {},
   "outputs": [],
   "source": [
    "import proveit\n",
    "context = proveit.Context('..') # the theorem's context is in the parent directory"
   ]
  },
  {
   "cell_type": "code",
   "execution_count": 2,
   "metadata": {},
   "outputs": [
    {
     "name": "stdout",
     "output_type": "stream",
     "text": [
      "Beginning proof of add_8_9\n",
      "Recorded 'presuming' information\n",
      "Presuming previous theorems (applied transitively).\n"
     ]
    },
    {
     "data": {
      "text/html": [
       "<strong id=\"add_8_9\">add_8_9:</strong> <a class=\"ProveItLink\" href=\"../__pv_it/e3fb5425ed753751c4d6f3aefa7446bf02b0e8480/expr.ipynb\"><img src=\"data:image/png;base64,iVBORw0KGgoAAAANSUhEUgAAAG0AAAAVBAMAAAC+p33JAAAAMFBMVEX////c3NwiIiJERESqqqqY\n",
       "mJh2dnZmZmYQEBDu7u4yMjJUVFTMzMyIiIi6uroAAAAs73DqAAAAAXRSTlMAQObYZgAAAZFJREFU\n",
       "OMudkz1Iw1AQx//FfJja1I6Cgx+LiksGndtNEArdBBc7pWvB0oIoZOiscRHRoV2KNKK0s4KdFTGT\n",
       "gyCKkygdBIuUovGSltbXfAwe3HuX3P3e3bv3HvBfiZo+Dv45kLsBDtTc0M/j/CWw7Q4e0RGZU1WV\n",
       "zCqQhZhi3KEiJmIIuzAproO3LKsDyCb4FKTprmO/t6yGMQV8ehi7uNIh6EANGCWr1ueS3Wm8DKEN\n",
       "SXMlfKJoQGgAbwDX0QWT4UoK5B9gyYsjaZLmSeOte7jytYCMNycpNFRIRWuG5UQNI9/AqmMbjtQG\n",
       "nJigYZd07dpKMJxUwQpxr975SrZF2+Cz2GgzHPjH20/gzpt76HHU0hDtBluGMW8Yp90I6qcft2hb\n",
       "ReCQph02HxAu9+oUZx1R+pz0ZVvLlC8G1BlO/sAU3c51z3xRh6Nec1VwaZZbwBn8zoFzuBfS90KO\n",
       "PQdkNu0Gnw9jhb2TFCJ2L5wiB5JkrqMW8IzYy9v8+yGYQe+v6us5Cny3k76eeiAX8qtGbgRQvz3b\n",
       "cJ/n3ku3AAAAAElFTkSuQmCC\n",
       "\" style=\"display:inline;vertical-align:middle;\" /></a><br>(see <a class=\"ProveItLink\" href=\"../__pv_it/e3fb5425ed753751c4d6f3aefa7446bf02b0e8480/dependencies.ipynb\">dependencies</a>)<br>"
      ],
      "text/plain": [
       "add_8_9: (8 + 9) = 17"
      ]
     },
     "execution_count": 2,
     "metadata": {},
     "output_type": "execute_result"
    }
   ],
   "source": [
    "%proving add_8_9 presuming []"
   ]
  },
  {
   "cell_type": "code",
   "execution_count": null,
   "metadata": {},
   "outputs": [],
   "source": []
  }
 ],
 "metadata": {
  "kernelspec": {
   "display_name": "Python 3",
   "language": "python",
   "name": "python3"
  }
 },
 "nbformat": 4,
 "nbformat_minor": 0
}
