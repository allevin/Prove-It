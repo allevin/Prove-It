{
 "cells": [
  {
   "cell_type": "markdown",
   "metadata": {},
   "source": [
    "Proof of <a class=\"ProveItLink\" href=\"../../../../_context_.ipynb\">proveit</a>.<a class=\"ProveItLink\" href=\"../../../_context_.ipynb\">number</a>.<a class=\"ProveItLink\" href=\"../../_context_.ipynb\">numeral</a>.<a class=\"ProveItLink\" href=\"../_context_.ipynb\">decimal</a>.<a class=\"ProveItLink\" href=\"../_theorems_.ipynb#nat8\">nat8</a> theorem\n",
    "========"
   ]
  },
  {
   "cell_type": "code",
   "execution_count": 1,
   "metadata": {},
   "outputs": [],
   "source": [
    "import proveit\n",
    "context = proveit.Context('..') # the theorem's context is in the parent directory"
   ]
  },
  {
   "cell_type": "code",
   "execution_count": 2,
   "metadata": {},
   "outputs": [
    {
     "name": "stdout",
     "output_type": "stream",
     "text": [
      "Beginning proof of nat8\n",
      "Recorded 'presuming' information\n",
      "Presuming previous theorems (applied transitively).\n"
     ]
    },
    {
     "data": {
      "text/html": [
       "<strong id=\"nat8\">nat8:</strong> <a class=\"ProveItLink\" href=\"../__pv_it/ed830463fcb58888d79b301c9f074d98c1e9267c0/expr.ipynb\"><img src=\"data:image/png;base64,iVBORw0KGgoAAAANSUhEUgAAADMAAAAPBAMAAAC7N+rPAAAAMFBMVEX///+6uroQEBAyMjLMzMzc\n",
       "3NxERESIiIhUVFQiIiKYmJiqqqpmZmZ2dnbu7u4AAAACo3QQAAAAAXRSTlMAQObYZgAAAPFJREFU\n",
       "GNNjYHh79zQDCnj8LfkBw8mfGxgYDjDwLECVy2JJYGD4wMDAtYCBbwKqVKdDOQODAgMDbwNM6rnl\n",
       "zMlgRqMdhwNIivvHA94CkACL1QOorhYPPjuQFEP+r1qwQBhMhqGFu8ANLMXzfypYIBVuVwvDQa4C\n",
       "kNQa5/9AdzLwJSBJcTxoAUpxHWBY/w/IZ9ScORPqjBYGvobHQCmmBwysv0CuaEDSxeDLApR6BGQf\n",
       "Bxk4AVmKawPQfKYABoZWkEAXshTDVaAUtx0D9wWQwEsBmFQiyN0GQELiDCR4WW0cIDLCn4A6+AyQ\n",
       "g467GepCKAAAwOA+fzn7baEAAAAASUVORK5CYII=\n",
       "\" style=\"display:inline;vertical-align:middle;\" /></a><br>(see <a class=\"ProveItLink\" href=\"../__pv_it/ed830463fcb58888d79b301c9f074d98c1e9267c0/dependencies.ipynb\">dependencies</a>)<br>"
      ],
      "text/plain": [
       "nat8: 8 in Naturals"
      ]
     },
     "execution_count": 2,
     "metadata": {},
     "output_type": "execute_result"
    }
   ],
   "source": [
    "%proving nat8 presuming []"
   ]
  },
  {
   "cell_type": "code",
   "execution_count": null,
   "metadata": {},
   "outputs": [],
   "source": []
  }
 ],
 "metadata": {
  "kernelspec": {
   "display_name": "Python 3",
   "language": "python",
   "name": "python3"
  }
 },
 "nbformat": 4,
 "nbformat_minor": 0
}
