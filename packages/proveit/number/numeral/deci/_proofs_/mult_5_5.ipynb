{
 "cells": [
  {
   "cell_type": "markdown",
   "metadata": {},
   "source": [
    "Proof of <a class=\"ProveItLink\" href=\"../../../../_context_.ipynb\">proveit</a>.<a class=\"ProveItLink\" href=\"../../../_context_.ipynb\">number</a>.<a class=\"ProveItLink\" href=\"../../_context_.ipynb\">numeral</a>.<a class=\"ProveItLink\" href=\"../_context_.ipynb\">deci</a>.<a class=\"ProveItLink\" href=\"../_theorems_.ipynb#mult_5_5\">mult_5_5</a> theorem\n",
    "========"
   ]
  },
  {
   "cell_type": "code",
   "execution_count": 1,
   "metadata": {},
   "outputs": [],
   "source": [
    "import proveit\n",
    "context = proveit.Context('..') # the theorem's context is in the parent directory"
   ]
  },
  {
   "cell_type": "code",
   "execution_count": 2,
   "metadata": {},
   "outputs": [
    {
     "name": "stdout",
     "output_type": "stream",
     "text": [
      "Beginning proof of mult_5_5\n",
      "Recorded 'presuming' information\n",
      "Presuming previous theorems (applied transitively).\n"
     ]
    },
    {
     "data": {
      "text/html": [
       "<strong id=\"mult_5_5\">mult_5_5:</strong> <a class=\"ProveItLink\" href=\"../__pv_it/b6965f880fd7a2f95ce837e13020fe99cea815f00/expr.ipynb\"><img src=\"data:image/png;base64,iVBORw0KGgoAAAANSUhEUgAAAGEAAAAVBAMAAACkm51HAAAAMFBMVEX////c3NwiIiJERESqqqqY\n",
       "mJh2dnZmZmYQEBDu7u4yMjJUVFTMzMyIiIi6uroAAAAs73DqAAAAAXRSTlMAQObYZgAAAXdJREFU\n",
       "OMtjYCAd8F3AFIvDq+M0A8PSCWIOMC5XJGMKA/sBdFWM5YsfQOQYGFYyMPT//waX4vj/P4GBYQG6\n",
       "DmkG3i9QOV6go5ZvQ5jJVZ0DJMPQdexkYNCHynFMYGDYgCTFDSZnoOvomMCw/wFE7hUDNh3MDmg6\n",
       "1k9gqIfqKAPivXf3IXTcvf2AgYGtADOI9CdA5JYC2ZYM8x/AxJkncP5jYGABe71qFQishkjwfIPK\n",
       "9UFMbgASnBMgcjuAkdSAYQWXAVTuH5jL9gdIzFeAyOUfYOD5gKGjGCYH1MGswMAG0jgDZIoRUPQB\n",
       "Fh28G2ByLcAAVmBg/wiTaWJgqBeAuqpICQSUweLuDIwCEDlTBgZ2oCPhkQwMpFUMDKzokc5TwMAq\n",
       "AJFLB6aZAgYPAZiUOANLI5bQFUpLK4LKPQJyj1dvRBhWvhuom+sBemT8//8JKschgC1Bz8CT2FkT\n",
       "sInm4ssfK7GIcS7Ap0Maixi3AD4djFhy7R086gElyGShHDvgpQAAAABJRU5ErkJggg==\n",
       "\" style=\"display:inline;vertical-align:middle;\" /></a><br>(see <a class=\"ProveItLink\" href=\"../__pv_it/b6965f880fd7a2f95ce837e13020fe99cea815f00/dependencies.ipynb\">dependencies</a>)<br>"
      ],
      "text/plain": [
       "mult_5_5: (5 * 5) = 25"
      ]
     },
     "execution_count": 2,
     "metadata": {},
     "output_type": "execute_result"
    }
   ],
   "source": [
    "%proving mult_5_5 presuming []"
   ]
  },
  {
   "cell_type": "code",
   "execution_count": null,
   "metadata": {},
   "outputs": [],
   "source": []
  }
 ],
 "metadata": {
  "kernelspec": {
   "display_name": "Python 3",
   "language": "python",
   "name": "python3"
  }
 },
 "nbformat": 4,
 "nbformat_minor": 0
}
