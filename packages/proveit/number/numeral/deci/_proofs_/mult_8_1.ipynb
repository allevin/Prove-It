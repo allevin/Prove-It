{
 "cells": [
  {
   "cell_type": "markdown",
   "metadata": {},
   "source": [
    "Proof of <a class=\"ProveItLink\" href=\"../../../../_context_.ipynb\">proveit</a>.<a class=\"ProveItLink\" href=\"../../../_context_.ipynb\">number</a>.<a class=\"ProveItLink\" href=\"../../_context_.ipynb\">numeral</a>.<a class=\"ProveItLink\" href=\"../_context_.ipynb\">deci</a>.<a class=\"ProveItLink\" href=\"../_theorems_.ipynb#mult_8_1\">mult_8_1</a> theorem\n",
    "========"
   ]
  },
  {
   "cell_type": "code",
   "execution_count": 1,
   "metadata": {},
   "outputs": [],
   "source": [
    "import proveit\n",
    "context = proveit.Context('..') # the theorem's context is in the parent directory"
   ]
  },
  {
   "cell_type": "code",
   "execution_count": 2,
   "metadata": {},
   "outputs": [
    {
     "name": "stdout",
     "output_type": "stream",
     "text": [
      "Beginning proof of mult_8_1\n",
      "Recorded 'presuming' information\n",
      "Presuming previous theorems (applied transitively).\n"
     ]
    },
    {
     "data": {
      "text/html": [
       "<strong id=\"mult_8_1\">mult_8_1:</strong> <a class=\"ProveItLink\" href=\"../__pv_it/b01f5979d986bcf4c6b49cd09fb5cea098bafe2a0/expr.ipynb\"><img src=\"data:image/png;base64,iVBORw0KGgoAAAANSUhEUgAAAFcAAAAVBAMAAADBdm84AAAAMFBMVEX////c3NwiIiJERESqqqqY\n",
       "mJh2dnZmZmYQEBDu7u4yMjJUVFTMzMyIiIi6uroAAAAs73DqAAAAAXRSTlMAQObYZgAAAVZJREFU\n",
       "KM9jYCAJ8F3AFIvDpfg0A8O0tBIkAUsGBvYD6Ko409IdgNRKBoYCBvYAuPDkn0BiAbpidgaGUgYG\n",
       "3gsMrAEMnAow0dm7QYrD0BWHMjBMYmDgmMDAtgFJMQMvSPEMdMXZYMWvGBhYfk9gu4CqmNkBTbH/\n",
       "ToZcBoYyIMv+6zUGVMVsBWiKmf/HJjAwLAW5/r8immIWsA+rVoHAarBw/ScBBoY+ICP81H+QtZwT\n",
       "4Ir5GtBMZq1Z/4WB4R+QUcAQD1IxXwGumOcDmuJwBtb/E0CKgQHC+BUUBAa4FXcyMMgHMLRAwqkW\n",
       "1c0QZxQpgYAyyIVAPvsFBlOgyUCnb0RVzIoehY0MDNwCDOlAr69kYEkgEHReExjcGBgeAVmvyxEJ\n",
       "ib3iFzARcD1AT5vbyx0gbsAEM7CnUNYEbKK5ONLzSixinAtwKJbGIsYtgEMxI5ZsdQe7UgAsF1XB\n",
       "nXiU6QAAAABJRU5ErkJggg==\n",
       "\" style=\"display:inline;vertical-align:middle;\" /></a><br>(see <a class=\"ProveItLink\" href=\"../__pv_it/b01f5979d986bcf4c6b49cd09fb5cea098bafe2a0/dependencies.ipynb\">dependencies</a>)<br>"
      ],
      "text/plain": [
       "mult_8_1: (8 * 1) = 8"
      ]
     },
     "execution_count": 2,
     "metadata": {},
     "output_type": "execute_result"
    }
   ],
   "source": [
    "%proving mult_8_1 presuming []"
   ]
  },
  {
   "cell_type": "code",
   "execution_count": null,
   "metadata": {},
   "outputs": [],
   "source": []
  }
 ],
 "metadata": {
  "kernelspec": {
   "display_name": "Python 3",
   "language": "python",
   "name": "python3"
  }
 },
 "nbformat": 4,
 "nbformat_minor": 0
}
