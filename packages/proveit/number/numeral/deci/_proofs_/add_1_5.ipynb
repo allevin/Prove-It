{
 "cells": [
  {
   "cell_type": "markdown",
   "metadata": {},
   "source": [
    "Proof of <a class=\"ProveItLink\" href=\"../../../../_context_.ipynb\">proveit</a>.<a class=\"ProveItLink\" href=\"../../../_context_.ipynb\">number</a>.<a class=\"ProveItLink\" href=\"../../_context_.ipynb\">numeral</a>.<a class=\"ProveItLink\" href=\"../_context_.ipynb\">decimal</a>.<a class=\"ProveItLink\" href=\"../_theorems_.ipynb#add_1_5\">add_1_5</a> theorem\n",
    "========"
   ]
  },
  {
   "cell_type": "code",
   "execution_count": 1,
   "metadata": {},
   "outputs": [],
   "source": [
    "import proveit\n",
    "context = proveit.Context('..') # the theorem's context is in the parent directory"
   ]
  },
  {
   "cell_type": "code",
   "execution_count": 2,
   "metadata": {},
   "outputs": [
    {
     "name": "stdout",
     "output_type": "stream",
     "text": [
      "Beginning proof of add_1_5\n",
      "Recorded 'presuming' information\n",
      "Presuming previous theorems (applied transitively).\n"
     ]
    },
    {
     "data": {
      "text/html": [
       "<strong id=\"add_1_5\">add_1_5:</strong> <a class=\"ProveItLink\" href=\"../__pv_it/ad3470c94bd76700064f36d66b0d589631da2b7b0/expr.ipynb\"><img src=\"data:image/png;base64,iVBORw0KGgoAAAANSUhEUgAAAGEAAAAVBAMAAACkm51HAAAAMFBMVEX////c3NwiIiJERESqqqqY\n",
       "mJh2dnZmZmYQEBDu7u4yMjJUVFTMzMyIiIi6uroAAAAs73DqAAAAAXRSTlMAQObYZgAAAU5JREFU\n",
       "OMtjYCAd8F3AIRGHS8dpIGaegCrGFcmYwsB+AEPttLIcILmSgYHTHk0Hx///CQwMC9A1MOowbGJg\n",
       "4L3AwLl7P0zHRKgd1SCzwtB1MCUwrAIaB1J8H6bDF0Jxg8kZ6DriwcpeMeDUweyApmMFmCzDquPu\n",
       "7QcMDGwFaDp+nb0ONGQpNh3MEzj/MTCwgL3OvgoMNgAD6FMAgyoDQx82HUCwAxhTDahWcP5nYMif\n",
       "wPAPh478Aww8H9B0fAJ63gFZR9WqVRqrVq0GsoyAOh5g6GD4BdRxgaEFmx1NDAz1AlBXsSuBgQHE\n",
       "IKAdpth0AAMJGFWs6JHuD/ZHOjYd4gwsjVhClzmBs5WB4RGQVd6/PABFB0/5bgFgWnmAHunV1UAh\n",
       "DgFkIV9kzgzsiZ01AZn3FpmTiyN/rMSVcTgX4JCQxqWDWwCHBCOuXHsHuzAAmAteaYocDe8AAAAA\n",
       "SUVORK5CYII=\n",
       "\" style=\"display:inline;vertical-align:middle;\" /></a><br>(see <a class=\"ProveItLink\" href=\"../__pv_it/ad3470c94bd76700064f36d66b0d589631da2b7b0/dependencies.ipynb\">dependencies</a>)<br>"
      ],
      "text/plain": [
       "add_1_5: (1 + 5) = 6"
      ]
     },
     "execution_count": 2,
     "metadata": {},
     "output_type": "execute_result"
    }
   ],
   "source": [
    "%proving add_1_5 presuming []"
   ]
  },
  {
   "cell_type": "code",
   "execution_count": null,
   "metadata": {},
   "outputs": [],
   "source": []
  }
 ],
 "metadata": {
  "kernelspec": {
   "display_name": "Python 3",
   "language": "python",
   "name": "python3"
  }
 },
 "nbformat": 4,
 "nbformat_minor": 0
}
