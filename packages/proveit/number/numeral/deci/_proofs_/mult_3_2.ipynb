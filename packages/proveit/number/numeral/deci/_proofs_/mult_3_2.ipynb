{
 "cells": [
  {
   "cell_type": "markdown",
   "metadata": {},
   "source": [
    "Proof of <a class=\"ProveItLink\" href=\"../../../../_context_.ipynb\">proveit</a>.<a class=\"ProveItLink\" href=\"../../../_context_.ipynb\">number</a>.<a class=\"ProveItLink\" href=\"../../_context_.ipynb\">numeral</a>.<a class=\"ProveItLink\" href=\"../_context_.ipynb\">deci</a>.<a class=\"ProveItLink\" href=\"../_theorems_.ipynb#mult_3_2\">mult_3_2</a> theorem\n",
    "========"
   ]
  },
  {
   "cell_type": "code",
   "execution_count": 1,
   "metadata": {},
   "outputs": [],
   "source": [
    "import proveit\n",
    "context = proveit.Context('..') # the theorem's context is in the parent directory"
   ]
  },
  {
   "cell_type": "code",
   "execution_count": 2,
   "metadata": {},
   "outputs": [
    {
     "name": "stdout",
     "output_type": "stream",
     "text": [
      "Beginning proof of mult_3_2\n",
      "Recorded 'presuming' information\n",
      "Presuming previous theorems (applied transitively).\n"
     ]
    },
    {
     "data": {
      "text/html": [
       "<strong id=\"mult_3_2\">mult_3_2:</strong> <a class=\"ProveItLink\" href=\"../__pv_it/58d0a9dfdd0889caad688bd80aa172b573ce10af0/expr.ipynb\"><img src=\"data:image/png;base64,iVBORw0KGgoAAAANSUhEUgAAAFcAAAAVBAMAAADBdm84AAAAMFBMVEX////c3NwiIiJERESqqqqY\n",
       "mJh2dnZmZmYQEBDu7u4yMjJUVFTMzMyIiIi6uroAAAAs73DqAAAAAXRSTlMAQObYZgAAAXJJREFU\n",
       "KM+Vkz9IAzEUxr+0vXpXW3u4dhHFTWgR3bs52slRb6ogikeFFuygg4KTZJLbLKhg62Bxc7KTiwjd\n",
       "dHA4HF2qpQrt4Jmk9o9pbvANj5fvfvfyXvIC/Msm6qPaqh/8ANxnF/pLUjhzMVYbwU7ym8yXQWw0\n",
       "+ukTiLWAksySOdwAsTrCLcSneuotkARWZDhgoQLoFKFh+IjizoUjw2uU+zcRD8q4pthzEUxL8KXw\n",
       "eeGvhj8kKcK2BHcen9j/FyyKblSH9OgXEBId7la48URGM4NZ4FgAzy5XRF2IpNjh7/9NbHjANsW3\n",
       "WOht5k67Xe7w7O8S3GQ9pjlMagh+MsVJcT1WVcDoMLiOA5ax3YW7tgRi/paRm+Y2w8N5kXkRiJcQ\n",
       "+Oi3Z0MzoclXuCxqXmcbZ9CweupkNpvD6NEFLeMQeOU7F84Hh+x5rJmIK19hscgk3VSNoqOeUM1S\n",
       "qVs+81xWaEbJB04otHHTByaKZ/WiRn8ApjlbAH684hEAAAAASUVORK5CYII=\n",
       "\" style=\"display:inline;vertical-align:middle;\" /></a><br>(see <a class=\"ProveItLink\" href=\"../__pv_it/58d0a9dfdd0889caad688bd80aa172b573ce10af0/dependencies.ipynb\">dependencies</a>)<br>"
      ],
      "text/plain": [
       "mult_3_2: (3 * 2) = 6"
      ]
     },
     "execution_count": 2,
     "metadata": {},
     "output_type": "execute_result"
    }
   ],
   "source": [
    "%proving mult_3_2 presuming []"
   ]
  },
  {
   "cell_type": "code",
   "execution_count": null,
   "metadata": {},
   "outputs": [],
   "source": []
  }
 ],
 "metadata": {
  "kernelspec": {
   "display_name": "Python 3",
   "language": "python",
   "name": "python3"
  }
 },
 "nbformat": 4,
 "nbformat_minor": 0
}
