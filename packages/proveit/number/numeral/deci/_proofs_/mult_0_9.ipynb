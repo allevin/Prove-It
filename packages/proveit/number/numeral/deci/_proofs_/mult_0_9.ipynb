{
 "cells": [
  {
   "cell_type": "markdown",
   "metadata": {},
   "source": [
    "Proof of <a class=\"ProveItLink\" href=\"../../../../_context_.ipynb\">proveit</a>.<a class=\"ProveItLink\" href=\"../../../_context_.ipynb\">number</a>.<a class=\"ProveItLink\" href=\"../../_context_.ipynb\">numeral</a>.<a class=\"ProveItLink\" href=\"../_context_.ipynb\">deci</a>.<a class=\"ProveItLink\" href=\"../_theorems_.ipynb#mult_0_9\">mult_0_9</a> theorem\n",
    "========"
   ]
  },
  {
   "cell_type": "code",
   "execution_count": 1,
   "metadata": {},
   "outputs": [],
   "source": [
    "import proveit\n",
    "context = proveit.Context('..') # the theorem's context is in the parent directory"
   ]
  },
  {
   "cell_type": "code",
   "execution_count": 2,
   "metadata": {},
   "outputs": [
    {
     "name": "stdout",
     "output_type": "stream",
     "text": [
      "Beginning proof of mult_0_9\n",
      "Recorded 'presuming' information\n",
      "Presuming previous theorems (applied transitively).\n"
     ]
    },
    {
     "data": {
      "text/html": [
       "<strong id=\"mult_0_9\">mult_0_9:</strong> <a class=\"ProveItLink\" href=\"../__pv_it/8474ab1b73ccda3994bb43b9990249503d4b0cd00/expr.ipynb\"><img src=\"data:image/png;base64,iVBORw0KGgoAAAANSUhEUgAAAFcAAAAVBAMAAADBdm84AAAAMFBMVEX////c3NwiIiJERESqqqqY\n",
       "mJh2dnZmZmYQEBDu7u4yMjJUVFTMzMyIiIi6uroAAAAs73DqAAAAAXRSTlMAQObYZgAAAWtJREFU\n",
       "KM+Vk79LAmEYxz+ammdqNwYNSbUV0VDQ1v0HObUVR0tDSNJgEUUFjRFHi9KSS4O2BA0tDe4NHS5B\n",
       "GUpjS0llECS9p95p5+vQM7y8930+PO/z6+BfFjW7teVe8C2kn3acT+V6rUB/wU0pu/eWloMpThzv\n",
       "kOY5gKwb9laUSYiYRGJEHO8cXMGiGy7CAwQNvJdEq7b6DesGGTc8Aa8qLzCYJPxh5/YO5Qp9mgv+\n",
       "gjuNFIzohH86I8cJJP+ynpqATc6bcM2Wt2DexNeoYTtv2YUN6xy3YcUQx2nct2cS3ZdE1qm30ziL\n",
       "WfpSqawRfpOmUW8W+CmUzHTTI7rhhhsFxjnEap2v2uHI00pjY9SysVbrFlRmsYYSiNlkWfWIx/zZ\n",
       "7qGswKq4jZNxxl00QmKz3K3DqylH8Cxu6cSNowY2Z8QZqrgXKfUo4gVV2Spm5Bvq12Vqosc+5ySa\n",
       "ku0BD0u0AbUH7JH8ViU5+gveAmNbK2UfawAAAABJRU5ErkJggg==\n",
       "\" style=\"display:inline;vertical-align:middle;\" /></a><br>(see <a class=\"ProveItLink\" href=\"../__pv_it/8474ab1b73ccda3994bb43b9990249503d4b0cd00/dependencies.ipynb\">dependencies</a>)<br>"
      ],
      "text/plain": [
       "mult_0_9: (0 * 9) = 0"
      ]
     },
     "execution_count": 2,
     "metadata": {},
     "output_type": "execute_result"
    }
   ],
   "source": [
    "%proving mult_0_9 presuming []"
   ]
  },
  {
   "cell_type": "code",
   "execution_count": null,
   "metadata": {},
   "outputs": [],
   "source": []
  }
 ],
 "metadata": {
  "kernelspec": {
   "display_name": "Python 3",
   "language": "python",
   "name": "python3"
  }
 },
 "nbformat": 4,
 "nbformat_minor": 0
}
