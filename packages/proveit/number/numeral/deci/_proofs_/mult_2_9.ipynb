{
 "cells": [
  {
   "cell_type": "markdown",
   "metadata": {},
   "source": [
    "Proof of <a class=\"ProveItLink\" href=\"../../../../_context_.ipynb\">proveit</a>.<a class=\"ProveItLink\" href=\"../../../_context_.ipynb\">number</a>.<a class=\"ProveItLink\" href=\"../../_context_.ipynb\">numeral</a>.<a class=\"ProveItLink\" href=\"../_context_.ipynb\">deci</a>.<a class=\"ProveItLink\" href=\"../_theorems_.ipynb#mult_2_9\">mult_2_9</a> theorem\n",
    "========"
   ]
  },
  {
   "cell_type": "code",
   "execution_count": 1,
   "metadata": {},
   "outputs": [],
   "source": [
    "import proveit\n",
    "context = proveit.Context('..') # the theorem's context is in the parent directory"
   ]
  },
  {
   "cell_type": "code",
   "execution_count": 2,
   "metadata": {},
   "outputs": [
    {
     "name": "stdout",
     "output_type": "stream",
     "text": [
      "Beginning proof of mult_2_9\n",
      "Recorded 'presuming' information\n",
      "Presuming previous theorems (applied transitively).\n"
     ]
    },
    {
     "data": {
      "text/html": [
       "<strong id=\"mult_2_9\">mult_2_9:</strong> <a class=\"ProveItLink\" href=\"../__pv_it/7d967c33d5f2a7875ce30eb878223b298ba48c530/expr.ipynb\"><img src=\"data:image/png;base64,iVBORw0KGgoAAAANSUhEUgAAAGEAAAAVBAMAAACkm51HAAAAMFBMVEX////c3NwiIiJERESqqqqY\n",
       "mJh2dnZmZmYQEBDu7u4yMjJUVFTMzMyIiIi6uroAAAAs73DqAAAAAXRSTlMAQObYZgAAAY9JREFU\n",
       "OMuVkzEsA1EYx3+nrev1tDkTiYGQmA0kLNxksKgBU6VTO4hoJKVpJEgsFrmwNAyaiAEDiaERSzeD\n",
       "wcVK0sZoEiw1OK/HNdK+XOINX973/b9fvve+9z34/4rZrbEFX+IOuvLjDVcrLZZRy615Y0JLpU2x\n",
       "O0W5pGJ6QrepbEGxBdivgQpZiNroFm2vnjIKVzDXDBzeCGIW9iBsEd5B//KkT1i2KLTUiApi0SVe\n",
       "IFJD9QjtHSpVAqaMmL5mCVZdv632t0ac9oyMCDiJJJy4/n3SU3IwYRN0r54/q6/zBsHGmwG7rn/s\n",
       "nsgS5iAe3LCJbcpqhNYvPsC9gDpUt0d9dZt4Eq3ueJUR84Qc64d4dIOFoR9R9EpO7EBvnG3hBTN0\n",
       "/hHP+D3VSn99DXiEJoKqzYjwbmHGS68YiigbKspqiGHQDdKgDKbSfZ7yYEXEaMq7O2UxCc/iMRzH\n",
       "aRDta8PCRqpNgJr7zBIrrYmXDRuygS74DHsoKYsu+f2PU0lMK/oRPZKYbvgRiuTXPvnkfwMn8GpR\n",
       "nCBf1wAAAABJRU5ErkJggg==\n",
       "\" style=\"display:inline;vertical-align:middle;\" /></a><br>(see <a class=\"ProveItLink\" href=\"../__pv_it/7d967c33d5f2a7875ce30eb878223b298ba48c530/dependencies.ipynb\">dependencies</a>)<br>"
      ],
      "text/plain": [
       "mult_2_9: (2 * 9) = 18"
      ]
     },
     "execution_count": 2,
     "metadata": {},
     "output_type": "execute_result"
    }
   ],
   "source": [
    "%proving mult_2_9 presuming []"
   ]
  },
  {
   "cell_type": "code",
   "execution_count": null,
   "metadata": {},
   "outputs": [],
   "source": []
  }
 ],
 "metadata": {
  "kernelspec": {
   "display_name": "Python 3",
   "language": "python",
   "name": "python3"
  }
 },
 "nbformat": 4,
 "nbformat_minor": 0
}
