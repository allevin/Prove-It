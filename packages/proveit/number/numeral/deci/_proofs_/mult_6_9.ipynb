{
 "cells": [
  {
   "cell_type": "markdown",
   "metadata": {},
   "source": [
    "Proof of <a class=\"ProveItLink\" href=\"../../../../_context_.ipynb\">proveit</a>.<a class=\"ProveItLink\" href=\"../../../_context_.ipynb\">number</a>.<a class=\"ProveItLink\" href=\"../../_context_.ipynb\">numeral</a>.<a class=\"ProveItLink\" href=\"../_context_.ipynb\">deci</a>.<a class=\"ProveItLink\" href=\"../_theorems_.ipynb#mult_6_9\">mult_6_9</a> theorem\n",
    "========"
   ]
  },
  {
   "cell_type": "code",
   "execution_count": 1,
   "metadata": {},
   "outputs": [],
   "source": [
    "import proveit\n",
    "context = proveit.Context('..') # the theorem's context is in the parent directory"
   ]
  },
  {
   "cell_type": "code",
   "execution_count": 2,
   "metadata": {},
   "outputs": [
    {
     "name": "stdout",
     "output_type": "stream",
     "text": [
      "Beginning proof of mult_6_9\n",
      "Recorded 'presuming' information\n",
      "Presuming previous theorems (applied transitively).\n"
     ]
    },
    {
     "data": {
      "text/html": [
       "<strong id=\"mult_6_9\">mult_6_9:</strong> <a class=\"ProveItLink\" href=\"../__pv_it/20c5ab4dfac69b5e71e2409b45c18982b8c2f86e0/expr.ipynb\"><img src=\"data:image/png;base64,iVBORw0KGgoAAAANSUhEUgAAAGEAAAAVBAMAAACkm51HAAAAMFBMVEX////c3NwiIiJERESqqqqY\n",
       "mJh2dnZmZmYQEBDu7u4yMjJUVFTMzMyIiIi6uroAAAAs73DqAAAAAXRSTlMAQObYZgAAAZ1JREFU\n",
       "OMuVk79Lw1AQx79pm7RJaxtEUHApis5FVNzsH+BQF0FB6SB2UGkRsaKDrbgJkrG42MWh1UFwqFCw\n",
       "2V2Ck2BLi5tOBQVRsPVeSKomIeAN717ue5/c+3EP+L+FNXtsxZW4A8TUmmp+ipV1FX7VmiUtcqvk\n",
       "Qlc0lIB+NRg1paE4lweKViLQ7SbJeWJAHy1qHFIvZQa4BhZsNfY3mHsgIqCA//glfQJpBQUrEdRH\n",
       "bomIF+JzP4r4CjRb8MYdCUEiYgeIXDa2/9RIQMhYicZjC5hnxDlwNgZPwpR2gVkNPn1fe2VmF2zq\n",
       "VcQORI0RJ0S0IbCtiAoNpwnfgYZwzn4NNxDAiA4RUfBv0D3Zcr0ZR6htJ9LqnElEiuC/KFSIGZJi\n",
       "JyYo/JzUiSNao1HDtDKMVW2NMBtl00PgYKBarR1rmAJ8xj50a8ocleWtl57Rf4QA1UiRn0ahd1b3\n",
       "ikRdYDvdQfjyBvFE3l+57UlCdpI1RctChLJVmcTaewIB2amhCy7Nziedoptu76PkEBOLbsSwQywo\n",
       "uxGcw6utu+R/A1s/ZkBwgSHCAAAAAElFTkSuQmCC\n",
       "\" style=\"display:inline;vertical-align:middle;\" /></a><br>(see <a class=\"ProveItLink\" href=\"../__pv_it/20c5ab4dfac69b5e71e2409b45c18982b8c2f86e0/dependencies.ipynb\">dependencies</a>)<br>"
      ],
      "text/plain": [
       "mult_6_9: (6 * 9) = 54"
      ]
     },
     "execution_count": 2,
     "metadata": {},
     "output_type": "execute_result"
    }
   ],
   "source": [
    "%proving mult_6_9 presuming []"
   ]
  },
  {
   "cell_type": "code",
   "execution_count": null,
   "metadata": {},
   "outputs": [],
   "source": []
  }
 ],
 "metadata": {
  "kernelspec": {
   "display_name": "Python 3",
   "language": "python",
   "name": "python3"
  }
 },
 "nbformat": 4,
 "nbformat_minor": 0
}
