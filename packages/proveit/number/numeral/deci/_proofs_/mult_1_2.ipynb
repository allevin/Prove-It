{
 "cells": [
  {
   "cell_type": "markdown",
   "metadata": {},
   "source": [
    "Proof of <a class=\"ProveItLink\" href=\"../../../../_context_.ipynb\">proveit</a>.<a class=\"ProveItLink\" href=\"../../../_context_.ipynb\">number</a>.<a class=\"ProveItLink\" href=\"../../_context_.ipynb\">numeral</a>.<a class=\"ProveItLink\" href=\"../_context_.ipynb\">deci</a>.<a class=\"ProveItLink\" href=\"../_theorems_.ipynb#mult_1_2\">mult_1_2</a> theorem\n",
    "========"
   ]
  },
  {
   "cell_type": "code",
   "execution_count": 1,
   "metadata": {},
   "outputs": [],
   "source": [
    "import proveit\n",
    "context = proveit.Context('..') # the theorem's context is in the parent directory"
   ]
  },
  {
   "cell_type": "code",
   "execution_count": 2,
   "metadata": {},
   "outputs": [
    {
     "name": "stdout",
     "output_type": "stream",
     "text": [
      "Beginning proof of mult_1_2\n",
      "Recorded 'presuming' information\n",
      "Presuming previous theorems (applied transitively).\n"
     ]
    },
    {
     "data": {
      "text/html": [
       "<strong id=\"mult_1_2\">mult_1_2:</strong> <a class=\"ProveItLink\" href=\"../__pv_it/fa57aacdebccac68bd6a2c4c50f2eb8e7102aaa60/expr.ipynb\"><img src=\"data:image/png;base64,iVBORw0KGgoAAAANSUhEUgAAAFcAAAAVBAMAAADBdm84AAAAMFBMVEX////c3NwiIiJERESqqqqY\n",
       "mJh2dnZmZmYQEBDu7u4yMjJUVFTMzMyIiIi6uroAAAAs73DqAAAAAXRSTlMAQObYZgAAAR9JREFU\n",
       "KM9jYCAJ8F3AFIvDpfg0EDNPgHMZyxc/YGA/gK4KLMzAsJKBgdMeoViagfcLA8MCdMUQYd4LDJy7\n",
       "9yMU72Rg0GdgCENXDBHmAKm7j1DcMYFh/wOGGeiKIcKvGFAVr5/AUP+AgdkBTTFEuAxNMRDoT2Bg\n",
       "K8AMCaDwUgzFPN8YGFjAPqxaBQKrEcJ9CMWcEC1cBsDAb8AwGCT8D6F4vgJYtBhkzAcMxSBhJMUz\n",
       "DEAk7wasisHCLehudmdgFIA6o0gJBJQRwqZoinkKGFgFGFjRoxAinI6mWCgtrYgBM+ggwo+ArPL+\n",
       "5QHw0Pz//xPQ6w/QAxkszCGALSnOwJ5CWROwiebiSM8rsYhxLsChWBqLGLcADsWMWLLVHexKAdfT\n",
       "V45jFfkQAAAAAElFTkSuQmCC\n",
       "\" style=\"display:inline;vertical-align:middle;\" /></a><br>(see <a class=\"ProveItLink\" href=\"../__pv_it/fa57aacdebccac68bd6a2c4c50f2eb8e7102aaa60/dependencies.ipynb\">dependencies</a>)<br>"
      ],
      "text/plain": [
       "mult_1_2: (1 * 2) = 2"
      ]
     },
     "execution_count": 2,
     "metadata": {},
     "output_type": "execute_result"
    }
   ],
   "source": [
    "%proving mult_1_2 presuming []"
   ]
  },
  {
   "cell_type": "code",
   "execution_count": null,
   "metadata": {},
   "outputs": [],
   "source": []
  }
 ],
 "metadata": {
  "kernelspec": {
   "display_name": "Python 3",
   "language": "python",
   "name": "python3"
  }
 },
 "nbformat": 4,
 "nbformat_minor": 0
}
