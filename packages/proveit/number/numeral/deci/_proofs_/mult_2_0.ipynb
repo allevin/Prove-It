{
 "cells": [
  {
   "cell_type": "markdown",
   "metadata": {},
   "source": [
    "Proof of <a class=\"ProveItLink\" href=\"../../../../_context_.ipynb\">proveit</a>.<a class=\"ProveItLink\" href=\"../../../_context_.ipynb\">number</a>.<a class=\"ProveItLink\" href=\"../../_context_.ipynb\">numeral</a>.<a class=\"ProveItLink\" href=\"../_context_.ipynb\">deci</a>.<a class=\"ProveItLink\" href=\"../_theorems_.ipynb#mult_2_0\">mult_2_0</a> theorem\n",
    "========"
   ]
  },
  {
   "cell_type": "code",
   "execution_count": 1,
   "metadata": {},
   "outputs": [],
   "source": [
    "import proveit\n",
    "context = proveit.Context('..') # the theorem's context is in the parent directory"
   ]
  },
  {
   "cell_type": "code",
   "execution_count": 2,
   "metadata": {},
   "outputs": [
    {
     "name": "stdout",
     "output_type": "stream",
     "text": [
      "Beginning proof of mult_2_0\n",
      "Recorded 'presuming' information\n",
      "Presuming previous theorems (applied transitively).\n"
     ]
    },
    {
     "data": {
      "text/html": [
       "<strong id=\"mult_2_0\">mult_2_0:</strong> <a class=\"ProveItLink\" href=\"../__pv_it/bb22958d37261286e5a50c78e42a6b55e572424d0/expr.ipynb\"><img src=\"data:image/png;base64,iVBORw0KGgoAAAANSUhEUgAAAFcAAAAVBAMAAADBdm84AAAAMFBMVEX////c3NwiIiJERESqqqqY\n",
       "mJh2dnZmZmYQEBDu7u4yMjJUVFTMzMyIiIi6uroAAAAs73DqAAAAAXRSTlMAQObYZgAAAUNJREFU\n",
       "KM9jYCAJ8F3AFIvDpfg0A4N4lR2cy1l7/QAD+wF0VWBhBoaVDIwbGO47wESZHnDqMDAsQFcMEea9\n",
       "wMA9gYHpA0z0EgPDLQaGMHTFEGGOCQwcnQzc/2Ci2gwM7wUYZqArhgi/YmDg+snADlf8nYHhvAMD\n",
       "swOaYohwGcRJP6GCjN+AohcY2ApQ1UKFl4I55xOQRRMYWMA+rFoFAqsRwn1gNYvBwTMBLsrXgMXk\n",
       "BAawY9kNQOR8Bbh9PB+wOgOs+DZYZIYB1CcBGIqhwi1AFksBgyBSGPkLQJ1RpAQCyghhUyDrOAND\n",
       "IFLoJzEwsC7AjBSgcDrQQWpp6QrweHXg7GHACDqo8CMg4////3DFnGW3gSmG6wF6QgILcwhgS4oz\n",
       "sKdQ1gRsork40vNKLGKcC3AolsYixi2AQzEjlmx1B7tSAMXqYiYZY1NFAAAAAElFTkSuQmCC\n",
       "\" style=\"display:inline;vertical-align:middle;\" /></a><br>(see <a class=\"ProveItLink\" href=\"../__pv_it/bb22958d37261286e5a50c78e42a6b55e572424d0/dependencies.ipynb\">dependencies</a>)<br>"
      ],
      "text/plain": [
       "mult_2_0: (2 * 0) = 0"
      ]
     },
     "execution_count": 2,
     "metadata": {},
     "output_type": "execute_result"
    }
   ],
   "source": [
    "%proving mult_2_0 presuming []"
   ]
  },
  {
   "cell_type": "code",
   "execution_count": null,
   "metadata": {},
   "outputs": [],
   "source": []
  }
 ],
 "metadata": {
  "kernelspec": {
   "display_name": "Python 3",
   "language": "python",
   "name": "python3"
  }
 },
 "nbformat": 4,
 "nbformat_minor": 0
}
