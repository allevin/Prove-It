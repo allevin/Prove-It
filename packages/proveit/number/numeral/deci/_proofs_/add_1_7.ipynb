{
 "cells": [
  {
   "cell_type": "markdown",
   "metadata": {},
   "source": [
    "Proof of <a class=\"ProveItLink\" href=\"../../../../_context_.ipynb\">proveit</a>.<a class=\"ProveItLink\" href=\"../../../_context_.ipynb\">number</a>.<a class=\"ProveItLink\" href=\"../../_context_.ipynb\">numeral</a>.<a class=\"ProveItLink\" href=\"../_context_.ipynb\">decimal</a>.<a class=\"ProveItLink\" href=\"../_theorems_.ipynb#add_1_7\">add_1_7</a> theorem\n",
    "========"
   ]
  },
  {
   "cell_type": "code",
   "execution_count": 1,
   "metadata": {},
   "outputs": [],
   "source": [
    "import proveit\n",
    "context = proveit.Context('..') # the theorem's context is in the parent directory"
   ]
  },
  {
   "cell_type": "code",
   "execution_count": 2,
   "metadata": {},
   "outputs": [
    {
     "name": "stdout",
     "output_type": "stream",
     "text": [
      "Beginning proof of add_1_7\n",
      "Recorded 'presuming' information\n",
      "Presuming previous theorems (applied transitively).\n"
     ]
    },
    {
     "data": {
      "text/html": [
       "<strong id=\"add_1_7\">add_1_7:</strong> <a class=\"ProveItLink\" href=\"../__pv_it/77c42d9150c89535c85dfee89dfe76ab7397969d0/expr.ipynb\"><img src=\"data:image/png;base64,iVBORw0KGgoAAAANSUhEUgAAAGEAAAAVBAMAAACkm51HAAAAMFBMVEX////c3NwiIiJERESqqqqY\n",
       "mJh2dnZmZmYQEBDu7u4yMjJUVFTMzMyIiIi6uroAAAAs73DqAAAAAXRSTlMAQObYZgAAAUxJREFU\n",
       "OMtjYCAd8F3AIRGHS8dpIGaegCp2qCwtLYH9ALpSzrR0ByC1EsiyR9MR/////w0MC9B1sDMwlDIw\n",
       "8F5g4Ny9H6ZjIoTKZGDgZmAIQ9cRysAwiYGBA6T4PkyHL4RKYGDIYWCYga4jG6zjFQMWHZDwYHZA\n",
       "0+G/kyGXgaEMu47JQMxWgKaD+X8s0Pal2HWUADEL2Ovsq8BgA4hd/0mAgaEPqw7ODyCXNaDZwVqz\n",
       "/gsDwz+sOnhBxvN8QNMRzsD6fwKyjqpVqzRWrVoNYjJtwKajk4FBPoChBasd8wvgrmJXAgMDoFOB\n",
       "fPYLDKZYdbwH6WBFj/RGYMQKMKRj1eFfgC10vSYwuDEwPAKyyvuXB6DqOA/icz1AT+bby4GRyiGA\n",
       "LOaLzJmBPbGzJiDz3iJzcnHkj5W4Mg7nAhwS0rh0cAvgkGDElWvvYBcGAFowXIUC9SbEAAAAAElF\n",
       "TkSuQmCC\n",
       "\" style=\"display:inline;vertical-align:middle;\" /></a><br>(see <a class=\"ProveItLink\" href=\"../__pv_it/77c42d9150c89535c85dfee89dfe76ab7397969d0/dependencies.ipynb\">dependencies</a>)<br>"
      ],
      "text/plain": [
       "add_1_7: (1 + 7) = 8"
      ]
     },
     "execution_count": 2,
     "metadata": {},
     "output_type": "execute_result"
    }
   ],
   "source": [
    "%proving add_1_7 presuming []"
   ]
  },
  {
   "cell_type": "code",
   "execution_count": null,
   "metadata": {},
   "outputs": [],
   "source": []
  }
 ],
 "metadata": {
  "kernelspec": {
   "display_name": "Python 3",
   "language": "python",
   "name": "python3"
  }
 },
 "nbformat": 4,
 "nbformat_minor": 0
}
