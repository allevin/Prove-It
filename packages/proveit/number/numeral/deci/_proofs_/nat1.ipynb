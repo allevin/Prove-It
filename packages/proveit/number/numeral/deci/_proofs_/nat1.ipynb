{
 "cells": [
  {
   "cell_type": "markdown",
   "metadata": {},
   "source": [
    "Proof of <a class=\"ProveItLink\" href=\"../../../../_context_.ipynb\">proveit</a>.<a class=\"ProveItLink\" href=\"../../../_context_.ipynb\">number</a>.<a class=\"ProveItLink\" href=\"../../_context_.ipynb\">numeral</a>.<a class=\"ProveItLink\" href=\"../_context_.ipynb\">decimal</a>.<a class=\"ProveItLink\" href=\"../_theorems_.ipynb#nat1\">nat1</a> theorem\n",
    "========"
   ]
  },
  {
   "cell_type": "code",
   "execution_count": 1,
   "metadata": {},
   "outputs": [],
   "source": [
    "import proveit\n",
    "context = proveit.Context('..') # the theorem's context is in the parent directory"
   ]
  },
  {
   "cell_type": "code",
   "execution_count": 2,
   "metadata": {},
   "outputs": [
    {
     "name": "stdout",
     "output_type": "stream",
     "text": [
      "Beginning proof of nat1\n",
      "Recorded 'presuming' information\n",
      "Presuming previous theorems (applied transitively).\n"
     ]
    },
    {
     "data": {
      "text/html": [
       "<strong id=\"nat1\">nat1:</strong> <a class=\"ProveItLink\" href=\"../__pv_it/88af6ccad5ba3bfc3c4fbf1cf482ea4d887b56020/expr.ipynb\"><img src=\"data:image/png;base64,iVBORw0KGgoAAAANSUhEUgAAADIAAAAPBAMAAABU9YHxAAAAMFBMVEX///92dnaqqqq6urrc3NzM\n",
       "zMwiIiKYmJgyMjIQEBBmZmaIiIhUVFTu7u5EREQAAACNWUPNAAAAAXRSTlMAQObYZgAAAK9JREFU\n",
       "GNNjYGB4y4ACePvf9TJw5ScxMNz7iyrDwFcQx8DAz8Bw5wy6DE8q9wYGTiCDGyrDuyMtrQEsY3Hh\n",
       "KIpMRC1MT+iBGxeQZFjgDuEJ0GZ9gCTD54CQ4TKoRpK5h3BBAMNZnkiEjGVaGswFAQx3eDsRMjHI\n",
       "elgFkPRcQ5ZhKOJDyPAUIMsw+iFkeJPhoWMAJFYwMHCt/LEcLOCxFCLB3D8PSN5ADi+dNojboAAA\n",
       "fwYy90kRVyQAAAAASUVORK5CYII=\n",
       "\" style=\"display:inline;vertical-align:middle;\" /></a><br>(see <a class=\"ProveItLink\" href=\"../__pv_it/88af6ccad5ba3bfc3c4fbf1cf482ea4d887b56020/dependencies.ipynb\">dependencies</a>)<br>"
      ],
      "text/plain": [
       "nat1: 1 in Naturals"
      ]
     },
     "execution_count": 2,
     "metadata": {},
     "output_type": "execute_result"
    }
   ],
   "source": [
    "%proving nat1 presuming []"
   ]
  },
  {
   "cell_type": "code",
   "execution_count": null,
   "metadata": {},
   "outputs": [],
   "source": []
  }
 ],
 "metadata": {
  "kernelspec": {
   "display_name": "Python 3",
   "language": "python",
   "name": "python3"
  }
 },
 "nbformat": 4,
 "nbformat_minor": 0
}
