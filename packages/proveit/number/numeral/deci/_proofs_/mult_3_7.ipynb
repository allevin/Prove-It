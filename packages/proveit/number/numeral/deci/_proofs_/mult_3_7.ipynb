{
 "cells": [
  {
   "cell_type": "markdown",
   "metadata": {},
   "source": [
    "Proof of <a class=\"ProveItLink\" href=\"../../../../_context_.ipynb\">proveit</a>.<a class=\"ProveItLink\" href=\"../../../_context_.ipynb\">number</a>.<a class=\"ProveItLink\" href=\"../../_context_.ipynb\">numeral</a>.<a class=\"ProveItLink\" href=\"../_context_.ipynb\">deci</a>.<a class=\"ProveItLink\" href=\"../_theorems_.ipynb#mult_3_7\">mult_3_7</a> theorem\n",
    "========"
   ]
  },
  {
   "cell_type": "code",
   "execution_count": 1,
   "metadata": {},
   "outputs": [],
   "source": [
    "import proveit\n",
    "context = proveit.Context('..') # the theorem's context is in the parent directory"
   ]
  },
  {
   "cell_type": "code",
   "execution_count": 2,
   "metadata": {},
   "outputs": [
    {
     "name": "stdout",
     "output_type": "stream",
     "text": [
      "Beginning proof of mult_3_7\n",
      "Recorded 'presuming' information\n",
      "Presuming previous theorems (applied transitively).\n"
     ]
    },
    {
     "data": {
      "text/html": [
       "<strong id=\"mult_3_7\">mult_3_7:</strong> <a class=\"ProveItLink\" href=\"../__pv_it/857f29489b9b479a97b617c9beafe84a052461460/expr.ipynb\"><img src=\"data:image/png;base64,iVBORw0KGgoAAAANSUhEUgAAAGAAAAAVBAMAAABLWfZ5AAAAMFBMVEX////c3NwiIiJERESqqqqY\n",
       "mJh2dnZmZmYQEBDu7u4yMjJUVFTMzMyIiIi6uroAAAAs73DqAAAAAXRSTlMAQObYZgAAAXxJREFU\n",
       "OMtjYCAZ8F3AFIvDp+E0A8OxNBM491BZWloC+wF0VYzlix8AKUsgXsnAWMDwHm5N/P///zcwLEDX\n",
       "IM3A+4WBYfJPBgbeCwxsXxj4FWAymQwM3AwMYegadjIw6DPM3g3UwDGBgQVZQwIDQw4Dwwx0DR0T\n",
       "GPY/YOAFangF5r+/gBoKzA5oGtZPYKiHaCgD81cjyU0GYrYCzNDRnwDWsBTI5MnagCRRAsQsYF9X\n",
       "rQIBqGE83xjAGvrAvBugMOOcAGJyfgA5qwHDAi4DiIZ/YB4HkMUwH+xzXpDhPB8wNBQzwDUwHmBg\n",
       "/grkzjAASTBtwKqBdwNUQwvQ5J8QDRAwvwDupCIlEFAGC7szMAqANZgyMPAvYGD6CNfwHqSBFT2q\n",
       "eQoYWCEa0oEWBTC8T4BL+RdgC1ahtLQiiJMegawrX4KQOh8ACpIH6JHw//8nBvaKX6UMHALYkvAM\n",
       "3KmbNQGbaC6e/LASixjnAjwapLGIcQvg0cCIJYvewa0cAMylZ38G+KNiAAAAAElFTkSuQmCC\n",
       "\" style=\"display:inline;vertical-align:middle;\" /></a><br>(see <a class=\"ProveItLink\" href=\"../__pv_it/857f29489b9b479a97b617c9beafe84a052461460/dependencies.ipynb\">dependencies</a>)<br>"
      ],
      "text/plain": [
       "mult_3_7: (3 * 7) = 21"
      ]
     },
     "execution_count": 2,
     "metadata": {},
     "output_type": "execute_result"
    }
   ],
   "source": [
    "%proving mult_3_7 presuming []"
   ]
  },
  {
   "cell_type": "code",
   "execution_count": null,
   "metadata": {},
   "outputs": [],
   "source": []
  }
 ],
 "metadata": {
  "kernelspec": {
   "display_name": "Python 3",
   "language": "python",
   "name": "python3"
  }
 },
 "nbformat": 4,
 "nbformat_minor": 0
}
