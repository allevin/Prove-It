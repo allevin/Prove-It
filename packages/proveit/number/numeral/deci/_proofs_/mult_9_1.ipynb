{
 "cells": [
  {
   "cell_type": "markdown",
   "metadata": {},
   "source": [
    "Proof of <a class=\"ProveItLink\" href=\"../../../../_context_.ipynb\">proveit</a>.<a class=\"ProveItLink\" href=\"../../../_context_.ipynb\">number</a>.<a class=\"ProveItLink\" href=\"../../_context_.ipynb\">numeral</a>.<a class=\"ProveItLink\" href=\"../_context_.ipynb\">deci</a>.<a class=\"ProveItLink\" href=\"../_theorems_.ipynb#mult_9_1\">mult_9_1</a> theorem\n",
    "========"
   ]
  },
  {
   "cell_type": "code",
   "execution_count": 1,
   "metadata": {},
   "outputs": [],
   "source": [
    "import proveit\n",
    "context = proveit.Context('..') # the theorem's context is in the parent directory"
   ]
  },
  {
   "cell_type": "code",
   "execution_count": 2,
   "metadata": {},
   "outputs": [
    {
     "name": "stdout",
     "output_type": "stream",
     "text": [
      "Beginning proof of mult_9_1\n",
      "Recorded 'presuming' information\n",
      "Presuming previous theorems (applied transitively).\n"
     ]
    },
    {
     "data": {
      "text/html": [
       "<strong id=\"mult_9_1\">mult_9_1:</strong> <a class=\"ProveItLink\" href=\"../__pv_it/85df9f4b7765203c4555ea070e6118efb8ed89260/expr.ipynb\"><img src=\"data:image/png;base64,iVBORw0KGgoAAAANSUhEUgAAAFcAAAAVBAMAAADBdm84AAAAMFBMVEX////c3NwiIiJERESqqqqY\n",
       "mJh2dnZmZmYQEBDu7u4yMjJUVFTMzMyIiIi6uroAAAAs73DqAAAAAXRSTlMAQObYZgAAAVFJREFU\n",
       "KM9jYCAJ8F3AFIvDpfg0A8Pssj1IApYMDOwH0FVxbs8Gia1kYGxhkBCAC0/+CSQWoCuWcGBsZGDg\n",
       "vcDA3MDAbQATnb0bpDgMXbEFA8NmBgaOCQz8CxjYfsKFeUHMGeiKfzEw5E9geMXAMN+AgfcfqmJm\n",
       "BzQnf2ZguP+AoYwBbPJXVMVsBVhMDmBYCvR7AwPzX1TFLGAfVq0CgdUgZgUDg/0Fhj6gHUsZ3EGK\n",
       "OSfAFfM1oJk8K4Cl/gIDyLGsd89+AVLzFeCKeT6g+zD2zn0HBojPwKExwwCPYnBotIAZXAtQ3Qxx\n",
       "RpESCChDJVYxMJgCpT8yyD9AVcyKHoX3BRiBbkgHSmsyrGUgEHSXJnABE9wjICu9GBEH7BW/SoHO\n",
       "eoCmmK3cBEhyCGBLijOwp1DWBGyiuTjS80osYpwLcCiWxiLGLYBDMSOWbHUHu1IA72FbM5g5f7EA\n",
       "AAAASUVORK5CYII=\n",
       "\" style=\"display:inline;vertical-align:middle;\" /></a><br>(see <a class=\"ProveItLink\" href=\"../__pv_it/85df9f4b7765203c4555ea070e6118efb8ed89260/dependencies.ipynb\">dependencies</a>)<br>"
      ],
      "text/plain": [
       "mult_9_1: (9 * 1) = 9"
      ]
     },
     "execution_count": 2,
     "metadata": {},
     "output_type": "execute_result"
    }
   ],
   "source": [
    "%proving mult_9_1 presuming []"
   ]
  },
  {
   "cell_type": "code",
   "execution_count": null,
   "metadata": {},
   "outputs": [],
   "source": []
  }
 ],
 "metadata": {
  "kernelspec": {
   "display_name": "Python 3",
   "language": "python",
   "name": "python3"
  }
 },
 "nbformat": 4,
 "nbformat_minor": 0
}
