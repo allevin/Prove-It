{
 "cells": [
  {
   "cell_type": "markdown",
   "metadata": {},
   "source": [
    "Proof of <a class=\"ProveItLink\" href=\"../../../../_context_.ipynb\">proveit</a>.<a class=\"ProveItLink\" href=\"../../../_context_.ipynb\">number</a>.<a class=\"ProveItLink\" href=\"../../_context_.ipynb\">numeral</a>.<a class=\"ProveItLink\" href=\"../_context_.ipynb\">deci</a>.<a class=\"ProveItLink\" href=\"../_theorems_.ipynb#mult_3_0\">mult_3_0</a> theorem\n",
    "========"
   ]
  },
  {
   "cell_type": "code",
   "execution_count": 1,
   "metadata": {},
   "outputs": [],
   "source": [
    "import proveit\n",
    "context = proveit.Context('..') # the theorem's context is in the parent directory"
   ]
  },
  {
   "cell_type": "code",
   "execution_count": 2,
   "metadata": {},
   "outputs": [
    {
     "name": "stdout",
     "output_type": "stream",
     "text": [
      "Beginning proof of mult_3_0\n",
      "Recorded 'presuming' information\n",
      "Presuming previous theorems (applied transitively).\n"
     ]
    },
    {
     "data": {
      "text/html": [
       "<strong id=\"mult_3_0\">mult_3_0:</strong> <a class=\"ProveItLink\" href=\"../__pv_it/66ebf7e9bd771c0e6d0ac29fc2a2079d6f761de10/expr.ipynb\"><img src=\"data:image/png;base64,iVBORw0KGgoAAAANSUhEUgAAAFcAAAAVBAMAAADBdm84AAAAMFBMVEX////c3NwiIiJERESqqqqY\n",
       "mJh2dnZmZmYQEBDu7u4yMjJUVFTMzMyIiIi6uroAAAAs73DqAAAAAXRSTlMAQObYZgAAAUBJREFU\n",
       "KM9jYCAJ8F3AFIvDpfg0A8OxNBM4l7P2+gEG9gPoqsDCDAwrGRgLGN7DjWd6wKnDwLAAXTFEmPcC\n",
       "A9sXBn4FmOglBoZbDAxh6IohwhwTGFiQFWszMLwXYJiBrhgi/ArMRjjjOwPDeQcGZgc0xRDhMjB7\n",
       "NUyQ8RtQFOiyAlS1UOGlQCZP1gYU0QQGFrAPq1aBwGqEcB9YzY0HoOCZABfla8BicgLDPzCH4yeQ\n",
       "mK8At4/nA1ZnABUzHmBg/goUmWEA9UkAhmKocAvQxJ8QxbAw8heAOqNICQSUEcKmDAz8CxiYPiKF\n",
       "fhIDA+sCzEgBCqcDIzGA4X0CPF4dOHsYMIIOKvwIyHIvX4JIMWW3gSmG6wF6QgILcwhgS4ozsKdQ\n",
       "1gRsork40vNKLGKcC3AolsYixi2AQzEjlmx1B7tSAPHLZcuyTOHiAAAAAElFTkSuQmCC\n",
       "\" style=\"display:inline;vertical-align:middle;\" /></a><br>(see <a class=\"ProveItLink\" href=\"../__pv_it/66ebf7e9bd771c0e6d0ac29fc2a2079d6f761de10/dependencies.ipynb\">dependencies</a>)<br>"
      ],
      "text/plain": [
       "mult_3_0: (3 * 0) = 0"
      ]
     },
     "execution_count": 2,
     "metadata": {},
     "output_type": "execute_result"
    }
   ],
   "source": [
    "%proving mult_3_0 presuming []"
   ]
  },
  {
   "cell_type": "code",
   "execution_count": null,
   "metadata": {},
   "outputs": [],
   "source": []
  }
 ],
 "metadata": {
  "kernelspec": {
   "display_name": "Python 3",
   "language": "python",
   "name": "python3"
  }
 },
 "nbformat": 4,
 "nbformat_minor": 0
}
