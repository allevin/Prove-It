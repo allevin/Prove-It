{
 "cells": [
  {
   "cell_type": "markdown",
   "metadata": {},
   "source": [
    "Proof of <a class=\"ProveItLink\" href=\"../../../../_context_.ipynb\">proveit</a>.<a class=\"ProveItLink\" href=\"../../../_context_.ipynb\">number</a>.<a class=\"ProveItLink\" href=\"../../_context_.ipynb\">numeral</a>.<a class=\"ProveItLink\" href=\"../_context_.ipynb\">deci</a>.<a class=\"ProveItLink\" href=\"../_theorems_.ipynb#mult_1_4\">mult_1_4</a> theorem\n",
    "========"
   ]
  },
  {
   "cell_type": "code",
   "execution_count": 1,
   "metadata": {},
   "outputs": [],
   "source": [
    "import proveit\n",
    "context = proveit.Context('..') # the theorem's context is in the parent directory"
   ]
  },
  {
   "cell_type": "code",
   "execution_count": 2,
   "metadata": {},
   "outputs": [
    {
     "name": "stdout",
     "output_type": "stream",
     "text": [
      "Beginning proof of mult_1_4\n",
      "Recorded 'presuming' information\n",
      "Presuming previous theorems (applied transitively).\n"
     ]
    },
    {
     "data": {
      "text/html": [
       "<strong id=\"mult_1_4\">mult_1_4:</strong> <a class=\"ProveItLink\" href=\"../__pv_it/6f6eda28298ce6aa3ba0a1202f55593a6b3d886b0/expr.ipynb\"><img src=\"data:image/png;base64,iVBORw0KGgoAAAANSUhEUgAAAFcAAAAVBAMAAADBdm84AAAAMFBMVEX////c3NwiIiJERESqqqqY\n",
       "mJh2dnZmZmYQEBDu7u4yMjJUVFTMzMyIiIi6uroAAAAs73DqAAAAAXRSTlMAQObYZgAAAQxJREFU\n",
       "KM9jYCAJ8F3AFIvDpfg0EDNPQBLg2cDAfgBTHVCYgWElAwOnPbJiJgMGhgWYikHCvBcYOHfvR1Z8\n",
       "AygahqkYJMwBUncfSTFjFFB0BoZasPArBjTFbFxAUWYHdMVg4TJ0xYEgUbYCdMVg4aVoijkvgERZ\n",
       "wD6sWgUCqxHCfQjFnCCSjQEkyteA7gqw8D+E4vkKQMIHLMrzAU2xD7riGUAuZwJWxVDhFlQ3s+ze\n",
       "vb/7AtQZRUogoIwQNkUPDQYOoBGsmFEIEk7Hqhgz6MDCj4B0ef/yAIS/938PYOB6gBEpIGEOAWxJ\n",
       "cQb2FMqagE00F0d6XolFjHMBDsXSWMS4BXAoZsSSre5gVwoA13FLkPAj3tUAAAAASUVORK5CYII=\n",
       "\" style=\"display:inline;vertical-align:middle;\" /></a><br>(see <a class=\"ProveItLink\" href=\"../__pv_it/6f6eda28298ce6aa3ba0a1202f55593a6b3d886b0/dependencies.ipynb\">dependencies</a>)<br>"
      ],
      "text/plain": [
       "mult_1_4: (1 * 4) = 4"
      ]
     },
     "execution_count": 2,
     "metadata": {},
     "output_type": "execute_result"
    }
   ],
   "source": [
    "%proving mult_1_4 presuming []"
   ]
  },
  {
   "cell_type": "code",
   "execution_count": null,
   "metadata": {},
   "outputs": [],
   "source": []
  }
 ],
 "metadata": {
  "kernelspec": {
   "display_name": "Python 3",
   "language": "python",
   "name": "python3"
  }
 },
 "nbformat": 4,
 "nbformat_minor": 0
}
