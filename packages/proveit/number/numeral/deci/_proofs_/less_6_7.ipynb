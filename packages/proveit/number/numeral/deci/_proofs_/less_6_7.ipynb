{
 "cells": [
  {
   "cell_type": "markdown",
   "metadata": {},
   "source": [
    "Proof of <a class=\"ProveItLink\" href=\"../../../../_context_.ipynb\">proveit</a>.<a class=\"ProveItLink\" href=\"../../../_context_.ipynb\">number</a>.<a class=\"ProveItLink\" href=\"../../_context_.ipynb\">numeral</a>.<a class=\"ProveItLink\" href=\"../_context_.ipynb\">decimal</a>.<a class=\"ProveItLink\" href=\"../_theorems_.ipynb#less_6_7\">less_6_7</a> theorem\n",
    "========"
   ]
  },
  {
   "cell_type": "code",
   "execution_count": 1,
   "metadata": {},
   "outputs": [],
   "source": [
    "import proveit\n",
    "context = proveit.Context('..') # the theorem's context is in the parent directory"
   ]
  },
  {
   "cell_type": "code",
   "execution_count": 2,
   "metadata": {},
   "outputs": [
    {
     "name": "stdout",
     "output_type": "stream",
     "text": [
      "Beginning proof of less_6_7\n",
      "Recorded 'presuming' information\n",
      "Presuming previous theorems (applied transitively).\n"
     ]
    },
    {
     "data": {
      "text/html": [
       "<strong id=\"less_6_7\">less_6_7:</strong> <a class=\"ProveItLink\" href=\"../__pv_it/019cd18f5023bbc9774917b2771ea617c78c18970/expr.ipynb\"><img src=\"data:image/png;base64,iVBORw0KGgoAAAANSUhEUgAAADIAAAAOBAMAAACfqVJUAAAAMFBMVEX///+6urpERESqqqqIiIgQ\n",
       "EBCYmJgyMjJUVFQiIiLc3NzMzMxmZmZ2dnbu7u4AAABf+mkYAAAAAXRSTlMAQObYZgAAAMhJREFU\n",
       "GNNjYOC7c3cDAyrYefbu3QsMDCs3cExAk8n///9/AwPDXAb2ArgY12kQeY+BgYOBge0fkmLudgEQ\n",
       "BTTpNgMDewBCgrECZiOjAwMDf7XLYSiXuWYBTM0jIH4/jYEzAcxjmfsArhuk+P0HBl6wVbxTEMby\n",
       "fQDJTGBg+ww2QBEhwwJyLX8BA9sXMHdHMVyGE+gbBiaYHgaGNdNgMu8PgBwEswcI3k6BukEeJMOg\n",
       "y/A0AaaWDeo8e7AMT08jwmrmajC1H6gWAKN0OBOK6o3FAAAAAElFTkSuQmCC\n",
       "\" style=\"display:inline;vertical-align:middle;\" /></a><br>(see <a class=\"ProveItLink\" href=\"../__pv_it/019cd18f5023bbc9774917b2771ea617c78c18970/dependencies.ipynb\">dependencies</a>)<br>"
      ],
      "text/plain": [
       "less_6_7: 6 < 7"
      ]
     },
     "execution_count": 2,
     "metadata": {},
     "output_type": "execute_result"
    }
   ],
   "source": [
    "%proving less_6_7 presuming []"
   ]
  },
  {
   "cell_type": "code",
   "execution_count": null,
   "metadata": {},
   "outputs": [],
   "source": []
  }
 ],
 "metadata": {
  "kernelspec": {
   "display_name": "Python 3",
   "language": "python",
   "name": "python3"
  }
 },
 "nbformat": 4,
 "nbformat_minor": 0
}
