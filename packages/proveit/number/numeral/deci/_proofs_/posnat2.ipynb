{
 "cells": [
  {
   "cell_type": "markdown",
   "metadata": {},
   "source": [
    "Proof of <a class=\"ProveItLink\" href=\"../../../../_context_.ipynb\">proveit</a>.<a class=\"ProveItLink\" href=\"../../../_context_.ipynb\">number</a>.<a class=\"ProveItLink\" href=\"../../_context_.ipynb\">numeral</a>.<a class=\"ProveItLink\" href=\"../_context_.ipynb\">decimal</a>.<a class=\"ProveItLink\" href=\"../_theorems_.ipynb#posnat2\">posnat2</a> theorem\n",
    "========"
   ]
  },
  {
   "cell_type": "code",
   "execution_count": 1,
   "metadata": {},
   "outputs": [],
   "source": [
    "import proveit\n",
    "context = proveit.Context('..') # the theorem's context is in the parent directory"
   ]
  },
  {
   "cell_type": "code",
   "execution_count": 2,
   "metadata": {},
   "outputs": [
    {
     "name": "stdout",
     "output_type": "stream",
     "text": [
      "Beginning proof of posnat2\n",
      "Recorded 'presuming' information\n",
      "Presuming previous theorems (applied transitively).\n"
     ]
    },
    {
     "data": {
      "text/html": [
       "<strong id=\"posnat2\">posnat2:</strong> <a class=\"ProveItLink\" href=\"../__pv_it/27febac17f4bb6fe6d5526fab31e59dda74c99b30/expr.ipynb\"><img src=\"data:image/png;base64,iVBORw0KGgoAAAANSUhEUgAAAD4AAAAUBAMAAAAn2JMnAAAAMFBMVEX///+YmJh2dnbMzMwQEBAi\n",
       "IiLu7u6qqqqIiIhUVFS6urpEREQyMjJmZmbc3NwAAACOMKdoAAAAAXRSTlMAQObYZgAAAPRJREFU\n",
       "KM9jYMADChjwgw10kOe7e3oBiiDb+d3HGHjjw6HyLxk4vqPq4hawZmDgZ+A8c8bnzAmGaQwM8ajy\n",
       "nMEcDQwsMPNdEhjmQyzIOBoaA5ZfkzAZIX8+geE+WJ75YAJUv/GEnAQWJPfHgyVeJ8DMN6hg3oAk\n",
       "z/wJTO2D22/Au0ACLD8BzOcBK2PbgJBnmMZpgnDvbTDJ5RoaCnWfAUMm2xG4NAfEFOYJSPqZFRD6\n",
       "axn4HoDMD0CSZxDnhvGYLzAwguQZJiLLM72G8Z4qKV0FM1Jh0cANYtyBycf///8VzOA7awBx6Hlv\n",
       "IJmDGZvscyDuRwEAcbQ+yZG2Fc0AAAAASUVORK5CYII=\n",
       "\" style=\"display:inline;vertical-align:middle;\" /></a><br>(see <a class=\"ProveItLink\" href=\"../__pv_it/27febac17f4bb6fe6d5526fab31e59dda74c99b30/dependencies.ipynb\">dependencies</a>)<br>"
      ],
      "text/plain": [
       "posnat2: 2 in NaturalsPos"
      ]
     },
     "execution_count": 2,
     "metadata": {},
     "output_type": "execute_result"
    }
   ],
   "source": [
    "%proving posnat2 presuming []"
   ]
  },
  {
   "cell_type": "code",
   "execution_count": null,
   "metadata": {},
   "outputs": [],
   "source": []
  }
 ],
 "metadata": {
  "kernelspec": {
   "display_name": "Python 3",
   "language": "python",
   "name": "python3"
  }
 },
 "nbformat": 4,
 "nbformat_minor": 0
}
