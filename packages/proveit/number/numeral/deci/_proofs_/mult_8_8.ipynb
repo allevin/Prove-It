{
 "cells": [
  {
   "cell_type": "markdown",
   "metadata": {},
   "source": [
    "Proof of <a class=\"ProveItLink\" href=\"../../../../_context_.ipynb\">proveit</a>.<a class=\"ProveItLink\" href=\"../../../_context_.ipynb\">number</a>.<a class=\"ProveItLink\" href=\"../../_context_.ipynb\">numeral</a>.<a class=\"ProveItLink\" href=\"../_context_.ipynb\">deci</a>.<a class=\"ProveItLink\" href=\"../_theorems_.ipynb#mult_8_8\">mult_8_8</a> theorem\n",
    "========"
   ]
  },
  {
   "cell_type": "code",
   "execution_count": 1,
   "metadata": {},
   "outputs": [],
   "source": [
    "import proveit\n",
    "context = proveit.Context('..') # the theorem's context is in the parent directory"
   ]
  },
  {
   "cell_type": "code",
   "execution_count": 2,
   "metadata": {},
   "outputs": [
    {
     "name": "stdout",
     "output_type": "stream",
     "text": [
      "Beginning proof of mult_8_8\n",
      "Recorded 'presuming' information\n",
      "Presuming previous theorems (applied transitively).\n"
     ]
    },
    {
     "data": {
      "text/html": [
       "<strong id=\"mult_8_8\">mult_8_8:</strong> <a class=\"ProveItLink\" href=\"../__pv_it/c3bbe785b6215c8a78d04e38294c5822f00a70620/expr.ipynb\"><img src=\"data:image/png;base64,iVBORw0KGgoAAAANSUhEUgAAAGEAAAAVBAMAAACkm51HAAAAMFBMVEX////c3NwiIiJERESqqqqY\n",
       "mJh2dnZmZmYQEBDu7u4yMjJUVFTMzMyIiIi6uroAAAAs73DqAAAAAXRSTlMAQObYZgAAAaxJREFU\n",
       "OMuVkztIw1AUhv8+kpq2SncHX7g5iOBsB3EQoXHQgqDN1A5aLKItWEUFHUSQ4FC62UWwdbC6iHSo\n",
       "syJk8gEO4qiLFItYwXhualpNQsAz3Mc557vnce8F/i9tilk3Y0tcAZnoYmMrRGNBeC5MbpnkHI3+\n",
       "Ig15IAGPqFs8wBKQMwKOPpzS5OwHWhVwIoRO3TQB7AGTRsIpoUDTHREtMvjiL2JWI7JGIiJrkaaI\n",
       "eAbcnzLfKD90jjjgChqIQ23kvUQkaTFUvWmYXOq0RKaEgahd39Ih44w4YNWqXU3bWiVAYbXSlwtM\n",
       "jlgHKyJ6ISiM2KV9+FJlWQgsV27l+I0uaf1vCEEF5mUejPgipwQiH6TeZ+WHwaky/K8GokLFB8d0\n",
       "gtrlqJI6S1tsAx2iiUCNiHtJIzbrrVzVD6N0PMpPVgvdTHrYcoCI4VKpvKNgkGJQqSf6YRuALwDO\n",
       "eOkhVge5UowYNSYPt6SbRmWMWHTXJQlbqBNPNL+kmi+x7SxFffM+Gi89nSYVX34XtZTMkrV57Jxk\n",
       "pY3b/Y+8hU7I2RHtFjpfwI5wWPzaBxv/b5+DZVPnAh2rAAAAAElFTkSuQmCC\n",
       "\" style=\"display:inline;vertical-align:middle;\" /></a><br>(see <a class=\"ProveItLink\" href=\"../__pv_it/c3bbe785b6215c8a78d04e38294c5822f00a70620/dependencies.ipynb\">dependencies</a>)<br>"
      ],
      "text/plain": [
       "mult_8_8: (8 * 8) = 64"
      ]
     },
     "execution_count": 2,
     "metadata": {},
     "output_type": "execute_result"
    }
   ],
   "source": [
    "%proving mult_8_8 presuming []"
   ]
  },
  {
   "cell_type": "code",
   "execution_count": null,
   "metadata": {},
   "outputs": [],
   "source": []
  }
 ],
 "metadata": {
  "kernelspec": {
   "display_name": "Python 3",
   "language": "python",
   "name": "python3"
  }
 },
 "nbformat": 4,
 "nbformat_minor": 0
}
