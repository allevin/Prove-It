{
 "cells": [
  {
   "cell_type": "markdown",
   "metadata": {},
   "source": [
    "Proof of <a class=\"ProveItLink\" href=\"../../../../_context_.ipynb\">proveit</a>.<a class=\"ProveItLink\" href=\"../../../_context_.ipynb\">number</a>.<a class=\"ProveItLink\" href=\"../../_context_.ipynb\">numeral</a>.<a class=\"ProveItLink\" href=\"../_context_.ipynb\">decimal</a>.<a class=\"ProveItLink\" href=\"../_theorems_.ipynb#less_2_3\">less_2_3</a> theorem\n",
    "========"
   ]
  },
  {
   "cell_type": "code",
   "execution_count": 1,
   "metadata": {},
   "outputs": [],
   "source": [
    "import proveit\n",
    "context = proveit.Context('..') # the theorem's context is in the parent directory"
   ]
  },
  {
   "cell_type": "code",
   "execution_count": 2,
   "metadata": {},
   "outputs": [
    {
     "name": "stdout",
     "output_type": "stream",
     "text": [
      "Beginning proof of less_2_3\n",
      "Recorded 'presuming' information\n",
      "Presuming previous theorems (applied transitively).\n"
     ]
    },
    {
     "data": {
      "text/html": [
       "<strong id=\"less_2_3\">less_2_3:</strong> <a class=\"ProveItLink\" href=\"../__pv_it/0ec3a61c97950b60cca2eb1a3de247858457d7380/expr.ipynb\"><img src=\"data:image/png;base64,iVBORw0KGgoAAAANSUhEUgAAADAAAAAOBAMAAACbXIJpAAAAMFBMVEX///+YmJh2dnbMzMwQEBAi\n",
       "IiLu7u6qqqqIiIhUVFS6urpEREQyMjJmZmbc3NwAAACOMKdoAAAAAXRSTlMAQObYZgAAAMdJREFU\n",
       "GNNj4Lt7egEDGjBS2s7A8JKB4zuaON8FhvUNDNMYGOIRYm8NgATTdwb+AAaXBIb5cLMsT4FIdrDE\n",
       "+QSG+zCJNZNhKoBGAUF8AoRXcw9u5EkQwfwJwmlVgwkz60wAUTwbwDzVBiSHtYBMvw1msu1G9g7L\n",
       "NwYGjglQ/XMKYP4wYOD+yMBQy8D3AMK/KgCRyP8GkmC+wMAIkWBgU20D0/wHGFj/MTxVUroKN1oU\n",
       "7DAOAYb1Cgzx//9/RVhaAwoShtq7xxkAafM0MjClpXcAAAAASUVORK5CYII=\n",
       "\" style=\"display:inline;vertical-align:middle;\" /></a><br>(see <a class=\"ProveItLink\" href=\"../__pv_it/0ec3a61c97950b60cca2eb1a3de247858457d7380/dependencies.ipynb\">dependencies</a>)<br>"
      ],
      "text/plain": [
       "less_2_3: 2 < 3"
      ]
     },
     "execution_count": 2,
     "metadata": {},
     "output_type": "execute_result"
    }
   ],
   "source": [
    "%proving less_2_3 presuming []"
   ]
  },
  {
   "cell_type": "code",
   "execution_count": null,
   "metadata": {},
   "outputs": [],
   "source": []
  }
 ],
 "metadata": {
  "kernelspec": {
   "display_name": "Python 3",
   "language": "python",
   "name": "python3"
  }
 },
 "nbformat": 4,
 "nbformat_minor": 0
}
