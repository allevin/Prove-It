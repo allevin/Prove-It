{
 "cells": [
  {
   "cell_type": "markdown",
   "metadata": {},
   "source": [
    "Proof of <a class=\"ProveItLink\" href=\"../../../../_context_.ipynb\">proveit</a>.<a class=\"ProveItLink\" href=\"../../../_context_.ipynb\">number</a>.<a class=\"ProveItLink\" href=\"../../_context_.ipynb\">numeral</a>.<a class=\"ProveItLink\" href=\"../_context_.ipynb\">decimal</a>.<a class=\"ProveItLink\" href=\"../_theorems_.ipynb#add_5_1\">add_5_1</a> theorem\n",
    "========"
   ]
  },
  {
   "cell_type": "code",
   "execution_count": 1,
   "metadata": {},
   "outputs": [],
   "source": [
    "import proveit\n",
    "context = proveit.Context('..') # the theorem's context is in the parent directory"
   ]
  },
  {
   "cell_type": "code",
   "execution_count": 2,
   "metadata": {},
   "outputs": [
    {
     "name": "stdout",
     "output_type": "stream",
     "text": [
      "Beginning proof of add_5_1\n",
      "Recorded 'presuming' information\n",
      "Presuming previous theorems (applied transitively).\n"
     ]
    },
    {
     "data": {
      "text/html": [
       "<strong id=\"add_5_1\">add_5_1:</strong> <a class=\"ProveItLink\" href=\"../__pv_it/84251f8930020e580dea01f6f5e6e0492acd7fbf0/expr.ipynb\"><img src=\"data:image/png;base64,iVBORw0KGgoAAAANSUhEUgAAAGEAAAAVBAMAAACkm51HAAAAMFBMVEX////c3NwiIiJERESqqqqY\n",
       "mJh2dnZmZmYQEBDu7u4yMjJUVFTMzMyIiIi6uroAAAAs73DqAAAAAXRSTlMAQObYZgAAAU9JREFU\n",
       "OMtjYCAd8F3AIRGHS8dpBoalE8Qc0EQtGRjYD2ConVaWAyRXMjD0//+GJjX5J5BYgK6BUYdhEwMD\n",
       "L9BRy7fBjJsIoWbvBukIQ9fBlMCwioGBYwIDwwa4mC+U5gXpmIGuI34CiHzFgFMHM7rnVoDJMiDe\n",
       "e3cfNh1sBWg6fp29DjRkKThg5j/AooMF7HX2VWAAdAfnpwAGVQaGPrAK7gYsOvgaUK3g/M/AkD+B\n",
       "4R+Yw/YHiw6eD2g6PgE97wDSwazAwAbSWLVqlcaqVatx6mD4BdRxgaEFGMAKDOwfcbqKXQkMDIBM\n",
       "I7AdpkAxBgauBVh0sKJHuj/YH+nAyC9g8BAgJnSZEzhbGRgeAVnHqzeixgd7xa9SoMUP0CO9uhoo\n",
       "xCGALOSLzJmBPbGzJiDz3iJzcnHkj5W4Mg7nAhwS0rh0cAvgkGDElWvvYBcGAMcZXcQiywPgAAAA\n",
       "AElFTkSuQmCC\n",
       "\" style=\"display:inline;vertical-align:middle;\" /></a><br>(see <a class=\"ProveItLink\" href=\"../__pv_it/84251f8930020e580dea01f6f5e6e0492acd7fbf0/dependencies.ipynb\">dependencies</a>)<br>"
      ],
      "text/plain": [
       "add_5_1: (5 + 1) = 6"
      ]
     },
     "execution_count": 2,
     "metadata": {},
     "output_type": "execute_result"
    }
   ],
   "source": [
    "%proving add_5_1 presuming []"
   ]
  },
  {
   "cell_type": "code",
   "execution_count": null,
   "metadata": {},
   "outputs": [],
   "source": []
  }
 ],
 "metadata": {
  "kernelspec": {
   "display_name": "Python 3",
   "language": "python",
   "name": "python3"
  }
 },
 "nbformat": 4,
 "nbformat_minor": 0
}
