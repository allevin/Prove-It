{
 "cells": [
  {
   "cell_type": "markdown",
   "metadata": {},
   "source": [
    "Proof of <a class=\"ProveItLink\" href=\"../../../../_context_.ipynb\">proveit</a>.<a class=\"ProveItLink\" href=\"../../../_context_.ipynb\">number</a>.<a class=\"ProveItLink\" href=\"../../_context_.ipynb\">numeral</a>.<a class=\"ProveItLink\" href=\"../_context_.ipynb\">decimal</a>.<a class=\"ProveItLink\" href=\"../_theorems_.ipynb#add_5_0\">add_5_0</a> theorem\n",
    "========"
   ]
  },
  {
   "cell_type": "code",
   "execution_count": 1,
   "metadata": {},
   "outputs": [],
   "source": [
    "import proveit\n",
    "context = proveit.Context('..') # the theorem's context is in the parent directory"
   ]
  },
  {
   "cell_type": "code",
   "execution_count": 2,
   "metadata": {},
   "outputs": [
    {
     "name": "stdout",
     "output_type": "stream",
     "text": [
      "Beginning proof of add_5_0\n",
      "Recorded 'presuming' information\n",
      "Presuming previous theorems (applied transitively).\n"
     ]
    },
    {
     "data": {
      "text/html": [
       "<strong id=\"add_5_0\">add_5_0:</strong> <a class=\"ProveItLink\" href=\"../__pv_it/2128314c0ac9a6a5e32f0021836032ee50d1ab3d0/expr.ipynb\"><img src=\"data:image/png;base64,iVBORw0KGgoAAAANSUhEUgAAAGEAAAAVBAMAAACkm51HAAAAMFBMVEX////c3NwiIiJERESqqqqY\n",
       "mJh2dnZmZmYQEBDu7u4yMjJUVFTMzMyIiIi6uroAAAAs73DqAAAAAXRSTlMAQObYZgAAAXNJREFU\n",
       "OMtjYCAd8F3AIRGHS8dpBoalE8QcUMQ4a68fYGA/gK6UK5IxBUitZGDo//8NVYrpAacOA8MCdB0c\n",
       "//8nMDDwAh21fBvMuIkQ6hIDwy0GhjAMO6pzQPomMDBsgIv5QihtBob3Agwz0HVwg8lXDFh0fGdg\n",
       "OO/AwOyAVUcZEO+9uw9FByPQW+cvMLAVoOu4e/sBMJyALEuG+Q8wdCQwsIC9zr4KDEDuYJ7A+Y+B\n",
       "oQ+iuwGLDr4GzLjYwcDwD8xg+4PFVTwfMHXkHwDpYFZgYANprFq1SmPVqtVQnwdg6jAC6njA0AIM\n",
       "YAUG9o/ooesvAHUVuxIYGACZTQwM9QIMpkAxYNwsQNEBjMEkBgZW9EgHht0qBoZ0oLMLGDwEUHQw\n",
       "OXD2MGCGrjgDSyMDwyMg63j1RtQY5Cy7DUw3XA/QdPCU7waazCGALOaLzJmBPbGzJiDz3iJzcnHk\n",
       "j5W4Mg7nAhwS0rh0cAvgkGDElWvvYBcGAHFSYcrza0/OAAAAAElFTkSuQmCC\n",
       "\" style=\"display:inline;vertical-align:middle;\" /></a><br>(see <a class=\"ProveItLink\" href=\"../__pv_it/2128314c0ac9a6a5e32f0021836032ee50d1ab3d0/dependencies.ipynb\">dependencies</a>)<br>"
      ],
      "text/plain": [
       "add_5_0: (5 + 0) = 5"
      ]
     },
     "execution_count": 2,
     "metadata": {},
     "output_type": "execute_result"
    }
   ],
   "source": [
    "%proving add_5_0 presuming []"
   ]
  },
  {
   "cell_type": "code",
   "execution_count": null,
   "metadata": {},
   "outputs": [],
   "source": []
  }
 ],
 "metadata": {
  "kernelspec": {
   "display_name": "Python 3",
   "language": "python",
   "name": "python3"
  }
 },
 "nbformat": 4,
 "nbformat_minor": 0
}
