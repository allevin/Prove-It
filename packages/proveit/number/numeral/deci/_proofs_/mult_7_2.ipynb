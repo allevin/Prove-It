{
 "cells": [
  {
   "cell_type": "markdown",
   "metadata": {},
   "source": [
    "Proof of <a class=\"ProveItLink\" href=\"../../../../_context_.ipynb\">proveit</a>.<a class=\"ProveItLink\" href=\"../../../_context_.ipynb\">number</a>.<a class=\"ProveItLink\" href=\"../../_context_.ipynb\">numeral</a>.<a class=\"ProveItLink\" href=\"../_context_.ipynb\">deci</a>.<a class=\"ProveItLink\" href=\"../_theorems_.ipynb#mult_7_2\">mult_7_2</a> theorem\n",
    "========"
   ]
  },
  {
   "cell_type": "code",
   "execution_count": 1,
   "metadata": {},
   "outputs": [],
   "source": [
    "import proveit\n",
    "context = proveit.Context('..') # the theorem's context is in the parent directory"
   ]
  },
  {
   "cell_type": "code",
   "execution_count": 2,
   "metadata": {},
   "outputs": [
    {
     "name": "stdout",
     "output_type": "stream",
     "text": [
      "Beginning proof of mult_7_2\n",
      "Recorded 'presuming' information\n",
      "Presuming previous theorems (applied transitively).\n"
     ]
    },
    {
     "data": {
      "text/html": [
       "<strong id=\"mult_7_2\">mult_7_2:</strong> <a class=\"ProveItLink\" href=\"../__pv_it/0985015132747a82af2a27f44fdee5d7414297600/expr.ipynb\"><img src=\"data:image/png;base64,iVBORw0KGgoAAAANSUhEUgAAAGEAAAAVBAMAAACkm51HAAAAMFBMVEX////c3NwiIiJERESqqqqY\n",
       "mJh2dnZmZmYQEBDu7u4yMjJUVFTMzMyIiIi6uroAAAAs73DqAAAAAXRSTlMAQObYZgAAAWxJREFU\n",
       "OMtjYCAd8F3AFIvDq+M0A496WloajMtYvvgBA/sBTHWWIIJnA5BYycD6////3zAJaQbeLwwMCzA0\n",
       "TP4JIpkMGBh4LzCwTWBg2ACT2cnAoM/AEIauYfZusI4bQB0cExjYGBjY4M7omMCw/wHDDAw7eEE6\n",
       "GKOAOl6B+W/hMusnMNQ/YGB2wKqDjQuoowzE5TRAltQHWluAVUcgSMdSEJcd2UiebwwMLGCvV60C\n",
       "gdVwHZwXQDr6QNz5YEHOCWAKJMrXgM0ONrDcPxD3FlhwvgKYKgbZ8wGbDh+EDm2w4Aywb3g34NLB\n",
       "mQDW0QJyznckKXcGRgGoq4qUQEAZpoNl9+793RcYTEFJC0kHTwEDqwAD6wKsYcXAAbQjHUizIOkQ\n",
       "SksrYsAVumAdj0DmfkWKjP//PwHD6wGaBvaKX6VAg/Z/D2DgEMCWoGfgSeysCdhEc/Hlj5VYxDgX\n",
       "4NMhjUWMWwCfDkYsufYOHvUAp41cgm+yyWIAAAAASUVORK5CYII=\n",
       "\" style=\"display:inline;vertical-align:middle;\" /></a><br>(see <a class=\"ProveItLink\" href=\"../__pv_it/0985015132747a82af2a27f44fdee5d7414297600/dependencies.ipynb\">dependencies</a>)<br>"
      ],
      "text/plain": [
       "mult_7_2: (7 * 2) = 14"
      ]
     },
     "execution_count": 2,
     "metadata": {},
     "output_type": "execute_result"
    }
   ],
   "source": [
    "%proving mult_7_2 presuming []"
   ]
  },
  {
   "cell_type": "code",
   "execution_count": null,
   "metadata": {},
   "outputs": [],
   "source": []
  }
 ],
 "metadata": {
  "kernelspec": {
   "display_name": "Python 3",
   "language": "python",
   "name": "python3"
  }
 },
 "nbformat": 4,
 "nbformat_minor": 0
}
