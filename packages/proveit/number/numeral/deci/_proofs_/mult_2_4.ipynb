{
 "cells": [
  {
   "cell_type": "markdown",
   "metadata": {},
   "source": [
    "Proof of <a class=\"ProveItLink\" href=\"../../../../_context_.ipynb\">proveit</a>.<a class=\"ProveItLink\" href=\"../../../_context_.ipynb\">number</a>.<a class=\"ProveItLink\" href=\"../../_context_.ipynb\">numeral</a>.<a class=\"ProveItLink\" href=\"../_context_.ipynb\">deci</a>.<a class=\"ProveItLink\" href=\"../_theorems_.ipynb#mult_2_4\">mult_2_4</a> theorem\n",
    "========"
   ]
  },
  {
   "cell_type": "code",
   "execution_count": 1,
   "metadata": {},
   "outputs": [],
   "source": [
    "import proveit\n",
    "context = proveit.Context('..') # the theorem's context is in the parent directory"
   ]
  },
  {
   "cell_type": "code",
   "execution_count": 2,
   "metadata": {},
   "outputs": [
    {
     "name": "stdout",
     "output_type": "stream",
     "text": [
      "Beginning proof of mult_2_4\n",
      "Recorded 'presuming' information\n",
      "Presuming previous theorems (applied transitively).\n"
     ]
    },
    {
     "data": {
      "text/html": [
       "<strong id=\"mult_2_4\">mult_2_4:</strong> <a class=\"ProveItLink\" href=\"../__pv_it/238545baa8d77731a886f7d6c2ff06c7e1de71f50/expr.ipynb\"><img src=\"data:image/png;base64,iVBORw0KGgoAAAANSUhEUgAAAFcAAAAVBAMAAADBdm84AAAAMFBMVEX////c3NwiIiJERESqqqqY\n",
       "mJh2dnZmZmYQEBDu7u4yMjJUVFTMzMyIiIi6uroAAAAs73DqAAAAAXRSTlMAQObYZgAAAWtJREFU\n",
       "KM+V0z9Iw0AUBvAvbdKkTS1xcnCwKDh3cZVODiJYBxUEJVMzSKEIKhRBBZciSHDqZqE4VAe7iXSo\n",
       "m4ODGQUFxdGpiCBdjO+uJdHrZfCG5OXjx/HuT4B/jYw3nG1E4XtgrDL7K0i3oN+KKll08vRqQmnh\n",
       "JR/msRxQF7EObAMjHkwXsW6YPxJeEfEycAoYLowqzO8gVtYI10S8yfE7kOpBD3EiRTieF/DiDUrA\n",
       "Tr/PXhAvMZwoCzjur9vAOa8f7GDZHsMqX2Hlgo1Lnu9/WMAJLxvcuawLMJw5EGbW9q4+Ad6snmPP\n",
       "syw9FjhOdwW8Cs13+/iJBzVSSVuOq8BEAUdUqWWMDkK13e4ce4M2tibZmGId0rfuYYbKO9qDcBKD\n",
       "ZtbEIzwETAsOHcN00cn+xUNbN+9iDnijTfZ9P8SJzlcBqVfxbl7v0jkZluwq1uQ3VLNlaSniPjcl\n",
       "WbIegcclmWlFYEXyWz3L6Q9KVE8uhvC0WAAAAABJRU5ErkJggg==\n",
       "\" style=\"display:inline;vertical-align:middle;\" /></a><br>(see <a class=\"ProveItLink\" href=\"../__pv_it/238545baa8d77731a886f7d6c2ff06c7e1de71f50/dependencies.ipynb\">dependencies</a>)<br>"
      ],
      "text/plain": [
       "mult_2_4: (2 * 4) = 8"
      ]
     },
     "execution_count": 2,
     "metadata": {},
     "output_type": "execute_result"
    }
   ],
   "source": [
    "%proving mult_2_4 presuming []"
   ]
  },
  {
   "cell_type": "code",
   "execution_count": null,
   "metadata": {},
   "outputs": [],
   "source": []
  }
 ],
 "metadata": {
  "kernelspec": {
   "display_name": "Python 3",
   "language": "python",
   "name": "python3"
  }
 },
 "nbformat": 4,
 "nbformat_minor": 0
}
