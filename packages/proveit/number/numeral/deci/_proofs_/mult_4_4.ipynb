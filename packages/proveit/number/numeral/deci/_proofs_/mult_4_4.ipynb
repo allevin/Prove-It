{
 "cells": [
  {
   "cell_type": "markdown",
   "metadata": {},
   "source": [
    "Proof of <a class=\"ProveItLink\" href=\"../../../../_context_.ipynb\">proveit</a>.<a class=\"ProveItLink\" href=\"../../../_context_.ipynb\">number</a>.<a class=\"ProveItLink\" href=\"../../_context_.ipynb\">numeral</a>.<a class=\"ProveItLink\" href=\"../_context_.ipynb\">deci</a>.<a class=\"ProveItLink\" href=\"../_theorems_.ipynb#mult_4_4\">mult_4_4</a> theorem\n",
    "========"
   ]
  },
  {
   "cell_type": "code",
   "execution_count": 1,
   "metadata": {},
   "outputs": [],
   "source": [
    "import proveit\n",
    "context = proveit.Context('..') # the theorem's context is in the parent directory"
   ]
  },
  {
   "cell_type": "code",
   "execution_count": 2,
   "metadata": {},
   "outputs": [
    {
     "name": "stdout",
     "output_type": "stream",
     "text": [
      "Beginning proof of mult_4_4\n",
      "Recorded 'presuming' information\n",
      "Presuming previous theorems (applied transitively).\n"
     ]
    },
    {
     "data": {
      "text/html": [
       "<strong id=\"mult_4_4\">mult_4_4:</strong> <a class=\"ProveItLink\" href=\"../__pv_it/462ee60538a8c140a2e3076bf07566f246fc3c380/expr.ipynb\"><img src=\"data:image/png;base64,iVBORw0KGgoAAAANSUhEUgAAAGEAAAAVBAMAAACkm51HAAAAMFBMVEX////c3NwiIiJERESqqqqY\n",
       "mJh2dnZmZmYQEBDu7u4yMjJUVFTMzMyIiIi6uroAAAAs73DqAAAAAXRSTlMAQObYZgAAAWdJREFU\n",
       "OMtjYCAd8F3AFIvDq+M0nIACng0M7Acw1VkC8bSyHCC5EsRVRpJiMmBgWIChYfJPBgZGHYZNDAy8\n",
       "IEfxNiPJ3QDqCEPXMHs3UAdTAsMqBgaOCUC+6GKEHGMUUMcMDDt4gTriQWoZXoGIBCQdbFxAHcwO\n",
       "2HSsALPKgJhVAElHIEgHWwE2Hb/OXgeatBTIm8uA0MF5AaSDBez1qlUgsBqmg/NTAIMqA0MfyFEQ\n",
       "HZwgZ7IxgHTwNWCxg/M/A0P+BIZ/QAMPQHTMVwASPmAdPB+w6fgE9LwDSMc0BoiOGUClnAm4dTD8\n",
       "Auq4wNDCwOC9e/ePvVAJlt2793dfgLqqSAkElOE6jMB2mIL5yDHIAbSDdQE2O/zB/kjHqgN76DIn\n",
       "cLYyMDwCcbP/lyJicP/3AAauB2ga2Ct+AZVUVwPFOQSwJegZeBI7awI20Vx8+WMlFjHOBfh0SGMR\n",
       "4xbAp4MRS669g0c9ACThX0xU+RV/AAAAAElFTkSuQmCC\n",
       "\" style=\"display:inline;vertical-align:middle;\" /></a><br>(see <a class=\"ProveItLink\" href=\"../__pv_it/462ee60538a8c140a2e3076bf07566f246fc3c380/dependencies.ipynb\">dependencies</a>)<br>"
      ],
      "text/plain": [
       "mult_4_4: (4 * 4) = 16"
      ]
     },
     "execution_count": 2,
     "metadata": {},
     "output_type": "execute_result"
    }
   ],
   "source": [
    "%proving mult_4_4 presuming []"
   ]
  },
  {
   "cell_type": "code",
   "execution_count": null,
   "metadata": {},
   "outputs": [],
   "source": []
  }
 ],
 "metadata": {
  "kernelspec": {
   "display_name": "Python 3",
   "language": "python",
   "name": "python3"
  }
 },
 "nbformat": 4,
 "nbformat_minor": 0
}
