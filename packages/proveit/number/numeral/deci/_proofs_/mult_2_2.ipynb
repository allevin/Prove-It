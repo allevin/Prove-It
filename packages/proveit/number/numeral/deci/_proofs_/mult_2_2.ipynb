{
 "cells": [
  {
   "cell_type": "markdown",
   "metadata": {},
   "source": [
    "Proof of <a class=\"ProveItLink\" href=\"../../../../_context_.ipynb\">proveit</a>.<a class=\"ProveItLink\" href=\"../../../_context_.ipynb\">number</a>.<a class=\"ProveItLink\" href=\"../../_context_.ipynb\">numeral</a>.<a class=\"ProveItLink\" href=\"../_context_.ipynb\">deci</a>.<a class=\"ProveItLink\" href=\"../_theorems_.ipynb#mult_2_2\">mult_2_2</a> theorem\n",
    "========"
   ]
  },
  {
   "cell_type": "code",
   "execution_count": 1,
   "metadata": {},
   "outputs": [],
   "source": [
    "import proveit\n",
    "context = proveit.Context('..') # the theorem's context is in the parent directory"
   ]
  },
  {
   "cell_type": "code",
   "execution_count": 2,
   "metadata": {},
   "outputs": [
    {
     "name": "stdout",
     "output_type": "stream",
     "text": [
      "Beginning proof of mult_2_2\n",
      "Recorded 'presuming' information\n",
      "Presuming previous theorems (applied transitively).\n"
     ]
    },
    {
     "data": {
      "text/html": [
       "<strong id=\"mult_2_2\">mult_2_2:</strong> <a class=\"ProveItLink\" href=\"../__pv_it/941ad4c6eee9630aa15ad94e2192b67e35a3d16e0/expr.ipynb\"><img src=\"data:image/png;base64,iVBORw0KGgoAAAANSUhEUgAAAFcAAAAVBAMAAADBdm84AAAAMFBMVEX////c3NwiIiJERESqqqqY\n",
       "mJh2dnZmZmYQEBDu7u4yMjJUVFTMzMyIiIi6uroAAAAs73DqAAAAAXRSTlMAQObYZgAAAV9JREFU\n",
       "KM+VkzFIw0AUhv/UpkkaU6KLQ5ei4JourtLNxUEXBwfJlE5CqKDQRQcHRZCM2SwUh+pgVukQNwcH\n",
       "MwoKBkenIqJ0Md6dJpbcZfCG493Hl+O9dy/Av1Yt4tlWkXwHzHWXs6O014+h3PDedEC2AaQAz62U\n",
       "1WG8Az1eLjUBI4LuoTRK2TVgARu8/EBk1YN6DP0rZUcewhg+50qbRH4FqmMomXzlYT/GVCsvV6pE\n",
       "3v1JaDzBLQ8VNy+vU/mchff2RNkfQJlV2L2g65KGWkTlUyb0GfBYTGntIJ8FwyxZpUn3swbjO/T2\n",
       "UU5e/ZMfGfDZJ0YgkDWbyYckLLuYyfgKJPM3jc48XQvUGA7DkwhLJLwlxWbluZBNyPwTquTmNun3\n",
       "otNupGzWcToQtI7JL6TJSZJkspUkb6QjMfco4ecaVFM0ir54QmVbRLcL5nkgYFqvQK4LmG4WyJLg\n",
       "t3oSq98VF087XQe1JgAAAABJRU5ErkJggg==\n",
       "\" style=\"display:inline;vertical-align:middle;\" /></a><br>(see <a class=\"ProveItLink\" href=\"../__pv_it/941ad4c6eee9630aa15ad94e2192b67e35a3d16e0/dependencies.ipynb\">dependencies</a>)<br>"
      ],
      "text/plain": [
       "mult_2_2: (2 * 2) = 4"
      ]
     },
     "execution_count": 2,
     "metadata": {},
     "output_type": "execute_result"
    }
   ],
   "source": [
    "%proving mult_2_2 presuming []"
   ]
  },
  {
   "cell_type": "code",
   "execution_count": null,
   "metadata": {},
   "outputs": [],
   "source": []
  }
 ],
 "metadata": {
  "kernelspec": {
   "display_name": "Python 3",
   "language": "python",
   "name": "python3"
  }
 },
 "nbformat": 4,
 "nbformat_minor": 0
}
