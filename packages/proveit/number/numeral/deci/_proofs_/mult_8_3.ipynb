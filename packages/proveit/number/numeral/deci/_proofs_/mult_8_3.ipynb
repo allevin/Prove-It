{
 "cells": [
  {
   "cell_type": "markdown",
   "metadata": {},
   "source": [
    "Proof of <a class=\"ProveItLink\" href=\"../../../../_context_.ipynb\">proveit</a>.<a class=\"ProveItLink\" href=\"../../../_context_.ipynb\">number</a>.<a class=\"ProveItLink\" href=\"../../_context_.ipynb\">numeral</a>.<a class=\"ProveItLink\" href=\"../_context_.ipynb\">deci</a>.<a class=\"ProveItLink\" href=\"../_theorems_.ipynb#mult_8_3\">mult_8_3</a> theorem\n",
    "========"
   ]
  },
  {
   "cell_type": "code",
   "execution_count": 1,
   "metadata": {},
   "outputs": [],
   "source": [
    "import proveit\n",
    "context = proveit.Context('..') # the theorem's context is in the parent directory"
   ]
  },
  {
   "cell_type": "code",
   "execution_count": 2,
   "metadata": {},
   "outputs": [
    {
     "name": "stdout",
     "output_type": "stream",
     "text": [
      "Beginning proof of mult_8_3\n",
      "Recorded 'presuming' information\n",
      "Presuming previous theorems (applied transitively).\n"
     ]
    },
    {
     "data": {
      "text/html": [
       "<strong id=\"mult_8_3\">mult_8_3:</strong> <a class=\"ProveItLink\" href=\"../__pv_it/79b6abf905ba1628ab31de76fad82eb8241469300/expr.ipynb\"><img src=\"data:image/png;base64,iVBORw0KGgoAAAANSUhEUgAAAGEAAAAVBAMAAACkm51HAAAAMFBMVEX////c3NwiIiJERESqqqqY\n",
       "mJh2dnZmZmYQEBDu7u4yMjJUVFTMzMyIiIi6uroAAAAs73DqAAAAAXRSTlMAQObYZgAAAaBJREFU\n",
       "OMuVk79Lw0AUx7/RJG1qU4oIDnXwxx9QF2e7uQjGRcFBC0KcxFDFQkF0cBAEvUm6WRCH2sE6Soc6\n",
       "OeiSRXFwCI66iNiKisZ3aaMlCQFvuMu97/vk7n3vDvh/S5j+2HwocQ0c6Gu/07i+mEHkwpsl5I8s\n",
       "rlapKwMGIpor9SPxBZS8RArqKw1do4BqQtKgDLrSSgYvwIyXOAfSNNwREWWQqx3ElEMUvcQOQ92C\n",
       "MEfEIyB+MrmjfL6r7oyHOGXYtCDHiFin6XjjtkOMUXWy4bcozTDNiWP6jthDf8JlhTrRKb1wwlul\n",
       "bWITismJPZrMXtl8FwpzJJVCiS3fEpQs8w7fgGRg4Z1ih+3y9xnizz5iFZh0CbJLaFCsSFMMUFla\n",
       "AKGSoVmH2G5ZudEWFJtxorWr3DBvI44wAaGvVqvvmhijNZLAmfuvDzIlCcl76HEDEqVFaY0lMqYM\n",
       "MetKN0g0A9zt1fUcWsQDjU/5v5so5gvkW8zyHoZt01WQ62+asyV/K4ZcdikbFF0Oex/lgJhSCiNS\n",
       "AbGeZBghBLza+5D8H2yTYsrHfBO4AAAAAElFTkSuQmCC\n",
       "\" style=\"display:inline;vertical-align:middle;\" /></a><br>(see <a class=\"ProveItLink\" href=\"../__pv_it/79b6abf905ba1628ab31de76fad82eb8241469300/dependencies.ipynb\">dependencies</a>)<br>"
      ],
      "text/plain": [
       "mult_8_3: (8 * 3) = 24"
      ]
     },
     "execution_count": 2,
     "metadata": {},
     "output_type": "execute_result"
    }
   ],
   "source": [
    "%proving mult_8_3 presuming []"
   ]
  },
  {
   "cell_type": "code",
   "execution_count": null,
   "metadata": {},
   "outputs": [],
   "source": []
  }
 ],
 "metadata": {
  "kernelspec": {
   "display_name": "Python 3",
   "language": "python",
   "name": "python3"
  }
 },
 "nbformat": 4,
 "nbformat_minor": 0
}
