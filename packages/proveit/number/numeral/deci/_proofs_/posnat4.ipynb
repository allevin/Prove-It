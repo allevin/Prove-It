{
 "cells": [
  {
   "cell_type": "markdown",
   "metadata": {},
   "source": [
    "Proof of <a class=\"ProveItLink\" href=\"../../../../_context_.ipynb\">proveit</a>.<a class=\"ProveItLink\" href=\"../../../_context_.ipynb\">number</a>.<a class=\"ProveItLink\" href=\"../../_context_.ipynb\">numeral</a>.<a class=\"ProveItLink\" href=\"../_context_.ipynb\">decimal</a>.<a class=\"ProveItLink\" href=\"../_theorems_.ipynb#posnat4\">posnat4</a> theorem\n",
    "========"
   ]
  },
  {
   "cell_type": "code",
   "execution_count": 1,
   "metadata": {},
   "outputs": [],
   "source": [
    "import proveit\n",
    "context = proveit.Context('..') # the theorem's context is in the parent directory"
   ]
  },
  {
   "cell_type": "code",
   "execution_count": 2,
   "metadata": {},
   "outputs": [
    {
     "name": "stdout",
     "output_type": "stream",
     "text": [
      "Beginning proof of posnat4\n",
      "Recorded 'presuming' information\n",
      "Presuming previous theorems (applied transitively).\n"
     ]
    },
    {
     "data": {
      "text/html": [
       "<strong id=\"posnat4\">posnat4:</strong> <a class=\"ProveItLink\" href=\"../__pv_it/f903edf0e2a7b2f12c6bb76e9b3e7ac0726992ab0/expr.ipynb\"><img src=\"data:image/png;base64,iVBORw0KGgoAAAANSUhEUgAAAD8AAAAUBAMAAADIGvgZAAAAMFBMVEX///+6urpmZmaqqqru7u52\n",
       "dnYyMjKYmJjc3NwQEBCIiIhEREQiIiJUVFTMzMwAAACQ7J58AAAAAXRSTlMAQObYZgAAAONJREFU\n",
       "KM9jYMADmBkIAG76KXiLKuz2e5sDg84fA4SC02gat/NtYGD4wHAtLTMtbQGQzzUbTcGdB6sYGCYg\n",
       "rGjPhtAsy86cSQAxLqbwPkBWEABV8KwEasK9tywpSArYGyAKOLbArLjHvOA1kgIvBogC7ga4AgZF\n",
       "9gUgBbwQG6AKvBkQCngd7k2AR8gDqALJM2egjrzHwHLBDa7AlQGq4C2SCQxP+eAKbO/e/XkLxPBB\n",
       "VsBusAEpYCABxVuApIAhAlMBy0EYfyMQMyUg5GP/q4PpNj0IX+wnUDdLApbYtc05gykMAGxpQqH5\n",
       "TxUoAAAAAElFTkSuQmCC\n",
       "\" style=\"display:inline;vertical-align:middle;\" /></a><br>(see <a class=\"ProveItLink\" href=\"../__pv_it/f903edf0e2a7b2f12c6bb76e9b3e7ac0726992ab0/dependencies.ipynb\">dependencies</a>)<br>"
      ],
      "text/plain": [
       "posnat4: 4 in NaturalsPos"
      ]
     },
     "execution_count": 2,
     "metadata": {},
     "output_type": "execute_result"
    }
   ],
   "source": [
    "%proving posnat4 presuming []"
   ]
  },
  {
   "cell_type": "code",
   "execution_count": null,
   "metadata": {},
   "outputs": [],
   "source": []
  }
 ],
 "metadata": {
  "kernelspec": {
   "display_name": "Python 3",
   "language": "python",
   "name": "python3"
  }
 },
 "nbformat": 4,
 "nbformat_minor": 0
}
