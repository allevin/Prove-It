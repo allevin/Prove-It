{
 "cells": [
  {
   "cell_type": "markdown",
   "metadata": {},
   "source": [
    "Proof of <a class=\"ProveItLink\" href=\"../../../../_context_.ipynb\">proveit</a>.<a class=\"ProveItLink\" href=\"../../../_context_.ipynb\">number</a>.<a class=\"ProveItLink\" href=\"../../_context_.ipynb\">numeral</a>.<a class=\"ProveItLink\" href=\"../_context_.ipynb\">deci</a>.<a class=\"ProveItLink\" href=\"../_theorems_.ipynb#mult_1_3\">mult_1_3</a> theorem\n",
    "========"
   ]
  },
  {
   "cell_type": "code",
   "execution_count": 1,
   "metadata": {},
   "outputs": [],
   "source": [
    "import proveit\n",
    "context = proveit.Context('..') # the theorem's context is in the parent directory"
   ]
  },
  {
   "cell_type": "code",
   "execution_count": 2,
   "metadata": {},
   "outputs": [
    {
     "name": "stdout",
     "output_type": "stream",
     "text": [
      "Beginning proof of mult_1_3\n",
      "Recorded 'presuming' information\n",
      "Presuming previous theorems (applied transitively).\n"
     ]
    },
    {
     "data": {
      "text/html": [
       "<strong id=\"mult_1_3\">mult_1_3:</strong> <a class=\"ProveItLink\" href=\"../__pv_it/64a0eefde410fdf46872b433b52744956a693fc00/expr.ipynb\"><img src=\"data:image/png;base64,iVBORw0KGgoAAAANSUhEUgAAAFcAAAAVBAMAAADBdm84AAAAMFBMVEX////c3NwiIiJERESqqqqY\n",
       "mJh2dnZmZmYQEBDu7u4yMjJUVFTMzMyIiIi6uroAAAAs73DqAAAAAXRSTlMAQObYZgAAARxJREFU\n",
       "KM9jYCAJ8F3AFIvDpfg0EDNPgHN50pIdGNgPoKsCCzMwrGRg4LRHKBZn4PvLwLAAXTFEmPcCA+fu\n",
       "/QjF+Q4MnxgYwtAVQ4Q5QOruIxT7g0VnoCuGCL9iQFXMALaP2QEzIIDCZRiKuTYwMLAVYCgGCS9F\n",
       "V3xsNZBgAfuwahUIrEYI9yEUc0K08AKF+BowTAYJ/0Monq8AEe6fwMDzATNCgMJIimcYAAkZBgb7\n",
       "AEzFEOEWVDdz/p8AEoU4o0gJBJQRwqZoHvzFwKAvwMCKHoUQ4XQ0xVcZ+L5hCTqI8CMgq7x/eQBM\n",
       "lKW8ChghXA/QFEOEOQSwJcUZ2FMoawI20Vwc6XklFjHOBTgUS2MR4xbAoZgRS7a6g10pAAGrVqSG\n",
       "0NfuAAAAAElFTkSuQmCC\n",
       "\" style=\"display:inline;vertical-align:middle;\" /></a><br>(see <a class=\"ProveItLink\" href=\"../__pv_it/64a0eefde410fdf46872b433b52744956a693fc00/dependencies.ipynb\">dependencies</a>)<br>"
      ],
      "text/plain": [
       "mult_1_3: (1 * 3) = 3"
      ]
     },
     "execution_count": 2,
     "metadata": {},
     "output_type": "execute_result"
    }
   ],
   "source": [
    "%proving mult_1_3 presuming []"
   ]
  },
  {
   "cell_type": "code",
   "execution_count": null,
   "metadata": {},
   "outputs": [],
   "source": []
  }
 ],
 "metadata": {
  "kernelspec": {
   "display_name": "Python 3",
   "language": "python",
   "name": "python3"
  }
 },
 "nbformat": 4,
 "nbformat_minor": 0
}
