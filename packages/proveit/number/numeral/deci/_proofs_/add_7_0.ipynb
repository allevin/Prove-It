{
 "cells": [
  {
   "cell_type": "markdown",
   "metadata": {},
   "source": [
    "Proof of <a class=\"ProveItLink\" href=\"../../../../_context_.ipynb\">proveit</a>.<a class=\"ProveItLink\" href=\"../../../_context_.ipynb\">number</a>.<a class=\"ProveItLink\" href=\"../../_context_.ipynb\">numeral</a>.<a class=\"ProveItLink\" href=\"../_context_.ipynb\">decimal</a>.<a class=\"ProveItLink\" href=\"../_theorems_.ipynb#add_7_0\">add_7_0</a> theorem\n",
    "========"
   ]
  },
  {
   "cell_type": "code",
   "execution_count": 1,
   "metadata": {},
   "outputs": [],
   "source": [
    "import proveit\n",
    "context = proveit.Context('..') # the theorem's context is in the parent directory"
   ]
  },
  {
   "cell_type": "code",
   "execution_count": 2,
   "metadata": {},
   "outputs": [
    {
     "name": "stdout",
     "output_type": "stream",
     "text": [
      "Beginning proof of add_7_0\n",
      "Recorded 'presuming' information\n",
      "Presuming previous theorems (applied transitively).\n"
     ]
    },
    {
     "data": {
      "text/html": [
       "<strong id=\"add_7_0\">add_7_0:</strong> <a class=\"ProveItLink\" href=\"../__pv_it/89e078f6825e0fbfc5d20d85de6488fd9adfdf5c0/expr.ipynb\"><img src=\"data:image/png;base64,iVBORw0KGgoAAAANSUhEUgAAAGIAAAAVBAMAAABPrCZEAAAAMFBMVEX////c3NwiIiJERESqqqqY\n",
       "mJh2dnZmZmYQEBDu7u4yMjJUVFTMzMyIiIi6uroAAAAs73DqAAAAAXRSTlMAQObYZgAAAV9JREFU\n",
       "OMtjYCAd8F3AIRGHS8dpBh71tLQ0FDHO2usHGNgPoCs9VJaWlsDAsJKB9f///79RpJgecOowMCxA\n",
       "1xEPVLiBgfcCA9sEBoYNELGJEOoSA8MtBoYwdB2ZDAzcDAwcExjYGBjYoC7whVDaDAzvBRhmoOsA\n",
       "uiiHgeEVmP2WAUXHdwaG8w4MzA5Yg6kM7FMDFB2M34A6gK4twNAxGYiXghjsDpg6EhhYwF5nXwUG\n",
       "EI+WAHEfiDGfAZsOvgZ0Kzg/AIl/INYtBmyu4vmAroN3AUyHNphftWqVxqpVq6E+D8CigwnkthaQ\n",
       "Zd9R7QCZ4C8AdRW7EhiAw2Y+KCxMQWGGrgMYg0kMDKwYkf4epCMdiFnQdTA5cPYwYAldf5DIIyDm\n",
       "+Yqmg7PsNjARcD1A1wH0HDCVCCAL+SJzZmBP7KwJyLy3yJxcHPljJa6Mw7kAh4Q0Lh3cAjgkGHHl\n",
       "2jvYhQH7zF29wHov0AAAAABJRU5ErkJggg==\n",
       "\" style=\"display:inline;vertical-align:middle;\" /></a><br>(see <a class=\"ProveItLink\" href=\"../__pv_it/89e078f6825e0fbfc5d20d85de6488fd9adfdf5c0/dependencies.ipynb\">dependencies</a>)<br>"
      ],
      "text/plain": [
       "add_7_0: (7 + 0) = 7"
      ]
     },
     "execution_count": 2,
     "metadata": {},
     "output_type": "execute_result"
    }
   ],
   "source": [
    "%proving add_7_0 presuming []"
   ]
  },
  {
   "cell_type": "code",
   "execution_count": null,
   "metadata": {},
   "outputs": [],
   "source": []
  }
 ],
 "metadata": {
  "kernelspec": {
   "display_name": "Python 3",
   "language": "python",
   "name": "python3"
  }
 },
 "nbformat": 4,
 "nbformat_minor": 0
}
