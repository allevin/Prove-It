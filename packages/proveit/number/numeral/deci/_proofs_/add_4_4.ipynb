{
 "cells": [
  {
   "cell_type": "markdown",
   "metadata": {},
   "source": [
    "Proof of <a class=\"ProveItLink\" href=\"../../../../_context_.ipynb\">proveit</a>.<a class=\"ProveItLink\" href=\"../../../_context_.ipynb\">number</a>.<a class=\"ProveItLink\" href=\"../../_context_.ipynb\">numeral</a>.<a class=\"ProveItLink\" href=\"../_context_.ipynb\">decimal</a>.<a class=\"ProveItLink\" href=\"../_theorems_.ipynb#add_4_4\">add_4_4</a> theorem\n",
    "========"
   ]
  },
  {
   "cell_type": "code",
   "execution_count": 1,
   "metadata": {},
   "outputs": [],
   "source": [
    "import proveit\n",
    "context = proveit.Context('..') # the theorem's context is in the parent directory"
   ]
  },
  {
   "cell_type": "code",
   "execution_count": 2,
   "metadata": {},
   "outputs": [
    {
     "name": "stdout",
     "output_type": "stream",
     "text": [
      "Beginning proof of add_4_4\n",
      "Recorded 'presuming' information\n",
      "Presuming previous theorems (applied transitively).\n"
     ]
    },
    {
     "data": {
      "text/html": [
       "<strong id=\"add_4_4\">add_4_4:</strong> <a class=\"ProveItLink\" href=\"../__pv_it/b60d3a5538a5cbb408062e9ec533a7c1642bec8a0/expr.ipynb\"><img src=\"data:image/png;base64,iVBORw0KGgoAAAANSUhEUgAAAGEAAAAVBAMAAACkm51HAAAAMFBMVEX////c3NwiIiJERESqqqqY\n",
       "mJh2dnZmZmYQEBDu7u4yMjJUVFTMzMyIiIi6uroAAAAs73DqAAAAAXRSTlMAQObYZgAAAWZJREFU\n",
       "OMtjYCAd8F3AIRGHS8dpOIEMeDYwsB9AF+RMS3cAUitBbGV0SSYDBoYF6ILsDAylDAy8IEfxNkPF\n",
       "JsIkbwB1hKHrCGVgmMTAwDEByBRdDBXzhdKMUUAdM9B1ZIN1vAIxE9B1sHEBdTA7oOnw38mQy8BQ\n",
       "BmSxCqDrCATpYCtA08H8PzaBgWEpkDWXAU0H5wWQDhaw19lXgcEGELv+kwADQx/IUeg62BhAOvga\n",
       "0OxgrVn/hYHhH9CsA+g6fMA6eD6g6QhnYP0/AaRjGgNER9WqVRqrVq0GOioBu45OBgb5AIYWBgbv\n",
       "3bt/7EW2g2X37v3dF6CuYlcCA6AJnEA++wUGU7CaZrSwYuAAqmBFj/RGBgZuAYZ03DowQtdrAoMb\n",
       "A8MjcGT+L0WLwf3fAxi4HqAn8+3lwEjlEEAW80XmzMCe2FkTkHlvkTm5OPLHSlwZh3MBDglpXDq4\n",
       "BXBIMOLKtXewCwMAf/hTgr9h+pAAAAAASUVORK5CYII=\n",
       "\" style=\"display:inline;vertical-align:middle;\" /></a><br>(see <a class=\"ProveItLink\" href=\"../__pv_it/b60d3a5538a5cbb408062e9ec533a7c1642bec8a0/dependencies.ipynb\">dependencies</a>)<br>"
      ],
      "text/plain": [
       "add_4_4: (4 + 4) = 8"
      ]
     },
     "execution_count": 2,
     "metadata": {},
     "output_type": "execute_result"
    }
   ],
   "source": [
    "%proving add_4_4 presuming []"
   ]
  },
  {
   "cell_type": "code",
   "execution_count": null,
   "metadata": {},
   "outputs": [],
   "source": []
  }
 ],
 "metadata": {
  "kernelspec": {
   "display_name": "Python 3",
   "language": "python",
   "name": "python3"
  }
 },
 "nbformat": 4,
 "nbformat_minor": 0
}
