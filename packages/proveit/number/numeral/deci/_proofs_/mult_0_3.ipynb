{
 "cells": [
  {
   "cell_type": "markdown",
   "metadata": {},
   "source": [
    "Proof of <a class=\"ProveItLink\" href=\"../../../../_context_.ipynb\">proveit</a>.<a class=\"ProveItLink\" href=\"../../../_context_.ipynb\">number</a>.<a class=\"ProveItLink\" href=\"../../_context_.ipynb\">numeral</a>.<a class=\"ProveItLink\" href=\"../_context_.ipynb\">deci</a>.<a class=\"ProveItLink\" href=\"../_theorems_.ipynb#mult_0_3\">mult_0_3</a> theorem\n",
    "========"
   ]
  },
  {
   "cell_type": "code",
   "execution_count": 1,
   "metadata": {},
   "outputs": [],
   "source": [
    "import proveit\n",
    "context = proveit.Context('..') # the theorem's context is in the parent directory"
   ]
  },
  {
   "cell_type": "code",
   "execution_count": 2,
   "metadata": {},
   "outputs": [
    {
     "name": "stdout",
     "output_type": "stream",
     "text": [
      "Beginning proof of mult_0_3\n",
      "Recorded 'presuming' information\n",
      "Presuming previous theorems (applied transitively).\n"
     ]
    },
    {
     "data": {
      "text/html": [
       "<strong id=\"mult_0_3\">mult_0_3:</strong> <a class=\"ProveItLink\" href=\"../__pv_it/12f65bb74b0480eb15a7448b3311b1e2eaf832460/expr.ipynb\"><img src=\"data:image/png;base64,iVBORw0KGgoAAAANSUhEUgAAAFcAAAAVBAMAAADBdm84AAAAMFBMVEX////c3NwiIiJERESqqqqY\n",
       "mJh2dnZmZmYQEBDu7u4yMjJUVFTMzMyIiIi6uroAAAAs73DqAAAAAXRSTlMAQObYZgAAAWVJREFU\n",
       "KM+Vkz1Lw1AUhp/WtjY1jdkcFCzqpqiLs/kH7eQoQUGnYnGoUBQcHEWLS7vZxaF26Q9wcHJxsAgi\n",
       "+AHF0cUPtILQ6k1qUk1uBs9wufc9D4fzdeFfpjX82mIQfA6l+033qa4sG/Sfeill69rSqjDNgesd\n",
       "QmtDxQuHm8oUJBskUyRd75rBKyx44Uu4gXiRcB3txVHTNlz2wpPwpPMIgznUt18VizT6DA/8ARcG\n",
       "eRg1Uds9PVGHWO4vG2oJuMFRF265+llNHBG7hsKxZTUHNtnrwUrRppNC0rYlkU06vTQOU13PfhH1\n",
       "WZpGp1vgu1DKs+IYgfmMD7YLzLCD1bqI0zrlq2jB3TTWxywb/2ldWmcOayixlBPiE2Z0ohX/UJZg\n",
       "VdwmKLvjvkJr+VtH2FB24UHcStkTV41sFMRAEk3vIuVvRby4LlvFsnxDo6ZMzQbsc1WiKZUAeFii\n",
       "DegBcEjyre7k6Dced14AfAIjPAAAAABJRU5ErkJggg==\n",
       "\" style=\"display:inline;vertical-align:middle;\" /></a><br>(see <a class=\"ProveItLink\" href=\"../__pv_it/12f65bb74b0480eb15a7448b3311b1e2eaf832460/dependencies.ipynb\">dependencies</a>)<br>"
      ],
      "text/plain": [
       "mult_0_3: (0 * 3) = 0"
      ]
     },
     "execution_count": 2,
     "metadata": {},
     "output_type": "execute_result"
    }
   ],
   "source": [
    "%proving mult_0_3 presuming []"
   ]
  },
  {
   "cell_type": "code",
   "execution_count": null,
   "metadata": {},
   "outputs": [],
   "source": []
  }
 ],
 "metadata": {
  "kernelspec": {
   "display_name": "Python 3",
   "language": "python",
   "name": "python3"
  }
 },
 "nbformat": 4,
 "nbformat_minor": 0
}
