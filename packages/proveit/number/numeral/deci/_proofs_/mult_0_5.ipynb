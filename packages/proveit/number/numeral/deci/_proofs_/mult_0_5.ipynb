{
 "cells": [
  {
   "cell_type": "markdown",
   "metadata": {},
   "source": [
    "Proof of <a class=\"ProveItLink\" href=\"../../../../_context_.ipynb\">proveit</a>.<a class=\"ProveItLink\" href=\"../../../_context_.ipynb\">number</a>.<a class=\"ProveItLink\" href=\"../../_context_.ipynb\">numeral</a>.<a class=\"ProveItLink\" href=\"../_context_.ipynb\">deci</a>.<a class=\"ProveItLink\" href=\"../_theorems_.ipynb#mult_0_5\">mult_0_5</a> theorem\n",
    "========"
   ]
  },
  {
   "cell_type": "code",
   "execution_count": 1,
   "metadata": {},
   "outputs": [],
   "source": [
    "import proveit\n",
    "context = proveit.Context('..') # the theorem's context is in the parent directory"
   ]
  },
  {
   "cell_type": "code",
   "execution_count": 2,
   "metadata": {},
   "outputs": [
    {
     "name": "stdout",
     "output_type": "stream",
     "text": [
      "Beginning proof of mult_0_5\n",
      "Recorded 'presuming' information\n",
      "Presuming previous theorems (applied transitively).\n"
     ]
    },
    {
     "data": {
      "text/html": [
       "<strong id=\"mult_0_5\">mult_0_5:</strong> <a class=\"ProveItLink\" href=\"../__pv_it/c80794b9817fac2274b7264a9b8fb183214fd3340/expr.ipynb\"><img src=\"data:image/png;base64,iVBORw0KGgoAAAANSUhEUgAAAFcAAAAVBAMAAADBdm84AAAAMFBMVEX////c3NwiIiJERESqqqqY\n",
       "mJh2dnZmZmYQEBDu7u4yMjJUVFTMzMyIiIi6uroAAAAs73DqAAAAAXRSTlMAQObYZgAAAWRJREFU\n",
       "KM+Vkz1Lw1AUhp9+2rRpzebgYFE3RURw7z/QSXCRIIKLxeJQwQ/8wFGkuLSbXRxaF0dBh+4OFhfB\n",
       "WgiOLiponWy9aZqUJjeDZzjcvOfhcs97TuBfkap7tRU/+B6KzT3nM74cWGOo5qaU/SdTq8AM5041\n",
       "1unoUHbDQUOZhmSdZJqkU43vboi85IYf4VncVCB4TerTVhPdXHLDU/Cu8QbDOdSvQTiUccE/8JAh\n",
       "D2M66q8DNxsGRHODbKAl4DqXFtyy5VBBaUO428NO1YwrG9Y568NKweJvhPmHkpt12v1nXKStymYN\n",
       "9UP6jLbV4LdpwaxIcwI2PHC3wUVOMK0LO9Ydw4HWe8bWuBkTPesWNOYxhxJN27CwoQqRsncoq7Au\n",
       "TpOUnHGPED7yWkcwo5zCqzgVs3eOqm7famLohnuR8g1xX0yTrWJJvqERXaZmffa5ItGUsg88KtES\n",
       "mg8ckPxWL3L0DwCsXI2LlsynAAAAAElFTkSuQmCC\n",
       "\" style=\"display:inline;vertical-align:middle;\" /></a><br>(see <a class=\"ProveItLink\" href=\"../__pv_it/c80794b9817fac2274b7264a9b8fb183214fd3340/dependencies.ipynb\">dependencies</a>)<br>"
      ],
      "text/plain": [
       "mult_0_5: (0 * 5) = 0"
      ]
     },
     "execution_count": 2,
     "metadata": {},
     "output_type": "execute_result"
    }
   ],
   "source": [
    "%proving mult_0_5 presuming []"
   ]
  },
  {
   "cell_type": "code",
   "execution_count": null,
   "metadata": {},
   "outputs": [],
   "source": []
  }
 ],
 "metadata": {
  "kernelspec": {
   "display_name": "Python 3",
   "language": "python",
   "name": "python3"
  }
 },
 "nbformat": 4,
 "nbformat_minor": 0
}
