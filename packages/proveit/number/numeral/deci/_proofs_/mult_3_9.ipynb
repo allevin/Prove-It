{
 "cells": [
  {
   "cell_type": "markdown",
   "metadata": {},
   "source": [
    "Proof of <a class=\"ProveItLink\" href=\"../../../../_context_.ipynb\">proveit</a>.<a class=\"ProveItLink\" href=\"../../../_context_.ipynb\">number</a>.<a class=\"ProveItLink\" href=\"../../_context_.ipynb\">numeral</a>.<a class=\"ProveItLink\" href=\"../_context_.ipynb\">deci</a>.<a class=\"ProveItLink\" href=\"../_theorems_.ipynb#mult_3_9\">mult_3_9</a> theorem\n",
    "========"
   ]
  },
  {
   "cell_type": "code",
   "execution_count": 1,
   "metadata": {},
   "outputs": [],
   "source": [
    "import proveit\n",
    "context = proveit.Context('..') # the theorem's context is in the parent directory"
   ]
  },
  {
   "cell_type": "code",
   "execution_count": 2,
   "metadata": {},
   "outputs": [
    {
     "name": "stdout",
     "output_type": "stream",
     "text": [
      "Beginning proof of mult_3_9\n",
      "Recorded 'presuming' information\n",
      "Presuming previous theorems (applied transitively).\n"
     ]
    },
    {
     "data": {
      "text/html": [
       "<strong id=\"mult_3_9\">mult_3_9:</strong> <a class=\"ProveItLink\" href=\"../__pv_it/62916e5d382151f94041e3775ffa8b41dce73d350/expr.ipynb\"><img src=\"data:image/png;base64,iVBORw0KGgoAAAANSUhEUgAAAGIAAAAVBAMAAABPrCZEAAAAMFBMVEX////c3NwiIiJERESqqqqY\n",
       "mJh2dnZmZmYQEBDu7u4yMjJUVFTMzMyIiIi6uroAAAAs73DqAAAAAXRSTlMAQObYZgAAAaBJREFU\n",
       "OMuVUztLw1AU/tKXfTc4CV1Ef0A7KLjZzdFMbmqniC8sVVpxqYKDkwRciksD6tA6WHAQJ4uDi4PF\n",
       "yaHQ4OjSqlWog/HcpAklCQEP3Nd3znfPud+9F/i/xZt2bMmV8Qg8iFPmMnSz3sBIwxrFFc8U3BdE\n",
       "MQtUweXQMRONZbgDQLYykoj1sKyqah2xJgI9JMYN1wxwDSxYGbdACqtABAhK8A0zfoAtCWUr40jC\n",
       "nUIVbQBvGmBWFfoE2gq8GQvjSkJJ0WUqaMAlhnMICOTsEqUk4ITGC2rRtbqJ7wKzTfi0o+/VmA12\n",
       "i35Tt0PtWFu+KKwi2gSngq/URHzfliKcpoguTX61ZbBPXUU7/mKrnUG0a2NsU4vJOoNrwPtF03Ja\n",
       "95FWdkaMFe5h3SHt3dcZhtUwqCo/wWxSA+fA8agwQaaBhAzPuxHe5jlK67deejQHP48OY6xQQgGd\n",
       "rOF6lsKkuU3dUVHMA/MMfmUZi+emK1BkrzKsWC9DVT+AJ4GpxDs96LLLY/dnndBNt/9RdcBCshsj\n",
       "6YBFeDcG5/BrWy7xf0efbf7Ht6G0AAAAAElFTkSuQmCC\n",
       "\" style=\"display:inline;vertical-align:middle;\" /></a><br>(see <a class=\"ProveItLink\" href=\"../__pv_it/62916e5d382151f94041e3775ffa8b41dce73d350/dependencies.ipynb\">dependencies</a>)<br>"
      ],
      "text/plain": [
       "mult_3_9: (3 * 9) = 27"
      ]
     },
     "execution_count": 2,
     "metadata": {},
     "output_type": "execute_result"
    }
   ],
   "source": [
    "%proving mult_3_9 presuming []"
   ]
  },
  {
   "cell_type": "code",
   "execution_count": null,
   "metadata": {},
   "outputs": [],
   "source": []
  }
 ],
 "metadata": {
  "kernelspec": {
   "display_name": "Python 3",
   "language": "python",
   "name": "python3"
  }
 },
 "nbformat": 4,
 "nbformat_minor": 0
}
