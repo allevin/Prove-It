{
 "cells": [
  {
   "cell_type": "markdown",
   "metadata": {},
   "source": [
    "Proof of <a class=\"ProveItLink\" href=\"../../../../_context_.ipynb\">proveit</a>.<a class=\"ProveItLink\" href=\"../../../_context_.ipynb\">number</a>.<a class=\"ProveItLink\" href=\"../../_context_.ipynb\">numeral</a>.<a class=\"ProveItLink\" href=\"../_context_.ipynb\">deci</a>.<a class=\"ProveItLink\" href=\"../_theorems_.ipynb#mult_2_5\">mult_2_5</a> theorem\n",
    "========"
   ]
  },
  {
   "cell_type": "code",
   "execution_count": 1,
   "metadata": {},
   "outputs": [],
   "source": [
    "import proveit\n",
    "context = proveit.Context('..') # the theorem's context is in the parent directory"
   ]
  },
  {
   "cell_type": "code",
   "execution_count": 2,
   "metadata": {},
   "outputs": [
    {
     "name": "stdout",
     "output_type": "stream",
     "text": [
      "Beginning proof of mult_2_5\n",
      "Recorded 'presuming' information\n",
      "Presuming previous theorems (applied transitively).\n"
     ]
    },
    {
     "data": {
      "text/html": [
       "<strong id=\"mult_2_5\">mult_2_5:</strong> <a class=\"ProveItLink\" href=\"../__pv_it/810c6af0153384f8d0a095efa19b6aac712a88cf0/expr.ipynb\"><img src=\"data:image/png;base64,iVBORw0KGgoAAAANSUhEUgAAAGEAAAAVBAMAAACkm51HAAAAMFBMVEX////c3NwiIiJERESqqqqY\n",
       "mJh2dnZmZmYQEBDu7u4yMjJUVFTMzMyIiIi6uroAAAAs73DqAAAAAXRSTlMAQObYZgAAAYJJREFU\n",
       "OMuVk79Lw0AUx79JW9MzrcSpg0tRcNFBBAcXyX+gLoKLBBG7KBbBKhXxBy6CSKBLwcGCOLQujkKX\n",
       "bg4OLS6CUQyOLnZS6mB8uZqgzTXgDY9773ufe/fe3QH/H32NYGwhlLgFUvkp3+2dl5ag1ILrJgG2\n",
       "c+8KZUhXeNY9Ie44BlAKAIUWINtsFEg2oJqQm36O7RWyc53AaZWIO+CB9jQRP4L65Ukqt8VAjiQR\n",
       "I8CbhlfatgWlg4joIuIDqOvIcV9u+cSTZQM9WQEhvRPRwAX364anRExG+aK89HzFHZd/CAMn3D93\n",
       "DTPb0DVd0l63HAZ4AcqYa8/SbXGthkSz+6k4YbUb5HLjRNhiglc+g0Pyoln0e8oBsKv9nGp90B1D\n",
       "v7s7rWGCvBtg1iOoSRUgVhLloBtcBDKANLycSXtKCtH9Lt2FrLNj4IUmjuP4RGKzqtGl2h2AsvW5\n",
       "AZaz6CXGNdGDLoY89pghiq6G/Y+yIMZKYcSAIKZqYYQk+LWPIeu/AXTBagaDz6vjAAAAAElFTkSu\n",
       "QmCC\n",
       "\" style=\"display:inline;vertical-align:middle;\" /></a><br>(see <a class=\"ProveItLink\" href=\"../__pv_it/810c6af0153384f8d0a095efa19b6aac712a88cf0/dependencies.ipynb\">dependencies</a>)<br>"
      ],
      "text/plain": [
       "mult_2_5: (2 * 5) = 10"
      ]
     },
     "execution_count": 2,
     "metadata": {},
     "output_type": "execute_result"
    }
   ],
   "source": [
    "%proving mult_2_5 presuming []"
   ]
  },
  {
   "cell_type": "code",
   "execution_count": null,
   "metadata": {},
   "outputs": [],
   "source": []
  }
 ],
 "metadata": {
  "kernelspec": {
   "display_name": "Python 3",
   "language": "python",
   "name": "python3"
  }
 },
 "nbformat": 4,
 "nbformat_minor": 0
}
