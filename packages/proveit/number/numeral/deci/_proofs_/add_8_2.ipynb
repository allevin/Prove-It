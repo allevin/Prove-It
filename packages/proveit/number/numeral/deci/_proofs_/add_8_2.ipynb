{
 "cells": [
  {
   "cell_type": "markdown",
   "metadata": {},
   "source": [
    "Proof of <a class=\"ProveItLink\" href=\"../../../../_context_.ipynb\">proveit</a>.<a class=\"ProveItLink\" href=\"../../../_context_.ipynb\">number</a>.<a class=\"ProveItLink\" href=\"../../_context_.ipynb\">numeral</a>.<a class=\"ProveItLink\" href=\"../_context_.ipynb\">decimal</a>.<a class=\"ProveItLink\" href=\"../_theorems_.ipynb#add_8_2\">add_8_2</a> theorem\n",
    "========"
   ]
  },
  {
   "cell_type": "code",
   "execution_count": 1,
   "metadata": {},
   "outputs": [],
   "source": [
    "import proveit\n",
    "context = proveit.Context('..') # the theorem's context is in the parent directory"
   ]
  },
  {
   "cell_type": "code",
   "execution_count": 2,
   "metadata": {},
   "outputs": [
    {
     "name": "stdout",
     "output_type": "stream",
     "text": [
      "Beginning proof of add_8_2\n",
      "Recorded 'presuming' information\n",
      "Presuming previous theorems (applied transitively).\n"
     ]
    },
    {
     "data": {
      "text/html": [
       "<strong id=\"add_8_2\">add_8_2:</strong> <a class=\"ProveItLink\" href=\"../__pv_it/30a6e38c4836f9bf28cb2192d3d535209b6c734d0/expr.ipynb\"><img src=\"data:image/png;base64,iVBORw0KGgoAAAANSUhEUgAAAGwAAAAVBAMAAABRZRb3AAAAMFBMVEX////c3NwiIiJERESqqqqY\n",
       "mJh2dnZmZmYQEBDu7u4yMjJUVFTMzMyIiIi6uroAAAAs73DqAAAAAXRSTlMAQObYZgAAAZJJREFU\n",
       "OMudkz9Iw1AQxr/UpOl/dXJwMIqIk3TQ1XYWCnUSXOzUTkKGYqEodHBx0ehgi5MgIo0g6axgN0EH\n",
       "O7mIVJxEESzYQhEbL61oX9LXwYPw8t3ll7v37h3wTwtVOAHpsR92A+wn0zbnSHYeWHd+PKAB+Qcr\n",
       "UARUyHEmKhioRuFzUN4IYTPYKyNYgRSHV+n4dzuLX4PrHVLCTp1faggqCB7Co8Ft/GKxzuLZgr8F\n",
       "b86Rrkr/MxCq4QUQPzV3hcF8TcgtYLYXNqgi8IE1EpH6HRiMzNUEUr2wsQQCXzgmIZvjDuyWNrZg\n",
       "vch624xurIFtEkvXZtSOHdHzzMvWAG1BUrHStGFy2MrIL5IwOkyhTr6srk/r+mk7fg8eZh1JHZtA\n",
       "gfQGm01UMfxTpDzRtnBXA8Qa5ijbEFBisStgEVjulY3a7VasQxaLEBMMJkwlUwqnAZhEoYwnEq+Z\n",
       "NNsAl2mahJ3ZqczOSRz51YtOhX8WY65gjj837H196xbuSp95K3IjB/3GdJQbKfXDBF4pwTIf+gYp\n",
       "NXOvxLa67QAAAABJRU5ErkJggg==\n",
       "\" style=\"display:inline;vertical-align:middle;\" /></a><br>(see <a class=\"ProveItLink\" href=\"../__pv_it/30a6e38c4836f9bf28cb2192d3d535209b6c734d0/dependencies.ipynb\">dependencies</a>)<br>"
      ],
      "text/plain": [
       "add_8_2: (8 + 2) = 10"
      ]
     },
     "execution_count": 2,
     "metadata": {},
     "output_type": "execute_result"
    }
   ],
   "source": [
    "%proving add_8_2 presuming []"
   ]
  },
  {
   "cell_type": "code",
   "execution_count": null,
   "metadata": {},
   "outputs": [],
   "source": []
  }
 ],
 "metadata": {
  "kernelspec": {
   "display_name": "Python 3",
   "language": "python",
   "name": "python3"
  }
 },
 "nbformat": 4,
 "nbformat_minor": 0
}
