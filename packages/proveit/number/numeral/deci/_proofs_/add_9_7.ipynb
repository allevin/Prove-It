{
 "cells": [
  {
   "cell_type": "markdown",
   "metadata": {},
   "source": [
    "Proof of <a class=\"ProveItLink\" href=\"../../../../_context_.ipynb\">proveit</a>.<a class=\"ProveItLink\" href=\"../../../_context_.ipynb\">number</a>.<a class=\"ProveItLink\" href=\"../../_context_.ipynb\">numeral</a>.<a class=\"ProveItLink\" href=\"../_context_.ipynb\">decimal</a>.<a class=\"ProveItLink\" href=\"../_theorems_.ipynb#add_9_7\">add_9_7</a> theorem\n",
    "========"
   ]
  },
  {
   "cell_type": "code",
   "execution_count": 1,
   "metadata": {},
   "outputs": [],
   "source": [
    "import proveit\n",
    "context = proveit.Context('..') # the theorem's context is in the parent directory"
   ]
  },
  {
   "cell_type": "code",
   "execution_count": 2,
   "metadata": {},
   "outputs": [
    {
     "name": "stdout",
     "output_type": "stream",
     "text": [
      "Beginning proof of add_9_7\n",
      "Recorded 'presuming' information\n",
      "Presuming previous theorems (applied transitively).\n"
     ]
    },
    {
     "data": {
      "text/html": [
       "<strong id=\"add_9_7\">add_9_7:</strong> <a class=\"ProveItLink\" href=\"../__pv_it/7ce56076413cceb7b58a855b9482c2e6936d902d0/expr.ipynb\"><img src=\"data:image/png;base64,iVBORw0KGgoAAAANSUhEUgAAAGwAAAAVBAMAAABRZRb3AAAAMFBMVEX////c3NwiIiJERESqqqqY\n",
       "mJh2dnZmZmYQEBDu7u4yMjJUVFTMzMyIiIi6uroAAAAs73DqAAAAAXRSTlMAQObYZgAAAYhJREFU\n",
       "OMudk71Lw0AYxp+apmnaphUnwcEi+IVLB3W1myAUOjs5pX+AUkEcMnTWuokO6VLE+EGdHBTNLmJn\n",
       "oVicRCgoVESk1ssbK941yeBLcsndc7977t67A/4ZybqPIDeDsBtgv3jJtyUmdV3HZn9nqQyoBd0G\n",
       "DhEqYXiQN+p2u5+I9VHqAsOG7HgaWh2SgXjGbd9xPxGm1iCviNTFNRMmEKsgWkaqgsiHK+R+MPbY\n",
       "UI0+u4cyZOr6DJgZaF8cxqLF3lkvLEaDFUFubwKmOrMueGGp48YaUAUUA1JHwJQsK5boz6Ko9TBz\n",
       "HAN5bLGRq1gUMdMpnrzczBcnE86i5MZtW8DuneLOE0tDbsPNBWVyw7KmLOuIGmZ8MZYJuYMSVdlO\n",
       "cG7q++8klTGKTA+TyG0O0F4x2uSxJGHLXm5hWhtLsjaNE/BYmDDPDcA8dvN4dOTVrIAlaB9PRWp9\n",
       "+yAP5fwKiHKHOMcdQcP/3vDntfW3EqkH3LdDX2Uv6JqO+CpnQVjIbyqa7Q99A4u9cKIV0uBgAAAA\n",
       "AElFTkSuQmCC\n",
       "\" style=\"display:inline;vertical-align:middle;\" /></a><br>(see <a class=\"ProveItLink\" href=\"../__pv_it/7ce56076413cceb7b58a855b9482c2e6936d902d0/dependencies.ipynb\">dependencies</a>)<br>"
      ],
      "text/plain": [
       "add_9_7: (9 + 7) = 16"
      ]
     },
     "execution_count": 2,
     "metadata": {},
     "output_type": "execute_result"
    }
   ],
   "source": [
    "%proving add_9_7 presuming []"
   ]
  },
  {
   "cell_type": "code",
   "execution_count": null,
   "metadata": {},
   "outputs": [],
   "source": []
  }
 ],
 "metadata": {
  "kernelspec": {
   "display_name": "Python 3",
   "language": "python",
   "name": "python3"
  }
 },
 "nbformat": 4,
 "nbformat_minor": 0
}
