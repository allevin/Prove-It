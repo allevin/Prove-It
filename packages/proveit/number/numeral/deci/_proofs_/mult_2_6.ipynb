{
 "cells": [
  {
   "cell_type": "markdown",
   "metadata": {},
   "source": [
    "Proof of <a class=\"ProveItLink\" href=\"../../../../_context_.ipynb\">proveit</a>.<a class=\"ProveItLink\" href=\"../../../_context_.ipynb\">number</a>.<a class=\"ProveItLink\" href=\"../../_context_.ipynb\">numeral</a>.<a class=\"ProveItLink\" href=\"../_context_.ipynb\">deci</a>.<a class=\"ProveItLink\" href=\"../_theorems_.ipynb#mult_2_6\">mult_2_6</a> theorem\n",
    "========"
   ]
  },
  {
   "cell_type": "code",
   "execution_count": 1,
   "metadata": {},
   "outputs": [],
   "source": [
    "import proveit\n",
    "context = proveit.Context('..') # the theorem's context is in the parent directory"
   ]
  },
  {
   "cell_type": "code",
   "execution_count": 2,
   "metadata": {},
   "outputs": [
    {
     "name": "stdout",
     "output_type": "stream",
     "text": [
      "Beginning proof of mult_2_6\n",
      "Recorded 'presuming' information\n",
      "Presuming previous theorems (applied transitively).\n"
     ]
    },
    {
     "data": {
      "text/html": [
       "<strong id=\"mult_2_6\">mult_2_6:</strong> <a class=\"ProveItLink\" href=\"../__pv_it/89cd12b4ee9ea9e7e882acd752749f3a2f258dc90/expr.ipynb\"><img src=\"data:image/png;base64,iVBORw0KGgoAAAANSUhEUgAAAGEAAAAVBAMAAACkm51HAAAAMFBMVEX////c3NwiIiJERESqqqqY\n",
       "mJh2dnZmZmYQEBDu7u4yMjJUVFTMzMyIiIi6uroAAAAs73DqAAAAAXRSTlMAQObYZgAAAYtJREFU\n",
       "OMuVkz9Iw1AQxr/0j2napkQXhy5F0UloERxcJJujujhqpnZRLBWrtIMOCrpIQJCCg4Ui2DpY3MRB\n",
       "NwcRuzkoGBydiojQDsbLa9NK8xrwIMd7992Pe/dyD/i/RWrO2JIr8QAM52a6++PsCsQ7Z940IGyW\n",
       "DFqVIVTxptqCMIEroOgAjhpAFPIXINcQ0uGp24pHQwVY7AVOboi4BuJAQEfgAKEfW1rWLV9w1JCJ\n",
       "2Ndxa+ADCDYgdohz5r0qj7jUsW0g2zpLw1aaj8+UPZDmEWRxHWds8aS1BelzHmOAj7Weq1h28YcI\n",
       "fwOHbF9i2dSCZAJrOiI7/BrBBMAaEBOWP41ZNah5FeE6n1hHm3hhwYLFNYmo9SPkKrld+nxpDNrK\n",
       "JKvROlVmxLLRLjELQcEULe6BBZuYY334i7wa4TT8ClI0GOPJVMxWvJq01+92h5LJDPBOP8M0zQ6B\n",
       "fJ6mLWj0AOJWcwNx06SLCSi8gS64DLtf40VX3d5HmROTim5ElBMLKW6EwHm1ry75v1piZ5kRUGjL\n",
       "AAAAAElFTkSuQmCC\n",
       "\" style=\"display:inline;vertical-align:middle;\" /></a><br>(see <a class=\"ProveItLink\" href=\"../__pv_it/89cd12b4ee9ea9e7e882acd752749f3a2f258dc90/dependencies.ipynb\">dependencies</a>)<br>"
      ],
      "text/plain": [
       "mult_2_6: (2 * 6) = 12"
      ]
     },
     "execution_count": 2,
     "metadata": {},
     "output_type": "execute_result"
    }
   ],
   "source": [
    "%proving mult_2_6 presuming []"
   ]
  },
  {
   "cell_type": "code",
   "execution_count": null,
   "metadata": {},
   "outputs": [],
   "source": []
  }
 ],
 "metadata": {
  "kernelspec": {
   "display_name": "Python 3",
   "language": "python",
   "name": "python3"
  }
 },
 "nbformat": 4,
 "nbformat_minor": 0
}
