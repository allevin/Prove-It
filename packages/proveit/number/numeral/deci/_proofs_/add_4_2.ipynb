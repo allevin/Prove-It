{
 "cells": [
  {
   "cell_type": "markdown",
   "metadata": {},
   "source": [
    "Proof of <a class=\"ProveItLink\" href=\"../../../../_context_.ipynb\">proveit</a>.<a class=\"ProveItLink\" href=\"../../../_context_.ipynb\">number</a>.<a class=\"ProveItLink\" href=\"../../_context_.ipynb\">numeral</a>.<a class=\"ProveItLink\" href=\"../_context_.ipynb\">decimal</a>.<a class=\"ProveItLink\" href=\"../_theorems_.ipynb#add_4_2\">add_4_2</a> theorem\n",
    "========"
   ]
  },
  {
   "cell_type": "code",
   "execution_count": 1,
   "metadata": {},
   "outputs": [],
   "source": [
    "import proveit\n",
    "context = proveit.Context('..') # the theorem's context is in the parent directory"
   ]
  },
  {
   "cell_type": "code",
   "execution_count": 2,
   "metadata": {},
   "outputs": [
    {
     "name": "stdout",
     "output_type": "stream",
     "text": [
      "Beginning proof of add_4_2\n",
      "Recorded 'presuming' information\n",
      "Presuming previous theorems (applied transitively).\n"
     ]
    },
    {
     "data": {
      "text/html": [
       "<strong id=\"add_4_2\">add_4_2:</strong> <a class=\"ProveItLink\" href=\"../__pv_it/3f7e325c7cf243e532a7bc4604da8e780baea1b40/expr.ipynb\"><img src=\"data:image/png;base64,iVBORw0KGgoAAAANSUhEUgAAAGEAAAAVBAMAAACkm51HAAAAMFBMVEX////c3NwiIiJERESqqqqY\n",
       "mJh2dnZmZmYQEBDu7u4yMjJUVFTMzMyIiIi6uroAAAAs73DqAAAAAXRSTlMAQObYZgAAAXBJREFU\n",
       "OMtjYCAd8F3AIRGHS8dpOIEAjOWLHzCwH8BQO60sB0iuBDGVUWWkGXi/MDAsQNfAqMOwiYGBF+Qo\n",
       "3mao2EQItZOBQZ+BIQxdB1MCwyoGBo4JQKboYqiYL4TqmMCw/wHDDHQd8SC1DK9ARAKajvUTGOof\n",
       "MDA7oOlYASbLgJhVAE0HEOhPYGArQNPx6+x1oCFLgay5DBg6eL4xMLCAvc6+Cgw2MDBwfgpgUGVg\n",
       "6AM5ClMHlwEwphpQreD8z8CQP4HhH9CsA5g6ikH2fEDT8QnoeQeQjmkMEB1Vq1ZprFq1GsTk3YBF\n",
       "B8MvoI4LDC0MDN67d//Yi2qHOwOjANRV7EpgAHQlgxHYDlOwimZUV/EUAMOPgRU90v3B/kjHpkMo\n",
       "La2IATN0mRM4WxkYHoGY2f9LUXTo//8P9CXXA/RIr64GCnEIIAv5InNmYE/srAnIvLfInFwc+WMl\n",
       "rozDuQCHhDQuHdwCOCQYceXaO9iFAfg+W6+5+xABAAAAAElFTkSuQmCC\n",
       "\" style=\"display:inline;vertical-align:middle;\" /></a><br>(see <a class=\"ProveItLink\" href=\"../__pv_it/3f7e325c7cf243e532a7bc4604da8e780baea1b40/dependencies.ipynb\">dependencies</a>)<br>"
      ],
      "text/plain": [
       "add_4_2: (4 + 2) = 6"
      ]
     },
     "execution_count": 2,
     "metadata": {},
     "output_type": "execute_result"
    }
   ],
   "source": [
    "%proving add_4_2 presuming []"
   ]
  },
  {
   "cell_type": "code",
   "execution_count": null,
   "metadata": {},
   "outputs": [],
   "source": []
  }
 ],
 "metadata": {
  "kernelspec": {
   "display_name": "Python 3",
   "language": "python",
   "name": "python3"
  }
 },
 "nbformat": 4,
 "nbformat_minor": 0
}
