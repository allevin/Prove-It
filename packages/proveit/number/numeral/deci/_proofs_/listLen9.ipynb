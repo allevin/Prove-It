{
 "cells": [
  {
   "cell_type": "markdown",
   "metadata": {},
   "source": [
    "Proof of <a class=\"ProveItLink\" href=\"../../../../_context_.ipynb\">proveit</a>.<a class=\"ProveItLink\" href=\"../../../_context_.ipynb\">number</a>.<a class=\"ProveItLink\" href=\"../../_context_.ipynb\">numeral</a>.<a class=\"ProveItLink\" href=\"../_context_.ipynb\">decimal</a>.<a class=\"ProveItLink\" href=\"../_theorems_.ipynb#listLen9\">listLen9</a> theorem\n",
    "========"
   ]
  },
  {
   "cell_type": "code",
   "execution_count": 1,
   "metadata": {},
   "outputs": [],
   "source": [
    "import proveit\n",
    "context = proveit.Context('..') # the theorem's context is in the parent directory"
   ]
  },
  {
   "cell_type": "code",
   "execution_count": 2,
   "metadata": {},
   "outputs": [
    {
     "name": "stdout",
     "output_type": "stream",
     "text": [
      "Beginning proof of listLen9\n",
      "Recorded 'presuming' information\n",
      "Presuming previous theorems (applied transitively).\n"
     ]
    },
    {
     "data": {
      "text/html": [
       "<strong id=\"listLen9\">listLen9:</strong> <a class=\"ProveItLink\" href=\"../__pv_it/122311daa9455caf2ca78537c1b9144059d98d640/expr.ipynb\"><img src=\"data:image/png;base64,iVBORw0KGgoAAAANSUhEUgAAAYMAAAAWBAMAAADQlu1lAAAAMFBMVEX///8QEBC6urrMzMxUVFRm\n",
       "ZmZERETc3NwyMjKqqqp2dnaIiIiYmJgiIiLu7u4AAAAU9Wx4AAAAAXRSTlMAQObYZgAABS5JREFU\n",
       "WMPNV31oW1UUP/l8+bxv6B/VTTRDYcKQZSCKILRzKoMIRnAq7aQd001XYU+o20Cl+aPDykoJiLh/\n",
       "RmNZEa3OZ7c6SZh9yOYfLczgJyjCG27gBElpsV3ZVjz33PNeXppkFbKCF/Luueec+/E7X/cG4Fa1\n",
       "D2BtW9RoJrFvyfp+E0aJ2LwGh/+GvrFUM1lZEjOt7vIgKAiBDg9TbCs3ALs7W8e7dHqFhb0zX4FQ\n",
       "uiEE8cSJNMk+lqPhViEMM4RIjVMjHQ1U9Xwda/+ItYITqeLsBcg1hPB6Xmsj2UEcaD0tIoibDKG0\n",
       "2mkBttSFrpi7cnOc0w0h7AZ4kmTSbqF8ixB8NkO4e5XTYvusPlFnV8F5sSGEqwCf21KW+OjQobdb\n",
       "jaP7QUHw51Y5LbYjdZxQeRWc4XwDCGIBYCpFsoW9e39tFUInQwgV8NNX3MjZOVB6irf7pEQpCVpm\n",
       "dEmxtM5J1kps+5EjP9H1KYf0kZkvlVSM4ZKxbDMvWCTbDrDPLReDNUrd3lmXuqr0FwXVj/F4iCFE\n",
       "MC39bXDAtZOuTr41FVGW3miEl5XwuKE5KaubTDwL/YonrhohVQpifoyyaM6F8MKgbAOSfAbggEmy\n",
       "+0BU3T9WA6HiHXR5ZEnGtonHtzEEH/L7LXiOY3wZfIRVbIAw1RztOoTUZtoc10ps/Uwklp00js5D\n",
       "UPnjERll/nWNvPCnFe02SZaEeLWkvVujdMw7+N6LbUWezjEEHbd5GuA3jvEc6GTVoJOvSCSVA4N3\n",
       "zZxxZo84RaED2g0nO1jP9qGLArMNr7aZU1N5ksWtZPVAizU6NT5Z9tAPQHMICyDm2VdZ2ELW0Z2i\n",
       "jURFnUTP1ufuSB7O8swC9POJR+ymEKgiSZnI4dUKbxT3yFy4dlrCuTxuEot88leJQvXbf6grFuVx\n",
       "TpT20GvCOdqdTiDlQbuGRVI4xb2brNPvBDsSI+pJ48Y/tpe4nzLgZfZyCj7kp8+AqAmkF3+X7Wee\n",
       "MciyfY8hjl80aeV4OYFZJH6QOcQsbVhQYiXUFZkNZmnqORnipuO01xgCRrxYgmDuPdofc3k9SDQ6\n",
       "+sKSRCUPO6JpScn4MPmUG/ip9h3AkkutTxiCcibGe9d5YcrAhFKy9zFhgtmALBlhMyEHHSJNLAkw\n",
       "nCnZ6vBkRptq9DzFmHal7Im4UVYaguPZgrgh4z2PZaVCq0MsLYmIFf0pRqx4Di4bpIWXM/5uUIYF\n",
       "FxW1A4NR6UVn32pWVM/aEZNl0iB6Ki5t7UuHelREuywui1xSvgJdxuY6lfdh05MbdLXhpn2le3tT\n",
       "4h7MS5HZhTer9FRn6WsitMzEQxOKNYbxSVrgR2cT5c9MlhV1FKecVHq9uEck1QhCbOerwLKELQ0Q\n",
       "voBTdUjiSSuGqjqKZSh3+2iFnbBVxluPNiuHlT+cWmLwA6PNvWHct+emOqJKkVY85+qHs96Zrt7F\n",
       "5o9tJVOPnPZH7cNGEusoftNw8rDBrHBeZLV3qI5idx4eRwWMt44Cjo7FeHqiwBCmnQUT7h5WHVGl\n",
       "pNY58q+kUjJXPDNdvfGbQBh3zdE1swvaLX9XAb9apmhLmlgCcyFwHaT1sQsVh5AXMQL7DRwdPNP0\n",
       "sf3fIdzxN1OhRbRPIwgi1xyCqH2V8RTvlztc9jyvfrsr8uwFfQxBc/4huDUzXkd4KKk1/TxT0d5J\n",
       "yzvT1QsazSEEa/8sBYyVX6d7GIa2y07rwYRlHjKrTTNhgog31+CP5ykFKNVcBrXx6/06nQWd0jhW\n",
       "4Oik7Vrfgv9H+xeFV58NqRZhQwAAAABJRU5ErkJggg==\n",
       "\" style=\"display:inline;vertical-align:middle;\" /></a><br>(see <a class=\"ProveItLink\" href=\"../__pv_it/122311daa9455caf2ca78537c1b9144059d98d640/dependencies.ipynb\">dependencies</a>)<br>"
      ],
      "text/plain": [
       "listLen9: forall_{a, b, c, d, e, f, g, h, i} (|(a , b , c , d , e , f , g , h , i)| = 9)"
      ]
     },
     "execution_count": 2,
     "metadata": {},
     "output_type": "execute_result"
    }
   ],
   "source": [
    "%proving listLen9 presuming []"
   ]
  },
  {
   "cell_type": "code",
   "execution_count": null,
   "metadata": {},
   "outputs": [],
   "source": []
  }
 ],
 "metadata": {
  "kernelspec": {
   "display_name": "Python 3",
   "language": "python",
   "name": "python3"
  }
 },
 "nbformat": 4,
 "nbformat_minor": 0
}
