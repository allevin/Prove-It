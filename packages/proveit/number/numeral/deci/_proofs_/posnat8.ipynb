{
 "cells": [
  {
   "cell_type": "markdown",
   "metadata": {},
   "source": [
    "Proof of <a class=\"ProveItLink\" href=\"../../../../_context_.ipynb\">proveit</a>.<a class=\"ProveItLink\" href=\"../../../_context_.ipynb\">number</a>.<a class=\"ProveItLink\" href=\"../../_context_.ipynb\">numeral</a>.<a class=\"ProveItLink\" href=\"../_context_.ipynb\">decimal</a>.<a class=\"ProveItLink\" href=\"../_theorems_.ipynb#posnat8\">posnat8</a> theorem\n",
    "========"
   ]
  },
  {
   "cell_type": "code",
   "execution_count": 1,
   "metadata": {},
   "outputs": [],
   "source": [
    "import proveit\n",
    "context = proveit.Context('..') # the theorem's context is in the parent directory"
   ]
  },
  {
   "cell_type": "code",
   "execution_count": 2,
   "metadata": {},
   "outputs": [
    {
     "name": "stdout",
     "output_type": "stream",
     "text": [
      "Beginning proof of posnat8\n",
      "Recorded 'presuming' information\n",
      "Presuming previous theorems (applied transitively).\n"
     ]
    },
    {
     "data": {
      "text/html": [
       "<strong id=\"posnat8\">posnat8:</strong> <a class=\"ProveItLink\" href=\"../__pv_it/a7bf7bc04587978c22a23aa09ad71fe9b7dc885c0/expr.ipynb\"><img src=\"data:image/png;base64,iVBORw0KGgoAAAANSUhEUgAAAD8AAAAUBAMAAADIGvgZAAAAMFBMVEX///+6uroQEBAyMjLMzMzc\n",
       "3NxERESIiIhUVFQiIiKYmJiqqqpmZmZ2dnbu7u4AAAACo3QQAAAAAXRSTlMAQObYZgAAAQBJREFU\n",
       "KM9jYMADuBkIADZ6KXh79zSq8ONvyQ8YTv7cAFNwgIFnAaqKLJYEBoYPDM3GRsbGBQxcCxj4JqAq\n",
       "6HQoZ2BQgFnB2wBTwFc8c6YBiNFox+GAUMD94wFvAViB8zqoCS0efHYIBQz5v2rBNGsezIoW7gI3\n",
       "JAU8/6dC/BQAV8BwkKsApIADzF3j/H8DiH7GgFDA8aBFAcbjOsCw/h+IITRzJtSRLQx8DY/hCpge\n",
       "MLD+AjE8kExg8GWBK3gExMdBjJfICrg2JMBNALqtFcTgWICkgOEqXAG3HQP3BXA4TYQJJYL8ZgA3\n",
       "UOIMNLKCj0Bo4U9A3XwGWGJ3h+VMTGEAzTpAHdPOn6IAAAAASUVORK5CYII=\n",
       "\" style=\"display:inline;vertical-align:middle;\" /></a><br>(see <a class=\"ProveItLink\" href=\"../__pv_it/a7bf7bc04587978c22a23aa09ad71fe9b7dc885c0/dependencies.ipynb\">dependencies</a>)<br>"
      ],
      "text/plain": [
       "posnat8: 8 in NaturalsPos"
      ]
     },
     "execution_count": 2,
     "metadata": {},
     "output_type": "execute_result"
    }
   ],
   "source": [
    "%proving posnat8 presuming []"
   ]
  },
  {
   "cell_type": "code",
   "execution_count": null,
   "metadata": {},
   "outputs": [],
   "source": []
  }
 ],
 "metadata": {
  "kernelspec": {
   "display_name": "Python 3",
   "language": "python",
   "name": "python3"
  }
 },
 "nbformat": 4,
 "nbformat_minor": 0
}
