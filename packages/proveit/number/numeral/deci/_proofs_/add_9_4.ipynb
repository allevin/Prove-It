{
 "cells": [
  {
   "cell_type": "markdown",
   "metadata": {},
   "source": [
    "Proof of <a class=\"ProveItLink\" href=\"../../../../_context_.ipynb\">proveit</a>.<a class=\"ProveItLink\" href=\"../../../_context_.ipynb\">number</a>.<a class=\"ProveItLink\" href=\"../../_context_.ipynb\">numeral</a>.<a class=\"ProveItLink\" href=\"../_context_.ipynb\">decimal</a>.<a class=\"ProveItLink\" href=\"../_theorems_.ipynb#add_9_4\">add_9_4</a> theorem\n",
    "========"
   ]
  },
  {
   "cell_type": "code",
   "execution_count": 1,
   "metadata": {},
   "outputs": [],
   "source": [
    "import proveit\n",
    "context = proveit.Context('..') # the theorem's context is in the parent directory"
   ]
  },
  {
   "cell_type": "code",
   "execution_count": 2,
   "metadata": {},
   "outputs": [
    {
     "name": "stdout",
     "output_type": "stream",
     "text": [
      "Beginning proof of add_9_4\n",
      "Recorded 'presuming' information\n",
      "Presuming previous theorems (applied transitively).\n"
     ]
    },
    {
     "data": {
      "text/html": [
       "<strong id=\"add_9_4\">add_9_4:</strong> <a class=\"ProveItLink\" href=\"../__pv_it/eb978d6f6d12d2dd4612baf2abc692f444c141cf0/expr.ipynb\"><img src=\"data:image/png;base64,iVBORw0KGgoAAAANSUhEUgAAAGwAAAAVBAMAAABRZRb3AAAAMFBMVEX////c3NwiIiJERESqqqqY\n",
       "mJh2dnZmZmYQEBDu7u4yMjJUVFTMzMyIiIi6uroAAAAs73DqAAAAAXRSTlMAQObYZgAAAX9JREFU\n",
       "OMudkztIA0EQhv/z8jJ6Jo0gWCjaaJci1toFlEBqq6sUtBHEBMTiwNR6NhaKJKBBcqJoHcVUNiJe\n",
       "aSMeViJICCTgFT52N564m9srnGp2Zj5mdh7AP2XAljjCThB2C+znL/3MG93BqgncLKSJVoVSxFBS\n",
       "DBgH4l1U77QJZQUNG5oN1UBfqmPf8QK0TVKlLlK1axORFhKjiJlIlBFxO46sFzF4SKKMrnRPJkIM\n",
       "ewVKKWifAqYTDGk/jAgpMg+Wrc1j4STFFiXYCVABogbUDx47AMVmqRq1mJz/Yv1LRN8if6ggI2A6\n",
       "w14k2R4c0E+FH+9aHBaqM+xegsVcdHrBOrluWROWRQrHLuSYUofaRpE942Uu21yt9n71U2R0jEnK\n",
       "w0ouxabIaJsYcYQBgIwb837ZSN97mrTJ2iRO4Yf5DkDLoaHjmbpXZ0Rs+WsNOBOpwvZxDpnCEekK\n",
       "t8RZbgUN+d3w+/r29xGxA+6tKvXsBZ3psNRzEYQpslK0uhz6BgMRcsCRlfr6AAAAAElFTkSuQmCC\n",
       "\" style=\"display:inline;vertical-align:middle;\" /></a><br>(see <a class=\"ProveItLink\" href=\"../__pv_it/eb978d6f6d12d2dd4612baf2abc692f444c141cf0/dependencies.ipynb\">dependencies</a>)<br>"
      ],
      "text/plain": [
       "add_9_4: (9 + 4) = 13"
      ]
     },
     "execution_count": 2,
     "metadata": {},
     "output_type": "execute_result"
    }
   ],
   "source": [
    "%proving add_9_4 presuming []"
   ]
  },
  {
   "cell_type": "code",
   "execution_count": null,
   "metadata": {},
   "outputs": [],
   "source": []
  }
 ],
 "metadata": {
  "kernelspec": {
   "display_name": "Python 3",
   "language": "python",
   "name": "python3"
  }
 },
 "nbformat": 4,
 "nbformat_minor": 0
}
