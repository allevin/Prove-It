{
 "cells": [
  {
   "cell_type": "markdown",
   "metadata": {},
   "source": [
    "Proof of <a class=\"ProveItLink\" href=\"../../../../_context_.ipynb\">proveit</a>.<a class=\"ProveItLink\" href=\"../../../_context_.ipynb\">number</a>.<a class=\"ProveItLink\" href=\"../../_context_.ipynb\">numeral</a>.<a class=\"ProveItLink\" href=\"../_context_.ipynb\">decimal</a>.<a class=\"ProveItLink\" href=\"../_theorems_.ipynb#add_2_8\">add_2_8</a> theorem\n",
    "========"
   ]
  },
  {
   "cell_type": "code",
   "execution_count": 1,
   "metadata": {},
   "outputs": [],
   "source": [
    "import proveit\n",
    "context = proveit.Context('..') # the theorem's context is in the parent directory"
   ]
  },
  {
   "cell_type": "code",
   "execution_count": 2,
   "metadata": {},
   "outputs": [
    {
     "name": "stdout",
     "output_type": "stream",
     "text": [
      "Beginning proof of add_2_8\n",
      "Recorded 'presuming' information\n",
      "Presuming previous theorems (applied transitively).\n"
     ]
    },
    {
     "data": {
      "text/html": [
       "<strong id=\"add_2_8\">add_2_8:</strong> <a class=\"ProveItLink\" href=\"../__pv_it/e3a31419a14975858a691d38fd2a8544eb46b3160/expr.ipynb\"><img src=\"data:image/png;base64,iVBORw0KGgoAAAANSUhEUgAAAGwAAAAVBAMAAABRZRb3AAAAMFBMVEX////c3NwiIiJERESqqqqY\n",
       "mJh2dnZmZmYQEBDu7u4yMjJUVFTMzMyIiIi6uroAAAAs73DqAAAAAXRSTlMAQObYZgAAAZFJREFU\n",
       "OMudkz1Iw1AQx/+pbdKvVJ0cHIwi4iQddLXOQqFOgouZ2knIIBaKQgcXF40OtjgJItIIks4KdhN0\n",
       "aCcXkYqTKIIFUyii8eWlYF/bl8GDvLy7y4+73AfwT4nVOI7Akxd2B4zk5ruMh+l1YLP34wEdKDw6\n",
       "jhIEE/UF1q1BSiHcQ4USBJvBQQVyDREdvg/Xvt/OL4WQgoDaTV1e65AVyMcI6gjuIPLjOpLuSzQd\n",
       "LJTvCVcnEUzEGngFwi1ILOb/0kVSqdl+2KCG6Cc2qOprMRgS1j05M/2wMRXRb5xStaqymGSPk3OR\n",
       "Xg0qZifWxC5VT8Biy7c2qe0LL1oT9KekOIsFNKyStKv8JCn2QG05w5g2jHNyI+UVLA7mlMTCtlM4\n",
       "DcNMtCJ5ttpJShNU4h0N8DcwR5QbYInBgkNAGVjpF420W1ScIgtT6YzC9q0Ev8ppACZRrOCZNM22\n",
       "bRbDW5aMMi66qezeWQqFtSs3nz9JMiOY5+8NO6/vnYpY89i3Etdz5LWmo1xP2QsTeKnIFT70CwIL\n",
       "c6/1hl/LAAAAAElFTkSuQmCC\n",
       "\" style=\"display:inline;vertical-align:middle;\" /></a><br>(see <a class=\"ProveItLink\" href=\"../__pv_it/e3a31419a14975858a691d38fd2a8544eb46b3160/dependencies.ipynb\">dependencies</a>)<br>"
      ],
      "text/plain": [
       "add_2_8: (2 + 8) = 10"
      ]
     },
     "execution_count": 2,
     "metadata": {},
     "output_type": "execute_result"
    }
   ],
   "source": [
    "%proving add_2_8 presuming []"
   ]
  },
  {
   "cell_type": "code",
   "execution_count": null,
   "metadata": {},
   "outputs": [],
   "source": []
  }
 ],
 "metadata": {
  "kernelspec": {
   "display_name": "Python 3",
   "language": "python",
   "name": "python3"
  }
 },
 "nbformat": 4,
 "nbformat_minor": 0
}
