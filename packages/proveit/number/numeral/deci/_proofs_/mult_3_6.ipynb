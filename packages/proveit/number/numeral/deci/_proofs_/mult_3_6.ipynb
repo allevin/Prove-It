{
 "cells": [
  {
   "cell_type": "markdown",
   "metadata": {},
   "source": [
    "Proof of <a class=\"ProveItLink\" href=\"../../../../_context_.ipynb\">proveit</a>.<a class=\"ProveItLink\" href=\"../../../_context_.ipynb\">number</a>.<a class=\"ProveItLink\" href=\"../../_context_.ipynb\">numeral</a>.<a class=\"ProveItLink\" href=\"../_context_.ipynb\">deci</a>.<a class=\"ProveItLink\" href=\"../_theorems_.ipynb#mult_3_6\">mult_3_6</a> theorem\n",
    "========"
   ]
  },
  {
   "cell_type": "code",
   "execution_count": 1,
   "metadata": {},
   "outputs": [],
   "source": [
    "import proveit\n",
    "context = proveit.Context('..') # the theorem's context is in the parent directory"
   ]
  },
  {
   "cell_type": "code",
   "execution_count": 2,
   "metadata": {},
   "outputs": [
    {
     "name": "stdout",
     "output_type": "stream",
     "text": [
      "Beginning proof of mult_3_6\n",
      "Recorded 'presuming' information\n",
      "Presuming previous theorems (applied transitively).\n"
     ]
    },
    {
     "data": {
      "text/html": [
       "<strong id=\"mult_3_6\">mult_3_6:</strong> <a class=\"ProveItLink\" href=\"../__pv_it/7544f9f44ec3c720c0a039e8347e2b9fd6b382f00/expr.ipynb\"><img src=\"data:image/png;base64,iVBORw0KGgoAAAANSUhEUgAAAGEAAAAVBAMAAACkm51HAAAAMFBMVEX////c3NwiIiJERESqqqqY\n",
       "mJh2dnZmZmYQEBDu7u4yMjJUVFTMzMyIiIi6uroAAAAs73DqAAAAAXRSTlMAQObYZgAAAY5JREFU\n",
       "OMuVkz9Iw0AUxr+Ypmnsv+wOFsXNQUQHt04KLu2iTmqmFtRiEdqKFVTQwUWCghQczKBg20FxEXHp\n",
       "5CJCNh0ciqNLtdShHax3V9JKcw34hiPfe+93797LHfB/C5h235Ij8QQ8xiY6+jS9Brlkz5sClFg8\n",
       "TL7yEJKotAsJo7gFDBtwUgdkIAX4TbhrCIasSJ+GAjDfDZw9EGIOOAY8Olx/iWWdrjlbDT8hVhnx\n",
       "wXTnVFdsFcM8InKPBJBmutiONJ5fSLY7ySPE5qIGXBLlW7mxAko1ihHAxVrfKlArtgnsVFXgiOnX\n",
       "Ms0mLShNYF1HYJdXQ9q+rgE/THvoDuchWoM0H4bvk0csQGrqlBBKEL/pgMZoH4QwexCHwGAU+2Tv\n",
       "eotgNs5qtE61MURt2CIU4pRNTAJBA31fFhFhfUgGr8Ye4FURJyKKimZFRE056DXdWR3TwDtRM5mL\n",
       "TiibJXPrL3cB8mYjhcBdhvwrj8q70DmHyy5pPG/C6X3kOT7FcCIGOD6v6kQInFf75pD/C9OPazGB\n",
       "zeCIAAAAAElFTkSuQmCC\n",
       "\" style=\"display:inline;vertical-align:middle;\" /></a><br>(see <a class=\"ProveItLink\" href=\"../__pv_it/7544f9f44ec3c720c0a039e8347e2b9fd6b382f00/dependencies.ipynb\">dependencies</a>)<br>"
      ],
      "text/plain": [
       "mult_3_6: (3 * 6) = 18"
      ]
     },
     "execution_count": 2,
     "metadata": {},
     "output_type": "execute_result"
    }
   ],
   "source": [
    "%proving mult_3_6 presuming []"
   ]
  },
  {
   "cell_type": "code",
   "execution_count": null,
   "metadata": {},
   "outputs": [],
   "source": []
  }
 ],
 "metadata": {
  "kernelspec": {
   "display_name": "Python 3",
   "language": "python",
   "name": "python3"
  }
 },
 "nbformat": 4,
 "nbformat_minor": 0
}
