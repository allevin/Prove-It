{
 "cells": [
  {
   "cell_type": "markdown",
   "metadata": {},
   "source": [
    "Proof of <a class=\"ProveItLink\" href=\"../../../../_context_.ipynb\">proveit</a>.<a class=\"ProveItLink\" href=\"../../../_context_.ipynb\">number</a>.<a class=\"ProveItLink\" href=\"../../_context_.ipynb\">numeral</a>.<a class=\"ProveItLink\" href=\"../_context_.ipynb\">decimal</a>.<a class=\"ProveItLink\" href=\"../_theorems_.ipynb#posnat3\">posnat3</a> theorem\n",
    "========"
   ]
  },
  {
   "cell_type": "code",
   "execution_count": 1,
   "metadata": {},
   "outputs": [],
   "source": [
    "import proveit\n",
    "context = proveit.Context('..') # the theorem's context is in the parent directory"
   ]
  },
  {
   "cell_type": "code",
   "execution_count": 2,
   "metadata": {},
   "outputs": [
    {
     "name": "stdout",
     "output_type": "stream",
     "text": [
      "Beginning proof of posnat3\n",
      "Recorded 'presuming' information\n",
      "Presuming previous theorems (applied transitively).\n"
     ]
    },
    {
     "data": {
      "text/html": [
       "<strong id=\"posnat3\">posnat3:</strong> <a class=\"ProveItLink\" href=\"../__pv_it/38e072570ca6da85ed4431868341b6fdf210c04a0/expr.ipynb\"><img src=\"data:image/png;base64,iVBORw0KGgoAAAANSUhEUgAAAD8AAAAUBAMAAADIGvgZAAAAMFBMVEX///+YmJju7u4QEBBUVFQy\n",
       "MjIiIiKIiIi6urpmZmbc3NyqqqpERER2dnbMzMwAAAB0GlNiAAAAAXRSTlMAQObYZgAAAPVJREFU\n",
       "KM9jYMADuBkIAB56KXh79zSqsOqfowoM075tgCrgmsDQX4Cq4iDfAQaGDwyuocGhoQUMvL8Z+BNQ\n",
       "Fbg9KGdgMIBZwQ1XwFSalhYAYngEsTxAKAACqBVPhaB8vydMQSgKQsAk1yGYFX7cBW+QFPBddYD4\n",
       "aQFcAcMMxgKQAhaoQHEDiNRhQChgUfAzQHI18ycQ2ZyWBnWkHwOTgypcAdcDBp6PIMYTJBMY3vLB\n",
       "Feh/gipQQ1bAuOEAjMcfwMD2C8RgEUBSwHALroBdgKH/AjicMmBCJ4CYMwBu4M6Z0RDG0nkQuvUz\n",
       "UDdTAJbY3RKWhikMAPrGO6ST0UWTAAAAAElFTkSuQmCC\n",
       "\" style=\"display:inline;vertical-align:middle;\" /></a><br>(see <a class=\"ProveItLink\" href=\"../__pv_it/38e072570ca6da85ed4431868341b6fdf210c04a0/dependencies.ipynb\">dependencies</a>)<br>"
      ],
      "text/plain": [
       "posnat3: 3 in NaturalsPos"
      ]
     },
     "execution_count": 2,
     "metadata": {},
     "output_type": "execute_result"
    }
   ],
   "source": [
    "%proving posnat3 presuming []"
   ]
  },
  {
   "cell_type": "code",
   "execution_count": null,
   "metadata": {},
   "outputs": [],
   "source": []
  }
 ],
 "metadata": {
  "kernelspec": {
   "display_name": "Python 3",
   "language": "python",
   "name": "python3"
  }
 },
 "nbformat": 4,
 "nbformat_minor": 0
}
