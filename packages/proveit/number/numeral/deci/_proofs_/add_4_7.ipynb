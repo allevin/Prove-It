{
 "cells": [
  {
   "cell_type": "markdown",
   "metadata": {},
   "source": [
    "Proof of <a class=\"ProveItLink\" href=\"../../../../_context_.ipynb\">proveit</a>.<a class=\"ProveItLink\" href=\"../../../_context_.ipynb\">number</a>.<a class=\"ProveItLink\" href=\"../../_context_.ipynb\">numeral</a>.<a class=\"ProveItLink\" href=\"../_context_.ipynb\">decimal</a>.<a class=\"ProveItLink\" href=\"../_theorems_.ipynb#add_4_7\">add_4_7</a> theorem\n",
    "========"
   ]
  },
  {
   "cell_type": "code",
   "execution_count": 1,
   "metadata": {},
   "outputs": [],
   "source": [
    "import proveit\n",
    "context = proveit.Context('..') # the theorem's context is in the parent directory"
   ]
  },
  {
   "cell_type": "code",
   "execution_count": 2,
   "metadata": {},
   "outputs": [
    {
     "name": "stdout",
     "output_type": "stream",
     "text": [
      "Beginning proof of add_4_7\n",
      "Recorded 'presuming' information\n",
      "Presuming previous theorems (applied transitively).\n"
     ]
    },
    {
     "data": {
      "text/html": [
       "<strong id=\"add_4_7\">add_4_7:</strong> <a class=\"ProveItLink\" href=\"../__pv_it/d9fbe5715210b0ffe5ad1be19f37b3809161260c0/expr.ipynb\"><img src=\"data:image/png;base64,iVBORw0KGgoAAAANSUhEUgAAAGsAAAAVBAMAAACzuQ2OAAAAMFBMVEX////c3NwiIiJERESqqqqY\n",
       "mJh2dnZmZmYQEBDu7u4yMjJUVFTMzMyIiIi6uroAAAAs73DqAAAAAXRSTlMAQObYZgAAAStJREFU\n",
       "OMtjYCAT8F3AIcH6AJ+203ACAXjU09LSGGowFTNPgBErQVxlNIv+////m4ELQxen/QQowQtyI28z\n",
       "VHwihGIDSmxgYE1A17V7/wQIwcABslF0MVTCF6oNiA4wcDZgWHd/ApR4BeIloGkDgrdAbIJbWxnI\n",
       "KwIY2jgNgEQ6bm1LgfRcBgxt7A5AwgvMWgUGG1C19YHciKltPoh4gdu2fwwMLAcwtd0CEefxapvG\n",
       "ANFWtWqVxqpVq8Hy2gS0tTAweO/e/WMvqm2c3+GOZFcCAwNUbaZgbjOaI/nA2qJw25aOVRsLWBue\n",
       "CHgE4mX/L0XVxvMVRK5D11XevzwAQnAIIIv7oiTBBtz5BjW9vkXmsF3Ak99W4pSZhS+bSuOU2YhP\n",
       "GyMup/AewK0JANJra8zJQg4qAAAAAElFTkSuQmCC\n",
       "\" style=\"display:inline;vertical-align:middle;\" /></a><br>(see <a class=\"ProveItLink\" href=\"../__pv_it/d9fbe5715210b0ffe5ad1be19f37b3809161260c0/dependencies.ipynb\">dependencies</a>)<br>"
      ],
      "text/plain": [
       "add_4_7: (4 + 7) = 11"
      ]
     },
     "execution_count": 2,
     "metadata": {},
     "output_type": "execute_result"
    }
   ],
   "source": [
    "%proving add_4_7 presuming []"
   ]
  },
  {
   "cell_type": "code",
   "execution_count": null,
   "metadata": {},
   "outputs": [],
   "source": []
  }
 ],
 "metadata": {
  "kernelspec": {
   "display_name": "Python 3",
   "language": "python",
   "name": "python3"
  }
 },
 "nbformat": 4,
 "nbformat_minor": 0
}
