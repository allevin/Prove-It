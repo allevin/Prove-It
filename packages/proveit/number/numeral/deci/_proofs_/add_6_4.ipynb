{
 "cells": [
  {
   "cell_type": "markdown",
   "metadata": {},
   "source": [
    "Proof of <a class=\"ProveItLink\" href=\"../../../../_context_.ipynb\">proveit</a>.<a class=\"ProveItLink\" href=\"../../../_context_.ipynb\">number</a>.<a class=\"ProveItLink\" href=\"../../_context_.ipynb\">numeral</a>.<a class=\"ProveItLink\" href=\"../_context_.ipynb\">decimal</a>.<a class=\"ProveItLink\" href=\"../_theorems_.ipynb#add_6_4\">add_6_4</a> theorem\n",
    "========"
   ]
  },
  {
   "cell_type": "code",
   "execution_count": 1,
   "metadata": {},
   "outputs": [],
   "source": [
    "import proveit\n",
    "context = proveit.Context('..') # the theorem's context is in the parent directory"
   ]
  },
  {
   "cell_type": "code",
   "execution_count": 2,
   "metadata": {},
   "outputs": [
    {
     "name": "stdout",
     "output_type": "stream",
     "text": [
      "Beginning proof of add_6_4\n",
      "Recorded 'presuming' information\n",
      "Presuming previous theorems (applied transitively).\n"
     ]
    },
    {
     "data": {
      "text/html": [
       "<strong id=\"add_6_4\">add_6_4:</strong> <a class=\"ProveItLink\" href=\"../__pv_it/769c607797e34753d40a3c1b2d60a6476bc886920/expr.ipynb\"><img src=\"data:image/png;base64,iVBORw0KGgoAAAANSUhEUgAAAGwAAAAVBAMAAABRZRb3AAAAMFBMVEX////c3NwiIiJERESqqqqY\n",
       "mJh2dnZmZmYQEBDu7u4yMjJUVFTMzMyIiIi6uroAAAAs73DqAAAAAXRSTlMAQObYZgAAAXlJREFU\n",
       "OMudk7tLw1AUxj9r05dNUwQnB4MvnMRBXd2VQmanTHYQwcEHiENAZ40OtghiQEQaRerkEB/ZHew/\n",
       "UBQnEQQLtdih6km0ktfN4JlOzjk/zpf73Qv8MzIVRoN7DMPugGR+zgwor/uHO1WgULUaJaDb7BK9\n",
       "AwNAykclpwgbxa4JnjQOI6X91HfaA/wGqZS9lHGrghfBa0io4Jp/jVw76TmiKcW37kFFpIxMDS8k\n",
       "RvFjMmEYD8KERaTrWAGEs+qSB+OyFpYPwvpkpFs4Bg6HEJHc2AEsbNpK47odZSfWwBZhb4g13Zhs\n",
       "Y8+sbQ18EiaCq7uwqGlj92yRhAkauBbV1nR9RNdPKdsDG7OO5B2bZL1v24xhfFz/ioz32zHmMCBa\n",
       "wwRJ8v8bQHZjNmgb2R0T7UOeRFEKwgINwCCKJp4sHZc3Xrvnv5aBcy+1un0iobBwBSSyznrOdQUV\n",
       "9rtx39dX50esEvLeSszOftgz7WV2LsKwDpYU3mRD3zJ7cWT33270AAAAAElFTkSuQmCC\n",
       "\" style=\"display:inline;vertical-align:middle;\" /></a><br>(see <a class=\"ProveItLink\" href=\"../__pv_it/769c607797e34753d40a3c1b2d60a6476bc886920/dependencies.ipynb\">dependencies</a>)<br>"
      ],
      "text/plain": [
       "add_6_4: (6 + 4) = 10"
      ]
     },
     "execution_count": 2,
     "metadata": {},
     "output_type": "execute_result"
    }
   ],
   "source": [
    "%proving add_6_4 presuming []"
   ]
  },
  {
   "cell_type": "code",
   "execution_count": null,
   "metadata": {},
   "outputs": [],
   "source": []
  }
 ],
 "metadata": {
  "kernelspec": {
   "display_name": "Python 3",
   "language": "python",
   "name": "python3"
  }
 },
 "nbformat": 4,
 "nbformat_minor": 0
}
