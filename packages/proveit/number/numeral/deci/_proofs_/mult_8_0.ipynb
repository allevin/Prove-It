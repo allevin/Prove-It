{
 "cells": [
  {
   "cell_type": "markdown",
   "metadata": {},
   "source": [
    "Proof of <a class=\"ProveItLink\" href=\"../../../../_context_.ipynb\">proveit</a>.<a class=\"ProveItLink\" href=\"../../../_context_.ipynb\">number</a>.<a class=\"ProveItLink\" href=\"../../_context_.ipynb\">numeral</a>.<a class=\"ProveItLink\" href=\"../_context_.ipynb\">deci</a>.<a class=\"ProveItLink\" href=\"../_theorems_.ipynb#mult_8_0\">mult_8_0</a> theorem\n",
    "========"
   ]
  },
  {
   "cell_type": "code",
   "execution_count": 1,
   "metadata": {},
   "outputs": [],
   "source": [
    "import proveit\n",
    "context = proveit.Context('..') # the theorem's context is in the parent directory"
   ]
  },
  {
   "cell_type": "code",
   "execution_count": 2,
   "metadata": {},
   "outputs": [
    {
     "name": "stdout",
     "output_type": "stream",
     "text": [
      "Beginning proof of mult_8_0\n",
      "Recorded 'presuming' information\n",
      "Presuming previous theorems (applied transitively).\n"
     ]
    },
    {
     "data": {
      "text/html": [
       "<strong id=\"mult_8_0\">mult_8_0:</strong> <a class=\"ProveItLink\" href=\"../__pv_it/7da93239ec21baf1a735fc05ab80c42bf2b856590/expr.ipynb\"><img src=\"data:image/png;base64,iVBORw0KGgoAAAANSUhEUgAAAFcAAAAVBAMAAADBdm84AAAAMFBMVEX////c3NwiIiJERESqqqqY\n",
       "mJh2dnZmZmYQEBDu7u4yMjJUVFTMzMyIiIi6uroAAAAs73DqAAAAAXRSTlMAQObYZgAAAUhJREFU\n",
       "KM9jYCAJ8F3AFIvDpfg0A8O0tBI4l7P2+gEG9gPoqsDCDAwrGRgKGNgDYKJMDzh1GBgWoCuGCPNe\n",
       "YGANYOBUgIleYmC4xcAQhq4YIswxgYFtA5JibQaG9wIMM9AVQ4RfMTCw/J7ABvfldwaG8w4MzA5o\n",
       "iiHCZUCW/ddrMEHGb0DRCwxsBahqocJLgUz2/4ooogkMLGAfVq0CgdUI4T4gM/zUf5C1nBPgonwN\n",
       "WExOYPjHwMBawBD/EygyXwFuH88HrM74Bw4Qxq9AkRkGUJ8EYCiGCrcwgMOpFimM/AWgzihSAgFl\n",
       "hLAp0GQBBoaNSKGfBHTZAsxIAQqnA8N5JQNLAjxeHTh7GDCCDir8CMh6XY6UkMpuA1MM1wP0hAQW\n",
       "BrkBE8zAnkJZE7CJ5uJIzyuxiHEuwKFYGosYtwAOxYxYstUd7EoB4ndkU3OvRx4AAAAASUVORK5C\n",
       "YII=\n",
       "\" style=\"display:inline;vertical-align:middle;\" /></a><br>(see <a class=\"ProveItLink\" href=\"../__pv_it/7da93239ec21baf1a735fc05ab80c42bf2b856590/dependencies.ipynb\">dependencies</a>)<br>"
      ],
      "text/plain": [
       "mult_8_0: (8 * 0) = 0"
      ]
     },
     "execution_count": 2,
     "metadata": {},
     "output_type": "execute_result"
    }
   ],
   "source": [
    "%proving mult_8_0 presuming []"
   ]
  },
  {
   "cell_type": "code",
   "execution_count": null,
   "metadata": {},
   "outputs": [],
   "source": []
  }
 ],
 "metadata": {
  "kernelspec": {
   "display_name": "Python 3",
   "language": "python",
   "name": "python3"
  }
 },
 "nbformat": 4,
 "nbformat_minor": 0
}
