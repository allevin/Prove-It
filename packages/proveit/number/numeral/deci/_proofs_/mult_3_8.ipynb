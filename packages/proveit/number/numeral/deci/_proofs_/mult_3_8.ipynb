{
 "cells": [
  {
   "cell_type": "markdown",
   "metadata": {},
   "source": [
    "Proof of <a class=\"ProveItLink\" href=\"../../../../_context_.ipynb\">proveit</a>.<a class=\"ProveItLink\" href=\"../../../_context_.ipynb\">number</a>.<a class=\"ProveItLink\" href=\"../../_context_.ipynb\">numeral</a>.<a class=\"ProveItLink\" href=\"../_context_.ipynb\">deci</a>.<a class=\"ProveItLink\" href=\"../_theorems_.ipynb#mult_3_8\">mult_3_8</a> theorem\n",
    "========"
   ]
  },
  {
   "cell_type": "code",
   "execution_count": 1,
   "metadata": {},
   "outputs": [],
   "source": [
    "import proveit\n",
    "context = proveit.Context('..') # the theorem's context is in the parent directory"
   ]
  },
  {
   "cell_type": "code",
   "execution_count": 2,
   "metadata": {},
   "outputs": [
    {
     "name": "stdout",
     "output_type": "stream",
     "text": [
      "Beginning proof of mult_3_8\n",
      "Recorded 'presuming' information\n",
      "Presuming previous theorems (applied transitively).\n"
     ]
    },
    {
     "data": {
      "text/html": [
       "<strong id=\"mult_3_8\">mult_3_8:</strong> <a class=\"ProveItLink\" href=\"../__pv_it/39f233f1e01b6e65af29acbd3104202c45cda9850/expr.ipynb\"><img src=\"data:image/png;base64,iVBORw0KGgoAAAANSUhEUgAAAGEAAAAVBAMAAACkm51HAAAAMFBMVEX////c3NwiIiJERESqqqqY\n",
       "mJh2dnZmZmYQEBDu7u4yMjJUVFTMzMyIiIi6uroAAAAs73DqAAAAAXRSTlMAQObYZgAAAaNJREFU\n",
       "OMuVk79LAmEYx7+Xnnp6/iDaHIr6A2yo3akggmyoICicFApBjBIisKChCOJockuoBmvQLcRBp5aW\n",
       "Gx0ajsYWS6xw6XreV0/j7jjoHZ6X53nez/M87/O8L/D/FVKttm1H4hl4Ss0NVSmVjsPbNJ8S8jca\n",
       "bXKVRBlCFu1hIi+wD5TMRBTBLm1js0BQhaeL8JThWgOugHUzUQNitLWI8Clw/yV2OVE0E2cKGhqE\n",
       "TSLeuGFU1UoNGcAVNxEVBQUNHj8RB9zwMHS59K0k4MlaWxRTsMqIO9aBnerIUehEADe/+uE9W4No\n",
       "8hcklRGXXG2x1kkKCfGoQk0JHVtS0GEPE/jhqq9H4ppdfwOirkB+txB7wLJBCE24PslWJBXnwGTC\n",
       "hghWISU5cUqxe32Cj5zK8aqDqnLTbM1wxyKEiXq9caFiHgiXMPZhxDoBAhGI5qHLWYjUER/lSFPC\n",
       "BNpJw7WkYMGmu+OpVA594pVlzN+OnvJjnqbn18zD0PUOBWp8J+CL2D3oosNjF5N21ozT/yjb2KSS\n",
       "ExG1sQUiToRg82tfHM7/Apb/ZKrgZFZvAAAAAElFTkSuQmCC\n",
       "\" style=\"display:inline;vertical-align:middle;\" /></a><br>(see <a class=\"ProveItLink\" href=\"../__pv_it/39f233f1e01b6e65af29acbd3104202c45cda9850/dependencies.ipynb\">dependencies</a>)<br>"
      ],
      "text/plain": [
       "mult_3_8: (3 * 8) = 24"
      ]
     },
     "execution_count": 2,
     "metadata": {},
     "output_type": "execute_result"
    }
   ],
   "source": [
    "%proving mult_3_8 presuming []"
   ]
  },
  {
   "cell_type": "code",
   "execution_count": null,
   "metadata": {},
   "outputs": [],
   "source": []
  }
 ],
 "metadata": {
  "kernelspec": {
   "display_name": "Python 3",
   "language": "python",
   "name": "python3"
  }
 },
 "nbformat": 4,
 "nbformat_minor": 0
}
