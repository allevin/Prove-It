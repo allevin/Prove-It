{
 "cells": [
  {
   "cell_type": "markdown",
   "metadata": {},
   "source": [
    "Proof of <a class=\"ProveItLink\" href=\"../../../../_context_.ipynb\">proveit</a>.<a class=\"ProveItLink\" href=\"../../../_context_.ipynb\">number</a>.<a class=\"ProveItLink\" href=\"../../_context_.ipynb\">numeral</a>.<a class=\"ProveItLink\" href=\"../_context_.ipynb\">deci</a>.<a class=\"ProveItLink\" href=\"../_theorems_.ipynb#mult_1_7\">mult_1_7</a> theorem\n",
    "========"
   ]
  },
  {
   "cell_type": "code",
   "execution_count": 1,
   "metadata": {},
   "outputs": [],
   "source": [
    "import proveit\n",
    "context = proveit.Context('..') # the theorem's context is in the parent directory"
   ]
  },
  {
   "cell_type": "code",
   "execution_count": 2,
   "metadata": {},
   "outputs": [
    {
     "name": "stdout",
     "output_type": "stream",
     "text": [
      "Beginning proof of mult_1_7\n",
      "Recorded 'presuming' information\n",
      "Presuming previous theorems (applied transitively).\n"
     ]
    },
    {
     "data": {
      "text/html": [
       "<strong id=\"mult_1_7\">mult_1_7:</strong> <a class=\"ProveItLink\" href=\"../__pv_it/746c9b73f6ee1e3f7b94de05dfc0e2cdb982da5a0/expr.ipynb\"><img src=\"data:image/png;base64,iVBORw0KGgoAAAANSUhEUgAAAFgAAAAVBAMAAAAwfTS1AAAAMFBMVEX////c3NwiIiJERESqqqqY\n",
       "mJh2dnZmZmYQEBDu7u4yMjJUVFTMzMyIiIi6uroAAAAs73DqAAAAAXRSTlMAQObYZgAAAQlJREFU\n",
       "KM9jYCAJ8F3AFIvDpfg0EDNPgHMPlaWlJbAfQFcFFmZgWMnAwGmPUBz/////DQwL0BVDhHkvMHDu\n",
       "3o9QnMnAwM3AEIauGCLMAVJ3H6EYaFcOA8MMdMUQ4VcMqIohPmZ2wBoQZRiKJwMxWwGGYpDwUgzF\n",
       "JUDMAvZh1SoQWI0Q7kMo5oSQH0B2NqAbDBb+h1A8XwFE8oIM5fmArhgsjKR4hgGIZNqAVTFYuAXd\n",
       "zfML4M4oUgIBZYSwKbri9yBRVowoBAunoyv2L8AadGDhR0Bc3r88AC56HsTkeoCuGCzMIYAtKc7A\n",
       "nkJZE7CJ5uJIzyuxiHEuwKFYGosYtwAOxYxYstUd7EoBR6pUUoOZXjwAAAAASUVORK5CYII=\n",
       "\" style=\"display:inline;vertical-align:middle;\" /></a><br>(see <a class=\"ProveItLink\" href=\"../__pv_it/746c9b73f6ee1e3f7b94de05dfc0e2cdb982da5a0/dependencies.ipynb\">dependencies</a>)<br>"
      ],
      "text/plain": [
       "mult_1_7: (1 * 7) = 7"
      ]
     },
     "execution_count": 2,
     "metadata": {},
     "output_type": "execute_result"
    }
   ],
   "source": [
    "%proving mult_1_7 presuming []"
   ]
  },
  {
   "cell_type": "code",
   "execution_count": null,
   "metadata": {},
   "outputs": [],
   "source": []
  }
 ],
 "metadata": {
  "kernelspec": {
   "display_name": "Python 3",
   "language": "python",
   "name": "python3"
  }
 },
 "nbformat": 4,
 "nbformat_minor": 0
}
