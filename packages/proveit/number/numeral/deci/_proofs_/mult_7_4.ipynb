{
 "cells": [
  {
   "cell_type": "markdown",
   "metadata": {},
   "source": [
    "Proof of <a class=\"ProveItLink\" href=\"../../../../_context_.ipynb\">proveit</a>.<a class=\"ProveItLink\" href=\"../../../_context_.ipynb\">number</a>.<a class=\"ProveItLink\" href=\"../../_context_.ipynb\">numeral</a>.<a class=\"ProveItLink\" href=\"../_context_.ipynb\">deci</a>.<a class=\"ProveItLink\" href=\"../_theorems_.ipynb#mult_7_4\">mult_7_4</a> theorem\n",
    "========"
   ]
  },
  {
   "cell_type": "code",
   "execution_count": 1,
   "metadata": {},
   "outputs": [],
   "source": [
    "import proveit\n",
    "context = proveit.Context('..') # the theorem's context is in the parent directory"
   ]
  },
  {
   "cell_type": "code",
   "execution_count": 2,
   "metadata": {},
   "outputs": [
    {
     "name": "stdout",
     "output_type": "stream",
     "text": [
      "Beginning proof of mult_7_4\n",
      "Recorded 'presuming' information\n",
      "Presuming previous theorems (applied transitively).\n"
     ]
    },
    {
     "data": {
      "text/html": [
       "<strong id=\"mult_7_4\">mult_7_4:</strong> <a class=\"ProveItLink\" href=\"../__pv_it/b1a4f217bdb999edb1bfba8c27d6e435e00d82bd0/expr.ipynb\"><img src=\"data:image/png;base64,iVBORw0KGgoAAAANSUhEUgAAAGEAAAAVBAMAAACkm51HAAAAMFBMVEX////c3NwiIiJERESqqqqY\n",
       "mJh2dnZmZmYQEBDu7u4yMjJUVFTMzMyIiIi6uroAAAAs73DqAAAAAXRSTlMAQObYZgAAAZJJREFU\n",
       "OMuVkz9Iw0AUxr/Y5l+bluAmHRQdHBzaxb2TggjWQQVB6ZQOUigVLYhQBQdFkMOpWwviUB3aTUqH\n",
       "urtkFHEIjoIgpdpBMN5diylJDHjDkfe993v38t4d8P8VN73adiDxAG3WMAxH0JqQ791RQunKgmrk\n",
       "0vS7DtG27S/HOZYCam4igVgPMrAHxExIBGg6zkdKrLuJFpDEGnAJKAQSIDllCJuUqLiJU4KOtcOJ\n",
       "Vy68OT4pQolQ2kU0CMrWSgt5YJ/ZasrxrTJCKnhblCQheysLXDNDdlKqJiPC/NcPbti6HbbwEyh3\n",
       "deCCWdVBMGFFgRHxI88RVBYPGz3gm1lPXKtO0W2ZE9q7h9gFNuggyICY41qFhqrZP4gY7f8ZMJnB\n",
       "CSun/+sIt9udc3NYVXGarRnuWIQwQUXZxDy7Wv3RbAo9Q3QPXStA1I+BqI4cS+whPN0dN4wilggW\n",
       "gBeW4GPEJ3X6GUQs9zBsu4v4XYmOQdH9LnQl4LKLWT81H/Q+6j6aWgsiEj5aVA8iBJ9X+xwQ/wPr\n",
       "nF4OJoVomgAAAABJRU5ErkJggg==\n",
       "\" style=\"display:inline;vertical-align:middle;\" /></a><br>(see <a class=\"ProveItLink\" href=\"../__pv_it/b1a4f217bdb999edb1bfba8c27d6e435e00d82bd0/dependencies.ipynb\">dependencies</a>)<br>"
      ],
      "text/plain": [
       "mult_7_4: (7 * 4) = 28"
      ]
     },
     "execution_count": 2,
     "metadata": {},
     "output_type": "execute_result"
    }
   ],
   "source": [
    "%proving mult_7_4 presuming []"
   ]
  },
  {
   "cell_type": "code",
   "execution_count": null,
   "metadata": {},
   "outputs": [],
   "source": []
  }
 ],
 "metadata": {
  "kernelspec": {
   "display_name": "Python 3",
   "language": "python",
   "name": "python3"
  }
 },
 "nbformat": 4,
 "nbformat_minor": 0
}
