{
 "cells": [
  {
   "cell_type": "markdown",
   "metadata": {},
   "source": [
    "Proof of <a class=\"ProveItLink\" href=\"../../../../_context_.ipynb\">proveit</a>.<a class=\"ProveItLink\" href=\"../../../_context_.ipynb\">number</a>.<a class=\"ProveItLink\" href=\"../../_context_.ipynb\">numeral</a>.<a class=\"ProveItLink\" href=\"../_context_.ipynb\">decimal</a>.<a class=\"ProveItLink\" href=\"../_theorems_.ipynb#add_6_3\">add_6_3</a> theorem\n",
    "========"
   ]
  },
  {
   "cell_type": "code",
   "execution_count": 1,
   "metadata": {},
   "outputs": [],
   "source": [
    "import proveit\n",
    "context = proveit.Context('..') # the theorem's context is in the parent directory"
   ]
  },
  {
   "cell_type": "code",
   "execution_count": 2,
   "metadata": {},
   "outputs": [
    {
     "name": "stdout",
     "output_type": "stream",
     "text": [
      "Beginning proof of add_6_3\n",
      "Recorded 'presuming' information\n",
      "Presuming previous theorems (applied transitively).\n"
     ]
    },
    {
     "data": {
      "text/html": [
       "<strong id=\"add_6_3\">add_6_3:</strong> <a class=\"ProveItLink\" href=\"../__pv_it/1b726975ea81d6cf40b5d57f717e9eaf8b9fd2520/expr.ipynb\"><img src=\"data:image/png;base64,iVBORw0KGgoAAAANSUhEUgAAAGEAAAAVBAMAAACkm51HAAAAMFBMVEX////c3NwiIiJERESqqqqY\n",
       "mJh2dnZmZmYQEBDu7u4yMjJUVFTMzMyIiIi6uroAAAAs73DqAAAAAXRSTlMAQObYZgAAAYBJREFU\n",
       "OMuVk79Lw0AUx7/Vpm3SNg0uCjoUQXHTQcXN/APFTG6KILSDiA5ipYsVnDVuxcUsDo0OgkM3yeTi\n",
       "UgS3SoujIBQVoYI/XhKR5JkbfMPdvffuc+/H3QH/F7UpcCyLiBtALhWdkC1TXNWRdPhWubHm2urA\n",
       "gJPOh1yDUD8AixNDemwPyFJS41B+vEf+tKHjGVjkxBxwCaRMSL1fW8GfFjyixol3OsvEI6BUOQEv\n",
       "q36dlfECtDvYBnLn91ucUC6AxGZEDAOnwMkY+owwcX1GQ9wrLml7QidgB5hv4oCILhI9FiNLdrXK\n",
       "Yhwb8d0mPonIQ3plBA5NZLq89KVWW3eJnAWJCkXFtids281nhMIbEYTXq33qCY8hf5ku4WeVHPVk\n",
       "yt9gAzNU4Z86qCmTGiR+6W0tRimVaDWLWrhXd1DfIrp7ayr0Qh7cwI2r8H3EyxW6PaXDiER5msaU\n",
       "FrQVgkot+rFLK0HtKaisC/5HXfRxZEvgGBYRaU3giIl+bSva/A3DTGJ9TjKpHQAAAABJRU5ErkJg\n",
       "gg==\n",
       "\" style=\"display:inline;vertical-align:middle;\" /></a><br>(see <a class=\"ProveItLink\" href=\"../__pv_it/1b726975ea81d6cf40b5d57f717e9eaf8b9fd2520/dependencies.ipynb\">dependencies</a>)<br>"
      ],
      "text/plain": [
       "add_6_3: (6 + 3) = 9"
      ]
     },
     "execution_count": 2,
     "metadata": {},
     "output_type": "execute_result"
    }
   ],
   "source": [
    "%proving add_6_3 presuming []"
   ]
  },
  {
   "cell_type": "code",
   "execution_count": null,
   "metadata": {},
   "outputs": [],
   "source": []
  }
 ],
 "metadata": {
  "kernelspec": {
   "display_name": "Python 3",
   "language": "python",
   "name": "python3"
  }
 },
 "nbformat": 4,
 "nbformat_minor": 0
}
