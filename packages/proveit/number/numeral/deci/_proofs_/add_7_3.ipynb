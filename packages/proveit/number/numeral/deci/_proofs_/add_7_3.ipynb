{
 "cells": [
  {
   "cell_type": "markdown",
   "metadata": {},
   "source": [
    "Proof of <a class=\"ProveItLink\" href=\"../../../../_context_.ipynb\">proveit</a>.<a class=\"ProveItLink\" href=\"../../../_context_.ipynb\">number</a>.<a class=\"ProveItLink\" href=\"../../_context_.ipynb\">numeral</a>.<a class=\"ProveItLink\" href=\"../_context_.ipynb\">decimal</a>.<a class=\"ProveItLink\" href=\"../_theorems_.ipynb#add_7_3\">add_7_3</a> theorem\n",
    "========"
   ]
  },
  {
   "cell_type": "code",
   "execution_count": 1,
   "metadata": {},
   "outputs": [],
   "source": [
    "import proveit\n",
    "context = proveit.Context('..') # the theorem's context is in the parent directory"
   ]
  },
  {
   "cell_type": "code",
   "execution_count": 2,
   "metadata": {},
   "outputs": [
    {
     "name": "stdout",
     "output_type": "stream",
     "text": [
      "Beginning proof of add_7_3\n",
      "Recorded 'presuming' information\n",
      "Presuming previous theorems (applied transitively).\n"
     ]
    },
    {
     "data": {
      "text/html": [
       "<strong id=\"add_7_3\">add_7_3:</strong> <a class=\"ProveItLink\" href=\"../__pv_it/49ea7ec0b0cbaa76a8e578a0cce04ada9ab1b65f0/expr.ipynb\"><img src=\"data:image/png;base64,iVBORw0KGgoAAAANSUhEUgAAAGwAAAAVBAMAAABRZRb3AAAAMFBMVEX////c3NwiIiJERESqqqqY\n",
       "mJh2dnZmZmYQEBDu7u4yMjJUVFTMzMyIiIi6uroAAAAs73DqAAAAAXRSTlMAQObYZgAAAX1JREFU\n",
       "OMudkz9Iw0AUxr/+S1tJGncHgwgKgnSos26CUOjs1CmCIHSyIA4dnDW6VFzaQZFGKHVWMJOLgxlF\n",
       "EMVJhFIKTaWI1rvLktz1Mvggubz33Y/38t4d8E/LuRIh9RaFPUBdME0zHLw3C8C+uDlhAfUXKrSQ\n",
       "Go/H3yE1VkHPxZRAZVcJtowTB5oLhXx3/PixvygD6AZSZZ66ubOgGdCayFhQyD7HF4r+kmRYtiak\n",
       "e7UQ7yDXxydzuwhhxEiRKEzC9ArUAXZZ9ryAXZFnaxI2W4b6gwvqpdc4TN2mP7vBNJtZJ4gNcUi9\n",
       "BoRsT2RqH7JsQ/xS71nEMiPgUV4kw5ZYbM+2F22b/lTMQcKTYLQlHg5oR764bI0Rw1iR6Tlm+cAA\n",
       "kn2s0GPJY3oT8T6wOSkbGbdisCYneUwroVeWDADzOHXwTtvt8S1Zr56Td5unqkeXJdR3bknHpoPx\n",
       "YugI1uT3Jnxeu0FHcSPuW0uqnEVd0xmpch2FxWSlaI4c+gNONnIwRGoOMQAAAABJRU5ErkJggg==\n",
       "\" style=\"display:inline;vertical-align:middle;\" /></a><br>(see <a class=\"ProveItLink\" href=\"../__pv_it/49ea7ec0b0cbaa76a8e578a0cce04ada9ab1b65f0/dependencies.ipynb\">dependencies</a>)<br>"
      ],
      "text/plain": [
       "add_7_3: (7 + 3) = 10"
      ]
     },
     "execution_count": 2,
     "metadata": {},
     "output_type": "execute_result"
    }
   ],
   "source": [
    "%proving add_7_3 presuming []"
   ]
  },
  {
   "cell_type": "code",
   "execution_count": null,
   "metadata": {},
   "outputs": [],
   "source": []
  }
 ],
 "metadata": {
  "kernelspec": {
   "display_name": "Python 3",
   "language": "python",
   "name": "python3"
  }
 },
 "nbformat": 4,
 "nbformat_minor": 0
}
