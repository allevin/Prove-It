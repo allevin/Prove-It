{
 "cells": [
  {
   "cell_type": "markdown",
   "metadata": {},
   "source": [
    "Proof of <a class=\"ProveItLink\" href=\"../../../../_context_.ipynb\">proveit</a>.<a class=\"ProveItLink\" href=\"../../../_context_.ipynb\">number</a>.<a class=\"ProveItLink\" href=\"../../_context_.ipynb\">numeral</a>.<a class=\"ProveItLink\" href=\"../_context_.ipynb\">deci</a>.<a class=\"ProveItLink\" href=\"../_theorems_.ipynb#mult_0_2\">mult_0_2</a> theorem\n",
    "========"
   ]
  },
  {
   "cell_type": "code",
   "execution_count": 1,
   "metadata": {},
   "outputs": [],
   "source": [
    "import proveit\n",
    "context = proveit.Context('..') # the theorem's context is in the parent directory"
   ]
  },
  {
   "cell_type": "code",
   "execution_count": 2,
   "metadata": {},
   "outputs": [
    {
     "name": "stdout",
     "output_type": "stream",
     "text": [
      "Beginning proof of mult_0_2\n",
      "Recorded 'presuming' information\n",
      "Presuming previous theorems (applied transitively).\n"
     ]
    },
    {
     "data": {
      "text/html": [
       "<strong id=\"mult_0_2\">mult_0_2:</strong> <a class=\"ProveItLink\" href=\"../__pv_it/e74638d21de67a47661918f16ae072613513eb400/expr.ipynb\"><img src=\"data:image/png;base64,iVBORw0KGgoAAAANSUhEUgAAAFcAAAAVBAMAAADBdm84AAAAMFBMVEX////c3NwiIiJERESqqqqY\n",
       "mJh2dnZmZmYQEBDu7u4yMjJUVFTMzMyIiIi6uroAAAAs73DqAAAAAXRSTlMAQObYZgAAAWNJREFU\n",
       "KM+Vkz1Iw2AQhp/Utjba1ODawaJuiu3i3s1RJ0cJDnUqlAoVRNHBwUEkuDSbBXGoDnYVBN0dLC6C\n",
       "PxAcXfyh1snWJG0TTb8M3nR57+Hj7r0L/CsS9X5tKQi+hvLThvsprR2ZDF75KXnzztaqMMOBW02i\n",
       "NKDih0OmPA1KHSWF4lbPIQ2LfvgW7iGmE6qReO+puzqXJoYfnoJXlRcYKRBv9NQznS2TgawP/oKb\n",
       "LCUY04h//yqkdaKFv6zUtOA6xx246RXsPOzMsH5ix2kP1tj3YFl34KGMZf624GWNltfGYcoprNqv\n",
       "vwnbaHUG/LQUI2PrSk0AOwMusINtXdi1jjkktdtGcdyOia518yqz2EuJptzxCkRUIpX+pSzDipVN\n",
       "YrjrHs3livRZRygr78GzlZXzF57J7faH5YjpP6TSg/VeTBWdoiG+0IgmUvMB91wVaHIlAE4KtGE1\n",
       "AJYEv9WjGP0BDtRedUlWuhwAAAAASUVORK5CYII=\n",
       "\" style=\"display:inline;vertical-align:middle;\" /></a><br>(see <a class=\"ProveItLink\" href=\"../__pv_it/e74638d21de67a47661918f16ae072613513eb400/dependencies.ipynb\">dependencies</a>)<br>"
      ],
      "text/plain": [
       "mult_0_2: (0 * 2) = 0"
      ]
     },
     "execution_count": 2,
     "metadata": {},
     "output_type": "execute_result"
    }
   ],
   "source": [
    "%proving mult_0_2 presuming []"
   ]
  },
  {
   "cell_type": "code",
   "execution_count": null,
   "metadata": {},
   "outputs": [],
   "source": []
  }
 ],
 "metadata": {
  "kernelspec": {
   "display_name": "Python 3",
   "language": "python",
   "name": "python3"
  }
 },
 "nbformat": 4,
 "nbformat_minor": 0
}
