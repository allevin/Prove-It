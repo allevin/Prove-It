{
 "cells": [
  {
   "cell_type": "markdown",
   "metadata": {},
   "source": [
    "Proof of <a class=\"ProveItLink\" href=\"../../../../_context_.ipynb\">proveit</a>.<a class=\"ProveItLink\" href=\"../../../_context_.ipynb\">number</a>.<a class=\"ProveItLink\" href=\"../../_context_.ipynb\">numeral</a>.<a class=\"ProveItLink\" href=\"../_context_.ipynb\">decimal</a>.<a class=\"ProveItLink\" href=\"../_theorems_.ipynb#add_2_2\">add_2_2</a> theorem\n",
    "========"
   ]
  },
  {
   "cell_type": "code",
   "execution_count": 1,
   "metadata": {},
   "outputs": [],
   "source": [
    "import proveit\n",
    "context = proveit.Context('..') # the theorem's context is in the parent directory"
   ]
  },
  {
   "cell_type": "code",
   "execution_count": 2,
   "metadata": {},
   "outputs": [
    {
     "name": "stdout",
     "output_type": "stream",
     "text": [
      "Beginning proof of add_2_2\n",
      "Recorded 'presuming' information\n",
      "Presuming previous theorems (applied transitively).\n"
     ]
    },
    {
     "data": {
      "text/html": [
       "<strong id=\"add_2_2\">add_2_2:</strong> <a class=\"ProveItLink\" href=\"../__pv_it/908d478a94c3f14f95654cd2935f77362ac3fdbc0/expr.ipynb\"><img src=\"data:image/png;base64,iVBORw0KGgoAAAANSUhEUgAAAGEAAAAVBAMAAACkm51HAAAAMFBMVEX////c3NwiIiJERESqqqqY\n",
       "mJh2dnZmZmYQEBDu7u4yMjJUVFTMzMyIiIi6uroAAAAs73DqAAAAAXRSTlMAQObYZgAAAXFJREFU\n",
       "OMtjYCAd8F3AIRGHS8dpBgbxKjtUMcbyxQ8Y2A9gKubZACRWMjBuYLjvgCIhzcD7hYFhAaYOJgMG\n",
       "Bt4LDNwTGJg+QEQmQqidDAz6DAxhmDpuAHVwTGDg6GTg/gcR8YVQHRMY9j9gmIGhgTEKqOMVAwPX\n",
       "TwZ2VB3rJzDUP2BgdkDXwcYF1FEGcd9PFB1AoD+Bga0AXUcgSMdSMPN8ApoOnm8MDCxgr7OvAgNQ\n",
       "IHFeAOnoAytYzICmAyTF14DuKLAw2APsBug6ikH2fEDT4YPQcRssULVqlcaqVatBTN4NWHRwJoB1\n",
       "tACZLAUMgqh2uDMwCkBdxa4EBkClLLt37+++wGAKFDwODAUUHTwFDKwCDKyYkc4B1JgOjBe1tHQF\n",
       "FB1CaWlFDFhCF6zjETAy/v//j6pD////T8DweoARg/u/BzBwCCAL+SJzZmBP7KwJyLy3yJxcHPlj\n",
       "Ja6Mw7kAh4Q0Lh3cAjgkGHHl2jvYhQHWQVXd37+bpwAAAABJRU5ErkJggg==\n",
       "\" style=\"display:inline;vertical-align:middle;\" /></a><br>(see <a class=\"ProveItLink\" href=\"../__pv_it/908d478a94c3f14f95654cd2935f77362ac3fdbc0/dependencies.ipynb\">dependencies</a>)<br>"
      ],
      "text/plain": [
       "add_2_2: (2 + 2) = 4"
      ]
     },
     "execution_count": 2,
     "metadata": {},
     "output_type": "execute_result"
    }
   ],
   "source": [
    "%proving add_2_2 presuming []"
   ]
  },
  {
   "cell_type": "code",
   "execution_count": null,
   "metadata": {},
   "outputs": [],
   "source": []
  }
 ],
 "metadata": {
  "kernelspec": {
   "display_name": "Python 3",
   "language": "python",
   "name": "python3"
  }
 },
 "nbformat": 4,
 "nbformat_minor": 0
}
