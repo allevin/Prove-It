{
 "cells": [
  {
   "cell_type": "markdown",
   "metadata": {},
   "source": [
    "Proof of <a class=\"ProveItLink\" href=\"../../../../_context_.ipynb\">proveit</a>.<a class=\"ProveItLink\" href=\"../../../_context_.ipynb\">number</a>.<a class=\"ProveItLink\" href=\"../../_context_.ipynb\">numeral</a>.<a class=\"ProveItLink\" href=\"../_context_.ipynb\">deci</a>.<a class=\"ProveItLink\" href=\"../_theorems_.ipynb#mult_9_9\">mult_9_9</a> theorem\n",
    "========"
   ]
  },
  {
   "cell_type": "code",
   "execution_count": 1,
   "metadata": {},
   "outputs": [],
   "source": [
    "import proveit\n",
    "context = proveit.Context('..') # the theorem's context is in the parent directory"
   ]
  },
  {
   "cell_type": "code",
   "execution_count": 2,
   "metadata": {},
   "outputs": [
    {
     "name": "stdout",
     "output_type": "stream",
     "text": [
      "Beginning proof of mult_9_9\n",
      "Recorded 'presuming' information\n",
      "Presuming previous theorems (applied transitively).\n"
     ]
    },
    {
     "data": {
      "text/html": [
       "<strong id=\"mult_9_9\">mult_9_9:</strong> <a class=\"ProveItLink\" href=\"../__pv_it/a261f609b6228f579fbe93d47ae2ccedd0d832ed0/expr.ipynb\"><img src=\"data:image/png;base64,iVBORw0KGgoAAAANSUhEUgAAAGAAAAAVBAMAAABLWfZ5AAAAMFBMVEX////c3NwiIiJERESqqqqY\n",
       "mJh2dnZmZmYQEBDu7u4yMjJUVFTMzMyIiIi6uroAAAAs73DqAAAAAXRSTlMAQObYZgAAAZhJREFU\n",
       "OMuVkz1IAmEYx/+Hnudp2o1Cg1FTm0NBTd1U0JJLNRlOOYgUhR9EoEFLSxy1SA66OGhEQ4NEDe4R\n",
       "HM2G0tjU56BQ9tydZ/J6HvTC3fF8/Hj+7/M8B/z7+NVh36YdcA8UUnd9U6zF6xDqbJa4FZPps0BP\n",
       "BdwRApIZCcjcIVBiAQFIAmdtwKfCkYM3ZEbmgWtgnQXWgFMUbglwKxgvwdU2Ix1gW0GeBeIaAB+l\n",
       "vQDFEHw/ptYPoNmCQ2aA1RskDCAFvcLXYIUwXDsM4OhGogZQpgvl4Pg2IxlgUYVTv/V+VTsXuj/7\n",
       "LhnACckoY1kDRIVe52FnVoU/x1TgD64+DUATzz89kIXipBaKNJoyxl4ZYAN8V+kDMLqU7/WWujQE\n",
       "HAPBsA4c6bZncFJV9CTtTmlnWlNLtqDqwBwpe0OwZWY3JY6K8uyoafpeSQdiBMzgsh95VDy0jUNt\n",
       "XVGwZFz6mazY3t+cXOlZTWKL3elaWoaQ6SThlqxWOD96u/molTdh8z9ULHxiyQaYsPB5JRuAs/hF\n",
       "G6PTfwH/O2z95VHeQgAAAABJRU5ErkJggg==\n",
       "\" style=\"display:inline;vertical-align:middle;\" /></a><br>(see <a class=\"ProveItLink\" href=\"../__pv_it/a261f609b6228f579fbe93d47ae2ccedd0d832ed0/dependencies.ipynb\">dependencies</a>)<br>"
      ],
      "text/plain": [
       "mult_9_9: (9 * 9) = 81"
      ]
     },
     "execution_count": 2,
     "metadata": {},
     "output_type": "execute_result"
    }
   ],
   "source": [
    "%proving mult_9_9 presuming []"
   ]
  },
  {
   "cell_type": "code",
   "execution_count": null,
   "metadata": {},
   "outputs": [],
   "source": []
  }
 ],
 "metadata": {
  "kernelspec": {
   "display_name": "Python 3",
   "language": "python",
   "name": "python3"
  }
 },
 "nbformat": 4,
 "nbformat_minor": 0
}
