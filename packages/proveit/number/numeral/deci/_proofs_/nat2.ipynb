{
 "cells": [
  {
   "cell_type": "markdown",
   "metadata": {},
   "source": [
    "Proof of <a class=\"ProveItLink\" href=\"../../../../_context_.ipynb\">proveit</a>.<a class=\"ProveItLink\" href=\"../../../_context_.ipynb\">number</a>.<a class=\"ProveItLink\" href=\"../../_context_.ipynb\">numeral</a>.<a class=\"ProveItLink\" href=\"../_context_.ipynb\">decimal</a>.<a class=\"ProveItLink\" href=\"../_theorems_.ipynb#nat2\">nat2</a> theorem\n",
    "========"
   ]
  },
  {
   "cell_type": "code",
   "execution_count": 1,
   "metadata": {},
   "outputs": [],
   "source": [
    "import proveit\n",
    "context = proveit.Context('..') # the theorem's context is in the parent directory"
   ]
  },
  {
   "cell_type": "code",
   "execution_count": 2,
   "metadata": {},
   "outputs": [
    {
     "name": "stdout",
     "output_type": "stream",
     "text": [
      "Beginning proof of nat2\n",
      "Recorded 'presuming' information\n",
      "Presuming previous theorems (applied transitively).\n"
     ]
    },
    {
     "data": {
      "text/html": [
       "<strong id=\"nat2\">nat2:</strong> <a class=\"ProveItLink\" href=\"../__pv_it/7c3551d04e9dac6e67c114d0247d27a803d94be00/expr.ipynb\"><img src=\"data:image/png;base64,iVBORw0KGgoAAAANSUhEUgAAADIAAAAPBAMAAABU9YHxAAAAMFBMVEX///+YmJh2dnbMzMwQEBAi\n",
       "IiLu7u6qqqqIiIhUVFS6urpEREQyMjJmZmbc3NwAAACOMKdoAAAAAXRSTlMAQObYZgAAAN1JREFU\n",
       "GNNj4Lt7egEDMmA7v/sYA298OMNLBo7vKDIM3ALWDAz8DAzTGBjiUWU4gzkaGFgYGFwSGOaDjWPr\n",
       "CQ09AJZZkzAZJHM+geE+WMZGDKbHeEJOAguYGZ8AJPi2wU0zqGDeAJZh/gS29wFChneBBFiGZwOI\n",
       "zEa4wIBhGqcJiHUbzF8SGgpzgQFDJtsRIINjAljGElkPswJITy0DH8iKVGQZBnFuoP0XGBhBMpwC\n",
       "yDJMrxkYniopXQV7NAoeOiDv3QF65v//r2CBN5chElznvYFkDnJ4VR6FuA0KAHkWNBgmUR4YAAAA\n",
       "AElFTkSuQmCC\n",
       "\" style=\"display:inline;vertical-align:middle;\" /></a><br>(see <a class=\"ProveItLink\" href=\"../__pv_it/7c3551d04e9dac6e67c114d0247d27a803d94be00/dependencies.ipynb\">dependencies</a>)<br>"
      ],
      "text/plain": [
       "nat2: 2 in Naturals"
      ]
     },
     "execution_count": 2,
     "metadata": {},
     "output_type": "execute_result"
    }
   ],
   "source": [
    "%proving nat2 presuming []"
   ]
  },
  {
   "cell_type": "code",
   "execution_count": null,
   "metadata": {},
   "outputs": [],
   "source": []
  }
 ],
 "metadata": {
  "kernelspec": {
   "display_name": "Python 3",
   "language": "python",
   "name": "python3"
  }
 },
 "nbformat": 4,
 "nbformat_minor": 0
}
