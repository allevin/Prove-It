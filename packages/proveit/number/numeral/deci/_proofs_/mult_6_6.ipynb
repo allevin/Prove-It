{
 "cells": [
  {
   "cell_type": "markdown",
   "metadata": {},
   "source": [
    "Proof of <a class=\"ProveItLink\" href=\"../../../../_context_.ipynb\">proveit</a>.<a class=\"ProveItLink\" href=\"../../../_context_.ipynb\">number</a>.<a class=\"ProveItLink\" href=\"../../_context_.ipynb\">numeral</a>.<a class=\"ProveItLink\" href=\"../_context_.ipynb\">deci</a>.<a class=\"ProveItLink\" href=\"../_theorems_.ipynb#mult_6_6\">mult_6_6</a> theorem\n",
    "========"
   ]
  },
  {
   "cell_type": "code",
   "execution_count": 1,
   "metadata": {},
   "outputs": [],
   "source": [
    "import proveit\n",
    "context = proveit.Context('..') # the theorem's context is in the parent directory"
   ]
  },
  {
   "cell_type": "code",
   "execution_count": 2,
   "metadata": {},
   "outputs": [
    {
     "name": "stdout",
     "output_type": "stream",
     "text": [
      "Beginning proof of mult_6_6\n",
      "Recorded 'presuming' information\n",
      "Presuming previous theorems (applied transitively).\n"
     ]
    },
    {
     "data": {
      "text/html": [
       "<strong id=\"mult_6_6\">mult_6_6:</strong> <a class=\"ProveItLink\" href=\"../__pv_it/d91e1be019d075d19a58ea2827afa98caa6bb6190/expr.ipynb\"><img src=\"data:image/png;base64,iVBORw0KGgoAAAANSUhEUgAAAGEAAAAVBAMAAACkm51HAAAAMFBMVEX////c3NwiIiJERESqqqqY\n",
       "mJh2dnZmZmYQEBDu7u4yMjJUVFTMzMyIiIi6uroAAAAs73DqAAAAAXRSTlMAQObYZgAAAYNJREFU\n",
       "OMtjYCAd8F3AFIvDq+M0AwNnetoBOH9aWQ4D+wF0VTxpyQ4QOQaGlQwMQge4FWBSjDoMmxgYFqDr\n",
       "EGfg+wuV4wU6So2BC66EKYFhFQNDGLqOfAeGT1A5jgkMrD+RpOIngMgZ6Dr8QTogcq8YGLgakKRW\n",
       "gElmB8wQ+guVK2Ng4F9ztwQu8evsdaBqtgIMHVwboHJLGRjmqzIwBUDFOT8FMKgyMLCA/VW1CgRW\n",
       "gyWOrYbJ9QF1fGBgA3mFE+hMzv9AX05g4GvAsIO3Dyr3D6hDgYH1CwOYBpoD9LwDA88HzIjrnwmR\n",
       "A+rgX8DA+hcUQAYgfwBFL2DqkGFgsA+AyLUAAwZqBxgYgc2BuKpICQSUQQ7+PwGoAyJnCvQm1B+Q\n",
       "gAe7lRU90oHG6wtA5NKBXDOGGbCwYmBO4GzFErpXGfi+QeUeAbns2/ch5KqrHwAD/wGaDpbyKgeo\n",
       "HIcAtgQ9A09iZ03AJpqLL3+sxCLGuQCfDmksYtwC+HQwYsm1d/CoBwC0pG0OkNkmfAAAAABJRU5E\n",
       "rkJggg==\n",
       "\" style=\"display:inline;vertical-align:middle;\" /></a><br>(see <a class=\"ProveItLink\" href=\"../__pv_it/d91e1be019d075d19a58ea2827afa98caa6bb6190/dependencies.ipynb\">dependencies</a>)<br>"
      ],
      "text/plain": [
       "mult_6_6: (6 * 6) = 36"
      ]
     },
     "execution_count": 2,
     "metadata": {},
     "output_type": "execute_result"
    }
   ],
   "source": [
    "%proving mult_6_6 presuming []"
   ]
  },
  {
   "cell_type": "code",
   "execution_count": null,
   "metadata": {},
   "outputs": [],
   "source": []
  }
 ],
 "metadata": {
  "kernelspec": {
   "display_name": "Python 3",
   "language": "python",
   "name": "python3"
  }
 },
 "nbformat": 4,
 "nbformat_minor": 0
}
