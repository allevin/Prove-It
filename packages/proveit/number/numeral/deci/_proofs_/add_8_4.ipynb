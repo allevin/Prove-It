{
 "cells": [
  {
   "cell_type": "markdown",
   "metadata": {},
   "source": [
    "Proof of <a class=\"ProveItLink\" href=\"../../../../_context_.ipynb\">proveit</a>.<a class=\"ProveItLink\" href=\"../../../_context_.ipynb\">number</a>.<a class=\"ProveItLink\" href=\"../../_context_.ipynb\">numeral</a>.<a class=\"ProveItLink\" href=\"../_context_.ipynb\">decimal</a>.<a class=\"ProveItLink\" href=\"../_theorems_.ipynb#add_8_4\">add_8_4</a> theorem\n",
    "========"
   ]
  },
  {
   "cell_type": "code",
   "execution_count": 1,
   "metadata": {},
   "outputs": [],
   "source": [
    "import proveit\n",
    "context = proveit.Context('..') # the theorem's context is in the parent directory"
   ]
  },
  {
   "cell_type": "code",
   "execution_count": 2,
   "metadata": {},
   "outputs": [
    {
     "name": "stdout",
     "output_type": "stream",
     "text": [
      "Beginning proof of add_8_4\n",
      "Recorded 'presuming' information\n",
      "Presuming previous theorems (applied transitively).\n"
     ]
    },
    {
     "data": {
      "text/html": [
       "<strong id=\"add_8_4\">add_8_4:</strong> <a class=\"ProveItLink\" href=\"../__pv_it/ec295f82e1614ba6ca2716af538b0b490b95a37b0/expr.ipynb\"><img src=\"data:image/png;base64,iVBORw0KGgoAAAANSUhEUgAAAGwAAAAVBAMAAABRZRb3AAAAMFBMVEX////c3NwiIiJERESqqqqY\n",
       "mJh2dnZmZmYQEBDu7u4yMjJUVFTMzMyIiIi6uroAAAAs73DqAAAAAXRSTlMAQObYZgAAAYVJREFU\n",
       "OMudkz1Iw1AQx/+padMPKnUQB5eqII4ddLWdlUKdBBcztYNLh2qhKBR0cdHnUkRwEpFGkHQuYjdB\n",
       "h2Zycag4iSK4FCxC4yXa2ry+ZPDgcXfv7scd794B/5RRwyXgf/LC7oFKtiC63h5OHmHARGmRrCqQ\n",
       "h5LhE2aA8BAVSjJIOlopRA34MwjFf+6PegnRXepS5an6DUOEwfeBIENA72PpXsb4GWWVh8q1GIL7\n",
       "iHTxCshfLGBwmEoY5kVYuAOliy1yku0HODF/zMJyIozE18E5KcWc4rBTWNiSZSqaLfoA1lRxQGr1\n",
       "zkw5MdXGXlyqUaxLHeWx3nFgcsPGmmJMSdgYPabUJrekaXOadklWBV7YI5094JjUjqPacr3+ef3b\n",
       "pDJtS6KPyXmMYYGqxYAaNwDQuLEmrHYLrFiPLFchqyJMOABpNpuL45mct2KBGwA2zE3giqeKhxcZ\n",
       "n2macbvDP0k7vmDZfW+c//V90AkYHvtWdY2ceK3ppGuk5oVJbq1EG+7QN0FvbpwW+NBDAAAAAElF\n",
       "TkSuQmCC\n",
       "\" style=\"display:inline;vertical-align:middle;\" /></a><br>(see <a class=\"ProveItLink\" href=\"../__pv_it/ec295f82e1614ba6ca2716af538b0b490b95a37b0/dependencies.ipynb\">dependencies</a>)<br>"
      ],
      "text/plain": [
       "add_8_4: (8 + 4) = 12"
      ]
     },
     "execution_count": 2,
     "metadata": {},
     "output_type": "execute_result"
    }
   ],
   "source": [
    "%proving add_8_4 presuming []"
   ]
  },
  {
   "cell_type": "code",
   "execution_count": null,
   "metadata": {},
   "outputs": [],
   "source": []
  }
 ],
 "metadata": {
  "kernelspec": {
   "display_name": "Python 3",
   "language": "python",
   "name": "python3"
  }
 },
 "nbformat": 4,
 "nbformat_minor": 0
}
