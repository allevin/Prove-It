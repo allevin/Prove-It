{
 "cells": [
  {
   "cell_type": "markdown",
   "metadata": {},
   "source": [
    "Proof of <a class=\"ProveItLink\" href=\"../../../../_context_.ipynb\">proveit</a>.<a class=\"ProveItLink\" href=\"../../../_context_.ipynb\">number</a>.<a class=\"ProveItLink\" href=\"../../_context_.ipynb\">numeral</a>.<a class=\"ProveItLink\" href=\"../_context_.ipynb\">decimal</a>.<a class=\"ProveItLink\" href=\"../_theorems_.ipynb#add_0_6\">add_0_6</a> theorem\n",
    "========"
   ]
  },
  {
   "cell_type": "code",
   "execution_count": 1,
   "metadata": {},
   "outputs": [],
   "source": [
    "import proveit\n",
    "context = proveit.Context('..') # the theorem's context is in the parent directory"
   ]
  },
  {
   "cell_type": "code",
   "execution_count": 2,
   "metadata": {},
   "outputs": [
    {
     "name": "stdout",
     "output_type": "stream",
     "text": [
      "Beginning proof of add_0_6\n",
      "Recorded 'presuming' information\n",
      "Presuming previous theorems (applied transitively).\n"
     ]
    },
    {
     "data": {
      "text/html": [
       "<strong id=\"add_0_6\">add_0_6:</strong> <a class=\"ProveItLink\" href=\"../__pv_it/5cd69ad0a4ebc8f4a2997652580aa718ac9da1f70/expr.ipynb\"><img src=\"data:image/png;base64,iVBORw0KGgoAAAANSUhEUgAAAGEAAAAVBAMAAACkm51HAAAAMFBMVEX////c3NwiIiJERESqqqqY\n",
       "mJh2dnZmZmYQEBDu7u4yMjJUVFTMzMyIiIi6uroAAAAs73DqAAAAAXRSTlMAQObYZgAAAVRJREFU\n",
       "OMuVk71Lw0AYh3/9TKNJ7O5gEQUHERHc+w8UnRw1m4vFTh2sg4OuEh1sxi6CPZfi7NBdhGwuCsVR\n",
       "ELSog2D1cm8ouevd4A338bz3JO99Af8vXmQIbJuMO6D9dKjAi+YerP7E3BgDXWAF53I0s4wboKMK\n",
       "hN0IbgVuEj2jJuuDAVuqQbgUINuD906sRs1OENehahB+AWYacD4k40rUuapiEG4Ccz6cH8n4vn/g\n",
       "s4sNxSB8ScZX2rCHm1gE8mJxFhOlN8anOuMX2A/gHcm/SPBIk5U95KuswnlTDMIjWvknJweMLTF2\n",
       "HSfMQ9GEkeBjxLubl3d3TXyMsrLmRVkd43XEJ1isSMaGSLigHjrhXd5bQNiXjJxvn2h2l/Az77Xr\n",
       "t5AMtFoDYGqgHrrApXIa1dKDUH/ZC3569Joe1A3vo2t6OHbHEJg1GdNlQyBjerWPevwHbD9i4343\n",
       "Fe4AAAAASUVORK5CYII=\n",
       "\" style=\"display:inline;vertical-align:middle;\" /></a><br>(see <a class=\"ProveItLink\" href=\"../__pv_it/5cd69ad0a4ebc8f4a2997652580aa718ac9da1f70/dependencies.ipynb\">dependencies</a>)<br>"
      ],
      "text/plain": [
       "add_0_6: (0 + 6) = 6"
      ]
     },
     "execution_count": 2,
     "metadata": {},
     "output_type": "execute_result"
    }
   ],
   "source": [
    "%proving add_0_6 presuming []"
   ]
  },
  {
   "cell_type": "code",
   "execution_count": null,
   "metadata": {},
   "outputs": [],
   "source": []
  }
 ],
 "metadata": {
  "kernelspec": {
   "display_name": "Python 3",
   "language": "python",
   "name": "python3"
  }
 },
 "nbformat": 4,
 "nbformat_minor": 0
}
