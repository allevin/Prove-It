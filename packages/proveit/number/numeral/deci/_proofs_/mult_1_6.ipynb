{
 "cells": [
  {
   "cell_type": "markdown",
   "metadata": {},
   "source": [
    "Proof of <a class=\"ProveItLink\" href=\"../../../../_context_.ipynb\">proveit</a>.<a class=\"ProveItLink\" href=\"../../../_context_.ipynb\">number</a>.<a class=\"ProveItLink\" href=\"../../_context_.ipynb\">numeral</a>.<a class=\"ProveItLink\" href=\"../_context_.ipynb\">deci</a>.<a class=\"ProveItLink\" href=\"../_theorems_.ipynb#mult_1_6\">mult_1_6</a> theorem\n",
    "========"
   ]
  },
  {
   "cell_type": "code",
   "execution_count": 1,
   "metadata": {},
   "outputs": [],
   "source": [
    "import proveit\n",
    "context = proveit.Context('..') # the theorem's context is in the parent directory"
   ]
  },
  {
   "cell_type": "code",
   "execution_count": 2,
   "metadata": {},
   "outputs": [
    {
     "name": "stdout",
     "output_type": "stream",
     "text": [
      "Beginning proof of mult_1_6\n",
      "Recorded 'presuming' information\n",
      "Presuming previous theorems (applied transitively).\n"
     ]
    },
    {
     "data": {
      "text/html": [
       "<strong id=\"mult_1_6\">mult_1_6:</strong> <a class=\"ProveItLink\" href=\"../__pv_it/0609fb114bffb6498af55af5bae0a8048537bfab0/expr.ipynb\"><img src=\"data:image/png;base64,iVBORw0KGgoAAAANSUhEUgAAAFcAAAAVBAMAAADBdm84AAAAMFBMVEX////c3NwiIiJERESqqqqY\n",
       "mJh2dnZmZmYQEBDu7u4yMjJUVFTMzMyIiIi6uroAAAAs73DqAAAAAXRSTlMAQObYZgAAAR1JREFU\n",
       "KM9jYCAJ8F3AFIvDpfg0EDNPQPCnleUwsB/AUAYSZmBYycDAaY9QzKjDsImBYQG6Wogw7wUGzt37\n",
       "EYqZEhhWMTCEoSuGCHOA1N1HKI4HM2egK4YIv2JAVbwCTDI7oCmGCJehKf519jpQIVsBmmKI8FJU\n",
       "xZyfAhhUGRhYwD6sWgUCqxHCfQjFnECS8z8DQ/4EBr4GVIOhwv8QiucrgIwAesaBgecDmmKIMJLi\n",
       "GQYgxwFFL2Aohgq3oHnQCGwExBlFSiCgjBA2RVPsD3YcK3oUQoTT0RQzJ3C2Ygk6iPAjIKu8f3kA\n",
       "XLi6+gEDA9cD9CgEC3MIYEuKM7CnUNYEbKK5ONLzSixinAtwKJbGIsYtgEMxI5ZsdQe7UgBc8VvQ\n",
       "sMsRrQAAAABJRU5ErkJggg==\n",
       "\" style=\"display:inline;vertical-align:middle;\" /></a><br>(see <a class=\"ProveItLink\" href=\"../__pv_it/0609fb114bffb6498af55af5bae0a8048537bfab0/dependencies.ipynb\">dependencies</a>)<br>"
      ],
      "text/plain": [
       "mult_1_6: (1 * 6) = 6"
      ]
     },
     "execution_count": 2,
     "metadata": {},
     "output_type": "execute_result"
    }
   ],
   "source": [
    "%proving mult_1_6 presuming []"
   ]
  },
  {
   "cell_type": "code",
   "execution_count": null,
   "metadata": {},
   "outputs": [],
   "source": []
  }
 ],
 "metadata": {
  "kernelspec": {
   "display_name": "Python 3",
   "language": "python",
   "name": "python3"
  }
 },
 "nbformat": 4,
 "nbformat_minor": 0
}
