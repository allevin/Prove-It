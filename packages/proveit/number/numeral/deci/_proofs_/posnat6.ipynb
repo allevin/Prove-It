{
 "cells": [
  {
   "cell_type": "markdown",
   "metadata": {},
   "source": [
    "Proof of <a class=\"ProveItLink\" href=\"../../../../_context_.ipynb\">proveit</a>.<a class=\"ProveItLink\" href=\"../../../_context_.ipynb\">number</a>.<a class=\"ProveItLink\" href=\"../../_context_.ipynb\">numeral</a>.<a class=\"ProveItLink\" href=\"../_context_.ipynb\">decimal</a>.<a class=\"ProveItLink\" href=\"../_theorems_.ipynb#posnat6\">posnat6</a> theorem\n",
    "========"
   ]
  },
  {
   "cell_type": "code",
   "execution_count": 1,
   "metadata": {},
   "outputs": [],
   "source": [
    "import proveit\n",
    "context = proveit.Context('..') # the theorem's context is in the parent directory"
   ]
  },
  {
   "cell_type": "code",
   "execution_count": 2,
   "metadata": {},
   "outputs": [
    {
     "name": "stdout",
     "output_type": "stream",
     "text": [
      "Beginning proof of posnat6\n",
      "Recorded 'presuming' information\n",
      "Presuming previous theorems (applied transitively).\n"
     ]
    },
    {
     "data": {
      "text/html": [
       "<strong id=\"posnat6\">posnat6:</strong> <a class=\"ProveItLink\" href=\"../__pv_it/fa616b97eefd9b08a3f8a43932745172d0d1c6320/expr.ipynb\"><img src=\"data:image/png;base64,iVBORw0KGgoAAAANSUhEUgAAAD8AAAAUBAMAAADIGvgZAAAAMFBMVEX///+6urpERESqqqqIiIgQ\n",
       "EBCYmJgyMjJUVFQiIiLc3NzMzMxmZmZ2dnbu7u4AAABf+mkYAAAAAXRSTlMAQObYZgAAAPlJREFU\n",
       "KM9jYMADmBkIACZ6KeC7c3cDivDzT+oPGE7+NIApWLmBYwKqRjVuBQaGDwzt5aXl5Q4MDHMZ2AtQ\n",
       "FXRucGFgCIBZwfYPJs7nPnMmWGljHccGhAL2AJiC7XlQRvcOvjqEAv5ql8NgYS49mMpuZodNCAXv\n",
       "pzFwJoD9tACugOEgmwNIAQdYwQcGXrAzHjEgFHA86Ibb/H4CA9tnEEN05kyoI7sZ+BqewxXwFzCw\n",
       "fQExdiCZwLCXG66ACWbCS2QFbAYK8DiHuYEjAUkBwy24AgZdhqdgKb6JMBFFIOZBhC5PTyOEsfw0\n",
       "hBb/CtTNV4Aldi0qZ2IKAwBxM0I/JjI4TwAAAABJRU5ErkJggg==\n",
       "\" style=\"display:inline;vertical-align:middle;\" /></a><br>(see <a class=\"ProveItLink\" href=\"../__pv_it/fa616b97eefd9b08a3f8a43932745172d0d1c6320/dependencies.ipynb\">dependencies</a>)<br>"
      ],
      "text/plain": [
       "posnat6: 6 in NaturalsPos"
      ]
     },
     "execution_count": 2,
     "metadata": {},
     "output_type": "execute_result"
    }
   ],
   "source": [
    "%proving posnat6 presuming []"
   ]
  },
  {
   "cell_type": "code",
   "execution_count": null,
   "metadata": {},
   "outputs": [],
   "source": []
  }
 ],
 "metadata": {
  "kernelspec": {
   "display_name": "Python 3",
   "language": "python",
   "name": "python3"
  }
 },
 "nbformat": 4,
 "nbformat_minor": 0
}
