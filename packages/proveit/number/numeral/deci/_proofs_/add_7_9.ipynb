{
 "cells": [
  {
   "cell_type": "markdown",
   "metadata": {},
   "source": [
    "Proof of <a class=\"ProveItLink\" href=\"../../../../_context_.ipynb\">proveit</a>.<a class=\"ProveItLink\" href=\"../../../_context_.ipynb\">number</a>.<a class=\"ProveItLink\" href=\"../../_context_.ipynb\">numeral</a>.<a class=\"ProveItLink\" href=\"../_context_.ipynb\">decimal</a>.<a class=\"ProveItLink\" href=\"../_theorems_.ipynb#add_7_9\">add_7_9</a> theorem\n",
    "========"
   ]
  },
  {
   "cell_type": "code",
   "execution_count": 1,
   "metadata": {},
   "outputs": [],
   "source": [
    "import proveit\n",
    "context = proveit.Context('..') # the theorem's context is in the parent directory"
   ]
  },
  {
   "cell_type": "code",
   "execution_count": 2,
   "metadata": {},
   "outputs": [
    {
     "name": "stdout",
     "output_type": "stream",
     "text": [
      "Beginning proof of add_7_9\n",
      "Recorded 'presuming' information\n",
      "Presuming previous theorems (applied transitively).\n"
     ]
    },
    {
     "data": {
      "text/html": [
       "<strong id=\"add_7_9\">add_7_9:</strong> <a class=\"ProveItLink\" href=\"../__pv_it/5074bcc3252155f607af7007e5bb3ac7d86059a40/expr.ipynb\"><img src=\"data:image/png;base64,iVBORw0KGgoAAAANSUhEUgAAAGwAAAAVBAMAAABRZRb3AAAAMFBMVEX////c3NwiIiJERESqqqqY\n",
       "mJh2dnZmZmYQEBDu7u4yMjJUVFTMzMyIiIi6uroAAAAs73DqAAAAAXRSTlMAQObYZgAAAYdJREFU\n",
       "OMudk71Lw0AYxp/aXtK0jS1OgoNF8AuXDOqqmyAUOjs5pX+AUkEcMnTWuokO7VKk8YM6OSiaXcTO\n",
       "QlGcRCgotEiRtt5dLPTyNXhL3o/73fO+ufeAf67Ruk+CvAZhD0jM6rouBk/yt8Cee3O4CCg53QKq\n",
       "IP1+/0fIhgoYTyHmopQVio1Z8TTUOiRq1+z44d+hBuIayKaTurmnW2cQKyNahARIlp3I2J9kGVIH\n",
       "iuGSeymCdJjxwd0mBKykQe0Bi15YjB+W5+oaXGptIOeFJc8b20CFefKqiMkGwl1gndsmX7UBVprG\n",
       "SBb7vCiImFLBGsXevdRKn6zvHvOeHRhI47EFPHliaZCWjS3w2K5pzpnmmb2BnuiN0b5JFwVW07dT\n",
       "Dexu7CLlKb60ARbmaktsLJ2Y+oVJOpEbXmoR3hv7yREXNo8L+FwAlnGUxRt1Em1nkbktdiWXTmrn\n",
       "4DQL+foOiKaG4xlhBA3/dyPOa3PYkeoB763qmzkOeqYTvpmrICzkV4pq+UO/JkdwomeoUykAAAAA\n",
       "SUVORK5CYII=\n",
       "\" style=\"display:inline;vertical-align:middle;\" /></a><br>(see <a class=\"ProveItLink\" href=\"../__pv_it/5074bcc3252155f607af7007e5bb3ac7d86059a40/dependencies.ipynb\">dependencies</a>)<br>"
      ],
      "text/plain": [
       "add_7_9: (7 + 9) = 16"
      ]
     },
     "execution_count": 2,
     "metadata": {},
     "output_type": "execute_result"
    }
   ],
   "source": [
    "%proving add_7_9 presuming []"
   ]
  },
  {
   "cell_type": "code",
   "execution_count": null,
   "metadata": {},
   "outputs": [],
   "source": []
  }
 ],
 "metadata": {
  "kernelspec": {
   "display_name": "Python 3",
   "language": "python",
   "name": "python3"
  }
 },
 "nbformat": 4,
 "nbformat_minor": 0
}
