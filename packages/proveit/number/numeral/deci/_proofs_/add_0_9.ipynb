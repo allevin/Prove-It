{
 "cells": [
  {
   "cell_type": "markdown",
   "metadata": {},
   "source": [
    "Proof of <a class=\"ProveItLink\" href=\"../../../../_context_.ipynb\">proveit</a>.<a class=\"ProveItLink\" href=\"../../../_context_.ipynb\">number</a>.<a class=\"ProveItLink\" href=\"../../_context_.ipynb\">numeral</a>.<a class=\"ProveItLink\" href=\"../_context_.ipynb\">decimal</a>.<a class=\"ProveItLink\" href=\"../_theorems_.ipynb#add_0_9\">add_0_9</a> theorem\n",
    "========"
   ]
  },
  {
   "cell_type": "code",
   "execution_count": 1,
   "metadata": {},
   "outputs": [],
   "source": [
    "import proveit\n",
    "context = proveit.Context('..') # the theorem's context is in the parent directory"
   ]
  },
  {
   "cell_type": "code",
   "execution_count": 2,
   "metadata": {},
   "outputs": [
    {
     "name": "stdout",
     "output_type": "stream",
     "text": [
      "Beginning proof of add_0_9\n",
      "Recorded 'presuming' information\n",
      "Presuming previous theorems (applied transitively).\n"
     ]
    },
    {
     "data": {
      "text/html": [
       "<strong id=\"add_0_9\">add_0_9:</strong> <a class=\"ProveItLink\" href=\"../__pv_it/9c95a6dde009ae5151c43b277a0ec9942db131570/expr.ipynb\"><img src=\"data:image/png;base64,iVBORw0KGgoAAAANSUhEUgAAAGEAAAAVBAMAAACkm51HAAAAMFBMVEX////c3NwiIiJERESqqqqY\n",
       "mJh2dnZmZmYQEBDu7u4yMjJUVFTMzMyIiIi6uroAAAAs73DqAAAAAXRSTlMAQObYZgAAAVxJREFU\n",
       "OMuVk79Lw0AUx7/RNGlqEjMKDhZxcBIHBTfzDxQyuSndHKTYSUUEFZwlujQ4dXFoXAoOLg7ZXYJz\n",
       "JcVREBR/DILFa14puUtu8A25e5+XL+/eu3vA/82OJYEtmeIBaD0d8cy424mgR+KvKQY6wBIu+eiM\n",
       "q5wCbVFB2IphVWGNohe0rAG3wIaoIFz2MdGF/U6sRssPsOsjEBWEX4DpJszPrML4AJI+Jl2hDMJ7\n",
       "wFwd5m8uhwetWZDDwzUpvjnFAbAeQ02L08PUumN8XqS48tTjGPaJkIPwoOhU2OwlLsw3sfQUD6jy\n",
       "L+YfhuFiGN5QkDUlr0jxGYbdVfnuMgsxOpU+n9ryGK9ieINalVMkjsJyl8RLJ7zNdgsIIk7x6FfY\n",
       "+8x1l/Az27Ua9+AU2v4K+1b6goJw2cmyWtYJih97qZ71XrNOQzIfHdngGG1JYFammHIkAUU2tb1i\n",
       "/AeuumhtSdBJ7gAAAABJRU5ErkJggg==\n",
       "\" style=\"display:inline;vertical-align:middle;\" /></a><br>(see <a class=\"ProveItLink\" href=\"../__pv_it/9c95a6dde009ae5151c43b277a0ec9942db131570/dependencies.ipynb\">dependencies</a>)<br>"
      ],
      "text/plain": [
       "add_0_9: (0 + 9) = 9"
      ]
     },
     "execution_count": 2,
     "metadata": {},
     "output_type": "execute_result"
    }
   ],
   "source": [
    "%proving add_0_9 presuming []"
   ]
  },
  {
   "cell_type": "code",
   "execution_count": null,
   "metadata": {},
   "outputs": [],
   "source": []
  }
 ],
 "metadata": {
  "kernelspec": {
   "display_name": "Python 3",
   "language": "python",
   "name": "python3"
  }
 },
 "nbformat": 4,
 "nbformat_minor": 0
}
