{
 "cells": [
  {
   "cell_type": "markdown",
   "metadata": {},
   "source": [
    "Proof of <a class=\"ProveItLink\" href=\"../../../../_context_.ipynb\">proveit</a>.<a class=\"ProveItLink\" href=\"../../../_context_.ipynb\">number</a>.<a class=\"ProveItLink\" href=\"../../_context_.ipynb\">numeral</a>.<a class=\"ProveItLink\" href=\"../_context_.ipynb\">deci</a>.<a class=\"ProveItLink\" href=\"../_theorems_.ipynb#mult_9_2\">mult_9_2</a> theorem\n",
    "========"
   ]
  },
  {
   "cell_type": "code",
   "execution_count": 1,
   "metadata": {},
   "outputs": [],
   "source": [
    "import proveit\n",
    "context = proveit.Context('..') # the theorem's context is in the parent directory"
   ]
  },
  {
   "cell_type": "code",
   "execution_count": 2,
   "metadata": {},
   "outputs": [
    {
     "name": "stdout",
     "output_type": "stream",
     "text": [
      "Beginning proof of mult_9_2\n",
      "Recorded 'presuming' information\n",
      "Presuming previous theorems (applied transitively).\n"
     ]
    },
    {
     "data": {
      "text/html": [
       "<strong id=\"mult_9_2\">mult_9_2:</strong> <a class=\"ProveItLink\" href=\"../__pv_it/737358ef860d77efe71ceb11f3b55bf4ac2fa8e80/expr.ipynb\"><img src=\"data:image/png;base64,iVBORw0KGgoAAAANSUhEUgAAAGEAAAAVBAMAAACkm51HAAAAMFBMVEX////c3NwiIiJERESqqqqY\n",
       "mJh2dnZmZmYQEBDu7u4yMjJUVFTMzMyIiIi6uroAAAAs73DqAAAAAXRSTlMAQObYZgAAAYtJREFU\n",
       "OMuVk7FLQlEUhz+xp5k9ezQFDkZNTbo0tDUVtNRSTYWTDiGIYkUEGjTUEo9aBAeFcKiI2iIKao/A\n",
       "P6Dg0dhUUoFB2X3PnoZeH3Sne87vfJx7fvde+P8KVDpzy47EHRRWr5uha+3QwHvbWTcBvlh8UuyO\n",
       "cG0zpNlCEPUNSh3AQQ28kAG1gjuHP2IrlxCGhXagcCWIediHXp2BEp6aLe3o3BjkO3qoomLFIp6h\n",
       "GEH9tpUznayBe1JGzF6SgFWsHu9/xLCOJykj3PWlKJTFQDncXy2t/wN6rNE3js110iTIVoVDe8K0\n",
       "MtMm4dMtrU+4EMjJeiibZ8JHcwDl8V7sKA5bWtrs8yIjFlHqOo2RLa/ylsXqeVdiF0JzbDdO0rqy\n",
       "aVza76lSI+YatQmfSHorjIvglZDRnDuJoqGUZD22wK8RF8EYp01lMBZL0cXdGZ0peBJRPN26sHC9\n",
       "XhWnNNoA7/pnhsDFmijs1WQPOu/w2JWoLJtw+h9Hkpyv5EQEJTm/5kS4JL/2waH+Byv0aBcPH44M\n",
       "AAAAAElFTkSuQmCC\n",
       "\" style=\"display:inline;vertical-align:middle;\" /></a><br>(see <a class=\"ProveItLink\" href=\"../__pv_it/737358ef860d77efe71ceb11f3b55bf4ac2fa8e80/dependencies.ipynb\">dependencies</a>)<br>"
      ],
      "text/plain": [
       "mult_9_2: (9 * 2) = 18"
      ]
     },
     "execution_count": 2,
     "metadata": {},
     "output_type": "execute_result"
    }
   ],
   "source": [
    "%proving mult_9_2 presuming []"
   ]
  },
  {
   "cell_type": "code",
   "execution_count": null,
   "metadata": {},
   "outputs": [],
   "source": []
  }
 ],
 "metadata": {
  "kernelspec": {
   "display_name": "Python 3",
   "language": "python",
   "name": "python3"
  }
 },
 "nbformat": 4,
 "nbformat_minor": 0
}
