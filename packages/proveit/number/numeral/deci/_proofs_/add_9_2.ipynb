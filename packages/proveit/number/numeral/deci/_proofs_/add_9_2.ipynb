{
 "cells": [
  {
   "cell_type": "markdown",
   "metadata": {},
   "source": [
    "Proof of <a class=\"ProveItLink\" href=\"../../../../_context_.ipynb\">proveit</a>.<a class=\"ProveItLink\" href=\"../../../_context_.ipynb\">number</a>.<a class=\"ProveItLink\" href=\"../../_context_.ipynb\">numeral</a>.<a class=\"ProveItLink\" href=\"../_context_.ipynb\">decimal</a>.<a class=\"ProveItLink\" href=\"../_theorems_.ipynb#add_9_2\">add_9_2</a> theorem\n",
    "========"
   ]
  },
  {
   "cell_type": "code",
   "execution_count": 1,
   "metadata": {},
   "outputs": [],
   "source": [
    "import proveit\n",
    "context = proveit.Context('..') # the theorem's context is in the parent directory"
   ]
  },
  {
   "cell_type": "code",
   "execution_count": 2,
   "metadata": {},
   "outputs": [
    {
     "name": "stdout",
     "output_type": "stream",
     "text": [
      "Beginning proof of add_9_2\n",
      "Recorded 'presuming' information\n",
      "Presuming previous theorems (applied transitively).\n"
     ]
    },
    {
     "data": {
      "text/html": [
       "<strong id=\"add_9_2\">add_9_2:</strong> <a class=\"ProveItLink\" href=\"../__pv_it/5353d5c112312339bf5e7d597cfe9d7e083721ef0/expr.ipynb\"><img src=\"data:image/png;base64,iVBORw0KGgoAAAANSUhEUgAAAGsAAAAVBAMAAACzuQ2OAAAAMFBMVEX////c3NwiIiJERESqqqqY\n",
       "mJh2dnZmZmYQEBDu7u4yMjJUVFTMzMyIiIi6uroAAAAs73DqAAAAAXRSTlMAQObYZgAAAVxJREFU\n",
       "OMtjYCAT8F3AIcH6AJ+20wwMs8v2oAmKV9kxMNRgKmaeACNWMjC2MEgIoMgybmC478DAhaGL034C\n",
       "lOC9wMDcwMBtABGfCKG4JzAwfWBgTUDXtXv/BAjBwDGBgX8BA9tPiIQvhOLoZOD+x8DZgGHd/QlQ\n",
       "4hUDw3wDBt5/KNq4fjKwA0VMcGsrYwDb9hVFGxAwAe1Px61tKQMDewMD8190beeBHvMCMdhXgcEG\n",
       "VG19QJ8uZXDH0LYYiF/gtg3kKda7Z7+gaWMHBe15/NoYICFZtWqVxqpVq8ECtxnwa2uBBN0CVNtY\n",
       "ChgEoY5kVwIDA1RtpsAY/8gg/wBV23EGhkAGhijctgEDmVeTYS0DijZGtbR0BbwR8AhIpxc7oGpj\n",
       "+v//P1DbOnRd5f3LAyAEB0oi9kVJgg248w1qen2LzGG7gCe/rcQpMwtfNpXGKbMRnzZGXE7hPYBb\n",
       "EwDaMXO9X78RRgAAAABJRU5ErkJggg==\n",
       "\" style=\"display:inline;vertical-align:middle;\" /></a><br>(see <a class=\"ProveItLink\" href=\"../__pv_it/5353d5c112312339bf5e7d597cfe9d7e083721ef0/dependencies.ipynb\">dependencies</a>)<br>"
      ],
      "text/plain": [
       "add_9_2: (9 + 2) = 11"
      ]
     },
     "execution_count": 2,
     "metadata": {},
     "output_type": "execute_result"
    }
   ],
   "source": [
    "%proving add_9_2 presuming []"
   ]
  },
  {
   "cell_type": "code",
   "execution_count": null,
   "metadata": {},
   "outputs": [],
   "source": []
  }
 ],
 "metadata": {
  "kernelspec": {
   "display_name": "Python 3",
   "language": "python",
   "name": "python3"
  }
 },
 "nbformat": 4,
 "nbformat_minor": 0
}
