{
 "cells": [
  {
   "cell_type": "markdown",
   "metadata": {},
   "source": [
    "Proof of <a class=\"ProveItLink\" href=\"../../../../_context_.ipynb\">proveit</a>.<a class=\"ProveItLink\" href=\"../../../_context_.ipynb\">number</a>.<a class=\"ProveItLink\" href=\"../../_context_.ipynb\">numeral</a>.<a class=\"ProveItLink\" href=\"../_context_.ipynb\">decimal</a>.<a class=\"ProveItLink\" href=\"../_theorems_.ipynb#posnat1\">posnat1</a> theorem\n",
    "========"
   ]
  },
  {
   "cell_type": "code",
   "execution_count": 1,
   "metadata": {},
   "outputs": [],
   "source": [
    "import proveit\n",
    "context = proveit.Context('..') # the theorem's context is in the parent directory"
   ]
  },
  {
   "cell_type": "code",
   "execution_count": 2,
   "metadata": {},
   "outputs": [
    {
     "name": "stdout",
     "output_type": "stream",
     "text": [
      "Beginning proof of posnat1\n",
      "Recorded 'presuming' information\n",
      "Presuming previous theorems (applied transitively).\n"
     ]
    },
    {
     "data": {
      "text/html": [
       "<strong id=\"posnat1\">posnat1:</strong> <a class=\"ProveItLink\" href=\"../__pv_it/d413186ad91832835a2afded730ad4cf37c6f3480/expr.ipynb\"><img src=\"data:image/png;base64,iVBORw0KGgoAAAANSUhEUgAAAD4AAAAUBAMAAAAn2JMnAAAAMFBMVEX///92dnaqqqq6urrc3NzM\n",
       "zMwiIiKYmJgyMjIQEBBmZmaIiIhUVFTu7u5EREQAAACNWUPNAAAAAXRSTlMAQObYZgAAAMRJREFU\n",
       "KM9jYMADFBjwgwd0kX+LKsjb/66XgSs/CSZ/7y+aLr6COAYGfgaejo4ZHd0Md86gy/Okcm9g4ISb\n",
       "zw2Tv92WlgGWt7hwFIs8a/sFqP7QAzcuYMr7XYCZH6DN+gBT/gnc/gAug2qw/AEked4HCHmGszyR\n",
       "cOdC5ZmnpaVB3RfAcIe3E12e9QCSflYBDP28CUjyDEV86PIMx5HlGf0w5K8ZwMIXxFgBk+Za+WM5\n",
       "mMHSFQBxaP88IHkDMzaZTkDcjwIAudJAqcWHIbAAAAAASUVORK5CYII=\n",
       "\" style=\"display:inline;vertical-align:middle;\" /></a><br>(see <a class=\"ProveItLink\" href=\"../__pv_it/d413186ad91832835a2afded730ad4cf37c6f3480/dependencies.ipynb\">dependencies</a>)<br>"
      ],
      "text/plain": [
       "posnat1: 1 in NaturalsPos"
      ]
     },
     "execution_count": 2,
     "metadata": {},
     "output_type": "execute_result"
    }
   ],
   "source": [
    "%proving posnat1 presuming []"
   ]
  },
  {
   "cell_type": "code",
   "execution_count": null,
   "metadata": {},
   "outputs": [],
   "source": []
  }
 ],
 "metadata": {
  "kernelspec": {
   "display_name": "Python 3",
   "language": "python",
   "name": "python3"
  }
 },
 "nbformat": 4,
 "nbformat_minor": 0
}
