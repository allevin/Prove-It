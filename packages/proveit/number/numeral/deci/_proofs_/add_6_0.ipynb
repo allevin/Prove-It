{
 "cells": [
  {
   "cell_type": "markdown",
   "metadata": {},
   "source": [
    "Proof of <a class=\"ProveItLink\" href=\"../../../../_context_.ipynb\">proveit</a>.<a class=\"ProveItLink\" href=\"../../../_context_.ipynb\">number</a>.<a class=\"ProveItLink\" href=\"../../_context_.ipynb\">numeral</a>.<a class=\"ProveItLink\" href=\"../_context_.ipynb\">decimal</a>.<a class=\"ProveItLink\" href=\"../_theorems_.ipynb#add_6_0\">add_6_0</a> theorem\n",
    "========"
   ]
  },
  {
   "cell_type": "code",
   "execution_count": 1,
   "metadata": {},
   "outputs": [],
   "source": [
    "import proveit\n",
    "context = proveit.Context('..') # the theorem's context is in the parent directory"
   ]
  },
  {
   "cell_type": "code",
   "execution_count": 2,
   "metadata": {},
   "outputs": [
    {
     "name": "stdout",
     "output_type": "stream",
     "text": [
      "Beginning proof of add_6_0\n",
      "Recorded 'presuming' information\n",
      "Presuming previous theorems (applied transitively).\n"
     ]
    },
    {
     "data": {
      "text/html": [
       "<strong id=\"add_6_0\">add_6_0:</strong> <a class=\"ProveItLink\" href=\"../__pv_it/0f699dcc7fa76d67ea19a81f62e19fa710337dc90/expr.ipynb\"><img src=\"data:image/png;base64,iVBORw0KGgoAAAANSUhEUgAAAGEAAAAVBAMAAACkm51HAAAAMFBMVEX////c3NwiIiJERESqqqqY\n",
       "mJh2dnZmZmYQEBDu7u4yMjJUVFTMzMyIiIi6uroAAAAs73DqAAAAAXRSTlMAQObYZgAAAX1JREFU\n",
       "OMuVk79Lw0AUx79Jm7aXahtcXYpQEewggs75B0o7OWpwsIuig2SwCB10E6mLdLOLYKODuLhJdhGL\n",
       "S8EfUBwFsRRRWvDHS1okueQGb3h3914+eb/uAf9fqabAsCgirgFWWrF9OrbdshG3A98emqskG8CY\n",
       "ncz4LHKb5YA6D0g5XACjFNQk1KH1YLDdAffAAk/IBiwgUYXS+9PlB9s08KahxhNLVUe+AGqFJz6B\n",
       "Wx0RnSNOXGkC6bOnTR8hfRDRRGyDI/o3LfrJMXCUhVwMEAaibnJxy13nVMFuEVlgn4gOYr0QIlXx\n",
       "u2A/wHoV30RkoLyHRDXS4YguJa87RLoO5Ys0W5Y1ZVmnw8yLAQJ9IprYASK8D6e6BW0YVXzCXTN0\n",
       "nHV9zAFRPg+ng8uAwje94OZRotM8ar5aQdbZHoLVjRhsF3h2HF9e+TvIzAd6hmqbb3q5TKqE5lXl\n",
       "vZda+GNXDO/t1XtZE8xHQzQ4rC4wjIuIpCYwSKKpfQxX/wL3WWajMG8oFQAAAABJRU5ErkJggg==\n",
       "\" style=\"display:inline;vertical-align:middle;\" /></a><br>(see <a class=\"ProveItLink\" href=\"../__pv_it/0f699dcc7fa76d67ea19a81f62e19fa710337dc90/dependencies.ipynb\">dependencies</a>)<br>"
      ],
      "text/plain": [
       "add_6_0: (6 + 0) = 6"
      ]
     },
     "execution_count": 2,
     "metadata": {},
     "output_type": "execute_result"
    }
   ],
   "source": [
    "%proving add_6_0 presuming []"
   ]
  },
  {
   "cell_type": "code",
   "execution_count": null,
   "metadata": {},
   "outputs": [],
   "source": []
  }
 ],
 "metadata": {
  "kernelspec": {
   "display_name": "Python 3",
   "language": "python",
   "name": "python3"
  }
 },
 "nbformat": 4,
 "nbformat_minor": 0
}
