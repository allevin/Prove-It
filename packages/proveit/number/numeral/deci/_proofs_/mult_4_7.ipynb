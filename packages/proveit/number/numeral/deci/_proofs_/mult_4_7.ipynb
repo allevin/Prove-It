{
 "cells": [
  {
   "cell_type": "markdown",
   "metadata": {},
   "source": [
    "Proof of <a class=\"ProveItLink\" href=\"../../../../_context_.ipynb\">proveit</a>.<a class=\"ProveItLink\" href=\"../../../_context_.ipynb\">number</a>.<a class=\"ProveItLink\" href=\"../../_context_.ipynb\">numeral</a>.<a class=\"ProveItLink\" href=\"../_context_.ipynb\">deci</a>.<a class=\"ProveItLink\" href=\"../_theorems_.ipynb#mult_4_7\">mult_4_7</a> theorem\n",
    "========"
   ]
  },
  {
   "cell_type": "code",
   "execution_count": 1,
   "metadata": {},
   "outputs": [],
   "source": [
    "import proveit\n",
    "context = proveit.Context('..') # the theorem's context is in the parent directory"
   ]
  },
  {
   "cell_type": "code",
   "execution_count": 2,
   "metadata": {},
   "outputs": [
    {
     "name": "stdout",
     "output_type": "stream",
     "text": [
      "Beginning proof of mult_4_7\n",
      "Recorded 'presuming' information\n",
      "Presuming previous theorems (applied transitively).\n"
     ]
    },
    {
     "data": {
      "text/html": [
       "<strong id=\"mult_4_7\">mult_4_7:</strong> <a class=\"ProveItLink\" href=\"../__pv_it/c9db24fdf3e1e08debe5cd074dce9724e01828220/expr.ipynb\"><img src=\"data:image/png;base64,iVBORw0KGgoAAAANSUhEUgAAAGEAAAAVBAMAAACkm51HAAAAMFBMVEX////c3NwiIiJERESqqqqY\n",
       "mJh2dnZmZmYQEBDu7u4yMjJUVFTMzMyIiIi6uroAAAAs73DqAAAAAXRSTlMAQObYZgAAAY5JREFU\n",
       "OMuVk0FLAkEUx/9m22q6sgQdwkNRH0Av3T0V1EEv1anytBImLJYKEVjUoS6xFISXUJAO1kFvIRJJ\n",
       "1w75ATosHbskItGpaWYWNpldFhqYx7z/m9/s2/dmgP+PSM+pbXkSL7bh47moaWm5K+7yleomglom\n",
       "QdcNJizYoW1CSAs1kYhCGUIGCoDCklJO7NAOEALWRaINxLAGXAIBg/rTdTuUBnaBikicGXgys5z4\n",
       "4NvqQin8CYFoGiibyTZyQJG6kjpKXNE5oTtLFDP8ZJOmcEvXNxgl9ukc579+cMfGvSWHv4DyQAUu\n",
       "eO6cCBrc9llmR45PTMYhHTaHwA89sGsR1TlmFXZ8uO8g9oANSMRgxDUsohJndqzlSihUPgdmUzgF\n",
       "Vjud70c7VNXtrPLzbFjdXYZvhopyD4vc/+sgPhkhiU0P67Six7S7KjIikdTdqjulaXmsGFgC3pmf\n",
       "JQU79ppihTHFZhAyQOShRDsbUN0udMXjsktpNzXn9T4aLlqw5kVEXbSQ6kX4XF7tm8f+X2LVYxgv\n",
       "138+AAAAAElFTkSuQmCC\n",
       "\" style=\"display:inline;vertical-align:middle;\" /></a><br>(see <a class=\"ProveItLink\" href=\"../__pv_it/c9db24fdf3e1e08debe5cd074dce9724e01828220/dependencies.ipynb\">dependencies</a>)<br>"
      ],
      "text/plain": [
       "mult_4_7: (4 * 7) = 28"
      ]
     },
     "execution_count": 2,
     "metadata": {},
     "output_type": "execute_result"
    }
   ],
   "source": [
    "%proving mult_4_7 presuming []"
   ]
  },
  {
   "cell_type": "code",
   "execution_count": null,
   "metadata": {},
   "outputs": [],
   "source": []
  }
 ],
 "metadata": {
  "kernelspec": {
   "display_name": "Python 3",
   "language": "python",
   "name": "python3"
  }
 },
 "nbformat": 4,
 "nbformat_minor": 0
}
