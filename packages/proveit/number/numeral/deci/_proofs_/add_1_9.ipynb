{
 "cells": [
  {
   "cell_type": "markdown",
   "metadata": {},
   "source": [
    "Proof of <a class=\"ProveItLink\" href=\"../../../../_context_.ipynb\">proveit</a>.<a class=\"ProveItLink\" href=\"../../../_context_.ipynb\">number</a>.<a class=\"ProveItLink\" href=\"../../_context_.ipynb\">numeral</a>.<a class=\"ProveItLink\" href=\"../_context_.ipynb\">decimal</a>.<a class=\"ProveItLink\" href=\"../_theorems_.ipynb#add_1_9\">add_1_9</a> theorem\n",
    "========"
   ]
  },
  {
   "cell_type": "code",
   "execution_count": 1,
   "metadata": {},
   "outputs": [],
   "source": [
    "import proveit\n",
    "context = proveit.Context('..') # the theorem's context is in the parent directory"
   ]
  },
  {
   "cell_type": "code",
   "execution_count": 2,
   "metadata": {},
   "outputs": [
    {
     "name": "stdout",
     "output_type": "stream",
     "text": [
      "Beginning proof of add_1_9\n",
      "Recorded 'presuming' information\n",
      "Presuming previous theorems (applied transitively).\n"
     ]
    },
    {
     "data": {
      "text/html": [
       "<strong id=\"add_1_9\">add_1_9:</strong> <a class=\"ProveItLink\" href=\"../__pv_it/4322e3beb90f1cadab664317eaa9038b11f8f2e10/expr.ipynb\"><img src=\"data:image/png;base64,iVBORw0KGgoAAAANSUhEUgAAAGwAAAAVBAMAAABRZRb3AAAAMFBMVEX////c3NwiIiJERESqqqqY\n",
       "mJh2dnZmZmYQEBDu7u4yMjJUVFTMzMyIiIi6uroAAAAs73DqAAAAAXRSTlMAQObYZgAAAV9JREFU\n",
       "OMudk79LAmEYxz9m/jjz1DFoUKKhlnCoubYgEJqb3JyCIDCIhhuc+7UYNeQi4YVhc0HuEfkPSNEU\n",
       "QYOgQoPSe6fCefe+N/TC3Xvv+3w/9zw8P+CfK9FSGEIfftiLeIJnrsvr4hMce8WWsNy2DDXQNlxY\n",
       "oMR8ipiHsoWrXDTRW2iPzxPsfPxTg7ksobybsoR6Br1C1CLeJ1hutCUrhH/RDI87IZxpkOjwjQS7\n",
       "yaIPYU2GJfeJdymi8NaDggxL54kPqMqwiEFwANv2t2mvhhPrcyLDtCpbAvtSeeszlGGE2q9deFMH\n",
       "6cCOTHPZNO9GApFJOWalpEdJ6g1ilXGQkUV7ZR0FmO2wLsP0DmnRkbsyb6Lc4cwoyR5shTqKArDE\n",
       "ZZNPcTg8vd2ZDrJwsCne927KFpb3RJtHU8773FQLGuq5me7XH+ch3PKZt5rScuU3pgtKy4MfFlCF\n",
       "ojfV0B/r/HaCz3cL4wAAAABJRU5ErkJggg==\n",
       "\" style=\"display:inline;vertical-align:middle;\" /></a><br>(see <a class=\"ProveItLink\" href=\"../__pv_it/4322e3beb90f1cadab664317eaa9038b11f8f2e10/dependencies.ipynb\">dependencies</a>)<br>"
      ],
      "text/plain": [
       "add_1_9: (1 + 9) = 10"
      ]
     },
     "execution_count": 2,
     "metadata": {},
     "output_type": "execute_result"
    }
   ],
   "source": [
    "%proving add_1_9 presuming []"
   ]
  },
  {
   "cell_type": "code",
   "execution_count": null,
   "metadata": {},
   "outputs": [],
   "source": []
  }
 ],
 "metadata": {
  "kernelspec": {
   "display_name": "Python 3",
   "language": "python",
   "name": "python3"
  }
 },
 "nbformat": 4,
 "nbformat_minor": 0
}
