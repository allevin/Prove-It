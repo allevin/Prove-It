{
 "cells": [
  {
   "cell_type": "markdown",
   "metadata": {},
   "source": [
    "Proof of <a class=\"ProveItLink\" href=\"../../../../_context_.ipynb\">proveit</a>.<a class=\"ProveItLink\" href=\"../../../_context_.ipynb\">number</a>.<a class=\"ProveItLink\" href=\"../../_context_.ipynb\">numeral</a>.<a class=\"ProveItLink\" href=\"../_context_.ipynb\">deci</a>.<a class=\"ProveItLink\" href=\"../_theorems_.ipynb#mult_4_9\">mult_4_9</a> theorem\n",
    "========"
   ]
  },
  {
   "cell_type": "code",
   "execution_count": 1,
   "metadata": {},
   "outputs": [],
   "source": [
    "import proveit\n",
    "context = proveit.Context('..') # the theorem's context is in the parent directory"
   ]
  },
  {
   "cell_type": "code",
   "execution_count": 2,
   "metadata": {},
   "outputs": [
    {
     "name": "stdout",
     "output_type": "stream",
     "text": [
      "Beginning proof of mult_4_9\n",
      "Recorded 'presuming' information\n",
      "Presuming previous theorems (applied transitively).\n"
     ]
    },
    {
     "data": {
      "text/html": [
       "<strong id=\"mult_4_9\">mult_4_9:</strong> <a class=\"ProveItLink\" href=\"../__pv_it/71adfb0f06bc7e6cd37c9f1163c5ce426e66423a0/expr.ipynb\"><img src=\"data:image/png;base64,iVBORw0KGgoAAAANSUhEUgAAAGEAAAAVBAMAAACkm51HAAAAMFBMVEX////c3NwiIiJERESqqqqY\n",
       "mJh2dnZmZmYQEBDu7u4yMjJUVFTMzMyIiIi6uroAAAAs73DqAAAAAXRSTlMAQObYZgAAAZxJREFU\n",
       "OMuVkzFIw0AUhv/YtPZqW7KIgg6iuAmKKLiZ3aGZ3LQBQYcqimAr7aCirjVTqYJYEMG2i+jgUIRO\n",
       "LiIEQVwKLY5OUkGkUOvdRVNNQsAHd9y997577967A/4vYd2um3cl7syJC7mOldFZtnoFFxdkIBNf\n",
       "pus8UwyZpl5Z2AFyVqIH4SaEEVwCIZZUaNc0TQFXwKyVWJVRR4eKAuDX6L771DQ1qFVD1kpEGBFl\n",
       "vnhhk2oS5A2o1uCR7RVq4pwv4nR4pb8xFPjWbETgAo37J3rSGd0co01sAtM6RH71ZIFJketviyB1\n",
       "BcNAmiVlEISleaSIWzrC27YYoTRp8Tt+AmLZIE4G2DxXqcoIvtobd3BYB6IyIzIwiOzYdyU1O9FP\n",
       "k1XoHaM69oCZUunj5peV1tzIan2QCesuaWmUGOcxJrlTu4NVSaBhvdam0+NHpQiPv2QhHrQAfQW2\n",
       "6j4i/A6PSvaBZ7aPtTZ+TL7EBCt+zUKIiSRtRSpF9X7J6UFnXR67V3XSrrj9j7yDjuTciD4HXZfk\n",
       "RggOv7bi4v8F9wNrVftEI4oAAAAASUVORK5CYII=\n",
       "\" style=\"display:inline;vertical-align:middle;\" /></a><br>(see <a class=\"ProveItLink\" href=\"../__pv_it/71adfb0f06bc7e6cd37c9f1163c5ce426e66423a0/dependencies.ipynb\">dependencies</a>)<br>"
      ],
      "text/plain": [
       "mult_4_9: (4 * 9) = 36"
      ]
     },
     "execution_count": 2,
     "metadata": {},
     "output_type": "execute_result"
    }
   ],
   "source": [
    "%proving mult_4_9 presuming []"
   ]
  },
  {
   "cell_type": "code",
   "execution_count": null,
   "metadata": {},
   "outputs": [],
   "source": []
  }
 ],
 "metadata": {
  "kernelspec": {
   "display_name": "Python 3",
   "language": "python",
   "name": "python3"
  }
 },
 "nbformat": 4,
 "nbformat_minor": 0
}
