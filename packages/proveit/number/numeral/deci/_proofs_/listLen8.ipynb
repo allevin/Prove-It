{
 "cells": [
  {
   "cell_type": "markdown",
   "metadata": {},
   "source": [
    "Proof of <a class=\"ProveItLink\" href=\"../../../../_context_.ipynb\">proveit</a>.<a class=\"ProveItLink\" href=\"../../../_context_.ipynb\">number</a>.<a class=\"ProveItLink\" href=\"../../_context_.ipynb\">numeral</a>.<a class=\"ProveItLink\" href=\"../_context_.ipynb\">decimal</a>.<a class=\"ProveItLink\" href=\"../_theorems_.ipynb#listLen8\">listLen8</a> theorem\n",
    "========"
   ]
  },
  {
   "cell_type": "code",
   "execution_count": 1,
   "metadata": {},
   "outputs": [],
   "source": [
    "import proveit\n",
    "context = proveit.Context('..') # the theorem's context is in the parent directory"
   ]
  },
  {
   "cell_type": "code",
   "execution_count": 2,
   "metadata": {},
   "outputs": [
    {
     "name": "stdout",
     "output_type": "stream",
     "text": [
      "Beginning proof of listLen8\n",
      "Recorded 'presuming' information\n",
      "Presuming previous theorems (applied transitively).\n"
     ]
    },
    {
     "data": {
      "text/html": [
       "<strong id=\"listLen8\">listLen8:</strong> <a class=\"ProveItLink\" href=\"../__pv_it/d51de36eb0823c24c873fcf05dee618b97c95a650/expr.ipynb\"><img src=\"data:image/png;base64,iVBORw0KGgoAAAANSUhEUgAAAWcAAAAWBAMAAADun0BuAAAAMFBMVEX///8QEBC6urrMzMxUVFRm\n",
       "ZmZERETc3NwyMjKqqqp2dnaIiIiYmJgiIiLu7u4AAAAU9Wx4AAAAAXRSTlMAQObYZgAABPhJREFU\n",
       "SMfFV29oG2UYf3LJ5ZLc5TKGMlQ2Iw4dyGwEUT8IzRxzQsUFpmwsrS0MV9SB96HdCiILMlmFWQOi\n",
       "FkEaplW3oJydH0bvS5BtyjpmUHQwEK6gIANJ6GhL2db5PO/73vUudweSTTzIvb973j/3e5739zzv\n",
       "BeD2r7QB/831cVSHfbsrPwKZPLWSeefYamxFOBHW9z3+mgTmul8/XhSkH/cY9W3NkKEP3R0w6X07\n",
       "Oyx/bKT77lDS+qnpKsgFgJP0NNE96ZQtSPvWSBXDxq4ELMmTNzpN77D5oaRlgH6ACsAhfFCGuidt\n",
       "ASet+tSRq4YMlVYDptaj1VDPtFoY6YsAfwNcYJECudo96U2CdMyXHD1hqZIJamYqwjN9XRjpzxnp\n",
       "efTpy8OH3+qes1QRpLf4zF+HKqkUMA1EefZqGOmpF6COksIQLx04cKV70nJNkN5HMus7sYGbj1rP\n",
       "iwFX66c5GJntERs6Wt8jOs9u3CHQudnzwrN+axib6TDSyVtz9Dr0fTvAsBu3cd+gwbw3rctr+Nua\n",
       "G72GIH0cfw8YyTZP8yXIFXhxWQ/v8aU3wBtcM+nLMOpMv+74XlQWhcqPwYvYTLqk947TdZQTuolH\n",
       "Qho3dzPoFZfNtD9NvA9lT1/W9SaWF6TXY6BvgMxTOr0KMe7XvAkHGTjSgL18ypG8qGg445oAP9lO\n",
       "aZkqwLPkf1iktd3v4ygJ9Z4FteGa3/UNmvQ+/Oz1xs2znEN6ASDRhiyvIXIFclzAu5yBCIQKt120\n",
       "nCM03RbgLogvuyqncb1hpM+BdsuGOE5SG9m1VF/2DfLF3VuvtkIY6dwQtLgosiXo4ZFYcgYugb7A\n",
       "0WKwnqRXQBXwCigLUaQ3sQ0j0nqFzrLR2f0kvOvfkQN/1k1mYnG/arHonV+kRq1/wWqPtd+RR1WQ\n",
       "vgcXNLGE2aJMDzKgOKJFkG7rPh1TZokzSF2GJN8Z9CyzTvfKY+B3un4TdVA2mTxg+Bl8vqxQJNWm\n",
       "hsvov0ht16RM6GxlrcJjz9J9HM46r3USEZXbqsJz6QIxwyy8FxhFPPA0ckRfgUTlA+bSffge3gkx\n",
       "DAQhrU1+ChSr/QDwY1iksTQlDM7kQ9yYRClO25M0NXoo6gVmIpeSfRaLGRUaQDdYAb3mKofMjPQ0\n",
       "VZL0rxlo0QpVucgA+fiZfpNVl09LNYbOgL6Hd0ILZxLSV2GXwWdWUGK1iJI3acMnggm5m8urFM9Y\n",
       "gdI/l+dqZSZRulhIQa0waaM3TsZKTUF6K5XpmSdmYH6ZvoPwG4EAyHXL1u/HxBuxHnw9z1CmbIlO\n",
       "dnAytNka4ChlgnwKrW+HkZZ2vIRqTNHrNJvKQfISrpeDLHJrGbxCcJPBZUq1DWQefXVIaefXtowf\n",
       "4+5H9cMBIBlBxDrPrA17xTsh4hjn17xbbu3ep+0xI4tVDu8F+GbMEKZkVS8px1iVGzO0UqKIDaqo\n",
       "6BwvFwRpzT1vGgGgQRBhp1Y8KJBEmvdMgIwZTbruRqA81w+9Dalcw7vSN2sTZiYdNR3HdHoMy1AD\n",
       "yl81sEkZ8deMyE/Tf006NtEUaNBIFH2k/4r+E+A5Cj1v8d5Fo1Fh5y8qeNem3HT+BIwIgwqdAMwg\n",
       "ok5t2hDoI6vfNwF2RpNO+P/cxY3Ou9M8Cce308Mhyre4f9aboDLSyh38u6Xy7J8J6zvdcbQH7k7T\n",
       "gH0mPTxlvezd4v/r+gdV9XyWCe2APgAAAABJRU5ErkJggg==\n",
       "\" style=\"display:inline;vertical-align:middle;\" /></a><br>(see <a class=\"ProveItLink\" href=\"../__pv_it/d51de36eb0823c24c873fcf05dee618b97c95a650/dependencies.ipynb\">dependencies</a>)<br>"
      ],
      "text/plain": [
       "listLen8: forall_{a, b, c, d, e, f, g, h} (|(a , b , c , d , e , f , g , h)| = 8)"
      ]
     },
     "execution_count": 2,
     "metadata": {},
     "output_type": "execute_result"
    }
   ],
   "source": [
    "%proving listLen8 presuming []"
   ]
  },
  {
   "cell_type": "code",
   "execution_count": null,
   "metadata": {},
   "outputs": [],
   "source": []
  }
 ],
 "metadata": {
  "kernelspec": {
   "display_name": "Python 3",
   "language": "python",
   "name": "python3"
  }
 },
 "nbformat": 4,
 "nbformat_minor": 0
}
