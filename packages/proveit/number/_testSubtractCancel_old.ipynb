{
 "cells": [
  {
   "cell_type": "code",
   "execution_count": 1,
   "metadata": {
    "collapsed": true
   },
   "outputs": [],
   "source": [
    "from proveit.basiclogic import In\n",
    "from proveit.number import *\n",
    "from proveit.number.common import Complexes, Integers\n",
    "from proveit.common import *"
   ]
  },
  {
   "cell_type": "code",
   "execution_count": 2,
   "metadata": {
    "collapsed": true
   },
   "outputs": [],
   "source": [
    "assumptions = set([In(var, Complexes) for var in [a, b, c, d, x, y, z]])"
   ]
  },
  {
   "cell_type": "code",
   "execution_count": 3,
   "metadata": {
    "collapsed": false
   },
   "outputs": [
    {
     "data": {
      "text/latex": [
       "$\\left(\\left( x + y + z \\right) - \\left( a + y + c \\right)\\right) = \\left(\\left( x + z \\right) - \\left( a + c \\right)\\right)$"
      ],
      "text/plain": [
       "$\\left(\\left( x + y + z \\right) - \\left( a + y + c \\right)\\right) = \\left(\\left( x + z \\right) - \\left( a + c \\right)\\right)$"
      ]
     },
     "execution_count": 3,
     "metadata": {},
     "output_type": "execute_result"
    }
   ],
   "source": [
    "Subtract(Add(x, y, z), Add(a, y, c)).cancel(assumptions=assumptions)"
   ]
  },
  {
   "cell_type": "code",
   "execution_count": 4,
   "metadata": {
    "collapsed": false
   },
   "outputs": [
    {
     "data": {
      "text/latex": [
       "$\\left(\\left( x + y \\right) - \\left( a + y + c \\right)\\right) = \\left(x - \\left( a + c \\right)\\right)$"
      ],
      "text/plain": [
       "$\\left(\\left( x + y \\right) - \\left( a + y + c \\right)\\right) = \\left(x - \\left( a + c \\right)\\right)$"
      ]
     },
     "execution_count": 4,
     "metadata": {},
     "output_type": "execute_result"
    }
   ],
   "source": [
    "Subtract(Add(x, y), Add(a, y, c)).cancel(assumptions=assumptions)"
   ]
  },
  {
   "cell_type": "code",
   "execution_count": 5,
   "metadata": {
    "collapsed": false
   },
   "outputs": [
    {
     "data": {
      "text/latex": [
       "$\\left(\\left( x + y + z \\right) - \\left( a + y \\right)\\right) = \\left(\\left( x + z \\right) - a\\right)$"
      ],
      "text/plain": [
       "$\\left(\\left( x + y + z \\right) - \\left( a + y \\right)\\right) = \\left(\\left( x + z \\right) - a\\right)$"
      ]
     },
     "execution_count": 5,
     "metadata": {},
     "output_type": "execute_result"
    }
   ],
   "source": [
    "Subtract(Add(x, y, z), Add(a, y)).cancel(assumptions=assumptions)"
   ]
  },
  {
   "cell_type": "code",
   "execution_count": 6,
   "metadata": {
    "collapsed": false
   },
   "outputs": [
    {
     "data": {
      "text/latex": [
       "$\\left(\\left( x + y \\right) - \\left( a + y \\right)\\right) = \\left(x - a\\right)$"
      ],
      "text/plain": [
       "$\\left(\\left( x + y \\right) - \\left( a + y \\right)\\right) = \\left(x - a\\right)$"
      ]
     },
     "execution_count": 6,
     "metadata": {},
     "output_type": "execute_result"
    }
   ],
   "source": [
    "Subtract(Add(x, y), Add(a, y)).cancel(assumptions=assumptions)"
   ]
  },
  {
   "cell_type": "code",
   "execution_count": 7,
   "metadata": {
    "collapsed": false
   },
   "outputs": [
    {
     "data": {
      "text/latex": [
       "$\\left(x - \\left( a + x + c + d \\right)\\right) = \\left(-\\left( a + c + d \\right)\\right)$"
      ],
      "text/plain": [
       "$\\left(x - \\left( a + x + c + d \\right)\\right) = \\left(-\\left( a + c + d \\right)\\right)$"
      ]
     },
     "execution_count": 7,
     "metadata": {},
     "output_type": "execute_result"
    }
   ],
   "source": [
    "Subtract(x, Add(a, x, c, d)).cancel(assumptions=assumptions)"
   ]
  },
  {
   "cell_type": "code",
   "execution_count": 8,
   "metadata": {
    "collapsed": false
   },
   "outputs": [
    {
     "data": {
      "text/latex": [
       "$\\left(\\left( a + x + c + d \\right) - x\\right) = \\left( a + c + d \\right)$"
      ],
      "text/plain": [
       "$\\left(\\left( a + x + c + d \\right) - x\\right) = \\left( a + c + d \\right)$"
      ]
     },
     "execution_count": 8,
     "metadata": {},
     "output_type": "execute_result"
    }
   ],
   "source": [
    "Subtract(Add(a, x, c, d), x).cancel(assumptions=assumptions)"
   ]
  },
  {
   "cell_type": "code",
   "execution_count": null,
   "metadata": {
    "collapsed": true
   },
   "outputs": [],
   "source": []
  }
 ],
 "metadata": {
  "kernelspec": {
   "display_name": "Python 3",
   "language": "python",
   "name": "python3"
  },
  "language_info": {
   "codemirror_mode": {
    "name": "ipython",
    "version": 3
   },
   "file_extension": ".py",
   "mimetype": "text/x-python",
   "name": "python",
   "nbconvert_exporter": "python",
   "pygments_lexer": "ipython3"
  }
 },
 "nbformat": 4,
 "nbformat_minor": 0
}
