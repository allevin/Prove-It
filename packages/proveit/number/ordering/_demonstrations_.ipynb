{
 "cells": [
  {
   "cell_type": "markdown",
   "metadata": {
    "collapsed": true
   },
   "source": [
    "Demonstrations for context <a class=\"ProveItLink\" href=\"_context_.ipynb\">proveit.number.ordering</a>\n",
    "========"
   ]
  },
  {
   "cell_type": "code",
   "execution_count": 1,
   "metadata": {},
   "outputs": [],
   "source": [
    "import proveit\n",
    "%begin demonstrations"
   ]
  },
  {
   "cell_type": "code",
   "execution_count": 2,
   "metadata": {},
   "outputs": [],
   "source": [
    "from proveit import ExprList\n",
    "from proveit.logic import Equals, InSet\n",
    "from proveit.number import Reals, Less, LessEq, Greater, GreaterEq, four\n",
    "from proveit._common_ import a, b, c, d, e, n, t, u, v, w, x, y, z, rho\n",
    "from _axioms_ import lessSequenceDef\n",
    "import random"
   ]
  },
  {
   "cell_type": "markdown",
   "metadata": {},
   "source": [
    "### Ordering sequences"
   ]
  },
  {
   "cell_type": "code",
   "execution_count": 3,
   "metadata": {},
   "outputs": [
    {
     "data": {
      "text/html": [
       "<span style=\"font-size:20px;\"> &#x22A2;&nbsp;<a class=\"ProveItLink\" href=\"__pv_it/d5ebc0f895582ea95a60317717f869b888ed07ee0/expr.ipynb\"><img src=\"__pv_it/d5ebc0f895582ea95a60317717f869b888ed07ee0/expr.png\" style=\"display:inline;vertical-align:middle;\" /></a></span>"
      ],
      "text/plain": [
       "|= forall_{n in NaturalsPos} [forall_{(x, rho) in Reals^{n + 1} * {< , <= , =}^{n}} ((x_(1) rho_(1)  ... x_(n) rho_(n) x_(n + 1)) = ((x_(1) rho_(1) x_(1 + 1)) and  ...  and (x_(n) rho_(n) x_(n + 1))))]"
      ]
     },
     "execution_count": 3,
     "metadata": {},
     "output_type": "execute_result"
    }
   ],
   "source": [
    "lessSequenceDef"
   ]
  },
  {
   "cell_type": "code",
   "execution_count": 4,
   "metadata": {},
   "outputs": [
    {
     "data": {
      "text/html": [
       "<strong id=\"operators\">operators:</strong> <a class=\"ProveItLink\" href=\"__pv_it/93eaa3a4a0c80fcbfc7362510f7191c2084d0b200/expr.ipynb\"><img src=\"__pv_it/93eaa3a4a0c80fcbfc7362510f7191c2084d0b200/expr.png\" style=\"display:inline;vertical-align:middle;\" /></a><br>"
      ],
      "text/plain": [
       "operators: (< , <= , = , <)"
      ]
     },
     "execution_count": 4,
     "metadata": {},
     "output_type": "execute_result"
    }
   ],
   "source": [
    "operators = ExprList(Less._operator_, LessEq._operator_, Equals._operator_, Less._operator_)"
   ]
  },
  {
   "cell_type": "code",
   "execution_count": 5,
   "metadata": {},
   "outputs": [
    {
     "data": {
      "text/html": [
       "<strong id=\"assumptions\">assumptions:</strong> <a class=\"ProveItLink\" href=\"__pv_it/da3187e0bacaaf55be96171391c39c48a504bf710/expr.ipynb\"><img src=\"__pv_it/da3187e0bacaaf55be96171391c39c48a504bf710/expr.png\" style=\"display:inline;vertical-align:middle;\" /></a><br>"
      ],
      "text/plain": [
       "assumptions: (v in Reals , w in Reals , x in Reals , y in Reals , z in Reals)"
      ]
     },
     "execution_count": 5,
     "metadata": {},
     "output_type": "execute_result"
    }
   ],
   "source": [
    "assumptions = [InSet(v, Reals), InSet(w, Reals), InSet(x, Reals), InSet(y, Reals), InSet(z, Reals)]"
   ]
  },
  {
   "cell_type": "code",
   "execution_count": 6,
   "metadata": {
    "scrolled": true
   },
   "outputs": [
    {
     "data": {
      "text/html": [
       "<strong id=\"test\">test:</strong> <span style=\"font-size:20px;\"><a class=\"ProveItLink\" href=\"__pv_it/825aa88c96ecc7eab5f1223244d42ca307af2df30/expr.ipynb\"><img src=\"__pv_it/825aa88c96ecc7eab5f1223244d42ca307af2df30/expr.png\" style=\"display:inline;vertical-align:middle;\" /></a> &#x22A2;&nbsp;<a class=\"ProveItLink\" href=\"__pv_it/8f71cd4c71b4fb3de7358c11cda9656b56bfffbb0/expr.ipynb\"><img src=\"__pv_it/8f71cd4c71b4fb3de7358c11cda9656b56bfffbb0/expr.png\" style=\"display:inline;vertical-align:middle;\" /></a></span><br>"
      ],
      "text/plain": [
       "test: {v in Reals , w in Reals , x in Reals , y in Reals , z in Reals} |= (v < w <= x = y < z) = ((v < w) and (w <= x) and (x = y) and (y < z))"
      ]
     },
     "execution_count": 6,
     "metadata": {},
     "output_type": "execute_result"
    }
   ],
   "source": [
    "test = lessSequenceDef.specialize({n:four, x:[v,w,x,y,z], rho:operators}, assumptions=assumptions)"
   ]
  },
  {
   "cell_type": "code",
   "execution_count": 7,
   "metadata": {},
   "outputs": [
    {
     "data": {
      "text/html": [
       "<table><tr><th>&nbsp;</th><th>step type</th><th>requirements</th><th>statement</th></tr>\n",
       "<tr><td>0</td><td>specialization</td><td>1, 2, 3, 4, 16, 17, 19, 15, 5, 6, 7, 8</td><td><span style=\"font-size:20px;\"><a class=\"ProveItLink\" href=\"__pv_it/825aa88c96ecc7eab5f1223244d42ca307af2df30/expr.ipynb\"><img src=\"__pv_it/825aa88c96ecc7eab5f1223244d42ca307af2df30/expr.png\" style=\"display:inline;vertical-align:middle;\" /></a> &#x22A2;&nbsp;<a class=\"ProveItLink\" href=\"__pv_it/8f71cd4c71b4fb3de7358c11cda9656b56bfffbb0/expr.ipynb\"><img src=\"__pv_it/8f71cd4c71b4fb3de7358c11cda9656b56bfffbb0/expr.png\" style=\"display:inline;vertical-align:middle;\" /></a></span></td></tr>\n",
       "<tr><td>&nbsp;</td><td colspan=4 style=\"text-align:left\"><span style=\"font-size:20px;\"><a class=\"ProveItLink\" href=\"__pv_it/fe7f1a6925a09cdb0ce7991df888ecb50629c1920/expr.ipynb\"><img src=\"__pv_it/fe7f1a6925a09cdb0ce7991df888ecb50629c1920/expr.png\" style=\"display:inline;vertical-align:middle;\" /></a>, <a class=\"ProveItLink\" href=\"__pv_it/48f9f4ec5cd53c461fec53f1f5c4ba3b4d8099570/expr.ipynb\"><img src=\"__pv_it/48f9f4ec5cd53c461fec53f1f5c4ba3b4d8099570/expr.png\" style=\"display:inline;vertical-align:middle;\" /></a></span></td></tr><tr><td>1</td><td>axiom</td><td></td><td><span style=\"font-size:20px;\"> &#x22A2;&nbsp;<a class=\"ProveItLink\" href=\"__pv_it/d5ebc0f895582ea95a60317717f869b888ed07ee0/expr.ipynb\"><img src=\"__pv_it/d5ebc0f895582ea95a60317717f869b888ed07ee0/expr.png\" style=\"display:inline;vertical-align:middle;\" /></a></span></td></tr>\n",
       "<tr><td>&nbsp;</td><td colspan=4 style-\"text-align:left\"><a class=\"ProveItLink\" href=\"_axioms_.ipynb#lessSequenceDef\">proveit.number.ordering.lessSequenceDef</a></td></tr><tr><td>2</td><td>theorem</td><td></td><td><span style=\"font-size:20px;\"> &#x22A2;&nbsp;<a class=\"ProveItLink\" href=\"../numeral/decimal/__pv_it/a8e2987330479c05c40c94f9edaad0d2c48f343a0/expr.ipynb\"><img src=\"../numeral/decimal/__pv_it/a8e2987330479c05c40c94f9edaad0d2c48f343a0/expr.png\" style=\"display:inline;vertical-align:middle;\" /></a></span></td></tr>\n",
       "<tr><td>&nbsp;</td><td colspan=4 style-\"text-align:left\"><a class=\"ProveItLink\" href=\"../numeral/decimal/_proofs_/posnat4.ipynb\">proveit.number.numeral.decimal.posnat4</a></td></tr><tr><td>3</td><td>specialization</td><td>9, 10, 15</td><td><span style=\"font-size:20px;\"><a class=\"ProveItLink\" href=\"__pv_it/825aa88c96ecc7eab5f1223244d42ca307af2df30/expr.ipynb\"><img src=\"__pv_it/825aa88c96ecc7eab5f1223244d42ca307af2df30/expr.png\" style=\"display:inline;vertical-align:middle;\" /></a> &#x22A2;&nbsp;<a class=\"ProveItLink\" href=\"__pv_it/d4a2e78e6d2783b4c099d34f5c29e707640ac9980/expr.ipynb\"><img src=\"__pv_it/d4a2e78e6d2783b4c099d34f5c29e707640ac9980/expr.png\" style=\"display:inline;vertical-align:middle;\" /></a></span></td></tr>\n",
       "<tr><td>&nbsp;</td><td colspan=4 style=\"text-align:left\"><span style=\"font-size:20px;\"><a class=\"ProveItLink\" href=\"__pv_it/bf93dfa7b10ea4a0abf76e21d2afa3d847408fb40/expr.ipynb\"><img src=\"__pv_it/bf93dfa7b10ea4a0abf76e21d2afa3d847408fb40/expr.png\" style=\"display:inline;vertical-align:middle;\" /></a>, <a class=\"ProveItLink\" href=\"__pv_it/9c76f75bf2e86a07bff2ed179d839fd0a07608840/expr.ipynb\"><img src=\"__pv_it/9c76f75bf2e86a07bff2ed179d839fd0a07608840/expr.png\" style=\"display:inline;vertical-align:middle;\" /></a>, <a class=\"ProveItLink\" href=\"__pv_it/f6f6f16e931777bde30111b637c31c2529cd0fe60/expr.ipynb\"><img src=\"__pv_it/f6f6f16e931777bde30111b637c31c2529cd0fe60/expr.png\" style=\"display:inline;vertical-align:middle;\" /></a></span></td></tr><tr><td>4</td><td>specialization</td><td>11, 12, 13, 14</td><td><span style=\"font-size:20px;\"> &#x22A2;&nbsp;<a class=\"ProveItLink\" href=\"__pv_it/a77a884fb1edc486b876ee1d6bd8f1428b6836910/expr.ipynb\"><img src=\"__pv_it/a77a884fb1edc486b876ee1d6bd8f1428b6836910/expr.png\" style=\"display:inline;vertical-align:middle;\" /></a></span></td></tr>\n",
       "<tr><td>&nbsp;</td><td colspan=4 style=\"text-align:left\"><span style=\"font-size:20px;\"><a class=\"ProveItLink\" href=\"__pv_it/365d7be94faec5e70d427476e41bc1a29ccac7af0/expr.ipynb\"><img src=\"__pv_it/365d7be94faec5e70d427476e41bc1a29ccac7af0/expr.png\" style=\"display:inline;vertical-align:middle;\" /></a>, <a class=\"ProveItLink\" href=\"__pv_it/cd94567b929df8aa2ece93e2bbb3b8fd664fc8410/expr.ipynb\"><img src=\"__pv_it/cd94567b929df8aa2ece93e2bbb3b8fd664fc8410/expr.png\" style=\"display:inline;vertical-align:middle;\" /></a></span></td></tr><tr><td>5</td><td>specialization</td><td>18, 15</td><td><span style=\"font-size:20px;\"> &#x22A2;&nbsp;<a class=\"ProveItLink\" href=\"__pv_it/382c249abd29186dc7619ac159847018b47bdaa10/expr.ipynb\"><img src=\"__pv_it/382c249abd29186dc7619ac159847018b47bdaa10/expr.png\" style=\"display:inline;vertical-align:middle;\" /></a></span></td></tr>\n",
       "<tr><td>&nbsp;</td><td colspan=4 style=\"text-align:left\"><span style=\"font-size:20px;\"><a class=\"ProveItLink\" href=\"__pv_it/9c76f75bf2e86a07bff2ed179d839fd0a07608840/expr.ipynb\"><img src=\"__pv_it/9c76f75bf2e86a07bff2ed179d839fd0a07608840/expr.png\" style=\"display:inline;vertical-align:middle;\" /></a>, <a class=\"ProveItLink\" href=\"__pv_it/f6f6f16e931777bde30111b637c31c2529cd0fe60/expr.ipynb\"><img src=\"__pv_it/f6f6f16e931777bde30111b637c31c2529cd0fe60/expr.png\" style=\"display:inline;vertical-align:middle;\" /></a></span></td></tr><tr><td>6</td><td>specialization</td><td>18, 16</td><td><span style=\"font-size:20px;\"> &#x22A2;&nbsp;<a class=\"ProveItLink\" href=\"__pv_it/ecf6a7f8e2c66cf29c1f8eef704216b8b97450960/expr.ipynb\"><img src=\"__pv_it/ecf6a7f8e2c66cf29c1f8eef704216b8b97450960/expr.png\" style=\"display:inline;vertical-align:middle;\" /></a></span></td></tr>\n",
       "<tr><td>&nbsp;</td><td colspan=4 style=\"text-align:left\"><span style=\"font-size:20px;\"><a class=\"ProveItLink\" href=\"__pv_it/032e09cbd44f75e319bfe1116e52f79ef4661e4c0/expr.ipynb\"><img src=\"__pv_it/032e09cbd44f75e319bfe1116e52f79ef4661e4c0/expr.png\" style=\"display:inline;vertical-align:middle;\" /></a>, <a class=\"ProveItLink\" href=\"__pv_it/91eade60b2bad7f918887838bb0c78f1befb46ae0/expr.ipynb\"><img src=\"__pv_it/91eade60b2bad7f918887838bb0c78f1befb46ae0/expr.png\" style=\"display:inline;vertical-align:middle;\" /></a></span></td></tr><tr><td>7</td><td>specialization</td><td>18, 17</td><td><span style=\"font-size:20px;\"> &#x22A2;&nbsp;<a class=\"ProveItLink\" href=\"__pv_it/c2a157f2bac6726eb835094a53a81850536495270/expr.ipynb\"><img src=\"__pv_it/c2a157f2bac6726eb835094a53a81850536495270/expr.png\" style=\"display:inline;vertical-align:middle;\" /></a></span></td></tr>\n",
       "<tr><td>&nbsp;</td><td colspan=4 style=\"text-align:left\"><span style=\"font-size:20px;\"><a class=\"ProveItLink\" href=\"__pv_it/04d669eb02294e2ff3e5b65ba7b9d310751614380/expr.ipynb\"><img src=\"__pv_it/04d669eb02294e2ff3e5b65ba7b9d310751614380/expr.png\" style=\"display:inline;vertical-align:middle;\" /></a>, <a class=\"ProveItLink\" href=\"__pv_it/65368bd2dd8382906884c46e2f763d7d6adc8e820/expr.ipynb\"><img src=\"__pv_it/65368bd2dd8382906884c46e2f763d7d6adc8e820/expr.png\" style=\"display:inline;vertical-align:middle;\" /></a></span></td></tr><tr><td>8</td><td>specialization</td><td>18, 19</td><td><span style=\"font-size:20px;\"> &#x22A2;&nbsp;<a class=\"ProveItLink\" href=\"__pv_it/d1fcab7f4ea45de5bfb05e4604289e5b285b8cab0/expr.ipynb\"><img src=\"__pv_it/d1fcab7f4ea45de5bfb05e4604289e5b285b8cab0/expr.png\" style=\"display:inline;vertical-align:middle;\" /></a></span></td></tr>\n",
       "<tr><td>&nbsp;</td><td colspan=4 style=\"text-align:left\"><span style=\"font-size:20px;\"><a class=\"ProveItLink\" href=\"__pv_it/2e99aeec67e281b76f5801a045be8bd9a92d41210/expr.ipynb\"><img src=\"__pv_it/2e99aeec67e281b76f5801a045be8bd9a92d41210/expr.png\" style=\"display:inline;vertical-align:middle;\" /></a>, <a class=\"ProveItLink\" href=\"__pv_it/bd3ba1d229c024259d4d22779a4a14efc295230c0/expr.ipynb\"><img src=\"__pv_it/bd3ba1d229c024259d4d22779a4a14efc295230c0/expr.png\" style=\"display:inline;vertical-align:middle;\" /></a></span></td></tr><tr><td>9</td><td>theorem</td><td></td><td><span style=\"font-size:20px;\"> &#x22A2;&nbsp;<a class=\"ProveItLink\" href=\"../../logic/equality/__pv_it/6425c7b64708730992bfb72314f6aeaa5dc1d76c0/expr.ipynb\"><img src=\"../../logic/equality/__pv_it/6425c7b64708730992bfb72314f6aeaa5dc1d76c0/expr.png\" style=\"display:inline;vertical-align:middle;\" /></a></span></td></tr>\n",
       "<tr><td>&nbsp;</td><td colspan=4 style-\"text-align:left\"><a class=\"ProveItLink\" href=\"../../logic/equality/_proofs_/subLeftSideInto.ipynb\">proveit.logic.equality.subLeftSideInto</a></td></tr><tr><td>10</td><td>specialization</td><td>20, 21, 22, 23, 24, 25</td><td><span style=\"font-size:20px;\"><a class=\"ProveItLink\" href=\"__pv_it/825aa88c96ecc7eab5f1223244d42ca307af2df30/expr.ipynb\"><img src=\"__pv_it/825aa88c96ecc7eab5f1223244d42ca307af2df30/expr.png\" style=\"display:inline;vertical-align:middle;\" /></a> &#x22A2;&nbsp;<a class=\"ProveItLink\" href=\"__pv_it/91916f9ee0ea2deb58849958d5cb7ab6079d8cdf0/expr.ipynb\"><img src=\"__pv_it/91916f9ee0ea2deb58849958d5cb7ab6079d8cdf0/expr.png\" style=\"display:inline;vertical-align:middle;\" /></a></span></td></tr>\n",
       "<tr><td>&nbsp;</td><td colspan=4 style=\"text-align:left\"><span style=\"font-size:20px;\"><a class=\"ProveItLink\" href=\"__pv_it/f4ab77c93e729ff67ed0b8f553d4db8f4f7b44a70/expr.ipynb\"><img src=\"__pv_it/f4ab77c93e729ff67ed0b8f553d4db8f4f7b44a70/expr.png\" style=\"display:inline;vertical-align:middle;\" /></a>, <a class=\"ProveItLink\" href=\"__pv_it/013414dbf8146ee126a654d83a3a1bd5d59383470/expr.ipynb\"><img src=\"__pv_it/013414dbf8146ee126a654d83a3a1bd5d59383470/expr.png\" style=\"display:inline;vertical-align:middle;\" /></a></span></td></tr><tr><td>11</td><td>theorem</td><td></td><td><span style=\"font-size:20px;\"> &#x22A2;&nbsp;<a class=\"ProveItLink\" href=\"../../logic/set_theory/membership/__pv_it/8dab04501a2fbe53c189dc187847e4d6fd67f8250/expr.ipynb\"><img src=\"../../logic/set_theory/membership/__pv_it/8dab04501a2fbe53c189dc187847e4d6fd67f8250/expr.png\" style=\"display:inline;vertical-align:middle;\" /></a></span></td></tr>\n",
       "<tr><td>&nbsp;</td><td colspan=4 style-\"text-align:left\"><a class=\"ProveItLink\" href=\"../../logic/set_theory/membership/_proofs_/exp_set_4.ipynb\">proveit.logic.set_theory.membership.exp_set_4</a></td></tr><tr><td>12</td><td>theorem</td><td></td><td><span style=\"font-size:20px;\"> &#x22A2;&nbsp;<a class=\"ProveItLink\" href=\"__pv_it/d4a584cb28dab2ba0ace67e7f307613c5f3803dd0/expr.ipynb\"><img src=\"__pv_it/d4a584cb28dab2ba0ace67e7f307613c5f3803dd0/expr.png\" style=\"display:inline;vertical-align:middle;\" /></a></span></td></tr>\n",
       "<tr><td>&nbsp;</td><td colspan=4 style-\"text-align:left\"><a class=\"ProveItLink\" href=\"_proofs_/less__in__less_eq_relations.ipynb\">proveit.number.ordering.less__in__less_eq_relations</a></td></tr><tr><td>13</td><td>theorem</td><td></td><td><span style=\"font-size:20px;\"> &#x22A2;&nbsp;<a class=\"ProveItLink\" href=\"__pv_it/b1f49f2be6476291afd2ccbfb414f8e0775ad5b40/expr.ipynb\"><img src=\"__pv_it/b1f49f2be6476291afd2ccbfb414f8e0775ad5b40/expr.png\" style=\"display:inline;vertical-align:middle;\" /></a></span></td></tr>\n",
       "<tr><td>&nbsp;</td><td colspan=4 style-\"text-align:left\"><a class=\"ProveItLink\" href=\"_proofs_/less_eq__in__less_eq_relations.ipynb\">proveit.number.ordering.less_eq__in__less_eq_relations</a></td></tr><tr><td>14</td><td>theorem</td><td></td><td><span style=\"font-size:20px;\"> &#x22A2;&nbsp;<a class=\"ProveItLink\" href=\"__pv_it/d5076c8da292ac6f65f6c45668e3590f8f628aaa0/expr.ipynb\"><img src=\"__pv_it/d5076c8da292ac6f65f6c45668e3590f8f628aaa0/expr.png\" style=\"display:inline;vertical-align:middle;\" /></a></span></td></tr>\n",
       "<tr><td>&nbsp;</td><td colspan=4 style-\"text-align:left\"><a class=\"ProveItLink\" href=\"_proofs_/eq__in__less_eq_relations.ipynb\">proveit.number.ordering.eq__in__less_eq_relations</a></td></tr><tr><td>15</td><td>theorem</td><td></td><td><span style=\"font-size:20px;\"> &#x22A2;&nbsp;<a class=\"ProveItLink\" href=\"../numeral/decimal/__pv_it/40c99f576150d8b62295a339956c083d3a6106810/expr.ipynb\"><img src=\"../numeral/decimal/__pv_it/40c99f576150d8b62295a339956c083d3a6106810/expr.png\" style=\"display:inline;vertical-align:middle;\" /></a></span></td></tr>\n",
       "<tr><td>&nbsp;</td><td colspan=4 style-\"text-align:left\"><a class=\"ProveItLink\" href=\"../numeral/decimal/_proofs_/add_4_1.ipynb\">proveit.number.numeral.decimal.add_4_1</a></td></tr><tr><td>16</td><td>theorem</td><td></td><td><span style=\"font-size:20px;\"> &#x22A2;&nbsp;<a class=\"ProveItLink\" href=\"../numeral/decimal/__pv_it/c5d3f2ba07647aec518bec1929b16561d1a340400/expr.ipynb\"><img src=\"../numeral/decimal/__pv_it/c5d3f2ba07647aec518bec1929b16561d1a340400/expr.png\" style=\"display:inline;vertical-align:middle;\" /></a></span></td></tr>\n",
       "<tr><td>&nbsp;</td><td colspan=4 style-\"text-align:left\"><a class=\"ProveItLink\" href=\"../numeral/decimal/_proofs_/add_1_1.ipynb\">proveit.number.numeral.decimal.add_1_1</a></td></tr><tr><td>17</td><td>theorem</td><td></td><td><span style=\"font-size:20px;\"> &#x22A2;&nbsp;<a class=\"ProveItLink\" href=\"../numeral/decimal/__pv_it/21aa4b60034093b61b7d779cdd54bc7d2d51c73e0/expr.ipynb\"><img src=\"../numeral/decimal/__pv_it/21aa4b60034093b61b7d779cdd54bc7d2d51c73e0/expr.png\" style=\"display:inline;vertical-align:middle;\" /></a></span></td></tr>\n",
       "<tr><td>&nbsp;</td><td colspan=4 style-\"text-align:left\"><a class=\"ProveItLink\" href=\"../numeral/decimal/_proofs_/add_2_1.ipynb\">proveit.number.numeral.decimal.add_2_1</a></td></tr><tr><td>18</td><td>theorem</td><td></td><td><span style=\"font-size:20px;\"> &#x22A2;&nbsp;<a class=\"ProveItLink\" href=\"../../logic/equality/__pv_it/ea30f81e570e9291b945594aa271523b96695fa70/expr.ipynb\"><img src=\"../../logic/equality/__pv_it/ea30f81e570e9291b945594aa271523b96695fa70/expr.png\" style=\"display:inline;vertical-align:middle;\" /></a></span></td></tr>\n",
       "<tr><td>&nbsp;</td><td colspan=4 style-\"text-align:left\"><a class=\"ProveItLink\" href=\"../../logic/equality/_proofs_/equalsReversal.ipynb\">proveit.logic.equality.equalsReversal</a></td></tr><tr><td>19</td><td>theorem</td><td></td><td><span style=\"font-size:20px;\"> &#x22A2;&nbsp;<a class=\"ProveItLink\" href=\"../numeral/decimal/__pv_it/dacb710858c5d508d55e05fa21bc52e5449bb54c0/expr.ipynb\"><img src=\"../numeral/decimal/__pv_it/dacb710858c5d508d55e05fa21bc52e5449bb54c0/expr.png\" style=\"display:inline;vertical-align:middle;\" /></a></span></td></tr>\n",
       "<tr><td>&nbsp;</td><td colspan=4 style-\"text-align:left\"><a class=\"ProveItLink\" href=\"../numeral/decimal/_proofs_/add_3_1.ipynb\">proveit.number.numeral.decimal.add_3_1</a></td></tr><tr><td>20</td><td>theorem</td><td></td><td><span style=\"font-size:20px;\"> &#x22A2;&nbsp;<a class=\"ProveItLink\" href=\"../../logic/set_theory/membership/__pv_it/72cd5c509a99e19b079cba3bd2ca15c8690dcca00/expr.ipynb\"><img src=\"../../logic/set_theory/membership/__pv_it/72cd5c509a99e19b079cba3bd2ca15c8690dcca00/expr.png\" style=\"display:inline;vertical-align:middle;\" /></a></span></td></tr>\n",
       "<tr><td>&nbsp;</td><td colspan=4 style-\"text-align:left\"><a class=\"ProveItLink\" href=\"../../logic/set_theory/membership/_proofs_/exp_set_5.ipynb\">proveit.logic.set_theory.membership.exp_set_5</a></td></tr><tr><td>21</td><td>assumption</td><td></td><td><span style=\"font-size:20px;\"><a class=\"ProveItLink\" href=\"__pv_it/5d19475e10fdf335187a8d7b95aa84cf8cef9a310/expr.ipynb\"><img src=\"__pv_it/5d19475e10fdf335187a8d7b95aa84cf8cef9a310/expr.png\" style=\"display:inline;vertical-align:middle;\" /></a> &#x22A2;&nbsp;<a class=\"ProveItLink\" href=\"__pv_it/f49e341b0af132941f0e552f95e3bedb81a75a180/expr.ipynb\"><img src=\"__pv_it/f49e341b0af132941f0e552f95e3bedb81a75a180/expr.png\" style=\"display:inline;vertical-align:middle;\" /></a></span></td></tr>\n",
       "<tr><td>22</td><td>assumption</td><td></td><td><span style=\"font-size:20px;\"><a class=\"ProveItLink\" href=\"__pv_it/3f06bef215da2437dd18baa7c0e9d2f020eb9f750/expr.ipynb\"><img src=\"__pv_it/3f06bef215da2437dd18baa7c0e9d2f020eb9f750/expr.png\" style=\"display:inline;vertical-align:middle;\" /></a> &#x22A2;&nbsp;<a class=\"ProveItLink\" href=\"__pv_it/9bd68a6e5d2b6d253e5a200f1b2667498c367cf90/expr.ipynb\"><img src=\"__pv_it/9bd68a6e5d2b6d253e5a200f1b2667498c367cf90/expr.png\" style=\"display:inline;vertical-align:middle;\" /></a></span></td></tr>\n",
       "<tr><td>23</td><td>assumption</td><td></td><td><span style=\"font-size:20px;\"><a class=\"ProveItLink\" href=\"__pv_it/d5597c5bbed71975f9373ba2cd5c3a7ae66d40950/expr.ipynb\"><img src=\"__pv_it/d5597c5bbed71975f9373ba2cd5c3a7ae66d40950/expr.png\" style=\"display:inline;vertical-align:middle;\" /></a> &#x22A2;&nbsp;<a class=\"ProveItLink\" href=\"__pv_it/f8b5c86a93861ddd5e5faad80d513581b9fd1b1f0/expr.ipynb\"><img src=\"__pv_it/f8b5c86a93861ddd5e5faad80d513581b9fd1b1f0/expr.png\" style=\"display:inline;vertical-align:middle;\" /></a></span></td></tr>\n",
       "<tr><td>24</td><td>assumption</td><td></td><td><span style=\"font-size:20px;\"><a class=\"ProveItLink\" href=\"__pv_it/fa087030e9e860de75759fdc59850e300ce11d3f0/expr.ipynb\"><img src=\"__pv_it/fa087030e9e860de75759fdc59850e300ce11d3f0/expr.png\" style=\"display:inline;vertical-align:middle;\" /></a> &#x22A2;&nbsp;<a class=\"ProveItLink\" href=\"__pv_it/af6283ca6776f6f8f4487235c01b900e306351aa0/expr.ipynb\"><img src=\"__pv_it/af6283ca6776f6f8f4487235c01b900e306351aa0/expr.png\" style=\"display:inline;vertical-align:middle;\" /></a></span></td></tr>\n",
       "<tr><td>25</td><td>assumption</td><td></td><td><span style=\"font-size:20px;\"><a class=\"ProveItLink\" href=\"__pv_it/bf8a37a57235a6992548c530b1c5325aefe3d6a90/expr.ipynb\"><img src=\"__pv_it/bf8a37a57235a6992548c530b1c5325aefe3d6a90/expr.png\" style=\"display:inline;vertical-align:middle;\" /></a> &#x22A2;&nbsp;<a class=\"ProveItLink\" href=\"__pv_it/19b5b8050155bb137111e2c2d51311afba194a5d0/expr.ipynb\"><img src=\"__pv_it/19b5b8050155bb137111e2c2d51311afba194a5d0/expr.png\" style=\"display:inline;vertical-align:middle;\" /></a></span></td></tr>\n",
       "</table>"
      ],
      "text/plain": [
       "\tstep type\trequirements\tstatement\n",
       "0\tspecialization\t1, 2, 3, 4, 16, 17, 19, 15, 5, 6, 7, 8\t{v in Reals , w in Reals , x in Reals , y in Reals , z in Reals} |= (v < w <= x = y < z) = ((v < w) and (w <= x) and (x = y) and (y < z))\n",
       "\t{n -> 4}, {x -> (v , w , x , y , z) , rho -> (< , <= , = , <)}\n",
       "1\taxiom\t\t|= forall_{n in NaturalsPos} [forall_{(x, rho) in Reals^{n + 1} * {< , <= , =}^{n}} ((x_(1) rho_(1)  ... x_(n) rho_(n) x_(n + 1)) = ((x_(1) rho_(1) x_(1 + 1)) and  ...  and (x_(n) rho_(n) x_(n + 1))))]\n",
       "\tproveit.number.ordering.lessSequenceDef\n",
       "2\ttheorem\t\t|= 4 in NaturalsPos\n",
       "\tproveit.number.numeral.decimal.posnat4\n",
       "3\tspecialization\t9, 10, 15\t{v in Reals , w in Reals , x in Reals , y in Reals , z in Reals} |= (v , w , x , y , z) in Reals^{4 + 1}\n",
       "\tP -> [_x_ -> ((v , w , x , y , z) in Reals^{_x_})], x -> (4 + 1), y -> 5\n",
       "4\tspecialization\t11, 12, 13, 14\t|= (< , <= , = , <) in {< , <= , =}^{4}\n",
       "\t{S -> {< , <= , =}}, {a -> < , b -> <= , c -> = , d -> <}\n",
       "5\tspecialization\t18, 15\t|= 5 = (4 + 1)\n",
       "\tx -> (4 + 1), y -> 5\n",
       "6\tspecialization\t18, 16\t|= 2 = (1 + 1)\n",
       "\tx -> (1 + 1), y -> 2\n",
       "7\tspecialization\t18, 17\t|= 3 = (2 + 1)\n",
       "\tx -> (2 + 1), y -> 3\n",
       "8\tspecialization\t18, 19\t|= 4 = (3 + 1)\n",
       "\tx -> (3 + 1), y -> 4\n",
       "9\ttheorem\t\t|= forall_{P, x, y | P(y) , x = y} P(x)\n",
       "\tproveit.logic.equality.subLeftSideInto\n",
       "10\tspecialization\t20, 21, 22, 23, 24, 25\t{v in Reals , w in Reals , x in Reals , y in Reals , z in Reals} |= (v , w , x , y , z) in Reals^{5}\n",
       "\t{S -> Reals}, {a -> v , b -> w , c -> x , d -> y , e -> z}\n",
       "11\ttheorem\t\t|= forall_{S} [forall_{a, b, c, d in S} ((a , b , c , d) in S^{4})]\n",
       "\tproveit.logic.set_theory.membership.exp_set_4\n",
       "12\ttheorem\t\t|= < in {< , <= , =}\n",
       "\tproveit.number.ordering.less__in__less_eq_relations\n",
       "13\ttheorem\t\t|= <= in {< , <= , =}\n",
       "\tproveit.number.ordering.less_eq__in__less_eq_relations\n",
       "14\ttheorem\t\t|= = in {< , <= , =}\n",
       "\tproveit.number.ordering.eq__in__less_eq_relations\n",
       "15\ttheorem\t\t|= (4 + 1) = 5\n",
       "\tproveit.number.numeral.decimal.add_4_1\n",
       "16\ttheorem\t\t|= (1 + 1) = 2\n",
       "\tproveit.number.numeral.decimal.add_1_1\n",
       "17\ttheorem\t\t|= (2 + 1) = 3\n",
       "\tproveit.number.numeral.decimal.add_2_1\n",
       "18\ttheorem\t\t|= forall_{x, y | x = y} (y = x)\n",
       "\tproveit.logic.equality.equalsReversal\n",
       "19\ttheorem\t\t|= (3 + 1) = 4\n",
       "\tproveit.number.numeral.decimal.add_3_1\n",
       "20\ttheorem\t\t|= forall_{S} [forall_{a, b, c, d, e in S} ((a , b , c , d , e) in S^{5})]\n",
       "\tproveit.logic.set_theory.membership.exp_set_5\n",
       "21\tassumption\t\t{v in Reals} |= v in Reals\n",
       "22\tassumption\t\t{w in Reals} |= w in Reals\n",
       "23\tassumption\t\t{x in Reals} |= x in Reals\n",
       "24\tassumption\t\t{y in Reals} |= y in Reals\n",
       "25\tassumption\t\t{z in Reals} |= z in Reals"
      ]
     },
     "execution_count": 7,
     "metadata": {},
     "output_type": "execute_result"
    }
   ],
   "source": [
    "test.proof()"
   ]
  },
  {
   "cell_type": "code",
   "execution_count": null,
   "metadata": {},
   "outputs": [],
   "source": []
  },
  {
   "cell_type": "code",
   "execution_count": 8,
   "metadata": {},
   "outputs": [
    {
     "data": {
      "text/html": [
       "<table><tr><th>&nbsp;</th><th>step type</th><th>requirements</th><th>statement</th></tr>\n",
       "<tr><td>0</td><td>specialization</td><td>3, 1, 2</td><td><span style=\"font-size:20px;\"> &#x22A2;&nbsp;<a class=\"ProveItLink\" href=\"__pv_it/33db776e854d0f71ddfc7f9473edc1906b5c14ae0/expr.ipynb\"><img src=\"__pv_it/33db776e854d0f71ddfc7f9473edc1906b5c14ae0/expr.png\" style=\"display:inline;vertical-align:middle;\" /></a></span></td></tr>\n",
       "<tr><td>&nbsp;</td><td colspan=4 style=\"text-align:left\"><span style=\"font-size:20px;\"><a class=\"ProveItLink\" href=\"__pv_it/13367982f60eba949e4f5b8cf20fe814bcdb1b0a0/expr.ipynb\"><img src=\"__pv_it/13367982f60eba949e4f5b8cf20fe814bcdb1b0a0/expr.png\" style=\"display:inline;vertical-align:middle;\" /></a>, <a class=\"ProveItLink\" href=\"__pv_it/65368bd2dd8382906884c46e2f763d7d6adc8e820/expr.ipynb\"><img src=\"__pv_it/65368bd2dd8382906884c46e2f763d7d6adc8e820/expr.png\" style=\"display:inline;vertical-align:middle;\" /></a>, <a class=\"ProveItLink\" href=\"__pv_it/67cca10bb5689284afa609da160596f6db8cbf3e0/expr.ipynb\"><img src=\"__pv_it/67cca10bb5689284afa609da160596f6db8cbf3e0/expr.png\" style=\"display:inline;vertical-align:middle;\" /></a></span></td></tr><tr><td>1</td><td>specialization</td><td>3, 4, 5</td><td><span style=\"font-size:20px;\"> &#x22A2;&nbsp;<a class=\"ProveItLink\" href=\"__pv_it/c43aefc9db55ddc2dbd1c5b2c1601ea3e04029a60/expr.ipynb\"><img src=\"__pv_it/c43aefc9db55ddc2dbd1c5b2c1601ea3e04029a60/expr.png\" style=\"display:inline;vertical-align:middle;\" /></a></span></td></tr>\n",
       "<tr><td>&nbsp;</td><td colspan=4 style=\"text-align:left\"><span style=\"font-size:20px;\"><a class=\"ProveItLink\" href=\"__pv_it/13367982f60eba949e4f5b8cf20fe814bcdb1b0a0/expr.ipynb\"><img src=\"__pv_it/13367982f60eba949e4f5b8cf20fe814bcdb1b0a0/expr.png\" style=\"display:inline;vertical-align:middle;\" /></a>, <a class=\"ProveItLink\" href=\"__pv_it/91eade60b2bad7f918887838bb0c78f1befb46ae0/expr.ipynb\"><img src=\"__pv_it/91eade60b2bad7f918887838bb0c78f1befb46ae0/expr.png\" style=\"display:inline;vertical-align:middle;\" /></a>, <a class=\"ProveItLink\" href=\"__pv_it/36fd8c1a16f7e9019f64799ac4ac5b422c5e74ff0/expr.ipynb\"><img src=\"__pv_it/36fd8c1a16f7e9019f64799ac4ac5b422c5e74ff0/expr.png\" style=\"display:inline;vertical-align:middle;\" /></a></span></td></tr><tr><td>2</td><td>theorem</td><td></td><td><span style=\"font-size:20px;\"> &#x22A2;&nbsp;<a class=\"ProveItLink\" href=\"../numeral/decimal/__pv_it/062fba8f811ddd0affa8a613573c5a0599a508690/expr.ipynb\"><img src=\"../numeral/decimal/__pv_it/062fba8f811ddd0affa8a613573c5a0599a508690/expr.png\" style=\"display:inline;vertical-align:middle;\" /></a></span></td></tr>\n",
       "<tr><td>&nbsp;</td><td colspan=4 style-\"text-align:left\"><a class=\"ProveItLink\" href=\"../numeral/decimal/_proofs_/less_3_4.ipynb\">proveit.number.numeral.decimal.less_3_4</a></td></tr><tr><td>3</td><td>axiom</td><td></td><td><span style=\"font-size:20px;\"> &#x22A2;&nbsp;<a class=\"ProveItLink\" href=\"__pv_it/fbbac9720585e073e56c8572fa740f6df54a77120/expr.ipynb\"><img src=\"__pv_it/fbbac9720585e073e56c8572fa740f6df54a77120/expr.png\" style=\"display:inline;vertical-align:middle;\" /></a></span></td></tr>\n",
       "<tr><td>&nbsp;</td><td colspan=4 style-\"text-align:left\"><a class=\"ProveItLink\" href=\"_axioms_.ipynb#transitivityLessLess\">proveit.number.ordering.transitivityLessLess</a></td></tr><tr><td>4</td><td>theorem</td><td></td><td><span style=\"font-size:20px;\"> &#x22A2;&nbsp;<a class=\"ProveItLink\" href=\"../numeral/decimal/__pv_it/3f96bd3cd3458158a7aac789291520ebb13da1980/expr.ipynb\"><img src=\"../numeral/decimal/__pv_it/3f96bd3cd3458158a7aac789291520ebb13da1980/expr.png\" style=\"display:inline;vertical-align:middle;\" /></a></span></td></tr>\n",
       "<tr><td>&nbsp;</td><td colspan=4 style-\"text-align:left\"><a class=\"ProveItLink\" href=\"../numeral/decimal/_proofs_/less_1_2.ipynb\">proveit.number.numeral.decimal.less_1_2</a></td></tr><tr><td>5</td><td>theorem</td><td></td><td><span style=\"font-size:20px;\"> &#x22A2;&nbsp;<a class=\"ProveItLink\" href=\"../numeral/decimal/__pv_it/ea73ff1eea783ca266e3b5ffcdce42d0484d9f6a0/expr.ipynb\"><img src=\"../numeral/decimal/__pv_it/ea73ff1eea783ca266e3b5ffcdce42d0484d9f6a0/expr.png\" style=\"display:inline;vertical-align:middle;\" /></a></span></td></tr>\n",
       "<tr><td>&nbsp;</td><td colspan=4 style-\"text-align:left\"><a class=\"ProveItLink\" href=\"../numeral/decimal/_proofs_/less_2_3.ipynb\">proveit.number.numeral.decimal.less_2_3</a></td></tr></table>"
      ],
      "text/plain": [
       "\tstep type\trequirements\tstatement\n",
       "0\tspecialization\t3, 1, 2\t|= 1 < 4\n",
       "\tx -> 1, y -> 3, z -> 4\n",
       "1\tspecialization\t3, 4, 5\t|= 1 < 3\n",
       "\tx -> 1, y -> 2, z -> 3\n",
       "2\ttheorem\t\t|= 3 < 4\n",
       "\tproveit.number.numeral.decimal.less_3_4\n",
       "3\taxiom\t\t|= forall_{x, y, z | x < y , y < z} (x < z)\n",
       "\tproveit.number.ordering.transitivityLessLess\n",
       "4\ttheorem\t\t|= 1 < 2\n",
       "\tproveit.number.numeral.decimal.less_1_2\n",
       "5\ttheorem\t\t|= 2 < 3\n",
       "\tproveit.number.numeral.decimal.less_2_3"
      ]
     },
     "execution_count": 8,
     "metadata": {},
     "output_type": "execute_result"
    }
   ],
   "source": [
    "from proveit.number import one, four, Less\n",
    "Less.sort([one, four], reorder=False).proof()"
   ]
  },
  {
   "cell_type": "code",
   "execution_count": 9,
   "metadata": {},
   "outputs": [
    {
     "name": "stdout",
     "output_type": "stream",
     "text": [
      "inv 1\n"
     ]
    }
   ],
   "source": [
    "from proveit.logic import Equals\n",
    "from proveit import Lambda\n",
    "from proveit.number import Add, one, two\n",
    "from proveit._common_ import i\n",
    "Add(one, one)\n",
    "print 'inv', Equals.invert(Lambda(i, Add(i, one)), two)"
   ]
  },
  {
   "cell_type": "markdown",
   "metadata": {},
   "source": [
    "### Transitivity search"
   ]
  },
  {
   "cell_type": "code",
   "execution_count": 10,
   "metadata": {},
   "outputs": [
    {
     "data": {
      "text/html": [
       "<strong id=\"assumptions\">assumptions:</strong> <a class=\"ProveItLink\" href=\"__pv_it/46010767403b44d52c1869739acd3bc395225e5f0/expr.ipynb\"><img src=\"__pv_it/46010767403b44d52c1869739acd3bc395225e5f0/expr.png\" style=\"display:inline;vertical-align:middle;\" /></a><br>"
      ],
      "text/plain": [
       "assumptions: (t >= a , t < u , u = v , v <= w , x > w , x < y , z >= y , u < z , w > t)"
      ]
     },
     "execution_count": 10,
     "metadata": {},
     "output_type": "execute_result"
    }
   ],
   "source": [
    "assumptions = [GreaterEq(t, a), Less(t, u), Equals(u, v), LessEq(v, w), Greater(x, w), Less(x, y), GreaterEq(z, y), Less(u, z), Greater(w, t)]"
   ]
  },
  {
   "cell_type": "code",
   "execution_count": 11,
   "metadata": {},
   "outputs": [],
   "source": [
    "random.shuffle(assumptions)"
   ]
  },
  {
   "cell_type": "code",
   "execution_count": 12,
   "metadata": {
    "scrolled": false
   },
   "outputs": [
    {
     "data": {
      "text/html": [
       "<span style=\"font-size:20px;\"><a class=\"ProveItLink\" href=\"__pv_it/e11c3be396a5318d4a48da86d010d0d445f1feac0/expr.ipynb\"><img src=\"__pv_it/e11c3be396a5318d4a48da86d010d0d445f1feac0/expr.png\" style=\"display:inline;vertical-align:middle;\" /></a> &#x22A2;&nbsp;<a class=\"ProveItLink\" href=\"__pv_it/723b5a03d2777b76a361eae937519693be1a7c270/expr.ipynb\"><img src=\"__pv_it/723b5a03d2777b76a361eae937519693be1a7c270/expr.png\" style=\"display:inline;vertical-align:middle;\" /></a></span>"
      ],
      "text/plain": [
       "{t < u , t >= a , u < z} |= a < z"
      ]
     },
     "execution_count": 12,
     "metadata": {},
     "output_type": "execute_result"
    }
   ],
   "source": [
    "Less(a, z).prove(assumptions)"
   ]
  },
  {
   "cell_type": "code",
   "execution_count": 13,
   "metadata": {},
   "outputs": [
    {
     "data": {
      "text/html": [
       "<span style=\"font-size:20px;\"><a class=\"ProveItLink\" href=\"__pv_it/e11c3be396a5318d4a48da86d010d0d445f1feac0/expr.ipynb\"><img src=\"__pv_it/e11c3be396a5318d4a48da86d010d0d445f1feac0/expr.png\" style=\"display:inline;vertical-align:middle;\" /></a> &#x22A2;&nbsp;<a class=\"ProveItLink\" href=\"__pv_it/d1c553cb171760026b16f2c178b3357954caf3f60/expr.ipynb\"><img src=\"__pv_it/d1c553cb171760026b16f2c178b3357954caf3f60/expr.png\" style=\"display:inline;vertical-align:middle;\" /></a></span>"
      ],
      "text/plain": [
       "{t < u , t >= a , u < z} |= z > a"
      ]
     },
     "execution_count": 13,
     "metadata": {},
     "output_type": "execute_result"
    }
   ],
   "source": [
    "Greater(z, a).prove(assumptions)"
   ]
  },
  {
   "cell_type": "markdown",
   "metadata": {},
   "source": [
    "### Transitivity sort"
   ]
  },
  {
   "cell_type": "code",
   "execution_count": 14,
   "metadata": {},
   "outputs": [
    {
     "data": {
      "text/html": [
       "<strong id=\"assumptions\">assumptions:</strong> <a class=\"ProveItLink\" href=\"__pv_it/9f51bad3e1a1306539276a8d5f948ddb4e0a30c80/expr.ipynb\"><img src=\"__pv_it/9f51bad3e1a1306539276a8d5f948ddb4e0a30c80/expr.png\" style=\"display:inline;vertical-align:middle;\" /></a><br>"
      ],
      "text/plain": [
       "assumptions: (b < a , c >= a , c = d , d <= e)"
      ]
     },
     "execution_count": 14,
     "metadata": {},
     "output_type": "execute_result"
    }
   ],
   "source": [
    "assumptions = [Less(b, a), GreaterEq(c, a), Equals(c, d), LessEq(d, e)]"
   ]
  },
  {
   "cell_type": "code",
   "execution_count": 15,
   "metadata": {
    "scrolled": true
   },
   "outputs": [
    {
     "name": "stdout",
     "output_type": "stream",
     "text": [
      "[b, a, c, e]\n"
     ]
    },
    {
     "data": {
      "text/html": [
       "<a class=\"ProveItLink\" href=\"__pv_it/90fbfcecf60eb3191ae6d38e2b6c74e22e76693b0/expr.ipynb\"><img src=\"__pv_it/90fbfcecf60eb3191ae6d38e2b6c74e22e76693b0/expr.png\" style=\"display:inline;vertical-align:middle;\" /></a>"
      ],
      "text/plain": [
       "b < a <= c <= e"
      ]
     },
     "execution_count": 15,
     "metadata": {},
     "output_type": "execute_result"
    }
   ],
   "source": [
    "to_sort = [a, b, c, e]\n",
    "random.shuffle(to_sort)\n",
    "random.shuffle(assumptions)\n",
    "print to_sort\n",
    "Less.sort(to_sort, assumptions=assumptions)"
   ]
  },
  {
   "cell_type": "code",
   "execution_count": 16,
   "metadata": {
    "scrolled": true
   },
   "outputs": [
    {
     "name": "stdout",
     "output_type": "stream",
     "text": [
      "[e, c, b, a, d]\n"
     ]
    },
    {
     "data": {
      "text/html": [
       "<a class=\"ProveItLink\" href=\"__pv_it/525862feab3d8b770483239e1ff7469fec1b82cf0/expr.ipynb\"><img src=\"__pv_it/525862feab3d8b770483239e1ff7469fec1b82cf0/expr.png\" style=\"display:inline;vertical-align:middle;\" /></a>"
      ],
      "text/plain": [
       "b < a <= c = d <= e"
      ]
     },
     "execution_count": 16,
     "metadata": {},
     "output_type": "execute_result"
    }
   ],
   "source": [
    "to_sort = [a, b, c, d, e]\n",
    "random.shuffle(to_sort)\n",
    "random.shuffle(assumptions)\n",
    "print to_sort\n",
    "Less.sort(to_sort, assumptions=assumptions)"
   ]
  },
  {
   "cell_type": "code",
   "execution_count": 17,
   "metadata": {},
   "outputs": [
    {
     "name": "stdout",
     "output_type": "stream",
     "text": [
      "[b, a, c, e, d]\n"
     ]
    },
    {
     "data": {
      "text/html": [
       "<a class=\"ProveItLink\" href=\"__pv_it/525862feab3d8b770483239e1ff7469fec1b82cf0/expr.ipynb\"><img src=\"__pv_it/525862feab3d8b770483239e1ff7469fec1b82cf0/expr.png\" style=\"display:inline;vertical-align:middle;\" /></a>"
      ],
      "text/plain": [
       "b < a <= c = d <= e"
      ]
     },
     "execution_count": 17,
     "metadata": {},
     "output_type": "execute_result"
    }
   ],
   "source": [
    "to_sort = [a, b, c, d, e]\n",
    "random.shuffle(to_sort)\n",
    "random.shuffle(assumptions)\n",
    "print to_sort\n",
    "Less.sort(to_sort, assumptions=assumptions)"
   ]
  },
  {
   "cell_type": "code",
   "execution_count": 18,
   "metadata": {},
   "outputs": [
    {
     "name": "stdout",
     "output_type": "stream",
     "text": [
      "[d, b, a, c, e]\n"
     ]
    },
    {
     "data": {
      "text/html": [
       "<a class=\"ProveItLink\" href=\"__pv_it/e5fa45dd1a3852d598a42715461297addfdefbd60/expr.ipynb\"><img src=\"__pv_it/e5fa45dd1a3852d598a42715461297addfdefbd60/expr.png\" style=\"display:inline;vertical-align:middle;\" /></a>"
      ],
      "text/plain": [
       "b < a <= d = c <= e"
      ]
     },
     "execution_count": 18,
     "metadata": {},
     "output_type": "execute_result"
    }
   ],
   "source": [
    "to_sort = [a, b, c, d, e]\n",
    "random.shuffle(to_sort)\n",
    "random.shuffle(assumptions)\n",
    "print to_sort\n",
    "Less.sort(to_sort, assumptions=assumptions)"
   ]
  },
  {
   "cell_type": "code",
   "execution_count": 19,
   "metadata": {},
   "outputs": [],
   "source": [
    "%end demonstrations"
   ]
  },
  {
   "cell_type": "code",
   "execution_count": null,
   "metadata": {},
   "outputs": [],
   "source": []
  }
 ],
 "metadata": {
  "kernelspec": {
   "display_name": "Python 2",
   "language": "python",
   "name": "python2"
  },
  "language_info": {
   "codemirror_mode": {
    "name": "ipython",
    "version": 2
   },
   "file_extension": ".py",
   "mimetype": "text/x-python",
   "name": "python",
   "nbconvert_exporter": "python",
   "pygments_lexer": "ipython2",
   "version": "2.7.11"
  }
 },
 "nbformat": 4,
 "nbformat_minor": 1
}
