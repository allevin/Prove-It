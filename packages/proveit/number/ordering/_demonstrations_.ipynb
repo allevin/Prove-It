{
 "cells": [
  {
   "cell_type": "markdown",
   "metadata": {
    "collapsed": true
   },
   "source": [
    "Demonstrations for context <a class=\"ProveItLink\" href=\"_context_.ipynb\">proveit.number.ordering</a>\n",
    "========"
   ]
  },
  {
   "cell_type": "code",
   "execution_count": 1,
   "metadata": {},
   "outputs": [],
   "source": [
    "import proveit\n",
    "%begin demonstrations"
   ]
  },
  {
   "cell_type": "code",
   "execution_count": 2,
   "metadata": {},
   "outputs": [],
   "source": [
    "from proveit import ExprList\n",
    "from proveit.logic import Equals, InSet\n",
    "from proveit.number import Reals, Less, LessEq, Greater, GreaterEq, four\n",
    "from proveit._common_ import a, b, c, d, e, n, t, u, v, w, x, y, z, rho\n",
    "from _axioms_ import lessSequenceDef\n",
    "import random"
   ]
  },
  {
   "cell_type": "markdown",
   "metadata": {},
   "source": [
    "### Ordering sequences"
   ]
  },
  {
   "cell_type": "code",
   "execution_count": 3,
   "metadata": {},
   "outputs": [
    {
     "data": {
      "text/html": [
       "<span style=\"font-size:20px;\"> &#x22A2;&nbsp;<a class=\"ProveItLink\" href=\"__pv_it/3f13ed02c209cc74a163d8933874df1c15d574fc0/expr.ipynb\"><img src=\"__pv_it/3f13ed02c209cc74a163d8933874df1c15d574fc0/expr.png\" style=\"display:inline;vertical-align:middle;\" /></a></span>"
      ],
      "text/plain": [
       "|= forall_{n in NaturalsPos} [forall_{(x, rho) in Reals^{n + 1} * {< , <= , =}^{n}} ((x_(1) rho_(1)  ... x_(n) rho_(n) x_(n + 1)) = ((x_(1) rho_(1) x_(1 + 1)) and  ...  and (x_(n) rho_(n) x_(n + 1))))]"
      ]
     },
     "execution_count": 3,
     "metadata": {},
     "output_type": "execute_result"
    }
   ],
   "source": [
    "lessSequenceDef"
   ]
  },
  {
   "cell_type": "code",
   "execution_count": 4,
   "metadata": {},
   "outputs": [
    {
     "data": {
      "text/html": [
       "<strong id=\"operators\">operators:</strong> <a class=\"ProveItLink\" href=\"__pv_it/93eaa3a4a0c80fcbfc7362510f7191c2084d0b200/expr.ipynb\"><img src=\"__pv_it/93eaa3a4a0c80fcbfc7362510f7191c2084d0b200/expr.png\" style=\"display:inline;vertical-align:middle;\" /></a><br>"
      ],
      "text/plain": [
       "operators: (< , <= , = , <)"
      ]
     },
     "execution_count": 4,
     "metadata": {},
     "output_type": "execute_result"
    }
   ],
   "source": [
    "operators = ExprList(Less._operator_, LessEq._operator_, Equals._operator_, Less._operator_)"
   ]
  },
  {
   "cell_type": "code",
   "execution_count": 5,
   "metadata": {},
   "outputs": [
    {
     "data": {
      "text/html": [
       "<strong id=\"assumptions\">assumptions:</strong> <a class=\"ProveItLink\" href=\"__pv_it/da3187e0bacaaf55be96171391c39c48a504bf710/expr.ipynb\"><img src=\"__pv_it/da3187e0bacaaf55be96171391c39c48a504bf710/expr.png\" style=\"display:inline;vertical-align:middle;\" /></a><br>"
      ],
      "text/plain": [
       "assumptions: (v in Reals , w in Reals , x in Reals , y in Reals , z in Reals)"
      ]
     },
     "execution_count": 5,
     "metadata": {},
     "output_type": "execute_result"
    }
   ],
   "source": [
    "assumptions = [InSet(v, Reals), InSet(w, Reals), InSet(x, Reals), InSet(y, Reals), InSet(z, Reals)]"
   ]
  },
  {
   "cell_type": "code",
   "execution_count": 6,
   "metadata": {
    "scrolled": true
   },
   "outputs": [
    {
     "data": {
      "text/html": [
       "<strong id=\"test\">test:</strong> <span style=\"font-size:20px;\"><a class=\"ProveItLink\" href=\"__pv_it/825aa88c96ecc7eab5f1223244d42ca307af2df30/expr.ipynb\"><img src=\"__pv_it/825aa88c96ecc7eab5f1223244d42ca307af2df30/expr.png\" style=\"display:inline;vertical-align:middle;\" /></a> &#x22A2;&nbsp;<a class=\"ProveItLink\" href=\"__pv_it/8f71cd4c71b4fb3de7358c11cda9656b56bfffbb0/expr.ipynb\"><img src=\"__pv_it/8f71cd4c71b4fb3de7358c11cda9656b56bfffbb0/expr.png\" style=\"display:inline;vertical-align:middle;\" /></a></span><br>"
      ],
      "text/plain": [
       "test: {v in Reals , w in Reals , x in Reals , y in Reals , z in Reals} |= (v < w <= x = y < z) = ((v < w) and (w <= x) and (x = y) and (y < z))"
      ]
     },
     "execution_count": 6,
     "metadata": {},
     "output_type": "execute_result"
    }
   ],
   "source": [
    "test = lessSequenceDef.specialize({n:four, x:[v,w,x,y,z], rho:operators}, assumptions=assumptions)"
   ]
  },
  {
   "cell_type": "code",
   "execution_count": 7,
   "metadata": {},
   "outputs": [
    {
     "data": {
      "text/html": [
       "<table><tr><th>&nbsp;</th><th>step type</th><th>requirements</th><th>statement</th></tr>\n",
       "<tr><td>0</td><td>specialization</td><td>1, 2, 3, 4, 5, 6, 7, 10</td><td><span style=\"font-size:20px;\"><a class=\"ProveItLink\" href=\"__pv_it/825aa88c96ecc7eab5f1223244d42ca307af2df30/expr.ipynb\"><img src=\"__pv_it/825aa88c96ecc7eab5f1223244d42ca307af2df30/expr.png\" style=\"display:inline;vertical-align:middle;\" /></a> &#x22A2;&nbsp;<a class=\"ProveItLink\" href=\"__pv_it/8f71cd4c71b4fb3de7358c11cda9656b56bfffbb0/expr.ipynb\"><img src=\"__pv_it/8f71cd4c71b4fb3de7358c11cda9656b56bfffbb0/expr.png\" style=\"display:inline;vertical-align:middle;\" /></a></span></td></tr>\n",
       "<tr><td>&nbsp;</td><td colspan=4 style=\"text-align:left\"><span style=\"font-size:20px;\"><a class=\"ProveItLink\" href=\"__pv_it/fe7f1a6925a09cdb0ce7991df888ecb50629c1920/expr.ipynb\"><img src=\"__pv_it/fe7f1a6925a09cdb0ce7991df888ecb50629c1920/expr.png\" style=\"display:inline;vertical-align:middle;\" /></a>, <a class=\"ProveItLink\" href=\"__pv_it/3f5ba811e3835fd3fd45811e43ad966da6423cd50/expr.ipynb\"><img src=\"__pv_it/3f5ba811e3835fd3fd45811e43ad966da6423cd50/expr.png\" style=\"display:inline;vertical-align:middle;\" /></a>, <a class=\"ProveItLink\" href=\"__pv_it/40eb17b5031d62ac3a19e864dba72e88b0b2fb7d0/expr.ipynb\"><img src=\"__pv_it/40eb17b5031d62ac3a19e864dba72e88b0b2fb7d0/expr.png\" style=\"display:inline;vertical-align:middle;\" /></a></span></td></tr><tr><td>1</td><td>axiom</td><td></td><td><span style=\"font-size:20px;\"> &#x22A2;&nbsp;<a class=\"ProveItLink\" href=\"__pv_it/3f13ed02c209cc74a163d8933874df1c15d574fc0/expr.ipynb\"><img src=\"__pv_it/3f13ed02c209cc74a163d8933874df1c15d574fc0/expr.png\" style=\"display:inline;vertical-align:middle;\" /></a></span></td></tr>\n",
       "<tr><td>&nbsp;</td><td colspan=4 style-\"text-align:left\"><a class=\"ProveItLink\" href=\"_axioms_.ipynb#lessSequenceDef\">proveit.number.ordering.lessSequenceDef</a></td></tr><tr><td>2</td><td>theorem</td><td></td><td><span style=\"font-size:20px;\"> &#x22A2;&nbsp;<a class=\"ProveItLink\" href=\"../numeral/deci/__pv_it/a8e2987330479c05c40c94f9edaad0d2c48f343a0/expr.ipynb\"><img src=\"../numeral/deci/__pv_it/a8e2987330479c05c40c94f9edaad0d2c48f343a0/expr.png\" style=\"display:inline;vertical-align:middle;\" /></a></span></td></tr>\n",
       "<tr><td>&nbsp;</td><td colspan=4 style-\"text-align:left\"><a class=\"ProveItLink\" href=\"../numeral/deci/_proofs_/posnat4.ipynb\">proveit.number.numeral.deci.posnat4</a></td></tr><tr><td>3</td><td>specialization</td><td>8, 9, 10</td><td><span style=\"font-size:20px;\"><a class=\"ProveItLink\" href=\"__pv_it/825aa88c96ecc7eab5f1223244d42ca307af2df30/expr.ipynb\"><img src=\"__pv_it/825aa88c96ecc7eab5f1223244d42ca307af2df30/expr.png\" style=\"display:inline;vertical-align:middle;\" /></a> &#x22A2;&nbsp;<a class=\"ProveItLink\" href=\"__pv_it/d4a2e78e6d2783b4c099d34f5c29e707640ac9980/expr.ipynb\"><img src=\"__pv_it/d4a2e78e6d2783b4c099d34f5c29e707640ac9980/expr.png\" style=\"display:inline;vertical-align:middle;\" /></a></span></td></tr>\n",
       "<tr><td>&nbsp;</td><td colspan=4 style=\"text-align:left\"><span style=\"font-size:20px;\"><a class=\"ProveItLink\" href=\"__pv_it/61a093bbddb15eebc3e96de11c60e09b928c4cbf0/expr.ipynb\"><img src=\"__pv_it/61a093bbddb15eebc3e96de11c60e09b928c4cbf0/expr.png\" style=\"display:inline;vertical-align:middle;\" /></a>, <a class=\"ProveItLink\" href=\"__pv_it/d461c8968be404d37a9876f940ff48ce5d9b0e290/expr.ipynb\"><img src=\"__pv_it/d461c8968be404d37a9876f940ff48ce5d9b0e290/expr.png\" style=\"display:inline;vertical-align:middle;\" /></a>, <a class=\"ProveItLink\" href=\"__pv_it/bce2a256792af28408f70486abe7ce7c35ba5cd60/expr.ipynb\"><img src=\"__pv_it/bce2a256792af28408f70486abe7ce7c35ba5cd60/expr.png\" style=\"display:inline;vertical-align:middle;\" /></a></span></td></tr><tr><td>4</td><td>specialization</td><td>11, 12, 13, 14</td><td><span style=\"font-size:20px;\"> &#x22A2;&nbsp;<a class=\"ProveItLink\" href=\"__pv_it/a77a884fb1edc486b876ee1d6bd8f1428b6836910/expr.ipynb\"><img src=\"__pv_it/a77a884fb1edc486b876ee1d6bd8f1428b6836910/expr.png\" style=\"display:inline;vertical-align:middle;\" /></a></span></td></tr>\n",
       "<tr><td>&nbsp;</td><td colspan=4 style=\"text-align:left\"><span style=\"font-size:20px;\"><a class=\"ProveItLink\" href=\"__pv_it/365d7be94faec5e70d427476e41bc1a29ccac7af0/expr.ipynb\"><img src=\"__pv_it/365d7be94faec5e70d427476e41bc1a29ccac7af0/expr.png\" style=\"display:inline;vertical-align:middle;\" /></a>, <a class=\"ProveItLink\" href=\"__pv_it/8ab60953bee12451ccd56b8376a89c404d70e47f0/expr.ipynb\"><img src=\"__pv_it/8ab60953bee12451ccd56b8376a89c404d70e47f0/expr.png\" style=\"display:inline;vertical-align:middle;\" /></a>, <a class=\"ProveItLink\" href=\"__pv_it/bf81768aac59349d2218ff395d830d4f6733d3f60/expr.ipynb\"><img src=\"__pv_it/bf81768aac59349d2218ff395d830d4f6733d3f60/expr.png\" style=\"display:inline;vertical-align:middle;\" /></a>, <a class=\"ProveItLink\" href=\"__pv_it/d04ecd6809027cc6de8ea9981cd075682cd81a890/expr.ipynb\"><img src=\"__pv_it/d04ecd6809027cc6de8ea9981cd075682cd81a890/expr.png\" style=\"display:inline;vertical-align:middle;\" /></a>, <a class=\"ProveItLink\" href=\"__pv_it/a16d7102c3cd1e48ed16722dbad7164da282e5d20/expr.ipynb\"><img src=\"__pv_it/a16d7102c3cd1e48ed16722dbad7164da282e5d20/expr.png\" style=\"display:inline;vertical-align:middle;\" /></a></span></td></tr><tr><td>5</td><td>theorem</td><td></td><td><span style=\"font-size:20px;\"> &#x22A2;&nbsp;<a class=\"ProveItLink\" href=\"../numeral/deci/__pv_it/c5d3f2ba07647aec518bec1929b16561d1a340400/expr.ipynb\"><img src=\"../numeral/deci/__pv_it/c5d3f2ba07647aec518bec1929b16561d1a340400/expr.png\" style=\"display:inline;vertical-align:middle;\" /></a></span></td></tr>\n",
       "<tr><td>&nbsp;</td><td colspan=4 style-\"text-align:left\"><a class=\"ProveItLink\" href=\"../numeral/deci/_proofs_/add_1_1.ipynb\">proveit.number.numeral.deci.add_1_1</a></td></tr><tr><td>6</td><td>theorem</td><td></td><td><span style=\"font-size:20px;\"> &#x22A2;&nbsp;<a class=\"ProveItLink\" href=\"../numeral/deci/__pv_it/21aa4b60034093b61b7d779cdd54bc7d2d51c73e0/expr.ipynb\"><img src=\"../numeral/deci/__pv_it/21aa4b60034093b61b7d779cdd54bc7d2d51c73e0/expr.png\" style=\"display:inline;vertical-align:middle;\" /></a></span></td></tr>\n",
       "<tr><td>&nbsp;</td><td colspan=4 style-\"text-align:left\"><a class=\"ProveItLink\" href=\"../numeral/deci/_proofs_/add_2_1.ipynb\">proveit.number.numeral.deci.add_2_1</a></td></tr><tr><td>7</td><td>theorem</td><td></td><td><span style=\"font-size:20px;\"> &#x22A2;&nbsp;<a class=\"ProveItLink\" href=\"../numeral/deci/__pv_it/dacb710858c5d508d55e05fa21bc52e5449bb54c0/expr.ipynb\"><img src=\"../numeral/deci/__pv_it/dacb710858c5d508d55e05fa21bc52e5449bb54c0/expr.png\" style=\"display:inline;vertical-align:middle;\" /></a></span></td></tr>\n",
       "<tr><td>&nbsp;</td><td colspan=4 style-\"text-align:left\"><a class=\"ProveItLink\" href=\"../numeral/deci/_proofs_/add_3_1.ipynb\">proveit.number.numeral.deci.add_3_1</a></td></tr><tr><td>8</td><td>theorem</td><td></td><td><span style=\"font-size:20px;\"> &#x22A2;&nbsp;<a class=\"ProveItLink\" href=\"../../logic/equality/__pv_it/0ff28639b67648f982114c9abc0eb1af3cbddacb0/expr.ipynb\"><img src=\"../../logic/equality/__pv_it/0ff28639b67648f982114c9abc0eb1af3cbddacb0/expr.png\" style=\"display:inline;vertical-align:middle;\" /></a></span></td></tr>\n",
       "<tr><td>&nbsp;</td><td colspan=4 style-\"text-align:left\"><a class=\"ProveItLink\" href=\"../../logic/equality/_proofs_/subLeftSideInto.ipynb\">proveit.logic.equality.subLeftSideInto</a></td></tr><tr><td>9</td><td>specialization</td><td>15, 16, 17, 18, 19, 20</td><td><span style=\"font-size:20px;\"><a class=\"ProveItLink\" href=\"__pv_it/825aa88c96ecc7eab5f1223244d42ca307af2df30/expr.ipynb\"><img src=\"__pv_it/825aa88c96ecc7eab5f1223244d42ca307af2df30/expr.png\" style=\"display:inline;vertical-align:middle;\" /></a> &#x22A2;&nbsp;<a class=\"ProveItLink\" href=\"__pv_it/91916f9ee0ea2deb58849958d5cb7ab6079d8cdf0/expr.ipynb\"><img src=\"__pv_it/91916f9ee0ea2deb58849958d5cb7ab6079d8cdf0/expr.png\" style=\"display:inline;vertical-align:middle;\" /></a></span></td></tr>\n",
       "<tr><td>&nbsp;</td><td colspan=4 style=\"text-align:left\"><span style=\"font-size:20px;\"><a class=\"ProveItLink\" href=\"__pv_it/f4ab77c93e729ff67ed0b8f553d4db8f4f7b44a70/expr.ipynb\"><img src=\"__pv_it/f4ab77c93e729ff67ed0b8f553d4db8f4f7b44a70/expr.png\" style=\"display:inline;vertical-align:middle;\" /></a>, <a class=\"ProveItLink\" href=\"__pv_it/50c1799daf3a42d2953e81c4adc0fb12e396ddcd0/expr.ipynb\"><img src=\"__pv_it/50c1799daf3a42d2953e81c4adc0fb12e396ddcd0/expr.png\" style=\"display:inline;vertical-align:middle;\" /></a>, <a class=\"ProveItLink\" href=\"__pv_it/32fd521d0ec59c5caed884bb678226ea1732ec9a0/expr.ipynb\"><img src=\"__pv_it/32fd521d0ec59c5caed884bb678226ea1732ec9a0/expr.png\" style=\"display:inline;vertical-align:middle;\" /></a>, <a class=\"ProveItLink\" href=\"__pv_it/25713166a1644ddedf734ebe5b8bf93fd8ec29c80/expr.ipynb\"><img src=\"__pv_it/25713166a1644ddedf734ebe5b8bf93fd8ec29c80/expr.png\" style=\"display:inline;vertical-align:middle;\" /></a>, <a class=\"ProveItLink\" href=\"__pv_it/00b9340915fad142b9a0928f95ef7ac4843d75110/expr.ipynb\"><img src=\"__pv_it/00b9340915fad142b9a0928f95ef7ac4843d75110/expr.png\" style=\"display:inline;vertical-align:middle;\" /></a>, <a class=\"ProveItLink\" href=\"__pv_it/fcfbf23a21f09c682b2eb334fdf7cf2dcbcad52d0/expr.ipynb\"><img src=\"__pv_it/fcfbf23a21f09c682b2eb334fdf7cf2dcbcad52d0/expr.png\" style=\"display:inline;vertical-align:middle;\" /></a></span></td></tr><tr><td>10</td><td>theorem</td><td></td><td><span style=\"font-size:20px;\"> &#x22A2;&nbsp;<a class=\"ProveItLink\" href=\"../numeral/deci/__pv_it/40c99f576150d8b62295a339956c083d3a6106810/expr.ipynb\"><img src=\"../numeral/deci/__pv_it/40c99f576150d8b62295a339956c083d3a6106810/expr.png\" style=\"display:inline;vertical-align:middle;\" /></a></span></td></tr>\n",
       "<tr><td>&nbsp;</td><td colspan=4 style-\"text-align:left\"><a class=\"ProveItLink\" href=\"../numeral/deci/_proofs_/add_4_1.ipynb\">proveit.number.numeral.deci.add_4_1</a></td></tr><tr><td>11</td><td>theorem</td><td></td><td><span style=\"font-size:20px;\"> &#x22A2;&nbsp;<a class=\"ProveItLink\" href=\"../../logic/set_theory/membership/__pv_it/f8871096ab31a54eeeb7d5201addc96bdbcd44530/expr.ipynb\"><img src=\"../../logic/set_theory/membership/__pv_it/f8871096ab31a54eeeb7d5201addc96bdbcd44530/expr.png\" style=\"display:inline;vertical-align:middle;\" /></a></span></td></tr>\n",
       "<tr><td>&nbsp;</td><td colspan=4 style-\"text-align:left\"><a class=\"ProveItLink\" href=\"../../logic/set_theory/membership/_proofs_/exp_set_4.ipynb\">proveit.logic.set_theory.membership.exp_set_4</a></td></tr><tr><td>12</td><td>theorem</td><td></td><td><span style=\"font-size:20px;\"> &#x22A2;&nbsp;<a class=\"ProveItLink\" href=\"__pv_it/d4a584cb28dab2ba0ace67e7f307613c5f3803dd0/expr.ipynb\"><img src=\"__pv_it/d4a584cb28dab2ba0ace67e7f307613c5f3803dd0/expr.png\" style=\"display:inline;vertical-align:middle;\" /></a></span></td></tr>\n",
       "<tr><td>&nbsp;</td><td colspan=4 style-\"text-align:left\"><a class=\"ProveItLink\" href=\"_proofs_/less__in__less_eq_relations.ipynb\">proveit.number.ordering.less__in__less_eq_relations</a></td></tr><tr><td>13</td><td>theorem</td><td></td><td><span style=\"font-size:20px;\"> &#x22A2;&nbsp;<a class=\"ProveItLink\" href=\"__pv_it/b1f49f2be6476291afd2ccbfb414f8e0775ad5b40/expr.ipynb\"><img src=\"__pv_it/b1f49f2be6476291afd2ccbfb414f8e0775ad5b40/expr.png\" style=\"display:inline;vertical-align:middle;\" /></a></span></td></tr>\n",
       "<tr><td>&nbsp;</td><td colspan=4 style-\"text-align:left\"><a class=\"ProveItLink\" href=\"_proofs_/less_eq__in__less_eq_relations.ipynb\">proveit.number.ordering.less_eq__in__less_eq_relations</a></td></tr><tr><td>14</td><td>theorem</td><td></td><td><span style=\"font-size:20px;\"> &#x22A2;&nbsp;<a class=\"ProveItLink\" href=\"__pv_it/d5076c8da292ac6f65f6c45668e3590f8f628aaa0/expr.ipynb\"><img src=\"__pv_it/d5076c8da292ac6f65f6c45668e3590f8f628aaa0/expr.png\" style=\"display:inline;vertical-align:middle;\" /></a></span></td></tr>\n",
       "<tr><td>&nbsp;</td><td colspan=4 style-\"text-align:left\"><a class=\"ProveItLink\" href=\"_proofs_/eq__in__less_eq_relations.ipynb\">proveit.number.ordering.eq__in__less_eq_relations</a></td></tr><tr><td>15</td><td>theorem</td><td></td><td><span style=\"font-size:20px;\"> &#x22A2;&nbsp;<a class=\"ProveItLink\" href=\"../../logic/set_theory/membership/__pv_it/51a013fc29190f4a50141968026b0dc6a9c3a38b0/expr.ipynb\"><img src=\"../../logic/set_theory/membership/__pv_it/51a013fc29190f4a50141968026b0dc6a9c3a38b0/expr.png\" style=\"display:inline;vertical-align:middle;\" /></a></span></td></tr>\n",
       "<tr><td>&nbsp;</td><td colspan=4 style-\"text-align:left\"><a class=\"ProveItLink\" href=\"../../logic/set_theory/membership/_proofs_/exp_set_5.ipynb\">proveit.logic.set_theory.membership.exp_set_5</a></td></tr><tr><td>16</td><td>assumption</td><td></td><td><span style=\"font-size:20px;\"><a class=\"ProveItLink\" href=\"__pv_it/5d19475e10fdf335187a8d7b95aa84cf8cef9a310/expr.ipynb\"><img src=\"__pv_it/5d19475e10fdf335187a8d7b95aa84cf8cef9a310/expr.png\" style=\"display:inline;vertical-align:middle;\" /></a> &#x22A2;&nbsp;<a class=\"ProveItLink\" href=\"__pv_it/f49e341b0af132941f0e552f95e3bedb81a75a180/expr.ipynb\"><img src=\"__pv_it/f49e341b0af132941f0e552f95e3bedb81a75a180/expr.png\" style=\"display:inline;vertical-align:middle;\" /></a></span></td></tr>\n",
       "<tr><td>17</td><td>assumption</td><td></td><td><span style=\"font-size:20px;\"><a class=\"ProveItLink\" href=\"__pv_it/3f06bef215da2437dd18baa7c0e9d2f020eb9f750/expr.ipynb\"><img src=\"__pv_it/3f06bef215da2437dd18baa7c0e9d2f020eb9f750/expr.png\" style=\"display:inline;vertical-align:middle;\" /></a> &#x22A2;&nbsp;<a class=\"ProveItLink\" href=\"__pv_it/9bd68a6e5d2b6d253e5a200f1b2667498c367cf90/expr.ipynb\"><img src=\"__pv_it/9bd68a6e5d2b6d253e5a200f1b2667498c367cf90/expr.png\" style=\"display:inline;vertical-align:middle;\" /></a></span></td></tr>\n",
       "<tr><td>18</td><td>assumption</td><td></td><td><span style=\"font-size:20px;\"><a class=\"ProveItLink\" href=\"__pv_it/d5597c5bbed71975f9373ba2cd5c3a7ae66d40950/expr.ipynb\"><img src=\"__pv_it/d5597c5bbed71975f9373ba2cd5c3a7ae66d40950/expr.png\" style=\"display:inline;vertical-align:middle;\" /></a> &#x22A2;&nbsp;<a class=\"ProveItLink\" href=\"__pv_it/f8b5c86a93861ddd5e5faad80d513581b9fd1b1f0/expr.ipynb\"><img src=\"__pv_it/f8b5c86a93861ddd5e5faad80d513581b9fd1b1f0/expr.png\" style=\"display:inline;vertical-align:middle;\" /></a></span></td></tr>\n",
       "<tr><td>19</td><td>assumption</td><td></td><td><span style=\"font-size:20px;\"><a class=\"ProveItLink\" href=\"__pv_it/fa087030e9e860de75759fdc59850e300ce11d3f0/expr.ipynb\"><img src=\"__pv_it/fa087030e9e860de75759fdc59850e300ce11d3f0/expr.png\" style=\"display:inline;vertical-align:middle;\" /></a> &#x22A2;&nbsp;<a class=\"ProveItLink\" href=\"__pv_it/af6283ca6776f6f8f4487235c01b900e306351aa0/expr.ipynb\"><img src=\"__pv_it/af6283ca6776f6f8f4487235c01b900e306351aa0/expr.png\" style=\"display:inline;vertical-align:middle;\" /></a></span></td></tr>\n",
       "<tr><td>20</td><td>assumption</td><td></td><td><span style=\"font-size:20px;\"><a class=\"ProveItLink\" href=\"__pv_it/bf8a37a57235a6992548c530b1c5325aefe3d6a90/expr.ipynb\"><img src=\"__pv_it/bf8a37a57235a6992548c530b1c5325aefe3d6a90/expr.png\" style=\"display:inline;vertical-align:middle;\" /></a> &#x22A2;&nbsp;<a class=\"ProveItLink\" href=\"__pv_it/19b5b8050155bb137111e2c2d51311afba194a5d0/expr.ipynb\"><img src=\"__pv_it/19b5b8050155bb137111e2c2d51311afba194a5d0/expr.png\" style=\"display:inline;vertical-align:middle;\" /></a></span></td></tr>\n",
       "</table>"
      ],
      "text/plain": [
       "\tstep type\trequirements\tstatement\n",
       "0\tspecialization\t1, 2, 3, 4, 5, 6, 7, 10\t{v in Reals , w in Reals , x in Reals , y in Reals , z in Reals} |= (v < w <= x = y < z) = ((v < w) and (w <= x) and (x = y) and (y < z))\n",
       "\t{n -> 4}, {x -> (v , w , x , y , z)}, {rho -> (< , <= , = , <)}\n",
       "1\taxiom\t\t|= forall_{n in NaturalsPos} [forall_{(x, rho) in Reals^{n + 1} * {< , <= , =}^{n}} ((x_(1) rho_(1)  ... x_(n) rho_(n) x_(n + 1)) = ((x_(1) rho_(1) x_(1 + 1)) and  ...  and (x_(n) rho_(n) x_(n + 1))))]\n",
       "\tproveit.number.ordering.lessSequenceDef\n",
       "2\ttheorem\t\t|= 4 in NaturalsPos\n",
       "\tproveit.number.numeral.deci.posnat4\n",
       "3\tspecialization\t8, 9, 10\t{v in Reals , w in Reals , x in Reals , y in Reals , z in Reals} |= (v , w , x , y , z) in Reals^{4 + 1}\n",
       "\t{P -> [_x_ -> ((v , w , x , y , z) in Reals^{_x_})]}, {x -> (4 + 1)}, {y -> 5}\n",
       "4\tspecialization\t11, 12, 13, 14\t|= (< , <= , = , <) in {< , <= , =}^{4}\n",
       "\t{S -> {< , <= , =}}, {a -> <}, {b -> <=}, {c -> =}, {d -> <}\n",
       "5\ttheorem\t\t|= (1 + 1) = 2\n",
       "\tproveit.number.numeral.deci.add_1_1\n",
       "6\ttheorem\t\t|= (2 + 1) = 3\n",
       "\tproveit.number.numeral.deci.add_2_1\n",
       "7\ttheorem\t\t|= (3 + 1) = 4\n",
       "\tproveit.number.numeral.deci.add_3_1\n",
       "8\ttheorem\t\t|= forall_{P, x, y | P(y) , x = y} P(x)\n",
       "\tproveit.logic.equality.subLeftSideInto\n",
       "9\tspecialization\t15, 16, 17, 18, 19, 20\t{v in Reals , w in Reals , x in Reals , y in Reals , z in Reals} |= (v , w , x , y , z) in Reals^{5}\n",
       "\t{S -> Reals}, {a -> v}, {b -> w}, {c -> x}, {d -> y}, {e -> z}\n",
       "10\ttheorem\t\t|= (4 + 1) = 5\n",
       "\tproveit.number.numeral.deci.add_4_1\n",
       "11\ttheorem\t\t|= forall_{S} [forall_{a, b, c, d in S} ((a , b , c , d) in S^{4})]\n",
       "\tproveit.logic.set_theory.membership.exp_set_4\n",
       "12\ttheorem\t\t|= < in {< , <= , =}\n",
       "\tproveit.number.ordering.less__in__less_eq_relations\n",
       "13\ttheorem\t\t|= <= in {< , <= , =}\n",
       "\tproveit.number.ordering.less_eq__in__less_eq_relations\n",
       "14\ttheorem\t\t|= = in {< , <= , =}\n",
       "\tproveit.number.ordering.eq__in__less_eq_relations\n",
       "15\ttheorem\t\t|= forall_{S} [forall_{a, b, c, d, e in S} ((a , b , c , d , e) in S^{5})]\n",
       "\tproveit.logic.set_theory.membership.exp_set_5\n",
       "16\tassumption\t\t{v in Reals} |= v in Reals\n",
       "17\tassumption\t\t{w in Reals} |= w in Reals\n",
       "18\tassumption\t\t{x in Reals} |= x in Reals\n",
       "19\tassumption\t\t{y in Reals} |= y in Reals\n",
       "20\tassumption\t\t{z in Reals} |= z in Reals"
      ]
     },
     "execution_count": 7,
     "metadata": {},
     "output_type": "execute_result"
    }
   ],
   "source": [
    "test.proof()"
   ]
  },
  {
   "cell_type": "code",
   "execution_count": null,
   "metadata": {},
   "outputs": [],
   "source": []
  },
  {
   "cell_type": "code",
   "execution_count": 8,
   "metadata": {},
   "outputs": [
    {
     "data": {
      "text/html": [
       "<table><tr><th>&nbsp;</th><th>step type</th><th>requirements</th><th>statement</th></tr>\n",
       "<tr><td>0</td><td>specialization</td><td>3, 1, 2</td><td><span style=\"font-size:20px;\"> &#x22A2;&nbsp;<a class=\"ProveItLink\" href=\"__pv_it/33db776e854d0f71ddfc7f9473edc1906b5c14ae0/expr.ipynb\"><img src=\"__pv_it/33db776e854d0f71ddfc7f9473edc1906b5c14ae0/expr.png\" style=\"display:inline;vertical-align:middle;\" /></a></span></td></tr>\n",
       "<tr><td>&nbsp;</td><td colspan=4 style=\"text-align:left\"><span style=\"font-size:20px;\"><a class=\"ProveItLink\" href=\"__pv_it/0e16b6609d8dbd49faee1f578db9bcf3f9c9ec9c0/expr.ipynb\"><img src=\"__pv_it/0e16b6609d8dbd49faee1f578db9bcf3f9c9ec9c0/expr.png\" style=\"display:inline;vertical-align:middle;\" /></a>, <a class=\"ProveItLink\" href=\"__pv_it/0d29ce8c30989c07f014ae2e062e230e932ca4690/expr.ipynb\"><img src=\"__pv_it/0d29ce8c30989c07f014ae2e062e230e932ca4690/expr.png\" style=\"display:inline;vertical-align:middle;\" /></a>, <a class=\"ProveItLink\" href=\"__pv_it/c029f2c46e5f75423798229a28cda594876bbc640/expr.ipynb\"><img src=\"__pv_it/c029f2c46e5f75423798229a28cda594876bbc640/expr.png\" style=\"display:inline;vertical-align:middle;\" /></a></span></td></tr><tr><td>1</td><td>specialization</td><td>3, 4, 5</td><td><span style=\"font-size:20px;\"> &#x22A2;&nbsp;<a class=\"ProveItLink\" href=\"__pv_it/c43aefc9db55ddc2dbd1c5b2c1601ea3e04029a60/expr.ipynb\"><img src=\"__pv_it/c43aefc9db55ddc2dbd1c5b2c1601ea3e04029a60/expr.png\" style=\"display:inline;vertical-align:middle;\" /></a></span></td></tr>\n",
       "<tr><td>&nbsp;</td><td colspan=4 style=\"text-align:left\"><span style=\"font-size:20px;\"><a class=\"ProveItLink\" href=\"__pv_it/0e16b6609d8dbd49faee1f578db9bcf3f9c9ec9c0/expr.ipynb\"><img src=\"__pv_it/0e16b6609d8dbd49faee1f578db9bcf3f9c9ec9c0/expr.png\" style=\"display:inline;vertical-align:middle;\" /></a>, <a class=\"ProveItLink\" href=\"__pv_it/6c982d84f37f04fbebe5eed900f902409bb08ce60/expr.ipynb\"><img src=\"__pv_it/6c982d84f37f04fbebe5eed900f902409bb08ce60/expr.png\" style=\"display:inline;vertical-align:middle;\" /></a>, <a class=\"ProveItLink\" href=\"__pv_it/ca8cd1addd7d29c36535950ee5e4977d792c038e0/expr.ipynb\"><img src=\"__pv_it/ca8cd1addd7d29c36535950ee5e4977d792c038e0/expr.png\" style=\"display:inline;vertical-align:middle;\" /></a></span></td></tr><tr><td>2</td><td>theorem</td><td></td><td><span style=\"font-size:20px;\"> &#x22A2;&nbsp;<a class=\"ProveItLink\" href=\"../numeral/deci/__pv_it/062fba8f811ddd0affa8a613573c5a0599a508690/expr.ipynb\"><img src=\"../numeral/deci/__pv_it/062fba8f811ddd0affa8a613573c5a0599a508690/expr.png\" style=\"display:inline;vertical-align:middle;\" /></a></span></td></tr>\n",
       "<tr><td>&nbsp;</td><td colspan=4 style-\"text-align:left\"><a class=\"ProveItLink\" href=\"../numeral/deci/_proofs_/less_3_4.ipynb\">proveit.number.numeral.deci.less_3_4</a></td></tr><tr><td>3</td><td>axiom</td><td></td><td><span style=\"font-size:20px;\"> &#x22A2;&nbsp;<a class=\"ProveItLink\" href=\"__pv_it/fcfb29e576168acea8b303a9c503b3b79252282c0/expr.ipynb\"><img src=\"__pv_it/fcfb29e576168acea8b303a9c503b3b79252282c0/expr.png\" style=\"display:inline;vertical-align:middle;\" /></a></span></td></tr>\n",
       "<tr><td>&nbsp;</td><td colspan=4 style-\"text-align:left\"><a class=\"ProveItLink\" href=\"_axioms_.ipynb#transitivityLessLess\">proveit.number.ordering.transitivityLessLess</a></td></tr><tr><td>4</td><td>theorem</td><td></td><td><span style=\"font-size:20px;\"> &#x22A2;&nbsp;<a class=\"ProveItLink\" href=\"../numeral/deci/__pv_it/3f96bd3cd3458158a7aac789291520ebb13da1980/expr.ipynb\"><img src=\"../numeral/deci/__pv_it/3f96bd3cd3458158a7aac789291520ebb13da1980/expr.png\" style=\"display:inline;vertical-align:middle;\" /></a></span></td></tr>\n",
       "<tr><td>&nbsp;</td><td colspan=4 style-\"text-align:left\"><a class=\"ProveItLink\" href=\"../numeral/deci/_proofs_/less_1_2.ipynb\">proveit.number.numeral.deci.less_1_2</a></td></tr><tr><td>5</td><td>theorem</td><td></td><td><span style=\"font-size:20px;\"> &#x22A2;&nbsp;<a class=\"ProveItLink\" href=\"../numeral/deci/__pv_it/ea73ff1eea783ca266e3b5ffcdce42d0484d9f6a0/expr.ipynb\"><img src=\"../numeral/deci/__pv_it/ea73ff1eea783ca266e3b5ffcdce42d0484d9f6a0/expr.png\" style=\"display:inline;vertical-align:middle;\" /></a></span></td></tr>\n",
       "<tr><td>&nbsp;</td><td colspan=4 style-\"text-align:left\"><a class=\"ProveItLink\" href=\"../numeral/deci/_proofs_/less_2_3.ipynb\">proveit.number.numeral.deci.less_2_3</a></td></tr></table>"
      ],
      "text/plain": [
       "\tstep type\trequirements\tstatement\n",
       "0\tspecialization\t3, 1, 2\t|= 1 < 4\n",
       "\t{x -> 1}, {y -> 3}, {z -> 4}\n",
       "1\tspecialization\t3, 4, 5\t|= 1 < 3\n",
       "\t{x -> 1}, {y -> 2}, {z -> 3}\n",
       "2\ttheorem\t\t|= 3 < 4\n",
       "\tproveit.number.numeral.deci.less_3_4\n",
       "3\taxiom\t\t|= forall_{x, y, z | x < y , y < z} (x < z)\n",
       "\tproveit.number.ordering.transitivityLessLess\n",
       "4\ttheorem\t\t|= 1 < 2\n",
       "\tproveit.number.numeral.deci.less_1_2\n",
       "5\ttheorem\t\t|= 2 < 3\n",
       "\tproveit.number.numeral.deci.less_2_3"
      ]
     },
     "execution_count": 8,
     "metadata": {},
     "output_type": "execute_result"
    }
   ],
   "source": [
    "from proveit.number import one, four, Less\n",
    "Less.sort([one, four], reorder=False).proof()"
   ]
  },
  {
   "cell_type": "code",
   "execution_count": 9,
   "metadata": {},
   "outputs": [
    {
     "name": "stdout",
     "output_type": "stream",
     "text": [
      "inv 1\n"
     ]
    }
   ],
   "source": [
    "from proveit.logic import Equals\n",
    "from proveit import Lambda\n",
    "from proveit.number import Add, one, two\n",
    "from proveit._common_ import i\n",
    "Add(one, one)\n",
    "print('inv', Equals.invert(Lambda(i, Add(i, one)), two))"
   ]
  },
  {
   "cell_type": "markdown",
   "metadata": {},
   "source": [
    "### Transitivity search"
   ]
  },
  {
   "cell_type": "code",
   "execution_count": 10,
   "metadata": {},
   "outputs": [
    {
     "data": {
      "text/html": [
       "<strong id=\"assumptions\">assumptions:</strong> <a class=\"ProveItLink\" href=\"__pv_it/46010767403b44d52c1869739acd3bc395225e5f0/expr.ipynb\"><img src=\"__pv_it/46010767403b44d52c1869739acd3bc395225e5f0/expr.png\" style=\"display:inline;vertical-align:middle;\" /></a><br>"
      ],
      "text/plain": [
       "assumptions: (t >= a , t < u , u = v , v <= w , x > w , x < y , z >= y , u < z , w > t)"
      ]
     },
     "execution_count": 10,
     "metadata": {},
     "output_type": "execute_result"
    }
   ],
   "source": [
    "assumptions = [GreaterEq(t, a), Less(t, u), Equals(u, v), LessEq(v, w), Greater(x, w), Less(x, y), GreaterEq(z, y), Less(u, z), Greater(w, t)]"
   ]
  },
  {
   "cell_type": "code",
   "execution_count": 11,
   "metadata": {},
   "outputs": [],
   "source": [
    "random.shuffle(assumptions)"
   ]
  },
  {
   "cell_type": "code",
   "execution_count": 12,
   "metadata": {
    "scrolled": false
   },
   "outputs": [
    {
     "data": {
      "text/html": [
       "<span style=\"font-size:20px;\"><a class=\"ProveItLink\" href=\"__pv_it/6a40ccb687b5c123386393b7437335062e4009ec0/expr.ipynb\"><img src=\"__pv_it/6a40ccb687b5c123386393b7437335062e4009ec0/expr.png\" style=\"display:inline;vertical-align:middle;\" /></a> &#x22A2;&nbsp;<a class=\"ProveItLink\" href=\"__pv_it/723b5a03d2777b76a361eae937519693be1a7c270/expr.ipynb\"><img src=\"__pv_it/723b5a03d2777b76a361eae937519693be1a7c270/expr.png\" style=\"display:inline;vertical-align:middle;\" /></a></span>"
      ],
      "text/plain": [
       "{t >= a , u < z , t < u} |= a < z"
      ]
     },
     "execution_count": 12,
     "metadata": {},
     "output_type": "execute_result"
    }
   ],
   "source": [
    "Less(a, z).prove(assumptions)"
   ]
  },
  {
   "cell_type": "code",
   "execution_count": 13,
   "metadata": {},
   "outputs": [
    {
     "data": {
      "text/html": [
       "<span style=\"font-size:20px;\"><a class=\"ProveItLink\" href=\"__pv_it/6a40ccb687b5c123386393b7437335062e4009ec0/expr.ipynb\"><img src=\"__pv_it/6a40ccb687b5c123386393b7437335062e4009ec0/expr.png\" style=\"display:inline;vertical-align:middle;\" /></a> &#x22A2;&nbsp;<a class=\"ProveItLink\" href=\"__pv_it/d1c553cb171760026b16f2c178b3357954caf3f60/expr.ipynb\"><img src=\"__pv_it/d1c553cb171760026b16f2c178b3357954caf3f60/expr.png\" style=\"display:inline;vertical-align:middle;\" /></a></span>"
      ],
      "text/plain": [
       "{t >= a , u < z , t < u} |= z > a"
      ]
     },
     "execution_count": 13,
     "metadata": {},
     "output_type": "execute_result"
    }
   ],
   "source": [
    "Greater(z, a).prove(assumptions)"
   ]
  },
  {
   "cell_type": "markdown",
   "metadata": {},
   "source": [
    "### Transitivity sort"
   ]
  },
  {
   "cell_type": "code",
   "execution_count": 14,
   "metadata": {},
   "outputs": [
    {
     "data": {
      "text/html": [
       "<strong id=\"assumptions\">assumptions:</strong> <a class=\"ProveItLink\" href=\"__pv_it/9f51bad3e1a1306539276a8d5f948ddb4e0a30c80/expr.ipynb\"><img src=\"__pv_it/9f51bad3e1a1306539276a8d5f948ddb4e0a30c80/expr.png\" style=\"display:inline;vertical-align:middle;\" /></a><br>"
      ],
      "text/plain": [
       "assumptions: (b < a , c >= a , c = d , d <= e)"
      ]
     },
     "execution_count": 14,
     "metadata": {},
     "output_type": "execute_result"
    }
   ],
   "source": [
    "assumptions = [Less(b, a), GreaterEq(c, a), Equals(c, d), LessEq(d, e)]"
   ]
  },
  {
   "cell_type": "code",
   "execution_count": 15,
   "metadata": {
    "scrolled": true
   },
   "outputs": [
    {
     "name": "stdout",
     "output_type": "stream",
     "text": [
      "[a, e, c, b]\n"
     ]
    },
    {
     "data": {
      "text/html": [
       "<a class=\"ProveItLink\" href=\"__pv_it/90fbfcecf60eb3191ae6d38e2b6c74e22e76693b0/expr.ipynb\"><img src=\"__pv_it/90fbfcecf60eb3191ae6d38e2b6c74e22e76693b0/expr.png\" style=\"display:inline;vertical-align:middle;\" /></a>"
      ],
      "text/plain": [
       "b < a <= c <= e"
      ]
     },
     "execution_count": 15,
     "metadata": {},
     "output_type": "execute_result"
    }
   ],
   "source": [
    "to_sort = [a, b, c, e]\n",
    "random.shuffle(to_sort)\n",
    "random.shuffle(assumptions)\n",
    "print(to_sort)\n",
    "Less.sort(to_sort, assumptions=assumptions)"
   ]
  },
  {
   "cell_type": "code",
   "execution_count": 16,
   "metadata": {
    "scrolled": true
   },
   "outputs": [
    {
     "name": "stdout",
     "output_type": "stream",
     "text": [
      "[e, d, c, b, a]\n"
     ]
    },
    {
     "data": {
      "text/html": [
       "<a class=\"ProveItLink\" href=\"__pv_it/e5fa45dd1a3852d598a42715461297addfdefbd60/expr.ipynb\"><img src=\"__pv_it/e5fa45dd1a3852d598a42715461297addfdefbd60/expr.png\" style=\"display:inline;vertical-align:middle;\" /></a>"
      ],
      "text/plain": [
       "b < a <= d = c <= e"
      ]
     },
     "execution_count": 16,
     "metadata": {},
     "output_type": "execute_result"
    }
   ],
   "source": [
    "to_sort = [a, b, c, d, e]\n",
    "random.shuffle(to_sort)\n",
    "random.shuffle(assumptions)\n",
    "print(to_sort)\n",
    "Less.sort(to_sort, assumptions=assumptions)"
   ]
  },
  {
   "cell_type": "code",
   "execution_count": 17,
   "metadata": {},
   "outputs": [
    {
     "name": "stdout",
     "output_type": "stream",
     "text": [
      "[d, e, b, c, a]\n"
     ]
    },
    {
     "data": {
      "text/html": [
       "<a class=\"ProveItLink\" href=\"__pv_it/e5fa45dd1a3852d598a42715461297addfdefbd60/expr.ipynb\"><img src=\"__pv_it/e5fa45dd1a3852d598a42715461297addfdefbd60/expr.png\" style=\"display:inline;vertical-align:middle;\" /></a>"
      ],
      "text/plain": [
       "b < a <= d = c <= e"
      ]
     },
     "execution_count": 17,
     "metadata": {},
     "output_type": "execute_result"
    }
   ],
   "source": [
    "to_sort = [a, b, c, d, e]\n",
    "random.shuffle(to_sort)\n",
    "random.shuffle(assumptions)\n",
    "print(to_sort)\n",
    "Less.sort(to_sort, assumptions=assumptions)"
   ]
  },
  {
   "cell_type": "code",
   "execution_count": 18,
   "metadata": {},
   "outputs": [
    {
     "name": "stdout",
     "output_type": "stream",
     "text": [
      "[e, c, d, a, b]\n"
     ]
    },
    {
     "data": {
      "text/html": [
       "<a class=\"ProveItLink\" href=\"__pv_it/525862feab3d8b770483239e1ff7469fec1b82cf0/expr.ipynb\"><img src=\"__pv_it/525862feab3d8b770483239e1ff7469fec1b82cf0/expr.png\" style=\"display:inline;vertical-align:middle;\" /></a>"
      ],
      "text/plain": [
       "b < a <= c = d <= e"
      ]
     },
     "execution_count": 18,
     "metadata": {},
     "output_type": "execute_result"
    }
   ],
   "source": [
    "to_sort = [a, b, c, d, e]\n",
    "random.shuffle(to_sort)\n",
    "random.shuffle(assumptions)\n",
    "print(to_sort)\n",
    "Less.sort(to_sort, assumptions=assumptions)"
   ]
  },
  {
   "cell_type": "code",
   "execution_count": 19,
   "metadata": {},
   "outputs": [],
   "source": [
    "%end demonstrations"
   ]
  },
  {
   "cell_type": "code",
   "execution_count": null,
   "metadata": {},
   "outputs": [],
   "source": []
  }
 ],
 "metadata": {
  "kernelspec": {
   "display_name": "Python 3",
   "language": "python",
   "name": "python3"
  },
  "language_info": {
   "codemirror_mode": {
    "name": "ipython",
    "version": 3
   },
   "file_extension": ".py",
   "mimetype": "text/x-python",
   "name": "python",
   "nbconvert_exporter": "python",
   "pygments_lexer": "ipython3",
   "version": "3.7.0"
  }
 },
 "nbformat": 4,
 "nbformat_minor": 1
}
