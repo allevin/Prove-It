{
 "cells": [
  {
   "cell_type": "markdown",
   "metadata": {
    "collapsed": true
   },
   "source": [
    "Demonstrations for context <a class=\"ProveItLink\" href=\"_context_.ipynb\">proveit.number.ordering</a>\n",
    "========"
   ]
  },
  {
   "cell_type": "code",
   "execution_count": 1,
   "metadata": {},
   "outputs": [],
   "source": [
    "import proveit\n",
    "%begin demonstrations"
   ]
  },
  {
   "cell_type": "code",
   "execution_count": 2,
   "metadata": {},
   "outputs": [],
   "source": [
    "from proveit import ExprList\n",
    "from proveit.logic import Equals, InSet\n",
    "from proveit.number import Reals, Less, LessEq, Greater, GreaterEq, four\n",
    "from proveit._common_ import a, b, c, d, e, n, t, u, v, w, x, y, z, rho\n",
    "from _axioms_ import lessSequenceDef\n",
    "import random"
   ]
  },
  {
   "cell_type": "markdown",
   "metadata": {},
   "source": [
    "### Ordering sequences"
   ]
  },
  {
   "cell_type": "code",
   "execution_count": 3,
   "metadata": {},
   "outputs": [
    {
     "data": {
      "text/html": [
       "<span style=\"font-size:20px;\"> &#x22A2;&nbsp;<a class=\"ProveItLink\" href=\"__pv_it/3f13ed02c209cc74a163d8933874df1c15d574fc0/expr.ipynb\"><img src=\"__pv_it/3f13ed02c209cc74a163d8933874df1c15d574fc0/expr.png\" style=\"display:inline;vertical-align:middle;\" /></a></span>"
      ],
      "text/plain": [
       "|= forall_{n in NaturalsPos} [forall_{(x, rho) in Reals^{n + 1} * {< , <= , =}^{n}} ((x_(1) rho_(1)  ... x_(n) rho_(n) x_(n + 1)) = ((x_(1) rho_(1) x_(1 + 1)) and  ...  and (x_(n) rho_(n) x_(n + 1))))]"
      ]
     },
     "execution_count": 3,
     "metadata": {},
     "output_type": "execute_result"
    }
   ],
   "source": [
    "lessSequenceDef"
   ]
  },
  {
   "cell_type": "code",
   "execution_count": 4,
   "metadata": {},
   "outputs": [
    {
     "data": {
      "text/html": [
       "<strong id=\"operators\">operators:</strong> <a class=\"ProveItLink\" href=\"__pv_it/93eaa3a4a0c80fcbfc7362510f7191c2084d0b200/expr.ipynb\"><img src=\"__pv_it/93eaa3a4a0c80fcbfc7362510f7191c2084d0b200/expr.png\" style=\"display:inline;vertical-align:middle;\" /></a><br>"
      ],
      "text/plain": [
       "operators: (< , <= , = , <)"
      ]
     },
     "execution_count": 4,
     "metadata": {},
     "output_type": "execute_result"
    }
   ],
   "source": [
    "operators = ExprList(Less._operator_, LessEq._operator_, Equals._operator_, Less._operator_)"
   ]
  },
  {
   "cell_type": "code",
   "execution_count": 5,
   "metadata": {},
   "outputs": [
    {
     "data": {
      "text/html": [
       "<strong id=\"assumptions\">assumptions:</strong> <a class=\"ProveItLink\" href=\"__pv_it/da3187e0bacaaf55be96171391c39c48a504bf710/expr.ipynb\"><img src=\"__pv_it/da3187e0bacaaf55be96171391c39c48a504bf710/expr.png\" style=\"display:inline;vertical-align:middle;\" /></a><br>"
      ],
      "text/plain": [
       "assumptions: (v in Reals , w in Reals , x in Reals , y in Reals , z in Reals)"
      ]
     },
     "execution_count": 5,
     "metadata": {},
     "output_type": "execute_result"
    }
   ],
   "source": [
    "assumptions = [InSet(v, Reals), InSet(w, Reals), InSet(x, Reals), InSet(y, Reals), InSet(z, Reals)]"
   ]
  },
  {
   "cell_type": "code",
   "execution_count": 6,
   "metadata": {
    "scrolled": true
   },
   "outputs": [
    {
     "data": {
      "text/html": [
       "<strong id=\"test\">test:</strong> <span style=\"font-size:20px;\"><a class=\"ProveItLink\" href=\"__pv_it/825aa88c96ecc7eab5f1223244d42ca307af2df30/expr.ipynb\"><img src=\"__pv_it/825aa88c96ecc7eab5f1223244d42ca307af2df30/expr.png\" style=\"display:inline;vertical-align:middle;\" /></a> &#x22A2;&nbsp;<a class=\"ProveItLink\" href=\"__pv_it/8f71cd4c71b4fb3de7358c11cda9656b56bfffbb0/expr.ipynb\"><img src=\"__pv_it/8f71cd4c71b4fb3de7358c11cda9656b56bfffbb0/expr.png\" style=\"display:inline;vertical-align:middle;\" /></a></span><br>"
      ],
      "text/plain": [
       "test: {v in Reals , w in Reals , x in Reals , y in Reals , z in Reals} |= (v < w <= x = y < z) = ((v < w) and (w <= x) and (x = y) and (y < z))"
      ]
     },
     "execution_count": 6,
     "metadata": {},
     "output_type": "execute_result"
    }
   ],
   "source": [
    "test = lessSequenceDef.specialize({n:four, x:[v,w,x,y,z], rho:operators}, assumptions=assumptions)"
   ]
  },
  {
   "cell_type": "code",
   "execution_count": 7,
   "metadata": {},
   "outputs": [
    {
     "data": {
      "text/html": [
       "<table><tr><th>&nbsp;</th><th>step type</th><th>requirements</th><th>statement</th></tr>\n",
       "<tr><td>0</td><td>specialization</td><td>1, 2, 3, 4, 5, 6, 7, 10</td><td><span style=\"font-size:20px;\"><a class=\"ProveItLink\" href=\"__pv_it/825aa88c96ecc7eab5f1223244d42ca307af2df30/expr.ipynb\"><img src=\"__pv_it/825aa88c96ecc7eab5f1223244d42ca307af2df30/expr.png\" style=\"display:inline;vertical-align:middle;\" /></a> &#x22A2;&nbsp;<a class=\"ProveItLink\" href=\"__pv_it/8f71cd4c71b4fb3de7358c11cda9656b56bfffbb0/expr.ipynb\"><img src=\"__pv_it/8f71cd4c71b4fb3de7358c11cda9656b56bfffbb0/expr.png\" style=\"display:inline;vertical-align:middle;\" /></a></span></td></tr>\n",
       "<tr><td>&nbsp;</td><td colspan=4 style=\"text-align:left\"><span style=\"font-size:20px;\"><a class=\"ProveItLink\" href=\"../../__pv_it/39dbcd3ca0390345b51c6ef7785756419e2c14390/expr.ipynb\"><img src=\"../../__pv_it/39dbcd3ca0390345b51c6ef7785756419e2c14390/expr.png\" style=\"display:inline;vertical-align:middle;\" /></a> : <a class=\"ProveItLink\" href=\"../numeral/__pv_it/23412ce59ea7e77353d2f9225e02248e73651ca00/expr.ipynb\"><img src=\"../numeral/__pv_it/23412ce59ea7e77353d2f9225e02248e73651ca00/expr.png\" style=\"display:inline;vertical-align:middle;\" /></a>, <a class=\"ProveItLink\" href=\"../../__pv_it/530be409e3083890784cf1d7b28c9e67e90af9360/expr.ipynb\"><img src=\"../../__pv_it/530be409e3083890784cf1d7b28c9e67e90af9360/expr.png\" style=\"display:inline;vertical-align:middle;\" /></a> : <a class=\"ProveItLink\" href=\"__pv_it/22b0dadc88c4c71b627e76660b1b49ef57c0adfa0/expr.ipynb\"><img src=\"__pv_it/22b0dadc88c4c71b627e76660b1b49ef57c0adfa0/expr.png\" style=\"display:inline;vertical-align:middle;\" /></a>, <a class=\"ProveItLink\" href=\"../../__pv_it/9e96715d6873a49f9c1aab0c41652463641fb66b0/expr.ipynb\"><img src=\"../../__pv_it/9e96715d6873a49f9c1aab0c41652463641fb66b0/expr.png\" style=\"display:inline;vertical-align:middle;\" /></a> : <a class=\"ProveItLink\" href=\"__pv_it/93eaa3a4a0c80fcbfc7362510f7191c2084d0b200/expr.ipynb\"><img src=\"__pv_it/93eaa3a4a0c80fcbfc7362510f7191c2084d0b200/expr.png\" style=\"display:inline;vertical-align:middle;\" /></a></span></td></tr><tr><td>1</td><td>axiom</td><td></td><td><span style=\"font-size:20px;\"> &#x22A2;&nbsp;<a class=\"ProveItLink\" href=\"__pv_it/3f13ed02c209cc74a163d8933874df1c15d574fc0/expr.ipynb\"><img src=\"__pv_it/3f13ed02c209cc74a163d8933874df1c15d574fc0/expr.png\" style=\"display:inline;vertical-align:middle;\" /></a></span></td></tr>\n",
       "<tr><td>&nbsp;</td><td colspan=4 style-\"text-align:left\"><a class=\"ProveItLink\" href=\"_axioms_.ipynb#lessSequenceDef\">proveit.number.ordering.lessSequenceDef</a></td></tr><tr><td>2</td><td>theorem</td><td></td><td><span style=\"font-size:20px;\"> &#x22A2;&nbsp;<a class=\"ProveItLink\" href=\"../numeral/deci/__pv_it/a8e2987330479c05c40c94f9edaad0d2c48f343a0/expr.ipynb\"><img src=\"../numeral/deci/__pv_it/a8e2987330479c05c40c94f9edaad0d2c48f343a0/expr.png\" style=\"display:inline;vertical-align:middle;\" /></a></span></td></tr>\n",
       "<tr><td>&nbsp;</td><td colspan=4 style-\"text-align:left\"><a class=\"ProveItLink\" href=\"../numeral/deci/_proofs_/posnat4.ipynb\">proveit.number.numeral.deci.posnat4</a></td></tr><tr><td>3</td><td>specialization</td><td>8, 9, 10</td><td><span style=\"font-size:20px;\"><a class=\"ProveItLink\" href=\"__pv_it/825aa88c96ecc7eab5f1223244d42ca307af2df30/expr.ipynb\"><img src=\"__pv_it/825aa88c96ecc7eab5f1223244d42ca307af2df30/expr.png\" style=\"display:inline;vertical-align:middle;\" /></a> &#x22A2;&nbsp;<a class=\"ProveItLink\" href=\"__pv_it/d4a2e78e6d2783b4c099d34f5c29e707640ac9980/expr.ipynb\"><img src=\"__pv_it/d4a2e78e6d2783b4c099d34f5c29e707640ac9980/expr.png\" style=\"display:inline;vertical-align:middle;\" /></a></span></td></tr>\n",
       "<tr><td>&nbsp;</td><td colspan=4 style=\"text-align:left\"><span style=\"font-size:20px;\"><a class=\"ProveItLink\" href=\"__pv_it/fd4b0a418766985890fb332a124e981d1643d8330/expr.ipynb\"><img src=\"__pv_it/fd4b0a418766985890fb332a124e981d1643d8330/expr.png\" style=\"display:inline;vertical-align:middle;\" /></a> : <a class=\"ProveItLink\" href=\"__pv_it/68cc02953ec28c992a5aa72b29988300e9a2c2fd0/expr.ipynb\"><img src=\"__pv_it/68cc02953ec28c992a5aa72b29988300e9a2c2fd0/expr.png\" style=\"display:inline;vertical-align:middle;\" /></a>, <a class=\"ProveItLink\" href=\"../../__pv_it/530be409e3083890784cf1d7b28c9e67e90af9360/expr.ipynb\"><img src=\"../../__pv_it/530be409e3083890784cf1d7b28c9e67e90af9360/expr.png\" style=\"display:inline;vertical-align:middle;\" /></a> : <a class=\"ProveItLink\" href=\"__pv_it/faceb77f1b062d8884f854e335a39ea91bab4f4f0/expr.ipynb\"><img src=\"__pv_it/faceb77f1b062d8884f854e335a39ea91bab4f4f0/expr.png\" style=\"display:inline;vertical-align:middle;\" /></a>, <a class=\"ProveItLink\" href=\"../../__pv_it/f8b9edf8e16034727f0aad55bb83e392c3db40d40/expr.ipynb\"><img src=\"../../__pv_it/f8b9edf8e16034727f0aad55bb83e392c3db40d40/expr.png\" style=\"display:inline;vertical-align:middle;\" /></a> : <a class=\"ProveItLink\" href=\"../numeral/__pv_it/aaeeaca7d86eb2b7cdc49e25c3108b81b52ec5400/expr.ipynb\"><img src=\"../numeral/__pv_it/aaeeaca7d86eb2b7cdc49e25c3108b81b52ec5400/expr.png\" style=\"display:inline;vertical-align:middle;\" /></a></span></td></tr><tr><td>4</td><td>specialization</td><td>11, 12, 13, 14</td><td><span style=\"font-size:20px;\"> &#x22A2;&nbsp;<a class=\"ProveItLink\" href=\"__pv_it/a77a884fb1edc486b876ee1d6bd8f1428b6836910/expr.ipynb\"><img src=\"__pv_it/a77a884fb1edc486b876ee1d6bd8f1428b6836910/expr.png\" style=\"display:inline;vertical-align:middle;\" /></a></span></td></tr>\n",
       "<tr><td>&nbsp;</td><td colspan=4 style=\"text-align:left\"><span style=\"font-size:20px;\"><a class=\"ProveItLink\" href=\"../../__pv_it/abeee18594afe51bfb1be95d9591fbba24ac53f30/expr.ipynb\"><img src=\"../../__pv_it/abeee18594afe51bfb1be95d9591fbba24ac53f30/expr.png\" style=\"display:inline;vertical-align:middle;\" /></a> : <a class=\"ProveItLink\" href=\"__pv_it/3a913c0e04847c6854155517f5b0e8af7cdbbf410/expr.ipynb\"><img src=\"__pv_it/3a913c0e04847c6854155517f5b0e8af7cdbbf410/expr.png\" style=\"display:inline;vertical-align:middle;\" /></a>, <a class=\"ProveItLink\" href=\"../../__pv_it/07527342713064c87612d00d8557c53d53d5324a0/expr.ipynb\"><img src=\"../../__pv_it/07527342713064c87612d00d8557c53d53d5324a0/expr.png\" style=\"display:inline;vertical-align:middle;\" /></a> : <a class=\"ProveItLink\" href=\"__pv_it/7c444b9b2efa607ed6397b492680dde2810212f00/expr.ipynb\"><img src=\"__pv_it/7c444b9b2efa607ed6397b492680dde2810212f00/expr.png\" style=\"display:inline;vertical-align:middle;\" /></a>, <a class=\"ProveItLink\" href=\"../../__pv_it/6840a4fa6c106149dc16a131294d0c5e44f1b0480/expr.ipynb\"><img src=\"../../__pv_it/6840a4fa6c106149dc16a131294d0c5e44f1b0480/expr.png\" style=\"display:inline;vertical-align:middle;\" /></a> : <a class=\"ProveItLink\" href=\"__pv_it/aa616d6a8fe3483e4e64187262e9c7dfe6a536a30/expr.ipynb\"><img src=\"__pv_it/aa616d6a8fe3483e4e64187262e9c7dfe6a536a30/expr.png\" style=\"display:inline;vertical-align:middle;\" /></a>, <a class=\"ProveItLink\" href=\"../../__pv_it/cbdfda466482236edba0ce44ac7ef39cda0af7a40/expr.ipynb\"><img src=\"../../__pv_it/cbdfda466482236edba0ce44ac7ef39cda0af7a40/expr.png\" style=\"display:inline;vertical-align:middle;\" /></a> : <a class=\"ProveItLink\" href=\"../../logic/equality/__pv_it/2fb26078095930560931daa0500ce419a39ea6cd0/expr.ipynb\"><img src=\"../../logic/equality/__pv_it/2fb26078095930560931daa0500ce419a39ea6cd0/expr.png\" style=\"display:inline;vertical-align:middle;\" /></a>, <a class=\"ProveItLink\" href=\"../../__pv_it/3a5de44ed6135dbbdbbeec6704c741e238f127300/expr.ipynb\"><img src=\"../../__pv_it/3a5de44ed6135dbbdbbeec6704c741e238f127300/expr.png\" style=\"display:inline;vertical-align:middle;\" /></a> : <a class=\"ProveItLink\" href=\"__pv_it/7c444b9b2efa607ed6397b492680dde2810212f00/expr.ipynb\"><img src=\"__pv_it/7c444b9b2efa607ed6397b492680dde2810212f00/expr.png\" style=\"display:inline;vertical-align:middle;\" /></a></span></td></tr><tr><td>5</td><td>theorem</td><td></td><td><span style=\"font-size:20px;\"> &#x22A2;&nbsp;<a class=\"ProveItLink\" href=\"../numeral/deci/__pv_it/c5d3f2ba07647aec518bec1929b16561d1a340400/expr.ipynb\"><img src=\"../numeral/deci/__pv_it/c5d3f2ba07647aec518bec1929b16561d1a340400/expr.png\" style=\"display:inline;vertical-align:middle;\" /></a></span></td></tr>\n",
       "<tr><td>&nbsp;</td><td colspan=4 style-\"text-align:left\"><a class=\"ProveItLink\" href=\"../numeral/deci/_proofs_/add_1_1.ipynb\">proveit.number.numeral.deci.add_1_1</a></td></tr><tr><td>6</td><td>theorem</td><td></td><td><span style=\"font-size:20px;\"> &#x22A2;&nbsp;<a class=\"ProveItLink\" href=\"../numeral/deci/__pv_it/21aa4b60034093b61b7d779cdd54bc7d2d51c73e0/expr.ipynb\"><img src=\"../numeral/deci/__pv_it/21aa4b60034093b61b7d779cdd54bc7d2d51c73e0/expr.png\" style=\"display:inline;vertical-align:middle;\" /></a></span></td></tr>\n",
       "<tr><td>&nbsp;</td><td colspan=4 style-\"text-align:left\"><a class=\"ProveItLink\" href=\"../numeral/deci/_proofs_/add_2_1.ipynb\">proveit.number.numeral.deci.add_2_1</a></td></tr><tr><td>7</td><td>theorem</td><td></td><td><span style=\"font-size:20px;\"> &#x22A2;&nbsp;<a class=\"ProveItLink\" href=\"../numeral/deci/__pv_it/dacb710858c5d508d55e05fa21bc52e5449bb54c0/expr.ipynb\"><img src=\"../numeral/deci/__pv_it/dacb710858c5d508d55e05fa21bc52e5449bb54c0/expr.png\" style=\"display:inline;vertical-align:middle;\" /></a></span></td></tr>\n",
       "<tr><td>&nbsp;</td><td colspan=4 style-\"text-align:left\"><a class=\"ProveItLink\" href=\"../numeral/deci/_proofs_/add_3_1.ipynb\">proveit.number.numeral.deci.add_3_1</a></td></tr><tr><td>8</td><td>theorem</td><td></td><td><span style=\"font-size:20px;\"> &#x22A2;&nbsp;<a class=\"ProveItLink\" href=\"../../logic/equality/__pv_it/0ff28639b67648f982114c9abc0eb1af3cbddacb0/expr.ipynb\"><img src=\"../../logic/equality/__pv_it/0ff28639b67648f982114c9abc0eb1af3cbddacb0/expr.png\" style=\"display:inline;vertical-align:middle;\" /></a></span></td></tr>\n",
       "<tr><td>&nbsp;</td><td colspan=4 style-\"text-align:left\"><a class=\"ProveItLink\" href=\"../../logic/equality/_proofs_/subLeftSideInto.ipynb\">proveit.logic.equality.subLeftSideInto</a></td></tr><tr><td>9</td><td>specialization</td><td>15, 16, 17, 18, 19, 20</td><td><span style=\"font-size:20px;\"><a class=\"ProveItLink\" href=\"__pv_it/825aa88c96ecc7eab5f1223244d42ca307af2df30/expr.ipynb\"><img src=\"__pv_it/825aa88c96ecc7eab5f1223244d42ca307af2df30/expr.png\" style=\"display:inline;vertical-align:middle;\" /></a> &#x22A2;&nbsp;<a class=\"ProveItLink\" href=\"__pv_it/91916f9ee0ea2deb58849958d5cb7ab6079d8cdf0/expr.ipynb\"><img src=\"__pv_it/91916f9ee0ea2deb58849958d5cb7ab6079d8cdf0/expr.png\" style=\"display:inline;vertical-align:middle;\" /></a></span></td></tr>\n",
       "<tr><td>&nbsp;</td><td colspan=4 style=\"text-align:left\"><span style=\"font-size:20px;\"><a class=\"ProveItLink\" href=\"../../__pv_it/abeee18594afe51bfb1be95d9591fbba24ac53f30/expr.ipynb\"><img src=\"../../__pv_it/abeee18594afe51bfb1be95d9591fbba24ac53f30/expr.png\" style=\"display:inline;vertical-align:middle;\" /></a> : <a class=\"ProveItLink\" href=\"../sets/real/__pv_it/c69b21a7605f74b7de6f2b0e27a26f9af7918cb30/expr.ipynb\"><img src=\"../sets/real/__pv_it/c69b21a7605f74b7de6f2b0e27a26f9af7918cb30/expr.png\" style=\"display:inline;vertical-align:middle;\" /></a>, <a class=\"ProveItLink\" href=\"../../__pv_it/07527342713064c87612d00d8557c53d53d5324a0/expr.ipynb\"><img src=\"../../__pv_it/07527342713064c87612d00d8557c53d53d5324a0/expr.png\" style=\"display:inline;vertical-align:middle;\" /></a> : <a class=\"ProveItLink\" href=\"../../__pv_it/5811dd9d8dc299df1f3b81f9eaa4740e636c675a0/expr.ipynb\"><img src=\"../../__pv_it/5811dd9d8dc299df1f3b81f9eaa4740e636c675a0/expr.png\" style=\"display:inline;vertical-align:middle;\" /></a>, <a class=\"ProveItLink\" href=\"../../__pv_it/6840a4fa6c106149dc16a131294d0c5e44f1b0480/expr.ipynb\"><img src=\"../../__pv_it/6840a4fa6c106149dc16a131294d0c5e44f1b0480/expr.png\" style=\"display:inline;vertical-align:middle;\" /></a> : <a class=\"ProveItLink\" href=\"../../__pv_it/75e452494c4801e076f090988fd69716611d31190/expr.ipynb\"><img src=\"../../__pv_it/75e452494c4801e076f090988fd69716611d31190/expr.png\" style=\"display:inline;vertical-align:middle;\" /></a>, <a class=\"ProveItLink\" href=\"../../__pv_it/cbdfda466482236edba0ce44ac7ef39cda0af7a40/expr.ipynb\"><img src=\"../../__pv_it/cbdfda466482236edba0ce44ac7ef39cda0af7a40/expr.png\" style=\"display:inline;vertical-align:middle;\" /></a> : <a class=\"ProveItLink\" href=\"../../__pv_it/530be409e3083890784cf1d7b28c9e67e90af9360/expr.ipynb\"><img src=\"../../__pv_it/530be409e3083890784cf1d7b28c9e67e90af9360/expr.png\" style=\"display:inline;vertical-align:middle;\" /></a>, <a class=\"ProveItLink\" href=\"../../__pv_it/3a5de44ed6135dbbdbbeec6704c741e238f127300/expr.ipynb\"><img src=\"../../__pv_it/3a5de44ed6135dbbdbbeec6704c741e238f127300/expr.png\" style=\"display:inline;vertical-align:middle;\" /></a> : <a class=\"ProveItLink\" href=\"../../__pv_it/f8b9edf8e16034727f0aad55bb83e392c3db40d40/expr.ipynb\"><img src=\"../../__pv_it/f8b9edf8e16034727f0aad55bb83e392c3db40d40/expr.png\" style=\"display:inline;vertical-align:middle;\" /></a>, <a class=\"ProveItLink\" href=\"../../__pv_it/0bc0f4a545336331111a0b22c4f05a0627b57b8f0/expr.ipynb\"><img src=\"../../__pv_it/0bc0f4a545336331111a0b22c4f05a0627b57b8f0/expr.png\" style=\"display:inline;vertical-align:middle;\" /></a> : <a class=\"ProveItLink\" href=\"../../__pv_it/251502494639118b4892de8e9d720a5fcce840e10/expr.ipynb\"><img src=\"../../__pv_it/251502494639118b4892de8e9d720a5fcce840e10/expr.png\" style=\"display:inline;vertical-align:middle;\" /></a></span></td></tr><tr><td>10</td><td>theorem</td><td></td><td><span style=\"font-size:20px;\"> &#x22A2;&nbsp;<a class=\"ProveItLink\" href=\"../numeral/deci/__pv_it/40c99f576150d8b62295a339956c083d3a6106810/expr.ipynb\"><img src=\"../numeral/deci/__pv_it/40c99f576150d8b62295a339956c083d3a6106810/expr.png\" style=\"display:inline;vertical-align:middle;\" /></a></span></td></tr>\n",
       "<tr><td>&nbsp;</td><td colspan=4 style-\"text-align:left\"><a class=\"ProveItLink\" href=\"../numeral/deci/_proofs_/add_4_1.ipynb\">proveit.number.numeral.deci.add_4_1</a></td></tr><tr><td>11</td><td>theorem</td><td></td><td><span style=\"font-size:20px;\"> &#x22A2;&nbsp;<a class=\"ProveItLink\" href=\"../../logic/set_theory/membership/__pv_it/f8871096ab31a54eeeb7d5201addc96bdbcd44530/expr.ipynb\"><img src=\"../../logic/set_theory/membership/__pv_it/f8871096ab31a54eeeb7d5201addc96bdbcd44530/expr.png\" style=\"display:inline;vertical-align:middle;\" /></a></span></td></tr>\n",
       "<tr><td>&nbsp;</td><td colspan=4 style-\"text-align:left\"><a class=\"ProveItLink\" href=\"../../logic/set_theory/membership/_proofs_/exp_set_4.ipynb\">proveit.logic.set_theory.membership.exp_set_4</a></td></tr><tr><td>12</td><td>theorem</td><td></td><td><span style=\"font-size:20px;\"> &#x22A2;&nbsp;<a class=\"ProveItLink\" href=\"__pv_it/d4a584cb28dab2ba0ace67e7f307613c5f3803dd0/expr.ipynb\"><img src=\"__pv_it/d4a584cb28dab2ba0ace67e7f307613c5f3803dd0/expr.png\" style=\"display:inline;vertical-align:middle;\" /></a></span></td></tr>\n",
       "<tr><td>&nbsp;</td><td colspan=4 style-\"text-align:left\"><a class=\"ProveItLink\" href=\"_proofs_/less__in__less_eq_relations.ipynb\">proveit.number.ordering.less__in__less_eq_relations</a></td></tr><tr><td>13</td><td>theorem</td><td></td><td><span style=\"font-size:20px;\"> &#x22A2;&nbsp;<a class=\"ProveItLink\" href=\"__pv_it/b1f49f2be6476291afd2ccbfb414f8e0775ad5b40/expr.ipynb\"><img src=\"__pv_it/b1f49f2be6476291afd2ccbfb414f8e0775ad5b40/expr.png\" style=\"display:inline;vertical-align:middle;\" /></a></span></td></tr>\n",
       "<tr><td>&nbsp;</td><td colspan=4 style-\"text-align:left\"><a class=\"ProveItLink\" href=\"_proofs_/less_eq__in__less_eq_relations.ipynb\">proveit.number.ordering.less_eq__in__less_eq_relations</a></td></tr><tr><td>14</td><td>theorem</td><td></td><td><span style=\"font-size:20px;\"> &#x22A2;&nbsp;<a class=\"ProveItLink\" href=\"__pv_it/d5076c8da292ac6f65f6c45668e3590f8f628aaa0/expr.ipynb\"><img src=\"__pv_it/d5076c8da292ac6f65f6c45668e3590f8f628aaa0/expr.png\" style=\"display:inline;vertical-align:middle;\" /></a></span></td></tr>\n",
       "<tr><td>&nbsp;</td><td colspan=4 style-\"text-align:left\"><a class=\"ProveItLink\" href=\"_proofs_/eq__in__less_eq_relations.ipynb\">proveit.number.ordering.eq__in__less_eq_relations</a></td></tr><tr><td>15</td><td>theorem</td><td></td><td><span style=\"font-size:20px;\"> &#x22A2;&nbsp;<a class=\"ProveItLink\" href=\"../../logic/set_theory/membership/__pv_it/51a013fc29190f4a50141968026b0dc6a9c3a38b0/expr.ipynb\"><img src=\"../../logic/set_theory/membership/__pv_it/51a013fc29190f4a50141968026b0dc6a9c3a38b0/expr.png\" style=\"display:inline;vertical-align:middle;\" /></a></span></td></tr>\n",
       "<tr><td>&nbsp;</td><td colspan=4 style-\"text-align:left\"><a class=\"ProveItLink\" href=\"../../logic/set_theory/membership/_proofs_/exp_set_5.ipynb\">proveit.logic.set_theory.membership.exp_set_5</a></td></tr><tr><td>16</td><td>assumption</td><td></td><td><span style=\"font-size:20px;\"><a class=\"ProveItLink\" href=\"__pv_it/5d19475e10fdf335187a8d7b95aa84cf8cef9a310/expr.ipynb\"><img src=\"__pv_it/5d19475e10fdf335187a8d7b95aa84cf8cef9a310/expr.png\" style=\"display:inline;vertical-align:middle;\" /></a> &#x22A2;&nbsp;<a class=\"ProveItLink\" href=\"__pv_it/f49e341b0af132941f0e552f95e3bedb81a75a180/expr.ipynb\"><img src=\"__pv_it/f49e341b0af132941f0e552f95e3bedb81a75a180/expr.png\" style=\"display:inline;vertical-align:middle;\" /></a></span></td></tr>\n",
       "<tr><td>17</td><td>assumption</td><td></td><td><span style=\"font-size:20px;\"><a class=\"ProveItLink\" href=\"__pv_it/3f06bef215da2437dd18baa7c0e9d2f020eb9f750/expr.ipynb\"><img src=\"__pv_it/3f06bef215da2437dd18baa7c0e9d2f020eb9f750/expr.png\" style=\"display:inline;vertical-align:middle;\" /></a> &#x22A2;&nbsp;<a class=\"ProveItLink\" href=\"__pv_it/9bd68a6e5d2b6d253e5a200f1b2667498c367cf90/expr.ipynb\"><img src=\"__pv_it/9bd68a6e5d2b6d253e5a200f1b2667498c367cf90/expr.png\" style=\"display:inline;vertical-align:middle;\" /></a></span></td></tr>\n",
       "<tr><td>18</td><td>assumption</td><td></td><td><span style=\"font-size:20px;\"><a class=\"ProveItLink\" href=\"__pv_it/d5597c5bbed71975f9373ba2cd5c3a7ae66d40950/expr.ipynb\"><img src=\"__pv_it/d5597c5bbed71975f9373ba2cd5c3a7ae66d40950/expr.png\" style=\"display:inline;vertical-align:middle;\" /></a> &#x22A2;&nbsp;<a class=\"ProveItLink\" href=\"__pv_it/f8b5c86a93861ddd5e5faad80d513581b9fd1b1f0/expr.ipynb\"><img src=\"__pv_it/f8b5c86a93861ddd5e5faad80d513581b9fd1b1f0/expr.png\" style=\"display:inline;vertical-align:middle;\" /></a></span></td></tr>\n",
       "<tr><td>19</td><td>assumption</td><td></td><td><span style=\"font-size:20px;\"><a class=\"ProveItLink\" href=\"__pv_it/fa087030e9e860de75759fdc59850e300ce11d3f0/expr.ipynb\"><img src=\"__pv_it/fa087030e9e860de75759fdc59850e300ce11d3f0/expr.png\" style=\"display:inline;vertical-align:middle;\" /></a> &#x22A2;&nbsp;<a class=\"ProveItLink\" href=\"__pv_it/af6283ca6776f6f8f4487235c01b900e306351aa0/expr.ipynb\"><img src=\"__pv_it/af6283ca6776f6f8f4487235c01b900e306351aa0/expr.png\" style=\"display:inline;vertical-align:middle;\" /></a></span></td></tr>\n",
       "<tr><td>20</td><td>assumption</td><td></td><td><span style=\"font-size:20px;\"><a class=\"ProveItLink\" href=\"__pv_it/bf8a37a57235a6992548c530b1c5325aefe3d6a90/expr.ipynb\"><img src=\"__pv_it/bf8a37a57235a6992548c530b1c5325aefe3d6a90/expr.png\" style=\"display:inline;vertical-align:middle;\" /></a> &#x22A2;&nbsp;<a class=\"ProveItLink\" href=\"__pv_it/19b5b8050155bb137111e2c2d51311afba194a5d0/expr.ipynb\"><img src=\"__pv_it/19b5b8050155bb137111e2c2d51311afba194a5d0/expr.png\" style=\"display:inline;vertical-align:middle;\" /></a></span></td></tr>\n",
       "</table>"
      ],
      "text/plain": [
       "\tstep type\trequirements\tstatement\n",
       "0\tspecialization\t1, 2, 3, 4, 5, 6, 7, 10\t{v in Reals , w in Reals , x in Reals , y in Reals , z in Reals} |= (v < w <= x = y < z) = ((v < w) and (w <= x) and (x = y) and (y < z))\n",
       "\tn : 4, x : (v , w , x , y , z), rho : (< , <= , = , <)\n",
       "1\taxiom\t\t|= forall_{n in NaturalsPos} [forall_{(x, rho) in Reals^{n + 1} * {< , <= , =}^{n}} ((x_(1) rho_(1)  ... x_(n) rho_(n) x_(n + 1)) = ((x_(1) rho_(1) x_(1 + 1)) and  ...  and (x_(n) rho_(n) x_(n + 1))))]\n",
       "\tproveit.number.ordering.lessSequenceDef\n",
       "2\ttheorem\t\t|= 4 in NaturalsPos\n",
       "\tproveit.number.numeral.deci.posnat4\n",
       "3\tspecialization\t8, 9, 10\t{v in Reals , w in Reals , x in Reals , y in Reals , z in Reals} |= (v , w , x , y , z) in Reals^{4 + 1}\n",
       "\tP(_x_) : (v , w , x , y , z) in Reals^{_x_}, x : 4 + 1, y : 5\n",
       "4\tspecialization\t11, 12, 13, 14\t|= (< , <= , = , <) in {< , <= , =}^{4}\n",
       "\tS : {< , <= , =}, a : <, b : <=, c : =, d : <\n",
       "5\ttheorem\t\t|= (1 + 1) = 2\n",
       "\tproveit.number.numeral.deci.add_1_1\n",
       "6\ttheorem\t\t|= (2 + 1) = 3\n",
       "\tproveit.number.numeral.deci.add_2_1\n",
       "7\ttheorem\t\t|= (3 + 1) = 4\n",
       "\tproveit.number.numeral.deci.add_3_1\n",
       "8\ttheorem\t\t|= forall_{P, x, y | P(y) , x = y} P(x)\n",
       "\tproveit.logic.equality.subLeftSideInto\n",
       "9\tspecialization\t15, 16, 17, 18, 19, 20\t{v in Reals , w in Reals , x in Reals , y in Reals , z in Reals} |= (v , w , x , y , z) in Reals^{5}\n",
       "\tS : Reals, a : v, b : w, c : x, d : y, e : z\n",
       "10\ttheorem\t\t|= (4 + 1) = 5\n",
       "\tproveit.number.numeral.deci.add_4_1\n",
       "11\ttheorem\t\t|= forall_{S} [forall_{a, b, c, d in S} ((a , b , c , d) in S^{4})]\n",
       "\tproveit.logic.set_theory.membership.exp_set_4\n",
       "12\ttheorem\t\t|= < in {< , <= , =}\n",
       "\tproveit.number.ordering.less__in__less_eq_relations\n",
       "13\ttheorem\t\t|= <= in {< , <= , =}\n",
       "\tproveit.number.ordering.less_eq__in__less_eq_relations\n",
       "14\ttheorem\t\t|= = in {< , <= , =}\n",
       "\tproveit.number.ordering.eq__in__less_eq_relations\n",
       "15\ttheorem\t\t|= forall_{S} [forall_{a, b, c, d, e in S} ((a , b , c , d , e) in S^{5})]\n",
       "\tproveit.logic.set_theory.membership.exp_set_5\n",
       "16\tassumption\t\t{v in Reals} |= v in Reals\n",
       "17\tassumption\t\t{w in Reals} |= w in Reals\n",
       "18\tassumption\t\t{x in Reals} |= x in Reals\n",
       "19\tassumption\t\t{y in Reals} |= y in Reals\n",
       "20\tassumption\t\t{z in Reals} |= z in Reals"
      ]
     },
     "execution_count": 7,
     "metadata": {},
     "output_type": "execute_result"
    }
   ],
   "source": [
    "test.proof()"
   ]
  },
  {
   "cell_type": "code",
   "execution_count": null,
   "metadata": {},
   "outputs": [],
   "source": []
  },
  {
   "cell_type": "code",
   "execution_count": 8,
   "metadata": {},
   "outputs": [
    {
     "data": {
      "text/html": [
       "<table><tr><th>&nbsp;</th><th>step type</th><th>requirements</th><th>statement</th></tr>\n",
       "<tr><td>0</td><td>specialization</td><td>3, 1, 2</td><td><span style=\"font-size:20px;\"> &#x22A2;&nbsp;<a class=\"ProveItLink\" href=\"__pv_it/33db776e854d0f71ddfc7f9473edc1906b5c14ae0/expr.ipynb\"><img src=\"__pv_it/33db776e854d0f71ddfc7f9473edc1906b5c14ae0/expr.png\" style=\"display:inline;vertical-align:middle;\" /></a></span></td></tr>\n",
       "<tr><td>&nbsp;</td><td colspan=4 style=\"text-align:left\"><span style=\"font-size:20px;\"><a class=\"ProveItLink\" href=\"../../__pv_it/530be409e3083890784cf1d7b28c9e67e90af9360/expr.ipynb\"><img src=\"../../__pv_it/530be409e3083890784cf1d7b28c9e67e90af9360/expr.png\" style=\"display:inline;vertical-align:middle;\" /></a> : <a class=\"ProveItLink\" href=\"../numeral/__pv_it/9be8badea4c35b9724062cecc501d17a3158d1d20/expr.ipynb\"><img src=\"../numeral/__pv_it/9be8badea4c35b9724062cecc501d17a3158d1d20/expr.png\" style=\"display:inline;vertical-align:middle;\" /></a>, <a class=\"ProveItLink\" href=\"../../__pv_it/f8b9edf8e16034727f0aad55bb83e392c3db40d40/expr.ipynb\"><img src=\"../../__pv_it/f8b9edf8e16034727f0aad55bb83e392c3db40d40/expr.png\" style=\"display:inline;vertical-align:middle;\" /></a> : <a class=\"ProveItLink\" href=\"../numeral/__pv_it/9176d93c83afa2c995b614976e3cb49207102fa70/expr.ipynb\"><img src=\"../numeral/__pv_it/9176d93c83afa2c995b614976e3cb49207102fa70/expr.png\" style=\"display:inline;vertical-align:middle;\" /></a>, <a class=\"ProveItLink\" href=\"../../__pv_it/251502494639118b4892de8e9d720a5fcce840e10/expr.ipynb\"><img src=\"../../__pv_it/251502494639118b4892de8e9d720a5fcce840e10/expr.png\" style=\"display:inline;vertical-align:middle;\" /></a> : <a class=\"ProveItLink\" href=\"../numeral/__pv_it/23412ce59ea7e77353d2f9225e02248e73651ca00/expr.ipynb\"><img src=\"../numeral/__pv_it/23412ce59ea7e77353d2f9225e02248e73651ca00/expr.png\" style=\"display:inline;vertical-align:middle;\" /></a></span></td></tr><tr><td>1</td><td>specialization</td><td>3, 4, 5</td><td><span style=\"font-size:20px;\"> &#x22A2;&nbsp;<a class=\"ProveItLink\" href=\"__pv_it/c43aefc9db55ddc2dbd1c5b2c1601ea3e04029a60/expr.ipynb\"><img src=\"__pv_it/c43aefc9db55ddc2dbd1c5b2c1601ea3e04029a60/expr.png\" style=\"display:inline;vertical-align:middle;\" /></a></span></td></tr>\n",
       "<tr><td>&nbsp;</td><td colspan=4 style=\"text-align:left\"><span style=\"font-size:20px;\"><a class=\"ProveItLink\" href=\"../../__pv_it/530be409e3083890784cf1d7b28c9e67e90af9360/expr.ipynb\"><img src=\"../../__pv_it/530be409e3083890784cf1d7b28c9e67e90af9360/expr.png\" style=\"display:inline;vertical-align:middle;\" /></a> : <a class=\"ProveItLink\" href=\"../numeral/__pv_it/9be8badea4c35b9724062cecc501d17a3158d1d20/expr.ipynb\"><img src=\"../numeral/__pv_it/9be8badea4c35b9724062cecc501d17a3158d1d20/expr.png\" style=\"display:inline;vertical-align:middle;\" /></a>, <a class=\"ProveItLink\" href=\"../../__pv_it/f8b9edf8e16034727f0aad55bb83e392c3db40d40/expr.ipynb\"><img src=\"../../__pv_it/f8b9edf8e16034727f0aad55bb83e392c3db40d40/expr.png\" style=\"display:inline;vertical-align:middle;\" /></a> : <a class=\"ProveItLink\" href=\"../numeral/__pv_it/77d407a64829263cdc16415becd4c2293f77a4bf0/expr.ipynb\"><img src=\"../numeral/__pv_it/77d407a64829263cdc16415becd4c2293f77a4bf0/expr.png\" style=\"display:inline;vertical-align:middle;\" /></a>, <a class=\"ProveItLink\" href=\"../../__pv_it/251502494639118b4892de8e9d720a5fcce840e10/expr.ipynb\"><img src=\"../../__pv_it/251502494639118b4892de8e9d720a5fcce840e10/expr.png\" style=\"display:inline;vertical-align:middle;\" /></a> : <a class=\"ProveItLink\" href=\"../numeral/__pv_it/9176d93c83afa2c995b614976e3cb49207102fa70/expr.ipynb\"><img src=\"../numeral/__pv_it/9176d93c83afa2c995b614976e3cb49207102fa70/expr.png\" style=\"display:inline;vertical-align:middle;\" /></a></span></td></tr><tr><td>2</td><td>theorem</td><td></td><td><span style=\"font-size:20px;\"> &#x22A2;&nbsp;<a class=\"ProveItLink\" href=\"../numeral/deci/__pv_it/062fba8f811ddd0affa8a613573c5a0599a508690/expr.ipynb\"><img src=\"../numeral/deci/__pv_it/062fba8f811ddd0affa8a613573c5a0599a508690/expr.png\" style=\"display:inline;vertical-align:middle;\" /></a></span></td></tr>\n",
       "<tr><td>&nbsp;</td><td colspan=4 style-\"text-align:left\"><a class=\"ProveItLink\" href=\"../numeral/deci/_proofs_/less_3_4.ipynb\">proveit.number.numeral.deci.less_3_4</a></td></tr><tr><td>3</td><td>axiom</td><td></td><td><span style=\"font-size:20px;\"> &#x22A2;&nbsp;<a class=\"ProveItLink\" href=\"__pv_it/fcfb29e576168acea8b303a9c503b3b79252282c0/expr.ipynb\"><img src=\"__pv_it/fcfb29e576168acea8b303a9c503b3b79252282c0/expr.png\" style=\"display:inline;vertical-align:middle;\" /></a></span></td></tr>\n",
       "<tr><td>&nbsp;</td><td colspan=4 style-\"text-align:left\"><a class=\"ProveItLink\" href=\"_axioms_.ipynb#transitivityLessLess\">proveit.number.ordering.transitivityLessLess</a></td></tr><tr><td>4</td><td>theorem</td><td></td><td><span style=\"font-size:20px;\"> &#x22A2;&nbsp;<a class=\"ProveItLink\" href=\"../numeral/deci/__pv_it/3f96bd3cd3458158a7aac789291520ebb13da1980/expr.ipynb\"><img src=\"../numeral/deci/__pv_it/3f96bd3cd3458158a7aac789291520ebb13da1980/expr.png\" style=\"display:inline;vertical-align:middle;\" /></a></span></td></tr>\n",
       "<tr><td>&nbsp;</td><td colspan=4 style-\"text-align:left\"><a class=\"ProveItLink\" href=\"../numeral/deci/_proofs_/less_1_2.ipynb\">proveit.number.numeral.deci.less_1_2</a></td></tr><tr><td>5</td><td>theorem</td><td></td><td><span style=\"font-size:20px;\"> &#x22A2;&nbsp;<a class=\"ProveItLink\" href=\"../numeral/deci/__pv_it/ea73ff1eea783ca266e3b5ffcdce42d0484d9f6a0/expr.ipynb\"><img src=\"../numeral/deci/__pv_it/ea73ff1eea783ca266e3b5ffcdce42d0484d9f6a0/expr.png\" style=\"display:inline;vertical-align:middle;\" /></a></span></td></tr>\n",
       "<tr><td>&nbsp;</td><td colspan=4 style-\"text-align:left\"><a class=\"ProveItLink\" href=\"../numeral/deci/_proofs_/less_2_3.ipynb\">proveit.number.numeral.deci.less_2_3</a></td></tr></table>"
      ],
      "text/plain": [
       "\tstep type\trequirements\tstatement\n",
       "0\tspecialization\t3, 1, 2\t|= 1 < 4\n",
       "\tx : 1, y : 3, z : 4\n",
       "1\tspecialization\t3, 4, 5\t|= 1 < 3\n",
       "\tx : 1, y : 2, z : 3\n",
       "2\ttheorem\t\t|= 3 < 4\n",
       "\tproveit.number.numeral.deci.less_3_4\n",
       "3\taxiom\t\t|= forall_{x, y, z | x < y , y < z} (x < z)\n",
       "\tproveit.number.ordering.transitivityLessLess\n",
       "4\ttheorem\t\t|= 1 < 2\n",
       "\tproveit.number.numeral.deci.less_1_2\n",
       "5\ttheorem\t\t|= 2 < 3\n",
       "\tproveit.number.numeral.deci.less_2_3"
      ]
     },
     "execution_count": 8,
     "metadata": {},
     "output_type": "execute_result"
    }
   ],
   "source": [
    "from proveit.number import one, four, Less\n",
    "Less.sort([one, four], reorder=False).proof()"
   ]
  },
  {
   "cell_type": "code",
   "execution_count": 9,
   "metadata": {},
   "outputs": [
    {
     "name": "stdout",
     "output_type": "stream",
     "text": [
      "inv 1\n"
     ]
    }
   ],
   "source": [
    "from proveit.logic import Equals\n",
    "from proveit import Lambda\n",
    "from proveit.number import Add, one, two\n",
    "from proveit._common_ import i\n",
    "Add(one, one)\n",
    "print('inv', Equals.invert(Lambda(i, Add(i, one)), two))"
   ]
  },
  {
   "cell_type": "markdown",
   "metadata": {},
   "source": [
    "### Transitivity search"
   ]
  },
  {
   "cell_type": "code",
   "execution_count": 10,
   "metadata": {},
   "outputs": [
    {
     "data": {
      "text/html": [
       "<strong id=\"assumptions\">assumptions:</strong> <a class=\"ProveItLink\" href=\"__pv_it/46010767403b44d52c1869739acd3bc395225e5f0/expr.ipynb\"><img src=\"__pv_it/46010767403b44d52c1869739acd3bc395225e5f0/expr.png\" style=\"display:inline;vertical-align:middle;\" /></a><br>"
      ],
      "text/plain": [
       "assumptions: (t >= a , t < u , u = v , v <= w , x > w , x < y , z >= y , u < z , w > t)"
      ]
     },
     "execution_count": 10,
     "metadata": {},
     "output_type": "execute_result"
    }
   ],
   "source": [
    "assumptions = [GreaterEq(t, a), Less(t, u), Equals(u, v), LessEq(v, w), Greater(x, w), Less(x, y), GreaterEq(z, y), Less(u, z), Greater(w, t)]"
   ]
  },
  {
   "cell_type": "code",
   "execution_count": 11,
   "metadata": {},
   "outputs": [],
   "source": [
    "random.shuffle(assumptions)"
   ]
  },
  {
   "cell_type": "code",
   "execution_count": 12,
   "metadata": {
    "scrolled": false
   },
   "outputs": [
    {
     "data": {
      "text/html": [
       "<span style=\"font-size:20px;\"><a class=\"ProveItLink\" href=\"__pv_it/e11c3be396a5318d4a48da86d010d0d445f1feac0/expr.ipynb\"><img src=\"__pv_it/e11c3be396a5318d4a48da86d010d0d445f1feac0/expr.png\" style=\"display:inline;vertical-align:middle;\" /></a> &#x22A2;&nbsp;<a class=\"ProveItLink\" href=\"__pv_it/723b5a03d2777b76a361eae937519693be1a7c270/expr.ipynb\"><img src=\"__pv_it/723b5a03d2777b76a361eae937519693be1a7c270/expr.png\" style=\"display:inline;vertical-align:middle;\" /></a></span>"
      ],
      "text/plain": [
       "{t < u , t >= a , u < z} |= a < z"
      ]
     },
     "execution_count": 12,
     "metadata": {},
     "output_type": "execute_result"
    }
   ],
   "source": [
    "Less(a, z).prove(assumptions)"
   ]
  },
  {
   "cell_type": "code",
   "execution_count": 13,
   "metadata": {},
   "outputs": [
    {
     "data": {
      "text/html": [
       "<span style=\"font-size:20px;\"><a class=\"ProveItLink\" href=\"__pv_it/e11c3be396a5318d4a48da86d010d0d445f1feac0/expr.ipynb\"><img src=\"__pv_it/e11c3be396a5318d4a48da86d010d0d445f1feac0/expr.png\" style=\"display:inline;vertical-align:middle;\" /></a> &#x22A2;&nbsp;<a class=\"ProveItLink\" href=\"__pv_it/d1c553cb171760026b16f2c178b3357954caf3f60/expr.ipynb\"><img src=\"__pv_it/d1c553cb171760026b16f2c178b3357954caf3f60/expr.png\" style=\"display:inline;vertical-align:middle;\" /></a></span>"
      ],
      "text/plain": [
       "{t < u , t >= a , u < z} |= z > a"
      ]
     },
     "execution_count": 13,
     "metadata": {},
     "output_type": "execute_result"
    }
   ],
   "source": [
    "Greater(z, a).prove(assumptions)"
   ]
  },
  {
   "cell_type": "markdown",
   "metadata": {},
   "source": [
    "### Transitivity sort"
   ]
  },
  {
   "cell_type": "code",
   "execution_count": 14,
   "metadata": {},
   "outputs": [
    {
     "data": {
      "text/html": [
       "<strong id=\"assumptions\">assumptions:</strong> <a class=\"ProveItLink\" href=\"__pv_it/9f51bad3e1a1306539276a8d5f948ddb4e0a30c80/expr.ipynb\"><img src=\"__pv_it/9f51bad3e1a1306539276a8d5f948ddb4e0a30c80/expr.png\" style=\"display:inline;vertical-align:middle;\" /></a><br>"
      ],
      "text/plain": [
       "assumptions: (b < a , c >= a , c = d , d <= e)"
      ]
     },
     "execution_count": 14,
     "metadata": {},
     "output_type": "execute_result"
    }
   ],
   "source": [
    "assumptions = [Less(b, a), GreaterEq(c, a), Equals(c, d), LessEq(d, e)]"
   ]
  },
  {
   "cell_type": "code",
   "execution_count": 15,
   "metadata": {
    "scrolled": true
   },
   "outputs": [
    {
     "name": "stdout",
     "output_type": "stream",
     "text": [
      "[e, a, b, c]\n"
     ]
    },
    {
     "data": {
      "text/html": [
       "<a class=\"ProveItLink\" href=\"__pv_it/90fbfcecf60eb3191ae6d38e2b6c74e22e76693b0/expr.ipynb\"><img src=\"__pv_it/90fbfcecf60eb3191ae6d38e2b6c74e22e76693b0/expr.png\" style=\"display:inline;vertical-align:middle;\" /></a>"
      ],
      "text/plain": [
       "b < a <= c <= e"
      ]
     },
     "execution_count": 15,
     "metadata": {},
     "output_type": "execute_result"
    }
   ],
   "source": [
    "to_sort = [a, b, c, e]\n",
    "random.shuffle(to_sort)\n",
    "random.shuffle(assumptions)\n",
    "print(to_sort)\n",
    "Less.sort(to_sort, assumptions=assumptions)"
   ]
  },
  {
   "cell_type": "code",
   "execution_count": 16,
   "metadata": {
    "scrolled": true
   },
   "outputs": [
    {
     "name": "stdout",
     "output_type": "stream",
     "text": [
      "[e, a, b, d, c]\n"
     ]
    },
    {
     "data": {
      "text/html": [
       "<a class=\"ProveItLink\" href=\"__pv_it/e5fa45dd1a3852d598a42715461297addfdefbd60/expr.ipynb\"><img src=\"__pv_it/e5fa45dd1a3852d598a42715461297addfdefbd60/expr.png\" style=\"display:inline;vertical-align:middle;\" /></a>"
      ],
      "text/plain": [
       "b < a <= d = c <= e"
      ]
     },
     "execution_count": 16,
     "metadata": {},
     "output_type": "execute_result"
    }
   ],
   "source": [
    "to_sort = [a, b, c, d, e]\n",
    "random.shuffle(to_sort)\n",
    "random.shuffle(assumptions)\n",
    "print(to_sort)\n",
    "Less.sort(to_sort, assumptions=assumptions)"
   ]
  },
  {
   "cell_type": "code",
   "execution_count": 17,
   "metadata": {},
   "outputs": [
    {
     "name": "stdout",
     "output_type": "stream",
     "text": [
      "[e, a, d, b, c]\n"
     ]
    },
    {
     "data": {
      "text/html": [
       "<a class=\"ProveItLink\" href=\"__pv_it/525862feab3d8b770483239e1ff7469fec1b82cf0/expr.ipynb\"><img src=\"__pv_it/525862feab3d8b770483239e1ff7469fec1b82cf0/expr.png\" style=\"display:inline;vertical-align:middle;\" /></a>"
      ],
      "text/plain": [
       "b < a <= c = d <= e"
      ]
     },
     "execution_count": 17,
     "metadata": {},
     "output_type": "execute_result"
    }
   ],
   "source": [
    "to_sort = [a, b, c, d, e]\n",
    "random.shuffle(to_sort)\n",
    "random.shuffle(assumptions)\n",
    "print(to_sort)\n",
    "Less.sort(to_sort, assumptions=assumptions)"
   ]
  },
  {
   "cell_type": "code",
   "execution_count": 18,
   "metadata": {},
   "outputs": [
    {
     "name": "stdout",
     "output_type": "stream",
     "text": [
      "[e, a, b, d, c]\n"
     ]
    },
    {
     "data": {
      "text/html": [
       "<a class=\"ProveItLink\" href=\"__pv_it/e5fa45dd1a3852d598a42715461297addfdefbd60/expr.ipynb\"><img src=\"__pv_it/e5fa45dd1a3852d598a42715461297addfdefbd60/expr.png\" style=\"display:inline;vertical-align:middle;\" /></a>"
      ],
      "text/plain": [
       "b < a <= d = c <= e"
      ]
     },
     "execution_count": 18,
     "metadata": {},
     "output_type": "execute_result"
    }
   ],
   "source": [
    "to_sort = [a, b, c, d, e]\n",
    "random.shuffle(to_sort)\n",
    "random.shuffle(assumptions)\n",
    "print(to_sort)\n",
    "Less.sort(to_sort, assumptions=assumptions)"
   ]
  },
  {
   "cell_type": "code",
   "execution_count": 19,
   "metadata": {},
   "outputs": [],
   "source": [
    "%end demonstrations"
   ]
  },
  {
   "cell_type": "code",
   "execution_count": null,
   "metadata": {},
   "outputs": [],
   "source": []
  }
 ],
 "metadata": {
  "kernelspec": {
   "display_name": "Python 3",
   "language": "python",
   "name": "python3"
  },
  "language_info": {
   "codemirror_mode": {
    "name": "ipython",
    "version": 3
   },
   "file_extension": ".py",
   "mimetype": "text/x-python",
   "name": "python",
   "nbconvert_exporter": "python",
   "pygments_lexer": "ipython3",
   "version": "3.7.0"
  }
 },
 "nbformat": 4,
 "nbformat_minor": 1
}
