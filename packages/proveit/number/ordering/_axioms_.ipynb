{
 "cells": [
  {
   "cell_type": "markdown",
   "metadata": {
    "collapsed": true,
    "deletable": true,
    "editable": true
   },
   "source": [
    "Axioms for context <a href=\"_context_.ipynb\" class=\"ProveItLink\">proveit.number.ordering</a>\n",
    "========"
   ]
  },
  {
   "cell_type": "code",
   "execution_count": 1,
   "metadata": {
    "collapsed": false,
    "deletable": true,
    "editable": true
   },
   "outputs": [
    {
     "name": "stdout",
     "output_type": "stream",
     "text": [
      "Defining axioms for context 'proveit.number.ordering'\n",
      "Subsequent end-of-cell assignments will define axioms\n",
      "%end_axioms will finalize the definitions\n"
     ]
    }
   ],
   "source": [
    "from proveit.logic import Forall, Or, Equals, Iff, Implies, Set\n",
    "from proveit.number import NaturalsPos, Reals, Exp\n",
    "from proveit.number import Less, LessEq, Greater, GreaterEq\n",
    "from proveit._common_ import n, x, y, z, rho\n",
    "from proveit.number.ordering._common_ import sequential_x_relations, x_relation_sequence\n",
    "from proveit.number.ordering._common_ import less_eq_relations, greater_eq_relations, n_plus_1\n",
    "%begin axioms"
   ]
  },
  {
   "cell_type": "code",
   "execution_count": 2,
   "metadata": {
    "collapsed": false,
    "deletable": true,
    "editable": true
   },
   "outputs": [
    {
     "data": {
      "text/html": [
       "<strong id=\"lessEqDef\">lessEqDef:</strong> <a class=\"ProveItLink\" href=\"__pv_it/271647cf93eb6bff1182bbf12327b09f02c7e3f60/expr.ipynb\"><img src=\"__pv_it/271647cf93eb6bff1182bbf12327b09f02c7e3f60/expr.png\" style=\"display:inline;vertical-align:middle;\" /></a><br>"
      ],
      "text/plain": [
       "lessEqDef: forall_{x, y in Reals | x <= y} ((x < y) or (x = y))"
      ]
     },
     "execution_count": 2,
     "metadata": {},
     "output_type": "execute_result"
    }
   ],
   "source": [
    "lessEqDef = Forall([x, y], Or(Less(x, y), Equals(x, y)), domain=Reals, conditions=[LessEq(x, y)])"
   ]
  },
  {
   "cell_type": "code",
   "execution_count": 3,
   "metadata": {
    "collapsed": false,
    "deletable": true,
    "editable": true
   },
   "outputs": [
    {
     "data": {
      "text/html": [
       "<strong id=\"greaterEqDef\">greaterEqDef:</strong> <a class=\"ProveItLink\" href=\"__pv_it/e6f141bf9e58f349f12d25ce5f21bbbab3e467c70/expr.ipynb\"><img src=\"__pv_it/e6f141bf9e58f349f12d25ce5f21bbbab3e467c70/expr.png\" style=\"display:inline;vertical-align:middle;\" /></a><br>"
      ],
      "text/plain": [
       "greaterEqDef: forall_{x, y in Reals | x >= y} ((x > y) or (x = y))"
      ]
     },
     "execution_count": 3,
     "metadata": {},
     "output_type": "execute_result"
    }
   ],
   "source": [
    "greaterEqDef = Forall([x, y], Or(Greater(x, y), Equals(x, y)), domain=Reals, conditions=[GreaterEq(x, y)])"
   ]
  },
  {
   "cell_type": "code",
   "execution_count": 4,
   "metadata": {
    "collapsed": false,
    "deletable": true,
    "editable": true,
    "scrolled": true
   },
   "outputs": [
    {
     "data": {
      "text/html": [
       "<strong id=\"reverseRelation\">reverseRelation:</strong> <a class=\"ProveItLink\" href=\"__pv_it/647813d29dcf041dfc6d47b23ee873e12e4c95ac0/expr.ipynb\"><img src=\"__pv_it/647813d29dcf041dfc6d47b23ee873e12e4c95ac0/expr.png\" style=\"display:inline;vertical-align:middle;\" /></a><br>"
      ],
      "text/plain": [
       "reverseRelation: forall_{x, y} ((x < y) <=> (y > x))"
      ]
     },
     "execution_count": 4,
     "metadata": {},
     "output_type": "execute_result"
    }
   ],
   "source": [
    "reverseRelation = Forall((x, y), Iff(Less(x, y), Greater(y, x)))"
   ]
  },
  {
   "cell_type": "code",
   "execution_count": 5,
   "metadata": {
    "collapsed": false,
    "deletable": true,
    "editable": true
   },
   "outputs": [
    {
     "data": {
      "text/html": [
       "<strong id=\"transitivityLessLess\">transitivityLessLess:</strong> <a class=\"ProveItLink\" href=\"__pv_it/fcfb29e576168acea8b303a9c503b3b79252282c0/expr.ipynb\"><img src=\"__pv_it/fcfb29e576168acea8b303a9c503b3b79252282c0/expr.png\" style=\"display:inline;vertical-align:middle;\" /></a><br>"
      ],
      "text/plain": [
       "transitivityLessLess: forall_{x, y, z | x < y , y < z} (x < z)"
      ]
     },
     "execution_count": 5,
     "metadata": {},
     "output_type": "execute_result"
    }
   ],
   "source": [
    "transitivityLessLess = Forall((x,y,z), Less(x, z),\n",
    "                              conditions=[Less(x,y), Less(y, z)])"
   ]
  },
  {
   "cell_type": "code",
   "execution_count": 6,
   "metadata": {
    "collapsed": false,
    "deletable": true,
    "editable": true
   },
   "outputs": [
    {
     "data": {
      "text/html": [
       "<strong id=\"lessSequenceDef\">lessSequenceDef:</strong> <a class=\"ProveItLink\" href=\"__pv_it/3f13ed02c209cc74a163d8933874df1c15d574fc0/expr.ipynb\"><img src=\"__pv_it/3f13ed02c209cc74a163d8933874df1c15d574fc0/expr.png\" style=\"display:inline;vertical-align:middle;\" /></a><br>"
      ],
      "text/plain": [
       "lessSequenceDef: forall_{n in NaturalsPos} [forall_{(x, rho) in Reals^{n + 1} * {< , <= , =}^{n}} ((x_(1) rho_(1)  ... x_(n) rho_(n) x_(n + 1)) = ((x_(1) rho_(1) x_(1 + 1)) and  ...  and (x_(n) rho_(n) x_(n + 1))))]"
      ]
     },
     "execution_count": 6,
     "metadata": {},
     "output_type": "execute_result"
    }
   ],
   "source": [
    "lessSequenceDef = Forall(n, Forall([x, rho], \n",
    "                                   Equals(x_relation_sequence, sequential_x_relations),\n",
    "                                   domains=[Exp(Reals, n_plus_1), Exp(less_eq_relations, n)]),\n",
    "                         domain=NaturalsPos)"
   ]
  },
  {
   "cell_type": "code",
   "execution_count": 7,
   "metadata": {
    "collapsed": false,
    "deletable": true,
    "editable": true,
    "scrolled": false
   },
   "outputs": [
    {
     "data": {
      "text/html": [
       "<strong id=\"greaterSequenceDef\">greaterSequenceDef:</strong> <a class=\"ProveItLink\" href=\"__pv_it/c2c633ae3e41753d965d4ad1fab7378c2276614d0/expr.ipynb\"><img src=\"__pv_it/c2c633ae3e41753d965d4ad1fab7378c2276614d0/expr.png\" style=\"display:inline;vertical-align:middle;\" /></a><br>"
      ],
      "text/plain": [
       "greaterSequenceDef: forall_{n in NaturalsPos} [forall_{(x, rho) in Reals^{n + 1} * {> , >= , =}^{n}} ((x_(1) rho_(1)  ... x_(n) rho_(n) x_(n + 1)) = ((x_(1) rho_(1) x_(1 + 1)) and  ...  and (x_(n) rho_(n) x_(n + 1))))]"
      ]
     },
     "execution_count": 7,
     "metadata": {},
     "output_type": "execute_result"
    }
   ],
   "source": [
    "greaterSequenceDef = Forall(n, Forall([x, rho], \n",
    "                                      Equals(x_relation_sequence, sequential_x_relations),\n",
    "                                      domains=[Exp(Reals, n_plus_1), Exp(greater_eq_relations, n)]),\n",
    "                            domain=NaturalsPos)"
   ]
  },
  {
   "cell_type": "code",
   "execution_count": 8,
   "metadata": {
    "collapsed": false,
    "deletable": true,
    "editable": true
   },
   "outputs": [
    {
     "name": "stdout",
     "output_type": "stream",
     "text": [
      "Axioms may be imported from autogenerated _axioms_.py\n"
     ]
    }
   ],
   "source": [
    "%end axioms"
   ]
  },
  {
   "cell_type": "code",
   "execution_count": 9,
   "metadata": {
    "collapsed": true,
    "deletable": true,
    "editable": true
   },
   "outputs": [],
   "source": []
  }
 ],
 "metadata": {
  "kernelspec": {
   "display_name": "Python 3",
   "language": "python",
   "name": "python3"
  },
  "language_info": {
   "codemirror_mode": {
    "name": "ipython",
    "version": 3
   },
   "file_extension": ".py",
   "mimetype": "text/x-python",
   "name": "python",
   "nbconvert_exporter": "python",
   "pygments_lexer": "ipython3",
   "version": "3.7.0"
  }
 },
 "nbformat": 4,
 "nbformat_minor": 0
}
