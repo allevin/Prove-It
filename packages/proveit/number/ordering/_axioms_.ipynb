{
 "cells": [
  {
   "cell_type": "markdown",
   "metadata": {},
   "source": [
    "Axioms for context <a href=\"_context_.ipynb\" class=\"ProveItLink\">proveit.number.ordering</a>\n",
    "========"
   ]
  },
  {
   "cell_type": "code",
   "execution_count": 1,
   "metadata": {},
   "outputs": [
    {
     "name": "stdout",
     "output_type": "stream",
     "text": [
      "Defining axioms for context 'proveit.number.ordering'\n",
      "Subsequent end-of-cell assignments will define axioms\n",
      "%end_axioms will finalize the definitions\n"
     ]
    }
   ],
   "source": [
    "from proveit.logic import Forall, Or, Equals, Iff, Implies, Set\n",
    "from proveit.number import NaturalsPos, Reals, Exp\n",
    "from proveit.number import Less, LessEq, Greater, GreaterEq\n",
    "from proveit._common_ import n, x, y, z, rho\n",
    "from proveit.number.ordering._common_ import sequential_x_relations, x_relation_sequence\n",
    "from proveit.number.ordering._common_ import less_eq_relations, greater_eq_relations, n_plus_1\n",
    "%begin axioms"
   ]
  },
  {
   "cell_type": "code",
   "execution_count": 2,
   "metadata": {},
   "outputs": [
    {
     "data": {
      "text/html": [
       "<strong id=\"lessEqDef\">lessEqDef:</strong> <a class=\"ProveItLink\" href=\"__pv_it/1354d2da208774bd67e2fa88d559be5a5b5fb6300/expr.ipynb\"><img src=\"data:image/png;base64,iVBORw0KGgoAAAANSUhEUgAAASAAAAAXBAMAAABZpY8SAAAAMFBMVEX///8QEBC6urrMzMxUVFRm\n",
       "ZmZERETc3NwyMjKqqqp2dnaIiIiYmJgiIiLu7u4AAAAU9Wx4AAAAAXRSTlMAQObYZgAAA8BJREFU\n",
       "SMfNV1tIFFEY/tfZ3XEujlIPIVEY9BBFtIL0qihpJIFQQXQBi9guhuxDZSXZ0gW6EQsVBELNi90E\n",
       "2UClLGpeoiiCfRIyky1IQkOkIF9E+v9zzszOnm13Y4Pqh+/snDPfOfOd819mFuB/s/SfTC5LcuQx\n",
       "s0YeWQMFyYQUdd6UKKhOIJ9tkfpKQxEy4j5dXy1R0NUic8tZy85JYf10ETLiGP6o7aXpMZIcWab6\n",
       "jsW0qW2i5onX5PWZzUCiQ4nSBAXSHFle2egLHKuK2vXUTFCzvNBqREaYd7u6TpXosVUC/jA/F/F3\n",
       "DzJfxAC0NroZL7jcQY4f0ehYiYJ2CJwcPDHEPaedj/FbUztAXQDoY4NtXBSE0Clqf0vvTmkdH7mP\n",
       "eXh/ocwucO8Kh2Wb4wGWrcaY60B7HRizADdBuIu5rdzBh8NbZxl1tl8gOyeRESvByj1J7dL57XzP\n",
       "4ezxTn9vEYeOy2nkKf29F0mJ3RDGVFkBIpYbWcxheNnwHK5JYecjIyrAcLIJ09t2QdLWP+cK0i5n\n",
       "hfA3DguCPE0n93oBCkuhEndUz3oVYs+VNVSIm3Oi2UdGGE5FdqIYe3tmUJD5NS0LMi9nryQE4dZF\n",
       "7tdd9KQvQH3EFRRK6I4rCPDpOf7IkBFWnGptf+MgDpUNYxq/IA4KmvYJ0gfXNIFxhVX/di97qwXg\n",
       "dES8go6Oi1uhODwE12VqvIKXCSov6nc8ErTdH8hGJTJhP/pXTzcTe7oyVgtxLii02ueygWB7tfaO\n",
       "nW9yTqkSTz3MYcaegyFOeeo9vyhvg33484qPNvF3UxjP6SWG7zO5RmfIhBspyiW2+561MKyw6prc\n",
       "ujnhE1SDCWLdoRNXP6UMt7CLPL3t7IFuz6080UINZfOCQaVxgp9zG2jz4SpVLu4+cp8XAHPs1iZo\n",
       "VUaj0Q5I3n0a8Qd1JdYRa5g0Bu2gu+BajsmRqf5MXmhn2UF2DNGKZ7wjYCUkheMDD57mRHWGTDBp\n",
       "S0qVwhN5sdXAXXZtwC+oFkjfowTlbsAtxoEYxy9NT7mvDlxdOHQJFCG7E6Bej+twPAaLy2ahhQvS\n",
       "pzKClNl7wDz5yoFAZJ30OvyVbYaPKF6XnPMaipC9CZOPdw5AvQPXh+MwWUOF8dLMhk5PkNVxY4Rv\n",
       "8hZorQd+4/NjDA5h+0WO3nQRsjTBUWMUH3cwhjwLy7O7oNW7PiKQa71DlAEt8qdJQxFy9gQlFrZX\n",
       "yeQcQYd872zKFzX/J6wRkUe6oSBZmmCC9sTOL0iLonVC78i//RMQ/MvP+wl7RQqPwXsWbQAAAABJ\n",
       "RU5ErkJggg==\n",
       "\" style=\"display:inline;vertical-align:middle;\" /></a><br>"
      ],
      "text/plain": [
       "lessEqDef: forall_{x, y in Reals | x <= y} ((x < y) or (x = y))"
      ]
     },
     "execution_count": 2,
     "metadata": {},
     "output_type": "execute_result"
    }
   ],
   "source": [
    "lessEqDef = Forall([x, y], Or(Less(x, y), Equals(x, y)), domain=Reals, conditions=[LessEq(x, y)])"
   ]
  },
  {
   "cell_type": "code",
   "execution_count": 3,
   "metadata": {},
   "outputs": [
    {
     "data": {
      "text/html": [
       "<strong id=\"greaterEqDef\">greaterEqDef:</strong> <a class=\"ProveItLink\" href=\"__pv_it/b705a034c975d36361e3ac11267a5459fdfb6abd0/expr.ipynb\"><img src=\"data:image/png;base64,iVBORw0KGgoAAAANSUhEUgAAASAAAAAXBAMAAABZpY8SAAAAMFBMVEX///8QEBC6urrMzMxUVFRm\n",
       "ZmZERETc3NwyMjKqqqp2dnaIiIiYmJgiIiLu7u4AAAAU9Wx4AAAAAXRSTlMAQObYZgAAA7xJREFU\n",
       "SMfNV11IFFEUPruzu+POrqPkQ0QUG0REIa0gvSpKGokg9ENkhllsqSH7UNkP2hJFISGCCYIPzYta\n",
       "ScsGKmV/8xJFIeyTD1KyBUmsIVKQLyKdc+/M7HjX3Y0NqgPfnZ2Z79755vzdWYD/zRJ/MtkZ48hg\n",
       "/oB4ZTdkJRPidPI+T0HlBjLZQeFcqsxBRjyg3715CurNMbeAjcxPEjtP5CAjLuJBbs5Pjy/GYdr5\n",
       "oBgGjcZqGp5ZQ8aYaQwk2t2XnyBHgsOKSEhIGrWYxr00zNGwNdtqREb4Rzs7u/KM2E4Dlsn7hVdr\n",
       "ZbEIA3gbqAYiWZdr5fgZCs3mKeiYgSvjlyd45NRHOr+VPAbyKsAw/SYxJArcGBR5rHaoUVjHRh5m\n",
       "ET6TrbKz3LvDoWr+D4644fcXUXbU9oBvCWAQjHCxsBWg2iRM61vo5OhtshsCGbEd1HRPentuHuXv\n",
       "7EldqxVZGzgUXM5r5fP0CcqmvibwYKlsAyOXq1jOYYpp8Ar6hWZgIyMKwaevJSwcPg4xTfkiCIIL\n",
       "1YKg7xwquGxlWn6LHAWboQjfqIJdKjTeuShAjbgmLZttZIRPL1zbHXwt3YsoyP8tIQhKU2QIwldP\n",
       "1f6OU9ydq1ARNAW5+xTdFAT49LR4pMgINUK9dqxqHC85J7GMXxMHBS3YBCnju0lMsgW7f7NVvZsM\n",
       "wLWguQUNGnF1R+AxmCGTI4W8TVANyj/QJWhNH8lmBDLhDMZXSdQQe6EoXAYRLsi9yxayqKuZPTnZ\n",
       "q8aWpWJD0DkOf/gV+Lig6ajZdhvgNB7e8rNqvjd50E9vMH1fij06RSYMxKmWqGKguxQmJdZdY4fq\n",
       "+2yCAgU8z57o8ue4z8wYo07v6SfhKi9661HuSueKwaDWOMf93ADeFU+xLG7HNvKwlQDL7NYBqJNm\n",
       "QqF2iI0+D9qTuoj6iDqCIl2ay1ywlGN+KjnG9HalqkNtn6AVr1suYC0kjtejD5+nZXWKTPCTt6Vi\n",
       "iRdyiVrJQ9YftQsqgyDqCbDadZgl7ghzrGtK3Nw6cHUjwzZCDrI5ASqUiAKXwlDiXIJaLkhJpgRJ\n",
       "S/dBU4+wInEE9wjb4XpWD5/Qm4oQnHeQg2xNmH/aGIUKHe5ORmA+QI2xZ3FfhyVIbR+YSji5Y7x1\n",
       "Z3/j82MW2nD8KmZvIgdZmKDLYcqPEcwhyzzi7E6oS31vGEi3oQlyp9jb5coc5LUTpLBH2ymS0wS1\n",
       "2fZsqhc58yesT/w+4sWYmSxM8IP3mZZZkDeE1gFDU//2T4DrLz/vFy10CNfldYQ/AAAAAElFTkSu\n",
       "QmCC\n",
       "\" style=\"display:inline;vertical-align:middle;\" /></a><br>"
      ],
      "text/plain": [
       "greaterEqDef: forall_{x, y in Reals | x >= y} ((x > y) or (x = y))"
      ]
     },
     "execution_count": 3,
     "metadata": {},
     "output_type": "execute_result"
    }
   ],
   "source": [
    "greaterEqDef = Forall([x, y], Or(Greater(x, y), Equals(x, y)), domain=Reals, conditions=[GreaterEq(x, y)])"
   ]
  },
  {
   "cell_type": "code",
   "execution_count": 4,
   "metadata": {},
   "outputs": [
    {
     "data": {
      "text/html": [
       "<strong id=\"reverseRelation\">reverseRelation:</strong> <a class=\"ProveItLink\" href=\"__pv_it/20d54e5ebaa2a99cb5f5dfdffe77c5033b3d27e10/expr.ipynb\"><img src=\"data:image/png;base64,iVBORw0KGgoAAAANSUhEUgAAAOIAAAAWBAMAAAAvPV3rAAAAMFBMVEX///8QEBC6urrMzMxUVFRm\n",
       "ZmZERETc3NwyMjKqqqp2dnaIiIiYmJgiIiLu7u4AAAAU9Wx4AAAAAXRSTlMAQObYZgAAAy5JREFU\n",
       "SMe9Vl1IFFEUPs64O7s747hlEBHEBj0IERpE1NOK0g9FIBUUhvRDrPTzMA+WlpSL1EMQsg8GQg/O\n",
       "i0SIMpFKJeXSUxTBvkSwKY0vEkogBfVQSPfec2Z2xr1jT3Xgm733nnt+77nnLsB/JzeKoTiIKHot\n",
       "Xd0ZLWBkECU+eSfZsIcQRbFmyaLaso7ECcRjPh6U8Acj1n3KS9YS7joCCcR19qOdq2brDiJM1wKB\n",
       "vZUonakMtbaqtNoC3KtYoVq2xkWEMz0QmCxUYlXbabwtwN97YY20mRYwHvX03JJ420gIrYXcjhf8\n",
       "ZEAXVVso09331shfQvzI5coSix2Em5M3pii5w6fI11Eb+l1IYWD7+KeXqonlbakDtFWcLs2RMlIy\n",
       "CgJtvochuo8wbWOuRtQzvJwgVkpZgVmApAhI3TDP6DPWWKIIYDeBvkI7l8viXDwlwyCwA0xZ1W1E\n",
       "pJh4UpTLuF9G+2MlyLEUpvnkGZ51Y0YcfgbUQifE/Uo0PnC2p2Q7CNSBXpRY/IYwoRbFzVzGbxo1\n",
       "Dvxi0fFIFki5tol/6zNMYCvU+86phy2oKMki9GKdG22R+e14wn5Fj7jqd7JoHsClXocsQnIVst4d\n",
       "UnI0QiVk0czzzjLWOsmYyrR/I7YQoL+ZOqHW6eXiNOhpL6vJeUEfUTFzKpaHJ7QveceiESqhrEJX\n",
       "K8u0e5DvXq63dtOeqwjDmgWdnDDHX+HgLsRZNzPw+If45yuqjjOfEu1wkQ6xTIKekjeAeMCqSBG1\n",
       "Cbd3wTRZpEoeKZ6HPj/V77FcT0ITU023Q7SPVqpithRrUX7j3fjknZanhHRSjn8K3hE4Srt2IRZf\n",
       "LI0FCmtYnMvizFkWUwJLiVe61yYV5rx5ZUro0uZ8KU/JAMHgrqhpFe9Eg9flLIScxgNdjjlhetFs\n",
       "FpGW5ELU5ZCyqXwKei1oUFbCbVdGtSWT19SYhMW6+zFYKMgtphwExv38zARkizA0nf/7a1Vnx22Q\n",
       "9w32LpThckRivhACVNSsWv/ydhOqKTlznEcqS7nWAg+nMhEWDxECD7gVtyvPheYgouipdLUvWkBv\n",
       "RgRfTOa9/c//WP0BkLHfzBa72qwAAAAASUVORK5CYII=\n",
       "\" style=\"display:inline;vertical-align:middle;\" /></a><br>"
      ],
      "text/plain": [
       "reverseRelation: forall_{x, y} ((x < y) <=> (y > x))"
      ]
     },
     "execution_count": 4,
     "metadata": {},
     "output_type": "execute_result"
    }
   ],
   "source": [
    "reverseRelation = Forall((x, y), Iff(Less(x, y), Greater(y, x)))"
   ]
  },
  {
   "cell_type": "code",
   "execution_count": 5,
   "metadata": {},
   "outputs": [
    {
     "data": {
      "text/html": [
       "<strong id=\"transitivityLessLess\">transitivityLessLess:</strong> <a class=\"ProveItLink\" href=\"__pv_it/74751ebb027435573a3a577df6aafa332e83cd4e0/expr.ipynb\"><img src=\"data:image/png;base64,iVBORw0KGgoAAAANSUhEUgAAANEAAAAXBAMAAABnpbd1AAAAMFBMVEX///8QEBC6urrMzMxUVFRm\n",
       "ZmZERETc3NwyMjKqqqp2dnaIiIiYmJgiIiLu7u4AAAAU9Wx4AAAAAXRSTlMAQObYZgAAAsVJREFU\n",
       "SMe9VU9IFFEY/+2+ccfdWWcXPVREsUKHYotWEuwShoWFQgiBh7wsFRrZYYjKIpLFCglCgrJDXoYu\n",
       "/RFkIRPSqCGQoD+wx9AOGmRkl40gLx76vjczu7NrIwZDD3Z/7/t9M+/3vj/vDfDfxkJwS6X9XW/o\n",
       "V+DJ+yCExEF/X00GeMKTkSCUatdLTw64RKBmg1CaqSbU4+X5O3snNXeCUNpenc2jqbKxCMQfDQxc\n",
       "C0IonKuyb2Q8VoSC+d3bOxeEUo1J+Ro/MtZjm9GbhuNorFfziHUBh4A+v23+U0NYwDI+Wtukpc25\n",
       "/aGee95NwhTxDug5n5cjlebgmge8TIiqYuI17rIRmy/xOvRjtOkkUAfN2pDS1zWhVzCJFF8D7bax\n",
       "dNLjucDtUaQ4rbqFjSgtD1W7K5mE7LStjtV8q1yDLkdJzzXTbLxtklolPIUQyx4YuVJWik2mqZYa\n",
       "v5rOyl62QTLi0zfniIQY1V+ULTkufnaVHkg5yh762mi1hXZ+8kfCaGK+bdYsK00o2S3QbnPK8ysi\n",
       "6YJkoOw+4SaAavBWK+KVG/G8naqoCYUOE/fCaIG7TL43uAdT0v3dk70UdZWQFVa/FLSsA8Kpue6e\n",
       "eurj6GokSR3tjLjdfvtnPwxJL4UtfSvS24FOuWTKW6eEAb1bMoqp5B1wGJwvlaMAvX/i6cty5aLX\n",
       "+b8r/pM2U8tPx1laJAXT9Whg2IcWj1ITMiSVkZ0cKoHNiIxwT+im9U7bojtpjeViuGygIVwkEB27\n",
       "siUlUXwMPv6HacVQZi/UYQkO0/zwvucS9R/j7mTpRc8EWi3cm8oRaOHNRklJ7x+dllGfNhDtPAOx\n",
       "KsFh8o3DG/lqVF8OlmpwHay/n1xxCgNcxrgNNuP9SKzzJVSMyqWMiLmTwec2As7yhd1iw9px1V/p\n",
       "WaUZR3TGZPBVGpvmyG0IdChBLvYHKNSmqHkQYdkAAAAASUVORK5CYII=\n",
       "\" style=\"display:inline;vertical-align:middle;\" /></a><br>"
      ],
      "text/plain": [
       "transitivityLessLess: forall_{x, y, z | x < y , y < z} (x < z)"
      ]
     },
     "execution_count": 5,
     "metadata": {},
     "output_type": "execute_result"
    }
   ],
   "source": [
    "transitivityLessLess = Forall((x,y,z), Less(x, z),\n",
    "                              conditions=[Less(x,y), Less(y, z)])"
   ]
  },
  {
   "cell_type": "code",
   "execution_count": 6,
   "metadata": {},
   "outputs": [
    {
     "data": {
      "text/html": [
       "<strong id=\"lessSequenceDef\">lessSequenceDef:</strong> <a class=\"ProveItLink\" href=\"__pv_it/2ae4b3e7faf60b2488993bbbd759f4a2e3880bba0/expr.ipynb\"><img src=\"data:image/png;base64,iVBORw0KGgoAAAANSUhEUgAAAxQAAAAZBAMAAABa23XhAAAAMFBMVEX///8QEBC6urrMzMxUVFRm\n",
       "ZmZERETc3NwyMjKqqqp2dnaIiIiYmJgiIiLu7u4AAAAU9Wx4AAAAAXRSTlMAQObYZgAAB65JREFU\n",
       "aN7tWmtsVEUUPt1Ht/u6NJLYiI8sEY3aqKvRYiDGBopFCWajRXmIqZgsGsQsyYYiFVgfCCLBJljS\n",
       "pBI2BgRtQ65SDIEGbopVUsQ0kWAklFx+QJqWRwNRYoLEmTkzd+9jtneXdIk/epJvd7p75sy5882c\n",
       "OXO2AK6yfCAF41Ji8QycLkCrf3yiboekQS+ACuW2rAsVMcYSiTk/q+YoVHoKVawuzrceEwgVbM0f\n",
       "H52KKHsmtbRUPMUx1vKK4xNvLaJg8ccL0yvKKLcrQKj4ln62ZXQqQi3krUIvLRVb3Py4RalwfqIX\n",
       "+zQZ/r5W/nVAzxmGYu0KpGElNdU4OhXs+5WlZSKsIsY+QmXtnxziKFz6+Pv6PGwncoaLtiuQZkz6\n",
       "W1yObbpaF5SWijIdMeaiVNo/uY+jcDnHA9ByuYM1Z3OGi7YrkIbI7qamNW4ZVF9TU1OJE6mHOMZe\n",
       "3rHnBxlEEVKOa9VXLd+2Mw4ZhqFouwJpgL+TydNuVExIJpdnS0vFQo7VXe/vFw/c2iU/L806OaVA\n",
       "R337Ion2LvthmUVIh5IbCWEEGpQn9komahi29nfzjdoVIFTMBFgqsZ81U+GLQzm55wXMMxOUdArR\n",
       "l5duiYrNCCUbOVPGH9if8Eq3vFnHpDQEJ7R7Jept9GX+RiqfsMiuIaRDyY0Ecb13yqN0SMMIT41a\n",
       "+rv6Ru0KECqmEFYl9hNmKjy1ZEWQZWTJ3CTbxE8wrcqUWnTmv0bYvroDEYLwSDAOXpoonADlH2zZ\n",
       "CWc6KEyJL54jsNWaXLK+k+2nUgwhHYobqbHa8FTymVgle5QoBDLCsMUJV9+oXYE0NRTWzCrrX4bv\n",
       "37BRQdBNXq2z8jVndtP6+aqJCvgjp7IiZUn2YJvp2PMnILKg28jEryIU8JFRvA100HvAewNbtl3B\n",
       "dLhQJWzp8Lx1z/K+z9m6T4ghpEOhkafnWm14R/jNyieLmMdZaEGjFidcfaN2BQgVYS1qTNDwvNfh\n",
       "55Ae0u1UdANJEoLWQ2uQd1CzofPQ2/6ThIo2nLpXeRGr7bB1cwZ/hEobFWRt0VGCdCvehPA11nKm\n",
       "W4YnqMTlbtOBCNxKfiryDMWMbLfaQCrIPEkvcWf53RSN5pxw981GhZIx7rjhJWsvw69qIqQ31J2s\n",
       "azFRMUh9KLeWBckKYR3UbOSi3t5YBv66uXUvIBUPkzUU51Qoe3jt4Zhqj5MzA0ZsvIsD1sXJGqKO\n",
       "+vuholJOBdPBvcWUeDi8livRmKhgAWrxAJVTjIAWhHwoNGKjAgNUK8EGScAnq7YixQ2bnXD3zRag\n",
       "YOkMMm+LqncC9FKdo1ubnbuiPE0DLImvXdVsLw7tj9ELGetAqBjWffFV5l1BzrFesSsOcE4PaI4j\n",
       "qz/cI3bku4hI6giEcX6iCVjXwqdTwV2ODdRBl5kSNn8Jj8Bh6P3hYK2VimP2DFJDSIdCI3YqImzF\n",
       "bOB0GI7geqA0UDqYUbMT7r5RuwKUilby4cXHtWgc7/dHQxenOagILiYvzwDs9TWypfsxuTiRszyD\n",
       "VPgfISdO92PmALUgkuBUCAa2i102m+YyKqVCaYx0mlNOgh3am9CMjl5phM/FdF4hr8q/vIE66DJT\n",
       "Ys3gjfLKgKr03IDfrVTsypNByoZCIw4qWDLLDlqathqOsAYe8VzL4oS7b7ZklkXMtQdgQgpzoqOQ\n",
       "3emggoW6KQCxCg2fRrkO3gx2UBvmtsAF6NOQiumT6Jz7Z9GvXgR4VkSloSW2w7fK8uejiAsHhzo0\n",
       "dHTHtK6YmM5zZBqUO3kDdZjLqMSayrK933VDYDgD161UfGTP3foRsqHQiIOKChpifTFenzEcYQ2Y\n",
       "IWoeHtGfO+HuG7UrQKmI0G02h4RU76lkchmh4oNLTip+I/iSHk3svIjGPCOUCtZB3d0dN2dQeOyc\n",
       "obdnsh3PGwwM2669kxOWkziF4NGLDDofctMpE+oyV5qTy1h9Kgm8szd+yDZev7TwUcUxylDbwWKD\n",
       "FT487BtnzT1mfFllcaIA36yFDy4TYZ5HqcVd4ZlOqEhZqaDyIMETQKf9ih6qBU8jdlCzW/eKw8no\n",
       "1Otr4dfn828Z9HzG3t7GAGXbFbRql6vcUUcnuVBBXeZKrMkpjfsTMUsQUPMV4UYZyrYrOoqrGnIn\n",
       "3H3rMEFQERiBifdDPVIBfbqt8IFyiSRdeyAb2AA7YE2KTlw9UhEacpRDE+xiyo7tNNEKsMwjspk3\n",
       "ZBUbS5GcOBq4OjoVzGVUQu95cgVlT8bNjzvoUiSXDmWlQimwuGQYZU64+0btChhUeBphoQYXCGWe\n",
       "T2PgAykVUV1Z1npQJ9eWho7XSDSKsQ7BTZsuz3rP5tQD+HsI3itq6sVVJ6iLO49RTDAkbV4Ze/5S\n",
       "Pf2ilee6Tl1GJfRebF1/J59G7FvvJLEWkX+o1V8sMtvwFfjjvmGUOeHuG7UrkAtQKN+Q0C8rB/IA\n",
       "w3OgCPwpfpORdrBf8aAmTvqI/ZKPCpq4BMbsB4tyw2nJ/biZo1Ab+wodtbk43/aZYKciX2WW5zy8\n",
       "3DBVuUnf2t27thmtqY5GMAMlFN//xEbhdouiAr7CN83LZrHWvesKY2drsC1JRAfNVIMalyKpGDD+\n",
       "Dypi3uyhAn5yC+RPPTzd47Nvno6Bk/8Bq+rr6Fu+h4QAAAAASUVORK5CYII=\n",
       "\" style=\"display:inline;vertical-align:middle;\" /></a><br>"
      ],
      "text/plain": [
       "lessSequenceDef: forall_{n in NaturalsPos} [forall_{(x, rho) in Reals^{n + 1} * {< , <= , =}^{n}} ((x_1 rho_1  ...   x_n rho_n x_(n + 1)) = ((x_1 rho_1 x_(1 + 1)) and  ...  and (x_n rho_n x_(n + 1))))]"
      ]
     },
     "execution_count": 6,
     "metadata": {},
     "output_type": "execute_result"
    }
   ],
   "source": [
    "lessSequenceDef = Forall(n, Forall([x, rho], \n",
    "                                   Equals(x_relation_sequence, sequential_x_relations),\n",
    "                                   domains=[Exp(Reals, n_plus_1), Exp(less_eq_relations, n)]),\n",
    "                         domain=NaturalsPos)"
   ]
  },
  {
   "cell_type": "code",
   "execution_count": 7,
   "metadata": {},
   "outputs": [
    {
     "data": {
      "text/html": [
       "<strong id=\"greaterSequenceDef\">greaterSequenceDef:</strong> <a class=\"ProveItLink\" href=\"__pv_it/205cbf175a42b523644907eb8e5cd6eef966720c0/expr.ipynb\"><img src=\"data:image/png;base64,iVBORw0KGgoAAAANSUhEUgAAAxQAAAAZBAMAAABa23XhAAAAMFBMVEX///8QEBC6urrMzMxUVFRm\n",
       "ZmZERETc3NwyMjKqqqp2dnaIiIiYmJgiIiLu7u4AAAAU9Wx4AAAAAXRSTlMAQObYZgAAB7JJREFU\n",
       "aN7tWmtsVEUUPt1Ht/u6NJLYiI8sEQnaqKtRMPDDBgpFCWajJfIQUokWDWKWZEORCqwPLKkEm2AN\n",
       "SSVsCC9tQ65SjIFVbopVUsQ0kWAklFx+QJryaiBKTJA4M2fm7r13Z3vvki7xR09yupO7Z858d745\n",
       "Z87MFsBRVg0kYUxKLJ6BMy6s+scm6m5ICnQXVCh3ZV2oqKMskVj+s2qubqXHrWF1cdh6TEqoYGv+\n",
       "xMhURNk7qaWl4hmuoy2v5D3x1qC6Fn/cnV1RTrlfoYSKr+izrSNTEWojHxV6aanY6oTjDqUi/4le\n",
       "7Nuk+ecG+dcBPecYivUrNAVrqKuGkalg368pLRNhFXX0M1TG/uQIV/fSxz83FWA7kXNctF+hKcak\n",
       "v81h26ardVFpqSjTUUddlEr7k4e4upfzPAGtkgOcei7nuGi/QlMQ2dfUtN6pgupramoqcSE1hevo\n",
       "y9v2+iCNWoSU41r1VcvDduYRwzEU7VdoCuDvxsYzTlSMa2xclSktFYu5rut+75B44fZu+X5ptskZ\n",
       "BTrrOpZIrPfYN8sMqnQouZMQZqBBeWGvpKOGY2t/J2zUr1BCxSyAFRL/GTMVvjiUk3NewDwzQUmn\n",
       "EP3z0h1RsQVVyUTOlvEX9ie80pA325iMhuCk9qDEfDv9s3AzlY9ZZtdQpUPJnQRxvXfJs3RIwwxP\n",
       "nVr6O2KjfoUSKiYRViX+E2YqPDVkRZBlZKncJGHiJzq9ylRadBU+Rti+ugc1BOHhYBy8tFA4Cco/\n",
       "2LITzmxQmBFfPEdhm7W4ZH0n2nelGKp0KO5kqtWHp5LPxFrZq0QhkBaOLSAcsVG/QlPUUVgzm2x6\n",
       "Gb5ZZqOCaJb8tc7KLs5s66aFqokK+CNnsjoJTaL9ue36xJ+AyKKsUYlfR1XAR0bx1tNBHwDvLWzZ\n",
       "ooLZcKFG2NJhjjVmed/nbd3HxVClQ6GTZ+dbfXiH+cnKJ8uYJ1hqQacWEI7YqF+hhIqwFjXqgksL\n",
       "XoOfQ3pIt1ORBVIkBK2b1iDvoGZCF6C34ycJFSQ3rFkmIqQ+bg/O4HdQaaOCrC06SpCG4m0I32Ct\n",
       "/HLLQIJGXO43bYjAvRSmosBQzMkOqw+kgsyT9BB3jp9N0WkOhDM2GxVK2jjjhpdvuAq/qomQXl97\n",
       "qrbNRMUgxVBuXddkhbAOaiZyWe9oKAN/7fzaF5CKR8kaimOannJAzgXNj7MCRm68jytsjJM1RIH6\n",
       "+6GiUk4Fs8HYYkZ8gBu5KxoTFSxBLR2gcpoR0IYqHwqd2KjABNVOtEWS8MmqrUhyx2YQzthsCQpW\n",
       "zCTztqR6N0AvtTm2rTk/KspTNMGS/NpdzWJx6FCMHshYB0LFJd0XX2uOCrKP9Yodc7tYwsremI2K\n",
       "/nCPiMh3UCPJoxDG+YkmYGMbn04FoxwbaIOQmRE2fwkPw4/Q++3hGisVx+0VpIYqHQqd2KmIsBXT\n",
       "wukwgOB6oDRQOphTMwhnbNSvUEpFO3l4+UktGsfz/bHQ5el5VASXkj/PARzwNbCl+xE5OJG9PI1U\n",
       "+B8jO072CXOCWhRJCCrguNiLlP0U+1xay6iUCqUh0mUuOYnu1F6HZgR6rQE+FdN5jfxV/uUNtEHI\n",
       "zIg1g7fKKwOq0nMLfrdSsadABSkbCp3kUcGKWbbR0rLVAMIauMVzKwsIZ2y2YpZlzA3fw7gk1kTH\n",
       "ILM7jwqW6iYBxCo0fBvlJnjT2EGtn98GF6FPQypmTKBx6p9Nv3oRPfzAM1t4i3nzrbJM0OOoFw8P\n",
       "dWoIdOf07piYzvNkGpR7eQNtGGQ0Yk1l5YGvsxC4lIabVio+tNdu/aiyodBJHhUVNJx9MX4/YwBh\n",
       "DZgp7jw8oj8H4YyN+hVKqYjQpTqPpFTv6cbGlYSK96/kU/EbrYHo1sRmNRrzDFMqWAd1XzZurqBw\n",
       "1s/SbQI3OU8rL66t596JCctOnETl2YsMuhBy0ykTCpkbzctVrD6VJN65mz9ggdcvvfio4jrCUDvA\n",
       "4oNdfHjYN/l37jHjyyoLCBfYrBcfXMbDAo9Sg1HhmUGoSFqpoDKZ6FNAp/2aHqoBTwN2UDPbjJ3Z\n",
       "6NTra+PHZ/C+ifvB0HL86i1MULaooLd2uZs7CnSCAxUUMjdiTU5p3J+IWZKAWugSboShbFHRWdyt\n",
       "IQfhjK3TpIKKwDCMfxjqkAro020XHyhXSNG1HzKBFtgJ65N04uqQitBQ3nVogh1M6V7hfYOe01vg\n",
       "AmMi0GK+Cip4SU6ABq6PTAWDjEaInhdXUPZ03Py6gw6X5NKhrFQoLi+XDKcMhDM26leoQYWnARZr\n",
       "cJFQ5vkkBj6QUhHVlZXth3VybKnvfJVkoxjrEGxtvTr7XRuoR/D3EEJFYA6NL9IH8Ygzj3GZYEjK\n",
       "vDL2/6V6+kWrwHGdQkYjRC9C19/FpxH71uWTWINaeKh1ny0x+/C5/HHfcMpAOGOjfoXmEhTKXpL6\n",
       "ZdeBPP/zk0YE/hS/yUg7WI54k+O8j4iXQlTQwiUwaj9YlBugJefjZq5ufRx0O2pzcdgOmtRORaGb\n",
       "WV7z8OuGacpt+tHh3HW70ZqW1wimoYTi+5/4cO+3KCrgS/zQvGwWa5y7rjYiW4MvGonooJnuoMak\n",
       "SCoGjP+DipiDPeTiJ7dA4dLDkx2bffN0DJz6D35/6N+AhVSLAAAAAElFTkSuQmCC\n",
       "\" style=\"display:inline;vertical-align:middle;\" /></a><br>"
      ],
      "text/plain": [
       "greaterSequenceDef: forall_{n in NaturalsPos} [forall_{(x, rho) in Reals^{n + 1} * {> , >= , =}^{n}} ((x_1 rho_1  ...   x_n rho_n x_(n + 1)) = ((x_1 rho_1 x_(1 + 1)) and  ...  and (x_n rho_n x_(n + 1))))]"
      ]
     },
     "execution_count": 7,
     "metadata": {},
     "output_type": "execute_result"
    }
   ],
   "source": [
    "greaterSequenceDef = Forall(n, Forall([x, rho], \n",
    "                                      Equals(x_relation_sequence, sequential_x_relations),\n",
    "                                      domains=[Exp(Reals, n_plus_1), Exp(greater_eq_relations, n)]),\n",
    "                            domain=NaturalsPos)"
   ]
  },
  {
   "cell_type": "code",
   "execution_count": 8,
   "metadata": {},
   "outputs": [
    {
     "name": "stdout",
     "output_type": "stream",
     "text": [
      "Axioms may be imported from autogenerated _axioms_.py\n"
     ]
    }
   ],
   "source": [
    "%end axioms"
   ]
  },
  {
   "cell_type": "code",
   "execution_count": null,
   "metadata": {},
   "outputs": [],
   "source": []
  }
 ],
 "metadata": {
  "kernelspec": {
   "display_name": "Python 3",
   "language": "python",
   "name": "python3"
  }
 },
 "nbformat": 4,
 "nbformat_minor": 0
}
