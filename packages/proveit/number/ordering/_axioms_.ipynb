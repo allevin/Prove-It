{
 "cells": [
  {
   "cell_type": "markdown",
   "metadata": {},
   "source": [
    "Axioms for context <a href=\"_context_.ipynb\" class=\"ProveItLink\">proveit.number.ordering</a>\n",
    "========"
   ]
  },
  {
   "cell_type": "code",
   "execution_count": null,
   "metadata": {},
   "outputs": [],
   "source": [
    "from proveit.logic import Forall, Or, Equals, Iff, Implies, Set\n",
    "from proveit.number import NaturalsPos, Reals, Exp\n",
    "from proveit.number import Less, LessEq, Greater, GreaterEq\n",
    "from proveit._common_ import n, x, y, z, rho\n",
    "from proveit.number.ordering._common_ import sequential_x_relations, x_relation_sequence\n",
    "from proveit.number.ordering._common_ import less_eq_relations, greater_eq_relations, n_plus_1\n",
    "%begin axioms"
   ]
  },
  {
   "cell_type": "code",
   "execution_count": null,
   "metadata": {},
   "outputs": [],
   "source": [
    "lessEqDef = Forall([x, y], Equals(Or(Less(x, y), Equals(x, y)),LessEq(x, y)))"
   ]
  },
  {
   "cell_type": "code",
   "execution_count": null,
   "metadata": {},
   "outputs": [],
   "source": [
    "greaterEqDef = Forall([x, y], Equals(Or(Greater(x, y), Equals(x, y)), GreaterEq(x, y)))"
   ]
  },
  {
   "cell_type": "code",
   "execution_count": null,
   "metadata": {},
   "outputs": [],
   "source": [
    "reverseRelation = Forall((x, y), Equals(Less(x, y), Greater(y, x)))"
   ]
  },
  {
   "cell_type": "code",
   "execution_count": null,
   "metadata": {},
   "outputs": [],
   "source": [
    "transitivityLessLess = Forall((x,y,z), Less(x, z),\n",
    "                              conditions=[Less(x,y), Less(y, z)])"
   ]
  },
  {
   "cell_type": "code",
   "execution_count": null,
   "metadata": {},
   "outputs": [],
   "source": [
    "lessSequenceDef = Forall(n, Forall([x, rho], \n",
    "                                   Equals(x_relation_sequence, sequential_x_relations),\n",
    "                                   domains=[Exp(Reals, n_plus_1), Exp(less_eq_relations, n)]),\n",
    "                         domain=NaturalsPos)"
   ]
  },
  {
   "cell_type": "code",
   "execution_count": null,
   "metadata": {},
   "outputs": [],
   "source": [
    "greaterSequenceDef = Forall(n, Forall([x, rho], \n",
    "                                      Equals(x_relation_sequence, sequential_x_relations),\n",
    "                                      domains=[Exp(Reals, n_plus_1), Exp(greater_eq_relations, n)]),\n",
    "                            domain=NaturalsPos)"
   ]
  },
  {
   "cell_type": "code",
   "execution_count": null,
   "metadata": {},
   "outputs": [],
   "source": [
    "%end axioms"
   ]
  },
  {
   "cell_type": "code",
   "execution_count": null,
   "metadata": {},
   "outputs": [],
   "source": []
  }
 ],
 "metadata": {
  "kernelspec": {
   "display_name": "Python 3",
   "language": "python",
   "name": "python3"
  }
 },
 "nbformat": 4,
 "nbformat_minor": 0
}
