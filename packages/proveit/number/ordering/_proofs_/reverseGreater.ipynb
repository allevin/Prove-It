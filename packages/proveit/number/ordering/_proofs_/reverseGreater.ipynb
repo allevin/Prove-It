{
 "cells": [
  {
   "cell_type": "markdown",
   "metadata": {},
   "source": [
    "Proof of <a class=\"ProveItLink\" href=\"../../../_context_.ipynb\">proveit</a>.<a class=\"ProveItLink\" href=\"../../_context_.ipynb\">number</a>.<a class=\"ProveItLink\" href=\"../_context_.ipynb\">ordering</a>.<a class=\"ProveItLink\" href=\"../_theorems_.ipynb#reverseGreater\">reverseGreater</a> theorem\n",
    "========"
   ]
  },
  {
   "cell_type": "code",
   "execution_count": 1,
   "metadata": {},
   "outputs": [],
   "source": [
    "import proveit\n",
    "context = proveit.Context('..') # the theorem's context is in the parent directory"
   ]
  },
  {
   "cell_type": "code",
   "execution_count": 2,
   "metadata": {},
   "outputs": [
    {
     "name": "stdout",
     "output_type": "stream",
     "text": [
      "Beginning proof of reverseGreater\n",
      "Recorded 'presuming' information\n",
      "Presuming previous theorem (applied transitively).\n"
     ]
    },
    {
     "data": {
      "text/html": [
       "<strong id=\"reverseGreater\">reverseGreater:</strong> <a class=\"ProveItLink\" href=\"../__pv_it/01624327ee94018b9bea52905de1303050e699ad0/expr.ipynb\"><img src=\"data:image/png;base64,iVBORw0KGgoAAAANSUhEUgAAAKEAAAAXBAMAAACR7DLtAAAAMFBMVEX///8QEBC6urrMzMxUVFRm\n",
       "ZmZERETc3NwyMjKqqqp2dnaIiIiYmJgiIiLu7u4AAAAU9Wx4AAAAAXRSTlMAQObYZgAAAk1JREFU\n",
       "OMutVE1oE0EU/rLbzXaTNAn24KEoOYgURKzQe0KFKIpQ8GZRRGoLetmLjSDKgnpQRAoqCL3sTTQQ\n",
       "ItqA1J/Fi6IIPaceNpce6qUg2EspvpnJ7Gw22cAWB0Lee9/ON2/e+94A/335ybcci4e+0G+dGT+S\n",
       "EOqVeMyYAl4x40kSxtFh13KAJfozryRhXIv45oWQ812caCwnYTwcKcKZUsjrALmXtdqdJISa0+ve\n",
       "nwq7aUru78JCOwmj4QJbF2Hucc96YHfvXj+9MgdkZoFTwGLfttKQxniAewLZbeZk27JNW/jpHaIT\n",
       "6AZHkHf6tqlW1aJQqgR9+RLS7JPMRhB28RlPqQhFYAxZbwjj0uUIVCghjwkUmmRvXg1NSpX3iVLP\n",
       "emP+EEZMNvoYYe2hzBsy/VABE5Ix70yTVZ95R59oLaR8xSiCL5ohgG5N3TQcvBHezV+BLP9Q7vzW\n",
       "WJyhgvhV9uXvgn1S5dgN4punANIH1Wh0FvOyIxvipK/Uqk8kRtaT5zTaGh6z8N3jaCnGbhD4aAeA\n",
       "0IdR0XZlbjnebms3XTSbAkWK1Rg7HD6Lc+E6iqD2SAHkUQL5G6s7Qf2se2CRxusPTFtMdzl2hl7U\n",
       "GXoA4yFGEdSv+QqgdZBnuj5YrR1plDNOBrdsjGvbipEHoc+zqZCAeAzOoxPzFNSlsfl+roGyh2ct\n",
       "RzHyoFnlYyYB8Zq1cX0wYXRYPNMeaUb0eJTrLgCYXcHKasyYjti975Kddif7FC4kIwG2bscP/dte\n",
       "NwdrzR3MGAD7XpX9b/0H8fKRwSB/LVYAAAAASUVORK5CYII=\n",
       "\" style=\"display:inline;vertical-align:middle;\" /></a><br>(see <a class=\"ProveItLink\" href=\"../__pv_it/01624327ee94018b9bea52905de1303050e699ad0/dependencies.ipynb\">dependencies</a>)<br>"
      ],
      "text/plain": [
       "reverseGreater: forall_{x, y | x > y} (y < x)"
      ]
     },
     "execution_count": 2,
     "metadata": {},
     "output_type": "execute_result"
    }
   ],
   "source": [
    "%proving reverseGreater presuming []"
   ]
  },
  {
   "cell_type": "code",
   "execution_count": null,
   "metadata": {},
   "outputs": [],
   "source": []
  }
 ],
 "metadata": {
  "kernelspec": {
   "display_name": "Python 3",
   "language": "python",
   "name": "python3"
  }
 },
 "nbformat": 4,
 "nbformat_minor": 0
}
