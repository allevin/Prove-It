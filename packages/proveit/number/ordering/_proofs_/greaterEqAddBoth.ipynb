{
 "cells": [
  {
   "cell_type": "markdown",
   "metadata": {},
   "source": [
    "Proof of <a class=\"ProveItLink\" href=\"../../../_context_.ipynb\">proveit</a>.<a class=\"ProveItLink\" href=\"../../_context_.ipynb\">number</a>.<a class=\"ProveItLink\" href=\"../_context_.ipynb\">ordering</a>.<a class=\"ProveItLink\" href=\"../_theorems_.ipynb#greaterEqAddBoth\">greaterEqAddBoth</a> theorem\n",
    "========"
   ]
  },
  {
   "cell_type": "code",
   "execution_count": 1,
   "metadata": {},
   "outputs": [],
   "source": [
    "import proveit\n",
    "context = proveit.Context('..') # the theorem's context is in the parent directory"
   ]
  },
  {
   "cell_type": "code",
   "execution_count": 2,
   "metadata": {},
   "outputs": [
    {
     "name": "stdout",
     "output_type": "stream",
     "text": [
      "Beginning proof of greaterEqAddBoth\n",
      "Recorded 'presuming' information\n",
      "Presuming previous theorems (applied transitively).\n"
     ]
    },
    {
     "data": {
      "text/html": [
       "<strong id=\"greaterEqAddBoth\">greaterEqAddBoth:</strong> <a class=\"ProveItLink\" href=\"../__pv_it/718e1cfc41c4d4dd344d0d8e722d9bc661d8a3ab0/expr.ipynb\"><img src=\"data:image/png;base64,iVBORw0KGgoAAAANSUhEUgAAAVIAAAAXBAMAAACrGdq3AAAAMFBMVEX///8QEBC6urrMzMxUVFRm\n",
       "ZmZERETc3NwyMjKqqqp2dnaIiIiYmJgiIiLu7u4AAAAU9Wx4AAAAAXRSTlMAQObYZgAABFFJREFU\n",
       "SMfVVl2IG1UUPpkkO8lkdrIgUlEsKVoVfNgURKFYdtGWKgUNatfSbXWpkCIVnYftD5SyQQSnqGVB\n",
       "hIKIeWmtFkPAXZGklaH6IC1doouIfzDiSqXQbtjFlqVl8Zz7M3NvMqEvEfXANzPn3vvN/ebcM+de\n",
       "gP+NBf/Uix8UiLVzPQhxZhc4WuRc6L/Q5ChHvKWLcYSFu7tH3nc7PIs3xMfkHuu/0kzA0cMq7Hql\n",
       "phPeiBm5AhnqBTiAN3Oi/0qbApFdUp3z/Hb8eY2wIp4dN2w2VsGuAoE+JT3df6VrBSJ7X3V+k4v7\n",
       "uEJAVdyy9XCg1QJnCAj2RwcPHum/UKPC0UvpgAzOw3sigtXqVpopAbwMDNfK5Z/6rzRd5YDJxjpX\n",
       "V+p80iyCVZIjJ18PCZltM76udLIxjJ90Ahgw/HvDSHjadC8WOgLVqeeBSpfCJREKn8NYA691xHRD\n",
       "IdOCbMTcPy8JixOwrCklNmbncWC4F5yIdUKbdlGk/antb/ElC3uyW3kSlXQfA9bm90SBY8qHMV2p\n",
       "cxcM+GAMhe+6+IIkfBjAnZpSZO/A2zqOQcj5IeuophS/w5nd7ucsqJV0pbCf/QmZad2HMFb5AsfT\n",
       "AD/rSlPsW5Jt+WlnayEBVf2lKUU2ZeYIR84fjMredU0pRvjz+68GqHRurkMpl5Z3O6SHUZZKr4HD\n",
       "FnSH533reVQv8xOqUufTekT4HoybmECe984dnke7BrKXIqVO5SGaqPES5cWNGVL9x+k6azoKNk1M\n",
       "Sr+MlJrjJ2mHuYw/7XDzKZptZ1P45vgpEeXENIN5A7JtR4vpFJMmVt/cLdeTCCuQXlVjKtli9WHv\n",
       "YzjZDyaNybVs/BRn3miLJtoeSOkz1UjpFXeKLcLlY3AWvqaG4rDwZRdQKhKcFUhV3tWU5rHHB5tl\n",
       "iflEmD5EWIZEVVUq2d8Ax3tYxVKlJNWygbpNzqhTZE1DsJEpTW/+UfmjtsAmdv/Ch31wER82w+/C\n",
       "3wIbZMEucbwNH5Sqep6WwJJV6kBUXKjhSXhOr6eCLaoUJOqUJTnKi0QxPcFTRjRtKpfL9Zx1+CtF\n",
       "6RLM0PeexHDcxn5sVpiYz7vY6rY4Jpv37CvoVWpnE1MpU+jcKnDwwqyvKxVsqrgEGxdsMRiYw78j\n",
       "D4NU1th/wpoW+OpnNwahUmcVXrmEwmiqNvyCDdeZ0ILs4rZG4Ba7aWTqYGWPApC7qcjnYOTR4JA7\n",
       "iIUJr0WoHXJZU8rleVpT8nRtcnnOGWMxaWUr5pswD9ZV7lOXcgQ53/v8ebpLqTrY0JRadQ7eNX5h\n",
       "F4z4xngVr+a2RkDP2OTsYZW/tjAWhErXn5n1DX6+XN+A5E1co5r0z8j1u8WpT2w2R34l+y4kxNuf\n",
       "Aor5XVewME+jY0XskTz+9eYoR7yl3FhCvG0VUE7dbue1w2KVPtLj/YcFYu2zHoQ4yxU5uqJj946U\n",
       "su9jTSi/GgVf8f8Tlvo3J/8bMJRQrpGlFu0AAAAASUVORK5CYII=\n",
       "\" style=\"display:inline;vertical-align:middle;\" /></a><br>(see <a class=\"ProveItLink\" href=\"../__pv_it/718e1cfc41c4d4dd344d0d8e722d9bc661d8a3ab0/dependencies.ipynb\">dependencies</a>)<br>"
      ],
      "text/plain": [
       "greaterEqAddBoth: forall_{a, b, c, d in Reals | a >= b , c >= d} ((a + c) >= (b + d))"
      ]
     },
     "execution_count": 2,
     "metadata": {},
     "output_type": "execute_result"
    }
   ],
   "source": [
    "%proving greaterEqAddBoth presuming []"
   ]
  },
  {
   "cell_type": "code",
   "execution_count": null,
   "metadata": {},
   "outputs": [],
   "source": []
  }
 ],
 "metadata": {
  "kernelspec": {
   "display_name": "Python 3",
   "language": "python",
   "name": "python3"
  }
 },
 "nbformat": 4,
 "nbformat_minor": 0
}
