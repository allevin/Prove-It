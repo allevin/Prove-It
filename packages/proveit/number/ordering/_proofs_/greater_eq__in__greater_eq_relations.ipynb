{
 "cells": [
  {
   "cell_type": "markdown",
   "metadata": {},
   "source": [
    "Proof of <a class=\"ProveItLink\" href=\"../../../_context_.ipynb\">proveit</a>.<a class=\"ProveItLink\" href=\"../../_context_.ipynb\">number</a>.<a class=\"ProveItLink\" href=\"../_context_.ipynb\">ordering</a>.<a class=\"ProveItLink\" href=\"../_theorems_.ipynb#greater_eq__in__greater_eq_relations\">greater_eq__in__greater_eq_relations</a> theorem\n",
    "========"
   ]
  },
  {
   "cell_type": "code",
   "execution_count": 1,
   "metadata": {},
   "outputs": [],
   "source": [
    "import proveit\n",
    "context = proveit.Context('..') # the theorem's context is in the parent directory"
   ]
  },
  {
   "cell_type": "code",
   "execution_count": 2,
   "metadata": {},
   "outputs": [
    {
     "name": "stdout",
     "output_type": "stream",
     "text": [
      "Beginning proof of greater_eq__in__greater_eq_relations\n",
      "Recorded 'presuming' information\n",
      "Presuming previous theorems (applied transitively).\n"
     ]
    },
    {
     "data": {
      "text/html": [
       "<strong id=\"greater_eq__in__greater_eq_relations\">greater_eq__in__greater_eq_relations:</strong> <a class=\"ProveItLink\" href=\"../__pv_it/18d27d4e8d0a5865c54a664ddd301352c08724620/expr.ipynb\"><img src=\"data:image/png;base64,iVBORw0KGgoAAAANSUhEUgAAAHkAAAAVBAMAAACQ4lxbAAAAMFBMVEX///8QEBCIiIiYmJjMzMxU\n",
       "VFRERES6urrc3NxmZmYyMjKqqqp2dnYiIiLu7u4AAAAZOEsVAAAAAXRSTlMAQObYZgAAAWNJREFU\n",
       "OMtjYMACmCczEAQsZxqwS/DdYSACsEhjF2f6QIxuhllA/PYchjCPAJoAFjVAcBBE7JqBTXerA7II\n",
       "phqYboayEIhvte7eXQDXzZJWgKwSqgaLbga3dBDpZYfico6oDchKIWqw6WZoXQ5UnYfmb76zBshq\n",
       "QWqw62bovMLAhog+TogH+HRRAguoBiy5CgwCGBjsYTK28xieIdQ5FiCEEQCFAwJcExCWFN69Cw01\n",
       "VxGYvOsKRArSxYy1LAOwBxVAKhGihdDYKktBaAarQQW8B0CBOxccOm8RwqwQf++KgItA1YD9fRcM\n",
       "EiD+hsUMKyKEeS6A/Ql2Kh8Dkho+jDBvgwYR33WUGOM7qwdmv7+ApAbMwYwxEOiagqy7F+qUhz+Q\n",
       "lKBwUHUzbF2LlFLhoIIBF+cg9qyHohslwRmg6+4FB+F1lKIFXTdcjQF6/sZWtlxCKilQig2UskUc\n",
       "R6nBfJrIcg0A/d9qKH/UFg8AAAAASUVORK5CYII=\n",
       "\" style=\"display:inline;vertical-align:middle;\" /></a><br>(see <a class=\"ProveItLink\" href=\"../__pv_it/18d27d4e8d0a5865c54a664ddd301352c08724620/dependencies.ipynb\">dependencies</a>)<br>"
      ],
      "text/plain": [
       "greater_eq__in__greater_eq_relations: >= in {> , >= , =}"
      ]
     },
     "execution_count": 2,
     "metadata": {},
     "output_type": "execute_result"
    }
   ],
   "source": [
    "%proving greater_eq__in__greater_eq_relations presuming []"
   ]
  },
  {
   "cell_type": "code",
   "execution_count": null,
   "metadata": {},
   "outputs": [],
   "source": []
  }
 ],
 "metadata": {
  "kernelspec": {
   "display_name": "Python 3",
   "language": "python",
   "name": "python3"
  }
 },
 "nbformat": 4,
 "nbformat_minor": 0
}
