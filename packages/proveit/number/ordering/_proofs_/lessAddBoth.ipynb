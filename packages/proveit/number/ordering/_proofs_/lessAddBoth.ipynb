{
 "cells": [
  {
   "cell_type": "markdown",
   "metadata": {},
   "source": [
    "Proof of <a class=\"ProveItLink\" href=\"../../../_context_.ipynb\">proveit</a>.<a class=\"ProveItLink\" href=\"../../_context_.ipynb\">number</a>.<a class=\"ProveItLink\" href=\"../_context_.ipynb\">ordering</a>.<a class=\"ProveItLink\" href=\"../_theorems_.ipynb#lessAddBoth\">lessAddBoth</a> theorem\n",
    "========"
   ]
  },
  {
   "cell_type": "code",
   "execution_count": 1,
   "metadata": {},
   "outputs": [],
   "source": [
    "import proveit\n",
    "context = proveit.Context('..') # the theorem's context is in the parent directory"
   ]
  },
  {
   "cell_type": "code",
   "execution_count": 2,
   "metadata": {},
   "outputs": [
    {
     "name": "stdout",
     "output_type": "stream",
     "text": [
      "Beginning proof of lessAddBoth\n",
      "Recorded 'presuming' information\n",
      "Presuming previous theorems (applied transitively).\n"
     ]
    },
    {
     "data": {
      "text/html": [
       "<strong id=\"lessAddBoth\">lessAddBoth:</strong> <a class=\"ProveItLink\" href=\"../__pv_it/e26cd36077f934a17984949b843efb67343605be0/expr.ipynb\"><img src=\"data:image/png;base64,iVBORw0KGgoAAAANSUhEUgAAAVIAAAAXBAMAAACrGdq3AAAAMFBMVEX///8QEBC6urrMzMxUVFRm\n",
       "ZmZERETc3NwyMjKqqqp2dnaIiIiYmJgiIiLu7u4AAAAU9Wx4AAAAAXRSTlMAQObYZgAABFpJREFU\n",
       "SMfVV29oHEUUf7f3Z+9uN5OASEWxXNFqwQ/ZQkEolgSNqBT0sDaURjC0ckEqdT9EWyiaQytuaJWA\n",
       "CAVR70trtXAcmBa5U1nUD6Wl4aSItPHDiqmVgiYkWAktwTfzZv/M7R71w4n64Dd7O2/ezG/evPd2\n",
       "DuB/I94/NfEDEonydReDJDFLhDZ/Od97oulhQrJkrSSDhbvjI++7HXbgA/EJf32n90zzHqGLVBMN\n",
       "DieMXIU81wK8gg99vPdMWxKhXI2+nAt/6jsCg1XZxexAq62BWQMOvpXsTO+ZrpcI5f3oy0/hqT9e\n",
       "8g2QFUmhEaiLbWADwGF+fODAq70nqlUJ3ZjmfOdoh63AoNiOM82XAV4AgeuVyuXeM83WCDDZ3GCr\n",
       "TNmnLQuKZcnpTTs0yG+fdVWmk81B3NJxEHgEYCLwhKMs91ypw1GdfDbFEiO7LF3hErR18FKHTzeX\n",
       "8m0okKVx2U86PnhxHFYUptwaBxwDgXuBhesdV5ZdpMexkzuP0JGprF4LPEPT7+cOW6KXVIkw5cKo\n",
       "ypTdBTkXtAERhPOBNR/8kQd3KkzRehc+NhD6wHCD8dMKFdwHO73TNYpQL8eZXpmAfCQVC0e4e6Sv\n",
       "oL9EeApgXmWaEXtJi/aXPYE5H4ys/lCYojWPzCGC4faFZe9PhQt6+Mz9v3vIdG4uxvTa6zh9WE1M\n",
       "crvvZZ/pdWDiQHc5zneOw+tl/3jIFLZMR5l+D9pNDCDHefsOx+FfDbReDpmy6hb88XJzL4+LG7Oc\n",
       "9ZVTDdE1DSZfmDP9KmSqj53AdDX4GoOtJ/l57m6BcZRUJ6WXUzMC+g0oLDHFp1PCX3T6uMiPEBqs\n",
       "QnYt6lPfWp4+TDyMi/2g8zFG28StsIvakuzKAzF9uhYy/c2e8iSzL+Fb3mENFi6FKgppV4CtQqb6\n",
       "rsK0HzUumH5uXJv3AoMVSNWiTH3rs0B4D6tYppzmtSzXMPnLMLNE1wBsFUyzI5ciGfUobIM0Bd8+\n",
       "uIDtCPzMTpRItdkv2GXCUfigXFPjtAxFK5KLJqU/73gCnlHrqbSWVQpSDR4lBo+LlJUdp5CRXdsq\n",
       "lUrDKB76JsJ0GWaBjYoxt4nE5qHEzsxIlawvbcJk6559JbVK7W5hKOXDAlh4wzdYOO2qTKU1ZoSA\n",
       "iXta9HJzmB390MfLmsgT0bVAp1/Y6gVM2Rq8eBWp8k/LEmCYMUrDz2ekimSdxC2/phAxgPg3CsD/\n",
       "msp49oYe8g7afViYsLWgftAWXRmb4rQeidP16RWsBPoIqtqFqv4WXIQi38hZV6qCK8i57vfPUzGm\n",
       "0cGawrTYIJBq7PyzMORqYzVs9e1Nj//GLrZHVP76wqgXMN34hTik9PM2bGxC+iaeUV0oPvRVt771\n",
       "seRbX7L8KhERN9ZCEeM0vFaoV9+9lBHJ0+vDhGTJ2IkGyfKYRGRpu7PtkFzSPA92mf+QRKJ81sUg\n",
       "SQyLEP3DEmv/DlPh/ALWiMr+/86/w8y/ufhfDpFKSoflE2YAAAAASUVORK5CYII=\n",
       "\" style=\"display:inline;vertical-align:middle;\" /></a><br>(see <a class=\"ProveItLink\" href=\"../__pv_it/e26cd36077f934a17984949b843efb67343605be0/dependencies.ipynb\">dependencies</a>)<br>"
      ],
      "text/plain": [
       "lessAddBoth: forall_{a, b, c, d in Reals | a < b , c <= d} ((a + c) < (b + d))"
      ]
     },
     "execution_count": 2,
     "metadata": {},
     "output_type": "execute_result"
    }
   ],
   "source": [
    "%proving lessAddBoth presuming []"
   ]
  },
  {
   "cell_type": "code",
   "execution_count": null,
   "metadata": {},
   "outputs": [],
   "source": []
  }
 ],
 "metadata": {
  "kernelspec": {
   "display_name": "Python 3",
   "language": "python",
   "name": "python3"
  }
 },
 "nbformat": 4,
 "nbformat_minor": 0
}
