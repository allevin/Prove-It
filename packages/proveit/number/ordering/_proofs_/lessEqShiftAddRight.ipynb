{
 "cells": [
  {
   "cell_type": "markdown",
   "metadata": {},
   "source": [
    "Proof of <a class=\"ProveItLink\" href=\"../../../_context_.ipynb\">proveit</a>.<a class=\"ProveItLink\" href=\"../../_context_.ipynb\">number</a>.<a class=\"ProveItLink\" href=\"../_context_.ipynb\">ordering</a>.<a class=\"ProveItLink\" href=\"../_theorems_.ipynb#lessEqShiftAddRight\">lessEqShiftAddRight</a> theorem\n",
    "========"
   ]
  },
  {
   "cell_type": "code",
   "execution_count": 1,
   "metadata": {},
   "outputs": [],
   "source": [
    "import proveit\n",
    "context = proveit.Context('..') # the theorem's context is in the parent directory"
   ]
  },
  {
   "cell_type": "code",
   "execution_count": 2,
   "metadata": {},
   "outputs": [
    {
     "name": "stdout",
     "output_type": "stream",
     "text": [
      "Beginning proof of lessEqShiftAddRight\n",
      "Recorded 'presuming' information\n",
      "Presuming previous theorems (applied transitively).\n"
     ]
    },
    {
     "data": {
      "text/html": [
       "<strong id=\"lessEqShiftAddRight\">lessEqShiftAddRight:</strong> <a class=\"ProveItLink\" href=\"../__pv_it/d384ff82e2ffe3f30da8137792296fe6be3cee100/expr.ipynb\"><img src=\"data:image/png;base64,iVBORw0KGgoAAAANSUhEUgAAASEAAAAXBAMAAAC2Z+QsAAAAMFBMVEX///8QEBC6urrMzMxUVFRm\n",
       "ZmZERETc3NwyMjKqqqp2dnaIiIiYmJgiIiLu7u4AAAAU9Wx4AAAAAXRSTlMAQObYZgAAA81JREFU\n",
       "SMfNVmtIFFEUPu7Dfc+Gf+wBsVJQEOEG0g8ptCwSDFyKHqiRKKxIQvvDMpBwiX6MpLEQiRDCQkgP\n",
       "cVnoQbgkQ/0JIzH6ERXBBEZhkFJghCGdc+/OzJ11xsKF6MC5e+fO+fZ+c173Avx3ohb7B44sDjts\n",
       "XgYjNgALeZLXGXp4XgSjKlRnrd3bo1YAad+Mhak7yvUOPVwtghFhvbae9grzxxEN4LX8giTX8/jj\n",
       "aV07oQDFICeuSAkxbGl9eTyrA8Kp/OInETjFlT7PnVo7oxJyz2ZxxSfmibROm5xSDECl5tMbIvAD\n",
       "1+Ctnp6LRQRtO+Vq0pYRdPIfT31KAIyDFaPSFNfFePxtEYyaKCcpNN0TFQkzo7mxewCjbOqsj4iA\n",
       "y7nDZkbS3VwU/DFgWgfQoRembLNvYREbhgOUvhgQRzmcNfvIWQaDAMNsw3gUBIC0COGoidGuiHcG\n",
       "fOhq0q0gGU4fNe07fPvYFT4zp/6QahiWUWog4T4FjpsZfchCF0AFL7NJEAC+ZShJi4ykTVCqgANz\n",
       "jjQEAUU37zdS8sExJeCHTGwlo+FJwfAbahgZNQK8MzNqZGMNf3iREQDuJIRjIiPXAnPqAteAEjK6\n",
       "yQ999nDbVxUZTU+vYPQsKxpqjBZB+k4pJcuD62WZ+s2iyAiGTxiAUAwq0QsnZfmlLF+mP2gVGUlJ\n",
       "6rrnJtopPZbuE7uPY9kgfQMxmhQYMaNHimGIsoGilgLPEvgWJNFHuEJSoRdlnQ7AdnRaFX3UxyBa\n",
       "1KBjP9J67VkmCjNB/DrplWOB9VpkdCRtMGJGI6yKuSFJF5WtAtJPcCWvmaL2C1sLelT37e52DYBp\n",
       "vdFUa2H8SgWCmM+kcB0PGVfMSUdNaTZID7VStJrt6z7wRshsZjTXBrqhVgtUsgMwEkubGB0EuGmq\n",
       "lapIHuBKuWtNjFwx8BvVDyXU1iMBsimJult5WuyNx+PZgL/3qcCIG33p1A1JdpK7kV13bsuZiImR\n",
       "eyyHoblU2EgQIDW0FHTIphxmhzfCFYKIm1dLp7G/hSGE/pvH2SyPmq9aNRjljQL9miE7FKgtlv/5\n",
       "FDGOHfHYszpFtMOmZo96IRHChoZjFDKuBM+jjJBHzIg+YQBCvPNpR+mU7f3Hv+IyZJy9hfeqsbzy\n",
       "f2l+3gI1iqM5jaOnYUKV2liHzMweV3VGzIh5QSXDv7qNfOZ1956JfhuxFGrUUtK8pgijH/PIeLPK\n",
       "daWbdrS9sR2yBlgJhcWVMC05E8ZYIKsw8hDxXrvbU9QGYCH38ipGWBhtGQ1hEcaLvpwXL7X/bqvf\n",
       "X+IWKsEN+XcAAAAASUVORK5CYII=\n",
       "\" style=\"display:inline;vertical-align:middle;\" /></a><br>(see <a class=\"ProveItLink\" href=\"../__pv_it/d384ff82e2ffe3f30da8137792296fe6be3cee100/dependencies.ipynb\">dependencies</a>)<br>"
      ],
      "text/plain": [
       "lessEqShiftAddRight: forall_{a, b, c in Reals | a <= b} ((a + c) <= (b + c))"
      ]
     },
     "execution_count": 2,
     "metadata": {},
     "output_type": "execute_result"
    }
   ],
   "source": [
    "%proving lessEqShiftAddRight presuming []"
   ]
  },
  {
   "cell_type": "code",
   "execution_count": null,
   "metadata": {},
   "outputs": [],
   "source": []
  }
 ],
 "metadata": {
  "kernelspec": {
   "display_name": "Python 3",
   "language": "python",
   "name": "python3"
  }
 },
 "nbformat": 4,
 "nbformat_minor": 0
}
