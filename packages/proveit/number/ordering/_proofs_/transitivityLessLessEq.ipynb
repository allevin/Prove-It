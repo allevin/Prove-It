{
 "cells": [
  {
   "cell_type": "markdown",
   "metadata": {},
   "source": [
    "Proof of <a class=\"ProveItLink\" href=\"../../../_context_.ipynb\">proveit</a>.<a class=\"ProveItLink\" href=\"../../_context_.ipynb\">number</a>.<a class=\"ProveItLink\" href=\"../_context_.ipynb\">ordering</a>.<a class=\"ProveItLink\" href=\"../_theorems_.ipynb#transitivityLessLessEq\">transitivityLessLessEq</a> theorem\n",
    "========"
   ]
  },
  {
   "cell_type": "code",
   "execution_count": 1,
   "metadata": {},
   "outputs": [],
   "source": [
    "import proveit\n",
    "context = proveit.Context('..') # the theorem's context is in the parent directory"
   ]
  },
  {
   "cell_type": "code",
   "execution_count": 2,
   "metadata": {},
   "outputs": [
    {
     "name": "stdout",
     "output_type": "stream",
     "text": [
      "Beginning proof of transitivityLessLessEq\n",
      "Recorded 'presuming' information\n",
      "Presuming previous theorems (applied transitively).\n"
     ]
    },
    {
     "data": {
      "text/html": [
       "<strong id=\"transitivityLessLessEq\">transitivityLessLessEq:</strong> <a class=\"ProveItLink\" href=\"../__pv_it/95ec51189362184a803b112670cb754fce045ffa0/expr.ipynb\"><img src=\"data:image/png;base64,iVBORw0KGgoAAAANSUhEUgAAANEAAAAXBAMAAABnpbd1AAAAMFBMVEX///8QEBC6urrMzMxUVFRm\n",
       "ZmZERETc3NwyMjKqqqp2dnaIiIiYmJgiIiLu7u4AAAAU9Wx4AAAAAXRSTlMAQObYZgAAAtlJREFU\n",
       "SMe9Vk9o02AUf23SZmm6tGwHFVE68KBUscPCvMikypQNpCDs4C5FpRMnI4haRRxhKkMmQ9B5cCDB\n",
       "g/8Ko+AsuokGYSj+gR7n5qETnDgvFcFddvC9L02bZqZUCD5of9/7XvL98r33e18C8N+s6N5SUefQ\n",
       "a/wVaPDeDSJur3PMFwN4RIMxN5ia6qVHBTiHIKTcYJqxTwiHq+N3xpP4brjBtNmezYORqrMIEHyQ\n",
       "yVxyg8ir2vwrMYvnx838Tqfn3WDyaZiv7IGJPsMVryrlQFuLkINAEmAfQL/TY/6TIHSAZfiob2Ke\n",
       "NG/qQzj1tBeJccdbQFYdbvbXukP2uDhocTxYFQ1ewU1yAguVeRnkQ/jQYYBmkPSGmL7aty6OWnUd\n",
       "itAx0GU4S0ctkTMkjxLuU28uNsK0PGyLBkdr3BBT2sayF79WrUGyzCSrcRxlE1MoFW8ePES7Z+xC\n",
       "lSkwFcVaSnRrNMW0zEC6zqQ8963cIh5C4Rdmi9nZzybTHUaH2YP+BK5W7KIrf4SUdppPzGpVpkk+\n",
       "tcFYV86tcOEyiJ9YkN9+xEwA1uCNVIKXZg4WjFSJGvCYANLCeIFUxp5waAfkWfi7JXsRVBXHKix8\n",
       "KUipMsj3jb6Uza5HHYur/jAq2syuIb/dsx+GWRS3zWIrLNoNPWzJiLVOIQXkXjbDa3zOBDnPOE5X\n",
       "ylEAeWDy8QuLYi7TfzL4Ey9sovuDRM2FOZpugVaCXdBhYWqHGFLFmJI9FniGK3AxzuzQdfW6bdEc\n",
       "dAbUAJxXoNVbQuC6t6UqTFzpIVD778cVPbGdIIwwIHurQ/zebcsh6mxZc7D0vG8SOnW4lVcRJO96\n",
       "pcIkD4xPs10fV0DsOQHcKgNmdyHXNtLIW8N+OOiCQnXQ/9653DHIUBmDBqwxoc6bkFdql1L82lYC\n",
       "h9MI4CQd2B0GrLWLzkxPbE0P4oxG4Mg0MU07ZyCm0Qbd+gTh3fw0+gNaZan5cOPihQAAAABJRU5E\n",
       "rkJggg==\n",
       "\" style=\"display:inline;vertical-align:middle;\" /></a><br>(see <a class=\"ProveItLink\" href=\"../__pv_it/95ec51189362184a803b112670cb754fce045ffa0/dependencies.ipynb\">dependencies</a>)<br>"
      ],
      "text/plain": [
       "transitivityLessLessEq: forall_{x, y, z | x < y , y <= z} (x < z)"
      ]
     },
     "execution_count": 2,
     "metadata": {},
     "output_type": "execute_result"
    }
   ],
   "source": [
    "%proving transitivityLessLessEq presuming []"
   ]
  },
  {
   "cell_type": "code",
   "execution_count": null,
   "metadata": {},
   "outputs": [],
   "source": []
  }
 ],
 "metadata": {
  "kernelspec": {
   "display_name": "Python 3",
   "language": "python",
   "name": "python3"
  }
 },
 "nbformat": 4,
 "nbformat_minor": 0
}
