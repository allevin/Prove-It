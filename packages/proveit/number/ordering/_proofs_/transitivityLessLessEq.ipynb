{
 "cells": [
  {
   "cell_type": "markdown",
   "metadata": {
    "collapsed": true
   },
   "source": [
    "Proof of <a class=\"ProveItLink\" href=\"../../../_context_.ipynb\">proveit</a>.<a class=\"ProveItLink\" href=\"../../_context_.ipynb\">number</a>.<a class=\"ProveItLink\" href=\"../_context_.ipynb\">ordering</a>.<a class=\"ProveItLink\" href=\"../_theorems_.ipynb#transitivityLessLessEq\">transitivityLessLessEq</a> theorem\n",
    "========"
   ]
  },
  {
   "cell_type": "code",
   "execution_count": 1,
   "metadata": {},
   "outputs": [],
   "source": [
    "import proveit\n",
    "from proveit import defaults\n",
    "from proveit.number.ordering._axioms_ import transitivityLessLess, lessEqDef\n",
    "from proveit.logic import inBool\n",
    "from proveit._common_ import x, y, z, A, B, C, Q, P\n",
    "from proveit.number import Reals\n",
    "from proveit.logic.equality._axioms_ import equalsSymmetry\n",
    "from proveit.logic import Forall, Or, Equals, Iff, Implies, InSet\n",
    "from proveit.number import Less, LessEq, Greater, GreaterEq\n",
    "from proveit.number.ordering._axioms_ import reverseRelation, lessEqDef, greaterEqDef\n",
    "from proveit.logic.equality._theorems_ import lhsViaEquivalence, subLeftSideInto, subRightSideInto\n",
    "from proveit.logic.boolean.implication._theorems_ import eqFromIff, implicationTransitivity\n",
    "from proveit.logic.boolean.disjunction._axioms_ import orTT, orTF, orTF, orFT, orFF\n",
    "context = proveit.Context('..') # the theorem's context is in the parent directory"
   ]
  },
  {
   "cell_type": "code",
   "execution_count": 2,
   "metadata": {},
   "outputs": [
    {
     "name": "stdout",
     "output_type": "stream",
     "text": [
      "Beginning proof of transitivityLessLessEq\n",
      "Recorded 'presuming' information\n",
      "Presuming previous theorems (applied transitively).\n"
     ]
    },
    {
     "data": {
      "text/html": [
       "<strong id=\"transitivityLessLessEq\">transitivityLessLessEq:</strong> <a class=\"ProveItLink\" href=\"../__pv_it/e3150c3654dcd7fa2f85e21a9ac57b6ca5d9f3bf0/expr.ipynb\"><img src=\"../__pv_it/e3150c3654dcd7fa2f85e21a9ac57b6ca5d9f3bf0/expr.png\" style=\"display:inline;vertical-align:middle;\" /></a><br>(see <a class=\"ProveItLink\" href=\"../__pv_it/e3150c3654dcd7fa2f85e21a9ac57b6ca5d9f3bf0/dependencies.ipynb\">dependencies</a>)<br>"
      ],
      "text/plain": [
       "transitivityLessLessEq: forall_{x, y, z | x < y , y <= z} (x < z)"
      ]
     },
     "execution_count": 2,
     "metadata": {},
     "output_type": "execute_result"
    }
   ],
   "source": [
    "%proving transitivityLessLessEq presuming []"
   ]
  },
  {
   "cell_type": "code",
   "execution_count": null,
   "metadata": {},
   "outputs": [],
   "source": []
  }
 ],
 "metadata": {
  "kernelspec": {
   "display_name": "Python 3",
   "language": "python",
   "name": "python3"
  },
  "language_info": {
   "codemirror_mode": {
    "name": "ipython",
    "version": 3
   },
   "file_extension": ".py",
   "mimetype": "text/x-python",
   "name": "python",
   "nbconvert_exporter": "python",
   "pygments_lexer": "ipython3",
   "version": "3.7.3"
  }
 },
 "nbformat": 4,
 "nbformat_minor": 1
}
