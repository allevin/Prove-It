{
 "cells": [
  {
   "cell_type": "markdown",
   "metadata": {},
   "source": [
    "Proof of <a class=\"ProveItLink\" href=\"../../../_context_.ipynb\">proveit</a>.<a class=\"ProveItLink\" href=\"../../_context_.ipynb\">number</a>.<a class=\"ProveItLink\" href=\"../_context_.ipynb\">ordering</a>.<a class=\"ProveItLink\" href=\"../_theorems_.ipynb#lessThanSuccessor\">lessThanSuccessor</a> theorem\n",
    "========"
   ]
  },
  {
   "cell_type": "code",
   "execution_count": 1,
   "metadata": {},
   "outputs": [],
   "source": [
    "import proveit\n",
    "context = proveit.Context('..') # the theorem's context is in the parent directory"
   ]
  },
  {
   "cell_type": "code",
   "execution_count": 2,
   "metadata": {},
   "outputs": [
    {
     "name": "stdout",
     "output_type": "stream",
     "text": [
      "Beginning proof of lessThanSuccessor\n",
      "Recorded 'presuming' information\n",
      "Presuming previous theorems (applied transitively).\n"
     ]
    },
    {
     "data": {
      "text/html": [
       "<strong id=\"lessThanSuccessor\">lessThanSuccessor:</strong> <a class=\"ProveItLink\" href=\"../__pv_it/aeb8fb677cff23cc5cb739865bd8b7c3d046777a0/expr.ipynb\"><img src=\"data:image/png;base64,iVBORw0KGgoAAAANSUhEUgAAAKkAAAAVBAMAAADP89MSAAAAMFBMVEX///8QEBC6urrMzMxUVFRm\n",
       "ZmZERETc3NwyMjKqqqp2dnaIiIiYmJgiIiLu7u4AAAAU9Wx4AAAAAXRSTlMAQObYZgAAAiNJREFU\n",
       "OMtjYKAJeIBPkmkDKcJAcAiKL4A4p3EoMiFJOI+BgdUAgleC+H04TO0jRfjZPyDRAMFlQIo9Abtu\n",
       "bnSfsgdjCvMVQOgnLiBTT0EwBzBgWSdgN5URLdCZPRQwhTlhdnCDTH0IwTzLy8trcQSABloktRhg\n",
       "EUY1lW0CBH9LS7uFw9QokKe9F4lDtbcWYBVGMZUrAIKdGRjScZjaA8SKBWwfIJpuPcAmjGYqZwME\n",
       "qzDwNSCZNGNFaDeMLQR00x8GVnBcct1mwCaMbiqTAATzMnAfgEXn1tAD3FwM6wKg/E8MDCwfGHjB\n",
       "2p4lwU1FFkY3lfkDBHMf4IV5bZv6uwdAU8+dQ2jnT2B4D4kjk04GTGHWjo5eiY4OBwxT+RpAWaV0\n",
       "VzIDD8iNIFP3QbVLMjDUb2CYD83VpXewCmMPAYZ0J6DR19n/MXAwQEwNWgBVl8PA8H4CgwcnxLEM\n",
       "r24/wCKMaipPAwQzTAUWBSwBzBcYrMByrC43YV5dCswkBzivcsH4PJBkgCqMPWUxMAKF+RW4HRhs\n",
       "09LSNnBzVR+GmaILSpebzDYhUnwzpjDMVNbAHzFA6xQgmIEH6ID3D9jOFTyBhACnFSz2GAuwZ+QC\n",
       "rHkLDKA5Fpbj7W0esBRAwnUdLFx5FmA1FVUYtbBdDcUQqejTMQx8SeBcsO5J2ANySkJwim9gQM1U\n",
       "oKAGhiuKQAl2vSU4TQV5l6WAQPXDvoEUYSDYDMEArvKt1qEE4lEAAAAASUVORK5CYII=\n",
       "\" style=\"display:inline;vertical-align:middle;\" /></a><br>(see <a class=\"ProveItLink\" href=\"../__pv_it/aeb8fb677cff23cc5cb739865bd8b7c3d046777a0/dependencies.ipynb\">dependencies</a>)<br>"
      ],
      "text/plain": [
       "lessThanSuccessor: forall_{a in Reals} (a < (a + 1))"
      ]
     },
     "execution_count": 2,
     "metadata": {},
     "output_type": "execute_result"
    }
   ],
   "source": [
    "%proving lessThanSuccessor presuming []"
   ]
  },
  {
   "cell_type": "code",
   "execution_count": null,
   "metadata": {},
   "outputs": [],
   "source": []
  }
 ],
 "metadata": {
  "kernelspec": {
   "display_name": "Python 3",
   "language": "python",
   "name": "python3"
  }
 },
 "nbformat": 4,
 "nbformat_minor": 0
}
