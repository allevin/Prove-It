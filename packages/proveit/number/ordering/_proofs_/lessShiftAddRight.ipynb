{
 "cells": [
  {
   "cell_type": "markdown",
   "metadata": {},
   "source": [
    "Proof of <a class=\"ProveItLink\" href=\"../../../_context_.ipynb\">proveit</a>.<a class=\"ProveItLink\" href=\"../../_context_.ipynb\">number</a>.<a class=\"ProveItLink\" href=\"../_context_.ipynb\">ordering</a>.<a class=\"ProveItLink\" href=\"../_theorems_.ipynb#lessShiftAddRight\">lessShiftAddRight</a> theorem\n",
    "========"
   ]
  },
  {
   "cell_type": "code",
   "execution_count": 1,
   "metadata": {},
   "outputs": [],
   "source": [
    "import proveit\n",
    "context = proveit.Context('..') # the theorem's context is in the parent directory"
   ]
  },
  {
   "cell_type": "code",
   "execution_count": 2,
   "metadata": {},
   "outputs": [
    {
     "name": "stdout",
     "output_type": "stream",
     "text": [
      "Beginning proof of lessShiftAddRight\n",
      "Recorded 'presuming' information\n",
      "Presuming previous theorems (applied transitively).\n"
     ]
    },
    {
     "data": {
      "text/html": [
       "<strong id=\"lessShiftAddRight\">lessShiftAddRight:</strong> <a class=\"ProveItLink\" href=\"../__pv_it/a03d27968238130ab219e2fd9910f4477ce17c670/expr.ipynb\"><img src=\"data:image/png;base64,iVBORw0KGgoAAAANSUhEUgAAASEAAAAXBAMAAAC2Z+QsAAAAMFBMVEX///8QEBC6urrMzMxUVFRm\n",
       "ZmZERETc3NwyMjKqqqp2dnaIiIiYmJgiIiLu7u4AAAAU9Wx4AAAAAXRSTlMAQObYZgAAA8RJREFU\n",
       "SMfNVltoE0EUvW2S5j0Rf3yBpCgoiLiC+CFK64sKCg1Kq7SKpUKKKJiP+gARg/ix4oOACAURAiI+\n",
       "SkOgKqXBsuiPtFgqfoj6swWL4octChFRxHt3sjszza6UBtSBO5mZnLN79t47dwbgv2tmrQ+oL2K3\n",
       "xuPPWNKD4NKeVmyCJmM1KNqA5mv2+nefG4FtnXCBBjRu92lyrQZFxA15ejrkSgi5fkGW2yn8CXbN\n",
       "X1CUYlCSV1hGDltejE9qNiGRqyx9kImj3OjzArn5K6oj9yyXV8JynrAFIloXHMI626c3ZeIkt9jd\n",
       "06fP1RC01ZSrWU9FcNQBbheEAXBT1JDjVk6n39agqINykkLTO9yYURV96h8EuFOZ9O2XCBdLe1RF\n",
       "7EFJg0gKLEPpPc7G1D3eO3sTC+AVSl8DVxbBCdVHvoVwFZXwyZOCRGBlSGiKovXJ0ASE0dVkK4EJ\n",
       "p99R3tt3r+0yH6mpHzQFcCGlBgo+b0C7qmiyCMcBGq3xgIgkEsK/oC4vK2LLoMGAesw5sjhEDQd+\n",
       "SaTkozYjGoFCqloRa88I4Be0BCpqBXinKmq1+iaLkRZORkIgC4mUrMg/Yzl1hlvUiItq8s0ZPV71\n",
       "2URF4+NViti9pAS0FZWBfaWU0vWri3Wd6k1ZKALfrpxEiKdgHXrhgK6/1PWL9IAuWRHLUtU9OXyE\n",
       "0uPHQ1I31V+M0TeQohFJEQcN5RwgtiUUtRwEf0B4hsk+whVqjZVAH7IDscQqR4dN2UfnLYodNejZ\n",
       "hrJeB3+RhIkYfh17VT9j1VpUtDcvFHHQkOEAqR2nbWsA+w7+7HUlaj+xtAA8tz07MOIQMK2XKnst\n",
       "gc80IIb5TAY38JDxp3x01DQUYzRpZtomS1Fgxxspsy3QFut9HGjvBdqyV+BWKq8o2glwW94rLwo2\n",
       "wZ8LNCuK/CmIiN0PdVTWk1HC1GmBLp4WW9LpdDEaOftMUmSBprrBAVJbS+5Gdb2lFceSiqJAfwlD\n",
       "c0HaulqFwHYfnFUhO0rowVCSG8SQN202jGN9S0Ac/TeNo/c8auFNplDEQVOUSxxoaaOyuGgupwhI\n",
       "BPjDKWKfTk2bzTOZOBY07DUo+DM8jwpSHlkg9EYLlYw++Sgd9bz/RKouQ/LZq96r+ivGn9I5dhCa\n",
       "jPrOPPbB3cMm67YqZOF9u+koskDYNrYAAed0G/nofn1xa1SoWVZdM6Q+gnkk/lFr9kZNmvTS3va8\n",
       "sbVUL/V6QCks/oyy5MuIflb7wwUqSMLPet2eNA+CSxusmBxhqZ+7on/Umv/eq34D6rwNwujUflAA\n",
       "AAAASUVORK5CYII=\n",
       "\" style=\"display:inline;vertical-align:middle;\" /></a><br>(see <a class=\"ProveItLink\" href=\"../__pv_it/a03d27968238130ab219e2fd9910f4477ce17c670/dependencies.ipynb\">dependencies</a>)<br>"
      ],
      "text/plain": [
       "lessShiftAddRight: forall_{a, b, c in Reals | a < b} ((a + c) < (b + c))"
      ]
     },
     "execution_count": 2,
     "metadata": {},
     "output_type": "execute_result"
    }
   ],
   "source": [
    "%proving lessShiftAddRight presuming []"
   ]
  },
  {
   "cell_type": "code",
   "execution_count": null,
   "metadata": {},
   "outputs": [],
   "source": []
  }
 ],
 "metadata": {
  "kernelspec": {
   "display_name": "Python 3",
   "language": "python",
   "name": "python3"
  }
 },
 "nbformat": 4,
 "nbformat_minor": 0
}
