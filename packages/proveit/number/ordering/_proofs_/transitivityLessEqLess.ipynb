{
 "cells": [
  {
   "cell_type": "markdown",
   "metadata": {},
   "source": [
    "Proof of <a class=\"ProveItLink\" href=\"../../../_context_.ipynb\">proveit</a>.<a class=\"ProveItLink\" href=\"../../_context_.ipynb\">number</a>.<a class=\"ProveItLink\" href=\"../_context_.ipynb\">ordering</a>.<a class=\"ProveItLink\" href=\"../_theorems_.ipynb#transitivityLessEqLess\">transitivityLessEqLess</a> theorem\n",
    "========"
   ]
  },
  {
   "cell_type": "code",
   "execution_count": 1,
   "metadata": {},
   "outputs": [],
   "source": [
    "import proveit\n",
    "context = proveit.Context('..') # the theorem's context is in the parent directory"
   ]
  },
  {
   "cell_type": "code",
   "execution_count": 2,
   "metadata": {},
   "outputs": [
    {
     "name": "stdout",
     "output_type": "stream",
     "text": [
      "Beginning proof of transitivityLessEqLess\n",
      "Recorded 'presuming' information\n",
      "Presuming previous theorems (applied transitively).\n"
     ]
    },
    {
     "data": {
      "text/html": [
       "<strong id=\"transitivityLessEqLess\">transitivityLessEqLess:</strong> <a class=\"ProveItLink\" href=\"../__pv_it/b40dd8139a0e50484c34daa2d2e6b82fc0fd76b90/expr.ipynb\"><img src=\"data:image/png;base64,iVBORw0KGgoAAAANSUhEUgAAANEAAAAXBAMAAABnpbd1AAAAMFBMVEX///8QEBC6urrMzMxUVFRm\n",
       "ZmZERETc3NwyMjKqqqp2dnaIiIiYmJgiIiLu7u4AAAAU9Wx4AAAAAXRSTlMAQObYZgAAAtxJREFU\n",
       "SMe9VU1oE0EUfslust1sugntQUWUFDwoVUwxUC9SSaVKCxIQcrCXoNKKlbKIGkUsoSpFKqWg9WBB\n",
       "Fg/+BULAGrQVXYSi+AM51tZDKlixXiKCvfTge7O7ySZxQ4TFgeR7b97sfDPvfTMD8N9awbmp2u1D\n",
       "r/GXJ+O9E0TcfvuYJwzwiIwJJ5ia6qUnBXAeQUg4wTRX3SEcKdvv9JV4Jp1g2lqdzUOhsrMM4H+Q\n",
       "TF52gsidqvKvhi2eFzfze2Bg0Qkmj4r5Sh+c7tdd8ZpiBNpahCz4YgDdAIN2y/wnQWgAq/BR28I8\n",
       "adHUh3D6aRyJccfbQE7ZfOyt8MThmgEjFtuFVVHhFdwkx7dU6pdBPoyLDgI0g6Q1wiSO16j4qzUZ\n",
       "gRBdAz26s3LMEjlL8ijiPrXmQgNM/vGa8OooVDEBbDa8yPVyDWIGk5yKoJWOzqBU3DlwEe2+iYtl\n",
       "Jt9MezdIN9h9k2Ba1kGiybiFb8YRcREKvzBbrJ37bDLdYXSYPRiM4myFHhr5I6B0UH90Xi0zZfjE\n",
       "JvETS3l2jQuaoHPzO4+aCcAavJGK8NLc8ZKeKlEFHlNCWpjKk8rYdyO7IMfC3y3ZC6Gq5PuUG+FL\n",
       "XkoYwBk1l81TjzoW171BVLSZb11+e+c/jLIobpvF1li0F/qYMkPWOgXwZMg5mpFX+awBclwfc6ZU\n",
       "jjzIQ5nHLywaukL/Mf9P/LSJRvuJmgty1N0CrQR7oNPC1AF02p9NkpJdYTBAjpPJhTnzhG6od9qW\n",
       "TaPLl/LBBQVa3UUErndHosTEFR8Cq9pbDVzh3SCMMcCNH0COyL3blkvUvqVNY+V5fwa6NLiVSyFI\n",
       "7o1KiUkemprVa3sXxL6TwK0zoDWcUCDbNtbIq1F9OWiCQnXQ/n5HYEtSGf06ENXxikeizkvIK5XX\n",
       "vOJVtxPYMp2iC7tTh9p2yZ7pSaXrB3FOJahlEgewDcP0LO1cB0cb7+RkfwCWF6n5Ftvv7AAAAABJ\n",
       "RU5ErkJggg==\n",
       "\" style=\"display:inline;vertical-align:middle;\" /></a><br>(see <a class=\"ProveItLink\" href=\"../__pv_it/b40dd8139a0e50484c34daa2d2e6b82fc0fd76b90/dependencies.ipynb\">dependencies</a>)<br>"
      ],
      "text/plain": [
       "transitivityLessEqLess: forall_{x, y, z | x <= y , y < z} (x < z)"
      ]
     },
     "execution_count": 2,
     "metadata": {},
     "output_type": "execute_result"
    }
   ],
   "source": [
    "%proving transitivityLessEqLess presuming []"
   ]
  },
  {
   "cell_type": "code",
   "execution_count": null,
   "metadata": {},
   "outputs": [],
   "source": []
  }
 ],
 "metadata": {
  "kernelspec": {
   "display_name": "Python 3",
   "language": "python",
   "name": "python3"
  }
 },
 "nbformat": 4,
 "nbformat_minor": 0
}
