{
 "cells": [
  {
   "cell_type": "markdown",
   "metadata": {},
   "source": [
    "Proof of <a class=\"ProveItLink\" href=\"../../../_context_.ipynb\">proveit</a>.<a class=\"ProveItLink\" href=\"../../_context_.ipynb\">number</a>.<a class=\"ProveItLink\" href=\"../_context_.ipynb\">ordering</a>.<a class=\"ProveItLink\" href=\"../_theorems_.ipynb#greaterEqAddLeft\">greaterEqAddLeft</a> theorem\n",
    "========"
   ]
  },
  {
   "cell_type": "code",
   "execution_count": 1,
   "metadata": {},
   "outputs": [],
   "source": [
    "import proveit\n",
    "context = proveit.Context('..') # the theorem's context is in the parent directory"
   ]
  },
  {
   "cell_type": "code",
   "execution_count": 2,
   "metadata": {},
   "outputs": [
    {
     "name": "stdout",
     "output_type": "stream",
     "text": [
      "Beginning proof of greaterEqAddLeft\n",
      "Recorded 'presuming' information\n",
      "Presuming previous theorems (applied transitively).\n"
     ]
    },
    {
     "data": {
      "text/html": [
       "<strong id=\"greaterEqAddLeft\">greaterEqAddLeft:</strong> <a class=\"ProveItLink\" href=\"../__pv_it/e461016f47d42399efd7a405fda3b4deaf1f4c5b0/expr.ipynb\"><img src=\"data:image/png;base64,iVBORw0KGgoAAAANSUhEUgAAARAAAAAXBAMAAAAxVg0qAAAAMFBMVEX///8QEBC6urrMzMxUVFRm\n",
       "ZmZERETc3NwyMjKqqqp2dnaIiIiYmJgiIiLu7u4AAAAU9Wx4AAAAAXRSTlMAQObYZgAAA8hJREFU\n",
       "SMfNVm9oHEUU/93fvdu72wvmQ6nFcoKJBZFeQVoohgSNNHIgh5pYkjYcFa6UBrkPSVsoJaEUeqKE\n",
       "fCkU/NAgpFWDxxETkTsji/pBGnJcDUGUFlaMtBSaOxK0iCH4Zmdvdifu2X44xQdvZt7s7nu/mfd7\n",
       "Mwv8X8RouUdvkaurfO06G00AVTZYaiWQFyx1lUBy58zaU9S8AXzMjMlWApn8R4cTZvugYM9cIg0B\n",
       "Z6hTMi3EESlyteWu07jJu6tviZk/WG6mESKSBKZaCMRjcLXlA6fxs9V3vtyg1DY1WhuiN86evdDK\n",
       "zOyztAmQYGPRB0/wXjVZegr4PZv9qZVABi1VUh/ukoFon5STUNONF0cvml0oNa8DMwBt0UlRefkm\n",
       "Ffm3ZU/Itjor/L9v6dO5YF0GciARqiJsfzm2wtpaBpvEGeAZaPazGcn91Y/63+P7KabCR3jgtGyX\n",
       "yI0lT3BVthDISEC0PQjq8LYJX8vDrL1m4EmCDcQQ0cWzd8VIW+jXIyoKaRkIxkyShaZkewXxBj83\n",
       "uPrriBUlIH5zg3z1RoBFXsJHgd+Abio1PWZz/KEYff7sukFAKpUdQHjkeE6ytW3EpmQg8Qxq7PA6\n",
       "ms/fyufZWRHPOIFon1owV+HdMoFoE+wYHCu9zbjw5zwD9etsMcp2ggH5ygaiDF1nru8T3feXX2PO\n",
       "Bsvc9m2L5WM31/Eirln3h7Uj4+YbVmqU47o4RgLbZmpw8iVy+YPCyjlSjfaQseKth8CBvD5tA3mQ\n",
       "Gzc935/EIr5lE8n93PY6gIxwrU2hL5x0AolTaB1Rk5BKn8jtJjwU4zsaXaFC9qd9rJyDxSgzerTk\n",
       "YRNIoPdHB1lfQZfZf6HjNJZp0ItfuO3ckRmuIT28qsocSUNtlO+ZhEjtq3jT+spDLuKJSA8bJhnT\n",
       "4/RWVzabLUbU8984gGxgnuXjOi2mHQMWHUxbewhPY4nPc1VScwfn5PIdLFOeQ4mdl94CSxI7U6K0\n",
       "3zUjWCH+xRGj2RqN1nhqwocNAYQYOXKX4jJPddwGCw/Lbrfp68lxfcQRL4vWJi6I7heNc7kYHSzU\n",
       "JlHw5zhHCg6O7PVtVrQBc0XV8IRymYpWXed2CZ3i32Kaqy3POY1ZVyBqI7HeoaVj6Na9Q9PUKqmS\n",
       "oZ0wD7TC2oAhgHR8uaB7Of86SvBtYbRcsOxIefjxfgOsw/PCHSbfi+l78lu6o1WJI/ZN5fpb1STW\n",
       "qKWu4s+5Th+RLF/ObmVxBXKoSSylyNVVPnP/h0m6LNFtoY67hqop+469cw77vxD/vx/iL0a2DqCw\n",
       "RYsZAAAAAElFTkSuQmCC\n",
       "\" style=\"display:inline;vertical-align:middle;\" /></a><br>(see <a class=\"ProveItLink\" href=\"../__pv_it/e461016f47d42399efd7a405fda3b4deaf1f4c5b0/dependencies.ipynb\">dependencies</a>)<br>"
      ],
      "text/plain": [
       "greaterEqAddLeft: forall_{a, b, c in Reals | a >= b , c >= 0} ((a + c) >= b)"
      ]
     },
     "execution_count": 2,
     "metadata": {},
     "output_type": "execute_result"
    }
   ],
   "source": [
    "%proving greaterEqAddLeft presuming []"
   ]
  },
  {
   "cell_type": "code",
   "execution_count": null,
   "metadata": {},
   "outputs": [],
   "source": []
  }
 ],
 "metadata": {
  "kernelspec": {
   "display_name": "Python 3",
   "language": "python",
   "name": "python3"
  }
 },
 "nbformat": 4,
 "nbformat_minor": 0
}
