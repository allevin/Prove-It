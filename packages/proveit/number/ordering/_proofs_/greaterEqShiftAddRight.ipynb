{
 "cells": [
  {
   "cell_type": "markdown",
   "metadata": {},
   "source": [
    "Proof of <a class=\"ProveItLink\" href=\"../../../_context_.ipynb\">proveit</a>.<a class=\"ProveItLink\" href=\"../../_context_.ipynb\">number</a>.<a class=\"ProveItLink\" href=\"../_context_.ipynb\">ordering</a>.<a class=\"ProveItLink\" href=\"../_theorems_.ipynb#greaterEqShiftAddRight\">greaterEqShiftAddRight</a> theorem\n",
    "========"
   ]
  },
  {
   "cell_type": "code",
   "execution_count": 1,
   "metadata": {},
   "outputs": [],
   "source": [
    "import proveit\n",
    "context = proveit.Context('..') # the theorem's context is in the parent directory"
   ]
  },
  {
   "cell_type": "code",
   "execution_count": 2,
   "metadata": {},
   "outputs": [
    {
     "name": "stdout",
     "output_type": "stream",
     "text": [
      "Beginning proof of greaterEqShiftAddRight\n",
      "Recorded 'presuming' information\n",
      "Presuming previous theorems (applied transitively).\n"
     ]
    },
    {
     "data": {
      "text/html": [
       "<strong id=\"greaterEqShiftAddRight\">greaterEqShiftAddRight:</strong> <a class=\"ProveItLink\" href=\"../__pv_it/1a8d46ddc35b9929e21e2644d1aebfb6f315cbbc0/expr.ipynb\"><img src=\"data:image/png;base64,iVBORw0KGgoAAAANSUhEUgAAASEAAAAXBAMAAAC2Z+QsAAAAMFBMVEX///8QEBC6urrMzMxUVFRm\n",
       "ZmZERETc3NwyMjKqqqp2dnaIiIiYmJgiIiLu7u4AAAAU9Wx4AAAAAXRSTlMAQObYZgAAA89JREFU\n",
       "SMfNVnuEVFEY/3ZnZu88z6R/epGboki60V8pu70URaOX9NCqzErR/LE9SBopbtoy9BCJIT1Xa+jx\n",
       "xw656p8Ua5OkFzc2ZaNWsUlJ33fOuXPPme7d0pA+vnNf3++e3/le5wD8d+I2+oPmCg7TQz6mzRBA\n",
       "gNyV2k8PDxtgNBs10hb2dVUQgM3vDzCNWUKv0sOJBhgRNh7q6Tgf2XNXA8QDV1AUugcvRvvfE0pR\n",
       "DKrqG1ZQw1bml8SRggrIluTDWxX4QCgtL1b6e0ZNtPqJ6puEmidslEyebZYCmOm57JwKfC00fXnv\n",
       "3gMNBG0aTVcMZQTb5TWSN33AdQhi1FISOpzPP2+A0XrKSQpNZ++kgs5osPsGwEXP0Fhq1gCHq8t1\n",
       "Ruxa1YJkDrguBOioFaYdMm99EfuGXZS+Dr4ZA7t0H0VGw3GAszWMscmSADYMWUtjNMuM90MCXU06\n",
       "BZjv9IvavGevrDkm7vzUP1XQDUdTaiDhgw6s1Rm9rsBOgEl+kj9xJSDxA5rKKiM2AVocaMacI81A\n",
       "yqmhjvopeWuNk0pCT66OkbHa0gw/oWaR0QqAFzqjFXxs9Qzfyw6AgFgRsjmVUXSIO3VIaMrJ+M3i\n",
       "S+3u9tQPLjLq66tjJCl9qWc0DOwzpZRtHx9r29RvhjVGgy98QCYHM9EL62z7kW0fph+0q4xYkbru\n",
       "7t6tlB7fbhK7N92VNK2BGN1RGAkjdsn0DFHGUdRKYHyDxBBTfYRvSGTUdr/0ljCOt6PNruqjgxzi\n",
       "RQ06FuAsT40fRKE/jatjj5uHeK9FRivLPiNpBOyKKwxJdlLZOsC+QrR4Uovad0wdgPv8vtNPBwRg\n",
       "Wo/Xai2LHnMgjflMCqdxk4nmIrTVtFTS9NDGrDmcUWzRMyWzpRGkuqShl+JUsl1wPlfWGC0GuCBL\n",
       "wNgCavFES7E2jVE0B0m/+qGJ2rqZIpsmK9Yu0mJePp+vpJL77ymMpNHgds+QZAa5G9l1VifvMDVG\n",
       "se4qhuZQfSNBAFu2sa5Drq9idsRNoZBG3Ee3pQ/LOgsZ9N9HvBsQUUvMcX1GwmiQ1isM+aZA3WDM\n",
       "b3cRZdtRt72gXcTbbFrnuvsKGWxoOFrQEy2IPOpR8ogbveEByNQ6H99KH4Sef5K/HIbk3itEO1d1\n",
       "SxV/2fBwI7Q6zRvKOBrLel22hXfInoG1bo0RN5os7ct/dhp5J+ruFRcTRjr6UKNmRf2do4xJzCP/\n",
       "ywjHlU6aMfTEtiQYECQUlmhBexUp+GOdjMDIIOL7w05PVgggQG5IVSOsjKGMzmAR5hs+nDcubf9u\n",
       "qp+IsBbciocCTwAAAABJRU5ErkJggg==\n",
       "\" style=\"display:inline;vertical-align:middle;\" /></a><br>(see <a class=\"ProveItLink\" href=\"../__pv_it/1a8d46ddc35b9929e21e2644d1aebfb6f315cbbc0/dependencies.ipynb\">dependencies</a>)<br>"
      ],
      "text/plain": [
       "greaterEqShiftAddRight: forall_{a, b, c in Reals | a >= b} ((a + c) >= (b + c))"
      ]
     },
     "execution_count": 2,
     "metadata": {},
     "output_type": "execute_result"
    }
   ],
   "source": [
    "%proving greaterEqShiftAddRight presuming []"
   ]
  },
  {
   "cell_type": "code",
   "execution_count": null,
   "metadata": {},
   "outputs": [],
   "source": []
  }
 ],
 "metadata": {
  "kernelspec": {
   "display_name": "Python 3",
   "language": "python",
   "name": "python3"
  }
 },
 "nbformat": 4,
 "nbformat_minor": 0
}
