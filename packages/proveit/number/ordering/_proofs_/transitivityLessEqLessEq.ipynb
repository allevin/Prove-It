{
 "cells": [
  {
   "cell_type": "markdown",
   "metadata": {},
   "source": [
    "Proof of <a class=\"ProveItLink\" href=\"../../../_context_.ipynb\">proveit</a>.<a class=\"ProveItLink\" href=\"../../_context_.ipynb\">number</a>.<a class=\"ProveItLink\" href=\"../_context_.ipynb\">ordering</a>.<a class=\"ProveItLink\" href=\"../_theorems_.ipynb#transitivityLessEqLessEq\">transitivityLessEqLessEq</a> theorem\n",
    "========"
   ]
  },
  {
   "cell_type": "code",
   "execution_count": 1,
   "metadata": {},
   "outputs": [],
   "source": [
    "import proveit\n",
    "context = proveit.Context('..') # the theorem's context is in the parent directory"
   ]
  },
  {
   "cell_type": "code",
   "execution_count": 2,
   "metadata": {},
   "outputs": [
    {
     "name": "stdout",
     "output_type": "stream",
     "text": [
      "Beginning proof of transitivityLessEqLessEq\n",
      "Recorded 'presuming' information\n",
      "Presuming previous theorems (applied transitively).\n"
     ]
    },
    {
     "data": {
      "text/html": [
       "<strong id=\"transitivityLessEqLessEq\">transitivityLessEqLessEq:</strong> <a class=\"ProveItLink\" href=\"../__pv_it/7f8b4648b98684ea3fa9bd18dc3e8aaa592fd4cd0/expr.ipynb\"><img src=\"data:image/png;base64,iVBORw0KGgoAAAANSUhEUgAAANEAAAAXBAMAAABnpbd1AAAAMFBMVEX///8QEBC6urrMzMxUVFRm\n",
       "ZmZERETc3NwyMjKqqqp2dnaIiIiYmJgiIiLu7u4AAAAU9Wx4AAAAAXRSTlMAQObYZgAAAtFJREFU\n",
       "SMe9Vk1oE0EU/pLdZLtJug3tQUWUFDwoVUyxUC9SSaFCC5KTB3sJCKlYKYsUo0glFKVIpRS0HizI\n",
       "4sG/QglYg7aii1AUfyB40lYhFayol4hgLz04b/Yn2W23VFh8kHzz3pvMN/N+ZgL8Nyn7t1SLt+sF\n",
       "+5Ro8MYPIuGwty+UBO7TYMwPpjp3eKLvq+M8cJaBlPGDac6l/1isUV4bOwmN+8G006l+/VSrLQGx\n",
       "u7nckB9EwbxDHbziUMPsMH+y2QU/mEIaS8PUkclerrUN247mRqmASBroBPq8tvlPBaGz1OCdvoOU\n",
       "5RO2XTr96BggsxPvgpL3+HHYockDbr/DEkgAGp7jGi+7RbsQFShH2abjQD2i+maY5FF3FTstDQm6\n",
       "BrpMLbZQ9Q1Ss1UYvV5f3gRTbNTtdVmICdhub+OyauUgbTIp+TY2mkrNsDYOFhEg2kNj56tMkZmW\n",
       "TkSv8vsmw2uZg2ERPnwzWyRAKP1m0TIJLiWNwU2useihL8VWK3fRzJ8NaivZU/NalWlazGyTP/KQ\n",
       "F1aEuAmGBeLe41YAWA5eRit4Zt9OWU4laxBZAKgWJkpUZXyHF/ehyGd9r4leglWVcodiI30pRTMm\n",
       "GBZGa3U9q2N5NRxnFW1Tpej74PzbYe5lx+a+Fe7sRg+vzERtnhpYxJUirShqYsECw4IzdkuUoPRP\n",
       "P3jqTmc69otNrKMVY5QZIS6QuRFNBAfQXsPUCgrD43Gq5EASNpBFSApW5rds1G1L1qAjko/gnIqm\n",
       "YIWB0L0nYzMJlXvgWXulI5DcD2mEg2lpu32j5hL1lilrsPykdxodOq4X8wyiwa2qzaT0T8wabXAL\n",
       "cs9JCKscTEuheWS9V2PoM0n11XBfDrqkUh709e8IJjlKY8yANSJt8BKKqvPRVMPabgJPplN0Ybcb\n",
       "sFYueDM9dDU95DmNYC2TnGUygMlZOjkH0+KTiH7+NfoLJL2y90SPik4AAAAASUVORK5CYII=\n",
       "\" style=\"display:inline;vertical-align:middle;\" /></a><br>(see <a class=\"ProveItLink\" href=\"../__pv_it/7f8b4648b98684ea3fa9bd18dc3e8aaa592fd4cd0/dependencies.ipynb\">dependencies</a>)<br>"
      ],
      "text/plain": [
       "transitivityLessEqLessEq: forall_{x, y, z | x <= y , y <= z} (x <= z)"
      ]
     },
     "execution_count": 2,
     "metadata": {},
     "output_type": "execute_result"
    }
   ],
   "source": [
    "%proving transitivityLessEqLessEq presuming []"
   ]
  },
  {
   "cell_type": "code",
   "execution_count": null,
   "metadata": {},
   "outputs": [],
   "source": []
  }
 ],
 "metadata": {
  "kernelspec": {
   "display_name": "Python 3",
   "language": "python",
   "name": "python3"
  }
 },
 "nbformat": 4,
 "nbformat_minor": 0
}
