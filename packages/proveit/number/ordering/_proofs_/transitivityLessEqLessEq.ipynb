{
 "cells": [
  {
   "cell_type": "markdown",
   "metadata": {
    "collapsed": true
   },
   "source": [
    "Proof of <a class=\"ProveItLink\" href=\"../../../_context_.ipynb\">proveit</a>.<a class=\"ProveItLink\" href=\"../../_context_.ipynb\">number</a>.<a class=\"ProveItLink\" href=\"../_context_.ipynb\">ordering</a>.<a class=\"ProveItLink\" href=\"../_theorems_.ipynb#transitivityLessEqLessEq\">transitivityLessEqLessEq</a> theorem\n",
    "========"
   ]
  },
  {
   "cell_type": "code",
   "execution_count": 1,
   "metadata": {},
   "outputs": [],
   "source": [
    "import proveit\n",
    "from proveit import defaults\n",
    "from proveit.logic.equality._axioms_ import equalsTransitivity\n",
    "from proveit._common_ import x, y, z\n",
    "from proveit.logic import Equals, Or, InSet, Booleans, And\n",
    "from proveit.number import LessEq, Less\n",
    "from proveit.number.ordering._axioms_ import lessEqDef, transitivityLessLess\n",
    "context = proveit.Context('..') # the theorem's context is in the parent directory"
   ]
  },
  {
   "cell_type": "code",
   "execution_count": 2,
   "metadata": {},
   "outputs": [
    {
     "name": "stdout",
     "output_type": "stream",
     "text": [
      "Beginning proof of transitivityLessEqLessEq\n",
      "Recorded 'presuming' information\n",
      "Presuming theorems in proveit.logic (except any that presume this theorem).\n",
      "Presuming previous theorems (applied transitively).\n"
     ]
    },
    {
     "data": {
      "text/html": [
       "<strong id=\"transitivityLessEqLessEq\">transitivityLessEqLessEq:</strong> <a class=\"ProveItLink\" href=\"../__pv_it/47014dffe6aa0a31643b7bf05c7186433ef469fd0/expr.ipynb\"><img src=\"../__pv_it/47014dffe6aa0a31643b7bf05c7186433ef469fd0/expr.png\" style=\"display:inline;vertical-align:middle;\" /></a><br>(see <a class=\"ProveItLink\" href=\"../__pv_it/47014dffe6aa0a31643b7bf05c7186433ef469fd0/dependencies.ipynb\">dependencies</a>)<br>"
      ],
      "text/plain": [
       "transitivityLessEqLessEq: forall_{x, y, z | x <= y , y <= z} (x <= z)"
      ]
     },
     "execution_count": 2,
     "metadata": {},
     "output_type": "execute_result"
    }
   ],
   "source": [
    "%proving transitivityLessEqLessEq presuming [proveit.logic]"
   ]
  },
  {
   "cell_type": "code",
   "execution_count": 3,
   "metadata": {},
   "outputs": [
    {
     "data": {
      "text/html": [
       "<strong id=\"defaults.assumptions\">defaults.assumptions:</strong> <a class=\"ProveItLink\" href=\"../__pv_it/93b9c02a4aca7d15ec1691063893a946ad4ec6e70/expr.ipynb\"><img src=\"../__pv_it/93b9c02a4aca7d15ec1691063893a946ad4ec6e70/expr.png\" style=\"display:inline;vertical-align:middle;\" /></a><br>"
      ],
      "text/plain": [
       "defaults.assumptions: (x <= y , y <= z)"
      ]
     },
     "execution_count": 3,
     "metadata": {},
     "output_type": "execute_result"
    }
   ],
   "source": [
    "defaults.assumptions = transitivityLessEqLessEq.allConditions()"
   ]
  },
  {
   "cell_type": "code",
   "execution_count": 4,
   "metadata": {},
   "outputs": [
    {
     "data": {
      "text/html": [
       "<span style=\"font-size:20px;\"> &#x22A2;&nbsp;<a class=\"ProveItLink\" href=\"../../../logic/equality/__pv_it/3e27e37ba4c21dbc2950467f18d0691b4108abf10/expr.ipynb\"><img src=\"../../../logic/equality/__pv_it/3e27e37ba4c21dbc2950467f18d0691b4108abf10/expr.png\" style=\"display:inline;vertical-align:middle;\" /></a></span>"
      ],
      "text/plain": [
       "|= forall_{x, y, z | x = y , y = z} (x = z)"
      ]
     },
     "execution_count": 4,
     "metadata": {},
     "output_type": "execute_result"
    }
   ],
   "source": [
    "equalsTransitivity"
   ]
  },
  {
   "cell_type": "code",
   "execution_count": 5,
   "metadata": {},
   "outputs": [
    {
     "data": {
      "text/html": [
       "<strong id=\"specET\">specET:</strong> <span style=\"font-size:20px;\"><a class=\"ProveItLink\" href=\"../__pv_it/4e5540d064ae209c8abe81625c478bc6181a4cd20/expr.ipynb\"><img src=\"../__pv_it/4e5540d064ae209c8abe81625c478bc6181a4cd20/expr.png\" style=\"display:inline;vertical-align:middle;\" /></a> &#x22A2;&nbsp;<a class=\"ProveItLink\" href=\"../__pv_it/06b8e04239e207fc9524b3fbf7e7f1ecffeee2b60/expr.ipynb\"><img src=\"../__pv_it/06b8e04239e207fc9524b3fbf7e7f1ecffeee2b60/expr.png\" style=\"display:inline;vertical-align:middle;\" /></a></span><br>"
      ],
      "text/plain": [
       "specET: {x = y , y = z} |= x = z"
      ]
     },
     "execution_count": 5,
     "metadata": {},
     "output_type": "execute_result"
    }
   ],
   "source": [
    "specET = equalsTransitivity.specialize(assumptions = [Equals(x,y), Equals(y,z)])"
   ]
  },
  {
   "cell_type": "code",
   "execution_count": 6,
   "metadata": {},
   "outputs": [
    {
     "data": {
      "text/html": [
       "<span style=\"font-size:20px;\"><a class=\"ProveItLink\" href=\"../__pv_it/4e5540d064ae209c8abe81625c478bc6181a4cd20/expr.ipynb\"><img src=\"../__pv_it/4e5540d064ae209c8abe81625c478bc6181a4cd20/expr.png\" style=\"display:inline;vertical-align:middle;\" /></a> &#x22A2;&nbsp;<a class=\"ProveItLink\" href=\"../__pv_it/83b6cb9e732646fae74016a10b208aa6e862cdad0/expr.ipynb\"><img src=\"../__pv_it/83b6cb9e732646fae74016a10b208aa6e862cdad0/expr.png\" style=\"display:inline;vertical-align:middle;\" /></a></span>"
      ],
      "text/plain": [
       "{x = y , y = z} |= (x = z) = TRUE"
      ]
     },
     "execution_count": 6,
     "metadata": {},
     "output_type": "execute_result"
    }
   ],
   "source": [
    "specET.evaluation()"
   ]
  },
  {
   "cell_type": "code",
   "execution_count": 7,
   "metadata": {},
   "outputs": [
    {
     "data": {
      "text/html": [
       "<span style=\"font-size:20px;\"> &#x22A2;&nbsp;<a class=\"ProveItLink\" href=\"../__pv_it/0089ed717314c7cad4dd311173cecf98c91b2ac60/expr.ipynb\"><img src=\"../__pv_it/0089ed717314c7cad4dd311173cecf98c91b2ac60/expr.png\" style=\"display:inline;vertical-align:middle;\" /></a></span>"
      ],
      "text/plain": [
       "|= forall_{x, y} (((x < y) or (x = y)) = (x <= y))"
      ]
     },
     "execution_count": 7,
     "metadata": {},
     "output_type": "execute_result"
    }
   ],
   "source": [
    "lessEqDef"
   ]
  },
  {
   "cell_type": "code",
   "execution_count": 8,
   "metadata": {},
   "outputs": [
    {
     "data": {
      "text/html": [
       "<strong id=\"specLEDxy\">specLEDxy:</strong> <span style=\"font-size:20px;\"> &#x22A2;&nbsp;<a class=\"ProveItLink\" href=\"../__pv_it/546d016814b1e3d65bd862747e1a647d4ea36b500/expr.ipynb\"><img src=\"../__pv_it/546d016814b1e3d65bd862747e1a647d4ea36b500/expr.png\" style=\"display:inline;vertical-align:middle;\" /></a></span><br>"
      ],
      "text/plain": [
       "specLEDxy: |= ((x < y) or (x = y)) = (x <= y)"
      ]
     },
     "execution_count": 8,
     "metadata": {},
     "output_type": "execute_result"
    }
   ],
   "source": [
    "specLEDxy = lessEqDef.specialize()"
   ]
  },
  {
   "cell_type": "code",
   "execution_count": 9,
   "metadata": {},
   "outputs": [
    {
     "data": {
      "text/html": [
       "<span style=\"font-size:20px;\"><a class=\"ProveItLink\" href=\"../__pv_it/79a674e8487f7f7b28c282811f719504bbfe2e160/expr.ipynb\"><img src=\"../__pv_it/79a674e8487f7f7b28c282811f719504bbfe2e160/expr.png\" style=\"display:inline;vertical-align:middle;\" /></a> &#x22A2;&nbsp;<a class=\"ProveItLink\" href=\"../__pv_it/0f0c997d0aa1c272eb44cb97bb9060e1d73029bb0/expr.ipynb\"><img src=\"../__pv_it/0f0c997d0aa1c272eb44cb97bb9060e1d73029bb0/expr.png\" style=\"display:inline;vertical-align:middle;\" /></a></span>"
      ],
      "text/plain": [
       "{x <= y} |= ((x < y) or (x = y)) = TRUE"
      ]
     },
     "execution_count": 9,
     "metadata": {},
     "output_type": "execute_result"
    }
   ],
   "source": [
    "specLEDxy.lhs.evaluation()"
   ]
  },
  {
   "cell_type": "code",
   "execution_count": 10,
   "metadata": {},
   "outputs": [
    {
     "data": {
      "text/html": [
       "<strong id=\"specLEDyz\">specLEDyz:</strong> <span style=\"font-size:20px;\"> &#x22A2;&nbsp;<a class=\"ProveItLink\" href=\"../__pv_it/4c73f437643da57b0b203fbe6f8a98bb8150c2460/expr.ipynb\"><img src=\"../__pv_it/4c73f437643da57b0b203fbe6f8a98bb8150c2460/expr.png\" style=\"display:inline;vertical-align:middle;\" /></a></span><br>"
      ],
      "text/plain": [
       "specLEDyz: |= ((y < z) or (y = z)) = (y <= z)"
      ]
     },
     "execution_count": 10,
     "metadata": {},
     "output_type": "execute_result"
    }
   ],
   "source": [
    "specLEDyz = lessEqDef.specialize({x:y, y:z})"
   ]
  },
  {
   "cell_type": "code",
   "execution_count": 11,
   "metadata": {},
   "outputs": [
    {
     "data": {
      "text/html": [
       "<span style=\"font-size:20px;\"><a class=\"ProveItLink\" href=\"../__pv_it/bb1f837f00b9c83aee8debf0ba6fb0d772d4fef80/expr.ipynb\"><img src=\"../__pv_it/bb1f837f00b9c83aee8debf0ba6fb0d772d4fef80/expr.png\" style=\"display:inline;vertical-align:middle;\" /></a> &#x22A2;&nbsp;<a class=\"ProveItLink\" href=\"../__pv_it/326bc860ecc66af81de32086ce503c506dd14b710/expr.ipynb\"><img src=\"../__pv_it/326bc860ecc66af81de32086ce503c506dd14b710/expr.png\" style=\"display:inline;vertical-align:middle;\" /></a></span>"
      ],
      "text/plain": [
       "{y <= z} |= ((y < z) or (y = z)) = TRUE"
      ]
     },
     "execution_count": 11,
     "metadata": {},
     "output_type": "execute_result"
    }
   ],
   "source": [
    "specLEDyz.lhs.evaluation()"
   ]
  },
  {
   "cell_type": "code",
   "execution_count": 12,
   "metadata": {},
   "outputs": [
    {
     "data": {
      "text/html": [
       "<span style=\"font-size:20px;\"> &#x22A2;&nbsp;<a class=\"ProveItLink\" href=\"../__pv_it/fcfb29e576168acea8b303a9c503b3b79252282c0/expr.ipynb\"><img src=\"../__pv_it/fcfb29e576168acea8b303a9c503b3b79252282c0/expr.png\" style=\"display:inline;vertical-align:middle;\" /></a></span>"
      ],
      "text/plain": [
       "|= forall_{x, y, z | x < y , y < z} (x < z)"
      ]
     },
     "execution_count": 12,
     "metadata": {},
     "output_type": "execute_result"
    }
   ],
   "source": [
    "transitivityLessLess"
   ]
  },
  {
   "cell_type": "code",
   "execution_count": 13,
   "metadata": {},
   "outputs": [
    {
     "data": {
      "text/html": [
       "<strong id=\"specTLL\">specTLL:</strong> <span style=\"font-size:20px;\"><a class=\"ProveItLink\" href=\"../__pv_it/f7ae1db9b03ff2a97ab46ad6f044ec1a479641990/expr.ipynb\"><img src=\"../__pv_it/f7ae1db9b03ff2a97ab46ad6f044ec1a479641990/expr.png\" style=\"display:inline;vertical-align:middle;\" /></a> &#x22A2;&nbsp;<a class=\"ProveItLink\" href=\"../__pv_it/6b5acf781be3af01dc4fd796c6bec87cf5ffa4d80/expr.ipynb\"><img src=\"../__pv_it/6b5acf781be3af01dc4fd796c6bec87cf5ffa4d80/expr.png\" style=\"display:inline;vertical-align:middle;\" /></a></span><br>"
      ],
      "text/plain": [
       "specTLL: {x < y , y < z} |= x < z"
      ]
     },
     "execution_count": 13,
     "metadata": {},
     "output_type": "execute_result"
    }
   ],
   "source": [
    "specTLL = transitivityLessLess.specialize(assumptions = [Less(x,y), Less(y,z)])"
   ]
  },
  {
   "cell_type": "code",
   "execution_count": 14,
   "metadata": {},
   "outputs": [
    {
     "data": {
      "text/html": [
       "<span style=\"font-size:20px;\"><a class=\"ProveItLink\" href=\"../__pv_it/f7ae1db9b03ff2a97ab46ad6f044ec1a479641990/expr.ipynb\"><img src=\"../__pv_it/f7ae1db9b03ff2a97ab46ad6f044ec1a479641990/expr.png\" style=\"display:inline;vertical-align:middle;\" /></a> &#x22A2;&nbsp;<a class=\"ProveItLink\" href=\"../__pv_it/7ccdad6193e40153f490a92217e90c4a438c07080/expr.ipynb\"><img src=\"../__pv_it/7ccdad6193e40153f490a92217e90c4a438c07080/expr.png\" style=\"display:inline;vertical-align:middle;\" /></a></span>"
      ],
      "text/plain": [
       "{x < y , y < z} |= (x < z) = TRUE"
      ]
     },
     "execution_count": 14,
     "metadata": {},
     "output_type": "execute_result"
    }
   ],
   "source": [
    "specTLL.evaluation()"
   ]
  },
  {
   "cell_type": "code",
   "execution_count": 15,
   "metadata": {},
   "outputs": [
    {
     "data": {
      "text/html": [
       "<strong id=\"specLEDxz\">specLEDxz:</strong> <span style=\"font-size:20px;\"> &#x22A2;&nbsp;<a class=\"ProveItLink\" href=\"../__pv_it/2216772dd3268e56b3054efee36f427c04444f930/expr.ipynb\"><img src=\"../__pv_it/2216772dd3268e56b3054efee36f427c04444f930/expr.png\" style=\"display:inline;vertical-align:middle;\" /></a></span><br>"
      ],
      "text/plain": [
       "specLEDxz: |= ((x < z) or (x = z)) = (x <= z)"
      ]
     },
     "execution_count": 15,
     "metadata": {},
     "output_type": "execute_result"
    }
   ],
   "source": [
    "specLEDxz = lessEqDef.specialize({x:x,y:z})"
   ]
  },
  {
   "cell_type": "code",
   "execution_count": 16,
   "metadata": {},
   "outputs": [
    {
     "data": {
      "text/html": [
       "<span style=\"font-size:20px;\"> &#x22A2;&nbsp;<a class=\"ProveItLink\" href=\"../__pv_it/cbf880346c35f60270ffd774ec63ce20703693940/expr.ipynb\"><img src=\"../__pv_it/cbf880346c35f60270ffd774ec63ce20703693940/expr.png\" style=\"display:inline;vertical-align:middle;\" /></a></span>"
      ],
      "text/plain": [
       "|= (((x < z) or (x = z)) = (x <= z)) = TRUE"
      ]
     },
     "execution_count": 16,
     "metadata": {},
     "output_type": "execute_result"
    }
   ],
   "source": [
    "specLEDxz.evaluation()"
   ]
  },
  {
   "cell_type": "code",
   "execution_count": 17,
   "metadata": {},
   "outputs": [
    {
     "data": {
      "text/html": [
       "<strong id=\"xeqY\">xeqY:</strong> <span style=\"font-size:20px;\"><a class=\"ProveItLink\" href=\"../__pv_it/4e5540d064ae209c8abe81625c478bc6181a4cd20/expr.ipynb\"><img src=\"../__pv_it/4e5540d064ae209c8abe81625c478bc6181a4cd20/expr.png\" style=\"display:inline;vertical-align:middle;\" /></a> &#x22A2;&nbsp;<a class=\"ProveItLink\" href=\"../__pv_it/06b8e04239e207fc9524b3fbf7e7f1ecffeee2b60/expr.ipynb\"><img src=\"../__pv_it/06b8e04239e207fc9524b3fbf7e7f1ecffeee2b60/expr.png\" style=\"display:inline;vertical-align:middle;\" /></a></span><br>"
      ],
      "text/plain": [
       "xeqY: {x = y , y = z} |= x = z"
      ]
     },
     "execution_count": 17,
     "metadata": {},
     "output_type": "execute_result"
    }
   ],
   "source": [
    "xeqY = Equals(x,z).prove(assumptions = [Equals(x,y), Equals(y,z)])"
   ]
  },
  {
   "cell_type": "code",
   "execution_count": 18,
   "metadata": {},
   "outputs": [
    {
     "data": {
      "text/html": [
       "<strong id=\"xeqYlessEqz\">xeqYlessEqz:</strong> <span style=\"font-size:20px;\"><a class=\"ProveItLink\" href=\"../__pv_it/52630a748ad66b29db05ae21e9356949f53a1e8a0/expr.ipynb\"><img src=\"../__pv_it/52630a748ad66b29db05ae21e9356949f53a1e8a0/expr.png\" style=\"display:inline;vertical-align:middle;\" /></a> &#x22A2;&nbsp;<a class=\"ProveItLink\" href=\"../__pv_it/ec017a253223befc83f6ae0a7e6bd12b58ddd9990/expr.ipynb\"><img src=\"../__pv_it/ec017a253223befc83f6ae0a7e6bd12b58ddd9990/expr.png\" style=\"display:inline;vertical-align:middle;\" /></a></span><br>"
      ],
      "text/plain": [
       "xeqYlessEqz: {x = y , y <= z} |= x <= z"
      ]
     },
     "execution_count": 18,
     "metadata": {},
     "output_type": "execute_result"
    }
   ],
   "source": [
    "xeqYlessEqz = LessEq(x,z).prove(assumptions = [Equals(x,y), LessEq(y,z)])"
   ]
  },
  {
   "cell_type": "code",
   "execution_count": 19,
   "metadata": {},
   "outputs": [
    {
     "data": {
      "text/html": [
       "<strong id=\"xlessEqYeqZ\">xlessEqYeqZ:</strong> <span style=\"font-size:20px;\"><a class=\"ProveItLink\" href=\"../__pv_it/dda6cf2a8ff5389ad56345b88419859c42c666960/expr.ipynb\"><img src=\"../__pv_it/dda6cf2a8ff5389ad56345b88419859c42c666960/expr.png\" style=\"display:inline;vertical-align:middle;\" /></a> &#x22A2;&nbsp;<a class=\"ProveItLink\" href=\"../__pv_it/ec017a253223befc83f6ae0a7e6bd12b58ddd9990/expr.ipynb\"><img src=\"../__pv_it/ec017a253223befc83f6ae0a7e6bd12b58ddd9990/expr.png\" style=\"display:inline;vertical-align:middle;\" /></a></span><br>"
      ],
      "text/plain": [
       "xlessEqYeqZ: {x <= y , y = z} |= x <= z"
      ]
     },
     "execution_count": 19,
     "metadata": {},
     "output_type": "execute_result"
    }
   ],
   "source": [
    "xlessEqYeqZ = LessEq(x,z).prove(assumptions = [LessEq(x,y), Equals(y,z)])"
   ]
  },
  {
   "cell_type": "code",
   "execution_count": 20,
   "metadata": {},
   "outputs": [
    {
     "data": {
      "text/html": [
       "<strong id=\"xLessYlessZ\">xLessYlessZ:</strong> <span style=\"font-size:20px;\"><a class=\"ProveItLink\" href=\"../__pv_it/f7ae1db9b03ff2a97ab46ad6f044ec1a479641990/expr.ipynb\"><img src=\"../__pv_it/f7ae1db9b03ff2a97ab46ad6f044ec1a479641990/expr.png\" style=\"display:inline;vertical-align:middle;\" /></a> &#x22A2;&nbsp;<a class=\"ProveItLink\" href=\"../__pv_it/6b5acf781be3af01dc4fd796c6bec87cf5ffa4d80/expr.ipynb\"><img src=\"../__pv_it/6b5acf781be3af01dc4fd796c6bec87cf5ffa4d80/expr.png\" style=\"display:inline;vertical-align:middle;\" /></a></span><br>"
      ],
      "text/plain": [
       "xLessYlessZ: {x < y , y < z} |= x < z"
      ]
     },
     "execution_count": 20,
     "metadata": {},
     "output_type": "execute_result"
    }
   ],
   "source": [
    "xLessYlessZ = Less(x,z).prove(assumptions = [Less(x,y), Less(y,z)])"
   ]
  },
  {
   "cell_type": "code",
   "execution_count": 21,
   "metadata": {},
   "outputs": [
    {
     "data": {
      "text/html": [
       "<strong id=\"xLessYeqZ\">xLessYeqZ:</strong> <span style=\"font-size:20px;\"><a class=\"ProveItLink\" href=\"../__pv_it/e0c31976191b56e94ced607cbd1ef02f84d08b350/expr.ipynb\"><img src=\"../__pv_it/e0c31976191b56e94ced607cbd1ef02f84d08b350/expr.png\" style=\"display:inline;vertical-align:middle;\" /></a> &#x22A2;&nbsp;<a class=\"ProveItLink\" href=\"../__pv_it/6b5acf781be3af01dc4fd796c6bec87cf5ffa4d80/expr.ipynb\"><img src=\"../__pv_it/6b5acf781be3af01dc4fd796c6bec87cf5ffa4d80/expr.png\" style=\"display:inline;vertical-align:middle;\" /></a></span><br>"
      ],
      "text/plain": [
       "xLessYeqZ: {x < y , y = z} |= x < z"
      ]
     },
     "execution_count": 21,
     "metadata": {},
     "output_type": "execute_result"
    }
   ],
   "source": [
    "xLessYeqZ = Less(x,z).prove(assumptions =[Less(x,y), Equals(y,z)])"
   ]
  },
  {
   "cell_type": "code",
   "execution_count": 22,
   "metadata": {},
   "outputs": [
    {
     "data": {
      "text/html": [
       "<strong id=\"xeqYlessZ\">xeqYlessZ:</strong> <span style=\"font-size:20px;\"><a class=\"ProveItLink\" href=\"../__pv_it/84cd75e01e21ff881ced3528ab6156fc8e0dc4290/expr.ipynb\"><img src=\"../__pv_it/84cd75e01e21ff881ced3528ab6156fc8e0dc4290/expr.png\" style=\"display:inline;vertical-align:middle;\" /></a> &#x22A2;&nbsp;<a class=\"ProveItLink\" href=\"../__pv_it/6b5acf781be3af01dc4fd796c6bec87cf5ffa4d80/expr.ipynb\"><img src=\"../__pv_it/6b5acf781be3af01dc4fd796c6bec87cf5ffa4d80/expr.png\" style=\"display:inline;vertical-align:middle;\" /></a></span><br>"
      ],
      "text/plain": [
       "xeqYlessZ: {x = y , y < z} |= x < z"
      ]
     },
     "execution_count": 22,
     "metadata": {},
     "output_type": "execute_result"
    }
   ],
   "source": [
    "xeqYlessZ = Less(x,z).prove(assumptions = [Equals(x,y), Less(y,z)])"
   ]
  },
  {
   "cell_type": "code",
   "execution_count": 23,
   "metadata": {},
   "outputs": [
    {
     "data": {
      "text/html": [
       "<strong id=\"xlessEqYLessZ\">xlessEqYLessZ:</strong> <span style=\"font-size:20px;\"><a class=\"ProveItLink\" href=\"../__pv_it/c814814d0c9786bcecbd6f477196bc0a746335ab0/expr.ipynb\"><img src=\"../__pv_it/c814814d0c9786bcecbd6f477196bc0a746335ab0/expr.png\" style=\"display:inline;vertical-align:middle;\" /></a> &#x22A2;&nbsp;<a class=\"ProveItLink\" href=\"../__pv_it/6b5acf781be3af01dc4fd796c6bec87cf5ffa4d80/expr.ipynb\"><img src=\"../__pv_it/6b5acf781be3af01dc4fd796c6bec87cf5ffa4d80/expr.png\" style=\"display:inline;vertical-align:middle;\" /></a></span><br>"
      ],
      "text/plain": [
       "xlessEqYLessZ: {x <= y , y < z} |= x < z"
      ]
     },
     "execution_count": 23,
     "metadata": {},
     "output_type": "execute_result"
    }
   ],
   "source": [
    "xlessEqYLessZ = Less(x,z).prove(assumptions = [LessEq(x,y), Less(y,z)])"
   ]
  },
  {
   "cell_type": "code",
   "execution_count": 24,
   "metadata": {},
   "outputs": [
    {
     "data": {
      "text/html": [
       "<strong id=\"xlessYlessEqZ\">xlessYlessEqZ:</strong> <span style=\"font-size:20px;\"><a class=\"ProveItLink\" href=\"../__pv_it/618413b6ccf40d3219f9893de80f05339201ed6c0/expr.ipynb\"><img src=\"../__pv_it/618413b6ccf40d3219f9893de80f05339201ed6c0/expr.png\" style=\"display:inline;vertical-align:middle;\" /></a> &#x22A2;&nbsp;<a class=\"ProveItLink\" href=\"../__pv_it/6b5acf781be3af01dc4fd796c6bec87cf5ffa4d80/expr.ipynb\"><img src=\"../__pv_it/6b5acf781be3af01dc4fd796c6bec87cf5ffa4d80/expr.png\" style=\"display:inline;vertical-align:middle;\" /></a></span><br>"
      ],
      "text/plain": [
       "xlessYlessEqZ: {x < y , y <= z} |= x < z"
      ]
     },
     "execution_count": 24,
     "metadata": {},
     "output_type": "execute_result"
    }
   ],
   "source": [
    "xlessYlessEqZ = Less(x,z).prove(assumptions = [Less(x,y), LessEq(y,z)])"
   ]
  },
  {
   "cell_type": "code",
   "execution_count": null,
   "metadata": {},
   "outputs": [],
   "source": []
  },
  {
   "cell_type": "code",
   "execution_count": null,
   "metadata": {},
   "outputs": [],
   "source": []
  },
  {
   "cell_type": "code",
   "execution_count": null,
   "metadata": {},
   "outputs": [],
   "source": []
  }
 ],
 "metadata": {
  "kernelspec": {
   "display_name": "Python 3",
   "language": "python",
   "name": "python3"
  },
  "language_info": {
   "codemirror_mode": {
    "name": "ipython",
    "version": 3
   },
   "file_extension": ".py",
   "mimetype": "text/x-python",
   "name": "python",
   "nbconvert_exporter": "python",
   "pygments_lexer": "ipython3",
   "version": "3.7.3"
  }
 },
 "nbformat": 4,
 "nbformat_minor": 1
}
