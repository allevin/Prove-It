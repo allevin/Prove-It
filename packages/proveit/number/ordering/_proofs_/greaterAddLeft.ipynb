{
 "cells": [
  {
   "cell_type": "markdown",
   "metadata": {},
   "source": [
    "Proof of <a class=\"ProveItLink\" href=\"../../../_context_.ipynb\">proveit</a>.<a class=\"ProveItLink\" href=\"../../_context_.ipynb\">number</a>.<a class=\"ProveItLink\" href=\"../_context_.ipynb\">ordering</a>.<a class=\"ProveItLink\" href=\"../_theorems_.ipynb#greaterAddLeft\">greaterAddLeft</a> theorem\n",
    "========"
   ]
  },
  {
   "cell_type": "code",
   "execution_count": 1,
   "metadata": {},
   "outputs": [],
   "source": [
    "import proveit\n",
    "context = proveit.Context('..') # the theorem's context is in the parent directory"
   ]
  },
  {
   "cell_type": "code",
   "execution_count": 2,
   "metadata": {},
   "outputs": [
    {
     "name": "stdout",
     "output_type": "stream",
     "text": [
      "Beginning proof of greaterAddLeft\n",
      "Recorded 'presuming' information\n",
      "Presuming previous theorems (applied transitively).\n"
     ]
    },
    {
     "data": {
      "text/html": [
       "<strong id=\"greaterAddLeft\">greaterAddLeft:</strong> <a class=\"ProveItLink\" href=\"../__pv_it/c6328f7e6aa00cb98d3f27e31f0debc407f85ac60/expr.ipynb\"><img src=\"data:image/png;base64,iVBORw0KGgoAAAANSUhEUgAAARAAAAAXBAMAAAAxVg0qAAAAMFBMVEX///8QEBC6urrMzMxUVFRm\n",
       "ZmZERETc3NwyMjKqqqp2dnaIiIiYmJgiIiLu7u4AAAAU9Wx4AAAAAXRSTlMAQObYZgAAA9BJREFU\n",
       "SMfNVltoE1EQPdk8Ntkkm6IfoqJE8AUiRpAKorT4oEpBgo8irUhQjIgi+1EfINIigvFB6Y9Q8MMg\n",
       "1FcxBK0ijcqifojSUhERxY8VK4qgCRYVsRTn7t1n3YgfURyY2bk3m7nnzj0ze4H/RbSaRxSKXD3l\n",
       "nudsLAkMM+dxLYEsMdRTgqmJMyMzyGwELrNBVy2BdP02YOcvM8dIw8ABeoiZGuKIFrna8s45eKTb\n",
       "dkdivrOzySNMJAl21xCIT+Nqy1nn4LVu/dmkRalxMnIdYhcPHjxSy5OZb2gVICG+aXGtuXlJZ+lu\n",
       "4Gs2+7KWQFoNFZvPT3EDka+UUpDSxuCqyp1wcz95vcAqYJeVplyVivxl2xM4J/WlTfe0obOUUMUN\n",
       "ZHEyPIyI+U/5TkF/ljMYBXqA2ZDtqL2u8D2XNp/i+bSmRIUvbK4badIfAxTGkElcxTEEMy4g8nSE\n",
       "VAh1VqzBbcye0zCNYANxRFXrtxOWJ9/YrEYlFNITgOzUeRi26L1/FbNPkTD5+ZlroIJ40QUkoCfI\n",
       "X7EbznFmtwBfgAYqNTVuc/yb5d2c90kjIENDbiAQTrK3EwqcSORxxLvdQBIZlFmNbsnlnuRyrFck\n",
       "Mm4gc3foj2cQxnQgcidrg/sH2LTwo58t87avGGOZYEDu2kDEtgsUOsJOa1FpPctaa4nsh+3wj1vb\n",
       "x1SuHUWcM74fRkY69Deso+lpMttIcFw/GuxaSSGfi6yco8OxRho8FSphcCAb8jaQj0oHixwjKt7B\n",
       "AzaRWsTmP3QJDiB7uZa7sTaScgJJEANUxAxCDhaM90fhozUekneGCjmQ9rNyDhVjbNAop5bpQIKr\n",
       "XzjIugYreO98jj0YJGc13rDxLdWZkV6uYTXyTHJzJA3JLF/56l3zhNZhk/EvH4VIJKONzE0xpieo\n",
       "663IZrPFqHT4vgPIZ/Tz2s1jMloMOkC+0A35G3wmRxZyFZuv1V9zl29riVYP6y31iF0fIzeYf5Sl\n",
       "mvJd1kJDxL8E4jRbJm+EH01kmWYBIUbuZZ+Neqq6Cl6BLc9wsMiTbfr6FK6/bfETRa6zPhANy7VD\n",
       "SpwaC9kUCgGFc6Tg4MhM/yjVUD0j2XCkUzxORSt9aknyPjLXulvkudqywDno8wQimQcrtD3eigZV\n",
       "aMuTFZsHNHm73tAKIy2aBWTObcpiu96G5wzAP4b2UkHgfIyWtv3ZNUDu9Jx+7x6qDisRR+wvld1G\n",
       "dtjXqiprtRvqKQHFc7rJNfIrtnVLyOvPS6usJRa5esp17zuM+94Wq7pRTyB65iJUXdl9/+yGHfj7\n",
       "S/wEnEQGi+6vM7YAAAAASUVORK5CYII=\n",
       "\" style=\"display:inline;vertical-align:middle;\" /></a><br>(see <a class=\"ProveItLink\" href=\"../__pv_it/c6328f7e6aa00cb98d3f27e31f0debc407f85ac60/dependencies.ipynb\">dependencies</a>)<br>"
      ],
      "text/plain": [
       "greaterAddLeft: forall_{a, b, c in Reals | a > b , c >= 0} ((a + c) > b)"
      ]
     },
     "execution_count": 2,
     "metadata": {},
     "output_type": "execute_result"
    }
   ],
   "source": [
    "%proving greaterAddLeft presuming []"
   ]
  },
  {
   "cell_type": "code",
   "execution_count": null,
   "metadata": {},
   "outputs": [],
   "source": []
  }
 ],
 "metadata": {
  "kernelspec": {
   "display_name": "Python 3",
   "language": "python",
   "name": "python3"
  }
 },
 "nbformat": 4,
 "nbformat_minor": 0
}
