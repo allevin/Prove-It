{
 "cells": [
  {
   "cell_type": "markdown",
   "metadata": {},
   "source": [
    "Proof of <a class=\"ProveItLink\" href=\"../../../_context_.ipynb\">proveit</a>.<a class=\"ProveItLink\" href=\"../../_context_.ipynb\">number</a>.<a class=\"ProveItLink\" href=\"../_context_.ipynb\">ordering</a>.<a class=\"ProveItLink\" href=\"../_theorems_.ipynb#transitivityGreaterEqGreaterEq\">transitivityGreaterEqGreaterEq</a> theorem\n",
    "========"
   ]
  },
  {
   "cell_type": "code",
   "execution_count": 1,
   "metadata": {},
   "outputs": [],
   "source": [
    "import proveit\n",
    "context = proveit.Context('..') # the theorem's context is in the parent directory"
   ]
  },
  {
   "cell_type": "code",
   "execution_count": 2,
   "metadata": {},
   "outputs": [
    {
     "name": "stdout",
     "output_type": "stream",
     "text": [
      "Beginning proof of transitivityGreaterEqGreaterEq\n",
      "Recorded 'presuming' information\n",
      "Presuming previous theorems (applied transitively).\n"
     ]
    },
    {
     "data": {
      "text/html": [
       "<strong id=\"transitivityGreaterEqGreaterEq\">transitivityGreaterEqGreaterEq:</strong> <a class=\"ProveItLink\" href=\"../__pv_it/2f06433c82df6f57503b007960441f7c55a7a4210/expr.ipynb\"><img src=\"data:image/png;base64,iVBORw0KGgoAAAANSUhEUgAAANEAAAAXBAMAAABnpbd1AAAAMFBMVEX///8QEBC6urrMzMxUVFRm\n",
       "ZmZERETc3NwyMjKqqqp2dnaIiIiYmJgiIiLu7u4AAAAU9Wx4AAAAAXRSTlMAQObYZgAAAtBJREFU\n",
       "SMe9VltIFFEY/nZn3HEvjqIPFVGsEFFs0UqSvYShoKEQPhkkxdKDRkYMoW4RxuKLLyFBGZEvQw/d\n",
       "pGUhk9IuQyBBJSz1EkGw9lBkBBtBvvjQ/5+5OLs6SjB0YPc75/tn/++c/3Jmgf82Cv65SnibXtEn\n",
       "z5O3fghJh71tFUngPk/G/FCqdIXnZ7bMmAGGCJSUH0qz7sXNY6XGN+ZOKq76obS9ZLWztWS5AMTu\n",
       "ptPDfggFM6XrA6fcqxAd5k9v7yc/lCp0SsNk+0SPTQyMmFhfq+QQ6QLolH1e2/yngjCARcwb2xxm\n",
       "8AN/K2cfdwNhOvEOqBmPH4ecWbi93LaKCcQBHS9xzWHmT/K3CvUobboGqELU2FAJg63lxnKmOs7X\n",
       "QJuzVp/blT7AzVYE6VQVNlbaWIqVgK2O0MOcnYMuS0nNNNJssmWK2jg4jQDLHhq7uKIUmUqwz0Wq\n",
       "pURK1LIFzEgfv1ktEmBUflO0RHZOOIG6JeQoeuhrIW+FNn7yR7XWwHzLnL6ilJVTWxgXx9TckkS/\n",
       "sIAZyHuO2wEg16+jRbwQQkecFg3rkKmZuBbG81xlV5i9vBfTwvzdFb14pbm9J4byJR+l68QCZkjW\n",
       "dkl1HF4O1SgiaENxJ6oH596NCCsdW9iWBN2BTrGluDtP1RrH/Q65lHWZHzZBMDjvtEQean/2wbPy\n",
       "dHbFftFzlewxxpmRaiSma1HHsB9NLqUGJMltXFRyIGmDyUhJSbNcblqv2xbsSXMkE8EFDXXBIoHU\n",
       "sTvlKEnFe9DVbnHKQHIflFEBFtN4+4brEvUek/bk69OeLJoNXJ/OEESDmzVHSe0fnykEk2Z2O09D\n",
       "WhZgMbn60bXeGsOfebxfaa6yy8FQNE6AsVY/iZHmNMZMWDWUdd6Eslb60tRC+i4GT6UzfGE3mbB6\n",
       "XPJWelS6jCE8qzOsce/10jiHiRk+uQCL8WnIfv41+gtWCLBd/OrhHQAAAABJRU5ErkJggg==\n",
       "\" style=\"display:inline;vertical-align:middle;\" /></a><br>(see <a class=\"ProveItLink\" href=\"../__pv_it/2f06433c82df6f57503b007960441f7c55a7a4210/dependencies.ipynb\">dependencies</a>)<br>"
      ],
      "text/plain": [
       "transitivityGreaterEqGreaterEq: forall_{x, y, z | x >= y , y >= z} (x >= z)"
      ]
     },
     "execution_count": 2,
     "metadata": {},
     "output_type": "execute_result"
    }
   ],
   "source": [
    "%proving transitivityGreaterEqGreaterEq presuming []"
   ]
  },
  {
   "cell_type": "code",
   "execution_count": null,
   "metadata": {},
   "outputs": [],
   "source": []
  }
 ],
 "metadata": {
  "kernelspec": {
   "display_name": "Python 3",
   "language": "python",
   "name": "python3"
  }
 },
 "nbformat": 4,
 "nbformat_minor": 0
}
