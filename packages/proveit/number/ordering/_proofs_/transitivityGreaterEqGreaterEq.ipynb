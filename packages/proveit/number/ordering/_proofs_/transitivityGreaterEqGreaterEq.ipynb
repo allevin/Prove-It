{
 "cells": [
  {
   "cell_type": "markdown",
   "metadata": {
    "collapsed": true
   },
   "source": [
    "Proof of <a class=\"ProveItLink\" href=\"../../../_context_.ipynb\">proveit</a>.<a class=\"ProveItLink\" href=\"../../_context_.ipynb\">number</a>.<a class=\"ProveItLink\" href=\"../_context_.ipynb\">ordering</a>.<a class=\"ProveItLink\" href=\"../_theorems_.ipynb#transitivityGreaterEqGreaterEq\">transitivityGreaterEqGreaterEq</a> theorem\n",
    "========"
   ]
  },
  {
   "cell_type": "code",
   "execution_count": 1,
   "metadata": {},
   "outputs": [],
   "source": [
    "import proveit\n",
    "from proveit import defaults\n",
    "from proveit.logic.equality._axioms_ import equalsTransitivity\n",
    "from proveit._common_ import x, y, z, A, B\n",
    "from proveit.logic import Equals, Or, InSet, Booleans, And, Not\n",
    "from proveit.number import GreaterEq, Greater\n",
    "from proveit.number.ordering._axioms_ import GreaterEqDef\n",
    "from proveit.number.ordering._theorems_ import transitivityGreaterEqGreater, transitivityGreaterGreaterEq\n",
    "from proveit.logic.boolean.disjunction._theorems_ import orIfBoth, orIfLeft, orIfRight\n",
    "context = proveit.Context('..') # the theorem's context is in the parent directory"
   ]
  },
  {
   "cell_type": "code",
   "execution_count": 2,
   "metadata": {},
   "outputs": [
    {
     "name": "stdout",
     "output_type": "stream",
     "text": [
      "Beginning proof of transitivityGreaterEqGreaterEq\n",
      "Recorded 'presuming' information\n",
      "Presuming theorems in proveit.logic (except any that presume this theorem).\n",
      "Presuming previous theorems (applied transitively).\n"
     ]
    },
    {
     "data": {
      "text/html": [
       "<strong id=\"transitivityGreaterEqGreaterEq\">transitivityGreaterEqGreaterEq:</strong> <a class=\"ProveItLink\" href=\"../__pv_it/e7b1dd4341385a3e97dc65524690fb82070e713f0/expr.ipynb\"><img src=\"../__pv_it/e7b1dd4341385a3e97dc65524690fb82070e713f0/expr.png\" style=\"display:inline;vertical-align:middle;\" /></a><br>(see <a class=\"ProveItLink\" href=\"../__pv_it/e7b1dd4341385a3e97dc65524690fb82070e713f0/dependencies.ipynb\">dependencies</a>)<br>"
      ],
      "text/plain": [
       "transitivityGreaterEqGreaterEq: forall_{x, y, z | x >= y , y >= z} (x >= z)"
      ]
     },
     "execution_count": 2,
     "metadata": {},
     "output_type": "execute_result"
    }
   ],
   "source": [
    "%proving transitivityGreaterEqGreaterEq presuming [proveit.logic]"
   ]
  },
  {
   "cell_type": "code",
   "execution_count": 3,
   "metadata": {},
   "outputs": [
    {
     "data": {
      "text/html": [
       "<strong id=\"defaults.assumptions\">defaults.assumptions:</strong> <a class=\"ProveItLink\" href=\"../__pv_it/f02efc280fd4c2ffc2ecd44a646608f78cfb5c9c0/expr.ipynb\"><img src=\"../__pv_it/f02efc280fd4c2ffc2ecd44a646608f78cfb5c9c0/expr.png\" style=\"display:inline;vertical-align:middle;\" /></a><br>"
      ],
      "text/plain": [
       "defaults.assumptions: (x >= y , y >= z)"
      ]
     },
     "execution_count": 3,
     "metadata": {},
     "output_type": "execute_result"
    }
   ],
   "source": [
    "defaults.assumptions = transitivityGreaterEqGreaterEq.allConditions()"
   ]
  },
  {
   "cell_type": "code",
   "execution_count": 4,
   "metadata": {},
   "outputs": [
    {
     "data": {
      "text/html": [
       "<span style=\"font-size:20px;\"> &#x22A2;&nbsp;<a class=\"ProveItLink\" href=\"../__pv_it/90c9c0cc9c40b0257535a9558504f87ceb90d93b0/expr.ipynb\"><img src=\"../__pv_it/90c9c0cc9c40b0257535a9558504f87ceb90d93b0/expr.png\" style=\"display:inline;vertical-align:middle;\" /></a></span>"
      ],
      "text/plain": [
       "|= forall_{x, y, z | x >= y , y > z} (x > z)"
      ]
     },
     "execution_count": 4,
     "metadata": {},
     "output_type": "execute_result"
    }
   ],
   "source": [
    "transitivityGreaterEqGreater"
   ]
  },
  {
   "cell_type": "code",
   "execution_count": 5,
   "metadata": {},
   "outputs": [
    {
     "data": {
      "text/html": [
       "<strong id=\"specTGEG\">specTGEG:</strong> <span style=\"font-size:20px;\"><a class=\"ProveItLink\" href=\"../__pv_it/5f3198c0249074a21e95c73800ea12e5d933e0d30/expr.ipynb\"><img src=\"../__pv_it/5f3198c0249074a21e95c73800ea12e5d933e0d30/expr.png\" style=\"display:inline;vertical-align:middle;\" /></a> &#x22A2;&nbsp;<a class=\"ProveItLink\" href=\"../__pv_it/09a018d245921e457a3e61cb9bdadc6be6363d770/expr.ipynb\"><img src=\"../__pv_it/09a018d245921e457a3e61cb9bdadc6be6363d770/expr.png\" style=\"display:inline;vertical-align:middle;\" /></a></span><br>"
      ],
      "text/plain": [
       "specTGEG: {x >= y , y > z} |= x > z"
      ]
     },
     "execution_count": 5,
     "metadata": {},
     "output_type": "execute_result"
    }
   ],
   "source": [
    "specTGEG = transitivityGreaterEqGreater.specialize(assumptions = [*defaults.assumptions,Greater(y,z)])"
   ]
  },
  {
   "cell_type": "code",
   "execution_count": 6,
   "metadata": {},
   "outputs": [
    {
     "data": {
      "text/html": [
       "<span style=\"font-size:20px;\"> &#x22A2;&nbsp;<a class=\"ProveItLink\" href=\"../__pv_it/526607175299d45186f748c41a8ad2c74a6e8f2f0/expr.ipynb\"><img src=\"../__pv_it/526607175299d45186f748c41a8ad2c74a6e8f2f0/expr.png\" style=\"display:inline;vertical-align:middle;\" /></a></span>"
      ],
      "text/plain": [
       "|= forall_{x, y, z | x > y , y >= z} (x > z)"
      ]
     },
     "execution_count": 6,
     "metadata": {},
     "output_type": "execute_result"
    }
   ],
   "source": [
    "transitivityGreaterGreaterEq"
   ]
  },
  {
   "cell_type": "code",
   "execution_count": 7,
   "metadata": {},
   "outputs": [
    {
     "data": {
      "text/html": [
       "<strong id=\"specTGGE\">specTGGE:</strong> <span style=\"font-size:20px;\"><a class=\"ProveItLink\" href=\"../__pv_it/d7af05644a8359d5e7cc0546c5d0c13950ea7d900/expr.ipynb\"><img src=\"../__pv_it/d7af05644a8359d5e7cc0546c5d0c13950ea7d900/expr.png\" style=\"display:inline;vertical-align:middle;\" /></a> &#x22A2;&nbsp;<a class=\"ProveItLink\" href=\"../__pv_it/09a018d245921e457a3e61cb9bdadc6be6363d770/expr.ipynb\"><img src=\"../__pv_it/09a018d245921e457a3e61cb9bdadc6be6363d770/expr.png\" style=\"display:inline;vertical-align:middle;\" /></a></span><br>"
      ],
      "text/plain": [
       "specTGGE: {y >= z , x > y} |= x > z"
      ]
     },
     "execution_count": 7,
     "metadata": {},
     "output_type": "execute_result"
    }
   ],
   "source": [
    "specTGGE = transitivityGreaterGreaterEq.specialize(assumptions = [*defaults.assumptions, Greater(x,y)])"
   ]
  },
  {
   "cell_type": "code",
   "execution_count": 8,
   "metadata": {},
   "outputs": [
    {
     "data": {
      "text/html": [
       "<span style=\"font-size:20px;\"> &#x22A2;&nbsp;<a class=\"ProveItLink\" href=\"../../../logic/equality/__pv_it/3e27e37ba4c21dbc2950467f18d0691b4108abf10/expr.ipynb\"><img src=\"../../../logic/equality/__pv_it/3e27e37ba4c21dbc2950467f18d0691b4108abf10/expr.png\" style=\"display:inline;vertical-align:middle;\" /></a></span>"
      ],
      "text/plain": [
       "|= forall_{x, y, z | x = y , y = z} (x = z)"
      ]
     },
     "execution_count": 8,
     "metadata": {},
     "output_type": "execute_result"
    }
   ],
   "source": [
    "equalsTransitivity"
   ]
  },
  {
   "cell_type": "code",
   "execution_count": 9,
   "metadata": {},
   "outputs": [
    {
     "data": {
      "text/html": [
       "<strong id=\"specET\">specET:</strong> <span style=\"font-size:20px;\"><a class=\"ProveItLink\" href=\"../__pv_it/4e5540d064ae209c8abe81625c478bc6181a4cd20/expr.ipynb\"><img src=\"../__pv_it/4e5540d064ae209c8abe81625c478bc6181a4cd20/expr.png\" style=\"display:inline;vertical-align:middle;\" /></a> &#x22A2;&nbsp;<a class=\"ProveItLink\" href=\"../__pv_it/06b8e04239e207fc9524b3fbf7e7f1ecffeee2b60/expr.ipynb\"><img src=\"../__pv_it/06b8e04239e207fc9524b3fbf7e7f1ecffeee2b60/expr.png\" style=\"display:inline;vertical-align:middle;\" /></a></span><br>"
      ],
      "text/plain": [
       "specET: {x = y , y = z} |= x = z"
      ]
     },
     "execution_count": 9,
     "metadata": {},
     "output_type": "execute_result"
    }
   ],
   "source": [
    "specET = equalsTransitivity.specialize(assumptions = [Equals(x,y), Equals(y,z)])"
   ]
  },
  {
   "cell_type": "code",
   "execution_count": 10,
   "metadata": {},
   "outputs": [
    {
     "data": {
      "text/html": [
       "<strong id=\"specOIR\">specOIR:</strong> <span style=\"font-size:20px;\"><a class=\"ProveItLink\" href=\"../__pv_it/1e0ee9f7d73732f7aeace5f5c254664d4598e6ba0/expr.ipynb\"><img src=\"../__pv_it/1e0ee9f7d73732f7aeace5f5c254664d4598e6ba0/expr.png\" style=\"display:inline;vertical-align:middle;\" /></a> &#x22A2;&nbsp;<a class=\"ProveItLink\" href=\"../__pv_it/59b8d3b1f1f08462a41bb396f69c0edfe83dca420/expr.ipynb\"><img src=\"../__pv_it/59b8d3b1f1f08462a41bb396f69c0edfe83dca420/expr.png\" style=\"display:inline;vertical-align:middle;\" /></a></span><br>"
      ],
      "text/plain": [
       "specOIR: {x = z , [not](x > z)} |= (x > z) or (x = z)"
      ]
     },
     "execution_count": 10,
     "metadata": {},
     "output_type": "execute_result"
    }
   ],
   "source": [
    "specOIR = orIfRight.specialize({A:specTGEG.expr, B: specET.expr}, \n",
    "                               assumptions = [*defaults.assumptions,specET.expr, Not(specTGEG.expr), Not(specTGGE.expr)])"
   ]
  },
  {
   "cell_type": "code",
   "execution_count": 11,
   "metadata": {},
   "outputs": [
    {
     "data": {
      "text/html": [
       "<strong id=\"specOIL\">specOIL:</strong> <span style=\"font-size:20px;\"><a class=\"ProveItLink\" href=\"../__pv_it/2afbaece1d3d7b07f9b890940a332ee492d6d2ba0/expr.ipynb\"><img src=\"../__pv_it/2afbaece1d3d7b07f9b890940a332ee492d6d2ba0/expr.png\" style=\"display:inline;vertical-align:middle;\" /></a> &#x22A2;&nbsp;<a class=\"ProveItLink\" href=\"../__pv_it/59b8d3b1f1f08462a41bb396f69c0edfe83dca420/expr.ipynb\"><img src=\"../__pv_it/59b8d3b1f1f08462a41bb396f69c0edfe83dca420/expr.png\" style=\"display:inline;vertical-align:middle;\" /></a></span><br>"
      ],
      "text/plain": [
       "specOIL: {x > z} |= (x > z) or (x = z)"
      ]
     },
     "execution_count": 11,
     "metadata": {},
     "output_type": "execute_result"
    }
   ],
   "source": [
    "specOIL = orIfLeft.specialize({A:specTGEG.expr, B: specET.expr}, \n",
    "                              assumptions = [*defaults.assumptions,Not(specET.expr), specTGEG.expr, specTGGE.expr])"
   ]
  },
  {
   "cell_type": "code",
   "execution_count": 12,
   "metadata": {},
   "outputs": [
    {
     "data": {
      "text/html": [
       "<span style=\"font-size:20px;\"> &#x22A2;&nbsp;<a class=\"ProveItLink\" href=\"../__pv_it/5e1b4dbdbbd80b491d4efff4fd21529b0c8c3c700/expr.ipynb\"><img src=\"../__pv_it/5e1b4dbdbbd80b491d4efff4fd21529b0c8c3c700/expr.png\" style=\"display:inline;vertical-align:middle;\" /></a></span>"
      ],
      "text/plain": [
       "|= forall_{x, y} (((x > y) or (x = y)) = (x >= y))"
      ]
     },
     "execution_count": 12,
     "metadata": {},
     "output_type": "execute_result"
    }
   ],
   "source": [
    "GreaterEqDef"
   ]
  },
  {
   "cell_type": "code",
   "execution_count": 13,
   "metadata": {},
   "outputs": [
    {
     "data": {
      "text/html": [
       "<strong id=\"specGEDxz\">specGEDxz:</strong> <span style=\"font-size:20px;\"> &#x22A2;&nbsp;<a class=\"ProveItLink\" href=\"../__pv_it/71aef6dbf88e1e919d811cfeb060ea2a224697fc0/expr.ipynb\"><img src=\"../__pv_it/71aef6dbf88e1e919d811cfeb060ea2a224697fc0/expr.png\" style=\"display:inline;vertical-align:middle;\" /></a></span><br>"
      ],
      "text/plain": [
       "specGEDxz: |= ((x > z) or (x = z)) = (x >= z)"
      ]
     },
     "execution_count": 13,
     "metadata": {},
     "output_type": "execute_result"
    }
   ],
   "source": [
    "specGEDxz = GreaterEqDef.specialize({y:z})"
   ]
  },
  {
   "cell_type": "code",
   "execution_count": 17,
   "metadata": {},
   "outputs": [
    {
     "data": {
      "text/html": [
       "<span style=\"font-size:20px;\"><a class=\"ProveItLink\" href=\"../__pv_it/e1ed105824894a4521758c9048d736b81d3d6ece0/expr.ipynb\"><img src=\"../__pv_it/e1ed105824894a4521758c9048d736b81d3d6ece0/expr.png\" style=\"display:inline;vertical-align:middle;\" /></a> &#x22A2;&nbsp;<a class=\"ProveItLink\" href=\"../__pv_it/d548603e34cba77abaee96508f8fb440208497ed0/expr.ipynb\"><img src=\"../__pv_it/d548603e34cba77abaee96508f8fb440208497ed0/expr.png\" style=\"display:inline;vertical-align:middle;\" /></a></span>"
      ],
      "text/plain": [
       "{(x > z) or (x = z)} |= x >= z"
      ]
     },
     "execution_count": 17,
     "metadata": {},
     "output_type": "execute_result"
    }
   ],
   "source": [
    "specGEDxz.expr.lhs.deriveViaDilemma(GreaterEq(x,z),assumptions = [*defaults.assumptions, specOIR.expr, specOIL.expr])"
   ]
  },
  {
   "cell_type": "code",
   "execution_count": null,
   "metadata": {},
   "outputs": [],
   "source": []
  },
  {
   "cell_type": "code",
   "execution_count": null,
   "metadata": {},
   "outputs": [],
   "source": []
  }
 ],
 "metadata": {
  "kernelspec": {
   "display_name": "Python 3",
   "language": "python",
   "name": "python3"
  },
  "language_info": {
   "codemirror_mode": {
    "name": "ipython",
    "version": 3
   },
   "file_extension": ".py",
   "mimetype": "text/x-python",
   "name": "python",
   "nbconvert_exporter": "python",
   "pygments_lexer": "ipython3",
   "version": "3.7.3"
  }
 },
 "nbformat": 4,
 "nbformat_minor": 1
}
