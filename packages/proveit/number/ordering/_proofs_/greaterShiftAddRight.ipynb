{
 "cells": [
  {
   "cell_type": "markdown",
   "metadata": {},
   "source": [
    "Proof of <a class=\"ProveItLink\" href=\"../../../_context_.ipynb\">proveit</a>.<a class=\"ProveItLink\" href=\"../../_context_.ipynb\">number</a>.<a class=\"ProveItLink\" href=\"../_context_.ipynb\">ordering</a>.<a class=\"ProveItLink\" href=\"../_theorems_.ipynb#greaterShiftAddRight\">greaterShiftAddRight</a> theorem\n",
    "========"
   ]
  },
  {
   "cell_type": "code",
   "execution_count": 1,
   "metadata": {},
   "outputs": [],
   "source": [
    "import proveit\n",
    "context = proveit.Context('..') # the theorem's context is in the parent directory"
   ]
  },
  {
   "cell_type": "code",
   "execution_count": 2,
   "metadata": {},
   "outputs": [
    {
     "name": "stdout",
     "output_type": "stream",
     "text": [
      "Beginning proof of greaterShiftAddRight\n",
      "Recorded 'presuming' information\n",
      "Presuming previous theorems (applied transitively).\n"
     ]
    },
    {
     "data": {
      "text/html": [
       "<strong id=\"greaterShiftAddRight\">greaterShiftAddRight:</strong> <a class=\"ProveItLink\" href=\"../__pv_it/13a31b7e1355e8cf67c802ff6b5b9748a81c419d0/expr.ipynb\"><img src=\"data:image/png;base64,iVBORw0KGgoAAAANSUhEUgAAASEAAAAXBAMAAAC2Z+QsAAAAMFBMVEX///8QEBC6urrMzMxUVFRm\n",
       "ZmZERETc3NwyMjKqqqp2dnaIiIiYmJgiIiLu7u4AAAAU9Wx4AAAAAXRSTlMAQObYZgAAA8lJREFU\n",
       "SMfNVmtIFFEUPu7Dfc+Gf3pBrBQlRDhB9EMK7R0YuBRKaJRYbURC82PTQMIl/DE9WYhAiGAhpIe0\n",
       "LFj9cCmG+hMKYkRE6o8RjKIglwIjjOiceezcu82UuFAdOHfm3jnfzDf3fPfcC/DfmVruC1w5bNY7\n",
       "PAzHHAA29tTwceqMlsFoE7q7wenpATuAsG3cJtQr6n6XOlfLYERYv+NM+20Bfts/SOnehRdf++IJ\n",
       "hSgHeXZEkNi0Zaj17eAB0bTReccCR3Sn3/OmF8+ogqZnFTsSYHUiLNEumzs4QK05pzdY4LTu4dvd\n",
       "3efKSFoNaTXlyAhO6pfkBRZwH+wYVaZ1n0skJspg1EqapNQkh6slntGHwSGAAbMzxQD68vt4RsK9\n",
       "vAjBOGiOKT5RXJiyw3dLF7EVeJnkq+DIUjjNz5G7Cq4A9JuBHydUEyDMQVTkGG2M+cchgFNNvgYE\n",
       "a9IHuO/232m+pN9Z0u8uCawiaSDhXgVaeEbTOegEqLZE/ko1AIEfUJFhGQkroVIBF2qOPAIhpYi6\n",
       "YEnyYbMSCkI2XsKo6zAf+Bk9ioyaACZ5Rk1aW19EuvdKBsCbgmicZeQpaAEF3UNKxKomX4t3j9Z9\n",
       "UpHR2FgJI6jJcoEmozkQvpCkZPnKMlmmejPHM3IlRBMQiUMtzsJBWX4hy330gnaWkZCiqntm+Cih\n",
       "5h8Qu7eDuTD9AzF6wjDSg/pzxUC05ZS1NPjmIVAQ2DnCETIza4E+qQjAcnREZeeoV4OYWYMT25HW\n",
       "a98PojAexr8TXroKWq1FRvszFiMjCJ4rRiBZJy1bBYRv4Eld47L2HaWDwYaIJsxEIABlvYJba1Gc\n",
       "MQXCqGdyuI6bjCfupq2mMhemToMg1mmMvDvfMMo2ggAeS3qgKXFaspfhZjzDMdoFcMtcAh8mVWbx\n",
       "eNLeBo6RJw5Ba/VDBZX1WIhiKkRvuy6LrYlEIhcK9jxjGBlB4LpoBJJtoAFkl8yvPhXjGHkH80jj\n",
       "vJbBKUuHCBAaD5VUyNY8qsMf0x3CiJtVK8cwz1GI4PzN4t2MnrVAnWoxMoLcx1UjUNsUSB5L/7SL\n",
       "sNsOu+3Z7SLmZlO/RT0rRbCgYStC1iPpOsoyOtKCwH1MopLRz26lI47nn+AvhyF97zWMO1cNGq6/\n",
       "pW30ENQrrrYMtr7GYVXo0CpkdqZFLTLSgny7Je02s7DTyHv744udUaEWUvyYwrRB1JH1xKpHa8WS\n",
       "FyVJJ44ntj2/DiUdQiktHokbcktWW2K/OUD5iHiP0+lJdADY2JDhbIaZduGM/pE1/L1P/QR90REQ\n",
       "6jW0hgAAAABJRU5ErkJggg==\n",
       "\" style=\"display:inline;vertical-align:middle;\" /></a><br>(see <a class=\"ProveItLink\" href=\"../__pv_it/13a31b7e1355e8cf67c802ff6b5b9748a81c419d0/dependencies.ipynb\">dependencies</a>)<br>"
      ],
      "text/plain": [
       "greaterShiftAddRight: forall_{a, b, c in Reals | a > b} ((a + c) > (b + c))"
      ]
     },
     "execution_count": 2,
     "metadata": {},
     "output_type": "execute_result"
    }
   ],
   "source": [
    "%proving greaterShiftAddRight presuming []"
   ]
  },
  {
   "cell_type": "code",
   "execution_count": null,
   "metadata": {},
   "outputs": [],
   "source": []
  }
 ],
 "metadata": {
  "kernelspec": {
   "display_name": "Python 3",
   "language": "python",
   "name": "python3"
  }
 },
 "nbformat": 4,
 "nbformat_minor": 0
}
