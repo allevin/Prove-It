{
 "cells": [
  {
   "cell_type": "markdown",
   "metadata": {},
   "source": [
    "Proof of <a class=\"ProveItLink\" href=\"../../../_context_.ipynb\">proveit</a>.<a class=\"ProveItLink\" href=\"../../_context_.ipynb\">number</a>.<a class=\"ProveItLink\" href=\"../_context_.ipynb\">ordering</a>.<a class=\"ProveItLink\" href=\"../_theorems_.ipynb#eq__in__less_eq_relations\">eq__in__less_eq_relations</a> theorem\n",
    "========"
   ]
  },
  {
   "cell_type": "code",
   "execution_count": 1,
   "metadata": {},
   "outputs": [],
   "source": [
    "import proveit\n",
    "context = proveit.Context('..') # the theorem's context is in the parent directory"
   ]
  },
  {
   "cell_type": "code",
   "execution_count": 2,
   "metadata": {},
   "outputs": [
    {
     "name": "stdout",
     "output_type": "stream",
     "text": [
      "Beginning proof of eq__in__less_eq_relations\n",
      "Recorded 'presuming' information\n",
      "Presuming previous theorems (applied transitively).\n"
     ]
    },
    {
     "data": {
      "text/html": [
       "<strong id=\"eq__in__less_eq_relations\">eq__in__less_eq_relations:</strong> <a class=\"ProveItLink\" href=\"../__pv_it/d769fb06dc6fbbd4a1c1e5ccc7cd7aa44b2ae1430/expr.ipynb\"><img src=\"data:image/png;base64,iVBORw0KGgoAAAANSUhEUgAAAHkAAAAVBAMAAACQ4lxbAAAAMFBMVEX///92dnaqqqoQEBC6urrc\n",
       "3NyYmJjMzMyIiIju7u5EREQiIiJUVFQyMjJmZmYAAACZj33uAAAAAXRSTlMAQObYZgAAAUdJREFU\n",
       "OMtjYMAC2J4xEATsggHYJTg3MhAB2I2wi3N8IEY3w1vswowGWM3cgiYgTEA363OE4MQdDPh0c/bu\n",
       "3n0BRTf7WQe47LxtDHh112ai2c1ypwAuGXOJAa9u1pVoLme6h4iSmisM2HW/vQsCdxi4EGr5QB7g\n",
       "2DgBLjBrOUIPH1j93QMMDPlIJs1CMIuB3mVEDiSOHROw2M37AMF23r0bGmo15iDDlqAkvo3YtK9N\n",
       "QHgNySBQaNWghBNyIMAAtwADw2uQnbt3McxGCPOAnRCHEkfwCOADq9+9ANXfPAhnMG6Apg+gcznh\n",
       "yXpVAYKDEWOcWzDSGsi38zfAtR9B4mCkltjnGCmV6TrD5K9ISlA4aOlc5zZaSgUDVwZcHGEi8lgC\n",
       "Ay4ODt1s6LqjwcG8BU03jvzNiZTOOFCyOErZYoKj1GATIrJcAwDdaV9rEQ0DlwAAAABJRU5ErkJg\n",
       "gg==\n",
       "\" style=\"display:inline;vertical-align:middle;\" /></a><br>(see <a class=\"ProveItLink\" href=\"../__pv_it/d769fb06dc6fbbd4a1c1e5ccc7cd7aa44b2ae1430/dependencies.ipynb\">dependencies</a>)<br>"
      ],
      "text/plain": [
       "eq__in__less_eq_relations: = in {< , <= , =}"
      ]
     },
     "execution_count": 2,
     "metadata": {},
     "output_type": "execute_result"
    }
   ],
   "source": [
    "%proving eq__in__less_eq_relations presuming []"
   ]
  },
  {
   "cell_type": "code",
   "execution_count": null,
   "metadata": {},
   "outputs": [],
   "source": []
  }
 ],
 "metadata": {
  "kernelspec": {
   "display_name": "Python 3",
   "language": "python",
   "name": "python3"
  }
 },
 "nbformat": 4,
 "nbformat_minor": 0
}
