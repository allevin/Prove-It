{
 "cells": [
  {
   "cell_type": "markdown",
   "metadata": {},
   "source": [
    "Proof of <a class=\"ProveItLink\" href=\"../../../_context_.ipynb\">proveit</a>.<a class=\"ProveItLink\" href=\"../../_context_.ipynb\">number</a>.<a class=\"ProveItLink\" href=\"../_context_.ipynb\">ordering</a>.<a class=\"ProveItLink\" href=\"../_theorems_.ipynb#reverseLess\">reverseLess</a> theorem\n",
    "========"
   ]
  },
  {
   "cell_type": "code",
   "execution_count": 1,
   "metadata": {},
   "outputs": [],
   "source": [
    "import proveit\n",
    "context = proveit.Context('..') # the theorem's context is in the parent directory"
   ]
  },
  {
   "cell_type": "code",
   "execution_count": 2,
   "metadata": {},
   "outputs": [
    {
     "name": "stdout",
     "output_type": "stream",
     "text": [
      "Beginning proof of reverseLess\n",
      "Recorded 'presuming' information\n"
     ]
    },
    {
     "data": {
      "text/html": [
       "<strong id=\"reverseLess\">reverseLess:</strong> <a class=\"ProveItLink\" href=\"../__pv_it/dcdef94725895aebe2a026768dfdae9a5a2d37aa0/expr.ipynb\"><img src=\"data:image/png;base64,iVBORw0KGgoAAAANSUhEUgAAAKEAAAAXBAMAAACR7DLtAAAAMFBMVEX///8QEBC6urrMzMxUVFRm\n",
       "ZmZERETc3NwyMjKqqqp2dnaIiIiYmJgiIiLu7u4AAAAU9Wx4AAAAAXRSTlMAQObYZgAAAk1JREFU\n",
       "OMutVE1oE0EU/rLpZpufToI9eChKDiKCiBFKb5JQoRVF6MmDRRErKdjLHsQKUtmbF5GACkIve/Mn\n",
       "GCLaUKnWxYugFHruKTnUQ70UBL2U4puZnf1JdwNbHNjd99438+2b9wf899VNfuR0PPSVnk0u/EhC\n",
       "mK7FY3oFeM2FJ0kYhwddywLu0ce4mYRxzRfvVvrB7/KPeiMJ4/FAAOrlPrAHFF4uLi4lIdSsgGJc\n",
       "7HMmQ/qfen0rCaNuAzvXYOwLjb11XO7m9PIskJsBLgDzB46VBySGKOyzyO9KlX1uie8ONpxjQJZu\n",
       "cALMOnAsnCojmN1UGenGdWS8LRs3+NvGFzylmJSAEeSdwYzsqhnQimUwjKHYVobxR7JTpkSuyPW8\n",
       "M9IdyMhehWJAjMjuo6oK5+ScK4wpRmaNk9Sc/EBbtA5SXZ9RGlcbAYBuTapu4Z3L82JaheY3+S5u\n",
       "jflJSlF3iu/8VTTP+T5K4yqPiQdQfZA+PIPbbhBbrvkbpWqdipHn5Dm1tobH3PzwDDo+ozCeb4cA\n",
       "WR96TduTtbPuWrN7mZLRlihS4sxfAVzC5WAcybh9KwTQf8gBtrAi9i95OWULrTefeG3xmBd4gNKl\n",
       "NAeOYDTAKIzbc0GA1lHh6WZ0tfaUUM1ZOdw3Mart+ozCSOOAx14BchhcQS9mFDSV8PPjbAtVB886\n",
       "ls8ojLQmiFIBcppt4U40YX+zOIY51I7omYmKB/AyqWF5JaZNh8zwcDYz9qmoLqSSUQBfD+Kb/n1Y\n",
       "LSC7ZkczesChV+3wR/8BqWqRXwZIrhIAAAAASUVORK5CYII=\n",
       "\" style=\"display:inline;vertical-align:middle;\" /></a><br>(see <a class=\"ProveItLink\" href=\"../__pv_it/dcdef94725895aebe2a026768dfdae9a5a2d37aa0/dependencies.ipynb\">dependencies</a>)<br>"
      ],
      "text/plain": [
       "reverseLess: forall_{x, y | x < y} (y > x)"
      ]
     },
     "execution_count": 2,
     "metadata": {},
     "output_type": "execute_result"
    }
   ],
   "source": [
    "%proving reverseLess presuming []"
   ]
  },
  {
   "cell_type": "code",
   "execution_count": null,
   "metadata": {},
   "outputs": [],
   "source": []
  }
 ],
 "metadata": {
  "kernelspec": {
   "display_name": "Python 3",
   "language": "python",
   "name": "python3"
  }
 },
 "nbformat": 4,
 "nbformat_minor": 0
}
