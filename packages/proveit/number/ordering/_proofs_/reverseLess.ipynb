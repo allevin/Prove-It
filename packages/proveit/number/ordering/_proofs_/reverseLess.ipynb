{
 "cells": [
  {
   "cell_type": "markdown",
   "metadata": {
    "collapsed": true
   },
   "source": [
    "Proof of <a class=\"ProveItLink\" href=\"../../../_context_.ipynb\">proveit</a>.<a class=\"ProveItLink\" href=\"../../_context_.ipynb\">number</a>.<a class=\"ProveItLink\" href=\"../_context_.ipynb\">ordering</a>.<a class=\"ProveItLink\" href=\"../_theorems_.ipynb#reverseLess\">reverseLess</a> theorem\n",
    "========"
   ]
  },
  {
   "cell_type": "code",
   "execution_count": 1,
   "metadata": {},
   "outputs": [],
   "source": [
    "import proveit\n",
    "from proveit import defaults\n",
    "from proveit.number.ordering._axioms_ import reverseRelation\n",
    "context = proveit.Context('..') # the theorem's context is in the parent directory"
   ]
  },
  {
   "cell_type": "code",
   "execution_count": 2,
   "metadata": {},
   "outputs": [
    {
     "name": "stdout",
     "output_type": "stream",
     "text": [
      "Beginning proof of reverseLess\n",
      "Recorded 'presuming' information\n",
      "Presuming theorems in proveit.logic (except any that presume this theorem).\n"
     ]
    },
    {
     "data": {
      "text/html": [
       "<strong id=\"reverseLess\">reverseLess:</strong> <a class=\"ProveItLink\" href=\"../__pv_it/c73eb7062f56fda798b4bbb758c0c654d01d0e4f0/expr.ipynb\"><img src=\"../__pv_it/c73eb7062f56fda798b4bbb758c0c654d01d0e4f0/expr.png\" style=\"display:inline;vertical-align:middle;\" /></a><br>(see <a class=\"ProveItLink\" href=\"../__pv_it/c73eb7062f56fda798b4bbb758c0c654d01d0e4f0/dependencies.ipynb\">dependencies</a>)<br>"
      ],
      "text/plain": [
       "reverseLess: forall_{x, y | x < y} (y > x)"
      ]
     },
     "execution_count": 2,
     "metadata": {},
     "output_type": "execute_result"
    }
   ],
   "source": [
    "%proving reverseLess presuming [proveit.logic]"
   ]
  },
  {
   "cell_type": "code",
   "execution_count": 3,
   "metadata": {},
   "outputs": [
    {
     "data": {
      "text/html": [
       "<strong id=\"defaults.assumptions\">defaults.assumptions:</strong> <a class=\"ProveItLink\" href=\"../__pv_it/d3403809ec264125bd9e834cfec4a04ecbc85da70/expr.ipynb\"><img src=\"../__pv_it/d3403809ec264125bd9e834cfec4a04ecbc85da70/expr.png\" style=\"display:inline;vertical-align:middle;\" /></a><br>"
      ],
      "text/plain": [
       "defaults.assumptions: (x < y)"
      ]
     },
     "execution_count": 3,
     "metadata": {},
     "output_type": "execute_result"
    }
   ],
   "source": [
    "defaults.assumptions = reverseLess.allConditions()"
   ]
  },
  {
   "cell_type": "code",
   "execution_count": 4,
   "metadata": {},
   "outputs": [
    {
     "data": {
      "text/html": [
       "<span style=\"font-size:20px;\"> &#x22A2;&nbsp;<a class=\"ProveItLink\" href=\"../__pv_it/647813d29dcf041dfc6d47b23ee873e12e4c95ac0/expr.ipynb\"><img src=\"../__pv_it/647813d29dcf041dfc6d47b23ee873e12e4c95ac0/expr.png\" style=\"display:inline;vertical-align:middle;\" /></a></span>"
      ],
      "text/plain": [
       "|= forall_{x, y} ((x < y) <=> (y > x))"
      ]
     },
     "execution_count": 4,
     "metadata": {},
     "output_type": "execute_result"
    }
   ],
   "source": [
    "reverseRelation"
   ]
  },
  {
   "cell_type": "code",
   "execution_count": 5,
   "metadata": {},
   "outputs": [
    {
     "data": {
      "text/html": [
       "<strong id=\"specRevRel\">specRevRel:</strong> <span style=\"font-size:20px;\"> &#x22A2;&nbsp;<a class=\"ProveItLink\" href=\"../__pv_it/faa5f565eeffc83ec8a39c98b9dc29c5b03d45aa0/expr.ipynb\"><img src=\"../__pv_it/faa5f565eeffc83ec8a39c98b9dc29c5b03d45aa0/expr.png\" style=\"display:inline;vertical-align:middle;\" /></a></span><br>"
      ],
      "text/plain": [
       "specRevRel: |= (x < y) <=> (y > x)"
      ]
     },
     "execution_count": 5,
     "metadata": {},
     "output_type": "execute_result"
    }
   ],
   "source": [
    "specRevRel = reverseRelation.specialize(assumptions = defaults.assumptions)"
   ]
  },
  {
   "cell_type": "code",
   "execution_count": 6,
   "metadata": {
    "scrolled": true
   },
   "outputs": [
    {
     "data": {
      "text/html": [
       "<strong id=\"rightImpl\">rightImpl:</strong> <span style=\"font-size:20px;\"><a class=\"ProveItLink\" href=\"../__pv_it/0c54c497571feb581956eae0e435228e72f1c4210/expr.ipynb\"><img src=\"../__pv_it/0c54c497571feb581956eae0e435228e72f1c4210/expr.png\" style=\"display:inline;vertical-align:middle;\" /></a> &#x22A2;&nbsp;<a class=\"ProveItLink\" href=\"../__pv_it/760940020f11f3c5865c0f2dee0f665934ef9e510/expr.ipynb\"><img src=\"../__pv_it/760940020f11f3c5865c0f2dee0f665934ef9e510/expr.png\" style=\"display:inline;vertical-align:middle;\" /></a></span><br>"
      ],
      "text/plain": [
       "rightImpl: {x < y} |= y > x"
      ]
     },
     "execution_count": 6,
     "metadata": {},
     "output_type": "execute_result"
    }
   ],
   "source": [
    "rightImpl = specRevRel.expr.deriveRight()"
   ]
  },
  {
   "cell_type": "code",
   "execution_count": 7,
   "metadata": {},
   "outputs": [
    {
     "data": {
      "text/html": [
       "<table><tr><th>&nbsp;</th><th>step type</th><th>requirements</th><th>statement</th></tr>\n",
       "<tr><td>0</td><td>generalizaton</td><td>1</td><td><span style=\"font-size:20px;\"> &#x22A2;&nbsp;<a class=\"ProveItLink\" href=\"../__pv_it/c73eb7062f56fda798b4bbb758c0c654d01d0e4f0/expr.ipynb\"><img src=\"../__pv_it/c73eb7062f56fda798b4bbb758c0c654d01d0e4f0/expr.png\" style=\"display:inline;vertical-align:middle;\" /></a></span></td></tr>\n",
       "<tr><td>1</td><td>specialization</td><td>2, 3, 4</td><td><span style=\"font-size:20px;\"><a class=\"ProveItLink\" href=\"../__pv_it/0c54c497571feb581956eae0e435228e72f1c4210/expr.ipynb\"><img src=\"../__pv_it/0c54c497571feb581956eae0e435228e72f1c4210/expr.png\" style=\"display:inline;vertical-align:middle;\" /></a> &#x22A2;&nbsp;<a class=\"ProveItLink\" href=\"../__pv_it/760940020f11f3c5865c0f2dee0f665934ef9e510/expr.ipynb\"><img src=\"../__pv_it/760940020f11f3c5865c0f2dee0f665934ef9e510/expr.png\" style=\"display:inline;vertical-align:middle;\" /></a></span></td></tr>\n",
       "<tr><td>&nbsp;</td><td colspan=4 style=\"text-align:left\"><span style=\"font-size:20px;\"><a class=\"ProveItLink\" href=\"../../../__pv_it/2cbe72a7ad6f655694dd697106680215e8489b600/expr.ipynb\"><img src=\"../../../__pv_it/2cbe72a7ad6f655694dd697106680215e8489b600/expr.png\" style=\"display:inline;vertical-align:middle;\" /></a> : <a class=\"ProveItLink\" href=\"../__pv_it/39543ce608b41f4e9b862b6a5cb6ff5e1297f19f0/expr.ipynb\"><img src=\"../__pv_it/39543ce608b41f4e9b862b6a5cb6ff5e1297f19f0/expr.png\" style=\"display:inline;vertical-align:middle;\" /></a>, <a class=\"ProveItLink\" href=\"../../../__pv_it/077b2ff79244fb4582cbe22c6e3356fa92a52f2f0/expr.ipynb\"><img src=\"../../../__pv_it/077b2ff79244fb4582cbe22c6e3356fa92a52f2f0/expr.png\" style=\"display:inline;vertical-align:middle;\" /></a> : <a class=\"ProveItLink\" href=\"../__pv_it/760940020f11f3c5865c0f2dee0f665934ef9e510/expr.ipynb\"><img src=\"../__pv_it/760940020f11f3c5865c0f2dee0f665934ef9e510/expr.png\" style=\"display:inline;vertical-align:middle;\" /></a></span></td></tr><tr><td>2</td><td>theorem</td><td></td><td><span style=\"font-size:20px;\"> &#x22A2;&nbsp;<a class=\"ProveItLink\" href=\"../../../logic/boolean/implication/__pv_it/ba70afb36cc7098f5364b40732e02c35d40eae600/expr.ipynb\"><img src=\"../../../logic/boolean/implication/__pv_it/ba70afb36cc7098f5364b40732e02c35d40eae600/expr.png\" style=\"display:inline;vertical-align:middle;\" /></a></span></td></tr>\n",
       "<tr><td>&nbsp;</td><td colspan=4 style-\"text-align:left\"><a class=\"ProveItLink\" href=\"../../../logic/boolean/implication/_proofs_/rightFromIff.ipynb\">proveit.logic.boolean.implication.rightFromIff</a></td></tr><tr><td>3</td><td>assumption</td><td></td><td><span style=\"font-size:20px;\"><a class=\"ProveItLink\" href=\"../__pv_it/0c54c497571feb581956eae0e435228e72f1c4210/expr.ipynb\"><img src=\"../__pv_it/0c54c497571feb581956eae0e435228e72f1c4210/expr.png\" style=\"display:inline;vertical-align:middle;\" /></a> &#x22A2;&nbsp;<a class=\"ProveItLink\" href=\"../__pv_it/39543ce608b41f4e9b862b6a5cb6ff5e1297f19f0/expr.ipynb\"><img src=\"../__pv_it/39543ce608b41f4e9b862b6a5cb6ff5e1297f19f0/expr.png\" style=\"display:inline;vertical-align:middle;\" /></a></span></td></tr>\n",
       "<tr><td>4</td><td>specialization</td><td>5</td><td><span style=\"font-size:20px;\"> &#x22A2;&nbsp;<a class=\"ProveItLink\" href=\"../__pv_it/faa5f565eeffc83ec8a39c98b9dc29c5b03d45aa0/expr.ipynb\"><img src=\"../__pv_it/faa5f565eeffc83ec8a39c98b9dc29c5b03d45aa0/expr.png\" style=\"display:inline;vertical-align:middle;\" /></a></span></td></tr>\n",
       "<tr><td>&nbsp;</td><td colspan=4 style=\"text-align:left\"><span style=\"font-size:20px;\"><a class=\"ProveItLink\" href=\"../../../__pv_it/530be409e3083890784cf1d7b28c9e67e90af9360/expr.ipynb\"><img src=\"../../../__pv_it/530be409e3083890784cf1d7b28c9e67e90af9360/expr.png\" style=\"display:inline;vertical-align:middle;\" /></a> : <a class=\"ProveItLink\" href=\"../../../__pv_it/530be409e3083890784cf1d7b28c9e67e90af9360/expr.ipynb\"><img src=\"../../../__pv_it/530be409e3083890784cf1d7b28c9e67e90af9360/expr.png\" style=\"display:inline;vertical-align:middle;\" /></a>, <a class=\"ProveItLink\" href=\"../../../__pv_it/f8b9edf8e16034727f0aad55bb83e392c3db40d40/expr.ipynb\"><img src=\"../../../__pv_it/f8b9edf8e16034727f0aad55bb83e392c3db40d40/expr.png\" style=\"display:inline;vertical-align:middle;\" /></a> : <a class=\"ProveItLink\" href=\"../../../__pv_it/f8b9edf8e16034727f0aad55bb83e392c3db40d40/expr.ipynb\"><img src=\"../../../__pv_it/f8b9edf8e16034727f0aad55bb83e392c3db40d40/expr.png\" style=\"display:inline;vertical-align:middle;\" /></a></span></td></tr><tr><td>5</td><td>axiom</td><td></td><td><span style=\"font-size:20px;\"> &#x22A2;&nbsp;<a class=\"ProveItLink\" href=\"../__pv_it/647813d29dcf041dfc6d47b23ee873e12e4c95ac0/expr.ipynb\"><img src=\"../__pv_it/647813d29dcf041dfc6d47b23ee873e12e4c95ac0/expr.png\" style=\"display:inline;vertical-align:middle;\" /></a></span></td></tr>\n",
       "<tr><td>&nbsp;</td><td colspan=4 style-\"text-align:left\"><a class=\"ProveItLink\" href=\"../_axioms_.ipynb#reverseRelation\">proveit.number.ordering.reverseRelation</a></td></tr></table>"
      ],
      "text/plain": [
       "\tstep type\trequirements\tstatement\n",
       "0\tgeneralizaton\t1\t|= forall_{x, y | x < y} (y > x)\n",
       "1\tspecialization\t2, 3, 4\t{x < y} |= y > x\n",
       "\tA : x < y, B : y > x\n",
       "2\ttheorem\t\t|= forall_{A, B | A , A <=> B} B\n",
       "\tproveit.logic.boolean.implication.rightFromIff\n",
       "3\tassumption\t\t{x < y} |= x < y\n",
       "4\tspecialization\t5\t|= (x < y) <=> (y > x)\n",
       "\tx : x, y : y\n",
       "5\taxiom\t\t|= forall_{x, y} ((x < y) <=> (y > x))\n",
       "\tproveit.number.ordering.reverseRelation"
      ]
     },
     "execution_count": 7,
     "metadata": {},
     "output_type": "execute_result"
    }
   ],
   "source": [
    "%qed"
   ]
  },
  {
   "cell_type": "code",
   "execution_count": null,
   "metadata": {},
   "outputs": [],
   "source": []
  }
 ],
 "metadata": {
  "kernelspec": {
   "display_name": "Python 3",
   "language": "python",
   "name": "python3"
  },
  "language_info": {
   "codemirror_mode": {
    "name": "ipython",
    "version": 3
   },
   "file_extension": ".py",
   "mimetype": "text/x-python",
   "name": "python",
   "nbconvert_exporter": "python",
   "pygments_lexer": "ipython3",
   "version": "3.7.3"
  }
 },
 "nbformat": 4,
 "nbformat_minor": 1
}
