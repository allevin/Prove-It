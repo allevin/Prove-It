{
 "cells": [
  {
   "cell_type": "markdown",
   "metadata": {},
   "source": [
    "Proof of <a class=\"ProveItLink\" href=\"../../../_context_.ipynb\">proveit</a>.<a class=\"ProveItLink\" href=\"../../_context_.ipynb\">number</a>.<a class=\"ProveItLink\" href=\"../_context_.ipynb\">ordering</a>.<a class=\"ProveItLink\" href=\"../_theorems_.ipynb#lessAddLeft\">lessAddLeft</a> theorem\n",
    "========"
   ]
  },
  {
   "cell_type": "code",
   "execution_count": 1,
   "metadata": {},
   "outputs": [],
   "source": [
    "import proveit\n",
    "context = proveit.Context('..') # the theorem's context is in the parent directory"
   ]
  },
  {
   "cell_type": "code",
   "execution_count": 2,
   "metadata": {},
   "outputs": [
    {
     "name": "stdout",
     "output_type": "stream",
     "text": [
      "Beginning proof of lessAddLeft\n",
      "Recorded 'presuming' information\n",
      "Presuming previous theorems (applied transitively).\n"
     ]
    },
    {
     "data": {
      "text/html": [
       "<strong id=\"lessAddLeft\">lessAddLeft:</strong> <a class=\"ProveItLink\" href=\"../__pv_it/679adfce8cbbf3c1caa4e981c296c3e74d41553a0/expr.ipynb\"><img src=\"data:image/png;base64,iVBORw0KGgoAAAANSUhEUgAAARAAAAAXBAMAAAAxVg0qAAAAMFBMVEX///8QEBC6urrMzMxUVFRm\n",
       "ZmZERETc3NwyMjKqqqp2dnaIiIiYmJgiIiLu7u4AAAAU9Wx4AAAAAXRSTlMAQObYZgAAA9VJREFU\n",
       "SMfNVl1oE1kU/pJJMpmZZFLWB1FZiaCrIGIWREGUFq3oUpCga5FWJKikLCsyD64uiLb4gxFF+iII\n",
       "C1qEumohBK2yNLsyqA+iWCoi4s/DiHVdBE2xrCJbiufeO5mfdqI+ZMUD5+bcm7nnfPfc75wZ4GsR\n",
       "q+4ewyWhgXItcDWRBoaYcbueQBbZGijRzMSV4W9pWA+cZ5Pj9QRy/KMOuyatHCSNA7voR87VEYdW\n",
       "EurKC+/klmvK6/nPe3Y3PYgTSaLddQQSsoS68pt38tSxpDVpTqlxGvQGJH7fvXtvPW9mnq01gMSq\n",
       "hw4fFHRROUt/At7m84/qCaTNVrnlzFQ/EP1COQM1KybKIUMY8ZZ+E+gFVgIdTuUValTkpGNP4Jza\n",
       "l62ax2ydZcRG/EC+T8eHoIid2qPq7VVyGAVOArOhu157fe5PnttwVOTTH3afcy5xuB0YIDe2fCNU\n",
       "HkM05wOiz0DMRLiBA3/s7D5tYTrBBpLQTGf1iGPplzeYmopidjKQ5x2Ie+itHLVwD6nqCd8IjYwg\n",
       "WfIBifAESXz8e4uzfSPwL9BISTKTLsffOdaVua8tAjI4OAnIy/1AynC7IiVNH0ey2w8klUOFsXFj\n",
       "oXC3UGC9IpVzgWCRc+T7CI9xIHoXa4O/DGxlXPivn4F63ldKsEwwIFddIHL7WXKtMRcLy2tZ1trK\n",
       "0BgfpHHn+JgmtLOE0/b7w85IJ39CXA0FfGI//x7RcX416FhBLh/IrJy1oUQTTe6FR+IQQNb1uEBe\n",
       "GZ2WCIy/cIMtZBYqD+1e4ADZLrTSjTVKxgskRQwwkagS8uVjAXMUIYpxk6wTVMiRrMTKOVZKsEmT\n",
       "nlnKgUSbH3rIugrLIQmW/Yw7NDbjmX42PSEjvULjpnJf9XMkCzXjoXlCFM4P+NHeFSIXqbTWxMwM\n",
       "Y3qKfC/P5/MlTd1z3QPkDfqht/J2OAWtNh30K0QO/R1CVY4sECq3XFx80V++bWW653jaZfkB/tK7\n",
       "zGplP0NGwCpWbJD4l0KSVitkDYurUZZaDhBi5PYXhITlewRPeHgmf3QzYA59Q4bQT7Z4r+gNzgui\n",
       "cZn1q5GkxkJjBsWIIThS9HBkpjRKNSQ3019DSpd8mIpWZThvmtRHvnMy3iPUlfneSV8gELV6seH2\n",
       "25vQaIbbe2iUWwYsfQtvaMXhVssBMudPnkVpm4E5A5DGsLNc5H+cglbe/HmfAXpX4PI//qnpGVXi\n",
       "iPum8j0mbRVHrxFrp62BEjECl1f7Axju6JdY0OYlNWLJJaGBcin4G8b/3ZaoedBAIDxzClVXfscX\n",
       "+8KO/P8hPgAkMQg8QGtSsQAAAABJRU5ErkJggg==\n",
       "\" style=\"display:inline;vertical-align:middle;\" /></a><br>(see <a class=\"ProveItLink\" href=\"../__pv_it/679adfce8cbbf3c1caa4e981c296c3e74d41553a0/dependencies.ipynb\">dependencies</a>)<br>"
      ],
      "text/plain": [
       "lessAddLeft: forall_{a, b, c in Reals | a < b , c <= 0} ((a + c) < b)"
      ]
     },
     "execution_count": 2,
     "metadata": {},
     "output_type": "execute_result"
    }
   ],
   "source": [
    "%proving lessAddLeft presuming []"
   ]
  },
  {
   "cell_type": "code",
   "execution_count": null,
   "metadata": {},
   "outputs": [],
   "source": []
  }
 ],
 "metadata": {
  "kernelspec": {
   "display_name": "Python 3",
   "language": "python",
   "name": "python3"
  }
 },
 "nbformat": 4,
 "nbformat_minor": 0
}
