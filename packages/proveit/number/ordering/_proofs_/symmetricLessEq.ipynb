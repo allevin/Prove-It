{
 "cells": [
  {
   "cell_type": "markdown",
   "metadata": {},
   "source": [
    "Proof of <a class=\"ProveItLink\" href=\"../../../_context_.ipynb\">proveit</a>.<a class=\"ProveItLink\" href=\"../../_context_.ipynb\">number</a>.<a class=\"ProveItLink\" href=\"../_context_.ipynb\">ordering</a>.<a class=\"ProveItLink\" href=\"../_theorems_.ipynb#symmetricLessEq\">symmetricLessEq</a> theorem\n",
    "========"
   ]
  },
  {
   "cell_type": "code",
   "execution_count": 1,
   "metadata": {},
   "outputs": [],
   "source": [
    "import proveit\n",
    "context = proveit.Context('..') # the theorem's context is in the parent directory"
   ]
  },
  {
   "cell_type": "code",
   "execution_count": 2,
   "metadata": {},
   "outputs": [
    {
     "name": "stdout",
     "output_type": "stream",
     "text": [
      "Beginning proof of symmetricLessEq\n",
      "Recorded 'presuming' information\n",
      "Presuming previous theorems (applied transitively).\n"
     ]
    },
    {
     "data": {
      "text/html": [
       "<strong id=\"symmetricLessEq\">symmetricLessEq:</strong> <a class=\"ProveItLink\" href=\"../__pv_it/7b7ca90e242d00509d0f529ab18dcf62026866f80/expr.ipynb\"><img src=\"data:image/png;base64,iVBORw0KGgoAAAANSUhEUgAAAMUAAAAXBAMAAABJ4JbnAAAAMFBMVEX///8QEBC6urrMzMxUVFRm\n",
       "ZmZERETc3NwyMjKqqqp2dnaIiIiYmJgiIiLu7u4AAAAU9Wx4AAAAAXRSTlMAQObYZgAAAlxJREFU\n",
       "SMe9Vj1o1GAYfu6ulzP3kzvsICJKBwdBRAWXTi0VKuhSxEHooDhcEZdMVhA1S0FBpKAWQcQsIlos\n",
       "B8qhnGhwURThZkGIi0O7HBR00MH3fb94Sb5cApLiC+FLnidvnrx/XwL8B/O34iH706l3dPT55FM+\n",
       "idJ0Olc+BDzhk1v5NLZlJcMBLtJSOZtPo5dFflTvUF7Op7Eni/wG1B8vLl7JJ1F0sliDAvjRbn/J\n",
       "p1F2Kd2rx+7Px2HrkYtrPqpzwFFgIeE28U8l94B1fPZ2s951MW60anGAt4BJUe6FlYw13gQrib6J\n",
       "IQV6I5cedzt+z2S5jzZlsgU0UPOyNe690ek40pzgUZ5NTHehg180PAOQQsPP1PjQ0VkNaUpmdyUe\n",
       "8tAvbSoNyzlC16szL2ggi10U/FBDwJccZUCoRZDAQ3LFrV/ZhMX1+Com/qdRa6lcYWGG6uPP8p0b\n",
       "TftwGIeAD2R2AkIWhQQe0p2k+b42gJ7SJRhU+zpX+y5tWUXcZPTqAXRDDQHXz0UIWRQSeIjcHMzf\n",
       "Rqui5/QUDnrCUqjC/RT4OE5E68HgxvkIIYtCAg+W68O6sPb0tV6P770zNnU2V6vOFSi1Sgxvx3hE\n",
       "Q4G1GyGhFkECD7YdaZPzTO0lyqaqThWXbIzT3Aw1BOSXoKwwEfKE/CWDbW+EjfWtndwbw7Beza9h\n",
       "ysOdrhNqCMhm+kJEeNMfkql7e8M1XCQG3KvYY50Rc06dKUTIa+zIb5TZO8nR2PHPmW24+zBSQ4gI\n",
       "r9nl9M3sefyyTtKurrHSJvOFCHiF5P8JmN7K35I/WCW5lXQloE0AAAAASUVORK5CYII=\n",
       "\" style=\"display:inline;vertical-align:middle;\" /></a><br>(see <a class=\"ProveItLink\" href=\"../__pv_it/7b7ca90e242d00509d0f529ab18dcf62026866f80/dependencies.ipynb\">dependencies</a>)<br>"
      ],
      "text/plain": [
       "symmetricLessEq: forall_{x, y | x <= y , y <= x} (x = y)"
      ]
     },
     "execution_count": 2,
     "metadata": {},
     "output_type": "execute_result"
    }
   ],
   "source": [
    "%proving symmetricLessEq presuming []"
   ]
  },
  {
   "cell_type": "code",
   "execution_count": null,
   "metadata": {},
   "outputs": [],
   "source": []
  }
 ],
 "metadata": {
  "kernelspec": {
   "display_name": "Python 3",
   "language": "python",
   "name": "python3"
  }
 },
 "nbformat": 4,
 "nbformat_minor": 0
}
