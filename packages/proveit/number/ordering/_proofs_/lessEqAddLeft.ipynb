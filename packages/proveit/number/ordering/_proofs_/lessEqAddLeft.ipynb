{
 "cells": [
  {
   "cell_type": "markdown",
   "metadata": {},
   "source": [
    "Proof of <a class=\"ProveItLink\" href=\"../../../_context_.ipynb\">proveit</a>.<a class=\"ProveItLink\" href=\"../../_context_.ipynb\">number</a>.<a class=\"ProveItLink\" href=\"../_context_.ipynb\">ordering</a>.<a class=\"ProveItLink\" href=\"../_theorems_.ipynb#lessEqAddLeft\">lessEqAddLeft</a> theorem\n",
    "========"
   ]
  },
  {
   "cell_type": "code",
   "execution_count": 1,
   "metadata": {},
   "outputs": [],
   "source": [
    "import proveit\n",
    "context = proveit.Context('..') # the theorem's context is in the parent directory"
   ]
  },
  {
   "cell_type": "code",
   "execution_count": 2,
   "metadata": {},
   "outputs": [
    {
     "name": "stdout",
     "output_type": "stream",
     "text": [
      "Beginning proof of lessEqAddLeft\n",
      "Recorded 'presuming' information\n",
      "Presuming previous theorems (applied transitively).\n"
     ]
    },
    {
     "data": {
      "text/html": [
       "<strong id=\"lessEqAddLeft\">lessEqAddLeft:</strong> <a class=\"ProveItLink\" href=\"../__pv_it/f2506940725b0adfcb51e5f2fb3b674f294223560/expr.ipynb\"><img src=\"data:image/png;base64,iVBORw0KGgoAAAANSUhEUgAAARAAAAAXBAMAAAAxVg0qAAAAMFBMVEX///8QEBC6urrMzMxUVFRm\n",
       "ZmZERETc3NwyMjKqqqp2dnaIiIiYmJgiIiLu7u4AAAAU9Wx4AAAAAXRSTlMAQObYZgAAA7xJREFU\n",
       "SMfNVmloE0EU/nJu9sim6A9RUSJ4gYgriIJYWjxQKUjwQlqRoBARRfKjHiDSIhVTFOkfQRC0CPUq\n",
       "hFDbIonKov4Qi6W2iHjBivVA0BSLiliKMzuTPdqt+iOKD97se5PNm2/mfe/NAv+LGGWP6M8x9ZQ7\n",
       "nrNKHOijRk85gSzh6ikhbezM4AwybAKuUud0OYGc/mXARtuU+81HE9EIcJA8hGQZccg5pra8czoP\n",
       "LOvDc/b8TnPTigghSailjEB8BlNbzjmdVyXjzQtOqVEyqBVQLh86dLScmZnPdQIgYb7p+mY+IZks\n",
       "3QN8TaWelRNILVeh5uIUNxD1WkGDlGCMPlZ6P1LTqQNtwCpgt1V5mQkqcty2G92+1J4omae4zkqH\n",
       "h9xAFscjfRDNf77dZf21mMQwcBaYDdWO2uYKf/bKlpPsPF3T4v7Sviw/T8JwmcRUGEEo6QKiTkdY\n",
       "h7/CZPRzi0UXDEwjsIEoZN2K2WxZatcWXZaQTYwDIp40EGlx+wOIlSJ/ZhocQjTnAhI0DyjAjkl5\n",
       "Vnp/G/AFqCLg9KjN8W+W1T3vk0GA9PaOBaLQQ4qlXb46imiLG0gsiSJtXtsymUeZDO0VsaQDCMTj\n",
       "PMRj+EdMIGojbYMH8jRr/h+dFNSb9pxCT4ICuW0DEeouaZBp/rGosIGeWm2B+YFRa/uYyrQhhwv8\n",
       "/uAn0mC+wVJDjSaNt5HQqJka7F5JQj4RaDnLfUo1cQb8QxEwIBtbbSAf0w2G+NQ0b+EendAWMd/v\n",
       "ALKPabEF60TNCSRGGKBDsQgZSJk/D8NH1rhPrDOkkIOJAC3ncE6hTrWqLTeBhFY/dZB1DSqhXopT\n",
       "cy8eknE1XjPfeSJtTCO6+FhycyQBSXPSPLCSjuuxmf/LR0LE4nI1NTXK9BiJXZlKpXKydOSuA8hn\n",
       "dJLj6qZkmIytnA6mr36Dr8SRhUyFmo6lHe7yrS2QPEfiYy+9LlortK0oJJNFI9xLyBNDlMwWiTXI\n",
       "UiMuNywghJH76LVxgyw5hBfm8uD+ZJu+vjTT37V4l6gV1gVRtcI4nI6SxkJGDdlgmnEk6+DIzMCw\n",
       "WUP3dfSJjcIJUrSSwfw85lpV1MrUlgVOp90TiFRKrL+uZzuqdH9dKxmFmryh7jQbWnZwq2EBmXOz\n",
       "i3Wc85iTR2AE9YUs9+XCjj/7DODN8+hLKv3W9Hv3W7pjlAhH7JvK87NqgrXquXpKMO05vdblBdL2\n",
       "6BZPIMsmWEvIMfWU697fMJrHFr02agMRSTWl9tsn5/D/hQT//hI/AY78ETogaAOIAAAAAElFTkSu\n",
       "QmCC\n",
       "\" style=\"display:inline;vertical-align:middle;\" /></a><br>(see <a class=\"ProveItLink\" href=\"../__pv_it/f2506940725b0adfcb51e5f2fb3b674f294223560/dependencies.ipynb\">dependencies</a>)<br>"
      ],
      "text/plain": [
       "lessEqAddLeft: forall_{a, b, c in Reals | a <= b , c <= 0} ((a + c) <= b)"
      ]
     },
     "execution_count": 2,
     "metadata": {},
     "output_type": "execute_result"
    }
   ],
   "source": [
    "%proving lessEqAddLeft presuming []"
   ]
  },
  {
   "cell_type": "code",
   "execution_count": null,
   "metadata": {},
   "outputs": [],
   "source": []
  }
 ],
 "metadata": {
  "kernelspec": {
   "display_name": "Python 3",
   "language": "python",
   "name": "python3"
  }
 },
 "nbformat": 4,
 "nbformat_minor": 0
}
