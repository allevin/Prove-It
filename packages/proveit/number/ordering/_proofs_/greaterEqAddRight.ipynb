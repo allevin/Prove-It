{
 "cells": [
  {
   "cell_type": "markdown",
   "metadata": {},
   "source": [
    "Proof of <a class=\"ProveItLink\" href=\"../../../_context_.ipynb\">proveit</a>.<a class=\"ProveItLink\" href=\"../../_context_.ipynb\">number</a>.<a class=\"ProveItLink\" href=\"../_context_.ipynb\">ordering</a>.<a class=\"ProveItLink\" href=\"../_theorems_.ipynb#greaterEqAddRight\">greaterEqAddRight</a> theorem\n",
    "========"
   ]
  },
  {
   "cell_type": "code",
   "execution_count": 1,
   "metadata": {},
   "outputs": [],
   "source": [
    "import proveit\n",
    "context = proveit.Context('..') # the theorem's context is in the parent directory"
   ]
  },
  {
   "cell_type": "code",
   "execution_count": 2,
   "metadata": {},
   "outputs": [
    {
     "name": "stdout",
     "output_type": "stream",
     "text": [
      "Beginning proof of greaterEqAddRight\n",
      "Recorded 'presuming' information\n",
      "Presuming previous theorems (applied transitively).\n"
     ]
    },
    {
     "data": {
      "text/html": [
       "<strong id=\"greaterEqAddRight\">greaterEqAddRight:</strong> <a class=\"ProveItLink\" href=\"../__pv_it/0aa99d7b8d5aeb3054e4038c6c90c6ac56606f170/expr.ipynb\"><img src=\"data:image/png;base64,iVBORw0KGgoAAAANSUhEUgAAARAAAAAXBAMAAAAxVg0qAAAAMFBMVEX///8QEBC6urrMzMxUVFRm\n",
       "ZmZERETc3NwyMjKqqqp2dnaIiIiYmJgiIiLu7u4AAAAU9Wx4AAAAAXRSTlMAQObYZgAAA7VJREFU\n",
       "SMfNVktoE0EY/vLcJJtsRA8+DhLxeZHmIApiaX2hUNHgowfriyoposgerAoiBlGM+CAHFW8GxaoU\n",
       "S/CFtCoBPQhiKZQivmAFRYloi0J7sBT/mdnszqYboRDBgX929tudf76Z/5t/BvhfilFzj97CRGBE\n",
       "E8L62MvLWhJZVA3Wlve5fdgk7DZrX6glEduZ9tZwwKFGt/9Dwg7RQ9lVQx6qFILwKV2G47kyQ12O\n",
       "TZ5biEgHcjUk4pFV592TlOC68qewrBdtErfozcOHj9UyMgscb750wobvwI0I9gobTqff1pLIVhbr\n",
       "pmtTzVdlbcKCT/asqyBS6rwH3AC3lUCbtZLZKjty3LQzrI50psb/e45slh4cKr8r25MmrA0jnnQQ\n",
       "8U3GeeAKuM2BlrG83HD4vHJry1neCNryW8MfEc6gmzpf1CuITKaxRxGw9B8dMEw4PAZP3kHkYwH7\n",
       "iTa4xaAWLS9nbAk92FJUI+hKOYmgfSXfclze/Ygbyuakk8hPwD+EWHnxv5lbmOBABvGUg8gGXjcI\n",
       "U4sxW+cjVuvh/B8GEentrSAimMTZOmhjiOVQyYRGjO/CoAmW3tlwLIU6mnMgmz0/LZtlOWVYJqJl\n",
       "WCps797NtPD7PiP1ubMQZdQZkac2EaWlg7kvtdJG7FlPER7jE9c6EryLOeJ04HgBV8XZ0f4eNkxp\n",
       "ZKchr4jymz/M0KBtBTl7rYyxkfuiRFTr9w6FIIhszNtEvuvHuZ/SBTzBc6ItiEC7ZbAu5ogU9MEc\n",
       "1oYZ54N2qAkmpc5w7ppRkhDwAsIu0QngT/nYORAsRNlLo5ZcyokEVr2RxLoa9fz5qIh9eGWtCNRz\n",
       "vIut91AxPBBhM26FvA38uUCjk8hq4Lq1feFhyTehsn88Sab2OC11fTqdLqiRo88kIj9xn82/g4Q6\n",
       "Bc3UGoGH2qW9ootZFrI0cnfx3YrNRLDWtK0ioQU6e2iNT0BYlNqDRrCX9BdHjNQ0SK1PIjThpYZF\n",
       "hLS5/4tQBIbAgj+FiZZJhncp53LdPfPLsFuKL58EDcuMI3qMEgvVSXT5daGRLkkjM32/erVmPve+\n",
       "cEY5TXlkHj7z5WddpDPM7dqRr3Y3iRSEiS8tL7ehoehtyVOtNHUbWitPaF2fmg2LyNzHD4peIYW5\n",
       "3fCNQu3ZgdlC/9Rl/DVA+cBLAn+9anw1TSpFqY6QRqwPQdc5VnF8cEIwsMY06aTU7dpZXIksqeJY\n",
       "KUwEhpoUNm6KbhOVzhraTekD0spdZkDtL75Viv/fD/EHx/UKLKJgnAMAAAAASUVORK5CYII=\n",
       "\" style=\"display:inline;vertical-align:middle;\" /></a><br>(see <a class=\"ProveItLink\" href=\"../__pv_it/0aa99d7b8d5aeb3054e4038c6c90c6ac56606f170/dependencies.ipynb\">dependencies</a>)<br>"
      ],
      "text/plain": [
       "greaterEqAddRight: forall_{a, b, c in Reals | a >= b , 0 >= c} (a >= (b + c))"
      ]
     },
     "execution_count": 2,
     "metadata": {},
     "output_type": "execute_result"
    }
   ],
   "source": [
    "%proving greaterEqAddRight presuming []"
   ]
  },
  {
   "cell_type": "code",
   "execution_count": null,
   "metadata": {},
   "outputs": [],
   "source": []
  }
 ],
 "metadata": {
  "kernelspec": {
   "display_name": "Python 3",
   "language": "python",
   "name": "python3"
  }
 },
 "nbformat": 4,
 "nbformat_minor": 0
}
