{
 "cells": [
  {
   "cell_type": "markdown",
   "metadata": {},
   "source": [
    "Proof of <a class=\"ProveItLink\" href=\"../../../_context_.ipynb\">proveit</a>.<a class=\"ProveItLink\" href=\"../../_context_.ipynb\">number</a>.<a class=\"ProveItLink\" href=\"../_context_.ipynb\">ordering</a>.<a class=\"ProveItLink\" href=\"../_theorems_.ipynb#lessShiftAddLeft\">lessShiftAddLeft</a> theorem\n",
    "========"
   ]
  },
  {
   "cell_type": "code",
   "execution_count": 1,
   "metadata": {},
   "outputs": [],
   "source": [
    "import proveit\n",
    "context = proveit.Context('..') # the theorem's context is in the parent directory"
   ]
  },
  {
   "cell_type": "code",
   "execution_count": 2,
   "metadata": {},
   "outputs": [
    {
     "name": "stdout",
     "output_type": "stream",
     "text": [
      "Beginning proof of lessShiftAddLeft\n",
      "Recorded 'presuming' information\n",
      "Presuming previous theorems (applied transitively).\n"
     ]
    },
    {
     "data": {
      "text/html": [
       "<strong id=\"lessShiftAddLeft\">lessShiftAddLeft:</strong> <a class=\"ProveItLink\" href=\"../__pv_it/29c64b212a5a8fb166d5fb7ca4bdc99f38ca5c9c0/expr.ipynb\"><img src=\"data:image/png;base64,iVBORw0KGgoAAAANSUhEUgAAASEAAAAXBAMAAAC2Z+QsAAAAMFBMVEX///8QEBC6urrMzMxUVFRm\n",
       "ZmZERETc3NwyMjKqqqp2dnaIiIiYmJgiIiLu7u4AAAAU9Wx4AAAAAXRSTlMAQObYZgAAA8dJREFU\n",
       "SMfNVl1IFFEUPu6P6/7Nhi/2A6EUFEQ4QfggifaHgUFLoYUaicFKFLQPmoGEi/gwkcZCBEIECyFZ\n",
       "i8uCFeKSDPUSSmL0ENXLCErRQ0qBEYZ0ztyduXd2d0JcqA6ce2funHPnu/d859wL8N+JVuwEjjQ2\n",
       "+2w+BiptHArIi6zO08tsEYgOojob7L6eKeyQI9JhhOGWmT6ikdtFICLfMtudLivskGdGS4oxvYad\n",
       "p2PzgPwUg4y43qglbAn+3CObDoZ8yvahODYzTGl57vjmEZXQ9uwUBrwWmkhbeLQGuIMh97J9NQ0u\n",
       "MA087O29UUTQ9hJXY7aI4JJpeJQ75CEap6Y0znQ1EvlQBKJWVDeF5ktywoqoe6oKAziafRs5KzhI\n",
       "jzOyBdFg5iSAL8wUoXeZianY/Dc3ibnhEPFSxXQrh2ELIkcFXCUk7O15SnQ4UFk2LyKSViEkgxe3\n",
       "mnQ3SHzTRy3/HRlrvsWerNT3aNywnKiBgBfScMWCqF+FFuyqWFR4KNFB2gGlqojIuw4lCXAg50iD\n",
       "4FdN85uckk+bVb8PUuF8RFJLlBt+o0xBRKdyeYQDH7Gr1z0ifJPRwbWSwyN3DEJhcOIwqV8Ncvb/\n",
       "MJ+e7fmqIaK5uTxE0lilYGggWmVTK8rwVkWh6rIK0ncDEThPxAWHEJvunKK8UZRBfAqGoVo1EUkx\n",
       "KqI9Uxcp9mtPCN1SMh2gvSFE0wIiZjQZNw1RtlHU4uBZy9kjHPCuSEbUwHPeCAQ69Kdz9gjL0QXN\n",
       "jBp0HUFY7zzrBGE+gMuT3jpW9FqLiE4nOCJmNKmahiREHiLFLywkIiLpJ7hidwBeGTs7Pm06hNDe\n",
       "wiOk9Xb0jzGFu0h7V9hJ5C9NB+ilQZJrdUTuY+8FZutGdfoPmaGRC5SyxwEeWHg0BPfDCTFXXqcM\n",
       "B1cYfJbsd8XdDTz7oSRNTPDTmktkdwejRV0kEkn7fX0vBUS60VInmIYk+ynYdE4mM5oFUXdm12Wc\n",
       "aEBIXdlwaM1MW6ImNbVTEalkCgGcaVkrncNyFoIg7uYyPi2yqHlrNY6IGS0Rl5ihjo2OsYqNnCIg\n",
       "OOTWbF2yp4hxOtUf0q5Hg1jQsJUh5YoyHqUEHulGuPhGKhkj4lE6Y3v98eVdhsSz13qvSmaVTdM2\n",
       "2w71qqMtga2naUqTOvUKmVps0UxEuhFKTSOQ4YZuI583dhvRtzMGYrHWRRVaH/KIf7HW7BpZeOmm\n",
       "3La9sTXmD3XbmFJYXJarDDijvM2RP1ygPAS8z+72JNs4FJCJrIoRFtqNI/pH0vD3fvUbgKENwuH3\n",
       "hCUAAAAASUVORK5CYII=\n",
       "\" style=\"display:inline;vertical-align:middle;\" /></a><br>(see <a class=\"ProveItLink\" href=\"../__pv_it/29c64b212a5a8fb166d5fb7ca4bdc99f38ca5c9c0/dependencies.ipynb\">dependencies</a>)<br>"
      ],
      "text/plain": [
       "lessShiftAddLeft: forall_{a, b, c in Reals | a < b} ((c + a) < (c + b))"
      ]
     },
     "execution_count": 2,
     "metadata": {},
     "output_type": "execute_result"
    }
   ],
   "source": [
    "%proving lessShiftAddLeft presuming []"
   ]
  },
  {
   "cell_type": "code",
   "execution_count": null,
   "metadata": {},
   "outputs": [],
   "source": []
  }
 ],
 "metadata": {
  "kernelspec": {
   "display_name": "Python 3",
   "language": "python",
   "name": "python3"
  }
 },
 "nbformat": 4,
 "nbformat_minor": 0
}
