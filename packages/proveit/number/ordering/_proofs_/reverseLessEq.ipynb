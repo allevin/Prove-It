{
 "cells": [
  {
   "cell_type": "markdown",
   "metadata": {},
   "source": [
    "Proof of <a class=\"ProveItLink\" href=\"../../../_context_.ipynb\">proveit</a>.<a class=\"ProveItLink\" href=\"../../_context_.ipynb\">number</a>.<a class=\"ProveItLink\" href=\"../_context_.ipynb\">ordering</a>.<a class=\"ProveItLink\" href=\"../_theorems_.ipynb#reverseLessEq\">reverseLessEq</a> theorem\n",
    "========"
   ]
  },
  {
   "cell_type": "code",
   "execution_count": 1,
   "metadata": {},
   "outputs": [],
   "source": [
    "import proveit\n",
    "context = proveit.Context('..') # the theorem's context is in the parent directory"
   ]
  },
  {
   "cell_type": "code",
   "execution_count": 2,
   "metadata": {},
   "outputs": [
    {
     "name": "stdout",
     "output_type": "stream",
     "text": [
      "Beginning proof of reverseLessEq\n",
      "Recorded 'presuming' information\n",
      "Presuming previous theorems (applied transitively).\n"
     ]
    },
    {
     "data": {
      "text/html": [
       "<strong id=\"reverseLessEq\">reverseLessEq:</strong> <a class=\"ProveItLink\" href=\"../__pv_it/081dc9764a27e3517a7cc65afbb17500813809820/expr.ipynb\"><img src=\"data:image/png;base64,iVBORw0KGgoAAAANSUhEUgAAAKEAAAAXBAMAAACR7DLtAAAAMFBMVEX///8QEBC6urrMzMxUVFRm\n",
       "ZmZERETc3NwyMjKqqqp2dnaIiIiYmJgiIiLu7u4AAAAU9Wx4AAAAAXRSTlMAQObYZgAAAlVJREFU\n",
       "OMutVEtoE1EUPZl0Ms2nk2AXLoqShYggYgXpNqFCK4rQnWCpSJEU7WYW/QhSGdwVRApqKZTC7ESD\n",
       "IaINSv0MbhSlUHRXECYbFylCQbCbUrzvvc6bTzOBKT6YmXvvmXfe/T7gvy8n/pbT0dAnejaY8C0O\n",
       "YbIcjan9wDMmPIzD2O2F9bsWBk1ghj7ajTiMaz556WoI/CpOVBfiMB73KycvBMEmkHs6OzsXh1Ax\n",
       "A+rAeEBNkXN/K5XNOIyqBbSuQdvb16fu849WHV4eBTIjALk9cWBbsUNhbMA6i+y2a5j+wd4trNvH\n",
       "gDRFcAK6eWBbsFSL/qZNFJFcGENK/rJ+nb0tfMQjykkB6EHW7sy49MGv5YvQ0Yd8Xaj6+9r+pAzx\n",
       "ZiXXs3aP05HxSx0hRqT3UOoXhC8k2ucy6uZ5kqqDr+kXpYGE4zFy4xsWgQQoaqqmauKlqMeYjE/7\n",
       "Q77zqDExSCVyhtifW3njnOcjN67wXpUA9QdxdI/gJme5KDv5M5WKspNjNXlCo63gATPfO4OGx8iN\n",
       "rfEAIPpDLSu7TJ6RPZHeTRW0ukCR4JnY4cAlXPbnkRm3bvkBOocc0CdXd4KJ1ydrz9+x3mJn5FiC\n",
       "koUkA46g18cojNl5H0DrKPd0o323Nl2hlDEzuGOgV9n2GLmRHUnBu4C4DK6gGXEVVF3h19vRGko2\n",
       "HjdMj5EbeZIcCYjbbBO3uTj3k63vvuBDw2JrRle9zcxQUV2AyWUsr0aMaZcRvJyNlHUKbRklwNbd\n",
       "6KF/FVRzSK9ZYcbFCi1HAode5cNv/QfqQZsyjHg8TQAAAABJRU5ErkJggg==\n",
       "\" style=\"display:inline;vertical-align:middle;\" /></a><br>(see <a class=\"ProveItLink\" href=\"../__pv_it/081dc9764a27e3517a7cc65afbb17500813809820/dependencies.ipynb\">dependencies</a>)<br>"
      ],
      "text/plain": [
       "reverseLessEq: forall_{x, y | x <= y} (y >= x)"
      ]
     },
     "execution_count": 2,
     "metadata": {},
     "output_type": "execute_result"
    }
   ],
   "source": [
    "%proving reverseLessEq presuming []"
   ]
  },
  {
   "cell_type": "code",
   "execution_count": null,
   "metadata": {},
   "outputs": [],
   "source": []
  }
 ],
 "metadata": {
  "kernelspec": {
   "display_name": "Python 3",
   "language": "python",
   "name": "python3"
  }
 },
 "nbformat": 4,
 "nbformat_minor": 0
}
