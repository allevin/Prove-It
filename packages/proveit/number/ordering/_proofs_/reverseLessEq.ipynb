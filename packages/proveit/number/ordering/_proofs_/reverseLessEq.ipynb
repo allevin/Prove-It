{
 "cells": [
  {
   "cell_type": "markdown",
   "metadata": {
    "collapsed": true
   },
   "source": [
    "Proof of <a class=\"ProveItLink\" href=\"../../../_context_.ipynb\">proveit</a>.<a class=\"ProveItLink\" href=\"../../_context_.ipynb\">number</a>.<a class=\"ProveItLink\" href=\"../_context_.ipynb\">ordering</a>.<a class=\"ProveItLink\" href=\"../_theorems_.ipynb#reverseLessEq\">reverseLessEq</a> theorem\n",
    "========"
   ]
  },
  {
   "cell_type": "code",
   "execution_count": 1,
   "metadata": {},
   "outputs": [],
   "source": [
    "import proveit\n",
    "from proveit import defaults\n",
    "from proveit.logic import inBool\n",
    "from proveit._common_ import x, y, A, B, C, Q, P\n",
    "from proveit.number import Reals\n",
    "from proveit.logic.equality._axioms_ import equalsSymmetry\n",
    "from proveit.logic import Forall, Or, Equals, Iff, Implies, InSet\n",
    "from proveit.number import Less, LessEq, Greater, GreaterEq\n",
    "from proveit.number.ordering._axioms_ import reverseRelation, lessEqDef, greaterEqDef\n",
    "from proveit.logic.equality._theorems_ import lhsViaEquivalence, subLeftSideInto, subRightSideInto\n",
    "from proveit.logic.boolean.implication._theorems_ import eqFromIff, implicationTransitivity\n",
    "from proveit.logic.boolean.disjunction._axioms_ import orTT, orTF, orTF, orFT, orFF\n",
    "\n",
    "context = proveit.Context('..') # the theorem's context is in the parent directory"
   ]
  },
  {
   "cell_type": "code",
   "execution_count": 2,
   "metadata": {},
   "outputs": [
    {
     "name": "stdout",
     "output_type": "stream",
     "text": [
      "Beginning proof of reverseLessEq\n",
      "Recorded 'presuming' information\n",
      "Presuming theorems in proveit.logic (except any that presume this theorem).\n",
      "Presuming previous theorems (applied transitively).\n"
     ]
    },
    {
     "data": {
      "text/html": [
       "<strong id=\"reverseLessEq\">reverseLessEq:</strong> <a class=\"ProveItLink\" href=\"../__pv_it/10529c14ab3255e3ddcd0a5d97f1b8657135b7460/expr.ipynb\"><img src=\"../__pv_it/10529c14ab3255e3ddcd0a5d97f1b8657135b7460/expr.png\" style=\"display:inline;vertical-align:middle;\" /></a><br>(see <a class=\"ProveItLink\" href=\"../__pv_it/10529c14ab3255e3ddcd0a5d97f1b8657135b7460/dependencies.ipynb\">dependencies</a>)<br>"
      ],
      "text/plain": [
       "reverseLessEq: forall_{x, y | x <= y} (y >= x)"
      ]
     },
     "execution_count": 2,
     "metadata": {},
     "output_type": "execute_result"
    }
   ],
   "source": [
    "%proving reverseLessEq presuming [proveit.logic]"
   ]
  },
  {
   "cell_type": "code",
   "execution_count": 3,
   "metadata": {},
   "outputs": [
    {
     "data": {
      "text/html": [
       "<strong id=\"defaults.assumptions\">defaults.assumptions:</strong> <a class=\"ProveItLink\" href=\"../__pv_it/7ec97d73a7b3045ac01f54fde2f8616b33e45bfd0/expr.ipynb\"><img src=\"../__pv_it/7ec97d73a7b3045ac01f54fde2f8616b33e45bfd0/expr.png\" style=\"display:inline;vertical-align:middle;\" /></a><br>"
      ],
      "text/plain": [
       "defaults.assumptions: (x <= y)"
      ]
     },
     "execution_count": 3,
     "metadata": {},
     "output_type": "execute_result"
    }
   ],
   "source": [
    "defaults.assumptions = reverseLessEq.allConditions()"
   ]
  },
  {
   "cell_type": "code",
   "execution_count": 4,
   "metadata": {},
   "outputs": [
    {
     "data": {
      "text/html": [
       "<strong id=\"allAssumptions\">allAssumptions:</strong> <a class=\"ProveItLink\" href=\"../__pv_it/2a04c07d69fd718a40b429ae0b4a8e44fef5bfd20/expr.ipynb\"><img src=\"../__pv_it/2a04c07d69fd718a40b429ae0b4a8e44fef5bfd20/expr.png\" style=\"display:inline;vertical-align:middle;\" /></a><br>"
      ],
      "text/plain": [
       "allAssumptions: (x in Reals , y in Reals , x <= y)"
      ]
     },
     "execution_count": 4,
     "metadata": {},
     "output_type": "execute_result"
    }
   ],
   "source": [
    "allAssumptions =  [InSet(x, Reals), InSet(y, Reals),defaults.assumptions[0]]"
   ]
  },
  {
   "cell_type": "code",
   "execution_count": 5,
   "metadata": {},
   "outputs": [
    {
     "data": {
      "text/html": [
       "<strong id=\"specLessEqDef\">specLessEqDef:</strong> <span style=\"font-size:20px;\"><a class=\"ProveItLink\" href=\"../__pv_it/c647553b37394ee03bd0fcc7d3ca9b423b41d80f0/expr.ipynb\"><img src=\"../__pv_it/c647553b37394ee03bd0fcc7d3ca9b423b41d80f0/expr.png\" style=\"display:inline;vertical-align:middle;\" /></a> &#x22A2;&nbsp;<a class=\"ProveItLink\" href=\"../__pv_it/7e2ce4e6b54a060b4813f34d7dcf4f2bb70d495b0/expr.ipynb\"><img src=\"../__pv_it/7e2ce4e6b54a060b4813f34d7dcf4f2bb70d495b0/expr.png\" style=\"display:inline;vertical-align:middle;\" /></a></span><br>"
      ],
      "text/plain": [
       "specLessEqDef: {x in Reals , y in Reals , x <= y} |= (x < y) or (x = y)"
      ]
     },
     "execution_count": 5,
     "metadata": {},
     "output_type": "execute_result"
    }
   ],
   "source": [
    "specLessEqDef = lessEqDef.specialize(assumptions = allAssumptions)"
   ]
  },
  {
   "cell_type": "code",
   "execution_count": 6,
   "metadata": {},
   "outputs": [
    {
     "data": {
      "text/html": [
       "<strong id=\"xLessYImpl\">xLessYImpl:</strong> <span style=\"font-size:20px;\"><a class=\"ProveItLink\" href=\"../__pv_it/a5d103c81830810ab47a840e4b3f2d992c6ad0590/expr.ipynb\"><img src=\"../__pv_it/a5d103c81830810ab47a840e4b3f2d992c6ad0590/expr.png\" style=\"display:inline;vertical-align:middle;\" /></a> &#x22A2;&nbsp;<a class=\"ProveItLink\" href=\"../__pv_it/3b63ae1b607dcd8fa2888fa8f332f1c072a26a250/expr.ipynb\"><img src=\"../__pv_it/3b63ae1b607dcd8fa2888fa8f332f1c072a26a250/expr.png\" style=\"display:inline;vertical-align:middle;\" /></a></span><br>"
      ],
      "text/plain": [
       "xLessYImpl: {x in Reals , y in Reals} |= (x <= y) => ((x < y) or (x = y))"
      ]
     },
     "execution_count": 6,
     "metadata": {},
     "output_type": "execute_result"
    }
   ],
   "source": [
    "xLessYImpl = specLessEqDef.asImplication(LessEq(x, y))"
   ]
  },
  {
   "cell_type": "code",
   "execution_count": 7,
   "metadata": {},
   "outputs": [
    {
     "data": {
      "text/html": [
       "<strong id=\"specRevRel\">specRevRel:</strong> <span style=\"font-size:20px;\"> &#x22A2;&nbsp;<a class=\"ProveItLink\" href=\"../__pv_it/faa5f565eeffc83ec8a39c98b9dc29c5b03d45aa0/expr.ipynb\"><img src=\"../__pv_it/faa5f565eeffc83ec8a39c98b9dc29c5b03d45aa0/expr.png\" style=\"display:inline;vertical-align:middle;\" /></a></span><br>"
      ],
      "text/plain": [
       "specRevRel: |= (x < y) <=> (y > x)"
      ]
     },
     "execution_count": 7,
     "metadata": {},
     "output_type": "execute_result"
    }
   ],
   "source": [
    "specRevRel = reverseRelation.specialize(assumptions = allAssumptions)"
   ]
  },
  {
   "cell_type": "code",
   "execution_count": 8,
   "metadata": {},
   "outputs": [
    {
     "data": {
      "text/html": [
       "<span style=\"font-size:20px;\"><a class=\"ProveItLink\" href=\"../__pv_it/c647553b37394ee03bd0fcc7d3ca9b423b41d80f0/expr.ipynb\"><img src=\"../__pv_it/c647553b37394ee03bd0fcc7d3ca9b423b41d80f0/expr.png\" style=\"display:inline;vertical-align:middle;\" /></a> &#x22A2;&nbsp;<a class=\"ProveItLink\" href=\"../__pv_it/0f0c997d0aa1c272eb44cb97bb9060e1d73029bb0/expr.ipynb\"><img src=\"../__pv_it/0f0c997d0aa1c272eb44cb97bb9060e1d73029bb0/expr.png\" style=\"display:inline;vertical-align:middle;\" /></a></span>"
      ],
      "text/plain": [
       "{x in Reals , y in Reals , x <= y} |= ((x < y) or (x = y)) = TRUE"
      ]
     },
     "execution_count": 8,
     "metadata": {},
     "output_type": "execute_result"
    }
   ],
   "source": [
    "specLessEqDef.evaluation()"
   ]
  },
  {
   "cell_type": "code",
   "execution_count": 9,
   "metadata": {},
   "outputs": [
    {
     "data": {
      "text/html": [
       "<strong id=\"lessInBool\">lessInBool:</strong> <a class=\"ProveItLink\" href=\"../__pv_it/c2f0d7269a880e6634bd7aeccb1c424025deaf010/expr.ipynb\"><img src=\"../__pv_it/c2f0d7269a880e6634bd7aeccb1c424025deaf010/expr.png\" style=\"display:inline;vertical-align:middle;\" /></a><br>"
      ],
      "text/plain": [
       "lessInBool: (x < y) in BOOLEANS"
      ]
     },
     "execution_count": 9,
     "metadata": {},
     "output_type": "execute_result"
    }
   ],
   "source": [
    "lessInBool = inBool(specRevRel.lhs)"
   ]
  },
  {
   "cell_type": "code",
   "execution_count": 10,
   "metadata": {},
   "outputs": [
    {
     "data": {
      "text/html": [
       "<strong id=\"greaterInBool\">greaterInBool:</strong> <a class=\"ProveItLink\" href=\"../__pv_it/afe395004bb283b0f35927a8a415b19e22877f0e0/expr.ipynb\"><img src=\"../__pv_it/afe395004bb283b0f35927a8a415b19e22877f0e0/expr.png\" style=\"display:inline;vertical-align:middle;\" /></a><br>"
      ],
      "text/plain": [
       "greaterInBool: (y > x) in BOOLEANS"
      ]
     },
     "execution_count": 10,
     "metadata": {},
     "output_type": "execute_result"
    }
   ],
   "source": [
    "greaterInBool = inBool(specRevRel.rhs)"
   ]
  },
  {
   "cell_type": "code",
   "execution_count": 11,
   "metadata": {},
   "outputs": [
    {
     "data": {
      "text/html": [
       "<span style=\"font-size:20px;\"> &#x22A2;&nbsp;<a class=\"ProveItLink\" href=\"../../../logic/boolean/implication/__pv_it/3279b8a6ecc11b21d959b9c256158282d9f206e60/expr.ipynb\"><img src=\"../../../logic/boolean/implication/__pv_it/3279b8a6ecc11b21d959b9c256158282d9f206e60/expr.png\" style=\"display:inline;vertical-align:middle;\" /></a></span>"
      ],
      "text/plain": [
       "|= forall_{A, B in BOOLEANS | A <=> B} (A = B)"
      ]
     },
     "execution_count": 11,
     "metadata": {},
     "output_type": "execute_result"
    }
   ],
   "source": [
    "eqFromIff"
   ]
  },
  {
   "cell_type": "code",
   "execution_count": 12,
   "metadata": {},
   "outputs": [
    {
     "data": {
      "text/html": [
       "<strong id=\"lEqG\">lEqG:</strong> <span style=\"font-size:20px;\"><a class=\"ProveItLink\" href=\"../__pv_it/54855499d9428f15ef909f85a16edf941a8be8390/expr.ipynb\"><img src=\"../__pv_it/54855499d9428f15ef909f85a16edf941a8be8390/expr.png\" style=\"display:inline;vertical-align:middle;\" /></a> &#x22A2;&nbsp;<a class=\"ProveItLink\" href=\"../__pv_it/46859d9917ac9a1cbaaa025192bd11edacadb84b0/expr.ipynb\"><img src=\"../__pv_it/46859d9917ac9a1cbaaa025192bd11edacadb84b0/expr.png\" style=\"display:inline;vertical-align:middle;\" /></a></span><br>"
      ],
      "text/plain": [
       "lEqG: {(x < y) in BOOLEANS , (y > x) in BOOLEANS} |= (x < y) = (y > x)"
      ]
     },
     "execution_count": 12,
     "metadata": {},
     "output_type": "execute_result"
    }
   ],
   "source": [
    "lEqG = eqFromIff.specialize({A:specRevRel.lhs, B:specRevRel.rhs}, assumptions = [lessInBool, greaterInBool, *allAssumptions])"
   ]
  },
  {
   "cell_type": "code",
   "execution_count": 13,
   "metadata": {},
   "outputs": [
    {
     "data": {
      "text/html": [
       "<strong id=\"specEqSym\">specEqSym:</strong> <span style=\"font-size:20px;\"> &#x22A2;&nbsp;<a class=\"ProveItLink\" href=\"../__pv_it/5a113dd5ac5f1e2cdaeb02e8ee9a70bb3d1d68780/expr.ipynb\"><img src=\"../__pv_it/5a113dd5ac5f1e2cdaeb02e8ee9a70bb3d1d68780/expr.png\" style=\"display:inline;vertical-align:middle;\" /></a></span><br>"
      ],
      "text/plain": [
       "specEqSym: |= (x = y) = (y = x)"
      ]
     },
     "execution_count": 13,
     "metadata": {},
     "output_type": "execute_result"
    }
   ],
   "source": [
    "specEqSym = equalsSymmetry.specialize({y:x, x:y}, assumptions = allAssumptions)"
   ]
  },
  {
   "cell_type": "code",
   "execution_count": 14,
   "metadata": {},
   "outputs": [
    {
     "data": {
      "text/html": [
       "<strong id=\"specGreaterEqDef\">specGreaterEqDef:</strong> <span style=\"font-size:20px;\"><a class=\"ProveItLink\" href=\"../__pv_it/a47d42edc4651909287771b6bace55c298d2fa0a0/expr.ipynb\"><img src=\"../__pv_it/a47d42edc4651909287771b6bace55c298d2fa0a0/expr.png\" style=\"display:inline;vertical-align:middle;\" /></a> &#x22A2;&nbsp;<a class=\"ProveItLink\" href=\"../__pv_it/e66ba21c32fffe6d0e34f9b06a88a99826c5f9e40/expr.ipynb\"><img src=\"../__pv_it/e66ba21c32fffe6d0e34f9b06a88a99826c5f9e40/expr.png\" style=\"display:inline;vertical-align:middle;\" /></a></span><br>"
      ],
      "text/plain": [
       "specGreaterEqDef: {y >= x , x in Reals , y in Reals} |= (y > x) or (y = x)"
      ]
     },
     "execution_count": 14,
     "metadata": {},
     "output_type": "execute_result"
    }
   ],
   "source": [
    "specGreaterEqDef = greaterEqDef.specialize({x:y, y:x}, assumptions = [GreaterEq(y,x), *allAssumptions])"
   ]
  },
  {
   "cell_type": "code",
   "execution_count": 15,
   "metadata": {},
   "outputs": [
    {
     "data": {
      "text/html": [
       "<strong id=\"yGreXImpl\">yGreXImpl:</strong> <span style=\"font-size:20px;\"><a class=\"ProveItLink\" href=\"../__pv_it/a5d103c81830810ab47a840e4b3f2d992c6ad0590/expr.ipynb\"><img src=\"../__pv_it/a5d103c81830810ab47a840e4b3f2d992c6ad0590/expr.png\" style=\"display:inline;vertical-align:middle;\" /></a> &#x22A2;&nbsp;<a class=\"ProveItLink\" href=\"../__pv_it/5cabf08b3a534e2d054b606d5df8c612541e83090/expr.ipynb\"><img src=\"../__pv_it/5cabf08b3a534e2d054b606d5df8c612541e83090/expr.png\" style=\"display:inline;vertical-align:middle;\" /></a></span><br>"
      ],
      "text/plain": [
       "yGreXImpl: {x in Reals , y in Reals} |= (y >= x) => ((y > x) or (y = x))"
      ]
     },
     "execution_count": 15,
     "metadata": {},
     "output_type": "execute_result"
    }
   ],
   "source": [
    "yGreXImpl = specGreaterEqDef.asImplication(GreaterEq(y,x))"
   ]
  },
  {
   "cell_type": "code",
   "execution_count": 16,
   "metadata": {},
   "outputs": [
    {
     "data": {
      "text/html": [
       "<strong id=\"subleft\">subleft:</strong> <span style=\"font-size:20px;\"><a class=\"ProveItLink\" href=\"../__pv_it/422158894eff45fed0b85585dc336cf31292ce490/expr.ipynb\"><img src=\"../__pv_it/422158894eff45fed0b85585dc336cf31292ce490/expr.png\" style=\"display:inline;vertical-align:middle;\" /></a> &#x22A2;&nbsp;<a class=\"ProveItLink\" href=\"../__pv_it/1476a59a28f6ce862330f8c277af5e5e0f592a910/expr.ipynb\"><img src=\"../__pv_it/1476a59a28f6ce862330f8c277af5e5e0f592a910/expr.png\" style=\"display:inline;vertical-align:middle;\" /></a></span><br>"
      ],
      "text/plain": [
       "subleft: {x in Reals , y in Reals , x <= y , (x < y) in BOOLEANS , (y > x) in BOOLEANS} |= (y > x) or (x = y)"
      ]
     },
     "execution_count": 16,
     "metadata": {},
     "output_type": "execute_result"
    }
   ],
   "source": [
    "subleft = lEqG.subRightSideInto(specLessEqDef, assumptions = allAssumptions)"
   ]
  },
  {
   "cell_type": "code",
   "execution_count": 17,
   "metadata": {},
   "outputs": [
    {
     "data": {
      "text/html": [
       "<span style=\"font-size:20px;\"><a class=\"ProveItLink\" href=\"../__pv_it/422158894eff45fed0b85585dc336cf31292ce490/expr.ipynb\"><img src=\"../__pv_it/422158894eff45fed0b85585dc336cf31292ce490/expr.png\" style=\"display:inline;vertical-align:middle;\" /></a> &#x22A2;&nbsp;<a class=\"ProveItLink\" href=\"../__pv_it/aff8dc735bc686fc62b52d7ed79e7360797b61790/expr.ipynb\"><img src=\"../__pv_it/aff8dc735bc686fc62b52d7ed79e7360797b61790/expr.png\" style=\"display:inline;vertical-align:middle;\" /></a></span>"
      ],
      "text/plain": [
       "{x in Reals , y in Reals , x <= y , (x < y) in BOOLEANS , (y > x) in BOOLEANS} |= ((y > x) or (x = y)) = TRUE"
      ]
     },
     "execution_count": 17,
     "metadata": {},
     "output_type": "execute_result"
    }
   ],
   "source": [
    "subleft.evaluation()"
   ]
  },
  {
   "cell_type": "code",
   "execution_count": 18,
   "metadata": {},
   "outputs": [
    {
     "data": {
      "text/html": [
       "<strong id=\"subright\">subright:</strong> <span style=\"font-size:20px;\"><a class=\"ProveItLink\" href=\"../__pv_it/e5009b9a6c1d24476ddc4c35e198a62978e228760/expr.ipynb\"><img src=\"../__pv_it/e5009b9a6c1d24476ddc4c35e198a62978e228760/expr.png\" style=\"display:inline;vertical-align:middle;\" /></a> &#x22A2;&nbsp;<a class=\"ProveItLink\" href=\"../__pv_it/e66ba21c32fffe6d0e34f9b06a88a99826c5f9e40/expr.ipynb\"><img src=\"../__pv_it/e66ba21c32fffe6d0e34f9b06a88a99826c5f9e40/expr.png\" style=\"display:inline;vertical-align:middle;\" /></a></span><br>"
      ],
      "text/plain": [
       "subright: {(y > x) or (x = y)} |= (y > x) or (y = x)"
      ]
     },
     "execution_count": 18,
     "metadata": {},
     "output_type": "execute_result"
    }
   ],
   "source": [
    "subright = specEqSym.subRightSideInto(subleft, assumptions = [subleft.expr, *allAssumptions])"
   ]
  },
  {
   "cell_type": "code",
   "execution_count": 19,
   "metadata": {},
   "outputs": [
    {
     "data": {
      "text/html": [
       "<strong id=\"middleImpl\">middleImpl:</strong> <span style=\"font-size:20px;\"><a class=\"ProveItLink\" href=\"../__pv_it/e5009b9a6c1d24476ddc4c35e198a62978e228760/expr.ipynb\"><img src=\"../__pv_it/e5009b9a6c1d24476ddc4c35e198a62978e228760/expr.png\" style=\"display:inline;vertical-align:middle;\" /></a> &#x22A2;&nbsp;<a class=\"ProveItLink\" href=\"../__pv_it/e3bf834324ccd3b3cc7c6cc1852d6cdf4821dddc0/expr.ipynb\"><img src=\"../__pv_it/e3bf834324ccd3b3cc7c6cc1852d6cdf4821dddc0/expr.png\" style=\"display:inline;vertical-align:middle;\" /></a></span><br>"
      ],
      "text/plain": [
       "middleImpl: {(y > x) or (x = y)} |= ((x < y) or (x = y)) => ((y > x) or (y = x))"
      ]
     },
     "execution_count": 19,
     "metadata": {},
     "output_type": "execute_result"
    }
   ],
   "source": [
    "middleImpl = subright.asImplication(specLessEqDef.expr)"
   ]
  },
  {
   "cell_type": "code",
   "execution_count": 20,
   "metadata": {},
   "outputs": [
    {
     "data": {
      "text/html": [
       "<strong id=\"yGreXFlip\">yGreXFlip:</strong> <a class=\"ProveItLink\" href=\"../__pv_it/21229fe7ca593e0c8d0f8e244e202ec53fa31b930/expr.ipynb\"><img src=\"../__pv_it/21229fe7ca593e0c8d0f8e244e202ec53fa31b930/expr.png\" style=\"display:inline;vertical-align:middle;\" /></a><br>"
      ],
      "text/plain": [
       "yGreXFlip: ((y > x) or (y = x)) => (y >= x)"
      ]
     },
     "execution_count": 20,
     "metadata": {},
     "output_type": "execute_result"
    }
   ],
   "source": [
    "yGreXFlip = Implies(yGreXImpl.expr.rhs, GreaterEq(y,x))"
   ]
  },
  {
   "cell_type": "code",
   "execution_count": 21,
   "metadata": {},
   "outputs": [
    {
     "data": {
      "text/html": [
       "<span style=\"font-size:20px;\"> &#x22A2;&nbsp;<a class=\"ProveItLink\" href=\"../../../logic/boolean/implication/__pv_it/58354b12dbd32d4ac7add309e5c18982ccfedc6a0/expr.ipynb\"><img src=\"../../../logic/boolean/implication/__pv_it/58354b12dbd32d4ac7add309e5c18982ccfedc6a0/expr.png\" style=\"display:inline;vertical-align:middle;\" /></a></span>"
      ],
      "text/plain": [
       "|= forall_{A, B, C | A => B , B => C} (A => C)"
      ]
     },
     "execution_count": 21,
     "metadata": {},
     "output_type": "execute_result"
    }
   ],
   "source": [
    "implicationTransitivity"
   ]
  },
  {
   "cell_type": "code",
   "execution_count": 22,
   "metadata": {},
   "outputs": [
    {
     "data": {
      "text/html": [
       "<strong id=\"finalImp\">finalImp:</strong> <span style=\"font-size:20px;\"><a class=\"ProveItLink\" href=\"../__pv_it/9e31db5f142a02d9288ce7aed0087cc224e3ed090/expr.ipynb\"><img src=\"../__pv_it/9e31db5f142a02d9288ce7aed0087cc224e3ed090/expr.png\" style=\"display:inline;vertical-align:middle;\" /></a> &#x22A2;&nbsp;<a class=\"ProveItLink\" href=\"../__pv_it/36b0cc5f7d4b73a39fc1a5969a09b1324a1176ac0/expr.ipynb\"><img src=\"../__pv_it/36b0cc5f7d4b73a39fc1a5969a09b1324a1176ac0/expr.png\" style=\"display:inline;vertical-align:middle;\" /></a></span><br>"
      ],
      "text/plain": [
       "finalImp: {((y > x) or (y = x)) => (y >= x) , ((x < y) or (x = y)) => ((y > x) or (y = x)) , (x <= y) => ((x < y) or (x = y))} |= (x <= y) => (y >= x)"
      ]
     },
     "execution_count": 22,
     "metadata": {},
     "output_type": "execute_result"
    }
   ],
   "source": [
    "finalImp = implicationTransitivity.specialize({A:LessEq(x,y), B: subright.expr, C:GreaterEq(y,x)},\n",
    "                                   assumptions = [yGreXFlip, middleImpl.expr, xLessYImpl.expr, *allAssumptions])"
   ]
  },
  {
   "cell_type": "code",
   "execution_count": 23,
   "metadata": {},
   "outputs": [
    {
     "data": {
      "text/html": [
       "<span style=\"font-size:20px;\"><a class=\"ProveItLink\" href=\"../__pv_it/9e31db5f142a02d9288ce7aed0087cc224e3ed090/expr.ipynb\"><img src=\"../__pv_it/9e31db5f142a02d9288ce7aed0087cc224e3ed090/expr.png\" style=\"display:inline;vertical-align:middle;\" /></a> &#x22A2;&nbsp;<a class=\"ProveItLink\" href=\"../__pv_it/453e9ea99a76386c704c498e3168e38f773b9bf10/expr.ipynb\"><img src=\"../__pv_it/453e9ea99a76386c704c498e3168e38f773b9bf10/expr.png\" style=\"display:inline;vertical-align:middle;\" /></a></span>"
      ],
      "text/plain": [
       "{((y > x) or (y = x)) => (y >= x) , ((x < y) or (x = y)) => ((y > x) or (y = x)) , (x <= y) => ((x < y) or (x = y))} |= ((x <= y) => (y >= x)) = TRUE"
      ]
     },
     "execution_count": 23,
     "metadata": {},
     "output_type": "execute_result"
    }
   ],
   "source": [
    "finalImp.evaluation()"
   ]
  },
  {
   "cell_type": "code",
   "execution_count": null,
   "metadata": {},
   "outputs": [],
   "source": []
  },
  {
   "cell_type": "code",
   "execution_count": null,
   "metadata": {},
   "outputs": [],
   "source": []
  },
  {
   "cell_type": "code",
   "execution_count": null,
   "metadata": {},
   "outputs": [],
   "source": []
  }
 ],
 "metadata": {
  "kernelspec": {
   "display_name": "Python 3",
   "language": "python",
   "name": "python3"
  },
  "language_info": {
   "codemirror_mode": {
    "name": "ipython",
    "version": 3
   },
   "file_extension": ".py",
   "mimetype": "text/x-python",
   "name": "python",
   "nbconvert_exporter": "python",
   "pygments_lexer": "ipython3",
   "version": "3.7.3"
  }
 },
 "nbformat": 4,
 "nbformat_minor": 1
}
