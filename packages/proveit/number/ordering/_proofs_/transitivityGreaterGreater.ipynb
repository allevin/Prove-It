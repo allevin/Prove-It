{
 "cells": [
  {
   "cell_type": "markdown",
   "metadata": {},
   "source": [
    "Proof of <a class=\"ProveItLink\" href=\"../../../_context_.ipynb\">proveit</a>.<a class=\"ProveItLink\" href=\"../../_context_.ipynb\">number</a>.<a class=\"ProveItLink\" href=\"../_context_.ipynb\">ordering</a>.<a class=\"ProveItLink\" href=\"../_theorems_.ipynb#transitivityGreaterGreater\">transitivityGreaterGreater</a> theorem\n",
    "========"
   ]
  },
  {
   "cell_type": "code",
   "execution_count": 1,
   "metadata": {},
   "outputs": [],
   "source": [
    "import proveit\n",
    "context = proveit.Context('..') # the theorem's context is in the parent directory"
   ]
  },
  {
   "cell_type": "code",
   "execution_count": 2,
   "metadata": {},
   "outputs": [
    {
     "name": "stdout",
     "output_type": "stream",
     "text": [
      "Beginning proof of transitivityGreaterGreater\n",
      "Recorded 'presuming' information\n",
      "Presuming previous theorems (applied transitively).\n"
     ]
    },
    {
     "data": {
      "text/html": [
       "<strong id=\"transitivityGreaterGreater\">transitivityGreaterGreater:</strong> <a class=\"ProveItLink\" href=\"../__pv_it/deb77c7658be81c2abfecbe250d04b0251e3a1290/expr.ipynb\"><img src=\"data:image/png;base64,iVBORw0KGgoAAAANSUhEUgAAANEAAAAXBAMAAABnpbd1AAAAMFBMVEX///8QEBC6urrMzMxUVFRm\n",
       "ZmZERETc3NwyMjKqqqp2dnaIiIiYmJgiIiLu7u4AAAAU9Wx4AAAAAXRSTlMAQObYZgAAAslJREFU\n",
       "SMe9VU1oE0EUftlNsvnZbkJ7UBElBZFKFVMMrRepRGilBcnJg4USENNiPSxSjCKVxUtASxG0Ivay\n",
       "ePEnGALWgK3WIBRBLeSmeEo9KOolIthLD743O5tsNm6qsDgQvpnvzc438/4C8N9G1b2jep1Nr/BX\n",
       "oclbN4TEo842XxzgIU3m3FAKtHOPBnABQUq7obRsmU/HbcY3xk18N9xQ2m31ZCbWbFwHkO9nszNu\n",
       "CAmadSUdb769H5e/MpmPbij5dDw/P7wwZiyVx2Vu6O6UihBKARwDmHC65j8lBJ78DdbKu/haeVEw\n",
       "Xnfu6UmAIL54Dyiaw8f+hjNUu62F8WBkdHgJN+vM2jhTBOUEXjoK0AHh8tZKZ+wp3MJEYtQGhixM\n",
       "IscTkVKkBqjTUd1SCYRr9k12JsKybWeD2Huab0xxJUVL4CyfXMQSEErgoe+PzF1qKIUWezGWwevU\n",
       "b9Islw1gjPjhC08yD6H0E71ljDvDfHKXyaH3YCKJp1WHaOf3iNpHfHJVbygVvOkdCPIsKMUNEb/g\n",
       "QAx4958yHYAxeB2uwQoPUoHzQR28uJdyYb5CWTZL7JUDUGLmrxbvxQJGHMPvpU+VMLYTDsSgrFk3\n",
       "mMfBTX8UM5rl+IrpxMOr764yKz6b2TYYPQKjLNwxa5wiRpr14OV0L23mQAycr8etAspU4dFztphp\n",
       "JFlK/oGXCdCJMkVGjIpEd0IXwSEYsCj1AXWx/nHKZE8c6kCMGBfNdN/WrtrWzclgSAvBRRW6hBqC\n",
       "OLIvXVcSaw+wTqCfAuyJHwQpx4AziXu3LU3UeeTNyednYwUYLMOtkoYQFrardSVlan6pCtOsjwRH\n",
       "J0HcZMCZYnfub/417M2hLKkUgHJrPQlGbWQpjDIDzlhruc0/obe5o4iqX+8h+EPlGuMsNewBA1rH\n",
       "ZWelJ81LGYLLOoGj0sISvdwAV4fXzcN+A4/FpcXKOnIRAAAAAElFTkSuQmCC\n",
       "\" style=\"display:inline;vertical-align:middle;\" /></a><br>(see <a class=\"ProveItLink\" href=\"../__pv_it/deb77c7658be81c2abfecbe250d04b0251e3a1290/dependencies.ipynb\">dependencies</a>)<br>"
      ],
      "text/plain": [
       "transitivityGreaterGreater: forall_{x, y, z | x > y , y > z} (x > z)"
      ]
     },
     "execution_count": 2,
     "metadata": {},
     "output_type": "execute_result"
    }
   ],
   "source": [
    "%proving transitivityGreaterGreater presuming []"
   ]
  },
  {
   "cell_type": "code",
   "execution_count": null,
   "metadata": {},
   "outputs": [],
   "source": []
  }
 ],
 "metadata": {
  "kernelspec": {
   "display_name": "Python 3",
   "language": "python",
   "name": "python3"
  }
 },
 "nbformat": 4,
 "nbformat_minor": 0
}
