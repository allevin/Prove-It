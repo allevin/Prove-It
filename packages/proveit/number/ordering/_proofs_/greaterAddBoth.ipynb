{
 "cells": [
  {
   "cell_type": "markdown",
   "metadata": {},
   "source": [
    "Proof of <a class=\"ProveItLink\" href=\"../../../_context_.ipynb\">proveit</a>.<a class=\"ProveItLink\" href=\"../../_context_.ipynb\">number</a>.<a class=\"ProveItLink\" href=\"../_context_.ipynb\">ordering</a>.<a class=\"ProveItLink\" href=\"../_theorems_.ipynb#greaterAddBoth\">greaterAddBoth</a> theorem\n",
    "========"
   ]
  },
  {
   "cell_type": "code",
   "execution_count": 1,
   "metadata": {},
   "outputs": [],
   "source": [
    "import proveit\n",
    "context = proveit.Context('..') # the theorem's context is in the parent directory"
   ]
  },
  {
   "cell_type": "code",
   "execution_count": 2,
   "metadata": {},
   "outputs": [
    {
     "name": "stdout",
     "output_type": "stream",
     "text": [
      "Beginning proof of greaterAddBoth\n",
      "Recorded 'presuming' information\n",
      "Presuming previous theorems (applied transitively).\n"
     ]
    },
    {
     "data": {
      "text/html": [
       "<strong id=\"greaterAddBoth\">greaterAddBoth:</strong> <a class=\"ProveItLink\" href=\"../__pv_it/c155c67edcf0d340f860473608df90efc1c8622b0/expr.ipynb\"><img src=\"data:image/png;base64,iVBORw0KGgoAAAANSUhEUgAAAVIAAAAXBAMAAACrGdq3AAAAMFBMVEX///8QEBC6urrMzMxUVFRm\n",
       "ZmZERETc3NwyMjKqqqp2dnaIiIiYmJgiIiLu7u4AAAAU9Wx4AAAAAXRSTlMAQObYZgAABFtJREFU\n",
       "SMfVV2+IG0UUf9n82WSztzmQUlEsW7RV8MNtoVQoljts5ZSCBrVH6Ul7tJgiFc2HaAulXBChqdZy\n",
       "IMKBiPnSWi0NAa8iiS2L9kNpuSNSpPjnw4onSsFeuKMtR8vhezOzOzvJRvohoj747WbezG/nN29m\n",
       "3kwA/jfm/VMfflwg0r7pQYgy0+ZoUeFK/4XGRziiLelEEeYf6m65fhW8iC/EZ1Q80X+laY+jh5Uj\n",
       "Ce9EtFyGNNUCvIUvfaL/SpsC0n4PFy6zZ8lRCcvit1UM3NoKmFUg0FCSU/1XukZA2kfhwi98xgt2\n",
       "mICquGXqgdtogTUIBPPTgweP9F+oVubopTTFg6M/MxUiGK1upek8wKvAcKtQ+LH/SpNVDig11hZV\n",
       "pdbnTQeMvCicdSUhvX3GVZWWGkM4lJPAsBVgfxCJitLdHrsjUJ16HuvaGMlFEQqXQ1sNb3TEdIOd\n",
       "bkHGZ1rnawFhYQKWFKXExtU5DQyPgCX7O6l0u8Bf06d3vMenLKjReZz8yEBm1O+4zd8xm2PShTFV\n",
       "qfUgpFzQBoNvze72CZ948ICiFNk78bWWYwCybsA6pijFcVjndrhZA2r5DqWvsASUDrbim1uFZDHq\n",
       "nM3xPMBPqtIEG0u8HXxr41GfgKpuKkqRTStzmCPrDsi0d1tRihH+8tEbHiqdm1OVgvYukXIymwip\n",
       "fpR9pbfAYhO6s1L5rlKhfJmbUJWu3xcQvgftLi6gSuX9+ysVOjWQvSiVWuWN1FGDCNqdGRLw25k6\n",
       "cx0DkzompRekUn38FKbBDC2IoeZzNJ+7KBde30tVp0WUY1MM+h3ItC0lppMsXsHsT49KwjIkV8Ix\n",
       "9dli9mH/U9jZNZ3aZFsmDsW6qrWFi44HUvpCVSr9szhJwzGPA5yHi+Rwhsh//YRfRU1dBmsZEuUP\n",
       "FKU5rHHBFKtktgaSsASxalipz74EHB9iFkvk45TLUnWTCiOWw1yDsJkpTW77IbSjnoYt7J29Bgdg\n",
       "Fn9sg1+p/JWLVRv8hJ3nOA4f56vqOs2D4Wcp6+wFCBGehZfUfCrYIktBrE6rJEvrIuYkJ/iSEa4t\n",
       "hUKhnjUOfxtSuggzPEVV4T62sVlisk5NySqc3RZHqfnwAVvNUruaKC/NnEfkXqbG8+dcValgvw0c\n",
       "Jk7Ygpeaw92RgwFKa2yfMNc8n/3MZi9Qaq3Aa3SEb8Lk0oaf0XGbCbVlFdlqgb89TcMWbhw6owD8\n",
       "01SsZ2/4Se9QcQATEz4dqB0qMleiyNdpLbRO18SXMBNsop3QypT1o3AVjBtjtqwKriCXe98/z3Qp\n",
       "DTfWFKVGnYNXjV95GYZdbbyKT317w6Pf6LL2ssxfmx/zAqXrvsZJKrFzbV0D4ndxjmqaI6vu5dZn\n",
       "Rd/6ou0PgZC5XU8wcJ3Ka4Uc9D55JY/+vD7CEW2JYiQh2kYFQrfuYuezw1JR33mix/cPC0TaFz0I\n",
       "UZZ1OMJ/WLqe96KUBT+DOaLw+n/n32Hi3+z8L46MSJlCQ0CNAAAAAElFTkSuQmCC\n",
       "\" style=\"display:inline;vertical-align:middle;\" /></a><br>(see <a class=\"ProveItLink\" href=\"../__pv_it/c155c67edcf0d340f860473608df90efc1c8622b0/dependencies.ipynb\">dependencies</a>)<br>"
      ],
      "text/plain": [
       "greaterAddBoth: forall_{a, b, c, d in Reals | a > b , c >= d} ((a + c) > (b + d))"
      ]
     },
     "execution_count": 2,
     "metadata": {},
     "output_type": "execute_result"
    }
   ],
   "source": [
    "%proving greaterAddBoth presuming []"
   ]
  },
  {
   "cell_type": "code",
   "execution_count": null,
   "metadata": {},
   "outputs": [],
   "source": []
  }
 ],
 "metadata": {
  "kernelspec": {
   "display_name": "Python 3",
   "language": "python",
   "name": "python3"
  }
 },
 "nbformat": 4,
 "nbformat_minor": 0
}
