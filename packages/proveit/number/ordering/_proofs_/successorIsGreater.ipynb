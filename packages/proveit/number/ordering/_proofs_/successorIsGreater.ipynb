{
 "cells": [
  {
   "cell_type": "markdown",
   "metadata": {},
   "source": [
    "Proof of <a class=\"ProveItLink\" href=\"../../../_context_.ipynb\">proveit</a>.<a class=\"ProveItLink\" href=\"../../_context_.ipynb\">number</a>.<a class=\"ProveItLink\" href=\"../_context_.ipynb\">ordering</a>.<a class=\"ProveItLink\" href=\"../_theorems_.ipynb#successorIsGreater\">successorIsGreater</a> theorem\n",
    "========"
   ]
  },
  {
   "cell_type": "code",
   "execution_count": 1,
   "metadata": {},
   "outputs": [],
   "source": [
    "import proveit\n",
    "context = proveit.Context('..') # the theorem's context is in the parent directory"
   ]
  },
  {
   "cell_type": "code",
   "execution_count": 2,
   "metadata": {},
   "outputs": [
    {
     "name": "stdout",
     "output_type": "stream",
     "text": [
      "Beginning proof of successorIsGreater\n",
      "Recorded 'presuming' information\n",
      "Presuming previous theorems (applied transitively).\n"
     ]
    },
    {
     "data": {
      "text/html": [
       "<strong id=\"successorIsGreater\">successorIsGreater:</strong> <a class=\"ProveItLink\" href=\"../__pv_it/4aa34f03b6d9735cd53b929abd656703996913180/expr.ipynb\"><img src=\"data:image/png;base64,iVBORw0KGgoAAAANSUhEUgAAAKkAAAAVBAMAAADP89MSAAAAMFBMVEX///8QEBC6urrMzMxUVFRm\n",
       "ZmZERETc3NwyMjKqqqp2dnaIiIiYmJgiIiLu7u4AAAAU9Wx4AAAAAXRSTlMAQObYZgAAAlZJREFU\n",
       "OMtjYKAJeIBPkmkDBGMFPArYxQ8B8QUQ4zQOjSZQjAnYgK4Jxq6J1YCBYSWI0YfD1D5ccnz5QFM5\n",
       "cOhqYGAoA1LsCdiluTdAMAI8hxrq4g80lWcBiM3ujK7tFNBCoDTrBOymMj6AYASYDWPsBwrzCYCZ\n",
       "Zklo2h4CLVxeXl6LwysaUIzDVIZMCLukEy3MgY78lpZ2C4epUVDM7r1IHJupS6GcV3egDIhCrgAG\n",
       "BmCwpOMwtQeKFQvYPmAzdQaM9/oWJJwgCjmB0aXCwNeAZNKMFaHdMLYQBLP/YWBNwGaqIiLtXgXx\n",
       "oQqZgOHNy8B9AJZetoYe4OZiWBcA5X+CYJYPDLwbsJlqDzeV2aOAAa6QGehe7gO8sGjepv7uAdDU\n",
       "c+dQTeVPYHgPTNkMER0dFzs6WrCYypQGkocpBJnK1wDKPaW7khl4QG4EmboPqlgSgus3MMyH5mzs\n",
       "IcDZUgCmoQpBIcCQ7gQ0+jr7P0heAZoatACqOgeC309g8OA0wGLqCWigQuMKppAHFE9TgUUBSwDz\n",
       "BQYrsKmsLjdhWpdCMMcBzqtcuFPWq9uwEIQqBKUsBkZgAPMrcDsw2KalpW3g5qo+DNOqC8Hs3pvM\n",
       "NqGaGirfCoziJnAavQOPM6hCDlBhxgO06v0DtnMFTyAhwGkFs5uxAIKx5C1wkhHAnswfInK8vc0D\n",
       "lgJIuK6DhSuo+OBZgKxBG5nDhaPkXQ1PGtGnYxj4ksC5YN2TsAeESkIweIFdGCVTgSwHhiuKQAkU\n",
       "Ywfu2IVZCghUP+wbIBh76WuAXXwzAwMASHmxleB2kLEAAAAASUVORK5CYII=\n",
       "\" style=\"display:inline;vertical-align:middle;\" /></a><br>(see <a class=\"ProveItLink\" href=\"../__pv_it/4aa34f03b6d9735cd53b929abd656703996913180/dependencies.ipynb\">dependencies</a>)<br>"
      ],
      "text/plain": [
       "successorIsGreater: forall_{a in Reals} ((a + 1) > a)"
      ]
     },
     "execution_count": 2,
     "metadata": {},
     "output_type": "execute_result"
    }
   ],
   "source": [
    "%proving successorIsGreater presuming []"
   ]
  },
  {
   "cell_type": "code",
   "execution_count": null,
   "metadata": {},
   "outputs": [],
   "source": []
  }
 ],
 "metadata": {
  "kernelspec": {
   "display_name": "Python 3",
   "language": "python",
   "name": "python3"
  }
 },
 "nbformat": 4,
 "nbformat_minor": 0
}
