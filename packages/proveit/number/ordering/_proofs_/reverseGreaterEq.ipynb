{
 "cells": [
  {
   "cell_type": "markdown",
   "metadata": {},
   "source": [
    "Proof of <a class=\"ProveItLink\" href=\"../../../_context_.ipynb\">proveit</a>.<a class=\"ProveItLink\" href=\"../../_context_.ipynb\">number</a>.<a class=\"ProveItLink\" href=\"../_context_.ipynb\">ordering</a>.<a class=\"ProveItLink\" href=\"../_theorems_.ipynb#reverseGreaterEq\">reverseGreaterEq</a> theorem\n",
    "========"
   ]
  },
  {
   "cell_type": "code",
   "execution_count": 1,
   "metadata": {},
   "outputs": [],
   "source": [
    "import proveit\n",
    "context = proveit.Context('..') # the theorem's context is in the parent directory"
   ]
  },
  {
   "cell_type": "code",
   "execution_count": 2,
   "metadata": {},
   "outputs": [
    {
     "name": "stdout",
     "output_type": "stream",
     "text": [
      "Beginning proof of reverseGreaterEq\n",
      "Recorded 'presuming' information\n",
      "Presuming previous theorems (applied transitively).\n"
     ]
    },
    {
     "data": {
      "text/html": [
       "<strong id=\"reverseGreaterEq\">reverseGreaterEq:</strong> <a class=\"ProveItLink\" href=\"../__pv_it/405ecc4b27b1d0dfe97d3233a62ddeea4b0a063f0/expr.ipynb\"><img src=\"data:image/png;base64,iVBORw0KGgoAAAANSUhEUgAAAKEAAAAXBAMAAACR7DLtAAAAMFBMVEX///8QEBC6urrMzMxUVFRm\n",
       "ZmZERETc3NwyMjKqqqp2dnaIiIiYmJgiIiLu7u4AAAAU9Wx4AAAAAXRSTlMAQObYZgAAAlNJREFU\n",
       "OMutVE9o01AY/zVZmrXp0rIdPAyloAdBxAm7t1SYoAg7eHIIotKhu+QgTpCNIHoYDBk4d9klJzct\n",
       "jIquIBMNXgRFGB47hfSwHeplILjLGH7vpclL0qWQsQ9Kv+/7vffL9/cBxy5O8ivn4qEv9Ntkyvck\n",
       "hHI5HlNGgNdMeZ6EsT+SlvYzYJjAQ/pTbyVh3Aib7a2g9c39orKQhPFUyNr+FTJbQG5lenomCaFk\n",
       "Bq0Hc2E0TcH9q1abSRgVizK9AfWAGaNPPLdau7w8AWTHgUvAZNe1Yo/G2IB1Adou6Tt3RDnxwz4J\n",
       "ZCiDM9DNrmuiVYtGBEoVIS/cRJod0bb8vlv4jBdUkwIwAM3uwaheHwlD+SJ0DCNfZ0au6fibMsaH\n",
       "lULX7AGnB2MXJTEic4CS680883MY9hh1c5S0WuU9HZEaSDmC0XXqr4oCoKypm4qJt17rn3Y+qP6l\n",
       "2HnWmKxQi5wxdvJP3rgoYuw4oa86PkDzQTXqH8ddfymrnPIrteoTlYH15CWttoR55p49j4Zg7Dih\n",
       "zQvAnQ+lLO2LPa+w7PfTBbXuokjxGu9x9AquBuvIne17AYC+QwHoU+t74cLrU2tvPrLZYnOXYwWS\n",
       "CzIDBjEUYOTO9u0gQHKCR7p5+LS2PKWUNbN4ZGBI2hWM3LnNCX3AfQyuoRXzFNQ8ZefDxBpKNhYb\n",
       "pmDkztOdQW+YgdesiftcnfnNJPCaRZfFVo2+enQe3dHwAKaXsbwes6Z94Q2TjbR1Focy+gCTx/FL\n",
       "/y5s5pDZsKKMS1USxweOLOWjX/0P1qGZxGfhP4AAAAAASUVORK5CYII=\n",
       "\" style=\"display:inline;vertical-align:middle;\" /></a><br>(see <a class=\"ProveItLink\" href=\"../__pv_it/405ecc4b27b1d0dfe97d3233a62ddeea4b0a063f0/dependencies.ipynb\">dependencies</a>)<br>"
      ],
      "text/plain": [
       "reverseGreaterEq: forall_{x, y | x >= y} (y <= x)"
      ]
     },
     "execution_count": 2,
     "metadata": {},
     "output_type": "execute_result"
    }
   ],
   "source": [
    "%proving reverseGreaterEq presuming []"
   ]
  },
  {
   "cell_type": "code",
   "execution_count": null,
   "metadata": {},
   "outputs": [],
   "source": []
  }
 ],
 "metadata": {
  "kernelspec": {
   "display_name": "Python 3",
   "language": "python",
   "name": "python3"
  }
 },
 "nbformat": 4,
 "nbformat_minor": 0
}
