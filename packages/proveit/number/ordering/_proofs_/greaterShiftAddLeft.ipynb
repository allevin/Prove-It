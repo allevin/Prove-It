{
 "cells": [
  {
   "cell_type": "markdown",
   "metadata": {},
   "source": [
    "Proof of <a class=\"ProveItLink\" href=\"../../../_context_.ipynb\">proveit</a>.<a class=\"ProveItLink\" href=\"../../_context_.ipynb\">number</a>.<a class=\"ProveItLink\" href=\"../_context_.ipynb\">ordering</a>.<a class=\"ProveItLink\" href=\"../_theorems_.ipynb#greaterShiftAddLeft\">greaterShiftAddLeft</a> theorem\n",
    "========"
   ]
  },
  {
   "cell_type": "code",
   "execution_count": 1,
   "metadata": {},
   "outputs": [],
   "source": [
    "import proveit\n",
    "context = proveit.Context('..') # the theorem's context is in the parent directory"
   ]
  },
  {
   "cell_type": "code",
   "execution_count": 2,
   "metadata": {},
   "outputs": [
    {
     "name": "stdout",
     "output_type": "stream",
     "text": [
      "Beginning proof of greaterShiftAddLeft\n",
      "Recorded 'presuming' information\n",
      "Presuming previous theorems (applied transitively).\n"
     ]
    },
    {
     "data": {
      "text/html": [
       "<strong id=\"greaterShiftAddLeft\">greaterShiftAddLeft:</strong> <a class=\"ProveItLink\" href=\"../__pv_it/2b4e0998dc28c95383d3e8ccf6bf93dd3a93a2280/expr.ipynb\"><img src=\"data:image/png;base64,iVBORw0KGgoAAAANSUhEUgAAASEAAAAXBAMAAAC2Z+QsAAAAMFBMVEX///8QEBC6urrMzMxUVFRm\n",
       "ZmZERETc3NwyMjKqqqp2dnaIiIiYmJgiIiLu7u4AAAAU9Wx4AAAAAXRSTlMAQObYZgAAA8tJREFU\n",
       "SMfNVlto1EAUvd1Ht/vKij++QCqKFkSMIH6I0voWFFyUFmmLio8VUTAfqxVEXKQf8cmCCAURFkR8\n",
       "FJeFqh9dLEF/pIVSERGrHxEUpYIWhYpUivdmJslMutHignrhzkwm505O5p55APx3ZlY7QKCExWKf\n",
       "l4l6n4AK9oj7ED0MVMFoOXqwye/tjsoBHlPWII2wyvw29VyqghHF1vnOdF3lgEkw+qUc8+NYRfb8\n",
       "OaE45aAs/q8mpa1AZWSdJ8C297xO5bHoZ06/F87/OaMamp65QkdUkokyzapW7JUDbLvK66XU+YZ5\n",
       "4mZHx6kqktZAWs35MoJDrMqeFQMmMbpLRW2e+VgmM1wFo1b0MKVmpLtHZpTtnYcJvMGfRl4LAcqd\n",
       "siox6ixvBYilmWOKDzoLU/f5rncRu8ALpEsDl9t0uCgxCsyAo1h12cCPw6YTsKy+bkhkpIxBSoUo\n",
       "TjX5AlDcSb8hfbfrVvN51nKl3+EBTidpIOE3JTgiMTptQAtW81yRPzd5gDIHag2RUXQCagoQQM2R\n",
       "JyFuOFFnXUnebzbiMSimPYyO75KBX2ilIKNtXh1hxyusGp3I4GaNB4RGPToK5yCVhiB2k8eNpKv+\n",
       "b07rwaJPJjIaHPQwgoaiBLQZjbGhdf3iTF2n3WUMlK8io0BGtQNSbLiduv5U1zuxlUzDUsNhpORo\n",
       "Ez3Wu4+ixu8Ru3fdpQTNDTHqExgxUFfJAaLNoqzlITLumSPsiI4qbtainZoTcLrkmSPcjnabTtbg\n",
       "4Fqk9SIyQRSGEvh7yrPAqLXXIqPtBZcRB8ETgwPJSDwkih8oFJGR8h1CucsI5iIathOBASnESzpC\n",
       "Wc9GTI45XEHZh9JBEn9tKUEPTYq60mIUXv9SUDYHATzUGNCWOC3ZDQDXJR1dgGvpgr0ERl6ZwuIJ\n",
       "pSEmrf5QPtzkrn6oKZES4vTPNWp4D5PF6kwmU4rHTj4WGHEQBM5xINkS6qBzsrtsSoyy5fmHcaAz\n",
       "VgpfuzqkgNZyn5Q1ZUs7bSL1zCGBI302awcxzylI4mx+xtZblrXoStNlxEHBAyYHWocCyWPG704R\n",
       "8djRKuzZlvFTxD5sGleZJ7QkbmhYqlAMaUxHRUFHFgiC+zXaMrrEo7Tf9/oTm3QZYmcvN+le1c2d\n",
       "DdM20A6NRqCtgGVkS6+p7LV2yOLbFtNhZIEiGzWrWZjabeTD1G4j1nTmQNysLTOEMoY6ct+4+9FC\n",
       "1TNQlnTie2PbNLkr6wOltISkqwwENbf02C8uUBEiftLv9qT6BFSwHu5ihoVy6oz+kTX9vU/9BBO2\n",
       "ERD/He4NAAAAAElFTkSuQmCC\n",
       "\" style=\"display:inline;vertical-align:middle;\" /></a><br>(see <a class=\"ProveItLink\" href=\"../__pv_it/2b4e0998dc28c95383d3e8ccf6bf93dd3a93a2280/dependencies.ipynb\">dependencies</a>)<br>"
      ],
      "text/plain": [
       "greaterShiftAddLeft: forall_{a, b, c in Reals | a > b} ((c + a) > (c + b))"
      ]
     },
     "execution_count": 2,
     "metadata": {},
     "output_type": "execute_result"
    }
   ],
   "source": [
    "%proving greaterShiftAddLeft presuming []"
   ]
  },
  {
   "cell_type": "code",
   "execution_count": null,
   "metadata": {},
   "outputs": [],
   "source": []
  }
 ],
 "metadata": {
  "kernelspec": {
   "display_name": "Python 3",
   "language": "python",
   "name": "python3"
  }
 },
 "nbformat": 4,
 "nbformat_minor": 0
}
