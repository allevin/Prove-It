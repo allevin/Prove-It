{
 "cells": [
  {
   "cell_type": "markdown",
   "metadata": {},
   "source": [
    "Proof of <a class=\"ProveItLink\" href=\"../../../_context_.ipynb\">proveit</a>.<a class=\"ProveItLink\" href=\"../../_context_.ipynb\">number</a>.<a class=\"ProveItLink\" href=\"../_context_.ipynb\">ordering</a>.<a class=\"ProveItLink\" href=\"../_theorems_.ipynb#greaterAddRight\">greaterAddRight</a> theorem\n",
    "========"
   ]
  },
  {
   "cell_type": "code",
   "execution_count": 1,
   "metadata": {},
   "outputs": [],
   "source": [
    "import proveit\n",
    "context = proveit.Context('..') # the theorem's context is in the parent directory"
   ]
  },
  {
   "cell_type": "code",
   "execution_count": 2,
   "metadata": {},
   "outputs": [
    {
     "name": "stdout",
     "output_type": "stream",
     "text": [
      "Beginning proof of greaterAddRight\n",
      "Recorded 'presuming' information\n",
      "Presuming previous theorems (applied transitively).\n"
     ]
    },
    {
     "data": {
      "text/html": [
       "<strong id=\"greaterAddRight\">greaterAddRight:</strong> <a class=\"ProveItLink\" href=\"../__pv_it/7ad08170130dfd5b7379c6abbb02d7e3cdb345460/expr.ipynb\"><img src=\"data:image/png;base64,iVBORw0KGgoAAAANSUhEUgAAARAAAAAXBAMAAAAxVg0qAAAAMFBMVEX///8QEBC6urrMzMxUVFRm\n",
       "ZmZERETc3NwyMjKqqqp2dnaIiIiYmJgiIiLu7u4AAAAU9Wx4AAAAAXRSTlMAQObYZgAAA7BJREFU\n",
       "SMfNVktoE0EY/vLcJLvZiB58HKTi8yLNQSqI0vpCoaJBbQ9WqliMiB72UB8gYpCC8UkOKt4Mii+K\n",
       "JWj10KoE9CCIpSAi1h5WaFEqmqJQD5biPzOb3dm4QQoRHPhnZ/6Z+eeb+b//nwX+l2LW3KK/MB01\n",
       "tDohg6zzqpZAVlRT62sHvQZ2CLnH2pdqCeRSVXWkyWsgIuQofZS9NcShOi5Q1rvViZzV0Q3ZN3ku\n",
       "ESJJKFdDID6JdQ37XOr68lBU5os+g4t259ixk7X0zDK503lWVt+HFxAcFDKRTg/VEsgu5pPmG7NF\n",
       "b2xYUnf1b6kAMtb9ELgFLuTHA3aIZatE5B/HzrA61p36c+4FkgVGeNzqfhkyy2p9AomkC0hgJi4C\n",
       "18BlEfSMbeWWy+a1uy3neSPs8E/QLMYR9NHiy0YFkJk0aRIhm//aW9NSR6fgy7uAfCzgMMEGlzjU\n",
       "om3lrEOhRy1FNYaeVAWQ/dxshNP7DRKmsjPpBvIdCI4jbrMgsNmw1KEMEikXkG28bhSiFuMOz3/a\n",
       "rcdLv5kEZGDADQT+c2x2ghnXpxDPoRIJ7ZjYi1JZ6U8ny+p4CvV05lA2e3FONstyyoQMRM+wVHik\n",
       "r4Ot+tXLthntLmgMOgPyzAGitN0mo1Hmrfr+rXTWKX5w/XYdX2LtPBc4VcB16+2Idhm2mtLIHlO+\n",
       "EeUX/1iuwYF1ZOydMsV2HtQIqP7GPx6BALI97wD5apxidjTi3VO8INgCCPS7JltiASGnl3LYHOUX\n",
       "oQ2ZjpqYOs8dNZM0A3gJIVfoBQimAuwdCBc01mnSk6s4kNCG9xJZN2KNSJLvcAiv7RuBeoEvcfge\n",
       "KUbfxnh0fjClMAjmQk1uIBuBm3b4wseSb53K5viSjO0Juuo16XS6oMZOPJeAfEeviN08ZqGVbuIn\n",
       "fETasYNiiVWWszTyoOEBu/phyGq9eXdFQgt19xPS0xCiUbtkhgfImQnEiU0lao0I10RXmTYQ4ubh\n",
       "TyxvtwPjYHvMYqQdY2m85ASxz/DO/LLaK8WXX4LG1eZxI06JheokeoKG4EiPxJH5gR8UQw2bqDkY\n",
       "zShnKI8swSh/TtgS6Q3z+u3IV/s3iRWEiJG2V7vRWPS35alWmvtMfR9PaD0jraYNZPGTR0V08jS8\n",
       "uA+BSaj97Vgo+E9L/v4b4F0+WyKVolTHiCP2gJNH/B3OGasY7pyWGthkiVMChlO7S9jLwMoqhpXC\n",
       "dNRQk0JkN1Y9qCcQcXNXKbzStf/xrVKC/36L35PdBDN81HuRAAAAAElFTkSuQmCC\n",
       "\" style=\"display:inline;vertical-align:middle;\" /></a><br>(see <a class=\"ProveItLink\" href=\"../__pv_it/7ad08170130dfd5b7379c6abbb02d7e3cdb345460/dependencies.ipynb\">dependencies</a>)<br>"
      ],
      "text/plain": [
       "greaterAddRight: forall_{a, b, c in Reals | a > b , 0 >= c} (a > (b + c))"
      ]
     },
     "execution_count": 2,
     "metadata": {},
     "output_type": "execute_result"
    }
   ],
   "source": [
    "%proving greaterAddRight presuming []"
   ]
  },
  {
   "cell_type": "code",
   "execution_count": null,
   "metadata": {},
   "outputs": [],
   "source": []
  }
 ],
 "metadata": {
  "kernelspec": {
   "display_name": "Python 3",
   "language": "python",
   "name": "python3"
  }
 },
 "nbformat": 4,
 "nbformat_minor": 0
}
