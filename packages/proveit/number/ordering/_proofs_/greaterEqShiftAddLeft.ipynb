{
 "cells": [
  {
   "cell_type": "markdown",
   "metadata": {},
   "source": [
    "Proof of <a class=\"ProveItLink\" href=\"../../../_context_.ipynb\">proveit</a>.<a class=\"ProveItLink\" href=\"../../_context_.ipynb\">number</a>.<a class=\"ProveItLink\" href=\"../_context_.ipynb\">ordering</a>.<a class=\"ProveItLink\" href=\"../_theorems_.ipynb#greaterEqShiftAddLeft\">greaterEqShiftAddLeft</a> theorem\n",
    "========"
   ]
  },
  {
   "cell_type": "code",
   "execution_count": 1,
   "metadata": {},
   "outputs": [],
   "source": [
    "import proveit\n",
    "context = proveit.Context('..') # the theorem's context is in the parent directory"
   ]
  },
  {
   "cell_type": "code",
   "execution_count": 2,
   "metadata": {},
   "outputs": [
    {
     "name": "stdout",
     "output_type": "stream",
     "text": [
      "Beginning proof of greaterEqShiftAddLeft\n",
      "Recorded 'presuming' information\n",
      "Presuming previous theorems (applied transitively).\n"
     ]
    },
    {
     "data": {
      "text/html": [
       "<strong id=\"greaterEqShiftAddLeft\">greaterEqShiftAddLeft:</strong> <a class=\"ProveItLink\" href=\"../__pv_it/efe8df91e77d9203e6f872b7708c72369c974c350/expr.ipynb\"><img src=\"data:image/png;base64,iVBORw0KGgoAAAANSUhEUgAAASEAAAAXBAMAAAC2Z+QsAAAAMFBMVEX///8QEBC6urrMzMxUVFRm\n",
       "ZmZERETc3NwyMjKqqqp2dnaIiIiYmJgiIiLu7u4AAAAU9Wx4AAAAAXRSTlMAQObYZgAAA9NJREFU\n",
       "SMfNVlloFEEQreyRyV694o8XyIYICiKO4JcoiRcKCi5eSKIYomwQBfcjGiFIFlEYMcqCB4IICxKN\n",
       "LoYFj48syKA/ohAiIuIFIxiUFTQoJIgiVk33HD3ZieKCWFDdMz1V06+7XlU3wH8nRq0/CJSwWejz\n",
       "MZ7ycagi94WO0MvjGhAtRQ22+H3dUt3BI2wlwgirXK/TyJkaEJFvg+9ON/AZXxqywyQzWlKO62Hs\n",
       "lPa/BxSjGJTd681KYSuYXeREVnKw5L3ok3lsHnGl5YXzf4+ojlY/1zUQkWjCpgny7FXdDpZcEv1i\n",
       "GnzLNX6tu/toDUFbQNPlfBHBPtEHMynHYRKim9TU57mOZzIva0DUihqm0FSKt2REXUONGKp+y1BZ\n",
       "n7Id2I2yKiE6Xt4IEE1zXQ3QaSem5jOvN4kdwz7ipY57MB1OS4gCM+AgdhdtH2WXajksSTWMuBGx\n",
       "cUiqEMGtJp0HzNn0fmneiwPbTvEnh/rnsrLhdKIGAn5bggMSol4dtmPX6JD8mSEc2Byo192IIj+h\n",
       "rgAB5BxpAmK67XXSoeSdbXosCoNpDyJlqyoZfqFMQUSbvDzCgVfYNVvjH0UFQIfQmIdH4Rwk0xDE\n",
       "YdKYnnDYP2E/3Z3/yUBEw8MeRALShBfROP+1pp2eqWlUXcaBfXUhqrxyHJL8dzs07YmmHcenRBoW\n",
       "6zYilqMiemhoD8X++21CN1osxWlvCNE9FyJuxK6mLEOUWRS1PCjfPXuEA5ExZkft0GvrOzr0ljx7\n",
       "hOVot2FHDTpX4SzPlZ8EYSSOy2NPA2NmrUVEmwsOImEEbMDghiREHiLFDySKGxH7BqHcWYCHPO8c\n",
       "OqBDEu0lHiGtZ6N/jiucR9qH0kEif30pTi8tTF1mIgqveeFitjCCWJ8wtChOKbsW4IrEoz64nC6I\n",
       "FFA6wJ08oTREpewP5cMtTvZDXYmYEKM116nhdk6LFZlMphSL9jxwIRJGlX2WIckiCjadk8WyISHq\n",
       "Kjftxx8d8xYScmgt35OixjbspCKS4gpx/NNno34Y0zoJCdzNz/j0jkctssxwEHGjCq2XG5qHAlWD\n",
       "Gb89RVzHTrZKzTZFnCLWYdO83DiSTWBBw1aFwVCW82jQxSPTaNQMQMKufOZR+sj3+hOddBkSZy8X\n",
       "6V5VFMp/0/Z4JzTrgbYCtsqGIYN1mBVy8N12w0ZkGjUJ+8Kf3UY+8MR7Y0oKprr6UKFmOXlMd7VR\n",
       "5JHzZYrrShfN6HtjW1fdoZpQWELSVQaCWaf1yBSIFALe43d7Un0cqsgtoe4Iu1pfRBcwCTM1X85r\n",
       "l5Z/N9UvHpUW3NYf0BgAAAAASUVORK5CYII=\n",
       "\" style=\"display:inline;vertical-align:middle;\" /></a><br>(see <a class=\"ProveItLink\" href=\"../__pv_it/efe8df91e77d9203e6f872b7708c72369c974c350/dependencies.ipynb\">dependencies</a>)<br>"
      ],
      "text/plain": [
       "greaterEqShiftAddLeft: forall_{a, b, c in Reals | a >= b} ((c + a) >= (c + b))"
      ]
     },
     "execution_count": 2,
     "metadata": {},
     "output_type": "execute_result"
    }
   ],
   "source": [
    "%proving greaterEqShiftAddLeft presuming []"
   ]
  },
  {
   "cell_type": "code",
   "execution_count": null,
   "metadata": {},
   "outputs": [],
   "source": []
  }
 ],
 "metadata": {
  "kernelspec": {
   "display_name": "Python 3",
   "language": "python",
   "name": "python3"
  }
 },
 "nbformat": 4,
 "nbformat_minor": 0
}
