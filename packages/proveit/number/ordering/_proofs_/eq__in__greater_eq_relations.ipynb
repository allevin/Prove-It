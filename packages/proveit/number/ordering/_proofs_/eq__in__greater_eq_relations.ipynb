{
 "cells": [
  {
   "cell_type": "markdown",
   "metadata": {},
   "source": [
    "Proof of <a class=\"ProveItLink\" href=\"../../../_context_.ipynb\">proveit</a>.<a class=\"ProveItLink\" href=\"../../_context_.ipynb\">number</a>.<a class=\"ProveItLink\" href=\"../_context_.ipynb\">ordering</a>.<a class=\"ProveItLink\" href=\"../_theorems_.ipynb#eq__in__greater_eq_relations\">eq__in__greater_eq_relations</a> theorem\n",
    "========"
   ]
  },
  {
   "cell_type": "code",
   "execution_count": 1,
   "metadata": {},
   "outputs": [],
   "source": [
    "import proveit\n",
    "context = proveit.Context('..') # the theorem's context is in the parent directory"
   ]
  },
  {
   "cell_type": "code",
   "execution_count": 2,
   "metadata": {},
   "outputs": [
    {
     "name": "stdout",
     "output_type": "stream",
     "text": [
      "Beginning proof of eq__in__greater_eq_relations\n",
      "Recorded 'presuming' information\n",
      "Presuming previous theorems (applied transitively).\n"
     ]
    },
    {
     "data": {
      "text/html": [
       "<strong id=\"eq__in__greater_eq_relations\">eq__in__greater_eq_relations:</strong> <a class=\"ProveItLink\" href=\"../__pv_it/6e528b7ecca8e209428f18ebbe1d9f88ade9c0540/expr.ipynb\"><img src=\"data:image/png;base64,iVBORw0KGgoAAAANSUhEUgAAAHkAAAAVBAMAAACQ4lxbAAAAMFBMVEX///92dnaqqqoQEBC6urrc\n",
       "3NyYmJjMzMyIiIju7u5EREQiIiJUVFQyMjJmZmYAAACZj33uAAAAAXRSTlMAQObYZgAAAUZJREFU\n",
       "OMtjYMAC2J4xEATsggHYJTg3MhAB2I2wi3N8IEY3w1vswowGaAKzJbEpE8atO6YAWUT3KSHdnL27\n",
       "d1+A62Zf5YAs6XWcgO7aTBSXs55VQJatWoJXN+tKNH9zSicgq425gk3327sgcIeBCxF9fBAPcHaj\n",
       "BFbcdogkWP3dAwwM+UiSsxDMYpiXs18iKUDhgADvAwTbefduaKjVmMPEaq4iwrQbM9bWIrxWg2QQ\n",
       "NLa8liM0SzdgaOYWYGB4DbJz9y6G2QhhHoi/dY8igvQ13Bo+sPrdC1D9zYNwBuMGsD/BTuVkQIo9\n",
       "TpwxxrkFJcY4pTvB7Pkgk6KgwQjmYE8tsc+RdUdDnTL5K5ISFA5aOte5jZRS4cCVARdHmIg8hpLg\n",
       "EojQzYauOxoczFvQdOPI35w7kEoKlGIDpWwxwVFqsAkRWa4BAE5oWUSauYF4AAAAAElFTkSuQmCC\n",
       "\" style=\"display:inline;vertical-align:middle;\" /></a><br>(see <a class=\"ProveItLink\" href=\"../__pv_it/6e528b7ecca8e209428f18ebbe1d9f88ade9c0540/dependencies.ipynb\">dependencies</a>)<br>"
      ],
      "text/plain": [
       "eq__in__greater_eq_relations: = in {> , >= , =}"
      ]
     },
     "execution_count": 2,
     "metadata": {},
     "output_type": "execute_result"
    }
   ],
   "source": [
    "%proving eq__in__greater_eq_relations presuming []"
   ]
  },
  {
   "cell_type": "code",
   "execution_count": null,
   "metadata": {},
   "outputs": [],
   "source": []
  }
 ],
 "metadata": {
  "kernelspec": {
   "display_name": "Python 3",
   "language": "python",
   "name": "python3"
  }
 },
 "nbformat": 4,
 "nbformat_minor": 0
}
