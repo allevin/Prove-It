{
 "cells": [
  {
   "cell_type": "markdown",
   "metadata": {},
   "source": [
    "Proof of <a class=\"ProveItLink\" href=\"../../../_context_.ipynb\">proveit</a>.<a class=\"ProveItLink\" href=\"../../_context_.ipynb\">number</a>.<a class=\"ProveItLink\" href=\"../_context_.ipynb\">ordering</a>.<a class=\"ProveItLink\" href=\"../_theorems_.ipynb#lessEqAddBoth\">lessEqAddBoth</a> theorem\n",
    "========"
   ]
  },
  {
   "cell_type": "code",
   "execution_count": 1,
   "metadata": {},
   "outputs": [],
   "source": [
    "import proveit\n",
    "context = proveit.Context('..') # the theorem's context is in the parent directory"
   ]
  },
  {
   "cell_type": "code",
   "execution_count": 2,
   "metadata": {},
   "outputs": [
    {
     "name": "stdout",
     "output_type": "stream",
     "text": [
      "Beginning proof of lessEqAddBoth\n",
      "Recorded 'presuming' information\n",
      "Presuming previous theorems (applied transitively).\n"
     ]
    },
    {
     "data": {
      "text/html": [
       "<strong id=\"lessEqAddBoth\">lessEqAddBoth:</strong> <a class=\"ProveItLink\" href=\"../__pv_it/f1e2ad67e841c81fc81008c6ccda605ec95992b00/expr.ipynb\"><img src=\"data:image/png;base64,iVBORw0KGgoAAAANSUhEUgAAAVIAAAAXBAMAAACrGdq3AAAAMFBMVEX///8QEBC6urrMzMxUVFRm\n",
       "ZmZERETc3NwyMjKqqqp2dnaIiIiYmJgiIiLu7u4AAAAU9Wx4AAAAAXRSTlMAQObYZgAABFFJREFU\n",
       "SMfVVm+IG0UU/2WTXLLZvc2BSEWxpGhV8MNtoSCUljtqi0hBg9pSekIPhRSp1P1w/QOlXJCKe7TK\n",
       "gQgFUfOltVoIAa9FEpVF/VBaPKJFpD2FFa8qgt5xh5Wj5eibP/tnkg39ElEf/Gbnzczb+c2bN28G\n",
       "+N+I/0/9+FGJRPmih0GSmCWBNlMu959oelQgWbJ2ksH8/d0jH7obz9KH8CFT3+w/07wv0EOqUdX4\n",
       "NjQ4njByBXnWCxyiT268/0xbEpH8GlcuhbXf5yKDFdlmOWG3tgqzBga2lOx0/5mulYjknbjyU1C5\n",
       "/kNkQKyE6I1wYKENawgM5geHDx/rP1GtKtCL6YB0zsRUzKDQ7maaLwMvgeNGpXKt/0yzNQFMNNc5\n",
       "KlPro5aNQpnXN74aN8jvmPFUphPNYVrSaXA8DuwLPeEq0+0tdTiqk88j1S6GS9IVnoC2Bq90+HRD\n",
       "Kd+Gzi1/eTHyHQ1eGMeywpRZU3SeAseDsKL5TivTLojPqbM7T4gtU3r1A4FnQp0ctiiUVElg0sMu\n",
       "lal1HwY8aEP82M+F2YENft/HvQpTst5Nn3UCgzC8cLYphQutwzq/0zMKqJe7mOonfOSnVR3SV0Cx\n",
       "JPA0MKcyzfC1pMWKzGsBVTaYWP2lMCVrFpkjAoY3GKW9vxWm5OELD//pE9PZ2U6mJnNz0VF1hF4O\n",
       "mN6AxTd0t+t+47osXxbHY0yhv+ZEBt9Bu0UB5Lpv3OO67NYg66WIqVXdSJWDTRYy2s0Zxvr6uQZv\n",
       "moLJJmZMP4+Y5sbO2DBOsupw6ym2n3taUs+NnZVeTk1z5G5CX7QUn05yf4ndZ5Xjdmiwguxq3KeB\n",
       "tdx97NtKk32fY2OMtklLsa5oi7IpD8H0mVrE9A9n0tev8upn+Io12MNSZ10yC3kc1goy1bcUpkXq\n",
       "8WCGZyNdsQODZaRqcaaB9UUIvE1ZLFNOs1w20DCZMmrZvGkImzjT7LarsRO1HVtgneFpYT++pnIb\n",
       "fpb6dmwIEnZZ4CTeLdfUOC2jYMfPYnprYPAknlPzqbSWWQqpBosSg8VFys6Oi5CRTVsqlUrDKBz9\n",
       "MsZ0CTO03Atsm+/iB5uFktB5l9jUtsBE64H9JTVL7WlRKOVLnVcFDZ4/76lMpTVLugwmbdiCPzBL\n",
       "oV3EIEtrPMh507zYfX2THzK1VvEyu8I/IWqLoLvQEseQ9KCLyRqJO92mocQHx+4oILhN5QHwRzb7\n",
       "R5xBSkxU2qgfcXhTxhFxWo/F6dr0Ms8EFz209WrudVxBwRd60CWfIJd6vz/PdTGND9YUpoWGgOga\n",
       "u/w8RjxtrEZlbkfTZ3Vqsl7gmb8+v8sPma7/VG7Se1jfRPoW7VE90IOuO7365GVz7Ecm0asvWX6T\n",
       "iInXVaJAcRo9KxKf5Mm/z40KJEvGSTRIlickYq9up7PskESmj/X4/1GJRPm4h0GSGLZAl3fM3p6K\n",
       "mOqUEyoHIufH9P+EZP7NyW8DSoxTSBGcDTwAAAAASUVORK5CYII=\n",
       "\" style=\"display:inline;vertical-align:middle;\" /></a><br>(see <a class=\"ProveItLink\" href=\"../__pv_it/f1e2ad67e841c81fc81008c6ccda605ec95992b00/dependencies.ipynb\">dependencies</a>)<br>"
      ],
      "text/plain": [
       "lessEqAddBoth: forall_{a, b, c, d in Reals | a <= b , c <= d} ((a + c) <= (b + d))"
      ]
     },
     "execution_count": 2,
     "metadata": {},
     "output_type": "execute_result"
    }
   ],
   "source": [
    "%proving lessEqAddBoth presuming []"
   ]
  },
  {
   "cell_type": "code",
   "execution_count": null,
   "metadata": {},
   "outputs": [],
   "source": []
  }
 ],
 "metadata": {
  "kernelspec": {
   "display_name": "Python 3",
   "language": "python",
   "name": "python3"
  }
 },
 "nbformat": 4,
 "nbformat_minor": 0
}
