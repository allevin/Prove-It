{
 "cells": [
  {
   "cell_type": "markdown",
   "metadata": {},
   "source": [
    "Proof of <a class=\"ProveItLink\" href=\"../../../_context_.ipynb\">proveit</a>.<a class=\"ProveItLink\" href=\"../../_context_.ipynb\">number</a>.<a class=\"ProveItLink\" href=\"../_context_.ipynb\">ordering</a>.<a class=\"ProveItLink\" href=\"../_theorems_.ipynb#lessEqShiftAddLeft\">lessEqShiftAddLeft</a> theorem\n",
    "========"
   ]
  },
  {
   "cell_type": "code",
   "execution_count": 1,
   "metadata": {},
   "outputs": [],
   "source": [
    "import proveit\n",
    "context = proveit.Context('..') # the theorem's context is in the parent directory"
   ]
  },
  {
   "cell_type": "code",
   "execution_count": 2,
   "metadata": {},
   "outputs": [
    {
     "name": "stdout",
     "output_type": "stream",
     "text": [
      "Beginning proof of lessEqShiftAddLeft\n",
      "Recorded 'presuming' information\n",
      "Presuming previous theorems (applied transitively).\n"
     ]
    },
    {
     "data": {
      "text/html": [
       "<strong id=\"lessEqShiftAddLeft\">lessEqShiftAddLeft:</strong> <a class=\"ProveItLink\" href=\"../__pv_it/ad2141b46e154a4b59bbd3ccf9f0cf6bca93967c0/expr.ipynb\"><img src=\"data:image/png;base64,iVBORw0KGgoAAAANSUhEUgAAASEAAAAXBAMAAAC2Z+QsAAAAMFBMVEX///8QEBC6urrMzMxUVFRm\n",
       "ZmZERETc3NwyMjKqqqp2dnaIiIiYmJgiIiLu7u4AAAAU9Wx4AAAAAXRSTlMAQObYZgAAA89JREFU\n",
       "SMfNVmloE0EUfrma5tpI/9QDJEVBQcQVij+K0nphQcGgeOCBopBSFMyPekARg/THiq0ERAlIISDi\n",
       "URoWqiINlkX/iGKp+ENUhBUqSgVbFCKiFN+b2WN2k1UxID54M7Oz7818864ZgP+O9HoX8KvYLPP4\n",
       "GU95KNSgBwZP0MeTOhC1Igc6vP5ur63gImktwgjJnG/SzIU6EJFuo6elG4Xx/RR4bdZIR8pxPoFd\n",
       "+ODfA4qRD8riebMOtxWt+WHVVjDpvdEn89g85kzHC+X/HpGPzLNQmIg4wkSaYw72a4KCSVeMfgVN\n",
       "vuUcv37y5Ok6nLaUYjXniQi6eRfuzAsKVYiGqWnIc65kMq/qQLQHOUSumRoacSLqGW1BB15j40Bn\n",
       "SlSQbpVlB6K+8haAaJrzeoAuKzEVj33dSWwL9lNcokMCTTDgQORvhmPYFZjLMjKICitTjRMiIqkC\n",
       "SRkiaGrixSDZRr/m2LdwY8d5PnKG/mXdFmyi0EDAb1U46kB0RoOd2LXwNBsDQUFaAA2aiCgyC74i\n",
       "+DHmiBMQ0yzxc3ZI3tmhxaJQSlcjKowJgp8pUxDRVncc4cRr7Nr519OSoBCcccVRKAfJNARwmjim\n",
       "Jezo/2qN7i75pCOi8fEqRI9UUdBEVOFLK8rAXEWh6lIB6YuNCAq7bIUkX263ojxTlD4cJdKwQrMQ\n",
       "STkqosdHD5Pvv98mdO+G1DjZhhCNCYiY0D3NFkSaR17LQ/i7y0Y4EZmRTK9Rjq23FM6oLhthOTqg\n",
       "W16DrnUI60V4liBMxPF40nP/DKu1iGhb0UbEhAZZFnNBIgoeCoofWEhERNI3COYuokUt2646bCok\n",
       "Ud4RRxjW81E/xxkuYdgH0wEK/gY1Th8dktzG9g1teClENhOaOgSWoJkLlLIbAa464qgfBtNFR660\n",
       "pgyFYBqijuwP5kMddvaDT6VIiNGZfXLoIA+LNZlMRo1Fex8KiLjQx25LkGg5+ZDuyaGy7kDUU150\n",
       "BBc66y4kpLCnPObwmrR5HxWRFGeI40rTesM4lrMkJNCa0zia5F6LtOk2IkMods4UZJcCXWPNv79F\n",
       "7GsnW6NmMzJuEfOyaV+tn8omsKBhK0MpmOVxVBLiiAnREfohwSufeZU+9nz+RKseQ/bd635XDRnM\n",
       "l9n7ZB+0a/69RWzDm0d16RCrkKXJnbqFiAkxM+gk+EevkQ888d4w8n6NMHPmQCzWjDShjWIc2X9+\n",
       "8VzpoR09X2ybaivUInJL0PGUgUDWbl30C0RhAt7r9XqSPRRq0IjBooeF1hPRZUzCTN2P8/qp499t\n",
       "9RP1uBYqCLShWAAAAABJRU5ErkJggg==\n",
       "\" style=\"display:inline;vertical-align:middle;\" /></a><br>(see <a class=\"ProveItLink\" href=\"../__pv_it/ad2141b46e154a4b59bbd3ccf9f0cf6bca93967c0/dependencies.ipynb\">dependencies</a>)<br>"
      ],
      "text/plain": [
       "lessEqShiftAddLeft: forall_{a, b, c in Reals | a <= b} ((c + a) <= (c + b))"
      ]
     },
     "execution_count": 2,
     "metadata": {},
     "output_type": "execute_result"
    }
   ],
   "source": [
    "%proving lessEqShiftAddLeft presuming []"
   ]
  },
  {
   "cell_type": "code",
   "execution_count": null,
   "metadata": {},
   "outputs": [],
   "source": []
  }
 ],
 "metadata": {
  "kernelspec": {
   "display_name": "Python 3",
   "language": "python",
   "name": "python3"
  }
 },
 "nbformat": 4,
 "nbformat_minor": 0
}
