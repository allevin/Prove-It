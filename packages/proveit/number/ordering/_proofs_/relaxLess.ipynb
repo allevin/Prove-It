{
 "cells": [
  {
   "cell_type": "markdown",
   "metadata": {},
   "source": [
    "Proof of <a class=\"ProveItLink\" href=\"../../../_context_.ipynb\">proveit</a>.<a class=\"ProveItLink\" href=\"../../_context_.ipynb\">number</a>.<a class=\"ProveItLink\" href=\"../_context_.ipynb\">ordering</a>.<a class=\"ProveItLink\" href=\"../_theorems_.ipynb#relaxLess\">relaxLess</a> theorem\n",
    "========"
   ]
  },
  {
   "cell_type": "code",
   "execution_count": 1,
   "metadata": {},
   "outputs": [],
   "source": [
    "import proveit\n",
    "context = proveit.Context('..') # the theorem's context is in the parent directory"
   ]
  },
  {
   "cell_type": "code",
   "execution_count": 2,
   "metadata": {},
   "outputs": [
    {
     "name": "stdout",
     "output_type": "stream",
     "text": [
      "Beginning proof of relaxLess\n",
      "Recorded 'presuming' information\n",
      "Presuming previous theorems (applied transitively).\n"
     ]
    },
    {
     "data": {
      "text/html": [
       "<strong id=\"relaxLess\">relaxLess:</strong> <a class=\"ProveItLink\" href=\"../__pv_it/2ad824259ffdf0c660529963d5c208a26c3ee40e0/expr.ipynb\"><img src=\"data:image/png;base64,iVBORw0KGgoAAAANSUhEUgAAAKEAAAAXBAMAAACR7DLtAAAAMFBMVEX///8QEBC6urrMzMxUVFRm\n",
       "ZmZERETc3NwyMjKqqqp2dnaIiIiYmJgiIiLu7u4AAAAU9Wx4AAAAAXRSTlMAQObYZgAAAlRJREFU\n",
       "OMutVE1oE0EU/pI0u83fJNiDFFFy8FAQMUIpeJCWFtqiFxFRoYhiIT142YNYoVT30ptIQQXBg3sR\n",
       "taUhoIRK/Fm8CEohZ0FYD/Wgl0BBD3rwvdnszzSbwJY+SGbe+3a+mfe9eQPsuznxlxzrDX2kX4sn\n",
       "X+IQpiZ6Y+kK8JIn9+MwDu5O6105mJvALRr0a3EYm6orNuoh77O7Y3o1DuMRlfCKHXa/A/nni4vL\n",
       "cQiTZtjTZ9XTaOT+rla/xmFMW8SzPvNkTlZp1tNQPLNw10H2HDAFLHQtK/cpDGX5E1v2YaapVrxw\n",
       "NtnGByBDGRyFMLuWqaXSw9VN0G4WLX4gy/zeC59Kt1AlTUpAATm7P6O4aIS8YpnbYrrjbdW8TknU\n",
       "8ZdkaIP4Ck5fRvFC0aAovUOe+/hSZ/LUSe24jMIcJX998jVJkmwg4QSMbnBzNQRQ1lxcfQeiwzQy\n",
       "5Y6XkSu5WWNhknR1pvnLX0XjZHBGN7jJmvgA3Q/yP+Xa8BUcm5fDCjRqzzzX5BG1dhL3OHrnOBoB\n",
       "owyerisA+H5k/mklPeiUUanDBZywJUppSOyPBM/gbFhHCm5fVwDapwVxo7b2drf0P5pXqYCDzJ5n\n",
       "gVKlFIcPYCjEKIPb82GA7GCvm7rhdqFr41kzi9sGhuie+owyCNycoT8PcB+DCBtoiWEupn/kN3M1\n",
       "jNt42DADRhlk6YnSA9TXTP8mjTMtWJqFrmaxdWOgHtEzYxUfYJrIFzfTPM8nNdTH2dCskagupCvj\n",
       "AWxLvZv+lermaSMrmtEH9mwTe1/6H0m1lkqijsEcAAAAAElFTkSuQmCC\n",
       "\" style=\"display:inline;vertical-align:middle;\" /></a><br>(see <a class=\"ProveItLink\" href=\"../__pv_it/2ad824259ffdf0c660529963d5c208a26c3ee40e0/dependencies.ipynb\">dependencies</a>)<br>"
      ],
      "text/plain": [
       "relaxLess: forall_{x, y | x < y} (x <= y)"
      ]
     },
     "execution_count": 2,
     "metadata": {},
     "output_type": "execute_result"
    }
   ],
   "source": [
    "%proving relaxLess presuming []"
   ]
  },
  {
   "cell_type": "code",
   "execution_count": null,
   "metadata": {},
   "outputs": [],
   "source": []
  }
 ],
 "metadata": {
  "kernelspec": {
   "display_name": "Python 3",
   "language": "python",
   "name": "python3"
  }
 },
 "nbformat": 4,
 "nbformat_minor": 0
}
