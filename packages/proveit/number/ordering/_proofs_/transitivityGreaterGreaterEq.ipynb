{
 "cells": [
  {
   "cell_type": "markdown",
   "metadata": {},
   "source": [
    "Proof of <a class=\"ProveItLink\" href=\"../../../_context_.ipynb\">proveit</a>.<a class=\"ProveItLink\" href=\"../../_context_.ipynb\">number</a>.<a class=\"ProveItLink\" href=\"../_context_.ipynb\">ordering</a>.<a class=\"ProveItLink\" href=\"../_theorems_.ipynb#transitivityGreaterGreaterEq\">transitivityGreaterGreaterEq</a> theorem\n",
    "========"
   ]
  },
  {
   "cell_type": "code",
   "execution_count": 1,
   "metadata": {},
   "outputs": [],
   "source": [
    "import proveit\n",
    "context = proveit.Context('..') # the theorem's context is in the parent directory"
   ]
  },
  {
   "cell_type": "code",
   "execution_count": 2,
   "metadata": {},
   "outputs": [
    {
     "name": "stdout",
     "output_type": "stream",
     "text": [
      "Beginning proof of transitivityGreaterGreaterEq\n",
      "Recorded 'presuming' information\n",
      "Presuming previous theorems (applied transitively).\n"
     ]
    },
    {
     "data": {
      "text/html": [
       "<strong id=\"transitivityGreaterGreaterEq\">transitivityGreaterGreaterEq:</strong> <a class=\"ProveItLink\" href=\"../__pv_it/e6b28064c392ca5bde71e1ac9156f878147253740/expr.ipynb\"><img src=\"data:image/png;base64,iVBORw0KGgoAAAANSUhEUgAAANEAAAAXBAMAAABnpbd1AAAAMFBMVEX///8QEBC6urrMzMxUVFRm\n",
       "ZmZERETc3NwyMjKqqqp2dnaIiIiYmJgiIiLu7u4AAAAU9Wx4AAAAAXRSTlMAQObYZgAAAtxJREFU\n",
       "SMe9Vk9IFFEY/+3MuuPsrrOih4ooVogwLFpJtEsYK2gohCcPCbIUrZERS1gWYSxdhJIlKCPyMnSw\n",
       "P9IiZFJatgQSVMLeik5rhyK7bAR58dD3vZnZnd1ttGDowfB77/vmfb/3vn8zwH8bOfdMNTmrXtOT\n",
       "5ck7N4jkw866qgjwkCcpN5iqN3JPErhAoMTcYFqwzYcjZcq3xkmqbrjBtNPuyXi4VLkCBO+PjIy6\n",
       "QSQl7SvlSOnpfbT8FY9/coOpSif7012T/cZSe5wxFQ11ygz8vUAHMOh0zH9KCLK8iuXMDnOtvUwb\n",
       "tzvztA9Q6ca7oCUdNvuKzkiU69SuMoGHIqPjFW4WJMsDghHaUTp0LVCDQGZzppMVKXy+o3QdCnMb\n",
       "6LRJWsbMROQUyYN4anKbMkG6thlVSGTb9qJg9wlza6/JpCVbaDYdnaUSkObgYYuHUpeKTP7ZJrKp\n",
       "Xud+ExO5bMLqcbLw8auZZB5G5Sd5yxh3LPfeFXTkPQxGyVquk9/8Hko0szy6pBeZ0t7YNoLgOLSZ\n",
       "NZl2mEBUKXj3HrMcQDF4E8hj0QxS2gqoDi/t5lyYyHKWjbP0yj7MCfU3m/fC1UYcAx+Uz9kAtRMT\n",
       "gGek0Ky6oTxW1321lNEixxctJx5cen9VaOnaQrcmxN3oEQkQtscpZCReIx1O9/LLBmhTTHKuEMks\n",
       "tKH0oxdiMVpMst7gD3qvmi0GOTJyrcziOtQzHECbjakZ3MVaBziTPRGYoE3xZjkiWwWwZaNqW7Em\n",
       "7f6kHxcTqJfyBHL3nliBSc4/oDpBKwfYE9kPZUyA1ifu3XLvtq2JOo9pa/LleX8a7RncmksSBKSt\n",
       "iQKTNjQxn8Ow6CNqzynI6wIko1vPNIz9zVejvDlklAQHIFNZT5JRGyMcxqABFUPZ4EvoLe0xcsKn\n",
       "NzL8oXKNcZobdpsBleOyM9OT0mUQ6oLO4Mg0Oc83F6DGaZx16xfE6+av0W+jVahIDB46FAAAAABJ\n",
       "RU5ErkJggg==\n",
       "\" style=\"display:inline;vertical-align:middle;\" /></a><br>(see <a class=\"ProveItLink\" href=\"../__pv_it/e6b28064c392ca5bde71e1ac9156f878147253740/dependencies.ipynb\">dependencies</a>)<br>"
      ],
      "text/plain": [
       "transitivityGreaterGreaterEq: forall_{x, y, z | x > y , y >= z} (x > z)"
      ]
     },
     "execution_count": 2,
     "metadata": {},
     "output_type": "execute_result"
    }
   ],
   "source": [
    "%proving transitivityGreaterGreaterEq presuming []"
   ]
  },
  {
   "cell_type": "code",
   "execution_count": null,
   "metadata": {},
   "outputs": [],
   "source": []
  }
 ],
 "metadata": {
  "kernelspec": {
   "display_name": "Python 3",
   "language": "python",
   "name": "python3"
  }
 },
 "nbformat": 4,
 "nbformat_minor": 0
}
