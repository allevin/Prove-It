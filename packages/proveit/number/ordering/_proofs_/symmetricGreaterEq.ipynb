{
 "cells": [
  {
   "cell_type": "markdown",
   "metadata": {},
   "source": [
    "Proof of <a class=\"ProveItLink\" href=\"../../../_context_.ipynb\">proveit</a>.<a class=\"ProveItLink\" href=\"../../_context_.ipynb\">number</a>.<a class=\"ProveItLink\" href=\"../_context_.ipynb\">ordering</a>.<a class=\"ProveItLink\" href=\"../_theorems_.ipynb#symmetricGreaterEq\">symmetricGreaterEq</a> theorem\n",
    "========"
   ]
  },
  {
   "cell_type": "code",
   "execution_count": 1,
   "metadata": {},
   "outputs": [],
   "source": [
    "import proveit\n",
    "context = proveit.Context('..') # the theorem's context is in the parent directory"
   ]
  },
  {
   "cell_type": "code",
   "execution_count": 2,
   "metadata": {},
   "outputs": [
    {
     "name": "stdout",
     "output_type": "stream",
     "text": [
      "Beginning proof of symmetricGreaterEq\n",
      "Recorded 'presuming' information\n",
      "Presuming previous theorems (applied transitively).\n"
     ]
    },
    {
     "data": {
      "text/html": [
       "<strong id=\"symmetricGreaterEq\">symmetricGreaterEq:</strong> <a class=\"ProveItLink\" href=\"../__pv_it/8098adbd2ebef6e8d7beec8e4fe34c627b89ad8e0/expr.ipynb\"><img src=\"data:image/png;base64,iVBORw0KGgoAAAANSUhEUgAAAMUAAAAXBAMAAABJ4JbnAAAAMFBMVEX///8QEBC6urrMzMxUVFRm\n",
       "ZmZERETc3NwyMjKqqqp2dnaIiIiYmJgiIiLu7u4AAAAU9Wx4AAAAAXRSTlMAQObYZgAAAl5JREFU\n",
       "SMe9lk9oE0EUxr9km93m3ybYg4gogXoQRKzQi6eWChX0UqQHoQfFQ4p42ZMVRM1F8FBEaPXiwb34\n",
       "t1gCSkAiungRFCFnQVgPeoiXQEEPevC9N7PdZDdZlC0OhNl8v8x88+bNmyzwH5q/E5McGo3e0qfD\n",
       "Dx/SWRizo1luCnjCD7fSeYwnbUYDuESddS6dRzsJvldryN1O57E/CX4BSo9WVq6ms8g2kqhJAfyo\n",
       "1z+l88i5tN0bJ+4tDcr2AxfXfRQWgOPAcmxY7Z9S7gFdfPT2sd9NaXzQCtke3gB5ivIA7His4SFY\n",
       "d6IspmRoRS5NtzYoH8t1UKedrAJlFL0ED2txKsJiSqXGpTwfq+5ME7+oeHogh7Kf4PEXJhXZ2b2x\n",
       "Se77xpbysBvT9H1j7gUNzLaQ8UMPJdoPawHQHSsayl7x0be2YHM+PkuT8WdQrKq9wvIc5cef519+\n",
       "rzhHwzi0CPuxr0HASQkgn07a63fFHl5H4rgBk3Jf4mzfoSsri1VWrx1GK/TQIoqrAQg4KQHktSwg\n",
       "/9usWs2IxyKOeEIpVGE/RT6JU/35ELF7IQSqE0WP4LV0YF/cfPoqmo9v7bN0BMc5WyXOgFE1WN6F\n",
       "iT4PEbvn+4B0StEjuO0eVTnP1F2i2kyhUcBlBxNUN9seIn6VCQVorhSB4bU3pI117D18cLbDerm0\n",
       "iRkP661G6CHipC48AppPhiMS7/aya7qIFbhnOWPNaH2okhAQ8ggd+h+Vb5/maAZvBcMx3YMY6iGg\n",
       "j0faldGX2fPBryWydqMed+vUfAGaKyX9S8DsTr6W/AFvb7Shg5mMEAAAAABJRU5ErkJggg==\n",
       "\" style=\"display:inline;vertical-align:middle;\" /></a><br>(see <a class=\"ProveItLink\" href=\"../__pv_it/8098adbd2ebef6e8d7beec8e4fe34c627b89ad8e0/dependencies.ipynb\">dependencies</a>)<br>"
      ],
      "text/plain": [
       "symmetricGreaterEq: forall_{x, y | x >= y , y >= x} (x = y)"
      ]
     },
     "execution_count": 2,
     "metadata": {},
     "output_type": "execute_result"
    }
   ],
   "source": [
    "%proving symmetricGreaterEq presuming []"
   ]
  },
  {
   "cell_type": "code",
   "execution_count": null,
   "metadata": {},
   "outputs": [],
   "source": []
  }
 ],
 "metadata": {
  "kernelspec": {
   "display_name": "Python 3",
   "language": "python",
   "name": "python3"
  }
 },
 "nbformat": 4,
 "nbformat_minor": 0
}
