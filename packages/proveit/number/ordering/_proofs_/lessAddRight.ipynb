{
 "cells": [
  {
   "cell_type": "markdown",
   "metadata": {},
   "source": [
    "Proof of <a class=\"ProveItLink\" href=\"../../../_context_.ipynb\">proveit</a>.<a class=\"ProveItLink\" href=\"../../_context_.ipynb\">number</a>.<a class=\"ProveItLink\" href=\"../_context_.ipynb\">ordering</a>.<a class=\"ProveItLink\" href=\"../_theorems_.ipynb#lessAddRight\">lessAddRight</a> theorem\n",
    "========"
   ]
  },
  {
   "cell_type": "code",
   "execution_count": 1,
   "metadata": {},
   "outputs": [],
   "source": [
    "import proveit\n",
    "context = proveit.Context('..') # the theorem's context is in the parent directory"
   ]
  },
  {
   "cell_type": "code",
   "execution_count": 2,
   "metadata": {},
   "outputs": [
    {
     "name": "stdout",
     "output_type": "stream",
     "text": [
      "Beginning proof of lessAddRight\n",
      "Recorded 'presuming' information\n",
      "Presuming previous theorems (applied transitively).\n"
     ]
    },
    {
     "data": {
      "text/html": [
       "<strong id=\"lessAddRight\">lessAddRight:</strong> <a class=\"ProveItLink\" href=\"../__pv_it/26c78dc6b958052b5c432ba659ee22e79f515bb70/expr.ipynb\"><img src=\"data:image/png;base64,iVBORw0KGgoAAAANSUhEUgAAARAAAAAXBAMAAAAxVg0qAAAAMFBMVEX///8QEBC6urrMzMxUVFRm\n",
       "ZmZERETc3NwyMjKqqqp2dnaIiIiYmJgiIiLu7u4AAAAU9Wx4AAAAAXRSTlMAQObYZgAAA7FJREFU\n",
       "SMfNVktoE0EY/tM8Nskmu6IHHwepYNWLNIeiIErro1ioaFBawdYHKiliDzn4AlGDCEaskoulFzEo\n",
       "9UFoWGorkmoJ6EEoLQER8XFYoUWpaIpCPViC/z+T7M6mG6QQwYF/MvNNZuab+b//nwX4X4pe9RVr\n",
       "tIXAEKjllqPOWDWJNFSCla05u4F93B5R+2Y1idysCHub7Aa83M7gj3SkijzkchecDpVgNVGElKjo\n",
       "myQzL4rEnagiEUeZ6houG3B9acgnklUWMQs8OHv2QjU9s66su92EB8COCJzgNhuJvK8mkQPk69a7\n",
       "S3mvb78AXxnZVUZkOvUYoB+YIeMuI8TiFSJy3rFjVPtT4fn/7UFbFfXMsM7ztAArs6CGLESci+EG\n",
       "kgVmq0GJGav0W9bse9h2nTU81r0ugp8xyOBkKr2iLBbjhcyBm+l/QBNhXwEcSQuRTxp0I21gFgQ5\n",
       "a/z9mimh4bas7Id0eD6RqS7wMnm/BpUo9I2Koz8AXDMQpK2USK0Iu2Oghi1E9rC6kZucDZoH+mW0\n",
       "nqz9riORiYl5RKYxDFSKP6UAQST0yhqvuKN6BPLMB86WhAAHw1CPZ3bH4zeWxeOUU2ZFIkqMUuHp\n",
       "zDHSwu8hIjWV0gJEnYiMmkSkjvu4vEy3Vj+yG7cp0MGfsvvEKcUdlwNc0uAOfzukg1kTxjRyWBdv\n",
       "RPrNfoquga5tyOatVKCdcwEkqryumfECJ7I3aRL5Fr2kg9zDRAgvkTYRuc3OTFOKO6LT8wlo8XFZ\n",
       "KgOjBoxKXWGNmjlMZXilwO0WvgCusJPeAY8WoE6TEtrEiLh3vBPE2gxbwPmBNU/CePFGpo9Sn6aY\n",
       "evdmfW/8JZ+Mp0uwK+FushJpBrhnhC84KPnWyvQfR4jUrqLEtkQiEU32n38hEPkBQ6C0M/0tgXY8\n",
       "7S9wJOAr5SPVVOV6SiODGwbN2AsVYaW1syyhuVMj6CtKvWQBbOd1zwTqT4Ug+jSPrUnuGt8m3SCC\n",
       "2uz+jExo3Rn4yOiQaEk0efPxcETtM78I26X40gPRuFk/Fw1iYsE6BGlXlGskLWhkpfMnxpC0A4dy\n",
       "vph0FfPIGvZq9QBNEd4wu8+OZKVvE7/GjY90jHVCY7amI4m11JrRlaMsoaUn23WDSN2zYYoB5/Eo\n",
       "1GXAOQfyyCF+QJ2m/P0zwL58KZpQskLtR40YA9aE5jzGz1hh4VMLggF2Fk3YIGrW1uKxW2BjhYUl\n",
       "bSEwyCFuohsrHtSWCL+5XgyvSPU/fCsU17/f4g9+8QLJPQQALAAAAABJRU5ErkJggg==\n",
       "\" style=\"display:inline;vertical-align:middle;\" /></a><br>(see <a class=\"ProveItLink\" href=\"../__pv_it/26c78dc6b958052b5c432ba659ee22e79f515bb70/dependencies.ipynb\">dependencies</a>)<br>"
      ],
      "text/plain": [
       "lessAddRight: forall_{a, b, c in Reals | a < b , 0 <= c} (a < (b + c))"
      ]
     },
     "execution_count": 2,
     "metadata": {},
     "output_type": "execute_result"
    }
   ],
   "source": [
    "%proving lessAddRight presuming []"
   ]
  },
  {
   "cell_type": "code",
   "execution_count": null,
   "metadata": {},
   "outputs": [],
   "source": []
  }
 ],
 "metadata": {
  "kernelspec": {
   "display_name": "Python 3",
   "language": "python",
   "name": "python3"
  }
 },
 "nbformat": 4,
 "nbformat_minor": 0
}
