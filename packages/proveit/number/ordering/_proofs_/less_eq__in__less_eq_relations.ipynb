{
 "cells": [
  {
   "cell_type": "markdown",
   "metadata": {},
   "source": [
    "Proof of <a class=\"ProveItLink\" href=\"../../../_context_.ipynb\">proveit</a>.<a class=\"ProveItLink\" href=\"../../_context_.ipynb\">number</a>.<a class=\"ProveItLink\" href=\"../_context_.ipynb\">ordering</a>.<a class=\"ProveItLink\" href=\"../_theorems_.ipynb#less_eq__in__less_eq_relations\">less_eq__in__less_eq_relations</a> theorem\n",
    "========"
   ]
  },
  {
   "cell_type": "code",
   "execution_count": 1,
   "metadata": {},
   "outputs": [],
   "source": [
    "import proveit\n",
    "context = proveit.Context('..') # the theorem's context is in the parent directory"
   ]
  },
  {
   "cell_type": "code",
   "execution_count": 2,
   "metadata": {},
   "outputs": [
    {
     "name": "stdout",
     "output_type": "stream",
     "text": [
      "Beginning proof of less_eq__in__less_eq_relations\n",
      "Recorded 'presuming' information\n",
      "Presuming previous theorems (applied transitively).\n"
     ]
    },
    {
     "data": {
      "text/html": [
       "<strong id=\"less_eq__in__less_eq_relations\">less_eq__in__less_eq_relations:</strong> <a class=\"ProveItLink\" href=\"../__pv_it/bc5e459e48525685fb2a62c94d143afe899e4d120/expr.ipynb\"><img src=\"data:image/png;base64,iVBORw0KGgoAAAANSUhEUgAAAHkAAAAVBAMAAACQ4lxbAAAAMFBMVEX///8QEBBERETMzMyqqqoy\n",
       "MjJUVFTc3NyYmJhmZmZ2dnbu7u66uroiIiKIiIgAAAC260OGAAAAAXRSTlMAQObYZgAAAV1JREFU\n",
       "OMtjYMACOGYwEATMqwqwS3DfYiACMItgF+f7QIxuhqlw9XeQhbkEsJp5B01gIZTedY8Bq272yQhB\n",
       "NDUI3TtvgH379O7dABTdzKkH4EoharDoLgsBU6bdaHbzhBnAVULVYOo2i4G4UhvN5SyRiCiBqsHU\n",
       "vUkZwmZCqOUEeYDv1ga4AEwNWDIUDBIYGPpBqu5BVG1CKDAEepcLOZBgalAB6wRQwoJYcvDuXWio\n",
       "mQmDDNNBSXy3sGlXbYB70AwhehAUWmYo4YQcCDDAuwARuHsRwmxgJ1SixBE8AjjvgoECxN/giFUy\n",
       "YGBrQIT5BWj6ADqXmwFJDTfWtMbAnMPAfQcjrYF8u/8CkhoEB0U3CJROxkipLMEMG78jKUHhoOpm\n",
       "cItFS6lgcJwBF2ch9qyHoruBARcHpLsWHIQouY8DXTdcTQPW/I1WtiClMz6ULI5StsjgKDU4lhBZ\n",
       "rgEAf6RlejupTKMAAAAASUVORK5CYII=\n",
       "\" style=\"display:inline;vertical-align:middle;\" /></a><br>(see <a class=\"ProveItLink\" href=\"../__pv_it/bc5e459e48525685fb2a62c94d143afe899e4d120/dependencies.ipynb\">dependencies</a>)<br>"
      ],
      "text/plain": [
       "less_eq__in__less_eq_relations: <= in {< , <= , =}"
      ]
     },
     "execution_count": 2,
     "metadata": {},
     "output_type": "execute_result"
    }
   ],
   "source": [
    "%proving less_eq__in__less_eq_relations presuming []"
   ]
  },
  {
   "cell_type": "code",
   "execution_count": null,
   "metadata": {},
   "outputs": [],
   "source": []
  }
 ],
 "metadata": {
  "kernelspec": {
   "display_name": "Python 3",
   "language": "python",
   "name": "python3"
  }
 },
 "nbformat": 4,
 "nbformat_minor": 0
}
