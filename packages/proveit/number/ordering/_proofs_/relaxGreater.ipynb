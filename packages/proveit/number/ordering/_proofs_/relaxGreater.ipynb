{
 "cells": [
  {
   "cell_type": "markdown",
   "metadata": {},
   "source": [
    "Proof of <a class=\"ProveItLink\" href=\"../../../_context_.ipynb\">proveit</a>.<a class=\"ProveItLink\" href=\"../../_context_.ipynb\">number</a>.<a class=\"ProveItLink\" href=\"../_context_.ipynb\">ordering</a>.<a class=\"ProveItLink\" href=\"../_theorems_.ipynb#relaxGreater\">relaxGreater</a> theorem\n",
    "========"
   ]
  },
  {
   "cell_type": "code",
   "execution_count": 1,
   "metadata": {},
   "outputs": [],
   "source": [
    "import proveit\n",
    "context = proveit.Context('..') # the theorem's context is in the parent directory"
   ]
  },
  {
   "cell_type": "code",
   "execution_count": 2,
   "metadata": {},
   "outputs": [
    {
     "name": "stdout",
     "output_type": "stream",
     "text": [
      "Beginning proof of relaxGreater\n",
      "Recorded 'presuming' information\n",
      "Presuming previous theorems (applied transitively).\n"
     ]
    },
    {
     "data": {
      "text/html": [
       "<strong id=\"relaxGreater\">relaxGreater:</strong> <a class=\"ProveItLink\" href=\"../__pv_it/62dcc0eb88b50d014a80087025d14fa988171bbb0/expr.ipynb\"><img src=\"data:image/png;base64,iVBORw0KGgoAAAANSUhEUgAAAKEAAAAXBAMAAACR7DLtAAAAMFBMVEX///8QEBC6urrMzMxUVFRm\n",
       "ZmZERETc3NwyMjKqqqp2dnaIiIiYmJgiIiLu7u4AAAAU9Wx4AAAAAXRSTlMAQObYZgAAAlpJREFU\n",
       "OMutVE1oE1EQ/rLbZJtksw32ICJKDiIFESv04qmlQhS9iHgQij9ITQ9e9qCNIOpeelBEBBUED+5F\n",
       "RIshoAQk/ixeFEXIxUtVWC8e2kugoAc9OLMvu29/ksCWDoS8mW/f9958b2aATTc3/ZY9g6H39Ovw\n",
       "4nMaQnVmMJadBJ7y4nYaxlGZlrEST9ECFulPO5uGsR1a55fMKPhJnJi9k4ZxZ9hR5icj4E9Af1Kv\n",
       "X01DqFhRVWuVsJujy/2u1VbSMGZtkmn50MO5nq8d9iiNxzauuygcAw4CC4ltlSEP4wCr+OLs8APa\n",
       "KU68oHTxjoSlDHbBsBLb5FPV41CGTrNp810/oH/lBz+Q7aBGmpSBEorOEMbF0zForMJtUQ38NVFB\n",
       "bqaJvyRrF8RXcocwYqKRZAS2++7qt97ikauuC0bDmiJ/efYlqaG0kHElowg+aIYAyppLTVuH4XmX\n",
       "vvvUJ1Esi6yxMEu6ulX+cm3M3C/v2AvioyMBqg/S6EOxi7fsXLwR3H0JOWpPnd/kPrW2glscvbYX\n",
       "LcnYCwJvzAAA10f+X66sNfmq56QaJ7DP8VBKgzH88cJHcDSsowgqNyVAXgfGhcaz13Hpf7XPUEeO\n",
       "sso6C6SWVQ5vwXiIUQTV864EyLYOqtTnoguFTResAi6bGKc6DRi9INR5HgY+IIZBHxvpGNv4MYMr\n",
       "v5prYNrBvZYlGb2gVvWmiw9Ep5n2wzPOtGTnbCSaxdHMkWasHnd7syUAeN134ubbx/mm0eGmmjl7\n",
       "IlHhomR8gO3K4KZ/EXV1OsjuzxgAG7aZjW/9D/uxmOdOV0kHAAAAAElFTkSuQmCC\n",
       "\" style=\"display:inline;vertical-align:middle;\" /></a><br>(see <a class=\"ProveItLink\" href=\"../__pv_it/62dcc0eb88b50d014a80087025d14fa988171bbb0/dependencies.ipynb\">dependencies</a>)<br>"
      ],
      "text/plain": [
       "relaxGreater: forall_{x, y | x > y} (x >= y)"
      ]
     },
     "execution_count": 2,
     "metadata": {},
     "output_type": "execute_result"
    }
   ],
   "source": [
    "%proving relaxGreater presuming []"
   ]
  },
  {
   "cell_type": "code",
   "execution_count": null,
   "metadata": {},
   "outputs": [],
   "source": []
  }
 ],
 "metadata": {
  "kernelspec": {
   "display_name": "Python 3",
   "language": "python",
   "name": "python3"
  }
 },
 "nbformat": 4,
 "nbformat_minor": 0
}
