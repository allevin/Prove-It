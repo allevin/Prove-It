{
 "cells": [
  {
   "cell_type": "markdown",
   "metadata": {},
   "source": [
    "Proof of <a class=\"ProveItLink\" href=\"../../../_context_.ipynb\">proveit</a>.<a class=\"ProveItLink\" href=\"../../_context_.ipynb\">number</a>.<a class=\"ProveItLink\" href=\"../_context_.ipynb\">ordering</a>.<a class=\"ProveItLink\" href=\"../_theorems_.ipynb#greater__in__greater_eq_relations\">greater__in__greater_eq_relations</a> theorem\n",
    "========"
   ]
  },
  {
   "cell_type": "code",
   "execution_count": 1,
   "metadata": {},
   "outputs": [],
   "source": [
    "import proveit\n",
    "context = proveit.Context('..') # the theorem's context is in the parent directory"
   ]
  },
  {
   "cell_type": "code",
   "execution_count": 2,
   "metadata": {},
   "outputs": [
    {
     "name": "stdout",
     "output_type": "stream",
     "text": [
      "Beginning proof of greater__in__greater_eq_relations\n",
      "Recorded 'presuming' information\n",
      "Presuming previous theorems (applied transitively).\n"
     ]
    },
    {
     "data": {
      "text/html": [
       "<strong id=\"greater__in__greater_eq_relations\">greater__in__greater_eq_relations:</strong> <a class=\"ProveItLink\" href=\"../__pv_it/46849a514fed47e6a2faae2ad1b00ed70ed84db70/expr.ipynb\"><img src=\"data:image/png;base64,iVBORw0KGgoAAAANSUhEUgAAAHkAAAAVBAMAAACQ4lxbAAAAMFBMVEX///8QEBBmZmaIiIiYmJgi\n",
       "IiJ2dnbu7u6qqqoyMjK6urpERETMzMxUVFTc3NwAAAB0Ps/EAAAAAXRSTlMAQObYZgAAAVJJREFU\n",
       "OMtjYMACWFQYCAKetAfYJdjDGIgAPBLYxZk/EKObQRO7MJsAmkBpOjZliUD89gBW3ajCnXo4dPPs\n",
       "XgD1rWVo6AS4brgwBKy+g103A9/NBjDnpDuKy2HCUHB6F3bdDOypDiDV29H8DRGGg7ezsOtmYDcF\n",
       "hgo3IvqYJiCEEeBRDERyJhhcYGDwh8m4qjNUI9QdXIAQRgAUDghwKkAZZ+cxLAwNhYbaWRkGhDA8\n",
       "BZlixtpOiNdW7wGqRIguhMYWSBimOdUAQzNrAiQ274FSBEKYdwJCGAL4VOEhyBQKBhtg/nYFu4kX\n",
       "EcJsAQhhduRIZccIc/ZUc4hMFEqMwYTrQSa9hgYjmIOi+ynMzpc6yLphwoX/kNSjcGDxDQW9U5FS\n",
       "KhysY8DFSSQij6EkOAcidLOg634KDuYoNN048jd7MFJJgVJsoJQtUjhKDZYMIss1ALeKVOR1+Kfn\n",
       "AAAAAElFTkSuQmCC\n",
       "\" style=\"display:inline;vertical-align:middle;\" /></a><br>(see <a class=\"ProveItLink\" href=\"../__pv_it/46849a514fed47e6a2faae2ad1b00ed70ed84db70/dependencies.ipynb\">dependencies</a>)<br>"
      ],
      "text/plain": [
       "greater__in__greater_eq_relations: > in {> , >= , =}"
      ]
     },
     "execution_count": 2,
     "metadata": {},
     "output_type": "execute_result"
    }
   ],
   "source": [
    "%proving greater__in__greater_eq_relations presuming []"
   ]
  },
  {
   "cell_type": "code",
   "execution_count": null,
   "metadata": {},
   "outputs": [],
   "source": []
  }
 ],
 "metadata": {
  "kernelspec": {
   "display_name": "Python 3",
   "language": "python",
   "name": "python3"
  }
 },
 "nbformat": 4,
 "nbformat_minor": 0
}
