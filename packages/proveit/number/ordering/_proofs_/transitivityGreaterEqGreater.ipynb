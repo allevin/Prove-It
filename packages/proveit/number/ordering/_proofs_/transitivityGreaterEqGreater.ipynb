{
 "cells": [
  {
   "cell_type": "markdown",
   "metadata": {},
   "source": [
    "Proof of <a class=\"ProveItLink\" href=\"../../../_context_.ipynb\">proveit</a>.<a class=\"ProveItLink\" href=\"../../_context_.ipynb\">number</a>.<a class=\"ProveItLink\" href=\"../_context_.ipynb\">ordering</a>.<a class=\"ProveItLink\" href=\"../_theorems_.ipynb#transitivityGreaterEqGreater\">transitivityGreaterEqGreater</a> theorem\n",
    "========"
   ]
  },
  {
   "cell_type": "code",
   "execution_count": 1,
   "metadata": {},
   "outputs": [],
   "source": [
    "import proveit\n",
    "context = proveit.Context('..') # the theorem's context is in the parent directory"
   ]
  },
  {
   "cell_type": "code",
   "execution_count": 2,
   "metadata": {},
   "outputs": [
    {
     "name": "stdout",
     "output_type": "stream",
     "text": [
      "Beginning proof of transitivityGreaterEqGreater\n",
      "Recorded 'presuming' information\n",
      "Presuming previous theorems (applied transitively).\n"
     ]
    },
    {
     "data": {
      "text/html": [
       "<strong id=\"transitivityGreaterEqGreater\">transitivityGreaterEqGreater:</strong> <a class=\"ProveItLink\" href=\"../__pv_it/f43645acc744f792ef668714752019728034e9b40/expr.ipynb\"><img src=\"data:image/png;base64,iVBORw0KGgoAAAANSUhEUgAAANEAAAAXBAMAAABnpbd1AAAAMFBMVEX///8QEBC6urrMzMxUVFRm\n",
       "ZmZERETc3NwyMjKqqqp2dnaIiIiYmJgiIiLu7u4AAAAU9Wx4AAAAAXRSTlMAQObYZgAAAthJREFU\n",
       "SMe9VV1IFFEU/nZm3HF/HEUfKqJYIcKwaCXJXsJQ0FAIn3xIiCVpjYxYwrIIY+lFKJGgjMiXoYf+\n",
       "pEXIpLRsCCSohH0zelp7KLKXjSBffOicOzO7s7vOWjB0YfnuPefe880957tngf82Mt6FanR3vaVf\n",
       "micfvCCSj7j7KqLAY56Me8FUWS49SeAigRrzgmneMR+KFjnfm19ScdMLpp3OTMYjhc4VIPxweHjE\n",
       "CyIp6VypRwu/3k/L3/H4Zy+YKnSKP9U52WcutaeG5aivVacR7AHagQG3z/wnQVDkVSwZO6y19jpl\n",
       "3u7s814gQDfeBS3pctifmwU6i31qosjgo8roeINbOcvSCcEI7Rh9dA1QhZCxKRMutBcznSoSdXWE\n",
       "20CHw9I8agmRJZIF8VRlNmcqpZKuZ0qYgO15w+5+a2OPxaQlm2k21TZDT0CahY/PHx6/nGcKzjQy\n",
       "y+pJ6jcxoWUTAjc4wqdvlsh8jOovypY57toJvyfoKHsYaKNomQ7e+aM60cT2tkU9z5RSYtsYV8e1\n",
       "6TWZTliA8Big7D1uJ4Bq8C6UxYJVpJRdYh0K7WUtTKRZZWNsvboPs8L93ZG9SKVZxxeG+iUdonZi\n",
       "ASV+mWjtd0M6Dqz7a0jRQuMLdhIPLX68Jrx0beFbE+YudItyR5x1qmaZaQ8opKIrvNkCNNDNz+fq\n",
       "loY2mHrySixG8iLrCf+kk5UcMcyVkWtkNteijuEAWhxMTYgSUUQo2RfNw0FSsRyVbblvKffaVuxJ\n",
       "azAZxKUE6qQsgdy1J5ZjkrOPoGu94pa+6H6oowKIiEvefP+Oo4m6jyl78vVlXwqtBm7PJglC0tZE\n",
       "jkkbnJjLSGZvDnSfhrwuAEOis0zXj/7Nv0ZxczDUBBfA2Og9iTHMZQwLkPpLukaZf0KlsKPICb/e\n",
       "wODKdIYbdosJpeOKO9OzwmUYgXmdYYO+F6dxDpNzfHMTPB2Kl8H+ANCLqEgGyZgCAAAAAElFTkSu\n",
       "QmCC\n",
       "\" style=\"display:inline;vertical-align:middle;\" /></a><br>(see <a class=\"ProveItLink\" href=\"../__pv_it/f43645acc744f792ef668714752019728034e9b40/dependencies.ipynb\">dependencies</a>)<br>"
      ],
      "text/plain": [
       "transitivityGreaterEqGreater: forall_{x, y, z | x >= y , y > z} (x > z)"
      ]
     },
     "execution_count": 2,
     "metadata": {},
     "output_type": "execute_result"
    }
   ],
   "source": [
    "%proving transitivityGreaterEqGreater presuming []"
   ]
  },
  {
   "cell_type": "code",
   "execution_count": null,
   "metadata": {},
   "outputs": [],
   "source": []
  }
 ],
 "metadata": {
  "kernelspec": {
   "display_name": "Python 3",
   "language": "python",
   "name": "python3"
  }
 },
 "nbformat": 4,
 "nbformat_minor": 0
}
