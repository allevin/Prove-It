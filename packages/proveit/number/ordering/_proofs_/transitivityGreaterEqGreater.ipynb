{
 "cells": [
  {
   "cell_type": "markdown",
   "metadata": {
    "collapsed": true
   },
   "source": [
    "Proof of <a class=\"ProveItLink\" href=\"../../../_context_.ipynb\">proveit</a>.<a class=\"ProveItLink\" href=\"../../_context_.ipynb\">number</a>.<a class=\"ProveItLink\" href=\"../_context_.ipynb\">ordering</a>.<a class=\"ProveItLink\" href=\"../_theorems_.ipynb#transitivityGreaterEqGreater\">transitivityGreaterEqGreater</a> theorem\n",
    "========"
   ]
  },
  {
   "cell_type": "code",
   "execution_count": 1,
   "metadata": {},
   "outputs": [],
   "source": [
    "import proveit\n",
    "from proveit import defaults\n",
    "from proveit._common_ import x, y, z\n",
    "from proveit.logic import Equals\n",
    "from proveit.number import Greater\n",
    "from proveit.number.ordering._axioms_ import greaterEqDef\n",
    "context = proveit.Context('..') # the theorem's context is in the parent directory"
   ]
  },
  {
   "cell_type": "code",
   "execution_count": 2,
   "metadata": {},
   "outputs": [
    {
     "name": "stdout",
     "output_type": "stream",
     "text": [
      "Beginning proof of transitivityGreaterEqGreater\n",
      "Recorded 'presuming' information\n",
      "Presuming theorems in proveit.logic (except any that presume this theorem).\n",
      "Presuming previous theorems (applied transitively).\n"
     ]
    },
    {
     "data": {
      "text/html": [
       "<strong id=\"transitivityGreaterEqGreater\">transitivityGreaterEqGreater:</strong> <a class=\"ProveItLink\" href=\"../__pv_it/90c9c0cc9c40b0257535a9558504f87ceb90d93b0/expr.ipynb\"><img src=\"../__pv_it/90c9c0cc9c40b0257535a9558504f87ceb90d93b0/expr.png\" style=\"display:inline;vertical-align:middle;\" /></a><br>(see <a class=\"ProveItLink\" href=\"../__pv_it/90c9c0cc9c40b0257535a9558504f87ceb90d93b0/dependencies.ipynb\">dependencies</a>)<br>"
      ],
      "text/plain": [
       "transitivityGreaterEqGreater: forall_{x, y, z | x >= y , y > z} (x > z)"
      ]
     },
     "execution_count": 2,
     "metadata": {},
     "output_type": "execute_result"
    }
   ],
   "source": [
    "%proving transitivityGreaterEqGreater presuming [proveit.logic]"
   ]
  },
  {
   "cell_type": "code",
   "execution_count": 3,
   "metadata": {},
   "outputs": [
    {
     "data": {
      "text/html": [
       "<strong id=\"defaults.assumptions\">defaults.assumptions:</strong> <a class=\"ProveItLink\" href=\"../__pv_it/1ae6216792b5c6c97b2a2878f0400be1c88c5f5b0/expr.ipynb\"><img src=\"../__pv_it/1ae6216792b5c6c97b2a2878f0400be1c88c5f5b0/expr.png\" style=\"display:inline;vertical-align:middle;\" /></a><br>"
      ],
      "text/plain": [
       "defaults.assumptions: (x >= y , y > z)"
      ]
     },
     "execution_count": 3,
     "metadata": {},
     "output_type": "execute_result"
    }
   ],
   "source": [
    "defaults.assumptions = transitivityGreaterEqGreater.allConditions()"
   ]
  },
  {
   "cell_type": "code",
   "execution_count": 4,
   "metadata": {},
   "outputs": [
    {
     "data": {
      "text/html": [
       "<span style=\"font-size:20px;\"> &#x22A2;&nbsp;<a class=\"ProveItLink\" href=\"../__pv_it/5e1b4dbdbbd80b491d4efff4fd21529b0c8c3c700/expr.ipynb\"><img src=\"../__pv_it/5e1b4dbdbbd80b491d4efff4fd21529b0c8c3c700/expr.png\" style=\"display:inline;vertical-align:middle;\" /></a></span>"
      ],
      "text/plain": [
       "|= forall_{x, y} (((x > y) or (x = y)) = (x >= y))"
      ]
     },
     "execution_count": 4,
     "metadata": {},
     "output_type": "execute_result"
    }
   ],
   "source": [
    "greaterEqDef"
   ]
  },
  {
   "cell_type": "code",
   "execution_count": 5,
   "metadata": {},
   "outputs": [
    {
     "data": {
      "text/html": [
       "<strong id=\"specGED\">specGED:</strong> <span style=\"font-size:20px;\"> &#x22A2;&nbsp;<a class=\"ProveItLink\" href=\"../__pv_it/1520f13d3db61c6d6159a7cde375cbcf990ac1a00/expr.ipynb\"><img src=\"../__pv_it/1520f13d3db61c6d6159a7cde375cbcf990ac1a00/expr.png\" style=\"display:inline;vertical-align:middle;\" /></a></span><br>"
      ],
      "text/plain": [
       "specGED: |= ((x > y) or (x = y)) = (x >= y)"
      ]
     },
     "execution_count": 5,
     "metadata": {},
     "output_type": "execute_result"
    }
   ],
   "source": [
    "specGED = greaterEqDef.specialize()"
   ]
  },
  {
   "cell_type": "code",
   "execution_count": 6,
   "metadata": {},
   "outputs": [
    {
     "data": {
      "text/html": [
       "<span style=\"font-size:20px;\"><a class=\"ProveItLink\" href=\"../__pv_it/8a8b50f86254af14b501d0bbe7606705694fd9840/expr.ipynb\"><img src=\"../__pv_it/8a8b50f86254af14b501d0bbe7606705694fd9840/expr.png\" style=\"display:inline;vertical-align:middle;\" /></a> &#x22A2;&nbsp;<a class=\"ProveItLink\" href=\"../__pv_it/6c6bfedbeb42610595e79a38d862ea41ee0ae64f0/expr.ipynb\"><img src=\"../__pv_it/6c6bfedbeb42610595e79a38d862ea41ee0ae64f0/expr.png\" style=\"display:inline;vertical-align:middle;\" /></a></span>"
      ],
      "text/plain": [
       "{x >= y} |= ((x > y) or (x = y)) = TRUE"
      ]
     },
     "execution_count": 6,
     "metadata": {},
     "output_type": "execute_result"
    }
   ],
   "source": [
    "specGED.lhs.evaluation()"
   ]
  },
  {
   "cell_type": "code",
   "execution_count": 7,
   "metadata": {},
   "outputs": [
    {
     "data": {
      "text/html": [
       "<strong id=\"xeqY\">xeqY:</strong> <span style=\"font-size:20px;\"><a class=\"ProveItLink\" href=\"../__pv_it/0e273ffb3ed29212fa2548cf5eac3f7eeae2b0430/expr.ipynb\"><img src=\"../__pv_it/0e273ffb3ed29212fa2548cf5eac3f7eeae2b0430/expr.png\" style=\"display:inline;vertical-align:middle;\" /></a> &#x22A2;&nbsp;<a class=\"ProveItLink\" href=\"../__pv_it/09a018d245921e457a3e61cb9bdadc6be6363d770/expr.ipynb\"><img src=\"../__pv_it/09a018d245921e457a3e61cb9bdadc6be6363d770/expr.png\" style=\"display:inline;vertical-align:middle;\" /></a></span><br>"
      ],
      "text/plain": [
       "xeqY: {x = y , y > z} |= x > z"
      ]
     },
     "execution_count": 7,
     "metadata": {},
     "output_type": "execute_result"
    }
   ],
   "source": [
    "xeqY = Greater(x,z).prove(assumptions = (Equals(x,y), Greater(y,z)))"
   ]
  },
  {
   "cell_type": "code",
   "execution_count": 8,
   "metadata": {},
   "outputs": [
    {
     "data": {
      "text/html": [
       "<strong id=\"xgreaterY\">xgreaterY:</strong> <span style=\"font-size:20px;\"><a class=\"ProveItLink\" href=\"../__pv_it/06bfa2ea16a65e53e344a0e52683084eb5f594230/expr.ipynb\"><img src=\"../__pv_it/06bfa2ea16a65e53e344a0e52683084eb5f594230/expr.png\" style=\"display:inline;vertical-align:middle;\" /></a> &#x22A2;&nbsp;<a class=\"ProveItLink\" href=\"../__pv_it/09a018d245921e457a3e61cb9bdadc6be6363d770/expr.ipynb\"><img src=\"../__pv_it/09a018d245921e457a3e61cb9bdadc6be6363d770/expr.png\" style=\"display:inline;vertical-align:middle;\" /></a></span><br>"
      ],
      "text/plain": [
       "xgreaterY: {x > y , y > z} |= x > z"
      ]
     },
     "execution_count": 8,
     "metadata": {},
     "output_type": "execute_result"
    }
   ],
   "source": [
    "xgreaterY = Greater(x,z).prove(assumptions = (Greater(x,y), Greater(y,z)))"
   ]
  },
  {
   "cell_type": "code",
   "execution_count": 9,
   "metadata": {},
   "outputs": [
    {
     "data": {
      "text/html": [
       "<span style=\"font-size:20px;\"><a class=\"ProveItLink\" href=\"../__pv_it/5f3198c0249074a21e95c73800ea12e5d933e0d30/expr.ipynb\"><img src=\"../__pv_it/5f3198c0249074a21e95c73800ea12e5d933e0d30/expr.png\" style=\"display:inline;vertical-align:middle;\" /></a> &#x22A2;&nbsp;<a class=\"ProveItLink\" href=\"../__pv_it/09a018d245921e457a3e61cb9bdadc6be6363d770/expr.ipynb\"><img src=\"../__pv_it/09a018d245921e457a3e61cb9bdadc6be6363d770/expr.png\" style=\"display:inline;vertical-align:middle;\" /></a></span>"
      ],
      "text/plain": [
       "{x >= y , y > z} |= x > z"
      ]
     },
     "execution_count": 9,
     "metadata": {},
     "output_type": "execute_result"
    }
   ],
   "source": [
    "specGED.expr.lhs.deriveViaDilemma(Greater(x,z))"
   ]
  },
  {
   "cell_type": "code",
   "execution_count": 10,
   "metadata": {},
   "outputs": [
    {
     "data": {
      "text/html": [
       "<table><tr><th>&nbsp;</th><th>step type</th><th>requirements</th><th>statement</th></tr>\n",
       "<tr><td>0</td><td>generalizaton</td><td>1</td><td><span style=\"font-size:20px;\"> &#x22A2;&nbsp;<a class=\"ProveItLink\" href=\"../__pv_it/90c9c0cc9c40b0257535a9558504f87ceb90d93b0/expr.ipynb\"><img src=\"../__pv_it/90c9c0cc9c40b0257535a9558504f87ceb90d93b0/expr.png\" style=\"display:inline;vertical-align:middle;\" /></a></span></td></tr>\n",
       "<tr><td>1</td><td>specialization</td><td>2, 3, 4, 13, 5, 6</td><td><span style=\"font-size:20px;\"><a class=\"ProveItLink\" href=\"../__pv_it/5f3198c0249074a21e95c73800ea12e5d933e0d30/expr.ipynb\"><img src=\"../__pv_it/5f3198c0249074a21e95c73800ea12e5d933e0d30/expr.png\" style=\"display:inline;vertical-align:middle;\" /></a> &#x22A2;&nbsp;<a class=\"ProveItLink\" href=\"../__pv_it/09a018d245921e457a3e61cb9bdadc6be6363d770/expr.ipynb\"><img src=\"../__pv_it/09a018d245921e457a3e61cb9bdadc6be6363d770/expr.png\" style=\"display:inline;vertical-align:middle;\" /></a></span></td></tr>\n",
       "<tr><td>&nbsp;</td><td colspan=4 style=\"text-align:left\"><span style=\"font-size:20px;\"><a class=\"ProveItLink\" href=\"../../../__pv_it/2cbe72a7ad6f655694dd697106680215e8489b600/expr.ipynb\"><img src=\"../../../__pv_it/2cbe72a7ad6f655694dd697106680215e8489b600/expr.png\" style=\"display:inline;vertical-align:middle;\" /></a> : <a class=\"ProveItLink\" href=\"../__pv_it/f0d30d9f3aee74131e87882eb73d45c71d5e9f4a0/expr.ipynb\"><img src=\"../__pv_it/f0d30d9f3aee74131e87882eb73d45c71d5e9f4a0/expr.png\" style=\"display:inline;vertical-align:middle;\" /></a>, <a class=\"ProveItLink\" href=\"../../../__pv_it/077b2ff79244fb4582cbe22c6e3356fa92a52f2f0/expr.ipynb\"><img src=\"../../../__pv_it/077b2ff79244fb4582cbe22c6e3356fa92a52f2f0/expr.png\" style=\"display:inline;vertical-align:middle;\" /></a> : <a class=\"ProveItLink\" href=\"../__pv_it/74ae967be5bd1c096ad29ed9e31ac59a533f07b30/expr.ipynb\"><img src=\"../__pv_it/74ae967be5bd1c096ad29ed9e31ac59a533f07b30/expr.png\" style=\"display:inline;vertical-align:middle;\" /></a>, <a class=\"ProveItLink\" href=\"../../../__pv_it/985a1bdf1540838275dec15f4ad6de261cca93ce0/expr.ipynb\"><img src=\"../../../__pv_it/985a1bdf1540838275dec15f4ad6de261cca93ce0/expr.png\" style=\"display:inline;vertical-align:middle;\" /></a> : <a class=\"ProveItLink\" href=\"../__pv_it/09a018d245921e457a3e61cb9bdadc6be6363d770/expr.ipynb\"><img src=\"../__pv_it/09a018d245921e457a3e61cb9bdadc6be6363d770/expr.png\" style=\"display:inline;vertical-align:middle;\" /></a></span></td></tr><tr><td>2</td><td>theorem</td><td></td><td><span style=\"font-size:20px;\"> &#x22A2;&nbsp;<a class=\"ProveItLink\" href=\"../../../logic/boolean/disjunction/__pv_it/ae04d742bb2a9c5d5c8f08976170ec0df82f46d30/expr.ipynb\"><img src=\"../../../logic/boolean/disjunction/__pv_it/ae04d742bb2a9c5d5c8f08976170ec0df82f46d30/expr.png\" style=\"display:inline;vertical-align:middle;\" /></a></span></td></tr>\n",
       "<tr><td>&nbsp;</td><td colspan=4 style-\"text-align:left\"><a class=\"ProveItLink\" href=\"../../../logic/boolean/disjunction/_proofs_/singularConstructiveDilemma.ipynb\">proveit.logic.boolean.disjunction.singularConstructiveDilemma</a></td></tr><tr><td>3</td><td>specialization</td><td>7, 8</td><td><span style=\"font-size:20px;\"><a class=\"ProveItLink\" href=\"../__pv_it/8a8b50f86254af14b501d0bbe7606705694fd9840/expr.ipynb\"><img src=\"../__pv_it/8a8b50f86254af14b501d0bbe7606705694fd9840/expr.png\" style=\"display:inline;vertical-align:middle;\" /></a> &#x22A2;&nbsp;<a class=\"ProveItLink\" href=\"../__pv_it/da2f94dc45c5f499bee689f5cdc1a6f0800c49440/expr.ipynb\"><img src=\"../__pv_it/da2f94dc45c5f499bee689f5cdc1a6f0800c49440/expr.png\" style=\"display:inline;vertical-align:middle;\" /></a></span></td></tr>\n",
       "<tr><td>&nbsp;</td><td colspan=4 style=\"text-align:left\"><span style=\"font-size:20px;\"><a class=\"ProveItLink\" href=\"../../../__pv_it/2cbe72a7ad6f655694dd697106680215e8489b600/expr.ipynb\"><img src=\"../../../__pv_it/2cbe72a7ad6f655694dd697106680215e8489b600/expr.png\" style=\"display:inline;vertical-align:middle;\" /></a> : <a class=\"ProveItLink\" href=\"../__pv_it/f0d30d9f3aee74131e87882eb73d45c71d5e9f4a0/expr.ipynb\"><img src=\"../__pv_it/f0d30d9f3aee74131e87882eb73d45c71d5e9f4a0/expr.png\" style=\"display:inline;vertical-align:middle;\" /></a>, <a class=\"ProveItLink\" href=\"../../../__pv_it/077b2ff79244fb4582cbe22c6e3356fa92a52f2f0/expr.ipynb\"><img src=\"../../../__pv_it/077b2ff79244fb4582cbe22c6e3356fa92a52f2f0/expr.png\" style=\"display:inline;vertical-align:middle;\" /></a> : <a class=\"ProveItLink\" href=\"../__pv_it/74ae967be5bd1c096ad29ed9e31ac59a533f07b30/expr.ipynb\"><img src=\"../__pv_it/74ae967be5bd1c096ad29ed9e31ac59a533f07b30/expr.png\" style=\"display:inline;vertical-align:middle;\" /></a></span></td></tr><tr><td>4</td><td>specialization</td><td>9</td><td><span style=\"font-size:20px;\"> &#x22A2;&nbsp;<a class=\"ProveItLink\" href=\"../__pv_it/8ec25d6a29369c59943e306a4344b3ade656bf790/expr.ipynb\"><img src=\"../__pv_it/8ec25d6a29369c59943e306a4344b3ade656bf790/expr.png\" style=\"display:inline;vertical-align:middle;\" /></a></span></td></tr>\n",
       "<tr><td>&nbsp;</td><td colspan=4 style=\"text-align:left\"><span style=\"font-size:20px;\"><a class=\"ProveItLink\" href=\"../../../__pv_it/530be409e3083890784cf1d7b28c9e67e90af9360/expr.ipynb\"><img src=\"../../../__pv_it/530be409e3083890784cf1d7b28c9e67e90af9360/expr.png\" style=\"display:inline;vertical-align:middle;\" /></a> : <a class=\"ProveItLink\" href=\"../../../__pv_it/530be409e3083890784cf1d7b28c9e67e90af9360/expr.ipynb\"><img src=\"../../../__pv_it/530be409e3083890784cf1d7b28c9e67e90af9360/expr.png\" style=\"display:inline;vertical-align:middle;\" /></a>, <a class=\"ProveItLink\" href=\"../../../__pv_it/f8b9edf8e16034727f0aad55bb83e392c3db40d40/expr.ipynb\"><img src=\"../../../__pv_it/f8b9edf8e16034727f0aad55bb83e392c3db40d40/expr.png\" style=\"display:inline;vertical-align:middle;\" /></a> : <a class=\"ProveItLink\" href=\"../../../__pv_it/f8b9edf8e16034727f0aad55bb83e392c3db40d40/expr.ipynb\"><img src=\"../../../__pv_it/f8b9edf8e16034727f0aad55bb83e392c3db40d40/expr.png\" style=\"display:inline;vertical-align:middle;\" /></a></span></td></tr><tr><td>5</td><td>hypothetical reasoning</td><td>10</td><td><span style=\"font-size:20px;\"><a class=\"ProveItLink\" href=\"../__pv_it/295401ad6fea5010f90583f1b7fe9f74e0de821a0/expr.ipynb\"><img src=\"../__pv_it/295401ad6fea5010f90583f1b7fe9f74e0de821a0/expr.png\" style=\"display:inline;vertical-align:middle;\" /></a> &#x22A2;&nbsp;<a class=\"ProveItLink\" href=\"../__pv_it/d01ddbf5985f370dc7c529773cf1179a31ea3a270/expr.ipynb\"><img src=\"../__pv_it/d01ddbf5985f370dc7c529773cf1179a31ea3a270/expr.png\" style=\"display:inline;vertical-align:middle;\" /></a></span></td></tr>\n",
       "<tr><td>6</td><td>hypothetical reasoning</td><td>11</td><td><span style=\"font-size:20px;\"><a class=\"ProveItLink\" href=\"../__pv_it/295401ad6fea5010f90583f1b7fe9f74e0de821a0/expr.ipynb\"><img src=\"../__pv_it/295401ad6fea5010f90583f1b7fe9f74e0de821a0/expr.png\" style=\"display:inline;vertical-align:middle;\" /></a> &#x22A2;&nbsp;<a class=\"ProveItLink\" href=\"../__pv_it/dac49b07cfab8c267fef730443e8b1f5e5d03e420/expr.ipynb\"><img src=\"../__pv_it/dac49b07cfab8c267fef730443e8b1f5e5d03e420/expr.png\" style=\"display:inline;vertical-align:middle;\" /></a></span></td></tr>\n",
       "<tr><td>7</td><td>axiom</td><td></td><td><span style=\"font-size:20px;\"> &#x22A2;&nbsp;<a class=\"ProveItLink\" href=\"../../../logic/boolean/disjunction/__pv_it/94162ab70561f2f886bf06ddaddd570d94ddf79f0/expr.ipynb\"><img src=\"../../../logic/boolean/disjunction/__pv_it/94162ab70561f2f886bf06ddaddd570d94ddf79f0/expr.png\" style=\"display:inline;vertical-align:middle;\" /></a></span></td></tr>\n",
       "<tr><td>&nbsp;</td><td colspan=4 style-\"text-align:left\"><a class=\"ProveItLink\" href=\"../../../logic/boolean/disjunction/_axioms_.ipynb#leftInBool\">proveit.logic.boolean.disjunction.leftInBool</a></td></tr><tr><td>8</td><td>specialization</td><td>12, 13</td><td><span style=\"font-size:20px;\"><a class=\"ProveItLink\" href=\"../__pv_it/8a8b50f86254af14b501d0bbe7606705694fd9840/expr.ipynb\"><img src=\"../__pv_it/8a8b50f86254af14b501d0bbe7606705694fd9840/expr.png\" style=\"display:inline;vertical-align:middle;\" /></a> &#x22A2;&nbsp;<a class=\"ProveItLink\" href=\"../__pv_it/ae75679d552fad4a2efa027deaef8ffdf5c39c9f0/expr.ipynb\"><img src=\"../__pv_it/ae75679d552fad4a2efa027deaef8ffdf5c39c9f0/expr.png\" style=\"display:inline;vertical-align:middle;\" /></a></span></td></tr>\n",
       "<tr><td>&nbsp;</td><td colspan=4 style=\"text-align:left\"><span style=\"font-size:20px;\"><a class=\"ProveItLink\" href=\"../../../__pv_it/2cbe72a7ad6f655694dd697106680215e8489b600/expr.ipynb\"><img src=\"../../../__pv_it/2cbe72a7ad6f655694dd697106680215e8489b600/expr.png\" style=\"display:inline;vertical-align:middle;\" /></a> : <a class=\"ProveItLink\" href=\"../__pv_it/75d5c72dcf447fcfddade64ca29297d5c56570000/expr.ipynb\"><img src=\"../__pv_it/75d5c72dcf447fcfddade64ca29297d5c56570000/expr.png\" style=\"display:inline;vertical-align:middle;\" /></a></span></td></tr><tr><td>9</td><td>axiom</td><td></td><td><span style=\"font-size:20px;\"> &#x22A2;&nbsp;<a class=\"ProveItLink\" href=\"../../../logic/equality/__pv_it/40d65510253ebe9c23b6d82fc4fef69ccf2845ac0/expr.ipynb\"><img src=\"../../../logic/equality/__pv_it/40d65510253ebe9c23b6d82fc4fef69ccf2845ac0/expr.png\" style=\"display:inline;vertical-align:middle;\" /></a></span></td></tr>\n",
       "<tr><td>&nbsp;</td><td colspan=4 style-\"text-align:left\"><a class=\"ProveItLink\" href=\"../../../logic/equality/_axioms_.ipynb#equalityInBool\">proveit.logic.equality.equalityInBool</a></td></tr><tr><td>10</td><td>specialization</td><td>14, 15, 17</td><td><span style=\"font-size:20px;\"><a class=\"ProveItLink\" href=\"../__pv_it/06bfa2ea16a65e53e344a0e52683084eb5f594230/expr.ipynb\"><img src=\"../__pv_it/06bfa2ea16a65e53e344a0e52683084eb5f594230/expr.png\" style=\"display:inline;vertical-align:middle;\" /></a> &#x22A2;&nbsp;<a class=\"ProveItLink\" href=\"../__pv_it/09a018d245921e457a3e61cb9bdadc6be6363d770/expr.ipynb\"><img src=\"../__pv_it/09a018d245921e457a3e61cb9bdadc6be6363d770/expr.png\" style=\"display:inline;vertical-align:middle;\" /></a></span></td></tr>\n",
       "<tr><td>&nbsp;</td><td colspan=4 style=\"text-align:left\"><span style=\"font-size:20px;\"><a class=\"ProveItLink\" href=\"../../../__pv_it/530be409e3083890784cf1d7b28c9e67e90af9360/expr.ipynb\"><img src=\"../../../__pv_it/530be409e3083890784cf1d7b28c9e67e90af9360/expr.png\" style=\"display:inline;vertical-align:middle;\" /></a> : <a class=\"ProveItLink\" href=\"../../../__pv_it/530be409e3083890784cf1d7b28c9e67e90af9360/expr.ipynb\"><img src=\"../../../__pv_it/530be409e3083890784cf1d7b28c9e67e90af9360/expr.png\" style=\"display:inline;vertical-align:middle;\" /></a>, <a class=\"ProveItLink\" href=\"../../../__pv_it/f8b9edf8e16034727f0aad55bb83e392c3db40d40/expr.ipynb\"><img src=\"../../../__pv_it/f8b9edf8e16034727f0aad55bb83e392c3db40d40/expr.png\" style=\"display:inline;vertical-align:middle;\" /></a> : <a class=\"ProveItLink\" href=\"../../../__pv_it/f8b9edf8e16034727f0aad55bb83e392c3db40d40/expr.ipynb\"><img src=\"../../../__pv_it/f8b9edf8e16034727f0aad55bb83e392c3db40d40/expr.png\" style=\"display:inline;vertical-align:middle;\" /></a>, <a class=\"ProveItLink\" href=\"../../../__pv_it/251502494639118b4892de8e9d720a5fcce840e10/expr.ipynb\"><img src=\"../../../__pv_it/251502494639118b4892de8e9d720a5fcce840e10/expr.png\" style=\"display:inline;vertical-align:middle;\" /></a> : <a class=\"ProveItLink\" href=\"../../../__pv_it/251502494639118b4892de8e9d720a5fcce840e10/expr.ipynb\"><img src=\"../../../__pv_it/251502494639118b4892de8e9d720a5fcce840e10/expr.png\" style=\"display:inline;vertical-align:middle;\" /></a></span></td></tr><tr><td>11</td><td>specialization</td><td>16, 17, 18</td><td><span style=\"font-size:20px;\"><a class=\"ProveItLink\" href=\"../__pv_it/0e273ffb3ed29212fa2548cf5eac3f7eeae2b0430/expr.ipynb\"><img src=\"../__pv_it/0e273ffb3ed29212fa2548cf5eac3f7eeae2b0430/expr.png\" style=\"display:inline;vertical-align:middle;\" /></a> &#x22A2;&nbsp;<a class=\"ProveItLink\" href=\"../__pv_it/09a018d245921e457a3e61cb9bdadc6be6363d770/expr.ipynb\"><img src=\"../__pv_it/09a018d245921e457a3e61cb9bdadc6be6363d770/expr.png\" style=\"display:inline;vertical-align:middle;\" /></a></span></td></tr>\n",
       "<tr><td>&nbsp;</td><td colspan=4 style=\"text-align:left\"><span style=\"font-size:20px;\"><a class=\"ProveItLink\" href=\"../__pv_it/fd4b0a418766985890fb332a124e981d1643d8330/expr.ipynb\"><img src=\"../__pv_it/fd4b0a418766985890fb332a124e981d1643d8330/expr.png\" style=\"display:inline;vertical-align:middle;\" /></a> : <a class=\"ProveItLink\" href=\"../__pv_it/7feb8867ba0a5fdbfc7e68cc52e7da3ee97fdc270/expr.ipynb\"><img src=\"../__pv_it/7feb8867ba0a5fdbfc7e68cc52e7da3ee97fdc270/expr.png\" style=\"display:inline;vertical-align:middle;\" /></a>, <a class=\"ProveItLink\" href=\"../../../__pv_it/530be409e3083890784cf1d7b28c9e67e90af9360/expr.ipynb\"><img src=\"../../../__pv_it/530be409e3083890784cf1d7b28c9e67e90af9360/expr.png\" style=\"display:inline;vertical-align:middle;\" /></a> : <a class=\"ProveItLink\" href=\"../../../__pv_it/530be409e3083890784cf1d7b28c9e67e90af9360/expr.ipynb\"><img src=\"../../../__pv_it/530be409e3083890784cf1d7b28c9e67e90af9360/expr.png\" style=\"display:inline;vertical-align:middle;\" /></a>, <a class=\"ProveItLink\" href=\"../../../__pv_it/f8b9edf8e16034727f0aad55bb83e392c3db40d40/expr.ipynb\"><img src=\"../../../__pv_it/f8b9edf8e16034727f0aad55bb83e392c3db40d40/expr.png\" style=\"display:inline;vertical-align:middle;\" /></a> : <a class=\"ProveItLink\" href=\"../../../__pv_it/f8b9edf8e16034727f0aad55bb83e392c3db40d40/expr.ipynb\"><img src=\"../../../__pv_it/f8b9edf8e16034727f0aad55bb83e392c3db40d40/expr.png\" style=\"display:inline;vertical-align:middle;\" /></a></span></td></tr><tr><td>12</td><td>theorem</td><td></td><td><span style=\"font-size:20px;\"> &#x22A2;&nbsp;<a class=\"ProveItLink\" href=\"../../../logic/boolean/__pv_it/1d8cf37f5c705c7f67ba9cbc584342aedfb4c1440/expr.ipynb\"><img src=\"../../../logic/boolean/__pv_it/1d8cf37f5c705c7f67ba9cbc584342aedfb4c1440/expr.png\" style=\"display:inline;vertical-align:middle;\" /></a></span></td></tr>\n",
       "<tr><td>&nbsp;</td><td colspan=4 style-\"text-align:left\"><a class=\"ProveItLink\" href=\"../../../logic/boolean/_proofs_/inBoolIfTrue.ipynb\">proveit.logic.boolean.inBoolIfTrue</a></td></tr><tr><td>13</td><td>specialization</td><td>19, 20</td><td><span style=\"font-size:20px;\"><a class=\"ProveItLink\" href=\"../__pv_it/8a8b50f86254af14b501d0bbe7606705694fd9840/expr.ipynb\"><img src=\"../__pv_it/8a8b50f86254af14b501d0bbe7606705694fd9840/expr.png\" style=\"display:inline;vertical-align:middle;\" /></a> &#x22A2;&nbsp;<a class=\"ProveItLink\" href=\"../__pv_it/75d5c72dcf447fcfddade64ca29297d5c56570000/expr.ipynb\"><img src=\"../__pv_it/75d5c72dcf447fcfddade64ca29297d5c56570000/expr.png\" style=\"display:inline;vertical-align:middle;\" /></a></span></td></tr>\n",
       "<tr><td>&nbsp;</td><td colspan=4 style=\"text-align:left\"><span style=\"font-size:20px;\"><a class=\"ProveItLink\" href=\"../../../__pv_it/2cbe72a7ad6f655694dd697106680215e8489b600/expr.ipynb\"><img src=\"../../../__pv_it/2cbe72a7ad6f655694dd697106680215e8489b600/expr.png\" style=\"display:inline;vertical-align:middle;\" /></a> : <a class=\"ProveItLink\" href=\"../__pv_it/75d5c72dcf447fcfddade64ca29297d5c56570000/expr.ipynb\"><img src=\"../__pv_it/75d5c72dcf447fcfddade64ca29297d5c56570000/expr.png\" style=\"display:inline;vertical-align:middle;\" /></a></span></td></tr><tr><td>14</td><td>theorem</td><td></td><td><span style=\"font-size:20px;\"> &#x22A2;&nbsp;<a class=\"ProveItLink\" href=\"../__pv_it/9440ab6f69620046348f48f5889cde8792008de20/expr.ipynb\"><img src=\"../__pv_it/9440ab6f69620046348f48f5889cde8792008de20/expr.png\" style=\"display:inline;vertical-align:middle;\" /></a></span></td></tr>\n",
       "<tr><td>&nbsp;</td><td colspan=4 style-\"text-align:left\"><a class=\"ProveItLink\" href=\"transitivityGreaterGreater.ipynb\">proveit.number.ordering.transitivityGreaterGreater</a></td></tr><tr><td>15</td><td>assumption</td><td></td><td><span style=\"font-size:20px;\"><a class=\"ProveItLink\" href=\"../__pv_it/2713f7ef5e06ca274893b6f91a00b0fabfa5dbc70/expr.ipynb\"><img src=\"../__pv_it/2713f7ef5e06ca274893b6f91a00b0fabfa5dbc70/expr.png\" style=\"display:inline;vertical-align:middle;\" /></a> &#x22A2;&nbsp;<a class=\"ProveItLink\" href=\"../__pv_it/f0d30d9f3aee74131e87882eb73d45c71d5e9f4a0/expr.ipynb\"><img src=\"../__pv_it/f0d30d9f3aee74131e87882eb73d45c71d5e9f4a0/expr.png\" style=\"display:inline;vertical-align:middle;\" /></a></span></td></tr>\n",
       "<tr><td>16</td><td>theorem</td><td></td><td><span style=\"font-size:20px;\"> &#x22A2;&nbsp;<a class=\"ProveItLink\" href=\"../../../logic/equality/__pv_it/0ff28639b67648f982114c9abc0eb1af3cbddacb0/expr.ipynb\"><img src=\"../../../logic/equality/__pv_it/0ff28639b67648f982114c9abc0eb1af3cbddacb0/expr.png\" style=\"display:inline;vertical-align:middle;\" /></a></span></td></tr>\n",
       "<tr><td>&nbsp;</td><td colspan=4 style-\"text-align:left\"><a class=\"ProveItLink\" href=\"../../../logic/equality/_proofs_/subLeftSideInto.ipynb\">proveit.logic.equality.subLeftSideInto</a></td></tr><tr><td>17</td><td>assumption</td><td></td><td><span style=\"font-size:20px;\"><a class=\"ProveItLink\" href=\"../__pv_it/295401ad6fea5010f90583f1b7fe9f74e0de821a0/expr.ipynb\"><img src=\"../__pv_it/295401ad6fea5010f90583f1b7fe9f74e0de821a0/expr.png\" style=\"display:inline;vertical-align:middle;\" /></a> &#x22A2;&nbsp;<a class=\"ProveItLink\" href=\"../__pv_it/fd94927e6d41da15b46887e144e322fa4ba997090/expr.ipynb\"><img src=\"../__pv_it/fd94927e6d41da15b46887e144e322fa4ba997090/expr.png\" style=\"display:inline;vertical-align:middle;\" /></a></span></td></tr>\n",
       "<tr><td>18</td><td>assumption</td><td></td><td><span style=\"font-size:20px;\"><a class=\"ProveItLink\" href=\"../__pv_it/f6fa7e29a5b93946fccb5b3fdced1428fc9509210/expr.ipynb\"><img src=\"../__pv_it/f6fa7e29a5b93946fccb5b3fdced1428fc9509210/expr.png\" style=\"display:inline;vertical-align:middle;\" /></a> &#x22A2;&nbsp;<a class=\"ProveItLink\" href=\"../__pv_it/74ae967be5bd1c096ad29ed9e31ac59a533f07b30/expr.ipynb\"><img src=\"../__pv_it/74ae967be5bd1c096ad29ed9e31ac59a533f07b30/expr.png\" style=\"display:inline;vertical-align:middle;\" /></a></span></td></tr>\n",
       "<tr><td>19</td><td>axiom</td><td></td><td><span style=\"font-size:20px;\"> &#x22A2;&nbsp;<a class=\"ProveItLink\" href=\"../../../logic/boolean/__pv_it/464b3c7344f9d4c18e61245dc2e5438b3dda88b90/expr.ipynb\"><img src=\"../../../logic/boolean/__pv_it/464b3c7344f9d4c18e61245dc2e5438b3dda88b90/expr.png\" style=\"display:inline;vertical-align:middle;\" /></a></span></td></tr>\n",
       "<tr><td>&nbsp;</td><td colspan=4 style-\"text-align:left\"><a class=\"ProveItLink\" href=\"../../../logic/boolean/_axioms_.ipynb#eqTrueElim\">proveit.logic.boolean.eqTrueElim</a></td></tr><tr><td>20</td><td>specialization</td><td>21, 22, 23</td><td><span style=\"font-size:20px;\"><a class=\"ProveItLink\" href=\"../__pv_it/8a8b50f86254af14b501d0bbe7606705694fd9840/expr.ipynb\"><img src=\"../__pv_it/8a8b50f86254af14b501d0bbe7606705694fd9840/expr.png\" style=\"display:inline;vertical-align:middle;\" /></a> &#x22A2;&nbsp;<a class=\"ProveItLink\" href=\"../__pv_it/6c6bfedbeb42610595e79a38d862ea41ee0ae64f0/expr.ipynb\"><img src=\"../__pv_it/6c6bfedbeb42610595e79a38d862ea41ee0ae64f0/expr.png\" style=\"display:inline;vertical-align:middle;\" /></a></span></td></tr>\n",
       "<tr><td>&nbsp;</td><td colspan=4 style=\"text-align:left\"><span style=\"font-size:20px;\"><a class=\"ProveItLink\" href=\"../../../__pv_it/530be409e3083890784cf1d7b28c9e67e90af9360/expr.ipynb\"><img src=\"../../../__pv_it/530be409e3083890784cf1d7b28c9e67e90af9360/expr.png\" style=\"display:inline;vertical-align:middle;\" /></a> : <a class=\"ProveItLink\" href=\"../__pv_it/75d5c72dcf447fcfddade64ca29297d5c56570000/expr.ipynb\"><img src=\"../__pv_it/75d5c72dcf447fcfddade64ca29297d5c56570000/expr.png\" style=\"display:inline;vertical-align:middle;\" /></a>, <a class=\"ProveItLink\" href=\"../../../__pv_it/f8b9edf8e16034727f0aad55bb83e392c3db40d40/expr.ipynb\"><img src=\"../../../__pv_it/f8b9edf8e16034727f0aad55bb83e392c3db40d40/expr.png\" style=\"display:inline;vertical-align:middle;\" /></a> : <a class=\"ProveItLink\" href=\"../__pv_it/9c4afda72348932681352fac09aaaef10722de9d0/expr.ipynb\"><img src=\"../__pv_it/9c4afda72348932681352fac09aaaef10722de9d0/expr.png\" style=\"display:inline;vertical-align:middle;\" /></a>, <a class=\"ProveItLink\" href=\"../../../__pv_it/251502494639118b4892de8e9d720a5fcce840e10/expr.ipynb\"><img src=\"../../../__pv_it/251502494639118b4892de8e9d720a5fcce840e10/expr.png\" style=\"display:inline;vertical-align:middle;\" /></a> : <a class=\"ProveItLink\" href=\"../../../logic/boolean/__pv_it/68a87cc3370287d726c7086ace789e680e4461c30/expr.ipynb\"><img src=\"../../../logic/boolean/__pv_it/68a87cc3370287d726c7086ace789e680e4461c30/expr.png\" style=\"display:inline;vertical-align:middle;\" /></a></span></td></tr><tr><td>21</td><td>axiom</td><td></td><td><span style=\"font-size:20px;\"> &#x22A2;&nbsp;<a class=\"ProveItLink\" href=\"../../../logic/equality/__pv_it/3e27e37ba4c21dbc2950467f18d0691b4108abf10/expr.ipynb\"><img src=\"../../../logic/equality/__pv_it/3e27e37ba4c21dbc2950467f18d0691b4108abf10/expr.png\" style=\"display:inline;vertical-align:middle;\" /></a></span></td></tr>\n",
       "<tr><td>&nbsp;</td><td colspan=4 style-\"text-align:left\"><a class=\"ProveItLink\" href=\"../../../logic/equality/_axioms_.ipynb#equalsTransitivity\">proveit.logic.equality.equalsTransitivity</a></td></tr><tr><td>22</td><td>specialization</td><td>24</td><td><span style=\"font-size:20px;\"> &#x22A2;&nbsp;<a class=\"ProveItLink\" href=\"../__pv_it/1520f13d3db61c6d6159a7cde375cbcf990ac1a00/expr.ipynb\"><img src=\"../__pv_it/1520f13d3db61c6d6159a7cde375cbcf990ac1a00/expr.png\" style=\"display:inline;vertical-align:middle;\" /></a></span></td></tr>\n",
       "<tr><td>&nbsp;</td><td colspan=4 style=\"text-align:left\"><span style=\"font-size:20px;\"><a class=\"ProveItLink\" href=\"../../../__pv_it/530be409e3083890784cf1d7b28c9e67e90af9360/expr.ipynb\"><img src=\"../../../__pv_it/530be409e3083890784cf1d7b28c9e67e90af9360/expr.png\" style=\"display:inline;vertical-align:middle;\" /></a> : <a class=\"ProveItLink\" href=\"../../../__pv_it/530be409e3083890784cf1d7b28c9e67e90af9360/expr.ipynb\"><img src=\"../../../__pv_it/530be409e3083890784cf1d7b28c9e67e90af9360/expr.png\" style=\"display:inline;vertical-align:middle;\" /></a>, <a class=\"ProveItLink\" href=\"../../../__pv_it/f8b9edf8e16034727f0aad55bb83e392c3db40d40/expr.ipynb\"><img src=\"../../../__pv_it/f8b9edf8e16034727f0aad55bb83e392c3db40d40/expr.png\" style=\"display:inline;vertical-align:middle;\" /></a> : <a class=\"ProveItLink\" href=\"../../../__pv_it/f8b9edf8e16034727f0aad55bb83e392c3db40d40/expr.ipynb\"><img src=\"../../../__pv_it/f8b9edf8e16034727f0aad55bb83e392c3db40d40/expr.png\" style=\"display:inline;vertical-align:middle;\" /></a></span></td></tr><tr><td>23</td><td>specialization</td><td>25, 26</td><td><span style=\"font-size:20px;\"><a class=\"ProveItLink\" href=\"../__pv_it/8a8b50f86254af14b501d0bbe7606705694fd9840/expr.ipynb\"><img src=\"../__pv_it/8a8b50f86254af14b501d0bbe7606705694fd9840/expr.png\" style=\"display:inline;vertical-align:middle;\" /></a> &#x22A2;&nbsp;<a class=\"ProveItLink\" href=\"../__pv_it/55b121133c2af5a8770fe21dd3655846050f3e250/expr.ipynb\"><img src=\"../__pv_it/55b121133c2af5a8770fe21dd3655846050f3e250/expr.png\" style=\"display:inline;vertical-align:middle;\" /></a></span></td></tr>\n",
       "<tr><td>&nbsp;</td><td colspan=4 style=\"text-align:left\"><span style=\"font-size:20px;\"><a class=\"ProveItLink\" href=\"../../../__pv_it/2cbe72a7ad6f655694dd697106680215e8489b600/expr.ipynb\"><img src=\"../../../__pv_it/2cbe72a7ad6f655694dd697106680215e8489b600/expr.png\" style=\"display:inline;vertical-align:middle;\" /></a> : <a class=\"ProveItLink\" href=\"../__pv_it/9c4afda72348932681352fac09aaaef10722de9d0/expr.ipynb\"><img src=\"../__pv_it/9c4afda72348932681352fac09aaaef10722de9d0/expr.png\" style=\"display:inline;vertical-align:middle;\" /></a></span></td></tr><tr><td>24</td><td>axiom</td><td></td><td><span style=\"font-size:20px;\"> &#x22A2;&nbsp;<a class=\"ProveItLink\" href=\"../__pv_it/5e1b4dbdbbd80b491d4efff4fd21529b0c8c3c700/expr.ipynb\"><img src=\"../__pv_it/5e1b4dbdbbd80b491d4efff4fd21529b0c8c3c700/expr.png\" style=\"display:inline;vertical-align:middle;\" /></a></span></td></tr>\n",
       "<tr><td>&nbsp;</td><td colspan=4 style-\"text-align:left\"><a class=\"ProveItLink\" href=\"../_axioms_.ipynb#greaterEqDef\">proveit.number.ordering.greaterEqDef</a></td></tr><tr><td>25</td><td>axiom</td><td></td><td><span style=\"font-size:20px;\"> &#x22A2;&nbsp;<a class=\"ProveItLink\" href=\"../../../logic/boolean/__pv_it/04576f2f89fdf94b2e1520e8f4ab361286daf7f30/expr.ipynb\"><img src=\"../../../logic/boolean/__pv_it/04576f2f89fdf94b2e1520e8f4ab361286daf7f30/expr.png\" style=\"display:inline;vertical-align:middle;\" /></a></span></td></tr>\n",
       "<tr><td>&nbsp;</td><td colspan=4 style-\"text-align:left\"><a class=\"ProveItLink\" href=\"../../../logic/boolean/_axioms_.ipynb#eqTrueIntro\">proveit.logic.boolean.eqTrueIntro</a></td></tr><tr><td>26</td><td>assumption</td><td></td><td><span style=\"font-size:20px;\"><a class=\"ProveItLink\" href=\"../__pv_it/8a8b50f86254af14b501d0bbe7606705694fd9840/expr.ipynb\"><img src=\"../__pv_it/8a8b50f86254af14b501d0bbe7606705694fd9840/expr.png\" style=\"display:inline;vertical-align:middle;\" /></a> &#x22A2;&nbsp;<a class=\"ProveItLink\" href=\"../__pv_it/9c4afda72348932681352fac09aaaef10722de9d0/expr.ipynb\"><img src=\"../__pv_it/9c4afda72348932681352fac09aaaef10722de9d0/expr.png\" style=\"display:inline;vertical-align:middle;\" /></a></span></td></tr>\n",
       "</table>"
      ],
      "text/plain": [
       "\tstep type\trequirements\tstatement\n",
       "0\tgeneralizaton\t1\t|= forall_{x, y, z | x >= y , y > z} (x > z)\n",
       "1\tspecialization\t2, 3, 4, 13, 5, 6\t{x >= y , y > z} |= x > z\n",
       "\tA : x > y, B : x = y, C : x > z\n",
       "2\ttheorem\t\t|= forall_{A, B in BOOLEANS | A or B} [forall_{C | A => C , B => C} C]\n",
       "\tproveit.logic.boolean.disjunction.singularConstructiveDilemma\n",
       "3\tspecialization\t7, 8\t{x >= y} |= (x > y) in BOOLEANS\n",
       "\tA : x > y, B : x = y\n",
       "4\tspecialization\t9\t|= (x = y) in BOOLEANS\n",
       "\tx : x, y : y\n",
       "5\thypothetical reasoning\t10\t{y > z} |= (x > y) => (x > z)\n",
       "6\thypothetical reasoning\t11\t{y > z} |= (x = y) => (x > z)\n",
       "7\taxiom\t\t|= forall_{A, B | (A or B) in BOOLEANS} (A in BOOLEANS)\n",
       "\tproveit.logic.boolean.disjunction.leftInBool\n",
       "8\tspecialization\t12, 13\t{x >= y} |= ((x > y) or (x = y)) in BOOLEANS\n",
       "\tA : (x > y) or (x = y)\n",
       "9\taxiom\t\t|= forall_{x, y} ((x = y) in BOOLEANS)\n",
       "\tproveit.logic.equality.equalityInBool\n",
       "10\tspecialization\t14, 15, 17\t{x > y , y > z} |= x > z\n",
       "\tx : x, y : y, z : z\n",
       "11\tspecialization\t16, 17, 18\t{x = y , y > z} |= x > z\n",
       "\tP(_x_) : _x_ > z, x : x, y : y\n",
       "12\ttheorem\t\t|= forall_{A | A} (A in BOOLEANS)\n",
       "\tproveit.logic.boolean.inBoolIfTrue\n",
       "13\tspecialization\t19, 20\t{x >= y} |= (x > y) or (x = y)\n",
       "\tA : (x > y) or (x = y)\n",
       "14\ttheorem\t\t|= forall_{x, y, z | x > y , y > z} (x > z)\n",
       "\tproveit.number.ordering.transitivityGreaterGreater\n",
       "15\tassumption\t\t{x > y} |= x > y\n",
       "16\ttheorem\t\t|= forall_{P, x, y | P(y) , x = y} P(x)\n",
       "\tproveit.logic.equality.subLeftSideInto\n",
       "17\tassumption\t\t{y > z} |= y > z\n",
       "18\tassumption\t\t{x = y} |= x = y\n",
       "19\taxiom\t\t|= forall_{A | A = TRUE} A\n",
       "\tproveit.logic.boolean.eqTrueElim\n",
       "20\tspecialization\t21, 22, 23\t{x >= y} |= ((x > y) or (x = y)) = TRUE\n",
       "\tx : (x > y) or (x = y), y : x >= y, z : TRUE\n",
       "21\taxiom\t\t|= forall_{x, y, z | x = y , y = z} (x = z)\n",
       "\tproveit.logic.equality.equalsTransitivity\n",
       "22\tspecialization\t24\t|= ((x > y) or (x = y)) = (x >= y)\n",
       "\tx : x, y : y\n",
       "23\tspecialization\t25, 26\t{x >= y} |= (x >= y) = TRUE\n",
       "\tA : x >= y\n",
       "24\taxiom\t\t|= forall_{x, y} (((x > y) or (x = y)) = (x >= y))\n",
       "\tproveit.number.ordering.greaterEqDef\n",
       "25\taxiom\t\t|= forall_{A | A} (A = TRUE)\n",
       "\tproveit.logic.boolean.eqTrueIntro\n",
       "26\tassumption\t\t{x >= y} |= x >= y"
      ]
     },
     "execution_count": 10,
     "metadata": {},
     "output_type": "execute_result"
    }
   ],
   "source": [
    "%qed"
   ]
  },
  {
   "cell_type": "code",
   "execution_count": null,
   "metadata": {},
   "outputs": [],
   "source": []
  }
 ],
 "metadata": {
  "kernelspec": {
   "display_name": "Python 3",
   "language": "python",
   "name": "python3"
  },
  "language_info": {
   "codemirror_mode": {
    "name": "ipython",
    "version": 3
   },
   "file_extension": ".py",
   "mimetype": "text/x-python",
   "name": "python",
   "nbconvert_exporter": "python",
   "pygments_lexer": "ipython3",
   "version": "3.7.3"
  }
 },
 "nbformat": 4,
 "nbformat_minor": 1
}
