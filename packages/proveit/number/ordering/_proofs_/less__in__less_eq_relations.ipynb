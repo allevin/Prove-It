{
 "cells": [
  {
   "cell_type": "markdown",
   "metadata": {},
   "source": [
    "Proof of <a class=\"ProveItLink\" href=\"../../../_context_.ipynb\">proveit</a>.<a class=\"ProveItLink\" href=\"../../_context_.ipynb\">number</a>.<a class=\"ProveItLink\" href=\"../_context_.ipynb\">ordering</a>.<a class=\"ProveItLink\" href=\"../_theorems_.ipynb#less__in__less_eq_relations\">less__in__less_eq_relations</a> theorem\n",
    "========"
   ]
  },
  {
   "cell_type": "code",
   "execution_count": 1,
   "metadata": {},
   "outputs": [],
   "source": [
    "import proveit\n",
    "context = proveit.Context('..') # the theorem's context is in the parent directory"
   ]
  },
  {
   "cell_type": "code",
   "execution_count": 2,
   "metadata": {},
   "outputs": [
    {
     "name": "stdout",
     "output_type": "stream",
     "text": [
      "Beginning proof of less__in__less_eq_relations\n",
      "Recorded 'presuming' information\n",
      "Presuming previous theorems (applied transitively).\n"
     ]
    },
    {
     "data": {
      "text/html": [
       "<strong id=\"less__in__less_eq_relations\">less__in__less_eq_relations:</strong> <a class=\"ProveItLink\" href=\"../__pv_it/bb867a8ace561c640d0c426c68acb9d8ee3429e00/expr.ipynb\"><img src=\"data:image/png;base64,iVBORw0KGgoAAAANSUhEUgAAAHkAAAAVBAMAAACQ4lxbAAAAMFBMVEX///8QEBCYmJhERETu7u52\n",
       "dnYiIiKIiIiqqqq6uroyMjJUVFTMzMxmZmbc3NwAAABVII0+AAAAAXRSTlMAQObYZgAAAVZJREFU\n",
       "OMtjYMACmC4xEAQ8oQ+wS7CkMhABeCSwi7N/IEY3wy3swqwCWM3MRBMIhDH47mDVjSzsms6AQzfP\n",
       "rglA31alpS1A0Q0WhgLfJAYcujlXHwCSp1TQ7IYIQ8DrFQw4dHOsBYU9nwmayyHCEHB6JQMO3eyp\n",
       "DiCKGaGWdwFCGAycbRB6eFeBwQYGBn2QRdDQcEYoODgBIQwJ7nQHLHZzXQDqsoSwJ6alQUPttAwD\n",
       "Qhia+FKxabdSACqGBMhphOhEUGidRgkn5ECAAbYAEPkWHBluCGHuBQhhGIBHAG8aGBhA/A1OCEB3\n",
       "cSsgwjwBIcwCT9bGBxAclNQC8hZLJkZaAwn7J8C170TioKRUjjUMDK/uYKRUoLDjPyT1KByEbjDo\n",
       "XoaWUsFgHgMuTiAReUyBARcHh24mdN3PwMGciaYbR/5mQUpn7ChZHKVskcRRajBFEFmuAQCZ9FLj\n",
       "3sDeMwAAAABJRU5ErkJggg==\n",
       "\" style=\"display:inline;vertical-align:middle;\" /></a><br>(see <a class=\"ProveItLink\" href=\"../__pv_it/bb867a8ace561c640d0c426c68acb9d8ee3429e00/dependencies.ipynb\">dependencies</a>)<br>"
      ],
      "text/plain": [
       "less__in__less_eq_relations: < in {< , <= , =}"
      ]
     },
     "execution_count": 2,
     "metadata": {},
     "output_type": "execute_result"
    }
   ],
   "source": [
    "%proving less__in__less_eq_relations presuming []"
   ]
  },
  {
   "cell_type": "code",
   "execution_count": null,
   "metadata": {},
   "outputs": [],
   "source": []
  }
 ],
 "metadata": {
  "kernelspec": {
   "display_name": "Python 3",
   "language": "python",
   "name": "python3"
  }
 },
 "nbformat": 4,
 "nbformat_minor": 0
}
