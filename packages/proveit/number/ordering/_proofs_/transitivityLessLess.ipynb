{
 "cells": [
  {
   "cell_type": "markdown",
   "metadata": {},
   "source": [
    "Proof of <a class=\"ProveItLink\" href=\"../../../_context_.ipynb\">proveit</a>.<a class=\"ProveItLink\" href=\"../../_context_.ipynb\">number</a>.<a class=\"ProveItLink\" href=\"../_context_.ipynb\">ordering</a>.<a class=\"ProveItLink\" href=\"../_theorems_.ipynb#transitivityLessLess\">transitivityLessLess</a> theorem\n",
    "========"
   ]
  },
  {
   "cell_type": "code",
   "execution_count": 1,
   "metadata": {},
   "outputs": [],
   "source": [
    "import proveit\n",
    "context = proveit.Context('..') # the theorem's context is in the parent directory"
   ]
  },
  {
   "cell_type": "code",
   "execution_count": 2,
   "metadata": {},
   "outputs": [
    {
     "name": "stdout",
     "output_type": "stream",
     "text": [
      "Beginning proof of transitivityLessLess\n",
      "Recorded 'presuming' information\n",
      "Presuming previous theorems (applied transitively).\n"
     ]
    },
    {
     "data": {
      "text/html": [
       "<strong id=\"transitivityLessLess\">transitivityLessLess:</strong> <a class=\"ProveItLink\" href=\"../__pv_it/74751ebb027435573a3a577df6aafa332e83cd4e0/expr.ipynb\"><img src=\"data:image/png;base64,iVBORw0KGgoAAAANSUhEUgAAANEAAAAXBAMAAABnpbd1AAAAMFBMVEX///8QEBC6urrMzMxUVFRm\n",
       "ZmZERETc3NwyMjKqqqp2dnaIiIiYmJgiIiLu7u4AAAAU9Wx4AAAAAXRSTlMAQObYZgAAAsVJREFU\n",
       "SMe9VU9IFFEY/+2+ccfdWWcXPVREsUKHYotWEuwShoWFQgiBh7wsFRrZYYjKIpLFCglCgrJDXoYu\n",
       "/RFkIRPSqCGQoD+wx9AOGmRkl40gLx76vjczu7NrIwZDD3Z/7/t9M+/3vj/vDfDfxkJwS6X9XW/o\n",
       "V+DJ+yCExEF/X00GeMKTkSCUatdLTw64RKBmg1CaqSbU4+X5O3snNXeCUNpenc2jqbKxCMQfDQxc\n",
       "C0IonKuyb2Q8VoSC+d3bOxeEUo1J+Ro/MtZjm9GbhuNorFfziHUBh4A+v23+U0NYwDI+Wtukpc25\n",
       "/aGee95NwhTxDug5n5cjlebgmge8TIiqYuI17rIRmy/xOvRjtOkkUAfN2pDS1zWhVzCJFF8D7bax\n",
       "dNLjucDtUaQ4rbqFjSgtD1W7K5mE7LStjtV8q1yDLkdJzzXTbLxtklolPIUQyx4YuVJWik2mqZYa\n",
       "v5rOyl62QTLi0zfniIQY1V+ULTkufnaVHkg5yh762mi1hXZ+8kfCaGK+bdYsK00o2S3QbnPK8ysi\n",
       "6YJkoOw+4SaAavBWK+KVG/G8naqoCYUOE/fCaIG7TL43uAdT0v3dk70UdZWQFVa/FLSsA8Kpue6e\n",
       "eurj6GokSR3tjLjdfvtnPwxJL4UtfSvS24FOuWTKW6eEAb1bMoqp5B1wGJwvlaMAvX/i6cty5aLX\n",
       "+b8r/pM2U8tPx1laJAXT9Whg2IcWj1ITMiSVkZ0cKoHNiIxwT+im9U7bojtpjeViuGygIVwkEB27\n",
       "siUlUXwMPv6HacVQZi/UYQkO0/zwvucS9R/j7mTpRc8EWi3cm8oRaOHNRklJ7x+dllGfNhDtPAOx\n",
       "KsFh8o3DG/lqVF8OlmpwHay/n1xxCgNcxrgNNuP9SKzzJVSMyqWMiLmTwec2As7yhd1iw9px1V/p\n",
       "WaUZR3TGZPBVGpvmyG0IdChBLvYHKNSmqHkQYdkAAAAASUVORK5CYII=\n",
       "\" style=\"display:inline;vertical-align:middle;\" /></a><br>(see <a class=\"ProveItLink\" href=\"../__pv_it/74751ebb027435573a3a577df6aafa332e83cd4e0/dependencies.ipynb\">dependencies</a>)<br>"
      ],
      "text/plain": [
       "transitivityLessLess: forall_{x, y, z | x < y , y < z} (x < z)"
      ]
     },
     "execution_count": 2,
     "metadata": {},
     "output_type": "execute_result"
    }
   ],
   "source": [
    "%proving transitivityLessLess presuming []"
   ]
  },
  {
   "cell_type": "code",
   "execution_count": null,
   "metadata": {},
   "outputs": [],
   "source": []
  }
 ],
 "metadata": {
  "kernelspec": {
   "display_name": "Python 3",
   "language": "python",
   "name": "python3"
  }
 },
 "nbformat": 4,
 "nbformat_minor": 0
}
