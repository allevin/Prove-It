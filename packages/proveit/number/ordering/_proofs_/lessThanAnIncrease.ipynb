{
 "cells": [
  {
   "cell_type": "markdown",
   "metadata": {},
   "source": [
    "Proof of <a class=\"ProveItLink\" href=\"../../../_context_.ipynb\">proveit</a>.<a class=\"ProveItLink\" href=\"../../_context_.ipynb\">number</a>.<a class=\"ProveItLink\" href=\"../_context_.ipynb\">ordering</a>.<a class=\"ProveItLink\" href=\"../_theorems_.ipynb#lessThanAnIncrease\">lessThanAnIncrease</a> theorem\n",
    "========"
   ]
  },
  {
   "cell_type": "code",
   "execution_count": 1,
   "metadata": {},
   "outputs": [],
   "source": [
    "import proveit\n",
    "context = proveit.Context('..') # the theorem's context is in the parent directory"
   ]
  },
  {
   "cell_type": "code",
   "execution_count": 2,
   "metadata": {},
   "outputs": [
    {
     "name": "stdout",
     "output_type": "stream",
     "text": [
      "Beginning proof of lessThanAnIncrease\n",
      "Recorded 'presuming' information\n",
      "Presuming previous theorems (applied transitively).\n"
     ]
    },
    {
     "data": {
      "text/html": [
       "<strong id=\"lessThanAnIncrease\">lessThanAnIncrease:</strong> <a class=\"ProveItLink\" href=\"../__pv_it/c200ddea3c5ba0da78317936bba5f441d1c87b120/expr.ipynb\"><img src=\"data:image/png;base64,iVBORw0KGgoAAAANSUhEUgAAAOQAAAAYBAMAAAAYKUzcAAAAMFBMVEX///8QEBC6urrMzMxUVFRm\n",
       "ZmZERETc3NwyMjKqqqp2dnaIiIiYmJgiIiLu7u4AAAAU9Wx4AAAAAXRSTlMAQObYZgAAAydJREFU\n",
       "SMe9VltIFFEY/nf2Opcdo5cuEGzQHYJ9kBApXErJkEBMS7NAClaCiIE0g4hECjYrWYhA6MEhCOvB\n",
       "YRANusmACJEk+5BEETEPW0SFSlIhifSfc2ZmL47lbuiBb+acj53z/ee/nQVY/WEW/ymnF0IDSBGG\n",
       "FFmMFyVZWgCd3oSPIwwPCdFTlGRPIfRVRIjhAr6CLcUoivkObI8upmXFmswRz6oUIQymP1mMpCcv\n",
       "DUq7XGjeMoBbIPprKKT+jo7LRfl1R97ygBttSwo0Z84w/IzH3y1fR81Mj5OQ1Nxbx1a9x1xpWzJU\n",
       "M2QA3AcKNK4VZ+ez9v2Ln2sz05uIzUpghi6ea660IzndArNoF1BsAbkT7bLN5xIA5cuSXItfzYOf\n",
       "pt6A7kpnJPtM2IimAEUYRDxywPkEDy5ELGc9aLhhx6T7WqOeK/kdwDcDYcLK8YgbnSXZCPADoAIo\n",
       "RCOMOXbX+eQ60GPLww2GKIBma+iq8BHqK19XJrP2LmmBaVoZ3mo32p9I3FqfSMRwOgncvCMpd5J2\n",
       "0epI/gIa30fbp0yUnJiAnVhMUZSUvpk5p9wAcEWHPtYygycNN9o55Rz4FxzHQut+fGDFtD85TWL5\n",
       "e8iEpyCRvYnkCKnaMXJK6Wuu5FlMiiRU81FW8wMjbrQtOQsezJYXwHAHS8bbCfKbIClXMSXFMKVC\n",
       "wCTr8IdNRF9X/btyY4lBDxn8pGCvX2kutC15COrBKRLwIMvFwFfrJeUa0KUUlLGkFf2Vb0lIqkgs\n",
       "6w8ncyV3k/ob3DPoEL3RxbQtmR4mju+yIKG/+BiUREQSZ08U87sM9sXjcV0ULo0S5fdEsv8Z2VHJ\n",
       "aniKex9U3LoPcz5reFY1Yo6ZgQn8dQmEDdgGaeZYvhztGfMliWNva3nXn+p+K6pLXp6CzsD0U9iO\n",
       "K/aaF5UwaQ8vwaewWGoqyaQmWiRf/ufyIuOzBTY+ANc8fgIqDK4ZrawD+RRtBVr6qLkVoxnlu7un\n",
       "qs7l7tDmvnHbkpIHLbDx2Hqz6sJWIGAs/9Hig3ohNDotymCNT+zlVRbFfMUGz44n0advdf7pjWbN\n",
       "tRVV+gMYdOmswHLfRgAAAABJRU5ErkJggg==\n",
       "\" style=\"display:inline;vertical-align:middle;\" /></a><br>(see <a class=\"ProveItLink\" href=\"../__pv_it/c200ddea3c5ba0da78317936bba5f441d1c87b120/dependencies.ipynb\">dependencies</a>)<br>"
      ],
      "text/plain": [
       "lessThanAnIncrease: forall_{(a, b) in Reals * RealsPos} (a < (a + b))"
      ]
     },
     "execution_count": 2,
     "metadata": {},
     "output_type": "execute_result"
    }
   ],
   "source": [
    "%proving lessThanAnIncrease presuming []"
   ]
  },
  {
   "cell_type": "code",
   "execution_count": null,
   "metadata": {},
   "outputs": [],
   "source": []
  }
 ],
 "metadata": {
  "kernelspec": {
   "display_name": "Python 3",
   "language": "python",
   "name": "python3"
  }
 },
 "nbformat": 4,
 "nbformat_minor": 0
}
