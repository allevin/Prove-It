{
 "cells": [
  {
   "cell_type": "markdown",
   "metadata": {},
   "source": [
    "Proof of <a class=\"ProveItLink\" href=\"../../../_context_.ipynb\">proveit</a>.<a class=\"ProveItLink\" href=\"../../_context_.ipynb\">number</a>.<a class=\"ProveItLink\" href=\"../_context_.ipynb\">ordering</a>.<a class=\"ProveItLink\" href=\"../_theorems_.ipynb#lessEqAddRight\">lessEqAddRight</a> theorem\n",
    "========"
   ]
  },
  {
   "cell_type": "code",
   "execution_count": 1,
   "metadata": {},
   "outputs": [],
   "source": [
    "import proveit\n",
    "context = proveit.Context('..') # the theorem's context is in the parent directory"
   ]
  },
  {
   "cell_type": "code",
   "execution_count": 2,
   "metadata": {},
   "outputs": [
    {
     "name": "stdout",
     "output_type": "stream",
     "text": [
      "Beginning proof of lessEqAddRight\n",
      "Recorded 'presuming' information\n",
      "Presuming previous theorems (applied transitively).\n"
     ]
    },
    {
     "data": {
      "text/html": [
       "<strong id=\"lessEqAddRight\">lessEqAddRight:</strong> <a class=\"ProveItLink\" href=\"../__pv_it/ef87718df45d5a14fed39f8b2b0488d54c329c490/expr.ipynb\"><img src=\"data:image/png;base64,iVBORw0KGgoAAAANSUhEUgAAARAAAAAXBAMAAAAxVg0qAAAAMFBMVEX///8QEBC6urrMzMxUVFRm\n",
       "ZmZERETc3NwyMjKqqqp2dnaIiIiYmJgiIiLu7u4AAAAU9Wx4AAAAAXRSTlMAQObYZgAAA71JREFU\n",
       "SMfNVltoFFcY/jZ7mZ2d3RlJH7w8lC14e5HsQ1GQSlIvGEjRRVHBeENhQ6nIPrS1UMSlFLrihX1R\n",
       "8mK7tHgpwWXwhiQaFvRBEENASrFUGCGlYmkTIiQPCaH/f87uzJndWSGwggf+M2e+c/vOfzsHeF+K\n",
       "0/YVO+zFwEimpYzzz5N2Evm4FWx+Oh7UsVvKr9y+0E4ijYs9SNfheE/Q+LiUr+mjHWkjD8NvAvOG\n",
       "7cJWqQ7mVduUhcTJSaKlNhIJ+bzOPFj14K56l66SNZcISV47efJUOy2zVv3ReksKfANBRPC5lJlc\n",
       "7o92EtnP+/f9vJTb4d60Cn8/8lkDkddDt4ArELIFGHBDrNgiIpuOXeA6MZRtHnuO5KN8bIqVnsuo\n",
       "sDkDK+MjEu7EeWAQQlbCLLjDr/jWHLy+56xoxHywfgIJwWCYJnO5pLpFJylkHlHh/w9GVVhfQKjs\n",
       "I/LSxnGiDSEpGFV3+BnPhe7sqRoJVLJNRPSzDuLC9M9gMYXBUbV7GohMISW3elpR4GgBVtZHZKeo\n",
       "u6UY1ZR3oFm3dXfNfw4RGRtrJJJkJVkcf+YCUkTosT9eaUfrCCZrRhnc58GpLLrozNFi8fyyYpFz\n",
       "yoxKxCxwKvxq+Bj7wtxtJvXXkJ1k6kxk1COi9V/NwGAfQNfIDrLwAh/8ntAnTantuBw4beOn+t2x\n",
       "dosLUxo57Kga0ebEp2YaDGwmNr9rC7zzeJKIms86puKQRHaVPSL/5k87+nOZLfGIaDORy8JIPKVG\n",
       "hIw+WUKvXvfT9cfqMHnqCn/UzJOCSaWQcpFugEg2zPdAzE7yT4+Z2SiIRLc+V5x1GzbBvCoC8gs8\n",
       "rWnk9VH+5ymev8er+m8J75JJ1+BIKdrjJ7IN+MUNX4Q4+aYNHhPKsLdbNHNTLpezjcS3DxUi07hN\n",
       "Z7/LKvgAe6k5i1AJ/3A+stx8gXWcRm6uv9kQ1QSbfQcaElp0aIRs9R2kJKk96cTGyP8spMjik9Sa\n",
       "kKbRNzouEfLN43/T9x4xmcKfgg47rXFGTqmn+Hxw5lfhoBRfvwm6P3G+yacosVCdQSWSlz5SUXzk\n",
       "w/AbEUOPqxjXC9oPlEdWizg6B56i3GFBz45yq7dJwpYie/qfHEB3taO/TLXWN+yYR0VCq0zsdVwi\n",
       "q+7fkRnnR6waRngexsgheUCHpzQ/A7QXoqTx1qfGq5ooparUCfIRtyMWeMYWC3+5KBjYXhOvhPNe\n",
       "7S+BRDa0WFizFwPDyEhpOmLQQT0iOkVT7oSiuUsMtP/h26JE3v0W/wPFYApBCjYcPwAAAABJRU5E\n",
       "rkJggg==\n",
       "\" style=\"display:inline;vertical-align:middle;\" /></a><br>(see <a class=\"ProveItLink\" href=\"../__pv_it/ef87718df45d5a14fed39f8b2b0488d54c329c490/dependencies.ipynb\">dependencies</a>)<br>"
      ],
      "text/plain": [
       "lessEqAddRight: forall_{a, b, c in Reals | a <= b , 0 <= c} (a <= (b + c))"
      ]
     },
     "execution_count": 2,
     "metadata": {},
     "output_type": "execute_result"
    }
   ],
   "source": [
    "%proving lessEqAddRight presuming []"
   ]
  },
  {
   "cell_type": "code",
   "execution_count": null,
   "metadata": {},
   "outputs": [],
   "source": []
  }
 ],
 "metadata": {
  "kernelspec": {
   "display_name": "Python 3",
   "language": "python",
   "name": "python3"
  }
 },
 "nbformat": 4,
 "nbformat_minor": 0
}
