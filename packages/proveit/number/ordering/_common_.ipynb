{
 "cells": [
  {
   "cell_type": "markdown",
   "metadata": {},
   "source": [
    "Common expressions for context <a href=\"_context_.ipynb\" class=\"ProveItLink\">proveit.number.ordering</a>\n",
    "========"
   ]
  },
  {
   "cell_type": "code",
   "execution_count": 1,
   "metadata": {},
   "outputs": [
    {
     "name": "stdout",
     "output_type": "stream",
     "text": [
      "Defining common sub-expressions for context 'proveit.number.ordering'\n",
      "Subsequent end-of-cell assignments will define common sub-expressions\n",
      "%end_common will finalize the definitions\n"
     ]
    }
   ],
   "source": [
    "from proveit import Lambda\n",
    "from proveit._common_ import x, i, j, n, rho\n",
    "from proveit import Indexed, Iter\n",
    "from proveit.number import Less, LessEq, Greater, GreaterEq, Add, zero, one\n",
    "from proveit import Operation, OperationSequence\n",
    "from proveit.logic import And, Set, Equals\n",
    "%begin common"
   ]
  },
  {
   "cell_type": "code",
   "execution_count": 2,
   "metadata": {},
   "outputs": [
    {
     "data": {
      "text/html": [
       "<strong id=\"i_plus_1\">i_plus_1:</strong> <a class=\"ProveItLink\" href=\"__pv_it/d8d38c33dfc174f9e17443c24b3b94de1c1f78770/expr.ipynb\"><img src=\"data:image/png;base64,iVBORw0KGgoAAAANSUhEUgAAACoAAAAQBAMAAACSDPCjAAAAMFBMVEX///+YmJjc3NxUVFQQEBAi\n",
       "IiKqqqrMzMy6urpmZmZ2dnbu7u6IiIgyMjJEREQAAADwIkbYAAAAAXRSTlMAQObYZgAAAGlJREFU\n",
       "GNNjYGB4y4AGXoOIN2iC+34jcbgVIPRmY2RRtgNQBg9OUe6VC7CIcnF8wCJaxhmARXQDywFstuVv\n",
       "ABKcd+9e9b171wAuepkbi1qmH1xYRNk+KGIz9w2abZxT/k7E4jcUwIEkCgAJbytx1d/bDQAAAABJ\n",
       "RU5ErkJggg==\n",
       "\" style=\"display:inline;vertical-align:middle;\" /></a><br>"
      ],
      "text/plain": [
       "i_plus_1: i + 1"
      ]
     },
     "execution_count": 2,
     "metadata": {},
     "output_type": "execute_result"
    }
   ],
   "source": [
    "i_plus_1 = Add(i, one)"
   ]
  },
  {
   "cell_type": "code",
   "execution_count": 3,
   "metadata": {},
   "outputs": [
    {
     "data": {
      "text/html": [
       "<strong id=\"n_plus_1\">n_plus_1:</strong> <a class=\"ProveItLink\" href=\"__pv_it/b946c43e057b554aa1f97d0883c5f68ff71f80e80/expr.ipynb\"><img src=\"data:image/png;base64,iVBORw0KGgoAAAANSUhEUgAAAC4AAAAQBAMAAACb51DZAAAAMFBMVEX///8QEBCYmJhmZmaqqqoi\n",
       "IiLMzMzu7u4yMjJ2dnZUVFTc3NxERESIiIi6uroAAABbPXqjAAAAAXRSTlMAQObYZgAAAHdJREFU\n",
       "GNNjYMAGjmMVZaj5jsqvhlBVq9DEfaE0Lx5xvju7767EIs7J1ctQn4Ap/o71AEP9A0zxAqCgfwEW\n",
       "e4GCK0Aci46OwI6OLri4BQPDJ3Ys6iUZmL5zYopz/2PgPOCGxf0CDNxnHVDEmQ1/GGH1Lzp4i2AC\n",
       "AAL3KRFAMapqAAAAAElFTkSuQmCC\n",
       "\" style=\"display:inline;vertical-align:middle;\" /></a><br>"
      ],
      "text/plain": [
       "n_plus_1: n + 1"
      ]
     },
     "execution_count": 3,
     "metadata": {},
     "output_type": "execute_result"
    }
   ],
   "source": [
    "n_plus_1 = Add(n, one)"
   ]
  },
  {
   "cell_type": "code",
   "execution_count": 4,
   "metadata": {},
   "outputs": [
    {
     "data": {
      "text/html": [
       "<strong id=\"sequential_x_relation\">sequential_x_relation:</strong> <a class=\"ProveItLink\" href=\"__pv_it/eb3d3ce8b831d6f084c36ccfca89ba2bce4c13500/expr.ipynb\"><img src=\"data:image/png;base64,iVBORw0KGgoAAAANSUhEUgAAAEoAAAAOBAMAAAB6N5c4AAAAMFBMVEX///8yMjK6urpERETMzMwQ\n",
       "EBAiIiKYmJju7u5mZmaqqqpUVFSIiIh2dnbc3NwAAADpJKkdAAAAAXRSTlMAQObYZgAAAQNJREFU\n",
       "KM9jYHh7+tXJAwwgwDVnC5hGiMABxwX2dNYEBt4JDAwzGVwbGG4ii0CAMwMDLwPPBy4HBqYHDOwJ\n",
       "DP0LGPSQRBgYFgCx5zagWQzcBhAtrAUM/gUMyCIMDGDGMrAs1A36DQznHRiQRZBVvXdgaGA6zMAw\n",
       "jYFBlEHHAEkEoYr9wXkGnoYe/gcMmQx8vzgO/EMSQahaX2DK8IbhxTIGjs8MjAf4uhIQIkiqms/2\n",
       "3gG62YaB68udTQwMzAcQItyCgoGCMlB3gUPthwOnAIjR34IQQXE9ONgFLrBeADEW8iJEMFTx2Tx4\n",
       "rwBiPD6HEIGqeis/BxFVagxYgAEDMWADhAIAt7NYs8WS9VEAAAAASUVORK5CYII=\n",
       "\" style=\"display:inline;vertical-align:middle;\" /></a><br>"
      ],
      "text/plain": [
       "sequential_x_relation: x_i rho_i x_(i + 1)"
      ]
     },
     "execution_count": 4,
     "metadata": {},
     "output_type": "execute_result"
    }
   ],
   "source": [
    "sequential_x_relation = Operation(Indexed(rho, i), [Indexed(x, i), Indexed(x, i_plus_1)])"
   ]
  },
  {
   "cell_type": "code",
   "execution_count": 5,
   "metadata": {},
   "outputs": [
    {
     "data": {
      "text/html": [
       "<strong id=\"sequential_x_relations\">sequential_x_relations:</strong> <a class=\"ProveItLink\" href=\"__pv_it/d51c77ed2e2907720219c452ef2fc0600295b1620/expr.ipynb\"><img src=\"data:image/png;base64,iVBORw0KGgoAAAANSUhEUgAAAQ8AAAAVBAMAAACqO3ZEAAAAMFBMVEX////c3NwiIiJERESqqqqY\n",
       "mJh2dnZmZmYQEBDu7u4yMjJUVFTMzMyIiIi6uroAAAAs73DqAAAAAXRSTlMAQObYZgAAAvhJREFU\n",
       "SMfNlkFoE0EUht+mmyab3aw5SKEWSS4eCh6CIHgRipdelK496MmSSxWVQA5SQQkEq4LQSkAsRZCm\n",
       "B9EGxKo30bIg6KEge7GiUbvoRYrFKBYRSnDmvdlN3N2Q3YPgQJm/8+Z9/Jl5M7MA/03TrfBzJ/4F\n",
       "1OGuRkhImCEnrkZbDOQuRcmoiX4wOCxVhViKuC2Mm460iMdEfzc4nCpRHw1K3GQ1SsI8ddq+4Kzn\n",
       "w9RHgxJ3I1JC3wh26mbwT175QP1G1BPDuFOsG2jsfOOQRxtUkFLx4ZGyL6Gf1v4W5IJwSi1Gwgt1\n",
       "qV2wnHuH5Rfie5I50PK8fkvaNVRzMG5cYovtzsWwTNU6CeeCjPQbCVqxNlScCk7FJrAdzeFeZ/mQ\n",
       "bsqmdpGnjYPyE1UB1uEwvHzE58p8Pob1CibnYFeQkRhIZNSFigCnkiKsaH9xW8w8qOiKj1wBbQtV\n",
       "FR7zuYdwB8EJa00u4xaoQTfKCYCnKNpQakjFJrCiMjq5LaxyS4zovyG9TTGY7WokVgVtOcDIsHOT\n",
       "taF0zyJVtNkuRi7zf7Ims8pHEjlIVSgmbbNf5TVCWzPK/hb9PmRWyakMVy40Xt48K6gkCXv849qy\n",
       "l7ufrXRmHdJkJFaC7Aiqo+kmvPUZiWMNLAoz3ClfbSG4CRmPlQu9+c2ImUQliVhlYgv2ermnAMaM\n",
       "A7CbRhbycB+VvNVXkSyfETy+WOd4UBfYmPJDCDphuKsudPAd7MgQFSVhpds1+O7lfgK4sTZXNGhk\n",
       "7EXDRqUcPH3yNdXIk/q9et2ihJTNrzPbucXnmSVlWghY4Vy80trQZ/DFoXIpsKrF9sLDTWbcLWYj\n",
       "F1wlmmdF8IrXMWL7asR2g23oDJzXBRWleALMRMn2cOOFTiNXexgphruxXajUhJmvRCVJLQvJV6aX\n",
       "67zY0plfltRylBgceFAWRnBQqYV8Oxyonocpg6goxfBnSEz6uEOdH1a54CfJEWompJEh6E31cqXe\n",
       "3w6qI96HfU2lUB8kndw/7DHoQSs6o8QAAAAASUVORK5CYII=\n",
       "\" style=\"display:inline;vertical-align:middle;\" /></a><br>"
      ],
      "text/plain": [
       "sequential_x_relations: (x_1 rho_1 x_(1 + 1)) and  ...  and (x_n rho_n x_(n + 1))"
      ]
     },
     "execution_count": 5,
     "metadata": {},
     "output_type": "execute_result"
    }
   ],
   "source": [
    "sequential_x_relations = And(Iter(i, sequential_x_relation, one, n))"
   ]
  },
  {
   "cell_type": "code",
   "execution_count": 6,
   "metadata": {},
   "outputs": [
    {
     "data": {
      "text/html": [
       "<strong id=\"x_relation_sequence\">x_relation_sequence:</strong> <a class=\"ProveItLink\" href=\"__pv_it/18d4590481f14641c99d268445781bec4e7f2ca60/expr.ipynb\"><img src=\"data:image/png;base64,iVBORw0KGgoAAAANSUhEUgAAAJ8AAAAOBAMAAADDD9M1AAAAMFBMVEX///+6uroyMjJERETMzMwQ\n",
       "EBAiIiKYmJju7u5mZmaqqqpUVFSIiIh2dnbc3NwAAAAWgogoAAAAAXRSTlMAQObYZgAAAZ1JREFU\n",
       "OMutkTFLw0AYht/Y1iZpjAV1E5SCm0MXN4f4A4SCRR0UOgiucSm4iCDiYmlxEys4uAiCoqtIdFEp\n",
       "pcVFwQodRZRWKFYdxNx9F5u2URx8lzwJz7357g54zj1eWaDs5Qx4xe00JL10up9tc+VicD6QgD9q\n",
       "s5LxTxN5OhQu8aSQNCebRLa2C1pVNfxbzE9C/iBqDjnihUlERRSw6zgq62NrZYTYSCqrmYK/TtQy\n",
       "ITkULvEs47jh+OC0IGAJlN6g1bwKhcNDksiMZ2HFsP/FUEmgI+ZdyJxgtv9OSITQa/bwi2f5Q3dh\n",
       "sFyARoWdGVR2RKFMeyIgZ23A7DRIIlzSqriUF+qYcxcemCN4IkxHMeyMnWbH+yqAnIdzdJdJ4qjW\n",
       "fTHd0tcH8ekuXMmnSqboHs+FncJV+xbkCQHCOUGfIzGUR2/vL4CQJcVwFBmKRCz3cTHcQONgvRLH\n",
       "piQkjuK+DCUTbrqU75rZ3wv1KuK9JBGK+0JgzGgr1K/fLf3FIe9CKYptkySO4nMPlBtxhi1rpR/3\n",
       "+hfJh39OSDy/AIXjjdVRBYi1AAAAAElFTkSuQmCC\n",
       "\" style=\"display:inline;vertical-align:middle;\" /></a><br>"
      ],
      "text/plain": [
       "x_relation_sequence: x_1 rho_1  ...   x_n rho_n x_(n + 1)"
      ]
     },
     "execution_count": 6,
     "metadata": {},
     "output_type": "execute_result"
    }
   ],
   "source": [
    "x_relation_sequence = OperationSequence([Iter(i, Indexed(rho, i), one, n)], [Iter(i, Indexed(x, i), one, n), Indexed(x, n_plus_1)])"
   ]
  },
  {
   "cell_type": "code",
   "execution_count": 7,
   "metadata": {},
   "outputs": [
    {
     "data": {
      "text/html": [
       "<strong id=\"less_eq_relations\">less_eq_relations:</strong> <a class=\"ProveItLink\" href=\"__pv_it/7bc7ad9fcc1d2d481be86cef8dce5c57d078062b0/expr.ipynb\"><img src=\"data:image/png;base64,iVBORw0KGgoAAAANSUhEUgAAAFUAAAAVBAMAAADFg78FAAAAMFBMVEX///9ERETc3NyqqqpUVFS6\n",
       "urrMzMwyMjIQEBCIiIh2dnYiIiLu7u5mZmaYmJgAAABJJ2g3AAAAAXRSTlMAQObYZgAAAP9JREFU\n",
       "KM9jYGDgu8dAELCtUgBRPLsYiABszSCS8wMxahmugwiuBmxSnFvRBFagqGW6hpA5tZMBn1o29wC4\n",
       "xNl9DPjUspYkwMVVihnwqWWuVYALp5Qy4FDLWwDyyq4DcNGDYggVvOVg4MDA8B7EzQA6kwvZK5w7\n",
       "D2Axl/0C0MI2kFGiyMJ8u7ApFn/AwBAB8lMKim+QHQ8D3AuABAvIvQy6KKEEDxTe3WAgAHUv1wZo\n",
       "6AMt5oFHv2ACgoMZFyBXnt8AV+yKxMGMY+YyhhOfkGRROGhqQSCIARcHU+0DBlwcsFo+dLXaYK9v\n",
       "RVMLTr88SHHGiZKEUfJFKyQAFhOZ3wC9D0sdukcx3gAAAABJRU5ErkJggg==\n",
       "\" style=\"display:inline;vertical-align:middle;\" /></a><br>"
      ],
      "text/plain": [
       "less_eq_relations: {< , <= , =}"
      ]
     },
     "execution_count": 7,
     "metadata": {},
     "output_type": "execute_result"
    }
   ],
   "source": [
    "less_eq_relations = Set(Less._operator_, LessEq._operator_, Equals._operator_)"
   ]
  },
  {
   "cell_type": "code",
   "execution_count": 8,
   "metadata": {},
   "outputs": [
    {
     "data": {
      "text/html": [
       "<strong id=\"greater_eq_relations\">greater_eq_relations:</strong> <a class=\"ProveItLink\" href=\"__pv_it/40d27932c47497d1e04935867994b35b277c78120/expr.ipynb\"><img src=\"data:image/png;base64,iVBORw0KGgoAAAANSUhEUgAAAFUAAAAVBAMAAADFg78FAAAAMFBMVEX///9ERETc3NyqqqpUVFS6\n",
       "urrMzMwyMjIQEBCIiIh2dnYiIiLu7u5mZmaYmJgAAABJJ2g3AAAAAXRSTlMAQObYZgAAAQFJREFU\n",
       "KM9jYGDgu8dAELCtUgBRPLsYiABszSCS8wMxahmugwiuBjTR02uwqV0BU6uSgCxsfgmfWjbBAGTx\n",
       "QDc8ahmY3A2QJRJF8ahl4Fn9AFlGpRSrWt4CMJtnNoqXdLeBKd5yMHBgYHgP4mbAnPr6DpJaFA4I\n",
       "sF9gYEhpg/FSiuASaJaAgTjQkRHQ8AoUQyhdPQFDKfcCIMECca+5E1yY6Tbcn7y7wUAA6l6uDWD3\n",
       "gS3lYUAKPx7sYcazeg5Y4DxInyLUs2AOplptqKUnPiHJonCQ4wIKghhwcTDVokTeAwy1fOhqtcFe\n",
       "34qmFpx+eXYiBDiRZVE4bK1gim8xkfkNAGkVS4bGMaBOAAAAAElFTkSuQmCC\n",
       "\" style=\"display:inline;vertical-align:middle;\" /></a><br>"
      ],
      "text/plain": [
       "greater_eq_relations: {> , >= , =}"
      ]
     },
     "execution_count": 8,
     "metadata": {},
     "output_type": "execute_result"
    }
   ],
   "source": [
    "greater_eq_relations = Set(Greater._operator_, GreaterEq._operator_, Equals._operator_)"
   ]
  },
  {
   "cell_type": "code",
   "execution_count": 9,
   "metadata": {},
   "outputs": [
    {
     "name": "stdout",
     "output_type": "stream",
     "text": [
      "Common expressions may be imported from autogenerated _common_.py\n"
     ]
    }
   ],
   "source": [
    "%end common"
   ]
  },
  {
   "cell_type": "code",
   "execution_count": null,
   "metadata": {},
   "outputs": [],
   "source": []
  }
 ],
 "metadata": {
  "kernelspec": {
   "display_name": "Python 3",
   "language": "python",
   "name": "python3"
  }
 },
 "nbformat": 4,
 "nbformat_minor": 0
}
