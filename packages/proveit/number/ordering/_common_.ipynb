{
 "cells": [
  {
   "cell_type": "markdown",
   "metadata": {
    "collapsed": true
   },
   "source": [
    "Common expressions for context <a href=\"_context_.ipynb\" class=\"ProveItLink\">proveit.number.ordering</a>\n",
    "========"
   ]
  },
  {
   "cell_type": "code",
   "execution_count": 1,
   "metadata": {},
   "outputs": [
    {
     "name": "stdout",
     "output_type": "stream",
     "text": [
      "Defining common sub-expressions for context 'proveit.number.ordering'\n",
      "Subsequent end-of-cell assignments will define common sub-expressions\n",
      "%end_common will finalize the definitions\n"
     ]
    }
   ],
   "source": [
    "from proveit import Lambda\n",
    "from proveit._common_ import x, i, j, n, rho\n",
    "from proveit import Indexed, Iter\n",
    "from proveit.number import Less, LessEq, Greater, GreaterEq, Add, zero, one\n",
    "from proveit import Operation, OperationSequence\n",
    "from proveit.logic import And, Set, Equals\n",
    "%begin common"
   ]
  },
  {
   "cell_type": "code",
   "execution_count": 2,
   "metadata": {},
   "outputs": [
    {
     "data": {
      "text/html": [
       "<strong id=\"i_plus_1\">i_plus_1:</strong> <a class=\"ProveItLink\" href=\"__pv_it/fab2d2772d722021eb36876f00210e381ead754e0/expr.ipynb\"><img src=\"__pv_it/fab2d2772d722021eb36876f00210e381ead754e0/expr.png\" style=\"display:inline;vertical-align:middle;\" /></a><br>"
      ],
      "text/plain": [
       "i_plus_1: i + 1"
      ]
     },
     "execution_count": 2,
     "metadata": {},
     "output_type": "execute_result"
    }
   ],
   "source": [
    "i_plus_1 = Add(i, one)"
   ]
  },
  {
   "cell_type": "code",
   "execution_count": 3,
   "metadata": {},
   "outputs": [
    {
     "data": {
      "text/html": [
       "<strong id=\"n_plus_1\">n_plus_1:</strong> <a class=\"ProveItLink\" href=\"__pv_it/321d72d3610885bf8b475d72516c88f850d472280/expr.ipynb\"><img src=\"__pv_it/321d72d3610885bf8b475d72516c88f850d472280/expr.png\" style=\"display:inline;vertical-align:middle;\" /></a><br>"
      ],
      "text/plain": [
       "n_plus_1: n + 1"
      ]
     },
     "execution_count": 3,
     "metadata": {},
     "output_type": "execute_result"
    }
   ],
   "source": [
    "n_plus_1 = Add(n, one)"
   ]
  },
  {
   "cell_type": "code",
   "execution_count": 4,
   "metadata": {},
   "outputs": [
    {
     "data": {
      "text/html": [
       "<strong id=\"sequential_x_relation\">sequential_x_relation:</strong> <a class=\"ProveItLink\" href=\"__pv_it/4c9d2cab9df4e5e5899fce990945cb562886f11b0/expr.ipynb\"><img src=\"__pv_it/4c9d2cab9df4e5e5899fce990945cb562886f11b0/expr.png\" style=\"display:inline;vertical-align:middle;\" /></a><br>"
      ],
      "text/plain": [
       "sequential_x_relation: x_i rho_i x_(i + 1)"
      ]
     },
     "execution_count": 4,
     "metadata": {},
     "output_type": "execute_result"
    }
   ],
   "source": [
    "sequential_x_relation = Operation(Indexed(rho, i), [Indexed(x, i), Indexed(x, i_plus_1)])"
   ]
  },
  {
   "cell_type": "code",
   "execution_count": 5,
   "metadata": {},
   "outputs": [
    {
     "data": {
      "text/html": [
       "<strong id=\"sequential_x_relations\">sequential_x_relations:</strong> <a class=\"ProveItLink\" href=\"__pv_it/8602aae1e766c014266725cb66ffb211292d901a0/expr.ipynb\"><img src=\"__pv_it/8602aae1e766c014266725cb66ffb211292d901a0/expr.png\" style=\"display:inline;vertical-align:middle;\" /></a><br>"
      ],
      "text/plain": [
       "sequential_x_relations: (x_1 rho_1 x_(1 + 1)) and  ...  and (x_n rho_n x_(n + 1))"
      ]
     },
     "execution_count": 5,
     "metadata": {},
     "output_type": "execute_result"
    }
   ],
   "source": [
    "sequential_x_relations = And(Iter(i, sequential_x_relation, one, n))"
   ]
  },
  {
   "cell_type": "code",
   "execution_count": 6,
   "metadata": {},
   "outputs": [
    {
     "data": {
      "text/html": [
       "<strong id=\"x_relation_sequence\">x_relation_sequence:</strong> <a class=\"ProveItLink\" href=\"__pv_it/4725cfa700957737ab9b7ee9dd159cdd70711c280/expr.ipynb\"><img src=\"__pv_it/4725cfa700957737ab9b7ee9dd159cdd70711c280/expr.png\" style=\"display:inline;vertical-align:middle;\" /></a><br>"
      ],
      "text/plain": [
       "x_relation_sequence: x_1 rho_1  ... x_n rho_n x_(n + 1)"
      ]
     },
     "execution_count": 6,
     "metadata": {},
     "output_type": "execute_result"
    }
   ],
   "source": [
    "x_relation_sequence = OperationSequence([Iter(i, Indexed(rho, i), one, n)], [Iter(i, Indexed(x, i), one, n), Indexed(x, n_plus_1)])"
   ]
  },
  {
   "cell_type": "code",
   "execution_count": 7,
   "metadata": {},
   "outputs": [
    {
     "data": {
      "text/html": [
       "<strong id=\"less_eq_relations\">less_eq_relations:</strong> <a class=\"ProveItLink\" href=\"__pv_it/3a913c0e04847c6854155517f5b0e8af7cdbbf410/expr.ipynb\"><img src=\"__pv_it/3a913c0e04847c6854155517f5b0e8af7cdbbf410/expr.png\" style=\"display:inline;vertical-align:middle;\" /></a><br>"
      ],
      "text/plain": [
       "less_eq_relations: {< , <= , =}"
      ]
     },
     "execution_count": 7,
     "metadata": {},
     "output_type": "execute_result"
    }
   ],
   "source": [
    "less_eq_relations = Set(Less._operator_, LessEq._operator_, Equals._operator_)"
   ]
  },
  {
   "cell_type": "code",
   "execution_count": 8,
   "metadata": {},
   "outputs": [
    {
     "data": {
      "text/html": [
       "<strong id=\"greater_eq_relations\">greater_eq_relations:</strong> <a class=\"ProveItLink\" href=\"__pv_it/d19fdad7aa2d9c13d5aa8a7d168a806ff3b6a07a0/expr.ipynb\"><img src=\"__pv_it/d19fdad7aa2d9c13d5aa8a7d168a806ff3b6a07a0/expr.png\" style=\"display:inline;vertical-align:middle;\" /></a><br>"
      ],
      "text/plain": [
       "greater_eq_relations: {> , >= , =}"
      ]
     },
     "execution_count": 8,
     "metadata": {},
     "output_type": "execute_result"
    }
   ],
   "source": [
    "greater_eq_relations = Set(Greater._operator_, GreaterEq._operator_, Equals._operator_)"
   ]
  },
  {
   "cell_type": "code",
   "execution_count": 9,
   "metadata": {},
   "outputs": [
    {
     "name": "stdout",
     "output_type": "stream",
     "text": [
      "Common expressions may be imported from autogenerated _common_.py\n"
     ]
    }
   ],
   "source": [
    "%end common"
   ]
  },
  {
   "cell_type": "code",
   "execution_count": null,
   "metadata": {},
   "outputs": [],
   "source": []
  }
 ],
 "metadata": {
  "kernelspec": {
   "display_name": "Python 3",
   "language": "python",
   "name": "python3"
  },
  "language_info": {
   "codemirror_mode": {
    "name": "ipython",
    "version": 3
   },
   "file_extension": ".py",
   "mimetype": "text/x-python",
   "name": "python",
   "nbconvert_exporter": "python",
   "pygments_lexer": "ipython3",
   "version": "3.7.0"
  }
 },
 "nbformat": 4,
 "nbformat_minor": 1
}
