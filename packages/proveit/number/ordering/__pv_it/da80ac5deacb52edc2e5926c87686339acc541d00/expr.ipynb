{
 "cells": [
  {
   "cell_type": "markdown",
   "metadata": {},
   "source": [
    "Expression of type <a class=\"ProveItLink\" href=\"../../../../../../doc/html/api/proveit.Lambda.html\">Lambda</a>\n",
    "=======================\n",
    "# from context <a class=\"ProveItLink\" href=\"../../_context_.ipynb\">proveit.number.ordering</a>"
   ]
  },
  {
   "cell_type": "code",
   "execution_count": 1,
   "metadata": {},
   "outputs": [],
   "source": [
    "# import Expression classes needed to build the expression\n",
    "from proveit import Lambda\n",
    "from proveit._common_ import x, y\n",
    "from proveit.logic import Forall\n",
    "from proveit.number import Greater, Less"
   ]
  },
  {
   "cell_type": "code",
   "execution_count": 2,
   "metadata": {},
   "outputs": [
    {
     "data": {
      "text/html": [
       "<strong id=\"expr\">expr:</strong> <a class=\"ProveItLink\" href=\"expr.ipynb\"><img src=\"data:image/png;base64,iVBORw0KGgoAAAANSUhEUgAAAM4AAAAZCAMAAABO+uFhAAAANlBMVEX///+6uroUFBQNDQ0yMjJE\n",
       "RETMzMwQEBAiIiKYmJju7u5mZmaqqqpUVFSIiIh2dnbc3NwAAACltDI1AAAAAXRSTlMAQObYZgAA\n",
       "AppJREFUWMPtWNl26yAMhF72RcD//2zB2BhjJY6Xe9qH8hK3zjgzSBoJE3JycaVUJL9w0UwsnEYp\n",
       "8ntX9H9yCDH/KV3gEkzTm3LWCGl4To3wF4FW3JMT3PIXezBQ15/F7smJfMHz59TAYaBjC8OYbuGe\n",
       "FSwbad1zcqQ5ykVGX9wy8p4cHeK0HrQ5yg5ue/GmGbpVTgzgowMLQybW5Rxm1ImXdaFtva7n+Vkm\n",
       "TFcx9cFyzA6te0s62CbHZLRWmkiFdxZvEDl1qzg6HtBr5azrZyA0lUpKXVWpMCbiQNqxJifMYCdw\n",
       "OcbHvRxawmrw/MDsIR7ORbLugnDElp/g7SlBIR4xkKZyjU7Z7J7Cvy+1WTLR/VRQPkB/Lofbg0qf\n",
       "fyR/Sxb6adFgOEfCPZAWaWMFEt6MMZ4iQ06RoszHckotB/OBnLzhpWpEEr2loQbakd7KiRPY4HKG\n",
       "Ipzv5kSbuzgFvrXZXk4uWAqzJzkGBEdM5BbKtqQwyG3DUftE6El3yaZjrTvA5QjAR1Aea9QMkBSJ\n",
       "kGh0ckBySjSmeqr3PWJCLYRZcSnux9JX0MsfSOtmBS5pwvOjY6MNuyzF5Dhbr6Kh+QI4KoeujrWY\n",
       "VEQQndfm6GQlNO2joTt/G0mvRm04BBPCi7J+c0BoqeuzzXh4VTspbgsIQ9TTV6t9AJswJ3RMrN/Z\n",
       "kJ7nhTvnHW06i5XihZySU8s9sdjbiKj/7BSEc+PG3SFny0PUzreXkw0nsNokipjWwEZEP0d6Veid\n",
       "mwUDPCjHeeAMlZNzwlmYUj76boQYEf0BoQxO/NzwZG4eEHYNf1MIWN+hXLxB9GRcrpyTY1KL+hNy\n",
       "8lZup+HDM9AOsbC5drQF8eSrj7ydgZySs0P85KuPw/dsnvzIKu/Z/DdBFxqMsgX8uAAAAABJRU5E\n",
       "rkJggg==\n",
       "\" style=\"display:inline;vertical-align:middle;\" /></a><br>"
      ],
      "text/plain": [
       "expr: x -> [forall_{y | x > y} (y < x)]"
      ]
     },
     "execution_count": 2,
     "metadata": {},
     "output_type": "execute_result"
    }
   ],
   "source": [
    "# build up the expression from sub-expressions\n",
    "expr = Lambda(x, Forall([y], Less(y, x), conditions = [Greater(x, y)]))"
   ]
  },
  {
   "cell_type": "code",
   "execution_count": 3,
   "metadata": {},
   "outputs": [
    {
     "name": "stdout",
     "output_type": "stream",
     "text": [
      "Passed sanity check: built 'expr' is the same as the stored Expression.\n"
     ]
    }
   ],
   "source": [
    "# check that the built expression is the same as the stored expression\n",
    "%check_expr"
   ]
  },
  {
   "cell_type": "code",
   "execution_count": 4,
   "metadata": {},
   "outputs": [
    {
     "data": {
      "text/html": [
       "<table><tr><th>&nbsp;</th><th>core type</th><th>sub-expressions</th><th>expression</th></tr>\n",
       "<tr><td>0</td><td>Lambda</td><td>parameter:&nbsp;11<br>body:&nbsp;1<br></td><td><a class=\"ProveItLink\" href=\"expr.ipynb\"><img src=\"data:image/png;base64,iVBORw0KGgoAAAANSUhEUgAAAM4AAAAZCAMAAABO+uFhAAAANlBMVEX///+6uroUFBQNDQ0yMjJE\n",
       "RETMzMwQEBAiIiKYmJju7u5mZmaqqqpUVFSIiIh2dnbc3NwAAACltDI1AAAAAXRSTlMAQObYZgAA\n",
       "AppJREFUWMPtWNl26yAMhF72RcD//2zB2BhjJY6Xe9qH8hK3zjgzSBoJE3JycaVUJL9w0UwsnEYp\n",
       "8ntX9H9yCDH/KV3gEkzTm3LWCGl4To3wF4FW3JMT3PIXezBQ15/F7smJfMHz59TAYaBjC8OYbuGe\n",
       "FSwbad1zcqQ5ykVGX9wy8p4cHeK0HrQ5yg5ue/GmGbpVTgzgowMLQybW5Rxm1ImXdaFtva7n+Vkm\n",
       "TFcx9cFyzA6te0s62CbHZLRWmkiFdxZvEDl1qzg6HtBr5azrZyA0lUpKXVWpMCbiQNqxJifMYCdw\n",
       "OcbHvRxawmrw/MDsIR7ORbLugnDElp/g7SlBIR4xkKZyjU7Z7J7Cvy+1WTLR/VRQPkB/Lofbg0qf\n",
       "fyR/Sxb6adFgOEfCPZAWaWMFEt6MMZ4iQ06RoszHckotB/OBnLzhpWpEEr2loQbakd7KiRPY4HKG\n",
       "Ipzv5kSbuzgFvrXZXk4uWAqzJzkGBEdM5BbKtqQwyG3DUftE6El3yaZjrTvA5QjAR1Aea9QMkBSJ\n",
       "kGh0ckBySjSmeqr3PWJCLYRZcSnux9JX0MsfSOtmBS5pwvOjY6MNuyzF5Dhbr6Kh+QI4KoeujrWY\n",
       "VEQQndfm6GQlNO2joTt/G0mvRm04BBPCi7J+c0BoqeuzzXh4VTspbgsIQ9TTV6t9AJswJ3RMrN/Z\n",
       "kJ7nhTvnHW06i5XihZySU8s9sdjbiKj/7BSEc+PG3SFny0PUzreXkw0nsNokipjWwEZEP0d6Veid\n",
       "mwUDPCjHeeAMlZNzwlmYUj76boQYEf0BoQxO/NzwZG4eEHYNf1MIWN+hXLxB9GRcrpyTY1KL+hNy\n",
       "8lZup+HDM9AOsbC5drQF8eSrj7ydgZySs0P85KuPw/dsnvzIKu/Z/DdBFxqMsgX8uAAAAABJRU5E\n",
       "rkJggg==\n",
       "\" style=\"display:inline;vertical-align:middle;\" /></a></td></tr>\n",
       "<tr><td>1</td><td>Operation</td><td>operator:&nbsp;2<br>operand:&nbsp;3<br></td><td><a class=\"ProveItLink\" href=\"../6a3a39bb7617a276197cb78eb8952ee1102fcc6a0/expr.ipynb\"><img src=\"data:image/png;base64,iVBORw0KGgoAAAANSUhEUgAAAJMAAAAXBAMAAAD96mDoAAAAMFBMVEX///8QEBC6urrMzMxUVFRm\n",
       "ZmZERETc3NwyMjKqqqp2dnaIiIiYmJgiIiLu7u4AAAAU9Wx4AAAAAXRSTlMAQObYZgAAAjVJREFU\n",
       "OMutlT9oE1Ecx7/5d9dckjPYqZRCB5EsxQguTpYKUXQR20EsWBFNBx1u0GaqHtgOioigguDgLUU0\n",
       "NBxUApL+CV0URcjcOlyXDroECzro4O/da957vebCVXzw7n4v38fn3u/3+94F+H/Di7417oZr6zRb\n",
       "LPgcCXWih5YqAm9Y8DgSqucuG5ihm341CikTzE8fVxafgD4qVupJFFQsUNbE2WFltQVkX1cqs5Hy\n",
       "KwSaMFdUlxod52e5vBEJdRkwFxzc44dLz1u7aVbPvJwEjAvAaWBa7h8ORz2i/fE21njhNjrpfsOX\n",
       "5hChqe5HYNpyv2xAJYg6DJxMtVBmsbEpfnYI/pTyzQM5ZJrdUDNXAqgf5OeYi98s3r6meLzkN6FN\n",
       "R23mvG4oFGr7UHjlJXa4XR9IYbCDMm1ycby+22uOqo69o/a8cBUBGKB5CZk8X935Kuy1A5MniOkx\n",
       "4Psh67g8leGVYsxqH5tSAG7RnIc22in3Jn/Eh0wbq2QqVvDn9BreHUFdouKsW2ysWEIAFmhO4Jgo\n",
       "bNZvYvqPltddbgbE2AtxDufVWv3iLnwoBWCElbsxZYkape/TxbxZe7tM9z5mo6znd7pfQSXyCXa9\n",
       "4UmBHulDFkNctyWifjKfQJ0ybINI1y1FoEc6SLbMgRBUVUTP6rZEbb+frEEvWargf2RyjuZ0J0mb\n",
       "61bSDfjqaHGPQOM20o2LIYdKihJqTmGfRfcKDNvjg7wkm9FwuqOEcPAx+u9/OH8Bh7+IADy/g9cA\n",
       "AAAASUVORK5CYII=\n",
       "\" style=\"display:inline;vertical-align:middle;\" /></a></td></tr>\n",
       "<tr><td>2</td><td>Literal</td><td></td><td><a class=\"ProveItLink\" href=\"../../../../logic/boolean/quantification/universal/__pv_it/265f8c02ac1094d56e0e6410a1c1fd3500dc9f540/expr.ipynb\"><img src=\"data:image/png;base64,iVBORw0KGgoAAAANSUhEUgAAAAwAAAAQBAMAAADQT4M0AAAAMFBMVEX///8QEBC6urrMzMxUVFRm\n",
       "ZmZERETc3NwyMjKqqqp2dnaIiIiYmJgiIiLu7u4AAAAU9Wx4AAAAAXRSTlMAQObYZgAAAFhJREFU\n",
       "CNdjeMAABhdAxGmGlSCqj6EMSLInMHAAJVknMPAsLy+vBYp8S0u7BaScGRjSgZQKA18DkOJl4D4A\n",
       "pLgP8IJM4mswARuX7gSmpoKNZWDcAKZ4gCoAgTQTILaSE58AAAAASUVORK5CYII=\n",
       "\" style=\"display:inline;vertical-align:middle;\" /></a></td></tr>\n",
       "<tr><td>3</td><td>Lambda</td><td>parameter:&nbsp;12<br>body:&nbsp;4<br>conditions:&nbsp;5<br></td><td><a class=\"ProveItLink\" href=\"../369087273294cb5364ca3fac75417d1b8b6eae150/expr.ipynb\"><img src=\"data:image/png;base64,iVBORw0KGgoAAAANSUhEUgAAALcAAAAVCAMAAAAzZI9IAAAANlBMVEX///8UFBQNDQ2YmJhUVFQy\n",
       "MjIQEBBEREQiIiKqqqrMzMyIiIi6urrc3NxmZmZ2dnbu7u4AAACrLjZHAAAAAXRSTlMAQObYZgAA\n",
       "AeZJREFUSMfFV+magyAQY1fum/d/2YVCdeRQsX5b/7SVCQljghShr13C/CebVrdgi25uOf2PsiW+\n",
       "CbTyq7qJv438pm516hLTNrY4xU3pNlg+qJv6MxuRkRpP5/otGXvsgWhyMnzUJCYmfWIwEeNR72x6\n",
       "gib4rhEFhFrXh+RKYqudzTiFjVA2m8vZA9370k0bX0ZaHdIhOTe8B/l+egzEkTxLA0k/uPNNR6Kr\n",
       "IzHlZV1j3VUpGNjNC4ilQDYVMzbQ7fHWRfqiaiHI8U5gXaEQ2TyajnVXpftAc1uUQ+J4iybOsBL/\n",
       "/vDdRcNKkL+1EN/NUGLD29pkOOj3vrTOulmrALFIbpFBDvqN8Db/ewU15DV5N0NUXdJdlcKsMwZo\n",
       "ILFNvlPbQ6x0w7DRoq2G5I17n6F880XhT31SlYKs413WITFJOWd4oFvCLrCirIas6VeQdzE5uuXm\n",
       "cpDLqnR1dp11SGzjhw5br1Rj0o2qbGU1pMskYgGLrTEKne2DdWmvCw2xZ0rZcOlQqTk6gwgi17Aq\n",
       "551T7+XVb1Kguy5Ntum4riV2/OJ7fh5y9z0/vAox5mlOcfEY7aYhK536XDck5lEKc1Pn2DlIafcT\n",
       "51hILKJjrs9g8DSktMo8oPsO8Vv4vf9pqn2Bq0+OqX+gPReLWhtyUwAAAABJRU5ErkJggg==\n",
       "\" style=\"display:inline;vertical-align:middle;\" /></a></td></tr>\n",
       "<tr><td>4</td><td>Operation</td><td>operator:&nbsp;6<br>operands:&nbsp;7<br></td><td><a class=\"ProveItLink\" href=\"../245653d85236f35093611e2f9df9dacb5710f6c30/expr.ipynb\"><img src=\"data:image/png;base64,iVBORw0KGgoAAAANSUhEUgAAADIAAAAQBAMAAACmdTG/AAAAMFBMVEX///+YmJhUVFQyMjIQEBBE\n",
       "REQiIiKqqqrMzMyIiIi6urrc3NxmZmZ2dnbu7u4AAADXeCicAAAAAXRSTlMAQObYZgAAAMNJREFU\n",
       "GNNjYEAB3CcYsAMO5QXYJbiMGpB4fHcuMOx/AGay22yAmnlTu/IkAy/XB4b5YD5n7gOo6rcMYgJu\n",
       "DO08CQyhIC5vJtycC0C1FQwPWCYw/ARxn0bBZR4wqIKo+gccP8D8JnOE7Z4g4jADpwOEuycR7q0f\n",
       "DHwMDDYMrAowmzMhbpDm/MAwj4HhEMN6AZhaRrDz2D+yOnBPANo88/wGuPnsFiAvRt67OxHMvYY9\n",
       "RJgS+Nyxy7BdYL2AXYZ95insEgDuDy+/4TqUqgAAAABJRU5ErkJggg==\n",
       "\" style=\"display:inline;vertical-align:middle;\" /></a></td></tr>\n",
       "<tr><td>5</td><td>ExprTuple</td><td>8</td><td><a class=\"ProveItLink\" href=\"../e10b2181f32619b82e415ae0ef652a68b5d0c45b0/expr.ipynb\"><img src=\"data:image/png;base64,iVBORw0KGgoAAAANSUhEUgAAAD8AAAAVBAMAAAADRiu8AAAAMFBMVEX////c3NwiIiJERESqqqqY\n",
       "mJh2dnZmZmYQEBDu7u4yMjJUVFTMzMyIiIi6uroAAAAs73DqAAAAAXRSTlMAQObYZgAAATBJREFU\n",
       "KM9jYCAI+C7glosDEafxaGY/ACRW4jN+AQMDL5INjHvQFYQxMHBMQOIftkNTMIOB4RWKgPQSVAXM\n",
       "DgxlQErstsh1qE3TVCE0Z3oCg/wEBrYChqVATgKrKocCVM9cNbCdbHwfGO4zMLAsYOgDchh4P7Ac\n",
       "gJnKqg5ScYRdgcEYGEgNDP+AJjBwGyCs5dklACQncFxg+AvkfAApAHoF4Vc+Y4hZ/hN4/oAVtIB4\n",
       "8gcYoL5lWS0AYVQx8DaArTAF2ipwn4EXooBVDRYsyxmYNwD5CxjSgaYFWDDIQjypCw+2aob3AQwg\n",
       "bz5iYJh8bVpuADioVRFunXy3HmgZ1wMGDgFcEZUECWrWBKyy3AqcIOfn4oxupgRmoE7OBaD4waqA\n",
       "5W4dyByQ/Yx4ktwdBgYA7oxBaKmA2F8AAAAASUVORK5CYII=\n",
       "\" style=\"display:inline;vertical-align:middle;\" /></a></td></tr>\n",
       "<tr><td>6</td><td>Literal</td><td></td><td><a class=\"ProveItLink\" href=\"../7c444b9b2efa607ed6397b492680dde2810212f00/expr.ipynb\"><img src=\"data:image/png;base64,iVBORw0KGgoAAAANSUhEUgAAAA4AAAAMBAMAAACgrpHpAAAALVBMVEX///+YmJhERETu7u52dnYi\n",
       "IiKIiIiqqqq6uroyMjJUVFTMzMxmZmbc3NwAAADmAst+AAAAAXRSTlMAQObYZgAAAD5JREFUCNdj\n",
       "YAAB3tNgintlA4jimLUBRLHPuQCi2EIMQBRLGFgJg5EGhGbYNR3KuBMIZZiEGUAYjCFQBvtsABzC\n",
       "Cm98G6SsAAAAAElFTkSuQmCC\n",
       "\" style=\"display:inline;vertical-align:middle;\" /></a></td></tr>\n",
       "<tr><td>7</td><td>ExprTuple</td><td>12, 11</td><td><a class=\"ProveItLink\" href=\"../470bbc9880f0fcda6ab2160544dedf05732e41640/expr.ipynb\"><img src=\"data:image/png;base64,iVBORw0KGgoAAAANSUhEUgAAACwAAAAVBAMAAADP3xFXAAAAMFBMVEX////c3NwiIiJERESqqqqY\n",
       "mJh2dnZmZmYQEBDu7u4yMjJUVFTMzMyIiIi6uroAAAAs73DqAAAAAXRSTlMAQObYZgAAAQdJREFU\n",
       "GNN1kLtKA0EUQI8mu5kYJ2whNiLZxl5QwW+wydZWg00qWwsVTWEtC0IINlYiNqJ/sIWdhVOZIoSo\n",
       "ldgYeyPecYOvMQP3wZn7hjGvav+S4F7UjR+5K3Lu4ynQ1seBQaU+Ljd5/m+MZbbks2Go5Umz3ZmO\n",
       "VG1wCmF1QD/PNsGCimGNQ7guxSx94hA9KGbwxDukyjLMo6ksOnvrMPV0+m3UTNkcH4jeRjdHuJaR\n",
       "uiIr4p9RuJQCskfURwtel1lgh5eEE5mgnqwyjxvwUfRRbz+i/SrOXWszEXCBilzJDZGHn8vLWSpx\n",
       "2TVOvnBo3WEnTcH8wscicxR7e2L196WuRCa8g+uMDxGWOvpEaKwNAAAAAElFTkSuQmCC\n",
       "\" style=\"display:inline;vertical-align:middle;\" /></a></td></tr>\n",
       "<tr><td>8</td><td>Operation</td><td>operator:&nbsp;9<br>operands:&nbsp;10<br></td><td><a class=\"ProveItLink\" href=\"../eff9c6e281218fa825e820edab2a064d74580ed00/expr.ipynb\"><img src=\"data:image/png;base64,iVBORw0KGgoAAAANSUhEUgAAADMAAAAQBAMAAABJt1qBAAAAMFBMVEX///8yMjK6urpERETMzMwQ\n",
       "EBAiIiKYmJju7u5mZmaqqqpUVFSIiIh2dnbc3NwAAADpJKkdAAAAAXRSTlMAQObYZgAAAMlJREFU\n",
       "GNNjYIABvi0MOIGzEW6511JoAm9Pvzp5AMLsTYfQHDcvMLxvYOC4wJ7OmgBV1pPbAKJ4mT4wnAdS\n",
       "DDwfuBxgRrBnguS8OBMYjIGaGbgNEKazbHwAJBtYDzD8AXFZD8BlmIwh+tc3sHwB0e8dGBogMlzS\n",
       "DyCMiQw8AUDTH5xn4IFIsedClTBIMjBvAOotMGV4A3F6DkyGYTaDfgEDQ/PZ3jsF4IBKR7im+cz8\n",
       "BzhD5hoOce4EjigcUmwXmC/gkOI6MwlIAgAqLDHH/LLsegAAAABJRU5ErkJggg==\n",
       "\" style=\"display:inline;vertical-align:middle;\" /></a></td></tr>\n",
       "<tr><td>9</td><td>Literal</td><td></td><td><a class=\"ProveItLink\" href=\"../fed4085ae483b560677c9d938187885e1d910a490/expr.ipynb\"><img src=\"data:image/png;base64,iVBORw0KGgoAAAANSUhEUgAAAA4AAAAMBAMAAACgrpHpAAAALVBMVEX///9mZmaIiIiYmJgiIiJ2\n",
       "dnbu7u6qqqoyMjK6urpERETMzMxUVFTc3NwAAADHHImEAAAAAXRSTlMAQObYZgAAADlJREFUCNdj\n",
       "uLOBAQy4V02AMHhPFEAYbCEGUIZKGITBYCIGoff0gqlZq8FUxVmIZBhElxqYdwWiGQBNjQtMyuln\n",
       "xAAAAABJRU5ErkJggg==\n",
       "\" style=\"display:inline;vertical-align:middle;\" /></a></td></tr>\n",
       "<tr><td>10</td><td>ExprTuple</td><td>11, 12</td><td><a class=\"ProveItLink\" href=\"../a6a2ac9310c73e21661c7634808321702fb219240/expr.ipynb\"><img src=\"data:image/png;base64,iVBORw0KGgoAAAANSUhEUgAAACwAAAAVBAMAAADP3xFXAAAAMFBMVEX////c3NwiIiJERESqqqqY\n",
       "mJh2dnZmZmYQEBDu7u4yMjJUVFTMzMyIiIi6uroAAAAs73DqAAAAAXRSTlMAQObYZgAAAQtJREFU\n",
       "GNNjYMAB+C6gi7A+ABKnMVXWAPFKTGEuBgbeC5jCrAkMHBMwhTkbGF5hc4YJQxmQFLstch1i1rQy\n",
       "BsafDAzpDEuBehJYVTkUwMIJ7xl4PzAweDH0MTCwAZksB0CiPA5FDMwGDAwvGP4BVTNwG0DtYuhl\n",
       "4Acadx4kzMDAAXMly0+G8wdAwi0gnvwBBog72Rcw3GAAGWIKdL3AfQbeCWAJrgIGayAVBXQLg3+A\n",
       "BYMsA+cnkOoNfF8ZQA58xMAw+dq03AAGzn4BoJ221z8ChdcxcAjAQxjMYlMAex4YLLAAAuJNDDMc\n",
       "gFIXkAIWJKzGYAYkZwGxNEwY5Hbf66CY2QjEjBgBznuAAQAt5DtyKXSr1gAAAABJRU5ErkJggg==\n",
       "\" style=\"display:inline;vertical-align:middle;\" /></a></td></tr>\n",
       "<tr><td>11</td><td>Variable</td><td></td><td><a class=\"ProveItLink\" href=\"../../../../__pv_it/530be409e3083890784cf1d7b28c9e67e90af9360/expr.ipynb\"><img src=\"data:image/png;base64,iVBORw0KGgoAAAANSUhEUgAAAAsAAAAJBAMAAAAWSsseAAAAKlBMVEX///9ERETMzMwQEBAiIiKY\n",
       "mJju7u5mZmaqqqpUVFSIiIh2dnbc3NwAAAA/vyDhAAAAAXRSTlMAQObYZgAAAENJREFUCNdjYDi9\n",
       "8sTyBQxsG1hdmR0YuBm4LnAoMLAxcAowgADzAjB1VoEhgYH1wFoGrgSG3gBhhlMMDImrs3cFMAAA\n",
       "t0YN+iTRa+sAAAAASUVORK5CYII=\n",
       "\" style=\"display:inline;vertical-align:middle;\" /></a></td></tr>\n",
       "<tr><td>12</td><td>Variable</td><td></td><td><a class=\"ProveItLink\" href=\"../../../../__pv_it/f8b9edf8e16034727f0aad55bb83e392c3db40d40/expr.ipynb\"><img src=\"data:image/png;base64,iVBORw0KGgoAAAANSUhEUgAAAAsAAAANBAMAAACN24kIAAAAMFBMVEX///+YmJhUVFQyMjIQEBBE\n",
       "REQiIiKqqqrMzMyIiIi6urrc3NxmZmZ2dnbu7u4AAADXeCicAAAAAXRSTlMAQObYZgAAAFhJREFU\n",
       "CNdj4LtzgWH/AwZerg8M8xkY2nkSGEIZGB6wTGD4ycDAUP+A4weQOszA6QCkbBhYFYDUIYb1AkDq\n",
       "6czzGxhA4BoQMyXwuQMptgusF4AU+8xTQBIAUqMVoSp/SLMAAAAASUVORK5CYII=\n",
       "\" style=\"display:inline;vertical-align:middle;\" /></a></td></tr>\n",
       "</table>\n"
      ],
      "text/plain": [
       "0. x -> [forall_{y | x > y} (y < x)]\n",
       "   core type: Lambda\n",
       "   parameter: 11\n",
       "   body: 1\n",
       "1. forall_{y | x > y} (y < x)\n",
       "   core type: Operation\n",
       "   operator: 2\n",
       "   operand: 3\n",
       "2. forall\n",
       "   core type: Literal\n",
       "   sub-expressions: \n",
       "3. y -> (y < x) | x > y\n",
       "   core type: Lambda\n",
       "   parameter: 12\n",
       "   body: 4\n",
       "   conditions: 5\\n4. y < x\n",
       "   core type: Operation\n",
       "   operator: 6\n",
       "   operands: 7\n",
       "5. (x > y)\n",
       "   core type: ExprTuple\n",
       "   sub-expressions: 8\n",
       "6. <\n",
       "   core type: Literal\n",
       "   sub-expressions: \n",
       "7. (y , x)\n",
       "   core type: ExprTuple\n",
       "   sub-expressions: 12, 11\n",
       "8. x > y\n",
       "   core type: Operation\n",
       "   operator: 9\n",
       "   operands: 10\n",
       "9. >\n",
       "   core type: Literal\n",
       "   sub-expressions: \n",
       "10. (x , y)\n",
       "    core type: ExprTuple\n",
       "    sub-expressions: 11, 12\n",
       "11. x\n",
       "    core type: Variable\n",
       "    sub-expressions: \n",
       "12. y\n",
       "    core type: Variable\n",
       "    sub-expressions: "
      ]
     },
     "execution_count": 4,
     "metadata": {},
     "output_type": "execute_result"
    }
   ],
   "source": [
    "# display the expression information\n",
    "expr.exprInfo()"
   ]
  },
  {
   "cell_type": "code",
   "execution_count": null,
   "metadata": {},
   "outputs": [],
   "source": []
  }
 ],
 "metadata": {
  "kernelspec": {
   "display_name": "Python 3",
   "language": "python",
   "name": "python3"
  }
 },
 "nbformat": 4,
 "nbformat_minor": 0
}
