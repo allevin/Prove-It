{
 "cells": [
  {
   "cell_type": "markdown",
   "metadata": {},
   "source": [
    "Expression of type <a class=\"ProveItLink\" href=\"../../../../../../doc/html/api/proveit.number.Less.html\">Less</a>\n",
    "=======================\n",
    "# from context <a class=\"ProveItLink\" href=\"../../_context_.ipynb\">proveit.number.ordering</a>"
   ]
  },
  {
   "cell_type": "code",
   "execution_count": 1,
   "metadata": {},
   "outputs": [],
   "source": [
    "# import Expression classes needed to build the expression\n",
    "from proveit._common_ import a, b, c\n",
    "from proveit.number import Add, Less"
   ]
  },
  {
   "cell_type": "code",
   "execution_count": 2,
   "metadata": {},
   "outputs": [
    {
     "data": {
      "text/html": [
       "<strong id=\"expr\">expr:</strong> <a class=\"ProveItLink\" href=\"expr.ipynb\"><img src=\"data:image/png;base64,iVBORw0KGgoAAAANSUhEUgAAAJEAAAAVBAMAAAC01xHeAAAAMFBMVEX////c3NwiIiJERESqqqqY\n",
       "mJh2dnZmZmYQEBDu7u4yMjJUVFTMzMyIiIi6uroAAAAs73DqAAAAAXRSTlMAQObYZgAAAhVJREFU\n",
       "OMutVEFIG0EUfakxyWSNm1sPHvToRSioR2noMSgsPfTQQwk5KIKBtaIHEYwQeig0xIuIp0Xw0BUk\n",
       "PZQWaTFHwYPBgyB0IfQURDGgPRRa8c9k485kd0sOHdiZP2/fvJk//88H/l8brIf86G/0Tn7Du5PQ\n",
       "Pdb80AnY15EAarxG3cdQpaQfInKyGsS1gJRyXpaW3ct59lO+qSDrGRfalBe+AhIVGYjKuqzoeXUg\n",
       "Bk6+6SyYkRduA5cIVcJEx7j85o705RGk1JfBCh+HzptpVWmr8AOYcyfZRdfg5H3ns6rEZp0aYib2\n",
       "eGw38Fw900AZu6TQnpzNd3YmMruFXlOUjhvJEUQtlMkeNrCkKm3XMQk0hZ33PCZy9DcSOVmJfUCf\n",
       "gcEi7mlyBIypSkeiPxXMcS9DiRy3oJuyktYSTrSE0i3YH55etr373rarAnlUwsBhRlJ6YuLGAFZt\n",
       "e9S29wnTn7lKJSDyF9EWk89ECG9t7xB5a7hKJZFO6xX5TMNiCXlH18HuoFnTine/KC+B153o5C/a\n",
       "BpHput8psdNpGwP9loj0Hl6YOUXpC7DgZQHwsh0+ArRMvKooaSZiIgt+8nRyrqYailK84JALB17m\n",
       "ZUXkicy+L3dl5opDJ042kEj38lrcppC7X4v8TLvqT8xXjBTytfyn8M+qshNYVQIbs/glhSp98kNh\n",
       "ZI27HQmrvqmaHwsj03N/AFrWizZ0ThUHAAAAAElFTkSuQmCC\n",
       "\" style=\"display:inline;vertical-align:middle;\" /></a><br>"
      ],
      "text/plain": [
       "expr: (a + c) < (b + c)"
      ]
     },
     "execution_count": 2,
     "metadata": {},
     "output_type": "execute_result"
    }
   ],
   "source": [
    "# build up the expression from sub-expressions\n",
    "expr = Less(Add(a, c), Add(b, c))"
   ]
  },
  {
   "cell_type": "code",
   "execution_count": 3,
   "metadata": {},
   "outputs": [
    {
     "name": "stdout",
     "output_type": "stream",
     "text": [
      "Passed sanity check: built 'expr' is the same as the stored Expression.\n"
     ]
    }
   ],
   "source": [
    "# check that the built expression is the same as the stored expression\n",
    "%check_expr"
   ]
  },
  {
   "cell_type": "code",
   "execution_count": 4,
   "metadata": {},
   "outputs": [
    {
     "data": {
      "text/html": [
       "<table><tr><th>&nbsp;</th><th>core type</th><th>sub-expressions</th><th>expression</th></tr>\n",
       "<tr><td>0</td><td>Operation</td><td>operator:&nbsp;1<br>operands:&nbsp;2<br></td><td><a class=\"ProveItLink\" href=\"expr.ipynb\"><img src=\"data:image/png;base64,iVBORw0KGgoAAAANSUhEUgAAAJEAAAAVBAMAAAC01xHeAAAAMFBMVEX////c3NwiIiJERESqqqqY\n",
       "mJh2dnZmZmYQEBDu7u4yMjJUVFTMzMyIiIi6uroAAAAs73DqAAAAAXRSTlMAQObYZgAAAhVJREFU\n",
       "OMutVEFIG0EUfakxyWSNm1sPHvToRSioR2noMSgsPfTQQwk5KIKBtaIHEYwQeig0xIuIp0Xw0BUk\n",
       "PZQWaTFHwYPBgyB0IfQURDGgPRRa8c9k485kd0sOHdiZP2/fvJk//88H/l8brIf86G/0Tn7Du5PQ\n",
       "Pdb80AnY15EAarxG3cdQpaQfInKyGsS1gJRyXpaW3ct59lO+qSDrGRfalBe+AhIVGYjKuqzoeXUg\n",
       "Bk6+6SyYkRduA5cIVcJEx7j85o705RGk1JfBCh+HzptpVWmr8AOYcyfZRdfg5H3ns6rEZp0aYib2\n",
       "eGw38Fw900AZu6TQnpzNd3YmMruFXlOUjhvJEUQtlMkeNrCkKm3XMQk0hZ33PCZy9DcSOVmJfUCf\n",
       "gcEi7mlyBIypSkeiPxXMcS9DiRy3oJuyktYSTrSE0i3YH55etr373rarAnlUwsBhRlJ6YuLGAFZt\n",
       "e9S29wnTn7lKJSDyF9EWk89ECG9t7xB5a7hKJZFO6xX5TMNiCXlH18HuoFnTine/KC+B153o5C/a\n",
       "BpHput8psdNpGwP9loj0Hl6YOUXpC7DgZQHwsh0+ArRMvKooaSZiIgt+8nRyrqYailK84JALB17m\n",
       "ZUXkicy+L3dl5opDJ042kEj38lrcppC7X4v8TLvqT8xXjBTytfyn8M+qshNYVQIbs/glhSp98kNh\n",
       "ZI27HQmrvqmaHwsj03N/AFrWizZ0ThUHAAAAAElFTkSuQmCC\n",
       "\" style=\"display:inline;vertical-align:middle;\" /></a></td></tr>\n",
       "<tr><td>1</td><td>Literal</td><td></td><td><a class=\"ProveItLink\" href=\"../7c444b9b2efa607ed6397b492680dde2810212f00/expr.ipynb\"><img src=\"data:image/png;base64,iVBORw0KGgoAAAANSUhEUgAAAA4AAAAMBAMAAACgrpHpAAAALVBMVEX///+YmJhERETu7u52dnYi\n",
       "IiKIiIiqqqq6uroyMjJUVFTMzMxmZmbc3NwAAADmAst+AAAAAXRSTlMAQObYZgAAAD5JREFUCNdj\n",
       "YAAB3tNgintlA4jimLUBRLHPuQCi2EIMQBRLGFgJg5EGhGbYNR3KuBMIZZiEGUAYjCFQBvtsABzC\n",
       "Cm98G6SsAAAAAElFTkSuQmCC\n",
       "\" style=\"display:inline;vertical-align:middle;\" /></a></td></tr>\n",
       "<tr><td>2</td><td>ExprTuple</td><td>3, 4</td><td><a class=\"ProveItLink\" href=\"../685cce3eb8afb488c2ffae19c518db8a64adffe60/expr.ipynb\"><img src=\"data:image/png;base64,iVBORw0KGgoAAAANSUhEUgAAAG4AAAAVBAMAAABVkMbKAAAAMFBMVEX////c3NwiIiJERESqqqqY\n",
       "mJh2dnZmZmYQEBDu7u4yMjJUVFTMzMyIiIi6uroAAAAs73DqAAAAAXRSTlMAQObYZgAAAZBJREFU\n",
       "OMudlD9Iw0AUxr/+TdNa092hbjp20L2zIGZ2Kg66WOliBxFUEAfBUhcpLpWCg1eQOogiFAMugoNZ\n",
       "BVOqUxGkldLBQfFdbPEuNIEauMvdvfe79/K+uwD/fcbNkZFQk7oHLw/1enLY8ia1M8+to7Whq0Bc\n",
       "SvPQ6aGlB5ETYqIZRIqi27yTaw/MQXF/dRtv8OSWMIzDDPLU++prOzKnLluGPahalw7uKPsMrOCU\n",
       "hq1EoCNz982oXUi1C82QuLECKsAcChSuByUlceoBArrt/YlIRuJKJmYpEr6BWAd+U+Ji/fBQTqDl\n",
       "JO7W7h85p6VQ5slsMDbNWBX2yu/jz6FNgRXGKvuMcS27fW4XSJpYQFGMlzT/5NsqivF8X/arxZMt\n",
       "p3ETNEROoxi6ygcG9uR69kh1YJEqiqgenArL35dD2ChTRWNppSZzV8Aq1+GVy9e4a8g65K0nlD6o\n",
       "sPV1h+5K1qLEzxFJuJ6XF3HiPGehjGh9Fye66zUNm173SHe1HFObcDPG3W/lBVdk9P9E3MAPlGJq\n",
       "0F+/LGUAAAAASUVORK5CYII=\n",
       "\" style=\"display:inline;vertical-align:middle;\" /></a></td></tr>\n",
       "<tr><td>3</td><td>Operation</td><td>operator:&nbsp;6<br>operands:&nbsp;5<br></td><td><a class=\"ProveItLink\" href=\"../3a048a8028bbae931654fe66fd97dc672ccb5a080/expr.ipynb\"><img src=\"data:image/png;base64,iVBORw0KGgoAAAANSUhEUgAAAC0AAAAOBAMAAABJDIgxAAAAMFBMVEX///8yMjKqqqrMzMzu7u4i\n",
       "IiJmZmaYmJhEREQQEBC6urp2dnaIiIhUVFTc3NwAAAD87Fq/AAAAAXRSTlMAQObYZgAAAIxJREFU\n",
       "GNNjYEAAlgcMWAHTAWLE+e7smocqzrL7jAEDw8oHHB9QxS0XMAYw8H1nYGtAEWeZw8BRwMD7gYH1\n",
       "AIo4L1g7fwODP9A0BjZBQdGJgoIXwCJA8P4Agz6DA7L692DKX4HhIpMBsjh/AQNDAQNjAVMYN6r5\n",
       "CQzcBkDnn7I4herO7DNHiAoHLiRxAKLPJsdeTzR7AAAAAElFTkSuQmCC\n",
       "\" style=\"display:inline;vertical-align:middle;\" /></a></td></tr>\n",
       "<tr><td>4</td><td>Operation</td><td>operator:&nbsp;6<br>operands:&nbsp;7<br></td><td><a class=\"ProveItLink\" href=\"../fd61535d440be95574ec6bd23ff412e54e6e2d1a0/expr.ipynb\"><img src=\"data:image/png;base64,iVBORw0KGgoAAAANSUhEUgAAACsAAAAQBAMAAAB9zpudAAAAMFBMVEX////c3NxmZmbMzMxERESY\n",
       "mJiIiIh2dna6urqqqqoyMjIiIiIQEBBUVFTu7u4AAAAiO1wTAAAAAXRSTlMAQObYZgAAAJlJREFU\n",
       "GNNj4LuzgQEb4LqAVZh/ApTBJ4As3P8AyuBMQBauZsAqvDbtKqowX3maAQPfFwZ+AxRhmwauDQyc\n",
       "/xh4CpCF+Y4xsAQwMC1g4FdAFub9ACK5FRj6AxgYmFatWn1q1SqgH/gdoM7Wf4CsWh5MAe07juIS\n",
       "fqDeAAbeCUwXUIR5FRjYgQ68pormHfW0PGR/ofoSDjiQhAFinyI76iFHSgAAAABJRU5ErkJggg==\n",
       "\" style=\"display:inline;vertical-align:middle;\" /></a></td></tr>\n",
       "<tr><td>5</td><td>ExprTuple</td><td>8, 10</td><td><a class=\"ProveItLink\" href=\"../e00e3b80b64d39dca63229810ef53878155237050/expr.ipynb\"><img src=\"data:image/png;base64,iVBORw0KGgoAAAANSUhEUgAAACkAAAAVBAMAAAAp9toTAAAAMFBMVEX////c3NwiIiJERESqqqqY\n",
       "mJh2dnZmZmYQEBDu7u4yMjJUVFTMzMyIiIi6uroAAAAs73DqAAAAAXRSTlMAQObYZgAAAPRJREFU\n",
       "GNNjYMAO+C6gCcSBiNPoytgPAImVGLoXMDDwXsAQDWNg4JiAITqDgeEVpv3MDgxlQIpxb14jRIAz\n",
       "7e4BBrYChqVA9gsB5g8Q0RMPuBQYWBYw9AGVfmVgN4Ao7WVgDmDga2D4x8DA/YGBCeISbrAWng8g\n",
       "UX4DhvkHwKL8BlDRFgYG+QsM/gxgB8qDtQBNMGVgmO/AsIvlACdIbQADQwAD6wKGdAYGrgAWdTaG\n",
       "+QpAcwsY2MAuewRy7r3D9xhmfAQqLrt7E6jqAQOHAMxLD5F8zJoA4wTAGLnIIQkT5QSGJIM0lMML\n",
       "k+UGmcmIHsB3GBgAepU3R/FEgFEAAAAASUVORK5CYII=\n",
       "\" style=\"display:inline;vertical-align:middle;\" /></a></td></tr>\n",
       "<tr><td>6</td><td>Literal</td><td></td><td><a class=\"ProveItLink\" href=\"../../../addition/__pv_it/3e6688136fa3c7aefbebe51301b7c3ebf0b69c440/expr.ipynb\"><img src=\"data:image/png;base64,iVBORw0KGgoAAAANSUhEUgAAAA4AAAAOBAMAAADtZjDiAAAAJFBMVEX///+6urpUVFQQEBAiIiIy\n",
       "MjJmZmaIiIiqqqrc3Nzu7u4AAACgHpL+AAAAAXRSTlMAQObYZgAAAB5JREFUCNdjYGBgWMkAAe2k\n",
       "0Kmhoc6hoUGk6BMHYgAHOwjcado9fwAAAABJRU5ErkJggg==\n",
       "\" style=\"display:inline;vertical-align:middle;\" /></a></td></tr>\n",
       "<tr><td>7</td><td>ExprTuple</td><td>9, 10</td><td><a class=\"ProveItLink\" href=\"../3e76713ea2c9485e6dfb011319d369128f050ceb0/expr.ipynb\"><img src=\"data:image/png;base64,iVBORw0KGgoAAAANSUhEUgAAACcAAAAVBAMAAAA3P+qgAAAAMFBMVEX////c3NwiIiJERESqqqqY\n",
       "mJh2dnZmZmYQEBDu7u4yMjJUVFTMzMyIiIi6uroAAAAs73DqAAAAAXRSTlMAQObYZgAAAPxJREFU\n",
       "GNNjYMAK+C6g8uNAxGkGzh0KSILsB4DESgYGrg3IShcwMPACdfM7IAuGMTBwTGBgeD8BWXAGA8Mr\n",
       "IJWEYhOzA0MZkFp9dyuEz5l29wADWwHDUiDzMwP/AbDgiQdcCgwsCxj6GBhYfjJwJIAV9jIwBzDw\n",
       "NTD8A7psAQN/AUiQ+wOI5PkAEmQqYHgfAOLyG0AFW8DOrAc7Sh7sY6B2UwaQLW0MnCCVQPUBDKwL\n",
       "GNKBRjmwb2CYD/Q/dwEDG9hJj4CW7i0F+uMjUGnZ3ZvAkHjAwCEA9chDJG+yJkDZATDBXEjQoQhy\n",
       "AoOOQRrC5oUp5AaZx4gWHXcYGAA2XjgjmevMiAAAAABJRU5ErkJggg==\n",
       "\" style=\"display:inline;vertical-align:middle;\" /></a></td></tr>\n",
       "<tr><td>8</td><td>Variable</td><td></td><td><a class=\"ProveItLink\" href=\"../../../../__pv_it/07527342713064c87612d00d8557c53d53d5324a0/expr.ipynb\"><img src=\"data:image/png;base64,iVBORw0KGgoAAAANSUhEUgAAAAsAAAAJBAMAAAAWSsseAAAAMFBMVEX///8yMjKqqqrMzMzu7u4i\n",
       "IiJmZmaYmJhEREQQEBC6urp2dnaIiIhUVFTc3NwAAAD87Fq/AAAAAXRSTlMAQObYZgAAAEhJREFU\n",
       "CNdjYOC7s2seAwPDygccHxgY+L4zsDUwMPB+YGA9wMDA38Dgb8DA8P4Agz6DA4O/AsNFJgMGxgKm\n",
       "MG6gyjunLE4xAAAZTBA5TB6DCwAAAABJRU5ErkJggg==\n",
       "\" style=\"display:inline;vertical-align:middle;\" /></a></td></tr>\n",
       "<tr><td>9</td><td>Variable</td><td></td><td><a class=\"ProveItLink\" href=\"../../../../__pv_it/6840a4fa6c106149dc16a131294d0c5e44f1b0480/expr.ipynb\"><img src=\"data:image/png;base64,iVBORw0KGgoAAAANSUhEUgAAAAkAAAAOBAMAAAAPuiubAAAALVBMVEX///9mZmbMzMxERESYmJiI\n",
       "iIh2dna6urqqqqoyMjIiIiIQEBBUVFTu7u4AAAD9S1JeAAAAAXRSTlMAQObYZgAAAE1JREFUCNdj\n",
       "4D29gAEIOA+ASL4GEFl3AURmgQiGOaFHGBh4HzPwKTBwvGXgTmBgnMDAJ8DAJcBQ5wBSLncBJLWN\n",
       "gYGngRFoBO9REQYGAGrcDtUkVqASAAAAAElFTkSuQmCC\n",
       "\" style=\"display:inline;vertical-align:middle;\" /></a></td></tr>\n",
       "<tr><td>10</td><td>Variable</td><td></td><td><a class=\"ProveItLink\" href=\"../../../../__pv_it/cbdfda466482236edba0ce44ac7ef39cda0af7a40/expr.ipynb\"><img src=\"data:image/png;base64,iVBORw0KGgoAAAANSUhEUgAAAAkAAAAJBAMAAAASvxsjAAAALVBMVEX///9mZmbc3NxUVFSYmJhE\n",
       "REQiIiIyMjK6uroQEBDMzMyIiIh2dnbu7u4AAABgFDGoAAAAAXRSTlMAQObYZgAAADZJREFUCNdj\n",
       "YOA9s3sBA8PKBvYEBt7ZDKwODMwPGICALwBE6m0Asx0YGIDiAgw8QJUyu/cyAAAmuwmycZ8WfQAA\n",
       "AABJRU5ErkJggg==\n",
       "\" style=\"display:inline;vertical-align:middle;\" /></a></td></tr>\n",
       "</table>\n"
      ],
      "text/plain": [
       "0. (a + c) < (b + c)\n",
       "   core type: Operation\n",
       "   operator: 1\n",
       "   operands: 2\n",
       "1. <\n",
       "   core type: Literal\n",
       "   sub-expressions: \n",
       "2. (a + c , b + c)\n",
       "   core type: ExprTuple\n",
       "   sub-expressions: 3, 4\n",
       "3. a + c\n",
       "   core type: Operation\n",
       "   operator: 6\n",
       "   operands: 5\n",
       "4. b + c\n",
       "   core type: Operation\n",
       "   operator: 6\n",
       "   operands: 7\n",
       "5. (a , c)\n",
       "   core type: ExprTuple\n",
       "   sub-expressions: 8, 10\n",
       "6. +\n",
       "   core type: Literal\n",
       "   sub-expressions: \n",
       "7. (b , c)\n",
       "   core type: ExprTuple\n",
       "   sub-expressions: 9, 10\n",
       "8. a\n",
       "   core type: Variable\n",
       "   sub-expressions: \n",
       "9. b\n",
       "   core type: Variable\n",
       "   sub-expressions: \n",
       "10. c\n",
       "    core type: Variable\n",
       "    sub-expressions: "
      ]
     },
     "execution_count": 4,
     "metadata": {},
     "output_type": "execute_result"
    }
   ],
   "source": [
    "# display the expression information\n",
    "expr.exprInfo()"
   ]
  },
  {
   "cell_type": "code",
   "execution_count": null,
   "metadata": {},
   "outputs": [],
   "source": []
  }
 ],
 "metadata": {
  "kernelspec": {
   "display_name": "Python 3",
   "language": "python",
   "name": "python3"
  }
 },
 "nbformat": 4,
 "nbformat_minor": 0
}
