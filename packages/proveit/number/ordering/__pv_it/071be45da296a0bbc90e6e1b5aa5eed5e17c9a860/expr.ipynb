{
 "cells": [
  {
   "cell_type": "markdown",
   "metadata": {},
   "source": [
    "Expression of type <a class=\"ProveItLink\" href=\"../../../../../../doc/html/api/proveit.Lambda.html\">Lambda</a>\n",
    "=======================\n",
    "# from context <a class=\"ProveItLink\" href=\"../../_context_.ipynb\">proveit.number.ordering</a>"
   ]
  },
  {
   "cell_type": "code",
   "execution_count": 1,
   "metadata": {},
   "outputs": [],
   "source": [
    "# import Expression classes needed to build the expression\n",
    "from proveit import Lambda\n",
    "from proveit._common_ import x, y\n",
    "from proveit.logic import Forall\n",
    "from proveit.number import GreaterEq, LessEq"
   ]
  },
  {
   "cell_type": "code",
   "execution_count": 2,
   "metadata": {},
   "outputs": [
    {
     "data": {
      "text/html": [
       "<strong id=\"expr\">expr:</strong> <a class=\"ProveItLink\" href=\"expr.ipynb\"><img src=\"data:image/png;base64,iVBORw0KGgoAAAANSUhEUgAAAM4AAAAZCAMAAABO+uFhAAAANlBMVEX///+6uroUFBQNDQ0yMjJE\n",
       "RETMzMwQEBAiIiKYmJju7u5mZmaqqqpUVFSIiIh2dnbc3NwAAACltDI1AAAAAXRSTlMAQObYZgAA\n",
       "ApxJREFUWMPtWNuWpCAMhF3DnQD//7MDXkGijq17Zh6Wl7YvZVeRpBJk7OYCpVRkv3DxTCzcRin2\n",
       "e1f0/+UwZv5RuuBHMM0fytkipPE9NcJ/CLTimZzglnfDi4G6vBcqfoB8JifCgof31OB5oE1Qhz/Q\n",
       "4ZkVLBtp3Xty5FlwjFX65Fv5TI4OcVwv2hwfzhxrON83cJucGNBHhxZ3mTgt5yijTlDWB23ruJ7D\n",
       "klTjVUxms4ihr5mWdLCrHJPROodSKrqzeEPI8aOZADke8M+MYE6mwHgqlZSWRAIQVCU1pN2wygkz\n",
       "2AlajvGxl8NLWA2dH5Q9OH81GMlpF4RjtvwFwOZn2FfVjjSXW3TKZtcU/v5RzZKJ91NBeUH9bTks\n",
       "Wi9O5cx/ktnIkkCpsjGtwl7QjrRIjRVIPBljPCeGnCJFme/LuRS07pkrVSNS81s32D66FelWThzB\n",
       "hpazu9H8bU60uYtzhNZmazm5YDkuMkwATiJGcovl2JLCKDvj229GTbpKNh2nukNajkB6BIU4Rc0g\n",
       "S5EJSUYnJ0lOiZVpFpQ7Vo8YUUvmDsWloO8govaEHWm9WoFLmkG+dVxpY5ellBxnp6toeL5AIOXw\n",
       "zbGmW5d3PaLy2hydrIQnTQ51W0K2pDejNoDBhID67gFhTV2fbcbjUe2kuIVm7nYdYjp9rc6MaNO5\n",
       "Ee5Jz43pyXlHm8pipTiQU3JK1IVDIaYPKwXh3rjxdMhpeYip8/VysuGEYWwSxgI/RtRzpFeF3r1Z\n",
       "MOCLcpxHGEg5OSecxdI0uDhD1AeEMjhBNTzFugXSA4d5eEBoDTPuCuHy0NAhajIuV87NMWmdON6Q\n",
       "k7eynYYv5XSIhc1nR1sUbz76yNsZrmc2WJYhED/56OPyOZtnP7LKczb/BeOdGxj4WGFWAAAAAElF\n",
       "TkSuQmCC\n",
       "\" style=\"display:inline;vertical-align:middle;\" /></a><br>"
      ],
      "text/plain": [
       "expr: x -> [forall_{y | x >= y} (y <= x)]"
      ]
     },
     "execution_count": 2,
     "metadata": {},
     "output_type": "execute_result"
    }
   ],
   "source": [
    "# build up the expression from sub-expressions\n",
    "expr = Lambda(x, Forall([y], LessEq(y, x), conditions = [GreaterEq(x, y)]))"
   ]
  },
  {
   "cell_type": "code",
   "execution_count": 3,
   "metadata": {},
   "outputs": [
    {
     "name": "stdout",
     "output_type": "stream",
     "text": [
      "Passed sanity check: built 'expr' is the same as the stored Expression.\n"
     ]
    }
   ],
   "source": [
    "# check that the built expression is the same as the stored expression\n",
    "%check_expr"
   ]
  },
  {
   "cell_type": "code",
   "execution_count": 4,
   "metadata": {},
   "outputs": [
    {
     "data": {
      "text/html": [
       "<table><tr><th>&nbsp;</th><th>core type</th><th>sub-expressions</th><th>expression</th></tr>\n",
       "<tr><td>0</td><td>Lambda</td><td>parameter:&nbsp;11<br>body:&nbsp;1<br></td><td><a class=\"ProveItLink\" href=\"expr.ipynb\"><img src=\"data:image/png;base64,iVBORw0KGgoAAAANSUhEUgAAAM4AAAAZCAMAAABO+uFhAAAANlBMVEX///+6uroUFBQNDQ0yMjJE\n",
       "RETMzMwQEBAiIiKYmJju7u5mZmaqqqpUVFSIiIh2dnbc3NwAAACltDI1AAAAAXRSTlMAQObYZgAA\n",
       "ApxJREFUWMPtWNuWpCAMhF3DnQD//7MDXkGijq17Zh6Wl7YvZVeRpBJk7OYCpVRkv3DxTCzcRin2\n",
       "e1f0/+UwZv5RuuBHMM0fytkipPE9NcJ/CLTimZzglnfDi4G6vBcqfoB8JifCgof31OB5oE1Qhz/Q\n",
       "4ZkVLBtp3Xty5FlwjFX65Fv5TI4OcVwv2hwfzhxrON83cJucGNBHhxZ3mTgt5yijTlDWB23ruJ7D\n",
       "klTjVUxms4ihr5mWdLCrHJPROodSKrqzeEPI8aOZADke8M+MYE6mwHgqlZSWRAIQVCU1pN2wygkz\n",
       "2AlajvGxl8NLWA2dH5Q9OH81GMlpF4RjtvwFwOZn2FfVjjSXW3TKZtcU/v5RzZKJ91NBeUH9bTks\n",
       "Wi9O5cx/ktnIkkCpsjGtwl7QjrRIjRVIPBljPCeGnCJFme/LuRS07pkrVSNS81s32D66FelWThzB\n",
       "hpazu9H8bU60uYtzhNZmazm5YDkuMkwATiJGcovl2JLCKDvj229GTbpKNh2nukNajkB6BIU4Rc0g\n",
       "S5EJSUYnJ0lOiZVpFpQ7Vo8YUUvmDsWloO8govaEHWm9WoFLmkG+dVxpY5ellBxnp6toeL5AIOXw\n",
       "zbGmW5d3PaLy2hydrIQnTQ51W0K2pDejNoDBhID67gFhTV2fbcbjUe2kuIVm7nYdYjp9rc6MaNO5\n",
       "Ee5Jz43pyXlHm8pipTiQU3JK1IVDIaYPKwXh3rjxdMhpeYip8/VysuGEYWwSxgI/RtRzpFeF3r1Z\n",
       "MOCLcpxHGEg5OSecxdI0uDhD1AeEMjhBNTzFugXSA4d5eEBoDTPuCuHy0NAhajIuV87NMWmdON6Q\n",
       "k7eynYYv5XSIhc1nR1sUbz76yNsZrmc2WJYhED/56OPyOZtnP7LKczb/BeOdGxj4WGFWAAAAAElF\n",
       "TkSuQmCC\n",
       "\" style=\"display:inline;vertical-align:middle;\" /></a></td></tr>\n",
       "<tr><td>1</td><td>Operation</td><td>operator:&nbsp;2<br>operand:&nbsp;3<br></td><td><a class=\"ProveItLink\" href=\"../fe37557653a7d0431dbda0a671fa4e3f35f82c470/expr.ipynb\"><img src=\"data:image/png;base64,iVBORw0KGgoAAAANSUhEUgAAAJMAAAAXBAMAAAD96mDoAAAAMFBMVEX///8QEBC6urrMzMxUVFRm\n",
       "ZmZERETc3NwyMjKqqqp2dnaIiIiYmJgiIiLu7u4AAAAU9Wx4AAAAAXRSTlMAQObYZgAAAjxJREFU\n",
       "OMutlU9IG0EUxr9kk12TTbahnkQEoT14kVrw4qkSQaG9iHgQPVgUVkp7yKHUk+0iehCkFPxz8dC9\n",
       "aP8EJaAEJKWGXgotQuhRW1gPemgvoUJ7qIe+mZiZ3TUra+nAsG/yDb+Zee+bCfD/mhN+arQQrH2g\n",
       "XmHB51Co7ku0eBfwhgXPQ6H8s/QvroEFPKGPdj8MSfed7/uhe/QJaKJkxV+EQUW8aT3+6hkeAalX\n",
       "09Mzoc7X4Rk9XvCqKm3nl2kehEKNAsa6jWd8c92z9Z+1/MDaGJAcBPqAKTm/PRi1SPOjVeyx+GRS\n",
       "pgz75TYgQXm/CcOS82UBlnM+1HWgJ16ByUtwKBJnE3yJTJcB0tDLjVDacJcX9ZP8HCngDx+kDhzh\n",
       "8X72Uaq0QDntNEJdYBEKLx3ltDZKzItdt9ZRhkUujhbPa11D5bM7hDE22qUAtFAfgZ6pX6O585W0\n",
       "Uxi1A2IqC/y4lrstd5V0+iPMasZrRwjAI+rzUHvrm1FMzvqoV/GeTswSvkLX8GknihIVZdViyV2U\n",
       "ArBOfRi3ZGKVLDvomZrRCjUzIMIuxF3cc+fqNy/zA5cAdDITlMZ9hTUebr19R98mZqOUwyvd7EIp\n",
       "GYVIE3AJtCSHbAa47khEzWQ+gbqTtJI4nvAItKSNWMVoCUDlpSGLlkSd7I5t4YZX4I9M2lZtHs58\n",
       "Y831yEiba7lYwe8rr8BuMBKloYBNxUQKVbsDDVFCYNhLHuRtESVKth+1alJzhHD11vvvfzh/Acu0\n",
       "kAOnIqmBAAAAAElFTkSuQmCC\n",
       "\" style=\"display:inline;vertical-align:middle;\" /></a></td></tr>\n",
       "<tr><td>2</td><td>Literal</td><td></td><td><a class=\"ProveItLink\" href=\"../../../../logic/boolean/quantification/universal/__pv_it/265f8c02ac1094d56e0e6410a1c1fd3500dc9f540/expr.ipynb\"><img src=\"data:image/png;base64,iVBORw0KGgoAAAANSUhEUgAAAAwAAAAQBAMAAADQT4M0AAAAMFBMVEX///8QEBC6urrMzMxUVFRm\n",
       "ZmZERETc3NwyMjKqqqp2dnaIiIiYmJgiIiLu7u4AAAAU9Wx4AAAAAXRSTlMAQObYZgAAAFhJREFU\n",
       "CNdjeMAABhdAxGmGlSCqj6EMSLInMHAAJVknMPAsLy+vBYp8S0u7BaScGRjSgZQKA18DkOJl4D4A\n",
       "pLgP8IJM4mswARuX7gSmpoKNZWDcAKZ4gCoAgTQTILaSE58AAAAASUVORK5CYII=\n",
       "\" style=\"display:inline;vertical-align:middle;\" /></a></td></tr>\n",
       "<tr><td>3</td><td>Lambda</td><td>parameter:&nbsp;12<br>body:&nbsp;4<br>conditions:&nbsp;5<br></td><td><a class=\"ProveItLink\" href=\"../a2ba0b42b3776a22c63bbe9e87d359b477292bdf0/expr.ipynb\"><img src=\"data:image/png;base64,iVBORw0KGgoAAAANSUhEUgAAALcAAAAVCAMAAAAzZI9IAAAANlBMVEX///8UFBQNDQ2YmJhUVFQy\n",
       "MjIQEBBEREQiIiKqqqrMzMyIiIi6urrc3NxmZmZ2dnbu7u4AAACrLjZHAAAAAXRSTlMAQObYZgAA\n",
       "AfJJREFUSMfFV+magyAMdFfkCuf7v+xCRQ2XFevX9U8PMpkBJgGn6d8eob/JpuAWbFbVX1Z9UbYk\n",
       "N4FG/qvuxb0JAN6Rs4zpdty652TDuUuc5d2A2Q6ut1jMYxVAz9bAGT6fjNJhnyhG5DNFufTHNFnE\n",
       "KZiJcX9LxlR3b03cQe1d04gCsxnbhsR6XWoCbYFoAWb1jjUnuvPQfDlUU6udlI/O9dsgz4EEWWNZ\n",
       "fVBBHGOytSLB1cE6lCe/9nUXoblyw7fkiFiKycRgxjq6HTmqg76oakjoIlA73yYKsdIq2tddhOYF\n",
       "zU3KjYnDXzRujt936PeHZw/1O8H6rYa8sld9K/4mx9ykP1nvPBQNAMqbE4voFullZ70ncuTfZlBC\n",
       "+n2LwiXdRWi3r2JiE30HxyYWurEYmoq0hOztpuxb+kXh3vqkCN2NXfZVTLzEOmeko1viCbOUp4Tg\n",
       "vnUon/Vausn680ldFqHdvoqJTfhQ/pgZVCY9qFIrKyHZBUbtezpPLCyNhuldHyxDo+xm48bEjgEY\n",
       "f+lIVXy6DglB1lkL2/TKBo90l6FnOTNiyy+e8+OQD8759pOICY85xcVrtB2G7HTwuW5MzIMUZofu\n",
       "sRVE437fluMG77HNlJhYBMdcn7kmw5C0VPqB94Y7xJvwe+9pUB/g8Mn7zh/2hRiFafBuGwAAAABJ\n",
       "RU5ErkJggg==\n",
       "\" style=\"display:inline;vertical-align:middle;\" /></a></td></tr>\n",
       "<tr><td>4</td><td>Operation</td><td>operator:&nbsp;6<br>operands:&nbsp;7<br></td><td><a class=\"ProveItLink\" href=\"../a755dc3e73fee509ac342d05361342887d6f5a310/expr.ipynb\"><img src=\"data:image/png;base64,iVBORw0KGgoAAAANSUhEUgAAADIAAAASBAMAAADrvZC0AAAAMFBMVEX///+YmJhUVFQyMjIQEBBE\n",
       "REQiIiKqqqrMzMyIiIi6urrc3NxmZmZ2dnbu7u4AAADXeCicAAAAAXRSTlMAQObYZgAAAMlJREFU\n",
       "GNNjYCAScGbhkHibiUPiTSIOiU3mKFy+OxcY9j8AsZqsYGLcN7UrTzLwcn1gmA/iPo1AWMcgJuDG\n",
       "0M6TwBAKdlbmA5jMBaDaCoYHLBMYfoL5jLkwqQcMqiCq/gHHD4gAu80GmC5PEHGYgdMByucyaoA6\n",
       "4QcDHwODDQOrAkwpRyhYSprzA8M8BoZDDOsF4K7i0AKZ+pHVgXsC0LUzz29A9TFf5L27E8Gsa9iD\n",
       "hCmBzx27DNsF1gtgxrY0EECKBfaZp7BrAQDZeTJCWPoyvgAAAABJRU5ErkJggg==\n",
       "\" style=\"display:inline;vertical-align:middle;\" /></a></td></tr>\n",
       "<tr><td>5</td><td>ExprTuple</td><td>8</td><td><a class=\"ProveItLink\" href=\"../6fafd5ed1de67defedc7fc9df9911c71a12b4bbd0/expr.ipynb\"><img src=\"data:image/png;base64,iVBORw0KGgoAAAANSUhEUgAAAD8AAAAVBAMAAAADRiu8AAAAMFBMVEX////c3NwiIiJERESqqqqY\n",
       "mJh2dnZmZmYQEBDu7u4yMjJUVFTMzMyIiIi6uroAAAAs73DqAAAAAXRSTlMAQObYZgAAATZJREFU\n",
       "KM9jYCAI+C7glosDEafxaGY/ACRWIvicahPQVCxgYOBFtoFluQCqgjAGBg4UTXzWB1AUzGBgeIWq\n",
       "hcf4ATKX2YGhDEiJ3Ra5DrOJcRdYBWd6AoP8BAa2AoalQE4CqyqHAkwTYxHIFja+Dwz3gY5awNAH\n",
       "5DDwfmCB282qDnLVEXYFBmOgmxoY/gFNYOA2gNs6F+LVCRwXGP4CnfQBpADoFbhfp+lCGf4TeP6A\n",
       "FbSAePIHGCC+FVeFqaxi4G0AW2EKtFXgPgMvWIH0ErhVyxmYNwClFjCkA00LsGCQBXvADhEC1Qzv\n",
       "AxhA3nzEwDD52rTcAPR4mny3HhjsXA8YOARwRWUSJKhZE7DKcitwgpyfixrdjEpgAAprpgRmoE7O\n",
       "BSCXYzWB5W4dyByQ/Yx4ktwdBgYA/11DgD17YoQAAAAASUVORK5CYII=\n",
       "\" style=\"display:inline;vertical-align:middle;\" /></a></td></tr>\n",
       "<tr><td>6</td><td>Literal</td><td></td><td><a class=\"ProveItLink\" href=\"../aa616d6a8fe3483e4e64187262e9c7dfe6a536a30/expr.ipynb\"><img src=\"data:image/png;base64,iVBORw0KGgoAAAANSUhEUgAAAA4AAAARBAMAAAAf5oCsAAAALVBMVEX///9ERETMzMyqqqoyMjJU\n",
       "VFTc3NyYmJhmZmZ2dnbu7u66uroiIiKIiIgAAAAFyQXGAAAAAXRSTlMAQObYZgAAAEBJREFUCNdj\n",
       "YEAGvKfB1MqzYGrFcTCV6gymVL3B1EIhqNKzCyAM9pNQBrNHAoTB7aoAYTAJwhjRDLhAzhkQOA0A\n",
       "iskPUSt9tJUAAAAASUVORK5CYII=\n",
       "\" style=\"display:inline;vertical-align:middle;\" /></a></td></tr>\n",
       "<tr><td>7</td><td>ExprTuple</td><td>12, 11</td><td><a class=\"ProveItLink\" href=\"../470bbc9880f0fcda6ab2160544dedf05732e41640/expr.ipynb\"><img src=\"data:image/png;base64,iVBORw0KGgoAAAANSUhEUgAAACwAAAAVBAMAAADP3xFXAAAAMFBMVEX////c3NwiIiJERESqqqqY\n",
       "mJh2dnZmZmYQEBDu7u4yMjJUVFTMzMyIiIi6uroAAAAs73DqAAAAAXRSTlMAQObYZgAAAQdJREFU\n",
       "GNN1kLtKA0EUQI8mu5kYJ2whNiLZxl5QwW+wydZWg00qWwsVTWEtC0IINlYiNqJ/sIWdhVOZIoSo\n",
       "ldgYeyPecYOvMQP3wZn7hjGvav+S4F7UjR+5K3Lu4ynQ1seBQaU+Ljd5/m+MZbbks2Go5Umz3ZmO\n",
       "VG1wCmF1QD/PNsGCimGNQ7guxSx94hA9KGbwxDukyjLMo6ksOnvrMPV0+m3UTNkcH4jeRjdHuJaR\n",
       "uiIr4p9RuJQCskfURwtel1lgh5eEE5mgnqwyjxvwUfRRbz+i/SrOXWszEXCBilzJDZGHn8vLWSpx\n",
       "2TVOvnBo3WEnTcH8wscicxR7e2L196WuRCa8g+uMDxGWOvpEaKwNAAAAAElFTkSuQmCC\n",
       "\" style=\"display:inline;vertical-align:middle;\" /></a></td></tr>\n",
       "<tr><td>8</td><td>Operation</td><td>operator:&nbsp;9<br>operands:&nbsp;10<br></td><td><a class=\"ProveItLink\" href=\"../efc1dad35444d7c91aa68fe0e586537e482f8de00/expr.ipynb\"><img src=\"data:image/png;base64,iVBORw0KGgoAAAANSUhEUgAAADMAAAASBAMAAAAEf/uKAAAAMFBMVEX///+6uroyMjJERETMzMwQ\n",
       "EBAiIiKYmJju7u5mZmaqqqpUVFSIiIh2dnbc3NwAAAAWgogoAAAAAXRSTlMAQObYZgAAAMxJREFU\n",
       "GNNjYCACcOQ24JTj0nyAU47R2gGnHIuxAAr/7elXJw9A2XybwHIcNy8wvG9g4LjAns6aAFPHNw1k\n",
       "Ji/jB4bzQIqB5wMX3A72TJAzvTgTGIyBmhm4DeCG90A80MB6gOEPiMEKs4mhNwfKWN/A8gVEv3dg\n",
       "gHj2ZTpMzSQGngCg6Q/OM/CApV5rwQ3WZGDeANRbYMrwBuw4Q4SHZjPIFzAwNJ/tvVOA7vfmM/Nx\n",
       "B9o1HOLcCRxRyHy+NDAAhRTbBeYLuKLnzEQgCQCZjjNDxULBwAAAAABJRU5ErkJggg==\n",
       "\" style=\"display:inline;vertical-align:middle;\" /></a></td></tr>\n",
       "<tr><td>9</td><td>Literal</td><td></td><td><a class=\"ProveItLink\" href=\"../96143560a3dbc26f943e0a126972c9bfadab3fc50/expr.ipynb\"><img src=\"data:image/png;base64,iVBORw0KGgoAAAANSUhEUgAAAA4AAAARBAMAAAAf5oCsAAAALVBMVEX///+IiIiYmJjMzMxUVFRE\n",
       "RES6urrc3NxmZmYyMjKqqqp2dnYiIiLu7u4AAACqGg1VAAAAAXRSTlMAQObYZgAAAEFJREFUCNdj\n",
       "YICCO3uhjJXtUEaqM5RhGgZllEyDMioOQ2idXhDJKwPWy7tHAESx9yiAKc8FYCWlCQx4Qc0ZEDgG\n",
       "ALzAEHC/pigGAAAAAElFTkSuQmCC\n",
       "\" style=\"display:inline;vertical-align:middle;\" /></a></td></tr>\n",
       "<tr><td>10</td><td>ExprTuple</td><td>11, 12</td><td><a class=\"ProveItLink\" href=\"../a6a2ac9310c73e21661c7634808321702fb219240/expr.ipynb\"><img src=\"data:image/png;base64,iVBORw0KGgoAAAANSUhEUgAAACwAAAAVBAMAAADP3xFXAAAAMFBMVEX////c3NwiIiJERESqqqqY\n",
       "mJh2dnZmZmYQEBDu7u4yMjJUVFTMzMyIiIi6uroAAAAs73DqAAAAAXRSTlMAQObYZgAAAQtJREFU\n",
       "GNNjYMAB+C6gi7A+ABKnMVXWAPFKTGEuBgbeC5jCrAkMHBMwhTkbGF5hc4YJQxmQFLstch1i1rQy\n",
       "BsafDAzpDEuBehJYVTkUwMIJ7xl4PzAweDH0MTCwAZksB0CiPA5FDMwGDAwvGP4BVTNwG0DtYuhl\n",
       "4Acadx4kzMDAAXMly0+G8wdAwi0gnvwBBog72Rcw3GAAGWIKdL3AfQbeCWAJrgIGayAVBXQLg3+A\n",
       "BYMsA+cnkOoNfF8ZQA58xMAw+dq03AAGzn4BoJ221z8ChdcxcAjAQxjMYlMAex4YLLAAAuJNDDMc\n",
       "gFIXkAIWJKzGYAYkZwGxNEwY5Hbf66CY2QjEjBgBznuAAQAt5DtyKXSr1gAAAABJRU5ErkJggg==\n",
       "\" style=\"display:inline;vertical-align:middle;\" /></a></td></tr>\n",
       "<tr><td>11</td><td>Variable</td><td></td><td><a class=\"ProveItLink\" href=\"../../../../__pv_it/530be409e3083890784cf1d7b28c9e67e90af9360/expr.ipynb\"><img src=\"data:image/png;base64,iVBORw0KGgoAAAANSUhEUgAAAAsAAAAJBAMAAAAWSsseAAAAKlBMVEX///9ERETMzMwQEBAiIiKY\n",
       "mJju7u5mZmaqqqpUVFSIiIh2dnbc3NwAAAA/vyDhAAAAAXRSTlMAQObYZgAAAENJREFUCNdjYDi9\n",
       "8sTyBQxsG1hdmR0YuBm4LnAoMLAxcAowgADzAjB1VoEhgYH1wFoGrgSG3gBhhlMMDImrs3cFMAAA\n",
       "t0YN+iTRa+sAAAAASUVORK5CYII=\n",
       "\" style=\"display:inline;vertical-align:middle;\" /></a></td></tr>\n",
       "<tr><td>12</td><td>Variable</td><td></td><td><a class=\"ProveItLink\" href=\"../../../../__pv_it/f8b9edf8e16034727f0aad55bb83e392c3db40d40/expr.ipynb\"><img src=\"data:image/png;base64,iVBORw0KGgoAAAANSUhEUgAAAAsAAAANBAMAAACN24kIAAAAMFBMVEX///+YmJhUVFQyMjIQEBBE\n",
       "REQiIiKqqqrMzMyIiIi6urrc3NxmZmZ2dnbu7u4AAADXeCicAAAAAXRSTlMAQObYZgAAAFhJREFU\n",
       "CNdj4LtzgWH/AwZerg8M8xkY2nkSGEIZGB6wTGD4ycDAUP+A4weQOszA6QCkbBhYFYDUIYb1AkDq\n",
       "6czzGxhA4BoQMyXwuQMptgusF4AU+8xTQBIAUqMVoSp/SLMAAAAASUVORK5CYII=\n",
       "\" style=\"display:inline;vertical-align:middle;\" /></a></td></tr>\n",
       "</table>\n"
      ],
      "text/plain": [
       "0. x -> [forall_{y | x >= y} (y <= x)]\n",
       "   core type: Lambda\n",
       "   parameter: 11\n",
       "   body: 1\n",
       "1. forall_{y | x >= y} (y <= x)\n",
       "   core type: Operation\n",
       "   operator: 2\n",
       "   operand: 3\n",
       "2. forall\n",
       "   core type: Literal\n",
       "   sub-expressions: \n",
       "3. y -> (y <= x) | x >= y\n",
       "   core type: Lambda\n",
       "   parameter: 12\n",
       "   body: 4\n",
       "   conditions: 5\\n4. y <= x\n",
       "   core type: Operation\n",
       "   operator: 6\n",
       "   operands: 7\n",
       "5. (x >= y)\n",
       "   core type: ExprTuple\n",
       "   sub-expressions: 8\n",
       "6. <=\n",
       "   core type: Literal\n",
       "   sub-expressions: \n",
       "7. (y , x)\n",
       "   core type: ExprTuple\n",
       "   sub-expressions: 12, 11\n",
       "8. x >= y\n",
       "   core type: Operation\n",
       "   operator: 9\n",
       "   operands: 10\n",
       "9. >=\n",
       "   core type: Literal\n",
       "   sub-expressions: \n",
       "10. (x , y)\n",
       "    core type: ExprTuple\n",
       "    sub-expressions: 11, 12\n",
       "11. x\n",
       "    core type: Variable\n",
       "    sub-expressions: \n",
       "12. y\n",
       "    core type: Variable\n",
       "    sub-expressions: "
      ]
     },
     "execution_count": 4,
     "metadata": {},
     "output_type": "execute_result"
    }
   ],
   "source": [
    "# display the expression information\n",
    "expr.exprInfo()"
   ]
  },
  {
   "cell_type": "code",
   "execution_count": null,
   "metadata": {},
   "outputs": [],
   "source": []
  }
 ],
 "metadata": {
  "kernelspec": {
   "display_name": "Python 3",
   "language": "python",
   "name": "python3"
  }
 },
 "nbformat": 4,
 "nbformat_minor": 0
}
