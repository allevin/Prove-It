{
 "cells": [
  {
   "cell_type": "markdown",
   "metadata": {},
   "source": [
    "Expression of type <a class=\"ProveItLink\" href=\"../../../../../../doc/html/api/proveit.OperationSequence.html\">OperationSequence</a>\n",
    "=======================\n",
    "# from context <a class=\"ProveItLink\" href=\"../../_context_.ipynb\">proveit.number.ordering</a>"
   ]
  },
  {
   "cell_type": "code",
   "execution_count": 1,
   "metadata": {},
   "outputs": [],
   "source": [
    "# import Expression classes needed to build the expression\n",
    "from proveit import OperationSequence\n",
    "from proveit._common_ import v, w, x, y, z\n",
    "from proveit.logic import Equals\n",
    "from proveit.number import Less, LessEq"
   ]
  },
  {
   "cell_type": "code",
   "execution_count": 2,
   "metadata": {},
   "outputs": [
    {
     "data": {
      "text/html": [
       "<strong id=\"expr\">expr:</strong> <a class=\"ProveItLink\" href=\"expr.ipynb\"><img src=\"data:image/png;base64,iVBORw0KGgoAAAANSUhEUgAAAKkAAAASBAMAAADS9uOqAAAAMFBMVEX////c3NyYmJhEREQyMjKq\n",
       "qqrMzMxUVFQiIiK6urqIiIgQEBBmZmZ2dnbu7u4AAACK0MIjAAAAAXRSTlMAQObYZgAAAddJREFU\n",
       "OMtjYBgowNVJoQEyCZhib7uI08t4DIdEuiem2Jsm4gxlK5mAXWJKGaaYuCtxhnK6I3uT784Fvl0Q\n",
       "ZshBuBCDCoO2AKrrGW8VRp1CD5yzDIz/wCxWHwGo2OydjAsYeDk/8LWDuSvuQcV5OD8wmDPEBwCZ\n",
       "j80QJjBoKOwAMY64gIA7iHlhPgPXB3CE9j6AWW605jADQypPA0MMiHtjAUw/SOgTAzPIR1xdMNUM\n",
       "FxjWM4ShBWXACQZmAyCDFxGhfAx8dQwMD7gXMKSCeMbwwAYKsX1k4AWzmeCOeMBQjB6WfAy7GPhB\n",
       "jnlsiRwTICL+AcM6SBwGwMTnP+DaADUVKcAYdmFEEes/hnxwJKUj4pTzADiYQJ4Dh8gJBajEEQbm\n",
       "AgZR9Mhl/AZ0HBCc6ACBZnAMODCshiZ0ePqLBZM2DJxQbXw31kEY5gwcFxjgwcxmDJZXBMbLOjS3\n",
       "shwAqoXlFUhQsV5gYAdSlxlewVVpQJLBZYbsA4wKiEipBKn+xLyBcQGaqTwFnJ9gbGgMpOgogRLj\n",
       "81sI/QwhYGfx3Fpnuwg9Zqzu3V2EEV1Waz4iAtkNRB5g+h1AccnD20D90qyC4TU5DpMAxzfOkrCX\n",
       "wZYGJW/UGuzlFAC4H3qKMMwNpwAAAABJRU5ErkJggg==\n",
       "\" style=\"display:inline;vertical-align:middle;\" /></a><br>"
      ],
      "text/plain": [
       "expr: v < w <= x = y < z"
      ]
     },
     "execution_count": 2,
     "metadata": {},
     "output_type": "execute_result"
    }
   ],
   "source": [
    "# build up the expression from sub-expressions\n",
    "expr = OperationSequence([Less._operator_, LessEq._operator_, Equals._operator_, Less._operator_], [v, w, x, y, z])"
   ]
  },
  {
   "cell_type": "code",
   "execution_count": 3,
   "metadata": {},
   "outputs": [
    {
     "name": "stdout",
     "output_type": "stream",
     "text": [
      "Passed sanity check: built 'expr' is the same as the stored Expression.\n"
     ]
    }
   ],
   "source": [
    "# check that the built expression is the same as the stored expression\n",
    "%check_expr"
   ]
  },
  {
   "cell_type": "code",
   "execution_count": 4,
   "metadata": {},
   "outputs": [
    {
     "data": {
      "text/html": [
       "<table><tr><th>&nbsp;</th><th>core type</th><th>sub-expressions</th><th>expression</th></tr>\n",
       "<tr><td>0</td><td>Operation</td><td>operators:&nbsp;1<br>operands:&nbsp;2<br></td><td><a class=\"ProveItLink\" href=\"expr.ipynb\"><img src=\"data:image/png;base64,iVBORw0KGgoAAAANSUhEUgAAAKkAAAASBAMAAADS9uOqAAAAMFBMVEX////c3NyYmJhEREQyMjKq\n",
       "qqrMzMxUVFQiIiK6urqIiIgQEBBmZmZ2dnbu7u4AAACK0MIjAAAAAXRSTlMAQObYZgAAAddJREFU\n",
       "OMtjYBgowNVJoQEyCZhib7uI08t4DIdEuiem2Jsm4gxlK5mAXWJKGaaYuCtxhnK6I3uT784Fvl0Q\n",
       "ZshBuBCDCoO2AKrrGW8VRp1CD5yzDIz/wCxWHwGo2OydjAsYeDk/8LWDuSvuQcV5OD8wmDPEBwCZ\n",
       "j80QJjBoKOwAMY64gIA7iHlhPgPXB3CE9j6AWW605jADQypPA0MMiHtjAUw/SOgTAzPIR1xdMNUM\n",
       "FxjWM4ShBWXACQZmAyCDFxGhfAx8dQwMD7gXMKSCeMbwwAYKsX1k4AWzmeCOeMBQjB6WfAy7GPhB\n",
       "jnlsiRwTICL+AcM6SBwGwMTnP+DaADUVKcAYdmFEEes/hnxwJKUj4pTzADiYQJ4Dh8gJBajEEQbm\n",
       "AgZR9Mhl/AZ0HBCc6ACBZnAMODCshiZ0ePqLBZM2DJxQbXw31kEY5gwcFxjgwcxmDJZXBMbLOjS3\n",
       "shwAqoXlFUhQsV5gYAdSlxlewVVpQJLBZYbsA4wKiEipBKn+xLyBcQGaqTwFnJ9gbGgMpOgogRLj\n",
       "81sI/QwhYGfx3Fpnuwg9Zqzu3V2EEV1Waz4iAtkNRB5g+h1AccnD20D90qyC4TU5DpMAxzfOkrCX\n",
       "wZYGJW/UGuzlFAC4H3qKMMwNpwAAAABJRU5ErkJggg==\n",
       "\" style=\"display:inline;vertical-align:middle;\" /></a></td></tr>\n",
       "<tr><td>1</td><td>ExprTuple</td><td>5, 3, 4, 5</td><td><a class=\"ProveItLink\" href=\"../42b898d65e13bc2a3e8f2772a0cb8a7099bdd6080/expr.ipynb\"><img src=\"data:image/png;base64,iVBORw0KGgoAAAANSUhEUgAAAGgAAAAVBAMAAABYjraNAAAAMFBMVEX////c3NwiIiJERESqqqqY\n",
       "mJh2dnZmZmYQEBDu7u4yMjJUVFTMzMyIiIi6uroAAAAs73DqAAAAAXRSTlMAQObYZgAAAT5JREFU\n",
       "OMtjYCAL8F0gTT3rAyBxmlRbaoB4JRZxXj08mriA8jDXiR+AC0/TxakDqIo1gYFjAoR3eh1cYroq\n",
       "Tj0gVZwNDK8gvFd74BLSS3DqgagyYSgD87wKUQzDAaCq0hmWgqhLmXCJyTYIReyrwGADlAtT5cXQ\n",
       "BySTkKKKV3cCDnvgql4w/AP6zPgBcuSpYdeFUHUepImBZ5cDkizLcgGsuuCqzjO0gCjGogDkhLUa\n",
       "GmXsSmBgABWHqXrBYAqxO+kmkIS5i8f4AAMnsiVQCYgqhihg+EFAUCYD5ye4S/YxzFdA8g5cIigT\n",
       "HOSP4JFwgLMfyTMzPiJpQkh4AV2+joEDSSEfcgg8ZMAhAUxGwOSHCG1kfyAHDYoE2wWUrAGSEwIH\n",
       "mB4eTbNA6RPBRc7DvMjqUDL3RlDok5jdeQ8wAAAMSk0tsDQcswAAAABJRU5ErkJggg==\n",
       "\" style=\"display:inline;vertical-align:middle;\" /></a></td></tr>\n",
       "<tr><td>2</td><td>ExprTuple</td><td>6, 7, 8, 9, 10</td><td><a class=\"ProveItLink\" href=\"../feeb8bffd4bce6989c88b94c9c66a8dd7e1cf9c10/expr.ipynb\"><img src=\"data:image/png;base64,iVBORw0KGgoAAAANSUhEUgAAAG0AAAAVBAMAAAC+p33JAAAAMFBMVEX////c3NwiIiJERESqqqqY\n",
       "mJh2dnZmZmYQEBDu7u4yMjJUVFTMzMyIiIi6uroAAAAs73DqAAAAAXRSTlMAQObYZgAAAchJREFU\n",
       "OMudU88rRFEYPc+bZ+Yx75mSlWRWNjZKskDNig3NY2GhMFFkMTUpowhDU2yGqSkpydtIdiP/gIWd\n",
       "hdkoymTYKBtDLNSQ7/4Y3iws5t3Fveeed853v3vf9wFuh5mr2jLBpsvqj/Ke03TiIkcbMHIufKOA\n",
       "L+3Ctwc8u3lLNYQ4oM9G9JQgduPQbG2dYyV6OrTCEQnQKvIytwotQG0MRzSbRb1d+GIvULOedxED\n",
       "I9YGRyTAvRA0ji92AB4b28CFN4gBzvpD82iw0Ms3EdIOcsQEncKXxj4dbCbwTdiXw4VICClcBcgh\n",
       "JGfyOkzwJbGSZfGLzIdwGreyeD5xA+kDUuV3CKf9JQmfIHxJWpZ+pV4bPVBCMnSJEuBjCUZCIA8X\n",
       "Up5dtHTDPBcSNYs2GCxHYNgoUhqcPmYfOOoHKFHNxixtpnEAHAbZy3X4N9EE/Y0if6gJJSfoZbxY\n",
       "HPmPFsYK/D88Er0ftagGXlm8eD5DG30nAL1vbuZa0pn8WoAjLybZxeoK8AXKl39wNtcvK+mpCgHV\n",
       "mVZ+PFgOn/YHia4P6skKQdTZR//7aiJqxCnQqY/QLDeGs3D/movRnvxqhaCe3UKpvgHvgB9Asm5L\n",
       "toimkwAAAABJRU5ErkJggg==\n",
       "\" style=\"display:inline;vertical-align:middle;\" /></a></td></tr>\n",
       "<tr><td>3</td><td>Literal</td><td></td><td><a class=\"ProveItLink\" href=\"../aa616d6a8fe3483e4e64187262e9c7dfe6a536a30/expr.ipynb\"><img src=\"data:image/png;base64,iVBORw0KGgoAAAANSUhEUgAAAA4AAAARBAMAAAAf5oCsAAAALVBMVEX///9ERETMzMyqqqoyMjJU\n",
       "VFTc3NyYmJhmZmZ2dnbu7u66uroiIiKIiIgAAAAFyQXGAAAAAXRSTlMAQObYZgAAAEBJREFUCNdj\n",
       "YEAGvKfB1MqzYGrFcTCV6gymVL3B1EIhqNKzCyAM9pNQBrNHAoTB7aoAYTAJwhjRDLhAzhkQOA0A\n",
       "iskPUSt9tJUAAAAASUVORK5CYII=\n",
       "\" style=\"display:inline;vertical-align:middle;\" /></a></td></tr>\n",
       "<tr><td>4</td><td>Literal</td><td></td><td><a class=\"ProveItLink\" href=\"../../../../logic/equality/__pv_it/2fb26078095930560931daa0500ce419a39ea6cd0/expr.ipynb\"><img src=\"data:image/png;base64,iVBORw0KGgoAAAANSUhEUgAAAA4AAAAFBAMAAACHocAhAAAAFVBMVEX///9EREQiIiJUVFQyMjJm\n",
       "ZmYAAADubVkoAAAAAXRSTlMAQObYZgAAABRJREFUCNdjCHEBAWcGXCBICQQUAUpuAwlgGKrkAAAA\n",
       "AElFTkSuQmCC\n",
       "\" style=\"display:inline;vertical-align:middle;\" /></a></td></tr>\n",
       "<tr><td>5</td><td>Literal</td><td></td><td><a class=\"ProveItLink\" href=\"../7c444b9b2efa607ed6397b492680dde2810212f00/expr.ipynb\"><img src=\"data:image/png;base64,iVBORw0KGgoAAAANSUhEUgAAAA4AAAAMBAMAAACgrpHpAAAALVBMVEX///+YmJhERETu7u52dnYi\n",
       "IiKIiIiqqqq6uroyMjJUVFTMzMxmZmbc3NwAAADmAst+AAAAAXRSTlMAQObYZgAAAD5JREFUCNdj\n",
       "YAAB3tNgintlA4jimLUBRLHPuQCi2EIMQBRLGFgJg5EGhGbYNR3KuBMIZZiEGUAYjCFQBvtsABzC\n",
       "Cm98G6SsAAAAAElFTkSuQmCC\n",
       "\" style=\"display:inline;vertical-align:middle;\" /></a></td></tr>\n",
       "<tr><td>6</td><td>Variable</td><td></td><td><a class=\"ProveItLink\" href=\"../../../../__pv_it/5811dd9d8dc299df1f3b81f9eaa4740e636c675a0/expr.ipynb\"><img src=\"data:image/png;base64,iVBORw0KGgoAAAANSUhEUgAAAAoAAAAJBAMAAAD5iKAgAAAALVBMVEX///+YmJhEREQyMjKqqqrM\n",
       "zMxUVFQiIiK6urqIiIgQEBBmZmZ2dnbu7u4AAABVoMxuAAAAAXRSTlMAQObYZgAAAD9JREFUCNdj\n",
       "4D19gHclAw/HA94yhhDuAgZvhgtcExhCGBj8LjDMZWDYzMBwgIFBm4EjgIHhEMNNBgaGaycFGACC\n",
       "yA2Zs1YJSAAAAABJRU5ErkJggg==\n",
       "\" style=\"display:inline;vertical-align:middle;\" /></a></td></tr>\n",
       "<tr><td>7</td><td>Variable</td><td></td><td><a class=\"ProveItLink\" href=\"../../../../__pv_it/75e452494c4801e076f090988fd69716611d31190/expr.ipynb\"><img src=\"data:image/png;base64,iVBORw0KGgoAAAANSUhEUgAAAA8AAAAJBAMAAAAfoWtkAAAAMFBMVEX///+IiIgiIiLMzMyqqqpU\n",
       "VFRERES6urrc3NwQEBAyMjKYmJhmZmZ2dnbu7u4AAADdI688AAAAAXRSTlMAQObYZgAAAFRJREFU\n",
       "CNdj4LtzgWEXw84GBh72DwypDP4ODCY8Cgy/GdgMGB5wCjD/YOBlYGCof8A4Acw4xcAWwNACZKQy\n",
       "MF1gEAAyrjFYHuDYAGTwXJTLlWZgAAAtGRIpnQ418wAAAABJRU5ErkJggg==\n",
       "\" style=\"display:inline;vertical-align:middle;\" /></a></td></tr>\n",
       "<tr><td>8</td><td>Variable</td><td></td><td><a class=\"ProveItLink\" href=\"../../../../__pv_it/530be409e3083890784cf1d7b28c9e67e90af9360/expr.ipynb\"><img src=\"data:image/png;base64,iVBORw0KGgoAAAANSUhEUgAAAAsAAAAJBAMAAAAWSsseAAAAKlBMVEX///9ERETMzMwQEBAiIiKY\n",
       "mJju7u5mZmaqqqpUVFSIiIh2dnbc3NwAAAA/vyDhAAAAAXRSTlMAQObYZgAAAENJREFUCNdjYDi9\n",
       "8sTyBQxsG1hdmR0YuBm4LnAoMLAxcAowgADzAjB1VoEhgYH1wFoGrgSG3gBhhlMMDImrs3cFMAAA\n",
       "t0YN+iTRa+sAAAAASUVORK5CYII=\n",
       "\" style=\"display:inline;vertical-align:middle;\" /></a></td></tr>\n",
       "<tr><td>9</td><td>Variable</td><td></td><td><a class=\"ProveItLink\" href=\"../../../../__pv_it/f8b9edf8e16034727f0aad55bb83e392c3db40d40/expr.ipynb\"><img src=\"data:image/png;base64,iVBORw0KGgoAAAANSUhEUgAAAAsAAAANBAMAAACN24kIAAAAMFBMVEX///+YmJhUVFQyMjIQEBBE\n",
       "REQiIiKqqqrMzMyIiIi6urrc3NxmZmZ2dnbu7u4AAADXeCicAAAAAXRSTlMAQObYZgAAAFhJREFU\n",
       "CNdj4LtzgWH/AwZerg8M8xkY2nkSGEIZGB6wTGD4ycDAUP+A4weQOszA6QCkbBhYFYDUIYb1AkDq\n",
       "6czzGxhA4BoQMyXwuQMptgusF4AU+8xTQBIAUqMVoSp/SLMAAAAASUVORK5CYII=\n",
       "\" style=\"display:inline;vertical-align:middle;\" /></a></td></tr>\n",
       "<tr><td>10</td><td>Variable</td><td></td><td><a class=\"ProveItLink\" href=\"../../../../__pv_it/251502494639118b4892de8e9d720a5fcce840e10/expr.ipynb\"><img src=\"data:image/png;base64,iVBORw0KGgoAAAANSUhEUgAAAAoAAAAJBAMAAAD5iKAgAAAALVBMVEX///8yMjLMzMx2dnaqqqpU\n",
       "VFTu7u5mZmaYmJhERESIiIjc3NwQEBC6uroAAAB+iRisAAAAAXRSTlMAQObYZgAAADlJREFUCNdj\n",
       "YOA9c2EXA8POrvIJDAwJDKkJDAwM3AFAguE6iGAxAJHODAwBDEwSFY0XGNgZ+o4wAABKtAsIcBKm\n",
       "agAAAABJRU5ErkJggg==\n",
       "\" style=\"display:inline;vertical-align:middle;\" /></a></td></tr>\n",
       "</table>\n"
      ],
      "text/plain": [
       "0. v < w <= x = y < z\n",
       "   core type: Operation\n",
       "   operators: 1\n",
       "   operands: 2\n",
       "1. (< , <= , = , <)\n",
       "   core type: ExprTuple\n",
       "   sub-expressions: 5, 3, 4, 5\n",
       "2. (v , w , x , y , z)\n",
       "   core type: ExprTuple\n",
       "   sub-expressions: 6, 7, 8, 9, 10\n",
       "3. <=\n",
       "   core type: Literal\n",
       "   sub-expressions: \n",
       "4. =\n",
       "   core type: Literal\n",
       "   sub-expressions: \n",
       "5. <\n",
       "   core type: Literal\n",
       "   sub-expressions: \n",
       "6. v\n",
       "   core type: Variable\n",
       "   sub-expressions: \n",
       "7. w\n",
       "   core type: Variable\n",
       "   sub-expressions: \n",
       "8. x\n",
       "   core type: Variable\n",
       "   sub-expressions: \n",
       "9. y\n",
       "   core type: Variable\n",
       "   sub-expressions: \n",
       "10. z\n",
       "    core type: Variable\n",
       "    sub-expressions: "
      ]
     },
     "execution_count": 4,
     "metadata": {},
     "output_type": "execute_result"
    }
   ],
   "source": [
    "# display the expression information\n",
    "expr.exprInfo()"
   ]
  },
  {
   "cell_type": "code",
   "execution_count": null,
   "metadata": {},
   "outputs": [],
   "source": []
  }
 ],
 "metadata": {
  "kernelspec": {
   "display_name": "Python 3",
   "language": "python",
   "name": "python3"
  }
 },
 "nbformat": 4,
 "nbformat_minor": 0
}
