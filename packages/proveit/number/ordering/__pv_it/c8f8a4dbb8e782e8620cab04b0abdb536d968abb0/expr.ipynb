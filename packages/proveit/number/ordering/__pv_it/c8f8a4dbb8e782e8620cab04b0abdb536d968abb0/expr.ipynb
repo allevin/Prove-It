{
 "cells": [
  {
   "cell_type": "markdown",
   "metadata": {},
   "source": [
    "Expression of type <a class=\"ProveItLink\" href=\"../../../../../../doc/html/api/proveit.Lambda.html\">Lambda</a>\n",
    "=======================\n",
    "# from context <a class=\"ProveItLink\" href=\"../../_context_.ipynb\">proveit.number.ordering</a>"
   ]
  },
  {
   "cell_type": "code",
   "execution_count": 1,
   "metadata": {},
   "outputs": [],
   "source": [
    "# import Expression classes needed to build the expression\n",
    "from proveit import Lambda\n",
    "from proveit._common_ import a, b\n",
    "from proveit.logic import InSet\n",
    "from proveit.number import Add, Less, RealsPos"
   ]
  },
  {
   "cell_type": "code",
   "execution_count": 2,
   "metadata": {},
   "outputs": [
    {
     "data": {
      "text/html": [
       "<strong id=\"expr\">expr:</strong> <a class=\"ProveItLink\" href=\"expr.ipynb\"><img src=\"data:image/png;base64,iVBORw0KGgoAAAANSUhEUgAAAPIAAAAYCAMAAAD3aVByAAAANlBMVEX///8UFBQNDQ3c3NxmZmbM\n",
       "zMxERESYmJiIiIh2dna6urqqqqoyMjIiIiIQEBBUVFTu7u4AAABebULIAAAAAXRSTlMAQObYZgAA\n",
       "AqRJREFUWMPtWNmy4iAQZYYdOiz//7OXoIl0BxK0tJyqO7y0ZY7hHHpFxn7R8uzXLfVf8r8flvwr\n",
       "kp35JJwx7bBtl3XvkpxiWGZ/I+NTW0zDHxyExLYv+ZqzhqxUBghgel6GaSGQnpL8BHznAMQOvHzN\n",
       "WTFeMFJ5WBMiAqz6y6pHkGeLt7mMU9565wyeSGLuHLTFdiD5mnORLFaTuDp42eVZZ4R0FcjgJuEe\n",
       "H8eDQwrY9iUfOCcDS1lwkGwlO0q2s6ns4OJxlNNwIrnhoDy2XcmUswSd+l7uSoZoTNSsm0O+3Vds\n",
       "scajsS7g0PQgSKyeww1J5Z2DFQzZrmTMmXGVRoEdO4Gd8vopbw4ixxebd8F9j0pfZZTliz1segKn\n",
       "klsOHrYzPKnYmDNTfJTLbtGwP9xKnq9pEWxfcoqPt4XbnjyvWoRqw6xXqIbwo+SWgwvbSY0lE85J\n",
       "9ctXWLO7U+dEPc28hdHfPwtaIe873T/F6rBGZVKqNyWM4B3JLQd5jweZx5IJZxc2tqR8OcE6Ic8W\n",
       "USug7nuZRUc11KBKWeJS7UeSKVyszRGW2iO37tpymJFMOHdHnhrYwvWe1Q4n9qJPJLc1KfhboJoa\n",
       "WkUHasiLpoF9AidebjnMBDbhnJZhX4Zk9FGybNOCSJYtM6VvpcPXaYZ5PBOmktFI1SmcSG44aGDI\n",
       "diVjzizqkeTi5HiYXWOhJB7exzmHNNzbxlqJfQktexxsUd0+hWPJLYeZJkU4Fze7UZOy/ljPUzRC\n",
       "z40iy9ZmjZPK9EqWBzkHJ02q4bANcODOrhWEMwdyD7ldK1T5EhTk1/8OCfxtcD+av+cGzs4LI+CK\n",
       "/Z51HPVfhg9v0tZg+8778ivrc5fH3cmA7dcl8/hJeC1MHNuvS2bcfBJe+oXEFj17k+QfMUsfaTvV\n",
       "zksAAAAASUVORK5CYII=\n",
       "\" style=\"display:inline;vertical-align:middle;\" /></a><br>"
      ],
      "text/plain": [
       "expr: b -> (a < (a + b)) | b in RealsPos"
      ]
     },
     "execution_count": 2,
     "metadata": {},
     "output_type": "execute_result"
    }
   ],
   "source": [
    "# build up the expression from sub-expressions\n",
    "expr = Lambda(b, Less(a, Add(a, b)), conditions = [InSet(b, RealsPos)])"
   ]
  },
  {
   "cell_type": "code",
   "execution_count": 3,
   "metadata": {},
   "outputs": [
    {
     "name": "stdout",
     "output_type": "stream",
     "text": [
      "Passed sanity check: built 'expr' is the same as the stored Expression.\n"
     ]
    }
   ],
   "source": [
    "# check that the built expression is the same as the stored expression\n",
    "%check_expr"
   ]
  },
  {
   "cell_type": "code",
   "execution_count": 4,
   "metadata": {},
   "outputs": [
    {
     "data": {
      "text/html": [
       "<table><tr><th>&nbsp;</th><th>core type</th><th>sub-expressions</th><th>expression</th></tr>\n",
       "<tr><td>0</td><td>Lambda</td><td>parameter:&nbsp;13<br>body:&nbsp;1<br>conditions:&nbsp;2<br></td><td><a class=\"ProveItLink\" href=\"expr.ipynb\"><img src=\"data:image/png;base64,iVBORw0KGgoAAAANSUhEUgAAAPIAAAAYCAMAAAD3aVByAAAANlBMVEX///8UFBQNDQ3c3NxmZmbM\n",
       "zMxERESYmJiIiIh2dna6urqqqqoyMjIiIiIQEBBUVFTu7u4AAABebULIAAAAAXRSTlMAQObYZgAA\n",
       "AqRJREFUWMPtWNmy4iAQZYYdOiz//7OXoIl0BxK0tJyqO7y0ZY7hHHpFxn7R8uzXLfVf8r8flvwr\n",
       "kp35JJwx7bBtl3XvkpxiWGZ/I+NTW0zDHxyExLYv+ZqzhqxUBghgel6GaSGQnpL8BHznAMQOvHzN\n",
       "WTFeMFJ5WBMiAqz6y6pHkGeLt7mMU9565wyeSGLuHLTFdiD5mnORLFaTuDp42eVZZ4R0FcjgJuEe\n",
       "H8eDQwrY9iUfOCcDS1lwkGwlO0q2s6ns4OJxlNNwIrnhoDy2XcmUswSd+l7uSoZoTNSsm0O+3Vds\n",
       "scajsS7g0PQgSKyeww1J5Z2DFQzZrmTMmXGVRoEdO4Gd8vopbw4ixxebd8F9j0pfZZTliz1segKn\n",
       "klsOHrYzPKnYmDNTfJTLbtGwP9xKnq9pEWxfcoqPt4XbnjyvWoRqw6xXqIbwo+SWgwvbSY0lE85J\n",
       "9ctXWLO7U+dEPc28hdHfPwtaIe873T/F6rBGZVKqNyWM4B3JLQd5jweZx5IJZxc2tqR8OcE6Ic8W\n",
       "USug7nuZRUc11KBKWeJS7UeSKVyszRGW2iO37tpymJFMOHdHnhrYwvWe1Q4n9qJPJLc1KfhboJoa\n",
       "WkUHasiLpoF9AidebjnMBDbhnJZhX4Zk9FGybNOCSJYtM6VvpcPXaYZ5PBOmktFI1SmcSG44aGDI\n",
       "diVjzizqkeTi5HiYXWOhJB7exzmHNNzbxlqJfQktexxsUd0+hWPJLYeZJkU4Fze7UZOy/ljPUzRC\n",
       "z40iy9ZmjZPK9EqWBzkHJ02q4bANcODOrhWEMwdyD7ldK1T5EhTk1/8OCfxtcD+av+cGzs4LI+CK\n",
       "/Z51HPVfhg9v0tZg+8778ivrc5fH3cmA7dcl8/hJeC1MHNuvS2bcfBJe+oXEFj17k+QfMUsfaTvV\n",
       "zksAAAAASUVORK5CYII=\n",
       "\" style=\"display:inline;vertical-align:middle;\" /></a></td></tr>\n",
       "<tr><td>1</td><td>Operation</td><td>operator:&nbsp;3<br>operands:&nbsp;4<br></td><td><a class=\"ProveItLink\" href=\"../4ce9ef9f657cbc96eeb293bca6a35a2d6ec0bd140/expr.ipynb\"><img src=\"data:image/png;base64,iVBORw0KGgoAAAANSUhEUgAAAGIAAAAVBAMAAABPrCZEAAAAMFBMVEX///8yMjKqqqrMzMzu7u4i\n",
       "IiJmZmaYmJhEREQQEBC6urp2dnaIiIhUVFTc3NwAAAD87Fq/AAAAAXRSTlMAQObYZgAAAV9JREFU\n",
       "OMtjYKAO4DqAQ4J9AQ4JW2yCvlOBRDIOHSJYRWWBmBFd8JkBiORBcRTLAyjjE8hZG9BcIwWmOB2Q\n",
       "BZmg+rm+gLRPQNGw8DKUZsCmgzsARDYxMPDd2TUPIqSYB1WTzYAsDNPBeOdsAQPDNgaGlQ84PoBF\n",
       "jm6BmSrOgCQM1+HfwPAZaCwD33cGtgaQwFaEd2cxIIQROvQdGGYDTWLg/cDAChJi6UBEzi8GuDCS\n",
       "jkQGhm8MDPYM/A0M/uAgZb6ogKQDJswmKCg6UVDwApAZxsD1HaTj/QEGfQZwaPKlFkB1TGJAEobb\n",
       "8YmB7QvIVf4KDBeZDCBRtfUIRK6dAVkYpuMzAycw+goZGAuYwrhhzimFBBcwBJGEYTouMeSC5fju\n",
       "nLI4BfezItjYpQzIwjAdvsdArpbCmuQ4H2CLc4jLJ2DPBRtwZhbuA6SkdhBwxCH+FqeOezjE+XDl\n",
       "Wh4DBgBaPF8DkzfUlQAAAABJRU5ErkJggg==\n",
       "\" style=\"display:inline;vertical-align:middle;\" /></a></td></tr>\n",
       "<tr><td>2</td><td>ExprTuple</td><td>5</td><td><a class=\"ProveItLink\" href=\"../c5576a54e3033061cfc4d5d284c717bf20a908250/expr.ipynb\"><img src=\"data:image/png;base64,iVBORw0KGgoAAAANSUhEUgAAAEwAAAAbBAMAAAAkMnRXAAAAMFBMVEX///+qqqp2dnYiIiJERESI\n",
       "iIhmZmYQEBDc3NyYmJgyMjLu7u5UVFTMzMy6uroAAACGxKilAAAAAXRSTlMAQObYZgAAAXVJREFU\n",
       "OMtjYMALGBHMd3iUsYAIBRDBe4CQsjsgYtcGQspYA4DESQZCyhgsGBg4Chi4jxugSs764r+qKgCh\n",
       "LIaBgS2BgYEL3XkOPQxXpBoYTq1avmoVUPn+DQzsDxgY+AXQlbUxsOxwgJvGPIHhPpB6D/UFd5Sx\n",
       "8QKoMqYLCGVsDgzhQEoZasit2QjTkJVxfmA4BaTWhIK9y+GNZCkPkqV8vxl8gHZ9YeC/ABJrQFL2\n",
       "eBaIxwPm8v5lWAaMuN8M7KAI2YLwQruxFZK3OP4xmAFduICBHxgsDM+NjeFeeMaCFDncH0HKmBMY\n",
       "3k+AxR3UUra3B1BMWwMOtnyQ3s3I4bY6EknZX4YjDCD3F4F4PBOQlN3huQBXxveDIRgoLcAGtoHb\n",
       "DkkZk4AHXBkw3N4DpY9mQrhdufCo92VYsh7uV6YFkBCDAZnFEJ+iAa4ABh4FBoJgfwMDrwFhZVOA\n",
       "2JGwMluQuwmq4gRFESNBx7WAyYmElGUzEAsAoORekp91IGIAAAAASUVORK5CYII=\n",
       "\" style=\"display:inline;vertical-align:middle;\" /></a></td></tr>\n",
       "<tr><td>3</td><td>Literal</td><td></td><td><a class=\"ProveItLink\" href=\"../7c444b9b2efa607ed6397b492680dde2810212f00/expr.ipynb\"><img src=\"data:image/png;base64,iVBORw0KGgoAAAANSUhEUgAAAA4AAAAMBAMAAACgrpHpAAAALVBMVEX///+YmJhERETu7u52dnYi\n",
       "IiKIiIiqqqq6uroyMjJUVFTMzMxmZmbc3NwAAADmAst+AAAAAXRSTlMAQObYZgAAAD5JREFUCNdj\n",
       "YAAB3tNgintlA4jimLUBRLHPuQCi2EIMQBRLGFgJg5EGhGbYNR3KuBMIZZiEGUAYjCFQBvtsABzC\n",
       "Cm98G6SsAAAAAElFTkSuQmCC\n",
       "\" style=\"display:inline;vertical-align:middle;\" /></a></td></tr>\n",
       "<tr><td>4</td><td>ExprTuple</td><td>12, 6</td><td><a class=\"ProveItLink\" href=\"../d3ea9a94881fbda8b8a295d90fe51370ec3f6e070/expr.ipynb\"><img src=\"data:image/png;base64,iVBORw0KGgoAAAANSUhEUgAAAE4AAAAVBAMAAAAazcUaAAAAMFBMVEX////c3NwiIiJERESqqqqY\n",
       "mJh2dnZmZmYQEBDu7u4yMjJUVFTMzMyIiIi6uroAAAAs73DqAAAAAXRSTlMAQObYZgAAATlJREFU\n",
       "KM+NkjFIw1AQhj81JmmktbuD3bpm0N3ZpZmdurk5OqhDFXFwkI5ih4DgYARRcBIKBUcHuzkIRZ3E\n",
       "qUKLFIp4r8lLDLSpD+74OP67S+4O/vsK7amS+Vdxj9maxoG4PbHLKcWuxBzIT2ibK0bQU42r2PXx\n",
       "OiPKLwxUUo1PsnVmSfkVtsXPNLf2w2hCWuc0XzzY5EL4ozjXDaMJaZ3vMoR1TqRIH8sNy8UU6yp1\n",
       "jiSfH1joMhtGE4p1O/ANT0q36OK3RkFNVhCcHwfBjWCZQl/pDmG5TYXReBKK6/WwBqrvqnzqGvdG\n",
       "K4emlG6IXYUN+WMczyib+CVNKd0du6i5vKuhdR46nH5pSukazzI+rrH1Hnkbu49w2TW14uh5k8/S\n",
       "bP+5K2/ybZ2JLUWcz7jBW7Wr6Xefb/ELu0Bcr+u1/0sAAAAASUVORK5CYII=\n",
       "\" style=\"display:inline;vertical-align:middle;\" /></a></td></tr>\n",
       "<tr><td>5</td><td>Operation</td><td>operator:&nbsp;7<br>operands:&nbsp;8<br></td><td><a class=\"ProveItLink\" href=\"../7521f4f97c6ef2081d6f82aff8d9ea0348b747480/expr.ipynb\"><img src=\"data:image/png;base64,iVBORw0KGgoAAAANSUhEUgAAAD0AAAAUBAMAAADM7ygkAAAAMFBMVEX////c3NxmZmbMzMxERESY\n",
       "mJiIiIh2dna6urqqqqoyMjIiIiIQEBBUVFTu7u4AAAAiO1wTAAAAAXRSTlMAQObYZgAAAOJJREFU\n",
       "KM9jYMANOBnwAxZ6yPPd2YAqGvXFf9WpBIR+rgto2hxkGUxmCTDcWrVm1SqgOv4J6PJCDCwPHeD6\n",
       "+x9AhPmydu9eAJVnN0DIV0O1WcUh9CPLr027CqIY/ZDM50WYz/eFgd8AxBFAku+OAvF4wYH8j4Gn\n",
       "AEg/QbhPZvcuhJuZFjDwKwDpnt274e5rYnkAl+dWYOgPANK2SP5jakaECdD7+iDVr5H9vy4VIW/A\n",
       "cBxE8wYgydvyGsB4vBOYwIbx7UCSZ5/gCOPxXVOFMKSU4fHjzLBk/QSM6Jy7GuJ+FAAABAc52c61\n",
       "fXcAAAAASUVORK5CYII=\n",
       "\" style=\"display:inline;vertical-align:middle;\" /></a></td></tr>\n",
       "<tr><td>6</td><td>Operation</td><td>operator:&nbsp;9<br>operands:&nbsp;10<br></td><td><a class=\"ProveItLink\" href=\"../65b86a2ea1d082c977df4e73ed0757bba3b084730/expr.ipynb\"><img src=\"data:image/png;base64,iVBORw0KGgoAAAANSUhEUgAAAC0AAAAQBAMAAABw0OvaAAAAMFBMVEX///8yMjKqqqrMzMzu7u4i\n",
       "IiJmZmaYmJhEREQQEBC6urp2dnaIiIhUVFTc3NwAAAD87Fq/AAAAAXRSTlMAQObYZgAAAKVJREFU\n",
       "GNNjYMAALDcDGLACxgtoCh9AaH4FVHGmAxB6vQN28a1gku/Ornmo4rJnrgPJlQ84PqCIs/xg4Ddg\n",
       "4PvOwNaAIs70hYFzAwPvBwbWAyjibAIM/AkM/A0M/gYgnqCg6ERBQaDTWRMY1hcwvD/AoM/ggKwe\n",
       "6Px8BwZ/BYaLTAYo4gYMs4GeLmAK40Yxn1eB7QLI+acsTqG68046dv+iAy4kcQCzmyqD9t3CDAAA\n",
       "AABJRU5ErkJggg==\n",
       "\" style=\"display:inline;vertical-align:middle;\" /></a></td></tr>\n",
       "<tr><td>7</td><td>Literal</td><td></td><td><a class=\"ProveItLink\" href=\"../../../../logic/set_theory/membership/__pv_it/088cbc857536a28d4119ad9639a84270ccb0545d0/expr.ipynb\"><img src=\"data:image/png;base64,iVBORw0KGgoAAAANSUhEUgAAAAwAAAAMBAMAAACkW0HUAAAALVBMVEX///+qqqpmZmZUVFQQEBC6\n",
       "urpERETc3NyYmJjMzMwiIiIyMjKIiIju7u4AAACYsrA9AAAAAXRSTlMAQObYZgAAADxJREFUCNdj\n",
       "YOA9vWrVBgaG2b0MQMCeCyIZ2ArA1DUwyRCyahVIyWQI7xaEYm4AU7xLIdxqTQgtvGvVBgCkcQ7e\n",
       "geM/tQAAAABJRU5ErkJggg==\n",
       "\" style=\"display:inline;vertical-align:middle;\" /></a></td></tr>\n",
       "<tr><td>8</td><td>ExprTuple</td><td>13, 11</td><td><a class=\"ProveItLink\" href=\"../8ced00cc01aa546feeafc75711629977835f405e0/expr.ipynb\"><img src=\"data:image/png;base64,iVBORw0KGgoAAAANSUhEUgAAADwAAAAbBAMAAADSe/HPAAAAMFBMVEX///+qqqp2dnYiIiJERESI\n",
       "iIhmZmYQEBDc3NyYmJgyMjLu7u5UVFTMzMy6uroAAACGxKilAAAAAXRSTlMAQObYZgAAAVhJREFU\n",
       "KM9jYMAKGBHMd1ikWUCEAojgPYBL+g6I2LUBlzRrAJA4yYBLmsGCgYGjgIH7uAFEcNYX/1VVAQjp\n",
       "GAYGtgQGBi6Y9Q49DFekGhhOrVq+ahVQ2f4NDOwPGBj4BWDSbQwsOxzgupknMNwHUu83IKSZLiCk\n",
       "2RwYwoGUMgN2ac4PDKeA1JrQk3BpHiTD+X4z+DAwcH9h4L8Ak348qwHI4AFzef8yLAMG8G8GdgWI\n",
       "dLuxlQDC9xz/GMyALljAwJ8A1f2MBSkQuT+CpJkTGN5PgEqzvT2AonsN2Nv5G2B2r45Ekv7LcIQB\n",
       "5K4iBm6o9B2eC3Bpvh8MwUBnCrAdYNhvAPW3gAdcGujv90AXHM1kYNj+AxwlvgxL1sPdzrQA5mMG\n",
       "hheY0coVwMCjAGVPwJTe38DAa4BbegoQO0KYrFjSjC0QdzHgApygoGRUwCXdAiYn4pLOZiAEADlR\n",
       "V40Zh1fhAAAAAElFTkSuQmCC\n",
       "\" style=\"display:inline;vertical-align:middle;\" /></a></td></tr>\n",
       "<tr><td>9</td><td>Literal</td><td></td><td><a class=\"ProveItLink\" href=\"../../../addition/__pv_it/3e6688136fa3c7aefbebe51301b7c3ebf0b69c440/expr.ipynb\"><img src=\"data:image/png;base64,iVBORw0KGgoAAAANSUhEUgAAAA4AAAAOBAMAAADtZjDiAAAAJFBMVEX///+6urpUVFQQEBAiIiIy\n",
       "MjJmZmaIiIiqqqrc3Nzu7u4AAACgHpL+AAAAAXRSTlMAQObYZgAAAB5JREFUCNdjYGBgWMkAAe2k\n",
       "0Kmhoc6hoUGk6BMHYgAHOwjcado9fwAAAABJRU5ErkJggg==\n",
       "\" style=\"display:inline;vertical-align:middle;\" /></a></td></tr>\n",
       "<tr><td>10</td><td>ExprTuple</td><td>12, 13</td><td><a class=\"ProveItLink\" href=\"../359d2ffcad0b096b85ece3bdabdf3ac9ad97321c0/expr.ipynb\"><img src=\"data:image/png;base64,iVBORw0KGgoAAAANSUhEUgAAACkAAAAVBAMAAAAp9toTAAAAMFBMVEX////c3NwiIiJERESqqqqY\n",
       "mJh2dnZmZmYQEBDu7u4yMjJUVFTMzMyIiIi6uroAAAAs73DqAAAAAXRSTlMAQObYZgAAAQxJREFU\n",
       "GNNtkSFPw1AQx3/burWlbJ1HgMPO4PsNqEKSBYOC1IAFEoIklXOtQRDMDAkhWdIEidkHgAVQBLOS\n",
       "ZQJDuGv3km7hiXv/+72Xe/+7B/+vzngF7Gt4rgD3YQvsTNRt9d7aUEIK7aUCfiBhD5y4SqeaDeBr\n",
       "6aUDDY2AU9lqo+OLkt693kMr4kb0Z7eRlx5m+BlWyrVcnWP3Cmr94PTpnPMLXk69dGKn+BHruVK/\n",
       "R5IVtB4xDZVewuaYXeKF3bNYK+xAEvBoZa7SjCtophxKm6G13SKREXiBPSycfajdydOEwbc4G53o\n",
       "MN5wuqavdyOk42bfJKERR9VJGurKJNlYJG1z6mnN2uoPvcAf68w9OrA141UAAAAASUVORK5CYII=\n",
       "\" style=\"display:inline;vertical-align:middle;\" /></a></td></tr>\n",
       "<tr><td>11</td><td>Literal</td><td></td><td><a class=\"ProveItLink\" href=\"../../../sets/real/__pv_it/399ccec6a6e90df280e82734a8711cdb89199bc00/expr.ipynb\"><img src=\"data:image/png;base64,iVBORw0KGgoAAAANSUhEUgAAABsAAAATBAMAAACTqWsLAAAAMFBMVEX///8iIiK6urp2dnbu7u5m\n",
       "ZmaqqqrMzMxUVFTc3NyIiIgQEBBEREQyMjKYmJgAAAA9nvXMAAAAAXRSTlMAQObYZgAAAGxJREFU\n",
       "GNNjYIADNgYUwEMy9+2f83f3LkDIHpjBUJM7gaH37u27d4HCB6Yy8HgeQMhOZWAuwMflQFWs+HYC\n",
       "kMEB4c4WlE1A2H5gqiqPAzKXVb0BmctwZR0Kt4KjAJnLnHASxgN64TjDnftQswFmaSyXIBgH2QAA\n",
       "AABJRU5ErkJggg==\n",
       "\" style=\"display:inline;vertical-align:middle;\" /></a></td></tr>\n",
       "<tr><td>12</td><td>Variable</td><td></td><td><a class=\"ProveItLink\" href=\"../../../../__pv_it/07527342713064c87612d00d8557c53d53d5324a0/expr.ipynb\"><img src=\"data:image/png;base64,iVBORw0KGgoAAAANSUhEUgAAAAsAAAAJBAMAAAAWSsseAAAAMFBMVEX///8yMjKqqqrMzMzu7u4i\n",
       "IiJmZmaYmJhEREQQEBC6urp2dnaIiIhUVFTc3NwAAAD87Fq/AAAAAXRSTlMAQObYZgAAAEhJREFU\n",
       "CNdjYOC7s2seAwPDygccHxgY+L4zsDUwMPB+YGA9wMDA38Dgb8DA8P4Agz6DA4O/AsNFJgMGxgKm\n",
       "MG6gyjunLE4xAAAZTBA5TB6DCwAAAABJRU5ErkJggg==\n",
       "\" style=\"display:inline;vertical-align:middle;\" /></a></td></tr>\n",
       "<tr><td>13</td><td>Variable</td><td></td><td><a class=\"ProveItLink\" href=\"../../../../__pv_it/6840a4fa6c106149dc16a131294d0c5e44f1b0480/expr.ipynb\"><img src=\"data:image/png;base64,iVBORw0KGgoAAAANSUhEUgAAAAkAAAAOBAMAAAAPuiubAAAALVBMVEX///9mZmbMzMxERESYmJiI\n",
       "iIh2dna6urqqqqoyMjIiIiIQEBBUVFTu7u4AAAD9S1JeAAAAAXRSTlMAQObYZgAAAE1JREFUCNdj\n",
       "4D29gAEIOA+ASL4GEFl3AURmgQiGOaFHGBh4HzPwKTBwvGXgTmBgnMDAJ8DAJcBQ5wBSLncBJLWN\n",
       "gYGngRFoBO9REQYGAGrcDtUkVqASAAAAAElFTkSuQmCC\n",
       "\" style=\"display:inline;vertical-align:middle;\" /></a></td></tr>\n",
       "</table>\n"
      ],
      "text/plain": [
       "0. b -> (a < (a + b)) | b in RealsPos\n",
       "   core type: Lambda\n",
       "   parameter: 13\n",
       "   body: 1\n",
       "   conditions: 2\\n1. a < (a + b)\n",
       "   core type: Operation\n",
       "   operator: 3\n",
       "   operands: 4\n",
       "2. (b in RealsPos)\n",
       "   core type: ExprTuple\n",
       "   sub-expressions: 5\n",
       "3. <\n",
       "   core type: Literal\n",
       "   sub-expressions: \n",
       "4. (a , a + b)\n",
       "   core type: ExprTuple\n",
       "   sub-expressions: 12, 6\n",
       "5. b in RealsPos\n",
       "   core type: Operation\n",
       "   operator: 7\n",
       "   operands: 8\n",
       "6. a + b\n",
       "   core type: Operation\n",
       "   operator: 9\n",
       "   operands: 10\n",
       "7. in\n",
       "   core type: Literal\n",
       "   sub-expressions: \n",
       "8. (b , RealsPos)\n",
       "   core type: ExprTuple\n",
       "   sub-expressions: 13, 11\n",
       "9. +\n",
       "   core type: Literal\n",
       "   sub-expressions: \n",
       "10. (a , b)\n",
       "    core type: ExprTuple\n",
       "    sub-expressions: 12, 13\n",
       "11. RealsPos\n",
       "    core type: Literal\n",
       "    sub-expressions: \n",
       "12. a\n",
       "    core type: Variable\n",
       "    sub-expressions: \n",
       "13. b\n",
       "    core type: Variable\n",
       "    sub-expressions: "
      ]
     },
     "execution_count": 4,
     "metadata": {},
     "output_type": "execute_result"
    }
   ],
   "source": [
    "# display the expression information\n",
    "expr.exprInfo()"
   ]
  },
  {
   "cell_type": "code",
   "execution_count": null,
   "metadata": {},
   "outputs": [],
   "source": []
  }
 ],
 "metadata": {
  "kernelspec": {
   "display_name": "Python 3",
   "language": "python",
   "name": "python3"
  }
 },
 "nbformat": 4,
 "nbformat_minor": 0
}
