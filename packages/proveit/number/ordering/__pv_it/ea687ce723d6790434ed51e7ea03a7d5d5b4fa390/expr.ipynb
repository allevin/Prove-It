{
 "cells": [
  {
   "cell_type": "markdown",
   "metadata": {},
   "source": [
    "Expression of type <a class=\"ProveItLink\" href=\"../../../../../../doc/html/api/proveit.Lambda.html\">Lambda</a>\n",
    "=======================\n",
    "# from context <a class=\"ProveItLink\" href=\"../../_context_.ipynb\">proveit.number.ordering</a>"
   ]
  },
  {
   "cell_type": "code",
   "execution_count": 1,
   "metadata": {},
   "outputs": [],
   "source": [
    "# import Expression classes needed to build the expression\n",
    "from proveit import Lambda\n",
    "from proveit._common_ import x, y\n",
    "from proveit.logic import Forall\n",
    "from proveit.number import GreaterEq, LessEq"
   ]
  },
  {
   "cell_type": "code",
   "execution_count": 2,
   "metadata": {},
   "outputs": [
    {
     "data": {
      "text/html": [
       "<strong id=\"expr\">expr:</strong> <a class=\"ProveItLink\" href=\"expr.ipynb\"><img src=\"data:image/png;base64,iVBORw0KGgoAAAANSUhEUgAAAM4AAAAZCAMAAABO+uFhAAAANlBMVEX///+6uroUFBQNDQ0yMjJE\n",
       "RETMzMwQEBAiIiKYmJju7u5mZmaqqqpUVFSIiIh2dnbc3NwAAACltDI1AAAAAXRSTlMAQObYZgAA\n",
       "AqNJREFUWMPtWNuypCAMhF2uAQL8/88ujIKAqOXo1tmH5WU8x2pNk6TTSMjNxZVSgfyDi6bA/G2U\n",
       "Iv/uCu4/HULgL5ULfgXT9CGdLUMa32Mj3JdAI57R8bb8xV5M1PxZoPzlO9gzOoEXPH+PDR4l2jJz\n",
       "IaXaP5OCspHGvkdHHieBcifOoCCf0dE+fNaLMkfZaV9xTs+God3oBI8uWDQ4VOKaajsT6sjz+mJs\n",
       "Hffz+izwn6sQYRRh1hLqg/am0oGE1koTqeaTxcGEzpJ8Pq1p+p0Q6OXXExpzJ8X9VDGqltwQtGWV\n",
       "jl/BVszpgAt7OjSnFeb1cSYPlh91iFx2QVhi8iv4/ilamQoegqZyy07e7Bb8+5fqlox07wryD+qb\n",
       "dCzDw35fX5Luy1xAcdA5wE6wh6BF7KRA4omNcXRicjIVBbfoaHY2c+ue2dw1InZSBl7tsU3QPZ3w\n",
       "AcOcziD6691UaOsUp8h7mW3ppIal+Gk0ZHozM3wvzLJIjskljLJvmkkdtEE3xabD0nc4pyNwbkF5\n",
       "WLIGSGIgQk6zk+ojlUSK1Crb1M2I+KBKxCyrFHetpO2n2xC0rlJgoyY8PTrUsPv44cBRW7NcBaDp\n",
       "AvmUDi2KBX6bG3tEo7UpO4kJjTUdYTZwxqA3oQaOHrw/aOuTA0ItXZdkxuFR78RQcsLrJo+I5fRV\n",
       "9o8jmnhua8ag15H05LyjoZFYKQ7o5Joq97BUzYhY/tkw8PfsxlOT08chlsm3p5MEx7NlSBRx0zNE\n",
       "6yOdyuHd84IeX6RjHXI2pZNqwhrsDL6FCaI9IGTjxBvzFNoRODcc8PCA0AtmGBrh8tCwQ7TB2NQ5\n",
       "N21StS1v0Elb2bvhSzo7RInmu6Mtijc/faTt9JeuwPKyYIL4yU8fl9/ZHPmRlb+zuT/1TBsq89ZU\n",
       "zAAAAABJRU5ErkJggg==\n",
       "\" style=\"display:inline;vertical-align:middle;\" /></a><br>"
      ],
      "text/plain": [
       "expr: x -> [forall_{y | x <= y} (y >= x)]"
      ]
     },
     "execution_count": 2,
     "metadata": {},
     "output_type": "execute_result"
    }
   ],
   "source": [
    "# build up the expression from sub-expressions\n",
    "expr = Lambda(x, Forall([y], GreaterEq(y, x), conditions = [LessEq(x, y)]))"
   ]
  },
  {
   "cell_type": "code",
   "execution_count": 3,
   "metadata": {},
   "outputs": [
    {
     "name": "stdout",
     "output_type": "stream",
     "text": [
      "Passed sanity check: built 'expr' is the same as the stored Expression.\n"
     ]
    }
   ],
   "source": [
    "# check that the built expression is the same as the stored expression\n",
    "%check_expr"
   ]
  },
  {
   "cell_type": "code",
   "execution_count": 4,
   "metadata": {},
   "outputs": [
    {
     "data": {
      "text/html": [
       "<table><tr><th>&nbsp;</th><th>core type</th><th>sub-expressions</th><th>expression</th></tr>\n",
       "<tr><td>0</td><td>Lambda</td><td>parameter:&nbsp;11<br>body:&nbsp;1<br></td><td><a class=\"ProveItLink\" href=\"expr.ipynb\"><img src=\"data:image/png;base64,iVBORw0KGgoAAAANSUhEUgAAAM4AAAAZCAMAAABO+uFhAAAANlBMVEX///+6uroUFBQNDQ0yMjJE\n",
       "RETMzMwQEBAiIiKYmJju7u5mZmaqqqpUVFSIiIh2dnbc3NwAAACltDI1AAAAAXRSTlMAQObYZgAA\n",
       "AqNJREFUWMPtWNuypCAMhF2uAQL8/88ujIKAqOXo1tmH5WU8x2pNk6TTSMjNxZVSgfyDi6bA/G2U\n",
       "Iv/uCu4/HULgL5ULfgXT9CGdLUMa32Mj3JdAI57R8bb8xV5M1PxZoPzlO9gzOoEXPH+PDR4l2jJz\n",
       "IaXaP5OCspHGvkdHHieBcifOoCCf0dE+fNaLMkfZaV9xTs+God3oBI8uWDQ4VOKaajsT6sjz+mJs\n",
       "Hffz+izwn6sQYRRh1hLqg/am0oGE1koTqeaTxcGEzpJ8Pq1p+p0Q6OXXExpzJ8X9VDGqltwQtGWV\n",
       "jl/BVszpgAt7OjSnFeb1cSYPlh91iFx2QVhi8iv4/ilamQoegqZyy07e7Bb8+5fqlox07wryD+qb\n",
       "dCzDw35fX5Luy1xAcdA5wE6wh6BF7KRA4omNcXRicjIVBbfoaHY2c+ue2dw1InZSBl7tsU3QPZ3w\n",
       "AcOcziD6691UaOsUp8h7mW3ppIal+Gk0ZHozM3wvzLJIjskljLJvmkkdtEE3xabD0nc4pyNwbkF5\n",
       "WLIGSGIgQk6zk+ojlUSK1Crb1M2I+KBKxCyrFHetpO2n2xC0rlJgoyY8PTrUsPv44cBRW7NcBaDp\n",
       "AvmUDi2KBX6bG3tEo7UpO4kJjTUdYTZwxqA3oQaOHrw/aOuTA0ItXZdkxuFR78RQcsLrJo+I5fRV\n",
       "9o8jmnhua8ag15H05LyjoZFYKQ7o5Joq97BUzYhY/tkw8PfsxlOT08chlsm3p5MEx7NlSBRx0zNE\n",
       "6yOdyuHd84IeX6RjHXI2pZNqwhrsDL6FCaI9IGTjxBvzFNoRODcc8PCA0AtmGBrh8tCwQ7TB2NQ5\n",
       "N21StS1v0Elb2bvhSzo7RInmu6Mtijc/faTt9JeuwPKyYIL4yU8fl9/ZHPmRlb+zuT/1TBsq89ZU\n",
       "zAAAAABJRU5ErkJggg==\n",
       "\" style=\"display:inline;vertical-align:middle;\" /></a></td></tr>\n",
       "<tr><td>1</td><td>Operation</td><td>operator:&nbsp;2<br>operand:&nbsp;3<br></td><td><a class=\"ProveItLink\" href=\"../98672c63c4f1a2f194d5ec4b10b0ed32a67f40d30/expr.ipynb\"><img src=\"data:image/png;base64,iVBORw0KGgoAAAANSUhEUgAAAJMAAAAXBAMAAAD96mDoAAAAMFBMVEX///8QEBC6urrMzMxUVFRm\n",
       "ZmZERETc3NwyMjKqqqp2dnaIiIiYmJgiIiLu7u4AAAAU9Wx4AAAAAXRSTlMAQObYZgAAAj1JREFU\n",
       "OMutVU1IFGEYfvZvxtmfacmTRNAhxItkEEKnxMAiLxFBkaTRYUXysIfUkzoEHQIJoRIhormI1OKy\n",
       "UCzF9rN0KQxhqVsgjBcPRrAo1EEPvd836zvfLDsySR98873fPO888/483wzw/4YT3jVaCsY+0awJ\n",
       "42soqjMHYIke4IUwHoaiUrx+FZtBC5ikRb8Vhiml5rd4rQldBdqoWIn5MFQRX1k7z/vRDSC9PDU1\n",
       "HSq/Lv+297Zvq1E4v3O5H6GobgDmko3Z/eDu3pOLXrjwdAhIXgYo0FHP/0Qw1Rz5R+v4yDcmvovr\n",
       "FtaqxwGD6n4SpuX5+xuwoJbnKHA2UUOOb6wNi6tN5I9IdFkgg1Q1gGrxg7rbJj1HSthtbM33xYbG\n",
       "B8QSq1OPqxmnNdUXv7qJCs+d2E6DaYXRY/tUpkUqjpYbvXapCv2ve/BGBMsA0EHzOlJZt9g3ORV9\n",
       "B6abIEb7gZ9H8qe9qJLOQGT+mRQbA8A4zfvQ+uTjF1mKn1N1UCHSouBP6BjOdKPsUUVFt7akbhgA\n",
       "lmhexSkZzSR32tjTsnrJFQMiIulLGFRr9UcENAYFALppblZG8n6JmHeKL9/R2ibI047sdLtCFcvG\n",
       "xKF7oAD0SkmyEqC6DbbaSXxMdS5pJcWanvMA2tmI18yOAKoCW4/Llke1+XbI1YzhMCA/Mhlbs6U5\n",
       "vS7GNyVP9tLz8VILtSuAOHQwKlcCgopzCTW7Cy2pGBC0B3yQX7FlVOxmqoUcDYeBfx99h//h/AW5\n",
       "+pFxpv31zgAAAABJRU5ErkJggg==\n",
       "\" style=\"display:inline;vertical-align:middle;\" /></a></td></tr>\n",
       "<tr><td>2</td><td>Literal</td><td></td><td><a class=\"ProveItLink\" href=\"../../../../logic/boolean/quantification/universal/__pv_it/265f8c02ac1094d56e0e6410a1c1fd3500dc9f540/expr.ipynb\"><img src=\"data:image/png;base64,iVBORw0KGgoAAAANSUhEUgAAAAwAAAAQBAMAAADQT4M0AAAAMFBMVEX///8QEBC6urrMzMxUVFRm\n",
       "ZmZERETc3NwyMjKqqqp2dnaIiIiYmJgiIiLu7u4AAAAU9Wx4AAAAAXRSTlMAQObYZgAAAFhJREFU\n",
       "CNdjeMAABhdAxGmGlSCqj6EMSLInMHAAJVknMPAsLy+vBYp8S0u7BaScGRjSgZQKA18DkOJl4D4A\n",
       "pLgP8IJM4mswARuX7gSmpoKNZWDcAKZ4gCoAgTQTILaSE58AAAAASUVORK5CYII=\n",
       "\" style=\"display:inline;vertical-align:middle;\" /></a></td></tr>\n",
       "<tr><td>3</td><td>Lambda</td><td>parameter:&nbsp;12<br>body:&nbsp;4<br>conditions:&nbsp;5<br></td><td><a class=\"ProveItLink\" href=\"../7e5bc5919d05895571c305f92e5250fe598216060/expr.ipynb\"><img src=\"data:image/png;base64,iVBORw0KGgoAAAANSUhEUgAAALcAAAAVCAMAAAAzZI9IAAAANlBMVEX///8UFBQNDQ2YmJhUVFQy\n",
       "MjIQEBBEREQiIiKqqqrMzMyIiIi6urrc3NxmZmZ2dnbu7u4AAACrLjZHAAAAAXRSTlMAQObYZgAA\n",
       "AfBJREFUSMfFV1mWgyAQdEZka9b7X3Zg0Ni2gFte4k/ytIsqeilxGL52KftJNgO3YKPZ3fLmg7I1\n",
       "uwl0+qu6p1C7G6QPh8jbukE+3iG0ukRN7qBdR39Ld/ASnqebt9NqBNNdAfyG7uDk+I6hnLq9L0RP\n",
       "ilBXdVs2qU4hXK6gjaHaiAojna9DEBEWYz0wq8CVQnvX0b0NnS1gMh2tfjAxd25cHsptLEPiplK0\n",
       "HQTxO6lXltTVqc5cziPQ1k1C8x0h9m2HiLUaXA4WoqE7sHXg+D/VHoKmT7qwshQKVQQY3tZNQouL\n",
       "AC0nJk7PeC5OfFXo90duLh5fBOXfHrJsETZ+mP+ydW86dvK9DV1yQNx1S6xyt+ioG/ke2Lr+sgMK\n",
       "aTsWh1O6SWjTXTGxy30HaxGJbozk85BSSGnsimPZf4pw2CckFDvYxl0x8ZTnXLCGbo2zIGZpFFJ3\n",
       "rNGW0Z37dOzMJQkl7roqx8Qu/Zi4JgtoTyGq2cooxNaMW6UAkVJjYTjyQRpKz0SvSEwcBICLpw6V\n",
       "Rg7nISnIB+9h2R51Y6SbhvbW3BB7efI9fx3y6D1fu2ZiJvOa6uQx2l+GvOjguW5MLJMU4S+dY3cQ\n",
       "i/2+LidcPMdWl8TEKnXM+Z1bdhkyp8q+4bvhDvEi/N5pGPaHDXjyNfAHCWIYhWP4XaQAAAAASUVO\n",
       "RK5CYII=\n",
       "\" style=\"display:inline;vertical-align:middle;\" /></a></td></tr>\n",
       "<tr><td>4</td><td>Operation</td><td>operator:&nbsp;6<br>operands:&nbsp;7<br></td><td><a class=\"ProveItLink\" href=\"../874ad9e446c57e433b9d4ff977c54c00fff01c0c0/expr.ipynb\"><img src=\"data:image/png;base64,iVBORw0KGgoAAAANSUhEUgAAADIAAAASBAMAAADrvZC0AAAAMFBMVEX///+YmJhUVFQyMjIQEBBE\n",
       "REQiIiKqqqrMzMyIiIi6urrc3NxmZmZ2dnbu7u4AAADXeCicAAAAAXRSTlMAQObYZgAAAMhJREFU\n",
       "GNNjYCAMnt3DKVV8GqfUUg2cUq1RyDy+OxcY9j+AcjZZgSnum9qVJxl4uT4wzIer25MBIt8yiAm4\n",
       "MbTzJDCEwmXEzoHIC0C1FQwPWCYw/ISZPA3i8gcMqiCq/gHHD6jEtQkwvZ4g4jADpwPE3mMCMAnu\n",
       "Hwx8DAw2DKwKYJ5yAUxCmvMDwzwGhkMM68Fqty6ASbB/ZHXgBhr8dOb5Dage5ou8d3cimHUNe4gw\n",
       "JfC5Y5dhu8B6AczYlgYCWQgZ9pmnsGsBAAI+NFi6DeZzAAAAAElFTkSuQmCC\n",
       "\" style=\"display:inline;vertical-align:middle;\" /></a></td></tr>\n",
       "<tr><td>5</td><td>ExprTuple</td><td>8</td><td><a class=\"ProveItLink\" href=\"../d0cffd9f56ab57fc4cb657f7638d79f7a64559700/expr.ipynb\"><img src=\"data:image/png;base64,iVBORw0KGgoAAAANSUhEUgAAAD8AAAAVBAMAAAADRiu8AAAAMFBMVEX////c3NwiIiJERESqqqqY\n",
       "mJh2dnZmZmYQEBDu7u4yMjJUVFTMzMyIiIi6uroAAAAs73DqAAAAAXRSTlMAQObYZgAAATZJREFU\n",
       "KM9jYCAI+C7glosDEafxaGY/ACRWooteeoBgL2Bg4EWzgTMJWSCMgYFjAqp8UQAydwYDwysUecZd\n",
       "Dih8ZgeGMiAldlvkOthgnl0w+znTExjkJzCwFTAsBXISWFU5FECixgdgWtn4PjDcZ2BgWcDQB+Qw\n",
       "8H5gAUtduglTcIRdgcEYGEgNDP+AGhm4DaDiQZlQxgSOCwx/gXZ+ACkAegXuNa9CKMN/As8fsIIW\n",
       "EE/+AAPMt6/2QOgqBt4GsBWmDAysAvcZeOHBcdgGTC1nYN4AlFrAkA40LcCCQRbh99Ngr1YzvAcG\n",
       "GdCbjxgYJl+blhuAHiOT79YLMDBwPWDgEMAVlUmQoGZNwCrLrcAJcn4uanQzKoEByA1MCcxAnZzA\n",
       "6GaQxmoCy906kDkg+xnxJLk7DAwAtNtHyrXAhW0AAAAASUVORK5CYII=\n",
       "\" style=\"display:inline;vertical-align:middle;\" /></a></td></tr>\n",
       "<tr><td>6</td><td>Literal</td><td></td><td><a class=\"ProveItLink\" href=\"../96143560a3dbc26f943e0a126972c9bfadab3fc50/expr.ipynb\"><img src=\"data:image/png;base64,iVBORw0KGgoAAAANSUhEUgAAAA4AAAARBAMAAAAf5oCsAAAALVBMVEX///+IiIiYmJjMzMxUVFRE\n",
       "RES6urrc3NxmZmYyMjKqqqp2dnYiIiLu7u4AAACqGg1VAAAAAXRSTlMAQObYZgAAAEFJREFUCNdj\n",
       "YICCO3uhjJXtUEaqM5RhGgZllEyDMioOQ2idXhDJKwPWy7tHAESx9yiAKc8FYCWlCQx4Qc0ZEDgG\n",
       "ALzAEHC/pigGAAAAAElFTkSuQmCC\n",
       "\" style=\"display:inline;vertical-align:middle;\" /></a></td></tr>\n",
       "<tr><td>7</td><td>ExprTuple</td><td>12, 11</td><td><a class=\"ProveItLink\" href=\"../470bbc9880f0fcda6ab2160544dedf05732e41640/expr.ipynb\"><img src=\"data:image/png;base64,iVBORw0KGgoAAAANSUhEUgAAACwAAAAVBAMAAADP3xFXAAAAMFBMVEX////c3NwiIiJERESqqqqY\n",
       "mJh2dnZmZmYQEBDu7u4yMjJUVFTMzMyIiIi6uroAAAAs73DqAAAAAXRSTlMAQObYZgAAAQdJREFU\n",
       "GNN1kLtKA0EUQI8mu5kYJ2whNiLZxl5QwW+wydZWg00qWwsVTWEtC0IINlYiNqJ/sIWdhVOZIoSo\n",
       "ldgYeyPecYOvMQP3wZn7hjGvav+S4F7UjR+5K3Lu4ynQ1seBQaU+Ljd5/m+MZbbks2Go5Umz3ZmO\n",
       "VG1wCmF1QD/PNsGCimGNQ7guxSx94hA9KGbwxDukyjLMo6ksOnvrMPV0+m3UTNkcH4jeRjdHuJaR\n",
       "uiIr4p9RuJQCskfURwtel1lgh5eEE5mgnqwyjxvwUfRRbz+i/SrOXWszEXCBilzJDZGHn8vLWSpx\n",
       "2TVOvnBo3WEnTcH8wscicxR7e2L196WuRCa8g+uMDxGWOvpEaKwNAAAAAElFTkSuQmCC\n",
       "\" style=\"display:inline;vertical-align:middle;\" /></a></td></tr>\n",
       "<tr><td>8</td><td>Operation</td><td>operator:&nbsp;9<br>operands:&nbsp;10<br></td><td><a class=\"ProveItLink\" href=\"../443d32f7a97fdae5d6ed3048a7f17b04ee2d986b0/expr.ipynb\"><img src=\"data:image/png;base64,iVBORw0KGgoAAAANSUhEUgAAADMAAAASBAMAAAAEf/uKAAAAMFBMVEX///8yMjK6urpERETMzMwQ\n",
       "EBAiIiKYmJju7u5mZmaqqqpUVFSIiIh2dnbc3NwAAADpJKkdAAAAAXRSTlMAQObYZgAAAMpJREFU\n",
       "GNNjYCAaHFPAIcFx7QAumWkFOGT4Ni5AFXh7+tVJsDEsG2H2cNy8wPC+gYHjAns6awKIb+wAU83L\n",
       "9IHhPJBi4PnABRY8dgIm5cWZwGAMVMzAbQAVKbsBZTSwHmD4A2Kwwh28cB6Usb6B5QuIfu/A0AAV\n",
       "UtwCoScy8AQwMLA/OM/AA5NicDYBU5IMzBuAegtMGd4gvOIN9sBsBn2g55vP9t7BCIPmM/Mf4Azm\n",
       "azjEuRM4olBCMA0MQHaxXWC+gEMX15lJQBIAZaM04tbXedUAAAAASUVORK5CYII=\n",
       "\" style=\"display:inline;vertical-align:middle;\" /></a></td></tr>\n",
       "<tr><td>9</td><td>Literal</td><td></td><td><a class=\"ProveItLink\" href=\"../aa616d6a8fe3483e4e64187262e9c7dfe6a536a30/expr.ipynb\"><img src=\"data:image/png;base64,iVBORw0KGgoAAAANSUhEUgAAAA4AAAARBAMAAAAf5oCsAAAALVBMVEX///9ERETMzMyqqqoyMjJU\n",
       "VFTc3NyYmJhmZmZ2dnbu7u66uroiIiKIiIgAAAAFyQXGAAAAAXRSTlMAQObYZgAAAEBJREFUCNdj\n",
       "YEAGvKfB1MqzYGrFcTCV6gymVL3B1EIhqNKzCyAM9pNQBrNHAoTB7aoAYTAJwhjRDLhAzhkQOA0A\n",
       "iskPUSt9tJUAAAAASUVORK5CYII=\n",
       "\" style=\"display:inline;vertical-align:middle;\" /></a></td></tr>\n",
       "<tr><td>10</td><td>ExprTuple</td><td>11, 12</td><td><a class=\"ProveItLink\" href=\"../a6a2ac9310c73e21661c7634808321702fb219240/expr.ipynb\"><img src=\"data:image/png;base64,iVBORw0KGgoAAAANSUhEUgAAACwAAAAVBAMAAADP3xFXAAAAMFBMVEX////c3NwiIiJERESqqqqY\n",
       "mJh2dnZmZmYQEBDu7u4yMjJUVFTMzMyIiIi6uroAAAAs73DqAAAAAXRSTlMAQObYZgAAAQtJREFU\n",
       "GNNjYMAB+C6gi7A+ABKnMVXWAPFKTGEuBgbeC5jCrAkMHBMwhTkbGF5hc4YJQxmQFLstch1i1rQy\n",
       "BsafDAzpDEuBehJYVTkUwMIJ7xl4PzAweDH0MTCwAZksB0CiPA5FDMwGDAwvGP4BVTNwG0DtYuhl\n",
       "4Acadx4kzMDAAXMly0+G8wdAwi0gnvwBBog72Rcw3GAAGWIKdL3AfQbeCWAJrgIGayAVBXQLg3+A\n",
       "BYMsA+cnkOoNfF8ZQA58xMAw+dq03AAGzn4BoJ221z8ChdcxcAjAQxjMYlMAex4YLLAAAuJNDDMc\n",
       "gFIXkAIWJKzGYAYkZwGxNEwY5Hbf66CY2QjEjBgBznuAAQAt5DtyKXSr1gAAAABJRU5ErkJggg==\n",
       "\" style=\"display:inline;vertical-align:middle;\" /></a></td></tr>\n",
       "<tr><td>11</td><td>Variable</td><td></td><td><a class=\"ProveItLink\" href=\"../../../../__pv_it/530be409e3083890784cf1d7b28c9e67e90af9360/expr.ipynb\"><img src=\"data:image/png;base64,iVBORw0KGgoAAAANSUhEUgAAAAsAAAAJBAMAAAAWSsseAAAAKlBMVEX///9ERETMzMwQEBAiIiKY\n",
       "mJju7u5mZmaqqqpUVFSIiIh2dnbc3NwAAAA/vyDhAAAAAXRSTlMAQObYZgAAAENJREFUCNdjYDi9\n",
       "8sTyBQxsG1hdmR0YuBm4LnAoMLAxcAowgADzAjB1VoEhgYH1wFoGrgSG3gBhhlMMDImrs3cFMAAA\n",
       "t0YN+iTRa+sAAAAASUVORK5CYII=\n",
       "\" style=\"display:inline;vertical-align:middle;\" /></a></td></tr>\n",
       "<tr><td>12</td><td>Variable</td><td></td><td><a class=\"ProveItLink\" href=\"../../../../__pv_it/f8b9edf8e16034727f0aad55bb83e392c3db40d40/expr.ipynb\"><img src=\"data:image/png;base64,iVBORw0KGgoAAAANSUhEUgAAAAsAAAANBAMAAACN24kIAAAAMFBMVEX///+YmJhUVFQyMjIQEBBE\n",
       "REQiIiKqqqrMzMyIiIi6urrc3NxmZmZ2dnbu7u4AAADXeCicAAAAAXRSTlMAQObYZgAAAFhJREFU\n",
       "CNdj4LtzgWH/AwZerg8M8xkY2nkSGEIZGB6wTGD4ycDAUP+A4weQOszA6QCkbBhYFYDUIYb1AkDq\n",
       "6czzGxhA4BoQMyXwuQMptgusF4AU+8xTQBIAUqMVoSp/SLMAAAAASUVORK5CYII=\n",
       "\" style=\"display:inline;vertical-align:middle;\" /></a></td></tr>\n",
       "</table>\n"
      ],
      "text/plain": [
       "0. x -> [forall_{y | x <= y} (y >= x)]\n",
       "   core type: Lambda\n",
       "   parameter: 11\n",
       "   body: 1\n",
       "1. forall_{y | x <= y} (y >= x)\n",
       "   core type: Operation\n",
       "   operator: 2\n",
       "   operand: 3\n",
       "2. forall\n",
       "   core type: Literal\n",
       "   sub-expressions: \n",
       "3. y -> (y >= x) | x <= y\n",
       "   core type: Lambda\n",
       "   parameter: 12\n",
       "   body: 4\n",
       "   conditions: 5\\n4. y >= x\n",
       "   core type: Operation\n",
       "   operator: 6\n",
       "   operands: 7\n",
       "5. (x <= y)\n",
       "   core type: ExprTuple\n",
       "   sub-expressions: 8\n",
       "6. >=\n",
       "   core type: Literal\n",
       "   sub-expressions: \n",
       "7. (y , x)\n",
       "   core type: ExprTuple\n",
       "   sub-expressions: 12, 11\n",
       "8. x <= y\n",
       "   core type: Operation\n",
       "   operator: 9\n",
       "   operands: 10\n",
       "9. <=\n",
       "   core type: Literal\n",
       "   sub-expressions: \n",
       "10. (x , y)\n",
       "    core type: ExprTuple\n",
       "    sub-expressions: 11, 12\n",
       "11. x\n",
       "    core type: Variable\n",
       "    sub-expressions: \n",
       "12. y\n",
       "    core type: Variable\n",
       "    sub-expressions: "
      ]
     },
     "execution_count": 4,
     "metadata": {},
     "output_type": "execute_result"
    }
   ],
   "source": [
    "# display the expression information\n",
    "expr.exprInfo()"
   ]
  },
  {
   "cell_type": "code",
   "execution_count": null,
   "metadata": {},
   "outputs": [],
   "source": []
  }
 ],
 "metadata": {
  "kernelspec": {
   "display_name": "Python 3",
   "language": "python",
   "name": "python3"
  }
 },
 "nbformat": 4,
 "nbformat_minor": 0
}
