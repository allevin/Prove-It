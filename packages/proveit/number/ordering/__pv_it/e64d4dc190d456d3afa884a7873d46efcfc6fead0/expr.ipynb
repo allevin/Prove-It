{
 "cells": [
  {
   "cell_type": "markdown",
   "metadata": {},
   "source": [
    "Expression of type <a class=\"ProveItLink\" href=\"../../../../../../doc/html/api/proveit.ExprTuple.html\">ExprTuple</a>\n",
    "=======================\n",
    "# from context <a class=\"ProveItLink\" href=\"../../_context_.ipynb\">proveit.number.ordering</a>"
   ]
  },
  {
   "cell_type": "code",
   "execution_count": 1,
   "metadata": {},
   "outputs": [],
   "source": [
    "# import Expression classes needed to build the expression\n",
    "from proveit import ExprTuple\n",
    "from proveit._common_ import d, e\n",
    "from proveit.number import LessEq"
   ]
  },
  {
   "cell_type": "code",
   "execution_count": 2,
   "metadata": {},
   "outputs": [
    {
     "data": {
      "text/html": [
       "<strong id=\"expr\">expr:</strong> <a class=\"ProveItLink\" href=\"expr.ipynb\"><img src=\"data:image/png;base64,iVBORw0KGgoAAAANSUhEUgAAADwAAAAVBAMAAADocZC/AAAAMFBMVEX////c3NwiIiJERESqqqqY\n",
       "mJh2dnZmZmYQEBDu7u4yMjJUVFTMzMyIiIi6uroAAAAs73DqAAAAAXRSTlMAQObYZgAAASdJREFU\n",
       "KM9jYCAA+C7gkmF9ACROg9VYFGCRrwHilWAWvwNM7NIDuDQXAwMvxOz3EyAinElIdrEmMHBAxJOg\n",
       "skUBSIZzNjC8grCWg0nGXQ4olpswlIFE9+Z9AfF4dsHtZSy7LsDAkM6wFMh+IcD8E2SW8QG4PicB\n",
       "RqBfvBj6gCq/MrAvADv6JlzzPwZ2oNoXDP8YGLg/MDAlgEWDMqHS3K2xF4HUeZA0vwHDfKilXoUQ\n",
       "mh8SSucZWhgY5C8w+DNA/f1qD0Qa4vsXDKYMDPMdGHaxwFx12AZEcgClgSgK6HYGrgAWdTa4m0+D\n",
       "7OFdwDAd7LFHIG/fO3wPLTbS74KMX8fAIYA7roGBypqAW5rtAixCwWGhBAaICJ0FxNK4dW8E6cGZ\n",
       "mHgPMAAAOxFIz8IHv7kAAAAASUVORK5CYII=\n",
       "\" style=\"display:inline;vertical-align:middle;\" /></a><br>"
      ],
      "text/plain": [
       "expr: (d <= e)"
      ]
     },
     "execution_count": 2,
     "metadata": {},
     "output_type": "execute_result"
    }
   ],
   "source": [
    "# build up the expression from sub-expressions\n",
    "expr = ExprTuple(LessEq(d, e))"
   ]
  },
  {
   "cell_type": "code",
   "execution_count": 3,
   "metadata": {},
   "outputs": [
    {
     "name": "stdout",
     "output_type": "stream",
     "text": [
      "Passed sanity check: built 'expr' is the same as the stored Expression.\n"
     ]
    }
   ],
   "source": [
    "# check that the built expression is the same as the stored expression\n",
    "%check_expr"
   ]
  },
  {
   "cell_type": "code",
   "execution_count": 4,
   "metadata": {},
   "outputs": [
    {
     "data": {
      "text/html": [
       "<table><tr><th>&nbsp;</th><th>core type</th><th>sub-expressions</th><th>expression</th></tr>\n",
       "<tr><td>0</td><td>ExprTuple</td><td>1</td><td><a class=\"ProveItLink\" href=\"expr.ipynb\"><img src=\"data:image/png;base64,iVBORw0KGgoAAAANSUhEUgAAADwAAAAVBAMAAADocZC/AAAAMFBMVEX////c3NwiIiJERESqqqqY\n",
       "mJh2dnZmZmYQEBDu7u4yMjJUVFTMzMyIiIi6uroAAAAs73DqAAAAAXRSTlMAQObYZgAAASdJREFU\n",
       "KM9jYCAA+C7gkmF9ACROg9VYFGCRrwHilWAWvwNM7NIDuDQXAwMvxOz3EyAinElIdrEmMHBAxJOg\n",
       "skUBSIZzNjC8grCWg0nGXQ4olpswlIFE9+Z9AfF4dsHtZSy7LsDAkM6wFMh+IcD8E2SW8QG4PicB\n",
       "RqBfvBj6gCq/MrAvADv6JlzzPwZ2oNoXDP8YGLg/MDAlgEWDMqHS3K2xF4HUeZA0vwHDfKilXoUQ\n",
       "mh8SSucZWhgY5C8w+DNA/f1qD0Qa4vsXDKYMDPMdGHaxwFx12AZEcgClgSgK6HYGrgAWdTa4m0+D\n",
       "7OFdwDAd7LFHIG/fO3wPLTbS74KMX8fAIYA7roGBypqAW5rtAixCwWGhBAaICJ0FxNK4dW8E6cGZ\n",
       "mHgPMAAAOxFIz8IHv7kAAAAASUVORK5CYII=\n",
       "\" style=\"display:inline;vertical-align:middle;\" /></a></td></tr>\n",
       "<tr><td>1</td><td>Operation</td><td>operator:&nbsp;2<br>operands:&nbsp;3<br></td><td><a class=\"ProveItLink\" href=\"../2d8da1e03c1d8685cc8267ee9b0f3e2f2a0b8f190/expr.ipynb\"><img src=\"data:image/png;base64,iVBORw0KGgoAAAANSUhEUgAAAC8AAAARBAMAAAC/eehCAAAAMFBMVEX////MzMyYmJiIiIhUVFTc\n",
       "3NwyMjIiIiJ2dnbu7u6qqqpmZmYQEBBERES6uroAAABkyy6XAAAAAXRSTlMAQObYZgAAAL9JREFU\n",
       "GNNjYGBg4LuzgQE74F8AY5k/QJF4PwFCc7YboOpoh4pvV0AzKhtMsrotQBFlde77BaIZ3eDms+6w\n",
       "DmBgeBPA+xNkzl0BuNrlAawbGFg/MXAngB1kCdfwj4FbgIHlAwN7A5iv3gmVYDmkbAr0wwWG+VDD\n",
       "l22Fegvs33gDhvUMUH88c4RIgH0zfwGDGxfMXtmLIJIHKGHAwKbAVc0Bd48IyFTmBIbZAUBv2Mna\n",
       "oXm429iAgQLAWg4G8GABAHMPKtGwiKXlAAAAAElFTkSuQmCC\n",
       "\" style=\"display:inline;vertical-align:middle;\" /></a></td></tr>\n",
       "<tr><td>2</td><td>Literal</td><td></td><td><a class=\"ProveItLink\" href=\"../aa616d6a8fe3483e4e64187262e9c7dfe6a536a30/expr.ipynb\"><img src=\"data:image/png;base64,iVBORw0KGgoAAAANSUhEUgAAAA4AAAARBAMAAAAf5oCsAAAALVBMVEX///9ERETMzMyqqqoyMjJU\n",
       "VFTc3NyYmJhmZmZ2dnbu7u66uroiIiKIiIgAAAAFyQXGAAAAAXRSTlMAQObYZgAAAEBJREFUCNdj\n",
       "YEAGvKfB1MqzYGrFcTCV6gymVL3B1EIhqNKzCyAM9pNQBrNHAoTB7aoAYTAJwhjRDLhAzhkQOA0A\n",
       "iskPUSt9tJUAAAAASUVORK5CYII=\n",
       "\" style=\"display:inline;vertical-align:middle;\" /></a></td></tr>\n",
       "<tr><td>3</td><td>ExprTuple</td><td>4, 5</td><td><a class=\"ProveItLink\" href=\"../f56603734a2b738fa08597566c898bb611a740240/expr.ipynb\"><img src=\"data:image/png;base64,iVBORw0KGgoAAAANSUhEUgAAACoAAAAVBAMAAADCwWEQAAAAMFBMVEX////c3NwiIiJERESqqqqY\n",
       "mJh2dnZmZmYQEBDu7u4yMjJUVFTMzMyIiIi6uroAAAAs73DqAAAAAXRSTlMAQObYZgAAAP9JREFU\n",
       "GNNjYMAO+C6gCbA+ABKnwVIWBQjhGiBeCWbxOyBEuRgYeCEGvJ+AZEQCAweEm4RkMGcDwysIazmy\n",
       "fSYMZUCScW/eFwifsey6AANDOsNSIPuFAPNPiKiTACPQMV4MfUAFXxnYF0CU/mNgPwBUxfCPgYH7\n",
       "AwNTAliUuzX2IpA6DxLlN2CY/wDiaohfzjO0MDDIX2DwZwA7kB/i+BcMpgwM8x0YdrEc4ARyOYCi\n",
       "QBQFdAUDVwCLOhvDfAWgRxcwTAe77BHIufcO32OY8RGoOP0uyIx1DBwCMB89RPIxawKMEwBjsF2A\n",
       "hSSy6CwgloayeeGBsxHkS/QY4j3AAADI+jw7BIzlMQAAAABJRU5ErkJggg==\n",
       "\" style=\"display:inline;vertical-align:middle;\" /></a></td></tr>\n",
       "<tr><td>4</td><td>Variable</td><td></td><td><a class=\"ProveItLink\" href=\"../../../../__pv_it/3a5de44ed6135dbbdbbeec6704c741e238f127300/expr.ipynb\"><img src=\"data:image/png;base64,iVBORw0KGgoAAAANSUhEUgAAAAsAAAAOBAMAAAALT/umAAAAMFBMVEX////MzMyYmJiIiIhUVFTc\n",
       "3NwyMjIiIiJ2dnbu7u6qqqpmZmYQEBBERES6uroAAABkyy6XAAAAAXRSTlMAQObYZgAAAFhJREFU\n",
       "CNdjYGBg4LuzgQEE+BeAqfcTwFQ7mGTIBmJW575fQOpNAO9PIOcTA3cCAwPLBwb2BqCeCwzzHzAw\n",
       "xBswrGeYwDB/AYMblwADmwJXNQdIm52sHQMAfyoTCZukXIEAAAAASUVORK5CYII=\n",
       "\" style=\"display:inline;vertical-align:middle;\" /></a></td></tr>\n",
       "<tr><td>5</td><td>Variable</td><td></td><td><a class=\"ProveItLink\" href=\"../../../../__pv_it/0bc0f4a545336331111a0b22c4f05a0627b57b8f0/expr.ipynb\"><img src=\"data:image/png;base64,iVBORw0KGgoAAAANSUhEUgAAAAkAAAAJBAMAAAASvxsjAAAALVBMVEX////u7u4yMjKYmJgQEBBU\n",
       "VFTMzMy6uroiIiKqqqqIiIh2dnZmZmbc3NwAAAAyj3LLAAAAAXRSTlMAQObYZgAAADlJREFUCNdj\n",
       "YOA9veYCA8OMC7wHGHifM/AkMLA6W61lYOA7wAAEfAtAJAuQXMDApcAgA1S5Z9UCBgB6Cgz1W65k\n",
       "FgAAAABJRU5ErkJggg==\n",
       "\" style=\"display:inline;vertical-align:middle;\" /></a></td></tr>\n",
       "</table>\n"
      ],
      "text/plain": [
       "0. (d <= e)\n",
       "   core type: ExprTuple\n",
       "   sub-expressions: 1\n",
       "1. d <= e\n",
       "   core type: Operation\n",
       "   operator: 2\n",
       "   operands: 3\n",
       "2. <=\n",
       "   core type: Literal\n",
       "   sub-expressions: \n",
       "3. (d , e)\n",
       "   core type: ExprTuple\n",
       "   sub-expressions: 4, 5\n",
       "4. d\n",
       "   core type: Variable\n",
       "   sub-expressions: \n",
       "5. e\n",
       "   core type: Variable\n",
       "   sub-expressions: "
      ]
     },
     "execution_count": 4,
     "metadata": {},
     "output_type": "execute_result"
    }
   ],
   "source": [
    "# display the expression information\n",
    "expr.exprInfo()"
   ]
  },
  {
   "cell_type": "code",
   "execution_count": null,
   "metadata": {},
   "outputs": [],
   "source": []
  }
 ],
 "metadata": {
  "kernelspec": {
   "display_name": "Python 3",
   "language": "python",
   "name": "python3"
  }
 },
 "nbformat": 4,
 "nbformat_minor": 0
}
