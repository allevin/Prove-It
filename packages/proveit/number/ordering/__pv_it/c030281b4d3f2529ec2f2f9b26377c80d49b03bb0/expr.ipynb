{
 "cells": [
  {
   "cell_type": "markdown",
   "metadata": {},
   "source": [
    "Expression of type <a class=\"ProveItLink\" href=\"../../../../../../doc/html/api/proveit.logic.Set.html\">Set</a>\n",
    "=======================\n",
    "# from context <a class=\"ProveItLink\" href=\"../../_context_.ipynb\">proveit.number.ordering</a>"
   ]
  },
  {
   "cell_type": "code",
   "execution_count": 1,
   "metadata": {},
   "outputs": [],
   "source": [
    "# import Expression classes needed to build the expression\n",
    "from proveit._common_ import a, b, c, d\n",
    "from proveit.logic import Equals, Set\n",
    "from proveit.number import GreaterEq, Less"
   ]
  },
  {
   "cell_type": "code",
   "execution_count": 2,
   "metadata": {},
   "outputs": [
    {
     "data": {
      "text/html": [
       "<strong id=\"expr\">expr:</strong> <a class=\"ProveItLink\" href=\"expr.ipynb\"><img src=\"data:image/png;base64,iVBORw0KGgoAAAANSUhEUgAAALMAAAAVBAMAAAD/f8IzAAAAMFBMVEX////c3NxERESqqqpUVFS6\n",
       "urrMzMwyMjIQEBCIiIh2dnYiIiLu7u5mZmaYmJgAAABXZE4RAAAAAXRSTlMAQObYZgAAAgpJREFU\n",
       "OMtjYGDgu8dAbcC2SgBE8exioD5gawaRnB9wSLNqXABb7bGBDLOvgwiuBlzS/AZgit2BoEGn16CL\n",
       "rMBvdPwBZBvAgPEadqXmF0kzejWKDeAgdA/AoTbIjSSja1FsAIV+SQLOMElSxWH0qZXT0JQyei79\n",
       "DGGVzPSDMJhrBeByjVBlCI0ipVB6VoQA1GjeAqBHWxmqQcxyMABHW4QA0x+wUp5PDPxgx3LugoUM\n",
       "UA6arKAawUB2G9hnjQz6QOo9iJ0BDL4TExj00Bz9D2wnyK1/GDgWgHy3E1lOAcJE1vj6DoiUf8Bw\n",
       "CZSsgAk3pQ3I8McIOpYPDNwLGKC+4gcl8EOqyHITIEyERp7Za2AiYDeoPwD6DujbT5hpWoHhPCQ1\n",
       "cF9giH8AYqQUI8lB4xOukWf1BJgIzzeQLpC7WAoYGH9ChHl3gwHIs/ITGOwZDkCT9X1IIMvugyhD\n",
       "yME0MjDefgBl/GRg/sADDWsuYD7+ByykUF193oDBnTmBB2R0AkMXLDnsPIAqB9PI6A7LVjyfgW41\n",
       "Q0p8vgwMy1CNZn/AvJeL4TzQWhYDXnhO5wMnEoQcTKMQIifVMVhfWIBkNO/KmQfQk/XUpKkMJz4C\n",
       "3eGJVOgyl6HIYdEoMjNMM4BgbgSCQDLliDD6AZlyEKP5qGC0NDhlbUUvr3l24tbNyUCeHKgAADt7\n",
       "MW3qRgBHO57EmOWnkAAAAABJRU5ErkJggg==\n",
       "\" style=\"display:inline;vertical-align:middle;\" /></a><br>"
      ],
      "text/plain": [
       "expr: {c = d , b < a , c >= a}"
      ]
     },
     "execution_count": 2,
     "metadata": {},
     "output_type": "execute_result"
    }
   ],
   "source": [
    "# build up the expression from sub-expressions\n",
    "expr = Set(Equals(c, d), Less(b, a), GreaterEq(c, a))"
   ]
  },
  {
   "cell_type": "code",
   "execution_count": 3,
   "metadata": {},
   "outputs": [
    {
     "name": "stdout",
     "output_type": "stream",
     "text": [
      "Passed sanity check: built 'expr' is the same as the stored Expression.\n"
     ]
    }
   ],
   "source": [
    "# check that the built expression is the same as the stored expression\n",
    "%check_expr"
   ]
  },
  {
   "cell_type": "code",
   "execution_count": 4,
   "metadata": {},
   "outputs": [
    {
     "data": {
      "text/html": [
       "<table><tr><th>&nbsp;</th><th>core type</th><th>sub-expressions</th><th>expression</th></tr>\n",
       "<tr><td>0</td><td>Operation</td><td>operator:&nbsp;1<br>operands:&nbsp;2<br></td><td><a class=\"ProveItLink\" href=\"expr.ipynb\"><img src=\"data:image/png;base64,iVBORw0KGgoAAAANSUhEUgAAALMAAAAVBAMAAAD/f8IzAAAAMFBMVEX////c3NxERESqqqpUVFS6\n",
       "urrMzMwyMjIQEBCIiIh2dnYiIiLu7u5mZmaYmJgAAABXZE4RAAAAAXRSTlMAQObYZgAAAgpJREFU\n",
       "OMtjYGDgu8dAbcC2SgBE8exioD5gawaRnB9wSLNqXABb7bGBDLOvgwiuBlzS/AZgit2BoEGn16CL\n",
       "rMBvdPwBZBvAgPEadqXmF0kzejWKDeAgdA/AoTbIjSSja1FsAIV+SQLOMElSxWH0qZXT0JQyei79\n",
       "DGGVzPSDMJhrBeByjVBlCI0ipVB6VoQA1GjeAqBHWxmqQcxyMABHW4QA0x+wUp5PDPxgx3LugoUM\n",
       "UA6arKAawUB2G9hnjQz6QOo9iJ0BDL4TExj00Bz9D2wnyK1/GDgWgHy3E1lOAcJE1vj6DoiUf8Bw\n",
       "CZSsgAk3pQ3I8McIOpYPDNwLGKC+4gcl8EOqyHITIEyERp7Za2AiYDeoPwD6DujbT5hpWoHhPCQ1\n",
       "cF9giH8AYqQUI8lB4xOukWf1BJgIzzeQLpC7WAoYGH9ChHl3gwHIs/ITGOwZDkCT9X1IIMvugyhD\n",
       "yME0MjDefgBl/GRg/sADDWsuYD7+ByykUF193oDBnTmBB2R0AkMXLDnsPIAqB9PI6A7LVjyfgW41\n",
       "Q0p8vgwMy1CNZn/AvJeL4TzQWhYDXnhO5wMnEoQcTKMQIifVMVhfWIBkNO/KmQfQk/XUpKkMJz4C\n",
       "3eGJVOgyl6HIYdEoMjNMM4BgbgSCQDLliDD6AZlyEKP5qGC0NDhlbUUvr3l24tbNyUCeHKgAADt7\n",
       "MW3qRgBHO57EmOWnkAAAAABJRU5ErkJggg==\n",
       "\" style=\"display:inline;vertical-align:middle;\" /></a></td></tr>\n",
       "<tr><td>1</td><td>Literal</td><td></td><td><a class=\"ProveItLink\" href=\"../../../../logic/set_theory/enumeration/__pv_it/07381ed5b23806e8d7914b78cb6667769e3708dd0/expr.ipynb\"><img src=\"data:image/png;base64,iVBORw0KGgoAAAANSUhEUgAAAB4AAAAOBAMAAADKyLEKAAAAMFBMVEX///8iIiIQEBCIiIjMzMzc\n",
       "3Nyqqqp2dnZEREQyMjK6urru7u5mZmZUVFSYmJgAAACI6eGPAAAAAXRSTlMAQObYZgAAALRJREFU\n",
       "CNdjYGDgu3Nm3wIGBJjHwN0PZW5yYGDgLWBgyITy8zcwMMQDxZyh/INAvD6BgcEFypcB4vjPDiBm\n",
       "TPFRrhs/LjMwMP//38rAwCbKEMPA9gEkE3fp0waG+AUMRxh4JkC01T9guPTOOICBEWgVH5C//wHD\n",
       "H5D4fqCz9oCMDGD4DLaegRXslLMMDMpAgxlOMmQxHDRgYG5gYLBk4D7KcIe7gOHC2rt9QCXsh40Z\n",
       "GCKMGQDRkC8N/Ph1XAAAAABJRU5ErkJggg==\n",
       "\" style=\"display:inline;vertical-align:middle;\" /></a></td></tr>\n",
       "<tr><td>2</td><td>ExprTuple</td><td>3, 4, 5</td><td><a class=\"ProveItLink\" href=\"../08ba5d28728199766da5e4c9ad1a72f5510ba20d0/expr.ipynb\"><img src=\"data:image/png;base64,iVBORw0KGgoAAAANSUhEUgAAAK0AAAAVBAMAAADGGHNoAAAAMFBMVEX////c3NwiIiJERESqqqqY\n",
       "mJh2dnZmZmYQEBDu7u4yMjJUVFTMzMyIiIi6uroAAAAs73DqAAAAAXRSTlMAQObYZgAAAiVJREFU\n",
       "OMtjYKAV4LtAdSPjQMRpHJKP28HU7CbSzWU/ACRW4pL9AqFWEzSGU20CmsgCBgZeXMHA9xPFeDAQ\n",
       "P4BVKctyAVSBMAYGjgk4zGVTQDEeHGTrcLnBGtXCGQwMr3D5jqsA2XgQeLUHZ1DwGD9A5jI7MJSB\n",
       "AijtLroHpa+9d4AYv/d2AETIqxAu9wLqb4RGxl0Qgxn35jUCHVPAsBTIOfGAC+SqqlUgAI4nvkYG\n",
       "e0gAzTdg+ANmXMqEeRooB2VCNYINLALb8EKA+QMwwBcw9AFt7WVgDkB1rnwAQxWE5T+BoQ1EJ11A\n",
       "kiuGOhdJI6s6yB2MXxnYDYBWNzD8Y2Dg/oARXvsZGNQgLKDx30FGIAIQKKcLYSFpnAtJa0ARJqAD\n",
       "eD6AzOU3wDD3MwPnPwhLnYHvKzhmdjkg5CAhg6Rxmi5cZP4BsLktQI9BvVikBALKIO/8ZWD5wAlN\n",
       "vuw/oQEI8TKSHEwjg7gqLIwuMPgzTACFgynQEqAG1PDl/MLAvcCHAeS1PwwcCVDBpJtocjCN0ktg\n",
       "Guc7MOxiOcDAuoAhHRgoBQxsaOlsKYNTQQLnJyBrC0M1XDQoE1UOqpHRDpHoA1jU2cDp7BGQV3b3\n",
       "JnryvfvG9gFnPzCZzr6O5BWvAyhymBoZ9947fA9o/AMGDgE8RSiZcqB8zJqAW5qVgTw5hlx85STR\n",
       "5jKC05ESooTgXAAKLtx68dUk+OS4QWHESP166A4DAwDquJi6HEtd8AAAAABJRU5ErkJggg==\n",
       "\" style=\"display:inline;vertical-align:middle;\" /></a></td></tr>\n",
       "<tr><td>3</td><td>Operation</td><td>operator:&nbsp;6<br>operands:&nbsp;7<br></td><td><a class=\"ProveItLink\" href=\"../8215400098174965ca72f9193c060d01cabd37fd0/expr.ipynb\"><img src=\"data:image/png;base64,iVBORw0KGgoAAAANSUhEUgAAADAAAAAOBAMAAACbXIJpAAAAMFBMVEX///+qqqpmZmbc3NxUVFSY\n",
       "mJhEREQiIiIyMjK6uroQEBDMzMyIiIh2dnbu7u4AAAA4MM1YAAAAAXRSTlMAQObYZgAAAJRJREFU\n",
       "GNNjYMAKpi1iwAE+4hDn/IdDgrcAhwSHAgMD390zG9CETc7OF2Bg2DWBA6RPowMEWsAWLGbIf8DA\n",
       "t4aBLQBVg30AgwYDA8sHDAv8GRhqGRj4EzAkvjHw/QTqOwDhqZeDQBmQxfyHgfEDHwM/0AJUO/g+\n",
       "MrA0SDOwKDDwojm3lUFc4QIDg+6Zc+jeODM7ZwIAG+cj9tmP9mYAAAAASUVORK5CYII=\n",
       "\" style=\"display:inline;vertical-align:middle;\" /></a></td></tr>\n",
       "<tr><td>4</td><td>Operation</td><td>operator:&nbsp;8<br>operands:&nbsp;9<br></td><td><a class=\"ProveItLink\" href=\"../5e14c26c9075c845734b5ab089116fd996bec4930/expr.ipynb\"><img src=\"data:image/png;base64,iVBORw0KGgoAAAANSUhEUgAAADAAAAAOBAMAAACbXIJpAAAAMFBMVEX////c3NxmZmbMzMxERESY\n",
       "mJiIiIh2dna6urqqqqoyMjIiIiIQEBBUVFTu7u4AAAAiO1wTAAAAAXRSTlMAQObYZgAAALdJREFU\n",
       "GNNj4LuzgQE74LqAQ4J/AoLNqIwk0f8AzmS+1YAkUQ1ncaw1QDZqbdpVCINzkQBUSDa9R4CB7wsD\n",
       "P1gh23aYmRwHGfyB6v4x8BQAeezb4GbIBzCoMDAwLWDgVwDynnjAJe4zMABVcSsw9AeAuLYrYRJf\n",
       "GPg+g72hDzFcaCvUM98YOD/wgWw+DlX5fBtYBd9PBt4Fkxl4JzDBw4QV4rClDLMVChj4rqki/MS5\n",
       "GOyNtGa3BgCICywAMzVEAgAAAABJRU5ErkJggg==\n",
       "\" style=\"display:inline;vertical-align:middle;\" /></a></td></tr>\n",
       "<tr><td>5</td><td>Operation</td><td>operator:&nbsp;10<br>operands:&nbsp;11<br></td><td><a class=\"ProveItLink\" href=\"../a0a0121978f795d235df3c4293647b9f656ef1900/expr.ipynb\"><img src=\"data:image/png;base64,iVBORw0KGgoAAAANSUhEUgAAADAAAAARBAMAAABp3DInAAAAMFBMVEX///+qqqpmZmbc3NxUVFSY\n",
       "mJhEREQiIiIyMjK6uroQEBDMzMyIiIh2dnbu7u4AAAA4MM1YAAAAAXRSTlMAQObYZgAAAKpJREFU\n",
       "GNNjYCAEnt/DJSOhjEtmmjcumW2ZKFy+u2c2QJkmnVD67CwDBoZdEzgKYIqMqkEk52KGfKCGNQxs\n",
       "ATCJcD0QaR/AoMbAwPIBYehxiJP9GRhqGBj4E+Di1w9AGN8Y+H4D9UF5DMzqUBOZ/zAwfuBj4Ady\n",
       "QSLMHgIwnR8ZWBqkGVgUGHhBzjWbALerlUFc4QIDg+6Zc2geNTkzO2cCA/nAvBwEKuF8AENgJvxv\n",
       "xEg1AAAAAElFTkSuQmCC\n",
       "\" style=\"display:inline;vertical-align:middle;\" /></a></td></tr>\n",
       "<tr><td>6</td><td>Literal</td><td></td><td><a class=\"ProveItLink\" href=\"../../../../logic/equality/__pv_it/2fb26078095930560931daa0500ce419a39ea6cd0/expr.ipynb\"><img src=\"data:image/png;base64,iVBORw0KGgoAAAANSUhEUgAAAA4AAAAFBAMAAACHocAhAAAAFVBMVEX///9EREQiIiJUVFQyMjJm\n",
       "ZmYAAADubVkoAAAAAXRSTlMAQObYZgAAABRJREFUCNdjCHEBAWcGXCBICQQUAUpuAwlgGKrkAAAA\n",
       "AElFTkSuQmCC\n",
       "\" style=\"display:inline;vertical-align:middle;\" /></a></td></tr>\n",
       "<tr><td>7</td><td>ExprTuple</td><td>14, 12</td><td><a class=\"ProveItLink\" href=\"../1f4efc3b7a909d0274ff36f0d19c7c06c2e6ff420/expr.ipynb\"><img src=\"data:image/png;base64,iVBORw0KGgoAAAANSUhEUgAAACkAAAAVBAMAAAAp9toTAAAAMFBMVEX////c3NwiIiJERESqqqqY\n",
       "mJh2dnZmZmYQEBDu7u4yMjJUVFTMzMyIiIi6uroAAAAs73DqAAAAAXRSTlMAQObYZgAAAQNJREFU\n",
       "GNNjYMAO+C6gCcSBiNOoaiwK2A8A6ZWoKvkdGBYwMPCiGfB+AkMYAwPHBFTRJAaGGQwMr9DsWs7A\n",
       "wOzAUAZkcabdPQAWYtyb94WBga2AYSmQc+IBlwJY9IUA808GBpYFDH1Apb0MzAFgpV8Z2IEO4Gtg\n",
       "+MfAwP0BaiaQwZTAwMDzASTKbwBzqwHD/Adg0RYGBnmYk4EMf4YJIBNMgUqAhgZwAkXnOzDsYjnA\n",
       "wLqAIR1oXAED24H5QFdwBbCos4Fd9giopuzuTYYZH0HOvXf4HlDyAQOHANTQh3DvAX3MmgBlB8BF\n",
       "c5FCEi7KCfQIgzSEzQtXyg0ykxE9hu4wMAAA/os7cGgwRtcAAAAASUVORK5CYII=\n",
       "\" style=\"display:inline;vertical-align:middle;\" /></a></td></tr>\n",
       "<tr><td>8</td><td>Literal</td><td></td><td><a class=\"ProveItLink\" href=\"../7c444b9b2efa607ed6397b492680dde2810212f00/expr.ipynb\"><img src=\"data:image/png;base64,iVBORw0KGgoAAAANSUhEUgAAAA4AAAAMBAMAAACgrpHpAAAALVBMVEX///+YmJhERETu7u52dnYi\n",
       "IiKIiIiqqqq6uroyMjJUVFTMzMxmZmbc3NwAAADmAst+AAAAAXRSTlMAQObYZgAAAD5JREFUCNdj\n",
       "YAAB3tNgintlA4jimLUBRLHPuQCi2EIMQBRLGFgJg5EGhGbYNR3KuBMIZZiEGUAYjCFQBvtsABzC\n",
       "Cm98G6SsAAAAAElFTkSuQmCC\n",
       "\" style=\"display:inline;vertical-align:middle;\" /></a></td></tr>\n",
       "<tr><td>9</td><td>ExprTuple</td><td>13, 15</td><td><a class=\"ProveItLink\" href=\"../ebac1b7ca1b1db15bba3f427fe9e3bc6f12657a30/expr.ipynb\"><img src=\"data:image/png;base64,iVBORw0KGgoAAAANSUhEUgAAACkAAAAVBAMAAAAp9toTAAAAMFBMVEX////c3NwiIiJERESqqqqY\n",
       "mJh2dnZmZmYQEBDu7u4yMjJUVFTMzMyIiIi6uroAAAAs73DqAAAAAXRSTlMAQObYZgAAAQxJREFU\n",
       "GNNjYMAO+C6gCcSBiNMMnDsUkEXZDwCJlQwMXBtQFC9gYOAFGsDvgCIaxsDAMYGB4f0EFNEZDAyv\n",
       "gFQSqnXMDgxlQGr13a0QPuPevEYGBrYChqUMDJyfGfgPgEVfCDB/YGBgWcDQByR/MnAkgJV+ZWA3\n",
       "APqggeEf0IELGPgLQKLcHxiYgE7i+QASZSpgeB8AEuU3YJh/ACzaAnZuPdht8hcY/BkmgEwwZQBZ\n",
       "1cbACRSd78Cwi+UAA+sChnSgcQ7sGxjmA8OCK4BFnQ3sskdAl+0tBXroI8i59w7fA0o+YOAQgPro\n",
       "IbKPWROg7AC4aC4kJFFFOYEhySANYfPClXKDzGREj6E7DAwACHU9OgMxFxcAAAAASUVORK5CYII=\n",
       "\" style=\"display:inline;vertical-align:middle;\" /></a></td></tr>\n",
       "<tr><td>10</td><td>Literal</td><td></td><td><a class=\"ProveItLink\" href=\"../96143560a3dbc26f943e0a126972c9bfadab3fc50/expr.ipynb\"><img src=\"data:image/png;base64,iVBORw0KGgoAAAANSUhEUgAAAA4AAAARBAMAAAAf5oCsAAAALVBMVEX///+IiIiYmJjMzMxUVFRE\n",
       "RES6urrc3NxmZmYyMjKqqqp2dnYiIiLu7u4AAACqGg1VAAAAAXRSTlMAQObYZgAAAEFJREFUCNdj\n",
       "YICCO3uhjJXtUEaqM5RhGgZllEyDMioOQ2idXhDJKwPWy7tHAESx9yiAKc8FYCWlCQx4Qc0ZEDgG\n",
       "ALzAEHC/pigGAAAAAElFTkSuQmCC\n",
       "\" style=\"display:inline;vertical-align:middle;\" /></a></td></tr>\n",
       "<tr><td>11</td><td>ExprTuple</td><td>14, 15</td><td><a class=\"ProveItLink\" href=\"../2bc2e5d494c8fd62a78f0e1e8e587b09732137e00/expr.ipynb\"><img src=\"data:image/png;base64,iVBORw0KGgoAAAANSUhEUgAAACkAAAAVBAMAAAAp9toTAAAAMFBMVEX////c3NwiIiJERESqqqqY\n",
       "mJh2dnZmZmYQEBDu7u4yMjJUVFTMzMyIiIi6uroAAAAs73DqAAAAAXRSTlMAQObYZgAAAPFJREFU\n",
       "GNNjYMAO+C6gCcSBiNPoytgPAImVGLoXMDDwXsAQDWNg4JiAITqDgeEVpv3MDgxlQIoz7e4BMJ9x\n",
       "b14jAwNbAcNSIOfEAy4FsOgLAeYPDAwsCxj6gEp7GZgDwEq/MrAbAH3QwPCPgYH7A9RAIIMJ6CSe\n",
       "DyBRfgOoKJAx/wBYtIWBQR7mZCDDn2ECyARToBKgoQGcQNH5Dgy7WA4wsC5gSAcaV8DAdmA+0BVc\n",
       "ASzqbGCXPQKqKbt7k2HGR5Bz7x2+B5R8wMAhADX0IbKPWROg7AC4aC5SSMJFOYEhySANYfPClXKD\n",
       "zGRED+A7DAwAW7E3R2iIgGwAAAAASUVORK5CYII=\n",
       "\" style=\"display:inline;vertical-align:middle;\" /></a></td></tr>\n",
       "<tr><td>12</td><td>Variable</td><td></td><td><a class=\"ProveItLink\" href=\"../../../../__pv_it/3a5de44ed6135dbbdbbeec6704c741e238f127300/expr.ipynb\"><img src=\"data:image/png;base64,iVBORw0KGgoAAAANSUhEUgAAAAsAAAAOBAMAAAALT/umAAAAMFBMVEX////MzMyYmJiIiIhUVFTc\n",
       "3NwyMjIiIiJ2dnbu7u6qqqpmZmYQEBBERES6uroAAABkyy6XAAAAAXRSTlMAQObYZgAAAFhJREFU\n",
       "CNdjYGBg4LuzgQEE+BeAqfcTwFQ7mGTIBmJW575fQOpNAO9PIOcTA3cCAwPLBwb2BqCeCwzzHzAw\n",
       "xBswrGeYwDB/AYMblwADmwJXNQdIm52sHQMAfyoTCZukXIEAAAAASUVORK5CYII=\n",
       "\" style=\"display:inline;vertical-align:middle;\" /></a></td></tr>\n",
       "<tr><td>13</td><td>Variable</td><td></td><td><a class=\"ProveItLink\" href=\"../../../../__pv_it/6840a4fa6c106149dc16a131294d0c5e44f1b0480/expr.ipynb\"><img src=\"data:image/png;base64,iVBORw0KGgoAAAANSUhEUgAAAAkAAAAOBAMAAAAPuiubAAAALVBMVEX///9mZmbMzMxERESYmJiI\n",
       "iIh2dna6urqqqqoyMjIiIiIQEBBUVFTu7u4AAAD9S1JeAAAAAXRSTlMAQObYZgAAAE1JREFUCNdj\n",
       "4D29gAEIOA+ASL4GEFl3AURmgQiGOaFHGBh4HzPwKTBwvGXgTmBgnMDAJ8DAJcBQ5wBSLncBJLWN\n",
       "gYGngRFoBO9REQYGAGrcDtUkVqASAAAAAElFTkSuQmCC\n",
       "\" style=\"display:inline;vertical-align:middle;\" /></a></td></tr>\n",
       "<tr><td>14</td><td>Variable</td><td></td><td><a class=\"ProveItLink\" href=\"../../../../__pv_it/cbdfda466482236edba0ce44ac7ef39cda0af7a40/expr.ipynb\"><img src=\"data:image/png;base64,iVBORw0KGgoAAAANSUhEUgAAAAkAAAAJBAMAAAASvxsjAAAALVBMVEX///9mZmbc3NxUVFSYmJhE\n",
       "REQiIiIyMjK6uroQEBDMzMyIiIh2dnbu7u4AAABgFDGoAAAAAXRSTlMAQObYZgAAADZJREFUCNdj\n",
       "YOA9s3sBA8PKBvYEBt7ZDKwODMwPGICALwBE6m0Asx0YGIDiAgw8QJUyu/cyAAAmuwmycZ8WfQAA\n",
       "AABJRU5ErkJggg==\n",
       "\" style=\"display:inline;vertical-align:middle;\" /></a></td></tr>\n",
       "<tr><td>15</td><td>Variable</td><td></td><td><a class=\"ProveItLink\" href=\"../../../../__pv_it/07527342713064c87612d00d8557c53d53d5324a0/expr.ipynb\"><img src=\"data:image/png;base64,iVBORw0KGgoAAAANSUhEUgAAAAsAAAAJBAMAAAAWSsseAAAAMFBMVEX///8yMjKqqqrMzMzu7u4i\n",
       "IiJmZmaYmJhEREQQEBC6urp2dnaIiIhUVFTc3NwAAAD87Fq/AAAAAXRSTlMAQObYZgAAAEhJREFU\n",
       "CNdjYOC7s2seAwPDygccHxgY+L4zsDUwMPB+YGA9wMDA38Dgb8DA8P4Agz6DA4O/AsNFJgMGxgKm\n",
       "MG6gyjunLE4xAAAZTBA5TB6DCwAAAABJRU5ErkJggg==\n",
       "\" style=\"display:inline;vertical-align:middle;\" /></a></td></tr>\n",
       "</table>\n"
      ],
      "text/plain": [
       "0. {c = d , b < a , c >= a}\n",
       "   core type: Operation\n",
       "   operator: 1\n",
       "   operands: 2\n",
       "1. Set\n",
       "   core type: Literal\n",
       "   sub-expressions: \n",
       "2. (c = d , b < a , c >= a)\n",
       "   core type: ExprTuple\n",
       "   sub-expressions: 3, 4, 5\n",
       "3. c = d\n",
       "   core type: Operation\n",
       "   operator: 6\n",
       "   operands: 7\n",
       "4. b < a\n",
       "   core type: Operation\n",
       "   operator: 8\n",
       "   operands: 9\n",
       "5. c >= a\n",
       "   core type: Operation\n",
       "   operator: 10\n",
       "   operands: 11\n",
       "6. =\n",
       "   core type: Literal\n",
       "   sub-expressions: \n",
       "7. (c , d)\n",
       "   core type: ExprTuple\n",
       "   sub-expressions: 14, 12\n",
       "8. <\n",
       "   core type: Literal\n",
       "   sub-expressions: \n",
       "9. (b , a)\n",
       "   core type: ExprTuple\n",
       "   sub-expressions: 13, 15\n",
       "10. >=\n",
       "    core type: Literal\n",
       "    sub-expressions: \n",
       "11. (c , a)\n",
       "    core type: ExprTuple\n",
       "    sub-expressions: 14, 15\n",
       "12. d\n",
       "    core type: Variable\n",
       "    sub-expressions: \n",
       "13. b\n",
       "    core type: Variable\n",
       "    sub-expressions: \n",
       "14. c\n",
       "    core type: Variable\n",
       "    sub-expressions: \n",
       "15. a\n",
       "    core type: Variable\n",
       "    sub-expressions: "
      ]
     },
     "execution_count": 4,
     "metadata": {},
     "output_type": "execute_result"
    }
   ],
   "source": [
    "# display the expression information\n",
    "expr.exprInfo()"
   ]
  },
  {
   "cell_type": "code",
   "execution_count": null,
   "metadata": {},
   "outputs": [],
   "source": []
  }
 ],
 "metadata": {
  "kernelspec": {
   "display_name": "Python 3",
   "language": "python",
   "name": "python3"
  }
 },
 "nbformat": 4,
 "nbformat_minor": 0
}
