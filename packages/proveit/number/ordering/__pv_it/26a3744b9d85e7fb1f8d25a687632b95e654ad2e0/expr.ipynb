{
 "cells": [
  {
   "cell_type": "markdown",
   "metadata": {},
   "source": [
    "Expression of type <a class=\"ProveItLink\" href=\"../../../../../../doc/html/api/proveit.logic.InSet.html\">InSet</a>\n",
    "=======================\n",
    "# from context <a class=\"ProveItLink\" href=\"../../_context_.ipynb\">proveit.number.ordering</a>"
   ]
  },
  {
   "cell_type": "code",
   "execution_count": 1,
   "metadata": {},
   "outputs": [],
   "source": [
    "# import Expression classes needed to build the expression\n",
    "from proveit.logic import Booleans, Equals, InSet\n",
    "from proveit.number import Less"
   ]
  },
  {
   "cell_type": "code",
   "execution_count": 2,
   "metadata": {},
   "outputs": [
    {
     "data": {
      "text/html": [
       "<strong id=\"expr\">expr:</strong> <a class=\"ProveItLink\" href=\"expr.ipynb\"><img src=\"data:image/png;base64,iVBORw0KGgoAAAANSUhEUgAAAGUAAAAVBAMAAACtcD09AAAAMFBMVEX////c3NwiIiJERESqqqqY\n",
       "mJh2dnZmZmYQEBDu7u4yMjJUVFTMzMyIiIi6uroAAAAs73DqAAAAAXRSTlMAQObYZgAAAT5JREFU\n",
       "OMtjYCAH8F3AJcP6AJfMadzG1aDxsz6vX6HsAGSsxK2HC13A4C3nyjQGBl5cThM/wMCagKGH4R7Q\n",
       "II4JOJy8joGBswHCnrtISQumx5V7AsMr7Fpe7QGRJmA2z9IJSPYIMzCUYdXiVQim0sGk8ASE23hU\n",
       "LRkYljIwsK8Cgw0wmoHhUiZUK5g0RPjnkf4PoP/7sNiSBAuXFyCC0wA5DO46MzD8w9TCaQyLzPPg\n",
       "SG9SUkKEATNfAjY9DDy7HJD08GxAtoeZwYChBegfJTAwgNEMDIxFAUhuU0DXY4o13DiTboKoKDBn\n",
       "K4oeoNvScSSDoEx4WE96gKQn/DIDwyNcic3rAAPDOjCLcfkBeBo16gZ6lUMAdxqFpR2WXdBwg2WS\n",
       "BNx62HClXzx5YRYuCWncejbikmDEmbd5D2AXBwD/q1ghqb6OQwAAAABJRU5ErkJggg==\n",
       "\" style=\"display:inline;vertical-align:middle;\" /></a><br>"
      ],
      "text/plain": [
       "expr: (= = <) in BOOLEANS"
      ]
     },
     "execution_count": 2,
     "metadata": {},
     "output_type": "execute_result"
    }
   ],
   "source": [
    "# build up the expression from sub-expressions\n",
    "expr = InSet(Equals(Equals._operator_, Less._operator_), Booleans)"
   ]
  },
  {
   "cell_type": "code",
   "execution_count": 3,
   "metadata": {},
   "outputs": [
    {
     "name": "stdout",
     "output_type": "stream",
     "text": [
      "Passed sanity check: built 'expr' is the same as the stored Expression.\n"
     ]
    }
   ],
   "source": [
    "# check that the built expression is the same as the stored expression\n",
    "%check_expr"
   ]
  },
  {
   "cell_type": "code",
   "execution_count": 4,
   "metadata": {},
   "outputs": [
    {
     "data": {
      "text/html": [
       "<table><tr><th>&nbsp;</th><th>core type</th><th>sub-expressions</th><th>expression</th></tr>\n",
       "<tr><td>0</td><td>Operation</td><td>operator:&nbsp;1<br>operands:&nbsp;2<br></td><td><a class=\"ProveItLink\" href=\"expr.ipynb\"><img src=\"data:image/png;base64,iVBORw0KGgoAAAANSUhEUgAAAGUAAAAVBAMAAACtcD09AAAAMFBMVEX////c3NwiIiJERESqqqqY\n",
       "mJh2dnZmZmYQEBDu7u4yMjJUVFTMzMyIiIi6uroAAAAs73DqAAAAAXRSTlMAQObYZgAAAT5JREFU\n",
       "OMtjYCAH8F3AJcP6AJfMadzG1aDxsz6vX6HsAGSsxK2HC13A4C3nyjQGBl5cThM/wMCagKGH4R7Q\n",
       "II4JOJy8joGBswHCnrtISQumx5V7AsMr7Fpe7QGRJmA2z9IJSPYIMzCUYdXiVQim0sGk8ASE23hU\n",
       "LRkYljIwsK8Cgw0wmoHhUiZUK5g0RPjnkf4PoP/7sNiSBAuXFyCC0wA5DO46MzD8w9TCaQyLzPPg\n",
       "SG9SUkKEATNfAjY9DDy7HJD08GxAtoeZwYChBegfJTAwgNEMDIxFAUhuU0DXY4o13DiTboKoKDBn\n",
       "K4oeoNvScSSDoEx4WE96gKQn/DIDwyNcic3rAAPDOjCLcfkBeBo16gZ6lUMAdxqFpR2WXdBwg2WS\n",
       "BNx62HClXzx5YRYuCWncejbikmDEmbd5D2AXBwD/q1ghqb6OQwAAAABJRU5ErkJggg==\n",
       "\" style=\"display:inline;vertical-align:middle;\" /></a></td></tr>\n",
       "<tr><td>1</td><td>Literal</td><td></td><td><a class=\"ProveItLink\" href=\"../../../../logic/set_theory/membership/__pv_it/088cbc857536a28d4119ad9639a84270ccb0545d0/expr.ipynb\"><img src=\"data:image/png;base64,iVBORw0KGgoAAAANSUhEUgAAAAwAAAAMBAMAAACkW0HUAAAALVBMVEX///+qqqpmZmZUVFQQEBC6\n",
       "urpERETc3NyYmJjMzMwiIiIyMjKIiIju7u4AAACYsrA9AAAAAXRSTlMAQObYZgAAADxJREFUCNdj\n",
       "YOA9vWrVBgaG2b0MQMCeCyIZ2ArA1DUwyRCyahVIyWQI7xaEYm4AU7xLIdxqTQgtvGvVBgCkcQ7e\n",
       "geM/tQAAAABJRU5ErkJggg==\n",
       "\" style=\"display:inline;vertical-align:middle;\" /></a></td></tr>\n",
       "<tr><td>2</td><td>ExprTuple</td><td>3, 4</td><td><a class=\"ProveItLink\" href=\"../67f93e86b901876d0622f6c322a7dfde10d4e8300/expr.ipynb\"><img src=\"data:image/png;base64,iVBORw0KGgoAAAANSUhEUgAAAFQAAAAVBAMAAAAqQdQ7AAAAMFBMVEX////c3NwiIiJERESqqqqY\n",
       "mJh2dnZmZmYQEBDu7u4yMjJUVFTMzMyIiIi6uroAAAAs73DqAAAAAXRSTlMAQObYZgAAARdJREFU\n",
       "KM9jYCAB8F0gRhXrAyBxGr+arM/rVyg7MDDUANkrCZhn8JZzZRoDAxcDAy8u+8UPwJQy3AOqY01g\n",
       "4JiAXeXpdXBTGVy5JzBwNjC8wq7y1R6EAxjuCQNpE4YyrCq9CpHcyqNqCaTTGZYyMLCvAoMNMJqB\n",
       "4VImkrce6f8A+ceLoQ+LmUkXUEKA4a4zkH7B8A9TJafxA1SlzHwJDAznsSll4NnlgKqUwQCktAXo\n",
       "ViUwMIDRDAyMRQEYSl8wmGINAc6km0ByArIDooBhgB0EZTJwfoIqDb8MDqxHuOLe6wBnvwA4uRh1\n",
       "g5y+joFDAE/6RJIDRiwwGeBOpEhstgt4EyGy0llALI1bKXKkbQRiRqIyDO8BBgCVclDVKNB22gAA\n",
       "AABJRU5ErkJggg==\n",
       "\" style=\"display:inline;vertical-align:middle;\" /></a></td></tr>\n",
       "<tr><td>3</td><td>Operation</td><td>operator:&nbsp;6<br>operands:&nbsp;5<br></td><td><a class=\"ProveItLink\" href=\"../988d987b640d10c47745e9b4367790779dabb80d0/expr.ipynb\"><img src=\"data:image/png;base64,iVBORw0KGgoAAAANSUhEUgAAAC4AAAAMBAMAAADv85I5AAAALVBMVEX///+YmJju7u52dnaIiIiq\n",
       "qqq6urrMzMzc3NxEREQiIiJUVFQyMjJmZmYAAAAtbRfzAAAAAXRSTlMAQObYZgAAAFNJREFUGNNj\n",
       "YMAGOK5jFWbfk4BNmO10ATZh1rMNQPLOGRA4DacZWBYrYFPNvASrlQya07CLM1QfBVO3VoHASjjN\n",
       "wNC7EIcO5SUK2CUYF+OQYD0OAOB+IJgmfQqgAAAAAElFTkSuQmCC\n",
       "\" style=\"display:inline;vertical-align:middle;\" /></a></td></tr>\n",
       "<tr><td>4</td><td>Literal</td><td></td><td><a class=\"ProveItLink\" href=\"../../../../logic/boolean/__pv_it/46271c8230be96415d662709611f4ed2279d702b0/expr.ipynb\"><img src=\"data:image/png;base64,iVBORw0KGgoAAAANSUhEUgAAAA0AAAAOBAMAAAAGUYvhAAAAMFBMVEX///9mZmbMzMzc3NxUVFSY\n",
       "mJju7u6IiIi6urqqqqoiIiIQEBBEREQyMjJ2dnYAAAAQvcRZAAAAAXRSTlMAQObYZgAAAElJREFU\n",
       "CNdjePvn/u01ExgYGA60s117B6YZKngh9FSWBAjfBsxnWnoMRHet/10AkS+fA6F5OB5AaIYDqDRU\n",
       "PLCGgQFoz6ktExgAgLIl8DFvGtkAAAAASUVORK5CYII=\n",
       "\" style=\"display:inline;vertical-align:middle;\" /></a></td></tr>\n",
       "<tr><td>5</td><td>ExprTuple</td><td>6, 7</td><td><a class=\"ProveItLink\" href=\"../eb61d9e682019b852b9586b7244fceeafc90606b0/expr.ipynb\"><img src=\"data:image/png;base64,iVBORw0KGgoAAAANSUhEUgAAADUAAAAVBAMAAAAUZLt1AAAAMFBMVEX////c3NwiIiJERESqqqqY\n",
       "mJh2dnZmZmYQEBDu7u4yMjJUVFTMzMyIiIi6uroAAAAs73DqAAAAAXRSTlMAQObYZgAAANFJREFU\n",
       "KM9jYMAH+C5gFY4DEaexa2E/ACRW4jBvAQMDLzYjGWsYGMIYGDgmYErx7HrAwDCDgeEVFtetBtnF\n",
       "7MBQhiHFslwARLEVMCwFOmkVGGyASPGqQWxhWcDQh6aLTRdmcgPDPzS5yXYwB33AkGM4vQQu1wK0\n",
       "TwkMDKCS4qowM02RtEC9Ok0XxGBdwJCOkOL8BGWwgpwK9MMjJLl+AZgX1zAwcD1g4BBAChAkNijM\n",
       "WBMQXFZk9+aixhGyHCcwjhikEXzk6OIGmc+IPU3cYWAAAMORK6GjNWquAAAAAElFTkSuQmCC\n",
       "\" style=\"display:inline;vertical-align:middle;\" /></a></td></tr>\n",
       "<tr><td>6</td><td>Literal</td><td></td><td><a class=\"ProveItLink\" href=\"../../../../logic/equality/__pv_it/2fb26078095930560931daa0500ce419a39ea6cd0/expr.ipynb\"><img src=\"data:image/png;base64,iVBORw0KGgoAAAANSUhEUgAAAA4AAAAFBAMAAACHocAhAAAAFVBMVEX///9EREQiIiJUVFQyMjJm\n",
       "ZmYAAADubVkoAAAAAXRSTlMAQObYZgAAABRJREFUCNdjCHEBAWcGXCBICQQUAUpuAwlgGKrkAAAA\n",
       "AElFTkSuQmCC\n",
       "\" style=\"display:inline;vertical-align:middle;\" /></a></td></tr>\n",
       "<tr><td>7</td><td>Literal</td><td></td><td><a class=\"ProveItLink\" href=\"../7c444b9b2efa607ed6397b492680dde2810212f00/expr.ipynb\"><img src=\"data:image/png;base64,iVBORw0KGgoAAAANSUhEUgAAAA4AAAAMBAMAAACgrpHpAAAALVBMVEX///+YmJhERETu7u52dnYi\n",
       "IiKIiIiqqqq6uroyMjJUVFTMzMxmZmbc3NwAAADmAst+AAAAAXRSTlMAQObYZgAAAD5JREFUCNdj\n",
       "YAAB3tNgintlA4jimLUBRLHPuQCi2EIMQBRLGFgJg5EGhGbYNR3KuBMIZZiEGUAYjCFQBvtsABzC\n",
       "Cm98G6SsAAAAAElFTkSuQmCC\n",
       "\" style=\"display:inline;vertical-align:middle;\" /></a></td></tr>\n",
       "</table>\n"
      ],
      "text/plain": [
       "0. (= = <) in BOOLEANS\n",
       "   core type: Operation\n",
       "   operator: 1\n",
       "   operands: 2\n",
       "1. in\n",
       "   core type: Literal\n",
       "   sub-expressions: \n",
       "2. (= = < , BOOLEANS)\n",
       "   core type: ExprTuple\n",
       "   sub-expressions: 3, 4\n",
       "3. = = <\n",
       "   core type: Operation\n",
       "   operator: 6\n",
       "   operands: 5\n",
       "4. BOOLEANS\n",
       "   core type: Literal\n",
       "   sub-expressions: \n",
       "5. (= , <)\n",
       "   core type: ExprTuple\n",
       "   sub-expressions: 6, 7\n",
       "6. =\n",
       "   core type: Literal\n",
       "   sub-expressions: \n",
       "7. <\n",
       "   core type: Literal\n",
       "   sub-expressions: "
      ]
     },
     "execution_count": 4,
     "metadata": {},
     "output_type": "execute_result"
    }
   ],
   "source": [
    "# display the expression information\n",
    "expr.exprInfo()"
   ]
  },
  {
   "cell_type": "code",
   "execution_count": null,
   "metadata": {},
   "outputs": [],
   "source": []
  }
 ],
 "metadata": {
  "kernelspec": {
   "display_name": "Python 3",
   "language": "python",
   "name": "python3"
  }
 },
 "nbformat": 4,
 "nbformat_minor": 0
}
