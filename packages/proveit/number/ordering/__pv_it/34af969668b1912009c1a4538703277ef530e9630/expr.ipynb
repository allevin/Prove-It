{
 "cells": [
  {
   "cell_type": "markdown",
   "metadata": {},
   "source": [
    "Expression of type <a class=\"ProveItLink\" href=\"../../../../../../doc/html/api/proveit.logic.InSet.html\">InSet</a>\n",
    "=======================\n",
    "# from context <a class=\"ProveItLink\" href=\"../../_context_.ipynb\">proveit.number.ordering</a>"
   ]
  },
  {
   "cell_type": "code",
   "execution_count": 1,
   "metadata": {},
   "outputs": [],
   "source": [
    "# import Expression classes needed to build the expression\n",
    "from proveit.logic import Booleans, Equals, InSet\n",
    "from proveit.number import LessEq"
   ]
  },
  {
   "cell_type": "code",
   "execution_count": 2,
   "metadata": {},
   "outputs": [
    {
     "data": {
      "text/html": [
       "<strong id=\"expr\">expr:</strong> <a class=\"ProveItLink\" href=\"expr.ipynb\"><img src=\"data:image/png;base64,iVBORw0KGgoAAAANSUhEUgAAAGUAAAAVBAMAAACtcD09AAAAMFBMVEX////c3NwiIiJERESqqqqY\n",
       "mJh2dnZmZmYQEBDu7u4yMjJUVFTMzMyIiIi6uroAAAAs73DqAAAAAXRSTlMAQObYZgAAAVVJREFU\n",
       "OMtjYCAH8F3AJcP6AJfMadzG1aDxsz6vX6HsAGSshApcQjMVyOdCN8TgLefKNAYGXojTOJNQnQjm\n",
       "syZg6GG4BzSIYwJYSVEAqhYwn7MBwpu7SEkLpseVewLDKxCbcZcDihYY3wRM8iydgGSPMANDGUhw\n",
       "F6pf4Px0MCk8AeE2HlVLBoalQCcYHwCLsK8Cgw0wPgODF5g0RPjnkf4PoD/7QEF0Ey3IYPwXYL8Z\n",
       "IIfBXWcGhn8gdlAmqiYY/zw40puUlBBhwMyXANHD4FWIqgnKB+vh2YBsDzODAUMLhPdqD9A/SmBg\n",
       "AOPD3KaArscUyj1sg2oTmB8FZm5F0QN0Wzo83aGlHRAfIjnpAZKe8MsMDI/wpfl1kBhefgCeRo26\n",
       "gbHNIYBbCyztsOyChhsskyTg1sOGK2utZGCEhBfc1XD+LFyGSeO2ZyMuCUaceZv3AHZxANArZkXA\n",
       "lZmHAAAAAElFTkSuQmCC\n",
       "\" style=\"display:inline;vertical-align:middle;\" /></a><br>"
      ],
      "text/plain": [
       "expr: (<= = <=) in BOOLEANS"
      ]
     },
     "execution_count": 2,
     "metadata": {},
     "output_type": "execute_result"
    }
   ],
   "source": [
    "# build up the expression from sub-expressions\n",
    "expr = InSet(Equals(LessEq._operator_, LessEq._operator_), Booleans)"
   ]
  },
  {
   "cell_type": "code",
   "execution_count": 3,
   "metadata": {},
   "outputs": [
    {
     "name": "stdout",
     "output_type": "stream",
     "text": [
      "Passed sanity check: built 'expr' is the same as the stored Expression.\n"
     ]
    }
   ],
   "source": [
    "# check that the built expression is the same as the stored expression\n",
    "%check_expr"
   ]
  },
  {
   "cell_type": "code",
   "execution_count": 4,
   "metadata": {},
   "outputs": [
    {
     "data": {
      "text/html": [
       "<table><tr><th>&nbsp;</th><th>core type</th><th>sub-expressions</th><th>expression</th></tr>\n",
       "<tr><td>0</td><td>Operation</td><td>operator:&nbsp;1<br>operands:&nbsp;2<br></td><td><a class=\"ProveItLink\" href=\"expr.ipynb\"><img src=\"data:image/png;base64,iVBORw0KGgoAAAANSUhEUgAAAGUAAAAVBAMAAACtcD09AAAAMFBMVEX////c3NwiIiJERESqqqqY\n",
       "mJh2dnZmZmYQEBDu7u4yMjJUVFTMzMyIiIi6uroAAAAs73DqAAAAAXRSTlMAQObYZgAAAVVJREFU\n",
       "OMtjYCAH8F3AJcP6AJfMadzG1aDxsz6vX6HsAGSshApcQjMVyOdCN8TgLefKNAYGXojTOJNQnQjm\n",
       "syZg6GG4BzSIYwJYSVEAqhYwn7MBwpu7SEkLpseVewLDKxCbcZcDihYY3wRM8iydgGSPMANDGUhw\n",
       "F6pf4Px0MCk8AeE2HlVLBoalQCcYHwCLsK8Cgw0wPgODF5g0RPjnkf4PoD/7QEF0Ey3IYPwXYL8Z\n",
       "IIfBXWcGhn8gdlAmqiYY/zw40puUlBBhwMyXANHD4FWIqgnKB+vh2YBsDzODAUMLhPdqD9A/SmBg\n",
       "AOPD3KaArscUyj1sg2oTmB8FZm5F0QN0Wzo83aGlHRAfIjnpAZKe8MsMDI/wpfl1kBhefgCeRo26\n",
       "gbHNIYBbCyztsOyChhsskyTg1sOGK2utZGCEhBfc1XD+LFyGSeO2ZyMuCUaceZv3AHZxANArZkXA\n",
       "lZmHAAAAAElFTkSuQmCC\n",
       "\" style=\"display:inline;vertical-align:middle;\" /></a></td></tr>\n",
       "<tr><td>1</td><td>Literal</td><td></td><td><a class=\"ProveItLink\" href=\"../../../../logic/set_theory/membership/__pv_it/088cbc857536a28d4119ad9639a84270ccb0545d0/expr.ipynb\"><img src=\"data:image/png;base64,iVBORw0KGgoAAAANSUhEUgAAAAwAAAAMBAMAAACkW0HUAAAALVBMVEX///+qqqpmZmZUVFQQEBC6\n",
       "urpERETc3NyYmJjMzMwiIiIyMjKIiIju7u4AAACYsrA9AAAAAXRSTlMAQObYZgAAADxJREFUCNdj\n",
       "YOA9vWrVBgaG2b0MQMCeCyIZ2ArA1DUwyRCyahVIyWQI7xaEYm4AU7xLIdxqTQgtvGvVBgCkcQ7e\n",
       "geM/tQAAAABJRU5ErkJggg==\n",
       "\" style=\"display:inline;vertical-align:middle;\" /></a></td></tr>\n",
       "<tr><td>2</td><td>ExprTuple</td><td>3, 4</td><td><a class=\"ProveItLink\" href=\"../9dabe5e85f87e4ed58d8dc952d39e103c73c07610/expr.ipynb\"><img src=\"data:image/png;base64,iVBORw0KGgoAAAANSUhEUgAAAFQAAAAVBAMAAAAqQdQ7AAAAMFBMVEX////c3NwiIiJERESqqqqY\n",
       "mJh2dnZmZmYQEBDu7u4yMjJUVFTMzMyIiIi6uroAAAAs73DqAAAAAXRSTlMAQObYZgAAATZJREFU\n",
       "KM9jYCAB8F0gRhXrAyBxGr+arM/rVyg7MDDUANkroWKXHqCqgfEN3nKuTGNg4GJg4IXYz5mE6g4E\n",
       "3+Atwz2gOtYEBo4JYJmiAFSVCD5QqSv3BAbOBoZXIC7jLgcUlch8kKnCQNqEoQxI8uxCdScK3+At\n",
       "j6olkE5nWAq0zfgAWJB9FRhsgPGhSh/p/wC524uhD+TZm2ieR+YDHXDXGUi/YPgH4gZloqpF5gOV\n",
       "MvMlMDCchyhl8CpEVYvEByllMAApbYEIvNoDdKsSGBjA+KhKXzCYQkUO26CaC+JPQHZAFDAMoOA0\n",
       "WsSefsD5Cao0/DI4sB7hTimc/QLg5GLUDYqQdQwcAnjSJ5IcMGKByQB3IkVis10AJUJGiM/hboXz\n",
       "kZXOAmJp3KYip8uNIDOIyjC8BxgA8j5e+fm+UIMAAAAASUVORK5CYII=\n",
       "\" style=\"display:inline;vertical-align:middle;\" /></a></td></tr>\n",
       "<tr><td>3</td><td>Operation</td><td>operator:&nbsp;5<br>operands:&nbsp;6<br></td><td><a class=\"ProveItLink\" href=\"../961107e88466c9cc518fdff95183e4ae6a7862b70/expr.ipynb\"><img src=\"data:image/png;base64,iVBORw0KGgoAAAANSUhEUgAAAC4AAAARBAMAAABQu4N8AAAALVBMVEX///9ERETMzMyqqqoyMjJU\n",
       "VFTc3NyYmJhmZmZ2dnbu7u66uroiIiKIiIgAAAAFyQXGAAAAAXRSTlMAQObYZgAAAGdJREFUGNNj\n",
       "YMAHeE9j5a88iyoM5a84jioM5ac6owpD+areqMJQ/kIhCLfFBQRc4XzeswtQnQLjs59ElYDzmT0S\n",
       "UCTgfG5XBQaGnjMgcBDOBwEmQQUUHXA+UzSqW9H5FIAcsDtOo/MBmEwmB/8QJfMAAAAASUVORK5C\n",
       "YII=\n",
       "\" style=\"display:inline;vertical-align:middle;\" /></a></td></tr>\n",
       "<tr><td>4</td><td>Literal</td><td></td><td><a class=\"ProveItLink\" href=\"../../../../logic/boolean/__pv_it/46271c8230be96415d662709611f4ed2279d702b0/expr.ipynb\"><img src=\"data:image/png;base64,iVBORw0KGgoAAAANSUhEUgAAAA0AAAAOBAMAAAAGUYvhAAAAMFBMVEX///9mZmbMzMzc3NxUVFSY\n",
       "mJju7u6IiIi6urqqqqoiIiIQEBBEREQyMjJ2dnYAAAAQvcRZAAAAAXRSTlMAQObYZgAAAElJREFU\n",
       "CNdjePvn/u01ExgYGA60s117B6YZKngh9FSWBAjfBsxnWnoMRHet/10AkS+fA6F5OB5AaIYDqDRU\n",
       "PLCGgQFoz6ktExgAgLIl8DFvGtkAAAAASUVORK5CYII=\n",
       "\" style=\"display:inline;vertical-align:middle;\" /></a></td></tr>\n",
       "<tr><td>5</td><td>Literal</td><td></td><td><a class=\"ProveItLink\" href=\"../../../../logic/equality/__pv_it/2fb26078095930560931daa0500ce419a39ea6cd0/expr.ipynb\"><img src=\"data:image/png;base64,iVBORw0KGgoAAAANSUhEUgAAAA4AAAAFBAMAAACHocAhAAAAFVBMVEX///9EREQiIiJUVFQyMjJm\n",
       "ZmYAAADubVkoAAAAAXRSTlMAQObYZgAAABRJREFUCNdjCHEBAWcGXCBICQQUAUpuAwlgGKrkAAAA\n",
       "AElFTkSuQmCC\n",
       "\" style=\"display:inline;vertical-align:middle;\" /></a></td></tr>\n",
       "<tr><td>6</td><td>ExprTuple</td><td>7, 7</td><td><a class=\"ProveItLink\" href=\"../d5e78aa4bcd0662d27edd300c321a48db9ce05c70/expr.ipynb\"><img src=\"data:image/png;base64,iVBORw0KGgoAAAANSUhEUgAAADUAAAAVBAMAAAAUZLt1AAAAMFBMVEX////c3NwiIiJERESqqqqY\n",
       "mJh2dnZmZmYQEBDu7u4yMjJUVFTMzMyIiIi6uroAAAAs73DqAAAAAXRSTlMAQObYZgAAAPhJREFU\n",
       "KM9jYMAH+C5gFY4DEaexa2E/ACRWQjmXHiAkePUYGBYAKYiRnElIRk/TBRJhDAwcE8BSRQEIqemq\n",
       "IHIGA8MrEM24ywEhJb0ETDE7MJQBKZ5dSHadXgeh2QoYlgINND6AkJpsA2WwLGDoAznxJpITdSdA\n",
       "/d3A8A9EB2UiJFnVIJI8HyByDF6FCEmW5QJQuRaIwKs9SKG4+gDETFOowGGgG6A2MfCAHMe6gCEd\n",
       "7vYHnJ9gbJ59YD88QpjF2S+AFNhcDxg4kPh8yHLAMGNNQHI+ciTlguOIUQkMHoDlhMBsPQbOBaCg\n",
       "RShFTgHcIPMZsaeJOwwMAIoqNwTlnxarAAAAAElFTkSuQmCC\n",
       "\" style=\"display:inline;vertical-align:middle;\" /></a></td></tr>\n",
       "<tr><td>7</td><td>Literal</td><td></td><td><a class=\"ProveItLink\" href=\"../aa616d6a8fe3483e4e64187262e9c7dfe6a536a30/expr.ipynb\"><img src=\"data:image/png;base64,iVBORw0KGgoAAAANSUhEUgAAAA4AAAARBAMAAAAf5oCsAAAALVBMVEX///9ERETMzMyqqqoyMjJU\n",
       "VFTc3NyYmJhmZmZ2dnbu7u66uroiIiKIiIgAAAAFyQXGAAAAAXRSTlMAQObYZgAAAEBJREFUCNdj\n",
       "YEAGvKfB1MqzYGrFcTCV6gymVL3B1EIhqNKzCyAM9pNQBrNHAoTB7aoAYTAJwhjRDLhAzhkQOA0A\n",
       "iskPUSt9tJUAAAAASUVORK5CYII=\n",
       "\" style=\"display:inline;vertical-align:middle;\" /></a></td></tr>\n",
       "</table>\n"
      ],
      "text/plain": [
       "0. (<= = <=) in BOOLEANS\n",
       "   core type: Operation\n",
       "   operator: 1\n",
       "   operands: 2\n",
       "1. in\n",
       "   core type: Literal\n",
       "   sub-expressions: \n",
       "2. (<= = <= , BOOLEANS)\n",
       "   core type: ExprTuple\n",
       "   sub-expressions: 3, 4\n",
       "3. <= = <=\n",
       "   core type: Operation\n",
       "   operator: 5\n",
       "   operands: 6\n",
       "4. BOOLEANS\n",
       "   core type: Literal\n",
       "   sub-expressions: \n",
       "5. =\n",
       "   core type: Literal\n",
       "   sub-expressions: \n",
       "6. (<= , <=)\n",
       "   core type: ExprTuple\n",
       "   sub-expressions: 7, 7\n",
       "7. <=\n",
       "   core type: Literal\n",
       "   sub-expressions: "
      ]
     },
     "execution_count": 4,
     "metadata": {},
     "output_type": "execute_result"
    }
   ],
   "source": [
    "# display the expression information\n",
    "expr.exprInfo()"
   ]
  },
  {
   "cell_type": "code",
   "execution_count": null,
   "metadata": {},
   "outputs": [],
   "source": []
  }
 ],
 "metadata": {
  "kernelspec": {
   "display_name": "Python 3",
   "language": "python",
   "name": "python3"
  }
 },
 "nbformat": 4,
 "nbformat_minor": 0
}
