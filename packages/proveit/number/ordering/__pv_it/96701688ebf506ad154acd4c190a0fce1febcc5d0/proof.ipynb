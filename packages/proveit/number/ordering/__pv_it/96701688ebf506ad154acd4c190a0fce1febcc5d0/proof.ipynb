{
 "cells": [
  {
   "cell_type": "markdown",
   "metadata": {},
   "source": [
    "Show the Proof\n",
    "========"
   ]
  },
  {
   "cell_type": "code",
   "execution_count": 1,
   "metadata": {},
   "outputs": [
    {
     "data": {
      "text/html": [
       "<table><tr><th>&nbsp;</th><th>step type</th><th>requirements</th><th>statement</th></tr>\n",
       "<tr><td>0</td><td>specialization</td><td>1, 2</td><td><span style=\"font-size:20px;\"><a class=\"ProveItLink\" href=\"../1653465835c282c49e08ca3534ad2fbfeb2ebd1c0/expr.ipynb\"><img src=\"data:image/png;base64,iVBORw0KGgoAAAANSUhEUgAAAEIAAAAVBAMAAAAA8SWUAAAAMFBMVEX////c3NxERESqqqpUVFS6\n",
       "urrMzMwyMjIQEBCIiIh2dnYiIiLu7u5mZmaYmJgAAABXZE4RAAAAAXRSTlMAQObYZgAAAQlJREFU\n",
       "KM9jYGDgu8eAC2QtBJE8uxhwgwwDIMH5AY8K3gIgwdUA5/PsOoCmAiyJpIKBuVaAgAoGVpUEAioY\n",
       "2JQCsKs4tXIaVIzRHaKE0XNpI1QS5Fy2VoZqmDbG22CLIgSYgJ7kA3k0A6jnxAQGPZgKvr0gDzH+\n",
       "Y+BVANK1DAwpbUDaH2HzSYiPWT4wcE8A0kx1QOOAhn6CKzi1E0LzKzCcB9kGCnCWAgbGnzAFsvug\n",
       "DPkJDPYMByDu4NrAwPAPaD1IXKQYpvS8AYM7cwLCt74MDMtAzlOF28b+gHkvF1J48K6ciRYjjJ5T\n",
       "k6ZiDVNCMYddBR9CBeNuMAhASx88O/GlMbBqvsV40ykANo1EHNGRMCoAAAAASUVORK5CYII=\n",
       "\" style=\"display:inline;vertical-align:middle;\" /></a> <a class=\"ProveItLink\" href=\"proof.ipynb\" style=\"text-decoration: none\">&#x22A2;&nbsp;</a><a class=\"ProveItLink\" href=\"../3763a443e9ed1aa64bc60ffcd1455668210f06000/expr.ipynb\"><img src=\"data:image/png;base64,iVBORw0KGgoAAAANSUhEUgAAADAAAAARBAMAAABp3DInAAAAMFBMVEX///8yMjKqqqrMzMzu7u4i\n",
       "IiJmZmaYmJhEREQQEBC6urp2dnaIiIhUVFTc3NwAAAD87Fq/AAAAAXRSTlMAQObYZgAAAKdJREFU\n",
       "GNNjYCAO8ERhF/eOwS7uFo5d/K0QCpfvzq55YIatFMLIPYcZGFY+4PgA4ng0w8WZZzGIMvB9Z2Br\n",
       "ADsoxgEm4XmAoZ2B9wMD6wEwlz0aJnMfRPA3MPgbQPhMYg8gjB8g4v0BBn0GqFIuWbASvj8g0l+B\n",
       "4SKTAczWDjDrO9BcBsYCpjBuhHtugchrDAybgd44ZXEKzadse844MFAAnoaCADzYASLOJl9f0xTg\n",
       "AAAAAElFTkSuQmCC\n",
       "\" style=\"display:inline;vertical-align:middle;\" /></a></span></td></tr>\n",
       "<tr><td>&nbsp;</td><td colspan=4 style=\"text-align:left\"><span style=\"font-size:20px;\"><a class=\"ProveItLink\" href=\"../../../../__pv_it/530be409e3083890784cf1d7b28c9e67e90af9360/expr.ipynb\"><img src=\"data:image/png;base64,iVBORw0KGgoAAAANSUhEUgAAAAsAAAAJBAMAAAAWSsseAAAAKlBMVEX///9ERETMzMwQEBAiIiKY\n",
       "mJju7u5mZmaqqqpUVFSIiIh2dnbc3NwAAAA/vyDhAAAAAXRSTlMAQObYZgAAAENJREFUCNdjYDi9\n",
       "8sTyBQxsG1hdmR0YuBm4LnAoMLAxcAowgADzAjB1VoEhgYH1wFoGrgSG3gBhhlMMDImrs3cFMAAA\n",
       "t0YN+iTRa+sAAAAASUVORK5CYII=\n",
       "\" style=\"display:inline;vertical-align:middle;\" /></a> : <a class=\"ProveItLink\" href=\"../../../../__pv_it/cbdfda466482236edba0ce44ac7ef39cda0af7a40/expr.ipynb\"><img src=\"data:image/png;base64,iVBORw0KGgoAAAANSUhEUgAAAAkAAAAJBAMAAAASvxsjAAAALVBMVEX///9mZmbc3NxUVFSYmJhE\n",
       "REQiIiIyMjK6uroQEBDMzMyIiIh2dnbu7u4AAABgFDGoAAAAAXRSTlMAQObYZgAAADZJREFUCNdj\n",
       "YOA9s3sBA8PKBvYEBt7ZDKwODMwPGICALwBE6m0Asx0YGIDiAgw8QJUyu/cyAAAmuwmycZ8WfQAA\n",
       "AABJRU5ErkJggg==\n",
       "\" style=\"display:inline;vertical-align:middle;\" /></a>, <a class=\"ProveItLink\" href=\"../../../../__pv_it/f8b9edf8e16034727f0aad55bb83e392c3db40d40/expr.ipynb\"><img src=\"data:image/png;base64,iVBORw0KGgoAAAANSUhEUgAAAAsAAAANBAMAAACN24kIAAAAMFBMVEX///+YmJhUVFQyMjIQEBBE\n",
       "REQiIiKqqqrMzMyIiIi6urrc3NxmZmZ2dnbu7u4AAADXeCicAAAAAXRSTlMAQObYZgAAAFhJREFU\n",
       "CNdj4LtzgWH/AwZerg8M8xkY2nkSGEIZGB6wTGD4ycDAUP+A4weQOszA6QCkbBhYFYDUIYb1AkDq\n",
       "6czzGxhA4BoQMyXwuQMptgusF4AU+8xTQBIAUqMVoSp/SLMAAAAASUVORK5CYII=\n",
       "\" style=\"display:inline;vertical-align:middle;\" /></a> : <a class=\"ProveItLink\" href=\"../../../../__pv_it/07527342713064c87612d00d8557c53d53d5324a0/expr.ipynb\"><img src=\"data:image/png;base64,iVBORw0KGgoAAAANSUhEUgAAAAsAAAAJBAMAAAAWSsseAAAAMFBMVEX///8yMjKqqqrMzMzu7u4i\n",
       "IiJmZmaYmJhEREQQEBC6urp2dnaIiIhUVFTc3NwAAAD87Fq/AAAAAXRSTlMAQObYZgAAAEhJREFU\n",
       "CNdjYOC7s2seAwPDygccHxgY+L4zsDUwMPB+YGA9wMDA38Dgb8DA8P4Agz6DA4O/AsNFJgMGxgKm\n",
       "MG6gyjunLE4xAAAZTBA5TB6DCwAAAABJRU5ErkJggg==\n",
       "\" style=\"display:inline;vertical-align:middle;\" /></a></span></td></tr><tr><td>1</td><td>theorem</td><td></td><td><span style=\"font-size:20px;\"> <a class=\"ProveItLink\" href=\"../../_proofs_/reverseGreaterEq.ipynb\" style=\"text-decoration: none\">&#x22A2;&nbsp;</a><a class=\"ProveItLink\" href=\"../405ecc4b27b1d0dfe97d3233a62ddeea4b0a063f0/expr.ipynb\"><img src=\"data:image/png;base64,iVBORw0KGgoAAAANSUhEUgAAAKEAAAAXBAMAAACR7DLtAAAAMFBMVEX///8QEBC6urrMzMxUVFRm\n",
       "ZmZERETc3NwyMjKqqqp2dnaIiIiYmJgiIiLu7u4AAAAU9Wx4AAAAAXRSTlMAQObYZgAAAlNJREFU\n",
       "OMutVE9o01AY/zVZmrXp0rIdPAyloAdBxAm7t1SYoAg7eHIIotKhu+QgTpCNIHoYDBk4d9klJzct\n",
       "jIquIBMNXgRFGB47hfSwHeplILjLGH7vpclL0qWQsQ9Kv+/7vffL9/cBxy5O8ivn4qEv9Ntkyvck\n",
       "hHI5HlNGgNdMeZ6EsT+SlvYzYJjAQ/pTbyVh3Aib7a2g9c39orKQhPFUyNr+FTJbQG5lenomCaFk\n",
       "Bq0Hc2E0TcH9q1abSRgVizK9AfWAGaNPPLdau7w8AWTHgUvAZNe1Yo/G2IB1Adou6Tt3RDnxwz4J\n",
       "ZCiDM9DNrmuiVYtGBEoVIS/cRJod0bb8vlv4jBdUkwIwAM3uwaheHwlD+SJ0DCNfZ0au6fibMsaH\n",
       "lULX7AGnB2MXJTEic4CS680883MY9hh1c5S0WuU9HZEaSDmC0XXqr4oCoKypm4qJt17rn3Y+qP6l\n",
       "2HnWmKxQi5wxdvJP3rgoYuw4oa86PkDzQTXqH8ddfymrnPIrteoTlYH15CWttoR55p49j4Zg7Dih\n",
       "zQvAnQ+lLO2LPa+w7PfTBbXuokjxGu9x9AquBuvIne17AYC+QwHoU+t74cLrU2tvPrLZYnOXYwWS\n",
       "CzIDBjEUYOTO9u0gQHKCR7p5+LS2PKWUNbN4ZGBI2hWM3LnNCX3AfQyuoRXzFNQ8ZefDxBpKNhYb\n",
       "pmDkztOdQW+YgdesiftcnfnNJPCaRZfFVo2+enQe3dHwAKaXsbwes6Z94Q2TjbR1Focy+gCTx/FL\n",
       "/y5s5pDZsKKMS1USxweOLOWjX/0P1qGZxGfhP4AAAAAASUVORK5CYII=\n",
       "\" style=\"display:inline;vertical-align:middle;\" /></a></span></td></tr>\n",
       "<tr><td>&nbsp;</td><td colspan=4 style-\"text-align:left\"><a class=\"ProveItLink\" href=\"../../_proofs_/reverseGreaterEq.ipynb\">proveit.number.ordering.reverseGreaterEq</a></td></tr><tr><td>2</td><td>assumption</td><td></td><td><span style=\"font-size:20px;\"><a class=\"ProveItLink\" href=\"../1653465835c282c49e08ca3534ad2fbfeb2ebd1c0/expr.ipynb\"><img src=\"data:image/png;base64,iVBORw0KGgoAAAANSUhEUgAAAEIAAAAVBAMAAAAA8SWUAAAAMFBMVEX////c3NxERESqqqpUVFS6\n",
       "urrMzMwyMjIQEBCIiIh2dnYiIiLu7u5mZmaYmJgAAABXZE4RAAAAAXRSTlMAQObYZgAAAQlJREFU\n",
       "KM9jYGDgu8eAC2QtBJE8uxhwgwwDIMH5AY8K3gIgwdUA5/PsOoCmAiyJpIKBuVaAgAoGVpUEAioY\n",
       "2JQCsKs4tXIaVIzRHaKE0XNpI1QS5Fy2VoZqmDbG22CLIgSYgJ7kA3k0A6jnxAQGPZgKvr0gDzH+\n",
       "Y+BVANK1DAwpbUDaH2HzSYiPWT4wcE8A0kx1QOOAhn6CKzi1E0LzKzCcB9kGCnCWAgbGnzAFsvug\n",
       "DPkJDPYMByDu4NrAwPAPaD1IXKQYpvS8AYM7cwLCt74MDMtAzlOF28b+gHkvF1J48K6ciRYjjJ5T\n",
       "k6ZiDVNCMYddBR9CBeNuMAhASx88O/GlMbBqvsV40ykANo1EHNGRMCoAAAAASUVORK5CYII=\n",
       "\" style=\"display:inline;vertical-align:middle;\" /></a> <a class=\"ProveItLink\" href=\"../1a2fb8fc15e530a94f348ff4770eea4a390166160/proof.ipynb\" style=\"text-decoration: none\">&#x22A2;&nbsp;</a><a class=\"ProveItLink\" href=\"../a0a0121978f795d235df3c4293647b9f656ef1900/expr.ipynb\"><img src=\"data:image/png;base64,iVBORw0KGgoAAAANSUhEUgAAADAAAAARBAMAAABp3DInAAAAMFBMVEX///+qqqpmZmbc3NxUVFSY\n",
       "mJhEREQiIiIyMjK6uroQEBDMzMyIiIh2dnbu7u4AAAA4MM1YAAAAAXRSTlMAQObYZgAAAKpJREFU\n",
       "GNNjYCAEnt/DJSOhjEtmmjcumW2ZKFy+u2c2QJkmnVD67CwDBoZdEzgKYIqMqkEk52KGfKCGNQxs\n",
       "ATCJcD0QaR/AoMbAwPIBYehxiJP9GRhqGBj4E+Di1w9AGN8Y+H4D9UF5DMzqUBOZ/zAwfuBj4Ady\n",
       "QSLMHgIwnR8ZWBqkGVgUGHhBzjWbALerlUFc4QIDg+6Zc2geNTkzO2cCA/nAvBwEKuF8AENgJvxv\n",
       "xEg1AAAAAElFTkSuQmCC\n",
       "\" style=\"display:inline;vertical-align:middle;\" /></a></span></td></tr>\n",
       "</table>"
      ],
      "text/plain": [
       "<proveit._core_.proof._ShowProof at 0x7f94ea9c99b0>"
      ]
     },
     "execution_count": 1,
     "metadata": {},
     "output_type": "execute_result"
    }
   ],
   "source": [
    "import proveit\n",
    "%show_proof"
   ]
  },
  {
   "cell_type": "code",
   "execution_count": null,
   "metadata": {},
   "outputs": [],
   "source": []
  }
 ],
 "metadata": {
  "kernelspec": {
   "display_name": "Python 3",
   "language": "python",
   "name": "python3"
  }
 },
 "nbformat": 4,
 "nbformat_minor": 0
}
