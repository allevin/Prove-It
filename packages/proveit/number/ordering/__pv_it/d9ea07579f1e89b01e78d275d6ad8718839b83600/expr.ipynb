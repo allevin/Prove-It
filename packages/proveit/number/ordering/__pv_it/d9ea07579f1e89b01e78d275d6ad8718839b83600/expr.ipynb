{
 "cells": [
  {
   "cell_type": "markdown",
   "metadata": {},
   "source": [
    "Expression of type <a class=\"ProveItLink\" href=\"../../../../../../doc/html/api/proveit.ExprTuple.html\">ExprTuple</a>\n",
    "=======================\n",
    "# from context <a class=\"ProveItLink\" href=\"../../_context_.ipynb\">proveit.number.ordering</a>"
   ]
  },
  {
   "cell_type": "code",
   "execution_count": 1,
   "metadata": {},
   "outputs": [],
   "source": [
    "# import Expression classes needed to build the expression\n",
    "from proveit import ExprTuple\n",
    "from proveit._common_ import t, u\n",
    "from proveit.number import Less"
   ]
  },
  {
   "cell_type": "code",
   "execution_count": 2,
   "metadata": {},
   "outputs": [
    {
     "data": {
      "text/html": [
       "<strong id=\"expr\">expr:</strong> <a class=\"ProveItLink\" href=\"expr.ipynb\"><img src=\"data:image/png;base64,iVBORw0KGgoAAAANSUhEUgAAADsAAAAVBAMAAAAKrYvGAAAAMFBMVEX////c3NwiIiJERESqqqqY\n",
       "mJh2dnZmZmYQEBDu7u4yMjJUVFTMzMyIiIi6uroAAAAs73DqAAAAAXRSTlMAQObYZgAAASFJREFU\n",
       "KM9jYCAA+C7gkokDEadxamQ/ACRWMjBw9mCXX8DAwAs0m+UnXISxBkk6jIGBYwLQFAWYAM+uB0jS\n",
       "MxgYXgEppgKYM1cfQDac2YGhjIHhtb01xPUsywUg4tPKGBiBFrIVMCwF8vwhgrxqE6DaCt4z8H4A\n",
       "Kl/A0AfkVYHF2HThLnAoYmA2ANrVwPAPyFUDC062g0lzMvQy8APt4/kAkub8BxE9vQQmD/Tp+QNg\n",
       "6RYg5wMDxEniqrDwWsBwgwFsuCmIwwL17TRdiOOYCxiMWQUYWBcwpDMwcBdMg5nKCnE8+waeNjaw\n",
       "xx4BA9IWEWksa8Bus73yOIeBgesBA4cA7rgGBiprAm7pXEiE4gCcwAhlkMYpzQ2ylxFnYrrDwAAA\n",
       "RS49ClhI38sAAAAASUVORK5CYII=\n",
       "\" style=\"display:inline;vertical-align:middle;\" /></a><br>"
      ],
      "text/plain": [
       "expr: (t < u)"
      ]
     },
     "execution_count": 2,
     "metadata": {},
     "output_type": "execute_result"
    }
   ],
   "source": [
    "# build up the expression from sub-expressions\n",
    "expr = ExprTuple(Less(t, u))"
   ]
  },
  {
   "cell_type": "code",
   "execution_count": 3,
   "metadata": {},
   "outputs": [
    {
     "name": "stdout",
     "output_type": "stream",
     "text": [
      "Passed sanity check: built 'expr' is the same as the stored Expression.\n"
     ]
    }
   ],
   "source": [
    "# check that the built expression is the same as the stored expression\n",
    "%check_expr"
   ]
  },
  {
   "cell_type": "code",
   "execution_count": 4,
   "metadata": {},
   "outputs": [
    {
     "data": {
      "text/html": [
       "<table><tr><th>&nbsp;</th><th>core type</th><th>sub-expressions</th><th>expression</th></tr>\n",
       "<tr><td>0</td><td>ExprTuple</td><td>1</td><td><a class=\"ProveItLink\" href=\"expr.ipynb\"><img src=\"data:image/png;base64,iVBORw0KGgoAAAANSUhEUgAAADsAAAAVBAMAAAAKrYvGAAAAMFBMVEX////c3NwiIiJERESqqqqY\n",
       "mJh2dnZmZmYQEBDu7u4yMjJUVFTMzMyIiIi6uroAAAAs73DqAAAAAXRSTlMAQObYZgAAASFJREFU\n",
       "KM9jYCAA+C7gkokDEadxamQ/ACRWMjBw9mCXX8DAwAs0m+UnXISxBkk6jIGBYwLQFAWYAM+uB0jS\n",
       "MxgYXgEppgKYM1cfQDac2YGhjIHhtb01xPUsywUg4tPKGBiBFrIVMCwF8vwhgrxqE6DaCt4z8H4A\n",
       "Kl/A0AfkVYHF2HThLnAoYmA2ANrVwPAPyFUDC062g0lzMvQy8APt4/kAkub8BxE9vQQmD/Tp+QNg\n",
       "6RYg5wMDxEniqrDwWsBwgwFsuCmIwwL17TRdiOOYCxiMWQUYWBcwpDMwcBdMg5nKCnE8+waeNjaw\n",
       "xx4BA9IWEWksa8Bus73yOIeBgesBA4cA7rgGBiprAm7pXEiE4gCcwAhlkMYpzQ2ylxFnYrrDwAAA\n",
       "RS49ClhI38sAAAAASUVORK5CYII=\n",
       "\" style=\"display:inline;vertical-align:middle;\" /></a></td></tr>\n",
       "<tr><td>1</td><td>Operation</td><td>operator:&nbsp;2<br>operands:&nbsp;3<br></td><td><a class=\"ProveItLink\" href=\"../f19b90b313685032a0815a688cc882f53716ea0e0/expr.ipynb\"><img src=\"data:image/png;base64,iVBORw0KGgoAAAANSUhEUgAAAC8AAAANBAMAAADLbSqiAAAAMFBMVEX///+YmJjc3Nx2dnYyMjKI\n",
       "iIhERERUVFS6uroiIiJmZmaqqqrMzMwQEBDu7u4AAABm0p0FAAAAAXRSTlMAQObYZgAAAKlJREFU\n",
       "GNNjYOC7w4AdcP+DM5nWIEtwTYCxeEoakCU4F0AZHO4HkMXb89MDIEZ6KUBEHi9mYAIZvx/CZZ38\n",
       "AKp0QT8D6wcgvQTMY54Kt2nDSga2BCBjMpj7LAMmwcdwlYEfaDrfDwj/uDeS+88DncH9gQFiqdZE\n",
       "mPsdGGLBFDfU9Y+nQqxnW8CQxqjAwL7gMcwMRojDuAp4LjMDgyE1ABE6PmDbU6PbbBgAtV0noGcv\n",
       "m3AAAAAASUVORK5CYII=\n",
       "\" style=\"display:inline;vertical-align:middle;\" /></a></td></tr>\n",
       "<tr><td>2</td><td>Literal</td><td></td><td><a class=\"ProveItLink\" href=\"../7c444b9b2efa607ed6397b492680dde2810212f00/expr.ipynb\"><img src=\"data:image/png;base64,iVBORw0KGgoAAAANSUhEUgAAAA4AAAAMBAMAAACgrpHpAAAALVBMVEX///+YmJhERETu7u52dnYi\n",
       "IiKIiIiqqqq6uroyMjJUVFTMzMxmZmbc3NwAAADmAst+AAAAAXRSTlMAQObYZgAAAD5JREFUCNdj\n",
       "YAAB3tNgintlA4jimLUBRLHPuQCi2EIMQBRLGFgJg5EGhGbYNR3KuBMIZZiEGUAYjCFQBvtsABzC\n",
       "Cm98G6SsAAAAAElFTkSuQmCC\n",
       "\" style=\"display:inline;vertical-align:middle;\" /></a></td></tr>\n",
       "<tr><td>3</td><td>ExprTuple</td><td>4, 5</td><td><a class=\"ProveItLink\" href=\"../f42adda1279f41ff243e7be33a809f4b662356060/expr.ipynb\"><img src=\"data:image/png;base64,iVBORw0KGgoAAAANSUhEUgAAACkAAAAVBAMAAAAp9toTAAAAMFBMVEX////c3NwiIiJERESqqqqY\n",
       "mJh2dnZmZmYQEBDu7u4yMjJUVFTMzMyIiIi6uroAAAAs73DqAAAAAXRSTlMAQObYZgAAAPxJREFU\n",
       "GNNjYMAO+C6gCcSBiNPoytgPAImVDAycPSjCCxgYeIEGsPxEEQ1jYOCYANSjgCI6g4HhFZBiKkAR\n",
       "ZXZgKGNgeG1vDXHHtDIGRqBhbAUMS4E8f6iigvcMvB+A1ixg6APyqiCCPA5FDMwGQB80MPwDctUg\n",
       "opwMvQz8QLN4PoBEOf9BTQC68PwBsGgLkPOBQQDiqwUMNxjAJpiCOCwPOMFOKmAwZhVgYF3AkM7A\n",
       "wF0wjWE+yCPsG3ja2MAue8TAwGh7gWHGR5B1tlce5zAwcD1g4IAYyfAQxcesCRBmAEI0FxKSqKKc\n",
       "wJBkkAYzeRFKuUFmMqLH0B0GBgBRQTZiZN5FbQAAAABJRU5ErkJggg==\n",
       "\" style=\"display:inline;vertical-align:middle;\" /></a></td></tr>\n",
       "<tr><td>4</td><td>Variable</td><td></td><td><a class=\"ProveItLink\" href=\"../../../../__pv_it/ce279d39727df35ccc8a89894715e433c302db340/expr.ipynb\"><img src=\"data:image/png;base64,iVBORw0KGgoAAAANSUhEUgAAAAcAAAANBAMAAACX52mGAAAALVBMVEX////c3Nx2dnYyMjKIiIhE\n",
       "RERUVFS6uroiIiJmZmaqqqrMzMwQEBDu7u4AAACdk1SzAAAAAXRSTlMAQObYZgAAAEBJREFUCNdj\n",
       "YOA9zcDAwPUWSHA2AAmOCQwMZXFhDgwM64A8hskgogmIeZ+DlD1gEGDgNOAqYGCbcImBgTHEgQEA\n",
       "VpEKvIbxevgAAAAASUVORK5CYII=\n",
       "\" style=\"display:inline;vertical-align:middle;\" /></a></td></tr>\n",
       "<tr><td>5</td><td>Variable</td><td></td><td><a class=\"ProveItLink\" href=\"../../../../__pv_it/cb61151e64f13eb1ffaf04f7c62048002baa23fb0/expr.ipynb\"><img src=\"data:image/png;base64,iVBORw0KGgoAAAANSUhEUgAAAAwAAAAJBAMAAAD0ltBnAAAAMFBMVEX///9UVFSYmJgyMjIQEBBE\n",
       "REQiIiKqqqrMzMyIiIi6urrc3NxmZmZ2dnbu7u4AAAC6tZoTAAAAAXRSTlMAQObYZgAAAEZJREFU\n",
       "CNdj4LtzgWH/AwYerg8M8xkY2nkSGEIZGB6wTGD4ycDAUP+A4weQOszA6QCkYhhYA7QZGA4ytFy4\n",
       "wMDwdGZVbAMATvEStS21oZoAAAAASUVORK5CYII=\n",
       "\" style=\"display:inline;vertical-align:middle;\" /></a></td></tr>\n",
       "</table>\n"
      ],
      "text/plain": [
       "0. (t < u)\n",
       "   core type: ExprTuple\n",
       "   sub-expressions: 1\n",
       "1. t < u\n",
       "   core type: Operation\n",
       "   operator: 2\n",
       "   operands: 3\n",
       "2. <\n",
       "   core type: Literal\n",
       "   sub-expressions: \n",
       "3. (t , u)\n",
       "   core type: ExprTuple\n",
       "   sub-expressions: 4, 5\n",
       "4. t\n",
       "   core type: Variable\n",
       "   sub-expressions: \n",
       "5. u\n",
       "   core type: Variable\n",
       "   sub-expressions: "
      ]
     },
     "execution_count": 4,
     "metadata": {},
     "output_type": "execute_result"
    }
   ],
   "source": [
    "# display the expression information\n",
    "expr.exprInfo()"
   ]
  },
  {
   "cell_type": "code",
   "execution_count": null,
   "metadata": {},
   "outputs": [],
   "source": []
  }
 ],
 "metadata": {
  "kernelspec": {
   "display_name": "Python 3",
   "language": "python",
   "name": "python3"
  }
 },
 "nbformat": 4,
 "nbformat_minor": 0
}
