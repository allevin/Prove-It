{
 "cells": [
  {
   "cell_type": "markdown",
   "metadata": {},
   "source": [
    "Show the Proof\n",
    "========"
   ]
  },
  {
   "cell_type": "code",
   "execution_count": 1,
   "metadata": {},
   "outputs": [
    {
     "data": {
      "text/html": [
       "<table><tr><th>&nbsp;</th><th>step type</th><th>requirements</th><th>statement</th></tr>\n",
       "<tr><td>0</td><td>specialization</td><td>1, 2</td><td><span style=\"font-size:20px;\"><a class=\"ProveItLink\" href=\"../a13accdbab82c67e42dd0b300ade9397bde44d8f0/expr.ipynb\"><img src=\"data:image/png;base64,iVBORw0KGgoAAAANSUhEUgAAAEEAAAAVBAMAAADrxp6XAAAAMFBMVEX////c3NxERESqqqpUVFS6\n",
       "urrMzMwyMjIQEBCIiIh2dnYiIiLu7u5mZmaYmJgAAABXZE4RAAAAAXRSTlMAQObYZgAAAQlJREFU\n",
       "KM9jYGDgu8eAA7CtEgBRPLsYcAK2ZhDJ+QG3CobrIIKrAWRQG4h5eg26ihVwFcx/wALmF3Gq4N0A\n",
       "EQlyw6WC+wJUKEkVu4oQfZUJUDGRUig9K0IAqoK3AEjYI7TJbgORrI0M+kDqPYidEQDzFQS8vgMi\n",
       "5R8wXAJS7EDbU8D+hIcaz2yIj/0ZGHaCaPUHDAwRCUDxrzAFq6Hu+cTA8w3kgwVAggXoDuYPDOAY\n",
       "YLz9AKKA8SdQjAfqDq4NINcyg1zD6G4AM+szUKcZkm9ZLpwCMYUC4O6tY7C+sABJBaPmBLTgFpkZ\n",
       "phmAHKa4AJEq+BAqpHeDwFb09MGzE08aawVTfIvxplMAu01Ga/DvE30AAAAASUVORK5CYII=\n",
       "\" style=\"display:inline;vertical-align:middle;\" /></a> <a class=\"ProveItLink\" href=\"proof.ipynb\" style=\"text-decoration: none\">&#x22A2;&nbsp;</a><a class=\"ProveItLink\" href=\"../e7a7fd201ea47b55606f062d07b35ce54ea0b24d0/expr.ipynb\"><img src=\"data:image/png;base64,iVBORw0KGgoAAAANSUhEUgAAAC0AAAARBAMAAAC7jDh/AAAAMFBMVEX///8yMjKqqqrMzMzu7u4i\n",
       "IiJmZmaYmJhEREQQEBC6urp2dnaIiIhUVFTc3NwAAAD87Fq/AAAAAXRSTlMAQObYZgAAALFJREFU\n",
       "GNNjYCAKHF0AIlkmo4qybD0Appm+oAqnFkAYbAHIwnwXFaAs1gQQ986ueSAO88UFUOG1/b1A81Y+\n",
       "4PgAMqTDAK5TH6T8OwNbA9gpR+DiiUDM+4GBFeKK0i0w8Wgg5m9g8IeaoJgHddcvIPH+ANA4B4jA\n",
       "wssQ539geMDgr8BwkQlmpUUz2PkCTAsYGAuYwrjhNtqC3Mqb4A1y/imLU6jBwddzgIFswBcKBrCw\n",
       "AABGCytu+43OTAAAAABJRU5ErkJggg==\n",
       "\" style=\"display:inline;vertical-align:middle;\" /></a></span></td></tr>\n",
       "<tr><td>&nbsp;</td><td colspan=4 style=\"text-align:left\"><span style=\"font-size:20px;\"><a class=\"ProveItLink\" href=\"../../../../__pv_it/530be409e3083890784cf1d7b28c9e67e90af9360/expr.ipynb\"><img src=\"data:image/png;base64,iVBORw0KGgoAAAANSUhEUgAAAAsAAAAJBAMAAAAWSsseAAAAKlBMVEX///9ERETMzMwQEBAiIiKY\n",
       "mJju7u5mZmaqqqpUVFSIiIh2dnbc3NwAAAA/vyDhAAAAAXRSTlMAQObYZgAAAENJREFUCNdjYDi9\n",
       "8sTyBQxsG1hdmR0YuBm4LnAoMLAxcAowgADzAjB1VoEhgYH1wFoGrgSG3gBhhlMMDImrs3cFMAAA\n",
       "t0YN+iTRa+sAAAAASUVORK5CYII=\n",
       "\" style=\"display:inline;vertical-align:middle;\" /></a> : <a class=\"ProveItLink\" href=\"../../../../__pv_it/ce279d39727df35ccc8a89894715e433c302db340/expr.ipynb\"><img src=\"data:image/png;base64,iVBORw0KGgoAAAANSUhEUgAAAAcAAAANBAMAAACX52mGAAAALVBMVEX////c3Nx2dnYyMjKIiIhE\n",
       "RERUVFS6uroiIiJmZmaqqqrMzMwQEBDu7u4AAACdk1SzAAAAAXRSTlMAQObYZgAAAEBJREFUCNdj\n",
       "YOA9zcDAwPUWSHA2AAmOCQwMZXFhDgwM64A8hskgogmIeZ+DlD1gEGDgNOAqYGCbcImBgTHEgQEA\n",
       "VpEKvIbxevgAAAAASUVORK5CYII=\n",
       "\" style=\"display:inline;vertical-align:middle;\" /></a>, <a class=\"ProveItLink\" href=\"../../../../__pv_it/f8b9edf8e16034727f0aad55bb83e392c3db40d40/expr.ipynb\"><img src=\"data:image/png;base64,iVBORw0KGgoAAAANSUhEUgAAAAsAAAANBAMAAACN24kIAAAAMFBMVEX///+YmJhUVFQyMjIQEBBE\n",
       "REQiIiKqqqrMzMyIiIi6urrc3NxmZmZ2dnbu7u4AAADXeCicAAAAAXRSTlMAQObYZgAAAFhJREFU\n",
       "CNdj4LtzgWH/AwZerg8M8xkY2nkSGEIZGB6wTGD4ycDAUP+A4weQOszA6QCkbBhYFYDUIYb1AkDq\n",
       "6czzGxhA4BoQMyXwuQMptgusF4AU+8xTQBIAUqMVoSp/SLMAAAAASUVORK5CYII=\n",
       "\" style=\"display:inline;vertical-align:middle;\" /></a> : <a class=\"ProveItLink\" href=\"../../../../__pv_it/07527342713064c87612d00d8557c53d53d5324a0/expr.ipynb\"><img src=\"data:image/png;base64,iVBORw0KGgoAAAANSUhEUgAAAAsAAAAJBAMAAAAWSsseAAAAMFBMVEX///8yMjKqqqrMzMzu7u4i\n",
       "IiJmZmaYmJhEREQQEBC6urp2dnaIiIhUVFTc3NwAAAD87Fq/AAAAAXRSTlMAQObYZgAAAEhJREFU\n",
       "CNdjYOC7s2seAwPDygccHxgY+L4zsDUwMPB+YGA9wMDA38Dgb8DA8P4Agz6DA4O/AsNFJgMGxgKm\n",
       "MG6gyjunLE4xAAAZTBA5TB6DCwAAAABJRU5ErkJggg==\n",
       "\" style=\"display:inline;vertical-align:middle;\" /></a></span></td></tr><tr><td>1</td><td>theorem</td><td></td><td><span style=\"font-size:20px;\"> <a class=\"ProveItLink\" href=\"../../_proofs_/reverseGreaterEq.ipynb\" style=\"text-decoration: none\">&#x22A2;&nbsp;</a><a class=\"ProveItLink\" href=\"../405ecc4b27b1d0dfe97d3233a62ddeea4b0a063f0/expr.ipynb\"><img src=\"data:image/png;base64,iVBORw0KGgoAAAANSUhEUgAAAKEAAAAXBAMAAACR7DLtAAAAMFBMVEX///8QEBC6urrMzMxUVFRm\n",
       "ZmZERETc3NwyMjKqqqp2dnaIiIiYmJgiIiLu7u4AAAAU9Wx4AAAAAXRSTlMAQObYZgAAAlNJREFU\n",
       "OMutVE9o01AY/zVZmrXp0rIdPAyloAdBxAm7t1SYoAg7eHIIotKhu+QgTpCNIHoYDBk4d9klJzct\n",
       "jIquIBMNXgRFGB47hfSwHeplILjLGH7vpclL0qWQsQ9Kv+/7vffL9/cBxy5O8ivn4qEv9Ntkyvck\n",
       "hHI5HlNGgNdMeZ6EsT+SlvYzYJjAQ/pTbyVh3Aib7a2g9c39orKQhPFUyNr+FTJbQG5lenomCaFk\n",
       "Bq0Hc2E0TcH9q1abSRgVizK9AfWAGaNPPLdau7w8AWTHgUvAZNe1Yo/G2IB1Adou6Tt3RDnxwz4J\n",
       "ZCiDM9DNrmuiVYtGBEoVIS/cRJod0bb8vlv4jBdUkwIwAM3uwaheHwlD+SJ0DCNfZ0au6fibMsaH\n",
       "lULX7AGnB2MXJTEic4CS680883MY9hh1c5S0WuU9HZEaSDmC0XXqr4oCoKypm4qJt17rn3Y+qP6l\n",
       "2HnWmKxQi5wxdvJP3rgoYuw4oa86PkDzQTXqH8ddfymrnPIrteoTlYH15CWttoR55p49j4Zg7Dih\n",
       "zQvAnQ+lLO2LPa+w7PfTBbXuokjxGu9x9AquBuvIne17AYC+QwHoU+t74cLrU2tvPrLZYnOXYwWS\n",
       "CzIDBjEUYOTO9u0gQHKCR7p5+LS2PKWUNbN4ZGBI2hWM3LnNCX3AfQyuoRXzFNQ8ZefDxBpKNhYb\n",
       "pmDkztOdQW+YgdesiftcnfnNJPCaRZfFVo2+enQe3dHwAKaXsbwes6Z94Q2TjbR1Focy+gCTx/FL\n",
       "/y5s5pDZsKKMS1USxweOLOWjX/0P1qGZxGfhP4AAAAAASUVORK5CYII=\n",
       "\" style=\"display:inline;vertical-align:middle;\" /></a></span></td></tr>\n",
       "<tr><td>&nbsp;</td><td colspan=4 style-\"text-align:left\"><a class=\"ProveItLink\" href=\"../../_proofs_/reverseGreaterEq.ipynb\">proveit.number.ordering.reverseGreaterEq</a></td></tr><tr><td>2</td><td>assumption</td><td></td><td><span style=\"font-size:20px;\"><a class=\"ProveItLink\" href=\"../a13accdbab82c67e42dd0b300ade9397bde44d8f0/expr.ipynb\"><img src=\"data:image/png;base64,iVBORw0KGgoAAAANSUhEUgAAAEEAAAAVBAMAAADrxp6XAAAAMFBMVEX////c3NxERESqqqpUVFS6\n",
       "urrMzMwyMjIQEBCIiIh2dnYiIiLu7u5mZmaYmJgAAABXZE4RAAAAAXRSTlMAQObYZgAAAQlJREFU\n",
       "KM9jYGDgu8eAA7CtEgBRPLsYcAK2ZhDJ+QG3CobrIIKrAWRQG4h5eg26ihVwFcx/wALmF3Gq4N0A\n",
       "EQlyw6WC+wJUKEkVu4oQfZUJUDGRUig9K0IAqoK3AEjYI7TJbgORrI0M+kDqPYidEQDzFQS8vgMi\n",
       "5R8wXAJS7EDbU8D+hIcaz2yIj/0ZGHaCaPUHDAwRCUDxrzAFq6Hu+cTA8w3kgwVAggXoDuYPDOAY\n",
       "YLz9AKKA8SdQjAfqDq4NINcyg1zD6G4AM+szUKcZkm9ZLpwCMYUC4O6tY7C+sABJBaPmBLTgFpkZ\n",
       "phmAHKa4AJEq+BAqpHeDwFb09MGzE08aawVTfIvxplMAu01Ga/DvE30AAAAASUVORK5CYII=\n",
       "\" style=\"display:inline;vertical-align:middle;\" /></a> <a class=\"ProveItLink\" href=\"../362f918ffaeeb631e6c05807cc487013db11d8f70/proof.ipynb\" style=\"text-decoration: none\">&#x22A2;&nbsp;</a><a class=\"ProveItLink\" href=\"../d8ed2deb8e49b1e463b49f4f62c89f73daf50f040/expr.ipynb\"><img src=\"data:image/png;base64,iVBORw0KGgoAAAANSUhEUgAAAC4AAAARBAMAAABQu4N8AAAAMFBMVEX///+YmJjc3Nx2dnYyMjKI\n",
       "iIhERERUVFS6uroiIiJmZmaqqqrMzMwQEBDu7u4AAABm0p0FAAAAAXRSTlMAQObYZgAAAK9JREFU\n",
       "GNNjYMAF+O6AyJd26OLc/8DUlkVo4lwTIHRbDao45wIo41gGsnB7fnoAlKnuAaWDexUYGPYj1GjN\n",
       "AZEclxjygdQShLjkOhCpL8CwDEhNhjs4EuLWegaGqUDeD5iwJdSebwx8f4DO/8CgAOIxrRSACDN9\n",
       "BYrxMXA5cDeAeCUbYPp+M7A77GFgX/AYxFNrgNvuyLBzgQEDU2oAWgCoh/akNjCQCTRngsAMOB8A\n",
       "SfsoZ1/yoooAAAAASUVORK5CYII=\n",
       "\" style=\"display:inline;vertical-align:middle;\" /></a></span></td></tr>\n",
       "</table>"
      ],
      "text/plain": [
       "<proveit._core_.proof._ShowProof at 0x7f9500036e48>"
      ]
     },
     "execution_count": 1,
     "metadata": {},
     "output_type": "execute_result"
    }
   ],
   "source": [
    "import proveit\n",
    "%show_proof"
   ]
  },
  {
   "cell_type": "code",
   "execution_count": null,
   "metadata": {},
   "outputs": [],
   "source": []
  }
 ],
 "metadata": {
  "kernelspec": {
   "display_name": "Python 3",
   "language": "python",
   "name": "python3"
  }
 },
 "nbformat": 4,
 "nbformat_minor": 0
}
