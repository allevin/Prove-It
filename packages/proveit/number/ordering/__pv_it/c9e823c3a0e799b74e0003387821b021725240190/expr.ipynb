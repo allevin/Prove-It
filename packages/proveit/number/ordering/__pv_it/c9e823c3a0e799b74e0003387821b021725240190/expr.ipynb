{
 "cells": [
  {
   "cell_type": "markdown",
   "metadata": {},
   "source": [
    "Expression of type <a class=\"ProveItLink\" href=\"../../../../../../doc/html/api/proveit.ExprTuple.html\">ExprTuple</a>\n",
    "=======================\n",
    "# from context <a class=\"ProveItLink\" href=\"../../_context_.ipynb\">proveit.number.ordering</a>"
   ]
  },
  {
   "cell_type": "code",
   "execution_count": 1,
   "metadata": {},
   "outputs": [],
   "source": [
    "# import Expression classes needed to build the expression\n",
    "from proveit import ExprTuple\n",
    "from proveit.logic import Equals, Set\n",
    "from proveit.number import Greater, GreaterEq"
   ]
  },
  {
   "cell_type": "code",
   "execution_count": 2,
   "metadata": {},
   "outputs": [
    {
     "data": {
      "text/html": [
       "<strong id=\"expr\">expr:</strong> <a class=\"ProveItLink\" href=\"expr.ipynb\"><img src=\"data:image/png;base64,iVBORw0KGgoAAAANSUhEUgAAAH0AAAAVBAMAAACZCfwhAAAAMFBMVEX////c3NwiIiJERESqqqqY\n",
       "mJh2dnZmZmYQEBDu7u4yMjJUVFTMzMyIiIi6uroAAAAs73DqAAAAAXRSTlMAQObYZgAAAatJREFU\n",
       "OMtjYMAE4QEMBMGxRBiL7wKa1KQEBiLACQcGhjgQ4zS6zH1itDOwLwDiA0DGSgZOtQnIMhno7snE\n",
       "pp+tAUgAzeAFOp9luQCqfsY9yEq9CnHpD2Ng4ADZzWd9ANX+w3bIah/vwaF/BgPDKzCPx/gBqvul\n",
       "lyArRjUOoZ/ZgaEMwmXc9QDV/9NUkVVLr8Oqn62AYSmUz1gE80IVhJqLEqriOlDJVSCwmoGB9QOQ\n",
       "x7KAoQ+qgFUdqpwHQwQEgirRHbAcFG4NDP/QbOPZAXMHzy54rHBewoxDZqDLeT5A9U/ThYvz9UBp\n",
       "Y3iccCZdwIwANQaw/haw75ADaxeYZFkNt52xCJEhipRAQBnqf6D7TZEiC+KFJLDnIf6ZAI4aB4gr\n",
       "MMOfdQFDOlABNHY5P8Hjb5ruBLiIMDRm5ytgi79HCCHOfgFY+lVFEYGAGR8x9HM9YOBAUsEngJ5/\n",
       "+JAzxkNs6ZcVKbezYuQ/VmQtARj6c8H5lxEcpkoPoKoj0PQLgWX10PSD8j/nAlDgI8QgsTzpAroI\n",
       "BPCilj/AUOUG+Y4RI22EORBZ/t1hYAAAf55mSu3Ub3UAAAAASUVORK5CYII=\n",
       "\" style=\"display:inline;vertical-align:middle;\" /></a><br>"
      ],
      "text/plain": [
       "expr: (>= , {> , >= , =})"
      ]
     },
     "execution_count": 2,
     "metadata": {},
     "output_type": "execute_result"
    }
   ],
   "source": [
    "# build up the expression from sub-expressions\n",
    "expr = ExprTuple(GreaterEq._operator_, Set(Greater._operator_, GreaterEq._operator_, Equals._operator_))"
   ]
  },
  {
   "cell_type": "code",
   "execution_count": 3,
   "metadata": {},
   "outputs": [
    {
     "name": "stdout",
     "output_type": "stream",
     "text": [
      "Passed sanity check: built 'expr' is the same as the stored Expression.\n"
     ]
    }
   ],
   "source": [
    "# check that the built expression is the same as the stored expression\n",
    "%check_expr"
   ]
  },
  {
   "cell_type": "code",
   "execution_count": 4,
   "metadata": {},
   "outputs": [
    {
     "data": {
      "text/html": [
       "<table><tr><th>&nbsp;</th><th>core type</th><th>sub-expressions</th><th>expression</th></tr>\n",
       "<tr><td>0</td><td>ExprTuple</td><td>5, 1</td><td><a class=\"ProveItLink\" href=\"expr.ipynb\"><img src=\"data:image/png;base64,iVBORw0KGgoAAAANSUhEUgAAAH0AAAAVBAMAAACZCfwhAAAAMFBMVEX////c3NwiIiJERESqqqqY\n",
       "mJh2dnZmZmYQEBDu7u4yMjJUVFTMzMyIiIi6uroAAAAs73DqAAAAAXRSTlMAQObYZgAAAatJREFU\n",
       "OMtjYMAE4QEMBMGxRBiL7wKa1KQEBiLACQcGhjgQ4zS6zH1itDOwLwDiA0DGSgZOtQnIMhno7snE\n",
       "pp+tAUgAzeAFOp9luQCqfsY9yEq9CnHpD2Ng4ADZzWd9ANX+w3bIah/vwaF/BgPDKzCPx/gBqvul\n",
       "lyArRjUOoZ/ZgaEMwmXc9QDV/9NUkVVLr8Oqn62AYSmUz1gE80IVhJqLEqriOlDJVSCwmoGB9QOQ\n",
       "x7KAoQ+qgFUdqpwHQwQEgirRHbAcFG4NDP/QbOPZAXMHzy54rHBewoxDZqDLeT5A9U/ThYvz9UBp\n",
       "Y3iccCZdwIwANQaw/haw75ADaxeYZFkNt52xCJEhipRAQBnqf6D7TZEiC+KFJLDnIf6ZAI4aB4gr\n",
       "MMOfdQFDOlABNHY5P8Hjb5ruBLiIMDRm5ytgi79HCCHOfgFY+lVFEYGAGR8x9HM9YOBAUsEngJ5/\n",
       "+JAzxkNs6ZcVKbezYuQ/VmQtARj6c8H5lxEcpkoPoKoj0PQLgWX10PSD8j/nAlDgI8QgsTzpAroI\n",
       "BPCilj/AUOUG+Y4RI22EORBZ/t1hYAAAf55mSu3Ub3UAAAAASUVORK5CYII=\n",
       "\" style=\"display:inline;vertical-align:middle;\" /></a></td></tr>\n",
       "<tr><td>1</td><td>Operation</td><td>operator:&nbsp;2<br>operands:&nbsp;3<br></td><td><a class=\"ProveItLink\" href=\"../40d27932c47497d1e04935867994b35b277c78120/expr.ipynb\"><img src=\"data:image/png;base64,iVBORw0KGgoAAAANSUhEUgAAAFUAAAAVBAMAAADFg78FAAAAMFBMVEX///9ERETc3NyqqqpUVFS6\n",
       "urrMzMwyMjIQEBCIiIh2dnYiIiLu7u5mZmaYmJgAAABJJ2g3AAAAAXRSTlMAQObYZgAAAQFJREFU\n",
       "KM9jYGDgu8dAELCtUgBRPLsYiABszSCS8wMxahmugwiuBjTR02uwqV0BU6uSgCxsfgmfWjbBAGTx\n",
       "QDc8ahmY3A2QJRJF8ahl4Fn9AFlGpRSrWt4CMJtnNoqXdLeBKd5yMHBgYHgP4mbAnPr6DpJaFA4I\n",
       "sF9gYEhpg/FSiuASaJaAgTjQkRHQ8AoUQyhdPQFDKfcCIMECca+5E1yY6Tbcn7y7wUAA6l6uDWD3\n",
       "gS3lYUAKPx7sYcazeg5Y4DxInyLUs2AOplptqKUnPiHJonCQ4wIKghhwcTDVokTeAwy1fOhqtcFe\n",
       "34qmFpx+eXYiBDiRZVE4bK1gim8xkfkNAGkVS4bGMaBOAAAAAElFTkSuQmCC\n",
       "\" style=\"display:inline;vertical-align:middle;\" /></a></td></tr>\n",
       "<tr><td>2</td><td>Literal</td><td></td><td><a class=\"ProveItLink\" href=\"../../../../logic/set_theory/enumeration/__pv_it/07381ed5b23806e8d7914b78cb6667769e3708dd0/expr.ipynb\"><img src=\"data:image/png;base64,iVBORw0KGgoAAAANSUhEUgAAAB4AAAAOBAMAAADKyLEKAAAAMFBMVEX///8iIiIQEBCIiIjMzMzc\n",
       "3Nyqqqp2dnZEREQyMjK6urru7u5mZmZUVFSYmJgAAACI6eGPAAAAAXRSTlMAQObYZgAAALRJREFU\n",
       "CNdjYGDgu3Nm3wIGBJjHwN0PZW5yYGDgLWBgyITy8zcwMMQDxZyh/INAvD6BgcEFypcB4vjPDiBm\n",
       "TPFRrhs/LjMwMP//38rAwCbKEMPA9gEkE3fp0waG+AUMRxh4JkC01T9guPTOOICBEWgVH5C//wHD\n",
       "H5D4fqCz9oCMDGD4DLaegRXslLMMDMpAgxlOMmQxHDRgYG5gYLBk4D7KcIe7gOHC2rt9QCXsh40Z\n",
       "GCKMGQDRkC8N/Ph1XAAAAABJRU5ErkJggg==\n",
       "\" style=\"display:inline;vertical-align:middle;\" /></a></td></tr>\n",
       "<tr><td>3</td><td>ExprTuple</td><td>4, 5, 6</td><td><a class=\"ProveItLink\" href=\"../821e4fc468f4b7815bc6a1869ffd6851a6136d6d0/expr.ipynb\"><img src=\"data:image/png;base64,iVBORw0KGgoAAAANSUhEUgAAAE8AAAAVBAMAAAD1D64kAAAAMFBMVEX////c3NwiIiJERESqqqqY\n",
       "mJh2dnZmZmYQEBDu7u4yMjJUVFTMzMyIiIi6uroAAAAs73DqAAAAAXRSTlMAQObYZgAAAQ5JREFU\n",
       "KM9jYCAa8F0grCYORJwmwjD2A0BiJaoYp9oELCoXMDDwXmBg3IMsxrJcAFNhGAMDB9CAw3YojrY+\n",
       "gKFwBgPDKxAtvQRZlMf4AbpCZgeGMjBjmiqyMOMudJVsBQxLIay5KH5gLILYXrUKBFYDHb6AoQ8q\n",
       "x6qOpBKFA3Z3A8M/mMN2ITw7FyOIeD7AFPIZI7w6TRfD10CFLZDAW40wTxzhsSIlEFAGW20KdhPE\n",
       "rgnIQYViO+sChnSwXWBRzk8gD0MDH8xBDp5HQDmoXZz9SJGHwmHgesDAgcTnQ5ZD4QCjkDUBySUo\n",
       "zkLm5KImM5AcI9ijSg9QFHIuAPkSwUdJ68gcbpAzGInICncYGACixjp/GxJPbAAAAABJRU5ErkJg\n",
       "gg==\n",
       "\" style=\"display:inline;vertical-align:middle;\" /></a></td></tr>\n",
       "<tr><td>4</td><td>Literal</td><td></td><td><a class=\"ProveItLink\" href=\"../fed4085ae483b560677c9d938187885e1d910a490/expr.ipynb\"><img src=\"data:image/png;base64,iVBORw0KGgoAAAANSUhEUgAAAA4AAAAMBAMAAACgrpHpAAAALVBMVEX///9mZmaIiIiYmJgiIiJ2\n",
       "dnbu7u6qqqoyMjK6urpERETMzMxUVFTc3NwAAADHHImEAAAAAXRSTlMAQObYZgAAADlJREFUCNdj\n",
       "uLOBAQy4V02AMHhPFEAYbCEGUIZKGITBYCIGoff0gqlZq8FUxVmIZBhElxqYdwWiGQBNjQtMyuln\n",
       "xAAAAABJRU5ErkJggg==\n",
       "\" style=\"display:inline;vertical-align:middle;\" /></a></td></tr>\n",
       "<tr><td>5</td><td>Literal</td><td></td><td><a class=\"ProveItLink\" href=\"../96143560a3dbc26f943e0a126972c9bfadab3fc50/expr.ipynb\"><img src=\"data:image/png;base64,iVBORw0KGgoAAAANSUhEUgAAAA4AAAARBAMAAAAf5oCsAAAALVBMVEX///+IiIiYmJjMzMxUVFRE\n",
       "RES6urrc3NxmZmYyMjKqqqp2dnYiIiLu7u4AAACqGg1VAAAAAXRSTlMAQObYZgAAAEFJREFUCNdj\n",
       "YICCO3uhjJXtUEaqM5RhGgZllEyDMioOQ2idXhDJKwPWy7tHAESx9yiAKc8FYCWlCQx4Qc0ZEDgG\n",
       "ALzAEHC/pigGAAAAAElFTkSuQmCC\n",
       "\" style=\"display:inline;vertical-align:middle;\" /></a></td></tr>\n",
       "<tr><td>6</td><td>Literal</td><td></td><td><a class=\"ProveItLink\" href=\"../../../../logic/equality/__pv_it/2fb26078095930560931daa0500ce419a39ea6cd0/expr.ipynb\"><img src=\"data:image/png;base64,iVBORw0KGgoAAAANSUhEUgAAAA4AAAAFBAMAAACHocAhAAAAFVBMVEX///9EREQiIiJUVFQyMjJm\n",
       "ZmYAAADubVkoAAAAAXRSTlMAQObYZgAAABRJREFUCNdjCHEBAWcGXCBICQQUAUpuAwlgGKrkAAAA\n",
       "AElFTkSuQmCC\n",
       "\" style=\"display:inline;vertical-align:middle;\" /></a></td></tr>\n",
       "</table>\n"
      ],
      "text/plain": [
       "0. (>= , {> , >= , =})\n",
       "   core type: ExprTuple\n",
       "   sub-expressions: 5, 1\n",
       "1. {> , >= , =}\n",
       "   core type: Operation\n",
       "   operator: 2\n",
       "   operands: 3\n",
       "2. Set\n",
       "   core type: Literal\n",
       "   sub-expressions: \n",
       "3. (> , >= , =)\n",
       "   core type: ExprTuple\n",
       "   sub-expressions: 4, 5, 6\n",
       "4. >\n",
       "   core type: Literal\n",
       "   sub-expressions: \n",
       "5. >=\n",
       "   core type: Literal\n",
       "   sub-expressions: \n",
       "6. =\n",
       "   core type: Literal\n",
       "   sub-expressions: "
      ]
     },
     "execution_count": 4,
     "metadata": {},
     "output_type": "execute_result"
    }
   ],
   "source": [
    "# display the expression information\n",
    "expr.exprInfo()"
   ]
  },
  {
   "cell_type": "code",
   "execution_count": null,
   "metadata": {},
   "outputs": [],
   "source": []
  }
 ],
 "metadata": {
  "kernelspec": {
   "display_name": "Python 3",
   "language": "python",
   "name": "python3"
  }
 },
 "nbformat": 4,
 "nbformat_minor": 0
}
