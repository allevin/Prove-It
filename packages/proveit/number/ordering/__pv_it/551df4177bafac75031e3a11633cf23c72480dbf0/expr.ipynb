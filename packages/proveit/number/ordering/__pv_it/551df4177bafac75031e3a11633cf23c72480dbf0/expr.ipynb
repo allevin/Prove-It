{
 "cells": [
  {
   "cell_type": "markdown",
   "metadata": {},
   "source": [
    "Expression of type <a class=\"ProveItLink\" href=\"../../../../../../doc/html/api/proveit.ExprTuple.html\">ExprTuple</a>\n",
    "=======================\n",
    "# from context <a class=\"ProveItLink\" href=\"../../_context_.ipynb\">proveit.number.ordering</a>"
   ]
  },
  {
   "cell_type": "code",
   "execution_count": 1,
   "metadata": {},
   "outputs": [],
   "source": [
    "# import Expression classes needed to build the expression\n",
    "from proveit import ExprTuple\n",
    "from proveit.logic import Equals\n",
    "from proveit.number import Less, LessEq"
   ]
  },
  {
   "cell_type": "code",
   "execution_count": 2,
   "metadata": {},
   "outputs": [
    {
     "data": {
      "text/html": [
       "<strong id=\"expr\">expr:</strong> <a class=\"ProveItLink\" href=\"expr.ipynb\"><img src=\"data:image/png;base64,iVBORw0KGgoAAAANSUhEUgAAAHUAAAAVBAMAAACK3rzVAAAAMFBMVEX////c3NwiIiJERESqqqqY\n",
       "mJh2dnZmZmYQEBDu7u4yMjJUVFTMzMyIiIi6uroAAAAs73DqAAAAAXRSTlMAQObYZgAAAT5JREFU\n",
       "OMtjYKAE8F0gS1sciDhNnpXsB4DEShySlx7g17yAgYEX5mTxA8gynEnIXmGswdQbxsDAMQHCPL0O\n",
       "RWtRABKPZxcWN8xgYHgFYb3agyzOuMsBOTRXH8DiZmYHhjIww6uQAac9LMsFsPmXrYBhKThcMsFB\n",
       "twoMNnAaI9vDqwb2VRVYbjWcZmBZwNAHFE9Ci+JLN5GM18WVLhoY/gEDxhg9KIIy4czJdjj08nwA\n",
       "6QX6zwFNAsn/p5fg1NsCDldwlLArgYEBWriLq4LIIrCcMpwGudkUmhRuohl72IaBARr103QnYLGX\n",
       "dQFDOqYXoW59wPkJpkxtAtY4egT3IkYC4OyHRSzLGky9XA8YOATwZE88cqA0yZqAW5oVXz7KxZoH\n",
       "GSHh/QCvXk5gHmSQxi2Pr0ThBvmHkbwy5w4DAwDayFSMwvWuNgAAAABJRU5ErkJggg==\n",
       "\" style=\"display:inline;vertical-align:middle;\" /></a><br>"
      ],
      "text/plain": [
       "expr: (< = <= , < = =)"
      ]
     },
     "execution_count": 2,
     "metadata": {},
     "output_type": "execute_result"
    }
   ],
   "source": [
    "# build up the expression from sub-expressions\n",
    "expr = ExprTuple(Equals(Less._operator_, LessEq._operator_), Equals(Less._operator_, Equals._operator_))"
   ]
  },
  {
   "cell_type": "code",
   "execution_count": 3,
   "metadata": {},
   "outputs": [
    {
     "name": "stdout",
     "output_type": "stream",
     "text": [
      "Passed sanity check: built 'expr' is the same as the stored Expression.\n"
     ]
    }
   ],
   "source": [
    "# check that the built expression is the same as the stored expression\n",
    "%check_expr"
   ]
  },
  {
   "cell_type": "code",
   "execution_count": 4,
   "metadata": {},
   "outputs": [
    {
     "data": {
      "text/html": [
       "<table><tr><th>&nbsp;</th><th>core type</th><th>sub-expressions</th><th>expression</th></tr>\n",
       "<tr><td>0</td><td>ExprTuple</td><td>1, 2</td><td><a class=\"ProveItLink\" href=\"expr.ipynb\"><img src=\"data:image/png;base64,iVBORw0KGgoAAAANSUhEUgAAAHUAAAAVBAMAAACK3rzVAAAAMFBMVEX////c3NwiIiJERESqqqqY\n",
       "mJh2dnZmZmYQEBDu7u4yMjJUVFTMzMyIiIi6uroAAAAs73DqAAAAAXRSTlMAQObYZgAAAT5JREFU\n",
       "OMtjYKAE8F0gS1sciDhNnpXsB4DEShySlx7g17yAgYEX5mTxA8gynEnIXmGswdQbxsDAMQHCPL0O\n",
       "RWtRABKPZxcWN8xgYHgFYb3agyzOuMsBOTRXH8DiZmYHhjIww6uQAac9LMsFsPmXrYBhKThcMsFB\n",
       "twoMNnAaI9vDqwb2VRVYbjWcZmBZwNAHFE9Ci+JLN5GM18WVLhoY/gEDxhg9KIIy4czJdjj08nwA\n",
       "6QX6zwFNAsn/p5fg1NsCDldwlLArgYEBWriLq4LIIrCcMpwGudkUmhRuohl72IaBARr103QnYLGX\n",
       "dQFDOqYXoW59wPkJpkxtAtY4egT3IkYC4OyHRSzLGky9XA8YOATwZE88cqA0yZqAW5oVXz7KxZoH\n",
       "GSHh/QCvXk5gHmSQxi2Pr0ThBvmHkbwy5w4DAwDayFSMwvWuNgAAAABJRU5ErkJggg==\n",
       "\" style=\"display:inline;vertical-align:middle;\" /></a></td></tr>\n",
       "<tr><td>1</td><td>Operation</td><td>operator:&nbsp;7<br>operands:&nbsp;3<br></td><td><a class=\"ProveItLink\" href=\"../026bd90581605162c68d327b7018f1d80e06c36c0/expr.ipynb\"><img src=\"data:image/png;base64,iVBORw0KGgoAAAANSUhEUgAAAC4AAAARBAMAAABQu4N8AAAALVBMVEX///+YmJhERETu7u52dnYi\n",
       "IiKIiIiqqqq6uroyMjJUVFTMzMxmZmbc3NwAAADmAst+AAAAAXRSTlMAQObYZgAAAHlJREFUGNNj\n",
       "YCAFsEVAaN7TKMImYRCae2UDsrBNIITmmLUBWfjWdAjNPucCsvCuGVA7QgxA1MmZIDCLwUgbIswS\n",
       "huaUMLAyBiMNNDcyQvQz7JqOJgGz7w7YWUdDQSAI2X0mUCPhgFtpA4qRCIkVUCNnM1AbXAW7KwIA\n",
       "RC4eYITT5lUAAAAASUVORK5CYII=\n",
       "\" style=\"display:inline;vertical-align:middle;\" /></a></td></tr>\n",
       "<tr><td>2</td><td>Operation</td><td>operator:&nbsp;7<br>operands:&nbsp;4<br></td><td><a class=\"ProveItLink\" href=\"../772ea1f491fd9be718ffc98083d41e0e33537ec40/expr.ipynb\"><img src=\"data:image/png;base64,iVBORw0KGgoAAAANSUhEUgAAAC4AAAAMBAMAAADv85I5AAAALVBMVEX///+YmJhERETu7u52dnYi\n",
       "IiKIiIiqqqq6uroyMjJUVFTMzMxmZmbc3NwAAADmAst+AAAAAXRSTlMAQObYZgAAAFNJREFUGNNj\n",
       "YAAB3tMM2AD3ygZswhyzNmATZp9zAZswW4gBiDo5EwRmwWmWMKxWMhhpYBdn2DUdh8SdQBB5NBQE\n",
       "guA0EJiEGWDXwRiCQ4J9NroIAHgCGK/M4P+zAAAAAElFTkSuQmCC\n",
       "\" style=\"display:inline;vertical-align:middle;\" /></a></td></tr>\n",
       "<tr><td>3</td><td>ExprTuple</td><td>6, 5</td><td><a class=\"ProveItLink\" href=\"../2c343e04de8b9e8dc4a390cbafd3c1727d3f68830/expr.ipynb\"><img src=\"data:image/png;base64,iVBORw0KGgoAAAANSUhEUgAAADUAAAAVBAMAAAAUZLt1AAAAMFBMVEX////c3NwiIiJERESqqqqY\n",
       "mJh2dnZmZmYQEBDu7u4yMjJUVFTMzMyIiIi6uroAAAAs73DqAAAAAXRSTlMAQObYZgAAAPZJREFU\n",
       "KM9jYMAH+C5gFY4DEaexa2E/ACRWYpHg1WNgWACkYEaKH4BLTdMFEmEMDBwTIPzT6+BS01VB5AwG\n",
       "hlcQ/qs9cCnpJWCK2YGhDMzwKoRLwQxgK2BYCqIvZcKlJttAGSwLGPqAVBKSF3l1oQ7ga2D4x8DA\n",
       "afwAyf2sahBJng8gOQaeXQ5IkizLBaByLSCasSgAORRXH4CYaQrmcibdBJJQmxh4jIGSrAsY0qH8\n",
       "oEwGzk8wnTz7wH54BON7HeDsF0AymesBAwcSnw9ZDhhmrAlIzkeOi1zUOALJCSmBgB4D5wJQ0CLk\n",
       "kFMAN8h8Ruxp4g4DAwDCPzOdkovdYgAAAABJRU5ErkJggg==\n",
       "\" style=\"display:inline;vertical-align:middle;\" /></a></td></tr>\n",
       "<tr><td>4</td><td>ExprTuple</td><td>6, 7</td><td><a class=\"ProveItLink\" href=\"../8dccf53fbf30afc5a09e7aab30640f8e81d8f6830/expr.ipynb\"><img src=\"data:image/png;base64,iVBORw0KGgoAAAANSUhEUgAAADUAAAAVBAMAAAAUZLt1AAAAMFBMVEX////c3NwiIiJERESqqqqY\n",
       "mJh2dnZmZmYQEBDu7u4yMjJUVFTMzMyIiIi6uroAAAAs73DqAAAAAXRSTlMAQObYZgAAANFJREFU\n",
       "KM9jYMAH+C5gFY4DEaexa2E/ACRW4jBvAQMDL8xI8QOocmEMDBwTIMzT69D0zWBgeAVhvdqDbiaz\n",
       "A0MZmOFViGEfWwHDUhB9KRMuVLUKBFYzMLAsYOgD8pOweZGvgeEfAwOn8QMscjwfQHIMPLscsMq1\n",
       "gGjGogCYUJESCCiDzTQFi3Am3QSSE5D1sS5gSIcygzIZOD+h+eERjO11gLNfAEmO6wEDBxKfTwA1\n",
       "zFgTkKxANjMXNY6Q5TiBccQgjeAjBw83yHxG7GniDgMDAA1FLia8EE76AAAAAElFTkSuQmCC\n",
       "\" style=\"display:inline;vertical-align:middle;\" /></a></td></tr>\n",
       "<tr><td>5</td><td>Literal</td><td></td><td><a class=\"ProveItLink\" href=\"../aa616d6a8fe3483e4e64187262e9c7dfe6a536a30/expr.ipynb\"><img src=\"data:image/png;base64,iVBORw0KGgoAAAANSUhEUgAAAA4AAAARBAMAAAAf5oCsAAAALVBMVEX///9ERETMzMyqqqoyMjJU\n",
       "VFTc3NyYmJhmZmZ2dnbu7u66uroiIiKIiIgAAAAFyQXGAAAAAXRSTlMAQObYZgAAAEBJREFUCNdj\n",
       "YEAGvKfB1MqzYGrFcTCV6gymVL3B1EIhqNKzCyAM9pNQBrNHAoTB7aoAYTAJwhjRDLhAzhkQOA0A\n",
       "iskPUSt9tJUAAAAASUVORK5CYII=\n",
       "\" style=\"display:inline;vertical-align:middle;\" /></a></td></tr>\n",
       "<tr><td>6</td><td>Literal</td><td></td><td><a class=\"ProveItLink\" href=\"../7c444b9b2efa607ed6397b492680dde2810212f00/expr.ipynb\"><img src=\"data:image/png;base64,iVBORw0KGgoAAAANSUhEUgAAAA4AAAAMBAMAAACgrpHpAAAALVBMVEX///+YmJhERETu7u52dnYi\n",
       "IiKIiIiqqqq6uroyMjJUVFTMzMxmZmbc3NwAAADmAst+AAAAAXRSTlMAQObYZgAAAD5JREFUCNdj\n",
       "YAAB3tNgintlA4jimLUBRLHPuQCi2EIMQBRLGFgJg5EGhGbYNR3KuBMIZZiEGUAYjCFQBvtsABzC\n",
       "Cm98G6SsAAAAAElFTkSuQmCC\n",
       "\" style=\"display:inline;vertical-align:middle;\" /></a></td></tr>\n",
       "<tr><td>7</td><td>Literal</td><td></td><td><a class=\"ProveItLink\" href=\"../../../../logic/equality/__pv_it/2fb26078095930560931daa0500ce419a39ea6cd0/expr.ipynb\"><img src=\"data:image/png;base64,iVBORw0KGgoAAAANSUhEUgAAAA4AAAAFBAMAAACHocAhAAAAFVBMVEX///9EREQiIiJUVFQyMjJm\n",
       "ZmYAAADubVkoAAAAAXRSTlMAQObYZgAAABRJREFUCNdjCHEBAWcGXCBICQQUAUpuAwlgGKrkAAAA\n",
       "AElFTkSuQmCC\n",
       "\" style=\"display:inline;vertical-align:middle;\" /></a></td></tr>\n",
       "</table>\n"
      ],
      "text/plain": [
       "0. (< = <= , < = =)\n",
       "   core type: ExprTuple\n",
       "   sub-expressions: 1, 2\n",
       "1. < = <=\n",
       "   core type: Operation\n",
       "   operator: 7\n",
       "   operands: 3\n",
       "2. < = =\n",
       "   core type: Operation\n",
       "   operator: 7\n",
       "   operands: 4\n",
       "3. (< , <=)\n",
       "   core type: ExprTuple\n",
       "   sub-expressions: 6, 5\n",
       "4. (< , =)\n",
       "   core type: ExprTuple\n",
       "   sub-expressions: 6, 7\n",
       "5. <=\n",
       "   core type: Literal\n",
       "   sub-expressions: \n",
       "6. <\n",
       "   core type: Literal\n",
       "   sub-expressions: \n",
       "7. =\n",
       "   core type: Literal\n",
       "   sub-expressions: "
      ]
     },
     "execution_count": 4,
     "metadata": {},
     "output_type": "execute_result"
    }
   ],
   "source": [
    "# display the expression information\n",
    "expr.exprInfo()"
   ]
  },
  {
   "cell_type": "code",
   "execution_count": null,
   "metadata": {},
   "outputs": [],
   "source": []
  }
 ],
 "metadata": {
  "kernelspec": {
   "display_name": "Python 3",
   "language": "python",
   "name": "python3"
  }
 },
 "nbformat": 4,
 "nbformat_minor": 0
}
