{
 "cells": [
  {
   "cell_type": "markdown",
   "metadata": {},
   "source": [
    "Expression of type <a class=\"ProveItLink\" href=\"../../../../../../doc/html/api/proveit.ExprTuple.html\">ExprTuple</a>\n",
    "=======================\n",
    "# from context <a class=\"ProveItLink\" href=\"../../_context_.ipynb\">proveit.number.ordering</a>"
   ]
  },
  {
   "cell_type": "code",
   "execution_count": 1,
   "metadata": {},
   "outputs": [],
   "source": [
    "# import Expression classes needed to build the expression\n",
    "from proveit import ExprTuple\n",
    "from proveit.logic import Booleans, Equals\n",
    "from proveit.number import Exp, LessEq, one"
   ]
  },
  {
   "cell_type": "code",
   "execution_count": 2,
   "metadata": {},
   "outputs": [
    {
     "data": {
      "text/html": [
       "<strong id=\"expr\">expr:</strong> <a class=\"ProveItLink\" href=\"expr.ipynb\"><img src=\"data:image/png;base64,iVBORw0KGgoAAAANSUhEUgAAAHIAAAAcBAMAAABPDfZkAAAAMFBMVEX///+qqqp2dnYiIiJERESI\n",
       "iIhmZmYQEBDc3NyYmJgyMjLu7u5UVFTMzMy6uroAAACGxKilAAAAAXRSTlMAQObYZgAAAcdJREFU\n",
       "OMtjYCAZ8DowkAd4cwxgzHckamUE6lQAm3GADJ13QIxdG8jQyRoAZJwE8Z7iVDcPq04GCwYGjgL8\n",
       "Lma7AGNpfVm/3EQAqjMGKJMApLmgLma1w9S6AM5yeMq9Wgmqc/8GBvYHQDoUIrXJFIulk5B0MsRx\n",
       "QXUyT2C4DxKrBstss8Tm3O3IOiV5NkB0sjkwhAMpPrCLehZi9SiLALKdLQwcWt+AAcv5geEUyABQ\n",
       "xN5Zhz2ImBIQOnktvaFsvt8MPqAAmsDAsMUXIpS1CgTWwGkGRngQOTy2/x4AS4N/GZYBKVAosZri\n",
       "SBF8BUiuDRWBsjn+MZgBKX5Q+HIaYdfK+wFJJwufAoTN/RGhk4FxWQNhnQwOcDvXgFwLCT6+NcD0\n",
       "kmwMAiZwGtW1CJ1/GY6AAn4C1HiXC5h2coJCiBvdtXw/GIKRA573HI5Y2W8A0TktBGbeB4b3IAMM\n",
       "8GQqLlAgbP8BTvHONbBkwbSAgR/kwAo8OiGp7wW6eQEMPAooqRoTqILJCWii+xsYeA0guawZHJaY\n",
       "uYx7AVadU4DYERTGuHM2DziSWdGFbYG4C8RoxakzFqsoJyjAGRXIKHRbwOREMnRmM1AAAA+MdOJE\n",
       "jtbcAAAAAElFTkSuQmCC\n",
       "\" style=\"display:inline;vertical-align:middle;\" /></a><br>"
      ],
      "text/plain": [
       "expr: ((<= = =) , BOOLEANS^{1})"
      ]
     },
     "execution_count": 2,
     "metadata": {},
     "output_type": "execute_result"
    }
   ],
   "source": [
    "# build up the expression from sub-expressions\n",
    "expr = ExprTuple([Equals(LessEq._operator_, Equals._operator_)], Exp(Booleans, one))"
   ]
  },
  {
   "cell_type": "code",
   "execution_count": 3,
   "metadata": {},
   "outputs": [
    {
     "name": "stdout",
     "output_type": "stream",
     "text": [
      "Passed sanity check: built 'expr' is the same as the stored Expression.\n"
     ]
    }
   ],
   "source": [
    "# check that the built expression is the same as the stored expression\n",
    "%check_expr"
   ]
  },
  {
   "cell_type": "code",
   "execution_count": 4,
   "metadata": {},
   "outputs": [
    {
     "data": {
      "text/html": [
       "<table><tr><th>&nbsp;</th><th>core type</th><th>sub-expressions</th><th>expression</th></tr>\n",
       "<tr><td>0</td><td>ExprTuple</td><td>1, 2</td><td><a class=\"ProveItLink\" href=\"expr.ipynb\"><img src=\"data:image/png;base64,iVBORw0KGgoAAAANSUhEUgAAAHIAAAAcBAMAAABPDfZkAAAAMFBMVEX///+qqqp2dnYiIiJERESI\n",
       "iIhmZmYQEBDc3NyYmJgyMjLu7u5UVFTMzMy6uroAAACGxKilAAAAAXRSTlMAQObYZgAAAcdJREFU\n",
       "OMtjYCAZ8DowkAd4cwxgzHckamUE6lQAm3GADJ13QIxdG8jQyRoAZJwE8Z7iVDcPq04GCwYGjgL8\n",
       "Lma7AGNpfVm/3EQAqjMGKJMApLmgLma1w9S6AM5yeMq9Wgmqc/8GBvYHQDoUIrXJFIulk5B0MsRx\n",
       "QXUyT2C4DxKrBstss8Tm3O3IOiV5NkB0sjkwhAMpPrCLehZi9SiLALKdLQwcWt+AAcv5geEUyABQ\n",
       "xN5Zhz2ImBIQOnktvaFsvt8MPqAAmsDAsMUXIpS1CgTWwGkGRngQOTy2/x4AS4N/GZYBKVAosZri\n",
       "SBF8BUiuDRWBsjn+MZgBKX5Q+HIaYdfK+wFJJwufAoTN/RGhk4FxWQNhnQwOcDvXgFwLCT6+NcD0\n",
       "kmwMAiZwGtW1CJ1/GY6AAn4C1HiXC5h2coJCiBvdtXw/GIKRA573HI5Y2W8A0TktBGbeB4b3IAMM\n",
       "8GQqLlAgbP8BTvHONbBkwbSAgR/kwAo8OiGp7wW6eQEMPAooqRoTqILJCWii+xsYeA0guawZHJaY\n",
       "uYx7AVadU4DYERTGuHM2DziSWdGFbYG4C8RoxakzFqsoJyjAGRXIKHRbwOREMnRmM1AAAA+MdOJE\n",
       "jtbcAAAAAElFTkSuQmCC\n",
       "\" style=\"display:inline;vertical-align:middle;\" /></a></td></tr>\n",
       "<tr><td>1</td><td>ExprTuple</td><td>3</td><td><a class=\"ProveItLink\" href=\"../4b72bdcb818cc2fd0130fdcc407b4c3d23dca6e70/expr.ipynb\"><img src=\"data:image/png;base64,iVBORw0KGgoAAAANSUhEUgAAADwAAAAVBAMAAADocZC/AAAAMFBMVEX////c3NwiIiJERESqqqqY\n",
       "mJh2dnZmZmYQEBDu7u4yMjJUVFTMzMyIiIi6uroAAAAs73DqAAAAAXRSTlMAQObYZgAAAMBJREFU\n",
       "KM9jYCAA+C7gkmF9ACRO49ZZA8QroexLDzCkuRgYeCFmcyZhsYM1gYFjAli2KACL4ZwNDK9ANOMu\n",
       "B6yWmzCUAUmeXQ+wuy2dYSnQDOMDYA77KjDYAKMZGLwY+kCOvonDZy8Y/oGooEzs0uch0gxehTik\n",
       "WyCMV3uAdiuBgQGMBhluClV42AaL7iig26Hg9ANsHnuELzbXMXAI4JYFBiow2HECtgugCGWEuBTT\n",
       "7llALI1b90ZQbOFMTLwHGAALJDPcET7W3gAAAABJRU5ErkJggg==\n",
       "\" style=\"display:inline;vertical-align:middle;\" /></a></td></tr>\n",
       "<tr><td>2</td><td>Operation</td><td>operator:&nbsp;4<br>operands:&nbsp;5<br></td><td><a class=\"ProveItLink\" href=\"../7a57ed6b4bdb39b022534e6abb16d475e24a17eb0/expr.ipynb\"><img src=\"data:image/png;base64,iVBORw0KGgoAAAANSUhEUgAAABUAAAAUBAMAAACQZWsAAAAAMFBMVEX///9mZmbMzMzc3NxUVFSY\n",
       "mJju7u6IiIi6urqqqqoiIiIQEBBEREQyMjJ2dnYAAAAQvcRZAAAAAXRSTlMAQObYZgAAAGJJREFU\n",
       "CNdjYIACpgMMcKbIAjibgZNI9ts/92+vmQAVP9DOdu0dnM1QwYtgT2VJQIjbMDC//VgAYjMtPQY1\n",
       "7EDX+t8FMHY7Q/kcBJuH4wGCzXAAOxtJTWANhAl026ktE8BMALQvLwEPcrvFAAAAAElFTkSuQmCC\n",
       "\" style=\"display:inline;vertical-align:middle;\" /></a></td></tr>\n",
       "<tr><td>3</td><td>Operation</td><td>operator:&nbsp;10<br>operands:&nbsp;6<br></td><td><a class=\"ProveItLink\" href=\"../e148f3102caa95d83769139f254e76e68ea4acf70/expr.ipynb\"><img src=\"data:image/png;base64,iVBORw0KGgoAAAANSUhEUgAAAC4AAAARBAMAAABQu4N8AAAALVBMVEX///9ERETMzMyqqqoyMjJU\n",
       "VFTc3NyYmJhmZmZ2dnbu7u66uroiIiKIiIgAAAAFyQXGAAAAAXRSTlMAQObYZgAAAFZJREFUGNNj\n",
       "YMAHeE9jFV55FqvwiuNYhVOdsQqremMVXigEoVtcQMAVTvOeXYDdjewncUgweyRgl+B2VWBg6DkD\n",
       "AgfhNAgwCSpg18EUzUArkAO2HyOcAYBzHh36IcOWAAAAAElFTkSuQmCC\n",
       "\" style=\"display:inline;vertical-align:middle;\" /></a></td></tr>\n",
       "<tr><td>4</td><td>Literal</td><td></td><td><a class=\"ProveItLink\" href=\"../../../exponentiation/__pv_it/deb2bf23cbccdd6e6791e1b35b5b9794ce12dbd50/expr.ipynb\"><img src=\"data:image/png;base64,iVBORw0KGgoAAAANSUhEUgAAACgAAAASBAMAAADbMYGVAAAAMFBMVEX///8QEBAiIiKYmJjc3Nzu\n",
       "7u7MzMx2dnZmZma6urpERESqqqoyMjJUVFSIiIgAAAAoDOMTAAAAAXRSTlMAQObYZgAAAOBJREFU\n",
       "GNNjYGB4+//u3Tt/GNAASGAXmhjnPyDBgSbI/g1IxKEJ8nxgYGdgQRPkX8BgDKRY6q7s62OYvmze\n",
       "2wAgb/7ZO1+AVDiDkYEQQ0HTBr4DQF59AgOIKmB4z7CNbcNZBu6vQN55kEACQwDDLQYGVobfDHwg\n",
       "fb8YGBxYHwAZciD3fWXg+gB1JjvQcJZvQIXsCgz8F6DO9GBgMOH7wPCUgaeBwd4B7EwGNjUG7s9c\n",
       "AiwPgO5jkWRgiF3/9+5dfQUG1nWl5Y+B7pv+1gE9bBhqGLCAE1jEWH9jEbT5A3IwAC4sP/1L6Qlu\n",
       "AAAAAElFTkSuQmCC\n",
       "\" style=\"display:inline;vertical-align:middle;\" /></a></td></tr>\n",
       "<tr><td>5</td><td>ExprTuple</td><td>7, 8</td><td><a class=\"ProveItLink\" href=\"../f2d1eb76084697ebe27855f25ec8c46cd9f355d00/expr.ipynb\"><img src=\"data:image/png;base64,iVBORw0KGgoAAAANSUhEUgAAAC0AAAAVBAMAAAAgHXppAAAAMFBMVEX////c3NwiIiJERESqqqqY\n",
       "mJh2dnZmZmYQEBDu7u4yMjJUVFTMzMyIiIi6uroAAAAs73DqAAAAAXRSTlMAQObYZgAAAOdJREFU\n",
       "GNNjYMAF+C5gCMWBiNMMWZ/Xr1B2gAlaMjCwHwDSKxkYDN5yrkyDCk/+CSQWMDDwXgCJM9zjggjP\n",
       "3g0SD2Ng4JgAFnflngCR4AWJz2BgeMUAUS/MgCTO7MBQBhbnUbVEFmcrYFgKEn+k/+MCsjjLAoY+\n",
       "iDl3nZHF+RoY/kHEmfkSkMR5PsDFGQxQxVuwiQPNMUWYMwEuzrqAIR0iHn6ZgfMTsjsfMYDCzajb\n",
       "gYGzXwAYZBW/ShkYuB4wcAggQhzOBIYDawJcnBXOyoWEM7o4JzCcGaTh4vCI4wYZyIgZj3cYGAAH\n",
       "aUjXgRHQWQAAAABJRU5ErkJggg==\n",
       "\" style=\"display:inline;vertical-align:middle;\" /></a></td></tr>\n",
       "<tr><td>6</td><td>ExprTuple</td><td>9, 10</td><td><a class=\"ProveItLink\" href=\"../76263df664e404f849918307450862aa9841394b0/expr.ipynb\"><img src=\"data:image/png;base64,iVBORw0KGgoAAAANSUhEUgAAADUAAAAVBAMAAAAUZLt1AAAAMFBMVEX////c3NwiIiJERESqqqqY\n",
       "mJh2dnZmZmYQEBDu7u4yMjJUVFTMzMyIiIi6uroAAAAs73DqAAAAAXRSTlMAQObYZgAAANVJREFU\n",
       "KM9jYMAH+C5gFY4DEaexa2E/ACRWQjmXHqBKLmBg4IUYyZmEbnQYAwPHBLBUUQC6oTMYGF6BaMZd\n",
       "DhgWMjswlAEpnl0PMB3DVsCwFGig8QGEUNUqEFjNwMCygKEP5MSb2PzdwPAPRAdlYsrxfIDIMXgV\n",
       "YpNrgbBe7YEKFSmBgDLYTFOo2GEbBoYJyPpYFzCkw9inH3B+QvPDIwSPs18ASY7rAQMHEp9PADXM\n",
       "WBOQrEA2MxccR4xgpyk9QJHjBMYRgzSCjxxN3CDzGbGniTsMDADVITGNsGJzawAAAABJRU5ErkJg\n",
       "gg==\n",
       "\" style=\"display:inline;vertical-align:middle;\" /></a></td></tr>\n",
       "<tr><td>7</td><td>Literal</td><td></td><td><a class=\"ProveItLink\" href=\"../../../../logic/boolean/__pv_it/46271c8230be96415d662709611f4ed2279d702b0/expr.ipynb\"><img src=\"data:image/png;base64,iVBORw0KGgoAAAANSUhEUgAAAA0AAAAOBAMAAAAGUYvhAAAAMFBMVEX///9mZmbMzMzc3NxUVFSY\n",
       "mJju7u6IiIi6urqqqqoiIiIQEBBEREQyMjJ2dnYAAAAQvcRZAAAAAXRSTlMAQObYZgAAAElJREFU\n",
       "CNdjePvn/u01ExgYGA60s117B6YZKngh9FSWBAjfBsxnWnoMRHet/10AkS+fA6F5OB5AaIYDqDRU\n",
       "PLCGgQFoz6ktExgAgLIl8DFvGtkAAAAASUVORK5CYII=\n",
       "\" style=\"display:inline;vertical-align:middle;\" /></a></td></tr>\n",
       "<tr><td>8</td><td>Literal</td><td></td><td><a class=\"ProveItLink\" href=\"../../../numeral/__pv_it/9be8badea4c35b9724062cecc501d17a3158d1d20/expr.ipynb\"><img src=\"data:image/png;base64,iVBORw0KGgoAAAANSUhEUgAAAAgAAAAPBAMAAAArJJMAAAAAHlBMVEX///+YmJgyMjIQEBBmZmaI\n",
       "iIhUVFTu7u5EREQAAAAw+MI4AAAAAXRSTlMAQObYZgAAACFJREFUCNdjYGBoZ2BgqJjOwFCWBiQY\n",
       "WEklWJwnOTKAAACjEQo8HvEr3AAAAABJRU5ErkJggg==\n",
       "\" style=\"display:inline;vertical-align:middle;\" /></a></td></tr>\n",
       "<tr><td>9</td><td>Literal</td><td></td><td><a class=\"ProveItLink\" href=\"../aa616d6a8fe3483e4e64187262e9c7dfe6a536a30/expr.ipynb\"><img src=\"data:image/png;base64,iVBORw0KGgoAAAANSUhEUgAAAA4AAAARBAMAAAAf5oCsAAAALVBMVEX///9ERETMzMyqqqoyMjJU\n",
       "VFTc3NyYmJhmZmZ2dnbu7u66uroiIiKIiIgAAAAFyQXGAAAAAXRSTlMAQObYZgAAAEBJREFUCNdj\n",
       "YEAGvKfB1MqzYGrFcTCV6gymVL3B1EIhqNKzCyAM9pNQBrNHAoTB7aoAYTAJwhjRDLhAzhkQOA0A\n",
       "iskPUSt9tJUAAAAASUVORK5CYII=\n",
       "\" style=\"display:inline;vertical-align:middle;\" /></a></td></tr>\n",
       "<tr><td>10</td><td>Literal</td><td></td><td><a class=\"ProveItLink\" href=\"../../../../logic/equality/__pv_it/2fb26078095930560931daa0500ce419a39ea6cd0/expr.ipynb\"><img src=\"data:image/png;base64,iVBORw0KGgoAAAANSUhEUgAAAA4AAAAFBAMAAACHocAhAAAAFVBMVEX///9EREQiIiJUVFQyMjJm\n",
       "ZmYAAADubVkoAAAAAXRSTlMAQObYZgAAABRJREFUCNdjCHEBAWcGXCBICQQUAUpuAwlgGKrkAAAA\n",
       "AElFTkSuQmCC\n",
       "\" style=\"display:inline;vertical-align:middle;\" /></a></td></tr>\n",
       "</table>\n"
      ],
      "text/plain": [
       "0. ((<= = =) , BOOLEANS^{1})\n",
       "   core type: ExprTuple\n",
       "   sub-expressions: 1, 2\n",
       "1. (<= = =)\n",
       "   core type: ExprTuple\n",
       "   sub-expressions: 3\n",
       "2. BOOLEANS^{1}\n",
       "   core type: Operation\n",
       "   operator: 4\n",
       "   operands: 5\n",
       "3. <= = =\n",
       "   core type: Operation\n",
       "   operator: 10\n",
       "   operands: 6\n",
       "4. Exp\n",
       "   core type: Literal\n",
       "   sub-expressions: \n",
       "5. (BOOLEANS , 1)\n",
       "   core type: ExprTuple\n",
       "   sub-expressions: 7, 8\n",
       "6. (<= , =)\n",
       "   core type: ExprTuple\n",
       "   sub-expressions: 9, 10\n",
       "7. BOOLEANS\n",
       "   core type: Literal\n",
       "   sub-expressions: \n",
       "8. 1\n",
       "   core type: Literal\n",
       "   sub-expressions: \n",
       "9. <=\n",
       "   core type: Literal\n",
       "   sub-expressions: \n",
       "10. =\n",
       "    core type: Literal\n",
       "    sub-expressions: "
      ]
     },
     "execution_count": 4,
     "metadata": {},
     "output_type": "execute_result"
    }
   ],
   "source": [
    "# display the expression information\n",
    "expr.exprInfo()"
   ]
  },
  {
   "cell_type": "code",
   "execution_count": null,
   "metadata": {},
   "outputs": [],
   "source": []
  }
 ],
 "metadata": {
  "kernelspec": {
   "display_name": "Python 3",
   "language": "python",
   "name": "python3"
  }
 },
 "nbformat": 4,
 "nbformat_minor": 0
}
