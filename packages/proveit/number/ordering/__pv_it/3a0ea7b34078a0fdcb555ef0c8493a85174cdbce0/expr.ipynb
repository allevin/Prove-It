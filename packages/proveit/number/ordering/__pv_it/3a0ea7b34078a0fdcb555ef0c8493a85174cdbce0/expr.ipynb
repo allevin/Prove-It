{
 "cells": [
  {
   "cell_type": "markdown",
   "metadata": {},
   "source": [
    "Expression of type <a class=\"ProveItLink\" href=\"../../../../../../doc/html/api/proveit.Lambda.html\">Lambda</a>\n",
    "=======================\n",
    "# from context <a class=\"ProveItLink\" href=\"../../_context_.ipynb\">proveit.number.ordering</a>"
   ]
  },
  {
   "cell_type": "code",
   "execution_count": 1,
   "metadata": {},
   "outputs": [],
   "source": [
    "# import Expression classes needed to build the expression\n",
    "from proveit import Lambda\n",
    "from proveit._common_ import x, y\n",
    "from proveit.logic import Forall\n",
    "from proveit.number import Less, LessEq"
   ]
  },
  {
   "cell_type": "code",
   "execution_count": 2,
   "metadata": {},
   "outputs": [
    {
     "data": {
      "text/html": [
       "<strong id=\"expr\">expr:</strong> <a class=\"ProveItLink\" href=\"expr.ipynb\"><img src=\"data:image/png;base64,iVBORw0KGgoAAAANSUhEUgAAAM4AAAAZCAMAAABO+uFhAAAANlBMVEX///+6uroUFBQNDQ0yMjJE\n",
       "RETMzMwQEBAiIiKYmJju7u5mZmaqqqpUVFSIiIh2dnbc3NwAAACltDI1AAAAAXRSTlMAQObYZgAA\n",
       "AqRJREFUWMPtWMmWpCAQhBnZIYH//9kGAZVFq1XmdR+GS5VLagQZGSQidHMQzrlDv3DgAMzejuLo\n",
       "9w5n/tNBSP4jucCjMIFf0tkzJGAeG2oeBir6jo7V5WiZmKjPzwKOx5Hv6DhS4sk8NvAh0dLyszuE\n",
       "fWcFZSKVnkeHXSZHKi7OL7J3dIR165hoc3i5tKzlcuKI3uk4C8ZpUNAoMQ2tR0btSRwPlq3zei7P\n",
       "auFEj1hwL701wPk1p1ZtdGQ4LUImGR+vLEYO6JjVTMiwPcDPjEAUnA0cSQjtb7cI+1hwPs35stGx\n",
       "+aymYzrSuJ4OjmmVY31c2oM7qxCGC84GTvAz6IKoRioiIellmO3ZiZN9hPD3D68G87jvCuIPiLt0\n",
       "pCJn/V55SQcnliq3DaFwyKIafZIk9ZUVMLhoYwweNDmRCpf36Ei7nAvxOGesc2S9qGYedKwa6umA\n",
       "jlvPyjGd5jn5ahBaXsUxkNpmj3RCWWNIhYaguFMXsVLYLaeGszmfqUpIRaVDduiD2IRLBQVjOhTG\n",
       "LShxKWsSkHeIsmF2gkaCcFakUGp9ELFG5csdnB1J5QlLNDOS1SU2K9BeIBIe7TbY0Kp0SEcrnmsb\n",
       "hz9AhnRwcSx6WNH7iIPX9nCqrm5XpApMsBdVcKAjCVhpLYi7G4RN4CaYkYGz2vEue8ChNtqItPvK\n",
       "tvxNOOFGUD4XQq7JN/sdIQ8Wy+gJnagpmglRdBKRTt7f41o+p8mpcdC0pPV0guHYJS0l68vKCtZG\n",
       "VH3k94bhkYUuhjORjjZAliGdIAitYF8zKEmE2ojLDYI7roGbYmN/RezmsvPoONcUwlVXQKPiuogH\n",
       "YHSonMJta1tm0AlzVHfDH/dAXURB82xrC3Tmp48wTxbdotNF/OSnj4/f2Qz6kRG/s5kvnMQa6f0l\n",
       "YCsAAAAASUVORK5CYII=\n",
       "\" style=\"display:inline;vertical-align:middle;\" /></a><br>"
      ],
      "text/plain": [
       "expr: x -> [forall_{y | x < y} (x <= y)]"
      ]
     },
     "execution_count": 2,
     "metadata": {},
     "output_type": "execute_result"
    }
   ],
   "source": [
    "# build up the expression from sub-expressions\n",
    "expr = Lambda(x, Forall([y], LessEq(x, y), conditions = [Less(x, y)]))"
   ]
  },
  {
   "cell_type": "code",
   "execution_count": 3,
   "metadata": {},
   "outputs": [
    {
     "name": "stdout",
     "output_type": "stream",
     "text": [
      "Passed sanity check: built 'expr' is the same as the stored Expression.\n"
     ]
    }
   ],
   "source": [
    "# check that the built expression is the same as the stored expression\n",
    "%check_expr"
   ]
  },
  {
   "cell_type": "code",
   "execution_count": 4,
   "metadata": {},
   "outputs": [
    {
     "data": {
      "text/html": [
       "<table><tr><th>&nbsp;</th><th>core type</th><th>sub-expressions</th><th>expression</th></tr>\n",
       "<tr><td>0</td><td>Lambda</td><td>parameter:&nbsp;10<br>body:&nbsp;1<br></td><td><a class=\"ProveItLink\" href=\"expr.ipynb\"><img src=\"data:image/png;base64,iVBORw0KGgoAAAANSUhEUgAAAM4AAAAZCAMAAABO+uFhAAAANlBMVEX///+6uroUFBQNDQ0yMjJE\n",
       "RETMzMwQEBAiIiKYmJju7u5mZmaqqqpUVFSIiIh2dnbc3NwAAACltDI1AAAAAXRSTlMAQObYZgAA\n",
       "AqRJREFUWMPtWMmWpCAQhBnZIYH//9kGAZVFq1XmdR+GS5VLagQZGSQidHMQzrlDv3DgAMzejuLo\n",
       "9w5n/tNBSP4jucCjMIFf0tkzJGAeG2oeBir6jo7V5WiZmKjPzwKOx5Hv6DhS4sk8NvAh0dLyszuE\n",
       "fWcFZSKVnkeHXSZHKi7OL7J3dIR165hoc3i5tKzlcuKI3uk4C8ZpUNAoMQ2tR0btSRwPlq3zei7P\n",
       "auFEj1hwL701wPk1p1ZtdGQ4LUImGR+vLEYO6JjVTMiwPcDPjEAUnA0cSQjtb7cI+1hwPs35stGx\n",
       "+aymYzrSuJ4OjmmVY31c2oM7qxCGC84GTvAz6IKoRioiIellmO3ZiZN9hPD3D68G87jvCuIPiLt0\n",
       "pCJn/V55SQcnliq3DaFwyKIafZIk9ZUVMLhoYwweNDmRCpf36Ei7nAvxOGesc2S9qGYedKwa6umA\n",
       "jlvPyjGd5jn5ahBaXsUxkNpmj3RCWWNIhYaguFMXsVLYLaeGszmfqUpIRaVDduiD2IRLBQVjOhTG\n",
       "LShxKWsSkHeIsmF2gkaCcFakUGp9ELFG5csdnB1J5QlLNDOS1SU2K9BeIBIe7TbY0Kp0SEcrnmsb\n",
       "hz9AhnRwcSx6WNH7iIPX9nCqrm5XpApMsBdVcKAjCVhpLYi7G4RN4CaYkYGz2vEue8ChNtqItPvK\n",
       "tvxNOOFGUD4XQq7JN/sdIQ8Wy+gJnagpmglRdBKRTt7f41o+p8mpcdC0pPV0guHYJS0l68vKCtZG\n",
       "VH3k94bhkYUuhjORjjZAliGdIAitYF8zKEmE2ojLDYI7roGbYmN/RezmsvPoONcUwlVXQKPiuogH\n",
       "YHSonMJta1tm0AlzVHfDH/dAXURB82xrC3Tmp48wTxbdotNF/OSnj4/f2Qz6kRG/s5kvnMQa6f0l\n",
       "YCsAAAAASUVORK5CYII=\n",
       "\" style=\"display:inline;vertical-align:middle;\" /></a></td></tr>\n",
       "<tr><td>1</td><td>Operation</td><td>operator:&nbsp;2<br>operand:&nbsp;3<br></td><td><a class=\"ProveItLink\" href=\"../ba97dea3615f2e1f1ad56f231e0c52666566b87c0/expr.ipynb\"><img src=\"data:image/png;base64,iVBORw0KGgoAAAANSUhEUgAAAJMAAAAXBAMAAAD96mDoAAAAMFBMVEX///8QEBC6urrMzMxUVFRm\n",
       "ZmZERETc3NwyMjKqqqp2dnaIiIiYmJgiIiLu7u4AAAAU9Wx4AAAAAXRSTlMAQObYZgAAAjhJREFU\n",
       "OMutVT1oFEEYffe7ud278TBVuhQW14ScIAcWYkjABG1Egooi5gcujcUWYtAQs42dyBUKdm4TVI6E\n",
       "A5MjGmIWS0W4WhLYFLlCmyOBWNj4zezt7GzcC6s4sDc/79s3877vzR7w/5obPzTZ6I19oqfFB19i\n",
       "UZ07AcuUgbd88CwW1R9RW4PB2AIeUKdNxWEyjuljK+rCZ6CPkpWpxaFKhNPK7jjqdA/Iv56fX4yl\n",
       "rxSaaRPh/bM0PapWv8WiukXPo7WH60JWasLPE1u2seRCvwqMAXNB/GBvqqf0mp3fSfCas2rZX9aT\n",
       "HWwDOcr7GTAriA8XQFPTc5peg9HJCZKtj/7y+UwLVTJdESjAcHpQseumMjugBaT9gK+rvscTDfwi\n",
       "xR2qsVNwo6nYm5DcA1FGaYCXN7qDV27q0KNiFrk42ezW2qOqj66RjI2aAgAD/GepLK9aaczrb8Io\n",
       "egIxNwr8OGWeDU6lu5cSNWxw3RIA7pFzzG0YUkNlVnRPkB0hiCf8BZXk8RCaAVWSV+uCkCIBYJm0\n",
       "ONNYUC6lSMAkhmlTbgZP/mVcUXP1E9ifESMfAIaA9ofvdee4Sdqbd6k6fZw274pK9ytUqWKKuGah\n",
       "ALSl2ctxK97F6bZ+MpqkuqhbOnX3xxWAtrQjedItxgtSlwvPm1ZA1X5/W7imMh4A4Y+MtisaF1Ww\n",
       "szYUm2tmuhHh9kpZAvyUkafKbV7jZ5Pqs3Yp6uIoAN/vhA/yO4XajqaSwN+3kX//w/kNCT2NLg/9\n",
       "kjMAAAAASUVORK5CYII=\n",
       "\" style=\"display:inline;vertical-align:middle;\" /></a></td></tr>\n",
       "<tr><td>2</td><td>Literal</td><td></td><td><a class=\"ProveItLink\" href=\"../../../../logic/boolean/quantification/universal/__pv_it/265f8c02ac1094d56e0e6410a1c1fd3500dc9f540/expr.ipynb\"><img src=\"data:image/png;base64,iVBORw0KGgoAAAANSUhEUgAAAAwAAAAQBAMAAADQT4M0AAAAMFBMVEX///8QEBC6urrMzMxUVFRm\n",
       "ZmZERETc3NwyMjKqqqp2dnaIiIiYmJgiIiLu7u4AAAAU9Wx4AAAAAXRSTlMAQObYZgAAAFhJREFU\n",
       "CNdjeMAABhdAxGmGlSCqj6EMSLInMHAAJVknMPAsLy+vBYp8S0u7BaScGRjSgZQKA18DkOJl4D4A\n",
       "pLgP8IJM4mswARuX7gSmpoKNZWDcAKZ4gCoAgTQTILaSE58AAAAASUVORK5CYII=\n",
       "\" style=\"display:inline;vertical-align:middle;\" /></a></td></tr>\n",
       "<tr><td>3</td><td>Lambda</td><td>parameter:&nbsp;11<br>body:&nbsp;4<br>conditions:&nbsp;5<br></td><td><a class=\"ProveItLink\" href=\"../75612335071e81937e698f7f302fd8ad529bef920/expr.ipynb\"><img src=\"data:image/png;base64,iVBORw0KGgoAAAANSUhEUgAAALcAAAAVCAMAAAAzZI9IAAAANlBMVEX///8UFBQNDQ2YmJhUVFQy\n",
       "MjIQEBBEREQiIiKqqqrMzMyIiIi6urrc3NxmZmZ2dnbu7u4AAACrLjZHAAAAAXRSTlMAQObYZgAA\n",
       "Ad9JREFUSMfFl9mWgyAMhplhJ6zv/7ID1dEgS9X2tNy0R8mXnyyAhHxtaPdJbxZumVHbPAr2g7IN\n",
       "u2nozVd18/hsBqi+Hv5N3fCkSmJQoxk03NXt2lxdHWIa7ugVHb8U93Qbxl9OjOWzsDCuZ8ZS39Bt\n",
       "OTOj1PqSQZditxA19ubXXLsAzGnwMA9LjQ5+ortDLM65dyNgIDaVyk3/L1WNZ6g0OF3Nc7nmkhDb\n",
       "1ChlJyw1WvOx7pb46PAQh0CjiS+TpRzojmxfsrCr+WKrDfIBTekf0FaMdXeInQ7HwOxNlAlpm/X7\n",
       "o6oh0uZg/VcUMnncL5roHNAmTeLdEHMG27qrgLpUi0lmEG/Cdvt9BQuATKvxgJ7p7hFNp88x0Je6\n",
       "gz2JB91Yi9hA7mEbn3R/hZ7VSZ/omn0VA3npc8kGug2Oglww1C291pY0MVWDVmg66csRsZxj+BEG\n",
       "+vxj074wONYUcuWXZFEi85od9M+JXU+FnuyDM2LVNxgYJYBPpy6VVq0GIYYA9On8Cn3c35HuOVFz\n",
       "0wU+Np2T5/z1O/M/+u45PwIyVZj65DU6XPFQoQO8rhsDVZYiT8sZ3GMd3vA3PRgd33GPxUCdK+Y8\n",
       "wV35bsBo5t6g+5rWWvi97zRory/wyvX0Dy25F+ZqKJoPAAAAAElFTkSuQmCC\n",
       "\" style=\"display:inline;vertical-align:middle;\" /></a></td></tr>\n",
       "<tr><td>4</td><td>Operation</td><td>operator:&nbsp;6<br>operands:&nbsp;9<br></td><td><a class=\"ProveItLink\" href=\"../443d32f7a97fdae5d6ed3048a7f17b04ee2d986b0/expr.ipynb\"><img src=\"data:image/png;base64,iVBORw0KGgoAAAANSUhEUgAAADMAAAASBAMAAAAEf/uKAAAAMFBMVEX///8yMjK6urpERETMzMwQ\n",
       "EBAiIiKYmJju7u5mZmaqqqpUVFSIiIh2dnbc3NwAAADpJKkdAAAAAXRSTlMAQObYZgAAAMpJREFU\n",
       "GNNjYCAaHFPAIcFx7QAumWkFOGT4Ni5AFXh7+tVJsDEsG2H2cNy8wPC+gYHjAns6awKIb+wAU83L\n",
       "9IHhPJBi4PnABRY8dgIm5cWZwGAMVMzAbQAVKbsBZTSwHmD4A2Kwwh28cB6Usb6B5QuIfu/A0AAV\n",
       "UtwCoScy8AQwMLA/OM/AA5NicDYBU5IMzBuAegtMGd4gvOIN9sBsBn2g55vP9t7BCIPmM/Mf4Azm\n",
       "azjEuRM4olBCMA0MQHaxXWC+gEMX15lJQBIAZaM04tbXedUAAAAASUVORK5CYII=\n",
       "\" style=\"display:inline;vertical-align:middle;\" /></a></td></tr>\n",
       "<tr><td>5</td><td>ExprTuple</td><td>7</td><td><a class=\"ProveItLink\" href=\"../7b0e1f63384f42300c8a7402853090dc789c10060/expr.ipynb\"><img src=\"data:image/png;base64,iVBORw0KGgoAAAANSUhEUgAAAD8AAAAVBAMAAAADRiu8AAAAMFBMVEX////c3NwiIiJERESqqqqY\n",
       "mJh2dnZmZmYQEBDu7u4yMjJUVFTMzMyIiIi6uroAAAAs73DqAAAAAXRSTlMAQObYZgAAATNJREFU\n",
       "KM9jYCAI+C7glosDEafxaGY/ACRW4jN+AQMDL4YN4gcQ7DAGBo4JaPKn1yFxZjAwvEKTf7UHmcfs\n",
       "wFAGpMRui1yH2uRVCKE50xMY5CcwsBUwLAVyElhVORTA4pcyoVrZ+D4w3GdgYFnA0AfkMPB+YAG7\n",
       "LAnu4iPsCgzGwEBqYPgHNIGB2wBirvEDmIIJHBcY/jIw8HwAKQB6BaqTZ5cDTIX/BJ4/YAUtIJ78\n",
       "AQaIbxmLAqAKqhh4G8BWmDIwsArcZ+CFBgdn0k0IYzkD8wag1AKGdKBpARYMsnCvB0E8Us3wHmgY\n",
       "0JuPGBgmX5uWG4AIHC+whybfrRdgYOB6wMAhgCuikiBBzZqAVZZbgRPk/Fyc0c2UwAzUyQmMbgZp\n",
       "rApY7taBzAHZz4gnyd1hYAAAWThEY6Z5BvwAAAAASUVORK5CYII=\n",
       "\" style=\"display:inline;vertical-align:middle;\" /></a></td></tr>\n",
       "<tr><td>6</td><td>Literal</td><td></td><td><a class=\"ProveItLink\" href=\"../aa616d6a8fe3483e4e64187262e9c7dfe6a536a30/expr.ipynb\"><img src=\"data:image/png;base64,iVBORw0KGgoAAAANSUhEUgAAAA4AAAARBAMAAAAf5oCsAAAALVBMVEX///9ERETMzMyqqqoyMjJU\n",
       "VFTc3NyYmJhmZmZ2dnbu7u66uroiIiKIiIgAAAAFyQXGAAAAAXRSTlMAQObYZgAAAEBJREFUCNdj\n",
       "YEAGvKfB1MqzYGrFcTCV6gymVL3B1EIhqNKzCyAM9pNQBrNHAoTB7aoAYTAJwhjRDLhAzhkQOA0A\n",
       "iskPUSt9tJUAAAAASUVORK5CYII=\n",
       "\" style=\"display:inline;vertical-align:middle;\" /></a></td></tr>\n",
       "<tr><td>7</td><td>Operation</td><td>operator:&nbsp;8<br>operands:&nbsp;9<br></td><td><a class=\"ProveItLink\" href=\"../71bb95075d16768542ac9a2538416ab5fda1d5010/expr.ipynb\"><img src=\"data:image/png;base64,iVBORw0KGgoAAAANSUhEUgAAADMAAAAQBAMAAABJt1qBAAAAMFBMVEX///+6uroyMjJERETMzMwQ\n",
       "EBAiIiKYmJju7u5mZmaqqqpUVFSIiIh2dnbc3NwAAAAWgogoAAAAAXRSTlMAQObYZgAAAMhJREFU\n",
       "GNNjYEAFLx0YcABvRVwyQltQuG9Pvzp5AMJcNA9Cc9y8wPC+gYHjAns6awJY5NgNqGpexg8M54EU\n",
       "A88HLrDd1w7ADPLiTGAwBmpm4DaAmGIsAJNqYD3A8AfEYIWqZtm0ACa3voHlC4h+78DQABbgm1YA\n",
       "lZrEwBPAwMD+4DwDTwPUZddOQBiaDMwbgHoLTBnewH1SBnHkbAZ5oAHNZ3vvFCB8uQjs2OYz8x/g\n",
       "ChaGazjEuRM4onBIsV1gvoBDiuvMRCAJANSaM5a+pyQLAAAAAElFTkSuQmCC\n",
       "\" style=\"display:inline;vertical-align:middle;\" /></a></td></tr>\n",
       "<tr><td>8</td><td>Literal</td><td></td><td><a class=\"ProveItLink\" href=\"../7c444b9b2efa607ed6397b492680dde2810212f00/expr.ipynb\"><img src=\"data:image/png;base64,iVBORw0KGgoAAAANSUhEUgAAAA4AAAAMBAMAAACgrpHpAAAALVBMVEX///+YmJhERETu7u52dnYi\n",
       "IiKIiIiqqqq6uroyMjJUVFTMzMxmZmbc3NwAAADmAst+AAAAAXRSTlMAQObYZgAAAD5JREFUCNdj\n",
       "YAAB3tNgintlA4jimLUBRLHPuQCi2EIMQBRLGFgJg5EGhGbYNR3KuBMIZZiEGUAYjCFQBvtsABzC\n",
       "Cm98G6SsAAAAAElFTkSuQmCC\n",
       "\" style=\"display:inline;vertical-align:middle;\" /></a></td></tr>\n",
       "<tr><td>9</td><td>ExprTuple</td><td>10, 11</td><td><a class=\"ProveItLink\" href=\"../a6a2ac9310c73e21661c7634808321702fb219240/expr.ipynb\"><img src=\"data:image/png;base64,iVBORw0KGgoAAAANSUhEUgAAACwAAAAVBAMAAADP3xFXAAAAMFBMVEX////c3NwiIiJERESqqqqY\n",
       "mJh2dnZmZmYQEBDu7u4yMjJUVFTMzMyIiIi6uroAAAAs73DqAAAAAXRSTlMAQObYZgAAAQtJREFU\n",
       "GNNjYMAB+C6gi7A+ABKnMVXWAPFKTGEuBgbeC5jCrAkMHBMwhTkbGF5hc4YJQxmQFLstch1i1rQy\n",
       "BsafDAzpDEuBehJYVTkUwMIJ7xl4PzAweDH0MTCwAZksB0CiPA5FDMwGDAwvGP4BVTNwG0DtYuhl\n",
       "4Acadx4kzMDAAXMly0+G8wdAwi0gnvwBBog72Rcw3GAAGWIKdL3AfQbeCWAJrgIGayAVBXQLg3+A\n",
       "BYMsA+cnkOoNfF8ZQA58xMAw+dq03AAGzn4BoJ221z8ChdcxcAjAQxjMYlMAex4YLLAAAuJNDDMc\n",
       "gFIXkAIWJKzGYAYkZwGxNEwY5Hbf66CY2QjEjBgBznuAAQAt5DtyKXSr1gAAAABJRU5ErkJggg==\n",
       "\" style=\"display:inline;vertical-align:middle;\" /></a></td></tr>\n",
       "<tr><td>10</td><td>Variable</td><td></td><td><a class=\"ProveItLink\" href=\"../../../../__pv_it/530be409e3083890784cf1d7b28c9e67e90af9360/expr.ipynb\"><img src=\"data:image/png;base64,iVBORw0KGgoAAAANSUhEUgAAAAsAAAAJBAMAAAAWSsseAAAAKlBMVEX///9ERETMzMwQEBAiIiKY\n",
       "mJju7u5mZmaqqqpUVFSIiIh2dnbc3NwAAAA/vyDhAAAAAXRSTlMAQObYZgAAAENJREFUCNdjYDi9\n",
       "8sTyBQxsG1hdmR0YuBm4LnAoMLAxcAowgADzAjB1VoEhgYH1wFoGrgSG3gBhhlMMDImrs3cFMAAA\n",
       "t0YN+iTRa+sAAAAASUVORK5CYII=\n",
       "\" style=\"display:inline;vertical-align:middle;\" /></a></td></tr>\n",
       "<tr><td>11</td><td>Variable</td><td></td><td><a class=\"ProveItLink\" href=\"../../../../__pv_it/f8b9edf8e16034727f0aad55bb83e392c3db40d40/expr.ipynb\"><img src=\"data:image/png;base64,iVBORw0KGgoAAAANSUhEUgAAAAsAAAANBAMAAACN24kIAAAAMFBMVEX///+YmJhUVFQyMjIQEBBE\n",
       "REQiIiKqqqrMzMyIiIi6urrc3NxmZmZ2dnbu7u4AAADXeCicAAAAAXRSTlMAQObYZgAAAFhJREFU\n",
       "CNdj4LtzgWH/AwZerg8M8xkY2nkSGEIZGB6wTGD4ycDAUP+A4weQOszA6QCkbBhYFYDUIYb1AkDq\n",
       "6czzGxhA4BoQMyXwuQMptgusF4AU+8xTQBIAUqMVoSp/SLMAAAAASUVORK5CYII=\n",
       "\" style=\"display:inline;vertical-align:middle;\" /></a></td></tr>\n",
       "</table>\n"
      ],
      "text/plain": [
       "0. x -> [forall_{y | x < y} (x <= y)]\n",
       "   core type: Lambda\n",
       "   parameter: 10\n",
       "   body: 1\n",
       "1. forall_{y | x < y} (x <= y)\n",
       "   core type: Operation\n",
       "   operator: 2\n",
       "   operand: 3\n",
       "2. forall\n",
       "   core type: Literal\n",
       "   sub-expressions: \n",
       "3. y -> (x <= y) | x < y\n",
       "   core type: Lambda\n",
       "   parameter: 11\n",
       "   body: 4\n",
       "   conditions: 5\\n4. x <= y\n",
       "   core type: Operation\n",
       "   operator: 6\n",
       "   operands: 9\n",
       "5. (x < y)\n",
       "   core type: ExprTuple\n",
       "   sub-expressions: 7\n",
       "6. <=\n",
       "   core type: Literal\n",
       "   sub-expressions: \n",
       "7. x < y\n",
       "   core type: Operation\n",
       "   operator: 8\n",
       "   operands: 9\n",
       "8. <\n",
       "   core type: Literal\n",
       "   sub-expressions: \n",
       "9. (x , y)\n",
       "   core type: ExprTuple\n",
       "   sub-expressions: 10, 11\n",
       "10. x\n",
       "    core type: Variable\n",
       "    sub-expressions: \n",
       "11. y\n",
       "    core type: Variable\n",
       "    sub-expressions: "
      ]
     },
     "execution_count": 4,
     "metadata": {},
     "output_type": "execute_result"
    }
   ],
   "source": [
    "# display the expression information\n",
    "expr.exprInfo()"
   ]
  },
  {
   "cell_type": "code",
   "execution_count": null,
   "metadata": {},
   "outputs": [],
   "source": []
  }
 ],
 "metadata": {
  "kernelspec": {
   "display_name": "Python 3",
   "language": "python",
   "name": "python3"
  }
 },
 "nbformat": 4,
 "nbformat_minor": 0
}
