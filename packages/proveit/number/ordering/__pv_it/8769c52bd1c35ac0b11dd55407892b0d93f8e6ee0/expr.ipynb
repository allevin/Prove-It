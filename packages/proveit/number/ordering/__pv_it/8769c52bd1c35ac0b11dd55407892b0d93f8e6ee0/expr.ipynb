{
 "cells": [
  {
   "cell_type": "markdown",
   "metadata": {},
   "source": [
    "Expression of type <a class=\"ProveItLink\" href=\"../../../../../../doc/html/api/proveit.ExprTuple.html\">ExprTuple</a>\n",
    "=======================\n",
    "# from context <a class=\"ProveItLink\" href=\"../../_context_.ipynb\">proveit.number.ordering</a>"
   ]
  },
  {
   "cell_type": "code",
   "execution_count": 1,
   "metadata": {},
   "outputs": [],
   "source": [
    "# import Expression classes needed to build the expression\n",
    "from proveit import ExprTuple\n",
    "from proveit.logic import Booleans, Equals\n",
    "from proveit.number import Less"
   ]
  },
  {
   "cell_type": "code",
   "execution_count": 2,
   "metadata": {},
   "outputs": [
    {
     "data": {
      "text/html": [
       "<strong id=\"expr\">expr:</strong> <a class=\"ProveItLink\" href=\"expr.ipynb\"><img src=\"data:image/png;base64,iVBORw0KGgoAAAANSUhEUgAAAFQAAAAVBAMAAAAqQdQ7AAAAMFBMVEX////c3NwiIiJERESqqqqY\n",
       "mJh2dnZmZmYQEBDu7u4yMjJUVFTMzMyIiIi6uroAAAAs73DqAAAAAXRSTlMAQObYZgAAAS9JREFU\n",
       "KM9jYCAB8F0gRhXrAyBxGr+arM/rVyg7MDDUANkrCZhn8JZzZRoDAxcDAy/MfvEDqEpgfIO3DPeA\n",
       "6lgTGDgmQEROr0NVCecDlbpyT2DgbGB4BRF4tQdVJYIPMlUYSJswlIH5XoWoKpH4Bm95VC2BdDrD\n",
       "UhD3UiaIZF8FBhtgfKjSR/o/QP7xYugDkkloQYvCBzrgrjOQfsHwj4GB0/gBikpUPlApM18CA8N5\n",
       "kFIGnl0OKGpR+CClDAYgpS0gLmNRAMitSmBgAOOjKn3BYAqxM+kmqhvA/AnIDogChgEEBGWieg3I\n",
       "5/wEVRp+GRxYj+BBiRaxXgc4+wXAycWoG+T0dQwcAnjSJ5IcMGKByQB3IkVis13AmwiRlc4CYmnc\n",
       "SpEjbSMoTInKMLwHGABqoVgrqq30MwAAAABJRU5ErkJggg==\n",
       "\" style=\"display:inline;vertical-align:middle;\" /></a><br>"
      ],
      "text/plain": [
       "expr: (< = < , BOOLEANS)"
      ]
     },
     "execution_count": 2,
     "metadata": {},
     "output_type": "execute_result"
    }
   ],
   "source": [
    "# build up the expression from sub-expressions\n",
    "expr = ExprTuple(Equals(Less._operator_, Less._operator_), Booleans)"
   ]
  },
  {
   "cell_type": "code",
   "execution_count": 3,
   "metadata": {},
   "outputs": [
    {
     "name": "stdout",
     "output_type": "stream",
     "text": [
      "Passed sanity check: built 'expr' is the same as the stored Expression.\n"
     ]
    }
   ],
   "source": [
    "# check that the built expression is the same as the stored expression\n",
    "%check_expr"
   ]
  },
  {
   "cell_type": "code",
   "execution_count": 4,
   "metadata": {},
   "outputs": [
    {
     "data": {
      "text/html": [
       "<table><tr><th>&nbsp;</th><th>core type</th><th>sub-expressions</th><th>expression</th></tr>\n",
       "<tr><td>0</td><td>ExprTuple</td><td>1, 2</td><td><a class=\"ProveItLink\" href=\"expr.ipynb\"><img src=\"data:image/png;base64,iVBORw0KGgoAAAANSUhEUgAAAFQAAAAVBAMAAAAqQdQ7AAAAMFBMVEX////c3NwiIiJERESqqqqY\n",
       "mJh2dnZmZmYQEBDu7u4yMjJUVFTMzMyIiIi6uroAAAAs73DqAAAAAXRSTlMAQObYZgAAAS9JREFU\n",
       "KM9jYCAB8F0gRhXrAyBxGr+arM/rVyg7MDDUANkrCZhn8JZzZRoDAxcDAy/MfvEDqEpgfIO3DPeA\n",
       "6lgTGDgmQEROr0NVCecDlbpyT2DgbGB4BRF4tQdVJYIPMlUYSJswlIH5XoWoKpH4Bm95VC2BdDrD\n",
       "UhD3UiaIZF8FBhtgfKjSR/o/QP7xYugDkkloQYvCBzrgrjOQfsHwj4GB0/gBikpUPlApM18CA8N5\n",
       "kFIGnl0OKGpR+CClDAYgpS0gLmNRAMitSmBgAOOjKn3BYAqxM+kmqhvA/AnIDogChgEEBGWieg3I\n",
       "5/wEVRp+GRxYj+BBiRaxXgc4+wXAycWoG+T0dQwcAnjSJ5IcMGKByQB3IkVis13AmwiRlc4CYmnc\n",
       "SpEjbSMoTInKMLwHGABqoVgrqq30MwAAAABJRU5ErkJggg==\n",
       "\" style=\"display:inline;vertical-align:middle;\" /></a></td></tr>\n",
       "<tr><td>1</td><td>Operation</td><td>operator:&nbsp;3<br>operands:&nbsp;4<br></td><td><a class=\"ProveItLink\" href=\"../157e3832e92ecf087fc4a7352642a6fc3d9ad4120/expr.ipynb\"><img src=\"data:image/png;base64,iVBORw0KGgoAAAANSUhEUgAAAC4AAAAMBAMAAADv85I5AAAALVBMVEX///+YmJhERETu7u52dnYi\n",
       "IiKIiIiqqqq6uroyMjJUVFTMzMxmZmbc3NwAAADmAst+AAAAAXRSTlMAQObYZgAAAGJJREFUGNNj\n",
       "YAAB3tMMKADK517ZgCIM5XPM2oAiDOWzz7mAIgzls4UYgKiTM0FgFpzPEoZqJYxvpIEqDufvmo4q\n",
       "AeffCQSRR0NBIAjOBwKTMAMUHXA+YwiqBJzPPhvVDvbZAMQeG/1kQTMcAAAAAElFTkSuQmCC\n",
       "\" style=\"display:inline;vertical-align:middle;\" /></a></td></tr>\n",
       "<tr><td>2</td><td>Literal</td><td></td><td><a class=\"ProveItLink\" href=\"../../../../logic/boolean/__pv_it/46271c8230be96415d662709611f4ed2279d702b0/expr.ipynb\"><img src=\"data:image/png;base64,iVBORw0KGgoAAAANSUhEUgAAAA0AAAAOBAMAAAAGUYvhAAAAMFBMVEX///9mZmbMzMzc3NxUVFSY\n",
       "mJju7u6IiIi6urqqqqoiIiIQEBBEREQyMjJ2dnYAAAAQvcRZAAAAAXRSTlMAQObYZgAAAElJREFU\n",
       "CNdjePvn/u01ExgYGA60s117B6YZKngh9FSWBAjfBsxnWnoMRHet/10AkS+fA6F5OB5AaIYDqDRU\n",
       "PLCGgQFoz6ktExgAgLIl8DFvGtkAAAAASUVORK5CYII=\n",
       "\" style=\"display:inline;vertical-align:middle;\" /></a></td></tr>\n",
       "<tr><td>3</td><td>Literal</td><td></td><td><a class=\"ProveItLink\" href=\"../../../../logic/equality/__pv_it/2fb26078095930560931daa0500ce419a39ea6cd0/expr.ipynb\"><img src=\"data:image/png;base64,iVBORw0KGgoAAAANSUhEUgAAAA4AAAAFBAMAAACHocAhAAAAFVBMVEX///9EREQiIiJUVFQyMjJm\n",
       "ZmYAAADubVkoAAAAAXRSTlMAQObYZgAAABRJREFUCNdjCHEBAWcGXCBICQQUAUpuAwlgGKrkAAAA\n",
       "AElFTkSuQmCC\n",
       "\" style=\"display:inline;vertical-align:middle;\" /></a></td></tr>\n",
       "<tr><td>4</td><td>ExprTuple</td><td>5, 5</td><td><a class=\"ProveItLink\" href=\"../17b827e39c1958d56d465ffaba880fca86de249b0/expr.ipynb\"><img src=\"data:image/png;base64,iVBORw0KGgoAAAANSUhEUgAAADUAAAAVBAMAAAAUZLt1AAAAMFBMVEX////c3NwiIiJERESqqqqY\n",
       "mJh2dnZmZmYQEBDu7u4yMjJUVFTMzMyIiIi6uroAAAAs73DqAAAAAXRSTlMAQObYZgAAAPNJREFU\n",
       "KM9jYMAH+C5gFY4DEaexa2E/ACRW4jBvAQMDL8xI8QMIccYaBoYwBgaOCRDu6XUIKZ5dDxgYZjAw\n",
       "vIJwX+1Bct1qkBHMDgxlYK5XIUKKZbkAiGIrYFgKoi9lIqR41SC2sCxg6ANSSUheZNOFmdzA8I+B\n",
       "gdP4AUJush3MQR9AckB3OSAkTy+By7WA/VMUgJAUV4WZaQpmcCbdBJJQr07TBTFYFzCkQ1UHZTJw\n",
       "foKyWUFOBfrhEcworwOc/QIwL65hYOB6wMAhgBQgSGxQmLEmILisyPGQixpHyHKcwDhikEbwkVMA\n",
       "N8h8Ruxp4g4DAwCw6TL3E/mXsAAAAABJRU5ErkJggg==\n",
       "\" style=\"display:inline;vertical-align:middle;\" /></a></td></tr>\n",
       "<tr><td>5</td><td>Literal</td><td></td><td><a class=\"ProveItLink\" href=\"../7c444b9b2efa607ed6397b492680dde2810212f00/expr.ipynb\"><img src=\"data:image/png;base64,iVBORw0KGgoAAAANSUhEUgAAAA4AAAAMBAMAAACgrpHpAAAALVBMVEX///+YmJhERETu7u52dnYi\n",
       "IiKIiIiqqqq6uroyMjJUVFTMzMxmZmbc3NwAAADmAst+AAAAAXRSTlMAQObYZgAAAD5JREFUCNdj\n",
       "YAAB3tNgintlA4jimLUBRLHPuQCi2EIMQBRLGFgJg5EGhGbYNR3KuBMIZZiEGUAYjCFQBvtsABzC\n",
       "Cm98G6SsAAAAAElFTkSuQmCC\n",
       "\" style=\"display:inline;vertical-align:middle;\" /></a></td></tr>\n",
       "</table>\n"
      ],
      "text/plain": [
       "0. (< = < , BOOLEANS)\n",
       "   core type: ExprTuple\n",
       "   sub-expressions: 1, 2\n",
       "1. < = <\n",
       "   core type: Operation\n",
       "   operator: 3\n",
       "   operands: 4\n",
       "2. BOOLEANS\n",
       "   core type: Literal\n",
       "   sub-expressions: \n",
       "3. =\n",
       "   core type: Literal\n",
       "   sub-expressions: \n",
       "4. (< , <)\n",
       "   core type: ExprTuple\n",
       "   sub-expressions: 5, 5\n",
       "5. <\n",
       "   core type: Literal\n",
       "   sub-expressions: "
      ]
     },
     "execution_count": 4,
     "metadata": {},
     "output_type": "execute_result"
    }
   ],
   "source": [
    "# display the expression information\n",
    "expr.exprInfo()"
   ]
  },
  {
   "cell_type": "code",
   "execution_count": null,
   "metadata": {},
   "outputs": [],
   "source": []
  }
 ],
 "metadata": {
  "kernelspec": {
   "display_name": "Python 3",
   "language": "python",
   "name": "python3"
  }
 },
 "nbformat": 4,
 "nbformat_minor": 0
}
