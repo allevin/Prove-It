{
 "cells": [
  {
   "cell_type": "markdown",
   "metadata": {},
   "source": [
    "Expression of type <a class=\"ProveItLink\" href=\"../../../../../../doc/html/api/proveit.ExprTuple.html\">ExprTuple</a>\n",
    "=======================\n",
    "# from context <a class=\"ProveItLink\" href=\"../../_context_.ipynb\">proveit.number.ordering</a>"
   ]
  },
  {
   "cell_type": "code",
   "execution_count": 1,
   "metadata": {},
   "outputs": [],
   "source": [
    "# import Expression classes needed to build the expression\n",
    "from proveit import ExprTuple\n",
    "from proveit._common_ import x, y\n",
    "from proveit.number import Greater"
   ]
  },
  {
   "cell_type": "code",
   "execution_count": 2,
   "metadata": {},
   "outputs": [
    {
     "data": {
      "text/html": [
       "<strong id=\"expr\">expr:</strong> <a class=\"ProveItLink\" href=\"expr.ipynb\"><img src=\"data:image/png;base64,iVBORw0KGgoAAAANSUhEUgAAAD8AAAAVBAMAAAADRiu8AAAAMFBMVEX////c3NwiIiJERESqqqqY\n",
       "mJh2dnZmZmYQEBDu7u4yMjJUVFTMzMyIiIi6uroAAAAs73DqAAAAAXRSTlMAQObYZgAAATBJREFU\n",
       "KM9jYCAI+C7glosDEafxaGY/ACRW4jN+AQMDL5INjHvQFYQxMHBMQOIftkNTMIOB4RWKgPQSVAXM\n",
       "DgxlQErstsh1qE3TVCE0Z3oCg/wEBrYChqVATgKrKocCVM9cNbCdbHwfGO4zMLAsYOgDchh4P7Ac\n",
       "gJnKqg5ScYRdgcEYGEgNDP+AJjBwGyCs5dklACQncFxg+AvkfAApAHoF4Vc+Y4hZ/hN4/oAVtIB4\n",
       "8gcYoL5lWS0AYVQx8DaArTAF2ipwn4EXooBVDRYsyxmYNwD5CxjSgaYFWDDIQjypCw+2aob3AQwg\n",
       "bz5iYJh8bVpuADioVRFunXy3HmgZ1wMGDgFcEZUECWrWBKyy3AqcIOfn4oxupgRmoE7OBaD4waqA\n",
       "5W4dyByQ/Yx4ktwdBgYA7oxBaKmA2F8AAAAASUVORK5CYII=\n",
       "\" style=\"display:inline;vertical-align:middle;\" /></a><br>"
      ],
      "text/plain": [
       "expr: (x > y)"
      ]
     },
     "execution_count": 2,
     "metadata": {},
     "output_type": "execute_result"
    }
   ],
   "source": [
    "# build up the expression from sub-expressions\n",
    "expr = ExprTuple(Greater(x, y))"
   ]
  },
  {
   "cell_type": "code",
   "execution_count": 3,
   "metadata": {},
   "outputs": [
    {
     "name": "stdout",
     "output_type": "stream",
     "text": [
      "Passed sanity check: built 'expr' is the same as the stored Expression.\n"
     ]
    }
   ],
   "source": [
    "# check that the built expression is the same as the stored expression\n",
    "%check_expr"
   ]
  },
  {
   "cell_type": "code",
   "execution_count": 4,
   "metadata": {},
   "outputs": [
    {
     "data": {
      "text/html": [
       "<table><tr><th>&nbsp;</th><th>core type</th><th>sub-expressions</th><th>expression</th></tr>\n",
       "<tr><td>0</td><td>ExprTuple</td><td>1</td><td><a class=\"ProveItLink\" href=\"expr.ipynb\"><img src=\"data:image/png;base64,iVBORw0KGgoAAAANSUhEUgAAAD8AAAAVBAMAAAADRiu8AAAAMFBMVEX////c3NwiIiJERESqqqqY\n",
       "mJh2dnZmZmYQEBDu7u4yMjJUVFTMzMyIiIi6uroAAAAs73DqAAAAAXRSTlMAQObYZgAAATBJREFU\n",
       "KM9jYCAI+C7glosDEafxaGY/ACRW4jN+AQMDL5INjHvQFYQxMHBMQOIftkNTMIOB4RWKgPQSVAXM\n",
       "DgxlQErstsh1qE3TVCE0Z3oCg/wEBrYChqVATgKrKocCVM9cNbCdbHwfGO4zMLAsYOgDchh4P7Ac\n",
       "gJnKqg5ScYRdgcEYGEgNDP+AJjBwGyCs5dklACQncFxg+AvkfAApAHoF4Vc+Y4hZ/hN4/oAVtIB4\n",
       "8gcYoL5lWS0AYVQx8DaArTAF2ipwn4EXooBVDRYsyxmYNwD5CxjSgaYFWDDIQjypCw+2aob3AQwg\n",
       "bz5iYJh8bVpuADioVRFunXy3HmgZ1wMGDgFcEZUECWrWBKyy3AqcIOfn4oxupgRmoE7OBaD4waqA\n",
       "5W4dyByQ/Yx4ktwdBgYA7oxBaKmA2F8AAAAASUVORK5CYII=\n",
       "\" style=\"display:inline;vertical-align:middle;\" /></a></td></tr>\n",
       "<tr><td>1</td><td>Operation</td><td>operator:&nbsp;2<br>operands:&nbsp;3<br></td><td><a class=\"ProveItLink\" href=\"../eff9c6e281218fa825e820edab2a064d74580ed00/expr.ipynb\"><img src=\"data:image/png;base64,iVBORw0KGgoAAAANSUhEUgAAADMAAAAQBAMAAABJt1qBAAAAMFBMVEX///8yMjK6urpERETMzMwQ\n",
       "EBAiIiKYmJju7u5mZmaqqqpUVFSIiIh2dnbc3NwAAADpJKkdAAAAAXRSTlMAQObYZgAAAMlJREFU\n",
       "GNNjYIABvi0MOIGzEW6511JoAm9Pvzp5AMLsTYfQHDcvMLxvYOC4wJ7OmgBV1pPbAKJ4mT4wnAdS\n",
       "DDwfuBxgRrBnguS8OBMYjIGaGbgNEKazbHwAJBtYDzD8AXFZD8BlmIwh+tc3sHwB0e8dGBogMlzS\n",
       "DyCMiQw8AUDTH5xn4IFIsedClTBIMjBvAOotMGV4A3F6DkyGYTaDfgEDQ/PZ3jsF4IBKR7im+cz8\n",
       "BzhD5hoOce4EjigcUmwXmC/gkOI6MwlIAgAqLDHH/LLsegAAAABJRU5ErkJggg==\n",
       "\" style=\"display:inline;vertical-align:middle;\" /></a></td></tr>\n",
       "<tr><td>2</td><td>Literal</td><td></td><td><a class=\"ProveItLink\" href=\"../fed4085ae483b560677c9d938187885e1d910a490/expr.ipynb\"><img src=\"data:image/png;base64,iVBORw0KGgoAAAANSUhEUgAAAA4AAAAMBAMAAACgrpHpAAAALVBMVEX///9mZmaIiIiYmJgiIiJ2\n",
       "dnbu7u6qqqoyMjK6urpERETMzMxUVFTc3NwAAADHHImEAAAAAXRSTlMAQObYZgAAADlJREFUCNdj\n",
       "uLOBAQy4V02AMHhPFEAYbCEGUIZKGITBYCIGoff0gqlZq8FUxVmIZBhElxqYdwWiGQBNjQtMyuln\n",
       "xAAAAABJRU5ErkJggg==\n",
       "\" style=\"display:inline;vertical-align:middle;\" /></a></td></tr>\n",
       "<tr><td>3</td><td>ExprTuple</td><td>4, 5</td><td><a class=\"ProveItLink\" href=\"../a6a2ac9310c73e21661c7634808321702fb219240/expr.ipynb\"><img src=\"data:image/png;base64,iVBORw0KGgoAAAANSUhEUgAAACwAAAAVBAMAAADP3xFXAAAAMFBMVEX////c3NwiIiJERESqqqqY\n",
       "mJh2dnZmZmYQEBDu7u4yMjJUVFTMzMyIiIi6uroAAAAs73DqAAAAAXRSTlMAQObYZgAAAQtJREFU\n",
       "GNNjYMAB+C6gi7A+ABKnMVXWAPFKTGEuBgbeC5jCrAkMHBMwhTkbGF5hc4YJQxmQFLstch1i1rQy\n",
       "BsafDAzpDEuBehJYVTkUwMIJ7xl4PzAweDH0MTCwAZksB0CiPA5FDMwGDAwvGP4BVTNwG0DtYuhl\n",
       "4Acadx4kzMDAAXMly0+G8wdAwi0gnvwBBog72Rcw3GAAGWIKdL3AfQbeCWAJrgIGayAVBXQLg3+A\n",
       "BYMsA+cnkOoNfF8ZQA58xMAw+dq03AAGzn4BoJ221z8ChdcxcAjAQxjMYlMAex4YLLAAAuJNDDMc\n",
       "gFIXkAIWJKzGYAYkZwGxNEwY5Hbf66CY2QjEjBgBznuAAQAt5DtyKXSr1gAAAABJRU5ErkJggg==\n",
       "\" style=\"display:inline;vertical-align:middle;\" /></a></td></tr>\n",
       "<tr><td>4</td><td>Variable</td><td></td><td><a class=\"ProveItLink\" href=\"../../../../__pv_it/530be409e3083890784cf1d7b28c9e67e90af9360/expr.ipynb\"><img src=\"data:image/png;base64,iVBORw0KGgoAAAANSUhEUgAAAAsAAAAJBAMAAAAWSsseAAAAKlBMVEX///9ERETMzMwQEBAiIiKY\n",
       "mJju7u5mZmaqqqpUVFSIiIh2dnbc3NwAAAA/vyDhAAAAAXRSTlMAQObYZgAAAENJREFUCNdjYDi9\n",
       "8sTyBQxsG1hdmR0YuBm4LnAoMLAxcAowgADzAjB1VoEhgYH1wFoGrgSG3gBhhlMMDImrs3cFMAAA\n",
       "t0YN+iTRa+sAAAAASUVORK5CYII=\n",
       "\" style=\"display:inline;vertical-align:middle;\" /></a></td></tr>\n",
       "<tr><td>5</td><td>Variable</td><td></td><td><a class=\"ProveItLink\" href=\"../../../../__pv_it/f8b9edf8e16034727f0aad55bb83e392c3db40d40/expr.ipynb\"><img src=\"data:image/png;base64,iVBORw0KGgoAAAANSUhEUgAAAAsAAAANBAMAAACN24kIAAAAMFBMVEX///+YmJhUVFQyMjIQEBBE\n",
       "REQiIiKqqqrMzMyIiIi6urrc3NxmZmZ2dnbu7u4AAADXeCicAAAAAXRSTlMAQObYZgAAAFhJREFU\n",
       "CNdj4LtzgWH/AwZerg8M8xkY2nkSGEIZGB6wTGD4ycDAUP+A4weQOszA6QCkbBhYFYDUIYb1AkDq\n",
       "6czzGxhA4BoQMyXwuQMptgusF4AU+8xTQBIAUqMVoSp/SLMAAAAASUVORK5CYII=\n",
       "\" style=\"display:inline;vertical-align:middle;\" /></a></td></tr>\n",
       "</table>\n"
      ],
      "text/plain": [
       "0. (x > y)\n",
       "   core type: ExprTuple\n",
       "   sub-expressions: 1\n",
       "1. x > y\n",
       "   core type: Operation\n",
       "   operator: 2\n",
       "   operands: 3\n",
       "2. >\n",
       "   core type: Literal\n",
       "   sub-expressions: \n",
       "3. (x , y)\n",
       "   core type: ExprTuple\n",
       "   sub-expressions: 4, 5\n",
       "4. x\n",
       "   core type: Variable\n",
       "   sub-expressions: \n",
       "5. y\n",
       "   core type: Variable\n",
       "   sub-expressions: "
      ]
     },
     "execution_count": 4,
     "metadata": {},
     "output_type": "execute_result"
    }
   ],
   "source": [
    "# display the expression information\n",
    "expr.exprInfo()"
   ]
  },
  {
   "cell_type": "code",
   "execution_count": null,
   "metadata": {},
   "outputs": [],
   "source": []
  }
 ],
 "metadata": {
  "kernelspec": {
   "display_name": "Python 3",
   "language": "python",
   "name": "python3"
  }
 },
 "nbformat": 4,
 "nbformat_minor": 0
}
