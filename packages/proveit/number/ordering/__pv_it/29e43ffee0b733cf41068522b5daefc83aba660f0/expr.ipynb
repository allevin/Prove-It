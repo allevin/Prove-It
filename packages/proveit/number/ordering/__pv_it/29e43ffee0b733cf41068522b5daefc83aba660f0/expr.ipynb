{
 "cells": [
  {
   "cell_type": "markdown",
   "metadata": {},
   "source": [
    "Expression of type <a class=\"ProveItLink\" href=\"../../../../../../doc/html/api/proveit.logic.Forall.html\">Forall</a>\n",
    "=======================\n",
    "# from context <a class=\"ProveItLink\" href=\"../../_context_.ipynb\">proveit.number.ordering</a>"
   ]
  },
  {
   "cell_type": "code",
   "execution_count": 1,
   "metadata": {},
   "outputs": [],
   "source": [
    "# import Expression classes needed to build the expression\n",
    "from proveit._common_ import x, y, z\n",
    "from proveit.logic import Forall\n",
    "from proveit.number import Less, LessEq"
   ]
  },
  {
   "cell_type": "code",
   "execution_count": 2,
   "metadata": {},
   "outputs": [
    {
     "data": {
      "text/html": [
       "<strong id=\"expr\">expr:</strong> <a class=\"ProveItLink\" href=\"expr.ipynb\"><img src=\"data:image/png;base64,iVBORw0KGgoAAAANSUhEUgAAAJEAAAAXBAMAAAD5H7DVAAAAMFBMVEX///8QEBC6urrMzMxUVFRm\n",
       "ZmZERETc3NwyMjKqqqp2dnaIiIiYmJgiIiLu7u4AAAAU9Wx4AAAAAXRSTlMAQObYZgAAAh1JREFU\n",
       "OMtjYKAaeEC8Um3cUoeA+AKIcZoYg5gdcMuxGjAwrAQx+ogxiQOf8xsYGMqAFHsCMSbtRhdgD0aw\n",
       "T0FsYp1AjEly6L71UEBwHjIw8CwvL68lxiCmBjR+iwESjw3omG9pabeIMYl1AdA/q91nR0O4nK0F\n",
       "UAlFIfYNDFwBDAzODAzpCIvwBPgBBoZXDGcPyIJ53Ldg4c+eszUMaDDQxSoMfAh3s6Fo5sxD4jAC\n",
       "Q2UBw36GySAO1224OB8Dnx/QCQIMDLwM3Aewm8TZjRzv/AqgZOwG4TxLQpIpAQX/B6A7D/A+wGoS\n",
       "TzeKA/nBMSUN5Zl0IkIkAGoSX4MJkGXbV4kwSTsBGOXcPeCovvEcmkQYQTT7Z6BvwKD0DsykWWDj\n",
       "gL5jSHcCEk5HF8BN4tvwnVmA8yZYGYtOFMy5wDA4zv2BYR+U/+o2xCucCxhYgB4AhfVUcNZ7ifAd\n",
       "+6ML3Al8yyDpjg+WaoHxzPmHTQAY4zDfQ6LP4uiZJrAs0NkgOXYFpHBiWcCygYFvG9iMInhwXGDg\n",
       "y163ag9SjDSDyACej0CFHCD9PCCjjRnMESYxKjCC0u8OoApmA2ZYChTHl24fwvOQl2YCkkkG+mD6\n",
       "xAEGk0XTkDIpbrAaxuBmkihAmMTpnQERnsewQbGdmFKFrwFdBGJSOYM3FtXseEo6lgLsJmUxNWBT\n",
       "Xo3bpM0M2E2avQvowzQgyCO/fmAhXysA39txS11yL14AAAAASUVORK5CYII=\n",
       "\" style=\"display:inline;vertical-align:middle;\" /></a><br>"
      ],
      "text/plain": [
       "expr: forall_{z | y <= z} (x < z)"
      ]
     },
     "execution_count": 2,
     "metadata": {},
     "output_type": "execute_result"
    }
   ],
   "source": [
    "# build up the expression from sub-expressions\n",
    "expr = Forall([z], Less(x, z), conditions = [LessEq(y, z)])"
   ]
  },
  {
   "cell_type": "code",
   "execution_count": 3,
   "metadata": {},
   "outputs": [
    {
     "name": "stdout",
     "output_type": "stream",
     "text": [
      "Passed sanity check: built 'expr' is the same as the stored Expression.\n"
     ]
    }
   ],
   "source": [
    "# check that the built expression is the same as the stored expression\n",
    "%check_expr"
   ]
  },
  {
   "cell_type": "code",
   "execution_count": 4,
   "metadata": {},
   "outputs": [
    {
     "data": {
      "text/html": [
       "<table><tr><th>&nbsp;</th><th>core type</th><th>sub-expressions</th><th>expression</th></tr>\n",
       "<tr><td>0</td><td>Operation</td><td>operator:&nbsp;1<br>operand:&nbsp;2<br></td><td><a class=\"ProveItLink\" href=\"expr.ipynb\"><img src=\"data:image/png;base64,iVBORw0KGgoAAAANSUhEUgAAAJEAAAAXBAMAAAD5H7DVAAAAMFBMVEX///8QEBC6urrMzMxUVFRm\n",
       "ZmZERETc3NwyMjKqqqp2dnaIiIiYmJgiIiLu7u4AAAAU9Wx4AAAAAXRSTlMAQObYZgAAAh1JREFU\n",
       "OMtjYKAaeEC8Um3cUoeA+AKIcZoYg5gdcMuxGjAwrAQx+ogxiQOf8xsYGMqAFHsCMSbtRhdgD0aw\n",
       "T0FsYp1AjEly6L71UEBwHjIw8CwvL68lxiCmBjR+iwESjw3omG9pabeIMYl1AdA/q91nR0O4nK0F\n",
       "UAlFIfYNDFwBDAzODAzpCIvwBPgBBoZXDGcPyIJ53Ldg4c+eszUMaDDQxSoMfAh3s6Fo5sxD4jAC\n",
       "Q2UBw36GySAO1224OB8Dnx/QCQIMDLwM3Aewm8TZjRzv/AqgZOwG4TxLQpIpAQX/B6A7D/A+wGoS\n",
       "TzeKA/nBMSUN5Zl0IkIkAGoSX4MJkGXbV4kwSTsBGOXcPeCovvEcmkQYQTT7Z6BvwKD0DsykWWDj\n",
       "gL5jSHcCEk5HF8BN4tvwnVmA8yZYGYtOFMy5wDA4zv2BYR+U/+o2xCucCxhYgB4AhfVUcNZ7ifAd\n",
       "+6ML3Al8yyDpjg+WaoHxzPmHTQAY4zDfQ6LP4uiZJrAs0NkgOXYFpHBiWcCygYFvG9iMInhwXGDg\n",
       "y163ag9SjDSDyACej0CFHCD9PCCjjRnMESYxKjCC0u8OoApmA2ZYChTHl24fwvOQl2YCkkkG+mD6\n",
       "xAEGk0XTkDIpbrAaxuBmkihAmMTpnQERnsewQbGdmFKFrwFdBGJSOYM3FtXseEo6lgLsJmUxNWBT\n",
       "Xo3bpM0M2E2avQvowzQgyCO/fmAhXysA39txS11yL14AAAAASUVORK5CYII=\n",
       "\" style=\"display:inline;vertical-align:middle;\" /></a></td></tr>\n",
       "<tr><td>1</td><td>Literal</td><td></td><td><a class=\"ProveItLink\" href=\"../../../../logic/boolean/quantification/universal/__pv_it/265f8c02ac1094d56e0e6410a1c1fd3500dc9f540/expr.ipynb\"><img src=\"data:image/png;base64,iVBORw0KGgoAAAANSUhEUgAAAAwAAAAQBAMAAADQT4M0AAAAMFBMVEX///8QEBC6urrMzMxUVFRm\n",
       "ZmZERETc3NwyMjKqqqp2dnaIiIiYmJgiIiLu7u4AAAAU9Wx4AAAAAXRSTlMAQObYZgAAAFhJREFU\n",
       "CNdjeMAABhdAxGmGlSCqj6EMSLInMHAAJVknMPAsLy+vBYp8S0u7BaScGRjSgZQKA18DkOJl4D4A\n",
       "pLgP8IJM4mswARuX7gSmpoKNZWDcAKZ4gCoAgTQTILaSE58AAAAASUVORK5CYII=\n",
       "\" style=\"display:inline;vertical-align:middle;\" /></a></td></tr>\n",
       "<tr><td>2</td><td>Lambda</td><td>parameter:&nbsp;12<br>body:&nbsp;3<br>conditions:&nbsp;4<br></td><td><a class=\"ProveItLink\" href=\"../d7afab7d94e7b03f5b7381a33b46dbdf7b05d6e60/expr.ipynb\"><img src=\"data:image/png;base64,iVBORw0KGgoAAAANSUhEUgAAALUAAAAVCAMAAAA3kV91AAAANlBMVEX///8UFBQNDQ0iIiIyMjLM\n",
       "zMx2dnaqqqpUVFTu7u5mZmaYmJhERESIiIjc3NwQEBC6uroAAAASmHVxAAAAAXRSTlMAQObYZgAA\n",
       "AfFJREFUSMfFV+mawiAMZJf7SID3f9kFWwUsBcVV+6ufyGSSTI4S8rVH4udsBVi5ZcPxNxE+Rpqr\n",
       "tXuGf5M106sXV1kDfdk7mOsDO2HNGhErrLWg8HqovZ4qiPXJaP88a22o/Y9SZLNzxc/OnHySNSom\n",
       "R7a8DwShK0DZXDR7mlGAQgmmzZ5kBs+hhTlnrcUFGaOeJK3gobNgjLse0PZ/qtYEs7uRpNOUPE+b\n",
       "qhEH+dTQkp2zFiTEDBFvbjjXS1qFl23pQu6OtVZV/HzYjWwWZEHuV00NHfwpay6JyWadq2IAeoyX\n",
       "JVROfn9o8/hYYrK/5mvKNXDOhTN1XqnFU9YJz2enY+257eSuoRpqyd3FmqiKTuWAh0Pz6NVOgR6w\n",
       "TlnLiuaRz+qkwpNNK71j3Vz0N2J4saDbRn3sUxX0QCHJShY9+GlPKnjbm+qz5k1I3UbL4lY499LL\n",
       "M0EfjWzQdlCNhOUQus62wJuyLHicWWNtaTNw0H9lyGzptMSluGCnABs1NtCjzkdMYhKi7c+t0MFL\n",
       "YDZ6+diUoVvpgdBCQH9uSXYLTgN9aL816wQJJs5W12eoNhN9eSeeT3RB37XyHXegRx8BA9aKZrfk\n",
       "u1gvb6p6uKnSFAxXBwTrifH6Ho6LXwUKR6xlUvVbvxFwad+FzlYB6zz/AAK3EyFB/DqnAAAAAElF\n",
       "TkSuQmCC\n",
       "\" style=\"display:inline;vertical-align:middle;\" /></a></td></tr>\n",
       "<tr><td>3</td><td>Operation</td><td>operator:&nbsp;5<br>operands:&nbsp;6<br></td><td><a class=\"ProveItLink\" href=\"../6eab9f31131eee63ba64482cd49acd6c075c25100/expr.ipynb\"><img src=\"data:image/png;base64,iVBORw0KGgoAAAANSUhEUgAAADEAAAAMBAMAAAA5VkhcAAAAMFBMVEX///+6uroyMjJERETMzMwQ\n",
       "EBAiIiKYmJju7u5mZmaqqqpUVFSIiIh2dnbc3NwAAAAWgogoAAAAAXRSTlMAQObYZgAAAKJJREFU\n",
       "GNNjYEABfFMYsAOWTQLYJRi1HZC5b0+/OnkAzOLSfAAVEw3kO8DAcYE9nTUBxOXJbYDZZn5yMgMD\n",
       "LwPPBy6QIbw5cGM4GDh2gEhuAzC32RDJitdgkhViC4O3FsIpE8DUewcGiAUv02Eya0EE+4PzDDxQ\n",
       "q3tzIAyuCwzcDAzrC0wZ3sDUskOc51RZrgi0+GzvnQK4BVwqIHIC+9cFDAAOSiUjdmHbPgAAAABJ\n",
       "RU5ErkJggg==\n",
       "\" style=\"display:inline;vertical-align:middle;\" /></a></td></tr>\n",
       "<tr><td>4</td><td>ExprTuple</td><td>7</td><td><a class=\"ProveItLink\" href=\"../943b3f83af9a35ad9e52b5d4ece56f895d46f3910/expr.ipynb\"><img src=\"data:image/png;base64,iVBORw0KGgoAAAANSUhEUgAAAD0AAAAVBAMAAAAHs/uBAAAAMFBMVEX////c3NwiIiJERESqqqqY\n",
       "mJh2dnZmZmYQEBDu7u4yMjJUVFTMzMyIiIi6uroAAAAs73DqAAAAAXRSTlMAQObYZgAAASxJREFU\n",
       "KM9jYCAE+C7glIoDEadxa2U/ACRWogny6iHYC4BcNOOn6SJxwhgYOCagSE9XRebNYGB4hSItvQSF\n",
       "y+zAUMbAwJmewCAPNub0OrjUiz7GCwxsBQxLGRjY+D4w3AeJTbaBSzOaXi9mYGBZwNDHwHCEXYHB\n",
       "GOx0XbhjOBk4dwLDpoHhHwPDBI4LDH/BoqxqCNdKAzHPB5A8g/8Enj8QQZblArBgLYDItwCpKgbe\n",
       "Bpjw6gMQhhuY18BgCqSWMzBvgBnLYwxWwJLAwA20bwFDOpBTzfA+AG4vzz4QeSo8FOhXoP8egfx1\n",
       "t14ALRYKWH84MDBwPWDgAMskYY9AYPiyAi1S4GzBLp8Ljl+mBOYEMFdICQQQ8cu5ABwOLHfrsGvn\n",
       "BtnNiDt93WFgAABAhD87deSHbAAAAABJRU5ErkJggg==\n",
       "\" style=\"display:inline;vertical-align:middle;\" /></a></td></tr>\n",
       "<tr><td>5</td><td>Literal</td><td></td><td><a class=\"ProveItLink\" href=\"../7c444b9b2efa607ed6397b492680dde2810212f00/expr.ipynb\"><img src=\"data:image/png;base64,iVBORw0KGgoAAAANSUhEUgAAAA4AAAAMBAMAAACgrpHpAAAALVBMVEX///+YmJhERETu7u52dnYi\n",
       "IiKIiIiqqqq6uroyMjJUVFTMzMxmZmbc3NwAAADmAst+AAAAAXRSTlMAQObYZgAAAD5JREFUCNdj\n",
       "YAAB3tNgintlA4jimLUBRLHPuQCi2EIMQBRLGFgJg5EGhGbYNR3KuBMIZZiEGUAYjCFQBvtsABzC\n",
       "Cm98G6SsAAAAAElFTkSuQmCC\n",
       "\" style=\"display:inline;vertical-align:middle;\" /></a></td></tr>\n",
       "<tr><td>6</td><td>ExprTuple</td><td>8, 12</td><td><a class=\"ProveItLink\" href=\"../0b2afcdb3e359c436e077617831aa49d50dd87000/expr.ipynb\"><img src=\"data:image/png;base64,iVBORw0KGgoAAAANSUhEUgAAACwAAAAVBAMAAADP3xFXAAAAMFBMVEX////c3NwiIiJERESqqqqY\n",
       "mJh2dnZmZmYQEBDu7u4yMjJUVFTMzMyIiIi6uroAAAAs73DqAAAAAXRSTlMAQObYZgAAAOpJREFU\n",
       "GNNjYMAB+C6gi7A+ABKnMVXWAPFKTGEuBgbeC5jCrAkMHBMwhTkbGF5hc4YJQxmQFLstch1q1os+\n",
       "RiArnWEpUE8CqyqHAliU0fR6MZDyYuhjYGBj4P3AcgBiKgPnTpAehn8gNrcB3FhpEHEeJMzAwAF3\n",
       "JV8BRLgFRMkfYIC60w1iMYMp0PUC9xl4J4AlWBIYuIFUFNAtDP4BFgyyDJyfgPxT4aHrGEAOfMTA\n",
       "MPnatNwABs5+AQaGAtYfDkDhdQwcAnDbBJA8DwwWWADBHcl2ASlgEcKzYO4HAUQIbwQFA0aA8x5g\n",
       "AACpBTHTmw8wGwAAAABJRU5ErkJggg==\n",
       "\" style=\"display:inline;vertical-align:middle;\" /></a></td></tr>\n",
       "<tr><td>7</td><td>Operation</td><td>operator:&nbsp;9<br>operands:&nbsp;10<br></td><td><a class=\"ProveItLink\" href=\"../85cb21cab71a4214f21f04ea7851d9157c14c27f0/expr.ipynb\"><img src=\"data:image/png;base64,iVBORw0KGgoAAAANSUhEUgAAADEAAAASBAMAAAAAiiu3AAAAMFBMVEX///+YmJhUVFQyMjIQEBBE\n",
       "REQiIiKqqqrMzMyIiIi6urrc3NxmZmZ2dnbu7u4AAADXeCicAAAAAXRSTlMAQObYZgAAAMBJREFU\n",
       "GNNjYCAScGbhkHibiUPiTSIOiU3mKFy+OxcY9j8AsZqs4IJLvLgnMPByfWCYD+I9jYBLcAfOOcrA\n",
       "0M6TwBAKdlbmA7g5DHx6DAwPWCYw/ATzGXMfIKwEEfUPOH5AuOw2G6ASXAdA5GEGTgeYgFEDhFEL\n",
       "Jm0YWBVghnCEgqXYLzAwAalDDOsF4OZzaIHIZhlBkA+ezjy/Ac3LBxi/FIAZ17AHCVMCnzt2GbYL\n",
       "rBfAjG1pIIAUC+wzT2HXAgAfdS2G/B8iqAAAAABJRU5ErkJggg==\n",
       "\" style=\"display:inline;vertical-align:middle;\" /></a></td></tr>\n",
       "<tr><td>8</td><td>Variable</td><td></td><td><a class=\"ProveItLink\" href=\"../../../../__pv_it/530be409e3083890784cf1d7b28c9e67e90af9360/expr.ipynb\"><img src=\"data:image/png;base64,iVBORw0KGgoAAAANSUhEUgAAAAsAAAAJBAMAAAAWSsseAAAAKlBMVEX///9ERETMzMwQEBAiIiKY\n",
       "mJju7u5mZmaqqqpUVFSIiIh2dnbc3NwAAAA/vyDhAAAAAXRSTlMAQObYZgAAAENJREFUCNdjYDi9\n",
       "8sTyBQxsG1hdmR0YuBm4LnAoMLAxcAowgADzAjB1VoEhgYH1wFoGrgSG3gBhhlMMDImrs3cFMAAA\n",
       "t0YN+iTRa+sAAAAASUVORK5CYII=\n",
       "\" style=\"display:inline;vertical-align:middle;\" /></a></td></tr>\n",
       "<tr><td>9</td><td>Literal</td><td></td><td><a class=\"ProveItLink\" href=\"../aa616d6a8fe3483e4e64187262e9c7dfe6a536a30/expr.ipynb\"><img src=\"data:image/png;base64,iVBORw0KGgoAAAANSUhEUgAAAA4AAAARBAMAAAAf5oCsAAAALVBMVEX///9ERETMzMyqqqoyMjJU\n",
       "VFTc3NyYmJhmZmZ2dnbu7u66uroiIiKIiIgAAAAFyQXGAAAAAXRSTlMAQObYZgAAAEBJREFUCNdj\n",
       "YEAGvKfB1MqzYGrFcTCV6gymVL3B1EIhqNKzCyAM9pNQBrNHAoTB7aoAYTAJwhjRDLhAzhkQOA0A\n",
       "iskPUSt9tJUAAAAASUVORK5CYII=\n",
       "\" style=\"display:inline;vertical-align:middle;\" /></a></td></tr>\n",
       "<tr><td>10</td><td>ExprTuple</td><td>11, 12</td><td><a class=\"ProveItLink\" href=\"../1ba9cd67f202dbea908cf31db96755ce36201b140/expr.ipynb\"><img src=\"data:image/png;base64,iVBORw0KGgoAAAANSUhEUgAAACsAAAAVBAMAAAAtAwouAAAAMFBMVEX////c3NwiIiJERESqqqqY\n",
       "mJh2dnZmZmYQEBDu7u4yMjJUVFTMzMyIiIi6uroAAAAs73DqAAAAAXRSTlMAQObYZgAAAQdJREFU\n",
       "GNNjYMAB+C6gi8SBiNMYCtkPAImVmAYsYGDgvYApHMbAwDEBU3gGA8MrLK5gdmAoY2DgTE9gkIdo\n",
       "4ut4IMvAwFbAsBRI8n1guA9RJxxbbsDAwLKAoY+B4Qi7AoMxRHgCw2ygNr4Ghn9ANscFhr9QYxk3\n",
       "AAmeDyBhBv8JPH+gws8ZIMItQKqKgbcBIsqSALa4gcEUSC1nYN7AwAkScGNgAJrCuoAhHcipZngf\n",
       "wDBfAah7aWnUA7ADHwGFJ9+tF2CY8REYSAzxIEO5HjBwCIA0JwHxQ2TPsyYwcCtwgtQEwIVzwQHL\n",
       "lMCcgCzMCQxYBmkGlrt1QJoXrpgbZC4jRoDfYWAAADdMON26mSCyAAAAAElFTkSuQmCC\n",
       "\" style=\"display:inline;vertical-align:middle;\" /></a></td></tr>\n",
       "<tr><td>11</td><td>Variable</td><td></td><td><a class=\"ProveItLink\" href=\"../../../../__pv_it/f8b9edf8e16034727f0aad55bb83e392c3db40d40/expr.ipynb\"><img src=\"data:image/png;base64,iVBORw0KGgoAAAANSUhEUgAAAAsAAAANBAMAAACN24kIAAAAMFBMVEX///+YmJhUVFQyMjIQEBBE\n",
       "REQiIiKqqqrMzMyIiIi6urrc3NxmZmZ2dnbu7u4AAADXeCicAAAAAXRSTlMAQObYZgAAAFhJREFU\n",
       "CNdj4LtzgWH/AwZerg8M8xkY2nkSGEIZGB6wTGD4ycDAUP+A4weQOszA6QCkbBhYFYDUIYb1AkDq\n",
       "6czzGxhA4BoQMyXwuQMptgusF4AU+8xTQBIAUqMVoSp/SLMAAAAASUVORK5CYII=\n",
       "\" style=\"display:inline;vertical-align:middle;\" /></a></td></tr>\n",
       "<tr><td>12</td><td>Variable</td><td></td><td><a class=\"ProveItLink\" href=\"../../../../__pv_it/251502494639118b4892de8e9d720a5fcce840e10/expr.ipynb\"><img src=\"data:image/png;base64,iVBORw0KGgoAAAANSUhEUgAAAAoAAAAJBAMAAAD5iKAgAAAALVBMVEX///8yMjLMzMx2dnaqqqpU\n",
       "VFTu7u5mZmaYmJhERESIiIjc3NwQEBC6uroAAAB+iRisAAAAAXRSTlMAQObYZgAAADlJREFUCNdj\n",
       "YOA9c2EXA8POrvIJDAwJDKkJDAwM3AFAguE6iGAxAJHODAwBDEwSFY0XGNgZ+o4wAABKtAsIcBKm\n",
       "agAAAABJRU5ErkJggg==\n",
       "\" style=\"display:inline;vertical-align:middle;\" /></a></td></tr>\n",
       "</table>\n"
      ],
      "text/plain": [
       "0. forall_{z | y <= z} (x < z)\n",
       "   core type: Operation\n",
       "   operator: 1\n",
       "   operand: 2\n",
       "1. forall\n",
       "   core type: Literal\n",
       "   sub-expressions: \n",
       "2. z -> (x < z) | y <= z\n",
       "   core type: Lambda\n",
       "   parameter: 12\n",
       "   body: 3\n",
       "   conditions: 4\\n3. x < z\n",
       "   core type: Operation\n",
       "   operator: 5\n",
       "   operands: 6\n",
       "4. (y <= z)\n",
       "   core type: ExprTuple\n",
       "   sub-expressions: 7\n",
       "5. <\n",
       "   core type: Literal\n",
       "   sub-expressions: \n",
       "6. (x , z)\n",
       "   core type: ExprTuple\n",
       "   sub-expressions: 8, 12\n",
       "7. y <= z\n",
       "   core type: Operation\n",
       "   operator: 9\n",
       "   operands: 10\n",
       "8. x\n",
       "   core type: Variable\n",
       "   sub-expressions: \n",
       "9. <=\n",
       "   core type: Literal\n",
       "   sub-expressions: \n",
       "10. (y , z)\n",
       "    core type: ExprTuple\n",
       "    sub-expressions: 11, 12\n",
       "11. y\n",
       "    core type: Variable\n",
       "    sub-expressions: \n",
       "12. z\n",
       "    core type: Variable\n",
       "    sub-expressions: "
      ]
     },
     "execution_count": 4,
     "metadata": {},
     "output_type": "execute_result"
    }
   ],
   "source": [
    "# display the expression information\n",
    "expr.exprInfo()"
   ]
  },
  {
   "cell_type": "code",
   "execution_count": null,
   "metadata": {},
   "outputs": [],
   "source": []
  }
 ],
 "metadata": {
  "kernelspec": {
   "display_name": "Python 3",
   "language": "python",
   "name": "python3"
  }
 },
 "nbformat": 4,
 "nbformat_minor": 0
}
