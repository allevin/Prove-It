{
 "cells": [
  {
   "cell_type": "markdown",
   "metadata": {},
   "source": [
    "Expression of type <a class=\"ProveItLink\" href=\"../../../../../../doc/html/api/proveit.number.GreaterEq.html\">GreaterEq</a>\n",
    "=======================\n",
    "# from context <a class=\"ProveItLink\" href=\"../../_context_.ipynb\">proveit.number.ordering</a>"
   ]
  },
  {
   "cell_type": "code",
   "execution_count": 1,
   "metadata": {},
   "outputs": [],
   "source": [
    "# import Expression classes needed to build the expression\n",
    "from proveit._common_ import a, b, c\n",
    "from proveit.number import Add, GreaterEq"
   ]
  },
  {
   "cell_type": "code",
   "execution_count": 2,
   "metadata": {},
   "outputs": [
    {
     "data": {
      "text/html": [
       "<strong id=\"expr\">expr:</strong> <a class=\"ProveItLink\" href=\"expr.ipynb\"><img src=\"data:image/png;base64,iVBORw0KGgoAAAANSUhEUgAAAJEAAAAVBAMAAAC01xHeAAAAMFBMVEX////c3NwiIiJERESqqqqY\n",
       "mJh2dnZmZmYQEBDu7u4yMjJUVFTMzMyIiIi6uroAAAAs73DqAAAAAXRSTlMAQObYZgAAAh1JREFU\n",
       "OMtjYKAe4LuAQ4L1AfGK40DEaZx21GAKYVHMuUOBgYH9AJC1EqdJXBCVahMQQtgUc20AEgsYGHiR\n",
       "3cspgOK9BDDFshwuiqJ4IpTmdwASYQwMHEg2MrCgBANnAzRwrA9ARVAU+0Lp9yDBGQwMrxhwmsRg\n",
       "AqV5jKGBj6IYZlISiGB2YCgD0dNy76CaJH3tBdBL6TBNjLsgRoEUc6bdPYBi0uq7WxkY2AoYloLs\n",
       "7GNYhGISXyODPZDygtvPWATWDVJ84gGXArJJnJ8Z+A8wsCxg6AN58gKDKYpJ8gEMxUDqBSLw1cEh\n",
       "BFTM2cvAHIBsEstPBo4EBr4Ghn9Azn70cAIK6AKp8zDxudCUAFTM/QEtnNgXMPAXMPB8AJv0GSK0\n",
       "atWirlWrNoAFOP8gmTRNF8oAKuY3ALOqVq3SWLVqNZDFVMDwPgBkUgswEP6iuQkowPKBE+47cVWY\n",
       "PFCx/AU0NwGTU/0EkO9AAfQVGBDIJnF+YeBe4MPAEAWJxyXw4AIq5gcGEko4AYO7Dah/ATimtzMw\n",
       "5KCE01IGp4IEaCpgtEMkIaAAdwEDG0oq4HZg3wBOBY9AIZR7dwKKSdJ339gCU9A69CwGUlx29yaK\n",
       "7zj3loIy3wMGDgGCuQUBUBT7IsvMgGdTbMUPG0ZhhKL4LbJMLt5SZRYkIpXA4AHOUgXs/AWgMMFp\n",
       "0kZMIVyKuUHeZsRV+vIewBTDpRhYAAAAzreKU0nawpYAAAAASUVORK5CYII=\n",
       "\" style=\"display:inline;vertical-align:middle;\" /></a><br>"
      ],
      "text/plain": [
       "expr: (c + a) >= (c + b)"
      ]
     },
     "execution_count": 2,
     "metadata": {},
     "output_type": "execute_result"
    }
   ],
   "source": [
    "# build up the expression from sub-expressions\n",
    "expr = GreaterEq(Add(c, a), Add(c, b))"
   ]
  },
  {
   "cell_type": "code",
   "execution_count": 3,
   "metadata": {},
   "outputs": [
    {
     "name": "stdout",
     "output_type": "stream",
     "text": [
      "Passed sanity check: built 'expr' is the same as the stored Expression.\n"
     ]
    }
   ],
   "source": [
    "# check that the built expression is the same as the stored expression\n",
    "%check_expr"
   ]
  },
  {
   "cell_type": "code",
   "execution_count": 4,
   "metadata": {},
   "outputs": [
    {
     "data": {
      "text/html": [
       "<table><tr><th>&nbsp;</th><th>core type</th><th>sub-expressions</th><th>expression</th></tr>\n",
       "<tr><td>0</td><td>Operation</td><td>operator:&nbsp;1<br>operands:&nbsp;2<br></td><td><a class=\"ProveItLink\" href=\"expr.ipynb\"><img src=\"data:image/png;base64,iVBORw0KGgoAAAANSUhEUgAAAJEAAAAVBAMAAAC01xHeAAAAMFBMVEX////c3NwiIiJERESqqqqY\n",
       "mJh2dnZmZmYQEBDu7u4yMjJUVFTMzMyIiIi6uroAAAAs73DqAAAAAXRSTlMAQObYZgAAAh1JREFU\n",
       "OMtjYKAe4LuAQ4L1AfGK40DEaZx21GAKYVHMuUOBgYH9AJC1EqdJXBCVahMQQtgUc20AEgsYGHiR\n",
       "3cspgOK9BDDFshwuiqJ4IpTmdwASYQwMHEg2MrCgBANnAzRwrA9ARVAU+0Lp9yDBGQwMrxhwmsRg\n",
       "AqV5jKGBj6IYZlISiGB2YCgD0dNy76CaJH3tBdBL6TBNjLsgRoEUc6bdPYBi0uq7WxkY2AoYloLs\n",
       "7GNYhGISXyODPZDygtvPWATWDVJ84gGXArJJnJ8Z+A8wsCxg6AN58gKDKYpJ8gEMxUDqBSLw1cEh\n",
       "BFTM2cvAHIBsEstPBo4EBr4Ghn9Azn70cAIK6AKp8zDxudCUAFTM/QEtnNgXMPAXMPB8AJv0GSK0\n",
       "atWirlWrNoAFOP8gmTRNF8oAKuY3ALOqVq3SWLVqNZDFVMDwPgBkUgswEP6iuQkowPKBE+47cVWY\n",
       "PFCx/AU0NwGTU/0EkO9AAfQVGBDIJnF+YeBe4MPAEAWJxyXw4AIq5gcGEko4AYO7Dah/ATimtzMw\n",
       "5KCE01IGp4IEaCpgtEMkIaAAdwEDG0oq4HZg3wBOBY9AIZR7dwKKSdJ339gCU9A69CwGUlx29yaK\n",
       "7zj3loIy3wMGDgGCuQUBUBT7IsvMgGdTbMUPG0ZhhKL4LbJMLt5SZRYkIpXA4AHOUgXs/AWgMMFp\n",
       "0kZMIVyKuUHeZsRV+vIewBTDpRhYAAAAzreKU0nawpYAAAAASUVORK5CYII=\n",
       "\" style=\"display:inline;vertical-align:middle;\" /></a></td></tr>\n",
       "<tr><td>1</td><td>Literal</td><td></td><td><a class=\"ProveItLink\" href=\"../96143560a3dbc26f943e0a126972c9bfadab3fc50/expr.ipynb\"><img src=\"data:image/png;base64,iVBORw0KGgoAAAANSUhEUgAAAA4AAAARBAMAAAAf5oCsAAAALVBMVEX///+IiIiYmJjMzMxUVFRE\n",
       "RES6urrc3NxmZmYyMjKqqqp2dnYiIiLu7u4AAACqGg1VAAAAAXRSTlMAQObYZgAAAEFJREFUCNdj\n",
       "YICCO3uhjJXtUEaqM5RhGgZllEyDMioOQ2idXhDJKwPWy7tHAESx9yiAKc8FYCWlCQx4Qc0ZEDgG\n",
       "ALzAEHC/pigGAAAAAElFTkSuQmCC\n",
       "\" style=\"display:inline;vertical-align:middle;\" /></a></td></tr>\n",
       "<tr><td>2</td><td>ExprTuple</td><td>3, 4</td><td><a class=\"ProveItLink\" href=\"../e439762b88d05462b3ad54f87aea4c78ce81d4a30/expr.ipynb\"><img src=\"data:image/png;base64,iVBORw0KGgoAAAANSUhEUgAAAG4AAAAVBAMAAABVkMbKAAAAMFBMVEX////c3NwiIiJERESqqqqY\n",
       "mJh2dnZmZmYQEBDu7u4yMjJUVFTMzMyIiIi6uroAAAAs73DqAAAAAXRSTlMAQObYZgAAAXpJREFU\n",
       "OMudlD9Iw0AUxr/YmLQpid0d7FbHDro7C9LMTp3qJk4dqkMVcRCUuIkdAoKDJ4iCk1AouAgOZhOR\n",
       "luokglChRQpFfEdyNQmeEA/ueNyX3/tz7y7Af4flJUYmu7TcJWMaW7Rs0DxNGOyMpgGY4TQP5J9n\n",
       "coHR54mWkXZC4pKcUwP/1pA7qeMNyTgtz9c5VDleabcinNJc3QzSE5LgjOaTDazghOzbrpGPcK+5\n",
       "VM+3xpLg3CJGwCL2yeceUnaYUwbQi364sSS4koMdcowvINuL1UcbE56wYvXVgE/gnnNTvu8aY7OM\n",
       "8fbQhutXFUg6Y8e7jF2QWYA14Nw2MOPF4tFGCU5gxeL1oQ95nvPklCqI1Ocu4FptZRCWBDdCugws\n",
       "04kiuwYt0gfDVgsa3HxYEtwV1sH78EJrtf0YyVNpdm46OPwIS4JrPPD450jnpPfl+bf74renzq/o\n",
       "z3iPcLb0mWreX+/IlipHNKdloim/5Jf8EJL/J8wWvgG1pGtmkmGEsgAAAABJRU5ErkJggg==\n",
       "\" style=\"display:inline;vertical-align:middle;\" /></a></td></tr>\n",
       "<tr><td>3</td><td>Operation</td><td>operator:&nbsp;6<br>operands:&nbsp;5<br></td><td><a class=\"ProveItLink\" href=\"../070ce1fe3203fd6f62d7e06e85dab2aa1c4938fa0/expr.ipynb\"><img src=\"data:image/png;base64,iVBORw0KGgoAAAANSUhEUgAAAC0AAAAOBAMAAABJDIgxAAAAMFBMVEX///+qqqpmZmbc3NxUVFSY\n",
       "mJhEREQiIiIyMjK6uroQEBDMzMyIiIh2dnbu7u4AAAA4MM1YAAAAAXRSTlMAQObYZgAAAIlJREFU\n",
       "GNNjYIADPgMGrIDxAFHifHfPbEARZ/a5uRhI7ZrAUYAiPsuA7QNQ+RoGtgBkceavDEwJDAwsH9DM\n",
       "BwqwA1n8CWAeU0dH+4qODgewwHughfYH0NQDBeQZHjDwAw1HMf+9AIMH4wYGFgUGXhR3cgQwFvEC\n",
       "ad0z51DMYfY5ue0kMeHAiSwOAK1PJ+nD0aC5AAAAAElFTkSuQmCC\n",
       "\" style=\"display:inline;vertical-align:middle;\" /></a></td></tr>\n",
       "<tr><td>4</td><td>Operation</td><td>operator:&nbsp;6<br>operands:&nbsp;7<br></td><td><a class=\"ProveItLink\" href=\"../f9dd27c7b0438f099393ca71c933dbcf38bf8cce0/expr.ipynb\"><img src=\"data:image/png;base64,iVBORw0KGgoAAAANSUhEUgAAACsAAAAQBAMAAAB9zpudAAAAMFBMVEX///+qqqpmZmbc3NxUVFSY\n",
       "mJhEREQiIiIyMjK6uroQEBDMzMyIiIh2dnbu7u4AAAA4MM1YAAAAAXRSTlMAQObYZgAAAJdJREFU\n",
       "GNNjYEAHfF4FDNgAhwOqMgMIzS+AIsx4AELPf4BV+DpE790zG1CEW864AsldEzgKkIX5vjHwb2Dg\n",
       "W8PAFoAszPiPgesCA8sHNLOZGhj4FRj4EyCcjo72FR0dQCezKzDMD2CwP4CmGuhs/QcM/ECDUcwG\n",
       "2reWgYFFgYEXxYEsAkwg3+ueOYdiCJ+PKlZfogFOJGEAfaolwrKnNGoAAAAASUVORK5CYII=\n",
       "\" style=\"display:inline;vertical-align:middle;\" /></a></td></tr>\n",
       "<tr><td>5</td><td>ExprTuple</td><td>9, 8</td><td><a class=\"ProveItLink\" href=\"../2bc2e5d494c8fd62a78f0e1e8e587b09732137e00/expr.ipynb\"><img src=\"data:image/png;base64,iVBORw0KGgoAAAANSUhEUgAAACkAAAAVBAMAAAAp9toTAAAAMFBMVEX////c3NwiIiJERESqqqqY\n",
       "mJh2dnZmZmYQEBDu7u4yMjJUVFTMzMyIiIi6uroAAAAs73DqAAAAAXRSTlMAQObYZgAAAPFJREFU\n",
       "GNNjYMAO+C6gCcSBiNPoytgPAImVGLoXMDDwXsAQDWNg4JiAITqDgeEVpv3MDgxlQIoz7e4BMJ9x\n",
       "b14jAwNbAcNSIOfEAy4FsOgLAeYPDAwsCxj6gEp7GZgDwEq/MrAbAH3QwPCPgYH7A9RAIIMJ6CSe\n",
       "DyBRfgOoKJAx/wBYtIWBQR7mZCDDn2ECyARToBKgoQGcQNH5Dgy7WA4wsC5gSAcaV8DAdmA+0BVc\n",
       "ASzqbGCXPQKqKbt7k2HGR5Bz7x2+B5R8wMAhADX0IbKPWROg7AC4aC5SSMJFOYEhySANYfPClXKD\n",
       "zGRED+A7DAwAW7E3R2iIgGwAAAAASUVORK5CYII=\n",
       "\" style=\"display:inline;vertical-align:middle;\" /></a></td></tr>\n",
       "<tr><td>6</td><td>Literal</td><td></td><td><a class=\"ProveItLink\" href=\"../../../addition/__pv_it/3e6688136fa3c7aefbebe51301b7c3ebf0b69c440/expr.ipynb\"><img src=\"data:image/png;base64,iVBORw0KGgoAAAANSUhEUgAAAA4AAAAOBAMAAADtZjDiAAAAJFBMVEX///+6urpUVFQQEBAiIiIy\n",
       "MjJmZmaIiIiqqqrc3Nzu7u4AAACgHpL+AAAAAXRSTlMAQObYZgAAAB5JREFUCNdjYGBgWMkAAe2k\n",
       "0Kmhoc6hoUGk6BMHYgAHOwjcado9fwAAAABJRU5ErkJggg==\n",
       "\" style=\"display:inline;vertical-align:middle;\" /></a></td></tr>\n",
       "<tr><td>7</td><td>ExprTuple</td><td>9, 10</td><td><a class=\"ProveItLink\" href=\"../efb91a10e22074077eb1919cab25e29212d0ecad0/expr.ipynb\"><img src=\"data:image/png;base64,iVBORw0KGgoAAAANSUhEUgAAACcAAAAVBAMAAAA3P+qgAAAAMFBMVEX////c3NwiIiJERESqqqqY\n",
       "mJh2dnZmZmYQEBDu7u4yMjJUVFTMzMyIiIi6uroAAAAs73DqAAAAAXRSTlMAQObYZgAAAP9JREFU\n",
       "GNNjYMAK+C6g8uNAxGkEn3OHAgMD+wEgayWSKq4NQGIBAwMvsm5+ByARxsDAMQFJ8D2IM4OB4RWy\n",
       "JUkggtmBoQxkQdrdA2DB1Xe3MjCwFTAsBbJPPOBSANv+mYH/AAPLAoY+ILuXgTkAJMjyk4EjgYGv\n",
       "geEfAwP3B6iR7AsY+AsYeD6ABPkNoIJMBQzvA0CCLQwM8hcQzqyfANJuCmQDDQzgBAkeYGhjYGBd\n",
       "wJAONLOAge3AfKD93A7sG8BOegRUUXb3JsOMj0Bn7C0FBcADBg4BqIEPYd4CepM1AcoOgAnmIgUd\n",
       "TJATGHQM0hA2L0whN8g8RrTouMPAAAAA0zgjo55sJgAAAABJRU5ErkJggg==\n",
       "\" style=\"display:inline;vertical-align:middle;\" /></a></td></tr>\n",
       "<tr><td>8</td><td>Variable</td><td></td><td><a class=\"ProveItLink\" href=\"../../../../__pv_it/07527342713064c87612d00d8557c53d53d5324a0/expr.ipynb\"><img src=\"data:image/png;base64,iVBORw0KGgoAAAANSUhEUgAAAAsAAAAJBAMAAAAWSsseAAAAMFBMVEX///8yMjKqqqrMzMzu7u4i\n",
       "IiJmZmaYmJhEREQQEBC6urp2dnaIiIhUVFTc3NwAAAD87Fq/AAAAAXRSTlMAQObYZgAAAEhJREFU\n",
       "CNdjYOC7s2seAwPDygccHxgY+L4zsDUwMPB+YGA9wMDA38Dgb8DA8P4Agz6DA4O/AsNFJgMGxgKm\n",
       "MG6gyjunLE4xAAAZTBA5TB6DCwAAAABJRU5ErkJggg==\n",
       "\" style=\"display:inline;vertical-align:middle;\" /></a></td></tr>\n",
       "<tr><td>9</td><td>Variable</td><td></td><td><a class=\"ProveItLink\" href=\"../../../../__pv_it/cbdfda466482236edba0ce44ac7ef39cda0af7a40/expr.ipynb\"><img src=\"data:image/png;base64,iVBORw0KGgoAAAANSUhEUgAAAAkAAAAJBAMAAAASvxsjAAAALVBMVEX///9mZmbc3NxUVFSYmJhE\n",
       "REQiIiIyMjK6uroQEBDMzMyIiIh2dnbu7u4AAABgFDGoAAAAAXRSTlMAQObYZgAAADZJREFUCNdj\n",
       "YOA9s3sBA8PKBvYEBt7ZDKwODMwPGICALwBE6m0Asx0YGIDiAgw8QJUyu/cyAAAmuwmycZ8WfQAA\n",
       "AABJRU5ErkJggg==\n",
       "\" style=\"display:inline;vertical-align:middle;\" /></a></td></tr>\n",
       "<tr><td>10</td><td>Variable</td><td></td><td><a class=\"ProveItLink\" href=\"../../../../__pv_it/6840a4fa6c106149dc16a131294d0c5e44f1b0480/expr.ipynb\"><img src=\"data:image/png;base64,iVBORw0KGgoAAAANSUhEUgAAAAkAAAAOBAMAAAAPuiubAAAALVBMVEX///9mZmbMzMxERESYmJiI\n",
       "iIh2dna6urqqqqoyMjIiIiIQEBBUVFTu7u4AAAD9S1JeAAAAAXRSTlMAQObYZgAAAE1JREFUCNdj\n",
       "4D29gAEIOA+ASL4GEFl3AURmgQiGOaFHGBh4HzPwKTBwvGXgTmBgnMDAJ8DAJcBQ5wBSLncBJLWN\n",
       "gYGngRFoBO9REQYGAGrcDtUkVqASAAAAAElFTkSuQmCC\n",
       "\" style=\"display:inline;vertical-align:middle;\" /></a></td></tr>\n",
       "</table>\n"
      ],
      "text/plain": [
       "0. (c + a) >= (c + b)\n",
       "   core type: Operation\n",
       "   operator: 1\n",
       "   operands: 2\n",
       "1. >=\n",
       "   core type: Literal\n",
       "   sub-expressions: \n",
       "2. (c + a , c + b)\n",
       "   core type: ExprTuple\n",
       "   sub-expressions: 3, 4\n",
       "3. c + a\n",
       "   core type: Operation\n",
       "   operator: 6\n",
       "   operands: 5\n",
       "4. c + b\n",
       "   core type: Operation\n",
       "   operator: 6\n",
       "   operands: 7\n",
       "5. (c , a)\n",
       "   core type: ExprTuple\n",
       "   sub-expressions: 9, 8\n",
       "6. +\n",
       "   core type: Literal\n",
       "   sub-expressions: \n",
       "7. (c , b)\n",
       "   core type: ExprTuple\n",
       "   sub-expressions: 9, 10\n",
       "8. a\n",
       "   core type: Variable\n",
       "   sub-expressions: \n",
       "9. c\n",
       "   core type: Variable\n",
       "   sub-expressions: \n",
       "10. b\n",
       "    core type: Variable\n",
       "    sub-expressions: "
      ]
     },
     "execution_count": 4,
     "metadata": {},
     "output_type": "execute_result"
    }
   ],
   "source": [
    "# display the expression information\n",
    "expr.exprInfo()"
   ]
  },
  {
   "cell_type": "code",
   "execution_count": null,
   "metadata": {},
   "outputs": [],
   "source": []
  }
 ],
 "metadata": {
  "kernelspec": {
   "display_name": "Python 3",
   "language": "python",
   "name": "python3"
  }
 },
 "nbformat": 4,
 "nbformat_minor": 0
}
