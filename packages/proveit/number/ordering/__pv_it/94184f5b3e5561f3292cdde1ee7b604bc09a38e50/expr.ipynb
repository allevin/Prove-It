{
 "cells": [
  {
   "cell_type": "markdown",
   "metadata": {},
   "source": [
    "Expression of type <a class=\"ProveItLink\" href=\"../../../../../../doc/html/api/proveit.logic.Set.html\">Set</a>\n",
    "=======================\n",
    "# from context <a class=\"ProveItLink\" href=\"../../_context_.ipynb\">proveit.number.ordering</a>"
   ]
  },
  {
   "cell_type": "code",
   "execution_count": 1,
   "metadata": {},
   "outputs": [],
   "source": [
    "# import Expression classes needed to build the expression\n",
    "from proveit._common_ import u, z\n",
    "from proveit.logic import Set\n",
    "from proveit.number import Less"
   ]
  },
  {
   "cell_type": "code",
   "execution_count": 2,
   "metadata": {},
   "outputs": [
    {
     "data": {
      "text/html": [
       "<strong id=\"expr\">expr:</strong> <a class=\"ProveItLink\" href=\"expr.ipynb\"><img src=\"data:image/png;base64,iVBORw0KGgoAAAANSUhEUgAAAEUAAAAVBAMAAADiLT7tAAAAMFBMVEX///9ERETc3NyqqqpUVFS6\n",
       "urrMzMwyMjIQEBCIiIh2dnYiIiLu7u5mZmaYmJgAAABJJ2g3AAAAAXRSTlMAQObYZgAAAQRJREFU\n",
       "KM9jYGDgu8eAE7CtUgBRPLsY8AC2ZhDJ+QGfGobrIIKrAa+aFdjVMF0jqIbNPYCQGtaSBKx28axd\n",
       "wKB/ACzGXKsAlY1oZZoAVcNbAMSsHxjmgyU4dx2AuUpu7kUg9R7EzgDansy7gUEQbOhOuCU8DDw+\n",
       "QIr9AgNDShuQcYBjAsNPkMRBUSSnqIBJ8QdAa0FOtD/A9g0sklKMcPwFEMm9AEiwFIBDkxPqPd19\n",
       "MDVWYBLsHq4NQEKWgVHgEUTq1E6oBxcwsKCEzxWGjAULoPr5IF5Lf/uuFEXNwZmmUvCgYy4DkRf4\n",
       "fhjgji9i4hRTDV8D4fTDsxNvOmyF+GMxgfQMAFtbQzu5GD26AAAAAElFTkSuQmCC\n",
       "\" style=\"display:inline;vertical-align:middle;\" /></a><br>"
      ],
      "text/plain": [
       "expr: {u < z}"
      ]
     },
     "execution_count": 2,
     "metadata": {},
     "output_type": "execute_result"
    }
   ],
   "source": [
    "# build up the expression from sub-expressions\n",
    "expr = Set(Less(u, z))"
   ]
  },
  {
   "cell_type": "code",
   "execution_count": 3,
   "metadata": {},
   "outputs": [
    {
     "name": "stdout",
     "output_type": "stream",
     "text": [
      "Passed sanity check: built 'expr' is the same as the stored Expression.\n"
     ]
    }
   ],
   "source": [
    "# check that the built expression is the same as the stored expression\n",
    "%check_expr"
   ]
  },
  {
   "cell_type": "code",
   "execution_count": 4,
   "metadata": {},
   "outputs": [
    {
     "data": {
      "text/html": [
       "<table><tr><th>&nbsp;</th><th>core type</th><th>sub-expressions</th><th>expression</th></tr>\n",
       "<tr><td>0</td><td>Operation</td><td>operator:&nbsp;1<br>operands:&nbsp;2<br></td><td><a class=\"ProveItLink\" href=\"expr.ipynb\"><img src=\"data:image/png;base64,iVBORw0KGgoAAAANSUhEUgAAAEUAAAAVBAMAAADiLT7tAAAAMFBMVEX///9ERETc3NyqqqpUVFS6\n",
       "urrMzMwyMjIQEBCIiIh2dnYiIiLu7u5mZmaYmJgAAABJJ2g3AAAAAXRSTlMAQObYZgAAAQRJREFU\n",
       "KM9jYGDgu8eAE7CtUgBRPLsY8AC2ZhDJ+QGfGobrIIKrAa+aFdjVMF0jqIbNPYCQGtaSBKx28axd\n",
       "wKB/ACzGXKsAlY1oZZoAVcNbAMSsHxjmgyU4dx2AuUpu7kUg9R7EzgDansy7gUEQbOhOuCU8DDw+\n",
       "QIr9AgNDShuQcYBjAsNPkMRBUSSnqIBJ8QdAa0FOtD/A9g0sklKMcPwFEMm9AEiwFIBDkxPqPd19\n",
       "MDVWYBLsHq4NQEKWgVHgEUTq1E6oBxcwsKCEzxWGjAULoPr5IF5Lf/uuFEXNwZmmUvCgYy4DkRf4\n",
       "fhjgji9i4hRTDV8D4fTDsxNvOmyF+GMxgfQMAFtbQzu5GD26AAAAAElFTkSuQmCC\n",
       "\" style=\"display:inline;vertical-align:middle;\" /></a></td></tr>\n",
       "<tr><td>1</td><td>Literal</td><td></td><td><a class=\"ProveItLink\" href=\"../../../../logic/set_theory/enumeration/__pv_it/07381ed5b23806e8d7914b78cb6667769e3708dd0/expr.ipynb\"><img src=\"data:image/png;base64,iVBORw0KGgoAAAANSUhEUgAAAB4AAAAOBAMAAADKyLEKAAAAMFBMVEX///8iIiIQEBCIiIjMzMzc\n",
       "3Nyqqqp2dnZEREQyMjK6urru7u5mZmZUVFSYmJgAAACI6eGPAAAAAXRSTlMAQObYZgAAALRJREFU\n",
       "CNdjYGDgu3Nm3wIGBJjHwN0PZW5yYGDgLWBgyITy8zcwMMQDxZyh/INAvD6BgcEFypcB4vjPDiBm\n",
       "TPFRrhs/LjMwMP//38rAwCbKEMPA9gEkE3fp0waG+AUMRxh4JkC01T9guPTOOICBEWgVH5C//wHD\n",
       "H5D4fqCz9oCMDGD4DLaegRXslLMMDMpAgxlOMmQxHDRgYG5gYLBk4D7KcIe7gOHC2rt9QCXsh40Z\n",
       "GCKMGQDRkC8N/Ph1XAAAAABJRU5ErkJggg==\n",
       "\" style=\"display:inline;vertical-align:middle;\" /></a></td></tr>\n",
       "<tr><td>2</td><td>ExprTuple</td><td>3</td><td><a class=\"ProveItLink\" href=\"../2adc195a296cfcc45a5fbd7f71c6424f552703580/expr.ipynb\"><img src=\"data:image/png;base64,iVBORw0KGgoAAAANSUhEUgAAAD4AAAAVBAMAAADshECCAAAAMFBMVEX////c3NwiIiJERESqqqqY\n",
       "mJh2dnZmZmYQEBDu7u4yMjJUVFTMzMyIiIi6uroAAAAs73DqAAAAAXRSTlMAQObYZgAAAQ5JREFU\n",
       "KM9jYCAE+C7glGJ9ACRO49FbA8Qr8chzMTDwohvPWINkQQIDxwRUaZ5dDxAczgaGV2iuXX0AmWvC\n",
       "UAZUlZ7AIA8xhmW5AFTmRR8j0OZ0hqUMDOx8HxjugwV51WC2MZpeLwZSXgx9DAxH2BUYjEGCbLoI\n",
       "mxk4d4JMYfjHwDCB4wLDX5DgZDskq6VBxHmQPIP/BJ4/YLHTSxAOLYDItwDJKgbeBoiouCpM3g3i\n",
       "SgZTIGnOwGwQCBGepgv1SAIDN5CKAvqAgaGa4URCAizIIF44FR66jgHkv0cgd931M4MHC8saEFnA\n",
       "+sMBSK1j4BDAEz/A8GVNwCPPdgF//M6ChQMOsBEU0rjTF+8BBgDqcjt7qJw5sAAAAABJRU5ErkJg\n",
       "gg==\n",
       "\" style=\"display:inline;vertical-align:middle;\" /></a></td></tr>\n",
       "<tr><td>3</td><td>Operation</td><td>operator:&nbsp;4<br>operands:&nbsp;5<br></td><td><a class=\"ProveItLink\" href=\"../6ea7dfe99dcf9730898395df7942078f18d9adf20/expr.ipynb\"><img src=\"data:image/png;base64,iVBORw0KGgoAAAANSUhEUgAAADEAAAAMBAMAAAA5VkhcAAAAMFBMVEX///9UVFSYmJgyMjIQEBBE\n",
       "REQiIiKqqqrMzMyIiIi6urrc3NxmZmZ2dnbu7u4AAAC6tZoTAAAAAXRSTlMAQObYZgAAAKVJREFU\n",
       "GNNjYEAB3CcYsAMO4QXYJbgMG5B4fHcuMOx/AGay22yACi7x4p7AwMP1gWE+mMuZ+wBmW9CcowwM\n",
       "7TwJDKEgLm8mwhwGPjkGhgcsExh+grhPo5Ds2Agi6h9w/ADzGs0RTjkAIg8zcDpA+HuSYDK1YDKG\n",
       "gTVAGyLwNhPqyAsMjEDqIEPLhQtQtUwQ5zXrKFmBbJ5ZFQv3ILsFiDzA9KWAAQDmLCgYpAyHdgAA\n",
       "AABJRU5ErkJggg==\n",
       "\" style=\"display:inline;vertical-align:middle;\" /></a></td></tr>\n",
       "<tr><td>4</td><td>Literal</td><td></td><td><a class=\"ProveItLink\" href=\"../7c444b9b2efa607ed6397b492680dde2810212f00/expr.ipynb\"><img src=\"data:image/png;base64,iVBORw0KGgoAAAANSUhEUgAAAA4AAAAMBAMAAACgrpHpAAAALVBMVEX///+YmJhERETu7u52dnYi\n",
       "IiKIiIiqqqq6uroyMjJUVFTMzMxmZmbc3NwAAADmAst+AAAAAXRSTlMAQObYZgAAAD5JREFUCNdj\n",
       "YAAB3tNgintlA4jimLUBRLHPuQCi2EIMQBRLGFgJg5EGhGbYNR3KuBMIZZiEGUAYjCFQBvtsABzC\n",
       "Cm98G6SsAAAAAElFTkSuQmCC\n",
       "\" style=\"display:inline;vertical-align:middle;\" /></a></td></tr>\n",
       "<tr><td>5</td><td>ExprTuple</td><td>6, 7</td><td><a class=\"ProveItLink\" href=\"../79c4119e6bb71074a425919486c403a6a1b10f9c0/expr.ipynb\"><img src=\"data:image/png;base64,iVBORw0KGgoAAAANSUhEUgAAACwAAAAVBAMAAADP3xFXAAAAMFBMVEX////c3NwiIiJERESqqqqY\n",
       "mJh2dnZmZmYQEBDu7u4yMjJUVFTMzMyIiIi6uroAAAAs73DqAAAAAXRSTlMAQObYZgAAAO5JREFU\n",
       "GNNjYMAB+C6gi7A+ABKnMVXWAPFKTGEuBgbeC5jCrAkMHBMwhTkbGF5hc4YJQxlQMj2BQR6q6UUf\n",
       "I9DUdIalDAzsfB8Y7kNEGU2vFwMpL4Y+BoYj7AoMxlBTGTh3gvQw/GNgmMBxgeEvzFhpEHEeJMzg\n",
       "P4HnD8zPBRDhFiBZxcDbABV2g1jMYAokzRmYDQIZQG5hSWDgBlJRQLcwMFQznEhI4PwEZJ0KD13H\n",
       "AHLgIyA5+a6f2QHOfgEGhgLWHw5AgXUMHALwEBZA8jwwWGABBPc72wWkgEUIz4K5HwQQIbwRFAwY\n",
       "Ac57gAEAi9k0HyB4MHkAAAAASUVORK5CYII=\n",
       "\" style=\"display:inline;vertical-align:middle;\" /></a></td></tr>\n",
       "<tr><td>6</td><td>Variable</td><td></td><td><a class=\"ProveItLink\" href=\"../../../../__pv_it/cb61151e64f13eb1ffaf04f7c62048002baa23fb0/expr.ipynb\"><img src=\"data:image/png;base64,iVBORw0KGgoAAAANSUhEUgAAAAwAAAAJBAMAAAD0ltBnAAAAMFBMVEX///9UVFSYmJgyMjIQEBBE\n",
       "REQiIiKqqqrMzMyIiIi6urrc3NxmZmZ2dnbu7u4AAAC6tZoTAAAAAXRSTlMAQObYZgAAAEZJREFU\n",
       "CNdj4LtzgWH/AwYerg8M8xkY2nkSGEIZGB6wTGD4ycDAUP+A4weQOszA6QCkYhhYA7QZGA4ytFy4\n",
       "wMDwdGZVbAMATvEStS21oZoAAAAASUVORK5CYII=\n",
       "\" style=\"display:inline;vertical-align:middle;\" /></a></td></tr>\n",
       "<tr><td>7</td><td>Variable</td><td></td><td><a class=\"ProveItLink\" href=\"../../../../__pv_it/251502494639118b4892de8e9d720a5fcce840e10/expr.ipynb\"><img src=\"data:image/png;base64,iVBORw0KGgoAAAANSUhEUgAAAAoAAAAJBAMAAAD5iKAgAAAALVBMVEX///8yMjLMzMx2dnaqqqpU\n",
       "VFTu7u5mZmaYmJhERESIiIjc3NwQEBC6uroAAAB+iRisAAAAAXRSTlMAQObYZgAAADlJREFUCNdj\n",
       "YOA9c2EXA8POrvIJDAwJDKkJDAwM3AFAguE6iGAxAJHODAwBDEwSFY0XGNgZ+o4wAABKtAsIcBKm\n",
       "agAAAABJRU5ErkJggg==\n",
       "\" style=\"display:inline;vertical-align:middle;\" /></a></td></tr>\n",
       "</table>\n"
      ],
      "text/plain": [
       "0. {u < z}\n",
       "   core type: Operation\n",
       "   operator: 1\n",
       "   operands: 2\n",
       "1. Set\n",
       "   core type: Literal\n",
       "   sub-expressions: \n",
       "2. (u < z)\n",
       "   core type: ExprTuple\n",
       "   sub-expressions: 3\n",
       "3. u < z\n",
       "   core type: Operation\n",
       "   operator: 4\n",
       "   operands: 5\n",
       "4. <\n",
       "   core type: Literal\n",
       "   sub-expressions: \n",
       "5. (u , z)\n",
       "   core type: ExprTuple\n",
       "   sub-expressions: 6, 7\n",
       "6. u\n",
       "   core type: Variable\n",
       "   sub-expressions: \n",
       "7. z\n",
       "   core type: Variable\n",
       "   sub-expressions: "
      ]
     },
     "execution_count": 4,
     "metadata": {},
     "output_type": "execute_result"
    }
   ],
   "source": [
    "# display the expression information\n",
    "expr.exprInfo()"
   ]
  },
  {
   "cell_type": "code",
   "execution_count": null,
   "metadata": {},
   "outputs": [],
   "source": []
  }
 ],
 "metadata": {
  "kernelspec": {
   "display_name": "Python 3",
   "language": "python",
   "name": "python3"
  }
 },
 "nbformat": 4,
 "nbformat_minor": 0
}
