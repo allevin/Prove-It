{
 "cells": [
  {
   "cell_type": "markdown",
   "metadata": {},
   "source": [
    "Expression of type <a class=\"ProveItLink\" href=\"../../../../../../doc/html/api/proveit.Lambda.html\">Lambda</a>\n",
    "=======================\n",
    "# from context <a class=\"ProveItLink\" href=\"../../_context_.ipynb\">proveit.number.ordering</a>"
   ]
  },
  {
   "cell_type": "code",
   "execution_count": 1,
   "metadata": {},
   "outputs": [],
   "source": [
    "# import Expression classes needed to build the expression\n",
    "from proveit import Lambda\n",
    "from proveit._common_ import x, y\n",
    "from proveit.number import Greater, GreaterEq"
   ]
  },
  {
   "cell_type": "code",
   "execution_count": 2,
   "metadata": {},
   "outputs": [
    {
     "data": {
      "text/html": [
       "<strong id=\"expr\">expr:</strong> <a class=\"ProveItLink\" href=\"expr.ipynb\"><img src=\"data:image/png;base64,iVBORw0KGgoAAAANSUhEUgAAALcAAAAVCAMAAAAzZI9IAAAANlBMVEX///8UFBQNDQ2YmJhUVFQy\n",
       "MjIQEBBEREQiIiKqqqrMzMyIiIi6urrc3NxmZmZ2dnbu7u4AAACrLjZHAAAAAXRSTlMAQObYZgAA\n",
       "Ad9JREFUSMfFl9m2gyAMRb2XeQjD//9sQa2CJSitq/WlXWh2juEEcJp+din4ZjZr3goj9mXI2y/K\n",
       "1vTNQKd/qpuF5nCQPpxF/lK3QV2imOv7lfgh3UD1jbp5p6pWdFMFPlZvLcRtE2LZB6mEGvQJUKY6\n",
       "dfAuzyDE0DSiKkPdOtfgDQVlnGmkshjau47uNjF4STCtfrIxOzc+b8oaTwtrMLKGJ7smIpeNIjm5\n",
       "uaVGK4brRonBlB1fALWaXH5YCER3oHu/cbuGL7Gq4Wci3TPPAW05rvsasQSmIZ4nJ24z9P8nq4vH\n",
       "LcH6L2OoaHmuqs4BrWOn3hhx3jIYtIAqu0VHjdR7ojt/f4MFcOwUeRis0D3dCHFepYRuA132ndkn\n",
       "8aC7XJb51qQwx4ba2ORlkyzRPZ80iXNPUMCALPe5oIhuXVZBLMoILL1mwsmaVaFJpy8bxNnZx124\n",
       "BLr0Y+Neq8NSVKVyy2SRSaR3hv1JaC/cFbqzDjaIs+tCDxiEMS5eOlRauQb44L0hp89XaGZR3Q0i\n",
       "SHIGzAx5cZ8fPzM/0aP7/BmQysxUF4/RfiRDhfbmc90lUCYp4rIc5BwL5YK/6SnR4Y5zbAlUyTHX\n",
       "CTDy3VCiKdyge0xrLfy97zTzuoGbT46pD1vxGCqICOivAAAAAElFTkSuQmCC\n",
       "\" style=\"display:inline;vertical-align:middle;\" /></a><br>"
      ],
      "text/plain": [
       "expr: y -> (x >= y) | x > y"
      ]
     },
     "execution_count": 2,
     "metadata": {},
     "output_type": "execute_result"
    }
   ],
   "source": [
    "# build up the expression from sub-expressions\n",
    "expr = Lambda(y, GreaterEq(x, y), conditions = [Greater(x, y)])"
   ]
  },
  {
   "cell_type": "code",
   "execution_count": 3,
   "metadata": {},
   "outputs": [
    {
     "name": "stdout",
     "output_type": "stream",
     "text": [
      "Passed sanity check: built 'expr' is the same as the stored Expression.\n"
     ]
    }
   ],
   "source": [
    "# check that the built expression is the same as the stored expression\n",
    "%check_expr"
   ]
  },
  {
   "cell_type": "code",
   "execution_count": 4,
   "metadata": {},
   "outputs": [
    {
     "data": {
      "text/html": [
       "<table><tr><th>&nbsp;</th><th>core type</th><th>sub-expressions</th><th>expression</th></tr>\n",
       "<tr><td>0</td><td>Lambda</td><td>parameter:&nbsp;8<br>body:&nbsp;1<br>conditions:&nbsp;2<br></td><td><a class=\"ProveItLink\" href=\"expr.ipynb\"><img src=\"data:image/png;base64,iVBORw0KGgoAAAANSUhEUgAAALcAAAAVCAMAAAAzZI9IAAAANlBMVEX///8UFBQNDQ2YmJhUVFQy\n",
       "MjIQEBBEREQiIiKqqqrMzMyIiIi6urrc3NxmZmZ2dnbu7u4AAACrLjZHAAAAAXRSTlMAQObYZgAA\n",
       "Ad9JREFUSMfFl9m2gyAMRb2XeQjD//9sQa2CJSitq/WlXWh2juEEcJp+din4ZjZr3goj9mXI2y/K\n",
       "1vTNQKd/qpuF5nCQPpxF/lK3QV2imOv7lfgh3UD1jbp5p6pWdFMFPlZvLcRtE2LZB6mEGvQJUKY6\n",
       "dfAuzyDE0DSiKkPdOtfgDQVlnGmkshjau47uNjF4STCtfrIxOzc+b8oaTwtrMLKGJ7smIpeNIjm5\n",
       "uaVGK4brRonBlB1fALWaXH5YCER3oHu/cbuGL7Gq4Wci3TPPAW05rvsasQSmIZ4nJ24z9P8nq4vH\n",
       "LcH6L2OoaHmuqs4BrWOn3hhx3jIYtIAqu0VHjdR7ojt/f4MFcOwUeRis0D3dCHFepYRuA132ndkn\n",
       "8aC7XJb51qQwx4ba2ORlkyzRPZ80iXNPUMCALPe5oIhuXVZBLMoILL1mwsmaVaFJpy8bxNnZx124\n",
       "BLr0Y+Neq8NSVKVyy2SRSaR3hv1JaC/cFbqzDjaIs+tCDxiEMS5eOlRauQb44L0hp89XaGZR3Q0i\n",
       "SHIGzAx5cZ8fPzM/0aP7/BmQysxUF4/RfiRDhfbmc90lUCYp4rIc5BwL5YK/6SnR4Y5zbAlUyTHX\n",
       "CTDy3VCiKdyge0xrLfy97zTzuoGbT46pD1vxGCqICOivAAAAAElFTkSuQmCC\n",
       "\" style=\"display:inline;vertical-align:middle;\" /></a></td></tr>\n",
       "<tr><td>1</td><td>Operation</td><td>operator:&nbsp;3<br>operands:&nbsp;6<br></td><td><a class=\"ProveItLink\" href=\"../efc1dad35444d7c91aa68fe0e586537e482f8de00/expr.ipynb\"><img src=\"data:image/png;base64,iVBORw0KGgoAAAANSUhEUgAAADMAAAASBAMAAAAEf/uKAAAAMFBMVEX///+6uroyMjJERETMzMwQ\n",
       "EBAiIiKYmJju7u5mZmaqqqpUVFSIiIh2dnbc3NwAAAAWgogoAAAAAXRSTlMAQObYZgAAAMxJREFU\n",
       "GNNjYCACcOQ24JTj0nyAU47R2gGnHIuxAAr/7elXJw9A2XybwHIcNy8wvG9g4LjAns6aAFPHNw1k\n",
       "Ji/jB4bzQIqB5wMX3A72TJAzvTgTGIyBmhm4DeCG90A80MB6gOEPiMEKs4mhNwfKWN/A8gVEv3dg\n",
       "gHj2ZTpMzSQGngCg6Q/OM/CApV5rwQ3WZGDeANRbYMrwBuw4Q4SHZjPIFzAwNJ/tvVOA7vfmM/Nx\n",
       "B9o1HOLcCRxRyHy+NDAAhRTbBeYLuKLnzEQgCQCZjjNDxULBwAAAAABJRU5ErkJggg==\n",
       "\" style=\"display:inline;vertical-align:middle;\" /></a></td></tr>\n",
       "<tr><td>2</td><td>ExprTuple</td><td>4</td><td><a class=\"ProveItLink\" href=\"../e10b2181f32619b82e415ae0ef652a68b5d0c45b0/expr.ipynb\"><img src=\"data:image/png;base64,iVBORw0KGgoAAAANSUhEUgAAAD8AAAAVBAMAAAADRiu8AAAAMFBMVEX////c3NwiIiJERESqqqqY\n",
       "mJh2dnZmZmYQEBDu7u4yMjJUVFTMzMyIiIi6uroAAAAs73DqAAAAAXRSTlMAQObYZgAAATBJREFU\n",
       "KM9jYCAI+C7glosDEafxaGY/ACRW4jN+AQMDL5INjHvQFYQxMHBMQOIftkNTMIOB4RWKgPQSVAXM\n",
       "DgxlQErstsh1qE3TVCE0Z3oCg/wEBrYChqVATgKrKocCVM9cNbCdbHwfGO4zMLAsYOgDchh4P7Ac\n",
       "gJnKqg5ScYRdgcEYGEgNDP+AJjBwGyCs5dklACQncFxg+AvkfAApAHoF4Vc+Y4hZ/hN4/oAVtIB4\n",
       "8gcYoL5lWS0AYVQx8DaArTAF2ipwn4EXooBVDRYsyxmYNwD5CxjSgaYFWDDIQjypCw+2aob3AQwg\n",
       "bz5iYJh8bVpuADioVRFunXy3HmgZ1wMGDgFcEZUECWrWBKyy3AqcIOfn4oxupgRmoE7OBaD4waqA\n",
       "5W4dyByQ/Yx4ktwdBgYA7oxBaKmA2F8AAAAASUVORK5CYII=\n",
       "\" style=\"display:inline;vertical-align:middle;\" /></a></td></tr>\n",
       "<tr><td>3</td><td>Literal</td><td></td><td><a class=\"ProveItLink\" href=\"../96143560a3dbc26f943e0a126972c9bfadab3fc50/expr.ipynb\"><img src=\"data:image/png;base64,iVBORw0KGgoAAAANSUhEUgAAAA4AAAARBAMAAAAf5oCsAAAALVBMVEX///+IiIiYmJjMzMxUVFRE\n",
       "RES6urrc3NxmZmYyMjKqqqp2dnYiIiLu7u4AAACqGg1VAAAAAXRSTlMAQObYZgAAAEFJREFUCNdj\n",
       "YICCO3uhjJXtUEaqM5RhGgZllEyDMioOQ2idXhDJKwPWy7tHAESx9yiAKc8FYCWlCQx4Qc0ZEDgG\n",
       "ALzAEHC/pigGAAAAAElFTkSuQmCC\n",
       "\" style=\"display:inline;vertical-align:middle;\" /></a></td></tr>\n",
       "<tr><td>4</td><td>Operation</td><td>operator:&nbsp;5<br>operands:&nbsp;6<br></td><td><a class=\"ProveItLink\" href=\"../eff9c6e281218fa825e820edab2a064d74580ed00/expr.ipynb\"><img src=\"data:image/png;base64,iVBORw0KGgoAAAANSUhEUgAAADMAAAAQBAMAAABJt1qBAAAAMFBMVEX///8yMjK6urpERETMzMwQ\n",
       "EBAiIiKYmJju7u5mZmaqqqpUVFSIiIh2dnbc3NwAAADpJKkdAAAAAXRSTlMAQObYZgAAAMlJREFU\n",
       "GNNjYIABvi0MOIGzEW6511JoAm9Pvzp5AMLsTYfQHDcvMLxvYOC4wJ7OmgBV1pPbAKJ4mT4wnAdS\n",
       "DDwfuBxgRrBnguS8OBMYjIGaGbgNEKazbHwAJBtYDzD8AXFZD8BlmIwh+tc3sHwB0e8dGBogMlzS\n",
       "DyCMiQw8AUDTH5xn4IFIsedClTBIMjBvAOotMGV4A3F6DkyGYTaDfgEDQ/PZ3jsF4IBKR7im+cz8\n",
       "BzhD5hoOce4EjigcUmwXmC/gkOI6MwlIAgAqLDHH/LLsegAAAABJRU5ErkJggg==\n",
       "\" style=\"display:inline;vertical-align:middle;\" /></a></td></tr>\n",
       "<tr><td>5</td><td>Literal</td><td></td><td><a class=\"ProveItLink\" href=\"../fed4085ae483b560677c9d938187885e1d910a490/expr.ipynb\"><img src=\"data:image/png;base64,iVBORw0KGgoAAAANSUhEUgAAAA4AAAAMBAMAAACgrpHpAAAALVBMVEX///9mZmaIiIiYmJgiIiJ2\n",
       "dnbu7u6qqqoyMjK6urpERETMzMxUVFTc3NwAAADHHImEAAAAAXRSTlMAQObYZgAAADlJREFUCNdj\n",
       "uLOBAQy4V02AMHhPFEAYbCEGUIZKGITBYCIGoff0gqlZq8FUxVmIZBhElxqYdwWiGQBNjQtMyuln\n",
       "xAAAAABJRU5ErkJggg==\n",
       "\" style=\"display:inline;vertical-align:middle;\" /></a></td></tr>\n",
       "<tr><td>6</td><td>ExprTuple</td><td>7, 8</td><td><a class=\"ProveItLink\" href=\"../a6a2ac9310c73e21661c7634808321702fb219240/expr.ipynb\"><img src=\"data:image/png;base64,iVBORw0KGgoAAAANSUhEUgAAACwAAAAVBAMAAADP3xFXAAAAMFBMVEX////c3NwiIiJERESqqqqY\n",
       "mJh2dnZmZmYQEBDu7u4yMjJUVFTMzMyIiIi6uroAAAAs73DqAAAAAXRSTlMAQObYZgAAAQtJREFU\n",
       "GNNjYMAB+C6gi7A+ABKnMVXWAPFKTGEuBgbeC5jCrAkMHBMwhTkbGF5hc4YJQxmQFLstch1i1rQy\n",
       "BsafDAzpDEuBehJYVTkUwMIJ7xl4PzAweDH0MTCwAZksB0CiPA5FDMwGDAwvGP4BVTNwG0DtYuhl\n",
       "4Acadx4kzMDAAXMly0+G8wdAwi0gnvwBBog72Rcw3GAAGWIKdL3AfQbeCWAJrgIGayAVBXQLg3+A\n",
       "BYMsA+cnkOoNfF8ZQA58xMAw+dq03AAGzn4BoJ221z8ChdcxcAjAQxjMYlMAex4YLLAAAuJNDDMc\n",
       "gFIXkAIWJKzGYAYkZwGxNEwY5Hbf66CY2QjEjBgBznuAAQAt5DtyKXSr1gAAAABJRU5ErkJggg==\n",
       "\" style=\"display:inline;vertical-align:middle;\" /></a></td></tr>\n",
       "<tr><td>7</td><td>Variable</td><td></td><td><a class=\"ProveItLink\" href=\"../../../../__pv_it/530be409e3083890784cf1d7b28c9e67e90af9360/expr.ipynb\"><img src=\"data:image/png;base64,iVBORw0KGgoAAAANSUhEUgAAAAsAAAAJBAMAAAAWSsseAAAAKlBMVEX///9ERETMzMwQEBAiIiKY\n",
       "mJju7u5mZmaqqqpUVFSIiIh2dnbc3NwAAAA/vyDhAAAAAXRSTlMAQObYZgAAAENJREFUCNdjYDi9\n",
       "8sTyBQxsG1hdmR0YuBm4LnAoMLAxcAowgADzAjB1VoEhgYH1wFoGrgSG3gBhhlMMDImrs3cFMAAA\n",
       "t0YN+iTRa+sAAAAASUVORK5CYII=\n",
       "\" style=\"display:inline;vertical-align:middle;\" /></a></td></tr>\n",
       "<tr><td>8</td><td>Variable</td><td></td><td><a class=\"ProveItLink\" href=\"../../../../__pv_it/f8b9edf8e16034727f0aad55bb83e392c3db40d40/expr.ipynb\"><img src=\"data:image/png;base64,iVBORw0KGgoAAAANSUhEUgAAAAsAAAANBAMAAACN24kIAAAAMFBMVEX///+YmJhUVFQyMjIQEBBE\n",
       "REQiIiKqqqrMzMyIiIi6urrc3NxmZmZ2dnbu7u4AAADXeCicAAAAAXRSTlMAQObYZgAAAFhJREFU\n",
       "CNdj4LtzgWH/AwZerg8M8xkY2nkSGEIZGB6wTGD4ycDAUP+A4weQOszA6QCkbBhYFYDUIYb1AkDq\n",
       "6czzGxhA4BoQMyXwuQMptgusF4AU+8xTQBIAUqMVoSp/SLMAAAAASUVORK5CYII=\n",
       "\" style=\"display:inline;vertical-align:middle;\" /></a></td></tr>\n",
       "</table>\n"
      ],
      "text/plain": [
       "0. y -> (x >= y) | x > y\n",
       "   core type: Lambda\n",
       "   parameter: 8\n",
       "   body: 1\n",
       "   conditions: 2\\n1. x >= y\n",
       "   core type: Operation\n",
       "   operator: 3\n",
       "   operands: 6\n",
       "2. (x > y)\n",
       "   core type: ExprTuple\n",
       "   sub-expressions: 4\n",
       "3. >=\n",
       "   core type: Literal\n",
       "   sub-expressions: \n",
       "4. x > y\n",
       "   core type: Operation\n",
       "   operator: 5\n",
       "   operands: 6\n",
       "5. >\n",
       "   core type: Literal\n",
       "   sub-expressions: \n",
       "6. (x , y)\n",
       "   core type: ExprTuple\n",
       "   sub-expressions: 7, 8\n",
       "7. x\n",
       "   core type: Variable\n",
       "   sub-expressions: \n",
       "8. y\n",
       "   core type: Variable\n",
       "   sub-expressions: "
      ]
     },
     "execution_count": 4,
     "metadata": {},
     "output_type": "execute_result"
    }
   ],
   "source": [
    "# display the expression information\n",
    "expr.exprInfo()"
   ]
  },
  {
   "cell_type": "code",
   "execution_count": null,
   "metadata": {},
   "outputs": [],
   "source": []
  }
 ],
 "metadata": {
  "kernelspec": {
   "display_name": "Python 3",
   "language": "python",
   "name": "python3"
  }
 },
 "nbformat": 4,
 "nbformat_minor": 0
}
