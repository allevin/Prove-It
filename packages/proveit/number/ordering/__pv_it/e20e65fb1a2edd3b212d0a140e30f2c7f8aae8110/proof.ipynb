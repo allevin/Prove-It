{
 "cells": [
  {
   "cell_type": "markdown",
   "metadata": {},
   "source": [
    "Show the Proof\n",
    "========"
   ]
  },
  {
   "cell_type": "code",
   "execution_count": 1,
   "metadata": {},
   "outputs": [
    {
     "data": {
      "text/html": [
       "<table><tr><th>&nbsp;</th><th>step type</th><th>requirements</th><th>statement</th></tr>\n",
       "<tr><td>0</td><td>assumption</td><td></td><td><span style=\"font-size:20px;\"><a class=\"ProveItLink\" href=\"../94184f5b3e5561f3292cdde1ee7b604bc09a38e50/expr.ipynb\"><img src=\"data:image/png;base64,iVBORw0KGgoAAAANSUhEUgAAAEUAAAAVBAMAAADiLT7tAAAAMFBMVEX///9ERETc3NyqqqpUVFS6\n",
       "urrMzMwyMjIQEBCIiIh2dnYiIiLu7u5mZmaYmJgAAABJJ2g3AAAAAXRSTlMAQObYZgAAAQRJREFU\n",
       "KM9jYGDgu8eAE7CtUgBRPLsY8AC2ZhDJ+QGfGobrIIKrAa+aFdjVMF0jqIbNPYCQGtaSBKx28axd\n",
       "wKB/ACzGXKsAlY1oZZoAVcNbAMSsHxjmgyU4dx2AuUpu7kUg9R7EzgDansy7gUEQbOhOuCU8DDw+\n",
       "QIr9AgNDShuQcYBjAsNPkMRBUSSnqIBJ8QdAa0FOtD/A9g0sklKMcPwFEMm9AEiwFIBDkxPqPd19\n",
       "MDVWYBLsHq4NQEKWgVHgEUTq1E6oBxcwsKCEzxWGjAULoPr5IF5Lf/uuFEXNwZmmUvCgYy4DkRf4\n",
       "fhjgji9i4hRTDV8D4fTDsxNvOmyF+GMxgfQMAFtbQzu5GD26AAAAAElFTkSuQmCC\n",
       "\" style=\"display:inline;vertical-align:middle;\" /></a> <a class=\"ProveItLink\" href=\"proof.ipynb\" style=\"text-decoration: none\">&#x22A2;&nbsp;</a><a class=\"ProveItLink\" href=\"../6ea7dfe99dcf9730898395df7942078f18d9adf20/expr.ipynb\"><img src=\"data:image/png;base64,iVBORw0KGgoAAAANSUhEUgAAADEAAAAMBAMAAAA5VkhcAAAAMFBMVEX///9UVFSYmJgyMjIQEBBE\n",
       "REQiIiKqqqrMzMyIiIi6urrc3NxmZmZ2dnbu7u4AAAC6tZoTAAAAAXRSTlMAQObYZgAAAKVJREFU\n",
       "GNNjYEAB3CcYsAMO4QXYJbgMG5B4fHcuMOx/AGay22yACi7x4p7AwMP1gWE+mMuZ+wBmW9CcowwM\n",
       "7TwJDKEgLm8mwhwGPjkGhgcsExh+grhPo5Ds2Agi6h9w/ADzGs0RTjkAIg8zcDpA+HuSYDK1YDKG\n",
       "gTVAGyLwNhPqyAsMjEDqIEPLhQtQtUwQ5zXrKFmBbJ5ZFQv3ILsFiDzA9KWAAQDmLCgYpAyHdgAA\n",
       "AABJRU5ErkJggg==\n",
       "\" style=\"display:inline;vertical-align:middle;\" /></a></span></td></tr>\n",
       "</table>"
      ],
      "text/plain": [
       "<proveit._core_.proof._ShowProof at 0x7f94e7496d30>"
      ]
     },
     "execution_count": 1,
     "metadata": {},
     "output_type": "execute_result"
    }
   ],
   "source": [
    "import proveit\n",
    "%show_proof"
   ]
  },
  {
   "cell_type": "code",
   "execution_count": null,
   "metadata": {},
   "outputs": [],
   "source": []
  }
 ],
 "metadata": {
  "kernelspec": {
   "display_name": "Python 3",
   "language": "python",
   "name": "python3"
  }
 },
 "nbformat": 4,
 "nbformat_minor": 0
}
