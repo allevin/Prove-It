{
 "cells": [
  {
   "cell_type": "markdown",
   "metadata": {},
   "source": [
    "Expression of type <a class=\"ProveItLink\" href=\"../../../../../../doc/html/api/proveit.ExprTuple.html\">ExprTuple</a>\n",
    "=======================\n",
    "# from context <a class=\"ProveItLink\" href=\"../../_context_.ipynb\">proveit.number.ordering</a>"
   ]
  },
  {
   "cell_type": "code",
   "execution_count": 1,
   "metadata": {},
   "outputs": [],
   "source": [
    "# import Expression classes needed to build the expression\n",
    "from proveit import ExprTuple\n",
    "from proveit._common_ import S, a, b, c, d, e\n",
    "from proveit.number import Exp, five"
   ]
  },
  {
   "cell_type": "code",
   "execution_count": 2,
   "metadata": {},
   "outputs": [
    {
     "data": {
      "text/html": [
       "<strong id=\"expr\">expr:</strong> <a class=\"ProveItLink\" href=\"expr.ipynb\"><img src=\"data:image/png;base64,iVBORw0KGgoAAAANSUhEUgAAAJgAAAAcBAMAAABvzWvcAAAAMFBMVEX///+qqqp2dnYiIiJERESI\n",
       "iIhmZmYQEBDc3NyYmJgyMjLu7u5UVFTMzMy6uroAAACGxKilAAAAAXRSTlMAQObYZgAAApxJREFU\n",
       "SMetVc9rE1EQ/hLN5sdmtwXPYhByFIpg6UWoBw+CYKimgjQYxEqxCkVRCgW7B+1BAl3Fi1DKgiAI\n",
       "HhYRilKISlUUofkDBHNQPGlTjNKiSZ15b3+81AQsyYPd/Wbmzbw338x7C/RgmBPPcujVMLf++PB7\n",
       "98EWLSDDyHjRfbAqvT4yeu52H2x81EWMaXvH4ped+C5uVySsiAMMEZjanury1TYBPl8PsVZRDAsX\n",
       "Jim43gDGyFIkTaol1cfttrOuYCeEKRtPa6kKmkDZRZzJy3f0C2j5rQh3Q/gKiDjxSmID2GXjE6tm\n",
       "Ovr5IzqgCEshW5SekYu6MeJJG8Zpdnc6+gXpFBVhd3+wMGVhVLD/HOFkDe+ZUW640shXS/q9HrPl\n",
       "1CfZggSlkTXPfy47QcsFkRNbBTWj45JFmNM4IZXlYTQEMG7ggZxGNlmiyBDmmKUgwtmtuuVBo4GH\n",
       "9OEizNs4L5X7XFyR1ORwTACyXZS2+SouU/CpkLSFWZ/wRBOD9OmjYKvAIakkv18CrPoeBA5K9PZ+\n",
       "njZi1FSKNz2grwfB6qLxeAzClPa6P59sTYnkKmEw4kffDHfGHRrvR+InIjXdazNNNAepvFmhTaqC\n",
       "NHWqBLeY3yYrXGqb95h29oJpbiCeEYCWTDJQbNeAGGm5ACxyJTT/KJobOAlZ6kfYU8zoP0h6iUsQ\n",
       "4A1wQIDQdga61xpC1IjmU37K1GdrHJPatJT/drSqzxK9y6O0UQZaNu8KENqi43zyUsSxENPmhxU7\n",
       "qISDPr4CpoPGszoCBS21iv4hySGdUU9usjNQULZV9EbZgjGgXkH/FUx32ga7R88RrqpfkeCP9S8I\n",
       "UdpqNXjjMD23GdzaybVdaKtN8umPZHrz87wp3nd6E2wSvR1/AQb1uCst07I7AAAAAElFTkSuQmCC\n",
       "\" style=\"display:inline;vertical-align:middle;\" /></a><br>"
      ],
      "text/plain": [
       "expr: ((a , b , c , d , e) , S^{5})"
      ]
     },
     "execution_count": 2,
     "metadata": {},
     "output_type": "execute_result"
    }
   ],
   "source": [
    "# build up the expression from sub-expressions\n",
    "expr = ExprTuple([a, b, c, d, e], Exp(S, five))"
   ]
  },
  {
   "cell_type": "code",
   "execution_count": 3,
   "metadata": {},
   "outputs": [
    {
     "name": "stdout",
     "output_type": "stream",
     "text": [
      "Passed sanity check: built 'expr' is the same as the stored Expression.\n"
     ]
    }
   ],
   "source": [
    "# check that the built expression is the same as the stored expression\n",
    "%check_expr"
   ]
  },
  {
   "cell_type": "code",
   "execution_count": 4,
   "metadata": {},
   "outputs": [
    {
     "data": {
      "text/html": [
       "<table><tr><th>&nbsp;</th><th>core type</th><th>sub-expressions</th><th>expression</th></tr>\n",
       "<tr><td>0</td><td>ExprTuple</td><td>1, 2</td><td><a class=\"ProveItLink\" href=\"expr.ipynb\"><img src=\"data:image/png;base64,iVBORw0KGgoAAAANSUhEUgAAAJgAAAAcBAMAAABvzWvcAAAAMFBMVEX///+qqqp2dnYiIiJERESI\n",
       "iIhmZmYQEBDc3NyYmJgyMjLu7u5UVFTMzMy6uroAAACGxKilAAAAAXRSTlMAQObYZgAAApxJREFU\n",
       "SMetVc9rE1EQ/hLN5sdmtwXPYhByFIpg6UWoBw+CYKimgjQYxEqxCkVRCgW7B+1BAl3Fi1DKgiAI\n",
       "HhYRilKISlUUofkDBHNQPGlTjNKiSZ15b3+81AQsyYPd/Wbmzbw338x7C/RgmBPPcujVMLf++PB7\n",
       "98EWLSDDyHjRfbAqvT4yeu52H2x81EWMaXvH4ped+C5uVySsiAMMEZjanury1TYBPl8PsVZRDAsX\n",
       "Jim43gDGyFIkTaol1cfttrOuYCeEKRtPa6kKmkDZRZzJy3f0C2j5rQh3Q/gKiDjxSmID2GXjE6tm\n",
       "Ovr5IzqgCEshW5SekYu6MeJJG8Zpdnc6+gXpFBVhd3+wMGVhVLD/HOFkDe+ZUW640shXS/q9HrPl\n",
       "1CfZggSlkTXPfy47QcsFkRNbBTWj45JFmNM4IZXlYTQEMG7ggZxGNlmiyBDmmKUgwtmtuuVBo4GH\n",
       "9OEizNs4L5X7XFyR1ORwTACyXZS2+SouU/CpkLSFWZ/wRBOD9OmjYKvAIakkv18CrPoeBA5K9PZ+\n",
       "njZi1FSKNz2grwfB6qLxeAzClPa6P59sTYnkKmEw4kffDHfGHRrvR+InIjXdazNNNAepvFmhTaqC\n",
       "NHWqBLeY3yYrXGqb95h29oJpbiCeEYCWTDJQbNeAGGm5ACxyJTT/KJobOAlZ6kfYU8zoP0h6iUsQ\n",
       "4A1wQIDQdga61xpC1IjmU37K1GdrHJPatJT/drSqzxK9y6O0UQZaNu8KENqi43zyUsSxENPmhxU7\n",
       "qISDPr4CpoPGszoCBS21iv4hySGdUU9usjNQULZV9EbZgjGgXkH/FUx32ga7R88RrqpfkeCP9S8I\n",
       "UdpqNXjjMD23GdzaybVdaKtN8umPZHrz87wp3nd6E2wSvR1/AQb1uCst07I7AAAAAElFTkSuQmCC\n",
       "\" style=\"display:inline;vertical-align:middle;\" /></a></td></tr>\n",
       "<tr><td>1</td><td>ExprTuple</td><td>3, 4, 5, 6, 7</td><td><a class=\"ProveItLink\" href=\"../40ed97c84dd03f5d379689d83d97b2f10a8687be0/expr.ipynb\"><img src=\"data:image/png;base64,iVBORw0KGgoAAAANSUhEUgAAAGIAAAAVBAMAAABPrCZEAAAAMFBMVEX////c3NwiIiJERESqqqqY\n",
       "mJh2dnZmZmYQEBDu7u4yMjJUVFTMzMyIiIi6uroAAAAs73DqAAAAAXRSTlMAQObYZgAAAYtJREFU\n",
       "OMuVkz9Iw1AQxr/+T1tisjvUzbWDgmNxdDGzIAQHu0kXOwkqqJvSTXFpFxERpA6CCIWAi+DQOIlD\n",
       "SnUqLq2oQ5fivXdJ84YG7KNJf+++d5fjuwSYfs24UxxOden2rASy93MTSi5Vws0OXVeqmmtOKGyU\n",
       "lAOA7kaJ49WvKW3Z0GpR4nhtqH3v4TNSHK9LdbOAKt1jra193l97d36tTc+RQNoPh2LVVxMo44K4\n",
       "ZyYGfO4bBh986ubYNtKGnLFsxsi0FZxQ8i8yRRlMDqHZMvUYCUsWJq3BjxghQ9V6GAH5AeLsGImG\n",
       "ND8/8NsWms10uP5Cf22RYRRR517iFfRlaaMY2E1al4nn2MYBUHCxipo/jl0JhWBKisahHhaBegkP\n",
       "SScrog6OIIGeZAkINY0y6LdGbiFnJefTqJM3+VKmyVBB2hEQanoDp9LdD2F557GDsy+yqLUNCah6\n",
       "bxJCDWVP9HUDzQym+R4NIdFbkrKDjRUNIaVd5W3/V8Y5XbM+64gEhW7F9Kf5anUHf6kudAb6hmIS\n",
       "AAAAAElFTkSuQmCC\n",
       "\" style=\"display:inline;vertical-align:middle;\" /></a></td></tr>\n",
       "<tr><td>2</td><td>Operation</td><td>operator:&nbsp;8<br>operands:&nbsp;9<br></td><td><a class=\"ProveItLink\" href=\"../4be017fe0a5840078cedc210dd0d940772faba4f0/expr.ipynb\"><img src=\"data:image/png;base64,iVBORw0KGgoAAAANSUhEUgAAABUAAAAUBAMAAACQZWsAAAAAMFBMVEX///8iIiIQEBCIiIjMzMzc\n",
       "3Nyqqqp2dnZEREQyMjK6urru7u5mZmZUVFSYmJgAAACI6eGPAAAAAXRSTlMAQObYZgAAAJBJREFU\n",
       "CNdjYICANdGPGWBg/f8LcPa6pXAmwyoEk2GN8Wk4O5QhE0Tx3TmzbwEDw34HIHseA3c/wxQGfiCf\n",
       "t4ABKK/CEB/AwBAPlHNmqGawBdmSwMDgwsBeA5RmiP/sADeN+f//Vjgn7tKnDQhL6x9AaD4g3g9l\n",
       "7wFpD4CwQc44C1V70ICBuQHKvrD2bh+UCQCkhiXoqI5dSwAAAABJRU5ErkJggg==\n",
       "\" style=\"display:inline;vertical-align:middle;\" /></a></td></tr>\n",
       "<tr><td>3</td><td>Variable</td><td></td><td><a class=\"ProveItLink\" href=\"../../../../__pv_it/07527342713064c87612d00d8557c53d53d5324a0/expr.ipynb\"><img src=\"data:image/png;base64,iVBORw0KGgoAAAANSUhEUgAAAAsAAAAJBAMAAAAWSsseAAAAMFBMVEX///8yMjKqqqrMzMzu7u4i\n",
       "IiJmZmaYmJhEREQQEBC6urp2dnaIiIhUVFTc3NwAAAD87Fq/AAAAAXRSTlMAQObYZgAAAEhJREFU\n",
       "CNdjYOC7s2seAwPDygccHxgY+L4zsDUwMPB+YGA9wMDA38Dgb8DA8P4Agz6DA4O/AsNFJgMGxgKm\n",
       "MG6gyjunLE4xAAAZTBA5TB6DCwAAAABJRU5ErkJggg==\n",
       "\" style=\"display:inline;vertical-align:middle;\" /></a></td></tr>\n",
       "<tr><td>4</td><td>Variable</td><td></td><td><a class=\"ProveItLink\" href=\"../../../../__pv_it/6840a4fa6c106149dc16a131294d0c5e44f1b0480/expr.ipynb\"><img src=\"data:image/png;base64,iVBORw0KGgoAAAANSUhEUgAAAAkAAAAOBAMAAAAPuiubAAAALVBMVEX///9mZmbMzMxERESYmJiI\n",
       "iIh2dna6urqqqqoyMjIiIiIQEBBUVFTu7u4AAAD9S1JeAAAAAXRSTlMAQObYZgAAAE1JREFUCNdj\n",
       "4D29gAEIOA+ASL4GEFl3AURmgQiGOaFHGBh4HzPwKTBwvGXgTmBgnMDAJ8DAJcBQ5wBSLncBJLWN\n",
       "gYGngRFoBO9REQYGAGrcDtUkVqASAAAAAElFTkSuQmCC\n",
       "\" style=\"display:inline;vertical-align:middle;\" /></a></td></tr>\n",
       "<tr><td>5</td><td>Variable</td><td></td><td><a class=\"ProveItLink\" href=\"../../../../__pv_it/cbdfda466482236edba0ce44ac7ef39cda0af7a40/expr.ipynb\"><img src=\"data:image/png;base64,iVBORw0KGgoAAAANSUhEUgAAAAkAAAAJBAMAAAASvxsjAAAALVBMVEX///9mZmbc3NxUVFSYmJhE\n",
       "REQiIiIyMjK6uroQEBDMzMyIiIh2dnbu7u4AAABgFDGoAAAAAXRSTlMAQObYZgAAADZJREFUCNdj\n",
       "YOA9s3sBA8PKBvYEBt7ZDKwODMwPGICALwBE6m0Asx0YGIDiAgw8QJUyu/cyAAAmuwmycZ8WfQAA\n",
       "AABJRU5ErkJggg==\n",
       "\" style=\"display:inline;vertical-align:middle;\" /></a></td></tr>\n",
       "<tr><td>6</td><td>Variable</td><td></td><td><a class=\"ProveItLink\" href=\"../../../../__pv_it/3a5de44ed6135dbbdbbeec6704c741e238f127300/expr.ipynb\"><img src=\"data:image/png;base64,iVBORw0KGgoAAAANSUhEUgAAAAsAAAAOBAMAAAALT/umAAAAMFBMVEX////MzMyYmJiIiIhUVFTc\n",
       "3NwyMjIiIiJ2dnbu7u6qqqpmZmYQEBBERES6uroAAABkyy6XAAAAAXRSTlMAQObYZgAAAFhJREFU\n",
       "CNdjYGBg4LuzgQEE+BeAqfcTwFQ7mGTIBmJW575fQOpNAO9PIOcTA3cCAwPLBwb2BqCeCwzzHzAw\n",
       "xBswrGeYwDB/AYMblwADmwJXNQdIm52sHQMAfyoTCZukXIEAAAAASUVORK5CYII=\n",
       "\" style=\"display:inline;vertical-align:middle;\" /></a></td></tr>\n",
       "<tr><td>7</td><td>Variable</td><td></td><td><a class=\"ProveItLink\" href=\"../../../../__pv_it/0bc0f4a545336331111a0b22c4f05a0627b57b8f0/expr.ipynb\"><img src=\"data:image/png;base64,iVBORw0KGgoAAAANSUhEUgAAAAkAAAAJBAMAAAASvxsjAAAALVBMVEX////u7u4yMjKYmJgQEBBU\n",
       "VFTMzMy6uroiIiKqqqqIiIh2dnZmZmbc3NwAAAAyj3LLAAAAAXRSTlMAQObYZgAAADlJREFUCNdj\n",
       "YOA9veYCA8OMC7wHGHifM/AkMLA6W61lYOA7wAAEfAtAJAuQXMDApcAgA1S5Z9UCBgB6Cgz1W65k\n",
       "FgAAAABJRU5ErkJggg==\n",
       "\" style=\"display:inline;vertical-align:middle;\" /></a></td></tr>\n",
       "<tr><td>8</td><td>Literal</td><td></td><td><a class=\"ProveItLink\" href=\"../../../exponentiation/__pv_it/deb2bf23cbccdd6e6791e1b35b5b9794ce12dbd50/expr.ipynb\"><img src=\"data:image/png;base64,iVBORw0KGgoAAAANSUhEUgAAACgAAAASBAMAAADbMYGVAAAAMFBMVEX///8QEBAiIiKYmJjc3Nzu\n",
       "7u7MzMx2dnZmZma6urpERESqqqoyMjJUVFSIiIgAAAAoDOMTAAAAAXRSTlMAQObYZgAAAOBJREFU\n",
       "GNNjYGB4+//u3Tt/GNAASGAXmhjnPyDBgSbI/g1IxKEJ8nxgYGdgQRPkX8BgDKRY6q7s62OYvmze\n",
       "2wAgb/7ZO1+AVDiDkYEQQ0HTBr4DQF59AgOIKmB4z7CNbcNZBu6vQN55kEACQwDDLQYGVobfDHwg\n",
       "fb8YGBxYHwAZciD3fWXg+gB1JjvQcJZvQIXsCgz8F6DO9GBgMOH7wPCUgaeBwd4B7EwGNjUG7s9c\n",
       "AiwPgO5jkWRgiF3/9+5dfQUG1nWl5Y+B7pv+1gE9bBhqGLCAE1jEWH9jEbT5A3IwAC4sP/1L6Qlu\n",
       "AAAAAElFTkSuQmCC\n",
       "\" style=\"display:inline;vertical-align:middle;\" /></a></td></tr>\n",
       "<tr><td>9</td><td>ExprTuple</td><td>10, 11</td><td><a class=\"ProveItLink\" href=\"../696428b03dd93d3563e7f326a115209b3b02c7b40/expr.ipynb\"><img src=\"data:image/png;base64,iVBORw0KGgoAAAANSUhEUgAAAC0AAAAVBAMAAAAgHXppAAAAMFBMVEX////c3NwiIiJERESqqqqY\n",
       "mJh2dnZmZmYQEBDu7u4yMjJUVFTMzMyIiIi6uroAAAAs73DqAAAAAXRSTlMAQObYZgAAASFJREFU\n",
       "GNNjYMAF+C5gCMWBiNMggnV7+dQHIAZXJGMKA/sBIGsliLuUgdMerJTj//8EBoYFDAy8IGO4gWwv\n",
       "sDhXdQ6QDAMqmACk5YEaz4LFucHkDAaGVyD6vQMDwxkkcWYHhjIQLf/3ANQp3HdvA+1nKwDaCAS8\n",
       "//8bQsSZJ3D+Y2BgWcDQB+aK7vgxAeb6HUA/NTD8g/LyA2Di+QcYeD6AxVmBeD5E3Ago/gAk3gLk\n",
       "TAdZLQAWb2JgqBcAmWPKAPFSNQMnSLyAgWEV0IAFDOlATtEFBl4DhvkKQKY4A0sj2J2PgJwNr3cD\n",
       "tc34CGTylO8GGsj1gIFDAB68D+EsYDiwJsB5cJcy5MLCGVWcExjODNIwHi9cATfIbEbMeLzDwAAA\n",
       "YwlBrWbmI9AAAAAASUVORK5CYII=\n",
       "\" style=\"display:inline;vertical-align:middle;\" /></a></td></tr>\n",
       "<tr><td>10</td><td>Variable</td><td></td><td><a class=\"ProveItLink\" href=\"../../../../__pv_it/abeee18594afe51bfb1be95d9591fbba24ac53f30/expr.ipynb\"><img src=\"data:image/png;base64,iVBORw0KGgoAAAANSUhEUgAAAA0AAAAOBAMAAAAGUYvhAAAAMFBMVEX///8iIiIQEBCIiIjMzMzc\n",
       "3Nyqqqp2dnZEREQyMjK6urru7u5mZmZUVFSYmJgAAACI6eGPAAAAAXRSTlMAQObYZgAAAF1JREFU\n",
       "CNdjYGDgu3Nm3wIGBoZ5DNz9QIq3gIEhE0jHOzAwOAPp9QkMDC4g/megABAw///fCmbEXfq0Acxg\n",
       "qH8ANAVI7wfSe0BKAyBGnAXigwYMzA1A+sLau31ACgAz0hhbkhGHbwAAAABJRU5ErkJggg==\n",
       "\" style=\"display:inline;vertical-align:middle;\" /></a></td></tr>\n",
       "<tr><td>11</td><td>Literal</td><td></td><td><a class=\"ProveItLink\" href=\"../../../numeral/__pv_it/aaeeaca7d86eb2b7cdc49e25c3108b81b52ec5400/expr.ipynb\"><img src=\"data:image/png;base64,iVBORw0KGgoAAAANSUhEUgAAAAkAAAAOBAMAAAAPuiubAAAAMFBMVEX///8iIiJERES6urqIiIjM\n",
       "zMxUVFRmZmYQEBCqqqp2dnbc3Nzu7u6YmJgyMjIAAADYGhJvAAAAAXRSTlMAQObYZgAAAE1JREFU\n",
       "CNdj4LvDvZKBgeP//wUMDHxlSxkYGNgYGBCki5sBAwPTAZ7PYG4GmFwfwKAIJA0YGhkY6jcwFDAw\n",
       "vGNg2M7A2c3AwFqetoEBAKS8EE1WXEJLAAAAAElFTkSuQmCC\n",
       "\" style=\"display:inline;vertical-align:middle;\" /></a></td></tr>\n",
       "</table>\n"
      ],
      "text/plain": [
       "0. ((a , b , c , d , e) , S^{5})\n",
       "   core type: ExprTuple\n",
       "   sub-expressions: 1, 2\n",
       "1. (a , b , c , d , e)\n",
       "   core type: ExprTuple\n",
       "   sub-expressions: 3, 4, 5, 6, 7\n",
       "2. S^{5}\n",
       "   core type: Operation\n",
       "   operator: 8\n",
       "   operands: 9\n",
       "3. a\n",
       "   core type: Variable\n",
       "   sub-expressions: \n",
       "4. b\n",
       "   core type: Variable\n",
       "   sub-expressions: \n",
       "5. c\n",
       "   core type: Variable\n",
       "   sub-expressions: \n",
       "6. d\n",
       "   core type: Variable\n",
       "   sub-expressions: \n",
       "7. e\n",
       "   core type: Variable\n",
       "   sub-expressions: \n",
       "8. Exp\n",
       "   core type: Literal\n",
       "   sub-expressions: \n",
       "9. (S , 5)\n",
       "   core type: ExprTuple\n",
       "   sub-expressions: 10, 11\n",
       "10. S\n",
       "    core type: Variable\n",
       "    sub-expressions: \n",
       "11. 5\n",
       "    core type: Literal\n",
       "    sub-expressions: "
      ]
     },
     "execution_count": 4,
     "metadata": {},
     "output_type": "execute_result"
    }
   ],
   "source": [
    "# display the expression information\n",
    "expr.exprInfo()"
   ]
  },
  {
   "cell_type": "code",
   "execution_count": null,
   "metadata": {},
   "outputs": [],
   "source": []
  }
 ],
 "metadata": {
  "kernelspec": {
   "display_name": "Python 3",
   "language": "python",
   "name": "python3"
  }
 },
 "nbformat": 4,
 "nbformat_minor": 0
}
