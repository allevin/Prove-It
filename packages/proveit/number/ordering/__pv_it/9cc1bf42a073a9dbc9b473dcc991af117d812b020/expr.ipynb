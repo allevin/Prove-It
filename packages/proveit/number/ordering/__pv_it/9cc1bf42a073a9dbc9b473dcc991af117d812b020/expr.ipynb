{
 "cells": [
  {
   "cell_type": "markdown",
   "metadata": {},
   "source": [
    "Expression of type <a class=\"ProveItLink\" href=\"../../../../../../doc/html/api/proveit.Lambda.html\">Lambda</a>\n",
    "=======================\n",
    "# from context <a class=\"ProveItLink\" href=\"../../_context_.ipynb\">proveit.number.ordering</a>"
   ]
  },
  {
   "cell_type": "code",
   "execution_count": 1,
   "metadata": {},
   "outputs": [],
   "source": [
    "# import Expression classes needed to build the expression\n",
    "from proveit import Lambda\n",
    "from proveit._common_ import A, B, x\n",
    "from proveit.logic import InSet"
   ]
  },
  {
   "cell_type": "code",
   "execution_count": 2,
   "metadata": {},
   "outputs": [
    {
     "data": {
      "text/html": [
       "<strong id=\"expr\">expr:</strong> <a class=\"ProveItLink\" href=\"expr.ipynb\"><img src=\"data:image/png;base64,iVBORw0KGgoAAAANSUhEUgAAAL0AAAAVCAMAAAAkRh+BAAAANlBMVEX///+6uroUFBQNDQ0yMjJE\n",
       "RETMzMwQEBAiIiKYmJju7u5mZmaqqqpUVFSIiIh2dnbc3NwAAACltDI1AAAAAXRSTlMAQObYZgAA\n",
       "AgpJREFUSMfFV9l26yAMhFbsq/7/Z6/N4hgDvsXNaXhxjsOMBqHNhHx02fjHBql/ilS0exXo34rn\n",
       "bkWvQ3TbYpBUGv4+9Vw+QYFe2i5YehhMMuF96gEfgPxa3HD05ZmuTIV3qVcS9TpKTDHag9xW616P\n",
       "OS0VJt1arKofshISrcH1hKcw9TKowcFYkSvLqZldUz9m3byy+SVDY/AuWm9qTLQCbWPPlKu/Ykhk\n",
       "Qys5YCLUf4O5Ud+RzlgJ1cSiSncT9ihSRNQkviSzOxOAIkMMYXEc9s57b6Q6fAFz9T3phJVoemRU\n",
       "SOG5EfOxeu1OFCJb6zCajXM8B6eWtcxSMVffkc5YyQ6KmK5xd607b/v+ks0S+DJRfnYYKupuGIW9\n",
       "R1Uv48b3V9IZK99biMNjqzjXwWsbcCcLp4M0mEkPw/K6lJx79R3pjDVjRD1RRF7OPlBvzrEnjhxu\n",
       "MVqOw7643KH9f+R0pBNWW8tY8ktM0Ub8WD1vvMGynA5DnJqH/Saq+kndZG1POmSN9tRs98qzh2f0\n",
       "r1raJG1rLaVKj9ncRKfVnotjvLipmAPSEauu52d7s9XMBx2CVz/rVjLXgh4T4TqDGZZHNIDXPqBT\n",
       "9UMhV9bIBMJ+oWojB7M8Kcz7s3Uw6Omt45YnhZ+wLkxH4Tfo4D8834N+jtVvnJCfreieY138tPqm\n",
       "Jix+G/D+1e/U/wMRKhbLX8IFdAAAAABJRU5ErkJggg==\n",
       "\" style=\"display:inline;vertical-align:middle;\" /></a><br>"
      ],
      "text/plain": [
       "expr: x -> (x in B) | x in A"
      ]
     },
     "execution_count": 2,
     "metadata": {},
     "output_type": "execute_result"
    }
   ],
   "source": [
    "# build up the expression from sub-expressions\n",
    "expr = Lambda(x, InSet(x, B), conditions = [InSet(x, A)])"
   ]
  },
  {
   "cell_type": "code",
   "execution_count": 3,
   "metadata": {},
   "outputs": [
    {
     "name": "stdout",
     "output_type": "stream",
     "text": [
      "Passed sanity check: built 'expr' is the same as the stored Expression.\n"
     ]
    }
   ],
   "source": [
    "# check that the built expression is the same as the stored expression\n",
    "%check_expr"
   ]
  },
  {
   "cell_type": "code",
   "execution_count": 4,
   "metadata": {},
   "outputs": [
    {
     "data": {
      "text/html": [
       "<table><tr><th>&nbsp;</th><th>core type</th><th>sub-expressions</th><th>expression</th></tr>\n",
       "<tr><td>0</td><td>Lambda</td><td>parameter:&nbsp;8<br>body:&nbsp;1<br>conditions:&nbsp;2<br></td><td><a class=\"ProveItLink\" href=\"expr.ipynb\"><img src=\"data:image/png;base64,iVBORw0KGgoAAAANSUhEUgAAAL0AAAAVCAMAAAAkRh+BAAAANlBMVEX///+6uroUFBQNDQ0yMjJE\n",
       "RETMzMwQEBAiIiKYmJju7u5mZmaqqqpUVFSIiIh2dnbc3NwAAACltDI1AAAAAXRSTlMAQObYZgAA\n",
       "AgpJREFUSMfFV9l26yAMhFbsq/7/Z6/N4hgDvsXNaXhxjsOMBqHNhHx02fjHBql/ilS0exXo34rn\n",
       "bkWvQ3TbYpBUGv4+9Vw+QYFe2i5YehhMMuF96gEfgPxa3HD05ZmuTIV3qVcS9TpKTDHag9xW616P\n",
       "OS0VJt1arKofshISrcH1hKcw9TKowcFYkSvLqZldUz9m3byy+SVDY/AuWm9qTLQCbWPPlKu/Ykhk\n",
       "Qys5YCLUf4O5Ud+RzlgJ1cSiSncT9ihSRNQkviSzOxOAIkMMYXEc9s57b6Q6fAFz9T3phJVoemRU\n",
       "SOG5EfOxeu1OFCJb6zCajXM8B6eWtcxSMVffkc5YyQ6KmK5xd607b/v+ks0S+DJRfnYYKupuGIW9\n",
       "R1Uv48b3V9IZK99biMNjqzjXwWsbcCcLp4M0mEkPw/K6lJx79R3pjDVjRD1RRF7OPlBvzrEnjhxu\n",
       "MVqOw7643KH9f+R0pBNWW8tY8ktM0Ub8WD1vvMGynA5DnJqH/Saq+kndZG1POmSN9tRs98qzh2f0\n",
       "r1raJG1rLaVKj9ncRKfVnotjvLipmAPSEauu52d7s9XMBx2CVz/rVjLXgh4T4TqDGZZHNIDXPqBT\n",
       "9UMhV9bIBMJ+oWojB7M8Kcz7s3Uw6Omt45YnhZ+wLkxH4Tfo4D8834N+jtVvnJCfreieY138tPqm\n",
       "Jix+G/D+1e/U/wMRKhbLX8IFdAAAAABJRU5ErkJggg==\n",
       "\" style=\"display:inline;vertical-align:middle;\" /></a></td></tr>\n",
       "<tr><td>1</td><td>Operation</td><td>operator:&nbsp;6<br>operands:&nbsp;3<br></td><td><a class=\"ProveItLink\" href=\"../7a806e44b554f7f0dde9918a38383961fdb3a7e90/expr.ipynb\"><img src=\"data:image/png;base64,iVBORw0KGgoAAAANSUhEUgAAADUAAAAPBAMAAAC2KZqIAAAAMFBMVEX///+6uroyMjJERETMzMwQ\n",
       "EBAiIiKYmJju7u5mZmaqqqpUVFSIiIh2dnbc3NwAAAAWgogoAAAAAXRSTlMAQObYZgAAANxJREFU\n",
       "GNNjYMAC2Pf/3r1ZkQE7YDVgYJgvgF3O/wAQb0AS4DiUlqYAYZ5/wMBQfwFJzqkCzjQF4tQGBoa3\n",
       "p1+dBBrBwGeBUPabgeERkMtxgT2dNQHIZ34Al2L5feZkOpDmZeD5wOUAZDQjtPH8Y2BoAzqFg4Hb\n",
       "ACwgmpYGcwtzAFD+O9gzB8AC3gh9/EA97H9BrPcODEAnMbQhea+AgYH7F1D+wXkGHpAcdwFcDuS9\n",
       "90Dj1xeYMrwBez0R2XssQUD1zWd770B0PJoClZr8f/dupQLUUFytBgszCAAA9AE54TfU44EAAAAA\n",
       "SUVORK5CYII=\n",
       "\" style=\"display:inline;vertical-align:middle;\" /></a></td></tr>\n",
       "<tr><td>2</td><td>ExprTuple</td><td>4</td><td><a class=\"ProveItLink\" href=\"../06c4a0283bc5b0cd88b370defd3546d49b6b4bee0/expr.ipynb\"><img src=\"data:image/png;base64,iVBORw0KGgoAAAANSUhEUgAAAEIAAAAVBAMAAAAA8SWUAAAAMFBMVEX////c3NwiIiJERESqqqqY\n",
       "mJh2dnZmZmYQEBDu7u4yMjJUVFTMzMyIiIi6uroAAAAs73DqAAAAAXRSTlMAQObYZgAAATBJREFU\n",
       "KM9jYCAM+C7gkWR9ACRO45Q+BMQ1QLwSp4r1QMzFwMCL0xJW/QlAIoGBYwKy6NxFSlowtki9AAMD\n",
       "ZwPDK2QFPEuR1F+4D3KmCUMZkBS7LXIdbJkwkgK+Cf4BQCqdYSnQpARWVQ4FkKghknnzGM6DdHkx\n",
       "9DEwsDHwfmA5AORxGiCpeMAgXwCkXjD8A0owcEOk+JqUlGAu5dm9ez9I9DxIBQMDB8TLPBuQnAEU\n",
       "XQBW0QLiyh9gALmRUwGhwoGBgakBbIspMFQE7jPwgn2xFa6AEaiC6wOQEQX0DYN/gAWDLFh80gOY\n",
       "illAzPwT7NtHDAyTr03LDYDoXH4AokC4fyEDq/0voGfWMXAIIAcqyy5EqIMBMNSBUYMPsF3AF/sw\n",
       "90jjVbER5Dp8qZD3AAMAV/NDaTQjZOcAAAAASUVORK5CYII=\n",
       "\" style=\"display:inline;vertical-align:middle;\" /></a></td></tr>\n",
       "<tr><td>3</td><td>ExprTuple</td><td>8, 5</td><td><a class=\"ProveItLink\" href=\"../ff099d1a0bb94c854b040e46fe675692626106110/expr.ipynb\"><img src=\"data:image/png;base64,iVBORw0KGgoAAAANSUhEUgAAADIAAAAVBAMAAAD2uKAMAAAAMFBMVEX////c3NwiIiJERESqqqqY\n",
       "mJh2dnZmZmYQEBDu7u4yMjJUVFTMzMyIiIi6uroAAAAs73DqAAAAAXRSTlMAQObYZgAAASJJREFU\n",
       "KM9jYMAN+C5gEWR9ACROowrt/7178zoGhhogeyWqag4DBob6BwxcDAy8aIadB/LPb2BgTWDgmIAq\n",
       "c1+AgSE+gYGzgeEVmt0WQKwBVG3CUAZkid0WuQ4z9DcDg5QlkE5nWMrAwJnAqsqhAJHg+X33uiqI\n",
       "4cXQx8DAxsD7geUARIb3IwPDpA1AxguGf0A9DNwGMGuYG4CyX0FuBMkAPQF3Oj9QPes3sEwLiC9/\n",
       "gAHq+PMBDAzcX8CmmQLVCNxn4J0AkQN5R34BkBEFdB2Df4AFgywD5yeod3i6JoBd/YiBYfK1abkB\n",
       "DJz9QOXF/3fvXhUAUrKOgUMAHh0CSEEBDB1g0MEiADmQ2C4gxQKKzCwgloZxUKJjIxAzYott3gMM\n",
       "AD3SRglZIJ+2AAAAAElFTkSuQmCC\n",
       "\" style=\"display:inline;vertical-align:middle;\" /></a></td></tr>\n",
       "<tr><td>4</td><td>Operation</td><td>operator:&nbsp;6<br>operands:&nbsp;7<br></td><td><a class=\"ProveItLink\" href=\"../d22ddc5a10eb975511dd53c73f90645ec65bd9fe0/expr.ipynb\"><img src=\"data:image/png;base64,iVBORw0KGgoAAAANSUhEUgAAADUAAAAPBAMAAAC2KZqIAAAAMFBMVEX///+6uroyMjJERETMzMwQ\n",
       "EBAiIiKYmJju7u5mZmaqqqpUVFSIiIh2dnbc3NwAAAAWgogoAAAAAXRSTlMAQObYZgAAAMlJREFU\n",
       "GNNjYMAB3BhwA33cUuz5DSj8HrW0JBj71fwHyFIs6khKD5wXAJJvT786eQDEfYwkxdiwvoCBgeMC\n",
       "ezprAohvh2RGI4M/UD0vA88HLgcgl8MASU6A4f0EoBADN0SQMSwtDeYWlt2794NFWQ9A+BuQrAOK\n",
       "KoAY7x0YQK7gSEDILWBgYAsAevLBeQYesAu3w6X4gHJMHxgY1heYMrwBi7QJwOSagJj5BwND89ne\n",
       "OwUQ1ZoOEKnH8XoM7PafJiAHDNcmRJiBAACh/y/lW8971AAAAABJRU5ErkJggg==\n",
       "\" style=\"display:inline;vertical-align:middle;\" /></a></td></tr>\n",
       "<tr><td>5</td><td>Variable</td><td></td><td><a class=\"ProveItLink\" href=\"../../../../__pv_it/077b2ff79244fb4582cbe22c6e3356fa92a52f2f0/expr.ipynb\"><img src=\"data:image/png;base64,iVBORw0KGgoAAAANSUhEUgAAABAAAAAOBAMAAADUAYG5AAAAMFBMVEX///+qqqru7u4iIiJ2dnbc\n",
       "3NyIiIjMzMxmZmYQEBC6uroyMjJERERUVFSYmJgAAADLUcuvAAAAAXRSTlMAQObYZgAAAGpJREFU\n",
       "CNdjYGB4+//u3dMLGIBgDgMDxy8gzf4NiP8CGWxfGRj4vgAZPBMYGJgnARn8FxhY9ygAGfXX0pof\n",
       "gDTlBzAw2YIYJ0EckBBI53sHoBH/gIz7AhBjWH9DjancBLTl/N+7t/cxMAAA3u4f/5xagjYAAAAA\n",
       "SUVORK5CYII=\n",
       "\" style=\"display:inline;vertical-align:middle;\" /></a></td></tr>\n",
       "<tr><td>6</td><td>Literal</td><td></td><td><a class=\"ProveItLink\" href=\"../../../../logic/set_theory/membership/__pv_it/088cbc857536a28d4119ad9639a84270ccb0545d0/expr.ipynb\"><img src=\"data:image/png;base64,iVBORw0KGgoAAAANSUhEUgAAAAwAAAAMBAMAAACkW0HUAAAALVBMVEX///+qqqpmZmZUVFQQEBC6\n",
       "urpERETc3NyYmJjMzMwiIiIyMjKIiIju7u4AAACYsrA9AAAAAXRSTlMAQObYZgAAADxJREFUCNdj\n",
       "YOA9vWrVBgaG2b0MQMCeCyIZ2ArA1DUwyRCyahVIyWQI7xaEYm4AU7xLIdxqTQgtvGvVBgCkcQ7e\n",
       "geM/tQAAAABJRU5ErkJggg==\n",
       "\" style=\"display:inline;vertical-align:middle;\" /></a></td></tr>\n",
       "<tr><td>7</td><td>ExprTuple</td><td>8, 9</td><td><a class=\"ProveItLink\" href=\"../06706af7e4d9309974f9792530dc1cae39ec95130/expr.ipynb\"><img src=\"data:image/png;base64,iVBORw0KGgoAAAANSUhEUgAAADEAAAAVBAMAAAAdjxsPAAAAMFBMVEX////c3NwiIiJERESqqqqY\n",
       "mJh2dnZmZmYQEBDu7u4yMjJUVFTMzMyIiIi6uroAAAAs73DqAAAAAXRSTlMAQObYZgAAARRJREFU\n",
       "KM9jYMAN+C5gEYwDEafRRXkUGBjYDwAZK9FluD4AiQUMDLwYhgX9BBJhDAwcE9AkGN0/AskZDAyv\n",
       "0LXw8v4DkswODGVASuy2yHW4oS9ZvgJJtgKGpQwMnAmsqhwKUAnOBzx/gRTLAoY+oDwD7weWAzDv\n",
       "MTB+B1ENDEBDORm4DeDWnN69+zPIUx9AMkAHIpz+gIGhCyLTAuLKH2CAOp4FiDUgppkyMLAK3Gfg\n",
       "nQCREwHi9UDMuoAhnYHBP8CCQZaB8xPIZcBQYbCfAHb1IwaGydem5QYwcPYLMDBa/BJgCP6/HBh4\n",
       "Dxg4BODRIYAUEsDQYU2AcViRwygXORaQZcD2ScN4yNHBDTKZEVts32FgAADlCTw7rUcUdAAAAABJ\n",
       "RU5ErkJggg==\n",
       "\" style=\"display:inline;vertical-align:middle;\" /></a></td></tr>\n",
       "<tr><td>8</td><td>Variable</td><td></td><td><a class=\"ProveItLink\" href=\"../../../../__pv_it/530be409e3083890784cf1d7b28c9e67e90af9360/expr.ipynb\"><img src=\"data:image/png;base64,iVBORw0KGgoAAAANSUhEUgAAAAsAAAAJBAMAAAAWSsseAAAAKlBMVEX///9ERETMzMwQEBAiIiKY\n",
       "mJju7u5mZmaqqqpUVFSIiIh2dnbc3NwAAAA/vyDhAAAAAXRSTlMAQObYZgAAAENJREFUCNdjYDi9\n",
       "8sTyBQxsG1hdmR0YuBm4LnAoMLAxcAowgADzAjB1VoEhgYH1wFoGrgSG3gBhhlMMDImrs3cFMAAA\n",
       "t0YN+iTRa+sAAAAASUVORK5CYII=\n",
       "\" style=\"display:inline;vertical-align:middle;\" /></a></td></tr>\n",
       "<tr><td>9</td><td>Variable</td><td></td><td><a class=\"ProveItLink\" href=\"../../../../__pv_it/2cbe72a7ad6f655694dd697106680215e8489b600/expr.ipynb\"><img src=\"data:image/png;base64,iVBORw0KGgoAAAANSUhEUgAAAA8AAAAOBAMAAAACpFvcAAAALVBMVEX///8QEBBERERUVFS6urqI\n",
       "iIhmZmaqqqrc3Nzu7u6YmJgyMjIiIiLMzMwAAADtIaYWAAAAAXRSTlMAQObYZgAAAFtJREFUCNdj\n",
       "YACBOwxQsA9Kc52bAGG05zVAGAFxDmCaZULdAjBjCsO9ADDDgaEvAUTzGhvbKYCVMDAwbgAxChgY\n",
       "eASANAeQwf0AyJgNxEwvGRia5HYwcOm9TgAA6BoR3jrzwFcAAAAASUVORK5CYII=\n",
       "\" style=\"display:inline;vertical-align:middle;\" /></a></td></tr>\n",
       "</table>\n"
      ],
      "text/plain": [
       "0. x -> (x in B) | x in A\n",
       "   core type: Lambda\n",
       "   parameter: 8\n",
       "   body: 1\n",
       "   conditions: 2\\n1. x in B\n",
       "   core type: Operation\n",
       "   operator: 6\n",
       "   operands: 3\n",
       "2. (x in A)\n",
       "   core type: ExprTuple\n",
       "   sub-expressions: 4\n",
       "3. (x , B)\n",
       "   core type: ExprTuple\n",
       "   sub-expressions: 8, 5\n",
       "4. x in A\n",
       "   core type: Operation\n",
       "   operator: 6\n",
       "   operands: 7\n",
       "5. B\n",
       "   core type: Variable\n",
       "   sub-expressions: \n",
       "6. in\n",
       "   core type: Literal\n",
       "   sub-expressions: \n",
       "7. (x , A)\n",
       "   core type: ExprTuple\n",
       "   sub-expressions: 8, 9\n",
       "8. x\n",
       "   core type: Variable\n",
       "   sub-expressions: \n",
       "9. A\n",
       "   core type: Variable\n",
       "   sub-expressions: "
      ]
     },
     "execution_count": 4,
     "metadata": {},
     "output_type": "execute_result"
    }
   ],
   "source": [
    "# display the expression information\n",
    "expr.exprInfo()"
   ]
  },
  {
   "cell_type": "code",
   "execution_count": null,
   "metadata": {},
   "outputs": [],
   "source": []
  }
 ],
 "metadata": {
  "kernelspec": {
   "display_name": "Python 3",
   "language": "python",
   "name": "python3"
  }
 },
 "nbformat": 4,
 "nbformat_minor": 0
}
