{
 "cells": [
  {
   "cell_type": "markdown",
   "metadata": {},
   "source": [
    "Expression of type <a class=\"ProveItLink\" href=\"../../../../../../doc/html/api/proveit.ExprTuple.html\">ExprTuple</a>\n",
    "=======================\n",
    "# from context <a class=\"ProveItLink\" href=\"../../_context_.ipynb\">proveit.number.ordering</a>"
   ]
  },
  {
   "cell_type": "code",
   "execution_count": 1,
   "metadata": {},
   "outputs": [],
   "source": [
    "# import Expression classes needed to build the expression\n",
    "from proveit import ExprTuple, Indexed\n",
    "from proveit._common_ import i, x\n",
    "from proveit.number import Add, one"
   ]
  },
  {
   "cell_type": "code",
   "execution_count": 2,
   "metadata": {},
   "outputs": [
    {
     "data": {
      "text/html": [
       "<strong id=\"expr\">expr:</strong> <a class=\"ProveItLink\" href=\"expr.ipynb\"><img src=\"data:image/png;base64,iVBORw0KGgoAAAANSUhEUgAAAFAAAAAVBAMAAAAjqnRBAAAAMFBMVEX////c3NwiIiJERESqqqqY\n",
       "mJh2dnZmZmYQEBDu7u4yMjJUVFTMzMyIiIi6uroAAAAs73DqAAAAAXRSTlMAQObYZgAAASpJREFU\n",
       "KM9jYCAa8F0grIb1AZA4TYxpNUC8khiFXAwMvBeIUciawMAxgRiFnA0Mr4jzsglDGZAUuy1yHeEC\n",
       "VB4UpDMsBZqbwKrKocDAVgCxBYUHBIdBhBdDHwMDGwPvB5YDDHwCYHFkngMQH98EEn3B8A9oBgO3\n",
       "AZK7kXhghhOIOA9SyMDAgeImBA9ZYQuIkj/AMIHvMkwawUMofMFgCgxNgfsMvBPm8gsArUXmISuM\n",
       "AvqbwT/AgkGWQRIoMF8BmYesMJ3hEQPD5GvTcgMYGGwZGGZ8ROJxr1rVtWotVOE6Bg4BmG9/HmBg\n",
       "eMiAzEOYCIxCYHRDAMsCICuAAZmHUMh2AZHMGG0FkBSCeWCFYutrGRhmARnSSCHIixbD8JDfCNKL\n",
       "J0FugBlwgAEAB1xM+HB5HBgAAAAASUVORK5CYII=\n",
       "\" style=\"display:inline;vertical-align:middle;\" /></a><br>"
      ],
      "text/plain": [
       "expr: (x_i , x_(i + 1))"
      ]
     },
     "execution_count": 2,
     "metadata": {},
     "output_type": "execute_result"
    }
   ],
   "source": [
    "# build up the expression from sub-expressions\n",
    "expr = ExprTuple(Indexed(x, i, base = 1), Indexed(x, Add(i, one), base = 1))"
   ]
  },
  {
   "cell_type": "code",
   "execution_count": 3,
   "metadata": {},
   "outputs": [
    {
     "name": "stdout",
     "output_type": "stream",
     "text": [
      "Passed sanity check: built 'expr' is the same as the stored Expression.\n"
     ]
    }
   ],
   "source": [
    "# check that the built expression is the same as the stored expression\n",
    "%check_expr"
   ]
  },
  {
   "cell_type": "code",
   "execution_count": 4,
   "metadata": {},
   "outputs": [
    {
     "data": {
      "text/html": [
       "<table><tr><th>&nbsp;</th><th>core type</th><th>sub-expressions</th><th>expression</th></tr>\n",
       "<tr><td>0</td><td>ExprTuple</td><td>1, 2</td><td><a class=\"ProveItLink\" href=\"expr.ipynb\"><img src=\"data:image/png;base64,iVBORw0KGgoAAAANSUhEUgAAAFAAAAAVBAMAAAAjqnRBAAAAMFBMVEX////c3NwiIiJERESqqqqY\n",
       "mJh2dnZmZmYQEBDu7u4yMjJUVFTMzMyIiIi6uroAAAAs73DqAAAAAXRSTlMAQObYZgAAASpJREFU\n",
       "KM9jYCAa8F0grIb1AZA4TYxpNUC8khiFXAwMvBeIUciawMAxgRiFnA0Mr4jzsglDGZAUuy1yHeEC\n",
       "VB4UpDMsBZqbwKrKocDAVgCxBYUHBIdBhBdDHwMDGwPvB5YDDHwCYHFkngMQH98EEn3B8A9oBgO3\n",
       "AZK7kXhghhOIOA9SyMDAgeImBA9ZYQuIkj/AMIHvMkwawUMofMFgCgxNgfsMvBPm8gsArUXmISuM\n",
       "AvqbwT/AgkGWQRIoMF8BmYesMJ3hEQPD5GvTcgMYGGwZGGZ8ROJxr1rVtWotVOE6Bg4BmG9/HmBg\n",
       "eMiAzEOYCIxCYHRDAMsCICuAAZmHUMh2AZHMGG0FkBSCeWCFYutrGRhmARnSSCHIixbD8JDfCNKL\n",
       "J0FugBlwgAEAB1xM+HB5HBgAAAAASUVORK5CYII=\n",
       "\" style=\"display:inline;vertical-align:middle;\" /></a></td></tr>\n",
       "<tr><td>1</td><td>Indexed</td><td>var:&nbsp;3<br>index:&nbsp;7<br>base:&nbsp;\"1\"<br></td><td><a class=\"ProveItLink\" href=\"../127e2672b9e15357081dea9d6be7c1baeefff4740/expr.ipynb\"><img src=\"data:image/png;base64,iVBORw0KGgoAAAANSUhEUgAAABIAAAAMBAMAAACdPPCPAAAAMFBMVEX///8yMjK6urpERETMzMwQ\n",
       "EBAiIiKYmJju7u5mZmaqqqpUVFSIiIh2dnbc3NwAAADpJKkdAAAAAXRSTlMAQObYZgAAAGVJREFU\n",
       "CNdjYHh7+tXJAwxAwHGBPZ01gYF3AgMvA88HLgcGpgcMHAzcBgxQwHoAxnrvwNDAdJiBgf3BeQae\n",
       "hh7+BwzrC0wZ3jC8WMbA0Hy2904BA4MNTC3HDwcoi0vgApTFZ/MAAK+WGmnxFh5bAAAAAElFTkSu\n",
       "QmCC\n",
       "\" style=\"display:inline;vertical-align:middle;\" /></a></td></tr>\n",
       "<tr><td>2</td><td>Indexed</td><td>var:&nbsp;3<br>index:&nbsp;4<br>base:&nbsp;\"1\"<br></td><td><a class=\"ProveItLink\" href=\"../fb0981b585b74d0ee80abab19955b8a1996bd7820/expr.ipynb\"><img src=\"data:image/png;base64,iVBORw0KGgoAAAANSUhEUgAAACYAAAAOBAMAAACx7HPGAAAAMFBMVEX///8yMjK6urpERETMzMwQ\n",
       "EBAiIiKYmJju7u5mZmaqqqpUVFSIiIh2dnbc3NwAAADpJKkdAAAAAXRSTlMAQObYZgAAAIxJREFU\n",
       "GNNjYHh7+tXJAwwogOMCezprAgPvBJiAMwMDLwPPBy4HBqYHQO4CIPbcBlTHwG0AUwJmLAMRrAcw\n",
       "xd47MDQwHUYWY39wnoGnoYf/AZLY+gJThjcML5Yhq2s+23ungIHBhoFbUDBQUAZqHtiVPxxQ7AAB\n",
       "LoELGGJ8NjA73srPQfGnAQMm2AChALi5Ji5fzmDgAAAAAElFTkSuQmCC\n",
       "\" style=\"display:inline;vertical-align:middle;\" /></a></td></tr>\n",
       "<tr><td>3</td><td>Variable</td><td></td><td><a class=\"ProveItLink\" href=\"../../../../__pv_it/530be409e3083890784cf1d7b28c9e67e90af9360/expr.ipynb\"><img src=\"data:image/png;base64,iVBORw0KGgoAAAANSUhEUgAAAAsAAAAJBAMAAAAWSsseAAAAKlBMVEX///9ERETMzMwQEBAiIiKY\n",
       "mJju7u5mZmaqqqpUVFSIiIh2dnbc3NwAAAA/vyDhAAAAAXRSTlMAQObYZgAAAENJREFUCNdjYDi9\n",
       "8sTyBQxsG1hdmR0YuBm4LnAoMLAxcAowgADzAjB1VoEhgYH1wFoGrgSG3gBhhlMMDImrs3cFMAAA\n",
       "t0YN+iTRa+sAAAAASUVORK5CYII=\n",
       "\" style=\"display:inline;vertical-align:middle;\" /></a></td></tr>\n",
       "<tr><td>4</td><td>Operation</td><td>operator:&nbsp;5<br>operands:&nbsp;6<br></td><td><a class=\"ProveItLink\" href=\"../d8d38c33dfc174f9e17443c24b3b94de1c1f78770/expr.ipynb\"><img src=\"data:image/png;base64,iVBORw0KGgoAAAANSUhEUgAAACoAAAAQBAMAAACSDPCjAAAAMFBMVEX///+YmJjc3NxUVFQQEBAi\n",
       "IiKqqqrMzMy6urpmZmZ2dnbu7u6IiIgyMjJEREQAAADwIkbYAAAAAXRSTlMAQObYZgAAAGlJREFU\n",
       "GNNjYGB4y4AGXoOIN2iC+34jcbgVIPRmY2RRtgNQBg9OUe6VC7CIcnF8wCJaxhmARXQDywFstuVv\n",
       "ABKcd+9e9b171wAuepkbi1qmH1xYRNk+KGIz9w2abZxT/k7E4jcUwIEkCgAJbytx1d/bDQAAAABJ\n",
       "RU5ErkJggg==\n",
       "\" style=\"display:inline;vertical-align:middle;\" /></a></td></tr>\n",
       "<tr><td>5</td><td>Literal</td><td></td><td><a class=\"ProveItLink\" href=\"../../../addition/__pv_it/3e6688136fa3c7aefbebe51301b7c3ebf0b69c440/expr.ipynb\"><img src=\"data:image/png;base64,iVBORw0KGgoAAAANSUhEUgAAAA4AAAAOBAMAAADtZjDiAAAAJFBMVEX///+6urpUVFQQEBAiIiIy\n",
       "MjJmZmaIiIiqqqrc3Nzu7u4AAACgHpL+AAAAAXRSTlMAQObYZgAAAB5JREFUCNdjYGBgWMkAAe2k\n",
       "0Kmhoc6hoUGk6BMHYgAHOwjcado9fwAAAABJRU5ErkJggg==\n",
       "\" style=\"display:inline;vertical-align:middle;\" /></a></td></tr>\n",
       "<tr><td>6</td><td>ExprTuple</td><td>7, 8</td><td><a class=\"ProveItLink\" href=\"../39901d17c8fad5fa7413f85edbbc9efc582a0d860/expr.ipynb\"><img src=\"data:image/png;base64,iVBORw0KGgoAAAANSUhEUgAAACcAAAAVBAMAAAA3P+qgAAAAMFBMVEX////c3NwiIiJERESqqqqY\n",
       "mJh2dnZmZmYQEBDu7u4yMjJUVFTMzMyIiIi6uroAAAAs73DqAAAAAXRSTlMAQObYZgAAANJJREFU\n",
       "GNNjYMAK+C6g8uNAxGkgtoKJWDIwsB8A0iuB2BYqNvknkFjAwMCLpHv2bpBgGAMDxwQk83hBgjMY\n",
       "GF4xoAsyOzCUMTBwpicgC7IVMCwFknwfkAVZFjD0MTAcYVdAFuRrYPjHwDCB4wKyIM8HkCCD/wQ0\n",
       "wRYgtZoTTbspAwPjPzYGToQg6wKGdKB1H0QZ5isgO+kRyOsXGGZ8BNLsFb9KGRi4HjBwCECMewj3\n",
       "FtCbrFDfBMAFc6FBhyzICQw6BmmIvXCF3CDzGNGi4w4DAwCmyDWiT+4rGQAAAABJRU5ErkJggg==\n",
       "\" style=\"display:inline;vertical-align:middle;\" /></a></td></tr>\n",
       "<tr><td>7</td><td>Variable</td><td></td><td><a class=\"ProveItLink\" href=\"../../../../__pv_it/4cc43b4ba7e5ae9f0f864f240ab9735c1604d8200/expr.ipynb\"><img src=\"data:image/png;base64,iVBORw0KGgoAAAANSUhEUgAAAAcAAAAOBAMAAAARcxsoAAAAMFBMVEX///+YmJjc3NxUVFQQEBAi\n",
       "IiKqqqrMzMy6urpmZmZ2dnbu7u6IiIgyMjJEREQAAADwIkbYAAAAAXRSTlMAQObYZgAAADtJREFU\n",
       "CNdjYGB4ywAEbxjQAffKBQwMXBwfGBjKOAMYGDawHAAK5m8AEpe5GRiYfnAxMLB9UARpPcAAAFud\n",
       "DDeiFOVzAAAAAElFTkSuQmCC\n",
       "\" style=\"display:inline;vertical-align:middle;\" /></a></td></tr>\n",
       "<tr><td>8</td><td>Literal</td><td></td><td><a class=\"ProveItLink\" href=\"../../../numeral/__pv_it/9be8badea4c35b9724062cecc501d17a3158d1d20/expr.ipynb\"><img src=\"data:image/png;base64,iVBORw0KGgoAAAANSUhEUgAAAAgAAAAPBAMAAAArJJMAAAAAHlBMVEX///+YmJgyMjIQEBBmZmaI\n",
       "iIhUVFTu7u5EREQAAAAw+MI4AAAAAXRSTlMAQObYZgAAACFJREFUCNdjYGBoZ2BgqJjOwFCWBiQY\n",
       "WEklWJwnOTKAAACjEQo8HvEr3AAAAABJRU5ErkJggg==\n",
       "\" style=\"display:inline;vertical-align:middle;\" /></a></td></tr>\n",
       "</table>\n"
      ],
      "text/plain": [
       "0. (x_i , x_(i + 1))\n",
       "   core type: ExprTuple\n",
       "   sub-expressions: 1, 2\n",
       "1. x_i\n",
       "   core type: Indexed\n",
       "   var: 3\n",
       "   index: 7\n",
       "   base: \"1\"\n",
       "2. x_(i + 1)\n",
       "   core type: Indexed\n",
       "   var: 3\n",
       "   index: 4\n",
       "   base: \"1\"\n",
       "3. x\n",
       "   core type: Variable\n",
       "   sub-expressions: \n",
       "4. i + 1\n",
       "   core type: Operation\n",
       "   operator: 5\n",
       "   operands: 6\n",
       "5. +\n",
       "   core type: Literal\n",
       "   sub-expressions: \n",
       "6. (i , 1)\n",
       "   core type: ExprTuple\n",
       "   sub-expressions: 7, 8\n",
       "7. i\n",
       "   core type: Variable\n",
       "   sub-expressions: \n",
       "8. 1\n",
       "   core type: Literal\n",
       "   sub-expressions: "
      ]
     },
     "execution_count": 4,
     "metadata": {},
     "output_type": "execute_result"
    }
   ],
   "source": [
    "# display the expression information\n",
    "expr.exprInfo()"
   ]
  },
  {
   "cell_type": "code",
   "execution_count": null,
   "metadata": {},
   "outputs": [],
   "source": []
  }
 ],
 "metadata": {
  "kernelspec": {
   "display_name": "Python 3",
   "language": "python",
   "name": "python3"
  }
 },
 "nbformat": 4,
 "nbformat_minor": 0
}
