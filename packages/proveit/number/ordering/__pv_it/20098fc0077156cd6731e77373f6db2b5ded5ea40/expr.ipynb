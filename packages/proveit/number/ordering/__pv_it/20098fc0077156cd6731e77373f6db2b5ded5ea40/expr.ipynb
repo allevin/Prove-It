{
 "cells": [
  {
   "cell_type": "markdown",
   "metadata": {},
   "source": [
    "Expression of type <a class=\"ProveItLink\" href=\"../../../../../../doc/html/api/proveit.ExprTuple.html\">ExprTuple</a>\n",
    "=======================\n",
    "# from context <a class=\"ProveItLink\" href=\"../../_context_.ipynb\">proveit.number.ordering</a>"
   ]
  },
  {
   "cell_type": "code",
   "execution_count": 1,
   "metadata": {},
   "outputs": [],
   "source": [
    "# import Expression classes needed to build the expression\n",
    "from proveit import ExprTuple\n",
    "from proveit._common_ import c, d\n",
    "from proveit.logic import InSet\n",
    "from proveit.number import GreaterEq, Reals"
   ]
  },
  {
   "cell_type": "code",
   "execution_count": 2,
   "metadata": {},
   "outputs": [
    {
     "data": {
      "text/html": [
       "<strong id=\"expr\">expr:</strong> <a class=\"ProveItLink\" href=\"expr.ipynb\"><img src=\"data:image/png;base64,iVBORw0KGgoAAAANSUhEUgAAAHgAAAAVBAMAAAB/IDdlAAAAMFBMVEX////c3NwiIiJERESqqqqY\n",
       "mJh2dnZmZmYQEBDu7u4yMjJUVFTMzMyIiIi6uroAAAAs73DqAAAAAXRSTlMAQObYZgAAAgBJREFU\n",
       "OMtjYKAI8F0gTx/rAyBxGmyCRQGyRNRn+1VdeA193M5QA6RWgjn8DihyBtIMh70EUIQmZaJwvzBw\n",
       "MTDwQix4PwFVszgD80QDVMu8CpE9+5OBNYGBA6IrCUzOXaSkBdPMdsAA3al7EGw2BQbOBoZXEM5y\n",
       "EMGzdALCZkzNDIft4EwuYBiZMJQBWYx7876ARIQnIDmbG+ZszrS7B6DC0uug9LX3wDBKZ1gKZL8Q\n",
       "YP4JEjNE9vOjKGiAnXjApQATF9cBe7iRwR5ojxdDH9DirwzsC0BWINxpIKGkBQ1/zl4G5gCYeFAl\n",
       "iJQPYKgC2cnwj4GB+wMDUwLIwCYlJXiAPWeG+gEoCwOclyDRtZ+BQQ1InQdp5jdgmA9KLjwbkJzN\n",
       "/gbK44e7hzMJmm4+M3D+A2tuAbriAoM/A9AeTgVkP6+8CmHKw1IaYxHU9Yx/GVg+cIKcbcrAMN+B\n",
       "YRcLKEC3Ims+zX2AgRNkM1ALSBfjLlgi5PzCwL3AB5iIgeHNwBXAos4GToEPkDSzORgyzAe6hbsA\n",
       "GOWgeIRLAmPIqSABFFWPQNF87/A9sHuWH4BnDBuGxesdZnwEcsru3kRLLNJ339gCjVrHwIGc/Fl2\n",
       "QUMbBh7iyVjA5MmagC/nBeCRY7sAy5KENQspgYAeQmAWyAN49PLiM3gjKJTILIZ4DzAAABcNfUC1\n",
       "IPQ9AAAAAElFTkSuQmCC\n",
       "\" style=\"display:inline;vertical-align:middle;\" /></a><br>"
      ],
      "text/plain": [
       "expr: (d in Reals , c >= d)"
      ]
     },
     "execution_count": 2,
     "metadata": {},
     "output_type": "execute_result"
    }
   ],
   "source": [
    "# build up the expression from sub-expressions\n",
    "expr = ExprTuple(InSet(d, Reals), GreaterEq(c, d))"
   ]
  },
  {
   "cell_type": "code",
   "execution_count": 3,
   "metadata": {},
   "outputs": [
    {
     "name": "stdout",
     "output_type": "stream",
     "text": [
      "Passed sanity check: built 'expr' is the same as the stored Expression.\n"
     ]
    }
   ],
   "source": [
    "# check that the built expression is the same as the stored expression\n",
    "%check_expr"
   ]
  },
  {
   "cell_type": "code",
   "execution_count": 4,
   "metadata": {},
   "outputs": [
    {
     "data": {
      "text/html": [
       "<table><tr><th>&nbsp;</th><th>core type</th><th>sub-expressions</th><th>expression</th></tr>\n",
       "<tr><td>0</td><td>ExprTuple</td><td>1, 2</td><td><a class=\"ProveItLink\" href=\"expr.ipynb\"><img src=\"data:image/png;base64,iVBORw0KGgoAAAANSUhEUgAAAHgAAAAVBAMAAAB/IDdlAAAAMFBMVEX////c3NwiIiJERESqqqqY\n",
       "mJh2dnZmZmYQEBDu7u4yMjJUVFTMzMyIiIi6uroAAAAs73DqAAAAAXRSTlMAQObYZgAAAgBJREFU\n",
       "OMtjYKAI8F0gTx/rAyBxGmyCRQGyRNRn+1VdeA193M5QA6RWgjn8DihyBtIMh70EUIQmZaJwvzBw\n",
       "MTDwQix4PwFVszgD80QDVMu8CpE9+5OBNYGBA6IrCUzOXaSkBdPMdsAA3al7EGw2BQbOBoZXEM5y\n",
       "EMGzdALCZkzNDIft4EwuYBiZMJQBWYx7876ARIQnIDmbG+ZszrS7B6DC0uug9LX3wDBKZ1gKZL8Q\n",
       "YP4JEjNE9vOjKGiAnXjApQATF9cBe7iRwR5ojxdDH9DirwzsC0BWINxpIKGkBQ1/zl4G5gCYeFAl\n",
       "iJQPYKgC2cnwj4GB+wMDUwLIwCYlJXiAPWeG+gEoCwOclyDRtZ+BQQ1InQdp5jdgmA9KLjwbkJzN\n",
       "/gbK44e7hzMJmm4+M3D+A2tuAbriAoM/A9AeTgVkP6+8CmHKw1IaYxHU9Yx/GVg+cIKcbcrAMN+B\n",
       "YRcLKEC3Ims+zX2AgRNkM1ALSBfjLlgi5PzCwL3AB5iIgeHNwBXAos4GToEPkDSzORgyzAe6hbsA\n",
       "GOWgeIRLAmPIqSABFFWPQNF87/A9sHuWH4BnDBuGxesdZnwEcsru3kRLLNJ339gCjVrHwIGc/Fl2\n",
       "QUMbBh7iyVjA5MmagC/nBeCRY7sAy5KENQspgYAeQmAWyAN49PLiM3gjKJTILIZ4DzAAABcNfUC1\n",
       "IPQ9AAAAAElFTkSuQmCC\n",
       "\" style=\"display:inline;vertical-align:middle;\" /></a></td></tr>\n",
       "<tr><td>1</td><td>Operation</td><td>operator:&nbsp;3<br>operands:&nbsp;4<br></td><td><a class=\"ProveItLink\" href=\"../714f20798ff0fb8b803aa839e922edd909d0aae10/expr.ipynb\"><img src=\"data:image/png;base64,iVBORw0KGgoAAAANSUhEUgAAADMAAAAPBAMAAAC7N+rPAAAAMFBMVEX////MzMyYmJiIiIhUVFTc\n",
       "3NwyMjIiIiJ2dnbu7u6qqqpmZmYQEBBERES6uroAAABkyy6XAAAAAXRSTlMAQObYZgAAANZJREFU\n",
       "GNNjYGBg4LuzgQEJqP29n3bMAMrhX4AsxXAhhEF2WQCE/X4CqlQ0A+/UCxB2O5jkNCsvT4BKcQhA\n",
       "pbLBpJgmQhdEitW57xdIgPUmkoEsYAPfBPD+BAnwBiBJPVcD8lg/MXCDbZiLcEZMeRnIzSwfGNgb\n",
       "QAJvysvhznjNC3Iz/wWG+Q9AAiJIjud+6ACk4w0Y1jOA1ExH9lemEZCev4DBjUsAZLICkpQIC1CI\n",
       "TYGrmgPs4zokKY4FV0HespO1A4uEbYQH70WG3HyUcF2SDnEhFAAAeqxBW4KlCKcAAAAASUVORK5C\n",
       "YII=\n",
       "\" style=\"display:inline;vertical-align:middle;\" /></a></td></tr>\n",
       "<tr><td>2</td><td>Operation</td><td>operator:&nbsp;5<br>operands:&nbsp;6<br></td><td><a class=\"ProveItLink\" href=\"../763ec02b51c79fdb64106fb43a3aacf90ac2b9df0/expr.ipynb\"><img src=\"data:image/png;base64,iVBORw0KGgoAAAANSUhEUgAAADAAAAARBAMAAABp3DInAAAAMFBMVEX///+qqqpmZmbc3NxUVFSY\n",
       "mJhEREQiIiIyMjK6uroQEBDMzMyIiIh2dnbu7u4AAAA4MM1YAAAAAXRSTlMAQObYZgAAALxJREFU\n",
       "GNNjYMAKpi2CM5/fQ5H5iGBKKCOJc/5D1u6NYPMWIGvflglncigwMPDdPbMByjXphNJn5wswMOya\n",
       "wAHXZ1QNtmAxQ/4DBr41DGwBMIlwPRBpH8CgwcDA8gFuMN9xiJP9GRhqGRj4E+Di1w9AGN8Y+H4C\n",
       "9UF5DMzqUBOZ/zAwfuBj4AdyQSLMHgIwnR8ZWBqkGVgUGHhBzjWbALerlUFc4QIDg+6Zc2ghaHJm\n",
       "ds4EBvKBeTkIVML5AIWkK5dUs18wAAAAAElFTkSuQmCC\n",
       "\" style=\"display:inline;vertical-align:middle;\" /></a></td></tr>\n",
       "<tr><td>3</td><td>Literal</td><td></td><td><a class=\"ProveItLink\" href=\"../../../../logic/set_theory/membership/__pv_it/088cbc857536a28d4119ad9639a84270ccb0545d0/expr.ipynb\"><img src=\"data:image/png;base64,iVBORw0KGgoAAAANSUhEUgAAAAwAAAAMBAMAAACkW0HUAAAALVBMVEX///+qqqpmZmZUVFQQEBC6\n",
       "urpERETc3NyYmJjMzMwiIiIyMjKIiIju7u4AAACYsrA9AAAAAXRSTlMAQObYZgAAADxJREFUCNdj\n",
       "YOA9vWrVBgaG2b0MQMCeCyIZ2ArA1DUwyRCyahVIyWQI7xaEYm4AU7xLIdxqTQgtvGvVBgCkcQ7e\n",
       "geM/tQAAAABJRU5ErkJggg==\n",
       "\" style=\"display:inline;vertical-align:middle;\" /></a></td></tr>\n",
       "<tr><td>4</td><td>ExprTuple</td><td>9, 7</td><td><a class=\"ProveItLink\" href=\"../ce3f1d4f5f0a6bbcaff814df02491308fe5c5c140/expr.ipynb\"><img src=\"data:image/png;base64,iVBORw0KGgoAAAANSUhEUgAAAC8AAAAVBAMAAAAk6KpUAAAAMFBMVEX////c3NwiIiJERESqqqqY\n",
       "mJh2dnZmZmYQEBDu7u4yMjJUVFTMzMyIiIi6uroAAAAs73DqAAAAAXRSTlMAQObYZgAAASFJREFU\n",
       "KM9jYMAJ+C5gisWBiNNgWYsCEBX12X5VF1Ah+wEgZyVYDb8DmDKQZjjsJcDAsICBgRdi0vsJEAlx\n",
       "BuaJBgwMYQwMHBCRJAaYBNsBoMQMBoZXEJHlqBLMDgxlQC7j3rwvcAlukFFsBQxLgdwXAsw/4RKP\n",
       "ooCWsyxg6ANq+MrAvgAqIaGkBXIfXwPDPwYG7g8MTAkwHc+ZQa7h+QCS4DdgmP8AJsH+ZgNEooWB\n",
       "Qf4Cgz8D3B8rr0KMMmVgmO/AsIvlACdU4jQ3MDxYFzCkMzBwBbCoszHMV4D6w8EQ7NxHIG/cO3yP\n",
       "YcZHcCDaMCxe78DA9YCBQwAW1g+Rwh0YJKwJME4AkkQuPNhRJThB/pWGcniRNHCDzGfEErV3GBgA\n",
       "zw9HwKhYSLoAAAAASUVORK5CYII=\n",
       "\" style=\"display:inline;vertical-align:middle;\" /></a></td></tr>\n",
       "<tr><td>5</td><td>Literal</td><td></td><td><a class=\"ProveItLink\" href=\"../96143560a3dbc26f943e0a126972c9bfadab3fc50/expr.ipynb\"><img src=\"data:image/png;base64,iVBORw0KGgoAAAANSUhEUgAAAA4AAAARBAMAAAAf5oCsAAAALVBMVEX///+IiIiYmJjMzMxUVFRE\n",
       "RES6urrc3NxmZmYyMjKqqqp2dnYiIiLu7u4AAACqGg1VAAAAAXRSTlMAQObYZgAAAEFJREFUCNdj\n",
       "YICCO3uhjJXtUEaqM5RhGgZllEyDMioOQ2idXhDJKwPWy7tHAESx9yiAKc8FYCWlCQx4Qc0ZEDgG\n",
       "ALzAEHC/pigGAAAAAElFTkSuQmCC\n",
       "\" style=\"display:inline;vertical-align:middle;\" /></a></td></tr>\n",
       "<tr><td>6</td><td>ExprTuple</td><td>8, 9</td><td><a class=\"ProveItLink\" href=\"../1f4efc3b7a909d0274ff36f0d19c7c06c2e6ff420/expr.ipynb\"><img src=\"data:image/png;base64,iVBORw0KGgoAAAANSUhEUgAAACkAAAAVBAMAAAAp9toTAAAAMFBMVEX////c3NwiIiJERESqqqqY\n",
       "mJh2dnZmZmYQEBDu7u4yMjJUVFTMzMyIiIi6uroAAAAs73DqAAAAAXRSTlMAQObYZgAAAQNJREFU\n",
       "GNNjYMAO+C6gCcSBiNOoaiwK2A8A6ZWoKvkdGBYwMPCiGfB+AkMYAwPHBFTRJAaGGQwMr9DsWs7A\n",
       "wOzAUAZkcabdPQAWYtyb94WBga2AYSmQc+IBlwJY9IUA808GBpYFDH1Apb0MzAFgpV8Z2IEO4Gtg\n",
       "+MfAwP0BaiaQwZTAwMDzASTKbwBzqwHD/Adg0RYGBnmYk4EMf4YJIBNMgUqAhgZwAkXnOzDsYjnA\n",
       "wLqAIR1oXAED24H5QFdwBbCos4Fd9giopuzuTYYZH0HOvXf4HlDyAQOHANTQh3DvAX3MmgBlB8BF\n",
       "c5FCEi7KCfQIgzSEzQtXyg0ykxE9hu4wMAAA/os7cGgwRtcAAAAASUVORK5CYII=\n",
       "\" style=\"display:inline;vertical-align:middle;\" /></a></td></tr>\n",
       "<tr><td>7</td><td>Literal</td><td></td><td><a class=\"ProveItLink\" href=\"../../../sets/real/__pv_it/9e7645ee1117062e179dd6264898f99ed95b157c0/expr.ipynb\"><img src=\"data:image/png;base64,iVBORw0KGgoAAAANSUhEUgAAAA8AAAAOBAMAAAACpFvcAAAAMFBMVEX///8iIiK6urp2dnbu7u5m\n",
       "ZmaqqqrMzMxUVFTc3NyIiIgQEBBEREQyMjKYmJgAAAA9nvXMAAAAAXRSTlMAQObYZgAAAFJJREFU\n",
       "CNdjePvn/N29CxiA4MAMhprcCSDGVAYezwMQBnMBOoMDJqX4Fqx4tqBsAlj7VFUeBwiDVb0BwmC4\n",
       "sg7KqOAogJqTcJKBAWjpcYY79xMAyqEnfsw4ApEAAAAASUVORK5CYII=\n",
       "\" style=\"display:inline;vertical-align:middle;\" /></a></td></tr>\n",
       "<tr><td>8</td><td>Variable</td><td></td><td><a class=\"ProveItLink\" href=\"../../../../__pv_it/cbdfda466482236edba0ce44ac7ef39cda0af7a40/expr.ipynb\"><img src=\"data:image/png;base64,iVBORw0KGgoAAAANSUhEUgAAAAkAAAAJBAMAAAASvxsjAAAALVBMVEX///9mZmbc3NxUVFSYmJhE\n",
       "REQiIiIyMjK6uroQEBDMzMyIiIh2dnbu7u4AAABgFDGoAAAAAXRSTlMAQObYZgAAADZJREFUCNdj\n",
       "YOA9s3sBA8PKBvYEBt7ZDKwODMwPGICALwBE6m0Asx0YGIDiAgw8QJUyu/cyAAAmuwmycZ8WfQAA\n",
       "AABJRU5ErkJggg==\n",
       "\" style=\"display:inline;vertical-align:middle;\" /></a></td></tr>\n",
       "<tr><td>9</td><td>Variable</td><td></td><td><a class=\"ProveItLink\" href=\"../../../../__pv_it/3a5de44ed6135dbbdbbeec6704c741e238f127300/expr.ipynb\"><img src=\"data:image/png;base64,iVBORw0KGgoAAAANSUhEUgAAAAsAAAAOBAMAAAALT/umAAAAMFBMVEX////MzMyYmJiIiIhUVFTc\n",
       "3NwyMjIiIiJ2dnbu7u6qqqpmZmYQEBBERES6uroAAABkyy6XAAAAAXRSTlMAQObYZgAAAFhJREFU\n",
       "CNdjYGBg4LuzgQEE+BeAqfcTwFQ7mGTIBmJW575fQOpNAO9PIOcTA3cCAwPLBwb2BqCeCwzzHzAw\n",
       "xBswrGeYwDB/AYMblwADmwJXNQdIm52sHQMAfyoTCZukXIEAAAAASUVORK5CYII=\n",
       "\" style=\"display:inline;vertical-align:middle;\" /></a></td></tr>\n",
       "</table>\n"
      ],
      "text/plain": [
       "0. (d in Reals , c >= d)\n",
       "   core type: ExprTuple\n",
       "   sub-expressions: 1, 2\n",
       "1. d in Reals\n",
       "   core type: Operation\n",
       "   operator: 3\n",
       "   operands: 4\n",
       "2. c >= d\n",
       "   core type: Operation\n",
       "   operator: 5\n",
       "   operands: 6\n",
       "3. in\n",
       "   core type: Literal\n",
       "   sub-expressions: \n",
       "4. (d , Reals)\n",
       "   core type: ExprTuple\n",
       "   sub-expressions: 9, 7\n",
       "5. >=\n",
       "   core type: Literal\n",
       "   sub-expressions: \n",
       "6. (c , d)\n",
       "   core type: ExprTuple\n",
       "   sub-expressions: 8, 9\n",
       "7. Reals\n",
       "   core type: Literal\n",
       "   sub-expressions: \n",
       "8. c\n",
       "   core type: Variable\n",
       "   sub-expressions: \n",
       "9. d\n",
       "   core type: Variable\n",
       "   sub-expressions: "
      ]
     },
     "execution_count": 4,
     "metadata": {},
     "output_type": "execute_result"
    }
   ],
   "source": [
    "# display the expression information\n",
    "expr.exprInfo()"
   ]
  },
  {
   "cell_type": "code",
   "execution_count": null,
   "metadata": {},
   "outputs": [],
   "source": []
  }
 ],
 "metadata": {
  "kernelspec": {
   "display_name": "Python 3",
   "language": "python",
   "name": "python3"
  }
 },
 "nbformat": 4,
 "nbformat_minor": 0
}
