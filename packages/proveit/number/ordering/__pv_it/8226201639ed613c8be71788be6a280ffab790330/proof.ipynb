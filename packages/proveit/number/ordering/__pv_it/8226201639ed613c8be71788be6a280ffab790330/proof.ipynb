{
 "cells": [
  {
   "cell_type": "markdown",
   "metadata": {},
   "source": [
    "Show the Proof\n",
    "========"
   ]
  },
  {
   "cell_type": "code",
   "execution_count": 1,
   "metadata": {},
   "outputs": [
    {
     "data": {
      "text/html": [
       "<table><tr><th>&nbsp;</th><th>step type</th><th>requirements</th><th>statement</th></tr>\n",
       "<tr><td>0</td><td>specialization</td><td>1, 2</td><td><span style=\"font-size:20px;\"> <a class=\"ProveItLink\" href=\"proof.ipynb\" style=\"text-decoration: none\">&#x22A2;&nbsp;</a><a class=\"ProveItLink\" href=\"../0a4aa31928b144967b2d90939a178b704f7407010/expr.ipynb\"><img src=\"data:image/png;base64,iVBORw0KGgoAAAANSUhEUgAAAD4AAAAZBAMAAACbRoD5AAAAMFBMVEX////c3NwiIiJERESqqqqY\n",
       "mJh2dnZmZmYQEBDu7u4yMjJUVFTMzMyIiIi6uroAAAAs73DqAAAAAXRSTlMAQObYZgAAASFJREFU\n",
       "KM9jYMAD0q7jk2XgTeDbgE+e6QDDT3zy8ycwqOCTPz+BQZeBge8C6wPs8u/B8qcZGGrQJLI+r1+h\n",
       "7ADVv5KBgQtdp8FbzpVpDPMFGFoYeC8wMLAmYMgz3ONi4DjA8JGBYwIDA2cDRHjuIiUtmLwr9wSg\n",
       "/w0YXoH4JmBRnqUTkPQLMzDcvT6BoQzETweLCk9AmM+jaglhLgURXmCmIcL+R/o/LkCYfSDiBYjg\n",
       "NEB2311nCPMfOKRABF+TkhLCfcx8CWjyPBuQ9TMzQIxrQZivgE3eFEREgZlbUeSh5qcj/DfpAZJ8\n",
       "+GUI8xGIWAdmMi4/AI8fo24HCJtDABG+LLug7kcCoLhhu4AnlQDjdxa+VCTNwLARnzzjBd4DuGUB\n",
       "VdRPvh/umVQAAAAASUVORK5CYII=\n",
       "\" style=\"display:inline;vertical-align:middle;\" /></a></span></td></tr>\n",
       "<tr><td>&nbsp;</td><td colspan=4 style=\"text-align:left\"><span style=\"font-size:20px;\"><a class=\"ProveItLink\" href=\"../../../../__pv_it/530be409e3083890784cf1d7b28c9e67e90af9360/expr.ipynb\"><img src=\"data:image/png;base64,iVBORw0KGgoAAAANSUhEUgAAAAsAAAAJBAMAAAAWSsseAAAAKlBMVEX///9ERETMzMwQEBAiIiKY\n",
       "mJju7u5mZmaqqqpUVFSIiIh2dnbc3NwAAAA/vyDhAAAAAXRSTlMAQObYZgAAAENJREFUCNdjYDi9\n",
       "8sTyBQxsG1hdmR0YuBm4LnAoMLAxcAowgADzAjB1VoEhgYH1wFoGrgSG3gBhhlMMDImrs3cFMAAA\n",
       "t0YN+iTRa+sAAAAASUVORK5CYII=\n",
       "\" style=\"display:inline;vertical-align:middle;\" /></a> : <a class=\"ProveItLink\" href=\"../feb17bb8e989ce470672228f3fb01ca3e9677f560/expr.ipynb\"><img src=\"data:image/png;base64,iVBORw0KGgoAAAANSUhEUgAAAAwAAAAVBAMAAACAghKHAAAAMFBMVEX////c3NwiIiJERESqqqqY\n",
       "mJh2dnZmZmYQEBDu7u4yMjJUVFTMzMyIiIi6uroAAAAs73DqAAAAAXRSTlMAQObYZgAAAG1JREFU\n",
       "CNdjYIACvgusD4DUaQaGGiC1koGBi4GB9wIDA2sCA8cEBgbOBoZXIGUmDGUgKp1hKYjyYugDUS8Y\n",
       "/oGo8zCqBSJoCqKigGrBGh6BqHUMHAJgw4DGMrBdAFs0CyguzcCwEUgxXuA9wAAApdcX/S64IkwA\n",
       "AAAASUVORK5CYII=\n",
       "\" style=\"display:inline;vertical-align:middle;\" /></a>, <a class=\"ProveItLink\" href=\"../../../../__pv_it/abeee18594afe51bfb1be95d9591fbba24ac53f30/expr.ipynb\"><img src=\"data:image/png;base64,iVBORw0KGgoAAAANSUhEUgAAAA0AAAAOBAMAAAAGUYvhAAAAMFBMVEX///8iIiIQEBCIiIjMzMzc\n",
       "3Nyqqqp2dnZEREQyMjK6urru7u5mZmZUVFSYmJgAAACI6eGPAAAAAXRSTlMAQObYZgAAAF1JREFU\n",
       "CNdjYGDgu3Nm3wIGBoZ5DNz9QIq3gIEhE0jHOzAwOAPp9QkMDC4g/megABAw///fCmbEXfq0Acxg\n",
       "qH8ANAVI7wfSe0BKAyBGnAXigwYMzA1A+sLau31ACgAz0hhbkhGHbwAAAABJRU5ErkJggg==\n",
       "\" style=\"display:inline;vertical-align:middle;\" /></a> : <a class=\"ProveItLink\" href=\"../../../../logic/boolean/__pv_it/46271c8230be96415d662709611f4ed2279d702b0/expr.ipynb\"><img src=\"data:image/png;base64,iVBORw0KGgoAAAANSUhEUgAAAA0AAAAOBAMAAAAGUYvhAAAAMFBMVEX///9mZmbMzMzc3NxUVFSY\n",
       "mJju7u6IiIi6urqqqqoiIiIQEBBEREQyMjJ2dnYAAAAQvcRZAAAAAXRSTlMAQObYZgAAAElJREFU\n",
       "CNdjePvn/u01ExgYGA60s117B6YZKngh9FSWBAjfBsxnWnoMRHet/10AkS+fA6F5OB5AaIYDqDRU\n",
       "PLCGgQFoz6ktExgAgLIl8DFvGtkAAAAASUVORK5CYII=\n",
       "\" style=\"display:inline;vertical-align:middle;\" /></a></span></td></tr><tr><td>1</td><td>theorem</td><td></td><td><span style=\"font-size:20px;\"> <a class=\"ProveItLink\" href=\"../../../../logic/set_theory/membership/_proofs_/exp_set_0.ipynb\" style=\"text-decoration: none\">&#x22A2;&nbsp;</a><a class=\"ProveItLink\" href=\"../8924d41c8781fd39076749072b03dddc7f5326e60/expr.ipynb\"><img src=\"data:image/png;base64,iVBORw0KGgoAAAANSUhEUgAAALkAAAAcBAMAAADPUgMyAAAAMFBMVEX///8QEBC6urrMzMxUVFRm\n",
       "ZmZERETc3NwyMjKqqqp2dnaIiIiYmJgiIiLu7u4AAAAU9Wx4AAAAAXRSTlMAQObYZgAAAsVJREFU\n",
       "SMe1VktoE1EUPclkMs1nxuCuihrBnYtEsOBGElqJ4ioi0UVBsmqFgkQQ2404S0EtAe1GN91ZUwgB\n",
       "W1FbbJCKC1GLOz+BWWUhSAOFFiE03vdmMp8045iEXsi8d++bnLnvvnPPDLAfVlrG/llk3p8eEMIf\n",
       "d12Sk9hFeCD00+5Lmxq+QRgkfWXWfS2l4QewQjOtT/RA1X0twdHlArDB3I+9o990ia/nrr3Tc49Q\n",
       "aZ6z0Gzv6Lnu4aEq6o3NAoapdrvAbQpJ+d7RD3YPXwRCqi+JHZr/pIdR4cViz+BCw3HEr2o1lU2k\n",
       "LVqqEN9ZvleA6LPp6Tt9NEzM7p353G6CP4SexMoyI8sX+m1PTHzvgzKUqrR4/uk4z/hGOyy1Xjio\n",
       "gzFg0oqMlFaTbNQb0WjH+F79CBIhfuFT9Qh3Cub/11rbppMipBNQVKu9s0jwSd52bQ92/RjKAvNY\n",
       "wyPm1K3spPVjR9vzu5SVjIjVGDIl4o7O9cOYZlkjZnTneK1mnCpZuGkKApElUpU1u0JE3dG5fljo\n",
       "wOFOyaE8laY9d0Vli4ujS6ze8qE4HOjhpZNjJrreg3pl0jr/FOb8NplJz5R2THSGODlK29EyPkZ6\n",
       "5VKr6EAvB/LDNFy4R1ZJWOgBuuFDpIG3Ds0JUXlEUxsT7HznSGr8eGCEbsUc6HFq7W65RzYQagZj\n",
       "UoWn/NWIirT80iwT4zt8/A6+HyUOpeGs+4GCre5cP3RyNaBMlUurujdz2diR/1zGosgCu0TZoQox\n",
       "ge2sCCHvRD+FJA3XeWUM/eC25Wiuxw9r6p6Ou28SP6yGMVMQ8+3OMNCFxgLR2sb3vE2uvN4vZib1\n",
       "1+NlpKriSO6qgzPK1NwbzUQ39IPbWU/0aIfy2l43Xflut6CnrspJp6oWekCXVC/09x1bQQ/oeOIB\n",
       "/q9XUtp2Rddvh6hHacR+vwf+2/4CT52+tsPanZ8AAAAASUVORK5CYII=\n",
       "\" style=\"display:inline;vertical-align:middle;\" /></a></span></td></tr>\n",
       "<tr><td>&nbsp;</td><td colspan=4 style-\"text-align:left\"><a class=\"ProveItLink\" href=\"../../../../logic/set_theory/membership/_proofs_/exp_set_0.ipynb\">proveit.logic.set_theory.membership.exp_set_0</a></td></tr><tr><td>2</td><td>axiom</td><td></td><td><span style=\"font-size:20px;\"> <a class=\"ProveItLink\" href=\"../../../sets/integer/_axioms_.ipynb#listLen0\" style=\"text-decoration: none\">&#x22A2;&nbsp;</a><a class=\"ProveItLink\" href=\"../f4fb33e8104331fea9e4ca2941072e40ec3270230/expr.ipynb\"><img src=\"data:image/png;base64,iVBORw0KGgoAAAANSUhEUgAAAD8AAAAVBAMAAAADRiu8AAAAMFBMVEX///8iIiJERESYmJhmZmYQ\n",
       "EBDu7u4yMjJUVFTMzMyIiIi6urp2dnbc3NyqqqoAAABw9lLDAAAAAXRSTlMAQObYZgAAAOJJREFU\n",
       "KM9jeMsAB0hMJHAaiLkXMG+AMrErmMHA4IlFAZvXkgkQ0TIGBnYsChg3sEmCRbkWMDAwH8BUsJCB\n",
       "YTlYlDUBaFwApgIJBob9F0Ci20E8PUwFXxgY5j8AifqAeEcwFPD+ASpYABItBnGfQxW4l4NABUzB\n",
       "AZBoNEhiK3YTwAp+g7jz8ViBQwHYkQYg0ThkKxwFQUAI6s33YG8qg3jmWAPqIFj0CHZvMjA+YIsE\n",
       "i24E8aqxRJbPCkhksV7AHtTw6AZFFM8CfOkBGN3peBPMDQaGXpwKVoPCbAHXBCgTAwAAmd9UpKMO\n",
       "UQUAAAAASUVORK5CYII=\n",
       "\" style=\"display:inline;vertical-align:middle;\" /></a></span></td></tr>\n",
       "<tr><td>&nbsp;</td><td colspan=4 style-\"text-align:left\"><a class=\"ProveItLink\" href=\"../../../sets/integer/_axioms_.ipynb#listLen0\">proveit.number.sets.integer.listLen0</a></td></tr></table>"
      ],
      "text/plain": [
       "<proveit._core_.proof._ShowProof at 0x7f94eae521d0>"
      ]
     },
     "execution_count": 1,
     "metadata": {},
     "output_type": "execute_result"
    }
   ],
   "source": [
    "import proveit\n",
    "%show_proof"
   ]
  },
  {
   "cell_type": "code",
   "execution_count": null,
   "metadata": {},
   "outputs": [],
   "source": []
  }
 ],
 "metadata": {
  "kernelspec": {
   "display_name": "Python 3",
   "language": "python",
   "name": "python3"
  }
 },
 "nbformat": 4,
 "nbformat_minor": 0
}
