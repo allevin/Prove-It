{
 "cells": [
  {
   "cell_type": "markdown",
   "metadata": {},
   "source": [
    "Expression of type <a class=\"ProveItLink\" href=\"../../../../../../doc/html/api/proveit.logic.InSet.html\">InSet</a>\n",
    "=======================\n",
    "# from context <a class=\"ProveItLink\" href=\"../../_context_.ipynb\">proveit.number.ordering</a>"
   ]
  },
  {
   "cell_type": "code",
   "execution_count": 1,
   "metadata": {},
   "outputs": [],
   "source": [
    "# import Expression classes needed to build the expression\n",
    "from proveit import Variable\n",
    "from proveit._common_ import v, w, x, y, z\n",
    "from proveit.logic import InSet\n",
    "from proveit.number import Exp, Reals"
   ]
  },
  {
   "cell_type": "code",
   "execution_count": 2,
   "metadata": {},
   "outputs": [
    {
     "data": {
      "text/html": [
       "<strong id=\"expr\">expr:</strong> <a class=\"ProveItLink\" href=\"expr.ipynb\"><img src=\"data:image/png;base64,iVBORw0KGgoAAAANSUhEUgAAALYAAAAVBAMAAAAZVgl3AAAAMFBMVEX////c3NwiIiJERESqqqqY\n",
       "mJh2dnZmZmYQEBDu7u4yMjJUVFTMzMyIiIi6uroAAAAs73DqAAAAAXRSTlMAQObYZgAAAnxJREFU\n",
       "OMutlEtoE1EUhv80z2kyY6BFhVIaAm7qJsUnVDErC90kSwmIgy6CQsGFGqiiRboQQb1aULEUQQkl\n",
       "LjQu3IiLAbsodOFsWimlNHZTEaWp4k7F+5xcMmIz4oVJ/nvm3G8OZ/45wH9fsZUvb6S03KCHo42/\n",
       "3j6bzE1KuRC8sitt+9K3Y89ueiU2uotK1oKzu9sDuT68HU2r3Q6lTDc4O2q3s3chfDendvNwhEiQ\n",
       "4GxjQvzPPMkOKnbMkexU8xzksz/9ixX2C0qVtOpm7AeVSiVvHB1ZIgZVF3CJllG2jVuioLKNEk6I\n",
       "fu1c6X3veuEBwbFuNPqBMtc9ROtJstUTb1WpIa2msZdv4lYTwyjkOdCO7klkhGNpeE2k95ysUMYo\n",
       "10N6v9dLaR/7NjAXz2CEb5j6jjB/FTGYzYjjhfeJdIJpWu1H/vBWobnd2cG8v3W/aH7CxZw4mXBT\n",
       "W5TKjyKpDrOEn1KH6vTnHW/P9WzWe5cbYfJHNgoEy2K3ScwJyaYW8uxZIKkfUm5AsVN1rSfxz3U/\n",
       "m32e41CuGUe4jl55a8ABUWFT2i7CE0VPMnq/a4t+9gF6HYLl0B7QNYwuGy7X0fQaTCLos+yRXB0H\n",
       "aIElfvSVzl5IOj42s9MZzACPM1zNnw8VuS4UD6MfxleWdBmbRa5S1YulhvLgvYbGjuWHfOx1ek2P\n",
       "0enycIuZcGz54KLQU0v3adi4w6w1tXotzVUcp1gTn4vXOut4s+oInr7wOSXh2fKDFm1pS9w/7Snt\n",
       "m4+8lj7Zdu4UtWhLR+mVzBiTQsnp3+l8q23P7rLDts5+1Onc6VPDVotpmpUYWb0qlVgvO2WHAg9w\n",
       "0+ks7zfPAZ1rgNH4NgAAAABJRU5ErkJggg==\n",
       "\" style=\"display:inline;vertical-align:middle;\" /></a><br>"
      ],
      "text/plain": [
       "expr: (v , w , x , y , z) in Reals^{_x_}"
      ]
     },
     "execution_count": 2,
     "metadata": {},
     "output_type": "execute_result"
    }
   ],
   "source": [
    "# build up the expression from sub-expressions\n",
    "expr = InSet([v, w, x, y, z], Exp(Reals, Variable(\"_x_\", latexFormat = r\"{_{-}x_{-}}\")))"
   ]
  },
  {
   "cell_type": "code",
   "execution_count": 3,
   "metadata": {},
   "outputs": [
    {
     "name": "stdout",
     "output_type": "stream",
     "text": [
      "Passed sanity check: built 'expr' is the same as the stored Expression.\n"
     ]
    }
   ],
   "source": [
    "# check that the built expression is the same as the stored expression\n",
    "%check_expr"
   ]
  },
  {
   "cell_type": "code",
   "execution_count": 4,
   "metadata": {},
   "outputs": [
    {
     "data": {
      "text/html": [
       "<table><tr><th>&nbsp;</th><th>core type</th><th>sub-expressions</th><th>expression</th></tr>\n",
       "<tr><td>0</td><td>Operation</td><td>operator:&nbsp;1<br>operands:&nbsp;2<br></td><td><a class=\"ProveItLink\" href=\"expr.ipynb\"><img src=\"data:image/png;base64,iVBORw0KGgoAAAANSUhEUgAAALYAAAAVBAMAAAAZVgl3AAAAMFBMVEX////c3NwiIiJERESqqqqY\n",
       "mJh2dnZmZmYQEBDu7u4yMjJUVFTMzMyIiIi6uroAAAAs73DqAAAAAXRSTlMAQObYZgAAAnxJREFU\n",
       "OMutlEtoE1EUhv80z2kyY6BFhVIaAm7qJsUnVDErC90kSwmIgy6CQsGFGqiiRboQQb1aULEUQQkl\n",
       "LjQu3IiLAbsodOFsWimlNHZTEaWp4k7F+5xcMmIz4oVJ/nvm3G8OZ/45wH9fsZUvb6S03KCHo42/\n",
       "3j6bzE1KuRC8sitt+9K3Y89ueiU2uotK1oKzu9sDuT68HU2r3Q6lTDc4O2q3s3chfDendvNwhEiQ\n",
       "4GxjQvzPPMkOKnbMkexU8xzksz/9ixX2C0qVtOpm7AeVSiVvHB1ZIgZVF3CJllG2jVuioLKNEk6I\n",
       "fu1c6X3veuEBwbFuNPqBMtc9ROtJstUTb1WpIa2msZdv4lYTwyjkOdCO7klkhGNpeE2k95ysUMYo\n",
       "10N6v9dLaR/7NjAXz2CEb5j6jjB/FTGYzYjjhfeJdIJpWu1H/vBWobnd2cG8v3W/aH7CxZw4mXBT\n",
       "W5TKjyKpDrOEn1KH6vTnHW/P9WzWe5cbYfJHNgoEy2K3ScwJyaYW8uxZIKkfUm5AsVN1rSfxz3U/\n",
       "m32e41CuGUe4jl55a8ABUWFT2i7CE0VPMnq/a4t+9gF6HYLl0B7QNYwuGy7X0fQaTCLos+yRXB0H\n",
       "aIElfvSVzl5IOj42s9MZzACPM1zNnw8VuS4UD6MfxleWdBmbRa5S1YulhvLgvYbGjuWHfOx1ek2P\n",
       "0enycIuZcGz54KLQU0v3adi4w6w1tXotzVUcp1gTn4vXOut4s+oInr7wOSXh2fKDFm1pS9w/7Snt\n",
       "m4+8lj7Zdu4UtWhLR+mVzBiTQsnp3+l8q23P7rLDts5+1Onc6VPDVotpmpUYWb0qlVgvO2WHAg9w\n",
       "0+ks7zfPAZ1rgNH4NgAAAABJRU5ErkJggg==\n",
       "\" style=\"display:inline;vertical-align:middle;\" /></a></td></tr>\n",
       "<tr><td>1</td><td>Literal</td><td></td><td><a class=\"ProveItLink\" href=\"../../../../logic/set_theory/membership/__pv_it/088cbc857536a28d4119ad9639a84270ccb0545d0/expr.ipynb\"><img src=\"data:image/png;base64,iVBORw0KGgoAAAANSUhEUgAAAAwAAAAMBAMAAACkW0HUAAAALVBMVEX///+qqqpmZmZUVFQQEBC6\n",
       "urpERETc3NyYmJjMzMwiIiIyMjKIiIju7u4AAACYsrA9AAAAAXRSTlMAQObYZgAAADxJREFUCNdj\n",
       "YOA9vWrVBgaG2b0MQMCeCyIZ2ArA1DUwyRCyahVIyWQI7xaEYm4AU7xLIdxqTQgtvGvVBgCkcQ7e\n",
       "geM/tQAAAABJRU5ErkJggg==\n",
       "\" style=\"display:inline;vertical-align:middle;\" /></a></td></tr>\n",
       "<tr><td>2</td><td>ExprTuple</td><td>3, 4</td><td><a class=\"ProveItLink\" href=\"../57fc78f9016f176cb29be2392894e33d6257ecb20/expr.ipynb\"><img src=\"data:image/png;base64,iVBORw0KGgoAAAANSUhEUgAAALsAAAAVBAMAAADsqILHAAAAMFBMVEX////c3NwiIiJERESqqqqY\n",
       "mJh2dnZmZmYQEBDu7u4yMjJUVFTMzMyIiIi6uroAAAAs73DqAAAAAXRSTlMAQObYZgAAAoNJREFU\n",
       "OMutVE1o1EAUftvsX3aTuLDeRFwET14K9YdaBE/2omz0IFJQg4qlYiAH60LFdSk9eKkGBFkoxS1Y\n",
       "1IO44knoYQ89FHrJpULR4upFEKRbtRep4pt5k+xkyaIBH3zMy5dvvsy8eRmA/xzpd1+X5GfDI8SM\n",
       "i334ifzgjCxZFYgZmZZIUi+Hfj57EfDtnBmSPBeIGw0/URJN7dBCwO8qyBLdI8SOc117B4aLAb8C\n",
       "LUmSdQmxoy7b31DEg9a5DpYk+QKE2KGcCNurlUrlJqjHR9+6lHLJLRwQ6rilznI1ZjAG56mCCfvV\n",
       "6TsBvY92adxr78UOdCT7N8XIJnVgEQdE2uioB+m8jQ6MQJnW9gjOmtMkRfoDzSpeqAwCJBtde+PA\n",
       "QpQ9Su7jgFjOlGCUcyzbBoXOx0LLUwE9RLNcmMNtGLXAfnr/k8j6oeQ3Dgg368EyTc562hakfafX\n",
       "QsoEv0SeaPJDDOyrznCkPUqEPZRdWCdy09Vrvj3ArJ+UXW1HpJ8hbO9UV/vZsz+YYQr8hpoCpQm7\n",
       "/YXugOrTuihH0hI7D+xz82af4hzGgeEoGC1yGoEBCzxWGIAzegc3xemn7Ks8OwmA1Uk1gDRorzWX\n",
       "ouxRMo4DwxWYB3hc4tmKkzBB/Ybr3FZqCY/o27Bp8kxbnBxrU2MyDW/Mq0ohujE/4cAwZ+P+6lus\n",
       "M+31I2s49UEBf5KJa2uCfrhxt8CzDFxi1cy1SYNX2vdW7tiPCHuUZPGz2eDTH+XKdRdE9OWQoN6j\n",
       "ib43UhaBQj6hVDdFOl9SZ0ICu0cTEXbvhdzffsBSLFmgNv5qzyV7BFjo8tvuLc3o5EY1JMgXwpqI\n",
       "4BLsDI6Y8f6fJH8A9ZyvGvrWXBQAAAAASUVORK5CYII=\n",
       "\" style=\"display:inline;vertical-align:middle;\" /></a></td></tr>\n",
       "<tr><td>3</td><td>ExprTuple</td><td>5, 6, 7, 8, 9</td><td><a class=\"ProveItLink\" href=\"../feeb8bffd4bce6989c88b94c9c66a8dd7e1cf9c10/expr.ipynb\"><img src=\"data:image/png;base64,iVBORw0KGgoAAAANSUhEUgAAAG0AAAAVBAMAAAC+p33JAAAAMFBMVEX////c3NwiIiJERESqqqqY\n",
       "mJh2dnZmZmYQEBDu7u4yMjJUVFTMzMyIiIi6uroAAAAs73DqAAAAAXRSTlMAQObYZgAAAchJREFU\n",
       "OMudU88rRFEYPc+bZ+Yx75mSlWRWNjZKskDNig3NY2GhMFFkMTUpowhDU2yGqSkpydtIdiP/gIWd\n",
       "hdkoymTYKBtDLNSQ7/4Y3iws5t3Fveeed853v3vf9wFuh5mr2jLBpsvqj/Ke03TiIkcbMHIufKOA\n",
       "L+3Ctwc8u3lLNYQ4oM9G9JQgduPQbG2dYyV6OrTCEQnQKvIytwotQG0MRzSbRb1d+GIvULOedxED\n",
       "I9YGRyTAvRA0ji92AB4b28CFN4gBzvpD82iw0Ms3EdIOcsQEncKXxj4dbCbwTdiXw4VICClcBcgh\n",
       "JGfyOkzwJbGSZfGLzIdwGreyeD5xA+kDUuV3CKf9JQmfIHxJWpZ+pV4bPVBCMnSJEuBjCUZCIA8X\n",
       "Up5dtHTDPBcSNYs2GCxHYNgoUhqcPmYfOOoHKFHNxixtpnEAHAbZy3X4N9EE/Y0if6gJJSfoZbxY\n",
       "HPmPFsYK/D88Er0ftagGXlm8eD5DG30nAL1vbuZa0pn8WoAjLybZxeoK8AXKl39wNtcvK+mpCgHV\n",
       "mVZ+PFgOn/YHia4P6skKQdTZR//7aiJqxCnQqY/QLDeGs3D/movRnvxqhaCe3UKpvgHvgB9Asm5L\n",
       "toimkwAAAABJRU5ErkJggg==\n",
       "\" style=\"display:inline;vertical-align:middle;\" /></a></td></tr>\n",
       "<tr><td>4</td><td>Operation</td><td>operator:&nbsp;10<br>operands:&nbsp;11<br></td><td><a class=\"ProveItLink\" href=\"../ee201aaaa878524886b5b2c229188380a2a449e30/expr.ipynb\"><img src=\"data:image/png;base64,iVBORw0KGgoAAAANSUhEUgAAAC4AAAAQBAMAAACb51DZAAAAMFBMVEX///8iIiK6urp2dnbu7u5m\n",
       "ZmaqqqrMzMxUVFTc3NyIiIgQEBBEREQyMjKYmJgAAAA9nvXMAAAAAXRSTlMAQObYZgAAAI9JREFU\n",
       "GNNjYEABzCu02hmwABOOA9sgrLd/zt/duwAmrsD7AMY8MIOhJncCjMcPZx2YysDjeQDGq2YoQIgz\n",
       "F0DF2T/YMhigiruGhoYmsJxKXezAAmSFgcU5EOYgAFBc8e0ELOKzBWUTGLCpV+VxwCrOqt6AVZzh\n",
       "yjrs4hUcBVjFmRNOYggDw+04w5376C4CACcjM5q8jkMbAAAAAElFTkSuQmCC\n",
       "\" style=\"display:inline;vertical-align:middle;\" /></a></td></tr>\n",
       "<tr><td>5</td><td>Variable</td><td></td><td><a class=\"ProveItLink\" href=\"../../../../__pv_it/5811dd9d8dc299df1f3b81f9eaa4740e636c675a0/expr.ipynb\"><img src=\"data:image/png;base64,iVBORw0KGgoAAAANSUhEUgAAAAoAAAAJBAMAAAD5iKAgAAAALVBMVEX///+YmJhEREQyMjKqqqrM\n",
       "zMxUVFQiIiK6urqIiIgQEBBmZmZ2dnbu7u4AAABVoMxuAAAAAXRSTlMAQObYZgAAAD9JREFUCNdj\n",
       "4D19gHclAw/HA94yhhDuAgZvhgtcExhCGBj8LjDMZWDYzMBwgIFBm4EjgIHhEMNNBgaGaycFGACC\n",
       "yA2Zs1YJSAAAAABJRU5ErkJggg==\n",
       "\" style=\"display:inline;vertical-align:middle;\" /></a></td></tr>\n",
       "<tr><td>6</td><td>Variable</td><td></td><td><a class=\"ProveItLink\" href=\"../../../../__pv_it/75e452494c4801e076f090988fd69716611d31190/expr.ipynb\"><img src=\"data:image/png;base64,iVBORw0KGgoAAAANSUhEUgAAAA8AAAAJBAMAAAAfoWtkAAAAMFBMVEX///+IiIgiIiLMzMyqqqpU\n",
       "VFRERES6urrc3NwQEBAyMjKYmJhmZmZ2dnbu7u4AAADdI688AAAAAXRSTlMAQObYZgAAAFRJREFU\n",
       "CNdj4LtzgWEXw84GBh72DwypDP4ODCY8Cgy/GdgMGB5wCjD/YOBlYGCof8A4Acw4xcAWwNACZKQy\n",
       "MF1gEAAyrjFYHuDYAGTwXJTLlWZgAAAtGRIpnQ418wAAAABJRU5ErkJggg==\n",
       "\" style=\"display:inline;vertical-align:middle;\" /></a></td></tr>\n",
       "<tr><td>7</td><td>Variable</td><td></td><td><a class=\"ProveItLink\" href=\"../../../../__pv_it/530be409e3083890784cf1d7b28c9e67e90af9360/expr.ipynb\"><img src=\"data:image/png;base64,iVBORw0KGgoAAAANSUhEUgAAAAsAAAAJBAMAAAAWSsseAAAAKlBMVEX///9ERETMzMwQEBAiIiKY\n",
       "mJju7u5mZmaqqqpUVFSIiIh2dnbc3NwAAAA/vyDhAAAAAXRSTlMAQObYZgAAAENJREFUCNdjYDi9\n",
       "8sTyBQxsG1hdmR0YuBm4LnAoMLAxcAowgADzAjB1VoEhgYH1wFoGrgSG3gBhhlMMDImrs3cFMAAA\n",
       "t0YN+iTRa+sAAAAASUVORK5CYII=\n",
       "\" style=\"display:inline;vertical-align:middle;\" /></a></td></tr>\n",
       "<tr><td>8</td><td>Variable</td><td></td><td><a class=\"ProveItLink\" href=\"../../../../__pv_it/f8b9edf8e16034727f0aad55bb83e392c3db40d40/expr.ipynb\"><img src=\"data:image/png;base64,iVBORw0KGgoAAAANSUhEUgAAAAsAAAANBAMAAACN24kIAAAAMFBMVEX///+YmJhUVFQyMjIQEBBE\n",
       "REQiIiKqqqrMzMyIiIi6urrc3NxmZmZ2dnbu7u4AAADXeCicAAAAAXRSTlMAQObYZgAAAFhJREFU\n",
       "CNdj4LtzgWH/AwZerg8M8xkY2nkSGEIZGB6wTGD4ycDAUP+A4weQOszA6QCkbBhYFYDUIYb1AkDq\n",
       "6czzGxhA4BoQMyXwuQMptgusF4AU+8xTQBIAUqMVoSp/SLMAAAAASUVORK5CYII=\n",
       "\" style=\"display:inline;vertical-align:middle;\" /></a></td></tr>\n",
       "<tr><td>9</td><td>Variable</td><td></td><td><a class=\"ProveItLink\" href=\"../../../../__pv_it/251502494639118b4892de8e9d720a5fcce840e10/expr.ipynb\"><img src=\"data:image/png;base64,iVBORw0KGgoAAAANSUhEUgAAAAoAAAAJBAMAAAD5iKAgAAAALVBMVEX///8yMjLMzMx2dnaqqqpU\n",
       "VFTu7u5mZmaYmJhERESIiIjc3NwQEBC6uroAAAB+iRisAAAAAXRSTlMAQObYZgAAADlJREFUCNdj\n",
       "YOA9c2EXA8POrvIJDAwJDKkJDAwM3AFAguE6iGAxAJHODAwBDEwSFY0XGNgZ+o4wAABKtAsIcBKm\n",
       "agAAAABJRU5ErkJggg==\n",
       "\" style=\"display:inline;vertical-align:middle;\" /></a></td></tr>\n",
       "<tr><td>10</td><td>Literal</td><td></td><td><a class=\"ProveItLink\" href=\"../../../exponentiation/__pv_it/deb2bf23cbccdd6e6791e1b35b5b9794ce12dbd50/expr.ipynb\"><img src=\"data:image/png;base64,iVBORw0KGgoAAAANSUhEUgAAACgAAAASBAMAAADbMYGVAAAAMFBMVEX///8QEBAiIiKYmJjc3Nzu\n",
       "7u7MzMx2dnZmZma6urpERESqqqoyMjJUVFSIiIgAAAAoDOMTAAAAAXRSTlMAQObYZgAAAOBJREFU\n",
       "GNNjYGB4+//u3Tt/GNAASGAXmhjnPyDBgSbI/g1IxKEJ8nxgYGdgQRPkX8BgDKRY6q7s62OYvmze\n",
       "2wAgb/7ZO1+AVDiDkYEQQ0HTBr4DQF59AgOIKmB4z7CNbcNZBu6vQN55kEACQwDDLQYGVobfDHwg\n",
       "fb8YGBxYHwAZciD3fWXg+gB1JjvQcJZvQIXsCgz8F6DO9GBgMOH7wPCUgaeBwd4B7EwGNjUG7s9c\n",
       "AiwPgO5jkWRgiF3/9+5dfQUG1nWl5Y+B7pv+1gE9bBhqGLCAE1jEWH9jEbT5A3IwAC4sP/1L6Qlu\n",
       "AAAAAElFTkSuQmCC\n",
       "\" style=\"display:inline;vertical-align:middle;\" /></a></td></tr>\n",
       "<tr><td>11</td><td>ExprTuple</td><td>12, 13</td><td><a class=\"ProveItLink\" href=\"../a0cae750df6f8919a364689bdcceb7e98ef9f35b0/expr.ipynb\"><img src=\"data:image/png;base64,iVBORw0KGgoAAAANSUhEUgAAAEwAAAAVBAMAAAAeOBUnAAAAMFBMVEX////c3NwiIiJERESqqqqY\n",
       "mJh2dnZmZmYQEBDu7u4yMjJUVFTMzMyIiIi6uroAAAAs73DqAAAAAXRSTlMAQObYZgAAARdJREFU\n",
       "KM9jYCAS8F0gpIL1AZA4zRD12X5VFz7FNUC8koHBQJrhsJcAbmVcDAy8QGMMxBmYJxrgsTWBgWMC\n",
       "WBnbATzKOBsYXjEQVsZgwlAGUcaNZqnYbZHrCF+lMyyFKHsUheIFzgRWVQ4FONeLoQ+kTEJJywHF\n",
       "MDYG3g8sB+DcFwz/wKY9Z56A6mgGbmRHnIcqY3+zAc3VHBdQlLVA3LbyKpoy+QMME5AsNYUoO819\n",
       "AGgTIkAF7jPwIpRFAf0KCTcHQ4b5CK/5B1gwyDIgBcgjBlDU2zAsXu8w4yMDA4sxEFgyTL42LTcA\n",
       "xmFgWMfAgRReD3FHFjBa4SAAhzK2C+CEREjZLCCWhvN4ccX8RiBmJJjIeQ8wAABwnUJE29a3JAAA\n",
       "AABJRU5ErkJggg==\n",
       "\" style=\"display:inline;vertical-align:middle;\" /></a></td></tr>\n",
       "<tr><td>12</td><td>Literal</td><td></td><td><a class=\"ProveItLink\" href=\"../../../sets/real/__pv_it/9e7645ee1117062e179dd6264898f99ed95b157c0/expr.ipynb\"><img src=\"data:image/png;base64,iVBORw0KGgoAAAANSUhEUgAAAA8AAAAOBAMAAAACpFvcAAAAMFBMVEX///8iIiK6urp2dnbu7u5m\n",
       "ZmaqqqrMzMxUVFTc3NyIiIgQEBBEREQyMjKYmJgAAAA9nvXMAAAAAXRSTlMAQObYZgAAAFJJREFU\n",
       "CNdjePvn/N29CxiA4MAMhprcCSDGVAYezwMQBnMBOoMDJqX4Fqx4tqBsAlj7VFUeBwiDVb0BwmC4\n",
       "sg7KqOAogJqTcJKBAWjpcYY79xMAyqEnfsw4ApEAAAAASUVORK5CYII=\n",
       "\" style=\"display:inline;vertical-align:middle;\" /></a></td></tr>\n",
       "<tr><td>13</td><td>Variable</td><td></td><td><a class=\"ProveItLink\" href=\"../5144cf74ae6a683b49b974f1b9302b432abf7e930/expr.ipynb\"><img src=\"data:image/png;base64,iVBORw0KGgoAAAANSUhEUgAAACUAAAAJBAMAAABH3vh9AAAAKlBMVEX////MzMwQEBAiIiKYmJhm\n",
       "ZmZUVFSIiIh2dnbc3Nzu7u5ERESqqqoAAABwkVEpAAAAAXRSTlMAQObYZgAAAEtJREFUCNdjYIAA\n",
       "zvbM4+EMqGAFg7ODMppYA0Mtw0E0sQUM2QyYQB1TiPMiAxeakCf7BYYqVCGeK9wKnAUw3undQLCA\n",
       "a3tXRwmMAwC3+RVNp6j0GAAAAABJRU5ErkJggg==\n",
       "\" style=\"display:inline;vertical-align:middle;\" /></a></td></tr>\n",
       "</table>\n"
      ],
      "text/plain": [
       "0. (v , w , x , y , z) in Reals^{_x_}\n",
       "   core type: Operation\n",
       "   operator: 1\n",
       "   operands: 2\n",
       "1. in\n",
       "   core type: Literal\n",
       "   sub-expressions: \n",
       "2. ((v , w , x , y , z) , Reals^{_x_})\n",
       "   core type: ExprTuple\n",
       "   sub-expressions: 3, 4\n",
       "3. (v , w , x , y , z)\n",
       "   core type: ExprTuple\n",
       "   sub-expressions: 5, 6, 7, 8, 9\n",
       "4. Reals^{_x_}\n",
       "   core type: Operation\n",
       "   operator: 10\n",
       "   operands: 11\n",
       "5. v\n",
       "   core type: Variable\n",
       "   sub-expressions: \n",
       "6. w\n",
       "   core type: Variable\n",
       "   sub-expressions: \n",
       "7. x\n",
       "   core type: Variable\n",
       "   sub-expressions: \n",
       "8. y\n",
       "   core type: Variable\n",
       "   sub-expressions: \n",
       "9. z\n",
       "   core type: Variable\n",
       "   sub-expressions: \n",
       "10. Exp\n",
       "    core type: Literal\n",
       "    sub-expressions: \n",
       "11. (Reals , _x_)\n",
       "    core type: ExprTuple\n",
       "    sub-expressions: 12, 13\n",
       "12. Reals\n",
       "    core type: Literal\n",
       "    sub-expressions: \n",
       "13. _x_\n",
       "    core type: Variable\n",
       "    sub-expressions: "
      ]
     },
     "execution_count": 4,
     "metadata": {},
     "output_type": "execute_result"
    }
   ],
   "source": [
    "# display the expression information\n",
    "expr.exprInfo()"
   ]
  },
  {
   "cell_type": "code",
   "execution_count": null,
   "metadata": {},
   "outputs": [],
   "source": []
  }
 ],
 "metadata": {
  "kernelspec": {
   "display_name": "Python 3",
   "language": "python",
   "name": "python3"
  }
 },
 "nbformat": 4,
 "nbformat_minor": 0
}
