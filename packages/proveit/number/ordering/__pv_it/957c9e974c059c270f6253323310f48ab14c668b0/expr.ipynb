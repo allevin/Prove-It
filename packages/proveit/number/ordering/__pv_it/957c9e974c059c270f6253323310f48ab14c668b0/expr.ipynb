{
 "cells": [
  {
   "cell_type": "markdown",
   "metadata": {},
   "source": [
    "Expression of type <a class=\"ProveItLink\" href=\"../../../../../../doc/html/api/proveit.ExprTuple.html\">ExprTuple</a>\n",
    "=======================\n",
    "# from context <a class=\"ProveItLink\" href=\"../../_context_.ipynb\">proveit.number.ordering</a>"
   ]
  },
  {
   "cell_type": "code",
   "execution_count": 1,
   "metadata": {},
   "outputs": [],
   "source": [
    "# import Expression classes needed to build the expression\n",
    "from proveit import ExprTuple\n",
    "from proveit._common_ import n, x\n",
    "from proveit.logic import InSet\n",
    "from proveit.number import Add, Exp, Reals, one"
   ]
  },
  {
   "cell_type": "code",
   "execution_count": 2,
   "metadata": {},
   "outputs": [
    {
     "data": {
      "text/html": [
       "<strong id=\"expr\">expr:</strong> <a class=\"ProveItLink\" href=\"expr.ipynb\"><img src=\"data:image/png;base64,iVBORw0KGgoAAAANSUhEUgAAAGIAAAAcBAMAAABoo3eMAAAAMFBMVEX///+qqqp2dnYiIiJERESI\n",
       "iIhmZmYQEBDc3NyYmJgyMjLu7u5UVFTMzMy6uroAAACGxKilAAAAAXRSTlMAQObYZgAAAbxJREFU\n",
       "OMtjYCAa8DoQr5aBEaQhxwDGfUdYBwtYG1CHAtiyAyTouANi7NqAR+m0uKADyDpYA4CMk3g0cM/7\n",
       "yWCLrIPBgoGBowCb0llf/FdVBTBwbF3A8ANFRwwDA1sCVtMdehiuSDUw8ATwFTCcWrV81aoAiI79\n",
       "GxjYH2DX0cbAssOBgf0CW8IDZDuYJzDcR1G4dbGxFUwH0wUHhn4G9nsXkHWwOTCEo0Tryg0IO0A6\n",
       "njCwaUL9waH1DRhQnB8YTgE5TTGNYaBgY2jZgOQqnh0OKPEBBny/GXyAYajAackOTgIeyP54PKsB\n",
       "xuNBuOIvwzIGBiYG1g+MF0DBj0hrDu3GVgJYQoTjH4MZUCEDD0QpX7GxMdznz1iwJQbujyAdDAzs\n",
       "AQxoScyhje3tAex2rAHR/RcYQAZyGyD7Y3UkNh1/GY4AQ6whnoEV7ISTyDru8FzA1MH3gyGYgUF+\n",
       "gjtDK5i/+QGSDiYBD0wdwPh4z8CwJWiT6gSIncsuwFOiL8OS9ZihxbSAgR/FasZT0LDCBbgCGHgU\n",
       "GEgB+xsYeA1I0jEFiB1J0gHKkV2kaOAE5T9GUjzSAiYnkqAjm4EMAABNumxPd5R6egAAAABJRU5E\n",
       "rkJggg==\n",
       "\" style=\"display:inline;vertical-align:middle;\" /></a><br>"
      ],
      "text/plain": [
       "expr: (x in Reals^{n + 1})"
      ]
     },
     "execution_count": 2,
     "metadata": {},
     "output_type": "execute_result"
    }
   ],
   "source": [
    "# build up the expression from sub-expressions\n",
    "expr = ExprTuple(InSet(x, Exp(Reals, Add(n, one))))"
   ]
  },
  {
   "cell_type": "code",
   "execution_count": 3,
   "metadata": {},
   "outputs": [
    {
     "name": "stdout",
     "output_type": "stream",
     "text": [
      "Passed sanity check: built 'expr' is the same as the stored Expression.\n"
     ]
    }
   ],
   "source": [
    "# check that the built expression is the same as the stored expression\n",
    "%check_expr"
   ]
  },
  {
   "cell_type": "code",
   "execution_count": 4,
   "metadata": {},
   "outputs": [
    {
     "data": {
      "text/html": [
       "<table><tr><th>&nbsp;</th><th>core type</th><th>sub-expressions</th><th>expression</th></tr>\n",
       "<tr><td>0</td><td>ExprTuple</td><td>1</td><td><a class=\"ProveItLink\" href=\"expr.ipynb\"><img src=\"data:image/png;base64,iVBORw0KGgoAAAANSUhEUgAAAGIAAAAcBAMAAABoo3eMAAAAMFBMVEX///+qqqp2dnYiIiJERESI\n",
       "iIhmZmYQEBDc3NyYmJgyMjLu7u5UVFTMzMy6uroAAACGxKilAAAAAXRSTlMAQObYZgAAAbxJREFU\n",
       "OMtjYCAa8DoQr5aBEaQhxwDGfUdYBwtYG1CHAtiyAyTouANi7NqAR+m0uKADyDpYA4CMk3g0cM/7\n",
       "yWCLrIPBgoGBowCb0llf/FdVBTBwbF3A8ANFRwwDA1sCVtMdehiuSDUw8ATwFTCcWrV81aoAiI79\n",
       "GxjYH2DX0cbAssOBgf0CW8IDZDuYJzDcR1G4dbGxFUwH0wUHhn4G9nsXkHWwOTCEo0Tryg0IO0A6\n",
       "njCwaUL9waH1DRhQnB8YTgE5TTGNYaBgY2jZgOQqnh0OKPEBBny/GXyAYajAackOTgIeyP54PKsB\n",
       "xuNBuOIvwzIGBiYG1g+MF0DBj0hrDu3GVgJYQoTjH4MZUCEDD0QpX7GxMdznz1iwJQbujyAdDAzs\n",
       "AQxoScyhje3tAex2rAHR/RcYQAZyGyD7Y3UkNh1/GY4AQ6whnoEV7ISTyDru8FzA1MH3gyGYgUF+\n",
       "gjtDK5i/+QGSDiYBD0wdwPh4z8CwJWiT6gSIncsuwFOiL8OS9ZihxbSAgR/FasZT0LDCBbgCGHgU\n",
       "GEgB+xsYeA1I0jEFiB1J0gHKkV2kaOAE5T9GUjzSAiYnkqAjm4EMAABNumxPd5R6egAAAABJRU5E\n",
       "rkJggg==\n",
       "\" style=\"display:inline;vertical-align:middle;\" /></a></td></tr>\n",
       "<tr><td>1</td><td>Operation</td><td>operator:&nbsp;2<br>operands:&nbsp;3<br></td><td><a class=\"ProveItLink\" href=\"../5682c116c30e55b400004c1c80832e4d0692fb090/expr.ipynb\"><img src=\"data:image/png;base64,iVBORw0KGgoAAAANSUhEUgAAAFMAAAAVBAMAAADInc9CAAAAMFBMVEX///+6uroyMjJERETMzMwQ\n",
       "EBAiIiKYmJju7u5mZmaqqqpUVFSIiIh2dnbc3NwAAAAWgogoAAAAAXRSTlMAQObYZgAAAR5JREFU\n",
       "KM9jYCAOsBgQo4oLpHJ2AjFKmcHqqaa08uDZDcQp5Sj8zpBCQGnRZ3uloAMMfD0KDP8ImWrwmsF5\n",
       "0QMG7gOMAQyblFSVlA7gVvqSgbnPgIHVgXOCAHZTe9TSkmBKeR0MGN4zsDo6YFXKot6AMBWkVJiB\n",
       "8zrUrXyXfh5gYHh7+tXJAyAFjxuQHMDdZ4ASruAgucCezgo23Q7ZrWJFD2A8bhiDl4HnA5cDSA8i\n",
       "QRg8TUtagCWgGbghahjD0tLg3pJkbsAWNKwHIL7agOQATpEN2JS+d2AAGcGRgOxWjeOYCtkfnGfg\n",
       "Adu2HVmpN7cDhtL1BaYMb8CsNgEkpbwL7DCUNp/tvVMAZvFpOsCTiwmDsv4CfDljEzQEsAMALBNN\n",
       "lZ+3rN0AAAAASUVORK5CYII=\n",
       "\" style=\"display:inline;vertical-align:middle;\" /></a></td></tr>\n",
       "<tr><td>2</td><td>Literal</td><td></td><td><a class=\"ProveItLink\" href=\"../../../../logic/set_theory/membership/__pv_it/088cbc857536a28d4119ad9639a84270ccb0545d0/expr.ipynb\"><img src=\"data:image/png;base64,iVBORw0KGgoAAAANSUhEUgAAAAwAAAAMBAMAAACkW0HUAAAALVBMVEX///+qqqpmZmZUVFQQEBC6\n",
       "urpERETc3NyYmJjMzMwiIiIyMjKIiIju7u4AAACYsrA9AAAAAXRSTlMAQObYZgAAADxJREFUCNdj\n",
       "YOA9vWrVBgaG2b0MQMCeCyIZ2ArA1DUwyRCyahVIyWQI7xaEYm4AU7xLIdxqTQgtvGvVBgCkcQ7e\n",
       "geM/tQAAAABJRU5ErkJggg==\n",
       "\" style=\"display:inline;vertical-align:middle;\" /></a></td></tr>\n",
       "<tr><td>3</td><td>ExprTuple</td><td>4, 5</td><td><a class=\"ProveItLink\" href=\"../41d8d135f7e53afac1f5d698832b5138d26b71520/expr.ipynb\"><img src=\"data:image/png;base64,iVBORw0KGgoAAAANSUhEUgAAAFIAAAAcBAMAAAAAUPW0AAAAMFBMVEX///+qqqp2dnYiIiJERESI\n",
       "iIhmZmYQEBDc3NyYmJgyMjLu7u5UVFTMzMy6uroAAACGxKilAAAAAXRSTlMAQObYZgAAAZJJREFU\n",
       "OMtjYCAIeB0Iq2FgBCnMMYBx3+FWyQJWDlSpADb8ABEq74AYuzZgUTItLugAskrWACDjJBaF3PN+\n",
       "Mtgiq2SwYGDgKEBWMuuL/6qqAAaOrQsYfqCojGFgYEtAMc2hh+GKVAMDTwBfAcOpVctXrQqAqNy/\n",
       "gYH9AarKNgaWHQ4M7BfYEh4gm8k8geE+A7pKpgsODP0M7PcuIKtkc2AIx6ryCQObJtSdHFrfgB7n\n",
       "/MBwCsRRPSGaClfJs8MBJTzBgO83gw+Q2sQweUIxXOXjWQ0weR5E5P9lWMYAiqt4BlmoynZjKwEs\n",
       "Iczxj8EMSG1gOIJw5zMWbJHG/RGskoGhFKGS7e0B7GauAdN/Gbjh7lwdiU3lX7C9M1g/MERD1AJV\n",
       "3uG5gKmS7wdDMDBof7IUcAQw7DeAhqeAB6ZKYHi+B7rWVVsJaOP2H+AU4suwZD2m75kWMPAjrHqB\n",
       "J59wBTDwKMB5E/Co3N/AwGtAlMopQOwI47Diy6WgHNBFRG5m4ASld0YFIlS2gMmJRKjMZiABAADq\n",
       "82PitkfchAAAAABJRU5ErkJggg==\n",
       "\" style=\"display:inline;vertical-align:middle;\" /></a></td></tr>\n",
       "<tr><td>4</td><td>Variable</td><td></td><td><a class=\"ProveItLink\" href=\"../../../../__pv_it/530be409e3083890784cf1d7b28c9e67e90af9360/expr.ipynb\"><img src=\"data:image/png;base64,iVBORw0KGgoAAAANSUhEUgAAAAsAAAAJBAMAAAAWSsseAAAAKlBMVEX///9ERETMzMwQEBAiIiKY\n",
       "mJju7u5mZmaqqqpUVFSIiIh2dnbc3NwAAAA/vyDhAAAAAXRSTlMAQObYZgAAAENJREFUCNdjYDi9\n",
       "8sTyBQxsG1hdmR0YuBm4LnAoMLAxcAowgADzAjB1VoEhgYH1wFoGrgSG3gBhhlMMDImrs3cFMAAA\n",
       "t0YN+iTRa+sAAAAASUVORK5CYII=\n",
       "\" style=\"display:inline;vertical-align:middle;\" /></a></td></tr>\n",
       "<tr><td>5</td><td>Operation</td><td>operator:&nbsp;6<br>operands:&nbsp;7<br></td><td><a class=\"ProveItLink\" href=\"../73676602be3d7722eb86a9878d1619b33cb2565e0/expr.ipynb\"><img src=\"data:image/png;base64,iVBORw0KGgoAAAANSUhEUgAAAC0AAAAUBAMAAADrQanMAAAAMFBMVEX///8iIiK6urp2dnbu7u5m\n",
       "ZmaqqqrMzMxUVFTc3NyIiIgQEBBEREQyMjKYmJgAAAA9nvXMAAAAAXRSTlMAQObYZgAAALFJREFU\n",
       "GNNjYMAC2A9gCLGBhCMEMMR5wJJEiD9dtLgBizjLo38M4sjib/+cv7t3AQOn1wWGnyjqD8xgqMmd\n",
       "wMCxgGkDQ+/d23fvLoCKT2Xg8TzAwF3AGqCAon4qA3PBAYb5DNxFBVjEdRhY7aDmc9p+XQAW5/A8\n",
       "gOJ+MACKK76dAONxIMRnC8omYAm8A1NVeRywirOqN2AVZ7iyDrt4BUcBVnHmhJMYwsBwO85w5z66\n",
       "iwBvZDte+dXvUQAAAABJRU5ErkJggg==\n",
       "\" style=\"display:inline;vertical-align:middle;\" /></a></td></tr>\n",
       "<tr><td>6</td><td>Literal</td><td></td><td><a class=\"ProveItLink\" href=\"../../../exponentiation/__pv_it/deb2bf23cbccdd6e6791e1b35b5b9794ce12dbd50/expr.ipynb\"><img src=\"data:image/png;base64,iVBORw0KGgoAAAANSUhEUgAAACgAAAASBAMAAADbMYGVAAAAMFBMVEX///8QEBAiIiKYmJjc3Nzu\n",
       "7u7MzMx2dnZmZma6urpERESqqqoyMjJUVFSIiIgAAAAoDOMTAAAAAXRSTlMAQObYZgAAAOBJREFU\n",
       "GNNjYGB4+//u3Tt/GNAASGAXmhjnPyDBgSbI/g1IxKEJ8nxgYGdgQRPkX8BgDKRY6q7s62OYvmze\n",
       "2wAgb/7ZO1+AVDiDkYEQQ0HTBr4DQF59AgOIKmB4z7CNbcNZBu6vQN55kEACQwDDLQYGVobfDHwg\n",
       "fb8YGBxYHwAZciD3fWXg+gB1JjvQcJZvQIXsCgz8F6DO9GBgMOH7wPCUgaeBwd4B7EwGNjUG7s9c\n",
       "AiwPgO5jkWRgiF3/9+5dfQUG1nWl5Y+B7pv+1gE9bBhqGLCAE1jEWH9jEbT5A3IwAC4sP/1L6Qlu\n",
       "AAAAAElFTkSuQmCC\n",
       "\" style=\"display:inline;vertical-align:middle;\" /></a></td></tr>\n",
       "<tr><td>7</td><td>ExprTuple</td><td>8, 9</td><td><a class=\"ProveItLink\" href=\"../180c8a65f616d06d34ba57b54651c467c8e859b80/expr.ipynb\"><img src=\"data:image/png;base64,iVBORw0KGgoAAAANSUhEUgAAAFUAAAAVBAMAAADFg78FAAAAMFBMVEX////c3NwiIiJERESqqqqY\n",
       "mJh2dnZmZmYQEBDu7u4yMjJUVFTMzMyIiIi6uroAAAAs73DqAAAAAXRSTlMAQObYZgAAAUxJREFU\n",
       "KM9jYCAF8F0gSlkciDjNEPXZflUXXh2WDAzsB4D0SgYGA2mGw14CuJVO/gkkFjAw8AINNBBnYJ5o\n",
       "gKGEE6p99m6Q2jAGBo4JYLVsBzDVssDcxQtSO4OB4RUDkWqZHRjKIGq5YW54ayh7OwGbWrYChqUQ\n",
       "tY+ioI5L2HWB8w82tSwLGPpAaiWUtBygof1AmYHzHza1fA0M/8DmPmeeAPU7UCHLT2xqeT5A1bK/\n",
       "2QDz0E8GbmBQMrCvWrWoa9WqDchqWyDuXXkVqpZ9AQN/wATsbjCFqD3NfYCBEyTOkcAQPyEBi1rW\n",
       "BQzp0PB1MGSYrwBkyz9gSGY5gD3MHjGA0o4Nw+L1DjM+AoVeMDAIX0H1G3vFr1IGBq4HDBxIaeYh\n",
       "jngDA2AcsyYguAH4UnYuJE3iUIua6EABKQ3n8uJL7twgtzISl4fuMDAAABXiZMRrTTrtAAAAAElF\n",
       "TkSuQmCC\n",
       "\" style=\"display:inline;vertical-align:middle;\" /></a></td></tr>\n",
       "<tr><td>8</td><td>Literal</td><td></td><td><a class=\"ProveItLink\" href=\"../../../sets/real/__pv_it/9e7645ee1117062e179dd6264898f99ed95b157c0/expr.ipynb\"><img src=\"data:image/png;base64,iVBORw0KGgoAAAANSUhEUgAAAA8AAAAOBAMAAAACpFvcAAAAMFBMVEX///8iIiK6urp2dnbu7u5m\n",
       "ZmaqqqrMzMxUVFTc3NyIiIgQEBBEREQyMjKYmJgAAAA9nvXMAAAAAXRSTlMAQObYZgAAAFJJREFU\n",
       "CNdjePvn/N29CxiA4MAMhprcCSDGVAYezwMQBnMBOoMDJqX4Fqx4tqBsAlj7VFUeBwiDVb0BwmC4\n",
       "sg7KqOAogJqTcJKBAWjpcYY79xMAyqEnfsw4ApEAAAAASUVORK5CYII=\n",
       "\" style=\"display:inline;vertical-align:middle;\" /></a></td></tr>\n",
       "<tr><td>9</td><td>Operation</td><td>operator:&nbsp;10<br>operands:&nbsp;11<br></td><td><a class=\"ProveItLink\" href=\"../b946c43e057b554aa1f97d0883c5f68ff71f80e80/expr.ipynb\"><img src=\"data:image/png;base64,iVBORw0KGgoAAAANSUhEUgAAAC4AAAAQBAMAAACb51DZAAAAMFBMVEX///8QEBCYmJhmZmaqqqoi\n",
       "IiLMzMzu7u4yMjJ2dnZUVFTc3NxERESIiIi6uroAAABbPXqjAAAAAXRSTlMAQObYZgAAAHdJREFU\n",
       "GNNjYMAGjmMVZaj5jsqvhlBVq9DEfaE0Lx5xvju7767EIs7J1ctQn4Ap/o71AEP9A0zxAqCgfwEW\n",
       "e4GCK0Aci46OwI6OLri4BQPDJ3Ys6iUZmL5zYopz/2PgPOCGxf0CDNxnHVDEmQ1/GGH1Lzp4i2AC\n",
       "AAL3KRFAMapqAAAAAElFTkSuQmCC\n",
       "\" style=\"display:inline;vertical-align:middle;\" /></a></td></tr>\n",
       "<tr><td>10</td><td>Literal</td><td></td><td><a class=\"ProveItLink\" href=\"../../../addition/__pv_it/3e6688136fa3c7aefbebe51301b7c3ebf0b69c440/expr.ipynb\"><img src=\"data:image/png;base64,iVBORw0KGgoAAAANSUhEUgAAAA4AAAAOBAMAAADtZjDiAAAAJFBMVEX///+6urpUVFQQEBAiIiIy\n",
       "MjJmZmaIiIiqqqrc3Nzu7u4AAACgHpL+AAAAAXRSTlMAQObYZgAAAB5JREFUCNdjYGBgWMkAAe2k\n",
       "0Kmhoc6hoUGk6BMHYgAHOwjcado9fwAAAABJRU5ErkJggg==\n",
       "\" style=\"display:inline;vertical-align:middle;\" /></a></td></tr>\n",
       "<tr><td>11</td><td>ExprTuple</td><td>12, 13</td><td><a class=\"ProveItLink\" href=\"../713289cfc951db6eb87a9a7ba22620683870a2810/expr.ipynb\"><img src=\"data:image/png;base64,iVBORw0KGgoAAAANSUhEUgAAACsAAAAVBAMAAAAtAwouAAAAMFBMVEX////c3NwiIiJERESqqqqY\n",
       "mJh2dnZmZmYQEBDu7u4yMjJUVFTMzMyIiIi6uroAAAAs73DqAAAAAXRSTlMAQObYZgAAAOFJREFU\n",
       "GNNjYMAB+C6gi8SBiNOoYpYMDOwHgPRKFNHJP4HEAgYGXhQzZu8GCYcxMHBMQFHNCxKewcDwigFT\n",
       "mNmBoQzolsuCd7chC7MVMCwFktxrGeYfQBJmWcDQx8DwjsmAYf4DJGG+BoZ/DAwTgGL+E5CEeT6A\n",
       "hEFiuxhQhVuAVBUDw1dOVENMgVQbA+tPNoYJcGHWBQzpDAyM/xjYDHw4PyE78BFYD6OtA2e/ADCU\n",
       "Kn6VMjBwPWDgEICHMJwF9DxrAozDCg+BXOSAhQtzAgOWQRrGg4cwN8g0RoxIu8PAAABTtzz5enAE\n",
       "fwAAAABJRU5ErkJggg==\n",
       "\" style=\"display:inline;vertical-align:middle;\" /></a></td></tr>\n",
       "<tr><td>12</td><td>Variable</td><td></td><td><a class=\"ProveItLink\" href=\"../../../../__pv_it/39dbcd3ca0390345b51c6ef7785756419e2c14390/expr.ipynb\"><img src=\"data:image/png;base64,iVBORw0KGgoAAAANSUhEUgAAAAwAAAAJBAMAAAD0ltBnAAAAMFBMVEX///8QEBCYmJhmZmaqqqoi\n",
       "IiLMzMzu7u4yMjJ2dnZUVFTc3NxERESIiIi6uroAAABbPXqjAAAAAXRSTlMAQObYZgAAAERJREFU\n",
       "CNdj4Luz++5KBgZOrl6G+gSGd6wHGOofMBQAsX8BAwivYGBgsGBg+MTOwCDJwPSdk4H7HwPnATcG\n",
       "PgEG7rMOAGtQEUwHZIDZAAAAAElFTkSuQmCC\n",
       "\" style=\"display:inline;vertical-align:middle;\" /></a></td></tr>\n",
       "<tr><td>13</td><td>Literal</td><td></td><td><a class=\"ProveItLink\" href=\"../../../numeral/__pv_it/9be8badea4c35b9724062cecc501d17a3158d1d20/expr.ipynb\"><img src=\"data:image/png;base64,iVBORw0KGgoAAAANSUhEUgAAAAgAAAAPBAMAAAArJJMAAAAAHlBMVEX///+YmJgyMjIQEBBmZmaI\n",
       "iIhUVFTu7u5EREQAAAAw+MI4AAAAAXRSTlMAQObYZgAAACFJREFUCNdjYGBoZ2BgqJjOwFCWBiQY\n",
       "WEklWJwnOTKAAACjEQo8HvEr3AAAAABJRU5ErkJggg==\n",
       "\" style=\"display:inline;vertical-align:middle;\" /></a></td></tr>\n",
       "</table>\n"
      ],
      "text/plain": [
       "0. (x in Reals^{n + 1})\n",
       "   core type: ExprTuple\n",
       "   sub-expressions: 1\n",
       "1. x in Reals^{n + 1}\n",
       "   core type: Operation\n",
       "   operator: 2\n",
       "   operands: 3\n",
       "2. in\n",
       "   core type: Literal\n",
       "   sub-expressions: \n",
       "3. (x , Reals^{n + 1})\n",
       "   core type: ExprTuple\n",
       "   sub-expressions: 4, 5\n",
       "4. x\n",
       "   core type: Variable\n",
       "   sub-expressions: \n",
       "5. Reals^{n + 1}\n",
       "   core type: Operation\n",
       "   operator: 6\n",
       "   operands: 7\n",
       "6. Exp\n",
       "   core type: Literal\n",
       "   sub-expressions: \n",
       "7. (Reals , n + 1)\n",
       "   core type: ExprTuple\n",
       "   sub-expressions: 8, 9\n",
       "8. Reals\n",
       "   core type: Literal\n",
       "   sub-expressions: \n",
       "9. n + 1\n",
       "   core type: Operation\n",
       "   operator: 10\n",
       "   operands: 11\n",
       "10. +\n",
       "    core type: Literal\n",
       "    sub-expressions: \n",
       "11. (n , 1)\n",
       "    core type: ExprTuple\n",
       "    sub-expressions: 12, 13\n",
       "12. n\n",
       "    core type: Variable\n",
       "    sub-expressions: \n",
       "13. 1\n",
       "    core type: Literal\n",
       "    sub-expressions: "
      ]
     },
     "execution_count": 4,
     "metadata": {},
     "output_type": "execute_result"
    }
   ],
   "source": [
    "# display the expression information\n",
    "expr.exprInfo()"
   ]
  },
  {
   "cell_type": "code",
   "execution_count": null,
   "metadata": {},
   "outputs": [],
   "source": []
  }
 ],
 "metadata": {
  "kernelspec": {
   "display_name": "Python 3",
   "language": "python",
   "name": "python3"
  }
 },
 "nbformat": 4,
 "nbformat_minor": 0
}
