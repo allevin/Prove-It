{
 "cells": [
  {
   "cell_type": "markdown",
   "metadata": {},
   "source": [
    "Show the Proof\n",
    "========"
   ]
  },
  {
   "cell_type": "code",
   "execution_count": 1,
   "metadata": {},
   "outputs": [
    {
     "data": {
      "text/html": [
       "<table><tr><th>&nbsp;</th><th>step type</th><th>requirements</th><th>statement</th></tr>\n",
       "<tr><td>0</td><td>assumption</td><td></td><td><span style=\"font-size:20px;\"><a class=\"ProveItLink\" href=\"../16de437105ea4d39056fd1aa7e44df4a208f92c40/expr.ipynb\"><img src=\"data:image/png;base64,iVBORw0KGgoAAAANSUhEUgAAAEIAAAAVBAMAAAAA8SWUAAAAMFBMVEX////c3NxERESqqqpUVFS6\n",
       "urrMzMwyMjIQEBCIiIh2dnYiIiLu7u5mZmaYmJgAAABXZE4RAAAAAXRSTlMAQObYZgAAAOpJREFU\n",
       "KM9jYGDgu8eAC2QtBJE8uxhwgwwDIMH5AYcsq8YFBt4CIIOrAZcB/AYQSdwq4g8QUrGagZCKWmQV\n",
       "p1ZOQ5Nm9Fz6GSoJci5bK0M1iFkOBg4gFRECTH+AYQXyaEYAA8OJCQx6aEb8g/gUaFNKG5D2x3AD\n",
       "ywcG7gVAmqkOaFwCA8MnzLBQYDgPNJwBFOAsBQyMPyHCvLvBQAHIlJ/AYM9wAOIOrg0MDP+AbkI1\n",
       "47wBgztzAsK3vgwMy1BVsD9g3suFFB68K2ceQA+OqUlTCYYpA9Eq+PCpAIcaz058aQwUJgx8i/Gm\n",
       "UwD0Jj+csmS8iwAAAABJRU5ErkJggg==\n",
       "\" style=\"display:inline;vertical-align:middle;\" /></a> <a class=\"ProveItLink\" href=\"proof.ipynb\" style=\"text-decoration: none\">&#x22A2;&nbsp;</a><a class=\"ProveItLink\" href=\"../8215400098174965ca72f9193c060d01cabd37fd0/expr.ipynb\"><img src=\"data:image/png;base64,iVBORw0KGgoAAAANSUhEUgAAADAAAAAOBAMAAACbXIJpAAAAMFBMVEX///+qqqpmZmbc3NxUVFSY\n",
       "mJhEREQiIiIyMjK6uroQEBDMzMyIiIh2dnbu7u4AAAA4MM1YAAAAAXRSTlMAQObYZgAAAJRJREFU\n",
       "GNNjYMAKpi1iwAE+4hDn/IdDgrcAhwSHAgMD390zG9CETc7OF2Bg2DWBA6RPowMEWsAWLGbIf8DA\n",
       "t4aBLQBVg30AgwYDA8sHDAv8GRhqGRj4EzAkvjHw/QTqOwDhqZeDQBmQxfyHgfEDHwM/0AJUO/g+\n",
       "MrA0SDOwKDDwojm3lUFc4QIDg+6Zc+jeODM7ZwIAG+cj9tmP9mYAAAAASUVORK5CYII=\n",
       "\" style=\"display:inline;vertical-align:middle;\" /></a></span></td></tr>\n",
       "</table>"
      ],
      "text/plain": [
       "<proveit._core_.proof._ShowProof at 0x7f950002d898>"
      ]
     },
     "execution_count": 1,
     "metadata": {},
     "output_type": "execute_result"
    }
   ],
   "source": [
    "import proveit\n",
    "%show_proof"
   ]
  },
  {
   "cell_type": "code",
   "execution_count": null,
   "metadata": {},
   "outputs": [],
   "source": []
  }
 ],
 "metadata": {
  "kernelspec": {
   "display_name": "Python 3",
   "language": "python",
   "name": "python3"
  }
 },
 "nbformat": 4,
 "nbformat_minor": 0
}
