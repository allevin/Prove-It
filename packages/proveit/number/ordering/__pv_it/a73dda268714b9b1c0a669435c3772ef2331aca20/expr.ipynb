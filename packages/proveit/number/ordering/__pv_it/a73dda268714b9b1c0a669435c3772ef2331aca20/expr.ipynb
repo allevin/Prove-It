{
 "cells": [
  {
   "cell_type": "markdown",
   "metadata": {},
   "source": [
    "Expression of type <a class=\"ProveItLink\" href=\"../../../../../../doc/html/api/proveit.ExprTuple.html\">ExprTuple</a>\n",
    "=======================\n",
    "# from context <a class=\"ProveItLink\" href=\"../../_context_.ipynb\">proveit.number.ordering</a>"
   ]
  },
  {
   "cell_type": "code",
   "execution_count": 1,
   "metadata": {},
   "outputs": [],
   "source": [
    "# import Expression classes needed to build the expression\n",
    "from proveit import ExprTuple\n",
    "from proveit.logic import Booleans, Equals\n",
    "from proveit.number import Exp, Less, LessEq, two"
   ]
  },
  {
   "cell_type": "code",
   "execution_count": 2,
   "metadata": {},
   "outputs": [
    {
     "data": {
      "text/html": [
       "<strong id=\"expr\">expr:</strong> <a class=\"ProveItLink\" href=\"expr.ipynb\"><img src=\"data:image/png;base64,iVBORw0KGgoAAAANSUhEUgAAAKwAAAAcBAMAAAAO1UmeAAAAMFBMVEX///+qqqp2dnYiIiJERESI\n",
       "iIhmZmYQEBDc3NyYmJgyMjLu7u5UVFTMzMy6uroAAACGxKilAAAAAXRSTlMAQObYZgAAAmFJREFU\n",
       "SMdjYKAuUPPZwEB9wLaBbQGU+Y6KxjI3cPxlUACxeA9Q0Vh2Ae5/DHdArF3UDQzG3wysAUD6JIjz\n",
       "lCwjOB9ginEBg8CCgYGjgIKAyIWztL6sX24iAGToAHEMMO4SQFbgCAhWO/zGciGYDk+5VysBPQCK\n",
       "r/0bGNhBHgmFynHkoujaZIrMa7uAGQoKSMYyxAFtecRwF5geJjDcB4lVQ6R4T6EE1jZLZN6ddZiu\n",
       "5S5ANlaSZwOvo+BpYAg4MIQDhfggSZhvDYp7ehYi816dxRYKjiiubWFg////A9ATHxhOgfIG2C+M\n",
       "yxpwu04qA3teRTKW19Ibyub7zeADCvkJoOgxAsdb1ioQWMOwxRdZe7A2OGuC5VYdgNFA2xDGPrb/\n",
       "HgBl8/5lWAbKG8AgZTJFSwSmSKlDOQBHUniOHAihIrCY/8dgBqT4gcZu8UOPZSO4udwuD3AYex/Z\n",
       "WBY+aMLg/gg3luHOQvRsiAhr3lMCxBjL4AB37RpwAQFOl+D0lGwMAiZoKYMjGRT8bGA5YwcYjRYI\n",
       "CGP/MhwBUiwToKkfLbPxulxg4Ib6Szkam2tngYgN6IHA94MhGEgxJWAEJ9Tccwz7DaDsydo4Ehj3\n",
       "Z6ix00Jg0fKB4T3IdJhWxrUYGrf/gCddzMzLAErb3PUN4KLGuQYWAUwLGPhBiivwFCcv8MhBMi9f\n",
       "A3oJFMDAAwqPSXi0TsAjxwROz5zowvsbGHgNsBeMzeDItsNv7C4GrMZOgZYWHLiLcVZ85e0JMImR\n",
       "BW2BuAvEaCWrcmC9gL0uAiUsRgVqNxZawOREahubzUArAAABsJ4ShsjH7QAAAABJRU5ErkJggg==\n",
       "\" style=\"display:inline;vertical-align:middle;\" /></a><br>"
      ],
      "text/plain": [
       "expr: ((< = <= , < = =) , BOOLEANS^{2})"
      ]
     },
     "execution_count": 2,
     "metadata": {},
     "output_type": "execute_result"
    }
   ],
   "source": [
    "# build up the expression from sub-expressions\n",
    "expr = ExprTuple([Equals(Less._operator_, LessEq._operator_), Equals(Less._operator_, Equals._operator_)], Exp(Booleans, two))"
   ]
  },
  {
   "cell_type": "code",
   "execution_count": 3,
   "metadata": {},
   "outputs": [
    {
     "name": "stdout",
     "output_type": "stream",
     "text": [
      "Passed sanity check: built 'expr' is the same as the stored Expression.\n"
     ]
    }
   ],
   "source": [
    "# check that the built expression is the same as the stored expression\n",
    "%check_expr"
   ]
  },
  {
   "cell_type": "code",
   "execution_count": 4,
   "metadata": {},
   "outputs": [
    {
     "data": {
      "text/html": [
       "<table><tr><th>&nbsp;</th><th>core type</th><th>sub-expressions</th><th>expression</th></tr>\n",
       "<tr><td>0</td><td>ExprTuple</td><td>1, 2</td><td><a class=\"ProveItLink\" href=\"expr.ipynb\"><img src=\"data:image/png;base64,iVBORw0KGgoAAAANSUhEUgAAAKwAAAAcBAMAAAAO1UmeAAAAMFBMVEX///+qqqp2dnYiIiJERESI\n",
       "iIhmZmYQEBDc3NyYmJgyMjLu7u5UVFTMzMy6uroAAACGxKilAAAAAXRSTlMAQObYZgAAAmFJREFU\n",
       "SMdjYKAuUPPZwEB9wLaBbQGU+Y6KxjI3cPxlUACxeA9Q0Vh2Ae5/DHdArF3UDQzG3wysAUD6JIjz\n",
       "lCwjOB9ginEBg8CCgYGjgIKAyIWztL6sX24iAGToAHEMMO4SQFbgCAhWO/zGciGYDk+5VysBPQCK\n",
       "r/0bGNhBHgmFynHkoujaZIrMa7uAGQoKSMYyxAFtecRwF5geJjDcB4lVQ6R4T6EE1jZLZN6ddZiu\n",
       "5S5ANlaSZwOvo+BpYAg4MIQDhfggSZhvDYp7ehYi816dxRYKjiiubWFg////A9ATHxhOgfIG2C+M\n",
       "yxpwu04qA3teRTKW19Ibyub7zeADCvkJoOgxAsdb1ioQWMOwxRdZe7A2OGuC5VYdgNFA2xDGPrb/\n",
       "HgBl8/5lWAbKG8AgZTJFSwSmSKlDOQBHUniOHAihIrCY/8dgBqT4gcZu8UOPZSO4udwuD3AYex/Z\n",
       "WBY+aMLg/gg3luHOQvRsiAhr3lMCxBjL4AB37RpwAQFOl+D0lGwMAiZoKYMjGRT8bGA5YwcYjRYI\n",
       "CGP/MhwBUiwToKkfLbPxulxg4Ib6Szkam2tngYgN6IHA94MhGEgxJWAEJ9Tccwz7DaDsydo4Ehj3\n",
       "Z6ix00Jg0fKB4T3IdJhWxrUYGrf/gCddzMzLAErb3PUN4KLGuQYWAUwLGPhBiivwFCcv8MhBMi9f\n",
       "A3oJFMDAAwqPSXi0TsAjxwROz5zowvsbGHgNsBeMzeDItsNv7C4GrMZOgZYWHLiLcVZ85e0JMImR\n",
       "BW2BuAvEaCWrcmC9gL0uAiUsRgVqNxZawOREahubzUArAAABsJ4ShsjH7QAAAABJRU5ErkJggg==\n",
       "\" style=\"display:inline;vertical-align:middle;\" /></a></td></tr>\n",
       "<tr><td>1</td><td>ExprTuple</td><td>3, 4</td><td><a class=\"ProveItLink\" href=\"../551df4177bafac75031e3a11633cf23c72480dbf0/expr.ipynb\"><img src=\"data:image/png;base64,iVBORw0KGgoAAAANSUhEUgAAAHUAAAAVBAMAAACK3rzVAAAAMFBMVEX////c3NwiIiJERESqqqqY\n",
       "mJh2dnZmZmYQEBDu7u4yMjJUVFTMzMyIiIi6uroAAAAs73DqAAAAAXRSTlMAQObYZgAAAT5JREFU\n",
       "OMtjYKAE8F0gS1sciDhNnpXsB4DEShySlx7g17yAgYEX5mTxA8gynEnIXmGswdQbxsDAMQHCPL0O\n",
       "RWtRABKPZxcWN8xgYHgFYb3agyzOuMsBOTRXH8DiZmYHhjIww6uQAac9LMsFsPmXrYBhKThcMsFB\n",
       "twoMNnAaI9vDqwb2VRVYbjWcZmBZwNAHFE9Ci+JLN5GM18WVLhoY/gEDxhg9KIIy4czJdjj08nwA\n",
       "6QX6zwFNAsn/p5fg1NsCDldwlLArgYEBWriLq4LIIrCcMpwGudkUmhRuohl72IaBARr103QnYLGX\n",
       "dQFDOqYXoW59wPkJpkxtAtY4egT3IkYC4OyHRSzLGky9XA8YOATwZE88cqA0yZqAW5oVXz7KxZoH\n",
       "GSHh/QCvXk5gHmSQxi2Pr0ThBvmHkbwy5w4DAwDayFSMwvWuNgAAAABJRU5ErkJggg==\n",
       "\" style=\"display:inline;vertical-align:middle;\" /></a></td></tr>\n",
       "<tr><td>2</td><td>Operation</td><td>operator:&nbsp;5<br>operands:&nbsp;6<br></td><td><a class=\"ProveItLink\" href=\"../80916f78fe8f88648e548cee85f5261a65c126a40/expr.ipynb\"><img src=\"data:image/png;base64,iVBORw0KGgoAAAANSUhEUgAAABYAAAAUBAMAAAB7UtADAAAAMFBMVEX///9mZmbMzMzc3NxUVFSY\n",
       "mJju7u6IiIi6urqqqqoiIiIQEBBEREQyMjJ2dnYAAAAQvcRZAAAAAXRSTlMAQObYZgAAAIRJREFU\n",
       "CNdjYICCh0cSYEzGBMYLMDaXAfMnGJt7AtsPBjjg/IZg8z5gePvn/u01E4DsJ0B8oJ3t2jsGBtYH\n",
       "YDZDBS8DQx+DEpg9lSWB6eRMN4i4DQP3//8fQGympcegZh3oWv+7AMZuZyifg2DzcDxAsBkOYGcj\n",
       "qQmsgTCBbju1ZQKYCQDWoDT3EPNjYwAAAABJRU5ErkJggg==\n",
       "\" style=\"display:inline;vertical-align:middle;\" /></a></td></tr>\n",
       "<tr><td>3</td><td>Operation</td><td>operator:&nbsp;13<br>operands:&nbsp;7<br></td><td><a class=\"ProveItLink\" href=\"../026bd90581605162c68d327b7018f1d80e06c36c0/expr.ipynb\"><img src=\"data:image/png;base64,iVBORw0KGgoAAAANSUhEUgAAAC4AAAARBAMAAABQu4N8AAAALVBMVEX///+YmJhERETu7u52dnYi\n",
       "IiKIiIiqqqq6uroyMjJUVFTMzMxmZmbc3NwAAADmAst+AAAAAXRSTlMAQObYZgAAAHlJREFUGNNj\n",
       "YCAFsEVAaN7TKMImYRCae2UDsrBNIITmmLUBWfjWdAjNPucCsvCuGVA7QgxA1MmZIDCLwUgbIswS\n",
       "huaUMLAyBiMNNDcyQvQz7JqOJgGz7w7YWUdDQSAI2X0mUCPhgFtpA4qRCIkVUCNnM1AbXAW7KwIA\n",
       "RC4eYITT5lUAAAAASUVORK5CYII=\n",
       "\" style=\"display:inline;vertical-align:middle;\" /></a></td></tr>\n",
       "<tr><td>4</td><td>Operation</td><td>operator:&nbsp;13<br>operands:&nbsp;8<br></td><td><a class=\"ProveItLink\" href=\"../772ea1f491fd9be718ffc98083d41e0e33537ec40/expr.ipynb\"><img src=\"data:image/png;base64,iVBORw0KGgoAAAANSUhEUgAAAC4AAAAMBAMAAADv85I5AAAALVBMVEX///+YmJhERETu7u52dnYi\n",
       "IiKIiIiqqqq6uroyMjJUVFTMzMxmZmbc3NwAAADmAst+AAAAAXRSTlMAQObYZgAAAFNJREFUGNNj\n",
       "YAAB3tMM2AD3ygZswhyzNmATZp9zAZswW4gBiDo5EwRmwWmWMKxWMhhpYBdn2DUdh8SdQBB5NBQE\n",
       "guA0EJiEGWDXwRiCQ4J9NroIAHgCGK/M4P+zAAAAAElFTkSuQmCC\n",
       "\" style=\"display:inline;vertical-align:middle;\" /></a></td></tr>\n",
       "<tr><td>5</td><td>Literal</td><td></td><td><a class=\"ProveItLink\" href=\"../../../exponentiation/__pv_it/deb2bf23cbccdd6e6791e1b35b5b9794ce12dbd50/expr.ipynb\"><img src=\"data:image/png;base64,iVBORw0KGgoAAAANSUhEUgAAACgAAAASBAMAAADbMYGVAAAAMFBMVEX///8QEBAiIiKYmJjc3Nzu\n",
       "7u7MzMx2dnZmZma6urpERESqqqoyMjJUVFSIiIgAAAAoDOMTAAAAAXRSTlMAQObYZgAAAOBJREFU\n",
       "GNNjYGB4+//u3Tt/GNAASGAXmhjnPyDBgSbI/g1IxKEJ8nxgYGdgQRPkX8BgDKRY6q7s62OYvmze\n",
       "2wAgb/7ZO1+AVDiDkYEQQ0HTBr4DQF59AgOIKmB4z7CNbcNZBu6vQN55kEACQwDDLQYGVobfDHwg\n",
       "fb8YGBxYHwAZciD3fWXg+gB1JjvQcJZvQIXsCgz8F6DO9GBgMOH7wPCUgaeBwd4B7EwGNjUG7s9c\n",
       "AiwPgO5jkWRgiF3/9+5dfQUG1nWl5Y+B7pv+1gE9bBhqGLCAE1jEWH9jEbT5A3IwAC4sP/1L6Qlu\n",
       "AAAAAElFTkSuQmCC\n",
       "\" style=\"display:inline;vertical-align:middle;\" /></a></td></tr>\n",
       "<tr><td>6</td><td>ExprTuple</td><td>9, 10</td><td><a class=\"ProveItLink\" href=\"../414e8800f1d1efa4c79fba266b1f17989e0e26480/expr.ipynb\"><img src=\"data:image/png;base64,iVBORw0KGgoAAAANSUhEUgAAAC0AAAAVBAMAAAAgHXppAAAAMFBMVEX////c3NwiIiJERESqqqqY\n",
       "mJh2dnZmZmYQEBDu7u4yMjJUVFTMzMyIiIi6uroAAAAs73DqAAAAAXRSTlMAQObYZgAAARFJREFU\n",
       "GNN10bFLw0AUx/FvqNEmTUqwo6M4JwgObgER/wPdpFOEglAUdNTBQRD0RseACHaqq5PuLgVXldBR\n",
       "EERFnKx3efYKLd4QHp/cPd79Dv5b9d4EbZrPPa2P7tV8KuTsXxTM3OmqA8mr18nE5wg/IYewZ5xn\n",
       "X/wGYliHqip9taZKP1bcFpzDC7K/Ifu7ioOCSspe6cHCsp0mVky3uTTej7/ttMEXTOWcSp+nlaH7\n",
       "ib7TIT/ilXrzz3fNmTfrJMLhtfjRmK/hRKbP0qiPuUHQxo1wc7bENx7w3nU5m2U7mDn7mNwWT1K8\n",
       "s0gPPxjo335BNRolbkudg9u07tpqW3Iedy8vEx8uG0XNNHQm3/ERfgGi4EpwIB8kjgAAAABJRU5E\n",
       "rkJggg==\n",
       "\" style=\"display:inline;vertical-align:middle;\" /></a></td></tr>\n",
       "<tr><td>7</td><td>ExprTuple</td><td>12, 11</td><td><a class=\"ProveItLink\" href=\"../2c343e04de8b9e8dc4a390cbafd3c1727d3f68830/expr.ipynb\"><img src=\"data:image/png;base64,iVBORw0KGgoAAAANSUhEUgAAADUAAAAVBAMAAAAUZLt1AAAAMFBMVEX////c3NwiIiJERESqqqqY\n",
       "mJh2dnZmZmYQEBDu7u4yMjJUVFTMzMyIiIi6uroAAAAs73DqAAAAAXRSTlMAQObYZgAAAPZJREFU\n",
       "KM9jYMAH+C5gFY4DEaexa2E/ACRWYpHg1WNgWACkYEaKH4BLTdMFEmEMDBwTIPzT6+BS01VB5AwG\n",
       "hlcQ/qs9cCnpJWCK2YGhDMzwKoRLwQxgK2BYCqIvZcKlJttAGSwLGPqAVBKSF3l1oQ7ga2D4x8DA\n",
       "afwAyf2sahBJng8gOQaeXQ5IkizLBaByLSCasSgAORRXH4CYaQrmcibdBJJQmxh4jIGSrAsY0qH8\n",
       "oEwGzk8wnTz7wH54BON7HeDsF0AymesBAwcSnw9ZDhhmrAlIzkeOi1zUOALJCSmBgB4D5wJQ0CLk\n",
       "kFMAN8h8Ruxp4g4DAwDCPzOdkovdYgAAAABJRU5ErkJggg==\n",
       "\" style=\"display:inline;vertical-align:middle;\" /></a></td></tr>\n",
       "<tr><td>8</td><td>ExprTuple</td><td>12, 13</td><td><a class=\"ProveItLink\" href=\"../8dccf53fbf30afc5a09e7aab30640f8e81d8f6830/expr.ipynb\"><img src=\"data:image/png;base64,iVBORw0KGgoAAAANSUhEUgAAADUAAAAVBAMAAAAUZLt1AAAAMFBMVEX////c3NwiIiJERESqqqqY\n",
       "mJh2dnZmZmYQEBDu7u4yMjJUVFTMzMyIiIi6uroAAAAs73DqAAAAAXRSTlMAQObYZgAAANFJREFU\n",
       "KM9jYMAH+C5gFY4DEaexa2E/ACRW4jBvAQMDL8xI8QOocmEMDBwTIMzT69D0zWBgeAVhvdqDbiaz\n",
       "A0MZmOFViGEfWwHDUhB9KRMuVLUKBFYzMLAsYOgD8pOweZGvgeEfAwOn8QMscjwfQHIMPLscsMq1\n",
       "gGjGogCYUJESCCiDzTQFi3Am3QSSE5D1sS5gSIcygzIZOD+h+eERjO11gLNfAEmO6wEDBxKfTwA1\n",
       "zFgTkKxANjMXNY6Q5TiBccQgjeAjBw83yHxG7GniDgMDAA1FLia8EE76AAAAAElFTkSuQmCC\n",
       "\" style=\"display:inline;vertical-align:middle;\" /></a></td></tr>\n",
       "<tr><td>9</td><td>Literal</td><td></td><td><a class=\"ProveItLink\" href=\"../../../../logic/boolean/__pv_it/46271c8230be96415d662709611f4ed2279d702b0/expr.ipynb\"><img src=\"data:image/png;base64,iVBORw0KGgoAAAANSUhEUgAAAA0AAAAOBAMAAAAGUYvhAAAAMFBMVEX///9mZmbMzMzc3NxUVFSY\n",
       "mJju7u6IiIi6urqqqqoiIiIQEBBEREQyMjJ2dnYAAAAQvcRZAAAAAXRSTlMAQObYZgAAAElJREFU\n",
       "CNdjePvn/u01ExgYGA60s117B6YZKngh9FSWBAjfBsxnWnoMRHet/10AkS+fA6F5OB5AaIYDqDRU\n",
       "PLCGgQFoz6ktExgAgLIl8DFvGtkAAAAASUVORK5CYII=\n",
       "\" style=\"display:inline;vertical-align:middle;\" /></a></td></tr>\n",
       "<tr><td>10</td><td>Literal</td><td></td><td><a class=\"ProveItLink\" href=\"../../../numeral/__pv_it/77d407a64829263cdc16415becd4c2293f77a4bf0/expr.ipynb\"><img src=\"data:image/png;base64,iVBORw0KGgoAAAANSUhEUgAAAAkAAAAOBAMAAAAPuiubAAAAMFBMVEX///+YmJh2dnbMzMwQEBAi\n",
       "IiLu7u6qqqqIiIhUVFS6urpEREQyMjJmZmbc3NwAAACOMKdoAAAAAXRSTlMAQObYZgAAAFBJREFU\n",
       "CNdj4Lt7egEDw0sGju8MDNMYGOIZGFwSGOYvYDifwHAfKAEUSQASzJ9ATJ4NIPI2iOCYACJrGfge\n",
       "MDBfYGB8wPBUSekqUPH//18ZAIliFhc3zESNAAAAAElFTkSuQmCC\n",
       "\" style=\"display:inline;vertical-align:middle;\" /></a></td></tr>\n",
       "<tr><td>11</td><td>Literal</td><td></td><td><a class=\"ProveItLink\" href=\"../aa616d6a8fe3483e4e64187262e9c7dfe6a536a30/expr.ipynb\"><img src=\"data:image/png;base64,iVBORw0KGgoAAAANSUhEUgAAAA4AAAARBAMAAAAf5oCsAAAALVBMVEX///9ERETMzMyqqqoyMjJU\n",
       "VFTc3NyYmJhmZmZ2dnbu7u66uroiIiKIiIgAAAAFyQXGAAAAAXRSTlMAQObYZgAAAEBJREFUCNdj\n",
       "YEAGvKfB1MqzYGrFcTCV6gymVL3B1EIhqNKzCyAM9pNQBrNHAoTB7aoAYTAJwhjRDLhAzhkQOA0A\n",
       "iskPUSt9tJUAAAAASUVORK5CYII=\n",
       "\" style=\"display:inline;vertical-align:middle;\" /></a></td></tr>\n",
       "<tr><td>12</td><td>Literal</td><td></td><td><a class=\"ProveItLink\" href=\"../7c444b9b2efa607ed6397b492680dde2810212f00/expr.ipynb\"><img src=\"data:image/png;base64,iVBORw0KGgoAAAANSUhEUgAAAA4AAAAMBAMAAACgrpHpAAAALVBMVEX///+YmJhERETu7u52dnYi\n",
       "IiKIiIiqqqq6uroyMjJUVFTMzMxmZmbc3NwAAADmAst+AAAAAXRSTlMAQObYZgAAAD5JREFUCNdj\n",
       "YAAB3tNgintlA4jimLUBRLHPuQCi2EIMQBRLGFgJg5EGhGbYNR3KuBMIZZiEGUAYjCFQBvtsABzC\n",
       "Cm98G6SsAAAAAElFTkSuQmCC\n",
       "\" style=\"display:inline;vertical-align:middle;\" /></a></td></tr>\n",
       "<tr><td>13</td><td>Literal</td><td></td><td><a class=\"ProveItLink\" href=\"../../../../logic/equality/__pv_it/2fb26078095930560931daa0500ce419a39ea6cd0/expr.ipynb\"><img src=\"data:image/png;base64,iVBORw0KGgoAAAANSUhEUgAAAA4AAAAFBAMAAACHocAhAAAAFVBMVEX///9EREQiIiJUVFQyMjJm\n",
       "ZmYAAADubVkoAAAAAXRSTlMAQObYZgAAABRJREFUCNdjCHEBAWcGXCBICQQUAUpuAwlgGKrkAAAA\n",
       "AElFTkSuQmCC\n",
       "\" style=\"display:inline;vertical-align:middle;\" /></a></td></tr>\n",
       "</table>\n"
      ],
      "text/plain": [
       "0. ((< = <= , < = =) , BOOLEANS^{2})\n",
       "   core type: ExprTuple\n",
       "   sub-expressions: 1, 2\n",
       "1. (< = <= , < = =)\n",
       "   core type: ExprTuple\n",
       "   sub-expressions: 3, 4\n",
       "2. BOOLEANS^{2}\n",
       "   core type: Operation\n",
       "   operator: 5\n",
       "   operands: 6\n",
       "3. < = <=\n",
       "   core type: Operation\n",
       "   operator: 13\n",
       "   operands: 7\n",
       "4. < = =\n",
       "   core type: Operation\n",
       "   operator: 13\n",
       "   operands: 8\n",
       "5. Exp\n",
       "   core type: Literal\n",
       "   sub-expressions: \n",
       "6. (BOOLEANS , 2)\n",
       "   core type: ExprTuple\n",
       "   sub-expressions: 9, 10\n",
       "7. (< , <=)\n",
       "   core type: ExprTuple\n",
       "   sub-expressions: 12, 11\n",
       "8. (< , =)\n",
       "   core type: ExprTuple\n",
       "   sub-expressions: 12, 13\n",
       "9. BOOLEANS\n",
       "   core type: Literal\n",
       "   sub-expressions: \n",
       "10. 2\n",
       "    core type: Literal\n",
       "    sub-expressions: \n",
       "11. <=\n",
       "    core type: Literal\n",
       "    sub-expressions: \n",
       "12. <\n",
       "    core type: Literal\n",
       "    sub-expressions: \n",
       "13. =\n",
       "    core type: Literal\n",
       "    sub-expressions: "
      ]
     },
     "execution_count": 4,
     "metadata": {},
     "output_type": "execute_result"
    }
   ],
   "source": [
    "# display the expression information\n",
    "expr.exprInfo()"
   ]
  },
  {
   "cell_type": "code",
   "execution_count": null,
   "metadata": {},
   "outputs": [],
   "source": []
  }
 ],
 "metadata": {
  "kernelspec": {
   "display_name": "Python 3",
   "language": "python",
   "name": "python3"
  }
 },
 "nbformat": 4,
 "nbformat_minor": 0
}
