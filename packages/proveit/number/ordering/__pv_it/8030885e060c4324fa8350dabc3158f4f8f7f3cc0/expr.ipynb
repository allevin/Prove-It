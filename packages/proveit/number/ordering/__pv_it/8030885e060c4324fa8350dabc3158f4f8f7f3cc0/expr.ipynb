{
 "cells": [
  {
   "cell_type": "markdown",
   "metadata": {},
   "source": [
    "Expression of type <a class=\"ProveItLink\" href=\"../../../../../../doc/html/api/proveit.logic.Set.html\">Set</a>\n",
    "=======================\n",
    "# from context <a class=\"ProveItLink\" href=\"../../_context_.ipynb\">proveit.number.ordering</a>"
   ]
  },
  {
   "cell_type": "code",
   "execution_count": 1,
   "metadata": {},
   "outputs": [],
   "source": [
    "# import Expression classes needed to build the expression\n",
    "from proveit._common_ import a, b\n",
    "from proveit.logic import Set\n",
    "from proveit.number import Less"
   ]
  },
  {
   "cell_type": "code",
   "execution_count": 2,
   "metadata": {},
   "outputs": [
    {
     "data": {
      "text/html": [
       "<strong id=\"expr\">expr:</strong> <a class=\"ProveItLink\" href=\"expr.ipynb\"><img src=\"data:image/png;base64,iVBORw0KGgoAAAANSUhEUgAAAEIAAAAVBAMAAAAA8SWUAAAAMFBMVEX////c3NxERESqqqpUVFS6\n",
       "urrMzMwyMjIQEBCIiIh2dnYiIiLu7u5mZmaYmJgAAABXZE4RAAAAAXRSTlMAQObYZgAAARhJREFU\n",
       "KM9jYGDgu8eAC2QtBJE8uxhwgwwDIMH5gYHhSDcOFbwFQIKrAUiU4FABlgQTn5FEZROwqGD9gxBM\n",
       "KcVmBtcGuFi4G1Zb2D2nPIAImV+EyjF6Lm2EqgA597wCwzew+Ow1MN0RAkxAT/J9AHk5gIHB/gBD\n",
       "F0h49QSYAsZ/DLwKQLoW6LA2IH2dgeEvKPCUAmAqWD4wcIOUM9UBjQN6bi8D6z+QOJu7AVQFvwLD\n",
       "eZCvQQHOUgAKDl6IfxlvQ10sP4HBnuEAxB0gn35j4FgAkeFZPQdMnzdgcGdOQPjWmeEKPAheg73D\n",
       "/oB5LxdSeByZ+wARSuYJ4OCYmjQVOV4YCMYcXhV8+FSA0wfPTnxpDByEfIvxplMAMv9IpSEvnrsA\n",
       "AAAASUVORK5CYII=\n",
       "\" style=\"display:inline;vertical-align:middle;\" /></a><br>"
      ],
      "text/plain": [
       "expr: {b < a}"
      ]
     },
     "execution_count": 2,
     "metadata": {},
     "output_type": "execute_result"
    }
   ],
   "source": [
    "# build up the expression from sub-expressions\n",
    "expr = Set(Less(b, a))"
   ]
  },
  {
   "cell_type": "code",
   "execution_count": 3,
   "metadata": {},
   "outputs": [
    {
     "name": "stdout",
     "output_type": "stream",
     "text": [
      "Passed sanity check: built 'expr' is the same as the stored Expression.\n"
     ]
    }
   ],
   "source": [
    "# check that the built expression is the same as the stored expression\n",
    "%check_expr"
   ]
  },
  {
   "cell_type": "code",
   "execution_count": 4,
   "metadata": {},
   "outputs": [
    {
     "data": {
      "text/html": [
       "<table><tr><th>&nbsp;</th><th>core type</th><th>sub-expressions</th><th>expression</th></tr>\n",
       "<tr><td>0</td><td>Operation</td><td>operator:&nbsp;1<br>operands:&nbsp;2<br></td><td><a class=\"ProveItLink\" href=\"expr.ipynb\"><img src=\"data:image/png;base64,iVBORw0KGgoAAAANSUhEUgAAAEIAAAAVBAMAAAAA8SWUAAAAMFBMVEX////c3NxERESqqqpUVFS6\n",
       "urrMzMwyMjIQEBCIiIh2dnYiIiLu7u5mZmaYmJgAAABXZE4RAAAAAXRSTlMAQObYZgAAARhJREFU\n",
       "KM9jYGDgu8eAC2QtBJE8uxhwgwwDIMH5gYHhSDcOFbwFQIKrAUiU4FABlgQTn5FEZROwqGD9gxBM\n",
       "KcVmBtcGuFi4G1Zb2D2nPIAImV+EyjF6Lm2EqgA597wCwzew+Ow1MN0RAkxAT/J9AHk5gIHB/gBD\n",
       "F0h49QSYAsZ/DLwKQLoW6LA2IH2dgeEvKPCUAmAqWD4wcIOUM9UBjQN6bi8D6z+QOJu7AVQFvwLD\n",
       "eZCvQQHOUgAKDl6IfxlvQ10sP4HBnuEAxB0gn35j4FgAkeFZPQdMnzdgcGdOQPjWmeEKPAheg73D\n",
       "/oB5LxdSeByZ+wARSuYJ4OCYmjQVOV4YCMYcXhV8+FSA0wfPTnxpDByEfIvxplMAMv9IpSEvnrsA\n",
       "AAAASUVORK5CYII=\n",
       "\" style=\"display:inline;vertical-align:middle;\" /></a></td></tr>\n",
       "<tr><td>1</td><td>Literal</td><td></td><td><a class=\"ProveItLink\" href=\"../../../../logic/set_theory/enumeration/__pv_it/07381ed5b23806e8d7914b78cb6667769e3708dd0/expr.ipynb\"><img src=\"data:image/png;base64,iVBORw0KGgoAAAANSUhEUgAAAB4AAAAOBAMAAADKyLEKAAAAMFBMVEX///8iIiIQEBCIiIjMzMzc\n",
       "3Nyqqqp2dnZEREQyMjK6urru7u5mZmZUVFSYmJgAAACI6eGPAAAAAXRSTlMAQObYZgAAALRJREFU\n",
       "CNdjYGDgu3Nm3wIGBJjHwN0PZW5yYGDgLWBgyITy8zcwMMQDxZyh/INAvD6BgcEFypcB4vjPDiBm\n",
       "TPFRrhs/LjMwMP//38rAwCbKEMPA9gEkE3fp0waG+AUMRxh4JkC01T9guPTOOICBEWgVH5C//wHD\n",
       "H5D4fqCz9oCMDGD4DLaegRXslLMMDMpAgxlOMmQxHDRgYG5gYLBk4D7KcIe7gOHC2rt9QCXsh40Z\n",
       "GCKMGQDRkC8N/Ph1XAAAAABJRU5ErkJggg==\n",
       "\" style=\"display:inline;vertical-align:middle;\" /></a></td></tr>\n",
       "<tr><td>2</td><td>ExprTuple</td><td>3</td><td><a class=\"ProveItLink\" href=\"../6176da869e40d45e1c0e38a71cfb36e14a45b5140/expr.ipynb\"><img src=\"data:image/png;base64,iVBORw0KGgoAAAANSUhEUgAAADwAAAAVBAMAAADocZC/AAAAMFBMVEX////c3NwiIiJERESqqqqY\n",
       "mJh2dnZmZmYQEBDu7u4yMjJUVFTMzMyIiIi6uroAAAAs73DqAAAAAXRSTlMAQObYZgAAASNJREFU\n",
       "KM9jYCAA+C7gkmF9ACROM3DuUMAuXwPEKxkYuDZgl+ZiYOAFms3vgBBirEEyPYGBYwIDw/sJcBGe\n",
       "XQ8Q0pwNDK+AVBLCnasPIJtuwlAGJFff3QrhsiwXgEpIX3sBZKYzLAWa8ZmBH6yJVw1mC18jgz2Q\n",
       "8mLoA+r5ycCRAOSw6cJNlQ9gKAZSLxj+MTCwL2DgLwByJtvBpfczMIDUngdJMxUwvA8ACZ5eApP+\n",
       "zMD5ByzdAvZ2PcRScVWo5/8ysHzgBBluygByVxtU1zRdsDrOLwzcC3wYGKKAbmfgdmCHhyorxPFL\n",
       "GZwKEkAeewRUu7cUERIsa8DevvvGFhh86xg4BHDHNTBQWRNwS7NdAEcoLjALZA1u6Y0gP+JMTLwH\n",
       "GADAqEKnfiwlvgAAAABJRU5ErkJggg==\n",
       "\" style=\"display:inline;vertical-align:middle;\" /></a></td></tr>\n",
       "<tr><td>3</td><td>Operation</td><td>operator:&nbsp;4<br>operands:&nbsp;5<br></td><td><a class=\"ProveItLink\" href=\"../5e14c26c9075c845734b5ab089116fd996bec4930/expr.ipynb\"><img src=\"data:image/png;base64,iVBORw0KGgoAAAANSUhEUgAAADAAAAAOBAMAAACbXIJpAAAAMFBMVEX////c3NxmZmbMzMxERESY\n",
       "mJiIiIh2dna6urqqqqoyMjIiIiIQEBBUVFTu7u4AAAAiO1wTAAAAAXRSTlMAQObYZgAAALdJREFU\n",
       "GNNj4LuzgQE74LqAQ4J/AoLNqIwk0f8AzmS+1YAkUQ1ncaw1QDZqbdpVCINzkQBUSDa9R4CB7wsD\n",
       "P1gh23aYmRwHGfyB6v4x8BQAeezb4GbIBzCoMDAwLWDgVwDynnjAJe4zMABVcSsw9AeAuLYrYRJf\n",
       "GPg+g72hDzFcaCvUM98YOD/wgWw+DlX5fBtYBd9PBt4Fkxl4JzDBw4QV4rClDLMVChj4rqki/MS5\n",
       "GOyNtGa3BgCICywAMzVEAgAAAABJRU5ErkJggg==\n",
       "\" style=\"display:inline;vertical-align:middle;\" /></a></td></tr>\n",
       "<tr><td>4</td><td>Literal</td><td></td><td><a class=\"ProveItLink\" href=\"../7c444b9b2efa607ed6397b492680dde2810212f00/expr.ipynb\"><img src=\"data:image/png;base64,iVBORw0KGgoAAAANSUhEUgAAAA4AAAAMBAMAAACgrpHpAAAALVBMVEX///+YmJhERETu7u52dnYi\n",
       "IiKIiIiqqqq6uroyMjJUVFTMzMxmZmbc3NwAAADmAst+AAAAAXRSTlMAQObYZgAAAD5JREFUCNdj\n",
       "YAAB3tNgintlA4jimLUBRLHPuQCi2EIMQBRLGFgJg5EGhGbYNR3KuBMIZZiEGUAYjCFQBvtsABzC\n",
       "Cm98G6SsAAAAAElFTkSuQmCC\n",
       "\" style=\"display:inline;vertical-align:middle;\" /></a></td></tr>\n",
       "<tr><td>5</td><td>ExprTuple</td><td>6, 7</td><td><a class=\"ProveItLink\" href=\"../ebac1b7ca1b1db15bba3f427fe9e3bc6f12657a30/expr.ipynb\"><img src=\"data:image/png;base64,iVBORw0KGgoAAAANSUhEUgAAACkAAAAVBAMAAAAp9toTAAAAMFBMVEX////c3NwiIiJERESqqqqY\n",
       "mJh2dnZmZmYQEBDu7u4yMjJUVFTMzMyIiIi6uroAAAAs73DqAAAAAXRSTlMAQObYZgAAAQxJREFU\n",
       "GNNjYMAO+C6gCcSBiNMMnDsUkEXZDwCJlQwMXBtQFC9gYOAFGsDvgCIaxsDAMYGB4f0EFNEZDAyv\n",
       "gFQSqnXMDgxlQGr13a0QPuPevEYGBrYChqUMDJyfGfgPgEVfCDB/YGBgWcDQByR/MnAkgJV+ZWA3\n",
       "APqggeEf0IELGPgLQKLcHxiYgE7i+QASZSpgeB8AEuU3YJh/ACzaAnZuPdht8hcY/BkmgEwwZQBZ\n",
       "1cbACRSd78Cwi+UAA+sChnSgcQ7sGxjmA8OCK4BFnQ3sskdAl+0tBXroI8i59w7fA0o+YOAQgPro\n",
       "IbKPWROg7AC4aC4kJFFFOYEhySANYfPClXKDzGREj6E7DAwACHU9OgMxFxcAAAAASUVORK5CYII=\n",
       "\" style=\"display:inline;vertical-align:middle;\" /></a></td></tr>\n",
       "<tr><td>6</td><td>Variable</td><td></td><td><a class=\"ProveItLink\" href=\"../../../../__pv_it/6840a4fa6c106149dc16a131294d0c5e44f1b0480/expr.ipynb\"><img src=\"data:image/png;base64,iVBORw0KGgoAAAANSUhEUgAAAAkAAAAOBAMAAAAPuiubAAAALVBMVEX///9mZmbMzMxERESYmJiI\n",
       "iIh2dna6urqqqqoyMjIiIiIQEBBUVFTu7u4AAAD9S1JeAAAAAXRSTlMAQObYZgAAAE1JREFUCNdj\n",
       "4D29gAEIOA+ASL4GEFl3AURmgQiGOaFHGBh4HzPwKTBwvGXgTmBgnMDAJ8DAJcBQ5wBSLncBJLWN\n",
       "gYGngRFoBO9REQYGAGrcDtUkVqASAAAAAElFTkSuQmCC\n",
       "\" style=\"display:inline;vertical-align:middle;\" /></a></td></tr>\n",
       "<tr><td>7</td><td>Variable</td><td></td><td><a class=\"ProveItLink\" href=\"../../../../__pv_it/07527342713064c87612d00d8557c53d53d5324a0/expr.ipynb\"><img src=\"data:image/png;base64,iVBORw0KGgoAAAANSUhEUgAAAAsAAAAJBAMAAAAWSsseAAAAMFBMVEX///8yMjKqqqrMzMzu7u4i\n",
       "IiJmZmaYmJhEREQQEBC6urp2dnaIiIhUVFTc3NwAAAD87Fq/AAAAAXRSTlMAQObYZgAAAEhJREFU\n",
       "CNdjYOC7s2seAwPDygccHxgY+L4zsDUwMPB+YGA9wMDA38Dgb8DA8P4Agz6DA4O/AsNFJgMGxgKm\n",
       "MG6gyjunLE4xAAAZTBA5TB6DCwAAAABJRU5ErkJggg==\n",
       "\" style=\"display:inline;vertical-align:middle;\" /></a></td></tr>\n",
       "</table>\n"
      ],
      "text/plain": [
       "0. {b < a}\n",
       "   core type: Operation\n",
       "   operator: 1\n",
       "   operands: 2\n",
       "1. Set\n",
       "   core type: Literal\n",
       "   sub-expressions: \n",
       "2. (b < a)\n",
       "   core type: ExprTuple\n",
       "   sub-expressions: 3\n",
       "3. b < a\n",
       "   core type: Operation\n",
       "   operator: 4\n",
       "   operands: 5\n",
       "4. <\n",
       "   core type: Literal\n",
       "   sub-expressions: \n",
       "5. (b , a)\n",
       "   core type: ExprTuple\n",
       "   sub-expressions: 6, 7\n",
       "6. b\n",
       "   core type: Variable\n",
       "   sub-expressions: \n",
       "7. a\n",
       "   core type: Variable\n",
       "   sub-expressions: "
      ]
     },
     "execution_count": 4,
     "metadata": {},
     "output_type": "execute_result"
    }
   ],
   "source": [
    "# display the expression information\n",
    "expr.exprInfo()"
   ]
  },
  {
   "cell_type": "code",
   "execution_count": null,
   "metadata": {},
   "outputs": [],
   "source": []
  }
 ],
 "metadata": {
  "kernelspec": {
   "display_name": "Python 3",
   "language": "python",
   "name": "python3"
  }
 },
 "nbformat": 4,
 "nbformat_minor": 0
}
