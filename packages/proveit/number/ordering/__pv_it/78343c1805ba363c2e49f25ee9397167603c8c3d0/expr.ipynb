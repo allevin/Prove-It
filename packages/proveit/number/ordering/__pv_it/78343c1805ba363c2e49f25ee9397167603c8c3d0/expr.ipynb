{
 "cells": [
  {
   "cell_type": "markdown",
   "metadata": {},
   "source": [
    "Expression of type <a class=\"ProveItLink\" href=\"../../../../../../doc/html/api/proveit.number.LessEq.html\">LessEq</a>\n",
    "=======================\n",
    "# from context <a class=\"ProveItLink\" href=\"../../_context_.ipynb\">proveit.number.ordering</a>"
   ]
  },
  {
   "cell_type": "code",
   "execution_count": 1,
   "metadata": {},
   "outputs": [],
   "source": [
    "# import Expression classes needed to build the expression\n",
    "from proveit._common_ import a, b, c, d\n",
    "from proveit.number import Add, LessEq"
   ]
  },
  {
   "cell_type": "code",
   "execution_count": 2,
   "metadata": {},
   "outputs": [
    {
     "data": {
      "text/html": [
       "<strong id=\"expr\">expr:</strong> <a class=\"ProveItLink\" href=\"expr.ipynb\"><img src=\"data:image/png;base64,iVBORw0KGgoAAAANSUhEUgAAAJIAAAAVBAMAAABf4KrdAAAAMFBMVEX////c3NwiIiJERESqqqqY\n",
       "mJh2dnZmZmYQEBDu7u4yMjJUVFTMzMyIiIi6uroAAAAs73DqAAAAAXRSTlMAQObYZgAAAj1JREFU\n",
       "OMutVEFoE0EUfTG7m90kTZZeg7QItr1UAurN0uCxKN1TDx7KnupJyamH6qERUSxYIoKW9tBQLMUt\n",
       "lAieCq2BXoQemlOLaErQi4jSgC1S0OKfWbM7083oxX/Y+fvn//f//Hnzgf8nmbpiY7yD7ZvCV2/S\n",
       "Z1uVIlGLmNJVLNyLen56iLu0vFRWWwnVrgt8SZaB1Q6eh0iSj3S4J+LPWKA9G/TXBo/yxbLDBh1D\n",
       "d2GWxeDr4s9cW3l+/o/yiEf5ooUlGL2wpvEFSqR4wV9zL9q5KzwqgpQsApcwSVps43ZJRrImGjUY\n",
       "Ra5vrwV34FLUxntHRsrtHlDKm1gm/bMdb8lIb5vJXmi85U+vhLkJYzGPnxJSpoRh6tAIZqmkIyTy\n",
       "EpL1GHEHmWl+bYNBJ01izWgZDySkHgdTrBqcAKkWztQlpBQvMe0Xqve1obKERFE/JKQ3QB8tOwwp\n",
       "m8ciY+GU5w14HuNLNi8gQVuxQ6R+ZI6oY563NON5VTJ+h3XCke5TfXWMoizW1MPz+adjyqpPd7PA\n",
       "6JQ4FmuK/YLWstjpLlMTC1jXaiJSllrrQA9Inr7It6l31G7TFZGsQ6Qq14AbdHt0JVq/IfepCCNg\n",
       "AYfa5Awkw2vckfm0jKtFl7HgI6PT/ta+zILJxjvK0Dw9NoiVC3uOjJRrfB0ixzWY9r9fSyAlQdek\n",
       "B0uvRXeV8+dWBGlMOdeM+l+miuU3vPsck3CqdJZ5dk7VZsqOmGJVlfMrtquavh862M4qfLtq+A0M\n",
       "4ZLEVLJwIAAAAABJRU5ErkJggg==\n",
       "\" style=\"display:inline;vertical-align:middle;\" /></a><br>"
      ],
      "text/plain": [
       "expr: (a + c) <= (b + d)"
      ]
     },
     "execution_count": 2,
     "metadata": {},
     "output_type": "execute_result"
    }
   ],
   "source": [
    "# build up the expression from sub-expressions\n",
    "expr = LessEq(Add(a, c), Add(b, d))"
   ]
  },
  {
   "cell_type": "code",
   "execution_count": 3,
   "metadata": {},
   "outputs": [
    {
     "name": "stdout",
     "output_type": "stream",
     "text": [
      "Passed sanity check: built 'expr' is the same as the stored Expression.\n"
     ]
    }
   ],
   "source": [
    "# check that the built expression is the same as the stored expression\n",
    "%check_expr"
   ]
  },
  {
   "cell_type": "code",
   "execution_count": 4,
   "metadata": {},
   "outputs": [
    {
     "data": {
      "text/html": [
       "<table><tr><th>&nbsp;</th><th>core type</th><th>sub-expressions</th><th>expression</th></tr>\n",
       "<tr><td>0</td><td>Operation</td><td>operator:&nbsp;1<br>operands:&nbsp;2<br></td><td><a class=\"ProveItLink\" href=\"expr.ipynb\"><img src=\"data:image/png;base64,iVBORw0KGgoAAAANSUhEUgAAAJIAAAAVBAMAAABf4KrdAAAAMFBMVEX////c3NwiIiJERESqqqqY\n",
       "mJh2dnZmZmYQEBDu7u4yMjJUVFTMzMyIiIi6uroAAAAs73DqAAAAAXRSTlMAQObYZgAAAj1JREFU\n",
       "OMutVEFoE0EUfTG7m90kTZZeg7QItr1UAurN0uCxKN1TDx7KnupJyamH6qERUSxYIoKW9tBQLMUt\n",
       "lAieCq2BXoQemlOLaErQi4jSgC1S0OKfWbM7083oxX/Y+fvn//f//Hnzgf8nmbpiY7yD7ZvCV2/S\n",
       "Z1uVIlGLmNJVLNyLen56iLu0vFRWWwnVrgt8SZaB1Q6eh0iSj3S4J+LPWKA9G/TXBo/yxbLDBh1D\n",
       "d2GWxeDr4s9cW3l+/o/yiEf5ooUlGL2wpvEFSqR4wV9zL9q5KzwqgpQsApcwSVps43ZJRrImGjUY\n",
       "Ra5vrwV34FLUxntHRsrtHlDKm1gm/bMdb8lIb5vJXmi85U+vhLkJYzGPnxJSpoRh6tAIZqmkIyTy\n",
       "EpL1GHEHmWl+bYNBJ01izWgZDySkHgdTrBqcAKkWztQlpBQvMe0Xqve1obKERFE/JKQ3QB8tOwwp\n",
       "m8ciY+GU5w14HuNLNi8gQVuxQ6R+ZI6oY563NON5VTJ+h3XCke5TfXWMoizW1MPz+adjyqpPd7PA\n",
       "6JQ4FmuK/YLWstjpLlMTC1jXaiJSllrrQA9Inr7It6l31G7TFZGsQ6Qq14AbdHt0JVq/IfepCCNg\n",
       "AYfa5Awkw2vckfm0jKtFl7HgI6PT/ta+zILJxjvK0Dw9NoiVC3uOjJRrfB0ixzWY9r9fSyAlQdek\n",
       "B0uvRXeV8+dWBGlMOdeM+l+miuU3vPsck3CqdJZ5dk7VZsqOmGJVlfMrtquavh862M4qfLtq+A0M\n",
       "4ZLEVLJwIAAAAABJRU5ErkJggg==\n",
       "\" style=\"display:inline;vertical-align:middle;\" /></a></td></tr>\n",
       "<tr><td>1</td><td>Literal</td><td></td><td><a class=\"ProveItLink\" href=\"../aa616d6a8fe3483e4e64187262e9c7dfe6a536a30/expr.ipynb\"><img src=\"data:image/png;base64,iVBORw0KGgoAAAANSUhEUgAAAA4AAAARBAMAAAAf5oCsAAAALVBMVEX///9ERETMzMyqqqoyMjJU\n",
       "VFTc3NyYmJhmZmZ2dnbu7u66uroiIiKIiIgAAAAFyQXGAAAAAXRSTlMAQObYZgAAAEBJREFUCNdj\n",
       "YEAGvKfB1MqzYGrFcTCV6gymVL3B1EIhqNKzCyAM9pNQBrNHAoTB7aoAYTAJwhjRDLhAzhkQOA0A\n",
       "iskPUSt9tJUAAAAASUVORK5CYII=\n",
       "\" style=\"display:inline;vertical-align:middle;\" /></a></td></tr>\n",
       "<tr><td>2</td><td>ExprTuple</td><td>3, 4</td><td><a class=\"ProveItLink\" href=\"../9584e9965666b1885736812ef07c12666a67ca460/expr.ipynb\"><img src=\"data:image/png;base64,iVBORw0KGgoAAAANSUhEUgAAAHAAAAAVBAMAAABs93eRAAAAMFBMVEX////c3NwiIiJERESqqqqY\n",
       "mJh2dnZmZmYQEBDu7u4yMjJUVFTMzMyIiIi6uroAAAAs73DqAAAAAXRSTlMAQObYZgAAAa1JREFU\n",
       "OMudVD1Iw0AYfW3Tn0to071DO6ljBx3F4iiKmZ2Kg26SxQ5F0IIoCErdxKVF6GAKUgdBhGLARXAw\n",
       "k+CQUnURUVppHTpYvIuW5lIb0BuS7777Xt677yfAv1fE+DvGX6ePG7cIcp4YdD5tY42+jl2/LVZ+\n",
       "cbYhAmFO6b4zRk71uKP9y3XgTyOUt8fNOYGN3rHQJwgkQDbwAlfgIgaBogqMI0MtT3UlxwPJkqlb\n",
       "Rtk8cwBjdw0qfxklaj9HfU0eeF0XrXSSFmSdA0ZymKLyZ7BHCT8QTHJAsgufYoV3EEpzwLiCLONC\n",
       "F5Ca8BocUPoRgGARssoBL4ER+rplQDmJAtOT1bQxTSvD8nwvr4oGpQ5q2tGOprGatkC6FnCTshuY\n",
       "R97OGDf6ZVzP2xk9nxCahEmdAAopXAi6HShTFoUwQ8cWl1XShlScBRZoXiEqwmiAv6OKgF6geZVS\n",
       "wQpfjhKm1TQrxyMrY+2qxpcjY97j4J0SVFcdDRAzXyfpbJwgFB3aOQ/2jcD1NG05f9rueLNvlOFj\n",
       "GzDcxkoZPm2HTPSww7DLmJ6yyvzj1xHW8QXzcnNcNe/K8AAAAABJRU5ErkJggg==\n",
       "\" style=\"display:inline;vertical-align:middle;\" /></a></td></tr>\n",
       "<tr><td>3</td><td>Operation</td><td>operator:&nbsp;6<br>operands:&nbsp;5<br></td><td><a class=\"ProveItLink\" href=\"../3a048a8028bbae931654fe66fd97dc672ccb5a080/expr.ipynb\"><img src=\"data:image/png;base64,iVBORw0KGgoAAAANSUhEUgAAAC0AAAAOBAMAAABJDIgxAAAAMFBMVEX///8yMjKqqqrMzMzu7u4i\n",
       "IiJmZmaYmJhEREQQEBC6urp2dnaIiIhUVFTc3NwAAAD87Fq/AAAAAXRSTlMAQObYZgAAAIxJREFU\n",
       "GNNjYEAAlgcMWAHTAWLE+e7smocqzrL7jAEDw8oHHB9QxS0XMAYw8H1nYGtAEWeZw8BRwMD7gYH1\n",
       "AIo4L1g7fwODP9A0BjZBQdGJgoIXwCJA8P4Agz6DA7L692DKX4HhIpMBsjh/AQNDAQNjAVMYN6r5\n",
       "CQzcBkDnn7I4herO7DNHiAoHLiRxAKLPJsdeTzR7AAAAAElFTkSuQmCC\n",
       "\" style=\"display:inline;vertical-align:middle;\" /></a></td></tr>\n",
       "<tr><td>4</td><td>Operation</td><td>operator:&nbsp;6<br>operands:&nbsp;7<br></td><td><a class=\"ProveItLink\" href=\"../dcacd31536e660c3dafa2d044d55890320b9b9f60/expr.ipynb\"><img src=\"data:image/png;base64,iVBORw0KGgoAAAANSUhEUgAAAC0AAAAQBAMAAABw0OvaAAAAMFBMVEX////c3NxmZmbMzMxERESY\n",
       "mJiIiIh2dna6urqqqqoyMjIiIiIQEBBUVFTu7u4AAAAiO1wTAAAAAXRSTlMAQObYZgAAALFJREFU\n",
       "GNNj4LuzgQEdcPgoMDBwXcAQZ+CfAMFgwCcAF+9/AMFgwJkAF6+GYnTxRUC8Nu0qqjjjtYqfQFO/\n",
       "MPAboIj3CLD8A/L+MfAUIIszfmVgWsAAwvwKyOK8Hxi4gQq5FRj6A4DSq1atPrVqFdAv/A4M7xvA\n",
       "ztd/gKxePoFhPsMDkKXHUdzzfgLDLU4DBt4JTBdQxLkCODexA915TRXVX4zXMkwykAMLyb+ooYss\n",
       "DgB7VS6DZBThtwAAAABJRU5ErkJggg==\n",
       "\" style=\"display:inline;vertical-align:middle;\" /></a></td></tr>\n",
       "<tr><td>5</td><td>ExprTuple</td><td>8, 9</td><td><a class=\"ProveItLink\" href=\"../e00e3b80b64d39dca63229810ef53878155237050/expr.ipynb\"><img src=\"data:image/png;base64,iVBORw0KGgoAAAANSUhEUgAAACkAAAAVBAMAAAAp9toTAAAAMFBMVEX////c3NwiIiJERESqqqqY\n",
       "mJh2dnZmZmYQEBDu7u4yMjJUVFTMzMyIiIi6uroAAAAs73DqAAAAAXRSTlMAQObYZgAAAPRJREFU\n",
       "GNNjYMAO+C6gCcSBiNPoytgPAImVGLoXMDDwXsAQDWNg4JiAITqDgeEVpv3MDgxlQIpxb14jRIAz\n",
       "7e4BBrYChqVA9gsB5g8Q0RMPuBQYWBYw9AGVfmVgN4Ao7WVgDmDga2D4x8DA/YGBCeISbrAWng8g\n",
       "UX4DhvkHwKL8BlDRFgYG+QsM/gxgB8qDtQBNMGVgmO/AsIvlACdIbQADQwAD6wKGdAYGrgAWdTaG\n",
       "+QpAcwsY2MAuewRy7r3D9xhmfAQqLrt7E6jqAQOHAMxLD5F8zJoA4wTAGLnIIQkT5QSGJIM0lMML\n",
       "k+UGmcmIHsB3GBgAepU3R/FEgFEAAAAASUVORK5CYII=\n",
       "\" style=\"display:inline;vertical-align:middle;\" /></a></td></tr>\n",
       "<tr><td>6</td><td>Literal</td><td></td><td><a class=\"ProveItLink\" href=\"../../../addition/__pv_it/3e6688136fa3c7aefbebe51301b7c3ebf0b69c440/expr.ipynb\"><img src=\"data:image/png;base64,iVBORw0KGgoAAAANSUhEUgAAAA4AAAAOBAMAAADtZjDiAAAAJFBMVEX///+6urpUVFQQEBAiIiIy\n",
       "MjJmZmaIiIiqqqrc3Nzu7u4AAACgHpL+AAAAAXRSTlMAQObYZgAAAB5JREFUCNdjYGBgWMkAAe2k\n",
       "0Kmhoc6hoUGk6BMHYgAHOwjcado9fwAAAABJRU5ErkJggg==\n",
       "\" style=\"display:inline;vertical-align:middle;\" /></a></td></tr>\n",
       "<tr><td>7</td><td>ExprTuple</td><td>10, 11</td><td><a class=\"ProveItLink\" href=\"../d87bac5d40dfeeabb93df4d7da1afff3115a746c0/expr.ipynb\"><img src=\"data:image/png;base64,iVBORw0KGgoAAAANSUhEUgAAACkAAAAVBAMAAAAp9toTAAAAMFBMVEX////c3NwiIiJERESqqqqY\n",
       "mJh2dnZmZmYQEBDu7u4yMjJUVFTMzMyIiIi6uroAAAAs73DqAAAAAXRSTlMAQObYZgAAARBJREFU\n",
       "GNNtkbFLw0AUxn9t0yZpbdPdQTdXF8Ex/4GZHKW4OClZdNVBHCWjW7KIiEsXQYRCwNElf4CW6iQu\n",
       "rahDF/HdS7li8Q13H797vPu+O/i/OsUC2DHLI/7d6rxnM3Zz2a+h2Z93BiEZtAtVtsYJ2+Alqmzt\n",
       "wgW8l8rWFdRCjkTdPN+WqDI4+IJGzCX4nwS50rdubQpOxrmsU7yetn7jioHOCT8YFcSGtiZU5Xhp\n",
       "Ymg1Zhyp13XSkdJTtXus3lYKtkjMhA3MVWf4QtOQeyennrEn40K3Typv0YyctYY6exVng0MJ9GHs\n",
       "Dh+GcjjC685Cvdh4krjem+nI0v3yJf9SX4KwXOq2bW2ZmZXFH3qCX6tPQWNCRvOkAAAAAElFTkSu\n",
       "QmCC\n",
       "\" style=\"display:inline;vertical-align:middle;\" /></a></td></tr>\n",
       "<tr><td>8</td><td>Variable</td><td></td><td><a class=\"ProveItLink\" href=\"../../../../__pv_it/07527342713064c87612d00d8557c53d53d5324a0/expr.ipynb\"><img src=\"data:image/png;base64,iVBORw0KGgoAAAANSUhEUgAAAAsAAAAJBAMAAAAWSsseAAAAMFBMVEX///8yMjKqqqrMzMzu7u4i\n",
       "IiJmZmaYmJhEREQQEBC6urp2dnaIiIhUVFTc3NwAAAD87Fq/AAAAAXRSTlMAQObYZgAAAEhJREFU\n",
       "CNdjYOC7s2seAwPDygccHxgY+L4zsDUwMPB+YGA9wMDA38Dgb8DA8P4Agz6DA4O/AsNFJgMGxgKm\n",
       "MG6gyjunLE4xAAAZTBA5TB6DCwAAAABJRU5ErkJggg==\n",
       "\" style=\"display:inline;vertical-align:middle;\" /></a></td></tr>\n",
       "<tr><td>9</td><td>Variable</td><td></td><td><a class=\"ProveItLink\" href=\"../../../../__pv_it/cbdfda466482236edba0ce44ac7ef39cda0af7a40/expr.ipynb\"><img src=\"data:image/png;base64,iVBORw0KGgoAAAANSUhEUgAAAAkAAAAJBAMAAAASvxsjAAAALVBMVEX///9mZmbc3NxUVFSYmJhE\n",
       "REQiIiIyMjK6uroQEBDMzMyIiIh2dnbu7u4AAABgFDGoAAAAAXRSTlMAQObYZgAAADZJREFUCNdj\n",
       "YOA9s3sBA8PKBvYEBt7ZDKwODMwPGICALwBE6m0Asx0YGIDiAgw8QJUyu/cyAAAmuwmycZ8WfQAA\n",
       "AABJRU5ErkJggg==\n",
       "\" style=\"display:inline;vertical-align:middle;\" /></a></td></tr>\n",
       "<tr><td>10</td><td>Variable</td><td></td><td><a class=\"ProveItLink\" href=\"../../../../__pv_it/6840a4fa6c106149dc16a131294d0c5e44f1b0480/expr.ipynb\"><img src=\"data:image/png;base64,iVBORw0KGgoAAAANSUhEUgAAAAkAAAAOBAMAAAAPuiubAAAALVBMVEX///9mZmbMzMxERESYmJiI\n",
       "iIh2dna6urqqqqoyMjIiIiIQEBBUVFTu7u4AAAD9S1JeAAAAAXRSTlMAQObYZgAAAE1JREFUCNdj\n",
       "4D29gAEIOA+ASL4GEFl3AURmgQiGOaFHGBh4HzPwKTBwvGXgTmBgnMDAJ8DAJcBQ5wBSLncBJLWN\n",
       "gYGngRFoBO9REQYGAGrcDtUkVqASAAAAAElFTkSuQmCC\n",
       "\" style=\"display:inline;vertical-align:middle;\" /></a></td></tr>\n",
       "<tr><td>11</td><td>Variable</td><td></td><td><a class=\"ProveItLink\" href=\"../../../../__pv_it/3a5de44ed6135dbbdbbeec6704c741e238f127300/expr.ipynb\"><img src=\"data:image/png;base64,iVBORw0KGgoAAAANSUhEUgAAAAsAAAAOBAMAAAALT/umAAAAMFBMVEX////MzMyYmJiIiIhUVFTc\n",
       "3NwyMjIiIiJ2dnbu7u6qqqpmZmYQEBBERES6uroAAABkyy6XAAAAAXRSTlMAQObYZgAAAFhJREFU\n",
       "CNdjYGBg4LuzgQEE+BeAqfcTwFQ7mGTIBmJW575fQOpNAO9PIOcTA3cCAwPLBwb2BqCeCwzzHzAw\n",
       "xBswrGeYwDB/AYMblwADmwJXNQdIm52sHQMAfyoTCZukXIEAAAAASUVORK5CYII=\n",
       "\" style=\"display:inline;vertical-align:middle;\" /></a></td></tr>\n",
       "</table>\n"
      ],
      "text/plain": [
       "0. (a + c) <= (b + d)\n",
       "   core type: Operation\n",
       "   operator: 1\n",
       "   operands: 2\n",
       "1. <=\n",
       "   core type: Literal\n",
       "   sub-expressions: \n",
       "2. (a + c , b + d)\n",
       "   core type: ExprTuple\n",
       "   sub-expressions: 3, 4\n",
       "3. a + c\n",
       "   core type: Operation\n",
       "   operator: 6\n",
       "   operands: 5\n",
       "4. b + d\n",
       "   core type: Operation\n",
       "   operator: 6\n",
       "   operands: 7\n",
       "5. (a , c)\n",
       "   core type: ExprTuple\n",
       "   sub-expressions: 8, 9\n",
       "6. +\n",
       "   core type: Literal\n",
       "   sub-expressions: \n",
       "7. (b , d)\n",
       "   core type: ExprTuple\n",
       "   sub-expressions: 10, 11\n",
       "8. a\n",
       "   core type: Variable\n",
       "   sub-expressions: \n",
       "9. c\n",
       "   core type: Variable\n",
       "   sub-expressions: \n",
       "10. b\n",
       "    core type: Variable\n",
       "    sub-expressions: \n",
       "11. d\n",
       "    core type: Variable\n",
       "    sub-expressions: "
      ]
     },
     "execution_count": 4,
     "metadata": {},
     "output_type": "execute_result"
    }
   ],
   "source": [
    "# display the expression information\n",
    "expr.exprInfo()"
   ]
  },
  {
   "cell_type": "code",
   "execution_count": null,
   "metadata": {},
   "outputs": [],
   "source": []
  }
 ],
 "metadata": {
  "kernelspec": {
   "display_name": "Python 3",
   "language": "python",
   "name": "python3"
  }
 },
 "nbformat": 4,
 "nbformat_minor": 0
}
