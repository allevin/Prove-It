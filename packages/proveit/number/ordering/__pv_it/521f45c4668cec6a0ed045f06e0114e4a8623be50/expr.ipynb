{
 "cells": [
  {
   "cell_type": "markdown",
   "metadata": {},
   "source": [
    "Expression of type <a class=\"ProveItLink\" href=\"../../../../../../doc/html/api/proveit.Lambda.html\">Lambda</a>\n",
    "=======================\n",
    "# from context <a class=\"ProveItLink\" href=\"../../_context_.ipynb\">proveit.number.ordering</a>"
   ]
  },
  {
   "cell_type": "code",
   "execution_count": 1,
   "metadata": {},
   "outputs": [],
   "source": [
    "# import Expression classes needed to build the expression\n",
    "from proveit import Lambda\n",
    "from proveit._common_ import x, y\n",
    "from proveit.number import Greater, Less"
   ]
  },
  {
   "cell_type": "code",
   "execution_count": 2,
   "metadata": {},
   "outputs": [
    {
     "data": {
      "text/html": [
       "<strong id=\"expr\">expr:</strong> <a class=\"ProveItLink\" href=\"expr.ipynb\"><img src=\"data:image/png;base64,iVBORw0KGgoAAAANSUhEUgAAALcAAAAVCAMAAAAzZI9IAAAANlBMVEX///8UFBQNDQ2YmJhUVFQy\n",
       "MjIQEBBEREQiIiKqqqrMzMyIiIi6urrc3NxmZmZ2dnbu7u4AAACrLjZHAAAAAXRSTlMAQObYZgAA\n",
       "AepJREFUSMfFV9uWgyAMdFfud/7/Z1cKaghiFXu2fWlPzGQmIcF0mr72kfY/2Ywegs2mMXnzj7IV\n",
       "GQQ69VXdNAwjv6lbH3eJJep9p/hR3dapp7pZp9yK83cqAhvTrQh9fDCG9otCqDwHczmg29DeUQbv\n",
       "0gnaGA4bUUI2548hxSpmlIvXxErtcnN5d6K7dt3IqbM9rX4yMXVuXB+KOjwB4mgW1kDWsFr4AFmW\n",
       "rl5yYaKI6OtGrmWYqmiIWMnJJWfOO7oD2VNmL6oWAqZPuLCzZAqZT9qwvm7k+jKJ5g6AxAsLSw5x\n",
       "8/r9EdWHxY0g/2oh1RRtaaYEyJ6biif1rl2T5WDSa2KZukVF1an3RHb8mgGGbFPEObIxfUk3cl1L\n",
       "0Ew6JHap7/R+iEg3nAxWAmHIOkUErxz2RRHe9gly3S5uPOmQmKY556SjW8Eq8BIGQ3Jn4ymabR5d\n",
       "ne3zyVwiV3hHVSZI7JYvE/fENO4pQFWuMgxp4ucznSe+lMbq6d09iF279YDEgWvt4qWl0ojpEGLx\n",
       "eRYnH7zX6yP82gO6sSvuPwUcK2IvLr7n70Oevufb/TcTE5FiyotrtL8N2ej0c92QWCxSuL+1x96D\n",
       "lHJ/Yo+FxHLpmOsRLLkNKaWyH9A9QrwKH/ufptutTj9ZT/8Ao3sXi9UFds0AAAAASUVORK5CYII=\n",
       "\" style=\"display:inline;vertical-align:middle;\" /></a><br>"
      ],
      "text/plain": [
       "expr: y -> (y > x) | x < y"
      ]
     },
     "execution_count": 2,
     "metadata": {},
     "output_type": "execute_result"
    }
   ],
   "source": [
    "# build up the expression from sub-expressions\n",
    "expr = Lambda(y, Greater(y, x), conditions = [Less(x, y)])"
   ]
  },
  {
   "cell_type": "code",
   "execution_count": 3,
   "metadata": {},
   "outputs": [
    {
     "name": "stdout",
     "output_type": "stream",
     "text": [
      "Passed sanity check: built 'expr' is the same as the stored Expression.\n"
     ]
    }
   ],
   "source": [
    "# check that the built expression is the same as the stored expression\n",
    "%check_expr"
   ]
  },
  {
   "cell_type": "code",
   "execution_count": 4,
   "metadata": {},
   "outputs": [
    {
     "data": {
      "text/html": [
       "<table><tr><th>&nbsp;</th><th>core type</th><th>sub-expressions</th><th>expression</th></tr>\n",
       "<tr><td>0</td><td>Lambda</td><td>parameter:&nbsp;9<br>body:&nbsp;1<br>conditions:&nbsp;2<br></td><td><a class=\"ProveItLink\" href=\"expr.ipynb\"><img src=\"data:image/png;base64,iVBORw0KGgoAAAANSUhEUgAAALcAAAAVCAMAAAAzZI9IAAAANlBMVEX///8UFBQNDQ2YmJhUVFQy\n",
       "MjIQEBBEREQiIiKqqqrMzMyIiIi6urrc3NxmZmZ2dnbu7u4AAACrLjZHAAAAAXRSTlMAQObYZgAA\n",
       "AepJREFUSMfFV9uWgyAMdFfud/7/Z1cKaghiFXu2fWlPzGQmIcF0mr72kfY/2Ywegs2mMXnzj7IV\n",
       "GQQ69VXdNAwjv6lbH3eJJep9p/hR3dapp7pZp9yK83cqAhvTrQh9fDCG9otCqDwHczmg29DeUQbv\n",
       "0gnaGA4bUUI2548hxSpmlIvXxErtcnN5d6K7dt3IqbM9rX4yMXVuXB+KOjwB4mgW1kDWsFr4AFmW\n",
       "rl5yYaKI6OtGrmWYqmiIWMnJJWfOO7oD2VNmL6oWAqZPuLCzZAqZT9qwvm7k+jKJ5g6AxAsLSw5x\n",
       "8/r9EdWHxY0g/2oh1RRtaaYEyJ6biif1rl2T5WDSa2KZukVF1an3RHb8mgGGbFPEObIxfUk3cl1L\n",
       "0Ew6JHap7/R+iEg3nAxWAmHIOkUErxz2RRHe9gly3S5uPOmQmKY556SjW8Eq8BIGQ3Jn4ymabR5d\n",
       "ne3zyVwiV3hHVSZI7JYvE/fENO4pQFWuMgxp4ucznSe+lMbq6d09iF279YDEgWvt4qWl0ojpEGLx\n",
       "eRYnH7zX6yP82gO6sSvuPwUcK2IvLr7n70Oevufb/TcTE5FiyotrtL8N2ej0c92QWCxSuL+1x96D\n",
       "lHJ/Yo+FxHLpmOsRLLkNKaWyH9A9QrwKH/ufptutTj9ZT/8Ao3sXi9UFds0AAAAASUVORK5CYII=\n",
       "\" style=\"display:inline;vertical-align:middle;\" /></a></td></tr>\n",
       "<tr><td>1</td><td>Operation</td><td>operator:&nbsp;3<br>operands:&nbsp;4<br></td><td><a class=\"ProveItLink\" href=\"../fedfbb7ca0a9f578e01917a5ce7bef0d1f8bcd140/expr.ipynb\"><img src=\"data:image/png;base64,iVBORw0KGgoAAAANSUhEUgAAADIAAAAQBAMAAACmdTG/AAAAMFBMVEX///+YmJhUVFQyMjIQEBBE\n",
       "REQiIiKqqqrMzMyIiIi6urrc3NxmZmZ2dnbu7u4AAADXeCicAAAAAXRSTlMAQObYZgAAAMFJREFU\n",
       "GNNjYICBTQ0MOABH6AJcUtzKBSh8vjsXGPY/gDCvCUDV3NSuPMnAy/WBYT5M1bR7YPotg5iAG0M7\n",
       "TwJDKNwEsXMg8gJQbQXDA5YJDD/hMk3WIPIBgyqIqn/A8QMmsTQCyvAEEYcZOB2g/GJtmDN/MPAx\n",
       "MNgwsCpALbkHlZDm/MAwj4HhEMN6AYib50El2D+yOnBPYGB4OvP8BhB/mwDci5H37k4Es65hDxOm\n",
       "BD537DJsF1gvYJdhn3kKuwQAODUvic93v7AAAAAASUVORK5CYII=\n",
       "\" style=\"display:inline;vertical-align:middle;\" /></a></td></tr>\n",
       "<tr><td>2</td><td>ExprTuple</td><td>5</td><td><a class=\"ProveItLink\" href=\"../7b0e1f63384f42300c8a7402853090dc789c10060/expr.ipynb\"><img src=\"data:image/png;base64,iVBORw0KGgoAAAANSUhEUgAAAD8AAAAVBAMAAAADRiu8AAAAMFBMVEX////c3NwiIiJERESqqqqY\n",
       "mJh2dnZmZmYQEBDu7u4yMjJUVFTMzMyIiIi6uroAAAAs73DqAAAAAXRSTlMAQObYZgAAATNJREFU\n",
       "KM9jYCAI+C7glosDEafxaGY/ACRW4jN+AQMDL4YN4gcQ7DAGBo4JaPKn1yFxZjAwvEKTf7UHmcfs\n",
       "wFAGpMRui1yH2uRVCKE50xMY5CcwsBUwLAVyElhVORTA4pcyoVrZ+D4w3GdgYFnA0AfkMPB+YAG7\n",
       "LAnu4iPsCgzGwEBqYPgHNIGB2wBirvEDmIIJHBcY/jIw8HwAKQB6BaqTZ5cDTIX/BJ4/YAUtIJ78\n",
       "AQaIbxmLAqAKqhh4G8BWmDIwsArcZ+CFBgdn0k0IYzkD8wag1AKGdKBpARYMsnCvB0E8Us3wHmgY\n",
       "0JuPGBgmX5uWG4AIHC+whybfrRdgYOB6wMAhgCuikiBBzZqAVZZbgRPk/Fyc0c2UwAzUyQmMbgZp\n",
       "rApY7taBzAHZz4gnyd1hYAAAWThEY6Z5BvwAAAAASUVORK5CYII=\n",
       "\" style=\"display:inline;vertical-align:middle;\" /></a></td></tr>\n",
       "<tr><td>3</td><td>Literal</td><td></td><td><a class=\"ProveItLink\" href=\"../fed4085ae483b560677c9d938187885e1d910a490/expr.ipynb\"><img src=\"data:image/png;base64,iVBORw0KGgoAAAANSUhEUgAAAA4AAAAMBAMAAACgrpHpAAAALVBMVEX///9mZmaIiIiYmJgiIiJ2\n",
       "dnbu7u6qqqoyMjK6urpERETMzMxUVFTc3NwAAADHHImEAAAAAXRSTlMAQObYZgAAADlJREFUCNdj\n",
       "uLOBAQy4V02AMHhPFEAYbCEGUIZKGITBYCIGoff0gqlZq8FUxVmIZBhElxqYdwWiGQBNjQtMyuln\n",
       "xAAAAABJRU5ErkJggg==\n",
       "\" style=\"display:inline;vertical-align:middle;\" /></a></td></tr>\n",
       "<tr><td>4</td><td>ExprTuple</td><td>9, 8</td><td><a class=\"ProveItLink\" href=\"../470bbc9880f0fcda6ab2160544dedf05732e41640/expr.ipynb\"><img src=\"data:image/png;base64,iVBORw0KGgoAAAANSUhEUgAAACwAAAAVBAMAAADP3xFXAAAAMFBMVEX////c3NwiIiJERESqqqqY\n",
       "mJh2dnZmZmYQEBDu7u4yMjJUVFTMzMyIiIi6uroAAAAs73DqAAAAAXRSTlMAQObYZgAAAQdJREFU\n",
       "GNN1kLtKA0EUQI8mu5kYJ2whNiLZxl5QwW+wydZWg00qWwsVTWEtC0IINlYiNqJ/sIWdhVOZIoSo\n",
       "ldgYeyPecYOvMQP3wZn7hjGvav+S4F7UjR+5K3Lu4ynQ1seBQaU+Ljd5/m+MZbbks2Go5Umz3ZmO\n",
       "VG1wCmF1QD/PNsGCimGNQ7guxSx94hA9KGbwxDukyjLMo6ksOnvrMPV0+m3UTNkcH4jeRjdHuJaR\n",
       "uiIr4p9RuJQCskfURwtel1lgh5eEE5mgnqwyjxvwUfRRbz+i/SrOXWszEXCBilzJDZGHn8vLWSpx\n",
       "2TVOvnBo3WEnTcH8wscicxR7e2L196WuRCa8g+uMDxGWOvpEaKwNAAAAAElFTkSuQmCC\n",
       "\" style=\"display:inline;vertical-align:middle;\" /></a></td></tr>\n",
       "<tr><td>5</td><td>Operation</td><td>operator:&nbsp;6<br>operands:&nbsp;7<br></td><td><a class=\"ProveItLink\" href=\"../71bb95075d16768542ac9a2538416ab5fda1d5010/expr.ipynb\"><img src=\"data:image/png;base64,iVBORw0KGgoAAAANSUhEUgAAADMAAAAQBAMAAABJt1qBAAAAMFBMVEX///+6uroyMjJERETMzMwQ\n",
       "EBAiIiKYmJju7u5mZmaqqqpUVFSIiIh2dnbc3NwAAAAWgogoAAAAAXRSTlMAQObYZgAAAMhJREFU\n",
       "GNNjYEAFLx0YcABvRVwyQltQuG9Pvzp5AMJcNA9Cc9y8wPC+gYHjAns6awJY5NgNqGpexg8M54EU\n",
       "A88HLrDd1w7ADPLiTGAwBmpm4DaAmGIsAJNqYD3A8AfEYIWqZtm0ACa3voHlC4h+78DQABbgm1YA\n",
       "lZrEwBPAwMD+4DwDTwPUZddOQBiaDMwbgHoLTBnewH1SBnHkbAZ5oAHNZ3vvFCB8uQjs2OYz8x/g\n",
       "ChaGazjEuRM4onBIsV1gvoBDiuvMRCAJANSaM5a+pyQLAAAAAElFTkSuQmCC\n",
       "\" style=\"display:inline;vertical-align:middle;\" /></a></td></tr>\n",
       "<tr><td>6</td><td>Literal</td><td></td><td><a class=\"ProveItLink\" href=\"../7c444b9b2efa607ed6397b492680dde2810212f00/expr.ipynb\"><img src=\"data:image/png;base64,iVBORw0KGgoAAAANSUhEUgAAAA4AAAAMBAMAAACgrpHpAAAALVBMVEX///+YmJhERETu7u52dnYi\n",
       "IiKIiIiqqqq6uroyMjJUVFTMzMxmZmbc3NwAAADmAst+AAAAAXRSTlMAQObYZgAAAD5JREFUCNdj\n",
       "YAAB3tNgintlA4jimLUBRLHPuQCi2EIMQBRLGFgJg5EGhGbYNR3KuBMIZZiEGUAYjCFQBvtsABzC\n",
       "Cm98G6SsAAAAAElFTkSuQmCC\n",
       "\" style=\"display:inline;vertical-align:middle;\" /></a></td></tr>\n",
       "<tr><td>7</td><td>ExprTuple</td><td>8, 9</td><td><a class=\"ProveItLink\" href=\"../a6a2ac9310c73e21661c7634808321702fb219240/expr.ipynb\"><img src=\"data:image/png;base64,iVBORw0KGgoAAAANSUhEUgAAACwAAAAVBAMAAADP3xFXAAAAMFBMVEX////c3NwiIiJERESqqqqY\n",
       "mJh2dnZmZmYQEBDu7u4yMjJUVFTMzMyIiIi6uroAAAAs73DqAAAAAXRSTlMAQObYZgAAAQtJREFU\n",
       "GNNjYMAB+C6gi7A+ABKnMVXWAPFKTGEuBgbeC5jCrAkMHBMwhTkbGF5hc4YJQxmQFLstch1i1rQy\n",
       "BsafDAzpDEuBehJYVTkUwMIJ7xl4PzAweDH0MTCwAZksB0CiPA5FDMwGDAwvGP4BVTNwG0DtYuhl\n",
       "4Acadx4kzMDAAXMly0+G8wdAwi0gnvwBBog72Rcw3GAAGWIKdL3AfQbeCWAJrgIGayAVBXQLg3+A\n",
       "BYMsA+cnkOoNfF8ZQA58xMAw+dq03AAGzn4BoJ221z8ChdcxcAjAQxjMYlMAex4YLLAAAuJNDDMc\n",
       "gFIXkAIWJKzGYAYkZwGxNEwY5Hbf66CY2QjEjBgBznuAAQAt5DtyKXSr1gAAAABJRU5ErkJggg==\n",
       "\" style=\"display:inline;vertical-align:middle;\" /></a></td></tr>\n",
       "<tr><td>8</td><td>Variable</td><td></td><td><a class=\"ProveItLink\" href=\"../../../../__pv_it/530be409e3083890784cf1d7b28c9e67e90af9360/expr.ipynb\"><img src=\"data:image/png;base64,iVBORw0KGgoAAAANSUhEUgAAAAsAAAAJBAMAAAAWSsseAAAAKlBMVEX///9ERETMzMwQEBAiIiKY\n",
       "mJju7u5mZmaqqqpUVFSIiIh2dnbc3NwAAAA/vyDhAAAAAXRSTlMAQObYZgAAAENJREFUCNdjYDi9\n",
       "8sTyBQxsG1hdmR0YuBm4LnAoMLAxcAowgADzAjB1VoEhgYH1wFoGrgSG3gBhhlMMDImrs3cFMAAA\n",
       "t0YN+iTRa+sAAAAASUVORK5CYII=\n",
       "\" style=\"display:inline;vertical-align:middle;\" /></a></td></tr>\n",
       "<tr><td>9</td><td>Variable</td><td></td><td><a class=\"ProveItLink\" href=\"../../../../__pv_it/f8b9edf8e16034727f0aad55bb83e392c3db40d40/expr.ipynb\"><img src=\"data:image/png;base64,iVBORw0KGgoAAAANSUhEUgAAAAsAAAANBAMAAACN24kIAAAAMFBMVEX///+YmJhUVFQyMjIQEBBE\n",
       "REQiIiKqqqrMzMyIiIi6urrc3NxmZmZ2dnbu7u4AAADXeCicAAAAAXRSTlMAQObYZgAAAFhJREFU\n",
       "CNdj4LtzgWH/AwZerg8M8xkY2nkSGEIZGB6wTGD4ycDAUP+A4weQOszA6QCkbBhYFYDUIYb1AkDq\n",
       "6czzGxhA4BoQMyXwuQMptgusF4AU+8xTQBIAUqMVoSp/SLMAAAAASUVORK5CYII=\n",
       "\" style=\"display:inline;vertical-align:middle;\" /></a></td></tr>\n",
       "</table>\n"
      ],
      "text/plain": [
       "0. y -> (y > x) | x < y\n",
       "   core type: Lambda\n",
       "   parameter: 9\n",
       "   body: 1\n",
       "   conditions: 2\\n1. y > x\n",
       "   core type: Operation\n",
       "   operator: 3\n",
       "   operands: 4\n",
       "2. (x < y)\n",
       "   core type: ExprTuple\n",
       "   sub-expressions: 5\n",
       "3. >\n",
       "   core type: Literal\n",
       "   sub-expressions: \n",
       "4. (y , x)\n",
       "   core type: ExprTuple\n",
       "   sub-expressions: 9, 8\n",
       "5. x < y\n",
       "   core type: Operation\n",
       "   operator: 6\n",
       "   operands: 7\n",
       "6. <\n",
       "   core type: Literal\n",
       "   sub-expressions: \n",
       "7. (x , y)\n",
       "   core type: ExprTuple\n",
       "   sub-expressions: 8, 9\n",
       "8. x\n",
       "   core type: Variable\n",
       "   sub-expressions: \n",
       "9. y\n",
       "   core type: Variable\n",
       "   sub-expressions: "
      ]
     },
     "execution_count": 4,
     "metadata": {},
     "output_type": "execute_result"
    }
   ],
   "source": [
    "# display the expression information\n",
    "expr.exprInfo()"
   ]
  },
  {
   "cell_type": "code",
   "execution_count": null,
   "metadata": {},
   "outputs": [],
   "source": []
  }
 ],
 "metadata": {
  "kernelspec": {
   "display_name": "Python 3",
   "language": "python",
   "name": "python3"
  }
 },
 "nbformat": 4,
 "nbformat_minor": 0
}
