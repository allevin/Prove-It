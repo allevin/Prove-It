{
 "cells": [
  {
   "cell_type": "markdown",
   "metadata": {},
   "source": [
    "Expression of type <a class=\"ProveItLink\" href=\"../../../../../../doc/html/api/proveit.Lambda.html\">Lambda</a>\n",
    "=======================\n",
    "# from context <a class=\"ProveItLink\" href=\"../../_context_.ipynb\">proveit.number.ordering</a>"
   ]
  },
  {
   "cell_type": "code",
   "execution_count": 1,
   "metadata": {},
   "outputs": [],
   "source": [
    "# import Expression classes needed to build the expression\n",
    "from proveit import Lambda\n",
    "from proveit._common_ import x, y, z\n",
    "from proveit.number import Greater"
   ]
  },
  {
   "cell_type": "code",
   "execution_count": 2,
   "metadata": {},
   "outputs": [
    {
     "data": {
      "text/html": [
       "<strong id=\"expr\">expr:</strong> <a class=\"ProveItLink\" href=\"expr.ipynb\"><img src=\"data:image/png;base64,iVBORw0KGgoAAAANSUhEUgAAALUAAAAVCAMAAAA3kV91AAAANlBMVEX///8UFBQNDQ0iIiIyMjLM\n",
       "zMx2dnaqqqpUVFTu7u5mZmaYmJhERESIiIjc3NwQEBC6uroAAAASmHVxAAAAAXRSTlMAQObYZgAA\n",
       "AdJJREFUSMfFl+uSgyAMhdnlfkmA93/ZhWpXQEFxxpZfToUvx3ASKCFfGxI/FyvAnVU27H8T4WOi\n",
       "ubq3zvBvqmb67sIvqoaOP1DxM4+IGdXnvJnhe6nmzo1Tp/1Urk95M6XIRulhcrTWyTmHnPGC94Eg\n",
       "HBpQVivNus0oQKEEU/tFC2r7aGH6qrV4kTHqyzx0Foxx7xe0nqdKELMrLvk0ET1tbQBUlPNLtGR9\n",
       "1YKEmKsmXufln/UmrlGiVXEY+LAGWSLIg5Kx1GxxSnTwXdVcEpPDOjfByx7apv3+0Gr4uOVkfczL\n",
       "lOs1dIa1Pd8vYld14vm86xEmeCSUlmt3XRVFU3yAP+yBwbk6/xt6oDrtWnY0j3yCJ6tW2qg25Zf6\n",
       "/9rEV4SmD0qmmrtFgR44JEXJpod2xoi3PKlj1bxKqVuq0eJSOKBrB4q2m5doO6hGwnIKnSKXeZxZ\n",
       "Yy37RzTdrA5klu20xKW8IFRdCnYnUIUedT5ikpIQ7XVegtno5bVT5rUR2oHQQkARBHedlbRoFgaq\n",
       "ExJMxBnezIl++058fqIL+tTtaX8HujoEDFQrmj9LPqX69k1VD2+qNCXDicdEV+fRzFA4Ui2Tqx+9\n",
       "beOtf2BwcPbDfZ1/7b8TEJmxsLYAAAAASUVORK5CYII=\n",
       "\" style=\"display:inline;vertical-align:middle;\" /></a><br>"
      ],
      "text/plain": [
       "expr: z -> (x > z) | y > z"
      ]
     },
     "execution_count": 2,
     "metadata": {},
     "output_type": "execute_result"
    }
   ],
   "source": [
    "# build up the expression from sub-expressions\n",
    "expr = Lambda(z, Greater(x, z), conditions = [Greater(y, z)])"
   ]
  },
  {
   "cell_type": "code",
   "execution_count": 3,
   "metadata": {},
   "outputs": [
    {
     "name": "stdout",
     "output_type": "stream",
     "text": [
      "Passed sanity check: built 'expr' is the same as the stored Expression.\n"
     ]
    }
   ],
   "source": [
    "# check that the built expression is the same as the stored expression\n",
    "%check_expr"
   ]
  },
  {
   "cell_type": "code",
   "execution_count": 4,
   "metadata": {},
   "outputs": [
    {
     "data": {
      "text/html": [
       "<table><tr><th>&nbsp;</th><th>core type</th><th>sub-expressions</th><th>expression</th></tr>\n",
       "<tr><td>0</td><td>Lambda</td><td>parameter:&nbsp;9<br>body:&nbsp;1<br>conditions:&nbsp;2<br></td><td><a class=\"ProveItLink\" href=\"expr.ipynb\"><img src=\"data:image/png;base64,iVBORw0KGgoAAAANSUhEUgAAALUAAAAVCAMAAAA3kV91AAAANlBMVEX///8UFBQNDQ0iIiIyMjLM\n",
       "zMx2dnaqqqpUVFTu7u5mZmaYmJhERESIiIjc3NwQEBC6uroAAAASmHVxAAAAAXRSTlMAQObYZgAA\n",
       "AdJJREFUSMfFl+uSgyAMhdnlfkmA93/ZhWpXQEFxxpZfToUvx3ASKCFfGxI/FyvAnVU27H8T4WOi\n",
       "ubq3zvBvqmb67sIvqoaOP1DxM4+IGdXnvJnhe6nmzo1Tp/1Urk95M6XIRulhcrTWyTmHnPGC94Eg\n",
       "HBpQVivNus0oQKEEU/tFC2r7aGH6qrV4kTHqyzx0Foxx7xe0nqdKELMrLvk0ET1tbQBUlPNLtGR9\n",
       "1YKEmKsmXufln/UmrlGiVXEY+LAGWSLIg5Kx1GxxSnTwXdVcEpPDOjfByx7apv3+0Gr4uOVkfczL\n",
       "lOs1dIa1Pd8vYld14vm86xEmeCSUlmt3XRVFU3yAP+yBwbk6/xt6oDrtWnY0j3yCJ6tW2qg25Zf6\n",
       "/9rEV4SmD0qmmrtFgR44JEXJpod2xoi3PKlj1bxKqVuq0eJSOKBrB4q2m5doO6hGwnIKnSKXeZxZ\n",
       "Yy37RzTdrA5klu20xKW8IFRdCnYnUIUedT5ikpIQ7XVegtno5bVT5rUR2oHQQkARBHedlbRoFgaq\n",
       "ExJMxBnezIl++058fqIL+tTtaX8HujoEDFQrmj9LPqX69k1VD2+qNCXDicdEV+fRzFA4Ui2Tqx+9\n",
       "beOtf2BwcPbDfZ1/7b8TEJmxsLYAAAAASUVORK5CYII=\n",
       "\" style=\"display:inline;vertical-align:middle;\" /></a></td></tr>\n",
       "<tr><td>1</td><td>Operation</td><td>operator:&nbsp;6<br>operands:&nbsp;3<br></td><td><a class=\"ProveItLink\" href=\"../5f9cc92c4f13847c668e9ddd903ab552b8fb244f0/expr.ipynb\"><img src=\"data:image/png;base64,iVBORw0KGgoAAAANSUhEUgAAADEAAAAMBAMAAAA5VkhcAAAAMFBMVEX///8yMjK6urpERETMzMwQ\n",
       "EBAiIiKYmJju7u5mZmaqqqpUVFSIiIh2dnbc3NwAAADpJKkdAAAAAXRSTlMAQObYZgAAAKNJREFU\n",
       "GNNjYICB1w4MOACLsQIuKb6NC1AF3p5+dfIAmMVxrQAqphrEd4CB4wJ7OmsCRIDj2A2IbvOTkxkY\n",
       "eBl4PnDBLS+bAVbBwLEDRHIbIIz2loM6FEyyHoBLKJtAaKYJYOq9A0MDRGDhPqiKtSCC/cF5Bh6I\n",
       "TNkNqATXBQZuBob1BaYMbyBuPgEz1LGyXIiBofls7x2wN54VwK2bwP51AQMAPNQpBILesMYAAAAA\n",
       "SUVORK5CYII=\n",
       "\" style=\"display:inline;vertical-align:middle;\" /></a></td></tr>\n",
       "<tr><td>2</td><td>ExprTuple</td><td>4</td><td><a class=\"ProveItLink\" href=\"../6d5ff4fde8dbfd279517af323d14cfe1737adfa00/expr.ipynb\"><img src=\"data:image/png;base64,iVBORw0KGgoAAAANSUhEUgAAAD0AAAAVBAMAAAAHs/uBAAAAMFBMVEX////c3NwiIiJERESqqqqY\n",
       "mJh2dnZmZmYQEBDu7u4yMjJUVFTMzMyIiIi6uroAAAAs73DqAAAAAXRSTlMAQObYZgAAAShJREFU\n",
       "KM9jYCAE+C7glIoDEadxa2U/ACRW4jF7AQMDL5Lx0gfQ5MMYGDgmILg8xg9Q5WcwMLxC5jPuckCR\n",
       "Z3ZgKGNg4ExPYJCHGMOZFACVetHHeIGBrYBhKQMDG98HhvtQYc5LmRCTTK8XMzCwLGDoY2A4wq7A\n",
       "YAw3M6gSrI6BcycwbBoY/jEwTOC4wPAXLn96IdQzIAd/AMkz+E/g+QOTfmwDDdYCiHwLkKpi4G2A\n",
       "SntthDLcwIoaGEyB1HIG5g1QyzOh0iwJDNwMDKwLGNKBnGqG9wEQ392EWXMqPHQdA8h/j4CcyXfr\n",
       "BUCCQgFwVxaw/gAGFdcDBg6wTBL2+AGGLyvQIgXOFuzyueD4ZUpgTsAqzbkAHA4sd+uwa+cG2c2I\n",
       "O33dYWAAAIzSP7R5c5XQAAAAAElFTkSuQmCC\n",
       "\" style=\"display:inline;vertical-align:middle;\" /></a></td></tr>\n",
       "<tr><td>3</td><td>ExprTuple</td><td>5, 9</td><td><a class=\"ProveItLink\" href=\"../0b2afcdb3e359c436e077617831aa49d50dd87000/expr.ipynb\"><img src=\"data:image/png;base64,iVBORw0KGgoAAAANSUhEUgAAACwAAAAVBAMAAADP3xFXAAAAMFBMVEX////c3NwiIiJERESqqqqY\n",
       "mJh2dnZmZmYQEBDu7u4yMjJUVFTMzMyIiIi6uroAAAAs73DqAAAAAXRSTlMAQObYZgAAAOpJREFU\n",
       "GNNjYMAB+C6gi7A+ABKnMVXWAPFKTGEuBgbeC5jCrAkMHBMwhTkbGF5hc4YJQxmQFLstch1q1os+\n",
       "RiArnWEpUE8CqyqHAliU0fR6MZDyYuhjYGBj4P3AcgBiKgPnTpAehn8gNrcB3FhpEHEeJMzAwAF3\n",
       "JV8BRLgFRMkfYIC60w1iMYMp0PUC9xl4J4AlWBIYuIFUFNAtDP4BFgyyDJyfgPxT4aHrGEAOfMTA\n",
       "MPnatNwABs5+AQaGAtYfDkDhdQwcAnDbBJA8DwwWWADBHcl2ASlgEcKzYO4HAUQIbwQFA0aA8x5g\n",
       "AACpBTHTmw8wGwAAAABJRU5ErkJggg==\n",
       "\" style=\"display:inline;vertical-align:middle;\" /></a></td></tr>\n",
       "<tr><td>4</td><td>Operation</td><td>operator:&nbsp;6<br>operands:&nbsp;7<br></td><td><a class=\"ProveItLink\" href=\"../fcf03500f5143e3baee5542f3c6ac7c5268248460/expr.ipynb\"><img src=\"data:image/png;base64,iVBORw0KGgoAAAANSUhEUgAAADEAAAAQBAMAAABNQoq8AAAAMFBMVEX///+YmJhUVFQyMjIQEBBE\n",
       "REQiIiKqqqrMzMyIiIi6urrc3NxmZmZ2dnbu7u4AAADXeCicAAAAAXRSTlMAQObYZgAAALhJREFU\n",
       "GNNjYICBTQ0MOABH6AJcUtzKBSh8vjsXGPY/gDCvCUAFl3hxT2Dg5frAMB+mato9iO7AOUcZGNp5\n",
       "EhhC4SaInQOrYODTY2B4wDKB4Sdcpska6lAQUf+A4wdMYmkEhOY6ACIPM3A6QCWKtaGMWjBpw8Cq\n",
       "ALXkHlSC/QIDE5A6xLBeAOLmeTBDm2UErYDU05nnN4C42wTg7jjA+AXi6WvYw4Qpgc8duwzbBdYL\n",
       "2GXYZ57CLgEAfiIqzacRdrYAAAAASUVORK5CYII=\n",
       "\" style=\"display:inline;vertical-align:middle;\" /></a></td></tr>\n",
       "<tr><td>5</td><td>Variable</td><td></td><td><a class=\"ProveItLink\" href=\"../../../../__pv_it/530be409e3083890784cf1d7b28c9e67e90af9360/expr.ipynb\"><img src=\"data:image/png;base64,iVBORw0KGgoAAAANSUhEUgAAAAsAAAAJBAMAAAAWSsseAAAAKlBMVEX///9ERETMzMwQEBAiIiKY\n",
       "mJju7u5mZmaqqqpUVFSIiIh2dnbc3NwAAAA/vyDhAAAAAXRSTlMAQObYZgAAAENJREFUCNdjYDi9\n",
       "8sTyBQxsG1hdmR0YuBm4LnAoMLAxcAowgADzAjB1VoEhgYH1wFoGrgSG3gBhhlMMDImrs3cFMAAA\n",
       "t0YN+iTRa+sAAAAASUVORK5CYII=\n",
       "\" style=\"display:inline;vertical-align:middle;\" /></a></td></tr>\n",
       "<tr><td>6</td><td>Literal</td><td></td><td><a class=\"ProveItLink\" href=\"../fed4085ae483b560677c9d938187885e1d910a490/expr.ipynb\"><img src=\"data:image/png;base64,iVBORw0KGgoAAAANSUhEUgAAAA4AAAAMBAMAAACgrpHpAAAALVBMVEX///9mZmaIiIiYmJgiIiJ2\n",
       "dnbu7u6qqqoyMjK6urpERETMzMxUVFTc3NwAAADHHImEAAAAAXRSTlMAQObYZgAAADlJREFUCNdj\n",
       "uLOBAQy4V02AMHhPFEAYbCEGUIZKGITBYCIGoff0gqlZq8FUxVmIZBhElxqYdwWiGQBNjQtMyuln\n",
       "xAAAAABJRU5ErkJggg==\n",
       "\" style=\"display:inline;vertical-align:middle;\" /></a></td></tr>\n",
       "<tr><td>7</td><td>ExprTuple</td><td>8, 9</td><td><a class=\"ProveItLink\" href=\"../1ba9cd67f202dbea908cf31db96755ce36201b140/expr.ipynb\"><img src=\"data:image/png;base64,iVBORw0KGgoAAAANSUhEUgAAACsAAAAVBAMAAAAtAwouAAAAMFBMVEX////c3NwiIiJERESqqqqY\n",
       "mJh2dnZmZmYQEBDu7u4yMjJUVFTMzMyIiIi6uroAAAAs73DqAAAAAXRSTlMAQObYZgAAAQdJREFU\n",
       "GNNjYMAB+C6gi8SBiNMYCtkPAImVmAYsYGDgvYApHMbAwDEBU3gGA8MrLK5gdmAoY2DgTE9gkIdo\n",
       "4ut4IMvAwFbAsBRI8n1guA9RJxxbbsDAwLKAoY+B4Qi7AoMxRHgCw2ygNr4Ghn9ANscFhr9QYxk3\n",
       "AAmeDyBhBv8JPH+gws8ZIMItQKqKgbcBIsqSALa4gcEUSC1nYN7AwAkScGNgAJrCuoAhHcipZngf\n",
       "wDBfAah7aWnUA7ADHwGFJ9+tF2CY8REYSAzxIEO5HjBwCIA0JwHxQ2TPsyYwcCtwgtQEwIVzwQHL\n",
       "lMCcgCzMCQxYBmkGlrt1QJoXrpgbZC4jRoDfYWAAADdMON26mSCyAAAAAElFTkSuQmCC\n",
       "\" style=\"display:inline;vertical-align:middle;\" /></a></td></tr>\n",
       "<tr><td>8</td><td>Variable</td><td></td><td><a class=\"ProveItLink\" href=\"../../../../__pv_it/f8b9edf8e16034727f0aad55bb83e392c3db40d40/expr.ipynb\"><img src=\"data:image/png;base64,iVBORw0KGgoAAAANSUhEUgAAAAsAAAANBAMAAACN24kIAAAAMFBMVEX///+YmJhUVFQyMjIQEBBE\n",
       "REQiIiKqqqrMzMyIiIi6urrc3NxmZmZ2dnbu7u4AAADXeCicAAAAAXRSTlMAQObYZgAAAFhJREFU\n",
       "CNdj4LtzgWH/AwZerg8M8xkY2nkSGEIZGB6wTGD4ycDAUP+A4weQOszA6QCkbBhYFYDUIYb1AkDq\n",
       "6czzGxhA4BoQMyXwuQMptgusF4AU+8xTQBIAUqMVoSp/SLMAAAAASUVORK5CYII=\n",
       "\" style=\"display:inline;vertical-align:middle;\" /></a></td></tr>\n",
       "<tr><td>9</td><td>Variable</td><td></td><td><a class=\"ProveItLink\" href=\"../../../../__pv_it/251502494639118b4892de8e9d720a5fcce840e10/expr.ipynb\"><img src=\"data:image/png;base64,iVBORw0KGgoAAAANSUhEUgAAAAoAAAAJBAMAAAD5iKAgAAAALVBMVEX///8yMjLMzMx2dnaqqqpU\n",
       "VFTu7u5mZmaYmJhERESIiIjc3NwQEBC6uroAAAB+iRisAAAAAXRSTlMAQObYZgAAADlJREFUCNdj\n",
       "YOA9c2EXA8POrvIJDAwJDKkJDAwM3AFAguE6iGAxAJHODAwBDEwSFY0XGNgZ+o4wAABKtAsIcBKm\n",
       "agAAAABJRU5ErkJggg==\n",
       "\" style=\"display:inline;vertical-align:middle;\" /></a></td></tr>\n",
       "</table>\n"
      ],
      "text/plain": [
       "0. z -> (x > z) | y > z\n",
       "   core type: Lambda\n",
       "   parameter: 9\n",
       "   body: 1\n",
       "   conditions: 2\\n1. x > z\n",
       "   core type: Operation\n",
       "   operator: 6\n",
       "   operands: 3\n",
       "2. (y > z)\n",
       "   core type: ExprTuple\n",
       "   sub-expressions: 4\n",
       "3. (x , z)\n",
       "   core type: ExprTuple\n",
       "   sub-expressions: 5, 9\n",
       "4. y > z\n",
       "   core type: Operation\n",
       "   operator: 6\n",
       "   operands: 7\n",
       "5. x\n",
       "   core type: Variable\n",
       "   sub-expressions: \n",
       "6. >\n",
       "   core type: Literal\n",
       "   sub-expressions: \n",
       "7. (y , z)\n",
       "   core type: ExprTuple\n",
       "   sub-expressions: 8, 9\n",
       "8. y\n",
       "   core type: Variable\n",
       "   sub-expressions: \n",
       "9. z\n",
       "   core type: Variable\n",
       "   sub-expressions: "
      ]
     },
     "execution_count": 4,
     "metadata": {},
     "output_type": "execute_result"
    }
   ],
   "source": [
    "# display the expression information\n",
    "expr.exprInfo()"
   ]
  },
  {
   "cell_type": "code",
   "execution_count": null,
   "metadata": {},
   "outputs": [],
   "source": []
  }
 ],
 "metadata": {
  "kernelspec": {
   "display_name": "Python 3",
   "language": "python",
   "name": "python3"
  }
 },
 "nbformat": 4,
 "nbformat_minor": 0
}
