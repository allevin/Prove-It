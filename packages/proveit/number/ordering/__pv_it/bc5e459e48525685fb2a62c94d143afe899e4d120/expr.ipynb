{
 "cells": [
  {
   "cell_type": "markdown",
   "metadata": {},
   "source": [
    "Theorem <a class=\"ProveItLink\" href=\"../../_theorems_.ipynb#less_eq__in__less_eq_relations\">less_eq__in__less_eq_relations</a> of type <a class=\"ProveItLink\" href=\"../../../../../../doc/html/api/proveit.logic.InSet.html\">InSet</a>\n",
    "=======================\n",
    "# from context <a class=\"ProveItLink\" href=\"../../_context_.ipynb\">proveit.number.ordering</a>\n",
    "*** see <a class=\"ProveItLink\" href=\"dependencies.ipynb\">dependencies</a> ***"
   ]
  },
  {
   "cell_type": "code",
   "execution_count": 1,
   "metadata": {},
   "outputs": [],
   "source": [
    "# import the special expression\n",
    "from proveit.number.ordering._theorems_ import less_eq__in__less_eq_relations"
   ]
  },
  {
   "cell_type": "code",
   "execution_count": 2,
   "metadata": {},
   "outputs": [
    {
     "name": "stdout",
     "output_type": "stream",
     "text": [
      "Passed sanity check: built 'less_eq__in__less_eq_relations' is the same as the stored Expression.\n"
     ]
    }
   ],
   "source": [
    "# check that the built expression is the same as the stored expression\n",
    "%check_expr less_eq__in__less_eq_relations"
   ]
  },
  {
   "cell_type": "code",
   "execution_count": 3,
   "metadata": {},
   "outputs": [
    {
     "data": {
      "text/html": [
       "<table><tr><th>&nbsp;</th><th>core type</th><th>sub-expressions</th><th>expression</th></tr>\n",
       "<tr><td>0</td><td>Operation</td><td>operator:&nbsp;1<br>operands:&nbsp;2<br></td><td><a class=\"ProveItLink\" href=\"expr.ipynb\"><img src=\"data:image/png;base64,iVBORw0KGgoAAAANSUhEUgAAAHkAAAAVBAMAAACQ4lxbAAAAMFBMVEX///8QEBBERETMzMyqqqoy\n",
       "MjJUVFTc3NyYmJhmZmZ2dnbu7u66uroiIiKIiIgAAAC260OGAAAAAXRSTlMAQObYZgAAAV1JREFU\n",
       "OMtjYMACOGYwEATMqwqwS3DfYiACMItgF+f7QIxuhqlw9XeQhbkEsJp5B01gIZTedY8Bq272yQhB\n",
       "NDUI3TtvgH379O7dABTdzKkH4EoharDoLgsBU6bdaHbzhBnAVULVYOo2i4G4UhvN5SyRiCiBqsHU\n",
       "vUkZwmZCqOUEeYDv1ga4AEwNWDIUDBIYGPpBqu5BVG1CKDAEepcLOZBgalAB6wRQwoJYcvDuXWio\n",
       "mQmDDNNBSXy3sGlXbYB70AwhehAUWmYo4YQcCDDAuwARuHsRwmxgJ1SixBE8AjjvgoECxN/giFUy\n",
       "YGBrQIT5BWj6ADqXmwFJDTfWtMbAnMPAfQcjrYF8u/8CkhoEB0U3CJROxkipLMEMG78jKUHhoOpm\n",
       "cItFS6lgcJwBF2ch9qyHoruBARcHpLsWHIQouY8DXTdcTQPW/I1WtiClMz6ULI5StsjgKDU4lhBZ\n",
       "rgEAf6RlejupTKMAAAAASUVORK5CYII=\n",
       "\" style=\"display:inline;vertical-align:middle;\" /></a></td></tr>\n",
       "<tr><td>1</td><td>Literal</td><td></td><td><a class=\"ProveItLink\" href=\"../../../../logic/set_theory/membership/__pv_it/088cbc857536a28d4119ad9639a84270ccb0545d0/expr.ipynb\"><img src=\"data:image/png;base64,iVBORw0KGgoAAAANSUhEUgAAAAwAAAAMBAMAAACkW0HUAAAALVBMVEX///+qqqpmZmZUVFQQEBC6\n",
       "urpERETc3NyYmJjMzMwiIiIyMjKIiIju7u4AAACYsrA9AAAAAXRSTlMAQObYZgAAADxJREFUCNdj\n",
       "YOA9vWrVBgaG2b0MQMCeCyIZ2ArA1DUwyRCyahVIyWQI7xaEYm4AU7xLIdxqTQgtvGvVBgCkcQ7e\n",
       "geM/tQAAAABJRU5ErkJggg==\n",
       "\" style=\"display:inline;vertical-align:middle;\" /></a></td></tr>\n",
       "<tr><td>2</td><td>ExprTuple</td><td>7, 3</td><td><a class=\"ProveItLink\" href=\"../df6edd9f07c891cc91b95213364c4aa44bceca590/expr.ipynb\"><img src=\"data:image/png;base64,iVBORw0KGgoAAAANSUhEUgAAAH0AAAAVBAMAAACZCfwhAAAAMFBMVEX////c3NwiIiJERESqqqqY\n",
       "mJh2dnZmZmYQEBDu7u4yMjJUVFTMzMyIiIi6uroAAAAs73DqAAAAAXRSTlMAQObYZgAAAbdJREFU\n",
       "OMtjYMAE4QEMBMGxRBiL7wKa1KQEBiLACQcGhjgQ4zS6zH1itDOwLwDiA0DGSqjApQdQRgY25bx6\n",
       "aAJsDUACaAYvxPmcSXBvwPWLH4CrnqbLgE1/GAMDxwSw9iJEmMH0n14HF5quyoBV/wwGhlcgDuMu\n",
       "BwZ0/a/2wEWklzBg18/swFAGpHh2PWBA1+9VCBdAcgiafrYChqVAxxsfQJapAodmJpw/2QZZchUI\n",
       "rGZgYP0A5LEsYOgDKb6JpIIHJJKElCh4dSdgi5HloLTTwPAPxA5C2Maz4wDIRcgeYlXDZgAz0OU8\n",
       "HyD6kX3L1wMOEaQAZWBZLoCpX40BrL8FI7R3gWOkCDkT8K2GhVCREggoQ/0PdL8pVOIwMJQgzkyC\n",
       "JihQoMAczgMMYk7M8GddwJAOj6UHnJ9Q0g8wUKAiIAP2McxXwBZ/jxBCnP0CKOnX6wBUBAJmfMTQ\n",
       "z/WAgQNJBZ8Aev7hQw64h9jSLytSbmfFyH+syFoCMPTngvMvIzhMlR5AVUeg6RcCy+qh6Qflf84F\n",
       "oMyBEIMkukkX0EWg6RC1/AGmMG6Q7xjRyy+GMAciy787DAwA1LtsdRTzbGUAAAAASUVORK5CYII=\n",
       "\" style=\"display:inline;vertical-align:middle;\" /></a></td></tr>\n",
       "<tr><td>3</td><td>Operation</td><td>operator:&nbsp;4<br>operands:&nbsp;5<br></td><td><a class=\"ProveItLink\" href=\"../7bc7ad9fcc1d2d481be86cef8dce5c57d078062b0/expr.ipynb\"><img src=\"data:image/png;base64,iVBORw0KGgoAAAANSUhEUgAAAFUAAAAVBAMAAADFg78FAAAAMFBMVEX///9ERETc3NyqqqpUVFS6\n",
       "urrMzMwyMjIQEBCIiIh2dnYiIiLu7u5mZmaYmJgAAABJJ2g3AAAAAXRSTlMAQObYZgAAAP9JREFU\n",
       "KM9jYGDgu8dAELCtUgBRPLsYiABszSCS8wMxahmugwiuBmxSnFvRBFagqGW6hpA5tZMBn1o29wC4\n",
       "xNl9DPjUspYkwMVVihnwqWWuVYALp5Qy4FDLWwDyyq4DcNGDYggVvOVg4MDA8B7EzQA6kwvZK5w7\n",
       "D2Axl/0C0MI2kFGiyMJ8u7ApFn/AwBAB8lMKim+QHQ8D3AuABAvIvQy6KKEEDxTe3WAgAHUv1wZo\n",
       "6AMt5oFHv2ACgoMZFyBXnt8AV+yKxMGMY+YyhhOfkGRROGhqQSCIARcHU+0DBlwcsFo+dLXaYK9v\n",
       "RVMLTr88SHHGiZKEUfJFKyQAFhOZ3wC9D0sdukcx3gAAAABJRU5ErkJggg==\n",
       "\" style=\"display:inline;vertical-align:middle;\" /></a></td></tr>\n",
       "<tr><td>4</td><td>Literal</td><td></td><td><a class=\"ProveItLink\" href=\"../../../../logic/set_theory/enumeration/__pv_it/07381ed5b23806e8d7914b78cb6667769e3708dd0/expr.ipynb\"><img src=\"data:image/png;base64,iVBORw0KGgoAAAANSUhEUgAAAB4AAAAOBAMAAADKyLEKAAAAMFBMVEX///8iIiIQEBCIiIjMzMzc\n",
       "3Nyqqqp2dnZEREQyMjK6urru7u5mZmZUVFSYmJgAAACI6eGPAAAAAXRSTlMAQObYZgAAALRJREFU\n",
       "CNdjYGDgu3Nm3wIGBJjHwN0PZW5yYGDgLWBgyITy8zcwMMQDxZyh/INAvD6BgcEFypcB4vjPDiBm\n",
       "TPFRrhs/LjMwMP//38rAwCbKEMPA9gEkE3fp0waG+AUMRxh4JkC01T9guPTOOICBEWgVH5C//wHD\n",
       "H5D4fqCz9oCMDGD4DLaegRXslLMMDMpAgxlOMmQxHDRgYG5gYLBk4D7KcIe7gOHC2rt9QCXsh40Z\n",
       "GCKMGQDRkC8N/Ph1XAAAAABJRU5ErkJggg==\n",
       "\" style=\"display:inline;vertical-align:middle;\" /></a></td></tr>\n",
       "<tr><td>5</td><td>ExprTuple</td><td>6, 7, 8</td><td><a class=\"ProveItLink\" href=\"../79fb47198d469b94e5a80308d5b0882912b28e5f0/expr.ipynb\"><img src=\"data:image/png;base64,iVBORw0KGgoAAAANSUhEUgAAAE8AAAAVBAMAAAD1D64kAAAAMFBMVEX////c3NwiIiJERESqqqqY\n",
       "mJh2dnZmZmYQEBDu7u4yMjJUVFTMzMyIiIi6uroAAAAs73DqAAAAAXRSTlMAQObYZgAAAQxJREFU\n",
       "KM9jYCAa8F0grCYORJwmwjD2A0BiJTaZSw9Q+QsYGHhhNosfgAtzJqE7J4yBgWMChHl6HUJdUQC6\n",
       "DTMYGF5BWK/2wAUZdzlgOIXZgaEMzPAqhIvx7HqA6Wa2AoalYLdnIuw1RriVoWoVCKxmYGBZwNAH\n",
       "5KO4/dJNbIHdwPAPZAiKZUGZmAp5PoAUAp2F4nwkByMpbAF7FDVA4EFQpAQCymCrTaFBDHLZBJjK\n",
       "wzZIHBBgXcCQjnAZ5ye4xOkHSBxI8DyCu+wAZ78AQgqFw8D1gIEDic+HLIfCAUYhawKSS1CchczJ\n",
       "RU1mIDlGsEeVHqAo5AQmMwZpBB8lcSFzuEHOYCQiK9xhYAAAX2lBxOoXVcEAAAAASUVORK5CYII=\n",
       "\" style=\"display:inline;vertical-align:middle;\" /></a></td></tr>\n",
       "<tr><td>6</td><td>Literal</td><td></td><td><a class=\"ProveItLink\" href=\"../7c444b9b2efa607ed6397b492680dde2810212f00/expr.ipynb\"><img src=\"data:image/png;base64,iVBORw0KGgoAAAANSUhEUgAAAA4AAAAMBAMAAACgrpHpAAAALVBMVEX///+YmJhERETu7u52dnYi\n",
       "IiKIiIiqqqq6uroyMjJUVFTMzMxmZmbc3NwAAADmAst+AAAAAXRSTlMAQObYZgAAAD5JREFUCNdj\n",
       "YAAB3tNgintlA4jimLUBRLHPuQCi2EIMQBRLGFgJg5EGhGbYNR3KuBMIZZiEGUAYjCFQBvtsABzC\n",
       "Cm98G6SsAAAAAElFTkSuQmCC\n",
       "\" style=\"display:inline;vertical-align:middle;\" /></a></td></tr>\n",
       "<tr><td>7</td><td>Literal</td><td></td><td><a class=\"ProveItLink\" href=\"../aa616d6a8fe3483e4e64187262e9c7dfe6a536a30/expr.ipynb\"><img src=\"data:image/png;base64,iVBORw0KGgoAAAANSUhEUgAAAA4AAAARBAMAAAAf5oCsAAAALVBMVEX///9ERETMzMyqqqoyMjJU\n",
       "VFTc3NyYmJhmZmZ2dnbu7u66uroiIiKIiIgAAAAFyQXGAAAAAXRSTlMAQObYZgAAAEBJREFUCNdj\n",
       "YEAGvKfB1MqzYGrFcTCV6gymVL3B1EIhqNKzCyAM9pNQBrNHAoTB7aoAYTAJwhjRDLhAzhkQOA0A\n",
       "iskPUSt9tJUAAAAASUVORK5CYII=\n",
       "\" style=\"display:inline;vertical-align:middle;\" /></a></td></tr>\n",
       "<tr><td>8</td><td>Literal</td><td></td><td><a class=\"ProveItLink\" href=\"../../../../logic/equality/__pv_it/2fb26078095930560931daa0500ce419a39ea6cd0/expr.ipynb\"><img src=\"data:image/png;base64,iVBORw0KGgoAAAANSUhEUgAAAA4AAAAFBAMAAACHocAhAAAAFVBMVEX///9EREQiIiJUVFQyMjJm\n",
       "ZmYAAADubVkoAAAAAXRSTlMAQObYZgAAABRJREFUCNdjCHEBAWcGXCBICQQUAUpuAwlgGKrkAAAA\n",
       "AElFTkSuQmCC\n",
       "\" style=\"display:inline;vertical-align:middle;\" /></a></td></tr>\n",
       "</table>\n"
      ],
      "text/plain": [
       "0. <= in {< , <= , =}\n",
       "   core type: Operation\n",
       "   operator: 1\n",
       "   operands: 2\n",
       "1. in\n",
       "   core type: Literal\n",
       "   sub-expressions: \n",
       "2. (<= , {< , <= , =})\n",
       "   core type: ExprTuple\n",
       "   sub-expressions: 7, 3\n",
       "3. {< , <= , =}\n",
       "   core type: Operation\n",
       "   operator: 4\n",
       "   operands: 5\n",
       "4. Set\n",
       "   core type: Literal\n",
       "   sub-expressions: \n",
       "5. (< , <= , =)\n",
       "   core type: ExprTuple\n",
       "   sub-expressions: 6, 7, 8\n",
       "6. <\n",
       "   core type: Literal\n",
       "   sub-expressions: \n",
       "7. <=\n",
       "   core type: Literal\n",
       "   sub-expressions: \n",
       "8. =\n",
       "   core type: Literal\n",
       "   sub-expressions: "
      ]
     },
     "execution_count": 3,
     "metadata": {},
     "output_type": "execute_result"
    }
   ],
   "source": [
    "# display the expression information\n",
    "less_eq__in__less_eq_relations.exprInfo()"
   ]
  },
  {
   "cell_type": "code",
   "execution_count": null,
   "metadata": {},
   "outputs": [],
   "source": []
  }
 ],
 "metadata": {
  "kernelspec": {
   "display_name": "Python 3",
   "language": "python",
   "name": "python3"
  }
 },
 "nbformat": 4,
 "nbformat_minor": 0
}
