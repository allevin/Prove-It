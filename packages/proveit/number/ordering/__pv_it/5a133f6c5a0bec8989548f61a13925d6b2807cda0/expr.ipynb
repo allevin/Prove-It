{
 "cells": [
  {
   "cell_type": "markdown",
   "metadata": {},
   "source": [
    "Expression of type <a class=\"ProveItLink\" href=\"../../../../../../doc/html/api/proveit.ExprTuple.html\">ExprTuple</a>\n",
    "=======================\n",
    "# from context <a class=\"ProveItLink\" href=\"../../_context_.ipynb\">proveit.number.ordering</a>"
   ]
  },
  {
   "cell_type": "code",
   "execution_count": 1,
   "metadata": {},
   "outputs": [],
   "source": [
    "# import Expression classes needed to build the expression\n",
    "from proveit import ExprTuple\n",
    "from proveit._common_ import b, e"
   ]
  },
  {
   "cell_type": "code",
   "execution_count": 2,
   "metadata": {},
   "outputs": [
    {
     "data": {
      "text/html": [
       "<strong id=\"expr\">expr:</strong> <a class=\"ProveItLink\" href=\"expr.ipynb\"><img src=\"data:image/png;base64,iVBORw0KGgoAAAANSUhEUgAAACgAAAAVBAMAAADGNLEtAAAAMFBMVEX////c3NwiIiJERESqqqqY\n",
       "mJh2dnZmZmYQEBDu7u4yMjJUVFTMzMyIiIi6uroAAAAs73DqAAAAAXRSTlMAQObYZgAAAPlJREFU\n",
       "GNNjYMAK+C6g8lkfAInTDJw7FJBFa4B4JQMD1wZkQS4GBl6gbn4HFP0JDBwTGBjeT0AW5GxgeAWk\n",
       "klCtMmEoA5Kr726FcBnLrgswMKQzLAWq/8zAfwAs6CTAWMDA4MXQx8DA8pOBIwGs8B8DO1D2BcM/\n",
       "Bgb2BQz8BSBB7tbYi0DqPEiQqYDhfQBIECIFFGwBO7Me7Ch+iI9fMJgygGxpY+AE8jiAgkAUBbSf\n",
       "gduBfQPDfKD/eRcwTAc76RHQSXtLGRhmfAQqTb8LMmAdA4cA1B8PkbzJmgBlB8AE2S6Agw5VcBYQ\n",
       "S0OYvPDw2AjyG1p08B5gAADCBzjudhDswwAAAABJRU5ErkJggg==\n",
       "\" style=\"display:inline;vertical-align:middle;\" /></a><br>"
      ],
      "text/plain": [
       "expr: (b , e)"
      ]
     },
     "execution_count": 2,
     "metadata": {},
     "output_type": "execute_result"
    }
   ],
   "source": [
    "# build up the expression from sub-expressions\n",
    "expr = ExprTuple(b, e)"
   ]
  },
  {
   "cell_type": "code",
   "execution_count": 3,
   "metadata": {},
   "outputs": [
    {
     "name": "stdout",
     "output_type": "stream",
     "text": [
      "Passed sanity check: built 'expr' is the same as the stored Expression.\n"
     ]
    }
   ],
   "source": [
    "# check that the built expression is the same as the stored expression\n",
    "%check_expr"
   ]
  },
  {
   "cell_type": "code",
   "execution_count": 4,
   "metadata": {},
   "outputs": [
    {
     "data": {
      "text/html": [
       "<table><tr><th>&nbsp;</th><th>core type</th><th>sub-expressions</th><th>expression</th></tr>\n",
       "<tr><td>0</td><td>ExprTuple</td><td>1, 2</td><td><a class=\"ProveItLink\" href=\"expr.ipynb\"><img src=\"data:image/png;base64,iVBORw0KGgoAAAANSUhEUgAAACgAAAAVBAMAAADGNLEtAAAAMFBMVEX////c3NwiIiJERESqqqqY\n",
       "mJh2dnZmZmYQEBDu7u4yMjJUVFTMzMyIiIi6uroAAAAs73DqAAAAAXRSTlMAQObYZgAAAPlJREFU\n",
       "GNNjYMAK+C6g8lkfAInTDJw7FJBFa4B4JQMD1wZkQS4GBl6gbn4HFP0JDBwTGBjeT0AW5GxgeAWk\n",
       "klCtMmEoA5Kr726FcBnLrgswMKQzLAWq/8zAfwAs6CTAWMDA4MXQx8DA8pOBIwGs8B8DO1D2BcM/\n",
       "Bgb2BQz8BSBB7tbYi0DqPEiQqYDhfQBIECIFFGwBO7Me7Ch+iI9fMJgygGxpY+AE8jiAgkAUBbSf\n",
       "gduBfQPDfKD/eRcwTAc76RHQSXtLGRhmfAQqTb8LMmAdA4cA1B8PkbzJmgBlB8AE2S6Agw5VcBYQ\n",
       "S0OYvPDw2AjyG1p08B5gAADCBzjudhDswwAAAABJRU5ErkJggg==\n",
       "\" style=\"display:inline;vertical-align:middle;\" /></a></td></tr>\n",
       "<tr><td>1</td><td>Variable</td><td></td><td><a class=\"ProveItLink\" href=\"../../../../__pv_it/6840a4fa6c106149dc16a131294d0c5e44f1b0480/expr.ipynb\"><img src=\"data:image/png;base64,iVBORw0KGgoAAAANSUhEUgAAAAkAAAAOBAMAAAAPuiubAAAALVBMVEX///9mZmbMzMxERESYmJiI\n",
       "iIh2dna6urqqqqoyMjIiIiIQEBBUVFTu7u4AAAD9S1JeAAAAAXRSTlMAQObYZgAAAE1JREFUCNdj\n",
       "4D29gAEIOA+ASL4GEFl3AURmgQiGOaFHGBh4HzPwKTBwvGXgTmBgnMDAJ8DAJcBQ5wBSLncBJLWN\n",
       "gYGngRFoBO9REQYGAGrcDtUkVqASAAAAAElFTkSuQmCC\n",
       "\" style=\"display:inline;vertical-align:middle;\" /></a></td></tr>\n",
       "<tr><td>2</td><td>Variable</td><td></td><td><a class=\"ProveItLink\" href=\"../../../../__pv_it/0bc0f4a545336331111a0b22c4f05a0627b57b8f0/expr.ipynb\"><img src=\"data:image/png;base64,iVBORw0KGgoAAAANSUhEUgAAAAkAAAAJBAMAAAASvxsjAAAALVBMVEX////u7u4yMjKYmJgQEBBU\n",
       "VFTMzMy6uroiIiKqqqqIiIh2dnZmZmbc3NwAAAAyj3LLAAAAAXRSTlMAQObYZgAAADlJREFUCNdj\n",
       "YOA9veYCA8OMC7wHGHifM/AkMLA6W61lYOA7wAAEfAtAJAuQXMDApcAgA1S5Z9UCBgB6Cgz1W65k\n",
       "FgAAAABJRU5ErkJggg==\n",
       "\" style=\"display:inline;vertical-align:middle;\" /></a></td></tr>\n",
       "</table>\n"
      ],
      "text/plain": [
       "0. (b , e)\n",
       "   core type: ExprTuple\n",
       "   sub-expressions: 1, 2\n",
       "1. b\n",
       "   core type: Variable\n",
       "   sub-expressions: \n",
       "2. e\n",
       "   core type: Variable\n",
       "   sub-expressions: "
      ]
     },
     "execution_count": 4,
     "metadata": {},
     "output_type": "execute_result"
    }
   ],
   "source": [
    "# display the expression information\n",
    "expr.exprInfo()"
   ]
  },
  {
   "cell_type": "code",
   "execution_count": null,
   "metadata": {},
   "outputs": [],
   "source": []
  }
 ],
 "metadata": {
  "kernelspec": {
   "display_name": "Python 3",
   "language": "python",
   "name": "python3"
  }
 },
 "nbformat": 4,
 "nbformat_minor": 0
}
