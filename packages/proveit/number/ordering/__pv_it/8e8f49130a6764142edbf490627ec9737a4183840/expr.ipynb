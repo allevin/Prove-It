{
 "cells": [
  {
   "cell_type": "markdown",
   "metadata": {},
   "source": [
    "Expression of type <a class=\"ProveItLink\" href=\"../../../../../../doc/html/api/proveit.logic.InSet.html\">InSet</a>\n",
    "=======================\n",
    "# from context <a class=\"ProveItLink\" href=\"../../_context_.ipynb\">proveit.number.ordering</a>"
   ]
  },
  {
   "cell_type": "code",
   "execution_count": 1,
   "metadata": {},
   "outputs": [],
   "source": [
    "# import Expression classes needed to build the expression\n",
    "from proveit._common_ import n, rho\n",
    "from proveit.logic import Equals, InSet, Set\n",
    "from proveit.number import Exp, Greater, GreaterEq"
   ]
  },
  {
   "cell_type": "code",
   "execution_count": 2,
   "metadata": {},
   "outputs": [
    {
     "data": {
      "text/html": [
       "<strong id=\"expr\">expr:</strong> <a class=\"ProveItLink\" href=\"expr.ipynb\"><img src=\"data:image/png;base64,iVBORw0KGgoAAAANSUhEUgAAAIYAAAAXBAMAAAA8bSpEAAAAMFBMVEX///92dnZERETc3NwyMjK6\n",
       "uroiIiKYmJju7u4QEBDMzMxUVFSIiIhmZmaqqqoAAAAeTpzzAAAAAXRSTlMAQObYZgAAAa1JREFU\n",
       "OMtjYKAIsN+JkWagELTHF7AtwC5VW0BY+0JhIGFxhIHfAKt0mwAxblj5AEjsYYjELnueKH/wOgCJ\n",
       "WQx3WbHKSqLxORIbsKhinMDAwPyBYVYUTjOskYOKz9cAuxmsCgwXkcOO40hamgPcDC6lACQ5Vu0F\n",
       "WM1AB0sqUPzCvOUBkiSqkRhm8N3ZBdajgRYeHGLIrmTeEoDHjLsMK0FBxoTw8hWo545JIBtyDeKd\n",
       "Ky4g4A1Mox8QyTWBoR/k6iaEu6fCWGU3kJJ1Lnrk+MJZnAUM60GOjkxLg4Qp1054+K12hivrwYxf\n",
       "JncYK76B4TxI02pEJMyCMoK04GKNOZiRkAhnXWNg8AQncITkFgj1ZDNcxDYdoR7k3rQklPDIZWD+\n",
       "B6K5EbEgBgkMcIhygAhrP4hEA/Z44fjEwHIAzEhFiVsOsRNgdn8CMEpUoWq/YTeD75fMVgjL5Bay\n",
       "GWZQZ3V+RkrJ8w2wmsHrABd87YaU1uEgGDnJYzeDU4BAvkVOrOzY/WIfgGlGJZoZzOCoSAtANQPh\n",
       "gzBs5dgBBJsHWeIASjkWgLeIKnxAZHkKBgD2h2H02DrDogAAAABJRU5ErkJggg==\n",
       "\" style=\"display:inline;vertical-align:middle;\" /></a><br>"
      ],
      "text/plain": [
       "expr: rho in {> , >= , =}^{n}"
      ]
     },
     "execution_count": 2,
     "metadata": {},
     "output_type": "execute_result"
    }
   ],
   "source": [
    "# build up the expression from sub-expressions\n",
    "expr = InSet(rho, Exp(Set(Greater._operator_, GreaterEq._operator_, Equals._operator_), n))"
   ]
  },
  {
   "cell_type": "code",
   "execution_count": 3,
   "metadata": {},
   "outputs": [
    {
     "name": "stdout",
     "output_type": "stream",
     "text": [
      "Passed sanity check: built 'expr' is the same as the stored Expression.\n"
     ]
    }
   ],
   "source": [
    "# check that the built expression is the same as the stored expression\n",
    "%check_expr"
   ]
  },
  {
   "cell_type": "code",
   "execution_count": 4,
   "metadata": {},
   "outputs": [
    {
     "data": {
      "text/html": [
       "<table><tr><th>&nbsp;</th><th>core type</th><th>sub-expressions</th><th>expression</th></tr>\n",
       "<tr><td>0</td><td>Operation</td><td>operator:&nbsp;1<br>operands:&nbsp;2<br></td><td><a class=\"ProveItLink\" href=\"expr.ipynb\"><img src=\"data:image/png;base64,iVBORw0KGgoAAAANSUhEUgAAAIYAAAAXBAMAAAA8bSpEAAAAMFBMVEX///92dnZERETc3NwyMjK6\n",
       "uroiIiKYmJju7u4QEBDMzMxUVFSIiIhmZmaqqqoAAAAeTpzzAAAAAXRSTlMAQObYZgAAAa1JREFU\n",
       "OMtjYKAIsN+JkWagELTHF7AtwC5VW0BY+0JhIGFxhIHfAKt0mwAxblj5AEjsYYjELnueKH/wOgCJ\n",
       "WQx3WbHKSqLxORIbsKhinMDAwPyBYVYUTjOskYOKz9cAuxmsCgwXkcOO40hamgPcDC6lACQ5Vu0F\n",
       "WM1AB0sqUPzCvOUBkiSqkRhm8N3ZBdajgRYeHGLIrmTeEoDHjLsMK0FBxoTw8hWo545JIBtyDeKd\n",
       "Ky4g4A1Mox8QyTWBoR/k6iaEu6fCWGU3kJJ1Lnrk+MJZnAUM60GOjkxLg4Qp1054+K12hivrwYxf\n",
       "JncYK76B4TxI02pEJMyCMoK04GKNOZiRkAhnXWNg8AQncITkFgj1ZDNcxDYdoR7k3rQklPDIZWD+\n",
       "B6K5EbEgBgkMcIhygAhrP4hEA/Z44fjEwHIAzEhFiVsOsRNgdn8CMEpUoWq/YTeD75fMVgjL5Bay\n",
       "GWZQZ3V+RkrJ8w2wmsHrABd87YaU1uEgGDnJYzeDU4BAvkVOrOzY/WIfgGlGJZoZzOCoSAtANQPh\n",
       "gzBs5dgBBJsHWeIASjkWgLeIKnxAZHkKBgD2h2H02DrDogAAAABJRU5ErkJggg==\n",
       "\" style=\"display:inline;vertical-align:middle;\" /></a></td></tr>\n",
       "<tr><td>1</td><td>Literal</td><td></td><td><a class=\"ProveItLink\" href=\"../../../../logic/set_theory/membership/__pv_it/088cbc857536a28d4119ad9639a84270ccb0545d0/expr.ipynb\"><img src=\"data:image/png;base64,iVBORw0KGgoAAAANSUhEUgAAAAwAAAAMBAMAAACkW0HUAAAALVBMVEX///+qqqpmZmZUVFQQEBC6\n",
       "urpERETc3NyYmJjMzMwiIiIyMjKIiIju7u4AAACYsrA9AAAAAXRSTlMAQObYZgAAADxJREFUCNdj\n",
       "YOA9vWrVBgaG2b0MQMCeCyIZ2ArA1DUwyRCyahVIyWQI7xaEYm4AU7xLIdxqTQgtvGvVBgCkcQ7e\n",
       "geM/tQAAAABJRU5ErkJggg==\n",
       "\" style=\"display:inline;vertical-align:middle;\" /></a></td></tr>\n",
       "<tr><td>2</td><td>ExprTuple</td><td>3, 4</td><td><a class=\"ProveItLink\" href=\"../eb563861df3c137c3f434ef349ade8c0fef149580/expr.ipynb\"><img src=\"data:image/png;base64,iVBORw0KGgoAAAANSUhEUgAAAIMAAAAXBAMAAADaROEAAAAAMFBMVEX////c3NwiIiJERESqqqqY\n",
       "mJh2dnZmZmYQEBDu7u4yMjJUVFTMzMyIiIi6uroAAAAs73DqAAAAAXRSTlMAQObYZgAAAfZJREFU\n",
       "OMulVE0oRFEU/h6GGWael400CyJjpZSsSLO2miywErNBmtIsRpSysJyYFNnIKPK3stOErDRlYbIj\n",
       "5WEj0YyfpeT+zZv75r2XibO4971zzv065zs/wF/FNfc6if/JSjZUdmZrGQz9/vp8lBwNN6jV+L+a\n",
       "ka3LI6VEkA6S4wRPwDD9vTAZ70pKoipJjjimVVTRXPZMxvEiZ08gYQNROQ8oOcRfAALmy1gg/DJL\n",
       "FTuaPYTagRjhbQBwJywQ3k5d0qjdZ7YQQtaAZ1gTUVJBSWVGLIYoDyLGop07NnHhCculVVK6M0Tl\n",
       "FLbpPY20yGdWsHg1IWNEeS6z+1QOSGfmClwlsUh7tQkbPHTvYt7UPyP1cltxWXYKVM3jm1zuEC5Z\n",
       "5N4jg7qLTcNr3VrY8m2DqRyDyCZwx9+qcWF57DHcV9utVQ1AglggVxTYFZoUv/oODZ/6VuMz2kyl\n",
       "xcQFSaSLXG1QPuFhmjAngpHJNP4t7ppwqIgriTHi+oHqDDaa8kX1hK+ZlWqUXlGid+eiPpC6fEVO\n",
       "SZu95SHqRFNwjYBY0uwhqnW4NT53wL1lzO7lPtccG9w1AjffESELhNyiLodEImzYG/XCg6EiCIUV\n",
       "oVk3Q4i4aYL0y0/pIOLjW0uafZ/8yrQT0sbQ1ND8FPPCGAiWuDu53AI/0np5vU55g2MAAAAASUVO\n",
       "RK5CYII=\n",
       "\" style=\"display:inline;vertical-align:middle;\" /></a></td></tr>\n",
       "<tr><td>3</td><td>Variable</td><td></td><td><a class=\"ProveItLink\" href=\"../../../../__pv_it/9e96715d6873a49f9c1aab0c41652463641fb66b0/expr.ipynb\"><img src=\"data:image/png;base64,iVBORw0KGgoAAAANSUhEUgAAAAsAAAANBAMAAACN24kIAAAAMFBMVEX///92dnZERETc3NwyMjK6\n",
       "uroiIiKYmJju7u4QEBDMzMxUVFSIiIhmZmaqqqoAAAAeTpzzAAAAAXRSTlMAQObYZgAAAFRJREFU\n",
       "CNdjYGDgu7OLAQjuMqxsYGBgT2Dof8DAwFnAsL6AgSG+geH8AgaGawwMnkAVuQzM/xgYOD4xsBwA\n",
       "6volsxUoxusA0svAKQCm7APAVBiYBACwqRDWeNEEMQAAAABJRU5ErkJggg==\n",
       "\" style=\"display:inline;vertical-align:middle;\" /></a></td></tr>\n",
       "<tr><td>4</td><td>Operation</td><td>operator:&nbsp;5<br>operands:&nbsp;6<br></td><td><a class=\"ProveItLink\" href=\"../4c8b355bcc97bfa29373b25aa4fdf58ba3377d9a0/expr.ipynb\"><img src=\"data:image/png;base64,iVBORw0KGgoAAAANSUhEUgAAAGEAAAAXBAMAAADpUzxMAAAAMFBMVEX///9ERETc3NyqqqpUVFS6\n",
       "urrMzMwyMjIQEBCIiIh2dnYiIiLu7u5mZmaYmJgAAABJJ2g3AAAAAXRSTlMAQObYZgAAATtJREFU\n",
       "OMtjYCABvJ06y4EU9Qw8T/8xbAMx+O4RVsy2SoGBgelkAcMnkM5dxJjP1gwkWCawNgApzg9EOek6\n",
       "EHMk8F4IYGDgakCTO70Gm44VQKzPwJGaANHB5IYsaX4Jh45ABt51DFA7EkWRZQPdsOuAAoirVIqR\n",
       "pVENwK6D4dQ+ZHmVUjw6eAsg9MldB5AU6G6DSJaDATCm3yPkMgKgDL69SFpe30Gzg/0CjJXSBo8k\n",
       "dwV4epiNGcLiD2CsiAQIzSqYANewegKGBu4FcCYLxB/MJXAbmG7DjePdDQYCKP7g2gD2BMTfIILJ\n",
       "3QBiE97QPbUTrIHnN5BQhAbF+Q14dDBBI4OnXwEhceIT/hiEeh9JB0MQMTr4kBU9wKGDD12HNjh4\n",
       "tqLpuI6Ue3ciiSPHAydKHmxFNncxkfkcAgDmJFZNie6ETAAAAABJRU5ErkJggg==\n",
       "\" style=\"display:inline;vertical-align:middle;\" /></a></td></tr>\n",
       "<tr><td>5</td><td>Literal</td><td></td><td><a class=\"ProveItLink\" href=\"../../../exponentiation/__pv_it/deb2bf23cbccdd6e6791e1b35b5b9794ce12dbd50/expr.ipynb\"><img src=\"data:image/png;base64,iVBORw0KGgoAAAANSUhEUgAAACgAAAASBAMAAADbMYGVAAAAMFBMVEX///8QEBAiIiKYmJjc3Nzu\n",
       "7u7MzMx2dnZmZma6urpERESqqqoyMjJUVFSIiIgAAAAoDOMTAAAAAXRSTlMAQObYZgAAAOBJREFU\n",
       "GNNjYGB4+//u3Tt/GNAASGAXmhjnPyDBgSbI/g1IxKEJ8nxgYGdgQRPkX8BgDKRY6q7s62OYvmze\n",
       "2wAgb/7ZO1+AVDiDkYEQQ0HTBr4DQF59AgOIKmB4z7CNbcNZBu6vQN55kEACQwDDLQYGVobfDHwg\n",
       "fb8YGBxYHwAZciD3fWXg+gB1JjvQcJZvQIXsCgz8F6DO9GBgMOH7wPCUgaeBwd4B7EwGNjUG7s9c\n",
       "AiwPgO5jkWRgiF3/9+5dfQUG1nWl5Y+B7pv+1gE9bBhqGLCAE1jEWH9jEbT5A3IwAC4sP/1L6Qlu\n",
       "AAAAAElFTkSuQmCC\n",
       "\" style=\"display:inline;vertical-align:middle;\" /></a></td></tr>\n",
       "<tr><td>6</td><td>ExprTuple</td><td>7, 8</td><td><a class=\"ProveItLink\" href=\"../67cf6482be86bc774c9412524fcbce25e060a8490/expr.ipynb\"><img src=\"data:image/png;base64,iVBORw0KGgoAAAANSUhEUgAAAH0AAAAVBAMAAACZCfwhAAAAMFBMVEX////c3NwiIiJERESqqqqY\n",
       "mJh2dnZmZmYQEBDu7u4yMjJUVFTMzMyIiIi6uroAAAAs73DqAAAAAXRSTlMAQObYZgAAAcRJREFU\n",
       "OMtjYACD8AAGguBYIlZhvgsMDJMSGIgAJxzQBOJAxGkgvk+Mdgb2BegCB4DESiDOQJPgVJuART9b\n",
       "A7oI0EDeC1D90geQJFiWCxCjP4yBgWMCVD+P8QPkULE+QIT+GQwMrxhg7mfchRw+qMbh0M/swFAG\n",
       "18/AmYQci4y7HuDW/9ZQ9jYwztgKGJaCuFXQYLuUiWxAEcQLVatAYDUDA+sHuFzCrgucf4DBtICh\n",
       "D+TWPph4UCVCP6s6eiQsh4fOA2UGzn9AuoEBSPLsgIfV6YVwxXMx45B5KSx+gZpZfgJ1fgDpZ+Dr\n",
       "gYo/toGrnaaLGYFqiPj9ycC9AKy/BcTdBRH12ghXIK4KZxYpgYAyiv+BSZE/YALI/aYgbhLE8+DQ\n",
       "4wQR0ksg6iZghj9YniOBIX5CAgPrAoZ0WPxxJt0Eq5qvAAx6O6g/P2HqB8kzyD9gSGY5AIq/RzD9\n",
       "QtDIn/ERKR/0C2DoB8u/YGAQvsLAwPWAgUMAPf88RE7GmPqR5YHplzUBXT9yImTFkv6Q5HOh+TcC\n",
       "TT8jOMiVHqDqh+Z/hH5OkIA0EE+6gFDFi6zlAkr58wBNnhvkO0aQmjAHcsq/OwwMAANqbsD7g4p9\n",
       "AAAAAElFTkSuQmCC\n",
       "\" style=\"display:inline;vertical-align:middle;\" /></a></td></tr>\n",
       "<tr><td>7</td><td>Operation</td><td>operator:&nbsp;9<br>operands:&nbsp;10<br></td><td><a class=\"ProveItLink\" href=\"../40d27932c47497d1e04935867994b35b277c78120/expr.ipynb\"><img src=\"data:image/png;base64,iVBORw0KGgoAAAANSUhEUgAAAFUAAAAVBAMAAADFg78FAAAAMFBMVEX///9ERETc3NyqqqpUVFS6\n",
       "urrMzMwyMjIQEBCIiIh2dnYiIiLu7u5mZmaYmJgAAABJJ2g3AAAAAXRSTlMAQObYZgAAAQFJREFU\n",
       "KM9jYGDgu8dAELCtUgBRPLsYiABszSCS8wMxahmugwiuBjTR02uwqV0BU6uSgCxsfgmfWjbBAGTx\n",
       "QDc8ahmY3A2QJRJF8ahl4Fn9AFlGpRSrWt4CMJtnNoqXdLeBKd5yMHBgYHgP4mbAnPr6DpJaFA4I\n",
       "sF9gYEhpg/FSiuASaJaAgTjQkRHQ8AoUQyhdPQFDKfcCIMECca+5E1yY6Tbcn7y7wUAA6l6uDWD3\n",
       "gS3lYUAKPx7sYcazeg5Y4DxInyLUs2AOplptqKUnPiHJonCQ4wIKghhwcTDVokTeAwy1fOhqtcFe\n",
       "34qmFpx+eXYiBDiRZVE4bK1gim8xkfkNAGkVS4bGMaBOAAAAAElFTkSuQmCC\n",
       "\" style=\"display:inline;vertical-align:middle;\" /></a></td></tr>\n",
       "<tr><td>8</td><td>Variable</td><td></td><td><a class=\"ProveItLink\" href=\"../../../../__pv_it/39dbcd3ca0390345b51c6ef7785756419e2c14390/expr.ipynb\"><img src=\"data:image/png;base64,iVBORw0KGgoAAAANSUhEUgAAAAwAAAAJBAMAAAD0ltBnAAAAMFBMVEX///8QEBCYmJhmZmaqqqoi\n",
       "IiLMzMzu7u4yMjJ2dnZUVFTc3NxERESIiIi6uroAAABbPXqjAAAAAXRSTlMAQObYZgAAAERJREFU\n",
       "CNdj4Luz++5KBgZOrl6G+gSGd6wHGOofMBQAsX8BAwivYGBgsGBg+MTOwCDJwPSdk4H7HwPnATcG\n",
       "PgEG7rMOAGtQEUwHZIDZAAAAAElFTkSuQmCC\n",
       "\" style=\"display:inline;vertical-align:middle;\" /></a></td></tr>\n",
       "<tr><td>9</td><td>Literal</td><td></td><td><a class=\"ProveItLink\" href=\"../../../../logic/set_theory/enumeration/__pv_it/07381ed5b23806e8d7914b78cb6667769e3708dd0/expr.ipynb\"><img src=\"data:image/png;base64,iVBORw0KGgoAAAANSUhEUgAAAB4AAAAOBAMAAADKyLEKAAAAMFBMVEX///8iIiIQEBCIiIjMzMzc\n",
       "3Nyqqqp2dnZEREQyMjK6urru7u5mZmZUVFSYmJgAAACI6eGPAAAAAXRSTlMAQObYZgAAALRJREFU\n",
       "CNdjYGDgu3Nm3wIGBJjHwN0PZW5yYGDgLWBgyITy8zcwMMQDxZyh/INAvD6BgcEFypcB4vjPDiBm\n",
       "TPFRrhs/LjMwMP//38rAwCbKEMPA9gEkE3fp0waG+AUMRxh4JkC01T9guPTOOICBEWgVH5C//wHD\n",
       "H5D4fqCz9oCMDGD4DLaegRXslLMMDMpAgxlOMmQxHDRgYG5gYLBk4D7KcIe7gOHC2rt9QCXsh40Z\n",
       "GCKMGQDRkC8N/Ph1XAAAAABJRU5ErkJggg==\n",
       "\" style=\"display:inline;vertical-align:middle;\" /></a></td></tr>\n",
       "<tr><td>10</td><td>ExprTuple</td><td>11, 12, 13</td><td><a class=\"ProveItLink\" href=\"../821e4fc468f4b7815bc6a1869ffd6851a6136d6d0/expr.ipynb\"><img src=\"data:image/png;base64,iVBORw0KGgoAAAANSUhEUgAAAE8AAAAVBAMAAAD1D64kAAAAMFBMVEX////c3NwiIiJERESqqqqY\n",
       "mJh2dnZmZmYQEBDu7u4yMjJUVFTMzMyIiIi6uroAAAAs73DqAAAAAXRSTlMAQObYZgAAAQ5JREFU\n",
       "KM9jYCAa8F0grCYORJwmwjD2A0BiJaoYp9oELCoXMDDwXmBg3IMsxrJcAFNhGAMDB9CAw3YojrY+\n",
       "gKFwBgPDKxAtvQRZlMf4AbpCZgeGMjBjmiqyMOMudJVsBQxLIay5KH5gLILYXrUKBFYDHb6AoQ8q\n",
       "x6qOpBKFA3Z3A8M/mMN2ITw7FyOIeD7AFPIZI7w6TRfD10CFLZDAW40wTxzhsSIlEFAGW20KdhPE\n",
       "rgnIQYViO+sChnSwXWBRzk8gD0MDH8xBDp5HQDmoXZz9SJGHwmHgesDAgcTnQ5ZD4QCjkDUBySUo\n",
       "zkLm5KImM5AcI9ijSg9QFHIuAPkSwUdJ68gcbpAzGInICncYGACixjp/GxJPbAAAAABJRU5ErkJg\n",
       "gg==\n",
       "\" style=\"display:inline;vertical-align:middle;\" /></a></td></tr>\n",
       "<tr><td>11</td><td>Literal</td><td></td><td><a class=\"ProveItLink\" href=\"../fed4085ae483b560677c9d938187885e1d910a490/expr.ipynb\"><img src=\"data:image/png;base64,iVBORw0KGgoAAAANSUhEUgAAAA4AAAAMBAMAAACgrpHpAAAALVBMVEX///9mZmaIiIiYmJgiIiJ2\n",
       "dnbu7u6qqqoyMjK6urpERETMzMxUVFTc3NwAAADHHImEAAAAAXRSTlMAQObYZgAAADlJREFUCNdj\n",
       "uLOBAQy4V02AMHhPFEAYbCEGUIZKGITBYCIGoff0gqlZq8FUxVmIZBhElxqYdwWiGQBNjQtMyuln\n",
       "xAAAAABJRU5ErkJggg==\n",
       "\" style=\"display:inline;vertical-align:middle;\" /></a></td></tr>\n",
       "<tr><td>12</td><td>Literal</td><td></td><td><a class=\"ProveItLink\" href=\"../96143560a3dbc26f943e0a126972c9bfadab3fc50/expr.ipynb\"><img src=\"data:image/png;base64,iVBORw0KGgoAAAANSUhEUgAAAA4AAAARBAMAAAAf5oCsAAAALVBMVEX///+IiIiYmJjMzMxUVFRE\n",
       "RES6urrc3NxmZmYyMjKqqqp2dnYiIiLu7u4AAACqGg1VAAAAAXRSTlMAQObYZgAAAEFJREFUCNdj\n",
       "YICCO3uhjJXtUEaqM5RhGgZllEyDMioOQ2idXhDJKwPWy7tHAESx9yiAKc8FYCWlCQx4Qc0ZEDgG\n",
       "ALzAEHC/pigGAAAAAElFTkSuQmCC\n",
       "\" style=\"display:inline;vertical-align:middle;\" /></a></td></tr>\n",
       "<tr><td>13</td><td>Literal</td><td></td><td><a class=\"ProveItLink\" href=\"../../../../logic/equality/__pv_it/2fb26078095930560931daa0500ce419a39ea6cd0/expr.ipynb\"><img src=\"data:image/png;base64,iVBORw0KGgoAAAANSUhEUgAAAA4AAAAFBAMAAACHocAhAAAAFVBMVEX///9EREQiIiJUVFQyMjJm\n",
       "ZmYAAADubVkoAAAAAXRSTlMAQObYZgAAABRJREFUCNdjCHEBAWcGXCBICQQUAUpuAwlgGKrkAAAA\n",
       "AElFTkSuQmCC\n",
       "\" style=\"display:inline;vertical-align:middle;\" /></a></td></tr>\n",
       "</table>\n"
      ],
      "text/plain": [
       "0. rho in {> , >= , =}^{n}\n",
       "   core type: Operation\n",
       "   operator: 1\n",
       "   operands: 2\n",
       "1. in\n",
       "   core type: Literal\n",
       "   sub-expressions: \n",
       "2. (rho , {> , >= , =}^{n})\n",
       "   core type: ExprTuple\n",
       "   sub-expressions: 3, 4\n",
       "3. rho\n",
       "   core type: Variable\n",
       "   sub-expressions: \n",
       "4. {> , >= , =}^{n}\n",
       "   core type: Operation\n",
       "   operator: 5\n",
       "   operands: 6\n",
       "5. Exp\n",
       "   core type: Literal\n",
       "   sub-expressions: \n",
       "6. ({> , >= , =} , n)\n",
       "   core type: ExprTuple\n",
       "   sub-expressions: 7, 8\n",
       "7. {> , >= , =}\n",
       "   core type: Operation\n",
       "   operator: 9\n",
       "   operands: 10\n",
       "8. n\n",
       "   core type: Variable\n",
       "   sub-expressions: \n",
       "9. Set\n",
       "   core type: Literal\n",
       "   sub-expressions: \n",
       "10. (> , >= , =)\n",
       "    core type: ExprTuple\n",
       "    sub-expressions: 11, 12, 13\n",
       "11. >\n",
       "    core type: Literal\n",
       "    sub-expressions: \n",
       "12. >=\n",
       "    core type: Literal\n",
       "    sub-expressions: \n",
       "13. =\n",
       "    core type: Literal\n",
       "    sub-expressions: "
      ]
     },
     "execution_count": 4,
     "metadata": {},
     "output_type": "execute_result"
    }
   ],
   "source": [
    "# display the expression information\n",
    "expr.exprInfo()"
   ]
  },
  {
   "cell_type": "code",
   "execution_count": null,
   "metadata": {},
   "outputs": [],
   "source": []
  }
 ],
 "metadata": {
  "kernelspec": {
   "display_name": "Python 3",
   "language": "python",
   "name": "python3"
  }
 },
 "nbformat": 4,
 "nbformat_minor": 0
}
