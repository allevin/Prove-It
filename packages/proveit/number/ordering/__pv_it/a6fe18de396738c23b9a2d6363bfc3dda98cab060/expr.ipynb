{
 "cells": [
  {
   "cell_type": "markdown",
   "metadata": {},
   "source": [
    "Expression of type <a class=\"ProveItLink\" href=\"../../../../../../doc/html/api/proveit.ExprTuple.html\">ExprTuple</a>\n",
    "=======================\n",
    "# from context <a class=\"ProveItLink\" href=\"../../_context_.ipynb\">proveit.number.ordering</a>"
   ]
  },
  {
   "cell_type": "code",
   "execution_count": 1,
   "metadata": {},
   "outputs": [],
   "source": [
    "# import Expression classes needed to build the expression\n",
    "from proveit import ExprTuple\n",
    "from proveit._common_ import c\n",
    "from proveit.logic import InSet\n",
    "from proveit.number import LessEq, Reals, zero"
   ]
  },
  {
   "cell_type": "code",
   "execution_count": 2,
   "metadata": {},
   "outputs": [
    {
     "data": {
      "text/html": [
       "<strong id=\"expr\">expr:</strong> <a class=\"ProveItLink\" href=\"expr.ipynb\"><img src=\"data:image/png;base64,iVBORw0KGgoAAAANSUhEUgAAAHUAAAAVBAMAAACK3rzVAAAAMFBMVEX////c3NwiIiJERESqqqqY\n",
       "mJh2dnZmZmYQEBDu7u4yMjJUVFTMzMyIiIi6uroAAAAs73DqAAAAAXRSTlMAQObYZgAAAclJREFU\n",
       "OMtjYKAE8F0gS1sciDiNKR712X5VF24jOWuvH2BgPwBkrcQiayDNcNhLAFOcVw9EMj3g1GFgWADk\n",
       "YjPfQJyBeaIBhvA0XTB1iYHhFgNDGAMDxwQkx9xSUloA1ct2AEPvdFUIrc3A8F6AYQYDwyskyVOR\n",
       "CHsx9UovgTK+MzCcd2BgdmAoA9mXdhfkc0ZLJDdzw9wMlWQ4vQ4qyfgNqPcCA1sBw1Ig78QDLgUg\n",
       "xSyApPdRFJQHlZxsw4CsN4GBZQFDH9DkXgbmAJA0IqwklLQcoNZCJXl1J6Dq5Wtg+MfAwP0BIvhC\n",
       "SQkeVs+ZoUphkgysahNQ3MzzAaSXH+qz00hxxP5mA4TJDw8yluUCiLAKAOltYWCQh0bxJOT4XXkV\n",
       "wpRHxD/f6gOwOPIXALnZFGg00D8gL3EHIOk9zX2AgZMBIQkCPMYHoGkjCeiHBQzpQD0FwNgEBYse\n",
       "kl42B0OG+QoISYjmfeA06cDZwwCKo0dATtndm2ApqRp4XrBhWLzeYcZHJEmk5Fd2G2ga1wMGDuQk\n",
       "770IEs4w8BBPJgSmSdYEPPIBeORyceRBLHqFQJGvpIdwOMiB0ri18uIxlhvkV0byypw7DAwAGEB3\n",
       "FF8En7MAAAAASUVORK5CYII=\n",
       "\" style=\"display:inline;vertical-align:middle;\" /></a><br>"
      ],
      "text/plain": [
       "expr: (c in Reals , c <= 0)"
      ]
     },
     "execution_count": 2,
     "metadata": {},
     "output_type": "execute_result"
    }
   ],
   "source": [
    "# build up the expression from sub-expressions\n",
    "expr = ExprTuple(InSet(c, Reals), LessEq(c, zero))"
   ]
  },
  {
   "cell_type": "code",
   "execution_count": 3,
   "metadata": {},
   "outputs": [
    {
     "name": "stdout",
     "output_type": "stream",
     "text": [
      "Passed sanity check: built 'expr' is the same as the stored Expression.\n"
     ]
    }
   ],
   "source": [
    "# check that the built expression is the same as the stored expression\n",
    "%check_expr"
   ]
  },
  {
   "cell_type": "code",
   "execution_count": 4,
   "metadata": {},
   "outputs": [
    {
     "data": {
      "text/html": [
       "<table><tr><th>&nbsp;</th><th>core type</th><th>sub-expressions</th><th>expression</th></tr>\n",
       "<tr><td>0</td><td>ExprTuple</td><td>1, 2</td><td><a class=\"ProveItLink\" href=\"expr.ipynb\"><img src=\"data:image/png;base64,iVBORw0KGgoAAAANSUhEUgAAAHUAAAAVBAMAAACK3rzVAAAAMFBMVEX////c3NwiIiJERESqqqqY\n",
       "mJh2dnZmZmYQEBDu7u4yMjJUVFTMzMyIiIi6uroAAAAs73DqAAAAAXRSTlMAQObYZgAAAclJREFU\n",
       "OMtjYKAE8F0gS1sciDiNKR712X5VF24jOWuvH2BgPwBkrcQiayDNcNhLAFOcVw9EMj3g1GFgWADk\n",
       "YjPfQJyBeaIBhvA0XTB1iYHhFgNDGAMDxwQkx9xSUloA1ct2AEPvdFUIrc3A8F6AYQYDwyskyVOR\n",
       "CHsx9UovgTK+MzCcd2BgdmAoA9mXdhfkc0ZLJDdzw9wMlWQ4vQ4qyfgNqPcCA1sBw1Ig78QDLgUg\n",
       "xSyApPdRFJQHlZxsw4CsN4GBZQFDH9DkXgbmAJA0IqwklLQcoNZCJXl1J6Dq5Wtg+MfAwP0BIvhC\n",
       "SQkeVs+ZoUphkgysahNQ3MzzAaSXH+qz00hxxP5mA4TJDw8yluUCiLAKAOltYWCQh0bxJOT4XXkV\n",
       "wpRHxD/f6gOwOPIXALnZFGg00D8gL3EHIOk9zX2AgZMBIQkCPMYHoGkjCeiHBQzpQD0FwNgEBYse\n",
       "kl42B0OG+QoISYjmfeA06cDZwwCKo0dATtndm2ApqRp4XrBhWLzeYcZHJEmk5Fd2G2ga1wMGDuQk\n",
       "770IEs4w8BBPJgSmSdYEPPIBeORyceRBLHqFQJGvpIdwOMiB0ri18uIxlhvkV0byypw7DAwAGEB3\n",
       "FF8En7MAAAAASUVORK5CYII=\n",
       "\" style=\"display:inline;vertical-align:middle;\" /></a></td></tr>\n",
       "<tr><td>1</td><td>Operation</td><td>operator:&nbsp;3<br>operands:&nbsp;4<br></td><td><a class=\"ProveItLink\" href=\"../b10c95388a44a46aae63ab68515cfd030d8aa7380/expr.ipynb\"><img src=\"data:image/png;base64,iVBORw0KGgoAAAANSUhEUgAAADEAAAAPBAMAAAC/wjryAAAAMFBMVEX///+qqqpmZmbc3NxUVFSY\n",
       "mJhEREQiIiIyMjK6uroQEBDMzMyIiIh2dnbu7u4AAAA4MM1YAAAAAXRSTlMAQObYZgAAALZJREFU\n",
       "GNNjYEAHEd/yO1YcYMAGEkwYtkkYYJUxYmB7nIAkwHeivLwBKsO7AVlmRxxCD0SG7+6ZDUCKOQ/J\n",
       "NBawabsmcBQAKTYDJJnpEUAe3xoGtgAg/xnCBVblFQJAmuUDhD+rvBzugklsD4A0P9QVW5BczTTb\n",
       "AUjbQ737HNk/fUdBeoCWgOxhCUCS2cICdC6LAtD1IMdXIsnwCiQDGbpnzoEFLLThIZrN0NYvgBQI\n",
       "Iu0Qt0EBADmNMo1PEJ+NAAAAAElFTkSuQmCC\n",
       "\" style=\"display:inline;vertical-align:middle;\" /></a></td></tr>\n",
       "<tr><td>2</td><td>Operation</td><td>operator:&nbsp;5<br>operands:&nbsp;6<br></td><td><a class=\"ProveItLink\" href=\"../94f0868b368cc521c386072d8fe86ab3aaaf1d1a0/expr.ipynb\"><img src=\"data:image/png;base64,iVBORw0KGgoAAAANSUhEUgAAAC8AAAARBAMAAAC/eehCAAAAMFBMVEX///+qqqpmZmbc3NxUVFSY\n",
       "mJhEREQiIiIyMjK6uroQEBDMzMyIiIh2dnbu7u4AAAA4MM1YAAAAAXRSTlMAQObYZgAAALVJREFU\n",
       "GNNjYMAEfDqHNqAJ8VSCSPYJfNWo4m9rwNRxBoYTKOKPSiF0CQPDfAMkcZNGKOMTA8N+AaBVd8+A\n",
       "rdrSCRVn/guUOMDAsGsCRwGQ+yybAVniAgPfGga2AJCDah6gSrB8gPJZax+gGMWfADOCsckAYXkA\n",
       "g/0BuLM4WzbAnCtvwMAPtCAAKsOdtgHqwesMDCwKDLzwkOH2BAeJAN9qIKV75hx6IOoe2cBAATAv\n",
       "B4FKOB8A9c8zCdKjIUUAAAAASUVORK5CYII=\n",
       "\" style=\"display:inline;vertical-align:middle;\" /></a></td></tr>\n",
       "<tr><td>3</td><td>Literal</td><td></td><td><a class=\"ProveItLink\" href=\"../../../../logic/set_theory/membership/__pv_it/088cbc857536a28d4119ad9639a84270ccb0545d0/expr.ipynb\"><img src=\"data:image/png;base64,iVBORw0KGgoAAAANSUhEUgAAAAwAAAAMBAMAAACkW0HUAAAALVBMVEX///+qqqpmZmZUVFQQEBC6\n",
       "urpERETc3NyYmJjMzMwiIiIyMjKIiIju7u4AAACYsrA9AAAAAXRSTlMAQObYZgAAADxJREFUCNdj\n",
       "YOA9vWrVBgaG2b0MQMCeCyIZ2ArA1DUwyRCyahVIyWQI7xaEYm4AU7xLIdxqTQgtvGvVBgCkcQ7e\n",
       "geM/tQAAAABJRU5ErkJggg==\n",
       "\" style=\"display:inline;vertical-align:middle;\" /></a></td></tr>\n",
       "<tr><td>4</td><td>ExprTuple</td><td>8, 7</td><td><a class=\"ProveItLink\" href=\"../83cf7012619d6fb694a2c52cbe9376aa4afb595a0/expr.ipynb\"><img src=\"data:image/png;base64,iVBORw0KGgoAAAANSUhEUgAAAC0AAAAVBAMAAAAgHXppAAAAMFBMVEX////c3NwiIiJERESqqqqY\n",
       "mJh2dnZmZmYQEBDu7u4yMjJUVFTMzMyIiIi6uroAAAAs73DqAAAAAXRSTlMAQObYZgAAAQRJREFU\n",
       "GNNjYMAF+C5gCMWBiNMIftRn+1VdQGXsB4CclUgKDaQZDnsJMDAsYGDgRTbGQJyBeaIBA0MYAwPH\n",
       "BFRxtgNA8RkMDK8YsIgzOzCUAbmcaXcPwMS5QeawFTAsBXJPPOBSgIk/igLay7KAoQ+ovJeBOQAi\n",
       "LqGk5QDyUwPDPwYG7g8I858zg9zB8wEkzm+AEGd/swEi3sLAIH8ByT0rr0LMMQWqBxoewAkVP80N\n",
       "dBrrAoZ0oPkFQFfPV4C638EQ7M5HQG7Z3ZsMMz6Cw82GYfF6BwauBwwcAlCzHyL5GxgOrAlQdgCS\n",
       "eC5SOCOJcwLDmUEawuZFUs4NMpsRMx7vMDAAAHdGPoCrhInqAAAAAElFTkSuQmCC\n",
       "\" style=\"display:inline;vertical-align:middle;\" /></a></td></tr>\n",
       "<tr><td>5</td><td>Literal</td><td></td><td><a class=\"ProveItLink\" href=\"../aa616d6a8fe3483e4e64187262e9c7dfe6a536a30/expr.ipynb\"><img src=\"data:image/png;base64,iVBORw0KGgoAAAANSUhEUgAAAA4AAAARBAMAAAAf5oCsAAAALVBMVEX///9ERETMzMyqqqoyMjJU\n",
       "VFTc3NyYmJhmZmZ2dnbu7u66uroiIiKIiIgAAAAFyQXGAAAAAXRSTlMAQObYZgAAAEBJREFUCNdj\n",
       "YEAGvKfB1MqzYGrFcTCV6gymVL3B1EIhqNKzCyAM9pNQBrNHAoTB7aoAYTAJwhjRDLhAzhkQOA0A\n",
       "iskPUSt9tJUAAAAASUVORK5CYII=\n",
       "\" style=\"display:inline;vertical-align:middle;\" /></a></td></tr>\n",
       "<tr><td>6</td><td>ExprTuple</td><td>8, 9</td><td><a class=\"ProveItLink\" href=\"../f43946823c50b47ba1ef96797ff2d4a9253d19d30/expr.ipynb\"><img src=\"data:image/png;base64,iVBORw0KGgoAAAANSUhEUgAAACkAAAAVBAMAAAAp9toTAAAAMFBMVEX////c3NwiIiJERESqqqqY\n",
       "mJh2dnZmZmYQEBDu7u4yMjJUVFTMzMyIiIi6uroAAAAs73DqAAAAAXRSTlMAQObYZgAAAPhJREFU\n",
       "GNNtkS1PA0EQhp+2tHRbWs4jwFNRg79/0FNI0iBAkVSdI0EggSDrOFPBvzhJguBSQ/hociAxtKZ1\n",
       "hJmw2UwaVmxmnkze951d+P90izVwpNejAe78OWczl+re0GrpepBBxwpM4RUOoXlr6D58R4zhyxqt\n",
       "4CmmFpOqyclMHagshRY0Rkykeyhbe4EO2ci4kdFraomh3Qt+oD33sl5ha650u2/dEqWXsFuYZINI\n",
       "FQ5kVkQT57c4hnrGqeiOaOR3mqIauys02ac06eyF8UKDp28SvFXSjLzmR9hQNq4PfZ0EemZeMlAn\n",
       "L8nOX90Jo23VrKz/0Dv8Au7KP3HQOo/+AAAAAElFTkSuQmCC\n",
       "\" style=\"display:inline;vertical-align:middle;\" /></a></td></tr>\n",
       "<tr><td>7</td><td>Literal</td><td></td><td><a class=\"ProveItLink\" href=\"../../../sets/real/__pv_it/9e7645ee1117062e179dd6264898f99ed95b157c0/expr.ipynb\"><img src=\"data:image/png;base64,iVBORw0KGgoAAAANSUhEUgAAAA8AAAAOBAMAAAACpFvcAAAAMFBMVEX///8iIiK6urp2dnbu7u5m\n",
       "ZmaqqqrMzMxUVFTc3NyIiIgQEBBEREQyMjKYmJgAAAA9nvXMAAAAAXRSTlMAQObYZgAAAFJJREFU\n",
       "CNdjePvn/N29CxiA4MAMhprcCSDGVAYezwMQBnMBOoMDJqX4Fqx4tqBsAlj7VFUeBwiDVb0BwmC4\n",
       "sg7KqOAogJqTcJKBAWjpcYY79xMAyqEnfsw4ApEAAAAASUVORK5CYII=\n",
       "\" style=\"display:inline;vertical-align:middle;\" /></a></td></tr>\n",
       "<tr><td>8</td><td>Variable</td><td></td><td><a class=\"ProveItLink\" href=\"../../../../__pv_it/cbdfda466482236edba0ce44ac7ef39cda0af7a40/expr.ipynb\"><img src=\"data:image/png;base64,iVBORw0KGgoAAAANSUhEUgAAAAkAAAAJBAMAAAASvxsjAAAALVBMVEX///9mZmbc3NxUVFSYmJhE\n",
       "REQiIiIyMjK6uroQEBDMzMyIiIh2dnbu7u4AAABgFDGoAAAAAXRSTlMAQObYZgAAADZJREFUCNdj\n",
       "YOA9s3sBA8PKBvYEBt7ZDKwODMwPGICALwBE6m0Asx0YGIDiAgw8QJUyu/cyAAAmuwmycZ8WfQAA\n",
       "AABJRU5ErkJggg==\n",
       "\" style=\"display:inline;vertical-align:middle;\" /></a></td></tr>\n",
       "<tr><td>9</td><td>Literal</td><td></td><td><a class=\"ProveItLink\" href=\"../../../numeral/__pv_it/ec23fc7a1b4222a5f4948b495002b97d6fa18c3c0/expr.ipynb\"><img src=\"data:image/png;base64,iVBORw0KGgoAAAANSUhEUgAAAAoAAAAOBAMAAADkjZCYAAAALVBMVEX///8QEBCYmJh2dnaqqqrc\n",
       "3NxUVFQyMjK6uroiIiLMzMyIiIhmZmbu7u4AAAAZjyHdAAAAAXRSTlMAQObYZgAAAEpJREFUCNdj\n",
       "YLiz+xQDA8MMhpsLGLgnMHAXMHAmMHA8ZeA7wMD1hCHOgIHrNZh8jES+Bss+AqlkeQrSxTyBgWEK\n",
       "w8UFDAx3rLMYAMCjFldHSx/9AAAAAElFTkSuQmCC\n",
       "\" style=\"display:inline;vertical-align:middle;\" /></a></td></tr>\n",
       "</table>\n"
      ],
      "text/plain": [
       "0. (c in Reals , c <= 0)\n",
       "   core type: ExprTuple\n",
       "   sub-expressions: 1, 2\n",
       "1. c in Reals\n",
       "   core type: Operation\n",
       "   operator: 3\n",
       "   operands: 4\n",
       "2. c <= 0\n",
       "   core type: Operation\n",
       "   operator: 5\n",
       "   operands: 6\n",
       "3. in\n",
       "   core type: Literal\n",
       "   sub-expressions: \n",
       "4. (c , Reals)\n",
       "   core type: ExprTuple\n",
       "   sub-expressions: 8, 7\n",
       "5. <=\n",
       "   core type: Literal\n",
       "   sub-expressions: \n",
       "6. (c , 0)\n",
       "   core type: ExprTuple\n",
       "   sub-expressions: 8, 9\n",
       "7. Reals\n",
       "   core type: Literal\n",
       "   sub-expressions: \n",
       "8. c\n",
       "   core type: Variable\n",
       "   sub-expressions: \n",
       "9. 0\n",
       "   core type: Literal\n",
       "   sub-expressions: "
      ]
     },
     "execution_count": 4,
     "metadata": {},
     "output_type": "execute_result"
    }
   ],
   "source": [
    "# display the expression information\n",
    "expr.exprInfo()"
   ]
  },
  {
   "cell_type": "code",
   "execution_count": null,
   "metadata": {},
   "outputs": [],
   "source": []
  }
 ],
 "metadata": {
  "kernelspec": {
   "display_name": "Python 3",
   "language": "python",
   "name": "python3"
  }
 },
 "nbformat": 4,
 "nbformat_minor": 0
}
