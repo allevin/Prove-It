{
 "cells": [
  {
   "cell_type": "markdown",
   "metadata": {},
   "source": [
    "Expression of type <a class=\"ProveItLink\" href=\"../../../../../../doc/html/api/proveit.number.LesserSequence.html\">LesserSequence</a>\n",
    "=======================\n",
    "# from context <a class=\"ProveItLink\" href=\"../../_context_.ipynb\">proveit.number.ordering</a>"
   ]
  },
  {
   "cell_type": "code",
   "execution_count": 1,
   "metadata": {},
   "outputs": [],
   "source": [
    "# import Expression classes needed to build the expression\n",
    "from proveit._common_ import a, b, c, e\n",
    "from proveit.number import Less, LessEq, LesserSequence"
   ]
  },
  {
   "cell_type": "code",
   "execution_count": 2,
   "metadata": {},
   "outputs": [
    {
     "data": {
      "text/html": [
       "<strong id=\"expr\">expr:</strong> <a class=\"ProveItLink\" href=\"expr.ipynb\"><img src=\"data:image/png;base64,iVBORw0KGgoAAAANSUhEUgAAAHkAAAARBAMAAAALcx5NAAAAMFBMVEX////c3NxmZmbMzMxERESY\n",
       "mJiIiIh2dna6urqqqqoyMjIiIiIQEBBUVFTu7u4AAAAiO1wTAAAAAXRSTlMAQObYZgAAAXBJREFU\n",
       "OMtj4LuzgYECwHUBrzTbDgyh7AYEm38Cgs2ojK7y+TZ0Eb7qBCRe/wM4k/lWA5rSR1sxNGsHIHOr\n",
       "4SyOtQZoSmVXomtmvDUBhb827SqEwblIAKYpvQfMtF2B8EFZMprrGNWTBBj4vjDwg61k2w7zAsdB\n",
       "Bn8Q/cQZ4acTDKtBznZBuG62AKMCA+c/Bp4CIIcdETzyAQwqYPO2wYPkTQKDKzi48+BW/2BgMmBg\n",
       "WsDArwCyyAOu+z4DA8QoVrhz7sPkouugDN6jYYkMDNwKDP3gULSFh9AXBr7PaEHxBW70LEVoRCtA\n",
       "o1sfYoMQNHYYvzFwfuBDiQagEBx0XYboBsc6MMiOw1MG2Bi+nwy8CybDggsSTl+B3oBpNwEHJg9Q\n",
       "dwID7wQmeFKF+nMpw2yFAnho3wCRlxgYiuG224JijW0BwyNgjF1TRbiKczE4utOa3dASHVNZ2gO0\n",
       "dFOUlsAwWIH0bhBAzqGMYJHdcG8BAOefYNIzPRP3AAAAAElFTkSuQmCC\n",
       "\" style=\"display:inline;vertical-align:middle;\" /></a><br>"
      ],
      "text/plain": [
       "expr: b < a <= c <= e"
      ]
     },
     "execution_count": 2,
     "metadata": {},
     "output_type": "execute_result"
    }
   ],
   "source": [
    "# build up the expression from sub-expressions\n",
    "expr = LesserSequence([Less._operator_, LessEq._operator_, LessEq._operator_], [b, a, c, e])"
   ]
  },
  {
   "cell_type": "code",
   "execution_count": 3,
   "metadata": {},
   "outputs": [
    {
     "name": "stdout",
     "output_type": "stream",
     "text": [
      "Passed sanity check: built 'expr' is the same as the stored Expression.\n"
     ]
    }
   ],
   "source": [
    "# check that the built expression is the same as the stored expression\n",
    "%check_expr"
   ]
  },
  {
   "cell_type": "code",
   "execution_count": 4,
   "metadata": {},
   "outputs": [
    {
     "data": {
      "text/html": [
       "<table><tr><th>&nbsp;</th><th>core type</th><th>sub-expressions</th><th>expression</th></tr>\n",
       "<tr><td>0</td><td>Operation</td><td>operators:&nbsp;1<br>operands:&nbsp;2<br></td><td><a class=\"ProveItLink\" href=\"expr.ipynb\"><img src=\"data:image/png;base64,iVBORw0KGgoAAAANSUhEUgAAAHkAAAARBAMAAAALcx5NAAAAMFBMVEX////c3NxmZmbMzMxERESY\n",
       "mJiIiIh2dna6urqqqqoyMjIiIiIQEBBUVFTu7u4AAAAiO1wTAAAAAXRSTlMAQObYZgAAAXBJREFU\n",
       "OMtj4LuzgYECwHUBrzTbDgyh7AYEm38Cgs2ojK7y+TZ0Eb7qBCRe/wM4k/lWA5rSR1sxNGsHIHOr\n",
       "4SyOtQZoSmVXomtmvDUBhb827SqEwblIAKYpvQfMtF2B8EFZMprrGNWTBBj4vjDwg61k2w7zAsdB\n",
       "Bn8Q/cQZ4acTDKtBznZBuG62AKMCA+c/Bp4CIIcdETzyAQwqYPO2wYPkTQKDKzi48+BW/2BgMmBg\n",
       "WsDArwCyyAOu+z4DA8QoVrhz7sPkouugDN6jYYkMDNwKDP3gULSFh9AXBr7PaEHxBW70LEVoRCtA\n",
       "o1sfYoMQNHYYvzFwfuBDiQagEBx0XYboBsc6MMiOw1MG2Bi+nwy8CybDggsSTl+B3oBpNwEHJg9Q\n",
       "dwID7wQmeFKF+nMpw2yFAnho3wCRlxgYiuG224JijW0BwyNgjF1TRbiKczE4utOa3dASHVNZ2gO0\n",
       "dFOUlsAwWIH0bhBAzqGMYJHdcG8BAOefYNIzPRP3AAAAAElFTkSuQmCC\n",
       "\" style=\"display:inline;vertical-align:middle;\" /></a></td></tr>\n",
       "<tr><td>1</td><td>ExprTuple</td><td>3, 4, 4</td><td><a class=\"ProveItLink\" href=\"../e442f0724a769c9f999a8564316adb19b8cb5c5e0/expr.ipynb\"><img src=\"data:image/png;base64,iVBORw0KGgoAAAANSUhEUgAAAE8AAAAVBAMAAAD1D64kAAAAMFBMVEX////c3NwiIiJERESqqqqY\n",
       "mJh2dnZmZmYQEBDu7u4yMjJUVFTMzMyIiIi6uroAAAAs73DqAAAAAXRSTlMAQObYZgAAASxJREFU\n",
       "KM9jYCAa8F0grCYORJwmwjD2A0BiJTaZSw8QbF49BoYFQApms/gBuBRnEpJzpukCiTAGBo4JEP7p\n",
       "dQh1RQEIddNVQeQMBoZXEP6rPXApxl0OCHXSS8AUswNDGZjhVQiX4tmF5D6YPWwFDEvBbs9E2GuM\n",
       "cCvDZBsog2UBQx+QQnY7w6WbSB7WhfqAr4HhH8iQB8hBE4QwnoFVDaKS5wNIIdBZDsgqkRzMwLJc\n",
       "AKqwBexR5ABBCQIGvtUHIFabQoMY5LIJMNnDNggOD8h3rAsY0hEu4/yECJYHCA7PPnDwPIK77ABn\n",
       "vwDCShQOA9cDBg4kPh+yHAoHGIWsCUiBgewjFE4uajIDyTEqgcEDMEcIzNZj4FwAinaEQpS0jszh\n",
       "BjmDkYiscIeBAQCoNkc7gkohywAAAABJRU5ErkJggg==\n",
       "\" style=\"display:inline;vertical-align:middle;\" /></a></td></tr>\n",
       "<tr><td>2</td><td>ExprTuple</td><td>5, 6, 7, 8</td><td><a class=\"ProveItLink\" href=\"../d52595668ce669aa21a2439fdb6f62dd87af0e1d0/expr.ipynb\"><img src=\"data:image/png;base64,iVBORw0KGgoAAAANSUhEUgAAAE4AAAAVBAMAAAAazcUaAAAAMFBMVEX////c3NwiIiJERESqqqqY\n",
       "mJh2dnZmZmYQEBDu7u4yMjJUVFTMzMyIiIi6uroAAAAs73DqAAAAAXRSTlMAQObYZgAAAWFJREFU\n",
       "KM+Nkj9Iw0AUxr+2af4Sk91BN9cMugdHFzMLQnCwm2Qxk6CCuindFJd0cRBB6iCIUAi4CA7GSRxS\n",
       "Wqfg0oo4uBTf3cUuGc6Qu/vd47t397474L/fTCaVNAfUPcG4m5cId6hdAmZXojMBm7Z1fNnGIfQ2\n",
       "MGpLdMYePmjYkFayiJj6q/xWTGu9rf0yw2aeilD86gItXFDsC44IFm5jLHSPA1OYsOzWImAFJ4Dy\n",
       "Az3ka7+heSLdMRoBD02gUY4CE0DrwIlY0BqjLly3yrSwDtdfaHhmunqEEV/seEjEARyv1IkEpDvg\n",
       "9u1yZ+YyrOKPSp2AAktgRRzBoFni415JGTmUP2Cgk47+NaoYlq91kVB5ZqAsqJysCGrKwO7glPvy\n",
       "TsX1toGzT2Zf/6HPCXH+JqCVs52vobvlSYZT84cVoHtrhiUHU11QATXj70qqO6c2K9CeyuwK4Ibd\n",
       "jPzd2yl+AUOyW9ulbV5RAAAAAElFTkSuQmCC\n",
       "\" style=\"display:inline;vertical-align:middle;\" /></a></td></tr>\n",
       "<tr><td>3</td><td>Literal</td><td></td><td><a class=\"ProveItLink\" href=\"../7c444b9b2efa607ed6397b492680dde2810212f00/expr.ipynb\"><img src=\"data:image/png;base64,iVBORw0KGgoAAAANSUhEUgAAAA4AAAAMBAMAAACgrpHpAAAALVBMVEX///+YmJhERETu7u52dnYi\n",
       "IiKIiIiqqqq6uroyMjJUVFTMzMxmZmbc3NwAAADmAst+AAAAAXRSTlMAQObYZgAAAD5JREFUCNdj\n",
       "YAAB3tNgintlA4jimLUBRLHPuQCi2EIMQBRLGFgJg5EGhGbYNR3KuBMIZZiEGUAYjCFQBvtsABzC\n",
       "Cm98G6SsAAAAAElFTkSuQmCC\n",
       "\" style=\"display:inline;vertical-align:middle;\" /></a></td></tr>\n",
       "<tr><td>4</td><td>Literal</td><td></td><td><a class=\"ProveItLink\" href=\"../aa616d6a8fe3483e4e64187262e9c7dfe6a536a30/expr.ipynb\"><img src=\"data:image/png;base64,iVBORw0KGgoAAAANSUhEUgAAAA4AAAARBAMAAAAf5oCsAAAALVBMVEX///9ERETMzMyqqqoyMjJU\n",
       "VFTc3NyYmJhmZmZ2dnbu7u66uroiIiKIiIgAAAAFyQXGAAAAAXRSTlMAQObYZgAAAEBJREFUCNdj\n",
       "YEAGvKfB1MqzYGrFcTCV6gymVL3B1EIhqNKzCyAM9pNQBrNHAoTB7aoAYTAJwhjRDLhAzhkQOA0A\n",
       "iskPUSt9tJUAAAAASUVORK5CYII=\n",
       "\" style=\"display:inline;vertical-align:middle;\" /></a></td></tr>\n",
       "<tr><td>5</td><td>Variable</td><td></td><td><a class=\"ProveItLink\" href=\"../../../../__pv_it/6840a4fa6c106149dc16a131294d0c5e44f1b0480/expr.ipynb\"><img src=\"data:image/png;base64,iVBORw0KGgoAAAANSUhEUgAAAAkAAAAOBAMAAAAPuiubAAAALVBMVEX///9mZmbMzMxERESYmJiI\n",
       "iIh2dna6urqqqqoyMjIiIiIQEBBUVFTu7u4AAAD9S1JeAAAAAXRSTlMAQObYZgAAAE1JREFUCNdj\n",
       "4D29gAEIOA+ASL4GEFl3AURmgQiGOaFHGBh4HzPwKTBwvGXgTmBgnMDAJ8DAJcBQ5wBSLncBJLWN\n",
       "gYGngRFoBO9REQYGAGrcDtUkVqASAAAAAElFTkSuQmCC\n",
       "\" style=\"display:inline;vertical-align:middle;\" /></a></td></tr>\n",
       "<tr><td>6</td><td>Variable</td><td></td><td><a class=\"ProveItLink\" href=\"../../../../__pv_it/07527342713064c87612d00d8557c53d53d5324a0/expr.ipynb\"><img src=\"data:image/png;base64,iVBORw0KGgoAAAANSUhEUgAAAAsAAAAJBAMAAAAWSsseAAAAMFBMVEX///8yMjKqqqrMzMzu7u4i\n",
       "IiJmZmaYmJhEREQQEBC6urp2dnaIiIhUVFTc3NwAAAD87Fq/AAAAAXRSTlMAQObYZgAAAEhJREFU\n",
       "CNdjYOC7s2seAwPDygccHxgY+L4zsDUwMPB+YGA9wMDA38Dgb8DA8P4Agz6DA4O/AsNFJgMGxgKm\n",
       "MG6gyjunLE4xAAAZTBA5TB6DCwAAAABJRU5ErkJggg==\n",
       "\" style=\"display:inline;vertical-align:middle;\" /></a></td></tr>\n",
       "<tr><td>7</td><td>Variable</td><td></td><td><a class=\"ProveItLink\" href=\"../../../../__pv_it/cbdfda466482236edba0ce44ac7ef39cda0af7a40/expr.ipynb\"><img src=\"data:image/png;base64,iVBORw0KGgoAAAANSUhEUgAAAAkAAAAJBAMAAAASvxsjAAAALVBMVEX///9mZmbc3NxUVFSYmJhE\n",
       "REQiIiIyMjK6uroQEBDMzMyIiIh2dnbu7u4AAABgFDGoAAAAAXRSTlMAQObYZgAAADZJREFUCNdj\n",
       "YOA9s3sBA8PKBvYEBt7ZDKwODMwPGICALwBE6m0Asx0YGIDiAgw8QJUyu/cyAAAmuwmycZ8WfQAA\n",
       "AABJRU5ErkJggg==\n",
       "\" style=\"display:inline;vertical-align:middle;\" /></a></td></tr>\n",
       "<tr><td>8</td><td>Variable</td><td></td><td><a class=\"ProveItLink\" href=\"../../../../__pv_it/0bc0f4a545336331111a0b22c4f05a0627b57b8f0/expr.ipynb\"><img src=\"data:image/png;base64,iVBORw0KGgoAAAANSUhEUgAAAAkAAAAJBAMAAAASvxsjAAAALVBMVEX////u7u4yMjKYmJgQEBBU\n",
       "VFTMzMy6uroiIiKqqqqIiIh2dnZmZmbc3NwAAAAyj3LLAAAAAXRSTlMAQObYZgAAADlJREFUCNdj\n",
       "YOA9veYCA8OMC7wHGHifM/AkMLA6W61lYOA7wAAEfAtAJAuQXMDApcAgA1S5Z9UCBgB6Cgz1W65k\n",
       "FgAAAABJRU5ErkJggg==\n",
       "\" style=\"display:inline;vertical-align:middle;\" /></a></td></tr>\n",
       "</table>\n"
      ],
      "text/plain": [
       "0. b < a <= c <= e\n",
       "   core type: Operation\n",
       "   operators: 1\n",
       "   operands: 2\n",
       "1. (< , <= , <=)\n",
       "   core type: ExprTuple\n",
       "   sub-expressions: 3, 4, 4\n",
       "2. (b , a , c , e)\n",
       "   core type: ExprTuple\n",
       "   sub-expressions: 5, 6, 7, 8\n",
       "3. <\n",
       "   core type: Literal\n",
       "   sub-expressions: \n",
       "4. <=\n",
       "   core type: Literal\n",
       "   sub-expressions: \n",
       "5. b\n",
       "   core type: Variable\n",
       "   sub-expressions: \n",
       "6. a\n",
       "   core type: Variable\n",
       "   sub-expressions: \n",
       "7. c\n",
       "   core type: Variable\n",
       "   sub-expressions: \n",
       "8. e\n",
       "   core type: Variable\n",
       "   sub-expressions: "
      ]
     },
     "execution_count": 4,
     "metadata": {},
     "output_type": "execute_result"
    }
   ],
   "source": [
    "# display the expression information\n",
    "expr.exprInfo()"
   ]
  },
  {
   "cell_type": "code",
   "execution_count": null,
   "metadata": {},
   "outputs": [],
   "source": []
  }
 ],
 "metadata": {
  "kernelspec": {
   "display_name": "Python 3",
   "language": "python",
   "name": "python3"
  }
 },
 "nbformat": 4,
 "nbformat_minor": 0
}
