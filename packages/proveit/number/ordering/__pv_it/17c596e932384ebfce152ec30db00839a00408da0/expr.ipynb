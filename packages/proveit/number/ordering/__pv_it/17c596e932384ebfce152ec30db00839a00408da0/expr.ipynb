{
 "cells": [
  {
   "cell_type": "markdown",
   "metadata": {},
   "source": [
    "Expression of type <a class=\"ProveItLink\" href=\"../../../../../../doc/html/api/proveit.ExprTuple.html\">ExprTuple</a>\n",
    "=======================\n",
    "# from context <a class=\"ProveItLink\" href=\"../../_context_.ipynb\">proveit.number.ordering</a>"
   ]
  },
  {
   "cell_type": "code",
   "execution_count": 1,
   "metadata": {},
   "outputs": [],
   "source": [
    "# import Expression classes needed to build the expression\n",
    "from proveit import ExprTuple\n",
    "from proveit._common_ import a, t, u, z\n",
    "from proveit.number import GreaterEq, Less"
   ]
  },
  {
   "cell_type": "code",
   "execution_count": 2,
   "metadata": {},
   "outputs": [
    {
     "data": {
      "text/html": [
       "<strong id=\"expr\">expr:</strong> <a class=\"ProveItLink\" href=\"expr.ipynb\"><img src=\"data:image/png;base64,iVBORw0KGgoAAAANSUhEUgAAAK4AAAAVBAMAAAAtL8hrAAAAMFBMVEX////c3NwiIiJERESqqqqY\n",
       "mJh2dnZmZmYQEBDu7u4yMjJUVFTMzMyIiIi6uroAAAAs73DqAAAAAXRSTlMAQObYZgAAAlNJREFU\n",
       "OMtjYKAV4LtAdSNZHwCJ0zRwaw0Qr2Rg4OwBcSZlYlMy4wAZ5nIxMPACg4HlJ5jnVYhFif8EOFMc\n",
       "rxWMNUgBkcDAAdTHrgDhPt6DqbwIzjq9Dp+xPLseIDicDQyvgBRTAZR/2A5DvTqM8WoP3thfjeIZ\n",
       "E4YyBobX9tawNCENdZP0tRcCYOWbP+9lQAkkzvQEBnlI2EwrY2CEhCADy3IBqAkv+hiBhqUzLAWF\n",
       "IcIicR2wcY0M9lANHyD0JViksvN9YLgPYRa8Z+CFSPOqwWKB0fR6McgVDH1AsgphblAliJQPYCiG\n",
       "GrMATCXBE/kRYGQYQ0LUoYiB2QDEYtNFhCwD506Qqxn+AUk1uCjUWfsZGKBKmRLA4sbwSJnAcYHh\n",
       "L9SIXgZ+sH2TkaNFGkScB5nL+Q9mLMxZnxk4/0BY8x9AY9sBkfB4oHLA5HkeElunlyAisABibgs4\n",
       "DMGhzlgUAA2kv0AxTogpDIwMKHLAQONtgIfRDVi0qMLMdYPEHoMpSJ4F5CpGuJs4vzBwL/BhmAA2\n",
       "xQ/ml5sQhjkwUAPBcswFDMas0HQwTRcScywJDNxAKgqYIhi4C6aBhIQRCXspg1NBAucnIGs7ZwI8\n",
       "SiFhX81wIgEix76Bp40NnsUgSeJUeCgoqaYzPAI61Ba9SJO++8b2AWc/0C3CdxGiXuDAnHzXz+wA\n",
       "WI7T9srjHLgsyxpw2mP9AfL1OgYOAdx5SICBLDlwPmZNwF2M4iti8ZZnbBfA5SQECCmBgB41zJ0F\n",
       "S8dYAb6KBH8lsxGUvKhfD/EeYAAA8JWQd82LRZAAAAAASUVORK5CYII=\n",
       "\" style=\"display:inline;vertical-align:middle;\" /></a><br>"
      ],
      "text/plain": [
       "expr: (t >= a , t < u , u < z)"
      ]
     },
     "execution_count": 2,
     "metadata": {},
     "output_type": "execute_result"
    }
   ],
   "source": [
    "# build up the expression from sub-expressions\n",
    "expr = ExprTuple(GreaterEq(t, a), Less(t, u), Less(u, z))"
   ]
  },
  {
   "cell_type": "code",
   "execution_count": 3,
   "metadata": {},
   "outputs": [
    {
     "name": "stdout",
     "output_type": "stream",
     "text": [
      "Passed sanity check: built 'expr' is the same as the stored Expression.\n"
     ]
    }
   ],
   "source": [
    "# check that the built expression is the same as the stored expression\n",
    "%check_expr"
   ]
  },
  {
   "cell_type": "code",
   "execution_count": 4,
   "metadata": {},
   "outputs": [
    {
     "data": {
      "text/html": [
       "<table><tr><th>&nbsp;</th><th>core type</th><th>sub-expressions</th><th>expression</th></tr>\n",
       "<tr><td>0</td><td>ExprTuple</td><td>1, 2, 3</td><td><a class=\"ProveItLink\" href=\"expr.ipynb\"><img src=\"data:image/png;base64,iVBORw0KGgoAAAANSUhEUgAAAK4AAAAVBAMAAAAtL8hrAAAAMFBMVEX////c3NwiIiJERESqqqqY\n",
       "mJh2dnZmZmYQEBDu7u4yMjJUVFTMzMyIiIi6uroAAAAs73DqAAAAAXRSTlMAQObYZgAAAlNJREFU\n",
       "OMtjYKAV4LtAdSNZHwCJ0zRwaw0Qr2Rg4OwBcSZlYlMy4wAZ5nIxMPACg4HlJ5jnVYhFif8EOFMc\n",
       "rxWMNUgBkcDAAdTHrgDhPt6DqbwIzjq9Dp+xPLseIDicDQyvgBRTAZR/2A5DvTqM8WoP3thfjeIZ\n",
       "E4YyBobX9tawNCENdZP0tRcCYOWbP+9lQAkkzvQEBnlI2EwrY2CEhCADy3IBqAkv+hiBhqUzLAWF\n",
       "IcIicR2wcY0M9lANHyD0JViksvN9YLgPYRa8Z+CFSPOqwWKB0fR6McgVDH1AsgphblAliJQPYCiG\n",
       "GrMATCXBE/kRYGQYQ0LUoYiB2QDEYtNFhCwD506Qqxn+AUk1uCjUWfsZGKBKmRLA4sbwSJnAcYHh\n",
       "L9SIXgZ+sH2TkaNFGkScB5nL+Q9mLMxZnxk4/0BY8x9AY9sBkfB4oHLA5HkeElunlyAisABibgs4\n",
       "DMGhzlgUAA2kv0AxTogpDIwMKHLAQONtgIfRDVi0qMLMdYPEHoMpSJ4F5CpGuJs4vzBwL/BhmAA2\n",
       "xQ/ml5sQhjkwUAPBcswFDMas0HQwTRcScywJDNxAKgqYIhi4C6aBhIQRCXspg1NBAucnIGs7ZwI8\n",
       "SiFhX81wIgEix76Bp40NnsUgSeJUeCgoqaYzPAI61Ba9SJO++8b2AWc/0C3CdxGiXuDAnHzXz+wA\n",
       "WI7T9srjHLgsyxpw2mP9AfL1OgYOAdx5SICBLDlwPmZNwF2M4iti8ZZnbBfA5SQECCmBgB41zJ0F\n",
       "S8dYAb6KBH8lsxGUvKhfD/EeYAAA8JWQd82LRZAAAAAASUVORK5CYII=\n",
       "\" style=\"display:inline;vertical-align:middle;\" /></a></td></tr>\n",
       "<tr><td>1</td><td>Operation</td><td>operator:&nbsp;4<br>operands:&nbsp;5<br></td><td><a class=\"ProveItLink\" href=\"../d8ed2deb8e49b1e463b49f4f62c89f73daf50f040/expr.ipynb\"><img src=\"data:image/png;base64,iVBORw0KGgoAAAANSUhEUgAAAC4AAAARBAMAAABQu4N8AAAAMFBMVEX///+YmJjc3Nx2dnYyMjKI\n",
       "iIhERERUVFS6uroiIiJmZmaqqqrMzMwQEBDu7u4AAABm0p0FAAAAAXRSTlMAQObYZgAAAK9JREFU\n",
       "GNNjYMAF+O6AyJd26OLc/8DUlkVo4lwTIHRbDao45wIo41gGsnB7fnoAlKnuAaWDexUYGPYj1GjN\n",
       "AZEclxjygdQShLjkOhCpL8CwDEhNhjs4EuLWegaGqUDeD5iwJdSebwx8f4DO/8CgAOIxrRSACDN9\n",
       "BYrxMXA5cDeAeCUbYPp+M7A77GFgX/AYxFNrgNvuyLBzgQEDU2oAWgCoh/akNjCQCTRngsAMOB8A\n",
       "SfsoZ1/yoooAAAAASUVORK5CYII=\n",
       "\" style=\"display:inline;vertical-align:middle;\" /></a></td></tr>\n",
       "<tr><td>2</td><td>Operation</td><td>operator:&nbsp;7<br>operands:&nbsp;6<br></td><td><a class=\"ProveItLink\" href=\"../f19b90b313685032a0815a688cc882f53716ea0e0/expr.ipynb\"><img src=\"data:image/png;base64,iVBORw0KGgoAAAANSUhEUgAAAC8AAAANBAMAAADLbSqiAAAAMFBMVEX///+YmJjc3Nx2dnYyMjKI\n",
       "iIhERERUVFS6uroiIiJmZmaqqqrMzMwQEBDu7u4AAABm0p0FAAAAAXRSTlMAQObYZgAAAKlJREFU\n",
       "GNNjYOC7w4AdcP+DM5nWIEtwTYCxeEoakCU4F0AZHO4HkMXb89MDIEZ6KUBEHi9mYAIZvx/CZZ38\n",
       "AKp0QT8D6wcgvQTMY54Kt2nDSga2BCBjMpj7LAMmwcdwlYEfaDrfDwj/uDeS+88DncH9gQFiqdZE\n",
       "mPsdGGLBFDfU9Y+nQqxnW8CQxqjAwL7gMcwMRojDuAp4LjMDgyE1ABE6PmDbU6PbbBgAtV0noGcv\n",
       "m3AAAAAASUVORK5CYII=\n",
       "\" style=\"display:inline;vertical-align:middle;\" /></a></td></tr>\n",
       "<tr><td>3</td><td>Operation</td><td>operator:&nbsp;7<br>operands:&nbsp;8<br></td><td><a class=\"ProveItLink\" href=\"../6ea7dfe99dcf9730898395df7942078f18d9adf20/expr.ipynb\"><img src=\"data:image/png;base64,iVBORw0KGgoAAAANSUhEUgAAADEAAAAMBAMAAAA5VkhcAAAAMFBMVEX///9UVFSYmJgyMjIQEBBE\n",
       "REQiIiKqqqrMzMyIiIi6urrc3NxmZmZ2dnbu7u4AAAC6tZoTAAAAAXRSTlMAQObYZgAAAKVJREFU\n",
       "GNNjYEAB3CcYsAMO4QXYJbgMG5B4fHcuMOx/AGay22yACi7x4p7AwMP1gWE+mMuZ+wBmW9CcowwM\n",
       "7TwJDKEgLm8mwhwGPjkGhgcsExh+grhPo5Ds2Agi6h9w/ADzGs0RTjkAIg8zcDpA+HuSYDK1YDKG\n",
       "gTVAGyLwNhPqyAsMjEDqIEPLhQtQtUwQ5zXrKFmBbJ5ZFQv3ILsFiDzA9KWAAQDmLCgYpAyHdgAA\n",
       "AABJRU5ErkJggg==\n",
       "\" style=\"display:inline;vertical-align:middle;\" /></a></td></tr>\n",
       "<tr><td>4</td><td>Literal</td><td></td><td><a class=\"ProveItLink\" href=\"../96143560a3dbc26f943e0a126972c9bfadab3fc50/expr.ipynb\"><img src=\"data:image/png;base64,iVBORw0KGgoAAAANSUhEUgAAAA4AAAARBAMAAAAf5oCsAAAALVBMVEX///+IiIiYmJjMzMxUVFRE\n",
       "RES6urrc3NxmZmYyMjKqqqp2dnYiIiLu7u4AAACqGg1VAAAAAXRSTlMAQObYZgAAAEFJREFUCNdj\n",
       "YICCO3uhjJXtUEaqM5RhGgZllEyDMioOQ2idXhDJKwPWy7tHAESx9yiAKc8FYCWlCQx4Qc0ZEDgG\n",
       "ALzAEHC/pigGAAAAAElFTkSuQmCC\n",
       "\" style=\"display:inline;vertical-align:middle;\" /></a></td></tr>\n",
       "<tr><td>5</td><td>ExprTuple</td><td>10, 9</td><td><a class=\"ProveItLink\" href=\"../1b5077aa8f74b7d519ac285630f643eb6c4b97160/expr.ipynb\"><img src=\"data:image/png;base64,iVBORw0KGgoAAAANSUhEUgAAACgAAAAVBAMAAADGNLEtAAAAMFBMVEX////c3NwiIiJERESqqqqY\n",
       "mJh2dnZmZmYQEBDu7u4yMjJUVFTMzMyIiIi6uroAAAAs73DqAAAAAXRSTlMAQObYZgAAAO9JREFU\n",
       "GNNjYMAK+C6g8lkfAInT6KpqgHglAwNnD7IgFwMDL1A3y08U/QkMHBMYGNgVkAU5GxheASmmAhRD\n",
       "TRjKGBhe21tDXSB97YUAA0M6w1Ig2x/mukYGeyDlxdAHJKuggvIBDMVA6gXDPyCpBhXcz8CgC6TO\n",
       "gwQ5/0EFPzNw/gELtgCd+YFBACTG+BfI5ARpNwU6cwHLA06QA78wcC/wYWCIAtrPwF0wjWE+yP1L\n",
       "GZwKEkBOegTUZnuBYcZHkDPvvrEFhtE6Bg4BiCUPkb0J9D4YBMAF2S6Agw5VcBbIIDCLFxEeG0Gu\n",
       "Q4sO3gMMAEGUNgTL4Y2+AAAAAElFTkSuQmCC\n",
       "\" style=\"display:inline;vertical-align:middle;\" /></a></td></tr>\n",
       "<tr><td>6</td><td>ExprTuple</td><td>10, 11</td><td><a class=\"ProveItLink\" href=\"../f42adda1279f41ff243e7be33a809f4b662356060/expr.ipynb\"><img src=\"data:image/png;base64,iVBORw0KGgoAAAANSUhEUgAAACkAAAAVBAMAAAAp9toTAAAAMFBMVEX////c3NwiIiJERESqqqqY\n",
       "mJh2dnZmZmYQEBDu7u4yMjJUVFTMzMyIiIi6uroAAAAs73DqAAAAAXRSTlMAQObYZgAAAPxJREFU\n",
       "GNNjYMAO+C6gCcSBiNPoytgPAImVDAycPSjCCxgYeIEGsPxEEQ1jYOCYANSjgCI6g4HhFZBiKkAR\n",
       "ZXZgKGNgeG1vDXHHtDIGRqBhbAUMS4E8f6iigvcMvB+A1ixg6APyqiCCPA5FDMwGQB80MPwDctUg\n",
       "opwMvQz8QLN4PoBEOf9BTQC68PwBsGgLkPOBQQDiqwUMNxjAJpiCOCwPOMFOKmAwZhVgYF3AkM7A\n",
       "wF0wjWE+yCPsG3ja2MAue8TAwGh7gWHGR5B1tlce5zAwcD1g4IAYyfAQxcesCRBmAEI0FxKSqKKc\n",
       "wJBkkAYzeRFKuUFmMqLH0B0GBgBRQTZiZN5FbQAAAABJRU5ErkJggg==\n",
       "\" style=\"display:inline;vertical-align:middle;\" /></a></td></tr>\n",
       "<tr><td>7</td><td>Literal</td><td></td><td><a class=\"ProveItLink\" href=\"../7c444b9b2efa607ed6397b492680dde2810212f00/expr.ipynb\"><img src=\"data:image/png;base64,iVBORw0KGgoAAAANSUhEUgAAAA4AAAAMBAMAAACgrpHpAAAALVBMVEX///+YmJhERETu7u52dnYi\n",
       "IiKIiIiqqqq6uroyMjJUVFTMzMxmZmbc3NwAAADmAst+AAAAAXRSTlMAQObYZgAAAD5JREFUCNdj\n",
       "YAAB3tNgintlA4jimLUBRLHPuQCi2EIMQBRLGFgJg5EGhGbYNR3KuBMIZZiEGUAYjCFQBvtsABzC\n",
       "Cm98G6SsAAAAAElFTkSuQmCC\n",
       "\" style=\"display:inline;vertical-align:middle;\" /></a></td></tr>\n",
       "<tr><td>8</td><td>ExprTuple</td><td>11, 12</td><td><a class=\"ProveItLink\" href=\"../79c4119e6bb71074a425919486c403a6a1b10f9c0/expr.ipynb\"><img src=\"data:image/png;base64,iVBORw0KGgoAAAANSUhEUgAAACwAAAAVBAMAAADP3xFXAAAAMFBMVEX////c3NwiIiJERESqqqqY\n",
       "mJh2dnZmZmYQEBDu7u4yMjJUVFTMzMyIiIi6uroAAAAs73DqAAAAAXRSTlMAQObYZgAAAO5JREFU\n",
       "GNNjYMAB+C6gi7A+ABKnMVXWAPFKTGEuBgbeC5jCrAkMHBMwhTkbGF5hc4YJQxlQMj2BQR6q6UUf\n",
       "I9DUdIalDAzsfB8Y7kNEGU2vFwMpL4Y+BoYj7AoMxlBTGTh3gvQw/GNgmMBxgeEvzFhpEHEeJMzg\n",
       "P4HnD8zPBRDhFiBZxcDbABV2g1jMYAokzRmYDQIZQG5hSWDgBlJRQLcwMFQznEhI4PwEZJ0KD13H\n",
       "AHLgIyA5+a6f2QHOfgEGhgLWHw5AgXUMHALwEBZA8jwwWGABBPc72wWkgEUIz4K5HwQQIbwRFAwY\n",
       "Ac57gAEAi9k0HyB4MHkAAAAASUVORK5CYII=\n",
       "\" style=\"display:inline;vertical-align:middle;\" /></a></td></tr>\n",
       "<tr><td>9</td><td>Variable</td><td></td><td><a class=\"ProveItLink\" href=\"../../../../__pv_it/07527342713064c87612d00d8557c53d53d5324a0/expr.ipynb\"><img src=\"data:image/png;base64,iVBORw0KGgoAAAANSUhEUgAAAAsAAAAJBAMAAAAWSsseAAAAMFBMVEX///8yMjKqqqrMzMzu7u4i\n",
       "IiJmZmaYmJhEREQQEBC6urp2dnaIiIhUVFTc3NwAAAD87Fq/AAAAAXRSTlMAQObYZgAAAEhJREFU\n",
       "CNdjYOC7s2seAwPDygccHxgY+L4zsDUwMPB+YGA9wMDA38Dgb8DA8P4Agz6DA4O/AsNFJgMGxgKm\n",
       "MG6gyjunLE4xAAAZTBA5TB6DCwAAAABJRU5ErkJggg==\n",
       "\" style=\"display:inline;vertical-align:middle;\" /></a></td></tr>\n",
       "<tr><td>10</td><td>Variable</td><td></td><td><a class=\"ProveItLink\" href=\"../../../../__pv_it/ce279d39727df35ccc8a89894715e433c302db340/expr.ipynb\"><img src=\"data:image/png;base64,iVBORw0KGgoAAAANSUhEUgAAAAcAAAANBAMAAACX52mGAAAALVBMVEX////c3Nx2dnYyMjKIiIhE\n",
       "RERUVFS6uroiIiJmZmaqqqrMzMwQEBDu7u4AAACdk1SzAAAAAXRSTlMAQObYZgAAAEBJREFUCNdj\n",
       "YOA9zcDAwPUWSHA2AAmOCQwMZXFhDgwM64A8hskgogmIeZ+DlD1gEGDgNOAqYGCbcImBgTHEgQEA\n",
       "VpEKvIbxevgAAAAASUVORK5CYII=\n",
       "\" style=\"display:inline;vertical-align:middle;\" /></a></td></tr>\n",
       "<tr><td>11</td><td>Variable</td><td></td><td><a class=\"ProveItLink\" href=\"../../../../__pv_it/cb61151e64f13eb1ffaf04f7c62048002baa23fb0/expr.ipynb\"><img src=\"data:image/png;base64,iVBORw0KGgoAAAANSUhEUgAAAAwAAAAJBAMAAAD0ltBnAAAAMFBMVEX///9UVFSYmJgyMjIQEBBE\n",
       "REQiIiKqqqrMzMyIiIi6urrc3NxmZmZ2dnbu7u4AAAC6tZoTAAAAAXRSTlMAQObYZgAAAEZJREFU\n",
       "CNdj4LtzgWH/AwYerg8M8xkY2nkSGEIZGB6wTGD4ycDAUP+A4weQOszA6QCkYhhYA7QZGA4ytFy4\n",
       "wMDwdGZVbAMATvEStS21oZoAAAAASUVORK5CYII=\n",
       "\" style=\"display:inline;vertical-align:middle;\" /></a></td></tr>\n",
       "<tr><td>12</td><td>Variable</td><td></td><td><a class=\"ProveItLink\" href=\"../../../../__pv_it/251502494639118b4892de8e9d720a5fcce840e10/expr.ipynb\"><img src=\"data:image/png;base64,iVBORw0KGgoAAAANSUhEUgAAAAoAAAAJBAMAAAD5iKAgAAAALVBMVEX///8yMjLMzMx2dnaqqqpU\n",
       "VFTu7u5mZmaYmJhERESIiIjc3NwQEBC6uroAAAB+iRisAAAAAXRSTlMAQObYZgAAADlJREFUCNdj\n",
       "YOA9c2EXA8POrvIJDAwJDKkJDAwM3AFAguE6iGAxAJHODAwBDEwSFY0XGNgZ+o4wAABKtAsIcBKm\n",
       "agAAAABJRU5ErkJggg==\n",
       "\" style=\"display:inline;vertical-align:middle;\" /></a></td></tr>\n",
       "</table>\n"
      ],
      "text/plain": [
       "0. (t >= a , t < u , u < z)\n",
       "   core type: ExprTuple\n",
       "   sub-expressions: 1, 2, 3\n",
       "1. t >= a\n",
       "   core type: Operation\n",
       "   operator: 4\n",
       "   operands: 5\n",
       "2. t < u\n",
       "   core type: Operation\n",
       "   operator: 7\n",
       "   operands: 6\n",
       "3. u < z\n",
       "   core type: Operation\n",
       "   operator: 7\n",
       "   operands: 8\n",
       "4. >=\n",
       "   core type: Literal\n",
       "   sub-expressions: \n",
       "5. (t , a)\n",
       "   core type: ExprTuple\n",
       "   sub-expressions: 10, 9\n",
       "6. (t , u)\n",
       "   core type: ExprTuple\n",
       "   sub-expressions: 10, 11\n",
       "7. <\n",
       "   core type: Literal\n",
       "   sub-expressions: \n",
       "8. (u , z)\n",
       "   core type: ExprTuple\n",
       "   sub-expressions: 11, 12\n",
       "9. a\n",
       "   core type: Variable\n",
       "   sub-expressions: \n",
       "10. t\n",
       "    core type: Variable\n",
       "    sub-expressions: \n",
       "11. u\n",
       "    core type: Variable\n",
       "    sub-expressions: \n",
       "12. z\n",
       "    core type: Variable\n",
       "    sub-expressions: "
      ]
     },
     "execution_count": 4,
     "metadata": {},
     "output_type": "execute_result"
    }
   ],
   "source": [
    "# display the expression information\n",
    "expr.exprInfo()"
   ]
  },
  {
   "cell_type": "code",
   "execution_count": null,
   "metadata": {},
   "outputs": [],
   "source": []
  }
 ],
 "metadata": {
  "kernelspec": {
   "display_name": "Python 3",
   "language": "python",
   "name": "python3"
  }
 },
 "nbformat": 4,
 "nbformat_minor": 0
}
