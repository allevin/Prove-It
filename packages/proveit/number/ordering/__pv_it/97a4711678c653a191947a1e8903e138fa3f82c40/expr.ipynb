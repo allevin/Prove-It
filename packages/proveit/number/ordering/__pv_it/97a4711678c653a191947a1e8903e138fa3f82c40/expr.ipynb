{
 "cells": [
  {
   "cell_type": "markdown",
   "metadata": {},
   "source": [
    "Expression of type <a class=\"ProveItLink\" href=\"../../../../../../doc/html/api/proveit.ExprTuple.html\">ExprTuple</a>\n",
    "=======================\n",
    "# from context <a class=\"ProveItLink\" href=\"../../_context_.ipynb\">proveit.number.ordering</a>"
   ]
  },
  {
   "cell_type": "code",
   "execution_count": 1,
   "metadata": {},
   "outputs": [],
   "source": [
    "# import Expression classes needed to build the expression\n",
    "from proveit import ExprTuple\n",
    "from proveit.logic import Equals, Set\n",
    "from proveit.number import Exp, Less, LessEq, four"
   ]
  },
  {
   "cell_type": "code",
   "execution_count": 2,
   "metadata": {},
   "outputs": [
    {
     "data": {
      "text/html": [
       "<strong id=\"expr\">expr:</strong> <a class=\"ProveItLink\" href=\"expr.ipynb\"><img src=\"data:image/png;base64,iVBORw0KGgoAAAANSUhEUgAAAO0AAAAmBAMAAADaTAHLAAAAMFBMVEX///9UVFR2dnbc3NwyMjK6\n",
       "urpmZmbMzMwQEBDu7u4iIiKqqqpERESYmJiIiIgAAAAQbUJnAAAAAXRSTlMAQObYZgAAAyNJREFU\n",
       "WMO9lk1oE0EUx1/zvY27EVQEPRg8SFMPXUGKeImFWhERAvZQvFi1KATE5CZ4SC/FQ0GjqPQgpgSq\n",
       "UDT0EMRbc/DjYIUcPEgv9uBFESwUKVUQZ97szrxNdvOBMAM7mdl9//1l3rz3dgAArCbobPfLzuCH\n",
       "VixET4nf5KJGaEStc6GgkbvKnBwR+/pOI9YYYdzwFrp7RyPXqvCguowen9bIvY3crM26kq2Rm0Yu\n",
       "LjX//28zb3S3iR9m6zNt5JqbrLsrkmqjT1SOBEu1F0V8HuApINf4w6bbeLfY7xqvk2DZ7EkxA/Dq\n",
       "2k10zTMpOusXfEtdCoDTQrPQi3qId1kskgcAdmG1slw3j6oi8qAWCGVWZrqdGyZOaFdzrnnoIB/+\n",
       "BBhs8EHCqdXF09Ls8ctALLcyZtu48b25TuohNbxUgBSm76SYT+6Xj46dC8QKqw+t3OhYoaOacEsr\n",
       "UEEPX8Fp/apnSQHNsTrSwk1O2J3VhMugWSzS53n3PSMfPHlPA3GctzFn5lrV5fMY/7BZ1bKvOobi\n",
       "8d0AX9TNVBpKyJ1j1zBJYatWDlittJqSt26xbQ3RMPJXk4LMNpe5mrVfLFDWcrQuVP3ByqoknXqH\n",
       "L/EtdFW/afpxWTiuECO6XZ6y41pJLkzxeCp6IslPPZj2rBf/xDymX54etFR45pd5e+EmqWOl/DyA\n",
       "B5dRT+ZIdQzFyw3v/k5DFvfro3Di8DfWuy6KrxXA8PgYiBV8Atc2tOhUijIoQZuaxjOLq1SaJsV6\n",
       "BozfUroPKvTsJSfrGUcibN26wXdVCVrVlMuSKIFRdlEmZ8G4R7ZmYQv8JnXmRJ6iwlbWyeSZIEF7\n",
       "3YiIOklYURoSFyBgIupk1G79LgQKKHfVhhiKSJUHkxo3gyahDWnr4QYKKHeE+Wan9TvI33USg3Cp\n",
       "w2seqv9otnL91TMkk8W3nxdydZOePCwImuxRtkatF0F8To3/smtCZGWf5xyLHvbNoz2er9wxj7fP\n",
       "oL1hwldy2rkJvu+hhnbua4yKbe1cUcm/6saaonxGmpq5J0RkG881c90v9XFbK3bALRVhvZn0iHf/\n",
       "ABQY0wcKvHQdAAAAAElFTkSuQmCC\n",
       "\" style=\"display:inline;vertical-align:middle;\" /></a><br>"
      ],
      "text/plain": [
       "expr: ((< , <= , = , <) , {< , <= , =}^{4})"
      ]
     },
     "execution_count": 2,
     "metadata": {},
     "output_type": "execute_result"
    }
   ],
   "source": [
    "# build up the expression from sub-expressions\n",
    "expr = ExprTuple([Less._operator_, LessEq._operator_, Equals._operator_, Less._operator_], Exp(Set(Less._operator_, LessEq._operator_, Equals._operator_), four))"
   ]
  },
  {
   "cell_type": "code",
   "execution_count": 3,
   "metadata": {},
   "outputs": [
    {
     "name": "stdout",
     "output_type": "stream",
     "text": [
      "Passed sanity check: built 'expr' is the same as the stored Expression.\n"
     ]
    }
   ],
   "source": [
    "# check that the built expression is the same as the stored expression\n",
    "%check_expr"
   ]
  },
  {
   "cell_type": "code",
   "execution_count": 4,
   "metadata": {},
   "outputs": [
    {
     "data": {
      "text/html": [
       "<table><tr><th>&nbsp;</th><th>core type</th><th>sub-expressions</th><th>expression</th></tr>\n",
       "<tr><td>0</td><td>ExprTuple</td><td>1, 2</td><td><a class=\"ProveItLink\" href=\"expr.ipynb\"><img src=\"data:image/png;base64,iVBORw0KGgoAAAANSUhEUgAAAO0AAAAmBAMAAADaTAHLAAAAMFBMVEX///9UVFR2dnbc3NwyMjK6\n",
       "urpmZmbMzMwQEBDu7u4iIiKqqqpERESYmJiIiIgAAAAQbUJnAAAAAXRSTlMAQObYZgAAAyNJREFU\n",
       "WMO9lk1oE0EUx1/zvY27EVQEPRg8SFMPXUGKeImFWhERAvZQvFi1KATE5CZ4SC/FQ0GjqPQgpgSq\n",
       "UDT0EMRbc/DjYIUcPEgv9uBFESwUKVUQZ97szrxNdvOBMAM7mdl9//1l3rz3dgAArCbobPfLzuCH\n",
       "VixET4nf5KJGaEStc6GgkbvKnBwR+/pOI9YYYdzwFrp7RyPXqvCguowen9bIvY3crM26kq2Rm0Yu\n",
       "LjX//28zb3S3iR9m6zNt5JqbrLsrkmqjT1SOBEu1F0V8HuApINf4w6bbeLfY7xqvk2DZ7EkxA/Dq\n",
       "2k10zTMpOusXfEtdCoDTQrPQi3qId1kskgcAdmG1slw3j6oi8qAWCGVWZrqdGyZOaFdzrnnoIB/+\n",
       "BBhs8EHCqdXF09Ls8ctALLcyZtu48b25TuohNbxUgBSm76SYT+6Xj46dC8QKqw+t3OhYoaOacEsr\n",
       "UEEPX8Fp/apnSQHNsTrSwk1O2J3VhMugWSzS53n3PSMfPHlPA3GctzFn5lrV5fMY/7BZ1bKvOobi\n",
       "8d0AX9TNVBpKyJ1j1zBJYatWDlittJqSt26xbQ3RMPJXk4LMNpe5mrVfLFDWcrQuVP3ByqoknXqH\n",
       "L/EtdFW/afpxWTiuECO6XZ6y41pJLkzxeCp6IslPPZj2rBf/xDymX54etFR45pd5e+EmqWOl/DyA\n",
       "B5dRT+ZIdQzFyw3v/k5DFvfro3Di8DfWuy6KrxXA8PgYiBV8Atc2tOhUijIoQZuaxjOLq1SaJsV6\n",
       "BozfUroPKvTsJSfrGUcibN26wXdVCVrVlMuSKIFRdlEmZ8G4R7ZmYQv8JnXmRJ6iwlbWyeSZIEF7\n",
       "3YiIOklYURoSFyBgIupk1G79LgQKKHfVhhiKSJUHkxo3gyahDWnr4QYKKHeE+Wan9TvI33USg3Cp\n",
       "w2seqv9otnL91TMkk8W3nxdydZOePCwImuxRtkatF0F8To3/smtCZGWf5xyLHvbNoz2er9wxj7fP\n",
       "oL1hwldy2rkJvu+hhnbua4yKbe1cUcm/6saaonxGmpq5J0RkG881c90v9XFbK3bALRVhvZn0iHf/\n",
       "ABQY0wcKvHQdAAAAAElFTkSuQmCC\n",
       "\" style=\"display:inline;vertical-align:middle;\" /></a></td></tr>\n",
       "<tr><td>1</td><td>ExprTuple</td><td>9, 10, 11, 9</td><td><a class=\"ProveItLink\" href=\"../42b898d65e13bc2a3e8f2772a0cb8a7099bdd6080/expr.ipynb\"><img src=\"data:image/png;base64,iVBORw0KGgoAAAANSUhEUgAAAGgAAAAVBAMAAABYjraNAAAAMFBMVEX////c3NwiIiJERESqqqqY\n",
       "mJh2dnZmZmYQEBDu7u4yMjJUVFTMzMyIiIi6uroAAAAs73DqAAAAAXRSTlMAQObYZgAAAT5JREFU\n",
       "OMtjYCAL8F0gTT3rAyBxmlRbaoB4JRZxXj08mriA8jDXiR+AC0/TxakDqIo1gYFjAoR3eh1cYroq\n",
       "Tj0gVZwNDK8gvFd74BLSS3DqgagyYSgD87wKUQzDAaCq0hmWgqhLmXCJyTYIReyrwGADlAtT5cXQ\n",
       "BySTkKKKV3cCDnvgql4w/AP6zPgBcuSpYdeFUHUepImBZ5cDkizLcgGsuuCqzjO0gCjGogDkhLUa\n",
       "GmXsSmBgABWHqXrBYAqxO+kmkIS5i8f4AAMnsiVQCYgqhihg+EFAUCYD5ye4S/YxzFdA8g5cIigT\n",
       "HOSP4JFwgLMfyTMzPiJpQkh4AV2+joEDSSEfcgg8ZMAhAUxGwOSHCG1kfyAHDYoE2wWUrAGSEwIH\n",
       "mB4eTbNA6RPBRc7DvMjqUDL3RlDok5jdeQ8wAAAMSk0tsDQcswAAAABJRU5ErkJggg==\n",
       "\" style=\"display:inline;vertical-align:middle;\" /></a></td></tr>\n",
       "<tr><td>2</td><td>Operation</td><td>operator:&nbsp;3<br>operands:&nbsp;4<br></td><td><a class=\"ProveItLink\" href=\"../9217fa20aff725807058f4c9819b89588360e97a0/expr.ipynb\"><img src=\"data:image/png;base64,iVBORw0KGgoAAAANSUhEUgAAAF8AAAAbBAMAAADoq068AAAAMFBMVEX///9ERETc3NyqqqpUVFS6\n",
       "urrMzMwyMjIQEBCIiIh2dnYiIiLu7u5mZmaYmJgAAABJJ2g3AAAAAXRSTlMAQObYZgAAATxJREFU\n",
       "OMtjYCAJFJCmnIH5D4kaTpGqYQ6JGthsSNTAxQPWwHePCLNXKQDJR2ANPLuIck0zUOUEsAbOD0Q5\n",
       "5zowUO/e/fsA6LAGbPKcW9EEVoAIJpANCA26CYgA38mATcOTLwZIGlJK4bJn9zFg1QAJK6iGcDe4\n",
       "kEoxA2EN5pfgIkhWYdPAC06Bs9fABQ6KIZTxloOBAwPDe7hYRgCQWD0BKYB2HsBiA/sFmP1toMgT\n",
       "DECS49uFTYf4AygjAhSYbO4GyMm+VgFDPfcCGIsF7Aem2w+QZFlLoFHCuxsMBJD9wLUBTPGsngMk\n",
       "YW5hE0xg4CEQDwyv1zDw/IYnNleG8xsIaGAwT+DpR3L8iU+ENIAcj+zbICI08CGreYBdAx+6Bm1w\n",
       "wGxF03AdzuJBTskTkLMESo5rRTJ1MbF5GgQALkJaAcjpe38AAAAASUVORK5CYII=\n",
       "\" style=\"display:inline;vertical-align:middle;\" /></a></td></tr>\n",
       "<tr><td>3</td><td>Literal</td><td></td><td><a class=\"ProveItLink\" href=\"../../../exponentiation/__pv_it/deb2bf23cbccdd6e6791e1b35b5b9794ce12dbd50/expr.ipynb\"><img src=\"data:image/png;base64,iVBORw0KGgoAAAANSUhEUgAAACgAAAASBAMAAADbMYGVAAAAMFBMVEX///8QEBAiIiKYmJjc3Nzu\n",
       "7u7MzMx2dnZmZma6urpERESqqqoyMjJUVFSIiIgAAAAoDOMTAAAAAXRSTlMAQObYZgAAAOBJREFU\n",
       "GNNjYGB4+//u3Tt/GNAASGAXmhjnPyDBgSbI/g1IxKEJ8nxgYGdgQRPkX8BgDKRY6q7s62OYvmze\n",
       "2wAgb/7ZO1+AVDiDkYEQQ0HTBr4DQF59AgOIKmB4z7CNbcNZBu6vQN55kEACQwDDLQYGVobfDHwg\n",
       "fb8YGBxYHwAZciD3fWXg+gB1JjvQcJZvQIXsCgz8F6DO9GBgMOH7wPCUgaeBwd4B7EwGNjUG7s9c\n",
       "AiwPgO5jkWRgiF3/9+5dfQUG1nWl5Y+B7pv+1gE9bBhqGLCAE1jEWH9jEbT5A3IwAC4sP/1L6Qlu\n",
       "AAAAAElFTkSuQmCC\n",
       "\" style=\"display:inline;vertical-align:middle;\" /></a></td></tr>\n",
       "<tr><td>4</td><td>ExprTuple</td><td>5, 6</td><td><a class=\"ProveItLink\" href=\"../20ca5c843918d0a980b2a424423c5f8f06d857160/expr.ipynb\"><img src=\"data:image/png;base64,iVBORw0KGgoAAAANSUhEUgAAAHsAAAAVBAMAAACUF4xmAAAAMFBMVEX////c3NwiIiJERESqqqqY\n",
       "mJh2dnZmZmYQEBDu7u4yMjJUVFTMzMyIiIi6uroAAAAs73DqAAAAAXRSTlMAQObYZgAAAbtJREFU\n",
       "OMudlD1Iw1AQx//RJG1qW7o5uEhFN0EQN5HM4lAdVBykdlEHQR0cxMHBTdGiIN3sYCl+DI5SBQuC\n",
       "CF2Ck4JgdOxUXdzEd2k+Lk1Q8eC9vHt3v7zLvbsAlkxl8KvczYXtJg1gP4s/yL3u12dpqonx8hca\n",
       "kSJT4heIVMXzRIyFUPcH06+rm0xpGwDE6xIGx6UN167lDPyAPwp8EojmGR6vuAdqq4FsclyaEXgB\n",
       "qMPDk2dV11zR8ROuxgTermPNw+VyCsEwwvFxwtVllEhZpynRl3cjH6x6nuunJGeA0vASYxAuF7FL\n",
       "Z9Gk9vOkP4VdRdkLBIQnN/El6Es662CEe04shuDtJWc1ZuHxBuFI7lj1c8xdR1eCeJ8be9bBt0it\n",
       "WJudvdy3fm0vVtMkPfzb5aurm22Dgh8iNdfcPewXydMcn9thIB/MvG2PitOVIubZvUMRyT/qdtxr\n",
       "pvYRxG17tHlxbxyHfI7Cuwdoe6kA3rSrN58ZxExEU60t88q7OYgzuyhaJduK81pXQqrOsy/ZDTvd\n",
       "gktWstOmH7f73cU10rvE2Ge9meCEr2fvTb+9g75MIpdJ/R//umfgG7nia0+WHuFwAAAAAElFTkSu\n",
       "QmCC\n",
       "\" style=\"display:inline;vertical-align:middle;\" /></a></td></tr>\n",
       "<tr><td>5</td><td>Operation</td><td>operator:&nbsp;7<br>operands:&nbsp;8<br></td><td><a class=\"ProveItLink\" href=\"../7bc7ad9fcc1d2d481be86cef8dce5c57d078062b0/expr.ipynb\"><img src=\"data:image/png;base64,iVBORw0KGgoAAAANSUhEUgAAAFUAAAAVBAMAAADFg78FAAAAMFBMVEX///9ERETc3NyqqqpUVFS6\n",
       "urrMzMwyMjIQEBCIiIh2dnYiIiLu7u5mZmaYmJgAAABJJ2g3AAAAAXRSTlMAQObYZgAAAP9JREFU\n",
       "KM9jYGDgu8dAELCtUgBRPLsYiABszSCS8wMxahmugwiuBmxSnFvRBFagqGW6hpA5tZMBn1o29wC4\n",
       "xNl9DPjUspYkwMVVihnwqWWuVYALp5Qy4FDLWwDyyq4DcNGDYggVvOVg4MDA8B7EzQA6kwvZK5w7\n",
       "D2Axl/0C0MI2kFGiyMJ8u7ApFn/AwBAB8lMKim+QHQ8D3AuABAvIvQy6KKEEDxTe3WAgAHUv1wZo\n",
       "6AMt5oFHv2ACgoMZFyBXnt8AV+yKxMGMY+YyhhOfkGRROGhqQSCIARcHU+0DBlwcsFo+dLXaYK9v\n",
       "RVMLTr88SHHGiZKEUfJFKyQAFhOZ3wC9D0sdukcx3gAAAABJRU5ErkJggg==\n",
       "\" style=\"display:inline;vertical-align:middle;\" /></a></td></tr>\n",
       "<tr><td>6</td><td>Literal</td><td></td><td><a class=\"ProveItLink\" href=\"../../../numeral/__pv_it/23412ce59ea7e77353d2f9225e02248e73651ca00/expr.ipynb\"><img src=\"data:image/png;base64,iVBORw0KGgoAAAANSUhEUgAAAAoAAAAPBAMAAAAv0UM9AAAALVBMVEX///9mZmaqqqru7u52dnYy\n",
       "MjKYmJjc3NwQEBCIiIhEREQiIiJUVFTMzMwAAACUDTcXAAAAAXRSTlMAQObYZgAAAD5JREFUCNdj\n",
       "YGBguMMAArtABGcXiCyLApEOIJKtAERaMoBIBxDJdAFEmjCASJ0zZ16cBCkF64KQPu/EwBwGACv6\n",
       "DSRgin9qAAAAAElFTkSuQmCC\n",
       "\" style=\"display:inline;vertical-align:middle;\" /></a></td></tr>\n",
       "<tr><td>7</td><td>Literal</td><td></td><td><a class=\"ProveItLink\" href=\"../../../../logic/set_theory/enumeration/__pv_it/07381ed5b23806e8d7914b78cb6667769e3708dd0/expr.ipynb\"><img src=\"data:image/png;base64,iVBORw0KGgoAAAANSUhEUgAAAB4AAAAOBAMAAADKyLEKAAAAMFBMVEX///8iIiIQEBCIiIjMzMzc\n",
       "3Nyqqqp2dnZEREQyMjK6urru7u5mZmZUVFSYmJgAAACI6eGPAAAAAXRSTlMAQObYZgAAALRJREFU\n",
       "CNdjYGDgu3Nm3wIGBJjHwN0PZW5yYGDgLWBgyITy8zcwMMQDxZyh/INAvD6BgcEFypcB4vjPDiBm\n",
       "TPFRrhs/LjMwMP//38rAwCbKEMPA9gEkE3fp0waG+AUMRxh4JkC01T9guPTOOICBEWgVH5C//wHD\n",
       "H5D4fqCz9oCMDGD4DLaegRXslLMMDMpAgxlOMmQxHDRgYG5gYLBk4D7KcIe7gOHC2rt9QCXsh40Z\n",
       "GCKMGQDRkC8N/Ph1XAAAAABJRU5ErkJggg==\n",
       "\" style=\"display:inline;vertical-align:middle;\" /></a></td></tr>\n",
       "<tr><td>8</td><td>ExprTuple</td><td>9, 10, 11</td><td><a class=\"ProveItLink\" href=\"../79fb47198d469b94e5a80308d5b0882912b28e5f0/expr.ipynb\"><img src=\"data:image/png;base64,iVBORw0KGgoAAAANSUhEUgAAAE8AAAAVBAMAAAD1D64kAAAAMFBMVEX////c3NwiIiJERESqqqqY\n",
       "mJh2dnZmZmYQEBDu7u4yMjJUVFTMzMyIiIi6uroAAAAs73DqAAAAAXRSTlMAQObYZgAAAQxJREFU\n",
       "KM9jYCAa8F0grCYORJwmwjD2A0BiJTaZSw9Q+QsYGHhhNosfgAtzJqE7J4yBgWMChHl6HUJdUQC6\n",
       "DTMYGF5BWK/2wAUZdzlgOIXZgaEMzPAqhIvx7HqA6Wa2AoalYLdnIuw1RriVoWoVCKxmYGBZwNAH\n",
       "5KO4/dJNbIHdwPAPZAiKZUGZmAp5PoAUAp2F4nwkByMpbAF7FDVA4EFQpAQCymCrTaFBDHLZBJjK\n",
       "wzZIHBBgXcCQjnAZ5ye4xOkHSBxI8DyCu+wAZ78AQgqFw8D1gIEDic+HLIfCAUYhawKSS1CchczJ\n",
       "RU1mIDlGsEeVHqAo5AQmMwZpBB8lcSFzuEHOYCQiK9xhYAAAX2lBxOoXVcEAAAAASUVORK5CYII=\n",
       "\" style=\"display:inline;vertical-align:middle;\" /></a></td></tr>\n",
       "<tr><td>9</td><td>Literal</td><td></td><td><a class=\"ProveItLink\" href=\"../7c444b9b2efa607ed6397b492680dde2810212f00/expr.ipynb\"><img src=\"data:image/png;base64,iVBORw0KGgoAAAANSUhEUgAAAA4AAAAMBAMAAACgrpHpAAAALVBMVEX///+YmJhERETu7u52dnYi\n",
       "IiKIiIiqqqq6uroyMjJUVFTMzMxmZmbc3NwAAADmAst+AAAAAXRSTlMAQObYZgAAAD5JREFUCNdj\n",
       "YAAB3tNgintlA4jimLUBRLHPuQCi2EIMQBRLGFgJg5EGhGbYNR3KuBMIZZiEGUAYjCFQBvtsABzC\n",
       "Cm98G6SsAAAAAElFTkSuQmCC\n",
       "\" style=\"display:inline;vertical-align:middle;\" /></a></td></tr>\n",
       "<tr><td>10</td><td>Literal</td><td></td><td><a class=\"ProveItLink\" href=\"../aa616d6a8fe3483e4e64187262e9c7dfe6a536a30/expr.ipynb\"><img src=\"data:image/png;base64,iVBORw0KGgoAAAANSUhEUgAAAA4AAAARBAMAAAAf5oCsAAAALVBMVEX///9ERETMzMyqqqoyMjJU\n",
       "VFTc3NyYmJhmZmZ2dnbu7u66uroiIiKIiIgAAAAFyQXGAAAAAXRSTlMAQObYZgAAAEBJREFUCNdj\n",
       "YEAGvKfB1MqzYGrFcTCV6gymVL3B1EIhqNKzCyAM9pNQBrNHAoTB7aoAYTAJwhjRDLhAzhkQOA0A\n",
       "iskPUSt9tJUAAAAASUVORK5CYII=\n",
       "\" style=\"display:inline;vertical-align:middle;\" /></a></td></tr>\n",
       "<tr><td>11</td><td>Literal</td><td></td><td><a class=\"ProveItLink\" href=\"../../../../logic/equality/__pv_it/2fb26078095930560931daa0500ce419a39ea6cd0/expr.ipynb\"><img src=\"data:image/png;base64,iVBORw0KGgoAAAANSUhEUgAAAA4AAAAFBAMAAACHocAhAAAAFVBMVEX///9EREQiIiJUVFQyMjJm\n",
       "ZmYAAADubVkoAAAAAXRSTlMAQObYZgAAABRJREFUCNdjCHEBAWcGXCBICQQUAUpuAwlgGKrkAAAA\n",
       "AElFTkSuQmCC\n",
       "\" style=\"display:inline;vertical-align:middle;\" /></a></td></tr>\n",
       "</table>\n"
      ],
      "text/plain": [
       "0. ((< , <= , = , <) , {< , <= , =}^{4})\n",
       "   core type: ExprTuple\n",
       "   sub-expressions: 1, 2\n",
       "1. (< , <= , = , <)\n",
       "   core type: ExprTuple\n",
       "   sub-expressions: 9, 10, 11, 9\n",
       "2. {< , <= , =}^{4}\n",
       "   core type: Operation\n",
       "   operator: 3\n",
       "   operands: 4\n",
       "3. Exp\n",
       "   core type: Literal\n",
       "   sub-expressions: \n",
       "4. ({< , <= , =} , 4)\n",
       "   core type: ExprTuple\n",
       "   sub-expressions: 5, 6\n",
       "5. {< , <= , =}\n",
       "   core type: Operation\n",
       "   operator: 7\n",
       "   operands: 8\n",
       "6. 4\n",
       "   core type: Literal\n",
       "   sub-expressions: \n",
       "7. Set\n",
       "   core type: Literal\n",
       "   sub-expressions: \n",
       "8. (< , <= , =)\n",
       "   core type: ExprTuple\n",
       "   sub-expressions: 9, 10, 11\n",
       "9. <\n",
       "   core type: Literal\n",
       "   sub-expressions: \n",
       "10. <=\n",
       "    core type: Literal\n",
       "    sub-expressions: \n",
       "11. =\n",
       "    core type: Literal\n",
       "    sub-expressions: "
      ]
     },
     "execution_count": 4,
     "metadata": {},
     "output_type": "execute_result"
    }
   ],
   "source": [
    "# display the expression information\n",
    "expr.exprInfo()"
   ]
  },
  {
   "cell_type": "code",
   "execution_count": null,
   "metadata": {},
   "outputs": [],
   "source": []
  }
 ],
 "metadata": {
  "kernelspec": {
   "display_name": "Python 3",
   "language": "python",
   "name": "python3"
  }
 },
 "nbformat": 4,
 "nbformat_minor": 0
}
