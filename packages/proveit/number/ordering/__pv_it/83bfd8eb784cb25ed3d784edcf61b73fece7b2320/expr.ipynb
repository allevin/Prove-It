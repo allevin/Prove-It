{
 "cells": [
  {
   "cell_type": "markdown",
   "metadata": {},
   "source": [
    "Expression of type <a class=\"ProveItLink\" href=\"../../../../../../doc/html/api/proveit.logic.Forall.html\">Forall</a>\n",
    "=======================\n",
    "# from context <a class=\"ProveItLink\" href=\"../../_context_.ipynb\">proveit.number.ordering</a>"
   ]
  },
  {
   "cell_type": "code",
   "execution_count": 1,
   "metadata": {},
   "outputs": [],
   "source": [
    "# import Expression classes needed to build the expression\n",
    "from proveit._common_ import x, y\n",
    "from proveit.logic import Equals, Forall\n",
    "from proveit.number import GreaterEq"
   ]
  },
  {
   "cell_type": "code",
   "execution_count": 2,
   "metadata": {},
   "outputs": [
    {
     "data": {
      "text/html": [
       "<strong id=\"expr\">expr:</strong> <a class=\"ProveItLink\" href=\"expr.ipynb\"><img src=\"data:image/png;base64,iVBORw0KGgoAAAANSUhEUgAAALcAAAAXBAMAAAC7XMNCAAAAMFBMVEX///8QEBC6urrMzMxUVFRm\n",
       "ZmZERETc3NwyMjKqqqp2dnaIiIiYmJgiIiLu7u4AAAAU9Wx4AAAAAXRSTlMAQObYZgAAAkpJREFU\n",
       "SMe1lT9oFEEUxr+7ze3m9u72DlOIiHKghSBihDRWCQlE0CZICiGFkuKC2GxlBFG3CVgECfinsXCb\n",
       "JGowHCgHcqKLjaAIVwvCWpgiNgcBLbTwzZvbnc3e3qIbfbA3e+/HfPvmzXszwP80f0+zjw9Gb+np\n",
       "iJcPGbW1icGsMAo8ES93MooPp63bAa7SYFzKKN5Og+/lxwsrGcUPp8EvQHl9cfFGRu28k0Z1Cvl7\n",
       "o/Epo3jBpZRunHk4t9ttrbq45cOcAaaABQXqf7WfHrCNj94h8aHbbKJ8zHwXb4AiresorMjq1Nbe\n",
       "s+NafZ4cheKSzt3d7tOFDhqUtBpQQclLEjdmR2NafZ5qXTThdF9f5pr4SU3QBUlX/CTxP1CvchIP\n",
       "9qXrka/tSHHLGaMltJDzlfjG5AuSsdbqAegNwtODnBZRwsYOLJHzz2w8/wJKNZkWLEwC36r2KRW5\n",
       "6U/zPOux3wMBJ08ARbFRPt+Vungdi3wJOm1sWWzlfTpebp5AS4nnscx/SssBCDh5AiiCmEHxl14z\n",
       "mjHxWZz0mNLiBDuLc9Gc/xA/25cVkAN7JOQgOrCubD59Fc/5VvsiFdaw2JGySPY+jETEtZpGSvNQ\n",
       "gAfpYSht/6AOeCbbv2cjVPih+LjpmPg6H4JrNg/Sw1CdTQk21LEOiKpQDdJylPjWy7lNHFFg3ONB\n",
       "ehimHrkVV3cRaU3DHmrG6zwCvJDHaOJlUWyfF/GH/ay7x5AozkCzQx6z64MPnueRj7lx8QcNMp9B\n",
       "WXLp2cONO/EvL//fkYCo0/O5v8EAAAAASUVORK5CYII=\n",
       "\" style=\"display:inline;vertical-align:middle;\" /></a><br>"
      ],
      "text/plain": [
       "expr: forall_{y | x >= y , y >= x} (x = y)"
      ]
     },
     "execution_count": 2,
     "metadata": {},
     "output_type": "execute_result"
    }
   ],
   "source": [
    "# build up the expression from sub-expressions\n",
    "expr = Forall([y], Equals(x, y), conditions = [GreaterEq(x, y), GreaterEq(y, x)])"
   ]
  },
  {
   "cell_type": "code",
   "execution_count": 3,
   "metadata": {},
   "outputs": [
    {
     "name": "stdout",
     "output_type": "stream",
     "text": [
      "Passed sanity check: built 'expr' is the same as the stored Expression.\n"
     ]
    }
   ],
   "source": [
    "# check that the built expression is the same as the stored expression\n",
    "%check_expr"
   ]
  },
  {
   "cell_type": "code",
   "execution_count": 4,
   "metadata": {},
   "outputs": [
    {
     "data": {
      "text/html": [
       "<table><tr><th>&nbsp;</th><th>core type</th><th>sub-expressions</th><th>expression</th></tr>\n",
       "<tr><td>0</td><td>Operation</td><td>operator:&nbsp;1<br>operand:&nbsp;2<br></td><td><a class=\"ProveItLink\" href=\"expr.ipynb\"><img src=\"data:image/png;base64,iVBORw0KGgoAAAANSUhEUgAAALcAAAAXBAMAAAC7XMNCAAAAMFBMVEX///8QEBC6urrMzMxUVFRm\n",
       "ZmZERETc3NwyMjKqqqp2dnaIiIiYmJgiIiLu7u4AAAAU9Wx4AAAAAXRSTlMAQObYZgAAAkpJREFU\n",
       "SMe1lT9oFEEUxr+7ze3m9u72DlOIiHKghSBihDRWCQlE0CZICiGFkuKC2GxlBFG3CVgECfinsXCb\n",
       "JGowHCgHcqKLjaAIVwvCWpgiNgcBLbTwzZvbnc3e3qIbfbA3e+/HfPvmzXszwP80f0+zjw9Gb+np\n",
       "iJcPGbW1icGsMAo8ES93MooPp63bAa7SYFzKKN5Og+/lxwsrGcUPp8EvQHl9cfFGRu28k0Z1Cvl7\n",
       "o/Epo3jBpZRunHk4t9ttrbq45cOcAaaABQXqf7WfHrCNj94h8aHbbKJ8zHwXb4AiresorMjq1Nbe\n",
       "s+NafZ4cheKSzt3d7tOFDhqUtBpQQclLEjdmR2NafZ5qXTThdF9f5pr4SU3QBUlX/CTxP1CvchIP\n",
       "9qXrka/tSHHLGaMltJDzlfjG5AuSsdbqAegNwtODnBZRwsYOLJHzz2w8/wJKNZkWLEwC36r2KRW5\n",
       "6U/zPOux3wMBJ08ARbFRPt+Vungdi3wJOm1sWWzlfTpebp5AS4nnscx/SssBCDh5AiiCmEHxl14z\n",
       "mjHxWZz0mNLiBDuLc9Gc/xA/25cVkAN7JOQgOrCubD59Fc/5VvsiFdaw2JGySPY+jETEtZpGSvNQ\n",
       "gAfpYSht/6AOeCbbv2cjVPih+LjpmPg6H4JrNg/Sw1CdTQk21LEOiKpQDdJylPjWy7lNHFFg3ONB\n",
       "ehimHrkVV3cRaU3DHmrG6zwCvJDHaOJlUWyfF/GH/ay7x5AozkCzQx6z64MPnueRj7lx8QcNMp9B\n",
       "WXLp2cONO/EvL//fkYCo0/O5v8EAAAAASUVORK5CYII=\n",
       "\" style=\"display:inline;vertical-align:middle;\" /></a></td></tr>\n",
       "<tr><td>1</td><td>Literal</td><td></td><td><a class=\"ProveItLink\" href=\"../../../../logic/boolean/quantification/universal/__pv_it/265f8c02ac1094d56e0e6410a1c1fd3500dc9f540/expr.ipynb\"><img src=\"data:image/png;base64,iVBORw0KGgoAAAANSUhEUgAAAAwAAAAQBAMAAADQT4M0AAAAMFBMVEX///8QEBC6urrMzMxUVFRm\n",
       "ZmZERETc3NwyMjKqqqp2dnaIiIiYmJgiIiLu7u4AAAAU9Wx4AAAAAXRSTlMAQObYZgAAAFhJREFU\n",
       "CNdjeMAABhdAxGmGlSCqj6EMSLInMHAAJVknMPAsLy+vBYp8S0u7BaScGRjSgZQKA18DkOJl4D4A\n",
       "pLgP8IJM4mswARuX7gSmpoKNZWDcAKZ4gCoAgTQTILaSE58AAAAASUVORK5CYII=\n",
       "\" style=\"display:inline;vertical-align:middle;\" /></a></td></tr>\n",
       "<tr><td>2</td><td>Lambda</td><td>parameter:&nbsp;11<br>body:&nbsp;3<br>conditions:&nbsp;4<br></td><td><a class=\"ProveItLink\" href=\"../d81a327edc9a38ee7ec398f4296333a1587448d10/expr.ipynb\"><img src=\"data:image/png;base64,iVBORw0KGgoAAAANSUhEUgAAAPIAAAAVCAMAAABL90OsAAAANlBMVEX///8UFBQNDQ2YmJhUVFQy\n",
       "MjIQEBBEREQiIiKqqqrMzMyIiIi6urrc3NxmZmZ2dnbu7u4AAACrLjZHAAAAAXRSTlMAQObYZgAA\n",
       "AidJREFUWMPVWNmS4yAMZIb7hv//2TVrxxbhsNFM1VR4ShF3txpLAkzInw3tyWcMZ1Ew6pqp6D7D\n",
       "sWFIYDCfapknNHLNclIRKYVHdoe1aCiNi29Z84CsdjyyMwR+/ZJYTmwnmUF2HDSyYeI/AEu9XstG\n",
       "SmTFz5AphpJyPqdu0WkYaDiS00fLvLbhJs1r6hgmloeMnnE3CXYw1yKhQiQulyrNr/9UjWSAidND\n",
       "ZCtNRYk4Hw0cjLOp19Sajy23jCDWoEyfcTzXIoGC0SQUHSkHlhO7WoFwh8iuoOf18kbtxNjyjJGq\n",
       "kPqMw7kWCRW2OVGyKZ8p9f2lqiHyGdvxq/Awed+wamqTJ295xJgs3HLaYPtzLbJW0KUITDaDt0zY\n",
       "Fdplfpe53S0g9czygDFFZSeMk7kWCRVCqTF7Zd2bZbjFibOX+f8K5yoGmBbX26qoZ4ndMu6lSJtD\n",
       "3Fuw/bkeEirw0kklG1g2cLHkTkT93izs3S5dUdNJ++owbg1XTxlTV2WErBTC9rDL16rY94IEUYY9\n",
       "kSiR26L629yuqCebVIfR97fVizFl1VMZIGuFJK0N+dEJzakDEFOMlt43MEjN3dAyhjGJF/ETA61C\n",
       "VA8PnOtn1xc14sB5w+g8WTawN2RVwtHIu8Fz6mh/wXLFSBEG9m61uZCPnSxdHiF1Wrw8ergHuG6w\n",
       "tG+gj6wKeyuE5+vtVz4RQGrmf+MTAWS0KAOI4XE3ZtueJO0ffRX5B3KyHztnXSwGAAAAAElFTkSu\n",
       "QmCC\n",
       "\" style=\"display:inline;vertical-align:middle;\" /></a></td></tr>\n",
       "<tr><td>3</td><td>Operation</td><td>operator:&nbsp;5<br>operands:&nbsp;8<br></td><td><a class=\"ProveItLink\" href=\"../11c10f4bba158f3c28c22f8b0eddbb73cf6480560/expr.ipynb\"><img src=\"data:image/png;base64,iVBORw0KGgoAAAANSUhEUgAAADMAAAANBAMAAAD2/0vEAAAAMFBMVEX///+6uroyMjJERETMzMwQ\n",
       "EBAiIiKYmJju7u5mZmaqqqpUVFSIiIh2dnbc3NwAAAAWgogoAAAAAXRSTlMAQObYZgAAAKRJREFU\n",
       "GNNjYHh7+tXJAwwogOPmBYb3DQwcF9jTWROAfE4lMNgAZPIyfmA4D6QYeD5wOaDq8uJMYDAGambg\n",
       "NmBAAw2sBxj+gBisB9ClGNY3sHwB0e8dGBpAdqWBAdiISQw8AQwM7A/OM/A0oOnSZGAGOmd9gSnD\n",
       "G3QDZzPIFzAwNJ/tvVOALtV8Zv4DBlzgGg5x7gSOKBxSbBeYL+CQ4jozEUgCABYeKl4jfnQmAAAA\n",
       "AElFTkSuQmCC\n",
       "\" style=\"display:inline;vertical-align:middle;\" /></a></td></tr>\n",
       "<tr><td>4</td><td>ExprTuple</td><td>6, 7</td><td><a class=\"ProveItLink\" href=\"../9d67cc464353dfc409f38ea5a386440eb1309f510/expr.ipynb\"><img src=\"data:image/png;base64,iVBORw0KGgoAAAANSUhEUgAAAHoAAAAVBAMAAAB71edYAAAAMFBMVEX////c3NwiIiJERESqqqqY\n",
       "mJh2dnZmZmYQEBDu7u4yMjJUVFTMzMyIiIi6uroAAAAs73DqAAAAAXRSTlMAQObYZgAAAaxJREFU\n",
       "OMtjYKAM8F0gUyPrAyBxmmx7a4B4JYI7KROPWk61CWgiXAwMvMgO9yrEo51luQCa0xMYOFBMfLwH\n",
       "XwhZH0B1TQPDK1QVh+3waOcxfoDCN2EoA5Jit0WuwzwgvQ5MTStjYPyJxmJgYNwF0Q7VkM6wFOiC\n",
       "BFZVDgWYgeI6IDLhPQPvBwZUFkh7EcjxMA1eDH0MDGxAaRa4l4IqQW50KGJgNmBAYYEDSh0UTDAN\n",
       "Lxj+AY1i4IZLc14CxxonQy8D/wVUFhDMhcQaTMN5kG4GBg6YNGcSlMXyk+H8ATQWwzRdmCUQDecZ\n",
       "WkCU/AGGCRBvBUCl2Rcw3EBniavCQxui4QWDKdAzAvcZeCeAg9QBno4KGKwZwEZCWKDYWAL3PVRD\n",
       "FDDUGfwDLBhkQaLCiOhk38D3lYHzE4wFMhqREmAa0hkeMTBMvjYtNwA9Vdte/8jA2S8AZaECmIZ1\n",
       "DBwCOBIWGzBC+QRgLKz5pgGU1LGBTQwzgGHACmdhNf8CSg4VUgIBPRBTjcGMAaIbwgL6GyyphJTS\n",
       "Z4GCEqu5vtdByi7AWdjARpCZ5JZMvAcYALQBdCzyHPdJAAAAAElFTkSuQmCC\n",
       "\" style=\"display:inline;vertical-align:middle;\" /></a></td></tr>\n",
       "<tr><td>5</td><td>Literal</td><td></td><td><a class=\"ProveItLink\" href=\"../../../../logic/equality/__pv_it/2fb26078095930560931daa0500ce419a39ea6cd0/expr.ipynb\"><img src=\"data:image/png;base64,iVBORw0KGgoAAAANSUhEUgAAAA4AAAAFBAMAAACHocAhAAAAFVBMVEX///9EREQiIiJUVFQyMjJm\n",
       "ZmYAAADubVkoAAAAAXRSTlMAQObYZgAAABRJREFUCNdjCHEBAWcGXCBICQQUAUpuAwlgGKrkAAAA\n",
       "AElFTkSuQmCC\n",
       "\" style=\"display:inline;vertical-align:middle;\" /></a></td></tr>\n",
       "<tr><td>6</td><td>Operation</td><td>operator:&nbsp;9<br>operands:&nbsp;8<br></td><td><a class=\"ProveItLink\" href=\"../efc1dad35444d7c91aa68fe0e586537e482f8de00/expr.ipynb\"><img src=\"data:image/png;base64,iVBORw0KGgoAAAANSUhEUgAAADMAAAASBAMAAAAEf/uKAAAAMFBMVEX///+6uroyMjJERETMzMwQ\n",
       "EBAiIiKYmJju7u5mZmaqqqpUVFSIiIh2dnbc3NwAAAAWgogoAAAAAXRSTlMAQObYZgAAAMxJREFU\n",
       "GNNjYCACcOQ24JTj0nyAU47R2gGnHIuxAAr/7elXJw9A2XybwHIcNy8wvG9g4LjAns6aAFPHNw1k\n",
       "Ji/jB4bzQIqB5wMX3A72TJAzvTgTGIyBmhm4DeCG90A80MB6gOEPiMEKs4mhNwfKWN/A8gVEv3dg\n",
       "gHj2ZTpMzSQGngCg6Q/OM/CApV5rwQ3WZGDeANRbYMrwBuw4Q4SHZjPIFzAwNJ/tvVOA7vfmM/Nx\n",
       "B9o1HOLcCRxRyHy+NDAAhRTbBeYLuKLnzEQgCQCZjjNDxULBwAAAAABJRU5ErkJggg==\n",
       "\" style=\"display:inline;vertical-align:middle;\" /></a></td></tr>\n",
       "<tr><td>7</td><td>Operation</td><td>operator:&nbsp;9<br>operands:&nbsp;10<br></td><td><a class=\"ProveItLink\" href=\"../874ad9e446c57e433b9d4ff977c54c00fff01c0c0/expr.ipynb\"><img src=\"data:image/png;base64,iVBORw0KGgoAAAANSUhEUgAAADIAAAASBAMAAADrvZC0AAAAMFBMVEX///+YmJhUVFQyMjIQEBBE\n",
       "REQiIiKqqqrMzMyIiIi6urrc3NxmZmZ2dnbu7u4AAADXeCicAAAAAXRSTlMAQObYZgAAAMhJREFU\n",
       "GNNjYCAMnt3DKVV8GqfUUg2cUq1RyDy+OxcY9j+AcjZZgSnum9qVJxl4uT4wzIer25MBIt8yiAm4\n",
       "MbTzJDCEwmXEzoHIC0C1FQwPWCYw/ISZPA3i8gcMqiCq/gHHD6jEtQkwvZ4g4jADpwPE3mMCMAnu\n",
       "Hwx8DAw2DKwKYJ5yAUxCmvMDwzwGhkMM68Fqty6ASbB/ZHXgBhr8dOb5Dage5ou8d3cimHUNe4gw\n",
       "JfC5Y5dhu8B6AczYlgYCWQgZ9pmnsGsBAAI+NFi6DeZzAAAAAElFTkSuQmCC\n",
       "\" style=\"display:inline;vertical-align:middle;\" /></a></td></tr>\n",
       "<tr><td>8</td><td>ExprTuple</td><td>12, 11</td><td><a class=\"ProveItLink\" href=\"../a6a2ac9310c73e21661c7634808321702fb219240/expr.ipynb\"><img src=\"data:image/png;base64,iVBORw0KGgoAAAANSUhEUgAAACwAAAAVBAMAAADP3xFXAAAAMFBMVEX////c3NwiIiJERESqqqqY\n",
       "mJh2dnZmZmYQEBDu7u4yMjJUVFTMzMyIiIi6uroAAAAs73DqAAAAAXRSTlMAQObYZgAAAQtJREFU\n",
       "GNNjYMAB+C6gi7A+ABKnMVXWAPFKTGEuBgbeC5jCrAkMHBMwhTkbGF5hc4YJQxmQFLstch1i1rQy\n",
       "BsafDAzpDEuBehJYVTkUwMIJ7xl4PzAweDH0MTCwAZksB0CiPA5FDMwGDAwvGP4BVTNwG0DtYuhl\n",
       "4Acadx4kzMDAAXMly0+G8wdAwi0gnvwBBog72Rcw3GAAGWIKdL3AfQbeCWAJrgIGayAVBXQLg3+A\n",
       "BYMsA+cnkOoNfF8ZQA58xMAw+dq03AAGzn4BoJ221z8ChdcxcAjAQxjMYlMAex4YLLAAAuJNDDMc\n",
       "gFIXkAIWJKzGYAYkZwGxNEwY5Hbf66CY2QjEjBgBznuAAQAt5DtyKXSr1gAAAABJRU5ErkJggg==\n",
       "\" style=\"display:inline;vertical-align:middle;\" /></a></td></tr>\n",
       "<tr><td>9</td><td>Literal</td><td></td><td><a class=\"ProveItLink\" href=\"../96143560a3dbc26f943e0a126972c9bfadab3fc50/expr.ipynb\"><img src=\"data:image/png;base64,iVBORw0KGgoAAAANSUhEUgAAAA4AAAARBAMAAAAf5oCsAAAALVBMVEX///+IiIiYmJjMzMxUVFRE\n",
       "RES6urrc3NxmZmYyMjKqqqp2dnYiIiLu7u4AAACqGg1VAAAAAXRSTlMAQObYZgAAAEFJREFUCNdj\n",
       "YICCO3uhjJXtUEaqM5RhGgZllEyDMioOQ2idXhDJKwPWy7tHAESx9yiAKc8FYCWlCQx4Qc0ZEDgG\n",
       "ALzAEHC/pigGAAAAAElFTkSuQmCC\n",
       "\" style=\"display:inline;vertical-align:middle;\" /></a></td></tr>\n",
       "<tr><td>10</td><td>ExprTuple</td><td>11, 12</td><td><a class=\"ProveItLink\" href=\"../470bbc9880f0fcda6ab2160544dedf05732e41640/expr.ipynb\"><img src=\"data:image/png;base64,iVBORw0KGgoAAAANSUhEUgAAACwAAAAVBAMAAADP3xFXAAAAMFBMVEX////c3NwiIiJERESqqqqY\n",
       "mJh2dnZmZmYQEBDu7u4yMjJUVFTMzMyIiIi6uroAAAAs73DqAAAAAXRSTlMAQObYZgAAAQdJREFU\n",
       "GNN1kLtKA0EUQI8mu5kYJ2whNiLZxl5QwW+wydZWg00qWwsVTWEtC0IINlYiNqJ/sIWdhVOZIoSo\n",
       "ldgYeyPecYOvMQP3wZn7hjGvav+S4F7UjR+5K3Lu4ynQ1seBQaU+Ljd5/m+MZbbks2Go5Umz3ZmO\n",
       "VG1wCmF1QD/PNsGCimGNQ7guxSx94hA9KGbwxDukyjLMo6ksOnvrMPV0+m3UTNkcH4jeRjdHuJaR\n",
       "uiIr4p9RuJQCskfURwtel1lgh5eEE5mgnqwyjxvwUfRRbz+i/SrOXWszEXCBilzJDZGHn8vLWSpx\n",
       "2TVOvnBo3WEnTcH8wscicxR7e2L196WuRCa8g+uMDxGWOvpEaKwNAAAAAElFTkSuQmCC\n",
       "\" style=\"display:inline;vertical-align:middle;\" /></a></td></tr>\n",
       "<tr><td>11</td><td>Variable</td><td></td><td><a class=\"ProveItLink\" href=\"../../../../__pv_it/f8b9edf8e16034727f0aad55bb83e392c3db40d40/expr.ipynb\"><img src=\"data:image/png;base64,iVBORw0KGgoAAAANSUhEUgAAAAsAAAANBAMAAACN24kIAAAAMFBMVEX///+YmJhUVFQyMjIQEBBE\n",
       "REQiIiKqqqrMzMyIiIi6urrc3NxmZmZ2dnbu7u4AAADXeCicAAAAAXRSTlMAQObYZgAAAFhJREFU\n",
       "CNdj4LtzgWH/AwZerg8M8xkY2nkSGEIZGB6wTGD4ycDAUP+A4weQOszA6QCkbBhYFYDUIYb1AkDq\n",
       "6czzGxhA4BoQMyXwuQMptgusF4AU+8xTQBIAUqMVoSp/SLMAAAAASUVORK5CYII=\n",
       "\" style=\"display:inline;vertical-align:middle;\" /></a></td></tr>\n",
       "<tr><td>12</td><td>Variable</td><td></td><td><a class=\"ProveItLink\" href=\"../../../../__pv_it/530be409e3083890784cf1d7b28c9e67e90af9360/expr.ipynb\"><img src=\"data:image/png;base64,iVBORw0KGgoAAAANSUhEUgAAAAsAAAAJBAMAAAAWSsseAAAAKlBMVEX///9ERETMzMwQEBAiIiKY\n",
       "mJju7u5mZmaqqqpUVFSIiIh2dnbc3NwAAAA/vyDhAAAAAXRSTlMAQObYZgAAAENJREFUCNdjYDi9\n",
       "8sTyBQxsG1hdmR0YuBm4LnAoMLAxcAowgADzAjB1VoEhgYH1wFoGrgSG3gBhhlMMDImrs3cFMAAA\n",
       "t0YN+iTRa+sAAAAASUVORK5CYII=\n",
       "\" style=\"display:inline;vertical-align:middle;\" /></a></td></tr>\n",
       "</table>\n"
      ],
      "text/plain": [
       "0. forall_{y | x >= y , y >= x} (x = y)\n",
       "   core type: Operation\n",
       "   operator: 1\n",
       "   operand: 2\n",
       "1. forall\n",
       "   core type: Literal\n",
       "   sub-expressions: \n",
       "2. y -> (x = y) | x >= y , y >= x\n",
       "   core type: Lambda\n",
       "   parameter: 11\n",
       "   body: 3\n",
       "   conditions: 4\\n3. x = y\n",
       "   core type: Operation\n",
       "   operator: 5\n",
       "   operands: 8\n",
       "4. (x >= y , y >= x)\n",
       "   core type: ExprTuple\n",
       "   sub-expressions: 6, 7\n",
       "5. =\n",
       "   core type: Literal\n",
       "   sub-expressions: \n",
       "6. x >= y\n",
       "   core type: Operation\n",
       "   operator: 9\n",
       "   operands: 8\n",
       "7. y >= x\n",
       "   core type: Operation\n",
       "   operator: 9\n",
       "   operands: 10\n",
       "8. (x , y)\n",
       "   core type: ExprTuple\n",
       "   sub-expressions: 12, 11\n",
       "9. >=\n",
       "   core type: Literal\n",
       "   sub-expressions: \n",
       "10. (y , x)\n",
       "    core type: ExprTuple\n",
       "    sub-expressions: 11, 12\n",
       "11. y\n",
       "    core type: Variable\n",
       "    sub-expressions: \n",
       "12. x\n",
       "    core type: Variable\n",
       "    sub-expressions: "
      ]
     },
     "execution_count": 4,
     "metadata": {},
     "output_type": "execute_result"
    }
   ],
   "source": [
    "# display the expression information\n",
    "expr.exprInfo()"
   ]
  },
  {
   "cell_type": "code",
   "execution_count": null,
   "metadata": {},
   "outputs": [],
   "source": []
  }
 ],
 "metadata": {
  "kernelspec": {
   "display_name": "Python 3",
   "language": "python",
   "name": "python3"
  }
 },
 "nbformat": 4,
 "nbformat_minor": 0
}
