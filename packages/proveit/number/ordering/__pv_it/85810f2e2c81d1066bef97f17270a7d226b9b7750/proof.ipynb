{
 "cells": [
  {
   "cell_type": "markdown",
   "metadata": {},
   "source": [
    "Show the Proof\n",
    "========"
   ]
  },
  {
   "cell_type": "code",
   "execution_count": 1,
   "metadata": {},
   "outputs": [
    {
     "data": {
      "text/html": [
       "<table><tr><th>&nbsp;</th><th>step type</th><th>requirements</th><th>statement</th></tr>\n",
       "<tr><td>0</td><td>specialization</td><td>1, 2</td><td><span style=\"font-size:20px;\"> <a class=\"ProveItLink\" href=\"proof.ipynb\" style=\"text-decoration: none\">&#x22A2;&nbsp;</a><a class=\"ProveItLink\" href=\"../f19f53d0853862866458422050d10a5638cbe9390/expr.ipynb\"><img src=\"data:image/png;base64,iVBORw0KGgoAAAANSUhEUgAAADAAAAARBAMAAABp3DInAAAAMFBMVEX////MzMyqqqrc3Nx2dna6\n",
       "uroiIiKYmJgyMjIQEBBmZmaIiIhUVFTu7u5EREQAAAD6xDySAAAAAXRSTlMAQObYZgAAAJJJREFU\n",
       "GNNjYGB4y4AJZID43l8kgW0BEDqPgeHOGYQEr9sGCIN7HoiAS/AuK4CyzPuQJZhPKMCUOCBLMJ4I\n",
       "gImzGyBJ8L4TgNt1mwFZx7a9cAkHFAmGMl8og0kAVYJBYzGEvsKAJsEQcRBM6Zw58/M0igSD3EMo\n",
       "A9WDoDAKgEtwrfyxHCMMff4vZyAfMKeBATxYAOMiLwFVpFH2AAAAAElFTkSuQmCC\n",
       "\" style=\"display:inline;vertical-align:middle;\" /></a></span></td></tr>\n",
       "<tr><td>&nbsp;</td><td colspan=4 style=\"text-align:left\"><span style=\"font-size:20px;\"><a class=\"ProveItLink\" href=\"../../../../__pv_it/530be409e3083890784cf1d7b28c9e67e90af9360/expr.ipynb\"><img src=\"data:image/png;base64,iVBORw0KGgoAAAANSUhEUgAAAAsAAAAJBAMAAAAWSsseAAAAKlBMVEX///9ERETMzMwQEBAiIiKY\n",
       "mJju7u5mZmaqqqpUVFSIiIh2dnbc3NwAAAA/vyDhAAAAAXRSTlMAQObYZgAAAENJREFUCNdjYDi9\n",
       "8sTyBQxsG1hdmR0YuBm4LnAoMLAxcAowgADzAjB1VoEhgYH1wFoGrgSG3gBhhlMMDImrs3cFMAAA\n",
       "t0YN+iTRa+sAAAAASUVORK5CYII=\n",
       "\" style=\"display:inline;vertical-align:middle;\" /></a> : <a class=\"ProveItLink\" href=\"../../../numeral/__pv_it/23412ce59ea7e77353d2f9225e02248e73651ca00/expr.ipynb\"><img src=\"data:image/png;base64,iVBORw0KGgoAAAANSUhEUgAAAAoAAAAPBAMAAAAv0UM9AAAALVBMVEX///9mZmaqqqru7u52dnYy\n",
       "MjKYmJjc3NwQEBCIiIhEREQiIiJUVFTMzMwAAACUDTcXAAAAAXRSTlMAQObYZgAAAD5JREFUCNdj\n",
       "YGBguMMAArtABGcXiCyLApEOIJKtAERaMoBIBxDJdAFEmjCASJ0zZ16cBCkF64KQPu/EwBwGACv6\n",
       "DSRgin9qAAAAAElFTkSuQmCC\n",
       "\" style=\"display:inline;vertical-align:middle;\" /></a>, <a class=\"ProveItLink\" href=\"../../../../__pv_it/f8b9edf8e16034727f0aad55bb83e392c3db40d40/expr.ipynb\"><img src=\"data:image/png;base64,iVBORw0KGgoAAAANSUhEUgAAAAsAAAANBAMAAACN24kIAAAAMFBMVEX///+YmJhUVFQyMjIQEBBE\n",
       "REQiIiKqqqrMzMyIiIi6urrc3NxmZmZ2dnbu7u4AAADXeCicAAAAAXRSTlMAQObYZgAAAFhJREFU\n",
       "CNdj4LtzgWH/AwZerg8M8xkY2nkSGEIZGB6wTGD4ycDAUP+A4weQOszA6QCkbBhYFYDUIYb1AkDq\n",
       "6czzGxhA4BoQMyXwuQMptgusF4AU+8xTQBIAUqMVoSp/SLMAAAAASUVORK5CYII=\n",
       "\" style=\"display:inline;vertical-align:middle;\" /></a> : <a class=\"ProveItLink\" href=\"../../../numeral/__pv_it/9be8badea4c35b9724062cecc501d17a3158d1d20/expr.ipynb\"><img src=\"data:image/png;base64,iVBORw0KGgoAAAANSUhEUgAAAAgAAAAPBAMAAAArJJMAAAAAHlBMVEX///+YmJgyMjIQEBBmZmaI\n",
       "iIhUVFTu7u5EREQAAAAw+MI4AAAAAXRSTlMAQObYZgAAACFJREFUCNdjYGBoZ2BgqJjOwFCWBiQY\n",
       "WEklWJwnOTKAAACjEQo8HvEr3AAAAABJRU5ErkJggg==\n",
       "\" style=\"display:inline;vertical-align:middle;\" /></a></span></td></tr><tr><td>1</td><td>theorem</td><td></td><td><span style=\"font-size:20px;\"> <a class=\"ProveItLink\" href=\"../../_proofs_/reverseGreaterEq.ipynb\" style=\"text-decoration: none\">&#x22A2;&nbsp;</a><a class=\"ProveItLink\" href=\"../405ecc4b27b1d0dfe97d3233a62ddeea4b0a063f0/expr.ipynb\"><img src=\"data:image/png;base64,iVBORw0KGgoAAAANSUhEUgAAAKEAAAAXBAMAAACR7DLtAAAAMFBMVEX///8QEBC6urrMzMxUVFRm\n",
       "ZmZERETc3NwyMjKqqqp2dnaIiIiYmJgiIiLu7u4AAAAU9Wx4AAAAAXRSTlMAQObYZgAAAlNJREFU\n",
       "OMutVE9o01AY/zVZmrXp0rIdPAyloAdBxAm7t1SYoAg7eHIIotKhu+QgTpCNIHoYDBk4d9klJzct\n",
       "jIquIBMNXgRFGB47hfSwHeplILjLGH7vpclL0qWQsQ9Kv+/7vffL9/cBxy5O8ivn4qEv9Ntkyvck\n",
       "hHI5HlNGgNdMeZ6EsT+SlvYzYJjAQ/pTbyVh3Aib7a2g9c39orKQhPFUyNr+FTJbQG5lenomCaFk\n",
       "Bq0Hc2E0TcH9q1abSRgVizK9AfWAGaNPPLdau7w8AWTHgUvAZNe1Yo/G2IB1Adou6Tt3RDnxwz4J\n",
       "ZCiDM9DNrmuiVYtGBEoVIS/cRJod0bb8vlv4jBdUkwIwAM3uwaheHwlD+SJ0DCNfZ0au6fibMsaH\n",
       "lULX7AGnB2MXJTEic4CS680883MY9hh1c5S0WuU9HZEaSDmC0XXqr4oCoKypm4qJt17rn3Y+qP6l\n",
       "2HnWmKxQi5wxdvJP3rgoYuw4oa86PkDzQTXqH8ddfymrnPIrteoTlYH15CWttoR55p49j4Zg7Dih\n",
       "zQvAnQ+lLO2LPa+w7PfTBbXuokjxGu9x9AquBuvIne17AYC+QwHoU+t74cLrU2tvPrLZYnOXYwWS\n",
       "CzIDBjEUYOTO9u0gQHKCR7p5+LS2PKWUNbN4ZGBI2hWM3LnNCX3AfQyuoRXzFNQ8ZefDxBpKNhYb\n",
       "pmDkztOdQW+YgdesiftcnfnNJPCaRZfFVo2+enQe3dHwAKaXsbwes6Z94Q2TjbR1Focy+gCTx/FL\n",
       "/y5s5pDZsKKMS1USxweOLOWjX/0P1qGZxGfhP4AAAAAASUVORK5CYII=\n",
       "\" style=\"display:inline;vertical-align:middle;\" /></a></span></td></tr>\n",
       "<tr><td>&nbsp;</td><td colspan=4 style-\"text-align:left\"><a class=\"ProveItLink\" href=\"../../_proofs_/reverseGreaterEq.ipynb\">proveit.number.ordering.reverseGreaterEq</a></td></tr><tr><td>2</td><td>specialization</td><td>3, 4</td><td><span style=\"font-size:20px;\"> <a class=\"ProveItLink\" href=\"../f457b6d68adc42eb2b0961f2fb6293aaee3af8130/proof.ipynb\" style=\"text-decoration: none\">&#x22A2;&nbsp;</a><a class=\"ProveItLink\" href=\"../11f8ded21e16c6ca4a8a9657d508edcab6bf49db0/expr.ipynb\"><img src=\"data:image/png;base64,iVBORw0KGgoAAAANSUhEUgAAADAAAAARBAMAAABp3DInAAAAMFBMVEX///+6urpmZmaqqqru7u52\n",
       "dnYyMjKYmJjc3NwQEBCIiIhEREQiIiJUVFTMzMwAAACQ7J58AAAAAXRSTlMAQObYZgAAAJRJREFU\n",
       "GNNjYGBgeMuAAbaAydNg0icEIe79BURyzYbwzDRg4r53wRLt2VC+9D2YDBdYIgAmwfB6I7IEewNc\n",
       "gqE3EUnCiwEhwdB0DiERgCxRowKXYH6AkGBZE4IwypUBLsESswDJctu7d3/eAvM4dApQncsA8SDH\n",
       "NQMGrBLdAgxoErH/1dGCkEnzmzoDBaDnDAgchHEBHhkuPtR11ycAAAAASUVORK5CYII=\n",
       "\" style=\"display:inline;vertical-align:middle;\" /></a></span></td></tr>\n",
       "<tr><td>&nbsp;</td><td colspan=4 style=\"text-align:left\"><span style=\"font-size:20px;\"><a class=\"ProveItLink\" href=\"../../../../__pv_it/39dbcd3ca0390345b51c6ef7785756419e2c14390/expr.ipynb\"><img src=\"data:image/png;base64,iVBORw0KGgoAAAANSUhEUgAAAAwAAAAJBAMAAAD0ltBnAAAAMFBMVEX///8QEBCYmJhmZmaqqqoi\n",
       "IiLMzMzu7u4yMjJ2dnZUVFTc3NxERESIiIi6uroAAABbPXqjAAAAAXRSTlMAQObYZgAAAERJREFU\n",
       "CNdj4Luz++5KBgZOrl6G+gSGd6wHGOofMBQAsX8BAwivYGBgsGBg+MTOwCDJwPSdk4H7HwPnATcG\n",
       "PgEG7rMOAGtQEUwHZIDZAAAAAElFTkSuQmCC\n",
       "\" style=\"display:inline;vertical-align:middle;\" /></a> : <a class=\"ProveItLink\" href=\"../../../numeral/__pv_it/23412ce59ea7e77353d2f9225e02248e73651ca00/expr.ipynb\"><img src=\"data:image/png;base64,iVBORw0KGgoAAAANSUhEUgAAAAoAAAAPBAMAAAAv0UM9AAAALVBMVEX///9mZmaqqqru7u52dnYy\n",
       "MjKYmJjc3NwQEBCIiIhEREQiIiJUVFTMzMwAAACUDTcXAAAAAXRSTlMAQObYZgAAAD5JREFUCNdj\n",
       "YGBguMMAArtABGcXiCyLApEOIJKtAERaMoBIBxDJdAFEmjCASJ0zZ16cBCkF64KQPu/EwBwGACv6\n",
       "DSRgin9qAAAAAElFTkSuQmCC\n",
       "\" style=\"display:inline;vertical-align:middle;\" /></a></span></td></tr><tr><td>3</td><td>theorem</td><td></td><td><span style=\"font-size:20px;\"> <a class=\"ProveItLink\" href=\"../../../sets/integer/_proofs_/naturalsPosLowerBound.ipynb\" style=\"text-decoration: none\">&#x22A2;&nbsp;</a><a class=\"ProveItLink\" href=\"../b1b9e0572fd53cd6bf1692cc489c1b5a0c8f60660/expr.ipynb\"><img src=\"data:image/png;base64,iVBORw0KGgoAAAANSUhEUgAAAIMAAAAVBAMAAACXjEALAAAAMFBMVEX///8QEBC6urrMzMxUVFRm\n",
       "ZmZERETc3NwyMjKqqqp2dnaIiIiYmJgiIiLu7u4AAAAU9Wx4AAAAAXRSTlMAQObYZgAAAgVJREFU\n",
       "OMtjYKAcPCBCjTZuqUNAfAHEOI3XBGYHHBJ5DAysBgwMK0HsPrxGcCC59O06BPvZPyDRwMBQBqTY\n",
       "E/AasRuZMyMcxnriAjLiFMQK1gl4jZBD4ak5w1jcICMeMjDwLC8vr8VrAlMDKt8sCdkINqD139LS\n",
       "bmHRuADOYgUytdOrt8BFSpqQjOAKYGAAuisdixEBiNA8ADTQYwPfZ7hI6WWEEZxAN6ow8DXgNYJR\n",
       "gYFJ4RoD3ye4yNk4hBFMAgwMvAzcB5ATQWsQw8Y4ZCP4FRj4gPo5/0H5fHvXIXmE+QOQcYAXHu+v\n",
       "Q2MYjnE94HoQ4nLFZQLCCJB+Fqhb+dZuYEAzgq/BBB5LSXXvGM5sCOB6gOIRoFmsDQz8B8A2scce\n",
       "QIlUkEcY0p2AURutvYSB4ShI4vDkalQj2IB6GBcwnH8AihJ2D0QaAhvBA3LcVGA2eaN/gNeAAezU\n",
       "w1xvrFCMAEVbvQLDMk5gdmAoU2BANQIky8AI9FvdDgb+AmZwzB9mWLAExQgmoBWKQM070eKMNfBH\n",
       "DDDKQWbygPzoDVTFfC0tLRtoRM1boEgBQq04vrT7EM4SZghl4nOAuILJGrUQOYXPiNUwBvsHBmFl\n",
       "BneIEQynHuDM7LV3QeASnI9IlkwJDFEHGJ4B/cXUpsDAgmoRuwNuR7AUoAksA4YFFlCN24jNDAwA\n",
       "Of2NBGq3icoAAAAASUVORK5CYII=\n",
       "\" style=\"display:inline;vertical-align:middle;\" /></a></span></td></tr>\n",
       "<tr><td>&nbsp;</td><td colspan=4 style-\"text-align:left\"><a class=\"ProveItLink\" href=\"../../../sets/integer/_proofs_/naturalsPosLowerBound.ipynb\">proveit.number.sets.integer.naturalsPosLowerBound</a></td></tr><tr><td>4</td><td>theorem</td><td></td><td><span style=\"font-size:20px;\"> <a class=\"ProveItLink\" href=\"../../../numeral/deci/_proofs_/posnat4.ipynb\" style=\"text-decoration: none\">&#x22A2;&nbsp;</a><a class=\"ProveItLink\" href=\"../f903edf0e2a7b2f12c6bb76e9b3e7ac0726992ab0/expr.ipynb\"><img src=\"data:image/png;base64,iVBORw0KGgoAAAANSUhEUgAAAD8AAAAUBAMAAADIGvgZAAAAMFBMVEX///+6urpmZmaqqqru7u52\n",
       "dnYyMjKYmJjc3NwQEBCIiIhEREQiIiJUVFTMzMwAAACQ7J58AAAAAXRSTlMAQObYZgAAAONJREFU\n",
       "KM9jYMADmBkIAG76KXiLKuz2e5sDg84fA4SC02gat/NtYGD4wHAtLTMtbQGQzzUbTcGdB6sYGCYg\n",
       "rGjPhtAsy86cSQAxLqbwPkBWEABV8KwEasK9tywpSArYGyAKOLbArLjHvOA1kgIvBogC7ga4AgZF\n",
       "9gUgBbwQG6AKvBkQCngd7k2AR8gDqALJM2egjrzHwHLBDa7AlQGq4C2SCQxP+eAKbO/e/XkLxPBB\n",
       "VsBusAEpYCABxVuApIAhAlMBy0EYfyMQMyUg5GP/q4PpNj0IX+wnUDdLApbYtc05gykMAGxpQqH5\n",
       "TxUoAAAAAElFTkSuQmCC\n",
       "\" style=\"display:inline;vertical-align:middle;\" /></a></span></td></tr>\n",
       "<tr><td>&nbsp;</td><td colspan=4 style-\"text-align:left\"><a class=\"ProveItLink\" href=\"../../../numeral/deci/_proofs_/posnat4.ipynb\">proveit.number.numeral.deci.posnat4</a></td></tr></table>"
      ],
      "text/plain": [
       "<proveit._core_.proof._ShowProof at 0x7f94eadfc898>"
      ]
     },
     "execution_count": 1,
     "metadata": {},
     "output_type": "execute_result"
    }
   ],
   "source": [
    "import proveit\n",
    "%show_proof"
   ]
  },
  {
   "cell_type": "code",
   "execution_count": null,
   "metadata": {},
   "outputs": [],
   "source": []
  }
 ],
 "metadata": {
  "kernelspec": {
   "display_name": "Python 3",
   "language": "python",
   "name": "python3"
  }
 },
 "nbformat": 4,
 "nbformat_minor": 0
}
