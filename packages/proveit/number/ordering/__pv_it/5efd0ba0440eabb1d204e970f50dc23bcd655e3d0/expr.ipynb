{
 "cells": [
  {
   "cell_type": "markdown",
   "metadata": {},
   "source": [
    "Expression of type <a class=\"ProveItLink\" href=\"../../../../../../doc/html/api/proveit.ExprTuple.html\">ExprTuple</a>\n",
    "=======================\n",
    "# from context <a class=\"ProveItLink\" href=\"../../_context_.ipynb\">proveit.number.ordering</a>"
   ]
  },
  {
   "cell_type": "code",
   "execution_count": 1,
   "metadata": {},
   "outputs": [],
   "source": [
    "# import Expression classes needed to build the expression\n",
    "from proveit import ExprTuple\n",
    "from proveit._common_ import v, w, x, y, z\n",
    "from proveit.number import Add, Exp, Reals, four, one"
   ]
  },
  {
   "cell_type": "code",
   "execution_count": 2,
   "metadata": {},
   "outputs": [
    {
     "data": {
      "text/html": [
       "<strong id=\"expr\">expr:</strong> <a class=\"ProveItLink\" href=\"expr.ipynb\"><img src=\"data:image/png;base64,iVBORw0KGgoAAAANSUhEUgAAALgAAAAcBAMAAAAgkGgMAAAAMFBMVEX///+qqqp2dnYiIiJERESI\n",
       "iIhmZmYQEBDc3NyYmJgyMjLu7u5UVFTMzMy6uroAAACGxKilAAAAAXRSTlMAQObYZgAAAv5JREFU\n",
       "SMe1lF9IFFEUxr9dZ3dnnd1xCeqhCJdKH+plKYiIgg0qCpIGQkQsWoyETEoJK3qoeTCjENr+QUjU\n",
       "PIThGrSEoYTgPvRQPq3Qo6AgSATlSiWGKZ1778zuzI4ha+uBu+fcs9/85p47516gjGZYQTiOcptn\n",
       "kf0wdlvMyn0vF/wtg0v8NQSP8hIy5YI3OeATLHifLhM7vMUB92kUfKKhaiWjnrsyXsUBxz5AbodZ\n",
       "Qmnmz1pR78+TqRu0uqdF8NMkSpAf+J++Q7wHnzfrikbwsdSrVEoT8NE0AlPm9pRqDwvwbkjDcU9L\n",
       "y3zSvvKKJCbJBdbyTYfscG+Wjo3s3BZ/HA3kvq6lOaRIMfzZn4iAyzvnaS+COYzRpBlQaqNKp3kW\n",
       "mhE0gtd5LNd83HieRyTAfVGhem3qNjVHwgYPDVsHXsq/XV3ECXL9JFVzygGRTMxCynjmxIvwKHlF\n",
       "NJqaw1kh6HrSQiiPYYNP9+rmJFTo+yX0kbsJjPtj2CRykXOoSqKOT6IE3MojJjgsnkpjhEpQ2/Pw\n",
       "O3v2R9z7Ji9jL7lleiCgYVzUj05M6uJqIM4HU8oEv6zH2I0RzhVWPiOt0BLKnAVHdRpN+b1qMO8d\n",
       "sk5LW52mOoXNoAju/5ZZceWvyXXQaM3z/AZ9CNmsU16iUri1wmduhIcLbdvSjYHGFeBLvOzjNI5C\n",
       "zQqOlMFu+NiW0JH25aggnu5jf/BoA0ALDRoQGgafCGVdcHUBp8jV0tiBd3RiWfN74+GruAvlB63x\n",
       "t9QuayLdhtkkj8L9F3qnRCsyjejzyDEXnPp8ltw0jZEaOrtDCyzbXD9IE+WWDuXIrm2NZnqw/rLO\n",
       "Iz9esH2spBcwDbu46vDyjatfvAaqqJ6A1aT4Yi8rnzXT2x2CoSKNyyo1hOjrBK3WQNJeViGkdCim\n",
       "dDgENUUal43qCMfsV+6/4RVRKWoXKMZq8Mc0DtHoMec++5+Fe5ilPfWXHIKQ7tS47SCNe6wlS7/Q\n",
       "z6wmCCbyR6L81sV/H6wP/CLW1/4CRHzEFEAaCYsAAAAASUVORK5CYII=\n",
       "\" style=\"display:inline;vertical-align:middle;\" /></a><br>"
      ],
      "text/plain": [
       "expr: ((v , w , x , y , z) , Reals^{4 + 1})"
      ]
     },
     "execution_count": 2,
     "metadata": {},
     "output_type": "execute_result"
    }
   ],
   "source": [
    "# build up the expression from sub-expressions\n",
    "expr = ExprTuple([v, w, x, y, z], Exp(Reals, Add(four, one)))"
   ]
  },
  {
   "cell_type": "code",
   "execution_count": 3,
   "metadata": {},
   "outputs": [
    {
     "name": "stdout",
     "output_type": "stream",
     "text": [
      "Passed sanity check: built 'expr' is the same as the stored Expression.\n"
     ]
    }
   ],
   "source": [
    "# check that the built expression is the same as the stored expression\n",
    "%check_expr"
   ]
  },
  {
   "cell_type": "code",
   "execution_count": 4,
   "metadata": {},
   "outputs": [
    {
     "data": {
      "text/html": [
       "<table><tr><th>&nbsp;</th><th>core type</th><th>sub-expressions</th><th>expression</th></tr>\n",
       "<tr><td>0</td><td>ExprTuple</td><td>1, 2</td><td><a class=\"ProveItLink\" href=\"expr.ipynb\"><img src=\"data:image/png;base64,iVBORw0KGgoAAAANSUhEUgAAALgAAAAcBAMAAAAgkGgMAAAAMFBMVEX///+qqqp2dnYiIiJERESI\n",
       "iIhmZmYQEBDc3NyYmJgyMjLu7u5UVFTMzMy6uroAAACGxKilAAAAAXRSTlMAQObYZgAAAv5JREFU\n",
       "SMe1lF9IFFEUxr9dZ3dnnd1xCeqhCJdKH+plKYiIgg0qCpIGQkQsWoyETEoJK3qoeTCjENr+QUjU\n",
       "PIThGrSEoYTgPvRQPq3Qo6AgSATlSiWGKZ1778zuzI4ha+uBu+fcs9/85p47516gjGZYQTiOcptn\n",
       "kf0wdlvMyn0vF/wtg0v8NQSP8hIy5YI3OeATLHifLhM7vMUB92kUfKKhaiWjnrsyXsUBxz5AbodZ\n",
       "Qmnmz1pR78+TqRu0uqdF8NMkSpAf+J++Q7wHnzfrikbwsdSrVEoT8NE0AlPm9pRqDwvwbkjDcU9L\n",
       "y3zSvvKKJCbJBdbyTYfscG+Wjo3s3BZ/HA3kvq6lOaRIMfzZn4iAyzvnaS+COYzRpBlQaqNKp3kW\n",
       "mhE0gtd5LNd83HieRyTAfVGhem3qNjVHwgYPDVsHXsq/XV3ECXL9JFVzygGRTMxCynjmxIvwKHlF\n",
       "NJqaw1kh6HrSQiiPYYNP9+rmJFTo+yX0kbsJjPtj2CRykXOoSqKOT6IE3MojJjgsnkpjhEpQ2/Pw\n",
       "O3v2R9z7Ji9jL7lleiCgYVzUj05M6uJqIM4HU8oEv6zH2I0RzhVWPiOt0BLKnAVHdRpN+b1qMO8d\n",
       "sk5LW52mOoXNoAju/5ZZceWvyXXQaM3z/AZ9CNmsU16iUri1wmduhIcLbdvSjYHGFeBLvOzjNI5C\n",
       "zQqOlMFu+NiW0JH25aggnu5jf/BoA0ALDRoQGgafCGVdcHUBp8jV0tiBd3RiWfN74+GruAvlB63x\n",
       "t9QuayLdhtkkj8L9F3qnRCsyjejzyDEXnPp8ltw0jZEaOrtDCyzbXD9IE+WWDuXIrm2NZnqw/rLO\n",
       "Iz9esH2spBcwDbu46vDyjatfvAaqqJ6A1aT4Yi8rnzXT2x2CoSKNyyo1hOjrBK3WQNJeViGkdCim\n",
       "dDgENUUal43qCMfsV+6/4RVRKWoXKMZq8Mc0DtHoMec++5+Fe5ilPfWXHIKQ7tS47SCNe6wlS7/Q\n",
       "z6wmCCbyR6L81sV/H6wP/CLW1/4CRHzEFEAaCYsAAAAASUVORK5CYII=\n",
       "\" style=\"display:inline;vertical-align:middle;\" /></a></td></tr>\n",
       "<tr><td>1</td><td>ExprTuple</td><td>3, 4, 5, 6, 7</td><td><a class=\"ProveItLink\" href=\"../feeb8bffd4bce6989c88b94c9c66a8dd7e1cf9c10/expr.ipynb\"><img src=\"data:image/png;base64,iVBORw0KGgoAAAANSUhEUgAAAG0AAAAVBAMAAAC+p33JAAAAMFBMVEX////c3NwiIiJERESqqqqY\n",
       "mJh2dnZmZmYQEBDu7u4yMjJUVFTMzMyIiIi6uroAAAAs73DqAAAAAXRSTlMAQObYZgAAAchJREFU\n",
       "OMudU88rRFEYPc+bZ+Yx75mSlWRWNjZKskDNig3NY2GhMFFkMTUpowhDU2yGqSkpydtIdiP/gIWd\n",
       "hdkoymTYKBtDLNSQ7/4Y3iws5t3Fveeed853v3vf9wFuh5mr2jLBpsvqj/Ke03TiIkcbMHIufKOA\n",
       "L+3Ctwc8u3lLNYQ4oM9G9JQgduPQbG2dYyV6OrTCEQnQKvIytwotQG0MRzSbRb1d+GIvULOedxED\n",
       "I9YGRyTAvRA0ji92AB4b28CFN4gBzvpD82iw0Ms3EdIOcsQEncKXxj4dbCbwTdiXw4VICClcBcgh\n",
       "JGfyOkzwJbGSZfGLzIdwGreyeD5xA+kDUuV3CKf9JQmfIHxJWpZ+pV4bPVBCMnSJEuBjCUZCIA8X\n",
       "Up5dtHTDPBcSNYs2GCxHYNgoUhqcPmYfOOoHKFHNxixtpnEAHAbZy3X4N9EE/Y0if6gJJSfoZbxY\n",
       "HPmPFsYK/D88Er0ftagGXlm8eD5DG30nAL1vbuZa0pn8WoAjLybZxeoK8AXKl39wNtcvK+mpCgHV\n",
       "mVZ+PFgOn/YHia4P6skKQdTZR//7aiJqxCnQqY/QLDeGs3D/movRnvxqhaCe3UKpvgHvgB9Asm5L\n",
       "toimkwAAAABJRU5ErkJggg==\n",
       "\" style=\"display:inline;vertical-align:middle;\" /></a></td></tr>\n",
       "<tr><td>2</td><td>Operation</td><td>operator:&nbsp;8<br>operands:&nbsp;9<br></td><td><a class=\"ProveItLink\" href=\"../dfb3490f10a0c9e63cf2905609886824bbcb8afc0/expr.ipynb\"><img src=\"data:image/png;base64,iVBORw0KGgoAAAANSUhEUgAAACsAAAAUBAMAAADmX9mLAAAAMFBMVEX///8iIiK6urp2dnbu7u5m\n",
       "ZmaqqqrMzMxUVFTc3NyIiIgQEBBEREQyMjKYmJgAAAA9nvXMAAAAAXRSTlMAQObYZgAAALBJREFU\n",
       "GNNjYICDCzAG+wGEIAPbFxABEo0QQBJ2BgnzgBUgCy/BKsyeglWYmQVF+O2f83f3LmBgeIkqzHBg\n",
       "BkNN7gSWBUDh3ru3795dABWeysDjeYAtNPTrAxTVUxmYC4Ae4EQzBCr84kcCRJjT9usCsDCHJ8y7\n",
       "PHCXAYUV306AcjgQwrMFZRMYMMCBqao8DtiEWdUbsAkzXFmHVbiCowCbMHPCSXRRYFAdZ7hzH80t\n",
       "ACa1QIrDj5ByAAAAAElFTkSuQmCC\n",
       "\" style=\"display:inline;vertical-align:middle;\" /></a></td></tr>\n",
       "<tr><td>3</td><td>Variable</td><td></td><td><a class=\"ProveItLink\" href=\"../../../../__pv_it/5811dd9d8dc299df1f3b81f9eaa4740e636c675a0/expr.ipynb\"><img src=\"data:image/png;base64,iVBORw0KGgoAAAANSUhEUgAAAAoAAAAJBAMAAAD5iKAgAAAALVBMVEX///+YmJhEREQyMjKqqqrM\n",
       "zMxUVFQiIiK6urqIiIgQEBBmZmZ2dnbu7u4AAABVoMxuAAAAAXRSTlMAQObYZgAAAD9JREFUCNdj\n",
       "4D19gHclAw/HA94yhhDuAgZvhgtcExhCGBj8LjDMZWDYzMBwgIFBm4EjgIHhEMNNBgaGaycFGACC\n",
       "yA2Zs1YJSAAAAABJRU5ErkJggg==\n",
       "\" style=\"display:inline;vertical-align:middle;\" /></a></td></tr>\n",
       "<tr><td>4</td><td>Variable</td><td></td><td><a class=\"ProveItLink\" href=\"../../../../__pv_it/75e452494c4801e076f090988fd69716611d31190/expr.ipynb\"><img src=\"data:image/png;base64,iVBORw0KGgoAAAANSUhEUgAAAA8AAAAJBAMAAAAfoWtkAAAAMFBMVEX///+IiIgiIiLMzMyqqqpU\n",
       "VFRERES6urrc3NwQEBAyMjKYmJhmZmZ2dnbu7u4AAADdI688AAAAAXRSTlMAQObYZgAAAFRJREFU\n",
       "CNdj4LtzgWEXw84GBh72DwypDP4ODCY8Cgy/GdgMGB5wCjD/YOBlYGCof8A4Acw4xcAWwNACZKQy\n",
       "MF1gEAAyrjFYHuDYAGTwXJTLlWZgAAAtGRIpnQ418wAAAABJRU5ErkJggg==\n",
       "\" style=\"display:inline;vertical-align:middle;\" /></a></td></tr>\n",
       "<tr><td>5</td><td>Variable</td><td></td><td><a class=\"ProveItLink\" href=\"../../../../__pv_it/530be409e3083890784cf1d7b28c9e67e90af9360/expr.ipynb\"><img src=\"data:image/png;base64,iVBORw0KGgoAAAANSUhEUgAAAAsAAAAJBAMAAAAWSsseAAAAKlBMVEX///9ERETMzMwQEBAiIiKY\n",
       "mJju7u5mZmaqqqpUVFSIiIh2dnbc3NwAAAA/vyDhAAAAAXRSTlMAQObYZgAAAENJREFUCNdjYDi9\n",
       "8sTyBQxsG1hdmR0YuBm4LnAoMLAxcAowgADzAjB1VoEhgYH1wFoGrgSG3gBhhlMMDImrs3cFMAAA\n",
       "t0YN+iTRa+sAAAAASUVORK5CYII=\n",
       "\" style=\"display:inline;vertical-align:middle;\" /></a></td></tr>\n",
       "<tr><td>6</td><td>Variable</td><td></td><td><a class=\"ProveItLink\" href=\"../../../../__pv_it/f8b9edf8e16034727f0aad55bb83e392c3db40d40/expr.ipynb\"><img src=\"data:image/png;base64,iVBORw0KGgoAAAANSUhEUgAAAAsAAAANBAMAAACN24kIAAAAMFBMVEX///+YmJhUVFQyMjIQEBBE\n",
       "REQiIiKqqqrMzMyIiIi6urrc3NxmZmZ2dnbu7u4AAADXeCicAAAAAXRSTlMAQObYZgAAAFhJREFU\n",
       "CNdj4LtzgWH/AwZerg8M8xkY2nkSGEIZGB6wTGD4ycDAUP+A4weQOszA6QCkbBhYFYDUIYb1AkDq\n",
       "6czzGxhA4BoQMyXwuQMptgusF4AU+8xTQBIAUqMVoSp/SLMAAAAASUVORK5CYII=\n",
       "\" style=\"display:inline;vertical-align:middle;\" /></a></td></tr>\n",
       "<tr><td>7</td><td>Variable</td><td></td><td><a class=\"ProveItLink\" href=\"../../../../__pv_it/251502494639118b4892de8e9d720a5fcce840e10/expr.ipynb\"><img src=\"data:image/png;base64,iVBORw0KGgoAAAANSUhEUgAAAAoAAAAJBAMAAAD5iKAgAAAALVBMVEX///8yMjLMzMx2dnaqqqpU\n",
       "VFTu7u5mZmaYmJhERESIiIjc3NwQEBC6uroAAAB+iRisAAAAAXRSTlMAQObYZgAAADlJREFUCNdj\n",
       "YOA9c2EXA8POrvIJDAwJDKkJDAwM3AFAguE6iGAxAJHODAwBDEwSFY0XGNgZ+o4wAABKtAsIcBKm\n",
       "agAAAABJRU5ErkJggg==\n",
       "\" style=\"display:inline;vertical-align:middle;\" /></a></td></tr>\n",
       "<tr><td>8</td><td>Literal</td><td></td><td><a class=\"ProveItLink\" href=\"../../../exponentiation/__pv_it/deb2bf23cbccdd6e6791e1b35b5b9794ce12dbd50/expr.ipynb\"><img src=\"data:image/png;base64,iVBORw0KGgoAAAANSUhEUgAAACgAAAASBAMAAADbMYGVAAAAMFBMVEX///8QEBAiIiKYmJjc3Nzu\n",
       "7u7MzMx2dnZmZma6urpERESqqqoyMjJUVFSIiIgAAAAoDOMTAAAAAXRSTlMAQObYZgAAAOBJREFU\n",
       "GNNjYGB4+//u3Tt/GNAASGAXmhjnPyDBgSbI/g1IxKEJ8nxgYGdgQRPkX8BgDKRY6q7s62OYvmze\n",
       "2wAgb/7ZO1+AVDiDkYEQQ0HTBr4DQF59AgOIKmB4z7CNbcNZBu6vQN55kEACQwDDLQYGVobfDHwg\n",
       "fb8YGBxYHwAZciD3fWXg+gB1JjvQcJZvQIXsCgz8F6DO9GBgMOH7wPCUgaeBwd4B7EwGNjUG7s9c\n",
       "AiwPgO5jkWRgiF3/9+5dfQUG1nWl5Y+B7pv+1gE9bBhqGLCAE1jEWH9jEbT5A3IwAC4sP/1L6Qlu\n",
       "AAAAAElFTkSuQmCC\n",
       "\" style=\"display:inline;vertical-align:middle;\" /></a></td></tr>\n",
       "<tr><td>9</td><td>ExprTuple</td><td>10, 11</td><td><a class=\"ProveItLink\" href=\"../32922e44df864acc37a8b06208a2d1e34ec4ec920/expr.ipynb\"><img src=\"data:image/png;base64,iVBORw0KGgoAAAANSUhEUgAAAFIAAAAVBAMAAAAnX6R8AAAAMFBMVEX////c3NwiIiJERESqqqqY\n",
       "mJh2dnZmZmYQEBDu7u4yMjJUVFTMzMyIiIi6uroAAAAs73DqAAAAAXRSTlMAQObYZgAAATpJREFU\n",
       "KM9jYCAe8F0gQhHrAyBxmoF1vfGvFWvhojwb0JQxT2BgqAHSK4FMxg08JgthEkwGqAo57YEquRgY\n",
       "eC+AVBYwWArDZG5AVXIKQKjd+4EqWRMYOCZAVOYwQxUyRkFVssA8cB+ohLOB4RUDmko2LmwqGUwY\n",
       "yqAqd8JsD8SuMp1hKUQlnyrUR5wXsKv0YugDq2xSWgKznAG7yhcM/8Aq6wosocI+OFSeh6osqDsN\n",
       "tTwBopJ91apFXatWbUBS2QJRyTU3AGLQ7t37uy9gtd0UopJnwx4GhglgCQ6stkcBfQ8JpRRmAc5P\n",
       "eFSmMzxiAKWQzwe4rL5w9oPij23/9wAUleX9y4EC6xg4BJASoAByymBBTo7A2ARGPSIV4k64bBfA\n",
       "qQ67ShQwC4ilEVw8qX8jKJURkzt4DzAAAFbSX5DxunhRAAAAAElFTkSuQmCC\n",
       "\" style=\"display:inline;vertical-align:middle;\" /></a></td></tr>\n",
       "<tr><td>10</td><td>Literal</td><td></td><td><a class=\"ProveItLink\" href=\"../../../sets/real/__pv_it/9e7645ee1117062e179dd6264898f99ed95b157c0/expr.ipynb\"><img src=\"data:image/png;base64,iVBORw0KGgoAAAANSUhEUgAAAA8AAAAOBAMAAAACpFvcAAAAMFBMVEX///8iIiK6urp2dnbu7u5m\n",
       "ZmaqqqrMzMxUVFTc3NyIiIgQEBBEREQyMjKYmJgAAAA9nvXMAAAAAXRSTlMAQObYZgAAAFJJREFU\n",
       "CNdjePvn/N29CxiA4MAMhprcCSDGVAYezwMQBnMBOoMDJqX4Fqx4tqBsAlj7VFUeBwiDVb0BwmC4\n",
       "sg7KqOAogJqTcJKBAWjpcYY79xMAyqEnfsw4ApEAAAAASUVORK5CYII=\n",
       "\" style=\"display:inline;vertical-align:middle;\" /></a></td></tr>\n",
       "<tr><td>11</td><td>Operation</td><td>operator:&nbsp;12<br>operands:&nbsp;13<br></td><td><a class=\"ProveItLink\" href=\"../740c2287fe0f727beb5bcb53a581364f59e0e26e0/expr.ipynb\"><img src=\"data:image/png;base64,iVBORw0KGgoAAAANSUhEUgAAACwAAAAQBAMAAACfEoDkAAAAMFBMVEX///+6urpmZmaqqqru7u52\n",
       "dnYyMjKYmJjc3NwQEBCIiIhEREQiIiJUVFTMzMwAAACQ7J58AAAAAXRSTlMAQObYZgAAAGxJREFU\n",
       "GNNjYGBgeMuABraAydNoot5fQCTXbCjXA0L53gULt2dDha2gNBdYOACrMHsDVmEvBqzCAViFmR9g\n",
       "FXZlgAirpaWdTEvLhQnb3r378xY2BzLMZiBBOPa/Ooowk+Y3deQgsmLACqQQTAALqSQHK6OXNQAA\n",
       "AABJRU5ErkJggg==\n",
       "\" style=\"display:inline;vertical-align:middle;\" /></a></td></tr>\n",
       "<tr><td>12</td><td>Literal</td><td></td><td><a class=\"ProveItLink\" href=\"../../../addition/__pv_it/3e6688136fa3c7aefbebe51301b7c3ebf0b69c440/expr.ipynb\"><img src=\"data:image/png;base64,iVBORw0KGgoAAAANSUhEUgAAAA4AAAAOBAMAAADtZjDiAAAAJFBMVEX///+6urpUVFQQEBAiIiIy\n",
       "MjJmZmaIiIiqqqrc3Nzu7u4AAACgHpL+AAAAAXRSTlMAQObYZgAAAB5JREFUCNdjYGBgWMkAAe2k\n",
       "0Kmhoc6hoUGk6BMHYgAHOwjcado9fwAAAABJRU5ErkJggg==\n",
       "\" style=\"display:inline;vertical-align:middle;\" /></a></td></tr>\n",
       "<tr><td>13</td><td>ExprTuple</td><td>14, 15</td><td><a class=\"ProveItLink\" href=\"../7400382b44a7dab36babc73a403858512c8239a80/expr.ipynb\"><img src=\"data:image/png;base64,iVBORw0KGgoAAAANSUhEUgAAACkAAAAVBAMAAAAp9toTAAAAMFBMVEX////c3NwiIiJERESqqqqY\n",
       "mJh2dnZmZmYQEBDu7u4yMjJUVFTMzMyIiIi6uroAAAAs73DqAAAAAXRSTlMAQObYZgAAANJJREFU\n",
       "GNNjYMAO+C6gCcSBiNNwAgQsGRjYDwDplSCOMlRw8k8gsYCBgRdkAG8zRHD2bpBoGAMDxwQgLboY\n",
       "qpYXJDqDgeEViJOAIsrswFAGpFgFUETZChiWAqm5DCiiLAsY+kAGoIryNTD8A8odQBXl+QASncaA\n",
       "IdrCwOC9e/ePvagmmIJ5QF9MgIuyLmBIh4pyfkJ22SMQJ/t/KWe/ADBgKn6VMjBwPWDgEICFKIwB\n",
       "8jFrApTNCg/gXFhIIotyAkOSQRrKgUcJN8goRvQYusPAAACiyDrRkNW4KwAAAABJRU5ErkJggg==\n",
       "\" style=\"display:inline;vertical-align:middle;\" /></a></td></tr>\n",
       "<tr><td>14</td><td>Literal</td><td></td><td><a class=\"ProveItLink\" href=\"../../../numeral/__pv_it/23412ce59ea7e77353d2f9225e02248e73651ca00/expr.ipynb\"><img src=\"data:image/png;base64,iVBORw0KGgoAAAANSUhEUgAAAAoAAAAPBAMAAAAv0UM9AAAALVBMVEX///9mZmaqqqru7u52dnYy\n",
       "MjKYmJjc3NwQEBCIiIhEREQiIiJUVFTMzMwAAACUDTcXAAAAAXRSTlMAQObYZgAAAD5JREFUCNdj\n",
       "YGBguMMAArtABGcXiCyLApEOIJKtAERaMoBIBxDJdAFEmjCASJ0zZ16cBCkF64KQPu/EwBwGACv6\n",
       "DSRgin9qAAAAAElFTkSuQmCC\n",
       "\" style=\"display:inline;vertical-align:middle;\" /></a></td></tr>\n",
       "<tr><td>15</td><td>Literal</td><td></td><td><a class=\"ProveItLink\" href=\"../../../numeral/__pv_it/9be8badea4c35b9724062cecc501d17a3158d1d20/expr.ipynb\"><img src=\"data:image/png;base64,iVBORw0KGgoAAAANSUhEUgAAAAgAAAAPBAMAAAArJJMAAAAAHlBMVEX///+YmJgyMjIQEBBmZmaI\n",
       "iIhUVFTu7u5EREQAAAAw+MI4AAAAAXRSTlMAQObYZgAAACFJREFUCNdjYGBoZ2BgqJjOwFCWBiQY\n",
       "WEklWJwnOTKAAACjEQo8HvEr3AAAAABJRU5ErkJggg==\n",
       "\" style=\"display:inline;vertical-align:middle;\" /></a></td></tr>\n",
       "</table>\n"
      ],
      "text/plain": [
       "0. ((v , w , x , y , z) , Reals^{4 + 1})\n",
       "   core type: ExprTuple\n",
       "   sub-expressions: 1, 2\n",
       "1. (v , w , x , y , z)\n",
       "   core type: ExprTuple\n",
       "   sub-expressions: 3, 4, 5, 6, 7\n",
       "2. Reals^{4 + 1}\n",
       "   core type: Operation\n",
       "   operator: 8\n",
       "   operands: 9\n",
       "3. v\n",
       "   core type: Variable\n",
       "   sub-expressions: \n",
       "4. w\n",
       "   core type: Variable\n",
       "   sub-expressions: \n",
       "5. x\n",
       "   core type: Variable\n",
       "   sub-expressions: \n",
       "6. y\n",
       "   core type: Variable\n",
       "   sub-expressions: \n",
       "7. z\n",
       "   core type: Variable\n",
       "   sub-expressions: \n",
       "8. Exp\n",
       "   core type: Literal\n",
       "   sub-expressions: \n",
       "9. (Reals , 4 + 1)\n",
       "   core type: ExprTuple\n",
       "   sub-expressions: 10, 11\n",
       "10. Reals\n",
       "    core type: Literal\n",
       "    sub-expressions: \n",
       "11. 4 + 1\n",
       "    core type: Operation\n",
       "    operator: 12\n",
       "    operands: 13\n",
       "12. +\n",
       "    core type: Literal\n",
       "    sub-expressions: \n",
       "13. (4 , 1)\n",
       "    core type: ExprTuple\n",
       "    sub-expressions: 14, 15\n",
       "14. 4\n",
       "    core type: Literal\n",
       "    sub-expressions: \n",
       "15. 1\n",
       "    core type: Literal\n",
       "    sub-expressions: "
      ]
     },
     "execution_count": 4,
     "metadata": {},
     "output_type": "execute_result"
    }
   ],
   "source": [
    "# display the expression information\n",
    "expr.exprInfo()"
   ]
  },
  {
   "cell_type": "code",
   "execution_count": null,
   "metadata": {},
   "outputs": [],
   "source": []
  }
 ],
 "metadata": {
  "kernelspec": {
   "display_name": "Python 3",
   "language": "python",
   "name": "python3"
  }
 },
 "nbformat": 4,
 "nbformat_minor": 0
}
