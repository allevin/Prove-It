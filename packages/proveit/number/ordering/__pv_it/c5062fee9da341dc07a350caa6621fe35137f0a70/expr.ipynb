{
 "cells": [
  {
   "cell_type": "markdown",
   "metadata": {},
   "source": [
    "Expression of type <a class=\"ProveItLink\" href=\"../../../../../../doc/html/api/proveit.logic.Equals.html\">Equals</a>\n",
    "=======================\n",
    "# from context <a class=\"ProveItLink\" href=\"../../_context_.ipynb\">proveit.number.ordering</a>"
   ]
  },
  {
   "cell_type": "code",
   "execution_count": 1,
   "metadata": {},
   "outputs": [],
   "source": [
    "# import Expression classes needed to build the expression\n",
    "from proveit._common_ import u, v\n",
    "from proveit.logic import Equals"
   ]
  },
  {
   "cell_type": "code",
   "execution_count": 2,
   "metadata": {},
   "outputs": [
    {
     "data": {
      "text/html": [
       "<strong id=\"expr\">expr:</strong> <a class=\"ProveItLink\" href=\"expr.ipynb\"><img src=\"data:image/png;base64,iVBORw0KGgoAAAANSUhEUgAAADEAAAAJBAMAAABpm9nvAAAAMFBMVEX///9UVFSYmJgyMjIQEBBE\n",
       "REQiIiKqqqrMzMyIiIi6urrc3NxmZmZ2dnbu7u4AAAC6tZoTAAAAAXRSTlMAQObYZgAAAI5JREFU\n",
       "CNdj4LtzgWH/AwYU8PYsw5MJDDxcHxjmg7iHjUHAEMS8sJ7hmQBDO08CQyiqFo6CYwzsBxgesExg\n",
       "+Ikqw8fgCZRlYKh/wPEDVYaB/R8DJ9DqwwycDiDusTQQSAUxeQwYeIFUDANrgDaqHtYDDCuA1EGG\n",
       "lgsXUGV4A/gmAKmnM6tiG9CcIDuJgQEAUDklpGIa8xMAAAAASUVORK5CYII=\n",
       "\" style=\"display:inline;vertical-align:middle;\" /></a><br>"
      ],
      "text/plain": [
       "expr: u = v"
      ]
     },
     "execution_count": 2,
     "metadata": {},
     "output_type": "execute_result"
    }
   ],
   "source": [
    "# build up the expression from sub-expressions\n",
    "expr = Equals(u, v)"
   ]
  },
  {
   "cell_type": "code",
   "execution_count": 3,
   "metadata": {},
   "outputs": [
    {
     "name": "stdout",
     "output_type": "stream",
     "text": [
      "Passed sanity check: built 'expr' is the same as the stored Expression.\n"
     ]
    }
   ],
   "source": [
    "# check that the built expression is the same as the stored expression\n",
    "%check_expr"
   ]
  },
  {
   "cell_type": "code",
   "execution_count": 4,
   "metadata": {},
   "outputs": [
    {
     "data": {
      "text/html": [
       "<table><tr><th>&nbsp;</th><th>core type</th><th>sub-expressions</th><th>expression</th></tr>\n",
       "<tr><td>0</td><td>Operation</td><td>operator:&nbsp;1<br>operands:&nbsp;2<br></td><td><a class=\"ProveItLink\" href=\"expr.ipynb\"><img src=\"data:image/png;base64,iVBORw0KGgoAAAANSUhEUgAAADEAAAAJBAMAAABpm9nvAAAAMFBMVEX///9UVFSYmJgyMjIQEBBE\n",
       "REQiIiKqqqrMzMyIiIi6urrc3NxmZmZ2dnbu7u4AAAC6tZoTAAAAAXRSTlMAQObYZgAAAI5JREFU\n",
       "CNdj4LtzgWH/AwYU8PYsw5MJDDxcHxjmg7iHjUHAEMS8sJ7hmQBDO08CQyiqFo6CYwzsBxgesExg\n",
       "+Ikqw8fgCZRlYKh/wPEDVYaB/R8DJ9DqwwycDiDusTQQSAUxeQwYeIFUDANrgDaqHtYDDCuA1EGG\n",
       "lgsXUGV4A/gmAKmnM6tiG9CcIDuJgQEAUDklpGIa8xMAAAAASUVORK5CYII=\n",
       "\" style=\"display:inline;vertical-align:middle;\" /></a></td></tr>\n",
       "<tr><td>1</td><td>Literal</td><td></td><td><a class=\"ProveItLink\" href=\"../../../../logic/equality/__pv_it/2fb26078095930560931daa0500ce419a39ea6cd0/expr.ipynb\"><img src=\"data:image/png;base64,iVBORw0KGgoAAAANSUhEUgAAAA4AAAAFBAMAAACHocAhAAAAFVBMVEX///9EREQiIiJUVFQyMjJm\n",
       "ZmYAAADubVkoAAAAAXRSTlMAQObYZgAAABRJREFUCNdjCHEBAWcGXCBICQQUAUpuAwlgGKrkAAAA\n",
       "AElFTkSuQmCC\n",
       "\" style=\"display:inline;vertical-align:middle;\" /></a></td></tr>\n",
       "<tr><td>2</td><td>ExprTuple</td><td>3, 4</td><td><a class=\"ProveItLink\" href=\"../7173576e17046ce422d452e3518436ab496a42c50/expr.ipynb\"><img src=\"data:image/png;base64,iVBORw0KGgoAAAANSUhEUgAAACwAAAAVBAMAAADP3xFXAAAAMFBMVEX////c3NwiIiJERESqqqqY\n",
       "mJh2dnZmZmYQEBDu7u4yMjJUVFTMzMyIiIi6uroAAAAs73DqAAAAAXRSTlMAQObYZgAAAP5JREFU\n",
       "GNNjYMAB+C6gi7A+ABKnMVXWAPFKTGEuBgbeC5jCrAkMHBMwhTkbGF5hc4YJQxlQMj2BQR6iaVoZ\n",
       "wwygqekMSxkY2Pk+MNyHKEt4zzBpAwODF0MfA8MRdgUGY7Aoj0MRA0sBA8MLhn8MDBM4LjD8hdjF\n",
       "0AuUYmA4DxJm8J/A8wdiCMtPBt4JIOEWIKeKgbcBIsy+gIGNAWSIKZA0Z2A2CGQAuYW5gOENkIoC\n",
       "uoWBoZrhREIC5ycgi82AE+TrdIZHQHLyXT+zA5z9AkA7t10FmbWOgUMAHsICSJ4HBgssgOB+Z7uA\n",
       "FLAI4VlALA3jIEJ4IxAzYgQ47wEGADp6N9DlChDHAAAAAElFTkSuQmCC\n",
       "\" style=\"display:inline;vertical-align:middle;\" /></a></td></tr>\n",
       "<tr><td>3</td><td>Variable</td><td></td><td><a class=\"ProveItLink\" href=\"../../../../__pv_it/cb61151e64f13eb1ffaf04f7c62048002baa23fb0/expr.ipynb\"><img src=\"data:image/png;base64,iVBORw0KGgoAAAANSUhEUgAAAAwAAAAJBAMAAAD0ltBnAAAAMFBMVEX///9UVFSYmJgyMjIQEBBE\n",
       "REQiIiKqqqrMzMyIiIi6urrc3NxmZmZ2dnbu7u4AAAC6tZoTAAAAAXRSTlMAQObYZgAAAEZJREFU\n",
       "CNdj4LtzgWH/AwYerg8M8xkY2nkSGEIZGB6wTGD4ycDAUP+A4weQOszA6QCkYhhYA7QZGA4ytFy4\n",
       "wMDwdGZVbAMATvEStS21oZoAAAAASUVORK5CYII=\n",
       "\" style=\"display:inline;vertical-align:middle;\" /></a></td></tr>\n",
       "<tr><td>4</td><td>Variable</td><td></td><td><a class=\"ProveItLink\" href=\"../../../../__pv_it/5811dd9d8dc299df1f3b81f9eaa4740e636c675a0/expr.ipynb\"><img src=\"data:image/png;base64,iVBORw0KGgoAAAANSUhEUgAAAAoAAAAJBAMAAAD5iKAgAAAALVBMVEX///+YmJhEREQyMjKqqqrM\n",
       "zMxUVFQiIiK6urqIiIgQEBBmZmZ2dnbu7u4AAABVoMxuAAAAAXRSTlMAQObYZgAAAD9JREFUCNdj\n",
       "4D19gHclAw/HA94yhhDuAgZvhgtcExhCGBj8LjDMZWDYzMBwgIFBm4EjgIHhEMNNBgaGaycFGACC\n",
       "yA2Zs1YJSAAAAABJRU5ErkJggg==\n",
       "\" style=\"display:inline;vertical-align:middle;\" /></a></td></tr>\n",
       "</table>\n"
      ],
      "text/plain": [
       "0. u = v\n",
       "   core type: Operation\n",
       "   operator: 1\n",
       "   operands: 2\n",
       "1. =\n",
       "   core type: Literal\n",
       "   sub-expressions: \n",
       "2. (u , v)\n",
       "   core type: ExprTuple\n",
       "   sub-expressions: 3, 4\n",
       "3. u\n",
       "   core type: Variable\n",
       "   sub-expressions: \n",
       "4. v\n",
       "   core type: Variable\n",
       "   sub-expressions: "
      ]
     },
     "execution_count": 4,
     "metadata": {},
     "output_type": "execute_result"
    }
   ],
   "source": [
    "# display the expression information\n",
    "expr.exprInfo()"
   ]
  },
  {
   "cell_type": "code",
   "execution_count": null,
   "metadata": {},
   "outputs": [],
   "source": []
  }
 ],
 "metadata": {
  "kernelspec": {
   "display_name": "Python 3",
   "language": "python",
   "name": "python3"
  }
 },
 "nbformat": 4,
 "nbformat_minor": 0
}
