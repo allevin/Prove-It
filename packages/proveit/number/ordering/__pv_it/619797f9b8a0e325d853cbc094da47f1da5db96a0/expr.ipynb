{
 "cells": [
  {
   "cell_type": "markdown",
   "metadata": {},
   "source": [
    "Expression of type <a class=\"ProveItLink\" href=\"../../../../../../doc/html/api/proveit.logic.Set.html\">Set</a>\n",
    "=======================\n",
    "# from context <a class=\"ProveItLink\" href=\"../../_context_.ipynb\">proveit.number.ordering</a>"
   ]
  },
  {
   "cell_type": "code",
   "execution_count": 1,
   "metadata": {},
   "outputs": [],
   "source": [
    "# import Expression classes needed to build the expression\n",
    "from proveit._common_ import w\n",
    "from proveit.logic import InSet, Set\n",
    "from proveit.number import Reals"
   ]
  },
  {
   "cell_type": "code",
   "execution_count": 2,
   "metadata": {},
   "outputs": [
    {
     "data": {
      "text/html": [
       "<strong id=\"expr\">expr:</strong> <a class=\"ProveItLink\" href=\"expr.ipynb\"><img src=\"data:image/png;base64,iVBORw0KGgoAAAANSUhEUgAAAEsAAAAVBAMAAAD85A5eAAAAMFBMVEX///9ERETc3NyqqqpUVFS6\n",
       "urrMzMwyMjIQEBCIiIh2dnYiIiLu7u5mZmaYmJgAAABJJ2g3AAAAAXRSTlMAQObYZgAAASxJREFU\n",
       "KM9jYGDgu8eAD7CtUgBRPLsY8AO2ZhDJ+QG7LF+94PeKShDrOojgasBhCiOTA5twEZCxgoCyCwwy\n",
       "iriU8UzfvbsApmwZIy5l6W+QTENVxrN2AcNzhhcgnzPJIFvqA7eUF2gDL+sHBhEGewOQpAKSMtZ9\n",
       "IC+8B/EyAhgYknk3MPxjYEwAcg8ieaF7dzGIwX6BgSGlDcg4wDGB7RMDF0gsYvduuBeuXoC4QPwB\n",
       "UBxkRvwBzgaIshTkALkK5nEvABIsBeCAZnRgUAaJnUZWxn7yAcxtXBuAhAhIywQQl+UBkjI2BzeU\n",
       "cFvIkHGBCayAZytygCwGeRyhjHflHKl5EFn1a/Co/5jALv4ZV5yaVEN8Cgf4ox5VGR9BZeD0xrOT\n",
       "UOpthbh1MeG8AABOAlZfgEwcqQAAAABJRU5ErkJggg==\n",
       "\" style=\"display:inline;vertical-align:middle;\" /></a><br>"
      ],
      "text/plain": [
       "expr: {w in Reals}"
      ]
     },
     "execution_count": 2,
     "metadata": {},
     "output_type": "execute_result"
    }
   ],
   "source": [
    "# build up the expression from sub-expressions\n",
    "expr = Set(InSet(w, Reals))"
   ]
  },
  {
   "cell_type": "code",
   "execution_count": 3,
   "metadata": {},
   "outputs": [
    {
     "name": "stdout",
     "output_type": "stream",
     "text": [
      "Passed sanity check: built 'expr' is the same as the stored Expression.\n"
     ]
    }
   ],
   "source": [
    "# check that the built expression is the same as the stored expression\n",
    "%check_expr"
   ]
  },
  {
   "cell_type": "code",
   "execution_count": 4,
   "metadata": {},
   "outputs": [
    {
     "data": {
      "text/html": [
       "<table><tr><th>&nbsp;</th><th>core type</th><th>sub-expressions</th><th>expression</th></tr>\n",
       "<tr><td>0</td><td>Operation</td><td>operator:&nbsp;1<br>operands:&nbsp;2<br></td><td><a class=\"ProveItLink\" href=\"expr.ipynb\"><img src=\"data:image/png;base64,iVBORw0KGgoAAAANSUhEUgAAAEsAAAAVBAMAAAD85A5eAAAAMFBMVEX///9ERETc3NyqqqpUVFS6\n",
       "urrMzMwyMjIQEBCIiIh2dnYiIiLu7u5mZmaYmJgAAABJJ2g3AAAAAXRSTlMAQObYZgAAASxJREFU\n",
       "KM9jYGDgu8eAD7CtUgBRPLsY8AO2ZhDJ+QG7LF+94PeKShDrOojgasBhCiOTA5twEZCxgoCyCwwy\n",
       "iriU8UzfvbsApmwZIy5l6W+QTENVxrN2AcNzhhcgnzPJIFvqA7eUF2gDL+sHBhEGewOQpAKSMtZ9\n",
       "IC+8B/EyAhgYknk3MPxjYEwAcg8ieaF7dzGIwX6BgSGlDcg4wDGB7RMDF0gsYvduuBeuXoC4QPwB\n",
       "UBxkRvwBzgaIshTkALkK5nEvABIsBeCAZnRgUAaJnUZWxn7yAcxtXBuAhAhIywQQl+UBkjI2BzeU\n",
       "cFvIkHGBCayAZytygCwGeRyhjHflHKl5EFn1a/Co/5jALv4ZV5yaVEN8Cgf4ox5VGR9BZeD0xrOT\n",
       "UOpthbh1MeG8AABOAlZfgEwcqQAAAABJRU5ErkJggg==\n",
       "\" style=\"display:inline;vertical-align:middle;\" /></a></td></tr>\n",
       "<tr><td>1</td><td>Literal</td><td></td><td><a class=\"ProveItLink\" href=\"../../../../logic/set_theory/enumeration/__pv_it/07381ed5b23806e8d7914b78cb6667769e3708dd0/expr.ipynb\"><img src=\"data:image/png;base64,iVBORw0KGgoAAAANSUhEUgAAAB4AAAAOBAMAAADKyLEKAAAAMFBMVEX///8iIiIQEBCIiIjMzMzc\n",
       "3Nyqqqp2dnZEREQyMjK6urru7u5mZmZUVFSYmJgAAACI6eGPAAAAAXRSTlMAQObYZgAAALRJREFU\n",
       "CNdjYGDgu3Nm3wIGBJjHwN0PZW5yYGDgLWBgyITy8zcwMMQDxZyh/INAvD6BgcEFypcB4vjPDiBm\n",
       "TPFRrhs/LjMwMP//38rAwCbKEMPA9gEkE3fp0waG+AUMRxh4JkC01T9guPTOOICBEWgVH5C//wHD\n",
       "H5D4fqCz9oCMDGD4DLaegRXslLMMDMpAgxlOMmQxHDRgYG5gYLBk4D7KcIe7gOHC2rt9QCXsh40Z\n",
       "GCKMGQDRkC8N/Ph1XAAAAABJRU5ErkJggg==\n",
       "\" style=\"display:inline;vertical-align:middle;\" /></a></td></tr>\n",
       "<tr><td>2</td><td>ExprTuple</td><td>3</td><td><a class=\"ProveItLink\" href=\"../d17dd2b3c114b567650b389cbcc5809bb5ef286e0/expr.ipynb\"><img src=\"data:image/png;base64,iVBORw0KGgoAAAANSUhEUgAAAEQAAAAVBAMAAAAN71XTAAAAMFBMVEX////c3NwiIiJERESqqqqY\n",
       "mJh2dnZmZmYQEBDu7u4yMjJUVFTMzMyIiIi6uroAAAAs73DqAAAAAXRSTlMAQObYZgAAAT9JREFU\n",
       "KM9jYCAC8F3AJ8v6AEicxi613vjXirVARg0Qr8SunZlxA4/JQgYGLgYG3gu4lBQwWAoDjUtg4JiA\n",
       "IsN5S0lpAUxJDjNQoIHhFarmU5FIpoCUMJgwlAEVpicwRDFECAD5jJbIFu0EWsSQzrCUgYGd7wOD\n",
       "NYO/A0hCAEkJnyrQuQxeDH0MDEfYFRi+MjAfAPInIzm3SWkJiPGC4R8DwwSOCzwfGdjAfCUluHPr\n",
       "CsC2ngcpYXg/gbcBouQ0sqfrTkOUtADJKgbmDQwiIP4kZCVccwPAFpkCSWsGpgQGcBByByAp4dmw\n",
       "B8iIAvqJgSGZ4UQBI1iSUw/Z0ykgD6YzPAJy2XNvml2FyEjVwKPx8wEuqy8MDOsYOARQg9d7EcRH\n",
       "8BhpAEUTXsB2AWdigIFZQCyNX8lGUMzhTZi8BxgA/AFJn6R/C+kAAAAASUVORK5CYII=\n",
       "\" style=\"display:inline;vertical-align:middle;\" /></a></td></tr>\n",
       "<tr><td>3</td><td>Operation</td><td>operator:&nbsp;4<br>operands:&nbsp;5<br></td><td><a class=\"ProveItLink\" href=\"../7994cbc21e1d340ea8d2183d1281b75e1daeb7a70/expr.ipynb\"><img src=\"data:image/png;base64,iVBORw0KGgoAAAANSUhEUgAAADgAAAAPBAMAAABD1xE4AAAAMFBMVEX///+IiIgiIiLMzMyqqqpU\n",
       "VFRERES6urrc3NwQEBAyMjKYmJhmZmZ2dnbu7u4AAADdI688AAAAAXRSTlMAQObYZgAAANJJREFU\n",
       "GNNjYMACuNen/Vq5kAEHYOMIYE5ZgVPyAENeG6oYn5SS0gKY5GU2VEmrfUg6QZJ8dy4w7GLY2QAU\n",
       "4shDNjYOaCwP+weGVAZ/B5BQA5IkuzbQQSY8Cgy/GdgMgELPkBw0SWkJkH7AKcD8g4EXJFSppAR3\n",
       "0PEDYDvqHzBOgEiaInvlOJh3ioEtgKEFxHqELMn1cAOQkcrAdIFBACTEugFJkjkgGMi4xmB5gAMs\n",
       "zKeO7JUrIMfzXJTLlYaIdR2GB/w3A66sL6hB5LoI4looAAAiqjjI7yImGgAAAABJRU5ErkJggg==\n",
       "\" style=\"display:inline;vertical-align:middle;\" /></a></td></tr>\n",
       "<tr><td>4</td><td>Literal</td><td></td><td><a class=\"ProveItLink\" href=\"../../../../logic/set_theory/membership/__pv_it/088cbc857536a28d4119ad9639a84270ccb0545d0/expr.ipynb\"><img src=\"data:image/png;base64,iVBORw0KGgoAAAANSUhEUgAAAAwAAAAMBAMAAACkW0HUAAAALVBMVEX///+qqqpmZmZUVFQQEBC6\n",
       "urpERETc3NyYmJjMzMwiIiIyMjKIiIju7u4AAACYsrA9AAAAAXRSTlMAQObYZgAAADxJREFUCNdj\n",
       "YOA9vWrVBgaG2b0MQMCeCyIZ2ArA1DUwyRCyahVIyWQI7xaEYm4AU7xLIdxqTQgtvGvVBgCkcQ7e\n",
       "geM/tQAAAABJRU5ErkJggg==\n",
       "\" style=\"display:inline;vertical-align:middle;\" /></a></td></tr>\n",
       "<tr><td>5</td><td>ExprTuple</td><td>6, 7</td><td><a class=\"ProveItLink\" href=\"../cf7c1bba227b4a6fed68bc7aa0ea85ae219f62570/expr.ipynb\"><img src=\"data:image/png;base64,iVBORw0KGgoAAAANSUhEUgAAADQAAAAVBAMAAAD7ptBLAAAAMFBMVEX////c3NwiIiJERESqqqqY\n",
       "mJh2dnZmZmYQEBDu7u4yMjJUVFTMzMyIiIi6uroAAAAs73DqAAAAAXRSTlMAQObYZgAAASNJREFU\n",
       "KM9jYMAD+C5gE2V9ACROowqtN/61Yi2QUQPEK1GVMzNu4DFZyMDAxcDAewFdqoDBUhioPYGBYwKm\n",
       "VA4zAwNnA8MrBuxSDCYMZUAF6QkMUQwRAnCpnUADGdIZljIwsPN9YLBm8HeASfGpAp3B4MXQx8Bw\n",
       "hF2B4SsD8wGoVJPSEhDjBcM/BoYJHBd4PjKwweyqK7AEMc6DpBjeT+BtQEgV1J2GSLUAySoG5g0M\n",
       "InAprrkBYANNgaQ1A1MCwwUGTqgUz4Y9QEYU0I0MDMkMJwoYAxjmK0Adn8IsAHL8IyCXPfem2VUG\n",
       "hhkfwcH7+QCX1RcGhnUMHAKIkHiIFCrAgAIGIxwEIEmxXUCJFGSpWUAsDefxIgfzRiBmxJoAeA8w\n",
       "AAAjM0Nw4/TnvgAAAABJRU5ErkJggg==\n",
       "\" style=\"display:inline;vertical-align:middle;\" /></a></td></tr>\n",
       "<tr><td>6</td><td>Variable</td><td></td><td><a class=\"ProveItLink\" href=\"../../../../__pv_it/75e452494c4801e076f090988fd69716611d31190/expr.ipynb\"><img src=\"data:image/png;base64,iVBORw0KGgoAAAANSUhEUgAAAA8AAAAJBAMAAAAfoWtkAAAAMFBMVEX///+IiIgiIiLMzMyqqqpU\n",
       "VFRERES6urrc3NwQEBAyMjKYmJhmZmZ2dnbu7u4AAADdI688AAAAAXRSTlMAQObYZgAAAFRJREFU\n",
       "CNdj4LtzgWEXw84GBh72DwypDP4ODCY8Cgy/GdgMGB5wCjD/YOBlYGCof8A4Acw4xcAWwNACZKQy\n",
       "MF1gEAAyrjFYHuDYAGTwXJTLlWZgAAAtGRIpnQ418wAAAABJRU5ErkJggg==\n",
       "\" style=\"display:inline;vertical-align:middle;\" /></a></td></tr>\n",
       "<tr><td>7</td><td>Literal</td><td></td><td><a class=\"ProveItLink\" href=\"../../../sets/real/__pv_it/9e7645ee1117062e179dd6264898f99ed95b157c0/expr.ipynb\"><img src=\"data:image/png;base64,iVBORw0KGgoAAAANSUhEUgAAAA8AAAAOBAMAAAACpFvcAAAAMFBMVEX///8iIiK6urp2dnbu7u5m\n",
       "ZmaqqqrMzMxUVFTc3NyIiIgQEBBEREQyMjKYmJgAAAA9nvXMAAAAAXRSTlMAQObYZgAAAFJJREFU\n",
       "CNdjePvn/N29CxiA4MAMhprcCSDGVAYezwMQBnMBOoMDJqX4Fqx4tqBsAlj7VFUeBwiDVb0BwmC4\n",
       "sg7KqOAogJqTcJKBAWjpcYY79xMAyqEnfsw4ApEAAAAASUVORK5CYII=\n",
       "\" style=\"display:inline;vertical-align:middle;\" /></a></td></tr>\n",
       "</table>\n"
      ],
      "text/plain": [
       "0. {w in Reals}\n",
       "   core type: Operation\n",
       "   operator: 1\n",
       "   operands: 2\n",
       "1. Set\n",
       "   core type: Literal\n",
       "   sub-expressions: \n",
       "2. (w in Reals)\n",
       "   core type: ExprTuple\n",
       "   sub-expressions: 3\n",
       "3. w in Reals\n",
       "   core type: Operation\n",
       "   operator: 4\n",
       "   operands: 5\n",
       "4. in\n",
       "   core type: Literal\n",
       "   sub-expressions: \n",
       "5. (w , Reals)\n",
       "   core type: ExprTuple\n",
       "   sub-expressions: 6, 7\n",
       "6. w\n",
       "   core type: Variable\n",
       "   sub-expressions: \n",
       "7. Reals\n",
       "   core type: Literal\n",
       "   sub-expressions: "
      ]
     },
     "execution_count": 4,
     "metadata": {},
     "output_type": "execute_result"
    }
   ],
   "source": [
    "# display the expression information\n",
    "expr.exprInfo()"
   ]
  },
  {
   "cell_type": "code",
   "execution_count": null,
   "metadata": {},
   "outputs": [],
   "source": []
  }
 ],
 "metadata": {
  "kernelspec": {
   "display_name": "Python 3",
   "language": "python",
   "name": "python3"
  }
 },
 "nbformat": 4,
 "nbformat_minor": 0
}
