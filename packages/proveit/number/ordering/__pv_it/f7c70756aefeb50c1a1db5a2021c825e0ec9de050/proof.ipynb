{
 "cells": [
  {
   "cell_type": "markdown",
   "metadata": {},
   "source": [
    "Show the Proof\n",
    "========"
   ]
  },
  {
   "cell_type": "code",
   "execution_count": 1,
   "metadata": {},
   "outputs": [
    {
     "data": {
      "text/html": [
       "<table><tr><th>&nbsp;</th><th>step type</th><th>requirements</th><th>statement</th></tr>\n",
       "<tr><td>0</td><td>assumption</td><td></td><td><span style=\"font-size:20px;\"><a class=\"ProveItLink\" href=\"../8030885e060c4324fa8350dabc3158f4f8f7f3cc0/expr.ipynb\"><img src=\"data:image/png;base64,iVBORw0KGgoAAAANSUhEUgAAAEIAAAAVBAMAAAAA8SWUAAAAMFBMVEX////c3NxERESqqqpUVFS6\n",
       "urrMzMwyMjIQEBCIiIh2dnYiIiLu7u5mZmaYmJgAAABXZE4RAAAAAXRSTlMAQObYZgAAARhJREFU\n",
       "KM9jYGDgu8eAC2QtBJE8uxhwgwwDIMH5gYHhSDcOFbwFQIKrAUiU4FABlgQTn5FEZROwqGD9gxBM\n",
       "KcVmBtcGuFi4G1Zb2D2nPIAImV+EyjF6Lm2EqgA597wCwzew+Ow1MN0RAkxAT/J9AHk5gIHB/gBD\n",
       "F0h49QSYAsZ/DLwKQLoW6LA2IH2dgeEvKPCUAmAqWD4wcIOUM9UBjQN6bi8D6z+QOJu7AVQFvwLD\n",
       "eZCvQQHOUgAKDl6IfxlvQ10sP4HBnuEAxB0gn35j4FgAkeFZPQdMnzdgcGdOQPjWmeEKPAheg73D\n",
       "/oB5LxdSeByZ+wARSuYJ4OCYmjQVOV4YCMYcXhV8+FSA0wfPTnxpDByEfIvxplMAMv9IpSEvnrsA\n",
       "AAAASUVORK5CYII=\n",
       "\" style=\"display:inline;vertical-align:middle;\" /></a> <a class=\"ProveItLink\" href=\"proof.ipynb\" style=\"text-decoration: none\">&#x22A2;&nbsp;</a><a class=\"ProveItLink\" href=\"../5e14c26c9075c845734b5ab089116fd996bec4930/expr.ipynb\"><img src=\"data:image/png;base64,iVBORw0KGgoAAAANSUhEUgAAADAAAAAOBAMAAACbXIJpAAAAMFBMVEX////c3NxmZmbMzMxERESY\n",
       "mJiIiIh2dna6urqqqqoyMjIiIiIQEBBUVFTu7u4AAAAiO1wTAAAAAXRSTlMAQObYZgAAALdJREFU\n",
       "GNNj4LuzgQE74LqAQ4J/AoLNqIwk0f8AzmS+1YAkUQ1ncaw1QDZqbdpVCINzkQBUSDa9R4CB7wsD\n",
       "P1gh23aYmRwHGfyB6v4x8BQAeezb4GbIBzCoMDAwLWDgVwDynnjAJe4zMABVcSsw9AeAuLYrYRJf\n",
       "GPg+g72hDzFcaCvUM98YOD/wgWw+DlX5fBtYBd9PBt4Fkxl4JzDBw4QV4rClDLMVChj4rqki/MS5\n",
       "GOyNtGa3BgCICywAMzVEAgAAAABJRU5ErkJggg==\n",
       "\" style=\"display:inline;vertical-align:middle;\" /></a></span></td></tr>\n",
       "</table>"
      ],
      "text/plain": [
       "<proveit._core_.proof._ShowProof at 0x7f94e79429e8>"
      ]
     },
     "execution_count": 1,
     "metadata": {},
     "output_type": "execute_result"
    }
   ],
   "source": [
    "import proveit\n",
    "%show_proof"
   ]
  },
  {
   "cell_type": "code",
   "execution_count": null,
   "metadata": {},
   "outputs": [],
   "source": []
  }
 ],
 "metadata": {
  "kernelspec": {
   "display_name": "Python 3",
   "language": "python",
   "name": "python3"
  }
 },
 "nbformat": 4,
 "nbformat_minor": 0
}
