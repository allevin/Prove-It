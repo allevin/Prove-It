{
 "cells": [
  {
   "cell_type": "markdown",
   "metadata": {},
   "source": [
    "Expression of type <a class=\"ProveItLink\" href=\"../../../../../../doc/html/api/proveit.ExprTuple.html\">ExprTuple</a>\n",
    "=======================\n",
    "# from context <a class=\"ProveItLink\" href=\"../../_context_.ipynb\">proveit.number.ordering</a>"
   ]
  },
  {
   "cell_type": "code",
   "execution_count": 1,
   "metadata": {},
   "outputs": [],
   "source": [
    "# import Expression classes needed to build the expression\n",
    "from proveit import ExprTuple\n",
    "from proveit._common_ import x, y\n",
    "from proveit.logic import InSet\n",
    "from proveit.number import GreaterEq, Reals"
   ]
  },
  {
   "cell_type": "code",
   "execution_count": 2,
   "metadata": {},
   "outputs": [
    {
     "data": {
      "text/html": [
       "<strong id=\"expr\">expr:</strong> <a class=\"ProveItLink\" href=\"expr.ipynb\"><img src=\"data:image/png;base64,iVBORw0KGgoAAAANSUhEUgAAAHsAAAAVBAMAAACUF4xmAAAAMFBMVEX////c3NwiIiJERESqqqqY\n",
       "mJh2dnZmZmYQEBDu7u4yMjJUVFTMzMyIiIi6uroAAAAs73DqAAAAAXRSTlMAQObYZgAAAehJREFU\n",
       "OMtjYKAQ8F0gV2cciDiNRYJ1vfGvFWsJaWc/ACRWYpNhZtzAY7IQVYxTbQKaqgUMDLwXsGsvYLAU\n",
       "RhNkWS6AKhDGwMCBbCTnLSWlBTDtOcwYwWR9AIU/g4HhFTL/VCSS7ZjaGXiMH6C40YGhDGhnegKD\n",
       "PMgRjJbIjt8JdTxj7kbfWqg44y6wfqgOtgKGpQwMbHwfGO6DNQkgaedThQbdNIaggCaYBGMRyP1Q\n",
       "HSwLGPoYGI6wKzAYg+QmIwVdk9ISKDsBqNIHHqXqIGdCdfA1MPxjYJjAcYHhL0juhZISPOjqCmA+\n",
       "mcCwGW7sXEjkQXXwfABpZ/CfwPMHNQUBHV+H4PXCGNN0oQyIDqD2FiCnioG3ASQ4CVk719wAmH//\n",
       "MHCCGeKqMHmIDqDjTYGc5QzMG0CC3AFI2nk27AE5nIEhkPcDw02QoPQSuPEQHawLGNKBnGqG92CN\n",
       "nHrIEZfCLMD5CRi8X5kbGEFJk9EOEeMQHcCIewQK8bv1kCiTqoFnmc8HuKy+cPYLMHDaZqZdRU8/\n",
       "EB1cDxg4wBqToMLeiyAhD0+mAriyWxIk0bImMHArcLbgUMSKXRiqIxecYZkSmBOI0M6oBAagVAvR\n",
       "wQlyqDQDy906XE7EURJBdHCDfMZIdmF1h4EBAAsLemZur28iAAAAAElFTkSuQmCC\n",
       "\" style=\"display:inline;vertical-align:middle;\" /></a><br>"
      ],
      "text/plain": [
       "expr: (y in Reals , x >= y)"
      ]
     },
     "execution_count": 2,
     "metadata": {},
     "output_type": "execute_result"
    }
   ],
   "source": [
    "# build up the expression from sub-expressions\n",
    "expr = ExprTuple(InSet(y, Reals), GreaterEq(x, y))"
   ]
  },
  {
   "cell_type": "code",
   "execution_count": 3,
   "metadata": {},
   "outputs": [
    {
     "name": "stdout",
     "output_type": "stream",
     "text": [
      "Passed sanity check: built 'expr' is the same as the stored Expression.\n"
     ]
    }
   ],
   "source": [
    "# check that the built expression is the same as the stored expression\n",
    "%check_expr"
   ]
  },
  {
   "cell_type": "code",
   "execution_count": 4,
   "metadata": {},
   "outputs": [
    {
     "data": {
      "text/html": [
       "<table><tr><th>&nbsp;</th><th>core type</th><th>sub-expressions</th><th>expression</th></tr>\n",
       "<tr><td>0</td><td>ExprTuple</td><td>1, 2</td><td><a class=\"ProveItLink\" href=\"expr.ipynb\"><img src=\"data:image/png;base64,iVBORw0KGgoAAAANSUhEUgAAAHsAAAAVBAMAAACUF4xmAAAAMFBMVEX////c3NwiIiJERESqqqqY\n",
       "mJh2dnZmZmYQEBDu7u4yMjJUVFTMzMyIiIi6uroAAAAs73DqAAAAAXRSTlMAQObYZgAAAehJREFU\n",
       "OMtjYKAQ8F0gV2cciDiNRYJ1vfGvFWsJaWc/ACRWYpNhZtzAY7IQVYxTbQKaqgUMDLwXsGsvYLAU\n",
       "RhNkWS6AKhDGwMCBbCTnLSWlBTDtOcwYwWR9AIU/g4HhFTL/VCSS7ZjaGXiMH6C40YGhDGhnegKD\n",
       "PMgRjJbIjt8JdTxj7kbfWqg44y6wfqgOtgKGpQwMbHwfGO6DNQkgaedThQbdNIaggCaYBGMRyP1Q\n",
       "HSwLGPoYGI6wKzAYg+QmIwVdk9ISKDsBqNIHHqXqIGdCdfA1MPxjYJjAcYHhL0juhZISPOjqCmA+\n",
       "mcCwGW7sXEjkQXXwfABpZ/CfwPMHNQUBHV+H4PXCGNN0oQyIDqD2FiCnioG3ASQ4CVk719wAmH//\n",
       "MHCCGeKqMHmIDqDjTYGc5QzMG0CC3AFI2nk27AE5nIEhkPcDw02QoPQSuPEQHawLGNKBnGqG92CN\n",
       "nHrIEZfCLMD5CRi8X5kbGEFJk9EOEeMQHcCIewQK8bv1kCiTqoFnmc8HuKy+cPYLMHDaZqZdRU8/\n",
       "EB1cDxg4wBqToMLeiyAhD0+mAriyWxIk0bImMHArcLbgUMSKXRiqIxecYZkSmBOI0M6oBAagVAvR\n",
       "wQlyqDQDy906XE7EURJBdHCDfMZIdmF1h4EBAAsLemZur28iAAAAAElFTkSuQmCC\n",
       "\" style=\"display:inline;vertical-align:middle;\" /></a></td></tr>\n",
       "<tr><td>1</td><td>Operation</td><td>operator:&nbsp;3<br>operands:&nbsp;4<br></td><td><a class=\"ProveItLink\" href=\"../08e54d329855007954b4b165eadb79761c60e3d30/expr.ipynb\"><img src=\"data:image/png;base64,iVBORw0KGgoAAAANSUhEUgAAADMAAAASBAMAAAAEf/uKAAAAMFBMVEX///+YmJhUVFQyMjIQEBBE\n",
       "REQiIiKqqqrMzMyIiIi6urrc3NxmZmZ2dnbu7u4AAADXeCicAAAAAXRSTlMAQObYZgAAANpJREFU\n",
       "GNNjYMAAwl/jjZ0nMGAFAZsYWos3YJfaw8D6OgBZhG9yWpoBVIq3AUWqWQ6hCyzFd+cCw/4HQAHu\n",
       "OCQDmUAG8nJ9YJgPEmDdgCS1TBjIa+dJYAgFCTxFOGNLWnIBkH7AMoHhJ0hgSVoa3BlrWEFWMNQ/\n",
       "4PgBopuQHM+zQgHEOMzA6QCinyH7y24iiGHDwApWwiSAJNXE1ABkHGJYDxbky0KS4i2IBrls5nmI\n",
       "szefgAdvBIOpPciNDNegqovMIC6EAaYEPnfsEcDAdoH1Ag4p9pmncMgAANZZQBgTUDIlAAAAAElF\n",
       "TkSuQmCC\n",
       "\" style=\"display:inline;vertical-align:middle;\" /></a></td></tr>\n",
       "<tr><td>2</td><td>Operation</td><td>operator:&nbsp;5<br>operands:&nbsp;6<br></td><td><a class=\"ProveItLink\" href=\"../efc1dad35444d7c91aa68fe0e586537e482f8de00/expr.ipynb\"><img src=\"data:image/png;base64,iVBORw0KGgoAAAANSUhEUgAAADMAAAASBAMAAAAEf/uKAAAAMFBMVEX///+6uroyMjJERETMzMwQ\n",
       "EBAiIiKYmJju7u5mZmaqqqpUVFSIiIh2dnbc3NwAAAAWgogoAAAAAXRSTlMAQObYZgAAAMxJREFU\n",
       "GNNjYCACcOQ24JTj0nyAU47R2gGnHIuxAAr/7elXJw9A2XybwHIcNy8wvG9g4LjAns6aAFPHNw1k\n",
       "Ji/jB4bzQIqB5wMX3A72TJAzvTgTGIyBmhm4DeCG90A80MB6gOEPiMEKs4mhNwfKWN/A8gVEv3dg\n",
       "gHj2ZTpMzSQGngCg6Q/OM/CApV5rwQ3WZGDeANRbYMrwBuw4Q4SHZjPIFzAwNJ/tvVOA7vfmM/Nx\n",
       "B9o1HOLcCRxRyHy+NDAAhRTbBeYLuKLnzEQgCQCZjjNDxULBwAAAAABJRU5ErkJggg==\n",
       "\" style=\"display:inline;vertical-align:middle;\" /></a></td></tr>\n",
       "<tr><td>3</td><td>Literal</td><td></td><td><a class=\"ProveItLink\" href=\"../../../../logic/set_theory/membership/__pv_it/088cbc857536a28d4119ad9639a84270ccb0545d0/expr.ipynb\"><img src=\"data:image/png;base64,iVBORw0KGgoAAAANSUhEUgAAAAwAAAAMBAMAAACkW0HUAAAALVBMVEX///+qqqpmZmZUVFQQEBC6\n",
       "urpERETc3NyYmJjMzMwiIiIyMjKIiIju7u4AAACYsrA9AAAAAXRSTlMAQObYZgAAADxJREFUCNdj\n",
       "YOA9vWrVBgaG2b0MQMCeCyIZ2ArA1DUwyRCyahVIyWQI7xaEYm4AU7xLIdxqTQgtvGvVBgCkcQ7e\n",
       "geM/tQAAAABJRU5ErkJggg==\n",
       "\" style=\"display:inline;vertical-align:middle;\" /></a></td></tr>\n",
       "<tr><td>4</td><td>ExprTuple</td><td>9, 7</td><td><a class=\"ProveItLink\" href=\"../8e1e3341231126a71cf67a2e1ec08f1ea6911d800/expr.ipynb\"><img src=\"data:image/png;base64,iVBORw0KGgoAAAANSUhEUgAAAC8AAAAVBAMAAAAk6KpUAAAAMFBMVEX////c3NwiIiJERESqqqqY\n",
       "mJh2dnZmZmYQEBDu7u4yMjJUVFTMzMyIiIi6uroAAAAs73DqAAAAAXRSTlMAQObYZgAAASJJREFU\n",
       "KM9jYMAJ+C5gisWBiNNIAlGf7Vd1ARWyHwByViIrNZBmOOwlwMCwgIGBF8UkA3EG5okGDAxhDAwc\n",
       "E9Ak2A4AJWYwMLxiwCbB7MBQxsDAmZ7AID8BJsENMoqtgGEpkOT7wHAfruNRFNBylgUMfQwMR9gV\n",
       "GIyhEhJKWg4gzzUw/GNgmMBxgeEvTMdzZpChPB9AEgz+E3j+wCTY32yASLQAqSoG3ga4HSuvQowy\n",
       "BVLLGZg3MHBCJU5zA8ODdQFDOpBbzfA+gGG+AtQfDoZg5z4CciffrRdgmPERHIg2DIvXOzBwPWDg\n",
       "EAAZkQTED5FCABgkrAkM3AqcICcEIEnkgoOdKYE5AVWCExjsDNIMLHfrgDQvkgZukPmMWKL2DgMD\n",
       "AE9HRZgr2S6iAAAAAElFTkSuQmCC\n",
       "\" style=\"display:inline;vertical-align:middle;\" /></a></td></tr>\n",
       "<tr><td>5</td><td>Literal</td><td></td><td><a class=\"ProveItLink\" href=\"../96143560a3dbc26f943e0a126972c9bfadab3fc50/expr.ipynb\"><img src=\"data:image/png;base64,iVBORw0KGgoAAAANSUhEUgAAAA4AAAARBAMAAAAf5oCsAAAALVBMVEX///+IiIiYmJjMzMxUVFRE\n",
       "RES6urrc3NxmZmYyMjKqqqp2dnYiIiLu7u4AAACqGg1VAAAAAXRSTlMAQObYZgAAAEFJREFUCNdj\n",
       "YICCO3uhjJXtUEaqM5RhGgZllEyDMioOQ2idXhDJKwPWy7tHAESx9yiAKc8FYCWlCQx4Qc0ZEDgG\n",
       "ALzAEHC/pigGAAAAAElFTkSuQmCC\n",
       "\" style=\"display:inline;vertical-align:middle;\" /></a></td></tr>\n",
       "<tr><td>6</td><td>ExprTuple</td><td>8, 9</td><td><a class=\"ProveItLink\" href=\"../a6a2ac9310c73e21661c7634808321702fb219240/expr.ipynb\"><img src=\"data:image/png;base64,iVBORw0KGgoAAAANSUhEUgAAACwAAAAVBAMAAADP3xFXAAAAMFBMVEX////c3NwiIiJERESqqqqY\n",
       "mJh2dnZmZmYQEBDu7u4yMjJUVFTMzMyIiIi6uroAAAAs73DqAAAAAXRSTlMAQObYZgAAAQtJREFU\n",
       "GNNjYMAB+C6gi7A+ABKnMVXWAPFKTGEuBgbeC5jCrAkMHBMwhTkbGF5hc4YJQxmQFLstch1i1rQy\n",
       "BsafDAzpDEuBehJYVTkUwMIJ7xl4PzAweDH0MTCwAZksB0CiPA5FDMwGDAwvGP4BVTNwG0DtYuhl\n",
       "4Acadx4kzMDAAXMly0+G8wdAwi0gnvwBBog72Rcw3GAAGWIKdL3AfQbeCWAJrgIGayAVBXQLg3+A\n",
       "BYMsA+cnkOoNfF8ZQA58xMAw+dq03AAGzn4BoJ221z8ChdcxcAjAQxjMYlMAex4YLLAAAuJNDDMc\n",
       "gFIXkAIWJKzGYAYkZwGxNEwY5Hbf66CY2QjEjBgBznuAAQAt5DtyKXSr1gAAAABJRU5ErkJggg==\n",
       "\" style=\"display:inline;vertical-align:middle;\" /></a></td></tr>\n",
       "<tr><td>7</td><td>Literal</td><td></td><td><a class=\"ProveItLink\" href=\"../../../sets/real/__pv_it/9e7645ee1117062e179dd6264898f99ed95b157c0/expr.ipynb\"><img src=\"data:image/png;base64,iVBORw0KGgoAAAANSUhEUgAAAA8AAAAOBAMAAAACpFvcAAAAMFBMVEX///8iIiK6urp2dnbu7u5m\n",
       "ZmaqqqrMzMxUVFTc3NyIiIgQEBBEREQyMjKYmJgAAAA9nvXMAAAAAXRSTlMAQObYZgAAAFJJREFU\n",
       "CNdjePvn/N29CxiA4MAMhprcCSDGVAYezwMQBnMBOoMDJqX4Fqx4tqBsAlj7VFUeBwiDVb0BwmC4\n",
       "sg7KqOAogJqTcJKBAWjpcYY79xMAyqEnfsw4ApEAAAAASUVORK5CYII=\n",
       "\" style=\"display:inline;vertical-align:middle;\" /></a></td></tr>\n",
       "<tr><td>8</td><td>Variable</td><td></td><td><a class=\"ProveItLink\" href=\"../../../../__pv_it/530be409e3083890784cf1d7b28c9e67e90af9360/expr.ipynb\"><img src=\"data:image/png;base64,iVBORw0KGgoAAAANSUhEUgAAAAsAAAAJBAMAAAAWSsseAAAAKlBMVEX///9ERETMzMwQEBAiIiKY\n",
       "mJju7u5mZmaqqqpUVFSIiIh2dnbc3NwAAAA/vyDhAAAAAXRSTlMAQObYZgAAAENJREFUCNdjYDi9\n",
       "8sTyBQxsG1hdmR0YuBm4LnAoMLAxcAowgADzAjB1VoEhgYH1wFoGrgSG3gBhhlMMDImrs3cFMAAA\n",
       "t0YN+iTRa+sAAAAASUVORK5CYII=\n",
       "\" style=\"display:inline;vertical-align:middle;\" /></a></td></tr>\n",
       "<tr><td>9</td><td>Variable</td><td></td><td><a class=\"ProveItLink\" href=\"../../../../__pv_it/f8b9edf8e16034727f0aad55bb83e392c3db40d40/expr.ipynb\"><img src=\"data:image/png;base64,iVBORw0KGgoAAAANSUhEUgAAAAsAAAANBAMAAACN24kIAAAAMFBMVEX///+YmJhUVFQyMjIQEBBE\n",
       "REQiIiKqqqrMzMyIiIi6urrc3NxmZmZ2dnbu7u4AAADXeCicAAAAAXRSTlMAQObYZgAAAFhJREFU\n",
       "CNdj4LtzgWH/AwZerg8M8xkY2nkSGEIZGB6wTGD4ycDAUP+A4weQOszA6QCkbBhYFYDUIYb1AkDq\n",
       "6czzGxhA4BoQMyXwuQMptgusF4AU+8xTQBIAUqMVoSp/SLMAAAAASUVORK5CYII=\n",
       "\" style=\"display:inline;vertical-align:middle;\" /></a></td></tr>\n",
       "</table>\n"
      ],
      "text/plain": [
       "0. (y in Reals , x >= y)\n",
       "   core type: ExprTuple\n",
       "   sub-expressions: 1, 2\n",
       "1. y in Reals\n",
       "   core type: Operation\n",
       "   operator: 3\n",
       "   operands: 4\n",
       "2. x >= y\n",
       "   core type: Operation\n",
       "   operator: 5\n",
       "   operands: 6\n",
       "3. in\n",
       "   core type: Literal\n",
       "   sub-expressions: \n",
       "4. (y , Reals)\n",
       "   core type: ExprTuple\n",
       "   sub-expressions: 9, 7\n",
       "5. >=\n",
       "   core type: Literal\n",
       "   sub-expressions: \n",
       "6. (x , y)\n",
       "   core type: ExprTuple\n",
       "   sub-expressions: 8, 9\n",
       "7. Reals\n",
       "   core type: Literal\n",
       "   sub-expressions: \n",
       "8. x\n",
       "   core type: Variable\n",
       "   sub-expressions: \n",
       "9. y\n",
       "   core type: Variable\n",
       "   sub-expressions: "
      ]
     },
     "execution_count": 4,
     "metadata": {},
     "output_type": "execute_result"
    }
   ],
   "source": [
    "# display the expression information\n",
    "expr.exprInfo()"
   ]
  },
  {
   "cell_type": "code",
   "execution_count": null,
   "metadata": {},
   "outputs": [],
   "source": []
  }
 ],
 "metadata": {
  "kernelspec": {
   "display_name": "Python 3",
   "language": "python",
   "name": "python3"
  }
 },
 "nbformat": 4,
 "nbformat_minor": 0
}
