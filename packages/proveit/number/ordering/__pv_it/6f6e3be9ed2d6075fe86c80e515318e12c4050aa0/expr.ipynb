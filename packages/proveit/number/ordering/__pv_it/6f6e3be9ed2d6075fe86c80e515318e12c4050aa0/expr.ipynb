{
 "cells": [
  {
   "cell_type": "markdown",
   "metadata": {},
   "source": [
    "Expression of type <a class=\"ProveItLink\" href=\"../../../../../../doc/html/api/proveit.logic.Forall.html\">Forall</a>\n",
    "=======================\n",
    "# from context <a class=\"ProveItLink\" href=\"../../_context_.ipynb\">proveit.number.ordering</a>"
   ]
  },
  {
   "cell_type": "code",
   "execution_count": 1,
   "metadata": {},
   "outputs": [],
   "source": [
    "# import Expression classes needed to build the expression\n",
    "from proveit._common_ import x, y\n",
    "from proveit.logic import Equals, Forall\n",
    "from proveit.number import LessEq"
   ]
  },
  {
   "cell_type": "code",
   "execution_count": 2,
   "metadata": {},
   "outputs": [
    {
     "data": {
      "text/html": [
       "<strong id=\"expr\">expr:</strong> <a class=\"ProveItLink\" href=\"expr.ipynb\"><img src=\"data:image/png;base64,iVBORw0KGgoAAAANSUhEUgAAALcAAAAXBAMAAAC7XMNCAAAAMFBMVEX///8QEBC6urrMzMxUVFRm\n",
       "ZmZERETc3NwyMjKqqqp2dnaIiIiYmJgiIiLu7u4AAAAU9Wx4AAAAAXRSTlMAQObYZgAAAlBJREFU\n",
       "SMe1lU9oE0EUxr9km8TdbDbBHkRE6cGDIGIFLz21tFBBLyIehB4UDyniZU9WEHUvgkIpBbUIUrqX\n",
       "IlosASUoEV28KIqQsyCslx70EijoQQ++ebPZP5PdgFt9kLzN+2W+mXnz3izwP83f0ejD2egtfbri\n",
       "4WNObW0qm5XGgcfiYSmn+K5h+3aAK+QqF3KKd4bBD3Ly0nJO8QPD4FfAfLSwcD2ndtEZRsu05B/N\n",
       "5uec4iWXUrpx4uFcMmytu7jpwzgNzADzERj7q/P0gG/45O0XE91mE+VjFHt4A+i0r4OwYrtLHu3K\n",
       "QDUkIgVaiks6d5P/mSh10aSkNYAaql6G+IPXqnYyUh8TTTg70JeFFn5RE/RA0jU/Xfx9Sx2mROqc\n",
       "xH0D6VrztW0pbjnHaQttFPxIfGP6+TheiA0FQDqOSCjTIkq4sg1L5PwLG48/h2pDpgXz08D3un0s\n",
       "WrnhzxaWV7n4A8BORhgGxUaTvav2oGbvFsp0sKY4yvt0vdw4gnYkXsQilcFF8RgAdjLCUBoVm/67\n",
       "3Kio6TuLox5T2pxgJ3EqnvOfYrWXEAF2MsJQNlEX1uXNJ6/UnG91zttUqOJETJHs3RiNiWsNjb6r\n",
       "dyIgHUckZNuT1QFPZfsHNkqFH4pPGo4hvLkowVW7zynSh8HdlGIjXWuvOPgwcK/tROJbL+c2+Zfu\n",
       "M5j0Qq77Icy8cmtu2UWsNSv2SCulQ/vAC7lCU18WeueMWL8d3mDuIaSKM9DskCt2LfvieRabzFXF\n",
       "V5pkPgNTchnZwRt36l++/P8A4Jitx6ZAY+sAAAAASUVORK5CYII=\n",
       "\" style=\"display:inline;vertical-align:middle;\" /></a><br>"
      ],
      "text/plain": [
       "expr: forall_{y | x <= y , y <= x} (x = y)"
      ]
     },
     "execution_count": 2,
     "metadata": {},
     "output_type": "execute_result"
    }
   ],
   "source": [
    "# build up the expression from sub-expressions\n",
    "expr = Forall([y], Equals(x, y), conditions = [LessEq(x, y), LessEq(y, x)])"
   ]
  },
  {
   "cell_type": "code",
   "execution_count": 3,
   "metadata": {},
   "outputs": [
    {
     "name": "stdout",
     "output_type": "stream",
     "text": [
      "Passed sanity check: built 'expr' is the same as the stored Expression.\n"
     ]
    }
   ],
   "source": [
    "# check that the built expression is the same as the stored expression\n",
    "%check_expr"
   ]
  },
  {
   "cell_type": "code",
   "execution_count": 4,
   "metadata": {},
   "outputs": [
    {
     "data": {
      "text/html": [
       "<table><tr><th>&nbsp;</th><th>core type</th><th>sub-expressions</th><th>expression</th></tr>\n",
       "<tr><td>0</td><td>Operation</td><td>operator:&nbsp;1<br>operand:&nbsp;2<br></td><td><a class=\"ProveItLink\" href=\"expr.ipynb\"><img src=\"data:image/png;base64,iVBORw0KGgoAAAANSUhEUgAAALcAAAAXBAMAAAC7XMNCAAAAMFBMVEX///8QEBC6urrMzMxUVFRm\n",
       "ZmZERETc3NwyMjKqqqp2dnaIiIiYmJgiIiLu7u4AAAAU9Wx4AAAAAXRSTlMAQObYZgAAAlBJREFU\n",
       "SMe1lU9oE0EUxr9km8TdbDbBHkRE6cGDIGIFLz21tFBBLyIehB4UDyniZU9WEHUvgkIpBbUIUrqX\n",
       "IlosASUoEV28KIqQsyCslx70EijoQQ++ebPZP5PdgFt9kLzN+2W+mXnz3izwP83f0ejD2egtfbri\n",
       "4WNObW0qm5XGgcfiYSmn+K5h+3aAK+QqF3KKd4bBD3Ly0nJO8QPD4FfAfLSwcD2ndtEZRsu05B/N\n",
       "5uec4iWXUrpx4uFcMmytu7jpwzgNzADzERj7q/P0gG/45O0XE91mE+VjFHt4A+i0r4OwYrtLHu3K\n",
       "QDUkIgVaiks6d5P/mSh10aSkNYAaql6G+IPXqnYyUh8TTTg70JeFFn5RE/RA0jU/Xfx9Sx2mROqc\n",
       "xH0D6VrztW0pbjnHaQttFPxIfGP6+TheiA0FQDqOSCjTIkq4sg1L5PwLG48/h2pDpgXz08D3un0s\n",
       "WrnhzxaWV7n4A8BORhgGxUaTvav2oGbvFsp0sKY4yvt0vdw4gnYkXsQilcFF8RgAdjLCUBoVm/67\n",
       "3Kio6TuLox5T2pxgJ3EqnvOfYrWXEAF2MsJQNlEX1uXNJ6/UnG91zttUqOJETJHs3RiNiWsNjb6r\n",
       "dyIgHUckZNuT1QFPZfsHNkqFH4pPGo4hvLkowVW7zynSh8HdlGIjXWuvOPgwcK/tROJbL+c2+Zfu\n",
       "M5j0Qq77Icy8cmtu2UWsNSv2SCulQ/vAC7lCU18WeueMWL8d3mDuIaSKM9DskCt2LfvieRabzFXF\n",
       "V5pkPgNTchnZwRt36l++/P8A4Jitx6ZAY+sAAAAASUVORK5CYII=\n",
       "\" style=\"display:inline;vertical-align:middle;\" /></a></td></tr>\n",
       "<tr><td>1</td><td>Literal</td><td></td><td><a class=\"ProveItLink\" href=\"../../../../logic/boolean/quantification/universal/__pv_it/265f8c02ac1094d56e0e6410a1c1fd3500dc9f540/expr.ipynb\"><img src=\"data:image/png;base64,iVBORw0KGgoAAAANSUhEUgAAAAwAAAAQBAMAAADQT4M0AAAAMFBMVEX///8QEBC6urrMzMxUVFRm\n",
       "ZmZERETc3NwyMjKqqqp2dnaIiIiYmJgiIiLu7u4AAAAU9Wx4AAAAAXRSTlMAQObYZgAAAFhJREFU\n",
       "CNdjeMAABhdAxGmGlSCqj6EMSLInMHAAJVknMPAsLy+vBYp8S0u7BaScGRjSgZQKA18DkOJl4D4A\n",
       "pLgP8IJM4mswARuX7gSmpoKNZWDcAKZ4gCoAgTQTILaSE58AAAAASUVORK5CYII=\n",
       "\" style=\"display:inline;vertical-align:middle;\" /></a></td></tr>\n",
       "<tr><td>2</td><td>Lambda</td><td>parameter:&nbsp;11<br>body:&nbsp;3<br>conditions:&nbsp;4<br></td><td><a class=\"ProveItLink\" href=\"../86996dcf54850e04c083b6e924add83b16b7d2070/expr.ipynb\"><img src=\"data:image/png;base64,iVBORw0KGgoAAAANSUhEUgAAAPIAAAAVCAMAAABL90OsAAAANlBMVEX///8UFBQNDQ2YmJhUVFQy\n",
       "MjIQEBBEREQiIiKqqqrMzMyIiIi6urrc3NxmZmZ2dnbu7u4AAACrLjZHAAAAAXRSTlMAQObYZgAA\n",
       "AitJREFUWMPVWNuSrCAMZBeQS7j+/88eOToahoua3aqt4WmKsbvTGBKQsT8bxrPPGA5IMO6aqeg+\n",
       "w7EVRGCwn2pZJjKSbBk0dXHoSMQBZCiPJMspaqImHVmNhfySWVoIllPQnChHRr7VLvkDsDJPLXsh\n",
       "DU1rjkwxlJTzOXU3ncHQsCenjyC8gQBXqYWpY5hY7jBaId1lsN25HhIrROZy2aX59Z+uHxWIXfJd\n",
       "ZN2aa94sx6NBonEU9ZrayLHlljEpZdtFbILtzPWRSMEaFoqOUgPLSZxHhsXtIpuCsfOGVlO7ZWy5\n",
       "wwga0gXjYK6HxArrn0vJpnyk1PeXrsaSj9j2X4VQqOsKUlPbPHnLPUauY5oyDudaZK1gyiaw2Q7e\n",
       "MhNnaKf5TebyTImpZ5YHjEYGP2GczTVIrBDKHoMz694sY+hy1DL/X+FYyoDT4nxbFfUssVvGo0eI\n",
       "ysp7sKO5FokVZKmkSgwsW7z2aitf3G/FAq66dEXNJ+VrwmiraoQYU1dlhKwUwvqwy2ffhmYPnFGG\n",
       "LZE4U+ui+svcrqgnTWrOaNHWOhlT1j2VAbJWSAog5Fs3Oad3QEwxwvXppqJ+75XIMoUxLS/iOwZa\n",
       "hahvHjif33Ff1KQD55TRefbYwFaQdQnn5sGuuRvcp47wC5YrRk4wsFWr1YW67eTR5RFTp4eXR497\n",
       "gOsGy/sG+siqg60b4f56+yefCDC18L/xiQAzAskA5Y5Cu4NCezaFP/oq8g+GQx7HmiJC8wAAAABJ\n",
       "RU5ErkJggg==\n",
       "\" style=\"display:inline;vertical-align:middle;\" /></a></td></tr>\n",
       "<tr><td>3</td><td>Operation</td><td>operator:&nbsp;5<br>operands:&nbsp;8<br></td><td><a class=\"ProveItLink\" href=\"../11c10f4bba158f3c28c22f8b0eddbb73cf6480560/expr.ipynb\"><img src=\"data:image/png;base64,iVBORw0KGgoAAAANSUhEUgAAADMAAAANBAMAAAD2/0vEAAAAMFBMVEX///+6uroyMjJERETMzMwQ\n",
       "EBAiIiKYmJju7u5mZmaqqqpUVFSIiIh2dnbc3NwAAAAWgogoAAAAAXRSTlMAQObYZgAAAKRJREFU\n",
       "GNNjYHh7+tXJAwwogOPmBYb3DQwcF9jTWROAfE4lMNgAZPIyfmA4D6QYeD5wOaDq8uJMYDAGambg\n",
       "NmBAAw2sBxj+gBisB9ClGNY3sHwB0e8dGBpAdqWBAdiISQw8AQwM7A/OM/A0oOnSZGAGOmd9gSnD\n",
       "G3QDZzPIFzAwNJ/tvVOALtV8Zv4DBlzgGg5x7gSOKBxSbBeYL+CQ4jozEUgCABYeKl4jfnQmAAAA\n",
       "AElFTkSuQmCC\n",
       "\" style=\"display:inline;vertical-align:middle;\" /></a></td></tr>\n",
       "<tr><td>4</td><td>ExprTuple</td><td>6, 7</td><td><a class=\"ProveItLink\" href=\"../7310085fff43448abac107615f1a2e576ccfd95d0/expr.ipynb\"><img src=\"data:image/png;base64,iVBORw0KGgoAAAANSUhEUgAAAHoAAAAVBAMAAAB71edYAAAAMFBMVEX////c3NwiIiJERESqqqqY\n",
       "mJh2dnZmZmYQEBDu7u4yMjJUVFTMzMyIiIi6uroAAAAs73DqAAAAAXRSTlMAQObYZgAAAadJREFU\n",
       "OMtjYKAM8F0gUyPrAyBxmmx7a4B4JZoYrx4+HZceINhcQMVoDp+mi0cvZxKyatYEBo4JKPLTVfFp\n",
       "LgpA4TYwvEKRl16CRzPjLgdUAROGMiApdlvkOthJp9fBPVDGwPgTlcWzC+5nqIZ0hqVAFySwqnIo\n",
       "AAUn28CNTXjPwPsBhcVpfADuZKgGL4Y+BgY2oDQLSIpXFxYIPA5FDMwGqKxLN2G6YRpeMPwDGsXA\n",
       "bQANRTWodk6GXgb+C6gshqBMmN1QDedBuhkYOGARwbJcAMr4yXD+ABqLwasQZjtEw3mGFhAlf4AB\n",
       "ainfaohK9gUMNxjQWAwMr/ZAGRANLxhMge4VuM/AC/cxJHC4ChisGcBGQlhQcBgcrjANUcBQZ/AP\n",
       "sGCQhSvg2Qe2cQPfVwbOTzAWHJwGxRpMQzrDI2BEXZuWG4CerGyvf2Tg7BeAslABTMM6Bg4BHCmL\n",
       "DRihfAIwFtaE2wBK6tjAJoYZwGTJCmdhNf8CSg4VUgIBcA5VYzBjgOiGsICpHCyphJRDZ4EyBlZz\n",
       "fa+DlF2As7CBjSAzyS2ZeA8wAABwEndcehFjzAAAAABJRU5ErkJggg==\n",
       "\" style=\"display:inline;vertical-align:middle;\" /></a></td></tr>\n",
       "<tr><td>5</td><td>Literal</td><td></td><td><a class=\"ProveItLink\" href=\"../../../../logic/equality/__pv_it/2fb26078095930560931daa0500ce419a39ea6cd0/expr.ipynb\"><img src=\"data:image/png;base64,iVBORw0KGgoAAAANSUhEUgAAAA4AAAAFBAMAAACHocAhAAAAFVBMVEX///9EREQiIiJUVFQyMjJm\n",
       "ZmYAAADubVkoAAAAAXRSTlMAQObYZgAAABRJREFUCNdjCHEBAWcGXCBICQQUAUpuAwlgGKrkAAAA\n",
       "AElFTkSuQmCC\n",
       "\" style=\"display:inline;vertical-align:middle;\" /></a></td></tr>\n",
       "<tr><td>6</td><td>Operation</td><td>operator:&nbsp;9<br>operands:&nbsp;8<br></td><td><a class=\"ProveItLink\" href=\"../443d32f7a97fdae5d6ed3048a7f17b04ee2d986b0/expr.ipynb\"><img src=\"data:image/png;base64,iVBORw0KGgoAAAANSUhEUgAAADMAAAASBAMAAAAEf/uKAAAAMFBMVEX///8yMjK6urpERETMzMwQ\n",
       "EBAiIiKYmJju7u5mZmaqqqpUVFSIiIh2dnbc3NwAAADpJKkdAAAAAXRSTlMAQObYZgAAAMpJREFU\n",
       "GNNjYCAaHFPAIcFx7QAumWkFOGT4Ni5AFXh7+tVJsDEsG2H2cNy8wPC+gYHjAns6awKIb+wAU83L\n",
       "9IHhPJBi4PnABRY8dgIm5cWZwGAMVMzAbQAVKbsBZTSwHmD4A2Kwwh28cB6Usb6B5QuIfu/A0AAV\n",
       "UtwCoScy8AQwMLA/OM/AA5NicDYBU5IMzBuAegtMGd4gvOIN9sBsBn2g55vP9t7BCIPmM/Mf4Azm\n",
       "azjEuRM4olBCMA0MQHaxXWC+gEMX15lJQBIAZaM04tbXedUAAAAASUVORK5CYII=\n",
       "\" style=\"display:inline;vertical-align:middle;\" /></a></td></tr>\n",
       "<tr><td>7</td><td>Operation</td><td>operator:&nbsp;9<br>operands:&nbsp;10<br></td><td><a class=\"ProveItLink\" href=\"../a755dc3e73fee509ac342d05361342887d6f5a310/expr.ipynb\"><img src=\"data:image/png;base64,iVBORw0KGgoAAAANSUhEUgAAADIAAAASBAMAAADrvZC0AAAAMFBMVEX///+YmJhUVFQyMjIQEBBE\n",
       "REQiIiKqqqrMzMyIiIi6urrc3NxmZmZ2dnbu7u4AAADXeCicAAAAAXRSTlMAQObYZgAAAMlJREFU\n",
       "GNNjYCAScGbhkHibiUPiTSIOiU3mKFy+OxcY9j8AsZqsYGLcN7UrTzLwcn1gmA/iPo1AWMcgJuDG\n",
       "0M6TwBAKdlbmA5jMBaDaCoYHLBMYfoL5jLkwqQcMqiCq/gHHD4gAu80GmC5PEHGYgdMByucyaoA6\n",
       "4QcDHwODDQOrAkwpRyhYSprzA8M8BoZDDOsF4K7i0AKZ+pHVgXsC0LUzz29A9TFf5L27E8Gsa9iD\n",
       "hCmBzx27DNsF1gtgxrY0EECKBfaZp7BrAQDZeTJCWPoyvgAAAABJRU5ErkJggg==\n",
       "\" style=\"display:inline;vertical-align:middle;\" /></a></td></tr>\n",
       "<tr><td>8</td><td>ExprTuple</td><td>12, 11</td><td><a class=\"ProveItLink\" href=\"../a6a2ac9310c73e21661c7634808321702fb219240/expr.ipynb\"><img src=\"data:image/png;base64,iVBORw0KGgoAAAANSUhEUgAAACwAAAAVBAMAAADP3xFXAAAAMFBMVEX////c3NwiIiJERESqqqqY\n",
       "mJh2dnZmZmYQEBDu7u4yMjJUVFTMzMyIiIi6uroAAAAs73DqAAAAAXRSTlMAQObYZgAAAQtJREFU\n",
       "GNNjYMAB+C6gi7A+ABKnMVXWAPFKTGEuBgbeC5jCrAkMHBMwhTkbGF5hc4YJQxmQFLstch1i1rQy\n",
       "BsafDAzpDEuBehJYVTkUwMIJ7xl4PzAweDH0MTCwAZksB0CiPA5FDMwGDAwvGP4BVTNwG0DtYuhl\n",
       "4Acadx4kzMDAAXMly0+G8wdAwi0gnvwBBog72Rcw3GAAGWIKdL3AfQbeCWAJrgIGayAVBXQLg3+A\n",
       "BYMsA+cnkOoNfF8ZQA58xMAw+dq03AAGzn4BoJ221z8ChdcxcAjAQxjMYlMAex4YLLAAAuJNDDMc\n",
       "gFIXkAIWJKzGYAYkZwGxNEwY5Hbf66CY2QjEjBgBznuAAQAt5DtyKXSr1gAAAABJRU5ErkJggg==\n",
       "\" style=\"display:inline;vertical-align:middle;\" /></a></td></tr>\n",
       "<tr><td>9</td><td>Literal</td><td></td><td><a class=\"ProveItLink\" href=\"../aa616d6a8fe3483e4e64187262e9c7dfe6a536a30/expr.ipynb\"><img src=\"data:image/png;base64,iVBORw0KGgoAAAANSUhEUgAAAA4AAAARBAMAAAAf5oCsAAAALVBMVEX///9ERETMzMyqqqoyMjJU\n",
       "VFTc3NyYmJhmZmZ2dnbu7u66uroiIiKIiIgAAAAFyQXGAAAAAXRSTlMAQObYZgAAAEBJREFUCNdj\n",
       "YEAGvKfB1MqzYGrFcTCV6gymVL3B1EIhqNKzCyAM9pNQBrNHAoTB7aoAYTAJwhjRDLhAzhkQOA0A\n",
       "iskPUSt9tJUAAAAASUVORK5CYII=\n",
       "\" style=\"display:inline;vertical-align:middle;\" /></a></td></tr>\n",
       "<tr><td>10</td><td>ExprTuple</td><td>11, 12</td><td><a class=\"ProveItLink\" href=\"../470bbc9880f0fcda6ab2160544dedf05732e41640/expr.ipynb\"><img src=\"data:image/png;base64,iVBORw0KGgoAAAANSUhEUgAAACwAAAAVBAMAAADP3xFXAAAAMFBMVEX////c3NwiIiJERESqqqqY\n",
       "mJh2dnZmZmYQEBDu7u4yMjJUVFTMzMyIiIi6uroAAAAs73DqAAAAAXRSTlMAQObYZgAAAQdJREFU\n",
       "GNN1kLtKA0EUQI8mu5kYJ2whNiLZxl5QwW+wydZWg00qWwsVTWEtC0IINlYiNqJ/sIWdhVOZIoSo\n",
       "ldgYeyPecYOvMQP3wZn7hjGvav+S4F7UjR+5K3Lu4ynQ1seBQaU+Ljd5/m+MZbbks2Go5Umz3ZmO\n",
       "VG1wCmF1QD/PNsGCimGNQ7guxSx94hA9KGbwxDukyjLMo6ksOnvrMPV0+m3UTNkcH4jeRjdHuJaR\n",
       "uiIr4p9RuJQCskfURwtel1lgh5eEE5mgnqwyjxvwUfRRbz+i/SrOXWszEXCBilzJDZGHn8vLWSpx\n",
       "2TVOvnBo3WEnTcH8wscicxR7e2L196WuRCa8g+uMDxGWOvpEaKwNAAAAAElFTkSuQmCC\n",
       "\" style=\"display:inline;vertical-align:middle;\" /></a></td></tr>\n",
       "<tr><td>11</td><td>Variable</td><td></td><td><a class=\"ProveItLink\" href=\"../../../../__pv_it/f8b9edf8e16034727f0aad55bb83e392c3db40d40/expr.ipynb\"><img src=\"data:image/png;base64,iVBORw0KGgoAAAANSUhEUgAAAAsAAAANBAMAAACN24kIAAAAMFBMVEX///+YmJhUVFQyMjIQEBBE\n",
       "REQiIiKqqqrMzMyIiIi6urrc3NxmZmZ2dnbu7u4AAADXeCicAAAAAXRSTlMAQObYZgAAAFhJREFU\n",
       "CNdj4LtzgWH/AwZerg8M8xkY2nkSGEIZGB6wTGD4ycDAUP+A4weQOszA6QCkbBhYFYDUIYb1AkDq\n",
       "6czzGxhA4BoQMyXwuQMptgusF4AU+8xTQBIAUqMVoSp/SLMAAAAASUVORK5CYII=\n",
       "\" style=\"display:inline;vertical-align:middle;\" /></a></td></tr>\n",
       "<tr><td>12</td><td>Variable</td><td></td><td><a class=\"ProveItLink\" href=\"../../../../__pv_it/530be409e3083890784cf1d7b28c9e67e90af9360/expr.ipynb\"><img src=\"data:image/png;base64,iVBORw0KGgoAAAANSUhEUgAAAAsAAAAJBAMAAAAWSsseAAAAKlBMVEX///9ERETMzMwQEBAiIiKY\n",
       "mJju7u5mZmaqqqpUVFSIiIh2dnbc3NwAAAA/vyDhAAAAAXRSTlMAQObYZgAAAENJREFUCNdjYDi9\n",
       "8sTyBQxsG1hdmR0YuBm4LnAoMLAxcAowgADzAjB1VoEhgYH1wFoGrgSG3gBhhlMMDImrs3cFMAAA\n",
       "t0YN+iTRa+sAAAAASUVORK5CYII=\n",
       "\" style=\"display:inline;vertical-align:middle;\" /></a></td></tr>\n",
       "</table>\n"
      ],
      "text/plain": [
       "0. forall_{y | x <= y , y <= x} (x = y)\n",
       "   core type: Operation\n",
       "   operator: 1\n",
       "   operand: 2\n",
       "1. forall\n",
       "   core type: Literal\n",
       "   sub-expressions: \n",
       "2. y -> (x = y) | x <= y , y <= x\n",
       "   core type: Lambda\n",
       "   parameter: 11\n",
       "   body: 3\n",
       "   conditions: 4\\n3. x = y\n",
       "   core type: Operation\n",
       "   operator: 5\n",
       "   operands: 8\n",
       "4. (x <= y , y <= x)\n",
       "   core type: ExprTuple\n",
       "   sub-expressions: 6, 7\n",
       "5. =\n",
       "   core type: Literal\n",
       "   sub-expressions: \n",
       "6. x <= y\n",
       "   core type: Operation\n",
       "   operator: 9\n",
       "   operands: 8\n",
       "7. y <= x\n",
       "   core type: Operation\n",
       "   operator: 9\n",
       "   operands: 10\n",
       "8. (x , y)\n",
       "   core type: ExprTuple\n",
       "   sub-expressions: 12, 11\n",
       "9. <=\n",
       "   core type: Literal\n",
       "   sub-expressions: \n",
       "10. (y , x)\n",
       "    core type: ExprTuple\n",
       "    sub-expressions: 11, 12\n",
       "11. y\n",
       "    core type: Variable\n",
       "    sub-expressions: \n",
       "12. x\n",
       "    core type: Variable\n",
       "    sub-expressions: "
      ]
     },
     "execution_count": 4,
     "metadata": {},
     "output_type": "execute_result"
    }
   ],
   "source": [
    "# display the expression information\n",
    "expr.exprInfo()"
   ]
  },
  {
   "cell_type": "code",
   "execution_count": null,
   "metadata": {},
   "outputs": [],
   "source": []
  }
 ],
 "metadata": {
  "kernelspec": {
   "display_name": "Python 3",
   "language": "python",
   "name": "python3"
  }
 },
 "nbformat": 4,
 "nbformat_minor": 0
}
