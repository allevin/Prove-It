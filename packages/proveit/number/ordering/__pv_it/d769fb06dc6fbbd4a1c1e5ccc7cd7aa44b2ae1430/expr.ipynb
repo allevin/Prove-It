{
 "cells": [
  {
   "cell_type": "markdown",
   "metadata": {},
   "source": [
    "Theorem <a class=\"ProveItLink\" href=\"../../_theorems_.ipynb#eq__in__less_eq_relations\">eq__in__less_eq_relations</a> of type <a class=\"ProveItLink\" href=\"../../../../../../doc/html/api/proveit.logic.InSet.html\">InSet</a>\n",
    "=======================\n",
    "# from context <a class=\"ProveItLink\" href=\"../../_context_.ipynb\">proveit.number.ordering</a>\n",
    "*** see <a class=\"ProveItLink\" href=\"dependencies.ipynb\">dependencies</a> ***"
   ]
  },
  {
   "cell_type": "code",
   "execution_count": 1,
   "metadata": {},
   "outputs": [],
   "source": [
    "# import the special expression\n",
    "from proveit.number.ordering._theorems_ import eq__in__less_eq_relations"
   ]
  },
  {
   "cell_type": "code",
   "execution_count": 2,
   "metadata": {},
   "outputs": [
    {
     "name": "stdout",
     "output_type": "stream",
     "text": [
      "Passed sanity check: built 'eq__in__less_eq_relations' is the same as the stored Expression.\n"
     ]
    }
   ],
   "source": [
    "# check that the built expression is the same as the stored expression\n",
    "%check_expr eq__in__less_eq_relations"
   ]
  },
  {
   "cell_type": "code",
   "execution_count": 3,
   "metadata": {},
   "outputs": [
    {
     "data": {
      "text/html": [
       "<table><tr><th>&nbsp;</th><th>core type</th><th>sub-expressions</th><th>expression</th></tr>\n",
       "<tr><td>0</td><td>Operation</td><td>operator:&nbsp;1<br>operands:&nbsp;2<br></td><td><a class=\"ProveItLink\" href=\"expr.ipynb\"><img src=\"data:image/png;base64,iVBORw0KGgoAAAANSUhEUgAAAHkAAAAVBAMAAACQ4lxbAAAAMFBMVEX///92dnaqqqoQEBC6urrc\n",
       "3NyYmJjMzMyIiIju7u5EREQiIiJUVFQyMjJmZmYAAACZj33uAAAAAXRSTlMAQObYZgAAAUdJREFU\n",
       "OMtjYMAC2J4xEATsggHYJTg3MhAB2I2wi3N8IEY3w1vswowGWM3cgiYgTEA363OE4MQdDPh0c/bu\n",
       "3n0BRTf7WQe47LxtDHh112ai2c1ypwAuGXOJAa9u1pVoLme6h4iSmisM2HW/vQsCdxi4EGr5QB7g\n",
       "2DgBLjBrOUIPH1j93QMMDPlIJs1CMIuB3mVEDiSOHROw2M37AMF23r0bGmo15iDDlqAkvo3YtK9N\n",
       "QHgNySBQaNWghBNyIMAAtwADw2uQnbt3McxGCPOAnRCHEkfwCOADq9+9ANXfPAhnMG6Apg+gcznh\n",
       "yXpVAYKDEWOcWzDSGsi38zfAtR9B4mCkltjnGCmV6TrD5K9ISlA4aOlc5zZaSgUDVwZcHGEi8lgC\n",
       "Ay4ODt1s6LqjwcG8BU03jvzNiZTOOFCyOErZYoKj1GATIrJcAwDdaV9rEQ0DlwAAAABJRU5ErkJg\n",
       "gg==\n",
       "\" style=\"display:inline;vertical-align:middle;\" /></a></td></tr>\n",
       "<tr><td>1</td><td>Literal</td><td></td><td><a class=\"ProveItLink\" href=\"../../../../logic/set_theory/membership/__pv_it/088cbc857536a28d4119ad9639a84270ccb0545d0/expr.ipynb\"><img src=\"data:image/png;base64,iVBORw0KGgoAAAANSUhEUgAAAAwAAAAMBAMAAACkW0HUAAAALVBMVEX///+qqqpmZmZUVFQQEBC6\n",
       "urpERETc3NyYmJjMzMwiIiIyMjKIiIju7u4AAACYsrA9AAAAAXRSTlMAQObYZgAAADxJREFUCNdj\n",
       "YOA9vWrVBgaG2b0MQMCeCyIZ2ArA1DUwyRCyahVIyWQI7xaEYm4AU7xLIdxqTQgtvGvVBgCkcQ7e\n",
       "geM/tQAAAABJRU5ErkJggg==\n",
       "\" style=\"display:inline;vertical-align:middle;\" /></a></td></tr>\n",
       "<tr><td>2</td><td>ExprTuple</td><td>8, 3</td><td><a class=\"ProveItLink\" href=\"../912f2c96456c2d2523ccf36bbc5daff61a4e0f0d0/expr.ipynb\"><img src=\"data:image/png;base64,iVBORw0KGgoAAAANSUhEUgAAAH0AAAAVBAMAAACZCfwhAAAAMFBMVEX////c3NwiIiJERESqqqqY\n",
       "mJh2dnZmZmYQEBDu7u4yMjJUVFTMzMyIiIi6uroAAAAs73DqAAAAAXRSTlMAQObYZgAAAZZJREFU\n",
       "OMtjYMAE4QEMBMGxRBiL7wKa1KQEBiLACQcGhjgQ4zS6zH1itDOwLwDiA0DGSnSZDGzKefXQBNga\n",
       "gATQDN4LOPWLH4CLTdNlwKY/jIGBYwIu/afXwYWmqzJg1T+DgeEVAw79r/bARaSXMGDXz+zAUIZD\n",
       "v1chXADJIWj62QoYlgKDcRUYbIDKVIGIS5lwlZNtkLRVgZWuZmBg/QDksSxg6EM3mAckkoQUqry6\n",
       "E7DFyHJQ2mlg+IeufQcw1DmNHyAJsaphM4AZ6HKeDxj6Gfh6QKbsckASYlkugKlfjQGsvwXofyUw\n",
       "MIBK7AIRjEXImYBvNSwpFIGVKkP9D3S/KZIyiDOTwCRn0k24CNAi4wMMnJjhz7qAIR0hxPkJJf0E\n",
       "ZcJEQAbsY5ivgC3+HiHp7xdASb9eB6AiEDDjI4Z+rgcMHEgq+ATQ8w8fcsA9xJZ+WZFyOytG/mNF\n",
       "1hKAoT8XNf9CVEeg6RcCB7kemn5Q/udcAMocCDFIopt0AV0Emg5Ryx9gCuMG+Y4RowAIcyCy/LvD\n",
       "wAAAVSxhuPRMeaUAAAAASUVORK5CYII=\n",
       "\" style=\"display:inline;vertical-align:middle;\" /></a></td></tr>\n",
       "<tr><td>3</td><td>Operation</td><td>operator:&nbsp;4<br>operands:&nbsp;5<br></td><td><a class=\"ProveItLink\" href=\"../7bc7ad9fcc1d2d481be86cef8dce5c57d078062b0/expr.ipynb\"><img src=\"data:image/png;base64,iVBORw0KGgoAAAANSUhEUgAAAFUAAAAVBAMAAADFg78FAAAAMFBMVEX///9ERETc3NyqqqpUVFS6\n",
       "urrMzMwyMjIQEBCIiIh2dnYiIiLu7u5mZmaYmJgAAABJJ2g3AAAAAXRSTlMAQObYZgAAAP9JREFU\n",
       "KM9jYGDgu8dAELCtUgBRPLsYiABszSCS8wMxahmugwiuBmxSnFvRBFagqGW6hpA5tZMBn1o29wC4\n",
       "xNl9DPjUspYkwMVVihnwqWWuVYALp5Qy4FDLWwDyyq4DcNGDYggVvOVg4MDA8B7EzQA6kwvZK5w7\n",
       "D2Axl/0C0MI2kFGiyMJ8u7ApFn/AwBAB8lMKim+QHQ8D3AuABAvIvQy6KKEEDxTe3WAgAHUv1wZo\n",
       "6AMt5oFHv2ACgoMZFyBXnt8AV+yKxMGMY+YyhhOfkGRROGhqQSCIARcHU+0DBlwcsFo+dLXaYK9v\n",
       "RVMLTr88SHHGiZKEUfJFKyQAFhOZ3wC9D0sdukcx3gAAAABJRU5ErkJggg==\n",
       "\" style=\"display:inline;vertical-align:middle;\" /></a></td></tr>\n",
       "<tr><td>4</td><td>Literal</td><td></td><td><a class=\"ProveItLink\" href=\"../../../../logic/set_theory/enumeration/__pv_it/07381ed5b23806e8d7914b78cb6667769e3708dd0/expr.ipynb\"><img src=\"data:image/png;base64,iVBORw0KGgoAAAANSUhEUgAAAB4AAAAOBAMAAADKyLEKAAAAMFBMVEX///8iIiIQEBCIiIjMzMzc\n",
       "3Nyqqqp2dnZEREQyMjK6urru7u5mZmZUVFSYmJgAAACI6eGPAAAAAXRSTlMAQObYZgAAALRJREFU\n",
       "CNdjYGDgu3Nm3wIGBJjHwN0PZW5yYGDgLWBgyITy8zcwMMQDxZyh/INAvD6BgcEFypcB4vjPDiBm\n",
       "TPFRrhs/LjMwMP//38rAwCbKEMPA9gEkE3fp0waG+AUMRxh4JkC01T9guPTOOICBEWgVH5C//wHD\n",
       "H5D4fqCz9oCMDGD4DLaegRXslLMMDMpAgxlOMmQxHDRgYG5gYLBk4D7KcIe7gOHC2rt9QCXsh40Z\n",
       "GCKMGQDRkC8N/Ph1XAAAAABJRU5ErkJggg==\n",
       "\" style=\"display:inline;vertical-align:middle;\" /></a></td></tr>\n",
       "<tr><td>5</td><td>ExprTuple</td><td>6, 7, 8</td><td><a class=\"ProveItLink\" href=\"../79fb47198d469b94e5a80308d5b0882912b28e5f0/expr.ipynb\"><img src=\"data:image/png;base64,iVBORw0KGgoAAAANSUhEUgAAAE8AAAAVBAMAAAD1D64kAAAAMFBMVEX////c3NwiIiJERESqqqqY\n",
       "mJh2dnZmZmYQEBDu7u4yMjJUVFTMzMyIiIi6uroAAAAs73DqAAAAAXRSTlMAQObYZgAAAQxJREFU\n",
       "KM9jYCAa8F0grCYORJwmwjD2A0BiJTaZSw9Q+QsYGHhhNosfgAtzJqE7J4yBgWMChHl6HUJdUQC6\n",
       "DTMYGF5BWK/2wAUZdzlgOIXZgaEMzPAqhIvx7HqA6Wa2AoalYLdnIuw1RriVoWoVCKxmYGBZwNAH\n",
       "5KO4/dJNbIHdwPAPZAiKZUGZmAp5PoAUAp2F4nwkByMpbAF7FDVA4EFQpAQCymCrTaFBDHLZBJjK\n",
       "wzZIHBBgXcCQjnAZ5ye4xOkHSBxI8DyCu+wAZ78AQgqFw8D1gIEDic+HLIfCAUYhawKSS1CchczJ\n",
       "RU1mIDlGsEeVHqAo5AQmMwZpBB8lcSFzuEHOYCQiK9xhYAAAX2lBxOoXVcEAAAAASUVORK5CYII=\n",
       "\" style=\"display:inline;vertical-align:middle;\" /></a></td></tr>\n",
       "<tr><td>6</td><td>Literal</td><td></td><td><a class=\"ProveItLink\" href=\"../7c444b9b2efa607ed6397b492680dde2810212f00/expr.ipynb\"><img src=\"data:image/png;base64,iVBORw0KGgoAAAANSUhEUgAAAA4AAAAMBAMAAACgrpHpAAAALVBMVEX///+YmJhERETu7u52dnYi\n",
       "IiKIiIiqqqq6uroyMjJUVFTMzMxmZmbc3NwAAADmAst+AAAAAXRSTlMAQObYZgAAAD5JREFUCNdj\n",
       "YAAB3tNgintlA4jimLUBRLHPuQCi2EIMQBRLGFgJg5EGhGbYNR3KuBMIZZiEGUAYjCFQBvtsABzC\n",
       "Cm98G6SsAAAAAElFTkSuQmCC\n",
       "\" style=\"display:inline;vertical-align:middle;\" /></a></td></tr>\n",
       "<tr><td>7</td><td>Literal</td><td></td><td><a class=\"ProveItLink\" href=\"../aa616d6a8fe3483e4e64187262e9c7dfe6a536a30/expr.ipynb\"><img src=\"data:image/png;base64,iVBORw0KGgoAAAANSUhEUgAAAA4AAAARBAMAAAAf5oCsAAAALVBMVEX///9ERETMzMyqqqoyMjJU\n",
       "VFTc3NyYmJhmZmZ2dnbu7u66uroiIiKIiIgAAAAFyQXGAAAAAXRSTlMAQObYZgAAAEBJREFUCNdj\n",
       "YEAGvKfB1MqzYGrFcTCV6gymVL3B1EIhqNKzCyAM9pNQBrNHAoTB7aoAYTAJwhjRDLhAzhkQOA0A\n",
       "iskPUSt9tJUAAAAASUVORK5CYII=\n",
       "\" style=\"display:inline;vertical-align:middle;\" /></a></td></tr>\n",
       "<tr><td>8</td><td>Literal</td><td></td><td><a class=\"ProveItLink\" href=\"../../../../logic/equality/__pv_it/2fb26078095930560931daa0500ce419a39ea6cd0/expr.ipynb\"><img src=\"data:image/png;base64,iVBORw0KGgoAAAANSUhEUgAAAA4AAAAFBAMAAACHocAhAAAAFVBMVEX///9EREQiIiJUVFQyMjJm\n",
       "ZmYAAADubVkoAAAAAXRSTlMAQObYZgAAABRJREFUCNdjCHEBAWcGXCBICQQUAUpuAwlgGKrkAAAA\n",
       "AElFTkSuQmCC\n",
       "\" style=\"display:inline;vertical-align:middle;\" /></a></td></tr>\n",
       "</table>\n"
      ],
      "text/plain": [
       "0. = in {< , <= , =}\n",
       "   core type: Operation\n",
       "   operator: 1\n",
       "   operands: 2\n",
       "1. in\n",
       "   core type: Literal\n",
       "   sub-expressions: \n",
       "2. (= , {< , <= , =})\n",
       "   core type: ExprTuple\n",
       "   sub-expressions: 8, 3\n",
       "3. {< , <= , =}\n",
       "   core type: Operation\n",
       "   operator: 4\n",
       "   operands: 5\n",
       "4. Set\n",
       "   core type: Literal\n",
       "   sub-expressions: \n",
       "5. (< , <= , =)\n",
       "   core type: ExprTuple\n",
       "   sub-expressions: 6, 7, 8\n",
       "6. <\n",
       "   core type: Literal\n",
       "   sub-expressions: \n",
       "7. <=\n",
       "   core type: Literal\n",
       "   sub-expressions: \n",
       "8. =\n",
       "   core type: Literal\n",
       "   sub-expressions: "
      ]
     },
     "execution_count": 3,
     "metadata": {},
     "output_type": "execute_result"
    }
   ],
   "source": [
    "# display the expression information\n",
    "eq__in__less_eq_relations.exprInfo()"
   ]
  },
  {
   "cell_type": "code",
   "execution_count": null,
   "metadata": {},
   "outputs": [],
   "source": []
  }
 ],
 "metadata": {
  "kernelspec": {
   "display_name": "Python 3",
   "language": "python",
   "name": "python3"
  }
 },
 "nbformat": 4,
 "nbformat_minor": 0
}
