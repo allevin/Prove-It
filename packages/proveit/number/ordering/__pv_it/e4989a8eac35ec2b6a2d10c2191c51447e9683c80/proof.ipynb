{
 "cells": [
  {
   "cell_type": "markdown",
   "metadata": {},
   "source": [
    "Show the Proof\n",
    "========"
   ]
  },
  {
   "cell_type": "code",
   "execution_count": 1,
   "metadata": {},
   "outputs": [
    {
     "data": {
      "text/html": [
       "<table><tr><th>&nbsp;</th><th>step type</th><th>requirements</th><th>statement</th></tr>\n",
       "<tr><td>0</td><td>assumption</td><td></td><td><span style=\"font-size:20px;\"><a class=\"ProveItLink\" href=\"../be482dec59175481b602c9d88bec365f7eabd87a0/expr.ipynb\"><img src=\"data:image/png;base64,iVBORw0KGgoAAAANSUhEUgAAAEUAAAAVBAMAAADiLT7tAAAAMFBMVEX///9ERETc3NyqqqpUVFS6\n",
       "urrMzMwyMjIQEBCIiIh2dnYiIiLu7u5mZmaYmJgAAABJJ2g3AAAAAXRSTlMAQObYZgAAATFJREFU\n",
       "KM9jYGDgu8eAE7CtUgBRPLsY8AC2ZhDJ+QGLFF+94PeKShDrOojgasCmn5HJgU24CMhYgU/NBQYZ\n",
       "RexqTlbv3g5Ts4wRqxq2ugMIc1DVnLrFwPQHxFE8gGSXD9wu3gIGhgXxUO8JIbmHdR/Ize9BvIwA\n",
       "BjaD2wyMAqCwEkCo6d5dDGKwX2BgSGkDSjF0MvBPAAqwdu/eDXPz1QsyYNXiDxgYIhIYGJj/MOQn\n",
       "gJzsgGTX1RQQg3sBkGApALtpBjheNiCpYT/5AOYerg1gS0XAUn5Iatgc3JD9zuvA+g8sdToAye+L\n",
       "GRWQ1PBIzv0ElmKqTYDF6ccEdvHPKOHMBXUJszvEX3AAV+PNcMIARwICq+EDqtnFIIUrkYHTD89O\n",
       "BgbLuQG40mErxH2LCaRnAISgVL2ht+KMAAAAAElFTkSuQmCC\n",
       "\" style=\"display:inline;vertical-align:middle;\" /></a> <a class=\"ProveItLink\" href=\"proof.ipynb\" style=\"text-decoration: none\">&#x22A2;&nbsp;</a><a class=\"ProveItLink\" href=\"../08e54d329855007954b4b165eadb79761c60e3d30/expr.ipynb\"><img src=\"data:image/png;base64,iVBORw0KGgoAAAANSUhEUgAAADMAAAASBAMAAAAEf/uKAAAAMFBMVEX///+YmJhUVFQyMjIQEBBE\n",
       "REQiIiKqqqrMzMyIiIi6urrc3NxmZmZ2dnbu7u4AAADXeCicAAAAAXRSTlMAQObYZgAAANpJREFU\n",
       "GNNjYMAAwl/jjZ0nMGAFAZsYWos3YJfaw8D6OgBZhG9yWpoBVIq3AUWqWQ6hCyzFd+cCw/4HQAHu\n",
       "OCQDmUAG8nJ9YJgPEmDdgCS1TBjIa+dJYAgFCTxFOGNLWnIBkH7AMoHhJ0hgSVoa3BlrWEFWMNQ/\n",
       "4PgBopuQHM+zQgHEOMzA6QCinyH7y24iiGHDwApWwiSAJNXE1ABkHGJYDxbky0KS4i2IBrls5nmI\n",
       "szefgAdvBIOpPciNDNegqovMIC6EAaYEPnfsEcDAdoH1Ag4p9pmncMgAANZZQBgTUDIlAAAAAElF\n",
       "TkSuQmCC\n",
       "\" style=\"display:inline;vertical-align:middle;\" /></a></span></td></tr>\n",
       "</table>"
      ],
      "text/plain": [
       "<proveit._core_.proof._ShowProof at 0x7f94e9893438>"
      ]
     },
     "execution_count": 1,
     "metadata": {},
     "output_type": "execute_result"
    }
   ],
   "source": [
    "import proveit\n",
    "%show_proof"
   ]
  },
  {
   "cell_type": "code",
   "execution_count": null,
   "metadata": {},
   "outputs": [],
   "source": []
  }
 ],
 "metadata": {
  "kernelspec": {
   "display_name": "Python 3",
   "language": "python",
   "name": "python3"
  }
 },
 "nbformat": 4,
 "nbformat_minor": 0
}
