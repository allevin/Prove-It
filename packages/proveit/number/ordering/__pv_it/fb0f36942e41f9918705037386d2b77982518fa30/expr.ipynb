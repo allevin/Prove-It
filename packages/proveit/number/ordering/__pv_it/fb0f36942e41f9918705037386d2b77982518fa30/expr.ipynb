{
 "cells": [
  {
   "cell_type": "markdown",
   "metadata": {},
   "source": [
    "Expression of type <a class=\"ProveItLink\" href=\"../../../../../../doc/html/api/proveit.logic.Or.html\">Or</a>\n",
    "=======================\n",
    "# from context <a class=\"ProveItLink\" href=\"../../_context_.ipynb\">proveit.number.ordering</a>"
   ]
  },
  {
   "cell_type": "code",
   "execution_count": 1,
   "metadata": {},
   "outputs": [],
   "source": [
    "# import Expression classes needed to build the expression\n",
    "from proveit.logic import Equals, Or\n",
    "from proveit.number import Less, LessEq"
   ]
  },
  {
   "cell_type": "code",
   "execution_count": 2,
   "metadata": {},
   "outputs": [
    {
     "data": {
      "text/html": [
       "<strong id=\"expr\">expr:</strong> <a class=\"ProveItLink\" href=\"expr.ipynb\"><img src=\"data:image/png;base64,iVBORw0KGgoAAAANSUhEUgAAAOsAAAAVBAMAAABVvASPAAAAMFBMVEX////c3NwiIiJERESqqqqY\n",
       "mJh2dnZmZmYQEBDu7u4yMjJUVFTMzMyIiIi6uroAAAAs73DqAAAAAXRSTlMAQObYZgAAAkxJREFU\n",
       "SMfFljFLI0EUgN9q4mZjEoONRRBEOcHC4yBelyK1lVhYCB6SRiwEtbhCLCLY2Ejg4E6stvAQFUTb\n",
       "EIKQ0kJJJ3ggVkfgwF9w3Lz3ZnadCZPdre4VM/vmfXnz9s17swH4T1J4tFnSL+bKH6uXL5CQvbdH\n",
       "tG/ouRsr6t4lZC+k0u17N8jSSOs50hu8nv+oc6j7MVkUweY5x17NzPXEHaTX8aGFw69gAPg+r5Ok\n",
       "r0AslkSwGYrK210yTPfXYrWOTx0c5nA4IsuPDzrJ+gnEYVkE28PZaVYNS4/iXqB0FQFS21h8lMjS\n",
       "mU5Kfbgag5Ui2K94GE3zXBd3aNrAAd2gO3DXZRbMrKCMbEezSgT7U+SyzGXoXpKIEuxuyt1BJo2S\n",
       "lxUH8a3Clj1CrwIdUn4kq2Zkj7GIn/RogvL6DbI62jhnRE7y8w29iJVeqEey4VVRh784L2++X/XK\n",
       "KucPNA6BR68yhsvpWd2X0nNv0WzQ02+8rTpLtawqjLd1qyNLgStInRc1H1KX2w5mw20Pw8p1p0k+\n",
       "icqW/cRJdvwhmjMcTOFKlMIuoTOBrpI8iA1+I9jPMoJORctzjY57lbXWGte97O1cWb8JSU/7sVg+\n",
       "GJ97hDpBbyI6bmnszL3rEfTVNpLWDo1RrDS+2i7sRRGm7Lss+yhMDfiQZV8SsZmi3cyXo4hYFuTB\n",
       "AFcnkIjl695ymzz2XeFW2YJk7AU4XMH9H75TMzkNGCc0/Jgp3fOj2SCJyJbsUd0aumP/dI8WE7KO\n",
       "9U9Nvq/2J62uniER+w+JpLRjdgwEoQAAAABJRU5ErkJggg==\n",
       "\" style=\"display:inline;vertical-align:middle;\" /></a><br>"
      ],
      "text/plain": [
       "expr: (<= = <) or (<= = <=) or (<= = =)"
      ]
     },
     "execution_count": 2,
     "metadata": {},
     "output_type": "execute_result"
    }
   ],
   "source": [
    "# build up the expression from sub-expressions\n",
    "expr = Or(Equals(LessEq._operator_, Less._operator_), Equals(LessEq._operator_, LessEq._operator_), Equals(LessEq._operator_, Equals._operator_))"
   ]
  },
  {
   "cell_type": "code",
   "execution_count": 3,
   "metadata": {},
   "outputs": [
    {
     "name": "stdout",
     "output_type": "stream",
     "text": [
      "Passed sanity check: built 'expr' is the same as the stored Expression.\n"
     ]
    }
   ],
   "source": [
    "# check that the built expression is the same as the stored expression\n",
    "%check_expr"
   ]
  },
  {
   "cell_type": "code",
   "execution_count": 4,
   "metadata": {},
   "outputs": [
    {
     "data": {
      "text/html": [
       "<table><tr><th>&nbsp;</th><th>core type</th><th>sub-expressions</th><th>expression</th></tr>\n",
       "<tr><td>0</td><td>Operation</td><td>operator:&nbsp;1<br>operands:&nbsp;2<br></td><td><a class=\"ProveItLink\" href=\"expr.ipynb\"><img src=\"data:image/png;base64,iVBORw0KGgoAAAANSUhEUgAAAOsAAAAVBAMAAABVvASPAAAAMFBMVEX////c3NwiIiJERESqqqqY\n",
       "mJh2dnZmZmYQEBDu7u4yMjJUVFTMzMyIiIi6uroAAAAs73DqAAAAAXRSTlMAQObYZgAAAkxJREFU\n",
       "SMfFljFLI0EUgN9q4mZjEoONRRBEOcHC4yBelyK1lVhYCB6SRiwEtbhCLCLY2Ejg4E6stvAQFUTb\n",
       "EIKQ0kJJJ3ggVkfgwF9w3Lz3ZnadCZPdre4VM/vmfXnz9s17swH4T1J4tFnSL+bKH6uXL5CQvbdH\n",
       "tG/ouRsr6t4lZC+k0u17N8jSSOs50hu8nv+oc6j7MVkUweY5x17NzPXEHaTX8aGFw69gAPg+r5Ok\n",
       "r0AslkSwGYrK210yTPfXYrWOTx0c5nA4IsuPDzrJ+gnEYVkE28PZaVYNS4/iXqB0FQFS21h8lMjS\n",
       "mU5Kfbgag5Ui2K94GE3zXBd3aNrAAd2gO3DXZRbMrKCMbEezSgT7U+SyzGXoXpKIEuxuyt1BJo2S\n",
       "lxUH8a3Clj1CrwIdUn4kq2Zkj7GIn/RogvL6DbI62jhnRE7y8w29iJVeqEey4VVRh784L2++X/XK\n",
       "KucPNA6BR68yhsvpWd2X0nNv0WzQ02+8rTpLtawqjLd1qyNLgStInRc1H1KX2w5mw20Pw8p1p0k+\n",
       "icqW/cRJdvwhmjMcTOFKlMIuoTOBrpI8iA1+I9jPMoJORctzjY57lbXWGte97O1cWb8JSU/7sVg+\n",
       "GJ97hDpBbyI6bmnszL3rEfTVNpLWDo1RrDS+2i7sRRGm7Lss+yhMDfiQZV8SsZmi3cyXo4hYFuTB\n",
       "AFcnkIjl695ymzz2XeFW2YJk7AU4XMH9H75TMzkNGCc0/Jgp3fOj2SCJyJbsUd0aumP/dI8WE7KO\n",
       "9U9Nvq/2J62uniER+w+JpLRjdgwEoQAAAABJRU5ErkJggg==\n",
       "\" style=\"display:inline;vertical-align:middle;\" /></a></td></tr>\n",
       "<tr><td>1</td><td>Literal</td><td></td><td><a class=\"ProveItLink\" href=\"../../../../logic/boolean/disjunction/__pv_it/087d0b4ded7c7e5bf3bba05ecb616d7a8051ff650/expr.ipynb\"><img src=\"data:image/png;base64,iVBORw0KGgoAAAANSUhEUgAAAAwAAAAOBAMAAADpk+DfAAAALVBMVEX///+YmJh2dnZmZmaqqqrc\n",
       "3NwyMjLu7u4iIiJERESIiIhUVFTMzMy6uroAAAD0I/TTAAAAAXRSTlMAQObYZgAAAEtJREFUCNdj\n",
       "uMAABDwMe0DUKoaTIKqdgS2AgYHFAITAzHYGsMQqBoa9QIqDgT0BSDE7MAkAKdYEDpAehj1SYOpk\n",
       "O5hiMwBTPAUMDAB33Atnw8aG2QAAAABJRU5ErkJggg==\n",
       "\" style=\"display:inline;vertical-align:middle;\" /></a></td></tr>\n",
       "<tr><td>2</td><td>ExprTuple</td><td>3, 4, 5</td><td><a class=\"ProveItLink\" href=\"../7c78565975154f3836ab030f0bc410a6618e9b360/expr.ipynb\"><img src=\"data:image/png;base64,iVBORw0KGgoAAAANSUhEUgAAAK8AAAAVBAMAAADC7aNVAAAAMFBMVEX////c3NwiIiJERESqqqqY\n",
       "mJh2dnZmZmYQEBDu7u4yMjJUVFTMzMyIiIi6uroAAAAs73DqAAAAAXRSTlMAQObYZgAAAZ1JREFU\n",
       "OMtjYKAZ4LtAfTPjQMRpGjiW/QCQWAnlXHqAWyGvHh4+uiQILAAKQ0KCMwk9RMQPwJnTdFGlUPjo\n",
       "kmAQxsDAMQFsblEAmtTpdXDmdFVUKRQ+uiQEzGBgeAWiGXc5oMm82gNnSi9BlULho0tCAbMDQxmQ\n",
       "4tmFHr5ehdicjslHl4QBtgKGpcBwMIYEJ/sqMNgAjMhMuJLJNhC6Ciy3Gs7HKgmjGVgWMPSBEsRN\n",
       "VPuQI5JXdwJqgkDmo0siMkcDwz8QHZSJLMppjBwyrGqomlH46JIwwPMBYjBymILDHDkuWZYLoGhC\n",
       "4aNLIgxuQaQCdiUwMACmEpTUx7caGAdFYDllOB+rJFwRMChMoQoO26CERhIo2GHe5DE+gOoeIJ+T\n",
       "AYckJIgWMKTDUw5qkgMGO+cnuOZ9aD7dxzBfAZckNLk9wlU+eB3g7BfAXXzM+IivFOJ6wMCBRzMf\n",
       "HjmGh/gMBmZp1gTc0qz49Abgk8wFF5uMkNTwAKvBQmA5RMkI5wdgkYTH/QJQMYLbXnx1Cy8+B3OD\n",
       "wpCRBlXTHQYGADTZdSF1mFREAAAAAElFTkSuQmCC\n",
       "\" style=\"display:inline;vertical-align:middle;\" /></a></td></tr>\n",
       "<tr><td>3</td><td>Operation</td><td>operator:&nbsp;11<br>operands:&nbsp;6<br></td><td><a class=\"ProveItLink\" href=\"../1697853e8b13cc180848186c0faea52d16ffd2da0/expr.ipynb\"><img src=\"data:image/png;base64,iVBORw0KGgoAAAANSUhEUgAAAC4AAAARBAMAAABQu4N8AAAALVBMVEX///9ERETMzMyqqqoyMjJU\n",
       "VFTc3NyYmJhmZmZ2dnbu7u66uroiIiKIiIgAAAAFyQXGAAAAAXRSTlMAQObYZgAAAHtJREFUGNNj\n",
       "YMAHeE9jFV55Fk2ArQlErjiOJswUsgFIpjqjCXO7KgBJVW80YWaPBCC5UAjCa3EBAVegG04uADvl\n",
       "7AIU1ZwwN7CfRJFYKI1qHhyoOqPY33MGBA4CuRlwZzMJKqB6E2YyUzSK3WhWInnBiYFUkAN2B0Y4\n",
       "AwDb3CHKZIh37wAAAABJRU5ErkJggg==\n",
       "\" style=\"display:inline;vertical-align:middle;\" /></a></td></tr>\n",
       "<tr><td>4</td><td>Operation</td><td>operator:&nbsp;11<br>operands:&nbsp;7<br></td><td><a class=\"ProveItLink\" href=\"../961107e88466c9cc518fdff95183e4ae6a7862b70/expr.ipynb\"><img src=\"data:image/png;base64,iVBORw0KGgoAAAANSUhEUgAAAC4AAAARBAMAAABQu4N8AAAALVBMVEX///9ERETMzMyqqqoyMjJU\n",
       "VFTc3NyYmJhmZmZ2dnbu7u66uroiIiKIiIgAAAAFyQXGAAAAAXRSTlMAQObYZgAAAGdJREFUGNNj\n",
       "YMAHeE9j5a88iyoM5a84jioM5ac6owpD+areqMJQ/kIhCLfFBQRc4XzeswtQnQLjs59ElYDzmT0S\n",
       "UCTgfG5XBQaGnjMgcBDOBwEmQQUUHXA+UzSqW9H5FIAcsDtOo/MBmEwmB/8QJfMAAAAASUVORK5C\n",
       "YII=\n",
       "\" style=\"display:inline;vertical-align:middle;\" /></a></td></tr>\n",
       "<tr><td>5</td><td>Operation</td><td>operator:&nbsp;11<br>operands:&nbsp;8<br></td><td><a class=\"ProveItLink\" href=\"../e148f3102caa95d83769139f254e76e68ea4acf70/expr.ipynb\"><img src=\"data:image/png;base64,iVBORw0KGgoAAAANSUhEUgAAAC4AAAARBAMAAABQu4N8AAAALVBMVEX///9ERETMzMyqqqoyMjJU\n",
       "VFTc3NyYmJhmZmZ2dnbu7u66uroiIiKIiIgAAAAFyQXGAAAAAXRSTlMAQObYZgAAAFZJREFUGNNj\n",
       "YMAHeE9jFV55FqvwiuNYhVOdsQqremMVXigEoVtcQMAVTvOeXYDdjewncUgweyRgl+B2VWBg6DkD\n",
       "AgfhNAgwCSpg18EUzUArkAO2HyOcAYBzHh36IcOWAAAAAElFTkSuQmCC\n",
       "\" style=\"display:inline;vertical-align:middle;\" /></a></td></tr>\n",
       "<tr><td>6</td><td>ExprTuple</td><td>10, 9</td><td><a class=\"ProveItLink\" href=\"../cb14a9acfe98c362f09835d630efa24e342ddf290/expr.ipynb\"><img src=\"data:image/png;base64,iVBORw0KGgoAAAANSUhEUgAAADUAAAAVBAMAAAAUZLt1AAAAMFBMVEX////c3NwiIiJERESqqqqY\n",
       "mJh2dnZmZmYQEBDu7u4yMjJUVFTMzMyIiIi6uroAAAAs73DqAAAAAXRSTlMAQObYZgAAAPRJREFU\n",
       "KM9jYMAH+C5gFY4DEaexa2E/ACRWQjmXHqBKLmBg4IUYyZmEbDRjDQNDGAMDxwSwVFEAkhTPLqAZ\n",
       "MxgYXoHV7XJAdt1qkF3MDgxlMHVwwLJcAESxFTAsBRpofABJildtAkTJAoY+kBNvIqTYdGEmNzD8\n",
       "A9FBmXC5yXYwB32AyDF4FcIlTy+By7VAWK/2wCXFVWFmmkJFDtswMEAcwTBNF8RgXcCQDjfrAecn\n",
       "KJMV5FSgHx4hnMjZLwDz4hoGBq4HDBwCSAGCxAaFGWsCgsuKHA+54DhiVAKDByhynMA4YpBG8JGj\n",
       "iRtkPiP2NHGHgQEAeNQ2XgmIf1sAAAAASUVORK5CYII=\n",
       "\" style=\"display:inline;vertical-align:middle;\" /></a></td></tr>\n",
       "<tr><td>7</td><td>ExprTuple</td><td>10, 10</td><td><a class=\"ProveItLink\" href=\"../d5e78aa4bcd0662d27edd300c321a48db9ce05c70/expr.ipynb\"><img src=\"data:image/png;base64,iVBORw0KGgoAAAANSUhEUgAAADUAAAAVBAMAAAAUZLt1AAAAMFBMVEX////c3NwiIiJERESqqqqY\n",
       "mJh2dnZmZmYQEBDu7u4yMjJUVFTMzMyIiIi6uroAAAAs73DqAAAAAXRSTlMAQObYZgAAAPhJREFU\n",
       "KM9jYMAH+C5gFY4DEaexa2E/ACRWQjmXHiAkePUYGBYAKYiRnElIRk/TBRJhDAwcE8BSRQEIqemq\n",
       "IHIGA8MrEM24ywEhJb0ETDE7MJQBKZ5dSHadXgeh2QoYlgINND6AkJpsA2WwLGDoAznxJpITdSdA\n",
       "/d3A8A9EB2UiJFnVIJI8HyByDF6FCEmW5QJQuRaIwKs9SKG4+gDETFOowGGgG6A2MfCAHMe6gCEd\n",
       "7vYHnJ9gbJ59YD88QpjF2S+AFNhcDxg4kPh8yHLAMGNNQHI+ciTlguOIUQkMHoDlhMBsPQbOBaCg\n",
       "RShFTgHcIPMZsaeJOwwMAIoqNwTlnxarAAAAAElFTkSuQmCC\n",
       "\" style=\"display:inline;vertical-align:middle;\" /></a></td></tr>\n",
       "<tr><td>8</td><td>ExprTuple</td><td>10, 11</td><td><a class=\"ProveItLink\" href=\"../76263df664e404f849918307450862aa9841394b0/expr.ipynb\"><img src=\"data:image/png;base64,iVBORw0KGgoAAAANSUhEUgAAADUAAAAVBAMAAAAUZLt1AAAAMFBMVEX////c3NwiIiJERESqqqqY\n",
       "mJh2dnZmZmYQEBDu7u4yMjJUVFTMzMyIiIi6uroAAAAs73DqAAAAAXRSTlMAQObYZgAAANVJREFU\n",
       "KM9jYMAH+C5gFY4DEaexa2E/ACRWQjmXHqBKLmBg4IUYyZmEbnQYAwPHBLBUUQC6oTMYGF6BaMZd\n",
       "DhgWMjswlAEpnl0PMB3DVsCwFGig8QGEUNUqEFjNwMCygKEP5MSb2PzdwPAPRAdlYsrxfIDIMXgV\n",
       "YpNrgbBe7YEKFSmBgDLYTFOo2GEbBoYJyPpYFzCkw9inH3B+QvPDIwSPs18ASY7rAQMHEp9PADXM\n",
       "WBOQrEA2MxccR4xgpyk9QJHjBMYRgzSCjxxN3CDzGbGniTsMDADVITGNsGJzawAAAABJRU5ErkJg\n",
       "gg==\n",
       "\" style=\"display:inline;vertical-align:middle;\" /></a></td></tr>\n",
       "<tr><td>9</td><td>Literal</td><td></td><td><a class=\"ProveItLink\" href=\"../7c444b9b2efa607ed6397b492680dde2810212f00/expr.ipynb\"><img src=\"data:image/png;base64,iVBORw0KGgoAAAANSUhEUgAAAA4AAAAMBAMAAACgrpHpAAAALVBMVEX///+YmJhERETu7u52dnYi\n",
       "IiKIiIiqqqq6uroyMjJUVFTMzMxmZmbc3NwAAADmAst+AAAAAXRSTlMAQObYZgAAAD5JREFUCNdj\n",
       "YAAB3tNgintlA4jimLUBRLHPuQCi2EIMQBRLGFgJg5EGhGbYNR3KuBMIZZiEGUAYjCFQBvtsABzC\n",
       "Cm98G6SsAAAAAElFTkSuQmCC\n",
       "\" style=\"display:inline;vertical-align:middle;\" /></a></td></tr>\n",
       "<tr><td>10</td><td>Literal</td><td></td><td><a class=\"ProveItLink\" href=\"../aa616d6a8fe3483e4e64187262e9c7dfe6a536a30/expr.ipynb\"><img src=\"data:image/png;base64,iVBORw0KGgoAAAANSUhEUgAAAA4AAAARBAMAAAAf5oCsAAAALVBMVEX///9ERETMzMyqqqoyMjJU\n",
       "VFTc3NyYmJhmZmZ2dnbu7u66uroiIiKIiIgAAAAFyQXGAAAAAXRSTlMAQObYZgAAAEBJREFUCNdj\n",
       "YEAGvKfB1MqzYGrFcTCV6gymVL3B1EIhqNKzCyAM9pNQBrNHAoTB7aoAYTAJwhjRDLhAzhkQOA0A\n",
       "iskPUSt9tJUAAAAASUVORK5CYII=\n",
       "\" style=\"display:inline;vertical-align:middle;\" /></a></td></tr>\n",
       "<tr><td>11</td><td>Literal</td><td></td><td><a class=\"ProveItLink\" href=\"../../../../logic/equality/__pv_it/2fb26078095930560931daa0500ce419a39ea6cd0/expr.ipynb\"><img src=\"data:image/png;base64,iVBORw0KGgoAAAANSUhEUgAAAA4AAAAFBAMAAACHocAhAAAAFVBMVEX///9EREQiIiJUVFQyMjJm\n",
       "ZmYAAADubVkoAAAAAXRSTlMAQObYZgAAABRJREFUCNdjCHEBAWcGXCBICQQUAUpuAwlgGKrkAAAA\n",
       "AElFTkSuQmCC\n",
       "\" style=\"display:inline;vertical-align:middle;\" /></a></td></tr>\n",
       "</table>\n"
      ],
      "text/plain": [
       "0. (<= = <) or (<= = <=) or (<= = =)\n",
       "   core type: Operation\n",
       "   operator: 1\n",
       "   operands: 2\n",
       "1. or\n",
       "   core type: Literal\n",
       "   sub-expressions: \n",
       "2. (<= = < , <= = <= , <= = =)\n",
       "   core type: ExprTuple\n",
       "   sub-expressions: 3, 4, 5\n",
       "3. <= = <\n",
       "   core type: Operation\n",
       "   operator: 11\n",
       "   operands: 6\n",
       "4. <= = <=\n",
       "   core type: Operation\n",
       "   operator: 11\n",
       "   operands: 7\n",
       "5. <= = =\n",
       "   core type: Operation\n",
       "   operator: 11\n",
       "   operands: 8\n",
       "6. (<= , <)\n",
       "   core type: ExprTuple\n",
       "   sub-expressions: 10, 9\n",
       "7. (<= , <=)\n",
       "   core type: ExprTuple\n",
       "   sub-expressions: 10, 10\n",
       "8. (<= , =)\n",
       "   core type: ExprTuple\n",
       "   sub-expressions: 10, 11\n",
       "9. <\n",
       "   core type: Literal\n",
       "   sub-expressions: \n",
       "10. <=\n",
       "    core type: Literal\n",
       "    sub-expressions: \n",
       "11. =\n",
       "    core type: Literal\n",
       "    sub-expressions: "
      ]
     },
     "execution_count": 4,
     "metadata": {},
     "output_type": "execute_result"
    }
   ],
   "source": [
    "# display the expression information\n",
    "expr.exprInfo()"
   ]
  },
  {
   "cell_type": "code",
   "execution_count": null,
   "metadata": {},
   "outputs": [],
   "source": []
  }
 ],
 "metadata": {
  "kernelspec": {
   "display_name": "Python 3",
   "language": "python",
   "name": "python3"
  }
 },
 "nbformat": 4,
 "nbformat_minor": 0
}
