{
 "cells": [
  {
   "cell_type": "markdown",
   "metadata": {},
   "source": [
    "Show the Proof\n",
    "========"
   ]
  },
  {
   "cell_type": "code",
   "execution_count": 1,
   "metadata": {},
   "outputs": [
    {
     "data": {
      "text/html": [
       "<table><tr><th>&nbsp;</th><th>step type</th><th>requirements</th><th>statement</th></tr>\n",
       "<tr><td>0</td><td>specialization</td><td>1, 2</td><td><span style=\"font-size:20px;\"> <a class=\"ProveItLink\" href=\"proof.ipynb\" style=\"text-decoration: none\">&#x22A2;&nbsp;</a><a class=\"ProveItLink\" href=\"../11f8ded21e16c6ca4a8a9657d508edcab6bf49db0/expr.ipynb\"><img src=\"data:image/png;base64,iVBORw0KGgoAAAANSUhEUgAAADAAAAARBAMAAABp3DInAAAAMFBMVEX///+6urpmZmaqqqru7u52\n",
       "dnYyMjKYmJjc3NwQEBCIiIhEREQiIiJUVFTMzMwAAACQ7J58AAAAAXRSTlMAQObYZgAAAJRJREFU\n",
       "GNNjYGBgeMuAAbaAydNg0icEIe79BURyzYbwzDRg4r53wRLt2VC+9D2YDBdYIgAmwfB6I7IEewNc\n",
       "gqE3EUnCiwEhwdB0DiERgCxRowKXYH6AkGBZE4IwypUBLsESswDJctu7d3/eAvM4dApQncsA8SDH\n",
       "NQMGrBLdAgxoErH/1dGCkEnzmzoDBaDnDAgchHEBHhkuPtR11ycAAAAASUVORK5CYII=\n",
       "\" style=\"display:inline;vertical-align:middle;\" /></a></span></td></tr>\n",
       "<tr><td>&nbsp;</td><td colspan=4 style=\"text-align:left\"><span style=\"font-size:20px;\"><a class=\"ProveItLink\" href=\"../../../../__pv_it/39dbcd3ca0390345b51c6ef7785756419e2c14390/expr.ipynb\"><img src=\"data:image/png;base64,iVBORw0KGgoAAAANSUhEUgAAAAwAAAAJBAMAAAD0ltBnAAAAMFBMVEX///8QEBCYmJhmZmaqqqoi\n",
       "IiLMzMzu7u4yMjJ2dnZUVFTc3NxERESIiIi6uroAAABbPXqjAAAAAXRSTlMAQObYZgAAAERJREFU\n",
       "CNdj4Luz++5KBgZOrl6G+gSGd6wHGOofMBQAsX8BAwivYGBgsGBg+MTOwCDJwPSdk4H7HwPnATcG\n",
       "PgEG7rMOAGtQEUwHZIDZAAAAAElFTkSuQmCC\n",
       "\" style=\"display:inline;vertical-align:middle;\" /></a> : <a class=\"ProveItLink\" href=\"../../../numeral/__pv_it/23412ce59ea7e77353d2f9225e02248e73651ca00/expr.ipynb\"><img src=\"data:image/png;base64,iVBORw0KGgoAAAANSUhEUgAAAAoAAAAPBAMAAAAv0UM9AAAALVBMVEX///9mZmaqqqru7u52dnYy\n",
       "MjKYmJjc3NwQEBCIiIhEREQiIiJUVFTMzMwAAACUDTcXAAAAAXRSTlMAQObYZgAAAD5JREFUCNdj\n",
       "YGBguMMAArtABGcXiCyLApEOIJKtAERaMoBIBxDJdAFEmjCASJ0zZ16cBCkF64KQPu/EwBwGACv6\n",
       "DSRgin9qAAAAAElFTkSuQmCC\n",
       "\" style=\"display:inline;vertical-align:middle;\" /></a></span></td></tr><tr><td>1</td><td>theorem</td><td></td><td><span style=\"font-size:20px;\"> <a class=\"ProveItLink\" href=\"../../../sets/integer/_proofs_/naturalsPosLowerBound.ipynb\" style=\"text-decoration: none\">&#x22A2;&nbsp;</a><a class=\"ProveItLink\" href=\"../b1b9e0572fd53cd6bf1692cc489c1b5a0c8f60660/expr.ipynb\"><img src=\"data:image/png;base64,iVBORw0KGgoAAAANSUhEUgAAAIMAAAAVBAMAAACXjEALAAAAMFBMVEX///8QEBC6urrMzMxUVFRm\n",
       "ZmZERETc3NwyMjKqqqp2dnaIiIiYmJgiIiLu7u4AAAAU9Wx4AAAAAXRSTlMAQObYZgAAAgVJREFU\n",
       "OMtjYKAcPCBCjTZuqUNAfAHEOI3XBGYHHBJ5DAysBgwMK0HsPrxGcCC59O06BPvZPyDRwMBQBqTY\n",
       "E/AasRuZMyMcxnriAjLiFMQK1gl4jZBD4ak5w1jcICMeMjDwLC8vr8VrAlMDKt8sCdkINqD139LS\n",
       "bmHRuADOYgUytdOrt8BFSpqQjOAKYGAAuisdixEBiNA8ADTQYwPfZ7hI6WWEEZxAN6ow8DXgNYJR\n",
       "gYFJ4RoD3ye4yNk4hBFMAgwMvAzcB5ATQWsQw8Y4ZCP4FRj4gPo5/0H5fHvXIXmE+QOQcYAXHu+v\n",
       "Q2MYjnE94HoQ4nLFZQLCCJB+Fqhb+dZuYEAzgq/BBB5LSXXvGM5sCOB6gOIRoFmsDQz8B8A2scce\n",
       "QIlUkEcY0p2AURutvYSB4ShI4vDkalQj2IB6GBcwnH8AihJ2D0QaAhvBA3LcVGA2eaN/gNeAAezU\n",
       "w1xvrFCMAEVbvQLDMk5gdmAoU2BANQIky8AI9FvdDgb+AmZwzB9mWLAExQgmoBWKQM070eKMNfBH\n",
       "DDDKQWbygPzoDVTFfC0tLRtoRM1boEgBQq04vrT7EM4SZghl4nOAuILJGrUQOYXPiNUwBvsHBmFl\n",
       "BneIEQynHuDM7LV3QeASnI9IlkwJDFEHGJ4B/cXUpsDAgmoRuwNuR7AUoAksA4YFFlCN24jNDAwA\n",
       "Of2NBGq3icoAAAAASUVORK5CYII=\n",
       "\" style=\"display:inline;vertical-align:middle;\" /></a></span></td></tr>\n",
       "<tr><td>&nbsp;</td><td colspan=4 style-\"text-align:left\"><a class=\"ProveItLink\" href=\"../../../sets/integer/_proofs_/naturalsPosLowerBound.ipynb\">proveit.number.sets.integer.naturalsPosLowerBound</a></td></tr><tr><td>2</td><td>theorem</td><td></td><td><span style=\"font-size:20px;\"> <a class=\"ProveItLink\" href=\"../../../numeral/deci/_proofs_/posnat4.ipynb\" style=\"text-decoration: none\">&#x22A2;&nbsp;</a><a class=\"ProveItLink\" href=\"../f903edf0e2a7b2f12c6bb76e9b3e7ac0726992ab0/expr.ipynb\"><img src=\"data:image/png;base64,iVBORw0KGgoAAAANSUhEUgAAAD8AAAAUBAMAAADIGvgZAAAAMFBMVEX///+6urpmZmaqqqru7u52\n",
       "dnYyMjKYmJjc3NwQEBCIiIhEREQiIiJUVFTMzMwAAACQ7J58AAAAAXRSTlMAQObYZgAAAONJREFU\n",
       "KM9jYMADmBkIAG76KXiLKuz2e5sDg84fA4SC02gat/NtYGD4wHAtLTMtbQGQzzUbTcGdB6sYGCYg\n",
       "rGjPhtAsy86cSQAxLqbwPkBWEABV8KwEasK9tywpSArYGyAKOLbArLjHvOA1kgIvBogC7ga4AgZF\n",
       "9gUgBbwQG6AKvBkQCngd7k2AR8gDqALJM2egjrzHwHLBDa7AlQGq4C2SCQxP+eAKbO/e/XkLxPBB\n",
       "VsBusAEpYCABxVuApIAhAlMBy0EYfyMQMyUg5GP/q4PpNj0IX+wnUDdLApbYtc05gykMAGxpQqH5\n",
       "TxUoAAAAAElFTkSuQmCC\n",
       "\" style=\"display:inline;vertical-align:middle;\" /></a></span></td></tr>\n",
       "<tr><td>&nbsp;</td><td colspan=4 style-\"text-align:left\"><a class=\"ProveItLink\" href=\"../../../numeral/deci/_proofs_/posnat4.ipynb\">proveit.number.numeral.deci.posnat4</a></td></tr></table>"
      ],
      "text/plain": [
       "<proveit._core_.proof._ShowProof at 0x7f94ebc845f8>"
      ]
     },
     "execution_count": 1,
     "metadata": {},
     "output_type": "execute_result"
    }
   ],
   "source": [
    "import proveit\n",
    "%show_proof"
   ]
  },
  {
   "cell_type": "code",
   "execution_count": null,
   "metadata": {},
   "outputs": [],
   "source": []
  }
 ],
 "metadata": {
  "kernelspec": {
   "display_name": "Python 3",
   "language": "python",
   "name": "python3"
  }
 },
 "nbformat": 4,
 "nbformat_minor": 0
}
