{
 "cells": [
  {
   "cell_type": "markdown",
   "metadata": {},
   "source": [
    "Expression of type <a class=\"ProveItLink\" href=\"../../../../../../doc/html/api/proveit.ExprTuple.html\">ExprTuple</a>\n",
    "=======================\n",
    "# from context <a class=\"ProveItLink\" href=\"../../_context_.ipynb\">proveit.number.ordering</a>"
   ]
  },
  {
   "cell_type": "code",
   "execution_count": 1,
   "metadata": {},
   "outputs": [],
   "source": [
    "# import Expression classes needed to build the expression\n",
    "from proveit import ExprTuple\n",
    "from proveit._common_ import y, z\n",
    "from proveit.number import Less"
   ]
  },
  {
   "cell_type": "code",
   "execution_count": 2,
   "metadata": {},
   "outputs": [
    {
     "data": {
      "text/html": [
       "<strong id=\"expr\">expr:</strong> <a class=\"ProveItLink\" href=\"expr.ipynb\"><img src=\"data:image/png;base64,iVBORw0KGgoAAAANSUhEUgAAAD0AAAAVBAMAAAAHs/uBAAAAMFBMVEX////c3NwiIiJERESqqqqY\n",
       "mJh2dnZmZmYQEBDu7u4yMjJUVFTMzMyIiIi6uroAAAAs73DqAAAAAXRSTlMAQObYZgAAASdJREFU\n",
       "KM9jYCAE+C7glIoDEadxa2U/ACRW4jF7AQMDL7rxjDUIdhgDA8cEVGmeXQ8QnBkMDK/QXLv6ABKP\n",
       "2YGhjIGBMz2BQR5iDMtyAajUiz7GCwxsBQxLGRjY+D4w3AcL8qrBbGM0vV4MVL6AoY+B4Qi7AoMx\n",
       "SJBNF24yJwPnTqBtDQz/GBgmcFxg+AsSnGyHZLc0yLEfQPIM/hN4/oDFTi9BOLQAIt8CpKoYeBsg\n",
       "ouKqMHk3sKIGBlMgtZyBeQNUeJou1CMJDNwMDKwLGNKBnGqG9wEwfawQL5wKD13HAPLfI5C77tYL\n",
       "wC1mWQMiC1h/ODAwcD1g4ADLJGGPH2D4sgItUuBswS6fC45fpgTmBKzSnAvA4cBytw67dm6Q3Yy4\n",
       "09cdBgYAKOY+laDSO6gAAAAASUVORK5CYII=\n",
       "\" style=\"display:inline;vertical-align:middle;\" /></a><br>"
      ],
      "text/plain": [
       "expr: (y < z)"
      ]
     },
     "execution_count": 2,
     "metadata": {},
     "output_type": "execute_result"
    }
   ],
   "source": [
    "# build up the expression from sub-expressions\n",
    "expr = ExprTuple(Less(y, z))"
   ]
  },
  {
   "cell_type": "code",
   "execution_count": 3,
   "metadata": {},
   "outputs": [
    {
     "name": "stdout",
     "output_type": "stream",
     "text": [
      "Passed sanity check: built 'expr' is the same as the stored Expression.\n"
     ]
    }
   ],
   "source": [
    "# check that the built expression is the same as the stored expression\n",
    "%check_expr"
   ]
  },
  {
   "cell_type": "code",
   "execution_count": 4,
   "metadata": {},
   "outputs": [
    {
     "data": {
      "text/html": [
       "<table><tr><th>&nbsp;</th><th>core type</th><th>sub-expressions</th><th>expression</th></tr>\n",
       "<tr><td>0</td><td>ExprTuple</td><td>1</td><td><a class=\"ProveItLink\" href=\"expr.ipynb\"><img src=\"data:image/png;base64,iVBORw0KGgoAAAANSUhEUgAAAD0AAAAVBAMAAAAHs/uBAAAAMFBMVEX////c3NwiIiJERESqqqqY\n",
       "mJh2dnZmZmYQEBDu7u4yMjJUVFTMzMyIiIi6uroAAAAs73DqAAAAAXRSTlMAQObYZgAAASdJREFU\n",
       "KM9jYCAE+C7glIoDEadxa2U/ACRW4jF7AQMDL7rxjDUIdhgDA8cEVGmeXQ8QnBkMDK/QXLv6ABKP\n",
       "2YGhjIGBMz2BQR5iDMtyAajUiz7GCwxsBQxLGRjY+D4w3AcL8qrBbGM0vV4MVL6AoY+B4Qi7AoMx\n",
       "SJBNF24yJwPnTqBtDQz/GBgmcFxg+AsSnGyHZLc0yLEfQPIM/hN4/oDFTi9BOLQAIt8CpKoYeBsg\n",
       "ouKqMHk3sKIGBlMgtZyBeQNUeJou1CMJDNwMDKwLGNKBnGqG9wEwfawQL5wKD13HAPLfI5C77tYL\n",
       "wC1mWQMiC1h/ODAwcD1g4ADLJGGPH2D4sgItUuBswS6fC45fpgTmBKzSnAvA4cBytw67dm6Q3Yy4\n",
       "09cdBgYAKOY+laDSO6gAAAAASUVORK5CYII=\n",
       "\" style=\"display:inline;vertical-align:middle;\" /></a></td></tr>\n",
       "<tr><td>1</td><td>Operation</td><td>operator:&nbsp;2<br>operands:&nbsp;3<br></td><td><a class=\"ProveItLink\" href=\"../680e8ecd07fa138e9e1c7babfe65aa613a49635d0/expr.ipynb\"><img src=\"data:image/png;base64,iVBORw0KGgoAAAANSUhEUgAAADEAAAAQBAMAAABNQoq8AAAAMFBMVEX///+YmJhUVFQyMjIQEBBE\n",
       "REQiIiKqqqrMzMyIiIi6urrc3NxmZmZ2dnbu7u4AAADXeCicAAAAAXRSTlMAQObYZgAAALlJREFU\n",
       "GNNjYEAB3CcYsAMO5QXYJbiMGpB4fHcuMOx/AGay22yACi7x4p7AwMv1gWE+mMuZ+wBmW+CcowwM\n",
       "7TwJDKEgLm8mwhwGPj0GhgcsExh+grhPo5Ds2AQi6h9w/ADzmswRTjkAIg8zcDpA+HsSYTK1YNKG\n",
       "gVUBKvA2E+rICwxMQOoQw3oBmFpGiPOaZQStQDbPPL8BbgG7BYg8wPilAMy9hj1EmBL43LHLsF1g\n",
       "vYBdhn3mKewSADQLKwPRa+XiAAAAAElFTkSuQmCC\n",
       "\" style=\"display:inline;vertical-align:middle;\" /></a></td></tr>\n",
       "<tr><td>2</td><td>Literal</td><td></td><td><a class=\"ProveItLink\" href=\"../7c444b9b2efa607ed6397b492680dde2810212f00/expr.ipynb\"><img src=\"data:image/png;base64,iVBORw0KGgoAAAANSUhEUgAAAA4AAAAMBAMAAACgrpHpAAAALVBMVEX///+YmJhERETu7u52dnYi\n",
       "IiKIiIiqqqq6uroyMjJUVFTMzMxmZmbc3NwAAADmAst+AAAAAXRSTlMAQObYZgAAAD5JREFUCNdj\n",
       "YAAB3tNgintlA4jimLUBRLHPuQCi2EIMQBRLGFgJg5EGhGbYNR3KuBMIZZiEGUAYjCFQBvtsABzC\n",
       "Cm98G6SsAAAAAElFTkSuQmCC\n",
       "\" style=\"display:inline;vertical-align:middle;\" /></a></td></tr>\n",
       "<tr><td>3</td><td>ExprTuple</td><td>4, 5</td><td><a class=\"ProveItLink\" href=\"../1ba9cd67f202dbea908cf31db96755ce36201b140/expr.ipynb\"><img src=\"data:image/png;base64,iVBORw0KGgoAAAANSUhEUgAAACsAAAAVBAMAAAAtAwouAAAAMFBMVEX////c3NwiIiJERESqqqqY\n",
       "mJh2dnZmZmYQEBDu7u4yMjJUVFTMzMyIiIi6uroAAAAs73DqAAAAAXRSTlMAQObYZgAAAQdJREFU\n",
       "GNNjYMAB+C6gi8SBiNMYCtkPAImVmAYsYGDgvYApHMbAwDEBU3gGA8MrLK5gdmAoY2DgTE9gkIdo\n",
       "4ut4IMvAwFbAsBRI8n1guA9RJxxbbsDAwLKAoY+B4Qi7AoMxRHgCw2ygNr4Ghn9ANscFhr9QYxk3\n",
       "AAmeDyBhBv8JPH+gws8ZIMItQKqKgbcBIsqSALa4gcEUSC1nYN7AwAkScGNgAJrCuoAhHcipZngf\n",
       "wDBfAah7aWnUA7ADHwGFJ9+tF2CY8REYSAzxIEO5HjBwCIA0JwHxQ2TPsyYwcCtwgtQEwIVzwQHL\n",
       "lMCcgCzMCQxYBmkGlrt1QJoXrpgbZC4jRoDfYWAAADdMON26mSCyAAAAAElFTkSuQmCC\n",
       "\" style=\"display:inline;vertical-align:middle;\" /></a></td></tr>\n",
       "<tr><td>4</td><td>Variable</td><td></td><td><a class=\"ProveItLink\" href=\"../../../../__pv_it/f8b9edf8e16034727f0aad55bb83e392c3db40d40/expr.ipynb\"><img src=\"data:image/png;base64,iVBORw0KGgoAAAANSUhEUgAAAAsAAAANBAMAAACN24kIAAAAMFBMVEX///+YmJhUVFQyMjIQEBBE\n",
       "REQiIiKqqqrMzMyIiIi6urrc3NxmZmZ2dnbu7u4AAADXeCicAAAAAXRSTlMAQObYZgAAAFhJREFU\n",
       "CNdj4LtzgWH/AwZerg8M8xkY2nkSGEIZGB6wTGD4ycDAUP+A4weQOszA6QCkbBhYFYDUIYb1AkDq\n",
       "6czzGxhA4BoQMyXwuQMptgusF4AU+8xTQBIAUqMVoSp/SLMAAAAASUVORK5CYII=\n",
       "\" style=\"display:inline;vertical-align:middle;\" /></a></td></tr>\n",
       "<tr><td>5</td><td>Variable</td><td></td><td><a class=\"ProveItLink\" href=\"../../../../__pv_it/251502494639118b4892de8e9d720a5fcce840e10/expr.ipynb\"><img src=\"data:image/png;base64,iVBORw0KGgoAAAANSUhEUgAAAAoAAAAJBAMAAAD5iKAgAAAALVBMVEX///8yMjLMzMx2dnaqqqpU\n",
       "VFTu7u5mZmaYmJhERESIiIjc3NwQEBC6uroAAAB+iRisAAAAAXRSTlMAQObYZgAAADlJREFUCNdj\n",
       "YOA9c2EXA8POrvIJDAwJDKkJDAwM3AFAguE6iGAxAJHODAwBDEwSFY0XGNgZ+o4wAABKtAsIcBKm\n",
       "agAAAABJRU5ErkJggg==\n",
       "\" style=\"display:inline;vertical-align:middle;\" /></a></td></tr>\n",
       "</table>\n"
      ],
      "text/plain": [
       "0. (y < z)\n",
       "   core type: ExprTuple\n",
       "   sub-expressions: 1\n",
       "1. y < z\n",
       "   core type: Operation\n",
       "   operator: 2\n",
       "   operands: 3\n",
       "2. <\n",
       "   core type: Literal\n",
       "   sub-expressions: \n",
       "3. (y , z)\n",
       "   core type: ExprTuple\n",
       "   sub-expressions: 4, 5\n",
       "4. y\n",
       "   core type: Variable\n",
       "   sub-expressions: \n",
       "5. z\n",
       "   core type: Variable\n",
       "   sub-expressions: "
      ]
     },
     "execution_count": 4,
     "metadata": {},
     "output_type": "execute_result"
    }
   ],
   "source": [
    "# display the expression information\n",
    "expr.exprInfo()"
   ]
  },
  {
   "cell_type": "code",
   "execution_count": null,
   "metadata": {},
   "outputs": [],
   "source": []
  }
 ],
 "metadata": {
  "kernelspec": {
   "display_name": "Python 3",
   "language": "python",
   "name": "python3"
  }
 },
 "nbformat": 4,
 "nbformat_minor": 0
}
