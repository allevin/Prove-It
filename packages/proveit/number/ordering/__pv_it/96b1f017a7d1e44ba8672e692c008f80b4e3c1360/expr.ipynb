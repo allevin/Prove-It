{
 "cells": [
  {
   "cell_type": "markdown",
   "metadata": {},
   "source": [
    "Expression of type <a class=\"ProveItLink\" href=\"../../../../../../doc/html/api/proveit.ExprTuple.html\">ExprTuple</a>\n",
    "=======================\n",
    "# from context <a class=\"ProveItLink\" href=\"../../_context_.ipynb\">proveit.number.ordering</a>"
   ]
  },
  {
   "cell_type": "code",
   "execution_count": 1,
   "metadata": {},
   "outputs": [],
   "source": [
    "# import Expression classes needed to build the expression\n",
    "from proveit import ExprTuple\n",
    "from proveit._common_ import v\n",
    "from proveit.logic import InSet\n",
    "from proveit.number import Reals"
   ]
  },
  {
   "cell_type": "code",
   "execution_count": 2,
   "metadata": {},
   "outputs": [
    {
     "data": {
      "text/html": [
       "<strong id=\"expr\">expr:</strong> <a class=\"ProveItLink\" href=\"expr.ipynb\"><img src=\"data:image/png;base64,iVBORw0KGgoAAAANSUhEUgAAAD8AAAAVBAMAAAADRiu8AAAAMFBMVEX////c3NwiIiJERESqqqqY\n",
       "mJh2dnZmZmYQEBDu7u4yMjJUVFTMzMyIiIi6uroAAAAs73DqAAAAAXRSTlMAQObYZgAAATJJREFU\n",
       "KM9jYCAI+C7glosDEaexSER9tl/VBdTIfgDIWYlNq4E0w2EvAQaGBQwMvFhtMBBnYJ5owMAQxsDA\n",
       "MQFJnPOWktICqAK2A0AFMxgYXiFrPBWJMAGsgNmBoQyoLz2BsxckzGiJZAU3yAq2AoalQJLvA6c2\n",
       "SJhZAEnBoyggj2UBQx8DwxF2BQZ3kPBkhCMllLQcQIHUwPCPgWECxwWGIyDhF0pKcEc+Zwa5nucD\n",
       "SAGD/wSGm6hhZiDO/mYDREELkKpiYEgACU9CDoeVVyFWmAIpcwY+UJgycAcgKTjNDRRjXcCQDuQm\n",
       "M8yFhJMekgI2B0OwNx8BubNzoVqlauCRZcOweL0DA9cDBg4B5KD0XgTxBQwAg5o1AV9iycUV3bDI\n",
       "AxknjUcBN8h+RjxJ7g4DAwBrL0WOi5yT9AAAAABJRU5ErkJggg==\n",
       "\" style=\"display:inline;vertical-align:middle;\" /></a><br>"
      ],
      "text/plain": [
       "expr: (v in Reals)"
      ]
     },
     "execution_count": 2,
     "metadata": {},
     "output_type": "execute_result"
    }
   ],
   "source": [
    "# build up the expression from sub-expressions\n",
    "expr = ExprTuple(InSet(v, Reals))"
   ]
  },
  {
   "cell_type": "code",
   "execution_count": 3,
   "metadata": {},
   "outputs": [
    {
     "name": "stdout",
     "output_type": "stream",
     "text": [
      "Passed sanity check: built 'expr' is the same as the stored Expression.\n"
     ]
    }
   ],
   "source": [
    "# check that the built expression is the same as the stored expression\n",
    "%check_expr"
   ]
  },
  {
   "cell_type": "code",
   "execution_count": 4,
   "metadata": {},
   "outputs": [
    {
     "data": {
      "text/html": [
       "<table><tr><th>&nbsp;</th><th>core type</th><th>sub-expressions</th><th>expression</th></tr>\n",
       "<tr><td>0</td><td>ExprTuple</td><td>1</td><td><a class=\"ProveItLink\" href=\"expr.ipynb\"><img src=\"data:image/png;base64,iVBORw0KGgoAAAANSUhEUgAAAD8AAAAVBAMAAAADRiu8AAAAMFBMVEX////c3NwiIiJERESqqqqY\n",
       "mJh2dnZmZmYQEBDu7u4yMjJUVFTMzMyIiIi6uroAAAAs73DqAAAAAXRSTlMAQObYZgAAATJJREFU\n",
       "KM9jYCAI+C7glosDEaexSER9tl/VBdTIfgDIWYlNq4E0w2EvAQaGBQwMvFhtMBBnYJ5owMAQxsDA\n",
       "MQFJnPOWktICqAK2A0AFMxgYXiFrPBWJMAGsgNmBoQyoLz2BsxckzGiJZAU3yAq2AoalQJLvA6c2\n",
       "SJhZAEnBoyggj2UBQx8DwxF2BQZ3kPBkhCMllLQcQIHUwPCPgWECxwWGIyDhF0pKcEc+Zwa5nucD\n",
       "SAGD/wSGm6hhZiDO/mYDREELkKpiYEgACU9CDoeVVyFWmAIpcwY+UJgycAcgKTjNDRRjXcCQDuQm\n",
       "M8yFhJMekgI2B0OwNx8BubNzoVqlauCRZcOweL0DA9cDBg4B5KD0XgTxBQwAg5o1AV9iycUV3bDI\n",
       "AxknjUcBN8h+RjxJ7g4DAwBrL0WOi5yT9AAAAABJRU5ErkJggg==\n",
       "\" style=\"display:inline;vertical-align:middle;\" /></a></td></tr>\n",
       "<tr><td>1</td><td>Operation</td><td>operator:&nbsp;2<br>operands:&nbsp;3<br></td><td><a class=\"ProveItLink\" href=\"../0239183ec8ae69792d0baad53d89a87944b1ecdb0/expr.ipynb\"><img src=\"data:image/png;base64,iVBORw0KGgoAAAANSUhEUgAAADMAAAAPBAMAAAC7N+rPAAAAMFBMVEX////c3NyYmJhEREQyMjKq\n",
       "qqrMzMxUVFQiIiK6urqIiIgQEBBmZmZ2dnbu7u4AAACK0MIjAAAAAXRSTlMAQObYZgAAAMBJREFU\n",
       "GNNjYMAAKp/tXbYsYMAKDMQZkkMEsEvJMDA/NEAW4VvS0eEAleJNQJFK0UPoAkvx3bnAtwskwGiH\n",
       "ZCA7yEBezg987SABZgEkqRkqQF4qTwNDDEjgMcIZ0h0tAUD6AfcChlSQwOyODrgz5jA/ADHiHzCs\n",
       "A9HpSI7nmVYAYhxhYLgAol8g+8tvEYhhw8CZAKLZFZCk0tlBYpcZXkF83IkkxRtgCGQ8vwVVLnIM\n",
       "HrxmDM7+AcjBEe4BcSEUAACRcy5JoxweKgAAAABJRU5ErkJggg==\n",
       "\" style=\"display:inline;vertical-align:middle;\" /></a></td></tr>\n",
       "<tr><td>2</td><td>Literal</td><td></td><td><a class=\"ProveItLink\" href=\"../../../../logic/set_theory/membership/__pv_it/088cbc857536a28d4119ad9639a84270ccb0545d0/expr.ipynb\"><img src=\"data:image/png;base64,iVBORw0KGgoAAAANSUhEUgAAAAwAAAAMBAMAAACkW0HUAAAALVBMVEX///+qqqpmZmZUVFQQEBC6\n",
       "urpERETc3NyYmJjMzMwiIiIyMjKIiIju7u4AAACYsrA9AAAAAXRSTlMAQObYZgAAADxJREFUCNdj\n",
       "YOA9vWrVBgaG2b0MQMCeCyIZ2ArA1DUwyRCyahVIyWQI7xaEYm4AU7xLIdxqTQgtvGvVBgCkcQ7e\n",
       "geM/tQAAAABJRU5ErkJggg==\n",
       "\" style=\"display:inline;vertical-align:middle;\" /></a></td></tr>\n",
       "<tr><td>3</td><td>ExprTuple</td><td>4, 5</td><td><a class=\"ProveItLink\" href=\"../dc0ccc220ddd5efc2d3858cc2fe69e7930df080d0/expr.ipynb\"><img src=\"data:image/png;base64,iVBORw0KGgoAAAANSUhEUgAAAC8AAAAVBAMAAAAk6KpUAAAAMFBMVEX////c3NwiIiJERESqqqqY\n",
       "mJh2dnZmZmYQEBDu7u4yMjJUVFTMzMyIiIi6uroAAAAs73DqAAAAAXRSTlMAQObYZgAAARFJREFU\n",
       "KM9jYMAJ+C5gisWBiNNIAlGf7Vd1ARWyHwByViIrNZBmOOwlwMCwgIGBF8UkA3EG5okGDAxhDAwc\n",
       "E9Ak2A4AJWYwMLxiwCbB7MBQxsDAmZ7A2QuX4AYZxVbAsBRI8n3g1IZLPIoCWs6ygKGPgeEIuwKD\n",
       "O1RCQknLAeS5BoZ/DAwTOC4wHIHpeM4Mcg3PB5AEg/8EhpswCfY3GyASLUCqioEhAW7HyqsQo0yB\n",
       "lDkD3wEGTqjEaW5geLAuYEgHcpMZ5jIwzFeA+sPBEOzcR0Du7NwAoGc/ggPRhmHxegcGrgcMHAIw\n",
       "Xz9ECgFgkLAmwDgBSBK5yMGOJMEJDHYGaSiHF0kDN8h8RixRe4eBAQDn5z9fbs+ABwAAAABJRU5E\n",
       "rkJggg==\n",
       "\" style=\"display:inline;vertical-align:middle;\" /></a></td></tr>\n",
       "<tr><td>4</td><td>Variable</td><td></td><td><a class=\"ProveItLink\" href=\"../../../../__pv_it/5811dd9d8dc299df1f3b81f9eaa4740e636c675a0/expr.ipynb\"><img src=\"data:image/png;base64,iVBORw0KGgoAAAANSUhEUgAAAAoAAAAJBAMAAAD5iKAgAAAALVBMVEX///+YmJhEREQyMjKqqqrM\n",
       "zMxUVFQiIiK6urqIiIgQEBBmZmZ2dnbu7u4AAABVoMxuAAAAAXRSTlMAQObYZgAAAD9JREFUCNdj\n",
       "4D19gHclAw/HA94yhhDuAgZvhgtcExhCGBj8LjDMZWDYzMBwgIFBm4EjgIHhEMNNBgaGaycFGACC\n",
       "yA2Zs1YJSAAAAABJRU5ErkJggg==\n",
       "\" style=\"display:inline;vertical-align:middle;\" /></a></td></tr>\n",
       "<tr><td>5</td><td>Literal</td><td></td><td><a class=\"ProveItLink\" href=\"../../../sets/real/__pv_it/9e7645ee1117062e179dd6264898f99ed95b157c0/expr.ipynb\"><img src=\"data:image/png;base64,iVBORw0KGgoAAAANSUhEUgAAAA8AAAAOBAMAAAACpFvcAAAAMFBMVEX///8iIiK6urp2dnbu7u5m\n",
       "ZmaqqqrMzMxUVFTc3NyIiIgQEBBEREQyMjKYmJgAAAA9nvXMAAAAAXRSTlMAQObYZgAAAFJJREFU\n",
       "CNdjePvn/N29CxiA4MAMhprcCSDGVAYezwMQBnMBOoMDJqX4Fqx4tqBsAlj7VFUeBwiDVb0BwmC4\n",
       "sg7KqOAogJqTcJKBAWjpcYY79xMAyqEnfsw4ApEAAAAASUVORK5CYII=\n",
       "\" style=\"display:inline;vertical-align:middle;\" /></a></td></tr>\n",
       "</table>\n"
      ],
      "text/plain": [
       "0. (v in Reals)\n",
       "   core type: ExprTuple\n",
       "   sub-expressions: 1\n",
       "1. v in Reals\n",
       "   core type: Operation\n",
       "   operator: 2\n",
       "   operands: 3\n",
       "2. in\n",
       "   core type: Literal\n",
       "   sub-expressions: \n",
       "3. (v , Reals)\n",
       "   core type: ExprTuple\n",
       "   sub-expressions: 4, 5\n",
       "4. v\n",
       "   core type: Variable\n",
       "   sub-expressions: \n",
       "5. Reals\n",
       "   core type: Literal\n",
       "   sub-expressions: "
      ]
     },
     "execution_count": 4,
     "metadata": {},
     "output_type": "execute_result"
    }
   ],
   "source": [
    "# display the expression information\n",
    "expr.exprInfo()"
   ]
  },
  {
   "cell_type": "code",
   "execution_count": null,
   "metadata": {},
   "outputs": [],
   "source": []
  }
 ],
 "metadata": {
  "kernelspec": {
   "display_name": "Python 3",
   "language": "python",
   "name": "python3"
  }
 },
 "nbformat": 4,
 "nbformat_minor": 0
}
