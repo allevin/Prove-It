{
 "cells": [
  {
   "cell_type": "markdown",
   "metadata": {},
   "source": [
    "Expression of type <a class=\"ProveItLink\" href=\"../../../../../../doc/html/api/proveit.ExprTuple.html\">ExprTuple</a>\n",
    "=======================\n",
    "# from context <a class=\"ProveItLink\" href=\"../../_context_.ipynb\">proveit.number.ordering</a>"
   ]
  },
  {
   "cell_type": "code",
   "execution_count": 1,
   "metadata": {},
   "outputs": [],
   "source": [
    "# import Expression classes needed to build the expression\n",
    "from proveit import ExprTuple\n",
    "from proveit._common_ import w\n",
    "from proveit.logic import InSet\n",
    "from proveit.number import Reals"
   ]
  },
  {
   "cell_type": "code",
   "execution_count": 2,
   "metadata": {},
   "outputs": [
    {
     "data": {
      "text/html": [
       "<strong id=\"expr\">expr:</strong> <a class=\"ProveItLink\" href=\"expr.ipynb\"><img src=\"data:image/png;base64,iVBORw0KGgoAAAANSUhEUgAAAEQAAAAVBAMAAAAN71XTAAAAMFBMVEX////c3NwiIiJERESqqqqY\n",
       "mJh2dnZmZmYQEBDu7u4yMjJUVFTMzMyIiIi6uroAAAAs73DqAAAAAXRSTlMAQObYZgAAAT9JREFU\n",
       "KM9jYCAC8F3AJ8v6AEicxi613vjXirVARg0Qr8SunZlxA4/JQgYGLgYG3gu4lBQwWAoDjUtg4JiA\n",
       "IsN5S0lpAUxJDjNQoIHhFarmU5FIpoCUMJgwlAEVpicwRDFECAD5jJbIFu0EWsSQzrCUgYGd7wOD\n",
       "NYO/A0hCAEkJnyrQuQxeDH0MDEfYFRi+MjAfAPInIzm3SWkJiPGC4R8DwwSOCzwfGdjAfCUluHPr\n",
       "CsC2ngcpYXg/gbcBouQ0sqfrTkOUtADJKgbmDQwiIP4kZCVccwPAFpkCSWsGpgQGcBByByAp4dmw\n",
       "B8iIAvqJgSGZ4UQBI1iSUw/Z0ykgD6YzPAJy2XNvml2FyEjVwKPx8wEuqy8MDOsYOARQg9d7EcRH\n",
       "8BhpAEUTXsB2AWdigIFZQCyNX8lGUMzhTZi8BxgA/AFJn6R/C+kAAAAASUVORK5CYII=\n",
       "\" style=\"display:inline;vertical-align:middle;\" /></a><br>"
      ],
      "text/plain": [
       "expr: (w in Reals)"
      ]
     },
     "execution_count": 2,
     "metadata": {},
     "output_type": "execute_result"
    }
   ],
   "source": [
    "# build up the expression from sub-expressions\n",
    "expr = ExprTuple(InSet(w, Reals))"
   ]
  },
  {
   "cell_type": "code",
   "execution_count": 3,
   "metadata": {},
   "outputs": [
    {
     "name": "stdout",
     "output_type": "stream",
     "text": [
      "Passed sanity check: built 'expr' is the same as the stored Expression.\n"
     ]
    }
   ],
   "source": [
    "# check that the built expression is the same as the stored expression\n",
    "%check_expr"
   ]
  },
  {
   "cell_type": "code",
   "execution_count": 4,
   "metadata": {},
   "outputs": [
    {
     "data": {
      "text/html": [
       "<table><tr><th>&nbsp;</th><th>core type</th><th>sub-expressions</th><th>expression</th></tr>\n",
       "<tr><td>0</td><td>ExprTuple</td><td>1</td><td><a class=\"ProveItLink\" href=\"expr.ipynb\"><img src=\"data:image/png;base64,iVBORw0KGgoAAAANSUhEUgAAAEQAAAAVBAMAAAAN71XTAAAAMFBMVEX////c3NwiIiJERESqqqqY\n",
       "mJh2dnZmZmYQEBDu7u4yMjJUVFTMzMyIiIi6uroAAAAs73DqAAAAAXRSTlMAQObYZgAAAT9JREFU\n",
       "KM9jYCAC8F3AJ8v6AEicxi613vjXirVARg0Qr8SunZlxA4/JQgYGLgYG3gu4lBQwWAoDjUtg4JiA\n",
       "IsN5S0lpAUxJDjNQoIHhFarmU5FIpoCUMJgwlAEVpicwRDFECAD5jJbIFu0EWsSQzrCUgYGd7wOD\n",
       "NYO/A0hCAEkJnyrQuQxeDH0MDEfYFRi+MjAfAPInIzm3SWkJiPGC4R8DwwSOCzwfGdjAfCUluHPr\n",
       "CsC2ngcpYXg/gbcBouQ0sqfrTkOUtADJKgbmDQwiIP4kZCVccwPAFpkCSWsGpgQGcBByByAp4dmw\n",
       "B8iIAvqJgSGZ4UQBI1iSUw/Z0ykgD6YzPAJy2XNvml2FyEjVwKPx8wEuqy8MDOsYOARQg9d7EcRH\n",
       "8BhpAEUTXsB2AWdigIFZQCyNX8lGUMzhTZi8BxgA/AFJn6R/C+kAAAAASUVORK5CYII=\n",
       "\" style=\"display:inline;vertical-align:middle;\" /></a></td></tr>\n",
       "<tr><td>1</td><td>Operation</td><td>operator:&nbsp;2<br>operands:&nbsp;3<br></td><td><a class=\"ProveItLink\" href=\"../7994cbc21e1d340ea8d2183d1281b75e1daeb7a70/expr.ipynb\"><img src=\"data:image/png;base64,iVBORw0KGgoAAAANSUhEUgAAADgAAAAPBAMAAABD1xE4AAAAMFBMVEX///+IiIgiIiLMzMyqqqpU\n",
       "VFRERES6urrc3NwQEBAyMjKYmJhmZmZ2dnbu7u4AAADdI688AAAAAXRSTlMAQObYZgAAANJJREFU\n",
       "GNNjYMACuNen/Vq5kAEHYOMIYE5ZgVPyAENeG6oYn5SS0gKY5GU2VEmrfUg6QZJ8dy4w7GLY2QAU\n",
       "4shDNjYOaCwP+weGVAZ/B5BQA5IkuzbQQSY8Cgy/GdgMgELPkBw0SWkJkH7AKcD8g4EXJFSppAR3\n",
       "0PEDYDvqHzBOgEiaInvlOJh3ioEtgKEFxHqELMn1cAOQkcrAdIFBACTEugFJkjkgGMi4xmB5gAMs\n",
       "zKeO7JUrIMfzXJTLlYaIdR2GB/w3A66sL6hB5LoI4looAAAiqjjI7yImGgAAAABJRU5ErkJggg==\n",
       "\" style=\"display:inline;vertical-align:middle;\" /></a></td></tr>\n",
       "<tr><td>2</td><td>Literal</td><td></td><td><a class=\"ProveItLink\" href=\"../../../../logic/set_theory/membership/__pv_it/088cbc857536a28d4119ad9639a84270ccb0545d0/expr.ipynb\"><img src=\"data:image/png;base64,iVBORw0KGgoAAAANSUhEUgAAAAwAAAAMBAMAAACkW0HUAAAALVBMVEX///+qqqpmZmZUVFQQEBC6\n",
       "urpERETc3NyYmJjMzMwiIiIyMjKIiIju7u4AAACYsrA9AAAAAXRSTlMAQObYZgAAADxJREFUCNdj\n",
       "YOA9vWrVBgaG2b0MQMCeCyIZ2ArA1DUwyRCyahVIyWQI7xaEYm4AU7xLIdxqTQgtvGvVBgCkcQ7e\n",
       "geM/tQAAAABJRU5ErkJggg==\n",
       "\" style=\"display:inline;vertical-align:middle;\" /></a></td></tr>\n",
       "<tr><td>3</td><td>ExprTuple</td><td>4, 5</td><td><a class=\"ProveItLink\" href=\"../cf7c1bba227b4a6fed68bc7aa0ea85ae219f62570/expr.ipynb\"><img src=\"data:image/png;base64,iVBORw0KGgoAAAANSUhEUgAAADQAAAAVBAMAAAD7ptBLAAAAMFBMVEX////c3NwiIiJERESqqqqY\n",
       "mJh2dnZmZmYQEBDu7u4yMjJUVFTMzMyIiIi6uroAAAAs73DqAAAAAXRSTlMAQObYZgAAASNJREFU\n",
       "KM9jYMAD+C5gE2V9ACROowqtN/61Yi2QUQPEK1GVMzNu4DFZyMDAxcDAewFdqoDBUhioPYGBYwKm\n",
       "VA4zAwNnA8MrBuxSDCYMZUAF6QkMUQwRAnCpnUADGdIZljIwsPN9YLBm8HeASfGpAp3B4MXQx8Bw\n",
       "hF2B4SsD8wGoVJPSEhDjBcM/BoYJHBd4PjKwweyqK7AEMc6DpBjeT+BtQEgV1J2GSLUAySoG5g0M\n",
       "InAprrkBYANNgaQ1A1MCwwUGTqgUz4Y9QEYU0I0MDMkMJwoYAxjmK0Adn8IsAHL8IyCXPfem2VUG\n",
       "hhkfwcH7+QCX1RcGhnUMHAKIkHiIFCrAgAIGIxwEIEmxXUCJFGSpWUAsDefxIgfzRiBmxJoAeA8w\n",
       "AAAjM0Nw4/TnvgAAAABJRU5ErkJggg==\n",
       "\" style=\"display:inline;vertical-align:middle;\" /></a></td></tr>\n",
       "<tr><td>4</td><td>Variable</td><td></td><td><a class=\"ProveItLink\" href=\"../../../../__pv_it/75e452494c4801e076f090988fd69716611d31190/expr.ipynb\"><img src=\"data:image/png;base64,iVBORw0KGgoAAAANSUhEUgAAAA8AAAAJBAMAAAAfoWtkAAAAMFBMVEX///+IiIgiIiLMzMyqqqpU\n",
       "VFRERES6urrc3NwQEBAyMjKYmJhmZmZ2dnbu7u4AAADdI688AAAAAXRSTlMAQObYZgAAAFRJREFU\n",
       "CNdj4LtzgWEXw84GBh72DwypDP4ODCY8Cgy/GdgMGB5wCjD/YOBlYGCof8A4Acw4xcAWwNACZKQy\n",
       "MF1gEAAyrjFYHuDYAGTwXJTLlWZgAAAtGRIpnQ418wAAAABJRU5ErkJggg==\n",
       "\" style=\"display:inline;vertical-align:middle;\" /></a></td></tr>\n",
       "<tr><td>5</td><td>Literal</td><td></td><td><a class=\"ProveItLink\" href=\"../../../sets/real/__pv_it/9e7645ee1117062e179dd6264898f99ed95b157c0/expr.ipynb\"><img src=\"data:image/png;base64,iVBORw0KGgoAAAANSUhEUgAAAA8AAAAOBAMAAAACpFvcAAAAMFBMVEX///8iIiK6urp2dnbu7u5m\n",
       "ZmaqqqrMzMxUVFTc3NyIiIgQEBBEREQyMjKYmJgAAAA9nvXMAAAAAXRSTlMAQObYZgAAAFJJREFU\n",
       "CNdjePvn/N29CxiA4MAMhprcCSDGVAYezwMQBnMBOoMDJqX4Fqx4tqBsAlj7VFUeBwiDVb0BwmC4\n",
       "sg7KqOAogJqTcJKBAWjpcYY79xMAyqEnfsw4ApEAAAAASUVORK5CYII=\n",
       "\" style=\"display:inline;vertical-align:middle;\" /></a></td></tr>\n",
       "</table>\n"
      ],
      "text/plain": [
       "0. (w in Reals)\n",
       "   core type: ExprTuple\n",
       "   sub-expressions: 1\n",
       "1. w in Reals\n",
       "   core type: Operation\n",
       "   operator: 2\n",
       "   operands: 3\n",
       "2. in\n",
       "   core type: Literal\n",
       "   sub-expressions: \n",
       "3. (w , Reals)\n",
       "   core type: ExprTuple\n",
       "   sub-expressions: 4, 5\n",
       "4. w\n",
       "   core type: Variable\n",
       "   sub-expressions: \n",
       "5. Reals\n",
       "   core type: Literal\n",
       "   sub-expressions: "
      ]
     },
     "execution_count": 4,
     "metadata": {},
     "output_type": "execute_result"
    }
   ],
   "source": [
    "# display the expression information\n",
    "expr.exprInfo()"
   ]
  },
  {
   "cell_type": "code",
   "execution_count": null,
   "metadata": {},
   "outputs": [],
   "source": []
  }
 ],
 "metadata": {
  "kernelspec": {
   "display_name": "Python 3",
   "language": "python",
   "name": "python3"
  }
 },
 "nbformat": 4,
 "nbformat_minor": 0
}
