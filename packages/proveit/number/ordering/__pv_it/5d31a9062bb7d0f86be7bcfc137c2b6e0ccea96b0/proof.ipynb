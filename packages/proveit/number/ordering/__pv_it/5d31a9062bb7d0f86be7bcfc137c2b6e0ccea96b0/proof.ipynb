{
 "cells": [
  {
   "cell_type": "markdown",
   "metadata": {},
   "source": [
    "Show the Proof\n",
    "========"
   ]
  },
  {
   "cell_type": "code",
   "execution_count": 1,
   "metadata": {},
   "outputs": [
    {
     "data": {
      "text/html": [
       "<table><tr><th>&nbsp;</th><th>step type</th><th>requirements</th><th>statement</th></tr>\n",
       "<tr><td>0</td><td>assumption</td><td></td><td><span style=\"font-size:20px;\"><a class=\"ProveItLink\" href=\"../f4a044f15e41f29ed5fff0ad010ca00182cde7a30/expr.ipynb\"><img src=\"data:image/png;base64,iVBORw0KGgoAAAANSUhEUgAAAEMAAAAVBAMAAADvM06qAAAAMFBMVEX////c3NxERESqqqpUVFS6\n",
       "urrMzMwyMjIQEBCIiIh2dnYiIiLu7u5mZmaYmJgAAABXZE4RAAAAAXRSTlMAQObYZgAAARxJREFU\n",
       "KM9jYGDgu8eAC7CtEgBRPLsYcAO2ZhDJ+QHMYdW4gE3NdRDB1QDh8BvAhGcHIJSsQFYSfwBC86ye\n",
       "wIBDyWqoitsPGHApqQWTjO4GDNiVMHou/Qz2gTvcHYy35gpAlfAWAIkIAaY/IFuUEuD6rQUYgX58\n",
       "D2JmAPUx/oOoZJg9B27IVwZeoHp2oLKUNiCf5QMD9wKwzOs1UCUsfS8ngmh1oOsjgGr5FRjOQx1h\n",
       "fhEaTJCQBOtkAdogP4HBngEaLuFuECWQ0AG7hWsDA8N5AwZ3ZphLk9RAJAdQyQQkT7M/YN7LBfdL\n",
       "CshOzgKGswJIShg9pyZNRYvAtTMnoIcudkCsEj4kJYy7wSAALb3w7MSX6lrBFN9i/GkXADCLSr2A\n",
       "nx1BAAAAAElFTkSuQmCC\n",
       "\" style=\"display:inline;vertical-align:middle;\" /></a> <a class=\"ProveItLink\" href=\"proof.ipynb\" style=\"text-decoration: none\">&#x22A2;&nbsp;</a><a class=\"ProveItLink\" href=\"../2d8da1e03c1d8685cc8267ee9b0f3e2f2a0b8f190/expr.ipynb\"><img src=\"data:image/png;base64,iVBORw0KGgoAAAANSUhEUgAAAC8AAAARBAMAAAC/eehCAAAAMFBMVEX////MzMyYmJiIiIhUVFTc\n",
       "3NwyMjIiIiJ2dnbu7u6qqqpmZmYQEBBERES6uroAAABkyy6XAAAAAXRSTlMAQObYZgAAAL9JREFU\n",
       "GNNjYGBg4LuzgQE74F8AY5k/QJF4PwFCc7YboOpoh4pvV0AzKhtMsrotQBFlde77BaIZ3eDms+6w\n",
       "DmBgeBPA+xNkzl0BuNrlAawbGFg/MXAngB1kCdfwj4FbgIHlAwN7A5iv3gmVYDmkbAr0wwWG+VDD\n",
       "l22Fegvs33gDhvUMUH88c4RIgH0zfwGDGxfMXtmLIJIHKGHAwKbAVc0Bd48IyFTmBIbZAUBv2Mna\n",
       "oXm429iAgQLAWg4G8GABAHMPKtGwiKXlAAAAAElFTkSuQmCC\n",
       "\" style=\"display:inline;vertical-align:middle;\" /></a></span></td></tr>\n",
       "</table>"
      ],
      "text/plain": [
       "<proveit._core_.proof._ShowProof at 0x7f94ebe1af60>"
      ]
     },
     "execution_count": 1,
     "metadata": {},
     "output_type": "execute_result"
    }
   ],
   "source": [
    "import proveit\n",
    "%show_proof"
   ]
  },
  {
   "cell_type": "code",
   "execution_count": null,
   "metadata": {},
   "outputs": [],
   "source": []
  }
 ],
 "metadata": {
  "kernelspec": {
   "display_name": "Python 3",
   "language": "python",
   "name": "python3"
  }
 },
 "nbformat": 4,
 "nbformat_minor": 0
}
