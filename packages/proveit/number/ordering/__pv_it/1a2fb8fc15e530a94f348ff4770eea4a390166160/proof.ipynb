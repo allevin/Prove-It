{
 "cells": [
  {
   "cell_type": "markdown",
   "metadata": {},
   "source": [
    "Show the Proof\n",
    "========"
   ]
  },
  {
   "cell_type": "code",
   "execution_count": 1,
   "metadata": {},
   "outputs": [
    {
     "data": {
      "text/html": [
       "<table><tr><th>&nbsp;</th><th>step type</th><th>requirements</th><th>statement</th></tr>\n",
       "<tr><td>0</td><td>assumption</td><td></td><td><span style=\"font-size:20px;\"><a class=\"ProveItLink\" href=\"../1653465835c282c49e08ca3534ad2fbfeb2ebd1c0/expr.ipynb\"><img src=\"data:image/png;base64,iVBORw0KGgoAAAANSUhEUgAAAEIAAAAVBAMAAAAA8SWUAAAAMFBMVEX////c3NxERESqqqpUVFS6\n",
       "urrMzMwyMjIQEBCIiIh2dnYiIiLu7u5mZmaYmJgAAABXZE4RAAAAAXRSTlMAQObYZgAAAQlJREFU\n",
       "KM9jYGDgu8eAC2QtBJE8uxhwgwwDIMH5AY8K3gIgwdUA5/PsOoCmAiyJpIKBuVaAgAoGVpUEAioY\n",
       "2JQCsKs4tXIaVIzRHaKE0XNpI1QS5Fy2VoZqmDbG22CLIgSYgJ7kA3k0A6jnxAQGPZgKvr0gDzH+\n",
       "Y+BVANK1DAwpbUDaH2HzSYiPWT4wcE8A0kx1QOOAhn6CKzi1E0LzKzCcB9kGCnCWAgbGnzAFsvug\n",
       "DPkJDPYMByDu4NrAwPAPaD1IXKQYpvS8AYM7cwLCt74MDMtAzlOF28b+gHkvF1J48K6ciRYjjJ5T\n",
       "k6ZiDVNCMYddBR9CBeNuMAhASx88O/GlMbBqvsV40ykANo1EHNGRMCoAAAAASUVORK5CYII=\n",
       "\" style=\"display:inline;vertical-align:middle;\" /></a> <a class=\"ProveItLink\" href=\"proof.ipynb\" style=\"text-decoration: none\">&#x22A2;&nbsp;</a><a class=\"ProveItLink\" href=\"../a0a0121978f795d235df3c4293647b9f656ef1900/expr.ipynb\"><img src=\"data:image/png;base64,iVBORw0KGgoAAAANSUhEUgAAADAAAAARBAMAAABp3DInAAAAMFBMVEX///+qqqpmZmbc3NxUVFSY\n",
       "mJhEREQiIiIyMjK6uroQEBDMzMyIiIh2dnbu7u4AAAA4MM1YAAAAAXRSTlMAQObYZgAAAKpJREFU\n",
       "GNNjYCAEnt/DJSOhjEtmmjcumW2ZKFy+u2c2QJkmnVD67CwDBoZdEzgKYIqMqkEk52KGfKCGNQxs\n",
       "ATCJcD0QaR/AoMbAwPIBYehxiJP9GRhqGBj4E+Di1w9AGN8Y+H4D9UF5DMzqUBOZ/zAwfuBj4Ady\n",
       "QSLMHgIwnR8ZWBqkGVgUGHhBzjWbALerlUFc4QIDg+6Zc2geNTkzO2cCA/nAvBwEKuF8AENgJvxv\n",
       "xEg1AAAAAElFTkSuQmCC\n",
       "\" style=\"display:inline;vertical-align:middle;\" /></a></span></td></tr>\n",
       "</table>"
      ],
      "text/plain": [
       "<proveit._core_.proof._ShowProof at 0x7f9500025e48>"
      ]
     },
     "execution_count": 1,
     "metadata": {},
     "output_type": "execute_result"
    }
   ],
   "source": [
    "import proveit\n",
    "%show_proof"
   ]
  },
  {
   "cell_type": "code",
   "execution_count": null,
   "metadata": {},
   "outputs": [],
   "source": []
  }
 ],
 "metadata": {
  "kernelspec": {
   "display_name": "Python 3",
   "language": "python",
   "name": "python3"
  }
 },
 "nbformat": 4,
 "nbformat_minor": 0
}
