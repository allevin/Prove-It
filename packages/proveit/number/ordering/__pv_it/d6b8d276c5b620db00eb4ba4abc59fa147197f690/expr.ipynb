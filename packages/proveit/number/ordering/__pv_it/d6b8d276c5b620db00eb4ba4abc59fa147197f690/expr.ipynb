{
 "cells": [
  {
   "cell_type": "markdown",
   "metadata": {},
   "source": [
    "Expression of type <a class=\"ProveItLink\" href=\"../../../../../../doc/html/api/proveit.logic.InSet.html\">InSet</a>\n",
    "=======================\n",
    "# from context <a class=\"ProveItLink\" href=\"../../_context_.ipynb\">proveit.number.ordering</a>"
   ]
  },
  {
   "cell_type": "code",
   "execution_count": 1,
   "metadata": {},
   "outputs": [],
   "source": [
    "# import Expression classes needed to build the expression\n",
    "from proveit.logic import Booleans, Equals, InSet\n",
    "from proveit.number import Exp, Less, LessEq, one"
   ]
  },
  {
   "cell_type": "code",
   "execution_count": 2,
   "metadata": {},
   "outputs": [
    {
     "data": {
      "text/html": [
       "<strong id=\"expr\">expr:</strong> <a class=\"ProveItLink\" href=\"expr.ipynb\"><img src=\"data:image/png;base64,iVBORw0KGgoAAAANSUhEUgAAAG0AAAAZBAMAAADJZb2yAAAAMFBMVEX////c3NwiIiJERESqqqqY\n",
       "mJh2dnZmZmYQEBDu7u4yMjJUVFTMzMyIiIi6uroAAAAs73DqAAAAAXRSTlMAQObYZgAAAXhJREFU\n",
       "OMtjYCAD8BgwkKWtWoEsfQwsA6GP7wIuadYH+PSdxm1uDRo/6/P6FcoOUH0roYKXME3nQhcweMu5\n",
       "Mg2ijxfiTM4kdOeKH2BgTcDQx3CPC6KPYwJYW1EAmpLT64CiDRD23EVKWjB9rtwTwPpegfiMuxzQ\n",
       "tL3aAyJNIPG8dAKSfcIMjFnfLzCUgSR2ofvNqxBMpYNJ4QkId/KoWkKYS4HOMT4AZrKvAoMNwDDK\n",
       "hGoHk4YI/z3S/wENhz5QUN5EtQ0eRi/AfjdADpe7zhDmPxARlImsjdMY5uzzIIKvSUkJES7MfAkI\n",
       "fTD/wBI8LJjA+ng2INvHzACxvgURfuxKYAAUZ4RGC8SdCtj0mUKFDtugODUJ7OUoMGcrij6oO9Ph\n",
       "EY0aF2AvQyQnPUDSF34ZwnyEK1F7ASNnHZjFuPwAPF0bdUO9ziGAOz/A0hnLLmh4ImeyBNz62C7g\n",
       "ybwrGRgh4YiZj2bhy/TSuKU24tPHiNMxvAdw6wIAry5nE6pbq4kAAAAASUVORK5CYII=\n",
       "\" style=\"display:inline;vertical-align:middle;\" /></a><br>"
      ],
      "text/plain": [
       "expr: (<= = <) in BOOLEANS^{1}"
      ]
     },
     "execution_count": 2,
     "metadata": {},
     "output_type": "execute_result"
    }
   ],
   "source": [
    "# build up the expression from sub-expressions\n",
    "expr = InSet([Equals(LessEq._operator_, Less._operator_)], Exp(Booleans, one))"
   ]
  },
  {
   "cell_type": "code",
   "execution_count": 3,
   "metadata": {},
   "outputs": [
    {
     "name": "stdout",
     "output_type": "stream",
     "text": [
      "Passed sanity check: built 'expr' is the same as the stored Expression.\n"
     ]
    }
   ],
   "source": [
    "# check that the built expression is the same as the stored expression\n",
    "%check_expr"
   ]
  },
  {
   "cell_type": "code",
   "execution_count": 4,
   "metadata": {},
   "outputs": [
    {
     "data": {
      "text/html": [
       "<table><tr><th>&nbsp;</th><th>core type</th><th>sub-expressions</th><th>expression</th></tr>\n",
       "<tr><td>0</td><td>Operation</td><td>operator:&nbsp;1<br>operands:&nbsp;2<br></td><td><a class=\"ProveItLink\" href=\"expr.ipynb\"><img src=\"data:image/png;base64,iVBORw0KGgoAAAANSUhEUgAAAG0AAAAZBAMAAADJZb2yAAAAMFBMVEX////c3NwiIiJERESqqqqY\n",
       "mJh2dnZmZmYQEBDu7u4yMjJUVFTMzMyIiIi6uroAAAAs73DqAAAAAXRSTlMAQObYZgAAAXhJREFU\n",
       "OMtjYCAD8BgwkKWtWoEsfQwsA6GP7wIuadYH+PSdxm1uDRo/6/P6FcoOUH0roYKXME3nQhcweMu5\n",
       "Mg2ijxfiTM4kdOeKH2BgTcDQx3CPC6KPYwJYW1EAmpLT64CiDRD23EVKWjB9rtwTwPpegfiMuxzQ\n",
       "tL3aAyJNIPG8dAKSfcIMjFnfLzCUgSR2ofvNqxBMpYNJ4QkId/KoWkKYS4HOMT4AZrKvAoMNwDDK\n",
       "hGoHk4YI/z3S/wENhz5QUN5EtQ0eRi/AfjdADpe7zhDmPxARlImsjdMY5uzzIIKvSUkJES7MfAkI\n",
       "fTD/wBI8LJjA+ng2INvHzACxvgURfuxKYAAUZ4RGC8SdCtj0mUKFDtugODUJ7OUoMGcrij6oO9Ph\n",
       "EY0aF2AvQyQnPUDSF34ZwnyEK1F7ASNnHZjFuPwAPF0bdUO9ziGAOz/A0hnLLmh4ImeyBNz62C7g\n",
       "ybwrGRgh4YiZj2bhy/TSuKU24tPHiNMxvAdw6wIAry5nE6pbq4kAAAAASUVORK5CYII=\n",
       "\" style=\"display:inline;vertical-align:middle;\" /></a></td></tr>\n",
       "<tr><td>1</td><td>Literal</td><td></td><td><a class=\"ProveItLink\" href=\"../../../../logic/set_theory/membership/__pv_it/088cbc857536a28d4119ad9639a84270ccb0545d0/expr.ipynb\"><img src=\"data:image/png;base64,iVBORw0KGgoAAAANSUhEUgAAAAwAAAAMBAMAAACkW0HUAAAALVBMVEX///+qqqpmZmZUVFQQEBC6\n",
       "urpERETc3NyYmJjMzMwiIiIyMjKIiIju7u4AAACYsrA9AAAAAXRSTlMAQObYZgAAADxJREFUCNdj\n",
       "YOA9vWrVBgaG2b0MQMCeCyIZ2ArA1DUwyRCyahVIyWQI7xaEYm4AU7xLIdxqTQgtvGvVBgCkcQ7e\n",
       "geM/tQAAAABJRU5ErkJggg==\n",
       "\" style=\"display:inline;vertical-align:middle;\" /></a></td></tr>\n",
       "<tr><td>2</td><td>ExprTuple</td><td>3, 4</td><td><a class=\"ProveItLink\" href=\"../87b38bc442483a11c7165bd0373e1876d91eaffe0/expr.ipynb\"><img src=\"data:image/png;base64,iVBORw0KGgoAAAANSUhEUgAAAHIAAAAcBAMAAABPDfZkAAAAMFBMVEX///+qqqp2dnYiIiJERESI\n",
       "iIhmZmYQEBDc3NyYmJgyMjLu7u5UVFTMzMy6uroAAACGxKilAAAAAXRSTlMAQObYZgAAAepJREFU\n",
       "OMtjYCAZ8DowkAd4cwxgzHckamUE6lQAm3GADJ13QIxdG8jQyRoAZJwE8Z7iVDcPq04GCwYGjgL8\n",
       "Lma7AGNpfVm/3EQAqjMGKJMApLmgLma1w9S6AM5yeMq9Wgmqc/8GBvYHQDoUIrXJFE0XRy4DwyQk\n",
       "nQxxXFCdzBMY7oPEqsEy2yzRo+4U0NjtyDoleTZAdLI5MIQDKT6wi3oWomnkWwPyI4sAsp0tDBxa\n",
       "34ABy/mB4RTIAFDE3lmHHobLGkAUUwJCJ6+lN8zU3ww+oACawMCwxRcilLUKBNYAQ8sIEmyM8CBy\n",
       "eGz/PQDmkb8My4AUKJRYTVFTBBMstPgKkFwbKgILu38MZkCKHxS+nEYoWrf4wUz/gKSThU8Bwub+\n",
       "iNAJ8xcM3FmITSeDA9zONSDXCiDCMtkYBEyA3DZLTNcidP5lOAIK+AlQ410uINu6Cex1TlAIcaO7\n",
       "lu8HQzBywPOeQwklsNfBkvsNIDqnhcCkPjC8BxlggCtDrQVGGSgQtv8Ap3jnGliyYFrAwA9yYAWe\n",
       "7AhJfS/QRLkCGHhADp+ER6cqmJyAJrq/gYHXAJLLmsFhipnLuBdg1TkFiB1BYYw7Z/OAI5kVXdgW\n",
       "iLtAjFacOmOxinKCApxRgYxCtwVMTiRDZzYDBQAAQLh7TTXUlXIAAAAASUVORK5CYII=\n",
       "\" style=\"display:inline;vertical-align:middle;\" /></a></td></tr>\n",
       "<tr><td>3</td><td>ExprTuple</td><td>5</td><td><a class=\"ProveItLink\" href=\"../99fa5998b7ac2e2942c9ee30bdf24e02d2a95aa30/expr.ipynb\"><img src=\"data:image/png;base64,iVBORw0KGgoAAAANSUhEUgAAADwAAAAVBAMAAADocZC/AAAAMFBMVEX////c3NwiIiJERESqqqqY\n",
       "mJh2dnZmZmYQEBDu7u4yMjJUVFTMzMyIiIi6uroAAAAs73DqAAAAAXRSTlMAQObYZgAAAOBJREFU\n",
       "KM9jYCAA+C7gkmF9ACRO49ZZA8QroexLDzCkuRgYeCFmcyah2yF+gIE1gYFjAli2KABN9vQ6oGgD\n",
       "wysQm3GXA5rsqz0g0oShDEjy7EK316sQTKUzLAWaYXwAzGFfBQYbgM7MhKpi6AM5+iaqXrgzXzD8\n",
       "A1FBmciynMYwu85DpGF2QQEPzKXnGVoQLmVXAgMDoE+g/nzBYArVcdgGxfwksHOigG6HhQOq58DO\n",
       "SWd4hCs+vIC+XcfAIYA7xoCBCgx2nIDtAihCGSEuxozQWUAsjVv3RlBs4UxMvAcYAH44OzIie5ki\n",
       "AAAAAElFTkSuQmCC\n",
       "\" style=\"display:inline;vertical-align:middle;\" /></a></td></tr>\n",
       "<tr><td>4</td><td>Operation</td><td>operator:&nbsp;6<br>operands:&nbsp;7<br></td><td><a class=\"ProveItLink\" href=\"../7a57ed6b4bdb39b022534e6abb16d475e24a17eb0/expr.ipynb\"><img src=\"data:image/png;base64,iVBORw0KGgoAAAANSUhEUgAAABUAAAAUBAMAAACQZWsAAAAAMFBMVEX///9mZmbMzMzc3NxUVFSY\n",
       "mJju7u6IiIi6urqqqqoiIiIQEBBEREQyMjJ2dnYAAAAQvcRZAAAAAXRSTlMAQObYZgAAAGJJREFU\n",
       "CNdjYIACpgMMcKbIAjibgZNI9ts/92+vmQAVP9DOdu0dnM1QwYtgT2VJQIjbMDC//VgAYjMtPQY1\n",
       "7EDX+t8FMHY7Q/kcBJuH4wGCzXAAOxtJTWANhAl026ktE8BMALQvLwEPcrvFAAAAAElFTkSuQmCC\n",
       "\" style=\"display:inline;vertical-align:middle;\" /></a></td></tr>\n",
       "<tr><td>5</td><td>Operation</td><td>operator:&nbsp;8<br>operands:&nbsp;9<br></td><td><a class=\"ProveItLink\" href=\"../1697853e8b13cc180848186c0faea52d16ffd2da0/expr.ipynb\"><img src=\"data:image/png;base64,iVBORw0KGgoAAAANSUhEUgAAAC4AAAARBAMAAABQu4N8AAAALVBMVEX///9ERETMzMyqqqoyMjJU\n",
       "VFTc3NyYmJhmZmZ2dnbu7u66uroiIiKIiIgAAAAFyQXGAAAAAXRSTlMAQObYZgAAAHtJREFUGNNj\n",
       "YMAHeE9jFV55Fk2ArQlErjiOJswUsgFIpjqjCXO7KgBJVW80YWaPBCC5UAjCa3EBAVegG04uADvl\n",
       "7AIU1ZwwN7CfRJFYKI1qHhyoOqPY33MGBA4CuRlwZzMJKqB6E2YyUzSK3WhWInnBiYFUkAN2B0Y4\n",
       "AwDb3CHKZIh37wAAAABJRU5ErkJggg==\n",
       "\" style=\"display:inline;vertical-align:middle;\" /></a></td></tr>\n",
       "<tr><td>6</td><td>Literal</td><td></td><td><a class=\"ProveItLink\" href=\"../../../exponentiation/__pv_it/deb2bf23cbccdd6e6791e1b35b5b9794ce12dbd50/expr.ipynb\"><img src=\"data:image/png;base64,iVBORw0KGgoAAAANSUhEUgAAACgAAAASBAMAAADbMYGVAAAAMFBMVEX///8QEBAiIiKYmJjc3Nzu\n",
       "7u7MzMx2dnZmZma6urpERESqqqoyMjJUVFSIiIgAAAAoDOMTAAAAAXRSTlMAQObYZgAAAOBJREFU\n",
       "GNNjYGB4+//u3Tt/GNAASGAXmhjnPyDBgSbI/g1IxKEJ8nxgYGdgQRPkX8BgDKRY6q7s62OYvmze\n",
       "2wAgb/7ZO1+AVDiDkYEQQ0HTBr4DQF59AgOIKmB4z7CNbcNZBu6vQN55kEACQwDDLQYGVobfDHwg\n",
       "fb8YGBxYHwAZciD3fWXg+gB1JjvQcJZvQIXsCgz8F6DO9GBgMOH7wPCUgaeBwd4B7EwGNjUG7s9c\n",
       "AiwPgO5jkWRgiF3/9+5dfQUG1nWl5Y+B7pv+1gE9bBhqGLCAE1jEWH9jEbT5A3IwAC4sP/1L6Qlu\n",
       "AAAAAElFTkSuQmCC\n",
       "\" style=\"display:inline;vertical-align:middle;\" /></a></td></tr>\n",
       "<tr><td>7</td><td>ExprTuple</td><td>10, 11</td><td><a class=\"ProveItLink\" href=\"../f2d1eb76084697ebe27855f25ec8c46cd9f355d00/expr.ipynb\"><img src=\"data:image/png;base64,iVBORw0KGgoAAAANSUhEUgAAAC0AAAAVBAMAAAAgHXppAAAAMFBMVEX////c3NwiIiJERESqqqqY\n",
       "mJh2dnZmZmYQEBDu7u4yMjJUVFTMzMyIiIi6uroAAAAs73DqAAAAAXRSTlMAQObYZgAAAOdJREFU\n",
       "GNNjYMAF+C5gCMWBiNMMWZ/Xr1B2gAlaMjCwHwDSKxkYDN5yrkyDCk/+CSQWMDDwXgCJM9zjggjP\n",
       "3g0SD2Ng4JgAFnflngCR4AWJz2BgeMUAUS/MgCTO7MBQBhbnUbVEFmcrYFgKEn+k/+MCsjjLAoY+\n",
       "iDl3nZHF+RoY/kHEmfkSkMR5PsDFGQxQxVuwiQPNMUWYMwEuzrqAIR0iHn6ZgfMTsjsfMYDCzajb\n",
       "gYGzXwAYZBW/ShkYuB4wcAggQhzOBIYDawJcnBXOyoWEM7o4JzCcGaTh4vCI4wYZyIgZj3cYGAAH\n",
       "aUjXgRHQWQAAAABJRU5ErkJggg==\n",
       "\" style=\"display:inline;vertical-align:middle;\" /></a></td></tr>\n",
       "<tr><td>8</td><td>Literal</td><td></td><td><a class=\"ProveItLink\" href=\"../../../../logic/equality/__pv_it/2fb26078095930560931daa0500ce419a39ea6cd0/expr.ipynb\"><img src=\"data:image/png;base64,iVBORw0KGgoAAAANSUhEUgAAAA4AAAAFBAMAAACHocAhAAAAFVBMVEX///9EREQiIiJUVFQyMjJm\n",
       "ZmYAAADubVkoAAAAAXRSTlMAQObYZgAAABRJREFUCNdjCHEBAWcGXCBICQQUAUpuAwlgGKrkAAAA\n",
       "AElFTkSuQmCC\n",
       "\" style=\"display:inline;vertical-align:middle;\" /></a></td></tr>\n",
       "<tr><td>9</td><td>ExprTuple</td><td>12, 13</td><td><a class=\"ProveItLink\" href=\"../cb14a9acfe98c362f09835d630efa24e342ddf290/expr.ipynb\"><img src=\"data:image/png;base64,iVBORw0KGgoAAAANSUhEUgAAADUAAAAVBAMAAAAUZLt1AAAAMFBMVEX////c3NwiIiJERESqqqqY\n",
       "mJh2dnZmZmYQEBDu7u4yMjJUVFTMzMyIiIi6uroAAAAs73DqAAAAAXRSTlMAQObYZgAAAPRJREFU\n",
       "KM9jYMAH+C5gFY4DEaexa2E/ACRWQjmXHqBKLmBg4IUYyZmEbDRjDQNDGAMDxwSwVFEAkhTPLqAZ\n",
       "MxgYXoHV7XJAdt1qkF3MDgxlMHVwwLJcAESxFTAsBRpofABJildtAkTJAoY+kBNvIqTYdGEmNzD8\n",
       "A9FBmXC5yXYwB32AyDF4FcIlTy+By7VAWK/2wCXFVWFmmkJFDtswMEAcwTBNF8RgXcCQDjfrAecn\n",
       "KJMV5FSgHx4hnMjZLwDz4hoGBq4HDBwCSAGCxAaFGWsCgsuKHA+54DhiVAKDByhynMA4YpBG8JGj\n",
       "iRtkPiP2NHGHgQEAeNQ2XgmIf1sAAAAASUVORK5CYII=\n",
       "\" style=\"display:inline;vertical-align:middle;\" /></a></td></tr>\n",
       "<tr><td>10</td><td>Literal</td><td></td><td><a class=\"ProveItLink\" href=\"../../../../logic/boolean/__pv_it/46271c8230be96415d662709611f4ed2279d702b0/expr.ipynb\"><img src=\"data:image/png;base64,iVBORw0KGgoAAAANSUhEUgAAAA0AAAAOBAMAAAAGUYvhAAAAMFBMVEX///9mZmbMzMzc3NxUVFSY\n",
       "mJju7u6IiIi6urqqqqoiIiIQEBBEREQyMjJ2dnYAAAAQvcRZAAAAAXRSTlMAQObYZgAAAElJREFU\n",
       "CNdjePvn/u01ExgYGA60s117B6YZKngh9FSWBAjfBsxnWnoMRHet/10AkS+fA6F5OB5AaIYDqDRU\n",
       "PLCGgQFoz6ktExgAgLIl8DFvGtkAAAAASUVORK5CYII=\n",
       "\" style=\"display:inline;vertical-align:middle;\" /></a></td></tr>\n",
       "<tr><td>11</td><td>Literal</td><td></td><td><a class=\"ProveItLink\" href=\"../../../numeral/__pv_it/9be8badea4c35b9724062cecc501d17a3158d1d20/expr.ipynb\"><img src=\"data:image/png;base64,iVBORw0KGgoAAAANSUhEUgAAAAgAAAAPBAMAAAArJJMAAAAAHlBMVEX///+YmJgyMjIQEBBmZmaI\n",
       "iIhUVFTu7u5EREQAAAAw+MI4AAAAAXRSTlMAQObYZgAAACFJREFUCNdjYGBoZ2BgqJjOwFCWBiQY\n",
       "WEklWJwnOTKAAACjEQo8HvEr3AAAAABJRU5ErkJggg==\n",
       "\" style=\"display:inline;vertical-align:middle;\" /></a></td></tr>\n",
       "<tr><td>12</td><td>Literal</td><td></td><td><a class=\"ProveItLink\" href=\"../aa616d6a8fe3483e4e64187262e9c7dfe6a536a30/expr.ipynb\"><img src=\"data:image/png;base64,iVBORw0KGgoAAAANSUhEUgAAAA4AAAARBAMAAAAf5oCsAAAALVBMVEX///9ERETMzMyqqqoyMjJU\n",
       "VFTc3NyYmJhmZmZ2dnbu7u66uroiIiKIiIgAAAAFyQXGAAAAAXRSTlMAQObYZgAAAEBJREFUCNdj\n",
       "YEAGvKfB1MqzYGrFcTCV6gymVL3B1EIhqNKzCyAM9pNQBrNHAoTB7aoAYTAJwhjRDLhAzhkQOA0A\n",
       "iskPUSt9tJUAAAAASUVORK5CYII=\n",
       "\" style=\"display:inline;vertical-align:middle;\" /></a></td></tr>\n",
       "<tr><td>13</td><td>Literal</td><td></td><td><a class=\"ProveItLink\" href=\"../7c444b9b2efa607ed6397b492680dde2810212f00/expr.ipynb\"><img src=\"data:image/png;base64,iVBORw0KGgoAAAANSUhEUgAAAA4AAAAMBAMAAACgrpHpAAAALVBMVEX///+YmJhERETu7u52dnYi\n",
       "IiKIiIiqqqq6uroyMjJUVFTMzMxmZmbc3NwAAADmAst+AAAAAXRSTlMAQObYZgAAAD5JREFUCNdj\n",
       "YAAB3tNgintlA4jimLUBRLHPuQCi2EIMQBRLGFgJg5EGhGbYNR3KuBMIZZiEGUAYjCFQBvtsABzC\n",
       "Cm98G6SsAAAAAElFTkSuQmCC\n",
       "\" style=\"display:inline;vertical-align:middle;\" /></a></td></tr>\n",
       "</table>\n"
      ],
      "text/plain": [
       "0. (<= = <) in BOOLEANS^{1}\n",
       "   core type: Operation\n",
       "   operator: 1\n",
       "   operands: 2\n",
       "1. in\n",
       "   core type: Literal\n",
       "   sub-expressions: \n",
       "2. ((<= = <) , BOOLEANS^{1})\n",
       "   core type: ExprTuple\n",
       "   sub-expressions: 3, 4\n",
       "3. (<= = <)\n",
       "   core type: ExprTuple\n",
       "   sub-expressions: 5\n",
       "4. BOOLEANS^{1}\n",
       "   core type: Operation\n",
       "   operator: 6\n",
       "   operands: 7\n",
       "5. <= = <\n",
       "   core type: Operation\n",
       "   operator: 8\n",
       "   operands: 9\n",
       "6. Exp\n",
       "   core type: Literal\n",
       "   sub-expressions: \n",
       "7. (BOOLEANS , 1)\n",
       "   core type: ExprTuple\n",
       "   sub-expressions: 10, 11\n",
       "8. =\n",
       "   core type: Literal\n",
       "   sub-expressions: \n",
       "9. (<= , <)\n",
       "   core type: ExprTuple\n",
       "   sub-expressions: 12, 13\n",
       "10. BOOLEANS\n",
       "    core type: Literal\n",
       "    sub-expressions: \n",
       "11. 1\n",
       "    core type: Literal\n",
       "    sub-expressions: \n",
       "12. <=\n",
       "    core type: Literal\n",
       "    sub-expressions: \n",
       "13. <\n",
       "    core type: Literal\n",
       "    sub-expressions: "
      ]
     },
     "execution_count": 4,
     "metadata": {},
     "output_type": "execute_result"
    }
   ],
   "source": [
    "# display the expression information\n",
    "expr.exprInfo()"
   ]
  },
  {
   "cell_type": "code",
   "execution_count": null,
   "metadata": {},
   "outputs": [],
   "source": []
  }
 ],
 "metadata": {
  "kernelspec": {
   "display_name": "Python 3",
   "language": "python",
   "name": "python3"
  }
 },
 "nbformat": 4,
 "nbformat_minor": 0
}
