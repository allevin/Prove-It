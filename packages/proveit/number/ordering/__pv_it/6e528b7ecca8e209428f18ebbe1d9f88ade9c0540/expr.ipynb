{
 "cells": [
  {
   "cell_type": "markdown",
   "metadata": {},
   "source": [
    "Theorem <a class=\"ProveItLink\" href=\"../../_theorems_.ipynb#eq__in__greater_eq_relations\">eq__in__greater_eq_relations</a> of type <a class=\"ProveItLink\" href=\"../../../../../../doc/html/api/proveit.logic.InSet.html\">InSet</a>\n",
    "=======================\n",
    "# from context <a class=\"ProveItLink\" href=\"../../_context_.ipynb\">proveit.number.ordering</a>\n",
    "*** see <a class=\"ProveItLink\" href=\"dependencies.ipynb\">dependencies</a> ***"
   ]
  },
  {
   "cell_type": "code",
   "execution_count": 1,
   "metadata": {},
   "outputs": [],
   "source": [
    "# import the special expression\n",
    "from proveit.number.ordering._theorems_ import eq__in__greater_eq_relations"
   ]
  },
  {
   "cell_type": "code",
   "execution_count": 2,
   "metadata": {},
   "outputs": [
    {
     "name": "stdout",
     "output_type": "stream",
     "text": [
      "Passed sanity check: built 'eq__in__greater_eq_relations' is the same as the stored Expression.\n"
     ]
    }
   ],
   "source": [
    "# check that the built expression is the same as the stored expression\n",
    "%check_expr eq__in__greater_eq_relations"
   ]
  },
  {
   "cell_type": "code",
   "execution_count": 3,
   "metadata": {},
   "outputs": [
    {
     "data": {
      "text/html": [
       "<table><tr><th>&nbsp;</th><th>core type</th><th>sub-expressions</th><th>expression</th></tr>\n",
       "<tr><td>0</td><td>Operation</td><td>operator:&nbsp;1<br>operands:&nbsp;2<br></td><td><a class=\"ProveItLink\" href=\"expr.ipynb\"><img src=\"data:image/png;base64,iVBORw0KGgoAAAANSUhEUgAAAHkAAAAVBAMAAACQ4lxbAAAAMFBMVEX///92dnaqqqoQEBC6urrc\n",
       "3NyYmJjMzMyIiIju7u5EREQiIiJUVFQyMjJmZmYAAACZj33uAAAAAXRSTlMAQObYZgAAAUZJREFU\n",
       "OMtjYMAC2J4xEATsggHYJTg3MhAB2I2wi3N8IEY3w1vswowGaAKzJbEpE8atO6YAWUT3KSHdnL27\n",
       "d1+A62Zf5YAs6XWcgO7aTBSXs55VQJatWoJXN+tKNH9zSicgq425gk3327sgcIeBCxF9fBAPcHaj\n",
       "BFbcdogkWP3dAwwM+UiSsxDMYpiXs18iKUDhgADvAwTbefduaKjVmMPEaq4iwrQbM9bWIrxWg2QQ\n",
       "NLa8liM0SzdgaOYWYGB4DbJz9y6G2QhhHoi/dY8igvQ13Bo+sPrdC1D9zYNwBuMGsD/BTuVkQIo9\n",
       "TpwxxrkFJcY4pTvB7Pkgk6KgwQjmYE8tsc+RdUdDnTL5K5ISFA5aOte5jZRS4cCVARdHmIg8hpLg\n",
       "EojQzYauOxoczFvQdOPI35w7kEoKlGIDpWwxwVFqsAkRWa4BAE5oWUSauYF4AAAAAElFTkSuQmCC\n",
       "\" style=\"display:inline;vertical-align:middle;\" /></a></td></tr>\n",
       "<tr><td>1</td><td>Literal</td><td></td><td><a class=\"ProveItLink\" href=\"../../../../logic/set_theory/membership/__pv_it/088cbc857536a28d4119ad9639a84270ccb0545d0/expr.ipynb\"><img src=\"data:image/png;base64,iVBORw0KGgoAAAANSUhEUgAAAAwAAAAMBAMAAACkW0HUAAAALVBMVEX///+qqqpmZmZUVFQQEBC6\n",
       "urpERETc3NyYmJjMzMwiIiIyMjKIiIju7u4AAACYsrA9AAAAAXRSTlMAQObYZgAAADxJREFUCNdj\n",
       "YOA9vWrVBgaG2b0MQMCeCyIZ2ArA1DUwyRCyahVIyWQI7xaEYm4AU7xLIdxqTQgtvGvVBgCkcQ7e\n",
       "geM/tQAAAABJRU5ErkJggg==\n",
       "\" style=\"display:inline;vertical-align:middle;\" /></a></td></tr>\n",
       "<tr><td>2</td><td>ExprTuple</td><td>8, 3</td><td><a class=\"ProveItLink\" href=\"../a608e9ce7ac0d6141776226f8d382c6aee09aaee0/expr.ipynb\"><img src=\"data:image/png;base64,iVBORw0KGgoAAAANSUhEUgAAAH0AAAAVBAMAAACZCfwhAAAAMFBMVEX////c3NwiIiJERESqqqqY\n",
       "mJh2dnZmZmYQEBDu7u4yMjJUVFTMzMyIiIi6uroAAAAs73DqAAAAAXRSTlMAQObYZgAAAY5JREFU\n",
       "OMtjYMAE4QEMBMGxRBiL7wKa1KQEBiLACQcGhjgQ4zS6zH1itDOwLwDiA0DGSnSZDHT3ZGLTz9YA\n",
       "JIBm8F7Aop9xD7KAVyEu/WEMDBwTsNl/2A5Z5PEeHPpnMDC8YsDqfuklyEKoxiH0MzswlGHXzzBN\n",
       "FVlMeh1W/WwFDEuBwbgKDDZAZaog1Fw1ZJ+J60AlwUpXMzCwfgDyWBYw9KEbzAMTYVVHMiCoEl3d\n",
       "clDaaWD4h659xwEYa5cATJDzEmYcMgNdzvMBQz8DXw+UNj4A1550ATMC1BjA+luA/lcCAwOoxC4w\n",
       "ybIabjtjESJDFIGVKkP9D3S/KZKREP8mgT0PCT0QwbjLAeIKzPBnXcCQjhDi/ASPv2m6E+Aiwg8g\n",
       "0vMVsMXfIyT9/QKw9KuKIgIBMz5i6Od6wMCBpIJPAD3/8CHJMjzEln5ZkXI7K0b+Y0XWEoChPxc1\n",
       "/0JUR6DpFwIHuR6aflD+51wAStoIMUgsT7qALgIBvKjlDzBUuUG+Y8RIG2EORJZ/dxgYAHxfX9fU\n",
       "k3qAAAAAAElFTkSuQmCC\n",
       "\" style=\"display:inline;vertical-align:middle;\" /></a></td></tr>\n",
       "<tr><td>3</td><td>Operation</td><td>operator:&nbsp;4<br>operands:&nbsp;5<br></td><td><a class=\"ProveItLink\" href=\"../40d27932c47497d1e04935867994b35b277c78120/expr.ipynb\"><img src=\"data:image/png;base64,iVBORw0KGgoAAAANSUhEUgAAAFUAAAAVBAMAAADFg78FAAAAMFBMVEX///9ERETc3NyqqqpUVFS6\n",
       "urrMzMwyMjIQEBCIiIh2dnYiIiLu7u5mZmaYmJgAAABJJ2g3AAAAAXRSTlMAQObYZgAAAQFJREFU\n",
       "KM9jYGDgu8dAELCtUgBRPLsYiABszSCS8wMxahmugwiuBjTR02uwqV0BU6uSgCxsfgmfWjbBAGTx\n",
       "QDc8ahmY3A2QJRJF8ahl4Fn9AFlGpRSrWt4CMJtnNoqXdLeBKd5yMHBgYHgP4mbAnPr6DpJaFA4I\n",
       "sF9gYEhpg/FSiuASaJaAgTjQkRHQ8AoUQyhdPQFDKfcCIMECca+5E1yY6Tbcn7y7wUAA6l6uDWD3\n",
       "gS3lYUAKPx7sYcazeg5Y4DxInyLUs2AOplptqKUnPiHJonCQ4wIKghhwcTDVokTeAwy1fOhqtcFe\n",
       "34qmFpx+eXYiBDiRZVE4bK1gim8xkfkNAGkVS4bGMaBOAAAAAElFTkSuQmCC\n",
       "\" style=\"display:inline;vertical-align:middle;\" /></a></td></tr>\n",
       "<tr><td>4</td><td>Literal</td><td></td><td><a class=\"ProveItLink\" href=\"../../../../logic/set_theory/enumeration/__pv_it/07381ed5b23806e8d7914b78cb6667769e3708dd0/expr.ipynb\"><img src=\"data:image/png;base64,iVBORw0KGgoAAAANSUhEUgAAAB4AAAAOBAMAAADKyLEKAAAAMFBMVEX///8iIiIQEBCIiIjMzMzc\n",
       "3Nyqqqp2dnZEREQyMjK6urru7u5mZmZUVFSYmJgAAACI6eGPAAAAAXRSTlMAQObYZgAAALRJREFU\n",
       "CNdjYGDgu3Nm3wIGBJjHwN0PZW5yYGDgLWBgyITy8zcwMMQDxZyh/INAvD6BgcEFypcB4vjPDiBm\n",
       "TPFRrhs/LjMwMP//38rAwCbKEMPA9gEkE3fp0waG+AUMRxh4JkC01T9guPTOOICBEWgVH5C//wHD\n",
       "H5D4fqCz9oCMDGD4DLaegRXslLMMDMpAgxlOMmQxHDRgYG5gYLBk4D7KcIe7gOHC2rt9QCXsh40Z\n",
       "GCKMGQDRkC8N/Ph1XAAAAABJRU5ErkJggg==\n",
       "\" style=\"display:inline;vertical-align:middle;\" /></a></td></tr>\n",
       "<tr><td>5</td><td>ExprTuple</td><td>6, 7, 8</td><td><a class=\"ProveItLink\" href=\"../821e4fc468f4b7815bc6a1869ffd6851a6136d6d0/expr.ipynb\"><img src=\"data:image/png;base64,iVBORw0KGgoAAAANSUhEUgAAAE8AAAAVBAMAAAD1D64kAAAAMFBMVEX////c3NwiIiJERESqqqqY\n",
       "mJh2dnZmZmYQEBDu7u4yMjJUVFTMzMyIiIi6uroAAAAs73DqAAAAAXRSTlMAQObYZgAAAQ5JREFU\n",
       "KM9jYCAa8F0grCYORJwmwjD2A0BiJaoYp9oELCoXMDDwXmBg3IMsxrJcAFNhGAMDB9CAw3YojrY+\n",
       "gKFwBgPDKxAtvQRZlMf4AbpCZgeGMjBjmiqyMOMudJVsBQxLIay5KH5gLILYXrUKBFYDHb6AoQ8q\n",
       "x6qOpBKFA3Z3A8M/mMN2ITw7FyOIeD7AFPIZI7w6TRfD10CFLZDAW40wTxzhsSIlEFAGW20KdhPE\n",
       "rgnIQYViO+sChnSwXWBRzk8gD0MDH8xBDp5HQDmoXZz9SJGHwmHgesDAgcTnQ5ZD4QCjkDUBySUo\n",
       "zkLm5KImM5AcI9ijSg9QFHIuAPkSwUdJ68gcbpAzGInICncYGACixjp/GxJPbAAAAABJRU5ErkJg\n",
       "gg==\n",
       "\" style=\"display:inline;vertical-align:middle;\" /></a></td></tr>\n",
       "<tr><td>6</td><td>Literal</td><td></td><td><a class=\"ProveItLink\" href=\"../fed4085ae483b560677c9d938187885e1d910a490/expr.ipynb\"><img src=\"data:image/png;base64,iVBORw0KGgoAAAANSUhEUgAAAA4AAAAMBAMAAACgrpHpAAAALVBMVEX///9mZmaIiIiYmJgiIiJ2\n",
       "dnbu7u6qqqoyMjK6urpERETMzMxUVFTc3NwAAADHHImEAAAAAXRSTlMAQObYZgAAADlJREFUCNdj\n",
       "uLOBAQy4V02AMHhPFEAYbCEGUIZKGITBYCIGoff0gqlZq8FUxVmIZBhElxqYdwWiGQBNjQtMyuln\n",
       "xAAAAABJRU5ErkJggg==\n",
       "\" style=\"display:inline;vertical-align:middle;\" /></a></td></tr>\n",
       "<tr><td>7</td><td>Literal</td><td></td><td><a class=\"ProveItLink\" href=\"../96143560a3dbc26f943e0a126972c9bfadab3fc50/expr.ipynb\"><img src=\"data:image/png;base64,iVBORw0KGgoAAAANSUhEUgAAAA4AAAARBAMAAAAf5oCsAAAALVBMVEX///+IiIiYmJjMzMxUVFRE\n",
       "RES6urrc3NxmZmYyMjKqqqp2dnYiIiLu7u4AAACqGg1VAAAAAXRSTlMAQObYZgAAAEFJREFUCNdj\n",
       "YICCO3uhjJXtUEaqM5RhGgZllEyDMioOQ2idXhDJKwPWy7tHAESx9yiAKc8FYCWlCQx4Qc0ZEDgG\n",
       "ALzAEHC/pigGAAAAAElFTkSuQmCC\n",
       "\" style=\"display:inline;vertical-align:middle;\" /></a></td></tr>\n",
       "<tr><td>8</td><td>Literal</td><td></td><td><a class=\"ProveItLink\" href=\"../../../../logic/equality/__pv_it/2fb26078095930560931daa0500ce419a39ea6cd0/expr.ipynb\"><img src=\"data:image/png;base64,iVBORw0KGgoAAAANSUhEUgAAAA4AAAAFBAMAAACHocAhAAAAFVBMVEX///9EREQiIiJUVFQyMjJm\n",
       "ZmYAAADubVkoAAAAAXRSTlMAQObYZgAAABRJREFUCNdjCHEBAWcGXCBICQQUAUpuAwlgGKrkAAAA\n",
       "AElFTkSuQmCC\n",
       "\" style=\"display:inline;vertical-align:middle;\" /></a></td></tr>\n",
       "</table>\n"
      ],
      "text/plain": [
       "0. = in {> , >= , =}\n",
       "   core type: Operation\n",
       "   operator: 1\n",
       "   operands: 2\n",
       "1. in\n",
       "   core type: Literal\n",
       "   sub-expressions: \n",
       "2. (= , {> , >= , =})\n",
       "   core type: ExprTuple\n",
       "   sub-expressions: 8, 3\n",
       "3. {> , >= , =}\n",
       "   core type: Operation\n",
       "   operator: 4\n",
       "   operands: 5\n",
       "4. Set\n",
       "   core type: Literal\n",
       "   sub-expressions: \n",
       "5. (> , >= , =)\n",
       "   core type: ExprTuple\n",
       "   sub-expressions: 6, 7, 8\n",
       "6. >\n",
       "   core type: Literal\n",
       "   sub-expressions: \n",
       "7. >=\n",
       "   core type: Literal\n",
       "   sub-expressions: \n",
       "8. =\n",
       "   core type: Literal\n",
       "   sub-expressions: "
      ]
     },
     "execution_count": 3,
     "metadata": {},
     "output_type": "execute_result"
    }
   ],
   "source": [
    "# display the expression information\n",
    "eq__in__greater_eq_relations.exprInfo()"
   ]
  },
  {
   "cell_type": "code",
   "execution_count": null,
   "metadata": {},
   "outputs": [],
   "source": []
  }
 ],
 "metadata": {
  "kernelspec": {
   "display_name": "Python 3",
   "language": "python",
   "name": "python3"
  }
 },
 "nbformat": 4,
 "nbformat_minor": 0
}
