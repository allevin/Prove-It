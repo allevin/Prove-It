{
 "cells": [
  {
   "cell_type": "markdown",
   "metadata": {},
   "source": [
    "Show the Proof\n",
    "========"
   ]
  },
  {
   "cell_type": "code",
   "execution_count": 1,
   "metadata": {},
   "outputs": [
    {
     "data": {
      "text/html": [
       "<table><tr><th>&nbsp;</th><th>step type</th><th>requirements</th><th>statement</th></tr>\n",
       "<tr><td>0</td><td>assumption</td><td></td><td><span style=\"font-size:20px;\"><a class=\"ProveItLink\" href=\"../619797f9b8a0e325d853cbc094da47f1da5db96a0/expr.ipynb\"><img src=\"data:image/png;base64,iVBORw0KGgoAAAANSUhEUgAAAEsAAAAVBAMAAAD85A5eAAAAMFBMVEX///9ERETc3NyqqqpUVFS6\n",
       "urrMzMwyMjIQEBCIiIh2dnYiIiLu7u5mZmaYmJgAAABJJ2g3AAAAAXRSTlMAQObYZgAAASxJREFU\n",
       "KM9jYGDgu8eAD7CtUgBRPLsY8AO2ZhDJ+QG7LF+94PeKShDrOojgasBhCiOTA5twEZCxgoCyCwwy\n",
       "iriU8UzfvbsApmwZIy5l6W+QTENVxrN2AcNzhhcgnzPJIFvqA7eUF2gDL+sHBhEGewOQpAKSMtZ9\n",
       "IC+8B/EyAhgYknk3MPxjYEwAcg8ieaF7dzGIwX6BgSGlDcg4wDGB7RMDF0gsYvduuBeuXoC4QPwB\n",
       "UBxkRvwBzgaIshTkALkK5nEvABIsBeCAZnRgUAaJnUZWxn7yAcxtXBuAhAhIywQQl+UBkjI2BzeU\n",
       "cFvIkHGBCayAZytygCwGeRyhjHflHKl5EFn1a/Co/5jALv4ZV5yaVEN8Cgf4ox5VGR9BZeD0xrOT\n",
       "UOpthbh1MeG8AABOAlZfgEwcqQAAAABJRU5ErkJggg==\n",
       "\" style=\"display:inline;vertical-align:middle;\" /></a> <a class=\"ProveItLink\" href=\"proof.ipynb\" style=\"text-decoration: none\">&#x22A2;&nbsp;</a><a class=\"ProveItLink\" href=\"../7994cbc21e1d340ea8d2183d1281b75e1daeb7a70/expr.ipynb\"><img src=\"data:image/png;base64,iVBORw0KGgoAAAANSUhEUgAAADgAAAAPBAMAAABD1xE4AAAAMFBMVEX///+IiIgiIiLMzMyqqqpU\n",
       "VFRERES6urrc3NwQEBAyMjKYmJhmZmZ2dnbu7u4AAADdI688AAAAAXRSTlMAQObYZgAAANJJREFU\n",
       "GNNjYMACuNen/Vq5kAEHYOMIYE5ZgVPyAENeG6oYn5SS0gKY5GU2VEmrfUg6QZJ8dy4w7GLY2QAU\n",
       "4shDNjYOaCwP+weGVAZ/B5BQA5IkuzbQQSY8Cgy/GdgMgELPkBw0SWkJkH7AKcD8g4EXJFSppAR3\n",
       "0PEDYDvqHzBOgEiaInvlOJh3ioEtgKEFxHqELMn1cAOQkcrAdIFBACTEugFJkjkgGMi4xmB5gAMs\n",
       "zKeO7JUrIMfzXJTLlYaIdR2GB/w3A66sL6hB5LoI4looAAAiqjjI7yImGgAAAABJRU5ErkJggg==\n",
       "\" style=\"display:inline;vertical-align:middle;\" /></a></span></td></tr>\n",
       "</table>"
      ],
      "text/plain": [
       "<proveit._core_.proof._ShowProof at 0x7f94ebb35080>"
      ]
     },
     "execution_count": 1,
     "metadata": {},
     "output_type": "execute_result"
    }
   ],
   "source": [
    "import proveit\n",
    "%show_proof"
   ]
  },
  {
   "cell_type": "code",
   "execution_count": null,
   "metadata": {},
   "outputs": [],
   "source": []
  }
 ],
 "metadata": {
  "kernelspec": {
   "display_name": "Python 3",
   "language": "python",
   "name": "python3"
  }
 },
 "nbformat": 4,
 "nbformat_minor": 0
}
