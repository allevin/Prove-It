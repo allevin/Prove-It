{
 "cells": [
  {
   "cell_type": "markdown",
   "metadata": {},
   "source": [
    "Expression of type <a class=\"ProveItLink\" href=\"../../../../../../doc/html/api/proveit.logic.InSet.html\">InSet</a>\n",
    "=======================\n",
    "# from context <a class=\"ProveItLink\" href=\"../../_context_.ipynb\">proveit.number.ordering</a>"
   ]
  },
  {
   "cell_type": "code",
   "execution_count": 1,
   "metadata": {},
   "outputs": [],
   "source": [
    "# import Expression classes needed to build the expression\n",
    "from proveit.logic import Booleans, Equals, InSet\n",
    "from proveit.number import LessEq"
   ]
  },
  {
   "cell_type": "code",
   "execution_count": 2,
   "metadata": {},
   "outputs": [
    {
     "data": {
      "text/html": [
       "<strong id=\"expr\">expr:</strong> <a class=\"ProveItLink\" href=\"expr.ipynb\"><img src=\"data:image/png;base64,iVBORw0KGgoAAAANSUhEUgAAAGUAAAAVBAMAAACtcD09AAAAMFBMVEX////c3NwiIiJERESqqqqY\n",
       "mJh2dnZmZmYQEBDu7u4yMjJUVFTMzMyIiIi6uroAAAAs73DqAAAAAXRSTlMAQObYZgAAAT9JREFU\n",
       "OMtjYCAH8F3AJcP6AJfMadzG1aDxsz6vX6HsAGSshApcwjSVC13A4C3nyjQGBl6I0ziTsDiRNQFD\n",
       "D8M9oEEcE8BaigKwuI2zAULPXaSkBdPjyj2B4RWIzbjLAauHTMAkz9IJSPYIMzCUgQR34QihdDAp\n",
       "PAHhNh5VSwaGpUAnGB8Ai7CvAoMNMJqBwQssbojwzyP9H0B/94GC7CaOwH4B9pUBchjcdWZg+Adi\n",
       "B2Vi13MeHOlNSkqIMGDmS4DoYfAqxK2HZwOyPcwMBgwtEN6rPUD/KIGBAYyGuU0BXY8plHvYBos9\n",
       "UWByK4oeoNvS4enuAa6wnvQASU/4ZQaGR/jS/Dowybj8ADyNGnUDY59DALcWWNph2QUNN1zpEAmw\n",
       "4cpaKxkYIeGE6Z9ZuAyTxm3PRlwSjDjzNu8B7OIAlTpbiFO7sGUAAAAASUVORK5CYII=\n",
       "\" style=\"display:inline;vertical-align:middle;\" /></a><br>"
      ],
      "text/plain": [
       "expr: (<= = =) in BOOLEANS"
      ]
     },
     "execution_count": 2,
     "metadata": {},
     "output_type": "execute_result"
    }
   ],
   "source": [
    "# build up the expression from sub-expressions\n",
    "expr = InSet(Equals(LessEq._operator_, Equals._operator_), Booleans)"
   ]
  },
  {
   "cell_type": "code",
   "execution_count": 3,
   "metadata": {},
   "outputs": [
    {
     "name": "stdout",
     "output_type": "stream",
     "text": [
      "Passed sanity check: built 'expr' is the same as the stored Expression.\n"
     ]
    }
   ],
   "source": [
    "# check that the built expression is the same as the stored expression\n",
    "%check_expr"
   ]
  },
  {
   "cell_type": "code",
   "execution_count": 4,
   "metadata": {},
   "outputs": [
    {
     "data": {
      "text/html": [
       "<table><tr><th>&nbsp;</th><th>core type</th><th>sub-expressions</th><th>expression</th></tr>\n",
       "<tr><td>0</td><td>Operation</td><td>operator:&nbsp;1<br>operands:&nbsp;2<br></td><td><a class=\"ProveItLink\" href=\"expr.ipynb\"><img src=\"data:image/png;base64,iVBORw0KGgoAAAANSUhEUgAAAGUAAAAVBAMAAACtcD09AAAAMFBMVEX////c3NwiIiJERESqqqqY\n",
       "mJh2dnZmZmYQEBDu7u4yMjJUVFTMzMyIiIi6uroAAAAs73DqAAAAAXRSTlMAQObYZgAAAT9JREFU\n",
       "OMtjYCAH8F3AJcP6AJfMadzG1aDxsz6vX6HsAGSshApcwjSVC13A4C3nyjQGBl6I0ziTsDiRNQFD\n",
       "D8M9oEEcE8BaigKwuI2zAULPXaSkBdPjyj2B4RWIzbjLAauHTMAkz9IJSPYIMzCUgQR34QihdDAp\n",
       "PAHhNh5VSwaGpUAnGB8Ai7CvAoMNMJqBwQssbojwzyP9H0B/94GC7CaOwH4B9pUBchjcdWZg+Adi\n",
       "B2Vi13MeHOlNSkqIMGDmS4DoYfAqxK2HZwOyPcwMBgwtEN6rPUD/KIGBAYyGuU0BXY8plHvYBos9\n",
       "UWByK4oeoNvS4enuAa6wnvQASU/4ZQaGR/jS/Dowybj8ADyNGnUDY59DALcWWNph2QUNN1zpEAmw\n",
       "4cpaKxkYIeGE6Z9ZuAyTxm3PRlwSjDjzNu8B7OIAlTpbiFO7sGUAAAAASUVORK5CYII=\n",
       "\" style=\"display:inline;vertical-align:middle;\" /></a></td></tr>\n",
       "<tr><td>1</td><td>Literal</td><td></td><td><a class=\"ProveItLink\" href=\"../../../../logic/set_theory/membership/__pv_it/088cbc857536a28d4119ad9639a84270ccb0545d0/expr.ipynb\"><img src=\"data:image/png;base64,iVBORw0KGgoAAAANSUhEUgAAAAwAAAAMBAMAAACkW0HUAAAALVBMVEX///+qqqpmZmZUVFQQEBC6\n",
       "urpERETc3NyYmJjMzMwiIiIyMjKIiIju7u4AAACYsrA9AAAAAXRSTlMAQObYZgAAADxJREFUCNdj\n",
       "YOA9vWrVBgaG2b0MQMCeCyIZ2ArA1DUwyRCyahVIyWQI7xaEYm4AU7xLIdxqTQgtvGvVBgCkcQ7e\n",
       "geM/tQAAAABJRU5ErkJggg==\n",
       "\" style=\"display:inline;vertical-align:middle;\" /></a></td></tr>\n",
       "<tr><td>2</td><td>ExprTuple</td><td>3, 4</td><td><a class=\"ProveItLink\" href=\"../0187c76866c32beab1c0dc4ce833c0046fafc32f0/expr.ipynb\"><img src=\"data:image/png;base64,iVBORw0KGgoAAAANSUhEUgAAAFQAAAAVBAMAAAAqQdQ7AAAAMFBMVEX////c3NwiIiJERESqqqqY\n",
       "mJh2dnZmZmYQEBDu7u4yMjJUVFTMzMyIiIi6uroAAAAs73DqAAAAAXRSTlMAQObYZgAAAR1JREFU\n",
       "KM9jYCAB8F0gRhXrAyBxGr+arM/rVyg7MDDUANkroWKXHmBXa/CWc2UaAwMXAwMvxH7OJFzuMHjL\n",
       "cA+ojjWBgWMCWGVRAANupa7cExg4GxhegbiMuxwY8Ci9JwykTRjKgCTPrgcMeJTyqFoC6XSGpUDb\n",
       "jQ+ABdlXgcEGGA1V+kj/B8gfXgx9IM/fZMBnKsNdZyD9guEfiBuUiVcpM18CA8N5iFIGr0K8ShkM\n",
       "QEpbIAKv9gDdqgQGBjAaVekLBlOo5sM2mAZOQHZAFDAMoOA0RoBxfoIqDb8MDqxHuD3E2S8ATi5G\n",
       "3aAIWsfAIYAnfSLJASMWmAxwJ1IkNtsFUCJkhPj4AV6ls4BYGrepyOlyIyhVEZVheA8wAADp4FQ8\n",
       "zAePgwAAAABJRU5ErkJggg==\n",
       "\" style=\"display:inline;vertical-align:middle;\" /></a></td></tr>\n",
       "<tr><td>3</td><td>Operation</td><td>operator:&nbsp;7<br>operands:&nbsp;5<br></td><td><a class=\"ProveItLink\" href=\"../e148f3102caa95d83769139f254e76e68ea4acf70/expr.ipynb\"><img src=\"data:image/png;base64,iVBORw0KGgoAAAANSUhEUgAAAC4AAAARBAMAAABQu4N8AAAALVBMVEX///9ERETMzMyqqqoyMjJU\n",
       "VFTc3NyYmJhmZmZ2dnbu7u66uroiIiKIiIgAAAAFyQXGAAAAAXRSTlMAQObYZgAAAFZJREFUGNNj\n",
       "YMAHeE9jFV55FqvwiuNYhVOdsQqremMVXigEoVtcQMAVTvOeXYDdjewncUgweyRgl+B2VWBg6DkD\n",
       "AgfhNAgwCSpg18EUzUArkAO2HyOcAYBzHh36IcOWAAAAAElFTkSuQmCC\n",
       "\" style=\"display:inline;vertical-align:middle;\" /></a></td></tr>\n",
       "<tr><td>4</td><td>Literal</td><td></td><td><a class=\"ProveItLink\" href=\"../../../../logic/boolean/__pv_it/46271c8230be96415d662709611f4ed2279d702b0/expr.ipynb\"><img src=\"data:image/png;base64,iVBORw0KGgoAAAANSUhEUgAAAA0AAAAOBAMAAAAGUYvhAAAAMFBMVEX///9mZmbMzMzc3NxUVFSY\n",
       "mJju7u6IiIi6urqqqqoiIiIQEBBEREQyMjJ2dnYAAAAQvcRZAAAAAXRSTlMAQObYZgAAAElJREFU\n",
       "CNdjePvn/u01ExgYGA60s117B6YZKngh9FSWBAjfBsxnWnoMRHet/10AkS+fA6F5OB5AaIYDqDRU\n",
       "PLCGgQFoz6ktExgAgLIl8DFvGtkAAAAASUVORK5CYII=\n",
       "\" style=\"display:inline;vertical-align:middle;\" /></a></td></tr>\n",
       "<tr><td>5</td><td>ExprTuple</td><td>6, 7</td><td><a class=\"ProveItLink\" href=\"../76263df664e404f849918307450862aa9841394b0/expr.ipynb\"><img src=\"data:image/png;base64,iVBORw0KGgoAAAANSUhEUgAAADUAAAAVBAMAAAAUZLt1AAAAMFBMVEX////c3NwiIiJERESqqqqY\n",
       "mJh2dnZmZmYQEBDu7u4yMjJUVFTMzMyIiIi6uroAAAAs73DqAAAAAXRSTlMAQObYZgAAANVJREFU\n",
       "KM9jYMAH+C5gFY4DEaexa2E/ACRWQjmXHqBKLmBg4IUYyZmEbnQYAwPHBLBUUQC6oTMYGF6BaMZd\n",
       "DhgWMjswlAEpnl0PMB3DVsCwFGig8QGEUNUqEFjNwMCygKEP5MSb2PzdwPAPRAdlYsrxfIDIMXgV\n",
       "YpNrgbBe7YEKFSmBgDLYTFOo2GEbBoYJyPpYFzCkw9inH3B+QvPDIwSPs18ASY7rAQMHEp9PADXM\n",
       "WBOQrEA2MxccR4xgpyk9QJHjBMYRgzSCjxxN3CDzGbGniTsMDADVITGNsGJzawAAAABJRU5ErkJg\n",
       "gg==\n",
       "\" style=\"display:inline;vertical-align:middle;\" /></a></td></tr>\n",
       "<tr><td>6</td><td>Literal</td><td></td><td><a class=\"ProveItLink\" href=\"../aa616d6a8fe3483e4e64187262e9c7dfe6a536a30/expr.ipynb\"><img src=\"data:image/png;base64,iVBORw0KGgoAAAANSUhEUgAAAA4AAAARBAMAAAAf5oCsAAAALVBMVEX///9ERETMzMyqqqoyMjJU\n",
       "VFTc3NyYmJhmZmZ2dnbu7u66uroiIiKIiIgAAAAFyQXGAAAAAXRSTlMAQObYZgAAAEBJREFUCNdj\n",
       "YEAGvKfB1MqzYGrFcTCV6gymVL3B1EIhqNKzCyAM9pNQBrNHAoTB7aoAYTAJwhjRDLhAzhkQOA0A\n",
       "iskPUSt9tJUAAAAASUVORK5CYII=\n",
       "\" style=\"display:inline;vertical-align:middle;\" /></a></td></tr>\n",
       "<tr><td>7</td><td>Literal</td><td></td><td><a class=\"ProveItLink\" href=\"../../../../logic/equality/__pv_it/2fb26078095930560931daa0500ce419a39ea6cd0/expr.ipynb\"><img src=\"data:image/png;base64,iVBORw0KGgoAAAANSUhEUgAAAA4AAAAFBAMAAACHocAhAAAAFVBMVEX///9EREQiIiJUVFQyMjJm\n",
       "ZmYAAADubVkoAAAAAXRSTlMAQObYZgAAABRJREFUCNdjCHEBAWcGXCBICQQUAUpuAwlgGKrkAAAA\n",
       "AElFTkSuQmCC\n",
       "\" style=\"display:inline;vertical-align:middle;\" /></a></td></tr>\n",
       "</table>\n"
      ],
      "text/plain": [
       "0. (<= = =) in BOOLEANS\n",
       "   core type: Operation\n",
       "   operator: 1\n",
       "   operands: 2\n",
       "1. in\n",
       "   core type: Literal\n",
       "   sub-expressions: \n",
       "2. (<= = = , BOOLEANS)\n",
       "   core type: ExprTuple\n",
       "   sub-expressions: 3, 4\n",
       "3. <= = =\n",
       "   core type: Operation\n",
       "   operator: 7\n",
       "   operands: 5\n",
       "4. BOOLEANS\n",
       "   core type: Literal\n",
       "   sub-expressions: \n",
       "5. (<= , =)\n",
       "   core type: ExprTuple\n",
       "   sub-expressions: 6, 7\n",
       "6. <=\n",
       "   core type: Literal\n",
       "   sub-expressions: \n",
       "7. =\n",
       "   core type: Literal\n",
       "   sub-expressions: "
      ]
     },
     "execution_count": 4,
     "metadata": {},
     "output_type": "execute_result"
    }
   ],
   "source": [
    "# display the expression information\n",
    "expr.exprInfo()"
   ]
  },
  {
   "cell_type": "code",
   "execution_count": null,
   "metadata": {},
   "outputs": [],
   "source": []
  }
 ],
 "metadata": {
  "kernelspec": {
   "display_name": "Python 3",
   "language": "python",
   "name": "python3"
  }
 },
 "nbformat": 4,
 "nbformat_minor": 0
}
