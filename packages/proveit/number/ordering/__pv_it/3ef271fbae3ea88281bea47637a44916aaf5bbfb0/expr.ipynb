{
 "cells": [
  {
   "cell_type": "markdown",
   "metadata": {},
   "source": [
    "Expression of type <a class=\"ProveItLink\" href=\"../../../../../../doc/html/api/proveit.ExprTuple.html\">ExprTuple</a>\n",
    "=======================\n",
    "# from context <a class=\"ProveItLink\" href=\"../../_context_.ipynb\">proveit.number.ordering</a>"
   ]
  },
  {
   "cell_type": "code",
   "execution_count": 1,
   "metadata": {},
   "outputs": [],
   "source": [
    "# import Expression classes needed to build the expression\n",
    "from proveit import ExprTuple\n",
    "from proveit._common_ import v, w"
   ]
  },
  {
   "cell_type": "code",
   "execution_count": 2,
   "metadata": {},
   "outputs": [
    {
     "data": {
      "text/html": [
       "<strong id=\"expr\">expr:</strong> <a class=\"ProveItLink\" href=\"expr.ipynb\"><img src=\"data:image/png;base64,iVBORw0KGgoAAAANSUhEUgAAAC8AAAAVBAMAAAAk6KpUAAAAMFBMVEX////c3NwiIiJERESqqqqY\n",
       "mJh2dnZmZmYQEBDu7u4yMjJUVFTMzMyIiIi6uroAAAAs73DqAAAAAXRSTlMAQObYZgAAAQlJREFU\n",
       "KM91kaFPw0AUh79R1vVgvUzgZuanATEzh9wUIQjSBDHVZAoxNTELqVxCCDUIHH9CxQQJpgaxBAHI\n",
       "mXUCS3jXbknJbife/X733b179w52Dp1ur12Z8GbZXEskPNvSxOCnNnAOXmQDU1hYK3K63IAaBOo2\n",
       "96K45KKBO+QJXJ2pdlGNzujQ67IfcwezWouzHBj1g5Ogx/xC5KXMciCqvsKFemYAvYh5ceky8sdr\n",
       "MBE7gqAAI5wXjjCpjsWeohOUAR32AuTJ1ZiB2Gse4LGVq9dhpY8p91vsfSh6ujL1hvOTd5kPPvEa\n",
       "m9d+/W9JNdiYfgmE5baXgJK201wbv3Tg0OSvWD7kA/4AKe85dkz3SPUAAAAASUVORK5CYII=\n",
       "\" style=\"display:inline;vertical-align:middle;\" /></a><br>"
      ],
      "text/plain": [
       "expr: (v , w)"
      ]
     },
     "execution_count": 2,
     "metadata": {},
     "output_type": "execute_result"
    }
   ],
   "source": [
    "# build up the expression from sub-expressions\n",
    "expr = ExprTuple(v, w)"
   ]
  },
  {
   "cell_type": "code",
   "execution_count": 3,
   "metadata": {},
   "outputs": [
    {
     "name": "stdout",
     "output_type": "stream",
     "text": [
      "Passed sanity check: built 'expr' is the same as the stored Expression.\n"
     ]
    }
   ],
   "source": [
    "# check that the built expression is the same as the stored expression\n",
    "%check_expr"
   ]
  },
  {
   "cell_type": "code",
   "execution_count": 4,
   "metadata": {},
   "outputs": [
    {
     "data": {
      "text/html": [
       "<table><tr><th>&nbsp;</th><th>core type</th><th>sub-expressions</th><th>expression</th></tr>\n",
       "<tr><td>0</td><td>ExprTuple</td><td>1, 2</td><td><a class=\"ProveItLink\" href=\"expr.ipynb\"><img src=\"data:image/png;base64,iVBORw0KGgoAAAANSUhEUgAAAC8AAAAVBAMAAAAk6KpUAAAAMFBMVEX////c3NwiIiJERESqqqqY\n",
       "mJh2dnZmZmYQEBDu7u4yMjJUVFTMzMyIiIi6uroAAAAs73DqAAAAAXRSTlMAQObYZgAAAQlJREFU\n",
       "KM91kaFPw0AUh79R1vVgvUzgZuanATEzh9wUIQjSBDHVZAoxNTELqVxCCDUIHH9CxQQJpgaxBAHI\n",
       "mXUCS3jXbknJbife/X733b179w52Dp1ur12Z8GbZXEskPNvSxOCnNnAOXmQDU1hYK3K63IAaBOo2\n",
       "96K45KKBO+QJXJ2pdlGNzujQ67IfcwezWouzHBj1g5Ogx/xC5KXMciCqvsKFemYAvYh5ceky8sdr\n",
       "MBE7gqAAI5wXjjCpjsWeohOUAR32AuTJ1ZiB2Gse4LGVq9dhpY8p91vsfSh6ujL1hvOTd5kPPvEa\n",
       "m9d+/W9JNdiYfgmE5baXgJK201wbv3Tg0OSvWD7kA/4AKe85dkz3SPUAAAAASUVORK5CYII=\n",
       "\" style=\"display:inline;vertical-align:middle;\" /></a></td></tr>\n",
       "<tr><td>1</td><td>Variable</td><td></td><td><a class=\"ProveItLink\" href=\"../../../../__pv_it/5811dd9d8dc299df1f3b81f9eaa4740e636c675a0/expr.ipynb\"><img src=\"data:image/png;base64,iVBORw0KGgoAAAANSUhEUgAAAAoAAAAJBAMAAAD5iKAgAAAALVBMVEX///+YmJhEREQyMjKqqqrM\n",
       "zMxUVFQiIiK6urqIiIgQEBBmZmZ2dnbu7u4AAABVoMxuAAAAAXRSTlMAQObYZgAAAD9JREFUCNdj\n",
       "4D19gHclAw/HA94yhhDuAgZvhgtcExhCGBj8LjDMZWDYzMBwgIFBm4EjgIHhEMNNBgaGaycFGACC\n",
       "yA2Zs1YJSAAAAABJRU5ErkJggg==\n",
       "\" style=\"display:inline;vertical-align:middle;\" /></a></td></tr>\n",
       "<tr><td>2</td><td>Variable</td><td></td><td><a class=\"ProveItLink\" href=\"../../../../__pv_it/75e452494c4801e076f090988fd69716611d31190/expr.ipynb\"><img src=\"data:image/png;base64,iVBORw0KGgoAAAANSUhEUgAAAA8AAAAJBAMAAAAfoWtkAAAAMFBMVEX///+IiIgiIiLMzMyqqqpU\n",
       "VFRERES6urrc3NwQEBAyMjKYmJhmZmZ2dnbu7u4AAADdI688AAAAAXRSTlMAQObYZgAAAFRJREFU\n",
       "CNdj4LtzgWEXw84GBh72DwypDP4ODCY8Cgy/GdgMGB5wCjD/YOBlYGCof8A4Acw4xcAWwNACZKQy\n",
       "MF1gEAAyrjFYHuDYAGTwXJTLlWZgAAAtGRIpnQ418wAAAABJRU5ErkJggg==\n",
       "\" style=\"display:inline;vertical-align:middle;\" /></a></td></tr>\n",
       "</table>\n"
      ],
      "text/plain": [
       "0. (v , w)\n",
       "   core type: ExprTuple\n",
       "   sub-expressions: 1, 2\n",
       "1. v\n",
       "   core type: Variable\n",
       "   sub-expressions: \n",
       "2. w\n",
       "   core type: Variable\n",
       "   sub-expressions: "
      ]
     },
     "execution_count": 4,
     "metadata": {},
     "output_type": "execute_result"
    }
   ],
   "source": [
    "# display the expression information\n",
    "expr.exprInfo()"
   ]
  },
  {
   "cell_type": "code",
   "execution_count": null,
   "metadata": {},
   "outputs": [],
   "source": []
  }
 ],
 "metadata": {
  "kernelspec": {
   "display_name": "Python 3",
   "language": "python",
   "name": "python3"
  }
 },
 "nbformat": 4,
 "nbformat_minor": 0
}
