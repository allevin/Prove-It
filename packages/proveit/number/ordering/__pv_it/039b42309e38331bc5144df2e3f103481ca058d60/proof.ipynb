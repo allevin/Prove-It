{
 "cells": [
  {
   "cell_type": "markdown",
   "metadata": {},
   "source": [
    "Show the Proof\n",
    "========"
   ]
  },
  {
   "cell_type": "code",
   "execution_count": 1,
   "metadata": {},
   "outputs": [
    {
     "data": {
      "text/html": [
       "<table><tr><th>&nbsp;</th><th>step type</th><th>requirements</th><th>statement</th></tr>\n",
       "<tr><td>0</td><td>assumption</td><td></td><td><span style=\"font-size:20px;\"><a class=\"ProveItLink\" href=\"../7f0f344f475ad2f76942da29beebfac3a1583c150/expr.ipynb\"><img src=\"data:image/png;base64,iVBORw0KGgoAAAANSUhEUgAAAEEAAAAVBAMAAADrxp6XAAAAMFBMVEX////c3NxERESqqqpUVFS6\n",
       "urrMzMwyMjIQEBCIiIh2dnYiIiLu7u5mZmaYmJgAAABXZE4RAAAAAXRSTlMAQObYZgAAAQVJREFU\n",
       "KM9jYGDgu8eAA7CtEgBRPLsYcAK2ZhDJ+QG3CobrIIKrAUicSMCuYgVchf0BuKBsAlYVt+FiKaXY\n",
       "zdgLEwp3w2oLq9MnT4iI+UUIzbN2AYP8AagK3gIGBmaof2avgerlZf3AMB9IvwdxMgIgqoBg9QSY\n",
       "6cm8GxiUgDT7BaDL2oAM7gVgo5UCYCoOcExg+AliqD9gYIgA+u48RIrN3QCmxP4A2zeYVhagDfYM\n",
       "jGBxxtsP4IHJ2QBzB9cGEN8U6ofVcyAMXQYmhYdI4eHLswBm/GuId64wZCxYgKRCaCYikMzBoX5o\n",
       "pqlWAnKY4gJEquBrIJQ+eHbiSWOtYIpvMd50CgDC60R1RSscBQAAAABJRU5ErkJggg==\n",
       "\" style=\"display:inline;vertical-align:middle;\" /></a> <a class=\"ProveItLink\" href=\"proof.ipynb\" style=\"text-decoration: none\">&#x22A2;&nbsp;</a><a class=\"ProveItLink\" href=\"../f19b90b313685032a0815a688cc882f53716ea0e0/expr.ipynb\"><img src=\"data:image/png;base64,iVBORw0KGgoAAAANSUhEUgAAAC8AAAANBAMAAADLbSqiAAAAMFBMVEX///+YmJjc3Nx2dnYyMjKI\n",
       "iIhERERUVFS6uroiIiJmZmaqqqrMzMwQEBDu7u4AAABm0p0FAAAAAXRSTlMAQObYZgAAAKlJREFU\n",
       "GNNjYOC7w4AdcP+DM5nWIEtwTYCxeEoakCU4F0AZHO4HkMXb89MDIEZ6KUBEHi9mYAIZvx/CZZ38\n",
       "AKp0QT8D6wcgvQTMY54Kt2nDSga2BCBjMpj7LAMmwcdwlYEfaDrfDwj/uDeS+88DncH9gQFiqdZE\n",
       "mPsdGGLBFDfU9Y+nQqxnW8CQxqjAwL7gMcwMRojDuAp4LjMDgyE1ABE6PmDbU6PbbBgAtV0noGcv\n",
       "m3AAAAAASUVORK5CYII=\n",
       "\" style=\"display:inline;vertical-align:middle;\" /></a></span></td></tr>\n",
       "</table>"
      ],
      "text/plain": [
       "<proveit._core_.proof._ShowProof at 0x7f94eb427080>"
      ]
     },
     "execution_count": 1,
     "metadata": {},
     "output_type": "execute_result"
    }
   ],
   "source": [
    "import proveit\n",
    "%show_proof"
   ]
  },
  {
   "cell_type": "code",
   "execution_count": null,
   "metadata": {},
   "outputs": [],
   "source": []
  }
 ],
 "metadata": {
  "kernelspec": {
   "display_name": "Python 3",
   "language": "python",
   "name": "python3"
  }
 },
 "nbformat": 4,
 "nbformat_minor": 0
}
