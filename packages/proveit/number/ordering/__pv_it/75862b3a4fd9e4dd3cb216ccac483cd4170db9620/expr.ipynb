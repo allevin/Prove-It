{
 "cells": [
  {
   "cell_type": "markdown",
   "metadata": {},
   "source": [
    "Expression of type <a class=\"ProveItLink\" href=\"../../../../../../doc/html/api/proveit.logic.Forall.html\">Forall</a>\n",
    "=======================\n",
    "# from context <a class=\"ProveItLink\" href=\"../../_context_.ipynb\">proveit.number.ordering</a>"
   ]
  },
  {
   "cell_type": "code",
   "execution_count": 1,
   "metadata": {},
   "outputs": [],
   "source": [
    "# import Expression classes needed to build the expression\n",
    "from proveit._common_ import x, y, z\n",
    "from proveit.logic import Forall\n",
    "from proveit.number import GreaterEq"
   ]
  },
  {
   "cell_type": "code",
   "execution_count": 2,
   "metadata": {},
   "outputs": [
    {
     "data": {
      "text/html": [
       "<strong id=\"expr\">expr:</strong> <a class=\"ProveItLink\" href=\"expr.ipynb\"><img src=\"data:image/png;base64,iVBORw0KGgoAAAANSUhEUgAAAJEAAAAXBAMAAAD5H7DVAAAAMFBMVEX///8QEBC6urrMzMxUVFRm\n",
       "ZmZERETc3NwyMjKqqqp2dnaIiIiYmJgiIiLu7u4AAAAU9Wx4AAAAAXRSTlMAQObYZgAAAiZJREFU\n",
       "OMtjYKAaeEC8Um3cUoeA+AKIcZoYg5gdcMuxGjAwrAQx+ogxiQPJ+W/XoUk2MDCUASn2BGJM2o3M\n",
       "mRGOKnkKYhPrBGJMkkPhqTmjcB8yMPAsLy+vJcYgpgZUvlkSMo8N6JhvaWm3iDGJdQEwGFa7z46G\n",
       "CZQ0QWhFIfYNDFwBDAxAV6YjLMYT4AcYGF4xnD0gCxcpvQwi2XO2hjEwcAJdrMLAh3A3G5zF6Y5m\n",
       "EqMCA8MChv0Mk+EiZ+NAJB8Dnx/QCQIMDLwM3AewmMRQihqkDPwKoGTsBufz7YWlhBJQYvvAADSH\n",
       "9wE2k9CNApnEwCANN2jtBliIBEBN4mswAbJs+yoRJmkngKP8FTB2mG88hyYRRhDN/hnoG3DoxMI9\n",
       "MgtsHNB3DOlOQMLp6AK4SXwbvjODJBhe9TGw6ETBnAvUepz7A8M+sEEe8CTIuYCBBZiYQGE9FZz1\n",
       "XiJ8x/7oAjc41e8AauaDaQHGM+cfNgF2sKfKFOC+tjh6pgksC3Q2SI5dASmcWBawAMX4loEMKYIn\n",
       "kAsMfNnrVu1BTx0BPB+B6jhA+nlAAW7MYI4wiVGB0QBoEEiS2YC5AKpFHF+6fQgvMbw0E5BMMtBn\n",
       "4AsDu9Jk0TSkTIobrIYxuJkkChAmcXpnMDAZgJkbFNuxlSq1d0HgEiJxNaAbDTGpnMEbi7XseEo6\n",
       "lgLsJmUxNWBTXo3bpM0M2E2avQvowzQgyCO/fmAhXysADA51JaBf/CoAAAAASUVORK5CYII=\n",
       "\" style=\"display:inline;vertical-align:middle;\" /></a><br>"
      ],
      "text/plain": [
       "expr: forall_{z | y >= z} (x >= z)"
      ]
     },
     "execution_count": 2,
     "metadata": {},
     "output_type": "execute_result"
    }
   ],
   "source": [
    "# build up the expression from sub-expressions\n",
    "expr = Forall([z], GreaterEq(x, z), conditions = [GreaterEq(y, z)])"
   ]
  },
  {
   "cell_type": "code",
   "execution_count": 3,
   "metadata": {},
   "outputs": [
    {
     "name": "stdout",
     "output_type": "stream",
     "text": [
      "Passed sanity check: built 'expr' is the same as the stored Expression.\n"
     ]
    }
   ],
   "source": [
    "# check that the built expression is the same as the stored expression\n",
    "%check_expr"
   ]
  },
  {
   "cell_type": "code",
   "execution_count": 4,
   "metadata": {},
   "outputs": [
    {
     "data": {
      "text/html": [
       "<table><tr><th>&nbsp;</th><th>core type</th><th>sub-expressions</th><th>expression</th></tr>\n",
       "<tr><td>0</td><td>Operation</td><td>operator:&nbsp;1<br>operand:&nbsp;2<br></td><td><a class=\"ProveItLink\" href=\"expr.ipynb\"><img src=\"data:image/png;base64,iVBORw0KGgoAAAANSUhEUgAAAJEAAAAXBAMAAAD5H7DVAAAAMFBMVEX///8QEBC6urrMzMxUVFRm\n",
       "ZmZERETc3NwyMjKqqqp2dnaIiIiYmJgiIiLu7u4AAAAU9Wx4AAAAAXRSTlMAQObYZgAAAiZJREFU\n",
       "OMtjYKAaeEC8Um3cUoeA+AKIcZoYg5gdcMuxGjAwrAQx+ogxiQPJ+W/XoUk2MDCUASn2BGJM2o3M\n",
       "mRGOKnkKYhPrBGJMkkPhqTmjcB8yMPAsLy+vJcYgpgZUvlkSMo8N6JhvaWm3iDGJdQEwGFa7z46G\n",
       "CZQ0QWhFIfYNDFwBDAxAV6YjLMYT4AcYGF4xnD0gCxcpvQwi2XO2hjEwcAJdrMLAh3A3G5zF6Y5m\n",
       "EqMCA8MChv0Mk+EiZ+NAJB8Dnx/QCQIMDLwM3AewmMRQihqkDPwKoGTsBufz7YWlhBJQYvvAADSH\n",
       "9wE2k9CNApnEwCANN2jtBliIBEBN4mswAbJs+yoRJmkngKP8FTB2mG88hyYRRhDN/hnoG3DoxMI9\n",
       "MgtsHNB3DOlOQMLp6AK4SXwbvjODJBhe9TGw6ETBnAvUepz7A8M+sEEe8CTIuYCBBZiYQGE9FZz1\n",
       "XiJ8x/7oAjc41e8AauaDaQHGM+cfNgF2sKfKFOC+tjh6pgksC3Q2SI5dASmcWBawAMX4loEMKYIn\n",
       "kAsMfNnrVu1BTx0BPB+B6jhA+nlAAW7MYI4wiVGB0QBoEEiS2YC5AKpFHF+6fQgvMbw0E5BMMtBn\n",
       "4AsDu9Jk0TSkTIobrIYxuJkkChAmcXpnMDAZgJkbFNuxlSq1d0HgEiJxNaAbDTGpnMEbi7XseEo6\n",
       "lgLsJmUxNWBTXo3bpM0M2E2avQvowzQgyCO/fmAhXysADA51JaBf/CoAAAAASUVORK5CYII=\n",
       "\" style=\"display:inline;vertical-align:middle;\" /></a></td></tr>\n",
       "<tr><td>1</td><td>Literal</td><td></td><td><a class=\"ProveItLink\" href=\"../../../../logic/boolean/quantification/universal/__pv_it/265f8c02ac1094d56e0e6410a1c1fd3500dc9f540/expr.ipynb\"><img src=\"data:image/png;base64,iVBORw0KGgoAAAANSUhEUgAAAAwAAAAQBAMAAADQT4M0AAAAMFBMVEX///8QEBC6urrMzMxUVFRm\n",
       "ZmZERETc3NwyMjKqqqp2dnaIiIiYmJgiIiLu7u4AAAAU9Wx4AAAAAXRSTlMAQObYZgAAAFhJREFU\n",
       "CNdjeMAABhdAxGmGlSCqj6EMSLInMHAAJVknMPAsLy+vBYp8S0u7BaScGRjSgZQKA18DkOJl4D4A\n",
       "pLgP8IJM4mswARuX7gSmpoKNZWDcAKZ4gCoAgTQTILaSE58AAAAASUVORK5CYII=\n",
       "\" style=\"display:inline;vertical-align:middle;\" /></a></td></tr>\n",
       "<tr><td>2</td><td>Lambda</td><td>parameter:&nbsp;11<br>body:&nbsp;3<br>conditions:&nbsp;4<br></td><td><a class=\"ProveItLink\" href=\"../3e016cd28f7faced571484f9de65abdb4c3bcbdc0/expr.ipynb\"><img src=\"data:image/png;base64,iVBORw0KGgoAAAANSUhEUgAAALUAAAAVCAMAAAA3kV91AAAANlBMVEX///8UFBQNDQ0iIiIyMjLM\n",
       "zMx2dnaqqqpUVFTu7u5mZmaYmJhERESIiIjc3NwQEBC6uroAAAASmHVxAAAAAXRSTlMAQObYZgAA\n",
       "Ad1JREFUSMfFl1mSwyAMRJlhXyTg/pcdiD0xhMXGVUn4cjnhqREtgQn52pD4uVgB7syyoX0nwsdE\n",
       "c3VvnuHfVM1097WmQp9MXFJ9zlsZMPSHZGbqUyvWcn3GWxl+koHgFJ9kz686ZM5bKUU2N71zYyVO\n",
       "Lvt6ygveB4LQNaCsYpl9m1GAQgmm8QsqFgZoYcaqtXiQMerLPHQWjHH/P9B6nipBzO5Bkk+pJZ62\n",
       "KUBDj30t0ZKNVQsSYq6aeJ2XZelD3IsSrYqi8GEPskWQHd9Zao51lujgh6q5JCaHdW6Blzfi+Nvv\n",
       "D62Gj0dO9sc8TbleyUHTsZ5oHoeq0xSfdz3CAo+E0nKvu64KYxUL8G0P1II2Lw/0RHXatexoHvkC\n",
       "T1at9EV11TX9szbxEUHXBrRt1xVFIU1Um2x68OQ6b3tSfdW8Wq3bOBa3wgFdFrskgyAb2k6qkbCc\n",
       "QqfIZR5n1lh7NJh6U2pXbd1LRktcygtCUdy9xlqhZ52PmKQkRHudl2A2enntlHlshHYgtBBgT69M\n",
       "JZqFieqEBBNxhbdyot++G5yf6IK+68rX3oGuDgET1YrmZcl3qR7dVLHs8D1L6ulNlaZkOLHCWxt4\n",
       "86tA4Uy1TK5+6zcC3voCg87ZD/d1/gGToBPIinTO7AAAAABJRU5ErkJggg==\n",
       "\" style=\"display:inline;vertical-align:middle;\" /></a></td></tr>\n",
       "<tr><td>3</td><td>Operation</td><td>operator:&nbsp;8<br>operands:&nbsp;5<br></td><td><a class=\"ProveItLink\" href=\"../580ced4894d71ad23583a57cb416bce84e351f040/expr.ipynb\"><img src=\"data:image/png;base64,iVBORw0KGgoAAAANSUhEUgAAADEAAAARBAMAAACGHlkZAAAAMFBMVEX///+6uroyMjJERETMzMwQ\n",
       "EBAiIiKYmJju7u5mZmaqqqpUVFSIiIh2dnbc3NwAAAAWgogoAAAAAXRSTlMAQObYZgAAAKtJREFU\n",
       "GNNjYCAM2m7glFo0D6eU8BacUs6GKNy3p1+dPABlv1aE0KKBfAcYOC6wp7MmwJS9TAGRfOYnJzMw\n",
       "8DLwfOBygMmUzQCRHAwcO0AktwFMnOMYzOWvwSQrzBaOazAW4wQw9d6BoQFs+rQCmOa1IIL9wXkG\n",
       "HpAM36YFMAmuCwzcDAzrC0wZ3oC4jwXgHnGqLAc6v/ls750CNB9PYP+6gIEy8CwNBBLhfAD6DCzm\n",
       "QQNQLgAAAABJRU5ErkJggg==\n",
       "\" style=\"display:inline;vertical-align:middle;\" /></a></td></tr>\n",
       "<tr><td>4</td><td>ExprTuple</td><td>6</td><td><a class=\"ProveItLink\" href=\"../a47f2b43d011e78598a3835a692f9af8c33ca4280/expr.ipynb\"><img src=\"data:image/png;base64,iVBORw0KGgoAAAANSUhEUgAAAD0AAAAVBAMAAAAHs/uBAAAAMFBMVEX////c3NwiIiJERESqqqqY\n",
       "mJh2dnZmZmYQEBDu7u4yMjJUVFTMzMyIiIi6uroAAAAs73DqAAAAAXRSTlMAQObYZgAAAS5JREFU\n",
       "KM9jYCAE+C7glIoDEadxa2U/ACRWIviTMtEULGBg4EU23qsQVT6MgYFjArLA4z0o8jMYGF6h6jhs\n",
       "h8xjdmAoY2DgTE9gkIcZI70OQr/oY7zAwFbAsJSBgY3vA8N9uB5xHRDJaHq9mIGBZQFDHwPDEXYF\n",
       "BmO4fFAliORk4NwJDJsGhn8MDBM4LjD8hcpyXoL5URqIeT6A5Bn8J/D8gUonwbzLVwCRbwFSVQy8\n",
       "DWBBxqIAmDVuYEUNDKZAajkD8waw9C4HmDRLAgM3AwPrAoZ0IKea4T1Yn/ADuCtPhYcCPQr03yMg\n",
       "Z/LdegG0kC9g/QE0i+sBAwdYJgl7BALDlxVokQJnC3b5XHD8MiUwJ4C5QkogoAeX5lwADgeWu3XY\n",
       "tXOD7GbEnb7uMDAAAK4YQFVksIpVAAAAAElFTkSuQmCC\n",
       "\" style=\"display:inline;vertical-align:middle;\" /></a></td></tr>\n",
       "<tr><td>5</td><td>ExprTuple</td><td>7, 11</td><td><a class=\"ProveItLink\" href=\"../0b2afcdb3e359c436e077617831aa49d50dd87000/expr.ipynb\"><img src=\"data:image/png;base64,iVBORw0KGgoAAAANSUhEUgAAACwAAAAVBAMAAADP3xFXAAAAMFBMVEX////c3NwiIiJERESqqqqY\n",
       "mJh2dnZmZmYQEBDu7u4yMjJUVFTMzMyIiIi6uroAAAAs73DqAAAAAXRSTlMAQObYZgAAAOpJREFU\n",
       "GNNjYMAB+C6gi7A+ABKnMVXWAPFKTGEuBgbeC5jCrAkMHBMwhTkbGF5hc4YJQxmQFLstch1q1os+\n",
       "RiArnWEpUE8CqyqHAliU0fR6MZDyYuhjYGBj4P3AcgBiKgPnTpAehn8gNrcB3FhpEHEeJMzAwAF3\n",
       "JV8BRLgFRMkfYIC60w1iMYMp0PUC9xl4J4AlWBIYuIFUFNAtDP4BFgyyDJyfgPxT4aHrGEAOfMTA\n",
       "MPnatNwABs5+AQaGAtYfDkDhdQwcAnDbBJA8DwwWWADBHcl2ASlgEcKzYO4HAUQIbwQFA0aA8x5g\n",
       "AACpBTHTmw8wGwAAAABJRU5ErkJggg==\n",
       "\" style=\"display:inline;vertical-align:middle;\" /></a></td></tr>\n",
       "<tr><td>6</td><td>Operation</td><td>operator:&nbsp;8<br>operands:&nbsp;9<br></td><td><a class=\"ProveItLink\" href=\"../0466394b00b9e5997392f767fe5afed546e6f8b00/expr.ipynb\"><img src=\"data:image/png;base64,iVBORw0KGgoAAAANSUhEUgAAADEAAAASBAMAAAAAiiu3AAAAMFBMVEX///+YmJhUVFQyMjIQEBBE\n",
       "REQiIiKqqqrMzMyIiIi6urrc3NxmZmZ2dnbu7u4AAADXeCicAAAAAXRSTlMAQObYZgAAAL9JREFU\n",
       "GNNjYCAMnt3DKVV8GqfUUg2cUq1RyDy+OxcY9j+AcjZZQeglXtwTGHi5PjDMh6vbkwEiuQPnHGVg\n",
       "aOdJYAiFy4idA5vDwKfHwPCAZQLDT5jJ02Au3wQi6h9w/IBKXJsAleA6ACIPM3A6gLncxwRghtaC\n",
       "SRsGVgWwhHIBTIL9AgMTkDrEsB6sdusCuDuaZQRBzn868/wGNB8fYPwC0X8Ne4gwJfC5Y5dhu8B6\n",
       "AczYlgYCWQgZ9pmnsGsBAEgrL5wTsbC4AAAAAElFTkSuQmCC\n",
       "\" style=\"display:inline;vertical-align:middle;\" /></a></td></tr>\n",
       "<tr><td>7</td><td>Variable</td><td></td><td><a class=\"ProveItLink\" href=\"../../../../__pv_it/530be409e3083890784cf1d7b28c9e67e90af9360/expr.ipynb\"><img src=\"data:image/png;base64,iVBORw0KGgoAAAANSUhEUgAAAAsAAAAJBAMAAAAWSsseAAAAKlBMVEX///9ERETMzMwQEBAiIiKY\n",
       "mJju7u5mZmaqqqpUVFSIiIh2dnbc3NwAAAA/vyDhAAAAAXRSTlMAQObYZgAAAENJREFUCNdjYDi9\n",
       "8sTyBQxsG1hdmR0YuBm4LnAoMLAxcAowgADzAjB1VoEhgYH1wFoGrgSG3gBhhlMMDImrs3cFMAAA\n",
       "t0YN+iTRa+sAAAAASUVORK5CYII=\n",
       "\" style=\"display:inline;vertical-align:middle;\" /></a></td></tr>\n",
       "<tr><td>8</td><td>Literal</td><td></td><td><a class=\"ProveItLink\" href=\"../96143560a3dbc26f943e0a126972c9bfadab3fc50/expr.ipynb\"><img src=\"data:image/png;base64,iVBORw0KGgoAAAANSUhEUgAAAA4AAAARBAMAAAAf5oCsAAAALVBMVEX///+IiIiYmJjMzMxUVFRE\n",
       "RES6urrc3NxmZmYyMjKqqqp2dnYiIiLu7u4AAACqGg1VAAAAAXRSTlMAQObYZgAAAEFJREFUCNdj\n",
       "YICCO3uhjJXtUEaqM5RhGgZllEyDMioOQ2idXhDJKwPWy7tHAESx9yiAKc8FYCWlCQx4Qc0ZEDgG\n",
       "ALzAEHC/pigGAAAAAElFTkSuQmCC\n",
       "\" style=\"display:inline;vertical-align:middle;\" /></a></td></tr>\n",
       "<tr><td>9</td><td>ExprTuple</td><td>10, 11</td><td><a class=\"ProveItLink\" href=\"../1ba9cd67f202dbea908cf31db96755ce36201b140/expr.ipynb\"><img src=\"data:image/png;base64,iVBORw0KGgoAAAANSUhEUgAAACsAAAAVBAMAAAAtAwouAAAAMFBMVEX////c3NwiIiJERESqqqqY\n",
       "mJh2dnZmZmYQEBDu7u4yMjJUVFTMzMyIiIi6uroAAAAs73DqAAAAAXRSTlMAQObYZgAAAQdJREFU\n",
       "GNNjYMAB+C6gi8SBiNMYCtkPAImVmAYsYGDgvYApHMbAwDEBU3gGA8MrLK5gdmAoY2DgTE9gkIdo\n",
       "4ut4IMvAwFbAsBRI8n1guA9RJxxbbsDAwLKAoY+B4Qi7AoMxRHgCw2ygNr4Ghn9ANscFhr9QYxk3\n",
       "AAmeDyBhBv8JPH+gws8ZIMItQKqKgbcBIsqSALa4gcEUSC1nYN7AwAkScGNgAJrCuoAhHcipZngf\n",
       "wDBfAah7aWnUA7ADHwGFJ9+tF2CY8REYSAzxIEO5HjBwCIA0JwHxQ2TPsyYwcCtwgtQEwIVzwQHL\n",
       "lMCcgCzMCQxYBmkGlrt1QJoXrpgbZC4jRoDfYWAAADdMON26mSCyAAAAAElFTkSuQmCC\n",
       "\" style=\"display:inline;vertical-align:middle;\" /></a></td></tr>\n",
       "<tr><td>10</td><td>Variable</td><td></td><td><a class=\"ProveItLink\" href=\"../../../../__pv_it/f8b9edf8e16034727f0aad55bb83e392c3db40d40/expr.ipynb\"><img src=\"data:image/png;base64,iVBORw0KGgoAAAANSUhEUgAAAAsAAAANBAMAAACN24kIAAAAMFBMVEX///+YmJhUVFQyMjIQEBBE\n",
       "REQiIiKqqqrMzMyIiIi6urrc3NxmZmZ2dnbu7u4AAADXeCicAAAAAXRSTlMAQObYZgAAAFhJREFU\n",
       "CNdj4LtzgWH/AwZerg8M8xkY2nkSGEIZGB6wTGD4ycDAUP+A4weQOszA6QCkbBhYFYDUIYb1AkDq\n",
       "6czzGxhA4BoQMyXwuQMptgusF4AU+8xTQBIAUqMVoSp/SLMAAAAASUVORK5CYII=\n",
       "\" style=\"display:inline;vertical-align:middle;\" /></a></td></tr>\n",
       "<tr><td>11</td><td>Variable</td><td></td><td><a class=\"ProveItLink\" href=\"../../../../__pv_it/251502494639118b4892de8e9d720a5fcce840e10/expr.ipynb\"><img src=\"data:image/png;base64,iVBORw0KGgoAAAANSUhEUgAAAAoAAAAJBAMAAAD5iKAgAAAALVBMVEX///8yMjLMzMx2dnaqqqpU\n",
       "VFTu7u5mZmaYmJhERESIiIjc3NwQEBC6uroAAAB+iRisAAAAAXRSTlMAQObYZgAAADlJREFUCNdj\n",
       "YOA9c2EXA8POrvIJDAwJDKkJDAwM3AFAguE6iGAxAJHODAwBDEwSFY0XGNgZ+o4wAABKtAsIcBKm\n",
       "agAAAABJRU5ErkJggg==\n",
       "\" style=\"display:inline;vertical-align:middle;\" /></a></td></tr>\n",
       "</table>\n"
      ],
      "text/plain": [
       "0. forall_{z | y >= z} (x >= z)\n",
       "   core type: Operation\n",
       "   operator: 1\n",
       "   operand: 2\n",
       "1. forall\n",
       "   core type: Literal\n",
       "   sub-expressions: \n",
       "2. z -> (x >= z) | y >= z\n",
       "   core type: Lambda\n",
       "   parameter: 11\n",
       "   body: 3\n",
       "   conditions: 4\\n3. x >= z\n",
       "   core type: Operation\n",
       "   operator: 8\n",
       "   operands: 5\n",
       "4. (y >= z)\n",
       "   core type: ExprTuple\n",
       "   sub-expressions: 6\n",
       "5. (x , z)\n",
       "   core type: ExprTuple\n",
       "   sub-expressions: 7, 11\n",
       "6. y >= z\n",
       "   core type: Operation\n",
       "   operator: 8\n",
       "   operands: 9\n",
       "7. x\n",
       "   core type: Variable\n",
       "   sub-expressions: \n",
       "8. >=\n",
       "   core type: Literal\n",
       "   sub-expressions: \n",
       "9. (y , z)\n",
       "   core type: ExprTuple\n",
       "   sub-expressions: 10, 11\n",
       "10. y\n",
       "    core type: Variable\n",
       "    sub-expressions: \n",
       "11. z\n",
       "    core type: Variable\n",
       "    sub-expressions: "
      ]
     },
     "execution_count": 4,
     "metadata": {},
     "output_type": "execute_result"
    }
   ],
   "source": [
    "# display the expression information\n",
    "expr.exprInfo()"
   ]
  },
  {
   "cell_type": "code",
   "execution_count": null,
   "metadata": {},
   "outputs": [],
   "source": []
  }
 ],
 "metadata": {
  "kernelspec": {
   "display_name": "Python 3",
   "language": "python",
   "name": "python3"
  }
 },
 "nbformat": 4,
 "nbformat_minor": 0
}
