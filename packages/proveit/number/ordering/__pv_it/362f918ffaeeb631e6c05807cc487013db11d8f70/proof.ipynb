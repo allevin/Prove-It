{
 "cells": [
  {
   "cell_type": "markdown",
   "metadata": {},
   "source": [
    "Show the Proof\n",
    "========"
   ]
  },
  {
   "cell_type": "code",
   "execution_count": 1,
   "metadata": {},
   "outputs": [
    {
     "data": {
      "text/html": [
       "<table><tr><th>&nbsp;</th><th>step type</th><th>requirements</th><th>statement</th></tr>\n",
       "<tr><td>0</td><td>assumption</td><td></td><td><span style=\"font-size:20px;\"><a class=\"ProveItLink\" href=\"../a13accdbab82c67e42dd0b300ade9397bde44d8f0/expr.ipynb\"><img src=\"data:image/png;base64,iVBORw0KGgoAAAANSUhEUgAAAEEAAAAVBAMAAADrxp6XAAAAMFBMVEX////c3NxERESqqqpUVFS6\n",
       "urrMzMwyMjIQEBCIiIh2dnYiIiLu7u5mZmaYmJgAAABXZE4RAAAAAXRSTlMAQObYZgAAAQlJREFU\n",
       "KM9jYGDgu8eAA7CtEgBRPLsYcAK2ZhDJ+QG3CobrIIKrAWRQG4h5eg26ihVwFcx/wALmF3Gq4N0A\n",
       "EQlyw6WC+wJUKEkVu4oQfZUJUDGRUig9K0IAqoK3AEjYI7TJbgORrI0M+kDqPYidEQDzFQS8vgMi\n",
       "5R8wXAJS7EDbU8D+hIcaz2yIj/0ZGHaCaPUHDAwRCUDxrzAFq6Hu+cTA8w3kgwVAggXoDuYPDOAY\n",
       "YLz9AKKA8SdQjAfqDq4NINcyg1zD6G4AM+szUKcZkm9ZLpwCMYUC4O6tY7C+sABJBaPmBLTgFpkZ\n",
       "phmAHKa4AJEq+BAqpHeDwFb09MGzE08aawVTfIvxplMAu01Ga/DvE30AAAAASUVORK5CYII=\n",
       "\" style=\"display:inline;vertical-align:middle;\" /></a> <a class=\"ProveItLink\" href=\"proof.ipynb\" style=\"text-decoration: none\">&#x22A2;&nbsp;</a><a class=\"ProveItLink\" href=\"../d8ed2deb8e49b1e463b49f4f62c89f73daf50f040/expr.ipynb\"><img src=\"data:image/png;base64,iVBORw0KGgoAAAANSUhEUgAAAC4AAAARBAMAAABQu4N8AAAAMFBMVEX///+YmJjc3Nx2dnYyMjKI\n",
       "iIhERERUVFS6uroiIiJmZmaqqqrMzMwQEBDu7u4AAABm0p0FAAAAAXRSTlMAQObYZgAAAK9JREFU\n",
       "GNNjYMAF+O6AyJd26OLc/8DUlkVo4lwTIHRbDao45wIo41gGsnB7fnoAlKnuAaWDexUYGPYj1GjN\n",
       "AZEclxjygdQShLjkOhCpL8CwDEhNhjs4EuLWegaGqUDeD5iwJdSebwx8f4DO/8CgAOIxrRSACDN9\n",
       "BYrxMXA5cDeAeCUbYPp+M7A77GFgX/AYxFNrgNvuyLBzgQEDU2oAWgCoh/akNjCQCTRngsAMOB8A\n",
       "SfsoZ1/yoooAAAAASUVORK5CYII=\n",
       "\" style=\"display:inline;vertical-align:middle;\" /></a></span></td></tr>\n",
       "</table>"
      ],
      "text/plain": [
       "<proveit._core_.proof._ShowProof at 0x7f950c630080>"
      ]
     },
     "execution_count": 1,
     "metadata": {},
     "output_type": "execute_result"
    }
   ],
   "source": [
    "import proveit\n",
    "%show_proof"
   ]
  },
  {
   "cell_type": "code",
   "execution_count": null,
   "metadata": {},
   "outputs": [],
   "source": []
  }
 ],
 "metadata": {
  "kernelspec": {
   "display_name": "Python 3",
   "language": "python",
   "name": "python3"
  }
 },
 "nbformat": 4,
 "nbformat_minor": 0
}
