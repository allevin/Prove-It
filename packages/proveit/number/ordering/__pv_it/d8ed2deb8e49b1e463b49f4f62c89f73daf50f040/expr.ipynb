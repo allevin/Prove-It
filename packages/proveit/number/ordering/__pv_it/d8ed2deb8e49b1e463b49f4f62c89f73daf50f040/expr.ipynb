{
 "cells": [
  {
   "cell_type": "markdown",
   "metadata": {},
   "source": [
    "Expression of type <a class=\"ProveItLink\" href=\"../../../../../../doc/html/api/proveit.number.GreaterEq.html\">GreaterEq</a>\n",
    "=======================\n",
    "# from context <a class=\"ProveItLink\" href=\"../../_context_.ipynb\">proveit.number.ordering</a>"
   ]
  },
  {
   "cell_type": "code",
   "execution_count": 1,
   "metadata": {},
   "outputs": [],
   "source": [
    "# import Expression classes needed to build the expression\n",
    "from proveit._common_ import a, t\n",
    "from proveit.number import GreaterEq"
   ]
  },
  {
   "cell_type": "code",
   "execution_count": 2,
   "metadata": {},
   "outputs": [
    {
     "data": {
      "text/html": [
       "<strong id=\"expr\">expr:</strong> <a class=\"ProveItLink\" href=\"expr.ipynb\"><img src=\"data:image/png;base64,iVBORw0KGgoAAAANSUhEUgAAAC4AAAARBAMAAABQu4N8AAAAMFBMVEX///+YmJjc3Nx2dnYyMjKI\n",
       "iIhERERUVFS6uroiIiJmZmaqqqrMzMwQEBDu7u4AAABm0p0FAAAAAXRSTlMAQObYZgAAAK9JREFU\n",
       "GNNjYMAF+O6AyJd26OLc/8DUlkVo4lwTIHRbDao45wIo41gGsnB7fnoAlKnuAaWDexUYGPYj1GjN\n",
       "AZEclxjygdQShLjkOhCpL8CwDEhNhjs4EuLWegaGqUDeD5iwJdSebwx8f4DO/8CgAOIxrRSACDN9\n",
       "BYrxMXA5cDeAeCUbYPp+M7A77GFgX/AYxFNrgNvuyLBzgQEDU2oAWgCoh/akNjCQCTRngsAMOB8A\n",
       "SfsoZ1/yoooAAAAASUVORK5CYII=\n",
       "\" style=\"display:inline;vertical-align:middle;\" /></a><br>"
      ],
      "text/plain": [
       "expr: t >= a"
      ]
     },
     "execution_count": 2,
     "metadata": {},
     "output_type": "execute_result"
    }
   ],
   "source": [
    "# build up the expression from sub-expressions\n",
    "expr = GreaterEq(t, a)"
   ]
  },
  {
   "cell_type": "code",
   "execution_count": 3,
   "metadata": {},
   "outputs": [
    {
     "name": "stdout",
     "output_type": "stream",
     "text": [
      "Passed sanity check: built 'expr' is the same as the stored Expression.\n"
     ]
    }
   ],
   "source": [
    "# check that the built expression is the same as the stored expression\n",
    "%check_expr"
   ]
  },
  {
   "cell_type": "code",
   "execution_count": 4,
   "metadata": {},
   "outputs": [
    {
     "data": {
      "text/html": [
       "<table><tr><th>&nbsp;</th><th>core type</th><th>sub-expressions</th><th>expression</th></tr>\n",
       "<tr><td>0</td><td>Operation</td><td>operator:&nbsp;1<br>operands:&nbsp;2<br></td><td><a class=\"ProveItLink\" href=\"expr.ipynb\"><img src=\"data:image/png;base64,iVBORw0KGgoAAAANSUhEUgAAAC4AAAARBAMAAABQu4N8AAAAMFBMVEX///+YmJjc3Nx2dnYyMjKI\n",
       "iIhERERUVFS6uroiIiJmZmaqqqrMzMwQEBDu7u4AAABm0p0FAAAAAXRSTlMAQObYZgAAAK9JREFU\n",
       "GNNjYMAF+O6AyJd26OLc/8DUlkVo4lwTIHRbDao45wIo41gGsnB7fnoAlKnuAaWDexUYGPYj1GjN\n",
       "AZEclxjygdQShLjkOhCpL8CwDEhNhjs4EuLWegaGqUDeD5iwJdSebwx8f4DO/8CgAOIxrRSACDN9\n",
       "BYrxMXA5cDeAeCUbYPp+M7A77GFgX/AYxFNrgNvuyLBzgQEDU2oAWgCoh/akNjCQCTRngsAMOB8A\n",
       "SfsoZ1/yoooAAAAASUVORK5CYII=\n",
       "\" style=\"display:inline;vertical-align:middle;\" /></a></td></tr>\n",
       "<tr><td>1</td><td>Literal</td><td></td><td><a class=\"ProveItLink\" href=\"../96143560a3dbc26f943e0a126972c9bfadab3fc50/expr.ipynb\"><img src=\"data:image/png;base64,iVBORw0KGgoAAAANSUhEUgAAAA4AAAARBAMAAAAf5oCsAAAALVBMVEX///+IiIiYmJjMzMxUVFRE\n",
       "RES6urrc3NxmZmYyMjKqqqp2dnYiIiLu7u4AAACqGg1VAAAAAXRSTlMAQObYZgAAAEFJREFUCNdj\n",
       "YICCO3uhjJXtUEaqM5RhGgZllEyDMioOQ2idXhDJKwPWy7tHAESx9yiAKc8FYCWlCQx4Qc0ZEDgG\n",
       "ALzAEHC/pigGAAAAAElFTkSuQmCC\n",
       "\" style=\"display:inline;vertical-align:middle;\" /></a></td></tr>\n",
       "<tr><td>2</td><td>ExprTuple</td><td>3, 4</td><td><a class=\"ProveItLink\" href=\"../1b5077aa8f74b7d519ac285630f643eb6c4b97160/expr.ipynb\"><img src=\"data:image/png;base64,iVBORw0KGgoAAAANSUhEUgAAACgAAAAVBAMAAADGNLEtAAAAMFBMVEX////c3NwiIiJERESqqqqY\n",
       "mJh2dnZmZmYQEBDu7u4yMjJUVFTMzMyIiIi6uroAAAAs73DqAAAAAXRSTlMAQObYZgAAAO9JREFU\n",
       "GNNjYMAK+C6g8lkfAInT6KpqgHglAwNnD7IgFwMDL1A3y08U/QkMHBMYGNgVkAU5GxheASmmAhRD\n",
       "TRjKGBhe21tDXSB97YUAA0M6w1Ig2x/mukYGeyDlxdAHJKuggvIBDMVA6gXDPyCpBhXcz8CgC6TO\n",
       "gwQ5/0EFPzNw/gELtgCd+YFBACTG+BfI5ARpNwU6cwHLA06QA78wcC/wYWCIAtrPwF0wjWE+yP1L\n",
       "GZwKEkBOegTUZnuBYcZHkDPvvrEFhtE6Bg4BiCUPkb0J9D4YBMAF2S6Agw5VcBbIIDCLFxEeG0Gu\n",
       "Q4sO3gMMAEGUNgTL4Y2+AAAAAElFTkSuQmCC\n",
       "\" style=\"display:inline;vertical-align:middle;\" /></a></td></tr>\n",
       "<tr><td>3</td><td>Variable</td><td></td><td><a class=\"ProveItLink\" href=\"../../../../__pv_it/ce279d39727df35ccc8a89894715e433c302db340/expr.ipynb\"><img src=\"data:image/png;base64,iVBORw0KGgoAAAANSUhEUgAAAAcAAAANBAMAAACX52mGAAAALVBMVEX////c3Nx2dnYyMjKIiIhE\n",
       "RERUVFS6uroiIiJmZmaqqqrMzMwQEBDu7u4AAACdk1SzAAAAAXRSTlMAQObYZgAAAEBJREFUCNdj\n",
       "YOA9zcDAwPUWSHA2AAmOCQwMZXFhDgwM64A8hskgogmIeZ+DlD1gEGDgNOAqYGCbcImBgTHEgQEA\n",
       "VpEKvIbxevgAAAAASUVORK5CYII=\n",
       "\" style=\"display:inline;vertical-align:middle;\" /></a></td></tr>\n",
       "<tr><td>4</td><td>Variable</td><td></td><td><a class=\"ProveItLink\" href=\"../../../../__pv_it/07527342713064c87612d00d8557c53d53d5324a0/expr.ipynb\"><img src=\"data:image/png;base64,iVBORw0KGgoAAAANSUhEUgAAAAsAAAAJBAMAAAAWSsseAAAAMFBMVEX///8yMjKqqqrMzMzu7u4i\n",
       "IiJmZmaYmJhEREQQEBC6urp2dnaIiIhUVFTc3NwAAAD87Fq/AAAAAXRSTlMAQObYZgAAAEhJREFU\n",
       "CNdjYOC7s2seAwPDygccHxgY+L4zsDUwMPB+YGA9wMDA38Dgb8DA8P4Agz6DA4O/AsNFJgMGxgKm\n",
       "MG6gyjunLE4xAAAZTBA5TB6DCwAAAABJRU5ErkJggg==\n",
       "\" style=\"display:inline;vertical-align:middle;\" /></a></td></tr>\n",
       "</table>\n"
      ],
      "text/plain": [
       "0. t >= a\n",
       "   core type: Operation\n",
       "   operator: 1\n",
       "   operands: 2\n",
       "1. >=\n",
       "   core type: Literal\n",
       "   sub-expressions: \n",
       "2. (t , a)\n",
       "   core type: ExprTuple\n",
       "   sub-expressions: 3, 4\n",
       "3. t\n",
       "   core type: Variable\n",
       "   sub-expressions: \n",
       "4. a\n",
       "   core type: Variable\n",
       "   sub-expressions: "
      ]
     },
     "execution_count": 4,
     "metadata": {},
     "output_type": "execute_result"
    }
   ],
   "source": [
    "# display the expression information\n",
    "expr.exprInfo()"
   ]
  },
  {
   "cell_type": "code",
   "execution_count": null,
   "metadata": {},
   "outputs": [],
   "source": []
  }
 ],
 "metadata": {
  "kernelspec": {
   "display_name": "Python 3",
   "language": "python",
   "name": "python3"
  }
 },
 "nbformat": 4,
 "nbformat_minor": 0
}
