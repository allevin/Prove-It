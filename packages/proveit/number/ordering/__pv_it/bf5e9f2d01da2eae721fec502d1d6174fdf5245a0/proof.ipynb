{
 "cells": [
  {
   "cell_type": "markdown",
   "metadata": {},
   "source": [
    "Show the Proof\n",
    "========"
   ]
  },
  {
   "cell_type": "code",
   "execution_count": 1,
   "metadata": {},
   "outputs": [
    {
     "data": {
      "text/html": [
       "<table><tr><th>&nbsp;</th><th>step type</th><th>requirements</th><th>statement</th></tr>\n",
       "<tr><td>0</td><td>assumption</td><td></td><td><span style=\"font-size:20px;\"><a class=\"ProveItLink\" href=\"../718305a2d36c95d0aefb704ebee57c6b78f941430/expr.ipynb\"><img src=\"data:image/png;base64,iVBORw0KGgoAAAANSUhEUgAAAEUAAAAVBAMAAADiLT7tAAAAMFBMVEX///9ERETc3NyqqqpUVFS6\n",
       "urrMzMwyMjIQEBCIiIh2dnYiIiLu7u5mZmaYmJgAAABJJ2g3AAAAAXRSTlMAQObYZgAAARVJREFU\n",
       "KM9jYGDgu8eAE7CtUgBRPLsY8AC2ZhDJ+QGLFF+94PeKShDrOojgasCmn5HJgU24CMhYgU/NBQYZ\n",
       "RexqTlbv3g5Ts4wRqxq2ugMIc9DURLQyTQBxFA8g2eUDt4u3gIGBSW7uRbCUEJJ7WPeB3PwexMsI\n",
       "AIYRA48POKwEEGq6dxeDGOwXGBhS2sBiKmCStXv3bpibr16QAYuJPwA6JQEkeQHiZAcku66mgBjc\n",
       "C4AEC9A9DFYQGZ4NSGrYTz6AuYcLKM68gIEFLOWHpIbNwQ3Z7+lv35WCpU4HIPl9MaMCkpoLfD8M\n",
       "wFJMtQmwOP2YwC7+GWtcMLtD/AUHeOIUVQ0ffjXg9MOzE286bIW4bzGB9AwAwHpM/LIzO9UAAAAA\n",
       "SUVORK5CYII=\n",
       "\" style=\"display:inline;vertical-align:middle;\" /></a> <a class=\"ProveItLink\" href=\"proof.ipynb\" style=\"text-decoration: none\">&#x22A2;&nbsp;</a><a class=\"ProveItLink\" href=\"../1d7681ec067b9d8136edae4a6da8e03ca4f1fcd60/expr.ipynb\"><img src=\"data:image/png;base64,iVBORw0KGgoAAAANSUhEUgAAADMAAAAPBAMAAAC7N+rPAAAAMFBMVEX///8iIiIyMjLMzMx2dnaq\n",
       "qqpUVFTu7u5mZmaYmJhERESIiIjc3NwQEBC6uroAAABuzmuqAAAAAXRSTlMAQObYZgAAALlJREFU\n",
       "GNNjYMAAk36tV7q0gQErWHCMwSroAHapEwxcNQuQRdg3CQoqQKVYDFCkjKYjdEGk+O4+OA0S4FmO\n",
       "ZCAb2MBTszvAmrkOIEk9nATiFTCUFYAEqhDOOCsoFABm8SSAqbeCgnBnvOACq2Z4AVFrhuR4jsdg\n",
       "5awOEIFCZH+p7wQxQhgYwErYJiBJmbEZMDAwa3ZOegD2sRySFEvAGgYGDob5VyEih5rhwbuYQUs/\n",
       "ADk4whQhLoQCANjzOenR969yAAAAAElFTkSuQmCC\n",
       "\" style=\"display:inline;vertical-align:middle;\" /></a></span></td></tr>\n",
       "</table>"
      ],
      "text/plain": [
       "<proveit._core_.proof._ShowProof at 0x7f94ebd64978>"
      ]
     },
     "execution_count": 1,
     "metadata": {},
     "output_type": "execute_result"
    }
   ],
   "source": [
    "import proveit\n",
    "%show_proof"
   ]
  },
  {
   "cell_type": "code",
   "execution_count": null,
   "metadata": {},
   "outputs": [],
   "source": []
  }
 ],
 "metadata": {
  "kernelspec": {
   "display_name": "Python 3",
   "language": "python",
   "name": "python3"
  }
 },
 "nbformat": 4,
 "nbformat_minor": 0
}
