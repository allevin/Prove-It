{
 "cells": [
  {
   "cell_type": "markdown",
   "metadata": {},
   "source": [
    "Expression of type <a class=\"ProveItLink\" href=\"../../../../../../doc/html/api/proveit.logic.Or.html\">Or</a>\n",
    "=======================\n",
    "# from context <a class=\"ProveItLink\" href=\"../../_context_.ipynb\">proveit.number.ordering</a>"
   ]
  },
  {
   "cell_type": "code",
   "execution_count": 1,
   "metadata": {},
   "outputs": [],
   "source": [
    "# import Expression classes needed to build the expression\n",
    "from proveit.logic import Equals, Or\n",
    "from proveit.number import Less, LessEq"
   ]
  },
  {
   "cell_type": "code",
   "execution_count": 2,
   "metadata": {},
   "outputs": [
    {
     "data": {
      "text/html": [
       "<strong id=\"expr\">expr:</strong> <a class=\"ProveItLink\" href=\"expr.ipynb\"><img src=\"data:image/png;base64,iVBORw0KGgoAAAANSUhEUgAAAOsAAAAVBAMAAABVvASPAAAAMFBMVEX////c3NwiIiJERESqqqqY\n",
       "mJh2dnZmZmYQEBDu7u4yMjJUVFTMzMyIiIi6uroAAAAs73DqAAAAAXRSTlMAQObYZgAAAkNJREFU\n",
       "SMfFVr1LXEEQn9P78rw7jzQWIohBweIkYNKJXG11WKQIJAQbsRCMRQpJcYE0NhIQ9LB6hSJ+IJdW\n",
       "jkOwvCKSLhBBUokg+BeIM7Oz72X3bt9HlSlmd978bmZ3vvYA/hOVr12azK395cFp5QMkxHbdJ/pi\n",
       "ycWWE5q7TIg9drstMOc7F1n+3h9XmgXwYmKJEFvSMR61zoty5iNt2sRufIaUMsOwW0X2FmJhmRCb\n",
       "l1N1z00VyUMN2l0RmyG2JfG7MJK+N0W8CXGwihB7r3b3bVOj5NccrgpAep2KTwWyfGrEZeyAl8Fa\n",
       "DKwQYj/zZvGTqRB5hRiZIXOQ45injyp2VIiy69FYTYg9pPXXKlfYCVNLy+gdJGgcvEKdymeas7LJ\n",
       "0FPYmRdTaS8Sq1fCbuP3Zat1ffkOpDo6tOYxTdmqVcRVqY1yIxIbjIoGPGHlzJlpD+SfzAdgiK8y\n",
       "gp93FuyZom4ExcdorN/Tj+QWy61mftaycpurZevaFHQPLBuSP3Ebjg3cfuPm2iBsbpLplZZ1kFPe\n",
       "AK95Pswo98sGQ18G1SpBDsP6v0HsGxXX5d9mnJX8Tknt96ru6zIdrAFUnEO/GS8WViXGUz2CtLRq\n",
       "qlgW5dXMPz0SpDPw2wmUUVhR/vVb1WpskqUnC8pGeUKn86zP/L5NhM1X3CNbDUe8jZz4a8j72YRE\n",
       "WDXu+1P2umeEO2kNkmFDHr59Ozi9eXrB1Tkr3RqO9YNI2DG32x+WnHI/3cOVhNiU809Nqef1GHea\n",
       "+gOJsM+Nda+wYslsggAAAABJRU5ErkJggg==\n",
       "\" style=\"display:inline;vertical-align:middle;\" /></a><br>"
      ],
      "text/plain": [
       "expr: (< = <) or (< = <=) or (< = =)"
      ]
     },
     "execution_count": 2,
     "metadata": {},
     "output_type": "execute_result"
    }
   ],
   "source": [
    "# build up the expression from sub-expressions\n",
    "expr = Or(Equals(Less._operator_, Less._operator_), Equals(Less._operator_, LessEq._operator_), Equals(Less._operator_, Equals._operator_))"
   ]
  },
  {
   "cell_type": "code",
   "execution_count": 3,
   "metadata": {},
   "outputs": [
    {
     "name": "stdout",
     "output_type": "stream",
     "text": [
      "Passed sanity check: built 'expr' is the same as the stored Expression.\n"
     ]
    }
   ],
   "source": [
    "# check that the built expression is the same as the stored expression\n",
    "%check_expr"
   ]
  },
  {
   "cell_type": "code",
   "execution_count": 4,
   "metadata": {},
   "outputs": [
    {
     "data": {
      "text/html": [
       "<table><tr><th>&nbsp;</th><th>core type</th><th>sub-expressions</th><th>expression</th></tr>\n",
       "<tr><td>0</td><td>Operation</td><td>operator:&nbsp;1<br>operands:&nbsp;2<br></td><td><a class=\"ProveItLink\" href=\"expr.ipynb\"><img src=\"data:image/png;base64,iVBORw0KGgoAAAANSUhEUgAAAOsAAAAVBAMAAABVvASPAAAAMFBMVEX////c3NwiIiJERESqqqqY\n",
       "mJh2dnZmZmYQEBDu7u4yMjJUVFTMzMyIiIi6uroAAAAs73DqAAAAAXRSTlMAQObYZgAAAkNJREFU\n",
       "SMfFVr1LXEEQn9P78rw7jzQWIohBweIkYNKJXG11WKQIJAQbsRCMRQpJcYE0NhIQ9LB6hSJ+IJdW\n",
       "jkOwvCKSLhBBUokg+BeIM7Oz72X3bt9HlSlmd978bmZ3vvYA/hOVr12azK395cFp5QMkxHbdJ/pi\n",
       "ycWWE5q7TIg9drstMOc7F1n+3h9XmgXwYmKJEFvSMR61zoty5iNt2sRufIaUMsOwW0X2FmJhmRCb\n",
       "l1N1z00VyUMN2l0RmyG2JfG7MJK+N0W8CXGwihB7r3b3bVOj5NccrgpAep2KTwWyfGrEZeyAl8Fa\n",
       "DKwQYj/zZvGTqRB5hRiZIXOQ45injyp2VIiy69FYTYg9pPXXKlfYCVNLy+gdJGgcvEKdymeas7LJ\n",
       "0FPYmRdTaS8Sq1fCbuP3Zat1ffkOpDo6tOYxTdmqVcRVqY1yIxIbjIoGPGHlzJlpD+SfzAdgiK8y\n",
       "gp93FuyZom4ExcdorN/Tj+QWy61mftaycpurZevaFHQPLBuSP3Ebjg3cfuPm2iBsbpLplZZ1kFPe\n",
       "AK95Pswo98sGQ18G1SpBDsP6v0HsGxXX5d9mnJX8Tknt96ru6zIdrAFUnEO/GS8WViXGUz2CtLRq\n",
       "qlgW5dXMPz0SpDPw2wmUUVhR/vVb1WpskqUnC8pGeUKn86zP/L5NhM1X3CNbDUe8jZz4a8j72YRE\n",
       "WDXu+1P2umeEO2kNkmFDHr59Ozi9eXrB1Tkr3RqO9YNI2DG32x+WnHI/3cOVhNiU809Nqef1GHea\n",
       "+gOJsM+Nda+wYslsggAAAABJRU5ErkJggg==\n",
       "\" style=\"display:inline;vertical-align:middle;\" /></a></td></tr>\n",
       "<tr><td>1</td><td>Literal</td><td></td><td><a class=\"ProveItLink\" href=\"../../../../logic/boolean/disjunction/__pv_it/087d0b4ded7c7e5bf3bba05ecb616d7a8051ff650/expr.ipynb\"><img src=\"data:image/png;base64,iVBORw0KGgoAAAANSUhEUgAAAAwAAAAOBAMAAADpk+DfAAAALVBMVEX///+YmJh2dnZmZmaqqqrc\n",
       "3NwyMjLu7u4iIiJERESIiIhUVFTMzMy6uroAAAD0I/TTAAAAAXRSTlMAQObYZgAAAEtJREFUCNdj\n",
       "uMAABDwMe0DUKoaTIKqdgS2AgYHFAITAzHYGsMQqBoa9QIqDgT0BSDE7MAkAKdYEDpAehj1SYOpk\n",
       "O5hiMwBTPAUMDAB33Atnw8aG2QAAAABJRU5ErkJggg==\n",
       "\" style=\"display:inline;vertical-align:middle;\" /></a></td></tr>\n",
       "<tr><td>2</td><td>ExprTuple</td><td>3, 4, 5</td><td><a class=\"ProveItLink\" href=\"../be950a4f7c018f34b43f51cc32818c3b23ac22580/expr.ipynb\"><img src=\"data:image/png;base64,iVBORw0KGgoAAAANSUhEUgAAAK8AAAAVBAMAAADC7aNVAAAAMFBMVEX////c3NwiIiJERESqqqqY\n",
       "mJh2dnZmZmYQEBDu7u4yMjJUVFTMzMyIiIi6uroAAAAs73DqAAAAAXRSTlMAQObYZgAAAZVJREFU\n",
       "OMtjYKAZ4LtAfTPjQMRpGjiW/QCQWEmGRl49AgoWANXAQkL8AKocMp+xBkVqmi4yD00SDMIYGDgm\n",
       "QJin16FKIfN5dj1AlpquisxDk4SAGQwMryCsV3tQZZD5fKtRPCO9BCXuVx/AEhTMDgxlYIZXIaoE\n",
       "Mp9luQAur2BIwgBbAcNSEH0pExyXq8BgA4wPjSg1cGBVgeVWM0y2QYlFVEkYzcCygKEPKJ6ElpSR\n",
       "+Wy6aAlCdwJuSUQANTD8Y2DgNEYNfhT+ZDs0PaxqE3BLwmP0A8hgYMQ6oAoj808vQdOEHKwYkgiD\n",
       "W8BJsSgAFMZKYGAA48MSNDh1FYHllNETAqokXBEwKEwhvk+6iRoaYP4EWH6YgOYe4wMMnAw4JCHh\n",
       "tYAhHcoMykSVAvI5P2EJVojJ+xjmK+CShCa3R/Cki5bQvQ5w9sMCk2UNZt76yIBbkoHrAQOHAJ4S\n",
       "FY8cw0N8hRAwS7Mm4JZmxac3AJ9kLv5iE5vBQuCI18NvMOcCUJmCWx5f3cKLz8HcoDBkpEHVdIeB\n",
       "AQCBEnBuhTM+GQAAAABJRU5ErkJggg==\n",
       "\" style=\"display:inline;vertical-align:middle;\" /></a></td></tr>\n",
       "<tr><td>3</td><td>Operation</td><td>operator:&nbsp;11<br>operands:&nbsp;6<br></td><td><a class=\"ProveItLink\" href=\"../157e3832e92ecf087fc4a7352642a6fc3d9ad4120/expr.ipynb\"><img src=\"data:image/png;base64,iVBORw0KGgoAAAANSUhEUgAAAC4AAAAMBAMAAADv85I5AAAALVBMVEX///+YmJhERETu7u52dnYi\n",
       "IiKIiIiqqqq6uroyMjJUVFTMzMxmZmbc3NwAAADmAst+AAAAAXRSTlMAQObYZgAAAGJJREFUGNNj\n",
       "YAAB3tMMKADK517ZgCIM5XPM2oAiDOWzz7mAIgzls4UYgKiTM0FgFpzPEoZqJYxvpIEqDufvmo4q\n",
       "AeffCQSRR0NBIAjOBwKTMAMUHXA+YwiqBJzPPhvVDvbZAMQeG/1kQTMcAAAAAElFTkSuQmCC\n",
       "\" style=\"display:inline;vertical-align:middle;\" /></a></td></tr>\n",
       "<tr><td>4</td><td>Operation</td><td>operator:&nbsp;11<br>operands:&nbsp;7<br></td><td><a class=\"ProveItLink\" href=\"../026bd90581605162c68d327b7018f1d80e06c36c0/expr.ipynb\"><img src=\"data:image/png;base64,iVBORw0KGgoAAAANSUhEUgAAAC4AAAARBAMAAABQu4N8AAAALVBMVEX///+YmJhERETu7u52dnYi\n",
       "IiKIiIiqqqq6uroyMjJUVFTMzMxmZmbc3NwAAADmAst+AAAAAXRSTlMAQObYZgAAAHlJREFUGNNj\n",
       "YCAFsEVAaN7TKMImYRCae2UDsrBNIITmmLUBWfjWdAjNPucCsvCuGVA7QgxA1MmZIDCLwUgbIswS\n",
       "huaUMLAyBiMNNDcyQvQz7JqOJgGz7w7YWUdDQSAI2X0mUCPhgFtpA4qRCIkVUCNnM1AbXAW7KwIA\n",
       "RC4eYITT5lUAAAAASUVORK5CYII=\n",
       "\" style=\"display:inline;vertical-align:middle;\" /></a></td></tr>\n",
       "<tr><td>5</td><td>Operation</td><td>operator:&nbsp;11<br>operands:&nbsp;8<br></td><td><a class=\"ProveItLink\" href=\"../772ea1f491fd9be718ffc98083d41e0e33537ec40/expr.ipynb\"><img src=\"data:image/png;base64,iVBORw0KGgoAAAANSUhEUgAAAC4AAAAMBAMAAADv85I5AAAALVBMVEX///+YmJhERETu7u52dnYi\n",
       "IiKIiIiqqqq6uroyMjJUVFTMzMxmZmbc3NwAAADmAst+AAAAAXRSTlMAQObYZgAAAFNJREFUGNNj\n",
       "YAAB3tMM2AD3ygZswhyzNmATZp9zAZswW4gBiDo5EwRmwWmWMKxWMhhpYBdn2DUdh8SdQBB5NBQE\n",
       "guA0EJiEGWDXwRiCQ4J9NroIAHgCGK/M4P+zAAAAAElFTkSuQmCC\n",
       "\" style=\"display:inline;vertical-align:middle;\" /></a></td></tr>\n",
       "<tr><td>6</td><td>ExprTuple</td><td>10, 10</td><td><a class=\"ProveItLink\" href=\"../17b827e39c1958d56d465ffaba880fca86de249b0/expr.ipynb\"><img src=\"data:image/png;base64,iVBORw0KGgoAAAANSUhEUgAAADUAAAAVBAMAAAAUZLt1AAAAMFBMVEX////c3NwiIiJERESqqqqY\n",
       "mJh2dnZmZmYQEBDu7u4yMjJUVFTMzMyIiIi6uroAAAAs73DqAAAAAXRSTlMAQObYZgAAAPNJREFU\n",
       "KM9jYMAH+C5gFY4DEaexa2E/ACRW4jBvAQMDL8xI8QMIccYaBoYwBgaOCRDu6XUIKZ5dDxgYZjAw\n",
       "vIJwX+1Bct1qkBHMDgxlYK5XIUKKZbkAiGIrYFgKoi9lIqR41SC2sCxg6ANSSUheZNOFmdzA8I+B\n",
       "gdP4AUJush3MQR9AckB3OSAkTy+By7WA/VMUgJAUV4WZaQpmcCbdBJJQr07TBTFYFzCkQ1UHZTJw\n",
       "foKyWUFOBfrhEcworwOc/QIwL65hYOB6wMAhgBQgSGxQmLEmILisyPGQixpHyHKcwDhikEbwkVMA\n",
       "N8h8Ruxp4g4DAwCw6TL3E/mXsAAAAABJRU5ErkJggg==\n",
       "\" style=\"display:inline;vertical-align:middle;\" /></a></td></tr>\n",
       "<tr><td>7</td><td>ExprTuple</td><td>10, 9</td><td><a class=\"ProveItLink\" href=\"../2c343e04de8b9e8dc4a390cbafd3c1727d3f68830/expr.ipynb\"><img src=\"data:image/png;base64,iVBORw0KGgoAAAANSUhEUgAAADUAAAAVBAMAAAAUZLt1AAAAMFBMVEX////c3NwiIiJERESqqqqY\n",
       "mJh2dnZmZmYQEBDu7u4yMjJUVFTMzMyIiIi6uroAAAAs73DqAAAAAXRSTlMAQObYZgAAAPZJREFU\n",
       "KM9jYMAH+C5gFY4DEaexa2E/ACRWYpHg1WNgWACkYEaKH4BLTdMFEmEMDBwTIPzT6+BS01VB5AwG\n",
       "hlcQ/qs9cCnpJWCK2YGhDMzwKoRLwQxgK2BYCqIvZcKlJttAGSwLGPqAVBKSF3l1oQ7ga2D4x8DA\n",
       "afwAyf2sahBJng8gOQaeXQ5IkizLBaByLSCasSgAORRXH4CYaQrmcibdBJJQmxh4jIGSrAsY0qH8\n",
       "oEwGzk8wnTz7wH54BON7HeDsF0AymesBAwcSnw9ZDhhmrAlIzkeOi1zUOALJCSmBgB4D5wJQ0CLk\n",
       "kFMAN8h8Ruxp4g4DAwDCPzOdkovdYgAAAABJRU5ErkJggg==\n",
       "\" style=\"display:inline;vertical-align:middle;\" /></a></td></tr>\n",
       "<tr><td>8</td><td>ExprTuple</td><td>10, 11</td><td><a class=\"ProveItLink\" href=\"../8dccf53fbf30afc5a09e7aab30640f8e81d8f6830/expr.ipynb\"><img src=\"data:image/png;base64,iVBORw0KGgoAAAANSUhEUgAAADUAAAAVBAMAAAAUZLt1AAAAMFBMVEX////c3NwiIiJERESqqqqY\n",
       "mJh2dnZmZmYQEBDu7u4yMjJUVFTMzMyIiIi6uroAAAAs73DqAAAAAXRSTlMAQObYZgAAANFJREFU\n",
       "KM9jYMAH+C5gFY4DEaexa2E/ACRW4jBvAQMDL8xI8QOocmEMDBwTIMzT69D0zWBgeAVhvdqDbiaz\n",
       "A0MZmOFViGEfWwHDUhB9KRMuVLUKBFYzMLAsYOgD8pOweZGvgeEfAwOn8QMscjwfQHIMPLscsMq1\n",
       "gGjGogCYUJESCCiDzTQFi3Am3QSSE5D1sS5gSIcygzIZOD+h+eERjO11gLNfAEmO6wEDBxKfTwA1\n",
       "zFgTkKxANjMXNY6Q5TiBccQgjeAjBw83yHxG7GniDgMDAA1FLia8EE76AAAAAElFTkSuQmCC\n",
       "\" style=\"display:inline;vertical-align:middle;\" /></a></td></tr>\n",
       "<tr><td>9</td><td>Literal</td><td></td><td><a class=\"ProveItLink\" href=\"../aa616d6a8fe3483e4e64187262e9c7dfe6a536a30/expr.ipynb\"><img src=\"data:image/png;base64,iVBORw0KGgoAAAANSUhEUgAAAA4AAAARBAMAAAAf5oCsAAAALVBMVEX///9ERETMzMyqqqoyMjJU\n",
       "VFTc3NyYmJhmZmZ2dnbu7u66uroiIiKIiIgAAAAFyQXGAAAAAXRSTlMAQObYZgAAAEBJREFUCNdj\n",
       "YEAGvKfB1MqzYGrFcTCV6gymVL3B1EIhqNKzCyAM9pNQBrNHAoTB7aoAYTAJwhjRDLhAzhkQOA0A\n",
       "iskPUSt9tJUAAAAASUVORK5CYII=\n",
       "\" style=\"display:inline;vertical-align:middle;\" /></a></td></tr>\n",
       "<tr><td>10</td><td>Literal</td><td></td><td><a class=\"ProveItLink\" href=\"../7c444b9b2efa607ed6397b492680dde2810212f00/expr.ipynb\"><img src=\"data:image/png;base64,iVBORw0KGgoAAAANSUhEUgAAAA4AAAAMBAMAAACgrpHpAAAALVBMVEX///+YmJhERETu7u52dnYi\n",
       "IiKIiIiqqqq6uroyMjJUVFTMzMxmZmbc3NwAAADmAst+AAAAAXRSTlMAQObYZgAAAD5JREFUCNdj\n",
       "YAAB3tNgintlA4jimLUBRLHPuQCi2EIMQBRLGFgJg5EGhGbYNR3KuBMIZZiEGUAYjCFQBvtsABzC\n",
       "Cm98G6SsAAAAAElFTkSuQmCC\n",
       "\" style=\"display:inline;vertical-align:middle;\" /></a></td></tr>\n",
       "<tr><td>11</td><td>Literal</td><td></td><td><a class=\"ProveItLink\" href=\"../../../../logic/equality/__pv_it/2fb26078095930560931daa0500ce419a39ea6cd0/expr.ipynb\"><img src=\"data:image/png;base64,iVBORw0KGgoAAAANSUhEUgAAAA4AAAAFBAMAAACHocAhAAAAFVBMVEX///9EREQiIiJUVFQyMjJm\n",
       "ZmYAAADubVkoAAAAAXRSTlMAQObYZgAAABRJREFUCNdjCHEBAWcGXCBICQQUAUpuAwlgGKrkAAAA\n",
       "AElFTkSuQmCC\n",
       "\" style=\"display:inline;vertical-align:middle;\" /></a></td></tr>\n",
       "</table>\n"
      ],
      "text/plain": [
       "0. (< = <) or (< = <=) or (< = =)\n",
       "   core type: Operation\n",
       "   operator: 1\n",
       "   operands: 2\n",
       "1. or\n",
       "   core type: Literal\n",
       "   sub-expressions: \n",
       "2. (< = < , < = <= , < = =)\n",
       "   core type: ExprTuple\n",
       "   sub-expressions: 3, 4, 5\n",
       "3. < = <\n",
       "   core type: Operation\n",
       "   operator: 11\n",
       "   operands: 6\n",
       "4. < = <=\n",
       "   core type: Operation\n",
       "   operator: 11\n",
       "   operands: 7\n",
       "5. < = =\n",
       "   core type: Operation\n",
       "   operator: 11\n",
       "   operands: 8\n",
       "6. (< , <)\n",
       "   core type: ExprTuple\n",
       "   sub-expressions: 10, 10\n",
       "7. (< , <=)\n",
       "   core type: ExprTuple\n",
       "   sub-expressions: 10, 9\n",
       "8. (< , =)\n",
       "   core type: ExprTuple\n",
       "   sub-expressions: 10, 11\n",
       "9. <=\n",
       "   core type: Literal\n",
       "   sub-expressions: \n",
       "10. <\n",
       "    core type: Literal\n",
       "    sub-expressions: \n",
       "11. =\n",
       "    core type: Literal\n",
       "    sub-expressions: "
      ]
     },
     "execution_count": 4,
     "metadata": {},
     "output_type": "execute_result"
    }
   ],
   "source": [
    "# display the expression information\n",
    "expr.exprInfo()"
   ]
  },
  {
   "cell_type": "code",
   "execution_count": null,
   "metadata": {},
   "outputs": [],
   "source": []
  }
 ],
 "metadata": {
  "kernelspec": {
   "display_name": "Python 3",
   "language": "python",
   "name": "python3"
  }
 },
 "nbformat": 4,
 "nbformat_minor": 0
}
