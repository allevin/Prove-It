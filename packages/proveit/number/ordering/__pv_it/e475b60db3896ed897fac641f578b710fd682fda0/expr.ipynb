{
 "cells": [
  {
   "cell_type": "markdown",
   "metadata": {},
   "source": [
    "Expression of type <a class=\"ProveItLink\" href=\"../../../../../../doc/html/api/proveit.number.LesserSequence.html\">LesserSequence</a>\n",
    "=======================\n",
    "# from context <a class=\"ProveItLink\" href=\"../../_context_.ipynb\">proveit.number.ordering</a>"
   ]
  },
  {
   "cell_type": "code",
   "execution_count": 1,
   "metadata": {},
   "outputs": [],
   "source": [
    "# import Expression classes needed to build the expression\n",
    "from proveit._common_ import a, b, c, d, e\n",
    "from proveit.logic import Equals\n",
    "from proveit.number import Less, LessEq, LesserSequence"
   ]
  },
  {
   "cell_type": "code",
   "execution_count": 2,
   "metadata": {},
   "outputs": [
    {
     "data": {
      "text/html": [
       "<strong id=\"expr\">expr:</strong> <a class=\"ProveItLink\" href=\"expr.ipynb\"><img src=\"data:image/png;base64,iVBORw0KGgoAAAANSUhEUgAAAJ8AAAARBAMAAAAxj2N7AAAAMFBMVEX////c3NxmZmbMzMxERESY\n",
       "mJiIiIh2dna6urqqqqoyMjIiIiIQEBBUVFTu7u4AAAAiO1wTAAAAAXRSTlMAQObYZgAAAdFJREFU\n",
       "OMtj4LuzgYEo0HKIOHUMXBfwSrPtgLF+4lGV3YBg809AsIUM0FU+3wZjcfzDaRxfdQISr/8BnGm7\n",
       "Al3po61wJjvOoOHTDkDmVsNZXZfRlcquRAoaBRzmMd6agMJfm3YVwpilCFNxreIguotl0/snoIdG\n",
       "WTKIYr4FDz9G9SQBBr4vDPzgkMuug4n3CLB8ANFPnOGaOQ4y+IOCRmsVCKwFG3SCYTXIvy6IcJ8t\n",
       "wKjAwPmPgacA5HN4uDJ+ZWByAEfwNnjwygcwaKE58E0CgyvYIXlwjT8YmAwYmBYw8CuALII7nPcD\n",
       "AzfEdNbtMBPvMzBsRzPwPowRDfMa79GwRAYGbgWG/gBwUMDCiN+B4T3UG5yLBCCMLwx8P9AM/AJn\n",
       "wQKfXwGaDPXB7mCERb58AsN8BqjTONaCjWb8xsD5gQ/I0N4NAlsgQujJgx/sL2CMHIclT0hovJ/A\n",
       "cIsTFtLM4DDn+8nAu2Ayqgu/AoMExjYBRx8P0MAEBt4JTBdQQ4MrgHMTO1wf8w0QuZRhtkIBqoGX\n",
       "GBiKEVkCFANsCxgeAZPNNVWEolkG4GSYYZKBnsLTmt0aUIWYytIeoKkqSktgGNpAGhylO/ArYgQr\n",
       "2g0PDwBqeHuK82pDbQAAAABJRU5ErkJggg==\n",
       "\" style=\"display:inline;vertical-align:middle;\" /></a><br>"
      ],
      "text/plain": [
       "expr: b < a <= d = c <= e"
      ]
     },
     "execution_count": 2,
     "metadata": {},
     "output_type": "execute_result"
    }
   ],
   "source": [
    "# build up the expression from sub-expressions\n",
    "expr = LesserSequence([Less._operator_, LessEq._operator_, Equals._operator_, LessEq._operator_], [b, a, d, c, e])"
   ]
  },
  {
   "cell_type": "code",
   "execution_count": 3,
   "metadata": {},
   "outputs": [
    {
     "name": "stdout",
     "output_type": "stream",
     "text": [
      "Passed sanity check: built 'expr' is the same as the stored Expression.\n"
     ]
    }
   ],
   "source": [
    "# check that the built expression is the same as the stored expression\n",
    "%check_expr"
   ]
  },
  {
   "cell_type": "code",
   "execution_count": 4,
   "metadata": {},
   "outputs": [
    {
     "data": {
      "text/html": [
       "<table><tr><th>&nbsp;</th><th>core type</th><th>sub-expressions</th><th>expression</th></tr>\n",
       "<tr><td>0</td><td>Operation</td><td>operators:&nbsp;1<br>operands:&nbsp;2<br></td><td><a class=\"ProveItLink\" href=\"expr.ipynb\"><img src=\"data:image/png;base64,iVBORw0KGgoAAAANSUhEUgAAAJ8AAAARBAMAAAAxj2N7AAAAMFBMVEX////c3NxmZmbMzMxERESY\n",
       "mJiIiIh2dna6urqqqqoyMjIiIiIQEBBUVFTu7u4AAAAiO1wTAAAAAXRSTlMAQObYZgAAAdFJREFU\n",
       "OMtj4LuzgYEo0HKIOHUMXBfwSrPtgLF+4lGV3YBg809AsIUM0FU+3wZjcfzDaRxfdQISr/8BnGm7\n",
       "Al3po61wJjvOoOHTDkDmVsNZXZfRlcquRAoaBRzmMd6agMJfm3YVwpilCFNxreIguotl0/snoIdG\n",
       "WTKIYr4FDz9G9SQBBr4vDPzgkMuug4n3CLB8ANFPnOGaOQ4y+IOCRmsVCKwFG3SCYTXIvy6IcJ8t\n",
       "wKjAwPmPgacA5HN4uDJ+ZWByAEfwNnjwygcwaKE58E0CgyvYIXlwjT8YmAwYmBYw8CuALII7nPcD\n",
       "AzfEdNbtMBPvMzBsRzPwPowRDfMa79GwRAYGbgWG/gBwUMDCiN+B4T3UG5yLBCCMLwx8P9AM/AJn\n",
       "wQKfXwGaDPXB7mCERb58AsN8BqjTONaCjWb8xsD5gQ/I0N4NAlsgQujJgx/sL2CMHIclT0hovJ/A\n",
       "cIsTFtLM4DDn+8nAu2Ayqgu/AoMExjYBRx8P0MAEBt4JTBdQQ4MrgHMTO1wf8w0QuZRhtkIBqoGX\n",
       "GBiKEVkCFANsCxgeAZPNNVWEolkG4GSYYZKBnsLTmt0aUIWYytIeoKkqSktgGNpAGhylO/ArYgQr\n",
       "2g0PDwBqeHuK82pDbQAAAABJRU5ErkJggg==\n",
       "\" style=\"display:inline;vertical-align:middle;\" /></a></td></tr>\n",
       "<tr><td>1</td><td>ExprTuple</td><td>3, 5, 4, 5</td><td><a class=\"ProveItLink\" href=\"../5c429ca7c5e3d9b5d1ff51b37f5a086aed68bd420/expr.ipynb\"><img src=\"data:image/png;base64,iVBORw0KGgoAAAANSUhEUgAAAGgAAAAVBAMAAABYjraNAAAAMFBMVEX////c3NwiIiJERESqqqqY\n",
       "mJh2dnZmZmYQEBDu7u4yMjJUVFTMzMyIiIi6uroAAAAs73DqAAAAAXRSTlMAQObYZgAAAU1JREFU\n",
       "OMtjYCAL8F0gTT3rAyBxmlRbaoB4JRZxXj1cOi49YOACysNcJ34ALjNNF4cWziSgatYEBo4JEP7p\n",
       "dXCp6aq49BQFgMgGhlcQ/qs9cCnpJTj0MO5yANMmDGVg2qsQLoVkJSrg2fUAwkhnWAr2XiZcarIN\n",
       "Qhn7KjDYAHGbMczTXgx9QDIJKap4dSfgCribUMYLhn8gMx4gR54aLl1BUPecB2kCutYBSY5luQAO\n",
       "XVCfn2doAYcLOCzhCWs11PXsSmBgAJeBhPELBlNorIEcDHMXD9DPnMhWwB18GBRMUcDwgzuY8xM8\n",
       "dPcxzFdAitRPiAh5AAryR3AHH+DsR/LMjI9ImvpRfLmOgQOJz4cs95ABhwQwGQGTHyK0kc1DDhoU\n",
       "CbYLKFkDJCcEDjA9TE2MkKB8wDALlD4Rcsh5mBfZcJTMvRFkAonZnfcAAwDOvFCUAhnd1gAAAABJ\n",
       "RU5ErkJggg==\n",
       "\" style=\"display:inline;vertical-align:middle;\" /></a></td></tr>\n",
       "<tr><td>2</td><td>ExprTuple</td><td>6, 7, 8, 9, 10</td><td><a class=\"ProveItLink\" href=\"../1aea61c4cd0fe1021fbc16ad81638616228216120/expr.ipynb\"><img src=\"data:image/png;base64,iVBORw0KGgoAAAANSUhEUgAAAGIAAAAVBAMAAABPrCZEAAAAMFBMVEX////c3NwiIiJERESqqqqY\n",
       "mJh2dnZmZmYQEBDu7u4yMjJUVFTMzMyIiIi6uroAAAAs73DqAAAAAXRSTlMAQObYZgAAAYBJREFU\n",
       "OMuVkz9Iw0AUxr/+TxNisjvo5tpBwbE4uphZEIKD3aSLmQQV1E3ppri0i4gIUgdBCoWAi+DQOIlD\n",
       "SutUXFpRhy7Fd3dJ1HodcuQuv/vevXeX9y5A/DblxVic6dDwiPzdrCzSYlmiblO/BNS6LJ5RlIgq\n",
       "oHsTbOhXZMeyoVQm2LAuE/O7eJtkw4VUnYdD45V/K6aJ5uZeRJ9B1A3fFZLzbAIlnJP2AUOIPTM1\n",
       "QEhDQQ8dVaRyyUxQ9pZxDKSHUGwe5Qu5AkKqiS2OkLK4NEKO4vYwArMZPPfaAElRT0Z2SKJpB2tP\n",
       "9Goxj2QZfR7GKKAqjseoE1JQHlHQFvZ5OXZ4fmc8rOA/BR4CelgA++xD5GlWLaKRdv+SQbtbDBTy\n",
       "oGeVsgWtmKujSglRrfRcdoy0MrIuA72GE57dV0pHcws4fWdFaN+3xwiO/yKg5LNzXUMxg3N2o7JK\n",
       "qPvrlmTsgK1onYQiyHr8tsfwOKM+LVCPlknoR7ph1Y/z1+ouvgEKLHQGLozqWwAAAABJRU5ErkJg\n",
       "gg==\n",
       "\" style=\"display:inline;vertical-align:middle;\" /></a></td></tr>\n",
       "<tr><td>3</td><td>Literal</td><td></td><td><a class=\"ProveItLink\" href=\"../7c444b9b2efa607ed6397b492680dde2810212f00/expr.ipynb\"><img src=\"data:image/png;base64,iVBORw0KGgoAAAANSUhEUgAAAA4AAAAMBAMAAACgrpHpAAAALVBMVEX///+YmJhERETu7u52dnYi\n",
       "IiKIiIiqqqq6uroyMjJUVFTMzMxmZmbc3NwAAADmAst+AAAAAXRSTlMAQObYZgAAAD5JREFUCNdj\n",
       "YAAB3tNgintlA4jimLUBRLHPuQCi2EIMQBRLGFgJg5EGhGbYNR3KuBMIZZiEGUAYjCFQBvtsABzC\n",
       "Cm98G6SsAAAAAElFTkSuQmCC\n",
       "\" style=\"display:inline;vertical-align:middle;\" /></a></td></tr>\n",
       "<tr><td>4</td><td>Literal</td><td></td><td><a class=\"ProveItLink\" href=\"../../../../logic/equality/__pv_it/2fb26078095930560931daa0500ce419a39ea6cd0/expr.ipynb\"><img src=\"data:image/png;base64,iVBORw0KGgoAAAANSUhEUgAAAA4AAAAFBAMAAACHocAhAAAAFVBMVEX///9EREQiIiJUVFQyMjJm\n",
       "ZmYAAADubVkoAAAAAXRSTlMAQObYZgAAABRJREFUCNdjCHEBAWcGXCBICQQUAUpuAwlgGKrkAAAA\n",
       "AElFTkSuQmCC\n",
       "\" style=\"display:inline;vertical-align:middle;\" /></a></td></tr>\n",
       "<tr><td>5</td><td>Literal</td><td></td><td><a class=\"ProveItLink\" href=\"../aa616d6a8fe3483e4e64187262e9c7dfe6a536a30/expr.ipynb\"><img src=\"data:image/png;base64,iVBORw0KGgoAAAANSUhEUgAAAA4AAAARBAMAAAAf5oCsAAAALVBMVEX///9ERETMzMyqqqoyMjJU\n",
       "VFTc3NyYmJhmZmZ2dnbu7u66uroiIiKIiIgAAAAFyQXGAAAAAXRSTlMAQObYZgAAAEBJREFUCNdj\n",
       "YEAGvKfB1MqzYGrFcTCV6gymVL3B1EIhqNKzCyAM9pNQBrNHAoTB7aoAYTAJwhjRDLhAzhkQOA0A\n",
       "iskPUSt9tJUAAAAASUVORK5CYII=\n",
       "\" style=\"display:inline;vertical-align:middle;\" /></a></td></tr>\n",
       "<tr><td>6</td><td>Variable</td><td></td><td><a class=\"ProveItLink\" href=\"../../../../__pv_it/6840a4fa6c106149dc16a131294d0c5e44f1b0480/expr.ipynb\"><img src=\"data:image/png;base64,iVBORw0KGgoAAAANSUhEUgAAAAkAAAAOBAMAAAAPuiubAAAALVBMVEX///9mZmbMzMxERESYmJiI\n",
       "iIh2dna6urqqqqoyMjIiIiIQEBBUVFTu7u4AAAD9S1JeAAAAAXRSTlMAQObYZgAAAE1JREFUCNdj\n",
       "4D29gAEIOA+ASL4GEFl3AURmgQiGOaFHGBh4HzPwKTBwvGXgTmBgnMDAJ8DAJcBQ5wBSLncBJLWN\n",
       "gYGngRFoBO9REQYGAGrcDtUkVqASAAAAAElFTkSuQmCC\n",
       "\" style=\"display:inline;vertical-align:middle;\" /></a></td></tr>\n",
       "<tr><td>7</td><td>Variable</td><td></td><td><a class=\"ProveItLink\" href=\"../../../../__pv_it/07527342713064c87612d00d8557c53d53d5324a0/expr.ipynb\"><img src=\"data:image/png;base64,iVBORw0KGgoAAAANSUhEUgAAAAsAAAAJBAMAAAAWSsseAAAAMFBMVEX///8yMjKqqqrMzMzu7u4i\n",
       "IiJmZmaYmJhEREQQEBC6urp2dnaIiIhUVFTc3NwAAAD87Fq/AAAAAXRSTlMAQObYZgAAAEhJREFU\n",
       "CNdjYOC7s2seAwPDygccHxgY+L4zsDUwMPB+YGA9wMDA38Dgb8DA8P4Agz6DA4O/AsNFJgMGxgKm\n",
       "MG6gyjunLE4xAAAZTBA5TB6DCwAAAABJRU5ErkJggg==\n",
       "\" style=\"display:inline;vertical-align:middle;\" /></a></td></tr>\n",
       "<tr><td>8</td><td>Variable</td><td></td><td><a class=\"ProveItLink\" href=\"../../../../__pv_it/3a5de44ed6135dbbdbbeec6704c741e238f127300/expr.ipynb\"><img src=\"data:image/png;base64,iVBORw0KGgoAAAANSUhEUgAAAAsAAAAOBAMAAAALT/umAAAAMFBMVEX////MzMyYmJiIiIhUVFTc\n",
       "3NwyMjIiIiJ2dnbu7u6qqqpmZmYQEBBERES6uroAAABkyy6XAAAAAXRSTlMAQObYZgAAAFhJREFU\n",
       "CNdjYGBg4LuzgQEE+BeAqfcTwFQ7mGTIBmJW575fQOpNAO9PIOcTA3cCAwPLBwb2BqCeCwzzHzAw\n",
       "xBswrGeYwDB/AYMblwADmwJXNQdIm52sHQMAfyoTCZukXIEAAAAASUVORK5CYII=\n",
       "\" style=\"display:inline;vertical-align:middle;\" /></a></td></tr>\n",
       "<tr><td>9</td><td>Variable</td><td></td><td><a class=\"ProveItLink\" href=\"../../../../__pv_it/cbdfda466482236edba0ce44ac7ef39cda0af7a40/expr.ipynb\"><img src=\"data:image/png;base64,iVBORw0KGgoAAAANSUhEUgAAAAkAAAAJBAMAAAASvxsjAAAALVBMVEX///9mZmbc3NxUVFSYmJhE\n",
       "REQiIiIyMjK6uroQEBDMzMyIiIh2dnbu7u4AAABgFDGoAAAAAXRSTlMAQObYZgAAADZJREFUCNdj\n",
       "YOA9s3sBA8PKBvYEBt7ZDKwODMwPGICALwBE6m0Asx0YGIDiAgw8QJUyu/cyAAAmuwmycZ8WfQAA\n",
       "AABJRU5ErkJggg==\n",
       "\" style=\"display:inline;vertical-align:middle;\" /></a></td></tr>\n",
       "<tr><td>10</td><td>Variable</td><td></td><td><a class=\"ProveItLink\" href=\"../../../../__pv_it/0bc0f4a545336331111a0b22c4f05a0627b57b8f0/expr.ipynb\"><img src=\"data:image/png;base64,iVBORw0KGgoAAAANSUhEUgAAAAkAAAAJBAMAAAASvxsjAAAALVBMVEX////u7u4yMjKYmJgQEBBU\n",
       "VFTMzMy6uroiIiKqqqqIiIh2dnZmZmbc3NwAAAAyj3LLAAAAAXRSTlMAQObYZgAAADlJREFUCNdj\n",
       "YOA9veYCA8OMC7wHGHifM/AkMLA6W61lYOA7wAAEfAtAJAuQXMDApcAgA1S5Z9UCBgB6Cgz1W65k\n",
       "FgAAAABJRU5ErkJggg==\n",
       "\" style=\"display:inline;vertical-align:middle;\" /></a></td></tr>\n",
       "</table>\n"
      ],
      "text/plain": [
       "0. b < a <= d = c <= e\n",
       "   core type: Operation\n",
       "   operators: 1\n",
       "   operands: 2\n",
       "1. (< , <= , = , <=)\n",
       "   core type: ExprTuple\n",
       "   sub-expressions: 3, 5, 4, 5\n",
       "2. (b , a , d , c , e)\n",
       "   core type: ExprTuple\n",
       "   sub-expressions: 6, 7, 8, 9, 10\n",
       "3. <\n",
       "   core type: Literal\n",
       "   sub-expressions: \n",
       "4. =\n",
       "   core type: Literal\n",
       "   sub-expressions: \n",
       "5. <=\n",
       "   core type: Literal\n",
       "   sub-expressions: \n",
       "6. b\n",
       "   core type: Variable\n",
       "   sub-expressions: \n",
       "7. a\n",
       "   core type: Variable\n",
       "   sub-expressions: \n",
       "8. d\n",
       "   core type: Variable\n",
       "   sub-expressions: \n",
       "9. c\n",
       "   core type: Variable\n",
       "   sub-expressions: \n",
       "10. e\n",
       "    core type: Variable\n",
       "    sub-expressions: "
      ]
     },
     "execution_count": 4,
     "metadata": {},
     "output_type": "execute_result"
    }
   ],
   "source": [
    "# display the expression information\n",
    "expr.exprInfo()"
   ]
  },
  {
   "cell_type": "code",
   "execution_count": null,
   "metadata": {},
   "outputs": [],
   "source": []
  }
 ],
 "metadata": {
  "kernelspec": {
   "display_name": "Python 3",
   "language": "python",
   "name": "python3"
  }
 },
 "nbformat": 4,
 "nbformat_minor": 0
}
