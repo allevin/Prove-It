{
 "cells": [
  {
   "cell_type": "markdown",
   "metadata": {},
   "source": [
    "Expression of type <a class=\"ProveItLink\" href=\"../../../../../../doc/html/api/proveit.ExprTuple.html\">ExprTuple</a>\n",
    "=======================\n",
    "# from context <a class=\"ProveItLink\" href=\"../../_context_.ipynb\">proveit.number.ordering</a>"
   ]
  },
  {
   "cell_type": "code",
   "execution_count": 1,
   "metadata": {},
   "outputs": [],
   "source": [
    "# import Expression classes needed to build the expression\n",
    "from proveit import ExprTuple\n",
    "from proveit.logic import Equals\n",
    "from proveit.number import Less, LessEq"
   ]
  },
  {
   "cell_type": "code",
   "execution_count": 2,
   "metadata": {},
   "outputs": [
    {
     "data": {
      "text/html": [
       "<strong id=\"expr\">expr:</strong> <a class=\"ProveItLink\" href=\"expr.ipynb\"><img src=\"data:image/png;base64,iVBORw0KGgoAAAANSUhEUgAAAK8AAAAVBAMAAADC7aNVAAAAMFBMVEX////c3NwiIiJERESqqqqY\n",
       "mJh2dnZmZmYQEBDu7u4yMjJUVFTMzMyIiIi6uroAAAAs73DqAAAAAXRSTlMAQObYZgAAAZ1JREFU\n",
       "OMtjYKAZ4LtAfTPjQMRpGjiW/QCQWAnlXHqAWyGvHh4+uiQILAAKQ0KCMwk9RMQPwJnTdFGlUPjo\n",
       "kmAQxsDAMQFsblEAmtTpdXDmdFVUKRQ+uiQEzGBgeAWiGXc5oMm82gNnSi9BlULho0tCAbMDQxmQ\n",
       "4tmFHr5ehdicjslHl4QBtgKGpcBwMIYEJ/sqMNgAjMhMuJLJNhC6Ciy3Gs7HKgmjGVgWMPSBEsRN\n",
       "VPuQI5JXdwJqgkDmo0siMkcDwz8QHZSJLMppjBwyrGqomlH46JIwwPMBYjBymILDHDkuWZYLoGhC\n",
       "4aNLIgxuQaQCdiUwMACmEpTUx7caGAdFYDllOB+rJFwRMChMoQoO26CERhIo2GHe5DE+gOoeIJ+T\n",
       "AYckJIgWMKTDUw5qkgMGO+cnuOZ9aD7dxzBfAZckNLk9wlU+eB3g7BfAXXzM+IivFOJ6wMCBRzMf\n",
       "HjmGh/gMBmZp1gTc0qz49Abgk8wFF5uMkNTwAKvBQmA5RMkI5wdgkYTH/QJQMYLbXnx1Cy8+B3OD\n",
       "wpCRBlXTHQYGADTZdSF1mFREAAAAAElFTkSuQmCC\n",
       "\" style=\"display:inline;vertical-align:middle;\" /></a><br>"
      ],
      "text/plain": [
       "expr: (<= = < , <= = <= , <= = =)"
      ]
     },
     "execution_count": 2,
     "metadata": {},
     "output_type": "execute_result"
    }
   ],
   "source": [
    "# build up the expression from sub-expressions\n",
    "expr = ExprTuple(Equals(LessEq._operator_, Less._operator_), Equals(LessEq._operator_, LessEq._operator_), Equals(LessEq._operator_, Equals._operator_))"
   ]
  },
  {
   "cell_type": "code",
   "execution_count": 3,
   "metadata": {},
   "outputs": [
    {
     "name": "stdout",
     "output_type": "stream",
     "text": [
      "Passed sanity check: built 'expr' is the same as the stored Expression.\n"
     ]
    }
   ],
   "source": [
    "# check that the built expression is the same as the stored expression\n",
    "%check_expr"
   ]
  },
  {
   "cell_type": "code",
   "execution_count": 4,
   "metadata": {},
   "outputs": [
    {
     "data": {
      "text/html": [
       "<table><tr><th>&nbsp;</th><th>core type</th><th>sub-expressions</th><th>expression</th></tr>\n",
       "<tr><td>0</td><td>ExprTuple</td><td>1, 2, 3</td><td><a class=\"ProveItLink\" href=\"expr.ipynb\"><img src=\"data:image/png;base64,iVBORw0KGgoAAAANSUhEUgAAAK8AAAAVBAMAAADC7aNVAAAAMFBMVEX////c3NwiIiJERESqqqqY\n",
       "mJh2dnZmZmYQEBDu7u4yMjJUVFTMzMyIiIi6uroAAAAs73DqAAAAAXRSTlMAQObYZgAAAZ1JREFU\n",
       "OMtjYKAZ4LtAfTPjQMRpGjiW/QCQWAnlXHqAWyGvHh4+uiQILAAKQ0KCMwk9RMQPwJnTdFGlUPjo\n",
       "kmAQxsDAMQFsblEAmtTpdXDmdFVUKRQ+uiQEzGBgeAWiGXc5oMm82gNnSi9BlULho0tCAbMDQxmQ\n",
       "4tmFHr5ehdicjslHl4QBtgKGpcBwMIYEJ/sqMNgAjMhMuJLJNhC6Ciy3Gs7HKgmjGVgWMPSBEsRN\n",
       "VPuQI5JXdwJqgkDmo0siMkcDwz8QHZSJLMppjBwyrGqomlH46JIwwPMBYjBymILDHDkuWZYLoGhC\n",
       "4aNLIgxuQaQCdiUwMACmEpTUx7caGAdFYDllOB+rJFwRMChMoQoO26CERhIo2GHe5DE+gOoeIJ+T\n",
       "AYckJIgWMKTDUw5qkgMGO+cnuOZ9aD7dxzBfAZckNLk9wlU+eB3g7BfAXXzM+IivFOJ6wMCBRzMf\n",
       "HjmGh/gMBmZp1gTc0qz49Abgk8wFF5uMkNTwAKvBQmA5RMkI5wdgkYTH/QJQMYLbXnx1Cy8+B3OD\n",
       "wpCRBlXTHQYGADTZdSF1mFREAAAAAElFTkSuQmCC\n",
       "\" style=\"display:inline;vertical-align:middle;\" /></a></td></tr>\n",
       "<tr><td>1</td><td>Operation</td><td>operator:&nbsp;9<br>operands:&nbsp;4<br></td><td><a class=\"ProveItLink\" href=\"../1697853e8b13cc180848186c0faea52d16ffd2da0/expr.ipynb\"><img src=\"data:image/png;base64,iVBORw0KGgoAAAANSUhEUgAAAC4AAAARBAMAAABQu4N8AAAALVBMVEX///9ERETMzMyqqqoyMjJU\n",
       "VFTc3NyYmJhmZmZ2dnbu7u66uroiIiKIiIgAAAAFyQXGAAAAAXRSTlMAQObYZgAAAHtJREFUGNNj\n",
       "YMAHeE9jFV55Fk2ArQlErjiOJswUsgFIpjqjCXO7KgBJVW80YWaPBCC5UAjCa3EBAVegG04uADvl\n",
       "7AIU1ZwwN7CfRJFYKI1qHhyoOqPY33MGBA4CuRlwZzMJKqB6E2YyUzSK3WhWInnBiYFUkAN2B0Y4\n",
       "AwDb3CHKZIh37wAAAABJRU5ErkJggg==\n",
       "\" style=\"display:inline;vertical-align:middle;\" /></a></td></tr>\n",
       "<tr><td>2</td><td>Operation</td><td>operator:&nbsp;9<br>operands:&nbsp;5<br></td><td><a class=\"ProveItLink\" href=\"../961107e88466c9cc518fdff95183e4ae6a7862b70/expr.ipynb\"><img src=\"data:image/png;base64,iVBORw0KGgoAAAANSUhEUgAAAC4AAAARBAMAAABQu4N8AAAALVBMVEX///9ERETMzMyqqqoyMjJU\n",
       "VFTc3NyYmJhmZmZ2dnbu7u66uroiIiKIiIgAAAAFyQXGAAAAAXRSTlMAQObYZgAAAGdJREFUGNNj\n",
       "YMAHeE9j5a88iyoM5a84jioM5ac6owpD+areqMJQ/kIhCLfFBQRc4XzeswtQnQLjs59ElYDzmT0S\n",
       "UCTgfG5XBQaGnjMgcBDOBwEmQQUUHXA+UzSqW9H5FIAcsDtOo/MBmEwmB/8QJfMAAAAASUVORK5C\n",
       "YII=\n",
       "\" style=\"display:inline;vertical-align:middle;\" /></a></td></tr>\n",
       "<tr><td>3</td><td>Operation</td><td>operator:&nbsp;9<br>operands:&nbsp;6<br></td><td><a class=\"ProveItLink\" href=\"../e148f3102caa95d83769139f254e76e68ea4acf70/expr.ipynb\"><img src=\"data:image/png;base64,iVBORw0KGgoAAAANSUhEUgAAAC4AAAARBAMAAABQu4N8AAAALVBMVEX///9ERETMzMyqqqoyMjJU\n",
       "VFTc3NyYmJhmZmZ2dnbu7u66uroiIiKIiIgAAAAFyQXGAAAAAXRSTlMAQObYZgAAAFZJREFUGNNj\n",
       "YMAHeE9jFV55FqvwiuNYhVOdsQqremMVXigEoVtcQMAVTvOeXYDdjewncUgweyRgl+B2VWBg6DkD\n",
       "AgfhNAgwCSpg18EUzUArkAO2HyOcAYBzHh36IcOWAAAAAElFTkSuQmCC\n",
       "\" style=\"display:inline;vertical-align:middle;\" /></a></td></tr>\n",
       "<tr><td>4</td><td>ExprTuple</td><td>8, 7</td><td><a class=\"ProveItLink\" href=\"../cb14a9acfe98c362f09835d630efa24e342ddf290/expr.ipynb\"><img src=\"data:image/png;base64,iVBORw0KGgoAAAANSUhEUgAAADUAAAAVBAMAAAAUZLt1AAAAMFBMVEX////c3NwiIiJERESqqqqY\n",
       "mJh2dnZmZmYQEBDu7u4yMjJUVFTMzMyIiIi6uroAAAAs73DqAAAAAXRSTlMAQObYZgAAAPRJREFU\n",
       "KM9jYMAH+C5gFY4DEaexa2E/ACRWQjmXHqBKLmBg4IUYyZmEbDRjDQNDGAMDxwSwVFEAkhTPLqAZ\n",
       "MxgYXoHV7XJAdt1qkF3MDgxlMHVwwLJcAESxFTAsBRpofABJildtAkTJAoY+kBNvIqTYdGEmNzD8\n",
       "A9FBmXC5yXYwB32AyDF4FcIlTy+By7VAWK/2wCXFVWFmmkJFDtswMEAcwTBNF8RgXcCQDjfrAecn\n",
       "KJMV5FSgHx4hnMjZLwDz4hoGBq4HDBwCSAGCxAaFGWsCgsuKHA+54DhiVAKDByhynMA4YpBG8JGj\n",
       "iRtkPiP2NHGHgQEAeNQ2XgmIf1sAAAAASUVORK5CYII=\n",
       "\" style=\"display:inline;vertical-align:middle;\" /></a></td></tr>\n",
       "<tr><td>5</td><td>ExprTuple</td><td>8, 8</td><td><a class=\"ProveItLink\" href=\"../d5e78aa4bcd0662d27edd300c321a48db9ce05c70/expr.ipynb\"><img src=\"data:image/png;base64,iVBORw0KGgoAAAANSUhEUgAAADUAAAAVBAMAAAAUZLt1AAAAMFBMVEX////c3NwiIiJERESqqqqY\n",
       "mJh2dnZmZmYQEBDu7u4yMjJUVFTMzMyIiIi6uroAAAAs73DqAAAAAXRSTlMAQObYZgAAAPhJREFU\n",
       "KM9jYMAH+C5gFY4DEaexa2E/ACRWQjmXHiAkePUYGBYAKYiRnElIRk/TBRJhDAwcE8BSRQEIqemq\n",
       "IHIGA8MrEM24ywEhJb0ETDE7MJQBKZ5dSHadXgeh2QoYlgINND6AkJpsA2WwLGDoAznxJpITdSdA\n",
       "/d3A8A9EB2UiJFnVIJI8HyByDF6FCEmW5QJQuRaIwKs9SKG4+gDETFOowGGgG6A2MfCAHMe6gCEd\n",
       "7vYHnJ9gbJ59YD88QpjF2S+AFNhcDxg4kPh8yHLAMGNNQHI+ciTlguOIUQkMHoDlhMBsPQbOBaCg\n",
       "RShFTgHcIPMZsaeJOwwMAIoqNwTlnxarAAAAAElFTkSuQmCC\n",
       "\" style=\"display:inline;vertical-align:middle;\" /></a></td></tr>\n",
       "<tr><td>6</td><td>ExprTuple</td><td>8, 9</td><td><a class=\"ProveItLink\" href=\"../76263df664e404f849918307450862aa9841394b0/expr.ipynb\"><img src=\"data:image/png;base64,iVBORw0KGgoAAAANSUhEUgAAADUAAAAVBAMAAAAUZLt1AAAAMFBMVEX////c3NwiIiJERESqqqqY\n",
       "mJh2dnZmZmYQEBDu7u4yMjJUVFTMzMyIiIi6uroAAAAs73DqAAAAAXRSTlMAQObYZgAAANVJREFU\n",
       "KM9jYMAH+C5gFY4DEaexa2E/ACRWQjmXHqBKLmBg4IUYyZmEbnQYAwPHBLBUUQC6oTMYGF6BaMZd\n",
       "DhgWMjswlAEpnl0PMB3DVsCwFGig8QGEUNUqEFjNwMCygKEP5MSb2PzdwPAPRAdlYsrxfIDIMXgV\n",
       "YpNrgbBe7YEKFSmBgDLYTFOo2GEbBoYJyPpYFzCkw9inH3B+QvPDIwSPs18ASY7rAQMHEp9PADXM\n",
       "WBOQrEA2MxccR4xgpyk9QJHjBMYRgzSCjxxN3CDzGbGniTsMDADVITGNsGJzawAAAABJRU5ErkJg\n",
       "gg==\n",
       "\" style=\"display:inline;vertical-align:middle;\" /></a></td></tr>\n",
       "<tr><td>7</td><td>Literal</td><td></td><td><a class=\"ProveItLink\" href=\"../7c444b9b2efa607ed6397b492680dde2810212f00/expr.ipynb\"><img src=\"data:image/png;base64,iVBORw0KGgoAAAANSUhEUgAAAA4AAAAMBAMAAACgrpHpAAAALVBMVEX///+YmJhERETu7u52dnYi\n",
       "IiKIiIiqqqq6uroyMjJUVFTMzMxmZmbc3NwAAADmAst+AAAAAXRSTlMAQObYZgAAAD5JREFUCNdj\n",
       "YAAB3tNgintlA4jimLUBRLHPuQCi2EIMQBRLGFgJg5EGhGbYNR3KuBMIZZiEGUAYjCFQBvtsABzC\n",
       "Cm98G6SsAAAAAElFTkSuQmCC\n",
       "\" style=\"display:inline;vertical-align:middle;\" /></a></td></tr>\n",
       "<tr><td>8</td><td>Literal</td><td></td><td><a class=\"ProveItLink\" href=\"../aa616d6a8fe3483e4e64187262e9c7dfe6a536a30/expr.ipynb\"><img src=\"data:image/png;base64,iVBORw0KGgoAAAANSUhEUgAAAA4AAAARBAMAAAAf5oCsAAAALVBMVEX///9ERETMzMyqqqoyMjJU\n",
       "VFTc3NyYmJhmZmZ2dnbu7u66uroiIiKIiIgAAAAFyQXGAAAAAXRSTlMAQObYZgAAAEBJREFUCNdj\n",
       "YEAGvKfB1MqzYGrFcTCV6gymVL3B1EIhqNKzCyAM9pNQBrNHAoTB7aoAYTAJwhjRDLhAzhkQOA0A\n",
       "iskPUSt9tJUAAAAASUVORK5CYII=\n",
       "\" style=\"display:inline;vertical-align:middle;\" /></a></td></tr>\n",
       "<tr><td>9</td><td>Literal</td><td></td><td><a class=\"ProveItLink\" href=\"../../../../logic/equality/__pv_it/2fb26078095930560931daa0500ce419a39ea6cd0/expr.ipynb\"><img src=\"data:image/png;base64,iVBORw0KGgoAAAANSUhEUgAAAA4AAAAFBAMAAACHocAhAAAAFVBMVEX///9EREQiIiJUVFQyMjJm\n",
       "ZmYAAADubVkoAAAAAXRSTlMAQObYZgAAABRJREFUCNdjCHEBAWcGXCBICQQUAUpuAwlgGKrkAAAA\n",
       "AElFTkSuQmCC\n",
       "\" style=\"display:inline;vertical-align:middle;\" /></a></td></tr>\n",
       "</table>\n"
      ],
      "text/plain": [
       "0. (<= = < , <= = <= , <= = =)\n",
       "   core type: ExprTuple\n",
       "   sub-expressions: 1, 2, 3\n",
       "1. <= = <\n",
       "   core type: Operation\n",
       "   operator: 9\n",
       "   operands: 4\n",
       "2. <= = <=\n",
       "   core type: Operation\n",
       "   operator: 9\n",
       "   operands: 5\n",
       "3. <= = =\n",
       "   core type: Operation\n",
       "   operator: 9\n",
       "   operands: 6\n",
       "4. (<= , <)\n",
       "   core type: ExprTuple\n",
       "   sub-expressions: 8, 7\n",
       "5. (<= , <=)\n",
       "   core type: ExprTuple\n",
       "   sub-expressions: 8, 8\n",
       "6. (<= , =)\n",
       "   core type: ExprTuple\n",
       "   sub-expressions: 8, 9\n",
       "7. <\n",
       "   core type: Literal\n",
       "   sub-expressions: \n",
       "8. <=\n",
       "   core type: Literal\n",
       "   sub-expressions: \n",
       "9. =\n",
       "   core type: Literal\n",
       "   sub-expressions: "
      ]
     },
     "execution_count": 4,
     "metadata": {},
     "output_type": "execute_result"
    }
   ],
   "source": [
    "# display the expression information\n",
    "expr.exprInfo()"
   ]
  },
  {
   "cell_type": "code",
   "execution_count": null,
   "metadata": {},
   "outputs": [],
   "source": []
  }
 ],
 "metadata": {
  "kernelspec": {
   "display_name": "Python 3",
   "language": "python",
   "name": "python3"
  }
 },
 "nbformat": 4,
 "nbformat_minor": 0
}
