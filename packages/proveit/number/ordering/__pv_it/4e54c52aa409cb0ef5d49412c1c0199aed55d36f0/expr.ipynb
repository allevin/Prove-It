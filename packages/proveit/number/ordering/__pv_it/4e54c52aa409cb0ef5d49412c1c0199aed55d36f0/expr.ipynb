{
 "cells": [
  {
   "cell_type": "markdown",
   "metadata": {},
   "source": [
    "Expression of type <a class=\"ProveItLink\" href=\"../../../../../../doc/html/api/proveit.ExprTuple.html\">ExprTuple</a>\n",
    "=======================\n",
    "# from context <a class=\"ProveItLink\" href=\"../../_context_.ipynb\">proveit.number.ordering</a>"
   ]
  },
  {
   "cell_type": "code",
   "execution_count": 1,
   "metadata": {},
   "outputs": [],
   "source": [
    "# import Expression classes needed to build the expression\n",
    "from proveit import ExprTuple\n",
    "from proveit._common_ import n\n",
    "from proveit.logic import Equals, Set\n",
    "from proveit.number import Less, LessEq"
   ]
  },
  {
   "cell_type": "code",
   "execution_count": 2,
   "metadata": {},
   "outputs": [
    {
     "data": {
      "text/html": [
       "<strong id=\"expr\">expr:</strong> <a class=\"ProveItLink\" href=\"expr.ipynb\"><img src=\"data:image/png;base64,iVBORw0KGgoAAAANSUhEUgAAAH0AAAAVBAMAAACZCfwhAAAAMFBMVEX////c3NwiIiJERESqqqqY\n",
       "mJh2dnZmZmYQEBDu7u4yMjJUVFTMzMyIiIi6uroAAAAs73DqAAAAAXRSTlMAQObYZgAAAcNJREFU\n",
       "OMtjYACD8AAGguBYIlZhvgsMDJMSGIgAJxzQBOJAxGkgvk+Mdgb2BegCB4DESiDOwKr+0gNUPlsD\n",
       "ugqggbwXkPUz1sDlOJMuMBDSH8bAwDEBST/PLriVnEUYQYqpfwYDwysGhH6+1QfgDtnlwEBYP7MD\n",
       "QxlCP8tyAQZMh2DV/9ZQ9jYwztgKGJaCuFUggldtAtzxxgcQ2qpWgcBqBgbWD3CxhF0XOP8AbVzA\n",
       "0AeyDUSw6SIH/U1sEbIcnmYeKDNw/gPSDQxAkmcHyLbJdshKgzKx6GdeCnMfUDPLT6DODyD9DHw9\n",
       "4IS0BFmtVyGmfjU4C6iZewFYfwuIuwssKK6KrPjVHiijSAkElFH8D0yK/AETQO43BXGTIKLTdIEh\n",
       "yAlTc9iGgWECZviD5TkSGOInJDCwLmBIR4p/BlZgFMxXgKk//YDzE6Z+sLz8A4ZklgOg+HuErJ+B\n",
       "ZQ3DjI8IHZz9Ahj6wfIvGBiErzAwcD1g4BBAzz8PkTM3pn5keWD6ZU1A14+c7lmxpD8k+Vxo/o1A\n",
       "088IDnKlB6j6ofkfoZ8TJCANxJOQsiovshaULHziAZo8N8h3jCA1YQ7klH93GBgAWp9x6/m+B4sA\n",
       "AAAASUVORK5CYII=\n",
       "\" style=\"display:inline;vertical-align:middle;\" /></a><br>"
      ],
      "text/plain": [
       "expr: ({< , <= , =} , n)"
      ]
     },
     "execution_count": 2,
     "metadata": {},
     "output_type": "execute_result"
    }
   ],
   "source": [
    "# build up the expression from sub-expressions\n",
    "expr = ExprTuple(Set(Less._operator_, LessEq._operator_, Equals._operator_), n)"
   ]
  },
  {
   "cell_type": "code",
   "execution_count": 3,
   "metadata": {},
   "outputs": [
    {
     "name": "stdout",
     "output_type": "stream",
     "text": [
      "Passed sanity check: built 'expr' is the same as the stored Expression.\n"
     ]
    }
   ],
   "source": [
    "# check that the built expression is the same as the stored expression\n",
    "%check_expr"
   ]
  },
  {
   "cell_type": "code",
   "execution_count": 4,
   "metadata": {},
   "outputs": [
    {
     "data": {
      "text/html": [
       "<table><tr><th>&nbsp;</th><th>core type</th><th>sub-expressions</th><th>expression</th></tr>\n",
       "<tr><td>0</td><td>ExprTuple</td><td>1, 2</td><td><a class=\"ProveItLink\" href=\"expr.ipynb\"><img src=\"data:image/png;base64,iVBORw0KGgoAAAANSUhEUgAAAH0AAAAVBAMAAACZCfwhAAAAMFBMVEX////c3NwiIiJERESqqqqY\n",
       "mJh2dnZmZmYQEBDu7u4yMjJUVFTMzMyIiIi6uroAAAAs73DqAAAAAXRSTlMAQObYZgAAAcNJREFU\n",
       "OMtjYACD8AAGguBYIlZhvgsMDJMSGIgAJxzQBOJAxGkgvk+Mdgb2BegCB4DESiDOwKr+0gNUPlsD\n",
       "ugqggbwXkPUz1sDlOJMuMBDSH8bAwDEBST/PLriVnEUYQYqpfwYDwysGhH6+1QfgDtnlwEBYP7MD\n",
       "QxlCP8tyAQZMh2DV/9ZQ9jYwztgKGJaCuFUggldtAtzxxgcQ2qpWgcBqBgbWD3CxhF0XOP8AbVzA\n",
       "0AeyDUSw6SIH/U1sEbIcnmYeKDNw/gPSDQxAkmcHyLbJdshKgzKx6GdeCnMfUDPLT6DODyD9DHw9\n",
       "4IS0BFmtVyGmfjU4C6iZewFYfwuIuwssKK6KrPjVHiijSAkElFH8D0yK/AETQO43BXGTIKLTdIEh\n",
       "yAlTc9iGgWECZviD5TkSGOInJDCwLmBIR4p/BlZgFMxXgKk//YDzE6Z+sLz8A4ZklgOg+HuErJ+B\n",
       "ZQ3DjI8IHZz9Ahj6wfIvGBiErzAwcD1g4BBAzz8PkTM3pn5keWD6ZU1A14+c7lmxpD8k+Vxo/o1A\n",
       "088IDnKlB6j6ofkfoZ8TJCANxJOQsiovshaULHziAZo8N8h3jCA1YQ7klH93GBgAWp9x6/m+B4sA\n",
       "AAAASUVORK5CYII=\n",
       "\" style=\"display:inline;vertical-align:middle;\" /></a></td></tr>\n",
       "<tr><td>1</td><td>Operation</td><td>operator:&nbsp;3<br>operands:&nbsp;4<br></td><td><a class=\"ProveItLink\" href=\"../7bc7ad9fcc1d2d481be86cef8dce5c57d078062b0/expr.ipynb\"><img src=\"data:image/png;base64,iVBORw0KGgoAAAANSUhEUgAAAFUAAAAVBAMAAADFg78FAAAAMFBMVEX///9ERETc3NyqqqpUVFS6\n",
       "urrMzMwyMjIQEBCIiIh2dnYiIiLu7u5mZmaYmJgAAABJJ2g3AAAAAXRSTlMAQObYZgAAAP9JREFU\n",
       "KM9jYGDgu8dAELCtUgBRPLsYiABszSCS8wMxahmugwiuBmxSnFvRBFagqGW6hpA5tZMBn1o29wC4\n",
       "xNl9DPjUspYkwMVVihnwqWWuVYALp5Qy4FDLWwDyyq4DcNGDYggVvOVg4MDA8B7EzQA6kwvZK5w7\n",
       "D2Axl/0C0MI2kFGiyMJ8u7ApFn/AwBAB8lMKim+QHQ8D3AuABAvIvQy6KKEEDxTe3WAgAHUv1wZo\n",
       "6AMt5oFHv2ACgoMZFyBXnt8AV+yKxMGMY+YyhhOfkGRROGhqQSCIARcHU+0DBlwcsFo+dLXaYK9v\n",
       "RVMLTr88SHHGiZKEUfJFKyQAFhOZ3wC9D0sdukcx3gAAAABJRU5ErkJggg==\n",
       "\" style=\"display:inline;vertical-align:middle;\" /></a></td></tr>\n",
       "<tr><td>2</td><td>Variable</td><td></td><td><a class=\"ProveItLink\" href=\"../../../../__pv_it/39dbcd3ca0390345b51c6ef7785756419e2c14390/expr.ipynb\"><img src=\"data:image/png;base64,iVBORw0KGgoAAAANSUhEUgAAAAwAAAAJBAMAAAD0ltBnAAAAMFBMVEX///8QEBCYmJhmZmaqqqoi\n",
       "IiLMzMzu7u4yMjJ2dnZUVFTc3NxERESIiIi6uroAAABbPXqjAAAAAXRSTlMAQObYZgAAAERJREFU\n",
       "CNdj4Luz++5KBgZOrl6G+gSGd6wHGOofMBQAsX8BAwivYGBgsGBg+MTOwCDJwPSdk4H7HwPnATcG\n",
       "PgEG7rMOAGtQEUwHZIDZAAAAAElFTkSuQmCC\n",
       "\" style=\"display:inline;vertical-align:middle;\" /></a></td></tr>\n",
       "<tr><td>3</td><td>Literal</td><td></td><td><a class=\"ProveItLink\" href=\"../../../../logic/set_theory/enumeration/__pv_it/07381ed5b23806e8d7914b78cb6667769e3708dd0/expr.ipynb\"><img src=\"data:image/png;base64,iVBORw0KGgoAAAANSUhEUgAAAB4AAAAOBAMAAADKyLEKAAAAMFBMVEX///8iIiIQEBCIiIjMzMzc\n",
       "3Nyqqqp2dnZEREQyMjK6urru7u5mZmZUVFSYmJgAAACI6eGPAAAAAXRSTlMAQObYZgAAALRJREFU\n",
       "CNdjYGDgu3Nm3wIGBJjHwN0PZW5yYGDgLWBgyITy8zcwMMQDxZyh/INAvD6BgcEFypcB4vjPDiBm\n",
       "TPFRrhs/LjMwMP//38rAwCbKEMPA9gEkE3fp0waG+AUMRxh4JkC01T9guPTOOICBEWgVH5C//wHD\n",
       "H5D4fqCz9oCMDGD4DLaegRXslLMMDMpAgxlOMmQxHDRgYG5gYLBk4D7KcIe7gOHC2rt9QCXsh40Z\n",
       "GCKMGQDRkC8N/Ph1XAAAAABJRU5ErkJggg==\n",
       "\" style=\"display:inline;vertical-align:middle;\" /></a></td></tr>\n",
       "<tr><td>4</td><td>ExprTuple</td><td>5, 6, 7</td><td><a class=\"ProveItLink\" href=\"../79fb47198d469b94e5a80308d5b0882912b28e5f0/expr.ipynb\"><img src=\"data:image/png;base64,iVBORw0KGgoAAAANSUhEUgAAAE8AAAAVBAMAAAD1D64kAAAAMFBMVEX////c3NwiIiJERESqqqqY\n",
       "mJh2dnZmZmYQEBDu7u4yMjJUVFTMzMyIiIi6uroAAAAs73DqAAAAAXRSTlMAQObYZgAAAQxJREFU\n",
       "KM9jYCAa8F0grCYORJwmwjD2A0BiJTaZSw9Q+QsYGHhhNosfgAtzJqE7J4yBgWMChHl6HUJdUQC6\n",
       "DTMYGF5BWK/2wAUZdzlgOIXZgaEMzPAqhIvx7HqA6Wa2AoalYLdnIuw1RriVoWoVCKxmYGBZwNAH\n",
       "5KO4/dJNbIHdwPAPZAiKZUGZmAp5PoAUAp2F4nwkByMpbAF7FDVA4EFQpAQCymCrTaFBDHLZBJjK\n",
       "wzZIHBBgXcCQjnAZ5ye4xOkHSBxI8DyCu+wAZ78AQgqFw8D1gIEDic+HLIfCAUYhawKSS1CchczJ\n",
       "RU1mIDlGsEeVHqAo5AQmMwZpBB8lcSFzuEHOYCQiK9xhYAAAX2lBxOoXVcEAAAAASUVORK5CYII=\n",
       "\" style=\"display:inline;vertical-align:middle;\" /></a></td></tr>\n",
       "<tr><td>5</td><td>Literal</td><td></td><td><a class=\"ProveItLink\" href=\"../7c444b9b2efa607ed6397b492680dde2810212f00/expr.ipynb\"><img src=\"data:image/png;base64,iVBORw0KGgoAAAANSUhEUgAAAA4AAAAMBAMAAACgrpHpAAAALVBMVEX///+YmJhERETu7u52dnYi\n",
       "IiKIiIiqqqq6uroyMjJUVFTMzMxmZmbc3NwAAADmAst+AAAAAXRSTlMAQObYZgAAAD5JREFUCNdj\n",
       "YAAB3tNgintlA4jimLUBRLHPuQCi2EIMQBRLGFgJg5EGhGbYNR3KuBMIZZiEGUAYjCFQBvtsABzC\n",
       "Cm98G6SsAAAAAElFTkSuQmCC\n",
       "\" style=\"display:inline;vertical-align:middle;\" /></a></td></tr>\n",
       "<tr><td>6</td><td>Literal</td><td></td><td><a class=\"ProveItLink\" href=\"../aa616d6a8fe3483e4e64187262e9c7dfe6a536a30/expr.ipynb\"><img src=\"data:image/png;base64,iVBORw0KGgoAAAANSUhEUgAAAA4AAAARBAMAAAAf5oCsAAAALVBMVEX///9ERETMzMyqqqoyMjJU\n",
       "VFTc3NyYmJhmZmZ2dnbu7u66uroiIiKIiIgAAAAFyQXGAAAAAXRSTlMAQObYZgAAAEBJREFUCNdj\n",
       "YEAGvKfB1MqzYGrFcTCV6gymVL3B1EIhqNKzCyAM9pNQBrNHAoTB7aoAYTAJwhjRDLhAzhkQOA0A\n",
       "iskPUSt9tJUAAAAASUVORK5CYII=\n",
       "\" style=\"display:inline;vertical-align:middle;\" /></a></td></tr>\n",
       "<tr><td>7</td><td>Literal</td><td></td><td><a class=\"ProveItLink\" href=\"../../../../logic/equality/__pv_it/2fb26078095930560931daa0500ce419a39ea6cd0/expr.ipynb\"><img src=\"data:image/png;base64,iVBORw0KGgoAAAANSUhEUgAAAA4AAAAFBAMAAACHocAhAAAAFVBMVEX///9EREQiIiJUVFQyMjJm\n",
       "ZmYAAADubVkoAAAAAXRSTlMAQObYZgAAABRJREFUCNdjCHEBAWcGXCBICQQUAUpuAwlgGKrkAAAA\n",
       "AElFTkSuQmCC\n",
       "\" style=\"display:inline;vertical-align:middle;\" /></a></td></tr>\n",
       "</table>\n"
      ],
      "text/plain": [
       "0. ({< , <= , =} , n)\n",
       "   core type: ExprTuple\n",
       "   sub-expressions: 1, 2\n",
       "1. {< , <= , =}\n",
       "   core type: Operation\n",
       "   operator: 3\n",
       "   operands: 4\n",
       "2. n\n",
       "   core type: Variable\n",
       "   sub-expressions: \n",
       "3. Set\n",
       "   core type: Literal\n",
       "   sub-expressions: \n",
       "4. (< , <= , =)\n",
       "   core type: ExprTuple\n",
       "   sub-expressions: 5, 6, 7\n",
       "5. <\n",
       "   core type: Literal\n",
       "   sub-expressions: \n",
       "6. <=\n",
       "   core type: Literal\n",
       "   sub-expressions: \n",
       "7. =\n",
       "   core type: Literal\n",
       "   sub-expressions: "
      ]
     },
     "execution_count": 4,
     "metadata": {},
     "output_type": "execute_result"
    }
   ],
   "source": [
    "# display the expression information\n",
    "expr.exprInfo()"
   ]
  },
  {
   "cell_type": "code",
   "execution_count": null,
   "metadata": {},
   "outputs": [],
   "source": []
  }
 ],
 "metadata": {
  "kernelspec": {
   "display_name": "Python 3",
   "language": "python",
   "name": "python3"
  }
 },
 "nbformat": 4,
 "nbformat_minor": 0
}
