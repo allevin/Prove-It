{
 "cells": [
  {
   "cell_type": "markdown",
   "metadata": {},
   "source": [
    "Expression of type <a class=\"ProveItLink\" href=\"../../../../../../doc/html/api/proveit.logic.InSet.html\">InSet</a>\n",
    "=======================\n",
    "# from context <a class=\"ProveItLink\" href=\"../../_context_.ipynb\">proveit.number.ordering</a>"
   ]
  },
  {
   "cell_type": "code",
   "execution_count": 1,
   "metadata": {},
   "outputs": [],
   "source": [
    "# import Expression classes needed to build the expression\n",
    "from proveit.logic import Booleans, Equals, InSet\n",
    "from proveit.number import Exp, Less, LessEq, two"
   ]
  },
  {
   "cell_type": "code",
   "execution_count": 2,
   "metadata": {},
   "outputs": [
    {
     "data": {
      "text/html": [
       "<strong id=\"expr\">expr:</strong> <a class=\"ProveItLink\" href=\"expr.ipynb\"><img src=\"data:image/png;base64,iVBORw0KGgoAAAANSUhEUgAAAKgAAAAZBAMAAABX83hXAAAAMFBMVEX////c3NwiIiJERESqqqqY\n",
       "mJh2dnZmZmYQEBDu7u4yMjJUVFTMzMyIiIi6uroAAAAs73DqAAAAAXRSTlMAQObYZgAAAb5JREFU\n",
       "SMdjYKA2SLeeQHUz2SewL6C6oUwCjH+obiiHA+c/BuoDlp8MDHwXyNLK+gCXDFcCA8NpMh1Ug8bP\n",
       "+rx+hbIDkJENxCvJMfHSAwYudDGDt5wr04BeADqUF5fvxQ/gNJIz6QJEM5qhDPeANj1jOMPAgSOp\n",
       "nl6H28yiABDZAOHNXaSkBTPUlXsCj4nLToZX2DW+2oPTTMZdDmDaBEzyLJ2A5FJhBo7//z8wlGHV\n",
       "6FWI00yeXdB4TweTwhMQ3udRtYQwlwJz1iow2ACjgfGQich2aJKcxrCw9gKThogwfaT/AxpBfVgc\n",
       "k4Qv6V66CWW8AIevAXJE3XWGMLHkKU7jB/iSUxDUG+dBBF+TkhIiopj5EnAZCgw2B3ymQgMcbCjP\n",
       "BmSXMjNAHN4CDDYlMDCA0cAIBicaSJhiSMKSBsT7CtgMNcWRvEEhh7O0PWwDJKLAzK0ohkK9n447\n",
       "5Dg/4QyB0w9gOic9QDI0/DKE+QhnyB3g7BfAF7SQLMe4/AC8QDHqhsYFBx6NfPgMhWVTll3Q2Ecu\n",
       "FxPwlJn4HMqGLzGvJM1QRkgqeMAwC5+N0ril8NYJG/FJMpJXnfDiLm4ZAJJlhBUyIO9RAAAAAElF\n",
       "TkSuQmCC\n",
       "\" style=\"display:inline;vertical-align:middle;\" /></a><br>"
      ],
      "text/plain": [
       "expr: (= = < , = = <=) in BOOLEANS^{2}"
      ]
     },
     "execution_count": 2,
     "metadata": {},
     "output_type": "execute_result"
    }
   ],
   "source": [
    "# build up the expression from sub-expressions\n",
    "expr = InSet([Equals(Equals._operator_, Less._operator_), Equals(Equals._operator_, LessEq._operator_)], Exp(Booleans, two))"
   ]
  },
  {
   "cell_type": "code",
   "execution_count": 3,
   "metadata": {},
   "outputs": [
    {
     "name": "stdout",
     "output_type": "stream",
     "text": [
      "Passed sanity check: built 'expr' is the same as the stored Expression.\n"
     ]
    }
   ],
   "source": [
    "# check that the built expression is the same as the stored expression\n",
    "%check_expr"
   ]
  },
  {
   "cell_type": "code",
   "execution_count": 4,
   "metadata": {},
   "outputs": [
    {
     "data": {
      "text/html": [
       "<table><tr><th>&nbsp;</th><th>core type</th><th>sub-expressions</th><th>expression</th></tr>\n",
       "<tr><td>0</td><td>Operation</td><td>operator:&nbsp;1<br>operands:&nbsp;2<br></td><td><a class=\"ProveItLink\" href=\"expr.ipynb\"><img src=\"data:image/png;base64,iVBORw0KGgoAAAANSUhEUgAAAKgAAAAZBAMAAABX83hXAAAAMFBMVEX////c3NwiIiJERESqqqqY\n",
       "mJh2dnZmZmYQEBDu7u4yMjJUVFTMzMyIiIi6uroAAAAs73DqAAAAAXRSTlMAQObYZgAAAb5JREFU\n",
       "SMdjYKA2SLeeQHUz2SewL6C6oUwCjH+obiiHA+c/BuoDlp8MDHwXyNLK+gCXDFcCA8NpMh1Ug8bP\n",
       "+rx+hbIDkJENxCvJMfHSAwYudDGDt5wr04BeADqUF5fvxQ/gNJIz6QJEM5qhDPeANj1jOMPAgSOp\n",
       "nl6H28yiABDZAOHNXaSkBTPUlXsCj4nLToZX2DW+2oPTTMZdDmDaBEzyLJ2A5FJhBo7//z8wlGHV\n",
       "6FWI00yeXdB4TweTwhMQ3udRtYQwlwJz1iow2ACjgfGQich2aJKcxrCw9gKThogwfaT/AxpBfVgc\n",
       "k4Qv6V66CWW8AIevAXJE3XWGMLHkKU7jB/iSUxDUG+dBBF+TkhIiopj5EnAZCgw2B3ymQgMcbCjP\n",
       "BmSXMjNAHN4CDDYlMDCA0cAIBicaSJhiSMKSBsT7CtgMNcWRvEEhh7O0PWwDJKLAzK0ohkK9n447\n",
       "5Dg/4QyB0w9gOic9QDI0/DKE+QhnyB3g7BfAF7SQLMe4/AC8QDHqhsYFBx6NfPgMhWVTll3Q2Ecu\n",
       "FxPwlJn4HMqGLzGvJM1QRkgqeMAwC5+N0ril8NYJG/FJMpJXnfDiLm4ZAJJlhBUyIO9RAAAAAElF\n",
       "TkSuQmCC\n",
       "\" style=\"display:inline;vertical-align:middle;\" /></a></td></tr>\n",
       "<tr><td>1</td><td>Literal</td><td></td><td><a class=\"ProveItLink\" href=\"../../../../logic/set_theory/membership/__pv_it/088cbc857536a28d4119ad9639a84270ccb0545d0/expr.ipynb\"><img src=\"data:image/png;base64,iVBORw0KGgoAAAANSUhEUgAAAAwAAAAMBAMAAACkW0HUAAAALVBMVEX///+qqqpmZmZUVFQQEBC6\n",
       "urpERETc3NyYmJjMzMwiIiIyMjKIiIju7u4AAACYsrA9AAAAAXRSTlMAQObYZgAAADxJREFUCNdj\n",
       "YOA9vWrVBgaG2b0MQMCeCyIZ2ArA1DUwyRCyahVIyWQI7xaEYm4AU7xLIdxqTQgtvGvVBgCkcQ7e\n",
       "geM/tQAAAABJRU5ErkJggg==\n",
       "\" style=\"display:inline;vertical-align:middle;\" /></a></td></tr>\n",
       "<tr><td>2</td><td>ExprTuple</td><td>3, 4</td><td><a class=\"ProveItLink\" href=\"../99ce4e443eac22c0b294af1cd470c32862f514920/expr.ipynb\"><img src=\"data:image/png;base64,iVBORw0KGgoAAAANSUhEUgAAAKwAAAAcBAMAAAAO1UmeAAAAMFBMVEX///+qqqp2dnYiIiJERESI\n",
       "iIhmZmYQEBDc3NyYmJgyMjLu7u5UVFTMzMy6uroAAACGxKilAAAAAXRSTlMAQObYZgAAAjxJREFU\n",
       "SMdjYKAuUPPZwEB9wLaBbQGU+Y6KxjI3cPxlUACxeA9Q0Vh2Ae5/DHdArF3UDQzG3wysAUD6JIjz\n",
       "lCwjOB9ginEBg8CCgYGjgIKAyIWztL6sX24iAGToAHEMMO4SQFaQExDBDxi4EDyHp9yrlYAeAMXX\n",
       "/g0M7CCPhOLQyZGL01Bu5QCoITBjGeKAtjxiuAtMDxMY7oPEqrFr5T31AKepyRNAZAGysZI8G3gd\n",
       "BU8DQ8CBIRwoxLcAq1a+NRdwmcpxSgBMO6K4toWB/f//D0BPfGA4BcobCliTyrIGXKbCvaGGZCyv\n",
       "pTfMPb8ZfEAxBvRQ1ioQWAOnGViN4PHIBhZbdQBGc7vAvCGFMPax/fcAmK1/GZaB8gaWIGQyxZcI\n",
       "oqGM58iBECoCC6J/DGZAih+LsVv88CWuydoQ+j6ysSx80MDk/ojTWIY7C/GZK5WBxVgGB7hr14AL\n",
       "CAaGZGMQMIHTDAxtlvCwBYsZO8BokNirsxiBgDD2L8MRIMUyAauLNpkCI40bl3uv+AKJWSDWBvRA\n",
       "4PvBEAyKngQcRQkwMew3wGXunQeQBMb9GWrstBCYvg8M70Gm49LKuJZh+w98QbwOZGx9A7ioca4R\n",
       "gKWiBQz8oCRYgUfnCzxykMzLh55tuAIYeEDhMQmP1gl45JjAGYATXXh/AwOvAYGCEYuxHJAU8YBh\n",
       "FwNWY6dASwsO3MU4K76gPQEmA9CFbYG4C8RoJatyYMVewnGCEhajArUbCy1gciK1jc1moBUAAB1X\n",
       "mbTfgrDRAAAAAElFTkSuQmCC\n",
       "\" style=\"display:inline;vertical-align:middle;\" /></a></td></tr>\n",
       "<tr><td>3</td><td>ExprTuple</td><td>5, 6</td><td><a class=\"ProveItLink\" href=\"../bc0cb42fdd24122c4dc297cbfbece1c73cf313460/expr.ipynb\"><img src=\"data:image/png;base64,iVBORw0KGgoAAAANSUhEUgAAAHUAAAAVBAMAAACK3rzVAAAAMFBMVEX////c3NwiIiJERESqqqqY\n",
       "mJh2dnZmZmYQEBDu7u4yMjJUVFTMzMyIiIi6uroAAAAs73DqAAAAAXRSTlMAQObYZgAAAR9JREFU\n",
       "OMtjYKAE8F0gS1sciDhNnpXsB4DESjI08uoxMCwAUricLH4Ap9ZpukAijIGBYwJ2+dPrcGqdrgoi\n",
       "ZzAwvMIu/2oPTq3SS8AUswNDGVZ5r0KcWmEOYitgWAoMslVgsAFGMzBcyoQrrQKLrYbTk22gEiwL\n",
       "GPqwGJ2EJ8p5daEBxNfA8A9TmtP4AZ74YVWDaOb5gE0vA88uBzyaWZYLQPW2AP2rBAYGMJqBgbEo\n",
       "AKayCCymDKdBrl19AOJmU6xmcybdBJI4op6BxxiomXUBQzoO+aBMBs5PuJzNsw8cR49wyXsd4OwX\n",
       "wONtrgcMHHjk+fDpBaZJ1gQ80YEvL+Xiz4PY9AqBw1uPgXMBKGnj1ouvROEG+YeRvDLnDgMDADxJ\n",
       "SnU9ErvxAAAAAElFTkSuQmCC\n",
       "\" style=\"display:inline;vertical-align:middle;\" /></a></td></tr>\n",
       "<tr><td>4</td><td>Operation</td><td>operator:&nbsp;7<br>operands:&nbsp;8<br></td><td><a class=\"ProveItLink\" href=\"../80916f78fe8f88648e548cee85f5261a65c126a40/expr.ipynb\"><img src=\"data:image/png;base64,iVBORw0KGgoAAAANSUhEUgAAABYAAAAUBAMAAAB7UtADAAAAMFBMVEX///9mZmbMzMzc3NxUVFSY\n",
       "mJju7u6IiIi6urqqqqoiIiIQEBBEREQyMjJ2dnYAAAAQvcRZAAAAAXRSTlMAQObYZgAAAIRJREFU\n",
       "CNdjYICCh0cSYEzGBMYLMDaXAfMnGJt7AtsPBjjg/IZg8z5gePvn/u01E4DsJ0B8oJ3t2jsGBtYH\n",
       "YDZDBS8DQx+DEpg9lSWB6eRMN4i4DQP3//8fQGympcegZh3oWv+7AMZuZyifg2DzcDxAsBkOYGcj\n",
       "qQmsgTCBbju1ZQKYCQDWoDT3EPNjYwAAAABJRU5ErkJggg==\n",
       "\" style=\"display:inline;vertical-align:middle;\" /></a></td></tr>\n",
       "<tr><td>5</td><td>Operation</td><td>operator:&nbsp;14<br>operands:&nbsp;9<br></td><td><a class=\"ProveItLink\" href=\"../988d987b640d10c47745e9b4367790779dabb80d0/expr.ipynb\"><img src=\"data:image/png;base64,iVBORw0KGgoAAAANSUhEUgAAAC4AAAAMBAMAAADv85I5AAAALVBMVEX///+YmJju7u52dnaIiIiq\n",
       "qqq6urrMzMzc3NxEREQiIiJUVFQyMjJmZmYAAAAtbRfzAAAAAXRSTlMAQObYZgAAAFNJREFUGNNj\n",
       "YMAGOK5jFWbfk4BNmO10ATZh1rMNQPLOGRA4DacZWBYrYFPNvASrlQya07CLM1QfBVO3VoHASjjN\n",
       "wNC7EIcO5SUK2CUYF+OQYD0OAOB+IJgmfQqgAAAAAElFTkSuQmCC\n",
       "\" style=\"display:inline;vertical-align:middle;\" /></a></td></tr>\n",
       "<tr><td>6</td><td>Operation</td><td>operator:&nbsp;14<br>operands:&nbsp;10<br></td><td><a class=\"ProveItLink\" href=\"../718836f246526fbb646f6e6e5d37416ac4f38ac10/expr.ipynb\"><img src=\"data:image/png;base64,iVBORw0KGgoAAAANSUhEUgAAAC4AAAARBAMAAABQu4N8AAAALVBMVEX////MzMyqqqrc3NyYmJh2\n",
       "dnbu7u66urqIiIhEREQiIiJUVFQyMjJmZmYAAAD/fLGbAAAAAXRSTlMAQObYZgAAAFNJREFUGNNj\n",
       "YCAFcCzHKpy6Aqtw7hKswtaHsApLHwdTd86AwGk4nTkRh1NWJGCXYFmKQ4LprAGQvLUKBFbCaSBg\n",
       "Py2AXQfjTFwS2xloBazA7loOAIjnJCbdfe+WAAAAAElFTkSuQmCC\n",
       "\" style=\"display:inline;vertical-align:middle;\" /></a></td></tr>\n",
       "<tr><td>7</td><td>Literal</td><td></td><td><a class=\"ProveItLink\" href=\"../../../exponentiation/__pv_it/deb2bf23cbccdd6e6791e1b35b5b9794ce12dbd50/expr.ipynb\"><img src=\"data:image/png;base64,iVBORw0KGgoAAAANSUhEUgAAACgAAAASBAMAAADbMYGVAAAAMFBMVEX///8QEBAiIiKYmJjc3Nzu\n",
       "7u7MzMx2dnZmZma6urpERESqqqoyMjJUVFSIiIgAAAAoDOMTAAAAAXRSTlMAQObYZgAAAOBJREFU\n",
       "GNNjYGB4+//u3Tt/GNAASGAXmhjnPyDBgSbI/g1IxKEJ8nxgYGdgQRPkX8BgDKRY6q7s62OYvmze\n",
       "2wAgb/7ZO1+AVDiDkYEQQ0HTBr4DQF59AgOIKmB4z7CNbcNZBu6vQN55kEACQwDDLQYGVobfDHwg\n",
       "fb8YGBxYHwAZciD3fWXg+gB1JjvQcJZvQIXsCgz8F6DO9GBgMOH7wPCUgaeBwd4B7EwGNjUG7s9c\n",
       "AiwPgO5jkWRgiF3/9+5dfQUG1nWl5Y+B7pv+1gE9bBhqGLCAE1jEWH9jEbT5A3IwAC4sP/1L6Qlu\n",
       "AAAAAElFTkSuQmCC\n",
       "\" style=\"display:inline;vertical-align:middle;\" /></a></td></tr>\n",
       "<tr><td>8</td><td>ExprTuple</td><td>11, 12</td><td><a class=\"ProveItLink\" href=\"../414e8800f1d1efa4c79fba266b1f17989e0e26480/expr.ipynb\"><img src=\"data:image/png;base64,iVBORw0KGgoAAAANSUhEUgAAAC0AAAAVBAMAAAAgHXppAAAAMFBMVEX////c3NwiIiJERESqqqqY\n",
       "mJh2dnZmZmYQEBDu7u4yMjJUVFTMzMyIiIi6uroAAAAs73DqAAAAAXRSTlMAQObYZgAAARFJREFU\n",
       "GNN10bFLw0AUx/FvqNEmTUqwo6M4JwgObgER/wPdpFOEglAUdNTBQRD0RseACHaqq5PuLgVXldBR\n",
       "EERFnKx3efYKLd4QHp/cPd79Dv5b9d4EbZrPPa2P7tV8KuTsXxTM3OmqA8mr18nE5wg/IYewZ5xn\n",
       "X/wGYliHqip9taZKP1bcFpzDC7K/Ifu7ioOCSspe6cHCsp0mVky3uTTej7/ttMEXTOWcSp+nlaH7\n",
       "ib7TIT/ilXrzz3fNmTfrJMLhtfjRmK/hRKbP0qiPuUHQxo1wc7bENx7w3nU5m2U7mDn7mNwWT1K8\n",
       "s0gPPxjo335BNRolbkudg9u07tpqW3Iedy8vEx8uG0XNNHQm3/ERfgGi4EpwIB8kjgAAAABJRU5E\n",
       "rkJggg==\n",
       "\" style=\"display:inline;vertical-align:middle;\" /></a></td></tr>\n",
       "<tr><td>9</td><td>ExprTuple</td><td>14, 13</td><td><a class=\"ProveItLink\" href=\"../eb61d9e682019b852b9586b7244fceeafc90606b0/expr.ipynb\"><img src=\"data:image/png;base64,iVBORw0KGgoAAAANSUhEUgAAADUAAAAVBAMAAAAUZLt1AAAAMFBMVEX////c3NwiIiJERESqqqqY\n",
       "mJh2dnZmZmYQEBDu7u4yMjJUVFTMzMyIiIi6uroAAAAs73DqAAAAAXRSTlMAQObYZgAAANFJREFU\n",
       "KM9jYMAH+C5gFY4DEaexa2E/ACRW4jBvAQMDLzYjGWsYGMIYGDgmYErx7HrAwDCDgeEVFtetBtnF\n",
       "7MBQhiHFslwARLEVMCwFOmkVGGyASPGqQWxhWcDQh6aLTRdmcgPDPzS5yXYwB33AkGM4vQQu1wK0\n",
       "TwkMDKCS4qowM02RtEC9Ok0XxGBdwJCOkOL8BGWwgpwK9MMjJLl+AZgX1zAwcD1g4BBAChAkNijM\n",
       "WBMQXFZk9+aixhGyHCcwjhikEXzk6OIGmc+IPU3cYWAAAMORK6GjNWquAAAAAElFTkSuQmCC\n",
       "\" style=\"display:inline;vertical-align:middle;\" /></a></td></tr>\n",
       "<tr><td>10</td><td>ExprTuple</td><td>14, 15</td><td><a class=\"ProveItLink\" href=\"../2616e3b3e10e1d5aa2ea1577b08415db045746270/expr.ipynb\"><img src=\"data:image/png;base64,iVBORw0KGgoAAAANSUhEUgAAADUAAAAVBAMAAAAUZLt1AAAAMFBMVEX////c3NwiIiJERESqqqqY\n",
       "mJh2dnZmZmYQEBDu7u4yMjJUVFTMzMyIiIi6uroAAAAs73DqAAAAAXRSTlMAQObYZgAAANJJREFU\n",
       "KM9jYMAH+C5gFY4DEaexa2E/ACRWYpHg1WNgWACksBg5TRdIhDEwcEzAkJquCiJnMDC8wpCSXgKm\n",
       "mB0YytClTq+D0GwFDEuBTloFBhvAQpNtoGpYFjD0oTtRF+oAvgaGf+hmsqpBJHk+YMoxsCwXgMq1\n",
       "AO1TAgMDeCiuPgAx0xRJB8yrPMZASdYFDOkIKc5PMBbPPrAfHiHJ9QsgGcL1gIEDic+HLAcMM9YE\n",
       "JOcjOzcXNY5AckJgN+sxcC4ABS1CDjm6uEHmM2JPE3cYGADU5yxHL+oX6AAAAABJRU5ErkJggg==\n",
       "\" style=\"display:inline;vertical-align:middle;\" /></a></td></tr>\n",
       "<tr><td>11</td><td>Literal</td><td></td><td><a class=\"ProveItLink\" href=\"../../../../logic/boolean/__pv_it/46271c8230be96415d662709611f4ed2279d702b0/expr.ipynb\"><img src=\"data:image/png;base64,iVBORw0KGgoAAAANSUhEUgAAAA0AAAAOBAMAAAAGUYvhAAAAMFBMVEX///9mZmbMzMzc3NxUVFSY\n",
       "mJju7u6IiIi6urqqqqoiIiIQEBBEREQyMjJ2dnYAAAAQvcRZAAAAAXRSTlMAQObYZgAAAElJREFU\n",
       "CNdjePvn/u01ExgYGA60s117B6YZKngh9FSWBAjfBsxnWnoMRHet/10AkS+fA6F5OB5AaIYDqDRU\n",
       "PLCGgQFoz6ktExgAgLIl8DFvGtkAAAAASUVORK5CYII=\n",
       "\" style=\"display:inline;vertical-align:middle;\" /></a></td></tr>\n",
       "<tr><td>12</td><td>Literal</td><td></td><td><a class=\"ProveItLink\" href=\"../../../numeral/__pv_it/77d407a64829263cdc16415becd4c2293f77a4bf0/expr.ipynb\"><img src=\"data:image/png;base64,iVBORw0KGgoAAAANSUhEUgAAAAkAAAAOBAMAAAAPuiubAAAAMFBMVEX///+YmJh2dnbMzMwQEBAi\n",
       "IiLu7u6qqqqIiIhUVFS6urpEREQyMjJmZmbc3NwAAACOMKdoAAAAAXRSTlMAQObYZgAAAFBJREFU\n",
       "CNdj4Lt7egEDw0sGju8MDNMYGOIZGFwSGOYvYDifwHAfKAEUSQASzJ9ATJ4NIPI2iOCYACJrGfge\n",
       "MDBfYGB8wPBUSekqUPH//18ZAIliFhc3zESNAAAAAElFTkSuQmCC\n",
       "\" style=\"display:inline;vertical-align:middle;\" /></a></td></tr>\n",
       "<tr><td>13</td><td>Literal</td><td></td><td><a class=\"ProveItLink\" href=\"../7c444b9b2efa607ed6397b492680dde2810212f00/expr.ipynb\"><img src=\"data:image/png;base64,iVBORw0KGgoAAAANSUhEUgAAAA4AAAAMBAMAAACgrpHpAAAALVBMVEX///+YmJhERETu7u52dnYi\n",
       "IiKIiIiqqqq6uroyMjJUVFTMzMxmZmbc3NwAAADmAst+AAAAAXRSTlMAQObYZgAAAD5JREFUCNdj\n",
       "YAAB3tNgintlA4jimLUBRLHPuQCi2EIMQBRLGFgJg5EGhGbYNR3KuBMIZZiEGUAYjCFQBvtsABzC\n",
       "Cm98G6SsAAAAAElFTkSuQmCC\n",
       "\" style=\"display:inline;vertical-align:middle;\" /></a></td></tr>\n",
       "<tr><td>14</td><td>Literal</td><td></td><td><a class=\"ProveItLink\" href=\"../../../../logic/equality/__pv_it/2fb26078095930560931daa0500ce419a39ea6cd0/expr.ipynb\"><img src=\"data:image/png;base64,iVBORw0KGgoAAAANSUhEUgAAAA4AAAAFBAMAAACHocAhAAAAFVBMVEX///9EREQiIiJUVFQyMjJm\n",
       "ZmYAAADubVkoAAAAAXRSTlMAQObYZgAAABRJREFUCNdjCHEBAWcGXCBICQQUAUpuAwlgGKrkAAAA\n",
       "AElFTkSuQmCC\n",
       "\" style=\"display:inline;vertical-align:middle;\" /></a></td></tr>\n",
       "<tr><td>15</td><td>Literal</td><td></td><td><a class=\"ProveItLink\" href=\"../aa616d6a8fe3483e4e64187262e9c7dfe6a536a30/expr.ipynb\"><img src=\"data:image/png;base64,iVBORw0KGgoAAAANSUhEUgAAAA4AAAARBAMAAAAf5oCsAAAALVBMVEX///9ERETMzMyqqqoyMjJU\n",
       "VFTc3NyYmJhmZmZ2dnbu7u66uroiIiKIiIgAAAAFyQXGAAAAAXRSTlMAQObYZgAAAEBJREFUCNdj\n",
       "YEAGvKfB1MqzYGrFcTCV6gymVL3B1EIhqNKzCyAM9pNQBrNHAoTB7aoAYTAJwhjRDLhAzhkQOA0A\n",
       "iskPUSt9tJUAAAAASUVORK5CYII=\n",
       "\" style=\"display:inline;vertical-align:middle;\" /></a></td></tr>\n",
       "</table>\n"
      ],
      "text/plain": [
       "0. (= = < , = = <=) in BOOLEANS^{2}\n",
       "   core type: Operation\n",
       "   operator: 1\n",
       "   operands: 2\n",
       "1. in\n",
       "   core type: Literal\n",
       "   sub-expressions: \n",
       "2. ((= = < , = = <=) , BOOLEANS^{2})\n",
       "   core type: ExprTuple\n",
       "   sub-expressions: 3, 4\n",
       "3. (= = < , = = <=)\n",
       "   core type: ExprTuple\n",
       "   sub-expressions: 5, 6\n",
       "4. BOOLEANS^{2}\n",
       "   core type: Operation\n",
       "   operator: 7\n",
       "   operands: 8\n",
       "5. = = <\n",
       "   core type: Operation\n",
       "   operator: 14\n",
       "   operands: 9\n",
       "6. = = <=\n",
       "   core type: Operation\n",
       "   operator: 14\n",
       "   operands: 10\n",
       "7. Exp\n",
       "   core type: Literal\n",
       "   sub-expressions: \n",
       "8. (BOOLEANS , 2)\n",
       "   core type: ExprTuple\n",
       "   sub-expressions: 11, 12\n",
       "9. (= , <)\n",
       "   core type: ExprTuple\n",
       "   sub-expressions: 14, 13\n",
       "10. (= , <=)\n",
       "    core type: ExprTuple\n",
       "    sub-expressions: 14, 15\n",
       "11. BOOLEANS\n",
       "    core type: Literal\n",
       "    sub-expressions: \n",
       "12. 2\n",
       "    core type: Literal\n",
       "    sub-expressions: \n",
       "13. <\n",
       "    core type: Literal\n",
       "    sub-expressions: \n",
       "14. =\n",
       "    core type: Literal\n",
       "    sub-expressions: \n",
       "15. <=\n",
       "    core type: Literal\n",
       "    sub-expressions: "
      ]
     },
     "execution_count": 4,
     "metadata": {},
     "output_type": "execute_result"
    }
   ],
   "source": [
    "# display the expression information\n",
    "expr.exprInfo()"
   ]
  },
  {
   "cell_type": "code",
   "execution_count": null,
   "metadata": {},
   "outputs": [],
   "source": []
  }
 ],
 "metadata": {
  "kernelspec": {
   "display_name": "Python 3",
   "language": "python",
   "name": "python3"
  }
 },
 "nbformat": 4,
 "nbformat_minor": 0
}
