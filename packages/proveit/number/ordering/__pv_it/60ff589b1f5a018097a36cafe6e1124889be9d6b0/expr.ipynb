{
 "cells": [
  {
   "cell_type": "markdown",
   "metadata": {},
   "source": [
    "Expression of type <a class=\"ProveItLink\" href=\"../../../../../../doc/html/api/proveit.ExprTuple.html\">ExprTuple</a>\n",
    "=======================\n",
    "# from context <a class=\"ProveItLink\" href=\"../../_context_.ipynb\">proveit.number.ordering</a>"
   ]
  },
  {
   "cell_type": "code",
   "execution_count": 1,
   "metadata": {},
   "outputs": [],
   "source": [
    "# import Expression classes needed to build the expression\n",
    "from proveit import ExprTuple\n",
    "from proveit._common_ import n, rho\n",
    "from proveit.logic import Equals, InSet, Set\n",
    "from proveit.number import Exp, Less, LessEq"
   ]
  },
  {
   "cell_type": "code",
   "execution_count": 2,
   "metadata": {},
   "outputs": [
    {
     "data": {
      "text/html": [
       "<strong id=\"expr\">expr:</strong> <a class=\"ProveItLink\" href=\"expr.ipynb\"><img src=\"data:image/png;base64,iVBORw0KGgoAAAANSUhEUgAAAJMAAAAXBAMAAAD96mDoAAAAMFBMVEX////c3NwiIiJERESqqqqY\n",
       "mJh2dnZmZmYQEBDu7u4yMjJUVFTMzMyIiIi6uroAAAAs73DqAAAAAXRSTlMAQObYZgAAAhxJREFU\n",
       "OMtjYKAUsNa+zWagDpj6PoDpAF4V4QGETTmWCCQkbzHwC0D4fBewqZqUQIyLTjgAib0MLxgY4kDc\n",
       "01gV3SfKc+wLgEQPQzkfAzvIjyuxKsrAKnrpASqfrYGBgfEDQ88bBgagobwX8BvFWAMX40xCVwsy\n",
       "is+AoQwYrmEMDBwTkKQ4bykpLUAximcX3CGcRRgxATIKCmYwMLxCljoVieYqvtXweGbc5cCAxyhm\n",
       "B4YyEM1Suwes2hLNgyzLBRgwnYfVKLYChqUgupzhBMifzHCNDFUgglcN7ntOY6RkWLUKBFYDU/oH\n",
       "uBjLAoY+UNpXYJgPcv1kuAQPSJhNFznybmKLneVwFl8Dwz8gxRHAcB4UpC+UlCDBzrMD5IbJdsi6\n",
       "gjKxGMW8FG75B7BR7ycw3D+Aklr5esCpdwmyNq9CTKPUGJCMagFSRQwMK8C5BaFmF5gUV0XW92oP\n",
       "lFEEcr2SMkpYAT1oCqTUGRi/gLjciISTBKGm6QIDnhMmeNiGgWECjhhkXcCQDlT6mYELnI459TBS\n",
       "OyswEucrwERPP+D8hDsxPALG45/cfRC+VA1GxmFZwzDjI1J+6BfAbhTXAwYOAUj+hgDvRWgZBwwe\n",
       "IrH5BHBmHNYEBo4EAiUDct5jxeHBXHAhI48lS0SgGcUIjjSlB6hGIfzDCWJJg4ILsxRFKk94kSVQ\n",
       "ypkTcEdwg/zNiL3ACnMgsmyHgDsMDAByb4MXX51cWwAAAABJRU5ErkJggg==\n",
       "\" style=\"display:inline;vertical-align:middle;\" /></a><br>"
      ],
      "text/plain": [
       "expr: (rho in {< , <= , =}^{n})"
      ]
     },
     "execution_count": 2,
     "metadata": {},
     "output_type": "execute_result"
    }
   ],
   "source": [
    "# build up the expression from sub-expressions\n",
    "expr = ExprTuple(InSet(rho, Exp(Set(Less._operator_, LessEq._operator_, Equals._operator_), n)))"
   ]
  },
  {
   "cell_type": "code",
   "execution_count": 3,
   "metadata": {},
   "outputs": [
    {
     "name": "stdout",
     "output_type": "stream",
     "text": [
      "Passed sanity check: built 'expr' is the same as the stored Expression.\n"
     ]
    }
   ],
   "source": [
    "# check that the built expression is the same as the stored expression\n",
    "%check_expr"
   ]
  },
  {
   "cell_type": "code",
   "execution_count": 4,
   "metadata": {},
   "outputs": [
    {
     "data": {
      "text/html": [
       "<table><tr><th>&nbsp;</th><th>core type</th><th>sub-expressions</th><th>expression</th></tr>\n",
       "<tr><td>0</td><td>ExprTuple</td><td>1</td><td><a class=\"ProveItLink\" href=\"expr.ipynb\"><img src=\"data:image/png;base64,iVBORw0KGgoAAAANSUhEUgAAAJMAAAAXBAMAAAD96mDoAAAAMFBMVEX////c3NwiIiJERESqqqqY\n",
       "mJh2dnZmZmYQEBDu7u4yMjJUVFTMzMyIiIi6uroAAAAs73DqAAAAAXRSTlMAQObYZgAAAhxJREFU\n",
       "OMtjYKAUsNa+zWagDpj6PoDpAF4V4QGETTmWCCQkbzHwC0D4fBewqZqUQIyLTjgAib0MLxgY4kDc\n",
       "01gV3SfKc+wLgEQPQzkfAzvIjyuxKsrAKnrpASqfrYGBgfEDQ88bBgagobwX8BvFWAMX40xCVwsy\n",
       "is+AoQwYrmEMDBwTkKQ4bykpLUAximcX3CGcRRgxATIKCmYwMLxCljoVieYqvtXweGbc5cCAxyhm\n",
       "B4YyEM1Suwes2hLNgyzLBRgwnYfVKLYChqUgupzhBMifzHCNDFUgglcN7ntOY6RkWLUKBFYDU/oH\n",
       "uBjLAoY+UNpXYJgPcv1kuAQPSJhNFznybmKLneVwFl8Dwz8gxRHAcB4UpC+UlCDBzrMD5IbJdsi6\n",
       "gjKxGMW8FG75B7BR7ycw3D+Aklr5esCpdwmyNq9CTKPUGJCMagFSRQwMK8C5BaFmF5gUV0XW92oP\n",
       "lFEEcr2SMkpYAT1oCqTUGRi/gLjciISTBKGm6QIDnhMmeNiGgWECjhhkXcCQDlT6mYELnI459TBS\n",
       "OyswEucrwERPP+D8hDsxPALG45/cfRC+VA1GxmFZwzDjI1J+6BfAbhTXAwYOAUj+hgDvRWgZBwwe\n",
       "IrH5BHBmHNYEBo4EAiUDct5jxeHBXHAhI48lS0SgGcUIjjSlB6hGIfzDCWJJg4ILsxRFKk94kSVQ\n",
       "ypkTcEdwg/zNiL3ACnMgsmyHgDsMDAByb4MXX51cWwAAAABJRU5ErkJggg==\n",
       "\" style=\"display:inline;vertical-align:middle;\" /></a></td></tr>\n",
       "<tr><td>1</td><td>Operation</td><td>operator:&nbsp;2<br>operands:&nbsp;3<br></td><td><a class=\"ProveItLink\" href=\"../fa6d5ce0fbd663893459bbed6c8c8c753502dec90/expr.ipynb\"><img src=\"data:image/png;base64,iVBORw0KGgoAAAANSUhEUgAAAIYAAAAXBAMAAAA8bSpEAAAAMFBMVEX///92dnZERETc3NwyMjK6\n",
       "uroiIiKYmJju7u4QEBDMzMxUVFSIiIhmZmaqqqoAAAAeTpzzAAAAAXRSTlMAQObYZgAAAbJJREFU\n",
       "OMtjYKAIsN+JkWagELTHF7AtwC5VW0BY+0JhIGFxhIHfAKt0mwAxblj5AEjsYYjELnueKH/wOgCJ\n",
       "WQx3WbHKSmIVPRaAymecwMDA/IFhVhR+M5hvwcU4xA4wYJrBqsBwETnsOI6kpTmgmMG1BW41xzWM\n",
       "YAaZgQ6WVKC5g9UbHm3MWx4w4DOD784usDINNL/w+cJjDclB2M24y7CyAUgxIeL5CojgSWyAe0QJ\n",
       "KR1dcQEBb2Aa/YBIrgkM/SCHNsFFuKaCbMlBjpIT2ILeF87iLGBYDwqvyLQ0SJhy7QTZ2qSKrLxM\n",
       "AosZTO4wVnwDw3mQptVwOdZZIHK1H7L6J5cxzUiEs64xMHiCEzhCcguYtE1H1hCyC6Ye5N60JJTw\n",
       "yGVg/geiuREJQAxCNeYAQ5UDJrhIi4GhAXu8cHxiYAGnQI5UjHTKDoya/gSY6OoAjm/YzeD7JbMV\n",
       "wjK5hZHW+bwYOj8jpeT5BljN4HWAC752Q0vrYBCMxGbFbganAIF8i5xP2LH7xR5LKq5EM4MZHBVp\n",
       "AahmIHwQhq0cQ8rmPMgSKNl/ZQDeIqrwAZHlKRgAAFM2ZFDYLIS8AAAAAElFTkSuQmCC\n",
       "\" style=\"display:inline;vertical-align:middle;\" /></a></td></tr>\n",
       "<tr><td>2</td><td>Literal</td><td></td><td><a class=\"ProveItLink\" href=\"../../../../logic/set_theory/membership/__pv_it/088cbc857536a28d4119ad9639a84270ccb0545d0/expr.ipynb\"><img src=\"data:image/png;base64,iVBORw0KGgoAAAANSUhEUgAAAAwAAAAMBAMAAACkW0HUAAAALVBMVEX///+qqqpmZmZUVFQQEBC6\n",
       "urpERETc3NyYmJjMzMwiIiIyMjKIiIju7u4AAACYsrA9AAAAAXRSTlMAQObYZgAAADxJREFUCNdj\n",
       "YOA9vWrVBgaG2b0MQMCeCyIZ2ArA1DUwyRCyahVIyWQI7xaEYm4AU7xLIdxqTQgtvGvVBgCkcQ7e\n",
       "geM/tQAAAABJRU5ErkJggg==\n",
       "\" style=\"display:inline;vertical-align:middle;\" /></a></td></tr>\n",
       "<tr><td>3</td><td>ExprTuple</td><td>4, 5</td><td><a class=\"ProveItLink\" href=\"../0116cecff75d418e64c87d167644c796a927af1f0/expr.ipynb\"><img src=\"data:image/png;base64,iVBORw0KGgoAAAANSUhEUgAAAIMAAAAXBAMAAADaROEAAAAAMFBMVEX////c3NwiIiJERESqqqqY\n",
       "mJh2dnZmZmYQEBDu7u4yMjJUVFTMzMyIiIi6uroAAAAs73DqAAAAAXRSTlMAQObYZgAAAfVJREFU\n",
       "OMulVM0rRFEU/z0zb8wbM8/bSRY0wkop2UmztpossNKwQVLMghJlYTkxEdmZBfn8AzQhpTRlYbIj\n",
       "NW+sJDI+lpJ7332ee707TJzFufeec+7vns8L/JXUmYcR/I+WH6Nlx1JNT/T326f9hFVfodJgZz3L\n",
       "axdjpXiQiRB2iFugjx7PBGWupCDKU4QlMKmjnMayLSiHpFcuTPHsmwWUAhL3AAELZeUQyrQj0way\n",
       "cEPoLZggeesG/EkpRDDtPKzFXRmmEDatAneQQei7Tr2UdAQ/QHgimKCrd+ZAgPBuGnC7I4XwjWGD\n",
       "rpPI2PFMURZqdKLTWrn2mdqhtEs6s+DIvCnM016twxrzNkiPvma+GJeyEm06O30W72TxR3FupSy4\n",
       "T99c6uCtu4YlEJ4NJ9CCBfGYRI75qyesblvnzTvH3RCN4CDmyBIHtmxJ2uJVDbz93Weu42FK9UIu\n",
       "SCBtZGmC8grNkgwwxUozSaj2aXbSDiSLVERNYZCYviCQxVod31oqKQqTWJGZ2nPxot6QuryNHpE2\n",
       "exIa3LtnS+ziLhhyiIAJv8HmDsi7xizP7XWjaIOrMfjZHxF1QfCzoRYJZNQa9lrz60LvNwjFKkLY\n",
       "FCFsv2mAdFdD00G7mv1a3FyH+FvCvGecuamg8SniZ9AdKfHvZHQNfABy3XzoLFm1rAAAAABJRU5E\n",
       "rkJggg==\n",
       "\" style=\"display:inline;vertical-align:middle;\" /></a></td></tr>\n",
       "<tr><td>4</td><td>Variable</td><td></td><td><a class=\"ProveItLink\" href=\"../../../../__pv_it/9e96715d6873a49f9c1aab0c41652463641fb66b0/expr.ipynb\"><img src=\"data:image/png;base64,iVBORw0KGgoAAAANSUhEUgAAAAsAAAANBAMAAACN24kIAAAAMFBMVEX///92dnZERETc3NwyMjK6\n",
       "uroiIiKYmJju7u4QEBDMzMxUVFSIiIhmZmaqqqoAAAAeTpzzAAAAAXRSTlMAQObYZgAAAFRJREFU\n",
       "CNdjYGDgu7OLAQjuMqxsYGBgT2Dof8DAwFnAsL6AgSG+geH8AgaGawwMnkAVuQzM/xgYOD4xsBwA\n",
       "6volsxUoxusA0svAKQCm7APAVBiYBACwqRDWeNEEMQAAAABJRU5ErkJggg==\n",
       "\" style=\"display:inline;vertical-align:middle;\" /></a></td></tr>\n",
       "<tr><td>5</td><td>Operation</td><td>operator:&nbsp;6<br>operands:&nbsp;7<br></td><td><a class=\"ProveItLink\" href=\"../4180132c6e4bb5ea4ad6322533c6806ef2d3f7d80/expr.ipynb\"><img src=\"data:image/png;base64,iVBORw0KGgoAAAANSUhEUgAAAGEAAAAXBAMAAADpUzxMAAAAMFBMVEX///9ERETc3NyqqqpUVFS6\n",
       "urrMzMwyMjIQEBCIiIh2dnYiIiLu7u5mZmaYmJgAAABJJ2g3AAAAAXRSTlMAQObYZgAAAT5JREFU\n",
       "OMtjYCABvJ06y4EU9Qw8T/8xbAMx+O4RVsy2SoGBgelkAcMnkM5dxJjP1gwkWCawNgApzg9EOek6\n",
       "EHMk8F4IYGDgasCmgHMrmsAKINZn4EhNQNahmwCXP7WTAYuOQAbedQxIOlJK4dJn9zFg0wEFMB3h\n",
       "bnAhlWIGInSYX4KLIFmGVQdvAYicvQYucFAMSbIcDIAx/R4hmAEML4bVE5CCaecBLHawX4A7oQ0U\n",
       "i4IBSJJ8u7BpEX8AY0WAwpTN3QBJkrlWAUMD9wI4kwXsD6bbD5CkWUugUcO7GwwEUPzBtQGSMFfP\n",
       "AZIw57AJJjDwEIoPhtdrGHh+w1OeK8P5DYR0MJgn8PQjeeDEJ4I6QB5A9nIQMTr4kBU9wKGDD12H\n",
       "Njh4tqLpuI6Ue5ET9gTkLIKSB1uRzV1MZD6HAADwC1SazZPb6gAAAABJRU5ErkJggg==\n",
       "\" style=\"display:inline;vertical-align:middle;\" /></a></td></tr>\n",
       "<tr><td>6</td><td>Literal</td><td></td><td><a class=\"ProveItLink\" href=\"../../../exponentiation/__pv_it/deb2bf23cbccdd6e6791e1b35b5b9794ce12dbd50/expr.ipynb\"><img src=\"data:image/png;base64,iVBORw0KGgoAAAANSUhEUgAAACgAAAASBAMAAADbMYGVAAAAMFBMVEX///8QEBAiIiKYmJjc3Nzu\n",
       "7u7MzMx2dnZmZma6urpERESqqqoyMjJUVFSIiIgAAAAoDOMTAAAAAXRSTlMAQObYZgAAAOBJREFU\n",
       "GNNjYGB4+//u3Tt/GNAASGAXmhjnPyDBgSbI/g1IxKEJ8nxgYGdgQRPkX8BgDKRY6q7s62OYvmze\n",
       "2wAgb/7ZO1+AVDiDkYEQQ0HTBr4DQF59AgOIKmB4z7CNbcNZBu6vQN55kEACQwDDLQYGVobfDHwg\n",
       "fb8YGBxYHwAZciD3fWXg+gB1JjvQcJZvQIXsCgz8F6DO9GBgMOH7wPCUgaeBwd4B7EwGNjUG7s9c\n",
       "AiwPgO5jkWRgiF3/9+5dfQUG1nWl5Y+B7pv+1gE9bBhqGLCAE1jEWH9jEbT5A3IwAC4sP/1L6Qlu\n",
       "AAAAAElFTkSuQmCC\n",
       "\" style=\"display:inline;vertical-align:middle;\" /></a></td></tr>\n",
       "<tr><td>7</td><td>ExprTuple</td><td>8, 9</td><td><a class=\"ProveItLink\" href=\"../4e54c52aa409cb0ef5d49412c1c0199aed55d36f0/expr.ipynb\"><img src=\"data:image/png;base64,iVBORw0KGgoAAAANSUhEUgAAAH0AAAAVBAMAAACZCfwhAAAAMFBMVEX////c3NwiIiJERESqqqqY\n",
       "mJh2dnZmZmYQEBDu7u4yMjJUVFTMzMyIiIi6uroAAAAs73DqAAAAAXRSTlMAQObYZgAAAcNJREFU\n",
       "OMtjYACD8AAGguBYIlZhvgsMDJMSGIgAJxzQBOJAxGkgvk+Mdgb2BegCB4DESiDOwKr+0gNUPlsD\n",
       "ugqggbwXkPUz1sDlOJMuMBDSH8bAwDEBST/PLriVnEUYQYqpfwYDwysGhH6+1QfgDtnlwEBYP7MD\n",
       "QxlCP8tyAQZMh2DV/9ZQ9jYwztgKGJaCuFUggldtAtzxxgcQ2qpWgcBqBgbWD3CxhF0XOP8AbVzA\n",
       "0AeyDUSw6SIH/U1sEbIcnmYeKDNw/gPSDQxAkmcHyLbJdshKgzKx6GdeCnMfUDPLT6DODyD9DHw9\n",
       "4IS0BFmtVyGmfjU4C6iZewFYfwuIuwssKK6KrPjVHiijSAkElFH8D0yK/AETQO43BXGTIKLTdIEh\n",
       "yAlTc9iGgWECZviD5TkSGOInJDCwLmBIR4p/BlZgFMxXgKk//YDzE6Z+sLz8A4ZklgOg+HuErJ+B\n",
       "ZQ3DjI8IHZz9Ahj6wfIvGBiErzAwcD1g4BBAzz8PkTM3pn5keWD6ZU1A14+c7lmxpD8k+Vxo/o1A\n",
       "088IDnKlB6j6ofkfoZ8TJCANxJOQsiovshaULHziAZo8N8h3jCA1YQ7klH93GBgAWp9x6/m+B4sA\n",
       "AAAASUVORK5CYII=\n",
       "\" style=\"display:inline;vertical-align:middle;\" /></a></td></tr>\n",
       "<tr><td>8</td><td>Operation</td><td>operator:&nbsp;10<br>operands:&nbsp;11<br></td><td><a class=\"ProveItLink\" href=\"../7bc7ad9fcc1d2d481be86cef8dce5c57d078062b0/expr.ipynb\"><img src=\"data:image/png;base64,iVBORw0KGgoAAAANSUhEUgAAAFUAAAAVBAMAAADFg78FAAAAMFBMVEX///9ERETc3NyqqqpUVFS6\n",
       "urrMzMwyMjIQEBCIiIh2dnYiIiLu7u5mZmaYmJgAAABJJ2g3AAAAAXRSTlMAQObYZgAAAP9JREFU\n",
       "KM9jYGDgu8dAELCtUgBRPLsYiABszSCS8wMxahmugwiuBmxSnFvRBFagqGW6hpA5tZMBn1o29wC4\n",
       "xNl9DPjUspYkwMVVihnwqWWuVYALp5Qy4FDLWwDyyq4DcNGDYggVvOVg4MDA8B7EzQA6kwvZK5w7\n",
       "D2Axl/0C0MI2kFGiyMJ8u7ApFn/AwBAB8lMKim+QHQ8D3AuABAvIvQy6KKEEDxTe3WAgAHUv1wZo\n",
       "6AMt5oFHv2ACgoMZFyBXnt8AV+yKxMGMY+YyhhOfkGRROGhqQSCIARcHU+0DBlwcsFo+dLXaYK9v\n",
       "RVMLTr88SHHGiZKEUfJFKyQAFhOZ3wC9D0sdukcx3gAAAABJRU5ErkJggg==\n",
       "\" style=\"display:inline;vertical-align:middle;\" /></a></td></tr>\n",
       "<tr><td>9</td><td>Variable</td><td></td><td><a class=\"ProveItLink\" href=\"../../../../__pv_it/39dbcd3ca0390345b51c6ef7785756419e2c14390/expr.ipynb\"><img src=\"data:image/png;base64,iVBORw0KGgoAAAANSUhEUgAAAAwAAAAJBAMAAAD0ltBnAAAAMFBMVEX///8QEBCYmJhmZmaqqqoi\n",
       "IiLMzMzu7u4yMjJ2dnZUVFTc3NxERESIiIi6uroAAABbPXqjAAAAAXRSTlMAQObYZgAAAERJREFU\n",
       "CNdj4Luz++5KBgZOrl6G+gSGd6wHGOofMBQAsX8BAwivYGBgsGBg+MTOwCDJwPSdk4H7HwPnATcG\n",
       "PgEG7rMOAGtQEUwHZIDZAAAAAElFTkSuQmCC\n",
       "\" style=\"display:inline;vertical-align:middle;\" /></a></td></tr>\n",
       "<tr><td>10</td><td>Literal</td><td></td><td><a class=\"ProveItLink\" href=\"../../../../logic/set_theory/enumeration/__pv_it/07381ed5b23806e8d7914b78cb6667769e3708dd0/expr.ipynb\"><img src=\"data:image/png;base64,iVBORw0KGgoAAAANSUhEUgAAAB4AAAAOBAMAAADKyLEKAAAAMFBMVEX///8iIiIQEBCIiIjMzMzc\n",
       "3Nyqqqp2dnZEREQyMjK6urru7u5mZmZUVFSYmJgAAACI6eGPAAAAAXRSTlMAQObYZgAAALRJREFU\n",
       "CNdjYGDgu3Nm3wIGBJjHwN0PZW5yYGDgLWBgyITy8zcwMMQDxZyh/INAvD6BgcEFypcB4vjPDiBm\n",
       "TPFRrhs/LjMwMP//38rAwCbKEMPA9gEkE3fp0waG+AUMRxh4JkC01T9guPTOOICBEWgVH5C//wHD\n",
       "H5D4fqCz9oCMDGD4DLaegRXslLMMDMpAgxlOMmQxHDRgYG5gYLBk4D7KcIe7gOHC2rt9QCXsh40Z\n",
       "GCKMGQDRkC8N/Ph1XAAAAABJRU5ErkJggg==\n",
       "\" style=\"display:inline;vertical-align:middle;\" /></a></td></tr>\n",
       "<tr><td>11</td><td>ExprTuple</td><td>12, 13, 14</td><td><a class=\"ProveItLink\" href=\"../79fb47198d469b94e5a80308d5b0882912b28e5f0/expr.ipynb\"><img src=\"data:image/png;base64,iVBORw0KGgoAAAANSUhEUgAAAE8AAAAVBAMAAAD1D64kAAAAMFBMVEX////c3NwiIiJERESqqqqY\n",
       "mJh2dnZmZmYQEBDu7u4yMjJUVFTMzMyIiIi6uroAAAAs73DqAAAAAXRSTlMAQObYZgAAAQxJREFU\n",
       "KM9jYCAa8F0grCYORJwmwjD2A0BiJTaZSw9Q+QsYGHhhNosfgAtzJqE7J4yBgWMChHl6HUJdUQC6\n",
       "DTMYGF5BWK/2wAUZdzlgOIXZgaEMzPAqhIvx7HqA6Wa2AoalYLdnIuw1RriVoWoVCKxmYGBZwNAH\n",
       "5KO4/dJNbIHdwPAPZAiKZUGZmAp5PoAUAp2F4nwkByMpbAF7FDVA4EFQpAQCymCrTaFBDHLZBJjK\n",
       "wzZIHBBgXcCQjnAZ5ye4xOkHSBxI8DyCu+wAZ78AQgqFw8D1gIEDic+HLIfCAUYhawKSS1CchczJ\n",
       "RU1mIDlGsEeVHqAo5AQmMwZpBB8lcSFzuEHOYCQiK9xhYAAAX2lBxOoXVcEAAAAASUVORK5CYII=\n",
       "\" style=\"display:inline;vertical-align:middle;\" /></a></td></tr>\n",
       "<tr><td>12</td><td>Literal</td><td></td><td><a class=\"ProveItLink\" href=\"../7c444b9b2efa607ed6397b492680dde2810212f00/expr.ipynb\"><img src=\"data:image/png;base64,iVBORw0KGgoAAAANSUhEUgAAAA4AAAAMBAMAAACgrpHpAAAALVBMVEX///+YmJhERETu7u52dnYi\n",
       "IiKIiIiqqqq6uroyMjJUVFTMzMxmZmbc3NwAAADmAst+AAAAAXRSTlMAQObYZgAAAD5JREFUCNdj\n",
       "YAAB3tNgintlA4jimLUBRLHPuQCi2EIMQBRLGFgJg5EGhGbYNR3KuBMIZZiEGUAYjCFQBvtsABzC\n",
       "Cm98G6SsAAAAAElFTkSuQmCC\n",
       "\" style=\"display:inline;vertical-align:middle;\" /></a></td></tr>\n",
       "<tr><td>13</td><td>Literal</td><td></td><td><a class=\"ProveItLink\" href=\"../aa616d6a8fe3483e4e64187262e9c7dfe6a536a30/expr.ipynb\"><img src=\"data:image/png;base64,iVBORw0KGgoAAAANSUhEUgAAAA4AAAARBAMAAAAf5oCsAAAALVBMVEX///9ERETMzMyqqqoyMjJU\n",
       "VFTc3NyYmJhmZmZ2dnbu7u66uroiIiKIiIgAAAAFyQXGAAAAAXRSTlMAQObYZgAAAEBJREFUCNdj\n",
       "YEAGvKfB1MqzYGrFcTCV6gymVL3B1EIhqNKzCyAM9pNQBrNHAoTB7aoAYTAJwhjRDLhAzhkQOA0A\n",
       "iskPUSt9tJUAAAAASUVORK5CYII=\n",
       "\" style=\"display:inline;vertical-align:middle;\" /></a></td></tr>\n",
       "<tr><td>14</td><td>Literal</td><td></td><td><a class=\"ProveItLink\" href=\"../../../../logic/equality/__pv_it/2fb26078095930560931daa0500ce419a39ea6cd0/expr.ipynb\"><img src=\"data:image/png;base64,iVBORw0KGgoAAAANSUhEUgAAAA4AAAAFBAMAAACHocAhAAAAFVBMVEX///9EREQiIiJUVFQyMjJm\n",
       "ZmYAAADubVkoAAAAAXRSTlMAQObYZgAAABRJREFUCNdjCHEBAWcGXCBICQQUAUpuAwlgGKrkAAAA\n",
       "AElFTkSuQmCC\n",
       "\" style=\"display:inline;vertical-align:middle;\" /></a></td></tr>\n",
       "</table>\n"
      ],
      "text/plain": [
       "0. (rho in {< , <= , =}^{n})\n",
       "   core type: ExprTuple\n",
       "   sub-expressions: 1\n",
       "1. rho in {< , <= , =}^{n}\n",
       "   core type: Operation\n",
       "   operator: 2\n",
       "   operands: 3\n",
       "2. in\n",
       "   core type: Literal\n",
       "   sub-expressions: \n",
       "3. (rho , {< , <= , =}^{n})\n",
       "   core type: ExprTuple\n",
       "   sub-expressions: 4, 5\n",
       "4. rho\n",
       "   core type: Variable\n",
       "   sub-expressions: \n",
       "5. {< , <= , =}^{n}\n",
       "   core type: Operation\n",
       "   operator: 6\n",
       "   operands: 7\n",
       "6. Exp\n",
       "   core type: Literal\n",
       "   sub-expressions: \n",
       "7. ({< , <= , =} , n)\n",
       "   core type: ExprTuple\n",
       "   sub-expressions: 8, 9\n",
       "8. {< , <= , =}\n",
       "   core type: Operation\n",
       "   operator: 10\n",
       "   operands: 11\n",
       "9. n\n",
       "   core type: Variable\n",
       "   sub-expressions: \n",
       "10. Set\n",
       "    core type: Literal\n",
       "    sub-expressions: \n",
       "11. (< , <= , =)\n",
       "    core type: ExprTuple\n",
       "    sub-expressions: 12, 13, 14\n",
       "12. <\n",
       "    core type: Literal\n",
       "    sub-expressions: \n",
       "13. <=\n",
       "    core type: Literal\n",
       "    sub-expressions: \n",
       "14. =\n",
       "    core type: Literal\n",
       "    sub-expressions: "
      ]
     },
     "execution_count": 4,
     "metadata": {},
     "output_type": "execute_result"
    }
   ],
   "source": [
    "# display the expression information\n",
    "expr.exprInfo()"
   ]
  },
  {
   "cell_type": "code",
   "execution_count": null,
   "metadata": {},
   "outputs": [],
   "source": []
  }
 ],
 "metadata": {
  "kernelspec": {
   "display_name": "Python 3",
   "language": "python",
   "name": "python3"
  }
 },
 "nbformat": 4,
 "nbformat_minor": 0
}
