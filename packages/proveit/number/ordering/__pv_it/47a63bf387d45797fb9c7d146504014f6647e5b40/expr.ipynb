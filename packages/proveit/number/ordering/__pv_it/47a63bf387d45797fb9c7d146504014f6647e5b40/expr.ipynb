{
 "cells": [
  {
   "cell_type": "markdown",
   "metadata": {},
   "source": [
    "Expression of type <a class=\"ProveItLink\" href=\"../../../../../../doc/html/api/proveit.logic.InSet.html\">InSet</a>\n",
    "=======================\n",
    "# from context <a class=\"ProveItLink\" href=\"../../_context_.ipynb\">proveit.number.ordering</a>"
   ]
  },
  {
   "cell_type": "code",
   "execution_count": 1,
   "metadata": {},
   "outputs": [],
   "source": [
    "# import Expression classes needed to build the expression\n",
    "from proveit._common_ import v, w, x, y, z\n",
    "from proveit.logic import InSet\n",
    "from proveit.number import Exp, Reals, five"
   ]
  },
  {
   "cell_type": "code",
   "execution_count": 2,
   "metadata": {},
   "outputs": [
    {
     "data": {
      "text/html": [
       "<strong id=\"expr\">expr:</strong> <a class=\"ProveItLink\" href=\"expr.ipynb\"><img src=\"data:image/png;base64,iVBORw0KGgoAAAANSUhEUgAAAJ8AAAAZBAMAAADd3OEWAAAAMFBMVEX////c3NwiIiJERESqqqqY\n",
       "mJh2dnZmZmYQEBDu7u4yMjJUVFTMzMyIiIi6uroAAAAs73DqAAAAAXRSTlMAQObYZgAAAoNJREFU\n",
       "OMutVE1oE0EU/mKS/Wmy20iLP5TSENBDvUTQKlQxJ4WAJEcJFAMegodCEaxYPBTxIGJ1VSjFUipK\n",
       "kIhoFLx4WrAHoYfuRWMp4lqQiIhNlB56Ud/OzHa3QSMrGZiZ996897335s0boIOjvnsEHR1rv6qd\n",
       "Bfz0sbN4+NZhPNTfX6RVt4LaRe2/HGxHltbF4JFcauELP449usbimjeBSnDArlZBug+vsgk8RrcN\n",
       "zQoOGC22Au5E+FYa1zGQgGIEB1Qn+T53PzXoAkpmGmexAnz5n3IeYGu8bHgROoBSiUIfJ4elojrF\n",
       "XZOkgFMJxuxY6a3x+5geR2iDm+pX7X6gxOgew5dyjFJmowxIekPdxxhZb2AYuQwDL0b3KEkmLq5B\n",
       "a3D1npELZJhl9H7/Ha4WeBi4ASzISZxgjEOtI2w6tEQgEUbFM+cQFv4NzFJcn5nHtAe4KzWYEfRP\n",
       "UlIsLHB1xYo3CYrpIyYsVEyh230MIaf/l1j2l1OpzaLUw4YHiJyBZfFfGNqkAAQUFySygSXTbS+4\n",
       "gPGqL2X5q8tdoTlB18S5CYSr6BVHAya4W/ke3rnYTJGnnPTfYeWNoA/SPARd2A5jWxEWJUmvN/EB\n",
       "msHEXWN0wBWOAxRKgZm+8AMuxkQOzgs4gzmo38Go12OhPObJeS5/GP1cLFf1dU7Fy+cLtvtsbts+\n",
       "QCkjir5Kc3Y0D/WmU3Z5dHmIYp9pAnfeTrti9WitySkZp507esLr89Dc/ByO4MFTXmdFPB/oCV8r\n",
       "eF8vF0tJv4LbepGXosp/bPSoX5r3zmk+x0zGryC1/VAq/wbci6EtCnfbNnqf2P1eNY90xCdr9haF\n",
       "Z20BQ4E/RM1sc/gbDuSehhiolhYAAAAASUVORK5CYII=\n",
       "\" style=\"display:inline;vertical-align:middle;\" /></a><br>"
      ],
      "text/plain": [
       "expr: (v , w , x , y , z) in Reals^{5}"
      ]
     },
     "execution_count": 2,
     "metadata": {},
     "output_type": "execute_result"
    }
   ],
   "source": [
    "# build up the expression from sub-expressions\n",
    "expr = InSet([v, w, x, y, z], Exp(Reals, five))"
   ]
  },
  {
   "cell_type": "code",
   "execution_count": 3,
   "metadata": {},
   "outputs": [
    {
     "name": "stdout",
     "output_type": "stream",
     "text": [
      "Passed sanity check: built 'expr' is the same as the stored Expression.\n"
     ]
    }
   ],
   "source": [
    "# check that the built expression is the same as the stored expression\n",
    "%check_expr"
   ]
  },
  {
   "cell_type": "code",
   "execution_count": 4,
   "metadata": {},
   "outputs": [
    {
     "data": {
      "text/html": [
       "<table><tr><th>&nbsp;</th><th>core type</th><th>sub-expressions</th><th>expression</th></tr>\n",
       "<tr><td>0</td><td>Operation</td><td>operator:&nbsp;1<br>operands:&nbsp;2<br></td><td><a class=\"ProveItLink\" href=\"expr.ipynb\"><img src=\"data:image/png;base64,iVBORw0KGgoAAAANSUhEUgAAAJ8AAAAZBAMAAADd3OEWAAAAMFBMVEX////c3NwiIiJERESqqqqY\n",
       "mJh2dnZmZmYQEBDu7u4yMjJUVFTMzMyIiIi6uroAAAAs73DqAAAAAXRSTlMAQObYZgAAAoNJREFU\n",
       "OMutVE1oE0EU/mKS/Wmy20iLP5TSENBDvUTQKlQxJ4WAJEcJFAMegodCEaxYPBTxIGJ1VSjFUipK\n",
       "kIhoFLx4WrAHoYfuRWMp4lqQiIhNlB56Ud/OzHa3QSMrGZiZ996897335s0boIOjvnsEHR1rv6qd\n",
       "Bfz0sbN4+NZhPNTfX6RVt4LaRe2/HGxHltbF4JFcauELP449usbimjeBSnDArlZBug+vsgk8RrcN\n",
       "zQoOGC22Au5E+FYa1zGQgGIEB1Qn+T53PzXoAkpmGmexAnz5n3IeYGu8bHgROoBSiUIfJ4elojrF\n",
       "XZOkgFMJxuxY6a3x+5geR2iDm+pX7X6gxOgew5dyjFJmowxIekPdxxhZb2AYuQwDL0b3KEkmLq5B\n",
       "a3D1npELZJhl9H7/Ha4WeBi4ASzISZxgjEOtI2w6tEQgEUbFM+cQFv4NzFJcn5nHtAe4KzWYEfRP\n",
       "UlIsLHB1xYo3CYrpIyYsVEyh230MIaf/l1j2l1OpzaLUw4YHiJyBZfFfGNqkAAQUFySygSXTbS+4\n",
       "gPGqL2X5q8tdoTlB18S5CYSr6BVHAya4W/ke3rnYTJGnnPTfYeWNoA/SPARd2A5jWxEWJUmvN/EB\n",
       "msHEXWN0wBWOAxRKgZm+8AMuxkQOzgs4gzmo38Go12OhPObJeS5/GP1cLFf1dU7Fy+cLtvtsbts+\n",
       "QCkjir5Kc3Y0D/WmU3Z5dHmIYp9pAnfeTrti9WitySkZp507esLr89Dc/ByO4MFTXmdFPB/oCV8r\n",
       "eF8vF0tJv4LbepGXosp/bPSoX5r3zmk+x0zGryC1/VAq/wbci6EtCnfbNnqf2P1eNY90xCdr9haF\n",
       "Z20BQ4E/RM1sc/gbDuSehhiolhYAAAAASUVORK5CYII=\n",
       "\" style=\"display:inline;vertical-align:middle;\" /></a></td></tr>\n",
       "<tr><td>1</td><td>Literal</td><td></td><td><a class=\"ProveItLink\" href=\"../../../../logic/set_theory/membership/__pv_it/088cbc857536a28d4119ad9639a84270ccb0545d0/expr.ipynb\"><img src=\"data:image/png;base64,iVBORw0KGgoAAAANSUhEUgAAAAwAAAAMBAMAAACkW0HUAAAALVBMVEX///+qqqpmZmZUVFQQEBC6\n",
       "urpERETc3NyYmJjMzMwiIiIyMjKIiIju7u4AAACYsrA9AAAAAXRSTlMAQObYZgAAADxJREFUCNdj\n",
       "YOA9vWrVBgaG2b0MQMCeCyIZ2ArA1DUwyRCyahVIyWQI7xaEYm4AU7xLIdxqTQgtvGvVBgCkcQ7e\n",
       "geM/tQAAAABJRU5ErkJggg==\n",
       "\" style=\"display:inline;vertical-align:middle;\" /></a></td></tr>\n",
       "<tr><td>2</td><td>ExprTuple</td><td>3, 4</td><td><a class=\"ProveItLink\" href=\"../67d419afb004ec36ee3a3349b6c297d6a136bdcd0/expr.ipynb\"><img src=\"data:image/png;base64,iVBORw0KGgoAAAANSUhEUgAAAKQAAAAcBAMAAAAdAglqAAAAMFBMVEX///+qqqp2dnYiIiJERESI\n",
       "iIhmZmYQEBDc3NyYmJgyMjLu7u5UVFTMzMy6uroAAACGxKilAAAAAXRSTlMAQObYZgAAAsZJREFU\n",
       "SMe1VE1oE0EU/rJu0mw2fwheejGXevESKogKQhREBYuL0hSh4lK99dJLpSjqKtbfQqOoYA+yB/Hg\n",
       "b6iFiJcG9aJecvAkhRbEWg81KQpWStX3ZnbTaVqEhnVgZ755M+/b9ztAYGP6+m0EPKp/yj78FhDl\n",
       "1xmaMowS5YAohWkTPL0sBhXLzl4gbBF6y9vPaya4t0JyBa00bwOifc05H6n4aOTHwYen2DiMk6yb\n",
       "jmzCsSacd+soN4QPrQ6eIDVFtEW00ILOJkJ3c4nyEvQXOZzBsAOsK2CShaeboCyplFolh83sNCI5\n",
       "dNGSdJug1NMNlNomLkqjhnfMTHi0ByURY0aGawzI6xe6z+fr4uiCFH45G7Wg2QplnByXI7mAA5yd\n",
       "ApV9Fc9l3u0q9HJoTmAzY2xvyQpIF8I1gaL78yeAkKtQfhpxvE1iEQ9ooRQl0scREv9llCqgQ1zQ\n",
       "iCZU8cW6NMWE+Z7M6atTXt6yox6F6G9spYWSb6KftKRCPyYd2ay0iXsesThleXpD/I/akpXTer0K\n",
       "zTmfEqEFhIt+NLq8/mcPfBq6MOmVd9JuoIzMlhUrH7MamRdxyUvZFy4FOOp7MlxB0Rd3ebL1grdP\n",
       "ieWjI3XKRbzheqD06DZmIbT1MtoRlthwjrHxDGM2p5JRKIM4HbkiHJJyIu73Z3IehzkJ5IiWMy2Y\n",
       "33mXS5zEVYk3FvZiUMJIOflLoo937j6VShjPenWZ3udRUl1WmZkOzFdku3mOa6Gnc6ytIPHYoVEf\n",
       "mnvy8xLZxk8KS4w7uTQvno0O3H/mRUpzkWKLB/xIJJ2l9lCwhFpWFcqGnGlsqpiFeEZ9Agzl0FgO\n",
       "X6OUVoVtYi40Uo47SGTVx+0flO3YrQpNd3XKW/Tt4sz7ZWUph9ZyuCE/pQrjIgLhFa/JTvquMRhc\n",
       "80N0dHWxYcsqC3BcFPONICl78T/GX6pxuuaKYzQyAAAAAElFTkSuQmCC\n",
       "\" style=\"display:inline;vertical-align:middle;\" /></a></td></tr>\n",
       "<tr><td>3</td><td>ExprTuple</td><td>5, 6, 7, 8, 9</td><td><a class=\"ProveItLink\" href=\"../feeb8bffd4bce6989c88b94c9c66a8dd7e1cf9c10/expr.ipynb\"><img src=\"data:image/png;base64,iVBORw0KGgoAAAANSUhEUgAAAG0AAAAVBAMAAAC+p33JAAAAMFBMVEX////c3NwiIiJERESqqqqY\n",
       "mJh2dnZmZmYQEBDu7u4yMjJUVFTMzMyIiIi6uroAAAAs73DqAAAAAXRSTlMAQObYZgAAAchJREFU\n",
       "OMudU88rRFEYPc+bZ+Yx75mSlWRWNjZKskDNig3NY2GhMFFkMTUpowhDU2yGqSkpydtIdiP/gIWd\n",
       "hdkoymTYKBtDLNSQ7/4Y3iws5t3Fveeed853v3vf9wFuh5mr2jLBpsvqj/Ke03TiIkcbMHIufKOA\n",
       "L+3Ctwc8u3lLNYQ4oM9G9JQgduPQbG2dYyV6OrTCEQnQKvIytwotQG0MRzSbRb1d+GIvULOedxED\n",
       "I9YGRyTAvRA0ji92AB4b28CFN4gBzvpD82iw0Ms3EdIOcsQEncKXxj4dbCbwTdiXw4VICClcBcgh\n",
       "JGfyOkzwJbGSZfGLzIdwGreyeD5xA+kDUuV3CKf9JQmfIHxJWpZ+pV4bPVBCMnSJEuBjCUZCIA8X\n",
       "Up5dtHTDPBcSNYs2GCxHYNgoUhqcPmYfOOoHKFHNxixtpnEAHAbZy3X4N9EE/Y0if6gJJSfoZbxY\n",
       "HPmPFsYK/D88Er0ftagGXlm8eD5DG30nAL1vbuZa0pn8WoAjLybZxeoK8AXKl39wNtcvK+mpCgHV\n",
       "mVZ+PFgOn/YHia4P6skKQdTZR//7aiJqxCnQqY/QLDeGs3D/movRnvxqhaCe3UKpvgHvgB9Asm5L\n",
       "toimkwAAAABJRU5ErkJggg==\n",
       "\" style=\"display:inline;vertical-align:middle;\" /></a></td></tr>\n",
       "<tr><td>4</td><td>Operation</td><td>operator:&nbsp;10<br>operands:&nbsp;11<br></td><td><a class=\"ProveItLink\" href=\"../96c4f328f48cb983428485e961099c2cf6f9f9a50/expr.ipynb\"><img src=\"data:image/png;base64,iVBORw0KGgoAAAANSUhEUgAAABcAAAAUBAMAAACUkLs9AAAAMFBMVEX///8iIiK6urp2dnbu7u5m\n",
       "ZmaqqqrMzMxUVFTc3NyIiIgQEBBEREQyMjKYmJgAAAA9nvXMAAAAAXRSTlMAQObYZgAAAJFJREFU\n",
       "GNNjYIAC1SmvGOBA/38DgqOniWAzKCGxGVRXhSA4MxlyGRje/jl/d+8CENe/gIHhwAyGmtwJDNcZ\n",
       "+BWAnKkMPJ4HGLYzzJ8A5jAXHGAwYVjBAOcwmxpAOBxAZRAA5Ci+nQDjzBaUTWCAy6jyOCA4rOoN\n",
       "CA7DlXVInAqOAgSHOeEkhA106HGGO/fB5gEAccEyYDnxx18AAAAASUVORK5CYII=\n",
       "\" style=\"display:inline;vertical-align:middle;\" /></a></td></tr>\n",
       "<tr><td>5</td><td>Variable</td><td></td><td><a class=\"ProveItLink\" href=\"../../../../__pv_it/5811dd9d8dc299df1f3b81f9eaa4740e636c675a0/expr.ipynb\"><img src=\"data:image/png;base64,iVBORw0KGgoAAAANSUhEUgAAAAoAAAAJBAMAAAD5iKAgAAAALVBMVEX///+YmJhEREQyMjKqqqrM\n",
       "zMxUVFQiIiK6urqIiIgQEBBmZmZ2dnbu7u4AAABVoMxuAAAAAXRSTlMAQObYZgAAAD9JREFUCNdj\n",
       "4D19gHclAw/HA94yhhDuAgZvhgtcExhCGBj8LjDMZWDYzMBwgIFBm4EjgIHhEMNNBgaGaycFGACC\n",
       "yA2Zs1YJSAAAAABJRU5ErkJggg==\n",
       "\" style=\"display:inline;vertical-align:middle;\" /></a></td></tr>\n",
       "<tr><td>6</td><td>Variable</td><td></td><td><a class=\"ProveItLink\" href=\"../../../../__pv_it/75e452494c4801e076f090988fd69716611d31190/expr.ipynb\"><img src=\"data:image/png;base64,iVBORw0KGgoAAAANSUhEUgAAAA8AAAAJBAMAAAAfoWtkAAAAMFBMVEX///+IiIgiIiLMzMyqqqpU\n",
       "VFRERES6urrc3NwQEBAyMjKYmJhmZmZ2dnbu7u4AAADdI688AAAAAXRSTlMAQObYZgAAAFRJREFU\n",
       "CNdj4LtzgWEXw84GBh72DwypDP4ODCY8Cgy/GdgMGB5wCjD/YOBlYGCof8A4Acw4xcAWwNACZKQy\n",
       "MF1gEAAyrjFYHuDYAGTwXJTLlWZgAAAtGRIpnQ418wAAAABJRU5ErkJggg==\n",
       "\" style=\"display:inline;vertical-align:middle;\" /></a></td></tr>\n",
       "<tr><td>7</td><td>Variable</td><td></td><td><a class=\"ProveItLink\" href=\"../../../../__pv_it/530be409e3083890784cf1d7b28c9e67e90af9360/expr.ipynb\"><img src=\"data:image/png;base64,iVBORw0KGgoAAAANSUhEUgAAAAsAAAAJBAMAAAAWSsseAAAAKlBMVEX///9ERETMzMwQEBAiIiKY\n",
       "mJju7u5mZmaqqqpUVFSIiIh2dnbc3NwAAAA/vyDhAAAAAXRSTlMAQObYZgAAAENJREFUCNdjYDi9\n",
       "8sTyBQxsG1hdmR0YuBm4LnAoMLAxcAowgADzAjB1VoEhgYH1wFoGrgSG3gBhhlMMDImrs3cFMAAA\n",
       "t0YN+iTRa+sAAAAASUVORK5CYII=\n",
       "\" style=\"display:inline;vertical-align:middle;\" /></a></td></tr>\n",
       "<tr><td>8</td><td>Variable</td><td></td><td><a class=\"ProveItLink\" href=\"../../../../__pv_it/f8b9edf8e16034727f0aad55bb83e392c3db40d40/expr.ipynb\"><img src=\"data:image/png;base64,iVBORw0KGgoAAAANSUhEUgAAAAsAAAANBAMAAACN24kIAAAAMFBMVEX///+YmJhUVFQyMjIQEBBE\n",
       "REQiIiKqqqrMzMyIiIi6urrc3NxmZmZ2dnbu7u4AAADXeCicAAAAAXRSTlMAQObYZgAAAFhJREFU\n",
       "CNdj4LtzgWH/AwZerg8M8xkY2nkSGEIZGB6wTGD4ycDAUP+A4weQOszA6QCkbBhYFYDUIYb1AkDq\n",
       "6czzGxhA4BoQMyXwuQMptgusF4AU+8xTQBIAUqMVoSp/SLMAAAAASUVORK5CYII=\n",
       "\" style=\"display:inline;vertical-align:middle;\" /></a></td></tr>\n",
       "<tr><td>9</td><td>Variable</td><td></td><td><a class=\"ProveItLink\" href=\"../../../../__pv_it/251502494639118b4892de8e9d720a5fcce840e10/expr.ipynb\"><img src=\"data:image/png;base64,iVBORw0KGgoAAAANSUhEUgAAAAoAAAAJBAMAAAD5iKAgAAAALVBMVEX///8yMjLMzMx2dnaqqqpU\n",
       "VFTu7u5mZmaYmJhERESIiIjc3NwQEBC6uroAAAB+iRisAAAAAXRSTlMAQObYZgAAADlJREFUCNdj\n",
       "YOA9c2EXA8POrvIJDAwJDKkJDAwM3AFAguE6iGAxAJHODAwBDEwSFY0XGNgZ+o4wAABKtAsIcBKm\n",
       "agAAAABJRU5ErkJggg==\n",
       "\" style=\"display:inline;vertical-align:middle;\" /></a></td></tr>\n",
       "<tr><td>10</td><td>Literal</td><td></td><td><a class=\"ProveItLink\" href=\"../../../exponentiation/__pv_it/deb2bf23cbccdd6e6791e1b35b5b9794ce12dbd50/expr.ipynb\"><img src=\"data:image/png;base64,iVBORw0KGgoAAAANSUhEUgAAACgAAAASBAMAAADbMYGVAAAAMFBMVEX///8QEBAiIiKYmJjc3Nzu\n",
       "7u7MzMx2dnZmZma6urpERESqqqoyMjJUVFSIiIgAAAAoDOMTAAAAAXRSTlMAQObYZgAAAOBJREFU\n",
       "GNNjYGB4+//u3Tt/GNAASGAXmhjnPyDBgSbI/g1IxKEJ8nxgYGdgQRPkX8BgDKRY6q7s62OYvmze\n",
       "2wAgb/7ZO1+AVDiDkYEQQ0HTBr4DQF59AgOIKmB4z7CNbcNZBu6vQN55kEACQwDDLQYGVobfDHwg\n",
       "fb8YGBxYHwAZciD3fWXg+gB1JjvQcJZvQIXsCgz8F6DO9GBgMOH7wPCUgaeBwd4B7EwGNjUG7s9c\n",
       "AiwPgO5jkWRgiF3/9+5dfQUG1nWl5Y+B7pv+1gE9bBhqGLCAE1jEWH9jEbT5A3IwAC4sP/1L6Qlu\n",
       "AAAAAElFTkSuQmCC\n",
       "\" style=\"display:inline;vertical-align:middle;\" /></a></td></tr>\n",
       "<tr><td>11</td><td>ExprTuple</td><td>12, 13</td><td><a class=\"ProveItLink\" href=\"../f363e532843c84cc3af67cc8fcfb14cfff8ae5270/expr.ipynb\"><img src=\"data:image/png;base64,iVBORw0KGgoAAAANSUhEUgAAAC8AAAAVBAMAAAAk6KpUAAAAMFBMVEX////c3NwiIiJERESqqqqY\n",
       "mJh2dnZmZmYQEBDu7u4yMjJUVFTMzMyIiIi6uroAAAAs73DqAAAAAXRSTlMAQObYZgAAARlJREFU\n",
       "KM9jYMAJ+C5gisWBiNMMUZ/tV3XBpLkiGVMY2A8AWSsZGAykGQ57CUAkOP7/T2BgWMDAwAtUaiDO\n",
       "wDzRAKqjOgdIhgFVTABLsB2ASnCDyRkMDK8YsEkwOzCUQSS4YUZx3739gIGBrYBhKUTiURTUcuYJ\n",
       "nP8YGFgWMPSBJCSUtBwQvtgB9FwDwz+wjufMExAS+QcYeD5AJdjfbICKGgElHoAkWiB2rLwKlWhi\n",
       "YKgXABllCpE4zX2AgRMkUcDAsIqBgXUBQzrUHw6GDPMVgGxxBpZGsHMfMYAC0YZh8XqHGR+BEjzl\n",
       "u4EO53rAwCGAcM5DOAsYJKwJCIkAOCsXEuwYEpzAYGeQhovzwlncIPMZsUTtHQYGAI9aQ2NjQ4qv\n",
       "AAAAAElFTkSuQmCC\n",
       "\" style=\"display:inline;vertical-align:middle;\" /></a></td></tr>\n",
       "<tr><td>12</td><td>Literal</td><td></td><td><a class=\"ProveItLink\" href=\"../../../sets/real/__pv_it/9e7645ee1117062e179dd6264898f99ed95b157c0/expr.ipynb\"><img src=\"data:image/png;base64,iVBORw0KGgoAAAANSUhEUgAAAA8AAAAOBAMAAAACpFvcAAAAMFBMVEX///8iIiK6urp2dnbu7u5m\n",
       "ZmaqqqrMzMxUVFTc3NyIiIgQEBBEREQyMjKYmJgAAAA9nvXMAAAAAXRSTlMAQObYZgAAAFJJREFU\n",
       "CNdjePvn/N29CxiA4MAMhprcCSDGVAYezwMQBnMBOoMDJqX4Fqx4tqBsAlj7VFUeBwiDVb0BwmC4\n",
       "sg7KqOAogJqTcJKBAWjpcYY79xMAyqEnfsw4ApEAAAAASUVORK5CYII=\n",
       "\" style=\"display:inline;vertical-align:middle;\" /></a></td></tr>\n",
       "<tr><td>13</td><td>Literal</td><td></td><td><a class=\"ProveItLink\" href=\"../../../numeral/__pv_it/aaeeaca7d86eb2b7cdc49e25c3108b81b52ec5400/expr.ipynb\"><img src=\"data:image/png;base64,iVBORw0KGgoAAAANSUhEUgAAAAkAAAAOBAMAAAAPuiubAAAAMFBMVEX///8iIiJERES6urqIiIjM\n",
       "zMxUVFRmZmYQEBCqqqp2dnbc3Nzu7u6YmJgyMjIAAADYGhJvAAAAAXRSTlMAQObYZgAAAE1JREFU\n",
       "CNdj4LvDvZKBgeP//wUMDHxlSxkYGNgYGBCki5sBAwPTAZ7PYG4GmFwfwKAIJA0YGhkY6jcwFDAw\n",
       "vGNg2M7A2c3AwFqetoEBAKS8EE1WXEJLAAAAAElFTkSuQmCC\n",
       "\" style=\"display:inline;vertical-align:middle;\" /></a></td></tr>\n",
       "</table>\n"
      ],
      "text/plain": [
       "0. (v , w , x , y , z) in Reals^{5}\n",
       "   core type: Operation\n",
       "   operator: 1\n",
       "   operands: 2\n",
       "1. in\n",
       "   core type: Literal\n",
       "   sub-expressions: \n",
       "2. ((v , w , x , y , z) , Reals^{5})\n",
       "   core type: ExprTuple\n",
       "   sub-expressions: 3, 4\n",
       "3. (v , w , x , y , z)\n",
       "   core type: ExprTuple\n",
       "   sub-expressions: 5, 6, 7, 8, 9\n",
       "4. Reals^{5}\n",
       "   core type: Operation\n",
       "   operator: 10\n",
       "   operands: 11\n",
       "5. v\n",
       "   core type: Variable\n",
       "   sub-expressions: \n",
       "6. w\n",
       "   core type: Variable\n",
       "   sub-expressions: \n",
       "7. x\n",
       "   core type: Variable\n",
       "   sub-expressions: \n",
       "8. y\n",
       "   core type: Variable\n",
       "   sub-expressions: \n",
       "9. z\n",
       "   core type: Variable\n",
       "   sub-expressions: \n",
       "10. Exp\n",
       "    core type: Literal\n",
       "    sub-expressions: \n",
       "11. (Reals , 5)\n",
       "    core type: ExprTuple\n",
       "    sub-expressions: 12, 13\n",
       "12. Reals\n",
       "    core type: Literal\n",
       "    sub-expressions: \n",
       "13. 5\n",
       "    core type: Literal\n",
       "    sub-expressions: "
      ]
     },
     "execution_count": 4,
     "metadata": {},
     "output_type": "execute_result"
    }
   ],
   "source": [
    "# display the expression information\n",
    "expr.exprInfo()"
   ]
  },
  {
   "cell_type": "code",
   "execution_count": null,
   "metadata": {},
   "outputs": [],
   "source": []
  }
 ],
 "metadata": {
  "kernelspec": {
   "display_name": "Python 3",
   "language": "python",
   "name": "python3"
  }
 },
 "nbformat": 4,
 "nbformat_minor": 0
}
