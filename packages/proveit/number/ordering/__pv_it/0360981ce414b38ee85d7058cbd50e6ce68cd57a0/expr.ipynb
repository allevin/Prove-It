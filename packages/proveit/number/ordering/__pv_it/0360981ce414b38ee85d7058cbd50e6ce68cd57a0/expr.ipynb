{
 "cells": [
  {
   "cell_type": "markdown",
   "metadata": {},
   "source": [
    "Expression of type <a class=\"ProveItLink\" href=\"../../../../../../doc/html/api/proveit.logic.Iff.html\">Iff</a>\n",
    "=======================\n",
    "# from context <a class=\"ProveItLink\" href=\"../../_context_.ipynb\">proveit.number.ordering</a>"
   ]
  },
  {
   "cell_type": "code",
   "execution_count": 1,
   "metadata": {},
   "outputs": [],
   "source": [
    "# import Expression classes needed to build the expression\n",
    "from proveit._common_ import x, y\n",
    "from proveit.logic import Iff\n",
    "from proveit.number import Greater, Less"
   ]
  },
  {
   "cell_type": "code",
   "execution_count": 2,
   "metadata": {},
   "outputs": [
    {
     "data": {
      "text/html": [
       "<strong id=\"expr\">expr:</strong> <a class=\"ProveItLink\" href=\"expr.ipynb\"><img src=\"data:image/png;base64,iVBORw0KGgoAAAANSUhEUgAAAKIAAAAVBAMAAAA3EyjlAAAAMFBMVEX////c3NwiIiJERESqqqqY\n",
       "mJh2dnZmZmYQEBDu7u4yMjJUVFTMzMyIiIi6uroAAAAs73DqAAAAAXRSTlMAQObYZgAAAmpJREFU\n",
       "OMutVU1oE0EU/takzW6abHMQhZbSWEg8iUqqCKLkHJEGDx56WnIJHoTaQw8qtYIHRZRgIRRByEER\n",
       "EUr0IohIQE/2kODB+ENo8BQC0nrwUFDxzc6b3ZjOrhfnMPvmvfm+N+9nZoH/P+xWoGmkq1V/Qzhi\n",
       "I8TbVZ0yUf8H4kmIPa5VVsIRyV1B72/4QTgaUMcXjVe7wnZgDnvcWPdla4WFGgW7wPKtgc1vTg+h\n",
       "CdEfUvX/cjsrP24gR7mStcENkw+H8LNYonnfl71tDr5wiX2VHUxXUJard2KakHKMMlFdgrEjl9UM\n",
       "UzFJGY8I7YxkzLSrfn+B7aP2NjbJgazuzRkah2UN40XA2UJym3c+yLp5UyQF3CU0maNuOUpemd7G\n",
       "0sgBPXfxWea677an2UUiv4jIEa8YB4VZkfTwm+gxJs1WzmvpitnCL6Ap5DUGG7fFPN4lwB2Me84T\n",
       "L1PwSZqCkfy2lDGv9s1VEj+Z0XohVRMtZkR0B03VY3aOJUnSxA3xmW5ABmYsFnnjZSRXVNTRGXcc\n",
       "kEByGqvhI++LPk2xJEl6OEaJSG0iyW1plT5J4TEidNvm5eKMmO5JaIR8xhdwkpOYZaAimRf9MVc8\n",
       "gSmvoc7Jcl/BVhGqe2IiGa+5C6jTY3X7h+ydQ+qCKJIyvgKrH6oXi36PFty8rHau0Zn4/ljU1QbX\n",
       "x6YWsU61v7tJyngoRbIOMxV06UsDt5CcWOo0192TpvUgQmgfA2AsbVHNRnVv53ngOdbyekaB0L9m\n",
       "e5wIubof8JplcTwgMIGY1FqinWWan+lMRh1n290ARoEwgv8KyYZWPYUwxB9B95W6kBjQLwAAAABJ\n",
       "RU5ErkJggg==\n",
       "\" style=\"display:inline;vertical-align:middle;\" /></a><br>"
      ],
      "text/plain": [
       "expr: (x < y) <=> (y > x)"
      ]
     },
     "execution_count": 2,
     "metadata": {},
     "output_type": "execute_result"
    }
   ],
   "source": [
    "# build up the expression from sub-expressions\n",
    "expr = Iff(Less(x, y), Greater(y, x))"
   ]
  },
  {
   "cell_type": "code",
   "execution_count": 3,
   "metadata": {},
   "outputs": [
    {
     "name": "stdout",
     "output_type": "stream",
     "text": [
      "Passed sanity check: built 'expr' is the same as the stored Expression.\n"
     ]
    }
   ],
   "source": [
    "# check that the built expression is the same as the stored expression\n",
    "%check_expr"
   ]
  },
  {
   "cell_type": "code",
   "execution_count": 4,
   "metadata": {},
   "outputs": [
    {
     "data": {
      "text/html": [
       "<table><tr><th>&nbsp;</th><th>core type</th><th>sub-expressions</th><th>expression</th></tr>\n",
       "<tr><td>0</td><td>Operation</td><td>operator:&nbsp;1<br>operands:&nbsp;2<br></td><td><a class=\"ProveItLink\" href=\"expr.ipynb\"><img src=\"data:image/png;base64,iVBORw0KGgoAAAANSUhEUgAAAKIAAAAVBAMAAAA3EyjlAAAAMFBMVEX////c3NwiIiJERESqqqqY\n",
       "mJh2dnZmZmYQEBDu7u4yMjJUVFTMzMyIiIi6uroAAAAs73DqAAAAAXRSTlMAQObYZgAAAmpJREFU\n",
       "OMutVU1oE0EU/takzW6abHMQhZbSWEg8iUqqCKLkHJEGDx56WnIJHoTaQw8qtYIHRZRgIRRByEER\n",
       "EUr0IohIQE/2kODB+ENo8BQC0nrwUFDxzc6b3ZjOrhfnMPvmvfm+N+9nZoH/P+xWoGmkq1V/Qzhi\n",
       "I8TbVZ0yUf8H4kmIPa5VVsIRyV1B72/4QTgaUMcXjVe7wnZgDnvcWPdla4WFGgW7wPKtgc1vTg+h\n",
       "CdEfUvX/cjsrP24gR7mStcENkw+H8LNYonnfl71tDr5wiX2VHUxXUJard2KakHKMMlFdgrEjl9UM\n",
       "UzFJGY8I7YxkzLSrfn+B7aP2NjbJgazuzRkah2UN40XA2UJym3c+yLp5UyQF3CU0maNuOUpemd7G\n",
       "0sgBPXfxWea677an2UUiv4jIEa8YB4VZkfTwm+gxJs1WzmvpitnCL6Ap5DUGG7fFPN4lwB2Me84T\n",
       "L1PwSZqCkfy2lDGv9s1VEj+Z0XohVRMtZkR0B03VY3aOJUnSxA3xmW5ABmYsFnnjZSRXVNTRGXcc\n",
       "kEByGqvhI++LPk2xJEl6OEaJSG0iyW1plT5J4TEidNvm5eKMmO5JaIR8xhdwkpOYZaAimRf9MVc8\n",
       "gSmvoc7Jcl/BVhGqe2IiGa+5C6jTY3X7h+ydQ+qCKJIyvgKrH6oXi36PFty8rHau0Zn4/ljU1QbX\n",
       "x6YWsU61v7tJyngoRbIOMxV06UsDt5CcWOo0192TpvUgQmgfA2AsbVHNRnVv53ngOdbyekaB0L9m\n",
       "e5wIubof8JplcTwgMIGY1FqinWWan+lMRh1n290ARoEwgv8KyYZWPYUwxB9B95W6kBjQLwAAAABJ\n",
       "RU5ErkJggg==\n",
       "\" style=\"display:inline;vertical-align:middle;\" /></a></td></tr>\n",
       "<tr><td>1</td><td>Literal</td><td></td><td><a class=\"ProveItLink\" href=\"../../../../logic/boolean/implication/__pv_it/9817cf888369307f52607b98db5e99fdc17b089e0/expr.ipynb\"><img src=\"data:image/png;base64,iVBORw0KGgoAAAANSUhEUgAAABQAAAANBAMAAABbflNtAAAAKlBMVEX///+qqqpUVFS6urru7u4i\n",
       "IiIQEBDc3NxERESIiIhmZmbMzMwyMjIAAAAneYQxAAAAAXRSTlMAQObYZgAAAFpJREFUCNdjYEAB\n",
       "BxgYuBeAWZwTgEQ7mLkHRNSACO60UCCIPQJkznEAy9kYMLg1QPSyJzGwaEGYNUDNjKFgEA7iC4EI\n",
       "1wIQySUAJJTBqliAtrFDNW8AcoEmAgB4jw/0RzyxkgAAAABJRU5ErkJggg==\n",
       "\" style=\"display:inline;vertical-align:middle;\" /></a></td></tr>\n",
       "<tr><td>2</td><td>ExprTuple</td><td>3, 4</td><td><a class=\"ProveItLink\" href=\"../9157b8cdedd59f70b5d1ac25a0417516ea12c73e0/expr.ipynb\"><img src=\"data:image/png;base64,iVBORw0KGgoAAAANSUhEUgAAAHoAAAAVBAMAAAB71edYAAAAMFBMVEX////c3NwiIiJERESqqqqY\n",
       "mJh2dnZmZmYQEBDu7u4yMjJUVFTMzMyIiIi6uroAAAAs73DqAAAAAXRSTlMAQObYZgAAAZhJREFU\n",
       "OMulVDtIA0EQfcFLche9eIVoIaJNYhUQ/CCIkloQU1ulSyWIRaoUFrZ+QDhEECyUIBFRS7E4sEyR\n",
       "q4xgYbAKNn7AIo24e/uJWfeac+D2HjP7ZmfezR7wP0v7EYnxFlnqkc+tkOc8MjsF2GrhsYp+b+zu\n",
       "T+lFmPu9roHbVshR90uKw9rCq6JhzQutdPRUccygTNbhp6Ema8CoOizglhHrKAhuhtM4oYQzUkEx\n",
       "njEnqNfOij6Kb7DfFQQcs7ggLGMXSJCwQQtO5GT3+U30TfWiQKhJSheENr5JKvSz8IHUxcIOBv1e\n",
       "xDR10CU0KBswebgudTE6aHgKIppOc8QIDWzT17gH1vCI0CV5gkcVwahxTTmhjVnSjPMMm8vl5hhI\n",
       "bWABQUqGgqaFpoKwRlTHamEeY1IXtiV5lf6C9SnQ78RdQgkvRKwHd70gR8C4CMRabH7A2nM4opOa\n",
       "kVsE4RKmEzJZCfJB045AOiOTSkZdZzc4zJM2JNLm98NuaBZzYGyGdHZEZ18bWWnSq+ZLpLNrqkbU\n",
       "P5Pt4QcUGHBUy7yEYQAAAABJRU5ErkJggg==\n",
       "\" style=\"display:inline;vertical-align:middle;\" /></a></td></tr>\n",
       "<tr><td>3</td><td>Operation</td><td>operator:&nbsp;5<br>operands:&nbsp;6<br></td><td><a class=\"ProveItLink\" href=\"../71bb95075d16768542ac9a2538416ab5fda1d5010/expr.ipynb\"><img src=\"data:image/png;base64,iVBORw0KGgoAAAANSUhEUgAAADMAAAAQBAMAAABJt1qBAAAAMFBMVEX///+6uroyMjJERETMzMwQ\n",
       "EBAiIiKYmJju7u5mZmaqqqpUVFSIiIh2dnbc3NwAAAAWgogoAAAAAXRSTlMAQObYZgAAAMhJREFU\n",
       "GNNjYEAFLx0YcABvRVwyQltQuG9Pvzp5AMJcNA9Cc9y8wPC+gYHjAns6awJY5NgNqGpexg8M54EU\n",
       "A88HLrDd1w7ADPLiTGAwBmpm4DaAmGIsAJNqYD3A8AfEYIWqZtm0ACa3voHlC4h+78DQABbgm1YA\n",
       "lZrEwBPAwMD+4DwDTwPUZddOQBiaDMwbgHoLTBnewH1SBnHkbAZ5oAHNZ3vvFCB8uQjs2OYz8x/g\n",
       "ChaGazjEuRM4onBIsV1gvoBDiuvMRCAJANSaM5a+pyQLAAAAAElFTkSuQmCC\n",
       "\" style=\"display:inline;vertical-align:middle;\" /></a></td></tr>\n",
       "<tr><td>4</td><td>Operation</td><td>operator:&nbsp;7<br>operands:&nbsp;8<br></td><td><a class=\"ProveItLink\" href=\"../fedfbb7ca0a9f578e01917a5ce7bef0d1f8bcd140/expr.ipynb\"><img src=\"data:image/png;base64,iVBORw0KGgoAAAANSUhEUgAAADIAAAAQBAMAAACmdTG/AAAAMFBMVEX///+YmJhUVFQyMjIQEBBE\n",
       "REQiIiKqqqrMzMyIiIi6urrc3NxmZmZ2dnbu7u4AAADXeCicAAAAAXRSTlMAQObYZgAAAMFJREFU\n",
       "GNNjYICBTQ0MOABH6AJcUtzKBSh8vjsXGPY/gDCvCUDV3NSuPMnAy/WBYT5M1bR7YPotg5iAG0M7\n",
       "TwJDKNwEsXMg8gJQbQXDA5YJDD/hMk3WIPIBgyqIqn/A8QMmsTQCyvAEEYcZOB2g/GJtmDN/MPAx\n",
       "MNgwsCpALbkHlZDm/MAwj4HhEMN6AYib50El2D+yOnBPYGB4OvP8BhB/mwDci5H37k4Es65hDxOm\n",
       "BD537DJsF1gvYJdhn3kKuwQAODUvic93v7AAAAAASUVORK5CYII=\n",
       "\" style=\"display:inline;vertical-align:middle;\" /></a></td></tr>\n",
       "<tr><td>5</td><td>Literal</td><td></td><td><a class=\"ProveItLink\" href=\"../7c444b9b2efa607ed6397b492680dde2810212f00/expr.ipynb\"><img src=\"data:image/png;base64,iVBORw0KGgoAAAANSUhEUgAAAA4AAAAMBAMAAACgrpHpAAAALVBMVEX///+YmJhERETu7u52dnYi\n",
       "IiKIiIiqqqq6uroyMjJUVFTMzMxmZmbc3NwAAADmAst+AAAAAXRSTlMAQObYZgAAAD5JREFUCNdj\n",
       "YAAB3tNgintlA4jimLUBRLHPuQCi2EIMQBRLGFgJg5EGhGbYNR3KuBMIZZiEGUAYjCFQBvtsABzC\n",
       "Cm98G6SsAAAAAElFTkSuQmCC\n",
       "\" style=\"display:inline;vertical-align:middle;\" /></a></td></tr>\n",
       "<tr><td>6</td><td>ExprTuple</td><td>10, 9</td><td><a class=\"ProveItLink\" href=\"../a6a2ac9310c73e21661c7634808321702fb219240/expr.ipynb\"><img src=\"data:image/png;base64,iVBORw0KGgoAAAANSUhEUgAAACwAAAAVBAMAAADP3xFXAAAAMFBMVEX////c3NwiIiJERESqqqqY\n",
       "mJh2dnZmZmYQEBDu7u4yMjJUVFTMzMyIiIi6uroAAAAs73DqAAAAAXRSTlMAQObYZgAAAQtJREFU\n",
       "GNNjYMAB+C6gi7A+ABKnMVXWAPFKTGEuBgbeC5jCrAkMHBMwhTkbGF5hc4YJQxmQFLstch1i1rQy\n",
       "BsafDAzpDEuBehJYVTkUwMIJ7xl4PzAweDH0MTCwAZksB0CiPA5FDMwGDAwvGP4BVTNwG0DtYuhl\n",
       "4Acadx4kzMDAAXMly0+G8wdAwi0gnvwBBog72Rcw3GAAGWIKdL3AfQbeCWAJrgIGayAVBXQLg3+A\n",
       "BYMsA+cnkOoNfF8ZQA58xMAw+dq03AAGzn4BoJ221z8ChdcxcAjAQxjMYlMAex4YLLAAAuJNDDMc\n",
       "gFIXkAIWJKzGYAYkZwGxNEwY5Hbf66CY2QjEjBgBznuAAQAt5DtyKXSr1gAAAABJRU5ErkJggg==\n",
       "\" style=\"display:inline;vertical-align:middle;\" /></a></td></tr>\n",
       "<tr><td>7</td><td>Literal</td><td></td><td><a class=\"ProveItLink\" href=\"../fed4085ae483b560677c9d938187885e1d910a490/expr.ipynb\"><img src=\"data:image/png;base64,iVBORw0KGgoAAAANSUhEUgAAAA4AAAAMBAMAAACgrpHpAAAALVBMVEX///9mZmaIiIiYmJgiIiJ2\n",
       "dnbu7u6qqqoyMjK6urpERETMzMxUVFTc3NwAAADHHImEAAAAAXRSTlMAQObYZgAAADlJREFUCNdj\n",
       "uLOBAQy4V02AMHhPFEAYbCEGUIZKGITBYCIGoff0gqlZq8FUxVmIZBhElxqYdwWiGQBNjQtMyuln\n",
       "xAAAAABJRU5ErkJggg==\n",
       "\" style=\"display:inline;vertical-align:middle;\" /></a></td></tr>\n",
       "<tr><td>8</td><td>ExprTuple</td><td>9, 10</td><td><a class=\"ProveItLink\" href=\"../470bbc9880f0fcda6ab2160544dedf05732e41640/expr.ipynb\"><img src=\"data:image/png;base64,iVBORw0KGgoAAAANSUhEUgAAACwAAAAVBAMAAADP3xFXAAAAMFBMVEX////c3NwiIiJERESqqqqY\n",
       "mJh2dnZmZmYQEBDu7u4yMjJUVFTMzMyIiIi6uroAAAAs73DqAAAAAXRSTlMAQObYZgAAAQdJREFU\n",
       "GNN1kLtKA0EUQI8mu5kYJ2whNiLZxl5QwW+wydZWg00qWwsVTWEtC0IINlYiNqJ/sIWdhVOZIoSo\n",
       "ldgYeyPecYOvMQP3wZn7hjGvav+S4F7UjR+5K3Lu4ynQ1seBQaU+Ljd5/m+MZbbks2Go5Umz3ZmO\n",
       "VG1wCmF1QD/PNsGCimGNQ7guxSx94hA9KGbwxDukyjLMo6ksOnvrMPV0+m3UTNkcH4jeRjdHuJaR\n",
       "uiIr4p9RuJQCskfURwtel1lgh5eEE5mgnqwyjxvwUfRRbz+i/SrOXWszEXCBilzJDZGHn8vLWSpx\n",
       "2TVOvnBo3WEnTcH8wscicxR7e2L196WuRCa8g+uMDxGWOvpEaKwNAAAAAElFTkSuQmCC\n",
       "\" style=\"display:inline;vertical-align:middle;\" /></a></td></tr>\n",
       "<tr><td>9</td><td>Variable</td><td></td><td><a class=\"ProveItLink\" href=\"../../../../__pv_it/f8b9edf8e16034727f0aad55bb83e392c3db40d40/expr.ipynb\"><img src=\"data:image/png;base64,iVBORw0KGgoAAAANSUhEUgAAAAsAAAANBAMAAACN24kIAAAAMFBMVEX///+YmJhUVFQyMjIQEBBE\n",
       "REQiIiKqqqrMzMyIiIi6urrc3NxmZmZ2dnbu7u4AAADXeCicAAAAAXRSTlMAQObYZgAAAFhJREFU\n",
       "CNdj4LtzgWH/AwZerg8M8xkY2nkSGEIZGB6wTGD4ycDAUP+A4weQOszA6QCkbBhYFYDUIYb1AkDq\n",
       "6czzGxhA4BoQMyXwuQMptgusF4AU+8xTQBIAUqMVoSp/SLMAAAAASUVORK5CYII=\n",
       "\" style=\"display:inline;vertical-align:middle;\" /></a></td></tr>\n",
       "<tr><td>10</td><td>Variable</td><td></td><td><a class=\"ProveItLink\" href=\"../../../../__pv_it/530be409e3083890784cf1d7b28c9e67e90af9360/expr.ipynb\"><img src=\"data:image/png;base64,iVBORw0KGgoAAAANSUhEUgAAAAsAAAAJBAMAAAAWSsseAAAAKlBMVEX///9ERETMzMwQEBAiIiKY\n",
       "mJju7u5mZmaqqqpUVFSIiIh2dnbc3NwAAAA/vyDhAAAAAXRSTlMAQObYZgAAAENJREFUCNdjYDi9\n",
       "8sTyBQxsG1hdmR0YuBm4LnAoMLAxcAowgADzAjB1VoEhgYH1wFoGrgSG3gBhhlMMDImrs3cFMAAA\n",
       "t0YN+iTRa+sAAAAASUVORK5CYII=\n",
       "\" style=\"display:inline;vertical-align:middle;\" /></a></td></tr>\n",
       "</table>\n"
      ],
      "text/plain": [
       "0. (x < y) <=> (y > x)\n",
       "   core type: Operation\n",
       "   operator: 1\n",
       "   operands: 2\n",
       "1. <=>\n",
       "   core type: Literal\n",
       "   sub-expressions: \n",
       "2. (x < y , y > x)\n",
       "   core type: ExprTuple\n",
       "   sub-expressions: 3, 4\n",
       "3. x < y\n",
       "   core type: Operation\n",
       "   operator: 5\n",
       "   operands: 6\n",
       "4. y > x\n",
       "   core type: Operation\n",
       "   operator: 7\n",
       "   operands: 8\n",
       "5. <\n",
       "   core type: Literal\n",
       "   sub-expressions: \n",
       "6. (x , y)\n",
       "   core type: ExprTuple\n",
       "   sub-expressions: 10, 9\n",
       "7. >\n",
       "   core type: Literal\n",
       "   sub-expressions: \n",
       "8. (y , x)\n",
       "   core type: ExprTuple\n",
       "   sub-expressions: 9, 10\n",
       "9. y\n",
       "   core type: Variable\n",
       "   sub-expressions: \n",
       "10. x\n",
       "    core type: Variable\n",
       "    sub-expressions: "
      ]
     },
     "execution_count": 4,
     "metadata": {},
     "output_type": "execute_result"
    }
   ],
   "source": [
    "# display the expression information\n",
    "expr.exprInfo()"
   ]
  },
  {
   "cell_type": "code",
   "execution_count": null,
   "metadata": {},
   "outputs": [],
   "source": []
  }
 ],
 "metadata": {
  "kernelspec": {
   "display_name": "Python 3",
   "language": "python",
   "name": "python3"
  }
 },
 "nbformat": 4,
 "nbformat_minor": 0
}
