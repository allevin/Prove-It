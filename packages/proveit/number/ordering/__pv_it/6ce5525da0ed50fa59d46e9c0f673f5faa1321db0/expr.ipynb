{
 "cells": [
  {
   "cell_type": "markdown",
   "metadata": {},
   "source": [
    "Expression of type <a class=\"ProveItLink\" href=\"../../../../../../doc/html/api/proveit.logic.Forall.html\">Forall</a>\n",
    "=======================\n",
    "# from context <a class=\"ProveItLink\" href=\"../../_context_.ipynb\">proveit.number.ordering</a>"
   ]
  },
  {
   "cell_type": "code",
   "execution_count": 1,
   "metadata": {},
   "outputs": [],
   "source": [
    "# import Expression classes needed to build the expression\n",
    "from proveit._common_ import x, y, z\n",
    "from proveit.logic import Forall\n",
    "from proveit.number import LessEq"
   ]
  },
  {
   "cell_type": "code",
   "execution_count": 2,
   "metadata": {},
   "outputs": [
    {
     "data": {
      "text/html": [
       "<strong id=\"expr\">expr:</strong> <a class=\"ProveItLink\" href=\"expr.ipynb\"><img src=\"data:image/png;base64,iVBORw0KGgoAAAANSUhEUgAAAJEAAAAXBAMAAAD5H7DVAAAAMFBMVEX///8QEBC6urrMzMxUVFRm\n",
       "ZmZERETc3NwyMjKqqqp2dnaIiIiYmJgiIiLu7u4AAAAU9Wx4AAAAAXRSTlMAQObYZgAAAiVJREFU\n",
       "OMtjYKAaeEC8Um3cUoeA+AKIcZoYg5gdcMuxGjAwrAQx+ogxiQPd+dyXEOwGBoYyIMWeQIxJu9H4\n",
       "r24jcU5BbGKdQIxJcqjcp3eQeQ8ZGHiWl5fXEmMQUwMKt6QThcsGdMy3tLRbxJjEugAYDKvdZ0eD\n",
       "eSZNcAlFIfYNDFwBDAzODAzpCIvxBPgBYNAwnD0gC+I8S4aLs+dsDWNg4AS6WIWBD+FuNhTNnHlI\n",
       "HEYFBoYFDPsZJoOj7TY8IvkY+PyAThBgYOBl4D6A3STObuR451cAJWM3KI/nFkKuBJTYPgCNP8D7\n",
       "AKtJPN0oDgSZxMAgDbemtQAWIgFQk/gaTIAs275KhEnaCcAo5+4BJ+wbz6FJhBFEs38G+gZqQIsB\n",
       "hDELzAP6jiHdCUg4HV0AN4lvw3dmAc6bYGUsOlEw5wLD4Dj3B4Z98NyTBjaKcwEDC9ADoLCeCs56\n",
       "LxG+Y390gTuBb5kCJEBhqRYYz5x/2ASAMQ43CuQEBoujZ5rAskBng+TYFZDCiWUBywYGvm1gM4rg\n",
       "CeQCA1/2ulV70FNHAM9HoEIOkH4eUIAbM5gjTGJUYAQ5fAdQBbMBMyxkxfGl24dwh3ppJiCZZKAP\n",
       "pk8cYDBZNA0pk+IGq+EFBJNEAcIkTu8MiPA8hg2K7dhKldq7IIAoVfga0I2GmFTO4I3FWnY8JR1L\n",
       "AXaTspgasCmvxm3SZgbsJs3eBfRhGhDkkV8/sJCvFQCw2Hb4riARpAAAAABJRU5ErkJggg==\n",
       "\" style=\"display:inline;vertical-align:middle;\" /></a><br>"
      ],
      "text/plain": [
       "expr: forall_{z | y <= z} (x <= z)"
      ]
     },
     "execution_count": 2,
     "metadata": {},
     "output_type": "execute_result"
    }
   ],
   "source": [
    "# build up the expression from sub-expressions\n",
    "expr = Forall([z], LessEq(x, z), conditions = [LessEq(y, z)])"
   ]
  },
  {
   "cell_type": "code",
   "execution_count": 3,
   "metadata": {},
   "outputs": [
    {
     "name": "stdout",
     "output_type": "stream",
     "text": [
      "Passed sanity check: built 'expr' is the same as the stored Expression.\n"
     ]
    }
   ],
   "source": [
    "# check that the built expression is the same as the stored expression\n",
    "%check_expr"
   ]
  },
  {
   "cell_type": "code",
   "execution_count": 4,
   "metadata": {},
   "outputs": [
    {
     "data": {
      "text/html": [
       "<table><tr><th>&nbsp;</th><th>core type</th><th>sub-expressions</th><th>expression</th></tr>\n",
       "<tr><td>0</td><td>Operation</td><td>operator:&nbsp;1<br>operand:&nbsp;2<br></td><td><a class=\"ProveItLink\" href=\"expr.ipynb\"><img src=\"data:image/png;base64,iVBORw0KGgoAAAANSUhEUgAAAJEAAAAXBAMAAAD5H7DVAAAAMFBMVEX///8QEBC6urrMzMxUVFRm\n",
       "ZmZERETc3NwyMjKqqqp2dnaIiIiYmJgiIiLu7u4AAAAU9Wx4AAAAAXRSTlMAQObYZgAAAiVJREFU\n",
       "OMtjYKAaeEC8Um3cUoeA+AKIcZoYg5gdcMuxGjAwrAQx+ogxiQPd+dyXEOwGBoYyIMWeQIxJu9H4\n",
       "r24jcU5BbGKdQIxJcqjcp3eQeQ8ZGHiWl5fXEmMQUwMKt6QThcsGdMy3tLRbxJjEugAYDKvdZ0eD\n",
       "eSZNcAlFIfYNDFwBDAzODAzpCIvxBPgBYNAwnD0gC+I8S4aLs+dsDWNg4AS6WIWBD+FuNhTNnHlI\n",
       "HEYFBoYFDPsZJoOj7TY8IvkY+PyAThBgYOBl4D6A3STObuR451cAJWM3KI/nFkKuBJTYPgCNP8D7\n",
       "AKtJPN0oDgSZxMAgDbemtQAWIgFQk/gaTIAs275KhEnaCcAo5+4BJ+wbz6FJhBFEs38G+gZqQIsB\n",
       "hDELzAP6jiHdCUg4HV0AN4lvw3dmAc6bYGUsOlEw5wLD4Dj3B4Z98NyTBjaKcwEDC9ADoLCeCs56\n",
       "LxG+Y390gTuBb5kCJEBhqRYYz5x/2ASAMQ43CuQEBoujZ5rAskBng+TYFZDCiWUBywYGvm1gM4rg\n",
       "CeQCA1/2ulV70FNHAM9HoEIOkH4eUIAbM5gjTGJUYAQ5fAdQBbMBMyxkxfGl24dwh3ppJiCZZKAP\n",
       "pk8cYDBZNA0pk+IGq+EFBJNEAcIkTu8MiPA8hg2K7dhKldq7IIAoVfga0I2GmFTO4I3FWnY8JR1L\n",
       "AXaTspgasCmvxm3SZgbsJs3eBfRhGhDkkV8/sJCvFQCw2Hb4riARpAAAAABJRU5ErkJggg==\n",
       "\" style=\"display:inline;vertical-align:middle;\" /></a></td></tr>\n",
       "<tr><td>1</td><td>Literal</td><td></td><td><a class=\"ProveItLink\" href=\"../../../../logic/boolean/quantification/universal/__pv_it/265f8c02ac1094d56e0e6410a1c1fd3500dc9f540/expr.ipynb\"><img src=\"data:image/png;base64,iVBORw0KGgoAAAANSUhEUgAAAAwAAAAQBAMAAADQT4M0AAAAMFBMVEX///8QEBC6urrMzMxUVFRm\n",
       "ZmZERETc3NwyMjKqqqp2dnaIiIiYmJgiIiLu7u4AAAAU9Wx4AAAAAXRSTlMAQObYZgAAAFhJREFU\n",
       "CNdjeMAABhdAxGmGlSCqj6EMSLInMHAAJVknMPAsLy+vBYp8S0u7BaScGRjSgZQKA18DkOJl4D4A\n",
       "pLgP8IJM4mswARuX7gSmpoKNZWDcAKZ4gCoAgTQTILaSE58AAAAASUVORK5CYII=\n",
       "\" style=\"display:inline;vertical-align:middle;\" /></a></td></tr>\n",
       "<tr><td>2</td><td>Lambda</td><td>parameter:&nbsp;11<br>body:&nbsp;3<br>conditions:&nbsp;4<br></td><td><a class=\"ProveItLink\" href=\"../9252c00d9650f311ddf3bb32a3f273a305b43dd10/expr.ipynb\"><img src=\"data:image/png;base64,iVBORw0KGgoAAAANSUhEUgAAALUAAAAVCAMAAAA3kV91AAAANlBMVEX///8UFBQNDQ0iIiIyMjLM\n",
       "zMx2dnaqqqpUVFTu7u5mZmaYmJhERESIiIjc3NwQEBC6uroAAAASmHVxAAAAAXRSTlMAQObYZgAA\n",
       "AdtJREFUSMfFV9lywyAMpAXEKY7//9lCnNRgAzbMJOHJY9BqLVaHCfnaEu5zvgKuWJlwfgfhY6S5\n",
       "XLPT/Jusmbo6gbTJhq2y7uDNLLzQhwLaOWFghXUfb2b5YaiVpqa75+dZj/BmUpENNp1kYrBtxSTr\n",
       "C7zgfSAOmwIUlaF+XrMDlE6gxjJNWRhCg+6zVvBAdlHdxnPWoNb2tUHrc7LUBDNPJ0mn6fL8/1ll\n",
       "LW+Fq4AWrM8aSIg5a+J9vExL7eQOrJUsmoEPTyebB8GLTMeG5Evo4LusuSA6u7V2Ai9LaN/5/aHV\n",
       "8nGPyfMxm0l7LBIUVFOdL2qxyzrZ+XzrESfwSCgld4g1kYW8ig/w54okmD416R16wDqZZkXzyCfw\n",
       "RFVKD6wrQ/+fm+7hQZ1qjDw4hiKRBqx1Fj16ch9ve5Jt1rwKqd2y0bgtcRrS41UaldBmkI2E5RDa\n",
       "xrTQw+PMaGP2MoMn/ReO9HadhtgUF4ftSWXPshJ6VPmITkxCNPfxEpiJXtzrMnQrSwgKAC/7VgV9\n",
       "Kr8l6wSJOroZvJmOvjwTX3d0oO8a+c4z0N0FOGAtaf4s8S7WvUnVlRW+NV+o4aRKUzAszODNLbf4\n",
       "VyDdiLVIqn7rP4JbmnexMVXgOs8/CB4TdnYtDgUAAAAASUVORK5CYII=\n",
       "\" style=\"display:inline;vertical-align:middle;\" /></a></td></tr>\n",
       "<tr><td>3</td><td>Operation</td><td>operator:&nbsp;8<br>operands:&nbsp;5<br></td><td><a class=\"ProveItLink\" href=\"../a04010a9e219a9d9b669a330db5c4d4ed21239af0/expr.ipynb\"><img src=\"data:image/png;base64,iVBORw0KGgoAAAANSUhEUgAAADEAAAARBAMAAACGHlkZAAAAMFBMVEX///8yMjK6urpERETMzMwQ\n",
       "EBAiIiKYmJju7u5mZmaqqqpUVFSIiIh2dnbc3NwAAADpJKkdAAAAAXRSTlMAQObYZgAAAKpJREFU\n",
       "GNNjYCAS8CThkOjNwSHRmY5D4rUUKv/t6VcnD4AY3kJwMdUgvgMMHBfY01kTgLxmE7gEn/nJyQwM\n",
       "vAw8H7gcQM7KaYDJcDBw7ACR3AYQPntuA8JKMMl6AMrlknwAZTFNAFPvHRigipmkHSCMtWAzHpxn\n",
       "4IEZw2IMluK6wMDNwLC+wJThDdx8lk0g0rGyHOiD5rO9dwrQvDyB/esCBsrAszQQQMQCAGoOJ+c8\n",
       "iunBAAAAAElFTkSuQmCC\n",
       "\" style=\"display:inline;vertical-align:middle;\" /></a></td></tr>\n",
       "<tr><td>4</td><td>ExprTuple</td><td>6</td><td><a class=\"ProveItLink\" href=\"../943b3f83af9a35ad9e52b5d4ece56f895d46f3910/expr.ipynb\"><img src=\"data:image/png;base64,iVBORw0KGgoAAAANSUhEUgAAAD0AAAAVBAMAAAAHs/uBAAAAMFBMVEX////c3NwiIiJERESqqqqY\n",
       "mJh2dnZmZmYQEBDu7u4yMjJUVFTMzMyIiIi6uroAAAAs73DqAAAAAXRSTlMAQObYZgAAASxJREFU\n",
       "KM9jYCAE+C7glIoDEadxa2U/ACRWogny6iHYC4BcNOOn6SJxwhgYOCagSE9XRebNYGB4hSItvQSF\n",
       "y+zAUMbAwJmewCAPNub0OrjUiz7GCwxsBQxLGRjY+D4w3AeJTbaBSzOaXi9mYGBZwNDHwHCEXYHB\n",
       "GOx0XbhjOBk4dwLDpoHhHwPDBI4LDH/BoqxqCNdKAzHPB5A8g/8Enj8QQZblArBgLYDItwCpKgbe\n",
       "Bpjw6gMQhhuY18BgCqSWMzBvgBnLYwxWwJLAwA20bwFDOpBTzfA+AG4vzz4QeSo8FOhXoP8egfx1\n",
       "t14ALRYKWH84MDBwPWDgAMskYY9AYPiyAi1S4GzBLp8Ljl+mBOYEMFdICQQQ8cu5ABwOLHfrsGvn\n",
       "BtnNiDt93WFgAABAhD87deSHbAAAAABJRU5ErkJggg==\n",
       "\" style=\"display:inline;vertical-align:middle;\" /></a></td></tr>\n",
       "<tr><td>5</td><td>ExprTuple</td><td>7, 11</td><td><a class=\"ProveItLink\" href=\"../0b2afcdb3e359c436e077617831aa49d50dd87000/expr.ipynb\"><img src=\"data:image/png;base64,iVBORw0KGgoAAAANSUhEUgAAACwAAAAVBAMAAADP3xFXAAAAMFBMVEX////c3NwiIiJERESqqqqY\n",
       "mJh2dnZmZmYQEBDu7u4yMjJUVFTMzMyIiIi6uroAAAAs73DqAAAAAXRSTlMAQObYZgAAAOpJREFU\n",
       "GNNjYMAB+C6gi7A+ABKnMVXWAPFKTGEuBgbeC5jCrAkMHBMwhTkbGF5hc4YJQxmQFLstch1q1os+\n",
       "RiArnWEpUE8CqyqHAliU0fR6MZDyYuhjYGBj4P3AcgBiKgPnTpAehn8gNrcB3FhpEHEeJMzAwAF3\n",
       "JV8BRLgFRMkfYIC60w1iMYMp0PUC9xl4J4AlWBIYuIFUFNAtDP4BFgyyDJyfgPxT4aHrGEAOfMTA\n",
       "MPnatNwABs5+AQaGAtYfDkDhdQwcAnDbBJA8DwwWWADBHcl2ASlgEcKzYO4HAUQIbwQFA0aA8x5g\n",
       "AACpBTHTmw8wGwAAAABJRU5ErkJggg==\n",
       "\" style=\"display:inline;vertical-align:middle;\" /></a></td></tr>\n",
       "<tr><td>6</td><td>Operation</td><td>operator:&nbsp;8<br>operands:&nbsp;9<br></td><td><a class=\"ProveItLink\" href=\"../85cb21cab71a4214f21f04ea7851d9157c14c27f0/expr.ipynb\"><img src=\"data:image/png;base64,iVBORw0KGgoAAAANSUhEUgAAADEAAAASBAMAAAAAiiu3AAAAMFBMVEX///+YmJhUVFQyMjIQEBBE\n",
       "REQiIiKqqqrMzMyIiIi6urrc3NxmZmZ2dnbu7u4AAADXeCicAAAAAXRSTlMAQObYZgAAAMBJREFU\n",
       "GNNjYCAScGbhkHibiUPiTSIOiU3mKFy+OxcY9j8AsZqs4IJLvLgnMPByfWCYD+I9jYBLcAfOOcrA\n",
       "0M6TwBAKdlbmA7g5DHx6DAwPWCYw/ATzGXMfIKwEEfUPOH5AuOw2G6ASXAdA5GEGTgeYgFEDhFEL\n",
       "Jm0YWBVghnCEgqXYLzAwAalDDOsF4OZzaIHIZhlBkA+ezjy/Ac3LBxi/FIAZ17AHCVMCnzt2GbYL\n",
       "rBfAjG1pIIAUC+wzT2HXAgAfdS2G/B8iqAAAAABJRU5ErkJggg==\n",
       "\" style=\"display:inline;vertical-align:middle;\" /></a></td></tr>\n",
       "<tr><td>7</td><td>Variable</td><td></td><td><a class=\"ProveItLink\" href=\"../../../../__pv_it/530be409e3083890784cf1d7b28c9e67e90af9360/expr.ipynb\"><img src=\"data:image/png;base64,iVBORw0KGgoAAAANSUhEUgAAAAsAAAAJBAMAAAAWSsseAAAAKlBMVEX///9ERETMzMwQEBAiIiKY\n",
       "mJju7u5mZmaqqqpUVFSIiIh2dnbc3NwAAAA/vyDhAAAAAXRSTlMAQObYZgAAAENJREFUCNdjYDi9\n",
       "8sTyBQxsG1hdmR0YuBm4LnAoMLAxcAowgADzAjB1VoEhgYH1wFoGrgSG3gBhhlMMDImrs3cFMAAA\n",
       "t0YN+iTRa+sAAAAASUVORK5CYII=\n",
       "\" style=\"display:inline;vertical-align:middle;\" /></a></td></tr>\n",
       "<tr><td>8</td><td>Literal</td><td></td><td><a class=\"ProveItLink\" href=\"../aa616d6a8fe3483e4e64187262e9c7dfe6a536a30/expr.ipynb\"><img src=\"data:image/png;base64,iVBORw0KGgoAAAANSUhEUgAAAA4AAAARBAMAAAAf5oCsAAAALVBMVEX///9ERETMzMyqqqoyMjJU\n",
       "VFTc3NyYmJhmZmZ2dnbu7u66uroiIiKIiIgAAAAFyQXGAAAAAXRSTlMAQObYZgAAAEBJREFUCNdj\n",
       "YEAGvKfB1MqzYGrFcTCV6gymVL3B1EIhqNKzCyAM9pNQBrNHAoTB7aoAYTAJwhjRDLhAzhkQOA0A\n",
       "iskPUSt9tJUAAAAASUVORK5CYII=\n",
       "\" style=\"display:inline;vertical-align:middle;\" /></a></td></tr>\n",
       "<tr><td>9</td><td>ExprTuple</td><td>10, 11</td><td><a class=\"ProveItLink\" href=\"../1ba9cd67f202dbea908cf31db96755ce36201b140/expr.ipynb\"><img src=\"data:image/png;base64,iVBORw0KGgoAAAANSUhEUgAAACsAAAAVBAMAAAAtAwouAAAAMFBMVEX////c3NwiIiJERESqqqqY\n",
       "mJh2dnZmZmYQEBDu7u4yMjJUVFTMzMyIiIi6uroAAAAs73DqAAAAAXRSTlMAQObYZgAAAQdJREFU\n",
       "GNNjYMAB+C6gi8SBiNMYCtkPAImVmAYsYGDgvYApHMbAwDEBU3gGA8MrLK5gdmAoY2DgTE9gkIdo\n",
       "4ut4IMvAwFbAsBRI8n1guA9RJxxbbsDAwLKAoY+B4Qi7AoMxRHgCw2ygNr4Ghn9ANscFhr9QYxk3\n",
       "AAmeDyBhBv8JPH+gws8ZIMItQKqKgbcBIsqSALa4gcEUSC1nYN7AwAkScGNgAJrCuoAhHcipZngf\n",
       "wDBfAah7aWnUA7ADHwGFJ9+tF2CY8REYSAzxIEO5HjBwCIA0JwHxQ2TPsyYwcCtwgtQEwIVzwQHL\n",
       "lMCcgCzMCQxYBmkGlrt1QJoXrpgbZC4jRoDfYWAAADdMON26mSCyAAAAAElFTkSuQmCC\n",
       "\" style=\"display:inline;vertical-align:middle;\" /></a></td></tr>\n",
       "<tr><td>10</td><td>Variable</td><td></td><td><a class=\"ProveItLink\" href=\"../../../../__pv_it/f8b9edf8e16034727f0aad55bb83e392c3db40d40/expr.ipynb\"><img src=\"data:image/png;base64,iVBORw0KGgoAAAANSUhEUgAAAAsAAAANBAMAAACN24kIAAAAMFBMVEX///+YmJhUVFQyMjIQEBBE\n",
       "REQiIiKqqqrMzMyIiIi6urrc3NxmZmZ2dnbu7u4AAADXeCicAAAAAXRSTlMAQObYZgAAAFhJREFU\n",
       "CNdj4LtzgWH/AwZerg8M8xkY2nkSGEIZGB6wTGD4ycDAUP+A4weQOszA6QCkbBhYFYDUIYb1AkDq\n",
       "6czzGxhA4BoQMyXwuQMptgusF4AU+8xTQBIAUqMVoSp/SLMAAAAASUVORK5CYII=\n",
       "\" style=\"display:inline;vertical-align:middle;\" /></a></td></tr>\n",
       "<tr><td>11</td><td>Variable</td><td></td><td><a class=\"ProveItLink\" href=\"../../../../__pv_it/251502494639118b4892de8e9d720a5fcce840e10/expr.ipynb\"><img src=\"data:image/png;base64,iVBORw0KGgoAAAANSUhEUgAAAAoAAAAJBAMAAAD5iKAgAAAALVBMVEX///8yMjLMzMx2dnaqqqpU\n",
       "VFTu7u5mZmaYmJhERESIiIjc3NwQEBC6uroAAAB+iRisAAAAAXRSTlMAQObYZgAAADlJREFUCNdj\n",
       "YOA9c2EXA8POrvIJDAwJDKkJDAwM3AFAguE6iGAxAJHODAwBDEwSFY0XGNgZ+o4wAABKtAsIcBKm\n",
       "agAAAABJRU5ErkJggg==\n",
       "\" style=\"display:inline;vertical-align:middle;\" /></a></td></tr>\n",
       "</table>\n"
      ],
      "text/plain": [
       "0. forall_{z | y <= z} (x <= z)\n",
       "   core type: Operation\n",
       "   operator: 1\n",
       "   operand: 2\n",
       "1. forall\n",
       "   core type: Literal\n",
       "   sub-expressions: \n",
       "2. z -> (x <= z) | y <= z\n",
       "   core type: Lambda\n",
       "   parameter: 11\n",
       "   body: 3\n",
       "   conditions: 4\\n3. x <= z\n",
       "   core type: Operation\n",
       "   operator: 8\n",
       "   operands: 5\n",
       "4. (y <= z)\n",
       "   core type: ExprTuple\n",
       "   sub-expressions: 6\n",
       "5. (x , z)\n",
       "   core type: ExprTuple\n",
       "   sub-expressions: 7, 11\n",
       "6. y <= z\n",
       "   core type: Operation\n",
       "   operator: 8\n",
       "   operands: 9\n",
       "7. x\n",
       "   core type: Variable\n",
       "   sub-expressions: \n",
       "8. <=\n",
       "   core type: Literal\n",
       "   sub-expressions: \n",
       "9. (y , z)\n",
       "   core type: ExprTuple\n",
       "   sub-expressions: 10, 11\n",
       "10. y\n",
       "    core type: Variable\n",
       "    sub-expressions: \n",
       "11. z\n",
       "    core type: Variable\n",
       "    sub-expressions: "
      ]
     },
     "execution_count": 4,
     "metadata": {},
     "output_type": "execute_result"
    }
   ],
   "source": [
    "# display the expression information\n",
    "expr.exprInfo()"
   ]
  },
  {
   "cell_type": "code",
   "execution_count": null,
   "metadata": {},
   "outputs": [],
   "source": []
  }
 ],
 "metadata": {
  "kernelspec": {
   "display_name": "Python 3",
   "language": "python",
   "name": "python3"
  }
 },
 "nbformat": 4,
 "nbformat_minor": 0
}
