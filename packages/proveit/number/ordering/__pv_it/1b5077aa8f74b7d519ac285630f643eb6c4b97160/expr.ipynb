{
 "cells": [
  {
   "cell_type": "markdown",
   "metadata": {},
   "source": [
    "Expression of type <a class=\"ProveItLink\" href=\"../../../../../../doc/html/api/proveit.ExprTuple.html\">ExprTuple</a>\n",
    "=======================\n",
    "# from context <a class=\"ProveItLink\" href=\"../../_context_.ipynb\">proveit.number.ordering</a>"
   ]
  },
  {
   "cell_type": "code",
   "execution_count": 1,
   "metadata": {},
   "outputs": [],
   "source": [
    "# import Expression classes needed to build the expression\n",
    "from proveit import ExprTuple\n",
    "from proveit._common_ import a, t"
   ]
  },
  {
   "cell_type": "code",
   "execution_count": 2,
   "metadata": {},
   "outputs": [
    {
     "data": {
      "text/html": [
       "<strong id=\"expr\">expr:</strong> <a class=\"ProveItLink\" href=\"expr.ipynb\"><img src=\"data:image/png;base64,iVBORw0KGgoAAAANSUhEUgAAACgAAAAVBAMAAADGNLEtAAAAMFBMVEX////c3NwiIiJERESqqqqY\n",
       "mJh2dnZmZmYQEBDu7u4yMjJUVFTMzMyIiIi6uroAAAAs73DqAAAAAXRSTlMAQObYZgAAAO9JREFU\n",
       "GNNjYMAK+C6g8lkfAInT6KpqgHglAwNnD7IgFwMDL1A3y08U/QkMHBMYGNgVkAU5GxheASmmAhRD\n",
       "TRjKGBhe21tDXSB97YUAA0M6w1Ig2x/mukYGeyDlxdAHJKuggvIBDMVA6gXDPyCpBhXcz8CgC6TO\n",
       "gwQ5/0EFPzNw/gELtgCd+YFBACTG+BfI5ARpNwU6cwHLA06QA78wcC/wYWCIAtrPwF0wjWE+yP1L\n",
       "GZwKEkBOegTUZnuBYcZHkDPvvrEFhtE6Bg4BiCUPkb0J9D4YBMAF2S6Agw5VcBbIIDCLFxEeG0Gu\n",
       "Q4sO3gMMAEGUNgTL4Y2+AAAAAElFTkSuQmCC\n",
       "\" style=\"display:inline;vertical-align:middle;\" /></a><br>"
      ],
      "text/plain": [
       "expr: (t , a)"
      ]
     },
     "execution_count": 2,
     "metadata": {},
     "output_type": "execute_result"
    }
   ],
   "source": [
    "# build up the expression from sub-expressions\n",
    "expr = ExprTuple(t, a)"
   ]
  },
  {
   "cell_type": "code",
   "execution_count": 3,
   "metadata": {},
   "outputs": [
    {
     "name": "stdout",
     "output_type": "stream",
     "text": [
      "Passed sanity check: built 'expr' is the same as the stored Expression.\n"
     ]
    }
   ],
   "source": [
    "# check that the built expression is the same as the stored expression\n",
    "%check_expr"
   ]
  },
  {
   "cell_type": "code",
   "execution_count": 4,
   "metadata": {},
   "outputs": [
    {
     "data": {
      "text/html": [
       "<table><tr><th>&nbsp;</th><th>core type</th><th>sub-expressions</th><th>expression</th></tr>\n",
       "<tr><td>0</td><td>ExprTuple</td><td>1, 2</td><td><a class=\"ProveItLink\" href=\"expr.ipynb\"><img src=\"data:image/png;base64,iVBORw0KGgoAAAANSUhEUgAAACgAAAAVBAMAAADGNLEtAAAAMFBMVEX////c3NwiIiJERESqqqqY\n",
       "mJh2dnZmZmYQEBDu7u4yMjJUVFTMzMyIiIi6uroAAAAs73DqAAAAAXRSTlMAQObYZgAAAO9JREFU\n",
       "GNNjYMAK+C6g8lkfAInT6KpqgHglAwNnD7IgFwMDL1A3y08U/QkMHBMYGNgVkAU5GxheASmmAhRD\n",
       "TRjKGBhe21tDXSB97YUAA0M6w1Ig2x/mukYGeyDlxdAHJKuggvIBDMVA6gXDPyCpBhXcz8CgC6TO\n",
       "gwQ5/0EFPzNw/gELtgCd+YFBACTG+BfI5ARpNwU6cwHLA06QA78wcC/wYWCIAtrPwF0wjWE+yP1L\n",
       "GZwKEkBOegTUZnuBYcZHkDPvvrEFhtE6Bg4BiCUPkb0J9D4YBMAF2S6Agw5VcBbIIDCLFxEeG0Gu\n",
       "Q4sO3gMMAEGUNgTL4Y2+AAAAAElFTkSuQmCC\n",
       "\" style=\"display:inline;vertical-align:middle;\" /></a></td></tr>\n",
       "<tr><td>1</td><td>Variable</td><td></td><td><a class=\"ProveItLink\" href=\"../../../../__pv_it/ce279d39727df35ccc8a89894715e433c302db340/expr.ipynb\"><img src=\"data:image/png;base64,iVBORw0KGgoAAAANSUhEUgAAAAcAAAANBAMAAACX52mGAAAALVBMVEX////c3Nx2dnYyMjKIiIhE\n",
       "RERUVFS6uroiIiJmZmaqqqrMzMwQEBDu7u4AAACdk1SzAAAAAXRSTlMAQObYZgAAAEBJREFUCNdj\n",
       "YOA9zcDAwPUWSHA2AAmOCQwMZXFhDgwM64A8hskgogmIeZ+DlD1gEGDgNOAqYGCbcImBgTHEgQEA\n",
       "VpEKvIbxevgAAAAASUVORK5CYII=\n",
       "\" style=\"display:inline;vertical-align:middle;\" /></a></td></tr>\n",
       "<tr><td>2</td><td>Variable</td><td></td><td><a class=\"ProveItLink\" href=\"../../../../__pv_it/07527342713064c87612d00d8557c53d53d5324a0/expr.ipynb\"><img src=\"data:image/png;base64,iVBORw0KGgoAAAANSUhEUgAAAAsAAAAJBAMAAAAWSsseAAAAMFBMVEX///8yMjKqqqrMzMzu7u4i\n",
       "IiJmZmaYmJhEREQQEBC6urp2dnaIiIhUVFTc3NwAAAD87Fq/AAAAAXRSTlMAQObYZgAAAEhJREFU\n",
       "CNdjYOC7s2seAwPDygccHxgY+L4zsDUwMPB+YGA9wMDA38Dgb8DA8P4Agz6DA4O/AsNFJgMGxgKm\n",
       "MG6gyjunLE4xAAAZTBA5TB6DCwAAAABJRU5ErkJggg==\n",
       "\" style=\"display:inline;vertical-align:middle;\" /></a></td></tr>\n",
       "</table>\n"
      ],
      "text/plain": [
       "0. (t , a)\n",
       "   core type: ExprTuple\n",
       "   sub-expressions: 1, 2\n",
       "1. t\n",
       "   core type: Variable\n",
       "   sub-expressions: \n",
       "2. a\n",
       "   core type: Variable\n",
       "   sub-expressions: "
      ]
     },
     "execution_count": 4,
     "metadata": {},
     "output_type": "execute_result"
    }
   ],
   "source": [
    "# display the expression information\n",
    "expr.exprInfo()"
   ]
  },
  {
   "cell_type": "code",
   "execution_count": null,
   "metadata": {},
   "outputs": [],
   "source": []
  }
 ],
 "metadata": {
  "kernelspec": {
   "display_name": "Python 3",
   "language": "python",
   "name": "python3"
  }
 },
 "nbformat": 4,
 "nbformat_minor": 0
}
