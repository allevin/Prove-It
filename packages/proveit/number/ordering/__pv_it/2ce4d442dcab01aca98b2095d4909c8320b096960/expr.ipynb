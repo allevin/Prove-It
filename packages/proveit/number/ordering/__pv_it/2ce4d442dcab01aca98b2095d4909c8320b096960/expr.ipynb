{
 "cells": [
  {
   "cell_type": "markdown",
   "metadata": {},
   "source": [
    "Expression of type <a class=\"ProveItLink\" href=\"../../../../../../doc/html/api/proveit.logic.Forall.html\">Forall</a>\n",
    "=======================\n",
    "# from context <a class=\"ProveItLink\" href=\"../../_context_.ipynb\">proveit.number.ordering</a>"
   ]
  },
  {
   "cell_type": "code",
   "execution_count": 1,
   "metadata": {},
   "outputs": [],
   "source": [
    "# import Expression classes needed to build the expression\n",
    "from proveit._common_ import x, y\n",
    "from proveit.logic import Forall\n",
    "from proveit.number import Greater, GreaterEq"
   ]
  },
  {
   "cell_type": "code",
   "execution_count": 2,
   "metadata": {},
   "outputs": [
    {
     "data": {
      "text/html": [
       "<strong id=\"expr\">expr:</strong> <a class=\"ProveItLink\" href=\"expr.ipynb\"><img src=\"data:image/png;base64,iVBORw0KGgoAAAANSUhEUgAAAJMAAAAXBAMAAAD96mDoAAAAMFBMVEX///8QEBC6urrMzMxUVFRm\n",
       "ZmZERETc3NwyMjKqqqp2dnaIiIiYmJgiIiLu7u4AAAAU9Wx4AAAAAXRSTlMAQObYZgAAAjlJREFU\n",
       "OMutlT1o1GAYx/+X+0gvuUsPO7l1ELmleIKLk6WFUtpFxEEUP2mvi0MG7aGizdKhIqVDC27NUkQO\n",
       "y4H1QIs0OIkut7jUCulyQ10OBR1cfJ7kLu+bNFei9IXk3uT/5pfn4//mgOMbbvKlSqO/9oGOFk8+\n",
       "J0KdO0LLVoCXPFlOhJJWGbvRbCxgnn7UW0lIupxfftEMq5+AAcJnV5KgUqFAlJlKSN0HCi9qtceJ\n",
       "8iuHL9PVYfkyR+H8qlZ3E6Gu0vFw68GbXp7qpMcyNmwsuNAuAuPAnFg/3B/1jB6zC3upVu+Gep1z\n",
       "1JQOdqh4VPdTMCyxXjSgFkWdoMegd/JBjQpfuHrnsy1UqXYloAjdiUPN34igflBUyIgF331DuKkG\n",
       "/lDpOtRjp+jGoVDePISiNgaOOPjanay76Z8+yrDIxUqz22sfVR/bojSeNyQBOMmnhUp3q93f6zGv\n",
       "QC/5CWJujIIdNM+KqDR3IsVW++gIAbhL1TF3oHuoe0tBtIvIjZLEBV+jljwZQVOgFO4Wj/dmIAAb\n",
       "lItzG4+85t0RiV/GGSo2m8FPfwrTcq1++45+KgRgBGi/O6g70c62t2/SJhpgGxVcr9NDEipdSvN5\n",
       "1hUCvdLs57hX/sbpjiEyWoC6oFkakWZMSaBX2rGcTMvghtSDG6tNS6Dab69tQp0wZSH8kVG/eYOT\n",
       "Kto5G5LNVTPTiPjqdCUkcNdio8pvX+LYguxzdvmQRcMCY4/4IL+W0HY8KhD+fYz+/x/OX/8fj8vM\n",
       "cEXiAAAAAElFTkSuQmCC\n",
       "\" style=\"display:inline;vertical-align:middle;\" /></a><br>"
      ],
      "text/plain": [
       "expr: forall_{y | x > y} (x >= y)"
      ]
     },
     "execution_count": 2,
     "metadata": {},
     "output_type": "execute_result"
    }
   ],
   "source": [
    "# build up the expression from sub-expressions\n",
    "expr = Forall([y], GreaterEq(x, y), conditions = [Greater(x, y)])"
   ]
  },
  {
   "cell_type": "code",
   "execution_count": 3,
   "metadata": {},
   "outputs": [
    {
     "name": "stdout",
     "output_type": "stream",
     "text": [
      "Passed sanity check: built 'expr' is the same as the stored Expression.\n"
     ]
    }
   ],
   "source": [
    "# check that the built expression is the same as the stored expression\n",
    "%check_expr"
   ]
  },
  {
   "cell_type": "code",
   "execution_count": 4,
   "metadata": {},
   "outputs": [
    {
     "data": {
      "text/html": [
       "<table><tr><th>&nbsp;</th><th>core type</th><th>sub-expressions</th><th>expression</th></tr>\n",
       "<tr><td>0</td><td>Operation</td><td>operator:&nbsp;1<br>operand:&nbsp;2<br></td><td><a class=\"ProveItLink\" href=\"expr.ipynb\"><img src=\"data:image/png;base64,iVBORw0KGgoAAAANSUhEUgAAAJMAAAAXBAMAAAD96mDoAAAAMFBMVEX///8QEBC6urrMzMxUVFRm\n",
       "ZmZERETc3NwyMjKqqqp2dnaIiIiYmJgiIiLu7u4AAAAU9Wx4AAAAAXRSTlMAQObYZgAAAjlJREFU\n",
       "OMutlT1o1GAYx/+X+0gvuUsPO7l1ELmleIKLk6WFUtpFxEEUP2mvi0MG7aGizdKhIqVDC27NUkQO\n",
       "y4H1QIs0OIkut7jUCulyQ10OBR1cfJ7kLu+bNFei9IXk3uT/5pfn4//mgOMbbvKlSqO/9oGOFk8+\n",
       "J0KdO0LLVoCXPFlOhJJWGbvRbCxgnn7UW0lIupxfftEMq5+AAcJnV5KgUqFAlJlKSN0HCi9qtceJ\n",
       "8iuHL9PVYfkyR+H8qlZ3E6Gu0vFw68GbXp7qpMcyNmwsuNAuAuPAnFg/3B/1jB6zC3upVu+Gep1z\n",
       "1JQOdqh4VPdTMCyxXjSgFkWdoMegd/JBjQpfuHrnsy1UqXYloAjdiUPN34igflBUyIgF331DuKkG\n",
       "/lDpOtRjp+jGoVDePISiNgaOOPjanay76Z8+yrDIxUqz22sfVR/bojSeNyQBOMmnhUp3q93f6zGv\n",
       "QC/5CWJujIIdNM+KqDR3IsVW++gIAbhL1TF3oHuoe0tBtIvIjZLEBV+jljwZQVOgFO4Wj/dmIAAb\n",
       "lItzG4+85t0RiV/GGSo2m8FPfwrTcq1++45+KgRgBGi/O6g70c62t2/SJhpgGxVcr9NDEipdSvN5\n",
       "1hUCvdLs57hX/sbpjiEyWoC6oFkakWZMSaBX2rGcTMvghtSDG6tNS6Dab69tQp0wZSH8kVG/eYOT\n",
       "Kto5G5LNVTPTiPjqdCUkcNdio8pvX+LYguxzdvmQRcMCY4/4IL+W0HY8KhD+fYz+/x/OX/8fj8vM\n",
       "cEXiAAAAAElFTkSuQmCC\n",
       "\" style=\"display:inline;vertical-align:middle;\" /></a></td></tr>\n",
       "<tr><td>1</td><td>Literal</td><td></td><td><a class=\"ProveItLink\" href=\"../../../../logic/boolean/quantification/universal/__pv_it/265f8c02ac1094d56e0e6410a1c1fd3500dc9f540/expr.ipynb\"><img src=\"data:image/png;base64,iVBORw0KGgoAAAANSUhEUgAAAAwAAAAQBAMAAADQT4M0AAAAMFBMVEX///8QEBC6urrMzMxUVFRm\n",
       "ZmZERETc3NwyMjKqqqp2dnaIiIiYmJgiIiLu7u4AAAAU9Wx4AAAAAXRSTlMAQObYZgAAAFhJREFU\n",
       "CNdjeMAABhdAxGmGlSCqj6EMSLInMHAAJVknMPAsLy+vBYp8S0u7BaScGRjSgZQKA18DkOJl4D4A\n",
       "pLgP8IJM4mswARuX7gSmpoKNZWDcAKZ4gCoAgTQTILaSE58AAAAASUVORK5CYII=\n",
       "\" style=\"display:inline;vertical-align:middle;\" /></a></td></tr>\n",
       "<tr><td>2</td><td>Lambda</td><td>parameter:&nbsp;10<br>body:&nbsp;3<br>conditions:&nbsp;4<br></td><td><a class=\"ProveItLink\" href=\"../432ca39df4e9cbfe1c2557af6c2d469cdc384cc80/expr.ipynb\"><img src=\"data:image/png;base64,iVBORw0KGgoAAAANSUhEUgAAALcAAAAVCAMAAAAzZI9IAAAANlBMVEX///8UFBQNDQ2YmJhUVFQy\n",
       "MjIQEBBEREQiIiKqqqrMzMyIiIi6urrc3NxmZmZ2dnbu7u4AAACrLjZHAAAAAXRSTlMAQObYZgAA\n",
       "Ad9JREFUSMfFl9m2gyAMRb2XeQjD//9sQa2CJSitq/WlXWh2juEEcJp+din4ZjZr3goj9mXI2y/K\n",
       "1vTNQKd/qpuF5nCQPpxF/lK3QV2imOv7lfgh3UD1jbp5p6pWdFMFPlZvLcRtE2LZB6mEGvQJUKY6\n",
       "dfAuzyDE0DSiKkPdOtfgDQVlnGmkshjau47uNjF4STCtfrIxOzc+b8oaTwtrMLKGJ7smIpeNIjm5\n",
       "uaVGK4brRonBlB1fALWaXH5YCER3oHu/cbuGL7Gq4Wci3TPPAW05rvsasQSmIZ4nJ24z9P8nq4vH\n",
       "LcH6L2OoaHmuqs4BrWOn3hhx3jIYtIAqu0VHjdR7ojt/f4MFcOwUeRis0D3dCHFepYRuA132ndkn\n",
       "8aC7XJb51qQwx4ba2ORlkyzRPZ80iXNPUMCALPe5oIhuXVZBLMoILL1mwsmaVaFJpy8bxNnZx124\n",
       "BLr0Y+Neq8NSVKVyy2SRSaR3hv1JaC/cFbqzDjaIs+tCDxiEMS5eOlRauQb44L0hp89XaGZR3Q0i\n",
       "SHIGzAx5cZ8fPzM/0aP7/BmQysxUF4/RfiRDhfbmc90lUCYp4rIc5BwL5YK/6SnR4Y5zbAlUyTHX\n",
       "CTDy3VCiKdyge0xrLfy97zTzuoGbT46pD1vxGCqICOivAAAAAElFTkSuQmCC\n",
       "\" style=\"display:inline;vertical-align:middle;\" /></a></td></tr>\n",
       "<tr><td>3</td><td>Operation</td><td>operator:&nbsp;5<br>operands:&nbsp;8<br></td><td><a class=\"ProveItLink\" href=\"../efc1dad35444d7c91aa68fe0e586537e482f8de00/expr.ipynb\"><img src=\"data:image/png;base64,iVBORw0KGgoAAAANSUhEUgAAADMAAAASBAMAAAAEf/uKAAAAMFBMVEX///+6uroyMjJERETMzMwQ\n",
       "EBAiIiKYmJju7u5mZmaqqqpUVFSIiIh2dnbc3NwAAAAWgogoAAAAAXRSTlMAQObYZgAAAMxJREFU\n",
       "GNNjYCACcOQ24JTj0nyAU47R2gGnHIuxAAr/7elXJw9A2XybwHIcNy8wvG9g4LjAns6aAFPHNw1k\n",
       "Ji/jB4bzQIqB5wMX3A72TJAzvTgTGIyBmhm4DeCG90A80MB6gOEPiMEKs4mhNwfKWN/A8gVEv3dg\n",
       "gHj2ZTpMzSQGngCg6Q/OM/CApV5rwQ3WZGDeANRbYMrwBuw4Q4SHZjPIFzAwNJ/tvVOA7vfmM/Nx\n",
       "B9o1HOLcCRxRyHy+NDAAhRTbBeYLuKLnzEQgCQCZjjNDxULBwAAAAABJRU5ErkJggg==\n",
       "\" style=\"display:inline;vertical-align:middle;\" /></a></td></tr>\n",
       "<tr><td>4</td><td>ExprTuple</td><td>6</td><td><a class=\"ProveItLink\" href=\"../e10b2181f32619b82e415ae0ef652a68b5d0c45b0/expr.ipynb\"><img src=\"data:image/png;base64,iVBORw0KGgoAAAANSUhEUgAAAD8AAAAVBAMAAAADRiu8AAAAMFBMVEX////c3NwiIiJERESqqqqY\n",
       "mJh2dnZmZmYQEBDu7u4yMjJUVFTMzMyIiIi6uroAAAAs73DqAAAAAXRSTlMAQObYZgAAATBJREFU\n",
       "KM9jYCAI+C7glosDEafxaGY/ACRW4jN+AQMDL5INjHvQFYQxMHBMQOIftkNTMIOB4RWKgPQSVAXM\n",
       "DgxlQErstsh1qE3TVCE0Z3oCg/wEBrYChqVATgKrKocCVM9cNbCdbHwfGO4zMLAsYOgDchh4P7Ac\n",
       "gJnKqg5ScYRdgcEYGEgNDP+AJjBwGyCs5dklACQncFxg+AvkfAApAHoF4Vc+Y4hZ/hN4/oAVtIB4\n",
       "8gcYoL5lWS0AYVQx8DaArTAF2ipwn4EXooBVDRYsyxmYNwD5CxjSgaYFWDDIQjypCw+2aob3AQwg\n",
       "bz5iYJh8bVpuADioVRFunXy3HmgZ1wMGDgFcEZUECWrWBKyy3AqcIOfn4oxupgRmoE7OBaD4waqA\n",
       "5W4dyByQ/Yx4ktwdBgYA7oxBaKmA2F8AAAAASUVORK5CYII=\n",
       "\" style=\"display:inline;vertical-align:middle;\" /></a></td></tr>\n",
       "<tr><td>5</td><td>Literal</td><td></td><td><a class=\"ProveItLink\" href=\"../96143560a3dbc26f943e0a126972c9bfadab3fc50/expr.ipynb\"><img src=\"data:image/png;base64,iVBORw0KGgoAAAANSUhEUgAAAA4AAAARBAMAAAAf5oCsAAAALVBMVEX///+IiIiYmJjMzMxUVFRE\n",
       "RES6urrc3NxmZmYyMjKqqqp2dnYiIiLu7u4AAACqGg1VAAAAAXRSTlMAQObYZgAAAEFJREFUCNdj\n",
       "YICCO3uhjJXtUEaqM5RhGgZllEyDMioOQ2idXhDJKwPWy7tHAESx9yiAKc8FYCWlCQx4Qc0ZEDgG\n",
       "ALzAEHC/pigGAAAAAElFTkSuQmCC\n",
       "\" style=\"display:inline;vertical-align:middle;\" /></a></td></tr>\n",
       "<tr><td>6</td><td>Operation</td><td>operator:&nbsp;7<br>operands:&nbsp;8<br></td><td><a class=\"ProveItLink\" href=\"../eff9c6e281218fa825e820edab2a064d74580ed00/expr.ipynb\"><img src=\"data:image/png;base64,iVBORw0KGgoAAAANSUhEUgAAADMAAAAQBAMAAABJt1qBAAAAMFBMVEX///8yMjK6urpERETMzMwQ\n",
       "EBAiIiKYmJju7u5mZmaqqqpUVFSIiIh2dnbc3NwAAADpJKkdAAAAAXRSTlMAQObYZgAAAMlJREFU\n",
       "GNNjYIABvi0MOIGzEW6511JoAm9Pvzp5AMLsTYfQHDcvMLxvYOC4wJ7OmgBV1pPbAKJ4mT4wnAdS\n",
       "DDwfuBxgRrBnguS8OBMYjIGaGbgNEKazbHwAJBtYDzD8AXFZD8BlmIwh+tc3sHwB0e8dGBogMlzS\n",
       "DyCMiQw8AUDTH5xn4IFIsedClTBIMjBvAOotMGV4A3F6DkyGYTaDfgEDQ/PZ3jsF4IBKR7im+cz8\n",
       "BzhD5hoOce4EjigcUmwXmC/gkOI6MwlIAgAqLDHH/LLsegAAAABJRU5ErkJggg==\n",
       "\" style=\"display:inline;vertical-align:middle;\" /></a></td></tr>\n",
       "<tr><td>7</td><td>Literal</td><td></td><td><a class=\"ProveItLink\" href=\"../fed4085ae483b560677c9d938187885e1d910a490/expr.ipynb\"><img src=\"data:image/png;base64,iVBORw0KGgoAAAANSUhEUgAAAA4AAAAMBAMAAACgrpHpAAAALVBMVEX///9mZmaIiIiYmJgiIiJ2\n",
       "dnbu7u6qqqoyMjK6urpERETMzMxUVFTc3NwAAADHHImEAAAAAXRSTlMAQObYZgAAADlJREFUCNdj\n",
       "uLOBAQy4V02AMHhPFEAYbCEGUIZKGITBYCIGoff0gqlZq8FUxVmIZBhElxqYdwWiGQBNjQtMyuln\n",
       "xAAAAABJRU5ErkJggg==\n",
       "\" style=\"display:inline;vertical-align:middle;\" /></a></td></tr>\n",
       "<tr><td>8</td><td>ExprTuple</td><td>9, 10</td><td><a class=\"ProveItLink\" href=\"../a6a2ac9310c73e21661c7634808321702fb219240/expr.ipynb\"><img src=\"data:image/png;base64,iVBORw0KGgoAAAANSUhEUgAAACwAAAAVBAMAAADP3xFXAAAAMFBMVEX////c3NwiIiJERESqqqqY\n",
       "mJh2dnZmZmYQEBDu7u4yMjJUVFTMzMyIiIi6uroAAAAs73DqAAAAAXRSTlMAQObYZgAAAQtJREFU\n",
       "GNNjYMAB+C6gi7A+ABKnMVXWAPFKTGEuBgbeC5jCrAkMHBMwhTkbGF5hc4YJQxmQFLstch1i1rQy\n",
       "BsafDAzpDEuBehJYVTkUwMIJ7xl4PzAweDH0MTCwAZksB0CiPA5FDMwGDAwvGP4BVTNwG0DtYuhl\n",
       "4Acadx4kzMDAAXMly0+G8wdAwi0gnvwBBog72Rcw3GAAGWIKdL3AfQbeCWAJrgIGayAVBXQLg3+A\n",
       "BYMsA+cnkOoNfF8ZQA58xMAw+dq03AAGzn4BoJ221z8ChdcxcAjAQxjMYlMAex4YLLAAAuJNDDMc\n",
       "gFIXkAIWJKzGYAYkZwGxNEwY5Hbf66CY2QjEjBgBznuAAQAt5DtyKXSr1gAAAABJRU5ErkJggg==\n",
       "\" style=\"display:inline;vertical-align:middle;\" /></a></td></tr>\n",
       "<tr><td>9</td><td>Variable</td><td></td><td><a class=\"ProveItLink\" href=\"../../../../__pv_it/530be409e3083890784cf1d7b28c9e67e90af9360/expr.ipynb\"><img src=\"data:image/png;base64,iVBORw0KGgoAAAANSUhEUgAAAAsAAAAJBAMAAAAWSsseAAAAKlBMVEX///9ERETMzMwQEBAiIiKY\n",
       "mJju7u5mZmaqqqpUVFSIiIh2dnbc3NwAAAA/vyDhAAAAAXRSTlMAQObYZgAAAENJREFUCNdjYDi9\n",
       "8sTyBQxsG1hdmR0YuBm4LnAoMLAxcAowgADzAjB1VoEhgYH1wFoGrgSG3gBhhlMMDImrs3cFMAAA\n",
       "t0YN+iTRa+sAAAAASUVORK5CYII=\n",
       "\" style=\"display:inline;vertical-align:middle;\" /></a></td></tr>\n",
       "<tr><td>10</td><td>Variable</td><td></td><td><a class=\"ProveItLink\" href=\"../../../../__pv_it/f8b9edf8e16034727f0aad55bb83e392c3db40d40/expr.ipynb\"><img src=\"data:image/png;base64,iVBORw0KGgoAAAANSUhEUgAAAAsAAAANBAMAAACN24kIAAAAMFBMVEX///+YmJhUVFQyMjIQEBBE\n",
       "REQiIiKqqqrMzMyIiIi6urrc3NxmZmZ2dnbu7u4AAADXeCicAAAAAXRSTlMAQObYZgAAAFhJREFU\n",
       "CNdj4LtzgWH/AwZerg8M8xkY2nkSGEIZGB6wTGD4ycDAUP+A4weQOszA6QCkbBhYFYDUIYb1AkDq\n",
       "6czzGxhA4BoQMyXwuQMptgusF4AU+8xTQBIAUqMVoSp/SLMAAAAASUVORK5CYII=\n",
       "\" style=\"display:inline;vertical-align:middle;\" /></a></td></tr>\n",
       "</table>\n"
      ],
      "text/plain": [
       "0. forall_{y | x > y} (x >= y)\n",
       "   core type: Operation\n",
       "   operator: 1\n",
       "   operand: 2\n",
       "1. forall\n",
       "   core type: Literal\n",
       "   sub-expressions: \n",
       "2. y -> (x >= y) | x > y\n",
       "   core type: Lambda\n",
       "   parameter: 10\n",
       "   body: 3\n",
       "   conditions: 4\\n3. x >= y\n",
       "   core type: Operation\n",
       "   operator: 5\n",
       "   operands: 8\n",
       "4. (x > y)\n",
       "   core type: ExprTuple\n",
       "   sub-expressions: 6\n",
       "5. >=\n",
       "   core type: Literal\n",
       "   sub-expressions: \n",
       "6. x > y\n",
       "   core type: Operation\n",
       "   operator: 7\n",
       "   operands: 8\n",
       "7. >\n",
       "   core type: Literal\n",
       "   sub-expressions: \n",
       "8. (x , y)\n",
       "   core type: ExprTuple\n",
       "   sub-expressions: 9, 10\n",
       "9. x\n",
       "   core type: Variable\n",
       "   sub-expressions: \n",
       "10. y\n",
       "    core type: Variable\n",
       "    sub-expressions: "
      ]
     },
     "execution_count": 4,
     "metadata": {},
     "output_type": "execute_result"
    }
   ],
   "source": [
    "# display the expression information\n",
    "expr.exprInfo()"
   ]
  },
  {
   "cell_type": "code",
   "execution_count": null,
   "metadata": {},
   "outputs": [],
   "source": []
  }
 ],
 "metadata": {
  "kernelspec": {
   "display_name": "Python 3",
   "language": "python",
   "name": "python3"
  }
 },
 "nbformat": 4,
 "nbformat_minor": 0
}
