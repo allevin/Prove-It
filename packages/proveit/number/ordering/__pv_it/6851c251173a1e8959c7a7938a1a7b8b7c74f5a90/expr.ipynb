{
 "cells": [
  {
   "cell_type": "markdown",
   "metadata": {},
   "source": [
    "Expression of type <a class=\"ProveItLink\" href=\"../../../../../../doc/html/api/proveit.logic.Forall.html\">Forall</a>\n",
    "=======================\n",
    "# from context <a class=\"ProveItLink\" href=\"../../_context_.ipynb\">proveit.number.ordering</a>"
   ]
  },
  {
   "cell_type": "code",
   "execution_count": 1,
   "metadata": {},
   "outputs": [],
   "source": [
    "# import Expression classes needed to build the expression\n",
    "from proveit._common_ import x, y, z\n",
    "from proveit.logic import Forall\n",
    "from proveit.number import Less"
   ]
  },
  {
   "cell_type": "code",
   "execution_count": 2,
   "metadata": {},
   "outputs": [
    {
     "data": {
      "text/html": [
       "<strong id=\"expr\">expr:</strong> <a class=\"ProveItLink\" href=\"expr.ipynb\"><img src=\"data:image/png;base64,iVBORw0KGgoAAAANSUhEUgAAAJEAAAAXBAMAAAD5H7DVAAAAMFBMVEX///8QEBC6urrMzMxUVFRm\n",
       "ZmZERETc3NwyMjKqqqp2dnaIiIiYmJgiIiLu7u4AAAAU9Wx4AAAAAXRSTlMAQObYZgAAAhlJREFU\n",
       "OMtjYKAaeEC8Um3cUoeA+AKIcZoYg5gdcMuxGjAwrAQx+ogxiQOf8xsYGMqAFHsCMSbtRhdgD0aw\n",
       "T0FsYp1AjEly6L71UEBwHjIw8CwvL68lxiCmBjR+iwESjw3omG9pabeIMYl1AdA/q91nR0O4nK0F\n",
       "UAlFIfYNDFwBDAzODAzpCIvwBPgBBoZXDGcPyIJ53Ldg4c+eszUMaDDQxSoMfAh3s6HqrkNiMwJD\n",
       "ZQHDfobJIA7Xbbg4HwOfH9AJAgwMvAzcB3CY9DQdicOvAErGbhDOsyQkmRJQ8H8AuvMA7wPsJr1q\n",
       "YkAziYFBGsoz6USESADUJL4GEyDLtq8SYZJ2AijKuUGKmW88hyYRRhDN/hnoGzAovQMzaRbYOKDv\n",
       "GNKdgITT0QVwk/g2fGcWYODuAbFZdKJgzgWGwXHuDwz7YC6+DfEK5wIGFmBiAoX1VHDWe4nwHfuj\n",
       "C9wJzNAw5YOlWmA8c/5hEwDGOBTwQKLP4uiZJrAs0NkgOXYFpHBiWcCygS8MIlIED44LDHzZ61bt\n",
       "QYQcZzOIDOD5CLSMA6SaB2S0MYM5wiRGBUYDBr4wUBpmNmCGpUBxfOn2ITwPeWkmIJlkoA9ypgvQ\n",
       "DJNF05AyKW6wGsbgZpIoQJjE6Z0BNj6lgGGDYjsxpQpfA7oIxKRyBm+IS5NRChE8JR1LAXaTspga\n",
       "sCmvxm3SZgbsJs3eRXn9wEK+VgDEeW36oAJucgAAAABJRU5ErkJggg==\n",
       "\" style=\"display:inline;vertical-align:middle;\" /></a><br>"
      ],
      "text/plain": [
       "expr: forall_{z | y < z} (x < z)"
      ]
     },
     "execution_count": 2,
     "metadata": {},
     "output_type": "execute_result"
    }
   ],
   "source": [
    "# build up the expression from sub-expressions\n",
    "expr = Forall([z], Less(x, z), conditions = [Less(y, z)])"
   ]
  },
  {
   "cell_type": "code",
   "execution_count": 3,
   "metadata": {},
   "outputs": [
    {
     "name": "stdout",
     "output_type": "stream",
     "text": [
      "Passed sanity check: built 'expr' is the same as the stored Expression.\n"
     ]
    }
   ],
   "source": [
    "# check that the built expression is the same as the stored expression\n",
    "%check_expr"
   ]
  },
  {
   "cell_type": "code",
   "execution_count": 4,
   "metadata": {},
   "outputs": [
    {
     "data": {
      "text/html": [
       "<table><tr><th>&nbsp;</th><th>core type</th><th>sub-expressions</th><th>expression</th></tr>\n",
       "<tr><td>0</td><td>Operation</td><td>operator:&nbsp;1<br>operand:&nbsp;2<br></td><td><a class=\"ProveItLink\" href=\"expr.ipynb\"><img src=\"data:image/png;base64,iVBORw0KGgoAAAANSUhEUgAAAJEAAAAXBAMAAAD5H7DVAAAAMFBMVEX///8QEBC6urrMzMxUVFRm\n",
       "ZmZERETc3NwyMjKqqqp2dnaIiIiYmJgiIiLu7u4AAAAU9Wx4AAAAAXRSTlMAQObYZgAAAhlJREFU\n",
       "OMtjYKAaeEC8Um3cUoeA+AKIcZoYg5gdcMuxGjAwrAQx+ogxiQOf8xsYGMqAFHsCMSbtRhdgD0aw\n",
       "T0FsYp1AjEly6L71UEBwHjIw8CwvL68lxiCmBjR+iwESjw3omG9pabeIMYl1AdA/q91nR0O4nK0F\n",
       "UAlFIfYNDFwBDAzODAzpCIvwBPgBBoZXDGcPyIJ53Ldg4c+eszUMaDDQxSoMfAh3s6HqrkNiMwJD\n",
       "ZQHDfobJIA7Xbbg4HwOfH9AJAgwMvAzcB3CY9DQdicOvAErGbhDOsyQkmRJQ8H8AuvMA7wPsJr1q\n",
       "YkAziYFBGsoz6USESADUJL4GEyDLtq8SYZJ2AijKuUGKmW88hyYRRhDN/hnoGzAovQMzaRbYOKDv\n",
       "GNKdgITT0QVwk/g2fGcWYODuAbFZdKJgzgWGwXHuDwz7YC6+DfEK5wIGFmBiAoX1VHDWe4nwHfuj\n",
       "C9wJzNAw5YOlWmA8c/5hEwDGOBTwQKLP4uiZJrAs0NkgOXYFpHBiWcCygS8MIlIED44LDHzZ61bt\n",
       "QYQcZzOIDOD5CLSMA6SaB2S0MYM5wiRGBUYDBr4wUBpmNmCGpUBxfOn2ITwPeWkmIJlkoA9ypgvQ\n",
       "DJNF05AyKW6wGsbgZpIoQJjE6Z0BNj6lgGGDYjsxpQpfA7oIxKRyBm+IS5NRChE8JR1LAXaTspga\n",
       "sCmvxm3SZgbsJs3eRXn9wEK+VgDEeW36oAJucgAAAABJRU5ErkJggg==\n",
       "\" style=\"display:inline;vertical-align:middle;\" /></a></td></tr>\n",
       "<tr><td>1</td><td>Literal</td><td></td><td><a class=\"ProveItLink\" href=\"../../../../logic/boolean/quantification/universal/__pv_it/265f8c02ac1094d56e0e6410a1c1fd3500dc9f540/expr.ipynb\"><img src=\"data:image/png;base64,iVBORw0KGgoAAAANSUhEUgAAAAwAAAAQBAMAAADQT4M0AAAAMFBMVEX///8QEBC6urrMzMxUVFRm\n",
       "ZmZERETc3NwyMjKqqqp2dnaIiIiYmJgiIiLu7u4AAAAU9Wx4AAAAAXRSTlMAQObYZgAAAFhJREFU\n",
       "CNdjeMAABhdAxGmGlSCqj6EMSLInMHAAJVknMPAsLy+vBYp8S0u7BaScGRjSgZQKA18DkOJl4D4A\n",
       "pLgP8IJM4mswARuX7gSmpoKNZWDcAKZ4gCoAgTQTILaSE58AAAAASUVORK5CYII=\n",
       "\" style=\"display:inline;vertical-align:middle;\" /></a></td></tr>\n",
       "<tr><td>2</td><td>Lambda</td><td>parameter:&nbsp;11<br>body:&nbsp;3<br>conditions:&nbsp;4<br></td><td><a class=\"ProveItLink\" href=\"../3f80c885fcaea0c402dce80bfc42ffeda1f4b03b0/expr.ipynb\"><img src=\"data:image/png;base64,iVBORw0KGgoAAAANSUhEUgAAALUAAAAVCAMAAAA3kV91AAAANlBMVEX///8UFBQNDQ0iIiIyMjLM\n",
       "zMx2dnaqqqpUVFTu7u5mZmaYmJhERESIiIjc3NwQEBC6uroAAAASmHVxAAAAAXRSTlMAQObYZgAA\n",
       "AdBJREFUSMfFl9mSgyAQRZlhX5rl/392IDoGZFGoMuHJinL60tyGDkJfG9x+LpaHlVna178x/zHR\n",
       "VKzNU/SbqolcnfhF1XDtD9tIa/IIW1Td4c0MJy8dRNpipFtS3eXNlCK5ei+6iTF8XvWI553zyELT\n",
       "gLyIpfZttgyE5aBKv3CibB/NVF+1ZC+yDfI2zxoNSpn/F7j8TuQgovcg0adYI5d/C5hV9snRnPRV\n",
       "M+RDQoT7vPROvsWdVEuRrdf5PcgWgb+3j+FWneZo77qqKUcqhTVmghfXkJ3Cvz+4GC68c7I/pmnC\n",
       "FDhjOi490DR0VUeeSyIDTPCQzy13yjUS2fRsAQ6qYuetmjnQA9Vx15KjaaATPF4cpSfVRUG4A2Rf\n",
       "EWR5sGJd9RosK6SBapVMDw7d521Poq2aFik1G0bbrXDgVC4yulHWQTa0HlQjIimF5twtDHiUaKX1\n",
       "+yyHyv9ZILVtp0Ym5sU2CkbnlV+gRycfUlGJD/o+L8J0cPzeLYO3UgEmGQPdbkDJ4c4CXd1xueqI\n",
       "BBXsDG/mRl/uia9vdIaf6p7qHujuYDBQLXBaFn9K9XKnKoedKo7JMOwx0cV9NDOEHanm0dWPdtt2\n",
       "6R8YNFo3WNf5BxfgEsxjaH7dAAAAAElFTkSuQmCC\n",
       "\" style=\"display:inline;vertical-align:middle;\" /></a></td></tr>\n",
       "<tr><td>3</td><td>Operation</td><td>operator:&nbsp;8<br>operands:&nbsp;5<br></td><td><a class=\"ProveItLink\" href=\"../6eab9f31131eee63ba64482cd49acd6c075c25100/expr.ipynb\"><img src=\"data:image/png;base64,iVBORw0KGgoAAAANSUhEUgAAADEAAAAMBAMAAAA5VkhcAAAAMFBMVEX///+6uroyMjJERETMzMwQ\n",
       "EBAiIiKYmJju7u5mZmaqqqpUVFSIiIh2dnbc3NwAAAAWgogoAAAAAXRSTlMAQObYZgAAAKJJREFU\n",
       "GNNjYEABfFMYsAOWTQLYJRi1HZC5b0+/OnkAzOLSfAAVEw3kO8DAcYE9nTUBxOXJbYDZZn5yMgMD\n",
       "LwPPBy6QIbw5cGM4GDh2gEhuAzC32RDJitdgkhViC4O3FsIpE8DUewcGiAUv02Eya0EE+4PzDDxQ\n",
       "q3tzIAyuCwzcDAzrC0wZ3sDUskOc51RZrgi0+GzvnQK4BVwqIHIC+9cFDAAOSiUjdmHbPgAAAABJ\n",
       "RU5ErkJggg==\n",
       "\" style=\"display:inline;vertical-align:middle;\" /></a></td></tr>\n",
       "<tr><td>4</td><td>ExprTuple</td><td>6</td><td><a class=\"ProveItLink\" href=\"../d6fec6b5d6d5f65ef0c332e75a4e36040184bf420/expr.ipynb\"><img src=\"data:image/png;base64,iVBORw0KGgoAAAANSUhEUgAAAD0AAAAVBAMAAAAHs/uBAAAAMFBMVEX////c3NwiIiJERESqqqqY\n",
       "mJh2dnZmZmYQEBDu7u4yMjJUVFTMzMyIiIi6uroAAAAs73DqAAAAAXRSTlMAQObYZgAAASdJREFU\n",
       "KM9jYCAE+C7glIoDEadxa2U/ACRW4jF7AQMDL7rxjDUIdhgDA8cEVGmeXQ8QnBkMDK/QXLv6ABKP\n",
       "2YGhjIGBMz2BQR5iDMtyAajUiz7GCwxsBQxLGRjY+D4w3AcL8qrBbGM0vV4MVL6AoY+B4Qi7AoMx\n",
       "SJBNF24yJwPnTqBtDQz/GBgmcFxg+AsSnGyHZLc0yLEfQPIM/hN4/oDFTi9BOLQAIt8CpKoYeBsg\n",
       "ouKqMHk3sKIGBlMgtZyBeQNUeJou1CMJDNwMDKwLGNKBnGqG9wEwfawQL5wKD13HAPLfI5C77tYL\n",
       "wC1mWQMiC1h/ODAwcD1g4ADLJGGPH2D4sgItUuBswS6fC45fpgTmBKzSnAvA4cBytw67dm6Q3Yy4\n",
       "09cdBgYAKOY+laDSO6gAAAAASUVORK5CYII=\n",
       "\" style=\"display:inline;vertical-align:middle;\" /></a></td></tr>\n",
       "<tr><td>5</td><td>ExprTuple</td><td>7, 11</td><td><a class=\"ProveItLink\" href=\"../0b2afcdb3e359c436e077617831aa49d50dd87000/expr.ipynb\"><img src=\"data:image/png;base64,iVBORw0KGgoAAAANSUhEUgAAACwAAAAVBAMAAADP3xFXAAAAMFBMVEX////c3NwiIiJERESqqqqY\n",
       "mJh2dnZmZmYQEBDu7u4yMjJUVFTMzMyIiIi6uroAAAAs73DqAAAAAXRSTlMAQObYZgAAAOpJREFU\n",
       "GNNjYMAB+C6gi7A+ABKnMVXWAPFKTGEuBgbeC5jCrAkMHBMwhTkbGF5hc4YJQxmQFLstch1q1os+\n",
       "RiArnWEpUE8CqyqHAliU0fR6MZDyYuhjYGBj4P3AcgBiKgPnTpAehn8gNrcB3FhpEHEeJMzAwAF3\n",
       "JV8BRLgFRMkfYIC60w1iMYMp0PUC9xl4J4AlWBIYuIFUFNAtDP4BFgyyDJyfgPxT4aHrGEAOfMTA\n",
       "MPnatNwABs5+AQaGAtYfDkDhdQwcAnDbBJA8DwwWWADBHcl2ASlgEcKzYO4HAUQIbwQFA0aA8x5g\n",
       "AACpBTHTmw8wGwAAAABJRU5ErkJggg==\n",
       "\" style=\"display:inline;vertical-align:middle;\" /></a></td></tr>\n",
       "<tr><td>6</td><td>Operation</td><td>operator:&nbsp;8<br>operands:&nbsp;9<br></td><td><a class=\"ProveItLink\" href=\"../680e8ecd07fa138e9e1c7babfe65aa613a49635d0/expr.ipynb\"><img src=\"data:image/png;base64,iVBORw0KGgoAAAANSUhEUgAAADEAAAAQBAMAAABNQoq8AAAAMFBMVEX///+YmJhUVFQyMjIQEBBE\n",
       "REQiIiKqqqrMzMyIiIi6urrc3NxmZmZ2dnbu7u4AAADXeCicAAAAAXRSTlMAQObYZgAAALlJREFU\n",
       "GNNjYEAB3CcYsAMO5QXYJbiMGpB4fHcuMOx/AGay22yACi7x4p7AwMv1gWE+mMuZ+wBmW+CcowwM\n",
       "7TwJDKEgLm8mwhwGPj0GhgcsExh+grhPo5Ds2AQi6h9w/ADzmswRTjkAIg8zcDpA+HsSYTK1YNKG\n",
       "gVUBKvA2E+rICwxMQOoQw3oBmFpGiPOaZQStQDbPPL8BbgG7BYg8wPilAMy9hj1EmBL43LHLsF1g\n",
       "vYBdhn3mKewSADQLKwPRa+XiAAAAAElFTkSuQmCC\n",
       "\" style=\"display:inline;vertical-align:middle;\" /></a></td></tr>\n",
       "<tr><td>7</td><td>Variable</td><td></td><td><a class=\"ProveItLink\" href=\"../../../../__pv_it/530be409e3083890784cf1d7b28c9e67e90af9360/expr.ipynb\"><img src=\"data:image/png;base64,iVBORw0KGgoAAAANSUhEUgAAAAsAAAAJBAMAAAAWSsseAAAAKlBMVEX///9ERETMzMwQEBAiIiKY\n",
       "mJju7u5mZmaqqqpUVFSIiIh2dnbc3NwAAAA/vyDhAAAAAXRSTlMAQObYZgAAAENJREFUCNdjYDi9\n",
       "8sTyBQxsG1hdmR0YuBm4LnAoMLAxcAowgADzAjB1VoEhgYH1wFoGrgSG3gBhhlMMDImrs3cFMAAA\n",
       "t0YN+iTRa+sAAAAASUVORK5CYII=\n",
       "\" style=\"display:inline;vertical-align:middle;\" /></a></td></tr>\n",
       "<tr><td>8</td><td>Literal</td><td></td><td><a class=\"ProveItLink\" href=\"../7c444b9b2efa607ed6397b492680dde2810212f00/expr.ipynb\"><img src=\"data:image/png;base64,iVBORw0KGgoAAAANSUhEUgAAAA4AAAAMBAMAAACgrpHpAAAALVBMVEX///+YmJhERETu7u52dnYi\n",
       "IiKIiIiqqqq6uroyMjJUVFTMzMxmZmbc3NwAAADmAst+AAAAAXRSTlMAQObYZgAAAD5JREFUCNdj\n",
       "YAAB3tNgintlA4jimLUBRLHPuQCi2EIMQBRLGFgJg5EGhGbYNR3KuBMIZZiEGUAYjCFQBvtsABzC\n",
       "Cm98G6SsAAAAAElFTkSuQmCC\n",
       "\" style=\"display:inline;vertical-align:middle;\" /></a></td></tr>\n",
       "<tr><td>9</td><td>ExprTuple</td><td>10, 11</td><td><a class=\"ProveItLink\" href=\"../1ba9cd67f202dbea908cf31db96755ce36201b140/expr.ipynb\"><img src=\"data:image/png;base64,iVBORw0KGgoAAAANSUhEUgAAACsAAAAVBAMAAAAtAwouAAAAMFBMVEX////c3NwiIiJERESqqqqY\n",
       "mJh2dnZmZmYQEBDu7u4yMjJUVFTMzMyIiIi6uroAAAAs73DqAAAAAXRSTlMAQObYZgAAAQdJREFU\n",
       "GNNjYMAB+C6gi8SBiNMYCtkPAImVmAYsYGDgvYApHMbAwDEBU3gGA8MrLK5gdmAoY2DgTE9gkIdo\n",
       "4ut4IMvAwFbAsBRI8n1guA9RJxxbbsDAwLKAoY+B4Qi7AoMxRHgCw2ygNr4Ghn9ANscFhr9QYxk3\n",
       "AAmeDyBhBv8JPH+gws8ZIMItQKqKgbcBIsqSALa4gcEUSC1nYN7AwAkScGNgAJrCuoAhHcipZngf\n",
       "wDBfAah7aWnUA7ADHwGFJ9+tF2CY8REYSAzxIEO5HjBwCIA0JwHxQ2TPsyYwcCtwgtQEwIVzwQHL\n",
       "lMCcgCzMCQxYBmkGlrt1QJoXrpgbZC4jRoDfYWAAADdMON26mSCyAAAAAElFTkSuQmCC\n",
       "\" style=\"display:inline;vertical-align:middle;\" /></a></td></tr>\n",
       "<tr><td>10</td><td>Variable</td><td></td><td><a class=\"ProveItLink\" href=\"../../../../__pv_it/f8b9edf8e16034727f0aad55bb83e392c3db40d40/expr.ipynb\"><img src=\"data:image/png;base64,iVBORw0KGgoAAAANSUhEUgAAAAsAAAANBAMAAACN24kIAAAAMFBMVEX///+YmJhUVFQyMjIQEBBE\n",
       "REQiIiKqqqrMzMyIiIi6urrc3NxmZmZ2dnbu7u4AAADXeCicAAAAAXRSTlMAQObYZgAAAFhJREFU\n",
       "CNdj4LtzgWH/AwZerg8M8xkY2nkSGEIZGB6wTGD4ycDAUP+A4weQOszA6QCkbBhYFYDUIYb1AkDq\n",
       "6czzGxhA4BoQMyXwuQMptgusF4AU+8xTQBIAUqMVoSp/SLMAAAAASUVORK5CYII=\n",
       "\" style=\"display:inline;vertical-align:middle;\" /></a></td></tr>\n",
       "<tr><td>11</td><td>Variable</td><td></td><td><a class=\"ProveItLink\" href=\"../../../../__pv_it/251502494639118b4892de8e9d720a5fcce840e10/expr.ipynb\"><img src=\"data:image/png;base64,iVBORw0KGgoAAAANSUhEUgAAAAoAAAAJBAMAAAD5iKAgAAAALVBMVEX///8yMjLMzMx2dnaqqqpU\n",
       "VFTu7u5mZmaYmJhERESIiIjc3NwQEBC6uroAAAB+iRisAAAAAXRSTlMAQObYZgAAADlJREFUCNdj\n",
       "YOA9c2EXA8POrvIJDAwJDKkJDAwM3AFAguE6iGAxAJHODAwBDEwSFY0XGNgZ+o4wAABKtAsIcBKm\n",
       "agAAAABJRU5ErkJggg==\n",
       "\" style=\"display:inline;vertical-align:middle;\" /></a></td></tr>\n",
       "</table>\n"
      ],
      "text/plain": [
       "0. forall_{z | y < z} (x < z)\n",
       "   core type: Operation\n",
       "   operator: 1\n",
       "   operand: 2\n",
       "1. forall\n",
       "   core type: Literal\n",
       "   sub-expressions: \n",
       "2. z -> (x < z) | y < z\n",
       "   core type: Lambda\n",
       "   parameter: 11\n",
       "   body: 3\n",
       "   conditions: 4\\n3. x < z\n",
       "   core type: Operation\n",
       "   operator: 8\n",
       "   operands: 5\n",
       "4. (y < z)\n",
       "   core type: ExprTuple\n",
       "   sub-expressions: 6\n",
       "5. (x , z)\n",
       "   core type: ExprTuple\n",
       "   sub-expressions: 7, 11\n",
       "6. y < z\n",
       "   core type: Operation\n",
       "   operator: 8\n",
       "   operands: 9\n",
       "7. x\n",
       "   core type: Variable\n",
       "   sub-expressions: \n",
       "8. <\n",
       "   core type: Literal\n",
       "   sub-expressions: \n",
       "9. (y , z)\n",
       "   core type: ExprTuple\n",
       "   sub-expressions: 10, 11\n",
       "10. y\n",
       "    core type: Variable\n",
       "    sub-expressions: \n",
       "11. z\n",
       "    core type: Variable\n",
       "    sub-expressions: "
      ]
     },
     "execution_count": 4,
     "metadata": {},
     "output_type": "execute_result"
    }
   ],
   "source": [
    "# display the expression information\n",
    "expr.exprInfo()"
   ]
  },
  {
   "cell_type": "code",
   "execution_count": null,
   "metadata": {},
   "outputs": [],
   "source": []
  }
 ],
 "metadata": {
  "kernelspec": {
   "display_name": "Python 3",
   "language": "python",
   "name": "python3"
  }
 },
 "nbformat": 4,
 "nbformat_minor": 0
}
