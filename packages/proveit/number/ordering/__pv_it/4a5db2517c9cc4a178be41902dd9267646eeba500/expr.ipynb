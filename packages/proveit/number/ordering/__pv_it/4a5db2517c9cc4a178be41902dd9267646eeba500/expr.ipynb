{
 "cells": [
  {
   "cell_type": "markdown",
   "metadata": {},
   "source": [
    "Expression of type <a class=\"ProveItLink\" href=\"../../../../../../doc/html/api/proveit.ExprTuple.html\">ExprTuple</a>\n",
    "=======================\n",
    "# from context <a class=\"ProveItLink\" href=\"../../_context_.ipynb\">proveit.number.ordering</a>"
   ]
  },
  {
   "cell_type": "code",
   "execution_count": 1,
   "metadata": {},
   "outputs": [],
   "source": [
    "# import Expression classes needed to build the expression\n",
    "from proveit import ExprTuple\n",
    "from proveit.logic import Equals\n",
    "from proveit.number import Less, LessEq"
   ]
  },
  {
   "cell_type": "code",
   "execution_count": 2,
   "metadata": {},
   "outputs": [
    {
     "data": {
      "text/html": [
       "<strong id=\"expr\">expr:</strong> <a class=\"ProveItLink\" href=\"expr.ipynb\"><img src=\"data:image/png;base64,iVBORw0KGgoAAAANSUhEUgAAAK8AAAAVBAMAAADC7aNVAAAAMFBMVEX////c3NwiIiJERESqqqqY\n",
       "mJh2dnZmZmYQEBDu7u4yMjJUVFTMzMyIiIi6uroAAAAs73DqAAAAAXRSTlMAQObYZgAAAUJJREFU\n",
       "OMtjYKAZ4LtAfTPjQMRpGjiW/QCQWEmGRl49AgoWANXgCgnxAzi1TdMlZHMYAwPHBOxSp9fh1DVd\n",
       "laCXZjAwvMIu82oPTk3SSwiHFbMDQxlWCa9CnHrweAUB2AoYlgLjcBUYbIDRDAyXMuFKqsBiq+H0\n",
       "ZBsk/eiSMJqBZQFDHxb7kvAkbV7dCcRkjgaGf5iinMYP8OhhVSPCZJ4P2Axm4NnlgEcTy3IBYgxu\n",
       "AYaxEhgYwGgGBsaiAJiSIrCYMpwG+XP1ARyScEXAoDDFaiNn0k0gicvPPMYHGDjxuph1AUM6Dqmg\n",
       "TAbOTzh9uo9hvgKB5PYIl5zXAc5+PIE54yM+g7keMHDg0cyHL5YeEsjSrAl4Qgqf3gB8krn4i01s\n",
       "BguBI14Pv8GcC0BlCm55fHULLz4Hc4PCkJEGVdMdBgYAJN9fdklquYoAAAAASUVORK5CYII=\n",
       "\" style=\"display:inline;vertical-align:middle;\" /></a><br>"
      ],
      "text/plain": [
       "expr: (= = < , = = <= , = = =)"
      ]
     },
     "execution_count": 2,
     "metadata": {},
     "output_type": "execute_result"
    }
   ],
   "source": [
    "# build up the expression from sub-expressions\n",
    "expr = ExprTuple(Equals(Equals._operator_, Less._operator_), Equals(Equals._operator_, LessEq._operator_), Equals(Equals._operator_, Equals._operator_))"
   ]
  },
  {
   "cell_type": "code",
   "execution_count": 3,
   "metadata": {},
   "outputs": [
    {
     "name": "stdout",
     "output_type": "stream",
     "text": [
      "Passed sanity check: built 'expr' is the same as the stored Expression.\n"
     ]
    }
   ],
   "source": [
    "# check that the built expression is the same as the stored expression\n",
    "%check_expr"
   ]
  },
  {
   "cell_type": "code",
   "execution_count": 4,
   "metadata": {},
   "outputs": [
    {
     "data": {
      "text/html": [
       "<table><tr><th>&nbsp;</th><th>core type</th><th>sub-expressions</th><th>expression</th></tr>\n",
       "<tr><td>0</td><td>ExprTuple</td><td>1, 2, 3</td><td><a class=\"ProveItLink\" href=\"expr.ipynb\"><img src=\"data:image/png;base64,iVBORw0KGgoAAAANSUhEUgAAAK8AAAAVBAMAAADC7aNVAAAAMFBMVEX////c3NwiIiJERESqqqqY\n",
       "mJh2dnZmZmYQEBDu7u4yMjJUVFTMzMyIiIi6uroAAAAs73DqAAAAAXRSTlMAQObYZgAAAUJJREFU\n",
       "OMtjYKAZ4LtAfTPjQMRpGjiW/QCQWEmGRl49AgoWANXgCgnxAzi1TdMlZHMYAwPHBOxSp9fh1DVd\n",
       "laCXZjAwvMIu82oPTk3SSwiHFbMDQxlWCa9CnHrweAUB2AoYlgLjcBUYbIDRDAyXMuFKqsBiq+H0\n",
       "ZBsk/eiSMJqBZQFDHxb7kvAkbV7dCcRkjgaGf5iinMYP8OhhVSPCZJ4P2Axm4NnlgEcTy3IBYgxu\n",
       "AYaxEhgYwGgGBsaiAJiSIrCYMpwG+XP1ARyScEXAoDDFaiNn0k0gicvPPMYHGDjxuph1AUM6Dqmg\n",
       "TAbOTzh9uo9hvgKB5PYIl5zXAc5+PIE54yM+g7keMHDg0cyHL5YeEsjSrAl4Qgqf3gB8krn4i01s\n",
       "BguBI14Pv8GcC0BlCm55fHULLz4Hc4PCkJEGVdMdBgYAJN9fdklquYoAAAAASUVORK5CYII=\n",
       "\" style=\"display:inline;vertical-align:middle;\" /></a></td></tr>\n",
       "<tr><td>1</td><td>Operation</td><td>operator:&nbsp;9<br>operands:&nbsp;4<br></td><td><a class=\"ProveItLink\" href=\"../988d987b640d10c47745e9b4367790779dabb80d0/expr.ipynb\"><img src=\"data:image/png;base64,iVBORw0KGgoAAAANSUhEUgAAAC4AAAAMBAMAAADv85I5AAAALVBMVEX///+YmJju7u52dnaIiIiq\n",
       "qqq6urrMzMzc3NxEREQiIiJUVFQyMjJmZmYAAAAtbRfzAAAAAXRSTlMAQObYZgAAAFNJREFUGNNj\n",
       "YMAGOK5jFWbfk4BNmO10ATZh1rMNQPLOGRA4DacZWBYrYFPNvASrlQya07CLM1QfBVO3VoHASjjN\n",
       "wNC7EIcO5SUK2CUYF+OQYD0OAOB+IJgmfQqgAAAAAElFTkSuQmCC\n",
       "\" style=\"display:inline;vertical-align:middle;\" /></a></td></tr>\n",
       "<tr><td>2</td><td>Operation</td><td>operator:&nbsp;9<br>operands:&nbsp;5<br></td><td><a class=\"ProveItLink\" href=\"../718836f246526fbb646f6e6e5d37416ac4f38ac10/expr.ipynb\"><img src=\"data:image/png;base64,iVBORw0KGgoAAAANSUhEUgAAAC4AAAARBAMAAABQu4N8AAAALVBMVEX////MzMyqqqrc3NyYmJh2\n",
       "dnbu7u66urqIiIhEREQiIiJUVFQyMjJmZmYAAAD/fLGbAAAAAXRSTlMAQObYZgAAAFNJREFUGNNj\n",
       "YCAFcCzHKpy6Aqtw7hKswtaHsApLHwdTd86AwGk4nTkRh1NWJGCXYFmKQ4LprAGQvLUKBFbCaSBg\n",
       "Py2AXQfjTFwS2xloBazA7loOAIjnJCbdfe+WAAAAAElFTkSuQmCC\n",
       "\" style=\"display:inline;vertical-align:middle;\" /></a></td></tr>\n",
       "<tr><td>3</td><td>Operation</td><td>operator:&nbsp;9<br>operands:&nbsp;6<br></td><td><a class=\"ProveItLink\" href=\"../48a1c13d7b1b8f203ef895c1f5fe496a792bdbee0/expr.ipynb\"><img src=\"data:image/png;base64,iVBORw0KGgoAAAANSUhEUgAAAC4AAAAFBAMAAADI/MPxAAAAFVBMVEX///9EREQiIiJUVFQyMjJm\n",
       "ZmYAAADubVkoAAAAAXRSTlMAQObYZgAAABhJREFUCNdjCHEBAWcGdJpaIEgJBBTRaQCYaAkZcuBN\n",
       "fQAAAABJRU5ErkJggg==\n",
       "\" style=\"display:inline;vertical-align:middle;\" /></a></td></tr>\n",
       "<tr><td>4</td><td>ExprTuple</td><td>9, 7</td><td><a class=\"ProveItLink\" href=\"../eb61d9e682019b852b9586b7244fceeafc90606b0/expr.ipynb\"><img src=\"data:image/png;base64,iVBORw0KGgoAAAANSUhEUgAAADUAAAAVBAMAAAAUZLt1AAAAMFBMVEX////c3NwiIiJERESqqqqY\n",
       "mJh2dnZmZmYQEBDu7u4yMjJUVFTMzMyIiIi6uroAAAAs73DqAAAAAXRSTlMAQObYZgAAANFJREFU\n",
       "KM9jYMAH+C5gFY4DEaexa2E/ACRW4jBvAQMDLzYjGWsYGMIYGDgmYErx7HrAwDCDgeEVFtetBtnF\n",
       "7MBQhiHFslwARLEVMCwFOmkVGGyASPGqQWxhWcDQh6aLTRdmcgPDPzS5yXYwB33AkGM4vQQu1wK0\n",
       "TwkMDKCS4qowM02RtEC9Ok0XxGBdwJCOkOL8BGWwgpwK9MMjJLl+AZgX1zAwcD1g4BBAChAkNijM\n",
       "WBMQXFZk9+aixhGyHCcwjhikEXzk6OIGmc+IPU3cYWAAAMORK6GjNWquAAAAAElFTkSuQmCC\n",
       "\" style=\"display:inline;vertical-align:middle;\" /></a></td></tr>\n",
       "<tr><td>5</td><td>ExprTuple</td><td>9, 8</td><td><a class=\"ProveItLink\" href=\"../2616e3b3e10e1d5aa2ea1577b08415db045746270/expr.ipynb\"><img src=\"data:image/png;base64,iVBORw0KGgoAAAANSUhEUgAAADUAAAAVBAMAAAAUZLt1AAAAMFBMVEX////c3NwiIiJERESqqqqY\n",
       "mJh2dnZmZmYQEBDu7u4yMjJUVFTMzMyIiIi6uroAAAAs73DqAAAAAXRSTlMAQObYZgAAANJJREFU\n",
       "KM9jYMAH+C5gFY4DEaexa2E/ACRWYpHg1WNgWACksBg5TRdIhDEwcEzAkJquCiJnMDC8wpCSXgKm\n",
       "mB0YytClTq+D0GwFDEuBTloFBhvAQpNtoGpYFjD0oTtRF+oAvgaGf+hmsqpBJHk+YMoxsCwXgMq1\n",
       "AO1TAgMDeCiuPgAx0xRJB8yrPMZASdYFDOkIKc5PMBbPPrAfHiHJ9QsgGcL1gIEDic+HLAcMM9YE\n",
       "JOcjOzcXNY5AckJgN+sxcC4ABS1CDjm6uEHmM2JPE3cYGADU5yxHL+oX6AAAAABJRU5ErkJggg==\n",
       "\" style=\"display:inline;vertical-align:middle;\" /></a></td></tr>\n",
       "<tr><td>6</td><td>ExprTuple</td><td>9, 9</td><td><a class=\"ProveItLink\" href=\"../ef6bd15f7018fdd55de0a264fb981fc1fb6927aa0/expr.ipynb\"><img src=\"data:image/png;base64,iVBORw0KGgoAAAANSUhEUgAAADUAAAAVBAMAAAAUZLt1AAAAMFBMVEX////c3NwiIiJERESqqqqY\n",
       "mJh2dnZmZmYQEBDu7u4yMjJUVFTMzMyIiIi6uroAAAAs73DqAAAAAXRSTlMAQObYZgAAAKpJREFU\n",
       "KM9jYMAH+C5gFY4DEaexa2E/ACRW4jBvAQMD7wUccmEMDBwTcMjNYGB4hcuNzA4MZbjk2AoYlgKd\n",
       "tAoMNoCFqsDs1QwMLAsY+nD6u4HhHy45ng945VqA9imBgQFYqAjMVgabaYqkFMWrrAsY0hE8zk9o\n",
       "fniEJNcvgCTH9YCBA4nPJ4AaZqwJSFYgm5mLGkfIcpzAOGKQRvCRo4sbZD4j9gi8w8AAAB/tJtB6\n",
       "KozuAAAAAElFTkSuQmCC\n",
       "\" style=\"display:inline;vertical-align:middle;\" /></a></td></tr>\n",
       "<tr><td>7</td><td>Literal</td><td></td><td><a class=\"ProveItLink\" href=\"../7c444b9b2efa607ed6397b492680dde2810212f00/expr.ipynb\"><img src=\"data:image/png;base64,iVBORw0KGgoAAAANSUhEUgAAAA4AAAAMBAMAAACgrpHpAAAALVBMVEX///+YmJhERETu7u52dnYi\n",
       "IiKIiIiqqqq6uroyMjJUVFTMzMxmZmbc3NwAAADmAst+AAAAAXRSTlMAQObYZgAAAD5JREFUCNdj\n",
       "YAAB3tNgintlA4jimLUBRLHPuQCi2EIMQBRLGFgJg5EGhGbYNR3KuBMIZZiEGUAYjCFQBvtsABzC\n",
       "Cm98G6SsAAAAAElFTkSuQmCC\n",
       "\" style=\"display:inline;vertical-align:middle;\" /></a></td></tr>\n",
       "<tr><td>8</td><td>Literal</td><td></td><td><a class=\"ProveItLink\" href=\"../aa616d6a8fe3483e4e64187262e9c7dfe6a536a30/expr.ipynb\"><img src=\"data:image/png;base64,iVBORw0KGgoAAAANSUhEUgAAAA4AAAARBAMAAAAf5oCsAAAALVBMVEX///9ERETMzMyqqqoyMjJU\n",
       "VFTc3NyYmJhmZmZ2dnbu7u66uroiIiKIiIgAAAAFyQXGAAAAAXRSTlMAQObYZgAAAEBJREFUCNdj\n",
       "YEAGvKfB1MqzYGrFcTCV6gymVL3B1EIhqNKzCyAM9pNQBrNHAoTB7aoAYTAJwhjRDLhAzhkQOA0A\n",
       "iskPUSt9tJUAAAAASUVORK5CYII=\n",
       "\" style=\"display:inline;vertical-align:middle;\" /></a></td></tr>\n",
       "<tr><td>9</td><td>Literal</td><td></td><td><a class=\"ProveItLink\" href=\"../../../../logic/equality/__pv_it/2fb26078095930560931daa0500ce419a39ea6cd0/expr.ipynb\"><img src=\"data:image/png;base64,iVBORw0KGgoAAAANSUhEUgAAAA4AAAAFBAMAAACHocAhAAAAFVBMVEX///9EREQiIiJUVFQyMjJm\n",
       "ZmYAAADubVkoAAAAAXRSTlMAQObYZgAAABRJREFUCNdjCHEBAWcGXCBICQQUAUpuAwlgGKrkAAAA\n",
       "AElFTkSuQmCC\n",
       "\" style=\"display:inline;vertical-align:middle;\" /></a></td></tr>\n",
       "</table>\n"
      ],
      "text/plain": [
       "0. (= = < , = = <= , = = =)\n",
       "   core type: ExprTuple\n",
       "   sub-expressions: 1, 2, 3\n",
       "1. = = <\n",
       "   core type: Operation\n",
       "   operator: 9\n",
       "   operands: 4\n",
       "2. = = <=\n",
       "   core type: Operation\n",
       "   operator: 9\n",
       "   operands: 5\n",
       "3. = = =\n",
       "   core type: Operation\n",
       "   operator: 9\n",
       "   operands: 6\n",
       "4. (= , <)\n",
       "   core type: ExprTuple\n",
       "   sub-expressions: 9, 7\n",
       "5. (= , <=)\n",
       "   core type: ExprTuple\n",
       "   sub-expressions: 9, 8\n",
       "6. (= , =)\n",
       "   core type: ExprTuple\n",
       "   sub-expressions: 9, 9\n",
       "7. <\n",
       "   core type: Literal\n",
       "   sub-expressions: \n",
       "8. <=\n",
       "   core type: Literal\n",
       "   sub-expressions: \n",
       "9. =\n",
       "   core type: Literal\n",
       "   sub-expressions: "
      ]
     },
     "execution_count": 4,
     "metadata": {},
     "output_type": "execute_result"
    }
   ],
   "source": [
    "# display the expression information\n",
    "expr.exprInfo()"
   ]
  },
  {
   "cell_type": "code",
   "execution_count": null,
   "metadata": {},
   "outputs": [],
   "source": []
  }
 ],
 "metadata": {
  "kernelspec": {
   "display_name": "Python 3",
   "language": "python",
   "name": "python3"
  }
 },
 "nbformat": 4,
 "nbformat_minor": 0
}
