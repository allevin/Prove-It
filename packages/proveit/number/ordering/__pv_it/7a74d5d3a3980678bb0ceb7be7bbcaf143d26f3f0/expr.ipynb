{
 "cells": [
  {
   "cell_type": "markdown",
   "metadata": {},
   "source": [
    "Expression of type <a class=\"ProveItLink\" href=\"../../../../../../doc/html/api/proveit.logic.Forall.html\">Forall</a>\n",
    "=======================\n",
    "# from context <a class=\"ProveItLink\" href=\"../../_context_.ipynb\">proveit.number.ordering</a>"
   ]
  },
  {
   "cell_type": "code",
   "execution_count": 1,
   "metadata": {},
   "outputs": [],
   "source": [
    "# import Expression classes needed to build the expression\n",
    "from proveit._common_ import x, y, z\n",
    "from proveit.logic import Forall\n",
    "from proveit.number import Greater, GreaterEq"
   ]
  },
  {
   "cell_type": "code",
   "execution_count": 2,
   "metadata": {},
   "outputs": [
    {
     "data": {
      "text/html": [
       "<strong id=\"expr\">expr:</strong> <a class=\"ProveItLink\" href=\"expr.ipynb\"><img src=\"data:image/png;base64,iVBORw0KGgoAAAANSUhEUgAAAJEAAAAXBAMAAAD5H7DVAAAAMFBMVEX///8QEBC6urrMzMxUVFRm\n",
       "ZmZERETc3NwyMjKqqqp2dnaIiIiYmJgiIiLu7u4AAAAU9Wx4AAAAAXRSTlMAQObYZgAAAhtJREFU\n",
       "OMtjYKAaeEC8Um3cUoeA+AKIcZoYg5gdcMuxGjAwrAQx+ogxiQOf8xsYGMqAFHsCMSbtRmKXGKBJ\n",
       "noLYxDqBGJPkkH2apoAq+ZCBgWd5eXktMQYxNSDz2D1QbWcDcr+lpd0ixiTWBUD9q91nR0O4fGsP\n",
       "QCUUhdg3MHAFMDA4MzCkIyzGE+BAna8Yzh6QhfL59q6DuC5naxgDAyfQxSoMfAh3s8FZnO5oJjEC\n",
       "Q2YBw36GyXCRs3FgExn4/IBOEGBg4GXgPoDFJIZSZ1ST+BVAydgNScSkHRqRoCj4wAA0h/cBNpPQ\n",
       "jeIHx5Y0QkAtGRoiAVCT+BpMgCzbvkqESdoJ4Ch/lQRUceM5NJIYQTT7Z6BvIGAGzPuzwMYBfceQ\n",
       "7gQknI4ugJvEt+E7M0iC4VUfA4tOFMy5wDA4zv2BYR80kNbBAnQBAwswMYHCeio4671E+I790QVu\n",
       "cKrfAdTMB0s3wHjm/MMmAIxxcBrYB/OkxdEzTWBZoLNBcuwKSOHEsoAFKMa3DGRIETyBXGDgy163\n",
       "ag+YU4uIpACej0B1HCD9PKAAN2YwR5jEqMBoADQIJMlswFwA1SKOL90+hOcjL80EJJMM9Bn4wsCu\n",
       "NFk0DSmT4garYQxuJokChEmc3hkMTJDcvkGxnZhSha8BXQRiUjmDNxbV7HhKOpYC7CZlMTVgU16N\n",
       "26TNDNhNmr0L6MM0IMgjv35gIV8rAMRMb5OUiLxgAAAAAElFTkSuQmCC\n",
       "\" style=\"display:inline;vertical-align:middle;\" /></a><br>"
      ],
      "text/plain": [
       "expr: forall_{z | y >= z} (x > z)"
      ]
     },
     "execution_count": 2,
     "metadata": {},
     "output_type": "execute_result"
    }
   ],
   "source": [
    "# build up the expression from sub-expressions\n",
    "expr = Forall([z], Greater(x, z), conditions = [GreaterEq(y, z)])"
   ]
  },
  {
   "cell_type": "code",
   "execution_count": 3,
   "metadata": {},
   "outputs": [
    {
     "name": "stdout",
     "output_type": "stream",
     "text": [
      "Passed sanity check: built 'expr' is the same as the stored Expression.\n"
     ]
    }
   ],
   "source": [
    "# check that the built expression is the same as the stored expression\n",
    "%check_expr"
   ]
  },
  {
   "cell_type": "code",
   "execution_count": 4,
   "metadata": {},
   "outputs": [
    {
     "data": {
      "text/html": [
       "<table><tr><th>&nbsp;</th><th>core type</th><th>sub-expressions</th><th>expression</th></tr>\n",
       "<tr><td>0</td><td>Operation</td><td>operator:&nbsp;1<br>operand:&nbsp;2<br></td><td><a class=\"ProveItLink\" href=\"expr.ipynb\"><img src=\"data:image/png;base64,iVBORw0KGgoAAAANSUhEUgAAAJEAAAAXBAMAAAD5H7DVAAAAMFBMVEX///8QEBC6urrMzMxUVFRm\n",
       "ZmZERETc3NwyMjKqqqp2dnaIiIiYmJgiIiLu7u4AAAAU9Wx4AAAAAXRSTlMAQObYZgAAAhtJREFU\n",
       "OMtjYKAaeEC8Um3cUoeA+AKIcZoYg5gdcMuxGjAwrAQx+ogxiQOf8xsYGMqAFHsCMSbtRmKXGKBJ\n",
       "noLYxDqBGJPkkH2apoAq+ZCBgWd5eXktMQYxNSDz2D1QbWcDcr+lpd0ixiTWBUD9q91nR0O4fGsP\n",
       "QCUUhdg3MHAFMDA4MzCkIyzGE+BAna8Yzh6QhfL59q6DuC5naxgDAyfQxSoMfAh3s8FZnO5oJjEC\n",
       "Q2YBw36GyXCRs3FgExn4/IBOEGBg4GXgPoDFJIZSZ1ST+BVAydgNScSkHRqRoCj4wAA0h/cBNpPQ\n",
       "jeIHx5Y0QkAtGRoiAVCT+BpMgCzbvkqESdoJ4Ch/lQRUceM5NJIYQTT7Z6BvIGAGzPuzwMYBfceQ\n",
       "7gQknI4ugJvEt+E7M0iC4VUfA4tOFMy5wDA4zv2BYR80kNbBAnQBAwswMYHCeio4671E+I790QVu\n",
       "cKrfAdTMB0s3wHjm/MMmAIxxcBrYB/OkxdEzTWBZoLNBcuwKSOHEsoAFKMa3DGRIETyBXGDgy163\n",
       "ag+YU4uIpACej0B1HCD9PKAAN2YwR5jEqMBoADQIJMlswFwA1SKOL90+hOcjL80EJJMM9Bn4wsCu\n",
       "NFk0DSmT4garYQxuJokChEmc3hkMTJDcvkGxnZhSha8BXQRiUjmDNxbV7HhKOpYC7CZlMTVgU16N\n",
       "26TNDNhNmr0L6MM0IMgjv35gIV8rAMRMb5OUiLxgAAAAAElFTkSuQmCC\n",
       "\" style=\"display:inline;vertical-align:middle;\" /></a></td></tr>\n",
       "<tr><td>1</td><td>Literal</td><td></td><td><a class=\"ProveItLink\" href=\"../../../../logic/boolean/quantification/universal/__pv_it/265f8c02ac1094d56e0e6410a1c1fd3500dc9f540/expr.ipynb\"><img src=\"data:image/png;base64,iVBORw0KGgoAAAANSUhEUgAAAAwAAAAQBAMAAADQT4M0AAAAMFBMVEX///8QEBC6urrMzMxUVFRm\n",
       "ZmZERETc3NwyMjKqqqp2dnaIiIiYmJgiIiLu7u4AAAAU9Wx4AAAAAXRSTlMAQObYZgAAAFhJREFU\n",
       "CNdjeMAABhdAxGmGlSCqj6EMSLInMHAAJVknMPAsLy+vBYp8S0u7BaScGRjSgZQKA18DkOJl4D4A\n",
       "pLgP8IJM4mswARuX7gSmpoKNZWDcAKZ4gCoAgTQTILaSE58AAAAASUVORK5CYII=\n",
       "\" style=\"display:inline;vertical-align:middle;\" /></a></td></tr>\n",
       "<tr><td>2</td><td>Lambda</td><td>parameter:&nbsp;12<br>body:&nbsp;3<br>conditions:&nbsp;4<br></td><td><a class=\"ProveItLink\" href=\"../f0166e0481174880f3fa8de97ee40ba4c66fe79c0/expr.ipynb\"><img src=\"data:image/png;base64,iVBORw0KGgoAAAANSUhEUgAAALUAAAAVCAMAAAA3kV91AAAANlBMVEX///8UFBQNDQ0iIiIyMjLM\n",
       "zMx2dnaqqqpUVFTu7u5mZmaYmJhERESIiIjc3NwQEBC6uroAAAASmHVxAAAAAXRSTlMAQObYZgAA\n",
       "AfFJREFUSMfFV1l2wyAMdMu+SMD9L1uI0xphwLGbhS+/OIwGzUjCy/KxpfB9sSJc2eXi/jcZ30Za\n",
       "6Gv7rPgka26ubjzF2jBpnkcaBv5ALY48Is/lWnH7NN+HUQaE93PBTTjrkOgPU/FgKfLxO9RczfZ6\n",
       "ddrX01TEEOKC0DWgIrHsXWaUoFGBpX4xkrkxtLRj1kbekDGZfSpiHw+9A2v97wtG9+kaiLt7kOzT\n",
       "zDCw1gZAq6iGVnzMWi4xlapJHQktEz28EsZs5BomRldFEeI9yBpBdXznmN1419AxDFkLtdgS1vsT\n",
       "eEWI7W/fX4yskLac3B/LNu1HDZ0j1fj3RRqyznihqJ7gQDtCNdaWa1XXlbGqAwTo172n+d+gJ6yz\n",
       "asXRIom2TnZBNjxFWmnDmnTN8FebeItg2h6rmx5bQU8ckqMU00NoDO32XVzSJ91nLchp/YrjcC0c\n",
       "MNSBu3lWQ7tJNS68pNDroz664QnurHNbg2m6GQ1kVznd4nNeEKiauwlEoGedb7GZSUyuaha9Rl3h\n",
       "ZTCXgnpsytyEMB6kkRIqAbGjZgPN44R1hgSbjkb4Gapkol++GxxPdMledeXb34EeXRImrDUrx1Kv\n",
       "Yn35pmqmN1WWk+HrhGA9Mf5/D8eLXwUaZ6xVdvVLvxHw0hcYdGY/XOf5AzJXE2wYAim1AAAAAElF\n",
       "TkSuQmCC\n",
       "\" style=\"display:inline;vertical-align:middle;\" /></a></td></tr>\n",
       "<tr><td>3</td><td>Operation</td><td>operator:&nbsp;5<br>operands:&nbsp;6<br></td><td><a class=\"ProveItLink\" href=\"../5f9cc92c4f13847c668e9ddd903ab552b8fb244f0/expr.ipynb\"><img src=\"data:image/png;base64,iVBORw0KGgoAAAANSUhEUgAAADEAAAAMBAMAAAA5VkhcAAAAMFBMVEX///8yMjK6urpERETMzMwQ\n",
       "EBAiIiKYmJju7u5mZmaqqqpUVFSIiIh2dnbc3NwAAADpJKkdAAAAAXRSTlMAQObYZgAAAKNJREFU\n",
       "GNNjYICB1w4MOACLsQIuKb6NC1AF3p5+dfIAmMVxrQAqphrEd4CB4wJ7OmsCRIDj2A2IbvOTkxkY\n",
       "eBl4PnDBLS+bAVbBwLEDRHIbIIz2loM6FEyyHoBLKJtAaKYJYOq9A0MDRGDhPqiKtSCC/cF5Bh6I\n",
       "TNkNqATXBQZuBob1BaYMbyBuPgEz1LGyXIiBofls7x2wN54VwK2bwP51AQMAPNQpBILesMYAAAAA\n",
       "SUVORK5CYII=\n",
       "\" style=\"display:inline;vertical-align:middle;\" /></a></td></tr>\n",
       "<tr><td>4</td><td>ExprTuple</td><td>7</td><td><a class=\"ProveItLink\" href=\"../a47f2b43d011e78598a3835a692f9af8c33ca4280/expr.ipynb\"><img src=\"data:image/png;base64,iVBORw0KGgoAAAANSUhEUgAAAD0AAAAVBAMAAAAHs/uBAAAAMFBMVEX////c3NwiIiJERESqqqqY\n",
       "mJh2dnZmZmYQEBDu7u4yMjJUVFTMzMyIiIi6uroAAAAs73DqAAAAAXRSTlMAQObYZgAAAS5JREFU\n",
       "KM9jYCAE+C7glIoDEadxa2U/ACRWIviTMtEULGBg4EU23qsQVT6MgYFjArLA4z0o8jMYGF6h6jhs\n",
       "h8xjdmAoY2DgTE9gkIcZI70OQr/oY7zAwFbAsJSBgY3vA8N9uB5xHRDJaHq9mIGBZQFDHwPDEXYF\n",
       "BmO4fFAliORk4NwJDJsGhn8MDBM4LjD8hcpyXoL5URqIeT6A5Bn8J/D8gUonwbzLVwCRbwFSVQy8\n",
       "DWBBxqIAmDVuYEUNDKZAajkD8waw9C4HmDRLAgM3AwPrAoZ0IKea4T1Yn/ADuCtPhYcCPQr03yMg\n",
       "Z/LdegG0kC9g/QE0i+sBAwdYJgl7BALDlxVokQJnC3b5XHD8MiUwJ4C5QkogoAeX5lwADgeWu3XY\n",
       "tXOD7GbEnb7uMDAAAK4YQFVksIpVAAAAAElFTkSuQmCC\n",
       "\" style=\"display:inline;vertical-align:middle;\" /></a></td></tr>\n",
       "<tr><td>5</td><td>Literal</td><td></td><td><a class=\"ProveItLink\" href=\"../fed4085ae483b560677c9d938187885e1d910a490/expr.ipynb\"><img src=\"data:image/png;base64,iVBORw0KGgoAAAANSUhEUgAAAA4AAAAMBAMAAACgrpHpAAAALVBMVEX///9mZmaIiIiYmJgiIiJ2\n",
       "dnbu7u6qqqoyMjK6urpERETMzMxUVFTc3NwAAADHHImEAAAAAXRSTlMAQObYZgAAADlJREFUCNdj\n",
       "uLOBAQy4V02AMHhPFEAYbCEGUIZKGITBYCIGoff0gqlZq8FUxVmIZBhElxqYdwWiGQBNjQtMyuln\n",
       "xAAAAABJRU5ErkJggg==\n",
       "\" style=\"display:inline;vertical-align:middle;\" /></a></td></tr>\n",
       "<tr><td>6</td><td>ExprTuple</td><td>8, 12</td><td><a class=\"ProveItLink\" href=\"../0b2afcdb3e359c436e077617831aa49d50dd87000/expr.ipynb\"><img src=\"data:image/png;base64,iVBORw0KGgoAAAANSUhEUgAAACwAAAAVBAMAAADP3xFXAAAAMFBMVEX////c3NwiIiJERESqqqqY\n",
       "mJh2dnZmZmYQEBDu7u4yMjJUVFTMzMyIiIi6uroAAAAs73DqAAAAAXRSTlMAQObYZgAAAOpJREFU\n",
       "GNNjYMAB+C6gi7A+ABKnMVXWAPFKTGEuBgbeC5jCrAkMHBMwhTkbGF5hc4YJQxmQFLstch1q1os+\n",
       "RiArnWEpUE8CqyqHAliU0fR6MZDyYuhjYGBj4P3AcgBiKgPnTpAehn8gNrcB3FhpEHEeJMzAwAF3\n",
       "JV8BRLgFRMkfYIC60w1iMYMp0PUC9xl4J4AlWBIYuIFUFNAtDP4BFgyyDJyfgPxT4aHrGEAOfMTA\n",
       "MPnatNwABs5+AQaGAtYfDkDhdQwcAnDbBJA8DwwWWADBHcl2ASlgEcKzYO4HAUQIbwQFA0aA8x5g\n",
       "AACpBTHTmw8wGwAAAABJRU5ErkJggg==\n",
       "\" style=\"display:inline;vertical-align:middle;\" /></a></td></tr>\n",
       "<tr><td>7</td><td>Operation</td><td>operator:&nbsp;9<br>operands:&nbsp;10<br></td><td><a class=\"ProveItLink\" href=\"../0466394b00b9e5997392f767fe5afed546e6f8b00/expr.ipynb\"><img src=\"data:image/png;base64,iVBORw0KGgoAAAANSUhEUgAAADEAAAASBAMAAAAAiiu3AAAAMFBMVEX///+YmJhUVFQyMjIQEBBE\n",
       "REQiIiKqqqrMzMyIiIi6urrc3NxmZmZ2dnbu7u4AAADXeCicAAAAAXRSTlMAQObYZgAAAL9JREFU\n",
       "GNNjYCAMnt3DKVV8GqfUUg2cUq1RyDy+OxcY9j+AcjZZQeglXtwTGHi5PjDMh6vbkwEiuQPnHGVg\n",
       "aOdJYAiFy4idA5vDwKfHwPCAZQLDT5jJ02Au3wQi6h9w/IBKXJsAleA6ACIPM3A6gLncxwRghtaC\n",
       "SRsGVgWwhHIBTIL9AgMTkDrEsB6sdusCuDuaZQRBzn868/wGNB8fYPwC0X8Ne4gwJfC5Y5dhu8B6\n",
       "AczYlgYCWQgZ9pmnsGsBAEgrL5wTsbC4AAAAAElFTkSuQmCC\n",
       "\" style=\"display:inline;vertical-align:middle;\" /></a></td></tr>\n",
       "<tr><td>8</td><td>Variable</td><td></td><td><a class=\"ProveItLink\" href=\"../../../../__pv_it/530be409e3083890784cf1d7b28c9e67e90af9360/expr.ipynb\"><img src=\"data:image/png;base64,iVBORw0KGgoAAAANSUhEUgAAAAsAAAAJBAMAAAAWSsseAAAAKlBMVEX///9ERETMzMwQEBAiIiKY\n",
       "mJju7u5mZmaqqqpUVFSIiIh2dnbc3NwAAAA/vyDhAAAAAXRSTlMAQObYZgAAAENJREFUCNdjYDi9\n",
       "8sTyBQxsG1hdmR0YuBm4LnAoMLAxcAowgADzAjB1VoEhgYH1wFoGrgSG3gBhhlMMDImrs3cFMAAA\n",
       "t0YN+iTRa+sAAAAASUVORK5CYII=\n",
       "\" style=\"display:inline;vertical-align:middle;\" /></a></td></tr>\n",
       "<tr><td>9</td><td>Literal</td><td></td><td><a class=\"ProveItLink\" href=\"../96143560a3dbc26f943e0a126972c9bfadab3fc50/expr.ipynb\"><img src=\"data:image/png;base64,iVBORw0KGgoAAAANSUhEUgAAAA4AAAARBAMAAAAf5oCsAAAALVBMVEX///+IiIiYmJjMzMxUVFRE\n",
       "RES6urrc3NxmZmYyMjKqqqp2dnYiIiLu7u4AAACqGg1VAAAAAXRSTlMAQObYZgAAAEFJREFUCNdj\n",
       "YICCO3uhjJXtUEaqM5RhGgZllEyDMioOQ2idXhDJKwPWy7tHAESx9yiAKc8FYCWlCQx4Qc0ZEDgG\n",
       "ALzAEHC/pigGAAAAAElFTkSuQmCC\n",
       "\" style=\"display:inline;vertical-align:middle;\" /></a></td></tr>\n",
       "<tr><td>10</td><td>ExprTuple</td><td>11, 12</td><td><a class=\"ProveItLink\" href=\"../1ba9cd67f202dbea908cf31db96755ce36201b140/expr.ipynb\"><img src=\"data:image/png;base64,iVBORw0KGgoAAAANSUhEUgAAACsAAAAVBAMAAAAtAwouAAAAMFBMVEX////c3NwiIiJERESqqqqY\n",
       "mJh2dnZmZmYQEBDu7u4yMjJUVFTMzMyIiIi6uroAAAAs73DqAAAAAXRSTlMAQObYZgAAAQdJREFU\n",
       "GNNjYMAB+C6gi8SBiNMYCtkPAImVmAYsYGDgvYApHMbAwDEBU3gGA8MrLK5gdmAoY2DgTE9gkIdo\n",
       "4ut4IMvAwFbAsBRI8n1guA9RJxxbbsDAwLKAoY+B4Qi7AoMxRHgCw2ygNr4Ghn9ANscFhr9QYxk3\n",
       "AAmeDyBhBv8JPH+gws8ZIMItQKqKgbcBIsqSALa4gcEUSC1nYN7AwAkScGNgAJrCuoAhHcipZngf\n",
       "wDBfAah7aWnUA7ADHwGFJ9+tF2CY8REYSAzxIEO5HjBwCIA0JwHxQ2TPsyYwcCtwgtQEwIVzwQHL\n",
       "lMCcgCzMCQxYBmkGlrt1QJoXrpgbZC4jRoDfYWAAADdMON26mSCyAAAAAElFTkSuQmCC\n",
       "\" style=\"display:inline;vertical-align:middle;\" /></a></td></tr>\n",
       "<tr><td>11</td><td>Variable</td><td></td><td><a class=\"ProveItLink\" href=\"../../../../__pv_it/f8b9edf8e16034727f0aad55bb83e392c3db40d40/expr.ipynb\"><img src=\"data:image/png;base64,iVBORw0KGgoAAAANSUhEUgAAAAsAAAANBAMAAACN24kIAAAAMFBMVEX///+YmJhUVFQyMjIQEBBE\n",
       "REQiIiKqqqrMzMyIiIi6urrc3NxmZmZ2dnbu7u4AAADXeCicAAAAAXRSTlMAQObYZgAAAFhJREFU\n",
       "CNdj4LtzgWH/AwZerg8M8xkY2nkSGEIZGB6wTGD4ycDAUP+A4weQOszA6QCkbBhYFYDUIYb1AkDq\n",
       "6czzGxhA4BoQMyXwuQMptgusF4AU+8xTQBIAUqMVoSp/SLMAAAAASUVORK5CYII=\n",
       "\" style=\"display:inline;vertical-align:middle;\" /></a></td></tr>\n",
       "<tr><td>12</td><td>Variable</td><td></td><td><a class=\"ProveItLink\" href=\"../../../../__pv_it/251502494639118b4892de8e9d720a5fcce840e10/expr.ipynb\"><img src=\"data:image/png;base64,iVBORw0KGgoAAAANSUhEUgAAAAoAAAAJBAMAAAD5iKAgAAAALVBMVEX///8yMjLMzMx2dnaqqqpU\n",
       "VFTu7u5mZmaYmJhERESIiIjc3NwQEBC6uroAAAB+iRisAAAAAXRSTlMAQObYZgAAADlJREFUCNdj\n",
       "YOA9c2EXA8POrvIJDAwJDKkJDAwM3AFAguE6iGAxAJHODAwBDEwSFY0XGNgZ+o4wAABKtAsIcBKm\n",
       "agAAAABJRU5ErkJggg==\n",
       "\" style=\"display:inline;vertical-align:middle;\" /></a></td></tr>\n",
       "</table>\n"
      ],
      "text/plain": [
       "0. forall_{z | y >= z} (x > z)\n",
       "   core type: Operation\n",
       "   operator: 1\n",
       "   operand: 2\n",
       "1. forall\n",
       "   core type: Literal\n",
       "   sub-expressions: \n",
       "2. z -> (x > z) | y >= z\n",
       "   core type: Lambda\n",
       "   parameter: 12\n",
       "   body: 3\n",
       "   conditions: 4\\n3. x > z\n",
       "   core type: Operation\n",
       "   operator: 5\n",
       "   operands: 6\n",
       "4. (y >= z)\n",
       "   core type: ExprTuple\n",
       "   sub-expressions: 7\n",
       "5. >\n",
       "   core type: Literal\n",
       "   sub-expressions: \n",
       "6. (x , z)\n",
       "   core type: ExprTuple\n",
       "   sub-expressions: 8, 12\n",
       "7. y >= z\n",
       "   core type: Operation\n",
       "   operator: 9\n",
       "   operands: 10\n",
       "8. x\n",
       "   core type: Variable\n",
       "   sub-expressions: \n",
       "9. >=\n",
       "   core type: Literal\n",
       "   sub-expressions: \n",
       "10. (y , z)\n",
       "    core type: ExprTuple\n",
       "    sub-expressions: 11, 12\n",
       "11. y\n",
       "    core type: Variable\n",
       "    sub-expressions: \n",
       "12. z\n",
       "    core type: Variable\n",
       "    sub-expressions: "
      ]
     },
     "execution_count": 4,
     "metadata": {},
     "output_type": "execute_result"
    }
   ],
   "source": [
    "# display the expression information\n",
    "expr.exprInfo()"
   ]
  },
  {
   "cell_type": "code",
   "execution_count": null,
   "metadata": {},
   "outputs": [],
   "source": []
  }
 ],
 "metadata": {
  "kernelspec": {
   "display_name": "Python 3",
   "language": "python",
   "name": "python3"
  }
 },
 "nbformat": 4,
 "nbformat_minor": 0
}
