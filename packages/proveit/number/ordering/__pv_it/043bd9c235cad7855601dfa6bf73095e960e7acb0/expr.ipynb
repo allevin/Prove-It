{
 "cells": [
  {
   "cell_type": "markdown",
   "metadata": {},
   "source": [
    "Expression of type <a class=\"ProveItLink\" href=\"../../../../../../doc/html/api/proveit.Lambda.html\">Lambda</a>\n",
    "=======================\n",
    "# from context <a class=\"ProveItLink\" href=\"../../_context_.ipynb\">proveit.number.ordering</a>"
   ]
  },
  {
   "cell_type": "code",
   "execution_count": 1,
   "metadata": {},
   "outputs": [],
   "source": [
    "# import Expression classes needed to build the expression\n",
    "from proveit import Lambda\n",
    "from proveit._common_ import Py, x, y\n",
    "from proveit.logic import Equals"
   ]
  },
  {
   "cell_type": "code",
   "execution_count": 2,
   "metadata": {},
   "outputs": [
    {
     "data": {
      "text/html": [
       "<strong id=\"expr\">expr:</strong> <a class=\"ProveItLink\" href=\"expr.ipynb\"><img src=\"data:image/png;base64,iVBORw0KGgoAAAANSUhEUgAAAKQAAAAVCAMAAAD//bWjAAAANlBMVEX///8UFBQNDQ2YmJhUVFQy\n",
       "MjIQEBBEREQiIiKqqqrMzMyIiIi6urrc3NxmZmZ2dnbu7u4AAACrLjZHAAAAAXRSTlMAQObYZgAA\n",
       "AcxJREFUSMfFluuSgyAMhdnlToCQ93/ZBbUKqNhpnZU/TDX9cjwJF8b+ZdjAnh4emp/c7yLQ/6ce\n",
       "EEQiDyM2b5zogqJ7ViRjJKdJq1WlTH2MfFikI5y7bJmzubAL4visSKA5H6e4PFE7I1lSz4rUNM+C\n",
       "7LJq5FGUvVdkwliKEygdNpS1hy2ZSL9WCR5gMA5EBgQRLER4XxgyT1MZXy9NGyvSQUs6s6qQfJbR\n",
       "YKw8F5kygRvO1JooymqsW0VFdJbFEq31icgkQtOSAjF/4vZMTfk7jFfnInHJbN14hVbE7JMqvtNq\n",
       "/u+PaYYiX7dkv0zmtx3G0cDJUh593YYN0Za8jtyJk0zU/USGHYrsMCORk/3wzllaEWPpH9jq08mI\n",
       "oWnJ2KOUfTVWhRmVe1oMbrF0/mtduM3jmihLXi1ORDo42iXr3YazPYYPFg4P8/KCdOFkTYx58sQ3\n",
       "IX1rsFFLrrtNgxlsQTbH6GxPuKx4TUwaINIbd6kUdb5d9Gy/ON9gpD8VmeMwIQK/ztcJQ/P5aaD2\n",
       "mPuOxYUoTIHaz0XOt4kGg3CDyJpocg6N3xys01WtxqRbrmo10ebCf3f8B9FhRLhD5PfCWpVtdWF/\n",
       "3sFX2f4AM6UV2IWn7A8AAAAASUVORK5CYII=\n",
       "\" style=\"display:inline;vertical-align:middle;\" /></a><br>"
      ],
      "text/plain": [
       "expr: y -> P(y) | x = y"
      ]
     },
     "execution_count": 2,
     "metadata": {},
     "output_type": "execute_result"
    }
   ],
   "source": [
    "# build up the expression from sub-expressions\n",
    "expr = Lambda(y, Py, conditions = [Equals(x, y)])"
   ]
  },
  {
   "cell_type": "code",
   "execution_count": 3,
   "metadata": {},
   "outputs": [
    {
     "name": "stdout",
     "output_type": "stream",
     "text": [
      "Passed sanity check: built 'expr' is the same as the stored Expression.\n"
     ]
    }
   ],
   "source": [
    "# check that the built expression is the same as the stored expression\n",
    "%check_expr"
   ]
  },
  {
   "cell_type": "code",
   "execution_count": 4,
   "metadata": {},
   "outputs": [
    {
     "data": {
      "text/html": [
       "<table><tr><th>&nbsp;</th><th>core type</th><th>sub-expressions</th><th>expression</th></tr>\n",
       "<tr><td>0</td><td>Lambda</td><td>parameter:&nbsp;8<br>body:&nbsp;1<br>conditions:&nbsp;2<br></td><td><a class=\"ProveItLink\" href=\"expr.ipynb\"><img src=\"data:image/png;base64,iVBORw0KGgoAAAANSUhEUgAAAKQAAAAVCAMAAAD//bWjAAAANlBMVEX///8UFBQNDQ2YmJhUVFQy\n",
       "MjIQEBBEREQiIiKqqqrMzMyIiIi6urrc3NxmZmZ2dnbu7u4AAACrLjZHAAAAAXRSTlMAQObYZgAA\n",
       "AcxJREFUSMfFluuSgyAMhdnlToCQ93/ZBbUKqNhpnZU/TDX9cjwJF8b+ZdjAnh4emp/c7yLQ/6ce\n",
       "EEQiDyM2b5zogqJ7ViRjJKdJq1WlTH2MfFikI5y7bJmzubAL4visSKA5H6e4PFE7I1lSz4rUNM+C\n",
       "7LJq5FGUvVdkwliKEygdNpS1hy2ZSL9WCR5gMA5EBgQRLER4XxgyT1MZXy9NGyvSQUs6s6qQfJbR\n",
       "YKw8F5kygRvO1JooymqsW0VFdJbFEq31icgkQtOSAjF/4vZMTfk7jFfnInHJbN14hVbE7JMqvtNq\n",
       "/u+PaYYiX7dkv0zmtx3G0cDJUh593YYN0Za8jtyJk0zU/USGHYrsMCORk/3wzllaEWPpH9jq08mI\n",
       "oWnJ2KOUfTVWhRmVe1oMbrF0/mtduM3jmihLXi1ORDo42iXr3YazPYYPFg4P8/KCdOFkTYx58sQ3\n",
       "IX1rsFFLrrtNgxlsQTbH6GxPuKx4TUwaINIbd6kUdb5d9Gy/ON9gpD8VmeMwIQK/ztcJQ/P5aaD2\n",
       "mPuOxYUoTIHaz0XOt4kGg3CDyJpocg6N3xys01WtxqRbrmo10ebCf3f8B9FhRLhD5PfCWpVtdWF/\n",
       "3sFX2f4AM6UV2IWn7A8AAAAASUVORK5CYII=\n",
       "\" style=\"display:inline;vertical-align:middle;\" /></a></td></tr>\n",
       "<tr><td>1</td><td>Operation</td><td>operator:&nbsp;3<br>operand:&nbsp;8<br></td><td><a class=\"ProveItLink\" href=\"../../../../__pv_it/c5f09cc3a2885e6789037be52d7dfbf4f0376cee0/expr.ipynb\"><img src=\"data:image/png;base64,iVBORw0KGgoAAAANSUhEUgAAAC0AAAAVBAMAAAAgHXppAAAAMFBMVEX////u7u5mZmaYmJi6urqq\n",
       "qqp2dnbMzMwQEBBEREQyMjLc3NwiIiJUVFSIiIgAAAAeC3ydAAAAAXRSTlMAQObYZgAAAR1JREFU\n",
       "GNNjYCACsDyA0CZg8u3/u3fPbgCxaqHyTAVg6hcDA2c3iLEQpnEBiGD/xsDACsQMfA9g4mYggu8L\n",
       "AwPzJyCDQwAmLgEiOD8wMPB+BTK84A7gDAAS/EDT5CcAGWoMDIxJCQz7BRjYFIDc+gQG9kMgVYsZ\n",
       "GNhYPjC8B1oHsvj9tTQ1sDNbGBhKmQ4wzAR6pAHInQ+zDmi/AMcDhn9AJwKtZPjDgBBniBdg/w4R\n",
       "Z/8EE28FYi0GvgaIOSDnQ8BkIF7EwHkB6B2gvZwfYeJJQKzL4G/AAHKn0Py/MO/7ALHkO32g27gc\n",
       "kIOZA+zaHFg4wAFzAgPvAUaQ7Xmo8bKQgSeBMwEYGgtQxfcysL5TAdK8G1DFuaEueM7AAADgEUAs\n",
       "2jlUwQAAAABJRU5ErkJggg==\n",
       "\" style=\"display:inline;vertical-align:middle;\" /></a></td></tr>\n",
       "<tr><td>2</td><td>ExprTuple</td><td>4</td><td><a class=\"ProveItLink\" href=\"../82fb4307ca164a925e64306878b44eca13cccb360/expr.ipynb\"><img src=\"data:image/png;base64,iVBORw0KGgoAAAANSUhEUgAAAD8AAAAVBAMAAAADRiu8AAAAMFBMVEX////c3NwiIiJERESqqqqY\n",
       "mJh2dnZmZmYQEBDu7u4yMjJUVFTMzMyIiIi6uroAAAAs73DqAAAAAXRSTlMAQObYZgAAARFJREFU\n",
       "KM9jYCAI+C7glosDEafxaGY/ACRW4jN+AQMD7wV8CsIYGDgm4FMwg4HhFV4fMDswlAEpsdsi19Fs\n",
       "4kxPYJCfwMBWwLAUyElgVeVQADl6FRhsADLZ+D4w3GdgYFnA0AfkMPB+YDmAasIRdgUGY2AgNTD8\n",
       "A5rAwG2AbvkEjgsMfxkYeD6AFAC9gulX/wk8f8AKWkA8+QMMIN+yK4EB2LgqBt4GsBWmDAysAvcZ\n",
       "eNGDYzkDM9CxrAsY0oGmBVgwyKJbUc3wPoAB5M1HDAyTr03LDUBXMPluvQADA9cDBg4BXKGYBAlq\n",
       "1gSsstwKnCDn5+KMbqYEZqBOTmB0M0hjVcBytw5kDsh+RjwJ4g4DAwALUz0NBgexYgAAAABJRU5E\n",
       "rkJggg==\n",
       "\" style=\"display:inline;vertical-align:middle;\" /></a></td></tr>\n",
       "<tr><td>3</td><td>Variable</td><td></td><td><a class=\"ProveItLink\" href=\"../../../../__pv_it/6369c6c8083c513ca7161ace249642d040f9327d0/expr.ipynb\"><img src=\"data:image/png;base64,iVBORw0KGgoAAAANSUhEUgAAABAAAAAOBAMAAADUAYG5AAAAMFBMVEX////u7u5mZmaYmJi6urqq\n",
       "qqp2dnbMzMwQEBBEREQyMjLc3NwiIiJUVFSIiIgAAAAeC3ydAAAAAXRSTlMAQObYZgAAAGBJREFU\n",
       "CNdjYGB4+//u3bMbGIDgFwMDZzeQZv/GwMAKxAx8XxgYmD8BGZwfGBh4vwIZ/AsYGOQnABn1CQzs\n",
       "h0Ca3l9LUwPrni/AAAF/oDT7JygDZAwYcH6E0ELz/z4A0QBnpRnRyxnfJQAAAABJRU5ErkJggg==\n",
       "\" style=\"display:inline;vertical-align:middle;\" /></a></td></tr>\n",
       "<tr><td>4</td><td>Operation</td><td>operator:&nbsp;5<br>operands:&nbsp;6<br></td><td><a class=\"ProveItLink\" href=\"../11c10f4bba158f3c28c22f8b0eddbb73cf6480560/expr.ipynb\"><img src=\"data:image/png;base64,iVBORw0KGgoAAAANSUhEUgAAADMAAAANBAMAAAD2/0vEAAAAMFBMVEX///+6uroyMjJERETMzMwQ\n",
       "EBAiIiKYmJju7u5mZmaqqqpUVFSIiIh2dnbc3NwAAAAWgogoAAAAAXRSTlMAQObYZgAAAKRJREFU\n",
       "GNNjYHh7+tXJAwwogOPmBYb3DQwcF9jTWROAfE4lMNgAZPIyfmA4D6QYeD5wOaDq8uJMYDAGambg\n",
       "NmBAAw2sBxj+gBisB9ClGNY3sHwB0e8dGBpAdqWBAdiISQw8AQwM7A/OM/A0oOnSZGAGOmd9gSnD\n",
       "G3QDZzPIFzAwNJ/tvVOALtV8Zv4DBlzgGg5x7gSOKBxSbBeYL+CQ4jozEUgCABYeKl4jfnQmAAAA\n",
       "AElFTkSuQmCC\n",
       "\" style=\"display:inline;vertical-align:middle;\" /></a></td></tr>\n",
       "<tr><td>5</td><td>Literal</td><td></td><td><a class=\"ProveItLink\" href=\"../../../../logic/equality/__pv_it/2fb26078095930560931daa0500ce419a39ea6cd0/expr.ipynb\"><img src=\"data:image/png;base64,iVBORw0KGgoAAAANSUhEUgAAAA4AAAAFBAMAAACHocAhAAAAFVBMVEX///9EREQiIiJUVFQyMjJm\n",
       "ZmYAAADubVkoAAAAAXRSTlMAQObYZgAAABRJREFUCNdjCHEBAWcGXCBICQQUAUpuAwlgGKrkAAAA\n",
       "AElFTkSuQmCC\n",
       "\" style=\"display:inline;vertical-align:middle;\" /></a></td></tr>\n",
       "<tr><td>6</td><td>ExprTuple</td><td>7, 8</td><td><a class=\"ProveItLink\" href=\"../a6a2ac9310c73e21661c7634808321702fb219240/expr.ipynb\"><img src=\"data:image/png;base64,iVBORw0KGgoAAAANSUhEUgAAACwAAAAVBAMAAADP3xFXAAAAMFBMVEX////c3NwiIiJERESqqqqY\n",
       "mJh2dnZmZmYQEBDu7u4yMjJUVFTMzMyIiIi6uroAAAAs73DqAAAAAXRSTlMAQObYZgAAAQtJREFU\n",
       "GNNjYMAB+C6gi7A+ABKnMVXWAPFKTGEuBgbeC5jCrAkMHBMwhTkbGF5hc4YJQxmQFLstch1i1rQy\n",
       "BsafDAzpDEuBehJYVTkUwMIJ7xl4PzAweDH0MTCwAZksB0CiPA5FDMwGDAwvGP4BVTNwG0DtYuhl\n",
       "4Acadx4kzMDAAXMly0+G8wdAwi0gnvwBBog72Rcw3GAAGWIKdL3AfQbeCWAJrgIGayAVBXQLg3+A\n",
       "BYMsA+cnkOoNfF8ZQA58xMAw+dq03AAGzn4BoJ221z8ChdcxcAjAQxjMYlMAex4YLLAAAuJNDDMc\n",
       "gFIXkAIWJKzGYAYkZwGxNEwY5Hbf66CY2QjEjBgBznuAAQAt5DtyKXSr1gAAAABJRU5ErkJggg==\n",
       "\" style=\"display:inline;vertical-align:middle;\" /></a></td></tr>\n",
       "<tr><td>7</td><td>Variable</td><td></td><td><a class=\"ProveItLink\" href=\"../../../../__pv_it/530be409e3083890784cf1d7b28c9e67e90af9360/expr.ipynb\"><img src=\"data:image/png;base64,iVBORw0KGgoAAAANSUhEUgAAAAsAAAAJBAMAAAAWSsseAAAAKlBMVEX///9ERETMzMwQEBAiIiKY\n",
       "mJju7u5mZmaqqqpUVFSIiIh2dnbc3NwAAAA/vyDhAAAAAXRSTlMAQObYZgAAAENJREFUCNdjYDi9\n",
       "8sTyBQxsG1hdmR0YuBm4LnAoMLAxcAowgADzAjB1VoEhgYH1wFoGrgSG3gBhhlMMDImrs3cFMAAA\n",
       "t0YN+iTRa+sAAAAASUVORK5CYII=\n",
       "\" style=\"display:inline;vertical-align:middle;\" /></a></td></tr>\n",
       "<tr><td>8</td><td>Variable</td><td></td><td><a class=\"ProveItLink\" href=\"../../../../__pv_it/f8b9edf8e16034727f0aad55bb83e392c3db40d40/expr.ipynb\"><img src=\"data:image/png;base64,iVBORw0KGgoAAAANSUhEUgAAAAsAAAANBAMAAACN24kIAAAAMFBMVEX///+YmJhUVFQyMjIQEBBE\n",
       "REQiIiKqqqrMzMyIiIi6urrc3NxmZmZ2dnbu7u4AAADXeCicAAAAAXRSTlMAQObYZgAAAFhJREFU\n",
       "CNdj4LtzgWH/AwZerg8M8xkY2nkSGEIZGB6wTGD4ycDAUP+A4weQOszA6QCkbBhYFYDUIYb1AkDq\n",
       "6czzGxhA4BoQMyXwuQMptgusF4AU+8xTQBIAUqMVoSp/SLMAAAAASUVORK5CYII=\n",
       "\" style=\"display:inline;vertical-align:middle;\" /></a></td></tr>\n",
       "</table>\n"
      ],
      "text/plain": [
       "0. y -> P(y) | x = y\n",
       "   core type: Lambda\n",
       "   parameter: 8\n",
       "   body: 1\n",
       "   conditions: 2\\n1. P(y)\n",
       "   core type: Operation\n",
       "   operator: 3\n",
       "   operand: 8\n",
       "2. (x = y)\n",
       "   core type: ExprTuple\n",
       "   sub-expressions: 4\n",
       "3. P\n",
       "   core type: Variable\n",
       "   sub-expressions: \n",
       "4. x = y\n",
       "   core type: Operation\n",
       "   operator: 5\n",
       "   operands: 6\n",
       "5. =\n",
       "   core type: Literal\n",
       "   sub-expressions: \n",
       "6. (x , y)\n",
       "   core type: ExprTuple\n",
       "   sub-expressions: 7, 8\n",
       "7. x\n",
       "   core type: Variable\n",
       "   sub-expressions: \n",
       "8. y\n",
       "   core type: Variable\n",
       "   sub-expressions: "
      ]
     },
     "execution_count": 4,
     "metadata": {},
     "output_type": "execute_result"
    }
   ],
   "source": [
    "# display the expression information\n",
    "expr.exprInfo()"
   ]
  },
  {
   "cell_type": "code",
   "execution_count": null,
   "metadata": {},
   "outputs": [],
   "source": []
  }
 ],
 "metadata": {
  "kernelspec": {
   "display_name": "Python 3",
   "language": "python",
   "name": "python3"
  }
 },
 "nbformat": 4,
 "nbformat_minor": 0
}
