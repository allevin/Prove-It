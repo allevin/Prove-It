{
 "cells": [
  {
   "cell_type": "markdown",
   "metadata": {
    "collapsed": true
   },
   "source": [
    "Theorems for context <a href=\"_context_.ipynb\" class=\"ProveItLink\">proveit.number.ordering</a>\n",
    "========"
   ]
  },
  {
   "cell_type": "code",
   "execution_count": 1,
   "metadata": {
    "scrolled": true
   },
   "outputs": [
    {
     "name": "stdout",
     "output_type": "stream",
     "text": [
      "Defining theorems for context 'proveit.number.ordering'\n",
      "Subsequent end-of-cell assignments will define theorems\n",
      "'%end theorems' will finalize the definitions\n"
     ]
    }
   ],
   "source": [
    "from proveit.logic import Forall, Or, Equals, Iff, Implies, InSet\n",
    "from proveit.number import Reals\n",
    "from proveit.number import Less, LessEq, Greater, GreaterEq\n",
    "from proveit._common_ import x, y, z\n",
    "from _common_ import less_eq_relations, greater_eq_relations\n",
    "%begin theorems"
   ]
  },
  {
   "cell_type": "code",
   "execution_count": 2,
   "metadata": {},
   "outputs": [
    {
     "data": {
      "text/html": [
       "<strong id=\"reverseLess\"><a class=\"ProveItLink\" href=\"_proofs_/reverseLess.ipynb\">reverseLess</a>:</strong> <a class=\"ProveItLink\" href=\"__pv_it/3daba7b5278e380522c0f22ed3210ddec5a742a00/expr.ipynb\"><img src=\"__pv_it/3daba7b5278e380522c0f22ed3210ddec5a742a00/expr.png\" style=\"display:inline;vertical-align:middle;\" /></a><br>"
      ],
      "text/plain": [
       "reverseLess: forall_{x, y | x < y} (y > x)"
      ]
     },
     "execution_count": 2,
     "metadata": {},
     "output_type": "execute_result"
    }
   ],
   "source": [
    "reverseLess = Forall((x, y), Greater(y, x), conditions=[Less(x, y)])"
   ]
  },
  {
   "cell_type": "code",
   "execution_count": 3,
   "metadata": {},
   "outputs": [
    {
     "data": {
      "text/html": [
       "<strong id=\"reverseGreater\"><a class=\"ProveItLink\" href=\"_proofs_/reverseGreater.ipynb\">reverseGreater</a>:</strong> <a class=\"ProveItLink\" href=\"__pv_it/448a65e28c56e44920df8a710b2453cdc1a00c400/expr.ipynb\"><img src=\"__pv_it/448a65e28c56e44920df8a710b2453cdc1a00c400/expr.png\" style=\"display:inline;vertical-align:middle;\" /></a><br>"
      ],
      "text/plain": [
       "reverseGreater: forall_{x, y | x > y} (y < x)"
      ]
     },
     "execution_count": 3,
     "metadata": {},
     "output_type": "execute_result"
    }
   ],
   "source": [
    "reverseGreater = Forall((x, y), Less(y, x), conditions=[Greater(x, y)])"
   ]
  },
  {
   "cell_type": "code",
   "execution_count": 4,
   "metadata": {},
   "outputs": [
    {
     "data": {
      "text/html": [
       "<strong id=\"reverseLessEq\"><a class=\"ProveItLink\" href=\"_proofs_/reverseLessEq.ipynb\">reverseLessEq</a>:</strong> <a class=\"ProveItLink\" href=\"__pv_it/1056568176fd009501a82ac90c53b51cfb8dc2c40/expr.ipynb\"><img src=\"__pv_it/1056568176fd009501a82ac90c53b51cfb8dc2c40/expr.png\" style=\"display:inline;vertical-align:middle;\" /></a><br>"
      ],
      "text/plain": [
       "reverseLessEq: forall_{x, y | x <= y} (y >= x)"
      ]
     },
     "execution_count": 4,
     "metadata": {},
     "output_type": "execute_result"
    }
   ],
   "source": [
    "reverseLessEq = Forall((x, y), GreaterEq(y, x), conditions=[LessEq(x, y)])"
   ]
  },
  {
   "cell_type": "code",
   "execution_count": 5,
   "metadata": {},
   "outputs": [
    {
     "data": {
      "text/html": [
       "<strong id=\"reverseGreaterEq\"><a class=\"ProveItLink\" href=\"_proofs_/reverseGreaterEq.ipynb\">reverseGreaterEq</a>:</strong> <a class=\"ProveItLink\" href=\"__pv_it/f02354ecd624367015fd9f7d0803ce0ac81f13030/expr.ipynb\"><img src=\"__pv_it/f02354ecd624367015fd9f7d0803ce0ac81f13030/expr.png\" style=\"display:inline;vertical-align:middle;\" /></a><br>"
      ],
      "text/plain": [
       "reverseGreaterEq: forall_{x, y | x >= y} (y <= x)"
      ]
     },
     "execution_count": 5,
     "metadata": {},
     "output_type": "execute_result"
    }
   ],
   "source": [
    "reverseGreaterEq = Forall((x, y), LessEq(y, x), conditions=[GreaterEq(x, y)])"
   ]
  },
  {
   "cell_type": "code",
   "execution_count": 6,
   "metadata": {},
   "outputs": [
    {
     "data": {
      "text/html": [
       "<strong id=\"transitivityLessLess\"><a class=\"ProveItLink\" href=\"_proofs_/transitivityLessLess.ipynb\">transitivityLessLess</a>:</strong> <a class=\"ProveItLink\" href=\"__pv_it/fbbac9720585e073e56c8572fa740f6df54a77120/expr.ipynb\"><img src=\"__pv_it/fbbac9720585e073e56c8572fa740f6df54a77120/expr.png\" style=\"display:inline;vertical-align:middle;\" /></a><br>"
      ],
      "text/plain": [
       "transitivityLessLess: forall_{x, y, z | x < y , y < z} (x < z)"
      ]
     },
     "execution_count": 6,
     "metadata": {},
     "output_type": "execute_result"
    }
   ],
   "source": [
    "transitivityLessLess = Forall((x,y,z), Less(x, z), conditions=[Less(x,y), Less(y, z)])"
   ]
  },
  {
   "cell_type": "code",
   "execution_count": 7,
   "metadata": {},
   "outputs": [
    {
     "data": {
      "text/html": [
       "<strong id=\"transitivityLessEqLess\"><a class=\"ProveItLink\" href=\"_proofs_/transitivityLessEqLess.ipynb\">transitivityLessEqLess</a>:</strong> <a class=\"ProveItLink\" href=\"__pv_it/337e9b93480d1c1a995ed668b177be5fdda28eaa0/expr.ipynb\"><img src=\"__pv_it/337e9b93480d1c1a995ed668b177be5fdda28eaa0/expr.png\" style=\"display:inline;vertical-align:middle;\" /></a><br>"
      ],
      "text/plain": [
       "transitivityLessEqLess: forall_{x, y, z | x <= y , y < z} (x < z)"
      ]
     },
     "execution_count": 7,
     "metadata": {},
     "output_type": "execute_result"
    }
   ],
   "source": [
    "transitivityLessEqLess = Forall((x,y,z), Less(x, z), conditions=[LessEq(x,y), Less(y, z)])"
   ]
  },
  {
   "cell_type": "code",
   "execution_count": 8,
   "metadata": {},
   "outputs": [
    {
     "data": {
      "text/html": [
       "<strong id=\"transitivityLessLessEq\"><a class=\"ProveItLink\" href=\"_proofs_/transitivityLessLessEq.ipynb\">transitivityLessLessEq</a>:</strong> <a class=\"ProveItLink\" href=\"__pv_it/fd65d196812ac74b56026bfc4bd0feddf0a64dbb0/expr.ipynb\"><img src=\"__pv_it/fd65d196812ac74b56026bfc4bd0feddf0a64dbb0/expr.png\" style=\"display:inline;vertical-align:middle;\" /></a><br>"
      ],
      "text/plain": [
       "transitivityLessLessEq: forall_{x, y, z | x < y , y <= z} (x < z)"
      ]
     },
     "execution_count": 8,
     "metadata": {},
     "output_type": "execute_result"
    }
   ],
   "source": [
    "transitivityLessLessEq = Forall((x,y,z), Less(x, z), conditions=[Less(x,y), LessEq(y, z)])"
   ]
  },
  {
   "cell_type": "code",
   "execution_count": 9,
   "metadata": {},
   "outputs": [
    {
     "data": {
      "text/html": [
       "<strong id=\"transitivityLessEqLessEq\"><a class=\"ProveItLink\" href=\"_proofs_/transitivityLessEqLessEq.ipynb\">transitivityLessEqLessEq</a>:</strong> <a class=\"ProveItLink\" href=\"__pv_it/7dceb4cce2bc4a58fbe1657e3b94a0c36710333e0/expr.ipynb\"><img src=\"__pv_it/7dceb4cce2bc4a58fbe1657e3b94a0c36710333e0/expr.png\" style=\"display:inline;vertical-align:middle;\" /></a><br>"
      ],
      "text/plain": [
       "transitivityLessEqLessEq: forall_{x, y, z | x <= y , y <= z} (x <= z)"
      ]
     },
     "execution_count": 9,
     "metadata": {},
     "output_type": "execute_result"
    }
   ],
   "source": [
    "transitivityLessEqLessEq = Forall((x,y,z), LessEq(x, z), conditions=[LessEq(x,y), LessEq(y, z)])"
   ]
  },
  {
   "cell_type": "code",
   "execution_count": 10,
   "metadata": {},
   "outputs": [
    {
     "data": {
      "text/html": [
       "<strong id=\"transitivityGreaterGreater\"><a class=\"ProveItLink\" href=\"_proofs_/transitivityGreaterGreater.ipynb\">transitivityGreaterGreater</a>:</strong> <a class=\"ProveItLink\" href=\"__pv_it/883ddd15cca862e3167946ef7ef8071fb8bf3e180/expr.ipynb\"><img src=\"__pv_it/883ddd15cca862e3167946ef7ef8071fb8bf3e180/expr.png\" style=\"display:inline;vertical-align:middle;\" /></a><br>"
      ],
      "text/plain": [
       "transitivityGreaterGreater: forall_{x, y, z | x > y , y > z} (x > z)"
      ]
     },
     "execution_count": 10,
     "metadata": {},
     "output_type": "execute_result"
    }
   ],
   "source": [
    "transitivityGreaterGreater = Forall((x,y,z), Greater(x, z), conditions=[Greater(x,y), Greater(y, z)])"
   ]
  },
  {
   "cell_type": "code",
   "execution_count": 11,
   "metadata": {},
   "outputs": [
    {
     "data": {
      "text/html": [
       "<strong id=\"transitivityGreaterEqGreater\"><a class=\"ProveItLink\" href=\"_proofs_/transitivityGreaterEqGreater.ipynb\">transitivityGreaterEqGreater</a>:</strong> <a class=\"ProveItLink\" href=\"__pv_it/79f4d8caa2c339b7b96a602f94d25c5a5f08262f0/expr.ipynb\"><img src=\"__pv_it/79f4d8caa2c339b7b96a602f94d25c5a5f08262f0/expr.png\" style=\"display:inline;vertical-align:middle;\" /></a><br>"
      ],
      "text/plain": [
       "transitivityGreaterEqGreater: forall_{x, y, z | x >= y , y > z} (x > z)"
      ]
     },
     "execution_count": 11,
     "metadata": {},
     "output_type": "execute_result"
    }
   ],
   "source": [
    "transitivityGreaterEqGreater = Forall((x,y,z), Greater(x, z), conditions=[GreaterEq(x,y), Greater(y, z)])"
   ]
  },
  {
   "cell_type": "code",
   "execution_count": 12,
   "metadata": {},
   "outputs": [
    {
     "data": {
      "text/html": [
       "<strong id=\"transitivityGreaterGreaterEq\"><a class=\"ProveItLink\" href=\"_proofs_/transitivityGreaterGreaterEq.ipynb\">transitivityGreaterGreaterEq</a>:</strong> <a class=\"ProveItLink\" href=\"__pv_it/5cb102c772d38f9e2e6dda553f0f0e7b693f8ee40/expr.ipynb\"><img src=\"__pv_it/5cb102c772d38f9e2e6dda553f0f0e7b693f8ee40/expr.png\" style=\"display:inline;vertical-align:middle;\" /></a><br>"
      ],
      "text/plain": [
       "transitivityGreaterGreaterEq: forall_{x, y, z | x > y , y >= z} (x > z)"
      ]
     },
     "execution_count": 12,
     "metadata": {},
     "output_type": "execute_result"
    }
   ],
   "source": [
    "transitivityGreaterGreaterEq = Forall((x,y,z), Greater(x, z), conditions=[Greater(x,y), GreaterEq(y, z)])"
   ]
  },
  {
   "cell_type": "code",
   "execution_count": 13,
   "metadata": {},
   "outputs": [
    {
     "data": {
      "text/html": [
       "<strong id=\"transitivityGreaterEqGreaterEq\"><a class=\"ProveItLink\" href=\"_proofs_/transitivityGreaterEqGreaterEq.ipynb\">transitivityGreaterEqGreaterEq</a>:</strong> <a class=\"ProveItLink\" href=\"__pv_it/fd61c2f41c277465b97ff1c0a0184b522f6261430/expr.ipynb\"><img src=\"__pv_it/fd61c2f41c277465b97ff1c0a0184b522f6261430/expr.png\" style=\"display:inline;vertical-align:middle;\" /></a><br>"
      ],
      "text/plain": [
       "transitivityGreaterEqGreaterEq: forall_{x, y, z | x >= y , y >= z} (x >= z)"
      ]
     },
     "execution_count": 13,
     "metadata": {},
     "output_type": "execute_result"
    }
   ],
   "source": [
    "transitivityGreaterEqGreaterEq = Forall((x,y,z), GreaterEq(x, z), conditions=[GreaterEq(x,y), GreaterEq(y, z)])"
   ]
  },
  {
   "cell_type": "code",
   "execution_count": 14,
   "metadata": {},
   "outputs": [
    {
     "data": {
      "text/html": [
       "<strong id=\"symmetricLessEq\"><a class=\"ProveItLink\" href=\"_proofs_/symmetricLessEq.ipynb\">symmetricLessEq</a>:</strong> <a class=\"ProveItLink\" href=\"__pv_it/2f0a758b97c384341c9f56d54dd4b21cfe8bc4e20/expr.ipynb\"><img src=\"__pv_it/2f0a758b97c384341c9f56d54dd4b21cfe8bc4e20/expr.png\" style=\"display:inline;vertical-align:middle;\" /></a><br>"
      ],
      "text/plain": [
       "symmetricLessEq: forall_{x, y | x <= y , y <= x} (x = y)"
      ]
     },
     "execution_count": 14,
     "metadata": {},
     "output_type": "execute_result"
    }
   ],
   "source": [
    "symmetricLessEq = Forall((x,y), Equals(x, y), conditions=[LessEq(x,y), LessEq(y, x)])"
   ]
  },
  {
   "cell_type": "code",
   "execution_count": 15,
   "metadata": {},
   "outputs": [
    {
     "data": {
      "text/html": [
       "<strong id=\"symmetricGreaterEq\"><a class=\"ProveItLink\" href=\"_proofs_/symmetricGreaterEq.ipynb\">symmetricGreaterEq</a>:</strong> <a class=\"ProveItLink\" href=\"__pv_it/b84988b4d0864056065dd21f9f014f4bd7dd40570/expr.ipynb\"><img src=\"__pv_it/b84988b4d0864056065dd21f9f014f4bd7dd40570/expr.png\" style=\"display:inline;vertical-align:middle;\" /></a><br>"
      ],
      "text/plain": [
       "symmetricGreaterEq: forall_{x, y | x >= y , y >= x} (x = y)"
      ]
     },
     "execution_count": 15,
     "metadata": {},
     "output_type": "execute_result"
    }
   ],
   "source": [
    "symmetricGreaterEq = Forall((x,y), Equals(x, y), conditions=[GreaterEq(x,y), GreaterEq(y, x)])"
   ]
  },
  {
   "cell_type": "code",
   "execution_count": 16,
   "metadata": {},
   "outputs": [
    {
     "data": {
      "text/html": [
       "<strong id=\"less__in__less_eq_relations\"><a class=\"ProveItLink\" href=\"_proofs_/less__in__less_eq_relations.ipynb\">less__in__less_eq_relations</a>:</strong> <a class=\"ProveItLink\" href=\"__pv_it/d4a584cb28dab2ba0ace67e7f307613c5f3803dd0/expr.ipynb\"><img src=\"__pv_it/d4a584cb28dab2ba0ace67e7f307613c5f3803dd0/expr.png\" style=\"display:inline;vertical-align:middle;\" /></a><br>"
      ],
      "text/plain": [
       "less__in__less_eq_relations: < in {< , <= , =}"
      ]
     },
     "execution_count": 16,
     "metadata": {},
     "output_type": "execute_result"
    }
   ],
   "source": [
    "less__in__less_eq_relations = InSet(Less._operator_, less_eq_relations)"
   ]
  },
  {
   "cell_type": "code",
   "execution_count": 17,
   "metadata": {},
   "outputs": [
    {
     "data": {
      "text/html": [
       "<strong id=\"less_eq__in__less_eq_relations\"><a class=\"ProveItLink\" href=\"_proofs_/less_eq__in__less_eq_relations.ipynb\">less_eq__in__less_eq_relations</a>:</strong> <a class=\"ProveItLink\" href=\"__pv_it/b1f49f2be6476291afd2ccbfb414f8e0775ad5b40/expr.ipynb\"><img src=\"__pv_it/b1f49f2be6476291afd2ccbfb414f8e0775ad5b40/expr.png\" style=\"display:inline;vertical-align:middle;\" /></a><br>"
      ],
      "text/plain": [
       "less_eq__in__less_eq_relations: <= in {< , <= , =}"
      ]
     },
     "execution_count": 17,
     "metadata": {},
     "output_type": "execute_result"
    }
   ],
   "source": [
    "less_eq__in__less_eq_relations = InSet(LessEq._operator_, less_eq_relations)"
   ]
  },
  {
   "cell_type": "code",
   "execution_count": 18,
   "metadata": {},
   "outputs": [
    {
     "data": {
      "text/html": [
       "<strong id=\"eq__in__less_eq_relations\"><a class=\"ProveItLink\" href=\"_proofs_/eq__in__less_eq_relations.ipynb\">eq__in__less_eq_relations</a>:</strong> <a class=\"ProveItLink\" href=\"__pv_it/d5076c8da292ac6f65f6c45668e3590f8f628aaa0/expr.ipynb\"><img src=\"__pv_it/d5076c8da292ac6f65f6c45668e3590f8f628aaa0/expr.png\" style=\"display:inline;vertical-align:middle;\" /></a><br>"
      ],
      "text/plain": [
       "eq__in__less_eq_relations: = in {< , <= , =}"
      ]
     },
     "execution_count": 18,
     "metadata": {},
     "output_type": "execute_result"
    }
   ],
   "source": [
    "eq__in__less_eq_relations = InSet(Equals._operator_, less_eq_relations)"
   ]
  },
  {
   "cell_type": "code",
   "execution_count": 19,
   "metadata": {},
   "outputs": [
    {
     "data": {
      "text/html": [
       "<strong id=\"greater__in__greater_eq_relations\"><a class=\"ProveItLink\" href=\"_proofs_/greater__in__greater_eq_relations.ipynb\">greater__in__greater_eq_relations</a>:</strong> <a class=\"ProveItLink\" href=\"__pv_it/3e7f75fd9fd002ccd087215008b515a9dca6f2830/expr.ipynb\"><img src=\"__pv_it/3e7f75fd9fd002ccd087215008b515a9dca6f2830/expr.png\" style=\"display:inline;vertical-align:middle;\" /></a><br>"
      ],
      "text/plain": [
       "greater__in__greater_eq_relations: > in {> , >= , =}"
      ]
     },
     "execution_count": 19,
     "metadata": {},
     "output_type": "execute_result"
    }
   ],
   "source": [
    "greater__in__greater_eq_relations = InSet(Greater._operator_, greater_eq_relations)"
   ]
  },
  {
   "cell_type": "code",
   "execution_count": 20,
   "metadata": {},
   "outputs": [
    {
     "data": {
      "text/html": [
       "<strong id=\"greater_eq__in__greater_eq_relations\"><a class=\"ProveItLink\" href=\"_proofs_/greater_eq__in__greater_eq_relations.ipynb\">greater_eq__in__greater_eq_relations</a>:</strong> <a class=\"ProveItLink\" href=\"__pv_it/5abf0c39e4245a36cd53e018ffbc8e4b540cb1320/expr.ipynb\"><img src=\"__pv_it/5abf0c39e4245a36cd53e018ffbc8e4b540cb1320/expr.png\" style=\"display:inline;vertical-align:middle;\" /></a><br>"
      ],
      "text/plain": [
       "greater_eq__in__greater_eq_relations: >= in {> , >= , =}"
      ]
     },
     "execution_count": 20,
     "metadata": {},
     "output_type": "execute_result"
    }
   ],
   "source": [
    "greater_eq__in__greater_eq_relations = InSet(GreaterEq._operator_, greater_eq_relations)"
   ]
  },
  {
   "cell_type": "code",
   "execution_count": 21,
   "metadata": {},
   "outputs": [
    {
     "data": {
      "text/html": [
       "<strong id=\"eq__in__greater_eq_relations\"><a class=\"ProveItLink\" href=\"_proofs_/eq__in__greater_eq_relations.ipynb\">eq__in__greater_eq_relations</a>:</strong> <a class=\"ProveItLink\" href=\"__pv_it/a9270babe3c006a45c104bc46419c31c2e0554510/expr.ipynb\"><img src=\"__pv_it/a9270babe3c006a45c104bc46419c31c2e0554510/expr.png\" style=\"display:inline;vertical-align:middle;\" /></a><br>"
      ],
      "text/plain": [
       "eq__in__greater_eq_relations: = in {> , >= , =}"
      ]
     },
     "execution_count": 21,
     "metadata": {},
     "output_type": "execute_result"
    }
   ],
   "source": [
    "eq__in__greater_eq_relations = InSet(Equals._operator_, greater_eq_relations)"
   ]
  },
  {
   "cell_type": "code",
   "execution_count": 22,
   "metadata": {},
   "outputs": [
    {
     "name": "stdout",
     "output_type": "stream",
     "text": [
      "Theorems may be imported from autogenerated _theorems_.py\n"
     ]
    }
   ],
   "source": [
    "%end theorems"
   ]
  },
  {
   "cell_type": "code",
   "execution_count": 23,
   "metadata": {},
   "outputs": [],
   "source": []
  }
 ],
 "metadata": {
  "kernelspec": {
   "display_name": "Python 3",
   "language": "python",
   "name": "python3"
  },
  "language_info": {
   "codemirror_mode": {
    "name": "ipython",
    "version": 3
   },
   "file_extension": ".py",
   "mimetype": "text/x-python",
   "name": "python",
   "nbconvert_exporter": "python",
   "pygments_lexer": "ipython3",
   "version": "3.7.0"
  }
 },
 "nbformat": 4,
 "nbformat_minor": 1
}
