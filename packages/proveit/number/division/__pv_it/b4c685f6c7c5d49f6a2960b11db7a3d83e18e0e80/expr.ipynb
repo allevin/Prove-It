{
 "cells": [
  {
   "cell_type": "markdown",
   "metadata": {},
   "source": [
    "Expression of type <a class=\"ProveItLink\" href=\"../../../../../../doc/html/api/proveit.number.Exp.html\">Exp</a>\n",
    "=======================\n",
    "# from context <a class=\"ProveItLink\" href=\"../../_context_.ipynb\">proveit.number.division</a>"
   ]
  },
  {
   "cell_type": "code",
   "execution_count": 1,
   "metadata": {},
   "outputs": [],
   "source": [
    "# import Expression classes needed to build the expression\n",
    "from proveit._common_ import a, b, n\n",
    "from proveit.number import Exp, frac"
   ]
  },
  {
   "cell_type": "code",
   "execution_count": 2,
   "metadata": {},
   "outputs": [
    {
     "data": {
      "text/html": [
       "<strong id=\"expr\">expr:</strong> <a class=\"ProveItLink\" href=\"expr.ipynb\"><img src=\"data:image/png;base64,iVBORw0KGgoAAAANSUhEUgAAAC8AAAAoBAMAAACcDL4nAAAAMFBMVEX///9UVFR2dnbc3NwyMjK6\n",
       "urpmZmbMzMwQEBDu7u4iIiKqqqpERESYmJiIiIgAAAAQbUJnAAAAAXRSTlMAQObYZgAAAZlJREFU\n",
       "KM91UzFLw1AQvqZJmialcXARIbi4CEIH99bFTejg4OAQwcmpi5tgsZugtJuTyVRX/0EzOWdRxMUo\n",
       "1skhWLAUqXr3XpKXp+0Nd/fuu7ve3ZcC/Jf74cvCjDCU76ZwzbxqmIaWSBevGjBi73d6OasdgB32\n",
       "LkRam6zlo9qtVWKsDShgtHS3ifayhQVT0Cm4TUAdjCOMwS1Vx2BGFKuh2gN9HY02QWUH4FGSnptT\n",
       "dSkzggF0seVIACdU7d3AokUlWwI4ZGWh1VfIeRLABVvKGR4PgZcmUhpL9zDd1KvGElDwU6/iS4DI\n",
       "MwMJ0LLOtisBpa/U8yKZjO/Uq4cyTR/Z4n+AzwxgG/2QxDOAWRXzWtWjOT9ur0hx5DgRY96CKj9J\n",
       "74w/rYxCvc3tJjdKdkRrwm3SotLIjsMjWoLbYkhOv+LnPg0uD3wG55ltuiYG9JpMB8AoOheAwuYd\n",
       "dOGURmnnqGGZB/xKZv5yr6T6oNExHvNXUEO2ho4DFzsSzfSHG4OB11RlcjZw9mXYR8+RKSjiwL03\n",
       "bFhuiuAv4u5tjRFc6igAAAAASUVORK5CYII=\n",
       "\" style=\"display:inline;vertical-align:middle;\" /></a><br>"
      ],
      "text/plain": [
       "expr: a / b^{n}"
      ]
     },
     "execution_count": 2,
     "metadata": {},
     "output_type": "execute_result"
    }
   ],
   "source": [
    "# build up the expression from sub-expressions\n",
    "expr = Exp(frac(a, b), n)"
   ]
  },
  {
   "cell_type": "code",
   "execution_count": 3,
   "metadata": {},
   "outputs": [
    {
     "name": "stdout",
     "output_type": "stream",
     "text": [
      "Passed sanity check: built 'expr' is the same as the stored Expression.\n"
     ]
    }
   ],
   "source": [
    "# check that the built expression is the same as the stored expression\n",
    "%check_expr"
   ]
  },
  {
   "cell_type": "code",
   "execution_count": 4,
   "metadata": {},
   "outputs": [
    {
     "data": {
      "text/html": [
       "<table><tr><th>&nbsp;</th><th>core type</th><th>sub-expressions</th><th>expression</th></tr>\n",
       "<tr><td>0</td><td>Operation</td><td>operator:&nbsp;1<br>operands:&nbsp;2<br></td><td><a class=\"ProveItLink\" href=\"expr.ipynb\"><img src=\"data:image/png;base64,iVBORw0KGgoAAAANSUhEUgAAAC8AAAAoBAMAAACcDL4nAAAAMFBMVEX///9UVFR2dnbc3NwyMjK6\n",
       "urpmZmbMzMwQEBDu7u4iIiKqqqpERESYmJiIiIgAAAAQbUJnAAAAAXRSTlMAQObYZgAAAZlJREFU\n",
       "KM91UzFLw1AQvqZJmialcXARIbi4CEIH99bFTejg4OAQwcmpi5tgsZugtJuTyVRX/0EzOWdRxMUo\n",
       "1skhWLAUqXr3XpKXp+0Nd/fuu7ve3ZcC/Jf74cvCjDCU76ZwzbxqmIaWSBevGjBi73d6OasdgB32\n",
       "LkRam6zlo9qtVWKsDShgtHS3ifayhQVT0Cm4TUAdjCOMwS1Vx2BGFKuh2gN9HY02QWUH4FGSnptT\n",
       "dSkzggF0seVIACdU7d3AokUlWwI4ZGWh1VfIeRLABVvKGR4PgZcmUhpL9zDd1KvGElDwU6/iS4DI\n",
       "MwMJ0LLOtisBpa/U8yKZjO/Uq4cyTR/Z4n+AzwxgG/2QxDOAWRXzWtWjOT9ur0hx5DgRY96CKj9J\n",
       "74w/rYxCvc3tJjdKdkRrwm3SotLIjsMjWoLbYkhOv+LnPg0uD3wG55ltuiYG9JpMB8AoOheAwuYd\n",
       "dOGURmnnqGGZB/xKZv5yr6T6oNExHvNXUEO2ho4DFzsSzfSHG4OB11RlcjZw9mXYR8+RKSjiwL03\n",
       "bFhuiuAv4u5tjRFc6igAAAAASUVORK5CYII=\n",
       "\" style=\"display:inline;vertical-align:middle;\" /></a></td></tr>\n",
       "<tr><td>1</td><td>Literal</td><td></td><td><a class=\"ProveItLink\" href=\"../../../exponentiation/__pv_it/deb2bf23cbccdd6e6791e1b35b5b9794ce12dbd50/expr.ipynb\"><img src=\"data:image/png;base64,iVBORw0KGgoAAAANSUhEUgAAACgAAAASBAMAAADbMYGVAAAAMFBMVEX///8QEBAiIiKYmJjc3Nzu\n",
       "7u7MzMx2dnZmZma6urpERESqqqoyMjJUVFSIiIgAAAAoDOMTAAAAAXRSTlMAQObYZgAAAOBJREFU\n",
       "GNNjYGB4+//u3Tt/GNAASGAXmhjnPyDBgSbI/g1IxKEJ8nxgYGdgQRPkX8BgDKRY6q7s62OYvmze\n",
       "2wAgb/7ZO1+AVDiDkYEQQ0HTBr4DQF59AgOIKmB4z7CNbcNZBu6vQN55kEACQwDDLQYGVobfDHwg\n",
       "fb8YGBxYHwAZciD3fWXg+gB1JjvQcJZvQIXsCgz8F6DO9GBgMOH7wPCUgaeBwd4B7EwGNjUG7s9c\n",
       "AiwPgO5jkWRgiF3/9+5dfQUG1nWl5Y+B7pv+1gE9bBhqGLCAE1jEWH9jEbT5A3IwAC4sP/1L6Qlu\n",
       "AAAAAElFTkSuQmCC\n",
       "\" style=\"display:inline;vertical-align:middle;\" /></a></td></tr>\n",
       "<tr><td>2</td><td>ExprTuple</td><td>3, 4</td><td><a class=\"ProveItLink\" href=\"../a46b02fc65a915c1cb20175c01cddc8dc65c33130/expr.ipynb\"><img src=\"data:image/png;base64,iVBORw0KGgoAAAANSUhEUgAAADgAAAAmBAMAAABjdEXGAAAAMFBMVEX///9UVFR2dnbc3NwyMjK6\n",
       "urpmZmbMzMwQEBDu7u4iIiKqqqpERESYmJiIiIgAAAAQbUJnAAAAAXRSTlMAQObYZgAAAbNJREFU\n",
       "OMt1UzFPwlAQ/oC2UIrUgcWYkC4uxoHB0QgubiYMDkwGEycnfoAJRjcTFTY3mHBx4B/YxMSZ0bhQ\n",
       "EnHRgUiUIEG9ew+Tvja95H3v8r6+63139wAg20PIzJWF804rkV87V9h9uVltgkohM1LIrCu2mxpd\n",
       "nMNw1cB7Ah9pxUZIeypZLBDoUwLbRaumksYygVblzzzco6GQiTFBna+3ushZgau7tI7Z0XpWJx6Q\n",
       "2qd1JWLkhyfDAEnRkhNEWLqK7CiKjLWRaUeRdC3tRpH6BHY1ikzO0PKChwcP2wOHu/aDYqiZTs4z\n",
       "hYQP1IOkXr6D+cneF+pd3n/ZpCiTGGvqJ/1GTKy0IEP/NEqwew1BFpVs+SzloN9wREK245+5b+5t\n",
       "GRuWHJ2UvwjmNTW3Amy9ySJosnzNC6mj4EtsDONUujsCl3xh4qOFJGAWIjMlmPJUl9/4U7c9OUcU\n",
       "I9xWnrwn4Wn5QbAa6zxHZTFNLoLDdMkBhZb7Bs4CJWYZsndHXEp1+MRvXhg60Ocq+Sxz6QmZxlR9\n",
       "KvItm7cEE26G37RFnzdJ0CoO1aj5/wgkpvmqyjRZ4B/F8XWpFicnrAAAAABJRU5ErkJggg==\n",
       "\" style=\"display:inline;vertical-align:middle;\" /></a></td></tr>\n",
       "<tr><td>3</td><td>Operation</td><td>operator:&nbsp;5<br>operands:&nbsp;6<br></td><td><a class=\"ProveItLink\" href=\"../1b49e7ee2de3b30a6050970a225ff20f3ddca0a30/expr.ipynb\"><img src=\"data:image/png;base64,iVBORw0KGgoAAAANSUhEUgAAAAsAAAAlBAMAAABmJA5TAAAAMFBMVEX///8yMjKqqqrMzMzu7u4i\n",
       "IiJmZmaYmJhEREQQEBC6urp2dnaIiIhUVFTc3NwAAAD87Fq/AAAAAXRSTlMAQObYZgAAAI9JREFU\n",
       "GNNjYOC7s2seAwPDygccHxgY+L4zsDUwMPB+YGA9wMDA38Dgb8DA8P4Agz6DA4O/AsNFJgMGxgKm\n",
       "MG6gyjunLE4xkA3+g8AHopT6ToXQshDqE5jk+gKmuAPAFOOdswVAyr+B4TOQ0ndgmA2kEhkYvgGp\n",
       "MAau72BtbCAtnxk4NwCpSwy5YKOPAbUBAH1lJ1xAI087AAAAAElFTkSuQmCC\n",
       "\" style=\"display:inline;vertical-align:middle;\" /></a></td></tr>\n",
       "<tr><td>4</td><td>Variable</td><td></td><td><a class=\"ProveItLink\" href=\"../../../../__pv_it/39dbcd3ca0390345b51c6ef7785756419e2c14390/expr.ipynb\"><img src=\"data:image/png;base64,iVBORw0KGgoAAAANSUhEUgAAAAwAAAAJBAMAAAD0ltBnAAAAMFBMVEX///8QEBCYmJhmZmaqqqoi\n",
       "IiLMzMzu7u4yMjJ2dnZUVFTc3NxERESIiIi6uroAAABbPXqjAAAAAXRSTlMAQObYZgAAAERJREFU\n",
       "CNdj4Luz++5KBgZOrl6G+gSGd6wHGOofMBQAsX8BAwivYGBgsGBg+MTOwCDJwPSdk4H7HwPnATcG\n",
       "PgEG7rMOAGtQEUwHZIDZAAAAAElFTkSuQmCC\n",
       "\" style=\"display:inline;vertical-align:middle;\" /></a></td></tr>\n",
       "<tr><td>5</td><td>Literal</td><td></td><td><a class=\"ProveItLink\" href=\"../089f5ca61fe425d4f6ef7efa2138c1a2fa47180c0/expr.ipynb\"><img src=\"data:image/png;base64,iVBORw0KGgoAAAANSUhEUgAAAA4AAAAMBAMAAACgrpHpAAAAIVBMVEX///9ERERmZmbc3NwQEBAi\n",
       "IiKqqqrMzMx2dnaIiIgAAACeyUhQAAAAAXRSTlMAQObYZgAAACJJREFUCNdjYGBgmMEABuyrEiCM\n",
       "EAMG3EA1FAQCsUlhMwcALk0GeoeEfOIAAAAASUVORK5CYII=\n",
       "\" style=\"display:inline;vertical-align:middle;\" /></a></td></tr>\n",
       "<tr><td>6</td><td>ExprTuple</td><td>7, 8</td><td><a class=\"ProveItLink\" href=\"../359d2ffcad0b096b85ece3bdabdf3ac9ad97321c0/expr.ipynb\"><img src=\"data:image/png;base64,iVBORw0KGgoAAAANSUhEUgAAACkAAAAVBAMAAAAp9toTAAAAMFBMVEX////c3NwiIiJERESqqqqY\n",
       "mJh2dnZmZmYQEBDu7u4yMjJUVFTMzMyIiIi6uroAAAAs73DqAAAAAXRSTlMAQObYZgAAAQxJREFU\n",
       "GNNtkSFPw1AQx3/burWlbJ1HgMPO4PsNqEKSBYOC1IAFEoIklXOtQRDMDAkhWdIEidkHgAVQBLOS\n",
       "ZQJDuGv3km7hiXv/+72Xe/+7B/+vzngF7Gt4rgD3YQvsTNRt9d7aUEIK7aUCfiBhD5y4SqeaDeBr\n",
       "6aUDDY2AU9lqo+OLkt693kMr4kb0Z7eRlx5m+BlWyrVcnWP3Cmr94PTpnPMLXk69dGKn+BHruVK/\n",
       "R5IVtB4xDZVewuaYXeKF3bNYK+xAEvBoZa7SjCtophxKm6G13SKREXiBPSycfajdydOEwbc4G53o\n",
       "MN5wuqavdyOk42bfJKERR9VJGurKJNlYJG1z6mnN2uoPvcAf68w9OrA141UAAAAASUVORK5CYII=\n",
       "\" style=\"display:inline;vertical-align:middle;\" /></a></td></tr>\n",
       "<tr><td>7</td><td>Variable</td><td></td><td><a class=\"ProveItLink\" href=\"../../../../__pv_it/07527342713064c87612d00d8557c53d53d5324a0/expr.ipynb\"><img src=\"data:image/png;base64,iVBORw0KGgoAAAANSUhEUgAAAAsAAAAJBAMAAAAWSsseAAAAMFBMVEX///8yMjKqqqrMzMzu7u4i\n",
       "IiJmZmaYmJhEREQQEBC6urp2dnaIiIhUVFTc3NwAAAD87Fq/AAAAAXRSTlMAQObYZgAAAEhJREFU\n",
       "CNdjYOC7s2seAwPDygccHxgY+L4zsDUwMPB+YGA9wMDA38Dgb8DA8P4Agz6DA4O/AsNFJgMGxgKm\n",
       "MG6gyjunLE4xAAAZTBA5TB6DCwAAAABJRU5ErkJggg==\n",
       "\" style=\"display:inline;vertical-align:middle;\" /></a></td></tr>\n",
       "<tr><td>8</td><td>Variable</td><td></td><td><a class=\"ProveItLink\" href=\"../../../../__pv_it/6840a4fa6c106149dc16a131294d0c5e44f1b0480/expr.ipynb\"><img src=\"data:image/png;base64,iVBORw0KGgoAAAANSUhEUgAAAAkAAAAOBAMAAAAPuiubAAAALVBMVEX///9mZmbMzMxERESYmJiI\n",
       "iIh2dna6urqqqqoyMjIiIiIQEBBUVFTu7u4AAAD9S1JeAAAAAXRSTlMAQObYZgAAAE1JREFUCNdj\n",
       "4D29gAEIOA+ASL4GEFl3AURmgQiGOaFHGBh4HzPwKTBwvGXgTmBgnMDAJ8DAJcBQ5wBSLncBJLWN\n",
       "gYGngRFoBO9REQYGAGrcDtUkVqASAAAAAElFTkSuQmCC\n",
       "\" style=\"display:inline;vertical-align:middle;\" /></a></td></tr>\n",
       "</table>\n"
      ],
      "text/plain": [
       "0. a / b^{n}\n",
       "   core type: Operation\n",
       "   operator: 1\n",
       "   operands: 2\n",
       "1. Exp\n",
       "   core type: Literal\n",
       "   sub-expressions: \n",
       "2. (a / b , n)\n",
       "   core type: ExprTuple\n",
       "   sub-expressions: 3, 4\n",
       "3. a / b\n",
       "   core type: Operation\n",
       "   operator: 5\n",
       "   operands: 6\n",
       "4. n\n",
       "   core type: Variable\n",
       "   sub-expressions: \n",
       "5. /\n",
       "   core type: Literal\n",
       "   sub-expressions: \n",
       "6. (a , b)\n",
       "   core type: ExprTuple\n",
       "   sub-expressions: 7, 8\n",
       "7. a\n",
       "   core type: Variable\n",
       "   sub-expressions: \n",
       "8. b\n",
       "   core type: Variable\n",
       "   sub-expressions: "
      ]
     },
     "execution_count": 4,
     "metadata": {},
     "output_type": "execute_result"
    }
   ],
   "source": [
    "# display the expression information\n",
    "expr.exprInfo()"
   ]
  },
  {
   "cell_type": "code",
   "execution_count": null,
   "metadata": {},
   "outputs": [],
   "source": []
  }
 ],
 "metadata": {
  "kernelspec": {
   "display_name": "Python 3",
   "language": "python",
   "name": "python3"
  }
 },
 "nbformat": 4,
 "nbformat_minor": 0
}
