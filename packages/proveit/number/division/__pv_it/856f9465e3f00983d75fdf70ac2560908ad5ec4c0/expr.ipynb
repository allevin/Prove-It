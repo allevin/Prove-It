{
 "cells": [
  {
   "cell_type": "markdown",
   "metadata": {},
   "source": [
    "Expression of type <a class=\"ProveItLink\" href=\"../../../../../../doc/html/api/proveit.ExprTuple.html\">ExprTuple</a>\n",
    "=======================\n",
    "# from context <a class=\"ProveItLink\" href=\"../../_context_.ipynb\">proveit.number.division</a>"
   ]
  },
  {
   "cell_type": "code",
   "execution_count": 1,
   "metadata": {},
   "outputs": [],
   "source": [
    "# import Expression classes needed to build the expression\n",
    "from proveit import ExprTuple\n",
    "from proveit._common_ import x, y\n",
    "from proveit.number import Mult, frac"
   ]
  },
  {
   "cell_type": "code",
   "execution_count": 2,
   "metadata": {},
   "outputs": [
    {
     "data": {
      "text/html": [
       "<strong id=\"expr\">expr:</strong> <a class=\"ProveItLink\" href=\"expr.ipynb\"><img src=\"data:image/png;base64,iVBORw0KGgoAAAANSUhEUgAAAFEAAAAmBAMAAABOhmp8AAAAMFBMVEX///9UVFR2dnbc3NwyMjK6\n",
       "urpmZmbMzMwQEBDu7u4iIiKqqqpERESYmJiIiIgAAAAQbUJnAAAAAXRSTlMAQObYZgAAAe9JREFU\n",
       "OMuNVLtKA0EUPSYm7pqXYCcWwc5GF7EQBJPKxsY/8FGmkPzBWovEGBAiCFkstAqk0yqJImIlARux\n",
       "iiJBIaJgEVR83J3JbGazD7zsPPbes7P3njkzABBvwN92891Jm9rM/XyrKSKFdQQ/JGQozceIAajJ\n",
       "WFkxRCS5gvibvGibD8UsEKBQhEbsUxuqZBCty8hBnt8lNRUDLKR+spccEk0ZGXxnSfCMFBZSt1k+\n",
       "H9CztprW2MqrbJ7KQlSIcBpP9upTGnW62cW0V8QtJH18Zkey5TLmrNa4woLlD4+Evu3ImElFzpwd\n",
       "PBSmevyr1613O1L9Iko6brsSMPocR+ijmNsYihWHC1HDiTzEeb/rFRiuO5HV1nK/ayWLxCr+Y3oF\n",
       "paYvQsiKYCl/cQpZJZLQfZGWrChJnfHx6zTOuJCVhfQ0ISsT6Z+nkBUhU9615yVZUUX0eBjTv5AV\n",
       "UaR4Mq/uaD1ZUTmDdc+/h7SerGoawpueyJgkq2lGgx9SyOqCq9nDmpKsfqgt/kdKQ2ZZt/INMDVa\n",
       "3fA8LSVJtQXcNbbckIq5kwGJpiSdghM35CkjuCPv37h7nmXWP8qunDtfhnzl8ZI6JEmnzWl8f48t\n",
       "zw2dhGcX5FJ3nNWEbL+jm0EXFQ4IX3DZuo8mJ15cltwzuz8WAJo/V6TA9QAAAABJRU5ErkJggg==\n",
       "\" style=\"display:inline;vertical-align:middle;\" /></a><br>"
      ],
      "text/plain": [
       "expr: ((x * y) / x , y)"
      ]
     },
     "execution_count": 2,
     "metadata": {},
     "output_type": "execute_result"
    }
   ],
   "source": [
    "# build up the expression from sub-expressions\n",
    "expr = ExprTuple(frac(Mult(x, y), x), y)"
   ]
  },
  {
   "cell_type": "code",
   "execution_count": 3,
   "metadata": {},
   "outputs": [
    {
     "name": "stdout",
     "output_type": "stream",
     "text": [
      "Passed sanity check: built 'expr' is the same as the stored Expression.\n"
     ]
    }
   ],
   "source": [
    "# check that the built expression is the same as the stored expression\n",
    "%check_expr"
   ]
  },
  {
   "cell_type": "code",
   "execution_count": 4,
   "metadata": {},
   "outputs": [
    {
     "data": {
      "text/html": [
       "<table><tr><th>&nbsp;</th><th>core type</th><th>sub-expressions</th><th>expression</th></tr>\n",
       "<tr><td>0</td><td>ExprTuple</td><td>1, 8</td><td><a class=\"ProveItLink\" href=\"expr.ipynb\"><img src=\"data:image/png;base64,iVBORw0KGgoAAAANSUhEUgAAAFEAAAAmBAMAAABOhmp8AAAAMFBMVEX///9UVFR2dnbc3NwyMjK6\n",
       "urpmZmbMzMwQEBDu7u4iIiKqqqpERESYmJiIiIgAAAAQbUJnAAAAAXRSTlMAQObYZgAAAe9JREFU\n",
       "OMuNVLtKA0EUPSYm7pqXYCcWwc5GF7EQBJPKxsY/8FGmkPzBWovEGBAiCFkstAqk0yqJImIlARux\n",
       "iiJBIaJgEVR83J3JbGazD7zsPPbes7P3njkzABBvwN92891Jm9rM/XyrKSKFdQQ/JGQozceIAajJ\n",
       "WFkxRCS5gvibvGibD8UsEKBQhEbsUxuqZBCty8hBnt8lNRUDLKR+spccEk0ZGXxnSfCMFBZSt1k+\n",
       "H9CztprW2MqrbJ7KQlSIcBpP9upTGnW62cW0V8QtJH18Zkey5TLmrNa4woLlD4+Evu3ImElFzpwd\n",
       "PBSmevyr1613O1L9Iko6brsSMPocR+ijmNsYihWHC1HDiTzEeb/rFRiuO5HV1nK/ayWLxCr+Y3oF\n",
       "paYvQsiKYCl/cQpZJZLQfZGWrChJnfHx6zTOuJCVhfQ0ISsT6Z+nkBUhU9615yVZUUX0eBjTv5AV\n",
       "UaR4Mq/uaD1ZUTmDdc+/h7SerGoawpueyJgkq2lGgx9SyOqCq9nDmpKsfqgt/kdKQ2ZZt/INMDVa\n",
       "3fA8LSVJtQXcNbbckIq5kwGJpiSdghM35CkjuCPv37h7nmXWP8qunDtfhnzl8ZI6JEmnzWl8f48t\n",
       "zw2dhGcX5FJ3nNWEbL+jm0EXFQ4IX3DZuo8mJ15cltwzuz8WAJo/V6TA9QAAAABJRU5ErkJggg==\n",
       "\" style=\"display:inline;vertical-align:middle;\" /></a></td></tr>\n",
       "<tr><td>1</td><td>Operation</td><td>operator:&nbsp;2<br>operands:&nbsp;3<br></td><td><a class=\"ProveItLink\" href=\"../635b61bcb8185e427070f430c38719bcf36202350/expr.ipynb\"><img src=\"data:image/png;base64,iVBORw0KGgoAAAANSUhEUgAAACYAAAAlBAMAAADch4YzAAAAMFBMVEX///8yMjK6urpERETMzMwQ\n",
       "EBAiIiKYmJju7u5mZmaqqqpUVFSIiIh2dnbc3NwAAADpJKkdAAAAAXRSTlMAQObYZgAAAN5JREFU\n",
       "KM9jYHh7+tXJAwxQ0DuXge8HA8cF9nTWBJjYBX0Gng8MvECCywHI7QBilgXTGJgNGDgYuA1AKji+\n",
       "gQiGGAZ+kEGsYNM4gkEk1w8Gf5Cm9w4MDTDzOAUYjjIwsD84z8ADF2OcwGDNwLC+wJThDQNc3Qam\n",
       "7wwMzWd77xTAxThsTv5jwAC8Cegi2xhaF6CL5TLYYuhcc1KBgfrgPyZgGGaA786+NXPQxHoZygrC\n",
       "0MQuMJxnWIIm1sCwGYuJMVgs+QJMVaigDpgUT6AKcX1nDuA7gCrGYXPj7nEYBwBhI0lduKo54gAA\n",
       "AABJRU5ErkJggg==\n",
       "\" style=\"display:inline;vertical-align:middle;\" /></a></td></tr>\n",
       "<tr><td>2</td><td>Literal</td><td></td><td><a class=\"ProveItLink\" href=\"../089f5ca61fe425d4f6ef7efa2138c1a2fa47180c0/expr.ipynb\"><img src=\"data:image/png;base64,iVBORw0KGgoAAAANSUhEUgAAAA4AAAAMBAMAAACgrpHpAAAAIVBMVEX///9ERERmZmbc3NwQEBAi\n",
       "IiKqqqrMzMx2dnaIiIgAAACeyUhQAAAAAXRSTlMAQObYZgAAACJJREFUCNdjYGBgmMEABuyrEiCM\n",
       "EAMG3EA1FAQCsUlhMwcALk0GeoeEfOIAAAAASUVORK5CYII=\n",
       "\" style=\"display:inline;vertical-align:middle;\" /></a></td></tr>\n",
       "<tr><td>3</td><td>ExprTuple</td><td>4, 7</td><td><a class=\"ProveItLink\" href=\"../ac38d4d519edb57efa5d696591c284943adf0dbc0/expr.ipynb\"><img src=\"data:image/png;base64,iVBORw0KGgoAAAANSUhEUgAAAEcAAAAVBAMAAADm2O7QAAAAMFBMVEX////c3NwiIiJERESqqqqY\n",
       "mJh2dnZmZmYQEBDu7u4yMjJUVFTMzMyIiIi6uroAAAAs73DqAAAAAXRSTlMAQObYZgAAAVBJREFU\n",
       "KM+Nkj9Lw2AQh5/Qpm3sHzOIi4hddHZRBBH6ASxGB0fppDgEikM3oYhrtSCUbmZxcLP6Bbo72EWr\n",
       "KLQ4uliFDgUR701qWqoYM9xd7n1yv9y9B/96Uo2/z7eUuQ4oEq2LOQ+SciDZCII2IVYOgqrwEthZ\n",
       "KENB3OTjRNNXrRTQem6k2bXsPkTynIGR02dj6W8o90qy4+FsWAcQdjgSVLJh1agh/5fI7BGa93Ba\n",
       "rMogi3zKGXEve5pWLyXGPe0yV8olOgqSFr1sVbHhHjf1vnSpDx0qP1PHn0TU4b4fah9SWMktgG62\n",
       "SPrQWJ5l3G/WpYEHOXbYgTVrienBXV2kuhjvotsNFbWGO4JnOLmr2JYPGSvNN4xjU4Ld7VtVuk3M\n",
       "/DHiiDSZMoevRc+NIJdUM5IeJOxfVmWORYYhQ1aFqREo22yLHSxQXAlrAQv1BF+T8UwwLn0GQAAA\n",
       "AABJRU5ErkJggg==\n",
       "\" style=\"display:inline;vertical-align:middle;\" /></a></td></tr>\n",
       "<tr><td>4</td><td>Operation</td><td>operator:&nbsp;5<br>operands:&nbsp;6<br></td><td><a class=\"ProveItLink\" href=\"../f5bcb8ac133969024aa1d7e1c73cf8d29b3b83ff0/expr.ipynb\"><img src=\"data:image/png;base64,iVBORw0KGgoAAAANSUhEUgAAACYAAAANBAMAAAA3eAFoAAAAMFBMVEX///8yMjK6urpERETMzMwQ\n",
       "EBAiIiKYmJju7u5mZmaqqqpUVFSIiIh2dnbc3NwAAADpJKkdAAAAAXRSTlMAQObYZgAAAJ1JREFU\n",
       "GNNjYHh7+tXJAwxQ0DuXge8HA8cF9nTWBJjYBX0Gng8MvECCywHI7QBilgXTGJgNGDgYuA1AKji+\n",
       "gQiGGAZ+kEGsYNM4gkEk1w8Gf5Cm9w4MDTDzOAUYjjIwsD84z8ADF2OcwGDNwLC+wJThDQNc3Qam\n",
       "7wwMzWd77xTAxThsTv5jwAC8Cegi2xhaF6CL5TLYYuhcc1KBgQEA7zMlt29LHQkAAAAASUVORK5C\n",
       "YII=\n",
       "\" style=\"display:inline;vertical-align:middle;\" /></a></td></tr>\n",
       "<tr><td>5</td><td>Literal</td><td></td><td><a class=\"ProveItLink\" href=\"../../../multiplication/__pv_it/21fd2079611555ecce512d99547a00d551e6b86b0/expr.ipynb\"><img src=\"data:image/png;base64,iVBORw0KGgoAAAANSUhEUgAAAAMAAAADBAMAAACkBqiMAAAAElBMVEX///9EREQQEBAiIiLu7u4A\n",
       "AABGBidwAAAAAXRSTlMAQObYZgAAABFJREFUCNdjYHFgcDVgcBIAAASWAQx4jI0xAAAAAElFTkSu\n",
       "QmCC\n",
       "\" style=\"display:inline;vertical-align:middle;\" /></a></td></tr>\n",
       "<tr><td>6</td><td>ExprTuple</td><td>7, 8</td><td><a class=\"ProveItLink\" href=\"../a6a2ac9310c73e21661c7634808321702fb219240/expr.ipynb\"><img src=\"data:image/png;base64,iVBORw0KGgoAAAANSUhEUgAAACwAAAAVBAMAAADP3xFXAAAAMFBMVEX////c3NwiIiJERESqqqqY\n",
       "mJh2dnZmZmYQEBDu7u4yMjJUVFTMzMyIiIi6uroAAAAs73DqAAAAAXRSTlMAQObYZgAAAQtJREFU\n",
       "GNNjYMAB+C6gi7A+ABKnMVXWAPFKTGEuBgbeC5jCrAkMHBMwhTkbGF5hc4YJQxmQFLstch1i1rQy\n",
       "BsafDAzpDEuBehJYVTkUwMIJ7xl4PzAweDH0MTCwAZksB0CiPA5FDMwGDAwvGP4BVTNwG0DtYuhl\n",
       "4Acadx4kzMDAAXMly0+G8wdAwi0gnvwBBog72Rcw3GAAGWIKdL3AfQbeCWAJrgIGayAVBXQLg3+A\n",
       "BYMsA+cnkOoNfF8ZQA58xMAw+dq03AAGzn4BoJ221z8ChdcxcAjAQxjMYlMAex4YLLAAAuJNDDMc\n",
       "gFIXkAIWJKzGYAYkZwGxNEwY5Hbf66CY2QjEjBgBznuAAQAt5DtyKXSr1gAAAABJRU5ErkJggg==\n",
       "\" style=\"display:inline;vertical-align:middle;\" /></a></td></tr>\n",
       "<tr><td>7</td><td>Variable</td><td></td><td><a class=\"ProveItLink\" href=\"../../../../__pv_it/530be409e3083890784cf1d7b28c9e67e90af9360/expr.ipynb\"><img src=\"data:image/png;base64,iVBORw0KGgoAAAANSUhEUgAAAAsAAAAJBAMAAAAWSsseAAAAKlBMVEX///9ERETMzMwQEBAiIiKY\n",
       "mJju7u5mZmaqqqpUVFSIiIh2dnbc3NwAAAA/vyDhAAAAAXRSTlMAQObYZgAAAENJREFUCNdjYDi9\n",
       "8sTyBQxsG1hdmR0YuBm4LnAoMLAxcAowgADzAjB1VoEhgYH1wFoGrgSG3gBhhlMMDImrs3cFMAAA\n",
       "t0YN+iTRa+sAAAAASUVORK5CYII=\n",
       "\" style=\"display:inline;vertical-align:middle;\" /></a></td></tr>\n",
       "<tr><td>8</td><td>Variable</td><td></td><td><a class=\"ProveItLink\" href=\"../../../../__pv_it/f8b9edf8e16034727f0aad55bb83e392c3db40d40/expr.ipynb\"><img src=\"data:image/png;base64,iVBORw0KGgoAAAANSUhEUgAAAAsAAAANBAMAAACN24kIAAAAMFBMVEX///+YmJhUVFQyMjIQEBBE\n",
       "REQiIiKqqqrMzMyIiIi6urrc3NxmZmZ2dnbu7u4AAADXeCicAAAAAXRSTlMAQObYZgAAAFhJREFU\n",
       "CNdj4LtzgWH/AwZerg8M8xkY2nkSGEIZGB6wTGD4ycDAUP+A4weQOszA6QCkbBhYFYDUIYb1AkDq\n",
       "6czzGxhA4BoQMyXwuQMptgusF4AU+8xTQBIAUqMVoSp/SLMAAAAASUVORK5CYII=\n",
       "\" style=\"display:inline;vertical-align:middle;\" /></a></td></tr>\n",
       "</table>\n"
      ],
      "text/plain": [
       "0. ((x * y) / x , y)\n",
       "   core type: ExprTuple\n",
       "   sub-expressions: 1, 8\n",
       "1. (x * y) / x\n",
       "   core type: Operation\n",
       "   operator: 2\n",
       "   operands: 3\n",
       "2. /\n",
       "   core type: Literal\n",
       "   sub-expressions: \n",
       "3. (x * y , x)\n",
       "   core type: ExprTuple\n",
       "   sub-expressions: 4, 7\n",
       "4. x * y\n",
       "   core type: Operation\n",
       "   operator: 5\n",
       "   operands: 6\n",
       "5. *\n",
       "   core type: Literal\n",
       "   sub-expressions: \n",
       "6. (x , y)\n",
       "   core type: ExprTuple\n",
       "   sub-expressions: 7, 8\n",
       "7. x\n",
       "   core type: Variable\n",
       "   sub-expressions: \n",
       "8. y\n",
       "   core type: Variable\n",
       "   sub-expressions: "
      ]
     },
     "execution_count": 4,
     "metadata": {},
     "output_type": "execute_result"
    }
   ],
   "source": [
    "# display the expression information\n",
    "expr.exprInfo()"
   ]
  },
  {
   "cell_type": "code",
   "execution_count": null,
   "metadata": {},
   "outputs": [],
   "source": []
  }
 ],
 "metadata": {
  "kernelspec": {
   "display_name": "Python 3",
   "language": "python",
   "name": "python3"
  }
 },
 "nbformat": 4,
 "nbformat_minor": 0
}
