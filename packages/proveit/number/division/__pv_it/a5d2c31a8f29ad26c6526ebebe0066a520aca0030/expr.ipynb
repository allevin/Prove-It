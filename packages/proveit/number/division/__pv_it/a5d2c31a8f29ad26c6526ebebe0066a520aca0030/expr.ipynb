{
 "cells": [
  {
   "cell_type": "markdown",
   "metadata": {},
   "source": [
    "Expression of type <a class=\"ProveItLink\" href=\"../../../../../../doc/html/api/proveit.logic.InSet.html\">InSet</a>\n",
    "=======================\n",
    "# from context <a class=\"ProveItLink\" href=\"../../_context_.ipynb\">proveit.number.division</a>"
   ]
  },
  {
   "cell_type": "code",
   "execution_count": 1,
   "metadata": {},
   "outputs": [],
   "source": [
    "# import Expression classes needed to build the expression\n",
    "from proveit._common_ import w\n",
    "from proveit.logic import InSet\n",
    "from proveit.number import Complexes"
   ]
  },
  {
   "cell_type": "code",
   "execution_count": 2,
   "metadata": {},
   "outputs": [
    {
     "data": {
      "text/html": [
       "<strong id=\"expr\">expr:</strong> <a class=\"ProveItLink\" href=\"expr.ipynb\"><img src=\"data:image/png;base64,iVBORw0KGgoAAAANSUhEUgAAADgAAAAPBAMAAABD1xE4AAAAMFBMVEX///+IiIgiIiLMzMyqqqpU\n",
       "VFRERES6urrc3NwQEBAyMjKYmJhmZmZ2dnbu7u4AAADdI688AAAAAXRSTlMAQObYZgAAAOBJREFU\n",
       "GNNjYMAOhFb9VDuAQ878O8PbjwHY5bhZNzAw+KNK8kkpKS0AMfZxAgkeVEmrfVDGgVaQUgEGvjsX\n",
       "GHYx7GwA8jjyYCYcqIUweNg/MKQy+DsAmWwNUEnmC94QhgmPAsNvBjYDIPMZA1yyGsJ4wCnA/IOB\n",
       "F8SsVFKCOIgvwRaqrP4B4wSIpCncZetYoYxTDGwBDC0g1iO45F6w5AMGoGuYLjAIgDggn0MA23ag\n",
       "ALseA8M1BssDHGBhPnW41tDEB8/TgDp5LsrlSkOEug7D3Xvo/9QCtDB1XQQJPigAAH84NMi+DIK6\n",
       "AAAAAElFTkSuQmCC\n",
       "\" style=\"display:inline;vertical-align:middle;\" /></a><br>"
      ],
      "text/plain": [
       "expr: w in Complexes"
      ]
     },
     "execution_count": 2,
     "metadata": {},
     "output_type": "execute_result"
    }
   ],
   "source": [
    "# build up the expression from sub-expressions\n",
    "expr = InSet(w, Complexes)"
   ]
  },
  {
   "cell_type": "code",
   "execution_count": 3,
   "metadata": {},
   "outputs": [
    {
     "name": "stdout",
     "output_type": "stream",
     "text": [
      "Passed sanity check: built 'expr' is the same as the stored Expression.\n"
     ]
    }
   ],
   "source": [
    "# check that the built expression is the same as the stored expression\n",
    "%check_expr"
   ]
  },
  {
   "cell_type": "code",
   "execution_count": 4,
   "metadata": {},
   "outputs": [
    {
     "data": {
      "text/html": [
       "<table><tr><th>&nbsp;</th><th>core type</th><th>sub-expressions</th><th>expression</th></tr>\n",
       "<tr><td>0</td><td>Operation</td><td>operator:&nbsp;1<br>operands:&nbsp;2<br></td><td><a class=\"ProveItLink\" href=\"expr.ipynb\"><img src=\"data:image/png;base64,iVBORw0KGgoAAAANSUhEUgAAADgAAAAPBAMAAABD1xE4AAAAMFBMVEX///+IiIgiIiLMzMyqqqpU\n",
       "VFRERES6urrc3NwQEBAyMjKYmJhmZmZ2dnbu7u4AAADdI688AAAAAXRSTlMAQObYZgAAAOBJREFU\n",
       "GNNjYMAOhFb9VDuAQ878O8PbjwHY5bhZNzAw+KNK8kkpKS0AMfZxAgkeVEmrfVDGgVaQUgEGvjsX\n",
       "GHYx7GwA8jjyYCYcqIUweNg/MKQy+DsAmWwNUEnmC94QhgmPAsNvBjYDIPMZA1yyGsJ4wCnA/IOB\n",
       "F8SsVFKCOIgvwRaqrP4B4wSIpCncZetYoYxTDGwBDC0g1iO45F6w5AMGoGuYLjAIgDggn0MA23ag\n",
       "ALseA8M1BssDHGBhPnW41tDEB8/TgDp5LsrlSkOEug7D3Xvo/9QCtDB1XQQJPigAAH84NMi+DIK6\n",
       "AAAAAElFTkSuQmCC\n",
       "\" style=\"display:inline;vertical-align:middle;\" /></a></td></tr>\n",
       "<tr><td>1</td><td>Literal</td><td></td><td><a class=\"ProveItLink\" href=\"../../../../logic/set_theory/membership/__pv_it/088cbc857536a28d4119ad9639a84270ccb0545d0/expr.ipynb\"><img src=\"data:image/png;base64,iVBORw0KGgoAAAANSUhEUgAAAAwAAAAMBAMAAACkW0HUAAAALVBMVEX///+qqqpmZmZUVFQQEBC6\n",
       "urpERETc3NyYmJjMzMwiIiIyMjKIiIju7u4AAACYsrA9AAAAAXRSTlMAQObYZgAAADxJREFUCNdj\n",
       "YOA9vWrVBgaG2b0MQMCeCyIZ2ArA1DUwyRCyahVIyWQI7xaEYm4AU7xLIdxqTQgtvGvVBgCkcQ7e\n",
       "geM/tQAAAABJRU5ErkJggg==\n",
       "\" style=\"display:inline;vertical-align:middle;\" /></a></td></tr>\n",
       "<tr><td>2</td><td>ExprTuple</td><td>3, 4</td><td><a class=\"ProveItLink\" href=\"../7c9c6f327074fe4f2fe2f53d04ea2eb1e0644a460/expr.ipynb\"><img src=\"data:image/png;base64,iVBORw0KGgoAAAANSUhEUgAAADQAAAAVBAMAAAD7ptBLAAAAMFBMVEX////c3NwiIiJERESqqqqY\n",
       "mJh2dnZmZmYQEBDu7u4yMjJUVFTMzMyIiIi6uroAAAAs73DqAAAAAXRSTlMAQObYZgAAASxJREFU\n",
       "KM9jYMAD+C5gE2V9ACROo4teWvVDuYChBshaiSZz7h/DtL8bGLgYGHjRzGPlDmBg8N/AwJrAwDEB\n",
       "VSqSA0iwb2DgbGB4hWZegTSQ4AQaZcJQBmSkJzBEMUQIgGQ4C55B1aQzLAVq5/vAYM3g7wAS4Elw\n",
       "hUp5MfQxMBxhV2D4ysB8ACL1FCr1guEfA8MEjgs8HxnYwAKcBsegUudBUgzvJ/A2QKUYVnLDpVqA\n",
       "ZBUD8wYGEYhIGFhqAshAUyDDmoEpgeECAydIkDkO6HA+TQagm9OB3GSGEwWMAQzzFUByu20nzDOe\n",
       "AHL8I5Dnc2+aXWVgmPER7Mai/92gYF/HwCGACImHSKECDChgMMJBAJIU2wWUSEGWmgXE0nAeL3Iw\n",
       "bwRiRqwJgPcAAwCx5kV+DH3atgAAAABJRU5ErkJggg==\n",
       "\" style=\"display:inline;vertical-align:middle;\" /></a></td></tr>\n",
       "<tr><td>3</td><td>Variable</td><td></td><td><a class=\"ProveItLink\" href=\"../../../../__pv_it/75e452494c4801e076f090988fd69716611d31190/expr.ipynb\"><img src=\"data:image/png;base64,iVBORw0KGgoAAAANSUhEUgAAAA8AAAAJBAMAAAAfoWtkAAAAMFBMVEX///+IiIgiIiLMzMyqqqpU\n",
       "VFRERES6urrc3NwQEBAyMjKYmJhmZmZ2dnbu7u4AAADdI688AAAAAXRSTlMAQObYZgAAAFRJREFU\n",
       "CNdj4LtzgWEXw84GBh72DwypDP4ODCY8Cgy/GdgMGB5wCjD/YOBlYGCof8A4Acw4xcAWwNACZKQy\n",
       "MF1gEAAyrjFYHuDYAGTwXJTLlWZgAAAtGRIpnQ418wAAAABJRU5ErkJggg==\n",
       "\" style=\"display:inline;vertical-align:middle;\" /></a></td></tr>\n",
       "<tr><td>4</td><td>Literal</td><td></td><td><a class=\"ProveItLink\" href=\"../../../sets/complex/__pv_it/c357845f93a5a2d9f649129d299e7ec28dda4b960/expr.ipynb\"><img src=\"data:image/png;base64,iVBORw0KGgoAAAANSUhEUgAAAA8AAAAOBAMAAAACpFvcAAAAMFBMVEX////c3NyqqqqYmJhUVFR2\n",
       "dnbu7u66urrMzMxmZmZEREQQEBAyMjIiIiKIiIgAAAB7fvZ0AAAAAXRSTlMAQObYZgAAAGVJREFU\n",
       "CNdjYGDgu3N+70oGBgaO+gK2+CdAhoEzAwPTFwYG5oQNQN4UBgZORgcgI4+BIZM9gAEMWpkMoAx2\n",
       "KCOLAyrFk+AAYTAHgBhsQLy4DkjUJjAwsHg9Y6taBpLsvP/bnYEBACkBFGQfBv8RAAAAAElFTkSu\n",
       "QmCC\n",
       "\" style=\"display:inline;vertical-align:middle;\" /></a></td></tr>\n",
       "</table>\n"
      ],
      "text/plain": [
       "0. w in Complexes\n",
       "   core type: Operation\n",
       "   operator: 1\n",
       "   operands: 2\n",
       "1. in\n",
       "   core type: Literal\n",
       "   sub-expressions: \n",
       "2. (w , Complexes)\n",
       "   core type: ExprTuple\n",
       "   sub-expressions: 3, 4\n",
       "3. w\n",
       "   core type: Variable\n",
       "   sub-expressions: \n",
       "4. Complexes\n",
       "   core type: Literal\n",
       "   sub-expressions: "
      ]
     },
     "execution_count": 4,
     "metadata": {},
     "output_type": "execute_result"
    }
   ],
   "source": [
    "# display the expression information\n",
    "expr.exprInfo()"
   ]
  },
  {
   "cell_type": "code",
   "execution_count": null,
   "metadata": {},
   "outputs": [],
   "source": []
  }
 ],
 "metadata": {
  "kernelspec": {
   "display_name": "Python 3",
   "language": "python",
   "name": "python3"
  }
 },
 "nbformat": 4,
 "nbformat_minor": 0
}
