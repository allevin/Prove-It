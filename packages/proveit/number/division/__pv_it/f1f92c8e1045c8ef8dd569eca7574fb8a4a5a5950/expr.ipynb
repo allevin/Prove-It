{
 "cells": [
  {
   "cell_type": "markdown",
   "metadata": {},
   "source": [
    "Expression of type <a class=\"ProveItLink\" href=\"../../../../../../doc/html/api/proveit.ExprTuple.html\">ExprTuple</a>\n",
    "=======================\n",
    "# from context <a class=\"ProveItLink\" href=\"../../_context_.ipynb\">proveit.number.division</a>"
   ]
  },
  {
   "cell_type": "code",
   "execution_count": 1,
   "metadata": {},
   "outputs": [],
   "source": [
    "# import Expression classes needed to build the expression\n",
    "from proveit import ExprTuple\n",
    "from proveit._common_ import b\n",
    "from proveit.logic import InSet\n",
    "from proveit.number._common_ import ComplexesSansZero"
   ]
  },
  {
   "cell_type": "code",
   "execution_count": 2,
   "metadata": {},
   "outputs": [
    {
     "data": {
      "text/html": [
       "<strong id=\"expr\">expr:</strong> <a class=\"ProveItLink\" href=\"expr.ipynb\"><img src=\"data:image/png;base64,iVBORw0KGgoAAAANSUhEUgAAAIYAAAAVBAMAAABxpYtPAAAAMFBMVEX////c3NwiIiJERESqqqqY\n",
       "mJh2dnZmZmYQEBDu7u4yMjJUVFTMzMyIiIi6uroAAAAs73DqAAAAAXRSTlMAQObYZgAAAiBJREFU\n",
       "OMuVVEtoE1EUPVMzTV46+YDLbiQLF1VQwSLuZu3GrFRcpdm0O7uxCz9YSnFVyhAXglCQQilB0IoE\n",
       "SkGZVVrooqEb0SKGuBFBIgh+EMR733vzkg43CwfOy83hzJn37j084P+e61Xz254ZZosdQSqS9DRq\n",
       "SbUXAn7XAPtQ26fS2n1CYerF0qUU/5Gg7r+NgexTKu9ZNIH8VtqDyKDfVbeOUvwcYayrzgLji1Tm\n",
       "DQq061KYkjJZbQGZP4LHIfDeevg1jVwE9COjWFuvTOmCSD9i0V3B4wy9UDYealHjC5V1Iwg2rBeT\n",
       "WY8PuCZ4/AQOQuOBixoLtD770GLiZGLB5ONiTZgLeXg/yKNjPWY1Nmg331GiTuOCkxLZzlQFjzvW\n",
       "owb/G/+/orFKnfuNHH1UnXdSIttFwSNYdR7YZOKzxl896tI85WqpUrE9JfJRkJzFW6/wQ1kKtmN3\n",
       "FpygzeJAg+Rj8+jTR4NBSojMR1tCfFdsT0l+Gs5jWcfjAbVTDdK6zGNnD5Uy2TGzvVq2/TBnmQY3\n",
       "9CETLSedZnylpRcd96ibjNVtxnBTg6YzEWb1vhvdRMojm3j1Tn26LGU9VCs4Ntsebfj1bdO8zdhK\n",
       "e7zsnvv1RsgH1MJRnHg818iVB4rMTpL18ojrY85Vw1n3pTiKpOAx3jFoStrmCI8brtL3xxOLSUk7\n",
       "OcKj4e63PR7ASwtPuva8EXchroVD92kh1vgHPM6Z6t8TBdIAAAAASUVORK5CYII=\n",
       "\" style=\"display:inline;vertical-align:middle;\" /></a><br>"
      ],
      "text/plain": [
       "expr: (b in (Complexes - {0}))"
      ]
     },
     "execution_count": 2,
     "metadata": {},
     "output_type": "execute_result"
    }
   ],
   "source": [
    "# build up the expression from sub-expressions\n",
    "expr = ExprTuple(InSet(b, ComplexesSansZero))"
   ]
  },
  {
   "cell_type": "code",
   "execution_count": 3,
   "metadata": {},
   "outputs": [
    {
     "name": "stdout",
     "output_type": "stream",
     "text": [
      "Passed sanity check: built 'expr' is the same as the stored Expression.\n"
     ]
    }
   ],
   "source": [
    "# check that the built expression is the same as the stored expression\n",
    "%check_expr"
   ]
  },
  {
   "cell_type": "code",
   "execution_count": 4,
   "metadata": {},
   "outputs": [
    {
     "data": {
      "text/html": [
       "<table><tr><th>&nbsp;</th><th>core type</th><th>sub-expressions</th><th>expression</th></tr>\n",
       "<tr><td>0</td><td>ExprTuple</td><td>1</td><td><a class=\"ProveItLink\" href=\"expr.ipynb\"><img src=\"data:image/png;base64,iVBORw0KGgoAAAANSUhEUgAAAIYAAAAVBAMAAABxpYtPAAAAMFBMVEX////c3NwiIiJERESqqqqY\n",
       "mJh2dnZmZmYQEBDu7u4yMjJUVFTMzMyIiIi6uroAAAAs73DqAAAAAXRSTlMAQObYZgAAAiBJREFU\n",
       "OMuVVEtoE1EUPVMzTV46+YDLbiQLF1VQwSLuZu3GrFRcpdm0O7uxCz9YSnFVyhAXglCQQilB0IoE\n",
       "SkGZVVrooqEb0SKGuBFBIgh+EMR733vzkg43CwfOy83hzJn37j084P+e61Xz254ZZosdQSqS9DRq\n",
       "SbUXAn7XAPtQ26fS2n1CYerF0qUU/5Gg7r+NgexTKu9ZNIH8VtqDyKDfVbeOUvwcYayrzgLji1Tm\n",
       "DQq061KYkjJZbQGZP4LHIfDeevg1jVwE9COjWFuvTOmCSD9i0V3B4wy9UDYealHjC5V1Iwg2rBeT\n",
       "WY8PuCZ4/AQOQuOBixoLtD770GLiZGLB5ONiTZgLeXg/yKNjPWY1Nmg331GiTuOCkxLZzlQFjzvW\n",
       "owb/G/+/orFKnfuNHH1UnXdSIttFwSNYdR7YZOKzxl896tI85WqpUrE9JfJRkJzFW6/wQ1kKtmN3\n",
       "FpygzeJAg+Rj8+jTR4NBSojMR1tCfFdsT0l+Gs5jWcfjAbVTDdK6zGNnD5Uy2TGzvVq2/TBnmQY3\n",
       "9CETLSedZnylpRcd96ibjNVtxnBTg6YzEWb1vhvdRMojm3j1Tn26LGU9VCs4Ntsebfj1bdO8zdhK\n",
       "e7zsnvv1RsgH1MJRnHg818iVB4rMTpL18ojrY85Vw1n3pTiKpOAx3jFoStrmCI8brtL3xxOLSUk7\n",
       "OcKj4e63PR7ASwtPuva8EXchroVD92kh1vgHPM6Z6t8TBdIAAAAASUVORK5CYII=\n",
       "\" style=\"display:inline;vertical-align:middle;\" /></a></td></tr>\n",
       "<tr><td>1</td><td>Operation</td><td>operator:&nbsp;2<br>operands:&nbsp;3<br></td><td><a class=\"ProveItLink\" href=\"../a6e0dd43ad35d9a199ea15e06b8bb9e197299dde0/expr.ipynb\"><img src=\"data:image/png;base64,iVBORw0KGgoAAAANSUhEUgAAAHgAAAAVBAMAAAB/IDdlAAAAMFBMVEX////c3NxmZmbMzMxERESY\n",
       "mJiIiIh2dna6urqqqqoyMjIiIiIQEBBUVFTu7u4AAAAiO1wTAAAAAXRSTlMAQObYZgAAAexJREFU\n",
       "OMuVlE8oREEcx7/refvHn9k9uCollJKXiwstysFFm4uSw+bgQFiuq+xBDqh9ZxdSSsmfclA2UQ7I\n",
       "ZZWV5PCSHOxFUhyQ3+ybN8szr5j6zfu9me/nzczv95sH/KP1xexn66S3JhhXj+cTjtdmAnoKYLc7\n",
       "blE7mX9/+7zLNT5BxuqHDKBkhdxasrKsG94CtHSKzYy5xqfJylNsFwgccZAsbLo0ftp1LAeEPhTw\n",
       "KDAiYJ1OkbbsqYeNzH7BqbCgW3y2SQEfEBCxYUZd0p7R1sRHME9n8vGzPCjgZyBq2jB6gM3hHPeq\n",
       "HBYNwF0woYg2wb5XguMCngJ7QZjih06pWaNEhmIKuFHACehP/H0JoU9U0DKsQ2pOCQ4qYO1Uwljl\n",
       "A4s8ZeEaKozzTEYE7A2415xt+zYyvFFBaLeG3DZKaXuIorwGaVpGK2ab4DIrqyi8YxEwku+hAFOa\n",
       "mylWrFhnZzyFHGYu+sZO1XJEnHmRR+uEezmp6eY2R92C9RNO2kWSFEWCAVSaJYUt5lOOZoqs8nKc\n",
       "zfaqytNkxyim6qrOjsyqITQLvGs5fL9W5BmsYcxw4PXiVOjGKc+Ix1Wdlp4sz19NT/wNDiiv/ZYH\n",
       "PCi9wn1+VIqqPeC8XKqNR/dCKfJ5/IbQb377h/kNfAHn9oJiic0ulgAAAABJRU5ErkJggg==\n",
       "\" style=\"display:inline;vertical-align:middle;\" /></a></td></tr>\n",
       "<tr><td>2</td><td>Literal</td><td></td><td><a class=\"ProveItLink\" href=\"../../../../logic/set_theory/membership/__pv_it/088cbc857536a28d4119ad9639a84270ccb0545d0/expr.ipynb\"><img src=\"data:image/png;base64,iVBORw0KGgoAAAANSUhEUgAAAAwAAAAMBAMAAACkW0HUAAAALVBMVEX///+qqqpmZmZUVFQQEBC6\n",
       "urpERETc3NyYmJjMzMwiIiIyMjKIiIju7u4AAACYsrA9AAAAAXRSTlMAQObYZgAAADxJREFUCNdj\n",
       "YOA9vWrVBgaG2b0MQMCeCyIZ2ArA1DUwyRCyahVIyWQI7xaEYm4AU7xLIdxqTQgtvGvVBgCkcQ7e\n",
       "geM/tQAAAABJRU5ErkJggg==\n",
       "\" style=\"display:inline;vertical-align:middle;\" /></a></td></tr>\n",
       "<tr><td>3</td><td>ExprTuple</td><td>4, 5</td><td><a class=\"ProveItLink\" href=\"../393dbec79f955e3b2da08ba72e4f60dbcfe51a9f0/expr.ipynb\"><img src=\"data:image/png;base64,iVBORw0KGgoAAAANSUhEUgAAAGYAAAAVBAMAAABGR4Y+AAAAMFBMVEX////c3NwiIiJERESqqqqY\n",
       "mJh2dnZmZmYQEBDu7u4yMjJUVFTMzMyIiIi6uroAAAAs73DqAAAAAXRSTlMAQObYZgAAAchJREFU\n",
       "OMuNlD1Iw0AUx/+tje21te3uIg4OKrgo4pbZxU4qTrGL3exiBz+wiDiJBB0UQRRBRAStiCCCkqkK\n",
       "DhYX0SJWXUSQKoIfCOK7yyVoTa2Bu7y7d7/cu/+7F6D80xU135leayaULYNMa5Z1pAJKnoxjsN0a\n",
       "a7aqfnOstYi5osZGzgzAu0TmMLU1wJ+W7mAhz/pzRUycmjvPGoHKFJl++jKFFlalO7oDeD4cmFPg\n",
       "QjKKBp8OFHTTq+h8csiBaaBFEZNhKdzTKya9XhcPcsGBeQVOVJNBM5LUr1/uCO9sSHPQjRjXCzFZ\n",
       "yfRhhXZ7RtgQCfBEHZhByWhQHvm4HVN06nf4xAaZkAMTnLIZrPKJO3wK2cMJPpoJWrG5lmv5Q/kL\n",
       "7hp2bKigqHDCGXcCBbGBX0//3ic0KTWgJXUQzLhIz6hQW9E4w4qgPVPrjog8zx1awAWYMFe2PFB3\n",
       "o/9kYmZOYzKn6CHlEFC9aSzyOxfYPme3bU53R2WTsLW+oWD2B4C5Jz4+bHo7cMgPWDJnWMwGfBHp\n",
       "ui5VC3Hbsu6OYskb/SdTmRW18DfTbVuifuapVctqK12ndiEf8Rrd4ikvV9voVL/9D6oMfAHcEHtW\n",
       "Pl+hTQAAAABJRU5ErkJggg==\n",
       "\" style=\"display:inline;vertical-align:middle;\" /></a></td></tr>\n",
       "<tr><td>4</td><td>Variable</td><td></td><td><a class=\"ProveItLink\" href=\"../../../../__pv_it/6840a4fa6c106149dc16a131294d0c5e44f1b0480/expr.ipynb\"><img src=\"data:image/png;base64,iVBORw0KGgoAAAANSUhEUgAAAAkAAAAOBAMAAAAPuiubAAAALVBMVEX///9mZmbMzMxERESYmJiI\n",
       "iIh2dna6urqqqqoyMjIiIiIQEBBUVFTu7u4AAAD9S1JeAAAAAXRSTlMAQObYZgAAAE1JREFUCNdj\n",
       "4D29gAEIOA+ASL4GEFl3AURmgQiGOaFHGBh4HzPwKTBwvGXgTmBgnMDAJ8DAJcBQ5wBSLncBJLWN\n",
       "gYGngRFoBO9REQYGAGrcDtUkVqASAAAAAElFTkSuQmCC\n",
       "\" style=\"display:inline;vertical-align:middle;\" /></a></td></tr>\n",
       "<tr><td>5</td><td>Operation</td><td>operator:&nbsp;6<br>operands:&nbsp;7<br></td><td><a class=\"ProveItLink\" href=\"../../../__pv_it/f53c16dfddf30d995333ded0545dcaa2e92165460/expr.ipynb\"><img src=\"data:image/png;base64,iVBORw0KGgoAAAANSUhEUgAAAEYAAAAVBAMAAAAJGoXuAAAAMFBMVEX////c3NyqqqqYmJhUVFR2\n",
       "dnbu7u66urrMzMxmZmZEREQQEBAyMjIiIiKIiIgAAAB7fvZ0AAAAAXRSTlMAQObYZgAAARJJREFU\n",
       "KM9jYMAOLA0gdGsgAy6QGwBjdSuASL475/euRFPzHojZ5r1sYGDgPABkctQXsMU/QVMTDcS8BWw3\n",
       "GBhYNwCZBs4MDExfsKh5y8DwBqKGOQGkcAoWNVcYGOoFwGo4GR2A/Dwsan4yMPQrgNVksgdg8RdQ\n",
       "DeNXoJoHYDWtTAZY1MyBqglgYP4AVMOORQ3HdrgahpMMDFkcMLsYz94FgQKgEu8GuF0MXIcZeBIc\n",
       "MM1h3wF1M9COq0C/B4DUsKEp8oH4XV8A7B6GxXVAojYBVU0sJAxjoeHM4vWMrWoZtrhQYNsBVcPQ\n",
       "ef+3O5bwYWCb+qQBpoYBexhCAWVqrOEscPrBng4fwNNhAc7EaqqASM8AyzhMtOBlY5MAAAAASUVO\n",
       "RK5CYII=\n",
       "\" style=\"display:inline;vertical-align:middle;\" /></a></td></tr>\n",
       "<tr><td>6</td><td>Literal</td><td></td><td><a class=\"ProveItLink\" href=\"../../../../logic/set_theory/subtraction/__pv_it/b31700f174a73058c701da19ea3d1b9009786dec0/expr.ipynb\"><img src=\"data:image/png;base64,iVBORw0KGgoAAAANSUhEUgAAAA4AAAACBAMAAACapPCZAAAAElBMVEX///+6uroiIiIyMjLc3NwA\n",
       "AAA6l9OrAAAAAXRSTlMAQObYZgAAABBJREFUCNdjcFYCAUUGKAAADR4BD8/TF5gAAAAASUVORK5C\n",
       "YII=\n",
       "\" style=\"display:inline;vertical-align:middle;\" /></a></td></tr>\n",
       "<tr><td>7</td><td>ExprTuple</td><td>8, 9</td><td><a class=\"ProveItLink\" href=\"../../../__pv_it/61e54a34dfd2a02e2ad56253ab2bd667c41567f50/expr.ipynb\"><img src=\"data:image/png;base64,iVBORw0KGgoAAAANSUhEUgAAAEMAAAAVBAMAAADvM06qAAAAMFBMVEX////c3NwiIiJERESqqqqY\n",
       "mJh2dnZmZmYQEBDu7u4yMjJUVFTMzMyIiIi6uroAAAAs73DqAAAAAXRSTlMAQObYZgAAAXVJREFU\n",
       "KM9tkrFLw0AUxr/apvZqErq7ODmo4FTELf+BmaqTxC66iE4dFKGIYylBB13ELCJOFoogDtJJCw4W\n",
       "F9EKxroJ0rqoIIjvvMv1qh68vHeXH/fe++4Bf9a0K/z5XHRiN3qJTS+K6g4wy4NLMmvkaH1C/ngg\n",
       "Y2s3NaA/ICOPQ8Bsh2ypKZEFsr6QjQHJIoWEWZTHPQYSnxpyDdxJJAekfBg+j1c1ZBRoZwSyAzxT\n",
       "vliF4l0NeQeuHIHEHRSAbdvTOiIk9kZIQyDJZeyTAAlXQ1Yk4sHo0DYRoEyIrSFmWSE44LIV8QVs\n",
       "md1E5klNJUKcUpgdjqT9SvcWuyTLpZuH8YNsAIbHESaZU9H0VEbUQomy5LIv9Gn5AsoL6fJSOiPA\n",
       "PLmB6i17msTekHoAh5Wgmm7x44vxjzMS8jVCWKFZk0g6RCrTLfUxQsSKHsDQlHX/QRbFMPQgM2rL\n",
       "54WRYVAdWWLq1BTWQ+qE1xH7NZjIOdrs3gPfDspoZopxsTIAAAAASUVORK5CYII=\n",
       "\" style=\"display:inline;vertical-align:middle;\" /></a></td></tr>\n",
       "<tr><td>8</td><td>Literal</td><td></td><td><a class=\"ProveItLink\" href=\"../../../sets/complex/__pv_it/c357845f93a5a2d9f649129d299e7ec28dda4b960/expr.ipynb\"><img src=\"data:image/png;base64,iVBORw0KGgoAAAANSUhEUgAAAA8AAAAOBAMAAAACpFvcAAAAMFBMVEX////c3NyqqqqYmJhUVFR2\n",
       "dnbu7u66urrMzMxmZmZEREQQEBAyMjIiIiKIiIgAAAB7fvZ0AAAAAXRSTlMAQObYZgAAAGVJREFU\n",
       "CNdjYGDgu3N+70oGBgaO+gK2+CdAhoEzAwPTFwYG5oQNQN4UBgZORgcgI4+BIZM9gAEMWpkMoAx2\n",
       "KCOLAyrFk+AAYTAHgBhsQLy4DkjUJjAwsHg9Y6taBpLsvP/bnYEBACkBFGQfBv8RAAAAAElFTkSu\n",
       "QmCC\n",
       "\" style=\"display:inline;vertical-align:middle;\" /></a></td></tr>\n",
       "<tr><td>9</td><td>Operation</td><td>operator:&nbsp;10<br>operands:&nbsp;11<br></td><td><a class=\"ProveItLink\" href=\"../../../__pv_it/155f9de08c11f74a8b2f21a18cf261503eec845b0/expr.ipynb\"><img src=\"data:image/png;base64,iVBORw0KGgoAAAANSUhEUgAAAB0AAAAVBAMAAABI7vhRAAAAMFBMVEX///9ERETc3NyqqqpUVFS6\n",
       "urrMzMwyMjIQEBCIiIh2dnYiIiLu7u5mZmaYmJgAAABJJ2g3AAAAAXRSTlMAQObYZgAAAKlJREFU\n",
       "GNNjYGDgu8cABmyrFEAUzy4GKGBrBpGcH4DE2ZnXgOR1EJ+rAUhsZTidwMCwAsbn3MDAWYDE53Zg\n",
       "YP2ExOe/wMD2GYmvv4CB7SeUz1sA4f9iYHgP4mcEwPnsFxgYUtoY4OoZxB8wMEQkQMz7B7RmAVCM\n",
       "pQBsH/MnqH6uDWD3gCi4fQybGU4gu5fh7Eo3BmQ+BGDl8yH4YP/z7ISHTyuY4luMFH4ALkg0pwDv\n",
       "EeQAAAAASUVORK5CYII=\n",
       "\" style=\"display:inline;vertical-align:middle;\" /></a></td></tr>\n",
       "<tr><td>10</td><td>Literal</td><td></td><td><a class=\"ProveItLink\" href=\"../../../../logic/set_theory/enumeration/__pv_it/07381ed5b23806e8d7914b78cb6667769e3708dd0/expr.ipynb\"><img src=\"data:image/png;base64,iVBORw0KGgoAAAANSUhEUgAAAB4AAAAOBAMAAADKyLEKAAAAMFBMVEX///8iIiIQEBCIiIjMzMzc\n",
       "3Nyqqqp2dnZEREQyMjK6urru7u5mZmZUVFSYmJgAAACI6eGPAAAAAXRSTlMAQObYZgAAALRJREFU\n",
       "CNdjYGDgu3Nm3wIGBJjHwN0PZW5yYGDgLWBgyITy8zcwMMQDxZyh/INAvD6BgcEFypcB4vjPDiBm\n",
       "TPFRrhs/LjMwMP//38rAwCbKEMPA9gEkE3fp0waG+AUMRxh4JkC01T9guPTOOICBEWgVH5C//wHD\n",
       "H5D4fqCz9oCMDGD4DLaegRXslLMMDMpAgxlOMmQxHDRgYG5gYLBk4D7KcIe7gOHC2rt9QCXsh40Z\n",
       "GCKMGQDRkC8N/Ph1XAAAAABJRU5ErkJggg==\n",
       "\" style=\"display:inline;vertical-align:middle;\" /></a></td></tr>\n",
       "<tr><td>11</td><td>ExprTuple</td><td>12</td><td><a class=\"ProveItLink\" href=\"../../../__pv_it/8cde6ffe899144c6848d9a2077064e6c1a6a14e60/expr.ipynb\"><img src=\"data:image/png;base64,iVBORw0KGgoAAAANSUhEUgAAABcAAAAVBAMAAABfzGiYAAAAMFBMVEX////c3NwiIiJERESqqqqY\n",
       "mJh2dnZmZmYQEBDu7u4yMjJUVFTMzMyIiIi6uroAAAAs73DqAAAAAXRSTlMAQObYZgAAALZJREFU\n",
       "GNNVjy0LwlAUhp+p010/xro/Qat9/0CTUYbFJJjWBINRxGhcMfgv1g0Oi6CGYbRo0iaeuy/whHN5\n",
       "4OG954W/saP0Hel1ADU/h9RCgT2UYtWFAFpineACQ7A20IGnwxYeYn7g6FJ28cF4C0RUZ+wy8KgE\n",
       "rAuwF3wLrfnSkAQMNCxJovuO1nokn47BDJgIlFy1QkffBZR/lSvrMZaTd5FzTC+HaVohGSUVaGfQ\n",
       "0L6R1b7BD+zrMIbuJsDxAAAAAElFTkSuQmCC\n",
       "\" style=\"display:inline;vertical-align:middle;\" /></a></td></tr>\n",
       "<tr><td>12</td><td>Literal</td><td></td><td><a class=\"ProveItLink\" href=\"../../../numeral/__pv_it/ec23fc7a1b4222a5f4948b495002b97d6fa18c3c0/expr.ipynb\"><img src=\"data:image/png;base64,iVBORw0KGgoAAAANSUhEUgAAAAoAAAAOBAMAAADkjZCYAAAALVBMVEX///8QEBCYmJh2dnaqqqrc\n",
       "3NxUVFQyMjK6uroiIiLMzMyIiIhmZmbu7u4AAAAZjyHdAAAAAXRSTlMAQObYZgAAAEpJREFUCNdj\n",
       "YLiz+xQDA8MMhpsLGLgnMHAXMHAmMHA8ZeA7wMD1hCHOgIHrNZh8jES+Bss+AqlkeQrSxTyBgWEK\n",
       "w8UFDAx3rLMYAMCjFldHSx/9AAAAAElFTkSuQmCC\n",
       "\" style=\"display:inline;vertical-align:middle;\" /></a></td></tr>\n",
       "</table>\n"
      ],
      "text/plain": [
       "0. (b in (Complexes - {0}))\n",
       "   core type: ExprTuple\n",
       "   sub-expressions: 1\n",
       "1. b in (Complexes - {0})\n",
       "   core type: Operation\n",
       "   operator: 2\n",
       "   operands: 3\n",
       "2. in\n",
       "   core type: Literal\n",
       "   sub-expressions: \n",
       "3. (b , Complexes - {0})\n",
       "   core type: ExprTuple\n",
       "   sub-expressions: 4, 5\n",
       "4. b\n",
       "   core type: Variable\n",
       "   sub-expressions: \n",
       "5. Complexes - {0}\n",
       "   core type: Operation\n",
       "   operator: 6\n",
       "   operands: 7\n",
       "6. -\n",
       "   core type: Literal\n",
       "   sub-expressions: \n",
       "7. (Complexes , {0})\n",
       "   core type: ExprTuple\n",
       "   sub-expressions: 8, 9\n",
       "8. Complexes\n",
       "   core type: Literal\n",
       "   sub-expressions: \n",
       "9. {0}\n",
       "   core type: Operation\n",
       "   operator: 10\n",
       "   operands: 11\n",
       "10. Set\n",
       "    core type: Literal\n",
       "    sub-expressions: \n",
       "11. (0)\n",
       "    core type: ExprTuple\n",
       "    sub-expressions: 12\n",
       "12. 0\n",
       "    core type: Literal\n",
       "    sub-expressions: "
      ]
     },
     "execution_count": 4,
     "metadata": {},
     "output_type": "execute_result"
    }
   ],
   "source": [
    "# display the expression information\n",
    "expr.exprInfo()"
   ]
  },
  {
   "cell_type": "code",
   "execution_count": null,
   "metadata": {},
   "outputs": [],
   "source": []
  }
 ],
 "metadata": {
  "kernelspec": {
   "display_name": "Python 3",
   "language": "python",
   "name": "python3"
  }
 },
 "nbformat": 4,
 "nbformat_minor": 0
}
