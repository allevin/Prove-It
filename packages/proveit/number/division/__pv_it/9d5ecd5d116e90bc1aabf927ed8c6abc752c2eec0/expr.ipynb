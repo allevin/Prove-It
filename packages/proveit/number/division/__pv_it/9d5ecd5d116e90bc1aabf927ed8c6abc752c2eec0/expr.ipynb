{
 "cells": [
  {
   "cell_type": "markdown",
   "metadata": {},
   "source": [
    "Expression of type <a class=\"ProveItLink\" href=\"../../../../../../doc/html/api/proveit.ExprTuple.html\">ExprTuple</a>\n",
    "=======================\n",
    "# from context <a class=\"ProveItLink\" href=\"../../_context_.ipynb\">proveit.number.division</a>"
   ]
  },
  {
   "cell_type": "code",
   "execution_count": 1,
   "metadata": {},
   "outputs": [],
   "source": [
    "# import Expression classes needed to build the expression\n",
    "from proveit import ExprTuple\n",
    "from proveit._common_ import y\n",
    "from proveit.logic import InSet, NotEquals\n",
    "from proveit.number import Complexes, zero"
   ]
  },
  {
   "cell_type": "code",
   "execution_count": 2,
   "metadata": {},
   "outputs": [
    {
     "data": {
      "text/html": [
       "<strong id=\"expr\">expr:</strong> <a class=\"ProveItLink\" href=\"expr.ipynb\"><img src=\"data:image/png;base64,iVBORw0KGgoAAAANSUhEUgAAAHkAAAAVCAMAAABVErFaAAAAPFBMVEX///8LCwsYGBgNDQ0oKCjc\n",
       "3NwiIiJERESqqqqYmJh2dnZmZmYQEBDu7u4yMjJUVFTMzMyIiIi6uroAAACIMCsmAAAAAXRSTlMA\n",
       "QObYZgAAAfFJREFUSMfFVtlywyAMVA9z3/r/fy0CbGMgqdNppzxgyLCspJVEAP5zpPh3d6tt8aNM\n",
       "9Rv8CzdF5hwaxvW945vrNlbHqAOt6gzO3uYNCbO5VmG8aa1P3YYRlhXSYlC8H2sJXpaFQP+6y5GV\n",
       "ufwkVZ7MQ5dtdCyPAy0tmLbU/gcuF0xCUt7mi5J7GFonr0Zp2Pxh1C1xeL/DkhsBBX24AK3qVaos\n",
       "NjzINj4Ew2pIahmbCdsGD33kUVXmYrTS4KpyKoeBVMATNtZDUCDksnJGrHZlfH7Q7Efm8hEOTJEi\n",
       "ZOcpAfgRH8thZk4r5hm7cnlgTgawMOc4GYoCHvolw9pwpy1hFe0Z2264ZuE12gEbMxWKpf1h5qK/\n",
       "5MJfp/SIbccHufYMk43ZiF0bksqcnrC5nNXJfEmmEaspVO9vNWT8WlWiVBVFmzfpHFnEO5/8rCmX\n",
       "e4tPzHbsE3blcuskqnokHaX30RsSdmyWpbkzeB4t2MSp4iwyeICdVS5OC2ohVZNMm9ieP7md43Zp\n",
       "fTpMeawZoqmtyZr9+IxduEwNQUXfrnT5CnMeUYO2wru+e87Pa3f7gBXPHzPqnrV5g2e0Fa89vi2+\n",
       "Kyx7/gCqeLySLPNzBT9iXmC/c7nGsTwDIiuVXiTeO8cC+43Lvsm0/f6/oedOREqzLxKoF4vLZCom\n",
       "AAAAAElFTkSuQmCC\n",
       "\" style=\"display:inline;vertical-align:middle;\" /></a><br>"
      ],
      "text/plain": [
       "expr: (y in Complexes , y != 0)"
      ]
     },
     "execution_count": 2,
     "metadata": {},
     "output_type": "execute_result"
    }
   ],
   "source": [
    "# build up the expression from sub-expressions\n",
    "expr = ExprTuple(InSet(y, Complexes), NotEquals(y, zero))"
   ]
  },
  {
   "cell_type": "code",
   "execution_count": 3,
   "metadata": {},
   "outputs": [
    {
     "name": "stdout",
     "output_type": "stream",
     "text": [
      "Passed sanity check: built 'expr' is the same as the stored Expression.\n"
     ]
    }
   ],
   "source": [
    "# check that the built expression is the same as the stored expression\n",
    "%check_expr"
   ]
  },
  {
   "cell_type": "code",
   "execution_count": 4,
   "metadata": {},
   "outputs": [
    {
     "data": {
      "text/html": [
       "<table><tr><th>&nbsp;</th><th>core type</th><th>sub-expressions</th><th>expression</th></tr>\n",
       "<tr><td>0</td><td>ExprTuple</td><td>1, 2</td><td><a class=\"ProveItLink\" href=\"expr.ipynb\"><img src=\"data:image/png;base64,iVBORw0KGgoAAAANSUhEUgAAAHkAAAAVCAMAAABVErFaAAAAPFBMVEX///8LCwsYGBgNDQ0oKCjc\n",
       "3NwiIiJERESqqqqYmJh2dnZmZmYQEBDu7u4yMjJUVFTMzMyIiIi6uroAAACIMCsmAAAAAXRSTlMA\n",
       "QObYZgAAAfFJREFUSMfFVtlywyAMVA9z3/r/fy0CbGMgqdNppzxgyLCspJVEAP5zpPh3d6tt8aNM\n",
       "9Rv8CzdF5hwaxvW945vrNlbHqAOt6gzO3uYNCbO5VmG8aa1P3YYRlhXSYlC8H2sJXpaFQP+6y5GV\n",
       "ufwkVZ7MQ5dtdCyPAy0tmLbU/gcuF0xCUt7mi5J7GFonr0Zp2Pxh1C1xeL/DkhsBBX24AK3qVaos\n",
       "NjzINj4Ew2pIahmbCdsGD33kUVXmYrTS4KpyKoeBVMATNtZDUCDksnJGrHZlfH7Q7Efm8hEOTJEi\n",
       "ZOcpAfgRH8thZk4r5hm7cnlgTgawMOc4GYoCHvolw9pwpy1hFe0Z2264ZuE12gEbMxWKpf1h5qK/\n",
       "5MJfp/SIbccHufYMk43ZiF0bksqcnrC5nNXJfEmmEaspVO9vNWT8WlWiVBVFmzfpHFnEO5/8rCmX\n",
       "e4tPzHbsE3blcuskqnokHaX30RsSdmyWpbkzeB4t2MSp4iwyeICdVS5OC2ohVZNMm9ieP7md43Zp\n",
       "fTpMeawZoqmtyZr9+IxduEwNQUXfrnT5CnMeUYO2wru+e87Pa3f7gBXPHzPqnrV5g2e0Fa89vi2+\n",
       "Kyx7/gCqeLySLPNzBT9iXmC/c7nGsTwDIiuVXiTeO8cC+43Lvsm0/f6/oedOREqzLxKoF4vLZCom\n",
       "AAAAAElFTkSuQmCC\n",
       "\" style=\"display:inline;vertical-align:middle;\" /></a></td></tr>\n",
       "<tr><td>1</td><td>Operation</td><td>operator:&nbsp;3<br>operands:&nbsp;4<br></td><td><a class=\"ProveItLink\" href=\"../b0eb233c46e11ebb329608bcacdd338b9614a5e80/expr.ipynb\"><img src=\"data:image/png;base64,iVBORw0KGgoAAAANSUhEUgAAADMAAAASBAMAAAAEf/uKAAAAMFBMVEX///+YmJhUVFQyMjIQEBBE\n",
       "REQiIiKqqqrMzMyIiIi6urrc3NxmZmZ2dnbu7u4AAADXeCicAAAAAXRSTlMAQObYZgAAAOZJREFU\n",
       "GNNjYMACOJPt3WKwSTBwrF/Ad38SVikBRQYG9k/IInyT09IMgDTjAwcgeQhZqlkOQvNwKwDJl0C1\n",
       "dy4w7H8AZHPHQZW84boAYfByfWCYD2KwboBK9bILQBjtPAkMoSDGU5jBvVxQqQcsExh+ghhL0tIg\n",
       "znjKATWQof4Bxw8Q3QTTxfxAAco6zMAJcizDM5gU4wWQFB8Q2zCwglUxCcDkAlcCiWUPQH5bDxbk\n",
       "y4JJManO41sK8srTmechzt58AibXk/9FC8K6BhUpMgO7EA6YEvjcGbADtgusF3BIsc88hUMGAHBN\n",
       "NoiNeQpDAAAAAElFTkSuQmCC\n",
       "\" style=\"display:inline;vertical-align:middle;\" /></a></td></tr>\n",
       "<tr><td>2</td><td>Operation</td><td>operator:&nbsp;5<br>operands:&nbsp;6<br></td><td><a class=\"ProveItLink\" href=\"../b42e57de5dca2151ef96d162270c4b5989ac334d0/expr.ipynb\"><img src=\"data:image/png;base64,iVBORw0KGgoAAAANSUhEUgAAADEAAAAUCAMAAAATIyWrAAAAPFBMVEX///8LCwsYGBgNDQ0oKCiY\n",
       "mJhUVFQyMjIQEBBEREQiIiKqqqrMzMyIiIi6urrc3NxmZmZ2dnbu7u4AAABzp3NQAAAAAXRSTlMA\n",
       "QObYZgAAANhJREFUKM+VUlsSwyAIpI9ofAb0/nctkCY1trXNfjCDzM7uggAj0ALnsNimKZgSxh8M\n",
       "k5vGc1N8/F8iea32hISRmusoWXRtV1HfamBvhCQWaukYrvW8VFoZiTfIUuKwbkO0ivtNqukZBDEA\n",
       "SijnRhItg73MSXymIyEbgC+uIEiCWLtN224pW/JJfUuMeZ+hZ1wvXuGO2w26XStsZ8YSzwuSVjRy\n",
       "mWmUQkXkErN6L46/WHdL+37agpTMK+yqtiPg8Pd4UQtHB2XE8LxoRyckIHCKDCckPiGPhg/vcgoA\n",
       "4EOQQwAAAABJRU5ErkJggg==\n",
       "\" style=\"display:inline;vertical-align:middle;\" /></a></td></tr>\n",
       "<tr><td>3</td><td>Literal</td><td></td><td><a class=\"ProveItLink\" href=\"../../../../logic/set_theory/membership/__pv_it/088cbc857536a28d4119ad9639a84270ccb0545d0/expr.ipynb\"><img src=\"data:image/png;base64,iVBORw0KGgoAAAANSUhEUgAAAAwAAAAMBAMAAACkW0HUAAAALVBMVEX///+qqqpmZmZUVFQQEBC6\n",
       "urpERETc3NyYmJjMzMwiIiIyMjKIiIju7u4AAACYsrA9AAAAAXRSTlMAQObYZgAAADxJREFUCNdj\n",
       "YOA9vWrVBgaG2b0MQMCeCyIZ2ArA1DUwyRCyahVIyWQI7xaEYm4AU7xLIdxqTQgtvGvVBgCkcQ7e\n",
       "geM/tQAAAABJRU5ErkJggg==\n",
       "\" style=\"display:inline;vertical-align:middle;\" /></a></td></tr>\n",
       "<tr><td>4</td><td>ExprTuple</td><td>8, 7</td><td><a class=\"ProveItLink\" href=\"../e5330692b97c89fd0b933400bce83d5b7ea38c630/expr.ipynb\"><img src=\"data:image/png;base64,iVBORw0KGgoAAAANSUhEUgAAAC8AAAAVBAMAAAAk6KpUAAAAMFBMVEX////c3NwiIiJERESqqqqY\n",
       "mJh2dnZmZmYQEBDu7u4yMjJUVFTMzMyIiIi6uroAAAAs73DqAAAAAXRSTlMAQObYZgAAAStJREFU\n",
       "KM91kb1Lw0AYxn81qUlMGro7mNnFQYq4+R+YyVGCSyfRyUFBgzjLgYNZxCwiTgbEVRzEDi5dRYu1\n",
       "boK0boIfeHcpkqAe3HPv8z73ftx78O/y2799iwpuSq7a5On2DNalNE+Kfq/fdVbuIJVXSpnCczDf\n",
       "YQFsUfBXRSxxAxJ4LgZYlUziARhzrIHTjJjQgft+lN8YXeVIoj/gQfNrM8wFM2UXrqyA6Vzwh4If\n",
       "8wXCbvOp+Z43TOUNlMC88D40HxPZj7Ajj3Vqcd5upARHp2pI6xgjUxQaLxJ6gmpKU7+oH3IYSMs9\n",
       "u3WeZnW7PVWzs1UneVUhram3C1Wsi11XfEnux8IIElUPN3BUC2FBWNZjH4mMqCw4cuyMY3Y21RcV\n",
       "AlyVv/LH197DN0rERphgaipvAAAAAElFTkSuQmCC\n",
       "\" style=\"display:inline;vertical-align:middle;\" /></a></td></tr>\n",
       "<tr><td>5</td><td>Literal</td><td></td><td><a class=\"ProveItLink\" href=\"../../../../logic/equality/__pv_it/43637204f35b46c076ae787093288c6a879642310/expr.ipynb\"><img src=\"data:image/png;base64,iVBORw0KGgoAAAANSUhEUgAAAA4AAAAUCAMAAACK2/weAAAAM1BMVEX///8LCwsYGBgNDQ0oKCju\n",
       "7u4iIiJmZmaqqqpERETMzMy6urpUVFQyMjLc3Nx2dnYAAAB8DqOrAAAAAXRSTlMAQObYZgAAAE5J\n",
       "REFUGNNjYEAAfj4kDgMfLzKPgYebaEkuThRJTi4wxc4LBizMIJIHTRIKuHlQdPLCHMTOBgRMjGxg\n",
       "wIkmiVcnGHCwo0iysRItyYDsMQCO9QJkhxsUAQAAAABJRU5ErkJggg==\n",
       "\" style=\"display:inline;vertical-align:middle;\" /></a></td></tr>\n",
       "<tr><td>6</td><td>ExprTuple</td><td>8, 9</td><td><a class=\"ProveItLink\" href=\"../d3179e1def1a0b98fbd4511ab60d3cfa83f7a44a0/expr.ipynb\"><img src=\"data:image/png;base64,iVBORw0KGgoAAAANSUhEUgAAACsAAAAVBAMAAAAtAwouAAAAMFBMVEX////c3NwiIiJERESqqqqY\n",
       "mJh2dnZmZmYQEBDu7u4yMjJUVFTMzMyIiIi6uroAAAAs73DqAAAAAXRSTlMAQObYZgAAAQ9JREFU\n",
       "GNN1kS1PA0EQhp/2+nFLe5fzCM6DI/j7Bz2FJBtMFQmqAgJUIAm5BIPjDCE4fkIFDsEFQwI0Lcia\n",
       "tgYMEGYbsmwhrNjdebIz77yz8M8Ki99kw2w3LlF79z3qPbldurg8VCuQQzBX4w4eYB38zMXLMI44\n",
       "hdGc2hvcJngJHdFpa5ZmSaVXwQW1bc6hFk4YYLGmknMM1/WYVReHXT4h8ws+cIo0JwbTyprvP5Kp\n",
       "wYcS7BB0bYOtyBRZk+AC7wr1bWcTqjltCXYZp5zFxnyijjANvkhw0j8Qa1Mzqs6jzGlhiB+ZZMnk\n",
       "2XoV81VNI1ZGOLV4azbYsva0i5UMlkUq/X05A/u4YeqW/nzaE3wBfgFGiesGatIAAAAASUVORK5C\n",
       "YII=\n",
       "\" style=\"display:inline;vertical-align:middle;\" /></a></td></tr>\n",
       "<tr><td>7</td><td>Literal</td><td></td><td><a class=\"ProveItLink\" href=\"../../../sets/complex/__pv_it/c357845f93a5a2d9f649129d299e7ec28dda4b960/expr.ipynb\"><img src=\"data:image/png;base64,iVBORw0KGgoAAAANSUhEUgAAAA8AAAAOBAMAAAACpFvcAAAAMFBMVEX////c3NyqqqqYmJhUVFR2\n",
       "dnbu7u66urrMzMxmZmZEREQQEBAyMjIiIiKIiIgAAAB7fvZ0AAAAAXRSTlMAQObYZgAAAGVJREFU\n",
       "CNdjYGDgu3N+70oGBgaO+gK2+CdAhoEzAwPTFwYG5oQNQN4UBgZORgcgI4+BIZM9gAEMWpkMoAx2\n",
       "KCOLAyrFk+AAYTAHgBhsQLy4DkjUJjAwsHg9Y6taBpLsvP/bnYEBACkBFGQfBv8RAAAAAElFTkSu\n",
       "QmCC\n",
       "\" style=\"display:inline;vertical-align:middle;\" /></a></td></tr>\n",
       "<tr><td>8</td><td>Variable</td><td></td><td><a class=\"ProveItLink\" href=\"../../../../__pv_it/f8b9edf8e16034727f0aad55bb83e392c3db40d40/expr.ipynb\"><img src=\"data:image/png;base64,iVBORw0KGgoAAAANSUhEUgAAAAsAAAANBAMAAACN24kIAAAAMFBMVEX///+YmJhUVFQyMjIQEBBE\n",
       "REQiIiKqqqrMzMyIiIi6urrc3NxmZmZ2dnbu7u4AAADXeCicAAAAAXRSTlMAQObYZgAAAFhJREFU\n",
       "CNdj4LtzgWH/AwZerg8M8xkY2nkSGEIZGB6wTGD4ycDAUP+A4weQOszA6QCkbBhYFYDUIYb1AkDq\n",
       "6czzGxhA4BoQMyXwuQMptgusF4AU+8xTQBIAUqMVoSp/SLMAAAAASUVORK5CYII=\n",
       "\" style=\"display:inline;vertical-align:middle;\" /></a></td></tr>\n",
       "<tr><td>9</td><td>Literal</td><td></td><td><a class=\"ProveItLink\" href=\"../../../numeral/__pv_it/ec23fc7a1b4222a5f4948b495002b97d6fa18c3c0/expr.ipynb\"><img src=\"data:image/png;base64,iVBORw0KGgoAAAANSUhEUgAAAAoAAAAOBAMAAADkjZCYAAAALVBMVEX///8QEBCYmJh2dnaqqqrc\n",
       "3NxUVFQyMjK6uroiIiLMzMyIiIhmZmbu7u4AAAAZjyHdAAAAAXRSTlMAQObYZgAAAEpJREFUCNdj\n",
       "YLiz+xQDA8MMhpsLGLgnMHAXMHAmMHA8ZeA7wMD1hCHOgIHrNZh8jES+Bss+AqlkeQrSxTyBgWEK\n",
       "w8UFDAx3rLMYAMCjFldHSx/9AAAAAElFTkSuQmCC\n",
       "\" style=\"display:inline;vertical-align:middle;\" /></a></td></tr>\n",
       "</table>\n"
      ],
      "text/plain": [
       "0. (y in Complexes , y != 0)\n",
       "   core type: ExprTuple\n",
       "   sub-expressions: 1, 2\n",
       "1. y in Complexes\n",
       "   core type: Operation\n",
       "   operator: 3\n",
       "   operands: 4\n",
       "2. y != 0\n",
       "   core type: Operation\n",
       "   operator: 5\n",
       "   operands: 6\n",
       "3. in\n",
       "   core type: Literal\n",
       "   sub-expressions: \n",
       "4. (y , Complexes)\n",
       "   core type: ExprTuple\n",
       "   sub-expressions: 8, 7\n",
       "5. !=\n",
       "   core type: Literal\n",
       "   sub-expressions: \n",
       "6. (y , 0)\n",
       "   core type: ExprTuple\n",
       "   sub-expressions: 8, 9\n",
       "7. Complexes\n",
       "   core type: Literal\n",
       "   sub-expressions: \n",
       "8. y\n",
       "   core type: Variable\n",
       "   sub-expressions: \n",
       "9. 0\n",
       "   core type: Literal\n",
       "   sub-expressions: "
      ]
     },
     "execution_count": 4,
     "metadata": {},
     "output_type": "execute_result"
    }
   ],
   "source": [
    "# display the expression information\n",
    "expr.exprInfo()"
   ]
  },
  {
   "cell_type": "code",
   "execution_count": null,
   "metadata": {},
   "outputs": [],
   "source": []
  }
 ],
 "metadata": {
  "kernelspec": {
   "display_name": "Python 3",
   "language": "python",
   "name": "python3"
  }
 },
 "nbformat": 4,
 "nbformat_minor": 0
}
