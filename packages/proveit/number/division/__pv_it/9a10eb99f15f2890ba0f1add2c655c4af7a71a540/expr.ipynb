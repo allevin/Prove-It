{
 "cells": [
  {
   "cell_type": "markdown",
   "metadata": {},
   "source": [
    "Expression of type <a class=\"ProveItLink\" href=\"../../../../../../doc/html/api/proveit.ExprTuple.html\">ExprTuple</a>\n",
    "=======================\n",
    "# from context <a class=\"ProveItLink\" href=\"../../_context_.ipynb\">proveit.number.division</a>"
   ]
  },
  {
   "cell_type": "code",
   "execution_count": 1,
   "metadata": {},
   "outputs": [],
   "source": [
    "# import Expression classes needed to build the expression\n",
    "from proveit import ExprTuple\n",
    "from proveit._common_ import x, y\n",
    "from proveit.number import Mult, frac, one"
   ]
  },
  {
   "cell_type": "code",
   "execution_count": 2,
   "metadata": {},
   "outputs": [
    {
     "data": {
      "text/html": [
       "<strong id=\"expr\">expr:</strong> <a class=\"ProveItLink\" href=\"expr.ipynb\"><img src=\"data:image/png;base64,iVBORw0KGgoAAAANSUhEUgAAAFsAAAAyBAMAAADB47o4AAAAMFBMVEX///9ERESIiIiYmJju7u4y\n",
       "MjLMzMwQEBDc3NwiIiKqqqpUVFRmZma6urp2dnYAAACcPvpdAAAAAXRSTlMAQObYZgAAAmxJREFU\n",
       "SMeVlj+I01Acx79J3jVpm/7xEBwEKafgYLFZBJ2aTh2E9gY3b7jZ5aKDqIgURwcv4uYg5UAPp56b\n",
       "4tCgyCHinZtuDYeLIFLu6lFc9CUveUkb8qdv+PHS3yevv9/7/QtAV/krUtdVnW/30mmUrvm78k4K\n",
       "etIRl/ynVyl0a+LIosWelNspVr9zcdxjj0t2yukiw7eZswM9G77ErHkQ0igHb7bex+ClqSOlSUjT\n",
       "wRXtbgyONUfkw9doo4GXcXjTsXoUDqmO17G2o1KjYndWdyseL5pU3J9RKccgcXiB+pr7G9ZcFsc4\n",
       "F4eTw2DP3j8SDKUWh+MJIBghBVn+8fvsPK3u/vnAdkNAriLzavTQtbPjgz5GWnZ8o4ZmPzvetdBY\n",
       "z45XqtjvZcflVQz17HjedO4yO274+L/oQkgzZvVkLHT6gjg1Zj/BVRJ1Nekiu2bkIpPC1J5GwtRM\n",
       "6r7fI0mQmGJaJMUSE1iLJHBSeYjR8pgpvpQ1DOr28YVHdV7UnT0ofj2TXzY2WXBu8sZBbOmpzK/Z\n",
       "HkEc+7OlNKad0G8cXlsqU33BCQGhB+X6nyD4Pt1QTZxwd9KUNz2CYpVHktDWV/Et0+UaDoOmN/LC\n",
       "KjN923mrMMEGj/ZAzx2zoDp3nvdG1OY6eLapqzjP7+MjRCNo2JLrk9RrQOQ4nSunOb4GgY2A60GL\n",
       "Hmin8DDoczulI/7w2UsUNmyw7c7Oi50DLdQr60EytlZYkgtW/KAsh1P9pyu/MVuVOxH4Ldq8uRVN\n",
       "wgbwM++HFxH8Oc4EFWcL7t+rlu+YNY9v1YOiKax8mTt0eaEPFKgZPn9arqP/AT3lsdj9ko8EAAAA\n",
       "AElFTkSuQmCC\n",
       "\" style=\"display:inline;vertical-align:middle;\" /></a><br>"
      ],
      "text/plain": [
       "expr: (x / (x * y) , 1 / y)"
      ]
     },
     "execution_count": 2,
     "metadata": {},
     "output_type": "execute_result"
    }
   ],
   "source": [
    "# build up the expression from sub-expressions\n",
    "expr = ExprTuple(frac(x, Mult(x, y)), frac(one, y))"
   ]
  },
  {
   "cell_type": "code",
   "execution_count": 3,
   "metadata": {},
   "outputs": [
    {
     "name": "stdout",
     "output_type": "stream",
     "text": [
      "Passed sanity check: built 'expr' is the same as the stored Expression.\n"
     ]
    }
   ],
   "source": [
    "# check that the built expression is the same as the stored expression\n",
    "%check_expr"
   ]
  },
  {
   "cell_type": "code",
   "execution_count": 4,
   "metadata": {},
   "outputs": [
    {
     "data": {
      "text/html": [
       "<table><tr><th>&nbsp;</th><th>core type</th><th>sub-expressions</th><th>expression</th></tr>\n",
       "<tr><td>0</td><td>ExprTuple</td><td>1, 2</td><td><a class=\"ProveItLink\" href=\"expr.ipynb\"><img src=\"data:image/png;base64,iVBORw0KGgoAAAANSUhEUgAAAFsAAAAyBAMAAADB47o4AAAAMFBMVEX///9ERESIiIiYmJju7u4y\n",
       "MjLMzMwQEBDc3NwiIiKqqqpUVFRmZma6urp2dnYAAACcPvpdAAAAAXRSTlMAQObYZgAAAmxJREFU\n",
       "SMeVlj+I01Acx79J3jVpm/7xEBwEKafgYLFZBJ2aTh2E9gY3b7jZ5aKDqIgURwcv4uYg5UAPp56b\n",
       "4tCgyCHinZtuDYeLIFLu6lFc9CUveUkb8qdv+PHS3yevv9/7/QtAV/krUtdVnW/30mmUrvm78k4K\n",
       "etIRl/ynVyl0a+LIosWelNspVr9zcdxjj0t2yukiw7eZswM9G77ErHkQ0igHb7bex+ClqSOlSUjT\n",
       "wRXtbgyONUfkw9doo4GXcXjTsXoUDqmO17G2o1KjYndWdyseL5pU3J9RKccgcXiB+pr7G9ZcFsc4\n",
       "F4eTw2DP3j8SDKUWh+MJIBghBVn+8fvsPK3u/vnAdkNAriLzavTQtbPjgz5GWnZ8o4ZmPzvetdBY\n",
       "z45XqtjvZcflVQz17HjedO4yO274+L/oQkgzZvVkLHT6gjg1Zj/BVRJ1Nekiu2bkIpPC1J5GwtRM\n",
       "6r7fI0mQmGJaJMUSE1iLJHBSeYjR8pgpvpQ1DOr28YVHdV7UnT0ofj2TXzY2WXBu8sZBbOmpzK/Z\n",
       "HkEc+7OlNKad0G8cXlsqU33BCQGhB+X6nyD4Pt1QTZxwd9KUNz2CYpVHktDWV/Et0+UaDoOmN/LC\n",
       "KjN923mrMMEGj/ZAzx2zoDp3nvdG1OY6eLapqzjP7+MjRCNo2JLrk9RrQOQ4nSunOb4GgY2A60GL\n",
       "Hmin8DDoczulI/7w2UsUNmyw7c7Oi50DLdQr60EytlZYkgtW/KAsh1P9pyu/MVuVOxH4Ldq8uRVN\n",
       "wgbwM++HFxH8Oc4EFWcL7t+rlu+YNY9v1YOiKax8mTt0eaEPFKgZPn9arqP/AT3lsdj9ko8EAAAA\n",
       "AElFTkSuQmCC\n",
       "\" style=\"display:inline;vertical-align:middle;\" /></a></td></tr>\n",
       "<tr><td>1</td><td>Operation</td><td>operator:&nbsp;4<br>operands:&nbsp;3<br></td><td><a class=\"ProveItLink\" href=\"../bc1c6935c5273ccc4825592449193caad3598f8c0/expr.ipynb\"><img src=\"data:image/png;base64,iVBORw0KGgoAAAANSUhEUgAAACYAAAApBAMAAACrRUZIAAAAMFBMVEX///8yMjK6urpERETMzMwQ\n",
       "EBAiIiKYmJju7u5mZmaqqqpUVFSIiIh2dnbc3NwAAADpJKkdAAAAAXRSTlMAQObYZgAAANxJREFU\n",
       "KM9jYIAAvjv71sxhQAW9DGUFYWhiFxjOMyxBE2tg2MyACWIwhfi+MHCgCdXxfGA4gSrE9Z05gO8A\n",
       "qhiHzY27xxmGCviPCRiGDXh7+tVJeOz0zmXg+8HAcYE9nTUBnkT0GYCRygskuByA3A4gZlkwjYHZ\n",
       "ABj53Abg2PwGIoAphB9kECvYNI5gcNz/YPAHaXrvAExVUMApwHCUgYH9wXkGHrgY4wQGawaG9QWm\n",
       "DG/gDuPcwPSdgaH5bO+dAqR0c/Ifphd4E9BFtjG0LkAXy2WwxdC55qQCAwMAY2pJXQVJOa4AAAAA\n",
       "SUVORK5CYII=\n",
       "\" style=\"display:inline;vertical-align:middle;\" /></a></td></tr>\n",
       "<tr><td>2</td><td>Operation</td><td>operator:&nbsp;4<br>operands:&nbsp;5<br></td><td><a class=\"ProveItLink\" href=\"../1aa03a21bd251707d2546c3a00bea26a1977bda70/expr.ipynb\"><img src=\"data:image/png;base64,iVBORw0KGgoAAAANSUhEUgAAAAsAAAAuBAMAAAAM4/6QAAAAMFBMVEX///8iIiKqqqrMzMy6urrc\n",
       "3Nx2dnaYmJgyMjIQEBBmZmaIiIhUVFTu7u5EREQAAABBt2tDAAAAAXRSTlMAQObYZgAAAHZJREFU\n",
       "GNNjYGBgeMsAAvf+gsg7Z8AUAzc1KK6VP5YzkA3+g8AHBuoA3qwEhvgLDGwsHxj2MzAYcQkwvGNg\n",
       "uMC5geE3UFL/AvNnILWCgXsCkOpi4DsApNYw+BeAgmX3+gCwCYlAzCPAOwlIMSbwJQAppt1LgCQA\n",
       "/K0rV8xie+MAAAAASUVORK5CYII=\n",
       "\" style=\"display:inline;vertical-align:middle;\" /></a></td></tr>\n",
       "<tr><td>3</td><td>ExprTuple</td><td>10, 6</td><td><a class=\"ProveItLink\" href=\"../7fec60b73431e52d673042bfd4d824eae065b2070/expr.ipynb\"><img src=\"data:image/png;base64,iVBORw0KGgoAAAANSUhEUgAAAEcAAAAVBAMAAADm2O7QAAAAMFBMVEX////c3NwiIiJERESqqqqY\n",
       "mJh2dnZmZmYQEBDu7u4yMjJUVFTMzMyIiIi6uroAAAAs73DqAAAAAXRSTlMAQObYZgAAAVJJREFU\n",
       "KM9jYCAK8F3ALx8HIk4TMIT9AJBYSciqBQwMvBcIKQpjYOCYQEjRDAaGVwR9xuzAUAakxG6LXIfY\n",
       "ypi70bcWJsuZnsAgP4GBrYBhKZCTwKrKoQAWn8YQFNAEU8TG94HhPgMDywKGPiCHgfcDywGweAJQ\n",
       "1AfEmAnER9gVGIyBAdnA8A9oEgO3AVTzBIbNEJs+gTgcFxj+MjDwfAApAnoREQ69EEXNINJ/As8f\n",
       "sKIWEE/+AAM0JBj/AA2GgSoG3gawdaYMDKwC9xl4J4CVBfJ+YLgJV7ScgXkDUHoBQzrQ1AALBlmw\n",
       "M1i+MjcwIqyuZngfwAAKgkcMDJOvTcsNYODsF2DgtM1Mu4oIxsl36wUYGLgeMHAIwNOMAGZoJ0Gi\n",
       "hTUBJsCKroJbgRPkrVzkpIKhiCmBGWgCJzCpMEjDxDDSDMvdOpB5IFcwEkhQdxgYAJH0SwQ3Mw3U\n",
       "AAAAAElFTkSuQmCC\n",
       "\" style=\"display:inline;vertical-align:middle;\" /></a></td></tr>\n",
       "<tr><td>4</td><td>Literal</td><td></td><td><a class=\"ProveItLink\" href=\"../089f5ca61fe425d4f6ef7efa2138c1a2fa47180c0/expr.ipynb\"><img src=\"data:image/png;base64,iVBORw0KGgoAAAANSUhEUgAAAA4AAAAMBAMAAACgrpHpAAAAIVBMVEX///9ERERmZmbc3NwQEBAi\n",
       "IiKqqqrMzMx2dnaIiIgAAACeyUhQAAAAAXRSTlMAQObYZgAAACJJREFUCNdjYGBgmMEABuyrEiCM\n",
       "EAMG3EA1FAQCsUlhMwcALk0GeoeEfOIAAAAASUVORK5CYII=\n",
       "\" style=\"display:inline;vertical-align:middle;\" /></a></td></tr>\n",
       "<tr><td>5</td><td>ExprTuple</td><td>7, 11</td><td><a class=\"ProveItLink\" href=\"../3d555cf2a31f3b15d08e7eea6aa20227257226a60/expr.ipynb\"><img src=\"data:image/png;base64,iVBORw0KGgoAAAANSUhEUgAAACsAAAAVBAMAAAAtAwouAAAAMFBMVEX////c3NwiIiJERESqqqqY\n",
       "mJh2dnZmZmYQEBDu7u4yMjJUVFTMzMyIiIi6uroAAAAs73DqAAAAAXRSTlMAQObYZgAAAPBJREFU\n",
       "GNNjYMAB+C6gi8SBiNNAzDwBWZj9AJBYycDAaY8izLCAgYH3AgPn7v2owmEMDBwgkfuowjMYGF4x\n",
       "YAozOzCUIQtzpicwyE9gYCtgWIoszMb3geE+AwPLAoY+ZOEj7AoMxkCvNDD8QxaewHGB4S8DA88H\n",
       "VGEG/wk8f8DCLSjCVQy8DWBDTGHCYJnlDMwbGBhYFzCkQ4U5P4EY1QzvAxhADnwE5JT3Lw/g7BcA\n",
       "sibfrQdSXA8YOARgAQxhJEE8z5oAFWYFYm4FTpATciEBCxdmSmAGquIEBiyDNFQYFEksd+tAekDG\n",
       "MWJE2h0GBgAyxEFZCeHJUAAAAABJRU5ErkJggg==\n",
       "\" style=\"display:inline;vertical-align:middle;\" /></a></td></tr>\n",
       "<tr><td>6</td><td>Operation</td><td>operator:&nbsp;8<br>operands:&nbsp;9<br></td><td><a class=\"ProveItLink\" href=\"../f5bcb8ac133969024aa1d7e1c73cf8d29b3b83ff0/expr.ipynb\"><img src=\"data:image/png;base64,iVBORw0KGgoAAAANSUhEUgAAACYAAAANBAMAAAA3eAFoAAAAMFBMVEX///8yMjK6urpERETMzMwQ\n",
       "EBAiIiKYmJju7u5mZmaqqqpUVFSIiIh2dnbc3NwAAADpJKkdAAAAAXRSTlMAQObYZgAAAJ1JREFU\n",
       "GNNjYHh7+tXJAwxQ0DuXge8HA8cF9nTWBJjYBX0Gng8MvECCywHI7QBilgXTGJgNGDgYuA1AKji+\n",
       "gQiGGAZ+kEGsYNM4gkEk1w8Gf5Cm9w4MDTDzOAUYjjIwsD84z8ADF2OcwGDNwLC+wJThDQNc3Qam\n",
       "7wwMzWd77xTAxThsTv5jwAC8Cegi2xhaF6CL5TLYYuhcc1KBgQEA7zMlt29LHQkAAAAASUVORK5C\n",
       "YII=\n",
       "\" style=\"display:inline;vertical-align:middle;\" /></a></td></tr>\n",
       "<tr><td>7</td><td>Literal</td><td></td><td><a class=\"ProveItLink\" href=\"../../../numeral/__pv_it/9be8badea4c35b9724062cecc501d17a3158d1d20/expr.ipynb\"><img src=\"data:image/png;base64,iVBORw0KGgoAAAANSUhEUgAAAAgAAAAPBAMAAAArJJMAAAAAHlBMVEX///+YmJgyMjIQEBBmZmaI\n",
       "iIhUVFTu7u5EREQAAAAw+MI4AAAAAXRSTlMAQObYZgAAACFJREFUCNdjYGBoZ2BgqJjOwFCWBiQY\n",
       "WEklWJwnOTKAAACjEQo8HvEr3AAAAABJRU5ErkJggg==\n",
       "\" style=\"display:inline;vertical-align:middle;\" /></a></td></tr>\n",
       "<tr><td>8</td><td>Literal</td><td></td><td><a class=\"ProveItLink\" href=\"../../../multiplication/__pv_it/21fd2079611555ecce512d99547a00d551e6b86b0/expr.ipynb\"><img src=\"data:image/png;base64,iVBORw0KGgoAAAANSUhEUgAAAAMAAAADBAMAAACkBqiMAAAAElBMVEX///9EREQQEBAiIiLu7u4A\n",
       "AABGBidwAAAAAXRSTlMAQObYZgAAABFJREFUCNdjYHFgcDVgcBIAAASWAQx4jI0xAAAAAElFTkSu\n",
       "QmCC\n",
       "\" style=\"display:inline;vertical-align:middle;\" /></a></td></tr>\n",
       "<tr><td>9</td><td>ExprTuple</td><td>10, 11</td><td><a class=\"ProveItLink\" href=\"../a6a2ac9310c73e21661c7634808321702fb219240/expr.ipynb\"><img src=\"data:image/png;base64,iVBORw0KGgoAAAANSUhEUgAAACwAAAAVBAMAAADP3xFXAAAAMFBMVEX////c3NwiIiJERESqqqqY\n",
       "mJh2dnZmZmYQEBDu7u4yMjJUVFTMzMyIiIi6uroAAAAs73DqAAAAAXRSTlMAQObYZgAAAQtJREFU\n",
       "GNNjYMAB+C6gi7A+ABKnMVXWAPFKTGEuBgbeC5jCrAkMHBMwhTkbGF5hc4YJQxmQFLstch1i1rQy\n",
       "BsafDAzpDEuBehJYVTkUwMIJ7xl4PzAweDH0MTCwAZksB0CiPA5FDMwGDAwvGP4BVTNwG0DtYuhl\n",
       "4Acadx4kzMDAAXMly0+G8wdAwi0gnvwBBog72Rcw3GAAGWIKdL3AfQbeCWAJrgIGayAVBXQLg3+A\n",
       "BYMsA+cnkOoNfF8ZQA58xMAw+dq03AAGzn4BoJ221z8ChdcxcAjAQxjMYlMAex4YLLAAAuJNDDMc\n",
       "gFIXkAIWJKzGYAYkZwGxNEwY5Hbf66CY2QjEjBgBznuAAQAt5DtyKXSr1gAAAABJRU5ErkJggg==\n",
       "\" style=\"display:inline;vertical-align:middle;\" /></a></td></tr>\n",
       "<tr><td>10</td><td>Variable</td><td></td><td><a class=\"ProveItLink\" href=\"../../../../__pv_it/530be409e3083890784cf1d7b28c9e67e90af9360/expr.ipynb\"><img src=\"data:image/png;base64,iVBORw0KGgoAAAANSUhEUgAAAAsAAAAJBAMAAAAWSsseAAAAKlBMVEX///9ERETMzMwQEBAiIiKY\n",
       "mJju7u5mZmaqqqpUVFSIiIh2dnbc3NwAAAA/vyDhAAAAAXRSTlMAQObYZgAAAENJREFUCNdjYDi9\n",
       "8sTyBQxsG1hdmR0YuBm4LnAoMLAxcAowgADzAjB1VoEhgYH1wFoGrgSG3gBhhlMMDImrs3cFMAAA\n",
       "t0YN+iTRa+sAAAAASUVORK5CYII=\n",
       "\" style=\"display:inline;vertical-align:middle;\" /></a></td></tr>\n",
       "<tr><td>11</td><td>Variable</td><td></td><td><a class=\"ProveItLink\" href=\"../../../../__pv_it/f8b9edf8e16034727f0aad55bb83e392c3db40d40/expr.ipynb\"><img src=\"data:image/png;base64,iVBORw0KGgoAAAANSUhEUgAAAAsAAAANBAMAAACN24kIAAAAMFBMVEX///+YmJhUVFQyMjIQEBBE\n",
       "REQiIiKqqqrMzMyIiIi6urrc3NxmZmZ2dnbu7u4AAADXeCicAAAAAXRSTlMAQObYZgAAAFhJREFU\n",
       "CNdj4LtzgWH/AwZerg8M8xkY2nkSGEIZGB6wTGD4ycDAUP+A4weQOszA6QCkbBhYFYDUIYb1AkDq\n",
       "6czzGxhA4BoQMyXwuQMptgusF4AU+8xTQBIAUqMVoSp/SLMAAAAASUVORK5CYII=\n",
       "\" style=\"display:inline;vertical-align:middle;\" /></a></td></tr>\n",
       "</table>\n"
      ],
      "text/plain": [
       "0. (x / (x * y) , 1 / y)\n",
       "   core type: ExprTuple\n",
       "   sub-expressions: 1, 2\n",
       "1. x / (x * y)\n",
       "   core type: Operation\n",
       "   operator: 4\n",
       "   operands: 3\n",
       "2. 1 / y\n",
       "   core type: Operation\n",
       "   operator: 4\n",
       "   operands: 5\n",
       "3. (x , x * y)\n",
       "   core type: ExprTuple\n",
       "   sub-expressions: 10, 6\n",
       "4. /\n",
       "   core type: Literal\n",
       "   sub-expressions: \n",
       "5. (1 , y)\n",
       "   core type: ExprTuple\n",
       "   sub-expressions: 7, 11\n",
       "6. x * y\n",
       "   core type: Operation\n",
       "   operator: 8\n",
       "   operands: 9\n",
       "7. 1\n",
       "   core type: Literal\n",
       "   sub-expressions: \n",
       "8. *\n",
       "   core type: Literal\n",
       "   sub-expressions: \n",
       "9. (x , y)\n",
       "   core type: ExprTuple\n",
       "   sub-expressions: 10, 11\n",
       "10. x\n",
       "    core type: Variable\n",
       "    sub-expressions: \n",
       "11. y\n",
       "    core type: Variable\n",
       "    sub-expressions: "
      ]
     },
     "execution_count": 4,
     "metadata": {},
     "output_type": "execute_result"
    }
   ],
   "source": [
    "# display the expression information\n",
    "expr.exprInfo()"
   ]
  },
  {
   "cell_type": "code",
   "execution_count": null,
   "metadata": {},
   "outputs": [],
   "source": []
  }
 ],
 "metadata": {
  "kernelspec": {
   "display_name": "Python 3",
   "language": "python",
   "name": "python3"
  }
 },
 "nbformat": 4,
 "nbformat_minor": 0
}
