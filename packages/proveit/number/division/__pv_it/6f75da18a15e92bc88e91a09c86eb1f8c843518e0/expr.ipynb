{
 "cells": [
  {
   "cell_type": "markdown",
   "metadata": {},
   "source": [
    "Expression of type <a class=\"ProveItLink\" href=\"../../../../../../doc/html/api/proveit.ExprTuple.html\">ExprTuple</a>\n",
    "=======================\n",
    "# from context <a class=\"ProveItLink\" href=\"../../_context_.ipynb\">proveit.number.division</a>"
   ]
  },
  {
   "cell_type": "code",
   "execution_count": 1,
   "metadata": {},
   "outputs": [],
   "source": [
    "# import Expression classes needed to build the expression\n",
    "from proveit import ExprTuple\n",
    "from proveit._common_ import b\n",
    "from proveit.logic import NotEquals\n",
    "from proveit.number import zero"
   ]
  },
  {
   "cell_type": "code",
   "execution_count": 2,
   "metadata": {},
   "outputs": [
    {
     "data": {
      "text/html": [
       "<strong id=\"expr\">expr:</strong> <a class=\"ProveItLink\" href=\"expr.ipynb\"><img src=\"data:image/png;base64,iVBORw0KGgoAAAANSUhEUgAAADsAAAAVCAMAAADPXWbHAAAAPFBMVEX///8LCwsYGBgNDQ0oKCjc\n",
       "3NwiIiJERESqqqqYmJh2dnZmZmYQEBDu7u4yMjJUVFTMzMyIiIi6uroAAACIMCsmAAAAAXRSTlMA\n",
       "QObYZgAAASdJREFUOMulVFdyxSAMJIViBMiC+981IOEYE4Y3SfRBM8tqVazU/yzT7qvXi8Mjy3xi\n",
       "HSIGs4TqNGwiEMHZVjKqFGXCJRbzsDF1Ew3D+EnqHhf3kpbYNeKjw9chCG0u8TUtys0WgRjqqj/s\n",
       "l3JPO+4K8Jl4aJ0Cr7pcIjxmrD1H/4sXLKv0oJLcj6UxlOsqJLbPjzbijOXJJRVEkGO5wW9oJ2wO\n",
       "quROdAu6i+aZtqfPZ7mwBjiCT8FpKqkrVkfHBndnF77zBKba+5ths88cOc5R89kKFUdpkjvT9tro\n",
       "2TxSCzXXQOUF3KllYteKQgJYgVleiUgwZTf9bKAInrDHPtVABb3uPQfbxm01KUW9MBO3WE9DD/6S\n",
       "VtpA4x9osSvVq39O3kKpBewLhQYNSy/HVSUAAAAASUVORK5CYII=\n",
       "\" style=\"display:inline;vertical-align:middle;\" /></a><br>"
      ],
      "text/plain": [
       "expr: (b != 0)"
      ]
     },
     "execution_count": 2,
     "metadata": {},
     "output_type": "execute_result"
    }
   ],
   "source": [
    "# build up the expression from sub-expressions\n",
    "expr = ExprTuple(NotEquals(b, zero))"
   ]
  },
  {
   "cell_type": "code",
   "execution_count": 3,
   "metadata": {},
   "outputs": [
    {
     "name": "stdout",
     "output_type": "stream",
     "text": [
      "Passed sanity check: built 'expr' is the same as the stored Expression.\n"
     ]
    }
   ],
   "source": [
    "# check that the built expression is the same as the stored expression\n",
    "%check_expr"
   ]
  },
  {
   "cell_type": "code",
   "execution_count": 4,
   "metadata": {},
   "outputs": [
    {
     "data": {
      "text/html": [
       "<table><tr><th>&nbsp;</th><th>core type</th><th>sub-expressions</th><th>expression</th></tr>\n",
       "<tr><td>0</td><td>ExprTuple</td><td>1</td><td><a class=\"ProveItLink\" href=\"expr.ipynb\"><img src=\"data:image/png;base64,iVBORw0KGgoAAAANSUhEUgAAADsAAAAVCAMAAADPXWbHAAAAPFBMVEX///8LCwsYGBgNDQ0oKCjc\n",
       "3NwiIiJERESqqqqYmJh2dnZmZmYQEBDu7u4yMjJUVFTMzMyIiIi6uroAAACIMCsmAAAAAXRSTlMA\n",
       "QObYZgAAASdJREFUOMulVFdyxSAMJIViBMiC+981IOEYE4Y3SfRBM8tqVazU/yzT7qvXi8Mjy3xi\n",
       "HSIGs4TqNGwiEMHZVjKqFGXCJRbzsDF1Ew3D+EnqHhf3kpbYNeKjw9chCG0u8TUtys0WgRjqqj/s\n",
       "l3JPO+4K8Jl4aJ0Cr7pcIjxmrD1H/4sXLKv0oJLcj6UxlOsqJLbPjzbijOXJJRVEkGO5wW9oJ2wO\n",
       "quROdAu6i+aZtqfPZ7mwBjiCT8FpKqkrVkfHBndnF77zBKba+5ths88cOc5R89kKFUdpkjvT9tro\n",
       "2TxSCzXXQOUF3KllYteKQgJYgVleiUgwZTf9bKAInrDHPtVABb3uPQfbxm01KUW9MBO3WE9DD/6S\n",
       "VtpA4x9osSvVq39O3kKpBewLhQYNSy/HVSUAAAAASUVORK5CYII=\n",
       "\" style=\"display:inline;vertical-align:middle;\" /></a></td></tr>\n",
       "<tr><td>1</td><td>Operation</td><td>operator:&nbsp;2<br>operands:&nbsp;3<br></td><td><a class=\"ProveItLink\" href=\"../9d7ac126d8594a74b93e4076739e53405cfe89890/expr.ipynb\"><img src=\"data:image/png;base64,iVBORw0KGgoAAAANSUhEUgAAAC8AAAAUCAMAAAAqRJTwAAAAPFBMVEX///8LCwsYGBgNDQ0oKCjc\n",
       "3NxmZmbMzMxERESYmJiIiIh2dna6urqqqqoyMjIiIiIQEBBUVFTu7u4AAACG5AffAAAAAXRSTlMA\n",
       "QObYZgAAAMtJREFUKM+1UtsWgyAMYxeLFigW/v9fB0U3YEyPD+uDWggxCVXqd5lptBp49UP4RDUK\n",
       "EEGXb+Ihnm3V+NQEXw5Ed0qPIgFlycZwTs8FmR2ZoXw9110EWRMlxIi89PhZ19qiKXhMLmJmivs2\n",
       "kNTzkZ/c49PLifzVHNA3eKCPwHfZNuJajwdx3hqg7mp3v8uWPrwzBZ/qfvNSc5uny3mK005+T7/d\n",
       "lyTPiR/4SL38IKHCqmXeELr06XswAxhkPZ5jB+pS+XAJ/md6ZY82X9msCWuJzGCJAAAAAElFTkSu\n",
       "QmCC\n",
       "\" style=\"display:inline;vertical-align:middle;\" /></a></td></tr>\n",
       "<tr><td>2</td><td>Literal</td><td></td><td><a class=\"ProveItLink\" href=\"../../../../logic/equality/__pv_it/43637204f35b46c076ae787093288c6a879642310/expr.ipynb\"><img src=\"data:image/png;base64,iVBORw0KGgoAAAANSUhEUgAAAA4AAAAUCAMAAACK2/weAAAAM1BMVEX///8LCwsYGBgNDQ0oKCju\n",
       "7u4iIiJmZmaqqqpERETMzMy6urpUVFQyMjLc3Nx2dnYAAAB8DqOrAAAAAXRSTlMAQObYZgAAAE5J\n",
       "REFUGNNjYEAAfj4kDgMfLzKPgYebaEkuThRJTi4wxc4LBizMIJIHTRIKuHlQdPLCHMTOBgRMjGxg\n",
       "wIkmiVcnGHCwo0iysRItyYDsMQCO9QJkhxsUAQAAAABJRU5ErkJggg==\n",
       "\" style=\"display:inline;vertical-align:middle;\" /></a></td></tr>\n",
       "<tr><td>3</td><td>ExprTuple</td><td>4, 5</td><td><a class=\"ProveItLink\" href=\"../fbe24b00e3b4b8d0f5677c89620ec601b9c4ca000/expr.ipynb\"><img src=\"data:image/png;base64,iVBORw0KGgoAAAANSUhEUgAAACkAAAAVBAMAAAAp9toTAAAAMFBMVEX////c3NwiIiJERESqqqqY\n",
       "mJh2dnZmZmYQEBDu7u4yMjJUVFTMzMyIiIi6uroAAAAs73DqAAAAAXRSTlMAQObYZgAAAQxJREFU\n",
       "GNNtkb9LA0EQhb+ciXebmNz1Nvbapt//wKss5bCxEq4xXdBCrESuTOc1KYJNGsFGuN7CYCP4A6Kl\n",
       "TRQhYiOZTTZLDG6xzHws8968hf9PY7AEds11i7resEC1Hwr8QqoeVPuWekO1BTnUZUCoLb2HR9iB\n",
       "IINRZumm1BEdeJdmby70DXeaFU1LmsuXqyksjYUOWE3pivIXYeFoQjnnHMo/BMkCbRzzC35OmC5M\n",
       "WPsw1EsZxU4tNvRkavcomzvbjsyEJkbqFGW3EJeVnH2oab/PhcnC0+oM4+xNnN0cQufTpNN6EovV\n",
       "IUFk93p1UcrGlcTWsaMHsyT/UiVJsj6r6+5pzcwsLf/QM0wAm45FZKIBQfEAAAAASUVORK5CYII=\n",
       "\" style=\"display:inline;vertical-align:middle;\" /></a></td></tr>\n",
       "<tr><td>4</td><td>Variable</td><td></td><td><a class=\"ProveItLink\" href=\"../../../../__pv_it/6840a4fa6c106149dc16a131294d0c5e44f1b0480/expr.ipynb\"><img src=\"data:image/png;base64,iVBORw0KGgoAAAANSUhEUgAAAAkAAAAOBAMAAAAPuiubAAAALVBMVEX///9mZmbMzMxERESYmJiI\n",
       "iIh2dna6urqqqqoyMjIiIiIQEBBUVFTu7u4AAAD9S1JeAAAAAXRSTlMAQObYZgAAAE1JREFUCNdj\n",
       "4D29gAEIOA+ASL4GEFl3AURmgQiGOaFHGBh4HzPwKTBwvGXgTmBgnMDAJ8DAJcBQ5wBSLncBJLWN\n",
       "gYGngRFoBO9REQYGAGrcDtUkVqASAAAAAElFTkSuQmCC\n",
       "\" style=\"display:inline;vertical-align:middle;\" /></a></td></tr>\n",
       "<tr><td>5</td><td>Literal</td><td></td><td><a class=\"ProveItLink\" href=\"../../../numeral/__pv_it/ec23fc7a1b4222a5f4948b495002b97d6fa18c3c0/expr.ipynb\"><img src=\"data:image/png;base64,iVBORw0KGgoAAAANSUhEUgAAAAoAAAAOBAMAAADkjZCYAAAALVBMVEX///8QEBCYmJh2dnaqqqrc\n",
       "3NxUVFQyMjK6uroiIiLMzMyIiIhmZmbu7u4AAAAZjyHdAAAAAXRSTlMAQObYZgAAAEpJREFUCNdj\n",
       "YLiz+xQDA8MMhpsLGLgnMHAXMHAmMHA8ZeA7wMD1hCHOgIHrNZh8jES+Bss+AqlkeQrSxTyBgWEK\n",
       "w8UFDAx3rLMYAMCjFldHSx/9AAAAAElFTkSuQmCC\n",
       "\" style=\"display:inline;vertical-align:middle;\" /></a></td></tr>\n",
       "</table>\n"
      ],
      "text/plain": [
       "0. (b != 0)\n",
       "   core type: ExprTuple\n",
       "   sub-expressions: 1\n",
       "1. b != 0\n",
       "   core type: Operation\n",
       "   operator: 2\n",
       "   operands: 3\n",
       "2. !=\n",
       "   core type: Literal\n",
       "   sub-expressions: \n",
       "3. (b , 0)\n",
       "   core type: ExprTuple\n",
       "   sub-expressions: 4, 5\n",
       "4. b\n",
       "   core type: Variable\n",
       "   sub-expressions: \n",
       "5. 0\n",
       "   core type: Literal\n",
       "   sub-expressions: "
      ]
     },
     "execution_count": 4,
     "metadata": {},
     "output_type": "execute_result"
    }
   ],
   "source": [
    "# display the expression information\n",
    "expr.exprInfo()"
   ]
  },
  {
   "cell_type": "code",
   "execution_count": null,
   "metadata": {},
   "outputs": [],
   "source": []
  }
 ],
 "metadata": {
  "kernelspec": {
   "display_name": "Python 3",
   "language": "python",
   "name": "python3"
  }
 },
 "nbformat": 4,
 "nbformat_minor": 0
}
