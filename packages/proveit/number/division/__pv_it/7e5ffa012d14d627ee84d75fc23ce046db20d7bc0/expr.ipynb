{
 "cells": [
  {
   "cell_type": "markdown",
   "metadata": {},
   "source": [
    "Expression of type <a class=\"ProveItLink\" href=\"../../../../../../doc/html/api/proveit.ExprTuple.html\">ExprTuple</a>\n",
    "=======================\n",
    "# from context <a class=\"ProveItLink\" href=\"../../_context_.ipynb\">proveit.number.division</a>"
   ]
  },
  {
   "cell_type": "code",
   "execution_count": 1,
   "metadata": {},
   "outputs": [],
   "source": [
    "# import Expression classes needed to build the expression\n",
    "from proveit import ExprTuple\n",
    "from proveit._common_ import x\n",
    "from proveit.number import frac, zero"
   ]
  },
  {
   "cell_type": "code",
   "execution_count": 2,
   "metadata": {},
   "outputs": [
    {
     "data": {
      "text/html": [
       "<strong id=\"expr\">expr:</strong> <a class=\"ProveItLink\" href=\"expr.ipynb\"><img src=\"data:image/png;base64,iVBORw0KGgoAAAANSUhEUgAAADsAAAAyBAMAAAAQBL5IAAAAMFBMVEX///9ERESIiIiYmJju7u4y\n",
       "MjLMzMwQEBDc3NwiIiKqqqpUVFRmZma6urp2dnYAAACcPvpdAAAAAXRSTlMAQObYZgAAAfZJREFU\n",
       "OMt9VDtPAkEQ/rw7QEAesbElJhZGIjTWQGWMRCnstOAfiBbGGKPE0kLPmFhoTGiMscLKlouFdkBn\n",
       "yYXOjqgFGqPui8fuHk4xM5fvdt4zAKFoExotZ/tqXUcRWetp0XvCrMdkUcIXesodZcGmdSHBYYfL\n",
       "8R3KZ4EZ2fweFz6X8iugVZbgWx5clYlvYLMiwT5u/YB5+CFwQo69S7n50Ydd2fkGC/l+FJyhXlvN\n",
       "EcYRo9/PXKehpWU4bBO2z3WSWFVODCESm/+L66Qsr0rZrTfA+OB6sGLtqG05A8ZK4tf6XFGFa0Ag\n",
       "rjczP/3EZKqMVVeHr7HELFUraKU11LBhFKhCCpGpaDCpI6/3qoOUFhBijkg3FkejrMGnLvxvVAkU\n",
       "UMt6wj/Mi01zGw2XevAvI8W4r+T1mob2PhomiYW6wnhDDi3LyxK1RWhyYtYn5ZdYLIrE5LJYh/Tv\n",
       "fPsBoiwZeTsjw8ZIUZWWmMMfpCVKQyWYNFQZB2mWyTj0hsmLaoNRPJk7TiprgK3+IFuueR6w9UEW\n",
       "axCF0Qkpk2F2+0tkIayNLFuilngTSGidozkHxYk5LSLrscBmh/kpp2Ao8Drj26xA6SkcweN44Jay\n",
       "3PxKW1mIMWfocOn0wn2N73rDl0LeeKITjqpINHg0+e/BxoTHuc+xwP4AT0yKU0YMV5EAAAAASUVO\n",
       "RK5CYII=\n",
       "\" style=\"display:inline;vertical-align:middle;\" /></a><br>"
      ],
      "text/plain": [
       "expr: (0 / x , 0)"
      ]
     },
     "execution_count": 2,
     "metadata": {},
     "output_type": "execute_result"
    }
   ],
   "source": [
    "# build up the expression from sub-expressions\n",
    "expr = ExprTuple(frac(zero, x), zero)"
   ]
  },
  {
   "cell_type": "code",
   "execution_count": 3,
   "metadata": {},
   "outputs": [
    {
     "name": "stdout",
     "output_type": "stream",
     "text": [
      "Passed sanity check: built 'expr' is the same as the stored Expression.\n"
     ]
    }
   ],
   "source": [
    "# check that the built expression is the same as the stored expression\n",
    "%check_expr"
   ]
  },
  {
   "cell_type": "code",
   "execution_count": 4,
   "metadata": {},
   "outputs": [
    {
     "data": {
      "text/html": [
       "<table><tr><th>&nbsp;</th><th>core type</th><th>sub-expressions</th><th>expression</th></tr>\n",
       "<tr><td>0</td><td>ExprTuple</td><td>1, 4</td><td><a class=\"ProveItLink\" href=\"expr.ipynb\"><img src=\"data:image/png;base64,iVBORw0KGgoAAAANSUhEUgAAADsAAAAyBAMAAAAQBL5IAAAAMFBMVEX///9ERESIiIiYmJju7u4y\n",
       "MjLMzMwQEBDc3NwiIiKqqqpUVFRmZma6urp2dnYAAACcPvpdAAAAAXRSTlMAQObYZgAAAfZJREFU\n",
       "OMt9VDtPAkEQ/rw7QEAesbElJhZGIjTWQGWMRCnstOAfiBbGGKPE0kLPmFhoTGiMscLKlouFdkBn\n",
       "yYXOjqgFGqPui8fuHk4xM5fvdt4zAKFoExotZ/tqXUcRWetp0XvCrMdkUcIXesodZcGmdSHBYYfL\n",
       "8R3KZ4EZ2fweFz6X8iugVZbgWx5clYlvYLMiwT5u/YB5+CFwQo69S7n50Ydd2fkGC/l+FJyhXlvN\n",
       "EcYRo9/PXKehpWU4bBO2z3WSWFVODCESm/+L66Qsr0rZrTfA+OB6sGLtqG05A8ZK4tf6XFGFa0Ag\n",
       "rjczP/3EZKqMVVeHr7HELFUraKU11LBhFKhCCpGpaDCpI6/3qoOUFhBijkg3FkejrMGnLvxvVAkU\n",
       "UMt6wj/Mi01zGw2XevAvI8W4r+T1mob2PhomiYW6wnhDDi3LyxK1RWhyYtYn5ZdYLIrE5LJYh/Tv\n",
       "fPsBoiwZeTsjw8ZIUZWWmMMfpCVKQyWYNFQZB2mWyTj0hsmLaoNRPJk7TiprgK3+IFuueR6w9UEW\n",
       "axCF0Qkpk2F2+0tkIayNLFuilngTSGidozkHxYk5LSLrscBmh/kpp2Ao8Drj26xA6SkcweN44Jay\n",
       "3PxKW1mIMWfocOn0wn2N73rDl0LeeKITjqpINHg0+e/BxoTHuc+xwP4AT0yKU0YMV5EAAAAASUVO\n",
       "RK5CYII=\n",
       "\" style=\"display:inline;vertical-align:middle;\" /></a></td></tr>\n",
       "<tr><td>1</td><td>Operation</td><td>operator:&nbsp;2<br>operands:&nbsp;3<br></td><td><a class=\"ProveItLink\" href=\"../d036a71bb994f6f5f90e2990f330290dac88da230/expr.ipynb\"><img src=\"data:image/png;base64,iVBORw0KGgoAAAANSUhEUgAAAAwAAAAqBAMAAAB1rqf/AAAAMFBMVEX///9EREQQEBCYmJh2dnaq\n",
       "qqrc3NxUVFQyMjK6uroiIiLMzMyIiIhmZmbu7u4AAADSWfX9AAAAAXRSTlMAQObYZgAAAItJREFU\n",
       "GNNjYOC7c3YDAwMD1wS+1UDqFAPDCSC1nIFhfgIDw18Ghv0BDGxfgNQBCOWAQh2AKDEAa4hPAGv3\n",
       "AhkWwKcNpPiuHAcZTSb4DwYMVAIpx1PPHmDgc2BezLSAgYWB5wPrBgY+BnYBsCTTATCVv4HhAQNz\n",
       "wnkGngcM8QZCDDkMDA+PPPExYAAAXskurcnjfMAAAAAASUVORK5CYII=\n",
       "\" style=\"display:inline;vertical-align:middle;\" /></a></td></tr>\n",
       "<tr><td>2</td><td>Literal</td><td></td><td><a class=\"ProveItLink\" href=\"../089f5ca61fe425d4f6ef7efa2138c1a2fa47180c0/expr.ipynb\"><img src=\"data:image/png;base64,iVBORw0KGgoAAAANSUhEUgAAAA4AAAAMBAMAAACgrpHpAAAAIVBMVEX///9ERERmZmbc3NwQEBAi\n",
       "IiKqqqrMzMx2dnaIiIgAAACeyUhQAAAAAXRSTlMAQObYZgAAACJJREFUCNdjYGBgmMEABuyrEiCM\n",
       "EAMG3EA1FAQCsUlhMwcALk0GeoeEfOIAAAAASUVORK5CYII=\n",
       "\" style=\"display:inline;vertical-align:middle;\" /></a></td></tr>\n",
       "<tr><td>3</td><td>ExprTuple</td><td>4, 5</td><td><a class=\"ProveItLink\" href=\"../f6a2be2f6af2edb5f2690181669c831f8bf0db2c0/expr.ipynb\"><img src=\"data:image/png;base64,iVBORw0KGgoAAAANSUhEUgAAACwAAAAVBAMAAADP3xFXAAAAMFBMVEX////c3NwiIiJERESqqqqY\n",
       "mJh2dnZmZmYQEBDu7u4yMjJUVFTMzMyIiIi6uroAAAAs73DqAAAAAXRSTlMAQObYZgAAAQNJREFU\n",
       "GNNjYMAB+C6gi7A+ABKnGRim361BEQfxVjIw6DFMOoAszMXAwHuBgVeBgXcBiikJDBwTGJg2MPB9\n",
       "RBbmbGB4xcDAX8DA8wXFcBOGMgYG+QQGnr8QvthtketAl6UzLIUIf4PoTmBV5VBgYPBi6EMWZmPg\n",
       "/cACdNQLhn/IhnAycBuA6PMgYZCVX6GWcVyACLcwgBzIAnOg/AGGCSBDTBlA3mFTAPEYWAXuM/AC\n",
       "GVFAtzAwqDDMOMD5CcjwD7BgkGUAOfARkJyeu4eBs1+AgWHytWm5AUCBdQwcArAAFkD2PDBYoOGD\n",
       "8DvbBXDAogvPAmJpKBspkjYCMSNGpPEeYAAAkIc8ZGiP5oAAAAAASUVORK5CYII=\n",
       "\" style=\"display:inline;vertical-align:middle;\" /></a></td></tr>\n",
       "<tr><td>4</td><td>Literal</td><td></td><td><a class=\"ProveItLink\" href=\"../../../numeral/__pv_it/ec23fc7a1b4222a5f4948b495002b97d6fa18c3c0/expr.ipynb\"><img src=\"data:image/png;base64,iVBORw0KGgoAAAANSUhEUgAAAAoAAAAOBAMAAADkjZCYAAAALVBMVEX///8QEBCYmJh2dnaqqqrc\n",
       "3NxUVFQyMjK6uroiIiLMzMyIiIhmZmbu7u4AAAAZjyHdAAAAAXRSTlMAQObYZgAAAEpJREFUCNdj\n",
       "YLiz+xQDA8MMhpsLGLgnMHAXMHAmMHA8ZeA7wMD1hCHOgIHrNZh8jES+Bss+AqlkeQrSxTyBgWEK\n",
       "w8UFDAx3rLMYAMCjFldHSx/9AAAAAElFTkSuQmCC\n",
       "\" style=\"display:inline;vertical-align:middle;\" /></a></td></tr>\n",
       "<tr><td>5</td><td>Variable</td><td></td><td><a class=\"ProveItLink\" href=\"../../../../__pv_it/530be409e3083890784cf1d7b28c9e67e90af9360/expr.ipynb\"><img src=\"data:image/png;base64,iVBORw0KGgoAAAANSUhEUgAAAAsAAAAJBAMAAAAWSsseAAAAKlBMVEX///9ERETMzMwQEBAiIiKY\n",
       "mJju7u5mZmaqqqpUVFSIiIh2dnbc3NwAAAA/vyDhAAAAAXRSTlMAQObYZgAAAENJREFUCNdjYDi9\n",
       "8sTyBQxsG1hdmR0YuBm4LnAoMLAxcAowgADzAjB1VoEhgYH1wFoGrgSG3gBhhlMMDImrs3cFMAAA\n",
       "t0YN+iTRa+sAAAAASUVORK5CYII=\n",
       "\" style=\"display:inline;vertical-align:middle;\" /></a></td></tr>\n",
       "</table>\n"
      ],
      "text/plain": [
       "0. (0 / x , 0)\n",
       "   core type: ExprTuple\n",
       "   sub-expressions: 1, 4\n",
       "1. 0 / x\n",
       "   core type: Operation\n",
       "   operator: 2\n",
       "   operands: 3\n",
       "2. /\n",
       "   core type: Literal\n",
       "   sub-expressions: \n",
       "3. (0 , x)\n",
       "   core type: ExprTuple\n",
       "   sub-expressions: 4, 5\n",
       "4. 0\n",
       "   core type: Literal\n",
       "   sub-expressions: \n",
       "5. x\n",
       "   core type: Variable\n",
       "   sub-expressions: "
      ]
     },
     "execution_count": 4,
     "metadata": {},
     "output_type": "execute_result"
    }
   ],
   "source": [
    "# display the expression information\n",
    "expr.exprInfo()"
   ]
  },
  {
   "cell_type": "code",
   "execution_count": null,
   "metadata": {},
   "outputs": [],
   "source": []
  }
 ],
 "metadata": {
  "kernelspec": {
   "display_name": "Python 3",
   "language": "python",
   "name": "python3"
  }
 },
 "nbformat": 4,
 "nbformat_minor": 0
}
