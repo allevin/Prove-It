{
 "cells": [
  {
   "cell_type": "markdown",
   "metadata": {},
   "source": [
    "Expression of type <a class=\"ProveItLink\" href=\"../../../../../../doc/html/api/proveit.logic.Equals.html\">Equals</a>\n",
    "=======================\n",
    "# from context <a class=\"ProveItLink\" href=\"../../_context_.ipynb\">proveit.number.division</a>"
   ]
  },
  {
   "cell_type": "code",
   "execution_count": 1,
   "metadata": {},
   "outputs": [],
   "source": [
    "# import Expression classes needed to build the expression\n",
    "from proveit._common_ import x, y\n",
    "from proveit.logic import Equals\n",
    "from proveit.number import Mult, frac"
   ]
  },
  {
   "cell_type": "code",
   "execution_count": 2,
   "metadata": {},
   "outputs": [
    {
     "data": {
      "text/html": [
       "<strong id=\"expr\">expr:</strong> <a class=\"ProveItLink\" href=\"expr.ipynb\"><img src=\"data:image/png;base64,iVBORw0KGgoAAAANSUhEUgAAAGwAAAAyBAMAAABLzCN5AAAAMFBMVEX///9ERESIiIiYmJju7u4y\n",
       "MjLMzMwQEBDc3NwiIiKqqqpUVFRmZma6urp2dnYAAACcPvpdAAAAAXRSTlMAQObYZgAAAjJJREFU\n",
       "SMedlj1LA0EQhifJxVw+TCSNhSABBQuDSSNoZVJZCGqhVSzyD4wWoiIilhYasdJCgqBiFe20ShBE\n",
       "bDSdZUKwFtEgwUbv9qJ3686MwSlu4ebevd2ZZ2YXwLBwBTCbSAFr9/jrzhlWFT4nHMOs7IxyBMuM\n",
       "Sl8iXauMzFsjXadMUIq0z8uscl08twe34jEllk1S5WmYT63m2fPlFeccKfOL8IfB/RLIKs4xcgNV\n",
       "gYgGwS7EGYlRstvW6MO+COYp2Vpr3MmCuqIAFZOODyswGwlwqzLtlZC5G1bykt2wibh3CZkrJ4b0\n",
       "0GQ9ibhLhMzXxWKe2MDfT9VYWbFApC3JyuaJxI0VWNkUAXMiy8oixNYf0D1P3oMuMuObVqq6fnl0\n",
       "DSUU1lrVQFuAbtF1M2taRswIo8kVNTGaMU9H4Q5cYnn+nDIjJODkW/YpTAQhb9bDYgt+ryJLwQWG\n",
       "wbj5l0AD5rO4DIwpKXpC0zAAjkXe7ZtmAaq/G6t5SBG9pwccIXHYiBGrfiIBofPON0ATEHhz5fQY\n",
       "kW4tGm/i6daiT899BlwV4mDIs3DhKF/BeIFFGS+cQ+jlCwcv06N4hS9TV46tgBLfgmzmZVvgG57N\n",
       "fHsNr9Vebeblc6XJN3Ob+TabedXC5Id5uSeQfc1flplv86DyvMjMS5ahU7MoM9/mIQynMvMSC+W/\n",
       "LxhhNWqPzAVDX5aYd9oBx92xxLyzxrnLk+X9Yf73fLRF/3UxhBDeGNJ0QL4A5fWSN+EjNrIAAAAA\n",
       "SUVORK5CYII=\n",
       "\" style=\"display:inline;vertical-align:middle;\" /></a><br>"
      ],
      "text/plain": [
       "expr: ((x / y) * y) = x"
      ]
     },
     "execution_count": 2,
     "metadata": {},
     "output_type": "execute_result"
    }
   ],
   "source": [
    "# build up the expression from sub-expressions\n",
    "expr = Equals(Mult(frac(x, y), y), x)"
   ]
  },
  {
   "cell_type": "code",
   "execution_count": 3,
   "metadata": {},
   "outputs": [
    {
     "name": "stdout",
     "output_type": "stream",
     "text": [
      "Passed sanity check: built 'expr' is the same as the stored Expression.\n"
     ]
    }
   ],
   "source": [
    "# check that the built expression is the same as the stored expression\n",
    "%check_expr"
   ]
  },
  {
   "cell_type": "code",
   "execution_count": 4,
   "metadata": {},
   "outputs": [
    {
     "data": {
      "text/html": [
       "<table><tr><th>&nbsp;</th><th>core type</th><th>sub-expressions</th><th>expression</th></tr>\n",
       "<tr><td>0</td><td>Operation</td><td>operator:&nbsp;1<br>operands:&nbsp;2<br></td><td><a class=\"ProveItLink\" href=\"expr.ipynb\"><img src=\"data:image/png;base64,iVBORw0KGgoAAAANSUhEUgAAAGwAAAAyBAMAAABLzCN5AAAAMFBMVEX///9ERESIiIiYmJju7u4y\n",
       "MjLMzMwQEBDc3NwiIiKqqqpUVFRmZma6urp2dnYAAACcPvpdAAAAAXRSTlMAQObYZgAAAjJJREFU\n",
       "SMedlj1LA0EQhifJxVw+TCSNhSABBQuDSSNoZVJZCGqhVSzyD4wWoiIilhYasdJCgqBiFe20ShBE\n",
       "bDSdZUKwFtEgwUbv9qJ3686MwSlu4ebevd2ZZ2YXwLBwBTCbSAFr9/jrzhlWFT4nHMOs7IxyBMuM\n",
       "Sl8iXauMzFsjXadMUIq0z8uscl08twe34jEllk1S5WmYT63m2fPlFeccKfOL8IfB/RLIKs4xcgNV\n",
       "gYgGwS7EGYlRstvW6MO+COYp2Vpr3MmCuqIAFZOODyswGwlwqzLtlZC5G1bykt2wibh3CZkrJ4b0\n",
       "0GQ9ibhLhMzXxWKe2MDfT9VYWbFApC3JyuaJxI0VWNkUAXMiy8oixNYf0D1P3oMuMuObVqq6fnl0\n",
       "DSUU1lrVQFuAbtF1M2taRswIo8kVNTGaMU9H4Q5cYnn+nDIjJODkW/YpTAQhb9bDYgt+ryJLwQWG\n",
       "wbj5l0AD5rO4DIwpKXpC0zAAjkXe7ZtmAaq/G6t5SBG9pwccIXHYiBGrfiIBofPON0ATEHhz5fQY\n",
       "kW4tGm/i6daiT899BlwV4mDIs3DhKF/BeIFFGS+cQ+jlCwcv06N4hS9TV46tgBLfgmzmZVvgG57N\n",
       "fHsNr9Vebeblc6XJN3Ob+TabedXC5Id5uSeQfc1flplv86DyvMjMS5ahU7MoM9/mIQynMvMSC+W/\n",
       "LxhhNWqPzAVDX5aYd9oBx92xxLyzxrnLk+X9Yf73fLRF/3UxhBDeGNJ0QL4A5fWSN+EjNrIAAAAA\n",
       "SUVORK5CYII=\n",
       "\" style=\"display:inline;vertical-align:middle;\" /></a></td></tr>\n",
       "<tr><td>1</td><td>Literal</td><td></td><td><a class=\"ProveItLink\" href=\"../../../../logic/equality/__pv_it/2fb26078095930560931daa0500ce419a39ea6cd0/expr.ipynb\"><img src=\"data:image/png;base64,iVBORw0KGgoAAAANSUhEUgAAAA4AAAAFBAMAAACHocAhAAAAFVBMVEX///9EREQiIiJUVFQyMjJm\n",
       "ZmYAAADubVkoAAAAAXRSTlMAQObYZgAAABRJREFUCNdjCHEBAWcGXCBICQQUAUpuAwlgGKrkAAAA\n",
       "AElFTkSuQmCC\n",
       "\" style=\"display:inline;vertical-align:middle;\" /></a></td></tr>\n",
       "<tr><td>2</td><td>ExprTuple</td><td>3, 9</td><td><a class=\"ProveItLink\" href=\"../edef1bd7454a906f034ec82232d447d94c0d9cdd0/expr.ipynb\"><img src=\"data:image/png;base64,iVBORw0KGgoAAAANSUhEUgAAAFYAAAAyBAMAAAA0HTGIAAAAMFBMVEX///9ERESIiIiYmJju7u4y\n",
       "MjLMzMwQEBDc3NwiIiKqqqpUVFRmZma6urp2dnYAAACcPvpdAAAAAXRSTlMAQObYZgAAAjBJREFU\n",
       "SMeNls9LG0EUx7+bTH4Yk6jBW0sJVvAi6NGeskLBm3rrpYecezEVLa2I3f+guYkXCUIVT0bwUEFQ\n",
       "BBFpq730vIv0UiglahCV0nZmdmKSdfNmHuzMI3yZzL75vO8swCP7DXSwnfv0FLr4bqskW9Vqo9Mq\n",
       "2YQ+9vwp+cZAm6jIKeYZaFNzctqyDbR4KccluZHzT2uHlNZ1xCvWRTqJZ6PvKG3sgA9dsmIeRrBO\n",
       "Vk0s6cpDs7Gt2fAlf45VPqvR7vJnUVX5GozUbjmI38lsLFLDIKmdyiMiy5C6skrJPKnt6oVVktDl\n",
       "fvx+Su+3u4ZEL8wicoMpz1CbuoM7aqiNX6JQMdSyPxgpGmpxgTMn7PfJUyTraAdwHvuh9Hou+OG0\n",
       "A7iC/aDsuXiPygksv5hNAJeVtuefCLESuxUDJ6nHP8YmgC8erMtey2LWMVMMAPhQ60d6GkMIALiM\n",
       "M7tDxzwS/98K4EqHmqWrmSu59RYA5zucBcsN34C9d1oBvEChg0dmy0DGaT/jcHZ2McE5iQbYCWdy\n",
       "FU8Q0HImw1lfGxZbywdY93vIIHgP+b0J9svDB9IE+QZUz2czNQ6JpueVl7xKl9FHagtOw6PsRF46\n",
       "Fu1RblE5dvya1P4VfnIg0yNESlpPjdaUx1vk1RWrNln+rHEKeQdgQ+bjA+F0NuJx2531k5Jm/Dsr\n",
       "+VacYJktkI6q7OmjyD2LNMEvjYbhVUsNfCVNsnF3I2f+TYC09lujX4z/AX4ClZmMwwN/AAAAAElF\n",
       "TkSuQmCC\n",
       "\" style=\"display:inline;vertical-align:middle;\" /></a></td></tr>\n",
       "<tr><td>3</td><td>Operation</td><td>operator:&nbsp;4<br>operands:&nbsp;5<br></td><td><a class=\"ProveItLink\" href=\"../9145631c93d5b38c28750d01434491378d06d5730/expr.ipynb\"><img src=\"data:image/png;base64,iVBORw0KGgoAAAANSUhEUgAAACgAAAApBAMAAAC1jHb7AAAAMFBMVEX///8yMjK6urpERETMzMwQ\n",
       "EBAiIiKYmJju7u5mZmaqqqpUVFSIiIh2dnbc3NwAAADpJKkdAAAAAXRSTlMAQObYZgAAAPpJREFU\n",
       "KM9jYHh7+tXJAwyogOMCezprApogLwPPBy4HdJUM3AYMmID1ABbB9w4MDWhC7A/OM/CgC64vMGV4\n",
       "g665+WzvnQKGQQJ65zLw/UAXvKAPDCDkoAH6i2XBNAZmA4b/YAAS7E8AhVkMAz9yALWCgpDrB4M/\n",
       "eugycAowHMWwnXECgzWGIOcGpu8Yghw2J/9hcT5vAobQNobWBRiCuQy2mJrXnFTAFSwcNy8wvEeP\n",
       "TV6mDwzn0VV6cSYwGKMLNgBTzR8MQ9c3sHzBEJzIwBOAISjJwLwBQ3A2gz5msmk+M/8BFvdfwxDh\n",
       "TuCIwhBku8B8AUOQ68wkDDEAiRNAra49LVcAAAAASUVORK5CYII=\n",
       "\" style=\"display:inline;vertical-align:middle;\" /></a></td></tr>\n",
       "<tr><td>4</td><td>Literal</td><td></td><td><a class=\"ProveItLink\" href=\"../../../multiplication/__pv_it/21fd2079611555ecce512d99547a00d551e6b86b0/expr.ipynb\"><img src=\"data:image/png;base64,iVBORw0KGgoAAAANSUhEUgAAAAMAAAADBAMAAACkBqiMAAAAElBMVEX///9EREQQEBAiIiLu7u4A\n",
       "AABGBidwAAAAAXRSTlMAQObYZgAAABFJREFUCNdjYHFgcDVgcBIAAASWAQx4jI0xAAAAAElFTkSu\n",
       "QmCC\n",
       "\" style=\"display:inline;vertical-align:middle;\" /></a></td></tr>\n",
       "<tr><td>5</td><td>ExprTuple</td><td>6, 10</td><td><a class=\"ProveItLink\" href=\"../a97f924e1f75f38051e040725ae72ec95a165be20/expr.ipynb\"><img src=\"data:image/png;base64,iVBORw0KGgoAAAANSUhEUgAAADsAAAAyBAMAAAAQBL5IAAAAMFBMVEX///9ERESIiIiYmJju7u4y\n",
       "MjLMzMwQEBDc3NwiIiKqqqpUVFRmZma6urp2dnYAAACcPvpdAAAAAXRSTlMAQObYZgAAAf5JREFU\n",
       "OMt9VDtIw1AUPWnSr22sLg6CFBcHi+3i3Do5COrgpkNmF6uDiIgWRwetuDlIEYo46erULiIifjbH\n",
       "BjfBoWiR6qJ5nwRz8+KF3HeTk/fePfcHOGI+ISAzZc98CKLILLiWeamAMeka5yoUfS2xJtaVMDbF\n",
       "ErXV8Jlw7qKshqPi9G2u98f38jm/7z2m9S7Thq0fxWv+7UtMJTktE5FOyvLDJXZrm4fMQF+WXt7P\n",
       "LruRL/FcgDm7bEu+HFggFFKOb7FvburVAiIENt6BSFeQLw5hl55+CGgVbk1NzL4UKdx0PMoiVApV\n",
       "zNnh8EUd7WI4vJJDqR4Oz7VQsMLh/iweq4Gvsw9IcLrxeTSD2bbbTn54tmqMG5FY/RYap5usuPAP\n",
       "FxFLrIlkIVpR7EaqixUrHE7PYwzy8Ee/a2VRg8OQrvmJGV9s92XmA5KYPyzGjvO3MZjvuWEp+bsz\n",
       "ww8za25QSUp057nCdN1NCUkog08w4iWUlAMLx2n+ySsHWUxKaXqlaLzZOKDZWfUK2cx0UECwkGUb\n",
       "LKdrGCCw3vOaqOz00LuqidqWHAKxT1pLjHNSDIFrRCgH3sB6R/a6RufXItdrXN8FKl4MD5yJJhul\n",
       "Nau1fIPrlZz9LKKU2OAkjE0CH8u1wfy3NdKL6dYfIzV6TzY3PGvw34GNtGLcT3HHfgHbmYBukKLQ\n",
       "JgAAAABJRU5ErkJggg==\n",
       "\" style=\"display:inline;vertical-align:middle;\" /></a></td></tr>\n",
       "<tr><td>6</td><td>Operation</td><td>operator:&nbsp;7<br>operands:&nbsp;8<br></td><td><a class=\"ProveItLink\" href=\"../ed7bab118f678ae4a216e02ab423d4e016e01f4c0/expr.ipynb\"><img src=\"data:image/png;base64,iVBORw0KGgoAAAANSUhEUgAAAAwAAAApBAMAAADzOtVRAAAAMFBMVEX///8yMjK6urpERETMzMwQ\n",
       "EBAiIiKYmJju7u5mZmaqqqpUVFSIiIh2dnbc3NwAAADpJKkdAAAAAXRSTlMAQObYZgAAAJZJREFU\n",
       "GNNjYHh7+tXJAwwcF9jTWRMYeBl4PnA5MHAwcBswgADrATD13oGhgYH9wXkGngaG9QWmDG8YGJrP\n",
       "9t4pYCAb/AcDBuoAjpsXGN43MPAyfWA4z8DgxZnAYMzA0AB0+x+g5PoGli9AaiIDTwCQkmRg3gCk\n",
       "ZjPogxzffGb+A7AJ14CYO4EjCkixXWC+AKS4zkwCkgBlLSw3UT2MsQAAAABJRU5ErkJggg==\n",
       "\" style=\"display:inline;vertical-align:middle;\" /></a></td></tr>\n",
       "<tr><td>7</td><td>Literal</td><td></td><td><a class=\"ProveItLink\" href=\"../089f5ca61fe425d4f6ef7efa2138c1a2fa47180c0/expr.ipynb\"><img src=\"data:image/png;base64,iVBORw0KGgoAAAANSUhEUgAAAA4AAAAMBAMAAACgrpHpAAAAIVBMVEX///9ERERmZmbc3NwQEBAi\n",
       "IiKqqqrMzMx2dnaIiIgAAACeyUhQAAAAAXRSTlMAQObYZgAAACJJREFUCNdjYGBgmMEABuyrEiCM\n",
       "EAMG3EA1FAQCsUlhMwcALk0GeoeEfOIAAAAASUVORK5CYII=\n",
       "\" style=\"display:inline;vertical-align:middle;\" /></a></td></tr>\n",
       "<tr><td>8</td><td>ExprTuple</td><td>9, 10</td><td><a class=\"ProveItLink\" href=\"../a6a2ac9310c73e21661c7634808321702fb219240/expr.ipynb\"><img src=\"data:image/png;base64,iVBORw0KGgoAAAANSUhEUgAAACwAAAAVBAMAAADP3xFXAAAAMFBMVEX////c3NwiIiJERESqqqqY\n",
       "mJh2dnZmZmYQEBDu7u4yMjJUVFTMzMyIiIi6uroAAAAs73DqAAAAAXRSTlMAQObYZgAAAQtJREFU\n",
       "GNNjYMAB+C6gi7A+ABKnMVXWAPFKTGEuBgbeC5jCrAkMHBMwhTkbGF5hc4YJQxmQFLstch1i1rQy\n",
       "BsafDAzpDEuBehJYVTkUwMIJ7xl4PzAweDH0MTCwAZksB0CiPA5FDMwGDAwvGP4BVTNwG0DtYuhl\n",
       "4Acadx4kzMDAAXMly0+G8wdAwi0gnvwBBog72Rcw3GAAGWIKdL3AfQbeCWAJrgIGayAVBXQLg3+A\n",
       "BYMsA+cnkOoNfF8ZQA58xMAw+dq03AAGzn4BoJ221z8ChdcxcAjAQxjMYlMAex4YLLAAAuJNDDMc\n",
       "gFIXkAIWJKzGYAYkZwGxNEwY5Hbf66CY2QjEjBgBznuAAQAt5DtyKXSr1gAAAABJRU5ErkJggg==\n",
       "\" style=\"display:inline;vertical-align:middle;\" /></a></td></tr>\n",
       "<tr><td>9</td><td>Variable</td><td></td><td><a class=\"ProveItLink\" href=\"../../../../__pv_it/530be409e3083890784cf1d7b28c9e67e90af9360/expr.ipynb\"><img src=\"data:image/png;base64,iVBORw0KGgoAAAANSUhEUgAAAAsAAAAJBAMAAAAWSsseAAAAKlBMVEX///9ERETMzMwQEBAiIiKY\n",
       "mJju7u5mZmaqqqpUVFSIiIh2dnbc3NwAAAA/vyDhAAAAAXRSTlMAQObYZgAAAENJREFUCNdjYDi9\n",
       "8sTyBQxsG1hdmR0YuBm4LnAoMLAxcAowgADzAjB1VoEhgYH1wFoGrgSG3gBhhlMMDImrs3cFMAAA\n",
       "t0YN+iTRa+sAAAAASUVORK5CYII=\n",
       "\" style=\"display:inline;vertical-align:middle;\" /></a></td></tr>\n",
       "<tr><td>10</td><td>Variable</td><td></td><td><a class=\"ProveItLink\" href=\"../../../../__pv_it/f8b9edf8e16034727f0aad55bb83e392c3db40d40/expr.ipynb\"><img src=\"data:image/png;base64,iVBORw0KGgoAAAANSUhEUgAAAAsAAAANBAMAAACN24kIAAAAMFBMVEX///+YmJhUVFQyMjIQEBBE\n",
       "REQiIiKqqqrMzMyIiIi6urrc3NxmZmZ2dnbu7u4AAADXeCicAAAAAXRSTlMAQObYZgAAAFhJREFU\n",
       "CNdj4LtzgWH/AwZerg8M8xkY2nkSGEIZGB6wTGD4ycDAUP+A4weQOszA6QCkbBhYFYDUIYb1AkDq\n",
       "6czzGxhA4BoQMyXwuQMptgusF4AU+8xTQBIAUqMVoSp/SLMAAAAASUVORK5CYII=\n",
       "\" style=\"display:inline;vertical-align:middle;\" /></a></td></tr>\n",
       "</table>\n"
      ],
      "text/plain": [
       "0. ((x / y) * y) = x\n",
       "   core type: Operation\n",
       "   operator: 1\n",
       "   operands: 2\n",
       "1. =\n",
       "   core type: Literal\n",
       "   sub-expressions: \n",
       "2. ((x / y) * y , x)\n",
       "   core type: ExprTuple\n",
       "   sub-expressions: 3, 9\n",
       "3. (x / y) * y\n",
       "   core type: Operation\n",
       "   operator: 4\n",
       "   operands: 5\n",
       "4. *\n",
       "   core type: Literal\n",
       "   sub-expressions: \n",
       "5. (x / y , y)\n",
       "   core type: ExprTuple\n",
       "   sub-expressions: 6, 10\n",
       "6. x / y\n",
       "   core type: Operation\n",
       "   operator: 7\n",
       "   operands: 8\n",
       "7. /\n",
       "   core type: Literal\n",
       "   sub-expressions: \n",
       "8. (x , y)\n",
       "   core type: ExprTuple\n",
       "   sub-expressions: 9, 10\n",
       "9. x\n",
       "   core type: Variable\n",
       "   sub-expressions: \n",
       "10. y\n",
       "    core type: Variable\n",
       "    sub-expressions: "
      ]
     },
     "execution_count": 4,
     "metadata": {},
     "output_type": "execute_result"
    }
   ],
   "source": [
    "# display the expression information\n",
    "expr.exprInfo()"
   ]
  },
  {
   "cell_type": "code",
   "execution_count": null,
   "metadata": {},
   "outputs": [],
   "source": []
  }
 ],
 "metadata": {
  "kernelspec": {
   "display_name": "Python 3",
   "language": "python",
   "name": "python3"
  }
 },
 "nbformat": 4,
 "nbformat_minor": 0
}
