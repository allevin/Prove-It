{
 "cells": [
  {
   "cell_type": "markdown",
   "metadata": {},
   "source": [
    "Expression of type <a class=\"ProveItLink\" href=\"../../../../../../doc/html/api/proveit.logic.InSet.html\">InSet</a>\n",
    "=======================\n",
    "# from context <a class=\"ProveItLink\" href=\"../../_context_.ipynb\">proveit.number.division</a>"
   ]
  },
  {
   "cell_type": "code",
   "execution_count": 1,
   "metadata": {},
   "outputs": [],
   "source": [
    "# import Expression classes needed to build the expression\n",
    "from proveit._common_ import a\n",
    "from proveit.logic import InSet\n",
    "from proveit.number._common_ import ComplexesSansZero"
   ]
  },
  {
   "cell_type": "code",
   "execution_count": 2,
   "metadata": {},
   "outputs": [
    {
     "data": {
      "text/html": [
       "<strong id=\"expr\">expr:</strong> <a class=\"ProveItLink\" href=\"expr.ipynb\"><img src=\"data:image/png;base64,iVBORw0KGgoAAAANSUhEUgAAAHoAAAAVBAMAAAB71edYAAAAMFBMVEX///8yMjKqqqrMzMzu7u4i\n",
       "IiJmZmaYmJhEREQQEBC6urp2dnaIiIhUVFTc3NwAAAD87Fq/AAAAAXRSTlMAQObYZgAAAe9JREFU\n",
       "OMuVlMFLG0EUxr/sjq4mceuhKnhx/QuyJ2kQcT2k9CCoSLyIFPFoC/FSkF5CEXuToOSSQ0kPgQYK\n",
       "7kVBDxpBPQhiclKLSI5epDm1VBH6Znd2ksaJ1IHZfcy838yb974Z4DntQ8r/D+894RQuqccTbmDF\n",
       "LcDIq71GqEenBrKrTeNn1Nm7Yxto7yZzQU2/BPTNPNs/bRrfod6WZ9NAJENmSAlHKfDUOaA9KOgj\n",
       "4EDQhtswN96TnPKMTgeGw6ffK+g5YLPq0yxTn9L7HGF9pXOZZb6egv4FjFo+jU+AebX7hZs3AYxF\n",
       "4HXYVRyJaPOe6JKgt4FitaPGzTXp1EcF1VIKel7QLgwPGYT5G+1pfoi0dMoRHVbQek7S6OUDRXTV\n",
       "0MbFEc4mkyJrd8AbPYjc7EnyRsrQL20ZOTooQIziRRoTNl+4LPcgOuSUFRLcEFmjuGbh0T9LiIES\n",
       "xial1zovJadZE17xKxarinMXMWGhovHNz6XTZ96/06fg/Etv+WrZEmrBEkIpbSbiXQEpeioEui4O\n",
       "2bcVlVIttgFZMfPq5NWJl55eWzgV+Gfo7Z8finqDLZ7aAd3fMKdVAqVWW9zcHWk9Umq9Ge7/0ZFS\n",
       "qxuqbMvS8u73mNrrtgWdkJvFeYqv1V5mi5cJH62Gdy1q4y9tUHnLvTmQSgAAAABJRU5ErkJggg==\n",
       "\" style=\"display:inline;vertical-align:middle;\" /></a><br>"
      ],
      "text/plain": [
       "expr: a in (Complexes - {0})"
      ]
     },
     "execution_count": 2,
     "metadata": {},
     "output_type": "execute_result"
    }
   ],
   "source": [
    "# build up the expression from sub-expressions\n",
    "expr = InSet(a, ComplexesSansZero)"
   ]
  },
  {
   "cell_type": "code",
   "execution_count": 3,
   "metadata": {},
   "outputs": [
    {
     "name": "stdout",
     "output_type": "stream",
     "text": [
      "Passed sanity check: built 'expr' is the same as the stored Expression.\n"
     ]
    }
   ],
   "source": [
    "# check that the built expression is the same as the stored expression\n",
    "%check_expr"
   ]
  },
  {
   "cell_type": "code",
   "execution_count": 4,
   "metadata": {},
   "outputs": [
    {
     "data": {
      "text/html": [
       "<table><tr><th>&nbsp;</th><th>core type</th><th>sub-expressions</th><th>expression</th></tr>\n",
       "<tr><td>0</td><td>Operation</td><td>operator:&nbsp;1<br>operands:&nbsp;2<br></td><td><a class=\"ProveItLink\" href=\"expr.ipynb\"><img src=\"data:image/png;base64,iVBORw0KGgoAAAANSUhEUgAAAHoAAAAVBAMAAAB71edYAAAAMFBMVEX///8yMjKqqqrMzMzu7u4i\n",
       "IiJmZmaYmJhEREQQEBC6urp2dnaIiIhUVFTc3NwAAAD87Fq/AAAAAXRSTlMAQObYZgAAAe9JREFU\n",
       "OMuVlMFLG0EUxr/sjq4mceuhKnhx/QuyJ2kQcT2k9CCoSLyIFPFoC/FSkF5CEXuToOSSQ0kPgQYK\n",
       "7kVBDxpBPQhiclKLSI5epDm1VBH6Znd2ksaJ1IHZfcy838yb974Z4DntQ8r/D+894RQuqccTbmDF\n",
       "LcDIq71GqEenBrKrTeNn1Nm7Yxto7yZzQU2/BPTNPNs/bRrfod6WZ9NAJENmSAlHKfDUOaA9KOgj\n",
       "4EDQhtswN96TnPKMTgeGw6ffK+g5YLPq0yxTn9L7HGF9pXOZZb6egv4FjFo+jU+AebX7hZs3AYxF\n",
       "4HXYVRyJaPOe6JKgt4FitaPGzTXp1EcF1VIKel7QLgwPGYT5G+1pfoi0dMoRHVbQek7S6OUDRXTV\n",
       "0MbFEc4mkyJrd8AbPYjc7EnyRsrQL20ZOTooQIziRRoTNl+4LPcgOuSUFRLcEFmjuGbh0T9LiIES\n",
       "xial1zovJadZE17xKxarinMXMWGhovHNz6XTZ96/06fg/Etv+WrZEmrBEkIpbSbiXQEpeioEui4O\n",
       "2bcVlVIttgFZMfPq5NWJl55eWzgV+Gfo7Z8finqDLZ7aAd3fMKdVAqVWW9zcHWk9Umq9Ge7/0ZFS\n",
       "qxuqbMvS8u73mNrrtgWdkJvFeYqv1V5mi5cJH62Gdy1q4y9tUHnLvTmQSgAAAABJRU5ErkJggg==\n",
       "\" style=\"display:inline;vertical-align:middle;\" /></a></td></tr>\n",
       "<tr><td>1</td><td>Literal</td><td></td><td><a class=\"ProveItLink\" href=\"../../../../logic/set_theory/membership/__pv_it/088cbc857536a28d4119ad9639a84270ccb0545d0/expr.ipynb\"><img src=\"data:image/png;base64,iVBORw0KGgoAAAANSUhEUgAAAAwAAAAMBAMAAACkW0HUAAAALVBMVEX///+qqqpmZmZUVFQQEBC6\n",
       "urpERETc3NyYmJjMzMwiIiIyMjKIiIju7u4AAACYsrA9AAAAAXRSTlMAQObYZgAAADxJREFUCNdj\n",
       "YOA9vWrVBgaG2b0MQMCeCyIZ2ArA1DUwyRCyahVIyWQI7xaEYm4AU7xLIdxqTQgtvGvVBgCkcQ7e\n",
       "geM/tQAAAABJRU5ErkJggg==\n",
       "\" style=\"display:inline;vertical-align:middle;\" /></a></td></tr>\n",
       "<tr><td>2</td><td>ExprTuple</td><td>3, 4</td><td><a class=\"ProveItLink\" href=\"../4ba5e363201d5fb4e8d8a0da37ec5ade138969ad0/expr.ipynb\"><img src=\"data:image/png;base64,iVBORw0KGgoAAAANSUhEUgAAAGgAAAAVBAMAAABYjraNAAAAMFBMVEX////c3NwiIiJERESqqqqY\n",
       "mJh2dnZmZmYQEBDu7u4yMjJUVFTMzMyIiIi6uroAAAAs73DqAAAAAXRSTlMAQObYZgAAAcNJREFU\n",
       "OMuNlD1Iw1AQx/9tk7apNXZ3UBwUVNDBIm6ZXZpJxSm62Ek3Bz9AxVGk6KAIUhFEXLQighSUgKCC\n",
       "Q4uLqKBVlyKIOvgBgngvL4lpTWkfvMvl7n7J5e5dgApWr8qvJwOWRc6WYxY0SztTADFHynlBQHXz\n",
       "zkxnEXRHW5q81IHAGqkTtLec/vBLThq5KYLitL05qRXwT5EaokcXZKfuA8K3C3QBXJuQqCGYcLjF\n",
       "BLOOu0AtwEuEQ9IUnpzugCdFctUF+gQyCofQgVGSnsPhacO9JGsu1SPI80FQ1oSGsEEyH/G98kYI\n",
       "qgs0ZkIaRCOsG/NkeUegnUOyCxSetyFsMkMeP0DVK7y8hothKz3PegNb1MjwgW6nBx9LLMOgmnYk\n",
       "dSM0lEj9f5M8ZxaCsmiEAc0CdVnEYFRe1BgkFVFpXvJYxPymPKJAUkFa0I3Q6DOJh0QhNMibO2g2\n",
       "F/1UP4RUocmPZD3dV+1dSY9dbsdIkeZgl/yBten2+BbLb8xw2vZ15NInSKM3ugVtIxixfPelRiNu\n",
       "a9YxEu0zoFYI+bOO0SgJ9f2dTTZPK7RrrfErPbn29Jyxqd1lvS877uhRHP+Iah2/b8d6evbYuksA\n",
       "AAAASUVORK5CYII=\n",
       "\" style=\"display:inline;vertical-align:middle;\" /></a></td></tr>\n",
       "<tr><td>3</td><td>Variable</td><td></td><td><a class=\"ProveItLink\" href=\"../../../../__pv_it/07527342713064c87612d00d8557c53d53d5324a0/expr.ipynb\"><img src=\"data:image/png;base64,iVBORw0KGgoAAAANSUhEUgAAAAsAAAAJBAMAAAAWSsseAAAAMFBMVEX///8yMjKqqqrMzMzu7u4i\n",
       "IiJmZmaYmJhEREQQEBC6urp2dnaIiIhUVFTc3NwAAAD87Fq/AAAAAXRSTlMAQObYZgAAAEhJREFU\n",
       "CNdjYOC7s2seAwPDygccHxgY+L4zsDUwMPB+YGA9wMDA38Dgb8DA8P4Agz6DA4O/AsNFJgMGxgKm\n",
       "MG6gyjunLE4xAAAZTBA5TB6DCwAAAABJRU5ErkJggg==\n",
       "\" style=\"display:inline;vertical-align:middle;\" /></a></td></tr>\n",
       "<tr><td>4</td><td>Operation</td><td>operator:&nbsp;5<br>operands:&nbsp;6<br></td><td><a class=\"ProveItLink\" href=\"../../../__pv_it/f53c16dfddf30d995333ded0545dcaa2e92165460/expr.ipynb\"><img src=\"data:image/png;base64,iVBORw0KGgoAAAANSUhEUgAAAEYAAAAVBAMAAAAJGoXuAAAAMFBMVEX////c3NyqqqqYmJhUVFR2\n",
       "dnbu7u66urrMzMxmZmZEREQQEBAyMjIiIiKIiIgAAAB7fvZ0AAAAAXRSTlMAQObYZgAAARJJREFU\n",
       "KM9jYMAOLA0gdGsgAy6QGwBjdSuASL475/euRFPzHojZ5r1sYGDgPABkctQXsMU/QVMTDcS8BWw3\n",
       "GBhYNwCZBs4MDExfsKh5y8DwBqKGOQGkcAoWNVcYGOoFwGo4GR2A/Dwsan4yMPQrgNVksgdg8RdQ\n",
       "DeNXoJoHYDWtTAZY1MyBqglgYP4AVMOORQ3HdrgahpMMDFkcMLsYz94FgQKgEu8GuF0MXIcZeBIc\n",
       "MM1h3wF1M9COq0C/B4DUsKEp8oH4XV8A7B6GxXVAojYBVU0sJAxjoeHM4vWMrWoZtrhQYNsBVcPQ\n",
       "ef+3O5bwYWCb+qQBpoYBexhCAWVqrOEscPrBng4fwNNhAc7EaqqASM8AyzhMtOBlY5MAAAAASUVO\n",
       "RK5CYII=\n",
       "\" style=\"display:inline;vertical-align:middle;\" /></a></td></tr>\n",
       "<tr><td>5</td><td>Literal</td><td></td><td><a class=\"ProveItLink\" href=\"../../../../logic/set_theory/subtraction/__pv_it/b31700f174a73058c701da19ea3d1b9009786dec0/expr.ipynb\"><img src=\"data:image/png;base64,iVBORw0KGgoAAAANSUhEUgAAAA4AAAACBAMAAACapPCZAAAAElBMVEX///+6uroiIiIyMjLc3NwA\n",
       "AAA6l9OrAAAAAXRSTlMAQObYZgAAABBJREFUCNdjcFYCAUUGKAAADR4BD8/TF5gAAAAASUVORK5C\n",
       "YII=\n",
       "\" style=\"display:inline;vertical-align:middle;\" /></a></td></tr>\n",
       "<tr><td>6</td><td>ExprTuple</td><td>7, 8</td><td><a class=\"ProveItLink\" href=\"../../../__pv_it/61e54a34dfd2a02e2ad56253ab2bd667c41567f50/expr.ipynb\"><img src=\"data:image/png;base64,iVBORw0KGgoAAAANSUhEUgAAAEMAAAAVBAMAAADvM06qAAAAMFBMVEX////c3NwiIiJERESqqqqY\n",
       "mJh2dnZmZmYQEBDu7u4yMjJUVFTMzMyIiIi6uroAAAAs73DqAAAAAXRSTlMAQObYZgAAAXVJREFU\n",
       "KM9tkrFLw0AUxr/apvZqErq7ODmo4FTELf+BmaqTxC66iE4dFKGIYylBB13ELCJOFoogDtJJCw4W\n",
       "F9EKxroJ0rqoIIjvvMv1qh68vHeXH/fe++4Bf9a0K/z5XHRiN3qJTS+K6g4wy4NLMmvkaH1C/ngg\n",
       "Y2s3NaA/ICOPQ8Bsh2ypKZEFsr6QjQHJIoWEWZTHPQYSnxpyDdxJJAekfBg+j1c1ZBRoZwSyAzxT\n",
       "vliF4l0NeQeuHIHEHRSAbdvTOiIk9kZIQyDJZeyTAAlXQ1Yk4sHo0DYRoEyIrSFmWSE44LIV8QVs\n",
       "md1E5klNJUKcUpgdjqT9SvcWuyTLpZuH8YNsAIbHESaZU9H0VEbUQomy5LIv9Gn5AsoL6fJSOiPA\n",
       "PLmB6i17msTekHoAh5Wgmm7x44vxjzMS8jVCWKFZk0g6RCrTLfUxQsSKHsDQlHX/QRbFMPQgM2rL\n",
       "54WRYVAdWWLq1BTWQ+qE1xH7NZjIOdrs3gPfDspoZopxsTIAAAAASUVORK5CYII=\n",
       "\" style=\"display:inline;vertical-align:middle;\" /></a></td></tr>\n",
       "<tr><td>7</td><td>Literal</td><td></td><td><a class=\"ProveItLink\" href=\"../../../sets/complex/__pv_it/c357845f93a5a2d9f649129d299e7ec28dda4b960/expr.ipynb\"><img src=\"data:image/png;base64,iVBORw0KGgoAAAANSUhEUgAAAA8AAAAOBAMAAAACpFvcAAAAMFBMVEX////c3NyqqqqYmJhUVFR2\n",
       "dnbu7u66urrMzMxmZmZEREQQEBAyMjIiIiKIiIgAAAB7fvZ0AAAAAXRSTlMAQObYZgAAAGVJREFU\n",
       "CNdjYGDgu3N+70oGBgaO+gK2+CdAhoEzAwPTFwYG5oQNQN4UBgZORgcgI4+BIZM9gAEMWpkMoAx2\n",
       "KCOLAyrFk+AAYTAHgBhsQLy4DkjUJjAwsHg9Y6taBpLsvP/bnYEBACkBFGQfBv8RAAAAAElFTkSu\n",
       "QmCC\n",
       "\" style=\"display:inline;vertical-align:middle;\" /></a></td></tr>\n",
       "<tr><td>8</td><td>Operation</td><td>operator:&nbsp;9<br>operands:&nbsp;10<br></td><td><a class=\"ProveItLink\" href=\"../../../__pv_it/155f9de08c11f74a8b2f21a18cf261503eec845b0/expr.ipynb\"><img src=\"data:image/png;base64,iVBORw0KGgoAAAANSUhEUgAAAB0AAAAVBAMAAABI7vhRAAAAMFBMVEX///9ERETc3NyqqqpUVFS6\n",
       "urrMzMwyMjIQEBCIiIh2dnYiIiLu7u5mZmaYmJgAAABJJ2g3AAAAAXRSTlMAQObYZgAAAKlJREFU\n",
       "GNNjYGDgu8cABmyrFEAUzy4GKGBrBpGcH4DE2ZnXgOR1EJ+rAUhsZTidwMCwAsbn3MDAWYDE53Zg\n",
       "YP2ExOe/wMD2GYmvv4CB7SeUz1sA4f9iYHgP4mcEwPnsFxgYUtoY4OoZxB8wMEQkQMz7B7RmAVCM\n",
       "pQBsH/MnqH6uDWD3gCi4fQybGU4gu5fh7Eo3BmQ+BGDl8yH4YP/z7ISHTyuY4luMFH4ALkg0pwDv\n",
       "EeQAAAAASUVORK5CYII=\n",
       "\" style=\"display:inline;vertical-align:middle;\" /></a></td></tr>\n",
       "<tr><td>9</td><td>Literal</td><td></td><td><a class=\"ProveItLink\" href=\"../../../../logic/set_theory/enumeration/__pv_it/07381ed5b23806e8d7914b78cb6667769e3708dd0/expr.ipynb\"><img src=\"data:image/png;base64,iVBORw0KGgoAAAANSUhEUgAAAB4AAAAOBAMAAADKyLEKAAAAMFBMVEX///8iIiIQEBCIiIjMzMzc\n",
       "3Nyqqqp2dnZEREQyMjK6urru7u5mZmZUVFSYmJgAAACI6eGPAAAAAXRSTlMAQObYZgAAALRJREFU\n",
       "CNdjYGDgu3Nm3wIGBJjHwN0PZW5yYGDgLWBgyITy8zcwMMQDxZyh/INAvD6BgcEFypcB4vjPDiBm\n",
       "TPFRrhs/LjMwMP//38rAwCbKEMPA9gEkE3fp0waG+AUMRxh4JkC01T9guPTOOICBEWgVH5C//wHD\n",
       "H5D4fqCz9oCMDGD4DLaegRXslLMMDMpAgxlOMmQxHDRgYG5gYLBk4D7KcIe7gOHC2rt9QCXsh40Z\n",
       "GCKMGQDRkC8N/Ph1XAAAAABJRU5ErkJggg==\n",
       "\" style=\"display:inline;vertical-align:middle;\" /></a></td></tr>\n",
       "<tr><td>10</td><td>ExprTuple</td><td>11</td><td><a class=\"ProveItLink\" href=\"../../../__pv_it/8cde6ffe899144c6848d9a2077064e6c1a6a14e60/expr.ipynb\"><img src=\"data:image/png;base64,iVBORw0KGgoAAAANSUhEUgAAABcAAAAVBAMAAABfzGiYAAAAMFBMVEX////c3NwiIiJERESqqqqY\n",
       "mJh2dnZmZmYQEBDu7u4yMjJUVFTMzMyIiIi6uroAAAAs73DqAAAAAXRSTlMAQObYZgAAALZJREFU\n",
       "GNNVjy0LwlAUhp+p010/xro/Qat9/0CTUYbFJJjWBINRxGhcMfgv1g0Oi6CGYbRo0iaeuy/whHN5\n",
       "4OG954W/saP0Hel1ADU/h9RCgT2UYtWFAFpineACQ7A20IGnwxYeYn7g6FJ28cF4C0RUZ+wy8KgE\n",
       "rAuwF3wLrfnSkAQMNCxJovuO1nokn47BDJgIlFy1QkffBZR/lSvrMZaTd5FzTC+HaVohGSUVaGfQ\n",
       "0L6R1b7BD+zrMIbuJsDxAAAAAElFTkSuQmCC\n",
       "\" style=\"display:inline;vertical-align:middle;\" /></a></td></tr>\n",
       "<tr><td>11</td><td>Literal</td><td></td><td><a class=\"ProveItLink\" href=\"../../../numeral/__pv_it/ec23fc7a1b4222a5f4948b495002b97d6fa18c3c0/expr.ipynb\"><img src=\"data:image/png;base64,iVBORw0KGgoAAAANSUhEUgAAAAoAAAAOBAMAAADkjZCYAAAALVBMVEX///8QEBCYmJh2dnaqqqrc\n",
       "3NxUVFQyMjK6uroiIiLMzMyIiIhmZmbu7u4AAAAZjyHdAAAAAXRSTlMAQObYZgAAAEpJREFUCNdj\n",
       "YLiz+xQDA8MMhpsLGLgnMHAXMHAmMHA8ZeA7wMD1hCHOgIHrNZh8jES+Bss+AqlkeQrSxTyBgWEK\n",
       "w8UFDAx3rLMYAMCjFldHSx/9AAAAAElFTkSuQmCC\n",
       "\" style=\"display:inline;vertical-align:middle;\" /></a></td></tr>\n",
       "</table>\n"
      ],
      "text/plain": [
       "0. a in (Complexes - {0})\n",
       "   core type: Operation\n",
       "   operator: 1\n",
       "   operands: 2\n",
       "1. in\n",
       "   core type: Literal\n",
       "   sub-expressions: \n",
       "2. (a , Complexes - {0})\n",
       "   core type: ExprTuple\n",
       "   sub-expressions: 3, 4\n",
       "3. a\n",
       "   core type: Variable\n",
       "   sub-expressions: \n",
       "4. Complexes - {0}\n",
       "   core type: Operation\n",
       "   operator: 5\n",
       "   operands: 6\n",
       "5. -\n",
       "   core type: Literal\n",
       "   sub-expressions: \n",
       "6. (Complexes , {0})\n",
       "   core type: ExprTuple\n",
       "   sub-expressions: 7, 8\n",
       "7. Complexes\n",
       "   core type: Literal\n",
       "   sub-expressions: \n",
       "8. {0}\n",
       "   core type: Operation\n",
       "   operator: 9\n",
       "   operands: 10\n",
       "9. Set\n",
       "   core type: Literal\n",
       "   sub-expressions: \n",
       "10. (0)\n",
       "    core type: ExprTuple\n",
       "    sub-expressions: 11\n",
       "11. 0\n",
       "    core type: Literal\n",
       "    sub-expressions: "
      ]
     },
     "execution_count": 4,
     "metadata": {},
     "output_type": "execute_result"
    }
   ],
   "source": [
    "# display the expression information\n",
    "expr.exprInfo()"
   ]
  },
  {
   "cell_type": "code",
   "execution_count": null,
   "metadata": {},
   "outputs": [],
   "source": []
  }
 ],
 "metadata": {
  "kernelspec": {
   "display_name": "Python 3",
   "language": "python",
   "name": "python3"
  }
 },
 "nbformat": 4,
 "nbformat_minor": 0
}
