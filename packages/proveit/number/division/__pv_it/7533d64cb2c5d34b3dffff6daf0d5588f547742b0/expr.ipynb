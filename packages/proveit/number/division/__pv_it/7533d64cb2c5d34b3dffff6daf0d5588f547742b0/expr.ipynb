{
 "cells": [
  {
   "cell_type": "markdown",
   "metadata": {},
   "source": [
    "Expression of type <a class=\"ProveItLink\" href=\"../../../../../../doc/html/api/proveit.ExprTuple.html\">ExprTuple</a>\n",
    "=======================\n",
    "# from context <a class=\"ProveItLink\" href=\"../../_context_.ipynb\">proveit.number.division</a>"
   ]
  },
  {
   "cell_type": "code",
   "execution_count": 1,
   "metadata": {},
   "outputs": [],
   "source": [
    "# import Expression classes needed to build the expression\n",
    "from proveit import ExprTuple\n",
    "from proveit._common_ import a, b, n\n",
    "from proveit.number import Exp"
   ]
  },
  {
   "cell_type": "code",
   "execution_count": 2,
   "metadata": {},
   "outputs": [
    {
     "data": {
      "text/html": [
       "<strong id=\"expr\">expr:</strong> <a class=\"ProveItLink\" href=\"expr.ipynb\"><img src=\"data:image/png;base64,iVBORw0KGgoAAAANSUhEUgAAAEAAAAAVBAMAAAAEBPWpAAAAMFBMVEX////c3NwiIiJERESqqqqY\n",
       "mJh2dnZmZmYQEBDu7u4yMjJUVFTMzMyIiIi6uroAAAAs73DqAAAAAXRSTlMAQObYZgAAAWFJREFU\n",
       "KM9tkT1Iw0AUx//W5qOVplnFQbcuDhl0d3ZpNsFBuoiDIE4V/IAq4lS0i4tF6uIgglRwEgIBR0Fv\n",
       "UlAIRZcgilFapFDEF3PXS8QH7/J/j1/u3gcgbMa7a/YDKBtvi1wa7PeTmetgXAL773bKhdIieR1l\n",
       "Bg6P8BHJ+hYw/IC8CaxTeML/GWJGhctTcgc+nVkgx3hWd7XlViTb5FWsGFRKCXqNA6PQb9yoqi69\n",
       "GKD6SpVV8CLKeoY2Hyl1jCALZZv0BMphgc7SpmwAWefRFnoBx3T65mAQAxoWekJPY5cu6ECzYkCx\n",
       "hh2hfXxTgwFSLAasAl9C34ZA3kLDjQEFGB0JbFODDEXUJNCG1pVPTFJRU7hM8ytCrge9JIBZ6gNZ\n",
       "O11QozjzSccF1iDbfArH4F15HNijDdXv+2PAGXQTcTOSIY1aKSUySiKCyuS6/wUOyEcSGZYEzsNN\n",
       "/cnFLefiBzGjVd3iLPuRAAAAAElFTkSuQmCC\n",
       "\" style=\"display:inline;vertical-align:middle;\" /></a><br>"
      ],
      "text/plain": [
       "expr: (a^{n} , b^{n})"
      ]
     },
     "execution_count": 2,
     "metadata": {},
     "output_type": "execute_result"
    }
   ],
   "source": [
    "# build up the expression from sub-expressions\n",
    "expr = ExprTuple(Exp(a, n), Exp(b, n))"
   ]
  },
  {
   "cell_type": "code",
   "execution_count": 3,
   "metadata": {},
   "outputs": [
    {
     "name": "stdout",
     "output_type": "stream",
     "text": [
      "Passed sanity check: built 'expr' is the same as the stored Expression.\n"
     ]
    }
   ],
   "source": [
    "# check that the built expression is the same as the stored expression\n",
    "%check_expr"
   ]
  },
  {
   "cell_type": "code",
   "execution_count": 4,
   "metadata": {},
   "outputs": [
    {
     "data": {
      "text/html": [
       "<table><tr><th>&nbsp;</th><th>core type</th><th>sub-expressions</th><th>expression</th></tr>\n",
       "<tr><td>0</td><td>ExprTuple</td><td>1, 2</td><td><a class=\"ProveItLink\" href=\"expr.ipynb\"><img src=\"data:image/png;base64,iVBORw0KGgoAAAANSUhEUgAAAEAAAAAVBAMAAAAEBPWpAAAAMFBMVEX////c3NwiIiJERESqqqqY\n",
       "mJh2dnZmZmYQEBDu7u4yMjJUVFTMzMyIiIi6uroAAAAs73DqAAAAAXRSTlMAQObYZgAAAWFJREFU\n",
       "KM9tkT1Iw0AUx//W5qOVplnFQbcuDhl0d3ZpNsFBuoiDIE4V/IAq4lS0i4tF6uIgglRwEgIBR0Fv\n",
       "UlAIRZcgilFapFDEF3PXS8QH7/J/j1/u3gcgbMa7a/YDKBtvi1wa7PeTmetgXAL773bKhdIieR1l\n",
       "Bg6P8BHJ+hYw/IC8CaxTeML/GWJGhctTcgc+nVkgx3hWd7XlViTb5FWsGFRKCXqNA6PQb9yoqi69\n",
       "GKD6SpVV8CLKeoY2Hyl1jCALZZv0BMphgc7SpmwAWefRFnoBx3T65mAQAxoWekJPY5cu6ECzYkCx\n",
       "hh2hfXxTgwFSLAasAl9C34ZA3kLDjQEFGB0JbFODDEXUJNCG1pVPTFJRU7hM8ytCrge9JIBZ6gNZ\n",
       "O11QozjzSccF1iDbfArH4F15HNijDdXv+2PAGXQTcTOSIY1aKSUySiKCyuS6/wUOyEcSGZYEzsNN\n",
       "/cnFLefiBzGjVd3iLPuRAAAAAElFTkSuQmCC\n",
       "\" style=\"display:inline;vertical-align:middle;\" /></a></td></tr>\n",
       "<tr><td>1</td><td>Operation</td><td>operator:&nbsp;4<br>operands:&nbsp;3<br></td><td><a class=\"ProveItLink\" href=\"../e15624c3412a79dc8f65a1df9a84735db3cff93e0/expr.ipynb\"><img src=\"data:image/png;base64,iVBORw0KGgoAAAANSUhEUgAAABUAAAAQBAMAAAAL9CkWAAAAMFBMVEX///8yMjKqqqrMzMzu7u4i\n",
       "IiJmZmaYmJhEREQQEBC6urp2dnaIiIhUVFTc3NwAAAD87Fq/AAAAAXRSTlMAQObYZgAAAHZJREFU\n",
       "CNdjYACDslOnL0BYDCxV3xmCoWw+HwGGf1A2A+8BrgkwNqcBW8ICKPs9A6eVAZS9goFtO0jfnV3z\n",
       "YEpXPuD4ADPuOwNbA8y0DwysB6Bs/gYGf5gJ7w8w6DM4QNj+CgwXmaASjAVMYdwwc+6csjgFYQIA\n",
       "mCEbscnr7SgAAAAASUVORK5CYII=\n",
       "\" style=\"display:inline;vertical-align:middle;\" /></a></td></tr>\n",
       "<tr><td>2</td><td>Operation</td><td>operator:&nbsp;4<br>operands:&nbsp;5<br></td><td><a class=\"ProveItLink\" href=\"../b05c1993000b9df06cf598b5bcbe9fd0140323060/expr.ipynb\"><img src=\"data:image/png;base64,iVBORw0KGgoAAAANSUhEUgAAABMAAAAQBAMAAAAG6llRAAAAMFBMVEX////c3NxmZmbMzMxERESY\n",
       "mJiIiIh2dna6urqqqqoyMjIiIiIQEBBUVFTu7u4AAAAiO1wTAAAAAXRSTlMAQObYZgAAAIFJREFU\n",
       "CNdjYACBoIz0C2AGA1/EV4bNQOrOBgbGZwsYPgKFuIBSvAkcB4BM/gkMDDwGTAoNDAz9DxgY5Bl4\n",
       "LAwYGKqBMi0MTKVAam3aVQaoQV8Y+A0gTM5/DDwFECbTAgZ+BQiTW4GhPwDCBBqr/wDKNGA4DjWB\n",
       "dwLTBZhh11ShLADArBrJBFdO5gAAAABJRU5ErkJggg==\n",
       "\" style=\"display:inline;vertical-align:middle;\" /></a></td></tr>\n",
       "<tr><td>3</td><td>ExprTuple</td><td>6, 8</td><td><a class=\"ProveItLink\" href=\"../bd3c70e03bd2616f3327b8803767d14bff8591d80/expr.ipynb\"><img src=\"data:image/png;base64,iVBORw0KGgoAAAANSUhEUgAAAC0AAAAVBAMAAAAgHXppAAAAMFBMVEX////c3NwiIiJERESqqqqY\n",
       "mJh2dnZmZmYQEBDu7u4yMjJUVFTMzMyIiIi6uroAAAAs73DqAAAAAXRSTlMAQObYZgAAAQZJREFU\n",
       "GNN1kTFLw1AUhb/a1ybPWFtwFKng4FoH9/4DMznqgw5OipOzgrNk7JYsDv6FghBwdMngppToVAQh\n",
       "Dg6CiPf5LFES33Av9+NwOPc++O8tZxW0Z8ttVeqlUq5qPBLoZDV8F/yoho/huS5Lc8iJtMb10ZkD\n",
       "L1tr9wbax1zKNOs1C8fNJNMfoBIuRP6GN3C75BvoT+mnSA0KFlwqLVC9w1JheXdAnDofgUHyzc+h\n",
       "n7GDi+sldMPI+mxDPGSiUm25b9iPDK2EA1gM1WabeF14P2ekUpvzycaf3kwZv9rEsHInyhy/N1/y\n",
       "8c8dWmY+hCU//H3nkmuJyurP0CnlgfVuVD/gAb4Aics+ryjLGdQAAAAASUVORK5CYII=\n",
       "\" style=\"display:inline;vertical-align:middle;\" /></a></td></tr>\n",
       "<tr><td>4</td><td>Literal</td><td></td><td><a class=\"ProveItLink\" href=\"../../../exponentiation/__pv_it/deb2bf23cbccdd6e6791e1b35b5b9794ce12dbd50/expr.ipynb\"><img src=\"data:image/png;base64,iVBORw0KGgoAAAANSUhEUgAAACgAAAASBAMAAADbMYGVAAAAMFBMVEX///8QEBAiIiKYmJjc3Nzu\n",
       "7u7MzMx2dnZmZma6urpERESqqqoyMjJUVFSIiIgAAAAoDOMTAAAAAXRSTlMAQObYZgAAAOBJREFU\n",
       "GNNjYGB4+//u3Tt/GNAASGAXmhjnPyDBgSbI/g1IxKEJ8nxgYGdgQRPkX8BgDKRY6q7s62OYvmze\n",
       "2wAgb/7ZO1+AVDiDkYEQQ0HTBr4DQF59AgOIKmB4z7CNbcNZBu6vQN55kEACQwDDLQYGVobfDHwg\n",
       "fb8YGBxYHwAZciD3fWXg+gB1JjvQcJZvQIXsCgz8F6DO9GBgMOH7wPCUgaeBwd4B7EwGNjUG7s9c\n",
       "AiwPgO5jkWRgiF3/9+5dfQUG1nWl5Y+B7pv+1gE9bBhqGLCAE1jEWH9jEbT5A3IwAC4sP/1L6Qlu\n",
       "AAAAAElFTkSuQmCC\n",
       "\" style=\"display:inline;vertical-align:middle;\" /></a></td></tr>\n",
       "<tr><td>5</td><td>ExprTuple</td><td>7, 8</td><td><a class=\"ProveItLink\" href=\"../38c2091770e835ec7a5a7b90d3b2d46cd7e6e0930/expr.ipynb\"><img src=\"data:image/png;base64,iVBORw0KGgoAAAANSUhEUgAAACsAAAAVBAMAAAAtAwouAAAAMFBMVEX////c3NwiIiJERESqqqqY\n",
       "mJh2dnZmZmYQEBDu7u4yMjJUVFTMzMyIiIi6uroAAAAs73DqAAAAAXRSTlMAQObYZgAAAQtJREFU\n",
       "GNN1kbFKxEAQhj/1zmSNZw4sRRR8Agv7PEIqS120sBLSaKuFWEpKO7exEJtrBBGE9DZX2KkQrUSQ\n",
       "U6wORJzZHByJuMXM7MfszPyz8M+Z6zfJhpo7zPVyDQeFmAuY6dXTHXSkRpzU8TqEOQzyOj6FN3Fb\n",
       "jZ5TCfviLp+uqvv76uKDhemMczBfxIXH9qZvvqHlOBE7JLReQrmC+RF/iNjAEWeKjTDJYfZD8WTG\n",
       "IPVFhEXO4yM/9kE1or5Lcy2yhvY7xiiWFpu5pe3YgSgJepzpXpZKtluFDvginW73RNmn4FeYv5cd\n",
       "lYTdkbTnmvi2HcXpGO9Wi21gIzOyUMWdcXKkdSf+fNoj/AJawz+LUlnCTAAAAABJRU5ErkJggg==\n",
       "\" style=\"display:inline;vertical-align:middle;\" /></a></td></tr>\n",
       "<tr><td>6</td><td>Variable</td><td></td><td><a class=\"ProveItLink\" href=\"../../../../__pv_it/07527342713064c87612d00d8557c53d53d5324a0/expr.ipynb\"><img src=\"data:image/png;base64,iVBORw0KGgoAAAANSUhEUgAAAAsAAAAJBAMAAAAWSsseAAAAMFBMVEX///8yMjKqqqrMzMzu7u4i\n",
       "IiJmZmaYmJhEREQQEBC6urp2dnaIiIhUVFTc3NwAAAD87Fq/AAAAAXRSTlMAQObYZgAAAEhJREFU\n",
       "CNdjYOC7s2seAwPDygccHxgY+L4zsDUwMPB+YGA9wMDA38Dgb8DA8P4Agz6DA4O/AsNFJgMGxgKm\n",
       "MG6gyjunLE4xAAAZTBA5TB6DCwAAAABJRU5ErkJggg==\n",
       "\" style=\"display:inline;vertical-align:middle;\" /></a></td></tr>\n",
       "<tr><td>7</td><td>Variable</td><td></td><td><a class=\"ProveItLink\" href=\"../../../../__pv_it/6840a4fa6c106149dc16a131294d0c5e44f1b0480/expr.ipynb\"><img src=\"data:image/png;base64,iVBORw0KGgoAAAANSUhEUgAAAAkAAAAOBAMAAAAPuiubAAAALVBMVEX///9mZmbMzMxERESYmJiI\n",
       "iIh2dna6urqqqqoyMjIiIiIQEBBUVFTu7u4AAAD9S1JeAAAAAXRSTlMAQObYZgAAAE1JREFUCNdj\n",
       "4D29gAEIOA+ASL4GEFl3AURmgQiGOaFHGBh4HzPwKTBwvGXgTmBgnMDAJ8DAJcBQ5wBSLncBJLWN\n",
       "gYGngRFoBO9REQYGAGrcDtUkVqASAAAAAElFTkSuQmCC\n",
       "\" style=\"display:inline;vertical-align:middle;\" /></a></td></tr>\n",
       "<tr><td>8</td><td>Variable</td><td></td><td><a class=\"ProveItLink\" href=\"../../../../__pv_it/39dbcd3ca0390345b51c6ef7785756419e2c14390/expr.ipynb\"><img src=\"data:image/png;base64,iVBORw0KGgoAAAANSUhEUgAAAAwAAAAJBAMAAAD0ltBnAAAAMFBMVEX///8QEBCYmJhmZmaqqqoi\n",
       "IiLMzMzu7u4yMjJ2dnZUVFTc3NxERESIiIi6uroAAABbPXqjAAAAAXRSTlMAQObYZgAAAERJREFU\n",
       "CNdj4Luz++5KBgZOrl6G+gSGd6wHGOofMBQAsX8BAwivYGBgsGBg+MTOwCDJwPSdk4H7HwPnATcG\n",
       "PgEG7rMOAGtQEUwHZIDZAAAAAElFTkSuQmCC\n",
       "\" style=\"display:inline;vertical-align:middle;\" /></a></td></tr>\n",
       "</table>\n"
      ],
      "text/plain": [
       "0. (a^{n} , b^{n})\n",
       "   core type: ExprTuple\n",
       "   sub-expressions: 1, 2\n",
       "1. a^{n}\n",
       "   core type: Operation\n",
       "   operator: 4\n",
       "   operands: 3\n",
       "2. b^{n}\n",
       "   core type: Operation\n",
       "   operator: 4\n",
       "   operands: 5\n",
       "3. (a , n)\n",
       "   core type: ExprTuple\n",
       "   sub-expressions: 6, 8\n",
       "4. Exp\n",
       "   core type: Literal\n",
       "   sub-expressions: \n",
       "5. (b , n)\n",
       "   core type: ExprTuple\n",
       "   sub-expressions: 7, 8\n",
       "6. a\n",
       "   core type: Variable\n",
       "   sub-expressions: \n",
       "7. b\n",
       "   core type: Variable\n",
       "   sub-expressions: \n",
       "8. n\n",
       "   core type: Variable\n",
       "   sub-expressions: "
      ]
     },
     "execution_count": 4,
     "metadata": {},
     "output_type": "execute_result"
    }
   ],
   "source": [
    "# display the expression information\n",
    "expr.exprInfo()"
   ]
  },
  {
   "cell_type": "code",
   "execution_count": null,
   "metadata": {},
   "outputs": [],
   "source": []
  }
 ],
 "metadata": {
  "kernelspec": {
   "display_name": "Python 3",
   "language": "python",
   "name": "python3"
  }
 },
 "nbformat": 4,
 "nbformat_minor": 0
}
