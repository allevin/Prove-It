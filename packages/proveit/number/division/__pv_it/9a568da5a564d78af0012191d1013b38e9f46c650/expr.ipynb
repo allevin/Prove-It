{
 "cells": [
  {
   "cell_type": "markdown",
   "metadata": {},
   "source": [
    "Expression of type <a class=\"ProveItLink\" href=\"../../../../../../doc/html/api/proveit.number.Mult.html\">Mult</a>\n",
    "=======================\n",
    "# from context <a class=\"ProveItLink\" href=\"../../_context_.ipynb\">proveit.number.division</a>"
   ]
  },
  {
   "cell_type": "code",
   "execution_count": 1,
   "metadata": {},
   "outputs": [],
   "source": [
    "# import Expression classes needed to build the expression\n",
    "from proveit._common_ import x, y, z\n",
    "from proveit.number import Mult, frac, one"
   ]
  },
  {
   "cell_type": "code",
   "execution_count": 2,
   "metadata": {},
   "outputs": [
    {
     "data": {
      "text/html": [
       "<strong id=\"expr\">expr:</strong> <a class=\"ProveItLink\" href=\"expr.ipynb\"><img src=\"data:image/png;base64,iVBORw0KGgoAAAANSUhEUgAAACsAAAAuBAMAAABDvv1AAAAAMFBMVEX///8iIiKqqqrMzMy6urrc\n",
       "3Nx2dnaYmJgyMjIQEBBmZmaIiIhUVFTu7u5EREQAAABBt2tDAAAAAXRSTlMAQObYZgAAAPJJREFU\n",
       "OMtjYGBgeMuADdz7i030zhmswgzcFAizZh/VXo0pfI2hsGAipnACw34GZUzhCwznsFs5G6sw62cG\n",
       "XkzhUu4PDHsxhJm+801g3QBkcK38sRwhzPs6N207w5ACd5E5/0HgA8gjH0Fcfjgf5r95DMMX8GYl\n",
       "MMRfQBJgmekQzcDAxvIBmLyQQFz1qgcMDEZcAgzvUFPbHaDmC5wbGH6jJqsDIFL/AvNnFGEvMLmC\n",
       "gXsCsihTApjqYuA7gCysxsAA4q9h8C9AEmVuX17hAMqWu9cHIAlzMdRPgrASsfiSR4B3EhZhxgS+\n",
       "BCzCTLuXYBEFANWUTxf/51/lAAAAAElFTkSuQmCC\n",
       "\" style=\"display:inline;vertical-align:middle;\" /></a><br>"
      ],
      "text/plain": [
       "expr: (1 / y) * (x / z)"
      ]
     },
     "execution_count": 2,
     "metadata": {},
     "output_type": "execute_result"
    }
   ],
   "source": [
    "# build up the expression from sub-expressions\n",
    "expr = Mult(frac(one, y), frac(x, z))"
   ]
  },
  {
   "cell_type": "code",
   "execution_count": 3,
   "metadata": {},
   "outputs": [
    {
     "name": "stdout",
     "output_type": "stream",
     "text": [
      "Passed sanity check: built 'expr' is the same as the stored Expression.\n"
     ]
    }
   ],
   "source": [
    "# check that the built expression is the same as the stored expression\n",
    "%check_expr"
   ]
  },
  {
   "cell_type": "code",
   "execution_count": 4,
   "metadata": {},
   "outputs": [
    {
     "data": {
      "text/html": [
       "<table><tr><th>&nbsp;</th><th>core type</th><th>sub-expressions</th><th>expression</th></tr>\n",
       "<tr><td>0</td><td>Operation</td><td>operator:&nbsp;1<br>operands:&nbsp;2<br></td><td><a class=\"ProveItLink\" href=\"expr.ipynb\"><img src=\"data:image/png;base64,iVBORw0KGgoAAAANSUhEUgAAACsAAAAuBAMAAABDvv1AAAAAMFBMVEX///8iIiKqqqrMzMy6urrc\n",
       "3Nx2dnaYmJgyMjIQEBBmZmaIiIhUVFTu7u5EREQAAABBt2tDAAAAAXRSTlMAQObYZgAAAPJJREFU\n",
       "OMtjYGBgeMuADdz7i030zhmswgzcFAizZh/VXo0pfI2hsGAipnACw34GZUzhCwznsFs5G6sw62cG\n",
       "XkzhUu4PDHsxhJm+801g3QBkcK38sRwhzPs6N207w5ACd5E5/0HgA8gjH0Fcfjgf5r95DMMX8GYl\n",
       "MMRfQBJgmekQzcDAxvIBmLyQQFz1qgcMDEZcAgzvUFPbHaDmC5wbGH6jJqsDIFL/AvNnFGEvMLmC\n",
       "gXsCsihTApjqYuA7gCysxsAA4q9h8C9AEmVuX17hAMqWu9cHIAlzMdRPgrASsfiSR4B3EhZhxgS+\n",
       "BCzCTLuXYBEFANWUTxf/51/lAAAAAElFTkSuQmCC\n",
       "\" style=\"display:inline;vertical-align:middle;\" /></a></td></tr>\n",
       "<tr><td>1</td><td>Literal</td><td></td><td><a class=\"ProveItLink\" href=\"../../../multiplication/__pv_it/21fd2079611555ecce512d99547a00d551e6b86b0/expr.ipynb\"><img src=\"data:image/png;base64,iVBORw0KGgoAAAANSUhEUgAAAAMAAAADBAMAAACkBqiMAAAAElBMVEX///9EREQQEBAiIiLu7u4A\n",
       "AABGBidwAAAAAXRSTlMAQObYZgAAABFJREFUCNdjYHFgcDVgcBIAAASWAQx4jI0xAAAAAElFTkSu\n",
       "QmCC\n",
       "\" style=\"display:inline;vertical-align:middle;\" /></a></td></tr>\n",
       "<tr><td>2</td><td>ExprTuple</td><td>3, 4</td><td><a class=\"ProveItLink\" href=\"../c5d8c28052ab67ae9307d9efc9f09a27745a98b40/expr.ipynb\"><img src=\"data:image/png;base64,iVBORw0KGgoAAAANSUhEUgAAAEEAAAAyBAMAAADxb6sZAAAAMFBMVEX///9ERESIiIiYmJju7u4y\n",
       "MjLMzMwQEBDc3NwiIiKqqqpUVFRmZma6urp2dnYAAACcPvpdAAAAAXRSTlMAQObYZgAAAgpJREFU\n",
       "OMuFlb9LI1EQx7+b3SSbXBKj/4CLXp8gCHdV1vpAhbPTwtrGaKF3Ihr9B8y1V4mgYnPG7uCKhBOx\n",
       "8Fc6GyGL2AgiQUW8a3Tfj928ZNbNFPO+u3zY92bezCzgWqaOIPti+/I8EEB6wlOZCvOaTZBhT+wx\n",
       "Z/RT4kNNrOYCA/5UKYElsUQdvuQCiF3xbt9+l4iKbVbQSZjXv7f+8mhemNefCDGKz/nvXE0xl6gQ\n",
       "wkEOO1wV2MtGnRA2DqTqsVx3DNCTznsZKbtuOYAwn2FwkXSPGvtPiU+RJj5yZTwAkSdCJB+1omkJ\n",
       "/cO9sKKQp6tTeUkYfTf3g1JXgXgWYZYrYcwJJfY30ciHErMWCpuhxFgNuelQoieLi1IoER9HUGkp\n",
       "liizgEOJoke8MmvKvZWHaLHbN7oT7i4X7Se16UnbozX+0WjbM2aslkjGCu19ny6RrHfcnE5vruP2\n",
       "dXr7HRVk0QryqvAdq/qVbNw52PCTkV6srws153dDJt10W9GztaHTrN8NsqNmUmX0KpmVU05/8bvS\n",
       "jlt4UJquonRlY1rOmdhzi7jyUspykRBz5giRVlRJL0l8OuhNOUu0ik/8AsTDpDIJTpT8x74eDtdb\n",
       "Uwq73I8MtOoghYKYk1pNnZa4pRm9FDGb33hYxhIlfsp1m0XkaLTFUzVFJAfO6Ce2fdXX7e+BVPAf\n",
       "aISf8w1prIqzjM5ongAAAABJRU5ErkJggg==\n",
       "\" style=\"display:inline;vertical-align:middle;\" /></a></td></tr>\n",
       "<tr><td>3</td><td>Operation</td><td>operator:&nbsp;6<br>operands:&nbsp;5<br></td><td><a class=\"ProveItLink\" href=\"../1aa03a21bd251707d2546c3a00bea26a1977bda70/expr.ipynb\"><img src=\"data:image/png;base64,iVBORw0KGgoAAAANSUhEUgAAAAsAAAAuBAMAAAAM4/6QAAAAMFBMVEX///8iIiKqqqrMzMy6urrc\n",
       "3Nx2dnaYmJgyMjIQEBBmZmaIiIhUVFTu7u5EREQAAABBt2tDAAAAAXRSTlMAQObYZgAAAHZJREFU\n",
       "GNNjYGBgeMsAAvf+gsg7Z8AUAzc1KK6VP5YzkA3+g8AHBuoA3qwEhvgLDGwsHxj2MzAYcQkwvGNg\n",
       "uMC5geE3UFL/AvNnILWCgXsCkOpi4DsApNYw+BeAgmX3+gCwCYlAzCPAOwlIMSbwJQAppt1LgCQA\n",
       "/K0rV8xie+MAAAAASUVORK5CYII=\n",
       "\" style=\"display:inline;vertical-align:middle;\" /></a></td></tr>\n",
       "<tr><td>4</td><td>Operation</td><td>operator:&nbsp;6<br>operands:&nbsp;7<br></td><td><a class=\"ProveItLink\" href=\"../3e83eabd4b8e22addc83a4179ef856eeb4514d760/expr.ipynb\"><img src=\"data:image/png;base64,iVBORw0KGgoAAAANSUhEUgAAAAwAAAAlBAMAAACE+BUqAAAAMFBMVEX///8yMjK6urpERETMzMwQ\n",
       "EBAiIiKYmJju7u5mZmaqqqpUVFSIiIh2dnbc3NwAAADpJKkdAAAAAXRSTlMAQObYZgAAAHhJREFU\n",
       "GNNjYHh7+tXJAwwcF9jTWRMYeBl4PnA5MHAwcBswgADrATD13oGhgYH9wXkGngaG9QWmDG8YGJrP\n",
       "9t4pYCAb/AcDBioBplAFoJMYHtfMBDm7gaG7ASTKtwEsqQkmuS6AqbUMDEBRFvHphQoMDJwM9VEM\n",
       "DAAp1SHfhP1vVwAAAABJRU5ErkJggg==\n",
       "\" style=\"display:inline;vertical-align:middle;\" /></a></td></tr>\n",
       "<tr><td>5</td><td>ExprTuple</td><td>8, 9</td><td><a class=\"ProveItLink\" href=\"../3d555cf2a31f3b15d08e7eea6aa20227257226a60/expr.ipynb\"><img src=\"data:image/png;base64,iVBORw0KGgoAAAANSUhEUgAAACsAAAAVBAMAAAAtAwouAAAAMFBMVEX////c3NwiIiJERESqqqqY\n",
       "mJh2dnZmZmYQEBDu7u4yMjJUVFTMzMyIiIi6uroAAAAs73DqAAAAAXRSTlMAQObYZgAAAPBJREFU\n",
       "GNNjYMAB+C6gi8SBiNNAzDwBWZj9AJBYycDAaY8izLCAgYH3AgPn7v2owmEMDBwgkfuowjMYGF4x\n",
       "YAozOzCUIQtzpicwyE9gYCtgWIoszMb3geE+AwPLAoY+ZOEj7AoMxkCvNDD8QxaewHGB4S8DA88H\n",
       "VGEG/wk8f8DCLSjCVQy8DWBDTGHCYJnlDMwbGBhYFzCkQ4U5P4EY1QzvAxhADnwE5JT3Lw/g7BcA\n",
       "sibfrQdSXA8YOARgAQxhJEE8z5oAFWYFYm4FTpATciEBCxdmSmAGquIEBiyDNFQYFEksd+tAekDG\n",
       "MWJE2h0GBgAyxEFZCeHJUAAAAABJRU5ErkJggg==\n",
       "\" style=\"display:inline;vertical-align:middle;\" /></a></td></tr>\n",
       "<tr><td>6</td><td>Literal</td><td></td><td><a class=\"ProveItLink\" href=\"../089f5ca61fe425d4f6ef7efa2138c1a2fa47180c0/expr.ipynb\"><img src=\"data:image/png;base64,iVBORw0KGgoAAAANSUhEUgAAAA4AAAAMBAMAAACgrpHpAAAAIVBMVEX///9ERERmZmbc3NwQEBAi\n",
       "IiKqqqrMzMx2dnaIiIgAAACeyUhQAAAAAXRSTlMAQObYZgAAACJJREFUCNdjYGBgmMEABuyrEiCM\n",
       "EAMG3EA1FAQCsUlhMwcALk0GeoeEfOIAAAAASUVORK5CYII=\n",
       "\" style=\"display:inline;vertical-align:middle;\" /></a></td></tr>\n",
       "<tr><td>7</td><td>ExprTuple</td><td>10, 11</td><td><a class=\"ProveItLink\" href=\"../0b2afcdb3e359c436e077617831aa49d50dd87000/expr.ipynb\"><img src=\"data:image/png;base64,iVBORw0KGgoAAAANSUhEUgAAACwAAAAVBAMAAADP3xFXAAAAMFBMVEX////c3NwiIiJERESqqqqY\n",
       "mJh2dnZmZmYQEBDu7u4yMjJUVFTMzMyIiIi6uroAAAAs73DqAAAAAXRSTlMAQObYZgAAAOpJREFU\n",
       "GNNjYMAB+C6gi7A+ABKnMVXWAPFKTGEuBgbeC5jCrAkMHBMwhTkbGF5hc4YJQxmQFLstch1q1os+\n",
       "RiArnWEpUE8CqyqHAliU0fR6MZDyYuhjYGBj4P3AcgBiKgPnTpAehn8gNrcB3FhpEHEeJMzAwAF3\n",
       "JV8BRLgFRMkfYIC60w1iMYMp0PUC9xl4J4AlWBIYuIFUFNAtDP4BFgyyDJyfgPxT4aHrGEAOfMTA\n",
       "MPnatNwABs5+AQaGAtYfDkDhdQwcAnDbBJA8DwwWWADBHcl2ASlgEcKzYO4HAUQIbwQFA0aA8x5g\n",
       "AACpBTHTmw8wGwAAAABJRU5ErkJggg==\n",
       "\" style=\"display:inline;vertical-align:middle;\" /></a></td></tr>\n",
       "<tr><td>8</td><td>Literal</td><td></td><td><a class=\"ProveItLink\" href=\"../../../numeral/__pv_it/9be8badea4c35b9724062cecc501d17a3158d1d20/expr.ipynb\"><img src=\"data:image/png;base64,iVBORw0KGgoAAAANSUhEUgAAAAgAAAAPBAMAAAArJJMAAAAAHlBMVEX///+YmJgyMjIQEBBmZmaI\n",
       "iIhUVFTu7u5EREQAAAAw+MI4AAAAAXRSTlMAQObYZgAAACFJREFUCNdjYGBoZ2BgqJjOwFCWBiQY\n",
       "WEklWJwnOTKAAACjEQo8HvEr3AAAAABJRU5ErkJggg==\n",
       "\" style=\"display:inline;vertical-align:middle;\" /></a></td></tr>\n",
       "<tr><td>9</td><td>Variable</td><td></td><td><a class=\"ProveItLink\" href=\"../../../../__pv_it/f8b9edf8e16034727f0aad55bb83e392c3db40d40/expr.ipynb\"><img src=\"data:image/png;base64,iVBORw0KGgoAAAANSUhEUgAAAAsAAAANBAMAAACN24kIAAAAMFBMVEX///+YmJhUVFQyMjIQEBBE\n",
       "REQiIiKqqqrMzMyIiIi6urrc3NxmZmZ2dnbu7u4AAADXeCicAAAAAXRSTlMAQObYZgAAAFhJREFU\n",
       "CNdj4LtzgWH/AwZerg8M8xkY2nkSGEIZGB6wTGD4ycDAUP+A4weQOszA6QCkbBhYFYDUIYb1AkDq\n",
       "6czzGxhA4BoQMyXwuQMptgusF4AU+8xTQBIAUqMVoSp/SLMAAAAASUVORK5CYII=\n",
       "\" style=\"display:inline;vertical-align:middle;\" /></a></td></tr>\n",
       "<tr><td>10</td><td>Variable</td><td></td><td><a class=\"ProveItLink\" href=\"../../../../__pv_it/530be409e3083890784cf1d7b28c9e67e90af9360/expr.ipynb\"><img src=\"data:image/png;base64,iVBORw0KGgoAAAANSUhEUgAAAAsAAAAJBAMAAAAWSsseAAAAKlBMVEX///9ERETMzMwQEBAiIiKY\n",
       "mJju7u5mZmaqqqpUVFSIiIh2dnbc3NwAAAA/vyDhAAAAAXRSTlMAQObYZgAAAENJREFUCNdjYDi9\n",
       "8sTyBQxsG1hdmR0YuBm4LnAoMLAxcAowgADzAjB1VoEhgYH1wFoGrgSG3gBhhlMMDImrs3cFMAAA\n",
       "t0YN+iTRa+sAAAAASUVORK5CYII=\n",
       "\" style=\"display:inline;vertical-align:middle;\" /></a></td></tr>\n",
       "<tr><td>11</td><td>Variable</td><td></td><td><a class=\"ProveItLink\" href=\"../../../../__pv_it/251502494639118b4892de8e9d720a5fcce840e10/expr.ipynb\"><img src=\"data:image/png;base64,iVBORw0KGgoAAAANSUhEUgAAAAoAAAAJBAMAAAD5iKAgAAAALVBMVEX///8yMjLMzMx2dnaqqqpU\n",
       "VFTu7u5mZmaYmJhERESIiIjc3NwQEBC6uroAAAB+iRisAAAAAXRSTlMAQObYZgAAADlJREFUCNdj\n",
       "YOA9c2EXA8POrvIJDAwJDKkJDAwM3AFAguE6iGAxAJHODAwBDEwSFY0XGNgZ+o4wAABKtAsIcBKm\n",
       "agAAAABJRU5ErkJggg==\n",
       "\" style=\"display:inline;vertical-align:middle;\" /></a></td></tr>\n",
       "</table>\n"
      ],
      "text/plain": [
       "0. (1 / y) * (x / z)\n",
       "   core type: Operation\n",
       "   operator: 1\n",
       "   operands: 2\n",
       "1. *\n",
       "   core type: Literal\n",
       "   sub-expressions: \n",
       "2. (1 / y , x / z)\n",
       "   core type: ExprTuple\n",
       "   sub-expressions: 3, 4\n",
       "3. 1 / y\n",
       "   core type: Operation\n",
       "   operator: 6\n",
       "   operands: 5\n",
       "4. x / z\n",
       "   core type: Operation\n",
       "   operator: 6\n",
       "   operands: 7\n",
       "5. (1 , y)\n",
       "   core type: ExprTuple\n",
       "   sub-expressions: 8, 9\n",
       "6. /\n",
       "   core type: Literal\n",
       "   sub-expressions: \n",
       "7. (x , z)\n",
       "   core type: ExprTuple\n",
       "   sub-expressions: 10, 11\n",
       "8. 1\n",
       "   core type: Literal\n",
       "   sub-expressions: \n",
       "9. y\n",
       "   core type: Variable\n",
       "   sub-expressions: \n",
       "10. x\n",
       "    core type: Variable\n",
       "    sub-expressions: \n",
       "11. z\n",
       "    core type: Variable\n",
       "    sub-expressions: "
      ]
     },
     "execution_count": 4,
     "metadata": {},
     "output_type": "execute_result"
    }
   ],
   "source": [
    "# display the expression information\n",
    "expr.exprInfo()"
   ]
  },
  {
   "cell_type": "code",
   "execution_count": null,
   "metadata": {},
   "outputs": [],
   "source": []
  }
 ],
 "metadata": {
  "kernelspec": {
   "display_name": "Python 3",
   "language": "python",
   "name": "python3"
  }
 },
 "nbformat": 4,
 "nbformat_minor": 0
}
