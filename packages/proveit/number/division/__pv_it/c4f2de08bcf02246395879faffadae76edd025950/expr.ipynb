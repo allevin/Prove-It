{
 "cells": [
  {
   "cell_type": "markdown",
   "metadata": {},
   "source": [
    "Expression of type <a class=\"ProveItLink\" href=\"../../../../../../doc/html/api/proveit.number.Mult.html\">Mult</a>\n",
    "=======================\n",
    "# from context <a class=\"ProveItLink\" href=\"../../_context_.ipynb\">proveit.number.division</a>"
   ]
  },
  {
   "cell_type": "code",
   "execution_count": 1,
   "metadata": {},
   "outputs": [],
   "source": [
    "# import Expression classes needed to build the expression\n",
    "from proveit._common_ import w, z\n",
    "from proveit.number import Mult"
   ]
  },
  {
   "cell_type": "code",
   "execution_count": 2,
   "metadata": {},
   "outputs": [
    {
     "data": {
      "text/html": [
       "<strong id=\"expr\">expr:</strong> <a class=\"ProveItLink\" href=\"expr.ipynb\"><img src=\"data:image/png;base64,iVBORw0KGgoAAAANSUhEUgAAACkAAAAJBAMAAABd4hjzAAAAMFBMVEX///8iIiIyMjLMzMx2dnaq\n",
       "qqpUVFTu7u5mZmaYmJhERESIiIjc3NwQEBC6uroAAABuzmuqAAAAAXRSTlMAQObYZgAAAJFJREFU\n",
       "CNdjYOC7++A0AxSwezgwTGKYe4CB4dTsjgUwUQ6+DwzLGOIDGBgKGMoKQMpAhCmHAMNPBi4DIJMn\n",
       "AaSsXgBIFPBuYP7DwALivwBrrgUb876A+wJYlNWBAQGaGLgSGI4CGSEMDAlw0WUMjA4MGxgYmDU7\n",
       "Jz2Ai3ox2DbwTAA6hmH+VYQJHN7bl+xkYAAAgZogpvZH6TMAAAAASUVORK5CYII=\n",
       "\" style=\"display:inline;vertical-align:middle;\" /></a><br>"
      ],
      "text/plain": [
       "expr: z * w"
      ]
     },
     "execution_count": 2,
     "metadata": {},
     "output_type": "execute_result"
    }
   ],
   "source": [
    "# build up the expression from sub-expressions\n",
    "expr = Mult(z, w)"
   ]
  },
  {
   "cell_type": "code",
   "execution_count": 3,
   "metadata": {},
   "outputs": [
    {
     "name": "stdout",
     "output_type": "stream",
     "text": [
      "Passed sanity check: built 'expr' is the same as the stored Expression.\n"
     ]
    }
   ],
   "source": [
    "# check that the built expression is the same as the stored expression\n",
    "%check_expr"
   ]
  },
  {
   "cell_type": "code",
   "execution_count": 4,
   "metadata": {},
   "outputs": [
    {
     "data": {
      "text/html": [
       "<table><tr><th>&nbsp;</th><th>core type</th><th>sub-expressions</th><th>expression</th></tr>\n",
       "<tr><td>0</td><td>Operation</td><td>operator:&nbsp;1<br>operands:&nbsp;2<br></td><td><a class=\"ProveItLink\" href=\"expr.ipynb\"><img src=\"data:image/png;base64,iVBORw0KGgoAAAANSUhEUgAAACkAAAAJBAMAAABd4hjzAAAAMFBMVEX///8iIiIyMjLMzMx2dnaq\n",
       "qqpUVFTu7u5mZmaYmJhERESIiIjc3NwQEBC6uroAAABuzmuqAAAAAXRSTlMAQObYZgAAAJFJREFU\n",
       "CNdjYOC7++A0AxSwezgwTGKYe4CB4dTsjgUwUQ6+DwzLGOIDGBgKGMoKQMpAhCmHAMNPBi4DIJMn\n",
       "AaSsXgBIFPBuYP7DwALivwBrrgUb876A+wJYlNWBAQGaGLgSGI4CGSEMDAlw0WUMjA4MGxgYmDU7\n",
       "Jz2Ai3ox2DbwTAA6hmH+VYQJHN7bl+xkYAAAgZogpvZH6TMAAAAASUVORK5CYII=\n",
       "\" style=\"display:inline;vertical-align:middle;\" /></a></td></tr>\n",
       "<tr><td>1</td><td>Literal</td><td></td><td><a class=\"ProveItLink\" href=\"../../../multiplication/__pv_it/21fd2079611555ecce512d99547a00d551e6b86b0/expr.ipynb\"><img src=\"data:image/png;base64,iVBORw0KGgoAAAANSUhEUgAAAAMAAAADBAMAAACkBqiMAAAAElBMVEX///9EREQQEBAiIiLu7u4A\n",
       "AABGBidwAAAAAXRSTlMAQObYZgAAABFJREFUCNdjYHFgcDVgcBIAAASWAQx4jI0xAAAAAElFTkSu\n",
       "QmCC\n",
       "\" style=\"display:inline;vertical-align:middle;\" /></a></td></tr>\n",
       "<tr><td>2</td><td>ExprTuple</td><td>3, 4</td><td><a class=\"ProveItLink\" href=\"../0beb68ad3dbda1511c257a619469982da83cb7ae0/expr.ipynb\"><img src=\"data:image/png;base64,iVBORw0KGgoAAAANSUhEUgAAAC8AAAAVBAMAAAAk6KpUAAAAMFBMVEX////c3NwiIiJERESqqqqY\n",
       "mJh2dnZmZmYQEBDu7u4yMjJUVFTMzMyIiIi6uroAAAAs73DqAAAAAXRSTlMAQObYZgAAAQdJREFU\n",
       "KM9jYMAJ+C5gisWBiNNYFLMfABIrsRmzgIGB9wI2iTAGBo4J2CRmMDC8wuoiZgeGMpDDOh7Igvmc\n",
       "6QkMUQwRAgxsBQxLgXzh2HIDiGv4PjBYM/g7MLAsYOgD8icwzIbYdIRdgeErA/MBBr4Ghn8gAcYN\n",
       "EKMncFzg+cjAxsDA8wEi8Rxm6fsJvA1QiRYglyUBJlHFwLyBQYQBZJQpkOvGwLCBgRMkYc3AlMAA\n",
       "9DLrAoZ0oL6lpVEPGOYrACWSGU4UMAYwgJz7COhIhniggTM+gtybe9PsKpDmesDAIQAz/yFqkLDC\n",
       "LQ5AkshFDnYkCU5gsDNIQzm8SBq4QeYzYomQOwwMALvmOCxvkcx3AAAAAElFTkSuQmCC\n",
       "\" style=\"display:inline;vertical-align:middle;\" /></a></td></tr>\n",
       "<tr><td>3</td><td>Variable</td><td></td><td><a class=\"ProveItLink\" href=\"../../../../__pv_it/251502494639118b4892de8e9d720a5fcce840e10/expr.ipynb\"><img src=\"data:image/png;base64,iVBORw0KGgoAAAANSUhEUgAAAAoAAAAJBAMAAAD5iKAgAAAALVBMVEX///8yMjLMzMx2dnaqqqpU\n",
       "VFTu7u5mZmaYmJhERESIiIjc3NwQEBC6uroAAAB+iRisAAAAAXRSTlMAQObYZgAAADlJREFUCNdj\n",
       "YOA9c2EXA8POrvIJDAwJDKkJDAwM3AFAguE6iGAxAJHODAwBDEwSFY0XGNgZ+o4wAABKtAsIcBKm\n",
       "agAAAABJRU5ErkJggg==\n",
       "\" style=\"display:inline;vertical-align:middle;\" /></a></td></tr>\n",
       "<tr><td>4</td><td>Variable</td><td></td><td><a class=\"ProveItLink\" href=\"../../../../__pv_it/75e452494c4801e076f090988fd69716611d31190/expr.ipynb\"><img src=\"data:image/png;base64,iVBORw0KGgoAAAANSUhEUgAAAA8AAAAJBAMAAAAfoWtkAAAAMFBMVEX///+IiIgiIiLMzMyqqqpU\n",
       "VFRERES6urrc3NwQEBAyMjKYmJhmZmZ2dnbu7u4AAADdI688AAAAAXRSTlMAQObYZgAAAFRJREFU\n",
       "CNdj4LtzgWEXw84GBh72DwypDP4ODCY8Cgy/GdgMGB5wCjD/YOBlYGCof8A4Acw4xcAWwNACZKQy\n",
       "MF1gEAAyrjFYHuDYAGTwXJTLlWZgAAAtGRIpnQ418wAAAABJRU5ErkJggg==\n",
       "\" style=\"display:inline;vertical-align:middle;\" /></a></td></tr>\n",
       "</table>\n"
      ],
      "text/plain": [
       "0. z * w\n",
       "   core type: Operation\n",
       "   operator: 1\n",
       "   operands: 2\n",
       "1. *\n",
       "   core type: Literal\n",
       "   sub-expressions: \n",
       "2. (z , w)\n",
       "   core type: ExprTuple\n",
       "   sub-expressions: 3, 4\n",
       "3. z\n",
       "   core type: Variable\n",
       "   sub-expressions: \n",
       "4. w\n",
       "   core type: Variable\n",
       "   sub-expressions: "
      ]
     },
     "execution_count": 4,
     "metadata": {},
     "output_type": "execute_result"
    }
   ],
   "source": [
    "# display the expression information\n",
    "expr.exprInfo()"
   ]
  },
  {
   "cell_type": "code",
   "execution_count": null,
   "metadata": {},
   "outputs": [],
   "source": []
  }
 ],
 "metadata": {
  "kernelspec": {
   "display_name": "Python 3",
   "language": "python",
   "name": "python3"
  }
 },
 "nbformat": 4,
 "nbformat_minor": 0
}
