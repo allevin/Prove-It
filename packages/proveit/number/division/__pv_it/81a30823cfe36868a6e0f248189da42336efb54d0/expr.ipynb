{
 "cells": [
  {
   "cell_type": "markdown",
   "metadata": {},
   "source": [
    "Expression of type <a class=\"ProveItLink\" href=\"../../../../../../doc/html/api/proveit.number.Div.html\">Div</a>\n",
    "=======================\n",
    "# from context <a class=\"ProveItLink\" href=\"../../_context_.ipynb\">proveit.number.division</a>"
   ]
  },
  {
   "cell_type": "code",
   "execution_count": 1,
   "metadata": {},
   "outputs": [],
   "source": [
    "# import Expression classes needed to build the expression\n",
    "from proveit._common_ import w, x, y, z\n",
    "from proveit.number import Add, Neg, frac"
   ]
  },
  {
   "cell_type": "code",
   "execution_count": 2,
   "metadata": {},
   "outputs": [
    {
     "data": {
      "text/html": [
       "<strong id=\"expr\">expr:</strong> <a class=\"ProveItLink\" href=\"expr.ipynb\"><img src=\"data:image/png;base64,iVBORw0KGgoAAAANSUhEUgAAADUAAAApBAMAAABn3HyjAAAAMFBMVEX///+IiIgiIiLMzMyqqqpU\n",
       "VFRERES6urrc3NwQEBAyMjKYmJhmZmZ2dnbu7u4AAADdI688AAAAAXRSTlMAQObYZgAAASdJREFU\n",
       "OMtj4LtzgWEXw84GBmTAcTHC8SADAw/7B4ZUBn8HFLm3DJs2TGJgMOFRYPjNwGaAIneBQZ7BmYHh\n",
       "AacA8w8GXpBBi5RAoADIfMAQBlZT/4BxAlgOBUwEk6cY2AIYWtCkOD4z8AGpVAamCwwCqFI7GD8w\n",
       "yAHpawyWBzg2oEix/GabwAFSznNRLlcaVRtf4r270gzDH/zHCT4wjAJc4O1ZBo5/qELsMwsaIQm8\n",
       "noERLezaNp5JANHMDocY2BJQ5R4wPH0ATnDA9M0PSoxd4OygDknXAdCU+o/B3gDNDTVQmmcBgySa\n",
       "FMsFKIPrADBPoAJfBgaIoTwB7L9RpZhXn95VAE39Mj9Q5XgY9k+BsXkVcIVLEMNLB1xyugy5OMPT\n",
       "UaYAuwQACPBcSylaGbYAAAAASUVORK5CYII=\n",
       "\" style=\"display:inline;vertical-align:middle;\" /></a><br>"
      ],
      "text/plain": [
       "expr: (w - x) / (y - z)"
      ]
     },
     "execution_count": 2,
     "metadata": {},
     "output_type": "execute_result"
    }
   ],
   "source": [
    "# build up the expression from sub-expressions\n",
    "expr = frac(Add(w, Neg(x)), Add(y, Neg(z)))"
   ]
  },
  {
   "cell_type": "code",
   "execution_count": 3,
   "metadata": {},
   "outputs": [
    {
     "name": "stdout",
     "output_type": "stream",
     "text": [
      "Passed sanity check: built 'expr' is the same as the stored Expression.\n"
     ]
    }
   ],
   "source": [
    "# check that the built expression is the same as the stored expression\n",
    "%check_expr"
   ]
  },
  {
   "cell_type": "code",
   "execution_count": 4,
   "metadata": {},
   "outputs": [
    {
     "data": {
      "text/html": [
       "<table><tr><th>&nbsp;</th><th>core type</th><th>sub-expressions</th><th>expression</th></tr>\n",
       "<tr><td>0</td><td>Operation</td><td>operator:&nbsp;1<br>operands:&nbsp;2<br></td><td><a class=\"ProveItLink\" href=\"expr.ipynb\"><img src=\"data:image/png;base64,iVBORw0KGgoAAAANSUhEUgAAADUAAAApBAMAAABn3HyjAAAAMFBMVEX///+IiIgiIiLMzMyqqqpU\n",
       "VFRERES6urrc3NwQEBAyMjKYmJhmZmZ2dnbu7u4AAADdI688AAAAAXRSTlMAQObYZgAAASdJREFU\n",
       "OMtj4LtzgWEXw84GBmTAcTHC8SADAw/7B4ZUBn8HFLm3DJs2TGJgMOFRYPjNwGaAIneBQZ7BmYHh\n",
       "AacA8w8GXpBBi5RAoADIfMAQBlZT/4BxAlgOBUwEk6cY2AIYWtCkOD4z8AGpVAamCwwCqFI7GD8w\n",
       "yAHpawyWBzg2oEix/GabwAFSznNRLlcaVRtf4r270gzDH/zHCT4wjAJc4O1ZBo5/qELsMwsaIQm8\n",
       "noERLezaNp5JANHMDocY2BJQ5R4wPH0ATnDA9M0PSoxd4OygDknXAdCU+o/B3gDNDTVQmmcBgySa\n",
       "FMsFKIPrADBPoAJfBgaIoTwB7L9RpZhXn95VAE39Mj9Q5XgY9k+BsXkVcIVLEMNLB1xyugy5OMPT\n",
       "UaYAuwQACPBcSylaGbYAAAAASUVORK5CYII=\n",
       "\" style=\"display:inline;vertical-align:middle;\" /></a></td></tr>\n",
       "<tr><td>1</td><td>Literal</td><td></td><td><a class=\"ProveItLink\" href=\"../089f5ca61fe425d4f6ef7efa2138c1a2fa47180c0/expr.ipynb\"><img src=\"data:image/png;base64,iVBORw0KGgoAAAANSUhEUgAAAA4AAAAMBAMAAACgrpHpAAAAIVBMVEX///9ERERmZmbc3NwQEBAi\n",
       "IiKqqqrMzMx2dnaIiIgAAACeyUhQAAAAAXRSTlMAQObYZgAAACJJREFUCNdjYGBgmMEABuyrEiCM\n",
       "EAMG3EA1FAQCsUlhMwcALk0GeoeEfOIAAAAASUVORK5CYII=\n",
       "\" style=\"display:inline;vertical-align:middle;\" /></a></td></tr>\n",
       "<tr><td>2</td><td>ExprTuple</td><td>3, 4</td><td><a class=\"ProveItLink\" href=\"../0bc80409b269b01fa7befb1f24f9022477e10b7d0/expr.ipynb\"><img src=\"data:image/png;base64,iVBORw0KGgoAAAANSUhEUgAAAHkAAAAVBAMAAACQ4lxbAAAAMFBMVEX////c3NwiIiJERESqqqqY\n",
       "mJh2dnZmZmYQEBDu7u4yMjJUVFTMzMyIiIi6uroAAAAs73DqAAAAAXRSTlMAQObYZgAAAZBJREFU\n",
       "OMulU79Lw1AQ/tL0V2xTOrg5WPwXpC5F6OSktAr+wEGCgsWhEBAcKmqQrpaAIN0MgoiLKE5uHRxE\n",
       "lywiBYvVSVyaDgWHKt5L6/BCW+F5kPcu+e67d7n7HvA/i9mCxBW2PIgeG6rQci5ctQWotjB7AQib\n",
       "wuwy8CHebzmNLUDJaVjGUpyDpPzVzI7rMXjUU+F7SbIR1HFKzYs5SCGT5vAjzGX3XS9I8AtPlpJP\n",
       "m4DfQgm4DSXQglzhAjRiTLseg8d5tgLlhpRi4Bsww3a0iSDLeTLGrE6uietuKMH44kFghJ6ow9ho\n",
       "mKrhsjk7+HUyZrTtFajeYRdpK0C+xLAnQGpTga4VQMl5m3JTGEjSloJPg0c1s6qDaod/xpJz5tcQ\n",
       "AQIWcvSyhjtdyvJ4SzZoKMcJ8rfR4EHcL85fgE3sjek9X5149HR1cmOdPpWb5B/W9ngtQA980nyH\n",
       "6gjHB+rp1V1X+yk1oA1kU8mRhFLsieX/vKHE9mlyzxMUqzv3vqayBtZ2e2IR9s+S6AV/Bn4A5WZc\n",
       "HO1lxjcAAAAASUVORK5CYII=\n",
       "\" style=\"display:inline;vertical-align:middle;\" /></a></td></tr>\n",
       "<tr><td>3</td><td>Operation</td><td>operator:&nbsp;6<br>operands:&nbsp;5<br></td><td><a class=\"ProveItLink\" href=\"../ee825cb5390d2c36d982029db446dc6c5e1acd430/expr.ipynb\"><img src=\"data:image/png;base64,iVBORw0KGgoAAAANSUhEUgAAADQAAAAJBAMAAACPshKrAAAAMFBMVEX///+IiIgiIiLMzMyqqqpU\n",
       "VFRERES6urrc3NwQEBAyMjKYmJhmZmZ2dnbu7u4AAADdI688AAAAAXRSTlMAQObYZgAAAJRJREFU\n",
       "CNdj4LtzgWEXw84GBmTAcTHC8SADD/sHhlQGfwcUqbcMmzZMYjDhUWD4zcBmgCJ1gUGewZnhAacA\n",
       "8w8GXpApi5RAoADIfMAQBlJR/4BxAlgKBUwEEacY2AIYWtBkOD4z8DEA3cB0gUEAVWYH4wcGOQaG\n",
       "awyWBzg2oMiw/GabwAFUzXNRLlcaVRNf4r270gwA1N0ivCZAOBQAAAAASUVORK5CYII=\n",
       "\" style=\"display:inline;vertical-align:middle;\" /></a></td></tr>\n",
       "<tr><td>4</td><td>Operation</td><td>operator:&nbsp;6<br>operands:&nbsp;7<br></td><td><a class=\"ProveItLink\" href=\"../f4ec7c1ade67b2c77409a68289e0f3c610a551450/expr.ipynb\"><img src=\"data:image/png;base64,iVBORw0KGgoAAAANSUhEUgAAAC8AAAANBAMAAADLbSqiAAAAMFBMVEX///+YmJhUVFQyMjIQEBBE\n",
       "REQiIiKqqqrMzMyIiIi6urrc3NxmZmZ2dnbu7u4AAADXeCicAAAAAXRSTlMAQObYZgAAAJBJREFU\n",
       "GNNj4LtzgWH/AwYUsMSLewIDL9cHhvmo4tyBc44yMLTzJDCEokrwMfDpMTA8YJnA8BOkzCwNBBaA\n",
       "pTaBiPoHHD9QdTBwHQCRhxk4HdAkasGkDQOrAqo4+wUGJiB1iGG9AKpEs4ygFZB6OvP8BlSJA4xf\n",
       "CsCMawzYAFMCnztWCbYLrBewSrDPPIVVHAA5WiHxRIOrzwAAAABJRU5ErkJggg==\n",
       "\" style=\"display:inline;vertical-align:middle;\" /></a></td></tr>\n",
       "<tr><td>5</td><td>ExprTuple</td><td>8, 9</td><td><a class=\"ProveItLink\" href=\"../5a13f933b38542cd39396f5d7530c321d50aa6e50/expr.ipynb\"><img src=\"data:image/png;base64,iVBORw0KGgoAAAANSUhEUgAAAEEAAAAVBAMAAADrxp6XAAAAMFBMVEX////c3NwiIiJERESqqqqY\n",
       "mJh2dnZmZmYQEBDu7u4yMjJUVFTMzMyIiIi6uroAAAAs73DqAAAAAXRSTlMAQObYZgAAASBJREFU\n",
       "KM9jYCAM+C7gkYwDEafxaWc/ACRW4rVhAQMD7wW8KsIYGDgm4FUxg4HhFX5/MDswlDEwcKYnMEQx\n",
       "RAigSDHmbvStZWBgK2BYCnQw3wcGawZ/BxQV0xiCApoYGFgWMPQxMBxhV2D4ysB8AEVFAsN9Bh9g\n",
       "aDUw/GNgmMBxgecjAxtERkoJBPQYJjBsBnF5PoBUMLyfwNsAU4EAvVAVLUCqioF5A4MImgLGPwyc\n",
       "YFtMgRxrBqYEBmDIIQdNIO8HhpsMDKwLGNKBvGSGEwWMAQycnxAKWL4yNzBeAPv2ESh+cm+aXQWG\n",
       "Sz8iSDhtM9OAQgxcDxg4kAKKTwBbqLMmILismKGeixr7mCo4gbHPII3gYyYEbpC9jPgSyB0GBgAW\n",
       "uDwrt9AP6QAAAABJRU5ErkJggg==\n",
       "\" style=\"display:inline;vertical-align:middle;\" /></a></td></tr>\n",
       "<tr><td>6</td><td>Literal</td><td></td><td><a class=\"ProveItLink\" href=\"../../../addition/__pv_it/3e6688136fa3c7aefbebe51301b7c3ebf0b69c440/expr.ipynb\"><img src=\"data:image/png;base64,iVBORw0KGgoAAAANSUhEUgAAAA4AAAAOBAMAAADtZjDiAAAAJFBMVEX///+6urpUVFQQEBAiIiIy\n",
       "MjJmZmaIiIiqqqrc3Nzu7u4AAACgHpL+AAAAAXRSTlMAQObYZgAAAB5JREFUCNdjYGBgWMkAAe2k\n",
       "0Kmhoc6hoUGk6BMHYgAHOwjcado9fwAAAABJRU5ErkJggg==\n",
       "\" style=\"display:inline;vertical-align:middle;\" /></a></td></tr>\n",
       "<tr><td>7</td><td>ExprTuple</td><td>10, 11</td><td><a class=\"ProveItLink\" href=\"../a5d44f67b2f521573318bbb77ce364910fc27e6d0/expr.ipynb\"><img src=\"data:image/png;base64,iVBORw0KGgoAAAANSUhEUgAAADsAAAAVBAMAAAAKrYvGAAAAMFBMVEX////c3NwiIiJERESqqqqY\n",
       "mJh2dnZmZmYQEBDu7u4yMjJUVFTMzMyIiIi6uroAAAAs73DqAAAAAXRSTlMAQObYZgAAARFJREFU\n",
       "KM9jYCAA+C7gkokDEadxamQ/ACRW4jZ4AQMD7wXc0mEMDBwTcEvPYGB4hcfVzA4MZQwMnOkJDPKo\n",
       "hvB1PJBlYGArYFgKJPk+MNxH1SccW27AwMCygKGPgeEIuwKDMar0BIbZQOP4Ghj+AdkcFxj+gkUZ\n",
       "FymBwAMgawOQy/MBJM3gP4HnD5qrnjNApFuAVBUDbwOqLEsC2IENDKZAajkD8wYGTmRpNwYGoOms\n",
       "CxjSgZxqhvcBDPMVELI8S0ujHoA99gjIm3y3XoBhxkekyGCIB1nK9YCBQwDETwLih9gClTWBgVuB\n",
       "E6Q2AEM6FxyhTAnMCdikOYERyiDNwHK3DkjzYmjmBtnLiDPC7zAwAACBEjsKlTZSfQAAAABJRU5E\n",
       "rkJggg==\n",
       "\" style=\"display:inline;vertical-align:middle;\" /></a></td></tr>\n",
       "<tr><td>8</td><td>Variable</td><td></td><td><a class=\"ProveItLink\" href=\"../../../../__pv_it/75e452494c4801e076f090988fd69716611d31190/expr.ipynb\"><img src=\"data:image/png;base64,iVBORw0KGgoAAAANSUhEUgAAAA8AAAAJBAMAAAAfoWtkAAAAMFBMVEX///+IiIgiIiLMzMyqqqpU\n",
       "VFRERES6urrc3NwQEBAyMjKYmJhmZmZ2dnbu7u4AAADdI688AAAAAXRSTlMAQObYZgAAAFRJREFU\n",
       "CNdj4LtzgWEXw84GBh72DwypDP4ODCY8Cgy/GdgMGB5wCjD/YOBlYGCof8A4Acw4xcAWwNACZKQy\n",
       "MF1gEAAyrjFYHuDYAGTwXJTLlWZgAAAtGRIpnQ418wAAAABJRU5ErkJggg==\n",
       "\" style=\"display:inline;vertical-align:middle;\" /></a></td></tr>\n",
       "<tr><td>9</td><td>Operation</td><td>operator:&nbsp;13<br>operand:&nbsp;12<br></td><td><a class=\"ProveItLink\" href=\"../bc0d3a083efbdf58db6fee6fe0b6956df13fad870/expr.ipynb\"><img src=\"data:image/png;base64,iVBORw0KGgoAAAANSUhEUgAAABoAAAAJBAMAAADeJiHIAAAAMFBMVEX///9ERETMzMwQEBCYmJju\n",
       "7u5mZmaqqqpUVFSIiIh2dna6uroiIiIyMjLc3NwAAABBuwp8AAAAAXRSTlMAQObYZgAAAEpJREFU\n",
       "CNdjYIACvpV9lZkwDkMUg4+DDZy3gGE+QxHD2zMgcJohgKGRARlYInP4PjGwwjl+nB8YpsI47F8Y\n",
       "DfgmwHiskktXTWEAAJw3EmXq6rg8AAAAAElFTkSuQmCC\n",
       "\" style=\"display:inline;vertical-align:middle;\" /></a></td></tr>\n",
       "<tr><td>10</td><td>Variable</td><td></td><td><a class=\"ProveItLink\" href=\"../../../../__pv_it/f8b9edf8e16034727f0aad55bb83e392c3db40d40/expr.ipynb\"><img src=\"data:image/png;base64,iVBORw0KGgoAAAANSUhEUgAAAAsAAAANBAMAAACN24kIAAAAMFBMVEX///+YmJhUVFQyMjIQEBBE\n",
       "REQiIiKqqqrMzMyIiIi6urrc3NxmZmZ2dnbu7u4AAADXeCicAAAAAXRSTlMAQObYZgAAAFhJREFU\n",
       "CNdj4LtzgWH/AwZerg8M8xkY2nkSGEIZGB6wTGD4ycDAUP+A4weQOszA6QCkbBhYFYDUIYb1AkDq\n",
       "6czzGxhA4BoQMyXwuQMptgusF4AU+8xTQBIAUqMVoSp/SLMAAAAASUVORK5CYII=\n",
       "\" style=\"display:inline;vertical-align:middle;\" /></a></td></tr>\n",
       "<tr><td>11</td><td>Operation</td><td>operator:&nbsp;13<br>operand:&nbsp;14<br></td><td><a class=\"ProveItLink\" href=\"../f1932ed5aeabb54726211e229d8f46868e903fbb0/expr.ipynb\"><img src=\"data:image/png;base64,iVBORw0KGgoAAAANSUhEUgAAABkAAAAJBAMAAAA1EZrLAAAAMFBMVEX////MzMx2dnaqqqpUVFTu\n",
       "7u5mZmaYmJhERESIiIgQEBC6uroiIiIyMjLc3NwAAACpiCGDAAAAAXRSTlMAQObYZgAAAEBJREFU\n",
       "CNdjYICBXav5JsA5fO3TMuAcBlYGVlcGhrdnQOA0kP+EAQlwJyDzjJA5zAoMLAiebFn5bQQvgf2X\n",
       "AQMA9vEOuOe+uSQAAAAASUVORK5CYII=\n",
       "\" style=\"display:inline;vertical-align:middle;\" /></a></td></tr>\n",
       "<tr><td>12</td><td>Variable</td><td></td><td><a class=\"ProveItLink\" href=\"../../../../__pv_it/530be409e3083890784cf1d7b28c9e67e90af9360/expr.ipynb\"><img src=\"data:image/png;base64,iVBORw0KGgoAAAANSUhEUgAAAAsAAAAJBAMAAAAWSsseAAAAKlBMVEX///9ERETMzMwQEBAiIiKY\n",
       "mJju7u5mZmaqqqpUVFSIiIh2dnbc3NwAAAA/vyDhAAAAAXRSTlMAQObYZgAAAENJREFUCNdjYDi9\n",
       "8sTyBQxsG1hdmR0YuBm4LnAoMLAxcAowgADzAjB1VoEhgYH1wFoGrgSG3gBhhlMMDImrs3cFMAAA\n",
       "t0YN+iTRa+sAAAAASUVORK5CYII=\n",
       "\" style=\"display:inline;vertical-align:middle;\" /></a></td></tr>\n",
       "<tr><td>13</td><td>Literal</td><td></td><td><a class=\"ProveItLink\" href=\"../../../negation/__pv_it/3fc7a08bb9735faa20ef8e175f6ea95511acc9c70/expr.ipynb\"><img src=\"data:image/png;base64,iVBORw0KGgoAAAANSUhEUgAAAA4AAAACBAMAAACapPCZAAAAElBMVEX///+6uroiIiIyMjLc3NwA\n",
       "AAA6l9OrAAAAAXRSTlMAQObYZgAAABBJREFUCNdjcFYCAUUGKAAADR4BD8/TF5gAAAAASUVORK5C\n",
       "YII=\n",
       "\" style=\"display:inline;vertical-align:middle;\" /></a></td></tr>\n",
       "<tr><td>14</td><td>Variable</td><td></td><td><a class=\"ProveItLink\" href=\"../../../../__pv_it/251502494639118b4892de8e9d720a5fcce840e10/expr.ipynb\"><img src=\"data:image/png;base64,iVBORw0KGgoAAAANSUhEUgAAAAoAAAAJBAMAAAD5iKAgAAAALVBMVEX///8yMjLMzMx2dnaqqqpU\n",
       "VFTu7u5mZmaYmJhERESIiIjc3NwQEBC6uroAAAB+iRisAAAAAXRSTlMAQObYZgAAADlJREFUCNdj\n",
       "YOA9c2EXA8POrvIJDAwJDKkJDAwM3AFAguE6iGAxAJHODAwBDEwSFY0XGNgZ+o4wAABKtAsIcBKm\n",
       "agAAAABJRU5ErkJggg==\n",
       "\" style=\"display:inline;vertical-align:middle;\" /></a></td></tr>\n",
       "</table>\n"
      ],
      "text/plain": [
       "0. (w - x) / (y - z)\n",
       "   core type: Operation\n",
       "   operator: 1\n",
       "   operands: 2\n",
       "1. /\n",
       "   core type: Literal\n",
       "   sub-expressions: \n",
       "2. (w - x , y - z)\n",
       "   core type: ExprTuple\n",
       "   sub-expressions: 3, 4\n",
       "3. w - x\n",
       "   core type: Operation\n",
       "   operator: 6\n",
       "   operands: 5\n",
       "4. y - z\n",
       "   core type: Operation\n",
       "   operator: 6\n",
       "   operands: 7\n",
       "5. (w , -x)\n",
       "   core type: ExprTuple\n",
       "   sub-expressions: 8, 9\n",
       "6. +\n",
       "   core type: Literal\n",
       "   sub-expressions: \n",
       "7. (y , -z)\n",
       "   core type: ExprTuple\n",
       "   sub-expressions: 10, 11\n",
       "8. w\n",
       "   core type: Variable\n",
       "   sub-expressions: \n",
       "9. -x\n",
       "   core type: Operation\n",
       "   operator: 13\n",
       "   operand: 12\n",
       "10. y\n",
       "    core type: Variable\n",
       "    sub-expressions: \n",
       "11. -z\n",
       "    core type: Operation\n",
       "    operator: 13\n",
       "    operand: 14\n",
       "12. x\n",
       "    core type: Variable\n",
       "    sub-expressions: \n",
       "13. -\n",
       "    core type: Literal\n",
       "    sub-expressions: \n",
       "14. z\n",
       "    core type: Variable\n",
       "    sub-expressions: "
      ]
     },
     "execution_count": 4,
     "metadata": {},
     "output_type": "execute_result"
    }
   ],
   "source": [
    "# display the expression information\n",
    "expr.exprInfo()"
   ]
  },
  {
   "cell_type": "code",
   "execution_count": null,
   "metadata": {},
   "outputs": [],
   "source": []
  }
 ],
 "metadata": {
  "kernelspec": {
   "display_name": "Python 3",
   "language": "python",
   "name": "python3"
  }
 },
 "nbformat": 4,
 "nbformat_minor": 0
}
