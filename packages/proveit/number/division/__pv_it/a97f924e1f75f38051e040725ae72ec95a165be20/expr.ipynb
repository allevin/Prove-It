{
 "cells": [
  {
   "cell_type": "markdown",
   "metadata": {},
   "source": [
    "Expression of type <a class=\"ProveItLink\" href=\"../../../../../../doc/html/api/proveit.ExprTuple.html\">ExprTuple</a>\n",
    "=======================\n",
    "# from context <a class=\"ProveItLink\" href=\"../../_context_.ipynb\">proveit.number.division</a>"
   ]
  },
  {
   "cell_type": "code",
   "execution_count": 1,
   "metadata": {},
   "outputs": [],
   "source": [
    "# import Expression classes needed to build the expression\n",
    "from proveit import ExprTuple\n",
    "from proveit._common_ import x, y\n",
    "from proveit.number import frac"
   ]
  },
  {
   "cell_type": "code",
   "execution_count": 2,
   "metadata": {},
   "outputs": [
    {
     "data": {
      "text/html": [
       "<strong id=\"expr\">expr:</strong> <a class=\"ProveItLink\" href=\"expr.ipynb\"><img src=\"data:image/png;base64,iVBORw0KGgoAAAANSUhEUgAAADsAAAAyBAMAAAAQBL5IAAAAMFBMVEX///9ERESIiIiYmJju7u4y\n",
       "MjLMzMwQEBDc3NwiIiKqqqpUVFRmZma6urp2dnYAAACcPvpdAAAAAXRSTlMAQObYZgAAAf5JREFU\n",
       "OMt9VDtIw1AUPWnSr22sLg6CFBcHi+3i3Do5COrgpkNmF6uDiIgWRwetuDlIEYo46erULiIifjbH\n",
       "BjfBoWiR6qJ5nwRz8+KF3HeTk/fePfcHOGI+ISAzZc98CKLILLiWeamAMeka5yoUfS2xJtaVMDbF\n",
       "ErXV8Jlw7qKshqPi9G2u98f38jm/7z2m9S7Thq0fxWv+7UtMJTktE5FOyvLDJXZrm4fMQF+WXt7P\n",
       "LruRL/FcgDm7bEu+HFggFFKOb7FvburVAiIENt6BSFeQLw5hl55+CGgVbk1NzL4UKdx0PMoiVApV\n",
       "zNnh8EUd7WI4vJJDqR4Oz7VQsMLh/iweq4Gvsw9IcLrxeTSD2bbbTn54tmqMG5FY/RYap5usuPAP\n",
       "FxFLrIlkIVpR7EaqixUrHE7PYwzy8Ee/a2VRg8OQrvmJGV9s92XmA5KYPyzGjvO3MZjvuWEp+bsz\n",
       "ww8za25QSUp057nCdN1NCUkog08w4iWUlAMLx2n+ySsHWUxKaXqlaLzZOKDZWfUK2cx0UECwkGUb\n",
       "LKdrGCCw3vOaqOz00LuqidqWHAKxT1pLjHNSDIFrRCgH3sB6R/a6RufXItdrXN8FKl4MD5yJJhul\n",
       "Nau1fIPrlZz9LKKU2OAkjE0CH8u1wfy3NdKL6dYfIzV6TzY3PGvw34GNtGLcT3HHfgHbmYBukKLQ\n",
       "JgAAAABJRU5ErkJggg==\n",
       "\" style=\"display:inline;vertical-align:middle;\" /></a><br>"
      ],
      "text/plain": [
       "expr: (x / y , y)"
      ]
     },
     "execution_count": 2,
     "metadata": {},
     "output_type": "execute_result"
    }
   ],
   "source": [
    "# build up the expression from sub-expressions\n",
    "expr = ExprTuple(frac(x, y), y)"
   ]
  },
  {
   "cell_type": "code",
   "execution_count": 3,
   "metadata": {},
   "outputs": [
    {
     "name": "stdout",
     "output_type": "stream",
     "text": [
      "Passed sanity check: built 'expr' is the same as the stored Expression.\n"
     ]
    }
   ],
   "source": [
    "# check that the built expression is the same as the stored expression\n",
    "%check_expr"
   ]
  },
  {
   "cell_type": "code",
   "execution_count": 4,
   "metadata": {},
   "outputs": [
    {
     "data": {
      "text/html": [
       "<table><tr><th>&nbsp;</th><th>core type</th><th>sub-expressions</th><th>expression</th></tr>\n",
       "<tr><td>0</td><td>ExprTuple</td><td>1, 5</td><td><a class=\"ProveItLink\" href=\"expr.ipynb\"><img src=\"data:image/png;base64,iVBORw0KGgoAAAANSUhEUgAAADsAAAAyBAMAAAAQBL5IAAAAMFBMVEX///9ERESIiIiYmJju7u4y\n",
       "MjLMzMwQEBDc3NwiIiKqqqpUVFRmZma6urp2dnYAAACcPvpdAAAAAXRSTlMAQObYZgAAAf5JREFU\n",
       "OMt9VDtIw1AUPWnSr22sLg6CFBcHi+3i3Do5COrgpkNmF6uDiIgWRwetuDlIEYo46erULiIifjbH\n",
       "BjfBoWiR6qJ5nwRz8+KF3HeTk/fePfcHOGI+ISAzZc98CKLILLiWeamAMeka5yoUfS2xJtaVMDbF\n",
       "ErXV8Jlw7qKshqPi9G2u98f38jm/7z2m9S7Thq0fxWv+7UtMJTktE5FOyvLDJXZrm4fMQF+WXt7P\n",
       "LruRL/FcgDm7bEu+HFggFFKOb7FvburVAiIENt6BSFeQLw5hl55+CGgVbk1NzL4UKdx0PMoiVApV\n",
       "zNnh8EUd7WI4vJJDqR4Oz7VQsMLh/iweq4Gvsw9IcLrxeTSD2bbbTn54tmqMG5FY/RYap5usuPAP\n",
       "FxFLrIlkIVpR7EaqixUrHE7PYwzy8Ee/a2VRg8OQrvmJGV9s92XmA5KYPyzGjvO3MZjvuWEp+bsz\n",
       "ww8za25QSUp057nCdN1NCUkog08w4iWUlAMLx2n+ySsHWUxKaXqlaLzZOKDZWfUK2cx0UECwkGUb\n",
       "LKdrGCCw3vOaqOz00LuqidqWHAKxT1pLjHNSDIFrRCgH3sB6R/a6RufXItdrXN8FKl4MD5yJJhul\n",
       "Nau1fIPrlZz9LKKU2OAkjE0CH8u1wfy3NdKL6dYfIzV6TzY3PGvw34GNtGLcT3HHfgHbmYBukKLQ\n",
       "JgAAAABJRU5ErkJggg==\n",
       "\" style=\"display:inline;vertical-align:middle;\" /></a></td></tr>\n",
       "<tr><td>1</td><td>Operation</td><td>operator:&nbsp;2<br>operands:&nbsp;3<br></td><td><a class=\"ProveItLink\" href=\"../ed7bab118f678ae4a216e02ab423d4e016e01f4c0/expr.ipynb\"><img src=\"data:image/png;base64,iVBORw0KGgoAAAANSUhEUgAAAAwAAAApBAMAAADzOtVRAAAAMFBMVEX///8yMjK6urpERETMzMwQ\n",
       "EBAiIiKYmJju7u5mZmaqqqpUVFSIiIh2dnbc3NwAAADpJKkdAAAAAXRSTlMAQObYZgAAAJZJREFU\n",
       "GNNjYHh7+tXJAwwcF9jTWRMYeBl4PnA5MHAwcBswgADrATD13oGhgYH9wXkGngaG9QWmDG8YGJrP\n",
       "9t4pYCAb/AcDBuoAjpsXGN43MPAyfWA4z8DgxZnAYMzA0AB0+x+g5PoGli9AaiIDTwCQkmRg3gCk\n",
       "ZjPogxzffGb+A7AJ14CYO4EjCkixXWC+AKS4zkwCkgBlLSw3UT2MsQAAAABJRU5ErkJggg==\n",
       "\" style=\"display:inline;vertical-align:middle;\" /></a></td></tr>\n",
       "<tr><td>2</td><td>Literal</td><td></td><td><a class=\"ProveItLink\" href=\"../089f5ca61fe425d4f6ef7efa2138c1a2fa47180c0/expr.ipynb\"><img src=\"data:image/png;base64,iVBORw0KGgoAAAANSUhEUgAAAA4AAAAMBAMAAACgrpHpAAAAIVBMVEX///9ERERmZmbc3NwQEBAi\n",
       "IiKqqqrMzMx2dnaIiIgAAACeyUhQAAAAAXRSTlMAQObYZgAAACJJREFUCNdjYGBgmMEABuyrEiCM\n",
       "EAMG3EA1FAQCsUlhMwcALk0GeoeEfOIAAAAASUVORK5CYII=\n",
       "\" style=\"display:inline;vertical-align:middle;\" /></a></td></tr>\n",
       "<tr><td>3</td><td>ExprTuple</td><td>4, 5</td><td><a class=\"ProveItLink\" href=\"../a6a2ac9310c73e21661c7634808321702fb219240/expr.ipynb\"><img src=\"data:image/png;base64,iVBORw0KGgoAAAANSUhEUgAAACwAAAAVBAMAAADP3xFXAAAAMFBMVEX////c3NwiIiJERESqqqqY\n",
       "mJh2dnZmZmYQEBDu7u4yMjJUVFTMzMyIiIi6uroAAAAs73DqAAAAAXRSTlMAQObYZgAAAQtJREFU\n",
       "GNNjYMAB+C6gi7A+ABKnMVXWAPFKTGEuBgbeC5jCrAkMHBMwhTkbGF5hc4YJQxmQFLstch1i1rQy\n",
       "BsafDAzpDEuBehJYVTkUwMIJ7xl4PzAweDH0MTCwAZksB0CiPA5FDMwGDAwvGP4BVTNwG0DtYuhl\n",
       "4Acadx4kzMDAAXMly0+G8wdAwi0gnvwBBog72Rcw3GAAGWIKdL3AfQbeCWAJrgIGayAVBXQLg3+A\n",
       "BYMsA+cnkOoNfF8ZQA58xMAw+dq03AAGzn4BoJ221z8ChdcxcAjAQxjMYlMAex4YLLAAAuJNDDMc\n",
       "gFIXkAIWJKzGYAYkZwGxNEwY5Hbf66CY2QjEjBgBznuAAQAt5DtyKXSr1gAAAABJRU5ErkJggg==\n",
       "\" style=\"display:inline;vertical-align:middle;\" /></a></td></tr>\n",
       "<tr><td>4</td><td>Variable</td><td></td><td><a class=\"ProveItLink\" href=\"../../../../__pv_it/530be409e3083890784cf1d7b28c9e67e90af9360/expr.ipynb\"><img src=\"data:image/png;base64,iVBORw0KGgoAAAANSUhEUgAAAAsAAAAJBAMAAAAWSsseAAAAKlBMVEX///9ERETMzMwQEBAiIiKY\n",
       "mJju7u5mZmaqqqpUVFSIiIh2dnbc3NwAAAA/vyDhAAAAAXRSTlMAQObYZgAAAENJREFUCNdjYDi9\n",
       "8sTyBQxsG1hdmR0YuBm4LnAoMLAxcAowgADzAjB1VoEhgYH1wFoGrgSG3gBhhlMMDImrs3cFMAAA\n",
       "t0YN+iTRa+sAAAAASUVORK5CYII=\n",
       "\" style=\"display:inline;vertical-align:middle;\" /></a></td></tr>\n",
       "<tr><td>5</td><td>Variable</td><td></td><td><a class=\"ProveItLink\" href=\"../../../../__pv_it/f8b9edf8e16034727f0aad55bb83e392c3db40d40/expr.ipynb\"><img src=\"data:image/png;base64,iVBORw0KGgoAAAANSUhEUgAAAAsAAAANBAMAAACN24kIAAAAMFBMVEX///+YmJhUVFQyMjIQEBBE\n",
       "REQiIiKqqqrMzMyIiIi6urrc3NxmZmZ2dnbu7u4AAADXeCicAAAAAXRSTlMAQObYZgAAAFhJREFU\n",
       "CNdj4LtzgWH/AwZerg8M8xkY2nkSGEIZGB6wTGD4ycDAUP+A4weQOszA6QCkbBhYFYDUIYb1AkDq\n",
       "6czzGxhA4BoQMyXwuQMptgusF4AU+8xTQBIAUqMVoSp/SLMAAAAASUVORK5CYII=\n",
       "\" style=\"display:inline;vertical-align:middle;\" /></a></td></tr>\n",
       "</table>\n"
      ],
      "text/plain": [
       "0. (x / y , y)\n",
       "   core type: ExprTuple\n",
       "   sub-expressions: 1, 5\n",
       "1. x / y\n",
       "   core type: Operation\n",
       "   operator: 2\n",
       "   operands: 3\n",
       "2. /\n",
       "   core type: Literal\n",
       "   sub-expressions: \n",
       "3. (x , y)\n",
       "   core type: ExprTuple\n",
       "   sub-expressions: 4, 5\n",
       "4. x\n",
       "   core type: Variable\n",
       "   sub-expressions: \n",
       "5. y\n",
       "   core type: Variable\n",
       "   sub-expressions: "
      ]
     },
     "execution_count": 4,
     "metadata": {},
     "output_type": "execute_result"
    }
   ],
   "source": [
    "# display the expression information\n",
    "expr.exprInfo()"
   ]
  },
  {
   "cell_type": "code",
   "execution_count": null,
   "metadata": {},
   "outputs": [],
   "source": []
  }
 ],
 "metadata": {
  "kernelspec": {
   "display_name": "Python 3",
   "language": "python",
   "name": "python3"
  }
 },
 "nbformat": 4,
 "nbformat_minor": 0
}
