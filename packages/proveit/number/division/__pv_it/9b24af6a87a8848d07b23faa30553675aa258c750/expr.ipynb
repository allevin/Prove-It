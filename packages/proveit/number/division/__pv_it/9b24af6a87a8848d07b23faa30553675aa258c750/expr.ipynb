{
 "cells": [
  {
   "cell_type": "markdown",
   "metadata": {},
   "source": [
    "Expression of type <a class=\"ProveItLink\" href=\"../../../../../../doc/html/api/proveit.ExprTuple.html\">ExprTuple</a>\n",
    "=======================\n",
    "# from context <a class=\"ProveItLink\" href=\"../../_context_.ipynb\">proveit.number.division</a>"
   ]
  },
  {
   "cell_type": "code",
   "execution_count": 1,
   "metadata": {},
   "outputs": [],
   "source": [
    "# import Expression classes needed to build the expression\n",
    "from proveit import ExprTuple\n",
    "from proveit._common_ import n\n",
    "from proveit.logic import InSet\n",
    "from proveit.number import Integers"
   ]
  },
  {
   "cell_type": "code",
   "execution_count": 2,
   "metadata": {},
   "outputs": [
    {
     "data": {
      "text/html": [
       "<strong id=\"expr\">expr:</strong> <a class=\"ProveItLink\" href=\"expr.ipynb\"><img src=\"data:image/png;base64,iVBORw0KGgoAAAANSUhEUgAAAEAAAAAVBAMAAAAEBPWpAAAAMFBMVEX////c3NwiIiJERESqqqqY\n",
       "mJh2dnZmZmYQEBDu7u4yMjJUVFTMzMyIiIi6uroAAAAs73DqAAAAAXRSTlMAQObYZgAAAUhJREFU\n",
       "KM9jYCAI+C7glmN9ACROY5Nh0f+0qmlFAEMNkL0SmwLe5RMYFjAzMHABmVhtYE9gYHPIA9qRwMAx\n",
       "AVli7iIlLRDNPYFBmmcDAwNnA8MrZHmepQjllswgtglDGdAflwXvbgMLCiPkWS+Egqh0hqUMDGzc\n",
       "axnmHwBxDRGGTeY0AFFeDH0MDO+YDBjmg3wMEYOAPdwCIOoFwz8GhglAWX+Q4XxNSkoQRzLwFTwD\n",
       "0+dBCkCyu8Bu3AA3gIthAQNDIkhBC5BXxcDwlRNkhQJcQQob0E4FkBWmQF4bA+tPNpDwVpg84wZg\n",
       "DLA1MDBEAf3BwPiPgc3AByQ+6QFUAbOAJQNnmQHIm4+ADmpgYLR1AGtcfgCi4IVVs/H65gIGhnUM\n",
       "HAIosbgL6gsoAAY1MDrwALYLOKIbBmYBsTQ+BRtBDsOT5HgPMAAAo8FJcSwef8IAAAAASUVORK5C\n",
       "YII=\n",
       "\" style=\"display:inline;vertical-align:middle;\" /></a><br>"
      ],
      "text/plain": [
       "expr: (n in Integers)"
      ]
     },
     "execution_count": 2,
     "metadata": {},
     "output_type": "execute_result"
    }
   ],
   "source": [
    "# build up the expression from sub-expressions\n",
    "expr = ExprTuple(InSet(n, Integers))"
   ]
  },
  {
   "cell_type": "code",
   "execution_count": 3,
   "metadata": {},
   "outputs": [
    {
     "name": "stdout",
     "output_type": "stream",
     "text": [
      "Passed sanity check: built 'expr' is the same as the stored Expression.\n"
     ]
    }
   ],
   "source": [
    "# check that the built expression is the same as the stored expression\n",
    "%check_expr"
   ]
  },
  {
   "cell_type": "code",
   "execution_count": 4,
   "metadata": {},
   "outputs": [
    {
     "data": {
      "text/html": [
       "<table><tr><th>&nbsp;</th><th>core type</th><th>sub-expressions</th><th>expression</th></tr>\n",
       "<tr><td>0</td><td>ExprTuple</td><td>1</td><td><a class=\"ProveItLink\" href=\"expr.ipynb\"><img src=\"data:image/png;base64,iVBORw0KGgoAAAANSUhEUgAAAEAAAAAVBAMAAAAEBPWpAAAAMFBMVEX////c3NwiIiJERESqqqqY\n",
       "mJh2dnZmZmYQEBDu7u4yMjJUVFTMzMyIiIi6uroAAAAs73DqAAAAAXRSTlMAQObYZgAAAUhJREFU\n",
       "KM9jYCAI+C7glmN9ACROY5Nh0f+0qmlFAEMNkL0SmwLe5RMYFjAzMHABmVhtYE9gYHPIA9qRwMAx\n",
       "AVli7iIlLRDNPYFBmmcDAwNnA8MrZHmepQjllswgtglDGdAflwXvbgMLCiPkWS+Egqh0hqUMDGzc\n",
       "axnmHwBxDRGGTeY0AFFeDH0MDO+YDBjmg3wMEYOAPdwCIOoFwz8GhglAWX+Q4XxNSkoQRzLwFTwD\n",
       "0+dBCkCyu8Bu3AA3gIthAQNDIkhBC5BXxcDwlRNkhQJcQQob0E4FkBWmQF4bA+tPNpDwVpg84wZg\n",
       "DLA1MDBEAf3BwPiPgc3AByQ+6QFUAbOAJQNnmQHIm4+ADmpgYLR1AGtcfgCi4IVVs/H65gIGhnUM\n",
       "HAIosbgL6gsoAAY1MDrwALYLOKIbBmYBsTQ+BRtBDsOT5HgPMAAAo8FJcSwef8IAAAAASUVORK5C\n",
       "YII=\n",
       "\" style=\"display:inline;vertical-align:middle;\" /></a></td></tr>\n",
       "<tr><td>1</td><td>Operation</td><td>operator:&nbsp;2<br>operands:&nbsp;3<br></td><td><a class=\"ProveItLink\" href=\"../cd4c74077a2e748da6447b8d9d67b9bdfbe37b410/expr.ipynb\"><img src=\"data:image/png;base64,iVBORw0KGgoAAAANSUhEUgAAADQAAAAPBAMAAABZ6/G2AAAAMFBMVEX///8QEBCYmJhmZmaqqqoi\n",
       "IiLMzMzu7u4yMjJ2dnZUVFTc3NxERESIiIi6uroAAABbPXqjAAAAAXRSTlMAQObYZgAAAN5JREFU\n",
       "GNNjYMAELPFfO0QbFbDIMPA2FzA08GCTYWCewMDpMA9FqLY1NAJEcxUw7GJbgCzD1lQAZx/nAbL5\n",
       "7uy+uxLM3YOQYbqgBCQ5uXoZ6hNA/NMIA2rYDwDJd6wHGOofABlgHhQs49oAJAuA4v4go/hEQ0Mh\n",
       "zmDgM3gJpoHiK8CuQLiJg6GBgWE2A4MFA8MndpCBAXCpKZxAG4BcSQam75wggUUwGe4FWUDnCTBw\n",
       "/2PgPOAGEil9AJXi2XCcgd3yAAMfUPasA1hxcwJE6uEJmTP9MgYoIb4C6kIIAADsgjTq+/qdwgAA\n",
       "AABJRU5ErkJggg==\n",
       "\" style=\"display:inline;vertical-align:middle;\" /></a></td></tr>\n",
       "<tr><td>2</td><td>Literal</td><td></td><td><a class=\"ProveItLink\" href=\"../../../../logic/set_theory/membership/__pv_it/088cbc857536a28d4119ad9639a84270ccb0545d0/expr.ipynb\"><img src=\"data:image/png;base64,iVBORw0KGgoAAAANSUhEUgAAAAwAAAAMBAMAAACkW0HUAAAALVBMVEX///+qqqpmZmZUVFQQEBC6\n",
       "urpERETc3NyYmJjMzMwiIiIyMjKIiIju7u4AAACYsrA9AAAAAXRSTlMAQObYZgAAADxJREFUCNdj\n",
       "YOA9vWrVBgaG2b0MQMCeCyIZ2ArA1DUwyRCyahVIyWQI7xaEYm4AU7xLIdxqTQgtvGvVBgCkcQ7e\n",
       "geM/tQAAAABJRU5ErkJggg==\n",
       "\" style=\"display:inline;vertical-align:middle;\" /></a></td></tr>\n",
       "<tr><td>3</td><td>ExprTuple</td><td>4, 5</td><td><a class=\"ProveItLink\" href=\"../ded73b53940f367c5e2e851a8910ad013b7852310/expr.ipynb\"><img src=\"data:image/png;base64,iVBORw0KGgoAAAANSUhEUgAAADAAAAAVBAMAAADyTXAxAAAAMFBMVEX////c3NwiIiJERESqqqqY\n",
       "mJh2dnZmZmYQEBDu7u4yMjJUVFTMzMyIiIi6uroAAAAs73DqAAAAAXRSTlMAQObYZgAAASRJREFU\n",
       "KM9jYMAJ+C5girE+ABKnkUVY9D+taloRwFADZK9EluBdPoFhATMDAxeQiWISewIDm0Me0KwEBo4J\n",
       "yBLcExikeTYwMHA2MLxCt9iSGaTUhKEM6K7Lgne3wR10IRREpTMsZWBg417LMP8AVGIypwGI8mLo\n",
       "Y2B4x2TAMP8BVGIPtwCIesHwj4FhAlDUH+oGvoJnYPo8SAIkuguqgYthAQNDIkiiBcirYmD4ygmR\n",
       "SGEDmqkAMsoUyGtjYP3JxgAyjHEDMITYGhgYooDuYmD8x8Bm4MP5CSjBLGDJwFlmAHLuI6CFDQyM\n",
       "tg6c/UDnvLBqNl7fXMDAsI6BQwAe/gII7wODBBhcMD8jhQvbBaRgR5aYBcTSMA5y+G8EuRBL1PIe\n",
       "YAAAw8FCJZzDms4AAAAASUVORK5CYII=\n",
       "\" style=\"display:inline;vertical-align:middle;\" /></a></td></tr>\n",
       "<tr><td>4</td><td>Variable</td><td></td><td><a class=\"ProveItLink\" href=\"../../../../__pv_it/39dbcd3ca0390345b51c6ef7785756419e2c14390/expr.ipynb\"><img src=\"data:image/png;base64,iVBORw0KGgoAAAANSUhEUgAAAAwAAAAJBAMAAAD0ltBnAAAAMFBMVEX///8QEBCYmJhmZmaqqqoi\n",
       "IiLMzMzu7u4yMjJ2dnZUVFTc3NxERESIiIi6uroAAABbPXqjAAAAAXRSTlMAQObYZgAAAERJREFU\n",
       "CNdj4Luz++5KBgZOrl6G+gSGd6wHGOofMBQAsX8BAwivYGBgsGBg+MTOwCDJwPSdk4H7HwPnATcG\n",
       "PgEG7rMOAGtQEUwHZIDZAAAAAElFTkSuQmCC\n",
       "\" style=\"display:inline;vertical-align:middle;\" /></a></td></tr>\n",
       "<tr><td>5</td><td>Literal</td><td></td><td><a class=\"ProveItLink\" href=\"../../../sets/integer/__pv_it/7b9e51516f347f625fa636d7bb440e96498977000/expr.ipynb\"><img src=\"data:image/png;base64,iVBORw0KGgoAAAANSUhEUgAAAA4AAAAOBAMAAADtZjDiAAAAMFBMVEX////MzMzc3NxUVFS6urp2\n",
       "dnZERETu7u5mZmaIiIiYmJgQEBAyMjIiIiKqqqoAAAAf68ZqAAAAAXRSTlMAQObYZgAAAGlJREFU\n",
       "CNdj4Lv/98ze0wsYOE8UMBxgY2DgCGBgfRDCwMBcwKDMaMAAAulsBSCKa8IqMLeMPQFMGzIrgCiW\n",
       "Blcwl4fhAANDEANDHKsDA8MFBiYDYQYG1g0MbArpDOytCQzeOdvSzm9rAAAm6xY1AUf+1AAAAABJ\n",
       "RU5ErkJggg==\n",
       "\" style=\"display:inline;vertical-align:middle;\" /></a></td></tr>\n",
       "</table>\n"
      ],
      "text/plain": [
       "0. (n in Integers)\n",
       "   core type: ExprTuple\n",
       "   sub-expressions: 1\n",
       "1. n in Integers\n",
       "   core type: Operation\n",
       "   operator: 2\n",
       "   operands: 3\n",
       "2. in\n",
       "   core type: Literal\n",
       "   sub-expressions: \n",
       "3. (n , Integers)\n",
       "   core type: ExprTuple\n",
       "   sub-expressions: 4, 5\n",
       "4. n\n",
       "   core type: Variable\n",
       "   sub-expressions: \n",
       "5. Integers\n",
       "   core type: Literal\n",
       "   sub-expressions: "
      ]
     },
     "execution_count": 4,
     "metadata": {},
     "output_type": "execute_result"
    }
   ],
   "source": [
    "# display the expression information\n",
    "expr.exprInfo()"
   ]
  },
  {
   "cell_type": "code",
   "execution_count": null,
   "metadata": {},
   "outputs": [],
   "source": []
  }
 ],
 "metadata": {
  "kernelspec": {
   "display_name": "Python 3",
   "language": "python",
   "name": "python3"
  }
 },
 "nbformat": 4,
 "nbformat_minor": 0
}
