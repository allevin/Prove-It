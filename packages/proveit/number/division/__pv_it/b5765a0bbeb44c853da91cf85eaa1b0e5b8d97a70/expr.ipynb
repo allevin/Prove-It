{
 "cells": [
  {
   "cell_type": "markdown",
   "metadata": {},
   "source": [
    "Expression of type <a class=\"ProveItLink\" href=\"../../../../../../doc/html/api/proveit.logic.Equals.html\">Equals</a>\n",
    "=======================\n",
    "# from context <a class=\"ProveItLink\" href=\"../../_context_.ipynb\">proveit.number.division</a>"
   ]
  },
  {
   "cell_type": "code",
   "execution_count": 1,
   "metadata": {},
   "outputs": [],
   "source": [
    "# import Expression classes needed to build the expression\n",
    "from proveit._common_ import x, y\n",
    "from proveit.logic import Equals\n",
    "from proveit.number import Mult, frac"
   ]
  },
  {
   "cell_type": "code",
   "execution_count": 2,
   "metadata": {},
   "outputs": [
    {
     "data": {
      "text/html": [
       "<strong id=\"expr\">expr:</strong> <a class=\"ProveItLink\" href=\"expr.ipynb\"><img src=\"data:image/png;base64,iVBORw0KGgoAAAANSUhEUgAAAGgAAAAmBAMAAADaYMOOAAAAMFBMVEX///9UVFR2dnbc3NwyMjK6\n",
       "urpmZmbMzMwQEBDu7u4iIiKqqqpERESYmJiIiIgAAAAQbUJnAAAAAXRSTlMAQObYZgAAAfRJREFU\n",
       "OMuNlb9LQlEUx48+f738CU1FhLTVIBJtQRqEW+DQnkSTQ/gfPKEtSsTJIDBagih4W5tZQzTFg5Zw\n",
       "ySKkoFASEhOre98ThHfPuXUG3+HA59x7fnyvAAAhAzBTJ0Bib/ZAaQOUHsCahPEf2iPRdQi12Q1q\n",
       "NFTO2QJePQsBDqzS0LVQDBQg3GBOIk4x7p544R5o/HhPhIJcGSHkScIL/yodCtLiWJ5L00lRUFYM\n",
       "eSLugek8UFABGett07pYRccZbxeLOq3ZjWVwiE/RbpNQto5wHOJQAIkfwRWd0bwBsivVZno4wy4O\n",
       "hTOStfT28XiF7wvMPy42G0gbv3EBJLiY1GjwzIcV/WH+bq5wWx4JQOOQk3l+vm37NugTF4Cmm3vt\n",
       "MPuhfpll/nBrY9BQAJo1EZ9Zkbr7x0lDAWjWA5HIQRGpyYKyJ9xORwJI8COC8RaEimQjBAGEo8y9\n",
       "MG5gCWGUAS4AHx/uwVMpZvxruJYAXDXZQ9XBBeDJSyBnGxeAvyeBAklcAGpfAoUbhABSEkijHr57\n",
       "pNOx8eoWd+aobJW0ECpB3djhzh7ZIbHnUWjBOe842VlVlHQRpqynwCCrfSYfwzrdIpeYT+ky5YCy\n",
       "TUPqsT1yxxT9yrLpkmks2KbhHwTyChvrtOw/V0nbN3l25p190hTwC1HQkIzxRk1zAAAAAElFTkSu\n",
       "QmCC\n",
       "\" style=\"display:inline;vertical-align:middle;\" /></a><br>"
      ],
      "text/plain": [
       "expr: (x * (y / x)) = y"
      ]
     },
     "execution_count": 2,
     "metadata": {},
     "output_type": "execute_result"
    }
   ],
   "source": [
    "# build up the expression from sub-expressions\n",
    "expr = Equals(Mult(x, frac(y, x)), y)"
   ]
  },
  {
   "cell_type": "code",
   "execution_count": 3,
   "metadata": {},
   "outputs": [
    {
     "name": "stdout",
     "output_type": "stream",
     "text": [
      "Passed sanity check: built 'expr' is the same as the stored Expression.\n"
     ]
    }
   ],
   "source": [
    "# check that the built expression is the same as the stored expression\n",
    "%check_expr"
   ]
  },
  {
   "cell_type": "code",
   "execution_count": 4,
   "metadata": {},
   "outputs": [
    {
     "data": {
      "text/html": [
       "<table><tr><th>&nbsp;</th><th>core type</th><th>sub-expressions</th><th>expression</th></tr>\n",
       "<tr><td>0</td><td>Operation</td><td>operator:&nbsp;1<br>operands:&nbsp;2<br></td><td><a class=\"ProveItLink\" href=\"expr.ipynb\"><img src=\"data:image/png;base64,iVBORw0KGgoAAAANSUhEUgAAAGgAAAAmBAMAAADaYMOOAAAAMFBMVEX///9UVFR2dnbc3NwyMjK6\n",
       "urpmZmbMzMwQEBDu7u4iIiKqqqpERESYmJiIiIgAAAAQbUJnAAAAAXRSTlMAQObYZgAAAfRJREFU\n",
       "OMuNlb9LQlEUx48+f738CU1FhLTVIBJtQRqEW+DQnkSTQ/gfPKEtSsTJIDBagih4W5tZQzTFg5Zw\n",
       "ySKkoFASEhOre98ThHfPuXUG3+HA59x7fnyvAAAhAzBTJ0Bib/ZAaQOUHsCahPEf2iPRdQi12Q1q\n",
       "NFTO2QJePQsBDqzS0LVQDBQg3GBOIk4x7p544R5o/HhPhIJcGSHkScIL/yodCtLiWJ5L00lRUFYM\n",
       "eSLugek8UFABGett07pYRccZbxeLOq3ZjWVwiE/RbpNQto5wHOJQAIkfwRWd0bwBsivVZno4wy4O\n",
       "hTOStfT28XiF7wvMPy42G0gbv3EBJLiY1GjwzIcV/WH+bq5wWx4JQOOQk3l+vm37NugTF4Cmm3vt\n",
       "MPuhfpll/nBrY9BQAJo1EZ9Zkbr7x0lDAWjWA5HIQRGpyYKyJ9xORwJI8COC8RaEimQjBAGEo8y9\n",
       "MG5gCWGUAS4AHx/uwVMpZvxruJYAXDXZQ9XBBeDJSyBnGxeAvyeBAklcAGpfAoUbhABSEkijHr57\n",
       "pNOx8eoWd+aobJW0ECpB3djhzh7ZIbHnUWjBOe842VlVlHQRpqynwCCrfSYfwzrdIpeYT+ky5YCy\n",
       "TUPqsT1yxxT9yrLpkmks2KbhHwTyChvrtOw/V0nbN3l25p190hTwC1HQkIzxRk1zAAAAAElFTkSu\n",
       "QmCC\n",
       "\" style=\"display:inline;vertical-align:middle;\" /></a></td></tr>\n",
       "<tr><td>1</td><td>Literal</td><td></td><td><a class=\"ProveItLink\" href=\"../../../../logic/equality/__pv_it/2fb26078095930560931daa0500ce419a39ea6cd0/expr.ipynb\"><img src=\"data:image/png;base64,iVBORw0KGgoAAAANSUhEUgAAAA4AAAAFBAMAAACHocAhAAAAFVBMVEX///9EREQiIiJUVFQyMjJm\n",
       "ZmYAAADubVkoAAAAAXRSTlMAQObYZgAAABRJREFUCNdjCHEBAWcGXCBICQQUAUpuAwlgGKrkAAAA\n",
       "AElFTkSuQmCC\n",
       "\" style=\"display:inline;vertical-align:middle;\" /></a></td></tr>\n",
       "<tr><td>2</td><td>ExprTuple</td><td>3, 9</td><td><a class=\"ProveItLink\" href=\"../a446ee1efbfa75af04fac31bee15abfb186784c40/expr.ipynb\"><img src=\"data:image/png;base64,iVBORw0KGgoAAAANSUhEUgAAAFMAAAAmBAMAAABKc7pBAAAAMFBMVEX///9UVFR2dnbc3NwyMjK6\n",
       "urpmZmbMzMwQEBDu7u4iIiKqqqpERESYmJiIiIgAAAAQbUJnAAAAAXRSTlMAQObYZgAAAh9JREFU\n",
       "OMuNVDFLHEEU/s717na8vVshnVgsKQJJYQ6xCARcqzRpBH/AqSSNhbk+xV0dRVZBuIBwSwpTCXZJ\n",
       "5ZkgYiGyYCNWZwhHAlEPLERFk3kzG7mZ2VNf8Xb224+3733vvQGAQoR7bDGID3/0L+yJBz/oANJj\n",
       "8pkLdWpPuo1TBYmj1co69X0mxK6C9Moct43UAruJGwWxzkQeF2YZjSB7riJTIvakSX2DQlVF/CJ3\n",
       "laJJfQWnX0VEwJkEHadQ0rTOt7lbSKCunLzT/sWuAD3/2J7pwCrvatvkpUI2p2MDgBOa1D7P8XSM\n",
       "d69v06TmTt4aWKkMdxIPsso66k06DB+9bDUTKUvTsKifnOeTgMzLr9lhItUrycpdDxWi9vDXHA3Y\n",
       "R52ZXZ+BQ+XwRHkOPCpSojp2Sd79SyZFZLxFbrODCtgiUzZvqnGBSjmmymb7ZQSJuWbG8AuS6lO4\n",
       "fPEUBYPK4pH6BlmWS31pRDsYNQLWSZNMf/pa/DaCTS1Y+bE0ZG54jbaE7bXO4hb0bnbv0ITcXyF4\n",
       "o4hMtTs1EhNVExo9F2LcSf2E7+K8Jce7ixXIbbTGxcuNWLmHWJZqOzBxa+jRxqx2N1Ft9XFz8HAY\n",
       "fVAhW0yVqZbH1+OLCn0V7TNXNsCgDq0J/zOhCv1yyIedF6JS17mclVt7IW8Q9lln7vMV+a0gr+Pn\n",
       "iHbp5K6dqqUsZer/m6XJxfaePj5WkGVy/wCqvIwgPMtWugAAAABJRU5ErkJggg==\n",
       "\" style=\"display:inline;vertical-align:middle;\" /></a></td></tr>\n",
       "<tr><td>3</td><td>Operation</td><td>operator:&nbsp;4<br>operands:&nbsp;5<br></td><td><a class=\"ProveItLink\" href=\"../9b4e6140c98f41861ba28f65aa7ae317a87d43460/expr.ipynb\"><img src=\"data:image/png;base64,iVBORw0KGgoAAAANSUhEUgAAACkAAAAlBAMAAAAtjN2+AAAAMFBMVEX///8yMjK6urpERETMzMwQ\n",
       "EBAiIiKYmJju7u5mZmaqqqpUVFSIiIh2dnbc3NwAAADpJKkdAAAAAXRSTlMAQObYZgAAAOVJREFU\n",
       "KM9jYEAFHDcvMLxvQBNk4GX6wHAeXZDBizOBwRhDtIH1AMMfDFGG9Q0sXzBFJzLwBGCKSjIwb8AU\n",
       "nc2gX4Ap2nxm/gMGLOAaphB3AkcUpijbBeYLmKJcZyYx4AZvT786eQBdkOMCezprAkbQMfB84HIA\n",
       "MjpQ1DJwG4DpbyCS/z8IfACyWMGmcgSjmvHegQEjStgfnGfgwRBdX2DK8AYzjM723ilgGFSA786+\n",
       "NXMwRHsZygrCMEQvANPeEsx0xrAZq8kxWK37AgxydFDH84HhBEbEf2cO4MOMW5sbd48zMAAANVo+\n",
       "0c+ZcyMAAAAASUVORK5CYII=\n",
       "\" style=\"display:inline;vertical-align:middle;\" /></a></td></tr>\n",
       "<tr><td>4</td><td>Literal</td><td></td><td><a class=\"ProveItLink\" href=\"../../../multiplication/__pv_it/21fd2079611555ecce512d99547a00d551e6b86b0/expr.ipynb\"><img src=\"data:image/png;base64,iVBORw0KGgoAAAANSUhEUgAAAAMAAAADBAMAAACkBqiMAAAAElBMVEX///9EREQQEBAiIiLu7u4A\n",
       "AABGBidwAAAAAXRSTlMAQObYZgAAABFJREFUCNdjYHFgcDVgcBIAAASWAQx4jI0xAAAAAElFTkSu\n",
       "QmCC\n",
       "\" style=\"display:inline;vertical-align:middle;\" /></a></td></tr>\n",
       "<tr><td>5</td><td>ExprTuple</td><td>10, 6</td><td><a class=\"ProveItLink\" href=\"../26e0494ed44e2498a427c886464e1ec45ed899d80/expr.ipynb\"><img src=\"data:image/png;base64,iVBORw0KGgoAAAANSUhEUgAAADkAAAAmBAMAAACMti74AAAAMFBMVEX///9UVFR2dnbc3NwyMjK6\n",
       "urpmZmbMzMwQEBDu7u4iIiKqqqpERESYmJiIiIgAAAAQbUJnAAAAAXRSTlMAQObYZgAAAcFJREFU\n",
       "OMt1kz1LA0EQht94icmZXCLYicVhIWgRD7EQBM/KxsZ/YARtLDS9RVIr6BkQLAKm0ipgp5WxELEQ\n",
       "CdiIVRQRBD8CFqLix8xtYrITM8XOzD3s3sy7swAQL6PVNr1a8Kh9NgdsuB5CkyqNFjTaEaripbFn\n",
       "O63Rlc4CzskH1f9O9R96kQq+yRuvnIXeRT0lL/zGfo6XYErQecSz7F2Hlowj6BRi3X/bFmWnc5j1\n",
       "C7KqtKxLmn9e9o8zPwFVgW5Dyu2SjFWBAgVzTUW9QKwgaJcds1VEinUdCxp9XqhFs2kkUmhnmX3s\n",
       "VDgYuRm/r0hKyOXeTNsqRmQBSNjIMO2g0qPpFpriw2kvAvXiEj9s1WYKRCqtVTFVl+ym4f1DXd5k\n",
       "OS+Ie5JTVQkWplQ+wwTMD51SOxFWI3+bS5ZhbjhSjWCTkiGdlhx0ZhuppZ88TKK/t6UnagLqJnr+\n",
       "9oesjYV5oK/ERyPZc7TkPxm+lp0ZneZwXV71xfXvRwyHTRNzwMGhP5hiKD30qaDor3eyHDXhlpqG\n",
       "oHj6xhvdNzCmhDP3NHhJE/5AfrqWjzbLG/2KZQ2SJVCXxmjuybwY7H8iv8XJL/XIdFs/f9kOAAAA\n",
       "AElFTkSuQmCC\n",
       "\" style=\"display:inline;vertical-align:middle;\" /></a></td></tr>\n",
       "<tr><td>6</td><td>Operation</td><td>operator:&nbsp;7<br>operands:&nbsp;8<br></td><td><a class=\"ProveItLink\" href=\"../cc9f283252f3492e6e0e87c4ccc26ca8628654950/expr.ipynb\"><img src=\"data:image/png;base64,iVBORw0KGgoAAAANSUhEUgAAAAwAAAAlBAMAAACE+BUqAAAAMFBMVEX///+YmJhUVFQyMjIQEBBE\n",
       "REQiIiKqqqrMzMyIiIi6urrc3NxmZmZ2dnbu7u4AAADXeCicAAAAAXRSTlMAQObYZgAAAJdJREFU\n",
       "GNNj4LtzgWH/AwZerg8M8xkY2nkSGEIZGB6wTGD4ycDAUP+A4weQOszA6QCkbBhYFYDUIYb1AkDq\n",
       "6czzGxhA4BoQMyXwuQMptgusF4AU+8xTDATAfzBgoBLYO2n7nAkMfBcYE1kSGHgZOD+wNzDwMTAF\n",
       "gCWBfgGB/Q0MDxgYN8xn4HzAUC8QwrAT6IW5b28KMAAApbcsPvZGvdcAAAAASUVORK5CYII=\n",
       "\" style=\"display:inline;vertical-align:middle;\" /></a></td></tr>\n",
       "<tr><td>7</td><td>Literal</td><td></td><td><a class=\"ProveItLink\" href=\"../089f5ca61fe425d4f6ef7efa2138c1a2fa47180c0/expr.ipynb\"><img src=\"data:image/png;base64,iVBORw0KGgoAAAANSUhEUgAAAA4AAAAMBAMAAACgrpHpAAAAIVBMVEX///9ERERmZmbc3NwQEBAi\n",
       "IiKqqqrMzMx2dnaIiIgAAACeyUhQAAAAAXRSTlMAQObYZgAAACJJREFUCNdjYGBgmMEABuyrEiCM\n",
       "EAMG3EA1FAQCsUlhMwcALk0GeoeEfOIAAAAASUVORK5CYII=\n",
       "\" style=\"display:inline;vertical-align:middle;\" /></a></td></tr>\n",
       "<tr><td>8</td><td>ExprTuple</td><td>9, 10</td><td><a class=\"ProveItLink\" href=\"../470bbc9880f0fcda6ab2160544dedf05732e41640/expr.ipynb\"><img src=\"data:image/png;base64,iVBORw0KGgoAAAANSUhEUgAAACwAAAAVBAMAAADP3xFXAAAAMFBMVEX////c3NwiIiJERESqqqqY\n",
       "mJh2dnZmZmYQEBDu7u4yMjJUVFTMzMyIiIi6uroAAAAs73DqAAAAAXRSTlMAQObYZgAAAQdJREFU\n",
       "GNN1kLtKA0EUQI8mu5kYJ2whNiLZxl5QwW+wydZWg00qWwsVTWEtC0IINlYiNqJ/sIWdhVOZIoSo\n",
       "ldgYeyPecYOvMQP3wZn7hjGvav+S4F7UjR+5K3Lu4ynQ1seBQaU+Ljd5/m+MZbbks2Go5Umz3ZmO\n",
       "VG1wCmF1QD/PNsGCimGNQ7guxSx94hA9KGbwxDukyjLMo6ksOnvrMPV0+m3UTNkcH4jeRjdHuJaR\n",
       "uiIr4p9RuJQCskfURwtel1lgh5eEE5mgnqwyjxvwUfRRbz+i/SrOXWszEXCBilzJDZGHn8vLWSpx\n",
       "2TVOvnBo3WEnTcH8wscicxR7e2L196WuRCa8g+uMDxGWOvpEaKwNAAAAAElFTkSuQmCC\n",
       "\" style=\"display:inline;vertical-align:middle;\" /></a></td></tr>\n",
       "<tr><td>9</td><td>Variable</td><td></td><td><a class=\"ProveItLink\" href=\"../../../../__pv_it/f8b9edf8e16034727f0aad55bb83e392c3db40d40/expr.ipynb\"><img src=\"data:image/png;base64,iVBORw0KGgoAAAANSUhEUgAAAAsAAAANBAMAAACN24kIAAAAMFBMVEX///+YmJhUVFQyMjIQEBBE\n",
       "REQiIiKqqqrMzMyIiIi6urrc3NxmZmZ2dnbu7u4AAADXeCicAAAAAXRSTlMAQObYZgAAAFhJREFU\n",
       "CNdj4LtzgWH/AwZerg8M8xkY2nkSGEIZGB6wTGD4ycDAUP+A4weQOszA6QCkbBhYFYDUIYb1AkDq\n",
       "6czzGxhA4BoQMyXwuQMptgusF4AU+8xTQBIAUqMVoSp/SLMAAAAASUVORK5CYII=\n",
       "\" style=\"display:inline;vertical-align:middle;\" /></a></td></tr>\n",
       "<tr><td>10</td><td>Variable</td><td></td><td><a class=\"ProveItLink\" href=\"../../../../__pv_it/530be409e3083890784cf1d7b28c9e67e90af9360/expr.ipynb\"><img src=\"data:image/png;base64,iVBORw0KGgoAAAANSUhEUgAAAAsAAAAJBAMAAAAWSsseAAAAKlBMVEX///9ERETMzMwQEBAiIiKY\n",
       "mJju7u5mZmaqqqpUVFSIiIh2dnbc3NwAAAA/vyDhAAAAAXRSTlMAQObYZgAAAENJREFUCNdjYDi9\n",
       "8sTyBQxsG1hdmR0YuBm4LnAoMLAxcAowgADzAjB1VoEhgYH1wFoGrgSG3gBhhlMMDImrs3cFMAAA\n",
       "t0YN+iTRa+sAAAAASUVORK5CYII=\n",
       "\" style=\"display:inline;vertical-align:middle;\" /></a></td></tr>\n",
       "</table>\n"
      ],
      "text/plain": [
       "0. (x * (y / x)) = y\n",
       "   core type: Operation\n",
       "   operator: 1\n",
       "   operands: 2\n",
       "1. =\n",
       "   core type: Literal\n",
       "   sub-expressions: \n",
       "2. (x * (y / x) , y)\n",
       "   core type: ExprTuple\n",
       "   sub-expressions: 3, 9\n",
       "3. x * (y / x)\n",
       "   core type: Operation\n",
       "   operator: 4\n",
       "   operands: 5\n",
       "4. *\n",
       "   core type: Literal\n",
       "   sub-expressions: \n",
       "5. (x , y / x)\n",
       "   core type: ExprTuple\n",
       "   sub-expressions: 10, 6\n",
       "6. y / x\n",
       "   core type: Operation\n",
       "   operator: 7\n",
       "   operands: 8\n",
       "7. /\n",
       "   core type: Literal\n",
       "   sub-expressions: \n",
       "8. (y , x)\n",
       "   core type: ExprTuple\n",
       "   sub-expressions: 9, 10\n",
       "9. y\n",
       "   core type: Variable\n",
       "   sub-expressions: \n",
       "10. x\n",
       "    core type: Variable\n",
       "    sub-expressions: "
      ]
     },
     "execution_count": 4,
     "metadata": {},
     "output_type": "execute_result"
    }
   ],
   "source": [
    "# display the expression information\n",
    "expr.exprInfo()"
   ]
  },
  {
   "cell_type": "code",
   "execution_count": null,
   "metadata": {},
   "outputs": [],
   "source": []
  }
 ],
 "metadata": {
  "kernelspec": {
   "display_name": "Python 3",
   "language": "python",
   "name": "python3"
  }
 },
 "nbformat": 4,
 "nbformat_minor": 0
}
