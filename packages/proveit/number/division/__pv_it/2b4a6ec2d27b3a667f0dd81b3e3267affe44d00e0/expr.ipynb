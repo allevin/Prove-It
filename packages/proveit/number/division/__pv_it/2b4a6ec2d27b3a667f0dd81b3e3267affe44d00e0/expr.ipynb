{
 "cells": [
  {
   "cell_type": "markdown",
   "metadata": {},
   "source": [
    "Expression of type <a class=\"ProveItLink\" href=\"../../../../../../doc/html/api/proveit.Lambda.html\">Lambda</a>\n",
    "=======================\n",
    "# from context <a class=\"ProveItLink\" href=\"../../_context_.ipynb\">proveit.number.division</a>"
   ]
  },
  {
   "cell_type": "code",
   "execution_count": 1,
   "metadata": {},
   "outputs": [],
   "source": [
    "# import Expression classes needed to build the expression\n",
    "from proveit import Lambda\n",
    "from proveit._common_ import x\n",
    "from proveit.logic import Equals, InSet\n",
    "from proveit.number import Complexes, frac, zero"
   ]
  },
  {
   "cell_type": "code",
   "execution_count": 2,
   "metadata": {},
   "outputs": [
    {
     "data": {
      "text/html": [
       "<strong id=\"expr\">expr:</strong> <a class=\"ProveItLink\" href=\"expr.ipynb\"><img src=\"data:image/png;base64,iVBORw0KGgoAAAANSUhEUgAAAM0AAAAyCAMAAADIpq+XAAAANlBMVEX///+6uroUFBQNDQ0yMjJE\n",
       "RETMzMwQEBAiIiKYmJju7u5mZmaqqqpUVFSIiIh2dnbc3NwAAACltDI1AAAAAXRSTlMAQObYZgAA\n",
       "Aw1JREFUaN7Vmtly4yAQRWGGfef/f3awYkuCxrJoKQnDU1Jlqfr0ekEQgl2RIh803pDZlo3oRymb\n",
       "DSf61dU2BCuGHtZsLhin1j9VyTijxnC8nQkmydX6sHCFQW9LNxEN24pGLSlHcxqLrZyndFzebMlL\n",
       "0og86Gw2T67JLTQpxy+aMNjXBoP5fUvvQrPSjDbsaYKjPLlOs3fJby6aKbmcaaXgwhQ0VlZGPbuA\n",
       "Hn2NV3P0AAvTzo0XtZuiDzTN+Gt6xnFHmylSLTTlqwqckQLRTHgnYD8dLy4bH9sYPAKG+HzjNgNd\n",
       "Nhy7r2nEdugUDoomKMayVBwxwUzGbmxase06aghBI5aJYWIOHjNtNLLeWrHdm1HjNJp4/XQOgkZn\n",
       "pJgHYttkO05jAlNlrT7Rhrzq2CJoQhY4Gii2Mx+mEUzXHdWS5FfQRZyUnpRcsGvc652Xq2NhkUOv\n",
       "I4EkO6YBhpHETdtZCK3q2JT/tNJErgOwmYT1EYv/rBYt2y3/Xp4qdUgDDSO89aSIxFV1HJf0KTEQ\n",
       "b2iMTx+mxFBsdjTykAYaZkBqFhpa0Txc7auf/f2jqiX3ormmybs1nGnsmAYaRuXLJLbxCTAxZNUr\n",
       "2wTw9IbYdMT2BxpomIBdixnigd/E0xc9GpvIGI3dB5a/F9vqI01jmIGFpuNG8/idTkt2kvCGRoSm\n",
       "pyH3jFBsf+gC0LDXoKxko6ZPA6kyxVl6EZJpM7o2vzHeorclQGwfd+iOYSU4cB55zwuvofzRvQ0P\n",
       "0cQYzuoV9PSEYvt4enYNSwweEgurcpYepb51vku0o5QNcZ7tlc3lMw5905vuUZ1XPRpvetNNO4Jf\n",
       "2q3BCky/T8PlTS/qTa7w0zTNKQcUuj8e5PtOoDpC9786gapPB6HQPd/qp/hKUJ3cQqF7umzmOLml\n",
       "rRqQqJS5rdNfXMoeCd3TiTbJt0KdD4XuucU8mWRtqdUTuifTdZYvhcTJQ6F7agZPdGOAXa1gOtEX\n",
       "dpLkxTxRM91+IO7aBsNOdTPloj1usltDpYzxKmu+G10lOujbdvzbYP4BwIghZ5yQVTUAAAAASUVO\n",
       "RK5CYII=\n",
       "\" style=\"display:inline;vertical-align:middle;\" /></a><br>"
      ],
      "text/plain": [
       "expr: x -> ((0 / x) = 0) | x in Complexes"
      ]
     },
     "execution_count": 2,
     "metadata": {},
     "output_type": "execute_result"
    }
   ],
   "source": [
    "# build up the expression from sub-expressions\n",
    "expr = Lambda(x, Equals(frac(zero, x), zero), conditions = [InSet(x, Complexes)])"
   ]
  },
  {
   "cell_type": "code",
   "execution_count": 3,
   "metadata": {},
   "outputs": [
    {
     "name": "stdout",
     "output_type": "stream",
     "text": [
      "Passed sanity check: built 'expr' is the same as the stored Expression.\n"
     ]
    }
   ],
   "source": [
    "# check that the built expression is the same as the stored expression\n",
    "%check_expr"
   ]
  },
  {
   "cell_type": "code",
   "execution_count": 4,
   "metadata": {},
   "outputs": [
    {
     "data": {
      "text/html": [
       "<table><tr><th>&nbsp;</th><th>core type</th><th>sub-expressions</th><th>expression</th></tr>\n",
       "<tr><td>0</td><td>Lambda</td><td>parameter:&nbsp;13<br>body:&nbsp;1<br>conditions:&nbsp;2<br></td><td><a class=\"ProveItLink\" href=\"expr.ipynb\"><img src=\"data:image/png;base64,iVBORw0KGgoAAAANSUhEUgAAAM0AAAAyCAMAAADIpq+XAAAANlBMVEX///+6uroUFBQNDQ0yMjJE\n",
       "RETMzMwQEBAiIiKYmJju7u5mZmaqqqpUVFSIiIh2dnbc3NwAAACltDI1AAAAAXRSTlMAQObYZgAA\n",
       "Aw1JREFUaN7Vmtly4yAQRWGGfef/f3awYkuCxrJoKQnDU1Jlqfr0ekEQgl2RIh803pDZlo3oRymb\n",
       "DSf61dU2BCuGHtZsLhin1j9VyTijxnC8nQkmydX6sHCFQW9LNxEN24pGLSlHcxqLrZyndFzebMlL\n",
       "0og86Gw2T67JLTQpxy+aMNjXBoP5fUvvQrPSjDbsaYKjPLlOs3fJby6aKbmcaaXgwhQ0VlZGPbuA\n",
       "Hn2NV3P0AAvTzo0XtZuiDzTN+Gt6xnFHmylSLTTlqwqckQLRTHgnYD8dLy4bH9sYPAKG+HzjNgNd\n",
       "Nhy7r2nEdugUDoomKMayVBwxwUzGbmxase06aghBI5aJYWIOHjNtNLLeWrHdm1HjNJp4/XQOgkZn\n",
       "pJgHYttkO05jAlNlrT7Rhrzq2CJoQhY4Gii2Mx+mEUzXHdWS5FfQRZyUnpRcsGvc652Xq2NhkUOv\n",
       "I4EkO6YBhpHETdtZCK3q2JT/tNJErgOwmYT1EYv/rBYt2y3/Xp4qdUgDDSO89aSIxFV1HJf0KTEQ\n",
       "b2iMTx+mxFBsdjTykAYaZkBqFhpa0Txc7auf/f2jqiX3ormmybs1nGnsmAYaRuXLJLbxCTAxZNUr\n",
       "2wTw9IbYdMT2BxpomIBdixnigd/E0xc9GpvIGI3dB5a/F9vqI01jmIGFpuNG8/idTkt2kvCGRoSm\n",
       "pyH3jFBsf+gC0LDXoKxko6ZPA6kyxVl6EZJpM7o2vzHeorclQGwfd+iOYSU4cB55zwuvofzRvQ0P\n",
       "0cQYzuoV9PSEYvt4enYNSwweEgurcpYepb51vku0o5QNcZ7tlc3lMw5905vuUZ1XPRpvetNNO4Jf\n",
       "2q3BCky/T8PlTS/qTa7w0zTNKQcUuj8e5PtOoDpC9786gapPB6HQPd/qp/hKUJ3cQqF7umzmOLml\n",
       "rRqQqJS5rdNfXMoeCd3TiTbJt0KdD4XuucU8mWRtqdUTuifTdZYvhcTJQ6F7agZPdGOAXa1gOtEX\n",
       "dpLkxTxRM91+IO7aBsNOdTPloj1usltDpYzxKmu+G10lOujbdvzbYP4BwIghZ5yQVTUAAAAASUVO\n",
       "RK5CYII=\n",
       "\" style=\"display:inline;vertical-align:middle;\" /></a></td></tr>\n",
       "<tr><td>1</td><td>Operation</td><td>operator:&nbsp;3<br>operands:&nbsp;4<br></td><td><a class=\"ProveItLink\" href=\"../615dad4a1e52256ea4bea63d2ae36da619c31b280/expr.ipynb\"><img src=\"data:image/png;base64,iVBORw0KGgoAAAANSUhEUgAAADQAAAAqBAMAAAAOimUzAAAAMFBMVEX///9EREQQEBCYmJh2dnaq\n",
       "qqrc3NxUVFQyMjK6uroiIiLMzMyIiIhmZmbu7u4AAADSWfX9AAAAAXRSTlMAQObYZgAAAKxJREFU\n",
       "OMtjYHh75jYDDrCS4dUG7DI8Cxh4GrBLcRUwcH7DLsV/gYH7K3apfAcG7j+4pb6QJfUHtzM+43Q8\n",
       "6zecXmZZgCOgljI8whFQDG99qhlIAYMzOng7wKCAmOj4DwbkRwfvKjAQGBTRQVOQcjz17AGsMnwO\n",
       "zIuZsHuPhYHnAyt27/ExsAvgtIzpAE6p/A0MD7BKMCecZ+DBLhVvIMSQg924h0ee+BhglQEAe/FO\n",
       "t18Iq4IAAAAASUVORK5CYII=\n",
       "\" style=\"display:inline;vertical-align:middle;\" /></a></td></tr>\n",
       "<tr><td>2</td><td>ExprTuple</td><td>5</td><td><a class=\"ProveItLink\" href=\"../5a8e6198b288b6e9759455d9bc8dcc166fdfb4880/expr.ipynb\"><img src=\"data:image/png;base64,iVBORw0KGgoAAAANSUhEUgAAAEAAAAAVBAMAAAAEBPWpAAAAMFBMVEX////c3NwiIiJERESqqqqY\n",
       "mJh2dnZmZmYQEBDu7u4yMjJUVFTMzMyIiIi6uroAAAAs73DqAAAAAXRSTlMAQObYZgAAATVJREFU\n",
       "KM9jYCAI+C7glmN9ACROY5e7tOqHcgFDDZC1Eqv8uX8M0/5uYOBiYODFagMrdwADg/8GBtYEBo4J\n",
       "SOKct5SUFoAYkRxAgn0DA2cDwytkjacioYwCaZByoOEmDGVAlthtkesgmxgtYSYVPIOy0hmWArkJ\n",
       "rKocCkAeswBUmCfBFcryYuhjYGBj4P3AcgDIm8wAV/AUynrB8A9oAgO3AYSnpARxJKfBMaiC8yAF\n",
       "DAwcEL8iwmwlN1xBC4iSP8AA8u0kuIIwsIIJICtMgaEicJ+BF6QAFDoQwBwHNJNPk4EhCugPBv8A\n",
       "CwZZsO/04Ebstp0wz3gCyJuPgI6/Ni0XoleqBu6Pov/doKhcx8AhgByU3osgQQ0P+wZQdOABbBdw\n",
       "RTcUzAJiaXwKNoJiCE+S4z3AAAC65Ec0MB1m6wAAAABJRU5ErkJggg==\n",
       "\" style=\"display:inline;vertical-align:middle;\" /></a></td></tr>\n",
       "<tr><td>3</td><td>Literal</td><td></td><td><a class=\"ProveItLink\" href=\"../../../../logic/equality/__pv_it/2fb26078095930560931daa0500ce419a39ea6cd0/expr.ipynb\"><img src=\"data:image/png;base64,iVBORw0KGgoAAAANSUhEUgAAAA4AAAAFBAMAAACHocAhAAAAFVBMVEX///9EREQiIiJUVFQyMjJm\n",
       "ZmYAAADubVkoAAAAAXRSTlMAQObYZgAAABRJREFUCNdjCHEBAWcGXCBICQQUAUpuAwlgGKrkAAAA\n",
       "AElFTkSuQmCC\n",
       "\" style=\"display:inline;vertical-align:middle;\" /></a></td></tr>\n",
       "<tr><td>4</td><td>ExprTuple</td><td>6, 12</td><td><a class=\"ProveItLink\" href=\"../7e5ffa012d14d627ee84d75fc23ce046db20d7bc0/expr.ipynb\"><img src=\"data:image/png;base64,iVBORw0KGgoAAAANSUhEUgAAADsAAAAyBAMAAAAQBL5IAAAAMFBMVEX///9ERESIiIiYmJju7u4y\n",
       "MjLMzMwQEBDc3NwiIiKqqqpUVFRmZma6urp2dnYAAACcPvpdAAAAAXRSTlMAQObYZgAAAfZJREFU\n",
       "OMt9VDtPAkEQ/rw7QEAesbElJhZGIjTWQGWMRCnstOAfiBbGGKPE0kLPmFhoTGiMscLKlouFdkBn\n",
       "yYXOjqgFGqPui8fuHk4xM5fvdt4zAKFoExotZ/tqXUcRWetp0XvCrMdkUcIXesodZcGmdSHBYYfL\n",
       "8R3KZ4EZ2fweFz6X8iugVZbgWx5clYlvYLMiwT5u/YB5+CFwQo69S7n50Ydd2fkGC/l+FJyhXlvN\n",
       "EcYRo9/PXKehpWU4bBO2z3WSWFVODCESm/+L66Qsr0rZrTfA+OB6sGLtqG05A8ZK4tf6XFGFa0Ag\n",
       "rjczP/3EZKqMVVeHr7HELFUraKU11LBhFKhCCpGpaDCpI6/3qoOUFhBijkg3FkejrMGnLvxvVAkU\n",
       "UMt6wj/Mi01zGw2XevAvI8W4r+T1mob2PhomiYW6wnhDDi3LyxK1RWhyYtYn5ZdYLIrE5LJYh/Tv\n",
       "fPsBoiwZeTsjw8ZIUZWWmMMfpCVKQyWYNFQZB2mWyTj0hsmLaoNRPJk7TiprgK3+IFuueR6w9UEW\n",
       "axCF0Qkpk2F2+0tkIayNLFuilngTSGidozkHxYk5LSLrscBmh/kpp2Ao8Drj26xA6SkcweN44Jay\n",
       "3PxKW1mIMWfocOn0wn2N73rDl0LeeKITjqpINHg0+e/BxoTHuc+xwP4AT0yKU0YMV5EAAAAASUVO\n",
       "RK5CYII=\n",
       "\" style=\"display:inline;vertical-align:middle;\" /></a></td></tr>\n",
       "<tr><td>5</td><td>Operation</td><td>operator:&nbsp;7<br>operands:&nbsp;8<br></td><td><a class=\"ProveItLink\" href=\"../a1ab8e6c14fa7d97c10d512393343c354ee536080/expr.ipynb\"><img src=\"data:image/png;base64,iVBORw0KGgoAAAANSUhEUgAAADQAAAAPBAMAAABZ6/G2AAAAMFBMVEX///+6uroyMjJERETMzMwQ\n",
       "EBAiIiKYmJju7u5mZmaqqqpUVFSIiIh2dnbc3NwAAAAWgogoAAAAAXRSTlMAQObYZgAAAMxJREFU\n",
       "GNNjYMAGjil9TZ6AVcbxI0Pvnw3YZNi5CxgY1iNLcRxKS1MAMSpYgQQnspRTBZQx4TVI4QEGhren\n",
       "X50EUgx8FjDdE2ShjAvs6awJQAbzA6gUy4XlEAYvA88HLgcgo5kBLiUO1cXAbQBmiKalQZzBYeAL\n",
       "U8V6AEx5w92jwQ1jvXdgaABSbXCpWrBUAwP7g/MMPCApkD8hgLkQaA5jBsP6AlOGN2BLE+Hadts0\n",
       "NBo3MDSf7b0DUf9oCtyN0/5HC6CE3Wo1SEBBAQCOCzKzGibs5AAAAABJRU5ErkJggg==\n",
       "\" style=\"display:inline;vertical-align:middle;\" /></a></td></tr>\n",
       "<tr><td>6</td><td>Operation</td><td>operator:&nbsp;9<br>operands:&nbsp;10<br></td><td><a class=\"ProveItLink\" href=\"../d036a71bb994f6f5f90e2990f330290dac88da230/expr.ipynb\"><img src=\"data:image/png;base64,iVBORw0KGgoAAAANSUhEUgAAAAwAAAAqBAMAAAB1rqf/AAAAMFBMVEX///9EREQQEBCYmJh2dnaq\n",
       "qqrc3NxUVFQyMjK6uroiIiLMzMyIiIhmZmbu7u4AAADSWfX9AAAAAXRSTlMAQObYZgAAAItJREFU\n",
       "GNNjYOC7c3YDAwMD1wS+1UDqFAPDCSC1nIFhfgIDw18Ghv0BDGxfgNQBCOWAQh2AKDEAa4hPAGv3\n",
       "AhkWwKcNpPiuHAcZTSb4DwYMVAIpx1PPHmDgc2BezLSAgYWB5wPrBgY+BnYBsCTTATCVv4HhAQNz\n",
       "wnkGngcM8QZCDDkMDA+PPPExYAAAXskurcnjfMAAAAAASUVORK5CYII=\n",
       "\" style=\"display:inline;vertical-align:middle;\" /></a></td></tr>\n",
       "<tr><td>7</td><td>Literal</td><td></td><td><a class=\"ProveItLink\" href=\"../../../../logic/set_theory/membership/__pv_it/088cbc857536a28d4119ad9639a84270ccb0545d0/expr.ipynb\"><img src=\"data:image/png;base64,iVBORw0KGgoAAAANSUhEUgAAAAwAAAAMBAMAAACkW0HUAAAALVBMVEX///+qqqpmZmZUVFQQEBC6\n",
       "urpERETc3NyYmJjMzMwiIiIyMjKIiIju7u4AAACYsrA9AAAAAXRSTlMAQObYZgAAADxJREFUCNdj\n",
       "YOA9vWrVBgaG2b0MQMCeCyIZ2ArA1DUwyRCyahVIyWQI7xaEYm4AU7xLIdxqTQgtvGvVBgCkcQ7e\n",
       "geM/tQAAAABJRU5ErkJggg==\n",
       "\" style=\"display:inline;vertical-align:middle;\" /></a></td></tr>\n",
       "<tr><td>8</td><td>ExprTuple</td><td>13, 11</td><td><a class=\"ProveItLink\" href=\"../825ea3ea1d551796a2a192c7dc817a686bc4aae80/expr.ipynb\"><img src=\"data:image/png;base64,iVBORw0KGgoAAAANSUhEUgAAADAAAAAVBAMAAADyTXAxAAAAMFBMVEX////c3NwiIiJERESqqqqY\n",
       "mJh2dnZmZmYQEBDu7u4yMjJUVFTMzMyIiIi6uroAAAAs73DqAAAAAXRSTlMAQObYZgAAARdJREFU\n",
       "KM9jYMAJ+C5girE+ABKnUcUurfqhXMBQA2StRBE/949h2t8NDFwMDLwoJrFyBzAw+G9gYE1g4JiA\n",
       "LBHJASTYNzBwNjC8QjGpQBpIcAINMWEoA7LEbotcB5vIWfAMqiKdYSmQm8CqyqEA4vIkuEIlvBj6\n",
       "GBjYGHg/sByASDyFSrxg+AfUwcBtAOFyGhyDSpwHSTAwcMDcvJIbLtECouQPMEBcHQaWmAAyyhTo\n",
       "K4H7DLwTwFLMcUC9fJoMDFFAdzH4B1gwyDJwfgIp3m07YZ7xBJBzHzEwTL42LTeAgbNfAOSuov/d\n",
       "oKBdx8AhAA9/AUQIAIMEGFywAEQKGrYLSMGOLDELiKVhHOTw3wjEjFiilvcAAwBMvUBRXVWnZwAA\n",
       "AABJRU5ErkJggg==\n",
       "\" style=\"display:inline;vertical-align:middle;\" /></a></td></tr>\n",
       "<tr><td>9</td><td>Literal</td><td></td><td><a class=\"ProveItLink\" href=\"../089f5ca61fe425d4f6ef7efa2138c1a2fa47180c0/expr.ipynb\"><img src=\"data:image/png;base64,iVBORw0KGgoAAAANSUhEUgAAAA4AAAAMBAMAAACgrpHpAAAAIVBMVEX///9ERERmZmbc3NwQEBAi\n",
       "IiKqqqrMzMx2dnaIiIgAAACeyUhQAAAAAXRSTlMAQObYZgAAACJJREFUCNdjYGBgmMEABuyrEiCM\n",
       "EAMG3EA1FAQCsUlhMwcALk0GeoeEfOIAAAAASUVORK5CYII=\n",
       "\" style=\"display:inline;vertical-align:middle;\" /></a></td></tr>\n",
       "<tr><td>10</td><td>ExprTuple</td><td>12, 13</td><td><a class=\"ProveItLink\" href=\"../f6a2be2f6af2edb5f2690181669c831f8bf0db2c0/expr.ipynb\"><img src=\"data:image/png;base64,iVBORw0KGgoAAAANSUhEUgAAACwAAAAVBAMAAADP3xFXAAAAMFBMVEX////c3NwiIiJERESqqqqY\n",
       "mJh2dnZmZmYQEBDu7u4yMjJUVFTMzMyIiIi6uroAAAAs73DqAAAAAXRSTlMAQObYZgAAAQNJREFU\n",
       "GNNjYMAB+C6gi7A+ABKnGRim361BEQfxVjIw6DFMOoAszMXAwHuBgVeBgXcBiikJDBwTGJg2MPB9\n",
       "RBbmbGB4xcDAX8DA8wXFcBOGMgYG+QQGnr8QvthtketAl6UzLIUIf4PoTmBV5VBgYPBi6EMWZmPg\n",
       "/cACdNQLhn/IhnAycBuA6PMgYZCVX6GWcVyACLcwgBzIAnOg/AGGCSBDTBlA3mFTAPEYWAXuM/AC\n",
       "GVFAtzAwqDDMOMD5CcjwD7BgkGUAOfARkJyeu4eBs1+AgWHytWm5AUCBdQwcArAAFkD2PDBYoOGD\n",
       "8DvbBXDAogvPAmJpKBspkjYCMSNGpPEeYAAAkIc8ZGiP5oAAAAAASUVORK5CYII=\n",
       "\" style=\"display:inline;vertical-align:middle;\" /></a></td></tr>\n",
       "<tr><td>11</td><td>Literal</td><td></td><td><a class=\"ProveItLink\" href=\"../../../sets/complex/__pv_it/c357845f93a5a2d9f649129d299e7ec28dda4b960/expr.ipynb\"><img src=\"data:image/png;base64,iVBORw0KGgoAAAANSUhEUgAAAA8AAAAOBAMAAAACpFvcAAAAMFBMVEX////c3NyqqqqYmJhUVFR2\n",
       "dnbu7u66urrMzMxmZmZEREQQEBAyMjIiIiKIiIgAAAB7fvZ0AAAAAXRSTlMAQObYZgAAAGVJREFU\n",
       "CNdjYGDgu3N+70oGBgaO+gK2+CdAhoEzAwPTFwYG5oQNQN4UBgZORgcgI4+BIZM9gAEMWpkMoAx2\n",
       "KCOLAyrFk+AAYTAHgBhsQLy4DkjUJjAwsHg9Y6taBpLsvP/bnYEBACkBFGQfBv8RAAAAAElFTkSu\n",
       "QmCC\n",
       "\" style=\"display:inline;vertical-align:middle;\" /></a></td></tr>\n",
       "<tr><td>12</td><td>Literal</td><td></td><td><a class=\"ProveItLink\" href=\"../../../numeral/__pv_it/ec23fc7a1b4222a5f4948b495002b97d6fa18c3c0/expr.ipynb\"><img src=\"data:image/png;base64,iVBORw0KGgoAAAANSUhEUgAAAAoAAAAOBAMAAADkjZCYAAAALVBMVEX///8QEBCYmJh2dnaqqqrc\n",
       "3NxUVFQyMjK6uroiIiLMzMyIiIhmZmbu7u4AAAAZjyHdAAAAAXRSTlMAQObYZgAAAEpJREFUCNdj\n",
       "YLiz+xQDA8MMhpsLGLgnMHAXMHAmMHA8ZeA7wMD1hCHOgIHrNZh8jES+Bss+AqlkeQrSxTyBgWEK\n",
       "w8UFDAx3rLMYAMCjFldHSx/9AAAAAElFTkSuQmCC\n",
       "\" style=\"display:inline;vertical-align:middle;\" /></a></td></tr>\n",
       "<tr><td>13</td><td>Variable</td><td></td><td><a class=\"ProveItLink\" href=\"../../../../__pv_it/530be409e3083890784cf1d7b28c9e67e90af9360/expr.ipynb\"><img src=\"data:image/png;base64,iVBORw0KGgoAAAANSUhEUgAAAAsAAAAJBAMAAAAWSsseAAAAKlBMVEX///9ERETMzMwQEBAiIiKY\n",
       "mJju7u5mZmaqqqpUVFSIiIh2dnbc3NwAAAA/vyDhAAAAAXRSTlMAQObYZgAAAENJREFUCNdjYDi9\n",
       "8sTyBQxsG1hdmR0YuBm4LnAoMLAxcAowgADzAjB1VoEhgYH1wFoGrgSG3gBhhlMMDImrs3cFMAAA\n",
       "t0YN+iTRa+sAAAAASUVORK5CYII=\n",
       "\" style=\"display:inline;vertical-align:middle;\" /></a></td></tr>\n",
       "</table>\n"
      ],
      "text/plain": [
       "0. x -> ((0 / x) = 0) | x in Complexes\n",
       "   core type: Lambda\n",
       "   parameter: 13\n",
       "   body: 1\n",
       "   conditions: 2\\n1. (0 / x) = 0\n",
       "   core type: Operation\n",
       "   operator: 3\n",
       "   operands: 4\n",
       "2. (x in Complexes)\n",
       "   core type: ExprTuple\n",
       "   sub-expressions: 5\n",
       "3. =\n",
       "   core type: Literal\n",
       "   sub-expressions: \n",
       "4. (0 / x , 0)\n",
       "   core type: ExprTuple\n",
       "   sub-expressions: 6, 12\n",
       "5. x in Complexes\n",
       "   core type: Operation\n",
       "   operator: 7\n",
       "   operands: 8\n",
       "6. 0 / x\n",
       "   core type: Operation\n",
       "   operator: 9\n",
       "   operands: 10\n",
       "7. in\n",
       "   core type: Literal\n",
       "   sub-expressions: \n",
       "8. (x , Complexes)\n",
       "   core type: ExprTuple\n",
       "   sub-expressions: 13, 11\n",
       "9. /\n",
       "   core type: Literal\n",
       "   sub-expressions: \n",
       "10. (0 , x)\n",
       "    core type: ExprTuple\n",
       "    sub-expressions: 12, 13\n",
       "11. Complexes\n",
       "    core type: Literal\n",
       "    sub-expressions: \n",
       "12. 0\n",
       "    core type: Literal\n",
       "    sub-expressions: \n",
       "13. x\n",
       "    core type: Variable\n",
       "    sub-expressions: "
      ]
     },
     "execution_count": 4,
     "metadata": {},
     "output_type": "execute_result"
    }
   ],
   "source": [
    "# display the expression information\n",
    "expr.exprInfo()"
   ]
  },
  {
   "cell_type": "code",
   "execution_count": null,
   "metadata": {},
   "outputs": [],
   "source": []
  }
 ],
 "metadata": {
  "kernelspec": {
   "display_name": "Python 3",
   "language": "python",
   "name": "python3"
  }
 },
 "nbformat": 4,
 "nbformat_minor": 0
}
