{
 "cells": [
  {
   "cell_type": "markdown",
   "metadata": {},
   "source": [
    "Expression of type <a class=\"ProveItLink\" href=\"../../../../../../doc/html/api/proveit.number.Div.html\">Div</a>\n",
    "=======================\n",
    "# from context <a class=\"ProveItLink\" href=\"../../_context_.ipynb\">proveit.number.division</a>"
   ]
  },
  {
   "cell_type": "code",
   "execution_count": 1,
   "metadata": {},
   "outputs": [],
   "source": [
    "# import Expression classes needed to build the expression\n",
    "from proveit._common_ import w, x, y, z\n",
    "from proveit.number import Add, Neg, frac"
   ]
  },
  {
   "cell_type": "code",
   "execution_count": 2,
   "metadata": {},
   "outputs": [
    {
     "data": {
      "text/html": [
       "<strong id=\"expr\">expr:</strong> <a class=\"ProveItLink\" href=\"expr.ipynb\"><img src=\"data:image/png;base64,iVBORw0KGgoAAAANSUhEUgAAADUAAAApBAMAAABn3HyjAAAAMFBMVEX///+6uroyMjJERETMzMwQ\n",
       "EBAiIiKYmJju7u5mZmaqqqpUVFSIiIh2dnbc3NwAAAAWgogoAAAAAXRSTlMAQObYZgAAASZJREFU\n",
       "OMtjYHh7+tXJAwzIgOPmBYYihtIHDBwX2NNZE1DkOBk/MFgzrF/AwMvA84HLAUXOizOB4TsDswMD\n",
       "BwO3AVjkURoIJAJZDawHWP4BNQEBK6ptQCDfwBMAkXvvwNCAKjeJgXkDwysGBvYH5xl40OSsGdgu\n",
       "MABNW19gyvAGzczLDK4T+AoYGJrP9t4pQJPjvHPC9jjD8Af/cYIPDKMAJxAN5ENNor1zGfh+gFl8\n",
       "5icnoyq+IA/MCJBsw8CxA0WKZcE0BmYDKOc1WLsaOEMIgBTHMPBDbWGcgOYArh8M/tCstRbdcZwK\n",
       "DEehqi4wcKPKMU0AZgkwcKosV0TTt4HxO4Q1gf3rAlQ5DpuT/3AHB28CLpltDK0LcMnlMtjiNHHN\n",
       "SQEQBQBBHGJlFi0hWwAAAABJRU5ErkJggg==\n",
       "\" style=\"display:inline;vertical-align:middle;\" /></a><br>"
      ],
      "text/plain": [
       "expr: (x - w) / (z - y)"
      ]
     },
     "execution_count": 2,
     "metadata": {},
     "output_type": "execute_result"
    }
   ],
   "source": [
    "# build up the expression from sub-expressions\n",
    "expr = frac(Add(x, Neg(w)), Add(z, Neg(y)))"
   ]
  },
  {
   "cell_type": "code",
   "execution_count": 3,
   "metadata": {},
   "outputs": [
    {
     "name": "stdout",
     "output_type": "stream",
     "text": [
      "Passed sanity check: built 'expr' is the same as the stored Expression.\n"
     ]
    }
   ],
   "source": [
    "# check that the built expression is the same as the stored expression\n",
    "%check_expr"
   ]
  },
  {
   "cell_type": "code",
   "execution_count": 4,
   "metadata": {},
   "outputs": [
    {
     "data": {
      "text/html": [
       "<table><tr><th>&nbsp;</th><th>core type</th><th>sub-expressions</th><th>expression</th></tr>\n",
       "<tr><td>0</td><td>Operation</td><td>operator:&nbsp;1<br>operands:&nbsp;2<br></td><td><a class=\"ProveItLink\" href=\"expr.ipynb\"><img src=\"data:image/png;base64,iVBORw0KGgoAAAANSUhEUgAAADUAAAApBAMAAABn3HyjAAAAMFBMVEX///+6uroyMjJERETMzMwQ\n",
       "EBAiIiKYmJju7u5mZmaqqqpUVFSIiIh2dnbc3NwAAAAWgogoAAAAAXRSTlMAQObYZgAAASZJREFU\n",
       "OMtjYHh7+tXJAwzIgOPmBYYihtIHDBwX2NNZE1DkOBk/MFgzrF/AwMvA84HLAUXOizOB4TsDswMD\n",
       "BwO3AVjkURoIJAJZDawHWP4BNQEBK6ptQCDfwBMAkXvvwNCAKjeJgXkDwysGBvYH5xl40OSsGdgu\n",
       "MABNW19gyvAGzczLDK4T+AoYGJrP9t4pQJPjvHPC9jjD8Af/cYIPDKMAJxAN5ENNor1zGfh+gFl8\n",
       "5icnoyq+IA/MCJBsw8CxA0WKZcE0BmYDKOc1WLsaOEMIgBTHMPBDbWGcgOYArh8M/tCstRbdcZwK\n",
       "DEehqi4wcKPKMU0AZgkwcKosV0TTt4HxO4Q1gf3rAlQ5DpuT/3AHB28CLpltDK0LcMnlMtjiNHHN\n",
       "SQEQBQBBHGJlFi0hWwAAAABJRU5ErkJggg==\n",
       "\" style=\"display:inline;vertical-align:middle;\" /></a></td></tr>\n",
       "<tr><td>1</td><td>Literal</td><td></td><td><a class=\"ProveItLink\" href=\"../089f5ca61fe425d4f6ef7efa2138c1a2fa47180c0/expr.ipynb\"><img src=\"data:image/png;base64,iVBORw0KGgoAAAANSUhEUgAAAA4AAAAMBAMAAACgrpHpAAAAIVBMVEX///9ERERmZmbc3NwQEBAi\n",
       "IiKqqqrMzMx2dnaIiIgAAACeyUhQAAAAAXRSTlMAQObYZgAAACJJREFUCNdjYGBgmMEABuyrEiCM\n",
       "EAMG3EA1FAQCsUlhMwcALk0GeoeEfOIAAAAASUVORK5CYII=\n",
       "\" style=\"display:inline;vertical-align:middle;\" /></a></td></tr>\n",
       "<tr><td>2</td><td>ExprTuple</td><td>3, 4</td><td><a class=\"ProveItLink\" href=\"../2d84a015e1616cf644ed7d2963401b7a5240674f0/expr.ipynb\"><img src=\"data:image/png;base64,iVBORw0KGgoAAAANSUhEUgAAAHkAAAAVBAMAAACQ4lxbAAAAMFBMVEX////c3NwiIiJERESqqqqY\n",
       "mJh2dnZmZmYQEBDu7u4yMjJUVFTMzMyIiIi6uroAAAAs73DqAAAAAXRSTlMAQObYZgAAAYpJREFU\n",
       "OMulU79LAnEU/+jd6Zl3IiQNhShBawRRBC5Ord4UIVRHDU6CSwUG5eDQFAdCCA25SLT5Jzg0BC23\n",
       "VESJV0vQog5tFb2vB8F9zwy+veH7/b734fN+fN97wP8kZgsSN9lxIxo23KbjUjjrBqDbwuw1QLWE\n",
       "2XXgTfy/pSz26Jp6TNx7C4gUTOSxHne7cuwkfWjKQqiEJimmMqemvf8Z6yODXHaoTG7sL3jQEKFd\n",
       "QG7ghBTofbntwa/CabxDco0Wziwfukg5VfBFsRF1fU/PMplnBNXWBuTWlUDLh+IT0PqMTR/va1vP\n",
       "0is/7FcezVnax5BdZVqqDa5xZUgtJNy3bPLsMsg3y3wJUOJd6Bw7g6AJm4oiWQVaXvSC+YbSQIHy\n",
       "MFaQ5Lzv4LoUMHBOrdCau3nHix6gZ4B17AWo3Z0WDX4Fig/LtzROA3piq8qhtc4RjcKEAzU+dp6e\n",
       "f7Fvu5OqmGPZxihjNB1h2RT/3NCR7KApUcwIbShmxpH1kVa5c8gyYDUHRBf8CfgG13NZLl0ci20A\n",
       "AAAASUVORK5CYII=\n",
       "\" style=\"display:inline;vertical-align:middle;\" /></a></td></tr>\n",
       "<tr><td>3</td><td>Operation</td><td>operator:&nbsp;6<br>operands:&nbsp;5<br></td><td><a class=\"ProveItLink\" href=\"../99d79c7f542a812900962e2300182b563e0645660/expr.ipynb\"><img src=\"data:image/png;base64,iVBORw0KGgoAAAANSUhEUgAAADUAAAAJBAMAAABgcHmVAAAAMFBMVEX///+6uroyMjJERETMzMwQ\n",
       "EBAiIiKYmJju7u5mZmaqqqpUVFSIiIh2dnbc3NwAAAAWgogoAAAAAXRSTlMAQObYZgAAAJlJREFU\n",
       "CNdjYHh7+tXJAwzIgOPmBYYihtIHDBwX2NNZE1DkOBk/MFgzrF/AwMvA84HLAUXOizOB4TsDswMD\n",
       "BwO3AVjkURoIJAJZDawHWP4BNQEBK6ptQCDfwBMAkXvvwNCAKjeJgXkDwysGBvYH5xl40OSsGdgu\n",
       "MABNW19gyvAGzczLDK4T+AoYGJrP9t4pQJPjvHPC9jgDAwDe+SjphU2uRAAAAABJRU5ErkJggg==\n",
       "\" style=\"display:inline;vertical-align:middle;\" /></a></td></tr>\n",
       "<tr><td>4</td><td>Operation</td><td>operator:&nbsp;6<br>operands:&nbsp;7<br></td><td><a class=\"ProveItLink\" href=\"../805c37f63c699a637107c0b00ebd9f431f6db9e80/expr.ipynb\"><img src=\"data:image/png;base64,iVBORw0KGgoAAAANSUhEUgAAAC8AAAANBAMAAADLbSqiAAAAMFBMVEX///8iIiIyMjLMzMx2dnaq\n",
       "qqpUVFTu7u5mZmaYmJhERESIiIjc3NwQEBC6uroAAABuzmuqAAAAAXRSTlMAQObYZgAAAJFJREFU\n",
       "GNNjYOC7++A0AzJg93BgOF/AwHBqdscCFAkWvg8M+4F0AUNZAYqEKYcAwyoQgycBRB4SBAE5kEre\n",
       "DQy/QUIvGNBAfAHzZyDF6oAu0cTAfQFIhTAwJKBKaDBwAUWYNTsnPUCVaGN4P4GBgYNh/lU0o6p2\n",
       "9x9gwA4csYqyCbBfxSrB6MDlgFWCdXcfkAQAjb0fllvpz1kAAAAASUVORK5CYII=\n",
       "\" style=\"display:inline;vertical-align:middle;\" /></a></td></tr>\n",
       "<tr><td>5</td><td>ExprTuple</td><td>8, 9</td><td><a class=\"ProveItLink\" href=\"../10ad2d23deecaff4fedd31ef4d0b7a5aec4b44a70/expr.ipynb\"><img src=\"data:image/png;base64,iVBORw0KGgoAAAANSUhEUgAAAEEAAAAVBAMAAADrxp6XAAAAMFBMVEX////c3NwiIiJERESqqqqY\n",
       "mJh2dnZmZmYQEBDu7u4yMjJUVFTMzMyIiIi6uroAAAAs73DqAAAAAXRSTlMAQObYZgAAAR1JREFU\n",
       "KM+FkjFLAzEYhp9yl/Zie+cN6qCIIugoXQRBh/sH3uQotzkVisPNCoKTWigUxywObv0JtzvYSQUV\n",
       "xdHFIi4uYlJauZMjZkjyfXmSl/fLB/+PYGA53DPTte16LdPTlVVBgT+wErvgdazEBbzZfTgRqV7m\n",
       "HmbuimK9FKHEEVTbXIJMxKq3XCDa7zh99xNcxZnm8Idulgca0QHTMdu6Wod86zeoN8dH8ytmrEtO\n",
       "uQlJNDs0hDb013LwxT1j4tgkljKKpmuKLSrRSGUDRPiM3ykwTp81fL0Rin3YiTdZRH7kiGqzccIs\n",
       "I7ev0L3ttWLkeZhD0qeuzsHUC95vPgjLqy6SSSDKqt7K/34ZIfXvszCJytqgbpQrtgZ5hB+gaDmI\n",
       "Xccf7wAAAABJRU5ErkJggg==\n",
       "\" style=\"display:inline;vertical-align:middle;\" /></a></td></tr>\n",
       "<tr><td>6</td><td>Literal</td><td></td><td><a class=\"ProveItLink\" href=\"../../../addition/__pv_it/3e6688136fa3c7aefbebe51301b7c3ebf0b69c440/expr.ipynb\"><img src=\"data:image/png;base64,iVBORw0KGgoAAAANSUhEUgAAAA4AAAAOBAMAAADtZjDiAAAAJFBMVEX///+6urpUVFQQEBAiIiIy\n",
       "MjJmZmaIiIiqqqrc3Nzu7u4AAACgHpL+AAAAAXRSTlMAQObYZgAAAB5JREFUCNdjYGBgWMkAAe2k\n",
       "0Kmhoc6hoUGk6BMHYgAHOwjcado9fwAAAABJRU5ErkJggg==\n",
       "\" style=\"display:inline;vertical-align:middle;\" /></a></td></tr>\n",
       "<tr><td>7</td><td>ExprTuple</td><td>10, 11</td><td><a class=\"ProveItLink\" href=\"../6c91ed67d51d452091ad560b32d759c75c9f955b0/expr.ipynb\"><img src=\"data:image/png;base64,iVBORw0KGgoAAAANSUhEUgAAADsAAAAVBAMAAAAKrYvGAAAAMFBMVEX////c3NwiIiJERESqqqqY\n",
       "mJh2dnZmZmYQEBDu7u4yMjJUVFTMzMyIiIi6uroAAAAs73DqAAAAAXRSTlMAQObYZgAAARFJREFU\n",
       "KM9jYCAA+C7gkokDEadxamQ/ACRW4jZ4AQMD7wXc0mEMDBwTcEvPYGB4hcfVzA4MZSDHdzyQRRHn\n",
       "TE9gkJ/AwFbAsBTIE44tN0CRZuP7wHCfgYFlAUMfkDeBYTaqC46wKzAYA01tYPgH4jJugAgzLlIC\n",
       "gQcTOC4w/GVg4PkAkX6O7ij/CTx/wNItQA5LArp0FQNvA9hwUyDHjYFhAwMnsvRyBmagfawLGNKB\n",
       "ZiwtjXrAMF8BSbqa4X0AA8hjj4BBzxAPtGLGRyTpyXfrBRgYuB4wcAjAhB6i2J4ECVRWuLMCEHLc\n",
       "CpwgJ+ciRyiSNFMCM1AXJzBCGaShQrxIJrPcrQOZAbKXEWeE32FgAAD5zTsKdym+YwAAAABJRU5E\n",
       "rkJggg==\n",
       "\" style=\"display:inline;vertical-align:middle;\" /></a></td></tr>\n",
       "<tr><td>8</td><td>Variable</td><td></td><td><a class=\"ProveItLink\" href=\"../../../../__pv_it/530be409e3083890784cf1d7b28c9e67e90af9360/expr.ipynb\"><img src=\"data:image/png;base64,iVBORw0KGgoAAAANSUhEUgAAAAsAAAAJBAMAAAAWSsseAAAAKlBMVEX///9ERETMzMwQEBAiIiKY\n",
       "mJju7u5mZmaqqqpUVFSIiIh2dnbc3NwAAAA/vyDhAAAAAXRSTlMAQObYZgAAAENJREFUCNdjYDi9\n",
       "8sTyBQxsG1hdmR0YuBm4LnAoMLAxcAowgADzAjB1VoEhgYH1wFoGrgSG3gBhhlMMDImrs3cFMAAA\n",
       "t0YN+iTRa+sAAAAASUVORK5CYII=\n",
       "\" style=\"display:inline;vertical-align:middle;\" /></a></td></tr>\n",
       "<tr><td>9</td><td>Operation</td><td>operator:&nbsp;13<br>operand:&nbsp;12<br></td><td><a class=\"ProveItLink\" href=\"../b73efdae19dcef00f24cbbacde7e6334fde7724d0/expr.ipynb\"><img src=\"data:image/png;base64,iVBORw0KGgoAAAANSUhEUgAAAB4AAAAJBAMAAADXzYGyAAAAMFBMVEX///+IiIjMzMyqqqpUVFRE\n",
       "REQQEBCYmJhmZmZ2dnbu7u66uroiIiIyMjLc3NwAAACE6ZLwAAAAAXRSTlMAQObYZgAAAF5JREFU\n",
       "CNdjYICClZ0M7BfY82Bchob9DKwOzJ9hXCaDHgb+AoYghrdnQOA0F0Mig/4Dhglw9dy/GMQYkPgc\n",
       "FxhCGPgM4HxWB4aTDIxwLgNnAFMGw3MEn6FTcOnEAgYAyMMWVAa7lcgAAAAASUVORK5CYII=\n",
       "\" style=\"display:inline;vertical-align:middle;\" /></a></td></tr>\n",
       "<tr><td>10</td><td>Variable</td><td></td><td><a class=\"ProveItLink\" href=\"../../../../__pv_it/251502494639118b4892de8e9d720a5fcce840e10/expr.ipynb\"><img src=\"data:image/png;base64,iVBORw0KGgoAAAANSUhEUgAAAAoAAAAJBAMAAAD5iKAgAAAALVBMVEX///8yMjLMzMx2dnaqqqpU\n",
       "VFTu7u5mZmaYmJhERESIiIjc3NwQEBC6uroAAAB+iRisAAAAAXRSTlMAQObYZgAAADlJREFUCNdj\n",
       "YOA9c2EXA8POrvIJDAwJDKkJDAwM3AFAguE6iGAxAJHODAwBDEwSFY0XGNgZ+o4wAABKtAsIcBKm\n",
       "agAAAABJRU5ErkJggg==\n",
       "\" style=\"display:inline;vertical-align:middle;\" /></a></td></tr>\n",
       "<tr><td>11</td><td>Operation</td><td>operator:&nbsp;13<br>operand:&nbsp;14<br></td><td><a class=\"ProveItLink\" href=\"../f12942f22a58ef4917de814335501c65ffb60dca0/expr.ipynb\"><img src=\"data:image/png;base64,iVBORw0KGgoAAAANSUhEUgAAABoAAAANBAMAAABFt2PeAAAAMFBMVEX///+YmJhUVFQQEBBERESq\n",
       "qqrMzMyIiIhmZmZ2dnbu7u66uroiIiIyMjLc3NwAAAA74WENAAAAAXRSTlMAQObYZgAAAGJJREFU\n",
       "CNdjYICClZ0MfL9gHIYJ+xnYP8A4bAE9DCwODG/PgMBpLgZzBv4CuErWXwz5CXAexwWGYjiHgbeB\n",
       "wQnB41Dg/ojgcblX/GNAApwHEGwdhsUBCN5JBk8kdeEVGxgYAKJwF2eE/GrpAAAAAElFTkSuQmCC\n",
       "\" style=\"display:inline;vertical-align:middle;\" /></a></td></tr>\n",
       "<tr><td>12</td><td>Variable</td><td></td><td><a class=\"ProveItLink\" href=\"../../../../__pv_it/75e452494c4801e076f090988fd69716611d31190/expr.ipynb\"><img src=\"data:image/png;base64,iVBORw0KGgoAAAANSUhEUgAAAA8AAAAJBAMAAAAfoWtkAAAAMFBMVEX///+IiIgiIiLMzMyqqqpU\n",
       "VFRERES6urrc3NwQEBAyMjKYmJhmZmZ2dnbu7u4AAADdI688AAAAAXRSTlMAQObYZgAAAFRJREFU\n",
       "CNdj4LtzgWEXw84GBh72DwypDP4ODCY8Cgy/GdgMGB5wCjD/YOBlYGCof8A4Acw4xcAWwNACZKQy\n",
       "MF1gEAAyrjFYHuDYAGTwXJTLlWZgAAAtGRIpnQ418wAAAABJRU5ErkJggg==\n",
       "\" style=\"display:inline;vertical-align:middle;\" /></a></td></tr>\n",
       "<tr><td>13</td><td>Literal</td><td></td><td><a class=\"ProveItLink\" href=\"../../../negation/__pv_it/3fc7a08bb9735faa20ef8e175f6ea95511acc9c70/expr.ipynb\"><img src=\"data:image/png;base64,iVBORw0KGgoAAAANSUhEUgAAAA4AAAACBAMAAACapPCZAAAAElBMVEX///+6uroiIiIyMjLc3NwA\n",
       "AAA6l9OrAAAAAXRSTlMAQObYZgAAABBJREFUCNdjcFYCAUUGKAAADR4BD8/TF5gAAAAASUVORK5C\n",
       "YII=\n",
       "\" style=\"display:inline;vertical-align:middle;\" /></a></td></tr>\n",
       "<tr><td>14</td><td>Variable</td><td></td><td><a class=\"ProveItLink\" href=\"../../../../__pv_it/f8b9edf8e16034727f0aad55bb83e392c3db40d40/expr.ipynb\"><img src=\"data:image/png;base64,iVBORw0KGgoAAAANSUhEUgAAAAsAAAANBAMAAACN24kIAAAAMFBMVEX///+YmJhUVFQyMjIQEBBE\n",
       "REQiIiKqqqrMzMyIiIi6urrc3NxmZmZ2dnbu7u4AAADXeCicAAAAAXRSTlMAQObYZgAAAFhJREFU\n",
       "CNdj4LtzgWH/AwZerg8M8xkY2nkSGEIZGB6wTGD4ycDAUP+A4weQOszA6QCkbBhYFYDUIYb1AkDq\n",
       "6czzGxhA4BoQMyXwuQMptgusF4AU+8xTQBIAUqMVoSp/SLMAAAAASUVORK5CYII=\n",
       "\" style=\"display:inline;vertical-align:middle;\" /></a></td></tr>\n",
       "</table>\n"
      ],
      "text/plain": [
       "0. (x - w) / (z - y)\n",
       "   core type: Operation\n",
       "   operator: 1\n",
       "   operands: 2\n",
       "1. /\n",
       "   core type: Literal\n",
       "   sub-expressions: \n",
       "2. (x - w , z - y)\n",
       "   core type: ExprTuple\n",
       "   sub-expressions: 3, 4\n",
       "3. x - w\n",
       "   core type: Operation\n",
       "   operator: 6\n",
       "   operands: 5\n",
       "4. z - y\n",
       "   core type: Operation\n",
       "   operator: 6\n",
       "   operands: 7\n",
       "5. (x , -w)\n",
       "   core type: ExprTuple\n",
       "   sub-expressions: 8, 9\n",
       "6. +\n",
       "   core type: Literal\n",
       "   sub-expressions: \n",
       "7. (z , -y)\n",
       "   core type: ExprTuple\n",
       "   sub-expressions: 10, 11\n",
       "8. x\n",
       "   core type: Variable\n",
       "   sub-expressions: \n",
       "9. -w\n",
       "   core type: Operation\n",
       "   operator: 13\n",
       "   operand: 12\n",
       "10. z\n",
       "    core type: Variable\n",
       "    sub-expressions: \n",
       "11. -y\n",
       "    core type: Operation\n",
       "    operator: 13\n",
       "    operand: 14\n",
       "12. w\n",
       "    core type: Variable\n",
       "    sub-expressions: \n",
       "13. -\n",
       "    core type: Literal\n",
       "    sub-expressions: \n",
       "14. y\n",
       "    core type: Variable\n",
       "    sub-expressions: "
      ]
     },
     "execution_count": 4,
     "metadata": {},
     "output_type": "execute_result"
    }
   ],
   "source": [
    "# display the expression information\n",
    "expr.exprInfo()"
   ]
  },
  {
   "cell_type": "code",
   "execution_count": null,
   "metadata": {},
   "outputs": [],
   "source": []
  }
 ],
 "metadata": {
  "kernelspec": {
   "display_name": "Python 3",
   "language": "python",
   "name": "python3"
  }
 },
 "nbformat": 4,
 "nbformat_minor": 0
}
