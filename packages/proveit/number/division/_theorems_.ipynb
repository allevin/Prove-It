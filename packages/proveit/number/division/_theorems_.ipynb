{
 "cells": [
  {
   "cell_type": "markdown",
   "metadata": {
    "collapsed": true
   },
   "source": [
    "Theorems for context <a href=\"_context_.html\">proveit.number.division</a>\n",
    "========"
   ]
  },
  {
   "cell_type": "code",
   "execution_count": 1,
   "metadata": {},
   "outputs": [],
   "source": [
    "import proveit\n",
    "# the context is in the current directory:\n",
    "context = proveit.Context('.') # adds context root to sys.path if necessary\n",
    "from proveit.logic import Forall, InSet, Equals, NotEquals, Implies\n",
    "from proveit.number import Integers, NaturalsPos, Reals, RealsPos, Complexes\n",
    "from proveit.number import Div, Frac, Add, Subtract, Sum, Mult, Exp, zero, one\n",
    "from proveit._common_ import a, b, c, n, w, x, y, z, P, S #, wMulti, xMulti, yMulti, zMulti, wEtc, xEtc, yEtc, zEtc, PyEtc\n",
    "from proveit.number._common_ import ComplexesSansZero"
   ]
  },
  {
   "cell_type": "code",
   "execution_count": 2,
   "metadata": {},
   "outputs": [
    {
     "name": "stdout",
     "output_type": "stream",
     "text": [
      "Defining theorems for context 'proveit.number.division'\n",
      "Subsequent end-of-cell assignments will define theorems\n",
      "'%end theorems' will finalize the definitions\n"
     ]
    }
   ],
   "source": [
    "%begin theorems"
   ]
  },
  {
   "cell_type": "code",
   "execution_count": 3,
   "metadata": {},
   "outputs": [
    {
     "name": "stdout",
     "output_type": "stream",
     "text": [
      "latex() missing 1 required positional argument: 'self'\n"
     ]
    },
    {
     "data": {
      "text/plain": [
       "divideRealClosure: forall_{a, b in Reals | b != 0} ((a / b) in Reals)"
      ]
     },
     "execution_count": 3,
     "metadata": {},
     "output_type": "execute_result"
    }
   ],
   "source": [
    "divideRealClosure = Forall([a, b], InSet(Div(a, b), Reals), domain=Reals, conditions=[NotEquals(b, zero)])"
   ]
  },
  {
   "cell_type": "code",
   "execution_count": 4,
   "metadata": {},
   "outputs": [
    {
     "name": "stdout",
     "output_type": "stream",
     "text": [
      "latex() missing 1 required positional argument: 'self'\n"
     ]
    },
    {
     "data": {
      "text/plain": [
       "divideRealPosClosure: forall_{a, b in RealsPos | b != 0} ((a / b) in RealsPos)"
      ]
     },
     "execution_count": 4,
     "metadata": {},
     "output_type": "execute_result"
    }
   ],
   "source": [
    "divideRealPosClosure = Forall([a, b], InSet(Div(a, b), RealsPos), domain=RealsPos, conditions=[NotEquals(b, zero)])"
   ]
  },
  {
   "cell_type": "code",
   "execution_count": 5,
   "metadata": {},
   "outputs": [
    {
     "data": {
      "text/html": [
       "<strong id=\"fractionRealClosure\"><a class=\"ProveItLink\" href=\"_proofs_/fractionRealClosure.ipynb\">fractionRealClosure</a>:</strong> <a class=\"ProveItLink\" href=\"__pv_it/c26b2cd0da373d6af091fcb9330ea74344b6d31c0/expr.ipynb\"><img src=\"__pv_it/c26b2cd0da373d6af091fcb9330ea74344b6d31c0/expr.png\" style=\"display:inline;vertical-align:middle;\" /></a><br>(alternate proof for <a class=\"ProveItLink\" href=\"#divideRealClosure\">divideRealClosure</a>)<br>"
      ],
      "text/plain": [
       "fractionRealClosure: forall_{a, b in Reals | b != 0} ((a / b) in Reals)"
      ]
     },
     "execution_count": 5,
     "metadata": {},
     "output_type": "execute_result"
    }
   ],
   "source": [
    "fractionRealClosure = Forall([a, b], InSet(Frac(a, b), Reals), domain=Reals, conditions=[NotEquals(b, zero)])"
   ]
  },
  {
   "cell_type": "code",
   "execution_count": 6,
   "metadata": {},
   "outputs": [
    {
     "data": {
      "text/html": [
       "<strong id=\"fractionPosClosure\"><a class=\"ProveItLink\" href=\"_proofs_/fractionPosClosure.ipynb\">fractionPosClosure</a>:</strong> <a class=\"ProveItLink\" href=\"__pv_it/df58fce06f22581b11edc86d56ee20dca5911dd60/expr.ipynb\"><img src=\"__pv_it/df58fce06f22581b11edc86d56ee20dca5911dd60/expr.png\" style=\"display:inline;vertical-align:middle;\" /></a><br>(alternate proof for <a class=\"ProveItLink\" href=\"#divideRealPosClosure\">divideRealPosClosure</a>)<br>"
      ],
      "text/plain": [
       "fractionPosClosure: forall_{a, b in RealsPos | b != 0} ((a / b) in RealsPos)"
      ]
     },
     "execution_count": 6,
     "metadata": {},
     "output_type": "execute_result"
    }
   ],
   "source": [
    "fractionPosClosure = Forall([a, b], InSet(Frac(a, b), RealsPos), domain=RealsPos, conditions=[NotEquals(b, zero)])"
   ]
  },
  {
   "cell_type": "code",
   "execution_count": 7,
   "metadata": {},
   "outputs": [
    {
     "name": "stdout",
     "output_type": "stream",
     "text": [
      "latex() missing 1 required positional argument: 'self'\n"
     ]
    },
    {
     "data": {
      "text/plain": [
       "divideComplexClosure: forall_{a, b in Complexes | b != 0} ((a / b) in Complexes)"
      ]
     },
     "execution_count": 7,
     "metadata": {},
     "output_type": "execute_result"
    }
   ],
   "source": [
    "divideComplexClosure = Forall([a, b], InSet(Div(a, b), Complexes), domain=Complexes, conditions=[NotEquals(b, zero)])"
   ]
  },
  {
   "cell_type": "code",
   "execution_count": 8,
   "metadata": {},
   "outputs": [
    {
     "data": {
      "text/html": [
       "<strong id=\"fractionComplexClosure\"><a class=\"ProveItLink\" href=\"_proofs_/fractionComplexClosure.ipynb\">fractionComplexClosure</a>:</strong> <a class=\"ProveItLink\" href=\"__pv_it/2e42a57c519311133b2c9d37036af1c0a0517ad20/expr.ipynb\"><img src=\"__pv_it/2e42a57c519311133b2c9d37036af1c0a0517ad20/expr.png\" style=\"display:inline;vertical-align:middle;\" /></a><br>(alternate proof for <a class=\"ProveItLink\" href=\"#divideComplexClosure\">divideComplexClosure</a>)<br>"
      ],
      "text/plain": [
       "fractionComplexClosure: forall_{a, b in Complexes | b != 0} ((a / b) in Complexes)"
      ]
     },
     "execution_count": 8,
     "metadata": {},
     "output_type": "execute_result"
    }
   ],
   "source": [
    "fractionComplexClosure = Forall([a, b], InSet(Frac(a, b), Complexes), domain=Complexes, conditions=[NotEquals(b, zero)])"
   ]
  },
  {
   "cell_type": "code",
   "execution_count": 9,
   "metadata": {},
   "outputs": [
    {
     "data": {
      "text/html": [
       "<strong id=\"fracNotEqZero\"><a class=\"ProveItLink\" href=\"_proofs_/fracNotEqZero.ipynb\">fracNotEqZero</a>:</strong> <a class=\"ProveItLink\" href=\"__pv_it/162e5d3359f5f85c6a533a585ee18691c1cd3c530/expr.ipynb\"><img src=\"__pv_it/162e5d3359f5f85c6a533a585ee18691c1cd3c530/expr.png\" style=\"display:inline;vertical-align:middle;\" /></a><br>"
      ],
      "text/plain": [
       "fracNotEqZero: forall_{a, b in Complexes - {0}} ((a / b) != 0)"
      ]
     },
     "execution_count": 9,
     "metadata": {},
     "output_type": "execute_result"
    }
   ],
   "source": [
    "fracNotEqZero = Forall([a, b], NotEquals(Frac(a,b), zero), domain=ComplexesSansZero)"
   ]
  },
  {
   "cell_type": "code",
   "execution_count": 10,
   "metadata": {},
   "outputs": [
    {
     "data": {
      "text/html": [
       "<strong id=\"fracZeroNumer\"><a class=\"ProveItLink\" href=\"_proofs_/fracZeroNumer.ipynb\">fracZeroNumer</a>:</strong> <a class=\"ProveItLink\" href=\"__pv_it/9aeeeedbbc0a1a84a3dd370dbe56994b2467ed8c0/expr.ipynb\"><img src=\"__pv_it/9aeeeedbbc0a1a84a3dd370dbe56994b2467ed8c0/expr.png\" style=\"display:inline;vertical-align:middle;\" /></a><br>"
      ],
      "text/plain": [
       "fracZeroNumer: forall_{x in Complexes} ((0 / x) = 0)"
      ]
     },
     "execution_count": 10,
     "metadata": {},
     "output_type": "execute_result"
    }
   ],
   "source": [
    "fracZeroNumer = Forall(x, Equals(Frac(zero, x), zero), domain=Complexes)"
   ]
  },
  {
   "cell_type": "code",
   "execution_count": 11,
   "metadata": {},
   "outputs": [
    {
     "data": {
      "text/html": [
       "<strong id=\"fracOneDenom\"><a class=\"ProveItLink\" href=\"_proofs_/fracOneDenom.ipynb\">fracOneDenom</a>:</strong> <a class=\"ProveItLink\" href=\"__pv_it/c0375a320d44caf09f775bd6515a9222b76d725f0/expr.ipynb\"><img src=\"__pv_it/c0375a320d44caf09f775bd6515a9222b76d725f0/expr.png\" style=\"display:inline;vertical-align:middle;\" /></a><br>"
      ],
      "text/plain": [
       "fracOneDenom: forall_{x in Complexes} ((x / 1) = x)"
      ]
     },
     "execution_count": 11,
     "metadata": {},
     "output_type": "execute_result"
    }
   ],
   "source": [
    "fracOneDenom = Forall(x, Equals(Frac(x, one), x), domain=Complexes)"
   ]
  },
  {
   "cell_type": "code",
   "execution_count": 12,
   "metadata": {},
   "outputs": [
    {
     "data": {
      "text/plain": [
       "'\\ndistributeFractionThroughSum = Forall([xMulti, y], \\n                                      Equals(Frac(Add(xEtc), y),\\n                                             Add(Etcetera(Frac(xMulti, y)))), \\n                                      domain=Complexes, conditions=[NotEquals(y, zero)])\\n'"
      ]
     },
     "execution_count": 12,
     "metadata": {},
     "output_type": "execute_result"
    }
   ],
   "source": [
    "\"\"\"\n",
    "distributeFractionThroughSum = Forall([xMulti, y], \n",
    "                                      Equals(Frac(Add(xEtc), y),\n",
    "                                             Add(Etcetera(Frac(xMulti, y)))), \n",
    "                                      domain=Complexes, conditions=[NotEquals(y, zero)])\n",
    "\"\"\""
   ]
  },
  {
   "cell_type": "code",
   "execution_count": 13,
   "metadata": {},
   "outputs": [
    {
     "data": {
      "text/plain": [
       "'\\ndistributeFractionThroughSubtract = Forall([x, y, z], \\n                                          Equals(Frac(Sub(x, y), z),\\n                                                 Sub(Frac(x, z), Frac(y, z))), \\n                                          domain=Complexes, conditions=[NotEquals(z, zero)])\\n'"
      ]
     },
     "execution_count": 13,
     "metadata": {},
     "output_type": "execute_result"
    }
   ],
   "source": [
    "\"\"\"\n",
    "distributeFractionThroughSubtract = Forall([x, y, z], \n",
    "                                          Equals(Frac(Sub(x, y), z),\n",
    "                                                 Sub(Frac(x, z), Frac(y, z))), \n",
    "                                          domain=Complexes, conditions=[NotEquals(z, zero)])\n",
    "\"\"\""
   ]
  },
  {
   "cell_type": "code",
   "execution_count": 14,
   "metadata": {},
   "outputs": [
    {
     "data": {
      "text/plain": [
       "'\\ndistributeFractionThroughSummation = Forall([P, S],\\n                                    Implies(Forall(yMulti, InSet(PyEtc, Complexes), domain=S),\\n                                            Forall(z,\\n                                                   Equals(Frac(Sum(yMulti, PyEtc, domain=S), z),\\n                                                          Sum(yMulti, Frac(PyEtc, z), domain=S)),\\n                                                  domain=Complexes)))\\n'"
      ]
     },
     "execution_count": 14,
     "metadata": {},
     "output_type": "execute_result"
    }
   ],
   "source": [
    "\"\"\"\n",
    "distributeFractionThroughSummation = Forall([P, S],\n",
    "                                    Implies(Forall(yMulti, InSet(PyEtc, Complexes), domain=S),\n",
    "                                            Forall(z,\n",
    "                                                   Equals(Frac(Sum(yMulti, PyEtc, domain=S), z),\n",
    "                                                          Sum(yMulti, Frac(PyEtc, z), domain=S)),\n",
    "                                                  domain=Complexes)))\n",
    "\"\"\""
   ]
  },
  {
   "cell_type": "code",
   "execution_count": 15,
   "metadata": {},
   "outputs": [
    {
     "data": {
      "text/plain": [
       "'\\nfracInProd = Forall([wMulti, x, y, zMulti], Equals(Mult(wEtc, Frac(x, y), zEtc),\\n                                                   Frac(Mult(wEtc, x, zEtc), y)), domain=Complexes)\\n'"
      ]
     },
     "execution_count": 15,
     "metadata": {},
     "output_type": "execute_result"
    }
   ],
   "source": [
    "\"\"\"\n",
    "fracInProd = Forall([wMulti, x, y, zMulti], Equals(Mult(wEtc, Frac(x, y), zEtc),\n",
    "                                                   Frac(Mult(wEtc, x, zEtc), y)), domain=Complexes)\n",
    "\"\"\""
   ]
  },
  {
   "cell_type": "code",
   "execution_count": 16,
   "metadata": {},
   "outputs": [
    {
     "data": {
      "text/html": [
       "<strong id=\"prodOfFracs\"><a class=\"ProveItLink\" href=\"_proofs_/prodOfFracs.ipynb\">prodOfFracs</a>:</strong> <a class=\"ProveItLink\" href=\"__pv_it/9c7477ab95366e94aa71babe06bc9ae683486eda0/expr.ipynb\"><img src=\"__pv_it/9c7477ab95366e94aa71babe06bc9ae683486eda0/expr.png\" style=\"display:inline;vertical-align:middle;\" /></a><br>"
      ],
      "text/plain": [
       "prodOfFracs: forall_{x, y, z, w in Complexes} (((x / z) * (y / w)) = ((x * y) / (z * w)))"
      ]
     },
     "execution_count": 16,
     "metadata": {},
     "output_type": "execute_result"
    }
   ],
   "source": [
    "prodOfFracs = Forall([x, y, z, w], Equals(Mult(Frac(x, z), Frac(y, w)),\n",
    "                                           Frac(Mult(x, y), Mult(z, w))), domain=Complexes)"
   ]
  },
  {
   "cell_type": "code",
   "execution_count": 17,
   "metadata": {},
   "outputs": [
    {
     "data": {
      "text/html": [
       "<strong id=\"prodOfFracsLeftNumerOne\"><a class=\"ProveItLink\" href=\"_proofs_/prodOfFracsLeftNumerOne.ipynb\">prodOfFracsLeftNumerOne</a>:</strong> <a class=\"ProveItLink\" href=\"__pv_it/c9a66f5e0af605f7325303031478defaf1d816b30/expr.ipynb\"><img src=\"__pv_it/c9a66f5e0af605f7325303031478defaf1d816b30/expr.png\" style=\"display:inline;vertical-align:middle;\" /></a><br>"
      ],
      "text/plain": [
       "prodOfFracsLeftNumerOne: forall_{x, y, z in Complexes} (((1 / y) * (x / z)) = (x / (y * z)))"
      ]
     },
     "execution_count": 17,
     "metadata": {},
     "output_type": "execute_result"
    }
   ],
   "source": [
    "prodOfFracsLeftNumerOne = Forall([x, y, z], Equals(Mult(Frac(one, y), Frac(x, z)),\n",
    "                                                 Frac(x, Mult(y, z))), domain=Complexes)"
   ]
  },
  {
   "cell_type": "code",
   "execution_count": 18,
   "metadata": {},
   "outputs": [
    {
     "data": {
      "text/html": [
       "<strong id=\"prodOfFracsRightNumerOne\"><a class=\"ProveItLink\" href=\"_proofs_/prodOfFracsRightNumerOne.ipynb\">prodOfFracsRightNumerOne</a>:</strong> <a class=\"ProveItLink\" href=\"__pv_it/6630a299072db1bccf0d555cbb32f9546a265c960/expr.ipynb\"><img src=\"__pv_it/6630a299072db1bccf0d555cbb32f9546a265c960/expr.png\" style=\"display:inline;vertical-align:middle;\" /></a><br>"
      ],
      "text/plain": [
       "prodOfFracsRightNumerOne: forall_{x, y, z in Complexes} (((x / y) * (1 / z)) = (x / (y * z)))"
      ]
     },
     "execution_count": 18,
     "metadata": {},
     "output_type": "execute_result"
    }
   ],
   "source": [
    "prodOfFracsRightNumerOne = Forall([x, y, z], Equals(Mult(Frac(x, y), Frac(one, z)),\n",
    "                                                 Frac(x, Mult(y, z))), domain=Complexes)"
   ]
  },
  {
   "cell_type": "code",
   "execution_count": 19,
   "metadata": {},
   "outputs": [
    {
     "data": {
      "text/html": [
       "<strong id=\"fracCancelLeft\"><a class=\"ProveItLink\" href=\"_proofs_/fracCancelLeft.ipynb\">fracCancelLeft</a>:</strong> <a class=\"ProveItLink\" href=\"__pv_it/b10aa813c61b4a7942ef7e62a418bfd036a0443b0/expr.ipynb\"><img src=\"__pv_it/b10aa813c61b4a7942ef7e62a418bfd036a0443b0/expr.png\" style=\"display:inline;vertical-align:middle;\" /></a><br>"
      ],
      "text/plain": [
       "fracCancelLeft: forall_{x, y, z in Complexes | x != 0} (((x * y) / (x * z)) = (y / z))"
      ]
     },
     "execution_count": 19,
     "metadata": {},
     "output_type": "execute_result"
    }
   ],
   "source": [
    "fracCancelLeft = Forall([x,y,z],\n",
    "                   Equals(Frac(Mult(x,y),Mult(x,z)),\n",
    "                         Frac(y,z)),domain=Complexes, conditions=[NotEquals(x, zero)])"
   ]
  },
  {
   "cell_type": "code",
   "execution_count": 20,
   "metadata": {},
   "outputs": [
    {
     "data": {
      "text/html": [
       "<strong id=\"fracCancelDenomLeft\"><a class=\"ProveItLink\" href=\"_proofs_/fracCancelDenomLeft.ipynb\">fracCancelDenomLeft</a>:</strong> <a class=\"ProveItLink\" href=\"__pv_it/e013c361691167b9c766d2edc9581b8f46b62e3e0/expr.ipynb\"><img src=\"__pv_it/e013c361691167b9c766d2edc9581b8f46b62e3e0/expr.png\" style=\"display:inline;vertical-align:middle;\" /></a><br>"
      ],
      "text/plain": [
       "fracCancelDenomLeft: forall_{x, y in Complexes | x != 0} (((x * y) / x) = y)"
      ]
     },
     "execution_count": 20,
     "metadata": {},
     "output_type": "execute_result"
    }
   ],
   "source": [
    "fracCancelDenomLeft = Forall([x,y],\n",
    "                             Equals(Frac(Mult(x,y),x), y),\n",
    "                             domain=Complexes, conditions=[NotEquals(x, zero)])"
   ]
  },
  {
   "cell_type": "code",
   "execution_count": 21,
   "metadata": {},
   "outputs": [
    {
     "data": {
      "text/html": [
       "<strong id=\"fracCancelNumerLeft\"><a class=\"ProveItLink\" href=\"_proofs_/fracCancelNumerLeft.ipynb\">fracCancelNumerLeft</a>:</strong> <a class=\"ProveItLink\" href=\"__pv_it/494691f0e6153ffe059e7170cb3253940767348b0/expr.ipynb\"><img src=\"__pv_it/494691f0e6153ffe059e7170cb3253940767348b0/expr.png\" style=\"display:inline;vertical-align:middle;\" /></a><br>"
      ],
      "text/plain": [
       "fracCancelNumerLeft: forall_{x, y in Complexes | x != 0} ((x / (x * y)) = (1 / y))"
      ]
     },
     "execution_count": 21,
     "metadata": {},
     "output_type": "execute_result"
    }
   ],
   "source": [
    "fracCancelNumerLeft = Forall([x,y],\n",
    "                             Equals(Frac(x,Mult(x,y)),\n",
    "                                    Frac(one,y)),domain=Complexes, conditions=[NotEquals(x, zero)])"
   ]
  },
  {
   "cell_type": "code",
   "execution_count": 22,
   "metadata": {},
   "outputs": [
    {
     "data": {
      "text/html": [
       "<strong id=\"multFracLeftCancel\"><a class=\"ProveItLink\" href=\"_proofs_/multFracLeftCancel.ipynb\">multFracLeftCancel</a>:</strong> <a class=\"ProveItLink\" href=\"__pv_it/e20bc0141a36588ea415c1071376d8705ba525970/expr.ipynb\"><img src=\"__pv_it/e20bc0141a36588ea415c1071376d8705ba525970/expr.png\" style=\"display:inline;vertical-align:middle;\" /></a><br>"
      ],
      "text/plain": [
       "multFracLeftCancel: forall_{x, y in Complexes | y != 0} (((x / y) * y) = x)"
      ]
     },
     "execution_count": 22,
     "metadata": {},
     "output_type": "execute_result"
    }
   ],
   "source": [
    "multFracLeftCancel = Forall([x,y],\n",
    "                      Equals(Mult(Frac(x,y),y),x),\n",
    "                      domain = Complexes, conditions = [NotEquals(y, zero)])"
   ]
  },
  {
   "cell_type": "code",
   "execution_count": 23,
   "metadata": {},
   "outputs": [
    {
     "data": {
      "text/html": [
       "<strong id=\"multFracRightCancel\"><a class=\"ProveItLink\" href=\"_proofs_/multFracRightCancel.ipynb\">multFracRightCancel</a>:</strong> <a class=\"ProveItLink\" href=\"__pv_it/dfd3bae10d570b2aaf792d6f316d83939dd601790/expr.ipynb\"><img src=\"__pv_it/dfd3bae10d570b2aaf792d6f316d83939dd601790/expr.png\" style=\"display:inline;vertical-align:middle;\" /></a><br>"
      ],
      "text/plain": [
       "multFracRightCancel: forall_{x, y in Complexes | x != 0} ((x * (y / x)) = y)"
      ]
     },
     "execution_count": 23,
     "metadata": {},
     "output_type": "execute_result"
    }
   ],
   "source": [
    "multFracRightCancel = Forall([x,y],\n",
    "                             Equals(Mult(x, Frac(y, x)),y),\n",
    "                             domain = Complexes, conditions = [NotEquals(x, zero)])"
   ]
  },
  {
   "cell_type": "code",
   "execution_count": 24,
   "metadata": {},
   "outputs": [
    {
     "data": {
      "text/html": [
       "<strong id=\"fracCancelComplete\"><a class=\"ProveItLink\" href=\"_proofs_/fracCancelComplete.ipynb\">fracCancelComplete</a>:</strong> <a class=\"ProveItLink\" href=\"__pv_it/f00e98452cd1aa21b8bcf5eb45dd8e7953994b2a0/expr.ipynb\"><img src=\"__pv_it/f00e98452cd1aa21b8bcf5eb45dd8e7953994b2a0/expr.png\" style=\"display:inline;vertical-align:middle;\" /></a><br>"
      ],
      "text/plain": [
       "fracCancelComplete: forall_{x in Complexes | x != 0} ((x / x) = 1)"
      ]
     },
     "execution_count": 24,
     "metadata": {},
     "output_type": "execute_result"
    }
   ],
   "source": [
    "fracCancelComplete = Forall(x, Equals(Frac(x, x), one), \n",
    "                            domain=Complexes, conditions = [NotEquals(x, zero)])"
   ]
  },
  {
   "cell_type": "code",
   "execution_count": 25,
   "metadata": {},
   "outputs": [
    {
     "data": {
      "text/html": [
       "<strong id=\"reverseFractionOfSubtractions\"><a class=\"ProveItLink\" href=\"_proofs_/reverseFractionOfSubtractions.ipynb\">reverseFractionOfSubtractions</a>:</strong> <a class=\"ProveItLink\" href=\"__pv_it/c884bf7338bf4d9f212828c47a29624f5d76ee230/expr.ipynb\"><img src=\"__pv_it/c884bf7338bf4d9f212828c47a29624f5d76ee230/expr.png\" style=\"display:inline;vertical-align:middle;\" /></a><br>"
      ],
      "text/plain": [
       "reverseFractionOfSubtractions: forall_{w, x, y, z in Complexes} (((w - x) / (y - z)) = ((x - w) / (z - y)))"
      ]
     },
     "execution_count": 25,
     "metadata": {},
     "output_type": "execute_result"
    }
   ],
   "source": [
    "reverseFractionOfSubtractions = Forall([w, x, y, z], Equals(Frac(Subtract(w, x), Subtract(y, z)),\n",
    "                                                           Frac(Subtract(x, w), Subtract(z, y))), \n",
    "                                       domain=Complexes)"
   ]
  },
  {
   "cell_type": "code",
   "execution_count": 26,
   "metadata": {},
   "outputs": [
    {
     "data": {
      "text/html": [
       "<strong id=\"fracIntExp\"><a class=\"ProveItLink\" href=\"_proofs_/fracIntExp.ipynb\">fracIntExp</a>:</strong> <a class=\"ProveItLink\" href=\"__pv_it/807001de46cd68f85530b14d5effede8e976ff640/expr.ipynb\"><img src=\"__pv_it/807001de46cd68f85530b14d5effede8e976ff640/expr.png\" style=\"display:inline;vertical-align:middle;\" /></a><br>"
      ],
      "text/plain": [
       "fracIntExp: forall_{n in Integers} [forall_{a, b | a != 0 , b != 0} ((a^{n} / b^{n}) = a / b^{n})]"
      ]
     },
     "execution_count": 26,
     "metadata": {},
     "output_type": "execute_result"
    }
   ],
   "source": [
    "fracIntExp = Forall(n, Forall((a, b), \n",
    "                              Equals(Frac(Exp(a, n), Exp(b, n)),\n",
    "                                     Exp(Frac(a, b), n)),\n",
    "                             conditions = [NotEquals(a, zero), NotEquals(b, zero)]),\n",
    "                    domain=Integers)"
   ]
  },
  {
   "cell_type": "code",
   "execution_count": 27,
   "metadata": {},
   "outputs": [
    {
     "data": {
      "text/html": [
       "<strong id=\"fracNatPosExp\"><a class=\"ProveItLink\" href=\"_proofs_/fracNatPosExp.ipynb\">fracNatPosExp</a>:</strong> <a class=\"ProveItLink\" href=\"__pv_it/dce622dde3b01e81065fba3197c9cf4493fa8f500/expr.ipynb\"><img src=\"__pv_it/dce622dde3b01e81065fba3197c9cf4493fa8f500/expr.png\" style=\"display:inline;vertical-align:middle;\" /></a><br>"
      ],
      "text/plain": [
       "fracNatPosExp: forall_{n in NaturalsPos} [forall_{a, b | b != 0} ((a^{n} / b^{n}) = a / b^{n})]"
      ]
     },
     "execution_count": 27,
     "metadata": {},
     "output_type": "execute_result"
    }
   ],
   "source": [
    "fracNatPosExp = Forall(n, Forall((a, b), \n",
    "                              Equals(Frac(Exp(a, n), Exp(b, n)),\n",
    "                                     Exp(Frac(a, b), n)),\n",
    "                             conditions = [NotEquals(b, zero)]),\n",
    "                    domain=NaturalsPos)"
   ]
  },
  {
   "cell_type": "code",
   "execution_count": 28,
   "metadata": {},
   "outputs": [
    {
     "name": "stdout",
     "output_type": "stream",
     "text": [
      "Adding theorem divideRealClosure to proveit.number.division context\n",
      "Adding theorem divideRealPosClosure to proveit.number.division context\n",
      "Adding theorem fractionRealClosure to proveit.number.division context\n",
      "Adding theorem fractionPosClosure to proveit.number.division context\n",
      "Adding theorem divideComplexClosure to proveit.number.division context\n",
      "Adding theorem fractionComplexClosure to proveit.number.division context\n",
      "fractionRealClosure expression notebook is being updated\n",
      "fractionPosClosure expression notebook is being updated\n",
      "fractionComplexClosure expression notebook is being updated\n",
      "Theorems may be imported from autogenerated _theorems_.py\n"
     ]
    }
   ],
   "source": [
    "%end theorems"
   ]
  },
  {
   "cell_type": "code",
   "execution_count": null,
   "metadata": {},
   "outputs": [],
   "source": []
  }
 ],
 "metadata": {
  "kernelspec": {
   "display_name": "Python 3",
   "language": "python",
   "name": "python3"
  },
  "language_info": {
   "codemirror_mode": {
    "name": "ipython",
    "version": 3
   },
   "file_extension": ".py",
   "mimetype": "text/x-python",
   "name": "python",
   "nbconvert_exporter": "python",
   "pygments_lexer": "ipython3",
   "version": "3.7.3"
  }
 },
 "nbformat": 4,
 "nbformat_minor": 1
}
