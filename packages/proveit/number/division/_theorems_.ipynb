{
 "cells": [
  {
   "cell_type": "markdown",
   "metadata": {},
   "source": [
    "Theorems for context <a href=\"_context_.html\">proveit.number.division</a>\n",
    "========"
   ]
  },
  {
   "cell_type": "code",
   "execution_count": 1,
   "metadata": {},
   "outputs": [],
   "source": [
    "import proveit\n",
    "# the context is in the current directory:\n",
    "context = proveit.Context('.') # adds context root to sys.path if necessary\n",
    "from proveit.logic import Forall, InSet, Equals, NotEquals, Implies\n",
    "from proveit.number import Integers, NaturalsPos, Reals, RealsPos, Complexes\n",
    "from proveit.number import Div, frac, Add, subtract, Sum, Mult, Exp, zero, one\n",
    "from proveit._common_ import a, b, c, n, w, x, y, z, P, S #, wMulti, xMulti, yMulti, zMulti, wEtc, xEtc, yEtc, zEtc, PyEtc\n",
    "from proveit.number._common_ import ComplexesSansZero"
   ]
  },
  {
   "cell_type": "code",
   "execution_count": 2,
   "metadata": {},
   "outputs": [
    {
     "name": "stdout",
     "output_type": "stream",
     "text": [
      "Defining theorems for context 'proveit.number.division'\n",
      "Subsequent end-of-cell assignments will define theorems\n",
      "'%end theorems' will finalize the definitions\n"
     ]
    }
   ],
   "source": [
    "%begin theorems"
   ]
  },
  {
   "cell_type": "code",
   "execution_count": 3,
   "metadata": {},
   "outputs": [],
   "source": [
    "#divideRealClosure = Forall([a, b], InSet(Divide(a, b), Reals), domain=Reals, conditions=[NotEquals(b, zero)])"
   ]
  },
  {
   "cell_type": "code",
   "execution_count": 4,
   "metadata": {},
   "outputs": [],
   "source": [
    "#divideRealPosClosure = Forall([a, b], InSet(Divide(a, b), RealsPos), domain=RealsPos, conditions=[NotEquals(b, zero)])"
   ]
  },
  {
   "cell_type": "code",
   "execution_count": 5,
   "metadata": {},
   "outputs": [],
   "source": [
    "#fractionRealClosure = Forall([a, b], InSet(frac(a, b), Reals), domain=Reals, conditions=[NotEquals(b, zero)])"
   ]
  },
  {
   "cell_type": "code",
   "execution_count": 6,
   "metadata": {},
   "outputs": [],
   "source": [
    "#fractionPosClosure = Forall([a, b], InSet(frac(a, b), RealsPos), domain=RealsPos, conditions=[NotEquals(b, zero)])"
   ]
  },
  {
   "cell_type": "code",
   "execution_count": 7,
   "metadata": {},
   "outputs": [],
   "source": [
    "#divideComplexClosure = Forall([a, b], InSet(Divide(a, b), Complexes), domain=Complexes, conditions=[NotEquals(b, zero)])"
   ]
  },
  {
   "cell_type": "code",
   "execution_count": 8,
   "metadata": {},
   "outputs": [],
   "source": [
    "#fractionComplexClosure = Forall([a, b], InSet(frac(a, b), Complexes), domain=Complexes, conditions=[NotEquals(b, zero)])"
   ]
  },
  {
   "cell_type": "code",
   "execution_count": 9,
   "metadata": {},
   "outputs": [
    {
     "data": {
      "text/html": [
       "<strong id=\"fracNotEqZero\"><a class=\"ProveItLink\" href=\"_proofs_/fracNotEqZero.ipynb\">fracNotEqZero</a>:</strong> <a class=\"ProveItLink\" href=\"__pv_it/0c344f23b86653c16d442f4fa292e4354b6e62520/expr.ipynb\"><img src=\"data:image/png;base64,iVBORw0KGgoAAAANSUhEUgAAALMAAAAmCAMAAAC4YVoxAAAAPFBMVEX///8LCwsYGBgNDQ0oKCgQ\n",
       "EBC6urrMzMxUVFRmZmZERETc3NwyMjKqqqp2dnaIiIiYmJgiIiLu7u4AAACwKje0AAAAAXRSTlMA\n",
       "QObYZgAAA1tJREFUWMPNWNm2pCAMZBZZhUD4/38dQMANF3qmdfJwj94WrVSSIoGQxw3sZ+uQI3nJ\n",
       "QOYLxcHQQd1fSceXIGtXEES40n/k7rOGA8ss+5giog/FaN/ALEW+4IlhB12rlVfPQ6a+1JGPDKNn\n",
       "fesFfx7zKCpjkWEdyMb/nGhWP4lexwQZiWafOf2YCbcqJ+0EMX1vsLEMHtXpYS65oM5AmQTafNAc\n",
       "pUCKz+y5he+nxs1EUMvdAwWAqAtDaIjRNVpfpxzu7iB8yb4LN+gKaB5IVnUr/f4mI90HNENaBOPS\n",
       "70Kv0F/H7OQnNPNJ2FVR+MC4NSqZ+34J+ntCxeR+EfO61IROO1I0Z74OGf29KpdstYuYCSosX8LT\n",
       "I1I1er/7zZ8yqX0xBiIt1NjmJnbe4ogx2e9f8S/fYi6cpgsaf8YWPLOLJdrRcCd2fKmpDwaTX0eE\n",
       "aEmd7aa5gTm92R0ND2MpSwQhRHiCMRkqlo27PNKTy0mRUhukxxbmucz9bNvockJOciNjjnhdS5xL\n",
       "rYKkCjE8YVVaSQ8wY4Lr9A3MJx2FahXuHKPpPuQFy84pAabGhnqAOIPZEmfKckej2pjZhBkOMV/k\n",
       "swv284dLJtdap2t3lcVHqqyI6FQIBi7U3IYV9fOA9mCvnCDSc8zqjm5sac57iqlSnBNbl36LBx9Y\n",
       "/VWGT1hHmLnGzM2GZ2wNp/5aT+m+qY+5VkeyWXxKv+UD3VBXxefCwMZcEvDgAaW0LNWyGEZR5Fk7\n",
       "I9BBTyPqXjkG0U9z7JEMcLYrikxfqiFpMa+LFe0swdl1jtDOZ2Gql1PlNnke5eq4YthvvfrSK72d\n",
       "VAaM/WLwQEV/XU5LXp9iIjW2AAdal/RZHp5FiGHtQiMPLntLs9NGARaSEMesCXeJPpS1Z0ETEoXT\n",
       "gxqM3oBAclCDgaMVpL30XdNM5MnevJIlM+XzScTGq3/MQ+B+Bu+gmZxoD+ubb+9hXk+gZp/OtGMK\n",
       "vqD5Rou0LTnRjLIdVukctqzegyHzD1tmZZYxowdnn+jp4joWa++hzPD86ZeRm4Ic+tp2PbxwxDjz\n",
       "KsaO0aUW6RuHjHUWTUN/0I4uENaRN6wexybdEx7/ptKfyo5yUpGypC+dR03eMZXbIK57j2Y5kLdM\n",
       "5V6dpy6hI0JFJ/8AY5kopRzGvdIAAAAASUVORK5CYII=\n",
       "\" style=\"display:inline;vertical-align:middle;\" /></a><br>"
      ],
      "text/plain": [
       "fracNotEqZero: forall_{a, b in Complexes - {0}} ((a / b) != 0)"
      ]
     },
     "execution_count": 9,
     "metadata": {},
     "output_type": "execute_result"
    }
   ],
   "source": [
    "fracNotEqZero = Forall([a, b], NotEquals(frac(a,b), zero), domain=ComplexesSansZero)"
   ]
  },
  {
   "cell_type": "code",
   "execution_count": 10,
   "metadata": {},
   "outputs": [
    {
     "data": {
      "text/html": [
       "<strong id=\"fracZeroNumer\"><a class=\"ProveItLink\" href=\"_proofs_/fracZeroNumer.ipynb\">fracZeroNumer</a>:</strong> <a class=\"ProveItLink\" href=\"__pv_it/c2fae6e68c85a9a0afecc7c76deff5247c2107dd0/expr.ipynb\"><img src=\"data:image/png;base64,iVBORw0KGgoAAAANSUhEUgAAAIcAAAAyBAMAAACEztX/AAAAMFBMVEX///8QEBC6urrMzMxUVFRm\n",
       "ZmZERETc3NwyMjKqqqp2dnaIiIiYmJgiIiLu7u4AAAAU9Wx4AAAAAXRSTlMAQObYZgAAAuFJREFU\n",
       "SMetV01oE0EU/tJN2nSz2RSKinqJVhC8JAfxIEhDC96kEfGSHKwi6cFLThYt0hwUpIikiNCLJDeR\n",
       "oOSQiFo0OQqCDSqFikKEtof6k15UrFKdmd0NsebNDMV3mFkyj2/mfe+b9yaAysyoZHG5CS1LyRZ7\n",
       "bmphmAk22OlqvPvycy2QO3wIR+3X3Zf9SQ2MvkE+PgUeEQ67NUCCRT6+AWLZ7g6zGtQWhM9XYDhP\n",
       "7KIRzx4R0wYDKRP5+a7EsDbbIEXC5ZoSJJxQgiwoSYlFVeEgUlaBnHQmTmydcPE3VCA7nImluECk\n",
       "GP0qZo0fzszEdp/ysX8qQEKbLr95e5B0WgSk3PYOuLulKnHSaQwQtLwg1n3jkh1W5k+JuZbFPT5T\n",
       "VaFVlIC8wmdxvEIeF7kOqA1jdQlfDYRy/IMpKMhICeQpNealYnbuTSsJ6+7k5BXKsUbTiUjSVUCE\n",
       "xfEtk3lLOZ7J0iDTRRhCIj4W1CgwQWZvqwAC14UlXJANERdL8AHYuU6/TzMn0h0SkJ7EAWFiCiPk\n",
       "5cCunq4bR5rGzBaQ38KocIIMJFQPe4d+ePBL05oCDumchBP7ywOxc4fZV2mkErd4uRy6xXRDggTe\n",
       "Cxt3UuxcYB4OJkZYi2oe9+WD/KdnLzuz05SKzWx4xOI2G3pwAzj6L4gkxVjCh7iXYvhEfWMnO5bJ\n",
       "ZMr7hzTFhpXSKDyxweJnNgYMLItq97GDk4WoRn9reZ1n2MyZ8PPDG6ks5nUuYNvaJXz1cfoB7HP8\n",
       "c23xfFSrFLSb5N+31GSc6BelNnFZ+bpXHqU2plmoL1cuVcketVOvZdhF652vsd2W4TYvE6H1fkoy\n",
       "lvJZ4LRRG36aYXUbjbn7++iuHVHKIOyqcTpOdjn108JaF2O2hhDle1Utgr1Ck/WzmMK2n1uYFZfi\n",
       "yVqJukW9Gg+/oIq2fRpP0L5dCoclnWf5nHw5oPMsV3nN6f1VufAf/qogICuRq4LWP7cuyAPR16GI\n",
       "AAAAAElFTkSuQmCC\n",
       "\" style=\"display:inline;vertical-align:middle;\" /></a><br>"
      ],
      "text/plain": [
       "fracZeroNumer: forall_{x in Complexes} ((0 / x) = 0)"
      ]
     },
     "execution_count": 10,
     "metadata": {},
     "output_type": "execute_result"
    }
   ],
   "source": [
    "fracZeroNumer = Forall(x, Equals(frac(zero, x), zero), domain=Complexes)"
   ]
  },
  {
   "cell_type": "code",
   "execution_count": 11,
   "metadata": {},
   "outputs": [
    {
     "data": {
      "text/html": [
       "<strong id=\"fracOneDenom\"><a class=\"ProveItLink\" href=\"_proofs_/fracOneDenom.ipynb\">fracOneDenom</a>:</strong> <a class=\"ProveItLink\" href=\"__pv_it/c7ac80f1a00ea9c77476597ba745faf6b4f4177b0/expr.ipynb\"><img src=\"data:image/png;base64,iVBORw0KGgoAAAANSUhEUgAAAIQAAAAnBAMAAAA84v3UAAAAMFBMVEX///8QEBC6urrMzMxUVFRm\n",
       "ZmZERETc3NwyMjKqqqp2dnaIiIiYmJgiIiLu7u4AAAAU9Wx4AAAAAXRSTlMAQObYZgAAAlhJREFU\n",
       "SMdjYCAA9uCT5PNjIAy4ExgY2Fe7z47GLq1BhBFzgfgVw9kDsrhtIAD4hIHEAob9DJNxKOghaARb\n",
       "AJB4wOCGU0F9ASEj9B+AKWmcClgdCBnRCibZPzPw4VDA/p2ACcxgBce5PzDsw28JbsB6AUhw/mET\n",
       "YN+AS8l5UFjhAYwgnXzZ61bhTmDvJzCA7GE4jUPe3oBgnPEGMKwE0X045PcTTnssFxjKQMGKK43l\n",
       "EpEDPjBwAAODdQIO+WuEjWD6zMCzvLy8Fpf8V8JGMP9kYPiWlnYLVw75jVsrLPuC1DgzMKTjUvYH\n",
       "TSCiAwRaGJCz7y8GBhUGvgZkZW+6fGGFA/Mf3K6AZ1+gZ3kZuA/AHL419ACz2QPmLiR/MjDw/weB\n",
       "D2hGwLMv0AjuA7ywFLpN/d0DnmoGBi0UI3ABabgRfA0mQMZqpy0GPKDCQRnoOnZcHom9CwLXULIv\n",
       "KNbSnRgYuB64MU7gAInsO4cUnHhiBJ59gcHJMBWYTZhAJZgVuhFgaewAnn3BsQbOjgzAksE2LS1t\n",
       "g5IykkJR3IUqLPuCw4sHFJrMAswMT8DZ5jUiLBjaYEUo7iKBE1Zs2XM1cDGwgIpS5qgCht0w+UCo\n",
       "lfm4jeCCxfazndHrGPiSwMnuWooCTH4+WCufiz9uI9gaUE0EhgV6kQQpN3Abwb8BfzbkCCBohD2B\n",
       "ioRHgKARawnVh58IGiFDqEBZRsgITgFCRrw3IGAE7wGChWsDASPOEi4ae/AbwS5O2Ii3BniN4JhA\n",
       "2Aj2drxGeBPRUGIoAuJQ+VbsocanwEAVAAC5+66mjcWGBgAAAABJRU5ErkJggg==\n",
       "\" style=\"display:inline;vertical-align:middle;\" /></a><br>"
      ],
      "text/plain": [
       "fracOneDenom: forall_{x in Complexes} ((x / 1) = x)"
      ]
     },
     "execution_count": 11,
     "metadata": {},
     "output_type": "execute_result"
    }
   ],
   "source": [
    "fracOneDenom = Forall(x, Equals(frac(x, one), x), domain=Complexes)"
   ]
  },
  {
   "cell_type": "code",
   "execution_count": 12,
   "metadata": {},
   "outputs": [
    {
     "data": {
      "text/plain": [
       "'\\ndistributeFractionThroughSum = Forall([xMulti, y], \\n                                      Equals(frac(Add(xEtc), y),\\n                                             Add(Etcetera(frac(xMulti, y)))), \\n                                      domain=Complexes, conditions=[NotEquals(y, zero)])\\n'"
      ]
     },
     "execution_count": 12,
     "metadata": {},
     "output_type": "execute_result"
    }
   ],
   "source": [
    "\"\"\"\n",
    "distributeFractionThroughSum = Forall([xMulti, y], \n",
    "                                      Equals(frac(Add(xEtc), y),\n",
    "                                             Add(Etcetera(frac(xMulti, y)))), \n",
    "                                      domain=Complexes, conditions=[NotEquals(y, zero)])\n",
    "\"\"\""
   ]
  },
  {
   "cell_type": "code",
   "execution_count": 13,
   "metadata": {},
   "outputs": [
    {
     "data": {
      "text/plain": [
       "'\\ndistributeFractionThroughSubtract = Forall([x, y, z], \\n                                          Equals(frac(Sub(x, y), z),\\n                                                 Sub(frac(x, z), frac(y, z))), \\n                                          domain=Complexes, conditions=[NotEquals(z, zero)])\\n'"
      ]
     },
     "execution_count": 13,
     "metadata": {},
     "output_type": "execute_result"
    }
   ],
   "source": [
    "\"\"\"\n",
    "distributeFractionThroughSubtract = Forall([x, y, z], \n",
    "                                          Equals(frac(Sub(x, y), z),\n",
    "                                                 Sub(frac(x, z), frac(y, z))), \n",
    "                                          domain=Complexes, conditions=[NotEquals(z, zero)])\n",
    "\"\"\""
   ]
  },
  {
   "cell_type": "code",
   "execution_count": 14,
   "metadata": {},
   "outputs": [
    {
     "data": {
      "text/plain": [
       "'\\ndistributeFractionThroughSummation = Forall([P, S],\\n                                    Implies(Forall(yMulti, InSet(PyEtc, Complexes), domain=S),\\n                                            Forall(z,\\n                                                   Equals(frac(Sum(yMulti, PyEtc, domain=S), z),\\n                                                          Sum(yMulti, frac(PyEtc, z), domain=S)),\\n                                                  domain=Complexes)))\\n'"
      ]
     },
     "execution_count": 14,
     "metadata": {},
     "output_type": "execute_result"
    }
   ],
   "source": [
    "\"\"\"\n",
    "distributeFractionThroughSummation = Forall([P, S],\n",
    "                                    Implies(Forall(yMulti, InSet(PyEtc, Complexes), domain=S),\n",
    "                                            Forall(z,\n",
    "                                                   Equals(frac(Sum(yMulti, PyEtc, domain=S), z),\n",
    "                                                          Sum(yMulti, frac(PyEtc, z), domain=S)),\n",
    "                                                  domain=Complexes)))\n",
    "\"\"\""
   ]
  },
  {
   "cell_type": "code",
   "execution_count": 15,
   "metadata": {},
   "outputs": [
    {
     "data": {
      "text/plain": [
       "'\\nfracInProd = Forall([wMulti, x, y, zMulti], Equals(Mult(wEtc, frac(x, y), zEtc),\\n                                                   frac(Mult(wEtc, x, zEtc), y)), domain=Complexes)\\n'"
      ]
     },
     "execution_count": 15,
     "metadata": {},
     "output_type": "execute_result"
    }
   ],
   "source": [
    "\"\"\"\n",
    "fracInProd = Forall([wMulti, x, y, zMulti], Equals(Mult(wEtc, frac(x, y), zEtc),\n",
    "                                                   frac(Mult(wEtc, x, zEtc), y)), domain=Complexes)\n",
    "\"\"\""
   ]
  },
  {
   "cell_type": "code",
   "execution_count": 16,
   "metadata": {},
   "outputs": [
    {
     "data": {
      "text/html": [
       "<strong id=\"prodOfFracs\"><a class=\"ProveItLink\" href=\"_proofs_/prodOfFracs.ipynb\">prodOfFracs</a>:</strong> <a class=\"ProveItLink\" href=\"__pv_it/37c47c07f22d89e08ebd0a8b16273f95f89c24d70/expr.ipynb\"><img src=\"data:image/png;base64,iVBORw0KGgoAAAANSUhEUgAAAQ4AAAAmBAMAAADHF2h5AAAAMFBMVEX///8QEBC6urrMzMxUVFRm\n",
       "ZmZERETc3NwyMjKqqqp2dnaIiIiYmJgiIiLu7u4AAAAU9Wx4AAAAAXRSTlMAQObYZgAABHZJREFU\n",
       "WMOtmF+IVFUYwL+ZO7N3Zu6dO2tiIvowZWKYsROIUiCzGPTQUmyRELtJU9r4JFx8UCt156U2RGSh\n",
       "P4IQDYFKSHEDXaqJdnwTxBwIRKTgbsgGa7pDUmLmbuc73+zOOdOZOedWH3jOHe/vnPvd+/09C/Cv\n",
       "5Fs+OvWugPe88V4R0E5xSnyaZP/eOvvmuUDc9WQVxkKAR9UrRVyDGsjHfEw32F5V98dYQ7iViTdh\n",
       "qq1q57uLeG/U5Esu59N0ge0FTjNdEO49mWxAGS+OqlYu4be0qIH0DfPpDVQJEvLbhLEA7uHFmK96\n",
       "gxbu3deiBjIQ4hif5z9igXzzk9C6jXNyULmWcO9BA1Qr7/AxRV9lrAChePNlcPpxtu8o14q4BtWJ\n",
       "RcuK+DVdfwqcUFayb1DQVhYZ74nqJUkOv4N/2vpr8LZ09yUYoLRyWbFUxkU0jK5HyyNW4zDzzewZ\n",
       "OZvN1F4lt5ub+OdSGRdR/m4XI+lR5HFKLqaSz2nKDuu3aqOf4Xwskh5TlFObypuJhrdq8Uqzj4Tu\n",
       "Q3+NltD2UBJRPyZb7atCL0W7oCnmIMmJSHpcoV3UyqdrL7au4rc1+0ioe3r//kPR/PR3PuZ05rfu\n",
       "mmcChv5RLl+LVl3ukY8HZpzplk8D7I6kh/0XJca6DvyTss17XAZ16CPgVfQP//XIc6OLH5H0KHbo\n",
       "4YVq+5maOturreIPOLe9bm0OrSOy3YvcuRe4cDth/OTo90JTrceCQhZRp57tnVMn198KXZaMN6j0\n",
       "aMt06b99D6+yiV2c2XaWZcn4JMSYUtbVX/Ahj5XsyrTvYlysfZ/5RW+7dIur5E9cSlp09zbWJ4XP\n",
       "xNijb+T8JzC9bRxBewR3nFIqn0Luu+8FP6U4GAvM/NRIEP2QGTZOvdnhx3nvCx5+DvvnRiJw/Kc6\n",
       "9Wjtn6uaxZVxCFL5pJ7iWRjCaS9l/SCWz8DWcrkcPLxWWLWCqu7/nMfARTe1+i38jwcAW2CrYGE9\n",
       "zhbmwIHrXKUbbf+Ad6kd0xWltHmXtYQWM5UMHPBhebxpj8OmTz8CNmULRTgOCVTJGvGhtrjqBfK/\n",
       "fs3mmaaxHkvozNejX2AEfDBZYeEQPDSOUREfqo1OgPc6ArNXduXbnTB/h3ldV18x1qMDrdt+IgC3\n",
       "1UouKcv8Q8Ko0fJ05s8FxnrIqOX3VdkZbwv92tJ1VatR1zW3RfNTiYy6rCNgwdjKT93TlEuecZ5a\n",
       "h2V5sU+eHQG34q4Uej5JRFqDGlTp38g83GH2XdwuBs7wADsLpLnJ1iiWirQGNZBT5Dd8xxCuC+XJ\n",
       "mtgBuTrsRD9WxVOLxtqsQw1kjjfsHvV99qB0fl2NxsZUm1UalmiszVrU4M8fFGZf8XGd7ADz8CXw\n",
       "zS8pl65r12YdaiD0h4IUvkZaLjPJCuwCmwW2vVKZOKvGqIncJMP8wIYTAKJh2IH1GisGTEnlGUCk\n",
       "NahRfRznEysE1tFXLuTFDF2yVsBBdjGkrGci3Rs1EyrIdh6ScHmVdGekNoMnWC+vPKFLtIj+DTiC\n",
       "gDcUKCrmAAAAAElFTkSuQmCC\n",
       "\" style=\"display:inline;vertical-align:middle;\" /></a><br>"
      ],
      "text/plain": [
       "prodOfFracs: forall_{x, y, z, w in Complexes} (((x / z) * (y / w)) = ((x * y) / (z * w)))"
      ]
     },
     "execution_count": 16,
     "metadata": {},
     "output_type": "execute_result"
    }
   ],
   "source": [
    "prodOfFracs = Forall([x, y, z, w], Equals(Mult(frac(x, z), frac(y, w)),\n",
    "                                           frac(Mult(x, y), Mult(z, w))), domain=Complexes)"
   ]
  },
  {
   "cell_type": "code",
   "execution_count": 17,
   "metadata": {},
   "outputs": [
    {
     "data": {
      "text/html": [
       "<strong id=\"prodOfFracsLeftNumerOne\"><a class=\"ProveItLink\" href=\"_proofs_/prodOfFracsLeftNumerOne.ipynb\">prodOfFracsLeftNumerOne</a>:</strong> <a class=\"ProveItLink\" href=\"__pv_it/b5984c8de278e0b58c29aa04800e70dbf36796390/expr.ipynb\"><img src=\"data:image/png;base64,iVBORw0KGgoAAAANSUhEUgAAAP8AAAAyBAMAAABhUBCTAAAAMFBMVEX///8QEBC6urrMzMxUVFRm\n",
       "ZmZERETc3NwyMjKqqqp2dnaIiIiYmJgiIiLu7u4AAAAU9Wx4AAAAAXRSTlMAQObYZgAABHZJREFU\n",
       "WMO9WH+IFFUc/97Mzu7tzt7cpiCJBGsk5B+iYZH+EXdcoWCkm3QieeIZsUIXMkFoEdkSChEiKxpE\n",
       "/uEQlpQoG3QHcdHtP4cHFrd/6IGCsIIspKGXB10/7Oq9mb2d9915b+Y7R9vnj/28mfnw3e+8932f\n",
       "ee8BxMPnbRzA7To1FF0pwHAwB6GdoMaiKwWcQ3xQJpkiB5uK///pmsiNBZkmUaBGoytbeGuDwLdf\n",
       "kCYAK8nhVsZO4GPEpjyBk+TiOhm3DNMLiBUJdJN7tjvuGHQ5iHECqQtbz+xxq3teGaClac6D+ZgJ\n",
       "TNcR4wTuwE/Vx9zWMWUAXwMRSjmuYsYJODABp1CeQfgaiFDKneMBZpxAHbY0W70VVQRfE6WU22AO\n",
       "c3sRrlqc3zV1jFXYCWrxarCAuS2B1BxY3iQJqcJFDUQpZegrY8YJXDZn4Qe3Zf2liuBrIEIpxUQd\n",
       "M0og/TCZSzWHdEblI4KmpYxRh/sxGy//PiS8zMilr79vtncoAoialtItgyukBFa0sbqrbHKn2vAV\n",
       "Z9KX2foTsxpny9QEmPIQr81hkg08xBxSreTpzZTdrAgMUsbZPzCrcZ/8kWHK7PnDh98nic05zGr0\n",
       "DlMT4MrfisUbNCOcxxziWCWytzHl8wAHaCuoBcxq9HgOu/sjjqNRyifAUidsTZ27tlhRiVnMLdwL\n",
       "hM1Re4Are8CsSh/eHRyCjQdhkyNP4B8O3rT+dkezdc1WOoEEvKcILaVZ7ZG6ofnakXtwuQKaE9ED\n",
       "VsCYusk9wJVW6WnWujDwLVvpamPQxbN57sS7MMmn/GZ2044aAlAMwd6bHDORygMDAJn6li5mBnd7\n",
       "7af4/YFJB3hhmL8InWMsYI4sQkoNcOUn7EeD4/z6yDoYcx/8DLoTSKBD0xC63DL3om6DF911Qx70\n",
       "mWJxRHt8Q+eNCLL8LfWczm8sg+WcNsKzVj9vbK/4NZB9gPk/suLmRyFTysA7NizXZhnp29YOw1Z+\n",
       "/5nzYFY6+zHy0PhuzyXoq8LpsRIjU3vUhkaeT7GLxYEOf45FVFN2gqXU9KUviyP/x4JEgG4nnSc5\n",
       "0ZZkauwgr/KwMgvpcYcTaVFqfeHAB6KHao/k31N20Z1XIeX7x+plzbXpCogDvCzPsHqdEB8fujI4\n",
       "rFxsO+vBbDlo6s3RXUtZluONyWajBkW872oeO2WDTqWX90KSp2dxiQXWdpWSvjWrMwPDL5DqV264\n",
       "LLYnczeC971nby9pa6bNIT5b17Enrlm0N0d6ttHHXfWWO0paQa0MwzXEu8FEn920E7LpNkrwjX/1\n",
       "2dK25zCN+Bgk+8WnLKp3fVR+GvO6mGpCqQytworIr8B6cSmlHx+ayisPXox+wcE3Tf744ZKOaNI5\n",
       "kRvj+0TLMmDaO3ZLFqTbwlH/3wrZX8tKZYxjOrgoFa2WD2ymRlWGHVTaPidqlvyg8brs5ktwq0xT\n",
       "ho9ByeceJymdRIa0X2/AG0RlOAZ9To/vlEo+ld49M5onKsORrGCWuFVnj+thZxsH0CAXlqf8F2/Q\n",
       "ffsi7EgWAAAAAElFTkSuQmCC\n",
       "\" style=\"display:inline;vertical-align:middle;\" /></a><br>"
      ],
      "text/plain": [
       "prodOfFracsLeftNumerOne: forall_{x, y, z in Complexes} (((1 / y) * (x / z)) = (x / (y * z)))"
      ]
     },
     "execution_count": 17,
     "metadata": {},
     "output_type": "execute_result"
    }
   ],
   "source": [
    "prodOfFracsLeftNumerOne = Forall([x, y, z], Equals(Mult(frac(one, y), frac(x, z)),\n",
    "                                                 frac(x, Mult(y, z))), domain=Complexes)"
   ]
  },
  {
   "cell_type": "code",
   "execution_count": 18,
   "metadata": {},
   "outputs": [
    {
     "data": {
      "text/html": [
       "<strong id=\"prodOfFracsRightNumerOne\"><a class=\"ProveItLink\" href=\"_proofs_/prodOfFracsRightNumerOne.ipynb\">prodOfFracsRightNumerOne</a>:</strong> <a class=\"ProveItLink\" href=\"__pv_it/fddd0bf47bb6f7147028361d818c757b16cd3b300/expr.ipynb\"><img src=\"data:image/png;base64,iVBORw0KGgoAAAANSUhEUgAAAP8AAAAyBAMAAABhUBCTAAAAMFBMVEX///8QEBC6urrMzMxUVFRm\n",
       "ZmZERETc3NwyMjKqqqp2dnaIiIiYmJgiIiLu7u4AAAAU9Wx4AAAAAXRSTlMAQObYZgAABJtJREFU\n",
       "WMO9WG9oFEcUf7d3e3uX3WyiolaLcBEL9oPEYkX9IAlRFCxqFCKiEa9FTmhEThCtiHKIQhGRC1UQ\n",
       "RVxEFBXlBBMQxdyXkIDK+aEGFIQIEqiKpgZsrRqd2Zkcu3szu28Prw+y73bnNy9vZt68fwDhqC7F\n",
       "+HkZ4PkwVhQe6aRNjKmWDKAcx4rCI50b0Mr4BeHoTvoYRAsbrEKBs4wlH4oGR8bpM9aOFYZHlkmb\n",
       "wviu+aIzXW4rADPQ4maEViDBj/6ocFRnCnSjjas7tBmeYzOS434KJNA7mwh9BjMZi9gboV1deWaz\n",
       "QAHlH/kRuqf4IMVk8JWX7I14AQ+KswQKwBGpAO+UIyEVqOeX8E/7aUEf/CFSoCQ9Wu+UUkgjaGZu\n",
       "UHlrs2FYIbQBaCjIBHinyJFiWsfdYCN//1asQOyhXIR7ih9SRFO5DXLj1cbAFCmQ9LFC95RkOCuM\n",
       "vme8JW+zAX0U7ooUMD/IJHinyJF+9xz6bNNJfow3agXROAxJBFROGaJ2gaY4P/ufmfZd16/ccQ6r\n",
       "6/7tZL/WSgRUTKFI2wzuoRSIpBmfFgTsy2LXRJCXKcdF5jcsEpj/BXrsPNq352EPtc00zg0UmRv4\n",
       "GARsQV9vgkwQI1BxGpcYzHgfuFXoIEOQxqW9ew8gD4xlAfpYELAhjVWAIt9lMk9w6K3MttRA7xHJ\n",
       "YRWgyGUA23HotezKxsYDgxbzsBt/p3Q4CDkHTLnC5uCFRwXHpbUVGPWiXnvFNqLjK0HWg14UDr7s\n",
       "6IQFO2GxJVag4TMl+tv8RN/LryTTqVCAgV1URurFeqE31H85+BoGCqBYQTtgej1TAr0DFGnmfiS/\n",
       "rrbdJDau9EKEarP0+D7op1d+CfmYDTwCEB/BlqeUhgKR29tIwTG8IkJu+cuG7A/0e1u/BdQw9FfO\n",
       "zdnKXlSsEWJsgCJPkocCx+j7wXnQaw/8BVGrUoHaXEOI2GbOpK6Cn+y8IQXRoUymS5k9v/aOCAy6\n",
       "ymhjlH6YDHbtswAWmXYCuqbgsIESSwmNt1/VFfOgUJerg9+yMEUZJSy66vs0rKTfF14CvVDbYMTr\n",
       "ylubr0NLEU705gjTlW+yMELXa17LtNU4HDupqGVjRCXuly5muv6PhMSZdGbj1lzKUCmZX9BAZ3lu\n",
       "pAHJ2xZlqKQUXmwCzekSlEmp/dItcoObJvPcdBqEIU9abjWD7nSKe+51pKXJtgus7ejZUE1a7i5M\n",
       "ovktEE+76i7edjIqPVUZbAdOE8w1MiS+NDNJmeWu7bRWacE1AWaBE2B3daVZM3OFythEm6LF1ar5\n",
       "bsK9CVpoHMwDp9IuR/qGDj7vEduIHNxw/Q/Lp+h2g09XWZ4b3IxKEw2Wbc5RIpWdwWFxN2abU9WY\n",
       "FOlLvLhm4UttdTnl6LHOwZS08eICL+6/f6iqFg108xUwK+zqcQpQocTabvF2YVnoALcbf+elyDBt\n",
       "ujqhETeJD1YAbgrdptOm80Yl9dar4Zkw6DwWfRSCH4duVMIpfgY0kXkCv4ogqnBfRWA1fKu2PKeD\n",
       "/J3pSfno6CER+BRUQTxCx6UpR43b9aDyhayXAUbQhsWQXwCt13LKGhgR0QAAAABJRU5ErkJggg==\n",
       "\" style=\"display:inline;vertical-align:middle;\" /></a><br>"
      ],
      "text/plain": [
       "prodOfFracsRightNumerOne: forall_{x, y, z in Complexes} (((x / y) * (1 / z)) = (x / (y * z)))"
      ]
     },
     "execution_count": 18,
     "metadata": {},
     "output_type": "execute_result"
    }
   ],
   "source": [
    "prodOfFracsRightNumerOne = Forall([x, y, z], Equals(Mult(frac(x, y), frac(one, z)),\n",
    "                                                 frac(x, Mult(y, z))), domain=Complexes)"
   ]
  },
  {
   "cell_type": "code",
   "execution_count": 19,
   "metadata": {},
   "outputs": [
    {
     "data": {
      "text/html": [
       "<strong id=\"fracCancelLeft\"><a class=\"ProveItLink\" href=\"_proofs_/fracCancelLeft.ipynb\">fracCancelLeft</a>:</strong> <a class=\"ProveItLink\" href=\"__pv_it/b4ba7f63ce1bfb659a172921bbe1a90102ed2b850/expr.ipynb\"><img src=\"data:image/png;base64,iVBORw0KGgoAAAANSUhEUgAAAO4AAAAmCAMAAAD0i1fJAAAAOVBMVEX///8oKCgUFBQJCQkQEBC6\n",
       "urrMzMxUVFRmZmZERETc3NwyMjKqqqp2dnaIiIiYmJgiIiLu7u4AAACP9cC6AAAAAXRSTlMAQObY\n",
       "ZgAAA81JREFUaN7NWQey4ygQZWbJIjX3P+wSBEISkrFrLEPVr+/QRv06B4QmOsZ+6WJggKY7RuT/\n",
       "UhsmleHmzLbmOhL4Ae53tGSZDq1yhU+ErLMIuxOJRsRHufiB6/a0RZTTHMC08JmZVLR+tSqTKsSj\n",
       "DMQA70faxc4FV/ACLvyxFhB4V7/B0cK9GZDegVZ6ORNasvNHbHZ6r+BVpKKeDjnHnpazmeAuvHkj\n",
       "E5OdeMRjyDF46MYD7VTqpRszVub4YuBCKIKNC7Ch3Qn0x4e7zQYtEkEnsueg0SKJH4s6R1rr+xbz\n",
       "i7M5KwijQet+yRG+NHzQKo+04BVCW3Kz5pe2TIdptUOf0bpgzVpV2/6hoocKh5CfXIzT6kPa+Iks\n",
       "QV7+su4QYxpzoQQRGn1Im2RalMrVD+G6MVmr4I1ktCY90ZLoMVbLdNwvI5XnjwSIqFEv4nH6h2jB\n",
       "m8eewlJQFP+m5rgzNUiPCDnmpErpPy7g+dKcF/WHjyolkQg+agjBLpq5tjG980Ee5Wr0+sS9mdnn\n",
       "XMa9O0gAwzkPP6BUxCp80UNwZQLpIuZje569auVp6LyG1qHNcCNU90bSNYJIiD2ozYUeGYOb3AUS\n",
       "Uqeu4X5du8GQ6Wpe2jBi2FrhkDQCwEUQ1C0gA1u2uB6hawcu+3B3l61CoRmu+WfGzF1zxFD8F5Ll\n",
       "EKMhNtZrKQIGhYqT1g6KEZumP9XLDdiTTTQPrJexFEb+C39mbWuPcOUjkTmHqpCRSz9C2iGHBOL2\n",
       "Qx6IcqB6EO7ushIc+totjHz31PjfDA/adoMFJtj2lSTZplOeFkFThNAbuLvLQJTcFz86lb34uTIj\n",
       "NkNVS9F2KwYc8OH6joZXVCLYsggDc+e75TIRzPjvnyUZc77v1MItTxTs6vBY6pFe0ihQLkkJNA8v\n",
       "0zvKNFGRK1Z/RLmOr003726X1SSESt49geP4AbjanxpixUNzXUKlYkYsJXAG48VJCCBq6QQ6WDYj\n",
       "XWPeLosfb05uQukO3THa19uum1IqAJSyuu4+T+jsu90r+2b0KhLBE4n3JvwHJ43d4rpsoMMFdR/u\n",
       "6wr1gbkZvRn62NwxatRR7ttw7WvV2cZ5r3dEwe1xiJ9yLEsfaPUXWtxPZ9fgm4BwuSNCUthQr4+F\n",
       "8SMtnmltoitf1zuiPDcd3V4eaBWeCG1QL23Y7O+IDjltQMENrZtrJ2baeHa1IwoO+UZMa2mtQ3Od\n",
       "psC+3BG9TmkXtBLLyeCCy+Z8tyPKCNgbaFfaRaHZTq5c73ZEdLHc2mVo9rqjZQbNd1LLdbcj4nGx\n",
       "NbhFaGmhCOh/uygvSxZ9a00AAAAASUVORK5CYII=\n",
       "\" style=\"display:inline;vertical-align:middle;\" /></a><br>"
      ],
      "text/plain": [
       "fracCancelLeft: forall_{x, y, z in Complexes | x != 0} (((x * y) / (x * z)) = (y / z))"
      ]
     },
     "execution_count": 19,
     "metadata": {},
     "output_type": "execute_result"
    }
   ],
   "source": [
    "fracCancelLeft = Forall([x,y,z],\n",
    "                   Equals(frac(Mult(x,y),Mult(x,z)),\n",
    "                         frac(y,z)),domain=Complexes, conditions=[NotEquals(x, zero)])"
   ]
  },
  {
   "cell_type": "code",
   "execution_count": 20,
   "metadata": {},
   "outputs": [
    {
     "data": {
      "text/html": [
       "<strong id=\"fracCancelDenomLeft\"><a class=\"ProveItLink\" href=\"_proofs_/fracCancelDenomLeft.ipynb\">fracCancelDenomLeft</a>:</strong> <a class=\"ProveItLink\" href=\"__pv_it/b512e5c2004c66fbf512398cdd3d568aa03601380/expr.ipynb\"><img src=\"data:image/png;base64,iVBORw0KGgoAAAANSUhEUgAAANwAAAAmCAMAAACYjQXMAAAAOVBMVEX///8oKCgUFBQJCQkQEBC6\n",
       "urrMzMxUVFRmZmZERETc3NwyMjKqqqp2dnaIiIiYmJgiIiLu7u4AAACP9cC6AAAAAXRSTlMAQObY\n",
       "ZgAAA3NJREFUaN7NWQmyoyAQZWZkFZrl/ocdFnEDDPr9mq5KJRUEeb0/QOhdAX3/mpZa9A0CPH0L\n",
       "BVRIYFDuVDEVHnAnNozHb8AmTUaAkDYaDaZ4RCHsghbcFZ29KXYgGUHaviTz0GQoIhELiPm57Y76\n",
       "dXCcZSj+Q9fbt87MI0PwVQenVhZOvIwNb+JogI1NZ6gyPEUcObc2oy+DG9lG12Qy4X6bITvAcHLt\n",
       "t01HlvdrkTIG2IYKOP2R5p4XZhbP04h72whoOBh2pxOEdnVHeEiWILMclFWqXtD9ILDzTmadRGip\n",
       "LBoe9sr+HKHM+fWN90slZy991oidZZmakDvl+fXDRJFzrni4qvM+axhf4Lm6qrxsMCafBWf6lCl9\n",
       "xOFrVdS7vVYiink4nzj22zEdrOV4EKOexWbdzflrTx/SC2jMWvxqRT/yGRsX9UmeVVqIy70tG1dC\n",
       "m/TBBaw4jNteCmT1qKhZEa+j0GFBb6Cmd+y85t7GvaQPye9NByO2wBjzzxDCQx87qh5wIkIyAWHB\n",
       "NVNITNvokg8bLOhDAheAGfuB/WFhA8fSqUXCXeCiq9uIy8gDcDcx3x19SOC8S5LJbTzbx0CncRwJ\n",
       "7RAg5ZjBZOKTogpuM33SAEng4D63ZGYlvEkfpnTMBU1pQdnAGad+wALyLR0JT88BCVbvTbwCN0+n\n",
       "Mdb/+Q9MrK0AJ+7OlgV9cMm7ZG7Q8ZqgC4tNOo4gqg/cZnoO44bl8rtvZBlb+jCn4xULXvff1L+f\n",
       "+iFiYink3gwYkza4zXTLc70Jf5Xd4XB3Ed/RhzmoF3MEL5y3P3hThDMcu9iaWjiIuTyde4f8+2eM\n",
       "bhlXQCVnGX+jl13RB7l7JXFIjfEsSoxR3SQVRkQXfTAVfkOtzi3T5zKAcp0rkbDhXlx7+qBcYVjJ\n",
       "PG/MuUxS4GMawEuX432U4ppbLtPD30tsgncXW8/cdzbiO/rAD9oSD06IFHJRDynmasWsXnQ+pgt7\n",
       "c6Hb04eDbExE1EPHwXQd3NiZup84fqoZLuiiI11XwekOq+hW0LUvDq6llp8E8nXSgxvcpXlxcOb4\n",
       "6eUDdVX36PLi4EoEDu9i86Yjjf5+e3FwKXe+fhMCzbQz/LDx1Aa9Lq2bpubFQaeIQbwPzpqKYx5d\n",
       "HPQqTaIvkNTm7TqXg4uDzgQO6CtE4Epz37446POHvOZ/zOApWMwNT10AAAAASUVORK5CYII=\n",
       "\" style=\"display:inline;vertical-align:middle;\" /></a><br>"
      ],
      "text/plain": [
       "fracCancelDenomLeft: forall_{x, y in Complexes | x != 0} (((x * y) / x) = y)"
      ]
     },
     "execution_count": 20,
     "metadata": {},
     "output_type": "execute_result"
    }
   ],
   "source": [
    "fracCancelDenomLeft = Forall([x,y],\n",
    "                             Equals(frac(Mult(x,y),x), y),\n",
    "                             domain=Complexes, conditions=[NotEquals(x, zero)])"
   ]
  },
  {
   "cell_type": "code",
   "execution_count": 21,
   "metadata": {},
   "outputs": [
    {
     "data": {
      "text/html": [
       "<strong id=\"fracCancelNumerLeft\"><a class=\"ProveItLink\" href=\"_proofs_/fracCancelNumerLeft.ipynb\">fracCancelNumerLeft</a>:</strong> <a class=\"ProveItLink\" href=\"__pv_it/fbb6c99e9dd01dc133f3e28c9986d34925b0bb270/expr.ipynb\"><img src=\"data:image/png;base64,iVBORw0KGgoAAAANSUhEUgAAAOUAAAAyCAMAAACULOyzAAAAOVBMVEX///8oKCgUFBQJCQkQEBC6\n",
       "urrMzMxUVFRmZmZERETc3NwyMjKqqqp2dnaIiIiYmJgiIiLu7u4AAACP9cC6AAAAAXRSTlMAQObY\n",
       "ZgAAA+BJREFUaN7NWomS4ygMZWa5DeL4/49dQRzf2EziYKjqrnRH2Dz0dCEIeXxY9pvnBhFIN0Pa\n",
       "Xz2ZDd3AtOLuJ6oJmxs6AWn83TxVcdagkF2A1JTfbItCLFASanpAOdxvlLBEaWgHpmli+C1KMnTA\n",
       "WVpSpbYgtAEJ36JkUT8N0pVUGRC9845Q/y3KDpTpS1HE5tUio/nXKF182DJZLGU9aWFC3WGXhER4\n",
       "FqWkpzYL96AU/lmU9MxkdOSjUr9EaZ71PzwWQ7bT2SwJ3IAyPEtZKPoFEx1RSGcNdzzWq484cVdW\n",
       "Tcu5KNhgLbgPbF3SOMjVRIGsmG3TNdYsVa04o4mdjKNxNRaibfMig/av3zuqVVtVsujavIgn9/NW\n",
       "oWxcpLhoWpEGI5azOo/WwRMib/SmqPKvNLxtjFI2i9Y0HYyIvKeqdYYgvkmj5bAYVydHPtGUJanw\n",
       "8UHQ2TljyFuHkU8eoWxW+uTAnKBWR+DgBiv8orw9c80y0QTsuJNnKGPVuLTAQ9Eho0wI/QV9AkiZ\n",
       "UgrO00EgX5zXnKDUGZtPUPf0bKfLF0pkK7/gNiimQwgpj85aZFUos62HDNCbW1FKvxiqirG4GjFa\n",
       "lwXBQIwunkGan07B3NuuGB/Ld32IcjV93Ar+Qgl7H9sq1/KvIGnkGCxtSCX6eIgZgKCz52kjJtcE\n",
       "wW3XtkA5TRfZ9/2HP4A5Tgll00iyqMtRo8PkhnRgPnEV1WHrUK6mvx1aSZeNs4KUbc1LX+6wQHQC\n",
       "l8d9ThwUKoYxXka5mh7UO8FK/9ofcrvI2oDMGd4mtUWCTjgoriMd8YfZN4kAJ3b5nq6Qq3//DJmx\n",
       "+QlkT8+22frqb2KHfE6oh6wAjmvJ2KY1cmnTZziKl/P0KYqQd7xUz1ZemxrdSCzT04LTRhsBanh9\n",
       "MbErWKSvYEeMnaeTZX8NtwRkeLaKLhZGqA79MsvsPl92eRQUjzfwWlGKtkqYy2RGhMoSdp3eHqMc\n",
       "avZ4peBiayTY3K7WNfH1SPaEM5mwABWmc/gMZ2q8glmtr9QasS/nADW50oHsPSeVn3fMV6fOu9ZI\n",
       "GNXBDclJi6ow4yNZ93DXa9VB2LZGQvTTFzlpqVHJkezTHQS2zX6WrZEwm1Pu5fK6VGkvG+2zKIlf\n",
       "JyWl1ohMrgzqPPJO9vHOHq5g8bncGsmNVlVn/zvZQZCnx0zRs9aIFPX54Fa2g447MXSRNxVbI/gd\n",
       "1NZpW1nVw42f6psw9h885UKW9XAThmh6raIUCkLl9aStrO/iVhMx16lgOg9XlTrfyMo+bqjVLAQT\n",
       "TVlbcK9lTS+3DXHrf9Y27ejmKGrzV7eA5xL3f3X2L4XgPNRkAAAAAElFTkSuQmCC\n",
       "\" style=\"display:inline;vertical-align:middle;\" /></a><br>"
      ],
      "text/plain": [
       "fracCancelNumerLeft: forall_{x, y in Complexes | x != 0} ((x / (x * y)) = (1 / y))"
      ]
     },
     "execution_count": 21,
     "metadata": {},
     "output_type": "execute_result"
    }
   ],
   "source": [
    "fracCancelNumerLeft = Forall([x,y],\n",
    "                             Equals(frac(x,Mult(x,y)),\n",
    "                                    frac(one,y)),domain=Complexes, conditions=[NotEquals(x, zero)])"
   ]
  },
  {
   "cell_type": "code",
   "execution_count": 22,
   "metadata": {},
   "outputs": [
    {
     "data": {
      "text/html": [
       "<strong id=\"multFracLeftCancel\"><a class=\"ProveItLink\" href=\"_proofs_/multFracLeftCancel.ipynb\">multFracLeftCancel</a>:</strong> <a class=\"ProveItLink\" href=\"__pv_it/46bf1f5bc440cdfa173ce5146d6fbdfc544416580/expr.ipynb\"><img src=\"data:image/png;base64,iVBORw0KGgoAAAANSUhEUgAAAQAAAAAyCAMAAACEafVGAAAAOVBMVEX///8oKCgUFBQJCQkQEBC6\n",
       "urrMzMxUVFRmZmZERETc3NwyMjKqqqp2dnaIiIiYmJgiIiLu7u4AAACP9cC6AAAAAXRSTlMAQObY\n",
       "ZgAABH1JREFUaN7dW4eSnDAMdRJcceX/Pza2aaYJoyWwF83czGlvHxhZ7QkfIW+LobAOSuABc08k\n",
       "7J+IMLB+IrRFPQoS9i/2n8P6qbgWdV8k7HbRHtYrhAvUnZGwm0U1DNSrpNGoeyNh90prYL3OixpU\n",
       "PCNh9wZAF0C91ow4b27fD4LGHOrKWK60FbYmpXcKVQlwsBvFrTa80EM0hfOONP5/dgHPD/XkCraL\n",
       "QcEwlkRuwNNCO3qop5VxWX2pzqJWgITd1gM2sN7UL4971AqQsNtSoAB11bHBFWrKCSqf6VfTIOv0\n",
       "se5UTgHE1hkg4Jw5vBoDdpWCSl13jsgYEap2gV6i1pBgryVC2RzrQVoTjLGuOpo7XBKIsDkPuGf9\n",
       "oZGwftGdFBZmpsh7liKHzoD61XSmsTA1Gl7JRx2Adg7Ur2ZUi4aNGy+epYdutWeu0x/5k0DDnFFZ\n",
       "Hm4KbMdA/WpTJ/GwTibx5lkDiFXaEhfSWDB5cqiKwtlUjLh2GGaG8Wx6+XBTxFdtAL/ATEzMGANb\n",
       "mip66cCiLYRDDDPDaPpKQA8JoSl2yFaNBV2cVu7zSh5GCzFNRFq4LNzeNxVm2zLMHpYuVt1zBNca\n",
       "7gs3goJPpHtZMxi53gBdIXPC8jNVzESpzPztuQH2GGYPSw/vTxwwWCFE/B5jMn6TFcM7wAAqP7ZP\n",
       "Vtg4+GUPCEWnlGdnrEybFQbYY5g9LLo/OxnHW0lVSD7o+vacVhkg55WQn93rj0NgEeRpTeUzL0JA\n",
       "+EIkxDAHmFR8iOSYJ6nlg2WpTeA0PHVjDFM2RJDaM8AMILOVWG8Au6kCAdTPh1my3DR/XsX3GOYA\n",
       "02KAm5CiZJiYB0tiaWLJRlOGtMGt1ymLMBkBPOffP/HHxoR9YAB8GSSCr1vH8zK4yzBH2Bga0Q/a\n",
       "6bIqUJ+cP26iqTLADCBkzqsHHvBRIxTZol1a7LwR2mWYI6x4qvKyPD44jytnPvdKMm4npezQADOg\n",
       "v+GYvdMVN+9h3GoiuNbPq5q/qRVe0YPoJNMjNnFN6WVVmKONB3ucAyaAjM7/+1ebQyB/QDYO/gkZ\n",
       "SrO8sDDpJ2RooRPT5o5BtXnbWN9yET4tnwmTfrf7fcAEGEsgGfsAeScdTm27NDfR4VWYaBEjJZki\n",
       "7YfmVrb9H+jcUMZ44HQ/BCZA/HiOKhsDNtw5ENHxgvSugchh0YibqOaINn0O2Cv2RZmdAfp0P6GR\n",
       "GGq2dS+Mqexl9JwiFAYoAG2F9QOg7xC+K/M15Fhu6QDJ0yriUi5ccwA4XZGAgLH4HuEDs/mLY3GO\n",
       "BUIvRvYIHzheQqUA9+77YejV2B7hO6mLmL1799UYXfV+S31L+KDJFm6c1ZlXDUC8APQt4YNc+Ue+\n",
       "Ho8LAPQt4QPIIS4PtZy8LOvxRKlvCR8QSz/0iAzRzbG+JXzHhRh31EV+wUnBk2NypipLU9x5N/oF\n",
       "x+SIatSBviV8x7kU90rJf8NBSaLbA31L+A7bCZwni684Krtdx6hvCV+lCZGWf0/WFFNea89//HH5\n",
       "uOcU1mE6I3H/MDHD/gKQGzXL6QK5qwAAAABJRU5ErkJggg==\n",
       "\" style=\"display:inline;vertical-align:middle;\" /></a><br>"
      ],
      "text/plain": [
       "multFracLeftCancel: forall_{x, y in Complexes | y != 0} (((x / y) * y) = x)"
      ]
     },
     "execution_count": 22,
     "metadata": {},
     "output_type": "execute_result"
    }
   ],
   "source": [
    "multFracLeftCancel = Forall([x,y],\n",
    "                      Equals(Mult(frac(x,y),y),x),\n",
    "                      domain = Complexes, conditions = [NotEquals(y, zero)])"
   ]
  },
  {
   "cell_type": "code",
   "execution_count": 23,
   "metadata": {},
   "outputs": [
    {
     "data": {
      "text/html": [
       "<strong id=\"multFracRightCancel\"><a class=\"ProveItLink\" href=\"_proofs_/multFracRightCancel.ipynb\">multFracRightCancel</a>:</strong> <a class=\"ProveItLink\" href=\"__pv_it/1291896c36aff00563773bb0bec0bcd574463f060/expr.ipynb\"><img src=\"data:image/png;base64,iVBORw0KGgoAAAANSUhEUgAAAPYAAAAmCAMAAADA8pbVAAAAOVBMVEX///8oKCgUFBQJCQkQEBC6\n",
       "urrMzMxUVFRmZmZERETc3NwyMjKqqqp2dnaIiIiYmJgiIiLu7u4AAACP9cC6AAAAAXRSTlMAQObY\n",
       "ZgAAA/BJREFUaN7NWYmSpCAMZXe55f7/j13AC5Uo2D06qZrqifqEHCQ8ROhdMRZSLsUz3zvaDcjP\n",
       "WC0gpT5tzXX8kSHPngzd492A/IAoByl10YiE5J/Q6qdzP78kHlNAqQtViCffiHnug+0e8wbk2yI4\n",
       "pABuQgib+BvMdEEG2TvmDciXhQQPKPCqSE/RsOQFZ92j3oB8VwYOKfCcU0ky+JPYvR1uWo5P2yaT\n",
       "nSNYr7dgbz8v3EHKeYaSUFQlG7rHzZD3+jc2kHJS1IQxvEwMH1R3/0iQ1cvWPJzjFFCumvcmMVx/\n",
       "yiaIXrw1PBt4EyAFFuZSf1f7S52SIHJu/fLh/YtwkHISp7g1FRr2XofD5yBz9azZTkDKSduOK5vs\n",
       "mz/tHTlDrJZZ3LNWo8AhpbNEqHuQIJI4/fB+PJiqIrVhUhlu7rynhbfNEJazRNzeu5CTAfNLtTa8\n",
       "slmyNcXHCVpnEW5OvqDLTVwhDOBtE4Sk+76ViHo7aObKYJwsS548avQ0xi7TbE3R0/zUsmK971gs\n",
       "TbxtgriGgw1vOOfxGUpFIgODbjFbZmNdsuBANDZrclXSY0xskniJeyikw+wDb5sgyWTnL9g5kT75\n",
       "3coMJk1m54Xjs8VOtZl92LF5LD6M9pG3jZCY4HRKwlhPiGHTfZKPInAydn41oVP2yarZG/jkGzqa\n",
       "bdqSPC902rNpLs3mrhAB8rYJIiQb65L2KcOmbZA3KO5+aXp6WfjG28N81tcvcJZryr/4ZyYifTBb\n",
       "lhV4VawcS4/xd0paI2+bIGrmP6Q8dJGeuPHwieo2szfwuVwA0d5Od1ZUDLuIjpbN/GDTEdp42wIp\n",
       "VlNJb1icDIu3qMutXcTQEUJhszdwL+aalC7hw6YC84oSGZb2seG1H3i1bFd2vG2BrCFMOb0YhmP4\n",
       "0sGeX/ODeXOytme4iOn998+Qkzy/AR1PEQYBKV2iGg9LCt62h9CA9JB7pxxyiOjY6BFbPcV1+t/U\n",
       "+vYKX5oXmvv20SyOIaVL9DUV2fO2PSQmg+Ixy+bSqpgRw3iDrDu9mPGM1JJ8haeraw0wMcV8vatU\n",
       "lT4id73P2vO2M0g0W8pxaWcPjWu7OnA19y7r6+Zc5MYhyVxMrovfnredQKjMHmr5eFI1uwF34+D0\n",
       "4hzyc4gdvdRCy2pm24bgWQwpcLc60DPdz5f1dyj23eN2HwigwAzyQM9w/7cd/PLnIC0gBQIc6Jnq\n",
       "7wAKv2t1jDAFFJhLbekZcv2Rc69/+zMDpJykaFmGbf8ytQ69Lpuvrk2fYDf0TOL+L2BYvm+2dxRQ\n",
       "6pHa0bOhv9kPCv0CGTfBNaW6/d7SM9b/GYcZ9CtEEkipEqmSnnnSn10z5D+XrzA+mOS9DwAAAABJ\n",
       "RU5ErkJggg==\n",
       "\" style=\"display:inline;vertical-align:middle;\" /></a><br>"
      ],
      "text/plain": [
       "multFracRightCancel: forall_{x, y in Complexes | x != 0} ((x * (y / x)) = y)"
      ]
     },
     "execution_count": 23,
     "metadata": {},
     "output_type": "execute_result"
    }
   ],
   "source": [
    "multFracRightCancel = Forall([x,y],\n",
    "                             Equals(Mult(x, frac(y, x)),y),\n",
    "                             domain = Complexes, conditions = [NotEquals(x, zero)])"
   ]
  },
  {
   "cell_type": "code",
   "execution_count": 24,
   "metadata": {},
   "outputs": [
    {
     "data": {
      "text/html": [
       "<strong id=\"fracCancelComplete\"><a class=\"ProveItLink\" href=\"_proofs_/fracCancelComplete.ipynb\">fracCancelComplete</a>:</strong> <a class=\"ProveItLink\" href=\"__pv_it/5e6f770e1a3913a7d52bc8adb8c9d5e07491cf6d0/expr.ipynb\"><img src=\"data:image/png;base64,iVBORw0KGgoAAAANSUhEUgAAALMAAAAmCAMAAAC4YVoxAAAAOVBMVEX///8oKCgUFBQJCQkQEBC6\n",
       "urrMzMxUVFRmZmZERETc3NwyMjKqqqp2dnaIiIiYmJgiIiLu7u4AAACP9cC6AAAAAXRSTlMAQObY\n",
       "ZgAAAshJREFUWMPNWIuyqyAM5JzDGwmE///YCyhK1dqKr5uZTp12wGXZhCWE3B3gGgeiQPJMgOq/\n",
       "tQWhO5Dw/VBmnoHc+YE0S4jzjlDfsN57AynvH2yCEOIa+J7hxj2AWckCPn7Ebtp00LdDZqFOIwq7\n",
       "J5DidsxGvpDGB8L/Z6L59Eans5wJ4IFV3xFyLBJdcETRyNteebiwe2+OxSRgVGDR2v3nC4aOkKk+\n",
       "OrhcGry13EzM+igO241SuZryLOCWoq6qciMiyboUSX35IaN8E2IhRIU5L7zQK7urMXvVvEFYlfgo\n",
       "MGd1Dn95CgZ5AmaekpAElcLby71GgBMw97OInM1qxwHDtpDleWIZk8sz7ENlk6YK8QYzCYlclv7G\n",
       "994UnbHC10Z3S5cyMQB2mPa11LkTeB4U5ldvDwhSyvgr56k6cmO/wqwzUp+AB5xjnrI8VNGEOeH1\n",
       "uPDXTCNicgaZYfYd5iwxzO/w3XvMh3mOuuDDRsYLD4MkcFfkyPhgy/U65nEEmVbGe8ywUxvSV6G2\n",
       "MUdyRJ9WFpMRp5GPUd6AbnE+VvONI0TOnL/4gcEmzzHrU+pGn4PRZRXDxcr1hdsvMbOXC8+QFes8\n",
       "l7cdwzxWn+rG0Ftc7nPRVpEzxvgG5nFEbwxKDU0/0bl8aduZIiUNRrp5VkxU8mhqeTrkJ1OCsKXn\n",
       "MkJFVfz+mKwNkm+qiyuFOcPRdLNpeSDW9HdiMf7DpU3PsFqfqxGlzpFSnxcIJT0Bsw1z0wedjGY8\n",
       "P46HHdooFMFWtVGNeHG5ACBxSdEJbldtNWZsr+fVceu79inFMJxgHVuLzzrmz52pEy6gvPXivYrZ\n",
       "fSbRVYJu6Nfl3W+1zK2NEQxVkjT061K9vL37ZccdauvXkY7eDTkSzQ/164h/oMkI5lC/znnyQFTm\n",
       "ZH+/TlP9BGb0vL1fZzrySGijW/t1AshDoVljvw5LofwHVtYhlNkXw10AAAAASUVORK5CYII=\n",
       "\" style=\"display:inline;vertical-align:middle;\" /></a><br>"
      ],
      "text/plain": [
       "fracCancelComplete: forall_{x in Complexes | x != 0} ((x / x) = 1)"
      ]
     },
     "execution_count": 24,
     "metadata": {},
     "output_type": "execute_result"
    }
   ],
   "source": [
    "fracCancelComplete = Forall(x, Equals(frac(x, x), one), \n",
    "                            domain=Complexes, conditions = [NotEquals(x, zero)])"
   ]
  },
  {
   "cell_type": "code",
   "execution_count": 25,
   "metadata": {},
   "outputs": [
    {
     "data": {
      "text/html": [
       "<strong id=\"reverseFractionOfSubtractions\"><a class=\"ProveItLink\" href=\"_proofs_/reverseFractionOfSubtractions.ipynb\">reverseFractionOfSubtractions</a>:</strong> <a class=\"ProveItLink\" href=\"__pv_it/ed7aaa407f3f231e62f03d6069a402fe70d89dbc0/expr.ipynb\"><img src=\"data:image/png;base64,iVBORw0KGgoAAAANSUhEUgAAAQwAAAAyBAMAAABbpfjJAAAAMFBMVEX///8QEBC6urrMzMxUVFRm\n",
       "ZmZERETc3NwyMjKqqqp2dnaIiIiYmJgiIiLu7u4AAAAU9Wx4AAAAAXRSTlMAQObYZgAABJhJREFU\n",
       "WMO1WX1oW1UU/yXvJS/JS17qZMxZlMxNFKekg+EXyIKi/lHmMrFSosOgNZNWJIisk/kRh1IZKhGZ\n",
       "iEX6EPwsjgxMxWW08Q9xMLXRwZDC4CljwiYuMrTMheq9L/elfR8Zzc3NoeS+e9477/3uueeerwJ8\n",
       "FElADGkPdCOdgSi60eCXjaSEwYgW+GU/gDi6l1tSuVIgDF+RVzKkC4QRvpZXcsoQCAOv8QpebR61\n",
       "j3Qcwzd5+3ZN3z/5iHsT3dyzGWKc0XX0MpnnNO4l+hvw1zGCKfvOnsUP1WtcAh7cdBLBVPiiucVp\n",
       "Phgx87jeEaihgeCA7ZaOObzjEnBzpeIuxKt4YnlVnVPSdKGGryQtIkJ1/uYpSpRr4D4PAYu7/KCG\n",
       "fmzLo2nql/hg7GRoDLXPhGGjfk8RF9e/hMNgMLbzwVjbHIbJ7uJ5pzVeICt126iLGygQw1KahjXF\n",
       "ZaPSxeY4gpiOkv3ed2odsy4JDy5ZwQLU5vX5Eg8MlZnUx9iSVqp2V9QI9imul3pxI1lpLV5gJp8F\n",
       "hyMK9jG9Ts+OHnWE7bFDnx91B3MvbqZyZpqtQa6jRsfjnQWBLMSSuojP6PhWR1LndcEwiBfbQ+24\n",
       "s+Ulq4JhSJcQIsYR6CzUzhcFw9D+RvST8fEXO5OaGxAMA/+Qv1xuoTOhx/KiYVwF3APs7kxox6oO\n",
       "+fDrlF5d1RtPAZugrSIp/ePA9lbCsEO0MvATcWFQL2/5WnmoKt1qSAccMP5rS3XHG+LtH20+8Arx\n",
       "HdXY5ZU8c8OfRnQfcFPvtEFgaIWtJOzOYK9GM7LIl5uJsWBzFjRRlX75vRiludFGkrQoncHYZaYW\n",
       "J1e7Kdh9N3Aunp/BfjI5JGfXE2ilRYkGDvnmDEL0udkfV54UQ7Q2iIniIAkrL92CQXxFJokQNRTl\n",
       "t5pqelatiDvdMHpxYOGjIXgQa5qpUNz8hqzLZmB+Frgrl8uVrtvYa/eFKNXxCa3ezGC2gH7El/DR\n",
       "QRqQ8qdNWOdW2MZ8QjAK4swZnZDq4bwyIdU/ha5MwDeQBBm2fvguZKoeKZNHpZehjdGmSvlrSA1t\n",
       "7OARQ2ogPPgUmaG0YQLa42alcXIk0ctAb6+DrGGcGIs1ixDb6HnaY6PbrGHUX2jN2iaBwkh2uN2q\n",
       "NUweWZ61TYlpHao4Kq4NaxTPNNt/RWKf3SxJBfyy0Y16rQIBehKqfSHK0+WHPWX2HB+yfytCKuA5\n",
       "dFMgWOUSrUOD9pdr7VpqBk7bfS+tgHOWB+Dzhzutb/YjThey1wwfP5vM59o1iMzye/lJUgG3alfO\n",
       "4jHJ3Gh4CdscHtXfrklwvbtVI11gl/9yNhbSrTr0sOPW++1cg8vXDEPtW9ku4WizMLsMpUkd6/ya\n",
       "7ClC4KWcraYg44RSnAedtQkCKX/DfuP2b7/f73m43nj0mCMSPdQKCrxNJ7xt1aZlh/9LR//yLGIC\n",
       "mF/vYJ2pWAnDk103JCO1LpznF8yquRuSyjp20H7lLuDkmsb0E+MvAt8zfxcwyv2GmB5kKh3i12fA\n",
       "PLKTZf4EKFx5kF0UutjXMWHhtZt/ZCAgKhHUnqG//wMpQm0vG698zwAAAABJRU5ErkJggg==\n",
       "\" style=\"display:inline;vertical-align:middle;\" /></a><br>"
      ],
      "text/plain": [
       "reverseFractionOfSubtractions: forall_{w, x, y, z in Complexes} (((w - x) / (y - z)) = ((x - w) / (z - y)))"
      ]
     },
     "execution_count": 25,
     "metadata": {},
     "output_type": "execute_result"
    }
   ],
   "source": [
    "reverseFractionOfSubtractions = Forall([w, x, y, z], Equals(frac(subtract(w, x), subtract(y, z)),\n",
    "                                                           frac(subtract(x, w), subtract(z, y))), \n",
    "                                       domain=Complexes)"
   ]
  },
  {
   "cell_type": "code",
   "execution_count": 26,
   "metadata": {},
   "outputs": [
    {
     "data": {
      "text/html": [
       "<strong id=\"fracIntExp\"><a class=\"ProveItLink\" href=\"_proofs_/fracIntExp.ipynb\">fracIntExp</a>:</strong> <a class=\"ProveItLink\" href=\"__pv_it/3bf75414490b380bb03d53f344827dc34f5dfa390/expr.ipynb\"><img src=\"data:image/png;base64,iVBORw0KGgoAAAANSUhEUgAAAU8AAAAyCAMAAADr2KlrAAAAOVBMVEX///8oKCgUFBQJCQkQEBC6\n",
       "urrMzMxUVFRmZmZERETc3NwyMjKqqqp2dnaIiIiYmJgiIiLu7u4AAACP9cC6AAAAAXRSTlMAQObY\n",
       "ZgAABYxJREFUeNrdXImuoyAUdWaQffX/P3aAVmWvUto0mLzk1XKPcOCuYJel/wKbvcTyO5dYv/gw\n",
       "g0z8cMcGeAcRcAih+R06cTa3CstVCvSZx60sGruxZPD3+ITLL105b0atm1oW/aF+KpbegRPxyXV2\n",
       "ixrphrzRDz0S4Xn5pMXeIGn1Eoxck5EFAXxaPpmodRHjZZifSiwIB2ZSPvlWcox0891cr3dUqqYj\n",
       "Ty0Iw5PyCcLlSZEUK7BjXol3++o6nSSF8I68akHW2DZPw6cKl6fngWzv+LQY4mA5tyDxAp2GT41C\n",
       "JXfrEZMO67iPKIVgqmZBoomchs91CzwO8stKy/swBFcg6KHWmQXZ5IR84nAcmxuy2WDHrJgaBK7m\n",
       "WEhPyCfAobpL7+8tIXdDLlyFoNWcgIffTMIn3IK42vgPiC0c3kWhdQiGazY3VPhJ+JSRU3DOg2u8\n",
       "3K18Yd2AUNVwQZOIT/Munz9QYCLRsrCho1whkXeTIiAbEGbjNQO6RXyek6JkF59vAAwzn2SI0Wiq\n",
       "m8ZV5aAhn+LgnZkuPt8AGJVUDylqy3YCgHTVIfGQT3pkWKRP398AGBZ9qhFGQ/fRDQOH5PzRvqow\n",
       "7/RH/QDDks0RT9bkxaTBmnbgiE8lqL90r3/vBxjm3kcEGhu+HpPFgiSOlzbiLi16+ewHGJUdjSjA\n",
       "R3Hkre8Bi/lEnhZCu/nsBhh0oe2GI8QsuLIqSmv91taL1jGfq0M1rBHdIYEJxlU+qwAri242AkLj\n",
       "J0MIiSuyeYNyBPhGuKQ67YEGSX7k+C3VpSXG2BX37VCEkaaeH1UArFjUh4bBxw5KiufcFGQLDSp8\n",
       "buXrTs5aFKvyyVI+HRU6o0uSlRpjb9tvoaKqkW+WAdyj+DU+qSfJ78ocuhvJlhqMXp+8c31mfFpV\n",
       "hY9ZD3bvVCiOF9zK30+AtA/0Gp/e9hrPlOYl2VKDPj6xDi7yEX23vUXetoW7d6H1UrBYqznrITuA\n",
       "XUhYCgKPmE3KYDMr6H3UbFnFY0SeLlmQLTUI/fuAxIy+8O/X/ZFNmZ6llWD3DgbSRhjRri/tAIux\n",
       "xpYew5P2rkIFPo9myLvZf/ZPPsu5O11P2XqDwfHS8iJprfv/NF4KSyvH7h3UPqgk7gth3ZEju1Gv\n",
       "2wHciQl4zJeTVrrAZ9zs6cri5RfKFhuMjufBqHjeKbQJKPK7d+ZcViuHbjyCNvjcAdw+jkRhg2Bf\n",
       "7PwvambIHjG7J+xHLgLZcoMw34wjMYNAR67GSBOC15QgzTfjRb3su3eIxs5o1Q19P7Etr0SZp6xD\n",
       "0yrn82xGrCL//cO8Oj/wtli23qBVD2GZe73gqEAJ4gz9rtZDop6du3eGPCddIYSEIBpd4HMBxtUR\n",
       "7WqljPq4lLOSfz+aHaHQsoeXtlEimzd4Wa976Oa943XJCZNUvQm7Vq+rX2K3n6/yzXBCsFTSJQE+\n",
       "/LCfRDFeOpq5u+cwpJTYZLJ5g6wjJF2wJnGvlxJ4nkME/MpqNYZe4/Ny/l6pouVRZnF6xQtZ/rrO\n",
       "QpJhCJ2610sGFJcgDq2m1erB8g0+Ib3GJ3sly64U7Exi+2zsqpabx+sUKEFU+C0rxwf5LERrJT4V\n",
       "fyGrLtSKk1jG+AjGBlH3jteZbc0hjrGqK3W87+4Xf+gcexY7PjwLEHeP1wmSQ+yfq0SpCc8zJLEO\n",
       "Zs18u7FAYQ1CV+dkyvM28eaO39rt2aSTrAKh9LU0dZ7zijgNHbuKJMe5xBiCAlpX9xnPK8bHYfxi\n",
       "BT3bWWaP/WMIVveJcRo10XnvwMsi3jpg2K4iMZpDINkwNHOe944csEF77tVB6JpBmEb4SmZ9H6Hy\n",
       "vsyn/eC078u0fMYH3eC873NFlaxvhb0Tv29YGN33ZxBO9b42+e750/Hva//a7wngr/6eACn9nsB/\n",
       "pglJQT7/gtYAAAAASUVORK5CYII=\n",
       "\" style=\"display:inline;vertical-align:middle;\" /></a><br>"
      ],
      "text/plain": [
       "fracIntExp: forall_{n in Integers} [forall_{a, b | a != 0 , b != 0} ((a^{n} / b^{n}) = a / b^{n})]"
      ]
     },
     "execution_count": 26,
     "metadata": {},
     "output_type": "execute_result"
    }
   ],
   "source": [
    "fracIntExp = Forall(n, Forall((a, b), \n",
    "                              Equals(frac(Exp(a, n), Exp(b, n)),\n",
    "                                     Exp(frac(a, b), n)),\n",
    "                             conditions = [NotEquals(a, zero), NotEquals(b, zero)]),\n",
    "                    domain=Integers)"
   ]
  },
  {
   "cell_type": "code",
   "execution_count": 27,
   "metadata": {},
   "outputs": [
    {
     "data": {
      "text/html": [
       "<strong id=\"fracNatPosExp\"><a class=\"ProveItLink\" href=\"_proofs_/fracNatPosExp.ipynb\">fracNatPosExp</a>:</strong> <a class=\"ProveItLink\" href=\"__pv_it/12f4af24aff691f69e5f94b5f226f918d35abc540/expr.ipynb\"><img src=\"data:image/png;base64,iVBORw0KGgoAAAANSUhEUgAAATgAAAAyCAMAAAD/TTeKAAAAOVBMVEX///8oKCgUFBQJCQkQEBC6\n",
       "urrMzMxUVFRmZmZERETc3NwyMjKqqqp2dnaIiIiYmJgiIiLu7u4AAACP9cC6AAAAAXRSTlMAQObY\n",
       "ZgAABWdJREFUaN7dW4mSpCgQdWYQEpDL///YBcoDkLTQpmrDNqIjpmR8ko+8wWHodJHZX2r40qXG\n",
       "4XuXYy57d5CUdEMnE6XUfUkUOKyQAT1qxT7zulGmgjkv6NSROPo9FTgS5Mw4m2GwH5qEkcUN+kji\n",
       "Jnu4JZwOss3iQ69k8AuIE9VXMe1NivTUssz4yfR84qTC3g8wdAsahfFPxD2duGmuhSAxxzmM7bPQ\n",
       "5jR6lsYv4enEkVThBNNqJF64kcdga9p54yVEiJ648Y+Z/3wgcSZVuCgwn38SYDKIjc2K8Wcq90Di\n",
       "LEvtM2gY8BsebJ1uASENavzZij2PuHFO3D+LimL1dRgOdQixG+TB+Gf9ZOIgnfEcZHMzvUG/QyAA\n",
       "Lz6YfTJxBFJL1THKesmvZjSAQQg8h56SoccRR+ckEXXxB5PDRK+iCBRCAuoXE1t9HHE6S+KCK58s\n",
       "DFebMmBxCIPHaMtT4lxX4j7dHuHZSvsUTI+U66vlAtE4hJsn1MnNKXE7+Ub/nLheaOhbeBd7P7MO\n",
       "C7i6i4Q4tREs3c+J64WGuhnVxd5PGyEWjw5TQpzYSg/ewVR7oaFphOlh7/YerXSPDiE4rKoBU4/g\n",
       "0AkNrbd6wFp+vjgU1XdIiTNKxMt2iaqd0FBt6BG7Z2jOeIoHeZaOzDxcVnUhrhMalkf0aPGm+di1\n",
       "YSIz4lgUmTdOSb0h7hraxYvNF0IOyOQ6tAZOFBJddGsz4sYA6mTrdN4Qh6KNMr05YgODi5wrpeE0\n",
       "k/pJNmJuWrIleeUQeNQoGJUAXkxNwLUQh6Op9FGODQwQgLRaluCMuLl+XSnbao/hxMmCuCCmPdqA\n",
       "0wDghwwflB9VrknjMDT/2gkhLhsQka7Y6j/aZSeNm25qXEmcNyx6XF3NR+Gcn7vxRQBE4oAxZv3f\n",
       "dEZcHW0o9u44OiCigw6c2elHxIFNLv4JU/WTZS+fk2yJme1xQycqdLPG7WiDAK043fIjrffdEJ4m\n",
       "TsnAqF6yReL0Map2qEfEeVRtDw6+lljaBemW2O6wDfWkGdpM3Io2OCv8LFdRtb9rWIW4ZYDF6PfP\n",
       "/+ml0Vgjrke0Pq/bToJukY7s7YJkS4yqlDifhCjWStzWfAjb33RbJO7vGlshLh1YogqmcX0SYNIp\n",
       "AQ7crGqxbYlRGxPZKJSfrDDONhO3ooXtAc3S/7Dvq/D8yWXA8TUJDZpFpmPJlXeQHCM3ShTJzyAm\n",
       "VKuLkusgftwScyzTuGGk+kWHaG5kRg/PjVueCH7dmgpxywD3Rvr3j4ym+kI7SnAs8pfM9tJhJSA1\n",
       "iC05ai3yc/se1i0xJjLifBHqmkqu9JYLrS+vf0KKmN9NshZV9wGxiRDzON7QVnrZ1bXDSsVZgMI0\n",
       "uWxrK+Urum+JOT6uif3rX2y4StwI2uiQCcYEwP9S1XRkH+C7QFprcO8bmct21bXDSnmTdywiNR5z\n",
       "80bmSVW6+LhrRT7SDzr0xGor+r4zwIsJK1s65yYnBzWI1R4FXikPTcTd647UvYNoIa6hXNaFekjm\n",
       "c0AzXDysZEgNosojou7fIu6YGVWIMw1NyiJXcDFB8DnKtcNKLgnOG8Qqh2npN/1/24N3T+vmOdjL\n",
       "zRN19bCS4keI5SfOiHnyhnSRSoB839GtKw9FICzO/bOPQOQ7AnEr784OjpZ1CGPbKrUnHvOCMgW7\n",
       "Vflv57kyCEHEiaU++phXfkQhqh+5s7/h1mQ5g5An8SkrMB55lDVJLUNnEO7FmVjNFBBMn/mIhx9l\n",
       "zeKeY7EyucfcWEK4syyQP/7wNHJc/9NB6fnH9U89+Odi0i/4QCRtsnzrgt/wSdJRjO8vFX3oZ5dc\n",
       "f5W3z352+dUPfeGrH/ryyoe+/wE2oEPas1CEeQAAAABJRU5ErkJggg==\n",
       "\" style=\"display:inline;vertical-align:middle;\" /></a><br>"
      ],
      "text/plain": [
       "fracNatPosExp: forall_{n in NaturalsPos} [forall_{a, b | b != 0} ((a^{n} / b^{n}) = a / b^{n})]"
      ]
     },
     "execution_count": 27,
     "metadata": {},
     "output_type": "execute_result"
    }
   ],
   "source": [
    "fracNatPosExp = Forall(n, Forall((a, b), \n",
    "                              Equals(frac(Exp(a, n), Exp(b, n)),\n",
    "                                     Exp(frac(a, b), n)),\n",
    "                             conditions = [NotEquals(b, zero)]),\n",
    "                    domain=NaturalsPos)"
   ]
  },
  {
   "cell_type": "code",
   "execution_count": 28,
   "metadata": {},
   "outputs": [
    {
     "name": "stdout",
     "output_type": "stream",
     "text": [
      "Theorems may be imported from autogenerated _theorems_.py\n"
     ]
    }
   ],
   "source": [
    "%end theorems"
   ]
  },
  {
   "cell_type": "code",
   "execution_count": null,
   "metadata": {},
   "outputs": [],
   "source": []
  }
 ],
 "metadata": {
  "kernelspec": {
   "display_name": "Python 3",
   "language": "python",
   "name": "python3"
  }
 },
 "nbformat": 4,
 "nbformat_minor": 0
}
