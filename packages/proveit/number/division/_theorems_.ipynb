{
 "cells": [
  {
   "cell_type": "markdown",
   "metadata": {},
   "source": [
    "Theorems for context <a href=\"_context_.html\">proveit.number.division</a>\n",
    "========"
   ]
  },
  {
   "cell_type": "code",
   "execution_count": null,
   "metadata": {},
   "outputs": [],
   "source": [
    "import proveit\n",
    "# the context is in the current directory:\n",
    "context = proveit.Context('.') # adds context root to sys.path if necessary\n",
    "from proveit.logic import Forall, InSet, Equals, NotEquals, Implies\n",
    "from proveit.number import Integers, NaturalsPos, Reals, RealsPos, Complexes\n",
    "from proveit.number import Div, Frac, Add, Subtract, Sum, Mult, Exp, zero, one\n",
    "from proveit._common_ import a, b, c, n, w, x, y, z, P, S #, wMulti, xMulti, yMulti, zMulti, wEtc, xEtc, yEtc, zEtc, PyEtc\n",
    "from proveit.number._common_ import ComplexesSansZero"
   ]
  },
  {
   "cell_type": "code",
   "execution_count": null,
   "metadata": {},
   "outputs": [],
   "source": [
    "%begin theorems"
   ]
  },
  {
   "cell_type": "code",
   "execution_count": null,
   "metadata": {},
   "outputs": [],
   "source": [
    "divideRealClosure = Forall([a, b], InSet(Div(a, b), Reals), domain=Reals, conditions=[NotEquals(b, zero)])"
   ]
  },
  {
   "cell_type": "code",
   "execution_count": null,
   "metadata": {},
   "outputs": [],
   "source": [
    "divideRealPosClosure = Forall([a, b], InSet(Div(a, b), RealsPos), domain=RealsPos, conditions=[NotEquals(b, zero)])"
   ]
  },
  {
   "cell_type": "code",
   "execution_count": null,
   "metadata": {},
   "outputs": [],
   "source": [
    "fractionRealClosure = Forall([a, b], InSet(Frac(a, b), Reals), domain=Reals, conditions=[NotEquals(b, zero)])"
   ]
  },
  {
   "cell_type": "code",
   "execution_count": null,
   "metadata": {},
   "outputs": [],
   "source": [
    "fractionPosClosure = Forall([a, b], InSet(Frac(a, b), RealsPos), domain=RealsPos, conditions=[NotEquals(b, zero)])"
   ]
  },
  {
   "cell_type": "code",
   "execution_count": null,
   "metadata": {},
   "outputs": [],
   "source": [
    "divideComplexClosure = Forall([a, b], InSet(Div(a, b), Complexes), domain=Complexes, conditions=[NotEquals(b, zero)])"
   ]
  },
  {
   "cell_type": "code",
   "execution_count": null,
   "metadata": {},
   "outputs": [],
   "source": [
    "fractionComplexClosure = Forall([a, b], InSet(Frac(a, b), Complexes), domain=Complexes, conditions=[NotEquals(b, zero)])"
   ]
  },
  {
   "cell_type": "code",
   "execution_count": null,
   "metadata": {},
   "outputs": [],
   "source": [
    "fracNotEqZero = Forall([a, b], NotEquals(Frac(a,b), zero), domain=ComplexesSansZero)"
   ]
  },
  {
   "cell_type": "code",
   "execution_count": null,
   "metadata": {},
   "outputs": [],
   "source": [
    "fracZeroNumer = Forall(x, Equals(Frac(zero, x), zero), domain=Complexes)"
   ]
  },
  {
   "cell_type": "code",
   "execution_count": null,
   "metadata": {},
   "outputs": [],
   "source": [
    "fracOneDenom = Forall(x, Equals(Frac(x, one), x), domain=Complexes)"
   ]
  },
  {
   "cell_type": "code",
   "execution_count": null,
   "metadata": {},
   "outputs": [],
   "source": [
    "\"\"\"\n",
    "distributeFractionThroughSum = Forall([xMulti, y], \n",
    "                                      Equals(Frac(Add(xEtc), y),\n",
    "                                             Add(Etcetera(Frac(xMulti, y)))), \n",
    "                                      domain=Complexes, conditions=[NotEquals(y, zero)])\n",
    "\"\"\""
   ]
  },
  {
   "cell_type": "code",
   "execution_count": null,
   "metadata": {},
   "outputs": [],
   "source": [
    "\"\"\"\n",
    "distributeFractionThroughSubtract = Forall([x, y, z], \n",
    "                                          Equals(Frac(Sub(x, y), z),\n",
    "                                                 Sub(Frac(x, z), Frac(y, z))), \n",
    "                                          domain=Complexes, conditions=[NotEquals(z, zero)])\n",
    "\"\"\""
   ]
  },
  {
   "cell_type": "code",
   "execution_count": null,
   "metadata": {},
   "outputs": [],
   "source": [
    "\"\"\"\n",
    "distributeFractionThroughSummation = Forall([P, S],\n",
    "                                    Implies(Forall(yMulti, InSet(PyEtc, Complexes), domain=S),\n",
    "                                            Forall(z,\n",
    "                                                   Equals(Frac(Sum(yMulti, PyEtc, domain=S), z),\n",
    "                                                          Sum(yMulti, Frac(PyEtc, z), domain=S)),\n",
    "                                                  domain=Complexes)))\n",
    "\"\"\""
   ]
  },
  {
   "cell_type": "code",
   "execution_count": null,
   "metadata": {},
   "outputs": [],
   "source": [
    "\"\"\"\n",
    "fracInProd = Forall([wMulti, x, y, zMulti], Equals(Mult(wEtc, Frac(x, y), zEtc),\n",
    "                                                   Frac(Mult(wEtc, x, zEtc), y)), domain=Complexes)\n",
    "\"\"\""
   ]
  },
  {
   "cell_type": "code",
   "execution_count": null,
   "metadata": {},
   "outputs": [],
   "source": [
    "prodOfFracs = Forall([x, y, z, w], Equals(Mult(Frac(x, z), Frac(y, w)),\n",
    "                                           Frac(Mult(x, y), Mult(z, w))), domain=Complexes)"
   ]
  },
  {
   "cell_type": "code",
   "execution_count": null,
   "metadata": {},
   "outputs": [],
   "source": [
    "prodOfFracsLeftNumerOne = Forall([x, y, z], Equals(Mult(Frac(one, y), Frac(x, z)),\n",
    "                                                 Frac(x, Mult(y, z))), domain=Complexes)"
   ]
  },
  {
   "cell_type": "code",
   "execution_count": null,
   "metadata": {},
   "outputs": [],
   "source": [
    "prodOfFracsRightNumerOne = Forall([x, y, z], Equals(Mult(Frac(x, y), Frac(one, z)),\n",
    "                                                 Frac(x, Mult(y, z))), domain=Complexes)"
   ]
  },
  {
   "cell_type": "code",
   "execution_count": null,
   "metadata": {},
   "outputs": [],
   "source": [
    "fracCancelLeft = Forall([x,y,z],\n",
    "                   Equals(Frac(Mult(x,y),Mult(x,z)),\n",
    "                         Frac(y,z)),domain=Complexes, conditions=[NotEquals(x, zero)])"
   ]
  },
  {
   "cell_type": "code",
   "execution_count": null,
   "metadata": {},
   "outputs": [],
   "source": [
    "fracCancelDenomLeft = Forall([x,y],\n",
    "                             Equals(Frac(Mult(x,y),x), y),\n",
    "                             domain=Complexes, conditions=[NotEquals(x, zero)])"
   ]
  },
  {
   "cell_type": "code",
   "execution_count": null,
   "metadata": {},
   "outputs": [],
   "source": [
    "fracCancelNumerLeft = Forall([x,y],\n",
    "                             Equals(Frac(x,Mult(x,y)),\n",
    "                                    Frac(one,y)),domain=Complexes, conditions=[NotEquals(x, zero)])"
   ]
  },
  {
   "cell_type": "code",
   "execution_count": null,
   "metadata": {},
   "outputs": [],
   "source": [
    "multFracLeftCancel = Forall([x,y],\n",
    "                      Equals(Mult(Frac(x,y),y),x),\n",
    "                      domain = Complexes, conditions = [NotEquals(y, zero)])"
   ]
  },
  {
   "cell_type": "code",
   "execution_count": null,
   "metadata": {},
   "outputs": [],
   "source": [
    "multFracRightCancel = Forall([x,y],\n",
    "                             Equals(Mult(x, Frac(y, x)),y),\n",
    "                             domain = Complexes, conditions = [NotEquals(x, zero)])"
   ]
  },
  {
   "cell_type": "code",
   "execution_count": null,
   "metadata": {},
   "outputs": [],
   "source": [
    "fracCancelComplete = Forall(x, Equals(Frac(x, x), one), \n",
    "                            domain=Complexes, conditions = [NotEquals(x, zero)])"
   ]
  },
  {
   "cell_type": "code",
   "execution_count": null,
   "metadata": {},
   "outputs": [],
   "source": [
    "reverseFractionOfSubtractions = Forall([w, x, y, z], Equals(Frac(Subtract(w, x), Subtract(y, z)),\n",
    "                                                           Frac(Subtract(x, w), Subtract(z, y))), \n",
    "                                       domain=Complexes)"
   ]
  },
  {
   "cell_type": "code",
   "execution_count": null,
   "metadata": {},
   "outputs": [],
   "source": [
    "fracIntExp = Forall(n, Forall((a, b), \n",
    "                              Equals(Frac(Exp(a, n), Exp(b, n)),\n",
    "                                     Exp(Frac(a, b), n)),\n",
    "                             conditions = [NotEquals(a, zero), NotEquals(b, zero)]),\n",
    "                    domain=Integers)"
   ]
  },
  {
   "cell_type": "code",
   "execution_count": null,
   "metadata": {},
   "outputs": [],
   "source": [
    "fracNatPosExp = Forall(n, Forall((a, b), \n",
    "                              Equals(Frac(Exp(a, n), Exp(b, n)),\n",
    "                                     Exp(Frac(a, b), n)),\n",
    "                             conditions = [NotEquals(b, zero)]),\n",
    "                    domain=NaturalsPos)"
   ]
  },
  {
   "cell_type": "code",
   "execution_count": null,
   "metadata": {},
   "outputs": [],
   "source": [
    "%end theorems"
   ]
  },
  {
   "cell_type": "code",
   "execution_count": null,
   "metadata": {},
   "outputs": [],
   "source": []
  }
 ],
 "metadata": {
  "kernelspec": {
   "display_name": "Python 3",
   "language": "python",
   "name": "python3"
  }
 },
 "nbformat": 4,
 "nbformat_minor": 0
}
