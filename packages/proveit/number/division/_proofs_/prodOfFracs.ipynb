{
 "cells": [
  {
   "cell_type": "markdown",
   "metadata": {},
   "source": [
    "Proof of <a class=\"ProveItLink\" href=\"../../../_context_.ipynb\">proveit</a>.<a class=\"ProveItLink\" href=\"../../_context_.ipynb\">number</a>.<a class=\"ProveItLink\" href=\"../_context_.ipynb\">division</a>.<a class=\"ProveItLink\" href=\"../_theorems_.ipynb#prodOfFracs\">prodOfFracs</a> theorem\n",
    "========"
   ]
  },
  {
   "cell_type": "code",
   "execution_count": 1,
   "metadata": {},
   "outputs": [],
   "source": [
    "import proveit\n",
    "context = proveit.Context('..') # the theorem's context is in the parent directory"
   ]
  },
  {
   "cell_type": "code",
   "execution_count": 2,
   "metadata": {},
   "outputs": [
    {
     "name": "stdout",
     "output_type": "stream",
     "text": [
      "Beginning proof of prodOfFracs\n",
      "Recorded 'presuming' information\n",
      "Presuming previous theorems (applied transitively).\n"
     ]
    },
    {
     "data": {
      "text/html": [
       "<strong id=\"prodOfFracs\">prodOfFracs:</strong> <a class=\"ProveItLink\" href=\"../__pv_it/37c47c07f22d89e08ebd0a8b16273f95f89c24d70/expr.ipynb\"><img src=\"data:image/png;base64,iVBORw0KGgoAAAANSUhEUgAAAQ4AAAAmBAMAAADHF2h5AAAAMFBMVEX///8QEBC6urrMzMxUVFRm\n",
       "ZmZERETc3NwyMjKqqqp2dnaIiIiYmJgiIiLu7u4AAAAU9Wx4AAAAAXRSTlMAQObYZgAABHZJREFU\n",
       "WMOtmF+IVFUYwL+ZO7N3Zu6dO2tiIvowZWKYsROIUiCzGPTQUmyRELtJU9r4JFx8UCt156U2RGSh\n",
       "P4IQDYFKSHEDXaqJdnwTxBwIRKTgbsgGa7pDUmLmbuc73+zOOdOZOedWH3jOHe/vnPvd+/09C/Cv\n",
       "5Fs+OvWugPe88V4R0E5xSnyaZP/eOvvmuUDc9WQVxkKAR9UrRVyDGsjHfEw32F5V98dYQ7iViTdh\n",
       "qq1q57uLeG/U5Esu59N0ge0FTjNdEO49mWxAGS+OqlYu4be0qIH0DfPpDVQJEvLbhLEA7uHFmK96\n",
       "gxbu3deiBjIQ4hif5z9igXzzk9C6jXNyULmWcO9BA1Qr7/AxRV9lrAChePNlcPpxtu8o14q4BtWJ\n",
       "RcuK+DVdfwqcUFayb1DQVhYZ74nqJUkOv4N/2vpr8LZ09yUYoLRyWbFUxkU0jK5HyyNW4zDzzewZ\n",
       "OZvN1F4lt5ub+OdSGRdR/m4XI+lR5HFKLqaSz2nKDuu3aqOf4Xwskh5TlFObypuJhrdq8Uqzj4Tu\n",
       "Q3+NltD2UBJRPyZb7atCL0W7oCnmIMmJSHpcoV3UyqdrL7au4rc1+0ioe3r//kPR/PR3PuZ05rfu\n",
       "mmcChv5RLl+LVl3ukY8HZpzplk8D7I6kh/0XJca6DvyTss17XAZ16CPgVfQP//XIc6OLH5H0KHbo\n",
       "4YVq+5maOturreIPOLe9bm0OrSOy3YvcuRe4cDth/OTo90JTrceCQhZRp57tnVMn198KXZaMN6j0\n",
       "aMt06b99D6+yiV2c2XaWZcn4JMSYUtbVX/Ahj5XsyrTvYlysfZ/5RW+7dIur5E9cSlp09zbWJ4XP\n",
       "xNijb+T8JzC9bRxBewR3nFIqn0Luu+8FP6U4GAvM/NRIEP2QGTZOvdnhx3nvCx5+DvvnRiJw/Kc6\n",
       "9Wjtn6uaxZVxCFL5pJ7iWRjCaS9l/SCWz8DWcrkcPLxWWLWCqu7/nMfARTe1+i38jwcAW2CrYGE9\n",
       "zhbmwIHrXKUbbf+Ad6kd0xWltHmXtYQWM5UMHPBhebxpj8OmTz8CNmULRTgOCVTJGvGhtrjqBfK/\n",
       "fs3mmaaxHkvozNejX2AEfDBZYeEQPDSOUREfqo1OgPc6ArNXduXbnTB/h3ldV18x1qMDrdt+IgC3\n",
       "1UouKcv8Q8Ko0fJ05s8FxnrIqOX3VdkZbwv92tJ1VatR1zW3RfNTiYy6rCNgwdjKT93TlEuecZ5a\n",
       "h2V5sU+eHQG34q4Uej5JRFqDGlTp38g83GH2XdwuBs7wADsLpLnJ1iiWirQGNZBT5Dd8xxCuC+XJ\n",
       "mtgBuTrsRD9WxVOLxtqsQw1kjjfsHvV99qB0fl2NxsZUm1UalmiszVrU4M8fFGZf8XGd7ADz8CXw\n",
       "zS8pl65r12YdaiD0h4IUvkZaLjPJCuwCmwW2vVKZOKvGqIncJMP8wIYTAKJh2IH1GisGTEnlGUCk\n",
       "NahRfRznEysE1tFXLuTFDF2yVsBBdjGkrGci3Rs1EyrIdh6ScHmVdGekNoMnWC+vPKFLtIj+DTiC\n",
       "gDcUKCrmAAAAAElFTkSuQmCC\n",
       "\" style=\"display:inline;vertical-align:middle;\" /></a><br>(see <a class=\"ProveItLink\" href=\"../__pv_it/37c47c07f22d89e08ebd0a8b16273f95f89c24d70/dependencies.ipynb\">dependencies</a>)<br>"
      ],
      "text/plain": [
       "prodOfFracs: forall_{x, y, z, w in Complexes} (((x / z) * (y / w)) = ((x * y) / (z * w)))"
      ]
     },
     "execution_count": 2,
     "metadata": {},
     "output_type": "execute_result"
    }
   ],
   "source": [
    "%proving prodOfFracs presuming []"
   ]
  },
  {
   "cell_type": "code",
   "execution_count": null,
   "metadata": {},
   "outputs": [],
   "source": []
  }
 ],
 "metadata": {
  "kernelspec": {
   "display_name": "Python 3",
   "language": "python",
   "name": "python3"
  }
 },
 "nbformat": 4,
 "nbformat_minor": 0
}
