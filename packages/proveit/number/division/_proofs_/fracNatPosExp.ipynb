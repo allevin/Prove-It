{
 "cells": [
  {
   "cell_type": "markdown",
   "metadata": {},
   "source": [
    "Proof of <a class=\"ProveItLink\" href=\"../../../_context_.ipynb\">proveit</a>.<a class=\"ProveItLink\" href=\"../../_context_.ipynb\">number</a>.<a class=\"ProveItLink\" href=\"../_context_.ipynb\">division</a>.<a class=\"ProveItLink\" href=\"../_theorems_.ipynb#fracNatPosExp\">fracNatPosExp</a> theorem\n",
    "========"
   ]
  },
  {
   "cell_type": "code",
   "execution_count": 1,
   "metadata": {},
   "outputs": [],
   "source": [
    "import proveit\n",
    "context = proveit.Context('..') # the theorem's context is in the parent directory"
   ]
  },
  {
   "cell_type": "code",
   "execution_count": 2,
   "metadata": {},
   "outputs": [
    {
     "name": "stdout",
     "output_type": "stream",
     "text": [
      "Beginning proof of fracNatPosExp\n",
      "Recorded 'presuming' information\n",
      "Presuming previous theorems (applied transitively).\n"
     ]
    },
    {
     "data": {
      "text/html": [
       "<strong id=\"fracNatPosExp\">fracNatPosExp:</strong> <a class=\"ProveItLink\" href=\"../__pv_it/12f4af24aff691f69e5f94b5f226f918d35abc540/expr.ipynb\"><img src=\"data:image/png;base64,iVBORw0KGgoAAAANSUhEUgAAATgAAAAyCAMAAAD/TTeKAAAAOVBMVEX///8oKCgUFBQJCQkQEBC6\n",
       "urrMzMxUVFRmZmZERETc3NwyMjKqqqp2dnaIiIiYmJgiIiLu7u4AAACP9cC6AAAAAXRSTlMAQObY\n",
       "ZgAABWdJREFUaN7dW4mSpCgQdWYQEpDL///YBcoDkLTQpmrDNqIjpmR8ko+8wWHodJHZX2r40qXG\n",
       "4XuXYy57d5CUdEMnE6XUfUkUOKyQAT1qxT7zulGmgjkv6NSROPo9FTgS5Mw4m2GwH5qEkcUN+kji\n",
       "Jnu4JZwOss3iQ69k8AuIE9VXMe1NivTUssz4yfR84qTC3g8wdAsahfFPxD2duGmuhSAxxzmM7bPQ\n",
       "5jR6lsYv4enEkVThBNNqJF64kcdga9p54yVEiJ648Y+Z/3wgcSZVuCgwn38SYDKIjc2K8Wcq90Di\n",
       "LEvtM2gY8BsebJ1uASENavzZij2PuHFO3D+LimL1dRgOdQixG+TB+Gf9ZOIgnfEcZHMzvUG/QyAA\n",
       "Lz6YfTJxBFJL1THKesmvZjSAQQg8h56SoccRR+ckEXXxB5PDRK+iCBRCAuoXE1t9HHE6S+KCK58s\n",
       "DFebMmBxCIPHaMtT4lxX4j7dHuHZSvsUTI+U66vlAtE4hJsn1MnNKXE7+Ub/nLheaOhbeBd7P7MO\n",
       "C7i6i4Q4tREs3c+J64WGuhnVxd5PGyEWjw5TQpzYSg/ewVR7oaFphOlh7/YerXSPDiE4rKoBU4/g\n",
       "0AkNrbd6wFp+vjgU1XdIiTNKxMt2iaqd0FBt6BG7Z2jOeIoHeZaOzDxcVnUhrhMalkf0aPGm+di1\n",
       "YSIz4lgUmTdOSb0h7hraxYvNF0IOyOQ6tAZOFBJddGsz4sYA6mTrdN4Qh6KNMr05YgODi5wrpeE0\n",
       "k/pJNmJuWrIleeUQeNQoGJUAXkxNwLUQh6Op9FGODQwQgLRaluCMuLl+XSnbao/hxMmCuCCmPdqA\n",
       "0wDghwwflB9VrknjMDT/2gkhLhsQka7Y6j/aZSeNm25qXEmcNyx6XF3NR+Gcn7vxRQBE4oAxZv3f\n",
       "dEZcHW0o9u44OiCigw6c2elHxIFNLv4JU/WTZS+fk2yJme1xQycqdLPG7WiDAK043fIjrffdEJ4m\n",
       "TsnAqF6yReL0Map2qEfEeVRtDw6+lljaBemW2O6wDfWkGdpM3Io2OCv8LFdRtb9rWIW4ZYDF6PfP\n",
       "/+ml0Vgjrke0Pq/bToJukY7s7YJkS4yqlDifhCjWStzWfAjb33RbJO7vGlshLh1YogqmcX0SYNIp\n",
       "AQ7crGqxbYlRGxPZKJSfrDDONhO3ooXtAc3S/7Dvq/D8yWXA8TUJDZpFpmPJlXeQHCM3ShTJzyAm\n",
       "VKuLkusgftwScyzTuGGk+kWHaG5kRg/PjVueCH7dmgpxywD3Rvr3j4ym+kI7SnAs8pfM9tJhJSA1\n",
       "iC05ai3yc/se1i0xJjLifBHqmkqu9JYLrS+vf0KKmN9NshZV9wGxiRDzON7QVnrZ1bXDSsVZgMI0\n",
       "uWxrK+Urum+JOT6uif3rX2y4StwI2uiQCcYEwP9S1XRkH+C7QFprcO8bmct21bXDSnmTdywiNR5z\n",
       "80bmSVW6+LhrRT7SDzr0xGor+r4zwIsJK1s65yYnBzWI1R4FXikPTcTd647UvYNoIa6hXNaFekjm\n",
       "c0AzXDysZEgNosojou7fIu6YGVWIMw1NyiJXcDFB8DnKtcNKLgnOG8Qqh2npN/1/24N3T+vmOdjL\n",
       "zRN19bCS4keI5SfOiHnyhnSRSoB839GtKw9FICzO/bOPQOQ7AnEr784OjpZ1CGPbKrUnHvOCMgW7\n",
       "Vflv57kyCEHEiaU++phXfkQhqh+5s7/h1mQ5g5An8SkrMB55lDVJLUNnEO7FmVjNFBBMn/mIhx9l\n",
       "zeKeY7EyucfcWEK4syyQP/7wNHJc/9NB6fnH9U89+Odi0i/4QCRtsnzrgt/wSdJRjO8vFX3oZ5dc\n",
       "f5W3z352+dUPfeGrH/ryyoe+/wE2oEPas1CEeQAAAABJRU5ErkJggg==\n",
       "\" style=\"display:inline;vertical-align:middle;\" /></a><br>(see <a class=\"ProveItLink\" href=\"../__pv_it/12f4af24aff691f69e5f94b5f226f918d35abc540/dependencies.ipynb\">dependencies</a>)<br>"
      ],
      "text/plain": [
       "fracNatPosExp: forall_{n in NaturalsPos} [forall_{a, b | b != 0} ((a^{n} / b^{n}) = a / b^{n})]"
      ]
     },
     "execution_count": 2,
     "metadata": {},
     "output_type": "execute_result"
    }
   ],
   "source": [
    "%proving fracNatPosExp presuming []"
   ]
  },
  {
   "cell_type": "code",
   "execution_count": null,
   "metadata": {},
   "outputs": [],
   "source": []
  }
 ],
 "metadata": {
  "kernelspec": {
   "display_name": "Python 3",
   "language": "python",
   "name": "python3"
  }
 },
 "nbformat": 4,
 "nbformat_minor": 0
}
