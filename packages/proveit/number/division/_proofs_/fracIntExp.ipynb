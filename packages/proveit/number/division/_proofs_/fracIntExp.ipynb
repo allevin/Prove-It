{
 "cells": [
  {
   "cell_type": "markdown",
   "metadata": {},
   "source": [
    "Proof of <a class=\"ProveItLink\" href=\"../../../_context_.ipynb\">proveit</a>.<a class=\"ProveItLink\" href=\"../../_context_.ipynb\">number</a>.<a class=\"ProveItLink\" href=\"../_context_.ipynb\">division</a>.<a class=\"ProveItLink\" href=\"../_theorems_.ipynb#fracIntExp\">fracIntExp</a> theorem\n",
    "========"
   ]
  },
  {
   "cell_type": "code",
   "execution_count": 1,
   "metadata": {},
   "outputs": [],
   "source": [
    "import proveit\n",
    "context = proveit.Context('..') # the theorem's context is in the parent directory"
   ]
  },
  {
   "cell_type": "code",
   "execution_count": 2,
   "metadata": {},
   "outputs": [
    {
     "name": "stdout",
     "output_type": "stream",
     "text": [
      "Beginning proof of fracIntExp\n",
      "Recorded 'presuming' information\n",
      "Presuming previous theorems (applied transitively).\n"
     ]
    },
    {
     "data": {
      "text/html": [
       "<strong id=\"fracIntExp\">fracIntExp:</strong> <a class=\"ProveItLink\" href=\"../__pv_it/3bf75414490b380bb03d53f344827dc34f5dfa390/expr.ipynb\"><img src=\"data:image/png;base64,iVBORw0KGgoAAAANSUhEUgAAAU8AAAAyCAMAAADr2KlrAAAAOVBMVEX///8oKCgUFBQJCQkQEBC6\n",
       "urrMzMxUVFRmZmZERETc3NwyMjKqqqp2dnaIiIiYmJgiIiLu7u4AAACP9cC6AAAAAXRSTlMAQObY\n",
       "ZgAABYxJREFUeNrdXImuoyAUdWaQffX/P3aAVmWvUto0mLzk1XKPcOCuYJel/wKbvcTyO5dYv/gw\n",
       "g0z8cMcGeAcRcAih+R06cTa3CstVCvSZx60sGruxZPD3+ITLL105b0atm1oW/aF+KpbegRPxyXV2\n",
       "ixrphrzRDz0S4Xn5pMXeIGn1Eoxck5EFAXxaPpmodRHjZZifSiwIB2ZSPvlWcox0891cr3dUqqYj\n",
       "Ty0Iw5PyCcLlSZEUK7BjXol3++o6nSSF8I68akHW2DZPw6cKl6fngWzv+LQY4mA5tyDxAp2GT41C\n",
       "JXfrEZMO67iPKIVgqmZBoomchs91CzwO8stKy/swBFcg6KHWmQXZ5IR84nAcmxuy2WDHrJgaBK7m\n",
       "WEhPyCfAobpL7+8tIXdDLlyFoNWcgIffTMIn3IK42vgPiC0c3kWhdQiGazY3VPhJ+JSRU3DOg2u8\n",
       "3K18Yd2AUNVwQZOIT/Munz9QYCLRsrCho1whkXeTIiAbEGbjNQO6RXyek6JkF59vAAwzn2SI0Wiq\n",
       "m8ZV5aAhn+LgnZkuPt8AGJVUDylqy3YCgHTVIfGQT3pkWKRP398AGBZ9qhFGQ/fRDQOH5PzRvqow\n",
       "7/RH/QDDks0RT9bkxaTBmnbgiE8lqL90r3/vBxjm3kcEGhu+HpPFgiSOlzbiLi16+ewHGJUdjSjA\n",
       "R3Hkre8Bi/lEnhZCu/nsBhh0oe2GI8QsuLIqSmv91taL1jGfq0M1rBHdIYEJxlU+qwAri242AkLj\n",
       "J0MIiSuyeYNyBPhGuKQ67YEGSX7k+C3VpSXG2BX37VCEkaaeH1UArFjUh4bBxw5KiufcFGQLDSp8\n",
       "buXrTs5aFKvyyVI+HRU6o0uSlRpjb9tvoaKqkW+WAdyj+DU+qSfJ78ocuhvJlhqMXp+8c31mfFpV\n",
       "hY9ZD3bvVCiOF9zK30+AtA/0Gp/e9hrPlOYl2VKDPj6xDi7yEX23vUXetoW7d6H1UrBYqznrITuA\n",
       "XUhYCgKPmE3KYDMr6H3UbFnFY0SeLlmQLTUI/fuAxIy+8O/X/ZFNmZ6llWD3DgbSRhjRri/tAIux\n",
       "xpYew5P2rkIFPo9myLvZf/ZPPsu5O11P2XqDwfHS8iJprfv/NF4KSyvH7h3UPqgk7gth3ZEju1Gv\n",
       "2wHciQl4zJeTVrrAZ9zs6cri5RfKFhuMjufBqHjeKbQJKPK7d+ZcViuHbjyCNvjcAdw+jkRhg2Bf\n",
       "7PwvambIHjG7J+xHLgLZcoMw34wjMYNAR67GSBOC15QgzTfjRb3su3eIxs5o1Q19P7Etr0SZp6xD\n",
       "0yrn82xGrCL//cO8Oj/wtli23qBVD2GZe73gqEAJ4gz9rtZDop6du3eGPCddIYSEIBpd4HMBxtUR\n",
       "7WqljPq4lLOSfz+aHaHQsoeXtlEimzd4Wa976Oa943XJCZNUvQm7Vq+rX2K3n6/yzXBCsFTSJQE+\n",
       "/LCfRDFeOpq5u+cwpJTYZLJ5g6wjJF2wJnGvlxJ4nkME/MpqNYZe4/Ny/l6pouVRZnF6xQtZ/rrO\n",
       "QpJhCJ2610sGFJcgDq2m1erB8g0+Ib3GJ3sly64U7Exi+2zsqpabx+sUKEFU+C0rxwf5LERrJT4V\n",
       "fyGrLtSKk1jG+AjGBlH3jteZbc0hjrGqK3W87+4Xf+gcexY7PjwLEHeP1wmSQ+yfq0SpCc8zJLEO\n",
       "Zs18u7FAYQ1CV+dkyvM28eaO39rt2aSTrAKh9LU0dZ7zijgNHbuKJMe5xBiCAlpX9xnPK8bHYfxi\n",
       "BT3bWWaP/WMIVveJcRo10XnvwMsi3jpg2K4iMZpDINkwNHOe944csEF77tVB6JpBmEb4SmZ9H6Hy\n",
       "vsyn/eC078u0fMYH3eC873NFlaxvhb0Tv29YGN33ZxBO9b42+e750/Hva//a7wngr/6eACn9nsB/\n",
       "pglJQT7/gtYAAAAASUVORK5CYII=\n",
       "\" style=\"display:inline;vertical-align:middle;\" /></a><br>(see <a class=\"ProveItLink\" href=\"../__pv_it/3bf75414490b380bb03d53f344827dc34f5dfa390/dependencies.ipynb\">dependencies</a>)<br>"
      ],
      "text/plain": [
       "fracIntExp: forall_{n in Integers} [forall_{a, b | a != 0 , b != 0} ((a^{n} / b^{n}) = a / b^{n})]"
      ]
     },
     "execution_count": 2,
     "metadata": {},
     "output_type": "execute_result"
    }
   ],
   "source": [
    "%proving fracIntExp presuming []"
   ]
  },
  {
   "cell_type": "code",
   "execution_count": null,
   "metadata": {},
   "outputs": [],
   "source": []
  }
 ],
 "metadata": {
  "kernelspec": {
   "display_name": "Python 3",
   "language": "python",
   "name": "python3"
  }
 },
 "nbformat": 4,
 "nbformat_minor": 0
}
