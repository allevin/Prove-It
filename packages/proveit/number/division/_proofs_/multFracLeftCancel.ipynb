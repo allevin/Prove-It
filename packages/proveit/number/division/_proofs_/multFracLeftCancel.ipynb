{
 "cells": [
  {
   "cell_type": "markdown",
   "metadata": {},
   "source": [
    "Proof of <a class=\"ProveItLink\" href=\"../../../_context_.ipynb\">proveit</a>.<a class=\"ProveItLink\" href=\"../../_context_.ipynb\">number</a>.<a class=\"ProveItLink\" href=\"../_context_.ipynb\">division</a>.<a class=\"ProveItLink\" href=\"../_theorems_.ipynb#multFracLeftCancel\">multFracLeftCancel</a> theorem\n",
    "========"
   ]
  },
  {
   "cell_type": "code",
   "execution_count": 1,
   "metadata": {},
   "outputs": [],
   "source": [
    "import proveit\n",
    "context = proveit.Context('..') # the theorem's context is in the parent directory"
   ]
  },
  {
   "cell_type": "code",
   "execution_count": 2,
   "metadata": {},
   "outputs": [
    {
     "name": "stdout",
     "output_type": "stream",
     "text": [
      "Beginning proof of multFracLeftCancel\n",
      "Recorded 'presuming' information\n",
      "Presuming previous theorems (applied transitively).\n"
     ]
    },
    {
     "data": {
      "text/html": [
       "<strong id=\"multFracLeftCancel\">multFracLeftCancel:</strong> <a class=\"ProveItLink\" href=\"../__pv_it/46bf1f5bc440cdfa173ce5146d6fbdfc544416580/expr.ipynb\"><img src=\"data:image/png;base64,iVBORw0KGgoAAAANSUhEUgAAAQAAAAAyCAMAAACEafVGAAAAOVBMVEX///8oKCgUFBQJCQkQEBC6\n",
       "urrMzMxUVFRmZmZERETc3NwyMjKqqqp2dnaIiIiYmJgiIiLu7u4AAACP9cC6AAAAAXRSTlMAQObY\n",
       "ZgAABH1JREFUaN7dW4eSnDAMdRJcceX/Pza2aaYJoyWwF83czGlvHxhZ7QkfIW+LobAOSuABc08k\n",
       "7J+IMLB+IrRFPQoS9i/2n8P6qbgWdV8k7HbRHtYrhAvUnZGwm0U1DNSrpNGoeyNh90prYL3OixpU\n",
       "PCNh9wZAF0C91ow4b27fD4LGHOrKWK60FbYmpXcKVQlwsBvFrTa80EM0hfOONP5/dgHPD/XkCraL\n",
       "QcEwlkRuwNNCO3qop5VxWX2pzqJWgITd1gM2sN7UL4971AqQsNtSoAB11bHBFWrKCSqf6VfTIOv0\n",
       "se5UTgHE1hkg4Jw5vBoDdpWCSl13jsgYEap2gV6i1pBgryVC2RzrQVoTjLGuOpo7XBKIsDkPuGf9\n",
       "oZGwftGdFBZmpsh7liKHzoD61XSmsTA1Gl7JRx2Adg7Ur2ZUi4aNGy+epYdutWeu0x/5k0DDnFFZ\n",
       "Hm4KbMdA/WpTJ/GwTibx5lkDiFXaEhfSWDB5cqiKwtlUjLh2GGaG8Wx6+XBTxFdtAL/ATEzMGANb\n",
       "mip66cCiLYRDDDPDaPpKQA8JoSl2yFaNBV2cVu7zSh5GCzFNRFq4LNzeNxVm2zLMHpYuVt1zBNca\n",
       "7gs3goJPpHtZMxi53gBdIXPC8jNVzESpzPztuQH2GGYPSw/vTxwwWCFE/B5jMn6TFcM7wAAqP7ZP\n",
       "Vtg4+GUPCEWnlGdnrEybFQbYY5g9LLo/OxnHW0lVSD7o+vacVhkg55WQn93rj0NgEeRpTeUzL0JA\n",
       "+EIkxDAHmFR8iOSYJ6nlg2WpTeA0PHVjDFM2RJDaM8AMILOVWG8Au6kCAdTPh1my3DR/XsX3GOYA\n",
       "02KAm5CiZJiYB0tiaWLJRlOGtMGt1ymLMBkBPOffP/HHxoR9YAB8GSSCr1vH8zK4yzBH2Bga0Q/a\n",
       "6bIqUJ+cP26iqTLADCBkzqsHHvBRIxTZol1a7LwR2mWYI6x4qvKyPD44jytnPvdKMm4npezQADOg\n",
       "v+GYvdMVN+9h3GoiuNbPq5q/qRVe0YPoJNMjNnFN6WVVmKONB3ucAyaAjM7/+1ebQyB/QDYO/gkZ\n",
       "SrO8sDDpJ2RooRPT5o5BtXnbWN9yET4tnwmTfrf7fcAEGEsgGfsAeScdTm27NDfR4VWYaBEjJZki\n",
       "7YfmVrb9H+jcUMZ44HQ/BCZA/HiOKhsDNtw5ENHxgvSugchh0YibqOaINn0O2Cv2RZmdAfp0P6GR\n",
       "GGq2dS+Mqexl9JwiFAYoAG2F9QOg7xC+K/M15Fhu6QDJ0yriUi5ccwA4XZGAgLH4HuEDs/mLY3GO\n",
       "BUIvRvYIHzheQqUA9+77YejV2B7hO6mLmL1799UYXfV+S31L+KDJFm6c1ZlXDUC8APQt4YNc+Ue+\n",
       "Ho8LAPQt4QPIIS4PtZy8LOvxRKlvCR8QSz/0iAzRzbG+JXzHhRh31EV+wUnBk2NypipLU9x5N/oF\n",
       "x+SIatSBviV8x7kU90rJf8NBSaLbA31L+A7bCZwni684Krtdx6hvCV+lCZGWf0/WFFNea89//HH5\n",
       "uOcU1mE6I3H/MDHD/gKQGzXL6QK5qwAAAABJRU5ErkJggg==\n",
       "\" style=\"display:inline;vertical-align:middle;\" /></a><br>(see <a class=\"ProveItLink\" href=\"../__pv_it/46bf1f5bc440cdfa173ce5146d6fbdfc544416580/dependencies.ipynb\">dependencies</a>)<br>"
      ],
      "text/plain": [
       "multFracLeftCancel: forall_{x, y in Complexes | y != 0} (((x / y) * y) = x)"
      ]
     },
     "execution_count": 2,
     "metadata": {},
     "output_type": "execute_result"
    }
   ],
   "source": [
    "%proving multFracLeftCancel presuming []"
   ]
  },
  {
   "cell_type": "code",
   "execution_count": null,
   "metadata": {},
   "outputs": [],
   "source": []
  }
 ],
 "metadata": {
  "kernelspec": {
   "display_name": "Python 3",
   "language": "python",
   "name": "python3"
  }
 },
 "nbformat": 4,
 "nbformat_minor": 0
}
