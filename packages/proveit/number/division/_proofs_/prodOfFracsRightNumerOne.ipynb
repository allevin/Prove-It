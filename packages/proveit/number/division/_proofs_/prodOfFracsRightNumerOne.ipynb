{
 "cells": [
  {
   "cell_type": "markdown",
   "metadata": {},
   "source": [
    "Proof of <a class=\"ProveItLink\" href=\"../../../_context_.ipynb\">proveit</a>.<a class=\"ProveItLink\" href=\"../../_context_.ipynb\">number</a>.<a class=\"ProveItLink\" href=\"../_context_.ipynb\">division</a>.<a class=\"ProveItLink\" href=\"../_theorems_.ipynb#prodOfFracsRightNumerOne\">prodOfFracsRightNumerOne</a> theorem\n",
    "========"
   ]
  },
  {
   "cell_type": "code",
   "execution_count": 1,
   "metadata": {},
   "outputs": [],
   "source": [
    "import proveit\n",
    "context = proveit.Context('..') # the theorem's context is in the parent directory"
   ]
  },
  {
   "cell_type": "code",
   "execution_count": 2,
   "metadata": {},
   "outputs": [
    {
     "name": "stdout",
     "output_type": "stream",
     "text": [
      "Beginning proof of prodOfFracsRightNumerOne\n",
      "Recorded 'presuming' information\n",
      "Presuming previous theorems (applied transitively).\n"
     ]
    },
    {
     "data": {
      "text/html": [
       "<strong id=\"prodOfFracsRightNumerOne\">prodOfFracsRightNumerOne:</strong> <a class=\"ProveItLink\" href=\"../__pv_it/fddd0bf47bb6f7147028361d818c757b16cd3b300/expr.ipynb\"><img src=\"data:image/png;base64,iVBORw0KGgoAAAANSUhEUgAAAP8AAAAyBAMAAABhUBCTAAAAMFBMVEX///8QEBC6urrMzMxUVFRm\n",
       "ZmZERETc3NwyMjKqqqp2dnaIiIiYmJgiIiLu7u4AAAAU9Wx4AAAAAXRSTlMAQObYZgAABJtJREFU\n",
       "WMO9WG9oFEcUf7d3e3uX3WyiolaLcBEL9oPEYkX9IAlRFCxqFCKiEa9FTmhEThCtiHKIQhGRC1UQ\n",
       "RVxEFBXlBBMQxdyXkIDK+aEGFIQIEqiKpgZsrRqd2Zkcu3szu28Prw+y73bnNy9vZt68fwDhqC7F\n",
       "+HkZ4PkwVhQe6aRNjKmWDKAcx4rCI50b0Mr4BeHoTvoYRAsbrEKBs4wlH4oGR8bpM9aOFYZHlkmb\n",
       "wviu+aIzXW4rADPQ4maEViDBj/6ocFRnCnSjjas7tBmeYzOS434KJNA7mwh9BjMZi9gboV1deWaz\n",
       "QAHlH/kRuqf4IMVk8JWX7I14AQ+KswQKwBGpAO+UIyEVqOeX8E/7aUEf/CFSoCQ9Wu+UUkgjaGZu\n",
       "UHlrs2FYIbQBaCjIBHinyJFiWsfdYCN//1asQOyhXIR7ih9SRFO5DXLj1cbAFCmQ9LFC95RkOCuM\n",
       "vme8JW+zAX0U7ooUMD/IJHinyJF+9xz6bNNJfow3agXROAxJBFROGaJ2gaY4P/ufmfZd16/ccQ6r\n",
       "6/7tZL/WSgRUTKFI2wzuoRSIpBmfFgTsy2LXRJCXKcdF5jcsEpj/BXrsPNq352EPtc00zg0UmRv4\n",
       "GARsQV9vgkwQI1BxGpcYzHgfuFXoIEOQxqW9ew8gD4xlAfpYELAhjVWAIt9lMk9w6K3MttRA7xHJ\n",
       "YRWgyGUA23HotezKxsYDgxbzsBt/p3Q4CDkHTLnC5uCFRwXHpbUVGPWiXnvFNqLjK0HWg14UDr7s\n",
       "6IQFO2GxJVag4TMl+tv8RN/LryTTqVCAgV1URurFeqE31H85+BoGCqBYQTtgej1TAr0DFGnmfiS/\n",
       "rrbdJDau9EKEarP0+D7op1d+CfmYDTwCEB/BlqeUhgKR29tIwTG8IkJu+cuG7A/0e1u/BdQw9FfO\n",
       "zdnKXlSsEWJsgCJPkocCx+j7wXnQaw/8BVGrUoHaXEOI2GbOpK6Cn+y8IQXRoUymS5k9v/aOCAy6\n",
       "ymhjlH6YDHbtswAWmXYCuqbgsIESSwmNt1/VFfOgUJerg9+yMEUZJSy66vs0rKTfF14CvVDbYMTr\n",
       "ylubr0NLEU705gjTlW+yMELXa17LtNU4HDupqGVjRCXuly5muv6PhMSZdGbj1lzKUCmZX9BAZ3lu\n",
       "pAHJ2xZlqKQUXmwCzekSlEmp/dItcoObJvPcdBqEIU9abjWD7nSKe+51pKXJtgus7ejZUE1a7i5M\n",
       "ovktEE+76i7edjIqPVUZbAdOE8w1MiS+NDNJmeWu7bRWacE1AWaBE2B3daVZM3OFythEm6LF1ar5\n",
       "bsK9CVpoHMwDp9IuR/qGDj7vEduIHNxw/Q/Lp+h2g09XWZ4b3IxKEw2Wbc5RIpWdwWFxN2abU9WY\n",
       "FOlLvLhm4UttdTnl6LHOwZS08eICL+6/f6iqFg108xUwK+zqcQpQocTabvF2YVnoALcbf+elyDBt\n",
       "ujqhETeJD1YAbgrdptOm80Yl9dar4Zkw6DwWfRSCH4duVMIpfgY0kXkCv4ogqnBfRWA1fKu2PKeD\n",
       "/J3pSfno6CER+BRUQTxCx6UpR43b9aDyhayXAUbQhsWQXwCt13LKGhgR0QAAAABJRU5ErkJggg==\n",
       "\" style=\"display:inline;vertical-align:middle;\" /></a><br>(see <a class=\"ProveItLink\" href=\"../__pv_it/fddd0bf47bb6f7147028361d818c757b16cd3b300/dependencies.ipynb\">dependencies</a>)<br>"
      ],
      "text/plain": [
       "prodOfFracsRightNumerOne: forall_{x, y, z in Complexes} (((x / y) * (1 / z)) = (x / (y * z)))"
      ]
     },
     "execution_count": 2,
     "metadata": {},
     "output_type": "execute_result"
    }
   ],
   "source": [
    "%proving prodOfFracsRightNumerOne presuming []"
   ]
  },
  {
   "cell_type": "code",
   "execution_count": null,
   "metadata": {},
   "outputs": [],
   "source": []
  }
 ],
 "metadata": {
  "kernelspec": {
   "display_name": "Python 3",
   "language": "python",
   "name": "python3"
  }
 },
 "nbformat": 4,
 "nbformat_minor": 0
}
