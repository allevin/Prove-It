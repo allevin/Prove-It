{
 "cells": [
  {
   "cell_type": "markdown",
   "metadata": {},
   "source": [
    "Proof of <a class=\"ProveItLink\" href=\"../../../_context_.ipynb\">proveit</a>.<a class=\"ProveItLink\" href=\"../../_context_.ipynb\">number</a>.<a class=\"ProveItLink\" href=\"../_context_.ipynb\">division</a>.<a class=\"ProveItLink\" href=\"../_theorems_.ipynb#fracZeroNumer\">fracZeroNumer</a> theorem\n",
    "========"
   ]
  },
  {
   "cell_type": "code",
   "execution_count": 1,
   "metadata": {},
   "outputs": [],
   "source": [
    "import proveit\n",
    "context = proveit.Context('..') # the theorem's context is in the parent directory"
   ]
  },
  {
   "cell_type": "code",
   "execution_count": 2,
   "metadata": {},
   "outputs": [
    {
     "name": "stdout",
     "output_type": "stream",
     "text": [
      "Beginning proof of fracZeroNumer\n",
      "Recorded 'presuming' information\n",
      "Presuming previous theorem (applied transitively).\n"
     ]
    },
    {
     "data": {
      "text/html": [
       "<strong id=\"fracZeroNumer\">fracZeroNumer:</strong> <a class=\"ProveItLink\" href=\"../__pv_it/c2fae6e68c85a9a0afecc7c76deff5247c2107dd0/expr.ipynb\"><img src=\"data:image/png;base64,iVBORw0KGgoAAAANSUhEUgAAAIcAAAAyBAMAAACEztX/AAAAMFBMVEX///8QEBC6urrMzMxUVFRm\n",
       "ZmZERETc3NwyMjKqqqp2dnaIiIiYmJgiIiLu7u4AAAAU9Wx4AAAAAXRSTlMAQObYZgAAAuFJREFU\n",
       "SMetV01oE0EU/tJN2nSz2RSKinqJVhC8JAfxIEhDC96kEfGSHKwi6cFLThYt0hwUpIikiNCLJDeR\n",
       "oOSQiFo0OQqCDSqFikKEtof6k15UrFKdmd0NsebNDMV3mFkyj2/mfe+b9yaAysyoZHG5CS1LyRZ7\n",
       "bmphmAk22OlqvPvycy2QO3wIR+3X3Zf9SQ2MvkE+PgUeEQ67NUCCRT6+AWLZ7g6zGtQWhM9XYDhP\n",
       "7KIRzx4R0wYDKRP5+a7EsDbbIEXC5ZoSJJxQgiwoSYlFVeEgUlaBnHQmTmydcPE3VCA7nImluECk\n",
       "GP0qZo0fzszEdp/ysX8qQEKbLr95e5B0WgSk3PYOuLulKnHSaQwQtLwg1n3jkh1W5k+JuZbFPT5T\n",
       "VaFVlIC8wmdxvEIeF7kOqA1jdQlfDYRy/IMpKMhICeQpNealYnbuTSsJ6+7k5BXKsUbTiUjSVUCE\n",
       "xfEtk3lLOZ7J0iDTRRhCIj4W1CgwQWZvqwAC14UlXJANERdL8AHYuU6/TzMn0h0SkJ7EAWFiCiPk\n",
       "5cCunq4bR5rGzBaQ38KocIIMJFQPe4d+ePBL05oCDumchBP7ywOxc4fZV2mkErd4uRy6xXRDggTe\n",
       "Cxt3UuxcYB4OJkZYi2oe9+WD/KdnLzuz05SKzWx4xOI2G3pwAzj6L4gkxVjCh7iXYvhEfWMnO5bJ\n",
       "ZMr7hzTFhpXSKDyxweJnNgYMLItq97GDk4WoRn9reZ1n2MyZ8PPDG6ks5nUuYNvaJXz1cfoB7HP8\n",
       "c23xfFSrFLSb5N+31GSc6BelNnFZ+bpXHqU2plmoL1cuVcketVOvZdhF652vsd2W4TYvE6H1fkoy\n",
       "lvJZ4LRRG36aYXUbjbn7++iuHVHKIOyqcTpOdjn108JaF2O2hhDle1Utgr1Ck/WzmMK2n1uYFZfi\n",
       "yVqJukW9Gg+/oIq2fRpP0L5dCoclnWf5nHw5oPMsV3nN6f1VufAf/qogICuRq4LWP7cuyAPR16GI\n",
       "AAAAAElFTkSuQmCC\n",
       "\" style=\"display:inline;vertical-align:middle;\" /></a><br>(see <a class=\"ProveItLink\" href=\"../__pv_it/c2fae6e68c85a9a0afecc7c76deff5247c2107dd0/dependencies.ipynb\">dependencies</a>)<br>"
      ],
      "text/plain": [
       "fracZeroNumer: forall_{x in Complexes} ((0 / x) = 0)"
      ]
     },
     "execution_count": 2,
     "metadata": {},
     "output_type": "execute_result"
    }
   ],
   "source": [
    "%proving fracZeroNumer presuming []"
   ]
  },
  {
   "cell_type": "code",
   "execution_count": null,
   "metadata": {},
   "outputs": [],
   "source": []
  }
 ],
 "metadata": {
  "kernelspec": {
   "display_name": "Python 3",
   "language": "python",
   "name": "python3"
  }
 },
 "nbformat": 4,
 "nbformat_minor": 0
}
