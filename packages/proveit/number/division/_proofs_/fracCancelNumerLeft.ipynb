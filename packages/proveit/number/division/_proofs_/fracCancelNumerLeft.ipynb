{
 "cells": [
  {
   "cell_type": "markdown",
   "metadata": {},
   "source": [
    "Proof of <a class=\"ProveItLink\" href=\"../../../_context_.ipynb\">proveit</a>.<a class=\"ProveItLink\" href=\"../../_context_.ipynb\">number</a>.<a class=\"ProveItLink\" href=\"../_context_.ipynb\">division</a>.<a class=\"ProveItLink\" href=\"../_theorems_.ipynb#fracCancelNumerLeft\">fracCancelNumerLeft</a> theorem\n",
    "========"
   ]
  },
  {
   "cell_type": "code",
   "execution_count": 1,
   "metadata": {},
   "outputs": [],
   "source": [
    "import proveit\n",
    "context = proveit.Context('..') # the theorem's context is in the parent directory"
   ]
  },
  {
   "cell_type": "code",
   "execution_count": 2,
   "metadata": {},
   "outputs": [
    {
     "name": "stdout",
     "output_type": "stream",
     "text": [
      "Beginning proof of fracCancelNumerLeft\n",
      "Recorded 'presuming' information\n",
      "Presuming previous theorems (applied transitively).\n"
     ]
    },
    {
     "data": {
      "text/html": [
       "<strong id=\"fracCancelNumerLeft\">fracCancelNumerLeft:</strong> <a class=\"ProveItLink\" href=\"../__pv_it/fbb6c99e9dd01dc133f3e28c9986d34925b0bb270/expr.ipynb\"><img src=\"data:image/png;base64,iVBORw0KGgoAAAANSUhEUgAAAOUAAAAyCAMAAACULOyzAAAAOVBMVEX///8oKCgUFBQJCQkQEBC6\n",
       "urrMzMxUVFRmZmZERETc3NwyMjKqqqp2dnaIiIiYmJgiIiLu7u4AAACP9cC6AAAAAXRSTlMAQObY\n",
       "ZgAAA+BJREFUaN7NWomS4ygMZWa5DeL4/49dQRzf2EziYKjqrnRH2Dz0dCEIeXxY9pvnBhFIN0Pa\n",
       "Xz2ZDd3AtOLuJ6oJmxs6AWn83TxVcdagkF2A1JTfbItCLFASanpAOdxvlLBEaWgHpmli+C1KMnTA\n",
       "WVpSpbYgtAEJ36JkUT8N0pVUGRC9845Q/y3KDpTpS1HE5tUio/nXKF182DJZLGU9aWFC3WGXhER4\n",
       "FqWkpzYL96AU/lmU9MxkdOSjUr9EaZ71PzwWQ7bT2SwJ3IAyPEtZKPoFEx1RSGcNdzzWq484cVdW\n",
       "Tcu5KNhgLbgPbF3SOMjVRIGsmG3TNdYsVa04o4mdjKNxNRaibfMig/av3zuqVVtVsujavIgn9/NW\n",
       "oWxcpLhoWpEGI5azOo/WwRMib/SmqPKvNLxtjFI2i9Y0HYyIvKeqdYYgvkmj5bAYVydHPtGUJanw\n",
       "8UHQ2TljyFuHkU8eoWxW+uTAnKBWR+DgBiv8orw9c80y0QTsuJNnKGPVuLTAQ9Eho0wI/QV9AkiZ\n",
       "UgrO00EgX5zXnKDUGZtPUPf0bKfLF0pkK7/gNiimQwgpj85aZFUos62HDNCbW1FKvxiqirG4GjFa\n",
       "lwXBQIwunkGan07B3NuuGB/Ld32IcjV93Ar+Qgl7H9sq1/KvIGnkGCxtSCX6eIgZgKCz52kjJtcE\n",
       "wW3XtkA5TRfZ9/2HP4A5Tgll00iyqMtRo8PkhnRgPnEV1WHrUK6mvx1aSZeNs4KUbc1LX+6wQHQC\n",
       "l8d9ThwUKoYxXka5mh7UO8FK/9ofcrvI2oDMGd4mtUWCTjgoriMd8YfZN4kAJ3b5nq6Qq3//DJmx\n",
       "+QlkT8+22frqb2KHfE6oh6wAjmvJ2KY1cmnTZziKl/P0KYqQd7xUz1ZemxrdSCzT04LTRhsBanh9\n",
       "MbErWKSvYEeMnaeTZX8NtwRkeLaKLhZGqA79MsvsPl92eRQUjzfwWlGKtkqYy2RGhMoSdp3eHqMc\n",
       "avZ4peBiayTY3K7WNfH1SPaEM5mwABWmc/gMZ2q8glmtr9QasS/nADW50oHsPSeVn3fMV6fOu9ZI\n",
       "GNXBDclJi6ow4yNZ93DXa9VB2LZGQvTTFzlpqVHJkezTHQS2zX6WrZEwm1Pu5fK6VGkvG+2zKIlf\n",
       "JyWl1ohMrgzqPPJO9vHOHq5g8bncGsmNVlVn/zvZQZCnx0zRs9aIFPX54Fa2g447MXSRNxVbI/gd\n",
       "1NZpW1nVw42f6psw9h885UKW9XAThmh6raIUCkLl9aStrO/iVhMx16lgOg9XlTrfyMo+bqjVLAQT\n",
       "TVlbcK9lTS+3DXHrf9Y27ejmKGrzV7eA5xL3f3X2L4XgPNRkAAAAAElFTkSuQmCC\n",
       "\" style=\"display:inline;vertical-align:middle;\" /></a><br>(see <a class=\"ProveItLink\" href=\"../__pv_it/fbb6c99e9dd01dc133f3e28c9986d34925b0bb270/dependencies.ipynb\">dependencies</a>)<br>"
      ],
      "text/plain": [
       "fracCancelNumerLeft: forall_{x, y in Complexes | x != 0} ((x / (x * y)) = (1 / y))"
      ]
     },
     "execution_count": 2,
     "metadata": {},
     "output_type": "execute_result"
    }
   ],
   "source": [
    "%proving fracCancelNumerLeft presuming []"
   ]
  },
  {
   "cell_type": "code",
   "execution_count": null,
   "metadata": {},
   "outputs": [],
   "source": []
  }
 ],
 "metadata": {
  "kernelspec": {
   "display_name": "Python 3",
   "language": "python",
   "name": "python3"
  }
 },
 "nbformat": 4,
 "nbformat_minor": 0
}
