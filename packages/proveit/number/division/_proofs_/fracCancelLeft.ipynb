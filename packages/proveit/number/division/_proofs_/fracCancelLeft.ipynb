{
 "cells": [
  {
   "cell_type": "markdown",
   "metadata": {},
   "source": [
    "Proof of <a class=\"ProveItLink\" href=\"../../../_context_.ipynb\">proveit</a>.<a class=\"ProveItLink\" href=\"../../_context_.ipynb\">number</a>.<a class=\"ProveItLink\" href=\"../_context_.ipynb\">division</a>.<a class=\"ProveItLink\" href=\"../_theorems_.ipynb#fracCancelLeft\">fracCancelLeft</a> theorem\n",
    "========"
   ]
  },
  {
   "cell_type": "code",
   "execution_count": 1,
   "metadata": {},
   "outputs": [],
   "source": [
    "import proveit\n",
    "context = proveit.Context('..') # the theorem's context is in the parent directory"
   ]
  },
  {
   "cell_type": "code",
   "execution_count": 2,
   "metadata": {},
   "outputs": [
    {
     "name": "stdout",
     "output_type": "stream",
     "text": [
      "Beginning proof of fracCancelLeft\n",
      "Recorded 'presuming' information\n",
      "Presuming previous theorems (applied transitively).\n"
     ]
    },
    {
     "data": {
      "text/html": [
       "<strong id=\"fracCancelLeft\">fracCancelLeft:</strong> <a class=\"ProveItLink\" href=\"../__pv_it/b4ba7f63ce1bfb659a172921bbe1a90102ed2b850/expr.ipynb\"><img src=\"data:image/png;base64,iVBORw0KGgoAAAANSUhEUgAAAO4AAAAmCAMAAAD0i1fJAAAAOVBMVEX///8oKCgUFBQJCQkQEBC6\n",
       "urrMzMxUVFRmZmZERETc3NwyMjKqqqp2dnaIiIiYmJgiIiLu7u4AAACP9cC6AAAAAXRSTlMAQObY\n",
       "ZgAAA81JREFUaN7NWQey4ygQZWbJIjX3P+wSBEISkrFrLEPVr+/QRv06B4QmOsZ+6WJggKY7RuT/\n",
       "UhsmleHmzLbmOhL4Ae53tGSZDq1yhU+ErLMIuxOJRsRHufiB6/a0RZTTHMC08JmZVLR+tSqTKsSj\n",
       "DMQA70faxc4FV/ACLvyxFhB4V7/B0cK9GZDegVZ6ORNasvNHbHZ6r+BVpKKeDjnHnpazmeAuvHkj\n",
       "E5OdeMRjyDF46MYD7VTqpRszVub4YuBCKIKNC7Ch3Qn0x4e7zQYtEkEnsueg0SKJH4s6R1rr+xbz\n",
       "i7M5KwijQet+yRG+NHzQKo+04BVCW3Kz5pe2TIdptUOf0bpgzVpV2/6hoocKh5CfXIzT6kPa+Iks\n",
       "QV7+su4QYxpzoQQRGn1Im2RalMrVD+G6MVmr4I1ktCY90ZLoMVbLdNwvI5XnjwSIqFEv4nH6h2jB\n",
       "m8eewlJQFP+m5rgzNUiPCDnmpErpPy7g+dKcF/WHjyolkQg+agjBLpq5tjG980Ee5Wr0+sS9mdnn\n",
       "XMa9O0gAwzkPP6BUxCp80UNwZQLpIuZje569auVp6LyG1qHNcCNU90bSNYJIiD2ozYUeGYOb3AUS\n",
       "Uqeu4X5du8GQ6Wpe2jBi2FrhkDQCwEUQ1C0gA1u2uB6hawcu+3B3l61CoRmu+WfGzF1zxFD8F5Ll\n",
       "EKMhNtZrKQIGhYqT1g6KEZumP9XLDdiTTTQPrJexFEb+C39mbWuPcOUjkTmHqpCRSz9C2iGHBOL2\n",
       "Qx6IcqB6EO7ushIc+totjHz31PjfDA/adoMFJtj2lSTZplOeFkFThNAbuLvLQJTcFz86lb34uTIj\n",
       "NkNVS9F2KwYc8OH6joZXVCLYsggDc+e75TIRzPjvnyUZc77v1MItTxTs6vBY6pFe0ihQLkkJNA8v\n",
       "0zvKNFGRK1Z/RLmOr003726X1SSESt49geP4AbjanxpixUNzXUKlYkYsJXAG48VJCCBq6QQ6WDYj\n",
       "XWPeLosfb05uQukO3THa19uum1IqAJSyuu4+T+jsu90r+2b0KhLBE4n3JvwHJ43d4rpsoMMFdR/u\n",
       "6wr1gbkZvRn62NwxatRR7ttw7WvV2cZ5r3dEwe1xiJ9yLEsfaPUXWtxPZ9fgm4BwuSNCUthQr4+F\n",
       "8SMtnmltoitf1zuiPDcd3V4eaBWeCG1QL23Y7O+IDjltQMENrZtrJ2baeHa1IwoO+UZMa2mtQ3Od\n",
       "psC+3BG9TmkXtBLLyeCCy+Z8tyPKCNgbaFfaRaHZTq5c73ZEdLHc2mVo9rqjZQbNd1LLdbcj4nGx\n",
       "NbhFaGmhCOh/uygvSxZ9a00AAAAASUVORK5CYII=\n",
       "\" style=\"display:inline;vertical-align:middle;\" /></a><br>(see <a class=\"ProveItLink\" href=\"../__pv_it/b4ba7f63ce1bfb659a172921bbe1a90102ed2b850/dependencies.ipynb\">dependencies</a>)<br>"
      ],
      "text/plain": [
       "fracCancelLeft: forall_{x, y, z in Complexes | x != 0} (((x * y) / (x * z)) = (y / z))"
      ]
     },
     "execution_count": 2,
     "metadata": {},
     "output_type": "execute_result"
    }
   ],
   "source": [
    "%proving fracCancelLeft presuming []"
   ]
  },
  {
   "cell_type": "code",
   "execution_count": null,
   "metadata": {},
   "outputs": [],
   "source": []
  }
 ],
 "metadata": {
  "kernelspec": {
   "display_name": "Python 3",
   "language": "python",
   "name": "python3"
  }
 },
 "nbformat": 4,
 "nbformat_minor": 0
}
