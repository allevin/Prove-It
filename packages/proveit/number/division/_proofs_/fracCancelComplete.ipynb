{
 "cells": [
  {
   "cell_type": "markdown",
   "metadata": {},
   "source": [
    "Proof of <a class=\"ProveItLink\" href=\"../../../_context_.ipynb\">proveit</a>.<a class=\"ProveItLink\" href=\"../../_context_.ipynb\">number</a>.<a class=\"ProveItLink\" href=\"../_context_.ipynb\">division</a>.<a class=\"ProveItLink\" href=\"../_theorems_.ipynb#fracCancelComplete\">fracCancelComplete</a> theorem\n",
    "========"
   ]
  },
  {
   "cell_type": "code",
   "execution_count": 1,
   "metadata": {},
   "outputs": [],
   "source": [
    "import proveit\n",
    "context = proveit.Context('..') # the theorem's context is in the parent directory"
   ]
  },
  {
   "cell_type": "code",
   "execution_count": 2,
   "metadata": {},
   "outputs": [
    {
     "name": "stdout",
     "output_type": "stream",
     "text": [
      "Beginning proof of fracCancelComplete\n",
      "Recorded 'presuming' information\n",
      "Presuming previous theorems (applied transitively).\n"
     ]
    },
    {
     "data": {
      "text/html": [
       "<strong id=\"fracCancelComplete\">fracCancelComplete:</strong> <a class=\"ProveItLink\" href=\"../__pv_it/5e6f770e1a3913a7d52bc8adb8c9d5e07491cf6d0/expr.ipynb\"><img src=\"data:image/png;base64,iVBORw0KGgoAAAANSUhEUgAAALMAAAAmCAMAAAC4YVoxAAAAOVBMVEX///8oKCgUFBQJCQkQEBC6\n",
       "urrMzMxUVFRmZmZERETc3NwyMjKqqqp2dnaIiIiYmJgiIiLu7u4AAACP9cC6AAAAAXRSTlMAQObY\n",
       "ZgAAAshJREFUWMPNWIuyqyAM5JzDGwmE///YCyhK1dqKr5uZTp12wGXZhCWE3B3gGgeiQPJMgOq/\n",
       "tQWhO5Dw/VBmnoHc+YE0S4jzjlDfsN57AynvH2yCEOIa+J7hxj2AWckCPn7Ebtp00LdDZqFOIwq7\n",
       "J5DidsxGvpDGB8L/Z6L59Eans5wJ4IFV3xFyLBJdcETRyNteebiwe2+OxSRgVGDR2v3nC4aOkKk+\n",
       "OrhcGry13EzM+igO241SuZryLOCWoq6qciMiyboUSX35IaN8E2IhRIU5L7zQK7urMXvVvEFYlfgo\n",
       "MGd1Dn95CgZ5AmaekpAElcLby71GgBMw97OInM1qxwHDtpDleWIZk8sz7ENlk6YK8QYzCYlclv7G\n",
       "994UnbHC10Z3S5cyMQB2mPa11LkTeB4U5ldvDwhSyvgr56k6cmO/wqwzUp+AB5xjnrI8VNGEOeH1\n",
       "uPDXTCNicgaZYfYd5iwxzO/w3XvMh3mOuuDDRsYLD4MkcFfkyPhgy/U65nEEmVbGe8ywUxvSV6G2\n",
       "MUdyRJ9WFpMRp5GPUd6AbnE+VvONI0TOnL/4gcEmzzHrU+pGn4PRZRXDxcr1hdsvMbOXC8+QFes8\n",
       "l7cdwzxWn+rG0Ftc7nPRVpEzxvgG5nFEbwxKDU0/0bl8aduZIiUNRrp5VkxU8mhqeTrkJ1OCsKXn\n",
       "MkJFVfz+mKwNkm+qiyuFOcPRdLNpeSDW9HdiMf7DpU3PsFqfqxGlzpFSnxcIJT0Bsw1z0wedjGY8\n",
       "P46HHdooFMFWtVGNeHG5ACBxSdEJbldtNWZsr+fVceu79inFMJxgHVuLzzrmz52pEy6gvPXivYrZ\n",
       "fSbRVYJu6Nfl3W+1zK2NEQxVkjT061K9vL37ZccdauvXkY7eDTkSzQ/164h/oMkI5lC/znnyQFTm\n",
       "ZH+/TlP9BGb0vL1fZzrySGijW/t1AshDoVljvw5LofwHVtYhlNkXw10AAAAASUVORK5CYII=\n",
       "\" style=\"display:inline;vertical-align:middle;\" /></a><br>(see <a class=\"ProveItLink\" href=\"../__pv_it/5e6f770e1a3913a7d52bc8adb8c9d5e07491cf6d0/dependencies.ipynb\">dependencies</a>)<br>"
      ],
      "text/plain": [
       "fracCancelComplete: forall_{x in Complexes | x != 0} ((x / x) = 1)"
      ]
     },
     "execution_count": 2,
     "metadata": {},
     "output_type": "execute_result"
    }
   ],
   "source": [
    "%proving fracCancelComplete presuming []"
   ]
  },
  {
   "cell_type": "code",
   "execution_count": null,
   "metadata": {},
   "outputs": [],
   "source": []
  }
 ],
 "metadata": {
  "kernelspec": {
   "display_name": "Python 3",
   "language": "python",
   "name": "python3"
  }
 },
 "nbformat": 4,
 "nbformat_minor": 0
}
