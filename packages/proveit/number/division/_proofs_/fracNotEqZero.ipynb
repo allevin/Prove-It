{
 "cells": [
  {
   "cell_type": "markdown",
   "metadata": {},
   "source": [
    "Proof of <a class=\"ProveItLink\" href=\"../../../_context_.ipynb\">proveit</a>.<a class=\"ProveItLink\" href=\"../../_context_.ipynb\">number</a>.<a class=\"ProveItLink\" href=\"../_context_.ipynb\">division</a>.<a class=\"ProveItLink\" href=\"../_theorems_.ipynb#fracNotEqZero\">fracNotEqZero</a> theorem\n",
    "========"
   ]
  },
  {
   "cell_type": "code",
   "execution_count": 1,
   "metadata": {},
   "outputs": [],
   "source": [
    "import proveit\n",
    "context = proveit.Context('..') # the theorem's context is in the parent directory"
   ]
  },
  {
   "cell_type": "code",
   "execution_count": 2,
   "metadata": {},
   "outputs": [
    {
     "name": "stdout",
     "output_type": "stream",
     "text": [
      "Beginning proof of fracNotEqZero\n",
      "Recorded 'presuming' information\n"
     ]
    },
    {
     "data": {
      "text/html": [
       "<strong id=\"fracNotEqZero\">fracNotEqZero:</strong> <a class=\"ProveItLink\" href=\"../__pv_it/0c344f23b86653c16d442f4fa292e4354b6e62520/expr.ipynb\"><img src=\"data:image/png;base64,iVBORw0KGgoAAAANSUhEUgAAALMAAAAmCAMAAAC4YVoxAAAAPFBMVEX///8LCwsYGBgNDQ0oKCgQ\n",
       "EBC6urrMzMxUVFRmZmZERETc3NwyMjKqqqp2dnaIiIiYmJgiIiLu7u4AAACwKje0AAAAAXRSTlMA\n",
       "QObYZgAAA1tJREFUWMPNWNm2pCAMZBZZhUD4/38dQMANF3qmdfJwj94WrVSSIoGQxw3sZ+uQI3nJ\n",
       "QOYLxcHQQd1fSceXIGtXEES40n/k7rOGA8ss+5giog/FaN/ALEW+4IlhB12rlVfPQ6a+1JGPDKNn\n",
       "fesFfx7zKCpjkWEdyMb/nGhWP4lexwQZiWafOf2YCbcqJ+0EMX1vsLEMHtXpYS65oM5AmQTafNAc\n",
       "pUCKz+y5he+nxs1EUMvdAwWAqAtDaIjRNVpfpxzu7iB8yb4LN+gKaB5IVnUr/f4mI90HNENaBOPS\n",
       "70Kv0F/H7OQnNPNJ2FVR+MC4NSqZ+34J+ntCxeR+EfO61IROO1I0Z74OGf29KpdstYuYCSosX8LT\n",
       "I1I1er/7zZ8yqX0xBiIt1NjmJnbe4ogx2e9f8S/fYi6cpgsaf8YWPLOLJdrRcCd2fKmpDwaTX0eE\n",
       "aEmd7aa5gTm92R0ND2MpSwQhRHiCMRkqlo27PNKTy0mRUhukxxbmucz9bNvockJOciNjjnhdS5xL\n",
       "rYKkCjE8YVVaSQ8wY4Lr9A3MJx2FahXuHKPpPuQFy84pAabGhnqAOIPZEmfKckej2pjZhBkOMV/k\n",
       "swv284dLJtdap2t3lcVHqqyI6FQIBi7U3IYV9fOA9mCvnCDSc8zqjm5sac57iqlSnBNbl36LBx9Y\n",
       "/VWGT1hHmLnGzM2GZ2wNp/5aT+m+qY+5VkeyWXxKv+UD3VBXxefCwMZcEvDgAaW0LNWyGEZR5Fk7\n",
       "I9BBTyPqXjkG0U9z7JEMcLYrikxfqiFpMa+LFe0swdl1jtDOZ2Gql1PlNnke5eq4YthvvfrSK72d\n",
       "VAaM/WLwQEV/XU5LXp9iIjW2AAdal/RZHp5FiGHtQiMPLntLs9NGARaSEMesCXeJPpS1Z0ETEoXT\n",
       "gxqM3oBAclCDgaMVpL30XdNM5MnevJIlM+XzScTGq3/MQ+B+Bu+gmZxoD+ubb+9hXk+gZp/OtGMK\n",
       "vqD5Rou0LTnRjLIdVukctqzegyHzD1tmZZYxowdnn+jp4joWa++hzPD86ZeRm4Ic+tp2PbxwxDjz\n",
       "KsaO0aUW6RuHjHUWTUN/0I4uENaRN6wexybdEx7/ptKfyo5yUpGypC+dR03eMZXbIK57j2Y5kLdM\n",
       "5V6dpy6hI0JFJ/8AY5kopRzGvdIAAAAASUVORK5CYII=\n",
       "\" style=\"display:inline;vertical-align:middle;\" /></a><br>(see <a class=\"ProveItLink\" href=\"../__pv_it/0c344f23b86653c16d442f4fa292e4354b6e62520/dependencies.ipynb\">dependencies</a>)<br>"
      ],
      "text/plain": [
       "fracNotEqZero: forall_{a, b in Complexes - {0}} ((a / b) != 0)"
      ]
     },
     "execution_count": 2,
     "metadata": {},
     "output_type": "execute_result"
    }
   ],
   "source": [
    "%proving fracNotEqZero presuming []"
   ]
  },
  {
   "cell_type": "code",
   "execution_count": null,
   "metadata": {},
   "outputs": [],
   "source": []
  }
 ],
 "metadata": {
  "kernelspec": {
   "display_name": "Python 3",
   "language": "python",
   "name": "python3"
  }
 },
 "nbformat": 4,
 "nbformat_minor": 0
}
