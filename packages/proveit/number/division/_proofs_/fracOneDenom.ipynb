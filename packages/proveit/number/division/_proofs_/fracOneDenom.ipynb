{
 "cells": [
  {
   "cell_type": "markdown",
   "metadata": {},
   "source": [
    "Proof of <a class=\"ProveItLink\" href=\"../../../_context_.ipynb\">proveit</a>.<a class=\"ProveItLink\" href=\"../../_context_.ipynb\">number</a>.<a class=\"ProveItLink\" href=\"../_context_.ipynb\">division</a>.<a class=\"ProveItLink\" href=\"../_theorems_.ipynb#fracOneDenom\">fracOneDenom</a> theorem\n",
    "========"
   ]
  },
  {
   "cell_type": "code",
   "execution_count": 1,
   "metadata": {},
   "outputs": [],
   "source": [
    "import proveit\n",
    "context = proveit.Context('..') # the theorem's context is in the parent directory"
   ]
  },
  {
   "cell_type": "code",
   "execution_count": 2,
   "metadata": {},
   "outputs": [
    {
     "name": "stdout",
     "output_type": "stream",
     "text": [
      "Beginning proof of fracOneDenom\n",
      "Recorded 'presuming' information\n",
      "Presuming previous theorems (applied transitively).\n"
     ]
    },
    {
     "data": {
      "text/html": [
       "<strong id=\"fracOneDenom\">fracOneDenom:</strong> <a class=\"ProveItLink\" href=\"../__pv_it/c7ac80f1a00ea9c77476597ba745faf6b4f4177b0/expr.ipynb\"><img src=\"data:image/png;base64,iVBORw0KGgoAAAANSUhEUgAAAIQAAAAnBAMAAAA84v3UAAAAMFBMVEX///8QEBC6urrMzMxUVFRm\n",
       "ZmZERETc3NwyMjKqqqp2dnaIiIiYmJgiIiLu7u4AAAAU9Wx4AAAAAXRSTlMAQObYZgAAAlhJREFU\n",
       "SMdjYCAA9uCT5PNjIAy4ExgY2Fe7z47GLq1BhBFzgfgVw9kDsrhtIAD4hIHEAob9DJNxKOghaARb\n",
       "AJB4wOCGU0F9ASEj9B+AKWmcClgdCBnRCibZPzPw4VDA/p2ACcxgBce5PzDsw28JbsB6AUhw/mET\n",
       "YN+AS8l5UFjhAYwgnXzZ61bhTmDvJzCA7GE4jUPe3oBgnPEGMKwE0X045PcTTnssFxjKQMGKK43l\n",
       "EpEDPjBwAAODdQIO+WuEjWD6zMCzvLy8Fpf8V8JGMP9kYPiWlnYLVw75jVsrLPuC1DgzMKTjUvYH\n",
       "TSCiAwRaGJCz7y8GBhUGvgZkZW+6fGGFA/Mf3K6AZ1+gZ3kZuA/AHL419ACz2QPmLiR/MjDw/weB\n",
       "D2hGwLMv0AjuA7ywFLpN/d0DnmoGBi0UI3ABabgRfA0mQMZqpy0GPKDCQRnoOnZcHom9CwLXULIv\n",
       "KNbSnRgYuB64MU7gAInsO4cUnHhiBJ59gcHJMBWYTZhAJZgVuhFgaewAnn3BsQbOjgzAksE2LS1t\n",
       "g5IykkJR3IUqLPuCw4sHFJrMAswMT8DZ5jUiLBjaYEUo7iKBE1Zs2XM1cDGwgIpS5qgCht0w+UCo\n",
       "lfm4jeCCxfazndHrGPiSwMnuWooCTH4+WCufiz9uI9gaUE0EhgV6kQQpN3Abwb8BfzbkCCBohD2B\n",
       "ioRHgKARawnVh58IGiFDqEBZRsgITgFCRrw3IGAE7wGChWsDASPOEi4ae/AbwS5O2Ii3BniN4JhA\n",
       "2Aj2drxGeBPRUGIoAuJQ+VbsocanwEAVAAC5+66mjcWGBgAAAABJRU5ErkJggg==\n",
       "\" style=\"display:inline;vertical-align:middle;\" /></a><br>(see <a class=\"ProveItLink\" href=\"../__pv_it/c7ac80f1a00ea9c77476597ba745faf6b4f4177b0/dependencies.ipynb\">dependencies</a>)<br>"
      ],
      "text/plain": [
       "fracOneDenom: forall_{x in Complexes} ((x / 1) = x)"
      ]
     },
     "execution_count": 2,
     "metadata": {},
     "output_type": "execute_result"
    }
   ],
   "source": [
    "%proving fracOneDenom presuming []"
   ]
  },
  {
   "cell_type": "code",
   "execution_count": null,
   "metadata": {},
   "outputs": [],
   "source": []
  }
 ],
 "metadata": {
  "kernelspec": {
   "display_name": "Python 3",
   "language": "python",
   "name": "python3"
  }
 },
 "nbformat": 4,
 "nbformat_minor": 0
}
