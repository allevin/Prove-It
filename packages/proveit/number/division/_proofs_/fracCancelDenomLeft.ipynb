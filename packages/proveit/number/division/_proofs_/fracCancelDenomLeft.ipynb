{
 "cells": [
  {
   "cell_type": "markdown",
   "metadata": {},
   "source": [
    "Proof of <a class=\"ProveItLink\" href=\"../../../_context_.ipynb\">proveit</a>.<a class=\"ProveItLink\" href=\"../../_context_.ipynb\">number</a>.<a class=\"ProveItLink\" href=\"../_context_.ipynb\">division</a>.<a class=\"ProveItLink\" href=\"../_theorems_.ipynb#fracCancelDenomLeft\">fracCancelDenomLeft</a> theorem\n",
    "========"
   ]
  },
  {
   "cell_type": "code",
   "execution_count": 1,
   "metadata": {},
   "outputs": [],
   "source": [
    "import proveit\n",
    "context = proveit.Context('..') # the theorem's context is in the parent directory"
   ]
  },
  {
   "cell_type": "code",
   "execution_count": 2,
   "metadata": {},
   "outputs": [
    {
     "name": "stdout",
     "output_type": "stream",
     "text": [
      "Beginning proof of fracCancelDenomLeft\n",
      "Recorded 'presuming' information\n",
      "Presuming previous theorems (applied transitively).\n"
     ]
    },
    {
     "data": {
      "text/html": [
       "<strong id=\"fracCancelDenomLeft\">fracCancelDenomLeft:</strong> <a class=\"ProveItLink\" href=\"../__pv_it/b512e5c2004c66fbf512398cdd3d568aa03601380/expr.ipynb\"><img src=\"data:image/png;base64,iVBORw0KGgoAAAANSUhEUgAAANwAAAAmCAMAAACYjQXMAAAAOVBMVEX///8oKCgUFBQJCQkQEBC6\n",
       "urrMzMxUVFRmZmZERETc3NwyMjKqqqp2dnaIiIiYmJgiIiLu7u4AAACP9cC6AAAAAXRSTlMAQObY\n",
       "ZgAAA3NJREFUaN7NWQmyoyAQZWZkFZrl/ocdFnEDDPr9mq5KJRUEeb0/QOhdAX3/mpZa9A0CPH0L\n",
       "BVRIYFDuVDEVHnAnNozHb8AmTUaAkDYaDaZ4RCHsghbcFZ29KXYgGUHaviTz0GQoIhELiPm57Y76\n",
       "dXCcZSj+Q9fbt87MI0PwVQenVhZOvIwNb+JogI1NZ6gyPEUcObc2oy+DG9lG12Qy4X6bITvAcHLt\n",
       "t01HlvdrkTIG2IYKOP2R5p4XZhbP04h72whoOBh2pxOEdnVHeEiWILMclFWqXtD9ILDzTmadRGip\n",
       "LBoe9sr+HKHM+fWN90slZy991oidZZmakDvl+fXDRJFzrni4qvM+axhf4Lm6qrxsMCafBWf6lCl9\n",
       "xOFrVdS7vVYiink4nzj22zEdrOV4EKOexWbdzflrTx/SC2jMWvxqRT/yGRsX9UmeVVqIy70tG1dC\n",
       "m/TBBaw4jNteCmT1qKhZEa+j0GFBb6Cmd+y85t7GvaQPye9NByO2wBjzzxDCQx87qh5wIkIyAWHB\n",
       "NVNITNvokg8bLOhDAheAGfuB/WFhA8fSqUXCXeCiq9uIy8gDcDcx3x19SOC8S5LJbTzbx0CncRwJ\n",
       "7RAg5ZjBZOKTogpuM33SAEng4D63ZGYlvEkfpnTMBU1pQdnAGad+wALyLR0JT88BCVbvTbwCN0+n\n",
       "Mdb/+Q9MrK0AJ+7OlgV9cMm7ZG7Q8ZqgC4tNOo4gqg/cZnoO44bl8rtvZBlb+jCn4xULXvff1L+f\n",
       "+iFiYink3gwYkza4zXTLc70Jf5Xd4XB3Ed/RhzmoF3MEL5y3P3hThDMcu9iaWjiIuTyde4f8+2eM\n",
       "bhlXQCVnGX+jl13RB7l7JXFIjfEsSoxR3SQVRkQXfTAVfkOtzi3T5zKAcp0rkbDhXlx7+qBcYVjJ\n",
       "PG/MuUxS4GMawEuX432U4ppbLtPD30tsgncXW8/cdzbiO/rAD9oSD06IFHJRDynmasWsXnQ+pgt7\n",
       "c6Hb04eDbExE1EPHwXQd3NiZup84fqoZLuiiI11XwekOq+hW0LUvDq6llp8E8nXSgxvcpXlxcOb4\n",
       "6eUDdVX36PLi4EoEDu9i86Yjjf5+e3FwKXe+fhMCzbQz/LDx1Aa9Lq2bpubFQaeIQbwPzpqKYx5d\n",
       "HPQqTaIvkNTm7TqXg4uDzgQO6CtE4Epz37446POHvOZ/zOApWMwNT10AAAAASUVORK5CYII=\n",
       "\" style=\"display:inline;vertical-align:middle;\" /></a><br>(see <a class=\"ProveItLink\" href=\"../__pv_it/b512e5c2004c66fbf512398cdd3d568aa03601380/dependencies.ipynb\">dependencies</a>)<br>"
      ],
      "text/plain": [
       "fracCancelDenomLeft: forall_{x, y in Complexes | x != 0} (((x * y) / x) = y)"
      ]
     },
     "execution_count": 2,
     "metadata": {},
     "output_type": "execute_result"
    }
   ],
   "source": [
    "%proving fracCancelDenomLeft presuming []"
   ]
  },
  {
   "cell_type": "code",
   "execution_count": null,
   "metadata": {},
   "outputs": [],
   "source": []
  }
 ],
 "metadata": {
  "kernelspec": {
   "display_name": "Python 3",
   "language": "python",
   "name": "python3"
  }
 },
 "nbformat": 4,
 "nbformat_minor": 0
}
