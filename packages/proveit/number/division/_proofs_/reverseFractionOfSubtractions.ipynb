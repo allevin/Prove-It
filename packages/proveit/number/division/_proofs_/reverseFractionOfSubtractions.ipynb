{
 "cells": [
  {
   "cell_type": "markdown",
   "metadata": {},
   "source": [
    "Proof of <a class=\"ProveItLink\" href=\"../../../_context_.ipynb\">proveit</a>.<a class=\"ProveItLink\" href=\"../../_context_.ipynb\">number</a>.<a class=\"ProveItLink\" href=\"../_context_.ipynb\">division</a>.<a class=\"ProveItLink\" href=\"../_theorems_.ipynb#reverseFractionOfSubtractions\">reverseFractionOfSubtractions</a> theorem\n",
    "========"
   ]
  },
  {
   "cell_type": "code",
   "execution_count": 1,
   "metadata": {},
   "outputs": [],
   "source": [
    "import proveit\n",
    "context = proveit.Context('..') # the theorem's context is in the parent directory"
   ]
  },
  {
   "cell_type": "code",
   "execution_count": 2,
   "metadata": {},
   "outputs": [
    {
     "name": "stdout",
     "output_type": "stream",
     "text": [
      "Beginning proof of reverseFractionOfSubtractions\n",
      "Recorded 'presuming' information\n",
      "Presuming previous theorems (applied transitively).\n"
     ]
    },
    {
     "data": {
      "text/html": [
       "<strong id=\"reverseFractionOfSubtractions\">reverseFractionOfSubtractions:</strong> <a class=\"ProveItLink\" href=\"../__pv_it/ed7aaa407f3f231e62f03d6069a402fe70d89dbc0/expr.ipynb\"><img src=\"data:image/png;base64,iVBORw0KGgoAAAANSUhEUgAAAQwAAAAyBAMAAABbpfjJAAAAMFBMVEX///8QEBC6urrMzMxUVFRm\n",
       "ZmZERETc3NwyMjKqqqp2dnaIiIiYmJgiIiLu7u4AAAAU9Wx4AAAAAXRSTlMAQObYZgAABJhJREFU\n",
       "WMO1WX1oW1UU/yXvJS/JS17qZMxZlMxNFKekg+EXyIKi/lHmMrFSosOgNZNWJIisk/kRh1IZKhGZ\n",
       "iEX6EPwsjgxMxWW08Q9xMLXRwZDC4CljwiYuMrTMheq9L/elfR8Zzc3NoeS+e9477/3uueeerwJ8\n",
       "FElADGkPdCOdgSi60eCXjaSEwYgW+GU/gDi6l1tSuVIgDF+RVzKkC4QRvpZXcsoQCAOv8QpebR61\n",
       "j3Qcwzd5+3ZN3z/5iHsT3dyzGWKc0XX0MpnnNO4l+hvw1zGCKfvOnsUP1WtcAh7cdBLBVPiiucVp\n",
       "Phgx87jeEaihgeCA7ZaOObzjEnBzpeIuxKt4YnlVnVPSdKGGryQtIkJ1/uYpSpRr4D4PAYu7/KCG\n",
       "fmzLo2nql/hg7GRoDLXPhGGjfk8RF9e/hMNgMLbzwVjbHIbJ7uJ5pzVeICt126iLGygQw1KahjXF\n",
       "ZaPSxeY4gpiOkv3ed2odsy4JDy5ZwQLU5vX5Eg8MlZnUx9iSVqp2V9QI9imul3pxI1lpLV5gJp8F\n",
       "hyMK9jG9Ts+OHnWE7bFDnx91B3MvbqZyZpqtQa6jRsfjnQWBLMSSuojP6PhWR1LndcEwiBfbQ+24\n",
       "s+Ulq4JhSJcQIsYR6CzUzhcFw9D+RvST8fEXO5OaGxAMA/+Qv1xuoTOhx/KiYVwF3APs7kxox6oO\n",
       "+fDrlF5d1RtPAZugrSIp/ePA9lbCsEO0MvATcWFQL2/5WnmoKt1qSAccMP5rS3XHG+LtH20+8Arx\n",
       "HdXY5ZU8c8OfRnQfcFPvtEFgaIWtJOzOYK9GM7LIl5uJsWBzFjRRlX75vRiludFGkrQoncHYZaYW\n",
       "J1e7Kdh9N3Aunp/BfjI5JGfXE2ilRYkGDvnmDEL0udkfV54UQ7Q2iIniIAkrL92CQXxFJokQNRTl\n",
       "t5pqelatiDvdMHpxYOGjIXgQa5qpUNz8hqzLZmB+Frgrl8uVrtvYa/eFKNXxCa3ezGC2gH7El/DR\n",
       "QRqQ8qdNWOdW2MZ8QjAK4swZnZDq4bwyIdU/ha5MwDeQBBm2fvguZKoeKZNHpZehjdGmSvlrSA1t\n",
       "7OARQ2ogPPgUmaG0YQLa42alcXIk0ctAb6+DrGGcGIs1ixDb6HnaY6PbrGHUX2jN2iaBwkh2uN2q\n",
       "NUweWZ61TYlpHao4Kq4NaxTPNNt/RWKf3SxJBfyy0Y16rQIBehKqfSHK0+WHPWX2HB+yfytCKuA5\n",
       "dFMgWOUSrUOD9pdr7VpqBk7bfS+tgHOWB+Dzhzutb/YjThey1wwfP5vM59o1iMzye/lJUgG3alfO\n",
       "4jHJ3Gh4CdscHtXfrklwvbtVI11gl/9yNhbSrTr0sOPW++1cg8vXDEPtW9ku4WizMLsMpUkd6/ya\n",
       "7ClC4KWcraYg44RSnAedtQkCKX/DfuP2b7/f73m43nj0mCMSPdQKCrxNJ7xt1aZlh/9LR//yLGIC\n",
       "mF/vYJ2pWAnDk103JCO1LpznF8yquRuSyjp20H7lLuDkmsb0E+MvAt8zfxcwyv2GmB5kKh3i12fA\n",
       "PLKTZf4EKFx5kF0UutjXMWHhtZt/ZCAgKhHUnqG//wMpQm0vG698zwAAAABJRU5ErkJggg==\n",
       "\" style=\"display:inline;vertical-align:middle;\" /></a><br>(see <a class=\"ProveItLink\" href=\"../__pv_it/ed7aaa407f3f231e62f03d6069a402fe70d89dbc0/dependencies.ipynb\">dependencies</a>)<br>"
      ],
      "text/plain": [
       "reverseFractionOfSubtractions: forall_{w, x, y, z in Complexes} (((w - x) / (y - z)) = ((x - w) / (z - y)))"
      ]
     },
     "execution_count": 2,
     "metadata": {},
     "output_type": "execute_result"
    }
   ],
   "source": [
    "%proving reverseFractionOfSubtractions presuming []"
   ]
  },
  {
   "cell_type": "code",
   "execution_count": null,
   "metadata": {},
   "outputs": [],
   "source": []
  }
 ],
 "metadata": {
  "kernelspec": {
   "display_name": "Python 3",
   "language": "python",
   "name": "python3"
  }
 },
 "nbformat": 4,
 "nbformat_minor": 0
}
