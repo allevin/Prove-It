{
 "cells": [
  {
   "cell_type": "markdown",
   "metadata": {},
   "source": [
    "Proof of <a class=\"ProveItLink\" href=\"../../../_context_.ipynb\">proveit</a>.<a class=\"ProveItLink\" href=\"../../_context_.ipynb\">number</a>.<a class=\"ProveItLink\" href=\"../_context_.ipynb\">division</a>.<a class=\"ProveItLink\" href=\"../_theorems_.ipynb#multFracRightCancel\">multFracRightCancel</a> theorem\n",
    "========"
   ]
  },
  {
   "cell_type": "code",
   "execution_count": 1,
   "metadata": {},
   "outputs": [],
   "source": [
    "import proveit\n",
    "context = proveit.Context('..') # the theorem's context is in the parent directory"
   ]
  },
  {
   "cell_type": "code",
   "execution_count": 2,
   "metadata": {},
   "outputs": [
    {
     "name": "stdout",
     "output_type": "stream",
     "text": [
      "Beginning proof of multFracRightCancel\n",
      "Recorded 'presuming' information\n",
      "Presuming previous theorems (applied transitively).\n"
     ]
    },
    {
     "data": {
      "text/html": [
       "<strong id=\"multFracRightCancel\">multFracRightCancel:</strong> <a class=\"ProveItLink\" href=\"../__pv_it/1291896c36aff00563773bb0bec0bcd574463f060/expr.ipynb\"><img src=\"data:image/png;base64,iVBORw0KGgoAAAANSUhEUgAAAPYAAAAmCAMAAADA8pbVAAAAOVBMVEX///8oKCgUFBQJCQkQEBC6\n",
       "urrMzMxUVFRmZmZERETc3NwyMjKqqqp2dnaIiIiYmJgiIiLu7u4AAACP9cC6AAAAAXRSTlMAQObY\n",
       "ZgAAA/BJREFUaN7NWYmSpCAMZXe55f7/j13AC5Uo2D06qZrqifqEHCQ8ROhdMRZSLsUz3zvaDcjP\n",
       "WC0gpT5tzXX8kSHPngzd492A/IAoByl10YiE5J/Q6qdzP78kHlNAqQtViCffiHnug+0e8wbk2yI4\n",
       "pABuQgib+BvMdEEG2TvmDciXhQQPKPCqSE/RsOQFZ92j3oB8VwYOKfCcU0ky+JPYvR1uWo5P2yaT\n",
       "nSNYr7dgbz8v3EHKeYaSUFQlG7rHzZD3+jc2kHJS1IQxvEwMH1R3/0iQ1cvWPJzjFFCumvcmMVx/\n",
       "yiaIXrw1PBt4EyAFFuZSf1f7S52SIHJu/fLh/YtwkHISp7g1FRr2XofD5yBz9azZTkDKSduOK5vs\n",
       "mz/tHTlDrJZZ3LNWo8AhpbNEqHuQIJI4/fB+PJiqIrVhUhlu7rynhbfNEJazRNzeu5CTAfNLtTa8\n",
       "slmyNcXHCVpnEW5OvqDLTVwhDOBtE4Sk+76ViHo7aObKYJwsS548avQ0xi7TbE3R0/zUsmK971gs\n",
       "TbxtgriGgw1vOOfxGUpFIgODbjFbZmNdsuBANDZrclXSY0xskniJeyikw+wDb5sgyWTnL9g5kT75\n",
       "3coMJk1m54Xjs8VOtZl92LF5LD6M9pG3jZCY4HRKwlhPiGHTfZKPInAydn41oVP2yarZG/jkGzqa\n",
       "bdqSPC902rNpLs3mrhAB8rYJIiQb65L2KcOmbZA3KO5+aXp6WfjG28N81tcvcJZryr/4ZyYifTBb\n",
       "lhV4VawcS4/xd0paI2+bIGrmP6Q8dJGeuPHwieo2szfwuVwA0d5Od1ZUDLuIjpbN/GDTEdp42wIp\n",
       "VlNJb1icDIu3qMutXcTQEUJhszdwL+aalC7hw6YC84oSGZb2seG1H3i1bFd2vG2BrCFMOb0YhmP4\n",
       "0sGeX/ODeXOytme4iOn998+Qkzy/AR1PEQYBKV2iGg9LCt62h9CA9JB7pxxyiOjY6BFbPcV1+t/U\n",
       "+vYKX5oXmvv20SyOIaVL9DUV2fO2PSQmg+Ixy+bSqpgRw3iDrDu9mPGM1JJ8haeraw0wMcV8vatU\n",
       "lT4id73P2vO2M0g0W8pxaWcPjWu7OnA19y7r6+Zc5MYhyVxMrovfnredQKjMHmr5eFI1uwF34+D0\n",
       "4hzyc4gdvdRCy2pm24bgWQwpcLc60DPdz5f1dyj23eN2HwigwAzyQM9w/7cd/PLnIC0gBQIc6Jnq\n",
       "7wAKv2t1jDAFFJhLbekZcv2Rc69/+zMDpJykaFmGbf8ytQ69Lpuvrk2fYDf0TOL+L2BYvm+2dxRQ\n",
       "6pHa0bOhv9kPCv0CGTfBNaW6/d7SM9b/GYcZ9CtEEkipEqmSnnnSn10z5D+XrzA+mOS9DwAAAABJ\n",
       "RU5ErkJggg==\n",
       "\" style=\"display:inline;vertical-align:middle;\" /></a><br>(see <a class=\"ProveItLink\" href=\"../__pv_it/1291896c36aff00563773bb0bec0bcd574463f060/dependencies.ipynb\">dependencies</a>)<br>"
      ],
      "text/plain": [
       "multFracRightCancel: forall_{x, y in Complexes | x != 0} ((x * (y / x)) = y)"
      ]
     },
     "execution_count": 2,
     "metadata": {},
     "output_type": "execute_result"
    }
   ],
   "source": [
    "%proving multFracRightCancel presuming []"
   ]
  },
  {
   "cell_type": "code",
   "execution_count": null,
   "metadata": {},
   "outputs": [],
   "source": []
  }
 ],
 "metadata": {
  "kernelspec": {
   "display_name": "Python 3",
   "language": "python",
   "name": "python3"
  }
 },
 "nbformat": 4,
 "nbformat_minor": 0
}
