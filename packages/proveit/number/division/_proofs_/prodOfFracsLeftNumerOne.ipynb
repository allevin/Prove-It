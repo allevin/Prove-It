{
 "cells": [
  {
   "cell_type": "markdown",
   "metadata": {},
   "source": [
    "Proof of <a class=\"ProveItLink\" href=\"../../../_context_.ipynb\">proveit</a>.<a class=\"ProveItLink\" href=\"../../_context_.ipynb\">number</a>.<a class=\"ProveItLink\" href=\"../_context_.ipynb\">division</a>.<a class=\"ProveItLink\" href=\"../_theorems_.ipynb#prodOfFracsLeftNumerOne\">prodOfFracsLeftNumerOne</a> theorem\n",
    "========"
   ]
  },
  {
   "cell_type": "code",
   "execution_count": 1,
   "metadata": {},
   "outputs": [],
   "source": [
    "import proveit\n",
    "context = proveit.Context('..') # the theorem's context is in the parent directory"
   ]
  },
  {
   "cell_type": "code",
   "execution_count": 2,
   "metadata": {},
   "outputs": [
    {
     "name": "stdout",
     "output_type": "stream",
     "text": [
      "Beginning proof of prodOfFracsLeftNumerOne\n",
      "Recorded 'presuming' information\n",
      "Presuming previous theorems (applied transitively).\n"
     ]
    },
    {
     "data": {
      "text/html": [
       "<strong id=\"prodOfFracsLeftNumerOne\">prodOfFracsLeftNumerOne:</strong> <a class=\"ProveItLink\" href=\"../__pv_it/b5984c8de278e0b58c29aa04800e70dbf36796390/expr.ipynb\"><img src=\"data:image/png;base64,iVBORw0KGgoAAAANSUhEUgAAAP8AAAAyBAMAAABhUBCTAAAAMFBMVEX///8QEBC6urrMzMxUVFRm\n",
       "ZmZERETc3NwyMjKqqqp2dnaIiIiYmJgiIiLu7u4AAAAU9Wx4AAAAAXRSTlMAQObYZgAABHZJREFU\n",
       "WMO9WH+IFFUc/97Mzu7tzt7cpiCJBGsk5B+iYZH+EXdcoWCkm3QieeIZsUIXMkFoEdkSChEiKxpE\n",
       "/uEQlpQoG3QHcdHtP4cHFrd/6IGCsIIspKGXB10/7Oq9mb2d9915b+Y7R9vnj/28mfnw3e+8932f\n",
       "ee8BxMPnbRzA7To1FF0pwHAwB6GdoMaiKwWcQ3xQJpkiB5uK///pmsiNBZkmUaBGoytbeGuDwLdf\n",
       "kCYAK8nhVsZO4GPEpjyBk+TiOhm3DNMLiBUJdJN7tjvuGHQ5iHECqQtbz+xxq3teGaClac6D+ZgJ\n",
       "TNcR4wTuwE/Vx9zWMWUAXwMRSjmuYsYJODABp1CeQfgaiFDKneMBZpxAHbY0W70VVQRfE6WU22AO\n",
       "c3sRrlqc3zV1jFXYCWrxarCAuS2B1BxY3iQJqcJFDUQpZegrY8YJXDZn4Qe3Zf2liuBrIEIpxUQd\n",
       "M0og/TCZSzWHdEblI4KmpYxRh/sxGy//PiS8zMilr79vtncoAoialtItgyukBFa0sbqrbHKn2vAV\n",
       "Z9KX2foTsxpny9QEmPIQr81hkg08xBxSreTpzZTdrAgMUsbZPzCrcZ/8kWHK7PnDh98nic05zGr0\n",
       "DlMT4MrfisUbNCOcxxziWCWytzHl8wAHaCuoBcxq9HgOu/sjjqNRyifAUidsTZ27tlhRiVnMLdwL\n",
       "hM1Re4Are8CsSh/eHRyCjQdhkyNP4B8O3rT+dkezdc1WOoEEvKcILaVZ7ZG6ofnakXtwuQKaE9ED\n",
       "VsCYusk9wJVW6WnWujDwLVvpamPQxbN57sS7MMmn/GZ2044aAlAMwd6bHDORygMDAJn6li5mBnd7\n",
       "7af4/YFJB3hhmL8InWMsYI4sQkoNcOUn7EeD4/z6yDoYcx/8DLoTSKBD0xC63DL3om6DF911Qx70\n",
       "mWJxRHt8Q+eNCLL8LfWczm8sg+WcNsKzVj9vbK/4NZB9gPk/suLmRyFTysA7NizXZhnp29YOw1Z+\n",
       "/5nzYFY6+zHy0PhuzyXoq8LpsRIjU3vUhkaeT7GLxYEOf45FVFN2gqXU9KUviyP/x4JEgG4nnSc5\n",
       "0ZZkauwgr/KwMgvpcYcTaVFqfeHAB6KHao/k31N20Z1XIeX7x+plzbXpCogDvCzPsHqdEB8fujI4\n",
       "rFxsO+vBbDlo6s3RXUtZluONyWajBkW872oeO2WDTqWX90KSp2dxiQXWdpWSvjWrMwPDL5DqV264\n",
       "LLYnczeC971nby9pa6bNIT5b17Enrlm0N0d6ttHHXfWWO0paQa0MwzXEu8FEn920E7LpNkrwjX/1\n",
       "2dK25zCN+Bgk+8WnLKp3fVR+GvO6mGpCqQytworIr8B6cSmlHx+ayisPXox+wcE3Tf744ZKOaNI5\n",
       "kRvj+0TLMmDaO3ZLFqTbwlH/3wrZX8tKZYxjOrgoFa2WD2ymRlWGHVTaPidqlvyg8brs5ktwq0xT\n",
       "ho9ByeceJymdRIa0X2/AG0RlOAZ9To/vlEo+ld49M5onKsORrGCWuFVnj+thZxsH0CAXlqf8F2/Q\n",
       "ffsi7EgWAAAAAElFTkSuQmCC\n",
       "\" style=\"display:inline;vertical-align:middle;\" /></a><br>(see <a class=\"ProveItLink\" href=\"../__pv_it/b5984c8de278e0b58c29aa04800e70dbf36796390/dependencies.ipynb\">dependencies</a>)<br>"
      ],
      "text/plain": [
       "prodOfFracsLeftNumerOne: forall_{x, y, z in Complexes} (((1 / y) * (x / z)) = (x / (y * z)))"
      ]
     },
     "execution_count": 2,
     "metadata": {},
     "output_type": "execute_result"
    }
   ],
   "source": [
    "%proving prodOfFracsLeftNumerOne presuming []"
   ]
  },
  {
   "cell_type": "code",
   "execution_count": null,
   "metadata": {},
   "outputs": [],
   "source": []
  }
 ],
 "metadata": {
  "kernelspec": {
   "display_name": "Python 3",
   "language": "python",
   "name": "python3"
  }
 },
 "nbformat": 4,
 "nbformat_minor": 0
}
