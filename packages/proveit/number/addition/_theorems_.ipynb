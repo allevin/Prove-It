{
 "cells": [
  {
   "cell_type": "markdown",
   "metadata": {
    "collapsed": true
   },
   "source": [
    "Theorems for context <a href=\"_context_.ipynb\" class=\"ProveItLink\">proveit.number.addition</a>\n",
    "========"
   ]
  },
  {
   "cell_type": "code",
   "execution_count": 1,
   "metadata": {},
   "outputs": [],
   "source": [
    "import proveit\n",
    "from proveit import varIter, Iter, Indexed\n",
    "from proveit.logic import Forall, Equals\n",
    "from proveit.logic._common_ import iterA1m, iterC1n\n",
    "from proveit._common_ import a, b, c, d, e, f, g, h, i,j,k, l, m,n, x, AA, BB, CC, DD, EE,A, B, C, D, E\n",
    "from proveit.number import zero, one, two, three, Add, Complexes, Neg, Subtract, Mult, Naturals, Integers, Reals, NaturalsPos, Greater, Less, Exp, RealsPos, RealsNeg\n",
    "from proveit.logic.set_theory import InSet\n",
    "# the context is in the current directory:\n",
    "context = proveit.Context('.') # adds context root to sys.path if necessary"
   ]
  },
  {
   "cell_type": "code",
   "execution_count": 2,
   "metadata": {},
   "outputs": [
    {
     "name": "stdout",
     "output_type": "stream",
     "text": [
      "Defining theorems for context 'proveit.number.addition'\n",
      "Subsequent end-of-cell assignments will define theorems\n",
      "'%end theorems' will finalize the definitions\n"
     ]
    }
   ],
   "source": [
    "%begin theorems"
   ]
  },
  {
   "cell_type": "code",
   "execution_count": 3,
   "metadata": {},
   "outputs": [
    {
     "data": {
      "text/html": [
       "<strong id=\"addIntClosure\"><a class=\"ProveItLink\" href=\"_proofs_/addIntClosure.ipynb\">addIntClosure</a>:</strong> <a class=\"ProveItLink\" href=\"__pv_it/c514d7163aa0b6e8d17a518bf66e4a15d3db3e6a0/expr.ipynb\"><img src=\"__pv_it/c514d7163aa0b6e8d17a518bf66e4a15d3db3e6a0/expr.png\" style=\"display:inline;vertical-align:middle;\" /></a><br>"
      ],
      "text/plain": [
       "addIntClosure: forall_{m in Naturals} [forall_{A in Integers} ((A_1 +  ...  + A_m) in Integers)]"
      ]
     },
     "execution_count": 3,
     "metadata": {},
     "output_type": "execute_result"
    }
   ],
   "source": [
    "addIntClosure = Forall(m, Forall(AA, InSet(Add(iterA1m),Integers), domain = Integers), domain=Naturals)"
   ]
  },
  {
   "cell_type": "code",
   "execution_count": 4,
   "metadata": {},
   "outputs": [
    {
     "data": {
      "text/html": [
       "<strong id=\"addNatClosure\"><a class=\"ProveItLink\" href=\"_proofs_/addNatClosure.ipynb\">addNatClosure</a>:</strong> <a class=\"ProveItLink\" href=\"__pv_it/5fe2d172b59f40d01ac7fbb9b51451f97c062d200/expr.ipynb\"><img src=\"__pv_it/5fe2d172b59f40d01ac7fbb9b51451f97c062d200/expr.png\" style=\"display:inline;vertical-align:middle;\" /></a><br>"
      ],
      "text/plain": [
       "addNatClosure: forall_{a, b in Naturals} ((a + b) in Naturals)"
      ]
     },
     "execution_count": 4,
     "metadata": {},
     "output_type": "execute_result"
    }
   ],
   "source": [
    "addNatClosure = Forall((a, b), InSet(Add(a, b), Naturals), domain=Naturals)"
   ]
  },
  {
   "cell_type": "code",
   "execution_count": 5,
   "metadata": {},
   "outputs": [
    {
     "data": {
      "text/html": [
       "<strong id=\"addRealClosure\"><a class=\"ProveItLink\" href=\"_proofs_/addRealClosure.ipynb\">addRealClosure</a>:</strong> <a class=\"ProveItLink\" href=\"__pv_it/768bc41811bc2494fa206e732d3b3bfd562807280/expr.ipynb\"><img src=\"__pv_it/768bc41811bc2494fa206e732d3b3bfd562807280/expr.png\" style=\"display:inline;vertical-align:middle;\" /></a><br>"
      ],
      "text/plain": [
       "addRealClosure: forall_{m in Naturals} [forall_{A in Reals} ((A_1 +  ...  + A_m) in Reals)]"
      ]
     },
     "execution_count": 5,
     "metadata": {},
     "output_type": "execute_result"
    }
   ],
   "source": [
    "addRealClosure = Forall(m, Forall(AA, InSet(Add(iterA1m),Reals), domain=Reals), domain = Naturals)"
   ]
  },
  {
   "cell_type": "code",
   "execution_count": 6,
   "metadata": {},
   "outputs": [
    {
     "data": {
      "text/html": [
       "<strong id=\"addComplexClosure\"><a class=\"ProveItLink\" href=\"_proofs_/addComplexClosure.ipynb\">addComplexClosure</a>:</strong> <a class=\"ProveItLink\" href=\"__pv_it/dbd73f736ca66d9397620d45c323dc263e7ecb980/expr.ipynb\"><img src=\"__pv_it/dbd73f736ca66d9397620d45c323dc263e7ecb980/expr.png\" style=\"display:inline;vertical-align:middle;\" /></a><br>"
      ],
      "text/plain": [
       "addComplexClosure: forall_{m in Naturals} [forall_{A in Complexes} ((A_1 +  ...  + A_m) in Complexes)]"
      ]
     },
     "execution_count": 6,
     "metadata": {},
     "output_type": "execute_result"
    }
   ],
   "source": [
    "addComplexClosure = Forall(m, Forall(AA, InSet(Add(iterA1m),Complexes), domain = Complexes), domain=Naturals)"
   ]
  },
  {
   "cell_type": "code",
   "execution_count": 7,
   "metadata": {},
   "outputs": [
    {
     "data": {
      "text/html": [
       "<strong id=\"addNatPosClosure\"><a class=\"ProveItLink\" href=\"_proofs_/addNatPosClosure.ipynb\">addNatPosClosure</a>:</strong> <a class=\"ProveItLink\" href=\"__pv_it/7a12e8ffcf1302e2fec11aaf03c7746f2a3a4cbf0/expr.ipynb\"><img src=\"__pv_it/7a12e8ffcf1302e2fec11aaf03c7746f2a3a4cbf0/expr.png\" style=\"display:inline;vertical-align:middle;\" /></a><br>"
      ],
      "text/plain": [
       "addNatPosClosure: forall_{m, n in Naturals} [forall_{A, B, C in Naturals | B > 0} ((A_1 +  ...  + A_m + B + C_1 +  ...  + C_n) in NaturalsPos)]"
      ]
     },
     "execution_count": 7,
     "metadata": {},
     "output_type": "execute_result"
    }
   ],
   "source": [
    "addNatPosClosure = Forall( (m, n), Forall((AA, B, CC), InSet(Add(iterA1m, B, iterC1n), NaturalsPos), domain=Naturals, conditions=[Greater(B, zero)]), domain=Naturals)"
   ]
  },
  {
   "cell_type": "code",
   "execution_count": 8,
   "metadata": {},
   "outputs": [
    {
     "data": {
      "text/html": [
       "<strong id=\"addZero\"><a class=\"ProveItLink\" href=\"_proofs_/addZero.ipynb\">addZero</a>:</strong> <a class=\"ProveItLink\" href=\"__pv_it/f6ad0d70c2f879e32e39aaf4486d693830682bf00/expr.ipynb\"><img src=\"__pv_it/f6ad0d70c2f879e32e39aaf4486d693830682bf00/expr.png\" style=\"display:inline;vertical-align:middle;\" /></a><br>"
      ],
      "text/plain": [
       "addZero: forall_{x in Complexes} ((0 + x) = x)"
      ]
     },
     "execution_count": 8,
     "metadata": {},
     "output_type": "execute_result"
    }
   ],
   "source": [
    "addZero = Forall(x, Equals(Add(zero, x), x), domain=Complexes)"
   ]
  },
  {
   "cell_type": "code",
   "execution_count": 9,
   "metadata": {},
   "outputs": [
    {
     "data": {
      "text/html": [
       "<strong id=\"swap\"><a class=\"ProveItLink\" href=\"_proofs_/swap.ipynb\">swap</a>:</strong> <a class=\"ProveItLink\" href=\"__pv_it/026db5e3c7444f1eaebe03cc009a8d7f35bf431f0/expr.ipynb\"><img src=\"__pv_it/026db5e3c7444f1eaebe03cc009a8d7f35bf431f0/expr.png\" style=\"display:inline;vertical-align:middle;\" /></a><br>"
      ],
      "text/plain": [
       "swap: forall_{l, m, n in Naturals} [forall_{(A, B, C, D, E) in Naturals^{l} * Naturals * Naturals^{m} * Naturals * Naturals^{n}} ((A_1 +  ...  + A_l + B + C_1 +  ...  + C_m + D + E_1 +  ...  + E_n) = (A_1 +  ...  + A_l + D + C_1 +  ...  + C_m + B + E_1 +  ...  + E_n))]"
      ]
     },
     "execution_count": 9,
     "metadata": {},
     "output_type": "execute_result"
    }
   ],
   "source": [
    "swap = Forall((l,m, n),Forall((AA,B,CC,D,EE), Equals(Add(varIter(AA, one, l), B, varIter(CC, one, m), D, varIter(EE, one, n)), Add(varIter(AA, one, l), D, varIter(CC, one, m), B, varIter(EE, one, n))), domains = [Exp(Naturals, l), Naturals, Exp(Naturals,m), Naturals, Exp(Naturals, n)]), domain = Naturals)"
   ]
  },
  {
   "cell_type": "code",
   "execution_count": 10,
   "metadata": {},
   "outputs": [
    {
     "data": {
      "text/html": [
       "<strong id=\"group\"><a class=\"ProveItLink\" href=\"_proofs_/group.ipynb\">group</a>:</strong> <a class=\"ProveItLink\" href=\"__pv_it/dba8e6efb5ab06f8e64f9e821fa20b6d15547b010/expr.ipynb\"><img src=\"__pv_it/dba8e6efb5ab06f8e64f9e821fa20b6d15547b010/expr.png\" style=\"display:inline;vertical-align:middle;\" /></a><br>"
      ],
      "text/plain": [
       "group: forall_{l, m, n in Naturals} [forall_{(A, B, C) in Reals^{l} * Reals^{m} * Reals^{n}} ((A_1 +  ...  + A_l + B_1 +  ...  + B_m + C_1 +  ...  + C_n) = (A_1 +  ...  + A_l + (B_1 +  ...  + B_m) + C_1 +  ...  + C_n))]"
      ]
     },
     "execution_count": 10,
     "metadata": {},
     "output_type": "execute_result"
    }
   ],
   "source": [
    "group = Forall((l,m,n), Forall((AA,BB,CC),Equals(Add(Iter(i, Indexed(AA,i), one, l), Iter(j,Indexed(BB,j),one,m), Iter(k, Indexed(CC,k),one,n)),Add(Iter(i, Indexed(AA,i), one, l), Add(Iter(j,Indexed(BB,j),one,m)), Iter(k, Indexed(CC,k),one,n))), domains = [Exp(Reals,l), Exp(Reals,m), Exp(Reals,n)]),domain = Naturals)"
   ]
  },
  {
   "cell_type": "code",
   "execution_count": 11,
   "metadata": {},
   "outputs": [
    {
     "data": {
      "text/html": [
       "<strong id=\"strictlyIncreasingAdditions\"><a class=\"ProveItLink\" href=\"_proofs_/strictlyIncreasingAdditions.ipynb\">strictlyIncreasingAdditions</a>:</strong> <a class=\"ProveItLink\" href=\"__pv_it/a1d5d69b06e92629230ee4cd065ceac47481d4670/expr.ipynb\"><img src=\"__pv_it/a1d5d69b06e92629230ee4cd065ceac47481d4670/expr.png\" style=\"display:inline;vertical-align:middle;\" /></a><br>"
      ],
      "text/plain": [
       "strictlyIncreasingAdditions: forall_{m, n in Naturals} [forall_{A, C in RealsPos} [forall_{B in Reals} ((A_1 +  ...  + A_m + B + C_1 +  ...  + C_n) > B)]]"
      ]
     },
     "execution_count": 11,
     "metadata": {},
     "output_type": "execute_result"
    }
   ],
   "source": [
    "strictlyIncreasingAdditions = Forall((m,n), Forall((AA, CC), Forall(B, Greater(Add(iterA1m, B, iterC1n), B),\n",
    "                                                          domain=Reals),domain=RealsPos) , domain = Naturals)"
   ]
  },
  {
   "cell_type": "code",
   "execution_count": 12,
   "metadata": {},
   "outputs": [
    {
     "data": {
      "text/html": [
       "<strong id=\"strictlyDecreasingAdditions\"><a class=\"ProveItLink\" href=\"_proofs_/strictlyDecreasingAdditions.ipynb\">strictlyDecreasingAdditions</a>:</strong> <a class=\"ProveItLink\" href=\"__pv_it/af50c5eb0ee40ef7920dcadf357568d9bcf5ebdf0/expr.ipynb\"><img src=\"__pv_it/af50c5eb0ee40ef7920dcadf357568d9bcf5ebdf0/expr.png\" style=\"display:inline;vertical-align:middle;\" /></a><br>"
      ],
      "text/plain": [
       "strictlyDecreasingAdditions: forall_{m, n in Naturals} [forall_{A_1,...,A_m, C_1,...,C_n in RealsNeg} [forall_{B in Reals} ((A_1 +  ...  + A_m + B + C_1 +  ...  + C_n) < B)]]"
      ]
     },
     "execution_count": 12,
     "metadata": {},
     "output_type": "execute_result"
    }
   ],
   "source": [
    "strictlyDecreasingAdditions = Forall((m,n),Forall((iterA1m, iterC1n), Forall(B, Less(Add(iterA1m, B, iterC1n), B),\n",
    "                                                          domain=Reals),\n",
    "                                     domain=RealsNeg), domain= Naturals)"
   ]
  },
  {
   "cell_type": "code",
   "execution_count": 13,
   "metadata": {},
   "outputs": [
    {
     "data": {
      "text/html": [
       "<strong id=\"addNegSelf\"><a class=\"ProveItLink\" href=\"_proofs_/addNegSelf.ipynb\">addNegSelf</a>:</strong> <a class=\"ProveItLink\" href=\"__pv_it/306f53a929e2944581e7ca1c329e678fb9f86e990/expr.ipynb\"><img src=\"__pv_it/306f53a929e2944581e7ca1c329e678fb9f86e990/expr.png\" style=\"display:inline;vertical-align:middle;\" /></a><br>"
      ],
      "text/plain": [
       "addNegSelf: forall_{x | x + (-x)} 0"
      ]
     },
     "execution_count": 13,
     "metadata": {},
     "output_type": "execute_result"
    }
   ],
   "source": [
    "addNegSelf = Forall(x, zero, conditions=[Subtract(x,x)])"
   ]
  },
  {
   "cell_type": "code",
   "execution_count": 14,
   "metadata": {},
   "outputs": [
    {
     "name": "stdout",
     "output_type": "stream",
     "text": [
      "Adding theorem addIntClosure to proveit.number.addition context\n",
      "Adding theorem addNatClosure to proveit.number.addition context\n",
      "Adding theorem addRealClosure to proveit.number.addition context\n",
      "Adding theorem addComplexClosure to proveit.number.addition context\n",
      "Adding theorem addNatPosClosure to proveit.number.addition context\n",
      "Adding theorem addZero to proveit.number.addition context\n",
      "Adding theorem swap to proveit.number.addition context\n",
      "Adding theorem group to proveit.number.addition context\n",
      "Adding theorem strictlyIncreasingAdditions to proveit.number.addition context\n",
      "Adding theorem strictlyDecreasingAdditions to proveit.number.addition context\n",
      "Adding theorem addNegSelf to proveit.number.addition context\n",
      "addIntClosure expression notebook is being updated\n",
      "addNatClosure expression notebook is being updated\n",
      "addRealClosure expression notebook is being updated\n",
      "addComplexClosure expression notebook is being updated\n",
      "addNatPosClosure expression notebook is being updated\n",
      "addZero expression notebook is being updated\n",
      "swap expression notebook is being updated\n",
      "group expression notebook is being updated\n",
      "strictlyIncreasingAdditions expression notebook is being updated\n",
      "strictlyDecreasingAdditions expression notebook is being updated\n",
      "addNegSelf expression notebook is being updated\n",
      "Theorems may be imported from autogenerated _theorems_.py\n"
     ]
    }
   ],
   "source": [
    "%end theorems"
   ]
  },
  {
   "cell_type": "code",
   "execution_count": null,
   "metadata": {},
   "outputs": [],
   "source": []
  }
 ],
 "metadata": {
  "kernelspec": {
   "display_name": "Python 3",
   "language": "python",
   "name": "python3"
  },
  "language_info": {
   "codemirror_mode": {
    "name": "ipython",
    "version": 3
   },
   "file_extension": ".py",
   "mimetype": "text/x-python",
   "name": "python",
   "nbconvert_exporter": "python",
   "pygments_lexer": "ipython3",
   "version": "3.7.3"
  }
 },
 "nbformat": 4,
 "nbformat_minor": 1
}
