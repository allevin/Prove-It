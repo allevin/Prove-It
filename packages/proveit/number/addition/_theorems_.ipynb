{
 "cells": [
  {
   "cell_type": "markdown",
   "metadata": {
    "collapsed": true
   },
   "source": [
    "Theorems for context <a href=\"_context_.ipynb\" class=\"ProveItLink\">proveit.number.addition</a>\n",
    "========"
   ]
  },
  {
   "cell_type": "code",
   "execution_count": 1,
   "metadata": {},
   "outputs": [],
   "source": [
    "import proveit\n",
    "from proveit import varIter, Iter, Indexed\n",
    "from proveit.logic import Forall, Equals, Booleans\n",
    "from proveit.logic._common_ import iterA1m, iterC1n\n",
    "from proveit._common_ import a, b, c, d, e, f, g, h, i,j,k, l, m,n, x, AA, BB, CC, DD, EE,A, B, C, D, E\n",
    "from proveit.number import zero, one, two, three, Add, Complexes, Neg, Subtract, Mult, Naturals, Integers, Reals, NaturalsPos, Greater, Less, Exp, RealsPos, RealsNeg\n",
    "from proveit.logic.set_theory import InSet\n",
    "# the context is in the current directory:\n",
    "context = proveit.Context('.') # adds context root to sys.path if necessary"
   ]
  },
  {
   "cell_type": "code",
   "execution_count": 2,
   "metadata": {},
   "outputs": [
    {
     "name": "stdout",
     "output_type": "stream",
     "text": [
      "Defining theorems for context 'proveit.number.addition'\n",
      "Subsequent end-of-cell assignments will define theorems\n",
      "'%end theorems' will finalize the definitions\n"
     ]
    }
   ],
   "source": [
    "%begin theorems"
   ]
  },
  {
   "cell_type": "code",
   "execution_count": 3,
   "metadata": {},
   "outputs": [
    {
     "data": {
      "text/html": [
       "<strong id=\"addIntClosure\"><a class=\"ProveItLink\" href=\"_proofs_/addIntClosure.ipynb\">addIntClosure</a>:</strong> <a class=\"ProveItLink\" href=\"__pv_it/e671f21665fb4bcf90d9e30f8c748d9fb49aa2510/expr.ipynb\"><img src=\"__pv_it/e671f21665fb4bcf90d9e30f8c748d9fb49aa2510/expr.png\" style=\"display:inline;vertical-align:middle;\" /></a><br>"
      ],
      "text/plain": [
       "addIntClosure: forall_{m in Reals} [forall_{A in Integers} ((A_1 +  ...  + A_m) in Integers)]"
      ]
     },
     "execution_count": 3,
     "metadata": {},
     "output_type": "execute_result"
    }
   ],
   "source": [
    "addIntClosure = Forall(m, Forall(AA, InSet(Add(iterA1m),Integers), domain = Integers), domain=Reals)"
   ]
  },
  {
   "cell_type": "code",
   "execution_count": 4,
   "metadata": {},
   "outputs": [
    {
     "data": {
      "text/html": [
       "<strong id=\"addNatClosure\"><a class=\"ProveItLink\" href=\"_proofs_/addNatClosure.ipynb\">addNatClosure</a>:</strong> <a class=\"ProveItLink\" href=\"__pv_it/5fe2d172b59f40d01ac7fbb9b51451f97c062d200/expr.ipynb\"><img src=\"__pv_it/5fe2d172b59f40d01ac7fbb9b51451f97c062d200/expr.png\" style=\"display:inline;vertical-align:middle;\" /></a><br>"
      ],
      "text/plain": [
       "addNatClosure: forall_{a, b in Naturals} ((a + b) in Naturals)"
      ]
     },
     "execution_count": 4,
     "metadata": {},
     "output_type": "execute_result"
    }
   ],
   "source": [
    "addNatClosure = Forall((a, b), InSet(Add(a, b), Naturals), domain=Naturals)"
   ]
  },
  {
   "cell_type": "code",
   "execution_count": 5,
   "metadata": {},
   "outputs": [
    {
     "data": {
      "text/html": [
       "<strong id=\"addRealClosure\"><a class=\"ProveItLink\" href=\"_proofs_/addRealClosure.ipynb\">addRealClosure</a>:</strong> <a class=\"ProveItLink\" href=\"__pv_it/6435916c77339bdf2d8511f3f7bcf5ca608fbb640/expr.ipynb\"><img src=\"__pv_it/6435916c77339bdf2d8511f3f7bcf5ca608fbb640/expr.png\" style=\"display:inline;vertical-align:middle;\" /></a><br>"
      ],
      "text/plain": [
       "addRealClosure: forall_{m in Reals} [forall_{A in Reals} ((A_1 +  ...  + A_m) in Reals)]"
      ]
     },
     "execution_count": 5,
     "metadata": {},
     "output_type": "execute_result"
    }
   ],
   "source": [
    "addRealClosure = Forall(m, Forall(AA, InSet(Add(iterA1m),Reals), domain=Reals), domain = Reals)"
   ]
  },
  {
   "cell_type": "code",
   "execution_count": 6,
   "metadata": {},
   "outputs": [
    {
     "data": {
      "text/html": [
       "<strong id=\"addComplexClosure\"><a class=\"ProveItLink\" href=\"_proofs_/addComplexClosure.ipynb\">addComplexClosure</a>:</strong> <a class=\"ProveItLink\" href=\"__pv_it/53e054c4f88ace7d08db5aed426ea883f4574ed80/expr.ipynb\"><img src=\"__pv_it/53e054c4f88ace7d08db5aed426ea883f4574ed80/expr.png\" style=\"display:inline;vertical-align:middle;\" /></a><br>"
      ],
      "text/plain": [
       "addComplexClosure: forall_{m in Reals} [forall_{A in Complexes} ((A_1 +  ...  + A_m) in Complexes)]"
      ]
     },
     "execution_count": 6,
     "metadata": {},
     "output_type": "execute_result"
    }
   ],
   "source": [
    "addComplexClosure = Forall(m, Forall(AA, InSet(Add(iterA1m),Complexes), domain = Complexes), domain=Reals)"
   ]
  },
  {
   "cell_type": "code",
   "execution_count": 7,
   "metadata": {},
   "outputs": [
    {
     "data": {
      "text/html": [
       "<strong id=\"addNatPosClosure\"><a class=\"ProveItLink\" href=\"_proofs_/addNatPosClosure.ipynb\">addNatPosClosure</a>:</strong> <a class=\"ProveItLink\" href=\"__pv_it/6b420ed1ccceacd5b3b710e020f74a7d0c9d51230/expr.ipynb\"><img src=\"__pv_it/6b420ed1ccceacd5b3b710e020f74a7d0c9d51230/expr.png\" style=\"display:inline;vertical-align:middle;\" /></a><br>"
      ],
      "text/plain": [
       "addNatPosClosure: forall_{(m, n) in Naturals^{m} * Naturals^{n}} [forall_{A, B, C in Naturals | B > 0} ((A_1 +  ...  + A_m + B + C_1 +  ...  + C_n) in NaturalsPos)]"
      ]
     },
     "execution_count": 7,
     "metadata": {},
     "output_type": "execute_result"
    }
   ],
   "source": [
    "addNatPosClosure = Forall( (m, n), Forall((AA, B, CC), InSet(Add(iterA1m, B, iterC1n), NaturalsPos), domain=Naturals, conditions=[Greater(B, zero)]), domains=[Exp(Naturals,m),Exp(Naturals,n)])"
   ]
  },
  {
   "cell_type": "code",
   "execution_count": 8,
   "metadata": {},
   "outputs": [
    {
     "data": {
      "text/html": [
       "<strong id=\"addZero\"><a class=\"ProveItLink\" href=\"_proofs_/addZero.ipynb\">addZero</a>:</strong> <a class=\"ProveItLink\" href=\"__pv_it/f6ad0d70c2f879e32e39aaf4486d693830682bf00/expr.ipynb\"><img src=\"__pv_it/f6ad0d70c2f879e32e39aaf4486d693830682bf00/expr.png\" style=\"display:inline;vertical-align:middle;\" /></a><br>"
      ],
      "text/plain": [
       "addZero: forall_{x in Complexes} ((0 + x) = x)"
      ]
     },
     "execution_count": 8,
     "metadata": {},
     "output_type": "execute_result"
    }
   ],
   "source": [
    "addZero = Forall(x, Equals(Add(zero, x), x), domain=Complexes)"
   ]
  },
  {
   "cell_type": "code",
   "execution_count": 9,
   "metadata": {},
   "outputs": [
    {
     "data": {
      "text/html": [
       "<strong id=\"swap\"><a class=\"ProveItLink\" href=\"_proofs_/swap.ipynb\">swap</a>:</strong> <a class=\"ProveItLink\" href=\"__pv_it/0cf28b5c9854354b9798edc6a40285ae8f4dd72e0/expr.ipynb\"><img src=\"__pv_it/0cf28b5c9854354b9798edc6a40285ae8f4dd72e0/expr.png\" style=\"display:inline;vertical-align:middle;\" /></a><br>"
      ],
      "text/plain": [
       "swap: forall_{l, m, n in Naturals} [forall_{(A, B, C, D, E) in BOOLEANS^{l} * BOOLEANS * BOOLEANS^{m} * BOOLEANS * BOOLEANS^{n}} ((A_1 +  ...  + A_l + B + C_1 +  ...  + C_m + D + E_1 +  ...  + E_n) = (A_1 +  ...  + A_l + D + C_1 +  ...  + C_m + B + E_1 +  ...  + E_n))]"
      ]
     },
     "execution_count": 9,
     "metadata": {},
     "output_type": "execute_result"
    }
   ],
   "source": [
    "swap = Forall((l,m, n),Forall((AA,B,CC,D,EE), Equals(Add(varIter(AA, one, l), B, varIter(CC, one, m), D, varIter(EE, one, n)), Add(varIter(AA, one, l), D, varIter(CC, one, m), B, varIter(EE, one, n))), domains = [Exp(Booleans, l), Booleans, Exp(Booleans,m), Booleans, Exp(Booleans, n)]), domain = Naturals)"
   ]
  },
  {
   "cell_type": "code",
   "execution_count": 10,
   "metadata": {},
   "outputs": [
    {
     "data": {
      "text/html": [
       "<strong id=\"group\"><a class=\"ProveItLink\" href=\"_proofs_/group.ipynb\">group</a>:</strong> <a class=\"ProveItLink\" href=\"__pv_it/d3fad04dab3fcb554b6bf0f26b45b84d281824500/expr.ipynb\"><img src=\"__pv_it/d3fad04dab3fcb554b6bf0f26b45b84d281824500/expr.png\" style=\"display:inline;vertical-align:middle;\" /></a><br>"
      ],
      "text/plain": [
       "group: forall_{l, m, n in Naturals} [forall_{(A, B, C) in BOOLEANS^{l} * BOOLEANS^{m} * BOOLEANS^{n}} ((A_1 +  ...  + A_l + B_1 +  ...  + B_m + C_1 +  ...  + C_n) = (A_1 +  ...  + A_l + (B_1 +  ...  + B_m) + C_1 +  ...  + C_n))]"
      ]
     },
     "execution_count": 10,
     "metadata": {},
     "output_type": "execute_result"
    }
   ],
   "source": [
    "group = Forall((l,m,n), Forall((AA,BB,CC),Equals(Add(Iter(i, Indexed(AA,i), one, l), Iter(j,Indexed(BB,j),one,m), Iter(k, Indexed(CC,k),one,n)),Add(Iter(i, Indexed(AA,i), one, l), Add(Iter(j,Indexed(BB,j),one,m)), Iter(k, Indexed(CC,k),one,n))), domains = [Exp(Booleans,l), Exp(Booleans,m), Exp(Booleans,n)]),domain = Naturals)"
   ]
  },
  {
   "cell_type": "code",
   "execution_count": 11,
   "metadata": {},
   "outputs": [
    {
     "data": {
      "text/html": [
       "<strong id=\"strictlyIncreasingAdditions\"><a class=\"ProveItLink\" href=\"_proofs_/strictlyIncreasingAdditions.ipynb\">strictlyIncreasingAdditions</a>:</strong> <a class=\"ProveItLink\" href=\"__pv_it/2e15c129e7c2455a7a271459f255524983c3f7950/expr.ipynb\"><img src=\"__pv_it/2e15c129e7c2455a7a271459f255524983c3f7950/expr.png\" style=\"display:inline;vertical-align:middle;\" /></a><br>"
      ],
      "text/plain": [
       "strictlyIncreasingAdditions: forall_{(m, n) in Naturals^{m} * Naturals^{n}} [forall_{A, C in RealsPos} [forall_{B in Reals} ((A_1 +  ...  + A_m + B + C_1 +  ...  + C_n) > B)]]"
      ]
     },
     "execution_count": 11,
     "metadata": {},
     "output_type": "execute_result"
    }
   ],
   "source": [
    "strictlyIncreasingAdditions = Forall((m,n), Forall((AA, CC), Forall(B, Greater(Add(iterA1m, B, iterC1n), B),\n",
    "                                                          domain=Reals),domain=RealsPos) , domains=[Exp(Naturals,m),Exp(Naturals,n)])"
   ]
  },
  {
   "cell_type": "code",
   "execution_count": 12,
   "metadata": {},
   "outputs": [
    {
     "data": {
      "text/html": [
       "<strong id=\"strictlyDecreasingAdditions\"><a class=\"ProveItLink\" href=\"_proofs_/strictlyDecreasingAdditions.ipynb\">strictlyDecreasingAdditions</a>:</strong> <a class=\"ProveItLink\" href=\"__pv_it/e6763548ea3073a49310abf9dff51b3f046ebda30/expr.ipynb\"><img src=\"__pv_it/e6763548ea3073a49310abf9dff51b3f046ebda30/expr.png\" style=\"display:inline;vertical-align:middle;\" /></a><br>"
      ],
      "text/plain": [
       "strictlyDecreasingAdditions: forall_{(m, n) in Naturals^{m} * Naturals^{n}} [forall_{A_1,...,A_m, C_1,...,C_n in RealsNeg} [forall_{B in Reals} ((A_1 +  ...  + A_m + B + C_1 +  ...  + C_n) < B)]]"
      ]
     },
     "execution_count": 12,
     "metadata": {},
     "output_type": "execute_result"
    }
   ],
   "source": [
    "strictlyDecreasingAdditions = Forall((m,n),Forall((iterA1m, iterC1n), Forall(B, Less(Add(iterA1m, B, iterC1n), B),\n",
    "                                                          domain=Reals),\n",
    "                                     domain=RealsNeg), domains=[Exp(Naturals,m),Exp(Naturals,n)])"
   ]
  },
  {
   "cell_type": "code",
   "execution_count": 13,
   "metadata": {},
   "outputs": [
    {
     "data": {
      "text/html": [
       "<strong id=\"addNegSelf\"><a class=\"ProveItLink\" href=\"_proofs_/addNegSelf.ipynb\">addNegSelf</a>:</strong> <a class=\"ProveItLink\" href=\"__pv_it/306f53a929e2944581e7ca1c329e678fb9f86e990/expr.ipynb\"><img src=\"__pv_it/306f53a929e2944581e7ca1c329e678fb9f86e990/expr.png\" style=\"display:inline;vertical-align:middle;\" /></a><br>"
      ],
      "text/plain": [
       "addNegSelf: forall_{x | x + (-x)} 0"
      ]
     },
     "execution_count": 13,
     "metadata": {},
     "output_type": "execute_result"
    }
   ],
   "source": [
    "addNegSelf = Forall(x, zero, conditions=[Subtract(x,x)])"
   ]
  },
  {
   "cell_type": "code",
   "execution_count": 14,
   "metadata": {},
   "outputs": [
    {
     "name": "stdout",
     "output_type": "stream",
     "text": [
      "Theorems may be imported from autogenerated _theorems_.py\n"
     ]
    }
   ],
   "source": [
    "%end theorems"
   ]
  },
  {
   "cell_type": "code",
   "execution_count": null,
   "metadata": {},
   "outputs": [],
   "source": []
  }
 ],
 "metadata": {
  "kernelspec": {
   "display_name": "Python 3",
   "language": "python",
   "name": "python3"
  },
  "language_info": {
   "codemirror_mode": {
    "name": "ipython",
    "version": 3
   },
   "file_extension": ".py",
   "mimetype": "text/x-python",
   "name": "python",
   "nbconvert_exporter": "python",
   "pygments_lexer": "ipython3",
   "version": "3.7.3"
  }
 },
 "nbformat": 4,
 "nbformat_minor": 1
}
