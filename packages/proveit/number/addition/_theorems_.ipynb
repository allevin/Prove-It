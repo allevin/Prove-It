{
 "cells": [
  {
   "cell_type": "markdown",
   "metadata": {
    "collapsed": true
   },
   "source": [
    "Theorems for context <a href=\"_context_.ipynb\" class=\"ProveItLink\">proveit.number.addition</a>\n",
    "========"
   ]
  },
  {
   "cell_type": "code",
   "execution_count": 1,
   "metadata": {},
   "outputs": [
    {
     "name": "stdout",
     "output_type": "stream",
     "text": [
      "derive Reversed (TRUE = FALSE) = FALSE\n",
      "derive Reversed FALSE = (TRUE = FALSE)\n",
      "self in equals sideEffects FALSE = (TRUE = FALSE)\n",
      "derive contradiction (TRUE = FALSE) = FALSE\n",
      "booelan equality TRUE = TRUE\n",
      "self in equals sideEffects TRUE = TRUE\n",
      "deriveFalsified Negation (TRUE = FALSE) = FALSE\n"
     ]
    }
   ],
   "source": [
    "import proveit\n",
    "from proveit import varIter, Iter, Indexed\n",
    "from proveit.logic import Forall, Equals\n",
    "from proveit.logic._common_ import iterA1m, iterC1n, iterB1n\n",
    "from proveit._common_ import a, b, c, d, e, f, g, h, i,j,k, l, m,n, x,y, AA, BB, CC, DD, EE,A, B, C, D, E\n",
    "from proveit.number import zero, one, two, three, Add, Complexes, Neg, Subtract, Mult, Naturals, Integers, Reals, NaturalsPos, Greater, Less, Exp, RealsPos, RealsNeg\n",
    "from proveit.logic.set_theory import InSet\n",
    "# the context is in the current directory:\n",
    "context = proveit.Context('.') # adds context root to sys.path if necessary"
   ]
  },
  {
   "cell_type": "code",
   "execution_count": 2,
   "metadata": {},
   "outputs": [
    {
     "name": "stdout",
     "output_type": "stream",
     "text": [
      "Defining theorems for context 'proveit.number.addition'\n",
      "Subsequent end-of-cell assignments will define theorems\n",
      "'%end theorems' will finalize the definitions\n"
     ]
    }
   ],
   "source": [
    "%begin theorems"
   ]
  },
  {
   "cell_type": "code",
   "execution_count": 3,
   "metadata": {},
   "outputs": [
    {
     "data": {
      "text/html": [
       "<strong id=\"addIntClosureBin\"><a class=\"ProveItLink\" href=\"_proofs_/addIntClosureBin.ipynb\">addIntClosureBin</a>:</strong> <a class=\"ProveItLink\" href=\"__pv_it/916c1ce9ce58f3a97af0d16bd29d95e83847df4c0/expr.ipynb\"><img src=\"__pv_it/916c1ce9ce58f3a97af0d16bd29d95e83847df4c0/expr.png\" style=\"display:inline;vertical-align:middle;\" /></a><br>"
      ],
      "text/plain": [
       "addIntClosureBin: forall_{a, b in Integers} ((a + b) in Integers)"
      ]
     },
     "execution_count": 3,
     "metadata": {},
     "output_type": "execute_result"
    }
   ],
   "source": [
    "addIntClosureBin = Forall((a, b), InSet(Add(a, b), Integers), domain=Integers)"
   ]
  },
  {
   "cell_type": "code",
   "execution_count": 4,
   "metadata": {},
   "outputs": [
    {
     "data": {
      "text/html": [
       "<strong id=\"addIntClosure\"><a class=\"ProveItLink\" href=\"_proofs_/addIntClosure.ipynb\">addIntClosure</a>:</strong> <a class=\"ProveItLink\" href=\"__pv_it/89810b3db39294eb6e300c70600a7be65e8fd26d0/expr.ipynb\"><img src=\"__pv_it/89810b3db39294eb6e300c70600a7be65e8fd26d0/expr.png\" style=\"display:inline;vertical-align:middle;\" /></a><br>"
      ],
      "text/plain": [
       "addIntClosure: forall_{m in Naturals} [forall_{A in Integers^{m}} ((A_1 +  ...  + A_m) in Integers)]"
      ]
     },
     "execution_count": 4,
     "metadata": {},
     "output_type": "execute_result"
    }
   ],
   "source": [
    "addIntClosure = Forall(m, Forall(AA, InSet(Add(iterA1m),Integers), domain = Exp(Integers,m)), domain=Naturals)"
   ]
  },
  {
   "cell_type": "code",
   "execution_count": 5,
   "metadata": {},
   "outputs": [
    {
     "data": {
      "text/html": [
       "<strong id=\"addNatClosureBin\"><a class=\"ProveItLink\" href=\"_proofs_/addNatClosureBin.ipynb\">addNatClosureBin</a>:</strong> <a class=\"ProveItLink\" href=\"__pv_it/5fe2d172b59f40d01ac7fbb9b51451f97c062d200/expr.ipynb\"><img src=\"__pv_it/5fe2d172b59f40d01ac7fbb9b51451f97c062d200/expr.png\" style=\"display:inline;vertical-align:middle;\" /></a><br>"
      ],
      "text/plain": [
       "addNatClosureBin: forall_{a, b in Naturals} ((a + b) in Naturals)"
      ]
     },
     "execution_count": 5,
     "metadata": {},
     "output_type": "execute_result"
    }
   ],
   "source": [
    "addNatClosureBin = Forall((a, b), InSet(Add(a, b), Naturals), domain=Naturals) "
   ]
  },
  {
   "cell_type": "code",
   "execution_count": 6,
   "metadata": {},
   "outputs": [
    {
     "data": {
      "text/html": [
       "<strong id=\"addNatClosure\"><a class=\"ProveItLink\" href=\"_proofs_/addNatClosure.ipynb\">addNatClosure</a>:</strong> <a class=\"ProveItLink\" href=\"__pv_it/f0a3e8671d69b5f18ff28e62b454b57733600c9c0/expr.ipynb\"><img src=\"__pv_it/f0a3e8671d69b5f18ff28e62b454b57733600c9c0/expr.png\" style=\"display:inline;vertical-align:middle;\" /></a><br>"
      ],
      "text/plain": [
       "addNatClosure: forall_{m in Naturals} [forall_{A in Naturals^{m}} ((A_1 +  ...  + A_m) in Naturals)]"
      ]
     },
     "execution_count": 6,
     "metadata": {},
     "output_type": "execute_result"
    }
   ],
   "source": [
    "addNatClosure = Forall(m,Forall(AA, InSet(Add(iterA1m), Naturals), domain=Exp(Naturals,m)), domain = Naturals)"
   ]
  },
  {
   "cell_type": "code",
   "execution_count": 7,
   "metadata": {},
   "outputs": [
    {
     "data": {
      "text/html": [
       "<strong id=\"addRealClosureBin\"><a class=\"ProveItLink\" href=\"_proofs_/addRealClosureBin.ipynb\">addRealClosureBin</a>:</strong> <a class=\"ProveItLink\" href=\"__pv_it/edd8375f60152339be03c8a8e5d2f154bb449b490/expr.ipynb\"><img src=\"__pv_it/edd8375f60152339be03c8a8e5d2f154bb449b490/expr.png\" style=\"display:inline;vertical-align:middle;\" /></a><br>"
      ],
      "text/plain": [
       "addRealClosureBin: forall_{a, b in Reals} ((a + b) in Reals)"
      ]
     },
     "execution_count": 7,
     "metadata": {},
     "output_type": "execute_result"
    }
   ],
   "source": [
    "addRealClosureBin = Forall((a, b), InSet(Add(a, b), Reals), domain=Reals)"
   ]
  },
  {
   "cell_type": "code",
   "execution_count": 8,
   "metadata": {},
   "outputs": [
    {
     "data": {
      "text/html": [
       "<strong id=\"addRealClosure\"><a class=\"ProveItLink\" href=\"_proofs_/addRealClosure.ipynb\">addRealClosure</a>:</strong> <a class=\"ProveItLink\" href=\"__pv_it/8b79c68b14c46a529b669bb2ff29da8ee3b89a670/expr.ipynb\"><img src=\"__pv_it/8b79c68b14c46a529b669bb2ff29da8ee3b89a670/expr.png\" style=\"display:inline;vertical-align:middle;\" /></a><br>"
      ],
      "text/plain": [
       "addRealClosure: forall_{m in Naturals} [forall_{A in Reals^{m}} ((A_1 +  ...  + A_m) in Reals)]"
      ]
     },
     "execution_count": 8,
     "metadata": {},
     "output_type": "execute_result"
    }
   ],
   "source": [
    "addRealClosure = Forall(m, Forall(AA, InSet(Add(iterA1m),Reals), domain=Exp(Reals,m)), domain = Naturals)"
   ]
  },
  {
   "cell_type": "code",
   "execution_count": 9,
   "metadata": {},
   "outputs": [
    {
     "data": {
      "text/html": [
       "<strong id=\"addComplexClosureBin\"><a class=\"ProveItLink\" href=\"_proofs_/addComplexClosureBin.ipynb\">addComplexClosureBin</a>:</strong> <a class=\"ProveItLink\" href=\"__pv_it/aac41e2c62f2f73921ba549384f8f67c14fe55af0/expr.ipynb\"><img src=\"__pv_it/aac41e2c62f2f73921ba549384f8f67c14fe55af0/expr.png\" style=\"display:inline;vertical-align:middle;\" /></a><br>"
      ],
      "text/plain": [
       "addComplexClosureBin: forall_{a, b in Complexes} ((a + b) in Complexes)"
      ]
     },
     "execution_count": 9,
     "metadata": {},
     "output_type": "execute_result"
    }
   ],
   "source": [
    "addComplexClosureBin = Forall((a, b), InSet(Add(a, b), Complexes), domain=Complexes)"
   ]
  },
  {
   "cell_type": "code",
   "execution_count": 10,
   "metadata": {},
   "outputs": [
    {
     "data": {
      "text/html": [
       "<strong id=\"addComplexClosure\"><a class=\"ProveItLink\" href=\"_proofs_/addComplexClosure.ipynb\">addComplexClosure</a>:</strong> <a class=\"ProveItLink\" href=\"__pv_it/e104e2df08fa6e35cbdd57622a5407b2767885d70/expr.ipynb\"><img src=\"__pv_it/e104e2df08fa6e35cbdd57622a5407b2767885d70/expr.png\" style=\"display:inline;vertical-align:middle;\" /></a><br>"
      ],
      "text/plain": [
       "addComplexClosure: forall_{m in Naturals} [forall_{A in Complexes^{m}} ((A_1 +  ...  + A_m) in Complexes)]"
      ]
     },
     "execution_count": 10,
     "metadata": {},
     "output_type": "execute_result"
    }
   ],
   "source": [
    "addComplexClosure = Forall(m, Forall(AA, InSet(Add(iterA1m),Complexes), domain = Exp(Complexes,m)), domain=Naturals)"
   ]
  },
  {
   "cell_type": "code",
   "execution_count": 11,
   "metadata": {},
   "outputs": [
    {
     "data": {
      "text/html": [
       "<strong id=\"addNatPosClosure\"><a class=\"ProveItLink\" href=\"_proofs_/addNatPosClosure.ipynb\">addNatPosClosure</a>:</strong> <a class=\"ProveItLink\" href=\"__pv_it/d2fec741d6065b5f9d101968e280dab76686ad470/expr.ipynb\"><img src=\"__pv_it/d2fec741d6065b5f9d101968e280dab76686ad470/expr.png\" style=\"display:inline;vertical-align:middle;\" /></a><br>"
      ],
      "text/plain": [
       "addNatPosClosure: forall_{m, n in Naturals} [forall_{(A, B, C) in Naturals^{m} * Naturals * Naturals^{n} | B > 0} ((A_1 +  ...  + A_m + B + C_1 +  ...  + C_n) in NaturalsPos)]"
      ]
     },
     "execution_count": 11,
     "metadata": {},
     "output_type": "execute_result"
    }
   ],
   "source": [
    "addNatPosClosure = Forall( (m, n), Forall((AA, B, CC), InSet(Add(iterA1m, B, iterC1n), NaturalsPos), domains=[Exp(Naturals,m),Naturals, Exp(Naturals,n)], conditions=[Greater(B, zero)]), domain=Naturals)"
   ]
  },
  {
   "cell_type": "code",
   "execution_count": 12,
   "metadata": {},
   "outputs": [
    {
     "data": {
      "text/html": [
       "<strong id=\"addZero\"><a class=\"ProveItLink\" href=\"_proofs_/addZero.ipynb\">addZero</a>:</strong> <a class=\"ProveItLink\" href=\"__pv_it/f6ad0d70c2f879e32e39aaf4486d693830682bf00/expr.ipynb\"><img src=\"__pv_it/f6ad0d70c2f879e32e39aaf4486d693830682bf00/expr.png\" style=\"display:inline;vertical-align:middle;\" /></a><br>"
      ],
      "text/plain": [
       "addZero: forall_{x in Complexes} ((0 + x) = x)"
      ]
     },
     "execution_count": 12,
     "metadata": {},
     "output_type": "execute_result"
    }
   ],
   "source": [
    "addZero = Forall(x, Equals(Add(zero, x), x), domain=Complexes)"
   ]
  },
  {
   "cell_type": "code",
   "execution_count": 13,
   "metadata": {},
   "outputs": [
    {
     "data": {
      "text/html": [
       "<strong id=\"swap\"><a class=\"ProveItLink\" href=\"_proofs_/swap.ipynb\">swap</a>:</strong> <a class=\"ProveItLink\" href=\"__pv_it/b6f6de71b414e4f060ea584bef1a0f61af02af640/expr.ipynb\"><img src=\"__pv_it/b6f6de71b414e4f060ea584bef1a0f61af02af640/expr.png\" style=\"display:inline;vertical-align:middle;\" /></a><br>"
      ],
      "text/plain": [
       "swap: forall_{l, m, n in Naturals} [forall_{(A, B, C, D, E) in Reals^{l} * Reals * Reals^{m} * Reals * Reals^{n}} ((A_1 +  ...  + A_l + B + C_1 +  ...  + C_m + D + E_1 +  ...  + E_n) = (A_1 +  ...  + A_l + D + C_1 +  ...  + C_m + B + E_1 +  ...  + E_n))]"
      ]
     },
     "execution_count": 13,
     "metadata": {},
     "output_type": "execute_result"
    }
   ],
   "source": [
    "swap = Forall((l,m, n),Forall((AA,B,CC,D,EE), Equals(Add(varIter(AA, one, l), B, varIter(CC, one, m), D, varIter(EE, one, n)), Add(varIter(AA, one, l), D, varIter(CC, one, m), B, varIter(EE, one, n))), domains = [Exp(Reals, l), Reals, Exp(Reals,m), Reals, Exp(Reals, n)]), domain = Naturals)"
   ]
  },
  {
   "cell_type": "code",
   "execution_count": 14,
   "metadata": {},
   "outputs": [
    {
     "data": {
      "text/html": [
       "<strong id=\"group\"><a class=\"ProveItLink\" href=\"_proofs_/group.ipynb\">group</a>:</strong> <a class=\"ProveItLink\" href=\"__pv_it/dba8e6efb5ab06f8e64f9e821fa20b6d15547b010/expr.ipynb\"><img src=\"__pv_it/dba8e6efb5ab06f8e64f9e821fa20b6d15547b010/expr.png\" style=\"display:inline;vertical-align:middle;\" /></a><br>"
      ],
      "text/plain": [
       "group: forall_{l, m, n in Naturals} [forall_{(A, B, C) in Reals^{l} * Reals^{m} * Reals^{n}} ((A_1 +  ...  + A_l + B_1 +  ...  + B_m + C_1 +  ...  + C_n) = (A_1 +  ...  + A_l + (B_1 +  ...  + B_m) + C_1 +  ...  + C_n))]"
      ]
     },
     "execution_count": 14,
     "metadata": {},
     "output_type": "execute_result"
    }
   ],
   "source": [
    "group = Forall((l,m,n), Forall((AA,BB,CC),Equals(Add(Iter(i, Indexed(AA,i), one, l), Iter(j,Indexed(BB,j),one,m), Iter(k, Indexed(CC,k),one,n)),Add(Iter(i, Indexed(AA,i), one, l), Add(Iter(j,Indexed(BB,j),one,m)), Iter(k, Indexed(CC,k),one,n))), domains = [Exp(Reals,l), Exp(Reals,m), Exp(Reals,n)]),domain = Naturals)"
   ]
  },
  {
   "cell_type": "code",
   "execution_count": 15,
   "metadata": {},
   "outputs": [
    {
     "data": {
      "text/html": [
       "<strong id=\"unGroup\"><a class=\"ProveItLink\" href=\"_proofs_/unGroup.ipynb\">unGroup</a>:</strong> <a class=\"ProveItLink\" href=\"__pv_it/7b92d7b152b4a164d03e787390ecda5811e51df30/expr.ipynb\"><img src=\"__pv_it/7b92d7b152b4a164d03e787390ecda5811e51df30/expr.png\" style=\"display:inline;vertical-align:middle;\" /></a><br>"
      ],
      "text/plain": [
       "unGroup: forall_{l, m, n in Naturals} [forall_{(A, B, C) in Reals^{l} * Reals^{m} * Reals^{n}} ((A_1 +  ...  + A_l + (B_1 +  ...  + B_m) + C_1 +  ...  + C_n) = (A_1 +  ...  + A_l + B_1 +  ...  + B_m + C_1 +  ...  + C_n))]"
      ]
     },
     "execution_count": 15,
     "metadata": {},
     "output_type": "execute_result"
    }
   ],
   "source": [
    "unGroup = Forall((l,m,n), Forall([AA,BB,CC],\n",
    "                  Equals(\n",
    "                        Add(\n",
    "                                varIter(AA, one, l),Add(varIter(BB, one, m)), iterC1n),\n",
    "                        Add(\n",
    "                                varIter(AA, one, l), varIter(BB, one, m), iterC1n)\n",
    "                        ),\n",
    "                  domains = [Exp(Reals, l), Exp(Reals,m), Exp(Reals,n)] ),\n",
    "                domain = Naturals)"
   ]
  },
  {
   "cell_type": "code",
   "execution_count": 16,
   "metadata": {},
   "outputs": [
    {
     "data": {
      "text/html": [
       "<strong id=\"strictlyIncreasingAdditions\"><a class=\"ProveItLink\" href=\"_proofs_/strictlyIncreasingAdditions.ipynb\">strictlyIncreasingAdditions</a>:</strong> <a class=\"ProveItLink\" href=\"__pv_it/c873a2ba32f613adf41b3edc063a0e7ccc6b888b0/expr.ipynb\"><img src=\"__pv_it/c873a2ba32f613adf41b3edc063a0e7ccc6b888b0/expr.png\" style=\"display:inline;vertical-align:middle;\" /></a><br>"
      ],
      "text/plain": [
       "strictlyIncreasingAdditions: forall_{m, n in Naturals} [forall_{(A, C) in (RealsPos)^{m} * (RealsPos)^{n}} [forall_{B in Reals} ((A_1 +  ...  + A_m + B + C_1 +  ...  + C_n) > B)]]"
      ]
     },
     "execution_count": 16,
     "metadata": {},
     "output_type": "execute_result"
    }
   ],
   "source": [
    "strictlyIncreasingAdditions = Forall((m,n), Forall((AA, CC), Forall(B, Greater(Add(iterA1m, B, iterC1n), B),\n",
    "                                                          domain=Reals),domains=[Exp(RealsPos,m), Exp(RealsPos,n)]) , domain = Naturals)"
   ]
  },
  {
   "cell_type": "code",
   "execution_count": 17,
   "metadata": {},
   "outputs": [
    {
     "data": {
      "text/html": [
       "<strong id=\"strictlyDecreasingAdditions\"><a class=\"ProveItLink\" href=\"_proofs_/strictlyDecreasingAdditions.ipynb\">strictlyDecreasingAdditions</a>:</strong> <a class=\"ProveItLink\" href=\"__pv_it/33353aa5b3e49a86f76ea2abc86e7038c66ff99c0/expr.ipynb\"><img src=\"__pv_it/33353aa5b3e49a86f76ea2abc86e7038c66ff99c0/expr.png\" style=\"display:inline;vertical-align:middle;\" /></a><br>"
      ],
      "text/plain": [
       "strictlyDecreasingAdditions: forall_{m, n in Naturals} [forall_{(A, C) in (RealsNeg)^{m} * (RealsNeg)^{n}} [forall_{B in Reals} ((A_1 +  ...  + A_m + B + C_1 +  ...  + C_n) < B)]]"
      ]
     },
     "execution_count": 17,
     "metadata": {},
     "output_type": "execute_result"
    }
   ],
   "source": [
    "strictlyDecreasingAdditions = Forall((m,n),Forall((AA, CC), Forall(B, Less(Add(iterA1m, B, iterC1n), B),\n",
    "                                                          domain=Reals),\n",
    "                                     domains=[Exp(RealsNeg,m),Exp(RealsNeg, n)]), domain= Naturals)"
   ]
  },
  {
   "cell_type": "code",
   "execution_count": 18,
   "metadata": {},
   "outputs": [
    {
     "data": {
      "text/html": [
       "<strong id=\"addNegSelf\"><a class=\"ProveItLink\" href=\"_proofs_/addNegSelf.ipynb\">addNegSelf</a>:</strong> <a class=\"ProveItLink\" href=\"__pv_it/306f53a929e2944581e7ca1c329e678fb9f86e990/expr.ipynb\"><img src=\"__pv_it/306f53a929e2944581e7ca1c329e678fb9f86e990/expr.png\" style=\"display:inline;vertical-align:middle;\" /></a><br>"
      ],
      "text/plain": [
       "addNegSelf: forall_{x | x + (-x)} 0"
      ]
     },
     "execution_count": 18,
     "metadata": {},
     "output_type": "execute_result"
    }
   ],
   "source": [
    "addNegSelf = Forall(x, zero, conditions=[Subtract(x,x)])"
   ]
  },
  {
   "cell_type": "code",
   "execution_count": 19,
   "metadata": {},
   "outputs": [
    {
     "data": {
      "text/html": [
       "<strong id=\"expandedAddNegSelf\"><a class=\"ProveItLink\" href=\"_proofs_/expandedAddNegSelf.ipynb\">expandedAddNegSelf</a>:</strong> <a class=\"ProveItLink\" href=\"__pv_it/17e21d8960912e24074f9626473b0c1c3f31cc560/expr.ipynb\"><img src=\"__pv_it/17e21d8960912e24074f9626473b0c1c3f31cc560/expr.png\" style=\"display:inline;vertical-align:middle;\" /></a><br>"
      ],
      "text/plain": [
       "expandedAddNegSelf: forall_{m, n in Naturals} [forall_{(A, x, y, B) in Reals^{m} * Reals * Reals * Reals^{n} | y = x} ((A_1 +  ...  + A_m + y + (-x) + B_1 +  ...  + B_n) = (A_1 +  ...  + A_m + B_1 +  ...  + B_n))]"
      ]
     },
     "execution_count": 19,
     "metadata": {},
     "output_type": "execute_result"
    }
   ],
   "source": [
    "expandedAddNegSelf = Forall((m,n), Forall((AA,x,y,BB), Equals(Add(iterA1m, y,Neg(x), iterB1n),Add(iterA1m, iterB1n)), conditions=[Equals(y,x)],domains=[Exp(Reals,m), Reals, Reals, Exp(Reals,n)]), domain=Naturals)"
   ]
  },
  {
   "cell_type": "code",
   "execution_count": 20,
   "metadata": {},
   "outputs": [
    {
     "data": {
      "text/html": [
       "<strong id=\"expandedMultDef\"><a class=\"ProveItLink\" href=\"_proofs_/expandedMultDef.ipynb\">expandedMultDef</a>:</strong> <a class=\"ProveItLink\" href=\"__pv_it/af4ffca5de8636a84d68cde3cbc4118bc57853890/expr.ipynb\"><img src=\"__pv_it/af4ffca5de8636a84d68cde3cbc4118bc57853890/expr.png\" style=\"display:inline;vertical-align:middle;\" /></a><br>"
      ],
      "text/plain": [
       "expandedMultDef: forall_{l, m, n in Naturals} [forall_{(A, B, C, x) in Reals^{l} * Reals^{m} * Reals^{n} * Reals | B_1 = x ,  ...  , B_m = x} ((A_1 +  ...  + A_l + B_1 +  ...  + B_m + C_1 +  ...  + C_n) = (A_1 +  ...  + A_l + (m * x) + C_1 +  ...  + C_n))]"
      ]
     },
     "execution_count": 20,
     "metadata": {},
     "output_type": "execute_result"
    }
   ],
   "source": [
    "expandedMultDef = Forall((l,m,n), Forall((AA,BB,CC,x), Equals(Add(varIter(AA, one, l), varIter(BB, one,m), iterC1n),Add(varIter(AA,one, l),Mult(m, x), iterC1n)), conditions=[Iter(i, Equals(Indexed(BB,i), x), one, m)], domains = [Exp(Reals,l),Exp(Reals,m),Exp(Reals,n),Reals]), domain = Naturals)"
   ]
  },
  {
   "cell_type": "code",
   "execution_count": 21,
   "metadata": {},
   "outputs": [
    {
     "name": "stdout",
     "output_type": "stream",
     "text": [
      "Theorems may be imported from autogenerated _theorems_.py\n"
     ]
    }
   ],
   "source": [
    "%end theorems"
   ]
  },
  {
   "cell_type": "code",
   "execution_count": null,
   "metadata": {},
   "outputs": [],
   "source": []
  }
 ],
 "metadata": {
  "kernelspec": {
   "display_name": "Python 3",
   "language": "python",
   "name": "python3"
  },
  "language_info": {
   "codemirror_mode": {
    "name": "ipython",
    "version": 3
   },
   "file_extension": ".py",
   "mimetype": "text/x-python",
   "name": "python",
   "nbconvert_exporter": "python",
   "pygments_lexer": "ipython3",
   "version": "3.7.3"
  }
 },
 "nbformat": 4,
 "nbformat_minor": 1
}
