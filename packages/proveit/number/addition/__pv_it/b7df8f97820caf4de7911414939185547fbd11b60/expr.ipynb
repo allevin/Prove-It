{
 "cells": [
  {
   "cell_type": "markdown",
   "metadata": {},
   "source": [
    "Expression of type <a class=\"ProveItLink\" href=\"../../../../../../doc/html/api/proveit.logic.Equals.html\">Equals</a>\n",
    "=======================\n",
    "# from context <a class=\"ProveItLink\" href=\"../../_context_.ipynb\">proveit.number.addition</a>"
   ]
  },
  {
   "cell_type": "code",
   "execution_count": 1,
   "metadata": {},
   "outputs": [],
   "source": [
    "# import Expression classes needed to build the expression\n",
    "from proveit._common_ import a, b, c\n",
    "from proveit.logic import Equals\n",
    "from proveit.number import Add"
   ]
  },
  {
   "cell_type": "code",
   "execution_count": 2,
   "metadata": {},
   "outputs": [
    {
     "data": {
      "text/html": [
       "<strong id=\"expr\">expr:</strong> <a class=\"ProveItLink\" href=\"expr.ipynb\"><img src=\"data:image/png;base64,iVBORw0KGgoAAAANSUhEUgAAAwwAAAAVBAMAAAAZYHSGAAAAMFBMVEX////c3NwiIiJERESqqqqY\n",
       "mJh2dnZmZmYQEBDu7u4yMjJUVFTMzMyIiIi6uroAAAAs73DqAAAAAXRSTlMAQObYZgAAA1JJREFU\n",
       "aN7tmTFoU0EYx/9t06QvtUn2DhaXuggddBSLoyjN7FQ66GIlIHaoglbEQbDERYodWgoOpiAVFEUo\n",
       "DbgIDs2kiKYUpyJKC02RQhUvL+/u3nffu9pG4/nEG0r49fh/3y/37uXyAvwff8XIVGLZdufqv6Xy\n",
       "upUVpm8YwHve9+sh/rjKkWOVZtyUysOWrvS8CdILvyHED+LItUozboFKD9nId9kUL9cMUUE1E2QH\n",
       "baVYigK1qBmdw2aAcxUF7CqwqHQVw/89w5pIVJohMiizbSavF22lWIoEKoTM8K6bAc5VFLCqRAOh\n",
       "8gmt7D3ZZyaPYN/LoELojKNmgHOVETS3DEJlTPxtW7w4QQM1kfM5Qe+btZyFyKD04vs8TZ6vPqXA\n",
       "O1ctkxQGVIiqc2/0A3DefL+cqyhgVWl0HqHyQLxcy3Vs0EBN5HxOMhM4YSMyaGYAOwR4m8iWSalX\n",
       "q+k+ksKACpHgwCTmgFP1l6mSP/zPRtcqGlhVGp1HqEyKq2MLqQFSIUSC+ZzgYB6XbEQGDRVxi4DE\n",
       "NrqGSe930EGudQZ0iARTFRwT76a5G1yraGBVaXQeofId6N5Ae4VUCJFgPidYAo7YiAwaB74SkJpF\n",
       "tmCUglnJuH+qkFAdMZbNZXCtooFVZSkaLNd7zw5gpr6Zxkulw6VS/Xgsidjyc7f9Lc8JNuHtRJJQ\n",
       "UD8yWwS0F7CeN0rBrERBEELq2JbBqUoAdlPZjAbLuCk2YAVDKIbXNUSCZeOk7RsSG56FyKAaUtsE\n",
       "iKP1NbMUvUAY0CG6jn+L940O+cP3da2igU0l6DxCRdyZZgbxIkE+bEIkmM+JV0P37GkLkUE78m6p\n",
       "Wi0bd9isuH7I/ZMBHSKBuCo7gbPmbnCuooBVpdF5hIo49qXzif4kPZxpEsznRBxMThaGLUQGPcEV\n",
       "eoftHkwtUFBAkrwnDOgQCZ4BFyIOrM5VFLCqNDqPUPlYP0evvFyhxwtN5O5hBL3Vz8dXLUQGTb/N\n",
       "0969xcvGd56x6juay4AKkSA1WhWb/5G5DK5VNLCqNDqPUOnKtfKr537A/p8AmA8zYqxCn5B92cMz\n",
       "/L0QHvRzwFJ2B0lWNNYqrX063Lpx/08/6G6tSm9Me3/MUZxV2uL5y2FPmbP4qvwAzKp0x+AqrxwA\n",
       "AAAASUVORK5CYII=\n",
       "\" style=\"display:inline;vertical-align:middle;\" /></a><br>"
      ],
      "text/plain": [
       "expr: (a + a + a + a + a + b + b + c + c + b + c) = (a + a + a + a + a + b + b + b + c + c + c)"
      ]
     },
     "execution_count": 2,
     "metadata": {},
     "output_type": "execute_result"
    }
   ],
   "source": [
    "# build up the expression from sub-expressions\n",
    "expr = Equals(Add(a, a, a, a, a, b, b, c, c, b, c), Add(a, a, a, a, a, b, b, b, c, c, c))"
   ]
  },
  {
   "cell_type": "code",
   "execution_count": 3,
   "metadata": {},
   "outputs": [
    {
     "name": "stdout",
     "output_type": "stream",
     "text": [
      "Passed sanity check: built 'expr' is the same as the stored Expression.\n"
     ]
    }
   ],
   "source": [
    "# check that the built expression is the same as the stored expression\n",
    "%check_expr"
   ]
  },
  {
   "cell_type": "code",
   "execution_count": 4,
   "metadata": {},
   "outputs": [
    {
     "data": {
      "text/html": [
       "<table><tr><th>&nbsp;</th><th>core type</th><th>sub-expressions</th><th>expression</th></tr>\n",
       "<tr><td>0</td><td>Operation</td><td>operator:&nbsp;1<br>operands:&nbsp;2<br></td><td><a class=\"ProveItLink\" href=\"expr.ipynb\"><img src=\"data:image/png;base64,iVBORw0KGgoAAAANSUhEUgAAAwwAAAAVBAMAAAAZYHSGAAAAMFBMVEX////c3NwiIiJERESqqqqY\n",
       "mJh2dnZmZmYQEBDu7u4yMjJUVFTMzMyIiIi6uroAAAAs73DqAAAAAXRSTlMAQObYZgAAA1JJREFU\n",
       "aN7tmTFoU0EYx/9t06QvtUn2DhaXuggddBSLoyjN7FQ66GIlIHaoglbEQbDERYodWgoOpiAVFEUo\n",
       "DbgIDs2kiKYUpyJKC02RQhUvL+/u3nffu9pG4/nEG0r49fh/3y/37uXyAvwff8XIVGLZdufqv6Xy\n",
       "upUVpm8YwHve9+sh/rjKkWOVZtyUysOWrvS8CdILvyHED+LItUozboFKD9nId9kUL9cMUUE1E2QH\n",
       "baVYigK1qBmdw2aAcxUF7CqwqHQVw/89w5pIVJohMiizbSavF22lWIoEKoTM8K6bAc5VFLCqRAOh\n",
       "8gmt7D3ZZyaPYN/LoELojKNmgHOVETS3DEJlTPxtW7w4QQM1kfM5Qe+btZyFyKD04vs8TZ6vPqXA\n",
       "O1ctkxQGVIiqc2/0A3DefL+cqyhgVWl0HqHyQLxcy3Vs0EBN5HxOMhM4YSMyaGYAOwR4m8iWSalX\n",
       "q+k+ksKACpHgwCTmgFP1l6mSP/zPRtcqGlhVGp1HqEyKq2MLqQFSIUSC+ZzgYB6XbEQGDRVxi4DE\n",
       "NrqGSe930EGudQZ0iARTFRwT76a5G1yraGBVaXQeofId6N5Ae4VUCJFgPidYAo7YiAwaB74SkJpF\n",
       "tmCUglnJuH+qkFAdMZbNZXCtooFVZSkaLNd7zw5gpr6Zxkulw6VS/Xgsidjyc7f9Lc8JNuHtRJJQ\n",
       "UD8yWwS0F7CeN0rBrERBEELq2JbBqUoAdlPZjAbLuCk2YAVDKIbXNUSCZeOk7RsSG56FyKAaUtsE\n",
       "iKP1NbMUvUAY0CG6jn+L940O+cP3da2igU0l6DxCRdyZZgbxIkE+bEIkmM+JV0P37GkLkUE78m6p\n",
       "Wi0bd9isuH7I/ZMBHSKBuCo7gbPmbnCuooBVpdF5hIo49qXzif4kPZxpEsznRBxMThaGLUQGPcEV\n",
       "eoftHkwtUFBAkrwnDOgQCZ4BFyIOrM5VFLCqNDqPUPlYP0evvFyhxwtN5O5hBL3Vz8dXLUQGTb/N\n",
       "0969xcvGd56x6juay4AKkSA1WhWb/5G5DK5VNLCqNDqPUOnKtfKr537A/p8AmA8zYqxCn5B92cMz\n",
       "/L0QHvRzwFJ2B0lWNNYqrX063Lpx/08/6G6tSm9Me3/MUZxV2uL5y2FPmbP4qvwAzKp0x+AqrxwA\n",
       "AAAASUVORK5CYII=\n",
       "\" style=\"display:inline;vertical-align:middle;\" /></a></td></tr>\n",
       "<tr><td>1</td><td>Literal</td><td></td><td><a class=\"ProveItLink\" href=\"../../../../logic/equality/__pv_it/2fb26078095930560931daa0500ce419a39ea6cd0/expr.ipynb\"><img src=\"data:image/png;base64,iVBORw0KGgoAAAANSUhEUgAAAA4AAAAFBAMAAACHocAhAAAAFVBMVEX///9EREQiIiJUVFQyMjJm\n",
       "ZmYAAADubVkoAAAAAXRSTlMAQObYZgAAABRJREFUCNdjCHEBAWcGXCBICQQUAUpuAwlgGKrkAAAA\n",
       "AElFTkSuQmCC\n",
       "\" style=\"display:inline;vertical-align:middle;\" /></a></td></tr>\n",
       "<tr><td>2</td><td>ExprTuple</td><td>3, 4</td><td><a class=\"ProveItLink\" href=\"../8f73fb0f6f4737dd71e9b9f0f0ab8a0bcc3a0ab30/expr.ipynb\"><img src=\"data:image/png;base64,iVBORw0KGgoAAAANSUhEUgAAAukAAAAVBAMAAAAJJW1zAAAAMFBMVEX////c3NwiIiJERESqqqqY\n",
       "mJh2dnZmZmYQEBDu7u4yMjJUVFTMzMyIiIi6uroAAAAs73DqAAAAAXRSTlMAQObYZgAAA5VJREFU\n",
       "WMPtmTFoE1EYx7+2Sa6X1iR7B7vVRejiKAZnSzM5SnHQxUpA7FAHrYiDYI2LFDo0FBy8Lh0URSgW\n",
       "XASXTIrYlOJURGmwKVKo4ju4d3ff/e97ubZeSqFvSMuvL///+70kL5eG6GQcxSg0Tvagq+OKe/Mx\n",
       "zYb5+xFgvxk+fEg3BpR2BgmHtapuXqS6+KUoyC//h5BujKX9g4SjTnSKHTBPYYpdOgjxg9pRUCxL\n",
       "VZDig7bcY1h5EmJwaUtAdpOLWM9lov5a+K9jsK5M4yBEBxV2o8lbNakKUjTwQzKGt6CxAxHZBUpB\n",
       "Bd3kItYzR/Sd0tz13HA0+Srte9f9kG7uOpSCCrol3PW+Mk2pHz0rN2f49IDo+Uho6NNmSSA6KL/y\n",
       "tcKTl5qvOLCvNVdZCgA/xO95NrkmFBpdZDt0gVJQQTd/5Wa3XJWeq983S30tfv+A6PlICjN0QSI6\n",
       "aGGU9hiwt6nIV/ZhIz/MUgD4IRoMztKiUGh0ke3QBUpBBUCwcrNbpk6z6qHfIWuU3T9EvPlI6HSF\n",
       "bklEB43X6CEDmV3qn2APw2PqY08qAEGIBnMNOicUGl1EuxgXKAUVAMHKzW6Fe/SXaKBFvQ12/xDx\n",
       "5iOhd0RnJaKDpol+M2DVqViNVFG0KXIY+iGhHqnQ6CLaxbhAKagACFZudhtsubteHKUF91U/7Thn\n",
       "HMe9CtXEcpzFR46zHEdom+y9WBIKGqHCDgO9VdqqRKoo2sSBF8J6vIGFsovJLsYFSkEFgLfyjm5q\n",
       "1x+ol1eDxqkWfpBCxHuUkPT8oUzLFogOapO1y4C6XL8breLPBwBBSNBDUqHRRbRDFyhFFQDBys1u\n",
       "6oRRB+RCmd5m2FtciHjzkdhtGqhfEogO2tOnuL/rq5HDsKie+ezsAxCEaKCeYll322IKjS6iHbpg\n",
       "Kaigm79ys1u2TtfVJVAlM5LjF0UB8eYjUVc/F6sTAtFBL+lO5KgrW8scVCnHdgBAEKLBa6Ib9q/Y\n",
       "QqOLaBfjAqWggm7+ys1u6srxm3v5uv5+nb/LB0S/BoHQUPPH+Q2B6KD5zxW+MnvlduRSb6r5hecC\n",
       "8EM0sCabNftJKa7Q6CLaxbhAKagACFZudstvUH8pzc+m+wHiZ9N4UCil+tnUMOWwbnPqgJwI//Vn\n",
       "gn+/JyEY1BlAihlkO8QlIglccMph3SZT/09veiN7XL/VsOvukXZMF39svwIbcI/GnpNv8Lo71oj+\n",
       "AeRKT/AFnENEAAAAAElFTkSuQmCC\n",
       "\" style=\"display:inline;vertical-align:middle;\" /></a></td></tr>\n",
       "<tr><td>3</td><td>Operation</td><td>operator:&nbsp;6<br>operands:&nbsp;5<br></td><td><a class=\"ProveItLink\" href=\"../5312e445a56bbed44a74837ca6bab74c7688d6860/expr.ipynb\"><img src=\"data:image/png;base64,iVBORw0KGgoAAAANSUhEUgAAAWoAAAAQBAMAAADNOCjDAAAAMFBMVEX///8yMjKqqqrMzMzu7u4i\n",
       "IiJmZmaYmJhEREQQEBC6urp2dnaIiIhUVFTc3NwAAAD87Fq/AAAAAXRSTlMAQObYZgAAAidJREFU\n",
       "SMe11b9LG2Ecx/FPzvOqCSbeIE6BgHQTzNhuWUuJZhIKDnFSEPH+hGxdCsXBpS0idBIKCsXFOhy0\n",
       "dLBXiA6KEDD/gBiSoA4demnv+9zzfX4Mjc2NL568v8/9yB0wuqO6o4B7VXt8ZORHUYVM8z9ElGNR\n",
       "E7c9jIhQV4VCyTZq0Zrt2uf8OeY1ccJhhELZvlo+qNhGzduyImKYM5Jd52pq+Qj/vGsR4XPyreNd\n",
       "/stUaKUuuPmx37YIhTKtnwEvF6NLDu6XqGwGyoqImPPy5Cuw357o8FQqtFKX7C7e2oRCSw30GLgP\n",
       "KPBNPt/L1MxAWREhGHuHGeTv4TVYW5JkpS64DbBuEwotVPCegdPH5CE7jQ+YCMxAWREheBHiNaY6\n",
       "GA9ZW5JkpS64BlZsQqFV4I6BN41CXRkFmIGyIiLNiV9GDSwN7tqq77/y/aIknu/PbPt+0yR4gNsz\n",
       "ihRaRvaewXgdB4EyCjCAlP0bYXMGNzbEAiry+UqSnJ8u+V9wOq5FKNSF12cQv6631FH8WqdAl1ZE\n",
       "0jmDp72EM4f9RSRJVuridjE1PWcRCvXoKRa7LisPeiG+8oEZaNciQhBf+SfIBM5yjr+wUklW6oJZ\n",
       "PK0fWoRC59hUntqS1+RQR65sBsqKCMEF8Dl+FZ8+O+XvkFTormiCm+jjmz2LUKj6PeC7dltrykdl\n",
       "I/pmAcqKCIF3ElVG+W18FGhZ2xf9kybZcBjRQ0OAlpXhN9bQ9AzNxNcDAAAAAElFTkSuQmCC\n",
       "\" style=\"display:inline;vertical-align:middle;\" /></a></td></tr>\n",
       "<tr><td>4</td><td>Operation</td><td>operator:&nbsp;6<br>operands:&nbsp;7<br></td><td><a class=\"ProveItLink\" href=\"../9b7389976c8a2aad4900889e2b40eabbdc77c8e00/expr.ipynb\"><img src=\"data:image/png;base64,iVBORw0KGgoAAAANSUhEUgAAAWoAAAAQBAMAAADNOCjDAAAAMFBMVEX///8yMjKqqqrMzMzu7u4i\n",
       "IiJmZmaYmJhEREQQEBC6urp2dnaIiIhUVFTc3NwAAAD87Fq/AAAAAXRSTlMAQObYZgAAAhJJREFU\n",
       "SMfN1bFLG1EcB/Bvrs9TE5J4gzgFAsWtYMZ2u7UUNZNQ6BAnBSm9PyGbS6F06NIWEZyEgkLpUh0O\n",
       "FAd7hbSDpRBo/gExJKFmcPCi95L3e7+8O5sS8I0ffvf9vXvv3TtgfGPxnQbidzkB7sMo6JCqJcG/\n",
       "jyUmojGK9INaOuSLSWCOHdLnZjxiYvmjiAxKd/TkPTcJzLFD+oxl1pmynvwlEe4661z96xZ9ciCy\n",
       "kgvOv+02DCKDUvXvHk0uBL8SQBwEJRLLAM8Oj4DdxlSTPjkQWcklvYU3JpFBy1W0CYgu8qVYwJPt\n",
       "VJnEMnjwHrPIXcKukmxFokouuPCwbhIZtODiAwGrg+n9WBAfMeWpsQzw1Mcmsk1M+CRbkaiSC/4A\n",
       "L0wig1aBvwTsGeQrsZBtaseYQa9PePdUsdzbpFXHee44BUVsx5l96zi1YYIuRHuoKEErSF8SmKhg\n",
       "z4uF/O2WktbQ+/Q21scCXPV9FYnej0vuClZTGEQGtWB3CIS38ys3Fi58bWkZhH16n0wRPyzyRSgS\n",
       "VXIRLWRnHhpEBrXloe1PsqQddA7hypNjzADh9k0i5VkrGXphDSSq5II5zFf2DSKDfuIlPejZol1L\n",
       "gAoyZHkY4Az4HF7Fp49P6R0yELkrTHAe7LzeNogMWjzx6KxFfS0BsBEc00YM7MPAHee/8b/gzn/0\n",
       "T0zS/ijCg0YAFqvCNQdw8VobmEZtAAAAAElFTkSuQmCC\n",
       "\" style=\"display:inline;vertical-align:middle;\" /></a></td></tr>\n",
       "<tr><td>5</td><td>ExprTuple</td><td>8, 8, 8, 8, 8, 9, 9, 10, 10, 9, 10</td><td><a class=\"ProveItLink\" href=\"../6a0057c0bb560e3974fc2eeddf16dd37cda3893d0/expr.ipynb\"><img src=\"data:image/png;base64,iVBORw0KGgoAAAANSUhEUgAAANUAAAAVBAMAAAAjhrYEAAAAMFBMVEX////c3NwiIiJERESqqqqY\n",
       "mJh2dnZmZmYQEBDu7u4yMjJUVFTMzMyIiIi6uroAAAAs73DqAAAAAXRSTlMAQObYZgAAAgBJREFU\n",
       "SMe9lj9I41Acx7+1adPX2Ca7g906CV1uFIuzYKYbj+KgkxKQc9DB8xA3taPg0CwO4uLgwXFQLuBy\n",
       "cEsnj0Mr9aYigvVPOQpVfM8mfXl9akPA/obk8/uF9/vl/f68BBikpCsDCfOJXX6HWbn7tRdkId8z\n",
       "Pk116GU/1GseSCBL8tCv2UAqXArvJZBFz/u1j0CiGKrIrV54Qa4F1zvAZahtxTO98ILMCFo0jyV6\n",
       "i5QX1lzLyEndCEDJ8qkpAshs1RHhoPrN9yhuYY9y3Yg23JSsYSIIlXJoi4BftWRGAHIH3eEWxcYW\n",
       "3VYTaq6zYNTEYhCaLmJDBLKJqCmA0kKiwC3pL3gEtAaG3G78CYwFoWXgvwiamxkOqg3d4pbhBoul\n",
       "51DqbBZ3IO0glEW6KYKe8zrdgyEL1ya30FjrNDUVTOO5PyMPUBqkP9GpUlsijHpz2gU6XqtFbqE5\n",
       "/EDrm8cPxWFOyD00e4rFfZtoP9BSCKDTLZhEAIeWsmtBzMYc7VtTycZRYs2zh0mrQG770hFWIIJm\n",
       "Ie4wHxzy6iG6Ftbz/9h4nR+fY+eGDVD1arxGto1+tPvHhAhYqv7t+PCAlD+DW5CsIWF4g33BTyAj\n",
       "EMnAfchAz6hYwVPMbqxYMJKB+5Bh3v9Ned9YxGYlcpUUPyYrwUiG1OugsTxHBvMPcAY8Adis3Wt9\n",
       "F1zOAAAAAElFTkSuQmCC\n",
       "\" style=\"display:inline;vertical-align:middle;\" /></a></td></tr>\n",
       "<tr><td>6</td><td>Literal</td><td></td><td><a class=\"ProveItLink\" href=\"../3e6688136fa3c7aefbebe51301b7c3ebf0b69c440/expr.ipynb\"><img src=\"data:image/png;base64,iVBORw0KGgoAAAANSUhEUgAAAA4AAAAOBAMAAADtZjDiAAAAJFBMVEX///+6urpUVFQQEBAiIiIy\n",
       "MjJmZmaIiIiqqqrc3Nzu7u4AAACgHpL+AAAAAXRSTlMAQObYZgAAAB5JREFUCNdjYGBgWMkAAe2k\n",
       "0Kmhoc6hoUGk6BMHYgAHOwjcado9fwAAAABJRU5ErkJggg==\n",
       "\" style=\"display:inline;vertical-align:middle;\" /></a></td></tr>\n",
       "<tr><td>7</td><td>ExprTuple</td><td>8, 8, 8, 8, 8, 9, 9, 9, 10, 10, 10</td><td><a class=\"ProveItLink\" href=\"../9678e7a3a5664c120c8669faed2bd673b70954970/expr.ipynb\"><img src=\"data:image/png;base64,iVBORw0KGgoAAAANSUhEUgAAANUAAAAVBAMAAAAjhrYEAAAAMFBMVEX////c3NwiIiJERESqqqqY\n",
       "mJh2dnZmZmYQEBDu7u4yMjJUVFTMzMyIiIi6uroAAAAs73DqAAAAAXRSTlMAQObYZgAAAe9JREFU\n",
       "SMe91j1Iw0AUB/B/bdr0Gttkd7Cbk9DFUSzOgpkcpTjopAREBx38QNz8GAWHZnEQFwcFEYoFF8Gl\n",
       "kyJaqU4igtVWpKDiXZpaL1ebELAd0l8K917v3XtpgXa+4vm2pBlll3M/K7eXnSBHiZYr5By97Pr6\n",
       "mnsCovutV5hAzF8JKwLUVOsVI0Bk09chV53As0ugLeDR17bCCScw5rIkmMIsfQtkp5bsT7ouHjQP\n",
       "imavdR7YKxzaXTJeyDVB2MAO9YMWLNklWcKAF2WS+OBBylBrkc+K0UQTSCbW6bbeICdrMbp1THvR\n",
       "8CZWeUhVRNJW0jUE9SaIL+ILUErosLvxBOj1ojngnYdsQjUYFLtETnSWWC41iUxt+yiDfHhRD+Jv\n",
       "PDoMPFu7UJP1IeBBc63Q0uQxDKtjA5+QSsRddKrkKg86XgtWjO76wDpAa9hHzzeFYynHgpAKFHOI\n",
       "5W0t2g/0cDjQxlgFi6HS3ekiEDIxQftWl3rCyLCe2cGgkSavrjrAPHgoKXnfiqEYCOdEsJ6/Z+N1\n",
       "e3qLrRc2QIWn/iLZ0Ny0famDB8nOoBZjtnDVBIgWEdHqg33XeAJpniSiEUMEfUaF0vUb/SdXyJtE\n",
       "NGKImPz9m/K/uYjJjsi+iTUek3lvEhH7Gwqrc6A9/wFugG9D0d1rCQzwVwAAAABJRU5ErkJggg==\n",
       "\" style=\"display:inline;vertical-align:middle;\" /></a></td></tr>\n",
       "<tr><td>8</td><td>Variable</td><td></td><td><a class=\"ProveItLink\" href=\"../../../../__pv_it/07527342713064c87612d00d8557c53d53d5324a0/expr.ipynb\"><img src=\"data:image/png;base64,iVBORw0KGgoAAAANSUhEUgAAAAsAAAAJBAMAAAAWSsseAAAAMFBMVEX///8yMjKqqqrMzMzu7u4i\n",
       "IiJmZmaYmJhEREQQEBC6urp2dnaIiIhUVFTc3NwAAAD87Fq/AAAAAXRSTlMAQObYZgAAAEhJREFU\n",
       "CNdjYOC7s2seAwPDygccHxgY+L4zsDUwMPB+YGA9wMDA38Dgb8DA8P4Agz6DA4O/AsNFJgMGxgKm\n",
       "MG6gyjunLE4xAAAZTBA5TB6DCwAAAABJRU5ErkJggg==\n",
       "\" style=\"display:inline;vertical-align:middle;\" /></a></td></tr>\n",
       "<tr><td>9</td><td>Variable</td><td></td><td><a class=\"ProveItLink\" href=\"../../../../__pv_it/6840a4fa6c106149dc16a131294d0c5e44f1b0480/expr.ipynb\"><img src=\"data:image/png;base64,iVBORw0KGgoAAAANSUhEUgAAAAkAAAAOBAMAAAAPuiubAAAALVBMVEX///9mZmbMzMxERESYmJiI\n",
       "iIh2dna6urqqqqoyMjIiIiIQEBBUVFTu7u4AAAD9S1JeAAAAAXRSTlMAQObYZgAAAE1JREFUCNdj\n",
       "4D29gAEIOA+ASL4GEFl3AURmgQiGOaFHGBh4HzPwKTBwvGXgTmBgnMDAJ8DAJcBQ5wBSLncBJLWN\n",
       "gYGngRFoBO9REQYGAGrcDtUkVqASAAAAAElFTkSuQmCC\n",
       "\" style=\"display:inline;vertical-align:middle;\" /></a></td></tr>\n",
       "<tr><td>10</td><td>Variable</td><td></td><td><a class=\"ProveItLink\" href=\"../../../../__pv_it/cbdfda466482236edba0ce44ac7ef39cda0af7a40/expr.ipynb\"><img src=\"data:image/png;base64,iVBORw0KGgoAAAANSUhEUgAAAAkAAAAJBAMAAAASvxsjAAAALVBMVEX///9mZmbc3NxUVFSYmJhE\n",
       "REQiIiIyMjK6uroQEBDMzMyIiIh2dnbu7u4AAABgFDGoAAAAAXRSTlMAQObYZgAAADZJREFUCNdj\n",
       "YOA9s3sBA8PKBvYEBt7ZDKwODMwPGICALwBE6m0Asx0YGIDiAgw8QJUyu/cyAAAmuwmycZ8WfQAA\n",
       "AABJRU5ErkJggg==\n",
       "\" style=\"display:inline;vertical-align:middle;\" /></a></td></tr>\n",
       "</table>\n"
      ],
      "text/plain": [
       "0. (a + a + a + a + a + b + b + c + c + b + c) = (a + a + a + a + a + b + b + b + c + c + c)\n",
       "   core type: Operation\n",
       "   operator: 1\n",
       "   operands: 2\n",
       "1. =\n",
       "   core type: Literal\n",
       "   sub-expressions: \n",
       "2. (a + a + a + a + a + b + b + c + c + b + c , a + a + a + a + a + b + b + b + c + c + c)\n",
       "   core type: ExprTuple\n",
       "   sub-expressions: 3, 4\n",
       "3. a + a + a + a + a + b + b + c + c + b + c\n",
       "   core type: Operation\n",
       "   operator: 6\n",
       "   operands: 5\n",
       "4. a + a + a + a + a + b + b + b + c + c + c\n",
       "   core type: Operation\n",
       "   operator: 6\n",
       "   operands: 7\n",
       "5. (a , a , a , a , a , b , b , c , c , b , c)\n",
       "   core type: ExprTuple\n",
       "   sub-expressions: 8, 8, 8, 8, 8, 9, 9, 10, 10, 9, 10\n",
       "6. +\n",
       "   core type: Literal\n",
       "   sub-expressions: \n",
       "7. (a , a , a , a , a , b , b , b , c , c , c)\n",
       "   core type: ExprTuple\n",
       "   sub-expressions: 8, 8, 8, 8, 8, 9, 9, 9, 10, 10, 10\n",
       "8. a\n",
       "   core type: Variable\n",
       "   sub-expressions: \n",
       "9. b\n",
       "   core type: Variable\n",
       "   sub-expressions: \n",
       "10. c\n",
       "    core type: Variable\n",
       "    sub-expressions: "
      ]
     },
     "execution_count": 4,
     "metadata": {},
     "output_type": "execute_result"
    }
   ],
   "source": [
    "# display the expression information\n",
    "expr.exprInfo()"
   ]
  },
  {
   "cell_type": "code",
   "execution_count": null,
   "metadata": {},
   "outputs": [],
   "source": []
  }
 ],
 "metadata": {
  "kernelspec": {
   "display_name": "Python 3",
   "language": "python",
   "name": "python3"
  }
 },
 "nbformat": 4,
 "nbformat_minor": 0
}
