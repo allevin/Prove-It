{
 "cells": [
  {
   "cell_type": "markdown",
   "metadata": {},
   "source": [
    "Expression of type <a class=\"ProveItLink\" href=\"../../../../../../doc/html/api/proveit.number.Add.html\">Add</a>\n",
    "=======================\n",
    "# from context <a class=\"ProveItLink\" href=\"../../_context_.ipynb\">proveit.number.addition</a>"
   ]
  },
  {
   "cell_type": "code",
   "execution_count": 1,
   "metadata": {},
   "outputs": [],
   "source": [
    "# import Expression classes needed to build the expression\n",
    "from proveit._common_ import a, b, c\n",
    "from proveit.number import Add"
   ]
  },
  {
   "cell_type": "code",
   "execution_count": 2,
   "metadata": {},
   "outputs": [
    {
     "data": {
      "text/html": [
       "<strong id=\"expr\">expr:</strong> <a class=\"ProveItLink\" href=\"expr.ipynb\"><img src=\"data:image/png;base64,iVBORw0KGgoAAAANSUhEUgAAAN0AAAAQBAMAAABgnGdDAAAAMFBMVEX///8yMjKqqqrMzMzu7u4i\n",
       "IiJmZmaYmJhEREQQEBC6urp2dnaIiIhUVFTc3NwAAAD87Fq/AAAAAXRSTlMAQObYZgAAAZ5JREFU\n",
       "OMutlDFLw0AUx/8JaagpSXqDOBUK4ia0o275ArWdCoJDOimImI/QDyCIg1OlFJwKQru46JJBHDRC\n",
       "dREhYL9AaWiL7eBgS3uaS3IEWm85+PF77+7l3Quw3CpcxhnSRwn/uDKxhtCJu1E3nmBvsQ+CIGTo\n",
       "WZ6xWKIdT7A935RRAIQMtAyescR5qVLsebfRhube1QPZe8/NLofQYMF9sdhs0r2TZ0DGeY8ymt2k\n",
       "x56n1HHOIzS4WMWQzbbbEEp+IE2g58OGNoZcZbP3LRzxCA3OGagxQLpC0vIDcYS1dthQPSRsNvsn\n",
       "cMAjNLgCfDFA9QLtktPQzbChV1GclS0Tsn5ByGxmJpCGkQQVQvYJmY1eGcqYAfr8I/2BhImWFTb6\n",
       "NnIw/NVo3xA9iUPoZQeQRwzo24H6puN3aoSNYhavYt6fXRpATW9yCA0e0ub8pp/WwvRv+lhqEYZg\n",
       "ieUU260NbJltDqHBbzhhy1FNpJjnqGblToShuU87T+x5Pef6rMEhNLjwaAWm+dh5YB+se8gzlvi/\n",
       "rAQWS7HjCW5WAz/674/dIzAwowAAAABJRU5ErkJggg==\n",
       "\" style=\"display:inline;vertical-align:middle;\" /></a><br>"
      ],
      "text/plain": [
       "expr: a + a + a + b + c + b + c"
      ]
     },
     "execution_count": 2,
     "metadata": {},
     "output_type": "execute_result"
    }
   ],
   "source": [
    "# build up the expression from sub-expressions\n",
    "expr = Add(a, a, a, b, c, b, c)"
   ]
  },
  {
   "cell_type": "code",
   "execution_count": 3,
   "metadata": {},
   "outputs": [
    {
     "name": "stdout",
     "output_type": "stream",
     "text": [
      "Passed sanity check: built 'expr' is the same as the stored Expression.\n"
     ]
    }
   ],
   "source": [
    "# check that the built expression is the same as the stored expression\n",
    "%check_expr"
   ]
  },
  {
   "cell_type": "code",
   "execution_count": 4,
   "metadata": {},
   "outputs": [
    {
     "data": {
      "text/html": [
       "<table><tr><th>&nbsp;</th><th>core type</th><th>sub-expressions</th><th>expression</th></tr>\n",
       "<tr><td>0</td><td>Operation</td><td>operator:&nbsp;1<br>operands:&nbsp;2<br></td><td><a class=\"ProveItLink\" href=\"expr.ipynb\"><img src=\"data:image/png;base64,iVBORw0KGgoAAAANSUhEUgAAAN0AAAAQBAMAAABgnGdDAAAAMFBMVEX///8yMjKqqqrMzMzu7u4i\n",
       "IiJmZmaYmJhEREQQEBC6urp2dnaIiIhUVFTc3NwAAAD87Fq/AAAAAXRSTlMAQObYZgAAAZ5JREFU\n",
       "OMutlDFLw0AUx/8JaagpSXqDOBUK4ia0o275ArWdCoJDOimImI/QDyCIg1OlFJwKQru46JJBHDRC\n",
       "dREhYL9AaWiL7eBgS3uaS3IEWm85+PF77+7l3Quw3CpcxhnSRwn/uDKxhtCJu1E3nmBvsQ+CIGTo\n",
       "WZ6xWKIdT7A935RRAIQMtAyescR5qVLsebfRhube1QPZe8/NLofQYMF9sdhs0r2TZ0DGeY8ymt2k\n",
       "x56n1HHOIzS4WMWQzbbbEEp+IE2g58OGNoZcZbP3LRzxCA3OGagxQLpC0vIDcYS1dthQPSRsNvsn\n",
       "cMAjNLgCfDFA9QLtktPQzbChV1GclS0Tsn5ByGxmJpCGkQQVQvYJmY1eGcqYAfr8I/2BhImWFTb6\n",
       "NnIw/NVo3xA9iUPoZQeQRwzo24H6puN3aoSNYhavYt6fXRpATW9yCA0e0ub8pp/WwvRv+lhqEYZg\n",
       "ieUU260NbJltDqHBbzhhy1FNpJjnqGblToShuU87T+x5Pef6rMEhNLjwaAWm+dh5YB+se8gzlvi/\n",
       "rAQWS7HjCW5WAz/674/dIzAwowAAAABJRU5ErkJggg==\n",
       "\" style=\"display:inline;vertical-align:middle;\" /></a></td></tr>\n",
       "<tr><td>1</td><td>Literal</td><td></td><td><a class=\"ProveItLink\" href=\"../3e6688136fa3c7aefbebe51301b7c3ebf0b69c440/expr.ipynb\"><img src=\"data:image/png;base64,iVBORw0KGgoAAAANSUhEUgAAAA4AAAAOBAMAAADtZjDiAAAAJFBMVEX///+6urpUVFQQEBAiIiIy\n",
       "MjJmZmaIiIiqqqrc3Nzu7u4AAACgHpL+AAAAAXRSTlMAQObYZgAAAB5JREFUCNdjYGBgWMkAAe2k\n",
       "0Kmhoc6hoUGk6BMHYgAHOwjcado9fwAAAABJRU5ErkJggg==\n",
       "\" style=\"display:inline;vertical-align:middle;\" /></a></td></tr>\n",
       "<tr><td>2</td><td>ExprTuple</td><td>3, 3, 3, 4, 5, 4, 5</td><td><a class=\"ProveItLink\" href=\"../18d93bcdcc0205a3233f432e668ff6cf85897c2e0/expr.ipynb\"><img src=\"data:image/png;base64,iVBORw0KGgoAAAANSUhEUgAAAIgAAAAVBAMAAABvbLv8AAAAMFBMVEX////c3NwiIiJERESqqqqY\n",
       "mJh2dnZmZmYQEBDu7u4yMjJUVFTMzMyIiIi6uroAAAAs73DqAAAAAXRSTlMAQObYZgAAAbpJREFU\n",
       "OMutlD9IAlEcx7/+Oc/T/LM35ObqULtzizc3SUMtGS45VNAfwi1zCsnBCBoiCIOiCCShJWjILaIU\n",
       "a4oWLZMQKvrde6dp9/Age/Aen/e9e7+/7w74l+EtDXZeqtJyZfKSchr4LWVXu3eLNPfMXLnyBmm/\n",
       "5zngMc3GFzZIbz35ROFMmxmpGd7wtnryXcazaeUmDYqjt0qjSNBqKcyu8L2I9svHusupcpFXoXCn\n",
       "cmkzdg9MY5fwyW+rc1FASgM+fvay6uIh5EL4YDCUwg4wjhQ5bUIOcfcCsrfgjDJr67DxACJpJBlk\n",
       "Shgjf/gC3HVYeY9EJG/DF9clfcwD7wzO2XqtGfGFkOMBi8gaR03VJX0E4W0yaOhG1oCREiJgfRQR\n",
       "XZOlttS5JjJrsuWTl0/LKRfGmb2oQExU1SQYUDyqBlRVqpJmmOKRgAnqD1yqPehALiAmd1jOc4jD\n",
       "UdQAR1iA8kpwAsxoLX7UrkTlooLMi5iUwhwYIFG+5ZC9UaFs+KnosTIFdACnv53pA/qQEbz+n2sv\n",
       "Rduqij5kBKnzEZS6fgV/NbJFc1hnT+ekgIyATsMPtWYP+Hv0FPEN162YTO1Qeb0AAAAASUVORK5C\n",
       "YII=\n",
       "\" style=\"display:inline;vertical-align:middle;\" /></a></td></tr>\n",
       "<tr><td>3</td><td>Variable</td><td></td><td><a class=\"ProveItLink\" href=\"../../../../__pv_it/07527342713064c87612d00d8557c53d53d5324a0/expr.ipynb\"><img src=\"data:image/png;base64,iVBORw0KGgoAAAANSUhEUgAAAAsAAAAJBAMAAAAWSsseAAAAMFBMVEX///8yMjKqqqrMzMzu7u4i\n",
       "IiJmZmaYmJhEREQQEBC6urp2dnaIiIhUVFTc3NwAAAD87Fq/AAAAAXRSTlMAQObYZgAAAEhJREFU\n",
       "CNdjYOC7s2seAwPDygccHxgY+L4zsDUwMPB+YGA9wMDA38Dgb8DA8P4Agz6DA4O/AsNFJgMGxgKm\n",
       "MG6gyjunLE4xAAAZTBA5TB6DCwAAAABJRU5ErkJggg==\n",
       "\" style=\"display:inline;vertical-align:middle;\" /></a></td></tr>\n",
       "<tr><td>4</td><td>Variable</td><td></td><td><a class=\"ProveItLink\" href=\"../../../../__pv_it/6840a4fa6c106149dc16a131294d0c5e44f1b0480/expr.ipynb\"><img src=\"data:image/png;base64,iVBORw0KGgoAAAANSUhEUgAAAAkAAAAOBAMAAAAPuiubAAAALVBMVEX///9mZmbMzMxERESYmJiI\n",
       "iIh2dna6urqqqqoyMjIiIiIQEBBUVFTu7u4AAAD9S1JeAAAAAXRSTlMAQObYZgAAAE1JREFUCNdj\n",
       "4D29gAEIOA+ASL4GEFl3AURmgQiGOaFHGBh4HzPwKTBwvGXgTmBgnMDAJ8DAJcBQ5wBSLncBJLWN\n",
       "gYGngRFoBO9REQYGAGrcDtUkVqASAAAAAElFTkSuQmCC\n",
       "\" style=\"display:inline;vertical-align:middle;\" /></a></td></tr>\n",
       "<tr><td>5</td><td>Variable</td><td></td><td><a class=\"ProveItLink\" href=\"../../../../__pv_it/cbdfda466482236edba0ce44ac7ef39cda0af7a40/expr.ipynb\"><img src=\"data:image/png;base64,iVBORw0KGgoAAAANSUhEUgAAAAkAAAAJBAMAAAASvxsjAAAALVBMVEX///9mZmbc3NxUVFSYmJhE\n",
       "REQiIiIyMjK6uroQEBDMzMyIiIh2dnbu7u4AAABgFDGoAAAAAXRSTlMAQObYZgAAADZJREFUCNdj\n",
       "YOA9s3sBA8PKBvYEBt7ZDKwODMwPGICALwBE6m0Asx0YGIDiAgw8QJUyu/cyAAAmuwmycZ8WfQAA\n",
       "AABJRU5ErkJggg==\n",
       "\" style=\"display:inline;vertical-align:middle;\" /></a></td></tr>\n",
       "</table>\n"
      ],
      "text/plain": [
       "0. a + a + a + b + c + b + c\n",
       "   core type: Operation\n",
       "   operator: 1\n",
       "   operands: 2\n",
       "1. +\n",
       "   core type: Literal\n",
       "   sub-expressions: \n",
       "2. (a , a , a , b , c , b , c)\n",
       "   core type: ExprTuple\n",
       "   sub-expressions: 3, 3, 3, 4, 5, 4, 5\n",
       "3. a\n",
       "   core type: Variable\n",
       "   sub-expressions: \n",
       "4. b\n",
       "   core type: Variable\n",
       "   sub-expressions: \n",
       "5. c\n",
       "   core type: Variable\n",
       "   sub-expressions: "
      ]
     },
     "execution_count": 4,
     "metadata": {},
     "output_type": "execute_result"
    }
   ],
   "source": [
    "# display the expression information\n",
    "expr.exprInfo()"
   ]
  },
  {
   "cell_type": "code",
   "execution_count": null,
   "metadata": {},
   "outputs": [],
   "source": []
  }
 ],
 "metadata": {
  "kernelspec": {
   "display_name": "Python 3",
   "language": "python",
   "name": "python3"
  }
 },
 "nbformat": 4,
 "nbformat_minor": 0
}
