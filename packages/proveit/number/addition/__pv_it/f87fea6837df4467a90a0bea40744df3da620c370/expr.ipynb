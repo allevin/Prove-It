{
 "cells": [
  {
   "cell_type": "markdown",
   "metadata": {},
   "source": [
    "Expression of type <a class=\"ProveItLink\" href=\"../../../../../../doc/html/api/proveit.number.Add.html\">Add</a>\n",
    "=======================\n",
    "# from context <a class=\"ProveItLink\" href=\"../../_context_.ipynb\">proveit.number.addition</a>"
   ]
  },
  {
   "cell_type": "code",
   "execution_count": 1,
   "metadata": {},
   "outputs": [],
   "source": [
    "# import Expression classes needed to build the expression\n",
    "from proveit.number import Add, five, four, one, six, three, two"
   ]
  },
  {
   "cell_type": "code",
   "execution_count": 2,
   "metadata": {},
   "outputs": [
    {
     "data": {
      "text/html": [
       "<strong id=\"expr\">expr:</strong> <a class=\"ProveItLink\" href=\"expr.ipynb\"><img src=\"data:image/png;base64,iVBORw0KGgoAAAANSUhEUgAAAO8AAAAVBAMAAABcV6T1AAAAMFBMVEX///92dnbMzMy6uroiIiKq\n",
       "qqrc3NyYmJgyMjIQEBBmZmaIiIhUVFTu7u5EREQAAADaqMZ6AAAAAXRSTlMAQObYZgAAAlNJREFU\n",
       "SMfVlkFo01AYx/9p1yRNlm699qD1KoI7eFB2qafhqcWT2oNVdpIdepIdhwoLw+lgCAqDTlGcRbQ3\n",
       "kR2sDHbQSnMSBXH1IJ7GnHMyHKO+pEmX70siObiDgb4kv3z5fn3fe3kJ8J9tyUbEBWUkdo51di7X\n",
       "b7GbE9lDJRZ0zOFNCqetSyU84PmNXDbPUMYSzec9Riegb1NyBcldFjRrNwMdCmvdTUDl4vH8YIH9\n",
       "lQ0h/tTyxEalt38HFCk5XMJPSnSn0i87lM68Fl1Tht187939aahThBittt1j3ROn3GG7Z6E9QsjF\n",
       "vtgjaftOebJDqVN5Y87NV3YHfb+iZe/gVaj4toXnVIx+qT1y0m4kNUyMr1SjzsUVi61oMaI2acx9\n",
       "u7nKxW+XV0Sbo5qha8uP4ooTm4wcuclipu2aNrh4HWuiVOeoZm0MA9WYYp5QBM1TYp9KIXGDoq6n\n",
       "mPg7pL2Y4mfB4tdo8bfE72yIWPoBHGfiApTtaLFmmjfumqYzlHqTkcvARpUQITaGe+J9milA2nLF\n",
       "S6Z5xjTtERqagrJLSGSPL0Cu+InRtRyxL+aOOGy12gsNP00XoP0KlDrz9x77kiYWoRAxdsQ8p+Rb\n",
       "z0RLrcFZKiapOBV7jMez2YeUvECSzfNcmFhexPlK4HHCF3wMm9Xak53HNGmx22XrVKq+VKLkhDOT\n",
       "2r/pABx9uira60ysvVlhpF6bqfqW7lTgTRdN0pXIOL5k+rZy3FdsNOm/CYJxkncyGjCM/oMPgdnI\n",
       "Kx8O9gtkIvLK6sGK5ahPHz0fL8EfTHXiwJdGrJoAAAAASUVORK5CYII=\n",
       "\" style=\"display:inline;vertical-align:middle;\" /></a><br>"
      ],
      "text/plain": [
       "expr: 1 + 2 + 3 + (4 + 5) + 6 + 1"
      ]
     },
     "execution_count": 2,
     "metadata": {},
     "output_type": "execute_result"
    }
   ],
   "source": [
    "# build up the expression from sub-expressions\n",
    "expr = Add(one, two, three, Add(four, five), six, one)"
   ]
  },
  {
   "cell_type": "code",
   "execution_count": 3,
   "metadata": {},
   "outputs": [
    {
     "name": "stdout",
     "output_type": "stream",
     "text": [
      "Passed sanity check: built 'expr' is the same as the stored Expression.\n"
     ]
    }
   ],
   "source": [
    "# check that the built expression is the same as the stored expression\n",
    "%check_expr"
   ]
  },
  {
   "cell_type": "code",
   "execution_count": 4,
   "metadata": {},
   "outputs": [
    {
     "data": {
      "text/html": [
       "<table><tr><th>&nbsp;</th><th>core type</th><th>sub-expressions</th><th>expression</th></tr>\n",
       "<tr><td>0</td><td>Operation</td><td>operator:&nbsp;7<br>operands:&nbsp;1<br></td><td><a class=\"ProveItLink\" href=\"expr.ipynb\"><img src=\"data:image/png;base64,iVBORw0KGgoAAAANSUhEUgAAAO8AAAAVBAMAAABcV6T1AAAAMFBMVEX///92dnbMzMy6uroiIiKq\n",
       "qqrc3NyYmJgyMjIQEBBmZmaIiIhUVFTu7u5EREQAAADaqMZ6AAAAAXRSTlMAQObYZgAAAlNJREFU\n",
       "SMfVlkFo01AYx/9p1yRNlm699qD1KoI7eFB2qafhqcWT2oNVdpIdepIdhwoLw+lgCAqDTlGcRbQ3\n",
       "kR2sDHbQSnMSBXH1IJ7GnHMyHKO+pEmX70siObiDgb4kv3z5fn3fe3kJ8J9tyUbEBWUkdo51di7X\n",
       "b7GbE9lDJRZ0zOFNCqetSyU84PmNXDbPUMYSzec9Riegb1NyBcldFjRrNwMdCmvdTUDl4vH8YIH9\n",
       "lQ0h/tTyxEalt38HFCk5XMJPSnSn0i87lM68Fl1Tht187939aahThBittt1j3ROn3GG7Z6E9QsjF\n",
       "vtgjaftOebJDqVN5Y87NV3YHfb+iZe/gVaj4toXnVIx+qT1y0m4kNUyMr1SjzsUVi61oMaI2acx9\n",
       "u7nKxW+XV0Sbo5qha8uP4ooTm4wcuclipu2aNrh4HWuiVOeoZm0MA9WYYp5QBM1TYp9KIXGDoq6n\n",
       "mPg7pL2Y4mfB4tdo8bfE72yIWPoBHGfiApTtaLFmmjfumqYzlHqTkcvARpUQITaGe+J9milA2nLF\n",
       "S6Z5xjTtERqagrJLSGSPL0Cu+InRtRyxL+aOOGy12gsNP00XoP0KlDrz9x77kiYWoRAxdsQ8p+Rb\n",
       "z0RLrcFZKiapOBV7jMez2YeUvECSzfNcmFhexPlK4HHCF3wMm9Xak53HNGmx22XrVKq+VKLkhDOT\n",
       "2r/pABx9uira60ysvVlhpF6bqfqW7lTgTRdN0pXIOL5k+rZy3FdsNOm/CYJxkncyGjCM/oMPgdnI\n",
       "Kx8O9gtkIvLK6sGK5ahPHz0fL8EfTHXiwJdGrJoAAAAASUVORK5CYII=\n",
       "\" style=\"display:inline;vertical-align:middle;\" /></a></td></tr>\n",
       "<tr><td>1</td><td>ExprTuple</td><td>6, 2, 3, 4, 5, 6</td><td><a class=\"ProveItLink\" href=\"../5c9d087b4eee5ae79c478a388cff3484e1d256d90/expr.ipynb\"><img src=\"data:image/png;base64,iVBORw0KGgoAAAANSUhEUgAAAJsAAAAVBAMAAACj9YEXAAAAMFBMVEX////c3NwiIiJERESqqqqY\n",
       "mJh2dnZmZmYQEBDu7u4yMjJUVFTMzMyIiIi6uroAAAAs73DqAAAAAXRSTlMAQObYZgAAAkBJREFU\n",
       "OMutlE1oE0EUx/8x2Wx2k42hoB70EBDFW7wo9NTcFETMyaMUhPQgYvArUg8W2oOnZkWQgEgWSilG\n",
       "Qb0oEtrmpIdecvFmMXoUhFpKMcV2nZk3s93ZjeghA9n9ZfbNj3lvPoARt3xvVKYr/LHGfkmXOhL1\n",
       "hT5Rrnq1rMLWIsMW3cPymzVV7crOccDk/Jz1TkjdUThbREeQ31XDj0d0DX9b0lg3WyR6PGAPD3B6\n",
       "sDqrUvceKBHdKGNTjnFmJTyS76W3akonYXsCnna47jKQ4aYvUvfQxSple2lfd2hBwkX5fq2maQyC\n",
       "GTscm8B3hHSvXDzoqyVSyU7+VWfP6LpkGXfDOtZKCm05yihEdcvrKwQHX67fDuvSNSzqupyq8ocX\n",
       "Ep4hqhtHi1JoncCBSkiX8jCv6+zTwfTnZa4xHZClLFsbSA9CuvwM9nTdrdB+EJ2p7hBd+jfpijC2\n",
       "QrrcRkTnqDIfAyZEHk9Auul2+1S7zSuQLCK9R7XzYOzqujlNdw6Jgtjuvit1FzqdX8va7DJFmD8F\n",
       "JSOzY8meUTpuzNXYQlq8Z4etMREwqydrgm9eHp4StXMDneFhSuosvmvHqtWbvCLAJ+S3iWK6RA3n\n",
       "CyIcZ9GsEKmN8o296o2litVgWZZ8fxNNnkmqPl0mwjX/jr4UH++/gQiH+W6FyLy3w4LsPjIFdQoU\n",
       "4CvipK+sFr5P7JAZk+oABpGVIcTbj/AfYwhdpwvqP3X4h87yxB1HLbiUHcQp3npxyvKsEyO73D8D\n",
       "fwCjO687TsOwqQAAAABJRU5ErkJggg==\n",
       "\" style=\"display:inline;vertical-align:middle;\" /></a></td></tr>\n",
       "<tr><td>2</td><td>Literal</td><td></td><td><a class=\"ProveItLink\" href=\"../../../numeral/__pv_it/77d407a64829263cdc16415becd4c2293f77a4bf0/expr.ipynb\"><img src=\"data:image/png;base64,iVBORw0KGgoAAAANSUhEUgAAAAkAAAAOBAMAAAAPuiubAAAAMFBMVEX///+YmJh2dnbMzMwQEBAi\n",
       "IiLu7u6qqqqIiIhUVFS6urpEREQyMjJmZmbc3NwAAACOMKdoAAAAAXRSTlMAQObYZgAAAFBJREFU\n",
       "CNdj4Lt7egEDw0sGju8MDNMYGOIZGFwSGOYvYDifwHAfKAEUSQASzJ9ATJ4NIPI2iOCYACJrGfge\n",
       "MDBfYGB8wPBUSekqUPH//18ZAIliFhc3zESNAAAAAElFTkSuQmCC\n",
       "\" style=\"display:inline;vertical-align:middle;\" /></a></td></tr>\n",
       "<tr><td>3</td><td>Literal</td><td></td><td><a class=\"ProveItLink\" href=\"../../../numeral/__pv_it/9176d93c83afa2c995b614976e3cb49207102fa70/expr.ipynb\"><img src=\"data:image/png;base64,iVBORw0KGgoAAAANSUhEUgAAAAoAAAAOBAMAAADkjZCYAAAAMFBMVEX///+YmJju7u4QEBBUVFQy\n",
       "MjIiIiKIiIi6urpmZmbc3NyqqqpERER2dnbMzMwAAAB0GlNiAAAAAXRSTlMAQObYZgAAAE1JREFU\n",
       "CNdjYHh79zQDA9cEhv4CBt7fDPwJDNxgEgiAIkAQAsR8Vx1ATIbiBhDJ/ImB6wEDz0cG/U8gkj+A\n",
       "ge0XA7sAQ/8FBoadM6MZAEflFACalZ/OAAAAAElFTkSuQmCC\n",
       "\" style=\"display:inline;vertical-align:middle;\" /></a></td></tr>\n",
       "<tr><td>4</td><td>Operation</td><td>operator:&nbsp;7<br>operands:&nbsp;8<br></td><td><a class=\"ProveItLink\" href=\"../fd00a2eb26a7a8f06974ceb5a572f9501ffaec1e0/expr.ipynb\"><img src=\"data:image/png;base64,iVBORw0KGgoAAAANSUhEUgAAAC0AAAAQBAMAAABw0OvaAAAAMFBMVEX///+6urpmZmaqqqru7u52\n",
       "dnYyMjKYmJjc3NwQEBCIiIhEREQiIiJUVFTMzMwAAACQ7J58AAAAAXRSTlMAQObYZgAAAJlJREFU\n",
       "GNNjYGBgeMuAAthKOILBjNOo4pz//weAaK7ZUAEPqHrdODDdng0Vt4JQvFBuAHZx9gZ08VVrBYCU\n",
       "FwOaOLcDy0eQMejiQHCTgYH5ARbx+AcMrgwQcbW0tJNpablA1h6guACD7d27P2+hqJ/DwKDfAGLM\n",
       "RjVHgYEhjQGLeBMD8wwQHftfHUWcT+luA0qAWTFgB1JIbADTzyMLs1VfYAAAAABJRU5ErkJggg==\n",
       "\" style=\"display:inline;vertical-align:middle;\" /></a></td></tr>\n",
       "<tr><td>5</td><td>Literal</td><td></td><td><a class=\"ProveItLink\" href=\"../../../numeral/__pv_it/09b499e53e24cf89c2513ba78b501f0314edaa680/expr.ipynb\"><img src=\"data:image/png;base64,iVBORw0KGgoAAAANSUhEUgAAAAoAAAAOBAMAAADkjZCYAAAAMFBMVEX///+6urpERESqqqqIiIgQ\n",
       "EBCYmJgyMjJUVFQiIiLc3NzMzMxmZmZ2dnbu7u4AAABf+mkYAAAAAXRSTlMAQObYZgAAAFNJREFU\n",
       "CNdjYOC7c3cDA8PKDRwTGBjmMrAXMLD9YwAC9gAQyV/tcpiB4f00Bs4EhvcfGHj/MbyfwMD2mYEf\n",
       "qOwLAxOYzQwWZ9BleJrAwMDT08gAANMyF0ZGTeKAAAAAAElFTkSuQmCC\n",
       "\" style=\"display:inline;vertical-align:middle;\" /></a></td></tr>\n",
       "<tr><td>6</td><td>Literal</td><td></td><td><a class=\"ProveItLink\" href=\"../../../numeral/__pv_it/9be8badea4c35b9724062cecc501d17a3158d1d20/expr.ipynb\"><img src=\"data:image/png;base64,iVBORw0KGgoAAAANSUhEUgAAAAgAAAAPBAMAAAArJJMAAAAAHlBMVEX///+YmJgyMjIQEBBmZmaI\n",
       "iIhUVFTu7u5EREQAAAAw+MI4AAAAAXRSTlMAQObYZgAAACFJREFUCNdjYGBoZ2BgqJjOwFCWBiQY\n",
       "WEklWJwnOTKAAACjEQo8HvEr3AAAAABJRU5ErkJggg==\n",
       "\" style=\"display:inline;vertical-align:middle;\" /></a></td></tr>\n",
       "<tr><td>7</td><td>Literal</td><td></td><td><a class=\"ProveItLink\" href=\"../3e6688136fa3c7aefbebe51301b7c3ebf0b69c440/expr.ipynb\"><img src=\"data:image/png;base64,iVBORw0KGgoAAAANSUhEUgAAAA4AAAAOBAMAAADtZjDiAAAAJFBMVEX///+6urpUVFQQEBAiIiIy\n",
       "MjJmZmaIiIiqqqrc3Nzu7u4AAACgHpL+AAAAAXRSTlMAQObYZgAAAB5JREFUCNdjYGBgWMkAAe2k\n",
       "0Kmhoc6hoUGk6BMHYgAHOwjcado9fwAAAABJRU5ErkJggg==\n",
       "\" style=\"display:inline;vertical-align:middle;\" /></a></td></tr>\n",
       "<tr><td>8</td><td>ExprTuple</td><td>9, 10</td><td><a class=\"ProveItLink\" href=\"../907f69467dae02797c7f89afc38a31a3a94605a00/expr.ipynb\"><img src=\"data:image/png;base64,iVBORw0KGgoAAAANSUhEUgAAACkAAAAVBAMAAAAp9toTAAAAMFBMVEX////c3NwiIiJERESqqqqY\n",
       "mJh2dnZmZmYQEBDu7u4yMjJUVFTMzMyIiIi6uroAAAAs73DqAAAAAXRSTlMAQObYZgAAAPxJREFU\n",
       "GNNjYMAO+C6gCcSBiNNwgoGBK5IxhYH9AJC1EsRVhohy/P+fwMCwgIGBF2QAbzNUbXUOkAwDSk8A\n",
       "0qKLIaLcYHIGA8MrEJ2AIsrswFAGpFgFYKJ3bz9gYGArYFgK5MxlgIoyT+D8x8DAsoChD2QATBQI\n",
       "dgB90MAAkjuAJJp/gIHnA0h0GgNM1Ago+gAk2sLA4L1794+9YNEmBoZ6AZAJpmAu0BcgdxcwMKwC\n",
       "OmkBQzpUlPMTkBJnYGkEu+wRSDD7fylnvwADA0/5biDJ9YCBQwAWojAGyMesCVA2K9xxubCQRBbl\n",
       "BIYkgzSUA48SbpBRjOgxdIeBAQCbCDqCorR+RQAAAABJRU5ErkJggg==\n",
       "\" style=\"display:inline;vertical-align:middle;\" /></a></td></tr>\n",
       "<tr><td>9</td><td>Literal</td><td></td><td><a class=\"ProveItLink\" href=\"../../../numeral/__pv_it/23412ce59ea7e77353d2f9225e02248e73651ca00/expr.ipynb\"><img src=\"data:image/png;base64,iVBORw0KGgoAAAANSUhEUgAAAAoAAAAPBAMAAAAv0UM9AAAALVBMVEX///9mZmaqqqru7u52dnYy\n",
       "MjKYmJjc3NwQEBCIiIhEREQiIiJUVFTMzMwAAACUDTcXAAAAAXRSTlMAQObYZgAAAD5JREFUCNdj\n",
       "YGBguMMAArtABGcXiCyLApEOIJKtAERaMoBIBxDJdAFEmjCASJ0zZ16cBCkF64KQPu/EwBwGACv6\n",
       "DSRgin9qAAAAAElFTkSuQmCC\n",
       "\" style=\"display:inline;vertical-align:middle;\" /></a></td></tr>\n",
       "<tr><td>10</td><td>Literal</td><td></td><td><a class=\"ProveItLink\" href=\"../../../numeral/__pv_it/aaeeaca7d86eb2b7cdc49e25c3108b81b52ec5400/expr.ipynb\"><img src=\"data:image/png;base64,iVBORw0KGgoAAAANSUhEUgAAAAkAAAAOBAMAAAAPuiubAAAAMFBMVEX///8iIiJERES6urqIiIjM\n",
       "zMxUVFRmZmYQEBCqqqp2dnbc3Nzu7u6YmJgyMjIAAADYGhJvAAAAAXRSTlMAQObYZgAAAE1JREFU\n",
       "CNdj4LvDvZKBgeP//wUMDHxlSxkYGNgYGBCki5sBAwPTAZ7PYG4GmFwfwKAIJA0YGhkY6jcwFDAw\n",
       "vGNg2M7A2c3AwFqetoEBAKS8EE1WXEJLAAAAAElFTkSuQmCC\n",
       "\" style=\"display:inline;vertical-align:middle;\" /></a></td></tr>\n",
       "</table>\n"
      ],
      "text/plain": [
       "0. 1 + 2 + 3 + (4 + 5) + 6 + 1\n",
       "   core type: Operation\n",
       "   operator: 7\n",
       "   operands: 1\n",
       "1. (1 , 2 , 3 , 4 + 5 , 6 , 1)\n",
       "   core type: ExprTuple\n",
       "   sub-expressions: 6, 2, 3, 4, 5, 6\n",
       "2. 2\n",
       "   core type: Literal\n",
       "   sub-expressions: \n",
       "3. 3\n",
       "   core type: Literal\n",
       "   sub-expressions: \n",
       "4. 4 + 5\n",
       "   core type: Operation\n",
       "   operator: 7\n",
       "   operands: 8\n",
       "5. 6\n",
       "   core type: Literal\n",
       "   sub-expressions: \n",
       "6. 1\n",
       "   core type: Literal\n",
       "   sub-expressions: \n",
       "7. +\n",
       "   core type: Literal\n",
       "   sub-expressions: \n",
       "8. (4 , 5)\n",
       "   core type: ExprTuple\n",
       "   sub-expressions: 9, 10\n",
       "9. 4\n",
       "   core type: Literal\n",
       "   sub-expressions: \n",
       "10. 5\n",
       "    core type: Literal\n",
       "    sub-expressions: "
      ]
     },
     "execution_count": 4,
     "metadata": {},
     "output_type": "execute_result"
    }
   ],
   "source": [
    "# display the expression information\n",
    "expr.exprInfo()"
   ]
  },
  {
   "cell_type": "code",
   "execution_count": null,
   "metadata": {},
   "outputs": [],
   "source": []
  }
 ],
 "metadata": {
  "kernelspec": {
   "display_name": "Python 3",
   "language": "python",
   "name": "python3"
  }
 },
 "nbformat": 4,
 "nbformat_minor": 0
}
