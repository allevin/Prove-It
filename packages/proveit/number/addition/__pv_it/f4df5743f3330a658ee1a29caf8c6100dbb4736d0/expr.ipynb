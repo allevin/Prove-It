{
 "cells": [
  {
   "cell_type": "markdown",
   "metadata": {},
   "source": [
    "Expression of type <a class=\"ProveItLink\" href=\"../../../../../../doc/html/api/proveit.logic.Equals.html\">Equals</a>\n",
    "=======================\n",
    "# from context <a class=\"ProveItLink\" href=\"../../_context_.ipynb\">proveit.number.addition</a>"
   ]
  },
  {
   "cell_type": "code",
   "execution_count": 1,
   "metadata": {},
   "outputs": [],
   "source": [
    "# import Expression classes needed to build the expression\n",
    "from proveit.logic import Equals\n",
    "from proveit.number import Add, five, four, three, two"
   ]
  },
  {
   "cell_type": "code",
   "execution_count": 2,
   "metadata": {},
   "outputs": [
    {
     "data": {
      "text/html": [
       "<strong id=\"expr\">expr:</strong> <a class=\"ProveItLink\" href=\"expr.ipynb\"><img src=\"data:image/png;base64,iVBORw0KGgoAAAANSUhEUgAAALcAAAAVBAMAAAD2lGJJAAAAMFBMVEX////c3NwiIiJERESqqqqY\n",
       "mJh2dnZmZmYQEBDu7u4yMjJUVFTMzMyIiIi6uroAAAAs73DqAAAAAXRSTlMAQObYZgAAAiNJREFU\n",
       "OMu1lT9oE1Ecx7+XXO9v2pxTBxHEQRyL6CrduhiIS0EHuUFaEIuZWqiDVlyqIOnWzaDt4LlkFDI0\n",
       "kw4demOhFoNjobSCIll6/d273CXv9y5HFt8S3vd98nnvfu+9O+C/tplwYvRxTnZaCO8Ds+v32Mi3\n",
       "pTscrrRhdpGTOg+1J+Pgz9Da+DkvjWkNnPEHKs0BLUXuNGFFkY98eDqE20TpPAm3kh/jD6rXpQQ4\n",
       "JH5RkR+T/8WzQcf2GGzR1JtwL5KwlvzoQ3ktfZhHxG8r8k3AzTp6yOATmroPU5ZTS8uSJoZDfHme\n",
       "n4ZWrjyFV5Ma9bn8C+TkQcwbDSY3qdru8VGPyVN4V/QOfFlVedqW5XYY87rYUTMQLSacOq2waV/I\n",
       "8gx+L7qfwFd+2JMSAzE/84qt3Eqor7I8g8Wk5pwit+RC3Rd85ZzJq4n8eVeSZ7CQH4lsPQhuBUFc\n",
       "bK2L8t/RxPbHy2+TvCeK9fGtKNYQfhPP2MAVaZ0f+ok8S/ROZ+9dOCiLeUO0+GktOj6vgZfe6MqH\n",
       "8F3qfaf9leTVFkq/WaEskk3xK1qmDaUTFLDTksLLVISbS8vylZmu48zPkStHMQ5moW/kyWnsFx3y\n",
       "KIrYfVxY22FbbOz9q8Pp8UtE/6usdTx+iQaw5Y3CNeV+S4l6/TdGO3rI4Cm/+O0sJSvK8OL4T8OK\n",
       "eOVO3OzcV24RfHVyuespkdYuhLXJP3M/crJrBfAlO2qjeYE4uwsAAAAASUVORK5CYII=\n",
       "\" style=\"display:inline;vertical-align:middle;\" /></a><br>"
      ],
      "text/plain": [
       "expr: (2 + 3 + 4) = (5 + 4)"
      ]
     },
     "execution_count": 2,
     "metadata": {},
     "output_type": "execute_result"
    }
   ],
   "source": [
    "# build up the expression from sub-expressions\n",
    "expr = Equals(Add(two, three, four), Add(five, four))"
   ]
  },
  {
   "cell_type": "code",
   "execution_count": 3,
   "metadata": {},
   "outputs": [
    {
     "name": "stdout",
     "output_type": "stream",
     "text": [
      "Passed sanity check: built 'expr' is the same as the stored Expression.\n"
     ]
    }
   ],
   "source": [
    "# check that the built expression is the same as the stored expression\n",
    "%check_expr"
   ]
  },
  {
   "cell_type": "code",
   "execution_count": 4,
   "metadata": {},
   "outputs": [
    {
     "data": {
      "text/html": [
       "<table><tr><th>&nbsp;</th><th>core type</th><th>sub-expressions</th><th>expression</th></tr>\n",
       "<tr><td>0</td><td>Operation</td><td>operator:&nbsp;1<br>operands:&nbsp;2<br></td><td><a class=\"ProveItLink\" href=\"expr.ipynb\"><img src=\"data:image/png;base64,iVBORw0KGgoAAAANSUhEUgAAALcAAAAVBAMAAAD2lGJJAAAAMFBMVEX////c3NwiIiJERESqqqqY\n",
       "mJh2dnZmZmYQEBDu7u4yMjJUVFTMzMyIiIi6uroAAAAs73DqAAAAAXRSTlMAQObYZgAAAiNJREFU\n",
       "OMu1lT9oE1Ecx7+XXO9v2pxTBxHEQRyL6CrduhiIS0EHuUFaEIuZWqiDVlyqIOnWzaDt4LlkFDI0\n",
       "kw4demOhFoNjobSCIll6/d273CXv9y5HFt8S3vd98nnvfu+9O+C/tplwYvRxTnZaCO8Ds+v32Mi3\n",
       "pTscrrRhdpGTOg+1J+Pgz9Da+DkvjWkNnPEHKs0BLUXuNGFFkY98eDqE20TpPAm3kh/jD6rXpQQ4\n",
       "JH5RkR+T/8WzQcf2GGzR1JtwL5KwlvzoQ3ktfZhHxG8r8k3AzTp6yOATmroPU5ZTS8uSJoZDfHme\n",
       "n4ZWrjyFV5Ma9bn8C+TkQcwbDSY3qdru8VGPyVN4V/QOfFlVedqW5XYY87rYUTMQLSacOq2waV/I\n",
       "8gx+L7qfwFd+2JMSAzE/84qt3Eqor7I8g8Wk5pwit+RC3Rd85ZzJq4n8eVeSZ7CQH4lsPQhuBUFc\n",
       "bK2L8t/RxPbHy2+TvCeK9fGtKNYQfhPP2MAVaZ0f+ok8S/ROZ+9dOCiLeUO0+GktOj6vgZfe6MqH\n",
       "8F3qfaf9leTVFkq/WaEskk3xK1qmDaUTFLDTksLLVISbS8vylZmu48zPkStHMQ5moW/kyWnsFx3y\n",
       "KIrYfVxY22FbbOz9q8Pp8UtE/6usdTx+iQaw5Y3CNeV+S4l6/TdGO3rI4Cm/+O0sJSvK8OL4T8OK\n",
       "eOVO3OzcV24RfHVyuespkdYuhLXJP3M/crJrBfAlO2qjeYE4uwsAAAAASUVORK5CYII=\n",
       "\" style=\"display:inline;vertical-align:middle;\" /></a></td></tr>\n",
       "<tr><td>1</td><td>Literal</td><td></td><td><a class=\"ProveItLink\" href=\"../../../../logic/equality/__pv_it/2fb26078095930560931daa0500ce419a39ea6cd0/expr.ipynb\"><img src=\"data:image/png;base64,iVBORw0KGgoAAAANSUhEUgAAAA4AAAAFBAMAAACHocAhAAAAFVBMVEX///9EREQiIiJUVFQyMjJm\n",
       "ZmYAAADubVkoAAAAAXRSTlMAQObYZgAAABRJREFUCNdjCHEBAWcGXCBICQQUAUpuAwlgGKrkAAAA\n",
       "AElFTkSuQmCC\n",
       "\" style=\"display:inline;vertical-align:middle;\" /></a></td></tr>\n",
       "<tr><td>2</td><td>ExprTuple</td><td>3, 4</td><td><a class=\"ProveItLink\" href=\"../617e07c48568120cf4e142091de2464c840f2fdd0/expr.ipynb\"><img src=\"data:image/png;base64,iVBORw0KGgoAAAANSUhEUgAAAJUAAAAVBAMAAAC9PLGkAAAAMFBMVEX////c3NwiIiJERESqqqqY\n",
       "mJh2dnZmZmYQEBDu7u4yMjJUVFTMzMyIiIi6uroAAAAs73DqAAAAAXRSTlMAQObYZgAAAhBJREFU\n",
       "OMutlD9IHEEUxr+9273bvTvPtRALGyEgKUViG+xSxANthFiELUQhUXKNEUyRmKRJAsnZhDTi4Z8i\n",
       "Y3OlsASv0sLCKwUTclgGgiYYkmtufbtzu96bjZLAbbFv53szv3lv580DOvnkax3B3PdfB0Df0m3F\n",
       "szdzKzb7QJrMPW1adeUqSFfJfoRWwddR5tOKOI2Fe0Ma0/Mc1ZUYAspAVw3ZEhJnUlyRJnWO7gGm\n",
       "0MQXrbiezLUUyw59R8SapG1KMF8h25RiQRr9klUI5/duSJuNotHD0LUpYn0AvtFODaSbysoox0hx\n",
       "rmalMsRKjuKxTLihsrbBFcMOWV+O6wprwmelitgKRocOX5l7UFFYq2ixkiWryVlWzWfpZbwNhhtQ\n",
       "4zqqc8WJ5gA7nJWCz8o/Q7BHeijGMnnWerWN9ajKWGMBK3cmWceBtiTETSH8H6VVkfzFlPdR7MPE\n",
       "opjTQqy/FoJ+heWErJf+BkX0sCjWGpJ1qdx13T+fgq/nwFO7PS7ddXff1PwcR2i0T0fBVnaXkfih\n",
       "Zk21WiJTBIRyjjApLqOMWcpocGaWV2bXOE6dOMv6SaYP+vLfWFQTJ1RcnucpVX5ncVM9jYfegvWO\n",
       "kssturZaq7u/x5Gpw7TbL2kh1h2YkmeTdXb96Q4Z7NJ/j7GYYlzT+eaDnvPvj3G1y6Keg/7/YF3T\n",
       "grN++lpnevRn4AK1IY0b/BHztQAAAABJRU5ErkJggg==\n",
       "\" style=\"display:inline;vertical-align:middle;\" /></a></td></tr>\n",
       "<tr><td>3</td><td>Operation</td><td>operator:&nbsp;6<br>operands:&nbsp;5<br></td><td><a class=\"ProveItLink\" href=\"../b384a36784fa78888d1b559f9410904a6e04c8e90/expr.ipynb\"><img src=\"data:image/png;base64,iVBORw0KGgoAAAANSUhEUgAAAFAAAAAQBAMAAABzZ+XyAAAAMFBMVEX///+YmJh2dnbMzMwQEBAi\n",
       "IiLu7u6qqqqIiIhUVFS6urpEREQyMjJmZmbc3NwAAACOMKdoAAAAAXRSTlMAQObYZgAAAPlJREFU\n",
       "KM9j4Lt7egEDCmBW0i5gQAOWDAwvGTi+owq+ZeD6ga4wmoFhGgNDPITD9gBC6xcwfEUVYeDwZmBw\n",
       "SWCYD7GbvQEiWg9XCBNheHiageF8AsN9VIUMcKvhIgqnwVR8AppCngmoChkfgBUyf0LTb3SSAVUk\n",
       "gwGskGcDmkIGDi9UEQWIwtsM6AoZ/FEcw24AVsgBdhDvmTNHfc6cAbEfMzDsF0AWSWIAK6xl4HuA\n",
       "rJ/tfwJYIUKkcubMLzMYmC8APYVi9R9gODxAcwwwwJ8qKV1FdWMjAxd6OIAUxv//jxYP7HfvFKAp\n",
       "1Px/ESnikXyNUwQScQ34RACBpVEZou4rGgAAAABJRU5ErkJggg==\n",
       "\" style=\"display:inline;vertical-align:middle;\" /></a></td></tr>\n",
       "<tr><td>4</td><td>Operation</td><td>operator:&nbsp;6<br>operands:&nbsp;7<br></td><td><a class=\"ProveItLink\" href=\"../aedf14d01a0cf2113d81f22a8a6cf2570a5ad44b0/expr.ipynb\"><img src=\"data:image/png;base64,iVBORw0KGgoAAAANSUhEUgAAACwAAAAQBAMAAACfEoDkAAAAMFBMVEX///8iIiJERES6urqIiIjM\n",
       "zMxUVFRmZmYQEBCqqqp2dnbc3Nzu7u6YmJgyMjIAAADYGhJvAAAAAXRSTlMAQObYZgAAAJ1JREFU\n",
       "GNNj4LvDvZIBDYQxMHD8/78AXViIgYGvbCmUw7MBymBpYmBgg6vhdIAy9j7CKrwAJOziZoAqzLsB\n",
       "KMx0gOczqvARhkdgOgNVeAFUeH0AsjBnAEhYESgMNJz93buHfe/eJTAwnGIACTcyMNRvQFY9LS3t\n",
       "RwpDAQPDOzQHMgC9s52BsxuLMGt52gY04WX/a5ECCKEaBTAjCQMAzGYrnkEnJskAAAAASUVORK5C\n",
       "YII=\n",
       "\" style=\"display:inline;vertical-align:middle;\" /></a></td></tr>\n",
       "<tr><td>5</td><td>ExprTuple</td><td>8, 9, 11</td><td><a class=\"ProveItLink\" href=\"../fd479056cc2ee7215be10058a7ebcbd9e086ea210/expr.ipynb\"><img src=\"data:image/png;base64,iVBORw0KGgoAAAANSUhEUgAAAD0AAAAVBAMAAAAHs/uBAAAAMFBMVEX////c3NwiIiJERESqqqqY\n",
       "mJh2dnZmZmYQEBDu7u4yMjJUVFTMzMyIiIi6uroAAAAs73DqAAAAAXRSTlMAQObYZgAAAVFJREFU\n",
       "KM+Fki9Mw0AUxr92W9eu+4dCYKbQE2DJHAYxDAJBqraEhGQKEhQCQ0igEkcTQBDM/MSmQCCoXAIJ\n",
       "CxKzQSCkZuXdu7tWkIaK3vfeL/e9e/cO+O+rhploR/wegcXDNZW576xoWO6jOKL1FkYfry3OGT1M\n",
       "tZ3ZBAKgEsL1Yc44Z32h1lB8THwLsH3YJ3DnnMun3NgmfgG8A6UIxbkuq/2tEvFcC/uyWKT5nVo3\n",
       "Bbd6uOHoyVOH3u1L4YSC5wOccXiV9DyeSHsIXj0CFy42E27LShvMyzPJnxU0Rsh9s72n+bFoq4cF\n",
       "5peR4vnBYHgaCv9Vih7ouPBJ1AKYH6yoEO0vBOiS63Kn23A+KVdpY+qxkpz6e6Pm4zhuOOd1Sq4f\n",
       "XEMqa/jTRmkCu67nXMcfRfdbUDeDQtJiqvZ4vpncofliSQXpM0qUKwoZ2e/rBfgF0xZRBsRkoUUA\n",
       "AAAASUVORK5CYII=\n",
       "\" style=\"display:inline;vertical-align:middle;\" /></a></td></tr>\n",
       "<tr><td>6</td><td>Literal</td><td></td><td><a class=\"ProveItLink\" href=\"../3e6688136fa3c7aefbebe51301b7c3ebf0b69c440/expr.ipynb\"><img src=\"data:image/png;base64,iVBORw0KGgoAAAANSUhEUgAAAA4AAAAOBAMAAADtZjDiAAAAJFBMVEX///+6urpUVFQQEBAiIiIy\n",
       "MjJmZmaIiIiqqqrc3Nzu7u4AAACgHpL+AAAAAXRSTlMAQObYZgAAAB5JREFUCNdjYGBgWMkAAe2k\n",
       "0Kmhoc6hoUGk6BMHYgAHOwjcado9fwAAAABJRU5ErkJggg==\n",
       "\" style=\"display:inline;vertical-align:middle;\" /></a></td></tr>\n",
       "<tr><td>7</td><td>ExprTuple</td><td>10, 11</td><td><a class=\"ProveItLink\" href=\"../ad3afaab9da546e1778dd5bdc7be5b402dccb1030/expr.ipynb\"><img src=\"data:image/png;base64,iVBORw0KGgoAAAANSUhEUgAAACkAAAAVBAMAAAAp9toTAAAAMFBMVEX////c3NwiIiJERESqqqqY\n",
       "mJh2dnZmZmYQEBDu7u4yMjJUVFTMzMyIiIi6uroAAAAs73DqAAAAAXRSTlMAQObYZgAAAQhJREFU\n",
       "GNNjYMAO+C6gCcSBiNMMDEsniDlAhXg2MLAfANIrGRj6/3+DKWQyYGBYwMDACzRg+bYDMNEbQNEw\n",
       "BgaOCQwMG+BmMkYBRWcwMLxiQBZl4wKKMjswlAHZe+/ug4oGgkTZChiWAtmWDPMfgAU5L4BEWRYw\n",
       "9IG53A0QAxhAonwNDP8g3D9gygcsyvMBJMqswMAGluRMgIm2AB2nwMD+ESTKsnv3/u4LIBNMGRjY\n",
       "GRi4FjBMAJvBAVTLuoAhHej0AgYPAc5PcFGgyx4BmcerNzJw9guAbN3/PYCB6wEDhwAsRGEMkI9Z\n",
       "E6BsVri3cyEhiSrKCQxJBmkoBx4l3CCjGNFj6A4DAwCwJDoZ9yoA1QAAAABJRU5ErkJggg==\n",
       "\" style=\"display:inline;vertical-align:middle;\" /></a></td></tr>\n",
       "<tr><td>8</td><td>Literal</td><td></td><td><a class=\"ProveItLink\" href=\"../../../numeral/__pv_it/77d407a64829263cdc16415becd4c2293f77a4bf0/expr.ipynb\"><img src=\"data:image/png;base64,iVBORw0KGgoAAAANSUhEUgAAAAkAAAAOBAMAAAAPuiubAAAAMFBMVEX///+YmJh2dnbMzMwQEBAi\n",
       "IiLu7u6qqqqIiIhUVFS6urpEREQyMjJmZmbc3NwAAACOMKdoAAAAAXRSTlMAQObYZgAAAFBJREFU\n",
       "CNdj4Lt7egEDw0sGju8MDNMYGOIZGFwSGOYvYDifwHAfKAEUSQASzJ9ATJ4NIPI2iOCYACJrGfge\n",
       "MDBfYGB8wPBUSekqUPH//18ZAIliFhc3zESNAAAAAElFTkSuQmCC\n",
       "\" style=\"display:inline;vertical-align:middle;\" /></a></td></tr>\n",
       "<tr><td>9</td><td>Literal</td><td></td><td><a class=\"ProveItLink\" href=\"../../../numeral/__pv_it/9176d93c83afa2c995b614976e3cb49207102fa70/expr.ipynb\"><img src=\"data:image/png;base64,iVBORw0KGgoAAAANSUhEUgAAAAoAAAAOBAMAAADkjZCYAAAAMFBMVEX///+YmJju7u4QEBBUVFQy\n",
       "MjIiIiKIiIi6urpmZmbc3NyqqqpERER2dnbMzMwAAAB0GlNiAAAAAXRSTlMAQObYZgAAAE1JREFU\n",
       "CNdjYHh79zQDA9cEhv4CBt7fDPwJDNxgEgiAIkAQAsR8Vx1ATIbiBhDJ/ImB6wEDz0cG/U8gkj+A\n",
       "ge0XA7sAQ/8FBoadM6MZAEflFACalZ/OAAAAAElFTkSuQmCC\n",
       "\" style=\"display:inline;vertical-align:middle;\" /></a></td></tr>\n",
       "<tr><td>10</td><td>Literal</td><td></td><td><a class=\"ProveItLink\" href=\"../../../numeral/__pv_it/aaeeaca7d86eb2b7cdc49e25c3108b81b52ec5400/expr.ipynb\"><img src=\"data:image/png;base64,iVBORw0KGgoAAAANSUhEUgAAAAkAAAAOBAMAAAAPuiubAAAAMFBMVEX///8iIiJERES6urqIiIjM\n",
       "zMxUVFRmZmYQEBCqqqp2dnbc3Nzu7u6YmJgyMjIAAADYGhJvAAAAAXRSTlMAQObYZgAAAE1JREFU\n",
       "CNdj4LvDvZKBgeP//wUMDHxlSxkYGNgYGBCki5sBAwPTAZ7PYG4GmFwfwKAIJA0YGhkY6jcwFDAw\n",
       "vGNg2M7A2c3AwFqetoEBAKS8EE1WXEJLAAAAAElFTkSuQmCC\n",
       "\" style=\"display:inline;vertical-align:middle;\" /></a></td></tr>\n",
       "<tr><td>11</td><td>Literal</td><td></td><td><a class=\"ProveItLink\" href=\"../../../numeral/__pv_it/23412ce59ea7e77353d2f9225e02248e73651ca00/expr.ipynb\"><img src=\"data:image/png;base64,iVBORw0KGgoAAAANSUhEUgAAAAoAAAAPBAMAAAAv0UM9AAAALVBMVEX///9mZmaqqqru7u52dnYy\n",
       "MjKYmJjc3NwQEBCIiIhEREQiIiJUVFTMzMwAAACUDTcXAAAAAXRSTlMAQObYZgAAAD5JREFUCNdj\n",
       "YGBguMMAArtABGcXiCyLApEOIJKtAERaMoBIBxDJdAFEmjCASJ0zZ16cBCkF64KQPu/EwBwGACv6\n",
       "DSRgin9qAAAAAElFTkSuQmCC\n",
       "\" style=\"display:inline;vertical-align:middle;\" /></a></td></tr>\n",
       "</table>\n"
      ],
      "text/plain": [
       "0. (2 + 3 + 4) = (5 + 4)\n",
       "   core type: Operation\n",
       "   operator: 1\n",
       "   operands: 2\n",
       "1. =\n",
       "   core type: Literal\n",
       "   sub-expressions: \n",
       "2. (2 + 3 + 4 , 5 + 4)\n",
       "   core type: ExprTuple\n",
       "   sub-expressions: 3, 4\n",
       "3. 2 + 3 + 4\n",
       "   core type: Operation\n",
       "   operator: 6\n",
       "   operands: 5\n",
       "4. 5 + 4\n",
       "   core type: Operation\n",
       "   operator: 6\n",
       "   operands: 7\n",
       "5. (2 , 3 , 4)\n",
       "   core type: ExprTuple\n",
       "   sub-expressions: 8, 9, 11\n",
       "6. +\n",
       "   core type: Literal\n",
       "   sub-expressions: \n",
       "7. (5 , 4)\n",
       "   core type: ExprTuple\n",
       "   sub-expressions: 10, 11\n",
       "8. 2\n",
       "   core type: Literal\n",
       "   sub-expressions: \n",
       "9. 3\n",
       "   core type: Literal\n",
       "   sub-expressions: \n",
       "10. 5\n",
       "    core type: Literal\n",
       "    sub-expressions: \n",
       "11. 4\n",
       "    core type: Literal\n",
       "    sub-expressions: "
      ]
     },
     "execution_count": 4,
     "metadata": {},
     "output_type": "execute_result"
    }
   ],
   "source": [
    "# display the expression information\n",
    "expr.exprInfo()"
   ]
  },
  {
   "cell_type": "code",
   "execution_count": null,
   "metadata": {},
   "outputs": [],
   "source": []
  }
 ],
 "metadata": {
  "kernelspec": {
   "display_name": "Python 3",
   "language": "python",
   "name": "python3"
  }
 },
 "nbformat": 4,
 "nbformat_minor": 0
}
