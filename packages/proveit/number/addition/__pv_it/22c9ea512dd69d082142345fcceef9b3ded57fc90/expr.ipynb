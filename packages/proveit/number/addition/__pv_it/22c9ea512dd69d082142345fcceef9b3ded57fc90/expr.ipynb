{
 "cells": [
  {
   "cell_type": "markdown",
   "metadata": {},
   "source": [
    "Expression of type <a class=\"ProveItLink\" href=\"../../../../../../doc/html/api/proveit.logic.InSet.html\">InSet</a>\n",
    "=======================\n",
    "# from context <a class=\"ProveItLink\" href=\"../../_context_.ipynb\">proveit.number.addition</a>"
   ]
  },
  {
   "cell_type": "code",
   "execution_count": 1,
   "metadata": {},
   "outputs": [],
   "source": [
    "# import Expression classes needed to build the expression\n",
    "from proveit.logic import InSet\n",
    "from proveit.number import RealsPos, two"
   ]
  },
  {
   "cell_type": "code",
   "execution_count": 2,
   "metadata": {},
   "outputs": [
    {
     "data": {
      "text/html": [
       "<strong id=\"expr\">expr:</strong> <a class=\"ProveItLink\" href=\"expr.ipynb\"><img src=\"data:image/png;base64,iVBORw0KGgoAAAANSUhEUgAAAD4AAAAUBAMAAAAn2JMnAAAAMFBMVEX///+YmJh2dnbMzMwQEBAi\n",
       "IiLu7u6qqqqIiIhUVFS6urpEREQyMjJmZmbc3NwAAACOMKdoAAAAAXRSTlMAQObYZgAAAOlJREFU\n",
       "KM9jYMADChjwgw10kOe7e3oBiiDj+d1/jpyAy79k4PiOqoubbwLz9nMMnGfO+Jw5wTCNgSEeXf4C\n",
       "w7bXMP0uCQzzIRZkHA2Ngckrc8Pkzycw3AfLMx9MQOhHyANBPFjidQKS+dNeI+SZP4GpfUj2cwWe\n",
       "A7EmgPk8YGVsGxDyrqHHkdx7G0xyuYaGwtx368I2hDQHxBTmCUjm37JEyNcy8D0AmR+AJM+TIQDj\n",
       "MV9gYATJM0xEkmeeMBnGe6qkdBXMSF2A5D917gdQXvz//1/BDL6zBrD4+W3As+c7Rmyyz4G4HwUA\n",
       "AC4MTGT+qtFHAAAAAElFTkSuQmCC\n",
       "\" style=\"display:inline;vertical-align:middle;\" /></a><br>"
      ],
      "text/plain": [
       "expr: 2 in RealsPos"
      ]
     },
     "execution_count": 2,
     "metadata": {},
     "output_type": "execute_result"
    }
   ],
   "source": [
    "# build up the expression from sub-expressions\n",
    "expr = InSet(two, RealsPos)"
   ]
  },
  {
   "cell_type": "code",
   "execution_count": 3,
   "metadata": {},
   "outputs": [
    {
     "name": "stdout",
     "output_type": "stream",
     "text": [
      "Passed sanity check: built 'expr' is the same as the stored Expression.\n"
     ]
    }
   ],
   "source": [
    "# check that the built expression is the same as the stored expression\n",
    "%check_expr"
   ]
  },
  {
   "cell_type": "code",
   "execution_count": 4,
   "metadata": {},
   "outputs": [
    {
     "data": {
      "text/html": [
       "<table><tr><th>&nbsp;</th><th>core type</th><th>sub-expressions</th><th>expression</th></tr>\n",
       "<tr><td>0</td><td>Operation</td><td>operator:&nbsp;1<br>operands:&nbsp;2<br></td><td><a class=\"ProveItLink\" href=\"expr.ipynb\"><img src=\"data:image/png;base64,iVBORw0KGgoAAAANSUhEUgAAAD4AAAAUBAMAAAAn2JMnAAAAMFBMVEX///+YmJh2dnbMzMwQEBAi\n",
       "IiLu7u6qqqqIiIhUVFS6urpEREQyMjJmZmbc3NwAAACOMKdoAAAAAXRSTlMAQObYZgAAAOlJREFU\n",
       "KM9jYMADChjwgw10kOe7e3oBiiDj+d1/jpyAy79k4PiOqoubbwLz9nMMnGfO+Jw5wTCNgSEeXf4C\n",
       "w7bXMP0uCQzzIRZkHA2Ngckrc8Pkzycw3AfLMx9MQOhHyANBPFjidQKS+dNeI+SZP4GpfUj2cwWe\n",
       "A7EmgPk8YGVsGxDyrqHHkdx7G0xyuYaGwtx368I2hDQHxBTmCUjm37JEyNcy8D0AmR+AJM+TIQDj\n",
       "MV9gYATJM0xEkmeeMBnGe6qkdBXMSF2A5D917gdQXvz//1/BDL6zBrD4+W3As+c7Rmyyz4G4HwUA\n",
       "AC4MTGT+qtFHAAAAAElFTkSuQmCC\n",
       "\" style=\"display:inline;vertical-align:middle;\" /></a></td></tr>\n",
       "<tr><td>1</td><td>Literal</td><td></td><td><a class=\"ProveItLink\" href=\"../../../../logic/set_theory/membership/__pv_it/088cbc857536a28d4119ad9639a84270ccb0545d0/expr.ipynb\"><img src=\"data:image/png;base64,iVBORw0KGgoAAAANSUhEUgAAAAwAAAAMBAMAAACkW0HUAAAALVBMVEX///+qqqpmZmZUVFQQEBC6\n",
       "urpERETc3NyYmJjMzMwiIiIyMjKIiIju7u4AAACYsrA9AAAAAXRSTlMAQObYZgAAADxJREFUCNdj\n",
       "YOA9vWrVBgaG2b0MQMCeCyIZ2ArA1DUwyRCyahVIyWQI7xaEYm4AU7xLIdxqTQgtvGvVBgCkcQ7e\n",
       "geM/tQAAAABJRU5ErkJggg==\n",
       "\" style=\"display:inline;vertical-align:middle;\" /></a></td></tr>\n",
       "<tr><td>2</td><td>ExprTuple</td><td>3, 4</td><td><a class=\"ProveItLink\" href=\"../0bab134a3b9ccc22b97947855451018844ad44880/expr.ipynb\"><img src=\"data:image/png;base64,iVBORw0KGgoAAAANSUhEUgAAAD4AAAAbBAMAAADWjiHyAAAAMFBMVEX///+qqqp2dnYiIiJERESI\n",
       "iIhmZmYQEBDc3NyYmJgyMjLu7u5UVFTMzMy6uroAAACGxKilAAAAAXRSTlMAQObYZgAAAVhJREFU\n",
       "KM9jYMAOGBHMd9jkWUCEAojgPYBT/g6I2LUBpzxrAJA4yYBTnsGCgYGjAIjTljwA82d98V9VFYCQ\n",
       "j2FgYEtgYOhhYP0I0ebQw3BFqoHh1Krlq1YB1e3fwMAO1HmagcEeKt/GwLLDAa6feQLDfSBVvoHh\n",
       "/AOYPNMFhDybA0M4kFq/gSEfqzznB4ZTEIPtN8DkeZDM5/vN4ANm8H6C2/94VgOQwQMR/suwDMzg\n",
       "coDKtxtbCSBCgeMfgxmYkcIA0/+MBSk8uT9C5FkPwOXZ3h5A0b8GRIsxcDTA7F8diST/l+EIyBkJ\n",
       "DJwN3FD5OzwX4PJ8PxiCgVSzklIyw34DqP8FPODyQP+/B3n+///PDNt/gOPHl2HJergPmBYw8MNN\n",
       "e4EZy1wBDDwKMM4ETPn9DQy8BnjkpwCxI5TNiiUV2QJxFwNOwJkASukKOOVbwOREnPLZDAQBAFBe\n",
       "WsXO8/hlAAAAAElFTkSuQmCC\n",
       "\" style=\"display:inline;vertical-align:middle;\" /></a></td></tr>\n",
       "<tr><td>3</td><td>Literal</td><td></td><td><a class=\"ProveItLink\" href=\"../../../numeral/__pv_it/77d407a64829263cdc16415becd4c2293f77a4bf0/expr.ipynb\"><img src=\"data:image/png;base64,iVBORw0KGgoAAAANSUhEUgAAAAkAAAAOBAMAAAAPuiubAAAAMFBMVEX///+YmJh2dnbMzMwQEBAi\n",
       "IiLu7u6qqqqIiIhUVFS6urpEREQyMjJmZmbc3NwAAACOMKdoAAAAAXRSTlMAQObYZgAAAFBJREFU\n",
       "CNdj4Lt7egEDw0sGju8MDNMYGOIZGFwSGOYvYDifwHAfKAEUSQASzJ9ATJ4NIPI2iOCYACJrGfge\n",
       "MDBfYGB8wPBUSekqUPH//18ZAIliFhc3zESNAAAAAElFTkSuQmCC\n",
       "\" style=\"display:inline;vertical-align:middle;\" /></a></td></tr>\n",
       "<tr><td>4</td><td>Literal</td><td></td><td><a class=\"ProveItLink\" href=\"../../../sets/real/__pv_it/399ccec6a6e90df280e82734a8711cdb89199bc00/expr.ipynb\"><img src=\"data:image/png;base64,iVBORw0KGgoAAAANSUhEUgAAABsAAAATBAMAAACTqWsLAAAAMFBMVEX///8iIiK6urp2dnbu7u5m\n",
       "ZmaqqqrMzMxUVFTc3NyIiIgQEBBEREQyMjKYmJgAAAA9nvXMAAAAAXRSTlMAQObYZgAAAGxJREFU\n",
       "GNNjYIADNgYUwEMy9+2f83f3LkDIHpjBUJM7gaH37u27d4HCB6Yy8HgeQMhOZWAuwMflQFWs+HYC\n",
       "kMEB4c4WlE1A2H5gqiqPAzKXVb0BmctwZR0Kt4KjAJnLnHASxgN64TjDnftQswFmaSyXIBgH2QAA\n",
       "AABJRU5ErkJggg==\n",
       "\" style=\"display:inline;vertical-align:middle;\" /></a></td></tr>\n",
       "</table>\n"
      ],
      "text/plain": [
       "0. 2 in RealsPos\n",
       "   core type: Operation\n",
       "   operator: 1\n",
       "   operands: 2\n",
       "1. in\n",
       "   core type: Literal\n",
       "   sub-expressions: \n",
       "2. (2 , RealsPos)\n",
       "   core type: ExprTuple\n",
       "   sub-expressions: 3, 4\n",
       "3. 2\n",
       "   core type: Literal\n",
       "   sub-expressions: \n",
       "4. RealsPos\n",
       "   core type: Literal\n",
       "   sub-expressions: "
      ]
     },
     "execution_count": 4,
     "metadata": {},
     "output_type": "execute_result"
    }
   ],
   "source": [
    "# display the expression information\n",
    "expr.exprInfo()"
   ]
  },
  {
   "cell_type": "code",
   "execution_count": null,
   "metadata": {},
   "outputs": [],
   "source": []
  }
 ],
 "metadata": {
  "kernelspec": {
   "display_name": "Python 3",
   "language": "python",
   "name": "python3"
  }
 },
 "nbformat": 4,
 "nbformat_minor": 0
}
