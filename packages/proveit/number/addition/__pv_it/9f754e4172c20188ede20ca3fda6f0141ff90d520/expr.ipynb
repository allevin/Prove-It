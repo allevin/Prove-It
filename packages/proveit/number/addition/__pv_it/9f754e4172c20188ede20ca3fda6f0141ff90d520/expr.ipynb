{
 "cells": [
  {
   "cell_type": "markdown",
   "metadata": {},
   "source": [
    "Expression of type <a class=\"ProveItLink\" href=\"../../../../../../doc/html/api/proveit.ExprTuple.html\">ExprTuple</a>\n",
    "=======================\n",
    "# from context <a class=\"ProveItLink\" href=\"../../_context_.ipynb\">proveit.number.addition</a>"
   ]
  },
  {
   "cell_type": "code",
   "execution_count": 1,
   "metadata": {},
   "outputs": [],
   "source": [
    "# import Expression classes needed to build the expression\n",
    "from proveit import ExprTuple\n",
    "from proveit._common_ import A, B, C, a, b, c\n",
    "from proveit.number import one, three"
   ]
  },
  {
   "cell_type": "code",
   "execution_count": 2,
   "metadata": {},
   "outputs": [
    {
     "data": {
      "text/html": [
       "<strong id=\"expr\">expr:</strong> <a class=\"ProveItLink\" href=\"expr.ipynb\"><img src=\"data:image/png;base64,iVBORw0KGgoAAAANSUhEUgAAANkAAAAVBAMAAAA5ulaKAAAAMFBMVEX////c3NwiIiJERESqqqqY\n",
       "mJh2dnZmZmYQEBDu7u4yMjJUVFTMzMyIiIi6uroAAAAs73DqAAAAAXRSTlMAQObYZgAAAw1JREFU\n",
       "SMe9VktoE1EUPWlmkkwzmQQsCCq0G6mumo1QV52dyw4KLrUgVF1oA2IrdZEq4qKgGVyVVmxcSNWC\n",
       "CgqCQ2lQEKGLBkSKaNvUjZ9VrP2QfozvN5+8aZc2kNfz7r3vnnd/LwX29mOU94joDF1mZOnbANbb\n",
       "+N+xm54oagugTm86L5+5Yu3j66uRnOTKtdV7z5mIlwh6IrM9D+DmqgCTntculw2JLJCviM0FC8Y1\n",
       "q9GTZ7sfxjZQBFJyItUO29+crAmw4jpwpj31LDk6+4Lj0aNk6cs0knm2fSaWgdPkgrbE1pL3z0RO\n",
       "/BbFrXmyRe/AIjE828PxYyr9IafJte1mbCPAL9mivFjxcCr1l4NY2w5sneR7hO/iKzxhu7CBZTJq\n",
       "op+GMHX5hie2u/3s/1RWRf2mvlghD5vAgeMcthbpel9ksHe+JNs2k4zHcnhEM5CJut2AB6wc4lhF\n",
       "3+ZoPIstmU3fnJ87LHA+2B8fKs1tku172mVKEXdJaKuIZ13TClq9PjYQWReJt3FbZkuRmt4TTdIR\n",
       "6A/tDqKWHFuK8BhDIIVJVtHkxqM7zrTHPOM4fzgaBNZltugQcSIyXWcr1ySrO9QNBRt6lbKlsxgv\n",
       "eeEgUfTjxDBH7TBWZQ9pEpe6JnzRReFO0tkQ2yGgy6Jst0iJy+gW94IJNA0JW4X2nDtu8ZrMNkvS\n",
       "lRRzyAYrLjqmLLNpdZuykUweIy1g4o1S0tiAmfz9YFYt/GGhii0kesSFqAfbHTfai7YYdFzkOE1u\n",
       "YWkNthussmoR54l7S2mPYZz20SitRw3aMr0RzSh5e6jiFa5zIfPAERk3fVhsVBLj9wzHyRxiJebN\n",
       "s/0EY41NwDc6bgvvFjBCWmxf4SHUro2cVsgg0rmRwan6BFOMzVmgQmCgMGExdKXuOE9JGFw8Mzlg\n",
       "urh//jM75NsqA4M0aRUkvN5dCv4MBV+8pZCwQR3cGGFvvoi8XGqPuwkOqBp8f6yQsEGt7oitsOhS\n",
       "8Bfnf7OxPjjoTnvD0xzAqbCwvJttOXTIFyVpSiN79Z/CV+AfMzb3+oWP6mAAAAAASUVORK5CYII=\n",
       "\" style=\"display:inline;vertical-align:middle;\" /></a><br>"
      ],
      "text/plain": [
       "expr: (a , A , A , b , 1 , B , C , c , 1 , 3)"
      ]
     },
     "execution_count": 2,
     "metadata": {},
     "output_type": "execute_result"
    }
   ],
   "source": [
    "# build up the expression from sub-expressions\n",
    "expr = ExprTuple(a, A, A, b, one, B, C, c, one, three)"
   ]
  },
  {
   "cell_type": "code",
   "execution_count": 3,
   "metadata": {},
   "outputs": [
    {
     "name": "stdout",
     "output_type": "stream",
     "text": [
      "Passed sanity check: built 'expr' is the same as the stored Expression.\n"
     ]
    }
   ],
   "source": [
    "# check that the built expression is the same as the stored expression\n",
    "%check_expr"
   ]
  },
  {
   "cell_type": "code",
   "execution_count": 4,
   "metadata": {},
   "outputs": [
    {
     "data": {
      "text/html": [
       "<table><tr><th>&nbsp;</th><th>core type</th><th>sub-expressions</th><th>expression</th></tr>\n",
       "<tr><td>0</td><td>ExprTuple</td><td>1, 2, 2, 3, 7, 4, 5, 6, 7, 8</td><td><a class=\"ProveItLink\" href=\"expr.ipynb\"><img src=\"data:image/png;base64,iVBORw0KGgoAAAANSUhEUgAAANkAAAAVBAMAAAA5ulaKAAAAMFBMVEX////c3NwiIiJERESqqqqY\n",
       "mJh2dnZmZmYQEBDu7u4yMjJUVFTMzMyIiIi6uroAAAAs73DqAAAAAXRSTlMAQObYZgAAAw1JREFU\n",
       "SMe9VktoE1EUPWlmkkwzmQQsCCq0G6mumo1QV52dyw4KLrUgVF1oA2IrdZEq4qKgGVyVVmxcSNWC\n",
       "CgqCQ2lQEKGLBkSKaNvUjZ9VrP2QfozvN5+8aZc2kNfz7r3vnnd/LwX29mOU94joDF1mZOnbANbb\n",
       "+N+xm54oagugTm86L5+5Yu3j66uRnOTKtdV7z5mIlwh6IrM9D+DmqgCTntculw2JLJCviM0FC8Y1\n",
       "q9GTZ7sfxjZQBFJyItUO29+crAmw4jpwpj31LDk6+4Lj0aNk6cs0knm2fSaWgdPkgrbE1pL3z0RO\n",
       "/BbFrXmyRe/AIjE828PxYyr9IafJte1mbCPAL9mivFjxcCr1l4NY2w5sneR7hO/iKzxhu7CBZTJq\n",
       "op+GMHX5hie2u/3s/1RWRf2mvlghD5vAgeMcthbpel9ksHe+JNs2k4zHcnhEM5CJut2AB6wc4lhF\n",
       "3+ZoPIstmU3fnJ87LHA+2B8fKs1tku172mVKEXdJaKuIZ13TClq9PjYQWReJt3FbZkuRmt4TTdIR\n",
       "6A/tDqKWHFuK8BhDIIVJVtHkxqM7zrTHPOM4fzgaBNZltugQcSIyXWcr1ySrO9QNBRt6lbKlsxgv\n",
       "eeEgUfTjxDBH7TBWZQ9pEpe6JnzRReFO0tkQ2yGgy6Jst0iJy+gW94IJNA0JW4X2nDtu8ZrMNkvS\n",
       "lRRzyAYrLjqmLLNpdZuykUweIy1g4o1S0tiAmfz9YFYt/GGhii0kesSFqAfbHTfai7YYdFzkOE1u\n",
       "YWkNthussmoR54l7S2mPYZz20SitRw3aMr0RzSh5e6jiFa5zIfPAERk3fVhsVBLj9wzHyRxiJebN\n",
       "s/0EY41NwDc6bgvvFjBCWmxf4SHUro2cVsgg0rmRwan6BFOMzVmgQmCgMGExdKXuOE9JGFw8Mzlg\n",
       "urh//jM75NsqA4M0aRUkvN5dCv4MBV+8pZCwQR3cGGFvvoi8XGqPuwkOqBp8f6yQsEGt7oitsOhS\n",
       "8Bfnf7OxPjjoTnvD0xzAqbCwvJttOXTIFyVpSiN79Z/CV+AfMzb3+oWP6mAAAAAASUVORK5CYII=\n",
       "\" style=\"display:inline;vertical-align:middle;\" /></a></td></tr>\n",
       "<tr><td>1</td><td>Variable</td><td></td><td><a class=\"ProveItLink\" href=\"../../../../__pv_it/07527342713064c87612d00d8557c53d53d5324a0/expr.ipynb\"><img src=\"data:image/png;base64,iVBORw0KGgoAAAANSUhEUgAAAAsAAAAJBAMAAAAWSsseAAAAMFBMVEX///8yMjKqqqrMzMzu7u4i\n",
       "IiJmZmaYmJhEREQQEBC6urp2dnaIiIhUVFTc3NwAAAD87Fq/AAAAAXRSTlMAQObYZgAAAEhJREFU\n",
       "CNdjYOC7s2seAwPDygccHxgY+L4zsDUwMPB+YGA9wMDA38Dgb8DA8P4Agz6DA4O/AsNFJgMGxgKm\n",
       "MG6gyjunLE4xAAAZTBA5TB6DCwAAAABJRU5ErkJggg==\n",
       "\" style=\"display:inline;vertical-align:middle;\" /></a></td></tr>\n",
       "<tr><td>2</td><td>Variable</td><td></td><td><a class=\"ProveItLink\" href=\"../../../../__pv_it/2cbe72a7ad6f655694dd697106680215e8489b600/expr.ipynb\"><img src=\"data:image/png;base64,iVBORw0KGgoAAAANSUhEUgAAAA8AAAAOBAMAAAACpFvcAAAALVBMVEX///8QEBBERERUVFS6urqI\n",
       "iIhmZmaqqqrc3Nzu7u6YmJgyMjIiIiLMzMwAAADtIaYWAAAAAXRSTlMAQObYZgAAAFtJREFUCNdj\n",
       "YACBOwxQsA9Kc52bAGG05zVAGAFxDmCaZULdAjBjCsO9ADDDgaEvAUTzGhvbKYCVMDAwbgAxChgY\n",
       "eASANAeQwf0AyJgNxEwvGRia5HYwcOm9TgAA6BoR3jrzwFcAAAAASUVORK5CYII=\n",
       "\" style=\"display:inline;vertical-align:middle;\" /></a></td></tr>\n",
       "<tr><td>3</td><td>Variable</td><td></td><td><a class=\"ProveItLink\" href=\"../../../../__pv_it/6840a4fa6c106149dc16a131294d0c5e44f1b0480/expr.ipynb\"><img src=\"data:image/png;base64,iVBORw0KGgoAAAANSUhEUgAAAAkAAAAOBAMAAAAPuiubAAAALVBMVEX///9mZmbMzMxERESYmJiI\n",
       "iIh2dna6urqqqqoyMjIiIiIQEBBUVFTu7u4AAAD9S1JeAAAAAXRSTlMAQObYZgAAAE1JREFUCNdj\n",
       "4D29gAEIOA+ASL4GEFl3AURmgQiGOaFHGBh4HzPwKTBwvGXgTmBgnMDAJ8DAJcBQ5wBSLncBJLWN\n",
       "gYGngRFoBO9REQYGAGrcDtUkVqASAAAAAElFTkSuQmCC\n",
       "\" style=\"display:inline;vertical-align:middle;\" /></a></td></tr>\n",
       "<tr><td>4</td><td>Variable</td><td></td><td><a class=\"ProveItLink\" href=\"../../../../__pv_it/077b2ff79244fb4582cbe22c6e3356fa92a52f2f0/expr.ipynb\"><img src=\"data:image/png;base64,iVBORw0KGgoAAAANSUhEUgAAABAAAAAOBAMAAADUAYG5AAAAMFBMVEX///+qqqru7u4iIiJ2dnbc\n",
       "3NyIiIjMzMxmZmYQEBC6uroyMjJERERUVFSYmJgAAADLUcuvAAAAAXRSTlMAQObYZgAAAGpJREFU\n",
       "CNdjYGB4+//u3dMLGIBgDgMDxy8gzf4NiP8CGWxfGRj4vgAZPBMYGJgnARn8FxhY9ygAGfXX0pof\n",
       "gDTlBzAw2YIYJ0EckBBI53sHoBH/gIz7AhBjWH9DjancBLTl/N+7t/cxMAAA3u4f/5xagjYAAAAA\n",
       "SUVORK5CYII=\n",
       "\" style=\"display:inline;vertical-align:middle;\" /></a></td></tr>\n",
       "<tr><td>5</td><td>Variable</td><td></td><td><a class=\"ProveItLink\" href=\"../../../../__pv_it/985a1bdf1540838275dec15f4ad6de261cca93ce0/expr.ipynb\"><img src=\"data:image/png;base64,iVBORw0KGgoAAAANSUhEUgAAAA8AAAAOBAMAAAACpFvcAAAAMFBMVEX////MzMyqqqoiIiIyMjK6\n",
       "uroQEBB2dnbc3NyYmJhmZmZUVFRERESIiIju7u4AAAB204erAAAAAXRSTlMAQObYZgAAAGZJREFU\n",
       "CNdjYGDgu7NrJccCBgaGsgkMrMsmMDA8sQNy6hsYGNweABlhDAxcn4A0QxcDQ78DiPGQgWH9BAYI\n",
       "sG+AMv6DSaCGfBDNJMDAsB+kmwuI5S8AiTog5gSaEwXWIO29SgFIAQBC+RaDQlidVgAAAABJRU5E\n",
       "rkJggg==\n",
       "\" style=\"display:inline;vertical-align:middle;\" /></a></td></tr>\n",
       "<tr><td>6</td><td>Variable</td><td></td><td><a class=\"ProveItLink\" href=\"../../../../__pv_it/cbdfda466482236edba0ce44ac7ef39cda0af7a40/expr.ipynb\"><img src=\"data:image/png;base64,iVBORw0KGgoAAAANSUhEUgAAAAkAAAAJBAMAAAASvxsjAAAALVBMVEX///9mZmbc3NxUVFSYmJhE\n",
       "REQiIiIyMjK6uroQEBDMzMyIiIh2dnbu7u4AAABgFDGoAAAAAXRSTlMAQObYZgAAADZJREFUCNdj\n",
       "YOA9s3sBA8PKBvYEBt7ZDKwODMwPGICALwBE6m0Asx0YGIDiAgw8QJUyu/cyAAAmuwmycZ8WfQAA\n",
       "AABJRU5ErkJggg==\n",
       "\" style=\"display:inline;vertical-align:middle;\" /></a></td></tr>\n",
       "<tr><td>7</td><td>Literal</td><td></td><td><a class=\"ProveItLink\" href=\"../../../numeral/__pv_it/9be8badea4c35b9724062cecc501d17a3158d1d20/expr.ipynb\"><img src=\"data:image/png;base64,iVBORw0KGgoAAAANSUhEUgAAAAgAAAAPBAMAAAArJJMAAAAAHlBMVEX///+YmJgyMjIQEBBmZmaI\n",
       "iIhUVFTu7u5EREQAAAAw+MI4AAAAAXRSTlMAQObYZgAAACFJREFUCNdjYGBoZ2BgqJjOwFCWBiQY\n",
       "WEklWJwnOTKAAACjEQo8HvEr3AAAAABJRU5ErkJggg==\n",
       "\" style=\"display:inline;vertical-align:middle;\" /></a></td></tr>\n",
       "<tr><td>8</td><td>Literal</td><td></td><td><a class=\"ProveItLink\" href=\"../../../numeral/__pv_it/9176d93c83afa2c995b614976e3cb49207102fa70/expr.ipynb\"><img src=\"data:image/png;base64,iVBORw0KGgoAAAANSUhEUgAAAAoAAAAOBAMAAADkjZCYAAAAMFBMVEX///+YmJju7u4QEBBUVFQy\n",
       "MjIiIiKIiIi6urpmZmbc3NyqqqpERER2dnbMzMwAAAB0GlNiAAAAAXRSTlMAQObYZgAAAE1JREFU\n",
       "CNdjYHh79zQDA9cEhv4CBt7fDPwJDNxgEgiAIkAQAsR8Vx1ATIbiBhDJ/ImB6wEDz0cG/U8gkj+A\n",
       "ge0XA7sAQ/8FBoadM6MZAEflFACalZ/OAAAAAElFTkSuQmCC\n",
       "\" style=\"display:inline;vertical-align:middle;\" /></a></td></tr>\n",
       "</table>\n"
      ],
      "text/plain": [
       "0. (a , A , A , b , 1 , B , C , c , 1 , 3)\n",
       "   core type: ExprTuple\n",
       "   sub-expressions: 1, 2, 2, 3, 7, 4, 5, 6, 7, 8\n",
       "1. a\n",
       "   core type: Variable\n",
       "   sub-expressions: \n",
       "2. A\n",
       "   core type: Variable\n",
       "   sub-expressions: \n",
       "3. b\n",
       "   core type: Variable\n",
       "   sub-expressions: \n",
       "4. B\n",
       "   core type: Variable\n",
       "   sub-expressions: \n",
       "5. C\n",
       "   core type: Variable\n",
       "   sub-expressions: \n",
       "6. c\n",
       "   core type: Variable\n",
       "   sub-expressions: \n",
       "7. 1\n",
       "   core type: Literal\n",
       "   sub-expressions: \n",
       "8. 3\n",
       "   core type: Literal\n",
       "   sub-expressions: "
      ]
     },
     "execution_count": 4,
     "metadata": {},
     "output_type": "execute_result"
    }
   ],
   "source": [
    "# display the expression information\n",
    "expr.exprInfo()"
   ]
  },
  {
   "cell_type": "code",
   "execution_count": null,
   "metadata": {},
   "outputs": [],
   "source": []
  }
 ],
 "metadata": {
  "kernelspec": {
   "display_name": "Python 3",
   "language": "python",
   "name": "python3"
  }
 },
 "nbformat": 4,
 "nbformat_minor": 0
}
