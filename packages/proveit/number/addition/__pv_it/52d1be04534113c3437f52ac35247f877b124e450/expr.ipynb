{
 "cells": [
  {
   "cell_type": "markdown",
   "metadata": {},
   "source": [
    "Expression of type <a class=\"ProveItLink\" href=\"../../../../../../doc/html/api/proveit.logic.InSet.html\">InSet</a>\n",
    "=======================\n",
    "# from context <a class=\"ProveItLink\" href=\"../../_context_.ipynb\">proveit.number.addition</a>"
   ]
  },
  {
   "cell_type": "code",
   "execution_count": 1,
   "metadata": {},
   "outputs": [],
   "source": [
    "# import Expression classes needed to build the expression\n",
    "from proveit.logic import InSet\n",
    "from proveit.number import Exp, RealsPos, one"
   ]
  },
  {
   "cell_type": "code",
   "execution_count": 2,
   "metadata": {},
   "outputs": [
    {
     "data": {
      "text/html": [
       "<strong id=\"expr\">expr:</strong> <a class=\"ProveItLink\" href=\"expr.ipynb\"><img src=\"data:image/png;base64,iVBORw0KGgoAAAANSUhEUgAAAGUAAAAZBAMAAADasv1GAAAAMFBMVEX////c3NwiIiJERESqqqqY\n",
       "mJh2dnZmZmYQEBDu7u4yMjJUVFTMzMyIiIi6uroAAAAs73DqAAAAAXRSTlMAQObYZgAAAZlJREFU\n",
       "OMu9kztPAkEQgOfCQxAwl1hoQmOupDoT6UygprKmsiPxB2ghhTFUFoqWJjYaglyhWNhAIYklBddY\n",
       "a2gkxs7Cjjg7uzsrtxTYeAnsY76P2ZsdAP74ZP2F0bhWDjcWdmIs/6ezEtI88WZxKsIOIeQMxU4T\n",
       "oG45Q6h+lYKTkPPUtdMBSJfQWbYcjPh5eK640AtugyAkRDi5ENL9J3QSuxEFI+CvQezc13kEIpwU\n",
       "4vCKX+kjiV5dewWaiAg6yQE7AhHOBygHtuSltZoqj4jMOog4e98h7LNTo+1VrVAEnYw5m0KgxU6F\n",
       "1pv8Pi3pjKsuTjK0JRE4ZWdCRzYtKCL+ulcom7JM5DBlZ0T3eOx5qgZTyvMeaxpnNNfJdhmQztJn\n",
       "13IakbOZFmzI9+m8WGcrslOl9SMDRekMMwPekogs369aX3Cv1tT9lE0pVa3H+Dk4a+8A3NHaaeuf\n",
       "xQj26Dbc3HPlJAIpV61178R7unfcaNNqhFszGUYIq2kN0lHj5bz/wuzDSF6ND5aTj24w4siEuYHl\n",
       "OJHTauQHdERuLGq39TEAAAAASUVORK5CYII=\n",
       "\" style=\"display:inline;vertical-align:middle;\" /></a><br>"
      ],
      "text/plain": [
       "expr: (1) in (RealsPos)^{1}"
      ]
     },
     "execution_count": 2,
     "metadata": {},
     "output_type": "execute_result"
    }
   ],
   "source": [
    "# build up the expression from sub-expressions\n",
    "expr = InSet([one], Exp(RealsPos, one))"
   ]
  },
  {
   "cell_type": "code",
   "execution_count": 3,
   "metadata": {},
   "outputs": [
    {
     "name": "stdout",
     "output_type": "stream",
     "text": [
      "Passed sanity check: built 'expr' is the same as the stored Expression.\n"
     ]
    }
   ],
   "source": [
    "# check that the built expression is the same as the stored expression\n",
    "%check_expr"
   ]
  },
  {
   "cell_type": "code",
   "execution_count": 4,
   "metadata": {},
   "outputs": [
    {
     "data": {
      "text/html": [
       "<table><tr><th>&nbsp;</th><th>core type</th><th>sub-expressions</th><th>expression</th></tr>\n",
       "<tr><td>0</td><td>Operation</td><td>operator:&nbsp;1<br>operands:&nbsp;2<br></td><td><a class=\"ProveItLink\" href=\"expr.ipynb\"><img src=\"data:image/png;base64,iVBORw0KGgoAAAANSUhEUgAAAGUAAAAZBAMAAADasv1GAAAAMFBMVEX////c3NwiIiJERESqqqqY\n",
       "mJh2dnZmZmYQEBDu7u4yMjJUVFTMzMyIiIi6uroAAAAs73DqAAAAAXRSTlMAQObYZgAAAZlJREFU\n",
       "OMu9kztPAkEQgOfCQxAwl1hoQmOupDoT6UygprKmsiPxB2ghhTFUFoqWJjYaglyhWNhAIYklBddY\n",
       "a2gkxs7Cjjg7uzsrtxTYeAnsY76P2ZsdAP74ZP2F0bhWDjcWdmIs/6ezEtI88WZxKsIOIeQMxU4T\n",
       "oG45Q6h+lYKTkPPUtdMBSJfQWbYcjPh5eK640AtugyAkRDi5ENL9J3QSuxEFI+CvQezc13kEIpwU\n",
       "4vCKX+kjiV5dewWaiAg6yQE7AhHOBygHtuSltZoqj4jMOog4e98h7LNTo+1VrVAEnYw5m0KgxU6F\n",
       "1pv8Pi3pjKsuTjK0JRE4ZWdCRzYtKCL+ulcom7JM5DBlZ0T3eOx5qgZTyvMeaxpnNNfJdhmQztJn\n",
       "13IakbOZFmzI9+m8WGcrslOl9SMDRekMMwPekogs369aX3Cv1tT9lE0pVa3H+Dk4a+8A3NHaaeuf\n",
       "xQj26Dbc3HPlJAIpV61178R7unfcaNNqhFszGUYIq2kN0lHj5bz/wuzDSF6ND5aTj24w4siEuYHl\n",
       "OJHTauQHdERuLGq39TEAAAAASUVORK5CYII=\n",
       "\" style=\"display:inline;vertical-align:middle;\" /></a></td></tr>\n",
       "<tr><td>1</td><td>Literal</td><td></td><td><a class=\"ProveItLink\" href=\"../../../../logic/set_theory/membership/__pv_it/088cbc857536a28d4119ad9639a84270ccb0545d0/expr.ipynb\"><img src=\"data:image/png;base64,iVBORw0KGgoAAAANSUhEUgAAAAwAAAAMBAMAAACkW0HUAAAALVBMVEX///+qqqpmZmZUVFQQEBC6\n",
       "urpERETc3NyYmJjMzMwiIiIyMjKIiIju7u4AAACYsrA9AAAAAXRSTlMAQObYZgAAADxJREFUCNdj\n",
       "YOA9vWrVBgaG2b0MQMCeCyIZ2ArA1DUwyRCyahVIyWQI7xaEYm4AU7xLIdxqTQgtvGvVBgCkcQ7e\n",
       "geM/tQAAAABJRU5ErkJggg==\n",
       "\" style=\"display:inline;vertical-align:middle;\" /></a></td></tr>\n",
       "<tr><td>2</td><td>ExprTuple</td><td>3, 4</td><td><a class=\"ProveItLink\" href=\"../e6439f63e5e1d86d8c7b57695a123eebd111aad40/expr.ipynb\"><img src=\"data:image/png;base64,iVBORw0KGgoAAAANSUhEUgAAAGsAAAAcBAMAAACUtlxGAAAAMFBMVEX///+qqqp2dnYiIiJERESI\n",
       "iIhmZmYQEBDc3NyYmJgyMjLu7u5UVFTMzMy6uroAAACGxKilAAAAAXRSTlMAQObYZgAAAhRJREFU\n",
       "OMudlD9oU1EUxr+myWtiXuqDbk5Z6uBUKAjtlG4VWwwUEQchiCJu7VYUJAhWkEBrB4cONUOrmAjJ\n",
       "IEREaEEXg0OG4lRooVhKQePgIBZKz7n3nfNek0B5vZB7D/c7P975dwNEW1tRnPvE+PFF736fjcXV\n",
       "GgJixshsRsQs8KkeEcNNNr7x9tNeroZcB/Md2Kpg/UUgOSuBXgecVuC6jZW/NyqP8ooZkbEEeTsF\n",
       "Mi5QoB+OyCgHWBXIlbB1qYhm5W2lkrciY2nyHNi10X7+ztiyUgnyyy0g/jGnuS37GMaAHT4fsx9j\n",
       "DcUG6gaLtQKsIdg94BZnXxYs7gl2iC6MxKe1+2S8BpqcbFawWEGwuxZzQ0Gq2K5jiiuyJFif1uSd\n",
       "xfZWqNpw7YiJuNPCG/hlMdjgrGBPGHs+Ou6FOini4i6u0nFRscwf8Tk2X9uPh2ZIxQ3vDMz5tdkD\n",
       "o6+95yC97iDnbG7V272CbOErF0pLkuKs0yxds9i2G8xbSkrSLmJGKhs0YGOEtst+37xJxbQB1Lc2\n",
       "f538nAf/H1IrOMvGP9r2wKM8jbWa1tKIvK5QOTiIeVHscB1wvsWuV6eTt06dzIYneNjsnGoq24UN\n",
       "+2eaosmM+A/HXJQV44dzeqWlIimetwn6Jf3uuCayhLFLnZgrYfdzXi/YemYv7oS8kvkOTMVXZkCz\n",
       "Ef9hkzlzvIyIOXWcd50A2YmNFvHa+lwAAAAASUVORK5CYII=\n",
       "\" style=\"display:inline;vertical-align:middle;\" /></a></td></tr>\n",
       "<tr><td>3</td><td>ExprTuple</td><td>8</td><td><a class=\"ProveItLink\" href=\"../d665372c9cb58d730ce28727241077716446b5740/expr.ipynb\"><img src=\"data:image/png;base64,iVBORw0KGgoAAAANSUhEUgAAABcAAAAVBAMAAABfzGiYAAAAMFBMVEX////c3NwiIiJERESqqqqY\n",
       "mJh2dnZmZmYQEBDu7u4yMjJUVFTMzMyIiIi6uroAAAAs73DqAAAAAXRSTlMAQObYZgAAAI9JREFU\n",
       "GNNjYEABfBcgdByIOA0iLBkY2A8A6ZVAPPknkFjAwMALVDV7N4gTxsDAMQFI84I4MxgYXjHAOMwO\n",
       "DGVwDlsBw1I4h2UBQx+cw9fA8A/O4fmAymlBVmYK57AuYEhHNvoRkGKv+FXKwMD1gIFDAOYXoHNY\n",
       "E2CcXKgXQIAT6AUGaSiHG6SeEertOwwMAKAnKHcJaxVRAAAAAElFTkSuQmCC\n",
       "\" style=\"display:inline;vertical-align:middle;\" /></a></td></tr>\n",
       "<tr><td>4</td><td>Operation</td><td>operator:&nbsp;5<br>operands:&nbsp;6<br></td><td><a class=\"ProveItLink\" href=\"../43f8d1a219f40dc7e4907ee07672b8b88cf02be30/expr.ipynb\"><img src=\"data:image/png;base64,iVBORw0KGgoAAAANSUhEUgAAADEAAAAZBAMAAABqTdt0AAAAMFBMVEX////c3NwiIiJERESqqqqY\n",
       "mJh2dnZmZmYQEBDu7u4yMjJUVFTMzMyIiIi6uroAAAAs73DqAAAAAXRSTlMAQObYZgAAAO1JREFU\n",
       "KM9jYMAKeAzQBFhgEtUKaDLMcCXkyvBdQJVhfQCTOc0Q9dl+VdcFuJ4amMxKBgYDaYbDXgIMu1at\n",
       "WLXqAgMXVIYXqNhAnIF5ogFMD2sCRIZjAliG7QBchrMBIvOKAV2GwYSBMev7BYYyiAw3wjSGdIhD\n",
       "l0JkHkUJABncYCEviEwfSEZCScsB4asXEOofWM9z5gkImfPIMuxvNmDItEDsWXkVwzRTiMxp7gNw\n",
       "mSgGuBNB/nEwhMtAXf2IARSiNgyL18Ndtw5CcQigpwFQ6MDCDxWwwSJsJbrMLBhDGl1mI4zBeAFV\n",
       "ghfqfAC1BzfoMuXs4wAAAABJRU5ErkJggg==\n",
       "\" style=\"display:inline;vertical-align:middle;\" /></a></td></tr>\n",
       "<tr><td>5</td><td>Literal</td><td></td><td><a class=\"ProveItLink\" href=\"../../../exponentiation/__pv_it/deb2bf23cbccdd6e6791e1b35b5b9794ce12dbd50/expr.ipynb\"><img src=\"data:image/png;base64,iVBORw0KGgoAAAANSUhEUgAAACgAAAASBAMAAADbMYGVAAAAMFBMVEX///8QEBAiIiKYmJjc3Nzu\n",
       "7u7MzMx2dnZmZma6urpERESqqqoyMjJUVFSIiIgAAAAoDOMTAAAAAXRSTlMAQObYZgAAAOBJREFU\n",
       "GNNjYGB4+//u3Tt/GNAASGAXmhjnPyDBgSbI/g1IxKEJ8nxgYGdgQRPkX8BgDKRY6q7s62OYvmze\n",
       "2wAgb/7ZO1+AVDiDkYEQQ0HTBr4DQF59AgOIKmB4z7CNbcNZBu6vQN55kEACQwDDLQYGVobfDHwg\n",
       "fb8YGBxYHwAZciD3fWXg+gB1JjvQcJZvQIXsCgz8F6DO9GBgMOH7wPCUgaeBwd4B7EwGNjUG7s9c\n",
       "AiwPgO5jkWRgiF3/9+5dfQUG1nWl5Y+B7pv+1gE9bBhqGLCAE1jEWH9jEbT5A3IwAC4sP/1L6Qlu\n",
       "AAAAAElFTkSuQmCC\n",
       "\" style=\"display:inline;vertical-align:middle;\" /></a></td></tr>\n",
       "<tr><td>6</td><td>ExprTuple</td><td>7, 8</td><td><a class=\"ProveItLink\" href=\"../b409a0225ed4fe6f45ecaa92e287f5847278e2390/expr.ipynb\"><img src=\"data:image/png;base64,iVBORw0KGgoAAAANSUhEUgAAAD4AAAAbBAMAAADWjiHyAAAAMFBMVEX///+qqqp2dnYiIiJERESI\n",
       "iIhmZmYQEBDc3NyYmJgyMjLu7u5UVFTMzMy6uroAAACGxKilAAAAAXRSTlMAQObYZgAAAS9JREFU\n",
       "KM9jYEABAgyY4B0S2wFFRgFE8B7AKX8HROzagFOeNQBInGTAKc9gwcDAUcDAud7l1/Kl6PLeQBzD\n",
       "wMCWwMDAwnGA13EFA8+qVVWrlkKlt/wGEvs3MLA/AMknMHi3oOjfcwYkzzyB4T4DRF6XBdV8VpA8\n",
       "mwNDOD55zg8Mp6Dyp1uwyPP9ZvCByPNZrgCJHkCV5/3LsAwsX2y8EC3UwfIc/xjMwPJ5Cd7Y5Lk/\n",
       "QuUT8u7g0L8GIs+1dQI2+b8MRyDyvAfOwmS4kdz/gyEY6j9Flgao/H4DZP+/ZwDFz5cLXF4fofLb\n",
       "f4BCLv1XJgMD0wIG/gsYCeoFnMUVwMCjgCGPcOn+BgZeAzzyU4DYEV2aFcG0BeIuBpyAE5h2GBgV\n",
       "cMqDo5RhIk75bAaCAAB5gFMCdJT4mgAAAABJRU5ErkJggg==\n",
       "\" style=\"display:inline;vertical-align:middle;\" /></a></td></tr>\n",
       "<tr><td>7</td><td>Literal</td><td></td><td><a class=\"ProveItLink\" href=\"../../../sets/real/__pv_it/399ccec6a6e90df280e82734a8711cdb89199bc00/expr.ipynb\"><img src=\"data:image/png;base64,iVBORw0KGgoAAAANSUhEUgAAABsAAAATBAMAAACTqWsLAAAAMFBMVEX///8iIiK6urp2dnbu7u5m\n",
       "ZmaqqqrMzMxUVFTc3NyIiIgQEBBEREQyMjKYmJgAAAA9nvXMAAAAAXRSTlMAQObYZgAAAGxJREFU\n",
       "GNNjYIADNgYUwEMy9+2f83f3LkDIHpjBUJM7gaH37u27d4HCB6Yy8HgeQMhOZWAuwMflQFWs+HYC\n",
       "kMEB4c4WlE1A2H5gqiqPAzKXVb0BmctwZR0Kt4KjAJnLnHASxgN64TjDnftQswFmaSyXIBgH2QAA\n",
       "AABJRU5ErkJggg==\n",
       "\" style=\"display:inline;vertical-align:middle;\" /></a></td></tr>\n",
       "<tr><td>8</td><td>Literal</td><td></td><td><a class=\"ProveItLink\" href=\"../../../numeral/__pv_it/9be8badea4c35b9724062cecc501d17a3158d1d20/expr.ipynb\"><img src=\"data:image/png;base64,iVBORw0KGgoAAAANSUhEUgAAAAgAAAAPBAMAAAArJJMAAAAAHlBMVEX///+YmJgyMjIQEBBmZmaI\n",
       "iIhUVFTu7u5EREQAAAAw+MI4AAAAAXRSTlMAQObYZgAAACFJREFUCNdjYGBoZ2BgqJjOwFCWBiQY\n",
       "WEklWJwnOTKAAACjEQo8HvEr3AAAAABJRU5ErkJggg==\n",
       "\" style=\"display:inline;vertical-align:middle;\" /></a></td></tr>\n",
       "</table>\n"
      ],
      "text/plain": [
       "0. (1) in (RealsPos)^{1}\n",
       "   core type: Operation\n",
       "   operator: 1\n",
       "   operands: 2\n",
       "1. in\n",
       "   core type: Literal\n",
       "   sub-expressions: \n",
       "2. ((1) , (RealsPos)^{1})\n",
       "   core type: ExprTuple\n",
       "   sub-expressions: 3, 4\n",
       "3. (1)\n",
       "   core type: ExprTuple\n",
       "   sub-expressions: 8\n",
       "4. (RealsPos)^{1}\n",
       "   core type: Operation\n",
       "   operator: 5\n",
       "   operands: 6\n",
       "5. Exp\n",
       "   core type: Literal\n",
       "   sub-expressions: \n",
       "6. (RealsPos , 1)\n",
       "   core type: ExprTuple\n",
       "   sub-expressions: 7, 8\n",
       "7. RealsPos\n",
       "   core type: Literal\n",
       "   sub-expressions: \n",
       "8. 1\n",
       "   core type: Literal\n",
       "   sub-expressions: "
      ]
     },
     "execution_count": 4,
     "metadata": {},
     "output_type": "execute_result"
    }
   ],
   "source": [
    "# display the expression information\n",
    "expr.exprInfo()"
   ]
  },
  {
   "cell_type": "code",
   "execution_count": null,
   "metadata": {},
   "outputs": [],
   "source": []
  }
 ],
 "metadata": {
  "kernelspec": {
   "display_name": "Python 3",
   "language": "python",
   "name": "python3"
  }
 },
 "nbformat": 4,
 "nbformat_minor": 0
}
