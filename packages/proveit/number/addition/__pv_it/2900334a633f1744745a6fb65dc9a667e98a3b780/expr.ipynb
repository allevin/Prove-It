{
 "cells": [
  {
   "cell_type": "markdown",
   "metadata": {},
   "source": [
    "Expression of type <a class=\"ProveItLink\" href=\"../../../../../../doc/html/api/proveit.number.Add.html\">Add</a>\n",
    "=======================\n",
    "# from context <a class=\"ProveItLink\" href=\"../../_context_.ipynb\">proveit.number.addition</a>"
   ]
  },
  {
   "cell_type": "code",
   "execution_count": 1,
   "metadata": {},
   "outputs": [],
   "source": [
    "# import Expression classes needed to build the expression\n",
    "from proveit._common_ import a, b, c\n",
    "from proveit.number import Add, one, three, two"
   ]
  },
  {
   "cell_type": "code",
   "execution_count": 2,
   "metadata": {},
   "outputs": [
    {
     "data": {
      "text/html": [
       "<strong id=\"expr\">expr:</strong> <a class=\"ProveItLink\" href=\"expr.ipynb\"><img src=\"data:image/png;base64,iVBORw0KGgoAAAANSUhEUgAAAUUAAAAQBAMAAABzbnCeAAAAMFBMVEX///8yMjKqqqrMzMzu7u4i\n",
       "IiJmZmaYmJhEREQQEBC6urp2dnaIiIhUVFTc3NwAAAD87Fq/AAAAAXRSTlMAQObYZgAAAk9JREFU\n",
       "SMe1lsFr01Acx79Js2ymXWoOAy/DnDwN2qPiJUdFuvY08NT24KaILH9CD4JH8eDBKdqrIEwQQexg\n",
       "AWWDUaGKKEJlBdGbrOsyN9igJjOveb/XlGRQc8uH3/vy+b383muBcT13hXd98VydAOVbSSgpPIwL\n",
       "TTXemGMzxBVXAL+R6VEitcRFs3Gpv6AdEzA/VKJ0koLCd1cgn4EyJVlTTOmNimUu6yb2CZ8bcpSd\n",
       "xCDjCuSRhe06IauWUKK5o2KZS+7/Op63sEwdX4uL0qU4R/z71nr77VPKQ8LWKo1mnoZdW3sX4+g9\n",
       "ZYuQ2eZXWiK1P9jRsaHjyRA/70x1KQ8JW3upLpUISK1gJtYxdUSIcogs7bRYw1507MDlsn+s9AOo\n",
       "NcI5wtKfYIo2fNXBvVhHiabILs68JCU5C4+jY8N9zKwA011MOIRzJFg73RUnaTt+HoGblKhnka2Q\n",
       "kirwJzqWOxvPLGRrKPpfoGoY1w3D31lGVMOYeWAYrRMCAnAogsCRkBYlExWs2qRkAdpBRCzn8gO4\n",
       "b2PHQQ4W786RoL8dR9g2/TjBPl6A3uGJdz0u00PUg+pGxwYuSt/yHYsmPsp53pEjLN1rn86j1/5k\n",
       "jGOqgknqmA+mb1CyJw7oIJa57HqXQweSLS+kCecIm8cK0vREfgFexTj+bDRu0BRTbdGST7iD6Fjm\n",
       "sgntyL8Mty5u0XMdErb2dvM9Bepak3429dbuEi0p9/v79HZoLwltFDbsEbHMRV6smuP7nTkNSZAy\n",
       "N+JPxoshojmnBklIghTe5S8L+vKp7SNkFwAAAABJRU5ErkJggg==\n",
       "\" style=\"display:inline;vertical-align:middle;\" /></a><br>"
      ],
      "text/plain": [
       "expr: a + a + c + c + 1 + 2 + b + b + c + 3"
      ]
     },
     "execution_count": 2,
     "metadata": {},
     "output_type": "execute_result"
    }
   ],
   "source": [
    "# build up the expression from sub-expressions\n",
    "expr = Add(a, a, c, c, one, two, b, b, c, three)"
   ]
  },
  {
   "cell_type": "code",
   "execution_count": 3,
   "metadata": {},
   "outputs": [
    {
     "name": "stdout",
     "output_type": "stream",
     "text": [
      "Passed sanity check: built 'expr' is the same as the stored Expression.\n"
     ]
    }
   ],
   "source": [
    "# check that the built expression is the same as the stored expression\n",
    "%check_expr"
   ]
  },
  {
   "cell_type": "code",
   "execution_count": 4,
   "metadata": {},
   "outputs": [
    {
     "data": {
      "text/html": [
       "<table><tr><th>&nbsp;</th><th>core type</th><th>sub-expressions</th><th>expression</th></tr>\n",
       "<tr><td>0</td><td>Operation</td><td>operator:&nbsp;1<br>operands:&nbsp;2<br></td><td><a class=\"ProveItLink\" href=\"expr.ipynb\"><img src=\"data:image/png;base64,iVBORw0KGgoAAAANSUhEUgAAAUUAAAAQBAMAAABzbnCeAAAAMFBMVEX///8yMjKqqqrMzMzu7u4i\n",
       "IiJmZmaYmJhEREQQEBC6urp2dnaIiIhUVFTc3NwAAAD87Fq/AAAAAXRSTlMAQObYZgAAAk9JREFU\n",
       "SMe1lsFr01Acx79Js2ymXWoOAy/DnDwN2qPiJUdFuvY08NT24KaILH9CD4JH8eDBKdqrIEwQQexg\n",
       "AWWDUaGKKEJlBdGbrOsyN9igJjOveb/XlGRQc8uH3/vy+b383muBcT13hXd98VydAOVbSSgpPIwL\n",
       "TTXemGMzxBVXAL+R6VEitcRFs3Gpv6AdEzA/VKJ0koLCd1cgn4EyJVlTTOmNimUu6yb2CZ8bcpSd\n",
       "xCDjCuSRhe06IauWUKK5o2KZS+7/Op63sEwdX4uL0qU4R/z71nr77VPKQ8LWKo1mnoZdW3sX4+g9\n",
       "ZYuQ2eZXWiK1P9jRsaHjyRA/70x1KQ8JW3upLpUISK1gJtYxdUSIcogs7bRYw1507MDlsn+s9AOo\n",
       "NcI5wtKfYIo2fNXBvVhHiabILs68JCU5C4+jY8N9zKwA011MOIRzJFg73RUnaTt+HoGblKhnka2Q\n",
       "kirwJzqWOxvPLGRrKPpfoGoY1w3D31lGVMOYeWAYrRMCAnAogsCRkBYlExWs2qRkAdpBRCzn8gO4\n",
       "b2PHQQ4W786RoL8dR9g2/TjBPl6A3uGJdz0u00PUg+pGxwYuSt/yHYsmPsp53pEjLN1rn86j1/5k\n",
       "jGOqgknqmA+mb1CyJw7oIJa57HqXQweSLS+kCecIm8cK0vREfgFexTj+bDRu0BRTbdGST7iD6Fjm\n",
       "sgntyL8Mty5u0XMdErb2dvM9Bepak3429dbuEi0p9/v79HZoLwltFDbsEbHMRV6smuP7nTkNSZAy\n",
       "N+JPxoshojmnBklIghTe5S8L+vKp7SNkFwAAAABJRU5ErkJggg==\n",
       "\" style=\"display:inline;vertical-align:middle;\" /></a></td></tr>\n",
       "<tr><td>1</td><td>Literal</td><td></td><td><a class=\"ProveItLink\" href=\"../3e6688136fa3c7aefbebe51301b7c3ebf0b69c440/expr.ipynb\"><img src=\"data:image/png;base64,iVBORw0KGgoAAAANSUhEUgAAAA4AAAAOBAMAAADtZjDiAAAAJFBMVEX///+6urpUVFQQEBAiIiIy\n",
       "MjJmZmaIiIiqqqrc3Nzu7u4AAACgHpL+AAAAAXRSTlMAQObYZgAAAB5JREFUCNdjYGBgWMkAAe2k\n",
       "0Kmhoc6hoUGk6BMHYgAHOwjcado9fwAAAABJRU5ErkJggg==\n",
       "\" style=\"display:inline;vertical-align:middle;\" /></a></td></tr>\n",
       "<tr><td>2</td><td>ExprTuple</td><td>3, 3, 7, 7, 4, 5, 6, 6, 7, 8</td><td><a class=\"ProveItLink\" href=\"../d159dec76c19a232ef36d4e9f61fc94b175cb79e0/expr.ipynb\"><img src=\"data:image/png;base64,iVBORw0KGgoAAAANSUhEUgAAAMEAAAAVBAMAAAANw5eWAAAAMFBMVEX////c3NwiIiJERESqqqqY\n",
       "mJh2dnZmZmYQEBDu7u4yMjJUVFTMzMyIiIi6uroAAAAs73DqAAAAAXRSTlMAQObYZgAAAkBJREFU\n",
       "SMe1lT1s00AYht+0dh0ntmOxMIBEN8Z0YWDCG2M9MaKqSGEhEIFKEUtBQoiptYSEInWIBWJAHdql\n",
       "4k9VIiGxsGRho1XLhFgSElqplUK4H9t3F7soDLnBfux7717f9313BibfnPYEJ79OL1/G11+O7rnl\n",
       "V/sMzHezUEE0q3LDg9Ei9GZsg+fHEZyD/ZtTYQsjkLSzcAZACNhjB2n9Y+zwHihzKnkYgaTd8dAD\n",
       "rgH5YOw12LHDswBNHqZOPLqTmmaeOdSBn/h/h80AK9xhMe5bzKohEqVpD/dp5nZuP45ymBBeVL+N\n",
       "QOJAWpl/88buNlQQcpabmRpeE/zhTnf5S0HWKl6qIDtYR7yE+ii1FJDknzfIRQuxSj78EMYcX0JC\n",
       "qLdxSQXZocBV2jHyCwpIcthkbucR/gDFLqZ4RQlCM56smc4DcI/fjBClmgKSHFgLYHWpQ2kODb5E\n",
       "QejHsn6Ggx1V/1QNHV8BIT8PXPGpwxPgQhvzYJkTlBvE+3eQ4XAVOTfaBSuBAoncHAbUgUSJBK3h\n",
       "4YPWMiETDgGdmSXAHFifVYPuUiLZfQoFhPyEFJwLPcRNkjZfuziDxqxMeAvcMnsyMAfWd6ZSucuo\n",
       "6BlbKgj5VzhHrFq/002w92kP9V8ywajuBuaaK8ODkyXeVx4Oe4zMnSWoIOTa8kNykhT2kXfj4B4g\n",
       "RY47Clmqg9PH0VNDX4gffKRIT0GWyj99HKry6T0JBzNkh31Ui6IqE2qnIENl/2NckYYrN8m/KDkE\n",
       "/wK7jdDh778LTgAAAABJRU5ErkJggg==\n",
       "\" style=\"display:inline;vertical-align:middle;\" /></a></td></tr>\n",
       "<tr><td>3</td><td>Variable</td><td></td><td><a class=\"ProveItLink\" href=\"../../../../__pv_it/07527342713064c87612d00d8557c53d53d5324a0/expr.ipynb\"><img src=\"data:image/png;base64,iVBORw0KGgoAAAANSUhEUgAAAAsAAAAJBAMAAAAWSsseAAAAMFBMVEX///8yMjKqqqrMzMzu7u4i\n",
       "IiJmZmaYmJhEREQQEBC6urp2dnaIiIhUVFTc3NwAAAD87Fq/AAAAAXRSTlMAQObYZgAAAEhJREFU\n",
       "CNdjYOC7s2seAwPDygccHxgY+L4zsDUwMPB+YGA9wMDA38Dgb8DA8P4Agz6DA4O/AsNFJgMGxgKm\n",
       "MG6gyjunLE4xAAAZTBA5TB6DCwAAAABJRU5ErkJggg==\n",
       "\" style=\"display:inline;vertical-align:middle;\" /></a></td></tr>\n",
       "<tr><td>4</td><td>Literal</td><td></td><td><a class=\"ProveItLink\" href=\"../../../numeral/__pv_it/9be8badea4c35b9724062cecc501d17a3158d1d20/expr.ipynb\"><img src=\"data:image/png;base64,iVBORw0KGgoAAAANSUhEUgAAAAgAAAAPBAMAAAArJJMAAAAAHlBMVEX///+YmJgyMjIQEBBmZmaI\n",
       "iIhUVFTu7u5EREQAAAAw+MI4AAAAAXRSTlMAQObYZgAAACFJREFUCNdjYGBoZ2BgqJjOwFCWBiQY\n",
       "WEklWJwnOTKAAACjEQo8HvEr3AAAAABJRU5ErkJggg==\n",
       "\" style=\"display:inline;vertical-align:middle;\" /></a></td></tr>\n",
       "<tr><td>5</td><td>Literal</td><td></td><td><a class=\"ProveItLink\" href=\"../../../numeral/__pv_it/77d407a64829263cdc16415becd4c2293f77a4bf0/expr.ipynb\"><img src=\"data:image/png;base64,iVBORw0KGgoAAAANSUhEUgAAAAkAAAAOBAMAAAAPuiubAAAAMFBMVEX///+YmJh2dnbMzMwQEBAi\n",
       "IiLu7u6qqqqIiIhUVFS6urpEREQyMjJmZmbc3NwAAACOMKdoAAAAAXRSTlMAQObYZgAAAFBJREFU\n",
       "CNdj4Lt7egEDw0sGju8MDNMYGOIZGFwSGOYvYDifwHAfKAEUSQASzJ9ATJ4NIPI2iOCYACJrGfge\n",
       "MDBfYGB8wPBUSekqUPH//18ZAIliFhc3zESNAAAAAElFTkSuQmCC\n",
       "\" style=\"display:inline;vertical-align:middle;\" /></a></td></tr>\n",
       "<tr><td>6</td><td>Variable</td><td></td><td><a class=\"ProveItLink\" href=\"../../../../__pv_it/6840a4fa6c106149dc16a131294d0c5e44f1b0480/expr.ipynb\"><img src=\"data:image/png;base64,iVBORw0KGgoAAAANSUhEUgAAAAkAAAAOBAMAAAAPuiubAAAALVBMVEX///9mZmbMzMxERESYmJiI\n",
       "iIh2dna6urqqqqoyMjIiIiIQEBBUVFTu7u4AAAD9S1JeAAAAAXRSTlMAQObYZgAAAE1JREFUCNdj\n",
       "4D29gAEIOA+ASL4GEFl3AURmgQiGOaFHGBh4HzPwKTBwvGXgTmBgnMDAJ8DAJcBQ5wBSLncBJLWN\n",
       "gYGngRFoBO9REQYGAGrcDtUkVqASAAAAAElFTkSuQmCC\n",
       "\" style=\"display:inline;vertical-align:middle;\" /></a></td></tr>\n",
       "<tr><td>7</td><td>Variable</td><td></td><td><a class=\"ProveItLink\" href=\"../../../../__pv_it/cbdfda466482236edba0ce44ac7ef39cda0af7a40/expr.ipynb\"><img src=\"data:image/png;base64,iVBORw0KGgoAAAANSUhEUgAAAAkAAAAJBAMAAAASvxsjAAAALVBMVEX///9mZmbc3NxUVFSYmJhE\n",
       "REQiIiIyMjK6uroQEBDMzMyIiIh2dnbu7u4AAABgFDGoAAAAAXRSTlMAQObYZgAAADZJREFUCNdj\n",
       "YOA9s3sBA8PKBvYEBt7ZDKwODMwPGICALwBE6m0Asx0YGIDiAgw8QJUyu/cyAAAmuwmycZ8WfQAA\n",
       "AABJRU5ErkJggg==\n",
       "\" style=\"display:inline;vertical-align:middle;\" /></a></td></tr>\n",
       "<tr><td>8</td><td>Literal</td><td></td><td><a class=\"ProveItLink\" href=\"../../../numeral/__pv_it/9176d93c83afa2c995b614976e3cb49207102fa70/expr.ipynb\"><img src=\"data:image/png;base64,iVBORw0KGgoAAAANSUhEUgAAAAoAAAAOBAMAAADkjZCYAAAAMFBMVEX///+YmJju7u4QEBBUVFQy\n",
       "MjIiIiKIiIi6urpmZmbc3NyqqqpERER2dnbMzMwAAAB0GlNiAAAAAXRSTlMAQObYZgAAAE1JREFU\n",
       "CNdjYHh79zQDA9cEhv4CBt7fDPwJDNxgEgiAIkAQAsR8Vx1ATIbiBhDJ/ImB6wEDz0cG/U8gkj+A\n",
       "ge0XA7sAQ/8FBoadM6MZAEflFACalZ/OAAAAAElFTkSuQmCC\n",
       "\" style=\"display:inline;vertical-align:middle;\" /></a></td></tr>\n",
       "</table>\n"
      ],
      "text/plain": [
       "0. a + a + c + c + 1 + 2 + b + b + c + 3\n",
       "   core type: Operation\n",
       "   operator: 1\n",
       "   operands: 2\n",
       "1. +\n",
       "   core type: Literal\n",
       "   sub-expressions: \n",
       "2. (a , a , c , c , 1 , 2 , b , b , c , 3)\n",
       "   core type: ExprTuple\n",
       "   sub-expressions: 3, 3, 7, 7, 4, 5, 6, 6, 7, 8\n",
       "3. a\n",
       "   core type: Variable\n",
       "   sub-expressions: \n",
       "4. 1\n",
       "   core type: Literal\n",
       "   sub-expressions: \n",
       "5. 2\n",
       "   core type: Literal\n",
       "   sub-expressions: \n",
       "6. b\n",
       "   core type: Variable\n",
       "   sub-expressions: \n",
       "7. c\n",
       "   core type: Variable\n",
       "   sub-expressions: \n",
       "8. 3\n",
       "   core type: Literal\n",
       "   sub-expressions: "
      ]
     },
     "execution_count": 4,
     "metadata": {},
     "output_type": "execute_result"
    }
   ],
   "source": [
    "# display the expression information\n",
    "expr.exprInfo()"
   ]
  },
  {
   "cell_type": "code",
   "execution_count": null,
   "metadata": {},
   "outputs": [],
   "source": []
  }
 ],
 "metadata": {
  "kernelspec": {
   "display_name": "Python 3",
   "language": "python",
   "name": "python3"
  }
 },
 "nbformat": 4,
 "nbformat_minor": 0
}
