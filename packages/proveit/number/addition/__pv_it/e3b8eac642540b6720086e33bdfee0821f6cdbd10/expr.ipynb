{
 "cells": [
  {
   "cell_type": "markdown",
   "metadata": {},
   "source": [
    "Expression of type <a class=\"ProveItLink\" href=\"../../../../../../doc/html/api/proveit.logic.InSet.html\">InSet</a>\n",
    "=======================\n",
    "# from context <a class=\"ProveItLink\" href=\"../../_context_.ipynb\">proveit.number.addition</a>"
   ]
  },
  {
   "cell_type": "code",
   "execution_count": 1,
   "metadata": {},
   "outputs": [],
   "source": [
    "# import Expression classes needed to build the expression\n",
    "from proveit._common_ import a, b, c, d\n",
    "from proveit.logic import InSet\n",
    "from proveit.number import Exp, Naturals, four"
   ]
  },
  {
   "cell_type": "code",
   "execution_count": 2,
   "metadata": {},
   "outputs": [
    {
     "data": {
      "text/html": [
       "<strong id=\"expr\">expr:</strong> <a class=\"ProveItLink\" href=\"expr.ipynb\"><img src=\"data:image/png;base64,iVBORw0KGgoAAAANSUhEUgAAAIIAAAAZBAMAAAAPjOtOAAAAMFBMVEX////c3NwiIiJERESqqqqY\n",
       "mJh2dnZmZmYQEBDu7u4yMjJUVFTMzMyIiIi6uroAAAAs73DqAAAAAXRSTlMAQObYZgAAAkhJREFU\n",
       "OMullEtoE0EYx/9pstmd5rEBb+bQEkQvogH14EEMXgQfdA9eFITgxYvVXKpQhFqU9lYXBSkRSSgI\n",
       "BsFGUHxg6UI9iBXMyYOYUvVSipBo2kMPFr+Z2d1km20s7EKS/2S+/c33HCDY04+gz5AZEMCuBSUk\n",
       "SkEJ7zkhWfu/obK8zUaeExY7w3o96GP2cxI3t4Q/e6gC9eAeJcUJFU9xqn4nrXUVLWwsADoegQgJ\n",
       "TxB6zgeQ3ICS9/4V20/vaTh5Y2wEmieZDb/URgfBbknvv2YyZUFYNd8RARgwseoxvuTbdwXgsFAf\n",
       "zzs+fKoWTSIo8y9wndahuavjcudp/aVt82D4mxTpLw0K7TKXoaNuFNbZeFaT+jF9VlLhpvSyBd0S\n",
       "Kj6FGZmEcRyn0E6J/KXaBHX5ok2YIvQ61KxYRDagyZxN13BEiAEDo/wQru+3M2nhTeyD1Ju0bKJP\n",
       "VkQtQy8INe/YkthLP5+5XslknExaeMieuAQ9i5L0va+AhiFUyyG0wDYdwmKnD/G87cMdcrSGIZh2\n",
       "O4wJEfprm5KINJkdxb1OAs6FpaZoSzm8jViMEyxMgAusU6U4la0hVj4DXBDvGZ2E6C6pqUz9RmRf\n",
       "FCUaiVhOrQqBV8AV9kfU6kQhb1eTHXC7mo/aqNQ/eDssLSxh+jeZzI1ACKjDdZPdpeql67+Okfkz\n",
       "YbzbnrDk7G36LsqF5tb4e5dIunt2V+P0jKyFZ/TdmTG6hNIejV6XSGUnhGKv+yftXHnYKtA++Hkv\n",
       "QmgHt1zC2n7vHwwYk1Rou92oAAAAAElFTkSuQmCC\n",
       "\" style=\"display:inline;vertical-align:middle;\" /></a><br>"
      ],
      "text/plain": [
       "expr: (a , b , c , d) in Naturals^{4}"
      ]
     },
     "execution_count": 2,
     "metadata": {},
     "output_type": "execute_result"
    }
   ],
   "source": [
    "# build up the expression from sub-expressions\n",
    "expr = InSet([a, b, c, d], Exp(Naturals, four))"
   ]
  },
  {
   "cell_type": "code",
   "execution_count": 3,
   "metadata": {},
   "outputs": [
    {
     "name": "stdout",
     "output_type": "stream",
     "text": [
      "Passed sanity check: built 'expr' is the same as the stored Expression.\n"
     ]
    }
   ],
   "source": [
    "# check that the built expression is the same as the stored expression\n",
    "%check_expr"
   ]
  },
  {
   "cell_type": "code",
   "execution_count": 4,
   "metadata": {},
   "outputs": [
    {
     "data": {
      "text/html": [
       "<table><tr><th>&nbsp;</th><th>core type</th><th>sub-expressions</th><th>expression</th></tr>\n",
       "<tr><td>0</td><td>Operation</td><td>operator:&nbsp;1<br>operands:&nbsp;2<br></td><td><a class=\"ProveItLink\" href=\"expr.ipynb\"><img src=\"data:image/png;base64,iVBORw0KGgoAAAANSUhEUgAAAIIAAAAZBAMAAAAPjOtOAAAAMFBMVEX////c3NwiIiJERESqqqqY\n",
       "mJh2dnZmZmYQEBDu7u4yMjJUVFTMzMyIiIi6uroAAAAs73DqAAAAAXRSTlMAQObYZgAAAkhJREFU\n",
       "OMullEtoE0EYx/9pstmd5rEBb+bQEkQvogH14EEMXgQfdA9eFITgxYvVXKpQhFqU9lYXBSkRSSgI\n",
       "BsFGUHxg6UI9iBXMyYOYUvVSipBo2kMPFr+Z2d1km20s7EKS/2S+/c33HCDY04+gz5AZEMCuBSUk\n",
       "SkEJ7zkhWfu/obK8zUaeExY7w3o96GP2cxI3t4Q/e6gC9eAeJcUJFU9xqn4nrXUVLWwsADoegQgJ\n",
       "TxB6zgeQ3ICS9/4V20/vaTh5Y2wEmieZDb/URgfBbknvv2YyZUFYNd8RARgwseoxvuTbdwXgsFAf\n",
       "zzs+fKoWTSIo8y9wndahuavjcudp/aVt82D4mxTpLw0K7TKXoaNuFNbZeFaT+jF9VlLhpvSyBd0S\n",
       "Kj6FGZmEcRyn0E6J/KXaBHX5ok2YIvQ61KxYRDagyZxN13BEiAEDo/wQru+3M2nhTeyD1Ju0bKJP\n",
       "VkQtQy8INe/YkthLP5+5XslknExaeMieuAQ9i5L0va+AhiFUyyG0wDYdwmKnD/G87cMdcrSGIZh2\n",
       "O4wJEfprm5KINJkdxb1OAs6FpaZoSzm8jViMEyxMgAusU6U4la0hVj4DXBDvGZ2E6C6pqUz9RmRf\n",
       "FCUaiVhOrQqBV8AV9kfU6kQhb1eTHXC7mo/aqNQ/eDssLSxh+jeZzI1ACKjDdZPdpeql67+Okfkz\n",
       "YbzbnrDk7G36LsqF5tb4e5dIunt2V+P0jKyFZ/TdmTG6hNIejV6XSGUnhGKv+yftXHnYKtA++Hkv\n",
       "QmgHt1zC2n7vHwwYk1Rou92oAAAAAElFTkSuQmCC\n",
       "\" style=\"display:inline;vertical-align:middle;\" /></a></td></tr>\n",
       "<tr><td>1</td><td>Literal</td><td></td><td><a class=\"ProveItLink\" href=\"../../../../logic/set_theory/membership/__pv_it/088cbc857536a28d4119ad9639a84270ccb0545d0/expr.ipynb\"><img src=\"data:image/png;base64,iVBORw0KGgoAAAANSUhEUgAAAAwAAAAMBAMAAACkW0HUAAAALVBMVEX///+qqqpmZmZUVFQQEBC6\n",
       "urpERETc3NyYmJjMzMwiIiIyMjKIiIju7u4AAACYsrA9AAAAAXRSTlMAQObYZgAAADxJREFUCNdj\n",
       "YOA9vWrVBgaG2b0MQMCeCyIZ2ArA1DUwyRCyahVIyWQI7xaEYm4AU7xLIdxqTQgtvGvVBgCkcQ7e\n",
       "geM/tQAAAABJRU5ErkJggg==\n",
       "\" style=\"display:inline;vertical-align:middle;\" /></a></td></tr>\n",
       "<tr><td>2</td><td>ExprTuple</td><td>3, 4</td><td><a class=\"ProveItLink\" href=\"../e3d4e1b0edea05ba7d6251703d92d5e254d22d310/expr.ipynb\"><img src=\"data:image/png;base64,iVBORw0KGgoAAAANSUhEUgAAAIYAAAAcBAMAAABWqtqHAAAAMFBMVEX///+qqqp2dnYiIiJERESI\n",
       "iIhmZmYQEBDc3NyYmJgyMjLu7u5UVFTMzMy6uroAAACGxKilAAAAAXRSTlMAQObYZgAAAndJREFU\n",
       "OMutVU1oE0EU/lqTbNfNpoLoQRD3Um9iFRQvxQh6KAguleqlQhER/MNaRTzVHDxJwC3oxVNBUErF\n",
       "LoIIJZAWVPxBUkHwUmlAoVLQplilIgl+M7O7WbOJSuLA5H373psvb3a+Nwu0Mtai9bHF9cCXpimM\n",
       "7S4sAczppjnieRdzAky5TXO8IUfcJnjBmbL/vkAvRlwWObAH6Bjiw1w4krtYh+HjZZwLXsPk/gkk\n",
       "9u7QM4JjAEgM0jvxW/79emUshw4y5rwFOvEIgoNTY4lxuyY9OlI/oVv+Q7KHKzRsPHn+FLDGwTx9\n",
       "mluTHh3t3TCGAo5F9zU5gBtcmEjjKOFibXodRXLL+wKO99NTLjn0wgx/SnhJ33ERyPYtZFT60wFH\n",
       "5T7sOqZAtm9pHbA14JjdYKa1atkHacYFvIJDyplPoyyBOYI7Ko0xVr2pypEo3vI5zDLu0oyIrTk4\n",
       "ETTBsASPbfRKwNhpmoUqB14l33kPHRXspqlwFoBdysn07xIU/DUEO2nmQxw5456vluWAYwWG2gE9\n",
       "qR8SrPhrGKvUcJhWqA4hqAtE39BWMjx5JOTp0uVlebHwXjAa86NlPKHplRUlxzZDCKUMzZKA1egC\n",
       "eDHcFpX7HO3X/HNZxWGoQxvH+kHL+Eo0g7OQ4BmwTQIZU2l5IZ5YUb021YslLNF8EBLo/3ygaFyl\n",
       "RHJHHEiQ6Op3JZAx4IE4q1X+8+QlcWf4khxDJ+vSMoHOMw2Bp/VPEQXbSLLIajfpjQHaZWc6tRz5\n",
       "DMzucO//iUMVH+G4CdVJWd9hNwZ4Lq/QSDf2cF4XZ/wPd2F8tv4VKe6wNqulT4ySyWhLHGfwX8Yv\n",
       "gRatzZce6AMAAAAASUVORK5CYII=\n",
       "\" style=\"display:inline;vertical-align:middle;\" /></a></td></tr>\n",
       "<tr><td>3</td><td>ExprTuple</td><td>5, 6, 7, 8</td><td><a class=\"ProveItLink\" href=\"../01f3547cb6e447be93e3bf9397d84951004f68d70/expr.ipynb\"><img src=\"data:image/png;base64,iVBORw0KGgoAAAANSUhEUgAAAFAAAAAVBAMAAAAjqnRBAAAAMFBMVEX////c3NwiIiJERESqqqqY\n",
       "mJh2dnZmZmYQEBDu7u4yMjJUVFTMzMyIiIi6uroAAAAs73DqAAAAAXRSTlMAQObYZgAAAXtJREFU\n",
       "KM+Nkz9Iw0AYxV/bJG0S2nTv0E66dtBRLI4imNkpOOgmWewgghZEJyWjuLSLgwhSB0GEYsBFcLCT\n",
       "4JBSdRERGmkdOlj87q6BFFJthuSXd+++f7kAE1+Z5v8euU23h5CgXhcibG8H2KbHWVjT6lEBe9CA\n",
       "9EhmoxRVXB+yhZQT1jpOhFEpQN3Fx4i2GpVZs4EZlIlijY2K0M69q2Fba54rKPfUoXrWcUr8nk34\n",
       "YrkLQ6zftzUxgEwF81TPIo4o4DeSRa5KfaQsvuMQCZNLeRNbLBYGgO4jLnpP1mDYDHQ/KPAWmKLH\n",
       "IzMaRVRFwriNDg9kFANjF+qAG/coehPLcIZj3OGQD6Yb+4Hkqyz1LFAt4UZyVWZ0sQ8OFNdkoPag\n",
       "15aAFeobmilNK6hSl3opWRdgQ3EZ0FQWbIuN55WNsXXXwvEX7W9sggPK3rOAnPc5R2fnAqlsUPbL\n",
       "eGCfULaCF3M8QGmGjtlfxhNWxJDTGAvAJZvUBL9C2sUvYK1jupu6jYwAAAAASUVORK5CYII=\n",
       "\" style=\"display:inline;vertical-align:middle;\" /></a></td></tr>\n",
       "<tr><td>4</td><td>Operation</td><td>operator:&nbsp;9<br>operands:&nbsp;10<br></td><td><a class=\"ProveItLink\" href=\"../b7d39e2f34e18b6d5a4be3381e02b29d84d8aa6a0/expr.ipynb\"><img src=\"data:image/png;base64,iVBORw0KGgoAAAANSUhEUgAAABcAAAAUBAMAAACUkLs9AAAAMFBMVEX////c3Nx2dna6uroQEBCI\n",
       "iIhUVFTMzMyYmJiqqqoiIiJmZmZEREQyMjLu7u4AAADjlg78AAAAAXRSTlMAQObYZgAAAIxJREFU\n",
       "GNNjYICDCwgmA+c/JM4jZE4cEod9HhKHiQ/Iefvn7AOGXb8mNII4DCfYDzAwfOALAHOyCkIZGBw4\n",
       "d+/+3cDAkHyPrYDBgYGBESSTXsZ3D8Rp+zYByOEMqAFxwCCdYTNHAILD9iAdweFLeIvgMBSxI3E4\n",
       "JhxAcBgUYZzDQMwN9aXtF6AoH4QDALePLkE7OsNnAAAAAElFTkSuQmCC\n",
       "\" style=\"display:inline;vertical-align:middle;\" /></a></td></tr>\n",
       "<tr><td>5</td><td>Variable</td><td></td><td><a class=\"ProveItLink\" href=\"../../../../__pv_it/07527342713064c87612d00d8557c53d53d5324a0/expr.ipynb\"><img src=\"data:image/png;base64,iVBORw0KGgoAAAANSUhEUgAAAAsAAAAJBAMAAAAWSsseAAAAMFBMVEX///8yMjKqqqrMzMzu7u4i\n",
       "IiJmZmaYmJhEREQQEBC6urp2dnaIiIhUVFTc3NwAAAD87Fq/AAAAAXRSTlMAQObYZgAAAEhJREFU\n",
       "CNdjYOC7s2seAwPDygccHxgY+L4zsDUwMPB+YGA9wMDA38Dgb8DA8P4Agz6DA4O/AsNFJgMGxgKm\n",
       "MG6gyjunLE4xAAAZTBA5TB6DCwAAAABJRU5ErkJggg==\n",
       "\" style=\"display:inline;vertical-align:middle;\" /></a></td></tr>\n",
       "<tr><td>6</td><td>Variable</td><td></td><td><a class=\"ProveItLink\" href=\"../../../../__pv_it/6840a4fa6c106149dc16a131294d0c5e44f1b0480/expr.ipynb\"><img src=\"data:image/png;base64,iVBORw0KGgoAAAANSUhEUgAAAAkAAAAOBAMAAAAPuiubAAAALVBMVEX///9mZmbMzMxERESYmJiI\n",
       "iIh2dna6urqqqqoyMjIiIiIQEBBUVFTu7u4AAAD9S1JeAAAAAXRSTlMAQObYZgAAAE1JREFUCNdj\n",
       "4D29gAEIOA+ASL4GEFl3AURmgQiGOaFHGBh4HzPwKTBwvGXgTmBgnMDAJ8DAJcBQ5wBSLncBJLWN\n",
       "gYGngRFoBO9REQYGAGrcDtUkVqASAAAAAElFTkSuQmCC\n",
       "\" style=\"display:inline;vertical-align:middle;\" /></a></td></tr>\n",
       "<tr><td>7</td><td>Variable</td><td></td><td><a class=\"ProveItLink\" href=\"../../../../__pv_it/cbdfda466482236edba0ce44ac7ef39cda0af7a40/expr.ipynb\"><img src=\"data:image/png;base64,iVBORw0KGgoAAAANSUhEUgAAAAkAAAAJBAMAAAASvxsjAAAALVBMVEX///9mZmbc3NxUVFSYmJhE\n",
       "REQiIiIyMjK6uroQEBDMzMyIiIh2dnbu7u4AAABgFDGoAAAAAXRSTlMAQObYZgAAADZJREFUCNdj\n",
       "YOA9s3sBA8PKBvYEBt7ZDKwODMwPGICALwBE6m0Asx0YGIDiAgw8QJUyu/cyAAAmuwmycZ8WfQAA\n",
       "AABJRU5ErkJggg==\n",
       "\" style=\"display:inline;vertical-align:middle;\" /></a></td></tr>\n",
       "<tr><td>8</td><td>Variable</td><td></td><td><a class=\"ProveItLink\" href=\"../../../../__pv_it/3a5de44ed6135dbbdbbeec6704c741e238f127300/expr.ipynb\"><img src=\"data:image/png;base64,iVBORw0KGgoAAAANSUhEUgAAAAsAAAAOBAMAAAALT/umAAAAMFBMVEX////MzMyYmJiIiIhUVFTc\n",
       "3NwyMjIiIiJ2dnbu7u6qqqpmZmYQEBBERES6uroAAABkyy6XAAAAAXRSTlMAQObYZgAAAFhJREFU\n",
       "CNdjYGBg4LuzgQEE+BeAqfcTwFQ7mGTIBmJW575fQOpNAO9PIOcTA3cCAwPLBwb2BqCeCwzzHzAw\n",
       "xBswrGeYwDB/AYMblwADmwJXNQdIm52sHQMAfyoTCZukXIEAAAAASUVORK5CYII=\n",
       "\" style=\"display:inline;vertical-align:middle;\" /></a></td></tr>\n",
       "<tr><td>9</td><td>Literal</td><td></td><td><a class=\"ProveItLink\" href=\"../../../exponentiation/__pv_it/deb2bf23cbccdd6e6791e1b35b5b9794ce12dbd50/expr.ipynb\"><img src=\"data:image/png;base64,iVBORw0KGgoAAAANSUhEUgAAACgAAAASBAMAAADbMYGVAAAAMFBMVEX///8QEBAiIiKYmJjc3Nzu\n",
       "7u7MzMx2dnZmZma6urpERESqqqoyMjJUVFSIiIgAAAAoDOMTAAAAAXRSTlMAQObYZgAAAOBJREFU\n",
       "GNNjYGB4+//u3Tt/GNAASGAXmhjnPyDBgSbI/g1IxKEJ8nxgYGdgQRPkX8BgDKRY6q7s62OYvmze\n",
       "2wAgb/7ZO1+AVDiDkYEQQ0HTBr4DQF59AgOIKmB4z7CNbcNZBu6vQN55kEACQwDDLQYGVobfDHwg\n",
       "fb8YGBxYHwAZciD3fWXg+gB1JjvQcJZvQIXsCgz8F6DO9GBgMOH7wPCUgaeBwd4B7EwGNjUG7s9c\n",
       "AiwPgO5jkWRgiF3/9+5dfQUG1nWl5Y+B7pv+1gE9bBhqGLCAE1jEWH9jEbT5A3IwAC4sP/1L6Qlu\n",
       "AAAAAElFTkSuQmCC\n",
       "\" style=\"display:inline;vertical-align:middle;\" /></a></td></tr>\n",
       "<tr><td>10</td><td>ExprTuple</td><td>11, 12</td><td><a class=\"ProveItLink\" href=\"../8e0310b234a0a054081897b9909454b2001c29190/expr.ipynb\"><img src=\"data:image/png;base64,iVBORw0KGgoAAAANSUhEUgAAAC8AAAAVBAMAAAAk6KpUAAAAMFBMVEX////c3NwiIiJERESqqqqY\n",
       "mJh2dnZmZmYQEBDu7u4yMjJUVFTMzMyIiIi6uroAAAAs73DqAAAAAXRSTlMAQObYZgAAARhJREFU\n",
       "KM910S9vwkAYBvCH0ZYeLWQew0eowUws/QATzExMLEyhlpCJSYLAkZBKgtmZiToyCxlNlsxgTk5s\n",
       "yTaJYkMMtfDenx4C1qS9p+/v8ub6Fvj3qor92pV8LDBenyS4/YlNNZyglNGaAo0wAlb59iN64UCF\n",
       "Oj1m70Avh1eCC8BPgKc0yCwULglGwJLybMFSC16ZoBjjToIjni2cS/A6eJCArisMMCHB4RgqCJKZ\n",
       "AQ8Sqj38KWCTsYEzBeHKAF5CDayVQ1+DG0cKnOl0PhCyVUMDriMw3cynLS5Hm+Ip3SWO+7oFOu4X\n",
       "feOGIuMYfatjzX+bKH/AP95N+9MmGonb2kHTphs99j2gvkDN1is2BbJ/4cCvfQO2kolINogwO9YA\n",
       "AAAASUVORK5CYII=\n",
       "\" style=\"display:inline;vertical-align:middle;\" /></a></td></tr>\n",
       "<tr><td>11</td><td>Literal</td><td></td><td><a class=\"ProveItLink\" href=\"../../../sets/integer/__pv_it/e5d9bd86b06b357eee742ad868997123619e09700/expr.ipynb\"><img src=\"data:image/png;base64,iVBORw0KGgoAAAANSUhEUgAAAA8AAAAOBAMAAAACpFvcAAAAMFBMVEX////c3Nx2dna6uroQEBCI\n",
       "iIhUVFTMzMyYmJiqqqoiIiJmZmZEREQyMjLu7u4AAADjlg78AAAAAXRSTlMAQObYZgAAAGBJREFU\n",
       "CNdjePvn7AOGXb8mMDCcYD/AwPCBgYEhqyCUgcEByEi+x1YAZqSX8d2DMDgDaiAMhs0cARAG24N0\n",
       "CIMv4S2EwVDEDmVwTDgAYTAoghiHgZj7AgOD7Rcgj+8CAwA9oh2B0HK+MAAAAABJRU5ErkJggg==\n",
       "\" style=\"display:inline;vertical-align:middle;\" /></a></td></tr>\n",
       "<tr><td>12</td><td>Literal</td><td></td><td><a class=\"ProveItLink\" href=\"../../../numeral/__pv_it/23412ce59ea7e77353d2f9225e02248e73651ca00/expr.ipynb\"><img src=\"data:image/png;base64,iVBORw0KGgoAAAANSUhEUgAAAAoAAAAPBAMAAAAv0UM9AAAALVBMVEX///9mZmaqqqru7u52dnYy\n",
       "MjKYmJjc3NwQEBCIiIhEREQiIiJUVFTMzMwAAACUDTcXAAAAAXRSTlMAQObYZgAAAD5JREFUCNdj\n",
       "YGBguMMAArtABGcXiCyLApEOIJKtAERaMoBIBxDJdAFEmjCASJ0zZ16cBCkF64KQPu/EwBwGACv6\n",
       "DSRgin9qAAAAAElFTkSuQmCC\n",
       "\" style=\"display:inline;vertical-align:middle;\" /></a></td></tr>\n",
       "</table>\n"
      ],
      "text/plain": [
       "0. (a , b , c , d) in Naturals^{4}\n",
       "   core type: Operation\n",
       "   operator: 1\n",
       "   operands: 2\n",
       "1. in\n",
       "   core type: Literal\n",
       "   sub-expressions: \n",
       "2. ((a , b , c , d) , Naturals^{4})\n",
       "   core type: ExprTuple\n",
       "   sub-expressions: 3, 4\n",
       "3. (a , b , c , d)\n",
       "   core type: ExprTuple\n",
       "   sub-expressions: 5, 6, 7, 8\n",
       "4. Naturals^{4}\n",
       "   core type: Operation\n",
       "   operator: 9\n",
       "   operands: 10\n",
       "5. a\n",
       "   core type: Variable\n",
       "   sub-expressions: \n",
       "6. b\n",
       "   core type: Variable\n",
       "   sub-expressions: \n",
       "7. c\n",
       "   core type: Variable\n",
       "   sub-expressions: \n",
       "8. d\n",
       "   core type: Variable\n",
       "   sub-expressions: \n",
       "9. Exp\n",
       "   core type: Literal\n",
       "   sub-expressions: \n",
       "10. (Naturals , 4)\n",
       "    core type: ExprTuple\n",
       "    sub-expressions: 11, 12\n",
       "11. Naturals\n",
       "    core type: Literal\n",
       "    sub-expressions: \n",
       "12. 4\n",
       "    core type: Literal\n",
       "    sub-expressions: "
      ]
     },
     "execution_count": 4,
     "metadata": {},
     "output_type": "execute_result"
    }
   ],
   "source": [
    "# display the expression information\n",
    "expr.exprInfo()"
   ]
  },
  {
   "cell_type": "code",
   "execution_count": null,
   "metadata": {},
   "outputs": [],
   "source": []
  }
 ],
 "metadata": {
  "kernelspec": {
   "display_name": "Python 3",
   "language": "python",
   "name": "python3"
  }
 },
 "nbformat": 4,
 "nbformat_minor": 0
}
