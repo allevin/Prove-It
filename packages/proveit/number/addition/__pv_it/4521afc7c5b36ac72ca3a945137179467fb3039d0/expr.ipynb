{
 "cells": [
  {
   "cell_type": "markdown",
   "metadata": {},
   "source": [
    "Expression of type <a class=\"ProveItLink\" href=\"../../../../../../doc/html/api/proveit.ExprTuple.html\">ExprTuple</a>\n",
    "=======================\n",
    "# from context <a class=\"ProveItLink\" href=\"../../_context_.ipynb\">proveit.number.addition</a>"
   ]
  },
  {
   "cell_type": "code",
   "execution_count": 1,
   "metadata": {},
   "outputs": [],
   "source": [
    "# import Expression classes needed to build the expression\n",
    "from proveit import ExprTuple\n",
    "from proveit._common_ import A, B, C, a, b, c\n",
    "from proveit.number import one, three"
   ]
  },
  {
   "cell_type": "code",
   "execution_count": 2,
   "metadata": {},
   "outputs": [
    {
     "data": {
      "text/html": [
       "<strong id=\"expr\">expr:</strong> <a class=\"ProveItLink\" href=\"expr.ipynb\"><img src=\"data:image/png;base64,iVBORw0KGgoAAAANSUhEUgAAANoAAAAVBAMAAADSje2JAAAAMFBMVEX////c3NwiIiJERESqqqqY\n",
       "mJh2dnZmZmYQEBDu7u4yMjJUVFTMzMyIiIi6uroAAAAs73DqAAAAAXRSTlMAQObYZgAAAxRJREFU\n",
       "SMe9Vk1IFGEYfmbdv9GZ2YEEDwV6K+ighwKrw84tiMChbnVQCuqSZZEZEaxRBnZwF4KQojQjJISy\n",
       "QxgOsktBBB7cS7fUtUvWRUs0XDH7fmdm99NjLszO873f+73P9/7uArv7sYq7RBQrka/pClFNLsBG\n",
       "E3/r75uk6OyW5x0tydXTYz1uQ7XRI/L0hfNOIP1AntvkeRVW1dMhttplCcZ92V0g8VfgeB/wva+K\n",
       "7OG6AA2wNgPxG2oGMMOB1L18iO2UPJjyL2kQA8aGUB4huvFflWRPPHnoioPfQRSbiW6sA8lchfZ8\n",
       "sNSOS0tLvtAkotia8LifZr23yjdTsrWF2eozNrleL35iJzbTlCE7F6SVGI/0c5yhHmtdO7EhHMni\n",
       "PE32IdygR6Yu31HZfkRXBRqbfSdjOg7tBVfRyiycBb7xqPOrwhak28q1ueR1ES/J96Jds6yw6SVD\n",
       "3E1fQUoYnZmaveZymFgNeWQMYKSa7dOYv/0MM7Q8TmCA3HIViRaFzYL2h6PoOpIdYtuGfpDDSLg+\n",
       "Bos4rPhmDkhUQiON+CJIbuqWESkqbNOetyK8GEZKpKeVqnDnUiwcOpfnt8sbssKY4Xl56s4MZUu1\n",
       "YKigsJG0PhBedGFJhI8Wfzv3M8nYTnL5isq2D0i7MkxIDjO2e0BjEW3IVbFFyXPAb7cMFxs0V3ne\n",
       "fXXMLPdZ21TY9K2cz0YORHpZJEm4hxxMRgu6z8Ys1/MBQKWkRO7zkNF2o7Woi0ZHXKiTW8T4OcrG\n",
       "dIlas82Q5oi5dIZUJWrd6P44hpoEm06bUqeekzFGpXVOYpxv03b7TEYdW7Q7sK6Cq08AlxhgbGz7\n",
       "C6w1jh7Tk+usA77Rdpv7OIdBWmM92VFXz9rQWss2Tm+NMqk+1Q0GEukNb5K2DNM1Jieu03sRdSQ6\n",
       "Z3Mc3Cx38+1ozy2HoT3Z54ilyyTmr5G0ZcQX/Nq3Q7W9oIDqha9uqaYqFMnkinXIheuP0LBdVwHV\n",
       "i5h6zt1WMV4M/eL8dzaav72ydIMRGh6yClAWRQWY2yu+pfW5W/8UzAL+AZ879A0yTG0QAAAAAElF\n",
       "TkSuQmCC\n",
       "\" style=\"display:inline;vertical-align:middle;\" /></a><br>"
      ],
      "text/plain": [
       "expr: (a , 1 , A , b , B , C , c , 1 , 3 , A)"
      ]
     },
     "execution_count": 2,
     "metadata": {},
     "output_type": "execute_result"
    }
   ],
   "source": [
    "# build up the expression from sub-expressions\n",
    "expr = ExprTuple(a, one, A, b, B, C, c, one, three, A)"
   ]
  },
  {
   "cell_type": "code",
   "execution_count": 3,
   "metadata": {},
   "outputs": [
    {
     "name": "stdout",
     "output_type": "stream",
     "text": [
      "Passed sanity check: built 'expr' is the same as the stored Expression.\n"
     ]
    }
   ],
   "source": [
    "# check that the built expression is the same as the stored expression\n",
    "%check_expr"
   ]
  },
  {
   "cell_type": "code",
   "execution_count": 4,
   "metadata": {},
   "outputs": [
    {
     "data": {
      "text/html": [
       "<table><tr><th>&nbsp;</th><th>core type</th><th>sub-expressions</th><th>expression</th></tr>\n",
       "<tr><td>0</td><td>ExprTuple</td><td>1, 6, 8, 2, 3, 4, 5, 6, 7, 8</td><td><a class=\"ProveItLink\" href=\"expr.ipynb\"><img src=\"data:image/png;base64,iVBORw0KGgoAAAANSUhEUgAAANoAAAAVBAMAAADSje2JAAAAMFBMVEX////c3NwiIiJERESqqqqY\n",
       "mJh2dnZmZmYQEBDu7u4yMjJUVFTMzMyIiIi6uroAAAAs73DqAAAAAXRSTlMAQObYZgAAAxRJREFU\n",
       "SMe9Vk1IFGEYfmbdv9GZ2YEEDwV6K+ighwKrw84tiMChbnVQCuqSZZEZEaxRBnZwF4KQojQjJISy\n",
       "QxgOsktBBB7cS7fUtUvWRUs0XDH7fmdm99NjLszO873f+73P9/7uArv7sYq7RBQrka/pClFNLsBG\n",
       "E3/r75uk6OyW5x0tydXTYz1uQ7XRI/L0hfNOIP1AntvkeRVW1dMhttplCcZ92V0g8VfgeB/wva+K\n",
       "7OG6AA2wNgPxG2oGMMOB1L18iO2UPJjyL2kQA8aGUB4huvFflWRPPHnoioPfQRSbiW6sA8lchfZ8\n",
       "sNSOS0tLvtAkotia8LifZr23yjdTsrWF2eozNrleL35iJzbTlCE7F6SVGI/0c5yhHmtdO7EhHMni\n",
       "PE32IdygR6Yu31HZfkRXBRqbfSdjOg7tBVfRyiycBb7xqPOrwhak28q1ueR1ES/J96Jds6yw6SVD\n",
       "3E1fQUoYnZmaveZymFgNeWQMYKSa7dOYv/0MM7Q8TmCA3HIViRaFzYL2h6PoOpIdYtuGfpDDSLg+\n",
       "Bos4rPhmDkhUQiON+CJIbuqWESkqbNOetyK8GEZKpKeVqnDnUiwcOpfnt8sbssKY4Xl56s4MZUu1\n",
       "YKigsJG0PhBedGFJhI8Wfzv3M8nYTnL5isq2D0i7MkxIDjO2e0BjEW3IVbFFyXPAb7cMFxs0V3ne\n",
       "fXXMLPdZ21TY9K2cz0YORHpZJEm4hxxMRgu6z8Ys1/MBQKWkRO7zkNF2o7Woi0ZHXKiTW8T4OcrG\n",
       "dIlas82Q5oi5dIZUJWrd6P44hpoEm06bUqeekzFGpXVOYpxv03b7TEYdW7Q7sK6Cq08AlxhgbGz7\n",
       "C6w1jh7Tk+usA77Rdpv7OIdBWmM92VFXz9rQWss2Tm+NMqk+1Q0GEukNb5K2DNM1Jieu03sRdSQ6\n",
       "Z3Mc3Cx38+1ozy2HoT3Z54ilyyTmr5G0ZcQX/Nq3Q7W9oIDqha9uqaYqFMnkinXIheuP0LBdVwHV\n",
       "i5h6zt1WMV4M/eL8dzaav72ydIMRGh6yClAWRQWY2yu+pfW5W/8UzAL+AZ879A0yTG0QAAAAAElF\n",
       "TkSuQmCC\n",
       "\" style=\"display:inline;vertical-align:middle;\" /></a></td></tr>\n",
       "<tr><td>1</td><td>Variable</td><td></td><td><a class=\"ProveItLink\" href=\"../../../../__pv_it/07527342713064c87612d00d8557c53d53d5324a0/expr.ipynb\"><img src=\"data:image/png;base64,iVBORw0KGgoAAAANSUhEUgAAAAsAAAAJBAMAAAAWSsseAAAAMFBMVEX///8yMjKqqqrMzMzu7u4i\n",
       "IiJmZmaYmJhEREQQEBC6urp2dnaIiIhUVFTc3NwAAAD87Fq/AAAAAXRSTlMAQObYZgAAAEhJREFU\n",
       "CNdjYOC7s2seAwPDygccHxgY+L4zsDUwMPB+YGA9wMDA38Dgb8DA8P4Agz6DA4O/AsNFJgMGxgKm\n",
       "MG6gyjunLE4xAAAZTBA5TB6DCwAAAABJRU5ErkJggg==\n",
       "\" style=\"display:inline;vertical-align:middle;\" /></a></td></tr>\n",
       "<tr><td>2</td><td>Variable</td><td></td><td><a class=\"ProveItLink\" href=\"../../../../__pv_it/6840a4fa6c106149dc16a131294d0c5e44f1b0480/expr.ipynb\"><img src=\"data:image/png;base64,iVBORw0KGgoAAAANSUhEUgAAAAkAAAAOBAMAAAAPuiubAAAALVBMVEX///9mZmbMzMxERESYmJiI\n",
       "iIh2dna6urqqqqoyMjIiIiIQEBBUVFTu7u4AAAD9S1JeAAAAAXRSTlMAQObYZgAAAE1JREFUCNdj\n",
       "4D29gAEIOA+ASL4GEFl3AURmgQiGOaFHGBh4HzPwKTBwvGXgTmBgnMDAJ8DAJcBQ5wBSLncBJLWN\n",
       "gYGngRFoBO9REQYGAGrcDtUkVqASAAAAAElFTkSuQmCC\n",
       "\" style=\"display:inline;vertical-align:middle;\" /></a></td></tr>\n",
       "<tr><td>3</td><td>Variable</td><td></td><td><a class=\"ProveItLink\" href=\"../../../../__pv_it/077b2ff79244fb4582cbe22c6e3356fa92a52f2f0/expr.ipynb\"><img src=\"data:image/png;base64,iVBORw0KGgoAAAANSUhEUgAAABAAAAAOBAMAAADUAYG5AAAAMFBMVEX///+qqqru7u4iIiJ2dnbc\n",
       "3NyIiIjMzMxmZmYQEBC6uroyMjJERERUVFSYmJgAAADLUcuvAAAAAXRSTlMAQObYZgAAAGpJREFU\n",
       "CNdjYGB4+//u3dMLGIBgDgMDxy8gzf4NiP8CGWxfGRj4vgAZPBMYGJgnARn8FxhY9ygAGfXX0pof\n",
       "gDTlBzAw2YIYJ0EckBBI53sHoBH/gIz7AhBjWH9DjancBLTl/N+7t/cxMAAA3u4f/5xagjYAAAAA\n",
       "SUVORK5CYII=\n",
       "\" style=\"display:inline;vertical-align:middle;\" /></a></td></tr>\n",
       "<tr><td>4</td><td>Variable</td><td></td><td><a class=\"ProveItLink\" href=\"../../../../__pv_it/985a1bdf1540838275dec15f4ad6de261cca93ce0/expr.ipynb\"><img src=\"data:image/png;base64,iVBORw0KGgoAAAANSUhEUgAAAA8AAAAOBAMAAAACpFvcAAAAMFBMVEX////MzMyqqqoiIiIyMjK6\n",
       "uroQEBB2dnbc3NyYmJhmZmZUVFRERESIiIju7u4AAAB204erAAAAAXRSTlMAQObYZgAAAGZJREFU\n",
       "CNdjYGDgu7NrJccCBgaGsgkMrMsmMDA8sQNy6hsYGNweABlhDAxcn4A0QxcDQ78DiPGQgWH9BAYI\n",
       "sG+AMv6DSaCGfBDNJMDAsB+kmwuI5S8AiTog5gSaEwXWIO29SgFIAQBC+RaDQlidVgAAAABJRU5E\n",
       "rkJggg==\n",
       "\" style=\"display:inline;vertical-align:middle;\" /></a></td></tr>\n",
       "<tr><td>5</td><td>Variable</td><td></td><td><a class=\"ProveItLink\" href=\"../../../../__pv_it/cbdfda466482236edba0ce44ac7ef39cda0af7a40/expr.ipynb\"><img src=\"data:image/png;base64,iVBORw0KGgoAAAANSUhEUgAAAAkAAAAJBAMAAAASvxsjAAAALVBMVEX///9mZmbc3NxUVFSYmJhE\n",
       "REQiIiIyMjK6uroQEBDMzMyIiIh2dnbu7u4AAABgFDGoAAAAAXRSTlMAQObYZgAAADZJREFUCNdj\n",
       "YOA9s3sBA8PKBvYEBt7ZDKwODMwPGICALwBE6m0Asx0YGIDiAgw8QJUyu/cyAAAmuwmycZ8WfQAA\n",
       "AABJRU5ErkJggg==\n",
       "\" style=\"display:inline;vertical-align:middle;\" /></a></td></tr>\n",
       "<tr><td>6</td><td>Literal</td><td></td><td><a class=\"ProveItLink\" href=\"../../../numeral/__pv_it/9be8badea4c35b9724062cecc501d17a3158d1d20/expr.ipynb\"><img src=\"data:image/png;base64,iVBORw0KGgoAAAANSUhEUgAAAAgAAAAPBAMAAAArJJMAAAAAHlBMVEX///+YmJgyMjIQEBBmZmaI\n",
       "iIhUVFTu7u5EREQAAAAw+MI4AAAAAXRSTlMAQObYZgAAACFJREFUCNdjYGBoZ2BgqJjOwFCWBiQY\n",
       "WEklWJwnOTKAAACjEQo8HvEr3AAAAABJRU5ErkJggg==\n",
       "\" style=\"display:inline;vertical-align:middle;\" /></a></td></tr>\n",
       "<tr><td>7</td><td>Literal</td><td></td><td><a class=\"ProveItLink\" href=\"../../../numeral/__pv_it/9176d93c83afa2c995b614976e3cb49207102fa70/expr.ipynb\"><img src=\"data:image/png;base64,iVBORw0KGgoAAAANSUhEUgAAAAoAAAAOBAMAAADkjZCYAAAAMFBMVEX///+YmJju7u4QEBBUVFQy\n",
       "MjIiIiKIiIi6urpmZmbc3NyqqqpERER2dnbMzMwAAAB0GlNiAAAAAXRSTlMAQObYZgAAAE1JREFU\n",
       "CNdjYHh79zQDA9cEhv4CBt7fDPwJDNxgEgiAIkAQAsR8Vx1ATIbiBhDJ/ImB6wEDz0cG/U8gkj+A\n",
       "ge0XA7sAQ/8FBoadM6MZAEflFACalZ/OAAAAAElFTkSuQmCC\n",
       "\" style=\"display:inline;vertical-align:middle;\" /></a></td></tr>\n",
       "<tr><td>8</td><td>Variable</td><td></td><td><a class=\"ProveItLink\" href=\"../../../../__pv_it/2cbe72a7ad6f655694dd697106680215e8489b600/expr.ipynb\"><img src=\"data:image/png;base64,iVBORw0KGgoAAAANSUhEUgAAAA8AAAAOBAMAAAACpFvcAAAALVBMVEX///8QEBBERERUVFS6urqI\n",
       "iIhmZmaqqqrc3Nzu7u6YmJgyMjIiIiLMzMwAAADtIaYWAAAAAXRSTlMAQObYZgAAAFtJREFUCNdj\n",
       "YACBOwxQsA9Kc52bAGG05zVAGAFxDmCaZULdAjBjCsO9ADDDgaEvAUTzGhvbKYCVMDAwbgAxChgY\n",
       "eASANAeQwf0AyJgNxEwvGRia5HYwcOm9TgAA6BoR3jrzwFcAAAAASUVORK5CYII=\n",
       "\" style=\"display:inline;vertical-align:middle;\" /></a></td></tr>\n",
       "</table>\n"
      ],
      "text/plain": [
       "0. (a , 1 , A , b , B , C , c , 1 , 3 , A)\n",
       "   core type: ExprTuple\n",
       "   sub-expressions: 1, 6, 8, 2, 3, 4, 5, 6, 7, 8\n",
       "1. a\n",
       "   core type: Variable\n",
       "   sub-expressions: \n",
       "2. b\n",
       "   core type: Variable\n",
       "   sub-expressions: \n",
       "3. B\n",
       "   core type: Variable\n",
       "   sub-expressions: \n",
       "4. C\n",
       "   core type: Variable\n",
       "   sub-expressions: \n",
       "5. c\n",
       "   core type: Variable\n",
       "   sub-expressions: \n",
       "6. 1\n",
       "   core type: Literal\n",
       "   sub-expressions: \n",
       "7. 3\n",
       "   core type: Literal\n",
       "   sub-expressions: \n",
       "8. A\n",
       "   core type: Variable\n",
       "   sub-expressions: "
      ]
     },
     "execution_count": 4,
     "metadata": {},
     "output_type": "execute_result"
    }
   ],
   "source": [
    "# display the expression information\n",
    "expr.exprInfo()"
   ]
  },
  {
   "cell_type": "code",
   "execution_count": null,
   "metadata": {},
   "outputs": [],
   "source": []
  }
 ],
 "metadata": {
  "kernelspec": {
   "display_name": "Python 3",
   "language": "python",
   "name": "python3"
  }
 },
 "nbformat": 4,
 "nbformat_minor": 0
}
