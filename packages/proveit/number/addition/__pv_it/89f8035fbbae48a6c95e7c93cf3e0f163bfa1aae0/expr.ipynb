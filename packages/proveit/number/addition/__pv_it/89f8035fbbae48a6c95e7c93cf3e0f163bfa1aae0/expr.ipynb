{
 "cells": [
  {
   "cell_type": "markdown",
   "metadata": {},
   "source": [
    "Expression of type <a class=\"ProveItLink\" href=\"../../../../../../doc/html/api/proveit.ExprTuple.html\">ExprTuple</a>\n",
    "=======================\n",
    "# from context <a class=\"ProveItLink\" href=\"../../_context_.ipynb\">proveit.number.addition</a>"
   ]
  },
  {
   "cell_type": "code",
   "execution_count": 1,
   "metadata": {},
   "outputs": [],
   "source": [
    "# import Expression classes needed to build the expression\n",
    "from proveit import ExprTuple\n",
    "from proveit.number import Add, Neg, one, two"
   ]
  },
  {
   "cell_type": "code",
   "execution_count": 2,
   "metadata": {},
   "outputs": [
    {
     "data": {
      "text/html": [
       "<strong id=\"expr\">expr:</strong> <a class=\"ProveItLink\" href=\"expr.ipynb\"><img src=\"data:image/png;base64,iVBORw0KGgoAAAANSUhEUgAAALkAAAAVBAMAAADoXVL6AAAAMFBMVEX////c3NwiIiJERESqqqqY\n",
       "mJh2dnZmZmYQEBDu7u4yMjJUVFTMzMyIiIi6uroAAAAs73DqAAAAAXRSTlMAQObYZgAAAZxJREFU\n",
       "OMu1lT9IAlEcx7/nn/TUC2sJapGGaEqX1nJrEmxpDCedAilIcKmhoZa6NreOJKJryDUabGtoyL3A\n",
       "qzEILCJw8bo787zfe/Q4EH9wvu99v18/HO/kCYx3JltjAm/aH4/WFVTZiHNmqivUkCp1g1Uki9xb\n",
       "6gqQV1kW50gNtLPEmYPyzSqaaYDSgnzXZFge57S/xFUEOqRzC6RZRbMNIGpj2tzOuE6uv0SPEO+R\n",
       "xqGKpsEomtWAd/iix7qIUPqNij2DUTQLZrHrj25NoMuW0iqvPM5EGRe+6U8FppP44ZXXCWk49k2v\n",
       "s51YhldeZ3IfvSFrdt6epX/okQzb2XFZjpLOncxwnUTHS+efvarri7p+7TjPbEVp8Io4Fv3A586E\n",
       "ypiilTVISVaRzNqZZZ/0B2CdvrcywknZVXyGsIaSP7q0UCylSGO6WNzGWWqg+Mz+Rb5ZN5WTyzyN\n",
       "h84fPWCaJqWnTfMLtc+B4jPEDEST4nM0J45fBZl1EoQL4q9/iOO8INvqn8AjjIAua85ZPMIogixu\n",
       "77k0rn++F+AXPfmXj2KILoEAAAAASUVORK5CYII=\n",
       "\" style=\"display:inline;vertical-align:middle;\" /></a><br>"
      ],
      "text/plain": [
       "expr: (1 - 1 + 2 - 2 , 2 - 2)"
      ]
     },
     "execution_count": 2,
     "metadata": {},
     "output_type": "execute_result"
    }
   ],
   "source": [
    "# build up the expression from sub-expressions\n",
    "subExpr1 = Neg(two)\n",
    "expr = ExprTuple(Add(one, Neg(one), two, subExpr1), Add(two, subExpr1).withSubtractionAt(-1,1))"
   ]
  },
  {
   "cell_type": "code",
   "execution_count": 3,
   "metadata": {},
   "outputs": [
    {
     "name": "stdout",
     "output_type": "stream",
     "text": [
      "Passed sanity check: built 'expr' is the same as the stored Expression.\n"
     ]
    }
   ],
   "source": [
    "# check that the built expression is the same as the stored expression\n",
    "%check_expr"
   ]
  },
  {
   "cell_type": "code",
   "execution_count": 4,
   "metadata": {},
   "outputs": [
    {
     "data": {
      "text/html": [
       "<table><tr><th>&nbsp;</th><th>core type</th><th>sub-expressions</th><th>expression</th></tr>\n",
       "<tr><td>0</td><td>ExprTuple</td><td>1, 2</td><td><a class=\"ProveItLink\" href=\"expr.ipynb\"><img src=\"data:image/png;base64,iVBORw0KGgoAAAANSUhEUgAAALkAAAAVBAMAAADoXVL6AAAAMFBMVEX////c3NwiIiJERESqqqqY\n",
       "mJh2dnZmZmYQEBDu7u4yMjJUVFTMzMyIiIi6uroAAAAs73DqAAAAAXRSTlMAQObYZgAAAZxJREFU\n",
       "OMu1lT9IAlEcx7/nn/TUC2sJapGGaEqX1nJrEmxpDCedAilIcKmhoZa6NreOJKJryDUabGtoyL3A\n",
       "qzEILCJw8bo787zfe/Q4EH9wvu99v18/HO/kCYx3JltjAm/aH4/WFVTZiHNmqivUkCp1g1Uki9xb\n",
       "6gqQV1kW50gNtLPEmYPyzSqaaYDSgnzXZFge57S/xFUEOqRzC6RZRbMNIGpj2tzOuE6uv0SPEO+R\n",
       "xqGKpsEomtWAd/iix7qIUPqNij2DUTQLZrHrj25NoMuW0iqvPM5EGRe+6U8FppP44ZXXCWk49k2v\n",
       "s51YhldeZ3IfvSFrdt6epX/okQzb2XFZjpLOncxwnUTHS+efvarri7p+7TjPbEVp8Io4Fv3A586E\n",
       "ypiilTVISVaRzNqZZZ/0B2CdvrcywknZVXyGsIaSP7q0UCylSGO6WNzGWWqg+Mz+Rb5ZN5WTyzyN\n",
       "h84fPWCaJqWnTfMLtc+B4jPEDEST4nM0J45fBZl1EoQL4q9/iOO8INvqn8AjjIAua85ZPMIogixu\n",
       "77k0rn++F+AXPfmXj2KILoEAAAAASUVORK5CYII=\n",
       "\" style=\"display:inline;vertical-align:middle;\" /></a></td></tr>\n",
       "<tr><td>1</td><td>Operation</td><td>operator:&nbsp;4<br>operands:&nbsp;3<br></td><td><a class=\"ProveItLink\" href=\"../fc81fd7156272d94aa57343e62ffde89704874540/expr.ipynb\"><img src=\"data:image/png;base64,iVBORw0KGgoAAAANSUhEUgAAAHQAAAAQBAMAAAA10UZYAAAAMFBMVEX///92dnbMzMyqqqq6uroi\n",
       "IiLc3NyYmJgyMjIQEBBmZmaIiIhUVFTu7u5EREQAAAAHjHnoAAAAAXRSTlMAQObYZgAAAM5JREFU\n",
       "KM9jYGB4y4AO0EWyVjzBKnLvL7pOdBG2Awz7DbCI3DmDrhUhwpsApnguMLB+QFECFeHGsBUuwrwB\n",
       "THHOZeD5gqICKkJYK8dfBi5UrVARwlqBgBVDEUiEKK36AuiKQCJEae3DiMA+uEK21lAQcMCulesB\n",
       "iMwAKwlBiOCylaujo3VGR8cBEHsPhqV7GBiIcjDzAoY0VCUQESK0ajEwlKEqgYgQ1soWKCgVgJoQ\n",
       "wSJcK38sR9WJEIFqZf3//z+qVkwRdICIHJIBC16tAN1QWp/D1T/hAAAAAElFTkSuQmCC\n",
       "\" style=\"display:inline;vertical-align:middle;\" /></a></td></tr>\n",
       "<tr><td>2</td><td>Operation</td><td>operator:&nbsp;4<br>operands:&nbsp;5<br></td><td><a class=\"ProveItLink\" href=\"../c72b32bffef7d217259a0afa4691fb45f68883bb0/expr.ipynb\"><img src=\"data:image/png;base64,iVBORw0KGgoAAAANSUhEUgAAACwAAAAOBAMAAACmzuMPAAAAMFBMVEX///+YmJh2dnbMzMwQEBAi\n",
       "IiLu7u6qqqqIiIhUVFS6urpEREQyMjJmZmbc3NwAAACOMKdoAAAAAXRSTlMAQObYZgAAAKBJREFU\n",
       "GNNj4Lt7egEDCnh7ZxcDw0sGju8oonwTGPoLGKYxMMSjCHMmMLB+YHBJYJiPYgqLGwPnL4bzCQz3\n",
       "UYR5vjHw/gIx4hNQ7WRg/QYkmD+hiTLYK4B0bUAXPg0iboOddTQUBMC28ILUcUxAV9wJImoZ+B6g\n",
       "iLJfYHjHwHyBgRFV2JaBQY7hqZLSVVTPBynpBjDE////FdXR////DwAAYkor4xKDHXYAAAAASUVO\n",
       "RK5CYII=\n",
       "\" style=\"display:inline;vertical-align:middle;\" /></a></td></tr>\n",
       "<tr><td>3</td><td>ExprTuple</td><td>8, 6, 10, 7</td><td><a class=\"ProveItLink\" href=\"../975f7bdabf95609b0c7a8bf771d700f0cb854a780/expr.ipynb\"><img src=\"data:image/png;base64,iVBORw0KGgoAAAANSUhEUgAAAHEAAAAVBAMAAACDNRyvAAAAMFBMVEX////c3NwiIiJERESqqqqY\n",
       "mJh2dnZmZmYQEBDu7u4yMjJUVFTMzMyIiIi6uroAAAAs73DqAAAAAXRSTlMAQObYZgAAAUxJREFU\n",
       "OMudlC9Pw0AYh3/NKOxG2zRIMIQPQDFocNgpJEENRbJAwiQIBIpVztFACEGBJYjhMfsAJCtIFCwE\n",
       "ybj3ru3uD1lDL2l7fX73pG97vQOqt2BQQdqh0zM/arEZ5cTpXKV6IsjcE+/dAmzDNAuyBP9LjyRJ\n",
       "AH8A9tg3zAl5ACI9k2QbqNOQoVVtTs5i9PVyJekB75hq3sU41k1Japs4mm7yFlkhJ7NtXJeZ3reZ\n",
       "EZlJcF5mNtbMjEhwgh91nHO5Qi1VzcPsuiii1Yx4H7r5xzP9ezMShJunJeYWnFCPBOHVrufjYssk\n",
       "4rXhhkz7PkTgJtjLxrGRaQqy0God4GJZSQShWXnjN53uTZN11aIKEo3HI/Q+1ckkgkaKei4EobX+\n",
       "CvJqLTP+97m7Wd+10glpWtm+XGX/N1ki1pts9tZQEN+K5ulFnCq7yQvwC2cRcN3xiN2tAAAAAElF\n",
       "TkSuQmCC\n",
       "\" style=\"display:inline;vertical-align:middle;\" /></a></td></tr>\n",
       "<tr><td>4</td><td>Literal</td><td></td><td><a class=\"ProveItLink\" href=\"../3e6688136fa3c7aefbebe51301b7c3ebf0b69c440/expr.ipynb\"><img src=\"data:image/png;base64,iVBORw0KGgoAAAANSUhEUgAAAA4AAAAOBAMAAADtZjDiAAAAJFBMVEX///+6urpUVFQQEBAiIiIy\n",
       "MjJmZmaIiIiqqqrc3Nzu7u4AAACgHpL+AAAAAXRSTlMAQObYZgAAAB5JREFUCNdjYGBgWMkAAe2k\n",
       "0Kmhoc6hoUGk6BMHYgAHOwjcado9fwAAAABJRU5ErkJggg==\n",
       "\" style=\"display:inline;vertical-align:middle;\" /></a></td></tr>\n",
       "<tr><td>5</td><td>ExprTuple</td><td>10, 7</td><td><a class=\"ProveItLink\" href=\"../941a943c1353135dc77079a1548185e315fed4ab0/expr.ipynb\"><img src=\"data:image/png;base64,iVBORw0KGgoAAAANSUhEUgAAADkAAAAVBAMAAAAOWFv7AAAAMFBMVEX////c3NwiIiJERESqqqqY\n",
       "mJh2dnZmZmYQEBDu7u4yMjJUVFTMzMyIiIi6uroAAAAs73DqAAAAAXRSTlMAQObYZgAAASBJREFU\n",
       "KM99ki1Mw0AUgL+Olf6xpWBIwCwIJJvBkjk0BklQnSJpIIEEAwIBBk4imywIFLMocAgE85DQIFEL\n",
       "ISQzlLtrlvS6lCfu3r3v3r2/g/+lOawAO2p5hsXjDRNYR/0U51Fqt1gD3rsGXabxDQk0hgSC2sig\n",
       "99CGbXAF7gXBr0HPBQ8p1/AJ/hjHpHeCk5SZLof6WBuXM24LZmNutP6yW4JzP1BPuNSHftnV78hO\n",
       "nKIDOp3ctrSiZE1qB8p/lNPXsmtjkNMzudVj5k26iRWql9el/gRbiGJOMXaIndCTXV2Nei3vq0AX\n",
       "omgfVdGHLDbLspZ3FRaKzTJ52U9xJ8ZmWE5NdtKe9MGeGvCenmAF9RI9y1ymvkigQllVP+cN/gAk\n",
       "vz+qUNpCcQAAAABJRU5ErkJggg==\n",
       "\" style=\"display:inline;vertical-align:middle;\" /></a></td></tr>\n",
       "<tr><td>6</td><td>Operation</td><td>operator:&nbsp;9<br>operand:&nbsp;8<br></td><td><a class=\"ProveItLink\" href=\"../27bb768acc4707a63c4de5a0b22e13dfe76b5c980/expr.ipynb\"><img src=\"data:image/png;base64,iVBORw0KGgoAAAANSUhEUgAAABgAAAAPBAMAAAAMihLoAAAAJ1BMVEX///+YmJgQEBBmZmaIiIhU\n",
       "VFTu7u5ERES6uroiIiIyMjLc3NwAAAAKCT4sAAAAAXRSTlMAQObYZgAAACpJREFUCNdjYICDMgST\n",
       "If0Ygp0aisRhYCGTs2smCMwg3wAYYDY6ZciADABBShCHMIgXsAAAAABJRU5ErkJggg==\n",
       "\" style=\"display:inline;vertical-align:middle;\" /></a></td></tr>\n",
       "<tr><td>7</td><td>Operation</td><td>operator:&nbsp;9<br>operand:&nbsp;10<br></td><td><a class=\"ProveItLink\" href=\"../9cd64560928a3eea5b8bd346c0fe76e791b1ec050/expr.ipynb\"><img src=\"data:image/png;base64,iVBORw0KGgoAAAANSUhEUgAAABkAAAAOBAMAAAAoFKpzAAAAMFBMVEX///+YmJh2dnbMzMwQEBDu\n",
       "7u6qqqqIiIhUVFRERERmZma6uroiIiIyMjLc3NwAAABSazM2AAAAAXRSTlMAQObYZgAAAFtJREFU\n",
       "CNdjYIACvlU3NzDAwQsG9m8IXisDw3kEzyWAoR+h9H4Aw3okjUCVAUgc5k/IUrwTGBjengGB00De\n",
       "SmQp9gZkXhYD3wOEGQsYGBG8N0pKa5As+///DwMAyBMb8hv9jf4AAAAASUVORK5CYII=\n",
       "\" style=\"display:inline;vertical-align:middle;\" /></a></td></tr>\n",
       "<tr><td>8</td><td>Literal</td><td></td><td><a class=\"ProveItLink\" href=\"../../../numeral/__pv_it/9be8badea4c35b9724062cecc501d17a3158d1d20/expr.ipynb\"><img src=\"data:image/png;base64,iVBORw0KGgoAAAANSUhEUgAAAAgAAAAPBAMAAAArJJMAAAAAHlBMVEX///+YmJgyMjIQEBBmZmaI\n",
       "iIhUVFTu7u5EREQAAAAw+MI4AAAAAXRSTlMAQObYZgAAACFJREFUCNdjYGBoZ2BgqJjOwFCWBiQY\n",
       "WEklWJwnOTKAAACjEQo8HvEr3AAAAABJRU5ErkJggg==\n",
       "\" style=\"display:inline;vertical-align:middle;\" /></a></td></tr>\n",
       "<tr><td>9</td><td>Literal</td><td></td><td><a class=\"ProveItLink\" href=\"../../../negation/__pv_it/3fc7a08bb9735faa20ef8e175f6ea95511acc9c70/expr.ipynb\"><img src=\"data:image/png;base64,iVBORw0KGgoAAAANSUhEUgAAAA4AAAACBAMAAACapPCZAAAAElBMVEX///+6uroiIiIyMjLc3NwA\n",
       "AAA6l9OrAAAAAXRSTlMAQObYZgAAABBJREFUCNdjcFYCAUUGKAAADR4BD8/TF5gAAAAASUVORK5C\n",
       "YII=\n",
       "\" style=\"display:inline;vertical-align:middle;\" /></a></td></tr>\n",
       "<tr><td>10</td><td>Literal</td><td></td><td><a class=\"ProveItLink\" href=\"../../../numeral/__pv_it/77d407a64829263cdc16415becd4c2293f77a4bf0/expr.ipynb\"><img src=\"data:image/png;base64,iVBORw0KGgoAAAANSUhEUgAAAAkAAAAOBAMAAAAPuiubAAAAMFBMVEX///+YmJh2dnbMzMwQEBAi\n",
       "IiLu7u6qqqqIiIhUVFS6urpEREQyMjJmZmbc3NwAAACOMKdoAAAAAXRSTlMAQObYZgAAAFBJREFU\n",
       "CNdj4Lt7egEDw0sGju8MDNMYGOIZGFwSGOYvYDifwHAfKAEUSQASzJ9ATJ4NIPI2iOCYACJrGfge\n",
       "MDBfYGB8wPBUSekqUPH//18ZAIliFhc3zESNAAAAAElFTkSuQmCC\n",
       "\" style=\"display:inline;vertical-align:middle;\" /></a></td></tr>\n",
       "</table>\n"
      ],
      "text/plain": [
       "0. (1 - 1 + 2 - 2 , 2 - 2)\n",
       "   core type: ExprTuple\n",
       "   sub-expressions: 1, 2\n",
       "1. 1 - 1 + 2 - 2\n",
       "   core type: Operation\n",
       "   operator: 4\n",
       "   operands: 3\n",
       "2. 2 - 2\n",
       "   core type: Operation\n",
       "   operator: 4\n",
       "   operands: 5\n",
       "3. (1 , -1 , 2 , -2)\n",
       "   core type: ExprTuple\n",
       "   sub-expressions: 8, 6, 10, 7\n",
       "4. +\n",
       "   core type: Literal\n",
       "   sub-expressions: \n",
       "5. (2 , -2)\n",
       "   core type: ExprTuple\n",
       "   sub-expressions: 10, 7\n",
       "6. -1\n",
       "   core type: Operation\n",
       "   operator: 9\n",
       "   operand: 8\n",
       "7. -2\n",
       "   core type: Operation\n",
       "   operator: 9\n",
       "   operand: 10\n",
       "8. 1\n",
       "   core type: Literal\n",
       "   sub-expressions: \n",
       "9. -\n",
       "   core type: Literal\n",
       "   sub-expressions: \n",
       "10. 2\n",
       "    core type: Literal\n",
       "    sub-expressions: "
      ]
     },
     "execution_count": 4,
     "metadata": {},
     "output_type": "execute_result"
    }
   ],
   "source": [
    "# display the expression information\n",
    "expr.exprInfo()"
   ]
  },
  {
   "cell_type": "code",
   "execution_count": null,
   "metadata": {},
   "outputs": [],
   "source": []
  }
 ],
 "metadata": {
  "kernelspec": {
   "display_name": "Python 3",
   "language": "python",
   "name": "python3"
  }
 },
 "nbformat": 4,
 "nbformat_minor": 0
}
