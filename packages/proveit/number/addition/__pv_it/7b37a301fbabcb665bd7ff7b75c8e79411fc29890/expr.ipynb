{
 "cells": [
  {
   "cell_type": "markdown",
   "metadata": {},
   "source": [
    "Expression of type <a class=\"ProveItLink\" href=\"../../../../../../doc/html/api/proveit.ExprTuple.html\">ExprTuple</a>\n",
    "=======================\n",
    "# from context <a class=\"ProveItLink\" href=\"../../_context_.ipynb\">proveit.number.addition</a>"
   ]
  },
  {
   "cell_type": "code",
   "execution_count": 1,
   "metadata": {},
   "outputs": [],
   "source": [
    "# import Expression classes needed to build the expression\n",
    "from proveit import ExprTuple\n",
    "from proveit.number import Exp, Neg, RealsNeg, one"
   ]
  },
  {
   "cell_type": "code",
   "execution_count": 2,
   "metadata": {},
   "outputs": [
    {
     "data": {
      "text/html": [
       "<strong id=\"expr\">expr:</strong> <a class=\"ProveItLink\" href=\"expr.ipynb\"><img src=\"data:image/png;base64,iVBORw0KGgoAAAANSUhEUgAAAHwAAAAcBAMAAABRxMbXAAAAMFBMVEX///+qqqp2dnYiIiJERESI\n",
       "iIhmZmYQEBDc3NyYmJgyMjLu7u5UVFTMzMy6uroAAACGxKilAAAAAXRSTlMAQObYZgAAAhVJREFU\n",
       "OMtjYCAPXGGgBFw7DGe+I0e/MBArgBi8B8jVfgfE2LWBXO2sAUDiJIj3FFVyHhKbL4ABiyRIO4MF\n",
       "AwNHAboHvBkY2C4guHcYZn3xX1WFMAQsCdYeA+QkAGkuJA9s+Q0kFiD4qxkYHHoYrkg1MIi4AMEG\n",
       "iCRY+/4NDOwPgHQoQvWeMyDtk+B8kAcd2hhYdjjAhSbBtDNPYLgPoquR3M4K0r4dzmXfANbOdAGh\n",
       "fTtMO5sDQzgodBaga2cRgHFfMWBoB0o2rU8FMjg/MJwCmaKArp0pAcZNgmjnQXI8XJLvN4MPKOQm\n",
       "oGtnhLtnJUT741kNcBVwSd6/DMtA/nuArp2vAMatA2lvN7YSQEoJMEmOfwxmQIofqL3LGATsoNp5\n",
       "P8DU/gPb/owFKWrhktwf4dpRbUfXzvb2ABbtQNvXgBwvgNvxhRC/r47E5vi/DEdAMYERdJyg0OEG\n",
       "cT0h2u/wINIxJyzo+H4wBKNEE0rE7TcAEmrQeBfwwIw4YLy/B5ligNDNlv4rExiVoNDY/gNIPGYA\n",
       "ZRlfhiXr4T7kggUV0wIGfpCjKtCzMyTRvgCFSwMDdkmQOQEMPAooOQQKVMEkKEg4FRiwS4J818DA\n",
       "a4CWYcERugCuHZRhsUoCwRQgdgTFAFp5xwN2MSuY3YOunQfuHVsg7gIxWlFVxCKxOdALK7gkJygG\n",
       "GBXILexbwOREcrVnM1AKADmpitK9RqtFAAAAAElFTkSuQmCC\n",
       "\" style=\"display:inline;vertical-align:middle;\" /></a><br>"
      ],
      "text/plain": [
       "expr: ((-1) , (RealsNeg)^{1})"
      ]
     },
     "execution_count": 2,
     "metadata": {},
     "output_type": "execute_result"
    }
   ],
   "source": [
    "# build up the expression from sub-expressions\n",
    "expr = ExprTuple([Neg(one)], Exp(RealsNeg, one))"
   ]
  },
  {
   "cell_type": "code",
   "execution_count": 3,
   "metadata": {},
   "outputs": [
    {
     "name": "stdout",
     "output_type": "stream",
     "text": [
      "Passed sanity check: built 'expr' is the same as the stored Expression.\n"
     ]
    }
   ],
   "source": [
    "# check that the built expression is the same as the stored expression\n",
    "%check_expr"
   ]
  },
  {
   "cell_type": "code",
   "execution_count": 4,
   "metadata": {},
   "outputs": [
    {
     "data": {
      "text/html": [
       "<table><tr><th>&nbsp;</th><th>core type</th><th>sub-expressions</th><th>expression</th></tr>\n",
       "<tr><td>0</td><td>ExprTuple</td><td>1, 2</td><td><a class=\"ProveItLink\" href=\"expr.ipynb\"><img src=\"data:image/png;base64,iVBORw0KGgoAAAANSUhEUgAAAHwAAAAcBAMAAABRxMbXAAAAMFBMVEX///+qqqp2dnYiIiJERESI\n",
       "iIhmZmYQEBDc3NyYmJgyMjLu7u5UVFTMzMy6uroAAACGxKilAAAAAXRSTlMAQObYZgAAAhVJREFU\n",
       "OMtjYCAPXGGgBFw7DGe+I0e/MBArgBi8B8jVfgfE2LWBXO2sAUDiJIj3FFVyHhKbL4ABiyRIO4MF\n",
       "AwNHAboHvBkY2C4guHcYZn3xX1WFMAQsCdYeA+QkAGkuJA9s+Q0kFiD4qxkYHHoYrkg1MIi4AMEG\n",
       "iCRY+/4NDOwPgHQoQvWeMyDtk+B8kAcd2hhYdjjAhSbBtDNPYLgPoquR3M4K0r4dzmXfANbOdAGh\n",
       "fTtMO5sDQzgodBaga2cRgHFfMWBoB0o2rU8FMjg/MJwCmaKArp0pAcZNgmjnQXI8XJLvN4MPKOQm\n",
       "oGtnhLtnJUT741kNcBVwSd6/DMtA/nuArp2vAMatA2lvN7YSQEoJMEmOfwxmQIofqL3LGATsoNp5\n",
       "P8DU/gPb/owFKWrhktwf4dpRbUfXzvb2ABbtQNvXgBwvgNvxhRC/r47E5vi/DEdAMYERdJyg0OEG\n",
       "cT0h2u/wINIxJyzo+H4wBKNEE0rE7TcAEmrQeBfwwIw4YLy/B5ligNDNlv4rExiVoNDY/gNIPGYA\n",
       "ZRlfhiXr4T7kggUV0wIGfpCjKtCzMyTRvgCFSwMDdkmQOQEMPAooOQQKVMEkKEg4FRiwS4J818DA\n",
       "a4CWYcERugCuHZRhsUoCwRQgdgTFAFp5xwN2MSuY3YOunQfuHVsg7gIxWlFVxCKxOdALK7gkJygG\n",
       "GBXILexbwOREcrVnM1AKADmpitK9RqtFAAAAAElFTkSuQmCC\n",
       "\" style=\"display:inline;vertical-align:middle;\" /></a></td></tr>\n",
       "<tr><td>1</td><td>ExprTuple</td><td>3</td><td><a class=\"ProveItLink\" href=\"../adccc98f3b78207f57c55b93f40bb2a88e045bc40/expr.ipynb\"><img src=\"data:image/png;base64,iVBORw0KGgoAAAANSUhEUgAAACYAAAAVBAMAAADY/YGeAAAAMFBMVEX////c3NwiIiJERESqqqqY\n",
       "mJh2dnZmZmYQEBDu7u4yMjJUVFTMzMyIiIi6uroAAAAs73DqAAAAAXRSTlMAQObYZgAAAJtJREFU\n",
       "GNNjYMAG+C6gcFkfAInTSALMExgYaoD0SoQQpz1QjIuBgRehlXP3fqAYawIDxwQkvfeBHM4GhlcM\n",
       "aGIMJgxlGGLpDEsxxLwY+jDEXjD8Y2BgXKQEAg+gYudBYmjqzjO0YNFriiEWBbQZ0y2PkITK+5cH\n",
       "MDCsY+AQQAs7oN+AXkYFbBdQwgoMZgGxNJrYRiBmRA173gMMAFLXLfvf5E5ZAAAAAElFTkSuQmCC\n",
       "\" style=\"display:inline;vertical-align:middle;\" /></a></td></tr>\n",
       "<tr><td>2</td><td>Operation</td><td>operator:&nbsp;4<br>operands:&nbsp;5<br></td><td><a class=\"ProveItLink\" href=\"../8b9509753e5443b70dd551c347b998e69f0742da0/expr.ipynb\"><img src=\"data:image/png;base64,iVBORw0KGgoAAAANSUhEUgAAADMAAAAZBAMAAABuuAtJAAAAMFBMVEX////c3NwiIiJERESqqqqY\n",
       "mJh2dnZmZmYQEBDu7u4yMjJUVFTMzMyIiIi6uroAAAAs73DqAAAAAXRSTlMAQObYZgAAAOFJREFU\n",
       "KM9jYMAOeAwYcMlUK+CSYmAhX4rvApoo6wOY1GmGqM/2q7qQFNTApFYyMBhIMxz2EmBwNgaCCQwM\n",
       "XFApXqByA3EG5okIj7AmQKQ4JoCl2A4gpDgbIFKvGDCkGEwYGLO+X2Aog0hxIxnIkA6hlkKkHkUJ\n",
       "IKS8IFQfSEpCScsByWcvINQ/sK7nzBOQpM4jS7G/2YAp1QKxa+VVTANNIVKnuQ8gpKIQDgX5y8EQ\n",
       "w/GPGEDBa8OweD3CjesgFIcARlyBAgoWlmiADRZBKzGkZsEY0hhSG2EMRvQEwAv1BgBZ3TUt4njR\n",
       "4gAAAABJRU5ErkJggg==\n",
       "\" style=\"display:inline;vertical-align:middle;\" /></a></td></tr>\n",
       "<tr><td>3</td><td>Operation</td><td>operator:&nbsp;6<br>operand:&nbsp;8<br></td><td><a class=\"ProveItLink\" href=\"../27bb768acc4707a63c4de5a0b22e13dfe76b5c980/expr.ipynb\"><img src=\"data:image/png;base64,iVBORw0KGgoAAAANSUhEUgAAABgAAAAPBAMAAAAMihLoAAAAJ1BMVEX///+YmJgQEBBmZmaIiIhU\n",
       "VFTu7u5ERES6uroiIiIyMjLc3NwAAAAKCT4sAAAAAXRSTlMAQObYZgAAACpJREFUCNdjYICDMgST\n",
       "If0Ygp0aisRhYCGTs2smCMwg3wAYYDY6ZciADABBShCHMIgXsAAAAABJRU5ErkJggg==\n",
       "\" style=\"display:inline;vertical-align:middle;\" /></a></td></tr>\n",
       "<tr><td>4</td><td>Literal</td><td></td><td><a class=\"ProveItLink\" href=\"../../../exponentiation/__pv_it/deb2bf23cbccdd6e6791e1b35b5b9794ce12dbd50/expr.ipynb\"><img src=\"data:image/png;base64,iVBORw0KGgoAAAANSUhEUgAAACgAAAASBAMAAADbMYGVAAAAMFBMVEX///8QEBAiIiKYmJjc3Nzu\n",
       "7u7MzMx2dnZmZma6urpERESqqqoyMjJUVFSIiIgAAAAoDOMTAAAAAXRSTlMAQObYZgAAAOBJREFU\n",
       "GNNjYGB4+//u3Tt/GNAASGAXmhjnPyDBgSbI/g1IxKEJ8nxgYGdgQRPkX8BgDKRY6q7s62OYvmze\n",
       "2wAgb/7ZO1+AVDiDkYEQQ0HTBr4DQF59AgOIKmB4z7CNbcNZBu6vQN55kEACQwDDLQYGVobfDHwg\n",
       "fb8YGBxYHwAZciD3fWXg+gB1JjvQcJZvQIXsCgz8F6DO9GBgMOH7wPCUgaeBwd4B7EwGNjUG7s9c\n",
       "AiwPgO5jkWRgiF3/9+5dfQUG1nWl5Y+B7pv+1gE9bBhqGLCAE1jEWH9jEbT5A3IwAC4sP/1L6Qlu\n",
       "AAAAAElFTkSuQmCC\n",
       "\" style=\"display:inline;vertical-align:middle;\" /></a></td></tr>\n",
       "<tr><td>5</td><td>ExprTuple</td><td>7, 8</td><td><a class=\"ProveItLink\" href=\"../caadd3a42d26bef67b2ff96a24f45acefd96d8250/expr.ipynb\"><img src=\"data:image/png;base64,iVBORw0KGgoAAAANSUhEUgAAAD4AAAAaBAMAAAAd0vJXAAAAMFBMVEX///+qqqp2dnYiIiJERESI\n",
       "iIhmZmYQEBDc3NyYmJgyMjLu7u5UVFTMzMy6uroAAACGxKilAAAAAXRSTlMAQObYZgAAASBJREFU\n",
       "KM9jYGB4x4ALKIAI3gM45e+AiF0bcMqzBgCJkwy4gQUDA0cBw6wv/quqAtDlvIE4hoGBLYGBwaGH\n",
       "4YpUA4OICxDAbNvyG0js38DA/gAo38bAssMBRfeeMyB55gkM9xnA8kwXHNDcBpJnc2AIxyfP+YHh\n",
       "FESeZwc2eb7fDD4Q+cezGrDI8/5lWAaSbze2EmDAIs/xj8EMrP8ZywZs8twfofJsbw/g0L8GYv/q\n",
       "SKzyfxmOQOTv8FyAyXAjuf8HQzDU/wIeMPn9Bsj+f88Aih9fhiXrYT7Y/gMUcum/MhkYmBYw8F/A\n",
       "iNUXcBZXAAOPAob8BDhrfwMDrwEe+SlA7IiRqhBMWyDuwp28OIFph4FRAad8C5iciFM+m4EgAAA8\n",
       "2VWl6lCHFwAAAABJRU5ErkJggg==\n",
       "\" style=\"display:inline;vertical-align:middle;\" /></a></td></tr>\n",
       "<tr><td>6</td><td>Literal</td><td></td><td><a class=\"ProveItLink\" href=\"../../../negation/__pv_it/3fc7a08bb9735faa20ef8e175f6ea95511acc9c70/expr.ipynb\"><img src=\"data:image/png;base64,iVBORw0KGgoAAAANSUhEUgAAAA4AAAACBAMAAACapPCZAAAAElBMVEX///+6uroiIiIyMjLc3NwA\n",
       "AAA6l9OrAAAAAXRSTlMAQObYZgAAABBJREFUCNdjcFYCAUUGKAAADR4BD8/TF5gAAAAASUVORK5C\n",
       "YII=\n",
       "\" style=\"display:inline;vertical-align:middle;\" /></a></td></tr>\n",
       "<tr><td>7</td><td>Literal</td><td></td><td><a class=\"ProveItLink\" href=\"../../../sets/real/__pv_it/ae6abf015b290ff2a5b5ccb58f19177a82c6074b0/expr.ipynb\"><img src=\"data:image/png;base64,iVBORw0KGgoAAAANSUhEUgAAABsAAAAOBAMAAAAs4XpOAAAAMFBMVEX///8iIiK6urp2dnbu7u5m\n",
       "ZmaqqqrMzMxUVFTc3NyIiIgQEBBEREQyMjKYmJgAAAA9nvXMAAAAAXRSTlMAQObYZgAAAF1JREFU\n",
       "CNdjePvn/N29Cxjg4MAMhprcCQw5Z4DAAcidysDjeQAhO5WBuQAflwNVseLbCQjubEHZBCSLpqry\n",
       "OCBzWdUbkLkMV9ahcCs4ClDsTTgJ4wG9cJzhzn2o2QB/7ytaZzHgkAAAAABJRU5ErkJggg==\n",
       "\" style=\"display:inline;vertical-align:middle;\" /></a></td></tr>\n",
       "<tr><td>8</td><td>Literal</td><td></td><td><a class=\"ProveItLink\" href=\"../../../numeral/__pv_it/9be8badea4c35b9724062cecc501d17a3158d1d20/expr.ipynb\"><img src=\"data:image/png;base64,iVBORw0KGgoAAAANSUhEUgAAAAgAAAAPBAMAAAArJJMAAAAAHlBMVEX///+YmJgyMjIQEBBmZmaI\n",
       "iIhUVFTu7u5EREQAAAAw+MI4AAAAAXRSTlMAQObYZgAAACFJREFUCNdjYGBoZ2BgqJjOwFCWBiQY\n",
       "WEklWJwnOTKAAACjEQo8HvEr3AAAAABJRU5ErkJggg==\n",
       "\" style=\"display:inline;vertical-align:middle;\" /></a></td></tr>\n",
       "</table>\n"
      ],
      "text/plain": [
       "0. ((-1) , (RealsNeg)^{1})\n",
       "   core type: ExprTuple\n",
       "   sub-expressions: 1, 2\n",
       "1. (-1)\n",
       "   core type: ExprTuple\n",
       "   sub-expressions: 3\n",
       "2. (RealsNeg)^{1}\n",
       "   core type: Operation\n",
       "   operator: 4\n",
       "   operands: 5\n",
       "3. -1\n",
       "   core type: Operation\n",
       "   operator: 6\n",
       "   operand: 8\n",
       "4. Exp\n",
       "   core type: Literal\n",
       "   sub-expressions: \n",
       "5. (RealsNeg , 1)\n",
       "   core type: ExprTuple\n",
       "   sub-expressions: 7, 8\n",
       "6. -\n",
       "   core type: Literal\n",
       "   sub-expressions: \n",
       "7. RealsNeg\n",
       "   core type: Literal\n",
       "   sub-expressions: \n",
       "8. 1\n",
       "   core type: Literal\n",
       "   sub-expressions: "
      ]
     },
     "execution_count": 4,
     "metadata": {},
     "output_type": "execute_result"
    }
   ],
   "source": [
    "# display the expression information\n",
    "expr.exprInfo()"
   ]
  },
  {
   "cell_type": "code",
   "execution_count": null,
   "metadata": {},
   "outputs": [],
   "source": []
  }
 ],
 "metadata": {
  "kernelspec": {
   "display_name": "Python 3",
   "language": "python",
   "name": "python3"
  }
 },
 "nbformat": 4,
 "nbformat_minor": 0
}
