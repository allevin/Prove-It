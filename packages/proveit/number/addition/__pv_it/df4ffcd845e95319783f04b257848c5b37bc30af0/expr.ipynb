{
 "cells": [
  {
   "cell_type": "markdown",
   "metadata": {},
   "source": [
    "Expression of type <a class=\"ProveItLink\" href=\"../../../../../../doc/html/api/proveit.ExprTuple.html\">ExprTuple</a>\n",
    "=======================\n",
    "# from context <a class=\"ProveItLink\" href=\"../../_context_.ipynb\">proveit.number.addition</a>"
   ]
  },
  {
   "cell_type": "code",
   "execution_count": 1,
   "metadata": {},
   "outputs": [],
   "source": [
    "# import Expression classes needed to build the expression\n",
    "from proveit import ExprTuple\n",
    "from proveit._common_ import c\n",
    "from proveit.number import Add, Mult, one, seven, three, two"
   ]
  },
  {
   "cell_type": "code",
   "execution_count": 2,
   "metadata": {},
   "outputs": [
    {
     "data": {
      "text/html": [
       "<strong id=\"expr\">expr:</strong> <a class=\"ProveItLink\" href=\"expr.ipynb\"><img src=\"data:image/png;base64,iVBORw0KGgoAAAANSUhEUgAAAUcAAAAVBAMAAAAnVjEQAAAAMFBMVEX////c3NwiIiJERESqqqqY\n",
       "mJh2dnZmZmYQEBDu7u4yMjJUVFTMzMyIiIi6uroAAAAs73DqAAAAAXRSTlMAQObYZgAAAuBJREFU\n",
       "SMfVVz9oE1EY/y7/L/8apw46ZBI3O7SrzSYI0rg4OGhASFEMZpAGgkMGFx3SK4IEl4SqSE+Qc3Jw\n",
       "SHCog0OyCIJKi5MIkvoXIjTxvXu55N73vruIQ9WDNOX3vt+fvu/de68A/8WT7v0rtuFdqvA8//GS\n",
       "fYLGLM356gkZSBYv5mYm8dFlttvFRRm7jmqerxWLhWiH/bYFoC/PCqlZsCNnmof0/qyMfrpboJWh\n",
       "L09nHNVcGI1GFrQAUj3Qn7UdsQ2sNQYSBgT2JORqDr6Mo2Q8SH66zDbyDeaycr8LcvklZgxwFiDG\n",
       "dXYcsdNYbAzEbkJiKCErk5ChngfJT5fZhpSQek0uZ5mvADQAPsLvhIwPIDpEJU67/yikbYvbDYu4\n",
       "nL9ewRyskWJ3Sm+xemCAkLiFQqokb13bFh5N89kjqzjkbfaJlOEBJZaswyYO2S3IyLbj4IQkSN66\n",
       "3DZ52ZpuFvbIKRzyGtdvQZ0Sa/RgCYe8hwVSdTkkQfLWFdzXfGfUjcnIB+Sh85c1XYMhJdZWl1d0\n",
       "QVle64YUsj17TU5LxAKP8SXUzE5Gukgg1eKTvOcOWTXNY6bJu/hV1EwBgDcIOQKwnGfZTXPzlmla\n",
       "NMlDV4TUOhD8zidxYTLSRQIBS4S8QfzF2r4yKaEyHHIj+siwQ05nkiD56DLb5kCEdI3gdjfLot1L\n",
       "VFsYNyyXvwA4IyE/AY5npHarJFrXxpjtXAsCn51KQT6HQvZ5yHBLvPVY7Km9i7oA7WhxNSshryD9\n",
       "Q35xFBKtq9tnALNN5aHvHDFjMt6CVspiC3rPvirrD/PSaLT0zpCAADtF5ZChSjUnh1RItK6+zhvA\n",
       "bU9W7k/aL8iPUcgup8d3IZYhzwpPQEV8ThwSSXPHWIa6kNQogYbrULefT5inACqi3gz9SWHpLuF+\n",
       "Ij1KoCSuagf7hMdXNfW5S973+F55+KBDiumibJ9Q5Qm+MLS/8+8DYZvqUIXs3vELyfQWLbrU8x4A\n",
       "AAAASUVORK5CYII=\n",
       "\" style=\"display:inline;vertical-align:middle;\" /></a><br>"
      ],
      "text/plain": [
       "expr: (1 + c + 2 + 3 + c + 1 + c , (3 * c) + 7)"
      ]
     },
     "execution_count": 2,
     "metadata": {},
     "output_type": "execute_result"
    }
   ],
   "source": [
    "# build up the expression from sub-expressions\n",
    "expr = ExprTuple(Add(one, c, two, three, c, one, c), Add(Mult(three, c), seven))"
   ]
  },
  {
   "cell_type": "code",
   "execution_count": 3,
   "metadata": {},
   "outputs": [
    {
     "name": "stdout",
     "output_type": "stream",
     "text": [
      "Passed sanity check: built 'expr' is the same as the stored Expression.\n"
     ]
    }
   ],
   "source": [
    "# check that the built expression is the same as the stored expression\n",
    "%check_expr"
   ]
  },
  {
   "cell_type": "code",
   "execution_count": 4,
   "metadata": {},
   "outputs": [
    {
     "data": {
      "text/html": [
       "<table><tr><th>&nbsp;</th><th>core type</th><th>sub-expressions</th><th>expression</th></tr>\n",
       "<tr><td>0</td><td>ExprTuple</td><td>1, 2</td><td><a class=\"ProveItLink\" href=\"expr.ipynb\"><img src=\"data:image/png;base64,iVBORw0KGgoAAAANSUhEUgAAAUcAAAAVBAMAAAAnVjEQAAAAMFBMVEX////c3NwiIiJERESqqqqY\n",
       "mJh2dnZmZmYQEBDu7u4yMjJUVFTMzMyIiIi6uroAAAAs73DqAAAAAXRSTlMAQObYZgAAAuBJREFU\n",
       "SMfVVz9oE1EY/y7/L/8apw46ZBI3O7SrzSYI0rg4OGhASFEMZpAGgkMGFx3SK4IEl4SqSE+Qc3Jw\n",
       "SHCog0OyCIJKi5MIkvoXIjTxvXu55N73vruIQ9WDNOX3vt+fvu/de68A/8WT7v0rtuFdqvA8//GS\n",
       "fYLGLM356gkZSBYv5mYm8dFlttvFRRm7jmqerxWLhWiH/bYFoC/PCqlZsCNnmof0/qyMfrpboJWh\n",
       "L09nHNVcGI1GFrQAUj3Qn7UdsQ2sNQYSBgT2JORqDr6Mo2Q8SH66zDbyDeaycr8LcvklZgxwFiDG\n",
       "dXYcsdNYbAzEbkJiKCErk5ChngfJT5fZhpSQek0uZ5mvADQAPsLvhIwPIDpEJU67/yikbYvbDYu4\n",
       "nL9ewRyskWJ3Sm+xemCAkLiFQqokb13bFh5N89kjqzjkbfaJlOEBJZaswyYO2S3IyLbj4IQkSN66\n",
       "3DZ52ZpuFvbIKRzyGtdvQZ0Sa/RgCYe8hwVSdTkkQfLWFdzXfGfUjcnIB+Sh85c1XYMhJdZWl1d0\n",
       "QVle64YUsj17TU5LxAKP8SXUzE5Gukgg1eKTvOcOWTXNY6bJu/hV1EwBgDcIOQKwnGfZTXPzlmla\n",
       "NMlDV4TUOhD8zidxYTLSRQIBS4S8QfzF2r4yKaEyHHIj+siwQ05nkiD56DLb5kCEdI3gdjfLot1L\n",
       "VFsYNyyXvwA4IyE/AY5npHarJFrXxpjtXAsCn51KQT6HQvZ5yHBLvPVY7Km9i7oA7WhxNSshryD9\n",
       "Q35xFBKtq9tnALNN5aHvHDFjMt6CVspiC3rPvirrD/PSaLT0zpCAADtF5ZChSjUnh1RItK6+zhvA\n",
       "bU9W7k/aL8iPUcgup8d3IZYhzwpPQEV8ThwSSXPHWIa6kNQogYbrULefT5inACqi3gz9SWHpLuF+\n",
       "Ij1KoCSuagf7hMdXNfW5S973+F55+KBDiumibJ9Q5Qm+MLS/8+8DYZvqUIXs3vELyfQWLbrU8x4A\n",
       "AAAASUVORK5CYII=\n",
       "\" style=\"display:inline;vertical-align:middle;\" /></a></td></tr>\n",
       "<tr><td>1</td><td>Operation</td><td>operator:&nbsp;4<br>operands:&nbsp;3<br></td><td><a class=\"ProveItLink\" href=\"../7c4ebe32948f91a2bb66560fce7b4951538416d70/expr.ipynb\"><img src=\"data:image/png;base64,iVBORw0KGgoAAAANSUhEUgAAANwAAAAQBAMAAACPXgx9AAAAMFBMVEX////MzMx2dna6uroiIiKq\n",
       "qqrc3NyYmJgyMjIQEBBmZmaIiIhUVFTu7u5EREQAAACN3imBAAAAAXRSTlMAQObYZgAAAVZJREFU\n",
       "OMtjYGB4y0AAsK3qM0AVYVTSCyCkC4e59/4S0pfDwP0VVSSLgfk3IV3Yzb1zBibMm4Audw1CnWVg\n",
       "8EdVoh/A8IWAJlzmcsOEWTeg64yGUDMvMJw3QFESD7cOpyZc5hK2rv8Cw3oDNCWwwKSCdZe0N6Lq\n",
       "BAbmBTSdHAcIacJhLoYw42SGFjTrGD+h6RTqIagJh7kYwjc3MDxHs47jAXq4cE8mpAmHuRjC5zGi\n",
       "gWEdZjTMv0BAEw5zIcJcHR0tMzo6QDHyDyK7oqPDs6MDHGjcB9CUJDIwvC8gpAm7ueiuYPuN4dAo\n",
       "BrYEZCW8/y+ArcOrCYe5GJ7+zsDAjqKTcQEDO4p1DD+AaTUBvyZc5mIIn2JgUETRmaKktARVyXYG\n",
       "5k8ENOEwl2vlj+Wowlzauy+g6PT//x+tDGFdtSKAgCZ85hIoIPAoIUsTpFzCELYmrIRETQDkVLLx\n",
       "V78j4wAAAABJRU5ErkJggg==\n",
       "\" style=\"display:inline;vertical-align:middle;\" /></a></td></tr>\n",
       "<tr><td>2</td><td>Operation</td><td>operator:&nbsp;4<br>operands:&nbsp;5<br></td><td><a class=\"ProveItLink\" href=\"../45eacb783c7fd4768d0f3af7a3da846b3d72e3d70/expr.ipynb\"><img src=\"data:image/png;base64,iVBORw0KGgoAAAANSUhEUgAAAFQAAAAVBAMAAAAqQdQ7AAAAMFBMVEX////c3NwiIiJERESqqqqY\n",
       "mJh2dnZmZmYQEBDu7u4yMjJUVFTMzMyIiIi6uroAAAAs73DqAAAAAXRSTlMAQObYZgAAAUtJREFU\n",
       "KM9jYCAB8F3AEGJ9gF3paQaGY2kmqGI1aGoOlaWlJTAwrGRgLGB4j2o0F5rS+P///29g4L3AwPaF\n",
       "gV8B1QUJUMZECJXJwMDNwMAxgYEFQylnA5ThC6GAOnMYGF6B2WgOYDBBVQrxfBmYtRqhalruHQaG\n",
       "dHSlk4F4KRDzZG2Aq+TpY1jEwOCFrrQEiPvArBugkOScACRmXGAwZWB4gaaU8wOQ+AdmcvwEEvNB\n",
       "ftsP5p9HU8q7AKKU8QAD81eQgQZA4jNCadWqVRqrVoG9wQRyYQvQtJ8QpSDA+BdMoTtgfgGQADqM\n",
       "fwED00eY+4F6WBkYotCUvgcpBQYLbwDDe1j0MGwHhzZ6YPmDlD4CYvfyJfDAYs+9CwyIdWhKzweA\n",
       "/C6AJbWhRyxaykAGbLB4fosivBKL0lnYk7Y0FrGN2JUyYmYY3gPYFAIA9YZToK1xpXsAAAAASUVO\n",
       "RK5CYII=\n",
       "\" style=\"display:inline;vertical-align:middle;\" /></a></td></tr>\n",
       "<tr><td>3</td><td>ExprTuple</td><td>7, 13, 6, 12, 13, 7, 13</td><td><a class=\"ProveItLink\" href=\"../e4df7873210dd6984adcebc5c684ceeafa4f3d7f0/expr.ipynb\"><img src=\"data:image/png;base64,iVBORw0KGgoAAAANSUhEUgAAAIgAAAAVBAMAAABvbLv8AAAAMFBMVEX////c3NwiIiJERESqqqqY\n",
       "mJh2dnZmZmYQEBDu7u4yMjJUVFTMzMyIiIi6uroAAAAs73DqAAAAAXRSTlMAQObYZgAAAbdJREFU\n",
       "OMutlDFMwkAYhR8IQoESnBh0YHLVQQcXZXYRVycSE1gkuiiGODi4uEATE0N0MNEYY0wMTg4MOOng\n",
       "QBcnNagTcVKJJpBAvV7b6/UwXbDJ9d691/vS63894F+uqDrYfP8Lud2TNqSIUbwwa4hIZjnZN3GG\n",
       "H2yRdg5IcyLEU0HDmBtHtCsy9tr8KATIKqRqTYSEFXg/qFpN4ksID6sOiD+NoD6/IUKCuwj3qFro\n",
       "h0B2QKRtvOMvSKiNQM/68l13CKaw4YDs556syGs9GaqIoQ2hVhanPCRSxLGV19NGf3sBMWQQw5pH\n",
       "kYeUVUxbkBP28kUxZBDDaqLHQ2r2QgOTTJYUIWQQw6o7IS0b8mj2Y8BcSggZpGVCdjiIx66Dbw0j\n",
       "tH6aYkK40IKYVtNYpg7ROd9k61CBO2CRqg4wEZPgCHWIbWGJ1MeASPqWugZWqPCMZ7IJqh4Q/cFR\n",
       "gg8phFl6id+IzpfOUlIpRr5m7lmhwqtpWoIqX76QRPkTXBjY7KzbFnCJYMzamH2CU68uFtn2/rT1\n",
       "H0EUnEq5WMMqPQoGgxyQNmpqdsDZJx1Tspt1pRdiwONRvsEvn6yVh90wGKIAAAAASUVORK5CYII=\n",
       "\" style=\"display:inline;vertical-align:middle;\" /></a></td></tr>\n",
       "<tr><td>4</td><td>Literal</td><td></td><td><a class=\"ProveItLink\" href=\"../3e6688136fa3c7aefbebe51301b7c3ebf0b69c440/expr.ipynb\"><img src=\"data:image/png;base64,iVBORw0KGgoAAAANSUhEUgAAAA4AAAAOBAMAAADtZjDiAAAAJFBMVEX///+6urpUVFQQEBAiIiIy\n",
       "MjJmZmaIiIiqqqrc3Nzu7u4AAACgHpL+AAAAAXRSTlMAQObYZgAAAB5JREFUCNdjYGBgWMkAAe2k\n",
       "0Kmhoc6hoUGk6BMHYgAHOwjcado9fwAAAABJRU5ErkJggg==\n",
       "\" style=\"display:inline;vertical-align:middle;\" /></a></td></tr>\n",
       "<tr><td>5</td><td>ExprTuple</td><td>8, 9</td><td><a class=\"ProveItLink\" href=\"../6131707827e6afd710b8cfeaf1e2fecab3a7c3ac0/expr.ipynb\"><img src=\"data:image/png;base64,iVBORw0KGgoAAAANSUhEUgAAAEEAAAAVBAMAAADrxp6XAAAAMFBMVEX////c3NwiIiJERESqqqqY\n",
       "mJh2dnZmZmYQEBDu7u4yMjJUVFTMzMyIiIi6uroAAAAs73DqAAAAAXRSTlMAQObYZgAAAT5JREFU\n",
       "KM9jYCAM+C7gkYwDEacZGI6lmWBKHipLS0tgPwBkrWRgLGB4j2lQ/P///zcwLGBg4L3AwPaFgV8B\n",
       "Q0UmAwM3A0MYAwPHBAYWrCoSGBhyGBhmMDC8AnPfX8DhB2YHhjIwZzVCfFruHShrMhCzFTAsBVI8\n",
       "WRvgCnj6GBZBmSVAzLKAoQ/MufEASHBOABIzLjCYQhRwfgDZ1MDwD8zj+Akk5oOcux9uGu8CkJEf\n",
       "QCoYDzAwfwVpNwASn+EqmDZAVLQA9f6EqAABxr9wFfMLILYALeVfwMD0ESYOVMrKMAEcAiAVrAsY\n",
       "0oEWBjC8T4Cp2A4MKM5PIJZ/AcS3j4CUe/kSuNnsuXcncPYLAFnnA4AE1wMGDgFsoQkXBIY6awIW\n",
       "FaxwVi449vGo4ASFiTQWFfB45AZZx4gvFQIjEQAeJE5FRy1+sAAAAABJRU5ErkJggg==\n",
       "\" style=\"display:inline;vertical-align:middle;\" /></a></td></tr>\n",
       "<tr><td>6</td><td>Literal</td><td></td><td><a class=\"ProveItLink\" href=\"../../../numeral/__pv_it/77d407a64829263cdc16415becd4c2293f77a4bf0/expr.ipynb\"><img src=\"data:image/png;base64,iVBORw0KGgoAAAANSUhEUgAAAAkAAAAOBAMAAAAPuiubAAAAMFBMVEX///+YmJh2dnbMzMwQEBAi\n",
       "IiLu7u6qqqqIiIhUVFS6urpEREQyMjJmZmbc3NwAAACOMKdoAAAAAXRSTlMAQObYZgAAAFBJREFU\n",
       "CNdj4Lt7egEDw0sGju8MDNMYGOIZGFwSGOYvYDifwHAfKAEUSQASzJ9ATJ4NIPI2iOCYACJrGfge\n",
       "MDBfYGB8wPBUSekqUPH//18ZAIliFhc3zESNAAAAAElFTkSuQmCC\n",
       "\" style=\"display:inline;vertical-align:middle;\" /></a></td></tr>\n",
       "<tr><td>7</td><td>Literal</td><td></td><td><a class=\"ProveItLink\" href=\"../../../numeral/__pv_it/9be8badea4c35b9724062cecc501d17a3158d1d20/expr.ipynb\"><img src=\"data:image/png;base64,iVBORw0KGgoAAAANSUhEUgAAAAgAAAAPBAMAAAArJJMAAAAAHlBMVEX///+YmJgyMjIQEBBmZmaI\n",
       "iIhUVFTu7u5EREQAAAAw+MI4AAAAAXRSTlMAQObYZgAAACFJREFUCNdjYGBoZ2BgqJjOwFCWBiQY\n",
       "WEklWJwnOTKAAACjEQo8HvEr3AAAAABJRU5ErkJggg==\n",
       "\" style=\"display:inline;vertical-align:middle;\" /></a></td></tr>\n",
       "<tr><td>8</td><td>Operation</td><td>operator:&nbsp;10<br>operands:&nbsp;11<br></td><td><a class=\"ProveItLink\" href=\"../6ea99038828acf4f95344c36471089d895e211420/expr.ipynb\"><img src=\"data:image/png;base64,iVBORw0KGgoAAAANSUhEUgAAACIAAAAOBAMAAAC4B9O8AAAAMFBMVEX///+YmJju7u4QEBBUVFQy\n",
       "MjIiIiKIiIi6urpmZmbc3NyqqqpERER2dnbMzMwAAAB0GlNiAAAAAXRSTlMAQObYZgAAAIZJREFU\n",
       "CNdjYHh79zQDCuCawNBfgCLC+5uBPwFFhBtDBAjQdAFBCIKpe72OgYHvqgNcgM+CIQxEFzcACSYF\n",
       "IKFcwHAQJML8CUjog4z3B7vnAQPPR5D0ASDxBySi/wkiApb9DiL5AxjYfsFMBkoxMrALMPRfgIl4\n",
       "MjDcY2DYOTMabjvn9XIFAJAVHuIpDSmpAAAAAElFTkSuQmCC\n",
       "\" style=\"display:inline;vertical-align:middle;\" /></a></td></tr>\n",
       "<tr><td>9</td><td>Literal</td><td></td><td><a class=\"ProveItLink\" href=\"../../../numeral/__pv_it/44c347496acc279b31e97f8859fc6a0a1e31c26b0/expr.ipynb\"><img src=\"data:image/png;base64,iVBORw0KGgoAAAANSUhEUgAAAAoAAAAOBAMAAADkjZCYAAAAKlBMVEX///8yMjKqqqpERESIiIi6\n",
       "urru7u5UVFSYmJh2dnZmZmYiIiLMzMwAAACZcOxaAAAAAXRSTlMAQObYZgAAAEVJREFUCNdjOL1y\n",
       "5swJDL13794tYJjGwMDOwDCBgWEOAxCwOoDIZBDBsAhEsF0AkSwCIJK7AETmLgCRsWBSF0yebWBg\n",
       "AAAo0Q9n+lHhAQAAAABJRU5ErkJggg==\n",
       "\" style=\"display:inline;vertical-align:middle;\" /></a></td></tr>\n",
       "<tr><td>10</td><td>Literal</td><td></td><td><a class=\"ProveItLink\" href=\"../../../multiplication/__pv_it/21fd2079611555ecce512d99547a00d551e6b86b0/expr.ipynb\"><img src=\"data:image/png;base64,iVBORw0KGgoAAAANSUhEUgAAAAMAAAADBAMAAACkBqiMAAAAElBMVEX///9EREQQEBAiIiLu7u4A\n",
       "AABGBidwAAAAAXRSTlMAQObYZgAAABFJREFUCNdjYHFgcDVgcBIAAASWAQx4jI0xAAAAAElFTkSu\n",
       "QmCC\n",
       "\" style=\"display:inline;vertical-align:middle;\" /></a></td></tr>\n",
       "<tr><td>11</td><td>ExprTuple</td><td>12, 13</td><td><a class=\"ProveItLink\" href=\"../6006dd3ab434da37f2d3692f39e9e2b651e1a4720/expr.ipynb\"><img src=\"data:image/png;base64,iVBORw0KGgoAAAANSUhEUgAAACkAAAAVBAMAAAAp9toTAAAAMFBMVEX////c3NwiIiJERESqqqqY\n",
       "mJh2dnZmZmYQEBDu7u4yMjJUVFTMzMyIiIi6uroAAAAs73DqAAAAAXRSTlMAQObYZgAAAPtJREFU\n",
       "GNNjYMAO+C6gCcSBiNMMDMfSTJBE2Q8AiZUMjAUM75E1LGBg4L3AwPaFgV8BSTSMgYFjAgMLmugM\n",
       "BoZXYAaKCcwODGVgxmqoAGfa3QMMbAUMS4FsnqwNUNETD7gUGFgWMPSBeTceQJT2MjAHMPA1MPwD\n",
       "czl+ginuDyCS5wNIlPEAA/NXsCi/AVS0hYFh/k+YqDzYKUATTIEqFjAwfWSYAFIbwMAQwMC6gCEd\n",
       "6L0AhvcJnJ9A5hYwsIFd9gjIcS9fwsDZLwBkld29ycDA9YCBQwAWogJIPmZNgLJZ4T7OBYckmign\n",
       "MCQZpKEcePhwg4xiRI+hOwwMANqAO5LCdo8qAAAAAElFTkSuQmCC\n",
       "\" style=\"display:inline;vertical-align:middle;\" /></a></td></tr>\n",
       "<tr><td>12</td><td>Literal</td><td></td><td><a class=\"ProveItLink\" href=\"../../../numeral/__pv_it/9176d93c83afa2c995b614976e3cb49207102fa70/expr.ipynb\"><img src=\"data:image/png;base64,iVBORw0KGgoAAAANSUhEUgAAAAoAAAAOBAMAAADkjZCYAAAAMFBMVEX///+YmJju7u4QEBBUVFQy\n",
       "MjIiIiKIiIi6urpmZmbc3NyqqqpERER2dnbMzMwAAAB0GlNiAAAAAXRSTlMAQObYZgAAAE1JREFU\n",
       "CNdjYHh79zQDA9cEhv4CBt7fDPwJDNxgEgiAIkAQAsR8Vx1ATIbiBhDJ/ImB6wEDz0cG/U8gkj+A\n",
       "ge0XA7sAQ/8FBoadM6MZAEflFACalZ/OAAAAAElFTkSuQmCC\n",
       "\" style=\"display:inline;vertical-align:middle;\" /></a></td></tr>\n",
       "<tr><td>13</td><td>Variable</td><td></td><td><a class=\"ProveItLink\" href=\"../../../../__pv_it/cbdfda466482236edba0ce44ac7ef39cda0af7a40/expr.ipynb\"><img src=\"data:image/png;base64,iVBORw0KGgoAAAANSUhEUgAAAAkAAAAJBAMAAAASvxsjAAAALVBMVEX///9mZmbc3NxUVFSYmJhE\n",
       "REQiIiIyMjK6uroQEBDMzMyIiIh2dnbu7u4AAABgFDGoAAAAAXRSTlMAQObYZgAAADZJREFUCNdj\n",
       "YOA9s3sBA8PKBvYEBt7ZDKwODMwPGICALwBE6m0Asx0YGIDiAgw8QJUyu/cyAAAmuwmycZ8WfQAA\n",
       "AABJRU5ErkJggg==\n",
       "\" style=\"display:inline;vertical-align:middle;\" /></a></td></tr>\n",
       "</table>\n"
      ],
      "text/plain": [
       "0. (1 + c + 2 + 3 + c + 1 + c , (3 * c) + 7)\n",
       "   core type: ExprTuple\n",
       "   sub-expressions: 1, 2\n",
       "1. 1 + c + 2 + 3 + c + 1 + c\n",
       "   core type: Operation\n",
       "   operator: 4\n",
       "   operands: 3\n",
       "2. (3 * c) + 7\n",
       "   core type: Operation\n",
       "   operator: 4\n",
       "   operands: 5\n",
       "3. (1 , c , 2 , 3 , c , 1 , c)\n",
       "   core type: ExprTuple\n",
       "   sub-expressions: 7, 13, 6, 12, 13, 7, 13\n",
       "4. +\n",
       "   core type: Literal\n",
       "   sub-expressions: \n",
       "5. (3 * c , 7)\n",
       "   core type: ExprTuple\n",
       "   sub-expressions: 8, 9\n",
       "6. 2\n",
       "   core type: Literal\n",
       "   sub-expressions: \n",
       "7. 1\n",
       "   core type: Literal\n",
       "   sub-expressions: \n",
       "8. 3 * c\n",
       "   core type: Operation\n",
       "   operator: 10\n",
       "   operands: 11\n",
       "9. 7\n",
       "   core type: Literal\n",
       "   sub-expressions: \n",
       "10. *\n",
       "    core type: Literal\n",
       "    sub-expressions: \n",
       "11. (3 , c)\n",
       "    core type: ExprTuple\n",
       "    sub-expressions: 12, 13\n",
       "12. 3\n",
       "    core type: Literal\n",
       "    sub-expressions: \n",
       "13. c\n",
       "    core type: Variable\n",
       "    sub-expressions: "
      ]
     },
     "execution_count": 4,
     "metadata": {},
     "output_type": "execute_result"
    }
   ],
   "source": [
    "# display the expression information\n",
    "expr.exprInfo()"
   ]
  },
  {
   "cell_type": "code",
   "execution_count": null,
   "metadata": {},
   "outputs": [],
   "source": []
  }
 ],
 "metadata": {
  "kernelspec": {
   "display_name": "Python 3",
   "language": "python",
   "name": "python3"
  }
 },
 "nbformat": 4,
 "nbformat_minor": 0
}
