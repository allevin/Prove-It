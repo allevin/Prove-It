{
 "cells": [
  {
   "cell_type": "markdown",
   "metadata": {},
   "source": [
    "Expression of type <a class=\"ProveItLink\" href=\"../../../../../../doc/html/api/proveit.number.Add.html\">Add</a>\n",
    "=======================\n",
    "# from context <a class=\"ProveItLink\" href=\"../../_context_.ipynb\">proveit.number.addition</a>"
   ]
  },
  {
   "cell_type": "code",
   "execution_count": 1,
   "metadata": {},
   "outputs": [],
   "source": [
    "# import Expression classes needed to build the expression\n",
    "from proveit.number import Add, five, four, one, six, three, two"
   ]
  },
  {
   "cell_type": "code",
   "execution_count": 2,
   "metadata": {},
   "outputs": [
    {
     "data": {
      "text/html": [
       "<strong id=\"expr\">expr:</strong> <a class=\"ProveItLink\" href=\"expr.ipynb\"><img src=\"data:image/png;base64,iVBORw0KGgoAAAANSUhEUgAAAN8AAAAQBAMAAABkabd+AAAAMFBMVEX///92dnbMzMy6uroiIiKq\n",
       "qqrc3NyYmJgyMjIQEBBmZmaIiIhUVFTu7u5EREQAAADaqMZ6AAAAAXRSTlMAQObYZgAAAdlJREFU\n",
       "OMutlL1LAnEYx7/nu6dnuTaUrU3uLTZFk9JWDlk4RYNTNEYEHRIVtBQENhSVRLlFOGQEDWV4UxBE\n",
       "2h8QvUckYqfnyz1PVgd1w/34fXju+dzz/F4A3IE+tuSCnxKTtzPEgmDK0PmcMspipA6vj33kUdTX\n",
       "TYnRCbheKRmHuciFlgKdJ8qPLCLqcwfYL9yrwutsXShFtPECCFLSFcILJcBhgZL4cb2cy9rYB8c0\n",
       "IVI2V6nQVRdaU9q4qiDnJ2SkIawT2KYKlDQ7HNYGe4kT4KilcFHBPhWi0dIGERy/CR1LRoXqE1QY\n",
       "cWRYzCQXnqdPaPq2mfSmUaHpkZHueRYjpbjwDnk/SZ/vhyVmUMiTqUHLlAgtYtxLVPgAoWRQuPe1\n",
       "yQna5MEWQuGJCgOwv34vFGV5dkWWq0vlyjAyBtzH9ERq14RN4glAeFbJtiwPyHJlBdqmYS8S8m2F\n",
       "w7BF9EQqK1Vhk1iz2dxaSk+cAYhvpB7PzxXqhKZ12IkQ7+q+jbAGOmlLRTSOeS291fAaRr3eDUoO\n",
       "YOb7lgtt6xiK0PS3uGq1S8Wd9y2aLFgus3vFmtwO8YOf+yBNRs/uKTt14hk7mUgm4jHd1arbk38i\n",
       "YfxOtOsr9T+kFz+RTxZI0AZNJW9qAAAAAElFTkSuQmCC\n",
       "\" style=\"display:inline;vertical-align:middle;\" /></a><br>"
      ],
      "text/plain": [
       "expr: 1 + 2 + 3 + 4 + 5 + 6 + 1"
      ]
     },
     "execution_count": 2,
     "metadata": {},
     "output_type": "execute_result"
    }
   ],
   "source": [
    "# build up the expression from sub-expressions\n",
    "expr = Add(one, two, three, four, five, six, one)"
   ]
  },
  {
   "cell_type": "code",
   "execution_count": 3,
   "metadata": {},
   "outputs": [
    {
     "name": "stdout",
     "output_type": "stream",
     "text": [
      "Passed sanity check: built 'expr' is the same as the stored Expression.\n"
     ]
    }
   ],
   "source": [
    "# check that the built expression is the same as the stored expression\n",
    "%check_expr"
   ]
  },
  {
   "cell_type": "code",
   "execution_count": 4,
   "metadata": {},
   "outputs": [
    {
     "data": {
      "text/html": [
       "<table><tr><th>&nbsp;</th><th>core type</th><th>sub-expressions</th><th>expression</th></tr>\n",
       "<tr><td>0</td><td>Operation</td><td>operator:&nbsp;1<br>operands:&nbsp;2<br></td><td><a class=\"ProveItLink\" href=\"expr.ipynb\"><img src=\"data:image/png;base64,iVBORw0KGgoAAAANSUhEUgAAAN8AAAAQBAMAAABkabd+AAAAMFBMVEX///92dnbMzMy6uroiIiKq\n",
       "qqrc3NyYmJgyMjIQEBBmZmaIiIhUVFTu7u5EREQAAADaqMZ6AAAAAXRSTlMAQObYZgAAAdlJREFU\n",
       "OMutlL1LAnEYx7/nu6dnuTaUrU3uLTZFk9JWDlk4RYNTNEYEHRIVtBQENhSVRLlFOGQEDWV4UxBE\n",
       "2h8QvUckYqfnyz1PVgd1w/34fXju+dzz/F4A3IE+tuSCnxKTtzPEgmDK0PmcMspipA6vj33kUdTX\n",
       "TYnRCbheKRmHuciFlgKdJ8qPLCLqcwfYL9yrwutsXShFtPECCFLSFcILJcBhgZL4cb2cy9rYB8c0\n",
       "IVI2V6nQVRdaU9q4qiDnJ2SkIawT2KYKlDQ7HNYGe4kT4KilcFHBPhWi0dIGERy/CR1LRoXqE1QY\n",
       "cWRYzCQXnqdPaPq2mfSmUaHpkZHueRYjpbjwDnk/SZ/vhyVmUMiTqUHLlAgtYtxLVPgAoWRQuPe1\n",
       "yQna5MEWQuGJCgOwv34vFGV5dkWWq0vlyjAyBtzH9ERq14RN4glAeFbJtiwPyHJlBdqmYS8S8m2F\n",
       "w7BF9EQqK1Vhk1iz2dxaSk+cAYhvpB7PzxXqhKZ12IkQ7+q+jbAGOmlLRTSOeS291fAaRr3eDUoO\n",
       "YOb7lgtt6xiK0PS3uGq1S8Wd9y2aLFgus3vFmtwO8YOf+yBNRs/uKTt14hk7mUgm4jHd1arbk38i\n",
       "YfxOtOsr9T+kFz+RTxZI0AZNJW9qAAAAAElFTkSuQmCC\n",
       "\" style=\"display:inline;vertical-align:middle;\" /></a></td></tr>\n",
       "<tr><td>1</td><td>Literal</td><td></td><td><a class=\"ProveItLink\" href=\"../3e6688136fa3c7aefbebe51301b7c3ebf0b69c440/expr.ipynb\"><img src=\"data:image/png;base64,iVBORw0KGgoAAAANSUhEUgAAAA4AAAAOBAMAAADtZjDiAAAAJFBMVEX///+6urpUVFQQEBAiIiIy\n",
       "MjJmZmaIiIiqqqrc3Nzu7u4AAACgHpL+AAAAAXRSTlMAQObYZgAAAB5JREFUCNdjYGBgWMkAAe2k\n",
       "0Kmhoc6hoUGk6BMHYgAHOwjcado9fwAAAABJRU5ErkJggg==\n",
       "\" style=\"display:inline;vertical-align:middle;\" /></a></td></tr>\n",
       "<tr><td>2</td><td>ExprTuple</td><td>8, 3, 4, 5, 6, 7, 8</td><td><a class=\"ProveItLink\" href=\"../50f7e0562a73f54f1daf7a0b2eaebdb6b6ca0d440/expr.ipynb\"><img src=\"data:image/png;base64,iVBORw0KGgoAAAANSUhEUgAAAIsAAAAVBAMAAACEWwD/AAAAMFBMVEX////c3NwiIiJERESqqqqY\n",
       "mJh2dnZmZmYQEBDu7u4yMjJUVFTMzMyIiIi6uroAAAAs73DqAAAAAXRSTlMAQObYZgAAAiVJREFU\n",
       "OMutlD9oE1Ecx7/X5O5yyV0MHXTQIYuu6aLQqdnsUPBcHBykIKRTMfgvooMdHAShOXAJdMhBKUVa\n",
       "sC6KBJtOOrhkKXRoMTo61VIqKbbxvfd7v9xdhSzxIPc+/PJ7H36/d+894D89+c6ohjvy9VX8UgEF\n",
       "jNpyl8it3C1zmrtB40pwXsecucqW/nMSsCW/EdEprbkI75DoAvInrBmboLHeP9KR8a1ckeh1T7xC\n",
       "wOvAabW15iNQIrpXxgFrdrRm9T2XcAXZUMFSS2puARlp+KY1LwO0qasbkca4rTUb7DV7g3XxJDaA\n",
       "n4hp3gZ43uWl56as7FlNdiGpSZXxOK4RT4kxy7NusubT3ibBufW9h3GNVcVKUuPyKn5e0+B0WDOJ\n",
       "JpXavIwxP6ZJh1hManiKSFjUPcViOeqmuQ+rF9PkF3Ca1DyIdlWdgjMxjfWHNEWYhzGNu39G4/GC\n",
       "XAKmVN3OLGtSRVintDYhzJOk5kVCcx1GQU3uB1qTbrXar9R5yRRh/2JhohrR1FXWSJNbhVlwZORY\n",
       "fDMiMX8CkmzITSfT0mptgoHGDDGnNY7cbeOVyn3ZObCN/BGR0kgyqpguqDRcQ8Mn4g/+Qwy1+qrv\n",
       "1EU3pX7/AA1Zebr2tEwEq/3bV/Tl2TuoNNgfNonsJ8ePRJFdZAq8axnwHUMoSotIHAZzlg/KYIo/\n",
       "jKK0iObpohhR44TqjqFncAl6GEadfyknuzNGvkR3gb8zpacBhVL/OwAAAABJRU5ErkJggg==\n",
       "\" style=\"display:inline;vertical-align:middle;\" /></a></td></tr>\n",
       "<tr><td>3</td><td>Literal</td><td></td><td><a class=\"ProveItLink\" href=\"../../../numeral/__pv_it/77d407a64829263cdc16415becd4c2293f77a4bf0/expr.ipynb\"><img src=\"data:image/png;base64,iVBORw0KGgoAAAANSUhEUgAAAAkAAAAOBAMAAAAPuiubAAAAMFBMVEX///+YmJh2dnbMzMwQEBAi\n",
       "IiLu7u6qqqqIiIhUVFS6urpEREQyMjJmZmbc3NwAAACOMKdoAAAAAXRSTlMAQObYZgAAAFBJREFU\n",
       "CNdj4Lt7egEDw0sGju8MDNMYGOIZGFwSGOYvYDifwHAfKAEUSQASzJ9ATJ4NIPI2iOCYACJrGfge\n",
       "MDBfYGB8wPBUSekqUPH//18ZAIliFhc3zESNAAAAAElFTkSuQmCC\n",
       "\" style=\"display:inline;vertical-align:middle;\" /></a></td></tr>\n",
       "<tr><td>4</td><td>Literal</td><td></td><td><a class=\"ProveItLink\" href=\"../../../numeral/__pv_it/9176d93c83afa2c995b614976e3cb49207102fa70/expr.ipynb\"><img src=\"data:image/png;base64,iVBORw0KGgoAAAANSUhEUgAAAAoAAAAOBAMAAADkjZCYAAAAMFBMVEX///+YmJju7u4QEBBUVFQy\n",
       "MjIiIiKIiIi6urpmZmbc3NyqqqpERER2dnbMzMwAAAB0GlNiAAAAAXRSTlMAQObYZgAAAE1JREFU\n",
       "CNdjYHh79zQDA9cEhv4CBt7fDPwJDNxgEgiAIkAQAsR8Vx1ATIbiBhDJ/ImB6wEDz0cG/U8gkj+A\n",
       "ge0XA7sAQ/8FBoadM6MZAEflFACalZ/OAAAAAElFTkSuQmCC\n",
       "\" style=\"display:inline;vertical-align:middle;\" /></a></td></tr>\n",
       "<tr><td>5</td><td>Literal</td><td></td><td><a class=\"ProveItLink\" href=\"../../../numeral/__pv_it/23412ce59ea7e77353d2f9225e02248e73651ca00/expr.ipynb\"><img src=\"data:image/png;base64,iVBORw0KGgoAAAANSUhEUgAAAAoAAAAPBAMAAAAv0UM9AAAALVBMVEX///9mZmaqqqru7u52dnYy\n",
       "MjKYmJjc3NwQEBCIiIhEREQiIiJUVFTMzMwAAACUDTcXAAAAAXRSTlMAQObYZgAAAD5JREFUCNdj\n",
       "YGBguMMAArtABGcXiCyLApEOIJKtAERaMoBIBxDJdAFEmjCASJ0zZ16cBCkF64KQPu/EwBwGACv6\n",
       "DSRgin9qAAAAAElFTkSuQmCC\n",
       "\" style=\"display:inline;vertical-align:middle;\" /></a></td></tr>\n",
       "<tr><td>6</td><td>Literal</td><td></td><td><a class=\"ProveItLink\" href=\"../../../numeral/__pv_it/aaeeaca7d86eb2b7cdc49e25c3108b81b52ec5400/expr.ipynb\"><img src=\"data:image/png;base64,iVBORw0KGgoAAAANSUhEUgAAAAkAAAAOBAMAAAAPuiubAAAAMFBMVEX///8iIiJERES6urqIiIjM\n",
       "zMxUVFRmZmYQEBCqqqp2dnbc3Nzu7u6YmJgyMjIAAADYGhJvAAAAAXRSTlMAQObYZgAAAE1JREFU\n",
       "CNdj4LvDvZKBgeP//wUMDHxlSxkYGNgYGBCki5sBAwPTAZ7PYG4GmFwfwKAIJA0YGhkY6jcwFDAw\n",
       "vGNg2M7A2c3AwFqetoEBAKS8EE1WXEJLAAAAAElFTkSuQmCC\n",
       "\" style=\"display:inline;vertical-align:middle;\" /></a></td></tr>\n",
       "<tr><td>7</td><td>Literal</td><td></td><td><a class=\"ProveItLink\" href=\"../../../numeral/__pv_it/09b499e53e24cf89c2513ba78b501f0314edaa680/expr.ipynb\"><img src=\"data:image/png;base64,iVBORw0KGgoAAAANSUhEUgAAAAoAAAAOBAMAAADkjZCYAAAAMFBMVEX///+6urpERESqqqqIiIgQ\n",
       "EBCYmJgyMjJUVFQiIiLc3NzMzMxmZmZ2dnbu7u4AAABf+mkYAAAAAXRSTlMAQObYZgAAAFNJREFU\n",
       "CNdjYOC7c3cDA8PKDRwTGBjmMrAXMLD9YwAC9gAQyV/tcpiB4f00Bs4EhvcfGHj/MbyfwMD2mYEf\n",
       "qOwLAxOYzQwWZ9BleJrAwMDT08gAANMyF0ZGTeKAAAAAAElFTkSuQmCC\n",
       "\" style=\"display:inline;vertical-align:middle;\" /></a></td></tr>\n",
       "<tr><td>8</td><td>Literal</td><td></td><td><a class=\"ProveItLink\" href=\"../../../numeral/__pv_it/9be8badea4c35b9724062cecc501d17a3158d1d20/expr.ipynb\"><img src=\"data:image/png;base64,iVBORw0KGgoAAAANSUhEUgAAAAgAAAAPBAMAAAArJJMAAAAAHlBMVEX///+YmJgyMjIQEBBmZmaI\n",
       "iIhUVFTu7u5EREQAAAAw+MI4AAAAAXRSTlMAQObYZgAAACFJREFUCNdjYGBoZ2BgqJjOwFCWBiQY\n",
       "WEklWJwnOTKAAACjEQo8HvEr3AAAAABJRU5ErkJggg==\n",
       "\" style=\"display:inline;vertical-align:middle;\" /></a></td></tr>\n",
       "</table>\n"
      ],
      "text/plain": [
       "0. 1 + 2 + 3 + 4 + 5 + 6 + 1\n",
       "   core type: Operation\n",
       "   operator: 1\n",
       "   operands: 2\n",
       "1. +\n",
       "   core type: Literal\n",
       "   sub-expressions: \n",
       "2. (1 , 2 , 3 , 4 , 5 , 6 , 1)\n",
       "   core type: ExprTuple\n",
       "   sub-expressions: 8, 3, 4, 5, 6, 7, 8\n",
       "3. 2\n",
       "   core type: Literal\n",
       "   sub-expressions: \n",
       "4. 3\n",
       "   core type: Literal\n",
       "   sub-expressions: \n",
       "5. 4\n",
       "   core type: Literal\n",
       "   sub-expressions: \n",
       "6. 5\n",
       "   core type: Literal\n",
       "   sub-expressions: \n",
       "7. 6\n",
       "   core type: Literal\n",
       "   sub-expressions: \n",
       "8. 1\n",
       "   core type: Literal\n",
       "   sub-expressions: "
      ]
     },
     "execution_count": 4,
     "metadata": {},
     "output_type": "execute_result"
    }
   ],
   "source": [
    "# display the expression information\n",
    "expr.exprInfo()"
   ]
  },
  {
   "cell_type": "code",
   "execution_count": null,
   "metadata": {},
   "outputs": [],
   "source": []
  }
 ],
 "metadata": {
  "kernelspec": {
   "display_name": "Python 3",
   "language": "python",
   "name": "python3"
  }
 },
 "nbformat": 4,
 "nbformat_minor": 0
}
