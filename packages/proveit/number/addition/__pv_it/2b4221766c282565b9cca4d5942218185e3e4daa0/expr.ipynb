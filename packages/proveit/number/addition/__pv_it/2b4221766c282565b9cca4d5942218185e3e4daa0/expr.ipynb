{
 "cells": [
  {
   "cell_type": "markdown",
   "metadata": {},
   "source": [
    "Expression of type <a class=\"ProveItLink\" href=\"../../../../../../doc/html/api/proveit.logic.InSet.html\">InSet</a>\n",
    "=======================\n",
    "# from context <a class=\"ProveItLink\" href=\"../../_context_.ipynb\">proveit.number.addition</a>"
   ]
  },
  {
   "cell_type": "code",
   "execution_count": 1,
   "metadata": {},
   "outputs": [],
   "source": [
    "# import Expression classes needed to build the expression\n",
    "from proveit._common_ import B, C, c\n",
    "from proveit.logic import InSet\n",
    "from proveit.number import Complexes, Exp, five, one, three"
   ]
  },
  {
   "cell_type": "code",
   "execution_count": 2,
   "metadata": {},
   "outputs": [
    {
     "data": {
      "text/html": [
       "<strong id=\"expr\">expr:</strong> <a class=\"ProveItLink\" href=\"expr.ipynb\"><img src=\"data:image/png;base64,iVBORw0KGgoAAAANSUhEUgAAAKEAAAAZBAMAAACr5lOdAAAAMFBMVEX////c3NwiIiJERESqqqqY\n",
       "mJh2dnZmZmYQEBDu7u4yMjJUVFTMzMyIiIi6uroAAAAs73DqAAAAAXRSTlMAQObYZgAAAqFJREFU\n",
       "SMetVU1oE1EQnm2SbTbJ7kY8iHhoyLEerNDi36G5CcXDnhVpTg16sYq0iIKl2kNBbdCDIoRItZSg\n",
       "aESKkKDdUy14MEdLCaYVqQiaKlaMQevMe283m90aqGRh307mm/ne/L0XgHY+a7tPQnuf6ma+zYwf\n",
       "VtpMCF/aTQhr5Qu4aqVtOwYq/wB2wACur/E9sVksHrbNMkdGjV0uW19aCAtDvQCXPFxq95PxA/jN\n",
       "mgA5UlwB6PwjQHkCw59odlD6BaM0DNUShNyEkWpFObMMj0CvgEpJR37jWxfO0+gsf20mLM4LRvk7\n",
       "6DEIJF2MxhyAvw7XoCsKQTJVkSDwg4OhSSrumMvlnWD0M0ZFwJnpeDcrbJoUF+EULAN8YlVCRcck\n",
       "t7qc4MltzUhjjFn18lxnhLZTosnOgJzC4EdIo+dBus9R6RdL0+TZDpVND+NDfFNM2mkpb2uOMszQ\n",
       "8uZF+ZwhtttwRLZYCcVcjJHTFM4Ak/dbdgt+o+F0g9lHQdnLf3c4eqJcB5/hifEtjtlHBvfYjJqD\n",
       "kc3MQfLhSn2dGTM5vL5VHYM1TIoEbTwe5525FUm6GGlwBrkyyFiOcfYeD6Nkgm9DMEbsiyaUdtw5\n",
       "Vwmi2s0neFw1Wnmru0oexmyNMfKsY/axTObtxKBPjCP1OC2GHeQ0g3UshKHYjATr91iljzPlnL1h\n",
       "32dcVvmuKTGOizlQvpFiMAHaWQwGAwgPg2xmY4KRwaoB1aQ1PTftqyD8bEl5f4jLqzgw/fViAadI\n",
       "mYpSkIXn5/Fzh3o+Ul7iwujUrMHho6MPcH3MizprWpSv9v18aXUu2qip5pBhxSM0YOsU+gu81813\n",
       "naPvgabD7xEasNzyTs39B+Pdlhfynobo3Fn1CA74aUtGafv/CqrZAvwLqNu9dEv9+CgAAAAASUVO\n",
       "RK5CYII=\n",
       "\" style=\"display:inline;vertical-align:middle;\" /></a><br>"
      ],
      "text/plain": [
       "expr: (B , C , c , 1 , 3) in Complexes^{5}"
      ]
     },
     "execution_count": 2,
     "metadata": {},
     "output_type": "execute_result"
    }
   ],
   "source": [
    "# build up the expression from sub-expressions\n",
    "expr = InSet([B, C, c, one, three], Exp(Complexes, five))"
   ]
  },
  {
   "cell_type": "code",
   "execution_count": 3,
   "metadata": {},
   "outputs": [
    {
     "name": "stdout",
     "output_type": "stream",
     "text": [
      "Passed sanity check: built 'expr' is the same as the stored Expression.\n"
     ]
    }
   ],
   "source": [
    "# check that the built expression is the same as the stored expression\n",
    "%check_expr"
   ]
  },
  {
   "cell_type": "code",
   "execution_count": 4,
   "metadata": {},
   "outputs": [
    {
     "data": {
      "text/html": [
       "<table><tr><th>&nbsp;</th><th>core type</th><th>sub-expressions</th><th>expression</th></tr>\n",
       "<tr><td>0</td><td>Operation</td><td>operator:&nbsp;1<br>operands:&nbsp;2<br></td><td><a class=\"ProveItLink\" href=\"expr.ipynb\"><img src=\"data:image/png;base64,iVBORw0KGgoAAAANSUhEUgAAAKEAAAAZBAMAAACr5lOdAAAAMFBMVEX////c3NwiIiJERESqqqqY\n",
       "mJh2dnZmZmYQEBDu7u4yMjJUVFTMzMyIiIi6uroAAAAs73DqAAAAAXRSTlMAQObYZgAAAqFJREFU\n",
       "SMetVU1oE1EQnm2SbTbJ7kY8iHhoyLEerNDi36G5CcXDnhVpTg16sYq0iIKl2kNBbdCDIoRItZSg\n",
       "aESKkKDdUy14MEdLCaYVqQiaKlaMQevMe283m90aqGRh307mm/ne/L0XgHY+a7tPQnuf6ma+zYwf\n",
       "VtpMCF/aTQhr5Qu4aqVtOwYq/wB2wACur/E9sVksHrbNMkdGjV0uW19aCAtDvQCXPFxq95PxA/jN\n",
       "mgA5UlwB6PwjQHkCw59odlD6BaM0DNUShNyEkWpFObMMj0CvgEpJR37jWxfO0+gsf20mLM4LRvk7\n",
       "6DEIJF2MxhyAvw7XoCsKQTJVkSDwg4OhSSrumMvlnWD0M0ZFwJnpeDcrbJoUF+EULAN8YlVCRcck\n",
       "t7qc4MltzUhjjFn18lxnhLZTosnOgJzC4EdIo+dBus9R6RdL0+TZDpVND+NDfFNM2mkpb2uOMszQ\n",
       "8uZF+ZwhtttwRLZYCcVcjJHTFM4Ak/dbdgt+o+F0g9lHQdnLf3c4eqJcB5/hifEtjtlHBvfYjJqD\n",
       "kc3MQfLhSn2dGTM5vL5VHYM1TIoEbTwe5525FUm6GGlwBrkyyFiOcfYeD6Nkgm9DMEbsiyaUdtw5\n",
       "Vwmi2s0neFw1Wnmru0oexmyNMfKsY/axTObtxKBPjCP1OC2GHeQ0g3UshKHYjATr91iljzPlnL1h\n",
       "32dcVvmuKTGOizlQvpFiMAHaWQwGAwgPg2xmY4KRwaoB1aQ1PTftqyD8bEl5f4jLqzgw/fViAadI\n",
       "mYpSkIXn5/Fzh3o+Ul7iwujUrMHho6MPcH3MizprWpSv9v18aXUu2qip5pBhxSM0YOsU+gu81813\n",
       "naPvgabD7xEasNzyTs39B+Pdlhfynobo3Fn1CA74aUtGafv/CqrZAvwLqNu9dEv9+CgAAAAASUVO\n",
       "RK5CYII=\n",
       "\" style=\"display:inline;vertical-align:middle;\" /></a></td></tr>\n",
       "<tr><td>1</td><td>Literal</td><td></td><td><a class=\"ProveItLink\" href=\"../../../../logic/set_theory/membership/__pv_it/088cbc857536a28d4119ad9639a84270ccb0545d0/expr.ipynb\"><img src=\"data:image/png;base64,iVBORw0KGgoAAAANSUhEUgAAAAwAAAAMBAMAAACkW0HUAAAALVBMVEX///+qqqpmZmZUVFQQEBC6\n",
       "urpERETc3NyYmJjMzMwiIiIyMjKIiIju7u4AAACYsrA9AAAAAXRSTlMAQObYZgAAADxJREFUCNdj\n",
       "YOA9vWrVBgaG2b0MQMCeCyIZ2ArA1DUwyRCyahVIyWQI7xaEYm4AU7xLIdxqTQgtvGvVBgCkcQ7e\n",
       "geM/tQAAAABJRU5ErkJggg==\n",
       "\" style=\"display:inline;vertical-align:middle;\" /></a></td></tr>\n",
       "<tr><td>2</td><td>ExprTuple</td><td>3, 4</td><td><a class=\"ProveItLink\" href=\"../d63f313111451faaf23833af69785a4f06c90f7e0/expr.ipynb\"><img src=\"data:image/png;base64,iVBORw0KGgoAAAANSUhEUgAAAKYAAAAcBAMAAAAZ99lXAAAAMFBMVEX///+qqqp2dnYiIiJERESI\n",
       "iIhmZmYQEBDc3NyYmJgyMjLu7u5UVFTMzMy6uroAAACGxKilAAAAAXRSTlMAQObYZgAAAu9JREFU\n",
       "SMe1lU9IFHEUx79r7rizszPuuUtLZB0i9NRfQrsUYuBCbREpdgijDBS6RJHuoSKMcJK61kJgEFZD\n",
       "/wQh1oMIxZLhoZOwQmV2yX9JVmvbe7/5jTvuTAdhGpg3b977/T7z/s0MENwxffMugj5miyOO+i0o\n",
       "5tcZEgnW9JGgmCK4SRbDVmD1THUA4SRpb/j28/oJ9zyWG9hIcjcQ6ZL5q+OF3OgTx68dHTsbOVW2\n",
       "qVKmpG/eEofyvuQI73164SBds2RrARTeGOXFVQ1A55Rctc2EccZci9SaJfM6jCUgs+rQZ6e02hY8\n",
       "RjVtz1qoYkqKPXmqRF42bHgfidr0WmRuXDJr41gE+lc9JtUvVMAV9NGODSbybLzMoo0M9xP2qoe8\n",
       "+0t5wdokc5NgDjlm1eL6ncd2zhtKA47TxRBpHKJzl71LmbdT/AcTIvfKuLxRIpzdS1Rs5YjUObxl\n",
       "o4iuAPQ22av6xENe2zfPalo9zChRKpwWvjISrgcbv3GYV3Az9ELq2B5p73R1R+/Gg3LmxCCJkNOk\n",
       "iZC7mfoKBrjj3KfwMvBctqje1Z2hJBo9cYa7KaAuh2m4mZE/2EkXHgFU0pLwT9teFNImjPvVEz0W\n",
       "9Dmpv9DduWvzJWY1z/2C3MEiZA/1dy/zFtBslphRa2RtnFyZKu5gnhKIzdt2MYiKvWTJw9SKFjNX\n",
       "c1cTzNQc5gpGOW1Tjif325LjT+MmdCqHKsvATNZ+iYqrGYfUyJ+LjzIJYxlHIKeCxlO/ZEFb5CdT\n",
       "vNNpWx8DdghFMIV2AsaC3JWtIxEbPal9anKinsMso8lxupjLPaJ4tR7u+eRge1zqSk3Kso3tPQOm\n",
       "0ELt58gb5S4MLTPnQ/2Pd06BKjKo5k5cdM9s2kcvGUua/W7OlL9s0SRiPAf9Lpvqp6s+7hr7+1HO\n",
       "zKah1znfunUytYw/8w6dB7j/rgFLwkdPek0xUYSw52u/n85eVq6t/9/R6m9WeRpCiUB/8leFvB0o\n",
       "swP/5fgLBanUUShh0A8AAAAASUVORK5CYII=\n",
       "\" style=\"display:inline;vertical-align:middle;\" /></a></td></tr>\n",
       "<tr><td>3</td><td>ExprTuple</td><td>5, 6, 7, 8, 9</td><td><a class=\"ProveItLink\" href=\"../7d099dfd7834415a46380a5eb4f83fd1a7f9e3bf0/expr.ipynb\"><img src=\"data:image/png;base64,iVBORw0KGgoAAAANSUhEUgAAAG8AAAAVBAMAAAC6Uq30AAAAMFBMVEX////c3NwiIiJERESqqqqY\n",
       "mJh2dnZmZmYQEBDu7u4yMjJUVFTMzMyIiIi6uroAAAAs73DqAAAAAXRSTlMAQObYZgAAAd5JREFU\n",
       "OMudVDsvBFEYPYOxO2t2Taeg0CtUEo/C/ACJrTQSJBIaG494RUOCQrMmkcgmIjZEIRqdxEaoRKKw\n",
       "jY54NBKVR0gQj+/77mxcMxRssrPn3nPO3u91B/j3J5H/u6eDH0f0bf/I5RovCtvLTWPJiqC2wf+1\n",
       "e7pdRPYJbfByGoi8+1TpLHA9G/AtPPugAok3IAvEOVKbsP2qGGvVI/Pdd99SrmDsd3EPtAFRkiFO\n",
       "OvNJMbE5TnwqcGK8YGwVYwa44VUx6YrmFDPp0sMY+M0ICbXYxSjj8i0Ya55sGy8S774SLaZOQ8bY\n",
       "FqUygHXGx7tnQ0m1HXnUzrHTWA0aDzbpUZJFmhfnDqwatV+klyWTR13oxHhaaiBNqGezOrL8VkJV\n",
       "mr2fcsS8B/tWGbkTnV2yGxVji5I8hI1VQHOSjTOcCue15wpRJgpVVOMtZLQ+PDZSqHV+G7malj8L\n",
       "KKUKc5HpD00BYpT4SVbrwMyi12/jIY3eSjWH7CIxSCpqM7aBPgFiFPoEiSdpxxV1oPk1t8NtyXBF\n",
       "7Z3tYY5p3iEmdeYpMP4youiSsQnKKXaBqKOV/1K/bk4QaDSNnNmliZMaNkNAo1OFa/VHo0XXCpXa\n",
       "JOtjnQ+BL7qMozf+8eqgyf8Ea4uE1xvuB/EAAAAASUVORK5CYII=\n",
       "\" style=\"display:inline;vertical-align:middle;\" /></a></td></tr>\n",
       "<tr><td>4</td><td>Operation</td><td>operator:&nbsp;10<br>operands:&nbsp;11<br></td><td><a class=\"ProveItLink\" href=\"../1d5ca85bb291b50723080d0d449bfc191044913a0/expr.ipynb\"><img src=\"data:image/png;base64,iVBORw0KGgoAAAANSUhEUgAAABcAAAAUBAMAAACUkLs9AAAAMFBMVEX////c3NyqqqqYmJhUVFR2\n",
       "dnbu7u66urrMzMxmZmZEREQQEBAyMjIiIiKIiIgAAAB7fvZ0AAAAAXRSTlMAQObYZgAAAJZJREFU\n",
       "GNNjYICCSjE7Bjio/++A4BQXItgM5Uhshsp30xAcQQYdEMV35/zelUA6v4GBgaO+gC3+CcMJBv4C\n",
       "BgYDZwYGpi8MOxjkBRiYEzYAlUxhCGN4wsDAyQiyLI+BNTKAgSGTPQBhZCuTARKHHYmTxYGkjCcB\n",
       "ybXMASAOG5S3uA5I1CZAOCxez9iqlsEUdt7/7Q5hAQDDzB+JAiNuCgAAAABJRU5ErkJggg==\n",
       "\" style=\"display:inline;vertical-align:middle;\" /></a></td></tr>\n",
       "<tr><td>5</td><td>Variable</td><td></td><td><a class=\"ProveItLink\" href=\"../../../../__pv_it/077b2ff79244fb4582cbe22c6e3356fa92a52f2f0/expr.ipynb\"><img src=\"data:image/png;base64,iVBORw0KGgoAAAANSUhEUgAAABAAAAAOBAMAAADUAYG5AAAAMFBMVEX///+qqqru7u4iIiJ2dnbc\n",
       "3NyIiIjMzMxmZmYQEBC6uroyMjJERERUVFSYmJgAAADLUcuvAAAAAXRSTlMAQObYZgAAAGpJREFU\n",
       "CNdjYGB4+//u3dMLGIBgDgMDxy8gzf4NiP8CGWxfGRj4vgAZPBMYGJgnARn8FxhY9ygAGfXX0pof\n",
       "gDTlBzAw2YIYJ0EckBBI53sHoBH/gIz7AhBjWH9DjancBLTl/N+7t/cxMAAA3u4f/5xagjYAAAAA\n",
       "SUVORK5CYII=\n",
       "\" style=\"display:inline;vertical-align:middle;\" /></a></td></tr>\n",
       "<tr><td>6</td><td>Variable</td><td></td><td><a class=\"ProveItLink\" href=\"../../../../__pv_it/985a1bdf1540838275dec15f4ad6de261cca93ce0/expr.ipynb\"><img src=\"data:image/png;base64,iVBORw0KGgoAAAANSUhEUgAAAA8AAAAOBAMAAAACpFvcAAAAMFBMVEX////MzMyqqqoiIiIyMjK6\n",
       "uroQEBB2dnbc3NyYmJhmZmZUVFRERESIiIju7u4AAAB204erAAAAAXRSTlMAQObYZgAAAGZJREFU\n",
       "CNdjYGDgu7NrJccCBgaGsgkMrMsmMDA8sQNy6hsYGNweABlhDAxcn4A0QxcDQ78DiPGQgWH9BAYI\n",
       "sG+AMv6DSaCGfBDNJMDAsB+kmwuI5S8AiTog5gSaEwXWIO29SgFIAQBC+RaDQlidVgAAAABJRU5E\n",
       "rkJggg==\n",
       "\" style=\"display:inline;vertical-align:middle;\" /></a></td></tr>\n",
       "<tr><td>7</td><td>Variable</td><td></td><td><a class=\"ProveItLink\" href=\"../../../../__pv_it/cbdfda466482236edba0ce44ac7ef39cda0af7a40/expr.ipynb\"><img src=\"data:image/png;base64,iVBORw0KGgoAAAANSUhEUgAAAAkAAAAJBAMAAAASvxsjAAAALVBMVEX///9mZmbc3NxUVFSYmJhE\n",
       "REQiIiIyMjK6uroQEBDMzMyIiIh2dnbu7u4AAABgFDGoAAAAAXRSTlMAQObYZgAAADZJREFUCNdj\n",
       "YOA9s3sBA8PKBvYEBt7ZDKwODMwPGICALwBE6m0Asx0YGIDiAgw8QJUyu/cyAAAmuwmycZ8WfQAA\n",
       "AABJRU5ErkJggg==\n",
       "\" style=\"display:inline;vertical-align:middle;\" /></a></td></tr>\n",
       "<tr><td>8</td><td>Literal</td><td></td><td><a class=\"ProveItLink\" href=\"../../../numeral/__pv_it/9be8badea4c35b9724062cecc501d17a3158d1d20/expr.ipynb\"><img src=\"data:image/png;base64,iVBORw0KGgoAAAANSUhEUgAAAAgAAAAPBAMAAAArJJMAAAAAHlBMVEX///+YmJgyMjIQEBBmZmaI\n",
       "iIhUVFTu7u5EREQAAAAw+MI4AAAAAXRSTlMAQObYZgAAACFJREFUCNdjYGBoZ2BgqJjOwFCWBiQY\n",
       "WEklWJwnOTKAAACjEQo8HvEr3AAAAABJRU5ErkJggg==\n",
       "\" style=\"display:inline;vertical-align:middle;\" /></a></td></tr>\n",
       "<tr><td>9</td><td>Literal</td><td></td><td><a class=\"ProveItLink\" href=\"../../../numeral/__pv_it/9176d93c83afa2c995b614976e3cb49207102fa70/expr.ipynb\"><img src=\"data:image/png;base64,iVBORw0KGgoAAAANSUhEUgAAAAoAAAAOBAMAAADkjZCYAAAAMFBMVEX///+YmJju7u4QEBBUVFQy\n",
       "MjIiIiKIiIi6urpmZmbc3NyqqqpERER2dnbMzMwAAAB0GlNiAAAAAXRSTlMAQObYZgAAAE1JREFU\n",
       "CNdjYHh79zQDA9cEhv4CBt7fDPwJDNxgEgiAIkAQAsR8Vx1ATIbiBhDJ/ImB6wEDz0cG/U8gkj+A\n",
       "ge0XA7sAQ/8FBoadM6MZAEflFACalZ/OAAAAAElFTkSuQmCC\n",
       "\" style=\"display:inline;vertical-align:middle;\" /></a></td></tr>\n",
       "<tr><td>10</td><td>Literal</td><td></td><td><a class=\"ProveItLink\" href=\"../../../exponentiation/__pv_it/deb2bf23cbccdd6e6791e1b35b5b9794ce12dbd50/expr.ipynb\"><img src=\"data:image/png;base64,iVBORw0KGgoAAAANSUhEUgAAACgAAAASBAMAAADbMYGVAAAAMFBMVEX///8QEBAiIiKYmJjc3Nzu\n",
       "7u7MzMx2dnZmZma6urpERESqqqoyMjJUVFSIiIgAAAAoDOMTAAAAAXRSTlMAQObYZgAAAOBJREFU\n",
       "GNNjYGB4+//u3Tt/GNAASGAXmhjnPyDBgSbI/g1IxKEJ8nxgYGdgQRPkX8BgDKRY6q7s62OYvmze\n",
       "2wAgb/7ZO1+AVDiDkYEQQ0HTBr4DQF59AgOIKmB4z7CNbcNZBu6vQN55kEACQwDDLQYGVobfDHwg\n",
       "fb8YGBxYHwAZciD3fWXg+gB1JjvQcJZvQIXsCgz8F6DO9GBgMOH7wPCUgaeBwd4B7EwGNjUG7s9c\n",
       "AiwPgO5jkWRgiF3/9+5dfQUG1nWl5Y+B7pv+1gE9bBhqGLCAE1jEWH9jEbT5A3IwAC4sP/1L6Qlu\n",
       "AAAAAElFTkSuQmCC\n",
       "\" style=\"display:inline;vertical-align:middle;\" /></a></td></tr>\n",
       "<tr><td>11</td><td>ExprTuple</td><td>12, 13</td><td><a class=\"ProveItLink\" href=\"../7b5508e04b247401485fb3cbfb9e6c01a4389fb40/expr.ipynb\"><img src=\"data:image/png;base64,iVBORw0KGgoAAAANSUhEUgAAAC8AAAAVBAMAAAAk6KpUAAAAMFBMVEX////c3NwiIiJERESqqqqY\n",
       "mJh2dnZmZmYQEBDu7u4yMjJUVFTMzMyIiIi6uroAAAAs73DqAAAAAXRSTlMAQObYZgAAASRJREFU\n",
       "KM9jYMAJ+C5gisWBiNNAzKu1vskcIsYVyZjCwH4AyFrJwMDz/gFn/m2IBMf//wkMDAuAioEmBWxl\n",
       "YGD5DdVRnQMkw4AqJjCwTmgAsqshEtxgcgYDwysGBnbGDUD2XGQJZgeGMgaG6XwJCAdx3739gIGB\n",
       "rYBhKQPDMZYAhATzBM5/QBsXMPQBJfgCUHyxA+i5Bgag9GSeBBSJ/AMMPB9AElwTNiBEjYASD0AS\n",
       "LQwMrAkgCU6IRBMDQ70AyChTIMf0LZB4NAEsVcDAsAqodgFDOsiJm29yPrZkmK8AZIszsDSCnfsI\n",
       "pOy4/o99QO9+BDJ5yncLAK19wMAhgLD4IZw1A2QzQgLhnVxIsGNIcAKDnUEaLs6LCDCQ+YxYovYO\n",
       "AwMAlNdEY4sgu8kAAAAASUVORK5CYII=\n",
       "\" style=\"display:inline;vertical-align:middle;\" /></a></td></tr>\n",
       "<tr><td>12</td><td>Literal</td><td></td><td><a class=\"ProveItLink\" href=\"../../../sets/complex/__pv_it/c357845f93a5a2d9f649129d299e7ec28dda4b960/expr.ipynb\"><img src=\"data:image/png;base64,iVBORw0KGgoAAAANSUhEUgAAAA8AAAAOBAMAAAACpFvcAAAAMFBMVEX////c3NyqqqqYmJhUVFR2\n",
       "dnbu7u66urrMzMxmZmZEREQQEBAyMjIiIiKIiIgAAAB7fvZ0AAAAAXRSTlMAQObYZgAAAGVJREFU\n",
       "CNdjYGDgu3N+70oGBgaO+gK2+CdAhoEzAwPTFwYG5oQNQN4UBgZORgcgI4+BIZM9gAEMWpkMoAx2\n",
       "KCOLAyrFk+AAYTAHgBhsQLy4DkjUJjAwsHg9Y6taBpLsvP/bnYEBACkBFGQfBv8RAAAAAElFTkSu\n",
       "QmCC\n",
       "\" style=\"display:inline;vertical-align:middle;\" /></a></td></tr>\n",
       "<tr><td>13</td><td>Literal</td><td></td><td><a class=\"ProveItLink\" href=\"../../../numeral/__pv_it/aaeeaca7d86eb2b7cdc49e25c3108b81b52ec5400/expr.ipynb\"><img src=\"data:image/png;base64,iVBORw0KGgoAAAANSUhEUgAAAAkAAAAOBAMAAAAPuiubAAAAMFBMVEX///8iIiJERES6urqIiIjM\n",
       "zMxUVFRmZmYQEBCqqqp2dnbc3Nzu7u6YmJgyMjIAAADYGhJvAAAAAXRSTlMAQObYZgAAAE1JREFU\n",
       "CNdj4LvDvZKBgeP//wUMDHxlSxkYGNgYGBCki5sBAwPTAZ7PYG4GmFwfwKAIJA0YGhkY6jcwFDAw\n",
       "vGNg2M7A2c3AwFqetoEBAKS8EE1WXEJLAAAAAElFTkSuQmCC\n",
       "\" style=\"display:inline;vertical-align:middle;\" /></a></td></tr>\n",
       "</table>\n"
      ],
      "text/plain": [
       "0. (B , C , c , 1 , 3) in Complexes^{5}\n",
       "   core type: Operation\n",
       "   operator: 1\n",
       "   operands: 2\n",
       "1. in\n",
       "   core type: Literal\n",
       "   sub-expressions: \n",
       "2. ((B , C , c , 1 , 3) , Complexes^{5})\n",
       "   core type: ExprTuple\n",
       "   sub-expressions: 3, 4\n",
       "3. (B , C , c , 1 , 3)\n",
       "   core type: ExprTuple\n",
       "   sub-expressions: 5, 6, 7, 8, 9\n",
       "4. Complexes^{5}\n",
       "   core type: Operation\n",
       "   operator: 10\n",
       "   operands: 11\n",
       "5. B\n",
       "   core type: Variable\n",
       "   sub-expressions: \n",
       "6. C\n",
       "   core type: Variable\n",
       "   sub-expressions: \n",
       "7. c\n",
       "   core type: Variable\n",
       "   sub-expressions: \n",
       "8. 1\n",
       "   core type: Literal\n",
       "   sub-expressions: \n",
       "9. 3\n",
       "   core type: Literal\n",
       "   sub-expressions: \n",
       "10. Exp\n",
       "    core type: Literal\n",
       "    sub-expressions: \n",
       "11. (Complexes , 5)\n",
       "    core type: ExprTuple\n",
       "    sub-expressions: 12, 13\n",
       "12. Complexes\n",
       "    core type: Literal\n",
       "    sub-expressions: \n",
       "13. 5\n",
       "    core type: Literal\n",
       "    sub-expressions: "
      ]
     },
     "execution_count": 4,
     "metadata": {},
     "output_type": "execute_result"
    }
   ],
   "source": [
    "# display the expression information\n",
    "expr.exprInfo()"
   ]
  },
  {
   "cell_type": "code",
   "execution_count": null,
   "metadata": {},
   "outputs": [],
   "source": []
  }
 ],
 "metadata": {
  "kernelspec": {
   "display_name": "Python 3",
   "language": "python",
   "name": "python3"
  }
 },
 "nbformat": 4,
 "nbformat_minor": 0
}
