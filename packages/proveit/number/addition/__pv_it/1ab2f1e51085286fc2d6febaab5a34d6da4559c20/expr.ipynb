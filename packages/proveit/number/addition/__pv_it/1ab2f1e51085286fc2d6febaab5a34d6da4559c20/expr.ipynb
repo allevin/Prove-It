{
 "cells": [
  {
   "cell_type": "markdown",
   "metadata": {},
   "source": [
    "Expression of type <a class=\"ProveItLink\" href=\"../../../../../../doc/html/api/proveit.logic.Equals.html\">Equals</a>\n",
    "=======================\n",
    "# from context <a class=\"ProveItLink\" href=\"../../_context_.ipynb\">proveit.number.addition</a>"
   ]
  },
  {
   "cell_type": "code",
   "execution_count": 1,
   "metadata": {},
   "outputs": [],
   "source": [
    "# import Expression classes needed to build the expression\n",
    "from proveit._common_ import c\n",
    "from proveit.logic import Equals\n",
    "from proveit.number import Add, one, three, two"
   ]
  },
  {
   "cell_type": "code",
   "execution_count": 2,
   "metadata": {},
   "outputs": [
    {
     "data": {
      "text/html": [
       "<strong id=\"expr\">expr:</strong> <a class=\"ProveItLink\" href=\"expr.ipynb\"><img src=\"data:image/png;base64,iVBORw0KGgoAAAANSUhEUgAAAfEAAAAVBAMAAACkvspuAAAAMFBMVEX////c3NwiIiJERESqqqqY\n",
       "mJh2dnZmZmYQEBDu7u4yMjJUVFTMzMyIiIi6uroAAAAs73DqAAAAAXRSTlMAQObYZgAAA1ZJREFU\n",
       "WMPlmD9oU1EUxk9M0vxp/uHiUMWii1scdHBqtk7FTB2lIEQQg6FiI11UcFCh6SuCFBwsVRHTwWwi\n",
       "HdKpCC5dBIUGg6MQWrUWUqj15L3c13fPOX0vjSEdfENCfzfnu993373v3VuA//dKrPW5wysCaxyF\n",
       "h4+d/fYS+dtXfFHXyWruAi3yG4JSaIWhWKW7AFSfm4rlrmaEKKaHNx318aRJwBDEt/ReC7BBpk9k\n",
       "REoOC4xEja6CM31mCk5AYleKgh7iTreRFNVug2fLTULeA6Q1MrAFyWGLzLUblqvK2ZxTdJxFqLl5\n",
       "0Itd9ZkpuJmBn1IU9BB2DluArnkbxJuEPDSgWneSwH7yMVX+VYmPOUXnWfJHbh70Yld9Zgou28n1\n",
       "KOjhO3SX/K0Bd+ukSM12j+R+uvISCz1KLplSs12Pgh6mWhMhV1vRWhngyfFKG4QseTmzhAcK9Jk3\n",
       "gR9P8+u6nAJ2MQPSyDJT0YqUHD28wq8P9eiw1sqAlDy2rZPY9YpnclM4YN7i6XLrMgcrmsXqEizq\n",
       "cgqoYgak5NQUrC6J0xc9lPBGzIA/62xlQEwePU/J57qHM0s4cY/c8zDWza/BRU3OBqqYASk5NxUv\n",
       "ScnRwx+AwU2yxhgQk99iJNz0cGYJxzZJ8iQmr9Iuq3RZV73XuWQKZg0hCnrA5ElrnELl8uLjcrki\n",
       "AJVcIxWd+FbA/9uaxefas7jtbJ9YwmLyX7RLCziKGeD6zBScBBjJClHQwwOA02tkvBmQ7vko+FJO\n",
       "8rxpJXe7J5awNdsnz7Sus+ZcyYBvl3S5D9rFDEj3nJqK7Blmcmm249JJYpPWyoCQPFaAoNZJcgGO\n",
       "/fBwZgkH6Sau9VDBQQtqHdhAFTPA9Zkp2MGnfUqIgh6u4eorwID2EmNASH48l5vUSDwLGxNe69wU\n",
       "Zm+1FngHcEPrwAaqmAGuz0zBJ0hsH/BW+4ZfU7UveisDoTs7t3WS3tsjm6PR4ksy94qzr7M6MYWj\n",
       "dbqTwVdoKF/Tn0Q2UMUMcH1uKlCczkhR0EM41dEe7lCEbbq8dq/3u9zDHUy8bKKH4ITbWZ0f3jsh\n",
       "Dffzd541jx9OruF9vveyme/4lNrDK9KzU+o/ehjqd/JBdgwFX+UoPPj6/d+odYGd6r+Hv2LonOpc\n",
       "ymk6AAAAAElFTkSuQmCC\n",
       "\" style=\"display:inline;vertical-align:middle;\" /></a><br>"
      ],
      "text/plain": [
       "expr: (c + c + 1 + 2 + 3 + 1 + c) = (c + c + c + 1 + 2 + 3 + 1)"
      ]
     },
     "execution_count": 2,
     "metadata": {},
     "output_type": "execute_result"
    }
   ],
   "source": [
    "# build up the expression from sub-expressions\n",
    "expr = Equals(Add(c, c, one, two, three, one, c), Add(c, c, c, one, two, three, one))"
   ]
  },
  {
   "cell_type": "code",
   "execution_count": 3,
   "metadata": {},
   "outputs": [
    {
     "name": "stdout",
     "output_type": "stream",
     "text": [
      "Passed sanity check: built 'expr' is the same as the stored Expression.\n"
     ]
    }
   ],
   "source": [
    "# check that the built expression is the same as the stored expression\n",
    "%check_expr"
   ]
  },
  {
   "cell_type": "code",
   "execution_count": 4,
   "metadata": {},
   "outputs": [
    {
     "data": {
      "text/html": [
       "<table><tr><th>&nbsp;</th><th>core type</th><th>sub-expressions</th><th>expression</th></tr>\n",
       "<tr><td>0</td><td>Operation</td><td>operator:&nbsp;1<br>operands:&nbsp;2<br></td><td><a class=\"ProveItLink\" href=\"expr.ipynb\"><img src=\"data:image/png;base64,iVBORw0KGgoAAAANSUhEUgAAAfEAAAAVBAMAAACkvspuAAAAMFBMVEX////c3NwiIiJERESqqqqY\n",
       "mJh2dnZmZmYQEBDu7u4yMjJUVFTMzMyIiIi6uroAAAAs73DqAAAAAXRSTlMAQObYZgAAA1ZJREFU\n",
       "WMPlmD9oU1EUxk9M0vxp/uHiUMWii1scdHBqtk7FTB2lIEQQg6FiI11UcFCh6SuCFBwsVRHTwWwi\n",
       "HdKpCC5dBIUGg6MQWrUWUqj15L3c13fPOX0vjSEdfENCfzfnu993373v3VuA//dKrPW5wysCaxyF\n",
       "h4+d/fYS+dtXfFHXyWruAi3yG4JSaIWhWKW7AFSfm4rlrmaEKKaHNx318aRJwBDEt/ReC7BBpk9k\n",
       "REoOC4xEja6CM31mCk5AYleKgh7iTreRFNVug2fLTULeA6Q1MrAFyWGLzLUblqvK2ZxTdJxFqLl5\n",
       "0Itd9ZkpuJmBn1IU9BB2DluArnkbxJuEPDSgWneSwH7yMVX+VYmPOUXnWfJHbh70Yld9Zgou28n1\n",
       "KOjhO3SX/K0Bd+ukSM12j+R+uvISCz1KLplSs12Pgh6mWhMhV1vRWhngyfFKG4QseTmzhAcK9Jk3\n",
       "gR9P8+u6nAJ2MQPSyDJT0YqUHD28wq8P9eiw1sqAlDy2rZPY9YpnclM4YN7i6XLrMgcrmsXqEizq\n",
       "cgqoYgak5NQUrC6J0xc9lPBGzIA/62xlQEwePU/J57qHM0s4cY/c8zDWza/BRU3OBqqYASk5NxUv\n",
       "ScnRwx+AwU2yxhgQk99iJNz0cGYJxzZJ8iQmr9Iuq3RZV73XuWQKZg0hCnrA5ElrnELl8uLjcrki\n",
       "AJVcIxWd+FbA/9uaxefas7jtbJ9YwmLyX7RLCziKGeD6zBScBBjJClHQwwOA02tkvBmQ7vko+FJO\n",
       "8rxpJXe7J5awNdsnz7Sus+ZcyYBvl3S5D9rFDEj3nJqK7Blmcmm249JJYpPWyoCQPFaAoNZJcgGO\n",
       "/fBwZgkH6Sau9VDBQQtqHdhAFTPA9Zkp2MGnfUqIgh6u4eorwID2EmNASH48l5vUSDwLGxNe69wU\n",
       "Zm+1FngHcEPrwAaqmAGuz0zBJ0hsH/BW+4ZfU7UveisDoTs7t3WS3tsjm6PR4ksy94qzr7M6MYWj\n",
       "dbqTwVdoKF/Tn0Q2UMUMcH1uKlCczkhR0EM41dEe7lCEbbq8dq/3u9zDHUy8bKKH4ITbWZ0f3jsh\n",
       "Dffzd541jx9OruF9vveyme/4lNrDK9KzU+o/ehjqd/JBdgwFX+UoPPj6/d+odYGd6r+Hv2LonOpc\n",
       "ymk6AAAAAElFTkSuQmCC\n",
       "\" style=\"display:inline;vertical-align:middle;\" /></a></td></tr>\n",
       "<tr><td>1</td><td>Literal</td><td></td><td><a class=\"ProveItLink\" href=\"../../../../logic/equality/__pv_it/2fb26078095930560931daa0500ce419a39ea6cd0/expr.ipynb\"><img src=\"data:image/png;base64,iVBORw0KGgoAAAANSUhEUgAAAA4AAAAFBAMAAACHocAhAAAAFVBMVEX///9EREQiIiJUVFQyMjJm\n",
       "ZmYAAADubVkoAAAAAXRSTlMAQObYZgAAABRJREFUCNdjCHEBAWcGXCBICQQUAUpuAwlgGKrkAAAA\n",
       "AElFTkSuQmCC\n",
       "\" style=\"display:inline;vertical-align:middle;\" /></a></td></tr>\n",
       "<tr><td>2</td><td>ExprTuple</td><td>3, 4</td><td><a class=\"ProveItLink\" href=\"../2403f699c8c2f49ae981283d3cb3fa24819e209e0/expr.ipynb\"><img src=\"data:image/png;base64,iVBORw0KGgoAAAANSUhEUgAAAc8AAAAVBAMAAADShHjlAAAAMFBMVEX////c3NwiIiJERESqqqqY\n",
       "mJh2dnZmZmYQEBDu7u4yMjJUVFTMzMyIiIi6uroAAAAs73DqAAAAAXRSTlMAQObYZgAAAp9JREFU\n",
       "WMPlWD9oE1Ec/kKSppde0uDioGBHt7g4ODWbU/EmRxGEuBgMio100cFBBNMrggQcDBUpPQe7iXRI\n",
       "JxFcsjgIBk9HoVD/FVKo8d273Ov9Xrl7r5eQwb4hx33vffm+7937Xd4LcGxasfv/Z7zifXzQG3tB\n",
       "uk81XrgUMavXKtKgtD1Wv4k8eKzcFruua2k86UvAKRR+U+QkivsUMebHGjSRB5/VBgrhlWuUpFEB\n",
       "8GyzLyFvgTJFblbwkyDGZicIuhLpPlLyoK2M4GHIugxMhyc9I9erAAp9CXloo+MS5JIQEawvwZcv\n",
       "RAaNlhRtYSQPnNUCviNZ0Nc27rkSKVg2kwqq5YGz0hUseo+52tuivU9rnxVBWSvbEpLfUAUVShqS\n",
       "ARAdVMsDZ03V8ZJd3rv5OdJrNrGqDGruSsi7V1AFFUpqSQHEBdXwwFmZNppsdh8jbZHeVhfnlUHz\n",
       "52Sk0FQEFUoakgKIC6rhgbOK9/EXmNmR66OjrlHg9uGFtGzHBxVKGpIddY1qeeAsc8cLOutPS85x\n",
       "Vh85jrfGf8nAUIQgGxJyGpi36Bg/6JLjnHUcb00NlbQkfSBETughCPoAONOVZjO1r/FELyJVCiPG\n",
       "wOYicU9UKKklD4CYJ6rjIVi6rA5mWRft/QNkFUHNOrJEBHvsHViKD8qVDGhJCiA6qJYHzsq2cZ0V\n",
       "TB1T9F3/BrihCHqiWr1FkY8o7ipeRlzp+ZyWpACig2p5CH5evrHLYu8T7c3VerSkc3f37tAh5cFA\n",
       "2oNkGksVijSW1yzq1VNq/dCTDICAnMyDz8q7mC4dbZuSDCE7o68Jd0YjeGBbwOzVuLPp4cNqMmQ7\n",
       "fGPhaJLbo3uoaR/TxtmsiSsabX6om3ArTP4fhhmvPlPH4K8Udjr4B9C1jiqbLSfnAAAAAElFTkSu\n",
       "QmCC\n",
       "\" style=\"display:inline;vertical-align:middle;\" /></a></td></tr>\n",
       "<tr><td>3</td><td>Operation</td><td>operator:&nbsp;6<br>operands:&nbsp;5<br></td><td><a class=\"ProveItLink\" href=\"../a0c8e112f883831ccc8f91902cde254bd4e89cad0/expr.ipynb\"><img src=\"data:image/png;base64,iVBORw0KGgoAAAANSUhEUgAAAN0AAAAQBAMAAABgnGdDAAAAMFBMVEX///+qqqpmZmbc3NxUVFSY\n",
       "mJhEREQiIiIyMjK6uroQEBDMzMyIiIh2dnbu7u4AAAA4MM1YAAAAAXRSTlMAQObYZgAAAYVJREFU\n",
       "OMullE1LAlEUhl+/QhkbpXWQCJUEkUTQokUSrtOf0KZttm4jhOTdNT+gH5AR2DoIZtMqqV2bHBoo\n",
       "WgRBLSoXfmSODp5TekTvaubhvTz33HPvBUYZe+zfFz8yKNGs+ygLTdkYc7w0GVhD+IOSVYTqlOg5\n",
       "wacnB4DndJORbSBPyWMU34To6UzP9/S/z2MOAuEmI2c2MgYhc67PnXXX881O7Du2sWKwSb39lHy6\n",
       "VbmgwbfqjeBrj7zNSDAl+RzTpRHcJ0GthKLo0xqMXBUg+Tom/RxTWRJ8NbEr+oI7nIRLgs8x+d95\n",
       "uzJy/4CFvztctof7HFPEWahXqeKpUr89+OKg6yMkxcgGkMvSjONLKHWgVME1bZqsHF99hPpm4Ev2\n",
       "E71ld3zD6nNMkXaKBj+BgODTYggQH2rtE5sc7nNM/him6X3YAh4E37plLVJyjVBDOC9d03Lllga9\n",
       "1QrtvHepNk8j+VaLvSaeeCJKSbx8mKX3wTVJ78uEZMB7FjIlMCY56fv+AQsgswrl3pwwAAAAAElF\n",
       "TkSuQmCC\n",
       "\" style=\"display:inline;vertical-align:middle;\" /></a></td></tr>\n",
       "<tr><td>4</td><td>Operation</td><td>operator:&nbsp;6<br>operands:&nbsp;7<br></td><td><a class=\"ProveItLink\" href=\"../6a3751b12c827b59eeb5e16c8b6a49c5ec6889090/expr.ipynb\"><img src=\"data:image/png;base64,iVBORw0KGgoAAAANSUhEUgAAANwAAAAQBAMAAACPXgx9AAAAMFBMVEX///+qqqpmZmbc3NxUVFSY\n",
       "mJhEREQiIiIyMjK6uroQEBDMzMyIiIh2dnbu7u4AAAA4MM1YAAAAAXRSTlMAQObYZgAAAYBJREFU\n",
       "OMutlD1Lw0AYx/9trLQkxuIsWApqEcQigoODRZxtP4KLqzq7ZCn2NvMB/ABWBJ0FIYtTi6OLDQYU\n",
       "B0HQQe3QF2NrX54nl6SKtxz55fnfL3eXO+BPbZc9K+lDkxLVvk2GpUZtTy0GVqC9UbKMRCMwpWfZ\n",
       "aw/AQ7d73Gyxki3AoOQ+iU9KBqlOi1hscA/A9E+vtVjJqYO8SchMX9cfRvs33ZGDJZOFeotJdbpd\n",
       "vaD4pVaRA3+d2wyHkXhOprs04/sEq2WU5CBIpzYZuSpCotPPMF4g+NnCjhwE6eLbnGhliW7slW9V\n",
       "3hcE6ea8y3vueHWT3a+KClE6EeJ7uT/kABkhDoQoDnRDJdByjKwBewVW46bWLTYZpeELAmY3BSU7\n",
       "TPS209F5Zucyit+BmBz469QUYkSHuvuvZiV7l8IEPQgbwJ0c+OtWbXuekmskmrKDsFi9oThaqzpy\n",
       "0NNFF+qzNGO02+wOiaQzSTZuP/XbWyWgZBTSvXSsMIDj0EwI+QI3Xq7DKpjWjQAAAABJRU5ErkJg\n",
       "gg==\n",
       "\" style=\"display:inline;vertical-align:middle;\" /></a></td></tr>\n",
       "<tr><td>5</td><td>ExprTuple</td><td>8, 8, 11, 9, 10, 11, 8</td><td><a class=\"ProveItLink\" href=\"../a083aba5d4fe6a4ee49e191d3b403fb0ee7a2cd30/expr.ipynb\"><img src=\"data:image/png;base64,iVBORw0KGgoAAAANSUhEUgAAAIgAAAAVBAMAAABvbLv8AAAAMFBMVEX////c3NwiIiJERESqqqqY\n",
       "mJh2dnZmZmYQEBDu7u4yMjJUVFTMzMyIiIi6uroAAAAs73DqAAAAAXRSTlMAQObYZgAAAdpJREFU\n",
       "OMutlD1Iw0AUx/+1n0nth1MHBTu56qCDi+3sYlydBKEuil1spTg4uDjYBgQRHQRFRATRycHBTio4\n",
       "mMVBtFSdxKkqCi1ovNxdrmkSHNRAmh/v3f1yr+8R4F+uqPa3/f578nPpmvKqHBKFIQbtmYm0mR20\n",
       "Lp0n956bQ0pxiecQVbY3gegnz67UrWtlIOJWjXRyyiVhFW01SjNpvLLYxkmLxD+OkOpaTpWHQ0sI\n",
       "f1EaERJEWiTSAp7xo0SuI/hltuDTVYJ+5AxXplJmUhOEhFxt5hb50CFZnb4DJrFD8OJeTtKYAKvk\n",
       "apw9z/Zhl7QXsQUMo0jevwyvQg9iQotkW+wt2iVrGgaAJ5CCwzUeE2CVBPtEsKTaJKfsqIYkZi6L\n",
       "9blIbvmzC0gpNskblywC3eaodGtOiS+LDlqqrjokHtauJ6OmGMkpEizAJNRzDoxSagC9cUlIKL2T\n",
       "UQPGSH8QziJQ3kxagEokY7Y8PZnJJKVrRD/AkoaE0jEwZbT4kXCucoO1FyvkS7uKVIqTIdF1PUnJ\n",
       "ly+kWTI415jlNF0hhzxAKM6Lf4AdonEniWSTyNj7+ShBgR38cJLipIDW/BT8WrJO7k7eNjGXYpnm\n",
       "pGaySUfG///Hz2OkjG8CKZY7q/mjXQAAAABJRU5ErkJggg==\n",
       "\" style=\"display:inline;vertical-align:middle;\" /></a></td></tr>\n",
       "<tr><td>6</td><td>Literal</td><td></td><td><a class=\"ProveItLink\" href=\"../3e6688136fa3c7aefbebe51301b7c3ebf0b69c440/expr.ipynb\"><img src=\"data:image/png;base64,iVBORw0KGgoAAAANSUhEUgAAAA4AAAAOBAMAAADtZjDiAAAAJFBMVEX///+6urpUVFQQEBAiIiIy\n",
       "MjJmZmaIiIiqqqrc3Nzu7u4AAACgHpL+AAAAAXRSTlMAQObYZgAAAB5JREFUCNdjYGBgWMkAAe2k\n",
       "0Kmhoc6hoUGk6BMHYgAHOwjcado9fwAAAABJRU5ErkJggg==\n",
       "\" style=\"display:inline;vertical-align:middle;\" /></a></td></tr>\n",
       "<tr><td>7</td><td>ExprTuple</td><td>8, 8, 8, 11, 9, 10, 11</td><td><a class=\"ProveItLink\" href=\"../e75dcc13b33ca588e037ffc1cdbf1d9d8fc808240/expr.ipynb\"><img src=\"data:image/png;base64,iVBORw0KGgoAAAANSUhEUgAAAIcAAAAVBAMAAACeZ+BxAAAAMFBMVEX////c3NwiIiJERESqqqqY\n",
       "mJh2dnZmZmYQEBDu7u4yMjJUVFTMzMyIiIi6uroAAAAs73DqAAAAAXRSTlMAQObYZgAAAbBJREFU\n",
       "OMutlC1Mw0AYht+t+2nX/aEQCKrQCBAYmMMWgyRTW0JCUsNGUAgMArYEswSxJkAIwcxPUAUkCCYh\n",
       "sGwgMdsIiCI2rtdrc0u3hjAq+j25a5+7t/1ywL9cycZk729Yt3v/Z4Qyg+ndZUY3uQVndgmIGqRe\n",
       "+jqkFSYJ1NDK2KShw3Z/bJKbDiR800j1ayaRywh2KUU+kVIondQtyToglv3jtNi8eAC5TynkSpCw\n",
       "JBXgHb+TxExE+86gE4dKhAwK1qZzTcPevQdcCbmCpkNX4CQRDeek3LVj9v68wEsesnaNb9Z4SUjH\n",
       "EVn2EIJK1/fAkOTUpcc2J0nugeSUu2zOC7wkOu8OiiYniXctScqZ9QIveWY1YED4GpbsA7NOq3iB\n",
       "k4Q0TFGomsMSEmeRrEviqxJGgS2hnltgjVJKR7Bnj1FJWEeefAENEaOqjAIqkT6sEHO5vEIpoaKT\n",
       "peT+4jdSCs0nVHojoVi6UKVSmjTJYDBQKGG1eAZK0Z3vbdKGbYhplvkVYyGZ9iPS9mHWQVAxFsLw\n",
       "oy3uKPirRCJHAWbY33IGvYCGH8lWrsCEx+ML8AP5e5kpo7P5gAAAAABJRU5ErkJggg==\n",
       "\" style=\"display:inline;vertical-align:middle;\" /></a></td></tr>\n",
       "<tr><td>8</td><td>Variable</td><td></td><td><a class=\"ProveItLink\" href=\"../../../../__pv_it/cbdfda466482236edba0ce44ac7ef39cda0af7a40/expr.ipynb\"><img src=\"data:image/png;base64,iVBORw0KGgoAAAANSUhEUgAAAAkAAAAJBAMAAAASvxsjAAAALVBMVEX///9mZmbc3NxUVFSYmJhE\n",
       "REQiIiIyMjK6uroQEBDMzMyIiIh2dnbu7u4AAABgFDGoAAAAAXRSTlMAQObYZgAAADZJREFUCNdj\n",
       "YOA9s3sBA8PKBvYEBt7ZDKwODMwPGICALwBE6m0Asx0YGIDiAgw8QJUyu/cyAAAmuwmycZ8WfQAA\n",
       "AABJRU5ErkJggg==\n",
       "\" style=\"display:inline;vertical-align:middle;\" /></a></td></tr>\n",
       "<tr><td>9</td><td>Literal</td><td></td><td><a class=\"ProveItLink\" href=\"../../../numeral/__pv_it/77d407a64829263cdc16415becd4c2293f77a4bf0/expr.ipynb\"><img src=\"data:image/png;base64,iVBORw0KGgoAAAANSUhEUgAAAAkAAAAOBAMAAAAPuiubAAAAMFBMVEX///+YmJh2dnbMzMwQEBAi\n",
       "IiLu7u6qqqqIiIhUVFS6urpEREQyMjJmZmbc3NwAAACOMKdoAAAAAXRSTlMAQObYZgAAAFBJREFU\n",
       "CNdj4Lt7egEDw0sGju8MDNMYGOIZGFwSGOYvYDifwHAfKAEUSQASzJ9ATJ4NIPI2iOCYACJrGfge\n",
       "MDBfYGB8wPBUSekqUPH//18ZAIliFhc3zESNAAAAAElFTkSuQmCC\n",
       "\" style=\"display:inline;vertical-align:middle;\" /></a></td></tr>\n",
       "<tr><td>10</td><td>Literal</td><td></td><td><a class=\"ProveItLink\" href=\"../../../numeral/__pv_it/9176d93c83afa2c995b614976e3cb49207102fa70/expr.ipynb\"><img src=\"data:image/png;base64,iVBORw0KGgoAAAANSUhEUgAAAAoAAAAOBAMAAADkjZCYAAAAMFBMVEX///+YmJju7u4QEBBUVFQy\n",
       "MjIiIiKIiIi6urpmZmbc3NyqqqpERER2dnbMzMwAAAB0GlNiAAAAAXRSTlMAQObYZgAAAE1JREFU\n",
       "CNdjYHh79zQDA9cEhv4CBt7fDPwJDNxgEgiAIkAQAsR8Vx1ATIbiBhDJ/ImB6wEDz0cG/U8gkj+A\n",
       "ge0XA7sAQ/8FBoadM6MZAEflFACalZ/OAAAAAElFTkSuQmCC\n",
       "\" style=\"display:inline;vertical-align:middle;\" /></a></td></tr>\n",
       "<tr><td>11</td><td>Literal</td><td></td><td><a class=\"ProveItLink\" href=\"../../../numeral/__pv_it/9be8badea4c35b9724062cecc501d17a3158d1d20/expr.ipynb\"><img src=\"data:image/png;base64,iVBORw0KGgoAAAANSUhEUgAAAAgAAAAPBAMAAAArJJMAAAAAHlBMVEX///+YmJgyMjIQEBBmZmaI\n",
       "iIhUVFTu7u5EREQAAAAw+MI4AAAAAXRSTlMAQObYZgAAACFJREFUCNdjYGBoZ2BgqJjOwFCWBiQY\n",
       "WEklWJwnOTKAAACjEQo8HvEr3AAAAABJRU5ErkJggg==\n",
       "\" style=\"display:inline;vertical-align:middle;\" /></a></td></tr>\n",
       "</table>\n"
      ],
      "text/plain": [
       "0. (c + c + 1 + 2 + 3 + 1 + c) = (c + c + c + 1 + 2 + 3 + 1)\n",
       "   core type: Operation\n",
       "   operator: 1\n",
       "   operands: 2\n",
       "1. =\n",
       "   core type: Literal\n",
       "   sub-expressions: \n",
       "2. (c + c + 1 + 2 + 3 + 1 + c , c + c + c + 1 + 2 + 3 + 1)\n",
       "   core type: ExprTuple\n",
       "   sub-expressions: 3, 4\n",
       "3. c + c + 1 + 2 + 3 + 1 + c\n",
       "   core type: Operation\n",
       "   operator: 6\n",
       "   operands: 5\n",
       "4. c + c + c + 1 + 2 + 3 + 1\n",
       "   core type: Operation\n",
       "   operator: 6\n",
       "   operands: 7\n",
       "5. (c , c , 1 , 2 , 3 , 1 , c)\n",
       "   core type: ExprTuple\n",
       "   sub-expressions: 8, 8, 11, 9, 10, 11, 8\n",
       "6. +\n",
       "   core type: Literal\n",
       "   sub-expressions: \n",
       "7. (c , c , c , 1 , 2 , 3 , 1)\n",
       "   core type: ExprTuple\n",
       "   sub-expressions: 8, 8, 8, 11, 9, 10, 11\n",
       "8. c\n",
       "   core type: Variable\n",
       "   sub-expressions: \n",
       "9. 2\n",
       "   core type: Literal\n",
       "   sub-expressions: \n",
       "10. 3\n",
       "    core type: Literal\n",
       "    sub-expressions: \n",
       "11. 1\n",
       "    core type: Literal\n",
       "    sub-expressions: "
      ]
     },
     "execution_count": 4,
     "metadata": {},
     "output_type": "execute_result"
    }
   ],
   "source": [
    "# display the expression information\n",
    "expr.exprInfo()"
   ]
  },
  {
   "cell_type": "code",
   "execution_count": null,
   "metadata": {},
   "outputs": [],
   "source": []
  }
 ],
 "metadata": {
  "kernelspec": {
   "display_name": "Python 3",
   "language": "python",
   "name": "python3"
  }
 },
 "nbformat": 4,
 "nbformat_minor": 0
}
