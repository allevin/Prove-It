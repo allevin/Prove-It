{
 "cells": [
  {
   "cell_type": "markdown",
   "metadata": {},
   "source": [
    "Expression of type <a class=\"ProveItLink\" href=\"../../../../../../doc/html/api/proveit.number.Add.html\">Add</a>\n",
    "=======================\n",
    "# from context <a class=\"ProveItLink\" href=\"../../_context_.ipynb\">proveit.number.addition</a>"
   ]
  },
  {
   "cell_type": "code",
   "execution_count": 1,
   "metadata": {},
   "outputs": [],
   "source": [
    "# import Expression classes needed to build the expression\n",
    "from proveit._common_ import a, b, c\n",
    "from proveit.number import Add"
   ]
  },
  {
   "cell_type": "code",
   "execution_count": 2,
   "metadata": {},
   "outputs": [
    {
     "data": {
      "text/html": [
       "<strong id=\"expr\">expr:</strong> <a class=\"ProveItLink\" href=\"expr.ipynb\"><img src=\"data:image/png;base64,iVBORw0KGgoAAAANSUhEUgAAAWoAAAAQBAMAAADNOCjDAAAAMFBMVEX///8yMjKqqqrMzMzu7u4i\n",
       "IiJmZmaYmJhEREQQEBC6urp2dnaIiIhUVFTc3NwAAAD87Fq/AAAAAXRSTlMAQObYZgAAAjdJREFU\n",
       "SMe1lb9LG2EYx785z9MmmHhD6CQEipugo25ZS9FkCggOcWqhlN6fkM1FKB1crIjQSRAUShZ1OFAc\n",
       "7BXUoVIINP+AGGKoDh0azd297/e9vL38wHcJfPg+n+e99568B/SwzF/FuMjiBvpePWiHWomL2MjU\n",
       "82jj11L0NOqd30xOAZEEmrpEF28AQq2+sx4EayZCDLfzu59XQCSRbOkSXbwBCLX6znoQv+tqrCxV\n",
       "HGDXVQy863TtcJtrBQmiU961Uvvm+IRAovbD4cTN9906e80jb45AqNV3DmsU7259vMG1gvhR8wEZ\n",
       "rh3ZRJZAoYI7HpltfFJOcmEnUZSB0Go7ixr2pu9hVcguET9qtPDigGpfu1gjMJvHFwK3Dt7xrs0t\n",
       "jDsyEFptZ1HD3okGRl2yS8SPWpPIlKn2tzpuq8AfNbEC1ctAaLWdRQ17MxUUHl/Tqm0v2/bjrRsQ\n",
       "y7azn227faeOlrHvyAAPnbYClJC8VxLm08iQl4Gv/V9nvybivXUxi7z8xBLxH7B9r34kkP6rHkET\n",
       "VktJGA0TipfPWmi1nUUNews5XBr0n5BIsOs5f2jDTbbPdYzAnTL5ZhMTk694k+1zpbkWWn3nsIa9\n",
       "CccopahWIsF05awL3vVP4BuBK3zgxEtMlw94rstI0fEIrb5zWMPedO18/pzvEEGCB6y9VQbCOvbo\n",
       "TWLxzOHEjfd1fYdvvvfeKV8qoVbbWdR08Q7+Xe3lyzvTP+jji74XIUl3eNDFuzds539ANvkl8YP5\n",
       "wgAAAABJRU5ErkJggg==\n",
       "\" style=\"display:inline;vertical-align:middle;\" /></a><br>"
      ],
      "text/plain": [
       "expr: a + a + b + c + b + a + c + b + a + c + a"
      ]
     },
     "execution_count": 2,
     "metadata": {},
     "output_type": "execute_result"
    }
   ],
   "source": [
    "# build up the expression from sub-expressions\n",
    "expr = Add(a, a, b, c, b, a, c, b, a, c, a)"
   ]
  },
  {
   "cell_type": "code",
   "execution_count": 3,
   "metadata": {},
   "outputs": [
    {
     "name": "stdout",
     "output_type": "stream",
     "text": [
      "Passed sanity check: built 'expr' is the same as the stored Expression.\n"
     ]
    }
   ],
   "source": [
    "# check that the built expression is the same as the stored expression\n",
    "%check_expr"
   ]
  },
  {
   "cell_type": "code",
   "execution_count": 4,
   "metadata": {},
   "outputs": [
    {
     "data": {
      "text/html": [
       "<table><tr><th>&nbsp;</th><th>core type</th><th>sub-expressions</th><th>expression</th></tr>\n",
       "<tr><td>0</td><td>Operation</td><td>operator:&nbsp;1<br>operands:&nbsp;2<br></td><td><a class=\"ProveItLink\" href=\"expr.ipynb\"><img src=\"data:image/png;base64,iVBORw0KGgoAAAANSUhEUgAAAWoAAAAQBAMAAADNOCjDAAAAMFBMVEX///8yMjKqqqrMzMzu7u4i\n",
       "IiJmZmaYmJhEREQQEBC6urp2dnaIiIhUVFTc3NwAAAD87Fq/AAAAAXRSTlMAQObYZgAAAjdJREFU\n",
       "SMe1lb9LG2EYx785z9MmmHhD6CQEipugo25ZS9FkCggOcWqhlN6fkM1FKB1crIjQSRAUShZ1OFAc\n",
       "7BXUoVIINP+AGGKoDh0azd297/e9vL38wHcJfPg+n+e99568B/SwzF/FuMjiBvpePWiHWomL2MjU\n",
       "82jj11L0NOqd30xOAZEEmrpEF28AQq2+sx4EayZCDLfzu59XQCSRbOkSXbwBCLX6znoQv+tqrCxV\n",
       "HGDXVQy863TtcJtrBQmiU961Uvvm+IRAovbD4cTN9906e80jb45AqNV3DmsU7259vMG1gvhR8wEZ\n",
       "rh3ZRJZAoYI7HpltfFJOcmEnUZSB0Go7ixr2pu9hVcguET9qtPDigGpfu1gjMJvHFwK3Dt7xrs0t\n",
       "jDsyEFptZ1HD3okGRl2yS8SPWpPIlKn2tzpuq8AfNbEC1ctAaLWdRQ17MxUUHl/Tqm0v2/bjrRsQ\n",
       "y7azn227faeOlrHvyAAPnbYClJC8VxLm08iQl4Gv/V9nvybivXUxi7z8xBLxH7B9r34kkP6rHkET\n",
       "VktJGA0TipfPWmi1nUUNews5XBr0n5BIsOs5f2jDTbbPdYzAnTL5ZhMTk694k+1zpbkWWn3nsIa9\n",
       "CccopahWIsF05awL3vVP4BuBK3zgxEtMlw94rstI0fEIrb5zWMPedO18/pzvEEGCB6y9VQbCOvbo\n",
       "TWLxzOHEjfd1fYdvvvfeKV8qoVbbWdR08Q7+Xe3lyzvTP+jji74XIUl3eNDFuzds539ANvkl8YP5\n",
       "wgAAAABJRU5ErkJggg==\n",
       "\" style=\"display:inline;vertical-align:middle;\" /></a></td></tr>\n",
       "<tr><td>1</td><td>Literal</td><td></td><td><a class=\"ProveItLink\" href=\"../3e6688136fa3c7aefbebe51301b7c3ebf0b69c440/expr.ipynb\"><img src=\"data:image/png;base64,iVBORw0KGgoAAAANSUhEUgAAAA4AAAAOBAMAAADtZjDiAAAAJFBMVEX///+6urpUVFQQEBAiIiIy\n",
       "MjJmZmaIiIiqqqrc3Nzu7u4AAACgHpL+AAAAAXRSTlMAQObYZgAAAB5JREFUCNdjYGBgWMkAAe2k\n",
       "0Kmhoc6hoUGk6BMHYgAHOwjcado9fwAAAABJRU5ErkJggg==\n",
       "\" style=\"display:inline;vertical-align:middle;\" /></a></td></tr>\n",
       "<tr><td>2</td><td>ExprTuple</td><td>5, 5, 3, 4, 3, 5, 4, 3, 5, 4, 5</td><td><a class=\"ProveItLink\" href=\"../5e246e0e85e9995cc9c2c84db8d230386f3e76fc0/expr.ipynb\"><img src=\"data:image/png;base64,iVBORw0KGgoAAAANSUhEUgAAANUAAAAVBAMAAAAjhrYEAAAAMFBMVEX////c3NwiIiJERESqqqqY\n",
       "mJh2dnZmZmYQEBDu7u4yMjJUVFTMzMyIiIi6uroAAAAs73DqAAAAAXRSTlMAQObYZgAAAlBJREFU\n",
       "SMe9lj9oE3EUx79pLrn8ck0uu0OzdSpkcRSDs9CbHCU46GLkQOygg1akmzWTFDrkEDqULh2UFiEY\n",
       "cBFcMimiV1KnIkKjbZFAFX//7vfuTMJlMb/h8u7zXr6P3/u990uAWa5ybyZprovH+/G+zcfphBbb\n",
       "r6bksrv8sT3BuTMFoVXcTdtYAJQmlfB0CkLLraflugYUWhOOcZhOYuu4lZZrA/g2wZWvppPYupHa\n",
       "HNk6VvhHpnNnVZMLH44q6gA6nz2Fnje//ENMkPFhJ3ylDNJiN8NuDOV9bPGXo0p2oOu0isvKatdw\n",
       "Lo35dbxIEgoyPnYCVwmT1rt+sRpDVoB1nvcMdk35FzzcVdZyC2uqzj1cTBIKMj5riEJD7sFosafI\n",
       "ejFUfoQ/gDPAnO7GN8CSsu4DvyI0SpaQ9NkBXF8YpOXo7UVofiByuTW0VQFwAqbqhEWUzzTCCImC\n",
       "jG/Ox7HcBGm5tWgcFOK5nvCa9LAM2bOZ37AGTA+TPdTIjJchOoh8fLweSgXSWogGVyNeQ17vdh2v\n",
       "ra74NjuFE1yVsefiAITB95JLkFiQ8fHGWINQIC2X79MjhFyAW7yZPWsxj7Zomi1c8RvsJ7de4gGk\n",
       "sQfcThIKMj6nbu9KBdJyfOS7hETPfxX9f/D2ABs/xOSE3y/12TM+PZsfPUjDboatJKEg42Ode5AK\n",
       "Ma2V8FMModhHoRLV/JBuo0q6MQ6RwuEo4ndUrhG9eAbnpjDGIW/UItSM/6b831wsEEekX0p0Tfam\n",
       "MMYgUiiNIkdUOjOb/wD8jv4LhzTgHXse0zUAAAAASUVORK5CYII=\n",
       "\" style=\"display:inline;vertical-align:middle;\" /></a></td></tr>\n",
       "<tr><td>3</td><td>Variable</td><td></td><td><a class=\"ProveItLink\" href=\"../../../../__pv_it/6840a4fa6c106149dc16a131294d0c5e44f1b0480/expr.ipynb\"><img src=\"data:image/png;base64,iVBORw0KGgoAAAANSUhEUgAAAAkAAAAOBAMAAAAPuiubAAAALVBMVEX///9mZmbMzMxERESYmJiI\n",
       "iIh2dna6urqqqqoyMjIiIiIQEBBUVFTu7u4AAAD9S1JeAAAAAXRSTlMAQObYZgAAAE1JREFUCNdj\n",
       "4D29gAEIOA+ASL4GEFl3AURmgQiGOaFHGBh4HzPwKTBwvGXgTmBgnMDAJ8DAJcBQ5wBSLncBJLWN\n",
       "gYGngRFoBO9REQYGAGrcDtUkVqASAAAAAElFTkSuQmCC\n",
       "\" style=\"display:inline;vertical-align:middle;\" /></a></td></tr>\n",
       "<tr><td>4</td><td>Variable</td><td></td><td><a class=\"ProveItLink\" href=\"../../../../__pv_it/cbdfda466482236edba0ce44ac7ef39cda0af7a40/expr.ipynb\"><img src=\"data:image/png;base64,iVBORw0KGgoAAAANSUhEUgAAAAkAAAAJBAMAAAASvxsjAAAALVBMVEX///9mZmbc3NxUVFSYmJhE\n",
       "REQiIiIyMjK6uroQEBDMzMyIiIh2dnbu7u4AAABgFDGoAAAAAXRSTlMAQObYZgAAADZJREFUCNdj\n",
       "YOA9s3sBA8PKBvYEBt7ZDKwODMwPGICALwBE6m0Asx0YGIDiAgw8QJUyu/cyAAAmuwmycZ8WfQAA\n",
       "AABJRU5ErkJggg==\n",
       "\" style=\"display:inline;vertical-align:middle;\" /></a></td></tr>\n",
       "<tr><td>5</td><td>Variable</td><td></td><td><a class=\"ProveItLink\" href=\"../../../../__pv_it/07527342713064c87612d00d8557c53d53d5324a0/expr.ipynb\"><img src=\"data:image/png;base64,iVBORw0KGgoAAAANSUhEUgAAAAsAAAAJBAMAAAAWSsseAAAAMFBMVEX///8yMjKqqqrMzMzu7u4i\n",
       "IiJmZmaYmJhEREQQEBC6urp2dnaIiIhUVFTc3NwAAAD87Fq/AAAAAXRSTlMAQObYZgAAAEhJREFU\n",
       "CNdjYOC7s2seAwPDygccHxgY+L4zsDUwMPB+YGA9wMDA38Dgb8DA8P4Agz6DA4O/AsNFJgMGxgKm\n",
       "MG6gyjunLE4xAAAZTBA5TB6DCwAAAABJRU5ErkJggg==\n",
       "\" style=\"display:inline;vertical-align:middle;\" /></a></td></tr>\n",
       "</table>\n"
      ],
      "text/plain": [
       "0. a + a + b + c + b + a + c + b + a + c + a\n",
       "   core type: Operation\n",
       "   operator: 1\n",
       "   operands: 2\n",
       "1. +\n",
       "   core type: Literal\n",
       "   sub-expressions: \n",
       "2. (a , a , b , c , b , a , c , b , a , c , a)\n",
       "   core type: ExprTuple\n",
       "   sub-expressions: 5, 5, 3, 4, 3, 5, 4, 3, 5, 4, 5\n",
       "3. b\n",
       "   core type: Variable\n",
       "   sub-expressions: \n",
       "4. c\n",
       "   core type: Variable\n",
       "   sub-expressions: \n",
       "5. a\n",
       "   core type: Variable\n",
       "   sub-expressions: "
      ]
     },
     "execution_count": 4,
     "metadata": {},
     "output_type": "execute_result"
    }
   ],
   "source": [
    "# display the expression information\n",
    "expr.exprInfo()"
   ]
  },
  {
   "cell_type": "code",
   "execution_count": null,
   "metadata": {},
   "outputs": [],
   "source": []
  }
 ],
 "metadata": {
  "kernelspec": {
   "display_name": "Python 3",
   "language": "python",
   "name": "python3"
  }
 },
 "nbformat": 4,
 "nbformat_minor": 0
}
