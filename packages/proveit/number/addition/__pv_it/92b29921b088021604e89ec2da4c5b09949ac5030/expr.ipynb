{
 "cells": [
  {
   "cell_type": "markdown",
   "metadata": {},
   "source": [
    "Expression of type <a class=\"ProveItLink\" href=\"../../../../../../doc/html/api/proveit.ExprTuple.html\">ExprTuple</a>\n",
    "=======================\n",
    "# from context <a class=\"ProveItLink\" href=\"../../_context_.ipynb\">proveit.number.addition</a>"
   ]
  },
  {
   "cell_type": "code",
   "execution_count": 1,
   "metadata": {},
   "outputs": [],
   "source": [
    "# import Expression classes needed to build the expression\n",
    "from proveit import ExprTuple\n",
    "from proveit._common_ import a, b, c\n",
    "from proveit.number import Add, four, three, two"
   ]
  },
  {
   "cell_type": "code",
   "execution_count": 2,
   "metadata": {},
   "outputs": [
    {
     "data": {
      "text/html": [
       "<strong id=\"expr\">expr:</strong> <a class=\"ProveItLink\" href=\"expr.ipynb\"><img src=\"data:image/png;base64,iVBORw0KGgoAAAANSUhEUgAAAl0AAAAVBAMAAACOOEYwAAAAMFBMVEX////c3NwiIiJERESqqqqY\n",
       "mJh2dnZmZmYQEBDu7u4yMjJUVFTMzMyIiIi6uroAAAAs73DqAAAAAXRSTlMAQObYZgAABDpJREFU\n",
       "WMPtmE1oVFcUx/9v8ubjzXcL4iKCAaF2U5KFXbYO3bjQ4HTTpQwKI9imHSoaSBfWWkoVGp8bEUQy\n",
       "+LFwsjALxS9CBgQVXHQ2WkXHDl2JKJnqxHZK4vRNfF/nvHffRxaSRe5iePw499z/Pfeee89cYK2F\n",
       "a9nGWgwCtl39n3vBbKXxcy1K0uU9BW51L7SG0z/5gXBt/cTnjNwub0FYncq1IRcQr2tfF4PpGESm\n",
       "w5Qhu8StNoWf4LQvCNOkGfxJV1GqYL4RWmdyxg1UgQzxpeQdkdbJdWCYku8KeMV6ZY7oHydEbpyg\n",
       "IwK2dsKf6N1TKiJtYhLrIDfEOol1GiBXcANfAQnVbi47VsIgv6qYaxGy04yX2WvdOf1jVOTGAbJd\n",
       "EbC1UX+id08cReotMZGteJmdxDoNMK+6gVPAcwSL1yUVh1rMxshHk5TCxys2JAIrileyi/hbbmLk\n",
       "o0lKvvHa7QoGCjjYT/HZbw+zaQ0+eJbnEx1WGTGS3CDRPNehlJt12unk2BMCkrOPi+7A0mC6s4SK\n",
       "B0Cky2MxzVR56DTAdPMKnCBWwQXt+1l+oM2S4jC28o2RfsPI7Wm2Nc6A67jbSg4Rk/QkzhIwNYJF\n",
       "d2BpMN1ZQoUDAL+XqEl63wxz46FTB8pr5OpOIFcxqa3aAuIjdOYbi9jP45Uc4SQzSUmJ61B+wwDd\n",
       "Paca+JSegip+cQeWBsOdTahwAMCZaw9blHjoNA69LhIlJ8j+CC3ZU21EGnTmc8AnPDr7nUfRcZKh\n",
       "cp3rSLX5cTXHwQTwjzuwNNjcRRo+A5gRtcUrQTPUS6cO4lXkKk6QbvfjlRvBVH/zxWu1s8dqtf7u\n",
       "fQ1lkRJkln9tZAOwtWgnJ/W1najVPq7V+smae6edOGZgM7ILLsDSQN0tC/UaAI9BO0l1DCwQItRp\n",
       "gYhWtBWdQIvXz9rGb2AnyE6RliC3Fbpu2yCRG0Dpqcvxssj2mzf/nSXLtLHBll9a4vuhg3jXFdg0\n",
       "2NwZQkUDQK7gA9JpqvsuXhbx0jlqVluHVCfQ8lE7TaYKuCGTW0bpIFXdQQ/qinatEPKfdmPyO/QI\n",
       "G1aLJz1eNOVRAhaNg4IAlWgwp24JFQ5wB/iSaqgi8jfPUKFOA9T1Q5SCaBV7tYO8KG+O0VW6gC8q\n",
       "dBoflsvfU5v7yPIbk+tIVRCj1/1V4BsCLuMHOIDyimgw3NmEigaQPirvpdVppoj5kk+8LDcGKMRn\n",
       "4ARaPfFXv6p5euspFT3YfPEZrU6Hez1WzcvjEwUWr697B6iyg81H1CQ+1qRV3Ok/inAA5XjersG8\n",
       "Hy2hogEivV6PVfPbxs/zG0Cs07gwZw/ABSRbSOSD1ffhSPD63h1k8yus78N1Etf37kD7PxQteT+G\n",
       "rYy89DXxBlEfdwEGCNLJSbzBWPD3nPfboqvyvVCpLj9srcK2Ot98U/1TQlp7jw7angD/A4Nq751A\n",
       "spAxAAAAAElFTkSuQmCC\n",
       "\" style=\"display:inline;vertical-align:middle;\" /></a><br>"
      ],
      "text/plain": [
       "expr: (a + a + 2 + 3 + 4 + c + c + b + b , a + a + c + 2 + 3 + 4 + c + b + b)"
      ]
     },
     "execution_count": 2,
     "metadata": {},
     "output_type": "execute_result"
    }
   ],
   "source": [
    "# build up the expression from sub-expressions\n",
    "expr = ExprTuple(Add(a, a, two, three, four, c, c, b, b), Add(a, a, c, two, three, four, c, b, b))"
   ]
  },
  {
   "cell_type": "code",
   "execution_count": 3,
   "metadata": {},
   "outputs": [
    {
     "name": "stdout",
     "output_type": "stream",
     "text": [
      "Passed sanity check: built 'expr' is the same as the stored Expression.\n"
     ]
    }
   ],
   "source": [
    "# check that the built expression is the same as the stored expression\n",
    "%check_expr"
   ]
  },
  {
   "cell_type": "code",
   "execution_count": 4,
   "metadata": {},
   "outputs": [
    {
     "data": {
      "text/html": [
       "<table><tr><th>&nbsp;</th><th>core type</th><th>sub-expressions</th><th>expression</th></tr>\n",
       "<tr><td>0</td><td>ExprTuple</td><td>1, 2</td><td><a class=\"ProveItLink\" href=\"expr.ipynb\"><img src=\"data:image/png;base64,iVBORw0KGgoAAAANSUhEUgAAAl0AAAAVBAMAAACOOEYwAAAAMFBMVEX////c3NwiIiJERESqqqqY\n",
       "mJh2dnZmZmYQEBDu7u4yMjJUVFTMzMyIiIi6uroAAAAs73DqAAAAAXRSTlMAQObYZgAABDpJREFU\n",
       "WMPtmE1oVFcUx/9v8ubjzXcL4iKCAaF2U5KFXbYO3bjQ4HTTpQwKI9imHSoaSBfWWkoVGp8bEUQy\n",
       "+LFwsjALxS9CBgQVXHQ2WkXHDl2JKJnqxHZK4vRNfF/nvHffRxaSRe5iePw499z/Pfeee89cYK2F\n",
       "a9nGWgwCtl39n3vBbKXxcy1K0uU9BW51L7SG0z/5gXBt/cTnjNwub0FYncq1IRcQr2tfF4PpGESm\n",
       "w5Qhu8StNoWf4LQvCNOkGfxJV1GqYL4RWmdyxg1UgQzxpeQdkdbJdWCYku8KeMV6ZY7oHydEbpyg\n",
       "IwK2dsKf6N1TKiJtYhLrIDfEOol1GiBXcANfAQnVbi47VsIgv6qYaxGy04yX2WvdOf1jVOTGAbJd\n",
       "EbC1UX+id08cReotMZGteJmdxDoNMK+6gVPAcwSL1yUVh1rMxshHk5TCxys2JAIrileyi/hbbmLk\n",
       "o0lKvvHa7QoGCjjYT/HZbw+zaQ0+eJbnEx1WGTGS3CDRPNehlJt12unk2BMCkrOPi+7A0mC6s4SK\n",
       "B0Cky2MxzVR56DTAdPMKnCBWwQXt+1l+oM2S4jC28o2RfsPI7Wm2Nc6A67jbSg4Rk/QkzhIwNYJF\n",
       "d2BpMN1ZQoUDAL+XqEl63wxz46FTB8pr5OpOIFcxqa3aAuIjdOYbi9jP45Uc4SQzSUmJ61B+wwDd\n",
       "Paca+JSegip+cQeWBsOdTahwAMCZaw9blHjoNA69LhIlJ8j+CC3ZU21EGnTmc8AnPDr7nUfRcZKh\n",
       "cp3rSLX5cTXHwQTwjzuwNNjcRRo+A5gRtcUrQTPUS6cO4lXkKk6QbvfjlRvBVH/zxWu1s8dqtf7u\n",
       "fQ1lkRJkln9tZAOwtWgnJ/W1najVPq7V+smae6edOGZgM7ILLsDSQN0tC/UaAI9BO0l1DCwQItRp\n",
       "gYhWtBWdQIvXz9rGb2AnyE6RliC3Fbpu2yCRG0Dpqcvxssj2mzf/nSXLtLHBll9a4vuhg3jXFdg0\n",
       "2NwZQkUDQK7gA9JpqvsuXhbx0jlqVluHVCfQ8lE7TaYKuCGTW0bpIFXdQQ/qinatEPKfdmPyO/QI\n",
       "G1aLJz1eNOVRAhaNg4IAlWgwp24JFQ5wB/iSaqgi8jfPUKFOA9T1Q5SCaBV7tYO8KG+O0VW6gC8q\n",
       "dBoflsvfU5v7yPIbk+tIVRCj1/1V4BsCLuMHOIDyimgw3NmEigaQPirvpdVppoj5kk+8LDcGKMRn\n",
       "4ARaPfFXv6p5euspFT3YfPEZrU6Hez1WzcvjEwUWr697B6iyg81H1CQ+1qRV3Ok/inAA5XjersG8\n",
       "Hy2hogEivV6PVfPbxs/zG0Cs07gwZw/ABSRbSOSD1ffhSPD63h1k8yus78N1Etf37kD7PxQteT+G\n",
       "rYy89DXxBlEfdwEGCNLJSbzBWPD3nPfboqvyvVCpLj9srcK2Ot98U/1TQlp7jw7angD/A4Nq751A\n",
       "spAxAAAAAElFTkSuQmCC\n",
       "\" style=\"display:inline;vertical-align:middle;\" /></a></td></tr>\n",
       "<tr><td>1</td><td>Operation</td><td>operator:&nbsp;4<br>operands:&nbsp;3<br></td><td><a class=\"ProveItLink\" href=\"../2c5751317e60ea0d08862493643a86b29862bfc90/expr.ipynb\"><img src=\"data:image/png;base64,iVBORw0KGgoAAAANSUhEUgAAASQAAAAQBAMAAABNSx/QAAAAMFBMVEX///8yMjKqqqrMzMzu7u4i\n",
       "IiJmZmaYmJhEREQQEBC6urp2dnaIiIhUVFTc3NwAAAD87Fq/AAAAAXRSTlMAQObYZgAAAkhJREFU\n",
       "SMeVlL9rE2EYx7935s786N31CoJLIJNTpDeJImJ2bZOpKC7JYgcR7y+Q4OgmKBSU0lUo5DrUwSBk\n",
       "KIWWFKOLCClk0k1DehjtYMyP+/U8d2cu7xLy4ft+n+/7vs89QJL1rfackZvNZyHVLSy4Ul8rjKy9\n",
       "SrhV7eBjgZIqGi0uu7doJAgdTvL073r4GL3pj1KC1Cea3ABahe1a2orzWY/xhVZgAAMqLIYiibOb\n",
       "yLyEck40oh/J2/X9cpxPMcYXjRIDWTthJMGGfM417sN5xFo80j4Huek51e77bbrTJ6LXL5LN3fOs\n",
       "3sUej5Rqto1o4Prm219oIaF7YgJve+k+tfKJH+m2RTUX9joswF3wSDd2hEo0cHxTv6HRjOU6zqAO\n",
       "IdeJVYD4kcKPcrRDicU1qTdIm9HA8RVtZCxSaLWE11D6kGhXBIgXyc0YiJShTykaPJLSRxxwfOVl\n",
       "aFVSqAb8glZHeXJ5NV2/r+uTBnGJrOuXXuj69IFOZhs8jWogPSTkjnOTxCcS+L7SeLqZpNAGskP8\n",
       "bGEVpeBhAsQNL1bxgxy4bM8i+eTq6emfLpgPYoDjOx5LT2ihAWQb5QI+ieTDCBBXeQ14Sty1ZUh/\n",
       "+VNu0QTa+ALMaOBGMsadQwqdTZpLMMWNHLEKEEepPmi+o4NxyUTDmhNJqSJnRAPHVynIHRrpMx5P\n",
       "htDx9WP6xfnEUUqj0YjN6isPV3jDfxhtUvKofRAD3CHQ3WSjcu3QTDa9/6tJQIpzfcOFZms3RLKt\n",
       "+ZoEZHeubxD8A7KJv7OubK/CAAAAAElFTkSuQmCC\n",
       "\" style=\"display:inline;vertical-align:middle;\" /></a></td></tr>\n",
       "<tr><td>2</td><td>Operation</td><td>operator:&nbsp;4<br>operands:&nbsp;5<br></td><td><a class=\"ProveItLink\" href=\"../851546d27263cf742922f4bfd519f741c835ccb50/expr.ipynb\"><img src=\"data:image/png;base64,iVBORw0KGgoAAAANSUhEUgAAASQAAAAQBAMAAABNSx/QAAAAMFBMVEX///8yMjKqqqrMzMzu7u4i\n",
       "IiJmZmaYmJhEREQQEBC6urp2dnaIiIhUVFTc3NwAAAD87Fq/AAAAAXRSTlMAQObYZgAAAjxJREFU\n",
       "SMedlM1LG1EUxU8mcbSTL2chuAmdlSvFLFtKYfZ+xJXYVZJFVSjF+RPyH4gLwdbSZisIZiOIQZyF\n",
       "KEiEWAqlEOlAabsqppr6gUKcRF8y9z5C6rzd/LjnzHn33fcAXys2O5inJFjcMnjVyy4uoW9TjEws\n",
       "w+/6g8gZJb+g3fKqmW42gTInCfo5KW/D6QC+AGlKdg38Y6LISidjURI3+I/YRoelSIrdAbwz8T1P\n",
       "yGgrUkv0e7CTsSjZMBnQar4jPTWxkGcl4uBapNA10iYH4eZwxSrbH6myTURlqFhK8oxpkxExGIL0\n",
       "OjySZJMofaWaQOXIAtacvipVtomofJ4PTLEAwRvWkxcJtuNx8EjcJnSFOM2YyuEcsUuoOaL0ECH9\n",
       "gD6L9yTHzzbynpICjyTZKDU8KdCJNLGKaBU9NlF6yENltCoP17w8bp/IUSpJHkmyUfsRzxCXLHCB\n",
       "eA6pRvOyuv5K1xvNF0TV9YElXS83CQhwW1Jm5AewaHnJGO4jEWMq6slgg2gwDe0SpzZGYXo34yEP\n",
       "4U9tqUtDiDnkbOtmM1KbjJycXFfAjKmN+ywt0EtyBrWGlIFjJelVeoiQuv+isxTMuBeKkL/uHXTY\n",
       "Ua7Qg5Ns3NlepVs9bwxXwFKmw0TpIWKWMgjTm/GzWHxNzQ6g8TvII0k2UUNlD8dnvG08QofPDumN\n",
       "axNR+aa0R0G6XmdvtTKbNViknfocfQS4TagyxwZiYt/y+3o/jgz78L1f6xLR7G7gv8j6o3zvALv+\n",
       "2G1XjYz1AAAAAElFTkSuQmCC\n",
       "\" style=\"display:inline;vertical-align:middle;\" /></a></td></tr>\n",
       "<tr><td>3</td><td>ExprTuple</td><td>6, 6, 7, 8, 9, 10, 10, 11, 11</td><td><a class=\"ProveItLink\" href=\"../3713328102ecb78d67be84277603e35515f735d60/expr.ipynb\"><img src=\"data:image/png;base64,iVBORw0KGgoAAAANSUhEUgAAAK8AAAAVBAMAAADC7aNVAAAAMFBMVEX////c3NwiIiJERESqqqqY\n",
       "mJh2dnZmZmYQEBDu7u4yMjJUVFTMzMyIiIi6uroAAAAs73DqAAAAAXRSTlMAQObYZgAAAmFJREFU\n",
       "OMu1lTFoE1EYx/9J7pK8XK4XBCcHCw5Okgw6isGlgwVvcpTgEEFRDqXtWIsiLupN0kVy0HaQDnYR\n",
       "1BJ6IIjQpZMomBKdighJ21QMqPG9d/feu+NyTm2G3C/f++7/3vt/33sBjuwzsXX4mlfZ1+b4sczc\n",
       "Ujeg982zMrqZJkVeT0ag4FN6MT7zBMxBMIODntzUqdRFltai4AFmihNvgCqH/ABWuBqY91OFrXoU\n",
       "rgBFd3ziIxcb3AstInx8KVW450ZhEfiekvjSxXxX5IpdNdKFr8UgV8css7F9e0FY+3GnIlKqYhGr\n",
       "4VOvCGHS7PhxWO28goK8gxXKO5VcP+y9BVwQuuWf4fOGqMtzCOEP3dJkDMg+LF+B5uEJXfABCrXg\n",
       "hZM27so61wR9Cj1pCGHyGDk7BtoQxYaCiXv4Cxh9ZEMXN4AzQk7OgOKQPzRfCBvhBhUUPFiOgnKf\n",
       "CVs1tAKjsA/yW7RWaEDGR+6A0zMIYUtsRkKWdrutgAo/oPvfwmXwQmX+QOuTIHUKGV7G1lAIX1pf\n",
       "/9UOHBNtIoF277yrgFpxjr5ax1vNZ3pkAMOb5pOUHdoELGZ5yO4ibBB6QBhZdHE2iYGPh5AA3cN1\n",
       "WiVbO51Hi1V3BRedBtmjdKzZvMNjpo1eEOLCnAwHeZ8NKqgX1iCBtds31sbb77axuMvauPPjfJc8\n",
       "pR5UR6O9IDY1twweAm6OZgKa7XwOBgWQ9gwUoNRFUZ6Hr+omTcZUaMxgEuiR1hvihy2FdSRi+v8G\n",
       "k3Arem0eojDx+MUb9q26UORNaiZDYwaTYDC7Mkfw1/QF+AfXrsKaAEebmQAAAABJRU5ErkJggg==\n",
       "\" style=\"display:inline;vertical-align:middle;\" /></a></td></tr>\n",
       "<tr><td>4</td><td>Literal</td><td></td><td><a class=\"ProveItLink\" href=\"../3e6688136fa3c7aefbebe51301b7c3ebf0b69c440/expr.ipynb\"><img src=\"data:image/png;base64,iVBORw0KGgoAAAANSUhEUgAAAA4AAAAOBAMAAADtZjDiAAAAJFBMVEX///+6urpUVFQQEBAiIiIy\n",
       "MjJmZmaIiIiqqqrc3Nzu7u4AAACgHpL+AAAAAXRSTlMAQObYZgAAAB5JREFUCNdjYGBgWMkAAe2k\n",
       "0Kmhoc6hoUGk6BMHYgAHOwjcado9fwAAAABJRU5ErkJggg==\n",
       "\" style=\"display:inline;vertical-align:middle;\" /></a></td></tr>\n",
       "<tr><td>5</td><td>ExprTuple</td><td>6, 6, 10, 7, 8, 9, 10, 11, 11</td><td><a class=\"ProveItLink\" href=\"../ac75dcd042159212dfec8305293ff6598cf614980/expr.ipynb\"><img src=\"data:image/png;base64,iVBORw0KGgoAAAANSUhEUgAAAK8AAAAVBAMAAADC7aNVAAAAMFBMVEX////c3NwiIiJERESqqqqY\n",
       "mJh2dnZmZmYQEBDu7u4yMjJUVFTMzMyIiIi6uroAAAAs73DqAAAAAXRSTlMAQObYZgAAAnpJREFU\n",
       "OMu1lT9oE1Ecx79pLn9eLskFQRwUFBycJFkcpYeLg0JvcpSgEAeNHpa24FKLIi6mN5UskmDpIB3s\n",
       "Iv4ppQeCCC5ZFARTUqciQmP/oWKN7++980LN0t4QPnm/9773e9/f770DDuzJt/Zf8zL7eT9gUmxi\n",
       "tiMoW7lqq9HoKvLyRAhSPqWnA4SPIrcl6Ajyu2r0ZHRaZiEMTSA3yIlXQFHQLRsbcjB3LzrNssNw\n",
       "CUh7A4QfelgWXoxo4cOz0WnrXhjqwNdBhXjmYbKjCq2sKPcJX/kH4jbGWX2Wbk4pRz+uFQTNVD+r\n",
       "uUUvYmSioIRJpe1zmG8/h4akiznKa4V4V6Y0hWHZAjU8kYuzOxLezkt4DCX8rpPh7UA2YfkajCZq\n",
       "NOFtpEpi3nEHo4LqLZxReZZU6rmadEIJk0eIOwyMn0iXNeTv4g9gdjEke2MZOB2QekY1TnNTDF8J\n",
       "m3KnSDVhuRqyXSZsldAQRmET5LeiIE3VoceAYZ7eDJSwpTYz5GLd0UCF79P9tzACnkpsF0aXSFLP\n",
       "ecR4PUnPk8IXFhd/LAnrWrp7Jz0N1ApqZMPGa8NnemQLZvMif8k2rT2HrEubgL/sF+0PQQA9ICxo\n",
       "0Rc5bIgW7AECQKKJa7Q4jnEqiQar7hzOuWXCjsEL4AaHQ5XKbRH8gPyOICbMg6aLpM+GTDu1gABY\n",
       "u31hbbzyZgX176yN29/Odsg03Xqq2vY4FHu9DRE0Ju7YgnC9N8aDGG9/4kNkaQwakOkgXVBeruqb\n",
       "tBCFUHAVewcDoEc6UVZ/nGBtog9CQec/wQCq4WtzH4VJk9+3sl31MWj1gQ7msHcwAJO5FDuATxO9\n",
       "vv4C2IG/NPp1Q+0AAAAASUVORK5CYII=\n",
       "\" style=\"display:inline;vertical-align:middle;\" /></a></td></tr>\n",
       "<tr><td>6</td><td>Variable</td><td></td><td><a class=\"ProveItLink\" href=\"../../../../__pv_it/07527342713064c87612d00d8557c53d53d5324a0/expr.ipynb\"><img src=\"data:image/png;base64,iVBORw0KGgoAAAANSUhEUgAAAAsAAAAJBAMAAAAWSsseAAAAMFBMVEX///8yMjKqqqrMzMzu7u4i\n",
       "IiJmZmaYmJhEREQQEBC6urp2dnaIiIhUVFTc3NwAAAD87Fq/AAAAAXRSTlMAQObYZgAAAEhJREFU\n",
       "CNdjYOC7s2seAwPDygccHxgY+L4zsDUwMPB+YGA9wMDA38Dgb8DA8P4Agz6DA4O/AsNFJgMGxgKm\n",
       "MG6gyjunLE4xAAAZTBA5TB6DCwAAAABJRU5ErkJggg==\n",
       "\" style=\"display:inline;vertical-align:middle;\" /></a></td></tr>\n",
       "<tr><td>7</td><td>Literal</td><td></td><td><a class=\"ProveItLink\" href=\"../../../numeral/__pv_it/77d407a64829263cdc16415becd4c2293f77a4bf0/expr.ipynb\"><img src=\"data:image/png;base64,iVBORw0KGgoAAAANSUhEUgAAAAkAAAAOBAMAAAAPuiubAAAAMFBMVEX///+YmJh2dnbMzMwQEBAi\n",
       "IiLu7u6qqqqIiIhUVFS6urpEREQyMjJmZmbc3NwAAACOMKdoAAAAAXRSTlMAQObYZgAAAFBJREFU\n",
       "CNdj4Lt7egEDw0sGju8MDNMYGOIZGFwSGOYvYDifwHAfKAEUSQASzJ9ATJ4NIPI2iOCYACJrGfge\n",
       "MDBfYGB8wPBUSekqUPH//18ZAIliFhc3zESNAAAAAElFTkSuQmCC\n",
       "\" style=\"display:inline;vertical-align:middle;\" /></a></td></tr>\n",
       "<tr><td>8</td><td>Literal</td><td></td><td><a class=\"ProveItLink\" href=\"../../../numeral/__pv_it/9176d93c83afa2c995b614976e3cb49207102fa70/expr.ipynb\"><img src=\"data:image/png;base64,iVBORw0KGgoAAAANSUhEUgAAAAoAAAAOBAMAAADkjZCYAAAAMFBMVEX///+YmJju7u4QEBBUVFQy\n",
       "MjIiIiKIiIi6urpmZmbc3NyqqqpERER2dnbMzMwAAAB0GlNiAAAAAXRSTlMAQObYZgAAAE1JREFU\n",
       "CNdjYHh79zQDA9cEhv4CBt7fDPwJDNxgEgiAIkAQAsR8Vx1ATIbiBhDJ/ImB6wEDz0cG/U8gkj+A\n",
       "ge0XA7sAQ/8FBoadM6MZAEflFACalZ/OAAAAAElFTkSuQmCC\n",
       "\" style=\"display:inline;vertical-align:middle;\" /></a></td></tr>\n",
       "<tr><td>9</td><td>Literal</td><td></td><td><a class=\"ProveItLink\" href=\"../../../numeral/__pv_it/23412ce59ea7e77353d2f9225e02248e73651ca00/expr.ipynb\"><img src=\"data:image/png;base64,iVBORw0KGgoAAAANSUhEUgAAAAoAAAAPBAMAAAAv0UM9AAAALVBMVEX///9mZmaqqqru7u52dnYy\n",
       "MjKYmJjc3NwQEBCIiIhEREQiIiJUVFTMzMwAAACUDTcXAAAAAXRSTlMAQObYZgAAAD5JREFUCNdj\n",
       "YGBguMMAArtABGcXiCyLApEOIJKtAERaMoBIBxDJdAFEmjCASJ0zZ16cBCkF64KQPu/EwBwGACv6\n",
       "DSRgin9qAAAAAElFTkSuQmCC\n",
       "\" style=\"display:inline;vertical-align:middle;\" /></a></td></tr>\n",
       "<tr><td>10</td><td>Variable</td><td></td><td><a class=\"ProveItLink\" href=\"../../../../__pv_it/cbdfda466482236edba0ce44ac7ef39cda0af7a40/expr.ipynb\"><img src=\"data:image/png;base64,iVBORw0KGgoAAAANSUhEUgAAAAkAAAAJBAMAAAASvxsjAAAALVBMVEX///9mZmbc3NxUVFSYmJhE\n",
       "REQiIiIyMjK6uroQEBDMzMyIiIh2dnbu7u4AAABgFDGoAAAAAXRSTlMAQObYZgAAADZJREFUCNdj\n",
       "YOA9s3sBA8PKBvYEBt7ZDKwODMwPGICALwBE6m0Asx0YGIDiAgw8QJUyu/cyAAAmuwmycZ8WfQAA\n",
       "AABJRU5ErkJggg==\n",
       "\" style=\"display:inline;vertical-align:middle;\" /></a></td></tr>\n",
       "<tr><td>11</td><td>Variable</td><td></td><td><a class=\"ProveItLink\" href=\"../../../../__pv_it/6840a4fa6c106149dc16a131294d0c5e44f1b0480/expr.ipynb\"><img src=\"data:image/png;base64,iVBORw0KGgoAAAANSUhEUgAAAAkAAAAOBAMAAAAPuiubAAAALVBMVEX///9mZmbMzMxERESYmJiI\n",
       "iIh2dna6urqqqqoyMjIiIiIQEBBUVFTu7u4AAAD9S1JeAAAAAXRSTlMAQObYZgAAAE1JREFUCNdj\n",
       "4D29gAEIOA+ASL4GEFl3AURmgQiGOaFHGBh4HzPwKTBwvGXgTmBgnMDAJ8DAJcBQ5wBSLncBJLWN\n",
       "gYGngRFoBO9REQYGAGrcDtUkVqASAAAAAElFTkSuQmCC\n",
       "\" style=\"display:inline;vertical-align:middle;\" /></a></td></tr>\n",
       "</table>\n"
      ],
      "text/plain": [
       "0. (a + a + 2 + 3 + 4 + c + c + b + b , a + a + c + 2 + 3 + 4 + c + b + b)\n",
       "   core type: ExprTuple\n",
       "   sub-expressions: 1, 2\n",
       "1. a + a + 2 + 3 + 4 + c + c + b + b\n",
       "   core type: Operation\n",
       "   operator: 4\n",
       "   operands: 3\n",
       "2. a + a + c + 2 + 3 + 4 + c + b + b\n",
       "   core type: Operation\n",
       "   operator: 4\n",
       "   operands: 5\n",
       "3. (a , a , 2 , 3 , 4 , c , c , b , b)\n",
       "   core type: ExprTuple\n",
       "   sub-expressions: 6, 6, 7, 8, 9, 10, 10, 11, 11\n",
       "4. +\n",
       "   core type: Literal\n",
       "   sub-expressions: \n",
       "5. (a , a , c , 2 , 3 , 4 , c , b , b)\n",
       "   core type: ExprTuple\n",
       "   sub-expressions: 6, 6, 10, 7, 8, 9, 10, 11, 11\n",
       "6. a\n",
       "   core type: Variable\n",
       "   sub-expressions: \n",
       "7. 2\n",
       "   core type: Literal\n",
       "   sub-expressions: \n",
       "8. 3\n",
       "   core type: Literal\n",
       "   sub-expressions: \n",
       "9. 4\n",
       "   core type: Literal\n",
       "   sub-expressions: \n",
       "10. c\n",
       "    core type: Variable\n",
       "    sub-expressions: \n",
       "11. b\n",
       "    core type: Variable\n",
       "    sub-expressions: "
      ]
     },
     "execution_count": 4,
     "metadata": {},
     "output_type": "execute_result"
    }
   ],
   "source": [
    "# display the expression information\n",
    "expr.exprInfo()"
   ]
  },
  {
   "cell_type": "code",
   "execution_count": null,
   "metadata": {},
   "outputs": [],
   "source": []
  }
 ],
 "metadata": {
  "kernelspec": {
   "display_name": "Python 3",
   "language": "python",
   "name": "python3"
  }
 },
 "nbformat": 4,
 "nbformat_minor": 0
}
