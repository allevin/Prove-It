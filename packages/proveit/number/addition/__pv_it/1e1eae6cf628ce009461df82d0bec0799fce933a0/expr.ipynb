{
 "cells": [
  {
   "cell_type": "markdown",
   "metadata": {},
   "source": [
    "Expression of type <a class=\"ProveItLink\" href=\"../../../../../../doc/html/api/proveit.ExprTuple.html\">ExprTuple</a>\n",
    "=======================\n",
    "# from context <a class=\"ProveItLink\" href=\"../../_context_.ipynb\">proveit.number.addition</a>"
   ]
  },
  {
   "cell_type": "code",
   "execution_count": 1,
   "metadata": {},
   "outputs": [],
   "source": [
    "# import Expression classes needed to build the expression\n",
    "from proveit import ExprTuple\n",
    "from proveit._common_ import c\n",
    "from proveit.number import Add, Complexes, Exp, one"
   ]
  },
  {
   "cell_type": "code",
   "execution_count": 2,
   "metadata": {},
   "outputs": [
    {
     "data": {
      "text/html": [
       "<strong id=\"expr\">expr:</strong> <a class=\"ProveItLink\" href=\"expr.ipynb\"><img src=\"data:image/png;base64,iVBORw0KGgoAAAANSUhEUgAAAJAAAAAcBAMAAAB8GisoAAAAMFBMVEX///+qqqp2dnYiIiJERESI\n",
       "iIhmZmYQEBDc3NyYmJgyMjLu7u5UVFTMzMy6uroAAACGxKilAAAAAXRSTlMAQObYZgAAAgxJREFU\n",
       "OMtjYKAU8DowUAXw5hjAmO8oM4kRaJAC2MgDlBt0B8TYtYFyg1gDgIyTQMwXQKQuzgdYDWKwYGDg\n",
       "KGCAOo0okIvEDl713SQBYlAMAwNbApBeTbRBXAjmvX8Mm74egBi0fwMD+wOoF2GAuwFNL4oApwKc\n",
       "xTOBgUEeahDzBIb7QIodObwZ0cMLRYC7AMaazQ4k2KAGsTkwhAOpVwxEG8TgCGMk9IDMDeDQ+gaU\n",
       "5/zAcArITQIJKYVeQNW3STUWi4AazGkJj5CM5/vN4AOkVgLx9QdcBij6eOsYFmMRkIJlDQVJ5Izy\n",
       "l2EZkKoDWlDKwDIBRd/2AAZPLALP4Qa9RDKI4x+DGZD6x8DA8wE9SM5jF7gP85rDJeQ4+AgziB9S\n",
       "GLCtWrW4atUqUPb7gl0AZhDDah5UF60BUoUMDP0BaA7g+IpdAOY1hklgg6AJh+MvwxEgBfQ6PzCA\n",
       "UMPoJzBSsQjMgmlnmQcU57OGxtoPhmAGcJTyJDAwoUb/MQYGXSwCoOjn/gzin3HdsM8F6iJgOnoP\n",
       "pB6D0lJoNGrYsqmGbsAisA5kUD0o1/Am/6+BFQZMCxj4ge5gbyAxi/Ch50euAAYeBeSciK1sQhFg\n",
       "AnM40QuF/Q0MvAYkFSO7GLAaNAWaC3uINugEmMQoUG2BuAuUDIgtalkvYC+BQaUjowLllVsLmJxI\n",
       "uUHZDNQDAAfQhSODtJS8AAAAAElFTkSuQmCC\n",
       "\" style=\"display:inline;vertical-align:middle;\" /></a><br>"
      ],
      "text/plain": [
       "expr: ((c + c + c) , Complexes^{1})"
      ]
     },
     "execution_count": 2,
     "metadata": {},
     "output_type": "execute_result"
    }
   ],
   "source": [
    "# build up the expression from sub-expressions\n",
    "expr = ExprTuple([Add(c, c, c)], Exp(Complexes, one))"
   ]
  },
  {
   "cell_type": "code",
   "execution_count": 3,
   "metadata": {},
   "outputs": [
    {
     "name": "stdout",
     "output_type": "stream",
     "text": [
      "Passed sanity check: built 'expr' is the same as the stored Expression.\n"
     ]
    }
   ],
   "source": [
    "# check that the built expression is the same as the stored expression\n",
    "%check_expr"
   ]
  },
  {
   "cell_type": "code",
   "execution_count": 4,
   "metadata": {},
   "outputs": [
    {
     "data": {
      "text/html": [
       "<table><tr><th>&nbsp;</th><th>core type</th><th>sub-expressions</th><th>expression</th></tr>\n",
       "<tr><td>0</td><td>ExprTuple</td><td>1, 2</td><td><a class=\"ProveItLink\" href=\"expr.ipynb\"><img src=\"data:image/png;base64,iVBORw0KGgoAAAANSUhEUgAAAJAAAAAcBAMAAAB8GisoAAAAMFBMVEX///+qqqp2dnYiIiJERESI\n",
       "iIhmZmYQEBDc3NyYmJgyMjLu7u5UVFTMzMy6uroAAACGxKilAAAAAXRSTlMAQObYZgAAAgxJREFU\n",
       "OMtjYKAU8DowUAXw5hjAmO8oM4kRaJAC2MgDlBt0B8TYtYFyg1gDgIyTQMwXQKQuzgdYDWKwYGDg\n",
       "KGCAOo0okIvEDl713SQBYlAMAwNbApBeTbRBXAjmvX8Mm74egBi0fwMD+wOoF2GAuwFNL4oApwKc\n",
       "xTOBgUEeahDzBIb7QIodObwZ0cMLRYC7AMaazQ4k2KAGsTkwhAOpVwxEG8TgCGMk9IDMDeDQ+gaU\n",
       "5/zAcArITQIJKYVeQNW3STUWi4AazGkJj5CM5/vN4AOkVgLx9QdcBij6eOsYFmMRkIJlDQVJ5Izy\n",
       "l2EZkKoDWlDKwDIBRd/2AAZPLALP4Qa9RDKI4x+DGZD6x8DA8wE9SM5jF7gP85rDJeQ4+AgziB9S\n",
       "GLCtWrW4atUqUPb7gl0AZhDDah5UF60BUoUMDP0BaA7g+IpdAOY1hklgg6AJh+MvwxEgBfQ6PzCA\n",
       "UMPoJzBSsQjMgmlnmQcU57OGxtoPhmAGcJTyJDAwoUb/MQYGXSwCoOjn/gzin3HdsM8F6iJgOnoP\n",
       "pB6D0lJoNGrYsqmGbsAisA5kUD0o1/Am/6+BFQZMCxj4ge5gbyAxi/Ch50euAAYeBeSciK1sQhFg\n",
       "AnM40QuF/Q0MvAYkFSO7GLAaNAWaC3uINugEmMQoUG2BuAuUDIgtalkvYC+BQaUjowLllVsLmJxI\n",
       "uUHZDNQDAAfQhSODtJS8AAAAAElFTkSuQmCC\n",
       "\" style=\"display:inline;vertical-align:middle;\" /></a></td></tr>\n",
       "<tr><td>1</td><td>ExprTuple</td><td>3</td><td><a class=\"ProveItLink\" href=\"../71ffe8e8e17f9ae9ed110469fd72eee753e2c6990/expr.ipynb\"><img src=\"data:image/png;base64,iVBORw0KGgoAAAANSUhEUgAAAFoAAAAVBAMAAAA0iOSIAAAAMFBMVEX////c3NwiIiJERESqqqqY\n",
       "mJh2dnZmZmYQEBDu7u4yMjJUVFTMzMyIiIi6uroAAAAs73DqAAAAAXRSTlMAQObYZgAAARpJREFU\n",
       "KM9jYCAN8F0gUiHrAyBxmmhza4B4JdGquRgYeJEdMhFdAacAslMSGDgmIPF90VWzIJvF2cDwioFo\n",
       "1QwmDGUgTWl3D6CohgvAVU/LvcPAkM6wFMg88YBLAUU1XACmmqePYREDgxdDH9CkXgbmAGTVCAGY\n",
       "6hkXGEwZGF4w/GNg4P6A5m6EAEz1fjB5HqSa3wDMrlq1SmPVqtUMcAH2VasWda1atQHI/AxV3cLA\n",
       "IH8BzWyEANRsxr9g6gXIOfxAN6K4GyEAc8lXYNwwMEQBQ4WBu4CBDSUEEQIw1dsZGHJAIfgIyC67\n",
       "exM1duACMNXsuXeBcb6OgUOAlJgHJhUEeIs38bNdICXFzgJiaaJVbwSFJbE5jfcAAwCY1FDbbX3l\n",
       "VQAAAABJRU5ErkJggg==\n",
       "\" style=\"display:inline;vertical-align:middle;\" /></a></td></tr>\n",
       "<tr><td>2</td><td>Operation</td><td>operator:&nbsp;4<br>operands:&nbsp;5<br></td><td><a class=\"ProveItLink\" href=\"../258bfe2c95b21fe7e6c974300f5eeb5e80b551a00/expr.ipynb\"><img src=\"data:image/png;base64,iVBORw0KGgoAAAANSUhEUgAAABYAAAAUBAMAAAB7UtADAAAAMFBMVEX////c3NyqqqqYmJhUVFR2\n",
       "dnbu7u66urrMzMxmZmZEREQQEBAyMjIiIiKIiIgAAAB7fvZ0AAAAAXRSTlMAQObYZgAAAHJJREFU\n",
       "CNdjYICBLjiLodMXwWbQJZbNd+f83pUQNkd9AVv8EwjbwJmBgekLmM2csAEoMAXM5mR0ALLzGETP\n",
       "z2PIZA+AG9XKZIBgsyPYWRwINTwJDnA2cwCIzQbhLK4DErUJYDaL1zO2qmUwH93/7Q5mAAC91Biu\n",
       "spEWKgAAAABJRU5ErkJggg==\n",
       "\" style=\"display:inline;vertical-align:middle;\" /></a></td></tr>\n",
       "<tr><td>3</td><td>Operation</td><td>operator:&nbsp;6<br>operands:&nbsp;7<br></td><td><a class=\"ProveItLink\" href=\"../794b7170b8a2a7f3a9488eaf29c486ed5d13a4530/expr.ipynb\"><img src=\"data:image/png;base64,iVBORw0KGgoAAAANSUhEUgAAAE4AAAAOBAMAAABz3DdCAAAAMFBMVEX///+qqqpmZmbc3NxUVFSY\n",
       "mJhEREQiIiIyMjK6uroQEBDMzMyIiIh2dnbu7u4AAAA4MM1YAAAAAXRSTlMAQObYZgAAALFJREFU\n",
       "KM9jYICDxwxogM+AARuQQRdgPECOOr67ZzagqIMLwNW9vXOagWHXBI4CFHVwAZg67pUM7Qx8axjY\n",
       "ApDVIQRg6l4dYEhlYPmA5j6EAEydP4jgTwCzNTo6qjo6WhACTB0d7Ss6OhyAzG8gvv0BNPMQAlDz\n",
       "mP+AzQO6BcV9CAGYvV8ZGFgZWBQYeFHCBSEAU+fEwHCbgUH3zDnUcIYLwNQx3TnzgIx4m4MuwImk\n",
       "DgDaMTWEahh+dwAAAABJRU5ErkJggg==\n",
       "\" style=\"display:inline;vertical-align:middle;\" /></a></td></tr>\n",
       "<tr><td>4</td><td>Literal</td><td></td><td><a class=\"ProveItLink\" href=\"../../../exponentiation/__pv_it/deb2bf23cbccdd6e6791e1b35b5b9794ce12dbd50/expr.ipynb\"><img src=\"data:image/png;base64,iVBORw0KGgoAAAANSUhEUgAAACgAAAASBAMAAADbMYGVAAAAMFBMVEX///8QEBAiIiKYmJjc3Nzu\n",
       "7u7MzMx2dnZmZma6urpERESqqqoyMjJUVFSIiIgAAAAoDOMTAAAAAXRSTlMAQObYZgAAAOBJREFU\n",
       "GNNjYGB4+//u3Tt/GNAASGAXmhjnPyDBgSbI/g1IxKEJ8nxgYGdgQRPkX8BgDKRY6q7s62OYvmze\n",
       "2wAgb/7ZO1+AVDiDkYEQQ0HTBr4DQF59AgOIKmB4z7CNbcNZBu6vQN55kEACQwDDLQYGVobfDHwg\n",
       "fb8YGBxYHwAZciD3fWXg+gB1JjvQcJZvQIXsCgz8F6DO9GBgMOH7wPCUgaeBwd4B7EwGNjUG7s9c\n",
       "AiwPgO5jkWRgiF3/9+5dfQUG1nWl5Y+B7pv+1gE9bBhqGLCAE1jEWH9jEbT5A3IwAC4sP/1L6Qlu\n",
       "AAAAAElFTkSuQmCC\n",
       "\" style=\"display:inline;vertical-align:middle;\" /></a></td></tr>\n",
       "<tr><td>5</td><td>ExprTuple</td><td>8, 9</td><td><a class=\"ProveItLink\" href=\"../dc6a806b281884ba9cc862b3f30fd524bc9587a80/expr.ipynb\"><img src=\"data:image/png;base64,iVBORw0KGgoAAAANSUhEUgAAAC8AAAAVBAMAAAAk6KpUAAAAMFBMVEX////c3NwiIiJERESqqqqY\n",
       "mJh2dnZmZmYQEBDu7u4yMjJUVFTMzMyIiIi6uroAAAAs73DqAAAAAXRSTlMAQObYZgAAAPlJREFU\n",
       "KM9jYMAJ+C5gisWBiNNAzKu1vskcJmrJwMB+AEivZGDgef+AM/82VHzyTyCxAKgYaFLAVgYGlt8Q\n",
       "8dm7QRJhDAwcExhYJzQA2dVQHbwgiRkMDK+AJjJuALLnIkswOzCUMTBM50tAchFYgq2AYSkDwzGW\n",
       "AHQJlgUMfUAJPgwJvgaGf0AH8mAYxfMBJME1YQMWiRYGBtYEkAQnmlGmQMr0LZB4NIETIcG6gCEd\n",
       "SHFvvsn52JJhvgKycx+BOMf1f+wDevcjkMle8asUaO0DBg4BhL0P4awZIJsREgjv5EKCHUOCExjs\n",
       "DNIIH8BZ3CDzGbFE7R0GBgCcoESyRy4QrgAAAABJRU5ErkJggg==\n",
       "\" style=\"display:inline;vertical-align:middle;\" /></a></td></tr>\n",
       "<tr><td>6</td><td>Literal</td><td></td><td><a class=\"ProveItLink\" href=\"../3e6688136fa3c7aefbebe51301b7c3ebf0b69c440/expr.ipynb\"><img src=\"data:image/png;base64,iVBORw0KGgoAAAANSUhEUgAAAA4AAAAOBAMAAADtZjDiAAAAJFBMVEX///+6urpUVFQQEBAiIiIy\n",
       "MjJmZmaIiIiqqqrc3Nzu7u4AAACgHpL+AAAAAXRSTlMAQObYZgAAAB5JREFUCNdjYGBgWMkAAe2k\n",
       "0Kmhoc6hoUGk6BMHYgAHOwjcado9fwAAAABJRU5ErkJggg==\n",
       "\" style=\"display:inline;vertical-align:middle;\" /></a></td></tr>\n",
       "<tr><td>7</td><td>ExprTuple</td><td>10, 10, 10</td><td><a class=\"ProveItLink\" href=\"../86a607d788a57bb994e75964e5003873eaa726b10/expr.ipynb\"><img src=\"data:image/png;base64,iVBORw0KGgoAAAANSUhEUgAAADkAAAAVBAMAAAAOWFv7AAAAMFBMVEX////c3NwiIiJERESqqqqY\n",
       "mJh2dnZmZmYQEBDu7u4yMjJUVFTMzMyIiIi6uroAAAAs73DqAAAAAXRSTlMAQObYZgAAANZJREFU\n",
       "KM9jYMAP+C7gkIgDEadxaWM/ACRW4jR1AQMD7wWcsmEMDBwTcMrOYGB4hdu9zA4MZUCKM+3uATAf\n",
       "lcFWwLAUyD7xgEsBLIjKYFnA0AdU2MvAHADWgcrga2D4x8DA/QFqERqD5wNIlt8AKojGAMq2MDDI\n",
       "w7yMxgCabApUCbQrgJMBncHAuoAhHWhLAQPbgfkK6AyQjx4BlZbdvckw4yM6g4HrAQOHANSuhwzo\n",
       "DGBIsiZA2QEM6IxcpBjEkOUExiCDNITNC5OEM7hBdjLiiuA7DAwAx3NBG0TfR+4AAAAASUVORK5C\n",
       "YII=\n",
       "\" style=\"display:inline;vertical-align:middle;\" /></a></td></tr>\n",
       "<tr><td>8</td><td>Literal</td><td></td><td><a class=\"ProveItLink\" href=\"../../../sets/complex/__pv_it/c357845f93a5a2d9f649129d299e7ec28dda4b960/expr.ipynb\"><img src=\"data:image/png;base64,iVBORw0KGgoAAAANSUhEUgAAAA8AAAAOBAMAAAACpFvcAAAAMFBMVEX////c3NyqqqqYmJhUVFR2\n",
       "dnbu7u66urrMzMxmZmZEREQQEBAyMjIiIiKIiIgAAAB7fvZ0AAAAAXRSTlMAQObYZgAAAGVJREFU\n",
       "CNdjYGDgu3N+70oGBgaO+gK2+CdAhoEzAwPTFwYG5oQNQN4UBgZORgcgI4+BIZM9gAEMWpkMoAx2\n",
       "KCOLAyrFk+AAYTAHgBhsQLy4DkjUJjAwsHg9Y6taBpLsvP/bnYEBACkBFGQfBv8RAAAAAElFTkSu\n",
       "QmCC\n",
       "\" style=\"display:inline;vertical-align:middle;\" /></a></td></tr>\n",
       "<tr><td>9</td><td>Literal</td><td></td><td><a class=\"ProveItLink\" href=\"../../../numeral/__pv_it/9be8badea4c35b9724062cecc501d17a3158d1d20/expr.ipynb\"><img src=\"data:image/png;base64,iVBORw0KGgoAAAANSUhEUgAAAAgAAAAPBAMAAAArJJMAAAAAHlBMVEX///+YmJgyMjIQEBBmZmaI\n",
       "iIhUVFTu7u5EREQAAAAw+MI4AAAAAXRSTlMAQObYZgAAACFJREFUCNdjYGBoZ2BgqJjOwFCWBiQY\n",
       "WEklWJwnOTKAAACjEQo8HvEr3AAAAABJRU5ErkJggg==\n",
       "\" style=\"display:inline;vertical-align:middle;\" /></a></td></tr>\n",
       "<tr><td>10</td><td>Variable</td><td></td><td><a class=\"ProveItLink\" href=\"../../../../__pv_it/cbdfda466482236edba0ce44ac7ef39cda0af7a40/expr.ipynb\"><img src=\"data:image/png;base64,iVBORw0KGgoAAAANSUhEUgAAAAkAAAAJBAMAAAASvxsjAAAALVBMVEX///9mZmbc3NxUVFSYmJhE\n",
       "REQiIiIyMjK6uroQEBDMzMyIiIh2dnbu7u4AAABgFDGoAAAAAXRSTlMAQObYZgAAADZJREFUCNdj\n",
       "YOA9s3sBA8PKBvYEBt7ZDKwODMwPGICALwBE6m0Asx0YGIDiAgw8QJUyu/cyAAAmuwmycZ8WfQAA\n",
       "AABJRU5ErkJggg==\n",
       "\" style=\"display:inline;vertical-align:middle;\" /></a></td></tr>\n",
       "</table>\n"
      ],
      "text/plain": [
       "0. ((c + c + c) , Complexes^{1})\n",
       "   core type: ExprTuple\n",
       "   sub-expressions: 1, 2\n",
       "1. (c + c + c)\n",
       "   core type: ExprTuple\n",
       "   sub-expressions: 3\n",
       "2. Complexes^{1}\n",
       "   core type: Operation\n",
       "   operator: 4\n",
       "   operands: 5\n",
       "3. c + c + c\n",
       "   core type: Operation\n",
       "   operator: 6\n",
       "   operands: 7\n",
       "4. Exp\n",
       "   core type: Literal\n",
       "   sub-expressions: \n",
       "5. (Complexes , 1)\n",
       "   core type: ExprTuple\n",
       "   sub-expressions: 8, 9\n",
       "6. +\n",
       "   core type: Literal\n",
       "   sub-expressions: \n",
       "7. (c , c , c)\n",
       "   core type: ExprTuple\n",
       "   sub-expressions: 10, 10, 10\n",
       "8. Complexes\n",
       "   core type: Literal\n",
       "   sub-expressions: \n",
       "9. 1\n",
       "   core type: Literal\n",
       "   sub-expressions: \n",
       "10. c\n",
       "    core type: Variable\n",
       "    sub-expressions: "
      ]
     },
     "execution_count": 4,
     "metadata": {},
     "output_type": "execute_result"
    }
   ],
   "source": [
    "# display the expression information\n",
    "expr.exprInfo()"
   ]
  },
  {
   "cell_type": "code",
   "execution_count": null,
   "metadata": {},
   "outputs": [],
   "source": []
  }
 ],
 "metadata": {
  "kernelspec": {
   "display_name": "Python 3",
   "language": "python",
   "name": "python3"
  }
 },
 "nbformat": 4,
 "nbformat_minor": 0
}
