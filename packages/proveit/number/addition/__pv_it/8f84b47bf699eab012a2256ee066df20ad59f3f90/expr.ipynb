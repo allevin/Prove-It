{
 "cells": [
  {
   "cell_type": "markdown",
   "metadata": {},
   "source": [
    "Expression of type <a class=\"ProveItLink\" href=\"../../../../../../doc/html/api/proveit.ExprTuple.html\">ExprTuple</a>\n",
    "=======================\n",
    "# from context <a class=\"ProveItLink\" href=\"../../_context_.ipynb\">proveit.number.addition</a>"
   ]
  },
  {
   "cell_type": "code",
   "execution_count": 1,
   "metadata": {},
   "outputs": [],
   "source": [
    "# import Expression classes needed to build the expression\n",
    "from proveit import ExprTuple\n",
    "from proveit._common_ import a, b, c\n",
    "from proveit.number import Add"
   ]
  },
  {
   "cell_type": "code",
   "execution_count": 2,
   "metadata": {},
   "outputs": [
    {
     "data": {
      "text/html": [
       "<strong id=\"expr\">expr:</strong> <a class=\"ProveItLink\" href=\"expr.ipynb\"><img src=\"data:image/png;base64,iVBORw0KGgoAAAANSUhEUgAAAc8AAAAVBAMAAADShHjlAAAAMFBMVEX////c3NwiIiJERESqqqqY\n",
       "mJh2dnZmZmYQEBDu7u4yMjJUVFTMzMyIiIi6uroAAAAs73DqAAAAAXRSTlMAQObYZgAAArhJREFU\n",
       "WMPlmD9oE1Ecx79pLrlc0uayd2i2ughZHMXgrPQmRwkddDESEDvooBVxECznIoUOOQodvCwdFEUI\n",
       "DbgILpkU0ZToVERppCkSqOK7tK/c771cLu8MGdoMl+PD+93n/fu99+6AU/PLNk9+G696l/dRo9ce\n",
       "hJUwXufHW2FJOaJBb7DL88jaWmiJ9OaYh6YW0eAAM2TmGjlpVIJJl5OnYhEOzGJQCTXlcXx3dAMB\n",
       "V4CU7QealLDBJNvj5LJYhINdO6iEmpLHy8pgAwGrwHdEbWgyH9rQRYy3obJyESM1NF7EEvuL1W8u\n",
       "C47ZDzu5EJKuf7boM5+Vv1BQa72kwLjWavRv1JQ8XlYGGwhIVrDB7ndy8Y4wLZdxIYxUCzggkukV\n",
       "rBNg7MGk1nft9OGgqCl5vKQcYiBAc7DCencfeoE65izcCiMLNh4R62oT5wjQekiVSL2eIN4fEkUl\n",
       "j5eUwQYKsvfxF8h0MNWkji3gbBi5A/wm1i0xP3QHZsUPMkejqKrk8ZIy2EDBdMdrqFlA1Rt/3XXX\n",
       "H7uutzPtwTgII/PI7nty1z3jurV+kcPaHIOpCnYtPzALfFdQUPriJWWQQQSsoQ/ZFGliAba/M2N/\n",
       "oHWM4YTtaXrP33msiNCbbJO7Z/vBHF9mFJU8XlQOMVDApi7LqmoRb7SG32F0kXEuDSdsWThKD/5M\n",
       "1tkJWo2GkFIm633Lq7uiksdLysEGGSQcXGeLtqXNJ2l6bOBipRRCXuAu7bxXwA2aH0V9k4IKko1q\n",
       "XlnJ4yXlYIMM2PbyzdvTtt9uU+ts68f5dghZ+2gJa0+5ZdPFv35b2L2XWp+w+ktZyeMl5WCDDNJt\n",
       "pHJRT0YBh5Bw8DXyySgyYEfARGn4y+ko5KcasJQFqgYJlP/rNS3qz5q40XC8TJi0dWbyXxgyXn7G\n",
       "TsGnFPau8Q8xKHHHSgirjwAAAABJRU5ErkJggg==\n",
       "\" style=\"display:inline;vertical-align:middle;\" /></a><br>"
      ],
      "text/plain": [
       "expr: (a + a + a + b + c + b + c , a + a + a + b + b + c + c)"
      ]
     },
     "execution_count": 2,
     "metadata": {},
     "output_type": "execute_result"
    }
   ],
   "source": [
    "# build up the expression from sub-expressions\n",
    "expr = ExprTuple(Add(a, a, a, b, c, b, c), Add(a, a, a, b, b, c, c))"
   ]
  },
  {
   "cell_type": "code",
   "execution_count": 3,
   "metadata": {},
   "outputs": [
    {
     "name": "stdout",
     "output_type": "stream",
     "text": [
      "Passed sanity check: built 'expr' is the same as the stored Expression.\n"
     ]
    }
   ],
   "source": [
    "# check that the built expression is the same as the stored expression\n",
    "%check_expr"
   ]
  },
  {
   "cell_type": "code",
   "execution_count": 4,
   "metadata": {},
   "outputs": [
    {
     "data": {
      "text/html": [
       "<table><tr><th>&nbsp;</th><th>core type</th><th>sub-expressions</th><th>expression</th></tr>\n",
       "<tr><td>0</td><td>ExprTuple</td><td>1, 2</td><td><a class=\"ProveItLink\" href=\"expr.ipynb\"><img src=\"data:image/png;base64,iVBORw0KGgoAAAANSUhEUgAAAc8AAAAVBAMAAADShHjlAAAAMFBMVEX////c3NwiIiJERESqqqqY\n",
       "mJh2dnZmZmYQEBDu7u4yMjJUVFTMzMyIiIi6uroAAAAs73DqAAAAAXRSTlMAQObYZgAAArhJREFU\n",
       "WMPlmD9oE1Ecx79pLrlc0uayd2i2ughZHMXgrPQmRwkddDESEDvooBVxECznIoUOOQodvCwdFEUI\n",
       "DbgILpkU0ZToVERppCkSqOK7tK/c771cLu8MGdoMl+PD+93n/fu99+6AU/PLNk9+G696l/dRo9ce\n",
       "hJUwXufHW2FJOaJBb7DL88jaWmiJ9OaYh6YW0eAAM2TmGjlpVIJJl5OnYhEOzGJQCTXlcXx3dAMB\n",
       "V4CU7QealLDBJNvj5LJYhINdO6iEmpLHy8pgAwGrwHdEbWgyH9rQRYy3obJyESM1NF7EEvuL1W8u\n",
       "C47ZDzu5EJKuf7boM5+Vv1BQa72kwLjWavRv1JQ8XlYGGwhIVrDB7ndy8Y4wLZdxIYxUCzggkukV\n",
       "rBNg7MGk1nft9OGgqCl5vKQcYiBAc7DCencfeoE65izcCiMLNh4R62oT5wjQekiVSL2eIN4fEkUl\n",
       "j5eUwQYKsvfxF8h0MNWkji3gbBi5A/wm1i0xP3QHZsUPMkejqKrk8ZIy2EDBdMdrqFlA1Rt/3XXX\n",
       "H7uutzPtwTgII/PI7nty1z3jurV+kcPaHIOpCnYtPzALfFdQUPriJWWQQQSsoQ/ZFGliAba/M2N/\n",
       "oHWM4YTtaXrP33msiNCbbJO7Z/vBHF9mFJU8XlQOMVDApi7LqmoRb7SG32F0kXEuDSdsWThKD/5M\n",
       "1tkJWo2GkFIm633Lq7uiksdLysEGGSQcXGeLtqXNJ2l6bOBipRRCXuAu7bxXwA2aH0V9k4IKko1q\n",
       "XlnJ4yXlYIMM2PbyzdvTtt9uU+ts68f5dghZ+2gJa0+5ZdPFv35b2L2XWp+w+ktZyeMl5WCDDNJt\n",
       "pHJRT0YBh5Bw8DXyySgyYEfARGn4y+ko5KcasJQFqgYJlP/rNS3qz5q40XC8TJi0dWbyXxgyXn7G\n",
       "TsGnFPau8Q8xKHHHSgirjwAAAABJRU5ErkJggg==\n",
       "\" style=\"display:inline;vertical-align:middle;\" /></a></td></tr>\n",
       "<tr><td>1</td><td>Operation</td><td>operator:&nbsp;4<br>operands:&nbsp;3<br></td><td><a class=\"ProveItLink\" href=\"../b62354a7e173d244580830e7e7b2a329a67beb6f0/expr.ipynb\"><img src=\"data:image/png;base64,iVBORw0KGgoAAAANSUhEUgAAAN0AAAAQBAMAAABgnGdDAAAAMFBMVEX///8yMjKqqqrMzMzu7u4i\n",
       "IiJmZmaYmJhEREQQEBC6urp2dnaIiIhUVFTc3NwAAAD87Fq/AAAAAXRSTlMAQObYZgAAAZ5JREFU\n",
       "OMutlDFLw0AUx/8JaagpSXqDOBUK4ia0o275ArWdCoJDOimImI/QDyCIg1OlFJwKQru46JJBHDRC\n",
       "dREhYL9AaWiL7eBgS3uaS3IEWm85+PF77+7l3Quw3CpcxhnSRwn/uDKxhtCJu1E3nmBvsQ+CIGTo\n",
       "WZ6xWKIdT7A935RRAIQMtAyescR5qVLsebfRhube1QPZe8/NLofQYMF9sdhs0r2TZ0DGeY8ymt2k\n",
       "x56n1HHOIzS4WMWQzbbbEEp+IE2g58OGNoZcZbP3LRzxCA3OGagxQLpC0vIDcYS1dthQPSRsNvsn\n",
       "cMAjNLgCfDFA9QLtktPQzbChV1GclS0Tsn5ByGxmJpCGkQQVQvYJmY1eGcqYAfr8I/2BhImWFTb6\n",
       "NnIw/NVo3xA9iUPoZQeQRwzo24H6puN3aoSNYhavYt6fXRpATW9yCA0e0ub8pp/WwvRv+lhqEYZg\n",
       "ieUU260NbJltDqHBbzhhy1FNpJjnqGblToShuU87T+x5Pef6rMEhNLjwaAWm+dh5YB+se8gzlvi/\n",
       "rAQWS7HjCW5WAz/674/dIzAwowAAAABJRU5ErkJggg==\n",
       "\" style=\"display:inline;vertical-align:middle;\" /></a></td></tr>\n",
       "<tr><td>2</td><td>Operation</td><td>operator:&nbsp;4<br>operands:&nbsp;5<br></td><td><a class=\"ProveItLink\" href=\"../b2d61e9f0f76329ae0e04b0459fb2224298444390/expr.ipynb\"><img src=\"data:image/png;base64,iVBORw0KGgoAAAANSUhEUgAAAN0AAAAQBAMAAABgnGdDAAAAMFBMVEX///8yMjKqqqrMzMzu7u4i\n",
       "IiJmZmaYmJhEREQQEBC6urp2dnaIiIhUVFTc3NwAAAD87Fq/AAAAAXRSTlMAQObYZgAAAZhJREFU\n",
       "OMu11LFKw0AYB/B/QhpqSpPeIE6FgrgJzahbXqC2U0FwSCcFEfMIfQBBHJyUUnAqCO3ioksGcdAI\n",
       "1UWEgH2B0tIW28HBlvQkd+lRbfGWgx/8vy93HxdgsZU750B5L+A/V5oHqfnXEkprvmBnuvd4MDIc\n",
       "RCL8kt35gs1g0wYcoG5xwEeW6pco8NVu8Lt+un9b4aq3n2otgdCw5D87bLW098aCcueZM6DWinfZ\n",
       "floFpyKh4XwZfQaUEQy2/HZVKkRBH0Its9U7Dg5EQsNZCxcMyAOsNJgPuETciUKyi5jLVv8A9kRC\n",
       "wyXgkwE1BcMOQ7LLzS8Ao4z85B5UQlbPCJk8ohGU/kxBiZBdQiZPrwhtyEDMRt0JgxHcGg8dF1lY\n",
       "4dPoX5C7ikDox/agDhgYP79jKwwdlztfAPkMXmQzXF3pIZlaFwgN9+m0fvqZ3ECN8WmdKEiOXEyw\n",
       "01rDht0QCA2/4oibTkZtsmAjYUZB9x+3Htl+be/qpCoQGs49OGw/xd/nnvehdy+ABf4vS8F0ae58\n",
       "wfVy8A06eo/dWEdoHgAAAABJRU5ErkJggg==\n",
       "\" style=\"display:inline;vertical-align:middle;\" /></a></td></tr>\n",
       "<tr><td>3</td><td>ExprTuple</td><td>6, 6, 6, 7, 8, 7, 8</td><td><a class=\"ProveItLink\" href=\"../18d93bcdcc0205a3233f432e668ff6cf85897c2e0/expr.ipynb\"><img src=\"data:image/png;base64,iVBORw0KGgoAAAANSUhEUgAAAIgAAAAVBAMAAABvbLv8AAAAMFBMVEX////c3NwiIiJERESqqqqY\n",
       "mJh2dnZmZmYQEBDu7u4yMjJUVFTMzMyIiIi6uroAAAAs73DqAAAAAXRSTlMAQObYZgAAAbpJREFU\n",
       "OMutlD9IAlEcx7/+Oc/T/LM35ObqULtzizc3SUMtGS45VNAfwi1zCsnBCBoiCIOiCCShJWjILaIU\n",
       "a4oWLZMQKvrde6dp9/Age/Aen/e9e7+/7w74l+EtDXZeqtJyZfKSchr4LWVXu3eLNPfMXLnyBmm/\n",
       "5zngMc3GFzZIbz35ROFMmxmpGd7wtnryXcazaeUmDYqjt0qjSNBqKcyu8L2I9svHusupcpFXoXCn\n",
       "cmkzdg9MY5fwyW+rc1FASgM+fvay6uIh5EL4YDCUwg4wjhQ5bUIOcfcCsrfgjDJr67DxACJpJBlk\n",
       "Shgjf/gC3HVYeY9EJG/DF9clfcwD7wzO2XqtGfGFkOMBi8gaR03VJX0E4W0yaOhG1oCREiJgfRQR\n",
       "XZOlttS5JjJrsuWTl0/LKRfGmb2oQExU1SQYUDyqBlRVqpJmmOKRgAnqD1yqPehALiAmd1jOc4jD\n",
       "UdQAR1iA8kpwAsxoLX7UrkTlooLMi5iUwhwYIFG+5ZC9UaFs+KnosTIFdACnv53pA/qQEbz+n2sv\n",
       "Rduqij5kBKnzEZS6fgV/NbJFc1hnT+ekgIyATsMPtWYP+Hv0FPEN162YTO1Qeb0AAAAASUVORK5C\n",
       "YII=\n",
       "\" style=\"display:inline;vertical-align:middle;\" /></a></td></tr>\n",
       "<tr><td>4</td><td>Literal</td><td></td><td><a class=\"ProveItLink\" href=\"../3e6688136fa3c7aefbebe51301b7c3ebf0b69c440/expr.ipynb\"><img src=\"data:image/png;base64,iVBORw0KGgoAAAANSUhEUgAAAA4AAAAOBAMAAADtZjDiAAAAJFBMVEX///+6urpUVFQQEBAiIiIy\n",
       "MjJmZmaIiIiqqqrc3Nzu7u4AAACgHpL+AAAAAXRSTlMAQObYZgAAAB5JREFUCNdjYGBgWMkAAe2k\n",
       "0Kmhoc6hoUGk6BMHYgAHOwjcado9fwAAAABJRU5ErkJggg==\n",
       "\" style=\"display:inline;vertical-align:middle;\" /></a></td></tr>\n",
       "<tr><td>5</td><td>ExprTuple</td><td>6, 6, 6, 7, 7, 8, 8</td><td><a class=\"ProveItLink\" href=\"../21d328a7b1f29d8544bbc8619513c01c1fa433440/expr.ipynb\"><img src=\"data:image/png;base64,iVBORw0KGgoAAAANSUhEUgAAAIgAAAAVBAMAAABvbLv8AAAAMFBMVEX////c3NwiIiJERESqqqqY\n",
       "mJh2dnZmZmYQEBDu7u4yMjJUVFTMzMyIiIi6uroAAAAs73DqAAAAAXRSTlMAQObYZgAAAXdJREFU\n",
       "OMut1DFLw0AYBuC3tWmS1jTZHezm2kH3zi5mdgouLla66CSoII61kxSXiuAggtRBFKEYcHQwP8AW\n",
       "dSourYYODoqXXFJzl6MB68EdTy6573L3HQf8Syk4k42XnknzkPCRelPkwJUtUs+Spsq1eHDvAS1x\n",
       "NXqZB7ceC0o9KUi/zoNb7w7eEnduJQauzGOTtKn2+i59Fum8c8UBh5WnCFZxStgzpga0UyDVhW4z\n",
       "wHQNJxEsokYmHUIu0ekFynxCsRig4WAhgh6+gfwAaZojkeRj6FUGuAt3g+LRC6KX0KT/KVK6ir7J\n",
       "AG4YxA2C7AGzDpbgp08kcjq2WaS+ghgBet6ammXcZmwVYpHN3AcDDMkJ82fwgWWSH+TMzFwWzaJY\n",
       "+bLcYoFrYE39COCl+NU7Et37LhrvYqntDbCAXOnU1QODAriAYoS79IIxiqNg/B57yQp7TYxRHFKI\n",
       "rBO5Cv4a5IjUmcDaaKRAcWB0hVx6yZ7wetRs/AAPmpe2vWp2AgAAAABJRU5ErkJggg==\n",
       "\" style=\"display:inline;vertical-align:middle;\" /></a></td></tr>\n",
       "<tr><td>6</td><td>Variable</td><td></td><td><a class=\"ProveItLink\" href=\"../../../../__pv_it/07527342713064c87612d00d8557c53d53d5324a0/expr.ipynb\"><img src=\"data:image/png;base64,iVBORw0KGgoAAAANSUhEUgAAAAsAAAAJBAMAAAAWSsseAAAAMFBMVEX///8yMjKqqqrMzMzu7u4i\n",
       "IiJmZmaYmJhEREQQEBC6urp2dnaIiIhUVFTc3NwAAAD87Fq/AAAAAXRSTlMAQObYZgAAAEhJREFU\n",
       "CNdjYOC7s2seAwPDygccHxgY+L4zsDUwMPB+YGA9wMDA38Dgb8DA8P4Agz6DA4O/AsNFJgMGxgKm\n",
       "MG6gyjunLE4xAAAZTBA5TB6DCwAAAABJRU5ErkJggg==\n",
       "\" style=\"display:inline;vertical-align:middle;\" /></a></td></tr>\n",
       "<tr><td>7</td><td>Variable</td><td></td><td><a class=\"ProveItLink\" href=\"../../../../__pv_it/6840a4fa6c106149dc16a131294d0c5e44f1b0480/expr.ipynb\"><img src=\"data:image/png;base64,iVBORw0KGgoAAAANSUhEUgAAAAkAAAAOBAMAAAAPuiubAAAALVBMVEX///9mZmbMzMxERESYmJiI\n",
       "iIh2dna6urqqqqoyMjIiIiIQEBBUVFTu7u4AAAD9S1JeAAAAAXRSTlMAQObYZgAAAE1JREFUCNdj\n",
       "4D29gAEIOA+ASL4GEFl3AURmgQiGOaFHGBh4HzPwKTBwvGXgTmBgnMDAJ8DAJcBQ5wBSLncBJLWN\n",
       "gYGngRFoBO9REQYGAGrcDtUkVqASAAAAAElFTkSuQmCC\n",
       "\" style=\"display:inline;vertical-align:middle;\" /></a></td></tr>\n",
       "<tr><td>8</td><td>Variable</td><td></td><td><a class=\"ProveItLink\" href=\"../../../../__pv_it/cbdfda466482236edba0ce44ac7ef39cda0af7a40/expr.ipynb\"><img src=\"data:image/png;base64,iVBORw0KGgoAAAANSUhEUgAAAAkAAAAJBAMAAAASvxsjAAAALVBMVEX///9mZmbc3NxUVFSYmJhE\n",
       "REQiIiIyMjK6uroQEBDMzMyIiIh2dnbu7u4AAABgFDGoAAAAAXRSTlMAQObYZgAAADZJREFUCNdj\n",
       "YOA9s3sBA8PKBvYEBt7ZDKwODMwPGICALwBE6m0Asx0YGIDiAgw8QJUyu/cyAAAmuwmycZ8WfQAA\n",
       "AABJRU5ErkJggg==\n",
       "\" style=\"display:inline;vertical-align:middle;\" /></a></td></tr>\n",
       "</table>\n"
      ],
      "text/plain": [
       "0. (a + a + a + b + c + b + c , a + a + a + b + b + c + c)\n",
       "   core type: ExprTuple\n",
       "   sub-expressions: 1, 2\n",
       "1. a + a + a + b + c + b + c\n",
       "   core type: Operation\n",
       "   operator: 4\n",
       "   operands: 3\n",
       "2. a + a + a + b + b + c + c\n",
       "   core type: Operation\n",
       "   operator: 4\n",
       "   operands: 5\n",
       "3. (a , a , a , b , c , b , c)\n",
       "   core type: ExprTuple\n",
       "   sub-expressions: 6, 6, 6, 7, 8, 7, 8\n",
       "4. +\n",
       "   core type: Literal\n",
       "   sub-expressions: \n",
       "5. (a , a , a , b , b , c , c)\n",
       "   core type: ExprTuple\n",
       "   sub-expressions: 6, 6, 6, 7, 7, 8, 8\n",
       "6. a\n",
       "   core type: Variable\n",
       "   sub-expressions: \n",
       "7. b\n",
       "   core type: Variable\n",
       "   sub-expressions: \n",
       "8. c\n",
       "   core type: Variable\n",
       "   sub-expressions: "
      ]
     },
     "execution_count": 4,
     "metadata": {},
     "output_type": "execute_result"
    }
   ],
   "source": [
    "# display the expression information\n",
    "expr.exprInfo()"
   ]
  },
  {
   "cell_type": "code",
   "execution_count": null,
   "metadata": {},
   "outputs": [],
   "source": []
  }
 ],
 "metadata": {
  "kernelspec": {
   "display_name": "Python 3",
   "language": "python",
   "name": "python3"
  }
 },
 "nbformat": 4,
 "nbformat_minor": 0
}
