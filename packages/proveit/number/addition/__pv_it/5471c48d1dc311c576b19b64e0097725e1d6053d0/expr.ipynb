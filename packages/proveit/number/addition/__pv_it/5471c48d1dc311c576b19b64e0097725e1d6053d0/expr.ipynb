{
 "cells": [
  {
   "cell_type": "markdown",
   "metadata": {},
   "source": [
    "Expression of type <a class=\"ProveItLink\" href=\"../../../../../../doc/html/api/proveit.logic.Equals.html\">Equals</a>\n",
    "=======================\n",
    "# from context <a class=\"ProveItLink\" href=\"../../_context_.ipynb\">proveit.number.addition</a>"
   ]
  },
  {
   "cell_type": "code",
   "execution_count": 1,
   "metadata": {},
   "outputs": [],
   "source": [
    "# import Expression classes needed to build the expression\n",
    "from proveit._common_ import b\n",
    "from proveit.logic import Equals\n",
    "from proveit.number import Add, Neg, zero"
   ]
  },
  {
   "cell_type": "code",
   "execution_count": 2,
   "metadata": {},
   "outputs": [
    {
     "data": {
      "text/html": [
       "<strong id=\"expr\">expr:</strong> <a class=\"ProveItLink\" href=\"expr.ipynb\"><img src=\"data:image/png;base64,iVBORw0KGgoAAAANSUhEUgAAAG8AAAAVBAMAAAC6Uq30AAAAMFBMVEX////c3NwiIiJERESqqqqY\n",
       "mJh2dnZmZmYQEBDu7u4yMjJUVFTMzMyIiIi6uroAAAAs73DqAAAAAXRSTlMAQObYZgAAAVxJREFU\n",
       "OMtjYCAb8F3ALx+HS+I0nMW5QwFVCizAfgBdB2ftdZDYSoQI1wY0JWCBBegamR5w6jAw8CK5lN8B\n",
       "ZqYAkkAYusZLDAy3GBg4JiBE3sPYLBeQBGaga9QGSggwvEISSWJA0wgWYHZA0/idgeG8A0MZksjq\n",
       "u1tRNYIF2ApQ9TF+A2q8wLAUKbQ+M/AfQNYIEWABh07VKhBYDdOYwNCH0Mjyk4EjAVkjRICvAYuN\n",
       "CQz/gKxFSiDwgH0BA38BskaIAM8HrE79hxQ/BQzvA4DKV61a1LVq1QaYALpGcOAEMLSgRGP9BGQb\n",
       "IQIQpxaBXaUMjQ5/AQZTJI0HGNpQQhUiwLoAMwEA4ykdIcDtwL4BRSNEAD06GJgcOHsYGB4hRcfe\n",
       "UtQEABHgeoCeyMtuA2ONQwBLjmFBzmozsOcq1gRCeTQXR35cSSCjcy7AISFNQCO3AA4JRgJFxx3s\n",
       "wgCf5GkFcdHOCgAAAABJRU5ErkJggg==\n",
       "\" style=\"display:inline;vertical-align:middle;\" /></a><br>"
      ],
      "text/plain": [
       "expr: (-b + b) = 0"
      ]
     },
     "execution_count": 2,
     "metadata": {},
     "output_type": "execute_result"
    }
   ],
   "source": [
    "# build up the expression from sub-expressions\n",
    "expr = Equals(Add(Neg(b), b).withSubtractionAt(0,0), zero)"
   ]
  },
  {
   "cell_type": "code",
   "execution_count": 3,
   "metadata": {},
   "outputs": [
    {
     "name": "stdout",
     "output_type": "stream",
     "text": [
      "Passed sanity check: built 'expr' is the same as the stored Expression.\n"
     ]
    }
   ],
   "source": [
    "# check that the built expression is the same as the stored expression\n",
    "%check_expr"
   ]
  },
  {
   "cell_type": "code",
   "execution_count": 4,
   "metadata": {},
   "outputs": [
    {
     "data": {
      "text/html": [
       "<table><tr><th>&nbsp;</th><th>core type</th><th>sub-expressions</th><th>expression</th></tr>\n",
       "<tr><td>0</td><td>Operation</td><td>operator:&nbsp;1<br>operands:&nbsp;2<br></td><td><a class=\"ProveItLink\" href=\"expr.ipynb\"><img src=\"data:image/png;base64,iVBORw0KGgoAAAANSUhEUgAAAG8AAAAVBAMAAAC6Uq30AAAAMFBMVEX////c3NwiIiJERESqqqqY\n",
       "mJh2dnZmZmYQEBDu7u4yMjJUVFTMzMyIiIi6uroAAAAs73DqAAAAAXRSTlMAQObYZgAAAVxJREFU\n",
       "OMtjYCAb8F3ALx+HS+I0nMW5QwFVCizAfgBdB2ftdZDYSoQI1wY0JWCBBegamR5w6jAw8CK5lN8B\n",
       "ZqYAkkAYusZLDAy3GBg4JiBE3sPYLBeQBGaga9QGSggwvEISSWJA0wgWYHZA0/idgeG8A0MZksjq\n",
       "u1tRNYIF2ApQ9TF+A2q8wLAUKbQ+M/AfQNYIEWABh07VKhBYDdOYwNCH0Mjyk4EjAVkjRICvAYuN\n",
       "CQz/gKxFSiDwgH0BA38BskaIAM8HrE79hxQ/BQzvA4DKV61a1LVq1QaYALpGcOAEMLSgRGP9BGQb\n",
       "IQIQpxaBXaUMjQ5/AQZTJI0HGNpQQhUiwLoAMwEA4ykdIcDtwL4BRSNEAD06GJgcOHsYGB4hRcfe\n",
       "UtQEABHgeoCeyMtuA2ONQwBLjmFBzmozsOcq1gRCeTQXR35cSSCjcy7AISFNQCO3AA4JRgJFxx3s\n",
       "wgCf5GkFcdHOCgAAAABJRU5ErkJggg==\n",
       "\" style=\"display:inline;vertical-align:middle;\" /></a></td></tr>\n",
       "<tr><td>1</td><td>Literal</td><td></td><td><a class=\"ProveItLink\" href=\"../../../../logic/equality/__pv_it/2fb26078095930560931daa0500ce419a39ea6cd0/expr.ipynb\"><img src=\"data:image/png;base64,iVBORw0KGgoAAAANSUhEUgAAAA4AAAAFBAMAAACHocAhAAAAFVBMVEX///9EREQiIiJUVFQyMjJm\n",
       "ZmYAAADubVkoAAAAAXRSTlMAQObYZgAAABRJREFUCNdjCHEBAWcGXCBICQQUAUpuAwlgGKrkAAAA\n",
       "AElFTkSuQmCC\n",
       "\" style=\"display:inline;vertical-align:middle;\" /></a></td></tr>\n",
       "<tr><td>2</td><td>ExprTuple</td><td>3, 4</td><td><a class=\"ProveItLink\" href=\"../1969ccd5f2542e8090659aa35cf7943731c67bb50/expr.ipynb\"><img src=\"data:image/png;base64,iVBORw0KGgoAAAANSUhEUgAAAFsAAAAVBAMAAADbSo+2AAAAMFBMVEX////c3NwiIiJERESqqqqY\n",
       "mJh2dnZmZmYQEBDu7u4yMjJUVFTMzMyIiIi6uroAAAAs73DqAAAAAXRSTlMAQObYZgAAAXVJREFU\n",
       "KM+Vk7FLw0AUxr/WtMmlmmR3ERcHHVzc8x80k6OULk5CFzsooog4iGhGoYOh4GBcOii4FLI7WFwK\n",
       "ViE4ulS0KoUi3tnkchcKrW/Ie5f78e57794B/zSjNSm5xj53fElu51JAbT/e2mkHUAMaXSa7eiOd\n",
       "8Cry2ZAsAR4wI2gx7TiZFQW9yD8Aj8AqoLkJ3o1jJcph9KMfi3TTwhnwKhxdRgrPx8V8A/c2pmxU\n",
       "RaXPNzKuNzsO85kvireQr+AiockHzEDCz5cx4HgJioeTBFf60EoSXnRxKODGHn7ooj7PLFQ9mBUJ\n",
       "3/pTzcVMvzE8tmwFXSpV9f36ke+zO1iA8clLdRh+ILV915Wy96D240YWLSZmRcCDodIEH7Bi3OE1\n",
       "0S7nPKwneMFWGzJ+jW2Qd6bTJsdgjXwRGtncTF1Tre2AnNKJINUObbEeQrNGjKoiDrXBCToEudK4\n",
       "N5Dj0YY8wKON44QOMGbH4fykAlOVmfjxPQG//QFnakvHUPIAAAAASUVORK5CYII=\n",
       "\" style=\"display:inline;vertical-align:middle;\" /></a></td></tr>\n",
       "<tr><td>3</td><td>Operation</td><td>operator:&nbsp;5<br>operands:&nbsp;6<br></td><td><a class=\"ProveItLink\" href=\"../e4bc21decbebaacec46675833ad943f41eddd89d0/expr.ipynb\"><img src=\"data:image/png;base64,iVBORw0KGgoAAAANSUhEUgAAADoAAAAQBAMAAAC1onFLAAAAMFBMVEX///9mZmbMzMxERESYmJiI\n",
       "iIh2dnaqqqoQEBBUVFTu7u66uroiIiIyMjLc3NwAAABYXk/VAAAAAXRSTlMAQObYZgAAAJNJREFU\n",
       "GNNjYICClT0MqABV4CaaLKrAdxhjHboAEHD/grFK0QWAgO0AmixCAAh4p0Y6oMgiBIBgvQHDJxRZ\n",
       "hAAQ1C9gaEORBQu8PQMCpxlkGRg+osgiBIDgIAP3F5DY3bsn7t69iRCA+Y7xF4pehAAQfGLgSECR\n",
       "RQgAwXQGSVT/IgRAgR7ogCqLEEABpQz4wFYEEwBFYDRbHv6A2AAAAABJRU5ErkJggg==\n",
       "\" style=\"display:inline;vertical-align:middle;\" /></a></td></tr>\n",
       "<tr><td>4</td><td>Literal</td><td></td><td><a class=\"ProveItLink\" href=\"../../../numeral/__pv_it/ec23fc7a1b4222a5f4948b495002b97d6fa18c3c0/expr.ipynb\"><img src=\"data:image/png;base64,iVBORw0KGgoAAAANSUhEUgAAAAoAAAAOBAMAAADkjZCYAAAALVBMVEX///8QEBCYmJh2dnaqqqrc\n",
       "3NxUVFQyMjK6uroiIiLMzMyIiIhmZmbu7u4AAAAZjyHdAAAAAXRSTlMAQObYZgAAAEpJREFUCNdj\n",
       "YLiz+xQDA8MMhpsLGLgnMHAXMHAmMHA8ZeA7wMD1hCHOgIHrNZh8jES+Bss+AqlkeQrSxTyBgWEK\n",
       "w8UFDAx3rLMYAMCjFldHSx/9AAAAAElFTkSuQmCC\n",
       "\" style=\"display:inline;vertical-align:middle;\" /></a></td></tr>\n",
       "<tr><td>5</td><td>Literal</td><td></td><td><a class=\"ProveItLink\" href=\"../3e6688136fa3c7aefbebe51301b7c3ebf0b69c440/expr.ipynb\"><img src=\"data:image/png;base64,iVBORw0KGgoAAAANSUhEUgAAAA4AAAAOBAMAAADtZjDiAAAAJFBMVEX///+6urpUVFQQEBAiIiIy\n",
       "MjJmZmaIiIiqqqrc3Nzu7u4AAACgHpL+AAAAAXRSTlMAQObYZgAAAB5JREFUCNdjYGBgWMkAAe2k\n",
       "0Kmhoc6hoUGk6BMHYgAHOwjcado9fwAAAABJRU5ErkJggg==\n",
       "\" style=\"display:inline;vertical-align:middle;\" /></a></td></tr>\n",
       "<tr><td>6</td><td>ExprTuple</td><td>7, 9</td><td><a class=\"ProveItLink\" href=\"../959eea0a1f8cbb7b671d05b41fe3945991bd2aad0/expr.ipynb\"><img src=\"data:image/png;base64,iVBORw0KGgoAAAANSUhEUgAAADcAAAAVBAMAAAAQkWtIAAAAMFBMVEX////c3NwiIiJERESqqqqY\n",
       "mJh2dnZmZmYQEBDu7u4yMjJUVFTMzMyIiIi6uroAAAAs73DqAAAAAXRSTlMAQObYZgAAAOpJREFU\n",
       "KM9jYMAL+C5gF48DEafhXM4dCkgM9gNA1kqEYq4NyIwFDAy8SKbyOyAzwhgYOCYgJN9PQGbMYGB4\n",
       "heSGJBQGswNDGZLk6rtbkRhsBQxLEXKcnxn4DyAYLAsY+hCSLD8ZOBIQDL4Ghn8MDIyLlEDgAfsC\n",
       "Bv4CkCSEwfMBJAkDTAUM7wMQDKBkC4o36ycgGEBjTZEkDzC0MXDCGAysCxjSEZLcDuwbGOYrQBkg\n",
       "rzxC8sreUmC4fIQyGLgeMHAIoEXVQxgDGHysCWiSATBGLmqUoUhyAqOMQRpVjhfuPJB9jDiSyR0G\n",
       "BgAQMkBDDyKY4AAAAABJRU5ErkJggg==\n",
       "\" style=\"display:inline;vertical-align:middle;\" /></a></td></tr>\n",
       "<tr><td>7</td><td>Operation</td><td>operator:&nbsp;8<br>operand:&nbsp;9<br></td><td><a class=\"ProveItLink\" href=\"../74752f37113c2f2a910a8022bc04ee9e9dd06cc10/expr.ipynb\"><img src=\"data:image/png;base64,iVBORw0KGgoAAAANSUhEUgAAABgAAAAOBAMAAADH1sFNAAAAMFBMVEX///9mZmbMzMxERESYmJiI\n",
       "iIh2dnaqqqoQEBBUVFTu7u66uroiIiIyMjLc3NwAAABYXk/VAAAAAXRSTlMAQObYZgAAAFRJREFU\n",
       "CNdjYICClT0MSOAmMuc7Epv7FxKH7QASh3dqpAOcs96A4ROcU7+AoY3h7RkQOM0gy8DwES5zkIH7\n",
       "C5I1jAjDPzFwJMA50xkkEfasDHRgAABNpxc6/bk9/gAAAABJRU5ErkJggg==\n",
       "\" style=\"display:inline;vertical-align:middle;\" /></a></td></tr>\n",
       "<tr><td>8</td><td>Literal</td><td></td><td><a class=\"ProveItLink\" href=\"../../../negation/__pv_it/3fc7a08bb9735faa20ef8e175f6ea95511acc9c70/expr.ipynb\"><img src=\"data:image/png;base64,iVBORw0KGgoAAAANSUhEUgAAAA4AAAACBAMAAACapPCZAAAAElBMVEX///+6uroiIiIyMjLc3NwA\n",
       "AAA6l9OrAAAAAXRSTlMAQObYZgAAABBJREFUCNdjcFYCAUUGKAAADR4BD8/TF5gAAAAASUVORK5C\n",
       "YII=\n",
       "\" style=\"display:inline;vertical-align:middle;\" /></a></td></tr>\n",
       "<tr><td>9</td><td>Variable</td><td></td><td><a class=\"ProveItLink\" href=\"../../../../__pv_it/6840a4fa6c106149dc16a131294d0c5e44f1b0480/expr.ipynb\"><img src=\"data:image/png;base64,iVBORw0KGgoAAAANSUhEUgAAAAkAAAAOBAMAAAAPuiubAAAALVBMVEX///9mZmbMzMxERESYmJiI\n",
       "iIh2dna6urqqqqoyMjIiIiIQEBBUVFTu7u4AAAD9S1JeAAAAAXRSTlMAQObYZgAAAE1JREFUCNdj\n",
       "4D29gAEIOA+ASL4GEFl3AURmgQiGOaFHGBh4HzPwKTBwvGXgTmBgnMDAJ8DAJcBQ5wBSLncBJLWN\n",
       "gYGngRFoBO9REQYGAGrcDtUkVqASAAAAAElFTkSuQmCC\n",
       "\" style=\"display:inline;vertical-align:middle;\" /></a></td></tr>\n",
       "</table>\n"
      ],
      "text/plain": [
       "0. (-b + b) = 0\n",
       "   core type: Operation\n",
       "   operator: 1\n",
       "   operands: 2\n",
       "1. =\n",
       "   core type: Literal\n",
       "   sub-expressions: \n",
       "2. (-b + b , 0)\n",
       "   core type: ExprTuple\n",
       "   sub-expressions: 3, 4\n",
       "3. -b + b\n",
       "   core type: Operation\n",
       "   operator: 5\n",
       "   operands: 6\n",
       "4. 0\n",
       "   core type: Literal\n",
       "   sub-expressions: \n",
       "5. +\n",
       "   core type: Literal\n",
       "   sub-expressions: \n",
       "6. (-b , b)\n",
       "   core type: ExprTuple\n",
       "   sub-expressions: 7, 9\n",
       "7. -b\n",
       "   core type: Operation\n",
       "   operator: 8\n",
       "   operand: 9\n",
       "8. -\n",
       "   core type: Literal\n",
       "   sub-expressions: \n",
       "9. b\n",
       "   core type: Variable\n",
       "   sub-expressions: "
      ]
     },
     "execution_count": 4,
     "metadata": {},
     "output_type": "execute_result"
    }
   ],
   "source": [
    "# display the expression information\n",
    "expr.exprInfo()"
   ]
  },
  {
   "cell_type": "code",
   "execution_count": null,
   "metadata": {},
   "outputs": [],
   "source": []
  }
 ],
 "metadata": {
  "kernelspec": {
   "display_name": "Python 3",
   "language": "python",
   "name": "python3"
  }
 },
 "nbformat": 4,
 "nbformat_minor": 0
}
