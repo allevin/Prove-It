{
 "cells": [
  {
   "cell_type": "markdown",
   "metadata": {},
   "source": [
    "Expression of type <a class=\"ProveItLink\" href=\"../../../../../../doc/html/api/proveit.ExprTuple.html\">ExprTuple</a>\n",
    "=======================\n",
    "# from context <a class=\"ProveItLink\" href=\"../../_context_.ipynb\">proveit.number.addition</a>"
   ]
  },
  {
   "cell_type": "code",
   "execution_count": 1,
   "metadata": {},
   "outputs": [],
   "source": [
    "# import Expression classes needed to build the expression\n",
    "from proveit import ExprTuple\n",
    "from proveit._common_ import a, b, c"
   ]
  },
  {
   "cell_type": "code",
   "execution_count": 2,
   "metadata": {},
   "outputs": [
    {
     "data": {
      "text/html": [
       "<strong id=\"expr\">expr:</strong> <a class=\"ProveItLink\" href=\"expr.ipynb\"><img src=\"data:image/png;base64,iVBORw0KGgoAAAANSUhEUgAAAIgAAAAVBAMAAABvbLv8AAAAMFBMVEX////c3NwiIiJERESqqqqY\n",
       "mJh2dnZmZmYQEBDu7u4yMjJUVFTMzMyIiIi6uroAAAAs73DqAAAAAXRSTlMAQObYZgAAAdBJREFU\n",
       "OMutlD9Iw1AQxj9t2jSNMd0d6uYkdNBRLI4imNkpOOhipSA6CSqIm9pJxKUiOIggOogiiAUXwcFO\n",
       "gmBK6yQiWK0dBBXv/WkqmsShBpL3y/vu3eXeXR7wL1d7obn14RI9LqEdd/qaBGnymqV7B4jt+5sE\n",
       "adICMCgbM+VvEqTJfGxEs8BT1t8kSJMZz+OBhtEAk9G/t7YHM/TcdQ7Fa8vp5IJ0P+bkOXhoWEvf\n",
       "Cui4vo8D49imBVWYYsV9PFQR8kUpxsvipbWtYEt0xwL6aRjECqC8IWrzYDWoSfEhywhZDDw0rBfQ\n",
       "yyFhYYq5xyegbsLMsEm9glbReroM6qXhrL4ZBN00XDEnrRk88bBmEjnx7aYM6qWhWndShfbOnSzy\n",
       "VpjjhUwUMIw6uW3yU2v5kBqBUtFYOpQd7dwS6AW5FE6UPCOTolscfmuoUYMxf9or9M0hYITqAz2l\n",
       "7iNHxYhZSleEk55BJM/ht4YjYEJ7IdjGQMZmJb4jj6fTtOXPrBWK50VOmHFuOHhpatrJaqvUIB3O\n",
       "Yx/9w3uIxmWGZbcDy/7QoPb4t7YP25It19DyhwaF3alIgR8FzTnZYP0v0HAnDX/4Ro3z8IBVu8nj\n",
       "0cjjC0ZTll2ihEdTAAAAAElFTkSuQmCC\n",
       "\" style=\"display:inline;vertical-align:middle;\" /></a><br>"
      ],
      "text/plain": [
       "expr: (b , a , c , b , a , c , a)"
      ]
     },
     "execution_count": 2,
     "metadata": {},
     "output_type": "execute_result"
    }
   ],
   "source": [
    "# build up the expression from sub-expressions\n",
    "expr = ExprTuple(b, a, c, b, a, c, a)"
   ]
  },
  {
   "cell_type": "code",
   "execution_count": 3,
   "metadata": {},
   "outputs": [
    {
     "name": "stdout",
     "output_type": "stream",
     "text": [
      "Passed sanity check: built 'expr' is the same as the stored Expression.\n"
     ]
    }
   ],
   "source": [
    "# check that the built expression is the same as the stored expression\n",
    "%check_expr"
   ]
  },
  {
   "cell_type": "code",
   "execution_count": 4,
   "metadata": {},
   "outputs": [
    {
     "data": {
      "text/html": [
       "<table><tr><th>&nbsp;</th><th>core type</th><th>sub-expressions</th><th>expression</th></tr>\n",
       "<tr><td>0</td><td>ExprTuple</td><td>1, 3, 2, 1, 3, 2, 3</td><td><a class=\"ProveItLink\" href=\"expr.ipynb\"><img src=\"data:image/png;base64,iVBORw0KGgoAAAANSUhEUgAAAIgAAAAVBAMAAABvbLv8AAAAMFBMVEX////c3NwiIiJERESqqqqY\n",
       "mJh2dnZmZmYQEBDu7u4yMjJUVFTMzMyIiIi6uroAAAAs73DqAAAAAXRSTlMAQObYZgAAAdBJREFU\n",
       "OMutlD9Iw1AQxj9t2jSNMd0d6uYkdNBRLI4imNkpOOhipSA6CSqIm9pJxKUiOIggOogiiAUXwcFO\n",
       "gmBK6yQiWK0dBBXv/WkqmsShBpL3y/vu3eXeXR7wL1d7obn14RI9LqEdd/qaBGnymqV7B4jt+5sE\n",
       "adICMCgbM+VvEqTJfGxEs8BT1t8kSJMZz+OBhtEAk9G/t7YHM/TcdQ7Fa8vp5IJ0P+bkOXhoWEvf\n",
       "Cui4vo8D49imBVWYYsV9PFQR8kUpxsvipbWtYEt0xwL6aRjECqC8IWrzYDWoSfEhywhZDDw0rBfQ\n",
       "yyFhYYq5xyegbsLMsEm9glbReroM6qXhrL4ZBN00XDEnrRk88bBmEjnx7aYM6qWhWndShfbOnSzy\n",
       "VpjjhUwUMIw6uW3yU2v5kBqBUtFYOpQd7dwS6AW5FE6UPCOTolscfmuoUYMxf9or9M0hYITqAz2l\n",
       "7iNHxYhZSleEk55BJM/ht4YjYEJ7IdjGQMZmJb4jj6fTtOXPrBWK50VOmHFuOHhpatrJaqvUIB3O\n",
       "Yx/9w3uIxmWGZbcDy/7QoPb4t7YP25It19DyhwaF3alIgR8FzTnZYP0v0HAnDX/4Ro3z8IBVu8nj\n",
       "0cjjC0ZTll2ihEdTAAAAAElFTkSuQmCC\n",
       "\" style=\"display:inline;vertical-align:middle;\" /></a></td></tr>\n",
       "<tr><td>1</td><td>Variable</td><td></td><td><a class=\"ProveItLink\" href=\"../../../../__pv_it/6840a4fa6c106149dc16a131294d0c5e44f1b0480/expr.ipynb\"><img src=\"data:image/png;base64,iVBORw0KGgoAAAANSUhEUgAAAAkAAAAOBAMAAAAPuiubAAAALVBMVEX///9mZmbMzMxERESYmJiI\n",
       "iIh2dna6urqqqqoyMjIiIiIQEBBUVFTu7u4AAAD9S1JeAAAAAXRSTlMAQObYZgAAAE1JREFUCNdj\n",
       "4D29gAEIOA+ASL4GEFl3AURmgQiGOaFHGBh4HzPwKTBwvGXgTmBgnMDAJ8DAJcBQ5wBSLncBJLWN\n",
       "gYGngRFoBO9REQYGAGrcDtUkVqASAAAAAElFTkSuQmCC\n",
       "\" style=\"display:inline;vertical-align:middle;\" /></a></td></tr>\n",
       "<tr><td>2</td><td>Variable</td><td></td><td><a class=\"ProveItLink\" href=\"../../../../__pv_it/cbdfda466482236edba0ce44ac7ef39cda0af7a40/expr.ipynb\"><img src=\"data:image/png;base64,iVBORw0KGgoAAAANSUhEUgAAAAkAAAAJBAMAAAASvxsjAAAALVBMVEX///9mZmbc3NxUVFSYmJhE\n",
       "REQiIiIyMjK6uroQEBDMzMyIiIh2dnbu7u4AAABgFDGoAAAAAXRSTlMAQObYZgAAADZJREFUCNdj\n",
       "YOA9s3sBA8PKBvYEBt7ZDKwODMwPGICALwBE6m0Asx0YGIDiAgw8QJUyu/cyAAAmuwmycZ8WfQAA\n",
       "AABJRU5ErkJggg==\n",
       "\" style=\"display:inline;vertical-align:middle;\" /></a></td></tr>\n",
       "<tr><td>3</td><td>Variable</td><td></td><td><a class=\"ProveItLink\" href=\"../../../../__pv_it/07527342713064c87612d00d8557c53d53d5324a0/expr.ipynb\"><img src=\"data:image/png;base64,iVBORw0KGgoAAAANSUhEUgAAAAsAAAAJBAMAAAAWSsseAAAAMFBMVEX///8yMjKqqqrMzMzu7u4i\n",
       "IiJmZmaYmJhEREQQEBC6urp2dnaIiIhUVFTc3NwAAAD87Fq/AAAAAXRSTlMAQObYZgAAAEhJREFU\n",
       "CNdjYOC7s2seAwPDygccHxgY+L4zsDUwMPB+YGA9wMDA38Dgb8DA8P4Agz6DA4O/AsNFJgMGxgKm\n",
       "MG6gyjunLE4xAAAZTBA5TB6DCwAAAABJRU5ErkJggg==\n",
       "\" style=\"display:inline;vertical-align:middle;\" /></a></td></tr>\n",
       "</table>\n"
      ],
      "text/plain": [
       "0. (b , a , c , b , a , c , a)\n",
       "   core type: ExprTuple\n",
       "   sub-expressions: 1, 3, 2, 1, 3, 2, 3\n",
       "1. b\n",
       "   core type: Variable\n",
       "   sub-expressions: \n",
       "2. c\n",
       "   core type: Variable\n",
       "   sub-expressions: \n",
       "3. a\n",
       "   core type: Variable\n",
       "   sub-expressions: "
      ]
     },
     "execution_count": 4,
     "metadata": {},
     "output_type": "execute_result"
    }
   ],
   "source": [
    "# display the expression information\n",
    "expr.exprInfo()"
   ]
  },
  {
   "cell_type": "code",
   "execution_count": null,
   "metadata": {},
   "outputs": [],
   "source": []
  }
 ],
 "metadata": {
  "kernelspec": {
   "display_name": "Python 3",
   "language": "python",
   "name": "python3"
  }
 },
 "nbformat": 4,
 "nbformat_minor": 0
}
