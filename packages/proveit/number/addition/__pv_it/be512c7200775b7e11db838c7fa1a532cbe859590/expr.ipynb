{
 "cells": [
  {
   "cell_type": "markdown",
   "metadata": {},
   "source": [
    "Expression of type <a class=\"ProveItLink\" href=\"../../../../../../doc/html/api/proveit.logic.InSet.html\">InSet</a>\n",
    "=======================\n",
    "# from context <a class=\"ProveItLink\" href=\"../../_context_.ipynb\">proveit.number.addition</a>"
   ]
  },
  {
   "cell_type": "code",
   "execution_count": 1,
   "metadata": {},
   "outputs": [],
   "source": [
    "# import Expression classes needed to build the expression\n",
    "from proveit._common_ import a\n",
    "from proveit.logic import InSet\n",
    "from proveit.number import Complexes, Exp, four"
   ]
  },
  {
   "cell_type": "code",
   "execution_count": 2,
   "metadata": {},
   "outputs": [
    {
     "data": {
      "text/html": [
       "<strong id=\"expr\">expr:</strong> <a class=\"ProveItLink\" href=\"expr.ipynb\"><img src=\"data:image/png;base64,iVBORw0KGgoAAAANSUhEUgAAAIYAAAAZBAMAAAAGZ0s0AAAAMFBMVEX////c3NwiIiJERESqqqqY\n",
       "mJh2dnZmZmYQEBDu7u4yMjJUVFTMzMyIiIi6uroAAAAs73DqAAAAAXRSTlMAQObYZgAAAdBJREFU\n",
       "OMtjYKAUcDFQDvwnUGwEZz7lZvDOp9yMIyAz+C4Qo5T1AQ6JBJAZp4mzrwZD5NKqH8oFrAIgM1aS\n",
       "GYXn/jFM+7thLgPQDN4LxJnBmoDG5w4AxusG9/L6UgYOIoOVswFC3VJSWgBiRHIACfYNDAzyExhe\n",
       "ERsBJmDyVCSUWyANMvECA+v+LQxlQCbj3rxGiAw2FoP0tRcCDAzpYFFLmLMKniGMXwrELwSYP0B4\n",
       "2Fh8jQz2QMoLxGYWgGrjSXBFmNEHNPwrA7sBxHIsLAb5AIZikKEg9mQGuBlPEWb8Y2Dg/sDABIkd\n",
       "bCyG/QwMukDqPNh1SkqQMOU0OIZiBr8Bw/wDYA42FsNnBs4/MDMQCXIlN8KMFqBjLzD4M4CjGBuL\n",
       "8S8DywdOqF8mwfWFgc2AJAxTBob5Dgy7WA4AlWFlcX5h4F7gw8AQBfZiAMwM5jigV/k0wWxglHEF\n",
       "sKizMcxXwM4CxpxTQQI0bjn14A7ZbTthnjHEHY9ASeHe4XsMMz5iZzFI331jC8y168DKpeB5j6fo\n",
       "fzc0M3PAYpzhIQM+FjStM3gvgqR17HkJ7lWsLDZ8eXMlcWbMwpeXpGEFI6KIxMJi2IjPDEaiChDe\n",
       "A7jlAKfCkvzJ0OdEAAAAAElFTkSuQmCC\n",
       "\" style=\"display:inline;vertical-align:middle;\" /></a><br>"
      ],
      "text/plain": [
       "expr: (a , a , a , a) in Complexes^{4}"
      ]
     },
     "execution_count": 2,
     "metadata": {},
     "output_type": "execute_result"
    }
   ],
   "source": [
    "# build up the expression from sub-expressions\n",
    "expr = InSet([a, a, a, a], Exp(Complexes, four))"
   ]
  },
  {
   "cell_type": "code",
   "execution_count": 3,
   "metadata": {},
   "outputs": [
    {
     "name": "stdout",
     "output_type": "stream",
     "text": [
      "Passed sanity check: built 'expr' is the same as the stored Expression.\n"
     ]
    }
   ],
   "source": [
    "# check that the built expression is the same as the stored expression\n",
    "%check_expr"
   ]
  },
  {
   "cell_type": "code",
   "execution_count": 4,
   "metadata": {},
   "outputs": [
    {
     "data": {
      "text/html": [
       "<table><tr><th>&nbsp;</th><th>core type</th><th>sub-expressions</th><th>expression</th></tr>\n",
       "<tr><td>0</td><td>Operation</td><td>operator:&nbsp;1<br>operands:&nbsp;2<br></td><td><a class=\"ProveItLink\" href=\"expr.ipynb\"><img src=\"data:image/png;base64,iVBORw0KGgoAAAANSUhEUgAAAIYAAAAZBAMAAAAGZ0s0AAAAMFBMVEX////c3NwiIiJERESqqqqY\n",
       "mJh2dnZmZmYQEBDu7u4yMjJUVFTMzMyIiIi6uroAAAAs73DqAAAAAXRSTlMAQObYZgAAAdBJREFU\n",
       "OMtjYKAUcDFQDvwnUGwEZz7lZvDOp9yMIyAz+C4Qo5T1AQ6JBJAZp4mzrwZD5NKqH8oFrAIgM1aS\n",
       "GYXn/jFM+7thLgPQDN4LxJnBmoDG5w4AxusG9/L6UgYOIoOVswFC3VJSWgBiRHIACfYNDAzyExhe\n",
       "ERsBJmDyVCSUWyANMvECA+v+LQxlQCbj3rxGiAw2FoP0tRcCDAzpYFFLmLMKniGMXwrELwSYP0B4\n",
       "2Fh8jQz2QMoLxGYWgGrjSXBFmNEHNPwrA7sBxHIsLAb5AIZikKEg9mQGuBlPEWb8Y2Dg/sDABIkd\n",
       "bCyG/QwMukDqPNh1SkqQMOU0OIZiBr8Bw/wDYA42FsNnBs4/MDMQCXIlN8KMFqBjLzD4M4CjGBuL\n",
       "8S8DywdOqF8mwfWFgc2AJAxTBob5Dgy7WA4AlWFlcX5h4F7gw8AQBfZiAMwM5jigV/k0wWxglHEF\n",
       "sKizMcxXwM4CxpxTQQI0bjn14A7ZbTthnjHEHY9ASeHe4XsMMz5iZzFI331jC8y168DKpeB5j6fo\n",
       "fzc0M3PAYpzhIQM+FjStM3gvgqR17HkJ7lWsLDZ8eXMlcWbMwpeXpGEFI6KIxMJi2IjPDEaiChDe\n",
       "A7jlAKfCkvzJ0OdEAAAAAElFTkSuQmCC\n",
       "\" style=\"display:inline;vertical-align:middle;\" /></a></td></tr>\n",
       "<tr><td>1</td><td>Literal</td><td></td><td><a class=\"ProveItLink\" href=\"../../../../logic/set_theory/membership/__pv_it/088cbc857536a28d4119ad9639a84270ccb0545d0/expr.ipynb\"><img src=\"data:image/png;base64,iVBORw0KGgoAAAANSUhEUgAAAAwAAAAMBAMAAACkW0HUAAAALVBMVEX///+qqqpmZmZUVFQQEBC6\n",
       "urpERETc3NyYmJjMzMwiIiIyMjKIiIju7u4AAACYsrA9AAAAAXRSTlMAQObYZgAAADxJREFUCNdj\n",
       "YOA9vWrVBgaG2b0MQMCeCyIZ2ArA1DUwyRCyahVIyWQI7xaEYm4AU7xLIdxqTQgtvGvVBgCkcQ7e\n",
       "geM/tQAAAABJRU5ErkJggg==\n",
       "\" style=\"display:inline;vertical-align:middle;\" /></a></td></tr>\n",
       "<tr><td>2</td><td>ExprTuple</td><td>3, 4</td><td><a class=\"ProveItLink\" href=\"../3ae397f4f8018c13d1f7fe3ac4ce44d237ce82490/expr.ipynb\"><img src=\"data:image/png;base64,iVBORw0KGgoAAAANSUhEUgAAAIoAAAAcBAMAAABMljoJAAAAMFBMVEX///+qqqp2dnYiIiJERESI\n",
       "iIhmZmYQEBDc3NyYmJgyMjLu7u5UVFTMzMy6uroAAACGxKilAAAAAXRSTlMAQObYZgAAAjpJREFU\n",
       "OMutVUFIFGEU/nZ1d2edmd1ACBTEOXUsDymCBBvoIQgcFOkSMlQEEZHdPITOwZMsOEanAvEkqCGD\n",
       "EIEHd4WCksAtOkpKHbaCaqMkQ3b1/bP/747NrIyMD/5533sz/7fv/e+9f4Fw0oTTkHabgx8hSOQL\n",
       "NjQG1HwIlljOxiYDK3YIlnfEEtMJvKGV0oNsSW57XBqxoBuQRsjYDPbL91x4cOHvRSNpMpbrQNwg\n",
       "1+KJy/qxguWd/HMwFloJCjOmB2NJaodIsajK+bO3798BGixskS8R8IDlEYGeJugRp+pO0dZ4BtfI\n",
       "/Ba0JJcFMLKMVEdyY40CK2GdzBu0pFfnR/kn2YGi6Y/OiaCMTy7u1B6ukpqnVTQbS9w5iv46qJXv\n",
       "U7UWF4taxhypMQrlH0vPkSkLt+qg4iHLVxeLVEEXqQqglNDAK7UBdNZBWyKjzHv3of8SLOkMcoWq\n",
       "8w/kch0kWLCoHI3lGakHFLKOdjgFl3YQKcn+SGSERw4LbxCpjJekrlD/ncF6pCBX41Nm29gXHoQn\n",
       "Ym/jDKWf6uFHv4tBOAVssiJdUeQ6nIo1G5r824uqlXZsvO2zV3t5LNQvP0l9Zu0y/GEYL3ZZawx9\n",
       "79uWx00PApYYC7Oh3tx/KEY8Oos0nWnCFPl+qbWS6UXVCajZYkh1KJp7yqza5PmgqH7U5pIzoXa4\n",
       "b4bjWVbgy/KYT1hWXKO1V7oPev2fzeUSrUlW8UAXTKzgf+uwey6ihfxLmnCe0yFZ7uKU5AD1W6ud\n",
       "mrFKzgAAAABJRU5ErkJggg==\n",
       "\" style=\"display:inline;vertical-align:middle;\" /></a></td></tr>\n",
       "<tr><td>3</td><td>ExprTuple</td><td>5, 5, 5, 5</td><td><a class=\"ProveItLink\" href=\"../7f2f44c052640a943d82556f4836ff172f97af010/expr.ipynb\"><img src=\"data:image/png;base64,iVBORw0KGgoAAAANSUhEUgAAAFQAAAAVBAMAAAAqQdQ7AAAAMFBMVEX////c3NwiIiJERESqqqqY\n",
       "mJh2dnZmZmYQEBDu7u4yMjJUVFTMzMyIiIi6uroAAAAs73DqAAAAAXRSTlMAQObYZgAAARlJREFU\n",
       "KM9jYCAB8F0gRhXrAyBxmjgTa4B4JXFKuRgYeC8Qp5Q1gYFjAnFKORsYXhHrfROGMiDJuDevEcLH\n",
       "xmKQvvZCgIEhnWEpkP1CgPkDRBQbi6+RwR5IeTH0AQ34ysBuADEKC4tBPoChGKSX4R8DA/cHBiZI\n",
       "OGBjMexnYNAFUudBSvkNGOYfAItiYzF8ZuD8A1baArThAoM/AzjMsLEY/zKwfOAEOcCUgWG+A8Mu\n",
       "lgNAHlYW5xcG7gU+DAxRwDBg4ApgUWdjmK+AnQUMI6eCBFBgPQIF4b3D9xhmfMTOYpC++8YWmK7W\n",
       "MXAIwKLjIQM+FjBigckACgIY8LHYLiAlQvxKZ4GcAmXzwkWxsRg2gsKNqATLe4ABAD4AYyeetW9t\n",
       "AAAAAElFTkSuQmCC\n",
       "\" style=\"display:inline;vertical-align:middle;\" /></a></td></tr>\n",
       "<tr><td>4</td><td>Operation</td><td>operator:&nbsp;6<br>operands:&nbsp;7<br></td><td><a class=\"ProveItLink\" href=\"../ac094b0dfa02191d356d43d28021b9ef452b8a820/expr.ipynb\"><img src=\"data:image/png;base64,iVBORw0KGgoAAAANSUhEUgAAABcAAAAUBAMAAACUkLs9AAAAMFBMVEX////c3NyqqqqYmJhUVFR2\n",
       "dnbu7u66urrMzMxmZmZEREQQEBAyMjIiIiKIiIgAAAB7fvZ0AAAAAXRSTlMAQObYZgAAAIhJREFU\n",
       "GNNjYICDAwgmA9M3JE4qMucZEodDDYnDygbm8N05v3clgyGYw1FfwBb/hO0BmGPgDDT2C9PMmT8N\n",
       "GJgTNgBFpjAwMAJlOBkdgJw8BgaTLwoMmewBCCNbmQyQOOxInCwOJGU8CQ4IDnMAiMMG5S2uAxK1\n",
       "CRAOi9cztqplMIWd93+7Q1gA8EUjI107FbAAAAAASUVORK5CYII=\n",
       "\" style=\"display:inline;vertical-align:middle;\" /></a></td></tr>\n",
       "<tr><td>5</td><td>Variable</td><td></td><td><a class=\"ProveItLink\" href=\"../../../../__pv_it/07527342713064c87612d00d8557c53d53d5324a0/expr.ipynb\"><img src=\"data:image/png;base64,iVBORw0KGgoAAAANSUhEUgAAAAsAAAAJBAMAAAAWSsseAAAAMFBMVEX///8yMjKqqqrMzMzu7u4i\n",
       "IiJmZmaYmJhEREQQEBC6urp2dnaIiIhUVFTc3NwAAAD87Fq/AAAAAXRSTlMAQObYZgAAAEhJREFU\n",
       "CNdjYOC7s2seAwPDygccHxgY+L4zsDUwMPB+YGA9wMDA38Dgb8DA8P4Agz6DA4O/AsNFJgMGxgKm\n",
       "MG6gyjunLE4xAAAZTBA5TB6DCwAAAABJRU5ErkJggg==\n",
       "\" style=\"display:inline;vertical-align:middle;\" /></a></td></tr>\n",
       "<tr><td>6</td><td>Literal</td><td></td><td><a class=\"ProveItLink\" href=\"../../../exponentiation/__pv_it/deb2bf23cbccdd6e6791e1b35b5b9794ce12dbd50/expr.ipynb\"><img src=\"data:image/png;base64,iVBORw0KGgoAAAANSUhEUgAAACgAAAASBAMAAADbMYGVAAAAMFBMVEX///8QEBAiIiKYmJjc3Nzu\n",
       "7u7MzMx2dnZmZma6urpERESqqqoyMjJUVFSIiIgAAAAoDOMTAAAAAXRSTlMAQObYZgAAAOBJREFU\n",
       "GNNjYGB4+//u3Tt/GNAASGAXmhjnPyDBgSbI/g1IxKEJ8nxgYGdgQRPkX8BgDKRY6q7s62OYvmze\n",
       "2wAgb/7ZO1+AVDiDkYEQQ0HTBr4DQF59AgOIKmB4z7CNbcNZBu6vQN55kEACQwDDLQYGVobfDHwg\n",
       "fb8YGBxYHwAZciD3fWXg+gB1JjvQcJZvQIXsCgz8F6DO9GBgMOH7wPCUgaeBwd4B7EwGNjUG7s9c\n",
       "AiwPgO5jkWRgiF3/9+5dfQUG1nWl5Y+B7pv+1gE9bBhqGLCAE1jEWH9jEbT5A3IwAC4sP/1L6Qlu\n",
       "AAAAAElFTkSuQmCC\n",
       "\" style=\"display:inline;vertical-align:middle;\" /></a></td></tr>\n",
       "<tr><td>7</td><td>ExprTuple</td><td>8, 9</td><td><a class=\"ProveItLink\" href=\"../15b4a43204f9952d371095f486ed6d4e815af8560/expr.ipynb\"><img src=\"data:image/png;base64,iVBORw0KGgoAAAANSUhEUgAAAC8AAAAVBAMAAAAk6KpUAAAAMFBMVEX////c3NwiIiJERESqqqqY\n",
       "mJh2dnZmZmYQEBDu7u4yMjJUVFTMzMyIiIi6uroAAAAs73DqAAAAAXRSTlMAQObYZgAAARpJREFU\n",
       "KM9jYMAJ+C5gisWBiNNAzKu1vskcJsqzgYH9AJBeCWS+f8CZfxsmwWTAwLAAqBhoUsBWBgaW3zCJ\n",
       "G0CJMAYGjgkMrBMagPxqqDhjFFBiBgPDKwYGdsYNQIG5UAk2LqAEswNDGQPDdL4EJBcFgiTYChiW\n",
       "MjAcYwlAiHNeAEmwLGDoA0rwIUmwMYAk+BoY/jEwTOZBMsoHLMHzASTBNWEDwqQEmEQLAwNrAkiC\n",
       "EyzBsnv3/u4LIKNMgTzTt0Di0QSIFAMHUAfrAoZ0IJN7803Ox5YM8xXgEkDnPgKxj+v/2Af07kew\n",
       "s/Z/D2DgesDAIYBw0UM4awbIZoQEwju5kGDHkOAEBjuDNFycF87iBpnPiCVq7zAwAAA1wEBM4bd1\n",
       "1AAAAABJRU5ErkJggg==\n",
       "\" style=\"display:inline;vertical-align:middle;\" /></a></td></tr>\n",
       "<tr><td>8</td><td>Literal</td><td></td><td><a class=\"ProveItLink\" href=\"../../../sets/complex/__pv_it/c357845f93a5a2d9f649129d299e7ec28dda4b960/expr.ipynb\"><img src=\"data:image/png;base64,iVBORw0KGgoAAAANSUhEUgAAAA8AAAAOBAMAAAACpFvcAAAAMFBMVEX////c3NyqqqqYmJhUVFR2\n",
       "dnbu7u66urrMzMxmZmZEREQQEBAyMjIiIiKIiIgAAAB7fvZ0AAAAAXRSTlMAQObYZgAAAGVJREFU\n",
       "CNdjYGDgu3N+70oGBgaO+gK2+CdAhoEzAwPTFwYG5oQNQN4UBgZORgcgI4+BIZM9gAEMWpkMoAx2\n",
       "KCOLAyrFk+AAYTAHgBhsQLy4DkjUJjAwsHg9Y6taBpLsvP/bnYEBACkBFGQfBv8RAAAAAElFTkSu\n",
       "QmCC\n",
       "\" style=\"display:inline;vertical-align:middle;\" /></a></td></tr>\n",
       "<tr><td>9</td><td>Literal</td><td></td><td><a class=\"ProveItLink\" href=\"../../../numeral/__pv_it/23412ce59ea7e77353d2f9225e02248e73651ca00/expr.ipynb\"><img src=\"data:image/png;base64,iVBORw0KGgoAAAANSUhEUgAAAAoAAAAPBAMAAAAv0UM9AAAALVBMVEX///9mZmaqqqru7u52dnYy\n",
       "MjKYmJjc3NwQEBCIiIhEREQiIiJUVFTMzMwAAACUDTcXAAAAAXRSTlMAQObYZgAAAD5JREFUCNdj\n",
       "YGBguMMAArtABGcXiCyLApEOIJKtAERaMoBIBxDJdAFEmjCASJ0zZ16cBCkF64KQPu/EwBwGACv6\n",
       "DSRgin9qAAAAAElFTkSuQmCC\n",
       "\" style=\"display:inline;vertical-align:middle;\" /></a></td></tr>\n",
       "</table>\n"
      ],
      "text/plain": [
       "0. (a , a , a , a) in Complexes^{4}\n",
       "   core type: Operation\n",
       "   operator: 1\n",
       "   operands: 2\n",
       "1. in\n",
       "   core type: Literal\n",
       "   sub-expressions: \n",
       "2. ((a , a , a , a) , Complexes^{4})\n",
       "   core type: ExprTuple\n",
       "   sub-expressions: 3, 4\n",
       "3. (a , a , a , a)\n",
       "   core type: ExprTuple\n",
       "   sub-expressions: 5, 5, 5, 5\n",
       "4. Complexes^{4}\n",
       "   core type: Operation\n",
       "   operator: 6\n",
       "   operands: 7\n",
       "5. a\n",
       "   core type: Variable\n",
       "   sub-expressions: \n",
       "6. Exp\n",
       "   core type: Literal\n",
       "   sub-expressions: \n",
       "7. (Complexes , 4)\n",
       "   core type: ExprTuple\n",
       "   sub-expressions: 8, 9\n",
       "8. Complexes\n",
       "   core type: Literal\n",
       "   sub-expressions: \n",
       "9. 4\n",
       "   core type: Literal\n",
       "   sub-expressions: "
      ]
     },
     "execution_count": 4,
     "metadata": {},
     "output_type": "execute_result"
    }
   ],
   "source": [
    "# display the expression information\n",
    "expr.exprInfo()"
   ]
  },
  {
   "cell_type": "code",
   "execution_count": null,
   "metadata": {},
   "outputs": [],
   "source": []
  }
 ],
 "metadata": {
  "kernelspec": {
   "display_name": "Python 3",
   "language": "python",
   "name": "python3"
  }
 },
 "nbformat": 4,
 "nbformat_minor": 0
}
