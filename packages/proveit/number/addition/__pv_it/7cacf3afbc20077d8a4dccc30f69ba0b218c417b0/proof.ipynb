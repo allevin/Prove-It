{
 "cells": [
  {
   "cell_type": "markdown",
   "metadata": {},
   "source": [
    "Show the Proof\n",
    "========"
   ]
  },
  {
   "cell_type": "code",
   "execution_count": 1,
   "metadata": {},
   "outputs": [
    {
     "data": {
      "text/html": [
       "<table><tr><th>&nbsp;</th><th>step type</th><th>requirements</th><th>statement</th></tr>\n",
       "<tr><td>0</td><td>specialization</td><td>1, 2</td><td><span style=\"font-size:20px;\"> <a class=\"ProveItLink\" href=\"proof.ipynb\" style=\"text-decoration: none\">&#x22A2;&nbsp;</a><a class=\"ProveItLink\" href=\"../650dd85121aec7f4d63cb81be03af566583060880/expr.ipynb\"><img src=\"data:image/png;base64,iVBORw0KGgoAAAANSUhEUgAAAwoAAAAVBAMAAAAUfgTBAAAAMFBMVEX////c3NwiIiJERESqqqqY\n",
       "mJh2dnZmZmYQEBDu7u4yMjJUVFTMzMyIiIi6uroAAAAs73DqAAAAAXRSTlMAQObYZgAABbdJREFU\n",
       "WMPtWU9oXEUY/zbJZvdt/uzqRbCIoQf1ZHNIr7q3grC4XnLoQYKHBMTAophALTRqESMY14vE9JAl\n",
       "NUgTqFtQVKQkJxV6yN5U2tClpxIIiSZVFmrjzHw7++b7Zubt2+fFgwPzSOZ9vz/zfe/NezsP4P/2\n",
       "X2ijDey8vZqUjLV00xrahzhRcWEuqGtCCf07EhFvlnFhCnqr3furnXOp+atNyGwzxJX3ugsJoh+n\n",
       "JyjkIg8arqNCZJStJmDEpWoXXQLKxxMXXqBjwXdjvfpXECsRnN3p36F2K8L/NezBi+H5UzByDFDj\n",
       "LJvdq3ANUhU4aBBIjgflqm2FyKhNB4y4xEEXVPmow90ii6337F9Bat3Y3bOs2zCv/5GG6sEPW+H5\n",
       "7wHOAEzqqhbaf3Ty9inn1wOCaPAY8uFVICHpKRa1qxWcUeBTEzDiEm/pKQdU+hiqQt8hJcgXe/av\n",
       "IJN2lMHu82+p8Syb/rNiWHa4G57/sApbTVhu/zfQvjRGW/p8ic9CDwiiAXMWChIssKhFreCMAp/a\n",
       "IlCXeIks2FDlI7sIQ48owUG1V/8IWbajDHaPf1uNZ9n0vyf+3GPz+6oKl5rQX6RVGBzrWoU91O/c\n",
       "0QiZoFGjNa3gjAKP2mjNVQUFm+B+hI9cCzKsCq/17B8hOhElJ7vHv622F+F/Thzn7PNnqjBYoVXI\n",
       "3bxdpryfzd6hA3NsRUfIDLWTmdIKzijwqCHMdKnkJWyGZxV99LWou83db+hAML27HekfIToRJSe7\n",
       "x7+tNhfhf10c160qDP8psl+jVVgdh4eEd3gJ1qiQJBp+PXwsIeQlWoVcWSs4o8CjhjDDJcpLmIJm\n",
       "NlSrax8AO1OEIDiCPE36z83cWKR/hOhEmFEhu8e/rbYe4X9JHJfC8wFG5cbFErBAq/ByFT4gdpYb\n",
       "cJb6U0Twa1MTIeQ+rUK2qRUAPgcrCjxqCDNcoryE3ef3Avq4SnUHWpCdImX5GPrLkf4RohNRstkd\n",
       "swSPmpVl079c3R6F51fx4nhL1uqQVuECwF/Ezpa1ruJSmW1pIoTs0Kh8UytA8AeQqNTaadmaLrV8\n",
       "k7lE+R0IBTpN+ciMs5WwBvmKOTB02M0/QnQiSjY7n+WTyv/zLjUry6Z/VoVlRT5S11UQ9/naR3if\n",
       "PwujD6TmxsZzGxty7TxqV6czIIlS29D/QBMhZIdGqXQqBQjeBxoVNkvNrIIiP+pShdvMXZ/4JVAm\n",
       "jOPd/CNEJYJGaXY+y7BZalaWTf+XxfEyfy6cg1TBWpGOIUMed6m/rXtBEK22cBYGhK9IRa3gjAK3\n",
       "GsIMl235zoqUUZfh6fG2DxiowGP0ZirCpao58HSjm3+E8BWJsnv8W2o8y8S/XNnP8udGBdIFSLOn\n",
       "80O90GleYTZN/QmifA36ftdECDlP5yrXYlRwRoFHrZ8/nVFews7ze0FO6CeAV2gVttmTJi8Yy5H+\n",
       "EZKuWbM02D3+LTUry6b/zpuecf7x6ek3wXpT/Rreoen8FuANKiSIRspw0Hl7QAh7U5W8qOCMAo8a\n",
       "2jFcorzzTVUMpJ6ZnhkjBEPFTJ0OVGBwO9I/QvibKmX3+LfUrCyb/u+Jo+zzn3xZ7vxYODkRj81c\n",
       "k1bhyi9l9rib3a1SIUl0bv6LcJ9LQa6zn19jWsEZBR41CSMuUf66DVU++k5OTmgVgptvswVobve3\n",
       "aP8I0YkoOdk9/m21exH+s2JhyBZcO1t8B8P+qWnvALiIrB2MdyEqCnzkXphjB6MQy248//YORiGR\n",
       "fy9MdPd2mGyz3m3xfd+Ak2iwwaImISrK+1nBC7Oh1Mf+v/PfSUS8WULPyZG9vbNtV6mW4CuJi2jF\n",
       "tUXdPQpiw1bi+UjqP6glmmX85KyojwnYeRsqJJiFi+gGH0jV40RBbNiNeD6S+rcTcSqRfy9M9lQD\n",
       "O293kszCQTRifaqCpyBOVFyYC5pK+MUzXiLizTIuTPR/AC07scGsmOB0AAAAAElFTkSuQmCC\n",
       "\" style=\"display:inline;vertical-align:middle;\" /></a></span></td></tr>\n",
       "<tr><td>&nbsp;</td><td colspan=4 style=\"text-align:left\"><span style=\"font-size:20px;\"><a class=\"ProveItLink\" href=\"../25f6941e01c3f1a53c460cab763c2f3bbf4f84e30/expr.ipynb\"><img src=\"data:image/png;base64,iVBORw0KGgoAAAANSUhEUgAAAEUAAAAVBAMAAADiLT7tAAAAMFBMVEX///8yMjLMzMwQEBAiIiJm\n",
       "Zma6urqYmJiqqqp2dnZERETc3NyIiIhUVFTu7u4AAAAe+HC4AAAAAXRSTlMAQObYZgAAAQVJREFU\n",
       "KM9jYCAJ5GAVLYNQb89uAJJMF7CqYVUAUyv7C4Ak4wPsxguACL5vL0DUGRxOqAQRHB/AbDscah6D\n",
       "bXQAkWwCONRwNTAwsF/2DQCpnAAX5Z5zuycGzuMEyfIfADEZC+CiLxlKCkzgPA6QBfvBvmNOgItO\n",
       "YDjP0ATnsRkAiX4wkx+h5gHDLST3MIG8NAVdDQODDbqatWAmcwNCmPsTAx+qXRBNXAg3V/N8YDgH\n",
       "57ELgIIZ4UWIR75zGXAfQPE72z+IkcCQ7FoFBA/41sybeRzGAQYK0KE80AC2xh0XtTCHVOJQM4eB\n",
       "wfAJlI0jbfABramMhnkYexrj3YDM24NVzSEGBgDorz1wDkvJZwAAAABJRU5ErkJggg==\n",
       "\" style=\"display:inline;vertical-align:middle;\" /></a> : <a class=\"ProveItLink\" href=\"../950985a4855ab400933376b311c984472ed3f97f0/expr.ipynb\"><img src=\"data:image/png;base64,iVBORw0KGgoAAAANSUhEUgAAAW8AAAAVBAMAAAB73HI0AAAAMFBMVEX///+6uroyMjLMzMwQEBAi\n",
       "IiKYmJhmZmZUVFSIiIh2dnbc3Nzu7u5ERESqqqoAAABZrPngAAAAAXRSTlMAQObYZgAAAvxJREFU\n",
       "SMfllzFoE1EYx/9JkyZtLkkRHJwaDtQOFTIIiotVcKhoG0EXF+PgUpeQwWIXM4goIhaEYqGQLFIa\n",
       "FIMOCg7e0EkF6yI4SANOHcRUqaBU4rv3rnfvfffRpLGbHySXfvn/vv8/l3cvV+B/rshsuHe5R9Vu\n",
       "YbBuFjpqjgJ99SdNA0nkGdWL8gdsq2LcBIa0Y/bCw5mKVjpKRkUkRH6ZSC6sSlVQbW6vCruJ4dYq\n",
       "CR4ertVb75htkkZwehrqOCC+zKdNbPhvSGQqrEo6iLd4Faibhlm379PgU9sEX/OOww5p+JXxVl9M\n",
       "KL7pwSWyHFbFziC5zqtA3fThqNLgy10Ef4ROwfeoiyhYKhJJN0Oq6CYS67wK1M0YHgoeYKmlu2vX\n",
       "2eAj87fMhlWfzxuzZ+jqlMhgCYwqvsmrQN0MTA8u7QPsDa4UT3HBrT/I5o3gh4eiBWP2Affp2Egw\n",
       "WiKZHMIqHK/xKlA3A9ODS/sAq6GKL1zwzCZiNeOTjCNdNGafUFeRPLzzkcgYGNUhOcIJqUDdDEwF\n",
       "l5iyDzAH9/g1nsghW9IbyRZdht6ynRRzrQ0f6WsxqsSK+/y+YKqeXXDrnOFmYCq4xJR9X7A5YVxP\n",
       "Xbbt87btfvvxEoaLeiO7oj6Qbe8/adsVb/ZzYFXIrLM+ImcTFR6qPWHFVAXluVFMBZeYstew1A9Y\n",
       "3BkXG+sNR2+8nqVnfEIEbjsyuIbQpTLhvi7hFVgVqJuO6Wtc2QfY1YEWFtjgeZw2GyKfucY/isd3\n",
       "4FIDOtJPLk5XdUQYgVWBuumYHlzZ+1jmZ3osNcsFTzYTFbNRwqB54S+Kxxwiv7dIhdDtUKhSF+uL\n",
       "BV4F6qYP14Mre4F9/SzKsT49rs/B+8PcDu9cIxv7zPyCOXuv+3q6HNxkSSQ6FFLF2+12gVeBuunD\n",
       "pycPFn2JtCcY+wOEjr+csQbHL+9Ihd6Gc7WvY2PrTrm/xvFLO1Kht+H/WKPcfXyuNxV2CeuqXjK9\n",
       "ZKM3FXYJ66pSzH9XD3pUdYv9BTw0ISyNR0eUAAAAAElFTkSuQmCC\n",
       "\" style=\"display:inline;vertical-align:middle;\" /></a>, <a class=\"ProveItLink\" href=\"../../../../__pv_it/530be409e3083890784cf1d7b28c9e67e90af9360/expr.ipynb\"><img src=\"data:image/png;base64,iVBORw0KGgoAAAANSUhEUgAAAAsAAAAJBAMAAAAWSsseAAAAKlBMVEX///9ERETMzMwQEBAiIiKY\n",
       "mJju7u5mZmaqqqpUVFSIiIh2dnbc3NwAAAA/vyDhAAAAAXRSTlMAQObYZgAAAENJREFUCNdjYDi9\n",
       "8sTyBQxsG1hdmR0YuBm4LnAoMLAxcAowgADzAjB1VoEhgYH1wFoGrgSG3gBhhlMMDImrs3cFMAAA\n",
       "t0YN+iTRa+sAAAAASUVORK5CYII=\n",
       "\" style=\"display:inline;vertical-align:middle;\" /></a> : <a class=\"ProveItLink\" href=\"../659e18478bae3085d8de164ba18217f8e918b5df0/expr.ipynb\"><img src=\"data:image/png;base64,iVBORw0KGgoAAAANSUhEUgAAACIAAAAPBAMAAABzWwAZAAAAMFBMVEX///92dnbMzMyqqqq6urrc\n",
       "3NwiIiKYmJgyMjIQEBBmZmaIiIhUVFTu7u5EREQAAAARlLgAAAAAAXRSTlMAQObYZgAAAHpJREFU\n",
       "GNNjYGB4ywAHUSueAMl7f+ECrAcY9hsw3DmDEOG5wMD2gYGBGyHCOZeB5wuKCMdfBi5UESBg+4su\n",
       "oi8AF7kLEeljgInwfgMLcD1AiMwDi+xhYEA1h3kBQyiqiBYDQymKCGuioFQCA9fKH8vhjvn//38C\n",
       "AwYAAEUsJxGvo1tAAAAAAElFTkSuQmCC\n",
       "\" style=\"display:inline;vertical-align:middle;\" /></a>, <a class=\"ProveItLink\" href=\"../../../../__pv_it/f8b9edf8e16034727f0aad55bb83e392c3db40d40/expr.ipynb\"><img src=\"data:image/png;base64,iVBORw0KGgoAAAANSUhEUgAAAAsAAAANBAMAAACN24kIAAAAMFBMVEX///+YmJhUVFQyMjIQEBBE\n",
       "REQiIiKqqqrMzMyIiIi6urrc3NxmZmZ2dnbu7u4AAADXeCicAAAAAXRSTlMAQObYZgAAAFhJREFU\n",
       "CNdj4LtzgWH/AwZerg8M8xkY2nkSGEIZGB6wTGD4ycDAUP+A4weQOszA6QCkbBhYFYDUIYb1AkDq\n",
       "6czzGxhA4BoQMyXwuQMptgusF4AU+8xTQBIAUqMVoSp/SLMAAAAASUVORK5CYII=\n",
       "\" style=\"display:inline;vertical-align:middle;\" /></a> : <a class=\"ProveItLink\" href=\"../../../numeral/__pv_it/77d407a64829263cdc16415becd4c2293f77a4bf0/expr.ipynb\"><img src=\"data:image/png;base64,iVBORw0KGgoAAAANSUhEUgAAAAkAAAAOBAMAAAAPuiubAAAAMFBMVEX///+YmJh2dnbMzMwQEBAi\n",
       "IiLu7u6qqqqIiIhUVFS6urpEREQyMjJmZmbc3NwAAACOMKdoAAAAAXRSTlMAQObYZgAAAFBJREFU\n",
       "CNdj4Lt7egEDw0sGju8MDNMYGOIZGFwSGOYvYDifwHAfKAEUSQASzJ9ATJ4NIPI2iOCYACJrGfge\n",
       "MDBfYGB8wPBUSekqUPH//18ZAIliFhc3zESNAAAAAElFTkSuQmCC\n",
       "\" style=\"display:inline;vertical-align:middle;\" /></a></span></td></tr><tr><td>1</td><td>axiom</td><td></td><td><span style=\"font-size:20px;\"> <a class=\"ProveItLink\" href=\"../../../../logic/equality/_axioms_.ipynb#substitution\" style=\"text-decoration: none\">&#x22A2;&nbsp;</a><a class=\"ProveItLink\" href=\"../398f54eae8bb3b5e6faf9c5a7a2ed97d055770700/expr.ipynb\"><img src=\"data:image/png;base64,iVBORw0KGgoAAAANSUhEUgAAAO8AAAAXBAMAAAARnwX+AAAAMFBMVEX///8QEBC6urrMzMxUVFRm\n",
       "ZmZERETc3NwyMjKqqqp2dnaIiIiYmJgiIiLu7u4AAAAU9Wx4AAAAAXRSTlMAQObYZgAAAvdJREFU\n",
       "SMfFVj1oFEEUfvef293bHKayECJYpIk5wcYqRyRGTBPUQgyiNonCgVuI8QfNIggWEq5QsLttDglB\n",
       "OTAemhRZJIVoc7UorE0QLXIYMIUiznszO7O3uznJQfDBm/123jfzZt+99+YA/pd4vS5MNqLYGPw3\n",
       "/63QFr586MHxURzMyQmJUc7EEEOcTInrIr4s9OCY1mQXf3es74shhjk21xvskbu0e786RW7zcFVi\n",
       "irUTZYY577n2sR85U9294wQlRy2AKazFKDPM+cLVeDY3d7eHSA/ReCGASa5GmWFOtsr158zMxx4c\n",
       "n8dh/cC4j28v33rFolmPEBXHrDsw74E2BaTHAWYxSOON6O5dquMRjb98bDrGpwSrkKeUuA9JytDJ\n",
       "0ZJtWAPI21wPgYl5llmZiu7eJen24ZDb8rEGejvPiuRghKg4xzItmGEFXeRaAN1lhkLc13Vx/AOH\n",
       "fNvHJqSJPBohKo6XaODnp9pcdbeACdfv9eBYaymcaMQ7DnBqXmpLOTZt7CnGtWk0L40ts3glmyL7\n",
       "uWM+SW2vKctiPyVoWeH5ErZfCnXmMwlfHeCcA72oQg2zY2h4R6fzTiRYon/vt46oL6bJk5gtDWkA\n",
       "qKivRGxYa6B7YpvOgpcceECnMGyu8IRiQXWQ5Ml6bxiayrGY7DAI/uagj2vuZbgDceWkOHAWRlyQ\n",
       "5SSOVOG0bRpPwWTwN96Wu/gGgGEcRjwfb6x8W8IcvR9xrDiwsXrRYr1ykCsYniwPSBVT/GUg4Bgn\n",
       "r1CopYEdl20BrwN4p5bZwXmuWqa/4g/ATWtUszX2gIFkWzmmSSG+ga4Do1wJXw1auAsFOemWiSm2\n",
       "JBTEVzEP7sab6RfsAY+btnJMk0J8A11ziYVW8IpE+RpJrQCn4GQdoHZl2upk+Gu7HLs5K92IrWNp\n",
       "YHIdjLolsZCJsOMgJ796mj3TFldxga+zSk3x15SVdYbiG4g04CECUfWxXtq54/icl0LF/xEMuiEO\n",
       "yY7mxDuWhr2W8t5t/RfNBeNeS11EOAAAAABJRU5ErkJggg==\n",
       "\" style=\"display:inline;vertical-align:middle;\" /></a></span></td></tr>\n",
       "<tr><td>&nbsp;</td><td colspan=4 style-\"text-align:left\"><a class=\"ProveItLink\" href=\"../../../../logic/equality/_axioms_.ipynb#substitution\">proveit.logic.equality.substitution</a></td></tr><tr><td>2</td><td>theorem</td><td></td><td><span style=\"font-size:20px;\"> <a class=\"ProveItLink\" href=\"../../../numeral/deci/_proofs_/mult_1_2.ipynb\" style=\"text-decoration: none\">&#x22A2;&nbsp;</a><a class=\"ProveItLink\" href=\"../../../numeral/deci/__pv_it/fa57aacdebccac68bd6a2c4c50f2eb8e7102aaa60/expr.ipynb\"><img src=\"data:image/png;base64,iVBORw0KGgoAAAANSUhEUgAAAFcAAAAVBAMAAADBdm84AAAAMFBMVEX////c3NwiIiJERESqqqqY\n",
       "mJh2dnZmZmYQEBDu7u4yMjJUVFTMzMyIiIi6uroAAAAs73DqAAAAAXRSTlMAQObYZgAAAR9JREFU\n",
       "KM9jYCAJ8F3AFIvDpfg0EDNPgHMZyxc/YGA/gK4KLMzAsJKBgdMeoViagfcLA8MCdMUQYd4LDJy7\n",
       "9yMU72Rg0GdgCENXDBHmAKm7j1DcMYFh/wOGGeiKIcKvGFAVr5/AUP+AgdkBTTFEuAxNMRDoT2Bg\n",
       "K8AMCaDwUgzFPN8YGFjAPqxaBQKrEcJ9CMWcEC1cBsDAb8AwGCT8D6F4vgJYtBhkzAcMxSBhJMUz\n",
       "DEAk7wasisHCLehudmdgFIA6o0gJBJQRwqZoinkKGFgFGFjRoxAinI6mWCgtrYgBM+ggwo+ArPL+\n",
       "5QHw0Pz//xPQ6w/QAxkszCGALSnOwJ5CWROwiebiSM8rsYhxLsChWBqLGLcADsWMWLLVHexKAdfT\n",
       "V45jFfkQAAAAAElFTkSuQmCC\n",
       "\" style=\"display:inline;vertical-align:middle;\" /></a></span></td></tr>\n",
       "<tr><td>&nbsp;</td><td colspan=4 style-\"text-align:left\"><a class=\"ProveItLink\" href=\"../../../numeral/deci/_proofs_/mult_1_2.ipynb\">proveit.number.numeral.deci.mult_1_2</a></td></tr></table>"
      ],
      "text/plain": [
       "<proveit._core_.proof._ShowProof at 0x7f9500036a58>"
      ]
     },
     "execution_count": 1,
     "metadata": {},
     "output_type": "execute_result"
    }
   ],
   "source": [
    "import proveit\n",
    "%show_proof"
   ]
  },
  {
   "cell_type": "code",
   "execution_count": null,
   "metadata": {},
   "outputs": [],
   "source": []
  }
 ],
 "metadata": {
  "kernelspec": {
   "display_name": "Python 3",
   "language": "python",
   "name": "python3"
  }
 },
 "nbformat": 4,
 "nbformat_minor": 0
}
