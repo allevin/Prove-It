{
 "cells": [
  {
   "cell_type": "markdown",
   "metadata": {},
   "source": [
    "Expression of type <a class=\"ProveItLink\" href=\"../../../../../../doc/html/api/proveit.logic.InSet.html\">InSet</a>\n",
    "=======================\n",
    "# from context <a class=\"ProveItLink\" href=\"../../_context_.ipynb\">proveit.number.addition</a>"
   ]
  },
  {
   "cell_type": "code",
   "execution_count": 1,
   "metadata": {},
   "outputs": [],
   "source": [
    "# import Expression classes needed to build the expression\n",
    "from proveit._common_ import c\n",
    "from proveit.logic import InSet\n",
    "from proveit.number import Add, Complexes"
   ]
  },
  {
   "cell_type": "code",
   "execution_count": 2,
   "metadata": {},
   "outputs": [
    {
     "data": {
      "text/html": [
       "<strong id=\"expr\">expr:</strong> <a class=\"ProveItLink\" href=\"expr.ipynb\"><img src=\"data:image/png;base64,iVBORw0KGgoAAAANSUhEUgAAAIQAAAAVBAMAAAB1UFtyAAAAMFBMVEX////c3NwiIiJERESqqqqY\n",
       "mJh2dnZmZmYQEBDu7u4yMjJUVFTMzMyIiIi6uroAAAAs73DqAAAAAXRSTlMAQObYZgAAAZZJREFU\n",
       "OMtjYKAC4LtApMI4nDKnibWL/QCG0KVVP5QLGBhWEu3eBegC5/4xTPu7gYEX2R8T0RVxCiBxwtAk\n",
       "WbkDGBj8NzBwTEAS9EU3ggXZghlQY28pKYEdFMkB8t4GhlcMRBvB7ACmTkVC+QXSIAMvMJSBqLS7\n",
       "B1CMgAvAjAALsBWAmIyWMEUFzyCMpUB84gGXAooRcAGYEWABFrDzmWHBw5PgCmH0AY3rZWAOQDYC\n",
       "IQA1AiLA1wBiT2aAG/EUwvjHwMD9AS0sEAJQIyACPGDyhZISJDg5DY7BjeA3ALOqVq3SWLVqNQNc\n",
       "gH3VqkVdq1ZtgAlAjEAkxZXcELqFgUH+AporEAJQV0AEIB6ZhEgnYCMmMJgC7QD6GyUsEAJQIyAC\n",
       "rODg5A6AR3IcUJZPkyEdKFjAwIYSqQgBWFiABSCRyqkHd8Zu2wnzjCcwPAIyy+7eRE1acAFYpIIF\n",
       "uB6A2VI18Dgp+t8NFOMQIDWBM3gvUkLJcawJSJy3eAuTXFxZmOjMzrkAl4w0sUZwC+CSYSS24LuD\n",
       "QxwAgJly+s2gRaMAAAAASUVORK5CYII=\n",
       "\" style=\"display:inline;vertical-align:middle;\" /></a><br>"
      ],
      "text/plain": [
       "expr: (c + c + c) in Complexes"
      ]
     },
     "execution_count": 2,
     "metadata": {},
     "output_type": "execute_result"
    }
   ],
   "source": [
    "# build up the expression from sub-expressions\n",
    "expr = InSet(Add(c, c, c), Complexes)"
   ]
  },
  {
   "cell_type": "code",
   "execution_count": 3,
   "metadata": {},
   "outputs": [
    {
     "name": "stdout",
     "output_type": "stream",
     "text": [
      "Passed sanity check: built 'expr' is the same as the stored Expression.\n"
     ]
    }
   ],
   "source": [
    "# check that the built expression is the same as the stored expression\n",
    "%check_expr"
   ]
  },
  {
   "cell_type": "code",
   "execution_count": 4,
   "metadata": {},
   "outputs": [
    {
     "data": {
      "text/html": [
       "<table><tr><th>&nbsp;</th><th>core type</th><th>sub-expressions</th><th>expression</th></tr>\n",
       "<tr><td>0</td><td>Operation</td><td>operator:&nbsp;1<br>operands:&nbsp;2<br></td><td><a class=\"ProveItLink\" href=\"expr.ipynb\"><img src=\"data:image/png;base64,iVBORw0KGgoAAAANSUhEUgAAAIQAAAAVBAMAAAB1UFtyAAAAMFBMVEX////c3NwiIiJERESqqqqY\n",
       "mJh2dnZmZmYQEBDu7u4yMjJUVFTMzMyIiIi6uroAAAAs73DqAAAAAXRSTlMAQObYZgAAAZZJREFU\n",
       "OMtjYKAC4LtApMI4nDKnibWL/QCG0KVVP5QLGBhWEu3eBegC5/4xTPu7gYEX2R8T0RVxCiBxwtAk\n",
       "WbkDGBj8NzBwTEAS9EU3ggXZghlQY28pKYEdFMkB8t4GhlcMRBvB7ACmTkVC+QXSIAMvMJSBqLS7\n",
       "B1CMgAvAjAALsBWAmIyWMEUFzyCMpUB84gGXAooRcAGYEWABFrDzmWHBw5PgCmH0AY3rZWAOQDYC\n",
       "IQA1AiLA1wBiT2aAG/EUwvjHwMD9AS0sEAJQIyACPGDyhZISJDg5DY7BjeA3ALOqVq3SWLVqNQNc\n",
       "gH3VqkVdq1ZtgAlAjEAkxZXcELqFgUH+AporEAJQV0AEIB6ZhEgnYCMmMJgC7QD6GyUsEAJQIyAC\n",
       "rODg5A6AR3IcUJZPkyEdKFjAwIYSqQgBWFiABSCRyqkHd8Zu2wnzjCcwPAIyy+7eRE1acAFYpIIF\n",
       "uB6A2VI18Dgp+t8NFOMQIDWBM3gvUkLJcawJSJy3eAuTXFxZmOjMzrkAl4w0sUZwC+CSYSS24LuD\n",
       "QxwAgJly+s2gRaMAAAAASUVORK5CYII=\n",
       "\" style=\"display:inline;vertical-align:middle;\" /></a></td></tr>\n",
       "<tr><td>1</td><td>Literal</td><td></td><td><a class=\"ProveItLink\" href=\"../../../../logic/set_theory/membership/__pv_it/088cbc857536a28d4119ad9639a84270ccb0545d0/expr.ipynb\"><img src=\"data:image/png;base64,iVBORw0KGgoAAAANSUhEUgAAAAwAAAAMBAMAAACkW0HUAAAALVBMVEX///+qqqpmZmZUVFQQEBC6\n",
       "urpERETc3NyYmJjMzMwiIiIyMjKIiIju7u4AAACYsrA9AAAAAXRSTlMAQObYZgAAADxJREFUCNdj\n",
       "YOA9vWrVBgaG2b0MQMCeCyIZ2ArA1DUwyRCyahVIyWQI7xaEYm4AU7xLIdxqTQgtvGvVBgCkcQ7e\n",
       "geM/tQAAAABJRU5ErkJggg==\n",
       "\" style=\"display:inline;vertical-align:middle;\" /></a></td></tr>\n",
       "<tr><td>2</td><td>ExprTuple</td><td>3, 4</td><td><a class=\"ProveItLink\" href=\"../443093ebe578828e1d2e4eb23bbd810f1a049b5c0/expr.ipynb\"><img src=\"data:image/png;base64,iVBORw0KGgoAAAANSUhEUgAAAHIAAAAVBAMAAABoAqesAAAAMFBMVEX////c3NwiIiJERESqqqqY\n",
       "mJh2dnZmZmYQEBDu7u4yMjJUVFTMzMyIiIi6uroAAAAs73DqAAAAAXRSTlMAQObYZgAAAWxJREFU\n",
       "OMtjYCAf8F0gQxPrAyBxmkRNl1b9UC5gqAGyVpKm8dw/hml/NzBwMTDwIjt2Iro6TgF0Z3IHMDD4\n",
       "b2BgTWDgmIAk7ouukwU9ECI5gAT7BgbOBoZXDCTpLJAGuQQoasJQBmKl3T2AohMuANMJE+AseAZV\n",
       "ks6wFEieeMClgKITLgDTCRPgSXCFKvFi6AMa1MvAHICsEyEA1QkX4El4CtX5guEfAwP3BzR/IgSg\n",
       "OuECnAbHoKzzIJ38BmB21apVGqtWrWaAC7CvWrWoa9WqDXABUOxzw3W2MDDIX0CzEyEAtRMhEAbW\n",
       "OQHkWlOgiUAvoPgTIQDVCRbgBLGY44AifJoMDFHA0GXgLmBgQ4kVhADMnyCB+eDQ3W07YZ7xBFCs\n",
       "PALyyu7eRE0JcAFYrIAEZnwEh27R/25QRlnHwCFAdBp6iJygG0BJFwHe4s28AUhstguk5DJknbOA\n",
       "WJpYjbzInI1AzEhOacJ7gAEAUHpsj86M7jcAAAAASUVORK5CYII=\n",
       "\" style=\"display:inline;vertical-align:middle;\" /></a></td></tr>\n",
       "<tr><td>3</td><td>Operation</td><td>operator:&nbsp;5<br>operands:&nbsp;6<br></td><td><a class=\"ProveItLink\" href=\"../794b7170b8a2a7f3a9488eaf29c486ed5d13a4530/expr.ipynb\"><img src=\"data:image/png;base64,iVBORw0KGgoAAAANSUhEUgAAAE4AAAAOBAMAAABz3DdCAAAAMFBMVEX///+qqqpmZmbc3NxUVFSY\n",
       "mJhEREQiIiIyMjK6uroQEBDMzMyIiIh2dnbu7u4AAAA4MM1YAAAAAXRSTlMAQObYZgAAALFJREFU\n",
       "KM9jYICDxwxogM+AARuQQRdgPECOOr67ZzagqIMLwNW9vXOagWHXBI4CFHVwAZg67pUM7Qx8axjY\n",
       "ApDVIQRg6l4dYEhlYPmA5j6EAEydP4jgTwCzNTo6qjo6WhACTB0d7Ss6OhyAzG8gvv0BNPMQAlDz\n",
       "mP+AzQO6BcV9CAGYvV8ZGFgZWBQYeFHCBSEAU+fEwHCbgUH3zDnUcIYLwNQx3TnzgIx4m4MuwImk\n",
       "DgDaMTWEahh+dwAAAABJRU5ErkJggg==\n",
       "\" style=\"display:inline;vertical-align:middle;\" /></a></td></tr>\n",
       "<tr><td>4</td><td>Literal</td><td></td><td><a class=\"ProveItLink\" href=\"../../../sets/complex/__pv_it/c357845f93a5a2d9f649129d299e7ec28dda4b960/expr.ipynb\"><img src=\"data:image/png;base64,iVBORw0KGgoAAAANSUhEUgAAAA8AAAAOBAMAAAACpFvcAAAAMFBMVEX////c3NyqqqqYmJhUVFR2\n",
       "dnbu7u66urrMzMxmZmZEREQQEBAyMjIiIiKIiIgAAAB7fvZ0AAAAAXRSTlMAQObYZgAAAGVJREFU\n",
       "CNdjYGDgu3N+70oGBgaO+gK2+CdAhoEzAwPTFwYG5oQNQN4UBgZORgcgI4+BIZM9gAEMWpkMoAx2\n",
       "KCOLAyrFk+AAYTAHgBhsQLy4DkjUJjAwsHg9Y6taBpLsvP/bnYEBACkBFGQfBv8RAAAAAElFTkSu\n",
       "QmCC\n",
       "\" style=\"display:inline;vertical-align:middle;\" /></a></td></tr>\n",
       "<tr><td>5</td><td>Literal</td><td></td><td><a class=\"ProveItLink\" href=\"../3e6688136fa3c7aefbebe51301b7c3ebf0b69c440/expr.ipynb\"><img src=\"data:image/png;base64,iVBORw0KGgoAAAANSUhEUgAAAA4AAAAOBAMAAADtZjDiAAAAJFBMVEX///+6urpUVFQQEBAiIiIy\n",
       "MjJmZmaIiIiqqqrc3Nzu7u4AAACgHpL+AAAAAXRSTlMAQObYZgAAAB5JREFUCNdjYGBgWMkAAe2k\n",
       "0Kmhoc6hoUGk6BMHYgAHOwjcado9fwAAAABJRU5ErkJggg==\n",
       "\" style=\"display:inline;vertical-align:middle;\" /></a></td></tr>\n",
       "<tr><td>6</td><td>ExprTuple</td><td>7, 7, 7</td><td><a class=\"ProveItLink\" href=\"../86a607d788a57bb994e75964e5003873eaa726b10/expr.ipynb\"><img src=\"data:image/png;base64,iVBORw0KGgoAAAANSUhEUgAAADkAAAAVBAMAAAAOWFv7AAAAMFBMVEX////c3NwiIiJERESqqqqY\n",
       "mJh2dnZmZmYQEBDu7u4yMjJUVFTMzMyIiIi6uroAAAAs73DqAAAAAXRSTlMAQObYZgAAANZJREFU\n",
       "KM9jYMAP+C7gkIgDEadxaWM/ACRW4jR1AQMD7wWcsmEMDBwTcMrOYGB4hdu9zA4MZUCKM+3uATAf\n",
       "lcFWwLAUyD7xgEsBLIjKYFnA0AdU2MvAHADWgcrga2D4x8DA/QFqERqD5wNIlt8AKojGAMq2MDDI\n",
       "w7yMxgCabApUCbQrgJMBncHAuoAhHWhLAQPbgfkK6AyQjx4BlZbdvckw4yM6g4HrAQOHANSuhwzo\n",
       "DGBIsiZA2QEM6IxcpBjEkOUExiCDNITNC5OEM7hBdjLiiuA7DAwAx3NBG0TfR+4AAAAASUVORK5C\n",
       "YII=\n",
       "\" style=\"display:inline;vertical-align:middle;\" /></a></td></tr>\n",
       "<tr><td>7</td><td>Variable</td><td></td><td><a class=\"ProveItLink\" href=\"../../../../__pv_it/cbdfda466482236edba0ce44ac7ef39cda0af7a40/expr.ipynb\"><img src=\"data:image/png;base64,iVBORw0KGgoAAAANSUhEUgAAAAkAAAAJBAMAAAASvxsjAAAALVBMVEX///9mZmbc3NxUVFSYmJhE\n",
       "REQiIiIyMjK6uroQEBDMzMyIiIh2dnbu7u4AAABgFDGoAAAAAXRSTlMAQObYZgAAADZJREFUCNdj\n",
       "YOA9s3sBA8PKBvYEBt7ZDKwODMwPGICALwBE6m0Asx0YGIDiAgw8QJUyu/cyAAAmuwmycZ8WfQAA\n",
       "AABJRU5ErkJggg==\n",
       "\" style=\"display:inline;vertical-align:middle;\" /></a></td></tr>\n",
       "</table>\n"
      ],
      "text/plain": [
       "0. (c + c + c) in Complexes\n",
       "   core type: Operation\n",
       "   operator: 1\n",
       "   operands: 2\n",
       "1. in\n",
       "   core type: Literal\n",
       "   sub-expressions: \n",
       "2. (c + c + c , Complexes)\n",
       "   core type: ExprTuple\n",
       "   sub-expressions: 3, 4\n",
       "3. c + c + c\n",
       "   core type: Operation\n",
       "   operator: 5\n",
       "   operands: 6\n",
       "4. Complexes\n",
       "   core type: Literal\n",
       "   sub-expressions: \n",
       "5. +\n",
       "   core type: Literal\n",
       "   sub-expressions: \n",
       "6. (c , c , c)\n",
       "   core type: ExprTuple\n",
       "   sub-expressions: 7, 7, 7\n",
       "7. c\n",
       "   core type: Variable\n",
       "   sub-expressions: "
      ]
     },
     "execution_count": 4,
     "metadata": {},
     "output_type": "execute_result"
    }
   ],
   "source": [
    "# display the expression information\n",
    "expr.exprInfo()"
   ]
  },
  {
   "cell_type": "code",
   "execution_count": null,
   "metadata": {},
   "outputs": [],
   "source": []
  }
 ],
 "metadata": {
  "kernelspec": {
   "display_name": "Python 3",
   "language": "python",
   "name": "python3"
  }
 },
 "nbformat": 4,
 "nbformat_minor": 0
}
