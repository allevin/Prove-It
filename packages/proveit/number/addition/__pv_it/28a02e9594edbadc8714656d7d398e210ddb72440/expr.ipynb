{
 "cells": [
  {
   "cell_type": "markdown",
   "metadata": {},
   "source": [
    "Expression of type <a class=\"ProveItLink\" href=\"../../../../../../doc/html/api/proveit.Lambda.html\">Lambda</a>\n",
    "=======================\n",
    "# from context <a class=\"ProveItLink\" href=\"../../_context_.ipynb\">proveit.number.addition</a>"
   ]
  },
  {
   "cell_type": "code",
   "execution_count": 1,
   "metadata": {},
   "outputs": [],
   "source": [
    "# import Expression classes needed to build the expression\n",
    "from proveit import Lambda\n",
    "from proveit._common_ import A, B, C\n",
    "from proveit.logic import Subset"
   ]
  },
  {
   "cell_type": "code",
   "execution_count": 2,
   "metadata": {},
   "outputs": [
    {
     "data": {
      "text/html": [
       "<strong id=\"expr\">expr:</strong> <a class=\"ProveItLink\" href=\"expr.ipynb\"><img src=\"data:image/png;base64,iVBORw0KGgoAAAANSUhEUgAAAM4AAAAVCAMAAAA5OCEaAAAANlBMVEX///8UFBQNDQ3MzMyqqqoi\n",
       "IiIyMjK6uroQEBB2dnbc3NyYmJhmZmZUVFRERESIiIju7u4AAAAKhZlwAAAAAXRSTlMAQObYZgAA\n",
       "AilJREFUWMPNV1d2xCAMdELv6P6XzcZVgAz286bw4/U+PKM2QkzT/1jc/h23Ss++d6r5y6g32pdT\n",
       "DN67yforu1ko3sR9Ds8G7rgAEF4rSnXffKPdHHS/PEdL5uINLnlTcshhdnScHx7UTegsxWqfgSsV\n",
       "nIpScwLyhfhVHM4M3GGQ1me4CS31Zo/SV+KssfmW+zoGSYplIQtrjqwH7qQV1YEZYFfQHvhu2xXp\n",
       "qKJQ0otYlVJKbbZajsj77sTVX4GDR2FX0BYO8/Ku0LK2Oeb2OFwqTxyw4Kwg6pXgML7vzlJjVsbc\n",
       "x66hPVDyr7pVQKAS7c/qqPJ1J6VcgoPLrjsvyaSUvCi+o7BraEHKv3Inh2OTRqBqjo/HuqTqk+Co\n",
       "ZVq5s0onizDArqEB9dkjB58folj6EAiSCvs+GgLEsyOpw8Gg684mnYSCT2LX0Pp45+wsOzjPyJ3l\n",
       "l5YjdwiOgTtbe8aNjcSuocNxbPjTYvMoo3rvC3xrPudVugaj5egXG9uSEoD3sWvoQ8kmn33JsNij\n",
       "248cYizwnJqKWg7XbQXbqYP7Fo3dQLslAApnYCpnzKLZby12V2bEY0EWVGtrOfqNepUO08U8RWI3\n",
       "0CzI1wDHL4/Tc+Zs1CDncSUCyKK3tfMlwVGPltgdH5f5U0pXzzME9k3zW/UNBjsVZDPkNIPWaMh5\n",
       "gH33tmKeY5j0k/ede0vmpwh5fEH4vWXDU4Rg/5E7k314uU6toNN73PkC38AY7u5xxxkAAAAASUVO\n",
       "RK5CYII=\n",
       "\" style=\"display:inline;vertical-align:middle;\" /></a><br>"
      ],
      "text/plain": [
       "expr: C -> (A subset C) | B subset C"
      ]
     },
     "execution_count": 2,
     "metadata": {},
     "output_type": "execute_result"
    }
   ],
   "source": [
    "# build up the expression from sub-expressions\n",
    "expr = Lambda(C, Subset(A, C), conditions = [Subset(B, C)])"
   ]
  },
  {
   "cell_type": "code",
   "execution_count": 3,
   "metadata": {},
   "outputs": [
    {
     "name": "stdout",
     "output_type": "stream",
     "text": [
      "Passed sanity check: built 'expr' is the same as the stored Expression.\n"
     ]
    }
   ],
   "source": [
    "# check that the built expression is the same as the stored expression\n",
    "%check_expr"
   ]
  },
  {
   "cell_type": "code",
   "execution_count": 4,
   "metadata": {},
   "outputs": [
    {
     "data": {
      "text/html": [
       "<table><tr><th>&nbsp;</th><th>core type</th><th>sub-expressions</th><th>expression</th></tr>\n",
       "<tr><td>0</td><td>Lambda</td><td>parameter:&nbsp;9<br>body:&nbsp;1<br>conditions:&nbsp;2<br></td><td><a class=\"ProveItLink\" href=\"expr.ipynb\"><img src=\"data:image/png;base64,iVBORw0KGgoAAAANSUhEUgAAAM4AAAAVCAMAAAA5OCEaAAAANlBMVEX///8UFBQNDQ3MzMyqqqoi\n",
       "IiIyMjK6uroQEBB2dnbc3NyYmJhmZmZUVFRERESIiIju7u4AAAAKhZlwAAAAAXRSTlMAQObYZgAA\n",
       "AilJREFUWMPNV1d2xCAMdELv6P6XzcZVgAz286bw4/U+PKM2QkzT/1jc/h23Ss++d6r5y6g32pdT\n",
       "DN67yforu1ko3sR9Ds8G7rgAEF4rSnXffKPdHHS/PEdL5uINLnlTcshhdnScHx7UTegsxWqfgSsV\n",
       "nIpScwLyhfhVHM4M3GGQ1me4CS31Zo/SV+KssfmW+zoGSYplIQtrjqwH7qQV1YEZYFfQHvhu2xXp\n",
       "qKJQ0otYlVJKbbZajsj77sTVX4GDR2FX0BYO8/Ku0LK2Oeb2OFwqTxyw4Kwg6pXgML7vzlJjVsbc\n",
       "x66hPVDyr7pVQKAS7c/qqPJ1J6VcgoPLrjsvyaSUvCi+o7BraEHKv3Inh2OTRqBqjo/HuqTqk+Co\n",
       "ZVq5s0onizDArqEB9dkjB58folj6EAiSCvs+GgLEsyOpw8Gg684mnYSCT2LX0Pp45+wsOzjPyJ3l\n",
       "l5YjdwiOgTtbe8aNjcSuocNxbPjTYvMoo3rvC3xrPudVugaj5egXG9uSEoD3sWvoQ8kmn33JsNij\n",
       "248cYizwnJqKWg7XbQXbqYP7Fo3dQLslAApnYCpnzKLZby12V2bEY0EWVGtrOfqNepUO08U8RWI3\n",
       "0CzI1wDHL4/Tc+Zs1CDncSUCyKK3tfMlwVGPltgdH5f5U0pXzzME9k3zW/UNBjsVZDPkNIPWaMh5\n",
       "gH33tmKeY5j0k/ede0vmpwh5fEH4vWXDU4Rg/5E7k314uU6toNN73PkC38AY7u5xxxkAAAAASUVO\n",
       "RK5CYII=\n",
       "\" style=\"display:inline;vertical-align:middle;\" /></a></td></tr>\n",
       "<tr><td>1</td><td>Operation</td><td>operator:&nbsp;6<br>operands:&nbsp;3<br></td><td><a class=\"ProveItLink\" href=\"../74b14552e19acc1c59cd132c069a2cac648841740/expr.ipynb\"><img src=\"data:image/png;base64,iVBORw0KGgoAAAANSUhEUgAAADsAAAAPBAMAAACo4Ko7AAAAMFBMVEX///92dnYQEBBERERUVFS6\n",
       "urqIiIhmZmaqqqrc3Nzu7u6YmJgyMjIiIiLMzMwAAACFkkdwAAAAAXRSTlMAQObYZgAAANxJREFU\n",
       "GNNjYACBtwwYgCvZvZqzAMI+jykttIGBtWgDmMl9fwG67JpbQEJ+Apg9ox5CM+TcvXv3Kph1CKQh\n",
       "CCKakB8AcUIWTDP7DxA5HcxmXdAPtoTzJtzs+QdA5DoweynD+wQQzRIAl67fgHBGAMN8sA/WIITu\n",
       "T4Az+Vxc/A1AjCcI6f9gEuwfVgYGpgNo0vogguMBiGxgYOBVADF4EdL+II3sYPcCpXk+gH3TAJcG\n",
       "u1UK5iDmX+BgvgqX5gb6OxzkvMn6Jxm47f9AnF4Hl39ypLwBIx5CzsICFQoA7iE6u84KEG0AAAAA\n",
       "SUVORK5CYII=\n",
       "\" style=\"display:inline;vertical-align:middle;\" /></a></td></tr>\n",
       "<tr><td>2</td><td>ExprTuple</td><td>4</td><td><a class=\"ProveItLink\" href=\"../29e91bd27418dc587718bf4f998fa14adfa27a190/expr.ipynb\"><img src=\"data:image/png;base64,iVBORw0KGgoAAAANSUhEUgAAAEkAAAAVBAMAAAD4Ed5jAAAAMFBMVEX////c3NwiIiJERESqqqqY\n",
       "mJh2dnZmZmYQEBDu7u4yMjJUVFTMzMyIiIi6uroAAAAs73DqAAAAAXRSTlMAQObYZgAAAV1JREFU\n",
       "KM9jYCAO8F0goCAORJwG4uj/u3dbPcCQ57y8vZSxgP0AkLkSxG9mYGD/h6EqI4CBryKAYQEDAy/I\n",
       "Qp6/QPwbXdEsTSCRL8AQxsDAMQHI5P3IwMD6DSJ3S0lJSQ/MWgGSesHAMIOB4RWIz9zAwMDUCZY6\n",
       "dBNmFPsXECkOlHVgKAMx+TcwMC4G6WRgVIRbKL8ARM5hYGArYFgKYp7fe7coACzFjfBpfQCUwbKA\n",
       "oQ9E3xdg4NSGuBjheH0BWIg2MID9bwFSGQALPSj4DyaB7uD5AFEFCoT4BDRV/WDbDoBVtYCC6yuQ\n",
       "2O8AEmVCqNoP8g47xEZTaHAx/oJ43wGu6jwovDOBmHUBQzo0uE6shESdHlwVKzC8noN8AAyJR0D9\n",
       "9r9371oKi5YauLLTq8vBJnM9YOAQQIu914tgMQQDwBhiTSCYAnNhKQcf4ATFlDQhVdwgNzESStF3\n",
       "GBgAx9pUiNFQqpMAAAAASUVORK5CYII=\n",
       "\" style=\"display:inline;vertical-align:middle;\" /></a></td></tr>\n",
       "<tr><td>3</td><td>ExprTuple</td><td>5, 9</td><td><a class=\"ProveItLink\" href=\"../64d36ff9aa3116e2d1fb41c420506ad5fe919f950/expr.ipynb\"><img src=\"data:image/png;base64,iVBORw0KGgoAAAANSUhEUgAAADUAAAAVBAMAAAAUZLt1AAAAMFBMVEX////c3NwiIiJERESqqqqY\n",
       "mJh2dnZmZmYQEBDu7u4yMjJUVFTMzMyIiIi6uroAAAAs73DqAAAAAXRSTlMAQObYZgAAAS1JREFU\n",
       "KM9jYMAH+C5gFY4DEach7ENwUc7L20sZC9gPAJkrISLr4XIZAQx8FQEMCxgYeCFGsupPgErN0gQS\n",
       "+QIMYQwMHBAxkXoBqNwKkMALBoYZDAyvICIX7j+AMNi/gEhxBgZmB4YyiGMn+AdA5OQXgMg5DAxs\n",
       "BQxLwSLzGM5DvVIPVcPAsoChD8x4wCBfABHSh9nL18DwD0Tz7N693wAi9B9MAt3D8wEixwd07wKI\n",
       "XD/YvANguRYQ24GBgakBIrcf5AV2iJmmQIoRKMf1AWwSxE2ZoNBYwJAOCgogZv7JwPkJJAT033OQ\n",
       "e4B+eMTAINy/kIHV/lcBZz9I7PTqcgeQ4VwPGDgEkKILiQ0KM9YEBJcVOQJzEXGELscJ8pM0go+c\n",
       "ArhB5jNiTxN3GBgAYvhEoGDobKYAAAAASUVORK5CYII=\n",
       "\" style=\"display:inline;vertical-align:middle;\" /></a></td></tr>\n",
       "<tr><td>4</td><td>Operation</td><td>operator:&nbsp;6<br>operands:&nbsp;7<br></td><td><a class=\"ProveItLink\" href=\"../601c41858d9aa01c7d7021ee34584e75b1f5f53c0/expr.ipynb\"><img src=\"data:image/png;base64,iVBORw0KGgoAAAANSUhEUgAAAD0AAAAPBAMAAACl/tp8AAAAMFBMVEX///+qqqru7u4iIiJ2dnbc\n",
       "3NyIiIjMzMxmZmYQEBC6uroyMjJERERUVFSYmJgAAADLUcuvAAAAAXRSTlMAQObYZgAAAPBJREFU\n",
       "GNNjYGB4+//u3dMLGNABU86NPtYGEGsOAwPHLwx5zwcMXJ0PgAz2b0D8F11a2whI+AcACbavDAx8\n",
       "XyCi2cbGxlZg1k4FILESxOKZwMDAPAksWJwE087xEURGgAj+Cwyse0CqGVhN4cbHbwCR6iCi/lpa\n",
       "8wOwIC/CF/0P4Mz8AAYmW4ibEM6zD4AzT4LUgJXXIuT/g0mwrSCvvXdAk58PIhgLQN7/ByTuC4D4\n",
       "zAj5+yCtHAxQ77P+hnhKAC5fnwAknGDer9wECXIruDwf0P8rQG7kOP/37u19sEBthyuo3dshgBEn\n",
       "DGs3w8IXCgA8BTs/1F8sPwAAAABJRU5ErkJggg==\n",
       "\" style=\"display:inline;vertical-align:middle;\" /></a></td></tr>\n",
       "<tr><td>5</td><td>Variable</td><td></td><td><a class=\"ProveItLink\" href=\"../../../../__pv_it/2cbe72a7ad6f655694dd697106680215e8489b600/expr.ipynb\"><img src=\"data:image/png;base64,iVBORw0KGgoAAAANSUhEUgAAAA8AAAAOBAMAAAACpFvcAAAALVBMVEX///8QEBBERERUVFS6urqI\n",
       "iIhmZmaqqqrc3Nzu7u6YmJgyMjIiIiLMzMwAAADtIaYWAAAAAXRSTlMAQObYZgAAAFtJREFUCNdj\n",
       "YACBOwxQsA9Kc52bAGG05zVAGAFxDmCaZULdAjBjCsO9ADDDgaEvAUTzGhvbKYCVMDAwbgAxChgY\n",
       "eASANAeQwf0AyJgNxEwvGRia5HYwcOm9TgAA6BoR3jrzwFcAAAAASUVORK5CYII=\n",
       "\" style=\"display:inline;vertical-align:middle;\" /></a></td></tr>\n",
       "<tr><td>6</td><td>Literal</td><td></td><td><a class=\"ProveItLink\" href=\"../../../../logic/set_theory/containment/__pv_it/8abd5f716af72ef69ffdc0b40f17a6fa6115e4300/expr.ipynb\"><img src=\"data:image/png;base64,iVBORw0KGgoAAAANSUhEUgAAAA4AAAAMBAMAAACgrpHpAAAAJFBMVEX///+qqqpmZmZUVFTc3Nzu\n",
       "7u7MzMy6uroiIiIyMjKIiIgAAABMlAC/AAAAAXRSTlMAQObYZgAAADdJREFUCNdjYGBY2dHR0c7A\n",
       "kLGUAQRYWsAUA3MBhI6EUAzJaDQHlGYSgNCs7VCBSDUoo3gG0FwA+8MJt4mISzAAAAAASUVORK5C\n",
       "YII=\n",
       "\" style=\"display:inline;vertical-align:middle;\" /></a></td></tr>\n",
       "<tr><td>7</td><td>ExprTuple</td><td>8, 9</td><td><a class=\"ProveItLink\" href=\"../dad23c4ce051fb8a92f116e8b4d54eeb5e4476f70/expr.ipynb\"><img src=\"data:image/png;base64,iVBORw0KGgoAAAANSUhEUgAAADcAAAAVBAMAAAAQkWtIAAAAMFBMVEX////c3NwiIiJERESqqqqY\n",
       "mJh2dnZmZmYQEBDu7u4yMjJUVFTMzMyIiIi6uroAAAAs73DqAAAAAXRSTlMAQObYZgAAAUFJREFU\n",
       "KM9jYMAL+C5gF48DEaeBmHX/792b18GEOS9vL2UsYD8AZK4E8TkMGBjqH0AlMwIY+CoCGBYwMPCC\n",
       "TT0PJM9vgMjN0gQS+QIMYUA9E0AC9wUYGOITIJIrQCIvGBhmMDC8AgtYALEGWBkD+xcQKc7AwOzA\n",
       "UAYW+c3AIGUJ0Si/AETOYWBgK2BYCmLy/L57XRXqnPoAKINlAUMfiOb9yMAwCeoefQFYADQw/APR\n",
       "zA1ABV8hYv/BJNB+ng8QSX6gLtZvEMl+sJEHwJItYG8C7eH+ApHcD3I0O8RYU5g3ga7khIUHQyYo\n",
       "TBcwpEO9ydM1gWG+AkgMaMJzkKOAXnkEpIr/7969CmjyjI/gmFhd7gCiuR4wcAggRdND5DgDBh9r\n",
       "AhI/AFkyFxZlWCQ5QcEojeDzImvkBtnHiCOZ3GFgAADrEU9ADAe1sgAAAABJRU5ErkJggg==\n",
       "\" style=\"display:inline;vertical-align:middle;\" /></a></td></tr>\n",
       "<tr><td>8</td><td>Variable</td><td></td><td><a class=\"ProveItLink\" href=\"../../../../__pv_it/077b2ff79244fb4582cbe22c6e3356fa92a52f2f0/expr.ipynb\"><img src=\"data:image/png;base64,iVBORw0KGgoAAAANSUhEUgAAABAAAAAOBAMAAADUAYG5AAAAMFBMVEX///+qqqru7u4iIiJ2dnbc\n",
       "3NyIiIjMzMxmZmYQEBC6uroyMjJERERUVFSYmJgAAADLUcuvAAAAAXRSTlMAQObYZgAAAGpJREFU\n",
       "CNdjYGB4+//u3dMLGIBgDgMDxy8gzf4NiP8CGWxfGRj4vgAZPBMYGJgnARn8FxhY9ygAGfXX0pof\n",
       "gDTlBzAw2YIYJ0EckBBI53sHoBH/gIz7AhBjWH9DjancBLTl/N+7t/cxMAAA3u4f/5xagjYAAAAA\n",
       "SUVORK5CYII=\n",
       "\" style=\"display:inline;vertical-align:middle;\" /></a></td></tr>\n",
       "<tr><td>9</td><td>Variable</td><td></td><td><a class=\"ProveItLink\" href=\"../../../../__pv_it/985a1bdf1540838275dec15f4ad6de261cca93ce0/expr.ipynb\"><img src=\"data:image/png;base64,iVBORw0KGgoAAAANSUhEUgAAAA8AAAAOBAMAAAACpFvcAAAAMFBMVEX////MzMyqqqoiIiIyMjK6\n",
       "uroQEBB2dnbc3NyYmJhmZmZUVFRERESIiIju7u4AAAB204erAAAAAXRSTlMAQObYZgAAAGZJREFU\n",
       "CNdjYGDgu7NrJccCBgaGsgkMrMsmMDA8sQNy6hsYGNweABlhDAxcn4A0QxcDQ78DiPGQgWH9BAYI\n",
       "sG+AMv6DSaCGfBDNJMDAsB+kmwuI5S8AiTog5gSaEwXWIO29SgFIAQBC+RaDQlidVgAAAABJRU5E\n",
       "rkJggg==\n",
       "\" style=\"display:inline;vertical-align:middle;\" /></a></td></tr>\n",
       "</table>\n"
      ],
      "text/plain": [
       "0. C -> (A subset C) | B subset C\n",
       "   core type: Lambda\n",
       "   parameter: 9\n",
       "   body: 1\n",
       "   conditions: 2\\n1. A subset C\n",
       "   core type: Operation\n",
       "   operator: 6\n",
       "   operands: 3\n",
       "2. (B subset C)\n",
       "   core type: ExprTuple\n",
       "   sub-expressions: 4\n",
       "3. (A , C)\n",
       "   core type: ExprTuple\n",
       "   sub-expressions: 5, 9\n",
       "4. B subset C\n",
       "   core type: Operation\n",
       "   operator: 6\n",
       "   operands: 7\n",
       "5. A\n",
       "   core type: Variable\n",
       "   sub-expressions: \n",
       "6. subset\n",
       "   core type: Literal\n",
       "   sub-expressions: \n",
       "7. (B , C)\n",
       "   core type: ExprTuple\n",
       "   sub-expressions: 8, 9\n",
       "8. B\n",
       "   core type: Variable\n",
       "   sub-expressions: \n",
       "9. C\n",
       "   core type: Variable\n",
       "   sub-expressions: "
      ]
     },
     "execution_count": 4,
     "metadata": {},
     "output_type": "execute_result"
    }
   ],
   "source": [
    "# display the expression information\n",
    "expr.exprInfo()"
   ]
  },
  {
   "cell_type": "code",
   "execution_count": null,
   "metadata": {},
   "outputs": [],
   "source": []
  }
 ],
 "metadata": {
  "kernelspec": {
   "display_name": "Python 3",
   "language": "python",
   "name": "python3"
  }
 },
 "nbformat": 4,
 "nbformat_minor": 0
}
