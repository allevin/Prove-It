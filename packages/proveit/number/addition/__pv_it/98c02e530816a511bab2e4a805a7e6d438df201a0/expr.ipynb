{
 "cells": [
  {
   "cell_type": "markdown",
   "metadata": {},
   "source": [
    "Expression of type <a class=\"ProveItLink\" href=\"../../../../../../doc/html/api/proveit.ExprTuple.html\">ExprTuple</a>\n",
    "=======================\n",
    "# from context <a class=\"ProveItLink\" href=\"../../_context_.ipynb\">proveit.number.addition</a>"
   ]
  },
  {
   "cell_type": "code",
   "execution_count": 1,
   "metadata": {},
   "outputs": [],
   "source": [
    "# import Expression classes needed to build the expression\n",
    "from proveit import ExprTuple\n",
    "from proveit._common_ import a, b, c"
   ]
  },
  {
   "cell_type": "code",
   "execution_count": 2,
   "metadata": {},
   "outputs": [
    {
     "data": {
      "text/html": [
       "<strong id=\"expr\">expr:</strong> <a class=\"ProveItLink\" href=\"expr.ipynb\"><img src=\"data:image/png;base64,iVBORw0KGgoAAAANSUhEUgAAANUAAAAVBAMAAAAjhrYEAAAAMFBMVEX////c3NwiIiJERESqqqqY\n",
       "mJh2dnZmZmYQEBDu7u4yMjJUVFTMzMyIiIi6uroAAAAs73DqAAAAAXRSTlMAQObYZgAAAlVJREFU\n",
       "SMe9Vj9oE1Ec/tJccnm5Jpe9Q7t1KmRxFIOz0JscJTjoYuRA7KCDVqSb9SYpOOQQOpQuHZQWIRhw\n",
       "EVwyKaJXUqciQqNpkUIU3597790fvMtiMly++74v34/3u997F2CWn/pgJmWuscv7KPP80b/dWRo5\n",
       "WMqpZfbpZSdG7WbYs7TqXt7CfKAWb+FphjtLs1t5ta4CFS/28M4zHmyGhhMvr9YW8C1GlDPanqXh\n",
       "eu5wFFtYo1+F3u31sO29z45AzzpfBFj4cNxIaIrSrt3glQA6i9wI+hGq7GKb3hw3iiOhd5uYcDC/\n",
       "iReic+u4lNA0pVxkDFsE66x3w+pShDJ8bNK6ZzCbQl/1sCG6O8AFDhYd3ElomlIu4xyVNl+DyiJP\n",
       "UHQiVP0h/gDWCHPhNN4DfnHwRraZgpW0toK4y/RhuwzoLCtcnqTmR6yW3URXNADLqJ9xMJYpY5BJ\n",
       "SpOUcs25OOGL0Fl2U24HQdFaj2lPBliFF24hk0924XdopMAYkaQWUsrFttcDnqCzFuXGDSnaQ9rv\n",
       "bguvjT7/9YS1nVnpCkoMkFNY/hVOSS1CSRcbjA2wBJ1l03U6mkLJx006zI6xXEaXDc1L3Af5ScE+\n",
       "cIuDbVx22xwpTVPKZbXMPZ6gsywX5b6m2Mx/ZfN/+PYQWz/Y+frRAXlKN4/ZCTwOFoLvF4ccKU1T\n",
       "ykV6d8ETIllrwacIheoQlYbs+ZE6jBpJMCWlEjQ6ip5Rpba8cSQopcCUlJNGmupE3yn/txbx2eEW\n",
       "3tSUcZAC01E6oZamLNbpwmz+A9Az+i+iVOAdG9M4OgAAAABJRU5ErkJggg==\n",
       "\" style=\"display:inline;vertical-align:middle;\" /></a><br>"
      ],
      "text/plain": [
       "expr: (a , b , c , a , b , a , c , b , a , c , a)"
      ]
     },
     "execution_count": 2,
     "metadata": {},
     "output_type": "execute_result"
    }
   ],
   "source": [
    "# build up the expression from sub-expressions\n",
    "expr = ExprTuple(a, b, c, a, b, a, c, b, a, c, a)"
   ]
  },
  {
   "cell_type": "code",
   "execution_count": 3,
   "metadata": {},
   "outputs": [
    {
     "name": "stdout",
     "output_type": "stream",
     "text": [
      "Passed sanity check: built 'expr' is the same as the stored Expression.\n"
     ]
    }
   ],
   "source": [
    "# check that the built expression is the same as the stored expression\n",
    "%check_expr"
   ]
  },
  {
   "cell_type": "code",
   "execution_count": 4,
   "metadata": {},
   "outputs": [
    {
     "data": {
      "text/html": [
       "<table><tr><th>&nbsp;</th><th>core type</th><th>sub-expressions</th><th>expression</th></tr>\n",
       "<tr><td>0</td><td>ExprTuple</td><td>3, 1, 2, 3, 1, 3, 2, 1, 3, 2, 3</td><td><a class=\"ProveItLink\" href=\"expr.ipynb\"><img src=\"data:image/png;base64,iVBORw0KGgoAAAANSUhEUgAAANUAAAAVBAMAAAAjhrYEAAAAMFBMVEX////c3NwiIiJERESqqqqY\n",
       "mJh2dnZmZmYQEBDu7u4yMjJUVFTMzMyIiIi6uroAAAAs73DqAAAAAXRSTlMAQObYZgAAAlVJREFU\n",
       "SMe9Vj9oE1Ec/tJccnm5Jpe9Q7t1KmRxFIOz0JscJTjoYuRA7KCDVqSb9SYpOOQQOpQuHZQWIRhw\n",
       "EVwyKaJXUqciQqNpkUIU3597790fvMtiMly++74v34/3u997F2CWn/pgJmWuscv7KPP80b/dWRo5\n",
       "WMqpZfbpZSdG7WbYs7TqXt7CfKAWb+FphjtLs1t5ta4CFS/28M4zHmyGhhMvr9YW8C1GlDPanqXh\n",
       "eu5wFFtYo1+F3u31sO29z45AzzpfBFj4cNxIaIrSrt3glQA6i9wI+hGq7GKb3hw3iiOhd5uYcDC/\n",
       "iReic+u4lNA0pVxkDFsE66x3w+pShDJ8bNK6ZzCbQl/1sCG6O8AFDhYd3ElomlIu4xyVNl+DyiJP\n",
       "UHQiVP0h/gDWCHPhNN4DfnHwRraZgpW0toK4y/RhuwzoLCtcnqTmR6yW3URXNADLqJ9xMJYpY5BJ\n",
       "SpOUcs25OOGL0Fl2U24HQdFaj2lPBliFF24hk0924XdopMAYkaQWUsrFttcDnqCzFuXGDSnaQ9rv\n",
       "bguvjT7/9YS1nVnpCkoMkFNY/hVOSS1CSRcbjA2wBJ1l03U6mkLJx006zI6xXEaXDc1L3Af5ScE+\n",
       "cIuDbVx22xwpTVPKZbXMPZ6gsywX5b6m2Mx/ZfN/+PYQWz/Y+frRAXlKN4/ZCTwOFoLvF4ccKU1T\n",
       "ykV6d8ETIllrwacIheoQlYbs+ZE6jBpJMCWlEjQ6ip5Rpba8cSQopcCUlJNGmupE3yn/txbx2eEW\n",
       "3tSUcZAC01E6oZamLNbpwmz+A9Az+i+iVOAdG9M4OgAAAABJRU5ErkJggg==\n",
       "\" style=\"display:inline;vertical-align:middle;\" /></a></td></tr>\n",
       "<tr><td>1</td><td>Variable</td><td></td><td><a class=\"ProveItLink\" href=\"../../../../__pv_it/6840a4fa6c106149dc16a131294d0c5e44f1b0480/expr.ipynb\"><img src=\"data:image/png;base64,iVBORw0KGgoAAAANSUhEUgAAAAkAAAAOBAMAAAAPuiubAAAALVBMVEX///9mZmbMzMxERESYmJiI\n",
       "iIh2dna6urqqqqoyMjIiIiIQEBBUVFTu7u4AAAD9S1JeAAAAAXRSTlMAQObYZgAAAE1JREFUCNdj\n",
       "4D29gAEIOA+ASL4GEFl3AURmgQiGOaFHGBh4HzPwKTBwvGXgTmBgnMDAJ8DAJcBQ5wBSLncBJLWN\n",
       "gYGngRFoBO9REQYGAGrcDtUkVqASAAAAAElFTkSuQmCC\n",
       "\" style=\"display:inline;vertical-align:middle;\" /></a></td></tr>\n",
       "<tr><td>2</td><td>Variable</td><td></td><td><a class=\"ProveItLink\" href=\"../../../../__pv_it/cbdfda466482236edba0ce44ac7ef39cda0af7a40/expr.ipynb\"><img src=\"data:image/png;base64,iVBORw0KGgoAAAANSUhEUgAAAAkAAAAJBAMAAAASvxsjAAAALVBMVEX///9mZmbc3NxUVFSYmJhE\n",
       "REQiIiIyMjK6uroQEBDMzMyIiIh2dnbu7u4AAABgFDGoAAAAAXRSTlMAQObYZgAAADZJREFUCNdj\n",
       "YOA9s3sBA8PKBvYEBt7ZDKwODMwPGICALwBE6m0Asx0YGIDiAgw8QJUyu/cyAAAmuwmycZ8WfQAA\n",
       "AABJRU5ErkJggg==\n",
       "\" style=\"display:inline;vertical-align:middle;\" /></a></td></tr>\n",
       "<tr><td>3</td><td>Variable</td><td></td><td><a class=\"ProveItLink\" href=\"../../../../__pv_it/07527342713064c87612d00d8557c53d53d5324a0/expr.ipynb\"><img src=\"data:image/png;base64,iVBORw0KGgoAAAANSUhEUgAAAAsAAAAJBAMAAAAWSsseAAAAMFBMVEX///8yMjKqqqrMzMzu7u4i\n",
       "IiJmZmaYmJhEREQQEBC6urp2dnaIiIhUVFTc3NwAAAD87Fq/AAAAAXRSTlMAQObYZgAAAEhJREFU\n",
       "CNdjYOC7s2seAwPDygccHxgY+L4zsDUwMPB+YGA9wMDA38Dgb8DA8P4Agz6DA4O/AsNFJgMGxgKm\n",
       "MG6gyjunLE4xAAAZTBA5TB6DCwAAAABJRU5ErkJggg==\n",
       "\" style=\"display:inline;vertical-align:middle;\" /></a></td></tr>\n",
       "</table>\n"
      ],
      "text/plain": [
       "0. (a , b , c , a , b , a , c , b , a , c , a)\n",
       "   core type: ExprTuple\n",
       "   sub-expressions: 3, 1, 2, 3, 1, 3, 2, 1, 3, 2, 3\n",
       "1. b\n",
       "   core type: Variable\n",
       "   sub-expressions: \n",
       "2. c\n",
       "   core type: Variable\n",
       "   sub-expressions: \n",
       "3. a\n",
       "   core type: Variable\n",
       "   sub-expressions: "
      ]
     },
     "execution_count": 4,
     "metadata": {},
     "output_type": "execute_result"
    }
   ],
   "source": [
    "# display the expression information\n",
    "expr.exprInfo()"
   ]
  },
  {
   "cell_type": "code",
   "execution_count": null,
   "metadata": {},
   "outputs": [],
   "source": []
  }
 ],
 "metadata": {
  "kernelspec": {
   "display_name": "Python 3",
   "language": "python",
   "name": "python3"
  }
 },
 "nbformat": 4,
 "nbformat_minor": 0
}
