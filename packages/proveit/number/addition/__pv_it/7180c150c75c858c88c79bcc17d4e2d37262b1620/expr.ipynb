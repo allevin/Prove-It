{
 "cells": [
  {
   "cell_type": "markdown",
   "metadata": {},
   "source": [
    "Expression of type <a class=\"ProveItLink\" href=\"../../../../../../doc/html/api/proveit.logic.Equals.html\">Equals</a>\n",
    "=======================\n",
    "# from context <a class=\"ProveItLink\" href=\"../../_context_.ipynb\">proveit.number.addition</a>"
   ]
  },
  {
   "cell_type": "code",
   "execution_count": 1,
   "metadata": {},
   "outputs": [],
   "source": [
    "# import Expression classes needed to build the expression\n",
    "from proveit._common_ import b\n",
    "from proveit.logic import Equals\n",
    "from proveit.number import Mult, one"
   ]
  },
  {
   "cell_type": "code",
   "execution_count": 2,
   "metadata": {},
   "outputs": [
    {
     "data": {
      "text/html": [
       "<strong id=\"expr\">expr:</strong> <a class=\"ProveItLink\" href=\"expr.ipynb\"><img src=\"data:image/png;base64,iVBORw0KGgoAAAANSUhEUgAAAFUAAAAVBAMAAADFg78FAAAAMFBMVEX////c3NwiIiJERESqqqqY\n",
       "mJh2dnZmZmYQEBDu7u4yMjJUVFTMzMyIiIi6uroAAAAs73DqAAAAAXRSTlMAQObYZgAAARxJREFU\n",
       "KM9jYCAF8F3AFIvDofY0EDNPgHM5dygwMLAfQFMEFmVgWAlk2SPUMnBtABIL0E0Ei/JeYODcvR9J\n",
       "Lb8DkAhDVwsW5QApu4+k9j2IPQNdLVj0FQOa2iQQweyAphYsWoaudvXdrQwMbAVoasGiS9HUcn5m\n",
       "4D/AwALyHPsqMNgAF+1DqOUEkSw/GTgSGPgaUI2FiP5DqJ0PCkP2BQz8BQw8H1DVQkSR1M4wABJM\n",
       "BQzvAzDUQkRb0NwLDMj6CRA3sCuBgQFc1BRd7QGGNgYGVrSIg4imo6nldmDfgBlmENFHQFZ5//IA\n",
       "eJjtLQVF/wO0tAMW5RDAlvhmYE2SrAnYRHOxp9+VWMQ4F2BXK41FjFsAu1pGLHnoDlaVAPNfVd70\n",
       "hccbAAAAAElFTkSuQmCC\n",
       "\" style=\"display:inline;vertical-align:middle;\" /></a><br>"
      ],
      "text/plain": [
       "expr: (1 * b) = b"
      ]
     },
     "execution_count": 2,
     "metadata": {},
     "output_type": "execute_result"
    }
   ],
   "source": [
    "# build up the expression from sub-expressions\n",
    "expr = Equals(Mult(one, b), b)"
   ]
  },
  {
   "cell_type": "code",
   "execution_count": 3,
   "metadata": {},
   "outputs": [
    {
     "name": "stdout",
     "output_type": "stream",
     "text": [
      "Passed sanity check: built 'expr' is the same as the stored Expression.\n"
     ]
    }
   ],
   "source": [
    "# check that the built expression is the same as the stored expression\n",
    "%check_expr"
   ]
  },
  {
   "cell_type": "code",
   "execution_count": 4,
   "metadata": {},
   "outputs": [
    {
     "data": {
      "text/html": [
       "<table><tr><th>&nbsp;</th><th>core type</th><th>sub-expressions</th><th>expression</th></tr>\n",
       "<tr><td>0</td><td>Operation</td><td>operator:&nbsp;1<br>operands:&nbsp;2<br></td><td><a class=\"ProveItLink\" href=\"expr.ipynb\"><img src=\"data:image/png;base64,iVBORw0KGgoAAAANSUhEUgAAAFUAAAAVBAMAAADFg78FAAAAMFBMVEX////c3NwiIiJERESqqqqY\n",
       "mJh2dnZmZmYQEBDu7u4yMjJUVFTMzMyIiIi6uroAAAAs73DqAAAAAXRSTlMAQObYZgAAARxJREFU\n",
       "KM9jYCAF8F3AFIvDofY0EDNPgHM5dygwMLAfQFMEFmVgWAlk2SPUMnBtABIL0E0Ei/JeYODcvR9J\n",
       "Lb8DkAhDVwsW5QApu4+k9j2IPQNdLVj0FQOa2iQQweyAphYsWoaudvXdrQwMbAVoasGiS9HUcn5m\n",
       "4D/AwALyHPsqMNgAF+1DqOUEkSw/GTgSGPgaUI2FiP5DqJ0PCkP2BQz8BQw8H1DVQkSR1M4wABJM\n",
       "BQzvAzDUQkRb0NwLDMj6CRA3sCuBgQFc1BRd7QGGNgYGVrSIg4imo6nldmDfgBlmENFHQFZ5//IA\n",
       "eJjtLQVF/wO0tAMW5RDAlvhmYE2SrAnYRHOxp9+VWMQ4F2BXK41FjFsAu1pGLHnoDlaVAPNfVd70\n",
       "hccbAAAAAElFTkSuQmCC\n",
       "\" style=\"display:inline;vertical-align:middle;\" /></a></td></tr>\n",
       "<tr><td>1</td><td>Literal</td><td></td><td><a class=\"ProveItLink\" href=\"../../../../logic/equality/__pv_it/2fb26078095930560931daa0500ce419a39ea6cd0/expr.ipynb\"><img src=\"data:image/png;base64,iVBORw0KGgoAAAANSUhEUgAAAA4AAAAFBAMAAACHocAhAAAAFVBMVEX///9EREQiIiJUVFQyMjJm\n",
       "ZmYAAADubVkoAAAAAXRSTlMAQObYZgAAABRJREFUCNdjCHEBAWcGXCBICQQUAUpuAwlgGKrkAAAA\n",
       "AElFTkSuQmCC\n",
       "\" style=\"display:inline;vertical-align:middle;\" /></a></td></tr>\n",
       "<tr><td>2</td><td>ExprTuple</td><td>3, 7</td><td><a class=\"ProveItLink\" href=\"../3b2a230b61e217ad79c381bf738c9aa5040cc4360/expr.ipynb\"><img src=\"data:image/png;base64,iVBORw0KGgoAAAANSUhEUgAAAEEAAAAVBAMAAADrxp6XAAAAMFBMVEX////c3NwiIiJERESqqqqY\n",
       "mJh2dnZmZmYQEBDu7u4yMjJUVFTMzMyIiIi6uroAAAAs73DqAAAAAXRSTlMAQObYZgAAAQVJREFU\n",
       "KM9jYCAM+C7gkYwDEadBhCVcjHOHAhKD/QCQtRKIJ/9EaOPagMxYwMDAC7Rk9m4kFfwOyIwwBgaO\n",
       "CUCaF0nF+wnIjBkMDK8Y0FQkoTCYHRjK0FWsvrsVicFWwLAUTQXnZwb+AwgGywKGPoQKTpDFLD8Z\n",
       "OBIY4Ay+BoZ/CBXzQSHBvoCBv4ABzuD5gKxihgGQYCpgeB/AAGcAVbSguQMYCvUTEAygLaboKg4w\n",
       "tDFwwhgMrAsY0tFUcDuwbwC7CMwA+fYRyFEVv0rhvt0LZM74CGUwcD1g4BDAFusPYQxgqLMmYFMR\n",
       "AGPkQmMfpwpOYOwzSGNRwAt3N8gNjPhS4R0GBgAtYFB0rohMtQAAAABJRU5ErkJggg==\n",
       "\" style=\"display:inline;vertical-align:middle;\" /></a></td></tr>\n",
       "<tr><td>3</td><td>Operation</td><td>operator:&nbsp;4<br>operands:&nbsp;5<br></td><td><a class=\"ProveItLink\" href=\"../1dc4d283f4dfca7c448177725cda39b39d4274b30/expr.ipynb\"><img src=\"data:image/png;base64,iVBORw0KGgoAAAANSUhEUgAAACEAAAAPBAMAAACYbLsaAAAALVBMVEX////MzMx2dna6urqqqqoi\n",
       "IiKYmJgyMjIQEBBmZmaIiIhUVFTu7u5EREQAAABcBWx+AAAAAXRSTlMAQObYZgAAAHZJREFUGNNj\n",
       "YGC4wwADPDsCQNTZN3ARBvYNQOL0biQRPgcQyYUkYncAXUSVAV2ketU2VBGetwx8AnCRM0DM8oaB\n",
       "QwEmwvMUSHAWMPBNgIv0AgnWCQx2CSjmAJ0z7wCqiABDE6pd3A6cQG9wzng+DW77rmkMWAAAKjEh\n",
       "VOILiykAAAAASUVORK5CYII=\n",
       "\" style=\"display:inline;vertical-align:middle;\" /></a></td></tr>\n",
       "<tr><td>4</td><td>Literal</td><td></td><td><a class=\"ProveItLink\" href=\"../../../multiplication/__pv_it/21fd2079611555ecce512d99547a00d551e6b86b0/expr.ipynb\"><img src=\"data:image/png;base64,iVBORw0KGgoAAAANSUhEUgAAAAMAAAADBAMAAACkBqiMAAAAElBMVEX///9EREQQEBAiIiLu7u4A\n",
       "AABGBidwAAAAAXRSTlMAQObYZgAAABFJREFUCNdjYHFgcDVgcBIAAASWAQx4jI0xAAAAAElFTkSu\n",
       "QmCC\n",
       "\" style=\"display:inline;vertical-align:middle;\" /></a></td></tr>\n",
       "<tr><td>5</td><td>ExprTuple</td><td>6, 7</td><td><a class=\"ProveItLink\" href=\"../24a6451682d62a1c7f796e8e8631ab1f85ba80820/expr.ipynb\"><img src=\"data:image/png;base64,iVBORw0KGgoAAAANSUhEUgAAACkAAAAVBAMAAAAp9toTAAAAMFBMVEX////c3NwiIiJERESqqqqY\n",
       "mJh2dnZmZmYQEBDu7u4yMjJUVFTMzMyIiIi6uroAAAAs73DqAAAAAXRSTlMAQObYZgAAAOtJREFU\n",
       "GNNjYMAO+C6gCcSBiNNAzDwBIsC5Q4GBgf0AkLUSyLGHijJwbQASCxgYeC8wcO7eDxPldwASYQwM\n",
       "HCCB+zDR9yDGDAaGVwzIokkggtmBoQxFdPXdrQwMbAUMS5FFOT8z8B9gYFnA0IcsyvKTgSOBga+B\n",
       "4R+yKPsCBv4CBp4PqKJMBQzvA0CiLciiQOfWTwCZYAoTBUkArWpjYGBdwJAOFeX8BKS5Hdg3gF32\n",
       "CMgp718ewNkvAHTZ3lJQYDxg4BCAhSiMAfIxawKUzQoP4FxISKKKcgJDkkEayoFHCTfIKEb0GLrD\n",
       "wAAAiopANO9moJ4AAAAASUVORK5CYII=\n",
       "\" style=\"display:inline;vertical-align:middle;\" /></a></td></tr>\n",
       "<tr><td>6</td><td>Literal</td><td></td><td><a class=\"ProveItLink\" href=\"../../../numeral/__pv_it/9be8badea4c35b9724062cecc501d17a3158d1d20/expr.ipynb\"><img src=\"data:image/png;base64,iVBORw0KGgoAAAANSUhEUgAAAAgAAAAPBAMAAAArJJMAAAAAHlBMVEX///+YmJgyMjIQEBBmZmaI\n",
       "iIhUVFTu7u5EREQAAAAw+MI4AAAAAXRSTlMAQObYZgAAACFJREFUCNdjYGBoZ2BgqJjOwFCWBiQY\n",
       "WEklWJwnOTKAAACjEQo8HvEr3AAAAABJRU5ErkJggg==\n",
       "\" style=\"display:inline;vertical-align:middle;\" /></a></td></tr>\n",
       "<tr><td>7</td><td>Variable</td><td></td><td><a class=\"ProveItLink\" href=\"../../../../__pv_it/6840a4fa6c106149dc16a131294d0c5e44f1b0480/expr.ipynb\"><img src=\"data:image/png;base64,iVBORw0KGgoAAAANSUhEUgAAAAkAAAAOBAMAAAAPuiubAAAALVBMVEX///9mZmbMzMxERESYmJiI\n",
       "iIh2dna6urqqqqoyMjIiIiIQEBBUVFTu7u4AAAD9S1JeAAAAAXRSTlMAQObYZgAAAE1JREFUCNdj\n",
       "4D29gAEIOA+ASL4GEFl3AURmgQiGOaFHGBh4HzPwKTBwvGXgTmBgnMDAJ8DAJcBQ5wBSLncBJLWN\n",
       "gYGngRFoBO9REQYGAGrcDtUkVqASAAAAAElFTkSuQmCC\n",
       "\" style=\"display:inline;vertical-align:middle;\" /></a></td></tr>\n",
       "</table>\n"
      ],
      "text/plain": [
       "0. (1 * b) = b\n",
       "   core type: Operation\n",
       "   operator: 1\n",
       "   operands: 2\n",
       "1. =\n",
       "   core type: Literal\n",
       "   sub-expressions: \n",
       "2. (1 * b , b)\n",
       "   core type: ExprTuple\n",
       "   sub-expressions: 3, 7\n",
       "3. 1 * b\n",
       "   core type: Operation\n",
       "   operator: 4\n",
       "   operands: 5\n",
       "4. *\n",
       "   core type: Literal\n",
       "   sub-expressions: \n",
       "5. (1 , b)\n",
       "   core type: ExprTuple\n",
       "   sub-expressions: 6, 7\n",
       "6. 1\n",
       "   core type: Literal\n",
       "   sub-expressions: \n",
       "7. b\n",
       "   core type: Variable\n",
       "   sub-expressions: "
      ]
     },
     "execution_count": 4,
     "metadata": {},
     "output_type": "execute_result"
    }
   ],
   "source": [
    "# display the expression information\n",
    "expr.exprInfo()"
   ]
  },
  {
   "cell_type": "code",
   "execution_count": null,
   "metadata": {},
   "outputs": [],
   "source": []
  }
 ],
 "metadata": {
  "kernelspec": {
   "display_name": "Python 3",
   "language": "python",
   "name": "python3"
  }
 },
 "nbformat": 4,
 "nbformat_minor": 0
}
