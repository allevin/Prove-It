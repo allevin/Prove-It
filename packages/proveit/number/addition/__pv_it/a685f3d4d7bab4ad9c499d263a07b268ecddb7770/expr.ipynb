{
 "cells": [
  {
   "cell_type": "markdown",
   "metadata": {},
   "source": [
    "Expression of type <a class=\"ProveItLink\" href=\"../../../../../../doc/html/api/proveit.ExprTuple.html\">ExprTuple</a>\n",
    "=======================\n",
    "# from context <a class=\"ProveItLink\" href=\"../../_context_.ipynb\">proveit.number.addition</a>"
   ]
  },
  {
   "cell_type": "code",
   "execution_count": 1,
   "metadata": {},
   "outputs": [],
   "source": [
    "# import Expression classes needed to build the expression\n",
    "from proveit import ExprTuple\n",
    "from proveit.logic import InSet\n",
    "from proveit.number import Neg, Reals, RealsNeg, one, three, two"
   ]
  },
  {
   "cell_type": "code",
   "execution_count": 2,
   "metadata": {},
   "outputs": [
    {
     "data": {
      "text/html": [
       "<strong id=\"expr\">expr:</strong> <a class=\"ProveItLink\" href=\"expr.ipynb\"><img src=\"data:image/png;base64,iVBORw0KGgoAAAANSUhEUgAAARQAAAAaBAMAAACEI76OAAAAMFBMVEX///+qqqp2dnYiIiJERESI\n",
       "iIhmZmYQEBDc3NyYmJgyMjLu7u5UVFTMzMy6uroAAACGxKilAAAAAXRSTlMAQObYZgAAAutJREFU\n",
       "SMfNlj9oE1Ecx79N0uSSS5oM4lAcQocOTsEDkYISwaHinwYcilJocOigFCpuCpqhRJEOERykLpGU\n",
       "QK1ooIrSJRkctAgGEQcJJFCwImhbcKiENn3v7t7lcu9dLul0v+Hdu8f3c3zv93v/APyFCyJOm0jF\n",
       "DVZqtFkrucHKYIo0nxxlQ6mO12Cjl2/3C50CpDng68jZzvHFfxMv7qQ6kqeHj+RwFt3UPJS9cdkZ\n",
       "mgL8aUhpbFm+lFzAt+GM/rLSHpcniJWQ9Y909ZFzJEocJFUwHXOEyiUEGvDsIJqw6LLwvU+ayqg7\n",
       "+fyFUME47NXgoHAJ3m1HyJtDHRgwrLwtKGNM56nquoB5Xk+TF3kO9mpwUOAuwvsGJF9TlLwA8icx\n",
       "qXa0AkWWS23Lhu43LFagzSyxGhwUasK/zyD8eCaGgttYVzsv1Xa+ZMpemGXvOmdltIsaAgjeJoOk\n",
       "CzbQUBMX6f8d17a5cXMhNxb1abvMWRnuooYAQj3OIF/GBorsoah2Jumyl9sekw+UsZjev8dZ2YS9\n",
       "WgRhiUF4YwdJ+zipTa0mzdFtRTEm4k8fyz+ps1RQaDR0K3XYq0WQP8kgbNKhvACSd6gVqQrf/87T\n",
       "KJn1/6m0v2rJSh32ahE0BcNKzQ4iWSETttzUrMgJc/VXrur9WzYFEqsF0EAaD1mBVu0gaQ8fgGge\n",
       "3l10HEdEVwtXIdP+ec7KIoRqlmor9B14yqBwTgxhaBdXyM6Yw5a6F642TDpPbBzlhLF0+cXMqfWw\n",
       "QtKJkdEEG5HPiCG6r2yRx9GZ5xpUrBpn1SUsvY69o8naMDmZuV8kv/VKrNY1VsjbarUSDMKjWSEE\n",
       "Tx7Rqrmq6/qaYPGLrq6M5fRgezin7gXCsYK2giwRSiEc73aLoJXlDjJPqvvV41BQOYNIwumr5kuC\n",
       "GmtwttI39MQ422yueWq7YBn96HA3PAyE03QeOd4Npc7cDlZ7uVD2CQXTdPLF3XDNnlfbx26wchNu\n",
       "igMiQRQNkafXzwAAAABJRU5ErkJggg==\n",
       "\" style=\"display:inline;vertical-align:middle;\" /></a><br>"
      ],
      "text/plain": [
       "expr: (3 in Reals , (-1) in RealsNeg , (-2) in RealsNeg)"
      ]
     },
     "execution_count": 2,
     "metadata": {},
     "output_type": "execute_result"
    }
   ],
   "source": [
    "# build up the expression from sub-expressions\n",
    "expr = ExprTuple(InSet(three, Reals), InSet(Neg(one), RealsNeg), InSet(Neg(two), RealsNeg))"
   ]
  },
  {
   "cell_type": "code",
   "execution_count": 3,
   "metadata": {},
   "outputs": [
    {
     "name": "stdout",
     "output_type": "stream",
     "text": [
      "Passed sanity check: built 'expr' is the same as the stored Expression.\n"
     ]
    }
   ],
   "source": [
    "# check that the built expression is the same as the stored expression\n",
    "%check_expr"
   ]
  },
  {
   "cell_type": "code",
   "execution_count": 4,
   "metadata": {},
   "outputs": [
    {
     "data": {
      "text/html": [
       "<table><tr><th>&nbsp;</th><th>core type</th><th>sub-expressions</th><th>expression</th></tr>\n",
       "<tr><td>0</td><td>ExprTuple</td><td>1, 2, 3</td><td><a class=\"ProveItLink\" href=\"expr.ipynb\"><img src=\"data:image/png;base64,iVBORw0KGgoAAAANSUhEUgAAARQAAAAaBAMAAACEI76OAAAAMFBMVEX///+qqqp2dnYiIiJERESI\n",
       "iIhmZmYQEBDc3NyYmJgyMjLu7u5UVFTMzMy6uroAAACGxKilAAAAAXRSTlMAQObYZgAAAutJREFU\n",
       "SMfNlj9oE1Ecx79N0uSSS5oM4lAcQocOTsEDkYISwaHinwYcilJocOigFCpuCpqhRJEOERykLpGU\n",
       "QK1ooIrSJRkctAgGEQcJJFCwImhbcKiENn3v7t7lcu9dLul0v+Hdu8f3c3zv93v/APyFCyJOm0jF\n",
       "DVZqtFkrucHKYIo0nxxlQ6mO12Cjl2/3C50CpDng68jZzvHFfxMv7qQ6kqeHj+RwFt3UPJS9cdkZ\n",
       "mgL8aUhpbFm+lFzAt+GM/rLSHpcniJWQ9Y909ZFzJEocJFUwHXOEyiUEGvDsIJqw6LLwvU+ayqg7\n",
       "+fyFUME47NXgoHAJ3m1HyJtDHRgwrLwtKGNM56nquoB5Xk+TF3kO9mpwUOAuwvsGJF9TlLwA8icx\n",
       "qXa0AkWWS23Lhu43LFagzSyxGhwUasK/zyD8eCaGgttYVzsv1Xa+ZMpemGXvOmdltIsaAgjeJoOk\n",
       "CzbQUBMX6f8d17a5cXMhNxb1abvMWRnuooYAQj3OIF/GBorsoah2Jumyl9sekw+UsZjev8dZ2YS9\n",
       "WgRhiUF4YwdJ+zipTa0mzdFtRTEm4k8fyz+ps1RQaDR0K3XYq0WQP8kgbNKhvACSd6gVqQrf/87T\n",
       "KJn1/6m0v2rJSh32ahE0BcNKzQ4iWSETttzUrMgJc/VXrur9WzYFEqsF0EAaD1mBVu0gaQ8fgGge\n",
       "3l10HEdEVwtXIdP+ec7KIoRqlmor9B14yqBwTgxhaBdXyM6Yw5a6F642TDpPbBzlhLF0+cXMqfWw\n",
       "QtKJkdEEG5HPiCG6r2yRx9GZ5xpUrBpn1SUsvY69o8naMDmZuV8kv/VKrNY1VsjbarUSDMKjWSEE\n",
       "Tx7Rqrmq6/qaYPGLrq6M5fRgezin7gXCsYK2giwRSiEc73aLoJXlDjJPqvvV41BQOYNIwumr5kuC\n",
       "GmtwttI39MQ422yueWq7YBn96HA3PAyE03QeOd4Npc7cDlZ7uVD2CQXTdPLF3XDNnlfbx26wchNu\n",
       "igMiQRQNkafXzwAAAABJRU5ErkJggg==\n",
       "\" style=\"display:inline;vertical-align:middle;\" /></a></td></tr>\n",
       "<tr><td>1</td><td>Operation</td><td>operator:&nbsp;6<br>operands:&nbsp;4<br></td><td><a class=\"ProveItLink\" href=\"../1d52e6f9d16737e5d2e6664f4d269e702156c1af0/expr.ipynb\"><img src=\"data:image/png;base64,iVBORw0KGgoAAAANSUhEUgAAADMAAAAPBAMAAAC7N+rPAAAAMFBMVEX///+YmJju7u4QEBBUVFQy\n",
       "MjIiIiKIiIi6urpmZmbc3NyqqqpERER2dnbMzMwAAAB0GlNiAAAAAXRSTlMAQObYZgAAANJJREFU\n",
       "GNNjYHh79zQDChD9cz7UtADI4JrA0F+AKndgCcObrQsYGHh/M/AnoEmtZODROsDAwA2XUg9LS4VJ\n",
       "8T44AGZCDOQLVEDogkmFgMk1CkgGsoAMZOC76gAWOIVsV5voAjCzuAFIMB1ASC1OS90AYTJ/AhIc\n",
       "ZmlpcGd08oBM53rAwPMRZK4DkoGcfSCe/ieIFFMCsl1BhUCaP4CB7RdIwBFZ6gnLAwYGdgGG/gsg\n",
       "AbUGJCneDSAH75wZDRbginwAD95zDDHxG5CCjtsV6kIoAAAixUWQF/k7CQAAAABJRU5ErkJggg==\n",
       "\" style=\"display:inline;vertical-align:middle;\" /></a></td></tr>\n",
       "<tr><td>2</td><td>Operation</td><td>operator:&nbsp;6<br>operands:&nbsp;5<br></td><td><a class=\"ProveItLink\" href=\"../5fa2e897f2b5c27ef654392f28ef8d98ae8eef520/expr.ipynb\"><img src=\"data:image/png;base64,iVBORw0KGgoAAAANSUhEUgAAAF0AAAAVBAMAAADWVP/xAAAAMFBMVEX////c3NwiIiJERESqqqqY\n",
       "mJh2dnZmZmYQEBDu7u4yMjJUVFTMzMyIiIi6uroAAAAs73DqAAAAAXRSTlMAQObYZgAAASpJREFU\n",
       "KM9jYCAV8F1A4bI+IKD+NBKbeQIDQw2afNRn+1VdSGauRDA57YHqudANNJBmOOwlwOBsDAQTGHgR\n",
       "Wjl37weqZ01AVy/OwDzRAMbjmIAkdR/I4WyA6r6lpLQAqp7tAFz9KwY09QwmEPapSIT5SOrLMNSn\n",
       "g5mMlkju4Ua4ZymGei9IUAkgqX8UBef1Yah/AWZORvhXQknLAc77B7R6kRIIPICqPw8WfwESgvr3\n",
       "OfMEZPVo5p9Hi0YDcfY3G+C8FhzumYQc/iuvwnmmGOqjwEzuACT1p7kPwHjpOMKTUw9JPZuDIYz3\n",
       "CEl5ef9yoKnrIBypGnh6s2FYvB4WQhwCaMkFlh4YvBdBwgcVYCQvtgv40/9KNP4sAvlFGo2/kYB6\n",
       "RlT7eQ/gVQ0AMZZRBC4NEyMAAAAASUVORK5CYII=\n",
       "\" style=\"display:inline;vertical-align:middle;\" /></a></td></tr>\n",
       "<tr><td>3</td><td>Operation</td><td>operator:&nbsp;6<br>operands:&nbsp;7<br></td><td><a class=\"ProveItLink\" href=\"../ac644326b018894104724dfb5574be66dc509ce40/expr.ipynb\"><img src=\"data:image/png;base64,iVBORw0KGgoAAAANSUhEUgAAAF0AAAAVBAMAAADWVP/xAAAAMFBMVEX////c3NwiIiJERESqqqqY\n",
       "mJh2dnZmZmYQEBDu7u4yMjJUVFTMzMyIiIi6uroAAAAs73DqAAAAAXRSTlMAQObYZgAAAVdJREFU\n",
       "KM9jYCAV8F1A4bI+IKD+NIIpXmXHwFCDJh/12X5VF5KZK+Esxg0M9x0YuNANNJBmOOwlwOBsDAQT\n",
       "GHgRWrknMDB9YGBNQFcvzsA80QDG45gAl+DoZOD+x8DZAOFx3lJSWgBVz3YArv4VwiCunwzs/xgY\n",
       "TCC8U5EI85HUl6HYzfSTgSEd4hlLJPdwI9yzFEX9eaDjvcAsZgEk9Y+i4Lw+FPWLgfgFmDUZ4V8J\n",
       "JS0HOA/oYMZFSiAAjCh2kLXnweIvQEJQ/z5nnoCsHgFuM8DVn0YKT/Y3G+C8FiTlLAUMgjD3TEIO\n",
       "/5VX4TxTJPXHGRgCgQkAEnkBSOpPcx+A8dIRyhnV0tIVYCKcekjq2RwMYbxHSIH///9/oPp1EJ5U\n",
       "DTy92TAsXg8LIQ4BtOQCSw8M3osg4YMKMJIX2wX86X8lGn8WgfwijcbfSEA9I6r9vAfwqgYAf55O\n",
       "sM051vsAAAAASUVORK5CYII=\n",
       "\" style=\"display:inline;vertical-align:middle;\" /></a></td></tr>\n",
       "<tr><td>4</td><td>ExprTuple</td><td>8, 9</td><td><a class=\"ProveItLink\" href=\"../fb4e5903138b1faf8435f177a42d03a562a540270/expr.ipynb\"><img src=\"data:image/png;base64,iVBORw0KGgoAAAANSUhEUgAAAC8AAAAVBAMAAAAk6KpUAAAAMFBMVEX////c3NwiIiJERESqqqqY\n",
       "mJh2dnZmZmYQEBDu7u4yMjJUVFTMzMyIiIi6uroAAAAs73DqAAAAAXRSTlMAQObYZgAAARxJREFU\n",
       "KM9jYMAJ+C5gisWBiNMMDMfSTCACUZ/tV3UBFbIfAHJWMjAWMLyHajOQZjjsJcDAsICBgfcCA9sX\n",
       "Bn4FqIQ4A/NEAwaGMAYGjgkMLCgSbAeAEjMYGF6BBeBGQSWYHRjKwAKrGeAS3CCj2AoYlgK5PFkb\n",
       "EBKPooCWsyxg6AML3HgAlZBQ0nIAea6B4R9YgOMnTMdz5gkgMz6AJBgPMDB/hUmwv9kAkWhhYJj/\n",
       "E0mCYeVViFGmDAz8CxiYPjJMgEqc5gaGB+sChnSg5wMY3idwfoL5w8EQ7NxHQK57+RIGzn4BcCDa\n",
       "MCxe78DA9YCBQwAW/AJI4Q4MEtYEKJsVOUJywcGOKcEJDHYGaSgHOSK5QcYyYonaOwwMAL/IR+Iq\n",
       "zKhRAAAAAElFTkSuQmCC\n",
       "\" style=\"display:inline;vertical-align:middle;\" /></a></td></tr>\n",
       "<tr><td>5</td><td>ExprTuple</td><td>10, 12</td><td><a class=\"ProveItLink\" href=\"../6ef0327b3bf985a4823c0d2427b349948c2c9d8d0/expr.ipynb\"><img src=\"data:image/png;base64,iVBORw0KGgoAAAANSUhEUgAAAE4AAAAaBAMAAADrm3fPAAAAMFBMVEX///+qqqp2dnYiIiJERESI\n",
       "iIhmZmYQEBDc3NyYmJgyMjLu7u5UVFTMzMy6uroAAACGxKilAAAAAXRSTlMAQObYZgAAAStJREFU\n",
       "OMtjYGB4x0AIKIAI3gME1d0BEbs2EFTHGgAkTjIQBhYMDBwFSHwWqNmzvvivqgpAiMcwMLAlILjc\n",
       "/jA3OPQwXJFqYBBxAQKg2P4NDOwPEMrOnIera2Ng2eEAl2GewHAf2R3xSOqYLiDUsTkwhBOjjvMD\n",
       "wylc6niQ7OX7zeCDS93jWQ1wcd6/DMuwq2s3thJAiHP8YzADkouNQeABinnPWJDiifsjSB1We9ne\n",
       "HkAxbw0u962ORFL3l+EIuroNUHV3eC4g/PuDIRhNHfdnWPgJeCCH33skZWn1yyZw1zeA04Evw5L1\n",
       "cB8zLWDgv4CWhvgaMNMVVwADjwKaGCeW9Le/gYHXgAh1U4DYEU0sAIs6WyDuIpzsOUFpmVGBoLoW\n",
       "MDmRoLpsBqIBAEZEV5lAuA6OAAAAAElFTkSuQmCC\n",
       "\" style=\"display:inline;vertical-align:middle;\" /></a></td></tr>\n",
       "<tr><td>6</td><td>Literal</td><td></td><td><a class=\"ProveItLink\" href=\"../../../../logic/set_theory/membership/__pv_it/088cbc857536a28d4119ad9639a84270ccb0545d0/expr.ipynb\"><img src=\"data:image/png;base64,iVBORw0KGgoAAAANSUhEUgAAAAwAAAAMBAMAAACkW0HUAAAALVBMVEX///+qqqpmZmZUVFQQEBC6\n",
       "urpERETc3NyYmJjMzMwiIiIyMjKIiIju7u4AAACYsrA9AAAAAXRSTlMAQObYZgAAADxJREFUCNdj\n",
       "YOA9vWrVBgaG2b0MQMCeCyIZ2ArA1DUwyRCyahVIyWQI7xaEYm4AU7xLIdxqTQgtvGvVBgCkcQ7e\n",
       "geM/tQAAAABJRU5ErkJggg==\n",
       "\" style=\"display:inline;vertical-align:middle;\" /></a></td></tr>\n",
       "<tr><td>7</td><td>ExprTuple</td><td>11, 12</td><td><a class=\"ProveItLink\" href=\"../bdfadc8021bf1a0aea4079424a86c9888019dd010/expr.ipynb\"><img src=\"data:image/png;base64,iVBORw0KGgoAAAANSUhEUgAAAE4AAAAaBAMAAADrm3fPAAAAMFBMVEX///+qqqp2dnYiIiJERESI\n",
       "iIhmZmYQEBDc3NyYmJgyMjLu7u5UVFTMzMy6uroAAACGxKilAAAAAXRSTlMAQObYZgAAAVxJREFU\n",
       "OMtjYGB4x0AIKIAI3gME1d0BEbs2EFTHGgAkTjIQBhYMDBwFCG5blh+EMeuL/6qqAIREDAMDWwKc\n",
       "x3GAIV4AwnToYbgi1cAg4gIEQHft38DA/gCujmcDA/MHqLo2BpYdDnAZ5gkM9xGms1cz8PyDq2O6\n",
       "gFDH5sAQjlDH9ZuBDbs6zg8Mp1A8xvwbro4HyV6+3ww+KOruK8DVPZ7VABfm/cuwDEXdEijt0G5s\n",
       "JYAQ5vjHYAYkFxuDwAOwe2HmPWNBiifujyB1KOEJU8f29gCKeWuQlDEmMHTA3bc6EkndX4YjSOqu\n",
       "MTDMYNgAVXeH5wLCvz8YgpF0GSmpGXB/hoWfgAdy+L1HCrz///8bcNc3gNOBL8OS9XAfMy1g4L+A\n",
       "lob4GjDTFVcAA48CmhgnlvS3v4GB14AIdVOA2BFNLACLOlsg7iKc7DlBaZlRgaC6FjA5kaC6bAai\n",
       "AQCz91gJBINLGgAAAABJRU5ErkJggg==\n",
       "\" style=\"display:inline;vertical-align:middle;\" /></a></td></tr>\n",
       "<tr><td>8</td><td>Literal</td><td></td><td><a class=\"ProveItLink\" href=\"../../../numeral/__pv_it/9176d93c83afa2c995b614976e3cb49207102fa70/expr.ipynb\"><img src=\"data:image/png;base64,iVBORw0KGgoAAAANSUhEUgAAAAoAAAAOBAMAAADkjZCYAAAAMFBMVEX///+YmJju7u4QEBBUVFQy\n",
       "MjIiIiKIiIi6urpmZmbc3NyqqqpERER2dnbMzMwAAAB0GlNiAAAAAXRSTlMAQObYZgAAAE1JREFU\n",
       "CNdjYHh79zQDA9cEhv4CBt7fDPwJDNxgEgiAIkAQAsR8Vx1ATIbiBhDJ/ImB6wEDz0cG/U8gkj+A\n",
       "ge0XA7sAQ/8FBoadM6MZAEflFACalZ/OAAAAAElFTkSuQmCC\n",
       "\" style=\"display:inline;vertical-align:middle;\" /></a></td></tr>\n",
       "<tr><td>9</td><td>Literal</td><td></td><td><a class=\"ProveItLink\" href=\"../../../sets/real/__pv_it/9e7645ee1117062e179dd6264898f99ed95b157c0/expr.ipynb\"><img src=\"data:image/png;base64,iVBORw0KGgoAAAANSUhEUgAAAA8AAAAOBAMAAAACpFvcAAAAMFBMVEX///8iIiK6urp2dnbu7u5m\n",
       "ZmaqqqrMzMxUVFTc3NyIiIgQEBBEREQyMjKYmJgAAAA9nvXMAAAAAXRSTlMAQObYZgAAAFJJREFU\n",
       "CNdjePvn/N29CxiA4MAMhprcCSDGVAYezwMQBnMBOoMDJqX4Fqx4tqBsAlj7VFUeBwiDVb0BwmC4\n",
       "sg7KqOAogJqTcJKBAWjpcYY79xMAyqEnfsw4ApEAAAAASUVORK5CYII=\n",
       "\" style=\"display:inline;vertical-align:middle;\" /></a></td></tr>\n",
       "<tr><td>10</td><td>Operation</td><td>operator:&nbsp;14<br>operand:&nbsp;13<br></td><td><a class=\"ProveItLink\" href=\"../27bb768acc4707a63c4de5a0b22e13dfe76b5c980/expr.ipynb\"><img src=\"data:image/png;base64,iVBORw0KGgoAAAANSUhEUgAAABgAAAAPBAMAAAAMihLoAAAAJ1BMVEX///+YmJgQEBBmZmaIiIhU\n",
       "VFTu7u5ERES6uroiIiIyMjLc3NwAAAAKCT4sAAAAAXRSTlMAQObYZgAAACpJREFUCNdjYICDMgST\n",
       "If0Ygp0aisRhYCGTs2smCMwg3wAYYDY6ZciADABBShCHMIgXsAAAAABJRU5ErkJggg==\n",
       "\" style=\"display:inline;vertical-align:middle;\" /></a></td></tr>\n",
       "<tr><td>11</td><td>Operation</td><td>operator:&nbsp;14<br>operand:&nbsp;15<br></td><td><a class=\"ProveItLink\" href=\"../9cd64560928a3eea5b8bd346c0fe76e791b1ec050/expr.ipynb\"><img src=\"data:image/png;base64,iVBORw0KGgoAAAANSUhEUgAAABkAAAAOBAMAAAAoFKpzAAAAMFBMVEX///+YmJh2dnbMzMwQEBDu\n",
       "7u6qqqqIiIhUVFRERERmZma6uroiIiIyMjLc3NwAAABSazM2AAAAAXRSTlMAQObYZgAAAFtJREFU\n",
       "CNdjYIACvlU3NzDAwQsG9m8IXisDw3kEzyWAoR+h9H4Aw3okjUCVAUgc5k/IUrwTGBjengGB00De\n",
       "SmQp9gZkXhYD3wOEGQsYGBG8N0pKa5As+///DwMAyBMb8hv9jf4AAAAASUVORK5CYII=\n",
       "\" style=\"display:inline;vertical-align:middle;\" /></a></td></tr>\n",
       "<tr><td>12</td><td>Literal</td><td></td><td><a class=\"ProveItLink\" href=\"../../../sets/real/__pv_it/ae6abf015b290ff2a5b5ccb58f19177a82c6074b0/expr.ipynb\"><img src=\"data:image/png;base64,iVBORw0KGgoAAAANSUhEUgAAABsAAAAOBAMAAAAs4XpOAAAAMFBMVEX///8iIiK6urp2dnbu7u5m\n",
       "ZmaqqqrMzMxUVFTc3NyIiIgQEBBEREQyMjKYmJgAAAA9nvXMAAAAAXRSTlMAQObYZgAAAF1JREFU\n",
       "CNdjePvn/N29Cxjg4MAMhprcCQw5Z4DAAcidysDjeQAhO5WBuQAflwNVseLbCQjubEHZBCSLpqry\n",
       "OCBzWdUbkLkMV9ahcCs4ClDsTTgJ4wG9cJzhzn2o2QB/7ytaZzHgkAAAAABJRU5ErkJggg==\n",
       "\" style=\"display:inline;vertical-align:middle;\" /></a></td></tr>\n",
       "<tr><td>13</td><td>Literal</td><td></td><td><a class=\"ProveItLink\" href=\"../../../numeral/__pv_it/9be8badea4c35b9724062cecc501d17a3158d1d20/expr.ipynb\"><img src=\"data:image/png;base64,iVBORw0KGgoAAAANSUhEUgAAAAgAAAAPBAMAAAArJJMAAAAAHlBMVEX///+YmJgyMjIQEBBmZmaI\n",
       "iIhUVFTu7u5EREQAAAAw+MI4AAAAAXRSTlMAQObYZgAAACFJREFUCNdjYGBoZ2BgqJjOwFCWBiQY\n",
       "WEklWJwnOTKAAACjEQo8HvEr3AAAAABJRU5ErkJggg==\n",
       "\" style=\"display:inline;vertical-align:middle;\" /></a></td></tr>\n",
       "<tr><td>14</td><td>Literal</td><td></td><td><a class=\"ProveItLink\" href=\"../../../negation/__pv_it/3fc7a08bb9735faa20ef8e175f6ea95511acc9c70/expr.ipynb\"><img src=\"data:image/png;base64,iVBORw0KGgoAAAANSUhEUgAAAA4AAAACBAMAAACapPCZAAAAElBMVEX///+6uroiIiIyMjLc3NwA\n",
       "AAA6l9OrAAAAAXRSTlMAQObYZgAAABBJREFUCNdjcFYCAUUGKAAADR4BD8/TF5gAAAAASUVORK5C\n",
       "YII=\n",
       "\" style=\"display:inline;vertical-align:middle;\" /></a></td></tr>\n",
       "<tr><td>15</td><td>Literal</td><td></td><td><a class=\"ProveItLink\" href=\"../../../numeral/__pv_it/77d407a64829263cdc16415becd4c2293f77a4bf0/expr.ipynb\"><img src=\"data:image/png;base64,iVBORw0KGgoAAAANSUhEUgAAAAkAAAAOBAMAAAAPuiubAAAAMFBMVEX///+YmJh2dnbMzMwQEBAi\n",
       "IiLu7u6qqqqIiIhUVFS6urpEREQyMjJmZmbc3NwAAACOMKdoAAAAAXRSTlMAQObYZgAAAFBJREFU\n",
       "CNdj4Lt7egEDw0sGju8MDNMYGOIZGFwSGOYvYDifwHAfKAEUSQASzJ9ATJ4NIPI2iOCYACJrGfge\n",
       "MDBfYGB8wPBUSekqUPH//18ZAIliFhc3zESNAAAAAElFTkSuQmCC\n",
       "\" style=\"display:inline;vertical-align:middle;\" /></a></td></tr>\n",
       "</table>\n"
      ],
      "text/plain": [
       "0. (3 in Reals , (-1) in RealsNeg , (-2) in RealsNeg)\n",
       "   core type: ExprTuple\n",
       "   sub-expressions: 1, 2, 3\n",
       "1. 3 in Reals\n",
       "   core type: Operation\n",
       "   operator: 6\n",
       "   operands: 4\n",
       "2. (-1) in RealsNeg\n",
       "   core type: Operation\n",
       "   operator: 6\n",
       "   operands: 5\n",
       "3. (-2) in RealsNeg\n",
       "   core type: Operation\n",
       "   operator: 6\n",
       "   operands: 7\n",
       "4. (3 , Reals)\n",
       "   core type: ExprTuple\n",
       "   sub-expressions: 8, 9\n",
       "5. (-1 , RealsNeg)\n",
       "   core type: ExprTuple\n",
       "   sub-expressions: 10, 12\n",
       "6. in\n",
       "   core type: Literal\n",
       "   sub-expressions: \n",
       "7. (-2 , RealsNeg)\n",
       "   core type: ExprTuple\n",
       "   sub-expressions: 11, 12\n",
       "8. 3\n",
       "   core type: Literal\n",
       "   sub-expressions: \n",
       "9. Reals\n",
       "   core type: Literal\n",
       "   sub-expressions: \n",
       "10. -1\n",
       "    core type: Operation\n",
       "    operator: 14\n",
       "    operand: 13\n",
       "11. -2\n",
       "    core type: Operation\n",
       "    operator: 14\n",
       "    operand: 15\n",
       "12. RealsNeg\n",
       "    core type: Literal\n",
       "    sub-expressions: \n",
       "13. 1\n",
       "    core type: Literal\n",
       "    sub-expressions: \n",
       "14. -\n",
       "    core type: Literal\n",
       "    sub-expressions: \n",
       "15. 2\n",
       "    core type: Literal\n",
       "    sub-expressions: "
      ]
     },
     "execution_count": 4,
     "metadata": {},
     "output_type": "execute_result"
    }
   ],
   "source": [
    "# display the expression information\n",
    "expr.exprInfo()"
   ]
  },
  {
   "cell_type": "code",
   "execution_count": null,
   "metadata": {},
   "outputs": [],
   "source": []
  }
 ],
 "metadata": {
  "kernelspec": {
   "display_name": "Python 3",
   "language": "python",
   "name": "python3"
  }
 },
 "nbformat": 4,
 "nbformat_minor": 0
}
