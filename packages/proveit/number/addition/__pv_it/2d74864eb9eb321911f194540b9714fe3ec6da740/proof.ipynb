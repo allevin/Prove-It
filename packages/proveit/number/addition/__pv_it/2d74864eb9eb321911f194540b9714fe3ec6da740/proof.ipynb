{
 "cells": [
  {
   "cell_type": "markdown",
   "metadata": {},
   "source": [
    "Show the Proof\n",
    "========"
   ]
  },
  {
   "cell_type": "code",
   "execution_count": 1,
   "metadata": {},
   "outputs": [
    {
     "data": {
      "text/html": [
       "<table><tr><th>&nbsp;</th><th>step type</th><th>requirements</th><th>statement</th></tr>\n",
       "<tr><td>0</td><td>assumption</td><td></td><td><span style=\"font-size:20px;\"><a class=\"ProveItLink\" href=\"../b1bbfb7798c343f0364317b9bf6c7fa3a949df480/expr.ipynb\"><img src=\"data:image/png;base64,iVBORw0KGgoAAAANSUhEUgAAAEcAAAAVBAMAAADm2O7QAAAAMFBMVEX///9ERETc3NyqqqpUVFS6\n",
       "urrMzMwyMjIQEBCIiIh2dnYiIiLu7u5mZmaYmJgAAABJJ2g3AAAAAXRSTlMAQObYZgAAAS1JREFU\n",
       "KM9jYGDgu8eAG7CtUgBRPLsY8AG2ZhDJ+QHMOTJFAVmOr17we0UliHUdRHA1gEWl7B+gmMDI5MAm\n",
       "XARkrEAo4vl6mAFN0QUGGUVURcwQSxl4pu/eXQBTtIwRVRHvBoii9DdIJqEp4vPYcgHEYZJBts4H\n",
       "bh0v2HT+CRApBSRFrPtADn8P4mUEgEj9BLDUQSSHd+8uBjHYgVaktIHF7CFSEbt3wx1+9QLEbnFg\n",
       "2ESAzVgNUZSCHARXwTzuBUCCBaxRBCJ1GlkR+8kHMDdxgT3fCZFieYCkiM3BDSUIeL5Cw3IrchAs\n",
       "BnkWoYj1D1RO/Ro8gj8msIt/RlbEWQAzwaR6dwFKJMIVPWF8gDNBgRXxARW1n8ad6sDpiWcnA8Or\n",
       "S7hTZivEjYsJpXEASbpVupTkqDgAAAAASUVORK5CYII=\n",
       "\" style=\"display:inline;vertical-align:middle;\" /></a> <a class=\"ProveItLink\" href=\"proof.ipynb\" style=\"text-decoration: none\">&#x22A2;&nbsp;</a><a class=\"ProveItLink\" href=\"../7a95c6b4093a5474182cfcdae777590b5e86f4870/expr.ipynb\"><img src=\"data:image/png;base64,iVBORw0KGgoAAAANSUhEUgAAADQAAAASBAMAAADmo+DzAAAAMFBMVEX///8yMjLMzMwQEBAiIiJm\n",
       "Zma6urqYmJiqqqp2dnZERETc3NyIiIhUVFTu7u4AAAAe+HC4AAAAAXRSTlMAQObYZgAAANFJREFU\n",
       "GNNjYGBgeHt2AwMSYJdf9VFYBsJe2V+ALMXAxX2BaYU0iMX37QUDmlQAw7pdIBbHB4gI30EXFwGY\n",
       "1CQuEIvVASKlWIekCyzFftk3ACTAvQ7ZwHtgA/kPQAQ2IEmxuYOdsV8BLPAKyRkmLhJgVj9EINnF\n",
       "Be6MsACI6VMgUrrIjg+D8NZCBJ4gSzG+AYeCDUSAtwBJiunCJXBgQH3shuz4GSAHs/2DimwMggfv\n",
       "LwXGhT8YGHgEYKp7RVwEkMOylgs12JGA4RNcMgyV0bhkAHivMWCnbbyBAAAAAElFTkSuQmCC\n",
       "\" style=\"display:inline;vertical-align:middle;\" /></a></span></td></tr>\n",
       "</table>"
      ],
      "text/plain": [
       "<proveit._core_.proof._ShowProof at 0x7f94eb45d780>"
      ]
     },
     "execution_count": 1,
     "metadata": {},
     "output_type": "execute_result"
    }
   ],
   "source": [
    "import proveit\n",
    "%show_proof"
   ]
  },
  {
   "cell_type": "code",
   "execution_count": null,
   "metadata": {},
   "outputs": [],
   "source": []
  }
 ],
 "metadata": {
  "kernelspec": {
   "display_name": "Python 3",
   "language": "python",
   "name": "python3"
  }
 },
 "nbformat": 4,
 "nbformat_minor": 0
}
