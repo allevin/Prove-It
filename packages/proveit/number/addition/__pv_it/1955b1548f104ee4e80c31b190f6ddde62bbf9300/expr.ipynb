{
 "cells": [
  {
   "cell_type": "markdown",
   "metadata": {},
   "source": [
    "Expression of type <a class=\"ProveItLink\" href=\"../../../../../../doc/html/api/proveit.ExprTuple.html\">ExprTuple</a>\n",
    "=======================\n",
    "# from context <a class=\"ProveItLink\" href=\"../../_context_.ipynb\">proveit.number.addition</a>"
   ]
  },
  {
   "cell_type": "code",
   "execution_count": 1,
   "metadata": {},
   "outputs": [],
   "source": [
    "# import Expression classes needed to build the expression\n",
    "from proveit import ExprTuple\n",
    "from proveit.number import Add, three, two, zero"
   ]
  },
  {
   "cell_type": "code",
   "execution_count": 2,
   "metadata": {},
   "outputs": [
    {
     "data": {
      "text/html": [
       "<strong id=\"expr\">expr:</strong> <a class=\"ProveItLink\" href=\"expr.ipynb\"><img src=\"data:image/png;base64,iVBORw0KGgoAAAANSUhEUgAAAO0AAAAVBAMAAABYonTIAAAAMFBMVEX////c3NwiIiJERESqqqqY\n",
       "mJh2dnZmZmYQEBDu7u4yMjJUVFTMzMyIiIi6uroAAAAs73DqAAAAAXRSTlMAQObYZgAAAttJREFU\n",
       "SMfFlk9oE0EUxr/dbv5skk2iFw8K5iAiKLaH9qp7Kwil8eLBgwSFFIRiUGigKObQg4qkq5cWLwZr\n",
       "D66g8SgI5lQPHhIEUaxi8CSCpEqMRGjjzE42yZvdSHsoDrzszjf75jfzZt5MgP9V4jVhviVQ3w3k\n",
       "Of7zWtjSp6tS6775E4AsYi07Lik9TyW/Ig0zlr1gUkW/9q6CUIW9PRJ2HHcr5AuljM8mIhJEyaEh\n",
       "BafnuR9GUxo64ptUUev6MaAEGDXHjBSMkmi6Ix5RC+oGAhkQNdhEIkWUvudzYLQ7q6R4XjLxkypv\n",
       "gA/AGSBsOaaWEf8hmqbEI3wT0S3oBRBV63O7St/zhoWXItBaNyTTPa6rHAUaSSwD3+BYIodYk/QX\n",
       "aSO0BYxTLitunLtK3/OpheuUi16cXeU3UDUxYmKOVZgdzCC2KRPUNjDj4T6myoAni7MlcSNlwlVa\n",
       "jFtDMIdVVlsV3i2ZUGWLe0rixi6WvdyW29iis8OaO8hBbgZaCUVWKw7hrjD76pnv+/pQbmRM4sIo\n",
       "+nHjBbAl5OYX5xDvperhhttD43wFMheLlk+cYxsul++OX+x13raP2LaIzjpcbl9VKhih37mefHLO\n",
       "EoRs+8Et2+bvB4CTaaLwfZXm3AVWWXCyQaN5BC2HPZ44328LLskj13MSSnJwdnrHcrg0j6aTPM4T\n",
       "rDLhZH+Q5iVeAaeBs5SbKEGl4xOePJqxHAKEiz9sh1OFnRvn2bFfcvKE2yEsV0h/yuHsTMqTR0Ya\n",
       "jQwdH/fU+fGwN5u9TNf3LeLSDldN/TZ4Hn1hFW5Lsy8oQe10Ooz7RNpXk/mHksI99UU2rdFORzqd\n",
       "tPy8SRV9bp1NL1JHmDmEk4NH9xS5Pwp+qleJky40z71KFXZO8oO/d/g75ftgJVjzU71KwHOn4x/K\n",
       "bP8eHFLubfMqD+zk3tdLzq0pzL8822ZXtZ1wo3xRlJow32JUduN/zkfgLxZV9Ys5gMBjAAAAAElF\n",
       "TkSuQmCC\n",
       "\" style=\"display:inline;vertical-align:middle;\" /></a><br>"
      ],
      "text/plain": [
       "expr: ((0 + 2) + 3 + 0 , 2 + 3 + 0)"
      ]
     },
     "execution_count": 2,
     "metadata": {},
     "output_type": "execute_result"
    }
   ],
   "source": [
    "# build up the expression from sub-expressions\n",
    "expr = ExprTuple(Add(Add(zero, two), three, zero), Add(two, three, zero))"
   ]
  },
  {
   "cell_type": "code",
   "execution_count": 3,
   "metadata": {},
   "outputs": [
    {
     "name": "stdout",
     "output_type": "stream",
     "text": [
      "Passed sanity check: built 'expr' is the same as the stored Expression.\n"
     ]
    }
   ],
   "source": [
    "# check that the built expression is the same as the stored expression\n",
    "%check_expr"
   ]
  },
  {
   "cell_type": "code",
   "execution_count": 4,
   "metadata": {},
   "outputs": [
    {
     "data": {
      "text/html": [
       "<table><tr><th>&nbsp;</th><th>core type</th><th>sub-expressions</th><th>expression</th></tr>\n",
       "<tr><td>0</td><td>ExprTuple</td><td>1, 2</td><td><a class=\"ProveItLink\" href=\"expr.ipynb\"><img src=\"data:image/png;base64,iVBORw0KGgoAAAANSUhEUgAAAO0AAAAVBAMAAABYonTIAAAAMFBMVEX////c3NwiIiJERESqqqqY\n",
       "mJh2dnZmZmYQEBDu7u4yMjJUVFTMzMyIiIi6uroAAAAs73DqAAAAAXRSTlMAQObYZgAAAttJREFU\n",
       "SMfFlk9oE0EUxr/dbv5skk2iFw8K5iAiKLaH9qp7Kwil8eLBgwSFFIRiUGigKObQg4qkq5cWLwZr\n",
       "D66g8SgI5lQPHhIEUaxi8CSCpEqMRGjjzE42yZvdSHsoDrzszjf75jfzZt5MgP9V4jVhviVQ3w3k\n",
       "Of7zWtjSp6tS6775E4AsYi07Lik9TyW/Ig0zlr1gUkW/9q6CUIW9PRJ2HHcr5AuljM8mIhJEyaEh\n",
       "BafnuR9GUxo64ptUUev6MaAEGDXHjBSMkmi6Ix5RC+oGAhkQNdhEIkWUvudzYLQ7q6R4XjLxkypv\n",
       "gA/AGSBsOaaWEf8hmqbEI3wT0S3oBRBV63O7St/zhoWXItBaNyTTPa6rHAUaSSwD3+BYIodYk/QX\n",
       "aSO0BYxTLitunLtK3/OpheuUi16cXeU3UDUxYmKOVZgdzCC2KRPUNjDj4T6myoAni7MlcSNlwlVa\n",
       "jFtDMIdVVlsV3i2ZUGWLe0rixi6WvdyW29iis8OaO8hBbgZaCUVWKw7hrjD76pnv+/pQbmRM4sIo\n",
       "+nHjBbAl5OYX5xDvperhhttD43wFMheLlk+cYxsul++OX+x13raP2LaIzjpcbl9VKhih37mefHLO\n",
       "EoRs+8Et2+bvB4CTaaLwfZXm3AVWWXCyQaN5BC2HPZ44328LLskj13MSSnJwdnrHcrg0j6aTPM4T\n",
       "rDLhZH+Q5iVeAaeBs5SbKEGl4xOePJqxHAKEiz9sh1OFnRvn2bFfcvKE2yEsV0h/yuHsTMqTR0Ya\n",
       "jQwdH/fU+fGwN5u9TNf3LeLSDldN/TZ4Hn1hFW5Lsy8oQe10Ooz7RNpXk/mHksI99UU2rdFORzqd\n",
       "tPy8SRV9bp1NL1JHmDmEk4NH9xS5Pwp+qleJky40z71KFXZO8oO/d/g75ftgJVjzU71KwHOn4x/K\n",
       "bP8eHFLubfMqD+zk3tdLzq0pzL8822ZXtZ1wo3xRlJow32JUduN/zkfgLxZV9Ys5gMBjAAAAAElF\n",
       "TkSuQmCC\n",
       "\" style=\"display:inline;vertical-align:middle;\" /></a></td></tr>\n",
       "<tr><td>1</td><td>Operation</td><td>operator:&nbsp;7<br>operands:&nbsp;3<br></td><td><a class=\"ProveItLink\" href=\"../711fdd781481419910222d5b65da7da2191851110/expr.ipynb\"><img src=\"data:image/png;base64,iVBORw0KGgoAAAANSUhEUgAAAIMAAAAVBAMAAACXjEALAAAAMFBMVEX////c3NwiIiJERESqqqqY\n",
       "mJh2dnZmZmYQEBDu7u4yMjJUVFTMzMyIiIi6uroAAAAs73DqAAAAAXRSTlMAQObYZgAAAchJREFU\n",
       "OMutlDFIHEEUhr9bTr09by9rZWHAKyQElGiRtMnWgqhtqsOAVqKVwhHBIk1E9EyjWIWIhSvI2Vtc\n",
       "pYWFhyCCEhSrEBBNiBcMeOdc5tR74y5c4cLyZv55fDPvvZkHT/AlCyELDaf1InZh8ftHQ2zNvAVT\n",
       "TAx/8KRiTx3mlVmDV3zJi6VIjhOPuMkleSMV69TuAqeAk8L5qrUFbZqzWJc0pBHqmMfv6u6utvtw\n",
       "BDHlnSP5S2t92sQ+01zCnkao/feIaDV/nXDh8hOejZP4I5zj1zSV4LVEcB/IHeIv7HlMQHuaxI3h\n",
       "jHUNIyYinhOISFEhCqxqRNFE7KlE9BqI7XUeI9LMhSBW1P/DPIUzF4QoBQfS1FM5iYlgPhsQSEmn\n",
       "80opGd9/6fv6sMfcIR7U5/BuQNF9/9uM7+eq6RzgE5WiRmVRiY7TYgZil7P/EbKo/S5vqFytxpRE\n",
       "7MAgvJeB/INuVyDU1RrShetgKS+cIy+GR1KPinpAsijvheXZs3CmRoujW9LZKpfLCrEh1ehkxpMI\n",
       "e+JY7R1za99Nn3iH00FqLaLaFdK1s/PaSWMhSA3oMWuhnWS53pbTFrqyWS8iEtb4nHx9gFt6xIeN\n",
       "l1xrPQAAAABJRU5ErkJggg==\n",
       "\" style=\"display:inline;vertical-align:middle;\" /></a></td></tr>\n",
       "<tr><td>2</td><td>Operation</td><td>operator:&nbsp;7<br>operands:&nbsp;4<br></td><td><a class=\"ProveItLink\" href=\"../6136e9f24a7fe85b60df47fc62004bb4710b25980/expr.ipynb\"><img src=\"data:image/png;base64,iVBORw0KGgoAAAANSUhEUgAAAFAAAAAQBAMAAABzZ+XyAAAAMFBMVEX///+YmJh2dnbMzMwQEBAi\n",
       "IiLu7u6qqqqIiIhUVFS6urpEREQyMjJmZmbc3NwAAACOMKdoAAAAAXRSTlMAQObYZgAAAQFJREFU\n",
       "KM9j4Lt7egEDCmBW0i5AFcntuMzA8JKB4zuq8FsGrh+oIlEMqQYM0xgY4iFctgcQWr+A4SuKCEcA\n",
       "A8cBBpcEhvkQu9kbINL1cIVQEdYJDFz/GM4nMNxHVcgAtxoqwn+BgRnsvPgENIU8E1AUvldgYAZp\n",
       "Zf7EgKrQ6CQDhkKQGp4NaAoZOLywKrzNgK6QwT8Bi9UcYAfxnjlz1OfMGRD7MQPDfgFkEZBnPjIw\n",
       "1DLwPUDWz/Y/AawQJXjY/zEwX2BgRFHI8AcYDigiwABnCmB4qqR0FdWNjQxcaOEQzpBiwBD//z9q\n",
       "PDCw371TgCqSqzEZOeqRfI1TBBJxDfhEAMG9V2/GmhRGAAAAAElFTkSuQmCC\n",
       "\" style=\"display:inline;vertical-align:middle;\" /></a></td></tr>\n",
       "<tr><td>3</td><td>ExprTuple</td><td>5, 6, 9</td><td><a class=\"ProveItLink\" href=\"../51332e6fd05528dc75666840c5acffbb341b09110/expr.ipynb\"><img src=\"data:image/png;base64,iVBORw0KGgoAAAANSUhEUgAAAGEAAAAVBAMAAACkm51HAAAAMFBMVEX////c3NwiIiJERESqqqqY\n",
       "mJh2dnZmZmYQEBDu7u4yMjJUVFTMzMyIiIi6uroAAAAs73DqAAAAAXRSTlMAQObYZgAAAb5JREFU\n",
       "OMuVkz9LI0EYxn+Jickm2XWtLBRMcYhw4l1jq/sFxNhYSlAwVbhUCuGEK64RRHPXmM6AWBibfACL\n",
       "VFpYGAQR/IN/SuE4lbuIgsnNZJK5XTFFtth55p33NzzzzjvQ+WdVOkielb9D2Lj8+malLzuuRGxh\n",
       "3lHKWD4tEyoLtQOj/Cx7AF+JK5XYh/WqYv5rYwQKYFYw45gFFf6hhmgO/31DfXF4VLFjOIMZCIvF\n",
       "EtaDCk+qIbxCtNZQU5r4CL9t8nAHPRlifzxE5JlQrVWZpqsnOHLocliEwSSxVw8hbT83RaSkjlYV\n",
       "RIXuDNuKqL4ljpJq3N/lP5EkUGCtDbHVEuaam7C+UXvfVeizZtdzLlexe0nIk/8VwWyxOFwsKhfn\n",
       "zfQBmEjokyck8R1Z3YC3ugQy9DYuup5rEaK6U7Z0NYa8we64lziAaaSbF/hkG80bnINggZSYfCBf\n",
       "9hC+oYVU3JBXd4JVZVPu53eMVWR1b8VkI72Hh/DX6/W4sW4Le0tZh7z0bCyei20j14RtdwtOet6B\n",
       "XrrRMdElwaQ76Zd7EtQqoVVadXub7x3CkD3e35bQj9PUoag06uvk1V7AP/H0d3PjlV+jAAAAAElF\n",
       "TkSuQmCC\n",
       "\" style=\"display:inline;vertical-align:middle;\" /></a></td></tr>\n",
       "<tr><td>4</td><td>ExprTuple</td><td>10, 6, 9</td><td><a class=\"ProveItLink\" href=\"../d3378321f4cc70038417614a965491259f8579390/expr.ipynb\"><img src=\"data:image/png;base64,iVBORw0KGgoAAAANSUhEUgAAAD0AAAAVBAMAAAAHs/uBAAAAMFBMVEX////c3NwiIiJERESqqqqY\n",
       "mJh2dnZmZmYQEBDu7u4yMjJUVFTMzMyIiIi6uroAAAAs73DqAAAAAXRSTlMAQObYZgAAAVNJREFU\n",
       "KM+FkjtLw1AYhp+kt5xe4+Tg0slFBwddJZujdXGU4tCCIHSqIAgOLoJoRzcD6iAu/QmddHBocFGs\n",
       "YHF0aRUvZGk9Obm0IMUM4f3eB77rgf++vDMRbXi/O5jeXQ6cm8qiL8TeQ4tUS6ortCYvlnK1Gj0/\n",
       "nd4V82BDziHTQO8rN/lJoajUPTzBOhgNjEMyA+XGIz4HPZNTeIO0S2oQ9hTk/4G2Rcyi7pdzQ37t\n",
       "N/ItuUOyxqWK22WfZreaI14mbnOs4vNo5sfuGM/vowqnFiJuuGP5s32fdwKotYh9Rf2VPH7gjVVj\n",
       "SrlnbsjlfKuml39JBrewRkOKgo3+rpTczyYkbKoy62ylWhQf0s2V6JWV0i1xhDffq9TD4bAoTkxp\n",
       "r+xcoJSod+Rx0l0MM7yzyR8l95sINkMiGnGkttV9J3Ih78tMEIyeUaQyXiFt8vt6hl/CtF17Pxvb\n",
       "KAAAAABJRU5ErkJggg==\n",
       "\" style=\"display:inline;vertical-align:middle;\" /></a></td></tr>\n",
       "<tr><td>5</td><td>Operation</td><td>operator:&nbsp;7<br>operands:&nbsp;8<br></td><td><a class=\"ProveItLink\" href=\"../78526bce84b8c0725bf84b6d4e607a77888296220/expr.ipynb\"><img src=\"data:image/png;base64,iVBORw0KGgoAAAANSUhEUgAAAC0AAAAQBAMAAABw0OvaAAAAMFBMVEX///9EREQQEBCYmJh2dnaq\n",
       "qqrc3NxUVFQyMjK6uroiIiLMzMyIiIhmZmbu7u4AAADSWfX9AAAAAXRSTlMAQObYZgAAALRJREFU\n",
       "GNNjYHh75jYDCmC72zgBSK1keLUBRTydgecrAwPPAgaeBojAMwhVx8CwnoGBq4CB8xtEIAZCKT1g\n",
       "qJ/AwH+Bgfsrinj/A4b7ExjyHRi4/6CIA8H6B2DxL2jiIAFs4hwCDFjNuQjEIHs/A+kbHR2LOjra\n",
       "QcI8BQxgd7KiupMhloEtAeQvlgUo4twXGJgTGBiWMjzagCKe5eJyC0i99almQBFf////L5QAi2HA\n",
       "DuYgsQFEPDczNwTuawAAAABJRU5ErkJggg==\n",
       "\" style=\"display:inline;vertical-align:middle;\" /></a></td></tr>\n",
       "<tr><td>6</td><td>Literal</td><td></td><td><a class=\"ProveItLink\" href=\"../../../numeral/__pv_it/9176d93c83afa2c995b614976e3cb49207102fa70/expr.ipynb\"><img src=\"data:image/png;base64,iVBORw0KGgoAAAANSUhEUgAAAAoAAAAOBAMAAADkjZCYAAAAMFBMVEX///+YmJju7u4QEBBUVFQy\n",
       "MjIiIiKIiIi6urpmZmbc3NyqqqpERER2dnbMzMwAAAB0GlNiAAAAAXRSTlMAQObYZgAAAE1JREFU\n",
       "CNdjYHh79zQDA9cEhv4CBt7fDPwJDNxgEgiAIkAQAsR8Vx1ATIbiBhDJ/ImB6wEDz0cG/U8gkj+A\n",
       "ge0XA7sAQ/8FBoadM6MZAEflFACalZ/OAAAAAElFTkSuQmCC\n",
       "\" style=\"display:inline;vertical-align:middle;\" /></a></td></tr>\n",
       "<tr><td>7</td><td>Literal</td><td></td><td><a class=\"ProveItLink\" href=\"../3e6688136fa3c7aefbebe51301b7c3ebf0b69c440/expr.ipynb\"><img src=\"data:image/png;base64,iVBORw0KGgoAAAANSUhEUgAAAA4AAAAOBAMAAADtZjDiAAAAJFBMVEX///+6urpUVFQQEBAiIiIy\n",
       "MjJmZmaIiIiqqqrc3Nzu7u4AAACgHpL+AAAAAXRSTlMAQObYZgAAAB5JREFUCNdjYGBgWMkAAe2k\n",
       "0Kmhoc6hoUGk6BMHYgAHOwjcado9fwAAAABJRU5ErkJggg==\n",
       "\" style=\"display:inline;vertical-align:middle;\" /></a></td></tr>\n",
       "<tr><td>8</td><td>ExprTuple</td><td>9, 10</td><td><a class=\"ProveItLink\" href=\"../3e1f3f991e299584508e856d9b02e2f366933cc40/expr.ipynb\"><img src=\"data:image/png;base64,iVBORw0KGgoAAAANSUhEUgAAACkAAAAVBAMAAAAp9toTAAAAMFBMVEX////c3NwiIiJERESqqqqY\n",
       "mJh2dnZmZmYQEBDu7u4yMjJUVFTMzMyIiIi6uroAAAAs73DqAAAAAXRSTlMAQObYZgAAAQxJREFU\n",
       "GNNtkbFKA0EQhr/TXJKL2XjYWpjC2tjY2/kGlpIqVoFDQRtBCwsrXWySckEsrEwrCF5vkwdQOCyt\n",
       "NEQ7jTu7ucAFt1j++XaY/WcG/j+N4RzYk+sZeq8nHgTHNxmV1Ko72OA6dXQVNQYDaohqooyjD9CC\n",
       "XahqFgY0Ph290Dxl9OEdlhPqY0fvNacZi9scwVqb+k/uoKUpJ9x6+j2FIkqGyyKtbdoOzvgtVjiU\n",
       "/A+h8tuXh2rg6TnirOSdsUMQS4UtpItyEy1ZCWFMaNi3wTr9NBpZsdLpHCDO3mzQ6z4SXcXW7GRi\n",
       "H2sZ1TifaC6k47A91eFswF0/ySKNjJupP7OVLEmpYH5DL/AHXJBBfaMpF1EAAAAASUVORK5CYII=\n",
       "\" style=\"display:inline;vertical-align:middle;\" /></a></td></tr>\n",
       "<tr><td>9</td><td>Literal</td><td></td><td><a class=\"ProveItLink\" href=\"../../../numeral/__pv_it/ec23fc7a1b4222a5f4948b495002b97d6fa18c3c0/expr.ipynb\"><img src=\"data:image/png;base64,iVBORw0KGgoAAAANSUhEUgAAAAoAAAAOBAMAAADkjZCYAAAALVBMVEX///8QEBCYmJh2dnaqqqrc\n",
       "3NxUVFQyMjK6uroiIiLMzMyIiIhmZmbu7u4AAAAZjyHdAAAAAXRSTlMAQObYZgAAAEpJREFUCNdj\n",
       "YLiz+xQDA8MMhpsLGLgnMHAXMHAmMHA8ZeA7wMD1hCHOgIHrNZh8jES+Bss+AqlkeQrSxTyBgWEK\n",
       "w8UFDAx3rLMYAMCjFldHSx/9AAAAAElFTkSuQmCC\n",
       "\" style=\"display:inline;vertical-align:middle;\" /></a></td></tr>\n",
       "<tr><td>10</td><td>Literal</td><td></td><td><a class=\"ProveItLink\" href=\"../../../numeral/__pv_it/77d407a64829263cdc16415becd4c2293f77a4bf0/expr.ipynb\"><img src=\"data:image/png;base64,iVBORw0KGgoAAAANSUhEUgAAAAkAAAAOBAMAAAAPuiubAAAAMFBMVEX///+YmJh2dnbMzMwQEBAi\n",
       "IiLu7u6qqqqIiIhUVFS6urpEREQyMjJmZmbc3NwAAACOMKdoAAAAAXRSTlMAQObYZgAAAFBJREFU\n",
       "CNdj4Lt7egEDw0sGju8MDNMYGOIZGFwSGOYvYDifwHAfKAEUSQASzJ9ATJ4NIPI2iOCYACJrGfge\n",
       "MDBfYGB8wPBUSekqUPH//18ZAIliFhc3zESNAAAAAElFTkSuQmCC\n",
       "\" style=\"display:inline;vertical-align:middle;\" /></a></td></tr>\n",
       "</table>\n"
      ],
      "text/plain": [
       "0. ((0 + 2) + 3 + 0 , 2 + 3 + 0)\n",
       "   core type: ExprTuple\n",
       "   sub-expressions: 1, 2\n",
       "1. (0 + 2) + 3 + 0\n",
       "   core type: Operation\n",
       "   operator: 7\n",
       "   operands: 3\n",
       "2. 2 + 3 + 0\n",
       "   core type: Operation\n",
       "   operator: 7\n",
       "   operands: 4\n",
       "3. (0 + 2 , 3 , 0)\n",
       "   core type: ExprTuple\n",
       "   sub-expressions: 5, 6, 9\n",
       "4. (2 , 3 , 0)\n",
       "   core type: ExprTuple\n",
       "   sub-expressions: 10, 6, 9\n",
       "5. 0 + 2\n",
       "   core type: Operation\n",
       "   operator: 7\n",
       "   operands: 8\n",
       "6. 3\n",
       "   core type: Literal\n",
       "   sub-expressions: \n",
       "7. +\n",
       "   core type: Literal\n",
       "   sub-expressions: \n",
       "8. (0 , 2)\n",
       "   core type: ExprTuple\n",
       "   sub-expressions: 9, 10\n",
       "9. 0\n",
       "   core type: Literal\n",
       "   sub-expressions: \n",
       "10. 2\n",
       "    core type: Literal\n",
       "    sub-expressions: "
      ]
     },
     "execution_count": 4,
     "metadata": {},
     "output_type": "execute_result"
    }
   ],
   "source": [
    "# display the expression information\n",
    "expr.exprInfo()"
   ]
  },
  {
   "cell_type": "code",
   "execution_count": null,
   "metadata": {},
   "outputs": [],
   "source": []
  }
 ],
 "metadata": {
  "kernelspec": {
   "display_name": "Python 3",
   "language": "python",
   "name": "python3"
  }
 },
 "nbformat": 4,
 "nbformat_minor": 0
}
