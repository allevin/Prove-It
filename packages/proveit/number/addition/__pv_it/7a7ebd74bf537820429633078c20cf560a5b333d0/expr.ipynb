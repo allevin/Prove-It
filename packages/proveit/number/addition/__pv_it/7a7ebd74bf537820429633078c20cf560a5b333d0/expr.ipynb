{
 "cells": [
  {
   "cell_type": "markdown",
   "metadata": {},
   "source": [
    "Expression of type <a class=\"ProveItLink\" href=\"../../../../../../doc/html/api/proveit.logic.InSet.html\">InSet</a>\n",
    "=======================\n",
    "# from context <a class=\"ProveItLink\" href=\"../../_context_.ipynb\">proveit.number.addition</a>"
   ]
  },
  {
   "cell_type": "code",
   "execution_count": 1,
   "metadata": {},
   "outputs": [],
   "source": [
    "# import Expression classes needed to build the expression\n",
    "from proveit._common_ import b, c\n",
    "from proveit.logic import InSet\n",
    "from proveit.number import Complexes, Exp, five, three"
   ]
  },
  {
   "cell_type": "code",
   "execution_count": 2,
   "metadata": {},
   "outputs": [
    {
     "data": {
      "text/html": [
       "<strong id=\"expr\">expr:</strong> <a class=\"ProveItLink\" href=\"expr.ipynb\"><img src=\"data:image/png;base64,iVBORw0KGgoAAAANSUhEUgAAAJIAAAAZBAMAAAAoImqmAAAAMFBMVEX////c3NwiIiJERESqqqqY\n",
       "mJh2dnZmZmYQEBDu7u4yMjJUVFTMzMyIiIi6uroAAAAs73DqAAAAAXRSTlMAQObYZgAAAj1JREFU\n",
       "OMutlE9oE0EUxr+YpNnNn83eBOuhrCcvKogHD8VcPHloToVeQqhQLwZXQQVR9CBehHZRLD1pKHiI\n",
       "vexFFESaUw8WJAgiSAsqKOKltkXxXxLfzs68bHZ1IbBDGH773syXmTffDJBEM87f6yAZpf5vJKRU\n",
       "M5NSeoeklK69cagfoVa1/8RTZqYJrEN/OuEHGP7RinOnK8i1I/FXj34csGnqH6AF5F0ZZoi2vTC6\n",
       "QDMcftnDYtfNt9FDiTZXrsg4Q7Sdq2AHmA5Fs4UqMOVq7dQ2NCrVliMTDNE2JZSWZBneWpZY3oxG\n",
       "Xc4dc0ouvhDOquGzsQdEu0v7i34xI2P2uKfbwdwlgH5Y2XzsJxiw2NgIgSjimC2O6rgM6fanwT89\n",
       "pO9dlMWhMKA4j+VhwNoKdRmxp7RydLF+cqA0T+mf0OoeM2Cpg2PDAJRoqHHDo7tsjfrHgVKPKtZE\n",
       "WayaAasqvRoo1IKD4lcPPluWX3H9yNqQ0h4bW1WPGbCr0gz7gRNVqbTOs1uFgdJN4aLrjrSTD6mu\n",
       "ugYK9L7jKfm7u8Ozp4WS7x2qAlX5FnQEAN/IdGIAwy/gsImsqHihqpTSNTK2cVDwGUpUci4eTAQA\n",
       "T4Cz+k4QXsP4rlygH+JFPZt07h/11/SBEs8v0iFtBwC5xqajL5gByFy+Qq7M+w/Rvqt8ehf6t+Xj\n",
       "pClvvEcYDDMM6rbg1LIVuczZugTeO0M2AmjEXafWCEp6M05pXDpYfTOgE4FC7MOfGuH13YjJ/QWE\n",
       "2aFpCuK+VQAAAABJRU5ErkJggg==\n",
       "\" style=\"display:inline;vertical-align:middle;\" /></a><br>"
      ],
      "text/plain": [
       "expr: (b , b , c , c , 3) in Complexes^{5}"
      ]
     },
     "execution_count": 2,
     "metadata": {},
     "output_type": "execute_result"
    }
   ],
   "source": [
    "# build up the expression from sub-expressions\n",
    "expr = InSet([b, b, c, c, three], Exp(Complexes, five))"
   ]
  },
  {
   "cell_type": "code",
   "execution_count": 3,
   "metadata": {},
   "outputs": [
    {
     "name": "stdout",
     "output_type": "stream",
     "text": [
      "Passed sanity check: built 'expr' is the same as the stored Expression.\n"
     ]
    }
   ],
   "source": [
    "# check that the built expression is the same as the stored expression\n",
    "%check_expr"
   ]
  },
  {
   "cell_type": "code",
   "execution_count": 4,
   "metadata": {},
   "outputs": [
    {
     "data": {
      "text/html": [
       "<table><tr><th>&nbsp;</th><th>core type</th><th>sub-expressions</th><th>expression</th></tr>\n",
       "<tr><td>0</td><td>Operation</td><td>operator:&nbsp;1<br>operands:&nbsp;2<br></td><td><a class=\"ProveItLink\" href=\"expr.ipynb\"><img src=\"data:image/png;base64,iVBORw0KGgoAAAANSUhEUgAAAJIAAAAZBAMAAAAoImqmAAAAMFBMVEX////c3NwiIiJERESqqqqY\n",
       "mJh2dnZmZmYQEBDu7u4yMjJUVFTMzMyIiIi6uroAAAAs73DqAAAAAXRSTlMAQObYZgAAAj1JREFU\n",
       "OMutlE9oE0EUxr+YpNnNn83eBOuhrCcvKogHD8VcPHloToVeQqhQLwZXQQVR9CBehHZRLD1pKHiI\n",
       "vexFFESaUw8WJAgiSAsqKOKltkXxXxLfzs68bHZ1IbBDGH773syXmTffDJBEM87f6yAZpf5vJKRU\n",
       "M5NSeoeklK69cagfoVa1/8RTZqYJrEN/OuEHGP7RinOnK8i1I/FXj34csGnqH6AF5F0ZZoi2vTC6\n",
       "QDMcftnDYtfNt9FDiTZXrsg4Q7Sdq2AHmA5Fs4UqMOVq7dQ2NCrVliMTDNE2JZSWZBneWpZY3oxG\n",
       "Xc4dc0ouvhDOquGzsQdEu0v7i34xI2P2uKfbwdwlgH5Y2XzsJxiw2NgIgSjimC2O6rgM6fanwT89\n",
       "pO9dlMWhMKA4j+VhwNoKdRmxp7RydLF+cqA0T+mf0OoeM2Cpg2PDAJRoqHHDo7tsjfrHgVKPKtZE\n",
       "WayaAasqvRoo1IKD4lcPPluWX3H9yNqQ0h4bW1WPGbCr0gz7gRNVqbTOs1uFgdJN4aLrjrSTD6mu\n",
       "ugYK9L7jKfm7u8Ozp4WS7x2qAlX5FnQEAN/IdGIAwy/gsImsqHihqpTSNTK2cVDwGUpUci4eTAQA\n",
       "T4Cz+k4QXsP4rlygH+JFPZt07h/11/SBEs8v0iFtBwC5xqajL5gByFy+Qq7M+w/Rvqt8ehf6t+Xj\n",
       "pClvvEcYDDMM6rbg1LIVuczZugTeO0M2AmjEXafWCEp6M05pXDpYfTOgE4FC7MOfGuH13YjJ/QWE\n",
       "2aFpCuK+VQAAAABJRU5ErkJggg==\n",
       "\" style=\"display:inline;vertical-align:middle;\" /></a></td></tr>\n",
       "<tr><td>1</td><td>Literal</td><td></td><td><a class=\"ProveItLink\" href=\"../../../../logic/set_theory/membership/__pv_it/088cbc857536a28d4119ad9639a84270ccb0545d0/expr.ipynb\"><img src=\"data:image/png;base64,iVBORw0KGgoAAAANSUhEUgAAAAwAAAAMBAMAAACkW0HUAAAALVBMVEX///+qqqpmZmZUVFQQEBC6\n",
       "urpERETc3NyYmJjMzMwiIiIyMjKIiIju7u4AAACYsrA9AAAAAXRSTlMAQObYZgAAADxJREFUCNdj\n",
       "YOA9vWrVBgaG2b0MQMCeCyIZ2ArA1DUwyRCyahVIyWQI7xaEYm4AU7xLIdxqTQgtvGvVBgCkcQ7e\n",
       "geM/tQAAAABJRU5ErkJggg==\n",
       "\" style=\"display:inline;vertical-align:middle;\" /></a></td></tr>\n",
       "<tr><td>2</td><td>ExprTuple</td><td>3, 4</td><td><a class=\"ProveItLink\" href=\"../de0fff62a135cb6719d171db04533fef63ab35360/expr.ipynb\"><img src=\"data:image/png;base64,iVBORw0KGgoAAAANSUhEUgAAAJYAAAAcBAMAAABxBFtvAAAAMFBMVEX///+qqqp2dnYiIiJERESI\n",
       "iIhmZmYQEBDc3NyYmJgyMjLu7u5UVFTMzMy6uroAAACGxKilAAAAAXRSTlMAQObYZgAAAohJREFU\n",
       "SMetlU9oE0EUxr/EZpPdTbY5e2kQ40WkPRURpPUiFAUDEkVMoScPrYdiL4LY5lBFFHEVvUpA8FRx\n",
       "ETUghUSogh6s9OBJsOAf6sUkarVaY31vMzPZTVIbSAZ25jdv33yZefPeBui8fbpyC91qpY2ixC+d\n",
       "an1eoS7BFCt2quVu5i13T5yO45WeAEIpohc8/dj+yttNlkvYTv1eIDJZO+f8lHijoLnFduyMQ3td\n",
       "N4T23Z86SGOBbBlAGyM26Jxz0mFuU62LsFaBXF27tGz2Z3APvcuk5yBMA9L0VKRHZVOt/ji+ATfU\n",
       "3Kb4BP7gPK5lgW023rHxHGCtCwcFza3P1crLqe5wfE5jN58P2jCO83LadnBAeCho1fiMPXEx0SKc\n",
       "To8Q3MXJpZfxko3ExrOM7XoowIPkaAPAoNXBMTF5bCW8P7OOw+xBiwvDqLo2BbFp3PEDlvheAjL4\n",
       "SwHbe8lV3KWB49/n4EwtKBLyKYz4gZJgmjYwKbUsr1bkLwZp4CsdB364NgWL0mvRs2LGQaws+GHM\n",
       "e0azorQGYf1ybQq+Sy8FV4Ejdl3LcIr+fXEEwnHOKm1dpFcNIqvSSYK54bCWOqOeYC1TulWxQEMP\n",
       "nbuKcAJc5gpod7offgNDWeg5qTDCZfxefBusNRxF7ZafUtKZlIl1eA7s8cMJWF9FThQ4C6MLJ80P\n",
       "h+QuyyixJL2YP2bDnMl6QEumHT8ETo1TNAyuuvwar38z9POVjFcwh14u+7My37Jbg6ihlcaSMFKI\n",
       "8r3KctWxNSBZq+tGrUIWsQHxzWlXy8y11rpJzwG+T5EoKfniPxB1DxtqKvv99FxmuND+N3q0tVnn\n",
       "2w0kuvInOev217uiNYGutn/6ErpViEblMAAAAABJRU5ErkJggg==\n",
       "\" style=\"display:inline;vertical-align:middle;\" /></a></td></tr>\n",
       "<tr><td>3</td><td>ExprTuple</td><td>5, 5, 6, 6, 7</td><td><a class=\"ProveItLink\" href=\"../7cc04238d6d70e86308fde7c7fba4054eb60ed0e0/expr.ipynb\"><img src=\"data:image/png;base64,iVBORw0KGgoAAAANSUhEUgAAAF8AAAAVBAMAAADSoS/MAAAAMFBMVEX////c3NwiIiJERESqqqqY\n",
       "mJh2dnZmZmYQEBDu7u4yMjJUVFTMzMyIiIi6uroAAAAs73DqAAAAAXRSTlMAQObYZgAAAZJJREFU\n",
       "OMuVkz1LA0EQht8YL5fNxyWdhYL5B9pYe//AqywlRIiNwWuMYKOF2JlcJek8BAtJk0a0EVOJYJPG\n",
       "QvAgWtokGhQUos7e7i0Hp5JMsTz77szu7OwsMLYZndF9V/hwC3ZREHMFv1imvGpCbxOdAqmWVBVE\n",
       "bQrGEHCBLGWUM6WqIGobJl6BZSDpAD1HqgqituQHNIBnmpQCtfRvdSiluIkqYdM7E5oCVvbagg4r\n",
       "D6ELJmyc0OoAOX9ZAW66KVGwTA3Hwv+6ScOkixqNH0gWuaaAHSBu+W6NDhbkCVlyNXbxBegucjaX\n",
       "FKT7QeJXoUvUHWT6PGDCRs/fT0FuPnAaBDADLFo8YM+v/o4jn0HAbNAusaEE9u3wAEqJMqSL7oMh\n",
       "DHSOxQFvgAa+yScwl4fmYo0yNvUWjgphsJFoc8A5sM7oxXAH490v6xMdd7lJ5XgJAarevQC94jms\n",
       "nqcKbm1T36S6SOZllo/4E4zAh7eGVpRs4U/QVGUror1HDmDU3piW7xiIUYD6k2meW2yML0p9+AMW\n",
       "B3DTOOOXIAAAAABJRU5ErkJggg==\n",
       "\" style=\"display:inline;vertical-align:middle;\" /></a></td></tr>\n",
       "<tr><td>4</td><td>Operation</td><td>operator:&nbsp;8<br>operands:&nbsp;9<br></td><td><a class=\"ProveItLink\" href=\"../1d5ca85bb291b50723080d0d449bfc191044913a0/expr.ipynb\"><img src=\"data:image/png;base64,iVBORw0KGgoAAAANSUhEUgAAABcAAAAUBAMAAACUkLs9AAAAMFBMVEX////c3NyqqqqYmJhUVFR2\n",
       "dnbu7u66urrMzMxmZmZEREQQEBAyMjIiIiKIiIgAAAB7fvZ0AAAAAXRSTlMAQObYZgAAAJZJREFU\n",
       "GNNjYICCSjE7Bjio/++A4BQXItgM5Uhshsp30xAcQQYdEMV35/zelUA6v4GBgaO+gC3+CcMJBv4C\n",
       "BgYDZwYGpi8MOxjkBRiYEzYAlUxhCGN4wsDAyQiyLI+BNTKAgSGTPQBhZCuTARKHHYmTxYGkjCcB\n",
       "ybXMASAOG5S3uA5I1CZAOCxez9iqlsEUdt7/7Q5hAQDDzB+JAiNuCgAAAABJRU5ErkJggg==\n",
       "\" style=\"display:inline;vertical-align:middle;\" /></a></td></tr>\n",
       "<tr><td>5</td><td>Variable</td><td></td><td><a class=\"ProveItLink\" href=\"../../../../__pv_it/6840a4fa6c106149dc16a131294d0c5e44f1b0480/expr.ipynb\"><img src=\"data:image/png;base64,iVBORw0KGgoAAAANSUhEUgAAAAkAAAAOBAMAAAAPuiubAAAALVBMVEX///9mZmbMzMxERESYmJiI\n",
       "iIh2dna6urqqqqoyMjIiIiIQEBBUVFTu7u4AAAD9S1JeAAAAAXRSTlMAQObYZgAAAE1JREFUCNdj\n",
       "4D29gAEIOA+ASL4GEFl3AURmgQiGOaFHGBh4HzPwKTBwvGXgTmBgnMDAJ8DAJcBQ5wBSLncBJLWN\n",
       "gYGngRFoBO9REQYGAGrcDtUkVqASAAAAAElFTkSuQmCC\n",
       "\" style=\"display:inline;vertical-align:middle;\" /></a></td></tr>\n",
       "<tr><td>6</td><td>Variable</td><td></td><td><a class=\"ProveItLink\" href=\"../../../../__pv_it/cbdfda466482236edba0ce44ac7ef39cda0af7a40/expr.ipynb\"><img src=\"data:image/png;base64,iVBORw0KGgoAAAANSUhEUgAAAAkAAAAJBAMAAAASvxsjAAAALVBMVEX///9mZmbc3NxUVFSYmJhE\n",
       "REQiIiIyMjK6uroQEBDMzMyIiIh2dnbu7u4AAABgFDGoAAAAAXRSTlMAQObYZgAAADZJREFUCNdj\n",
       "YOA9s3sBA8PKBvYEBt7ZDKwODMwPGICALwBE6m0Asx0YGIDiAgw8QJUyu/cyAAAmuwmycZ8WfQAA\n",
       "AABJRU5ErkJggg==\n",
       "\" style=\"display:inline;vertical-align:middle;\" /></a></td></tr>\n",
       "<tr><td>7</td><td>Literal</td><td></td><td><a class=\"ProveItLink\" href=\"../../../numeral/__pv_it/9176d93c83afa2c995b614976e3cb49207102fa70/expr.ipynb\"><img src=\"data:image/png;base64,iVBORw0KGgoAAAANSUhEUgAAAAoAAAAOBAMAAADkjZCYAAAAMFBMVEX///+YmJju7u4QEBBUVFQy\n",
       "MjIiIiKIiIi6urpmZmbc3NyqqqpERER2dnbMzMwAAAB0GlNiAAAAAXRSTlMAQObYZgAAAE1JREFU\n",
       "CNdjYHh79zQDA9cEhv4CBt7fDPwJDNxgEgiAIkAQAsR8Vx1ATIbiBhDJ/ImB6wEDz0cG/U8gkj+A\n",
       "ge0XA7sAQ/8FBoadM6MZAEflFACalZ/OAAAAAElFTkSuQmCC\n",
       "\" style=\"display:inline;vertical-align:middle;\" /></a></td></tr>\n",
       "<tr><td>8</td><td>Literal</td><td></td><td><a class=\"ProveItLink\" href=\"../../../exponentiation/__pv_it/deb2bf23cbccdd6e6791e1b35b5b9794ce12dbd50/expr.ipynb\"><img src=\"data:image/png;base64,iVBORw0KGgoAAAANSUhEUgAAACgAAAASBAMAAADbMYGVAAAAMFBMVEX///8QEBAiIiKYmJjc3Nzu\n",
       "7u7MzMx2dnZmZma6urpERESqqqoyMjJUVFSIiIgAAAAoDOMTAAAAAXRSTlMAQObYZgAAAOBJREFU\n",
       "GNNjYGB4+//u3Tt/GNAASGAXmhjnPyDBgSbI/g1IxKEJ8nxgYGdgQRPkX8BgDKRY6q7s62OYvmze\n",
       "2wAgb/7ZO1+AVDiDkYEQQ0HTBr4DQF59AgOIKmB4z7CNbcNZBu6vQN55kEACQwDDLQYGVobfDHwg\n",
       "fb8YGBxYHwAZciD3fWXg+gB1JjvQcJZvQIXsCgz8F6DO9GBgMOH7wPCUgaeBwd4B7EwGNjUG7s9c\n",
       "AiwPgO5jkWRgiF3/9+5dfQUG1nWl5Y+B7pv+1gE9bBhqGLCAE1jEWH9jEbT5A3IwAC4sP/1L6Qlu\n",
       "AAAAAElFTkSuQmCC\n",
       "\" style=\"display:inline;vertical-align:middle;\" /></a></td></tr>\n",
       "<tr><td>9</td><td>ExprTuple</td><td>10, 11</td><td><a class=\"ProveItLink\" href=\"../7b5508e04b247401485fb3cbfb9e6c01a4389fb40/expr.ipynb\"><img src=\"data:image/png;base64,iVBORw0KGgoAAAANSUhEUgAAAC8AAAAVBAMAAAAk6KpUAAAAMFBMVEX////c3NwiIiJERESqqqqY\n",
       "mJh2dnZmZmYQEBDu7u4yMjJUVFTMzMyIiIi6uroAAAAs73DqAAAAAXRSTlMAQObYZgAAASRJREFU\n",
       "KM9jYMAJ+C5gisWBiNNAzKu1vskcIsYVyZjCwH4AyFrJwMDz/gFn/m2IBMf//wkMDAuAioEmBWxl\n",
       "YGD5DdVRnQMkw4AqJjCwTmgAsqshEtxgcgYDwysGBnbGDUD2XGQJZgeGMgaG6XwJCAdx3739gIGB\n",
       "rYBhKQPDMZYAhATzBM5/QBsXMPQBJfgCUHyxA+i5Bgag9GSeBBSJ/AMMPB9AElwTNiBEjYASD0AS\n",
       "LQwMrAkgCU6IRBMDQ70AyChTIMf0LZB4NAEsVcDAsAqodgFDOsiJm29yPrZkmK8AZIszsDSCnfsI\n",
       "pOy4/o99QO9+BDJ5yncLAK19wMAhgLD4IZw1A2QzQgLhnVxIsGNIcAKDnUEaLs6LCDCQ+YxYovYO\n",
       "AwMAlNdEY4sgu8kAAAAASUVORK5CYII=\n",
       "\" style=\"display:inline;vertical-align:middle;\" /></a></td></tr>\n",
       "<tr><td>10</td><td>Literal</td><td></td><td><a class=\"ProveItLink\" href=\"../../../sets/complex/__pv_it/c357845f93a5a2d9f649129d299e7ec28dda4b960/expr.ipynb\"><img src=\"data:image/png;base64,iVBORw0KGgoAAAANSUhEUgAAAA8AAAAOBAMAAAACpFvcAAAAMFBMVEX////c3NyqqqqYmJhUVFR2\n",
       "dnbu7u66urrMzMxmZmZEREQQEBAyMjIiIiKIiIgAAAB7fvZ0AAAAAXRSTlMAQObYZgAAAGVJREFU\n",
       "CNdjYGDgu3N+70oGBgaO+gK2+CdAhoEzAwPTFwYG5oQNQN4UBgZORgcgI4+BIZM9gAEMWpkMoAx2\n",
       "KCOLAyrFk+AAYTAHgBhsQLy4DkjUJjAwsHg9Y6taBpLsvP/bnYEBACkBFGQfBv8RAAAAAElFTkSu\n",
       "QmCC\n",
       "\" style=\"display:inline;vertical-align:middle;\" /></a></td></tr>\n",
       "<tr><td>11</td><td>Literal</td><td></td><td><a class=\"ProveItLink\" href=\"../../../numeral/__pv_it/aaeeaca7d86eb2b7cdc49e25c3108b81b52ec5400/expr.ipynb\"><img src=\"data:image/png;base64,iVBORw0KGgoAAAANSUhEUgAAAAkAAAAOBAMAAAAPuiubAAAAMFBMVEX///8iIiJERES6urqIiIjM\n",
       "zMxUVFRmZmYQEBCqqqp2dnbc3Nzu7u6YmJgyMjIAAADYGhJvAAAAAXRSTlMAQObYZgAAAE1JREFU\n",
       "CNdj4LvDvZKBgeP//wUMDHxlSxkYGNgYGBCki5sBAwPTAZ7PYG4GmFwfwKAIJA0YGhkY6jcwFDAw\n",
       "vGNg2M7A2c3AwFqetoEBAKS8EE1WXEJLAAAAAElFTkSuQmCC\n",
       "\" style=\"display:inline;vertical-align:middle;\" /></a></td></tr>\n",
       "</table>\n"
      ],
      "text/plain": [
       "0. (b , b , c , c , 3) in Complexes^{5}\n",
       "   core type: Operation\n",
       "   operator: 1\n",
       "   operands: 2\n",
       "1. in\n",
       "   core type: Literal\n",
       "   sub-expressions: \n",
       "2. ((b , b , c , c , 3) , Complexes^{5})\n",
       "   core type: ExprTuple\n",
       "   sub-expressions: 3, 4\n",
       "3. (b , b , c , c , 3)\n",
       "   core type: ExprTuple\n",
       "   sub-expressions: 5, 5, 6, 6, 7\n",
       "4. Complexes^{5}\n",
       "   core type: Operation\n",
       "   operator: 8\n",
       "   operands: 9\n",
       "5. b\n",
       "   core type: Variable\n",
       "   sub-expressions: \n",
       "6. c\n",
       "   core type: Variable\n",
       "   sub-expressions: \n",
       "7. 3\n",
       "   core type: Literal\n",
       "   sub-expressions: \n",
       "8. Exp\n",
       "   core type: Literal\n",
       "   sub-expressions: \n",
       "9. (Complexes , 5)\n",
       "   core type: ExprTuple\n",
       "   sub-expressions: 10, 11\n",
       "10. Complexes\n",
       "    core type: Literal\n",
       "    sub-expressions: \n",
       "11. 5\n",
       "    core type: Literal\n",
       "    sub-expressions: "
      ]
     },
     "execution_count": 4,
     "metadata": {},
     "output_type": "execute_result"
    }
   ],
   "source": [
    "# display the expression information\n",
    "expr.exprInfo()"
   ]
  },
  {
   "cell_type": "code",
   "execution_count": null,
   "metadata": {},
   "outputs": [],
   "source": []
  }
 ],
 "metadata": {
  "kernelspec": {
   "display_name": "Python 3",
   "language": "python",
   "name": "python3"
  }
 },
 "nbformat": 4,
 "nbformat_minor": 0
}
