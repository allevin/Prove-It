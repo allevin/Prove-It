{
 "cells": [
  {
   "cell_type": "markdown",
   "metadata": {},
   "source": [
    "Expression of type <a class=\"ProveItLink\" href=\"../../../../../../doc/html/api/proveit.number.Add.html\">Add</a>\n",
    "=======================\n",
    "# from context <a class=\"ProveItLink\" href=\"../../_context_.ipynb\">proveit.number.addition</a>"
   ]
  },
  {
   "cell_type": "code",
   "execution_count": 1,
   "metadata": {},
   "outputs": [],
   "source": [
    "# import Expression classes needed to build the expression\n",
    "from proveit._common_ import b, c\n",
    "from proveit.number import Add, Mult, three, two"
   ]
  },
  {
   "cell_type": "code",
   "execution_count": 2,
   "metadata": {},
   "outputs": [
    {
     "data": {
      "text/html": [
       "<strong id=\"expr\">expr:</strong> <a class=\"ProveItLink\" href=\"expr.ipynb\"><img src=\"data:image/png;base64,iVBORw0KGgoAAAANSUhEUgAAAPUAAAAVBAMAAABs27XUAAAAMFBMVEX////c3NwiIiJERESqqqqY\n",
       "mJh2dnZmZmYQEBDu7u4yMjJUVFTMzMyIiIi6uroAAAAs73DqAAAAAXRSTlMAQObYZgAAAqlJREFU\n",
       "SMfFlj+IE0EUxr94STabbHaDjcUpprNMCq1NJ9hcqissJCjExmBQvINTOP8hKhi3kqiF4cTCBDSC\n",
       "ohbHpRLBwjQi4gWClQhyh3cqkdM4s3OZ3ZmdgZDGFJPkzY/9Zr733swC//Njd9XxWD8U+jYpdVSj\n",
       "/Va3qPNywGrDKh8v8P/3LmmoyPwDviTzZRYwOhK0TTzSaSdDARe7YP/xAy0NNY30pv+/TYaGBDEi\n",
       "HbTczATtLEnBHnCqgO8+samhXgE5DjnUqFlJgBEJNyAXFRZyQQpeB2aC2vZAQ11zscJNX6MCdUmA\n",
       "EV+h08Z+MWh7xgU8j2c11BMXi1z7GB2mCiLFiDm69nKvI2rfrqwCJ0TeKPH0bWdy+VNRQyHH7Wz1\n",
       "npNlVkObI8RD8vWmn8wKU1YNS8BhkU8SIbxu+b7cz2NLTcH6yTO3AaeDaEPWpkSNTN/EVFGYqndx\n",
       "APgi8gnPxnSNjnfoMOPiqoZK5kdUdIBECbZcFR7xF0ity/le8cZ3YtBhKbxF3DS9glsAfmmoM96W\n",
       "KWU04FRhrcvalCDaTp5lqtlcutFs0nxucO1AkD51N3CQWGRepvP7YP9QUkh7ReFRO6pYKzLtAMWI\n",
       "K8DerrTvCKtl2c0CzKHraY/a2xioKOAQIhm/vRfdsOceQfLqkKeJ+SbbiQFHRJ7WxG9Sn/z82aKZ\n",
       "VFFWFTGu3aFFEZNqjRGkRVJVxMUeewGcDHUP7ZP3sHkF4xnOQUntLJdPj6BUwWiHe4wRn8mvud5H\n",
       "qUkrPVJRj6VTg/RhdH4hcJd8oG4pqNxwyE8/c/ksreq+SDEikRn7TL2ounHGo+rKg3N0F4Tv8nhX\n",
       "Cs6qnjoeVVG/LGjv0LuK23FCymyoJaZ12k/lQKQ9KZXKqCUimnemdCcU2jMptapU+AfRCfM9M+XX\n",
       "ZgAAAABJRU5ErkJggg==\n",
       "\" style=\"display:inline;vertical-align:middle;\" /></a><br>"
      ],
      "text/plain": [
       "expr: (c + c) + (3 * b) + (2 * b) + 2"
      ]
     },
     "execution_count": 2,
     "metadata": {},
     "output_type": "execute_result"
    }
   ],
   "source": [
    "# build up the expression from sub-expressions\n",
    "expr = Add(Add(c, c), Mult(three, b), Mult(two, b), two)"
   ]
  },
  {
   "cell_type": "code",
   "execution_count": 3,
   "metadata": {},
   "outputs": [
    {
     "name": "stdout",
     "output_type": "stream",
     "text": [
      "Passed sanity check: built 'expr' is the same as the stored Expression.\n"
     ]
    }
   ],
   "source": [
    "# check that the built expression is the same as the stored expression\n",
    "%check_expr"
   ]
  },
  {
   "cell_type": "code",
   "execution_count": 4,
   "metadata": {},
   "outputs": [
    {
     "data": {
      "text/html": [
       "<table><tr><th>&nbsp;</th><th>core type</th><th>sub-expressions</th><th>expression</th></tr>\n",
       "<tr><td>0</td><td>Operation</td><td>operator:&nbsp;5<br>operands:&nbsp;1<br></td><td><a class=\"ProveItLink\" href=\"expr.ipynb\"><img src=\"data:image/png;base64,iVBORw0KGgoAAAANSUhEUgAAAPUAAAAVBAMAAABs27XUAAAAMFBMVEX////c3NwiIiJERESqqqqY\n",
       "mJh2dnZmZmYQEBDu7u4yMjJUVFTMzMyIiIi6uroAAAAs73DqAAAAAXRSTlMAQObYZgAAAqlJREFU\n",
       "SMfFlj+IE0EUxr94STabbHaDjcUpprNMCq1NJ9hcqissJCjExmBQvINTOP8hKhi3kqiF4cTCBDSC\n",
       "ohbHpRLBwjQi4gWClQhyh3cqkdM4s3OZ3ZmdgZDGFJPkzY/9Zr733swC//Njd9XxWD8U+jYpdVSj\n",
       "/Va3qPNywGrDKh8v8P/3LmmoyPwDviTzZRYwOhK0TTzSaSdDARe7YP/xAy0NNY30pv+/TYaGBDEi\n",
       "HbTczATtLEnBHnCqgO8+samhXgE5DjnUqFlJgBEJNyAXFRZyQQpeB2aC2vZAQ11zscJNX6MCdUmA\n",
       "EV+h08Z+MWh7xgU8j2c11BMXi1z7GB2mCiLFiDm69nKvI2rfrqwCJ0TeKPH0bWdy+VNRQyHH7Wz1\n",
       "npNlVkObI8RD8vWmn8wKU1YNS8BhkU8SIbxu+b7cz2NLTcH6yTO3AaeDaEPWpkSNTN/EVFGYqndx\n",
       "APgi8gnPxnSNjnfoMOPiqoZK5kdUdIBECbZcFR7xF0ity/le8cZ3YtBhKbxF3DS9glsAfmmoM96W\n",
       "KWU04FRhrcvalCDaTp5lqtlcutFs0nxucO1AkD51N3CQWGRepvP7YP9QUkh7ReFRO6pYKzLtAMWI\n",
       "K8DerrTvCKtl2c0CzKHraY/a2xioKOAQIhm/vRfdsOceQfLqkKeJ+SbbiQFHRJ7WxG9Sn/z82aKZ\n",
       "VFFWFTGu3aFFEZNqjRGkRVJVxMUeewGcDHUP7ZP3sHkF4xnOQUntLJdPj6BUwWiHe4wRn8mvud5H\n",
       "qUkrPVJRj6VTg/RhdH4hcJd8oG4pqNxwyE8/c/ksreq+SDEikRn7TL2ounHGo+rKg3N0F4Tv8nhX\n",
       "Cs6qnjoeVVG/LGjv0LuK23FCymyoJaZ12k/lQKQ9KZXKqCUimnemdCcU2jMptapU+AfRCfM9M+XX\n",
       "ZgAAAABJRU5ErkJggg==\n",
       "\" style=\"display:inline;vertical-align:middle;\" /></a></td></tr>\n",
       "<tr><td>1</td><td>ExprTuple</td><td>2, 3, 4, 12</td><td><a class=\"ProveItLink\" href=\"../4194754f228e880f16eaf3c4db780247af862bf80/expr.ipynb\"><img src=\"data:image/png;base64,iVBORw0KGgoAAAANSUhEUgAAAKEAAAAVBAMAAADcJJPmAAAAMFBMVEX////c3NwiIiJERESqqqqY\n",
       "mJh2dnZmZmYQEBDu7u4yMjJUVFTMzMyIiIi6uroAAAAs73DqAAAAAXRSTlMAQObYZgAAAk9JREFU\n",
       "OMutlT+I01Acx7/pvzRN21QXBwc7qdt10FW63STGxVEOhxwIQlC8gzqciIgOatwKNzRwOlgHMyjo\n",
       "cNhJBQdvUzmL0VGQVu0phcP4ful7L0nJFZRmSL755PF97/d9vyTA/I/q1hzNztLpzawRL61jUmvP\n",
       "6lwdaJ2QdP0aF8rqhg+1x9TDGYaKjUFUQsnj1MOnpqSP+PUgKiPABSrxou9NORZGMOryzuA2uoPM\n",
       "UNIRvz4HFoAzQNGJOZyccswlHAd8aPEW9D9yG8Zc3HTwwkcb+IoZjmQT1XBOVD+GKh0LYsbHDtZ8\n",
       "ZJtYocytfi/hKEEUE8n+UyEzYxnu5rYp9IKDgo0HTL32S/WEowTl81601z9hiHneLgnaaWCXy/Iv\n",
       "lpOLO2zobWTNuGMEgPc+AUowN0ZRGG1A0FMObojlNlisV8EC0YdTOUaAbQPV16EVqy4MewLVBgRt\n",
       "Ab/50Eu0ziE5GuFztLrdo90u5cYB67wesjvs2iaQYc3JV74dnkN6BNWdCax4E8frwKGtqTVK0BlP\n",
       "HEU7rk36J2djX9SOKt+lRSg1qvo4G8pmTuQYAo2Ei8x36dhjiRHFK+C0oLsULk1UtpGvIe9imcVm\n",
       "o5DonhBQShUTA7mrelP1wuyUw9ay7PsnuALtBxP7LesiqHu+sJuV/odkhxNo0+IWV+9H3bN5GSHN\n",
       "BEEgHdffmdDu1lgzBgEzLvko1vZ6Zz6nfjxSaVWasLcwvxR78i0+zEx1TKV5qS7M+pr9j6Pmht+1\n",
       "9KPyD1S2n07lK/P8K3wE/gJhiaGghuck0gAAAABJRU5ErkJggg==\n",
       "\" style=\"display:inline;vertical-align:middle;\" /></a></td></tr>\n",
       "<tr><td>2</td><td>Operation</td><td>operator:&nbsp;5<br>operands:&nbsp;6<br></td><td><a class=\"ProveItLink\" href=\"../835f51cc5f7c025f46a68077697f0e2a3c40db810/expr.ipynb\"><img src=\"data:image/png;base64,iVBORw0KGgoAAAANSUhEUgAAACsAAAAOBAMAAABEEvh2AAAAMFBMVEX///+qqqpmZmbc3NxUVFSY\n",
       "mJhEREQiIiIyMjK6uroQEBDMzMyIiIh2dnbu7u4AAAA4MM1YAAAAAXRSTlMAQObYZgAAAGRJREFU\n",
       "GNNjYIADPgMGbIDxABHCfHfPbEARhgjsmsBRgCIMFuBbw8AWgCwMEWD5gGY2RIA/Acxh6uhoX9HR\n",
       "4QATsD+AphoiwA80GMVsiACLAgMvigOhArpnzqF6By6A1/OcSMIAeQEiyOGBraQAAAAASUVORK5C\n",
       "YII=\n",
       "\" style=\"display:inline;vertical-align:middle;\" /></a></td></tr>\n",
       "<tr><td>3</td><td>Operation</td><td>operator:&nbsp;8<br>operands:&nbsp;7<br></td><td><a class=\"ProveItLink\" href=\"../1e631544db83ce4853cc0a486ec7448a56387f780/expr.ipynb\"><img src=\"data:image/png;base64,iVBORw0KGgoAAAANSUhEUgAAACIAAAAOBAMAAAC4B9O8AAAAMFBMVEX///+YmJju7u4QEBBUVFQy\n",
       "MjIiIiKIiIi6urpmZmbc3NyqqqpERER2dnbMzMwAAAB0GlNiAAAAAXRSTlMAQObYZgAAAJhJREFU\n",
       "CNdjYHh79zQDDKiYAQmuCQz9BXChECDm/c3AnwAX+Q3E3MgiHJ8gNEIXbwJCMwSwupcIMDDwXXWA\n",
       "i+gfYPgHoosbgASTApDYr8BgCxJhBpmnDzJiKgPDTwauBww8H4Ec5QNAIpOB4yOD/ieICNQ5nJ8Y\n",
       "+AMY2H7BRP4xMF9gYBdg6L8AE/FmmAIkd86MRvi0UoABAPL2JMAQl6zyAAAAAElFTkSuQmCC\n",
       "\" style=\"display:inline;vertical-align:middle;\" /></a></td></tr>\n",
       "<tr><td>4</td><td>Operation</td><td>operator:&nbsp;8<br>operands:&nbsp;9<br></td><td><a class=\"ProveItLink\" href=\"../4fa23b01b5b767887c70271cab015f5b5c98d38c0/expr.ipynb\"><img src=\"data:image/png;base64,iVBORw0KGgoAAAANSUhEUgAAACEAAAAOBAMAAABTMGi/AAAAMFBMVEX///+YmJh2dnbMzMwQEBAi\n",
       "IiLu7u6qqqqIiIhUVFS6urpEREQyMjJmZmbc3NwAAACOMKdoAAAAAXRSTlMAQObYZgAAAKBJREFU\n",
       "CNdj4Lt7egEDFLBNCQCSLxk4vsNEGHgmAIlpDAzxcBH+AiDhksAwH65tfQKQOJ/AcB8uogql4xNg\n",
       "Iic7JoIo5k9wu34z8BuALNgA4qUBMfs3BhYFIH0bLP0VSPAeYOC/wMDAMQEs4g0kWC8wrBdgYKhl\n",
       "4HuAcM79BAbmCwyMcBEDBicGhqdKSldhdnEW8AKNiP///yvc9hkXGRgAQ2knSfB0jgcAAAAASUVO\n",
       "RK5CYII=\n",
       "\" style=\"display:inline;vertical-align:middle;\" /></a></td></tr>\n",
       "<tr><td>5</td><td>Literal</td><td></td><td><a class=\"ProveItLink\" href=\"../3e6688136fa3c7aefbebe51301b7c3ebf0b69c440/expr.ipynb\"><img src=\"data:image/png;base64,iVBORw0KGgoAAAANSUhEUgAAAA4AAAAOBAMAAADtZjDiAAAAJFBMVEX///+6urpUVFQQEBAiIiIy\n",
       "MjJmZmaIiIiqqqrc3Nzu7u4AAACgHpL+AAAAAXRSTlMAQObYZgAAAB5JREFUCNdjYGBgWMkAAe2k\n",
       "0Kmhoc6hoUGk6BMHYgAHOwjcado9fwAAAABJRU5ErkJggg==\n",
       "\" style=\"display:inline;vertical-align:middle;\" /></a></td></tr>\n",
       "<tr><td>6</td><td>ExprTuple</td><td>10, 10</td><td><a class=\"ProveItLink\" href=\"../1c0bb617114f3df6312252662a222f4d927730940/expr.ipynb\"><img src=\"data:image/png;base64,iVBORw0KGgoAAAANSUhEUgAAACcAAAAVBAMAAAA3P+qgAAAAMFBMVEX////c3NwiIiJERESqqqqY\n",
       "mJh2dnZmZmYQEBDu7u4yMjJUVFTMzMyIiIi6uroAAAAs73DqAAAAAXRSTlMAQObYZgAAAM5JREFU\n",
       "GNNjYMAK+C6g8uNAxGk0RewHgMRKdK0LGBh4L6ALhjEwcExAF5zBwPAKw2ZmB4YyIMWZdvcAmA9m\n",
       "sBUwLAWyTzzgUgALghksCxj6gPK9DMwBYIVgBl8Dwz8GBu4PUNMgDJ4PIEF+A6gghAEUbGFgkIc5\n",
       "FcIAajcFKgAaGMDJAGUwsC5gSAcaVcDAdmC+ApQBctIjoIqyuzcZZnyEMhi4HjBwCEANfIjkTdYE\n",
       "KDsAJpiLFHQwQU5g0DFIQ9i8MIXcIPMY0QL0DgMDAOR2MjAvKGjTAAAAAElFTkSuQmCC\n",
       "\" style=\"display:inline;vertical-align:middle;\" /></a></td></tr>\n",
       "<tr><td>7</td><td>ExprTuple</td><td>11, 13</td><td><a class=\"ProveItLink\" href=\"../ed5a6ec4c875d8d4dac8f1f17e42c24dc92561870/expr.ipynb\"><img src=\"data:image/png;base64,iVBORw0KGgoAAAANSUhEUgAAACkAAAAVBAMAAAAp9toTAAAAMFBMVEX////c3NwiIiJERESqqqqY\n",
       "mJh2dnZmZmYQEBDu7u4yMjJUVFTMzMyIiIi6uroAAAAs73DqAAAAAXRSTlMAQObYZgAAARBJREFU\n",
       "GNNtka9Pw0AcxT/d2rVlY53H7I8AX4edQpIGAQnJkhpAgiBIqMRRAYLM1JBgSKowmEkEJAtypvya\n",
       "qCF873odScOJd++95L737h38v/rThrGt4Aked9crw78fgpsLu8WKKcyBlUwghdUpnW+CYeUGocAW\n",
       "eAn2n1skApcwr5SZsKOgHXKo1cTcP3m9g07MjfDefmYyfBHk2CnnWj7P9GaXeBH9E3609Eq9uSlB\n",
       "TO9duVZOe6HdliQfKfcUrsralbjHiZqwITyl9YFKKledgZOyJ88bUUT+p7jd0M10sjcRm0fX+BcD\n",
       "SfZwoMqY4Q3qRmuiXuxEhjvLgse6yYbrS5OsGbH8kq4aZTV/6AV+AUvGQYW/r0RJAAAAAElFTkSu\n",
       "QmCC\n",
       "\" style=\"display:inline;vertical-align:middle;\" /></a></td></tr>\n",
       "<tr><td>8</td><td>Literal</td><td></td><td><a class=\"ProveItLink\" href=\"../../../multiplication/__pv_it/21fd2079611555ecce512d99547a00d551e6b86b0/expr.ipynb\"><img src=\"data:image/png;base64,iVBORw0KGgoAAAANSUhEUgAAAAMAAAADBAMAAACkBqiMAAAAElBMVEX///9EREQQEBAiIiLu7u4A\n",
       "AABGBidwAAAAAXRSTlMAQObYZgAAABFJREFUCNdjYHFgcDVgcBIAAASWAQx4jI0xAAAAAElFTkSu\n",
       "QmCC\n",
       "\" style=\"display:inline;vertical-align:middle;\" /></a></td></tr>\n",
       "<tr><td>9</td><td>ExprTuple</td><td>12, 13</td><td><a class=\"ProveItLink\" href=\"../3a7fed3333ef42636d071b31cc212d3a8cbf468e0/expr.ipynb\"><img src=\"data:image/png;base64,iVBORw0KGgoAAAANSUhEUgAAACkAAAAVBAMAAAAp9toTAAAAMFBMVEX////c3NwiIiJERESqqqqY\n",
       "mJh2dnZmZmYQEBDu7u4yMjJUVFTMzMyIiIi6uroAAAAs73DqAAAAAXRSTlMAQObYZgAAARNJREFU\n",
       "GNNtkaFPw0AUxn8tK20prEMhMFVoDJb0TwCDJA2CKZIaEBgQhAQDlcgmBEEwNSQYkjkEgnlGIEjM\n",
       "FqZqKO/u2omGipf3/a737rvv4P+vO2yBXVVeYOV40wD/MQJ3IN0dVsFHbPBCISWHpSFBhj0xNFSr\n",
       "O+BleBcEv4aOMynX8C3bStya7qkyF3OklV0aev/+APMpt1q9JsbDlHBAJ+dSyxvza6fES+ieoge6\n",
       "64a6OWHK4sTQt/padsp4S9EztTFlubF7kqkJGyKeYRvlVI46ByenD9bafj/yf4QGsVtoZ18yraqq\n",
       "yL/qibOnQxXGJ16vSbRp1I2dpO6dWcAHOskW9SVJVmsxe5JAjbLaLzSCP9bMPeBRRV1aAAAAAElF\n",
       "TkSuQmCC\n",
       "\" style=\"display:inline;vertical-align:middle;\" /></a></td></tr>\n",
       "<tr><td>10</td><td>Variable</td><td></td><td><a class=\"ProveItLink\" href=\"../../../../__pv_it/cbdfda466482236edba0ce44ac7ef39cda0af7a40/expr.ipynb\"><img src=\"data:image/png;base64,iVBORw0KGgoAAAANSUhEUgAAAAkAAAAJBAMAAAASvxsjAAAALVBMVEX///9mZmbc3NxUVFSYmJhE\n",
       "REQiIiIyMjK6uroQEBDMzMyIiIh2dnbu7u4AAABgFDGoAAAAAXRSTlMAQObYZgAAADZJREFUCNdj\n",
       "YOA9s3sBA8PKBvYEBt7ZDKwODMwPGICALwBE6m0Asx0YGIDiAgw8QJUyu/cyAAAmuwmycZ8WfQAA\n",
       "AABJRU5ErkJggg==\n",
       "\" style=\"display:inline;vertical-align:middle;\" /></a></td></tr>\n",
       "<tr><td>11</td><td>Literal</td><td></td><td><a class=\"ProveItLink\" href=\"../../../numeral/__pv_it/9176d93c83afa2c995b614976e3cb49207102fa70/expr.ipynb\"><img src=\"data:image/png;base64,iVBORw0KGgoAAAANSUhEUgAAAAoAAAAOBAMAAADkjZCYAAAAMFBMVEX///+YmJju7u4QEBBUVFQy\n",
       "MjIiIiKIiIi6urpmZmbc3NyqqqpERER2dnbMzMwAAAB0GlNiAAAAAXRSTlMAQObYZgAAAE1JREFU\n",
       "CNdjYHh79zQDA9cEhv4CBt7fDPwJDNxgEgiAIkAQAsR8Vx1ATIbiBhDJ/ImB6wEDz0cG/U8gkj+A\n",
       "ge0XA7sAQ/8FBoadM6MZAEflFACalZ/OAAAAAElFTkSuQmCC\n",
       "\" style=\"display:inline;vertical-align:middle;\" /></a></td></tr>\n",
       "<tr><td>12</td><td>Literal</td><td></td><td><a class=\"ProveItLink\" href=\"../../../numeral/__pv_it/77d407a64829263cdc16415becd4c2293f77a4bf0/expr.ipynb\"><img src=\"data:image/png;base64,iVBORw0KGgoAAAANSUhEUgAAAAkAAAAOBAMAAAAPuiubAAAAMFBMVEX///+YmJh2dnbMzMwQEBAi\n",
       "IiLu7u6qqqqIiIhUVFS6urpEREQyMjJmZmbc3NwAAACOMKdoAAAAAXRSTlMAQObYZgAAAFBJREFU\n",
       "CNdj4Lt7egEDw0sGju8MDNMYGOIZGFwSGOYvYDifwHAfKAEUSQASzJ9ATJ4NIPI2iOCYACJrGfge\n",
       "MDBfYGB8wPBUSekqUPH//18ZAIliFhc3zESNAAAAAElFTkSuQmCC\n",
       "\" style=\"display:inline;vertical-align:middle;\" /></a></td></tr>\n",
       "<tr><td>13</td><td>Variable</td><td></td><td><a class=\"ProveItLink\" href=\"../../../../__pv_it/6840a4fa6c106149dc16a131294d0c5e44f1b0480/expr.ipynb\"><img src=\"data:image/png;base64,iVBORw0KGgoAAAANSUhEUgAAAAkAAAAOBAMAAAAPuiubAAAALVBMVEX///9mZmbMzMxERESYmJiI\n",
       "iIh2dna6urqqqqoyMjIiIiIQEBBUVFTu7u4AAAD9S1JeAAAAAXRSTlMAQObYZgAAAE1JREFUCNdj\n",
       "4D29gAEIOA+ASL4GEFl3AURmgQiGOaFHGBh4HzPwKTBwvGXgTmBgnMDAJ8DAJcBQ5wBSLncBJLWN\n",
       "gYGngRFoBO9REQYGAGrcDtUkVqASAAAAAElFTkSuQmCC\n",
       "\" style=\"display:inline;vertical-align:middle;\" /></a></td></tr>\n",
       "</table>\n"
      ],
      "text/plain": [
       "0. (c + c) + (3 * b) + (2 * b) + 2\n",
       "   core type: Operation\n",
       "   operator: 5\n",
       "   operands: 1\n",
       "1. (c + c , 3 * b , 2 * b , 2)\n",
       "   core type: ExprTuple\n",
       "   sub-expressions: 2, 3, 4, 12\n",
       "2. c + c\n",
       "   core type: Operation\n",
       "   operator: 5\n",
       "   operands: 6\n",
       "3. 3 * b\n",
       "   core type: Operation\n",
       "   operator: 8\n",
       "   operands: 7\n",
       "4. 2 * b\n",
       "   core type: Operation\n",
       "   operator: 8\n",
       "   operands: 9\n",
       "5. +\n",
       "   core type: Literal\n",
       "   sub-expressions: \n",
       "6. (c , c)\n",
       "   core type: ExprTuple\n",
       "   sub-expressions: 10, 10\n",
       "7. (3 , b)\n",
       "   core type: ExprTuple\n",
       "   sub-expressions: 11, 13\n",
       "8. *\n",
       "   core type: Literal\n",
       "   sub-expressions: \n",
       "9. (2 , b)\n",
       "   core type: ExprTuple\n",
       "   sub-expressions: 12, 13\n",
       "10. c\n",
       "    core type: Variable\n",
       "    sub-expressions: \n",
       "11. 3\n",
       "    core type: Literal\n",
       "    sub-expressions: \n",
       "12. 2\n",
       "    core type: Literal\n",
       "    sub-expressions: \n",
       "13. b\n",
       "    core type: Variable\n",
       "    sub-expressions: "
      ]
     },
     "execution_count": 4,
     "metadata": {},
     "output_type": "execute_result"
    }
   ],
   "source": [
    "# display the expression information\n",
    "expr.exprInfo()"
   ]
  },
  {
   "cell_type": "code",
   "execution_count": null,
   "metadata": {},
   "outputs": [],
   "source": []
  }
 ],
 "metadata": {
  "kernelspec": {
   "display_name": "Python 3",
   "language": "python",
   "name": "python3"
  }
 },
 "nbformat": 4,
 "nbformat_minor": 0
}
