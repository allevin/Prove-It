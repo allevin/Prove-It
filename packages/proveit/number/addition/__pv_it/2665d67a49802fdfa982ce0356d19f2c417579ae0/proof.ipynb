{
 "cells": [
  {
   "cell_type": "markdown",
   "metadata": {},
   "source": [
    "Show the Proof\n",
    "========"
   ]
  },
  {
   "cell_type": "code",
   "execution_count": 1,
   "metadata": {},
   "outputs": [
    {
     "data": {
      "text/html": [
       "<table><tr><th>&nbsp;</th><th>step type</th><th>requirements</th><th>statement</th></tr>\n",
       "<tr><td>0</td><td>assumption</td><td></td><td><span style=\"font-size:20px;\"><a class=\"ProveItLink\" href=\"../2ed65abcffc5879dd1f5a1d151772f6c07314f3e0/expr.ipynb\"><img src=\"data:image/png;base64,iVBORw0KGgoAAAANSUhEUgAAAHUAAAAaBAMAAAB7iA4AAAAAMFBMVEX///+6urp2dnaqqqoiIiIQ\n",
       "EBBERETu7u6IiIjc3NwyMjJUVFSYmJhmZmbMzMwAAAD0pS5FAAAAAXRSTlMAQObYZgAAAZVJREFU\n",
       "OMtjYGDgu8NAMmC+CKF3TSBdL8O0BBDJ8Z2BHBALIrgXgEjGBhQZHgFCerMQel8jCbMVMDDcQ1N6\n",
       "6lv+qihk83ch9C5HiLLnA/VyoduTMJvhmdUEBrM0IChA0cuBMJJ9936gHI8Cut65DGyVCdjsZS1A\n",
       "UtYP5LAHQE3qcnFZANXL9ACrXikGNL0MyRD2q+MIezH1soEELmHo1QUzOdOR3MyN4WZWkFfXYOi1\n",
       "ggT5BCS9IqeQUtF5oCLO1SBWIIZeUTCzDBFWU128DJAU8a5kYDjyAMT6CDRkiQsICED1vgerEAUJ\n",
       "QcNKlg05QBmmNDAwe0D1otkL0fsaKY545TYgpzxnIFF/AEgE43BzCXL8Lu9BUmQ/ARbOORh6T4GZ\n",
       "3AeQ9L7mfoAtfnVxxBG7I5JeJoNMbHpFkLTejV8LtG0hhDPrHjwv5DEsW2+ALU2i539YmmSwXgIJ\n",
       "Z3SA0IuR9JkaCORf7HkQDKoYiNc7G01qJ1F6mcA+40R1I8cDQnq9waGympyijtcdkrr2kFE+5zBQ\n",
       "BgBr7HgqQ1Fo7wAAAABJRU5ErkJggg==\n",
       "\" style=\"display:inline;vertical-align:middle;\" /></a> <a class=\"ProveItLink\" href=\"proof.ipynb\" style=\"text-decoration: none\">&#x22A2;&nbsp;</a><a class=\"ProveItLink\" href=\"../5fa2e897f2b5c27ef654392f28ef8d98ae8eef520/expr.ipynb\"><img src=\"data:image/png;base64,iVBORw0KGgoAAAANSUhEUgAAAF0AAAAVBAMAAADWVP/xAAAAMFBMVEX////c3NwiIiJERESqqqqY\n",
       "mJh2dnZmZmYQEBDu7u4yMjJUVFTMzMyIiIi6uroAAAAs73DqAAAAAXRSTlMAQObYZgAAASpJREFU\n",
       "KM9jYCAV8F1A4bI+IKD+NBKbeQIDQw2afNRn+1VdSGauRDA57YHqudANNJBmOOwlwOBsDAQTGHgR\n",
       "Wjl37weqZ01AVy/OwDzRAMbjmIAkdR/I4WyA6r6lpLQAqp7tAFz9KwY09QwmEPapSIT5SOrLMNSn\n",
       "g5mMlkju4Ua4ZymGei9IUAkgqX8UBef1Yah/AWZORvhXQknLAc77B7R6kRIIPICqPw8WfwESgvr3\n",
       "OfMEZPVo5p9Hi0YDcfY3G+C8FhzumYQc/iuvwnmmGOqjwEzuACT1p7kPwHjpOMKTUw9JPZuDIYz3\n",
       "CEl5ef9yoKnrIBypGnh6s2FYvB4WQhwCaMkFlh4YvBdBwgcVYCQvtgv40/9KNP4sAvlFGo2/kYB6\n",
       "RlT7eQ/gVQ0AMZZRBC4NEyMAAAAASUVORK5CYII=\n",
       "\" style=\"display:inline;vertical-align:middle;\" /></a></span></td></tr>\n",
       "</table>"
      ],
      "text/plain": [
       "<proveit._core_.proof._ShowProof at 0x7f94ebf829e8>"
      ]
     },
     "execution_count": 1,
     "metadata": {},
     "output_type": "execute_result"
    }
   ],
   "source": [
    "import proveit\n",
    "%show_proof"
   ]
  },
  {
   "cell_type": "code",
   "execution_count": null,
   "metadata": {},
   "outputs": [],
   "source": []
  }
 ],
 "metadata": {
  "kernelspec": {
   "display_name": "Python 3",
   "language": "python",
   "name": "python3"
  }
 },
 "nbformat": 4,
 "nbformat_minor": 0
}
