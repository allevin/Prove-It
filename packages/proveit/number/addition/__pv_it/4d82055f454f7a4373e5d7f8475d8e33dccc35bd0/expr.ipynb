{
 "cells": [
  {
   "cell_type": "markdown",
   "metadata": {},
   "source": [
    "Expression of type <a class=\"ProveItLink\" href=\"../../../../../../doc/html/api/proveit.logic.Equals.html\">Equals</a>\n",
    "=======================\n",
    "# from context <a class=\"ProveItLink\" href=\"../../_context_.ipynb\">proveit.number.addition</a>"
   ]
  },
  {
   "cell_type": "code",
   "execution_count": 1,
   "metadata": {},
   "outputs": [],
   "source": [
    "# import Expression classes needed to build the expression\n",
    "from proveit.logic import Equals\n",
    "from proveit.number import Add, one, three, two"
   ]
  },
  {
   "cell_type": "code",
   "execution_count": 2,
   "metadata": {},
   "outputs": [
    {
     "data": {
      "text/html": [
       "<strong id=\"expr\">expr:</strong> <a class=\"ProveItLink\" href=\"expr.ipynb\"><img src=\"data:image/png;base64,iVBORw0KGgoAAAANSUhEUgAAALcAAAAVBAMAAAD2lGJJAAAAMFBMVEX////c3NwiIiJERESqqqqY\n",
       "mJh2dnZmZmYQEBDu7u4yMjJUVFTMzMyIiIi6uroAAAAs73DqAAAAAXRSTlMAQObYZgAAAd1JREFU\n",
       "OMu1lb1Lw0AYh99+mY9+WKcOKhQHcdPFVfsPFOvSUQpCOxU7Weik4FIHGzfHoogYl+4OOungYBcn\n",
       "lRZHQSgOQgVbc7levPfuGrp4UEJ+vydPL0cuAfjXkWhPjG4psg9f+MH5hSyhSdXWcBArbmdAu5UU\n",
       "sRatxsCXAMa6IA+0oIMvSEHiB6ApyU1rVCnheBuM6xsmP6aHqAXBHkp2MvAJkJfkr6wiw0gKsE68\n",
       "HSbP0oNeh+gAJRsufyLJ66wiI9wW4HdQyM0+aFgO7p2GMuLT0GQVL/fgXZXcGcG+kJgtgKmKINcK\n",
       "rMLyEXw+Rv5YwMndFbnanahmu4MYzRyrkJzBR2PkZ2ISd8jEnjBzvcsqPPMRPFDLtRXp7xoWxHqC\n",
       "fLrLKiwfwZy8ZttLtk3v8RlwMgewnlPLaUUW6/SQLpYHHyhnHq7ADJ8YQ4vwdFm0BXeQe9MzrOJm\n",
       "/gevKuX3AJso+QZYTkJE3KKhHKv4ZfHgkkoeWCyW0ih5gsSX4lEkAa14uQe/OSfVxkUOqYLD4RDL\n",
       "w9Was4HMrriJ0qzi5R6sJ3k4K+1vlMjbf58/CbcFOFLwfzujpCzV+fGfhjJ95U46DOUr1w+enVwe\n",
       "TUpRoOULByb/zL0osnkf+Bcqdq6vA1TLNwAAAABJRU5ErkJggg==\n",
       "\" style=\"display:inline;vertical-align:middle;\" /></a><br>"
      ],
      "text/plain": [
       "expr: (1 + 2 + 3) = (3 + 3)"
      ]
     },
     "execution_count": 2,
     "metadata": {},
     "output_type": "execute_result"
    }
   ],
   "source": [
    "# build up the expression from sub-expressions\n",
    "expr = Equals(Add(one, two, three), Add(three, three))"
   ]
  },
  {
   "cell_type": "code",
   "execution_count": 3,
   "metadata": {},
   "outputs": [
    {
     "name": "stdout",
     "output_type": "stream",
     "text": [
      "Passed sanity check: built 'expr' is the same as the stored Expression.\n"
     ]
    }
   ],
   "source": [
    "# check that the built expression is the same as the stored expression\n",
    "%check_expr"
   ]
  },
  {
   "cell_type": "code",
   "execution_count": 4,
   "metadata": {},
   "outputs": [
    {
     "data": {
      "text/html": [
       "<table><tr><th>&nbsp;</th><th>core type</th><th>sub-expressions</th><th>expression</th></tr>\n",
       "<tr><td>0</td><td>Operation</td><td>operator:&nbsp;1<br>operands:&nbsp;2<br></td><td><a class=\"ProveItLink\" href=\"expr.ipynb\"><img src=\"data:image/png;base64,iVBORw0KGgoAAAANSUhEUgAAALcAAAAVBAMAAAD2lGJJAAAAMFBMVEX////c3NwiIiJERESqqqqY\n",
       "mJh2dnZmZmYQEBDu7u4yMjJUVFTMzMyIiIi6uroAAAAs73DqAAAAAXRSTlMAQObYZgAAAd1JREFU\n",
       "OMu1lb1Lw0AYh99+mY9+WKcOKhQHcdPFVfsPFOvSUQpCOxU7Weik4FIHGzfHoogYl+4OOungYBcn\n",
       "lRZHQSgOQgVbc7levPfuGrp4UEJ+vydPL0cuAfjXkWhPjG4psg9f+MH5hSyhSdXWcBArbmdAu5UU\n",
       "sRatxsCXAMa6IA+0oIMvSEHiB6ApyU1rVCnheBuM6xsmP6aHqAXBHkp2MvAJkJfkr6wiw0gKsE68\n",
       "HSbP0oNeh+gAJRsufyLJ66wiI9wW4HdQyM0+aFgO7p2GMuLT0GQVL/fgXZXcGcG+kJgtgKmKINcK\n",
       "rMLyEXw+Rv5YwMndFbnanahmu4MYzRyrkJzBR2PkZ2ISd8jEnjBzvcsqPPMRPFDLtRXp7xoWxHqC\n",
       "fLrLKiwfwZy8ZttLtk3v8RlwMgewnlPLaUUW6/SQLpYHHyhnHq7ADJ8YQ4vwdFm0BXeQe9MzrOJm\n",
       "/gevKuX3AJso+QZYTkJE3KKhHKv4ZfHgkkoeWCyW0ih5gsSX4lEkAa14uQe/OSfVxkUOqYLD4RDL\n",
       "w9Was4HMrriJ0qzi5R6sJ3k4K+1vlMjbf58/CbcFOFLwfzujpCzV+fGfhjJ95U46DOUr1w+enVwe\n",
       "TUpRoOULByb/zL0osnkf+Bcqdq6vA1TLNwAAAABJRU5ErkJggg==\n",
       "\" style=\"display:inline;vertical-align:middle;\" /></a></td></tr>\n",
       "<tr><td>1</td><td>Literal</td><td></td><td><a class=\"ProveItLink\" href=\"../../../../logic/equality/__pv_it/2fb26078095930560931daa0500ce419a39ea6cd0/expr.ipynb\"><img src=\"data:image/png;base64,iVBORw0KGgoAAAANSUhEUgAAAA4AAAAFBAMAAACHocAhAAAAFVBMVEX///9EREQiIiJUVFQyMjJm\n",
       "ZmYAAADubVkoAAAAAXRSTlMAQObYZgAAABRJREFUCNdjCHEBAWcGXCBICQQUAUpuAwlgGKrkAAAA\n",
       "AElFTkSuQmCC\n",
       "\" style=\"display:inline;vertical-align:middle;\" /></a></td></tr>\n",
       "<tr><td>2</td><td>ExprTuple</td><td>3, 4</td><td><a class=\"ProveItLink\" href=\"../49098e720ed6a4fc61b0826394d59575da8b8e6e0/expr.ipynb\"><img src=\"data:image/png;base64,iVBORw0KGgoAAAANSUhEUgAAAJUAAAAVBAMAAAC9PLGkAAAAMFBMVEX////c3NwiIiJERESqqqqY\n",
       "mJh2dnZmZmYQEBDu7u4yMjJUVFTMzMyIiIi6uroAAAAs73DqAAAAAXRSTlMAQObYZgAAAdVJREFU\n",
       "OMutlD1Iw0AUx/9pU9v0I61TBx06iZsOumo3p2JdHKUgtCCInSx0cnDRwdbNzeIHYly6O9hJBwe7\n",
       "CIKC4ihIq6hQwca7XBP7klQUepDcy+9yv9zLJQ/oZ1PrfdEs8NMlO7xl20i8OGUj59kJEYSzi0k6\n",
       "ZBB/jUXHgDJtc0lV3NMJUh4NkUAc6pftwQapAJE6lNMz07UtulAZniYhA2+IJoxoJYlXwZQYusg8\n",
       "EOCae9OVEl1gA6E2IbLlmrVccudNC7IDPMHFFWzBT12sNcxNMnOUrV3jxJvEqpuLNU/LTk7MIFi1\n",
       "uzgZyOOwh+sqQ0l4qWruqCm1XAaRK9jq4dp3kJuHThDZsq+LE3UNbXeXf9zhCrTMqFS2uTgJN7td\n",
       "RU0b1TSRwS0okWrwvhtsGJhOs4dp2t6mplUtwlzrruuS8xgkZLfVcSl62XD9rKtDWI6Trq4LYI6Q\n",
       "aAWeF/DbPoGxGMlREF8FOTeXNJLNJQiJpNHIKPwjvYb6Qd+9IOybeGQXhdJRmsz06LpOXZgpHEAp\n",
       "sQXJhWKSugQJPiAQ6/5NU45aQohKbpZJtWL/kC/TDZ4dLkJ8v1S+ZVFz/tx8vYcUVnMw9A/XLyU4\n",
       "xNOX+lOj74BvRFqYutXoHAkAAAAASUVORK5CYII=\n",
       "\" style=\"display:inline;vertical-align:middle;\" /></a></td></tr>\n",
       "<tr><td>3</td><td>Operation</td><td>operator:&nbsp;6<br>operands:&nbsp;5<br></td><td><a class=\"ProveItLink\" href=\"../cf5c32e9fce0698a0b1721414282f182cca2e0d20/expr.ipynb\"><img src=\"data:image/png;base64,iVBORw0KGgoAAAANSUhEUgAAAFAAAAAQBAMAAABzZ+XyAAAAMFBMVEX///92dnbMzMy6uroiIiKq\n",
       "qqrc3NyYmJgyMjIQEBBmZmaIiIhUVFTu7u5EREQAAADaqMZ6AAAAAXRSTlMAQObYZgAAANZJREFU\n",
       "KM9jYGB4y4AK2Fb1GaCKKAo+BZL3/qIpzGHg/oqqcwGD/QaGO2dgCnkTIPRZBgZ/FBHGrwz8DgwM\n",
       "3DCFrBsg9MwLDOcNkEVYcSjsv8CwHkUhEACtxlQIBP4X0ER6GLAqZPqIKsIkcQC7Qo4H6CI7DbAq\n",
       "XIchwvkXppCro6NlRkcHyAoG7gOoImwKDHzfsZkYxcCWgCxy/y92hUwLGNhRFPI3MLB8w6IwRVBw\n",
       "CYoIdwGDvQAD18ofy1EV+v///wVVJGpVK3LcIwU4ThEwYN6ATwQAGHxQk/uP+u0AAAAASUVORK5C\n",
       "YII=\n",
       "\" style=\"display:inline;vertical-align:middle;\" /></a></td></tr>\n",
       "<tr><td>4</td><td>Operation</td><td>operator:&nbsp;6<br>operands:&nbsp;7<br></td><td><a class=\"ProveItLink\" href=\"../699a1d509d4351b084cb142424605f66aca456f80/expr.ipynb\"><img src=\"data:image/png;base64,iVBORw0KGgoAAAANSUhEUgAAAC0AAAAQBAMAAABw0OvaAAAAMFBMVEX///+YmJju7u4QEBBUVFQy\n",
       "MjIiIiKIiIi6urpmZmbc3NyqqqpERER2dnbMzMwAAAB0GlNiAAAAAXRSTlMAQObYZgAAALRJREFU\n",
       "GNNjYHh79zQDCuC7e2cDAwPXBIb+AhTxlQwc3xkYeH8z8CdABLQg1P0NDN8YGLgR4tsh1H6wOBDA\n",
       "zNkOMwlkDhCEMKCJszqArL/qgCb+FqqwuAFNPbsFmGL+hCbOYK/AwPWAgecjkDk1NDQ5NBRkwjoG\n",
       "hvMCDPqfIOJw9Uz/FUDi/AEMbL9QzPnKwJC/gIFdgKH/Aop4IQPHXyC1c2Y0qju5Z07dgBJg2xmw\n",
       "g3YkNgCAPTRKDcxu7AAAAABJRU5ErkJggg==\n",
       "\" style=\"display:inline;vertical-align:middle;\" /></a></td></tr>\n",
       "<tr><td>5</td><td>ExprTuple</td><td>8, 9, 10</td><td><a class=\"ProveItLink\" href=\"../27b2b00aa8293e71ce1853061768c278c28515e00/expr.ipynb\"><img src=\"data:image/png;base64,iVBORw0KGgoAAAANSUhEUgAAAD0AAAAVBAMAAAAHs/uBAAAAMFBMVEX////c3NwiIiJERESqqqqY\n",
       "mJh2dnZmZmYQEBDu7u4yMjJUVFTMzMyIiIi6uroAAAAs73DqAAAAAXRSTlMAQObYZgAAAThJREFU\n",
       "KM+Fkj1Lw0AYgJ9+2Xy0IU4OOnRy1cXV5h9YF0cRhHYSO1no5ODiYjM6BkREXLo76KSDg12cFCqO\n",
       "TqWDUMHGu8ulH5HgQe59Ls/LJe97B/8Np5eqduX0JJ6cr98stTcjKNX3PYr3gq7BrGqf6dL3okSc\n",
       "Hwig3MO8vdPe9skOFB16DGEHDKn62hun2GNFW8qfwycz3hpRHMf/LfbPeRzNejGyIw1WFxaaXCb8\n",
       "814UH27ElA84S/iLGMrCOMeM531xfZLZ8SkNkv5VxxWo1qQ/mfP5JosymqEvvdh/I/Yq5RG2FX3D\n",
       "mkshoKG9OZT9Xa03KopecL5UfR9i0epc1cyOK4oPw7CiKN9qi4Ow3jHcuF8uf0j0t6D7QWFS2JQO\n",
       "ovNN86Y4X5b1YnqNJmTLD2XS79cb/AL1c1U/qE0NaAAAAABJRU5ErkJggg==\n",
       "\" style=\"display:inline;vertical-align:middle;\" /></a></td></tr>\n",
       "<tr><td>6</td><td>Literal</td><td></td><td><a class=\"ProveItLink\" href=\"../3e6688136fa3c7aefbebe51301b7c3ebf0b69c440/expr.ipynb\"><img src=\"data:image/png;base64,iVBORw0KGgoAAAANSUhEUgAAAA4AAAAOBAMAAADtZjDiAAAAJFBMVEX///+6urpUVFQQEBAiIiIy\n",
       "MjJmZmaIiIiqqqrc3Nzu7u4AAACgHpL+AAAAAXRSTlMAQObYZgAAAB5JREFUCNdjYGBgWMkAAe2k\n",
       "0Kmhoc6hoUGk6BMHYgAHOwjcado9fwAAAABJRU5ErkJggg==\n",
       "\" style=\"display:inline;vertical-align:middle;\" /></a></td></tr>\n",
       "<tr><td>7</td><td>ExprTuple</td><td>10, 10</td><td><a class=\"ProveItLink\" href=\"../c017262dc935bab7587f0744a3b31563e3ec1f2b0/expr.ipynb\"><img src=\"data:image/png;base64,iVBORw0KGgoAAAANSUhEUgAAACkAAAAVBAMAAAAp9toTAAAAMFBMVEX////c3NwiIiJERESqqqqY\n",
       "mJh2dnZmZmYQEBDu7u4yMjJUVFTMzMyIiIi6uroAAAAs73DqAAAAAXRSTlMAQObYZgAAAQ9JREFU\n",
       "GNNtkS1PA0EQhp+jvXIH7fUcAgT/AAOac0iqkKQJSUlICFU0QSHQ9CSOEyAIpj+hqgZTQ4JANEjM\n",
       "AQGSkvAxO909cWHFZt5nszPvzMD/JxqXwK657mDUWZ+BemcvYX4o0Q1el3z2YYnoGzJojKm901xV\n",
       "epTwBjsQpFQLuq30Ap5V5q6kyVBJOFZx6wwsDKDW5dqUPhhYODLP1YxzVQ8Tixuio1N+VARTl6Kf\n",
       "Un8x1BtS+VC0ApstQ8/gcmpp+JsaKhk2oJkx90oq+AvWYvyMfanQIm+HYp97ok919iRiq3dF2I/F\n",
       "U+8kEc8Tgth15QLTsd+2sV8M+FAnWaKhTJJlK4qVLJpUXnlDj/AHHh5B6Heel5EAAAAASUVORK5C\n",
       "YII=\n",
       "\" style=\"display:inline;vertical-align:middle;\" /></a></td></tr>\n",
       "<tr><td>8</td><td>Literal</td><td></td><td><a class=\"ProveItLink\" href=\"../../../numeral/__pv_it/9be8badea4c35b9724062cecc501d17a3158d1d20/expr.ipynb\"><img src=\"data:image/png;base64,iVBORw0KGgoAAAANSUhEUgAAAAgAAAAPBAMAAAArJJMAAAAAHlBMVEX///+YmJgyMjIQEBBmZmaI\n",
       "iIhUVFTu7u5EREQAAAAw+MI4AAAAAXRSTlMAQObYZgAAACFJREFUCNdjYGBoZ2BgqJjOwFCWBiQY\n",
       "WEklWJwnOTKAAACjEQo8HvEr3AAAAABJRU5ErkJggg==\n",
       "\" style=\"display:inline;vertical-align:middle;\" /></a></td></tr>\n",
       "<tr><td>9</td><td>Literal</td><td></td><td><a class=\"ProveItLink\" href=\"../../../numeral/__pv_it/77d407a64829263cdc16415becd4c2293f77a4bf0/expr.ipynb\"><img src=\"data:image/png;base64,iVBORw0KGgoAAAANSUhEUgAAAAkAAAAOBAMAAAAPuiubAAAAMFBMVEX///+YmJh2dnbMzMwQEBAi\n",
       "IiLu7u6qqqqIiIhUVFS6urpEREQyMjJmZmbc3NwAAACOMKdoAAAAAXRSTlMAQObYZgAAAFBJREFU\n",
       "CNdj4Lt7egEDw0sGju8MDNMYGOIZGFwSGOYvYDifwHAfKAEUSQASzJ9ATJ4NIPI2iOCYACJrGfge\n",
       "MDBfYGB8wPBUSekqUPH//18ZAIliFhc3zESNAAAAAElFTkSuQmCC\n",
       "\" style=\"display:inline;vertical-align:middle;\" /></a></td></tr>\n",
       "<tr><td>10</td><td>Literal</td><td></td><td><a class=\"ProveItLink\" href=\"../../../numeral/__pv_it/9176d93c83afa2c995b614976e3cb49207102fa70/expr.ipynb\"><img src=\"data:image/png;base64,iVBORw0KGgoAAAANSUhEUgAAAAoAAAAOBAMAAADkjZCYAAAAMFBMVEX///+YmJju7u4QEBBUVFQy\n",
       "MjIiIiKIiIi6urpmZmbc3NyqqqpERER2dnbMzMwAAAB0GlNiAAAAAXRSTlMAQObYZgAAAE1JREFU\n",
       "CNdjYHh79zQDA9cEhv4CBt7fDPwJDNxgEgiAIkAQAsR8Vx1ATIbiBhDJ/ImB6wEDz0cG/U8gkj+A\n",
       "ge0XA7sAQ/8FBoadM6MZAEflFACalZ/OAAAAAElFTkSuQmCC\n",
       "\" style=\"display:inline;vertical-align:middle;\" /></a></td></tr>\n",
       "</table>\n"
      ],
      "text/plain": [
       "0. (1 + 2 + 3) = (3 + 3)\n",
       "   core type: Operation\n",
       "   operator: 1\n",
       "   operands: 2\n",
       "1. =\n",
       "   core type: Literal\n",
       "   sub-expressions: \n",
       "2. (1 + 2 + 3 , 3 + 3)\n",
       "   core type: ExprTuple\n",
       "   sub-expressions: 3, 4\n",
       "3. 1 + 2 + 3\n",
       "   core type: Operation\n",
       "   operator: 6\n",
       "   operands: 5\n",
       "4. 3 + 3\n",
       "   core type: Operation\n",
       "   operator: 6\n",
       "   operands: 7\n",
       "5. (1 , 2 , 3)\n",
       "   core type: ExprTuple\n",
       "   sub-expressions: 8, 9, 10\n",
       "6. +\n",
       "   core type: Literal\n",
       "   sub-expressions: \n",
       "7. (3 , 3)\n",
       "   core type: ExprTuple\n",
       "   sub-expressions: 10, 10\n",
       "8. 1\n",
       "   core type: Literal\n",
       "   sub-expressions: \n",
       "9. 2\n",
       "   core type: Literal\n",
       "   sub-expressions: \n",
       "10. 3\n",
       "    core type: Literal\n",
       "    sub-expressions: "
      ]
     },
     "execution_count": 4,
     "metadata": {},
     "output_type": "execute_result"
    }
   ],
   "source": [
    "# display the expression information\n",
    "expr.exprInfo()"
   ]
  },
  {
   "cell_type": "code",
   "execution_count": null,
   "metadata": {},
   "outputs": [],
   "source": []
  }
 ],
 "metadata": {
  "kernelspec": {
   "display_name": "Python 3",
   "language": "python",
   "name": "python3"
  }
 },
 "nbformat": 4,
 "nbformat_minor": 0
}
