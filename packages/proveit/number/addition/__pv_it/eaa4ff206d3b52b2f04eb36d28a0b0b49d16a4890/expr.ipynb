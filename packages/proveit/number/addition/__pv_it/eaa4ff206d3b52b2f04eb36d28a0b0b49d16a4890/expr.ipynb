{
 "cells": [
  {
   "cell_type": "markdown",
   "metadata": {},
   "source": [
    "Expression of type <a class=\"ProveItLink\" href=\"../../../../../../doc/html/api/proveit.number.Add.html\">Add</a>\n",
    "=======================\n",
    "# from context <a class=\"ProveItLink\" href=\"../../_context_.ipynb\">proveit.number.addition</a>"
   ]
  },
  {
   "cell_type": "code",
   "execution_count": 1,
   "metadata": {},
   "outputs": [],
   "source": [
    "# import Expression classes needed to build the expression\n",
    "from proveit import Variable\n",
    "from proveit._common_ import b, c\n",
    "from proveit.number import Add, Mult, one, three, two"
   ]
  },
  {
   "cell_type": "code",
   "execution_count": 2,
   "metadata": {},
   "outputs": [
    {
     "data": {
      "text/html": [
       "<strong id=\"expr\">expr:</strong> <a class=\"ProveItLink\" href=\"../df60e9b7e2aad22b6ae2ed2bed6ead8e3fc900cd0/expr.ipynb\"><img src=\"data:image/png;base64,iVBORw0KGgoAAAANSUhEUgAAAU0AAAAVBAMAAAAwdKHZAAAAMFBMVEX///+6uroyMjLMzMwQEBAi\n",
       "IiKYmJhmZmZUVFSIiIh2dnbc3Nzu7u5ERESqqqoAAABZrPngAAAAAXRSTlMAQObYZgAAAxNJREFU\n",
       "SMfllj9oE1Ecx7/510ubyyUUHJwaDqwdFDIIiout4FCtbQYnF+PgUpeQwWIWMxRRRAwIxUAhWSQ0\n",
       "KBYcqjh4QycVjEvBQXrg1EFMlApKJL5713d3793jrrTZfNCX9pfP732/fb/fvXvA/zSO+kPXfZFI\n",
       "bXiUf6jLhVAmVkWs/dzkUpS8SJ0BNsqfEE4hbfAxPyUZ0Wo4YmADkd98Sk6kTiBVRcMMpaBuCz79\n",
       "lGe83/vMsJXVdXGrWaAOvDCx63xBUxYFarSGpIFEV04xNUKp9x6JPhcDfO7sfU6wJE3sHCcwB3z3\n",
       "+qQpmwIVNxCfQ7Inp5ha3Ao2RJ+b+/D5FGE+I7QsnrrTlLTJU+Ok0n0oPTnF1MYh85l2uiW19mDn\n",
       "ttTnVP0uL6i263kuoDSFPqYpYyU+rULnRF9OMbWK6JOqMQp4hxvFCzKf6l9keFunstECF4gWyXR2\n",
       "yl2apmg53ucknc815RTzOSn6pGqa8yA10cBXmU+tj3jTK6jOIl3kOy9Ln4AZa/7gpESmeZ/0a5yk\n",
       "Sxg+ivmccX1SylZjFGDgobw/lRwyJa9gsiv2Z4b6xAJZV911UmJdnqKNqXSs+WPBRzGfPdcnpWy1\n",
       "mHtKYNZrsqzrV3TdKmWihAmyfYquHzuv66QHMx3bvxOgPl8C2wRTLzspdG0PRR08sR/fDk+5al6f\n",
       "lLLVPD5TP6HK9pOccncM78a8rYn7GTehDgzq05Mi1n3e+r2EN5BSbD/nhf601dy63xztYlXqM4+L\n",
       "nGCG2OH702rXH8A1duzbKSPCc7RFfk4TIUgp5nNL8GmrMQrar/R0qibzmTSVKieYLGGMPwCsU2MF\n",
       "kT8s004Rz6UWqdnVdqsgp5jPluDTViPUty9kGOrnZ+0V7P3Bn0v3bwllrtRXhXOeaGtLZfceQlOi\n",
       "WZ46QlpyMBgU5BTzSSgsLRwvOkapGqOC3kcIfR/hkizf995cD6Kc92Ygta87pe9m6ASk14Q1gRpp\n",
       "BlFMLZg65Igaknur7MY2NOpgIyW5oiZ9BXyF4VEHHK/9ocf+/6Z2COofqpcOWbneqfkAAAAASUVO\n",
       "RK5CYII=\n",
       "\" style=\"display:inline;vertical-align:middle;\" /></a><br>"
      ],
      "text/plain": [
       "expr: _x_ + b + c + (3 * b) + (2 * b) + (1 * c)"
      ]
     },
     "execution_count": 2,
     "metadata": {},
     "output_type": "execute_result"
    }
   ],
   "source": [
    "# build up the expression from sub-expressions\n",
    "expr = Add(Variable(\"_x_\", latexFormat = r\"{_{-}x_{-}}\"), b, c, Mult(three, b), Mult(two, b), Mult(one, c))"
   ]
  },
  {
   "cell_type": "code",
   "execution_count": 3,
   "metadata": {},
   "outputs": [
    {
     "name": "stdout",
     "output_type": "stream",
     "text": [
      "Passed sanity check: built 'expr' is the same as the stored Expression.\n"
     ]
    }
   ],
   "source": [
    "# check that the built expression is the same as the stored expression\n",
    "%check_expr"
   ]
  },
  {
   "cell_type": "code",
   "execution_count": 4,
   "metadata": {},
   "outputs": [
    {
     "data": {
      "text/html": [
       "<table><tr><th>&nbsp;</th><th>core type</th><th>sub-expressions</th><th>expression</th></tr>\n",
       "<tr><td>0</td><td>Operation</td><td>operator:&nbsp;1<br>operands:&nbsp;2<br></td><td><a class=\"ProveItLink\" href=\"../df60e9b7e2aad22b6ae2ed2bed6ead8e3fc900cd0/expr.ipynb\"><img src=\"data:image/png;base64,iVBORw0KGgoAAAANSUhEUgAAAU0AAAAVBAMAAAAwdKHZAAAAMFBMVEX///+6uroyMjLMzMwQEBAi\n",
       "IiKYmJhmZmZUVFSIiIh2dnbc3Nzu7u5ERESqqqoAAABZrPngAAAAAXRSTlMAQObYZgAAAxNJREFU\n",
       "SMfllj9oE1Ecx7/510ubyyUUHJwaDqwdFDIIiout4FCtbQYnF+PgUpeQwWIWMxRRRAwIxUAhWSQ0\n",
       "KBYcqjh4QycVjEvBQXrg1EFMlApKJL5713d3793jrrTZfNCX9pfP732/fb/fvXvA/zSO+kPXfZFI\n",
       "bXiUf6jLhVAmVkWs/dzkUpS8SJ0BNsqfEE4hbfAxPyUZ0Wo4YmADkd98Sk6kTiBVRcMMpaBuCz79\n",
       "lGe83/vMsJXVdXGrWaAOvDCx63xBUxYFarSGpIFEV04xNUKp9x6JPhcDfO7sfU6wJE3sHCcwB3z3\n",
       "+qQpmwIVNxCfQ7Inp5ha3Ao2RJ+b+/D5FGE+I7QsnrrTlLTJU+Ok0n0oPTnF1MYh85l2uiW19mDn\n",
       "ttTnVP0uL6i263kuoDSFPqYpYyU+rULnRF9OMbWK6JOqMQp4hxvFCzKf6l9keFunstECF4gWyXR2\n",
       "yl2apmg53ucknc815RTzOSn6pGqa8yA10cBXmU+tj3jTK6jOIl3kOy9Ln4AZa/7gpESmeZ/0a5yk\n",
       "Sxg+ivmccX1SylZjFGDgobw/lRwyJa9gsiv2Z4b6xAJZV911UmJdnqKNqXSs+WPBRzGfPdcnpWy1\n",
       "mHtKYNZrsqzrV3TdKmWihAmyfYquHzuv66QHMx3bvxOgPl8C2wRTLzspdG0PRR08sR/fDk+5al6f\n",
       "lLLVPD5TP6HK9pOccncM78a8rYn7GTehDgzq05Mi1n3e+r2EN5BSbD/nhf601dy63xztYlXqM4+L\n",
       "nGCG2OH702rXH8A1duzbKSPCc7RFfk4TIUgp5nNL8GmrMQrar/R0qibzmTSVKieYLGGMPwCsU2MF\n",
       "kT8s004Rz6UWqdnVdqsgp5jPluDTViPUty9kGOrnZ+0V7P3Bn0v3bwllrtRXhXOeaGtLZfceQlOi\n",
       "WZ46QlpyMBgU5BTzSSgsLRwvOkapGqOC3kcIfR/hkizf995cD6Kc92Ygta87pe9m6ASk14Q1gRpp\n",
       "BlFMLZg65Igaknur7MY2NOpgIyW5oiZ9BXyF4VEHHK/9ocf+/6Z2COofqpcOWbneqfkAAAAASUVO\n",
       "RK5CYII=\n",
       "\" style=\"display:inline;vertical-align:middle;\" /></a></td></tr>\n",
       "<tr><td>1</td><td>Literal</td><td></td><td><a class=\"ProveItLink\" href=\"../3e6688136fa3c7aefbebe51301b7c3ebf0b69c440/expr.ipynb\"><img src=\"data:image/png;base64,iVBORw0KGgoAAAANSUhEUgAAAA4AAAAOBAMAAADtZjDiAAAAJFBMVEX///+6urpUVFQQEBAiIiIy\n",
       "MjJmZmaIiIiqqqrc3Nzu7u4AAACgHpL+AAAAAXRSTlMAQObYZgAAAB5JREFUCNdjYGBgWMkAAe2k\n",
       "0Kmhoc6hoUGk6BMHYgAHOwjcado9fwAAAABJRU5ErkJggg==\n",
       "\" style=\"display:inline;vertical-align:middle;\" /></a></td></tr>\n",
       "<tr><td>2</td><td>ExprTuple</td><td>3, 13, 15, 4, 5, 6</td><td><a class=\"ProveItLink\" href=\"../b5de60205074689336310561d8e0a849eb4e14020/expr.ipynb\"><img src=\"data:image/png;base64,iVBORw0KGgoAAAANSUhEUgAAANsAAAAVBAMAAAA9T4a3AAAAMFBMVEX////c3NwiIiJERESqqqqY\n",
       "mJh2dnZmZmYQEBDu7u4yMjJUVFTMzMyIiIi6uroAAAAs73DqAAAAAXRSTlMAQObYZgAAAlRJREFU\n",
       "SMe9Vj+I01Ac/mKbNmmbtoi4iFwXcbyCCt7mdqOZHKVTBeGgKN6JDoqKuKiBA+nRoQF1EAcdXETE\n",
       "TCK4dPKU8zA6ulw9qlI5PN+fy8t7eWnuFpsh/PJ97/d9732veSkw5as6mJbTWXp7P5nv3dCgt+3j\n",
       "Om0sPQzTmubU3mJAbk8y5vM0CRgdbAw0+hCcUUrT8jjR7QNOVpajJFAYodbQ6JfArN7Ue5W0OwNY\n",
       "Xsa2JscjL9sJ+o6HN6He5CTbu8D3jMUVGilgHKagn3m4FupNml3uFBbjp4NrB1aVaEuv11xe2e31\n",
       "QNvPmCZhejoq2zGBQgePY6RlHrGU9fSb2OLVu7DEmcr55yk0Kr9SUNmOCeR93IujgzPMB7LdaQ+3\n",
       "+UzuIhct5CONzfZkmiypSe8rSlNktyIEqtfxN14dyk016yvAb1aUhzFoUZF+Q6aBi0xgU2nasWMo\n",
       "F6gMJTuilHgpjqL6kxW1aB5GgByFuk2ZhsMStm9CRccC5QLE7pYkPxPAU1+7Is9jJppHf8ztVBrz\n",
       "MOo6Ku0dFyBhnhCQWf8CR9jRYgtWixU1snGuTQsf+35EQwRd6ZBmDZXtmABMH+fiH4Z7EofFRtLE\n",
       "X+DqTvQdFAK6X46LjVY0RtD72+0L0FDZjgnQF+EbOSqOkWsOyx8eLLjRg32fTLe36vICi+uf0KXL\n",
       "ml96FB/GET27vb2po8XLfy4JlAqgFMKqTzjA6skCXzPH7QElh5jZSrcztQJu5rg9oAuTP0D/wc72\n",
       "2ccq9RpohZM9bne0TBM2pvbn4TPwD7AgwUzDR6ycAAAAAElFTkSuQmCC\n",
       "\" style=\"display:inline;vertical-align:middle;\" /></a></td></tr>\n",
       "<tr><td>3</td><td>Variable</td><td></td><td><a class=\"ProveItLink\" href=\"../../../../logic/__pv_it/5144cf74ae6a683b49b974f1b9302b432abf7e930/expr.ipynb\"><img src=\"data:image/png;base64,iVBORw0KGgoAAAANSUhEUgAAACUAAAAJBAMAAABH3vh9AAAAKlBMVEX////MzMwQEBAiIiKYmJhm\n",
       "ZmZUVFSIiIh2dnbc3Nzu7u5ERESqqqoAAABwkVEpAAAAAXRSTlMAQObYZgAAAEtJREFUCNdjYIAA\n",
       "zvbM4+EMqGAFg7ODMppYA0Mtw0E0sQUM2QyYQB1TiPMiAxeakCf7BYYqVCGeK9wKnAUw3undQLCA\n",
       "a3tXRwmMAwC3+RVNp6j0GAAAAABJRU5ErkJggg==\n",
       "\" style=\"display:inline;vertical-align:middle;\" /></a></td></tr>\n",
       "<tr><td>4</td><td>Operation</td><td>operator:&nbsp;9<br>operands:&nbsp;7<br></td><td><a class=\"ProveItLink\" href=\"../1e631544db83ce4853cc0a486ec7448a56387f780/expr.ipynb\"><img src=\"data:image/png;base64,iVBORw0KGgoAAAANSUhEUgAAACIAAAAOBAMAAAC4B9O8AAAAMFBMVEX///+YmJju7u4QEBBUVFQy\n",
       "MjIiIiKIiIi6urpmZmbc3NyqqqpERER2dnbMzMwAAAB0GlNiAAAAAXRSTlMAQObYZgAAAJhJREFU\n",
       "CNdjYHh79zQDDKiYAQmuCQz9BXChECDm/c3AnwAX+Q3E3MgiHJ8gNEIXbwJCMwSwupcIMDDwXXWA\n",
       "i+gfYPgHoosbgASTApDYr8BgCxJhBpmnDzJiKgPDTwauBww8H4Ec5QNAIpOB4yOD/ieICNQ5nJ8Y\n",
       "+AMY2H7BRP4xMF9gYBdg6L8AE/FmmAIkd86MRvi0UoABAPL2JMAQl6zyAAAAAElFTkSuQmCC\n",
       "\" style=\"display:inline;vertical-align:middle;\" /></a></td></tr>\n",
       "<tr><td>5</td><td>Operation</td><td>operator:&nbsp;9<br>operands:&nbsp;8<br></td><td><a class=\"ProveItLink\" href=\"../4fa23b01b5b767887c70271cab015f5b5c98d38c0/expr.ipynb\"><img src=\"data:image/png;base64,iVBORw0KGgoAAAANSUhEUgAAACEAAAAOBAMAAABTMGi/AAAAMFBMVEX///+YmJh2dnbMzMwQEBAi\n",
       "IiLu7u6qqqqIiIhUVFS6urpEREQyMjJmZmbc3NwAAACOMKdoAAAAAXRSTlMAQObYZgAAAKBJREFU\n",
       "CNdj4Lt7egEDFLBNCQCSLxk4vsNEGHgmAIlpDAzxcBH+AiDhksAwH65tfQKQOJ/AcB8uogql4xNg\n",
       "Iic7JoIo5k9wu34z8BuALNgA4qUBMfs3BhYFIH0bLP0VSPAeYOC/wMDAMQEs4g0kWC8wrBdgYKhl\n",
       "4HuAcM79BAbmCwyMcBEDBicGhqdKSldhdnEW8AKNiP///yvc9hkXGRgAQ2knSfB0jgcAAAAASUVO\n",
       "RK5CYII=\n",
       "\" style=\"display:inline;vertical-align:middle;\" /></a></td></tr>\n",
       "<tr><td>6</td><td>Operation</td><td>operator:&nbsp;9<br>operands:&nbsp;10<br></td><td><a class=\"ProveItLink\" href=\"../0e878f9c71a2efd1c9106f5963590ee158259e4f0/expr.ipynb\"><img src=\"data:image/png;base64,iVBORw0KGgoAAAANSUhEUgAAACEAAAAPBAMAAACYbLsaAAAALVBMVEX////c3Ny6urrMzMx2dnYi\n",
       "IiKYmJgyMjIQEBBmZmaIiIhUVFTu7u5EREQAAACQChhGAAAAAXRSTlMAQObYZgAAAF1JREFUGNNj\n",
       "YGC4w4AGzr5BEzi9G12EgYtEER6XVQaoIhYK7AFwkTMgJV0MvAkwEZ6nQIL7AZI5PL1Agu8Cusly\n",
       "C9BF+ICGJKCIcE9gYDFg4JzxfBpcaMqqNQyYAAAn7xwCwhWVrQAAAABJRU5ErkJggg==\n",
       "\" style=\"display:inline;vertical-align:middle;\" /></a></td></tr>\n",
       "<tr><td>7</td><td>ExprTuple</td><td>11, 13</td><td><a class=\"ProveItLink\" href=\"../ed5a6ec4c875d8d4dac8f1f17e42c24dc92561870/expr.ipynb\"><img src=\"data:image/png;base64,iVBORw0KGgoAAAANSUhEUgAAACkAAAAVBAMAAAAp9toTAAAAMFBMVEX////c3NwiIiJERESqqqqY\n",
       "mJh2dnZmZmYQEBDu7u4yMjJUVFTMzMyIiIi6uroAAAAs73DqAAAAAXRSTlMAQObYZgAAARBJREFU\n",
       "GNNtka9Pw0AcxT/d2rVlY53H7I8AX4edQpIGAQnJkhpAgiBIqMRRAYLM1JBgSKowmEkEJAtypvya\n",
       "qCF873odScOJd++95L737h38v/rThrGt4Aked9crw78fgpsLu8WKKcyBlUwghdUpnW+CYeUGocAW\n",
       "eAn2n1skApcwr5SZsKOgHXKo1cTcP3m9g07MjfDefmYyfBHk2CnnWj7P9GaXeBH9E3609Eq9uSlB\n",
       "TO9duVZOe6HdliQfKfcUrsralbjHiZqwITyl9YFKKledgZOyJ88bUUT+p7jd0M10sjcRm0fX+BcD\n",
       "SfZwoMqY4Q3qRmuiXuxEhjvLgse6yYbrS5OsGbH8kq4aZTV/6AV+AUvGQYW/r0RJAAAAAElFTkSu\n",
       "QmCC\n",
       "\" style=\"display:inline;vertical-align:middle;\" /></a></td></tr>\n",
       "<tr><td>8</td><td>ExprTuple</td><td>12, 13</td><td><a class=\"ProveItLink\" href=\"../3a7fed3333ef42636d071b31cc212d3a8cbf468e0/expr.ipynb\"><img src=\"data:image/png;base64,iVBORw0KGgoAAAANSUhEUgAAACkAAAAVBAMAAAAp9toTAAAAMFBMVEX////c3NwiIiJERESqqqqY\n",
       "mJh2dnZmZmYQEBDu7u4yMjJUVFTMzMyIiIi6uroAAAAs73DqAAAAAXRSTlMAQObYZgAAARNJREFU\n",
       "GNNtkaFPw0AUxn8tK20prEMhMFVoDJb0TwCDJA2CKZIaEBgQhAQDlcgmBEEwNSQYkjkEgnlGIEjM\n",
       "FqZqKO/u2omGipf3/a737rvv4P+vO2yBXVVeYOV40wD/MQJ3IN0dVsFHbPBCISWHpSFBhj0xNFSr\n",
       "O+BleBcEv4aOMynX8C3bStya7qkyF3OklV0aev/+APMpt1q9JsbDlHBAJ+dSyxvza6fES+ieoge6\n",
       "64a6OWHK4sTQt/padsp4S9EztTFlubF7kqkJGyKeYRvlVI46ByenD9bafj/yf4QGsVtoZ18yraqq\n",
       "yL/qibOnQxXGJ16vSbRp1I2dpO6dWcAHOskW9SVJVmsxe5JAjbLaLzSCP9bMPeBRRV1aAAAAAElF\n",
       "TkSuQmCC\n",
       "\" style=\"display:inline;vertical-align:middle;\" /></a></td></tr>\n",
       "<tr><td>9</td><td>Literal</td><td></td><td><a class=\"ProveItLink\" href=\"../../../multiplication/__pv_it/21fd2079611555ecce512d99547a00d551e6b86b0/expr.ipynb\"><img src=\"data:image/png;base64,iVBORw0KGgoAAAANSUhEUgAAAAMAAAADBAMAAACkBqiMAAAAElBMVEX///9EREQQEBAiIiLu7u4A\n",
       "AABGBidwAAAAAXRSTlMAQObYZgAAABFJREFUCNdjYHFgcDVgcBIAAASWAQx4jI0xAAAAAElFTkSu\n",
       "QmCC\n",
       "\" style=\"display:inline;vertical-align:middle;\" /></a></td></tr>\n",
       "<tr><td>10</td><td>ExprTuple</td><td>14, 15</td><td><a class=\"ProveItLink\" href=\"../deda2a103a56807cc467e42546c498e67ce9ee270/expr.ipynb\"><img src=\"data:image/png;base64,iVBORw0KGgoAAAANSUhEUgAAACkAAAAVBAMAAAAp9toTAAAAMFBMVEX////c3NwiIiJERESqqqqY\n",
       "mJh2dnZmZmYQEBDu7u4yMjJUVFTMzMyIiIi6uroAAAAs73DqAAAAAXRSTlMAQObYZgAAANNJREFU\n",
       "GNNjYMAO+C6gCcSBiNNAzDwBSZT9AJBYycDAaY8syrCAgYH3AgPn7v0oomEMDBwggfsoojMYGF4x\n",
       "YIgyOzCUoYhypt09wMBWwLAURfTEAy4FBpYFDH3Iopy9DMwBDHwNDP+QRbk/gEieD6ii/AZQ0RZk\n",
       "UXmw74EmmMJEQRL8AQwMAQysCxjSoaKcn0DmFjCwgV32CMgp718ewNkvAGSV3b3JwMD1gIFDABai\n",
       "Akg+Zk2AslnhPs6FhCSqKCcwJBmkoRx4lHCDjGJEj6E7DAwAGVM6QVouTMMAAAAASUVORK5CYII=\n",
       "\" style=\"display:inline;vertical-align:middle;\" /></a></td></tr>\n",
       "<tr><td>11</td><td>Literal</td><td></td><td><a class=\"ProveItLink\" href=\"../../../numeral/__pv_it/9176d93c83afa2c995b614976e3cb49207102fa70/expr.ipynb\"><img src=\"data:image/png;base64,iVBORw0KGgoAAAANSUhEUgAAAAoAAAAOBAMAAADkjZCYAAAAMFBMVEX///+YmJju7u4QEBBUVFQy\n",
       "MjIiIiKIiIi6urpmZmbc3NyqqqpERER2dnbMzMwAAAB0GlNiAAAAAXRSTlMAQObYZgAAAE1JREFU\n",
       "CNdjYHh79zQDA9cEhv4CBt7fDPwJDNxgEgiAIkAQAsR8Vx1ATIbiBhDJ/ImB6wEDz0cG/U8gkj+A\n",
       "ge0XA7sAQ/8FBoadM6MZAEflFACalZ/OAAAAAElFTkSuQmCC\n",
       "\" style=\"display:inline;vertical-align:middle;\" /></a></td></tr>\n",
       "<tr><td>12</td><td>Literal</td><td></td><td><a class=\"ProveItLink\" href=\"../../../numeral/__pv_it/77d407a64829263cdc16415becd4c2293f77a4bf0/expr.ipynb\"><img src=\"data:image/png;base64,iVBORw0KGgoAAAANSUhEUgAAAAkAAAAOBAMAAAAPuiubAAAAMFBMVEX///+YmJh2dnbMzMwQEBAi\n",
       "IiLu7u6qqqqIiIhUVFS6urpEREQyMjJmZmbc3NwAAACOMKdoAAAAAXRSTlMAQObYZgAAAFBJREFU\n",
       "CNdj4Lt7egEDw0sGju8MDNMYGOIZGFwSGOYvYDifwHAfKAEUSQASzJ9ATJ4NIPI2iOCYACJrGfge\n",
       "MDBfYGB8wPBUSekqUPH//18ZAIliFhc3zESNAAAAAElFTkSuQmCC\n",
       "\" style=\"display:inline;vertical-align:middle;\" /></a></td></tr>\n",
       "<tr><td>13</td><td>Variable</td><td></td><td><a class=\"ProveItLink\" href=\"../../../../__pv_it/6840a4fa6c106149dc16a131294d0c5e44f1b0480/expr.ipynb\"><img src=\"data:image/png;base64,iVBORw0KGgoAAAANSUhEUgAAAAkAAAAOBAMAAAAPuiubAAAALVBMVEX///9mZmbMzMxERESYmJiI\n",
       "iIh2dna6urqqqqoyMjIiIiIQEBBUVFTu7u4AAAD9S1JeAAAAAXRSTlMAQObYZgAAAE1JREFUCNdj\n",
       "4D29gAEIOA+ASL4GEFl3AURmgQiGOaFHGBh4HzPwKTBwvGXgTmBgnMDAJ8DAJcBQ5wBSLncBJLWN\n",
       "gYGngRFoBO9REQYGAGrcDtUkVqASAAAAAElFTkSuQmCC\n",
       "\" style=\"display:inline;vertical-align:middle;\" /></a></td></tr>\n",
       "<tr><td>14</td><td>Literal</td><td></td><td><a class=\"ProveItLink\" href=\"../../../numeral/__pv_it/9be8badea4c35b9724062cecc501d17a3158d1d20/expr.ipynb\"><img src=\"data:image/png;base64,iVBORw0KGgoAAAANSUhEUgAAAAgAAAAPBAMAAAArJJMAAAAAHlBMVEX///+YmJgyMjIQEBBmZmaI\n",
       "iIhUVFTu7u5EREQAAAAw+MI4AAAAAXRSTlMAQObYZgAAACFJREFUCNdjYGBoZ2BgqJjOwFCWBiQY\n",
       "WEklWJwnOTKAAACjEQo8HvEr3AAAAABJRU5ErkJggg==\n",
       "\" style=\"display:inline;vertical-align:middle;\" /></a></td></tr>\n",
       "<tr><td>15</td><td>Variable</td><td></td><td><a class=\"ProveItLink\" href=\"../../../../__pv_it/cbdfda466482236edba0ce44ac7ef39cda0af7a40/expr.ipynb\"><img src=\"data:image/png;base64,iVBORw0KGgoAAAANSUhEUgAAAAkAAAAJBAMAAAASvxsjAAAALVBMVEX///9mZmbc3NxUVFSYmJhE\n",
       "REQiIiIyMjK6uroQEBDMzMyIiIh2dnbu7u4AAABgFDGoAAAAAXRSTlMAQObYZgAAADZJREFUCNdj\n",
       "YOA9s3sBA8PKBvYEBt7ZDKwODMwPGICALwBE6m0Asx0YGIDiAgw8QJUyu/cyAAAmuwmycZ8WfQAA\n",
       "AABJRU5ErkJggg==\n",
       "\" style=\"display:inline;vertical-align:middle;\" /></a></td></tr>\n",
       "</table>\n"
      ],
      "text/plain": [
       "0. _x_ + b + c + (3 * b) + (2 * b) + (1 * c)\n",
       "   core type: Operation\n",
       "   operator: 1\n",
       "   operands: 2\n",
       "1. +\n",
       "   core type: Literal\n",
       "   sub-expressions: \n",
       "2. (_x_ , b , c , 3 * b , 2 * b , 1 * c)\n",
       "   core type: ExprTuple\n",
       "   sub-expressions: 3, 13, 15, 4, 5, 6\n",
       "3. _x_\n",
       "   core type: Variable\n",
       "   sub-expressions: \n",
       "4. 3 * b\n",
       "   core type: Operation\n",
       "   operator: 9\n",
       "   operands: 7\n",
       "5. 2 * b\n",
       "   core type: Operation\n",
       "   operator: 9\n",
       "   operands: 8\n",
       "6. 1 * c\n",
       "   core type: Operation\n",
       "   operator: 9\n",
       "   operands: 10\n",
       "7. (3 , b)\n",
       "   core type: ExprTuple\n",
       "   sub-expressions: 11, 13\n",
       "8. (2 , b)\n",
       "   core type: ExprTuple\n",
       "   sub-expressions: 12, 13\n",
       "9. *\n",
       "   core type: Literal\n",
       "   sub-expressions: \n",
       "10. (1 , c)\n",
       "    core type: ExprTuple\n",
       "    sub-expressions: 14, 15\n",
       "11. 3\n",
       "    core type: Literal\n",
       "    sub-expressions: \n",
       "12. 2\n",
       "    core type: Literal\n",
       "    sub-expressions: \n",
       "13. b\n",
       "    core type: Variable\n",
       "    sub-expressions: \n",
       "14. 1\n",
       "    core type: Literal\n",
       "    sub-expressions: \n",
       "15. c\n",
       "    core type: Variable\n",
       "    sub-expressions: "
      ]
     },
     "execution_count": 4,
     "metadata": {},
     "output_type": "execute_result"
    }
   ],
   "source": [
    "# display the expression information\n",
    "expr.exprInfo()"
   ]
  },
  {
   "cell_type": "code",
   "execution_count": null,
   "metadata": {},
   "outputs": [],
   "source": []
  }
 ],
 "metadata": {
  "kernelspec": {
   "display_name": "Python 3",
   "language": "python",
   "name": "python3"
  }
 },
 "nbformat": 4,
 "nbformat_minor": 0
}
