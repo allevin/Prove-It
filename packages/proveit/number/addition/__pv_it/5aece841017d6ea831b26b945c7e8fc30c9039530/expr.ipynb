{
 "cells": [
  {
   "cell_type": "markdown",
   "metadata": {},
   "source": [
    "Expression of type <a class=\"ProveItLink\" href=\"../../../../../../doc/html/api/proveit.number.Add.html\">Add</a>\n",
    "=======================\n",
    "# from context <a class=\"ProveItLink\" href=\"../../_context_.ipynb\">proveit.number.addition</a>"
   ]
  },
  {
   "cell_type": "code",
   "execution_count": 1,
   "metadata": {},
   "outputs": [],
   "source": [
    "# import Expression classes needed to build the expression\n",
    "from proveit import Variable\n",
    "from proveit._common_ import b, c\n",
    "from proveit.number import Add"
   ]
  },
  {
   "cell_type": "code",
   "execution_count": 2,
   "metadata": {},
   "outputs": [
    {
     "data": {
      "text/html": [
       "<strong id=\"expr\">expr:</strong> <a class=\"ProveItLink\" href=\"expr.ipynb\"><img src=\"data:image/png;base64,iVBORw0KGgoAAAANSUhEUgAAARMAAAAVBAMAAACXqRciAAAAMFBMVEX///+6uroyMjLMzMwQEBAi\n",
       "IiKYmJhmZmZUVFSIiIh2dnbc3Nzu7u5ERESqqqoAAABZrPngAAAAAXRSTlMAQObYZgAAAoVJREFU\n",
       "SMfVljFoE2EUx/9JYy7JXXJBdHBqPKh0cMjg4GYqdGgV6SC4RsGlLqGCaBcziFKKGhDUA8GAiKQ4\n",
       "ZNTJIB1KHewkOChBpw5ipFARUvHd9c7e+95n+BAXD5Ijv7y897/33vfygP/pSrUMDbNlgQ6ZBjlv\n",
       "ZHUczo05jgTA2jS9XVZ/OtY0lWJVTayOAmnVpQCYDKgK0z3j3FdGfPcmuuepPm4/Tkd39y4AfgYV\n",
       "aivQ1znUg/kRUjaje4aebDx+ulLUNwKkhoGEGoc4rXOoB6sGUvbT6ymUyAIUwub5qOirmEspxnmG\n",
       "3VnevKY1XAwawb/JgwiQXnpYB55xaAUFW+/c4w4FcFb8KgqNOPA6LtantVKOkO0O3GoyiAB4u4Et\n",
       "4JOij9SNTWGCORQAx8rpOZR+Z7CNx/islTJFrofItJNBBMDXHmaBA1xKhgbNagvvmEMBnBkU60jV\n",
       "4sA93P5DJb9RoitwG8kgAmAB+A6c4FJcknJXdShAbhAma7AXeiapY8HzznreZCRlXwPjlGvL8yZO\n",
       "el5TA3AOqe1dKQkYSNlRHQrgbihS7C042qycCafI9V7yeQWgsWINZYH6sH8oDgXAq9B6r0CX8gM8\n",
       "0kqhwlKLzrIgAlDPBs1zgUNqAVCussyhAC5Z1ZGN27a0XazZLa0UOqC5vtVkQQTAHVyFOMzBAb0F\n",
       "PGEOBcg1UAgP85cPdPWc989X7iP6wKUcpB5fusInmgBYe0DPhsPKiKO5Z3V87lAALPpUj3TZYPB3\n",
       "E7CkLgwMiMF/6t8M/njViP/j9LsLA4WWAudH7i4MdAyXBMPr9d8vCU7FxOqFsZRlFdjGq1Oua2Jl\n",
       "my6UebmJvTSVQv+QvwBFd9BHm4WiNAAAAABJRU5ErkJggg==\n",
       "\" style=\"display:inline;vertical-align:middle;\" /></a><br>"
      ],
      "text/plain": [
       "expr: _x_ + (b + b + b) + (c + c + c)"
      ]
     },
     "execution_count": 2,
     "metadata": {},
     "output_type": "execute_result"
    }
   ],
   "source": [
    "# build up the expression from sub-expressions\n",
    "expr = Add(Variable(\"_x_\", latexFormat = r\"{_{-}x_{-}}\"), Add(b, b, b), Add(c, c, c))"
   ]
  },
  {
   "cell_type": "code",
   "execution_count": 3,
   "metadata": {},
   "outputs": [
    {
     "name": "stdout",
     "output_type": "stream",
     "text": [
      "Passed sanity check: built 'expr' is the same as the stored Expression.\n"
     ]
    }
   ],
   "source": [
    "# check that the built expression is the same as the stored expression\n",
    "%check_expr"
   ]
  },
  {
   "cell_type": "code",
   "execution_count": 4,
   "metadata": {},
   "outputs": [
    {
     "data": {
      "text/html": [
       "<table><tr><th>&nbsp;</th><th>core type</th><th>sub-expressions</th><th>expression</th></tr>\n",
       "<tr><td>0</td><td>Operation</td><td>operator:&nbsp;6<br>operands:&nbsp;1<br></td><td><a class=\"ProveItLink\" href=\"expr.ipynb\"><img src=\"data:image/png;base64,iVBORw0KGgoAAAANSUhEUgAAARMAAAAVBAMAAACXqRciAAAAMFBMVEX///+6uroyMjLMzMwQEBAi\n",
       "IiKYmJhmZmZUVFSIiIh2dnbc3Nzu7u5ERESqqqoAAABZrPngAAAAAXRSTlMAQObYZgAAAoVJREFU\n",
       "SMfVljFoE2EUx/9JYy7JXXJBdHBqPKh0cMjg4GYqdGgV6SC4RsGlLqGCaBcziFKKGhDUA8GAiKQ4\n",
       "ZNTJIB1KHewkOChBpw5ipFARUvHd9c7e+95n+BAXD5Ijv7y897/33vfygP/pSrUMDbNlgQ6ZBjlv\n",
       "ZHUczo05jgTA2jS9XVZ/OtY0lWJVTayOAmnVpQCYDKgK0z3j3FdGfPcmuuepPm4/Tkd39y4AfgYV\n",
       "aivQ1znUg/kRUjaje4aebDx+ulLUNwKkhoGEGoc4rXOoB6sGUvbT6ymUyAIUwub5qOirmEspxnmG\n",
       "3VnevKY1XAwawb/JgwiQXnpYB55xaAUFW+/c4w4FcFb8KgqNOPA6LtantVKOkO0O3GoyiAB4u4Et\n",
       "4JOij9SNTWGCORQAx8rpOZR+Z7CNx/islTJFrofItJNBBMDXHmaBA1xKhgbNagvvmEMBnBkU60jV\n",
       "4sA93P5DJb9RoitwG8kgAmAB+A6c4FJcknJXdShAbhAma7AXeiapY8HzznreZCRlXwPjlGvL8yZO\n",
       "el5TA3AOqe1dKQkYSNlRHQrgbihS7C042qycCafI9V7yeQWgsWINZYH6sH8oDgXAq9B6r0CX8gM8\n",
       "0kqhwlKLzrIgAlDPBs1zgUNqAVCussyhAC5Z1ZGN27a0XazZLa0UOqC5vtVkQQTAHVyFOMzBAb0F\n",
       "PGEOBcg1UAgP85cPdPWc989X7iP6wKUcpB5fusInmgBYe0DPhsPKiKO5Z3V87lAALPpUj3TZYPB3\n",
       "E7CkLgwMiMF/6t8M/njViP/j9LsLA4WWAudH7i4MdAyXBMPr9d8vCU7FxOqFsZRlFdjGq1Oua2Jl\n",
       "my6UebmJvTSVQv+QvwBFd9BHm4WiNAAAAABJRU5ErkJggg==\n",
       "\" style=\"display:inline;vertical-align:middle;\" /></a></td></tr>\n",
       "<tr><td>1</td><td>ExprTuple</td><td>2, 3, 4</td><td><a class=\"ProveItLink\" href=\"../a5f7dd8caeceb03be546ea95d88d137bda09b94b0/expr.ipynb\"><img src=\"data:image/png;base64,iVBORw0KGgoAAAANSUhEUgAAAOEAAAAVBAMAAABCnpRGAAAAMFBMVEX////c3NwiIiJERESqqqqY\n",
       "mJh2dnZmZmYQEBDu7u4yMjJUVFTMzMyIiIi6uroAAAAs73DqAAAAAXRSTlMAQObYZgAAAi5JREFU\n",
       "SMe9lr9LHEEUx7/q7e3trfejCGlC8JoQS0EE7e4fOLJVynCkSCrhGi20UEKwENQTQQQLD8Eie80V\n",
       "CaQRrgyksYoEc8SkFMTzF3IgIW9/zr6d29Vtboth5jM/vvPemzezwOC//NEAxd5Yxffo/t0PDwHt\n",
       "aymRotqm4lPMgOaDINtKZmQDyMU59carbEaBQjk8ZzMMtGKg8RrI1GNC3PNqlQiAC2l6JQxSQZt2\n",
       "gLMYE9Ol0DISwFskUxwpY160np48OWY+zh6eGGwZCaDZ+eL67l2nzXp84CnaIF3DgfB3VXmRYUdv\n",
       "bwL3TEAC2jUKzrrfTrMlpugDT9EGqQbWhQ+R66baQcVXdawwAQmkeshUbek1jBhsLz5wFR2QX8Y/\n",
       "YSP0CR6BBeCOCUhAbaBQsyp6NxRHAVxFB4x2A4p0bkOZ8hL5W0vHNMdNs9kPDNdwYVtScDYrelyg\n",
       "mub+qmm2PECKHwMKY23UeTqqPbZxCVA6LtlTxo5CNgrg2ugA8uqUv75S/I2cr2hV7t0g+ctIgI7N\n",
       "CoWDKmQpi6MArqIDlAbei3NiTOO5H9QrKj5jkW9cAnpZbWGPzqReQ5plhwBeHG1A2fGX0CR9M9j6\n",
       "sT1reA1tg+6m3WODC0hAO5yje+SSavOdnzxTfeBlhw2yp8gUI264YuxFwsCfRLecUu2vqLDWebib\n",
       "ASN2KHuAZ6NfKyXBE2Q8eqRGrxWe9e9L8GeQe/xQ3YrV0CD/On4B/wGyZa00EIIwDAAAAABJRU5E\n",
       "rkJggg==\n",
       "\" style=\"display:inline;vertical-align:middle;\" /></a></td></tr>\n",
       "<tr><td>2</td><td>Variable</td><td></td><td><a class=\"ProveItLink\" href=\"../5144cf74ae6a683b49b974f1b9302b432abf7e930/expr.ipynb\"><img src=\"data:image/png;base64,iVBORw0KGgoAAAANSUhEUgAAACUAAAAJBAMAAABH3vh9AAAAKlBMVEX////MzMwQEBAiIiKYmJhm\n",
       "ZmZUVFSIiIh2dnbc3Nzu7u5ERESqqqoAAABwkVEpAAAAAXRSTlMAQObYZgAAAEtJREFUCNdjYIAA\n",
       "zvbM4+EMqGAFg7ODMppYA0Mtw0E0sQUM2QyYQB1TiPMiAxeakCf7BYYqVCGeK9wKnAUw3undQLCA\n",
       "a3tXRwmMAwC3+RVNp6j0GAAAAABJRU5ErkJggg==\n",
       "\" style=\"display:inline;vertical-align:middle;\" /></a></td></tr>\n",
       "<tr><td>3</td><td>Operation</td><td>operator:&nbsp;6<br>operands:&nbsp;5<br></td><td><a class=\"ProveItLink\" href=\"../336a4b1a600d4796004751577b8948b03b87d7190/expr.ipynb\"><img src=\"data:image/png;base64,iVBORw0KGgoAAAANSUhEUgAAAE4AAAAQBAMAAABKAFSpAAAAMFBMVEX////c3NxmZmbMzMxERESY\n",
       "mJiIiIh2dna6urqqqqoyMjIiIiIQEBBUVFTu7u4AAAAiO1wTAAAAAXRSTlMAQObYZgAAAO1JREFU\n",
       "KM9lkTsKwkAQhn/SGKMmHsHGRhA9gkfIEcTCTrC3t42VrdYrgljbC9rYKAgW8QAi+CjSBDO6k324\n",
       "xczux8cy+y/8ywrG+gO47al6Bwv/ASypBBN5usqeA78qNwmVKJanqew5KHZ/3U2pjmB5OWCv8B14\n",
       "2T+aXg7Y806DEP4LQVv3FGDv3sETxRTloe4pwN4sxhbOHEFN9xRgrwE8UKohCrO9EBshKCgJHCEW\n",
       "OyEoyzXcN6XVivX7FOD7Ejgpzbw13qsAe08auDJxDoanAHtnNLMYTnUzZwXYu/VC/ben9vezZ62x\n",
       "DVzN+wB3W0tlHU5/FgAAAABJRU5ErkJggg==\n",
       "\" style=\"display:inline;vertical-align:middle;\" /></a></td></tr>\n",
       "<tr><td>4</td><td>Operation</td><td>operator:&nbsp;6<br>operands:&nbsp;7<br></td><td><a class=\"ProveItLink\" href=\"../794b7170b8a2a7f3a9488eaf29c486ed5d13a4530/expr.ipynb\"><img src=\"data:image/png;base64,iVBORw0KGgoAAAANSUhEUgAAAE4AAAAOBAMAAABz3DdCAAAAMFBMVEX///+qqqpmZmbc3NxUVFSY\n",
       "mJhEREQiIiIyMjK6uroQEBDMzMyIiIh2dnbu7u4AAAA4MM1YAAAAAXRSTlMAQObYZgAAALFJREFU\n",
       "KM9jYICDxwxogM+AARuQQRdgPECOOr67ZzagqIMLwNW9vXOagWHXBI4CFHVwAZg67pUM7Qx8axjY\n",
       "ApDVIQRg6l4dYEhlYPmA5j6EAEydP4jgTwCzNTo6qjo6WhACTB0d7Ss6OhyAzG8gvv0BNPMQAlDz\n",
       "mP+AzQO6BcV9CAGYvV8ZGFgZWBQYeFHCBSEAU+fEwHCbgUH3zDnUcIYLwNQx3TnzgIx4m4MuwImk\n",
       "DgDaMTWEahh+dwAAAABJRU5ErkJggg==\n",
       "\" style=\"display:inline;vertical-align:middle;\" /></a></td></tr>\n",
       "<tr><td>5</td><td>ExprTuple</td><td>8, 8, 8</td><td><a class=\"ProveItLink\" href=\"../c21a0a21f22a50fe9404b3289ace12ef9be60db90/expr.ipynb\"><img src=\"data:image/png;base64,iVBORw0KGgoAAAANSUhEUgAAADkAAAAVBAMAAAAOWFv7AAAAMFBMVEX////c3NwiIiJERESqqqqY\n",
       "mJh2dnZmZmYQEBDu7u4yMjJUVFTMzMyIiIi6uroAAAAs73DqAAAAAXRSTlMAQObYZgAAAPlJREFU\n",
       "KM9jYMAP+C7gkIgDEacZOHcoQPioDPYDQNZKBgauDVDlqIwFDAy8QIP5HaCCqIwwBgaOCQwM7ydA\n",
       "BVEZMxgYXgGpJJhDUBnMDgxlQGr13a0QQVQGWwHDUqALPzPwHwA7FZXBsoChj4GB5ScDRwJIEI3B\n",
       "18DwD+ixBQz8BSBBNAbPB5AsUwHD+wCQIBoDKNsC9lz9BKgvkRlAk00ZQA5oY+BkQGcwsC5gSGdg\n",
       "4HZg38AwXwGdAfLRI6D795YCA+YjOoOB6wEDhwA0eB4yoDOAIcmaAGUHMKAzciExiF2WExiDDNIQ\n",
       "Ni9MEs7gBtnJiCvl3GFgAACyJ1L0n4kkiAAAAABJRU5ErkJggg==\n",
       "\" style=\"display:inline;vertical-align:middle;\" /></a></td></tr>\n",
       "<tr><td>6</td><td>Literal</td><td></td><td><a class=\"ProveItLink\" href=\"../3e6688136fa3c7aefbebe51301b7c3ebf0b69c440/expr.ipynb\"><img src=\"data:image/png;base64,iVBORw0KGgoAAAANSUhEUgAAAA4AAAAOBAMAAADtZjDiAAAAJFBMVEX///+6urpUVFQQEBAiIiIy\n",
       "MjJmZmaIiIiqqqrc3Nzu7u4AAACgHpL+AAAAAXRSTlMAQObYZgAAAB5JREFUCNdjYGBgWMkAAe2k\n",
       "0Kmhoc6hoUGk6BMHYgAHOwjcado9fwAAAABJRU5ErkJggg==\n",
       "\" style=\"display:inline;vertical-align:middle;\" /></a></td></tr>\n",
       "<tr><td>7</td><td>ExprTuple</td><td>9, 9, 9</td><td><a class=\"ProveItLink\" href=\"../86a607d788a57bb994e75964e5003873eaa726b10/expr.ipynb\"><img src=\"data:image/png;base64,iVBORw0KGgoAAAANSUhEUgAAADkAAAAVBAMAAAAOWFv7AAAAMFBMVEX////c3NwiIiJERESqqqqY\n",
       "mJh2dnZmZmYQEBDu7u4yMjJUVFTMzMyIiIi6uroAAAAs73DqAAAAAXRSTlMAQObYZgAAANZJREFU\n",
       "KM9jYMAP+C7gkIgDEadxaWM/ACRW4jR1AQMD7wWcsmEMDBwTcMrOYGB4hdu9zA4MZUCKM+3uATAf\n",
       "lcFWwLAUyD7xgEsBLIjKYFnA0AdU2MvAHADWgcrga2D4x8DA/QFqERqD5wNIlt8AKojGAMq2MDDI\n",
       "w7yMxgCabApUCbQrgJMBncHAuoAhHWhLAQPbgfkK6AyQjx4BlZbdvckw4yM6g4HrAQOHANSuhwzo\n",
       "DGBIsiZA2QEM6IxcpBjEkOUExiCDNITNC5OEM7hBdjLiiuA7DAwAx3NBG0TfR+4AAAAASUVORK5C\n",
       "YII=\n",
       "\" style=\"display:inline;vertical-align:middle;\" /></a></td></tr>\n",
       "<tr><td>8</td><td>Variable</td><td></td><td><a class=\"ProveItLink\" href=\"../../../../__pv_it/6840a4fa6c106149dc16a131294d0c5e44f1b0480/expr.ipynb\"><img src=\"data:image/png;base64,iVBORw0KGgoAAAANSUhEUgAAAAkAAAAOBAMAAAAPuiubAAAALVBMVEX///9mZmbMzMxERESYmJiI\n",
       "iIh2dna6urqqqqoyMjIiIiIQEBBUVFTu7u4AAAD9S1JeAAAAAXRSTlMAQObYZgAAAE1JREFUCNdj\n",
       "4D29gAEIOA+ASL4GEFl3AURmgQiGOaFHGBh4HzPwKTBwvGXgTmBgnMDAJ8DAJcBQ5wBSLncBJLWN\n",
       "gYGngRFoBO9REQYGAGrcDtUkVqASAAAAAElFTkSuQmCC\n",
       "\" style=\"display:inline;vertical-align:middle;\" /></a></td></tr>\n",
       "<tr><td>9</td><td>Variable</td><td></td><td><a class=\"ProveItLink\" href=\"../../../../__pv_it/cbdfda466482236edba0ce44ac7ef39cda0af7a40/expr.ipynb\"><img src=\"data:image/png;base64,iVBORw0KGgoAAAANSUhEUgAAAAkAAAAJBAMAAAASvxsjAAAALVBMVEX///9mZmbc3NxUVFSYmJhE\n",
       "REQiIiIyMjK6uroQEBDMzMyIiIh2dnbu7u4AAABgFDGoAAAAAXRSTlMAQObYZgAAADZJREFUCNdj\n",
       "YOA9s3sBA8PKBvYEBt7ZDKwODMwPGICALwBE6m0Asx0YGIDiAgw8QJUyu/cyAAAmuwmycZ8WfQAA\n",
       "AABJRU5ErkJggg==\n",
       "\" style=\"display:inline;vertical-align:middle;\" /></a></td></tr>\n",
       "</table>\n"
      ],
      "text/plain": [
       "0. _x_ + (b + b + b) + (c + c + c)\n",
       "   core type: Operation\n",
       "   operator: 6\n",
       "   operands: 1\n",
       "1. (_x_ , b + b + b , c + c + c)\n",
       "   core type: ExprTuple\n",
       "   sub-expressions: 2, 3, 4\n",
       "2. _x_\n",
       "   core type: Variable\n",
       "   sub-expressions: \n",
       "3. b + b + b\n",
       "   core type: Operation\n",
       "   operator: 6\n",
       "   operands: 5\n",
       "4. c + c + c\n",
       "   core type: Operation\n",
       "   operator: 6\n",
       "   operands: 7\n",
       "5. (b , b , b)\n",
       "   core type: ExprTuple\n",
       "   sub-expressions: 8, 8, 8\n",
       "6. +\n",
       "   core type: Literal\n",
       "   sub-expressions: \n",
       "7. (c , c , c)\n",
       "   core type: ExprTuple\n",
       "   sub-expressions: 9, 9, 9\n",
       "8. b\n",
       "   core type: Variable\n",
       "   sub-expressions: \n",
       "9. c\n",
       "   core type: Variable\n",
       "   sub-expressions: "
      ]
     },
     "execution_count": 4,
     "metadata": {},
     "output_type": "execute_result"
    }
   ],
   "source": [
    "# display the expression information\n",
    "expr.exprInfo()"
   ]
  },
  {
   "cell_type": "code",
   "execution_count": null,
   "metadata": {},
   "outputs": [],
   "source": []
  }
 ],
 "metadata": {
  "kernelspec": {
   "display_name": "Python 3",
   "language": "python",
   "name": "python3"
  }
 },
 "nbformat": 4,
 "nbformat_minor": 0
}
