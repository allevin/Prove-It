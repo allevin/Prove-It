{
 "cells": [
  {
   "cell_type": "markdown",
   "metadata": {},
   "source": [
    "Expression of type <a class=\"ProveItLink\" href=\"../../../../../../doc/html/api/proveit.logic.Equals.html\">Equals</a>\n",
    "=======================\n",
    "# from context <a class=\"ProveItLink\" href=\"../../_context_.ipynb\">proveit.number.addition</a>"
   ]
  },
  {
   "cell_type": "code",
   "execution_count": 1,
   "metadata": {},
   "outputs": [],
   "source": [
    "# import Expression classes needed to build the expression\n",
    "from proveit._common_ import a, b, c\n",
    "from proveit.logic import Equals\n",
    "from proveit.number import Add"
   ]
  },
  {
   "cell_type": "code",
   "execution_count": 2,
   "metadata": {},
   "outputs": [
    {
     "data": {
      "text/html": [
       "<strong id=\"expr\">expr:</strong> <a class=\"ProveItLink\" href=\"expr.ipynb\"><img src=\"data:image/png;base64,iVBORw0KGgoAAAANSUhEUgAAAwwAAAAVBAMAAAAZYHSGAAAAMFBMVEX////c3NwiIiJERESqqqqY\n",
       "mJh2dnZmZmYQEBDu7u4yMjJUVFTMzMyIiIi6uroAAAAs73DqAAAAAXRSTlMAQObYZgAAA+tJREFU\n",
       "aN7tmU9IFFEcx3/quuOs6e7dg9LFLoGHOkbSMRL33Ek81CVjIfJgQRnhIUjWS0QeFMGDK4RBUQSS\n",
       "0CXw0J6KqBXpJFK4oBKCRbPjvDfze7/fm3kzTNJGc3CX3775fr+f92/+CPD/+CuO7mpTxm7f/LdQ\n",
       "1pkf7Fd98dVm78U/J5HR0XGbltbT65pomOjoxnANlCXuh9xKgujLCc5JZHR0Ji0tpThFl1OIbgrn\n",
       "oHShhTzjfeYHxYgW1CEugK6yp6pQ3RhGUdbtI+oJPIpR9DgwJPqMTsS0Fx2UjnKwMOR97ohqRt1u\n",
       "SUFWug9UFaobwyjK2r6rnsCjmESPBUOiD+lETHvRQdlmLUYh/jBk+xIMwygkHQY4o56wDekNQwgM\n",
       "ia4dhlFzlHHnb8vq9UmsuFx7gdvbV2prWKDnw1YBVXKrn4tYRTaRFSmjNfKzSKdHY18466sqPY9C\n",
       "BRkLAxiRgkYncEKEwOlRFp3vW4W2OlK0dyGPFd9t5vrwqp2E89hjbgAOkYrfRCaVMlojP4uonJiG\n",
       "Bc76YuO7VXEP91rIojCCtGIAI1PQ6ATOE6FwepRpZ3bsgzWALDIH0DGCFB9CWxEJ9BbhBk4+XIYp\n",
       "pOI3kdGljM4okEXoPq7CWc56S10NLAoVZCwMYGQKGp3AeSIELgTlF0BnHVqryMKah3wp2L6zru5q\n",
       "bwBO48oEwA+k4jcRFV8mxEhkCTix1u/VYWBRqCBvYQCji07gPBECF4LiZM8PwFxj8UxUKqcqlcYN\n",
       "c2sJdoruil944K74/NH08QuwC/YhrvRD9z5S8ZoEKp5MuJGbBTnx1twwUBQqyFoYwPDRCZwvQuBC\n",
       "UO47K6MKw1AODqxzw3unHBy23qoyji0/IVO30cjugXUQnC+BJnKbqipTijMSWXwn3trdlKyT7uH2\n",
       "AItCBVkLAxhtdALniRC4EBRnr5obhNcZdLVxrixTWNEZVbTv2XvQOX8JJT8UO6GnEmgidaWMziiQ\n",
       "Reg6s7Kds76srgYWhQrSigGMn4JGJ3Ci01S4EBTnti9XzPRn8YY6aK3g/bQEWdw5i3ChhK8/z+EW\n",
       "ni9+E6krZXRGgSxC9yXANc6a3LCyKFSQsTCAkSlodAInOk2FC0H52riP3ni7ge9oVm8q15Lx2idc\n",
       "6Kl9O7eJKrMfizi530Te00kZnVEgi9C1xmplzvqpOgwsChVkLAxgZAoancCJuU56UY/SUQh99Izx\n",
       "FB32ADsUWUjjZUYhvafoONETdBpBwW/Ivke+wqfv9GmFqNBKtFGUdZacEIFiFN0AJgGLAUqab4eP\n",
       "83jyZ190HzdKT5Nmf0ZLzYzS0pz/Oexao7XmRfkNh1ly2HTRptYAAAAASUVORK5CYII=\n",
       "\" style=\"display:inline;vertical-align:middle;\" /></a><br>"
      ],
      "text/plain": [
       "expr: (a + b + c + a + b + a + c + b + a + c + a) = (a + a + a + a + b + c + b + c + b + c + a)"
      ]
     },
     "execution_count": 2,
     "metadata": {},
     "output_type": "execute_result"
    }
   ],
   "source": [
    "# build up the expression from sub-expressions\n",
    "expr = Equals(Add(a, b, c, a, b, a, c, b, a, c, a), Add(a, a, a, a, b, c, b, c, b, c, a))"
   ]
  },
  {
   "cell_type": "code",
   "execution_count": 3,
   "metadata": {},
   "outputs": [
    {
     "name": "stdout",
     "output_type": "stream",
     "text": [
      "Passed sanity check: built 'expr' is the same as the stored Expression.\n"
     ]
    }
   ],
   "source": [
    "# check that the built expression is the same as the stored expression\n",
    "%check_expr"
   ]
  },
  {
   "cell_type": "code",
   "execution_count": 4,
   "metadata": {},
   "outputs": [
    {
     "data": {
      "text/html": [
       "<table><tr><th>&nbsp;</th><th>core type</th><th>sub-expressions</th><th>expression</th></tr>\n",
       "<tr><td>0</td><td>Operation</td><td>operator:&nbsp;1<br>operands:&nbsp;2<br></td><td><a class=\"ProveItLink\" href=\"expr.ipynb\"><img src=\"data:image/png;base64,iVBORw0KGgoAAAANSUhEUgAAAwwAAAAVBAMAAAAZYHSGAAAAMFBMVEX////c3NwiIiJERESqqqqY\n",
       "mJh2dnZmZmYQEBDu7u4yMjJUVFTMzMyIiIi6uroAAAAs73DqAAAAAXRSTlMAQObYZgAAA+tJREFU\n",
       "aN7tmU9IFFEcx3/quuOs6e7dg9LFLoGHOkbSMRL33Ek81CVjIfJgQRnhIUjWS0QeFMGDK4RBUQSS\n",
       "0CXw0J6KqBXpJFK4oBKCRbPjvDfze7/fm3kzTNJGc3CX3775fr+f92/+CPD/+CuO7mpTxm7f/LdQ\n",
       "1pkf7Fd98dVm78U/J5HR0XGbltbT65pomOjoxnANlCXuh9xKgujLCc5JZHR0Ji0tpThFl1OIbgrn\n",
       "oHShhTzjfeYHxYgW1CEugK6yp6pQ3RhGUdbtI+oJPIpR9DgwJPqMTsS0Fx2UjnKwMOR97ohqRt1u\n",
       "SUFWug9UFaobwyjK2r6rnsCjmESPBUOiD+lETHvRQdlmLUYh/jBk+xIMwygkHQY4o56wDekNQwgM\n",
       "ia4dhlFzlHHnb8vq9UmsuFx7gdvbV2prWKDnw1YBVXKrn4tYRTaRFSmjNfKzSKdHY18466sqPY9C\n",
       "BRkLAxiRgkYncEKEwOlRFp3vW4W2OlK0dyGPFd9t5vrwqp2E89hjbgAOkYrfRCaVMlojP4uonJiG\n",
       "Bc76YuO7VXEP91rIojCCtGIAI1PQ6ATOE6FwepRpZ3bsgzWALDIH0DGCFB9CWxEJ9BbhBk4+XIYp\n",
       "pOI3kdGljM4okEXoPq7CWc56S10NLAoVZCwMYGQKGp3AeSIELgTlF0BnHVqryMKah3wp2L6zru5q\n",
       "bwBO48oEwA+k4jcRFV8mxEhkCTix1u/VYWBRqCBvYQCji07gPBECF4LiZM8PwFxj8UxUKqcqlcYN\n",
       "c2sJdoruil944K74/NH08QuwC/YhrvRD9z5S8ZoEKp5MuJGbBTnx1twwUBQqyFoYwPDRCZwvQuBC\n",
       "UO47K6MKw1AODqxzw3unHBy23qoyji0/IVO30cjugXUQnC+BJnKbqipTijMSWXwn3trdlKyT7uH2\n",
       "AItCBVkLAxhtdALniRC4EBRnr5obhNcZdLVxrixTWNEZVbTv2XvQOX8JJT8UO6GnEmgidaWMziiQ\n",
       "Reg6s7Kds76srgYWhQrSigGMn4JGJ3Ci01S4EBTnti9XzPRn8YY6aK3g/bQEWdw5i3ChhK8/z+EW\n",
       "ni9+E6krZXRGgSxC9yXANc6a3LCyKFSQsTCAkSlodAInOk2FC0H52riP3ni7ge9oVm8q15Lx2idc\n",
       "6Kl9O7eJKrMfizi530Te00kZnVEgi9C1xmplzvqpOgwsChVkLAxgZAoancCJuU56UY/SUQh99Izx\n",
       "FB32ADsUWUjjZUYhvafoONETdBpBwW/Ivke+wqfv9GmFqNBKtFGUdZacEIFiFN0AJgGLAUqab4eP\n",
       "83jyZ190HzdKT5Nmf0ZLzYzS0pz/Oexao7XmRfkNh1ly2HTRptYAAAAASUVORK5CYII=\n",
       "\" style=\"display:inline;vertical-align:middle;\" /></a></td></tr>\n",
       "<tr><td>1</td><td>Literal</td><td></td><td><a class=\"ProveItLink\" href=\"../../../../logic/equality/__pv_it/2fb26078095930560931daa0500ce419a39ea6cd0/expr.ipynb\"><img src=\"data:image/png;base64,iVBORw0KGgoAAAANSUhEUgAAAA4AAAAFBAMAAACHocAhAAAAFVBMVEX///9EREQiIiJUVFQyMjJm\n",
       "ZmYAAADubVkoAAAAAXRSTlMAQObYZgAAABRJREFUCNdjCHEBAWcGXCBICQQUAUpuAwlgGKrkAAAA\n",
       "AElFTkSuQmCC\n",
       "\" style=\"display:inline;vertical-align:middle;\" /></a></td></tr>\n",
       "<tr><td>2</td><td>ExprTuple</td><td>3, 4</td><td><a class=\"ProveItLink\" href=\"../ad329eda79e8ebeb890bb94fe373bd0430d211bb0/expr.ipynb\"><img src=\"data:image/png;base64,iVBORw0KGgoAAAANSUhEUgAAAukAAAAVBAMAAAAJJW1zAAAAMFBMVEX////c3NwiIiJERESqqqqY\n",
       "mJh2dnZmZmYQEBDu7u4yMjJUVFTMzMyIiIi6uroAAAAs73DqAAAAAXRSTlMAQObYZgAAA8RJREFU\n",
       "WMPtmT9oE1Ecx39tk1wvqcntHdqtLkIXRzE4W5rJUUoHXawExA510Ip0EKzpIoUODYUOXpcOiiIU\n",
       "Cy6CSyZFbEpxKqI02BQpVPFdyb17v/u937u72D8GekNCv/3l+/1+7iUvlwTg7DiNI187Owcnelz3\n",
       "bj5o/mG/HkzutvAw+WPaCjqGI7p79ERcFmtd3DzX/Se72kb1lTYe01bQMRwrRzARl6UKcA5tMHOt\n",
       "+0LRX0AnvKIOcEoz7EJ9EwTFiTYlxFJIdz60GZ9lzoxyDaC3ogojrfsdX02Fd30iSCW/H3ahvgmC\n",
       "4kSbEmIppDsbaqAjLCNmlHmAb1qDcUh+1jODbZz1cfgvzrrszoYa6AhLxFnvKcKkuOtauz2N51fq\n",
       "L/G8faO+jg36P247SMmufSlhFzkiFWnDBgVdZNKziQ0mWpNAWUwK6c6GUjp/grIQWgyXKcOy+GPb\n",
       "6WmgeXsXCnj+/VZ2EL/ipuEybr44DAfIJRiRPaQNGxR08ZW+WVhiojUJhMWokO5sKKGTE5SF0GK4\n",
       "VBVmxQrsgTWMDFL70DumzttPoAc/GQZKcAc3H63ADHIJRmQxacMFKV183/kaXGSiaQJlMSqkOxtK\n",
       "6OQEZSG0GC7/AP4A5BrQXUMGVhUKZXU+1whvUW8BLmBlCuAXcglGfCWwMQT5XZQkLlqbEGIxKqQ7\n",
       "G6qj41gILYbra3hnvTAMi95LY8p1z7uud13aXYYdsUqW6y49dt3Vw5FDYynALtgHWBmC/B5yaY0o\n",
       "SsvGHHTYBSXpo7mEEAuvkO6mUA2dnoXQEjhx1h+J12kNRqGirpK48rxfUVdpoBZatq7fkGrY6NnQ\n",
       "BGtfXXxlRO45tdDzQxfkdwmSuGh9QojFqJDuXKiOjmUhtBhO7DBib1oswpsUeh8Q7wozaL4gFhFt\n",
       "UXYTctWrqNeBv621XJQR6SttuCCli+8rnmJpTXRFm0BZjArpzoUSumCCshBaDJeuwk1xUVRKDWXw\n",
       "zle0VvGOVIYM7rkMV8q46Au4hxc/GJG+0oYLUrr4vq8AbtFo+6c2gbIYFdKdDSV0coKyEFoMJ64c\n",
       "v3pXkZvvNvG1xtrd0Atssv4ZC/3175e2kLLwqYR7BSPyWkracEFKF9/XmqhXaLT91NElUBajQrqz\n",
       "oYROTlAWQovhslvQ6xg/vSX4bJroU2F0UFR03jnCz6ZJeEf+FW5e7E1jqvAj8tt3+nU8VYgLVaKD\n",
       "oqLTiTM1SjReDLqkcBPcN70dcKQ79VcNu+rtkh1avmN/Ast5W2PX2S94J3tsAPwFXcZOxHMWpS0A\n",
       "AAAASUVORK5CYII=\n",
       "\" style=\"display:inline;vertical-align:middle;\" /></a></td></tr>\n",
       "<tr><td>3</td><td>Operation</td><td>operator:&nbsp;6<br>operands:&nbsp;5<br></td><td><a class=\"ProveItLink\" href=\"../bab95727a9575eabd6aee6afba3a9ae6970e66760/expr.ipynb\"><img src=\"data:image/png;base64,iVBORw0KGgoAAAANSUhEUgAAAWoAAAAQBAMAAADNOCjDAAAAMFBMVEX///8yMjKqqqrMzMzu7u4i\n",
       "IiJmZmaYmJhEREQQEBC6urp2dnaIiIhUVFTc3NwAAAD87Fq/AAAAAXRSTlMAQObYZgAAAgdJREFU\n",
       "SMe9lb9Kw1AUxr+GNGhLGzOIU6EgbkIddesLaDsVBId2UhAxj9AHEMTBSRHBSRB0cdElgzhoheoi\n",
       "QsG+QGlpi+3gYKuJzcnpSUwHzxL4OPf3fffm/gFYqW95hK7Vw/BjJjISK1KdYFDqv4y8tWZ/9bRH\n",
       "GK1OXVTaYgvHBBtxzBjuTy3a38usR/gtxZKUWFds4ZhgI44Zw6VjrxE+dTw/QWrZKDB1snZzQsem\n",
       "Kq9UUG8rS3Ro4/G8TpRI7ckUWjhGNBplcTCS9Xl9qkXGqn3olL5yGsnT/XCCfUrPldERWjhGNBpl\n",
       "cTCCdbIHrUzoShfTV4R+jCm6kE0TW5SeyeJIaOEYyciVxcZI1okWohahazPQi24h0fJurndggyol\n",
       "4ENo4RgfIyeLjZGs9TJyw99UMox1wxjeutEiLk23oP/MXzOM2QPDGN6xfagdqhQQ641r4Rh/o+8s\n",
       "I4xk3bSQQdY948EtukuEpuWZcPITSkslS9CG1hVaOMbHyMliYyTrXBrPCjkTgxNyROmDBSGbS20j\n",
       "MTNPUnecLcpbOEYycmWxMZJ1xFQKcbr/0lqVCkXE6fUzh4UiCYkX7EBo4RjJyJXF2deCdbL2sPxA\n",
       "z3pt03NlbVfuaKRG5WzvlCir96bUwjGSkSuLg/GxDnrD/vA2+r28i+GFEC/6RaAQswIV3vIHLhMC\n",
       "uF8uh/IdBFSamgAAAABJRU5ErkJggg==\n",
       "\" style=\"display:inline;vertical-align:middle;\" /></a></td></tr>\n",
       "<tr><td>4</td><td>Operation</td><td>operator:&nbsp;6<br>operands:&nbsp;7<br></td><td><a class=\"ProveItLink\" href=\"../a8abcd9974c8540b247b99474f6da57319c6f7ae0/expr.ipynb\"><img src=\"data:image/png;base64,iVBORw0KGgoAAAANSUhEUgAAAWoAAAAQBAMAAADNOCjDAAAAMFBMVEX///8yMjKqqqrMzMzu7u4i\n",
       "IiJmZmaYmJhEREQQEBC6urp2dnaIiIhUVFTc3NwAAAD87Fq/AAAAAXRSTlMAQObYZgAAAiZJREFU\n",
       "SMetlbFrE1Ecx7+5Xs+a0KQ3FKdCQNwKzahbVpGaTAXBIZ0URLw/IZuLIA4uKqXgVChUkC61w4Hi\n",
       "UE+IDpZCoPkHSkMSbAcHU3zv7r7v965JbN744ZPv9/fevdwB01qrr0cZ7lH9ysbU19JII9e6uiHW\n",
       "fbn3zgSkl6no4FI5q0kYIkSmqrUsiBOOT/KDTEUH71SzmoQhQmTqVKYu1EdOvYtRU+9izKmL7b0N\n",
       "/mlCtCoJTr5tdYjk2t8DVu7tf+bgpeiQgfspqtgNHRIbRvFWZ67LWQnRqiT5DbxkUmuiT2DmDRYp\n",
       "2D1HiYe8s5mr2w0dEhtcXDyD16TwFFGqJDgN8JjJShVvCdwN8ZyCnQGuf6Ah32EusBsqJDG4eL6L\n",
       "2ZDCU0SpkuAYeMhkHfhtKnxrvQWUGkZTlpE0w1ZcaqJ28VDWff+B71+8czXxfH/xle+3bATncPtM\n",
       "1pA/M5R/u4mDZxvYCYwmq0HNsBWfhlhBNb3hFFEblKT4B07XpUPowRsYinGSw5fxM7Mpy0ia+axV\n",
       "ca2MHw79R1JEqZK4Pcwv3KSp+8aVxPDkr/FMFXXzYzA818BuqJDE4OJc4KwVKCtFlCoJbuBWg4f8\n",
       "iaes/AI+8h+m7LUYNFCo2A19r2ODi4vtg9sH/A5JiH4sguAkev9ik8jq14AVbz+q8puv/cj4qDyJ\n",
       "vmQYOiQ2ZPFUvo2XKMuTg/G/6NuC5MP/IFLZnhxcnvoXSZf5JeTedWkAAAAASUVORK5CYII=\n",
       "\" style=\"display:inline;vertical-align:middle;\" /></a></td></tr>\n",
       "<tr><td>5</td><td>ExprTuple</td><td>10, 8, 9, 10, 8, 10, 9, 8, 10, 9, 10</td><td><a class=\"ProveItLink\" href=\"../98c02e530816a511bab2e4a805a7e6d438df201a0/expr.ipynb\"><img src=\"data:image/png;base64,iVBORw0KGgoAAAANSUhEUgAAANUAAAAVBAMAAAAjhrYEAAAAMFBMVEX////c3NwiIiJERESqqqqY\n",
       "mJh2dnZmZmYQEBDu7u4yMjJUVFTMzMyIiIi6uroAAAAs73DqAAAAAXRSTlMAQObYZgAAAlVJREFU\n",
       "SMe9Vj9oE1Ec/tJccnm5Jpe9Q7t1KmRxFIOz0JscJTjoYuRA7KCDVqSb9SYpOOQQOpQuHZQWIRhw\n",
       "EVwyKaJXUqciQqNpkUIU3597790fvMtiMly++74v34/3u997F2CWn/pgJmWuscv7KPP80b/dWRo5\n",
       "WMqpZfbpZSdG7WbYs7TqXt7CfKAWb+FphjtLs1t5ta4CFS/28M4zHmyGhhMvr9YW8C1GlDPanqXh\n",
       "eu5wFFtYo1+F3u31sO29z45AzzpfBFj4cNxIaIrSrt3glQA6i9wI+hGq7GKb3hw3iiOhd5uYcDC/\n",
       "iReic+u4lNA0pVxkDFsE66x3w+pShDJ8bNK6ZzCbQl/1sCG6O8AFDhYd3ElomlIu4xyVNl+DyiJP\n",
       "UHQiVP0h/gDWCHPhNN4DfnHwRraZgpW0toK4y/RhuwzoLCtcnqTmR6yW3URXNADLqJ9xMJYpY5BJ\n",
       "SpOUcs25OOGL0Fl2U24HQdFaj2lPBliFF24hk0924XdopMAYkaQWUsrFttcDnqCzFuXGDSnaQ9rv\n",
       "bguvjT7/9YS1nVnpCkoMkFNY/hVOSS1CSRcbjA2wBJ1l03U6mkLJx006zI6xXEaXDc1L3Af5ScE+\n",
       "cIuDbVx22xwpTVPKZbXMPZ6gsywX5b6m2Mx/ZfN/+PYQWz/Y+frRAXlKN4/ZCTwOFoLvF4ccKU1T\n",
       "ykV6d8ETIllrwacIheoQlYbs+ZE6jBpJMCWlEjQ6ip5Rpba8cSQopcCUlJNGmupE3yn/txbx2eEW\n",
       "3tSUcZAC01E6oZamLNbpwmz+A9Az+i+iVOAdG9M4OgAAAABJRU5ErkJggg==\n",
       "\" style=\"display:inline;vertical-align:middle;\" /></a></td></tr>\n",
       "<tr><td>6</td><td>Literal</td><td></td><td><a class=\"ProveItLink\" href=\"../3e6688136fa3c7aefbebe51301b7c3ebf0b69c440/expr.ipynb\"><img src=\"data:image/png;base64,iVBORw0KGgoAAAANSUhEUgAAAA4AAAAOBAMAAADtZjDiAAAAJFBMVEX///+6urpUVFQQEBAiIiIy\n",
       "MjJmZmaIiIiqqqrc3Nzu7u4AAACgHpL+AAAAAXRSTlMAQObYZgAAAB5JREFUCNdjYGBgWMkAAe2k\n",
       "0Kmhoc6hoUGk6BMHYgAHOwjcado9fwAAAABJRU5ErkJggg==\n",
       "\" style=\"display:inline;vertical-align:middle;\" /></a></td></tr>\n",
       "<tr><td>7</td><td>ExprTuple</td><td>10, 10, 10, 10, 8, 9, 8, 9, 8, 9, 10</td><td><a class=\"ProveItLink\" href=\"../706c317608e9c65e7562a132da234624baaf494a0/expr.ipynb\"><img src=\"data:image/png;base64,iVBORw0KGgoAAAANSUhEUgAAANUAAAAVBAMAAAAjhrYEAAAAMFBMVEX////c3NwiIiJERESqqqqY\n",
       "mJh2dnZmZmYQEBDu7u4yMjJUVFTMzMyIiIi6uroAAAAs73DqAAAAAXRSTlMAQObYZgAAAjFJREFU\n",
       "SMe9ljFIG1EYx/8xl1xezuRu71A3p0IWx9LgLHhTRwkO7dKUg1KHdmgVcatmEsEhR8FBXBwqihB6\n",
       "0KXQJVNLaU/STlIKXqsiAZW+d+9d4ov3LsnQZLj83498/y/f9773EmCUr2JzJGnm2OPT4J/fXOpP\n",
       "yMFEbKzu0cf2EF9uZwCS342PdYHCMC08G4CY5fjYh0CuNsTWtvsTnCgMN4BfQ5SVnehPMK8ITpex\n",
       "QN9SjaeLgtz5fGwpVb7xzeZovfq9h5BHvsd30N/rIdw+62CLLo6tdCB6sogHalUv4TIU46t4KxN8\n",
       "bOXDGskpTE8iwl5zsUrznkMv8Yi7Np6p1WwNK7z3TUzJhLxBOqxQayNXkYiwL77GNWAEGBPT+B64\n",
       "p1YvgIsI9RAjiM6RC9ORiLAfD1gus4Q6LxunIJdqNYniuUDoIaZoDMYcnNgSEfY01zJtUhOzCCc1\n",
       "dQUtICpFD5PeFqhzvDhhHp3j9aomEWFPe0j7Xi/jUPOYHTmD4c6wvHGKjgHdCiZoLRmZmLQWm1nQ\n",
       "wVgBuUm4PTIuHtPBtbXJLOpsaLYw7VTIX4V6h5cIxT7wRCaGg6zHLIyyvht6dQi3ZzP/k83/0Ycj\n",
       "bPxhR8n/fb9F1qx4tfnFRij0ql+TCRb8r6EFaTwH94oIt0e+hZwV9f5H9+axElSC6FrcFuyOylSi\n",
       "hd3BmSSVILoWtwWqN39T/m8u4rItEotC95psJqkEUVALGKzRqdH8B6B39T9X197E1YlhjgAAAABJ\n",
       "RU5ErkJggg==\n",
       "\" style=\"display:inline;vertical-align:middle;\" /></a></td></tr>\n",
       "<tr><td>8</td><td>Variable</td><td></td><td><a class=\"ProveItLink\" href=\"../../../../__pv_it/6840a4fa6c106149dc16a131294d0c5e44f1b0480/expr.ipynb\"><img src=\"data:image/png;base64,iVBORw0KGgoAAAANSUhEUgAAAAkAAAAOBAMAAAAPuiubAAAALVBMVEX///9mZmbMzMxERESYmJiI\n",
       "iIh2dna6urqqqqoyMjIiIiIQEBBUVFTu7u4AAAD9S1JeAAAAAXRSTlMAQObYZgAAAE1JREFUCNdj\n",
       "4D29gAEIOA+ASL4GEFl3AURmgQiGOaFHGBh4HzPwKTBwvGXgTmBgnMDAJ8DAJcBQ5wBSLncBJLWN\n",
       "gYGngRFoBO9REQYGAGrcDtUkVqASAAAAAElFTkSuQmCC\n",
       "\" style=\"display:inline;vertical-align:middle;\" /></a></td></tr>\n",
       "<tr><td>9</td><td>Variable</td><td></td><td><a class=\"ProveItLink\" href=\"../../../../__pv_it/cbdfda466482236edba0ce44ac7ef39cda0af7a40/expr.ipynb\"><img src=\"data:image/png;base64,iVBORw0KGgoAAAANSUhEUgAAAAkAAAAJBAMAAAASvxsjAAAALVBMVEX///9mZmbc3NxUVFSYmJhE\n",
       "REQiIiIyMjK6uroQEBDMzMyIiIh2dnbu7u4AAABgFDGoAAAAAXRSTlMAQObYZgAAADZJREFUCNdj\n",
       "YOA9s3sBA8PKBvYEBt7ZDKwODMwPGICALwBE6m0Asx0YGIDiAgw8QJUyu/cyAAAmuwmycZ8WfQAA\n",
       "AABJRU5ErkJggg==\n",
       "\" style=\"display:inline;vertical-align:middle;\" /></a></td></tr>\n",
       "<tr><td>10</td><td>Variable</td><td></td><td><a class=\"ProveItLink\" href=\"../../../../__pv_it/07527342713064c87612d00d8557c53d53d5324a0/expr.ipynb\"><img src=\"data:image/png;base64,iVBORw0KGgoAAAANSUhEUgAAAAsAAAAJBAMAAAAWSsseAAAAMFBMVEX///8yMjKqqqrMzMzu7u4i\n",
       "IiJmZmaYmJhEREQQEBC6urp2dnaIiIhUVFTc3NwAAAD87Fq/AAAAAXRSTlMAQObYZgAAAEhJREFU\n",
       "CNdjYOC7s2seAwPDygccHxgY+L4zsDUwMPB+YGA9wMDA38Dgb8DA8P4Agz6DA4O/AsNFJgMGxgKm\n",
       "MG6gyjunLE4xAAAZTBA5TB6DCwAAAABJRU5ErkJggg==\n",
       "\" style=\"display:inline;vertical-align:middle;\" /></a></td></tr>\n",
       "</table>\n"
      ],
      "text/plain": [
       "0. (a + b + c + a + b + a + c + b + a + c + a) = (a + a + a + a + b + c + b + c + b + c + a)\n",
       "   core type: Operation\n",
       "   operator: 1\n",
       "   operands: 2\n",
       "1. =\n",
       "   core type: Literal\n",
       "   sub-expressions: \n",
       "2. (a + b + c + a + b + a + c + b + a + c + a , a + a + a + a + b + c + b + c + b + c + a)\n",
       "   core type: ExprTuple\n",
       "   sub-expressions: 3, 4\n",
       "3. a + b + c + a + b + a + c + b + a + c + a\n",
       "   core type: Operation\n",
       "   operator: 6\n",
       "   operands: 5\n",
       "4. a + a + a + a + b + c + b + c + b + c + a\n",
       "   core type: Operation\n",
       "   operator: 6\n",
       "   operands: 7\n",
       "5. (a , b , c , a , b , a , c , b , a , c , a)\n",
       "   core type: ExprTuple\n",
       "   sub-expressions: 10, 8, 9, 10, 8, 10, 9, 8, 10, 9, 10\n",
       "6. +\n",
       "   core type: Literal\n",
       "   sub-expressions: \n",
       "7. (a , a , a , a , b , c , b , c , b , c , a)\n",
       "   core type: ExprTuple\n",
       "   sub-expressions: 10, 10, 10, 10, 8, 9, 8, 9, 8, 9, 10\n",
       "8. b\n",
       "   core type: Variable\n",
       "   sub-expressions: \n",
       "9. c\n",
       "   core type: Variable\n",
       "   sub-expressions: \n",
       "10. a\n",
       "    core type: Variable\n",
       "    sub-expressions: "
      ]
     },
     "execution_count": 4,
     "metadata": {},
     "output_type": "execute_result"
    }
   ],
   "source": [
    "# display the expression information\n",
    "expr.exprInfo()"
   ]
  },
  {
   "cell_type": "code",
   "execution_count": null,
   "metadata": {},
   "outputs": [],
   "source": []
  }
 ],
 "metadata": {
  "kernelspec": {
   "display_name": "Python 3",
   "language": "python",
   "name": "python3"
  }
 },
 "nbformat": 4,
 "nbformat_minor": 0
}
