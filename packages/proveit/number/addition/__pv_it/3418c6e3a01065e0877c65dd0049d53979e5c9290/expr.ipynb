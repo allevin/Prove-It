{
 "cells": [
  {
   "cell_type": "markdown",
   "metadata": {},
   "source": [
    "Expression of type <a class=\"ProveItLink\" href=\"../../../../../../doc/html/api/proveit.ExprTuple.html\">ExprTuple</a>\n",
    "=======================\n",
    "# from context <a class=\"ProveItLink\" href=\"../../_context_.ipynb\">proveit.number.addition</a>"
   ]
  },
  {
   "cell_type": "code",
   "execution_count": 1,
   "metadata": {},
   "outputs": [],
   "source": [
    "# import Expression classes needed to build the expression\n",
    "from proveit import ExprTuple\n",
    "from proveit.number import NaturalsPos, Reals"
   ]
  },
  {
   "cell_type": "code",
   "execution_count": 2,
   "metadata": {},
   "outputs": [
    {
     "data": {
      "text/html": [
       "<strong id=\"expr\">expr:</strong> <a class=\"ProveItLink\" href=\"expr.ipynb\"><img src=\"data:image/png;base64,iVBORw0KGgoAAAANSUhEUgAAAEIAAAAbBAMAAAA6+0TkAAAAMFBMVEX///+qqqp2dnYiIiJERESI\n",
       "iIhmZmYQEBDc3NyYmJgyMjLu7u5UVFTMzMy6uroAAACGxKilAAAAAXRSTlMAQObYZgAAAW1JREFU\n",
       "KM+N0z1Iw0AUB/B/a42NSWpmp46OBUFEEOKm4kdARASHgqMgnZ06SAVxqODUqYMopAWzKV1a0EWh\n",
       "EqRjQEEQEfzCggWp+C6JNU308ME97pHf5ZJ3CeCPCH6Np59pLHgtyZJS4wibpYrJEb06pXNwBEaB\n",
       "eAaV5rSJ1TfVJwrNeWODrV8BhDQwpWjACy6MQ8PQXaLtoDGYBaom+m6AU2sRyHTtouUQO6F1PXlc\n",
       "U3lZkq2wiFokBA1LVNZtqfSHEGlzJiJ6IyxktkviAzNMYF3UmZD94rZAT6q0ceAI2axnuvqgbQ2P\n",
       "0esj/okRR0i1SkDk7mKs2dKrJ3ClBIXwWHPvUXaFqGoBgdIyE22cuQJDHSF5wqYmIdHCApVzNITi\n",
       "t6imvH6ok04/noGHd1ovdcRxyzm5WewfqYgWMWCFTvzeN+/XISdDIu+bV7NQUlyxR2Mi9OX5i3Ea\n",
       "2+CEmGb/SJIjNp28yxFr+Ed8Ae1PZxkLk8n7AAAAAElFTkSuQmCC\n",
       "\" style=\"display:inline;vertical-align:middle;\" /></a><br>"
      ],
      "text/plain": [
       "expr: (NaturalsPos , Reals)"
      ]
     },
     "execution_count": 2,
     "metadata": {},
     "output_type": "execute_result"
    }
   ],
   "source": [
    "# build up the expression from sub-expressions\n",
    "expr = ExprTuple(NaturalsPos, Reals)"
   ]
  },
  {
   "cell_type": "code",
   "execution_count": 3,
   "metadata": {},
   "outputs": [
    {
     "name": "stdout",
     "output_type": "stream",
     "text": [
      "Passed sanity check: built 'expr' is the same as the stored Expression.\n"
     ]
    }
   ],
   "source": [
    "# check that the built expression is the same as the stored expression\n",
    "%check_expr"
   ]
  },
  {
   "cell_type": "code",
   "execution_count": 4,
   "metadata": {},
   "outputs": [
    {
     "data": {
      "text/html": [
       "<table><tr><th>&nbsp;</th><th>core type</th><th>sub-expressions</th><th>expression</th></tr>\n",
       "<tr><td>0</td><td>ExprTuple</td><td>1, 2</td><td><a class=\"ProveItLink\" href=\"expr.ipynb\"><img src=\"data:image/png;base64,iVBORw0KGgoAAAANSUhEUgAAAEIAAAAbBAMAAAA6+0TkAAAAMFBMVEX///+qqqp2dnYiIiJERESI\n",
       "iIhmZmYQEBDc3NyYmJgyMjLu7u5UVFTMzMy6uroAAACGxKilAAAAAXRSTlMAQObYZgAAAW1JREFU\n",
       "KM+N0z1Iw0AUB/B/a42NSWpmp46OBUFEEOKm4kdARASHgqMgnZ06SAVxqODUqYMopAWzKV1a0EWh\n",
       "EqRjQEEQEfzCggWp+C6JNU308ME97pHf5ZJ3CeCPCH6Np59pLHgtyZJS4wibpYrJEb06pXNwBEaB\n",
       "eAaV5rSJ1TfVJwrNeWODrV8BhDQwpWjACy6MQ8PQXaLtoDGYBaom+m6AU2sRyHTtouUQO6F1PXlc\n",
       "U3lZkq2wiFokBA1LVNZtqfSHEGlzJiJ6IyxktkviAzNMYF3UmZD94rZAT6q0ceAI2axnuvqgbQ2P\n",
       "0esj/okRR0i1SkDk7mKs2dKrJ3ClBIXwWHPvUXaFqGoBgdIyE22cuQJDHSF5wqYmIdHCApVzNITi\n",
       "t6imvH6ok04/noGHd1ovdcRxyzm5WewfqYgWMWCFTvzeN+/XISdDIu+bV7NQUlyxR2Mi9OX5i3Ea\n",
       "2+CEmGb/SJIjNp28yxFr+Ed8Ae1PZxkLk8n7AAAAAElFTkSuQmCC\n",
       "\" style=\"display:inline;vertical-align:middle;\" /></a></td></tr>\n",
       "<tr><td>1</td><td>Literal</td><td></td><td><a class=\"ProveItLink\" href=\"../../../sets/integer/__pv_it/42d4bc2e45d5054d807f2641a228c1b440fb8de30/expr.ipynb\"><img src=\"data:image/png;base64,iVBORw0KGgoAAAANSUhEUgAAABsAAAATBAMAAACTqWsLAAAAMFBMVEX////c3Nx2dna6uroQEBCI\n",
       "iIhUVFTMzMyYmJiqqqoiIiJmZmZEREQyMjLu7u4AAADjlg78AAAAAXRSTlMAQObYZgAAAHZJREFU\n",
       "GNNjYIADTgYUwEMy9+2fsw8Ydv2aAJM9wX6AgeEDQ+7dK3fvBjAwZBWEMjA4wPUm32MrQOKml/Hd\n",
       "Q+ZyBtQgcxk2cwSAuGxQLtuDdAe47ekMfAlvkbkMRewoXI4JB5C5DIoI7mEg5r4A49l+AcrwwbgA\n",
       "axoiJO4Xc9gAAAAASUVORK5CYII=\n",
       "\" style=\"display:inline;vertical-align:middle;\" /></a></td></tr>\n",
       "<tr><td>2</td><td>Literal</td><td></td><td><a class=\"ProveItLink\" href=\"../../../sets/real/__pv_it/9e7645ee1117062e179dd6264898f99ed95b157c0/expr.ipynb\"><img src=\"data:image/png;base64,iVBORw0KGgoAAAANSUhEUgAAAA8AAAAOBAMAAAACpFvcAAAAMFBMVEX///8iIiK6urp2dnbu7u5m\n",
       "ZmaqqqrMzMxUVFTc3NyIiIgQEBBEREQyMjKYmJgAAAA9nvXMAAAAAXRSTlMAQObYZgAAAFJJREFU\n",
       "CNdjePvn/N29CxiA4MAMhprcCSDGVAYezwMQBnMBOoMDJqX4Fqx4tqBsAlj7VFUeBwiDVb0BwmC4\n",
       "sg7KqOAogJqTcJKBAWjpcYY79xMAyqEnfsw4ApEAAAAASUVORK5CYII=\n",
       "\" style=\"display:inline;vertical-align:middle;\" /></a></td></tr>\n",
       "</table>\n"
      ],
      "text/plain": [
       "0. (NaturalsPos , Reals)\n",
       "   core type: ExprTuple\n",
       "   sub-expressions: 1, 2\n",
       "1. NaturalsPos\n",
       "   core type: Literal\n",
       "   sub-expressions: \n",
       "2. Reals\n",
       "   core type: Literal\n",
       "   sub-expressions: "
      ]
     },
     "execution_count": 4,
     "metadata": {},
     "output_type": "execute_result"
    }
   ],
   "source": [
    "# display the expression information\n",
    "expr.exprInfo()"
   ]
  },
  {
   "cell_type": "code",
   "execution_count": null,
   "metadata": {},
   "outputs": [],
   "source": []
  }
 ],
 "metadata": {
  "kernelspec": {
   "display_name": "Python 3",
   "language": "python",
   "name": "python3"
  }
 },
 "nbformat": 4,
 "nbformat_minor": 0
}
