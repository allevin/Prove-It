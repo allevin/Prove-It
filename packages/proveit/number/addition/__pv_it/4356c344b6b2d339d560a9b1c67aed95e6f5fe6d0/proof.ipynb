{
 "cells": [
  {
   "cell_type": "markdown",
   "metadata": {},
   "source": [
    "Show the Proof\n",
    "========"
   ]
  },
  {
   "cell_type": "code",
   "execution_count": 1,
   "metadata": {},
   "outputs": [
    {
     "data": {
      "text/html": [
       "<table><tr><th>&nbsp;</th><th>step type</th><th>requirements</th><th>statement</th></tr>\n",
       "<tr><td>0</td><td>specialization</td><td>1, 2</td><td><span style=\"font-size:20px;\"><a class=\"ProveItLink\" href=\"../2ed65abcffc5879dd1f5a1d151772f6c07314f3e0/expr.ipynb\"><img src=\"data:image/png;base64,iVBORw0KGgoAAAANSUhEUgAAAHUAAAAaBAMAAAB7iA4AAAAAMFBMVEX///+6urp2dnaqqqoiIiIQ\n",
       "EBBERETu7u6IiIjc3NwyMjJUVFSYmJhmZmbMzMwAAAD0pS5FAAAAAXRSTlMAQObYZgAAAZVJREFU\n",
       "OMtjYGDgu8NAMmC+CKF3TSBdL8O0BBDJ8Z2BHBALIrgXgEjGBhQZHgFCerMQel8jCbMVMDDcQ1N6\n",
       "6lv+qihk83ch9C5HiLLnA/VyoduTMJvhmdUEBrM0IChA0cuBMJJ9936gHI8Cut65DGyVCdjsZS1A\n",
       "UtYP5LAHQE3qcnFZANXL9ACrXikGNL0MyRD2q+MIezH1soEELmHo1QUzOdOR3MyN4WZWkFfXYOi1\n",
       "ggT5BCS9IqeQUtF5oCLO1SBWIIZeUTCzDBFWU128DJAU8a5kYDjyAMT6CDRkiQsICED1vgerEAUJ\n",
       "QcNKlg05QBmmNDAwe0D1otkL0fsaKY545TYgpzxnIFF/AEgE43BzCXL8Lu9BUmQ/ARbOORh6T4GZ\n",
       "3AeQ9L7mfoAtfnVxxBG7I5JeJoNMbHpFkLTejV8LtG0hhDPrHjwv5DEsW2+ALU2i539YmmSwXgIJ\n",
       "Z3SA0IuR9JkaCORf7HkQDKoYiNc7G01qJ1F6mcA+40R1I8cDQnq9waGympyijtcdkrr2kFE+5zBQ\n",
       "BgBr7HgqQ1Fo7wAAAABJRU5ErkJggg==\n",
       "\" style=\"display:inline;vertical-align:middle;\" /></a> <a class=\"ProveItLink\" href=\"proof.ipynb\" style=\"text-decoration: none\">&#x22A2;&nbsp;</a><a class=\"ProveItLink\" href=\"../3f104d9f03c6d22aa5b31e4ca31ffc79eb6c05a00/expr.ipynb\"><img src=\"data:image/png;base64,iVBORw0KGgoAAAANSUhEUgAAAHcAAAAZBAMAAAD56ayTAAAAMFBMVEX////c3NwiIiJERESqqqqY\n",
       "mJh2dnZmZmYQEBDu7u4yMjJUVFTMzMyIiIi6uroAAAAs73DqAAAAAXRSTlMAQObYZgAAAaZJREFU\n",
       "OMtjYCAX8BgwkK+3WoF8zQwsA6uZ7wKqYByGMnQVDKwPYJpPIwtbMjCwH0DXfJoh6rP9qi4kI2pg\n",
       "mlciKZv8E0gsQNcMVGEgzXDYS4DB2RgIJjAwcEE18yIZOHs3SHMYml6QCgNxBuaJiIhlTYBo5piA\n",
       "rA6keQaEzXlLSQnsCJAKoGa2AwjNnA0Qza8Y0DUzO4DZpyKhgiAVaJoZTBgYs75fYCjD0MxWAGIy\n",
       "WsIEyyCauZGczZAOoZZiaGYBO5ZZACa4FKL5UZQAQqEXhOrD0MzXAA54uCBIhYGEkpYDksIXEOof\n",
       "EEspgYAeVDPPB7A0SGgBTIWB+HNm5JA9j9CMajNEMyLtQDSzv9mAqbkFh7MnwQVbIH5eeRXT2aYY\n",
       "mlnBjuUOgAmaQjSf5kZKt1EogY4RVZx6yNECimcHQ4yoeoSkl73iVykw4T4Ac6RqGOAqgBnDhmHx\n",
       "ekR4r4NQHALo+QCaPBm8F0GTJ4YKcPKEpXFUkIueezFUMLBdQGQ4VFOxZUk0MAvGkEaT4MZwpTSG\n",
       "5o0wBiNaIXMHQym6CgZeaKQBAPycaKOaQzcYAAAAAElFTkSuQmCC\n",
       "\" style=\"display:inline;vertical-align:middle;\" /></a></span></td></tr>\n",
       "<tr><td>&nbsp;</td><td colspan=4 style=\"text-align:left\"><span style=\"font-size:20px;\"><a class=\"ProveItLink\" href=\"../../../../__pv_it/abeee18594afe51bfb1be95d9591fbba24ac53f30/expr.ipynb\"><img src=\"data:image/png;base64,iVBORw0KGgoAAAANSUhEUgAAAA0AAAAOBAMAAAAGUYvhAAAAMFBMVEX///8iIiIQEBCIiIjMzMzc\n",
       "3Nyqqqp2dnZEREQyMjK6urru7u5mZmZUVFSYmJgAAACI6eGPAAAAAXRSTlMAQObYZgAAAF1JREFU\n",
       "CNdjYGDgu3Nm3wIGBoZ5DNz9QIq3gIEhE0jHOzAwOAPp9QkMDC4g/megABAw///fCmbEXfq0Acxg\n",
       "qH8ANAVI7wfSe0BKAyBGnAXigwYMzA1A+sLau31ACgAz0hhbkhGHbwAAAABJRU5ErkJggg==\n",
       "\" style=\"display:inline;vertical-align:middle;\" /></a> : <a class=\"ProveItLink\" href=\"../../../sets/real/__pv_it/ae6abf015b290ff2a5b5ccb58f19177a82c6074b0/expr.ipynb\"><img src=\"data:image/png;base64,iVBORw0KGgoAAAANSUhEUgAAABsAAAAOBAMAAAAs4XpOAAAAMFBMVEX///8iIiK6urp2dnbu7u5m\n",
       "ZmaqqqrMzMxUVFTc3NyIiIgQEBBEREQyMjKYmJgAAAA9nvXMAAAAAXRSTlMAQObYZgAAAF1JREFU\n",
       "CNdjePvn/N29Cxjg4MAMhprcCQw5Z4DAAcidysDjeQAhO5WBuQAflwNVseLbCQjubEHZBCSLpqry\n",
       "OCBzWdUbkLkMV9ahcCs4ClDsTTgJ4wG9cJzhzn2o2QB/7ytaZzHgkAAAAABJRU5ErkJggg==\n",
       "\" style=\"display:inline;vertical-align:middle;\" /></a>, <a class=\"ProveItLink\" href=\"../../../../__pv_it/07527342713064c87612d00d8557c53d53d5324a0/expr.ipynb\"><img src=\"data:image/png;base64,iVBORw0KGgoAAAANSUhEUgAAAAsAAAAJBAMAAAAWSsseAAAAMFBMVEX///8yMjKqqqrMzMzu7u4i\n",
       "IiJmZmaYmJhEREQQEBC6urp2dnaIiIhUVFTc3NwAAAD87Fq/AAAAAXRSTlMAQObYZgAAAEhJREFU\n",
       "CNdjYOC7s2seAwPDygccHxgY+L4zsDUwMPB+YGA9wMDA38Dgb8DA8P4Agz6DA4O/AsNFJgMGxgKm\n",
       "MG6gyjunLE4xAAAZTBA5TB6DCwAAAABJRU5ErkJggg==\n",
       "\" style=\"display:inline;vertical-align:middle;\" /></a> : <a class=\"ProveItLink\" href=\"../27bb768acc4707a63c4de5a0b22e13dfe76b5c980/expr.ipynb\"><img src=\"data:image/png;base64,iVBORw0KGgoAAAANSUhEUgAAABgAAAAPBAMAAAAMihLoAAAAJ1BMVEX///+YmJgQEBBmZmaIiIhU\n",
       "VFTu7u5ERES6uroiIiIyMjLc3NwAAAAKCT4sAAAAAXRSTlMAQObYZgAAACpJREFUCNdjYICDMgST\n",
       "If0Ygp0aisRhYCGTs2smCMwg3wAYYDY6ZciADABBShCHMIgXsAAAAABJRU5ErkJggg==\n",
       "\" style=\"display:inline;vertical-align:middle;\" /></a></span></td></tr><tr><td>1</td><td>theorem</td><td></td><td><span style=\"font-size:20px;\"> <a class=\"ProveItLink\" href=\"../../../../logic/set_theory/membership/_proofs_/exp_set_1.ipynb\" style=\"text-decoration: none\">&#x22A2;&nbsp;</a><a class=\"ProveItLink\" href=\"../2fc389a433bb83a671e140a8140fb192c963fabe0/expr.ipynb\"><img src=\"data:image/png;base64,iVBORw0KGgoAAAANSUhEUgAAAMQAAAAcBAMAAADM5Q0aAAAAMFBMVEX///8QEBC6urrMzMxUVFRm\n",
       "ZmZERETc3NwyMjKqqqp2dnaIiIiYmJgiIiLu7u4AAAAU9Wx4AAAAAXRSTlMAQObYZgAAAyBJREFU\n",
       "SMe1lk1oE0EUx1/ztfnY3RYvogdNQdCLdA9WRCwtKiL1EtEoqEhQSC9VVqjWi5i7WnLQixdFEKte\n",
       "QosiKhhKvVioQRShurCC9KYJFluE0vrezO7OdLNsQqEPsuy8/0x+M+/NvFmAjbFoATbYoidrofol\n",
       "ywzVI9nWjBQi0tTXmguSay2G74H2ENEBehtZB0IfaxMBbzjCDkLYYaNjVQpAhTemwhCayRBsyjM+\n",
       "RIBT2BU5WHGjSZ/On5/iiMwAQzwl75gPEeAUll8jlvxysgrzDY7QVxjiGj6Vgg8R4BS2ieZXcVsf\n",
       "/PIgRqnEEfCdIZIY93jZhwhwii3fwEeHl60fzh54ZVlsQcoCdqk4iFMMoT4ZHb3hT3eA07NMFz52\n",
       "ec0En8m+WffQ/EOEoYz/pXV+5Jt2sVica9q0zU6xoWiyZ2i+xx5txvOVY3O/7MrK6qTo22MzxCGA\n",
       "IWz1PntrCITjFCbkBG2T2/jrNhMNFndyinrwbnXRa/QbDLEDdOwVyUGPtArulGqGkJM5nnJlGeK4\n",
       "IyIUN5gXXZXp7dvc95tZhtAgU6UnJCQEd/JEvshXZVkjxB8MWAO0ipN96LYsJ91o6WX3n+plhshU\n",
       "NYxY3QZVQnAns5c7f9uy7CI6C1A3XIQoWzgzfdm3Cr1EurY1K6ebO6++vggqS6ckJykXW3B4BR5g\n",
       "peGB+uUVMOyuLHkIngsYOkjS8dWyXAbJqX9VViDJRwo5RkdymAXhaMoAteTVLVabsBkf8HaUyRH3\n",
       "eGUd6ZIR5IzlojXY7zg9OUPyYyoUqS9pd9Pqn9ya9Q1D68XDORfQgUnTs6A3ZAQ5O7NYx/qKxWJF\n",
       "liP0spuOxcTeCSTxCF4/4awxcvhI1UOMOwgVE5sqS7dtzXHW7cSs+ZMtX5YXaAamr4DA3TtWU0WE\n",
       "W9KVhDtcnB73Suqw+w/YMdMvD9IMHrqt52GX15KM6M2fbrr1ImdnzoF+wS/3ycVcL4Ug1EJ7F2sa\n",
       "c7HGwQqfOzAW9iWhGeu8uxWauOJgJ8N6vl/v5wHcb/Njil9qgQirxXeUWm4PEbfpO+ozbLz9ByvB\n",
       "6Gh44qK9AAAAAElFTkSuQmCC\n",
       "\" style=\"display:inline;vertical-align:middle;\" /></a></span></td></tr>\n",
       "<tr><td>&nbsp;</td><td colspan=4 style-\"text-align:left\"><a class=\"ProveItLink\" href=\"../../../../logic/set_theory/membership/_proofs_/exp_set_1.ipynb\">proveit.logic.set_theory.membership.exp_set_1</a></td></tr><tr><td>2</td><td>assumption</td><td></td><td><span style=\"font-size:20px;\"><a class=\"ProveItLink\" href=\"../2ed65abcffc5879dd1f5a1d151772f6c07314f3e0/expr.ipynb\"><img src=\"data:image/png;base64,iVBORw0KGgoAAAANSUhEUgAAAHUAAAAaBAMAAAB7iA4AAAAAMFBMVEX///+6urp2dnaqqqoiIiIQ\n",
       "EBBERETu7u6IiIjc3NwyMjJUVFSYmJhmZmbMzMwAAAD0pS5FAAAAAXRSTlMAQObYZgAAAZVJREFU\n",
       "OMtjYGDgu8NAMmC+CKF3TSBdL8O0BBDJ8Z2BHBALIrgXgEjGBhQZHgFCerMQel8jCbMVMDDcQ1N6\n",
       "6lv+qihk83ch9C5HiLLnA/VyoduTMJvhmdUEBrM0IChA0cuBMJJ9936gHI8Cut65DGyVCdjsZS1A\n",
       "UtYP5LAHQE3qcnFZANXL9ACrXikGNL0MyRD2q+MIezH1soEELmHo1QUzOdOR3MyN4WZWkFfXYOi1\n",
       "ggT5BCS9IqeQUtF5oCLO1SBWIIZeUTCzDBFWU128DJAU8a5kYDjyAMT6CDRkiQsICED1vgerEAUJ\n",
       "QcNKlg05QBmmNDAwe0D1otkL0fsaKY545TYgpzxnIFF/AEgE43BzCXL8Lu9BUmQ/ARbOORh6T4GZ\n",
       "3AeQ9L7mfoAtfnVxxBG7I5JeJoNMbHpFkLTejV8LtG0hhDPrHjwv5DEsW2+ALU2i539YmmSwXgIJ\n",
       "Z3SA0IuR9JkaCORf7HkQDKoYiNc7G01qJ1F6mcA+40R1I8cDQnq9waGympyijtcdkrr2kFE+5zBQ\n",
       "BgBr7HgqQ1Fo7wAAAABJRU5ErkJggg==\n",
       "\" style=\"display:inline;vertical-align:middle;\" /></a> <a class=\"ProveItLink\" href=\"../2665d67a49802fdfa982ce0356d19f2c417579ae0/proof.ipynb\" style=\"text-decoration: none\">&#x22A2;&nbsp;</a><a class=\"ProveItLink\" href=\"../5fa2e897f2b5c27ef654392f28ef8d98ae8eef520/expr.ipynb\"><img src=\"data:image/png;base64,iVBORw0KGgoAAAANSUhEUgAAAF0AAAAVBAMAAADWVP/xAAAAMFBMVEX////c3NwiIiJERESqqqqY\n",
       "mJh2dnZmZmYQEBDu7u4yMjJUVFTMzMyIiIi6uroAAAAs73DqAAAAAXRSTlMAQObYZgAAASpJREFU\n",
       "KM9jYCAV8F1A4bI+IKD+NBKbeQIDQw2afNRn+1VdSGauRDA57YHqudANNJBmOOwlwOBsDAQTGHgR\n",
       "Wjl37weqZ01AVy/OwDzRAMbjmIAkdR/I4WyA6r6lpLQAqp7tAFz9KwY09QwmEPapSIT5SOrLMNSn\n",
       "g5mMlkju4Ua4ZymGei9IUAkgqX8UBef1Yah/AWZORvhXQknLAc77B7R6kRIIPICqPw8WfwESgvr3\n",
       "OfMEZPVo5p9Hi0YDcfY3G+C8FhzumYQc/iuvwnmmGOqjwEzuACT1p7kPwHjpOMKTUw9JPZuDIYz3\n",
       "CEl5ef9yoKnrIBypGnh6s2FYvB4WQhwCaMkFlh4YvBdBwgcVYCQvtgv40/9KNP4sAvlFGo2/kYB6\n",
       "RlT7eQ/gVQ0AMZZRBC4NEyMAAAAASUVORK5CYII=\n",
       "\" style=\"display:inline;vertical-align:middle;\" /></a></span></td></tr>\n",
       "</table>"
      ],
      "text/plain": [
       "<proveit._core_.proof._ShowProof at 0x7f94e47b4048>"
      ]
     },
     "execution_count": 1,
     "metadata": {},
     "output_type": "execute_result"
    }
   ],
   "source": [
    "import proveit\n",
    "%show_proof"
   ]
  },
  {
   "cell_type": "code",
   "execution_count": null,
   "metadata": {},
   "outputs": [],
   "source": []
  }
 ],
 "metadata": {
  "kernelspec": {
   "display_name": "Python 3",
   "language": "python",
   "name": "python3"
  }
 },
 "nbformat": 4,
 "nbformat_minor": 0
}
