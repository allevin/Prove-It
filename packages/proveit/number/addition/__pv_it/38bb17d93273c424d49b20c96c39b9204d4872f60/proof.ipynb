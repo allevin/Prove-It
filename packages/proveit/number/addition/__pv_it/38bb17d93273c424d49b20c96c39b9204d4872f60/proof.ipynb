{
 "cells": [
  {
   "cell_type": "markdown",
   "metadata": {},
   "source": [
    "Show the Proof\n",
    "========"
   ]
  },
  {
   "cell_type": "code",
   "execution_count": 1,
   "metadata": {},
   "outputs": [
    {
     "data": {
      "text/html": [
       "<table><tr><th>&nbsp;</th><th>step type</th><th>requirements</th><th>statement</th></tr>\n",
       "<tr><td>0</td><td>specialization</td><td>1, 2</td><td><span style=\"font-size:20px;\"><a class=\"ProveItLink\" href=\"../0b42151c5318a9d568f93271aa3ce78b4a2e772d0/expr.ipynb\"><img src=\"data:image/png;base64,iVBORw0KGgoAAAANSUhEUgAAAEcAAAAVBAMAAADm2O7QAAAAMFBMVEX///9ERETc3NyqqqpUVFS6\n",
       "urrMzMwyMjIQEBCIiIh2dnYiIiLu7u5mZmaYmJgAAABJJ2g3AAAAAXRSTlMAQObYZgAAAS9JREFU\n",
       "KM9jYGDgu8eAG7CtUgBRPLsY8AG2ZhDJ+QGH9OzyHxsvMDBcB7G5GrCrSf3KcOqnAwPDCjyK+Fge\n",
       "MDDYY1fEM3337gIQ4w0HkODFrij9DZRxQQWkZQKyIq0pynOBAgxMMjATL0RBWWBFvEDTeRbw7ePY\n",
       "AOQwKsB8vsAOynoPIjICgKYBA4I5Acg5CA+eBXFQFjswGFLaQIYzsAiARSJ274Y4nEcgC6ZeHOjN\n",
       "CJAJDBwTwAIpcB/UsEAZ3AuABAvYx/oJDAeA1Gm4oldgRQegbuICOphPYT4DJ0gRKAQhgPEp0GzW\n",
       "PUhBYP9AgkET7POtcKNcJA8cFTyApOjgrFMrIWaoX4P77/b/lgAG7HFnUg2JFjjAF8GoivgIKAKn\n",
       "J56d+FNmKyTlLCaUxgHHZFH8tJ13AgAAAABJRU5ErkJggg==\n",
       "\" style=\"display:inline;vertical-align:middle;\" /></a> <a class=\"ProveItLink\" href=\"proof.ipynb\" style=\"text-decoration: none\">&#x22A2;&nbsp;</a><a class=\"ProveItLink\" href=\"../8e675d9874c8d452489e2975dd89f3f877eae33e0/expr.ipynb\"><img src=\"data:image/png;base64,iVBORw0KGgoAAAANSUhEUgAAAGUAAAAVBAMAAACtcD09AAAAMFBMVEX////c3NwiIiJERESqqqqY\n",
       "mJh2dnZmZmYQEBDu7u4yMjJUVFTMzMyIiIi6uroAAAAs73DqAAAAAXRSTlMAQObYZgAAAVFJREFU\n",
       "OMtjYCAH8F3AKRWHS+I0buPYD6CLcNZeB4mtxOOGBegCTA84dRgYeC/g0ROGLnCJgeEWAwPHBDx6\n",
       "ZqALaDMwvBdgeIUvfJgd0AS+MzCcd2AoA7LEbotcR3UiY+5G31oGBrYCVC2M34B6LjAsBQZGAqsq\n",
       "hwKK5DSGoIAmBgYWcCBUrQKB1TA9CQx9QNMYeD+woAZrAsN9Bh9g3DVgsSeB4R/QHgZuA7CQlBII\n",
       "6AFZExg2gwR4PmB12z8QmwMzwHux6QGHQQBDC4gpf4ABLcgZ/wCth7qtCGy9MjSs/QUYTBkYWAXu\n",
       "M/Ci6gnk/cBwEyizADNOkxgY0oE6AywYZFGkWL4yNzBewAxrBiYHzh4GhkcMDJOvTcsNQE2Ktplp\n",
       "V4E01wP0NFp2GxjAHAKkpB0IYE3AoycXhzievMC5AIeENG493LjczYg7A93BLgwA0M1SiguHjrIA\n",
       "AAAASUVORK5CYII=\n",
       "\" style=\"display:inline;vertical-align:middle;\" /></a></span></td></tr>\n",
       "<tr><td>&nbsp;</td><td colspan=4 style=\"text-align:left\"><span style=\"font-size:20px;\"><a class=\"ProveItLink\" href=\"../../../../__pv_it/07527342713064c87612d00d8557c53d53d5324a0/expr.ipynb\"><img src=\"data:image/png;base64,iVBORw0KGgoAAAANSUhEUgAAAAsAAAAJBAMAAAAWSsseAAAAMFBMVEX///8yMjKqqqrMzMzu7u4i\n",
       "IiJmZmaYmJhEREQQEBC6urp2dnaIiIhUVFTc3NwAAAD87Fq/AAAAAXRSTlMAQObYZgAAAEhJREFU\n",
       "CNdjYOC7s2seAwPDygccHxgY+L4zsDUwMPB+YGA9wMDA38Dgb8DA8P4Agz6DA4O/AsNFJgMGxgKm\n",
       "MG6gyjunLE4xAAAZTBA5TB6DCwAAAABJRU5ErkJggg==\n",
       "\" style=\"display:inline;vertical-align:middle;\" /></a> : <a class=\"ProveItLink\" href=\"../../../../__pv_it/530be409e3083890784cf1d7b28c9e67e90af9360/expr.ipynb\"><img src=\"data:image/png;base64,iVBORw0KGgoAAAANSUhEUgAAAAsAAAAJBAMAAAAWSsseAAAAKlBMVEX///9ERETMzMwQEBAiIiKY\n",
       "mJju7u5mZmaqqqpUVFSIiIh2dnbc3NwAAAA/vyDhAAAAAXRSTlMAQObYZgAAAENJREFUCNdjYDi9\n",
       "8sTyBQxsG1hdmR0YuBm4LnAoMLAxcAowgADzAjB1VoEhgYH1wFoGrgSG3gBhhlMMDImrs3cFMAAA\n",
       "t0YN+iTRa+sAAAAASUVORK5CYII=\n",
       "\" style=\"display:inline;vertical-align:middle;\" /></a></span></td></tr><tr><td>1</td><td>theorem</td><td></td><td><span style=\"font-size:20px;\"> <a class=\"ProveItLink\" href=\"../../subtraction/_proofs_/addCancelBasic.ipynb\" style=\"text-decoration: none\">&#x22A2;&nbsp;</a><a class=\"ProveItLink\" href=\"../be89b42510e34d6e85e35cd8502bd8accae573990/expr.ipynb\"><img src=\"data:image/png;base64,iVBORw0KGgoAAAANSUhEUgAAAKkAAAAVBAMAAADP89MSAAAAMFBMVEX///8QEBC6urrMzMxUVFRm\n",
       "ZmZERETc3NwyMjKqqqp2dnaIiIiYmJgiIiLu7u4AAAAU9Wx4AAAAAXRSTlMAQObYZgAAAhhJREFU\n",
       "OMtjYKAJeIBPkmkDBGMHh3ALXwAxTuPQZwLF2AGrAboIX/RWA7DwShCvD4e+PjxyQNCALsCrwHcZ\n",
       "LFwG5LAnYNfFvQGCcYFT6AJ7GRh2gIU5gAHLOgG7LsYHEIwLPEQXuMLAoF8AEuZZXl5ei0OXBhTj\n",
       "AmzorvnKwGA/ASz8LS3tFg5dUVDM7r1IHFUGIsIVgCb6C2jqBrCwMwNDOg5Te6BYsYDtA6oMRIQT\n",
       "HF0RHSDQAjN1AVhYhYEPJS7fdPlGQ5lCEMz+h4EVNT6hIkwCWNy6ACzMy8B9AJbctoYeYDZ7wNwF\n",
       "5X+CYJYPDLyglFBxFwQuMcBFmD9gDQGQMPcBXlg0b1N/94CnmoFBC9VU/gSG96gJHiqCbio4tg6A\n",
       "hfkaQLmndFcyAw8o8JUnA+2EKpKE4PoNDPNRczZUBBICsWAvXIOmrPkFEOF0J6DR19n/MXCAJPad\n",
       "Q2jOgeD3Exg8OFEcCxXhacDMBWsZIMJTgUUBSwDzBQYrdFOXQjDHAc6rXCi6oSLoKYuBdwKfMFSY\n",
       "ERju/ArcDgy2aWlpG5SUEYp0IZjde5PZJrTkChbhUEAvXaK2GECFeYBB9v4B27mCJyAJlteIcGUs\n",
       "gGCicyyaMOMDe5sHLCADmKMKGHZDRXkWQDAusJqAMFP06RgGviQQ89W1FAXiSkK+BqKEuYDhiiJQ\n",
       "AsXYAUsBKcJIsbIBgrGDzTiFAS3vpPWV0nuyAAAAAElFTkSuQmCC\n",
       "\" style=\"display:inline;vertical-align:middle;\" /></a></span></td></tr>\n",
       "<tr><td>&nbsp;</td><td colspan=4 style-\"text-align:left\"><a class=\"ProveItLink\" href=\"../../subtraction/_proofs_/addCancelBasic.ipynb\">proveit.number.addition.subtraction.addCancelBasic</a></td></tr><tr><td>2</td><td>assumption</td><td></td><td><span style=\"font-size:20px;\"><a class=\"ProveItLink\" href=\"../0b42151c5318a9d568f93271aa3ce78b4a2e772d0/expr.ipynb\"><img src=\"data:image/png;base64,iVBORw0KGgoAAAANSUhEUgAAAEcAAAAVBAMAAADm2O7QAAAAMFBMVEX///9ERETc3NyqqqpUVFS6\n",
       "urrMzMwyMjIQEBCIiIh2dnYiIiLu7u5mZmaYmJgAAABJJ2g3AAAAAXRSTlMAQObYZgAAAS9JREFU\n",
       "KM9jYGDgu8eAG7CtUgBRPLsY8AG2ZhDJ+QGH9OzyHxsvMDBcB7G5GrCrSf3KcOqnAwPDCjyK+Fge\n",
       "MDDYY1fEM3337gIQ4w0HkODFrij9DZRxQQWkZQKyIq0pynOBAgxMMjATL0RBWWBFvEDTeRbw7ePY\n",
       "AOQwKsB8vsAOynoPIjICgKYBA4I5Acg5CA+eBXFQFjswGFLaQIYzsAiARSJ274Y4nEcgC6ZeHOjN\n",
       "CJAJDBwTwAIpcB/UsEAZ3AuABAvYx/oJDAeA1Gm4oldgRQegbuICOphPYT4DJ0gRKAQhgPEp0GzW\n",
       "PUhBYP9AgkET7POtcKNcJA8cFTyApOjgrFMrIWaoX4P77/b/lgAG7HFnUg2JFjjAF8GoivgIKAKn\n",
       "J56d+FNmKyTlLCaUxgHHZFH8tJ13AgAAAABJRU5ErkJggg==\n",
       "\" style=\"display:inline;vertical-align:middle;\" /></a> <a class=\"ProveItLink\" href=\"../314c7f5a8eb2a45a1614f0cc84e1289bd5929f190/proof.ipynb\" style=\"text-decoration: none\">&#x22A2;&nbsp;</a><a class=\"ProveItLink\" href=\"../a1ab8e6c14fa7d97c10d512393343c354ee536080/expr.ipynb\"><img src=\"data:image/png;base64,iVBORw0KGgoAAAANSUhEUgAAADQAAAAPBAMAAABZ6/G2AAAAMFBMVEX///+6uroyMjJERETMzMwQ\n",
       "EBAiIiKYmJju7u5mZmaqqqpUVFSIiIh2dnbc3NwAAAAWgogoAAAAAXRSTlMAQObYZgAAAMxJREFU\n",
       "GNNjYMAGjil9TZ6AVcbxI0Pvnw3YZNi5CxgY1iNLcRxKS1MAMSpYgQQnspRTBZQx4TVI4QEGhren\n",
       "X50EUgx8FjDdE2ShjAvs6awJQAbzA6gUy4XlEAYvA88HLgcgo5kBLiUO1cXAbQBmiKalQZzBYeAL\n",
       "U8V6AEx5w92jwQ1jvXdgaABSbXCpWrBUAwP7g/MMPCApkD8hgLkQaA5jBsP6AlOGN2BLE+Hadts0\n",
       "NBo3MDSf7b0DUf9oCtyN0/5HC6CE3Wo1SEBBAQCOCzKzGibs5AAAAABJRU5ErkJggg==\n",
       "\" style=\"display:inline;vertical-align:middle;\" /></a></span></td></tr>\n",
       "</table>"
      ],
      "text/plain": [
       "<proveit._core_.proof._ShowProof at 0x7f94e7496d30>"
      ]
     },
     "execution_count": 1,
     "metadata": {},
     "output_type": "execute_result"
    }
   ],
   "source": [
    "import proveit\n",
    "%show_proof"
   ]
  },
  {
   "cell_type": "code",
   "execution_count": null,
   "metadata": {},
   "outputs": [],
   "source": []
  }
 ],
 "metadata": {
  "kernelspec": {
   "display_name": "Python 3",
   "language": "python",
   "name": "python3"
  }
 },
 "nbformat": 4,
 "nbformat_minor": 0
}
