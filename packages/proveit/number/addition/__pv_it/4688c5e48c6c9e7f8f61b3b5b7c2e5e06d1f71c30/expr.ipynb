{
 "cells": [
  {
   "cell_type": "markdown",
   "metadata": {},
   "source": [
    "Expression of type <a class=\"ProveItLink\" href=\"../../../../../../doc/html/api/proveit.ExprTuple.html\">ExprTuple</a>\n",
    "=======================\n",
    "# from context <a class=\"ProveItLink\" href=\"../../_context_.ipynb\">proveit.number.addition</a>"
   ]
  },
  {
   "cell_type": "code",
   "execution_count": 1,
   "metadata": {},
   "outputs": [],
   "source": [
    "# import Expression classes needed to build the expression\n",
    "from proveit import ExprTuple\n",
    "from proveit._common_ import a, b, c\n",
    "from proveit.number import Complexes, Exp, one, six, two"
   ]
  },
  {
   "cell_type": "code",
   "execution_count": 2,
   "metadata": {},
   "outputs": [
    {
     "data": {
      "text/html": [
       "<strong id=\"expr\">expr:</strong> <a class=\"ProveItLink\" href=\"expr.ipynb\"><img src=\"data:image/png;base64,iVBORw0KGgoAAAANSUhEUgAAAK4AAAAcBAMAAAAKIJmjAAAAMFBMVEX///+qqqp2dnYiIiJERESI\n",
       "iIhmZmYQEBDc3NyYmJgyMjLu7u5UVFTMzMy6uroAAACGxKilAAAAAXRSTlMAQObYZgAAAttJREFU\n",
       "SMe1Vk1oE0EYfUlNmmaSbEDwIAohQq/2ooggjQcFUTAoi0h7WKqopUpbRSx4MKBepNBVPHmKIIJQ\n",
       "7CJVoQjJoaJVsUFBL4KBKu1Fk9iKxRrrfLMz6f70YkkHsvNm5ts3377v7WyA5jbWcxzr0aKlzwp+\n",
       "byZvOx4BKULxYjN5B+nyiS4TVhNpIzX9DBDKcjhF469ro2kreybiP/Ced7v4DgN+LQ6q3U/d89zI\n",
       "XnS4xudWYGj32IX9kb/QkkA3EDaoii4txpckGEao5q23O4PoSqaVMtvejTo0LkLBQitlpDtjn71R\n",
       "vK+BTg8vZeMUIqWQyfUM/MFdaJywxYSw22VXcEjxXrIw7RGi4q4yG1AbWITOYgtmeB/O4BjvEvnV\n",
       "eccs9Ht4t3ny3yv7cIQEeoy2nj7apYpXNElPM3xkNufh5a3Tzo+l9ZIAo/qUEl/Et8vRk0TKsVti\n",
       "CYdIfZPDIRyGj5f7RrSP5agwAluAZm8g4zfLwHcB02m3Ou7zjmo3YuKknzeasdO9iA3ivsASWu3E\n",
       "ZPys4k04ebnddlKROe80sMPPK7eKVZWMeWiGQDJenTLjcacOrNbgXQCr+3hD0q1aRk60GKjYicl4\n",
       "xRu1iu58R0mHJCI/EagyL+8mREQtR7Ir9u0XlVTxsw0jEy9TvHVM8o5rxzOP5bfCUrwiIm6gLUdI\n",
       "4zmaApRwXqzJeNxRbAfoiJmR7k4s4ijvglyyB9hopNi84i1Q+a+m0ycEihkIlgRIhov2moi3fSbG\n",
       "scku9kUdLNy/FaLnC8P6t31ldoU/dvj07148XSTzLi/P26hH7xKAPe+FPSPigYeQY3zo/PVW6RfM\n",
       "23Ycahg6p9AcfMgP5Hs85/saZREjf9xqnCONJdOP/ADBrHssWyGHeIfznPxf3gmsyntbnhwRZb5s\n",
       "w7nwIT8AXnrGsu3hvxsErq/tOxQqrf55olcykGr6n4hr4nqz6bx9WLf2Dz5N1GRdxQEUAAAAAElF\n",
       "TkSuQmCC\n",
       "\" style=\"display:inline;vertical-align:middle;\" /></a><br>"
      ],
      "text/plain": [
       "expr: ((a , 1 , 2 , c , b , a) , Complexes^{6})"
      ]
     },
     "execution_count": 2,
     "metadata": {},
     "output_type": "execute_result"
    }
   ],
   "source": [
    "# build up the expression from sub-expressions\n",
    "expr = ExprTuple([a, one, two, c, b, a], Exp(Complexes, six))"
   ]
  },
  {
   "cell_type": "code",
   "execution_count": 3,
   "metadata": {},
   "outputs": [
    {
     "name": "stdout",
     "output_type": "stream",
     "text": [
      "Passed sanity check: built 'expr' is the same as the stored Expression.\n"
     ]
    }
   ],
   "source": [
    "# check that the built expression is the same as the stored expression\n",
    "%check_expr"
   ]
  },
  {
   "cell_type": "code",
   "execution_count": 4,
   "metadata": {},
   "outputs": [
    {
     "data": {
      "text/html": [
       "<table><tr><th>&nbsp;</th><th>core type</th><th>sub-expressions</th><th>expression</th></tr>\n",
       "<tr><td>0</td><td>ExprTuple</td><td>1, 2</td><td><a class=\"ProveItLink\" href=\"expr.ipynb\"><img src=\"data:image/png;base64,iVBORw0KGgoAAAANSUhEUgAAAK4AAAAcBAMAAAAKIJmjAAAAMFBMVEX///+qqqp2dnYiIiJERESI\n",
       "iIhmZmYQEBDc3NyYmJgyMjLu7u5UVFTMzMy6uroAAACGxKilAAAAAXRSTlMAQObYZgAAAttJREFU\n",
       "SMe1Vk1oE0EYfUlNmmaSbEDwIAohQq/2ooggjQcFUTAoi0h7WKqopUpbRSx4MKBepNBVPHmKIIJQ\n",
       "7CJVoQjJoaJVsUFBL4KBKu1Fk9iKxRrrfLMz6f70YkkHsvNm5ts3377v7WyA5jbWcxzr0aKlzwp+\n",
       "byZvOx4BKULxYjN5B+nyiS4TVhNpIzX9DBDKcjhF469ro2kreybiP/Ced7v4DgN+LQ6q3U/d89zI\n",
       "XnS4xudWYGj32IX9kb/QkkA3EDaoii4txpckGEao5q23O4PoSqaVMtvejTo0LkLBQitlpDtjn71R\n",
       "vK+BTg8vZeMUIqWQyfUM/MFdaJywxYSw22VXcEjxXrIw7RGi4q4yG1AbWITOYgtmeB/O4BjvEvnV\n",
       "eccs9Ht4t3ny3yv7cIQEeoy2nj7apYpXNElPM3xkNufh5a3Tzo+l9ZIAo/qUEl/Et8vRk0TKsVti\n",
       "CYdIfZPDIRyGj5f7RrSP5agwAluAZm8g4zfLwHcB02m3Ou7zjmo3YuKknzeasdO9iA3ivsASWu3E\n",
       "ZPys4k04ebnddlKROe80sMPPK7eKVZWMeWiGQDJenTLjcacOrNbgXQCr+3hD0q1aRk60GKjYicl4\n",
       "xRu1iu58R0mHJCI/EagyL+8mREQtR7Ir9u0XlVTxsw0jEy9TvHVM8o5rxzOP5bfCUrwiIm6gLUdI\n",
       "4zmaApRwXqzJeNxRbAfoiJmR7k4s4ijvglyyB9hopNi84i1Q+a+m0ycEihkIlgRIhov2moi3fSbG\n",
       "scku9kUdLNy/FaLnC8P6t31ldoU/dvj07148XSTzLi/P26hH7xKAPe+FPSPigYeQY3zo/PVW6RfM\n",
       "23Ycahg6p9AcfMgP5Hs85/saZREjf9xqnCONJdOP/ADBrHssWyGHeIfznPxf3gmsyntbnhwRZb5s\n",
       "w7nwIT8AXnrGsu3hvxsErq/tOxQqrf55olcykGr6n4hr4nqz6bx9WLf2Dz5N1GRdxQEUAAAAAElF\n",
       "TkSuQmCC\n",
       "\" style=\"display:inline;vertical-align:middle;\" /></a></td></tr>\n",
       "<tr><td>1</td><td>ExprTuple</td><td>7, 3, 4, 5, 6, 7</td><td><a class=\"ProveItLink\" href=\"../37b8374c312059bf4ebb0042cc4715a16d87dcfa0/expr.ipynb\"><img src=\"data:image/png;base64,iVBORw0KGgoAAAANSUhEUgAAAHcAAAAVBAMAAACOK2zoAAAAMFBMVEX////c3NwiIiJERESqqqqY\n",
       "mJh2dnZmZmYQEBDu7u4yMjJUVFTMzMyIiIi6uroAAAAs73DqAAAAAXRSTlMAQObYZgAAAc1JREFU\n",
       "OMulVDFPwkAYfZRCKRWKk4MDTLqyOLgY/oF1cTTEASZNF4hxURNj4qCSuJg4QGIcjAuLidGQNHHQ\n",
       "xMGuRkFxMi6gxgEH8e56FdpzETvcve/de1/vvq9X4F9P3B7MN0eHay83yeeR5SmfWj1N9YeKRYYj\n",
       "j2K348yBKh4yPne06gkrQMyz6/1zbtZKkNo+s+7NNgtESh4mxs2RTWhfPnPLK90DXvCrOdqB4jfP\n",
       "e8NgBkV6wNrims9MHolDNVe3GDiun/CCMH3YxCEJnhPBtmi+yTrz1WOUlVl9h+5kcfRyBdsk0QeU\n",
       "tGg+4C/eQtCgQO4gwvJxfXwV5GBaG5ItmN18mrsppQLd5AzVD7WpWU+jbAnmO7dB7qYkEy2DM1RP\n",
       "zOtA0sY0Sj6zbGKYgaTda/NKiTNUT7Y9AZQzOJMt9cfM0CUwwzLq5G0GpUi1Ntiao0eogjzpqSGP\n",
       "h1FOuWaKAmO5fEp9oyc0EbYopWWUKltz9LRVT7RtjYsG9l5pUZY+CwxJ3W43pe4kCFes3zJKrRXA\n",
       "gKNH9BGRhFuhJgQUFxeb/Z9nKOsGBgQUEqmeaqH/Sv7RrJIriVG3w73L8YNsgeqtafRIgQF/Q/fA\n",
       "NyrDiOw0vXv8AAAAAElFTkSuQmCC\n",
       "\" style=\"display:inline;vertical-align:middle;\" /></a></td></tr>\n",
       "<tr><td>2</td><td>Operation</td><td>operator:&nbsp;8<br>operands:&nbsp;9<br></td><td><a class=\"ProveItLink\" href=\"../caa58a6d37528bfa4e8e607325cf0a3bdcd3bb190/expr.ipynb\"><img src=\"data:image/png;base64,iVBORw0KGgoAAAANSUhEUgAAABcAAAAUBAMAAACUkLs9AAAAMFBMVEX////c3NyqqqqYmJhUVFR2\n",
       "dnbu7u66urrMzMxmZmZEREQQEBAyMjIiIiKIiIgAAAB7fvZ0AAAAAXRSTlMAQObYZgAAAJpJREFU\n",
       "GNNjYIACtqmPGeCAp6EfwYlkSEVwNiGYDIyf3k2Eczi+MvSCaL475/euZPzOwK8AFKsvYIt/wvCD\n",
       "gf8BA4OBMwMD0xeGQwz8BQzMCRuASqcwqDDUMjBwMjoAOXkMzFOnMTBksgcgLGhlMkDisCNxsjiQ\n",
       "lPEkOCA4zAEgDhuUt7gOSNQmQDgsXs/YqpbBFHbe/+0OYQEA3N0ih75gypAAAAAASUVORK5CYII=\n",
       "\" style=\"display:inline;vertical-align:middle;\" /></a></td></tr>\n",
       "<tr><td>3</td><td>Literal</td><td></td><td><a class=\"ProveItLink\" href=\"../../../numeral/__pv_it/9be8badea4c35b9724062cecc501d17a3158d1d20/expr.ipynb\"><img src=\"data:image/png;base64,iVBORw0KGgoAAAANSUhEUgAAAAgAAAAPBAMAAAArJJMAAAAAHlBMVEX///+YmJgyMjIQEBBmZmaI\n",
       "iIhUVFTu7u5EREQAAAAw+MI4AAAAAXRSTlMAQObYZgAAACFJREFUCNdjYGBoZ2BgqJjOwFCWBiQY\n",
       "WEklWJwnOTKAAACjEQo8HvEr3AAAAABJRU5ErkJggg==\n",
       "\" style=\"display:inline;vertical-align:middle;\" /></a></td></tr>\n",
       "<tr><td>4</td><td>Literal</td><td></td><td><a class=\"ProveItLink\" href=\"../../../numeral/__pv_it/77d407a64829263cdc16415becd4c2293f77a4bf0/expr.ipynb\"><img src=\"data:image/png;base64,iVBORw0KGgoAAAANSUhEUgAAAAkAAAAOBAMAAAAPuiubAAAAMFBMVEX///+YmJh2dnbMzMwQEBAi\n",
       "IiLu7u6qqqqIiIhUVFS6urpEREQyMjJmZmbc3NwAAACOMKdoAAAAAXRSTlMAQObYZgAAAFBJREFU\n",
       "CNdj4Lt7egEDw0sGju8MDNMYGOIZGFwSGOYvYDifwHAfKAEUSQASzJ9ATJ4NIPI2iOCYACJrGfge\n",
       "MDBfYGB8wPBUSekqUPH//18ZAIliFhc3zESNAAAAAElFTkSuQmCC\n",
       "\" style=\"display:inline;vertical-align:middle;\" /></a></td></tr>\n",
       "<tr><td>5</td><td>Variable</td><td></td><td><a class=\"ProveItLink\" href=\"../../../../__pv_it/cbdfda466482236edba0ce44ac7ef39cda0af7a40/expr.ipynb\"><img src=\"data:image/png;base64,iVBORw0KGgoAAAANSUhEUgAAAAkAAAAJBAMAAAASvxsjAAAALVBMVEX///9mZmbc3NxUVFSYmJhE\n",
       "REQiIiIyMjK6uroQEBDMzMyIiIh2dnbu7u4AAABgFDGoAAAAAXRSTlMAQObYZgAAADZJREFUCNdj\n",
       "YOA9s3sBA8PKBvYEBt7ZDKwODMwPGICALwBE6m0Asx0YGIDiAgw8QJUyu/cyAAAmuwmycZ8WfQAA\n",
       "AABJRU5ErkJggg==\n",
       "\" style=\"display:inline;vertical-align:middle;\" /></a></td></tr>\n",
       "<tr><td>6</td><td>Variable</td><td></td><td><a class=\"ProveItLink\" href=\"../../../../__pv_it/6840a4fa6c106149dc16a131294d0c5e44f1b0480/expr.ipynb\"><img src=\"data:image/png;base64,iVBORw0KGgoAAAANSUhEUgAAAAkAAAAOBAMAAAAPuiubAAAALVBMVEX///9mZmbMzMxERESYmJiI\n",
       "iIh2dna6urqqqqoyMjIiIiIQEBBUVFTu7u4AAAD9S1JeAAAAAXRSTlMAQObYZgAAAE1JREFUCNdj\n",
       "4D29gAEIOA+ASL4GEFl3AURmgQiGOaFHGBh4HzPwKTBwvGXgTmBgnMDAJ8DAJcBQ5wBSLncBJLWN\n",
       "gYGngRFoBO9REQYGAGrcDtUkVqASAAAAAElFTkSuQmCC\n",
       "\" style=\"display:inline;vertical-align:middle;\" /></a></td></tr>\n",
       "<tr><td>7</td><td>Variable</td><td></td><td><a class=\"ProveItLink\" href=\"../../../../__pv_it/07527342713064c87612d00d8557c53d53d5324a0/expr.ipynb\"><img src=\"data:image/png;base64,iVBORw0KGgoAAAANSUhEUgAAAAsAAAAJBAMAAAAWSsseAAAAMFBMVEX///8yMjKqqqrMzMzu7u4i\n",
       "IiJmZmaYmJhEREQQEBC6urp2dnaIiIhUVFTc3NwAAAD87Fq/AAAAAXRSTlMAQObYZgAAAEhJREFU\n",
       "CNdjYOC7s2seAwPDygccHxgY+L4zsDUwMPB+YGA9wMDA38Dgb8DA8P4Agz6DA4O/AsNFJgMGxgKm\n",
       "MG6gyjunLE4xAAAZTBA5TB6DCwAAAABJRU5ErkJggg==\n",
       "\" style=\"display:inline;vertical-align:middle;\" /></a></td></tr>\n",
       "<tr><td>8</td><td>Literal</td><td></td><td><a class=\"ProveItLink\" href=\"../../../exponentiation/__pv_it/deb2bf23cbccdd6e6791e1b35b5b9794ce12dbd50/expr.ipynb\"><img src=\"data:image/png;base64,iVBORw0KGgoAAAANSUhEUgAAACgAAAASBAMAAADbMYGVAAAAMFBMVEX///8QEBAiIiKYmJjc3Nzu\n",
       "7u7MzMx2dnZmZma6urpERESqqqoyMjJUVFSIiIgAAAAoDOMTAAAAAXRSTlMAQObYZgAAAOBJREFU\n",
       "GNNjYGB4+//u3Tt/GNAASGAXmhjnPyDBgSbI/g1IxKEJ8nxgYGdgQRPkX8BgDKRY6q7s62OYvmze\n",
       "2wAgb/7ZO1+AVDiDkYEQQ0HTBr4DQF59AgOIKmB4z7CNbcNZBu6vQN55kEACQwDDLQYGVobfDHwg\n",
       "fb8YGBxYHwAZciD3fWXg+gB1JjvQcJZvQIXsCgz8F6DO9GBgMOH7wPCUgaeBwd4B7EwGNjUG7s9c\n",
       "AiwPgO5jkWRgiF3/9+5dfQUG1nWl5Y+B7pv+1gE9bBhqGLCAE1jEWH9jEbT5A3IwAC4sP/1L6Qlu\n",
       "AAAAAElFTkSuQmCC\n",
       "\" style=\"display:inline;vertical-align:middle;\" /></a></td></tr>\n",
       "<tr><td>9</td><td>ExprTuple</td><td>10, 11</td><td><a class=\"ProveItLink\" href=\"../e291b8cc1d145060c3954e47279c1a346a2a8f2d0/expr.ipynb\"><img src=\"data:image/png;base64,iVBORw0KGgoAAAANSUhEUgAAAC8AAAAVBAMAAAAk6KpUAAAAMFBMVEX////c3NwiIiJERESqqqqY\n",
       "mJh2dnZmZmYQEBDu7u4yMjJUVFTMzMyIiIi6uroAAAAs73DqAAAAAXRSTlMAQObYZgAAASpJREFU\n",
       "KM91kb9Lw0AUxz/RxjY2De4uLi4iCEIRt/wHZnLUbC5KnbpkKaKrHAjaRcwiqItFcRUnHUToJqJD\n",
       "rZsg/phEQX2XkyRQPbjHu+/n7n3v3cG/w2v3anM6XMqsjB2uTP2Km/VFimeS7IP73HFqt0a3xjmC\n",
       "WDZLpeAECp8G9IUcwCyUFLZqiBIZMK90bMIjFK2W5NsG7CWx36cOW16YXejj6tqHgWV24bwQpLrz\n",
       "FjAqjjHrArwc+IaawmvwBRtumDsh/j7uiwaDqpXzENDWYBXsUAPHgMnkhJSqyqL6JKGrEjSTeNgx\n",
       "C7IoH984D9PsjOgOQmctuW5Xb7uYeD+Vdl91HkUdse1QGsqM79OsqZ0zkLWzZJ69Bzjy7AyneiXN\n",
       "yrq+9cfX3sEPlLVIbOnCRWQAAAAASUVORK5CYII=\n",
       "\" style=\"display:inline;vertical-align:middle;\" /></a></td></tr>\n",
       "<tr><td>10</td><td>Literal</td><td></td><td><a class=\"ProveItLink\" href=\"../../../sets/complex/__pv_it/c357845f93a5a2d9f649129d299e7ec28dda4b960/expr.ipynb\"><img src=\"data:image/png;base64,iVBORw0KGgoAAAANSUhEUgAAAA8AAAAOBAMAAAACpFvcAAAAMFBMVEX////c3NyqqqqYmJhUVFR2\n",
       "dnbu7u66urrMzMxmZmZEREQQEBAyMjIiIiKIiIgAAAB7fvZ0AAAAAXRSTlMAQObYZgAAAGVJREFU\n",
       "CNdjYGDgu3N+70oGBgaO+gK2+CdAhoEzAwPTFwYG5oQNQN4UBgZORgcgI4+BIZM9gAEMWpkMoAx2\n",
       "KCOLAyrFk+AAYTAHgBhsQLy4DkjUJjAwsHg9Y6taBpLsvP/bnYEBACkBFGQfBv8RAAAAAElFTkSu\n",
       "QmCC\n",
       "\" style=\"display:inline;vertical-align:middle;\" /></a></td></tr>\n",
       "<tr><td>11</td><td>Literal</td><td></td><td><a class=\"ProveItLink\" href=\"../../../numeral/__pv_it/09b499e53e24cf89c2513ba78b501f0314edaa680/expr.ipynb\"><img src=\"data:image/png;base64,iVBORw0KGgoAAAANSUhEUgAAAAoAAAAOBAMAAADkjZCYAAAAMFBMVEX///+6urpERESqqqqIiIgQ\n",
       "EBCYmJgyMjJUVFQiIiLc3NzMzMxmZmZ2dnbu7u4AAABf+mkYAAAAAXRSTlMAQObYZgAAAFNJREFU\n",
       "CNdjYOC7c3cDA8PKDRwTGBjmMrAXMLD9YwAC9gAQyV/tcpiB4f00Bs4EhvcfGHj/MbyfwMD2mYEf\n",
       "qOwLAxOYzQwWZ9BleJrAwMDT08gAANMyF0ZGTeKAAAAAAElFTkSuQmCC\n",
       "\" style=\"display:inline;vertical-align:middle;\" /></a></td></tr>\n",
       "</table>\n"
      ],
      "text/plain": [
       "0. ((a , 1 , 2 , c , b , a) , Complexes^{6})\n",
       "   core type: ExprTuple\n",
       "   sub-expressions: 1, 2\n",
       "1. (a , 1 , 2 , c , b , a)\n",
       "   core type: ExprTuple\n",
       "   sub-expressions: 7, 3, 4, 5, 6, 7\n",
       "2. Complexes^{6}\n",
       "   core type: Operation\n",
       "   operator: 8\n",
       "   operands: 9\n",
       "3. 1\n",
       "   core type: Literal\n",
       "   sub-expressions: \n",
       "4. 2\n",
       "   core type: Literal\n",
       "   sub-expressions: \n",
       "5. c\n",
       "   core type: Variable\n",
       "   sub-expressions: \n",
       "6. b\n",
       "   core type: Variable\n",
       "   sub-expressions: \n",
       "7. a\n",
       "   core type: Variable\n",
       "   sub-expressions: \n",
       "8. Exp\n",
       "   core type: Literal\n",
       "   sub-expressions: \n",
       "9. (Complexes , 6)\n",
       "   core type: ExprTuple\n",
       "   sub-expressions: 10, 11\n",
       "10. Complexes\n",
       "    core type: Literal\n",
       "    sub-expressions: \n",
       "11. 6\n",
       "    core type: Literal\n",
       "    sub-expressions: "
      ]
     },
     "execution_count": 4,
     "metadata": {},
     "output_type": "execute_result"
    }
   ],
   "source": [
    "# display the expression information\n",
    "expr.exprInfo()"
   ]
  },
  {
   "cell_type": "code",
   "execution_count": null,
   "metadata": {},
   "outputs": [],
   "source": []
  }
 ],
 "metadata": {
  "kernelspec": {
   "display_name": "Python 3",
   "language": "python",
   "name": "python3"
  }
 },
 "nbformat": 4,
 "nbformat_minor": 0
}
