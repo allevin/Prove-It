{
 "cells": [
  {
   "cell_type": "markdown",
   "metadata": {},
   "source": [
    "Expression of type <a class=\"ProveItLink\" href=\"../../../../../../doc/html/api/proveit.logic.Equals.html\">Equals</a>\n",
    "=======================\n",
    "# from context <a class=\"ProveItLink\" href=\"../../_context_.ipynb\">proveit.number.addition</a>"
   ]
  },
  {
   "cell_type": "code",
   "execution_count": 1,
   "metadata": {},
   "outputs": [],
   "source": [
    "# import Expression classes needed to build the expression\n",
    "from proveit._common_ import c\n",
    "from proveit.logic import Equals\n",
    "from proveit.number import Add, one, three, two"
   ]
  },
  {
   "cell_type": "code",
   "execution_count": 2,
   "metadata": {},
   "outputs": [
    {
     "data": {
      "text/html": [
       "<strong id=\"expr\">expr:</strong> <a class=\"ProveItLink\" href=\"expr.ipynb\"><img src=\"data:image/png;base64,iVBORw0KGgoAAAANSUhEUgAAAfEAAAAVBAMAAACkvspuAAAAMFBMVEX////c3NwiIiJERESqqqqY\n",
       "mJh2dnZmZmYQEBDu7u4yMjJUVFTMzMyIiIi6uroAAAAs73DqAAAAAXRSTlMAQObYZgAAAxFJREFU\n",
       "WMPlmD9oE1Ecx3+XP01ySZro4lDEoiBu6WAHF83WqRCXjpIpBTEQKjbSRQUHK1gjghQcDK0ixsFs\n",
       "Ih2SSQUHMyo29HAUQqNW4QQTL7neJe/33u+9i2A6eJB/37zf932+ee/dvQvA/3tMNsbc4QWB1joI\n",
       "hnfWw19SNT2ychYpr3OnlR0IfUN1TopVRdVn0GetuGmMzsDZuAzPACLnVMm1KuykWaUAu6rZQviW\n",
       "OUUXtbtvImEK4nsjM/A2DkO8AZGtmtPzPdxiX4iWwNdmlIk9SEzLiyjfBY6jOfxzJe3Xh1smUl4B\n",
       "pBhFxkDbOAzhHtyOQziPDfaF8CpEO4wSGPRKFVG+61zy1aH3AWcU4yZSbpWgZgwrMgbaxmH4Al6S\n",
       "6yaEOriJM9NGTe5P45Ns2RPyixJcM1AIkkGR3GJYFhJGcs06cvSZuI/nyiKx70QBn2+y1tOD/LYa\n",
       "OVVCCslA2zgMT4SEbw19GuV8n2WbxC5WlUVi30B/iFcqvaNPrmcsuzXYUCaP/WQVCQNt4zCsiQgj\n",
       "d8CfQck3uYn7wVAViX0nr6MxD1tG6w2YVSbXZ7BCMpA2LkNHRBhtc0s2NMMlD5uqIrFvrI2SJyz8\n",
       "mpcFeplTSAbSxmUYSm7Nv1P2/EvYMQcCwCekaHXw/1AViX2Fyb/bv2+lsnG7UqkOkBmlyiokg8zG\n",
       "ZbgpGptjDTx8gQIcYpRHpt2rrIjwtWf70vHecaI/cGnQfnsY8znQksOKjIG0cRlmRYQJa62wS/YN\n",
       "wHm2SRl8XxVFhG8Qb+J6S9NKEFQkjxUgyCSXMZA2LsOicD0WYIK5QGknc4vsniGegd2svIjy5a5q\n",
       "PeElwCVF8sO53BKjyBjode4wfLY+FO8+zbDzdLn5kRF83W4X7Zbmio9BXkT56gbeyVjWoXyTvVaH\n",
       "rv66wiZPdbvfWEXCQNs4DOGkcPdFCl4URRN+93pDtPkaSZkfschiCGal98kt+AtF0STPfb0g/b/A\n",
       "i9IasShv36WO94h4vEv95wxT404eTYpu/w+AQRv3v1HbAu3o+Bn+APOAk+TatZR9AAAAAElFTkSu\n",
       "QmCC\n",
       "\" style=\"display:inline;vertical-align:middle;\" /></a><br>"
      ],
      "text/plain": [
       "expr: (1 + c + 2 + 3 + c + 1 + c) = (c + 1 + 2 + 3 + c + 1 + c)"
      ]
     },
     "execution_count": 2,
     "metadata": {},
     "output_type": "execute_result"
    }
   ],
   "source": [
    "# build up the expression from sub-expressions\n",
    "expr = Equals(Add(one, c, two, three, c, one, c), Add(c, one, two, three, c, one, c))"
   ]
  },
  {
   "cell_type": "code",
   "execution_count": 3,
   "metadata": {},
   "outputs": [
    {
     "name": "stdout",
     "output_type": "stream",
     "text": [
      "Passed sanity check: built 'expr' is the same as the stored Expression.\n"
     ]
    }
   ],
   "source": [
    "# check that the built expression is the same as the stored expression\n",
    "%check_expr"
   ]
  },
  {
   "cell_type": "code",
   "execution_count": 4,
   "metadata": {},
   "outputs": [
    {
     "data": {
      "text/html": [
       "<table><tr><th>&nbsp;</th><th>core type</th><th>sub-expressions</th><th>expression</th></tr>\n",
       "<tr><td>0</td><td>Operation</td><td>operator:&nbsp;1<br>operands:&nbsp;2<br></td><td><a class=\"ProveItLink\" href=\"expr.ipynb\"><img src=\"data:image/png;base64,iVBORw0KGgoAAAANSUhEUgAAAfEAAAAVBAMAAACkvspuAAAAMFBMVEX////c3NwiIiJERESqqqqY\n",
       "mJh2dnZmZmYQEBDu7u4yMjJUVFTMzMyIiIi6uroAAAAs73DqAAAAAXRSTlMAQObYZgAAAxFJREFU\n",
       "WMPlmD9oE1Ecx3+XP01ySZro4lDEoiBu6WAHF83WqRCXjpIpBTEQKjbSRQUHK1gjghQcDK0ixsFs\n",
       "Ih2SSQUHMyo29HAUQqNW4QQTL7neJe/33u+9i2A6eJB/37zf932+ee/dvQvA/3tMNsbc4QWB1joI\n",
       "hnfWw19SNT2ychYpr3OnlR0IfUN1TopVRdVn0GetuGmMzsDZuAzPACLnVMm1KuykWaUAu6rZQviW\n",
       "OUUXtbtvImEK4nsjM/A2DkO8AZGtmtPzPdxiX4iWwNdmlIk9SEzLiyjfBY6jOfxzJe3Xh1smUl4B\n",
       "pBhFxkDbOAzhHtyOQziPDfaF8CpEO4wSGPRKFVG+61zy1aH3AWcU4yZSbpWgZgwrMgbaxmH4Al6S\n",
       "6yaEOriJM9NGTe5P45Ns2RPyixJcM1AIkkGR3GJYFhJGcs06cvSZuI/nyiKx70QBn2+y1tOD/LYa\n",
       "OVVCCslA2zgMT4SEbw19GuV8n2WbxC5WlUVi30B/iFcqvaNPrmcsuzXYUCaP/WQVCQNt4zCsiQgj\n",
       "d8CfQck3uYn7wVAViX0nr6MxD1tG6w2YVSbXZ7BCMpA2LkNHRBhtc0s2NMMlD5uqIrFvrI2SJyz8\n",
       "mpcFeplTSAbSxmUYSm7Nv1P2/EvYMQcCwCekaHXw/1AViX2Fyb/bv2+lsnG7UqkOkBmlyiokg8zG\n",
       "ZbgpGptjDTx8gQIcYpRHpt2rrIjwtWf70vHecaI/cGnQfnsY8znQksOKjIG0cRlmRYQJa62wS/YN\n",
       "wHm2SRl8XxVFhG8Qb+J6S9NKEFQkjxUgyCSXMZA2LsOicD0WYIK5QGknc4vsniGegd2svIjy5a5q\n",
       "PeElwCVF8sO53BKjyBjode4wfLY+FO8+zbDzdLn5kRF83W4X7Zbmio9BXkT56gbeyVjWoXyTvVaH\n",
       "rv66wiZPdbvfWEXCQNs4DOGkcPdFCl4URRN+93pDtPkaSZkfschiCGal98kt+AtF0STPfb0g/b/A\n",
       "i9IasShv36WO94h4vEv95wxT404eTYpu/w+AQRv3v1HbAu3o+Bn+APOAk+TatZR9AAAAAElFTkSu\n",
       "QmCC\n",
       "\" style=\"display:inline;vertical-align:middle;\" /></a></td></tr>\n",
       "<tr><td>1</td><td>Literal</td><td></td><td><a class=\"ProveItLink\" href=\"../../../../logic/equality/__pv_it/2fb26078095930560931daa0500ce419a39ea6cd0/expr.ipynb\"><img src=\"data:image/png;base64,iVBORw0KGgoAAAANSUhEUgAAAA4AAAAFBAMAAACHocAhAAAAFVBMVEX///9EREQiIiJUVFQyMjJm\n",
       "ZmYAAADubVkoAAAAAXRSTlMAQObYZgAAABRJREFUCNdjCHEBAWcGXCBICQQUAUpuAwlgGKrkAAAA\n",
       "AElFTkSuQmCC\n",
       "\" style=\"display:inline;vertical-align:middle;\" /></a></td></tr>\n",
       "<tr><td>2</td><td>ExprTuple</td><td>3, 4</td><td><a class=\"ProveItLink\" href=\"../df57918544ed4c50f558e23aa6e6acee353df42a0/expr.ipynb\"><img src=\"data:image/png;base64,iVBORw0KGgoAAAANSUhEUgAAAc8AAAAVBAMAAADShHjlAAAAMFBMVEX////c3NwiIiJERESqqqqY\n",
       "mJh2dnZmZmYQEBDu7u4yMjJUVFTMzMyIiIi6uroAAAAs73DqAAAAAXRSTlMAQObYZgAAArxJREFU\n",
       "WMPlWD9oU0Ec/vI/L8lroouDg5nELR10cNFunQpxcZRMKQhCUGykiw4OKqgRl4JDg1XE52BW6dBM\n",
       "KjiYUdHSp6NQmkoVnkPiS17T5Hd3v7uW1gz2IAnvu+/7fffdu0vuBTg0baL1/2e81Hv74L8iNRM1\n",
       "VF1yKfK2fNpoYK470s4K18fmz+GALBNN/+0lYJ03Dug47C2avIIN01rYRd1he+wJU9vA2tRBWdYB\n",
       "uwVreWXQ+0gS5oLPN0CBIPEtZPN6ka6uZPBk2aNIuoZwm6h1ltsAZ3kRSPY61ga9M2KB6PYU3qlh\n",
       "xR1FokNXVqSpK3NtjyLJu0h3iFpnuQOoLReAH9hV0Nc13HTpyHbW0b8JmvKQ6Ihq1tIQNDKFOWWv\n",
       "VV5tCrFQqAnIK6OIrytzxaB+C3vimFlLPmifEq/gubL3vZvKC66Z33QcmcsNo4ivK3MVQT+WqFpj\n",
       "yQftU6J1PFD1WvcRKQquqUlxHJ9ck4itq+Aqgi5Jq5C1ZIMGlIlb6Kh6021pC+GahCQ9k4itq+DK\n",
       "QROTUlDWkg0aUDLt0aDzjnPKcXrbIBtYJBzn6T3H6a8Xu0GRUBORXyYRU1dt4InIF1A1azkEOEs/\n",
       "6G3VNJxoSRM+jVBuFFn0AletiK2r4Ep3NFrBEaLWWbJ3NKD4S/eMqjfrL3y6hTIVxEjQbB3hTYNI\n",
       "XddSc6Wg74ALVK2xZIMGlFgds8qFXUGcfvsfLZevknHYRWyUDCJ13cW8kisGDZ0sz9Ljgc6S36N9\n",
       "iv/z8t2/qD58UaQrYG71M53eQrf7kyLT1WcwiNR1FzZV3MSNP9cJEu52u8I5SGM5AJgoKRfJnPKA\n",
       "IX/r8sjMHinf9m2gORmpEf8IGCuNAuvmp1UZWd8jpbhvAxkxUK4Ej2ljbsWxO1r1/pPmmJs9/n8Y\n",
       "0r39GToEf6V8Bf4C5n5+HFMWqgYAAAAASUVORK5CYII=\n",
       "\" style=\"display:inline;vertical-align:middle;\" /></a></td></tr>\n",
       "<tr><td>3</td><td>Operation</td><td>operator:&nbsp;6<br>operands:&nbsp;5<br></td><td><a class=\"ProveItLink\" href=\"../7c4ebe32948f91a2bb66560fce7b4951538416d70/expr.ipynb\"><img src=\"data:image/png;base64,iVBORw0KGgoAAAANSUhEUgAAANwAAAAQBAMAAACPXgx9AAAAMFBMVEX////MzMx2dna6uroiIiKq\n",
       "qqrc3NyYmJgyMjIQEBBmZmaIiIhUVFTu7u5EREQAAACN3imBAAAAAXRSTlMAQObYZgAAAVZJREFU\n",
       "OMtjYGB4y0AAsK3qM0AVYVTSCyCkC4e59/4S0pfDwP0VVSSLgfk3IV3Yzb1zBibMm4Audw1CnWVg\n",
       "8EdVoh/A8IWAJlzmcsOEWTeg64yGUDMvMJw3QFESD7cOpyZc5hK2rv8Cw3oDNCWwwKSCdZe0N6Lq\n",
       "BAbmBTSdHAcIacJhLoYw42SGFjTrGD+h6RTqIagJh7kYwjc3MDxHs47jAXq4cE8mpAmHuRjC5zGi\n",
       "gWEdZjTMv0BAEw5zIcJcHR0tMzo6QDHyDyK7oqPDs6MDHGjcB9CUJDIwvC8gpAm7ueiuYPuN4dAo\n",
       "BrYEZCW8/y+ArcOrCYe5GJ7+zsDAjqKTcQEDO4p1DD+AaTUBvyZc5mIIn2JgUETRmaKktARVyXYG\n",
       "5k8ENOEwl2vlj+Wowlzauy+g6PT//x+tDGFdtSKAgCZ85hIoIPAoIUsTpFzCELYmrIRETQDkVLLx\n",
       "V78j4wAAAABJRU5ErkJggg==\n",
       "\" style=\"display:inline;vertical-align:middle;\" /></a></td></tr>\n",
       "<tr><td>4</td><td>Operation</td><td>operator:&nbsp;6<br>operands:&nbsp;7<br></td><td><a class=\"ProveItLink\" href=\"../43ca585de036702331b7dda00733c2b9d0a68c600/expr.ipynb\"><img src=\"data:image/png;base64,iVBORw0KGgoAAAANSUhEUgAAAN0AAAAQBAMAAABgnGdDAAAAMFBMVEX///+qqqpmZmbc3NxUVFSY\n",
       "mJhEREQiIiIyMjK6uroQEBDMzMyIiIh2dnbu7u4AAAA4MM1YAAAAAXRSTlMAQObYZgAAAYlJREFU\n",
       "OMtjYMAC8tD4RhqZaCJ77yYyEAJsDxiIA8/+ofKZHRjOC6CKKDDMP0DAFL58AvbxGUDoJy7/UEVY\n",
       "HjCwf4CIPIZQvB8Z+AtQRDCM4XPxh9n3GLt9jDAX8/xDFeFax8DyEyIiA5VA2CeD05jzMPtkSLSP\n",
       "4x8D0090rbDwJNk+vrtnNuC3DwjY/6FrbUEzDNMYDPsgSnZN4CggaN/+C6hauW84oBmGaQyGfWAl\n",
       "fGsY2AII2teGETSnJqCIYDEG3T6IEpYPBOOPgYEpAcM+LtQQxmIMun0QJfwQo5g6OtpXdHQ4IOxD\n",
       "FjkCVqPR0VHV0QGKOOYNDGxfUUSwGAOxD12J/QHC/mNUYDBGcer7fxD7ECJYjEH3H0QJPzDUCcXf\n",
       "JgaGYBSt/A0M7J9RRTCNQbcPooRFgYGXQH5grr17CTV38wQwzEdNsViMwYg/iBLdM+dQfcOk9UMV\n",
       "RYT9////aKWJkFIjWgrCMEZpfVMADiXoqR+3CGbRJEOOJjDgPEBYZA4DQRH8mgD6YKdhwTvZsgAA\n",
       "AABJRU5ErkJggg==\n",
       "\" style=\"display:inline;vertical-align:middle;\" /></a></td></tr>\n",
       "<tr><td>5</td><td>ExprTuple</td><td>10, 11, 8, 9, 11, 10, 11</td><td><a class=\"ProveItLink\" href=\"../e4df7873210dd6984adcebc5c684ceeafa4f3d7f0/expr.ipynb\"><img src=\"data:image/png;base64,iVBORw0KGgoAAAANSUhEUgAAAIgAAAAVBAMAAABvbLv8AAAAMFBMVEX////c3NwiIiJERESqqqqY\n",
       "mJh2dnZmZmYQEBDu7u4yMjJUVFTMzMyIiIi6uroAAAAs73DqAAAAAXRSTlMAQObYZgAAAbdJREFU\n",
       "OMutlDFMwkAYhR8IQoESnBh0YHLVQQcXZXYRVycSE1gkuiiGODi4uEATE0N0MNEYY0wMTg4MOOng\n",
       "QBcnNagTcVKJJpBAvV7b6/UwXbDJ9d691/vS63894F+uqDrYfP8Lud2TNqSIUbwwa4hIZjnZN3GG\n",
       "H2yRdg5IcyLEU0HDmBtHtCsy9tr8KATIKqRqTYSEFXg/qFpN4ksID6sOiD+NoD6/IUKCuwj3qFro\n",
       "h0B2QKRtvOMvSKiNQM/68l13CKaw4YDs556syGs9GaqIoQ2hVhanPCRSxLGV19NGf3sBMWQQw5pH\n",
       "kYeUVUxbkBP28kUxZBDDaqLHQ2r2QgOTTJYUIWQQw6o7IS0b8mj2Y8BcSggZpGVCdjiIx66Dbw0j\n",
       "tH6aYkK40IKYVtNYpg7ROd9k61CBO2CRqg4wEZPgCHWIbWGJ1MeASPqWugZWqPCMZ7IJqh4Q/cFR\n",
       "gg8phFl6id+IzpfOUlIpRr5m7lmhwqtpWoIqX76QRPkTXBjY7KzbFnCJYMzamH2CU68uFtn2/rT1\n",
       "H0EUnEq5WMMqPQoGgxyQNmpqdsDZJx1Tspt1pRdiwONRvsEvn6yVh90wGKIAAAAASUVORK5CYII=\n",
       "\" style=\"display:inline;vertical-align:middle;\" /></a></td></tr>\n",
       "<tr><td>6</td><td>Literal</td><td></td><td><a class=\"ProveItLink\" href=\"../3e6688136fa3c7aefbebe51301b7c3ebf0b69c440/expr.ipynb\"><img src=\"data:image/png;base64,iVBORw0KGgoAAAANSUhEUgAAAA4AAAAOBAMAAADtZjDiAAAAJFBMVEX///+6urpUVFQQEBAiIiIy\n",
       "MjJmZmaIiIiqqqrc3Nzu7u4AAACgHpL+AAAAAXRSTlMAQObYZgAAAB5JREFUCNdjYGBgWMkAAe2k\n",
       "0Kmhoc6hoUGk6BMHYgAHOwjcado9fwAAAABJRU5ErkJggg==\n",
       "\" style=\"display:inline;vertical-align:middle;\" /></a></td></tr>\n",
       "<tr><td>7</td><td>ExprTuple</td><td>11, 10, 8, 9, 11, 10, 11</td><td><a class=\"ProveItLink\" href=\"../7a6a1ba5db1d23201697fd155a883d0f98cd76eb0/expr.ipynb\"><img src=\"data:image/png;base64,iVBORw0KGgoAAAANSUhEUgAAAIgAAAAVBAMAAABvbLv8AAAAMFBMVEX////c3NwiIiJERESqqqqY\n",
       "mJh2dnZmZmYQEBDu7u4yMjJUVFTMzMyIiIi6uroAAAAs73DqAAAAAXRSTlMAQObYZgAAAdhJREFU\n",
       "OMutlDFIAlEYx/+mpnem2eRQkFNrDTW0lHNL19okBLokuaQRDQ0tDelBEFFDUEREEDU1OOhUQYO3\n",
       "NESJ2SRNVhQk6PXuvdd53guH6uDu/d//e+/He+/77gH/8gS0v813P5LPjdVxqlyElieY6InNRYSJ\n",
       "49bOCnmPLX1pkkMcZyizuSEEGnbG5qe1JwN+y26kXJ5DfCq6alQtRPBqY+zm2iDuKLyq1Sjznncd\n",
       "viZV0yIE/jaItIpn/ASRP+Fpfp98ozMEo0gZrFip0A4hT9f3SPmMi63Egx1CrTgOibx+lMMCpBhl\n",
       "7eUJN3oy2LdBmDWFDFnIBpyKADkwF59h7baGMRuEWVWQnftqwpkAnhHTzDIzL54Js4oGpHfkB8g9\n",
       "bweASbbMNxHyxiFrwKAmQlxJ9NH86SqHOBoChFtVY0+9ZJAimRDKuQJmqKoDw0EafCd1xYIGpGVh\n",
       "luQHviS6C3thDpGM2nIMxeJhqm4R+AANXgDz1KIQ0zJS/ER0qnSH7Rci0tkjRcoGSZHouh6mypVe\n",
       "jrCgJ1FSqeVZqi+2LOAU3iDfaMW8G4KiqnSwSNm7eU1BMX8oiErpYHVrravg15Ad8vbztJlRTVT+\n",
       "Tta5kYg/Xo/+Ar4AfW6V4ZVMoZcAAAAASUVORK5CYII=\n",
       "\" style=\"display:inline;vertical-align:middle;\" /></a></td></tr>\n",
       "<tr><td>8</td><td>Literal</td><td></td><td><a class=\"ProveItLink\" href=\"../../../numeral/__pv_it/77d407a64829263cdc16415becd4c2293f77a4bf0/expr.ipynb\"><img src=\"data:image/png;base64,iVBORw0KGgoAAAANSUhEUgAAAAkAAAAOBAMAAAAPuiubAAAAMFBMVEX///+YmJh2dnbMzMwQEBAi\n",
       "IiLu7u6qqqqIiIhUVFS6urpEREQyMjJmZmbc3NwAAACOMKdoAAAAAXRSTlMAQObYZgAAAFBJREFU\n",
       "CNdj4Lt7egEDw0sGju8MDNMYGOIZGFwSGOYvYDifwHAfKAEUSQASzJ9ATJ4NIPI2iOCYACJrGfge\n",
       "MDBfYGB8wPBUSekqUPH//18ZAIliFhc3zESNAAAAAElFTkSuQmCC\n",
       "\" style=\"display:inline;vertical-align:middle;\" /></a></td></tr>\n",
       "<tr><td>9</td><td>Literal</td><td></td><td><a class=\"ProveItLink\" href=\"../../../numeral/__pv_it/9176d93c83afa2c995b614976e3cb49207102fa70/expr.ipynb\"><img src=\"data:image/png;base64,iVBORw0KGgoAAAANSUhEUgAAAAoAAAAOBAMAAADkjZCYAAAAMFBMVEX///+YmJju7u4QEBBUVFQy\n",
       "MjIiIiKIiIi6urpmZmbc3NyqqqpERER2dnbMzMwAAAB0GlNiAAAAAXRSTlMAQObYZgAAAE1JREFU\n",
       "CNdjYHh79zQDA9cEhv4CBt7fDPwJDNxgEgiAIkAQAsR8Vx1ATIbiBhDJ/ImB6wEDz0cG/U8gkj+A\n",
       "ge0XA7sAQ/8FBoadM6MZAEflFACalZ/OAAAAAElFTkSuQmCC\n",
       "\" style=\"display:inline;vertical-align:middle;\" /></a></td></tr>\n",
       "<tr><td>10</td><td>Literal</td><td></td><td><a class=\"ProveItLink\" href=\"../../../numeral/__pv_it/9be8badea4c35b9724062cecc501d17a3158d1d20/expr.ipynb\"><img src=\"data:image/png;base64,iVBORw0KGgoAAAANSUhEUgAAAAgAAAAPBAMAAAArJJMAAAAAHlBMVEX///+YmJgyMjIQEBBmZmaI\n",
       "iIhUVFTu7u5EREQAAAAw+MI4AAAAAXRSTlMAQObYZgAAACFJREFUCNdjYGBoZ2BgqJjOwFCWBiQY\n",
       "WEklWJwnOTKAAACjEQo8HvEr3AAAAABJRU5ErkJggg==\n",
       "\" style=\"display:inline;vertical-align:middle;\" /></a></td></tr>\n",
       "<tr><td>11</td><td>Variable</td><td></td><td><a class=\"ProveItLink\" href=\"../../../../__pv_it/cbdfda466482236edba0ce44ac7ef39cda0af7a40/expr.ipynb\"><img src=\"data:image/png;base64,iVBORw0KGgoAAAANSUhEUgAAAAkAAAAJBAMAAAASvxsjAAAALVBMVEX///9mZmbc3NxUVFSYmJhE\n",
       "REQiIiIyMjK6uroQEBDMzMyIiIh2dnbu7u4AAABgFDGoAAAAAXRSTlMAQObYZgAAADZJREFUCNdj\n",
       "YOA9s3sBA8PKBvYEBt7ZDKwODMwPGICALwBE6m0Asx0YGIDiAgw8QJUyu/cyAAAmuwmycZ8WfQAA\n",
       "AABJRU5ErkJggg==\n",
       "\" style=\"display:inline;vertical-align:middle;\" /></a></td></tr>\n",
       "</table>\n"
      ],
      "text/plain": [
       "0. (1 + c + 2 + 3 + c + 1 + c) = (c + 1 + 2 + 3 + c + 1 + c)\n",
       "   core type: Operation\n",
       "   operator: 1\n",
       "   operands: 2\n",
       "1. =\n",
       "   core type: Literal\n",
       "   sub-expressions: \n",
       "2. (1 + c + 2 + 3 + c + 1 + c , c + 1 + 2 + 3 + c + 1 + c)\n",
       "   core type: ExprTuple\n",
       "   sub-expressions: 3, 4\n",
       "3. 1 + c + 2 + 3 + c + 1 + c\n",
       "   core type: Operation\n",
       "   operator: 6\n",
       "   operands: 5\n",
       "4. c + 1 + 2 + 3 + c + 1 + c\n",
       "   core type: Operation\n",
       "   operator: 6\n",
       "   operands: 7\n",
       "5. (1 , c , 2 , 3 , c , 1 , c)\n",
       "   core type: ExprTuple\n",
       "   sub-expressions: 10, 11, 8, 9, 11, 10, 11\n",
       "6. +\n",
       "   core type: Literal\n",
       "   sub-expressions: \n",
       "7. (c , 1 , 2 , 3 , c , 1 , c)\n",
       "   core type: ExprTuple\n",
       "   sub-expressions: 11, 10, 8, 9, 11, 10, 11\n",
       "8. 2\n",
       "   core type: Literal\n",
       "   sub-expressions: \n",
       "9. 3\n",
       "   core type: Literal\n",
       "   sub-expressions: \n",
       "10. 1\n",
       "    core type: Literal\n",
       "    sub-expressions: \n",
       "11. c\n",
       "    core type: Variable\n",
       "    sub-expressions: "
      ]
     },
     "execution_count": 4,
     "metadata": {},
     "output_type": "execute_result"
    }
   ],
   "source": [
    "# display the expression information\n",
    "expr.exprInfo()"
   ]
  },
  {
   "cell_type": "code",
   "execution_count": null,
   "metadata": {},
   "outputs": [],
   "source": []
  }
 ],
 "metadata": {
  "kernelspec": {
   "display_name": "Python 3",
   "language": "python",
   "name": "python3"
  }
 },
 "nbformat": 4,
 "nbformat_minor": 0
}
