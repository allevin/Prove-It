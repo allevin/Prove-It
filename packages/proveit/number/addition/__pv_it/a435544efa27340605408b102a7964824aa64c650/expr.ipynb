{
 "cells": [
  {
   "cell_type": "markdown",
   "metadata": {},
   "source": [
    "Expression of type <a class=\"ProveItLink\" href=\"../../../../../../doc/html/api/proveit.logic.Set.html\">Set</a>\n",
    "=======================\n",
    "# from context <a class=\"ProveItLink\" href=\"../../_context_.ipynb\">proveit.number.addition</a>"
   ]
  },
  {
   "cell_type": "code",
   "execution_count": 1,
   "metadata": {},
   "outputs": [],
   "source": [
    "# import Expression classes needed to build the expression\n",
    "from proveit._common_ import a, b\n",
    "from proveit.logic import InSet, Set\n",
    "from proveit.number import Reals"
   ]
  },
  {
   "cell_type": "code",
   "execution_count": 2,
   "metadata": {},
   "outputs": [
    {
     "data": {
      "text/html": [
       "<strong id=\"expr\">expr:</strong> <a class=\"ProveItLink\" href=\"expr.ipynb\"><img src=\"data:image/png;base64,iVBORw0KGgoAAAANSUhEUgAAAIEAAAAVBAMAAACTeZA2AAAAMFBMVEX///9ERETc3NyqqqpUVFS6\n",
       "urrMzMwyMjIQEBCIiIh2dnYiIiLu7u5mZmaYmJgAAABJJ2g3AAAAAXRSTlMAQObYZgAAAdxJREFU\n",
       "OMtjYGDgu8dAJmBbpQCieHYxkA3YmkEk5wdscs8/ype3T4CweTw2oEry1Qt+r6gEsa6DCK4GrMYL\n",
       "qDAkmitA2OwOaJKMTA5swkVAxgp8JugyMB4SgLD5DTBMuMAgo4jdBJ7pu3cXQE3gSoCaEH8ATRJk\n",
       "wjJG7Cakv0G4AW7CanRJLCYweS5tAnGYZJB8wQLzRclMP1RJkAk+cF/wgtwVocAIjhJGBSQTop9D\n",
       "eDwfGfgTUCSBJrDuA4XkexAvIwBo+j8GXrB9BxEhqbF7OzQAmf8wcCxAkWRk6t5dDI6lCwwMKW1A\n",
       "BssHBm5w5Efs3g0PyVhGaAACXcl/AUWSkenqBYiXxB8AxYEO5BdgOA9yJ0MKUmzyhkGTAfcFhvgH\n",
       "KJJAX1wF87hBbmMBmqo/gcGeAWTjaeT0UDMPnhzuo0oCTWA/+QAWDlzAJHvegMGdGeQIlgdIJqSw\n",
       "JDDwgExIYOhiQJEEmsDm4IYcm+wPmPdygYN9K5IJXAZCDOeB5rMY8DqgSoJiczEoauAmMHlOTZwK\n",
       "llO/Bs9ZYgyF9QYnPgF1ekLzP0wSmLM+JrCLf8aeL0yqIcENA0H4JPHmLBh4gFcWbAIfJSaAywee\n",
       "nfiUcOIvo1oh4bKYonISAK+diKFubep1AAAAAElFTkSuQmCC\n",
       "\" style=\"display:inline;vertical-align:middle;\" /></a><br>"
      ],
      "text/plain": [
       "expr: {a in Reals , b in Reals}"
      ]
     },
     "execution_count": 2,
     "metadata": {},
     "output_type": "execute_result"
    }
   ],
   "source": [
    "# build up the expression from sub-expressions\n",
    "expr = Set(InSet(a, Reals), InSet(b, Reals))"
   ]
  },
  {
   "cell_type": "code",
   "execution_count": 3,
   "metadata": {},
   "outputs": [
    {
     "name": "stdout",
     "output_type": "stream",
     "text": [
      "Passed sanity check: built 'expr' is the same as the stored Expression.\n"
     ]
    }
   ],
   "source": [
    "# check that the built expression is the same as the stored expression\n",
    "%check_expr"
   ]
  },
  {
   "cell_type": "code",
   "execution_count": 4,
   "metadata": {},
   "outputs": [
    {
     "data": {
      "text/html": [
       "<table><tr><th>&nbsp;</th><th>core type</th><th>sub-expressions</th><th>expression</th></tr>\n",
       "<tr><td>0</td><td>Operation</td><td>operator:&nbsp;1<br>operands:&nbsp;2<br></td><td><a class=\"ProveItLink\" href=\"expr.ipynb\"><img src=\"data:image/png;base64,iVBORw0KGgoAAAANSUhEUgAAAIEAAAAVBAMAAACTeZA2AAAAMFBMVEX///9ERETc3NyqqqpUVFS6\n",
       "urrMzMwyMjIQEBCIiIh2dnYiIiLu7u5mZmaYmJgAAABJJ2g3AAAAAXRSTlMAQObYZgAAAdxJREFU\n",
       "OMtjYGDgu8dAJmBbpQCieHYxkA3YmkEk5wdscs8/ype3T4CweTw2oEry1Qt+r6gEsa6DCK4GrMYL\n",
       "qDAkmitA2OwOaJKMTA5swkVAxgp8JugyMB4SgLD5DTBMuMAgo4jdBJ7pu3cXQE3gSoCaEH8ATRJk\n",
       "wjJG7Cakv0G4AW7CanRJLCYweS5tAnGYZJB8wQLzRclMP1RJkAk+cF/wgtwVocAIjhJGBSQTop9D\n",
       "eDwfGfgTUCSBJrDuA4XkexAvIwBo+j8GXrB9BxEhqbF7OzQAmf8wcCxAkWRk6t5dDI6lCwwMKW1A\n",
       "BssHBm5w5Efs3g0PyVhGaAACXcl/AUWSkenqBYiXxB8AxYEO5BdgOA9yJ0MKUmzyhkGTAfcFhvgH\n",
       "KJJAX1wF87hBbmMBmqo/gcGeAWTjaeT0UDMPnhzuo0oCTWA/+QAWDlzAJHvegMGdGeQIlgdIJqSw\n",
       "JDDwgExIYOhiQJEEmsDm4IYcm+wPmPdygYN9K5IJXAZCDOeB5rMY8DqgSoJiczEoauAmMHlOTZwK\n",
       "llO/Bs9ZYgyF9QYnPgF1ekLzP0wSmLM+JrCLf8aeL0yqIcENA0H4JPHmLBh4gFcWbAIfJSaAywee\n",
       "nfiUcOIvo1oh4bKYonISAK+diKFubep1AAAAAElFTkSuQmCC\n",
       "\" style=\"display:inline;vertical-align:middle;\" /></a></td></tr>\n",
       "<tr><td>1</td><td>Literal</td><td></td><td><a class=\"ProveItLink\" href=\"../../../../logic/set_theory/enumeration/__pv_it/07381ed5b23806e8d7914b78cb6667769e3708dd0/expr.ipynb\"><img src=\"data:image/png;base64,iVBORw0KGgoAAAANSUhEUgAAAB4AAAAOBAMAAADKyLEKAAAAMFBMVEX///8iIiIQEBCIiIjMzMzc\n",
       "3Nyqqqp2dnZEREQyMjK6urru7u5mZmZUVFSYmJgAAACI6eGPAAAAAXRSTlMAQObYZgAAALRJREFU\n",
       "CNdjYGDgu3Nm3wIGBJjHwN0PZW5yYGDgLWBgyITy8zcwMMQDxZyh/INAvD6BgcEFypcB4vjPDiBm\n",
       "TPFRrhs/LjMwMP//38rAwCbKEMPA9gEkE3fp0waG+AUMRxh4JkC01T9guPTOOICBEWgVH5C//wHD\n",
       "H5D4fqCz9oCMDGD4DLaegRXslLMMDMpAgxlOMmQxHDRgYG5gYLBk4D7KcIe7gOHC2rt9QCXsh40Z\n",
       "GCKMGQDRkC8N/Ph1XAAAAABJRU5ErkJggg==\n",
       "\" style=\"display:inline;vertical-align:middle;\" /></a></td></tr>\n",
       "<tr><td>2</td><td>ExprTuple</td><td>3, 4</td><td><a class=\"ProveItLink\" href=\"../79ad56f8c24e7a3a00a1e0b254ace03437d5ae8a0/expr.ipynb\"><img src=\"data:image/png;base64,iVBORw0KGgoAAAANSUhEUgAAAHoAAAAVBAMAAAB71edYAAAAMFBMVEX////c3NwiIiJERESqqqqY\n",
       "mJh2dnZmZmYQEBDu7u4yMjJUVFTMzMyIiIi6uroAAAAs73DqAAAAAXRSTlMAQObYZgAAAexJREFU\n",
       "OMtjYKAM8F0gUyPrAyBxGotE1Gf7VV1QUzl3KKDpWm/8a8VaIKMGiFdiM9dAmuGwlwCEzbUBTZKZ\n",
       "cQOPyUKgBAMDL1aHG4gzME80gLD5HTB0FzBYCgMdkcDAMQFJnPOWktICqG62A1Dd7yegSYJ05zAD\n",
       "BRoYXiGbeioSYTdcdxK6JEw3gwlDGZBk3JvXCBJmtERyOTfM5avvbkWVBOneCXQ5QzrDUiD5QoD5\n",
       "A1hYAEn3oygIj/MzA/8BFEmgbj5VYKgxeDH0AU39ysAOtmcyItQklLSggcXyk4EjAUWSmbFJaQmI\n",
       "8YLhHwMD9wcGJnDIv1BSgofac2ZoYLEvYOAvQJFkZqwrAHvjPEg3vwHDfJDbkBKOgTj7G2g0MxUw\n",
       "vA9AkQS6vO40RHcLA4P8BQZ/BpBNk5Dje+VVeHTXo0oCdXPNDQC73JSBYb4Dwy4WkOXcAUi6T3Mf\n",
       "YOAE6T7A0MaAIgnUzbNhDyhBA0OdgSuARZ0NHLx6SLrZHAwZ5gOTOLcD+wZUSVCMpYCiIJ3hESi6\n",
       "7x2+BxaXqoHnEhuGxesdZnwE6tpbyoAiCcwlnw9wWX1hYFjHwCGAnNi8F0GCFQYe4pMEplTWBHx5\n",
       "OACfJNsFHDmUKN2zgFgajzwv3sJlIyj1k1sy8R5gAAALVX6Xw9uDZwAAAABJRU5ErkJggg==\n",
       "\" style=\"display:inline;vertical-align:middle;\" /></a></td></tr>\n",
       "<tr><td>3</td><td>Operation</td><td>operator:&nbsp;6<br>operands:&nbsp;5<br></td><td><a class=\"ProveItLink\" href=\"../12e1039409d0a183701ae59c5c952745fb6478810/expr.ipynb\"><img src=\"data:image/png;base64,iVBORw0KGgoAAAANSUhEUgAAADMAAAAPBAMAAAC7N+rPAAAAMFBMVEX///8yMjKqqqrMzMzu7u4i\n",
       "IiJmZmaYmJhEREQQEBC6urp2dnaIiIhUVFTc3NwAAAD87Fq/AAAAAXRSTlMAQObYZgAAAMNJREFU\n",
       "GNNjYMAAhT/6BSceYMAKGt4yWCg+wC71jIHDrwFZhOVgaKgAVIrbAEXKsAShCyLFd2fXPJAAXwuS\n",
       "gbxgA1c+4PgAEuB4gCS1tBDI4/vOwAY21wPhjJehgQpAmvcDAyvYEytDQ+HOWMbhAKT5Gxj8DUAC\n",
       "tkiOZ1t8AUi/P8CgzwBS44rsL5HjQNpfgeEiE0gbbwGSlC0vUIixgCmMG+zjKCQpboU+kLdOWZwC\n",
       "izxMhgdvM4OEvAJycOiKQlwIBQB1/jwDBuYV5wAAAABJRU5ErkJggg==\n",
       "\" style=\"display:inline;vertical-align:middle;\" /></a></td></tr>\n",
       "<tr><td>4</td><td>Operation</td><td>operator:&nbsp;6<br>operands:&nbsp;7<br></td><td><a class=\"ProveItLink\" href=\"../15fb2bb12930eb9e83d19f307ca8613a31e6e8120/expr.ipynb\"><img src=\"data:image/png;base64,iVBORw0KGgoAAAANSUhEUgAAADEAAAAPBAMAAAC/wjryAAAAMFBMVEX////c3NxmZmbMzMxERESY\n",
       "mJiIiIh2dna6urqqqqoyMjIiIiIQEBBUVFTu7u4AAAAiO1wTAAAAAXRSTlMAQObYZgAAAM1JREFU\n",
       "GNNj4LuzgQEFRH3xX3UqAcTiuoAqw+Agy2AySwDI4J+ALiPEwPLQAcjofwAR4MvavXsBVIbdACRT\n",
       "DVVqFYfQA5FZm3YVxGf0QzKNF2Qa3xcGfgMgn0UASaY7Csjj/MfAUwDkP0G4QGb3LpCrmBYw8CsA\n",
       "6Z7du+EuaGIBuYpbgaE/AEjbIrmaqfkCxDv6IBWvkf2zLhUkY8BwHMTnDUCSseUFOop3AhM4ePh2\n",
       "IMmwT3AEilxThQhIKcND1JlhyXrkMJu7GuI2KAAAUFI1u0jGT1kAAAAASUVORK5CYII=\n",
       "\" style=\"display:inline;vertical-align:middle;\" /></a></td></tr>\n",
       "<tr><td>5</td><td>ExprTuple</td><td>8, 10</td><td><a class=\"ProveItLink\" href=\"../2aa3c33b979b37cda7b84a5e2308eb5c8291c7180/expr.ipynb\"><img src=\"data:image/png;base64,iVBORw0KGgoAAAANSUhEUgAAAC8AAAAVBAMAAAAk6KpUAAAAMFBMVEX////c3NwiIiJERESqqqqY\n",
       "mJh2dnZmZmYQEBDu7u4yMjJUVFTMzMyIiIi6uroAAAAs73DqAAAAAXRSTlMAQObYZgAAARVJREFU\n",
       "KM9jYMAJ+C5gisWBiNNIAlGf7Vd1ARWyHwByViIrNZBmOOwlwMCwgIGBF8UkA3EG5okGDAxhDAwc\n",
       "E9Ak2A4AJWYwMLxiwCbB7MBQBuQy7s1rhEtwg4xiK2BYCuS+EGD+AJd4FAW0nGUBQx9Qw1cGdgOo\n",
       "hISSlgPIcw0M/xgYuD8wMF2A6XjODHINzweQBL8Bw/wDMAn2NxsgEi0MDPIXGPwZJsDsWHkVYpQp\n",
       "A8N8B4ZdLAc4oRKnuYG6WRcwpDMwcAWwqLMxzFeA+sPBEOzcRyBv3Dt8j2HGR3Ag2jAsXu/AwPWA\n",
       "gUMA5uuHSCEADBLWBBgnAEkiFznYkSQ4gcHOIA3l8CJp4AaZz4glau8wMAAAODBDl6KECvwAAAAA\n",
       "SUVORK5CYII=\n",
       "\" style=\"display:inline;vertical-align:middle;\" /></a></td></tr>\n",
       "<tr><td>6</td><td>Literal</td><td></td><td><a class=\"ProveItLink\" href=\"../../../../logic/set_theory/membership/__pv_it/088cbc857536a28d4119ad9639a84270ccb0545d0/expr.ipynb\"><img src=\"data:image/png;base64,iVBORw0KGgoAAAANSUhEUgAAAAwAAAAMBAMAAACkW0HUAAAALVBMVEX///+qqqpmZmZUVFQQEBC6\n",
       "urpERETc3NyYmJjMzMwiIiIyMjKIiIju7u4AAACYsrA9AAAAAXRSTlMAQObYZgAAADxJREFUCNdj\n",
       "YOA9vWrVBgaG2b0MQMCeCyIZ2ArA1DUwyRCyahVIyWQI7xaEYm4AU7xLIdxqTQgtvGvVBgCkcQ7e\n",
       "geM/tQAAAABJRU5ErkJggg==\n",
       "\" style=\"display:inline;vertical-align:middle;\" /></a></td></tr>\n",
       "<tr><td>7</td><td>ExprTuple</td><td>9, 10</td><td><a class=\"ProveItLink\" href=\"../0a147b031711051fe3792dda0aa2f38c2fa47ff90/expr.ipynb\"><img src=\"data:image/png;base64,iVBORw0KGgoAAAANSUhEUgAAAC0AAAAVBAMAAAAgHXppAAAAMFBMVEX////c3NwiIiJERESqqqqY\n",
       "mJh2dnZmZmYQEBDu7u4yMjJUVFTMzMyIiIi6uroAAAAs73DqAAAAAXRSTlMAQObYZgAAARxJREFU\n",
       "GNNjYMAF+C5gCMWBiNMMnDsUIPyoz/aruoDK2A8AOSsZGLg2QBUaSDMc9hJgYFjAwMALlOd3gImL\n",
       "MzBPNGBgCGNg4JjAwPB+AkKc7QBQfAYDwysgN4kBTZzZgaEMyF19dytcnBtkDlsBw1IGBs7PDPwH\n",
       "YOKPooD2sixg6AOSPxk4EiDiEkpaIDfwNTD8Azp3AQN/AVT9c2aQG3g+gMSZChjeB0DF2d9sgIi3\n",
       "gJ1fPwFm/sqrEHNMGUCWtjFwQsVPcwOdwLqAIZ2BgduBfQPDfAWo+x0Mwe58BHTn3lKgFz+Cw82G\n",
       "YfF6BwauBwwcAlC/PkQKaGA4sCZA2QFI4rmQcEYX5wSGM4M0hM2LpJwbZDYjZjzeYWAAANnCRHNE\n",
       "83/GAAAAAElFTkSuQmCC\n",
       "\" style=\"display:inline;vertical-align:middle;\" /></a></td></tr>\n",
       "<tr><td>8</td><td>Variable</td><td></td><td><a class=\"ProveItLink\" href=\"../../../../__pv_it/07527342713064c87612d00d8557c53d53d5324a0/expr.ipynb\"><img src=\"data:image/png;base64,iVBORw0KGgoAAAANSUhEUgAAAAsAAAAJBAMAAAAWSsseAAAAMFBMVEX///8yMjKqqqrMzMzu7u4i\n",
       "IiJmZmaYmJhEREQQEBC6urp2dnaIiIhUVFTc3NwAAAD87Fq/AAAAAXRSTlMAQObYZgAAAEhJREFU\n",
       "CNdjYOC7s2seAwPDygccHxgY+L4zsDUwMPB+YGA9wMDA38Dgb8DA8P4Agz6DA4O/AsNFJgMGxgKm\n",
       "MG6gyjunLE4xAAAZTBA5TB6DCwAAAABJRU5ErkJggg==\n",
       "\" style=\"display:inline;vertical-align:middle;\" /></a></td></tr>\n",
       "<tr><td>9</td><td>Variable</td><td></td><td><a class=\"ProveItLink\" href=\"../../../../__pv_it/6840a4fa6c106149dc16a131294d0c5e44f1b0480/expr.ipynb\"><img src=\"data:image/png;base64,iVBORw0KGgoAAAANSUhEUgAAAAkAAAAOBAMAAAAPuiubAAAALVBMVEX///9mZmbMzMxERESYmJiI\n",
       "iIh2dna6urqqqqoyMjIiIiIQEBBUVFTu7u4AAAD9S1JeAAAAAXRSTlMAQObYZgAAAE1JREFUCNdj\n",
       "4D29gAEIOA+ASL4GEFl3AURmgQiGOaFHGBh4HzPwKTBwvGXgTmBgnMDAJ8DAJcBQ5wBSLncBJLWN\n",
       "gYGngRFoBO9REQYGAGrcDtUkVqASAAAAAElFTkSuQmCC\n",
       "\" style=\"display:inline;vertical-align:middle;\" /></a></td></tr>\n",
       "<tr><td>10</td><td>Literal</td><td></td><td><a class=\"ProveItLink\" href=\"../../../sets/real/__pv_it/9e7645ee1117062e179dd6264898f99ed95b157c0/expr.ipynb\"><img src=\"data:image/png;base64,iVBORw0KGgoAAAANSUhEUgAAAA8AAAAOBAMAAAACpFvcAAAAMFBMVEX///8iIiK6urp2dnbu7u5m\n",
       "ZmaqqqrMzMxUVFTc3NyIiIgQEBBEREQyMjKYmJgAAAA9nvXMAAAAAXRSTlMAQObYZgAAAFJJREFU\n",
       "CNdjePvn/N29CxiA4MAMhprcCSDGVAYezwMQBnMBOoMDJqX4Fqx4tqBsAlj7VFUeBwiDVb0BwmC4\n",
       "sg7KqOAogJqTcJKBAWjpcYY79xMAyqEnfsw4ApEAAAAASUVORK5CYII=\n",
       "\" style=\"display:inline;vertical-align:middle;\" /></a></td></tr>\n",
       "</table>\n"
      ],
      "text/plain": [
       "0. {a in Reals , b in Reals}\n",
       "   core type: Operation\n",
       "   operator: 1\n",
       "   operands: 2\n",
       "1. Set\n",
       "   core type: Literal\n",
       "   sub-expressions: \n",
       "2. (a in Reals , b in Reals)\n",
       "   core type: ExprTuple\n",
       "   sub-expressions: 3, 4\n",
       "3. a in Reals\n",
       "   core type: Operation\n",
       "   operator: 6\n",
       "   operands: 5\n",
       "4. b in Reals\n",
       "   core type: Operation\n",
       "   operator: 6\n",
       "   operands: 7\n",
       "5. (a , Reals)\n",
       "   core type: ExprTuple\n",
       "   sub-expressions: 8, 10\n",
       "6. in\n",
       "   core type: Literal\n",
       "   sub-expressions: \n",
       "7. (b , Reals)\n",
       "   core type: ExprTuple\n",
       "   sub-expressions: 9, 10\n",
       "8. a\n",
       "   core type: Variable\n",
       "   sub-expressions: \n",
       "9. b\n",
       "   core type: Variable\n",
       "   sub-expressions: \n",
       "10. Reals\n",
       "    core type: Literal\n",
       "    sub-expressions: "
      ]
     },
     "execution_count": 4,
     "metadata": {},
     "output_type": "execute_result"
    }
   ],
   "source": [
    "# display the expression information\n",
    "expr.exprInfo()"
   ]
  },
  {
   "cell_type": "code",
   "execution_count": null,
   "metadata": {},
   "outputs": [],
   "source": []
  }
 ],
 "metadata": {
  "kernelspec": {
   "display_name": "Python 3",
   "language": "python",
   "name": "python3"
  }
 },
 "nbformat": 4,
 "nbformat_minor": 0
}
