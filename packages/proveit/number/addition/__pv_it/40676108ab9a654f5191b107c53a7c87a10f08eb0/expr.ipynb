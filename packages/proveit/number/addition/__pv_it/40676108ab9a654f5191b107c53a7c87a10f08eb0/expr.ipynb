{
 "cells": [
  {
   "cell_type": "markdown",
   "metadata": {},
   "source": [
    "Expression of type <a class=\"ProveItLink\" href=\"../../../../../../doc/html/api/proveit.number.Add.html\">Add</a>\n",
    "=======================\n",
    "# from context <a class=\"ProveItLink\" href=\"../../_context_.ipynb\">proveit.number.addition</a>"
   ]
  },
  {
   "cell_type": "code",
   "execution_count": 1,
   "metadata": {},
   "outputs": [],
   "source": [
    "# import Expression classes needed to build the expression\n",
    "from proveit.number import Add, one, three"
   ]
  },
  {
   "cell_type": "code",
   "execution_count": 2,
   "metadata": {},
   "outputs": [
    {
     "data": {
      "text/html": [
       "<strong id=\"expr\">expr:</strong> <a class=\"ProveItLink\" href=\"expr.ipynb\"><img src=\"data:image/png;base64,iVBORw0KGgoAAAANSUhEUgAAAF8AAAAVBAMAAADSoS/MAAAAMFBMVEX////c3NwiIiJERESqqqqY\n",
       "mJh2dnZmZmYQEBDu7u4yMjJUVFTMzMyIiIi6uroAAAAs73DqAAAAAXRSTlMAQObYZgAAAQdJREFU\n",
       "OMtjYCAZ8F3AIcH6ALv4aSBmnoAuChKpQRPjSUt2AFIrGRg47dE1gEW40ATFGfj+MjDwXmDg3L0f\n",
       "pmEiVD1YhDUBVTTfgeETAwMHSO19mAZfmGkgEc4GVFF/sIZXDDg1MJigi4KcVIZHQzq6KNcGBoal\n",
       "eDR4oYkeWw0k+vBoeIEuygtU/Q+PhvPoogz9E5A1VK1apbFq1Wo0DQhRGQYG+wCGFqKdxPl/AkiD\n",
       "KR4NUaiivxgY9AUgQUdcsF5l4PvGwPAIyCrvXx6AqgEisg5VA0t5FTDxcQggpy9flBTYgE0UnsLA\n",
       "4C0yh+0CNlFQ8sYBZmEXlsapYSN2YUZcWZT3ADZRAMUFYoWVJavvAAAAAElFTkSuQmCC\n",
       "\" style=\"display:inline;vertical-align:middle;\" /></a><br>"
      ],
      "text/plain": [
       "expr: (1 + 1) + 3"
      ]
     },
     "execution_count": 2,
     "metadata": {},
     "output_type": "execute_result"
    }
   ],
   "source": [
    "# build up the expression from sub-expressions\n",
    "expr = Add(Add(one, one), three)"
   ]
  },
  {
   "cell_type": "code",
   "execution_count": 3,
   "metadata": {},
   "outputs": [
    {
     "name": "stdout",
     "output_type": "stream",
     "text": [
      "Passed sanity check: built 'expr' is the same as the stored Expression.\n"
     ]
    }
   ],
   "source": [
    "# check that the built expression is the same as the stored expression\n",
    "%check_expr"
   ]
  },
  {
   "cell_type": "code",
   "execution_count": 4,
   "metadata": {},
   "outputs": [
    {
     "data": {
      "text/html": [
       "<table><tr><th>&nbsp;</th><th>core type</th><th>sub-expressions</th><th>expression</th></tr>\n",
       "<tr><td>0</td><td>Operation</td><td>operator:&nbsp;4<br>operands:&nbsp;1<br></td><td><a class=\"ProveItLink\" href=\"expr.ipynb\"><img src=\"data:image/png;base64,iVBORw0KGgoAAAANSUhEUgAAAF8AAAAVBAMAAADSoS/MAAAAMFBMVEX////c3NwiIiJERESqqqqY\n",
       "mJh2dnZmZmYQEBDu7u4yMjJUVFTMzMyIiIi6uroAAAAs73DqAAAAAXRSTlMAQObYZgAAAQdJREFU\n",
       "OMtjYCAZ8F3AIcH6ALv4aSBmnoAuChKpQRPjSUt2AFIrGRg47dE1gEW40ATFGfj+MjDwXmDg3L0f\n",
       "pmEiVD1YhDUBVTTfgeETAwMHSO19mAZfmGkgEc4GVFF/sIZXDDg1MJigi4KcVIZHQzq6KNcGBoal\n",
       "eDR4oYkeWw0k+vBoeIEuygtU/Q+PhvPoogz9E5A1VK1apbFq1Wo0DQhRGQYG+wCGFqKdxPl/AkiD\n",
       "KR4NUaiivxgY9AUgQUdcsF5l4PvGwPAIyCrvXx6AqgEisg5VA0t5FTDxcQggpy9flBTYgE0UnsLA\n",
       "4C0yh+0CNlFQ8sYBZmEXlsapYSN2YUZcWZT3ADZRAMUFYoWVJavvAAAAAElFTkSuQmCC\n",
       "\" style=\"display:inline;vertical-align:middle;\" /></a></td></tr>\n",
       "<tr><td>1</td><td>ExprTuple</td><td>2, 3</td><td><a class=\"ProveItLink\" href=\"../0082af803057536c94be963f43014ffe83b90fbb0/expr.ipynb\"><img src=\"data:image/png;base64,iVBORw0KGgoAAAANSUhEUgAAAE0AAAAVBAMAAADx+n4ZAAAAMFBMVEX////c3NwiIiJERESqqqqY\n",
       "mJh2dnZmZmYQEBDu7u4yMjJUVFTMzMyIiIi6uroAAAAs73DqAAAAAXRSTlMAQObYZgAAARRJREFU\n",
       "KM9jYCAW8F0gqCQORJwGYuYJ6FIwEZ60ZAcG9gNA1koGBk57dHVwEXEGvr8MDAsYGHgvMHDu3g9T\n",
       "NxGqDC6S78DwiYEhjIGBAyRwH6bOF2YgTMQfrG4GA8MrBrzqGMD2MjswlBFSx7WBgYGtgGEpAXXH\n",
       "VgMJlgUMfYTM4wWq4Gtg+EdIHUP/BAaeD8jqqlat0li1ajWKOhkGBvsAkLoWvOZx/p8AUge01xS3\n",
       "OpDgLwYGfQEG1gUM6TjVcQIDmOEqA983cLg8AnLK+5cHoKoDiXD2CwBDpLzKARiGDxg4BJDj3xcl\n",
       "xcGlgPHGmoAs9RaZwwpn5ULSFQ4AV8cJTFcM0jjVwRM6N8gBjITT/R0GBgA9h10qg7pY4gAAAABJ\n",
       "RU5ErkJggg==\n",
       "\" style=\"display:inline;vertical-align:middle;\" /></a></td></tr>\n",
       "<tr><td>2</td><td>Operation</td><td>operator:&nbsp;4<br>operands:&nbsp;5<br></td><td><a class=\"ProveItLink\" href=\"../2d86c629ba17e16ade8deb174f23e70e439554b90/expr.ipynb\"><img src=\"data:image/png;base64,iVBORw0KGgoAAAANSUhEUgAAACsAAAAQBAMAAAB9zpudAAAAKlBMVEX///+6uroiIiKqqqrc3NyY\n",
       "mJgyMjIQEBBmZmaIiIhUVFTu7u5EREQAAACV7Se0AAAAAXRSTlMAQObYZgAAAE9JREFUGNNjYGA4\n",
       "zYAGeDYAiT230US5zwKFd62CCXM7QKhVa0GqOWHCzBOgjLkDKsyRlpZUlpa2gKpmc7Rfa0UV7qjN\n",
       "CEAKIrhqVMCIJAwACQQszoJput4AAAAASUVORK5CYII=\n",
       "\" style=\"display:inline;vertical-align:middle;\" /></a></td></tr>\n",
       "<tr><td>3</td><td>Literal</td><td></td><td><a class=\"ProveItLink\" href=\"../../../numeral/__pv_it/9176d93c83afa2c995b614976e3cb49207102fa70/expr.ipynb\"><img src=\"data:image/png;base64,iVBORw0KGgoAAAANSUhEUgAAAAoAAAAOBAMAAADkjZCYAAAAMFBMVEX///+YmJju7u4QEBBUVFQy\n",
       "MjIiIiKIiIi6urpmZmbc3NyqqqpERER2dnbMzMwAAAB0GlNiAAAAAXRSTlMAQObYZgAAAE1JREFU\n",
       "CNdjYHh79zQDA9cEhv4CBt7fDPwJDNxgEgiAIkAQAsR8Vx1ATIbiBhDJ/ImB6wEDz0cG/U8gkj+A\n",
       "ge0XA7sAQ/8FBoadM6MZAEflFACalZ/OAAAAAElFTkSuQmCC\n",
       "\" style=\"display:inline;vertical-align:middle;\" /></a></td></tr>\n",
       "<tr><td>4</td><td>Literal</td><td></td><td><a class=\"ProveItLink\" href=\"../3e6688136fa3c7aefbebe51301b7c3ebf0b69c440/expr.ipynb\"><img src=\"data:image/png;base64,iVBORw0KGgoAAAANSUhEUgAAAA4AAAAOBAMAAADtZjDiAAAAJFBMVEX///+6urpUVFQQEBAiIiIy\n",
       "MjJmZmaIiIiqqqrc3Nzu7u4AAACgHpL+AAAAAXRSTlMAQObYZgAAAB5JREFUCNdjYGBgWMkAAe2k\n",
       "0Kmhoc6hoUGk6BMHYgAHOwjcado9fwAAAABJRU5ErkJggg==\n",
       "\" style=\"display:inline;vertical-align:middle;\" /></a></td></tr>\n",
       "<tr><td>5</td><td>ExprTuple</td><td>6, 6</td><td><a class=\"ProveItLink\" href=\"../71c9c782a9b8c913a0129f505682fe99210fc82a0/expr.ipynb\"><img src=\"data:image/png;base64,iVBORw0KGgoAAAANSUhEUgAAACkAAAAVBAMAAAAp9toTAAAAMFBMVEX////c3NwiIiJERESqqqqY\n",
       "mJh2dnZmZmYQEBDu7u4yMjJUVFTMzMyIiIi6uroAAAAs73DqAAAAAXRSTlMAQObYZgAAALpJREFU\n",
       "GNNjYMAO+C6gCcSBiNNAzDwBJmTJwMB+AEivZGDgtIeJTv4JJBYwMPBeYODcvR8qOns3SDSMgYED\n",
       "JHAfppYXJDqDgeEVA4YoswNDGaYoWwHDUkxRlgUMfZiifA0M/zBFeT7gEG3BaoIpTHQCXJR1AUM6\n",
       "VJTzE7LLHgGp8v7lAZz9AsCAqfhVysDA9YCBQwAWojAGyMesCVA2KzyAcyEhiSrKCQxJBmkoBx4l\n",
       "3CCjGNFj6A4DAwBkHj9zZVlc6AAAAABJRU5ErkJggg==\n",
       "\" style=\"display:inline;vertical-align:middle;\" /></a></td></tr>\n",
       "<tr><td>6</td><td>Literal</td><td></td><td><a class=\"ProveItLink\" href=\"../../../numeral/__pv_it/9be8badea4c35b9724062cecc501d17a3158d1d20/expr.ipynb\"><img src=\"data:image/png;base64,iVBORw0KGgoAAAANSUhEUgAAAAgAAAAPBAMAAAArJJMAAAAAHlBMVEX///+YmJgyMjIQEBBmZmaI\n",
       "iIhUVFTu7u5EREQAAAAw+MI4AAAAAXRSTlMAQObYZgAAACFJREFUCNdjYGBoZ2BgqJjOwFCWBiQY\n",
       "WEklWJwnOTKAAACjEQo8HvEr3AAAAABJRU5ErkJggg==\n",
       "\" style=\"display:inline;vertical-align:middle;\" /></a></td></tr>\n",
       "</table>\n"
      ],
      "text/plain": [
       "0. (1 + 1) + 3\n",
       "   core type: Operation\n",
       "   operator: 4\n",
       "   operands: 1\n",
       "1. (1 + 1 , 3)\n",
       "   core type: ExprTuple\n",
       "   sub-expressions: 2, 3\n",
       "2. 1 + 1\n",
       "   core type: Operation\n",
       "   operator: 4\n",
       "   operands: 5\n",
       "3. 3\n",
       "   core type: Literal\n",
       "   sub-expressions: \n",
       "4. +\n",
       "   core type: Literal\n",
       "   sub-expressions: \n",
       "5. (1 , 1)\n",
       "   core type: ExprTuple\n",
       "   sub-expressions: 6, 6\n",
       "6. 1\n",
       "   core type: Literal\n",
       "   sub-expressions: "
      ]
     },
     "execution_count": 4,
     "metadata": {},
     "output_type": "execute_result"
    }
   ],
   "source": [
    "# display the expression information\n",
    "expr.exprInfo()"
   ]
  },
  {
   "cell_type": "code",
   "execution_count": null,
   "metadata": {},
   "outputs": [],
   "source": []
  }
 ],
 "metadata": {
  "kernelspec": {
   "display_name": "Python 3",
   "language": "python",
   "name": "python3"
  }
 },
 "nbformat": 4,
 "nbformat_minor": 0
}
