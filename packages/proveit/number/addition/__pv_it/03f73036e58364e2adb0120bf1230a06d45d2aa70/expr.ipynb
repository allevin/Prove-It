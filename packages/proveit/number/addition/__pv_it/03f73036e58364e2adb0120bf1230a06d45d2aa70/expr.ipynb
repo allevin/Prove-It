{
 "cells": [
  {
   "cell_type": "markdown",
   "metadata": {},
   "source": [
    "Expression of type <a class=\"ProveItLink\" href=\"../../../../../../doc/html/api/proveit.ExprTuple.html\">ExprTuple</a>\n",
    "=======================\n",
    "# from context <a class=\"ProveItLink\" href=\"../../_context_.ipynb\">proveit.number.addition</a>"
   ]
  },
  {
   "cell_type": "code",
   "execution_count": 1,
   "metadata": {},
   "outputs": [],
   "source": [
    "# import Expression classes needed to build the expression\n",
    "from proveit import ExprTuple\n",
    "from proveit._common_ import a, b, c\n",
    "from proveit.number import Add"
   ]
  },
  {
   "cell_type": "code",
   "execution_count": 2,
   "metadata": {},
   "outputs": [
    {
     "data": {
      "text/html": [
       "<strong id=\"expr\">expr:</strong> <a class=\"ProveItLink\" href=\"expr.ipynb\"><img src=\"data:image/png;base64,iVBORw0KGgoAAAANSUhEUgAAAukAAAAVBAMAAAAJJW1zAAAAMFBMVEX////c3NwiIiJERESqqqqY\n",
       "mJh2dnZmZmYQEBDu7u4yMjJUVFTMzMyIiIi6uroAAAAs73DqAAAAAXRSTlMAQObYZgAAA55JREFU\n",
       "WMPtmTFoE1EYx/9tL7leUpPsHexWF6GLoxicLc3kKMVBFysBsUMdtCIdBGtcpNChoeDgdemgKEJp\n",
       "wUVwyaSITSlORZQGmyKFKL7Te+/u3Xff5XJtIoXekIZ/v/z/3+9d7ruXBDg5/seRq52sQU+PK87D\n",
       "+24mLN5vV2G9Hjm8SS86T9BFOJu5IR6ed7X5lbYVmdUjMOlF5wm6CGerAqe0AfOEnq9CEkUZNVln\n",
       "KeSLnIsSmnxOROdxlAiWJifwKDHZLgODFX/5OOnLqCVRpFHugHWWwm6Fc5GCMjEibkHjiRSehYTG\n",
       "QInJtgB8RTdXPT3StrOraLfqyqSXq05CY6DEZBsoYlr86Vu7OauXe4qspwqGP+wUGEUaZdY+l3Rn\n",
       "61p9QxNW6i91X1UhBWWicp5ObTKBkSw8HWUhoRRFddEhW7qMZ+L5TmGgob/eU2Q9VXKzuMAp0mhp\n",
       "DC3d+d12ZsQvWHvI64usKqSgTKQwNI9lJjCShaejLCSUoKguOmUzqpgXp34f5pj2ep/i1lMFp0u4\n",
       "xSnSaKKCOU2wHmGg5BeMAwxO+l28CmmrTKSwUMM5JjCShaULYSGhBEV10Slb7h5+A9kG+mva632K\n",
       "W08VrANnOUUazQA/g856hVlFvhxICgxDZeLL4QIjWVi6EBYSSlDWg2M8LttQw1n1/BiWnAthxrbP\n",
       "2LazLZWKadvLD217NUzBHqxWqOIzGkVuP+isV/SXsVsKJEG3/Wei5bgHDeRZouhCWEgoQXG76JxN\n",
       "rPoDcXnVMIGK/yT5FPcsUaXvF4yGxSjSqAnzAAFn/f0gtrR3g0mB97oy8XLABUaysHSUhYQSFNVF\n",
       "x2xiwojRtFTEG0O7+foUt54qVhPZ6iVGkUYtOdhUI+Lca7NP3G7mtEX2KiRvKzAdId5zKWfZQgIj\n",
       "WVg6ykJDCcrfLpKwpaq4LvZEJWM0rW/4PMWtp4rY/VwsTzKKNHqBO4HZV0ZaW4Js0VzV7yCqQtoq\n",
       "Eym8Am5YP0IDI1lYuhAWEkpQnC4SsYmd4xdn+7r1dku/y3uKvAaJguH6t/PbjCKNFj+WAju76fon\n",
       "/ca/djswUFSFFJSJFMypesV6XAgLjGRh6UJYSChBcbpIxJbZxmChm59NOxHYz6bhQq7Q1c+mESWH\n",
       "ZVsQo2nS/9/vMb5+j6NQo/YCcYkWUm3sYikxWGjJYdmmuv5Nb/eO1HH9VcOqOiPtmDZ/bH8Cyzqj\n",
       "se/kF7zeHpvAH0PCT1p/GhcLAAAAAElFTkSuQmCC\n",
       "\" style=\"display:inline;vertical-align:middle;\" /></a><br>"
      ],
      "text/plain": [
       "expr: (a + a + a + a + a + b + c + b + c + b + c , a + a + a + a + a + b + b + c + c + b + c)"
      ]
     },
     "execution_count": 2,
     "metadata": {},
     "output_type": "execute_result"
    }
   ],
   "source": [
    "# build up the expression from sub-expressions\n",
    "expr = ExprTuple(Add(a, a, a, a, a, b, c, b, c, b, c), Add(a, a, a, a, a, b, b, c, c, b, c))"
   ]
  },
  {
   "cell_type": "code",
   "execution_count": 3,
   "metadata": {},
   "outputs": [
    {
     "name": "stdout",
     "output_type": "stream",
     "text": [
      "Passed sanity check: built 'expr' is the same as the stored Expression.\n"
     ]
    }
   ],
   "source": [
    "# check that the built expression is the same as the stored expression\n",
    "%check_expr"
   ]
  },
  {
   "cell_type": "code",
   "execution_count": 4,
   "metadata": {},
   "outputs": [
    {
     "data": {
      "text/html": [
       "<table><tr><th>&nbsp;</th><th>core type</th><th>sub-expressions</th><th>expression</th></tr>\n",
       "<tr><td>0</td><td>ExprTuple</td><td>1, 2</td><td><a class=\"ProveItLink\" href=\"expr.ipynb\"><img src=\"data:image/png;base64,iVBORw0KGgoAAAANSUhEUgAAAukAAAAVBAMAAAAJJW1zAAAAMFBMVEX////c3NwiIiJERESqqqqY\n",
       "mJh2dnZmZmYQEBDu7u4yMjJUVFTMzMyIiIi6uroAAAAs73DqAAAAAXRSTlMAQObYZgAAA55JREFU\n",
       "WMPtmTFoE1EYx/9tL7leUpPsHexWF6GLoxicLc3kKMVBFysBsUMdtCIdBGtcpNChoeDgdemgKEJp\n",
       "wUVwyaSITSlORZQGmyKFKL7Te+/u3Xff5XJtIoXekIZ/v/z/3+9d7ruXBDg5/seRq52sQU+PK87D\n",
       "+24mLN5vV2G9Hjm8SS86T9BFOJu5IR6ed7X5lbYVmdUjMOlF5wm6CGerAqe0AfOEnq9CEkUZNVln\n",
       "KeSLnIsSmnxOROdxlAiWJifwKDHZLgODFX/5OOnLqCVRpFHugHWWwm6Fc5GCMjEibkHjiRSehYTG\n",
       "QInJtgB8RTdXPT3StrOraLfqyqSXq05CY6DEZBsoYlr86Vu7OauXe4qspwqGP+wUGEUaZdY+l3Rn\n",
       "61p9QxNW6i91X1UhBWWicp5ObTKBkSw8HWUhoRRFddEhW7qMZ+L5TmGgob/eU2Q9VXKzuMAp0mhp\n",
       "DC3d+d12ZsQvWHvI64usKqSgTKQwNI9lJjCShaejLCSUoKguOmUzqpgXp34f5pj2ep/i1lMFp0u4\n",
       "xSnSaKKCOU2wHmGg5BeMAwxO+l28CmmrTKSwUMM5JjCShaULYSGhBEV10Slb7h5+A9kG+mva632K\n",
       "W08VrANnOUUazQA/g856hVlFvhxICgxDZeLL4QIjWVi6EBYSSlDWg2M8LttQw1n1/BiWnAthxrbP\n",
       "2LazLZWKadvLD217NUzBHqxWqOIzGkVuP+isV/SXsVsKJEG3/Wei5bgHDeRZouhCWEgoQXG76JxN\n",
       "rPoDcXnVMIGK/yT5FPcsUaXvF4yGxSjSqAnzAAFn/f0gtrR3g0mB97oy8XLABUaysHSUhYQSFNVF\n",
       "x2xiwojRtFTEG0O7+foUt54qVhPZ6iVGkUYtOdhUI+Lca7NP3G7mtEX2KiRvKzAdId5zKWfZQgIj\n",
       "WVg6ykJDCcrfLpKwpaq4LvZEJWM0rW/4PMWtp4rY/VwsTzKKNHqBO4HZV0ZaW4Js0VzV7yCqQtoq\n",
       "Eym8Am5YP0IDI1lYuhAWEkpQnC4SsYmd4xdn+7r1dku/y3uKvAaJguH6t/PbjCKNFj+WAju76fon\n",
       "/ca/djswUFSFFJSJFMypesV6XAgLjGRh6UJYSChBcbpIxJbZxmChm59NOxHYz6bhQq7Q1c+mESWH\n",
       "ZVsQo2nS/9/vMb5+j6NQo/YCcYkWUm3sYikxWGjJYdmmuv5Nb/eO1HH9VcOqOiPtmDZ/bH8Cyzqj\n",
       "se/kF7zeHpvAH0PCT1p/GhcLAAAAAElFTkSuQmCC\n",
       "\" style=\"display:inline;vertical-align:middle;\" /></a></td></tr>\n",
       "<tr><td>1</td><td>Operation</td><td>operator:&nbsp;4<br>operands:&nbsp;3<br></td><td><a class=\"ProveItLink\" href=\"../06e0b1dab0b4c1184634af94c49563c83afc32080/expr.ipynb\"><img src=\"data:image/png;base64,iVBORw0KGgoAAAANSUhEUgAAAWoAAAAQBAMAAADNOCjDAAAAMFBMVEX///8yMjKqqqrMzMzu7u4i\n",
       "IiJmZmaYmJhEREQQEBC6urp2dnaIiIhUVFTc3NwAAAD87Fq/AAAAAXRSTlMAQObYZgAAAi5JREFU\n",
       "SMe1lbFLG1Ecx785z6smJPEGcQoExK2gY7vdWoqaSSg4xEmhiPcnZHMplA5dahGhk1BQKF2qw0FL\n",
       "B3uF1EEpBJp/QBqSoA4OXuz93r1f3v0IJM2NH773+b37vXe/B4zvWX47KGH/rowu+d9PaWAiUx9Z\n",
       "smL2ojkMUaK2aCZQLEsJpW3LdR6exwaxgmEIibJd0UzgyJMSpFWSlDpjWXWuMnDVnzFo1UrC6xQa\n",
       "X/b5mwmhpElw9eOwKRASZRo/fW62T8IlBkrhpZAgrZKoOs9PvwKHzakWfzMhlDRJdh+vJUKi1Ro6\n",
       "3Pz0IFPRgX2L4lJ6grRKQmDiHWZRuIFTY26NxEmT4K+PLYmQaNHDHgP2e0z5OrC6mD5OT5BWSQg8\n",
       "C7CLfAuTAXNrJE6aBH+AdYmQaAO47jfzhDODYjU9QVol0epEs6eG1d4mbbjuC9ctacRx3dk3rltP\n",
       "I7iF3UklmmgN2Zt+M09MVnHkpyQ07T8Jq9Pb2ACL8PTv1Uj8fSYp3MFq2QIhURtOF31m3utoXO94\n",
       "6QlqrZIkdXqnvYxfFvsjNBInTWK3kZ+ZFwiJOnRo1SKjvrJzHf2Ke0KCVq0kBKLOP0LGt9ZyfGAl\n",
       "JE6aBHNYqB4LhETn2OatzVeRYw3Kl526kCCtkhC4AD5Fo/jsyRmfIQmhXTEIrsIPrw4EQqLl737f\n",
       "HfIy/MaHSmNTSpBWSQg4p6E3zrtxJGBopRv9o0GywTDEFA0BDK0O7gGXVPQMhHokQQAAAABJRU5E\n",
       "rkJggg==\n",
       "\" style=\"display:inline;vertical-align:middle;\" /></a></td></tr>\n",
       "<tr><td>2</td><td>Operation</td><td>operator:&nbsp;4<br>operands:&nbsp;5<br></td><td><a class=\"ProveItLink\" href=\"../5312e445a56bbed44a74837ca6bab74c7688d6860/expr.ipynb\"><img src=\"data:image/png;base64,iVBORw0KGgoAAAANSUhEUgAAAWoAAAAQBAMAAADNOCjDAAAAMFBMVEX///8yMjKqqqrMzMzu7u4i\n",
       "IiJmZmaYmJhEREQQEBC6urp2dnaIiIhUVFTc3NwAAAD87Fq/AAAAAXRSTlMAQObYZgAAAidJREFU\n",
       "SMe11b9LG2Ecx/FPzvOqCSbeIE6BgHQTzNhuWUuJZhIKDnFSEPH+hGxdCsXBpS0idBIKCsXFOhy0\n",
       "dLBXiA6KEDD/gBiSoA4demnv+9zzfX4Mjc2NL568v8/9yB0wuqO6o4B7VXt8ZORHUYVM8z9ElGNR\n",
       "E7c9jIhQV4VCyTZq0Zrt2uf8OeY1ccJhhELZvlo+qNhGzduyImKYM5Jd52pq+Qj/vGsR4XPyreNd\n",
       "/stUaKUuuPmx37YIhTKtnwEvF6NLDu6XqGwGyoqImPPy5Cuw357o8FQqtFKX7C7e2oRCSw30GLgP\n",
       "KPBNPt/L1MxAWREhGHuHGeTv4TVYW5JkpS64DbBuEwotVPCegdPH5CE7jQ+YCMxAWREheBHiNaY6\n",
       "GA9ZW5JkpS64BlZsQqFV4I6BN41CXRkFmIGyIiLNiV9GDSwN7tqq77/y/aIknu/PbPt+0yR4gNsz\n",
       "ihRaRvaewXgdB4EyCjCAlP0bYXMGNzbEAiry+UqSnJ8u+V9wOq5FKNSF12cQv6631FH8WqdAl1ZE\n",
       "0jmDp72EM4f9RSRJVuridjE1PWcRCvXoKRa7LisPeiG+8oEZaNciQhBf+SfIBM5yjr+wUklW6oJZ\n",
       "PK0fWoRC59hUntqS1+RQR65sBsqKCMEF8Dl+FZ8+O+XvkFTormiCm+jjmz2LUKj6PeC7dltrykdl\n",
       "I/pmAcqKCIF3ElVG+W18FGhZ2xf9kybZcBjRQ0OAlpXhN9bQ9AzNxNcDAAAAAElFTkSuQmCC\n",
       "\" style=\"display:inline;vertical-align:middle;\" /></a></td></tr>\n",
       "<tr><td>3</td><td>ExprTuple</td><td>6, 6, 6, 6, 6, 7, 8, 7, 8, 7, 8</td><td><a class=\"ProveItLink\" href=\"../479fc843c2d500fdb9222234fc40406f00c1f8f40/expr.ipynb\"><img src=\"data:image/png;base64,iVBORw0KGgoAAAANSUhEUgAAANUAAAAVBAMAAAAjhrYEAAAAMFBMVEX////c3NwiIiJERESqqqqY\n",
       "mJh2dnZmZmYQEBDu7u4yMjJUVFTMzMyIiIi6uroAAAAs73DqAAAAAXRSTlMAQObYZgAAAhVJREFU\n",
       "SMe9ljFoE1EYx/9pLrm8XJO73aHZMglZHEuDs9CbHCU46NLIgdhBB61It9ZMUuiQQ+hQXDooihAM\n",
       "uAguN7UUvRCdigg9bYsEqvR771486zsvx4G54fK7H+T78n3ve+8CTPOqelNJc43f3mf55ubDvw17\n",
       "VUs0ep9u25l+5jPFlHeSjQtUsrXwWDFmM9lcBUqdTIs8UtRhJ9lsAF8ylVWsKer6BJNvYpk+cr1b\n",
       "K9Jc2D2wUlC598EO1ZP2R7mC/gs5Ezf8fowpOtgiPrDygezNChbSULeBUwGz63gaxjuCGaZ4NyzX\n",
       "YozmYp3KOoHeCGPM2bidhhY7WA1XwcMlAdoIpZZIsYa8HWOqD/ALMALMyGl8A1xMQ3eBH2Ml948L\n",
       "0+FgBPFmNuC5zAa6YbE4AjtNQ3VUT6SS14yDQ1GO2Yg3lOsRtcbDIsR85n5CC9hkou2lj6SKNtN9\n",
       "EWPOizfUQ+p2t4nXWp8HYccw3Cs8bzLRYNBScKDqCgJoDFbBY5hUi80Ug4KLmzTAtlYvosuHZwuX\n",
       "nRb7PpGe4x4EvASWBBhNfUfEMBwU+wLOGT7zn/n2GrwdYOMb30D+1/khe2xNos09GwL0tt8RwHp3\n",
       "EMZY9vcFnDcoD1Gyxh3/FJ1AVipSIYqhAp1Rhdb4wf6dq5COVIhiqND+853yf3Mxly+RfKhEx6SX\n",
       "jlSo/BsM3ufcdP4D0Al9BgFr3NVHfMmEAAAAAElFTkSuQmCC\n",
       "\" style=\"display:inline;vertical-align:middle;\" /></a></td></tr>\n",
       "<tr><td>4</td><td>Literal</td><td></td><td><a class=\"ProveItLink\" href=\"../3e6688136fa3c7aefbebe51301b7c3ebf0b69c440/expr.ipynb\"><img src=\"data:image/png;base64,iVBORw0KGgoAAAANSUhEUgAAAA4AAAAOBAMAAADtZjDiAAAAJFBMVEX///+6urpUVFQQEBAiIiIy\n",
       "MjJmZmaIiIiqqqrc3Nzu7u4AAACgHpL+AAAAAXRSTlMAQObYZgAAAB5JREFUCNdjYGBgWMkAAe2k\n",
       "0Kmhoc6hoUGk6BMHYgAHOwjcado9fwAAAABJRU5ErkJggg==\n",
       "\" style=\"display:inline;vertical-align:middle;\" /></a></td></tr>\n",
       "<tr><td>5</td><td>ExprTuple</td><td>6, 6, 6, 6, 6, 7, 7, 8, 8, 7, 8</td><td><a class=\"ProveItLink\" href=\"../6a0057c0bb560e3974fc2eeddf16dd37cda3893d0/expr.ipynb\"><img src=\"data:image/png;base64,iVBORw0KGgoAAAANSUhEUgAAANUAAAAVBAMAAAAjhrYEAAAAMFBMVEX////c3NwiIiJERESqqqqY\n",
       "mJh2dnZmZmYQEBDu7u4yMjJUVFTMzMyIiIi6uroAAAAs73DqAAAAAXRSTlMAQObYZgAAAgBJREFU\n",
       "SMe9lj9I41Acx7+1adPX2Ca7g906CV1uFIuzYKYbj+KgkxKQc9DB8xA3taPg0CwO4uLgwXFQLuBy\n",
       "cEsnj0Mr9aYigvVPOQpVfM8mfXl9akPA/obk8/uF9/vl/f68BBikpCsDCfOJXX6HWbn7tRdkId8z\n",
       "Pk116GU/1GseSCBL8tCv2UAqXArvJZBFz/u1j0CiGKrIrV54Qa4F1zvAZahtxTO98ILMCFo0jyV6\n",
       "i5QX1lzLyEndCEDJ8qkpAshs1RHhoPrN9yhuYY9y3Yg23JSsYSIIlXJoi4BftWRGAHIH3eEWxcYW\n",
       "3VYTaq6zYNTEYhCaLmJDBLKJqCmA0kKiwC3pL3gEtAaG3G78CYwFoWXgvwiamxkOqg3d4pbhBoul\n",
       "51DqbBZ3IO0glEW6KYKe8zrdgyEL1ya30FjrNDUVTOO5PyMPUBqkP9GpUlsijHpz2gU6XqtFbqE5\n",
       "/EDrm8cPxWFOyD00e4rFfZtoP9BSCKDTLZhEAIeWsmtBzMYc7VtTycZRYs2zh0mrQG770hFWIIJm\n",
       "Ie4wHxzy6iG6Ftbz/9h4nR+fY+eGDVD1arxGto1+tPvHhAhYqv7t+PCAlD+DW5CsIWF4g33BTyAj\n",
       "EMnAfchAz6hYwVPMbqxYMJKB+5Bh3v9Ned9YxGYlcpUUPyYrwUiG1OugsTxHBvMPcAY8Adis3Wt9\n",
       "F1zOAAAAAElFTkSuQmCC\n",
       "\" style=\"display:inline;vertical-align:middle;\" /></a></td></tr>\n",
       "<tr><td>6</td><td>Variable</td><td></td><td><a class=\"ProveItLink\" href=\"../../../../__pv_it/07527342713064c87612d00d8557c53d53d5324a0/expr.ipynb\"><img src=\"data:image/png;base64,iVBORw0KGgoAAAANSUhEUgAAAAsAAAAJBAMAAAAWSsseAAAAMFBMVEX///8yMjKqqqrMzMzu7u4i\n",
       "IiJmZmaYmJhEREQQEBC6urp2dnaIiIhUVFTc3NwAAAD87Fq/AAAAAXRSTlMAQObYZgAAAEhJREFU\n",
       "CNdjYOC7s2seAwPDygccHxgY+L4zsDUwMPB+YGA9wMDA38Dgb8DA8P4Agz6DA4O/AsNFJgMGxgKm\n",
       "MG6gyjunLE4xAAAZTBA5TB6DCwAAAABJRU5ErkJggg==\n",
       "\" style=\"display:inline;vertical-align:middle;\" /></a></td></tr>\n",
       "<tr><td>7</td><td>Variable</td><td></td><td><a class=\"ProveItLink\" href=\"../../../../__pv_it/6840a4fa6c106149dc16a131294d0c5e44f1b0480/expr.ipynb\"><img src=\"data:image/png;base64,iVBORw0KGgoAAAANSUhEUgAAAAkAAAAOBAMAAAAPuiubAAAALVBMVEX///9mZmbMzMxERESYmJiI\n",
       "iIh2dna6urqqqqoyMjIiIiIQEBBUVFTu7u4AAAD9S1JeAAAAAXRSTlMAQObYZgAAAE1JREFUCNdj\n",
       "4D29gAEIOA+ASL4GEFl3AURmgQiGOaFHGBh4HzPwKTBwvGXgTmBgnMDAJ8DAJcBQ5wBSLncBJLWN\n",
       "gYGngRFoBO9REQYGAGrcDtUkVqASAAAAAElFTkSuQmCC\n",
       "\" style=\"display:inline;vertical-align:middle;\" /></a></td></tr>\n",
       "<tr><td>8</td><td>Variable</td><td></td><td><a class=\"ProveItLink\" href=\"../../../../__pv_it/cbdfda466482236edba0ce44ac7ef39cda0af7a40/expr.ipynb\"><img src=\"data:image/png;base64,iVBORw0KGgoAAAANSUhEUgAAAAkAAAAJBAMAAAASvxsjAAAALVBMVEX///9mZmbc3NxUVFSYmJhE\n",
       "REQiIiIyMjK6uroQEBDMzMyIiIh2dnbu7u4AAABgFDGoAAAAAXRSTlMAQObYZgAAADZJREFUCNdj\n",
       "YOA9s3sBA8PKBvYEBt7ZDKwODMwPGICALwBE6m0Asx0YGIDiAgw8QJUyu/cyAAAmuwmycZ8WfQAA\n",
       "AABJRU5ErkJggg==\n",
       "\" style=\"display:inline;vertical-align:middle;\" /></a></td></tr>\n",
       "</table>\n"
      ],
      "text/plain": [
       "0. (a + a + a + a + a + b + c + b + c + b + c , a + a + a + a + a + b + b + c + c + b + c)\n",
       "   core type: ExprTuple\n",
       "   sub-expressions: 1, 2\n",
       "1. a + a + a + a + a + b + c + b + c + b + c\n",
       "   core type: Operation\n",
       "   operator: 4\n",
       "   operands: 3\n",
       "2. a + a + a + a + a + b + b + c + c + b + c\n",
       "   core type: Operation\n",
       "   operator: 4\n",
       "   operands: 5\n",
       "3. (a , a , a , a , a , b , c , b , c , b , c)\n",
       "   core type: ExprTuple\n",
       "   sub-expressions: 6, 6, 6, 6, 6, 7, 8, 7, 8, 7, 8\n",
       "4. +\n",
       "   core type: Literal\n",
       "   sub-expressions: \n",
       "5. (a , a , a , a , a , b , b , c , c , b , c)\n",
       "   core type: ExprTuple\n",
       "   sub-expressions: 6, 6, 6, 6, 6, 7, 7, 8, 8, 7, 8\n",
       "6. a\n",
       "   core type: Variable\n",
       "   sub-expressions: \n",
       "7. b\n",
       "   core type: Variable\n",
       "   sub-expressions: \n",
       "8. c\n",
       "   core type: Variable\n",
       "   sub-expressions: "
      ]
     },
     "execution_count": 4,
     "metadata": {},
     "output_type": "execute_result"
    }
   ],
   "source": [
    "# display the expression information\n",
    "expr.exprInfo()"
   ]
  },
  {
   "cell_type": "code",
   "execution_count": null,
   "metadata": {},
   "outputs": [],
   "source": []
  }
 ],
 "metadata": {
  "kernelspec": {
   "display_name": "Python 3",
   "language": "python",
   "name": "python3"
  }
 },
 "nbformat": 4,
 "nbformat_minor": 0
}
