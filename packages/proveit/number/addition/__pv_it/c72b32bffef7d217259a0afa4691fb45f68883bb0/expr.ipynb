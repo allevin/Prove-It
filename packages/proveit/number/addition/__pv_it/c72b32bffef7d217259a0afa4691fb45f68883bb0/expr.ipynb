{
 "cells": [
  {
   "cell_type": "markdown",
   "metadata": {},
   "source": [
    "Expression of type <a class=\"ProveItLink\" href=\"../../../../../../doc/html/api/proveit.number.Add.html\">Add</a>\n",
    "=======================\n",
    "# from context <a class=\"ProveItLink\" href=\"../../_context_.ipynb\">proveit.number.addition</a>"
   ]
  },
  {
   "cell_type": "code",
   "execution_count": 1,
   "metadata": {},
   "outputs": [],
   "source": [
    "# import Expression classes needed to build the expression\n",
    "from proveit.number import Add, Neg, two"
   ]
  },
  {
   "cell_type": "code",
   "execution_count": 2,
   "metadata": {},
   "outputs": [
    {
     "data": {
      "text/html": [
       "<strong id=\"expr\">expr:</strong> <a class=\"ProveItLink\" href=\"expr.ipynb\"><img src=\"data:image/png;base64,iVBORw0KGgoAAAANSUhEUgAAACwAAAAOBAMAAACmzuMPAAAAMFBMVEX///+YmJh2dnbMzMwQEBAi\n",
       "IiLu7u6qqqqIiIhUVFS6urpEREQyMjJmZmbc3NwAAACOMKdoAAAAAXRSTlMAQObYZgAAAKBJREFU\n",
       "GNNj4Lt7egEDCnh7ZxcDw0sGju8oonwTGPoLGKYxMMSjCHMmMLB+YHBJYJiPYgqLGwPnL4bzCQz3\n",
       "UYR5vjHw/gIx4hNQ7WRg/QYkmD+hiTLYK4B0bUAXPg0iboOddTQUBMC28ILUcUxAV9wJImoZ+B6g\n",
       "iLJfYHjHwHyBgRFV2JaBQY7hqZLSVVTPBynpBjDE////FdXR////DwAAYkor4xKDHXYAAAAASUVO\n",
       "RK5CYII=\n",
       "\" style=\"display:inline;vertical-align:middle;\" /></a><br>"
      ],
      "text/plain": [
       "expr: 2 - 2"
      ]
     },
     "execution_count": 2,
     "metadata": {},
     "output_type": "execute_result"
    }
   ],
   "source": [
    "# build up the expression from sub-expressions\n",
    "expr = Add(two, Neg(two)).withSubtractionAt(-1,1)"
   ]
  },
  {
   "cell_type": "code",
   "execution_count": 3,
   "metadata": {},
   "outputs": [
    {
     "name": "stdout",
     "output_type": "stream",
     "text": [
      "Passed sanity check: built 'expr' is the same as the stored Expression.\n"
     ]
    }
   ],
   "source": [
    "# check that the built expression is the same as the stored expression\n",
    "%check_expr"
   ]
  },
  {
   "cell_type": "code",
   "execution_count": 4,
   "metadata": {},
   "outputs": [
    {
     "data": {
      "text/html": [
       "<table><tr><th>&nbsp;</th><th>core type</th><th>sub-expressions</th><th>expression</th></tr>\n",
       "<tr><td>0</td><td>Operation</td><td>operator:&nbsp;1<br>operands:&nbsp;2<br></td><td><a class=\"ProveItLink\" href=\"expr.ipynb\"><img src=\"data:image/png;base64,iVBORw0KGgoAAAANSUhEUgAAACwAAAAOBAMAAACmzuMPAAAAMFBMVEX///+YmJh2dnbMzMwQEBAi\n",
       "IiLu7u6qqqqIiIhUVFS6urpEREQyMjJmZmbc3NwAAACOMKdoAAAAAXRSTlMAQObYZgAAAKBJREFU\n",
       "GNNj4Lt7egEDCnh7ZxcDw0sGju8oonwTGPoLGKYxMMSjCHMmMLB+YHBJYJiPYgqLGwPnL4bzCQz3\n",
       "UYR5vjHw/gIx4hNQ7WRg/QYkmD+hiTLYK4B0bUAXPg0iboOddTQUBMC28ILUcUxAV9wJImoZ+B6g\n",
       "iLJfYHjHwHyBgRFV2JaBQY7hqZLSVVTPBynpBjDE////FdXR////DwAAYkor4xKDHXYAAAAASUVO\n",
       "RK5CYII=\n",
       "\" style=\"display:inline;vertical-align:middle;\" /></a></td></tr>\n",
       "<tr><td>1</td><td>Literal</td><td></td><td><a class=\"ProveItLink\" href=\"../3e6688136fa3c7aefbebe51301b7c3ebf0b69c440/expr.ipynb\"><img src=\"data:image/png;base64,iVBORw0KGgoAAAANSUhEUgAAAA4AAAAOBAMAAADtZjDiAAAAJFBMVEX///+6urpUVFQQEBAiIiIy\n",
       "MjJmZmaIiIiqqqrc3Nzu7u4AAACgHpL+AAAAAXRSTlMAQObYZgAAAB5JREFUCNdjYGBgWMkAAe2k\n",
       "0Kmhoc6hoUGk6BMHYgAHOwjcado9fwAAAABJRU5ErkJggg==\n",
       "\" style=\"display:inline;vertical-align:middle;\" /></a></td></tr>\n",
       "<tr><td>2</td><td>ExprTuple</td><td>5, 3</td><td><a class=\"ProveItLink\" href=\"../941a943c1353135dc77079a1548185e315fed4ab0/expr.ipynb\"><img src=\"data:image/png;base64,iVBORw0KGgoAAAANSUhEUgAAADkAAAAVBAMAAAAOWFv7AAAAMFBMVEX////c3NwiIiJERESqqqqY\n",
       "mJh2dnZmZmYQEBDu7u4yMjJUVFTMzMyIiIi6uroAAAAs73DqAAAAAXRSTlMAQObYZgAAASBJREFU\n",
       "KM99ki1Mw0AUgL+Olf6xpWBIwCwIJJvBkjk0BklQnSJpIIEEAwIBBk4imywIFLMocAgE85DQIFEL\n",
       "ISQzlLtrlvS6lCfu3r3v3r2/g/+lOawAO2p5hsXjDRNYR/0U51Fqt1gD3rsGXabxDQk0hgSC2sig\n",
       "99CGbXAF7gXBr0HPBQ8p1/AJ/hjHpHeCk5SZLof6WBuXM24LZmNutP6yW4JzP1BPuNSHftnV78hO\n",
       "nKIDOp3ctrSiZE1qB8p/lNPXsmtjkNMzudVj5k26iRWql9el/gRbiGJOMXaIndCTXV2Nei3vq0AX\n",
       "omgfVdGHLDbLspZ3FRaKzTJ52U9xJ8ZmWE5NdtKe9MGeGvCenmAF9RI9y1ymvkigQllVP+cN/gAk\n",
       "vz+qUNpCcQAAAABJRU5ErkJggg==\n",
       "\" style=\"display:inline;vertical-align:middle;\" /></a></td></tr>\n",
       "<tr><td>3</td><td>Operation</td><td>operator:&nbsp;4<br>operand:&nbsp;5<br></td><td><a class=\"ProveItLink\" href=\"../9cd64560928a3eea5b8bd346c0fe76e791b1ec050/expr.ipynb\"><img src=\"data:image/png;base64,iVBORw0KGgoAAAANSUhEUgAAABkAAAAOBAMAAAAoFKpzAAAAMFBMVEX///+YmJh2dnbMzMwQEBDu\n",
       "7u6qqqqIiIhUVFRERERmZma6uroiIiIyMjLc3NwAAABSazM2AAAAAXRSTlMAQObYZgAAAFtJREFU\n",
       "CNdjYIACvlU3NzDAwQsG9m8IXisDw3kEzyWAoR+h9H4Aw3okjUCVAUgc5k/IUrwTGBjengGB00De\n",
       "SmQp9gZkXhYD3wOEGQsYGBG8N0pKa5As+///DwMAyBMb8hv9jf4AAAAASUVORK5CYII=\n",
       "\" style=\"display:inline;vertical-align:middle;\" /></a></td></tr>\n",
       "<tr><td>4</td><td>Literal</td><td></td><td><a class=\"ProveItLink\" href=\"../../../negation/__pv_it/3fc7a08bb9735faa20ef8e175f6ea95511acc9c70/expr.ipynb\"><img src=\"data:image/png;base64,iVBORw0KGgoAAAANSUhEUgAAAA4AAAACBAMAAACapPCZAAAAElBMVEX///+6uroiIiIyMjLc3NwA\n",
       "AAA6l9OrAAAAAXRSTlMAQObYZgAAABBJREFUCNdjcFYCAUUGKAAADR4BD8/TF5gAAAAASUVORK5C\n",
       "YII=\n",
       "\" style=\"display:inline;vertical-align:middle;\" /></a></td></tr>\n",
       "<tr><td>5</td><td>Literal</td><td></td><td><a class=\"ProveItLink\" href=\"../../../numeral/__pv_it/77d407a64829263cdc16415becd4c2293f77a4bf0/expr.ipynb\"><img src=\"data:image/png;base64,iVBORw0KGgoAAAANSUhEUgAAAAkAAAAOBAMAAAAPuiubAAAAMFBMVEX///+YmJh2dnbMzMwQEBAi\n",
       "IiLu7u6qqqqIiIhUVFS6urpEREQyMjJmZmbc3NwAAACOMKdoAAAAAXRSTlMAQObYZgAAAFBJREFU\n",
       "CNdj4Lt7egEDw0sGju8MDNMYGOIZGFwSGOYvYDifwHAfKAEUSQASzJ9ATJ4NIPI2iOCYACJrGfge\n",
       "MDBfYGB8wPBUSekqUPH//18ZAIliFhc3zESNAAAAAElFTkSuQmCC\n",
       "\" style=\"display:inline;vertical-align:middle;\" /></a></td></tr>\n",
       "</table>\n"
      ],
      "text/plain": [
       "0. 2 - 2\n",
       "   core type: Operation\n",
       "   operator: 1\n",
       "   operands: 2\n",
       "1. +\n",
       "   core type: Literal\n",
       "   sub-expressions: \n",
       "2. (2 , -2)\n",
       "   core type: ExprTuple\n",
       "   sub-expressions: 5, 3\n",
       "3. -2\n",
       "   core type: Operation\n",
       "   operator: 4\n",
       "   operand: 5\n",
       "4. -\n",
       "   core type: Literal\n",
       "   sub-expressions: \n",
       "5. 2\n",
       "   core type: Literal\n",
       "   sub-expressions: "
      ]
     },
     "execution_count": 4,
     "metadata": {},
     "output_type": "execute_result"
    }
   ],
   "source": [
    "# display the expression information\n",
    "expr.exprInfo()"
   ]
  },
  {
   "cell_type": "code",
   "execution_count": null,
   "metadata": {},
   "outputs": [],
   "source": []
  }
 ],
 "metadata": {
  "kernelspec": {
   "display_name": "Python 3",
   "language": "python",
   "name": "python3"
  }
 },
 "nbformat": 4,
 "nbformat_minor": 0
}
