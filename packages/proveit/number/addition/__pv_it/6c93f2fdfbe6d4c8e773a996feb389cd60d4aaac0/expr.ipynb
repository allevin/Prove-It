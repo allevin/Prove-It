{
 "cells": [
  {
   "cell_type": "markdown",
   "metadata": {},
   "source": [
    "Expression of type <a class=\"ProveItLink\" href=\"../../../../../../doc/html/api/proveit.logic.Equals.html\">Equals</a>\n",
    "=======================\n",
    "# from context <a class=\"ProveItLink\" href=\"../../_context_.ipynb\">proveit.number.addition</a>"
   ]
  },
  {
   "cell_type": "code",
   "execution_count": 1,
   "metadata": {},
   "outputs": [],
   "source": [
    "# import Expression classes needed to build the expression\n",
    "from proveit.logic import Equals\n",
    "from proveit.number import Add, three, two, zero"
   ]
  },
  {
   "cell_type": "code",
   "execution_count": 2,
   "metadata": {},
   "outputs": [
    {
     "data": {
      "text/html": [
       "<strong id=\"expr\">expr:</strong> <a class=\"ProveItLink\" href=\"expr.ipynb\"><img src=\"data:image/png;base64,iVBORw0KGgoAAAANSUhEUgAAATMAAAAVBAMAAADY9BTyAAAAMFBMVEX////c3NwiIiJERESqqqqY\n",
       "mJh2dnZmZmYQEBDu7u4yMjJUVFTMzMyIiIi6uroAAAAs73DqAAAAAXRSTlMAQObYZgAAAwZJREFU\n",
       "SMfNlj9oE1Ecx7+XXptcmktOlw5VLCIiKLaDrpqtU2lcHEtQSEEIBoUWiqKCgxWpp0u7WawOpoNZ\n",
       "BcFMdXBoEUSxLQZHQVpLjURo43u55F1/709a7eIb7rjv/X6f+/J77/3uAf/xSC7tI3lEo31vBx35\n",
       "G/A7YHr1hvSmZ+KcpCzkzlDBufmxjGhZgSZKBqg1PldRExK5y2kT+AVwGo9phlXCF5pgFbBGKxGp\n",
       "OKeAWcVa3DdAe+Fuqgk9SG5BD3aX4PbBbWY8Cm7dPiLrROnaRKqPKO+Bz8BFxdoqDNBXQH+Y4HjB\n",
       "/WoaG1QR4BhzUULyRyAPBbfYJLq3iWKH1prKSWDNw4xibRIG6D0fbyoiwW7OwbCw1lIE+BuQKiCx\n",
       "SSjxGqLUGhutCW0qv4DFNDrS8q7ipdJCX/q4VREJtlgerQltKQI8BhzJIrElG4nUZGUeOxWryghL\n",
       "6CpI1qJZdjFB+32REFqLl4gSgp8HlKpMWcxSJXGlpFrLwm6sp2ixMXhEPMMuBigX7FnJ2sI8VGsN\n",
       "8JTB2hxk5VNFYy15W6pajEcZoPEBiISwau6UzhqL29bXPjqgWIvVNBOaWJespbg1A/Q6r9y6bA0P\n",
       "fc2EsrjtYMX+ZOJEsXiiWAzqu9y4hopVRgeN4as1Y7amgbqlljW2AJ7eDxbAIeB8higCfBd8n9t0\n",
       "n8Mu4ABRntQCa6R5DHvN+YkebQxe6RjfgXroICxPnlCn7jes0eYRgM+Cd8cu2rPwFrhAlNQsIvRL\n",
       "rDNeAjrl7t7Bv6OFJgro9ERCy8hvtm89ogjwKHs4hpkyoVjHc6OU62awRvdsJO08gNo8GoIWejCX\n",
       "uwaleXxAskoVAf7KHqbzr+mij9TrdamOg+PPaIwztsw+Ha/ILZfnaaH99fpGmNAyYo9PSE1YgGPe\n",
       "TvCQ8t/ZRVF/VHf4gvN2TbCVYxNVWFxnVj5rqaevNkpeec3/322geeMxkSr54Pzy78MxH4r2nGCO\n",
       "692PtW5PkaxSO6gmwRxn7ecAvqLRDreDruwd/AeJjTCarNjECAAAAABJRU5ErkJggg==\n",
       "\" style=\"display:inline;vertical-align:middle;\" /></a><br>"
      ],
      "text/plain": [
       "expr: (0 + 2 + 3 + 0) = ((0 + 2) + 3 + 0)"
      ]
     },
     "execution_count": 2,
     "metadata": {},
     "output_type": "execute_result"
    }
   ],
   "source": [
    "# build up the expression from sub-expressions\n",
    "expr = Equals(Add(zero, two, three, zero), Add(Add(zero, two), three, zero))"
   ]
  },
  {
   "cell_type": "code",
   "execution_count": 3,
   "metadata": {},
   "outputs": [
    {
     "name": "stdout",
     "output_type": "stream",
     "text": [
      "Passed sanity check: built 'expr' is the same as the stored Expression.\n"
     ]
    }
   ],
   "source": [
    "# check that the built expression is the same as the stored expression\n",
    "%check_expr"
   ]
  },
  {
   "cell_type": "code",
   "execution_count": 4,
   "metadata": {},
   "outputs": [
    {
     "data": {
      "text/html": [
       "<table><tr><th>&nbsp;</th><th>core type</th><th>sub-expressions</th><th>expression</th></tr>\n",
       "<tr><td>0</td><td>Operation</td><td>operator:&nbsp;1<br>operands:&nbsp;2<br></td><td><a class=\"ProveItLink\" href=\"expr.ipynb\"><img src=\"data:image/png;base64,iVBORw0KGgoAAAANSUhEUgAAATMAAAAVBAMAAADY9BTyAAAAMFBMVEX////c3NwiIiJERESqqqqY\n",
       "mJh2dnZmZmYQEBDu7u4yMjJUVFTMzMyIiIi6uroAAAAs73DqAAAAAXRSTlMAQObYZgAAAwZJREFU\n",
       "SMfNlj9oE1Ecx7+XXptcmktOlw5VLCIiKLaDrpqtU2lcHEtQSEEIBoUWiqKCgxWpp0u7WawOpoNZ\n",
       "BcFMdXBoEUSxLQZHQVpLjURo43u55F1/709a7eIb7rjv/X6f+/J77/3uAf/xSC7tI3lEo31vBx35\n",
       "G/A7YHr1hvSmZ+KcpCzkzlDBufmxjGhZgSZKBqg1PldRExK5y2kT+AVwGo9phlXCF5pgFbBGKxGp\n",
       "OKeAWcVa3DdAe+Fuqgk9SG5BD3aX4PbBbWY8Cm7dPiLrROnaRKqPKO+Bz8BFxdoqDNBXQH+Y4HjB\n",
       "/WoaG1QR4BhzUULyRyAPBbfYJLq3iWKH1prKSWDNw4xibRIG6D0fbyoiwW7OwbCw1lIE+BuQKiCx\n",
       "SSjxGqLUGhutCW0qv4DFNDrS8q7ipdJCX/q4VREJtlgerQltKQI8BhzJIrElG4nUZGUeOxWryghL\n",
       "6CpI1qJZdjFB+32REFqLl4gSgp8HlKpMWcxSJXGlpFrLwm6sp2ixMXhEPMMuBigX7FnJ2sI8VGsN\n",
       "8JTB2hxk5VNFYy15W6pajEcZoPEBiISwau6UzhqL29bXPjqgWIvVNBOaWJespbg1A/Q6r9y6bA0P\n",
       "fc2EsrjtYMX+ZOJEsXiiWAzqu9y4hopVRgeN4as1Y7amgbqlljW2AJ7eDxbAIeB8higCfBd8n9t0\n",
       "n8Mu4ABRntQCa6R5DHvN+YkebQxe6RjfgXroICxPnlCn7jes0eYRgM+Cd8cu2rPwFrhAlNQsIvRL\n",
       "rDNeAjrl7t7Bv6OFJgro9ERCy8hvtm89ogjwKHs4hpkyoVjHc6OU62awRvdsJO08gNo8GoIWejCX\n",
       "uwaleXxAskoVAf7KHqbzr+mij9TrdamOg+PPaIwztsw+Ha/ILZfnaaH99fpGmNAyYo9PSE1YgGPe\n",
       "TvCQ8t/ZRVF/VHf4gvN2TbCVYxNVWFxnVj5rqaevNkpeec3/322geeMxkSr54Pzy78MxH4r2nGCO\n",
       "692PtW5PkaxSO6gmwRxn7ecAvqLRDreDruwd/AeJjTCarNjECAAAAABJRU5ErkJggg==\n",
       "\" style=\"display:inline;vertical-align:middle;\" /></a></td></tr>\n",
       "<tr><td>1</td><td>Literal</td><td></td><td><a class=\"ProveItLink\" href=\"../../../../logic/equality/__pv_it/2fb26078095930560931daa0500ce419a39ea6cd0/expr.ipynb\"><img src=\"data:image/png;base64,iVBORw0KGgoAAAANSUhEUgAAAA4AAAAFBAMAAACHocAhAAAAFVBMVEX///9EREQiIiJUVFQyMjJm\n",
       "ZmYAAADubVkoAAAAAXRSTlMAQObYZgAAABRJREFUCNdjCHEBAWcGXCBICQQUAUpuAwlgGKrkAAAA\n",
       "AElFTkSuQmCC\n",
       "\" style=\"display:inline;vertical-align:middle;\" /></a></td></tr>\n",
       "<tr><td>2</td><td>ExprTuple</td><td>3, 4</td><td><a class=\"ProveItLink\" href=\"../3dccf4d8cd44d2420c2368f364f2d1f7aaedef050/expr.ipynb\"><img src=\"data:image/png;base64,iVBORw0KGgoAAAANSUhEUgAAAREAAAAVBAMAAACTXMcfAAAAMFBMVEX////c3NwiIiJERESqqqqY\n",
       "mJh2dnZmZmYQEBDu7u4yMjJUVFTMzMyIiIi6uroAAAAs73DqAAAAAXRSTlMAQObYZgAAAv1JREFU\n",
       "SMfNVjFoE1EY/i69NLk0d40uDlXsICIotoOumq1TSVw6SlBIQSgGhRaCogUHK9JGF7MZrA69DmYV\n",
       "BDPVwaFBEMVaPBwFaZUaidDE/967NPlf7mwgDt6QI9/7vv//7v3vf+8B/89jVfuP8S1o4GKPAQTv\n",
       "DfBo84Yycih/TkHWsmcUpK2Kl2HcfF/hw9rcsoOIAiKevZzkiFAK3gpwGg+5QivjMxdoOWwpk9dW\n",
       "xQoIOcYpPjwCcwcoqZ8Ia5cjUkk8swpzFKaneCBfQxR6myGDOxgeZUiHahN4C3z0vjEh3y+AMWAK\n",
       "HL2axA+OSCXxopS0DOu7hCflK7qAoQZD9LYTD+lQLQAngS0ZWvem7m4BrxwUPSctNLXnpIVIJfG+\n",
       "AsM5xHdYllgdEe6EnlZ1PKStsmhqfgHrSZbheQG3HAwkeV7sVaeFSCXxZoGjGcR31byhuoqsgiFt\n",
       "VSQDrUbxqkpOjBUwmFOdxMoM8ZTEeyZj1tS86xmOxK+Uu51IVSwt42WUnO6wXlKcrK2i20nG5S0G\n",
       "OFmGinxwApxEHX8nsXGqxW11TsxFPyfEa/hXJzLe5SRaD6jOsONfnevuvGyrTrBU8KkO8Rpy7f0k\n",
       "MG/bJ2xbzt6G+G0jWgUDnNNSCSdi3aXpA2z7yT3bFoU0yy0nHehh4DznSSXx7oh+1HkXQ8/hAEMe\n",
       "16UT1sWeKpoUvZjiXYwJaAm1OkazIJzwLk4J3lmxRw3yvQKvgQu8Z0sIcbdS5c70QFrsT5d4HeI5\n",
       "hBMIKyv2N3UUdyyVxJumP8dQrLAs2vHsNPdmprGldJOrMtxtyu3UUNK4z3MezGavoauL38GqcUQq\n",
       "iffFPctmXvL1GWo2m8osTcw9VdawqzKW6AMtohqzGxWeYazZJJsxh6P6XF7Z66SSeNFE53E02XVe\n",
       "74NYrny+E9HZQVn0RX154czfLxr7IGH3Zyr4vjMTeAvq5q30dUcKe7eCgMco9RZG8Eb6clL1rjMB\n",
       "z1CitzCCp/2D2+ORoIFPPQYg3h/cohuzkwzfYgAAAABJRU5ErkJggg==\n",
       "\" style=\"display:inline;vertical-align:middle;\" /></a></td></tr>\n",
       "<tr><td>3</td><td>Operation</td><td>operator:&nbsp;9<br>operands:&nbsp;5<br></td><td><a class=\"ProveItLink\" href=\"../d2b99dc3fe5bdacd00240e904a0b3bd83a0915960/expr.ipynb\"><img src=\"data:image/png;base64,iVBORw0KGgoAAAANSUhEUgAAAHUAAAAQBAMAAADaEy1mAAAAMFBMVEX///9EREQQEBCYmJh2dnaq\n",
       "qqrc3NxUVFQyMjK6uroiIiLMzMyIiIhmZmbu7u4AAADSWfX9AAAAAXRSTlMAQObYZgAAAVxJREFU\n",
       "KM+FkzFLw0AYhl/EpE2aRlcnV0XQTs4ROolifkChmVykmN1FJw8nf4BgEUXEwQyu0oJDRRQ7OBRU\n",
       "CA4OQkEwikptvOTa2u9S8Ya85OF7Lh/3XYDm1R3oKjXGKMjk52xKzPtrj8cRnj3CVRc3tLQErUVd\n",
       "fds8BowyjHUBnkSkfOgvhCzZ+Op8zxF5CVzwHVxo7wIURAxNI/VJSLHnKlWRh8Cug5E6Mm+kMt1G\n",
       "lrro9dx1v4GKjVULmZZUCb0tkbRLXDXgbjV2A9mtWJScbiLpWoPdDUjEmPzLlXvOjsouZvwBPUdn\n",
       "9cpfG4ztMSZ6q8XPX7ICjOf4loxtTTDmds4qF81IoTOCUsdyPzFDP3bpjIpOdDeGy9Q9A2YJ+QBO\n",
       "HOLyuzHP4wCPHqlU9/OLdLdzaAGdr26bUzyaC2v0ZPQwDKmrPDRs6pq3NfoTFCCvBOm6ibXzP9H6\n",
       "3R+LaXefNDRXJAAAAABJRU5ErkJggg==\n",
       "\" style=\"display:inline;vertical-align:middle;\" /></a></td></tr>\n",
       "<tr><td>4</td><td>Operation</td><td>operator:&nbsp;9<br>operands:&nbsp;6<br></td><td><a class=\"ProveItLink\" href=\"../711fdd781481419910222d5b65da7da2191851110/expr.ipynb\"><img src=\"data:image/png;base64,iVBORw0KGgoAAAANSUhEUgAAAIMAAAAVBAMAAACXjEALAAAAMFBMVEX////c3NwiIiJERESqqqqY\n",
       "mJh2dnZmZmYQEBDu7u4yMjJUVFTMzMyIiIi6uroAAAAs73DqAAAAAXRSTlMAQObYZgAAAchJREFU\n",
       "OMutlDFIHEEUhr9bTr09by9rZWHAKyQElGiRtMnWgqhtqsOAVqKVwhHBIk1E9EyjWIWIhSvI2Vtc\n",
       "pYWFhyCCEhSrEBBNiBcMeOdc5tR74y5c4cLyZv55fDPvvZkHT/AlCyELDaf1InZh8ftHQ2zNvAVT\n",
       "TAx/8KRiTx3mlVmDV3zJi6VIjhOPuMkleSMV69TuAqeAk8L5qrUFbZqzWJc0pBHqmMfv6u6utvtw\n",
       "BDHlnSP5S2t92sQ+01zCnkao/feIaDV/nXDh8hOejZP4I5zj1zSV4LVEcB/IHeIv7HlMQHuaxI3h\n",
       "jHUNIyYinhOISFEhCqxqRNFE7KlE9BqI7XUeI9LMhSBW1P/DPIUzF4QoBQfS1FM5iYlgPhsQSEmn\n",
       "80opGd9/6fv6sMfcIR7U5/BuQNF9/9uM7+eq6RzgE5WiRmVRiY7TYgZil7P/EbKo/S5vqFytxpRE\n",
       "7MAgvJeB/INuVyDU1RrShetgKS+cIy+GR1KPinpAsijvheXZs3CmRoujW9LZKpfLCrEh1ehkxpMI\n",
       "e+JY7R1za99Nn3iH00FqLaLaFdK1s/PaSWMhSA3oMWuhnWS53pbTFrqyWS8iEtb4nHx9gFt6xIeN\n",
       "l1xrPQAAAABJRU5ErkJggg==\n",
       "\" style=\"display:inline;vertical-align:middle;\" /></a></td></tr>\n",
       "<tr><td>5</td><td>ExprTuple</td><td>11, 12, 8, 11</td><td><a class=\"ProveItLink\" href=\"../0ca2a64168abc23945e3bc947d5f1d2a3f9aa2c50/expr.ipynb\"><img src=\"data:image/png;base64,iVBORw0KGgoAAAANSUhEUgAAAFEAAAAVBAMAAADMaB9/AAAAMFBMVEX////c3NwiIiJERESqqqqY\n",
       "mJh2dnZmZmYQEBDu7u4yMjJUVFTMzMyIiIi6uroAAAAs73DqAAAAAXRSTlMAQObYZgAAAaNJREFU\n",
       "KM+NkztLI1EYhp/ExGSSzDhWFgpOITaK2ti68w8Smy0lKGglpoogChY2gmiwMZ0BsVhs8gMsUmlh\n",
       "YVhYFjYrXkobL2hEwcRzmZl4KcwUc97zzgPf+d7zDbT/WNU2oCn5OoGds2XP6Vma0CI1O+NqZaz8\n",
       "rRCrCPULRtiuKDdU5lwDPVivmgxfGMNQArOK6WCWlJssEL5VasHlXpO/4R/8hLj4WMa6U258nWRD\n",
       "qXRADsGNTRGuoStH6kG5iWdiDb9Tr/oTnLp0uOShP0vq1e8y/OyJRFkfvS7IKp059jVZ98nTrF6P\n",
       "DmiRWSIlNj+Re74wN9+T1iqNj9VjY0HaW4V31VO3kpQdPXqfa97aBz8yQUcZSa4hU4rolIjk6FYX\n",
       "0yz4pEgpbcvq48jkOx1UrWOYVOoFRm3DS34aoiXmxGaAYsWQQYcGZ+ccpf5g1dl1ZGyusYFM6Ups\n",
       "duYPMbZs4TabTUepyOKSS1GeycjXxFAkLojb/p3YfFGXQRDiNqNe0kQDt6UygZrXU/c9achZ6/U2\n",
       "rdEPlBlYSXmgUDt/x394A9gLcdxmBSofAAAAAElFTkSuQmCC\n",
       "\" style=\"display:inline;vertical-align:middle;\" /></a></td></tr>\n",
       "<tr><td>6</td><td>ExprTuple</td><td>7, 8, 11</td><td><a class=\"ProveItLink\" href=\"../51332e6fd05528dc75666840c5acffbb341b09110/expr.ipynb\"><img src=\"data:image/png;base64,iVBORw0KGgoAAAANSUhEUgAAAGEAAAAVBAMAAACkm51HAAAAMFBMVEX////c3NwiIiJERESqqqqY\n",
       "mJh2dnZmZmYQEBDu7u4yMjJUVFTMzMyIiIi6uroAAAAs73DqAAAAAXRSTlMAQObYZgAAAb5JREFU\n",
       "OMuVkz9LI0EYxn+Jickm2XWtLBRMcYhw4l1jq/sFxNhYSlAwVbhUCuGEK64RRHPXmM6AWBibfACL\n",
       "VFpYGAQR/IN/SuE4lbuIgsnNZJK5XTFFtth55p33NzzzzjvQ+WdVOkielb9D2Lj8+malLzuuRGxh\n",
       "3lHKWD4tEyoLtQOj/Cx7AF+JK5XYh/WqYv5rYwQKYFYw45gFFf6hhmgO/31DfXF4VLFjOIMZCIvF\n",
       "EtaDCk+qIbxCtNZQU5r4CL9t8nAHPRlifzxE5JlQrVWZpqsnOHLocliEwSSxVw8hbT83RaSkjlYV\n",
       "RIXuDNuKqL4ljpJq3N/lP5EkUGCtDbHVEuaam7C+UXvfVeizZtdzLlexe0nIk/8VwWyxOFwsKhfn\n",
       "zfQBmEjokyck8R1Z3YC3ugQy9DYuup5rEaK6U7Z0NYa8we64lziAaaSbF/hkG80bnINggZSYfCBf\n",
       "9hC+oYVU3JBXd4JVZVPu53eMVWR1b8VkI72Hh/DX6/W4sW4Le0tZh7z0bCyei20j14RtdwtOet6B\n",
       "XrrRMdElwaQ76Zd7EtQqoVVadXub7x3CkD3e35bQj9PUoag06uvk1V7AP/H0d3PjlV+jAAAAAElF\n",
       "TkSuQmCC\n",
       "\" style=\"display:inline;vertical-align:middle;\" /></a></td></tr>\n",
       "<tr><td>7</td><td>Operation</td><td>operator:&nbsp;9<br>operands:&nbsp;10<br></td><td><a class=\"ProveItLink\" href=\"../78526bce84b8c0725bf84b6d4e607a77888296220/expr.ipynb\"><img src=\"data:image/png;base64,iVBORw0KGgoAAAANSUhEUgAAAC0AAAAQBAMAAABw0OvaAAAAMFBMVEX///9EREQQEBCYmJh2dnaq\n",
       "qqrc3NxUVFQyMjK6uroiIiLMzMyIiIhmZmbu7u4AAADSWfX9AAAAAXRSTlMAQObYZgAAALRJREFU\n",
       "GNNjYHh75jYDCmC72zgBSK1keLUBRTydgecrAwPPAgaeBojAMwhVx8CwnoGBq4CB8xtEIAZCKT1g\n",
       "qJ/AwH+Bgfsrinj/A4b7ExjyHRi4/6CIA8H6B2DxL2jiIAFs4hwCDFjNuQjEIHs/A+kbHR2LOjra\n",
       "QcI8BQxgd7KiupMhloEtAeQvlgUo4twXGJgTGBiWMjzagCKe5eJyC0i99almQBFf////L5QAi2HA\n",
       "DuYgsQFEPDczNwTuawAAAABJRU5ErkJggg==\n",
       "\" style=\"display:inline;vertical-align:middle;\" /></a></td></tr>\n",
       "<tr><td>8</td><td>Literal</td><td></td><td><a class=\"ProveItLink\" href=\"../../../numeral/__pv_it/9176d93c83afa2c995b614976e3cb49207102fa70/expr.ipynb\"><img src=\"data:image/png;base64,iVBORw0KGgoAAAANSUhEUgAAAAoAAAAOBAMAAADkjZCYAAAAMFBMVEX///+YmJju7u4QEBBUVFQy\n",
       "MjIiIiKIiIi6urpmZmbc3NyqqqpERER2dnbMzMwAAAB0GlNiAAAAAXRSTlMAQObYZgAAAE1JREFU\n",
       "CNdjYHh79zQDA9cEhv4CBt7fDPwJDNxgEgiAIkAQAsR8Vx1ATIbiBhDJ/ImB6wEDz0cG/U8gkj+A\n",
       "ge0XA7sAQ/8FBoadM6MZAEflFACalZ/OAAAAAElFTkSuQmCC\n",
       "\" style=\"display:inline;vertical-align:middle;\" /></a></td></tr>\n",
       "<tr><td>9</td><td>Literal</td><td></td><td><a class=\"ProveItLink\" href=\"../3e6688136fa3c7aefbebe51301b7c3ebf0b69c440/expr.ipynb\"><img src=\"data:image/png;base64,iVBORw0KGgoAAAANSUhEUgAAAA4AAAAOBAMAAADtZjDiAAAAJFBMVEX///+6urpUVFQQEBAiIiIy\n",
       "MjJmZmaIiIiqqqrc3Nzu7u4AAACgHpL+AAAAAXRSTlMAQObYZgAAAB5JREFUCNdjYGBgWMkAAe2k\n",
       "0Kmhoc6hoUGk6BMHYgAHOwjcado9fwAAAABJRU5ErkJggg==\n",
       "\" style=\"display:inline;vertical-align:middle;\" /></a></td></tr>\n",
       "<tr><td>10</td><td>ExprTuple</td><td>11, 12</td><td><a class=\"ProveItLink\" href=\"../3e1f3f991e299584508e856d9b02e2f366933cc40/expr.ipynb\"><img src=\"data:image/png;base64,iVBORw0KGgoAAAANSUhEUgAAACkAAAAVBAMAAAAp9toTAAAAMFBMVEX////c3NwiIiJERESqqqqY\n",
       "mJh2dnZmZmYQEBDu7u4yMjJUVFTMzMyIiIi6uroAAAAs73DqAAAAAXRSTlMAQObYZgAAAQxJREFU\n",
       "GNNtkbFKA0EQhr/TXJKL2XjYWpjC2tjY2/kGlpIqVoFDQRtBCwsrXWySckEsrEwrCF5vkwdQOCyt\n",
       "NEQ7jTu7ucAFt1j++XaY/WcG/j+N4RzYk+sZeq8nHgTHNxmV1Ko72OA6dXQVNQYDaohqooyjD9CC\n",
       "XahqFgY0Ph290Dxl9OEdlhPqY0fvNacZi9scwVqb+k/uoKUpJ9x6+j2FIkqGyyKtbdoOzvgtVjiU\n",
       "/A+h8tuXh2rg6TnirOSdsUMQS4UtpItyEy1ZCWFMaNi3wTr9NBpZsdLpHCDO3mzQ6z4SXcXW7GRi\n",
       "H2sZ1TifaC6k47A91eFswF0/ySKNjJupP7OVLEmpYH5DL/AHXJBBfaMpF1EAAAAASUVORK5CYII=\n",
       "\" style=\"display:inline;vertical-align:middle;\" /></a></td></tr>\n",
       "<tr><td>11</td><td>Literal</td><td></td><td><a class=\"ProveItLink\" href=\"../../../numeral/__pv_it/ec23fc7a1b4222a5f4948b495002b97d6fa18c3c0/expr.ipynb\"><img src=\"data:image/png;base64,iVBORw0KGgoAAAANSUhEUgAAAAoAAAAOBAMAAADkjZCYAAAALVBMVEX///8QEBCYmJh2dnaqqqrc\n",
       "3NxUVFQyMjK6uroiIiLMzMyIiIhmZmbu7u4AAAAZjyHdAAAAAXRSTlMAQObYZgAAAEpJREFUCNdj\n",
       "YLiz+xQDA8MMhpsLGLgnMHAXMHAmMHA8ZeA7wMD1hCHOgIHrNZh8jES+Bss+AqlkeQrSxTyBgWEK\n",
       "w8UFDAx3rLMYAMCjFldHSx/9AAAAAElFTkSuQmCC\n",
       "\" style=\"display:inline;vertical-align:middle;\" /></a></td></tr>\n",
       "<tr><td>12</td><td>Literal</td><td></td><td><a class=\"ProveItLink\" href=\"../../../numeral/__pv_it/77d407a64829263cdc16415becd4c2293f77a4bf0/expr.ipynb\"><img src=\"data:image/png;base64,iVBORw0KGgoAAAANSUhEUgAAAAkAAAAOBAMAAAAPuiubAAAAMFBMVEX///+YmJh2dnbMzMwQEBAi\n",
       "IiLu7u6qqqqIiIhUVFS6urpEREQyMjJmZmbc3NwAAACOMKdoAAAAAXRSTlMAQObYZgAAAFBJREFU\n",
       "CNdj4Lt7egEDw0sGju8MDNMYGOIZGFwSGOYvYDifwHAfKAEUSQASzJ9ATJ4NIPI2iOCYACJrGfge\n",
       "MDBfYGB8wPBUSekqUPH//18ZAIliFhc3zESNAAAAAElFTkSuQmCC\n",
       "\" style=\"display:inline;vertical-align:middle;\" /></a></td></tr>\n",
       "</table>\n"
      ],
      "text/plain": [
       "0. (0 + 2 + 3 + 0) = ((0 + 2) + 3 + 0)\n",
       "   core type: Operation\n",
       "   operator: 1\n",
       "   operands: 2\n",
       "1. =\n",
       "   core type: Literal\n",
       "   sub-expressions: \n",
       "2. (0 + 2 + 3 + 0 , (0 + 2) + 3 + 0)\n",
       "   core type: ExprTuple\n",
       "   sub-expressions: 3, 4\n",
       "3. 0 + 2 + 3 + 0\n",
       "   core type: Operation\n",
       "   operator: 9\n",
       "   operands: 5\n",
       "4. (0 + 2) + 3 + 0\n",
       "   core type: Operation\n",
       "   operator: 9\n",
       "   operands: 6\n",
       "5. (0 , 2 , 3 , 0)\n",
       "   core type: ExprTuple\n",
       "   sub-expressions: 11, 12, 8, 11\n",
       "6. (0 + 2 , 3 , 0)\n",
       "   core type: ExprTuple\n",
       "   sub-expressions: 7, 8, 11\n",
       "7. 0 + 2\n",
       "   core type: Operation\n",
       "   operator: 9\n",
       "   operands: 10\n",
       "8. 3\n",
       "   core type: Literal\n",
       "   sub-expressions: \n",
       "9. +\n",
       "   core type: Literal\n",
       "   sub-expressions: \n",
       "10. (0 , 2)\n",
       "    core type: ExprTuple\n",
       "    sub-expressions: 11, 12\n",
       "11. 0\n",
       "    core type: Literal\n",
       "    sub-expressions: \n",
       "12. 2\n",
       "    core type: Literal\n",
       "    sub-expressions: "
      ]
     },
     "execution_count": 4,
     "metadata": {},
     "output_type": "execute_result"
    }
   ],
   "source": [
    "# display the expression information\n",
    "expr.exprInfo()"
   ]
  },
  {
   "cell_type": "code",
   "execution_count": null,
   "metadata": {},
   "outputs": [],
   "source": []
  }
 ],
 "metadata": {
  "kernelspec": {
   "display_name": "Python 3",
   "language": "python",
   "name": "python3"
  }
 },
 "nbformat": 4,
 "nbformat_minor": 0
}
