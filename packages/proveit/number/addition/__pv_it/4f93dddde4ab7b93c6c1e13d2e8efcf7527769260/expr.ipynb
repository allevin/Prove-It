{
 "cells": [
  {
   "cell_type": "markdown",
   "metadata": {},
   "source": [
    "Expression of type <a class=\"ProveItLink\" href=\"../../../../../../doc/html/api/proveit.ExprTuple.html\">ExprTuple</a>\n",
    "=======================\n",
    "# from context <a class=\"ProveItLink\" href=\"../../_context_.ipynb\">proveit.number.addition</a>"
   ]
  },
  {
   "cell_type": "code",
   "execution_count": 1,
   "metadata": {},
   "outputs": [],
   "source": [
    "# import Expression classes needed to build the expression\n",
    "from proveit import ExprTuple\n",
    "from proveit._common_ import a\n",
    "from proveit.number import Add"
   ]
  },
  {
   "cell_type": "code",
   "execution_count": 2,
   "metadata": {},
   "outputs": [
    {
     "data": {
      "text/html": [
       "<strong id=\"expr\">expr:</strong> <a class=\"ProveItLink\" href=\"expr.ipynb\"><img src=\"data:image/png;base64,iVBORw0KGgoAAAANSUhEUgAAAKkAAAAVBAMAAADP89MSAAAAMFBMVEX////c3NwiIiJERESqqqqY\n",
       "mJh2dnZmZmYQEBDu7u4yMjJUVFTMzMyIiIi6uroAAAAs73DqAAAAAXRSTlMAQObYZgAAAVhJREFU\n",
       "OMu1lT1Iw0AYht/Y608ardkdOuoidHEUi7NiJ0fp5qQUBAcnC04OUje3HkIHz8VZKAYcu2Ry0lKc\n",
       "iigE1E3FO+FCzhyX5ZLhku8hPHx58+UC5HPUQsvCHbGMbLdZDvhyZf3pKTCnBOD6/29JE5xnkG2g\n",
       "0ksCkgo5TbCZQS6AF1i3Fpo4FOeFh6mvOgwkdjjD/a6OlDoYiOHqYk3tzERix9QvRDpCKM54UW/h\n",
       "QHWYiHQ4nyg3dKR2jB9e3QHLqsNEpMOLMBPqyGz0Z32H+yXGl7HLU8ZuTARHjC0xds2v5hvoBzrC\n",
       "rSe88W+QyE12ZiSys3qILfQ0hCewwgf9Ax7dSDqMRDr6TdySQEOKFLu8GmC901ZSNBHpqLbIYklH\n",
       "+GQ9i1F8el2dKA4Tid/4cHw/1pHqBBU/jy+22DZvtprt9y2D7OWxE7pUBGbb6olMHdt/mEfgFwMn\n",
       "lKt+7diqAAAAAElFTkSuQmCC\n",
       "\" style=\"display:inline;vertical-align:middle;\" /></a><br>"
      ],
      "text/plain": [
       "expr: (a + a + a + a + a)"
      ]
     },
     "execution_count": 2,
     "metadata": {},
     "output_type": "execute_result"
    }
   ],
   "source": [
    "# build up the expression from sub-expressions\n",
    "expr = ExprTuple(Add(a, a, a, a, a))"
   ]
  },
  {
   "cell_type": "code",
   "execution_count": 3,
   "metadata": {},
   "outputs": [
    {
     "name": "stdout",
     "output_type": "stream",
     "text": [
      "Passed sanity check: built 'expr' is the same as the stored Expression.\n"
     ]
    }
   ],
   "source": [
    "# check that the built expression is the same as the stored expression\n",
    "%check_expr"
   ]
  },
  {
   "cell_type": "code",
   "execution_count": 4,
   "metadata": {},
   "outputs": [
    {
     "data": {
      "text/html": [
       "<table><tr><th>&nbsp;</th><th>core type</th><th>sub-expressions</th><th>expression</th></tr>\n",
       "<tr><td>0</td><td>ExprTuple</td><td>1</td><td><a class=\"ProveItLink\" href=\"expr.ipynb\"><img src=\"data:image/png;base64,iVBORw0KGgoAAAANSUhEUgAAAKkAAAAVBAMAAADP89MSAAAAMFBMVEX////c3NwiIiJERESqqqqY\n",
       "mJh2dnZmZmYQEBDu7u4yMjJUVFTMzMyIiIi6uroAAAAs73DqAAAAAXRSTlMAQObYZgAAAVhJREFU\n",
       "OMu1lT1Iw0AYht/Y608ardkdOuoidHEUi7NiJ0fp5qQUBAcnC04OUje3HkIHz8VZKAYcu2Ry0lKc\n",
       "iigE1E3FO+FCzhyX5ZLhku8hPHx58+UC5HPUQsvCHbGMbLdZDvhyZf3pKTCnBOD6/29JE5xnkG2g\n",
       "0ksCkgo5TbCZQS6AF1i3Fpo4FOeFh6mvOgwkdjjD/a6OlDoYiOHqYk3tzERix9QvRDpCKM54UW/h\n",
       "QHWYiHQ4nyg3dKR2jB9e3QHLqsNEpMOLMBPqyGz0Z32H+yXGl7HLU8ZuTARHjC0xds2v5hvoBzrC\n",
       "rSe88W+QyE12ZiSys3qILfQ0hCewwgf9Ax7dSDqMRDr6TdySQEOKFLu8GmC901ZSNBHpqLbIYklH\n",
       "+GQ9i1F8el2dKA4Tid/4cHw/1pHqBBU/jy+22DZvtprt9y2D7OWxE7pUBGbb6olMHdt/mEfgFwMn\n",
       "lKt+7diqAAAAAElFTkSuQmCC\n",
       "\" style=\"display:inline;vertical-align:middle;\" /></a></td></tr>\n",
       "<tr><td>1</td><td>Operation</td><td>operator:&nbsp;2<br>operands:&nbsp;3<br></td><td><a class=\"ProveItLink\" href=\"../9229b91a5a32f43646dbad418ecba6f0710bb2640/expr.ipynb\"><img src=\"data:image/png;base64,iVBORw0KGgoAAAANSUhEUgAAAJwAAAAOBAMAAAAoOGg2AAAAMFBMVEX///8yMjKqqqrMzMzu7u4i\n",
       "IiJmZmaYmJhEREQQEBC6urp2dnaIiIhUVFTc3NwAAAD87Fq/AAAAAXRSTlMAQObYZgAAAONJREFU\n",
       "OMtjYEAAPwZ0gCnC8oCwCBToECHCdICwCDWN47uzax6qZnwicM1vT698gE1k5QOOD6ia8YnANHPN\n",
       "Y+jHJsL3nYGtAUUzXhGY5vcFDBnYRHg/MLAeQNGMVwSm+T4DQww2Ef4GBn8DIC9RUDBSUFCWAZ8I\n",
       "m6Cg6ERBwQtA5g8Gls/YRN4fYNBncEB2C14RqFv4/jAwfWDBIuKvwHCRyQBZM14RqGaWTwy8AspY\n",
       "RBgLmMK4UUIKrwgspMQZVBM2YBHhu3PK4hRqPOITgWl+e2ZxzwIcIrTJZGuIEOE6gFcEANifcwk6\n",
       "B+xgAAAAAElFTkSuQmCC\n",
       "\" style=\"display:inline;vertical-align:middle;\" /></a></td></tr>\n",
       "<tr><td>2</td><td>Literal</td><td></td><td><a class=\"ProveItLink\" href=\"../3e6688136fa3c7aefbebe51301b7c3ebf0b69c440/expr.ipynb\"><img src=\"data:image/png;base64,iVBORw0KGgoAAAANSUhEUgAAAA4AAAAOBAMAAADtZjDiAAAAJFBMVEX///+6urpUVFQQEBAiIiIy\n",
       "MjJmZmaIiIiqqqrc3Nzu7u4AAACgHpL+AAAAAXRSTlMAQObYZgAAAB5JREFUCNdjYGBgWMkAAe2k\n",
       "0Kmhoc6hoUGk6BMHYgAHOwjcado9fwAAAABJRU5ErkJggg==\n",
       "\" style=\"display:inline;vertical-align:middle;\" /></a></td></tr>\n",
       "<tr><td>3</td><td>ExprTuple</td><td>4, 4, 4, 4, 4</td><td><a class=\"ProveItLink\" href=\"../bd8b0c96bb43208ba58e7ac98902471d1fa576b90/expr.ipynb\"><img src=\"data:image/png;base64,iVBORw0KGgoAAAANSUhEUgAAAGgAAAAVBAMAAABYjraNAAAAMFBMVEX////c3NwiIiJERESqqqqY\n",
       "mJh2dnZmZmYQEBDu7u4yMjJUVFTMzMyIiIi6uroAAAAs73DqAAAAAXRSTlMAQObYZgAAARpJREFU\n",
       "OMtjYCAL8F0gTT3rAyBxmlRbaoB4JamauBgYeC+Qqok1gYFjAqmaOBsYXpEedCYMZUCScW9eI4SP\n",
       "n8Ugfe2FAANDOsNSIPuFAPMHiCh+Fl8jgz2Q8mLoAxr1lYHdAGIoXhaDfABDMcgUhn8MDNwfGJgg\n",
       "YYifxbCfgUEXSJ0HaeI3YJh/ACyKn8XwmYHzD1hTC9DWCwz+DOCQx89i/MvA8oET5DxTBob5Dgy7\n",
       "WA4AeQRYnF8YuBf4MDBEAcOPgSuARZ2NYb4CIRYwpJ0KEkBB/ggUEfcO32OY8ZEQi0H67htbYBpf\n",
       "x8AhAIvohwzEsYDJCJj8oCCAgTgW2wWkrEGsplkgh0LZvHBR/CyGjaDQJzFD8R5gAACT23cpa4ld\n",
       "/QAAAABJRU5ErkJggg==\n",
       "\" style=\"display:inline;vertical-align:middle;\" /></a></td></tr>\n",
       "<tr><td>4</td><td>Variable</td><td></td><td><a class=\"ProveItLink\" href=\"../../../../__pv_it/07527342713064c87612d00d8557c53d53d5324a0/expr.ipynb\"><img src=\"data:image/png;base64,iVBORw0KGgoAAAANSUhEUgAAAAsAAAAJBAMAAAAWSsseAAAAMFBMVEX///8yMjKqqqrMzMzu7u4i\n",
       "IiJmZmaYmJhEREQQEBC6urp2dnaIiIhUVFTc3NwAAAD87Fq/AAAAAXRSTlMAQObYZgAAAEhJREFU\n",
       "CNdjYOC7s2seAwPDygccHxgY+L4zsDUwMPB+YGA9wMDA38Dgb8DA8P4Agz6DA4O/AsNFJgMGxgKm\n",
       "MG6gyjunLE4xAAAZTBA5TB6DCwAAAABJRU5ErkJggg==\n",
       "\" style=\"display:inline;vertical-align:middle;\" /></a></td></tr>\n",
       "</table>\n"
      ],
      "text/plain": [
       "0. (a + a + a + a + a)\n",
       "   core type: ExprTuple\n",
       "   sub-expressions: 1\n",
       "1. a + a + a + a + a\n",
       "   core type: Operation\n",
       "   operator: 2\n",
       "   operands: 3\n",
       "2. +\n",
       "   core type: Literal\n",
       "   sub-expressions: \n",
       "3. (a , a , a , a , a)\n",
       "   core type: ExprTuple\n",
       "   sub-expressions: 4, 4, 4, 4, 4\n",
       "4. a\n",
       "   core type: Variable\n",
       "   sub-expressions: "
      ]
     },
     "execution_count": 4,
     "metadata": {},
     "output_type": "execute_result"
    }
   ],
   "source": [
    "# display the expression information\n",
    "expr.exprInfo()"
   ]
  },
  {
   "cell_type": "code",
   "execution_count": null,
   "metadata": {},
   "outputs": [],
   "source": []
  }
 ],
 "metadata": {
  "kernelspec": {
   "display_name": "Python 3",
   "language": "python",
   "name": "python3"
  }
 },
 "nbformat": 4,
 "nbformat_minor": 0
}
