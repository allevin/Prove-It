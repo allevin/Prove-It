{
 "cells": [
  {
   "cell_type": "markdown",
   "metadata": {},
   "source": [
    "Expression of type <a class=\"ProveItLink\" href=\"../../../../../../doc/html/api/proveit.logic.Equals.html\">Equals</a>\n",
    "=======================\n",
    "# from context <a class=\"ProveItLink\" href=\"../../_context_.ipynb\">proveit.number.addition</a>"
   ]
  },
  {
   "cell_type": "code",
   "execution_count": 1,
   "metadata": {},
   "outputs": [],
   "source": [
    "# import Expression classes needed to build the expression\n",
    "from proveit.logic import Equals\n",
    "from proveit.number import Add, one, three, two"
   ]
  },
  {
   "cell_type": "code",
   "execution_count": 2,
   "metadata": {},
   "outputs": [
    {
     "data": {
      "text/html": [
       "<strong id=\"expr\">expr:</strong> <a class=\"ProveItLink\" href=\"expr.ipynb\"><img src=\"data:image/png;base64,iVBORw0KGgoAAAANSUhEUgAAAQ8AAAAVBAMAAACqO3ZEAAAAMFBMVEX////c3NwiIiJERESqqqqY\n",
       "mJh2dnZmZmYQEBDu7u4yMjJUVFTMzMyIiIi6uroAAAAs73DqAAAAAXRSTlMAQObYZgAAAkxJREFU\n",
       "SMfNlr9LG2EYx58kl14uP844ZVBBWijddHHoovkHxHTJWAIFnUQptCmZWuhiB73SRXAJllK8Ltkd\n",
       "2qkdOtTFSYvBURDEQYhgru+9z72S932e04Nb+sLXN3zM95tv3rt78wL8N8M9SGF+zrDzSIkNEf0t\n",
       "lPOM/9Q68zooL7+om/anAPYPElruSVGDJIxBxewBOAtGkUwPTvSYGrg3RsCngfjTJblFT4oakBCD\n",
       "iqkcgLP/XRX5iFPJg+yFRtbqcImvnCrOO/thQpMU+YuiBiTKQGIKYYcTVWQRp8IGlIYaWbrNtdQ9\n",
       "VQkTtkmRDRQ1IFEGEnMGTJHiAGy9CNyutJ6QM+8ct4tiDJIoA4l5zRURIzswSLHHJTxYN4rYLRRj\n",
       "kEQZSMyXmCJ/Wjr5+Y1dU0t++Y4fDvmOYgPFGCSxujExmzFFPpuksskluG+NFSn0UYxBEmUgMUO+\n",
       "iD1Lqm15TEL5wigy1kcxBkmUgcSMFBEL/CRaYDgCnUwCLIgFt31/94Pv9+4vQg1IpIGLec+uiLUO\n",
       "46PECTyZG3NpXj4MxyN5aepS1BCR2Eszxxb5BfBMI9cAM1UmIW/ulLkGihqQ5NmbVdAVrkjm8fLK\n",
       "tEYOwb1K9PiGIBQ1IIl9fE/F1N762tA+NhsEgV7EaneMnch+c/1KPKl9c0ObRlEDEmUgMYXqaMwi\n",
       "2bEJsbRjA93i30W6x0BovmWeJejp4o7zyyoxNM2fQt5A6V6aU5UTewxIblB0Ik2RUpUgcZaRSmxQ\n",
       "NJPmqHjMsKlIiQ2S/gPD7wOg3bbF8gAAAABJRU5ErkJggg==\n",
       "\" style=\"display:inline;vertical-align:middle;\" /></a><br>"
      ],
      "text/plain": [
       "expr: (1 + 2 + 3 + 1) = ((3 + 3) + 1)"
      ]
     },
     "execution_count": 2,
     "metadata": {},
     "output_type": "execute_result"
    }
   ],
   "source": [
    "# build up the expression from sub-expressions\n",
    "expr = Equals(Add(one, two, three, one), Add(Add(three, three), one))"
   ]
  },
  {
   "cell_type": "code",
   "execution_count": 3,
   "metadata": {},
   "outputs": [
    {
     "name": "stdout",
     "output_type": "stream",
     "text": [
      "Passed sanity check: built 'expr' is the same as the stored Expression.\n"
     ]
    }
   ],
   "source": [
    "# check that the built expression is the same as the stored expression\n",
    "%check_expr"
   ]
  },
  {
   "cell_type": "code",
   "execution_count": 4,
   "metadata": {},
   "outputs": [
    {
     "data": {
      "text/html": [
       "<table><tr><th>&nbsp;</th><th>core type</th><th>sub-expressions</th><th>expression</th></tr>\n",
       "<tr><td>0</td><td>Operation</td><td>operator:&nbsp;1<br>operands:&nbsp;2<br></td><td><a class=\"ProveItLink\" href=\"expr.ipynb\"><img src=\"data:image/png;base64,iVBORw0KGgoAAAANSUhEUgAAAQ8AAAAVBAMAAACqO3ZEAAAAMFBMVEX////c3NwiIiJERESqqqqY\n",
       "mJh2dnZmZmYQEBDu7u4yMjJUVFTMzMyIiIi6uroAAAAs73DqAAAAAXRSTlMAQObYZgAAAkxJREFU\n",
       "SMfNlr9LG2EYx58kl14uP844ZVBBWijddHHoovkHxHTJWAIFnUQptCmZWuhiB73SRXAJllK8Ltkd\n",
       "2qkdOtTFSYvBURDEQYhgru+9z72S932e04Nb+sLXN3zM95tv3rt78wL8N8M9SGF+zrDzSIkNEf0t\n",
       "lPOM/9Q68zooL7+om/anAPYPElruSVGDJIxBxewBOAtGkUwPTvSYGrg3RsCngfjTJblFT4oakBCD\n",
       "iqkcgLP/XRX5iFPJg+yFRtbqcImvnCrOO/thQpMU+YuiBiTKQGIKYYcTVWQRp8IGlIYaWbrNtdQ9\n",
       "VQkTtkmRDRQ1IFEGEnMGTJHiAGy9CNyutJ6QM+8ct4tiDJIoA4l5zRURIzswSLHHJTxYN4rYLRRj\n",
       "kEQZSMyXmCJ/Wjr5+Y1dU0t++Y4fDvmOYgPFGCSxujExmzFFPpuksskluG+NFSn0UYxBEmUgMUO+\n",
       "iD1Lqm15TEL5wigy1kcxBkmUgcSMFBEL/CRaYDgCnUwCLIgFt31/94Pv9+4vQg1IpIGLec+uiLUO\n",
       "46PECTyZG3NpXj4MxyN5aepS1BCR2Eszxxb5BfBMI9cAM1UmIW/ulLkGihqQ5NmbVdAVrkjm8fLK\n",
       "tEYOwb1K9PiGIBQ1IIl9fE/F1N762tA+NhsEgV7EaneMnch+c/1KPKl9c0ObRlEDEmUgMYXqaMwi\n",
       "2bEJsbRjA93i30W6x0BovmWeJejp4o7zyyoxNM2fQt5A6V6aU5UTewxIblB0Ik2RUpUgcZaRSmxQ\n",
       "NJPmqHjMsKlIiQ2S/gPD7wOg3bbF8gAAAABJRU5ErkJggg==\n",
       "\" style=\"display:inline;vertical-align:middle;\" /></a></td></tr>\n",
       "<tr><td>1</td><td>Literal</td><td></td><td><a class=\"ProveItLink\" href=\"../../../../logic/equality/__pv_it/2fb26078095930560931daa0500ce419a39ea6cd0/expr.ipynb\"><img src=\"data:image/png;base64,iVBORw0KGgoAAAANSUhEUgAAAA4AAAAFBAMAAACHocAhAAAAFVBMVEX///9EREQiIiJUVFQyMjJm\n",
       "ZmYAAADubVkoAAAAAXRSTlMAQObYZgAAABRJREFUCNdjCHEBAWcGXCBICQQUAUpuAwlgGKrkAAAA\n",
       "AElFTkSuQmCC\n",
       "\" style=\"display:inline;vertical-align:middle;\" /></a></td></tr>\n",
       "<tr><td>2</td><td>ExprTuple</td><td>3, 4</td><td><a class=\"ProveItLink\" href=\"../949f163f1ecd6703e2827ad3dccdb16111e0c16a0/expr.ipynb\"><img src=\"data:image/png;base64,iVBORw0KGgoAAAANSUhEUgAAAO0AAAAVBAMAAABYonTIAAAAMFBMVEX////c3NwiIiJERESqqqqY\n",
       "mJh2dnZmZmYQEBDu7u4yMjJUVFTMzMyIiIi6uroAAAAs73DqAAAAAXRSTlMAQObYZgAAAlZJREFU\n",
       "SMfFlj2IE0EUx/+bbG5387GJ1RUqWImdFlrYeOmsgrGxlICQA0FMo5FUCjZncVmxObAw+IHcXpP+\n",
       "Cq/SwsI0gqByh6Ugdx4q7IGJ87HZ7MzO84oIDiwDv9k3v5m3u/MW+F/NH80/xzdq4CpN37IrH2gj\n",
       "i70LGnndPquHJ1HlIcrta3V1VBBnKyM9D0nXAW9J81pDbKvTWB3saomZRRUDLML/rS1dkIGufRRB\n",
       "0MoI3uar6QwPZVcKkNtTyMIPVE8oJBX1GbhZx37Ma7KX5ApU+niTexl1efD2dIaG7NwVlMYKsWfe\n",
       "xnTpSdQKcCnx2nFaJFmDSlHhXka/wuAtRnDGmiXJc8bri2RO85wYBMnXTV5Gb5u8rOUinWyA8Dot\n",
       "sdah7uVkoWPyMvqC8L5rqaR8fUh5i03+vm/oGRXEHpi8jK4S3mcZ8mGH8LpioLKq75cT/67Jy+jY\n",
       "7HXOZLxuRHirckH9QPNyUt4zeRlNeXtheCoMZb4+QiXWFvI/tXvS3mPAEku3E4ZPH4QhfySSCG+K\n",
       "Jt77xv3aHRxRyJNIeo15rsObBMI721lMyDyfM3rfAJcVUh0g993g5YF5JjwATtcUgyQF43vF6LLJ\n",
       "a51sL6unRKWJ3VbW6+3LrwLv4f9SDZKQ39EX1nX7L5vKnLnJZKKdThe7z7Wc8Civzzbps1vtbk87\n",
       "ISQp7qjUuXNwS1C3lj61G5nycQjxefi9NLGV8rFG0ULr74X0EFIAZoe/oZ7fIOn6XBW/ENdBonkD\n",
       "kh6dyzuKyzXRSjWSWv/gP+c4NfCJon8AB9DrU2I0/ZAAAAAASUVORK5CYII=\n",
       "\" style=\"display:inline;vertical-align:middle;\" /></a></td></tr>\n",
       "<tr><td>3</td><td>Operation</td><td>operator:&nbsp;10<br>operands:&nbsp;5<br></td><td><a class=\"ProveItLink\" href=\"../0d8c22bd9a6186cc03f8946f1a2b6e722ff15d980/expr.ipynb\"><img src=\"data:image/png;base64,iVBORw0KGgoAAAANSUhEUgAAAHMAAAAQBAMAAADXDV0hAAAAMFBMVEX///92dnbMzMy6uroiIiKq\n",
       "qqrc3NyYmJgyMjIQEBBmZmaIiIhUVFTu7u5EREQAAADaqMZ6AAAAAXRSTlMAQObYZgAAAQhJREFU\n",
       "KM9jYGB4y4AK2Fb1GaCKKAo+RVPDwHcBSNz7iyaaw8D9FdWsBQz2G1DV8L4Har1zBqaVNwFCn2Vg\n",
       "8EcRYfzKwO8AEbkGlThzHmQrN0wrK9TkmRcYzhsgi7AitEbDrN2PVWv/BYb1KFqBAOZgAlqBwP8C\n",
       "mkgPA5FamT6iijBJHCBWK8cDdJGdBkRqXYchwvkXt1aujo6WGR0dYIdxH0AVYVNg4PsOFFnR0eHZ\n",
       "0dGDz9YoBrYEZJH7fyFaCTuYaQEDO4pW/gYGlm9EaU0RFFyCIsJdwGAvgEUr18ofy1G1+v///wVV\n",
       "JGpVK1rkrJrfVYCUpFk3oGcPTJFoBqyAeQNhEWskNgDB1nAlS+D6+QAAAABJRU5ErkJggg==\n",
       "\" style=\"display:inline;vertical-align:middle;\" /></a></td></tr>\n",
       "<tr><td>4</td><td>Operation</td><td>operator:&nbsp;10<br>operands:&nbsp;6<br></td><td><a class=\"ProveItLink\" href=\"../bb3ee6269371819d7a6ce9b1bbdf8cdd5ef56d430/expr.ipynb\"><img src=\"data:image/png;base64,iVBORw0KGgoAAAANSUhEUgAAAF4AAAAVBAMAAAA9Y0TyAAAAMFBMVEX////c3NwiIiJERESqqqqY\n",
       "mJh2dnZmZmYQEBDu7u4yMjJUVFTMzMyIiIi6uroAAAAs73DqAAAAAXRSTlMAQObYZgAAASJJREFU\n",
       "KM9jYCAV8F3AIcH6AKvwaQaGY2kmaIJgkRoMtZZAvJKBsYDhPaolEBEudOWTfzIw8F5gYPvCwK8A\n",
       "EZkIoSAirAkMKKKzdwPVc0xgYEGo94VQEBHOBgYUUQZeoPpXYBbMPb5wu0EiJljUl4FZqxnQ1YNE\n",
       "0rGoXwqkebI2oMlARLywqO8Ds248QDcfJPICi/p/YBbHT3T1IJHz2NUzHmBg/grkVq1apbFqFcjh\n",
       "UBGweoQoWH0LA8P8nxD1CJOgItjcY8rAwL+AgekjigxUJAqLemCY8QYwvE9AkYGKYAvPR0DavXwJ\n",
       "mgxEZB2qKHvFr1IGDgHkFOWLzMFID+BUnoCs5C0yh+0CNtGVOHPSLKyi0jjVb8QqyogrP/IewCII\n",
       "AP4WZAOoou3AAAAAAElFTkSuQmCC\n",
       "\" style=\"display:inline;vertical-align:middle;\" /></a></td></tr>\n",
       "<tr><td>5</td><td>ExprTuple</td><td>9, 7, 12, 9</td><td><a class=\"ProveItLink\" href=\"../0a3582afc22049f27c7d5cd6dbf4696e6621121f0/expr.ipynb\"><img src=\"data:image/png;base64,iVBORw0KGgoAAAANSUhEUgAAAFEAAAAVBAMAAADMaB9/AAAAMFBMVEX////c3NwiIiJERESqqqqY\n",
       "mJh2dnZmZmYQEBDu7u4yMjJUVFTMzMyIiIi6uroAAAAs73DqAAAAAXRSTlMAQObYZgAAAWRJREFU\n",
       "KM+N061Pw0AYBvBnX3S3rk1REyCmsGAQGNb/gGKQhIRkU4QZGJlCYDBrE8wSBEsIIQQzPzEUCAQz\n",
       "KEgGSNRAkGzJVu7a6/VaBL2kfZ9efk3b965A8qEPEqBtdnqkR8bhM6Xmuh+K1V0zYGuAckfrDUAq\n",
       "XKa6GPqgBH3K4dmYnjqANgDp9blUHaRHXto38e3PnfeY3ALyDA25zJ9CnXlpQ0hoTLaBT0iyMIYy\n",
       "C750KsuMiUNZ0pEe81DoynKujquYfNrx6/0tZJntoBWTlwK0ZKkfYxaVyoq4x3YkWRzF5Quvi0DF\n",
       "isqTiMzWMc8qcZ2opE9fDaSHH4BNL02AZYOEMtdBjUvCGp1aqtbKXnqG/oOLstylD1oa9rVFbIM2\n",
       "03XdspeyjaaJ9hf7xqPJAe3uG/JGsCYG/qR30Qi6mjneaeTEbJgskfb8Xfe/JHTXYYFfhFtfJE1M\n",
       "qeyFUkn+jlfgFxSLaVyxKrEHAAAAAElFTkSuQmCC\n",
       "\" style=\"display:inline;vertical-align:middle;\" /></a></td></tr>\n",
       "<tr><td>6</td><td>ExprTuple</td><td>8, 9</td><td><a class=\"ProveItLink\" href=\"../eee72dcf2f74217c8e501411d24c6eb0751ed0db0/expr.ipynb\"><img src=\"data:image/png;base64,iVBORw0KGgoAAAANSUhEUgAAAE0AAAAVBAMAAADx+n4ZAAAAMFBMVEX////c3NwiIiJERESqqqqY\n",
       "mJh2dnZmZmYQEBDu7u4yMjJUVFTMzMyIiIi6uroAAAAs73DqAAAAAXRSTlMAQObYZgAAATJJREFU\n",
       "KM9jYCAW8F0gqCQORJxmYDiWZoImgyRiycDAfgBIr2RgLGB4j2ooksjkn0BiAQMD7wUGti8M/AoQ\n",
       "0YkQCiEyezdIXRgDA8cEBhaEOl8IhSTCC1I3g4HhFZgHs8UXbjVMBKyO2YGhDMxbzYCuDiYCVsdW\n",
       "wLAUSPFkbUBThxABq2NZwNAH5t14gG4eTASsjq+B4R+Yx/ETXR1MBKyO5wNIHeMBBuavQF7VqlUa\n",
       "q1aBHAYTQVLXwsAw/ydcFGoekgjMXlMGBv4FDEwfUdRBRCbA1bEuYEgHMgMY3iegqAOLcH5CDpdH\n",
       "QMq9fAlauIBEOPsFgEmg4lcpAwPXAwYOAeQE4IuS4uBSwHhjTUCWeovMYYWzcsHpCheAq+MEpisG\n",
       "aZzq4GmSG+QARsLp/g4DAwDbRl6oYixX7QAAAABJRU5ErkJggg==\n",
       "\" style=\"display:inline;vertical-align:middle;\" /></a></td></tr>\n",
       "<tr><td>7</td><td>Literal</td><td></td><td><a class=\"ProveItLink\" href=\"../../../numeral/__pv_it/77d407a64829263cdc16415becd4c2293f77a4bf0/expr.ipynb\"><img src=\"data:image/png;base64,iVBORw0KGgoAAAANSUhEUgAAAAkAAAAOBAMAAAAPuiubAAAAMFBMVEX///+YmJh2dnbMzMwQEBAi\n",
       "IiLu7u6qqqqIiIhUVFS6urpEREQyMjJmZmbc3NwAAACOMKdoAAAAAXRSTlMAQObYZgAAAFBJREFU\n",
       "CNdj4Lt7egEDw0sGju8MDNMYGOIZGFwSGOYvYDifwHAfKAEUSQASzJ9ATJ4NIPI2iOCYACJrGfge\n",
       "MDBfYGB8wPBUSekqUPH//18ZAIliFhc3zESNAAAAAElFTkSuQmCC\n",
       "\" style=\"display:inline;vertical-align:middle;\" /></a></td></tr>\n",
       "<tr><td>8</td><td>Operation</td><td>operator:&nbsp;10<br>operands:&nbsp;11<br></td><td><a class=\"ProveItLink\" href=\"../699a1d509d4351b084cb142424605f66aca456f80/expr.ipynb\"><img src=\"data:image/png;base64,iVBORw0KGgoAAAANSUhEUgAAAC0AAAAQBAMAAABw0OvaAAAAMFBMVEX///+YmJju7u4QEBBUVFQy\n",
       "MjIiIiKIiIi6urpmZmbc3NyqqqpERER2dnbMzMwAAAB0GlNiAAAAAXRSTlMAQObYZgAAALRJREFU\n",
       "GNNjYHh79zQDCuC7e2cDAwPXBIb+AhTxlQwc3xkYeH8z8CdABLQg1P0NDN8YGLgR4tsh1H6wOBDA\n",
       "zNkOMwlkDhCEMKCJszqArL/qgCb+FqqwuAFNPbsFmGL+hCbOYK/AwPWAgecjkDk1NDQ5NBRkwjoG\n",
       "hvMCDPqfIOJw9Uz/FUDi/AEMbL9QzPnKwJC/gIFdgKH/Aop4IQPHXyC1c2Y0qju5Z07dgBJg2xmw\n",
       "g3YkNgCAPTRKDcxu7AAAAABJRU5ErkJggg==\n",
       "\" style=\"display:inline;vertical-align:middle;\" /></a></td></tr>\n",
       "<tr><td>9</td><td>Literal</td><td></td><td><a class=\"ProveItLink\" href=\"../../../numeral/__pv_it/9be8badea4c35b9724062cecc501d17a3158d1d20/expr.ipynb\"><img src=\"data:image/png;base64,iVBORw0KGgoAAAANSUhEUgAAAAgAAAAPBAMAAAArJJMAAAAAHlBMVEX///+YmJgyMjIQEBBmZmaI\n",
       "iIhUVFTu7u5EREQAAAAw+MI4AAAAAXRSTlMAQObYZgAAACFJREFUCNdjYGBoZ2BgqJjOwFCWBiQY\n",
       "WEklWJwnOTKAAACjEQo8HvEr3AAAAABJRU5ErkJggg==\n",
       "\" style=\"display:inline;vertical-align:middle;\" /></a></td></tr>\n",
       "<tr><td>10</td><td>Literal</td><td></td><td><a class=\"ProveItLink\" href=\"../3e6688136fa3c7aefbebe51301b7c3ebf0b69c440/expr.ipynb\"><img src=\"data:image/png;base64,iVBORw0KGgoAAAANSUhEUgAAAA4AAAAOBAMAAADtZjDiAAAAJFBMVEX///+6urpUVFQQEBAiIiIy\n",
       "MjJmZmaIiIiqqqrc3Nzu7u4AAACgHpL+AAAAAXRSTlMAQObYZgAAAB5JREFUCNdjYGBgWMkAAe2k\n",
       "0Kmhoc6hoUGk6BMHYgAHOwjcado9fwAAAABJRU5ErkJggg==\n",
       "\" style=\"display:inline;vertical-align:middle;\" /></a></td></tr>\n",
       "<tr><td>11</td><td>ExprTuple</td><td>12, 12</td><td><a class=\"ProveItLink\" href=\"../c017262dc935bab7587f0744a3b31563e3ec1f2b0/expr.ipynb\"><img src=\"data:image/png;base64,iVBORw0KGgoAAAANSUhEUgAAACkAAAAVBAMAAAAp9toTAAAAMFBMVEX////c3NwiIiJERESqqqqY\n",
       "mJh2dnZmZmYQEBDu7u4yMjJUVFTMzMyIiIi6uroAAAAs73DqAAAAAXRSTlMAQObYZgAAAQ9JREFU\n",
       "GNNtkS1PA0EQhp+jvXIH7fUcAgT/AAOac0iqkKQJSUlICFU0QSHQ9CSOEyAIpj+hqgZTQ4JANEjM\n",
       "AQGSkvAxO909cWHFZt5nszPvzMD/JxqXwK657mDUWZ+BemcvYX4o0Q1el3z2YYnoGzJojKm901xV\n",
       "epTwBjsQpFQLuq30Ap5V5q6kyVBJOFZx6wwsDKDW5dqUPhhYODLP1YxzVQ8Tixuio1N+VARTl6Kf\n",
       "Un8x1BtS+VC0ApstQ8/gcmpp+JsaKhk2oJkx90oq+AvWYvyMfanQIm+HYp97ok919iRiq3dF2I/F\n",
       "U+8kEc8Tgth15QLTsd+2sV8M+FAnWaKhTJJlK4qVLJpUXnlDj/AHHh5B6Heel5EAAAAASUVORK5C\n",
       "YII=\n",
       "\" style=\"display:inline;vertical-align:middle;\" /></a></td></tr>\n",
       "<tr><td>12</td><td>Literal</td><td></td><td><a class=\"ProveItLink\" href=\"../../../numeral/__pv_it/9176d93c83afa2c995b614976e3cb49207102fa70/expr.ipynb\"><img src=\"data:image/png;base64,iVBORw0KGgoAAAANSUhEUgAAAAoAAAAOBAMAAADkjZCYAAAAMFBMVEX///+YmJju7u4QEBBUVFQy\n",
       "MjIiIiKIiIi6urpmZmbc3NyqqqpERER2dnbMzMwAAAB0GlNiAAAAAXRSTlMAQObYZgAAAE1JREFU\n",
       "CNdjYHh79zQDA9cEhv4CBt7fDPwJDNxgEgiAIkAQAsR8Vx1ATIbiBhDJ/ImB6wEDz0cG/U8gkj+A\n",
       "ge0XA7sAQ/8FBoadM6MZAEflFACalZ/OAAAAAElFTkSuQmCC\n",
       "\" style=\"display:inline;vertical-align:middle;\" /></a></td></tr>\n",
       "</table>\n"
      ],
      "text/plain": [
       "0. (1 + 2 + 3 + 1) = ((3 + 3) + 1)\n",
       "   core type: Operation\n",
       "   operator: 1\n",
       "   operands: 2\n",
       "1. =\n",
       "   core type: Literal\n",
       "   sub-expressions: \n",
       "2. (1 + 2 + 3 + 1 , (3 + 3) + 1)\n",
       "   core type: ExprTuple\n",
       "   sub-expressions: 3, 4\n",
       "3. 1 + 2 + 3 + 1\n",
       "   core type: Operation\n",
       "   operator: 10\n",
       "   operands: 5\n",
       "4. (3 + 3) + 1\n",
       "   core type: Operation\n",
       "   operator: 10\n",
       "   operands: 6\n",
       "5. (1 , 2 , 3 , 1)\n",
       "   core type: ExprTuple\n",
       "   sub-expressions: 9, 7, 12, 9\n",
       "6. (3 + 3 , 1)\n",
       "   core type: ExprTuple\n",
       "   sub-expressions: 8, 9\n",
       "7. 2\n",
       "   core type: Literal\n",
       "   sub-expressions: \n",
       "8. 3 + 3\n",
       "   core type: Operation\n",
       "   operator: 10\n",
       "   operands: 11\n",
       "9. 1\n",
       "   core type: Literal\n",
       "   sub-expressions: \n",
       "10. +\n",
       "    core type: Literal\n",
       "    sub-expressions: \n",
       "11. (3 , 3)\n",
       "    core type: ExprTuple\n",
       "    sub-expressions: 12, 12\n",
       "12. 3\n",
       "    core type: Literal\n",
       "    sub-expressions: "
      ]
     },
     "execution_count": 4,
     "metadata": {},
     "output_type": "execute_result"
    }
   ],
   "source": [
    "# display the expression information\n",
    "expr.exprInfo()"
   ]
  },
  {
   "cell_type": "code",
   "execution_count": null,
   "metadata": {},
   "outputs": [],
   "source": []
  }
 ],
 "metadata": {
  "kernelspec": {
   "display_name": "Python 3",
   "language": "python",
   "name": "python3"
  }
 },
 "nbformat": 4,
 "nbformat_minor": 0
}
