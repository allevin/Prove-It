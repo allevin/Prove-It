{
 "cells": [
  {
   "cell_type": "markdown",
   "metadata": {},
   "source": [
    "Show the Proof\n",
    "========"
   ]
  },
  {
   "cell_type": "code",
   "execution_count": 1,
   "metadata": {},
   "outputs": [
    {
     "data": {
      "text/html": [
       "<table><tr><th>&nbsp;</th><th>step type</th><th>requirements</th><th>statement</th></tr>\n",
       "<tr><td>0</td><td>specialization</td><td>1, 2</td><td><span style=\"font-size:20px;\"> <a class=\"ProveItLink\" href=\"proof.ipynb\" style=\"text-decoration: none\">&#x22A2;&nbsp;</a><a class=\"ProveItLink\" href=\"../61ad7764ee2f7bce1d2ed87b277c83eb1a48dc0d0/expr.ipynb\"><img src=\"data:image/png;base64,iVBORw0KGgoAAAANSUhEUgAAADAAAAAPBAMAAABQAFHMAAAAMFBMVEX///8iIiJ2dnaqqqq6urrM\n",
       "zMzc3NyYmJgyMjIQEBBmZmaIiIhUVFTu7u5EREQAAACQig+WAAAAAXRSTlMAQObYZgAAAJlJREFU\n",
       "GNNjYGB4y4AObu1eCiTv/cWQEGG4GMBw5wxEgu0oXJxbgIG7AUhBdcQ9gUkwHmBg+YaQYMhphjL4\n",
       "FzCwfkaSYLgkDqHzFRhYfyNLMNwWugCT+IQiwcAudQG7BOuJBKxGsbwLgFn+HVmCuScB5lxmZOey\n",
       "Q6wGe5BJACFxSfoCTKsww80ABq6VP5aDg0QcKRC1jzLgBABtvjL92DfomQAAAABJRU5ErkJggg==\n",
       "\" style=\"display:inline;vertical-align:middle;\" /></a></span></td></tr>\n",
       "<tr><td>&nbsp;</td><td colspan=4 style=\"text-align:left\"><span style=\"font-size:20px;\"><a class=\"ProveItLink\" href=\"../../../../__pv_it/530be409e3083890784cf1d7b28c9e67e90af9360/expr.ipynb\"><img src=\"data:image/png;base64,iVBORw0KGgoAAAANSUhEUgAAAAsAAAAJBAMAAAAWSsseAAAAKlBMVEX///9ERETMzMwQEBAiIiKY\n",
       "mJju7u5mZmaqqqpUVFSIiIh2dnbc3NwAAAA/vyDhAAAAAXRSTlMAQObYZgAAAENJREFUCNdjYDi9\n",
       "8sTyBQxsG1hdmR0YuBm4LnAoMLAxcAowgADzAjB1VoEhgYH1wFoGrgSG3gBhhlMMDImrs3cFMAAA\n",
       "t0YN+iTRa+sAAAAASUVORK5CYII=\n",
       "\" style=\"display:inline;vertical-align:middle;\" /></a> : <a class=\"ProveItLink\" href=\"../../../numeral/__pv_it/ec23fc7a1b4222a5f4948b495002b97d6fa18c3c0/expr.ipynb\"><img src=\"data:image/png;base64,iVBORw0KGgoAAAANSUhEUgAAAAoAAAAOBAMAAADkjZCYAAAALVBMVEX///8QEBCYmJh2dnaqqqrc\n",
       "3NxUVFQyMjK6uroiIiLMzMyIiIhmZmbu7u4AAAAZjyHdAAAAAXRSTlMAQObYZgAAAEpJREFUCNdj\n",
       "YLiz+xQDA8MMhpsLGLgnMHAXMHAmMHA8ZeA7wMD1hCHOgIHrNZh8jES+Bss+AqlkeQrSxTyBgWEK\n",
       "w8UFDAx3rLMYAMCjFldHSx/9AAAAAElFTkSuQmCC\n",
       "\" style=\"display:inline;vertical-align:middle;\" /></a>, <a class=\"ProveItLink\" href=\"../../../../__pv_it/f8b9edf8e16034727f0aad55bb83e392c3db40d40/expr.ipynb\"><img src=\"data:image/png;base64,iVBORw0KGgoAAAANSUhEUgAAAAsAAAANBAMAAACN24kIAAAAMFBMVEX///+YmJhUVFQyMjIQEBBE\n",
       "REQiIiKqqqrMzMyIiIi6urrc3NxmZmZ2dnbu7u4AAADXeCicAAAAAXRSTlMAQObYZgAAAFhJREFU\n",
       "CNdj4LtzgWH/AwZerg8M8xkY2nkSGEIZGB6wTGD4ycDAUP+A4weQOszA6QCkbBhYFYDUIYb1AkDq\n",
       "6czzGxhA4BoQMyXwuQMptgusF4AU+8xTQBIAUqMVoSp/SLMAAAAASUVORK5CYII=\n",
       "\" style=\"display:inline;vertical-align:middle;\" /></a> : <a class=\"ProveItLink\" href=\"../../../numeral/__pv_it/9be8badea4c35b9724062cecc501d17a3158d1d20/expr.ipynb\"><img src=\"data:image/png;base64,iVBORw0KGgoAAAANSUhEUgAAAAgAAAAPBAMAAAArJJMAAAAAHlBMVEX///+YmJgyMjIQEBBmZmaI\n",
       "iIhUVFTu7u5EREQAAAAw+MI4AAAAAXRSTlMAQObYZgAAACFJREFUCNdjYGBoZ2BgqJjOwFCWBiQY\n",
       "WEklWJwnOTKAAACjEQo8HvEr3AAAAABJRU5ErkJggg==\n",
       "\" style=\"display:inline;vertical-align:middle;\" /></a></span></td></tr><tr><td>1</td><td>theorem</td><td></td><td><span style=\"font-size:20px;\"> <a class=\"ProveItLink\" href=\"../../../ordering/_proofs_/reverseLess.ipynb\" style=\"text-decoration: none\">&#x22A2;&nbsp;</a><a class=\"ProveItLink\" href=\"../../../ordering/__pv_it/dcdef94725895aebe2a026768dfdae9a5a2d37aa0/expr.ipynb\"><img src=\"data:image/png;base64,iVBORw0KGgoAAAANSUhEUgAAAKEAAAAXBAMAAACR7DLtAAAAMFBMVEX///8QEBC6urrMzMxUVFRm\n",
       "ZmZERETc3NwyMjKqqqp2dnaIiIiYmJgiIiLu7u4AAAAU9Wx4AAAAAXRSTlMAQObYZgAAAk1JREFU\n",
       "OMutVE1oE0EU/rLpZpufToI9eChKDiKCiBFKb5JQoRVF6MmDRRErKdjLHsQKUtmbF5GACkIve/Mn\n",
       "GCLaUKnWxYugFHruKTnUQ70UBL2U4puZnf1JdwNbHNjd99438+2b9wf899VNfuR0PPSVnk0u/EhC\n",
       "mK7FY3oFeM2FJ0kYhwddywLu0ce4mYRxzRfvVvrB7/KPeiMJ4/FAAOrlPrAHFF4uLi4lIdSsgGJc\n",
       "7HMmQ/qfen0rCaNuAzvXYOwLjb11XO7m9PIskJsBLgDzB46VBySGKOyzyO9KlX1uie8ONpxjQJZu\n",
       "cALMOnAsnCojmN1UGenGdWS8LRs3+NvGFzylmJSAEeSdwYzsqhnQimUwjKHYVobxR7JTpkSuyPW8\n",
       "M9IdyMhehWJAjMjuo6oK5+ScK4wpRmaNk9Sc/EBbtA5SXZ9RGlcbAYBuTapu4Z3L82JaheY3+S5u\n",
       "jflJSlF3iu/8VTTP+T5K4yqPiQdQfZA+PIPbbhBbrvkbpWqdipHn5Dm1tobH3PzwDDo+ozCeb4cA\n",
       "WR96TduTtbPuWrN7mZLRlihS4sxfAVzC5WAcybh9KwTQf8gBtrAi9i95OWULrTefeG3xmBd4gNKl\n",
       "NAeOYDTAKIzbc0GA1lHh6WZ0tfaUUM1ZOdw3Mart+ozCSOOAx14BchhcQS9mFDSV8PPjbAtVB886\n",
       "ls8ojLQmiFIBcppt4U40YX+zOIY51I7omYmKB/AyqWF5JaZNh8zwcDYz9qmoLqSSUQBfD+Kb/n1Y\n",
       "LSC7ZkczesChV+3wR/8BqWqRXwZIrhIAAAAASUVORK5CYII=\n",
       "\" style=\"display:inline;vertical-align:middle;\" /></a></span></td></tr>\n",
       "<tr><td>&nbsp;</td><td colspan=4 style-\"text-align:left\"><a class=\"ProveItLink\" href=\"../../../ordering/_proofs_/reverseLess.ipynb\">proveit.number.ordering.reverseLess</a></td></tr><tr><td>2</td><td>theorem</td><td></td><td><span style=\"font-size:20px;\"> <a class=\"ProveItLink\" href=\"../../../numeral/deci/_proofs_/less_0_1.ipynb\" style=\"text-decoration: none\">&#x22A2;&nbsp;</a><a class=\"ProveItLink\" href=\"../../../numeral/deci/__pv_it/351b74c5f41d5e77fbb12ab5178cddb3adfcc1490/expr.ipynb\"><img src=\"data:image/png;base64,iVBORw0KGgoAAAANSUhEUgAAADAAAAAPBAMAAABQAFHMAAAAMFBMVEX///9EREQQEBCYmJh2dnaq\n",
       "qqrc3NxUVFQyMjK6uroiIiLMzMyIiIhmZmbu7u4AAADSWfX9AAAAAXRSTlMAQObYZgAAAKBJREFU\n",
       "GNNjYHh75jYDBpAD4pUMrzagiz/8x8DAs4CBpwEuwgbW/bwcKMFVwMD5DSbOXTEBTPMAJfgvMHB/\n",
       "hYpztkMNBUnkOzBw/4FwWXsTGFAlvkB4Sx4wYJNgWYNwFYpRDyVRJUCWfwbztreiSACdywp1bu5i\n",
       "ZAmgB1kWQPlP1jxASDAsZXgEDxJmqMPAEm99qhG2snaDSN5LPy4z4AIAR9Q4V3KXr0gAAAAASUVO\n",
       "RK5CYII=\n",
       "\" style=\"display:inline;vertical-align:middle;\" /></a></span></td></tr>\n",
       "<tr><td>&nbsp;</td><td colspan=4 style-\"text-align:left\"><a class=\"ProveItLink\" href=\"../../../numeral/deci/_proofs_/less_0_1.ipynb\">proveit.number.numeral.deci.less_0_1</a></td></tr></table>"
      ],
      "text/plain": [
       "<proveit._core_.proof._ShowProof at 0x7f94e8eddc18>"
      ]
     },
     "execution_count": 1,
     "metadata": {},
     "output_type": "execute_result"
    }
   ],
   "source": [
    "import proveit\n",
    "%show_proof"
   ]
  },
  {
   "cell_type": "code",
   "execution_count": null,
   "metadata": {},
   "outputs": [],
   "source": []
  }
 ],
 "metadata": {
  "kernelspec": {
   "display_name": "Python 3",
   "language": "python",
   "name": "python3"
  }
 },
 "nbformat": 4,
 "nbformat_minor": 0
}
