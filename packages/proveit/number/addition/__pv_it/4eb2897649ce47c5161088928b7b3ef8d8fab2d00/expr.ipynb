{
 "cells": [
  {
   "cell_type": "markdown",
   "metadata": {},
   "source": [
    "Expression of type <a class=\"ProveItLink\" href=\"../../../../../../doc/html/api/proveit.ExprTuple.html\">ExprTuple</a>\n",
    "=======================\n",
    "# from context <a class=\"ProveItLink\" href=\"../../_context_.ipynb\">proveit.number.addition</a>"
   ]
  },
  {
   "cell_type": "code",
   "execution_count": 1,
   "metadata": {},
   "outputs": [],
   "source": [
    "# import Expression classes needed to build the expression\n",
    "from proveit import ExprTuple\n",
    "from proveit._common_ import a, b, c\n",
    "from proveit.number import Add, one, three, two"
   ]
  },
  {
   "cell_type": "code",
   "execution_count": 2,
   "metadata": {},
   "outputs": [
    {
     "data": {
      "text/html": [
       "<strong id=\"expr\">expr:</strong> <a class=\"ProveItLink\" href=\"expr.ipynb\"><img src=\"data:image/png;base64,iVBORw0KGgoAAAANSUhEUgAAAqEAAAAVBAMAAACESConAAAAMFBMVEX////c3NwiIiJERESqqqqY\n",
       "mJh2dnZmZmYQEBDu7u4yMjJUVFTMzMyIiIi6uroAAAAs73DqAAAAAXRSTlMAQObYZgAABDxJREFU\n",
       "WMPtWU9oFFcc/vb/zm6yuz15iOCetJfSHPTYZvHSi5LppccSFBIoTbtQaiAe1CKCgmZ7KQEPWWKL\n",
       "uF5ysChKSECIQg/dS/+hq8GTiCGrSSxboumbTWbf/t5v3rydZA8G8g6Z5Zvh+77f92Z+894E2Bvd\n",
       "HpnqXgZdG186f37zPBUpKcC+8U8NbNadvFHx6g/BXS4MHw5yeTecd1KKOnqGTxaQmBe/bnhqDCi+\n",
       "QjN4WjBwpmbMujcDOw0VsRzgMeqO805KUScOmbdAGeglbq3c5uHenOvrx81DuoRwnSByuEC2QFk4\n",
       "L7CqvURHG19FNm+82EV26Nxcihb4toDXwBdAkkxp1M33qQsf3zwkLyL9jiByuMBySWVhvJmG9hId\n",
       "bdQrUXaxRHbk3FyKFhhsJjoJvEBHiaYaSJh8nYAx0Xg+cKJOfdUdJBrIubkUH8B56iMFnHJazew3\n",
       "5wyJihFuUMQars0T4GbtV8rCeVOzj2wq9NPoY0rLANl8+/58nqPnpII2UQ/nTKLlXFtKq1hmXCbq\n",
       "NN94Eb+In89zkbo50d+HKPJwMZVvB6wVZKkq553qxzoBeq5gmtAyAD1fbb0mMucwoLiSCn6JKs6Z\n",
       "hHSuLaVVLDPeimzBmfhoGVfERK8h0W9O9BpFrMuI2KThNZAcamfx4B0s4QIBJqs4QmgZIMbfi83D\n",
       "ARvfUQ9tCn6JKs6ZhHSuK0UWy4zLe7RXZJk5C9Fi0nWEq8ZEXesukq4rzSdRRrbYzuLBOw78S4A5\n",
       "tafNefTKZMM99RHz4Cr4JKo6ZxLSuU8pStuc82isEyX01J1Es/2Ycu7xRKUyfalSmZG+xiuVDyuV\n",
       "zTb2CBTJ9itAWCwc7XYWD95DyKwRYAUKCwNC84isNbEVWOvMQ1Oh3afZOZPYcu5fCuBhvA3YDwzY\n",
       "TqLnxdNUxSBKhns0WsQHBDlQVWZarOHOEBYP3lUkGqQxvFXuFwZgqrGVqDgVrVuqB1dBf4+qzrmE\n",
       "dO5TCr0lJYnbFzZKTqLiqRfNYKqAu9F5Q6IPgM+pDTGJpI+KXn6BiHjwriv9CSKrGKFlQLaM8Csn\n",
       "NmsV6fIxmrZU0CfKnHOJlnNdKbJYZtwF/gM+ziFWxoh469vRQ3FDHw0dHB7J0x5WRJwUky4kZgiL\n",
       "B+8tnKbAbeBrQsuAXhvLQ5ZYPItlydEifWu3KWgT5c6ZhHSuK0UWy4y7wB/IvGmunp45i7on95/Q\n",
       "QscmrttEI7yxsUF94VTtH/ryn/1eeTI479W/bAokRmsl+pZQAXw29jOsCbEQ7au9/GSRpiUV3Ks7\n",
       "cM4kpHNdKbJYZtwFomPjYuuaWkQy57sj8NudaAH9nimIEAEyuaCutuX8eHDjFBC70NiQ/8fSJRiR\n",
       "JfMnV4Z0IESAWGBX23K+FNw4BUZ1X/PeuxHbHV+crbKzWd4VVnfJPxrSTnMK7f1XpHvjMfA/L7Ab\n",
       "c5NrCm4AAAAASUVORK5CYII=\n",
       "\" style=\"display:inline;vertical-align:middle;\" /></a><br>"
      ],
      "text/plain": [
       "expr: (a + 1 + 2 + c + b + a + b + c + c + 3 , a + a + 1 + 2 + c + b + b + c + c + 3)"
      ]
     },
     "execution_count": 2,
     "metadata": {},
     "output_type": "execute_result"
    }
   ],
   "source": [
    "# build up the expression from sub-expressions\n",
    "expr = ExprTuple(Add(a, one, two, c, b, a, b, c, c, three), Add(a, a, one, two, c, b, b, c, c, three))"
   ]
  },
  {
   "cell_type": "code",
   "execution_count": 3,
   "metadata": {},
   "outputs": [
    {
     "name": "stdout",
     "output_type": "stream",
     "text": [
      "Passed sanity check: built 'expr' is the same as the stored Expression.\n"
     ]
    }
   ],
   "source": [
    "# check that the built expression is the same as the stored expression\n",
    "%check_expr"
   ]
  },
  {
   "cell_type": "code",
   "execution_count": 4,
   "metadata": {},
   "outputs": [
    {
     "data": {
      "text/html": [
       "<table><tr><th>&nbsp;</th><th>core type</th><th>sub-expressions</th><th>expression</th></tr>\n",
       "<tr><td>0</td><td>ExprTuple</td><td>1, 2</td><td><a class=\"ProveItLink\" href=\"expr.ipynb\"><img src=\"data:image/png;base64,iVBORw0KGgoAAAANSUhEUgAAAqEAAAAVBAMAAACESConAAAAMFBMVEX////c3NwiIiJERESqqqqY\n",
       "mJh2dnZmZmYQEBDu7u4yMjJUVFTMzMyIiIi6uroAAAAs73DqAAAAAXRSTlMAQObYZgAABDxJREFU\n",
       "WMPtWU9oFFcc/vb/zm6yuz15iOCetJfSHPTYZvHSi5LppccSFBIoTbtQaiAe1CKCgmZ7KQEPWWKL\n",
       "uF5ysChKSECIQg/dS/+hq8GTiCGrSSxboumbTWbf/t5v3rydZA8G8g6Z5Zvh+77f92Z+894E2Bvd\n",
       "HpnqXgZdG186f37zPBUpKcC+8U8NbNadvFHx6g/BXS4MHw5yeTecd1KKOnqGTxaQmBe/bnhqDCi+\n",
       "QjN4WjBwpmbMujcDOw0VsRzgMeqO805KUScOmbdAGeglbq3c5uHenOvrx81DuoRwnSByuEC2QFk4\n",
       "L7CqvURHG19FNm+82EV26Nxcihb4toDXwBdAkkxp1M33qQsf3zwkLyL9jiByuMBySWVhvJmG9hId\n",
       "bdQrUXaxRHbk3FyKFhhsJjoJvEBHiaYaSJh8nYAx0Xg+cKJOfdUdJBrIubkUH8B56iMFnHJazew3\n",
       "5wyJihFuUMQars0T4GbtV8rCeVOzj2wq9NPoY0rLANl8+/58nqPnpII2UQ/nTKLlXFtKq1hmXCbq\n",
       "NN94Eb+In89zkbo50d+HKPJwMZVvB6wVZKkq553qxzoBeq5gmtAyAD1fbb0mMucwoLiSCn6JKs6Z\n",
       "hHSuLaVVLDPeimzBmfhoGVfERK8h0W9O9BpFrMuI2KThNZAcamfx4B0s4QIBJqs4QmgZIMbfi83D\n",
       "ARvfUQ9tCn6JKs6ZhHSuK0UWy4zLe7RXZJk5C9Fi0nWEq8ZEXesukq4rzSdRRrbYzuLBOw78S4A5\n",
       "tafNefTKZMM99RHz4Cr4JKo6ZxLSuU8pStuc82isEyX01J1Es/2Ycu7xRKUyfalSmZG+xiuVDyuV\n",
       "zTb2CBTJ9itAWCwc7XYWD95DyKwRYAUKCwNC84isNbEVWOvMQ1Oh3afZOZPYcu5fCuBhvA3YDwzY\n",
       "TqLnxdNUxSBKhns0WsQHBDlQVWZarOHOEBYP3lUkGqQxvFXuFwZgqrGVqDgVrVuqB1dBf4+qzrmE\n",
       "dO5TCr0lJYnbFzZKTqLiqRfNYKqAu9F5Q6IPgM+pDTGJpI+KXn6BiHjwriv9CSKrGKFlQLaM8Csn\n",
       "NmsV6fIxmrZU0CfKnHOJlnNdKbJYZtwF/gM+ziFWxoh469vRQ3FDHw0dHB7J0x5WRJwUky4kZgiL\n",
       "B+8tnKbAbeBrQsuAXhvLQ5ZYPItlydEifWu3KWgT5c6ZhHSuK0UWy4y7wB/IvGmunp45i7on95/Q\n",
       "QscmrttEI7yxsUF94VTtH/ryn/1eeTI479W/bAokRmsl+pZQAXw29jOsCbEQ7au9/GSRpiUV3Ks7\n",
       "cM4kpHNdKbJYZtwFomPjYuuaWkQy57sj8NudaAH9nimIEAEyuaCutuX8eHDjFBC70NiQ/8fSJRiR\n",
       "JfMnV4Z0IESAWGBX23K+FNw4BUZ1X/PeuxHbHV+crbKzWd4VVnfJPxrSTnMK7f1XpHvjMfA/L7Ab\n",
       "c5NrCm4AAAAASUVORK5CYII=\n",
       "\" style=\"display:inline;vertical-align:middle;\" /></a></td></tr>\n",
       "<tr><td>1</td><td>Operation</td><td>operator:&nbsp;4<br>operands:&nbsp;3<br></td><td><a class=\"ProveItLink\" href=\"../a734bac9aad8b8f2be0a9b4a388f1ba28134121d0/expr.ipynb\"><img src=\"data:image/png;base64,iVBORw0KGgoAAAANSUhEUgAAAUUAAAAQBAMAAABzbnCeAAAAMFBMVEX///8yMjKqqqrMzMzu7u4i\n",
       "IiJmZmaYmJhEREQQEBC6urp2dnaIiIhUVFTc3NwAAAD87Fq/AAAAAXRSTlMAQObYZgAAAjlJREFU\n",
       "SMellUFrE0EYht9ss9s2mqR7aOklsD9AaE4ieHCuUrA9CeKhyaUezS+Q3gQvRfBUwZ6FQgtSEVvo\n",
       "ggehVBovSqElgUKPGiHSooWY6Hwz882knaTOKTy8+8y7u5NvgT5rTFjgpPoMl6/swTz+P+Kska13\n",
       "SX/ZstWxUMd+4rFl6t4NB4jY6wS5cwbuyYpHDcFJXiBsMeJchGKCCxLINq0IASfhaHcS/GT8Bv3Y\n",
       "F5yMv0D+l5WxL1oXuCCBILUiBJyEo50ZuGOmjcjXcRPejpsYuiP+vevC4ftXno7dFbY5md3+wEFp\n",
       "7ysH2ksNVERVIosD9M5/D/Hr5ljL3/HOBiMjK5hkIHuGYpldo72ygY5QJWVxgLLcLvVu9xTRkr/j\n",
       "NCd3UzxlIGhjfMMEhlc20BGqpCwO0DtfX+n+Z1sIU29H2o5Iwz440QSKFRMYXtlAR6hSwz6PDfc8\n",
       "YlWguIS53huoxvGDOC4ZHU3yCZycwQJhBes1E5A3iuPJ53FcVxENpMUBhuUYWK7he4oZCM9zDCr4\n",
       "ZpLCuX3D3dn3mFkMr3xKOiKBtjhAWrId0es4l+BzUPZ0vAk8YeQUGOUdy3jJgOGljipCr1ZZHECW\n",
       "H8BCE5lacP+a5zwWHm69nWfkC/CGgXwS1flM1V7ZQEeokrI4gCwfkfvdG2O7t3Z5x8XVqRojYafT\n",
       "4R2j7T3BZ8/hI+u+tJdmj4pQJWVxgBoXi9Wk/2wfhvjBAJ+VS74z1lq7CvED5NKhAbP8Adn90ESs\n",
       "UqeXAAAAAElFTkSuQmCC\n",
       "\" style=\"display:inline;vertical-align:middle;\" /></a></td></tr>\n",
       "<tr><td>2</td><td>Operation</td><td>operator:&nbsp;4<br>operands:&nbsp;5<br></td><td><a class=\"ProveItLink\" href=\"../7bf4236760eb03d9afcdfe9c25ff0b637829e0540/expr.ipynb\"><img src=\"data:image/png;base64,iVBORw0KGgoAAAANSUhEUgAAAUUAAAAQBAMAAABzbnCeAAAAMFBMVEX///8yMjKqqqrMzMzu7u4i\n",
       "IiJmZmaYmJhEREQQEBC6urp2dnaIiIhUVFTc3NwAAAD87Fq/AAAAAXRSTlMAQObYZgAAAjtJREFU\n",
       "SMellU9rE1EUxU+mM2OamsRZVNwU5gMU2pUoLnxbKdisCsWFyaYuXDifQLoT3BTBVRXrVii0UCrF\n",
       "FBxQEEqkcaMIlQSELjVCpEULccZ0+t59dyZvxLuZ4ce95565788AuaIoNHDYeGgosT/XDCBHjDV3\n",
       "/Jyp9ormsdLGvqm40DYBcxyidELATe6tO3x86QiaUxZwehlVCaj6VIUDvQ8Xee3jJ+HTzKMVnr7s\n",
       "C5oz/hjlXxlVCdgQmgoDvI8uMvMfHgt9uCaP27rKNv7ZI4ZrXTl49YxySTI9RuH0KbGbrVkCplqf\n",
       "qAoDmNt9kw5kn7+b+EW32KNcklEer29ScvV5oaYC+xjVWVWFAYytYjIdnKlem4qHdgR3mXCFjPJ4\n",
       "iRL7KYqBCqw+xjdVFQZwI8SDdCD7nF+NTmgPTki4QkZ4TD5DqaLAvYBqXVVhAB19P3ZSzsaaQHUZ\n",
       "8/EKNDxv0fPiySbE9bzJR57Xlh5lDvAe0KsocOrYCFQVBnA89K4DReQrsBLge4gZCNW7QrLnaNXx\n",
       "DVoVTYluw3tEhYHKiTZHCU5F7IGIPc77+GCRA6mQbI+XgfvUUjQish+j8/GEOGAAR8C5dJCI/ABu\n",
       "d1EIrIUJevdJkumxcqv5skb3Yx0T5FPLvtsmKgzgI7CVDhKRdyj9ji/DvSt7tL8kSe3S2sWA5DiD\n",
       "wYB6xN3WW3rQD+7QlWQA7m5LpIOzy2Gp4ef9z4zImTYC828lT59hrDNSCs0560bAVMyAiPwBjurX\n",
       "l+RXFqcAAAAASUVORK5CYII=\n",
       "\" style=\"display:inline;vertical-align:middle;\" /></a></td></tr>\n",
       "<tr><td>3</td><td>ExprTuple</td><td>6, 7, 8, 10, 9, 6, 9, 10, 10, 11</td><td><a class=\"ProveItLink\" href=\"../34a732b1ef6d867b14d17ef42c0bf51307a3d33a0/expr.ipynb\"><img src=\"data:image/png;base64,iVBORw0KGgoAAAANSUhEUgAAAMEAAAAVBAMAAAANw5eWAAAAMFBMVEX////c3NwiIiJERESqqqqY\n",
       "mJh2dnZmZmYQEBDu7u4yMjJUVFTMzMyIiIi6uroAAAAs73DqAAAAAXRSTlMAQObYZgAAAmtJREFU\n",
       "SMe1Vb9v00AYfU2cOI6T2EwdQGomGOnCSv0f1CyMqCpSuhDwQit1ASSExEDjCWVLBEIIdcmCQKCq\n",
       "lpAAiQEvDAjSH0yIpaFVkYJUwt3l7uz4TjDlG5zn5/d97/zd5wsw/ajFUyx+hV4+TFD5kIPZ9YsZ\n",
       "tfWyjv9TMiqNqx7MiKBnEykL3GGmh10vk1PuKWU0lIhZ1E6ALlBNN8l6vc0d7BC5QSbH8ZQyGkrE\n",
       "DQ+HwGWgFE7wu/y2dB/2n0zOQaiU0VAiFplDG/gBrUN5CDPrsKyWWf7nDJEu5T2s0qZvXb+TcSCR\n",
       "G/LWNfoRA5v953yTpF5SUoSHza+pTSoGeELgdzc/UB0+Lo1/3++V2cRYR3DGVaQ+oYQIlQ08Gue9\n",
       "3SQXo4sNsqRjmPOqw2O+ugfI+xQYQ5SYaaKXlBShHeMCL1AltWu3QZptD5CLFQdhaovXM7twAs5w\n",
       "fZrisZ3aiFaIyoA6OPPoRIrDFzGQ4vVyAQ58znB9muJxJMAZYMGnDneBuRiLCDMORoBTDMzFyezf\n",
       "CjnD9WmKD8GJ+LRGIXUgXSJN63h4ZUSWdGA574BLDDlkkT59SPb0HihI9JKSIhwDBZb3GzjvotDF\n",
       "Cpkq3zhXRKfOHaxDupazjZU6Q3aAYkQf2p7ZY6pELykpwgvgGsv7hNovNq3f6HjvvNlB+yeh11pP\n",
       "favlkg6PRqM6Q1jtf2YPra2bYCDRS0qKYDb7Icsz1tbJkVLeQ8kVW7Mvv0VXRfsK0FCaCuTUKCyJ\n",
       "G1+AAlTkK0BDaSo006f3NBwscnrjtPgCZWqsoqoCNJSmgk3bNTPNf1FyCP4FK6bTZkeJcJIAAAAA\n",
       "SUVORK5CYII=\n",
       "\" style=\"display:inline;vertical-align:middle;\" /></a></td></tr>\n",
       "<tr><td>4</td><td>Literal</td><td></td><td><a class=\"ProveItLink\" href=\"../3e6688136fa3c7aefbebe51301b7c3ebf0b69c440/expr.ipynb\"><img src=\"data:image/png;base64,iVBORw0KGgoAAAANSUhEUgAAAA4AAAAOBAMAAADtZjDiAAAAJFBMVEX///+6urpUVFQQEBAiIiIy\n",
       "MjJmZmaIiIiqqqrc3Nzu7u4AAACgHpL+AAAAAXRSTlMAQObYZgAAAB5JREFUCNdjYGBgWMkAAe2k\n",
       "0Kmhoc6hoUGk6BMHYgAHOwjcado9fwAAAABJRU5ErkJggg==\n",
       "\" style=\"display:inline;vertical-align:middle;\" /></a></td></tr>\n",
       "<tr><td>5</td><td>ExprTuple</td><td>6, 6, 7, 8, 10, 9, 9, 10, 10, 11</td><td><a class=\"ProveItLink\" href=\"../49711e5622edcd997dccb54c7ef84913555743f60/expr.ipynb\"><img src=\"data:image/png;base64,iVBORw0KGgoAAAANSUhEUgAAAMEAAAAVBAMAAAANw5eWAAAAMFBMVEX////c3NwiIiJERESqqqqY\n",
       "mJh2dnZmZmYQEBDu7u4yMjJUVFTMzMyIiIi6uroAAAAs73DqAAAAAXRSTlMAQObYZgAAAllJREFU\n",
       "SMe1lbFv00AUxr84ThzHqR2mDiCRCUa6MLCA/4O6CyOKQEoXAl5aUBdAQkgMtJaQqkgMiUAdUJcs\n",
       "CASqsIQESAxkYUCQUpgQS0OrIqVSCXdn3/lsJ2bKDb5f7nu67+7duwsw/Wb2pjj5Jfr5MEk9F/az\n",
       "K+cTiv6iloAxrdK4YkPzCT2dEPFwGPS5Lr7ZCa3cTUK6zcI8AjrAzIQkPXoVOhgelEFCtOwkpNt1\n",
       "G3vARaDkTYiYCR1K92H8TWi7XhLSbZ45tIBf+I9DeQgt6XA5BWNriGQpb2OZpnrr2p0w6YKEA2lK\n",
       "iHqj7zPY7D9DHISE9eZX6ZCKLjYI/qzmw0xHJDt8rAf9+50yqx19H5YfAyGhsorHQfTbTfJRO1gl\n",
       "Cz+ANhdsQVDM4Um4zgfIOxTUIUr1GAgJrR7O8hnI3OZtkBQbAyhBRUUkO3BTg29P68ByYyAkvJYO\n",
       "Ys1DZUAdrDm0g71GJDt84aXJt6e42HViICTsczgBXHCow13gZA/zYGUXkeSgujiGUBW34JYXAyHl\n",
       "jvi9H3nUgWSJJK1t46Xq65ApcGD0DlhgthZZrkOHyOneQxy4hAOgwKIPgTNVFDpYJFXlqKeLaNdk\n",
       "Chwo5U41Fmv6Hk22i6JPhwxb6yIOXMJz4CqL/gTzD6vWH/QSbL/ZRuu3TNBuHi4xUkajUU1fq5Kx\n",
       "5f5nNqRvLSEOQoLW7HssWr2xQp6U8g5KVX4035FBZjosA6Jo8moU6vyHgwwqpIcyIIpuyq/3NBx0\n",
       "8nrjOK//6M0bQ73UUAZE0QZNV26a/6LkEfwHVyTQh+28UaEAAAAASUVORK5CYII=\n",
       "\" style=\"display:inline;vertical-align:middle;\" /></a></td></tr>\n",
       "<tr><td>6</td><td>Variable</td><td></td><td><a class=\"ProveItLink\" href=\"../../../../__pv_it/07527342713064c87612d00d8557c53d53d5324a0/expr.ipynb\"><img src=\"data:image/png;base64,iVBORw0KGgoAAAANSUhEUgAAAAsAAAAJBAMAAAAWSsseAAAAMFBMVEX///8yMjKqqqrMzMzu7u4i\n",
       "IiJmZmaYmJhEREQQEBC6urp2dnaIiIhUVFTc3NwAAAD87Fq/AAAAAXRSTlMAQObYZgAAAEhJREFU\n",
       "CNdjYOC7s2seAwPDygccHxgY+L4zsDUwMPB+YGA9wMDA38Dgb8DA8P4Agz6DA4O/AsNFJgMGxgKm\n",
       "MG6gyjunLE4xAAAZTBA5TB6DCwAAAABJRU5ErkJggg==\n",
       "\" style=\"display:inline;vertical-align:middle;\" /></a></td></tr>\n",
       "<tr><td>7</td><td>Literal</td><td></td><td><a class=\"ProveItLink\" href=\"../../../numeral/__pv_it/9be8badea4c35b9724062cecc501d17a3158d1d20/expr.ipynb\"><img src=\"data:image/png;base64,iVBORw0KGgoAAAANSUhEUgAAAAgAAAAPBAMAAAArJJMAAAAAHlBMVEX///+YmJgyMjIQEBBmZmaI\n",
       "iIhUVFTu7u5EREQAAAAw+MI4AAAAAXRSTlMAQObYZgAAACFJREFUCNdjYGBoZ2BgqJjOwFCWBiQY\n",
       "WEklWJwnOTKAAACjEQo8HvEr3AAAAABJRU5ErkJggg==\n",
       "\" style=\"display:inline;vertical-align:middle;\" /></a></td></tr>\n",
       "<tr><td>8</td><td>Literal</td><td></td><td><a class=\"ProveItLink\" href=\"../../../numeral/__pv_it/77d407a64829263cdc16415becd4c2293f77a4bf0/expr.ipynb\"><img src=\"data:image/png;base64,iVBORw0KGgoAAAANSUhEUgAAAAkAAAAOBAMAAAAPuiubAAAAMFBMVEX///+YmJh2dnbMzMwQEBAi\n",
       "IiLu7u6qqqqIiIhUVFS6urpEREQyMjJmZmbc3NwAAACOMKdoAAAAAXRSTlMAQObYZgAAAFBJREFU\n",
       "CNdj4Lt7egEDw0sGju8MDNMYGOIZGFwSGOYvYDifwHAfKAEUSQASzJ9ATJ4NIPI2iOCYACJrGfge\n",
       "MDBfYGB8wPBUSekqUPH//18ZAIliFhc3zESNAAAAAElFTkSuQmCC\n",
       "\" style=\"display:inline;vertical-align:middle;\" /></a></td></tr>\n",
       "<tr><td>9</td><td>Variable</td><td></td><td><a class=\"ProveItLink\" href=\"../../../../__pv_it/6840a4fa6c106149dc16a131294d0c5e44f1b0480/expr.ipynb\"><img src=\"data:image/png;base64,iVBORw0KGgoAAAANSUhEUgAAAAkAAAAOBAMAAAAPuiubAAAALVBMVEX///9mZmbMzMxERESYmJiI\n",
       "iIh2dna6urqqqqoyMjIiIiIQEBBUVFTu7u4AAAD9S1JeAAAAAXRSTlMAQObYZgAAAE1JREFUCNdj\n",
       "4D29gAEIOA+ASL4GEFl3AURmgQiGOaFHGBh4HzPwKTBwvGXgTmBgnMDAJ8DAJcBQ5wBSLncBJLWN\n",
       "gYGngRFoBO9REQYGAGrcDtUkVqASAAAAAElFTkSuQmCC\n",
       "\" style=\"display:inline;vertical-align:middle;\" /></a></td></tr>\n",
       "<tr><td>10</td><td>Variable</td><td></td><td><a class=\"ProveItLink\" href=\"../../../../__pv_it/cbdfda466482236edba0ce44ac7ef39cda0af7a40/expr.ipynb\"><img src=\"data:image/png;base64,iVBORw0KGgoAAAANSUhEUgAAAAkAAAAJBAMAAAASvxsjAAAALVBMVEX///9mZmbc3NxUVFSYmJhE\n",
       "REQiIiIyMjK6uroQEBDMzMyIiIh2dnbu7u4AAABgFDGoAAAAAXRSTlMAQObYZgAAADZJREFUCNdj\n",
       "YOA9s3sBA8PKBvYEBt7ZDKwODMwPGICALwBE6m0Asx0YGIDiAgw8QJUyu/cyAAAmuwmycZ8WfQAA\n",
       "AABJRU5ErkJggg==\n",
       "\" style=\"display:inline;vertical-align:middle;\" /></a></td></tr>\n",
       "<tr><td>11</td><td>Literal</td><td></td><td><a class=\"ProveItLink\" href=\"../../../numeral/__pv_it/9176d93c83afa2c995b614976e3cb49207102fa70/expr.ipynb\"><img src=\"data:image/png;base64,iVBORw0KGgoAAAANSUhEUgAAAAoAAAAOBAMAAADkjZCYAAAAMFBMVEX///+YmJju7u4QEBBUVFQy\n",
       "MjIiIiKIiIi6urpmZmbc3NyqqqpERER2dnbMzMwAAAB0GlNiAAAAAXRSTlMAQObYZgAAAE1JREFU\n",
       "CNdjYHh79zQDA9cEhv4CBt7fDPwJDNxgEgiAIkAQAsR8Vx1ATIbiBhDJ/ImB6wEDz0cG/U8gkj+A\n",
       "ge0XA7sAQ/8FBoadM6MZAEflFACalZ/OAAAAAElFTkSuQmCC\n",
       "\" style=\"display:inline;vertical-align:middle;\" /></a></td></tr>\n",
       "</table>\n"
      ],
      "text/plain": [
       "0. (a + 1 + 2 + c + b + a + b + c + c + 3 , a + a + 1 + 2 + c + b + b + c + c + 3)\n",
       "   core type: ExprTuple\n",
       "   sub-expressions: 1, 2\n",
       "1. a + 1 + 2 + c + b + a + b + c + c + 3\n",
       "   core type: Operation\n",
       "   operator: 4\n",
       "   operands: 3\n",
       "2. a + a + 1 + 2 + c + b + b + c + c + 3\n",
       "   core type: Operation\n",
       "   operator: 4\n",
       "   operands: 5\n",
       "3. (a , 1 , 2 , c , b , a , b , c , c , 3)\n",
       "   core type: ExprTuple\n",
       "   sub-expressions: 6, 7, 8, 10, 9, 6, 9, 10, 10, 11\n",
       "4. +\n",
       "   core type: Literal\n",
       "   sub-expressions: \n",
       "5. (a , a , 1 , 2 , c , b , b , c , c , 3)\n",
       "   core type: ExprTuple\n",
       "   sub-expressions: 6, 6, 7, 8, 10, 9, 9, 10, 10, 11\n",
       "6. a\n",
       "   core type: Variable\n",
       "   sub-expressions: \n",
       "7. 1\n",
       "   core type: Literal\n",
       "   sub-expressions: \n",
       "8. 2\n",
       "   core type: Literal\n",
       "   sub-expressions: \n",
       "9. b\n",
       "   core type: Variable\n",
       "   sub-expressions: \n",
       "10. c\n",
       "    core type: Variable\n",
       "    sub-expressions: \n",
       "11. 3\n",
       "    core type: Literal\n",
       "    sub-expressions: "
      ]
     },
     "execution_count": 4,
     "metadata": {},
     "output_type": "execute_result"
    }
   ],
   "source": [
    "# display the expression information\n",
    "expr.exprInfo()"
   ]
  },
  {
   "cell_type": "code",
   "execution_count": null,
   "metadata": {},
   "outputs": [],
   "source": []
  }
 ],
 "metadata": {
  "kernelspec": {
   "display_name": "Python 3",
   "language": "python",
   "name": "python3"
  }
 },
 "nbformat": 4,
 "nbformat_minor": 0
}
