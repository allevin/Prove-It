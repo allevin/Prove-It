{
 "cells": [
  {
   "cell_type": "markdown",
   "metadata": {},
   "source": [
    "Show the Proof\n",
    "========"
   ]
  },
  {
   "cell_type": "code",
   "execution_count": 1,
   "metadata": {},
   "outputs": [
    {
     "data": {
      "text/html": [
       "<table><tr><th>&nbsp;</th><th>step type</th><th>requirements</th><th>statement</th></tr>\n",
       "<tr><td>0</td><td>specialization</td><td>1, 2</td><td><span style=\"font-size:20px;\"> <a class=\"ProveItLink\" href=\"proof.ipynb\" style=\"text-decoration: none\">&#x22A2;&nbsp;</a><a class=\"ProveItLink\" href=\"../7983bfbeb5668035e533714d20e8fb1df185d42f0/expr.ipynb\"><img src=\"data:image/png;base64,iVBORw0KGgoAAAANSUhEUgAAAQ8AAAAVBAMAAACqO3ZEAAAAMFBMVEX////c3NwiIiJERESqqqqY\n",
       "mJh2dnZmZmYQEBDu7u4yMjJUVFTMzMyIiIi6uroAAAAs73DqAAAAAXRSTlMAQObYZgAAAvRJREFU\n",
       "SMfNVk1oE0EU/nabJrv59+RBxSAigqIe6lX3Jgil8dKDBwkKKQjFnFoIChF6qUiMXlq8WNQejCDx\n",
       "7iGnevDQIIhiLQZPIkiq1EqENs7O7k72zUxkjz54JPP2fd9+O2/ezAD/jWU7nmttvBuN5Iom9j26\n",
       "Bg5/4/nS5k3p6f7qOUAOYq08QQP2rfdtJNoKebrlU5Bg+ZozCv7M81N4QMmMFj47SEr0RgU9On1m\n",
       "1z4JrChCkg2fgnwcsrvQwzMd7pkCMj7Zfe8n1YC5hfESSDS+jVyBRN4CH4FpRchmQBFOvuHgpz8T\n",
       "eQluNbibLWR/eI8mvR9rEak92DWQaGwoxI+cAHp5LCtCFgOKcPKUEBLrSPBv4J6rIL1NMMk+Eoxl\n",
       "ggphFpTGj/wG1h2MOXIPrAgKAg9KEwgR8Dk2YH64hPSu/EqzD8woQp6TiLHDmDqIVyQhiZKgIPBk\n",
       "iwgZwlfZaNUTsiO/cp2RXZSEpK+3VCElxPgCSzS5uRnJoqAIw9eCzwgL4fA6G9VHCHnC/KsyIx+6\n",
       "GiHZmjQjVldQEHimrhPC4G4N9/SlSZxxP0kRYvU1pUlvSUJyXUFB4fcamtIwuC/EXay/2N9qs3m8\n",
       "2fTmbwOBkGHUaGOM5rmrrThKCKcIJR8Ezhd5CR/f8Uoo4AtswJy1b4y2L2IV7FNK86jvCSHtO5X3\n",
       "S5M4ws2dBssRFMNke9DgQmj7evCzbMCcbWhxuj/gNXAJuEyF5FZgUsFsR7rKDiV5ax0rCopQ8h/g\n",
       "dJ4IEXC3PV0/iuU2wRjHyjMFpX0zRfRoI5iOfRdq+7oBnyKU/A7ZHbqPCPgXNnB9afYVfaU5GAwY\n",
       "ywtptV2Yf0oj9twG+4KkfExnC4IivDHPVx0qRMAtNlNWPkwxSQ7Hmi6qRtQt/vbo5LAQAXdPNXGy\n",
       "qfeIeGfk7YJEZpXH0/++nNAr0OzwGjDCHka72djaa0Bk4/ADvuvtZTSmVF4JGa3oQjjc6HiutUw7\n",
       "GtMnTexQdCEM/hfoRQ0kLVthrwAAAABJRU5ErkJggg==\n",
       "\" style=\"display:inline;vertical-align:middle;\" /></a></span></td></tr>\n",
       "<tr><td>&nbsp;</td><td colspan=4 style=\"text-align:left\"><span style=\"font-size:20px;\"><a class=\"ProveItLink\" href=\"../25f6941e01c3f1a53c460cab763c2f3bbf4f84e30/expr.ipynb\"><img src=\"data:image/png;base64,iVBORw0KGgoAAAANSUhEUgAAAEUAAAAVBAMAAADiLT7tAAAAMFBMVEX///8yMjLMzMwQEBAiIiJm\n",
       "Zma6urqYmJiqqqp2dnZERETc3NyIiIhUVFTu7u4AAAAe+HC4AAAAAXRSTlMAQObYZgAAAQVJREFU\n",
       "KM9jYCAJ5GAVLYNQb89uAJJMF7CqYVUAUyv7C4Ak4wPsxguACL5vL0DUGRxOqAQRHB/AbDscah6D\n",
       "bXQAkWwCONRwNTAwsF/2DQCpnAAX5Z5zuycGzuMEyfIfADEZC+CiLxlKCkzgPA6QBfvBvmNOgItO\n",
       "YDjP0ATnsRkAiX4wkx+h5gHDLST3MIG8NAVdDQODDbqatWAmcwNCmPsTAx+qXRBNXAg3V/N8YDgH\n",
       "57ELgIIZ4UWIR75zGXAfQPE72z+IkcCQ7FoFBA/41sybeRzGAQYK0KE80AC2xh0XtTCHVOJQM4eB\n",
       "wfAJlI0jbfABramMhnkYexrj3YDM24NVzSEGBgDorz1wDkvJZwAAAABJRU5ErkJggg==\n",
       "\" style=\"display:inline;vertical-align:middle;\" /></a> : <a class=\"ProveItLink\" href=\"../93083bcc1bc3105b2575779066ae3e6a863ccc240/expr.ipynb\"><img src=\"data:image/png;base64,iVBORw0KGgoAAAANSUhEUgAAAG4AAAAQBAMAAAAFXVd5AAAAMFBMVEX///+6uroyMjLMzMwQEBAi\n",
       "IiKYmJhmZmZUVFSIiIh2dnbc3Nzu7u5ERESqqqoAAABZrPngAAAAAXRSTlMAQObYZgAAARNJREFU\n",
       "KM9jYCAErFbdQxM5PrOYoC4G7gIG+QmoQoEMRw1wa+DZAKa4/jHwB0BETkMozgAGTgXc+vggtvAh\n",
       "9L2EUKwNDIy/CeoDApg7ofr4CxiY/8G9sbL7ZSUOfRoMKPr2L2Bg/gmTO8WQmuCKVR/zogZMfb9g\n",
       "qhYwzGd4jMO+KQK49R1g6MXpP5Y/uN3JwOCJrIldSUnVSUkJ6EJuAwbeb0CRIiWlECUlDWi4fEPE\n",
       "72cGHmz2nf8D0YcSD3zweMjm/MAwB5s+fgUG1t8o+oDxzhUAU/SN14F7AjZ9nAkM8gtQ9DHEMRwx\n",
       "YHh7FwgO8Nxcs2oaA5SDGi7Py/VQ44Hh+MpmBmLSCwOaPvyAEUOfJBIbABnAWHZPgUWAAAAAAElF\n",
       "TkSuQmCC\n",
       "\" style=\"display:inline;vertical-align:middle;\" /></a>, <a class=\"ProveItLink\" href=\"../../../../__pv_it/530be409e3083890784cf1d7b28c9e67e90af9360/expr.ipynb\"><img src=\"data:image/png;base64,iVBORw0KGgoAAAANSUhEUgAAAAsAAAAJBAMAAAAWSsseAAAAKlBMVEX///9ERETMzMwQEBAiIiKY\n",
       "mJju7u5mZmaqqqpUVFSIiIh2dnbc3NwAAAA/vyDhAAAAAXRSTlMAQObYZgAAAENJREFUCNdjYDi9\n",
       "8sTyBQxsG1hdmR0YuBm4LnAoMLAxcAowgADzAjB1VoEhgYH1wFoGrgSG3gBhhlMMDImrs3cFMAAA\n",
       "t0YN+iTRa+sAAAAASUVORK5CYII=\n",
       "\" style=\"display:inline;vertical-align:middle;\" /></a> : <a class=\"ProveItLink\" href=\"../78526bce84b8c0725bf84b6d4e607a77888296220/expr.ipynb\"><img src=\"data:image/png;base64,iVBORw0KGgoAAAANSUhEUgAAAC0AAAAQBAMAAABw0OvaAAAAMFBMVEX///9EREQQEBCYmJh2dnaq\n",
       "qqrc3NxUVFQyMjK6uroiIiLMzMyIiIhmZmbu7u4AAADSWfX9AAAAAXRSTlMAQObYZgAAALRJREFU\n",
       "GNNjYHh75jYDCmC72zgBSK1keLUBRTydgecrAwPPAgaeBojAMwhVx8CwnoGBq4CB8xtEIAZCKT1g\n",
       "qJ/AwH+Bgfsrinj/A4b7ExjyHRi4/6CIA8H6B2DxL2jiIAFs4hwCDFjNuQjEIHs/A+kbHR2LOjra\n",
       "QcI8BQxgd7KiupMhloEtAeQvlgUo4twXGJgTGBiWMjzagCKe5eJyC0i99almQBFf////L5QAi2HA\n",
       "DuYgsQFEPDczNwTuawAAAABJRU5ErkJggg==\n",
       "\" style=\"display:inline;vertical-align:middle;\" /></a>, <a class=\"ProveItLink\" href=\"../../../../__pv_it/f8b9edf8e16034727f0aad55bb83e392c3db40d40/expr.ipynb\"><img src=\"data:image/png;base64,iVBORw0KGgoAAAANSUhEUgAAAAsAAAANBAMAAACN24kIAAAAMFBMVEX///+YmJhUVFQyMjIQEBBE\n",
       "REQiIiKqqqrMzMyIiIi6urrc3NxmZmZ2dnbu7u4AAADXeCicAAAAAXRSTlMAQObYZgAAAFhJREFU\n",
       "CNdj4LtzgWH/AwZerg8M8xkY2nkSGEIZGB6wTGD4ycDAUP+A4weQOszA6QCkbBhYFYDUIYb1AkDq\n",
       "6czzGxhA4BoQMyXwuQMptgusF4AU+8xTQBIAUqMVoSp/SLMAAAAASUVORK5CYII=\n",
       "\" style=\"display:inline;vertical-align:middle;\" /></a> : <a class=\"ProveItLink\" href=\"../../../numeral/__pv_it/77d407a64829263cdc16415becd4c2293f77a4bf0/expr.ipynb\"><img src=\"data:image/png;base64,iVBORw0KGgoAAAANSUhEUgAAAAkAAAAOBAMAAAAPuiubAAAAMFBMVEX///+YmJh2dnbMzMwQEBAi\n",
       "IiLu7u6qqqqIiIhUVFS6urpEREQyMjJmZmbc3NwAAACOMKdoAAAAAXRSTlMAQObYZgAAAFBJREFU\n",
       "CNdj4Lt7egEDw0sGju8MDNMYGOIZGFwSGOYvYDifwHAfKAEUSQASzJ9ATJ4NIPI2iOCYACJrGfge\n",
       "MDBfYGB8wPBUSekqUPH//18ZAIliFhc3zESNAAAAAElFTkSuQmCC\n",
       "\" style=\"display:inline;vertical-align:middle;\" /></a></span></td></tr><tr><td>1</td><td>axiom</td><td></td><td><span style=\"font-size:20px;\"> <a class=\"ProveItLink\" href=\"../../../../logic/equality/_axioms_.ipynb#substitution\" style=\"text-decoration: none\">&#x22A2;&nbsp;</a><a class=\"ProveItLink\" href=\"../398f54eae8bb3b5e6faf9c5a7a2ed97d055770700/expr.ipynb\"><img src=\"data:image/png;base64,iVBORw0KGgoAAAANSUhEUgAAAO8AAAAXBAMAAAARnwX+AAAAMFBMVEX///8QEBC6urrMzMxUVFRm\n",
       "ZmZERETc3NwyMjKqqqp2dnaIiIiYmJgiIiLu7u4AAAAU9Wx4AAAAAXRSTlMAQObYZgAAAvdJREFU\n",
       "SMfFVj1oFEEUfvef293bHKayECJYpIk5wcYqRyRGTBPUQgyiNonCgVuI8QfNIggWEq5QsLttDglB\n",
       "OTAemhRZJIVoc7UorE0QLXIYMIUiznszO7O3uznJQfDBm/123jfzZt+99+YA/pd4vS5MNqLYGPw3\n",
       "/63QFr586MHxURzMyQmJUc7EEEOcTInrIr4s9OCY1mQXf3es74shhjk21xvskbu0e786RW7zcFVi\n",
       "irUTZYY577n2sR85U9294wQlRy2AKazFKDPM+cLVeDY3d7eHSA/ReCGASa5GmWFOtsr158zMxx4c\n",
       "n8dh/cC4j28v33rFolmPEBXHrDsw74E2BaTHAWYxSOON6O5dquMRjb98bDrGpwSrkKeUuA9JytDJ\n",
       "0ZJtWAPI21wPgYl5llmZiu7eJen24ZDb8rEGejvPiuRghKg4xzItmGEFXeRaAN1lhkLc13Vx/AOH\n",
       "fNvHJqSJPBohKo6XaODnp9pcdbeACdfv9eBYaymcaMQ7DnBqXmpLOTZt7CnGtWk0L40ts3glmyL7\n",
       "uWM+SW2vKctiPyVoWeH5ErZfCnXmMwlfHeCcA72oQg2zY2h4R6fzTiRYon/vt46oL6bJk5gtDWkA\n",
       "qKivRGxYa6B7YpvOgpcceECnMGyu8IRiQXWQ5Ml6bxiayrGY7DAI/uagj2vuZbgDceWkOHAWRlyQ\n",
       "5SSOVOG0bRpPwWTwN96Wu/gGgGEcRjwfb6x8W8IcvR9xrDiwsXrRYr1ykCsYniwPSBVT/GUg4Bgn\n",
       "r1CopYEdl20BrwN4p5bZwXmuWqa/4g/ATWtUszX2gIFkWzmmSSG+ga4Do1wJXw1auAsFOemWiSm2\n",
       "JBTEVzEP7sab6RfsAY+btnJMk0J8A11ziYVW8IpE+RpJrQCn4GQdoHZl2upk+Gu7HLs5K92IrWNp\n",
       "YHIdjLolsZCJsOMgJ796mj3TFldxga+zSk3x15SVdYbiG4g04CECUfWxXtq54/icl0LF/xEMuiEO\n",
       "yY7mxDuWhr2W8t5t/RfNBeNeS11EOAAAAABJRU5ErkJggg==\n",
       "\" style=\"display:inline;vertical-align:middle;\" /></a></span></td></tr>\n",
       "<tr><td>&nbsp;</td><td colspan=4 style-\"text-align:left\"><a class=\"ProveItLink\" href=\"../../../../logic/equality/_axioms_.ipynb#substitution\">proveit.logic.equality.substitution</a></td></tr><tr><td>2</td><td>theorem</td><td></td><td><span style=\"font-size:20px;\"> <a class=\"ProveItLink\" href=\"../../../numeral/deci/_proofs_/add_0_2.ipynb\" style=\"text-decoration: none\">&#x22A2;&nbsp;</a><a class=\"ProveItLink\" href=\"../4ebc9d9ee1e343d151e753451e7cf53c9bdaec970/expr.ipynb\"><img src=\"data:image/png;base64,iVBORw0KGgoAAAANSUhEUgAAAGEAAAAVBAMAAACkm51HAAAAMFBMVEX////c3NwiIiJERESqqqqY\n",
       "mJh2dnZmZmYQEBDu7u4yMjJUVFTMzMyIiIi6uroAAAAs73DqAAAAAXRSTlMAQObYZgAAAVJJREFU\n",
       "OMuVk7FLw0AUh3/Rpqma1ODawSIOTqaLu5tTV0fpVKdCqKAggg4OThJdmrEgDo2DWQXB7i79AxSC\n",
       "oyCotG623t0rJXfJDb7l7r6XL7l7Lwf8P8oDTWJPZzwDndcTmRlHNwmsvvqowEAP2MS1nK3AGQJd\n",
       "1SDsDOBU4UyzVzQ8AB6wqxqESwHmYpS/iNVpuAjwlCBUDcLvwLIPeygZ9wFOE8xvKwbhQ2C1AftX\n",
       "Mlh4AYp+tk4M35LxoxgcFMThrEhEPMOX+cZijXXqLPMJjsf5uzrgL/zMGByP6eQjNj2Ooo0ouuMZ\n",
       "J841BD4Hr25Bri52YLjTXVlrImozvAXewWJVMmwfpgtTbTrhfTZbR9iXjJVms41sdQm/sVmn9QjJ\n",
       "8CaTb1aYRG2GwCU3zerpRZj/s5uN9OojvWhp7kdPd3EWuppERWcsuZqEobu1L/n4D29nXqGE4275\n",
       "AAAAAElFTkSuQmCC\n",
       "\" style=\"display:inline;vertical-align:middle;\" /></a></span></td></tr>\n",
       "<tr><td>&nbsp;</td><td colspan=4 style-\"text-align:left\"><a class=\"ProveItLink\" href=\"../../../numeral/deci/_proofs_/add_0_2.ipynb\">proveit.number.numeral.deci.add_0_2</a></td></tr></table>"
      ],
      "text/plain": [
       "<proveit._core_.proof._ShowProof at 0x7f94eb2f5d68>"
      ]
     },
     "execution_count": 1,
     "metadata": {},
     "output_type": "execute_result"
    }
   ],
   "source": [
    "import proveit\n",
    "%show_proof"
   ]
  },
  {
   "cell_type": "code",
   "execution_count": null,
   "metadata": {},
   "outputs": [],
   "source": []
  }
 ],
 "metadata": {
  "kernelspec": {
   "display_name": "Python 3",
   "language": "python",
   "name": "python3"
  }
 },
 "nbformat": 4,
 "nbformat_minor": 0
}
