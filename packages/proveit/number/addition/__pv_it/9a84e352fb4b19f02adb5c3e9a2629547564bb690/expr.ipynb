{
 "cells": [
  {
   "cell_type": "markdown",
   "metadata": {},
   "source": [
    "Expression of type <a class=\"ProveItLink\" href=\"../../../../../../doc/html/api/proveit.ExprTuple.html\">ExprTuple</a>\n",
    "=======================\n",
    "# from context <a class=\"ProveItLink\" href=\"../../_context_.ipynb\">proveit.number.addition</a>"
   ]
  },
  {
   "cell_type": "code",
   "execution_count": 1,
   "metadata": {},
   "outputs": [],
   "source": [
    "# import Expression classes needed to build the expression\n",
    "from proveit import ExprTuple\n",
    "from proveit._common_ import b\n",
    "from proveit.number import Complexes, Exp, Mult, three, two"
   ]
  },
  {
   "cell_type": "code",
   "execution_count": 2,
   "metadata": {},
   "outputs": [
    {
     "data": {
      "text/html": [
       "<strong id=\"expr\">expr:</strong> <a class=\"ProveItLink\" href=\"expr.ipynb\"><img src=\"data:image/png;base64,iVBORw0KGgoAAAANSUhEUgAAAKQAAAAcBAMAAAAdAglqAAAAMFBMVEX///+qqqp2dnYiIiJERESI\n",
       "iIhmZmYQEBDc3NyYmJgyMjLu7u5UVFTMzMy6uroAAACGxKilAAAAAXRSTlMAQObYZgAAAtlJREFU\n",
       "SMe1VU1oE0EU/tKaZPO3yVUvCVVzKlhEiiBiFD0IooFSRSi4KAhGxfpzq9gcREQqRvEgCtKDCNoi\n",
       "iyJCLSaCRSseSg+exAQ9+HNoGrXaGpL4ZndmdkL3UlgXZt/bb998O/O9N28Bz67I+m4T3l6BQmCU\n",
       "u3MeUUaN0DxSzIuVPFtnxyg+MDvhnQDPKvBnyU7T0LMrnh6qLIOe7qDbZkAbJEvLjXWtS8jcve7h\n",
       "3qXcXjlj8ixU9KRC1vfwzyaDEpQBBsiQizEKg74gQ8JcX62EQ/JDGIeKhh3Gj008XqApWg0omgjS\n",
       "BpgAGxL4KWPinCdqonNeojWoaCglNYgWgGTpWkVbAjoLKBMWpAwlVcoqT1lwCNGmAPU6VDQyKF7c\n",
       "CbKqLD3Jh4aszR+gx+/2FGfja4UAdQQkZUdPO7pdvDBGmP7ZWH93npY8j7f0eLhNQKZa/7RwO+tS\n",
       "4KmBgoqmRTKNT0qmaC97yDxg/uy4c1p/IT7D/bKUrJhBAwq6hvux1GqFMtbAfTIXrAe/ZZ7T8NUR\n",
       "FEz3rG8wbZMmzkBBv0jKbwql1kQvGS7XME2MsBzR8Y8bvBdkrAUyGXPAbyhoWewpM6v2o5qkvArs\n",
       "I6ki55hSBqpctgH7pDGKXuhLUFBBibFo+yqZgqeJqmValKIsT9ll5DNw2SnLAE+VjYqN44ZFyetO\n",
       "a+AVmd00/gLb8oJyhlSLMO89cEvMbDCBTQe9zbbJHlfdpaOib+EZX0Qf7HI4CP2H7HyJQMnST9vY\n",
       "lRbViJc4YUvN0bQQGe92mS928lVSXVbJfGabOZpz2sbUMdJvkURttVqScnJ/AZHhvEQfwQ6inB9p\n",
       "na84PZMVYDDv1r6+uoG6DLUP5LKgcBZRKkCnA6hXwbVNOi086xpUzCPWYze3FVNOuAfdhH36R1wm\n",
       "+12budP+37gHbaVxheVw5T8K/4z7/4OdOl/Ky5/5Ret+3UvK4/gf1z9658Lw68cLHgAAAABJRU5E\n",
       "rkJggg==\n",
       "\" style=\"display:inline;vertical-align:middle;\" /></a><br>"
      ],
      "text/plain": [
       "expr: ((3 * b , 2 * b , 2) , Complexes^{3})"
      ]
     },
     "execution_count": 2,
     "metadata": {},
     "output_type": "execute_result"
    }
   ],
   "source": [
    "# build up the expression from sub-expressions\n",
    "expr = ExprTuple([Mult(three, b), Mult(two, b), two], Exp(Complexes, three))"
   ]
  },
  {
   "cell_type": "code",
   "execution_count": 3,
   "metadata": {},
   "outputs": [
    {
     "name": "stdout",
     "output_type": "stream",
     "text": [
      "Passed sanity check: built 'expr' is the same as the stored Expression.\n"
     ]
    }
   ],
   "source": [
    "# check that the built expression is the same as the stored expression\n",
    "%check_expr"
   ]
  },
  {
   "cell_type": "code",
   "execution_count": 4,
   "metadata": {},
   "outputs": [
    {
     "data": {
      "text/html": [
       "<table><tr><th>&nbsp;</th><th>core type</th><th>sub-expressions</th><th>expression</th></tr>\n",
       "<tr><td>0</td><td>ExprTuple</td><td>1, 2</td><td><a class=\"ProveItLink\" href=\"expr.ipynb\"><img src=\"data:image/png;base64,iVBORw0KGgoAAAANSUhEUgAAAKQAAAAcBAMAAAAdAglqAAAAMFBMVEX///+qqqp2dnYiIiJERESI\n",
       "iIhmZmYQEBDc3NyYmJgyMjLu7u5UVFTMzMy6uroAAACGxKilAAAAAXRSTlMAQObYZgAAAtlJREFU\n",
       "SMe1VU1oE0EU/tKaZPO3yVUvCVVzKlhEiiBiFD0IooFSRSi4KAhGxfpzq9gcREQqRvEgCtKDCNoi\n",
       "iyJCLSaCRSseSg+exAQ9+HNoGrXaGpL4ZndmdkL3UlgXZt/bb998O/O9N28Bz67I+m4T3l6BQmCU\n",
       "u3MeUUaN0DxSzIuVPFtnxyg+MDvhnQDPKvBnyU7T0LMrnh6qLIOe7qDbZkAbJEvLjXWtS8jcve7h\n",
       "3qXcXjlj8ixU9KRC1vfwzyaDEpQBBsiQizEKg74gQ8JcX62EQ/JDGIeKhh3Gj008XqApWg0omgjS\n",
       "BpgAGxL4KWPinCdqonNeojWoaCglNYgWgGTpWkVbAjoLKBMWpAwlVcoqT1lwCNGmAPU6VDQyKF7c\n",
       "CbKqLD3Jh4aszR+gx+/2FGfja4UAdQQkZUdPO7pdvDBGmP7ZWH93npY8j7f0eLhNQKZa/7RwO+tS\n",
       "4KmBgoqmRTKNT0qmaC97yDxg/uy4c1p/IT7D/bKUrJhBAwq6hvux1GqFMtbAfTIXrAe/ZZ7T8NUR\n",
       "FEz3rG8wbZMmzkBBv0jKbwql1kQvGS7XME2MsBzR8Y8bvBdkrAUyGXPAbyhoWewpM6v2o5qkvArs\n",
       "I6ki55hSBqpctgH7pDGKXuhLUFBBibFo+yqZgqeJqmValKIsT9ll5DNw2SnLAE+VjYqN44ZFyetO\n",
       "a+AVmd00/gLb8oJyhlSLMO89cEvMbDCBTQe9zbbJHlfdpaOib+EZX0Qf7HI4CP2H7HyJQMnST9vY\n",
       "lRbViJc4YUvN0bQQGe92mS928lVSXVbJfGabOZpz2sbUMdJvkURttVqScnJ/AZHhvEQfwQ6inB9p\n",
       "na84PZMVYDDv1r6+uoG6DLUP5LKgcBZRKkCnA6hXwbVNOi086xpUzCPWYze3FVNOuAfdhH36R1wm\n",
       "+12budP+37gHbaVxheVw5T8K/4z7/4OdOl/Ky5/5Ret+3UvK4/gf1z9658Lw68cLHgAAAABJRU5E\n",
       "rkJggg==\n",
       "\" style=\"display:inline;vertical-align:middle;\" /></a></td></tr>\n",
       "<tr><td>1</td><td>ExprTuple</td><td>3, 4, 12</td><td><a class=\"ProveItLink\" href=\"../0b7705f3c357c03e28e028e7d200ce46ab7ba0a90/expr.ipynb\"><img src=\"data:image/png;base64,iVBORw0KGgoAAAANSUhEUgAAAG0AAAAVBAMAAAC+p33JAAAAMFBMVEX////c3NwiIiJERESqqqqY\n",
       "mJh2dnZmZmYQEBDu7u4yMjJUVFTMzMyIiIi6uroAAAAs73DqAAAAAXRSTlMAQObYZgAAAbJJREFU\n",
       "OMudlD1o20AUx3/yp/ytdMnQxVMz2kOzBm8d6y4ZgycbCgHTQgLp0FJKSZdGo6GDBUmHkKEesmQI\n",
       "8ZQOHeotARciMnaxW5wUQ7ByJ0ty2hMFR8PTux//d+/dxzu475fvzR2yJs03OK0/Dtint763uLWi\n",
       "Um1z1ybZFd4+WpPBLOmBr+hwUVHoQ3IjsCDXIzGiUAwUI++fMYkMFXoEJVgF3SR2Ny4/9hz9A5mJ\n",
       "QrdNTmxa8NMdzupM+DOkxyQnCv1i8tomWmHjr/KF/Lhf9f3IOIyWTBJNPgsv+7wTxLXL3Pj+91oI\n",
       "zV5DzOKjOzi3hUmZwjw1ee+rdwmh6bJY7humS9BlRW25iC344ymSZULoS5lzKOO0LtErMWpJ3RL5\n",
       "K0/Rd+0/NNeZxr0TM46ncd5BJb3diDVZUOkTNEPWuQwFi8gvX3GDXkMuia/wTKHZJnGDuEVDpK4y\n",
       "CHbukFekfst79qjeKCr0Qb3+AnkOlzL35t7sBp9VSe0Y4vAcxykqtOQ4IjxtoxthvWXwXyruWbwW\n",
       "ooiHtt2Mrrt9NHdcynI7Sv3Cn4CAZmTB2vzvxA+4BbVYfyP1fQkeAAAAAElFTkSuQmCC\n",
       "\" style=\"display:inline;vertical-align:middle;\" /></a></td></tr>\n",
       "<tr><td>2</td><td>Operation</td><td>operator:&nbsp;5<br>operands:&nbsp;6<br></td><td><a class=\"ProveItLink\" href=\"../7ef71547f87fa9cc26b3db442466b8307b39b2f00/expr.ipynb\"><img src=\"data:image/png;base64,iVBORw0KGgoAAAANSUhEUgAAABcAAAAUBAMAAACUkLs9AAAAMFBMVEX////c3NyqqqqYmJhUVFR2\n",
       "dnbu7u66urrMzMxmZmZEREQQEBAyMjIiIiKIiIgAAAB7fvZ0AAAAAXRSTlMAQObYZgAAAJJJREFU\n",
       "GNNjYICC1KduDHAwmWEOguPJYM+ABGKQ2GzbkdivAkAU353ze1cC6VlAzFFfwBb/BMiQV2BgMHBm\n",
       "YGD6wvidQd6AgTlhA1B0CttFBusEBk5GByAnj6HvqSMDQyZ7AMLIViYDJA47EieLA0kZT4IDgsMc\n",
       "AOKwQXmL64BEbQKEw+L1jK1qGUxh5/3f7hAWAEuSH0rgFzQbAAAAAElFTkSuQmCC\n",
       "\" style=\"display:inline;vertical-align:middle;\" /></a></td></tr>\n",
       "<tr><td>3</td><td>Operation</td><td>operator:&nbsp;8<br>operands:&nbsp;7<br></td><td><a class=\"ProveItLink\" href=\"../1e631544db83ce4853cc0a486ec7448a56387f780/expr.ipynb\"><img src=\"data:image/png;base64,iVBORw0KGgoAAAANSUhEUgAAACIAAAAOBAMAAAC4B9O8AAAAMFBMVEX///+YmJju7u4QEBBUVFQy\n",
       "MjIiIiKIiIi6urpmZmbc3NyqqqpERER2dnbMzMwAAAB0GlNiAAAAAXRSTlMAQObYZgAAAJhJREFU\n",
       "CNdjYHh79zQDDKiYAQmuCQz9BXChECDm/c3AnwAX+Q3E3MgiHJ8gNEIXbwJCMwSwupcIMDDwXXWA\n",
       "i+gfYPgHoosbgASTApDYr8BgCxJhBpmnDzJiKgPDTwauBww8H4Ec5QNAIpOB4yOD/ieICNQ5nJ8Y\n",
       "+AMY2H7BRP4xMF9gYBdg6L8AE/FmmAIkd86MRvi0UoABAPL2JMAQl6zyAAAAAElFTkSuQmCC\n",
       "\" style=\"display:inline;vertical-align:middle;\" /></a></td></tr>\n",
       "<tr><td>4</td><td>Operation</td><td>operator:&nbsp;8<br>operands:&nbsp;9<br></td><td><a class=\"ProveItLink\" href=\"../4fa23b01b5b767887c70271cab015f5b5c98d38c0/expr.ipynb\"><img src=\"data:image/png;base64,iVBORw0KGgoAAAANSUhEUgAAACEAAAAOBAMAAABTMGi/AAAAMFBMVEX///+YmJh2dnbMzMwQEBAi\n",
       "IiLu7u6qqqqIiIhUVFS6urpEREQyMjJmZmbc3NwAAACOMKdoAAAAAXRSTlMAQObYZgAAAKBJREFU\n",
       "CNdj4Lt7egEDFLBNCQCSLxk4vsNEGHgmAIlpDAzxcBH+AiDhksAwH65tfQKQOJ/AcB8uogql4xNg\n",
       "Iic7JoIo5k9wu34z8BuALNgA4qUBMfs3BhYFIH0bLP0VSPAeYOC/wMDAMQEs4g0kWC8wrBdgYKhl\n",
       "4HuAcM79BAbmCwyMcBEDBicGhqdKSldhdnEW8AKNiP///yvc9hkXGRgAQ2knSfB0jgcAAAAASUVO\n",
       "RK5CYII=\n",
       "\" style=\"display:inline;vertical-align:middle;\" /></a></td></tr>\n",
       "<tr><td>5</td><td>Literal</td><td></td><td><a class=\"ProveItLink\" href=\"../../../exponentiation/__pv_it/deb2bf23cbccdd6e6791e1b35b5b9794ce12dbd50/expr.ipynb\"><img src=\"data:image/png;base64,iVBORw0KGgoAAAANSUhEUgAAACgAAAASBAMAAADbMYGVAAAAMFBMVEX///8QEBAiIiKYmJjc3Nzu\n",
       "7u7MzMx2dnZmZma6urpERESqqqoyMjJUVFSIiIgAAAAoDOMTAAAAAXRSTlMAQObYZgAAAOBJREFU\n",
       "GNNjYGB4+//u3Tt/GNAASGAXmhjnPyDBgSbI/g1IxKEJ8nxgYGdgQRPkX8BgDKRY6q7s62OYvmze\n",
       "2wAgb/7ZO1+AVDiDkYEQQ0HTBr4DQF59AgOIKmB4z7CNbcNZBu6vQN55kEACQwDDLQYGVobfDHwg\n",
       "fb8YGBxYHwAZciD3fWXg+gB1JjvQcJZvQIXsCgz8F6DO9GBgMOH7wPCUgaeBwd4B7EwGNjUG7s9c\n",
       "AiwPgO5jkWRgiF3/9+5dfQUG1nWl5Y+B7pv+1gE9bBhqGLCAE1jEWH9jEbT5A3IwAC4sP/1L6Qlu\n",
       "AAAAAElFTkSuQmCC\n",
       "\" style=\"display:inline;vertical-align:middle;\" /></a></td></tr>\n",
       "<tr><td>6</td><td>ExprTuple</td><td>10, 11</td><td><a class=\"ProveItLink\" href=\"../0736190636db428f8a7c6e653a85d0c03823a4f10/expr.ipynb\"><img src=\"data:image/png;base64,iVBORw0KGgoAAAANSUhEUgAAAC8AAAAVBAMAAAAk6KpUAAAAMFBMVEX////c3NwiIiJERESqqqqY\n",
       "mJh2dnZmZmYQEBDu7u4yMjJUVFTMzMyIiIi6uroAAAAs73DqAAAAAXRSTlMAQObYZgAAAShJREFU\n",
       "KM9jYMAJ+C5gisWBiNNAzKu1vskcIsaTluzAwH4AyFoJ5Lx/wJl/GyIhzsD3l4FhAVAx0KSArQwM\n",
       "LL8hEvkODJ8YGMIYGDgmMLBOaACKVEMk/MESMxgYXjEwsDNuAIrMhbsGaBSzA0MZA8N0vgRkJ3EB\n",
       "lbEVMCxlYDjGEoAkfmw1kGBZwNAHZPIhSzDwAoX4Ghj+MTBM5kExiqF/AgPPB5AE14QNCFEZBgb7\n",
       "AJBECwMDawJIghMszvl/AkgCaJQpkGf6Fkg8mgCW+sXAoC/AwLqAIR3I4d58k/OxJcN8BSD7KgPf\n",
       "N7BzH4GUHdf/sQ/o3Y8gh5ZXOQCtfcDAIYCw+CGcNQNkM0IC4Z1cSLBjSHACg51BGuFlOIsbZD4j\n",
       "lqi9w8AAALbHRdYWLCV8AAAAAElFTkSuQmCC\n",
       "\" style=\"display:inline;vertical-align:middle;\" /></a></td></tr>\n",
       "<tr><td>7</td><td>ExprTuple</td><td>11, 13</td><td><a class=\"ProveItLink\" href=\"../ed5a6ec4c875d8d4dac8f1f17e42c24dc92561870/expr.ipynb\"><img src=\"data:image/png;base64,iVBORw0KGgoAAAANSUhEUgAAACkAAAAVBAMAAAAp9toTAAAAMFBMVEX////c3NwiIiJERESqqqqY\n",
       "mJh2dnZmZmYQEBDu7u4yMjJUVFTMzMyIiIi6uroAAAAs73DqAAAAAXRSTlMAQObYZgAAARBJREFU\n",
       "GNNtka9Pw0AcxT/d2rVlY53H7I8AX4edQpIGAQnJkhpAgiBIqMRRAYLM1JBgSKowmEkEJAtypvya\n",
       "qCF873odScOJd++95L737h38v/rThrGt4Aked9crw78fgpsLu8WKKcyBlUwghdUpnW+CYeUGocAW\n",
       "eAn2n1skApcwr5SZsKOgHXKo1cTcP3m9g07MjfDefmYyfBHk2CnnWj7P9GaXeBH9E3609Eq9uSlB\n",
       "TO9duVZOe6HdliQfKfcUrsralbjHiZqwITyl9YFKKledgZOyJ88bUUT+p7jd0M10sjcRm0fX+BcD\n",
       "SfZwoMqY4Q3qRmuiXuxEhjvLgse6yYbrS5OsGbH8kq4aZTV/6AV+AUvGQYW/r0RJAAAAAElFTkSu\n",
       "QmCC\n",
       "\" style=\"display:inline;vertical-align:middle;\" /></a></td></tr>\n",
       "<tr><td>8</td><td>Literal</td><td></td><td><a class=\"ProveItLink\" href=\"../../../multiplication/__pv_it/21fd2079611555ecce512d99547a00d551e6b86b0/expr.ipynb\"><img src=\"data:image/png;base64,iVBORw0KGgoAAAANSUhEUgAAAAMAAAADBAMAAACkBqiMAAAAElBMVEX///9EREQQEBAiIiLu7u4A\n",
       "AABGBidwAAAAAXRSTlMAQObYZgAAABFJREFUCNdjYHFgcDVgcBIAAASWAQx4jI0xAAAAAElFTkSu\n",
       "QmCC\n",
       "\" style=\"display:inline;vertical-align:middle;\" /></a></td></tr>\n",
       "<tr><td>9</td><td>ExprTuple</td><td>12, 13</td><td><a class=\"ProveItLink\" href=\"../3a7fed3333ef42636d071b31cc212d3a8cbf468e0/expr.ipynb\"><img src=\"data:image/png;base64,iVBORw0KGgoAAAANSUhEUgAAACkAAAAVBAMAAAAp9toTAAAAMFBMVEX////c3NwiIiJERESqqqqY\n",
       "mJh2dnZmZmYQEBDu7u4yMjJUVFTMzMyIiIi6uroAAAAs73DqAAAAAXRSTlMAQObYZgAAARNJREFU\n",
       "GNNtkaFPw0AUxn8tK20prEMhMFVoDJb0TwCDJA2CKZIaEBgQhAQDlcgmBEEwNSQYkjkEgnlGIEjM\n",
       "FqZqKO/u2omGipf3/a737rvv4P+vO2yBXVVeYOV40wD/MQJ3IN0dVsFHbPBCISWHpSFBhj0xNFSr\n",
       "O+BleBcEv4aOMynX8C3bStya7qkyF3OklV0aev/+APMpt1q9JsbDlHBAJ+dSyxvza6fES+ieoge6\n",
       "64a6OWHK4sTQt/padsp4S9EztTFlubF7kqkJGyKeYRvlVI46ByenD9bafj/yf4QGsVtoZ18yraqq\n",
       "yL/qibOnQxXGJ16vSbRp1I2dpO6dWcAHOskW9SVJVmsxe5JAjbLaLzSCP9bMPeBRRV1aAAAAAElF\n",
       "TkSuQmCC\n",
       "\" style=\"display:inline;vertical-align:middle;\" /></a></td></tr>\n",
       "<tr><td>10</td><td>Literal</td><td></td><td><a class=\"ProveItLink\" href=\"../../../sets/complex/__pv_it/c357845f93a5a2d9f649129d299e7ec28dda4b960/expr.ipynb\"><img src=\"data:image/png;base64,iVBORw0KGgoAAAANSUhEUgAAAA8AAAAOBAMAAAACpFvcAAAAMFBMVEX////c3NyqqqqYmJhUVFR2\n",
       "dnbu7u66urrMzMxmZmZEREQQEBAyMjIiIiKIiIgAAAB7fvZ0AAAAAXRSTlMAQObYZgAAAGVJREFU\n",
       "CNdjYGDgu3N+70oGBgaO+gK2+CdAhoEzAwPTFwYG5oQNQN4UBgZORgcgI4+BIZM9gAEMWpkMoAx2\n",
       "KCOLAyrFk+AAYTAHgBhsQLy4DkjUJjAwsHg9Y6taBpLsvP/bnYEBACkBFGQfBv8RAAAAAElFTkSu\n",
       "QmCC\n",
       "\" style=\"display:inline;vertical-align:middle;\" /></a></td></tr>\n",
       "<tr><td>11</td><td>Literal</td><td></td><td><a class=\"ProveItLink\" href=\"../../../numeral/__pv_it/9176d93c83afa2c995b614976e3cb49207102fa70/expr.ipynb\"><img src=\"data:image/png;base64,iVBORw0KGgoAAAANSUhEUgAAAAoAAAAOBAMAAADkjZCYAAAAMFBMVEX///+YmJju7u4QEBBUVFQy\n",
       "MjIiIiKIiIi6urpmZmbc3NyqqqpERER2dnbMzMwAAAB0GlNiAAAAAXRSTlMAQObYZgAAAE1JREFU\n",
       "CNdjYHh79zQDA9cEhv4CBt7fDPwJDNxgEgiAIkAQAsR8Vx1ATIbiBhDJ/ImB6wEDz0cG/U8gkj+A\n",
       "ge0XA7sAQ/8FBoadM6MZAEflFACalZ/OAAAAAElFTkSuQmCC\n",
       "\" style=\"display:inline;vertical-align:middle;\" /></a></td></tr>\n",
       "<tr><td>12</td><td>Literal</td><td></td><td><a class=\"ProveItLink\" href=\"../../../numeral/__pv_it/77d407a64829263cdc16415becd4c2293f77a4bf0/expr.ipynb\"><img src=\"data:image/png;base64,iVBORw0KGgoAAAANSUhEUgAAAAkAAAAOBAMAAAAPuiubAAAAMFBMVEX///+YmJh2dnbMzMwQEBAi\n",
       "IiLu7u6qqqqIiIhUVFS6urpEREQyMjJmZmbc3NwAAACOMKdoAAAAAXRSTlMAQObYZgAAAFBJREFU\n",
       "CNdj4Lt7egEDw0sGju8MDNMYGOIZGFwSGOYvYDifwHAfKAEUSQASzJ9ATJ4NIPI2iOCYACJrGfge\n",
       "MDBfYGB8wPBUSekqUPH//18ZAIliFhc3zESNAAAAAElFTkSuQmCC\n",
       "\" style=\"display:inline;vertical-align:middle;\" /></a></td></tr>\n",
       "<tr><td>13</td><td>Variable</td><td></td><td><a class=\"ProveItLink\" href=\"../../../../__pv_it/6840a4fa6c106149dc16a131294d0c5e44f1b0480/expr.ipynb\"><img src=\"data:image/png;base64,iVBORw0KGgoAAAANSUhEUgAAAAkAAAAOBAMAAAAPuiubAAAALVBMVEX///9mZmbMzMxERESYmJiI\n",
       "iIh2dna6urqqqqoyMjIiIiIQEBBUVFTu7u4AAAD9S1JeAAAAAXRSTlMAQObYZgAAAE1JREFUCNdj\n",
       "4D29gAEIOA+ASL4GEFl3AURmgQiGOaFHGBh4HzPwKTBwvGXgTmBgnMDAJ8DAJcBQ5wBSLncBJLWN\n",
       "gYGngRFoBO9REQYGAGrcDtUkVqASAAAAAElFTkSuQmCC\n",
       "\" style=\"display:inline;vertical-align:middle;\" /></a></td></tr>\n",
       "</table>\n"
      ],
      "text/plain": [
       "0. ((3 * b , 2 * b , 2) , Complexes^{3})\n",
       "   core type: ExprTuple\n",
       "   sub-expressions: 1, 2\n",
       "1. (3 * b , 2 * b , 2)\n",
       "   core type: ExprTuple\n",
       "   sub-expressions: 3, 4, 12\n",
       "2. Complexes^{3}\n",
       "   core type: Operation\n",
       "   operator: 5\n",
       "   operands: 6\n",
       "3. 3 * b\n",
       "   core type: Operation\n",
       "   operator: 8\n",
       "   operands: 7\n",
       "4. 2 * b\n",
       "   core type: Operation\n",
       "   operator: 8\n",
       "   operands: 9\n",
       "5. Exp\n",
       "   core type: Literal\n",
       "   sub-expressions: \n",
       "6. (Complexes , 3)\n",
       "   core type: ExprTuple\n",
       "   sub-expressions: 10, 11\n",
       "7. (3 , b)\n",
       "   core type: ExprTuple\n",
       "   sub-expressions: 11, 13\n",
       "8. *\n",
       "   core type: Literal\n",
       "   sub-expressions: \n",
       "9. (2 , b)\n",
       "   core type: ExprTuple\n",
       "   sub-expressions: 12, 13\n",
       "10. Complexes\n",
       "    core type: Literal\n",
       "    sub-expressions: \n",
       "11. 3\n",
       "    core type: Literal\n",
       "    sub-expressions: \n",
       "12. 2\n",
       "    core type: Literal\n",
       "    sub-expressions: \n",
       "13. b\n",
       "    core type: Variable\n",
       "    sub-expressions: "
      ]
     },
     "execution_count": 4,
     "metadata": {},
     "output_type": "execute_result"
    }
   ],
   "source": [
    "# display the expression information\n",
    "expr.exprInfo()"
   ]
  },
  {
   "cell_type": "code",
   "execution_count": null,
   "metadata": {},
   "outputs": [],
   "source": []
  }
 ],
 "metadata": {
  "kernelspec": {
   "display_name": "Python 3",
   "language": "python",
   "name": "python3"
  }
 },
 "nbformat": 4,
 "nbformat_minor": 0
}
