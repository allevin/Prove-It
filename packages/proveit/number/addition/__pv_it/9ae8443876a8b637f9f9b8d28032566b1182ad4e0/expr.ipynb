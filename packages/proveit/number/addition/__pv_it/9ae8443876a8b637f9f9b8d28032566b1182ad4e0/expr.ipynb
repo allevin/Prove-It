{
 "cells": [
  {
   "cell_type": "markdown",
   "metadata": {},
   "source": [
    "Expression of type <a class=\"ProveItLink\" href=\"../../../../../../doc/html/api/proveit.number.Add.html\">Add</a>\n",
    "=======================\n",
    "# from context <a class=\"ProveItLink\" href=\"../../_context_.ipynb\">proveit.number.addition</a>"
   ]
  },
  {
   "cell_type": "code",
   "execution_count": 1,
   "metadata": {},
   "outputs": [],
   "source": [
    "# import Expression classes needed to build the expression\n",
    "from proveit._common_ import a, b, c\n",
    "from proveit.number import Add, four, three, two, zero"
   ]
  },
  {
   "cell_type": "code",
   "execution_count": 2,
   "metadata": {},
   "outputs": [
    {
     "data": {
      "text/html": [
       "<strong id=\"expr\">expr:</strong> <a class=\"ProveItLink\" href=\"expr.ipynb\"><img src=\"data:image/png;base64,iVBORw0KGgoAAAANSUhEUgAAAUcAAAAQBAMAAAB3m6CjAAAAMFBMVEX///+YmJh2dnbMzMwQEBAi\n",
       "IiLu7u6qqqqIiIhUVFS6urpEREQyMjJmZmbc3NwAAACOMKdoAAAAAXRSTlMAQObYZgAAAqhJREFU\n",
       "SMetls9r02AYx79bbdLFNu2fUCrC1IPBm3gQ/HHZZA70oMhoGB7cxQZEmAdppwy64UBBtAOlBXfw\n",
       "1nrztnnYoSxgJwjKOlYRDz3IulXXwZSatE3N8yS1bDaHNHx4vt98877P+76FvL6SAbk8kRMa2HUa\n",
       "PbiET3NKl5KJi1zzdNS4l+GrUf4d0i4X3+hFSG9GuNKtJs+B/7FxewZEW6FLzd+TGn5SAt9w6+G2\n",
       "c3hKXYkFpoFHnUSWcY2DoDmrF1Skm/MtJpo43g5pEXxZaT1MOkK2azoTC1wHsqUOopaxtMMAsqpx\n",
       "e69iI8OU1nS3SbgnIX8DZ7V/h+wf5SGPtn6jKlM2+sBG+ko8pJw6PsIilR8ssGEaH3xoB/K2ETLh\n",
       "XmIZ+1MzIfqmfPJJYzVvs9edyrMhuAUecqF0uEJrpBEsUuIZwrIjZNi9xDKO5VAlQNhD0NwS/Dk+\n",
       "Tb4hSsI8pLyFAFNthrBGyc0E3nQJ2S6xjOMqzhEg7uCQqVlz9tJl0gCiwkMOVOBNUFUauOYg6DLd\n",
       "ad6TxUbn2kBgCcGCMWyNBgzo+vIlXTefvwKLITsZRzNkUdev6rrZC8EcYgpV7UGocsKMzYUTcimx\n",
       "GY9B2iLAW0DW0NyHTBpeqKuNkH/Jvfn5HynyfZsJxEFGW96FWBEYcW5B8ZJ7iWVcQ2CHAGOb3FDh\n",
       "KRiLl3j9MtY7386GqVdMwwtRIZ9Ww8DSHaIyhqSPgOn2huIosYyrzQ60hVTMJv0WiXykyilIfL3z\n",
       "kP6QONZPa97hboGuipfAEQK8mnAe7iWW8XN8Zt2vBYy+iNbr7HwR14saC3msvkpXd2r2zCytKSdf\n",
       "vaWHQmAwSTdg4cOMAvcSy3hiLkRDCqnV/Z4d/3fi7Mt40v0PiJToTl4fRHUgYzv4A6tcCzMqg+7v\n",
       "AAAAAElFTkSuQmCC\n",
       "\" style=\"display:inline;vertical-align:middle;\" /></a><br>"
      ],
      "text/plain": [
       "expr: 2 + 3 + 4 + a + a + c + 0 + c + b + b"
      ]
     },
     "execution_count": 2,
     "metadata": {},
     "output_type": "execute_result"
    }
   ],
   "source": [
    "# build up the expression from sub-expressions\n",
    "expr = Add(two, three, four, a, a, c, zero, c, b, b)"
   ]
  },
  {
   "cell_type": "code",
   "execution_count": 3,
   "metadata": {},
   "outputs": [
    {
     "name": "stdout",
     "output_type": "stream",
     "text": [
      "Passed sanity check: built 'expr' is the same as the stored Expression.\n"
     ]
    }
   ],
   "source": [
    "# check that the built expression is the same as the stored expression\n",
    "%check_expr"
   ]
  },
  {
   "cell_type": "code",
   "execution_count": 4,
   "metadata": {},
   "outputs": [
    {
     "data": {
      "text/html": [
       "<table><tr><th>&nbsp;</th><th>core type</th><th>sub-expressions</th><th>expression</th></tr>\n",
       "<tr><td>0</td><td>Operation</td><td>operator:&nbsp;1<br>operands:&nbsp;2<br></td><td><a class=\"ProveItLink\" href=\"expr.ipynb\"><img src=\"data:image/png;base64,iVBORw0KGgoAAAANSUhEUgAAAUcAAAAQBAMAAAB3m6CjAAAAMFBMVEX///+YmJh2dnbMzMwQEBAi\n",
       "IiLu7u6qqqqIiIhUVFS6urpEREQyMjJmZmbc3NwAAACOMKdoAAAAAXRSTlMAQObYZgAAAqhJREFU\n",
       "SMetls9r02AYx79bbdLFNu2fUCrC1IPBm3gQ/HHZZA70oMhoGB7cxQZEmAdppwy64UBBtAOlBXfw\n",
       "1nrztnnYoSxgJwjKOlYRDz3IulXXwZSatE3N8yS1bDaHNHx4vt98877P+76FvL6SAbk8kRMa2HUa\n",
       "PbiET3NKl5KJi1zzdNS4l+GrUf4d0i4X3+hFSG9GuNKtJs+B/7FxewZEW6FLzd+TGn5SAt9w6+G2\n",
       "c3hKXYkFpoFHnUSWcY2DoDmrF1Skm/MtJpo43g5pEXxZaT1MOkK2azoTC1wHsqUOopaxtMMAsqpx\n",
       "e69iI8OU1nS3SbgnIX8DZ7V/h+wf5SGPtn6jKlM2+sBG+ko8pJw6PsIilR8ssGEaH3xoB/K2ETLh\n",
       "XmIZ+1MzIfqmfPJJYzVvs9edyrMhuAUecqF0uEJrpBEsUuIZwrIjZNi9xDKO5VAlQNhD0NwS/Dk+\n",
       "Tb4hSsI8pLyFAFNthrBGyc0E3nQJ2S6xjOMqzhEg7uCQqVlz9tJl0gCiwkMOVOBNUFUauOYg6DLd\n",
       "ad6TxUbn2kBgCcGCMWyNBgzo+vIlXTefvwKLITsZRzNkUdev6rrZC8EcYgpV7UGocsKMzYUTcimx\n",
       "GY9B2iLAW0DW0NyHTBpeqKuNkH/Jvfn5HynyfZsJxEFGW96FWBEYcW5B8ZJ7iWVcQ2CHAGOb3FDh\n",
       "KRiLl3j9MtY7386GqVdMwwtRIZ9Ww8DSHaIyhqSPgOn2huIosYyrzQ60hVTMJv0WiXykyilIfL3z\n",
       "kP6QONZPa97hboGuipfAEQK8mnAe7iWW8XN8Zt2vBYy+iNbr7HwR14saC3msvkpXd2r2zCytKSdf\n",
       "vaWHQmAwSTdg4cOMAvcSy3hiLkRDCqnV/Z4d/3fi7Mt40v0PiJToTl4fRHUgYzv4A6tcCzMqg+7v\n",
       "AAAAAElFTkSuQmCC\n",
       "\" style=\"display:inline;vertical-align:middle;\" /></a></td></tr>\n",
       "<tr><td>1</td><td>Literal</td><td></td><td><a class=\"ProveItLink\" href=\"../3e6688136fa3c7aefbebe51301b7c3ebf0b69c440/expr.ipynb\"><img src=\"data:image/png;base64,iVBORw0KGgoAAAANSUhEUgAAAA4AAAAOBAMAAADtZjDiAAAAJFBMVEX///+6urpUVFQQEBAiIiIy\n",
       "MjJmZmaIiIiqqqrc3Nzu7u4AAACgHpL+AAAAAXRSTlMAQObYZgAAAB5JREFUCNdjYGBgWMkAAe2k\n",
       "0Kmhoc6hoUGk6BMHYgAHOwjcado9fwAAAABJRU5ErkJggg==\n",
       "\" style=\"display:inline;vertical-align:middle;\" /></a></td></tr>\n",
       "<tr><td>2</td><td>ExprTuple</td><td>3, 4, 5, 6, 6, 8, 7, 8, 9, 9</td><td><a class=\"ProveItLink\" href=\"../2aee08c71e4836febe9f8e3e6ec9fb29471d433c0/expr.ipynb\"><img src=\"data:image/png;base64,iVBORw0KGgoAAAANSUhEUgAAAMIAAAAVBAMAAADm9CyVAAAAMFBMVEX////c3NwiIiJERESqqqqY\n",
       "mJh2dnZmZmYQEBDu7u4yMjJUVFTMzMyIiIi6uroAAAAs73DqAAAAAXRSTlMAQObYZgAAAo5JREFU\n",
       "SMe1lU9oE0EUxr+Nmz+TNGs89VChOdmDijnoUbt4lELWa0+LQnuxWhAqRAUrIoiS7kmKPUSUHkSQ\n",
       "CoJgCQkIevCQRdCKsTV6CiIYNW2JpI2zszP7LxpySSDJb7/3dr6dN29mgcF/FHOAg4dr9OcNMJw7\n",
       "YQtDU2dVERxa6WMEcnWtHJCWrnvhCv0+grSCz/bAw1B2RGYo04dDqEYOBbXHXogDSRMJA6EG0y6o\n",
       "+CXiH/pxeAt8DGpNL4R1xAzEbiGxy7Ss6yBN9uNwEPiRCqxrywvkGr7RmbQQ3RWyqFIk3o/DNlBR\n",
       "/VIk7YOjmLPrKYzjYn1PCwepeH6eayPv6/yB7858YrEt6mD6JMSLVc0D01hmVxXdTnsllomYwqGe\n",
       "2tPg85vHOO+zPB44DrpPQiGDtgdOIc+uHoo5JvN8iuAO0iai3GtUw0WbFk0cCzgICVkDNz1QB1uA\n",
       "qFvzBYP9TQiHRAMhXocScNghBKokJOTY6jhQsR2qPLofGGdFJLpw2JtBgW+q3yBtQZ6V1vzSGJRN\n",
       "D1Rwg7I8i31s3I7BHeTV1dJt9nCjJrJg85J2IDcIJ7dbsym/1ES05YE6K95r2jpslD/AkRSxM2MZ\n",
       "WFRQ8UIuW0SaSNyfYHn02cIM6I47w9JcqY2Y7gImaTdBOjA1nSbWVnsHZQuFtHCwKK7JYxFbW8bJ\n",
       "WZ3lPQfOMQip5I4ddKRnuAwHrG79StM6nU6aLNDZypdyKhZ/smYqbWsWScWNlxu2NrL+/XiN5UVn\n",
       "1g0GZK5atoOOtLSmwQHgCWJi0yvO7v+CXqT0uKE7Rk+NsC6OcmcMrSeF8f8bumMR0zq9B+lwz6ou\n",
       "Z+dVl0QvcvP+cUN37KnVyYN8iybL+AtZidhFqlj0IgAAAABJRU5ErkJggg==\n",
       "\" style=\"display:inline;vertical-align:middle;\" /></a></td></tr>\n",
       "<tr><td>3</td><td>Literal</td><td></td><td><a class=\"ProveItLink\" href=\"../../../numeral/__pv_it/77d407a64829263cdc16415becd4c2293f77a4bf0/expr.ipynb\"><img src=\"data:image/png;base64,iVBORw0KGgoAAAANSUhEUgAAAAkAAAAOBAMAAAAPuiubAAAAMFBMVEX///+YmJh2dnbMzMwQEBAi\n",
       "IiLu7u6qqqqIiIhUVFS6urpEREQyMjJmZmbc3NwAAACOMKdoAAAAAXRSTlMAQObYZgAAAFBJREFU\n",
       "CNdj4Lt7egEDw0sGju8MDNMYGOIZGFwSGOYvYDifwHAfKAEUSQASzJ9ATJ4NIPI2iOCYACJrGfge\n",
       "MDBfYGB8wPBUSekqUPH//18ZAIliFhc3zESNAAAAAElFTkSuQmCC\n",
       "\" style=\"display:inline;vertical-align:middle;\" /></a></td></tr>\n",
       "<tr><td>4</td><td>Literal</td><td></td><td><a class=\"ProveItLink\" href=\"../../../numeral/__pv_it/9176d93c83afa2c995b614976e3cb49207102fa70/expr.ipynb\"><img src=\"data:image/png;base64,iVBORw0KGgoAAAANSUhEUgAAAAoAAAAOBAMAAADkjZCYAAAAMFBMVEX///+YmJju7u4QEBBUVFQy\n",
       "MjIiIiKIiIi6urpmZmbc3NyqqqpERER2dnbMzMwAAAB0GlNiAAAAAXRSTlMAQObYZgAAAE1JREFU\n",
       "CNdjYHh79zQDA9cEhv4CBt7fDPwJDNxgEgiAIkAQAsR8Vx1ATIbiBhDJ/ImB6wEDz0cG/U8gkj+A\n",
       "ge0XA7sAQ/8FBoadM6MZAEflFACalZ/OAAAAAElFTkSuQmCC\n",
       "\" style=\"display:inline;vertical-align:middle;\" /></a></td></tr>\n",
       "<tr><td>5</td><td>Literal</td><td></td><td><a class=\"ProveItLink\" href=\"../../../numeral/__pv_it/23412ce59ea7e77353d2f9225e02248e73651ca00/expr.ipynb\"><img src=\"data:image/png;base64,iVBORw0KGgoAAAANSUhEUgAAAAoAAAAPBAMAAAAv0UM9AAAALVBMVEX///9mZmaqqqru7u52dnYy\n",
       "MjKYmJjc3NwQEBCIiIhEREQiIiJUVFTMzMwAAACUDTcXAAAAAXRSTlMAQObYZgAAAD5JREFUCNdj\n",
       "YGBguMMAArtABGcXiCyLApEOIJKtAERaMoBIBxDJdAFEmjCASJ0zZ16cBCkF64KQPu/EwBwGACv6\n",
       "DSRgin9qAAAAAElFTkSuQmCC\n",
       "\" style=\"display:inline;vertical-align:middle;\" /></a></td></tr>\n",
       "<tr><td>6</td><td>Variable</td><td></td><td><a class=\"ProveItLink\" href=\"../../../../__pv_it/07527342713064c87612d00d8557c53d53d5324a0/expr.ipynb\"><img src=\"data:image/png;base64,iVBORw0KGgoAAAANSUhEUgAAAAsAAAAJBAMAAAAWSsseAAAAMFBMVEX///8yMjKqqqrMzMzu7u4i\n",
       "IiJmZmaYmJhEREQQEBC6urp2dnaIiIhUVFTc3NwAAAD87Fq/AAAAAXRSTlMAQObYZgAAAEhJREFU\n",
       "CNdjYOC7s2seAwPDygccHxgY+L4zsDUwMPB+YGA9wMDA38Dgb8DA8P4Agz6DA4O/AsNFJgMGxgKm\n",
       "MG6gyjunLE4xAAAZTBA5TB6DCwAAAABJRU5ErkJggg==\n",
       "\" style=\"display:inline;vertical-align:middle;\" /></a></td></tr>\n",
       "<tr><td>7</td><td>Literal</td><td></td><td><a class=\"ProveItLink\" href=\"../../../numeral/__pv_it/ec23fc7a1b4222a5f4948b495002b97d6fa18c3c0/expr.ipynb\"><img src=\"data:image/png;base64,iVBORw0KGgoAAAANSUhEUgAAAAoAAAAOBAMAAADkjZCYAAAALVBMVEX///8QEBCYmJh2dnaqqqrc\n",
       "3NxUVFQyMjK6uroiIiLMzMyIiIhmZmbu7u4AAAAZjyHdAAAAAXRSTlMAQObYZgAAAEpJREFUCNdj\n",
       "YLiz+xQDA8MMhpsLGLgnMHAXMHAmMHA8ZeA7wMD1hCHOgIHrNZh8jES+Bss+AqlkeQrSxTyBgWEK\n",
       "w8UFDAx3rLMYAMCjFldHSx/9AAAAAElFTkSuQmCC\n",
       "\" style=\"display:inline;vertical-align:middle;\" /></a></td></tr>\n",
       "<tr><td>8</td><td>Variable</td><td></td><td><a class=\"ProveItLink\" href=\"../../../../__pv_it/cbdfda466482236edba0ce44ac7ef39cda0af7a40/expr.ipynb\"><img src=\"data:image/png;base64,iVBORw0KGgoAAAANSUhEUgAAAAkAAAAJBAMAAAASvxsjAAAALVBMVEX///9mZmbc3NxUVFSYmJhE\n",
       "REQiIiIyMjK6uroQEBDMzMyIiIh2dnbu7u4AAABgFDGoAAAAAXRSTlMAQObYZgAAADZJREFUCNdj\n",
       "YOA9s3sBA8PKBvYEBt7ZDKwODMwPGICALwBE6m0Asx0YGIDiAgw8QJUyu/cyAAAmuwmycZ8WfQAA\n",
       "AABJRU5ErkJggg==\n",
       "\" style=\"display:inline;vertical-align:middle;\" /></a></td></tr>\n",
       "<tr><td>9</td><td>Variable</td><td></td><td><a class=\"ProveItLink\" href=\"../../../../__pv_it/6840a4fa6c106149dc16a131294d0c5e44f1b0480/expr.ipynb\"><img src=\"data:image/png;base64,iVBORw0KGgoAAAANSUhEUgAAAAkAAAAOBAMAAAAPuiubAAAALVBMVEX///9mZmbMzMxERESYmJiI\n",
       "iIh2dna6urqqqqoyMjIiIiIQEBBUVFTu7u4AAAD9S1JeAAAAAXRSTlMAQObYZgAAAE1JREFUCNdj\n",
       "4D29gAEIOA+ASL4GEFl3AURmgQiGOaFHGBh4HzPwKTBwvGXgTmBgnMDAJ8DAJcBQ5wBSLncBJLWN\n",
       "gYGngRFoBO9REQYGAGrcDtUkVqASAAAAAElFTkSuQmCC\n",
       "\" style=\"display:inline;vertical-align:middle;\" /></a></td></tr>\n",
       "</table>\n"
      ],
      "text/plain": [
       "0. 2 + 3 + 4 + a + a + c + 0 + c + b + b\n",
       "   core type: Operation\n",
       "   operator: 1\n",
       "   operands: 2\n",
       "1. +\n",
       "   core type: Literal\n",
       "   sub-expressions: \n",
       "2. (2 , 3 , 4 , a , a , c , 0 , c , b , b)\n",
       "   core type: ExprTuple\n",
       "   sub-expressions: 3, 4, 5, 6, 6, 8, 7, 8, 9, 9\n",
       "3. 2\n",
       "   core type: Literal\n",
       "   sub-expressions: \n",
       "4. 3\n",
       "   core type: Literal\n",
       "   sub-expressions: \n",
       "5. 4\n",
       "   core type: Literal\n",
       "   sub-expressions: \n",
       "6. a\n",
       "   core type: Variable\n",
       "   sub-expressions: \n",
       "7. 0\n",
       "   core type: Literal\n",
       "   sub-expressions: \n",
       "8. c\n",
       "   core type: Variable\n",
       "   sub-expressions: \n",
       "9. b\n",
       "   core type: Variable\n",
       "   sub-expressions: "
      ]
     },
     "execution_count": 4,
     "metadata": {},
     "output_type": "execute_result"
    }
   ],
   "source": [
    "# display the expression information\n",
    "expr.exprInfo()"
   ]
  },
  {
   "cell_type": "code",
   "execution_count": null,
   "metadata": {},
   "outputs": [],
   "source": []
  }
 ],
 "metadata": {
  "kernelspec": {
   "display_name": "Python 3",
   "language": "python",
   "name": "python3"
  }
 },
 "nbformat": 4,
 "nbformat_minor": 0
}
