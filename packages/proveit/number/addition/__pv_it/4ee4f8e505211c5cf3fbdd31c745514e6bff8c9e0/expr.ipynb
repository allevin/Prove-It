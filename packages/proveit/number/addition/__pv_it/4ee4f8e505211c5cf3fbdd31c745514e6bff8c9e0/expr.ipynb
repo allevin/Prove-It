{
 "cells": [
  {
   "cell_type": "markdown",
   "metadata": {},
   "source": [
    "Expression of type <a class=\"ProveItLink\" href=\"../../../../../../doc/html/api/proveit.ExprTuple.html\">ExprTuple</a>\n",
    "=======================\n",
    "# from context <a class=\"ProveItLink\" href=\"../../_context_.ipynb\">proveit.number.addition</a>"
   ]
  },
  {
   "cell_type": "code",
   "execution_count": 1,
   "metadata": {},
   "outputs": [],
   "source": [
    "# import Expression classes needed to build the expression\n",
    "from proveit import ExprTuple\n",
    "from proveit._common_ import a, b\n",
    "from proveit.number import Add, Neg, zero"
   ]
  },
  {
   "cell_type": "code",
   "execution_count": 2,
   "metadata": {},
   "outputs": [
    {
     "data": {
      "text/html": [
       "<strong id=\"expr\">expr:</strong> <a class=\"ProveItLink\" href=\"expr.ipynb\"><img src=\"data:image/png;base64,iVBORw0KGgoAAAANSUhEUgAAAJMAAAAVBAMAAACwIsHjAAAAMFBMVEX////c3NwiIiJERESqqqqY\n",
       "mJh2dnZmZmYQEBDu7u4yMjJUVFTMzMyIiIi6uroAAAAs73DqAAAAAXRSTlMAQObYZgAAAeRJREFU\n",
       "OMutlD9Iw0AUxr/UtOm1mmZ3UFwcVOjiKAZnoZkcpbg4KQXRQRH/IA4imlFwMBQcrIuDggjFgqOD\n",
       "xcGCVSlOIoJFq1JQ8U7T0BdSqtgbcncvd7+89+W7AxrY1GwjKMPicerxgh221928uVhZPJvLQMnw\n",
       "0Y7XutBe/UR27d5XYN2ABbR41hfRaxKYZg9Kdn8OXAJDQND0Wv9o1kTJ9rfVsh3o4ss1bAD3nutH\n",
       "UBcVqMj5BpzpaNIxxSdSenzBpcP1gYvQenGnEVQonTdEL71yVBaBBLb57E5rKlI9nhHJUMssoJ9m\n",
       "tRXFu4OKQ7awxicvUKK0iDKCcRJpMzBBUTETy1UodR6fQLgIn3gvJTtEKwCKhUiiOoBjoIeipr9V\n",
       "cgpsLgpUJIotWo4vgUeDRJ7BRDlKKpVcSaWE6zqhvjiyGwK1xJPPIgbTZas5EpA+IBcZyaoEpVwx\n",
       "Q0wTBfZyAXUcySQtrvky/Q8lhK1BgnoXcpo/FuXe8VsY5b/VkDsDZGdYV1wnZxsDiThB7WMG7Emo\n",
       "obNVCDPcClvdnNzQJNKTbltdP/QVCGozZ4Ctc6+xqTwvKVRAUPvjdSJXH1rV2c0Pjj/+n/vN74zG\n",
       "al0yv20OillChf+gnAzDolKpIRfyFfAFO36I3nQbhMIAAAAASUVORK5CYII=\n",
       "\" style=\"display:inline;vertical-align:middle;\" /></a><br>"
      ],
      "text/plain": [
       "expr: (a - b - a + b , 0)"
      ]
     },
     "execution_count": 2,
     "metadata": {},
     "output_type": "execute_result"
    }
   ],
   "source": [
    "# build up the expression from sub-expressions\n",
    "expr = ExprTuple(Add(a, Neg(b), Neg(a), b), zero)"
   ]
  },
  {
   "cell_type": "code",
   "execution_count": 3,
   "metadata": {},
   "outputs": [
    {
     "name": "stdout",
     "output_type": "stream",
     "text": [
      "Passed sanity check: built 'expr' is the same as the stored Expression.\n"
     ]
    }
   ],
   "source": [
    "# check that the built expression is the same as the stored expression\n",
    "%check_expr"
   ]
  },
  {
   "cell_type": "code",
   "execution_count": 4,
   "metadata": {},
   "outputs": [
    {
     "data": {
      "text/html": [
       "<table><tr><th>&nbsp;</th><th>core type</th><th>sub-expressions</th><th>expression</th></tr>\n",
       "<tr><td>0</td><td>ExprTuple</td><td>1, 2</td><td><a class=\"ProveItLink\" href=\"expr.ipynb\"><img src=\"data:image/png;base64,iVBORw0KGgoAAAANSUhEUgAAAJMAAAAVBAMAAACwIsHjAAAAMFBMVEX////c3NwiIiJERESqqqqY\n",
       "mJh2dnZmZmYQEBDu7u4yMjJUVFTMzMyIiIi6uroAAAAs73DqAAAAAXRSTlMAQObYZgAAAeRJREFU\n",
       "OMutlD9Iw0AUxr/UtOm1mmZ3UFwcVOjiKAZnoZkcpbg4KQXRQRH/IA4imlFwMBQcrIuDggjFgqOD\n",
       "xcGCVSlOIoJFq1JQ8U7T0BdSqtgbcncvd7+89+W7AxrY1GwjKMPicerxgh221928uVhZPJvLQMnw\n",
       "0Y7XutBe/UR27d5XYN2ABbR41hfRaxKYZg9Kdn8OXAJDQND0Wv9o1kTJ9rfVsh3o4ss1bAD3nutH\n",
       "UBcVqMj5BpzpaNIxxSdSenzBpcP1gYvQenGnEVQonTdEL71yVBaBBLb57E5rKlI9nhHJUMssoJ9m\n",
       "tRXFu4OKQ7awxicvUKK0iDKCcRJpMzBBUTETy1UodR6fQLgIn3gvJTtEKwCKhUiiOoBjoIeipr9V\n",
       "cgpsLgpUJIotWo4vgUeDRJ7BRDlKKpVcSaWE6zqhvjiyGwK1xJPPIgbTZas5EpA+IBcZyaoEpVwx\n",
       "Q0wTBfZyAXUcySQtrvky/Q8lhK1BgnoXcpo/FuXe8VsY5b/VkDsDZGdYV1wnZxsDiThB7WMG7Emo\n",
       "obNVCDPcClvdnNzQJNKTbltdP/QVCGozZ4Ctc6+xqTwvKVRAUPvjdSJXH1rV2c0Pjj/+n/vN74zG\n",
       "al0yv20OillChf+gnAzDolKpIRfyFfAFO36I3nQbhMIAAAAASUVORK5CYII=\n",
       "\" style=\"display:inline;vertical-align:middle;\" /></a></td></tr>\n",
       "<tr><td>1</td><td>Operation</td><td>operator:&nbsp;3<br>operands:&nbsp;4<br></td><td><a class=\"ProveItLink\" href=\"../379aabe9450d41f81161b51bd149012d534e46a30/expr.ipynb\"><img src=\"data:image/png;base64,iVBORw0KGgoAAAANSUhEUgAAAHQAAAAQBAMAAAA10UZYAAAAMFBMVEX///8yMjKqqqrMzMzu7u4i\n",
       "IiJmZmaYmJhEREQQEBC6urp2dnaIiIhUVFTc3NwAAAD87Fq/AAAAAXRSTlMAQObYZgAAARxJREFU\n",
       "KM9jYMAALDcDGAgB36nYxRkvENTKIItdmF8Bpw6WB1DGJ+zy6x1wamU6AKG5vmCX38pAUCs3ODj4\n",
       "7uyah+aPM9dRBRBKYFoZ75wtYGBY+YDjA6p/fjDwG6CIIJTAtPo3MHxm4PvOwNaA6qgvDJwbUCxF\n",
       "KIFp1XdgmM3A+4GBFcR/GAoCUUAWmwADfwJQgyhYZAEDXAmS1kQGhm8M/A0M/qjOY01gWF+AEllQ\n",
       "JWyCgqITBQVBsR7GwPWd4f0BBn0GB7RozUcRQFICs/UTA9sXBn8FhotMKNYCw2g2ijOQlMC0fgYF\n",
       "B2MBUxg3ikpeBTbUlIikBKb1EkMuKM5OWZxCjZw76ejRClcC0+p7rICBRADTSgbgQtIKAPdhUUPP\n",
       "U6pnAAAAAElFTkSuQmCC\n",
       "\" style=\"display:inline;vertical-align:middle;\" /></a></td></tr>\n",
       "<tr><td>2</td><td>Literal</td><td></td><td><a class=\"ProveItLink\" href=\"../../../numeral/__pv_it/ec23fc7a1b4222a5f4948b495002b97d6fa18c3c0/expr.ipynb\"><img src=\"data:image/png;base64,iVBORw0KGgoAAAANSUhEUgAAAAoAAAAOBAMAAADkjZCYAAAALVBMVEX///8QEBCYmJh2dnaqqqrc\n",
       "3NxUVFQyMjK6uroiIiLMzMyIiIhmZmbu7u4AAAAZjyHdAAAAAXRSTlMAQObYZgAAAEpJREFUCNdj\n",
       "YLiz+xQDA8MMhpsLGLgnMHAXMHAmMHA8ZeA7wMD1hCHOgIHrNZh8jES+Bss+AqlkeQrSxTyBgWEK\n",
       "w8UFDAx3rLMYAMCjFldHSx/9AAAAAElFTkSuQmCC\n",
       "\" style=\"display:inline;vertical-align:middle;\" /></a></td></tr>\n",
       "<tr><td>3</td><td>Literal</td><td></td><td><a class=\"ProveItLink\" href=\"../3e6688136fa3c7aefbebe51301b7c3ebf0b69c440/expr.ipynb\"><img src=\"data:image/png;base64,iVBORw0KGgoAAAANSUhEUgAAAA4AAAAOBAMAAADtZjDiAAAAJFBMVEX///+6urpUVFQQEBAiIiIy\n",
       "MjJmZmaIiIiqqqrc3Nzu7u4AAACgHpL+AAAAAXRSTlMAQObYZgAAAB5JREFUCNdjYGBgWMkAAe2k\n",
       "0Kmhoc6hoUGk6BMHYgAHOwjcado9fwAAAABJRU5ErkJggg==\n",
       "\" style=\"display:inline;vertical-align:middle;\" /></a></td></tr>\n",
       "<tr><td>4</td><td>ExprTuple</td><td>9, 5, 6, 7</td><td><a class=\"ProveItLink\" href=\"../4ddc4324494ceaa6fef46cdf16234d2afc6be78b0/expr.ipynb\"><img src=\"data:image/png;base64,iVBORw0KGgoAAAANSUhEUgAAAHAAAAAVBAMAAABs93eRAAAAMFBMVEX////c3NwiIiJERESqqqqY\n",
       "mJh2dnZmZmYQEBDu7u4yMjJUVFTMzMyIiIi6uroAAAAs73DqAAAAAXRSTlMAQObYZgAAAXVJREFU\n",
       "OMudVD1Iw0AYfa1pkqak6e6guHTNoHtnl2Z2Ki5u0kUHFfxBHCWj2KEiOIggFRREKAQcHczmIJbq\n",
       "JC6t2CKBIn5Xf+4uP0N7cMfxvvfuvvd9lwBjj7w/uibTpuUuJpC9nk4U1XZo2aB5Ghc1GsnXnbE4\n",
       "YMZmapWShT2WawW6GxfsuMk1CZiXLbzFRheTL1SH9mexSmuqubwd8vF0JQOcYjQfHWAJJ7R/LUx0\n",
       "5ap+wPIkhFPqNgbAPPbptD40W6IpAfSKdCGnlF3s0UH4AnJdpH9qmzqeYaOtHcGqigCnYA34BO6Z\n",
       "0LJRlxNLV9FxpPZwShH5PhPuAlM+ynBDbdyUAIHSgxawVOfIbgk3ipcVhR75EAGBMhjaX6C6wnCU\n",
       "ooq68DxzJa0hAQLlEutg7XhhPWrdtnDwLrSjuQIJECi1B+b+HHrhL/gcfiMRgCP05DL//XLCtAjA\n",
       "EdUXPqtRhIc0J3/3ZpgVAQTkgvke49dhevgGM1trKJxr5wEAAAAASUVORK5CYII=\n",
       "\" style=\"display:inline;vertical-align:middle;\" /></a></td></tr>\n",
       "<tr><td>5</td><td>Operation</td><td>operator:&nbsp;8<br>operand:&nbsp;7<br></td><td><a class=\"ProveItLink\" href=\"../74752f37113c2f2a910a8022bc04ee9e9dd06cc10/expr.ipynb\"><img src=\"data:image/png;base64,iVBORw0KGgoAAAANSUhEUgAAABgAAAAOBAMAAADH1sFNAAAAMFBMVEX///9mZmbMzMxERESYmJiI\n",
       "iIh2dnaqqqoQEBBUVFTu7u66uroiIiIyMjLc3NwAAABYXk/VAAAAAXRSTlMAQObYZgAAAFRJREFU\n",
       "CNdjYICClT0MSOAmMuc7Epv7FxKH7QASh3dqpAOcs96A4ROcU7+AoY3h7RkQOM0gy8DwES5zkIH7\n",
       "C5I1jAjDPzFwJMA50xkkEfasDHRgAABNpxc6/bk9/gAAAABJRU5ErkJggg==\n",
       "\" style=\"display:inline;vertical-align:middle;\" /></a></td></tr>\n",
       "<tr><td>6</td><td>Operation</td><td>operator:&nbsp;8<br>operand:&nbsp;9<br></td><td><a class=\"ProveItLink\" href=\"../5bdd387ae2a10752c3ad16ba6b67c0e39d26b0ee0/expr.ipynb\"><img src=\"data:image/png;base64,iVBORw0KGgoAAAANSUhEUgAAABoAAAAJBAMAAADeJiHIAAAAMFBMVEX///+qqqrMzMzu7u5mZmaY\n",
       "mJhEREQQEBB2dnaIiIhUVFS6uroiIiIyMjLc3NwAAAAxFEmoAAAAAXRSTlMAQObYZgAAAExJREFU\n",
       "CNdjYICBVzO2P4BzuOsY8uEchvcBDG4MDG/PgMBphvUMDCcRct8YmD/BOXw/GRg/MMN4zB8ZuC4I\n",
       "wSWvMsg4NCCsm7kpcwMArzoXiK6Dv2MAAAAASUVORK5CYII=\n",
       "\" style=\"display:inline;vertical-align:middle;\" /></a></td></tr>\n",
       "<tr><td>7</td><td>Variable</td><td></td><td><a class=\"ProveItLink\" href=\"../../../../__pv_it/6840a4fa6c106149dc16a131294d0c5e44f1b0480/expr.ipynb\"><img src=\"data:image/png;base64,iVBORw0KGgoAAAANSUhEUgAAAAkAAAAOBAMAAAAPuiubAAAALVBMVEX///9mZmbMzMxERESYmJiI\n",
       "iIh2dna6urqqqqoyMjIiIiIQEBBUVFTu7u4AAAD9S1JeAAAAAXRSTlMAQObYZgAAAE1JREFUCNdj\n",
       "4D29gAEIOA+ASL4GEFl3AURmgQiGOaFHGBh4HzPwKTBwvGXgTmBgnMDAJ8DAJcBQ5wBSLncBJLWN\n",
       "gYGngRFoBO9REQYGAGrcDtUkVqASAAAAAElFTkSuQmCC\n",
       "\" style=\"display:inline;vertical-align:middle;\" /></a></td></tr>\n",
       "<tr><td>8</td><td>Literal</td><td></td><td><a class=\"ProveItLink\" href=\"../../../negation/__pv_it/3fc7a08bb9735faa20ef8e175f6ea95511acc9c70/expr.ipynb\"><img src=\"data:image/png;base64,iVBORw0KGgoAAAANSUhEUgAAAA4AAAACBAMAAACapPCZAAAAElBMVEX///+6uroiIiIyMjLc3NwA\n",
       "AAA6l9OrAAAAAXRSTlMAQObYZgAAABBJREFUCNdjcFYCAUUGKAAADR4BD8/TF5gAAAAASUVORK5C\n",
       "YII=\n",
       "\" style=\"display:inline;vertical-align:middle;\" /></a></td></tr>\n",
       "<tr><td>9</td><td>Variable</td><td></td><td><a class=\"ProveItLink\" href=\"../../../../__pv_it/07527342713064c87612d00d8557c53d53d5324a0/expr.ipynb\"><img src=\"data:image/png;base64,iVBORw0KGgoAAAANSUhEUgAAAAsAAAAJBAMAAAAWSsseAAAAMFBMVEX///8yMjKqqqrMzMzu7u4i\n",
       "IiJmZmaYmJhEREQQEBC6urp2dnaIiIhUVFTc3NwAAAD87Fq/AAAAAXRSTlMAQObYZgAAAEhJREFU\n",
       "CNdjYOC7s2seAwPDygccHxgY+L4zsDUwMPB+YGA9wMDA38Dgb8DA8P4Agz6DA4O/AsNFJgMGxgKm\n",
       "MG6gyjunLE4xAAAZTBA5TB6DCwAAAABJRU5ErkJggg==\n",
       "\" style=\"display:inline;vertical-align:middle;\" /></a></td></tr>\n",
       "</table>\n"
      ],
      "text/plain": [
       "0. (a - b - a + b , 0)\n",
       "   core type: ExprTuple\n",
       "   sub-expressions: 1, 2\n",
       "1. a - b - a + b\n",
       "   core type: Operation\n",
       "   operator: 3\n",
       "   operands: 4\n",
       "2. 0\n",
       "   core type: Literal\n",
       "   sub-expressions: \n",
       "3. +\n",
       "   core type: Literal\n",
       "   sub-expressions: \n",
       "4. (a , -b , -a , b)\n",
       "   core type: ExprTuple\n",
       "   sub-expressions: 9, 5, 6, 7\n",
       "5. -b\n",
       "   core type: Operation\n",
       "   operator: 8\n",
       "   operand: 7\n",
       "6. -a\n",
       "   core type: Operation\n",
       "   operator: 8\n",
       "   operand: 9\n",
       "7. b\n",
       "   core type: Variable\n",
       "   sub-expressions: \n",
       "8. -\n",
       "   core type: Literal\n",
       "   sub-expressions: \n",
       "9. a\n",
       "   core type: Variable\n",
       "   sub-expressions: "
      ]
     },
     "execution_count": 4,
     "metadata": {},
     "output_type": "execute_result"
    }
   ],
   "source": [
    "# display the expression information\n",
    "expr.exprInfo()"
   ]
  },
  {
   "cell_type": "code",
   "execution_count": null,
   "metadata": {},
   "outputs": [],
   "source": []
  }
 ],
 "metadata": {
  "kernelspec": {
   "display_name": "Python 3",
   "language": "python",
   "name": "python3"
  }
 },
 "nbformat": 4,
 "nbformat_minor": 0
}
