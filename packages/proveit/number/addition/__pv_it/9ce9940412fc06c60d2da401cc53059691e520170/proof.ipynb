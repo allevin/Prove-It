{
 "cells": [
  {
   "cell_type": "markdown",
   "metadata": {},
   "source": [
    "Show the Proof\n",
    "========"
   ]
  },
  {
   "cell_type": "code",
   "execution_count": 1,
   "metadata": {},
   "outputs": [
    {
     "data": {
      "text/html": [
       "<table><tr><th>&nbsp;</th><th>step type</th><th>requirements</th><th>statement</th></tr>\n",
       "<tr><td>0</td><td>specialization</td><td>1, 2, 3</td><td><span style=\"font-size:20px;\"><a class=\"ProveItLink\" href=\"../982bdd828d04e27c512eb43058931d6b3309ff950/expr.ipynb\"><img src=\"data:image/png;base64,iVBORw0KGgoAAAANSUhEUgAAAH4AAAAVBAMAAAByPkciAAAAMFBMVEX///9ERETc3NyqqqpUVFS6\n",
       "urrMzMwyMjIQEBCIiIh2dnYiIiLu7u5mZmaYmJgAAABJJ2g3AAAAAXRSTlMAQObYZgAAAdFJREFU\n",
       "OMtjYGDgu8dAHshaBCJ5djGQCzIMgATnB2xS1v+3V2zvAzN5PDbgkOQtAHK4GrDpn36HgZ1BAMJm\n",
       "d8AhCdaKXf8tBobFXAEQNr8BDkks+k9W794Oon0YmBxSoGLxByA0z/TduwuQJTH1s9UdgDEZD8hA\n",
       "WauhdPobBlRJhH6VWREKIHFFuHaGl3wPoKySmX4gikmGAU0SrBUUiKxNDPJgcSG4Ch6BgzDWRwb+\n",
       "BJCdCuiSfKCoywAGhP4DhosQcbgSlgQnKIv5DwPHAiB9kAFDspaBIaUNSPszMOwE8Vm7d++GhB9D\n",
       "LOsCqGKgA/kvAOkIoBwk/OCSjHVAYaDbPjLwfAMHHyKmC9iB/gO7mPsCQzzItykMGJKgpMtSwMD0\n",
       "k4H5Aw/I/fCUxmWwFKgTFv33QcF6mgFdEux/rg0MPJ+BppiBZPxgSlRATlnBADIUGHhdYE8/QJNE\n",
       "xF8dg/UFsI9OQ5McgxDjAYazCxnOAx3EYsAL9hbPVgZUSYR+lZlhkmCdTLUJYBWsjRWC4j9kGU58\n",
       "AurzhGZw9WsMKJLY0i+zOzT8oSAImWNSDQ1/WDjgzj8w8ACfJFgrH/n6wfmfZyceFZz4yx9wmPEt\n",
       "pqD8AwBRUIKRo6e4bwAAAABJRU5ErkJggg==\n",
       "\" style=\"display:inline;vertical-align:middle;\" /></a> <a class=\"ProveItLink\" href=\"proof.ipynb\" style=\"text-decoration: none\">&#x22A2;&nbsp;</a><a class=\"ProveItLink\" href=\"../b2112633707fd99f7751805c095cb992812de4070/expr.ipynb\"><img src=\"data:image/png;base64,iVBORw0KGgoAAAANSUhEUgAAAGMAAAAVBAMAAACgbk16AAAAMFBMVEX////c3NwiIiJERESqqqqY\n",
       "mJh2dnZmZmYQEBDu7u4yMjJUVFTMzMyIiIi6uroAAAAs73DqAAAAAXRSTlMAQObYZgAAAaJJREFU\n",
       "OMtjYCAD8F3AIcH6AJeW09gEZzcBiRo0Qaf/Wiu0WoGMlVgNWg3EXGhityqBQgYMDLwo7uIUgDK+\n",
       "gFyWgKqljIEhhQ3oWo4JyKIsUAP4foL0N0A4cxcpaYHonQyMG0DeeMWATQubAog0AbN5lsJNZZ5g\n",
       "CbGNgXFvXiOqFq69twMYGNLBbGGEO2JZgaIMS4H4hQDzB1Qt8w0Y/jAweIHZhgifGkwGUX1AS74y\n",
       "sBugavGfwNAGNAqiDq6F+8BGEPUPyPrAwHQBVUsVA8N3Bobz4JBoUlKCeJ/hOV8CVAu/AcP8A0Am\n",
       "+6pVi7pWrdoAZKoz8H2FauHZALdlATCm2AQYWhgY5C8w+DNMQLHlCwP7T5jDFGA62BzyGBiYGBhM\n",
       "gX51YNjFcgBFyx8GDqAbosDsrTAt0iALM8AByRXAos6G6pctDNUMsECeBEuehswTGKYnMzA8AkXL\n",
       "vcP3ULXMvg6KgHVgNuNyiAv4mlcYW/0wByYYAWyxD4kGaIJh2QUNMViuSMCZedhw5aSVODPfLFwS\n",
       "0ji1bMQlwYjLet4D2MUBkyJny8uxCL8AAAAASUVORK5CYII=\n",
       "\" style=\"display:inline;vertical-align:middle;\" /></a></span></td></tr>\n",
       "<tr><td>&nbsp;</td><td colspan=4 style=\"text-align:left\"><span style=\"font-size:20px;\"><a class=\"ProveItLink\" href=\"../../../../__pv_it/07527342713064c87612d00d8557c53d53d5324a0/expr.ipynb\"><img src=\"data:image/png;base64,iVBORw0KGgoAAAANSUhEUgAAAAsAAAAJBAMAAAAWSsseAAAAMFBMVEX///8yMjKqqqrMzMzu7u4i\n",
       "IiJmZmaYmJhEREQQEBC6urp2dnaIiIhUVFTc3NwAAAD87Fq/AAAAAXRSTlMAQObYZgAAAEhJREFU\n",
       "CNdjYOC7s2seAwPDygccHxgY+L4zsDUwMPB+YGA9wMDA38Dgb8DA8P4Agz6DA4O/AsNFJgMGxgKm\n",
       "MG6gyjunLE4xAAAZTBA5TB6DCwAAAABJRU5ErkJggg==\n",
       "\" style=\"display:inline;vertical-align:middle;\" /></a> : <a class=\"ProveItLink\" href=\"../../../../__pv_it/07527342713064c87612d00d8557c53d53d5324a0/expr.ipynb\"><img src=\"data:image/png;base64,iVBORw0KGgoAAAANSUhEUgAAAAsAAAAJBAMAAAAWSsseAAAAMFBMVEX///8yMjKqqqrMzMzu7u4i\n",
       "IiJmZmaYmJhEREQQEBC6urp2dnaIiIhUVFTc3NwAAAD87Fq/AAAAAXRSTlMAQObYZgAAAEhJREFU\n",
       "CNdjYOC7s2seAwPDygccHxgY+L4zsDUwMPB+YGA9wMDA38Dgb8DA8P4Agz6DA4O/AsNFJgMGxgKm\n",
       "MG6gyjunLE4xAAAZTBA5TB6DCwAAAABJRU5ErkJggg==\n",
       "\" style=\"display:inline;vertical-align:middle;\" /></a>, <a class=\"ProveItLink\" href=\"../../../../__pv_it/6840a4fa6c106149dc16a131294d0c5e44f1b0480/expr.ipynb\"><img src=\"data:image/png;base64,iVBORw0KGgoAAAANSUhEUgAAAAkAAAAOBAMAAAAPuiubAAAALVBMVEX///9mZmbMzMxERESYmJiI\n",
       "iIh2dna6urqqqqoyMjIiIiIQEBBUVFTu7u4AAAD9S1JeAAAAAXRSTlMAQObYZgAAAE1JREFUCNdj\n",
       "4D29gAEIOA+ASL4GEFl3AURmgQiGOaFHGBh4HzPwKTBwvGXgTmBgnMDAJ8DAJcBQ5wBSLncBJLWN\n",
       "gYGngRFoBO9REQYGAGrcDtUkVqASAAAAAElFTkSuQmCC\n",
       "\" style=\"display:inline;vertical-align:middle;\" /></a> : <a class=\"ProveItLink\" href=\"../../../../__pv_it/6840a4fa6c106149dc16a131294d0c5e44f1b0480/expr.ipynb\"><img src=\"data:image/png;base64,iVBORw0KGgoAAAANSUhEUgAAAAkAAAAOBAMAAAAPuiubAAAALVBMVEX///9mZmbMzMxERESYmJiI\n",
       "iIh2dna6urqqqqoyMjIiIiIQEBBUVFTu7u4AAAD9S1JeAAAAAXRSTlMAQObYZgAAAE1JREFUCNdj\n",
       "4D29gAEIOA+ASL4GEFl3AURmgQiGOaFHGBh4HzPwKTBwvGXgTmBgnMDAJ8DAJcBQ5wBSLncBJLWN\n",
       "gYGngRFoBO9REQYGAGrcDtUkVqASAAAAAElFTkSuQmCC\n",
       "\" style=\"display:inline;vertical-align:middle;\" /></a></span></td></tr><tr><td>1</td><td>theorem</td><td></td><td><span style=\"font-size:20px;\"> <a class=\"ProveItLink\" href=\"../../_proofs_/addIntClosureBin.ipynb\" style=\"text-decoration: none\">&#x22A2;&nbsp;</a><a class=\"ProveItLink\" href=\"../b2c96ac04fc243f878808d0bd5d9361a44c183220/expr.ipynb\"><img src=\"data:image/png;base64,iVBORw0KGgoAAAANSUhEUgAAALQAAAAWBAMAAACbN6vkAAAAMFBMVEX///8QEBC6urrMzMxUVFRm\n",
       "ZmZERETc3NwyMjKqqqp2dnaIiIiYmJgiIiLu7u4AAAAU9Wx4AAAAAXRSTlMAQObYZgAAAspJREFU\n",
       "OMu1VU1o02AYfpO2aZuk2Q6ygVBpURD0soMXZdLiBBUFA/4gzkNRTBVx9lA3wb8qDiJMLQxBELEI\n",
       "ZcyD9LB52C45eBAnUg+iKMUcisqGTihOynT4/aVp2pj1oC88+b7vydcn7/f+fAX4f2auvmUzg5vJ\n",
       "sb/zZTyZ81L2JSnarBpFjwMtZPjjbz16zcD8JF7f9pIOmRTtdgO/beGkURNyAuGH0TKY8pKeZbDt\n",
       "Mxvr+OQF5+5AAcT8I8JjfwJ5L+l1DLbdpwO/gh5KN10s3Kq8w6PfhCwOH+LliZGRy17KfI6iXVok\n",
       "eTpNEzJmh2xIMCm/pGnvvaTRCQkgOxPPOKRDe6cMgCKZD9vKcuklHhA/AJBueKi7ZNGg4HvhnNPr\n",
       "xRTUAO6Redr+wSeFpA7xG0Cxj1tko7CmeFKlUy5GcdWAw07phyasBYjjqdJUCAN+cjjER0AyGvRN\n",
       "vG36kBHJiAvsiF0xiv0AH5zSRwB+ACTIcaOVCk0j8OomMiJeMiJ2nH4iPN34zZSh/xI4pZdAqRFB\n",
       "XX+t67ik3wD/i0k3tVQIUBAmCK/ktiDi/MwJ/MXlKVOmgVBZPIDLEwSXIfxdcXhdh8CKFZByQ3pS\n",
       "pD2O+fQO9OptEBepVJaTtL3krX1W2A0CpQ7+3LhDugYcqpznZL7PUg4mkadiN+Xvok/4VR/+rlCS\n",
       "y9vIjvl5a6+oUozBA7XgkN4DBxuZ/2pdU0JmCJSjKcpzJRxMCUeL6wuktmuaVoLCE7jCCrJMkZ1d\n",
       "fybmkK5O4/xfp86OslPGT/Vod3pUyssoi4um8AqVTBdEjCrRGzdwKoj1MrR1IzGr0cO7WYW08MCZ\n",
       "iX7zQiaCCp1UZSBAPCX2gsF5gTfiVXJv4gbPD84dg4TBDxZAOY7Wz3Y+Pptc9VLF9qUznraOiGPd\n",
       "ZMEkhbvt6oj3Zdx3XWRwM6mvI17+t/+6fwA7hLztde3QrAAAAABJRU5ErkJggg==\n",
       "\" style=\"display:inline;vertical-align:middle;\" /></a></span></td></tr>\n",
       "<tr><td>&nbsp;</td><td colspan=4 style-\"text-align:left\"><a class=\"ProveItLink\" href=\"../../_proofs_/addIntClosureBin.ipynb\">proveit.number.addition.addIntClosureBin</a></td></tr><tr><td>2</td><td>assumption</td><td></td><td><span style=\"font-size:20px;\"><a class=\"ProveItLink\" href=\"../73c64f4772ac3940529854030c73423f894ffef30/expr.ipynb\"><img src=\"data:image/png;base64,iVBORw0KGgoAAAANSUhEUgAAAEUAAAAVBAMAAADiLT7tAAAAMFBMVEX///9ERETc3NyqqqpUVFS6\n",
       "urrMzMwyMjIQEBCIiIh2dnYiIiLu7u5mZmaYmJgAAABJJ2g3AAAAAXRSTlMAQObYZgAAATlJREFU\n",
       "KM9jYGDgu8eAE7CtUgBRPLsY8AC2ZhDJ+QGbHPP+3+XdFQ8YGK6DeFwN2NRw1h5gKGAEMlbgVsO7\n",
       "gIHLYCl2NSerd28H0SwHGFTYHLCqYas7AGfLMB5AUcPkubQJxFFEKOGb8I4Bpoa3AEhEKDCCvSeE\n",
       "MPIgjwCIeg8iMgKAxvxj4AWJQIQhwI0FHHzsFxgYUtpALvzAwD0BSLN2794NcTMD64UoiFpxYCBF\n",
       "JDAw8AswnE8AOdkBbgw7A9ANixgYuBeAzACy9Scw2DMAncuzAa5mMRfQDRug7uECMs4bMLgzgwzy\n",
       "gylhckiBeBnud/YHzHu5QJzTAVA1jAoyDDy3BJDUMHlOTZwK1l6bAFETId4oWN94AWtcMLtD/QUD\n",
       "eOIUVQ0ffjXg9MOzE286bIVE3mIC6RkAgUFNg6XiaTIAAAAASUVORK5CYII=\n",
       "\" style=\"display:inline;vertical-align:middle;\" /></a> <a class=\"ProveItLink\" href=\"../f595c9231a1d20ad1bd1da2be17dba619ffcaf930/proof.ipynb\" style=\"text-decoration: none\">&#x22A2;&nbsp;</a><a class=\"ProveItLink\" href=\"../e52c7680f4f53012348eb0170b3bcb1877ce6f460/expr.ipynb\"><img src=\"data:image/png;base64,iVBORw0KGgoAAAANSUhEUgAAADIAAAAPBAMAAABU9YHxAAAAMFBMVEX///8yMjKqqqrMzMzu7u4i\n",
       "IiJmZmaYmJhEREQQEBC6urp2dnaIiIhUVFTc3NwAAAD87Fq/AAAAAXRSTlMAQObYZgAAANpJREFU\n",
       "GNNjYMAATPFfBadKFmBKMPCIOTAIcGCRYGDbwMCtsAtZxEc0NBBE8zowvGW+gCTBLO4AZ7dwgNh8\n",
       "d3bNA/FeICTYD5SDqJUPOD6A6D6Edg+WBpCW7wxsIBrMgYLLvA9A9n1gYD0ApLmmhoZCXMDAlbAa\n",
       "RPE3MPgbgByAcA0jgwADwz6G9wcY9BmAlrMEwGU2cS9gYAhg8FdguMgE0nQdJsF3wZaBgXsCA2MB\n",
       "Uxg3SMB1AVSG40ELA0t2A9A7pyxOgZWKGUBkVjbO6JCfkYAcxhehboMAAOemMLNTwnkhAAAAAElF\n",
       "TkSuQmCC\n",
       "\" style=\"display:inline;vertical-align:middle;\" /></a></span></td></tr>\n",
       "<tr><td>3</td><td>assumption</td><td></td><td><span style=\"font-size:20px;\"><a class=\"ProveItLink\" href=\"../0b360cbacf2e99b62a03acfcda6bb9ca68e6e0130/expr.ipynb\"><img src=\"data:image/png;base64,iVBORw0KGgoAAAANSUhEUgAAAEMAAAAVBAMAAADvM06qAAAAMFBMVEX////c3NxERESqqqpUVFS6\n",
       "urrMzMwyMjIQEBCIiIh2dnYiIiLu7u5mZmaYmJgAAABXZE4RAAAAAXRSTlMAQObYZgAAAT9JREFU\n",
       "KM9jYGDgu8eAC7CtEgBRPLsYcAO2ZhDJ+QGozGMDqhTz/t/l3RUPGBiug3hcDUCC3QFVCWftAYYC\n",
       "JiBjBVwJvwGqEt4FDFwGS1GUxB+ASJ2s3r0dRLMcYBBhc0BRshrquroDcIN0mA6gKCmZ6QdiCyFU\n",
       "8E14xwBTwlsA9NEnBv4EIFsR4ZpDPAog6j2IyAgA+vEPA8cCoEoFhBI3FnCosV9gYEhpg5jED2Sz\n",
       "du/eDXEuA+uFKIhSdWDgRABt4L7AEA9ksiFCh50BaP9CoMwCkP8KwMFyH+hSHkQYL+YC2r8B6hYu\n",
       "IAPo1i4Q2w+mgtEhBeJXuKdZDHjBdpwOgCphEtBh4LmlgKSExxOSIBhrEyBKItSblOqbLiAHHTyG\n",
       "3aE+ggFMJRgArIQPrxJweuHZiS/VtUIibDH+tAsAXKVPuBd8q+sAAAAASUVORK5CYII=\n",
       "\" style=\"display:inline;vertical-align:middle;\" /></a> <a class=\"ProveItLink\" href=\"../5b7dc7aa169fd1571cda0018b118269b7814a7920/proof.ipynb\" style=\"text-decoration: none\">&#x22A2;&nbsp;</a><a class=\"ProveItLink\" href=\"../51c67a7d63d0ef51371e0f6bbf4607dc0d1bbaf10/expr.ipynb\"><img src=\"data:image/png;base64,iVBORw0KGgoAAAANSUhEUgAAADAAAAAPBAMAAABQAFHMAAAAMFBMVEX////c3NxmZmbMzMxERESY\n",
       "mJiIiIh2dna6urqqqqoyMjIiIiIQEBBUVFTu7u4AAAAiO1wTAAAAAXRSTlMAQObYZgAAAOJJREFU\n",
       "GNNj4LuzgQEFcO7/ver0mgAGBq4LqBJsix4wLGABMvgnoEowFTCwT6gAMvofQASerd69C0TzPmCQ\n",
       "ZQaZUg0RZ176AK7JjwXEXpt2FcQRQYizJoQCSb4vDPwGQNoRYcsTPgeQ6/4x8BQA5R0QEpd5BUCO\n",
       "WMDAr8DAwHF6926I5QwcCu0giluBoR/oG2aEb7gYFjAwFIK8oQ+0lw/h/0r2BgaGDSCbj4O4V2Hi\n",
       "jBdsGRjYDzDwTmACm/K6ASrBIuDHwKfuwMB3TRWicJEBRKLH64jL+iMKSKF6C+oqCAAAiJc438f0\n",
       "fH8AAAAASUVORK5CYII=\n",
       "\" style=\"display:inline;vertical-align:middle;\" /></a></span></td></tr>\n",
       "</table>"
      ],
      "text/plain": [
       "<proveit._core_.proof._ShowProof at 0x7f94ebd42e48>"
      ]
     },
     "execution_count": 1,
     "metadata": {},
     "output_type": "execute_result"
    }
   ],
   "source": [
    "import proveit\n",
    "%show_proof"
   ]
  },
  {
   "cell_type": "code",
   "execution_count": null,
   "metadata": {},
   "outputs": [],
   "source": []
  }
 ],
 "metadata": {
  "kernelspec": {
   "display_name": "Python 3",
   "language": "python",
   "name": "python3"
  }
 },
 "nbformat": 4,
 "nbformat_minor": 0
}
