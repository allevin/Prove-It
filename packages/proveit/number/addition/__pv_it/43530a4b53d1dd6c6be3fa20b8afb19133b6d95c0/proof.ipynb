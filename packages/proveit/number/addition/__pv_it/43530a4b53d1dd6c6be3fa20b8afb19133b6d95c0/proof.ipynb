{
 "cells": [
  {
   "cell_type": "markdown",
   "metadata": {},
   "source": [
    "Show the Proof\n",
    "========"
   ]
  },
  {
   "cell_type": "code",
   "execution_count": 1,
   "metadata": {},
   "outputs": [
    {
     "data": {
      "text/html": [
       "<table><tr><th>&nbsp;</th><th>step type</th><th>requirements</th><th>statement</th></tr>\n",
       "<tr><td>0</td><td>assumption</td><td></td><td><span style=\"font-size:20px;\"><a class=\"ProveItLink\" href=\"../0b6eb785cd2edcc2b86989d54b41550759444b530/expr.ipynb\"><img src=\"data:image/png;base64,iVBORw0KGgoAAAANSUhEUgAAAEsAAAAVBAMAAAD85A5eAAAAMFBMVEX///9ERETc3NyqqqpUVFS6\n",
       "urrMzMwyMjIQEBCIiIh2dnYiIiLu7u5mZmaYmJgAAABJJ2g3AAAAAXRSTlMAQObYZgAAAUZJREFU\n",
       "KM9jYGDgu8eAD7CtUgBRPLsY8AO2ZhDJ+QHKzcZQMLv8x8YLDAzXQWyuBqhgPbqq1K8Mp346MDCs\n",
       "QFbGt/8Aqio+lgcMDPboypTvg53KwDN99+4CEOMNB5DgRVc2YX4AmE5/AzXtggpI0wRUZawH7B+A\n",
       "aCYZqCqeC1FQFlgZL9gGhqMM+RNANKMCLBwW2EFZ70FEBsSuAAb9CyD6IDy4FsRBWexAiZQ2iKCL\n",
       "i78AiBGxezfECzwCWTAd4kDnRCSAncbAwAG2PQUeIDUsUAb3AiDBApY1APLAfjkNV/YKrOwA1G1c\n",
       "G0D+AypjB8caywOYMsanQD+x7kEOkOMg4T/gcNgKN85F8sBRwQNIyhT7ixj45L+Dvap+De7X2/9b\n",
       "AhjQYgEOTKohkQUH2JVhALAyPoLKwOmNZyeh1NsKSVeLCecFAH4rVeSNuVHXAAAAAElFTkSuQmCC\n",
       "\" style=\"display:inline;vertical-align:middle;\" /></a> <a class=\"ProveItLink\" href=\"proof.ipynb\" style=\"text-decoration: none\">&#x22A2;&nbsp;</a><a class=\"ProveItLink\" href=\"../2c6478f5e8e1ce586fdde9d8472162e59b7d86cd0/expr.ipynb\"><img src=\"data:image/png;base64,iVBORw0KGgoAAAANSUhEUgAAADgAAAAPBAMAAABD1xE4AAAAMFBMVEX///92dnYQEBBERERUVFS6\n",
       "urqIiIhmZmaqqqrc3Nzu7u6YmJgyMjIiIiLMzMwAAACFkkdwAAAAAXRSTlMAQObYZgAAAOVJREFU\n",
       "GNNjYACBtwzoIPfMp8sFEOZ5dLmnXxkWfnMAM7nvL0CV42bZwMDQD5GcUT8BTHPl3L17AMTYxQQk\n",
       "2CGSCfkBYPrNLqjOgikgpQkgJuuC/g0gmtMKKsdVEAi3YSnDe7Ai5glQAT6BbrhkAMN8sKsXM8Al\n",
       "o+FMFxd/AxAj6O5diIO4DB7CJFkZGJjAbnwCN+sUC4zVwMDAqwBirIVLbgRLAj3PCZTk+QDisGyA\n",
       "STJvBbqQ9RYDwxoQ5xfYB1fhWl3MFiw1XsAwWf8kA7f9H7Bz59TBHVn7XyUALbxbzkKCDwoAE7E8\n",
       "zQq+AAsAAAAASUVORK5CYII=\n",
       "\" style=\"display:inline;vertical-align:middle;\" /></a></span></td></tr>\n",
       "</table>"
      ],
      "text/plain": [
       "<proveit._core_.proof._ShowProof at 0x7f94eb4831d0>"
      ]
     },
     "execution_count": 1,
     "metadata": {},
     "output_type": "execute_result"
    }
   ],
   "source": [
    "import proveit\n",
    "%show_proof"
   ]
  },
  {
   "cell_type": "code",
   "execution_count": null,
   "metadata": {},
   "outputs": [],
   "source": []
  }
 ],
 "metadata": {
  "kernelspec": {
   "display_name": "Python 3",
   "language": "python",
   "name": "python3"
  }
 },
 "nbformat": 4,
 "nbformat_minor": 0
}
