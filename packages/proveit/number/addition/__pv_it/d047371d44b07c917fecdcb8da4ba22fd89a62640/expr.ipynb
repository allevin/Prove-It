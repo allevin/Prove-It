{
 "cells": [
  {
   "cell_type": "markdown",
   "metadata": {},
   "source": [
    "Expression of type <a class=\"ProveItLink\" href=\"../../../../../../doc/html/api/proveit.ExprTuple.html\">ExprTuple</a>\n",
    "=======================\n",
    "# from context <a class=\"ProveItLink\" href=\"../../_context_.ipynb\">proveit.number.addition</a>"
   ]
  },
  {
   "cell_type": "code",
   "execution_count": 1,
   "metadata": {},
   "outputs": [],
   "source": [
    "# import Expression classes needed to build the expression\n",
    "from proveit import ExprTuple\n",
    "from proveit._common_ import B\n",
    "from proveit.logic import InSet\n",
    "from proveit.number import Greater, Naturals, zero"
   ]
  },
  {
   "cell_type": "code",
   "execution_count": 2,
   "metadata": {},
   "outputs": [
    {
     "data": {
      "text/html": [
       "<strong id=\"expr\">expr:</strong> <a class=\"ProveItLink\" href=\"expr.ipynb\"><img src=\"data:image/png;base64,iVBORw0KGgoAAAANSUhEUgAAAIUAAAAVBAMAAACakjBMAAAAMFBMVEX////c3NwiIiJERESqqqqY\n",
       "mJh2dnZmZmYQEBDu7u4yMjJUVFTMzMyIiIi6uroAAAAs73DqAAAAAXRSTlMAQObYZgAAAhBJREFU\n",
       "OMutlEFIG0EUhv8Y0zjNRhePepFclRIQoYrYPevB4EEogk1zEQ+CeBAKtgj2IhQJehEvroqH3NSj\n",
       "ie1CoRRzSPBSahVjvRQv1YpaKq2dN7szkxVpQPtgNvvyvvzz5r03Af6H1Rbv9fNBeuT5GrjOZjtK\n",
       "vtjCWUcaYz8s17sFANjLTw7CDn/LkDsFhP/4iTYjDpxI7xYAVSXWAthAlI5i/Obryk9sOPvApOdo\n",
       "oNFRxA6wC/QDNWnuRU+B0IWb4G4sZtPL20zEURoaMFrVkZqB7ybmgWPygpytmhaB7acekcuzjNIo\n",
       "AwKbXo1wCRQsBC2Mk1e3hsBKWhDtcpdcdfG90tAAzzSVcMV4XoUiHoxildzC1v6YGwiaSgOvQkWp\n",
       "oQES2RlWGklU25gh98AEaxbxOWiNSDonNTQgrO+F1qidhGjYY8LEPt9iMa+mObC1BamhAWH5JX0W\n",
       "48TVoK49S8qJk3nggyE1NEB21KlqmiCN19Svc/54J8o9W64RsuLeeGiAW/e66m2vSWdp87of+CW+\n",
       "jyTKNPA8DgY/wIsxrGcsxTeyMeR1/2PGrfkjqdHFV9jGYtMNIPVZzbrF3oB6+5WTT66ym6teoGHC\n",
       "/Tz+yc/BbMyf+oF6XVk2/oUP/sMSaswbN6ln2e2LtMMKl5/PeihZgUlUiI/Iu393DUZJN/6biVbY\n",
       "IkK1CNzvv3AP+AsvmaTFsXtd3QAAAABJRU5ErkJggg==\n",
       "\" style=\"display:inline;vertical-align:middle;\" /></a><br>"
      ],
      "text/plain": [
       "expr: (B in Naturals , B > 0)"
      ]
     },
     "execution_count": 2,
     "metadata": {},
     "output_type": "execute_result"
    }
   ],
   "source": [
    "# build up the expression from sub-expressions\n",
    "expr = ExprTuple(InSet(B, Naturals), Greater(B, zero))"
   ]
  },
  {
   "cell_type": "code",
   "execution_count": 3,
   "metadata": {},
   "outputs": [
    {
     "name": "stdout",
     "output_type": "stream",
     "text": [
      "Passed sanity check: built 'expr' is the same as the stored Expression.\n"
     ]
    }
   ],
   "source": [
    "# check that the built expression is the same as the stored expression\n",
    "%check_expr"
   ]
  },
  {
   "cell_type": "code",
   "execution_count": 4,
   "metadata": {},
   "outputs": [
    {
     "data": {
      "text/html": [
       "<table><tr><th>&nbsp;</th><th>core type</th><th>sub-expressions</th><th>expression</th></tr>\n",
       "<tr><td>0</td><td>ExprTuple</td><td>1, 2</td><td><a class=\"ProveItLink\" href=\"expr.ipynb\"><img src=\"data:image/png;base64,iVBORw0KGgoAAAANSUhEUgAAAIUAAAAVBAMAAACakjBMAAAAMFBMVEX////c3NwiIiJERESqqqqY\n",
       "mJh2dnZmZmYQEBDu7u4yMjJUVFTMzMyIiIi6uroAAAAs73DqAAAAAXRSTlMAQObYZgAAAhBJREFU\n",
       "OMutlEFIG0EUhv8Y0zjNRhePepFclRIQoYrYPevB4EEogk1zEQ+CeBAKtgj2IhQJehEvroqH3NSj\n",
       "ie1CoRRzSPBSahVjvRQv1YpaKq2dN7szkxVpQPtgNvvyvvzz5r03Af6H1Rbv9fNBeuT5GrjOZjtK\n",
       "vtjCWUcaYz8s17sFANjLTw7CDn/LkDsFhP/4iTYjDpxI7xYAVSXWAthAlI5i/Obryk9sOPvApOdo\n",
       "oNFRxA6wC/QDNWnuRU+B0IWb4G4sZtPL20zEURoaMFrVkZqB7ybmgWPygpytmhaB7acekcuzjNIo\n",
       "AwKbXo1wCRQsBC2Mk1e3hsBKWhDtcpdcdfG90tAAzzSVcMV4XoUiHoxildzC1v6YGwiaSgOvQkWp\n",
       "oQES2RlWGklU25gh98AEaxbxOWiNSDonNTQgrO+F1qidhGjYY8LEPt9iMa+mObC1BamhAWH5JX0W\n",
       "48TVoK49S8qJk3nggyE1NEB21KlqmiCN19Svc/54J8o9W64RsuLeeGiAW/e66m2vSWdp87of+CW+\n",
       "jyTKNPA8DgY/wIsxrGcsxTeyMeR1/2PGrfkjqdHFV9jGYtMNIPVZzbrF3oB6+5WTT66ym6teoGHC\n",
       "/Tz+yc/BbMyf+oF6XVk2/oUP/sMSaswbN6ln2e2LtMMKl5/PeihZgUlUiI/Iu393DUZJN/6biVbY\n",
       "IkK1CNzvv3AP+AsvmaTFsXtd3QAAAABJRU5ErkJggg==\n",
       "\" style=\"display:inline;vertical-align:middle;\" /></a></td></tr>\n",
       "<tr><td>1</td><td>Operation</td><td>operator:&nbsp;3<br>operands:&nbsp;4<br></td><td><a class=\"ProveItLink\" href=\"../7b7d7c40158592219c26712ceb5395b6dcd7f67d0/expr.ipynb\"><img src=\"data:image/png;base64,iVBORw0KGgoAAAANSUhEUgAAADkAAAAPBAMAAACsFXoGAAAAMFBMVEX///+qqqru7u4iIiJ2dnbc\n",
       "3NyIiIjMzMxmZmYQEBC6uroyMjJERERUVFSYmJgAAADLUcuvAAAAAXRSTlMAQObYZgAAAPtJREFU\n",
       "GNNjYGB4+//u3dMLGJCB9p/TCgzNnwVA7DkMDBy/UGQZzrEfYGD4AGKxfwPiv6iylwvSGBgmgFhs\n",
       "XxkY+L6ABZmyjY03gBi3NvEWQGR5gCTzJLBs9SOo3uu1TJsgsvwXGFj3KIBYrIdgJl9nTKiByNZf\n",
       "S2t+ABbjCYDLMnTxJYBl8wMYmGzBYjoMCFlehetg2ZMgFWDNK42Noa66zsB0QRssC/LMewcQqxZJ\n",
       "L0MJO0iW/R+QuA8OFmVkWT6BA1Dvsv4Gi/E+QJJlcD0A9W7lJkhgWMFkTwExB9AFHOf/3r29DyoY\n",
       "3Q6hV/8E6mPawIAGZDcbI4sBAL+8S7U/swvZAAAAAElFTkSuQmCC\n",
       "\" style=\"display:inline;vertical-align:middle;\" /></a></td></tr>\n",
       "<tr><td>2</td><td>Operation</td><td>operator:&nbsp;5<br>operands:&nbsp;6<br></td><td><a class=\"ProveItLink\" href=\"../9e07f41473a7bf557ef8816bc8f9d1443af88a270/expr.ipynb\"><img src=\"data:image/png;base64,iVBORw0KGgoAAAANSUhEUgAAADcAAAAOBAMAAAB5gJkQAAAAMFBMVEX///+qqqru7u4iIiJ2dnbc\n",
       "3NyIiIjMzMxmZmYQEBC6uroyMjJERERUVFSYmJgAAADLUcuvAAAAAXRSTlMAQObYZgAAANZJREFU\n",
       "GNNjYGB4+//u3dMLGFABU1tGAZgxh4GB4xeaJPMCJnMQzf4NiP+CWLEFcMlkBoZsEM32lYGB7wtY\n",
       "2Rm46bYMDOsDgDTPBKApk8BCrLcFoJI/GBjqQWz+CwysexSg7nB+AFEFNKk+Aciov5bW/ADuymQn\n",
       "uKQDkJEfwMBki3Dn4yZkyZMgBXCtDLVbkY0F+eK9A0xuzXG4g4Aa2P8B2fdhrpS+CveKfADEm6y/\n",
       "YRY6IQLBGerNyk1QjyTBg0+AaTowVM//vXt7H0QkGOEsppbcAgYAtHA/md4hRgUAAAAASUVORK5C\n",
       "YII=\n",
       "\" style=\"display:inline;vertical-align:middle;\" /></a></td></tr>\n",
       "<tr><td>3</td><td>Literal</td><td></td><td><a class=\"ProveItLink\" href=\"../../../../logic/set_theory/membership/__pv_it/088cbc857536a28d4119ad9639a84270ccb0545d0/expr.ipynb\"><img src=\"data:image/png;base64,iVBORw0KGgoAAAANSUhEUgAAAAwAAAAMBAMAAACkW0HUAAAALVBMVEX///+qqqpmZmZUVFQQEBC6\n",
       "urpERETc3NyYmJjMzMwiIiIyMjKIiIju7u4AAACYsrA9AAAAAXRSTlMAQObYZgAAADxJREFUCNdj\n",
       "YOA9vWrVBgaG2b0MQMCeCyIZ2ArA1DUwyRCyahVIyWQI7xaEYm4AU7xLIdxqTQgtvGvVBgCkcQ7e\n",
       "geM/tQAAAABJRU5ErkJggg==\n",
       "\" style=\"display:inline;vertical-align:middle;\" /></a></td></tr>\n",
       "<tr><td>4</td><td>ExprTuple</td><td>8, 7</td><td><a class=\"ProveItLink\" href=\"../6449b87fd3f4f16df4cf835d7a17bc971ebd7ef30/expr.ipynb\"><img src=\"data:image/png;base64,iVBORw0KGgoAAAANSUhEUgAAADUAAAAVBAMAAAAUZLt1AAAAMFBMVEX////c3NwiIiJERESqqqqY\n",
       "mJh2dnZmZmYQEBDu7u4yMjJUVFTMzMyIiIi6uroAAAAs73DqAAAAAXRSTlMAQObYZgAAAUJJREFU\n",
       "KM99kr9Lw1AQx7+xfaYxSe3u4u7SpSAdNH9CJhdB28lJkA6OUtDFRTKWLgbEIVtxNFEDgggdzB9g\n",
       "aXXsVBVFLP64y0tqwOKDe9z3Prl7d+8F+G8Vo6nhDd66ZOvfvl8dxLH2S9VB49lSQxIeR/YB9Usm\n",
       "VIwyMAJcwOSSxifZWLKzsAc0gTWg4JA2nwDxJtmlp4fMWsCQdY78mUPJgq7mMctZ2GU934Fy4iQs\n",
       "H10zm93BKeu7i17DTpoPsCciYnkXR6z7JWhLE6Y7AbFiE3Hny8ztlGmdNjFjJBm3v1lLGW4MyQ54\n",
       "vFfarqwJE1Y5rllJxlM+AC1hqBMTLraS8W7p7o4XSayQqW48wyN5q2P/nGdpUf7wnXI0YnMDFEqZ\n",
       "h3nI+HRnopbRdsbfTt/oL+OyWPjVZuYznc9Spv8T98APVixZkWE3/tMAAAAASUVORK5CYII=\n",
       "\" style=\"display:inline;vertical-align:middle;\" /></a></td></tr>\n",
       "<tr><td>5</td><td>Literal</td><td></td><td><a class=\"ProveItLink\" href=\"../../../ordering/__pv_it/fed4085ae483b560677c9d938187885e1d910a490/expr.ipynb\"><img src=\"data:image/png;base64,iVBORw0KGgoAAAANSUhEUgAAAA4AAAAMBAMAAACgrpHpAAAALVBMVEX///9mZmaIiIiYmJgiIiJ2\n",
       "dnbu7u6qqqoyMjK6urpERETMzMxUVFTc3NwAAADHHImEAAAAAXRSTlMAQObYZgAAADlJREFUCNdj\n",
       "uLOBAQy4V02AMHhPFEAYbCEGUIZKGITBYCIGoff0gqlZq8FUxVmIZBhElxqYdwWiGQBNjQtMyuln\n",
       "xAAAAABJRU5ErkJggg==\n",
       "\" style=\"display:inline;vertical-align:middle;\" /></a></td></tr>\n",
       "<tr><td>6</td><td>ExprTuple</td><td>8, 9</td><td><a class=\"ProveItLink\" href=\"../14056a399eb1a67f882bd676019fd55f6e2210bb0/expr.ipynb\"><img src=\"data:image/png;base64,iVBORw0KGgoAAAANSUhEUgAAADEAAAAVBAMAAAAdjxsPAAAAMFBMVEX////c3NwiIiJERESqqqqY\n",
       "mJh2dnZmZmYQEBDu7u4yMjJUVFTMzMyIiIi6uroAAAAs73DqAAAAAXRSTlMAQObYZgAAAS1JREFU\n",
       "KM9jYMAN+C5gEYwDEaeBmHX/792b10EEOWuvH2BgPwBkrQRxOQwYGOofgGWYHnDqMDAsYGDgBRt2\n",
       "Hkie3wCWucTAcIuBIQyoegKIe1+AgSE+ASyjzcDwXoBhBgPDKzDXAog1wGoYvgN1OzAwOzCUgbm/\n",
       "GRikLMEsxm9gs9kKGJaCuDy/715XZUDIJDCwLGDoA3F5PzIwTNqALMPXwPAPxGVuAMp+RTaN5wNE\n",
       "hh+onvUbA9wFASCZFrB3AhgYuL8wwFztLwAyzRTmHfkFDJxQnyYBTVjAkA71Dk/XBIb5CqDQceDs\n",
       "YQC5+hGQU/x/9+5VQANnfASFaNltYHByPWDgEEAK/IdwFjB0WBOQZALgrFxYLKDLcAJjgUEaIcEL\n",
       "Z3GD7GDEFtt3GBgAlzVSTIn3K6wAAAAASUVORK5CYII=\n",
       "\" style=\"display:inline;vertical-align:middle;\" /></a></td></tr>\n",
       "<tr><td>7</td><td>Literal</td><td></td><td><a class=\"ProveItLink\" href=\"../../../sets/integer/__pv_it/e5d9bd86b06b357eee742ad868997123619e09700/expr.ipynb\"><img src=\"data:image/png;base64,iVBORw0KGgoAAAANSUhEUgAAAA8AAAAOBAMAAAACpFvcAAAAMFBMVEX////c3Nx2dna6uroQEBCI\n",
       "iIhUVFTMzMyYmJiqqqoiIiJmZmZEREQyMjLu7u4AAADjlg78AAAAAXRSTlMAQObYZgAAAGBJREFU\n",
       "CNdjePvn7AOGXb8mMDCcYD/AwPCBgYEhqyCUgcEByEi+x1YAZqSX8d2DMDgDaiAMhs0cARAG24N0\n",
       "CIMv4S2EwVDEDmVwTDgAYTAoghiHgZj7AgOD7Rcgj+8CAwA9oh2B0HK+MAAAAABJRU5ErkJggg==\n",
       "\" style=\"display:inline;vertical-align:middle;\" /></a></td></tr>\n",
       "<tr><td>8</td><td>Variable</td><td></td><td><a class=\"ProveItLink\" href=\"../../../../__pv_it/077b2ff79244fb4582cbe22c6e3356fa92a52f2f0/expr.ipynb\"><img src=\"data:image/png;base64,iVBORw0KGgoAAAANSUhEUgAAABAAAAAOBAMAAADUAYG5AAAAMFBMVEX///+qqqru7u4iIiJ2dnbc\n",
       "3NyIiIjMzMxmZmYQEBC6uroyMjJERERUVFSYmJgAAADLUcuvAAAAAXRSTlMAQObYZgAAAGpJREFU\n",
       "CNdjYGB4+//u3dMLGIBgDgMDxy8gzf4NiP8CGWxfGRj4vgAZPBMYGJgnARn8FxhY9ygAGfXX0pof\n",
       "gDTlBzAw2YIYJ0EckBBI53sHoBH/gIz7AhBjWH9DjancBLTl/N+7t/cxMAAA3u4f/5xagjYAAAAA\n",
       "SUVORK5CYII=\n",
       "\" style=\"display:inline;vertical-align:middle;\" /></a></td></tr>\n",
       "<tr><td>9</td><td>Literal</td><td></td><td><a class=\"ProveItLink\" href=\"../../../numeral/__pv_it/ec23fc7a1b4222a5f4948b495002b97d6fa18c3c0/expr.ipynb\"><img src=\"data:image/png;base64,iVBORw0KGgoAAAANSUhEUgAAAAoAAAAOBAMAAADkjZCYAAAALVBMVEX///8QEBCYmJh2dnaqqqrc\n",
       "3NxUVFQyMjK6uroiIiLMzMyIiIhmZmbu7u4AAAAZjyHdAAAAAXRSTlMAQObYZgAAAEpJREFUCNdj\n",
       "YLiz+xQDA8MMhpsLGLgnMHAXMHAmMHA8ZeA7wMD1hCHOgIHrNZh8jES+Bss+AqlkeQrSxTyBgWEK\n",
       "w8UFDAx3rLMYAMCjFldHSx/9AAAAAElFTkSuQmCC\n",
       "\" style=\"display:inline;vertical-align:middle;\" /></a></td></tr>\n",
       "</table>\n"
      ],
      "text/plain": [
       "0. (B in Naturals , B > 0)\n",
       "   core type: ExprTuple\n",
       "   sub-expressions: 1, 2\n",
       "1. B in Naturals\n",
       "   core type: Operation\n",
       "   operator: 3\n",
       "   operands: 4\n",
       "2. B > 0\n",
       "   core type: Operation\n",
       "   operator: 5\n",
       "   operands: 6\n",
       "3. in\n",
       "   core type: Literal\n",
       "   sub-expressions: \n",
       "4. (B , Naturals)\n",
       "   core type: ExprTuple\n",
       "   sub-expressions: 8, 7\n",
       "5. >\n",
       "   core type: Literal\n",
       "   sub-expressions: \n",
       "6. (B , 0)\n",
       "   core type: ExprTuple\n",
       "   sub-expressions: 8, 9\n",
       "7. Naturals\n",
       "   core type: Literal\n",
       "   sub-expressions: \n",
       "8. B\n",
       "   core type: Variable\n",
       "   sub-expressions: \n",
       "9. 0\n",
       "   core type: Literal\n",
       "   sub-expressions: "
      ]
     },
     "execution_count": 4,
     "metadata": {},
     "output_type": "execute_result"
    }
   ],
   "source": [
    "# display the expression information\n",
    "expr.exprInfo()"
   ]
  },
  {
   "cell_type": "code",
   "execution_count": null,
   "metadata": {},
   "outputs": [],
   "source": []
  }
 ],
 "metadata": {
  "kernelspec": {
   "display_name": "Python 3",
   "language": "python",
   "name": "python3"
  }
 },
 "nbformat": 4,
 "nbformat_minor": 0
}
