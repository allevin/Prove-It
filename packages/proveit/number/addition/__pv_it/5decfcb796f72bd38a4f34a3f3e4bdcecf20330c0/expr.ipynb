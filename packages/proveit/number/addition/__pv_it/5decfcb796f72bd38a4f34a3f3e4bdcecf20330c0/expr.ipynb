{
 "cells": [
  {
   "cell_type": "markdown",
   "metadata": {},
   "source": [
    "Expression of type <a class=\"ProveItLink\" href=\"../../../../../../doc/html/api/proveit.ExprTuple.html\">ExprTuple</a>\n",
    "=======================\n",
    "# from context <a class=\"ProveItLink\" href=\"../../_context_.ipynb\">proveit.number.addition</a>"
   ]
  },
  {
   "cell_type": "code",
   "execution_count": 1,
   "metadata": {},
   "outputs": [],
   "source": [
    "# import Expression classes needed to build the expression\n",
    "from proveit import ExprTuple\n",
    "from proveit._common_ import c\n",
    "from proveit.number import Complexes, Exp, two"
   ]
  },
  {
   "cell_type": "code",
   "execution_count": 2,
   "metadata": {},
   "outputs": [
    {
     "data": {
      "text/html": [
       "<strong id=\"expr\">expr:</strong> <a class=\"ProveItLink\" href=\"expr.ipynb\"><img src=\"data:image/png;base64,iVBORw0KGgoAAAANSUhEUgAAAGAAAAAcBAMAAABsVqexAAAAMFBMVEX///+qqqp2dnYiIiJERESI\n",
       "iIhmZmYQEBDc3NyYmJgyMjLu7u5UVFTMzMy6uroAAACGxKilAAAAAXRSTlMAQObYZgAAAhtJREFU\n",
       "OMuVVD1oFEEU/k7dc283u6eNhQgugdiFpBIR5JJGCFocyGGhQiDBIhqSYGFA0ANNEwTPkCrVEcVK\n",
       "vEXUgzSXIohJwBwiVoEcqCRVfvwhEY3ne7Mzm9kzxd7Azvubb+Z7b94sEHMc6F9EU+MGBpS6Hgtw\n",
       "Bo+q8FhzZmMBRlCpYZm1GT8mqZM+jCzJeTa+NgRTtf8B04IYzOGAlnn9qb5ocE81zpZunacyMfWr\n",
       "QLKXpOXjIYwtDWCFmrNRszto4QQbFR+Hed8cQFXO6Jw8pRWIc+IPXM+pAgcLWGHnHeC2jyWNkz2s\n",
       "kD5rN/Hx6AmqTrILl8l0i0DJx5CeRLeUSZO5v8a9ep3hm1hgZ3B+Rhb4Zds14JQEvHE9bRv3Ny5y\n",
       "hgWR3TeZ5V08AY7LJR8SBQ3g7OIZCZE4rK7AWc6iB1hVAFcHmH9xmkRaAPqlc0nMK9J65eiU7K09\n",
       "gKF66kcEYPmz0ROeM6UjNB2DmRe+nyK0Gl4IA2wF2MUciUNE0+lFKi/8v2gVMKWW9XCffZYFdHdw\n",
       "iV8Ttcf91tY+VDrJegu0B2UVZsvcFfvLBXXeJjYYR4FMvf4d5R2+lbYc7feC68UmPmW234cPtYg0\n",
       "dQhGlWMt2hprjS1uZdHCVZsIOy3cKhsx1ajk4XQG7d0AmMG+gEnZZaastRFG3kVNNc7RN87KWEPA\n",
       "qO77rFP82hJe/J/TAzE/buZv1vz4BwXGgywwyJL4AAAAAElFTkSuQmCC\n",
       "\" style=\"display:inline;vertical-align:middle;\" /></a><br>"
      ],
      "text/plain": [
       "expr: ((2 , c) , Complexes^{2})"
      ]
     },
     "execution_count": 2,
     "metadata": {},
     "output_type": "execute_result"
    }
   ],
   "source": [
    "# build up the expression from sub-expressions\n",
    "expr = ExprTuple([two, c], Exp(Complexes, two))"
   ]
  },
  {
   "cell_type": "code",
   "execution_count": 3,
   "metadata": {},
   "outputs": [
    {
     "name": "stdout",
     "output_type": "stream",
     "text": [
      "Passed sanity check: built 'expr' is the same as the stored Expression.\n"
     ]
    }
   ],
   "source": [
    "# check that the built expression is the same as the stored expression\n",
    "%check_expr"
   ]
  },
  {
   "cell_type": "code",
   "execution_count": 4,
   "metadata": {},
   "outputs": [
    {
     "data": {
      "text/html": [
       "<table><tr><th>&nbsp;</th><th>core type</th><th>sub-expressions</th><th>expression</th></tr>\n",
       "<tr><td>0</td><td>ExprTuple</td><td>1, 2</td><td><a class=\"ProveItLink\" href=\"expr.ipynb\"><img src=\"data:image/png;base64,iVBORw0KGgoAAAANSUhEUgAAAGAAAAAcBAMAAABsVqexAAAAMFBMVEX///+qqqp2dnYiIiJERESI\n",
       "iIhmZmYQEBDc3NyYmJgyMjLu7u5UVFTMzMy6uroAAACGxKilAAAAAXRSTlMAQObYZgAAAhtJREFU\n",
       "OMuVVD1oFEEU/k7dc283u6eNhQgugdiFpBIR5JJGCFocyGGhQiDBIhqSYGFA0ANNEwTPkCrVEcVK\n",
       "vEXUgzSXIohJwBwiVoEcqCRVfvwhEY3ne7Mzm9kzxd7Azvubb+Z7b94sEHMc6F9EU+MGBpS6Hgtw\n",
       "Bo+q8FhzZmMBRlCpYZm1GT8mqZM+jCzJeTa+NgRTtf8B04IYzOGAlnn9qb5ocE81zpZunacyMfWr\n",
       "QLKXpOXjIYwtDWCFmrNRszto4QQbFR+Hed8cQFXO6Jw8pRWIc+IPXM+pAgcLWGHnHeC2jyWNkz2s\n",
       "kD5rN/Hx6AmqTrILl8l0i0DJx5CeRLeUSZO5v8a9ep3hm1hgZ3B+Rhb4Zds14JQEvHE9bRv3Ny5y\n",
       "hgWR3TeZ5V08AY7LJR8SBQ3g7OIZCZE4rK7AWc6iB1hVAFcHmH9xmkRaAPqlc0nMK9J65eiU7K09\n",
       "gKF66kcEYPmz0ROeM6UjNB2DmRe+nyK0Gl4IA2wF2MUciUNE0+lFKi/8v2gVMKWW9XCffZYFdHdw\n",
       "iV8Ttcf91tY+VDrJegu0B2UVZsvcFfvLBXXeJjYYR4FMvf4d5R2+lbYc7feC68UmPmW234cPtYg0\n",
       "dQhGlWMt2hprjS1uZdHCVZsIOy3cKhsx1ajk4XQG7d0AmMG+gEnZZaastRFG3kVNNc7RN87KWEPA\n",
       "qO77rFP82hJe/J/TAzE/buZv1vz4BwXGgywwyJL4AAAAAElFTkSuQmCC\n",
       "\" style=\"display:inline;vertical-align:middle;\" /></a></td></tr>\n",
       "<tr><td>1</td><td>ExprTuple</td><td>7, 3</td><td><a class=\"ProveItLink\" href=\"../c82be1b543fff98ad9274deef79c26222d55e1960/expr.ipynb\"><img src=\"data:image/png;base64,iVBORw0KGgoAAAANSUhEUgAAACkAAAAVBAMAAAAp9toTAAAAMFBMVEX////c3NwiIiJERESqqqqY\n",
       "mJh2dnZmZmYQEBDu7u4yMjJUVFTMzMyIiIi6uroAAAAs73DqAAAAAXRSTlMAQObYZgAAAQFJREFU\n",
       "GNNjYMAO+C6gCcSBiNMMDOJVdkii7AeAxEoGxg0M9x2QhBcwMPBeYOCewMD0AUk0jIGBYwIDRycD\n",
       "9z8k0RkMDK8YGLh+MrAjizI7MJSBGUw/IQKcaXcPMLAVMCwF884nQERPPOBSYGBZwNAH5i2GKu1l\n",
       "YA5g4GtgABvIbgAR5QY7hecDRPQ21B5+A6hoC5BiKWAQBIvKg30PNMEUSB1nYAhkmABSG8DAEMDA\n",
       "uoAhnYGBUS0tXYHzE8jcAgY2sMseAR37//9/Bc5+AaBw2d2bQF89YOAQgIWoAJKPWaHuZ2CF+zgX\n",
       "HJJoopzAkGSQhnLgUcINMooRPYbuMDAAAGWVN+1zxG0tAAAAAElFTkSuQmCC\n",
       "\" style=\"display:inline;vertical-align:middle;\" /></a></td></tr>\n",
       "<tr><td>2</td><td>Operation</td><td>operator:&nbsp;4<br>operands:&nbsp;5<br></td><td><a class=\"ProveItLink\" href=\"../e85e9ca78d1a4564103466d9cefc2e310cc417b30/expr.ipynb\"><img src=\"data:image/png;base64,iVBORw0KGgoAAAANSUhEUgAAABcAAAAUBAMAAACUkLs9AAAAMFBMVEX////c3NyqqqqYmJhUVFR2\n",
       "dnbu7u66urrMzMxmZmZEREQQEBAyMjIiIiKIiIgAAAB7fvZ0AAAAAXRSTlMAQObYZgAAAJRJREFU\n",
       "GNNjYIAC1lluDHAwjWEOgnORQb4BztnEkF+AkGLQT0DiHAURfHfO710JNM4ByOaoL2CLf8LAYAqS\n",
       "MHBmYGD6wsAewNHAwJywASgyhaFLSSWBgZMRpDaPYf///wwMmewBCANbmQyQOOxInCwOJGU8CQ4I\n",
       "DnMAiMMG5S2uAxK1UEeyeD1jq1oGU9h5/7c7hAUA0KsgFpNdq2UAAAAASUVORK5CYII=\n",
       "\" style=\"display:inline;vertical-align:middle;\" /></a></td></tr>\n",
       "<tr><td>3</td><td>Variable</td><td></td><td><a class=\"ProveItLink\" href=\"../../../../__pv_it/cbdfda466482236edba0ce44ac7ef39cda0af7a40/expr.ipynb\"><img src=\"data:image/png;base64,iVBORw0KGgoAAAANSUhEUgAAAAkAAAAJBAMAAAASvxsjAAAALVBMVEX///9mZmbc3NxUVFSYmJhE\n",
       "REQiIiIyMjK6uroQEBDMzMyIiIh2dnbu7u4AAABgFDGoAAAAAXRSTlMAQObYZgAAADZJREFUCNdj\n",
       "YOA9s3sBA8PKBvYEBt7ZDKwODMwPGICALwBE6m0Asx0YGIDiAgw8QJUyu/cyAAAmuwmycZ8WfQAA\n",
       "AABJRU5ErkJggg==\n",
       "\" style=\"display:inline;vertical-align:middle;\" /></a></td></tr>\n",
       "<tr><td>4</td><td>Literal</td><td></td><td><a class=\"ProveItLink\" href=\"../../../exponentiation/__pv_it/deb2bf23cbccdd6e6791e1b35b5b9794ce12dbd50/expr.ipynb\"><img src=\"data:image/png;base64,iVBORw0KGgoAAAANSUhEUgAAACgAAAASBAMAAADbMYGVAAAAMFBMVEX///8QEBAiIiKYmJjc3Nzu\n",
       "7u7MzMx2dnZmZma6urpERESqqqoyMjJUVFSIiIgAAAAoDOMTAAAAAXRSTlMAQObYZgAAAOBJREFU\n",
       "GNNjYGB4+//u3Tt/GNAASGAXmhjnPyDBgSbI/g1IxKEJ8nxgYGdgQRPkX8BgDKRY6q7s62OYvmze\n",
       "2wAgb/7ZO1+AVDiDkYEQQ0HTBr4DQF59AgOIKmB4z7CNbcNZBu6vQN55kEACQwDDLQYGVobfDHwg\n",
       "fb8YGBxYHwAZciD3fWXg+gB1JjvQcJZvQIXsCgz8F6DO9GBgMOH7wPCUgaeBwd4B7EwGNjUG7s9c\n",
       "AiwPgO5jkWRgiF3/9+5dfQUG1nWl5Y+B7pv+1gE9bBhqGLCAE1jEWH9jEbT5A3IwAC4sP/1L6Qlu\n",
       "AAAAAElFTkSuQmCC\n",
       "\" style=\"display:inline;vertical-align:middle;\" /></a></td></tr>\n",
       "<tr><td>5</td><td>ExprTuple</td><td>6, 7</td><td><a class=\"ProveItLink\" href=\"../2dcb921ccddaae86d4720128269a83fb07af52bb0/expr.ipynb\"><img src=\"data:image/png;base64,iVBORw0KGgoAAAANSUhEUgAAAC8AAAAVBAMAAAAk6KpUAAAAMFBMVEX////c3NwiIiJERESqqqqY\n",
       "mJh2dnZmZmYQEBDu7u4yMjJUVFTMzMyIiIi6uroAAAAs73DqAAAAAXRSTlMAQObYZgAAASlJREFU\n",
       "KM91kT9Iw0AUh79gY5s2KcXVxdklLkXc3Fw7OUqnOolFQQcHizg4yYGDXcSAODg1IA4u2kkHF1fR\n",
       "IdZNEP8gIgjWdz1JGqoHd/zu9717794d/DuK14PenF6uZHrjrY1J41mrBxHZtqgjcJ8jZ/HWgFG8\n",
       "dwgkWDJVTiDzZcAp+DALOYWtGuKsGbClOI9owiNkrVCcPQNaivWIoWlWYLdYTd3JVwzXOYSLTKXf\n",
       "dz+kYsC2gGIK5CekuQbfsOOmUi3rUy8a5FXY53uhAZtgV7V2fsEMVkmnKosuP8nSUT3k1rFL2AHz\n",
       "sikc3zgPU+yPiR6p1ZbQ1+3osEv/8wyar7qJbvdNykbkSknd+1g1deUEJO0smGcfAE7Q+4C4g1gV\n",
       "dH7rj6+9gx9TyUZLshpvbQAAAABJRU5ErkJggg==\n",
       "\" style=\"display:inline;vertical-align:middle;\" /></a></td></tr>\n",
       "<tr><td>6</td><td>Literal</td><td></td><td><a class=\"ProveItLink\" href=\"../../../sets/complex/__pv_it/c357845f93a5a2d9f649129d299e7ec28dda4b960/expr.ipynb\"><img src=\"data:image/png;base64,iVBORw0KGgoAAAANSUhEUgAAAA8AAAAOBAMAAAACpFvcAAAAMFBMVEX////c3NyqqqqYmJhUVFR2\n",
       "dnbu7u66urrMzMxmZmZEREQQEBAyMjIiIiKIiIgAAAB7fvZ0AAAAAXRSTlMAQObYZgAAAGVJREFU\n",
       "CNdjYGDgu3N+70oGBgaO+gK2+CdAhoEzAwPTFwYG5oQNQN4UBgZORgcgI4+BIZM9gAEMWpkMoAx2\n",
       "KCOLAyrFk+AAYTAHgBhsQLy4DkjUJjAwsHg9Y6taBpLsvP/bnYEBACkBFGQfBv8RAAAAAElFTkSu\n",
       "QmCC\n",
       "\" style=\"display:inline;vertical-align:middle;\" /></a></td></tr>\n",
       "<tr><td>7</td><td>Literal</td><td></td><td><a class=\"ProveItLink\" href=\"../../../numeral/__pv_it/77d407a64829263cdc16415becd4c2293f77a4bf0/expr.ipynb\"><img src=\"data:image/png;base64,iVBORw0KGgoAAAANSUhEUgAAAAkAAAAOBAMAAAAPuiubAAAAMFBMVEX///+YmJh2dnbMzMwQEBAi\n",
       "IiLu7u6qqqqIiIhUVFS6urpEREQyMjJmZmbc3NwAAACOMKdoAAAAAXRSTlMAQObYZgAAAFBJREFU\n",
       "CNdj4Lt7egEDw0sGju8MDNMYGOIZGFwSGOYvYDifwHAfKAEUSQASzJ9ATJ4NIPI2iOCYACJrGfge\n",
       "MDBfYGB8wPBUSekqUPH//18ZAIliFhc3zESNAAAAAElFTkSuQmCC\n",
       "\" style=\"display:inline;vertical-align:middle;\" /></a></td></tr>\n",
       "</table>\n"
      ],
      "text/plain": [
       "0. ((2 , c) , Complexes^{2})\n",
       "   core type: ExprTuple\n",
       "   sub-expressions: 1, 2\n",
       "1. (2 , c)\n",
       "   core type: ExprTuple\n",
       "   sub-expressions: 7, 3\n",
       "2. Complexes^{2}\n",
       "   core type: Operation\n",
       "   operator: 4\n",
       "   operands: 5\n",
       "3. c\n",
       "   core type: Variable\n",
       "   sub-expressions: \n",
       "4. Exp\n",
       "   core type: Literal\n",
       "   sub-expressions: \n",
       "5. (Complexes , 2)\n",
       "   core type: ExprTuple\n",
       "   sub-expressions: 6, 7\n",
       "6. Complexes\n",
       "   core type: Literal\n",
       "   sub-expressions: \n",
       "7. 2\n",
       "   core type: Literal\n",
       "   sub-expressions: "
      ]
     },
     "execution_count": 4,
     "metadata": {},
     "output_type": "execute_result"
    }
   ],
   "source": [
    "# display the expression information\n",
    "expr.exprInfo()"
   ]
  },
  {
   "cell_type": "code",
   "execution_count": null,
   "metadata": {},
   "outputs": [],
   "source": []
  }
 ],
 "metadata": {
  "kernelspec": {
   "display_name": "Python 3",
   "language": "python",
   "name": "python3"
  }
 },
 "nbformat": 4,
 "nbformat_minor": 0
}
