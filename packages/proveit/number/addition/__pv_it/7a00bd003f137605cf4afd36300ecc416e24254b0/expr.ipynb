{
 "cells": [
  {
   "cell_type": "markdown",
   "metadata": {},
   "source": [
    "Expression of type <a class=\"ProveItLink\" href=\"../../../../../../doc/html/api/proveit.ExprTuple.html\">ExprTuple</a>\n",
    "=======================\n",
    "# from context <a class=\"ProveItLink\" href=\"../../_context_.ipynb\">proveit.number.addition</a>"
   ]
  },
  {
   "cell_type": "code",
   "execution_count": 1,
   "metadata": {},
   "outputs": [],
   "source": [
    "# import Expression classes needed to build the expression\n",
    "from proveit import ExprTuple\n",
    "from proveit._common_ import a, b, c, d\n",
    "from proveit.number import Add"
   ]
  },
  {
   "cell_type": "code",
   "execution_count": 2,
   "metadata": {},
   "outputs": [
    {
     "data": {
      "text/html": [
       "<strong id=\"expr\">expr:</strong> <a class=\"ProveItLink\" href=\"expr.ipynb\"><img src=\"data:image/png;base64,iVBORw0KGgoAAAANSUhEUgAAAP0AAAAVBAMAAAB/DPUgAAAAMFBMVEX////c3NwiIiJERESqqqqY\n",
       "mJh2dnZmZmYQEBDu7u4yMjJUVFTMzMyIiIi6uroAAAAs73DqAAAAAXRSTlMAQObYZgAAAoJJREFU\n",
       "SMfFljFoE1EYx/9JLrlcUpPbM5jJughZBBcxOFt6k6MEB12MHIgddNCKKAjWcymFDgmFIl6WDooi\n",
       "BAMugstNimhK0KWIkmBTJBCL78Xkev/LJSRkyA2X737fy/f/vvfde/eAeV8pZ27Sl+TtQ5Bn894E\n",
       "f//+cJoyz5jeR+11FlBrwnoeOLwyScz2NMWm8/SY2BG3MnCMpl/TfaFd4F5Pj0rqjPYNg6ZFpJfO\n",
       "RSBueccrji+0MvR2LLlWLDvaNwwuM+mlswH8QJC+G3qcfsKcRv8Zk146kTxWxE+oen2V5RLVLwbr\n",
       "rxe/coDMx2Z+YO3p7NOu1GsEhEKbh1TqL0WZJraFvadHWqxfyqFLYGENWxQgtYpzlmv5yn3fSGQJ\n",
       "CIUODdH2ka5BKWNNJHcANcf6yxYeENhwcJoCHDdwy7VusL72GBHDC6RCmYYoHcQLSN3FIZBsIeyw\n",
       "vgj9h8Bbf0sFOOFap9iXbGEIhAtERDppEwstqZ/OoSTbpdr21iPblgtzEakDAvv9vGz7pG1XekA7\n",
       "/M+E1WVfOochUGoQCZtoGlL/vphAB8uwqNw21I4XhP766hdAaWlsHfXG8dXvUVhyl/8dS86/6Gop\n",
       "jzdKjfS7sjteIGYj6g2ptZEsX5Ax+xYFF82n/nsUBkNq8gWLlnFVLDZDWYxx/1/gNoNXwDXS2MZ5\n",
       "s6D9HljcbhMxUvMoDIbk1Z3e+vsmF+fuu12W2/xkMFCLdYsCZOo/zza0J3rf4vW3Uv9MwKMwWCLV\n",
       "mzKvBuJ60P43GvAel9In3v+CiNh/o4Wxh4Hh08Ev70N0jC8QMCmO/P5OeEVnOn9ock/KzBJhtrNT\n",
       "UnYvNL/zl/ii/QOfINyNKKuwoQAAAABJRU5ErkJggg==\n",
       "\" style=\"display:inline;vertical-align:middle;\" /></a><br>"
      ],
      "text/plain": [
       "expr: (a + b + c + d , a + c + d + b)"
      ]
     },
     "execution_count": 2,
     "metadata": {},
     "output_type": "execute_result"
    }
   ],
   "source": [
    "# build up the expression from sub-expressions\n",
    "expr = ExprTuple(Add(a, b, c, d), Add(a, c, d, b))"
   ]
  },
  {
   "cell_type": "code",
   "execution_count": 3,
   "metadata": {},
   "outputs": [
    {
     "name": "stdout",
     "output_type": "stream",
     "text": [
      "Passed sanity check: built 'expr' is the same as the stored Expression.\n"
     ]
    }
   ],
   "source": [
    "# check that the built expression is the same as the stored expression\n",
    "%check_expr"
   ]
  },
  {
   "cell_type": "code",
   "execution_count": 4,
   "metadata": {},
   "outputs": [
    {
     "data": {
      "text/html": [
       "<table><tr><th>&nbsp;</th><th>core type</th><th>sub-expressions</th><th>expression</th></tr>\n",
       "<tr><td>0</td><td>ExprTuple</td><td>1, 2</td><td><a class=\"ProveItLink\" href=\"expr.ipynb\"><img src=\"data:image/png;base64,iVBORw0KGgoAAAANSUhEUgAAAP0AAAAVBAMAAAB/DPUgAAAAMFBMVEX////c3NwiIiJERESqqqqY\n",
       "mJh2dnZmZmYQEBDu7u4yMjJUVFTMzMyIiIi6uroAAAAs73DqAAAAAXRSTlMAQObYZgAAAoJJREFU\n",
       "SMfFljFoE1EYx/9JLrlcUpPbM5jJughZBBcxOFt6k6MEB12MHIgddNCKKAjWcymFDgmFIl6WDooi\n",
       "BAMugstNimhK0KWIkmBTJBCL78Xkev/LJSRkyA2X737fy/f/vvfde/eAeV8pZ27Sl+TtQ5Bn894E\n",
       "f//+cJoyz5jeR+11FlBrwnoeOLwyScz2NMWm8/SY2BG3MnCMpl/TfaFd4F5Pj0rqjPYNg6ZFpJfO\n",
       "RSBueccrji+0MvR2LLlWLDvaNwwuM+mlswH8QJC+G3qcfsKcRv8Zk146kTxWxE+oen2V5RLVLwbr\n",
       "rxe/coDMx2Z+YO3p7NOu1GsEhEKbh1TqL0WZJraFvadHWqxfyqFLYGENWxQgtYpzlmv5yn3fSGQJ\n",
       "CIUODdH2ka5BKWNNJHcANcf6yxYeENhwcJoCHDdwy7VusL72GBHDC6RCmYYoHcQLSN3FIZBsIeyw\n",
       "vgj9h8Bbf0sFOOFap9iXbGEIhAtERDppEwstqZ/OoSTbpdr21iPblgtzEakDAvv9vGz7pG1XekA7\n",
       "/M+E1WVfOochUGoQCZtoGlL/vphAB8uwqNw21I4XhP766hdAaWlsHfXG8dXvUVhyl/8dS86/6Gop\n",
       "jzdKjfS7sjteIGYj6g2ptZEsX5Ax+xYFF82n/nsUBkNq8gWLlnFVLDZDWYxx/1/gNoNXwDXS2MZ5\n",
       "s6D9HljcbhMxUvMoDIbk1Z3e+vsmF+fuu12W2/xkMFCLdYsCZOo/zza0J3rf4vW3Uv9MwKMwWCLV\n",
       "mzKvBuJ60P43GvAel9In3v+CiNh/o4Wxh4Hh08Ev70N0jC8QMCmO/P5OeEVnOn9ock/KzBJhtrNT\n",
       "UnYvNL/zl/ii/QOfINyNKKuwoQAAAABJRU5ErkJggg==\n",
       "\" style=\"display:inline;vertical-align:middle;\" /></a></td></tr>\n",
       "<tr><td>1</td><td>Operation</td><td>operator:&nbsp;4<br>operands:&nbsp;3<br></td><td><a class=\"ProveItLink\" href=\"../26d62fa137623ccd3b0fffe4eb8a51af8181e2d90/expr.ipynb\"><img src=\"data:image/png;base64,iVBORw0KGgoAAAANSUhEUgAAAHQAAAAQBAMAAAA10UZYAAAAMFBMVEX///8yMjKqqqrMzMzu7u4i\n",
       "IiJmZmaYmJhEREQQEBC6urp2dnaIiIhUVFTc3NwAAAD87Fq/AAAAAXRSTlMAQObYZgAAAUxJREFU\n",
       "KM9jYMAALDcDGAiDFdOwiTJeIEIrwydkjh+U5leA2f8A3UEIAa4vyBI6UHq9A5TBdABNK5IAdwA2\n",
       "rVsZiNDKmMDAwHdn1zxUrbJnrqOqZNl9xgBV69vT64G+WvmA4wOKVpYfDPyoKi0XMAagCHDNY+h3\n",
       "YOD7zsDWgKKV6QsD5wZklSxzGDgKULS+L2BIZGDg/cDAegBFK5sAA38CskreD+h+vc/AEA2MiQYG\n",
       "f5DzEgUFIwUFZYEs1gSG9UBL2AQFRScKCl4AKwEbCRdg+MHA8gto9wEGfQYHZFuB0ZrvgGzJ+wNo\n",
       "tvL9YWD6wMLgr8BwkckARasBw2wUlfxAN6D4leUTA6+AMgNjAVMYN4pfeRXYLqBo5U1g4EYNcnEG\n",
       "1YQNwGg9ZXEKNXLupKOFSvaZI6gCb88s7lmALTUxEJOaUMEadAGuA/gEAHrKWexyVHXqAAAAAElF\n",
       "TkSuQmCC\n",
       "\" style=\"display:inline;vertical-align:middle;\" /></a></td></tr>\n",
       "<tr><td>2</td><td>Operation</td><td>operator:&nbsp;4<br>operands:&nbsp;5<br></td><td><a class=\"ProveItLink\" href=\"../7027a3a9fe9d39e66374fd7eb281fc83bd263da70/expr.ipynb\"><img src=\"data:image/png;base64,iVBORw0KGgoAAAANSUhEUgAAAHQAAAAQBAMAAAA10UZYAAAAMFBMVEX///8yMjKqqqrMzMzu7u4i\n",
       "IiJmZmaYmJhEREQQEBC6urp2dnaIiIhUVFTc3NwAAAD87Fq/AAAAAXRSTlMAQObYZgAAAThJREFU\n",
       "KM+NkrFKw1AUhv+EGGpKEu8gTkJB3IR21C0vUONUEJd0FiGPkAcQxEEXpRRcFAQ765JBHGoK6lyw\n",
       "L1AS0mJFHEyIlP4XlJzpnI/7n3P/ey5QLq7PqWyeoXykXK5zuSsf10bz1JgykTptyVI1nKfVPSK/\n",
       "nUpJFY9I0cka3ndYqj1EDZaOn+9qRJThwAduRpWEpTtdRbpeBycOETfABNYMekBS7RIVnw7GPtps\n",
       "oe7gAmaCpZCkZiJ7fQcOmGSdPmAHcHNnbSH2hcjXZReX0IVYPRXiJUs/oX0xacGYIQ5Rh7M4NQ6l\n",
       "qdY31ESjqSn0KdwaXtXGotTOjJJXLYW5skHSCZZ7UHy1VWWvHqq8nDVsej0ibzjK19rf7vNyDqNH\n",
       "fpRxdHXcJdJ88kv/pj9JEbcyMML/yA/dA1yeKQbP9QAAAABJRU5ErkJggg==\n",
       "\" style=\"display:inline;vertical-align:middle;\" /></a></td></tr>\n",
       "<tr><td>3</td><td>ExprTuple</td><td>6, 9, 7, 8</td><td><a class=\"ProveItLink\" href=\"../01f3547cb6e447be93e3bf9397d84951004f68d70/expr.ipynb\"><img src=\"data:image/png;base64,iVBORw0KGgoAAAANSUhEUgAAAFAAAAAVBAMAAAAjqnRBAAAAMFBMVEX////c3NwiIiJERESqqqqY\n",
       "mJh2dnZmZmYQEBDu7u4yMjJUVFTMzMyIiIi6uroAAAAs73DqAAAAAXRSTlMAQObYZgAAAXtJREFU\n",
       "KM+Nkz9Iw0AYxV/bJG0S2nTv0E66dtBRLI4imNkpOOgmWewgghZEJyWjuLSLgwhSB0GEYsBFcLCT\n",
       "4JBSdRERGmkdOlj87q6BFFJthuSXd+++f7kAE1+Z5v8euU23h5CgXhcibG8H2KbHWVjT6lEBe9CA\n",
       "9EhmoxRVXB+yhZQT1jpOhFEpQN3Fx4i2GpVZs4EZlIlijY2K0M69q2Fba54rKPfUoXrWcUr8nk34\n",
       "YrkLQ6zftzUxgEwF81TPIo4o4DeSRa5KfaQsvuMQCZNLeRNbLBYGgO4jLnpP1mDYDHQ/KPAWmKLH\n",
       "IzMaRVRFwriNDg9kFANjF+qAG/coehPLcIZj3OGQD6Yb+4Hkqyz1LFAt4UZyVWZ0sQ8OFNdkoPag\n",
       "15aAFeobmilNK6hSl3opWRdgQ3EZ0FQWbIuN55WNsXXXwvEX7W9sggPK3rOAnPc5R2fnAqlsUPbL\n",
       "eGCfULaCF3M8QGmGjtlfxhNWxJDTGAvAJZvUBL9C2sUvYK1jupu6jYwAAAAASUVORK5CYII=\n",
       "\" style=\"display:inline;vertical-align:middle;\" /></a></td></tr>\n",
       "<tr><td>4</td><td>Literal</td><td></td><td><a class=\"ProveItLink\" href=\"../3e6688136fa3c7aefbebe51301b7c3ebf0b69c440/expr.ipynb\"><img src=\"data:image/png;base64,iVBORw0KGgoAAAANSUhEUgAAAA4AAAAOBAMAAADtZjDiAAAAJFBMVEX///+6urpUVFQQEBAiIiIy\n",
       "MjJmZmaIiIiqqqrc3Nzu7u4AAACgHpL+AAAAAXRSTlMAQObYZgAAAB5JREFUCNdjYGBgWMkAAe2k\n",
       "0Kmhoc6hoUGk6BMHYgAHOwjcado9fwAAAABJRU5ErkJggg==\n",
       "\" style=\"display:inline;vertical-align:middle;\" /></a></td></tr>\n",
       "<tr><td>5</td><td>ExprTuple</td><td>6, 7, 8, 9</td><td><a class=\"ProveItLink\" href=\"../8694aec0e61da200946e910947ca35650da718f30/expr.ipynb\"><img src=\"data:image/png;base64,iVBORw0KGgoAAAANSUhEUgAAAE8AAAAVBAMAAAD1D64kAAAAMFBMVEX////c3NwiIiJERESqqqqY\n",
       "mJh2dnZmZmYQEBDu7u4yMjJUVFTMzMyIiIi6uroAAAAs73DqAAAAAXRSTlMAQObYZgAAAWFJREFU\n",
       "KM+Nk79Lw0AcxV+bND8a23R3aDfXLIJj/gMzOUpw0EnJYlcVxE3J2C1ZRMSliyBCIeAiuHQVTKlO\n",
       "4tKIOnQRv3fXcMESbYa7lw/vvnf3vgmw8NMc/u/ZZMNDWYG1gE3mTQfQE1KXZWVsl0/1Pg0x0Cjd\n",
       "eRJK/wZghGXGrYK/B7yV3uCi4FdcdGmqDPaOBDW304QLQp8CXaXXgBbgnPRrS8kEvR/XO1wQmoql\n",
       "H7ATqDHOaPUXdEfQUygeL0go5kidwvDRPMQ3YGWoirtbs8Ic+VyR3w6wlDGj7SASJ7OdPENCY66q\n",
       "ASYeMx4D7SHWwVNq56FKRDEehGzrVSBycasmJqN0QI+JAkpwAtRi7FCTPHVFQ0TXtQJoCRMF5Op9\n",
       "Hs8Ly2x0N0LvndZ300cuJDIH+6zhYxitvBPPc0IqamHNz1+8OSHVbvEz+8NosvCXZy8N/BZSWex8\n",
       "lQV+hSfgB0QsZFAMZbFfAAAAAElFTkSuQmCC\n",
       "\" style=\"display:inline;vertical-align:middle;\" /></a></td></tr>\n",
       "<tr><td>6</td><td>Variable</td><td></td><td><a class=\"ProveItLink\" href=\"../../../../__pv_it/07527342713064c87612d00d8557c53d53d5324a0/expr.ipynb\"><img src=\"data:image/png;base64,iVBORw0KGgoAAAANSUhEUgAAAAsAAAAJBAMAAAAWSsseAAAAMFBMVEX///8yMjKqqqrMzMzu7u4i\n",
       "IiJmZmaYmJhEREQQEBC6urp2dnaIiIhUVFTc3NwAAAD87Fq/AAAAAXRSTlMAQObYZgAAAEhJREFU\n",
       "CNdjYOC7s2seAwPDygccHxgY+L4zsDUwMPB+YGA9wMDA38Dgb8DA8P4Agz6DA4O/AsNFJgMGxgKm\n",
       "MG6gyjunLE4xAAAZTBA5TB6DCwAAAABJRU5ErkJggg==\n",
       "\" style=\"display:inline;vertical-align:middle;\" /></a></td></tr>\n",
       "<tr><td>7</td><td>Variable</td><td></td><td><a class=\"ProveItLink\" href=\"../../../../__pv_it/cbdfda466482236edba0ce44ac7ef39cda0af7a40/expr.ipynb\"><img src=\"data:image/png;base64,iVBORw0KGgoAAAANSUhEUgAAAAkAAAAJBAMAAAASvxsjAAAALVBMVEX///9mZmbc3NxUVFSYmJhE\n",
       "REQiIiIyMjK6uroQEBDMzMyIiIh2dnbu7u4AAABgFDGoAAAAAXRSTlMAQObYZgAAADZJREFUCNdj\n",
       "YOA9s3sBA8PKBvYEBt7ZDKwODMwPGICALwBE6m0Asx0YGIDiAgw8QJUyu/cyAAAmuwmycZ8WfQAA\n",
       "AABJRU5ErkJggg==\n",
       "\" style=\"display:inline;vertical-align:middle;\" /></a></td></tr>\n",
       "<tr><td>8</td><td>Variable</td><td></td><td><a class=\"ProveItLink\" href=\"../../../../__pv_it/3a5de44ed6135dbbdbbeec6704c741e238f127300/expr.ipynb\"><img src=\"data:image/png;base64,iVBORw0KGgoAAAANSUhEUgAAAAsAAAAOBAMAAAALT/umAAAAMFBMVEX////MzMyYmJiIiIhUVFTc\n",
       "3NwyMjIiIiJ2dnbu7u6qqqpmZmYQEBBERES6uroAAABkyy6XAAAAAXRSTlMAQObYZgAAAFhJREFU\n",
       "CNdjYGBg4LuzgQEE+BeAqfcTwFQ7mGTIBmJW575fQOpNAO9PIOcTA3cCAwPLBwb2BqCeCwzzHzAw\n",
       "xBswrGeYwDB/AYMblwADmwJXNQdIm52sHQMAfyoTCZukXIEAAAAASUVORK5CYII=\n",
       "\" style=\"display:inline;vertical-align:middle;\" /></a></td></tr>\n",
       "<tr><td>9</td><td>Variable</td><td></td><td><a class=\"ProveItLink\" href=\"../../../../__pv_it/6840a4fa6c106149dc16a131294d0c5e44f1b0480/expr.ipynb\"><img src=\"data:image/png;base64,iVBORw0KGgoAAAANSUhEUgAAAAkAAAAOBAMAAAAPuiubAAAALVBMVEX///9mZmbMzMxERESYmJiI\n",
       "iIh2dna6urqqqqoyMjIiIiIQEBBUVFTu7u4AAAD9S1JeAAAAAXRSTlMAQObYZgAAAE1JREFUCNdj\n",
       "4D29gAEIOA+ASL4GEFl3AURmgQiGOaFHGBh4HzPwKTBwvGXgTmBgnMDAJ8DAJcBQ5wBSLncBJLWN\n",
       "gYGngRFoBO9REQYGAGrcDtUkVqASAAAAAElFTkSuQmCC\n",
       "\" style=\"display:inline;vertical-align:middle;\" /></a></td></tr>\n",
       "</table>\n"
      ],
      "text/plain": [
       "0. (a + b + c + d , a + c + d + b)\n",
       "   core type: ExprTuple\n",
       "   sub-expressions: 1, 2\n",
       "1. a + b + c + d\n",
       "   core type: Operation\n",
       "   operator: 4\n",
       "   operands: 3\n",
       "2. a + c + d + b\n",
       "   core type: Operation\n",
       "   operator: 4\n",
       "   operands: 5\n",
       "3. (a , b , c , d)\n",
       "   core type: ExprTuple\n",
       "   sub-expressions: 6, 9, 7, 8\n",
       "4. +\n",
       "   core type: Literal\n",
       "   sub-expressions: \n",
       "5. (a , c , d , b)\n",
       "   core type: ExprTuple\n",
       "   sub-expressions: 6, 7, 8, 9\n",
       "6. a\n",
       "   core type: Variable\n",
       "   sub-expressions: \n",
       "7. c\n",
       "   core type: Variable\n",
       "   sub-expressions: \n",
       "8. d\n",
       "   core type: Variable\n",
       "   sub-expressions: \n",
       "9. b\n",
       "   core type: Variable\n",
       "   sub-expressions: "
      ]
     },
     "execution_count": 4,
     "metadata": {},
     "output_type": "execute_result"
    }
   ],
   "source": [
    "# display the expression information\n",
    "expr.exprInfo()"
   ]
  },
  {
   "cell_type": "code",
   "execution_count": null,
   "metadata": {},
   "outputs": [],
   "source": []
  }
 ],
 "metadata": {
  "kernelspec": {
   "display_name": "Python 3",
   "language": "python",
   "name": "python3"
  }
 },
 "nbformat": 4,
 "nbformat_minor": 0
}
