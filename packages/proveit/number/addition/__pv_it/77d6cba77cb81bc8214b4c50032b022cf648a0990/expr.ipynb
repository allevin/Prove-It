{
 "cells": [
  {
   "cell_type": "markdown",
   "metadata": {},
   "source": [
    "Expression of type <a class=\"ProveItLink\" href=\"../../../../../../doc/html/api/proveit.ExprTuple.html\">ExprTuple</a>\n",
    "=======================\n",
    "# from context <a class=\"ProveItLink\" href=\"../../_context_.ipynb\">proveit.number.addition</a>"
   ]
  },
  {
   "cell_type": "code",
   "execution_count": 1,
   "metadata": {},
   "outputs": [],
   "source": [
    "# import Expression classes needed to build the expression\n",
    "from proveit import ExprTuple\n",
    "from proveit.number import Add, three, two, zero"
   ]
  },
  {
   "cell_type": "code",
   "execution_count": 2,
   "metadata": {},
   "outputs": [
    {
     "data": {
      "text/html": [
       "<strong id=\"expr\">expr:</strong> <a class=\"ProveItLink\" href=\"expr.ipynb\"><img src=\"data:image/png;base64,iVBORw0KGgoAAAANSUhEUgAAAMkAAAAVBAMAAAAeFNdiAAAAMFBMVEX////c3NwiIiJERESqqqqY\n",
       "mJh2dnZmZmYQEBDu7u4yMjJUVFTMzMyIiIi6uroAAAAs73DqAAAAAXRSTlMAQObYZgAAAp9JREFU\n",
       "SMe9lT9oE1Ecx7+XP81dcnc5XTpUMYOIoJgOumq2TqVx6ShBIQWhGBQaKIoKDlbEni7NZrA69BzM\n",
       "KghmqoNDgyCKtRgcBUkb2kiEGt+fK83vpU/I4g25d5/f5X3e+73fvQf8n8ttDPuPn7rAJT19D4zO\n",
       "n1ciq8WzClnauBm27BqM8nKThu3ilRwSdeVP1q1PdUlXYNTwLUeiRgktZYpn8CTsI+ljDM42DY/C\n",
       "3QWqiiXStE4L6jSQ8hHZlPixvI1sI50hxMnACfvYAF4D2XC0nrxfy6ENTIPSD8AXQU0f5gJSfySe\n",
       "lLfYviUkkRrcLdlcAO77eCtTFgunPCUsldCyR08BLY/THywFXSSohV17GQtJugRbJsllU3rl4za1\n",
       "QGQsmqOWX8BajtM5OdSuankJQo4VYO+KVqIgbllfsSRrLNMlYjE6zNLg9IV4XitQi321NmjpyN7y\n",
       "4oUOHTVW+bBi1UFLgdNH4nkZ6lw+NzUWUwSS44oFDuvJvXOQhVGxIInxAYvZ1WQsLSw3oFqw6MPe\n",
       "PChjjArLuoDzQXAyCPjMjTqiO4Tw1d/ZtzgioYkgePYgCHj7CHAhLy19lK++oPe4uoRDZORPu9JC\n",
       "KjkmK9nkdTQBw+sftdXzuUXJGK/kKY/Tc+zhHXCR1m0VkS1C2Fc5kgGvqyhbfbuEOLHgN6s6D3G6\n",
       "+vyrvAxOZ1h+ThRn6Dfo5NFSqu44KnWrDVmth4vF67S/j3A7A5WMSM56KOh31u71etSCifJzpR6W\n",
       "Zt/AWmQTcNmr2V6vTfuLledZJpNNSq259bqgpte/vU0O7NuEuPzlu/0kRjbVio7GC/8+OgiJ859p\n",
       "/ek0q6UrQ5xf8XDn11xWVUvHhrCIIRo1XTjlaakx9Il8VBf4qqN/ARyl17U0tYgWAAAAAElFTkSu\n",
       "QmCC\n",
       "\" style=\"display:inline;vertical-align:middle;\" /></a><br>"
      ],
      "text/plain": [
       "expr: (2 + 3 + 0 , (2 + 3) + 0)"
      ]
     },
     "execution_count": 2,
     "metadata": {},
     "output_type": "execute_result"
    }
   ],
   "source": [
    "# build up the expression from sub-expressions\n",
    "expr = ExprTuple(Add(two, three, zero), Add(Add(two, three), zero))"
   ]
  },
  {
   "cell_type": "code",
   "execution_count": 3,
   "metadata": {},
   "outputs": [
    {
     "name": "stdout",
     "output_type": "stream",
     "text": [
      "Passed sanity check: built 'expr' is the same as the stored Expression.\n"
     ]
    }
   ],
   "source": [
    "# check that the built expression is the same as the stored expression\n",
    "%check_expr"
   ]
  },
  {
   "cell_type": "code",
   "execution_count": 4,
   "metadata": {},
   "outputs": [
    {
     "data": {
      "text/html": [
       "<table><tr><th>&nbsp;</th><th>core type</th><th>sub-expressions</th><th>expression</th></tr>\n",
       "<tr><td>0</td><td>ExprTuple</td><td>1, 2</td><td><a class=\"ProveItLink\" href=\"expr.ipynb\"><img src=\"data:image/png;base64,iVBORw0KGgoAAAANSUhEUgAAAMkAAAAVBAMAAAAeFNdiAAAAMFBMVEX////c3NwiIiJERESqqqqY\n",
       "mJh2dnZmZmYQEBDu7u4yMjJUVFTMzMyIiIi6uroAAAAs73DqAAAAAXRSTlMAQObYZgAAAp9JREFU\n",
       "SMe9lT9oE1Ecx7+XP81dcnc5XTpUMYOIoJgOumq2TqVx6ShBIQWhGBQaKIoKDlbEni7NZrA69BzM\n",
       "KghmqoNDgyCKtRgcBUkb2kiEGt+fK83vpU/I4g25d5/f5X3e+73fvQf8n8ttDPuPn7rAJT19D4zO\n",
       "n1ciq8WzClnauBm27BqM8nKThu3ilRwSdeVP1q1PdUlXYNTwLUeiRgktZYpn8CTsI+ljDM42DY/C\n",
       "3QWqiiXStE4L6jSQ8hHZlPixvI1sI50hxMnACfvYAF4D2XC0nrxfy6ENTIPSD8AXQU0f5gJSfySe\n",
       "lLfYviUkkRrcLdlcAO77eCtTFgunPCUsldCyR08BLY/THywFXSSohV17GQtJugRbJsllU3rl4za1\n",
       "QGQsmqOWX8BajtM5OdSuankJQo4VYO+KVqIgbllfsSRrLNMlYjE6zNLg9IV4XitQi321NmjpyN7y\n",
       "4oUOHTVW+bBi1UFLgdNH4nkZ6lw+NzUWUwSS44oFDuvJvXOQhVGxIInxAYvZ1WQsLSw3oFqw6MPe\n",
       "PChjjArLuoDzQXAyCPjMjTqiO4Tw1d/ZtzgioYkgePYgCHj7CHAhLy19lK++oPe4uoRDZORPu9JC\n",
       "KjkmK9nkdTQBw+sftdXzuUXJGK/kKY/Tc+zhHXCR1m0VkS1C2Fc5kgGvqyhbfbuEOLHgN6s6D3G6\n",
       "+vyrvAxOZ1h+ThRn6Dfo5NFSqu44KnWrDVmth4vF67S/j3A7A5WMSM56KOh31u71etSCifJzpR6W\n",
       "Zt/AWmQTcNmr2V6vTfuLledZJpNNSq259bqgpte/vU0O7NuEuPzlu/0kRjbVio7GC/8+OgiJ859p\n",
       "/ek0q6UrQ5xf8XDn11xWVUvHhrCIIRo1XTjlaakx9Il8VBf4qqN/ARyl17U0tYgWAAAAAElFTkSu\n",
       "QmCC\n",
       "\" style=\"display:inline;vertical-align:middle;\" /></a></td></tr>\n",
       "<tr><td>1</td><td>Operation</td><td>operator:&nbsp;7<br>operands:&nbsp;3<br></td><td><a class=\"ProveItLink\" href=\"../6136e9f24a7fe85b60df47fc62004bb4710b25980/expr.ipynb\"><img src=\"data:image/png;base64,iVBORw0KGgoAAAANSUhEUgAAAFAAAAAQBAMAAABzZ+XyAAAAMFBMVEX///+YmJh2dnbMzMwQEBAi\n",
       "IiLu7u6qqqqIiIhUVFS6urpEREQyMjJmZmbc3NwAAACOMKdoAAAAAXRSTlMAQObYZgAAAQFJREFU\n",
       "KM9j4Lt7egEDCmBW0i5AFcntuMzA8JKB4zuq8FsGrh+oIlEMqQYM0xgY4iFctgcQWr+A4SuKCEcA\n",
       "A8cBBpcEhvkQu9kbINL1cIVQEdYJDFz/GM4nMNxHVcgAtxoqwn+BgRnsvPgENIU8E1AUvldgYAZp\n",
       "Zf7EgKrQ6CQDhkKQGp4NaAoZOLywKrzNgK6QwT8Bi9UcYAfxnjlz1OfMGRD7MQPDfgFkEZBnPjIw\n",
       "1DLwPUDWz/Y/AawQJXjY/zEwX2BgRFHI8AcYDigiwABnCmB4qqR0FdWNjQxcaOEQzpBiwBD//z9q\n",
       "PDCw371TgCqSqzEZOeqRfI1TBBJxDfhEAMG9V2/GmhRGAAAAAElFTkSuQmCC\n",
       "\" style=\"display:inline;vertical-align:middle;\" /></a></td></tr>\n",
       "<tr><td>2</td><td>Operation</td><td>operator:&nbsp;7<br>operands:&nbsp;4<br></td><td><a class=\"ProveItLink\" href=\"../561c290885c54ffacc0033bb1756291be3ff01fe0/expr.ipynb\"><img src=\"data:image/png;base64,iVBORw0KGgoAAAANSUhEUgAAAF8AAAAVBAMAAADSoS/MAAAAMFBMVEX////c3NwiIiJERESqqqqY\n",
       "mJh2dnZmZmYQEBDu7u4yMjJUVFTMzMyIiIi6uroAAAAs73DqAAAAAXRSTlMAQObYZgAAAW5JREFU\n",
       "OMuVkz1Lw1AUht9E2yatsXFycOkkgg4OdZVuglCsq1NwaMGpU4Wi0MFFEKmri4I6GEHqP8ikg0OD\n",
       "i2IHi1MRJAp+0MV6eiPak9wMXsj9eA4P9+TkBPj3GHUjArG2nF8D49X5ALwsZoGNANQ3bx1aTqE0\n",
       "8JBjIaUMz0UyIKhtfQYwXKTqUF98tucv8TekM4hZYPQGuAe0OrRtpL58lveXYSHoNTA6DXgmnoBk\n",
       "Fwku0KCUkOXCJ9DMoeKn1w0KZ/SUmKB8kODiRByaFhdG1ho0L4YFC7vicITgDXf0FToyQSSfmA0J\n",
       "GiXZlKUkhJYgVduesu1+8oqDofcf4Y/2X7qArX4VyxhjNxx0hdAJlXXJxBztroBlFkofQn0FVrhA\n",
       "H25VlE6ZLJYyLGQU4FnBskLN6TvAI216vR4XsLB+TPM5F/RKi5pPMwf7K8+6syajvx0mxvPgIe7K\n",
       "KLV31NiX44lI4UKOlahf1HBk9BsJgWhtt2K4zgAAAABJRU5ErkJggg==\n",
       "\" style=\"display:inline;vertical-align:middle;\" /></a></td></tr>\n",
       "<tr><td>3</td><td>ExprTuple</td><td>9, 10, 6</td><td><a class=\"ProveItLink\" href=\"../d3378321f4cc70038417614a965491259f8579390/expr.ipynb\"><img src=\"data:image/png;base64,iVBORw0KGgoAAAANSUhEUgAAAD0AAAAVBAMAAAAHs/uBAAAAMFBMVEX////c3NwiIiJERESqqqqY\n",
       "mJh2dnZmZmYQEBDu7u4yMjJUVFTMzMyIiIi6uroAAAAs73DqAAAAAXRSTlMAQObYZgAAAVNJREFU\n",
       "KM+FkjtLw1AYhp+kt5xe4+Tg0slFBwddJZujdXGU4tCCIHSqIAgOLoJoRzcD6iAu/QmddHBocFGs\n",
       "YHF0aRUvZGk9Obm0IMUM4f3eB77rgf++vDMRbXi/O5jeXQ6cm8qiL8TeQ4tUS6ortCYvlnK1Gj0/\n",
       "nd4V82BDziHTQO8rN/lJoajUPTzBOhgNjEMyA+XGIz4HPZNTeIO0S2oQ9hTk/4G2Rcyi7pdzQ37t\n",
       "N/ItuUOyxqWK22WfZreaI14mbnOs4vNo5sfuGM/vowqnFiJuuGP5s32fdwKotYh9Rf2VPH7gjVVj\n",
       "SrlnbsjlfKuml39JBrewRkOKgo3+rpTczyYkbKoy62ylWhQf0s2V6JWV0i1xhDffq9TD4bAoTkxp\n",
       "r+xcoJSod+Rx0l0MM7yzyR8l95sINkMiGnGkttV9J3Ih78tMEIyeUaQyXiFt8vt6hl/CtF17Pxvb\n",
       "KAAAAABJRU5ErkJggg==\n",
       "\" style=\"display:inline;vertical-align:middle;\" /></a></td></tr>\n",
       "<tr><td>4</td><td>ExprTuple</td><td>5, 6</td><td><a class=\"ProveItLink\" href=\"../093c0a5052383eb4757bd3f645231198f7429f2b0/expr.ipynb\"><img src=\"data:image/png;base64,iVBORw0KGgoAAAANSUhEUgAAAE0AAAAVBAMAAADx+n4ZAAAAMFBMVEX////c3NwiIiJERESqqqqY\n",
       "mJh2dnZmZmYQEBDu7u4yMjJUVFTMzMyIiIi6uroAAAAs73DqAAAAAXRSTlMAQObYZgAAAWxJREFU\n",
       "KM+Nkj1Lw1AUhp/0M+m3k4NLJxF0cNBVujkV6+IowaEFQehUoSA4uAiidXOzoA7GpT+hkw4OLS6K\n",
       "FSyOgrSKH2Sx3uRqTCqlniH3PZyHe849eeG/kWgORZatzyWMluf6Kuf5GSm0jes64bpQpyg17jMe\n",
       "TCnSkW18bW0KqhBvEq3g60pgXx6hV5JpW13BLSyBWkHdJvopgaw8Ag43CZ0UB/AIEZOwlxPx3fcD\n",
       "Ghn8GUpyDLOfO5ODvguuSajIiZ03dC8XW639cjqBKrt2fkT/fTdtF5fYxB4sPP2HU01X31hXci27\n",
       "VDaMCcOwBlPq+N+cd+QsbstaQ5ERz32H5g8n9rKQsvrOiuQCFj1csorvmYrc8woEqxREl/F8Ie3h\n",
       "4jk6uvZiLSyj7WDt5UHoXq/n5ZhfP0bbSwkflFrCBJE2asptgKzHcU5J/Leg7i49uZOgo9ZsXw0K\n",
       "h9OErxgbyDlGj1oDKMN9fwdfamxjEmfmaZIAAAAASUVORK5CYII=\n",
       "\" style=\"display:inline;vertical-align:middle;\" /></a></td></tr>\n",
       "<tr><td>5</td><td>Operation</td><td>operator:&nbsp;7<br>operands:&nbsp;8<br></td><td><a class=\"ProveItLink\" href=\"../b3da72475f2e5820f90b445dc3397d522d6d2e280/expr.ipynb\"><img src=\"data:image/png;base64,iVBORw0KGgoAAAANSUhEUgAAACwAAAAQBAMAAACfEoDkAAAAMFBMVEX///+YmJh2dnbMzMwQEBAi\n",
       "IiLu7u6qqqqIiIhUVFS6urpEREQyMjJmZmbc3NwAAACOMKdoAAAAAXRSTlMAQObYZgAAALNJREFU\n",
       "GNNj4Lt7egEDCjBS2s7A8JKB4zuKKN8FhvUNDNMYGOIhfLYHYIrpOwN/AINLAsN8iCnsDRAKLHw+\n",
       "geE+ijAQrAez4hPQhE+CCOZPDCjCzDoTQBTPBgY01S0gU28zoAuzfGNg4ABr4T1z5qjPmTNANp8B\n",
       "A/dHBoZaBr4HyKrzv4GEmS8wMKII8x9gYP3H8FRJ6SqK2RwCDOsVGOL///+KamXt3ePIYYRwCQrg\n",
       "QhIGAAaPNUmGC4MkAAAAAElFTkSuQmCC\n",
       "\" style=\"display:inline;vertical-align:middle;\" /></a></td></tr>\n",
       "<tr><td>6</td><td>Literal</td><td></td><td><a class=\"ProveItLink\" href=\"../../../numeral/__pv_it/ec23fc7a1b4222a5f4948b495002b97d6fa18c3c0/expr.ipynb\"><img src=\"data:image/png;base64,iVBORw0KGgoAAAANSUhEUgAAAAoAAAAOBAMAAADkjZCYAAAALVBMVEX///8QEBCYmJh2dnaqqqrc\n",
       "3NxUVFQyMjK6uroiIiLMzMyIiIhmZmbu7u4AAAAZjyHdAAAAAXRSTlMAQObYZgAAAEpJREFUCNdj\n",
       "YLiz+xQDA8MMhpsLGLgnMHAXMHAmMHA8ZeA7wMD1hCHOgIHrNZh8jES+Bss+AqlkeQrSxTyBgWEK\n",
       "w8UFDAx3rLMYAMCjFldHSx/9AAAAAElFTkSuQmCC\n",
       "\" style=\"display:inline;vertical-align:middle;\" /></a></td></tr>\n",
       "<tr><td>7</td><td>Literal</td><td></td><td><a class=\"ProveItLink\" href=\"../3e6688136fa3c7aefbebe51301b7c3ebf0b69c440/expr.ipynb\"><img src=\"data:image/png;base64,iVBORw0KGgoAAAANSUhEUgAAAA4AAAAOBAMAAADtZjDiAAAAJFBMVEX///+6urpUVFQQEBAiIiIy\n",
       "MjJmZmaIiIiqqqrc3Nzu7u4AAACgHpL+AAAAAXRSTlMAQObYZgAAAB5JREFUCNdjYGBgWMkAAe2k\n",
       "0Kmhoc6hoUGk6BMHYgAHOwjcado9fwAAAABJRU5ErkJggg==\n",
       "\" style=\"display:inline;vertical-align:middle;\" /></a></td></tr>\n",
       "<tr><td>8</td><td>ExprTuple</td><td>9, 10</td><td><a class=\"ProveItLink\" href=\"../9333281ed4be3d0d1796509ff962cccc430da5be0/expr.ipynb\"><img src=\"data:image/png;base64,iVBORw0KGgoAAAANSUhEUgAAACkAAAAVBAMAAAAp9toTAAAAMFBMVEX////c3NwiIiJERESqqqqY\n",
       "mJh2dnZmZmYQEBDu7u4yMjJUVFTMzMyIiIi6uroAAAAs73DqAAAAAXRSTlMAQObYZgAAARBJREFU\n",
       "GNNtkStPA1EQhb8tLPtqN4uqAFGFBYOF/QeAQRISklYRqiCpQmAwdCVyE4IgmP4EFAgENShIIEhU\n",
       "gyApCV3mzj7Ehismcz5x7pkZ+P+F4xrYM+UR2oONHDS7BzHOnXQ3WCPeYqVtwl9IoTUmSGhMlB7F\n",
       "fMEuuAnuOcFM6ZbSS/gEf4ozK/8Wh7mYYxWNaUH9ESz0uVbxtJ/D+1sp8ykXqq7KsC3R4Slq6KxV\n",
       "MwwTmpOcvhRoGTa3DT0zRn0WDfSyxFBxWBf1ADsk0vzAaoSd0gNrpdvreBKfZ8JvTfYhYbMs63jD\n",
       "SKxOBrIQ/x03KqcqGzOxXeTHrsId6iZr1JNNslSI6iSBsbLqF3qFP6kkPkM9+LMtAAAAAElFTkSu\n",
       "QmCC\n",
       "\" style=\"display:inline;vertical-align:middle;\" /></a></td></tr>\n",
       "<tr><td>9</td><td>Literal</td><td></td><td><a class=\"ProveItLink\" href=\"../../../numeral/__pv_it/77d407a64829263cdc16415becd4c2293f77a4bf0/expr.ipynb\"><img src=\"data:image/png;base64,iVBORw0KGgoAAAANSUhEUgAAAAkAAAAOBAMAAAAPuiubAAAAMFBMVEX///+YmJh2dnbMzMwQEBAi\n",
       "IiLu7u6qqqqIiIhUVFS6urpEREQyMjJmZmbc3NwAAACOMKdoAAAAAXRSTlMAQObYZgAAAFBJREFU\n",
       "CNdj4Lt7egEDw0sGju8MDNMYGOIZGFwSGOYvYDifwHAfKAEUSQASzJ9ATJ4NIPI2iOCYACJrGfge\n",
       "MDBfYGB8wPBUSekqUPH//18ZAIliFhc3zESNAAAAAElFTkSuQmCC\n",
       "\" style=\"display:inline;vertical-align:middle;\" /></a></td></tr>\n",
       "<tr><td>10</td><td>Literal</td><td></td><td><a class=\"ProveItLink\" href=\"../../../numeral/__pv_it/9176d93c83afa2c995b614976e3cb49207102fa70/expr.ipynb\"><img src=\"data:image/png;base64,iVBORw0KGgoAAAANSUhEUgAAAAoAAAAOBAMAAADkjZCYAAAAMFBMVEX///+YmJju7u4QEBBUVFQy\n",
       "MjIiIiKIiIi6urpmZmbc3NyqqqpERER2dnbMzMwAAAB0GlNiAAAAAXRSTlMAQObYZgAAAE1JREFU\n",
       "CNdjYHh79zQDA9cEhv4CBt7fDPwJDNxgEgiAIkAQAsR8Vx1ATIbiBhDJ/ImB6wEDz0cG/U8gkj+A\n",
       "ge0XA7sAQ/8FBoadM6MZAEflFACalZ/OAAAAAElFTkSuQmCC\n",
       "\" style=\"display:inline;vertical-align:middle;\" /></a></td></tr>\n",
       "</table>\n"
      ],
      "text/plain": [
       "0. (2 + 3 + 0 , (2 + 3) + 0)\n",
       "   core type: ExprTuple\n",
       "   sub-expressions: 1, 2\n",
       "1. 2 + 3 + 0\n",
       "   core type: Operation\n",
       "   operator: 7\n",
       "   operands: 3\n",
       "2. (2 + 3) + 0\n",
       "   core type: Operation\n",
       "   operator: 7\n",
       "   operands: 4\n",
       "3. (2 , 3 , 0)\n",
       "   core type: ExprTuple\n",
       "   sub-expressions: 9, 10, 6\n",
       "4. (2 + 3 , 0)\n",
       "   core type: ExprTuple\n",
       "   sub-expressions: 5, 6\n",
       "5. 2 + 3\n",
       "   core type: Operation\n",
       "   operator: 7\n",
       "   operands: 8\n",
       "6. 0\n",
       "   core type: Literal\n",
       "   sub-expressions: \n",
       "7. +\n",
       "   core type: Literal\n",
       "   sub-expressions: \n",
       "8. (2 , 3)\n",
       "   core type: ExprTuple\n",
       "   sub-expressions: 9, 10\n",
       "9. 2\n",
       "   core type: Literal\n",
       "   sub-expressions: \n",
       "10. 3\n",
       "    core type: Literal\n",
       "    sub-expressions: "
      ]
     },
     "execution_count": 4,
     "metadata": {},
     "output_type": "execute_result"
    }
   ],
   "source": [
    "# display the expression information\n",
    "expr.exprInfo()"
   ]
  },
  {
   "cell_type": "code",
   "execution_count": null,
   "metadata": {},
   "outputs": [],
   "source": []
  }
 ],
 "metadata": {
  "kernelspec": {
   "display_name": "Python 3",
   "language": "python",
   "name": "python3"
  }
 },
 "nbformat": 4,
 "nbformat_minor": 0
}
