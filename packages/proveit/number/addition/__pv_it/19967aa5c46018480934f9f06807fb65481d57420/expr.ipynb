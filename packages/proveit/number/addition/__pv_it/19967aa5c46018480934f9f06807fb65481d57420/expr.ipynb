{
 "cells": [
  {
   "cell_type": "markdown",
   "metadata": {},
   "source": [
    "Expression of type <a class=\"ProveItLink\" href=\"../../../../../../doc/html/api/proveit.ExprTuple.html\">ExprTuple</a>\n",
    "=======================\n",
    "# from context <a class=\"ProveItLink\" href=\"../../_context_.ipynb\">proveit.number.addition</a>"
   ]
  },
  {
   "cell_type": "code",
   "execution_count": 1,
   "metadata": {},
   "outputs": [],
   "source": [
    "# import Expression classes needed to build the expression\n",
    "from proveit import ExprTuple\n",
    "from proveit._common_ import B, C, c\n",
    "from proveit.logic import InSet\n",
    "from proveit.number import Complexes"
   ]
  },
  {
   "cell_type": "code",
   "execution_count": 2,
   "metadata": {},
   "outputs": [
    {
     "data": {
      "text/html": [
       "<strong id=\"expr\">expr:</strong> <a class=\"ProveItLink\" href=\"expr.ipynb\"><img src=\"data:image/png;base64,iVBORw0KGgoAAAANSUhEUgAAAMIAAAAVBAMAAADm9CyVAAAAMFBMVEX////c3NwiIiJERESqqqqY\n",
       "mJh2dnZmZmYQEBDu7u4yMjJUVFTMzMyIiIi6uroAAAAs73DqAAAAAXRSTlMAQObYZgAAAqlJREFU\n",
       "SMdjYKA94LtAQ8NZHwCJ00Ac/X/3bqsHaLK8WuubzHHqvbTqh3IBlM15eXspYwFWBTVA1koQt5mB\n",
       "gf0fqgqe9w8482/jsuDcP4ZpfzdAORkBDHwVAVgVcAFdCgoknr9A/BtVScBWBgaW37h8zw000B9q\n",
       "wyxNIJEvgFUBawIDxwRQgHwEin0DS81dpKQFVjKhAUhWoxrMeUtJaQGIEckBJNihNqwAGfECuwLO\n",
       "BoZXID4z0DSmTnDYLJ0A0cbOCNI/F9WGU5FQRoE0yDhIGmH/AiLFcSgwYSgD8fk3MDAuBhstDLWA\n",
       "YTpfApLb0+4eAFKMljB+wTOEpDzY0XMYsCtIZ1gKos7vvVsEiSlDmL5jLEhRd+IBlwLIq7Cw5klw\n",
       "RUjWIxRiUeDF0Aei7gswcGqD7TaA28CH0MjZy8AM4k2Gp7OEpwgb9BFxjEXBCwZwGrUA2QIyg69J\n",
       "SQkS05N5EKHE/QGqGigJjkhOg2MIG/6DyQk4FJyH2ABKlPEgE3lgSZyBawKcycAP9dlpuMhKboQN\n",
       "/SCC5QAOBecZWkDmfgUS+x1AdivAE3QCyAZOSFxCC5ZJcAPCuOHuZtgPothxKXjBYArNDoy/wDJb\n",
       "4WpM3wKJRxNAdvADAxAUhtzwqGGOA1rKpwm24zzI/kxIcGIoYIgCpiZIdjixEuIKeOnEvfkm52NL\n",
       "hvlAX3EXMLCBQoFTD27/btsJ84wncH4C+RaYH55DYhtDASi1PgL60P737l1LIRKMyw/A1BzX/7GP\n",
       "gWEG0H8MZXdvgoWkauCJpeh/9wMGzn6QyadXlztAhdEVMDCsY+BALU8YWHZB0hIcPETmeC+CFArw\n",
       "oh9NN4YCYKnBmkCgiA/AW/4TqiDYLkBLb5rZMAuIpfEr4cUrS7B+3AiKW1rWorwHGAB9WMPUhPpw\n",
       "uwAAAABJRU5ErkJggg==\n",
       "\" style=\"display:inline;vertical-align:middle;\" /></a><br>"
      ],
      "text/plain": [
       "expr: (B in Complexes , c in Complexes , C in Complexes)"
      ]
     },
     "execution_count": 2,
     "metadata": {},
     "output_type": "execute_result"
    }
   ],
   "source": [
    "# build up the expression from sub-expressions\n",
    "expr = ExprTuple(InSet(B, Complexes), InSet(c, Complexes), InSet(C, Complexes))"
   ]
  },
  {
   "cell_type": "code",
   "execution_count": 3,
   "metadata": {},
   "outputs": [
    {
     "name": "stdout",
     "output_type": "stream",
     "text": [
      "Passed sanity check: built 'expr' is the same as the stored Expression.\n"
     ]
    }
   ],
   "source": [
    "# check that the built expression is the same as the stored expression\n",
    "%check_expr"
   ]
  },
  {
   "cell_type": "code",
   "execution_count": 4,
   "metadata": {},
   "outputs": [
    {
     "data": {
      "text/html": [
       "<table><tr><th>&nbsp;</th><th>core type</th><th>sub-expressions</th><th>expression</th></tr>\n",
       "<tr><td>0</td><td>ExprTuple</td><td>1, 2, 3</td><td><a class=\"ProveItLink\" href=\"expr.ipynb\"><img src=\"data:image/png;base64,iVBORw0KGgoAAAANSUhEUgAAAMIAAAAVBAMAAADm9CyVAAAAMFBMVEX////c3NwiIiJERESqqqqY\n",
       "mJh2dnZmZmYQEBDu7u4yMjJUVFTMzMyIiIi6uroAAAAs73DqAAAAAXRSTlMAQObYZgAAAqlJREFU\n",
       "SMdjYKA94LtAQ8NZHwCJ00Ac/X/3bqsHaLK8WuubzHHqvbTqh3IBlM15eXspYwFWBTVA1koQt5mB\n",
       "gf0fqgqe9w8482/jsuDcP4ZpfzdAORkBDHwVAVgVcAFdCgoknr9A/BtVScBWBgaW37h8zw000B9q\n",
       "wyxNIJEvgFUBawIDxwRQgHwEin0DS81dpKQFVjKhAUhWoxrMeUtJaQGIEckBJNihNqwAGfECuwLO\n",
       "BoZXID4z0DSmTnDYLJ0A0cbOCNI/F9WGU5FQRoE0yDhIGmH/AiLFcSgwYSgD8fk3MDAuBhstDLWA\n",
       "YTpfApLb0+4eAFKMljB+wTOEpDzY0XMYsCtIZ1gKos7vvVsEiSlDmL5jLEhRd+IBlwLIq7Cw5klw\n",
       "RUjWIxRiUeDF0Aei7gswcGqD7TaA28CH0MjZy8AM4k2Gp7OEpwgb9BFxjEXBCwZwGrUA2QIyg69J\n",
       "SQkS05N5EKHE/QGqGigJjkhOg2MIG/6DyQk4FJyH2ABKlPEgE3lgSZyBawKcycAP9dlpuMhKboQN\n",
       "/SCC5QAOBecZWkDmfgUS+x1AdivAE3QCyAZOSFxCC5ZJcAPCuOHuZtgPothxKXjBYArNDoy/wDJb\n",
       "4WpM3wKJRxNAdvADAxAUhtzwqGGOA1rKpwm24zzI/kxIcGIoYIgCpiZIdjixEuIKeOnEvfkm52NL\n",
       "hvlAX3EXMLCBQoFTD27/btsJ84wncH4C+RaYH55DYhtDASi1PgL60P737l1LIRKMyw/A1BzX/7GP\n",
       "gWEG0H8MZXdvgoWkauCJpeh/9wMGzn6QyadXlztAhdEVMDCsY+BALU8YWHZB0hIcPETmeC+CFArw\n",
       "oh9NN4YCYKnBmkCgiA/AW/4TqiDYLkBLb5rZMAuIpfEr4cUrS7B+3AiKW1rWorwHGAB9WMPUhPpw\n",
       "uwAAAABJRU5ErkJggg==\n",
       "\" style=\"display:inline;vertical-align:middle;\" /></a></td></tr>\n",
       "<tr><td>1</td><td>Operation</td><td>operator:&nbsp;6<br>operands:&nbsp;4<br></td><td><a class=\"ProveItLink\" href=\"../a903e504c7972e34e1d2bbf0406fa5404d7b29120/expr.ipynb\"><img src=\"data:image/png;base64,iVBORw0KGgoAAAANSUhEUgAAADkAAAAPBAMAAACsFXoGAAAAMFBMVEX///+qqqru7u4iIiJ2dnbc\n",
       "3NyIiIjMzMxmZmYQEBC6uroyMjJERERUVFSYmJgAAADLUcuvAAAAAXRSTlMAQObYZgAAAPNJREFU\n",
       "GNNjYGB4+//u3dMLGFABm/X+ySfArDkMDBy/UCXZ1y9g8s8Fs74B8V9U2Qf3GBgYwWJsXxkY+L6A\n",
       "BZmyjY03AGk+hQlAshckxANkMU8Cy1Y/gmjlYL0AJNVATP4LDKx7FEAs1kNQgzW4HGB21F9La34A\n",
       "ZvEEQIVKGB/AZPMDGJhswSwdmFAJF1z2JEgFmLfS2BjiKh12uMkgh78H82phQtwKF2Ae/wck7guA\n",
       "mMowWT4HkCwT1Lusv8GCvHDbzi0DEosVIN6t3AQJDCuYLO+dJKY1QP9xnP979/Y+qGB0O0y6wv7n\n",
       "LQZ0ILsZ7GYYAAB27kFZLJ6d7QAAAABJRU5ErkJggg==\n",
       "\" style=\"display:inline;vertical-align:middle;\" /></a></td></tr>\n",
       "<tr><td>2</td><td>Operation</td><td>operator:&nbsp;6<br>operands:&nbsp;5<br></td><td><a class=\"ProveItLink\" href=\"../c13cb7484c5c8cfdbfcfc08314313cc92059f30d0/expr.ipynb\"><img src=\"data:image/png;base64,iVBORw0KGgoAAAANSUhEUgAAADEAAAAPBAMAAAC/wjryAAAAMFBMVEX///+qqqpmZmbc3NxUVFSY\n",
       "mJhEREQiIiIyMjK6uroQEBDMzMyIiIh2dnbu7u4AAAA4MM1YAAAAAXRSTlMAQObYZgAAAMRJREFU\n",
       "GNNjYMAEPBX9y5OwiDNwz5/Ad/8INpkAVwYGxi9IAnwnyssbgDTrgwVAUgVJZkcchGZidgCSb0Bq\n",
       "757ZAKSY86AqHnFegLJ2TeAoAFJsBlD+XsYAqPFrGNhAzGcwU/dyQmVYPkDoWeXlEBc844aaxp8A\n",
       "obfA9HA8cIAw7A9A6OcwGdYLIBk+oB6gqSCDWQJgUqlzgMT0BwwsCgy8IFfzVcJkWNzO8U0D+UH3\n",
       "zDmwgIU2TGpT/S9PlPASaQe7DQYAhwcvp2pfo0QAAAAASUVORK5CYII=\n",
       "\" style=\"display:inline;vertical-align:middle;\" /></a></td></tr>\n",
       "<tr><td>3</td><td>Operation</td><td>operator:&nbsp;6<br>operands:&nbsp;7<br></td><td><a class=\"ProveItLink\" href=\"../855d9527ffc0c8a7617618867554f5dfd2bf28d00/expr.ipynb\"><img src=\"data:image/png;base64,iVBORw0KGgoAAAANSUhEUgAAADgAAAAPBAMAAABD1xE4AAAAMFBMVEX////MzMyqqqoiIiIyMjK6\n",
       "uroQEBB2dnbc3NyYmJhmZmZUVFRERESIiIju7u4AAAB204erAAAAAXRSTlMAQObYZgAAAOhJREFU\n",
       "GNNjYGDgu7NrJccCBlRw2eWbDUisbAID67IJqHKiXxme/93AwPDEDsipb0CR4+QGKtYHSro9APLC\n",
       "wGJ8V4yNHUCMeWxAgmsDA9cnEK8LLCkyD6pzQTdI6QWGfrDShyCC4xxUjm9BOISxHuEUHpjFjAWa\n",
       "EIY9wilvGOCSkRDGfzAJchRDmLExxEF8B8QhkvkggkkARErDzfDjhtD7QZq4wMzHcMnp3BDj5C8A\n",
       "qTqwEDfcbTxTgaKsdgycQH9GQRzFZwrXuvvsg6dngGZKe69SgAq1LIS7d/H/7AC0uNB2hgQfFAAA\n",
       "uj859LfS99oAAAAASUVORK5CYII=\n",
       "\" style=\"display:inline;vertical-align:middle;\" /></a></td></tr>\n",
       "<tr><td>4</td><td>ExprTuple</td><td>8, 11</td><td><a class=\"ProveItLink\" href=\"../c5c69ae2d46162dfa375a6a8bd66a58ef67e78c50/expr.ipynb\"><img src=\"data:image/png;base64,iVBORw0KGgoAAAANSUhEUgAAADUAAAAVBAMAAAAUZLt1AAAAMFBMVEX////c3NwiIiJERESqqqqY\n",
       "mJh2dnZmZmYQEBDu7u4yMjJUVFTMzMyIiIi6uroAAAAs73DqAAAAAXRSTlMAQObYZgAAAT1JREFU\n",
       "KM9jYMAH+C5gFY4DEaeBOPr/7t1WD6CivFrrm8wZ2A8AmStB/GYGBvZ/ECme9w84828zMCwAqgIZ\n",
       "yfMXiH9D5AK2MjCwANlhDAwcE0DGfGRgYP0GlmKd0AAkqxkYZjAwvAIJMAP5TJ1gOXbGDUByLlDM\n",
       "gaEMJMC/gYFx8QSw3HS+BIjZbAUMS0H0+b13iwIgQsdYoAyWBQx9IPq+AAOnNlSODyrH18AAdrkF\n",
       "SB4iNpkHaibPB4gcyPnxEDGuCRvgci0g6iuQ2O8A8UMCSI4TbKYp1HuMv8AiDAymb4HEowkMrAsY\n",
       "0qHeOwEMu/kKQA735pucjy3BfngE9K797927QH6Z8RGk8bj+j30gix8wcAggRcxDJPYMkN1I/AAk\n",
       "di4sjjDlOIFxxCCN4PMiKeMG2cWIPU3cYWAAANz9UadCoBoTAAAAAElFTkSuQmCC\n",
       "\" style=\"display:inline;vertical-align:middle;\" /></a></td></tr>\n",
       "<tr><td>5</td><td>ExprTuple</td><td>9, 11</td><td><a class=\"ProveItLink\" href=\"../abce21c686dae58084decd9daf4aa671823af84e0/expr.ipynb\"><img src=\"data:image/png;base64,iVBORw0KGgoAAAANSUhEUgAAAC0AAAAVBAMAAAAgHXppAAAAMFBMVEX////c3NwiIiJERESqqqqY\n",
       "mJh2dnZmZmYQEBDu7u4yMjJUVFTMzMyIiIi6uroAAAAs73DqAAAAAXRSTlMAQObYZgAAARJJREFU\n",
       "GNNjYMAF+C5gCMWBiNPIIrxa65vMGdgPAJkrkYR53j/gzL/NwLAAqALZmICtDAwsvxkYwhgYOCYg\n",
       "hFknNADJagaGGQwMr5CUszNuAJJzGRiYHRjKgCzOtLsgmxim8yVAFLAVMCwFUicecCmAuMdYAiDi\n",
       "LAsY+oDKexmYwQLH+KDifA0M/xgYuD9AzZ/MAzWH5wNInN8AKs41YQNcvIWBQR7mBdYEkDgn2BxT\n",
       "oHqgqQGcIAnTt0Di0QQG1gUM6UDzCxjYDswHuYh7803Ox5Zgdz4Ccsvu3mSY8RGk4bj+j30gix4w\n",
       "cAhADX+I5PEZILtgYYYknosUzkjinMBwZpCGxgiScm6Q2YyY8XiHgQEAaaE/gGyRZnYAAAAASUVO\n",
       "RK5CYII=\n",
       "\" style=\"display:inline;vertical-align:middle;\" /></a></td></tr>\n",
       "<tr><td>6</td><td>Literal</td><td></td><td><a class=\"ProveItLink\" href=\"../../../../logic/set_theory/membership/__pv_it/088cbc857536a28d4119ad9639a84270ccb0545d0/expr.ipynb\"><img src=\"data:image/png;base64,iVBORw0KGgoAAAANSUhEUgAAAAwAAAAMBAMAAACkW0HUAAAALVBMVEX///+qqqpmZmZUVFQQEBC6\n",
       "urpERETc3NyYmJjMzMwiIiIyMjKIiIju7u4AAACYsrA9AAAAAXRSTlMAQObYZgAAADxJREFUCNdj\n",
       "YOA9vWrVBgaG2b0MQMCeCyIZ2ArA1DUwyRCyahVIyWQI7xaEYm4AU7xLIdxqTQgtvGvVBgCkcQ7e\n",
       "geM/tQAAAABJRU5ErkJggg==\n",
       "\" style=\"display:inline;vertical-align:middle;\" /></a></td></tr>\n",
       "<tr><td>7</td><td>ExprTuple</td><td>10, 11</td><td><a class=\"ProveItLink\" href=\"../16e2c8bacf93516b2c623c129da426a6672798d40/expr.ipynb\"><img src=\"data:image/png;base64,iVBORw0KGgoAAAANSUhEUgAAADMAAAAVBAMAAAAZessyAAAAMFBMVEX////c3NwiIiJERESqqqqY\n",
       "mJh2dnZmZmYQEBDu7u4yMjJUVFTMzMyIiIi6uroAAAAs73DqAAAAAXRSTlMAQObYZgAAAT1JREFU\n",
       "KM9jYMAD+C5gE40DEadBxFzr8gBxiCCv1vomcwb2A0DmSiBma2VgeN4KluF5/4Az/zYDwwKgIqB5\n",
       "nIsmAKU/gqUCtjIwsPxmYAhjYOAAinJ1guxsAMmwTgBR1QwMMxgYXgFZ9Q5AgrEAJMXOuAFkNQMD\n",
       "swNDGVDwF0iQE2Qxw3S+BIhr2AoYlgJVfkU4+hhLAITBsoChj4GB6SOSFB9UCmj1PwYG/g9gA8Ei\n",
       "k3mgBvJ8AElxgKV8wCJcEzbApVoYGLh/gthgBzKwJmyAmAA00BSo4C/IRRMgRpq+BRKPJjCwLmBI\n",
       "B7LiHRj4ChkY5isA2dybb3I+tgQ7/hHI3F3bS4DUDLBLj+v/2Aey9AEDhwDC5Q+RYmUGyF4ENwBJ\n",
       "KhcaKZhSnMBIYZCGc3mRNHGD7GHEmgDuMDAAAFriSMVpEJmpAAAAAElFTkSuQmCC\n",
       "\" style=\"display:inline;vertical-align:middle;\" /></a></td></tr>\n",
       "<tr><td>8</td><td>Variable</td><td></td><td><a class=\"ProveItLink\" href=\"../../../../__pv_it/077b2ff79244fb4582cbe22c6e3356fa92a52f2f0/expr.ipynb\"><img src=\"data:image/png;base64,iVBORw0KGgoAAAANSUhEUgAAABAAAAAOBAMAAADUAYG5AAAAMFBMVEX///+qqqru7u4iIiJ2dnbc\n",
       "3NyIiIjMzMxmZmYQEBC6uroyMjJERERUVFSYmJgAAADLUcuvAAAAAXRSTlMAQObYZgAAAGpJREFU\n",
       "CNdjYGB4+//u3dMLGIBgDgMDxy8gzf4NiP8CGWxfGRj4vgAZPBMYGJgnARn8FxhY9ygAGfXX0pof\n",
       "gDTlBzAw2YIYJ0EckBBI53sHoBH/gIz7AhBjWH9DjancBLTl/N+7t/cxMAAA3u4f/5xagjYAAAAA\n",
       "SUVORK5CYII=\n",
       "\" style=\"display:inline;vertical-align:middle;\" /></a></td></tr>\n",
       "<tr><td>9</td><td>Variable</td><td></td><td><a class=\"ProveItLink\" href=\"../../../../__pv_it/cbdfda466482236edba0ce44ac7ef39cda0af7a40/expr.ipynb\"><img src=\"data:image/png;base64,iVBORw0KGgoAAAANSUhEUgAAAAkAAAAJBAMAAAASvxsjAAAALVBMVEX///9mZmbc3NxUVFSYmJhE\n",
       "REQiIiIyMjK6uroQEBDMzMyIiIh2dnbu7u4AAABgFDGoAAAAAXRSTlMAQObYZgAAADZJREFUCNdj\n",
       "YOA9s3sBA8PKBvYEBt7ZDKwODMwPGICALwBE6m0Asx0YGIDiAgw8QJUyu/cyAAAmuwmycZ8WfQAA\n",
       "AABJRU5ErkJggg==\n",
       "\" style=\"display:inline;vertical-align:middle;\" /></a></td></tr>\n",
       "<tr><td>10</td><td>Variable</td><td></td><td><a class=\"ProveItLink\" href=\"../../../../__pv_it/985a1bdf1540838275dec15f4ad6de261cca93ce0/expr.ipynb\"><img src=\"data:image/png;base64,iVBORw0KGgoAAAANSUhEUgAAAA8AAAAOBAMAAAACpFvcAAAAMFBMVEX////MzMyqqqoiIiIyMjK6\n",
       "uroQEBB2dnbc3NyYmJhmZmZUVFRERESIiIju7u4AAAB204erAAAAAXRSTlMAQObYZgAAAGZJREFU\n",
       "CNdjYGDgu7NrJccCBgaGsgkMrMsmMDA8sQNy6hsYGNweABlhDAxcn4A0QxcDQ78DiPGQgWH9BAYI\n",
       "sG+AMv6DSaCGfBDNJMDAsB+kmwuI5S8AiTog5gSaEwXWIO29SgFIAQBC+RaDQlidVgAAAABJRU5E\n",
       "rkJggg==\n",
       "\" style=\"display:inline;vertical-align:middle;\" /></a></td></tr>\n",
       "<tr><td>11</td><td>Literal</td><td></td><td><a class=\"ProveItLink\" href=\"../../../sets/complex/__pv_it/c357845f93a5a2d9f649129d299e7ec28dda4b960/expr.ipynb\"><img src=\"data:image/png;base64,iVBORw0KGgoAAAANSUhEUgAAAA8AAAAOBAMAAAACpFvcAAAAMFBMVEX////c3NyqqqqYmJhUVFR2\n",
       "dnbu7u66urrMzMxmZmZEREQQEBAyMjIiIiKIiIgAAAB7fvZ0AAAAAXRSTlMAQObYZgAAAGVJREFU\n",
       "CNdjYGDgu3N+70oGBgaO+gK2+CdAhoEzAwPTFwYG5oQNQN4UBgZORgcgI4+BIZM9gAEMWpkMoAx2\n",
       "KCOLAyrFk+AAYTAHgBhsQLy4DkjUJjAwsHg9Y6taBpLsvP/bnYEBACkBFGQfBv8RAAAAAElFTkSu\n",
       "QmCC\n",
       "\" style=\"display:inline;vertical-align:middle;\" /></a></td></tr>\n",
       "</table>\n"
      ],
      "text/plain": [
       "0. (B in Complexes , c in Complexes , C in Complexes)\n",
       "   core type: ExprTuple\n",
       "   sub-expressions: 1, 2, 3\n",
       "1. B in Complexes\n",
       "   core type: Operation\n",
       "   operator: 6\n",
       "   operands: 4\n",
       "2. c in Complexes\n",
       "   core type: Operation\n",
       "   operator: 6\n",
       "   operands: 5\n",
       "3. C in Complexes\n",
       "   core type: Operation\n",
       "   operator: 6\n",
       "   operands: 7\n",
       "4. (B , Complexes)\n",
       "   core type: ExprTuple\n",
       "   sub-expressions: 8, 11\n",
       "5. (c , Complexes)\n",
       "   core type: ExprTuple\n",
       "   sub-expressions: 9, 11\n",
       "6. in\n",
       "   core type: Literal\n",
       "   sub-expressions: \n",
       "7. (C , Complexes)\n",
       "   core type: ExprTuple\n",
       "   sub-expressions: 10, 11\n",
       "8. B\n",
       "   core type: Variable\n",
       "   sub-expressions: \n",
       "9. c\n",
       "   core type: Variable\n",
       "   sub-expressions: \n",
       "10. C\n",
       "    core type: Variable\n",
       "    sub-expressions: \n",
       "11. Complexes\n",
       "    core type: Literal\n",
       "    sub-expressions: "
      ]
     },
     "execution_count": 4,
     "metadata": {},
     "output_type": "execute_result"
    }
   ],
   "source": [
    "# display the expression information\n",
    "expr.exprInfo()"
   ]
  },
  {
   "cell_type": "code",
   "execution_count": null,
   "metadata": {},
   "outputs": [],
   "source": []
  }
 ],
 "metadata": {
  "kernelspec": {
   "display_name": "Python 3",
   "language": "python",
   "name": "python3"
  }
 },
 "nbformat": 4,
 "nbformat_minor": 0
}
