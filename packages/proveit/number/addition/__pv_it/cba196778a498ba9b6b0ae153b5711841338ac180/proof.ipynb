{
 "cells": [
  {
   "cell_type": "markdown",
   "metadata": {},
   "source": [
    "Show the Proof\n",
    "========"
   ]
  },
  {
   "cell_type": "code",
   "execution_count": 1,
   "metadata": {},
   "outputs": [
    {
     "data": {
      "text/html": [
       "<table><tr><th>&nbsp;</th><th>step type</th><th>requirements</th><th>statement</th></tr>\n",
       "<tr><td>0</td><td>assumption</td><td></td><td><span style=\"font-size:20px;\"><a class=\"ProveItLink\" href=\"../2ee8add7186a527fbfe6b45a66c34baaf17bb6850/expr.ipynb\"><img src=\"data:image/png;base64,iVBORw0KGgoAAAANSUhEUgAAAEUAAAAVBAMAAADiLT7tAAAAMFBMVEX////c3NxERESqqqpUVFS6\n",
       "urrMzMwyMjIQEBCIiIh2dnYiIiLu7u5mZmaYmJgAAABXZE4RAAAAAXRSTlMAQObYZgAAAUhJREFU\n",
       "KM9jYGDgu8eAE7CtEgBRPLsY8AC2ZhDJ+QHMYdW4gCzHvP93eXfFAwaG6yAeVwNElN8AWQ1n7QGG\n",
       "AiYgYwWymvgDyGp4FzBwGSxFV7MaTJ6s3r0dRLMcYBBhc0BXUwt2Yh3CNB2mAyhqGD2XfgZxhBBK\n",
       "+Ca8Y4Cp4S0AEhECTH9AHEWEiw7xKICo9yAiIwBozD+IUogwBLixgIOPHRgkKW0gF35g4F4ACqTu\n",
       "3bshbmZgvRAFUasODKSIBGDYKDCcDwA52QFuDDsD0OCFDBC9LEC2/AQGewagc3k2wNUs5gJq2gB1\n",
       "DxeQcd6AwZ0ZaB6DH0wJo0MKxMtwv7M/YN7LBeKcDoCqYRLQYeC5pYCkhtFzatJUsPbaBIiaCPUm\n",
       "pfqmC2jhDI1vd6i/YACLGgwAVsOHXw04/fDsxJsOWyGRt5hAegYAd4VSBm6ZknEAAAAASUVORK5C\n",
       "YII=\n",
       "\" style=\"display:inline;vertical-align:middle;\" /></a> <a class=\"ProveItLink\" href=\"proof.ipynb\" style=\"text-decoration: none\">&#x22A2;&nbsp;</a><a class=\"ProveItLink\" href=\"../5427ad2f07cb5652b81d8908f2b5e3f360155a150/expr.ipynb\"><img src=\"data:image/png;base64,iVBORw0KGgoAAAANSUhEUgAAADIAAAAPBAMAAABU9YHxAAAAMFBMVEX////MzMyYmJiIiIhUVFTc\n",
       "3NwyMjIiIiJ2dnbu7u6qqqpmZmYQEBBERES6uroAAABkyy6XAAAAAXRSTlMAQObYZgAAAOpJREFU\n",
       "GNNjYGBg4LuzgQEJcNV/TzueowBm8y9AlmHOnsCQwAthv5+ALMPdwMCxoA/CbgeTk9PLy0A0ywSG\n",
       "EEYHiEw2iGBMQui8yQtiszr3/QLxYhESTAZKIOpNAO9PEH0VYdNczgsgLZ8YuBOANJgDBY4sASD7\n",
       "PjCwN4A8dby8HOICBr4NL8B+ucAw/wHIAQ5wLWwMQENaGeINGNYzAC3nLIDLdHEAlRYwzF/A4MYl\n",
       "AOQ7wSRYHUQYGDgOMLApcFVzgASmP4DK8AbcZODccQHoHTtZO7DSbAGIzJtrZ+/mn0UOZC43qNsg\n",
       "AABahDh0K0FjhQAAAABJRU5ErkJggg==\n",
       "\" style=\"display:inline;vertical-align:middle;\" /></a></span></td></tr>\n",
       "</table>"
      ],
      "text/plain": [
       "<proveit._core_.proof._ShowProof at 0x7f94ea9c9278>"
      ]
     },
     "execution_count": 1,
     "metadata": {},
     "output_type": "execute_result"
    }
   ],
   "source": [
    "import proveit\n",
    "%show_proof"
   ]
  },
  {
   "cell_type": "code",
   "execution_count": null,
   "metadata": {},
   "outputs": [],
   "source": []
  }
 ],
 "metadata": {
  "kernelspec": {
   "display_name": "Python 3",
   "language": "python",
   "name": "python3"
  }
 },
 "nbformat": 4,
 "nbformat_minor": 0
}
