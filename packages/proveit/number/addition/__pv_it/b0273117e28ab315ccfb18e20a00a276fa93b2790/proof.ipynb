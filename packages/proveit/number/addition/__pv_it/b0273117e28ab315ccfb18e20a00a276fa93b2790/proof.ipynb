{
 "cells": [
  {
   "cell_type": "markdown",
   "metadata": {},
   "source": [
    "Show the Proof\n",
    "========"
   ]
  },
  {
   "cell_type": "code",
   "execution_count": 1,
   "metadata": {},
   "outputs": [
    {
     "data": {
      "text/html": [
       "<table><tr><th>&nbsp;</th><th>step type</th><th>requirements</th><th>statement</th></tr>\n",
       "<tr><td>0</td><td>specialization</td><td>1, 2</td><td><span style=\"font-size:20px;\"><a class=\"ProveItLink\" href=\"../0b6eb785cd2edcc2b86989d54b41550759444b530/expr.ipynb\"><img src=\"data:image/png;base64,iVBORw0KGgoAAAANSUhEUgAAAEsAAAAVBAMAAAD85A5eAAAAMFBMVEX///9ERETc3NyqqqpUVFS6\n",
       "urrMzMwyMjIQEBCIiIh2dnYiIiLu7u5mZmaYmJgAAABJJ2g3AAAAAXRSTlMAQObYZgAAAUZJREFU\n",
       "KM9jYGDgu8eAD7CtUgBRPLsY8AO2ZhDJ+QHKzcZQMLv8x8YLDAzXQWyuBqhgPbqq1K8Mp346MDCs\n",
       "QFbGt/8Aqio+lgcMDPboypTvg53KwDN99+4CEOMNB5DgRVc2YX4AmE5/AzXtggpI0wRUZawH7B+A\n",
       "aCYZqCqeC1FQFlgZL9gGhqMM+RNANKMCLBwW2EFZ70FEBsSuAAb9CyD6IDy4FsRBWexAiZQ2iKCL\n",
       "i78AiBGxezfECzwCWTAd4kDnRCSAncbAwAG2PQUeIDUsUAb3AiDBApY1APLAfjkNV/YKrOwA1G1c\n",
       "G0D+AypjB8caywOYMsanQD+x7kEOkOMg4T/gcNgKN85F8sBRwQNIyhT7ixj45L+Dvap+De7X2/9b\n",
       "AhjQYgEOTKohkQUH2JVhALAyPoLKwOmNZyeh1NsKSVeLCecFAH4rVeSNuVHXAAAAAElFTkSuQmCC\n",
       "\" style=\"display:inline;vertical-align:middle;\" /></a> <a class=\"ProveItLink\" href=\"proof.ipynb\" style=\"text-decoration: none\">&#x22A2;&nbsp;</a><a class=\"ProveItLink\" href=\"../085041faa4fed54319aa267962e5c13c0be234880/expr.ipynb\"><img src=\"data:image/png;base64,iVBORw0KGgoAAAANSUhEUgAAAG8AAAAVBAMAAAC6Uq30AAAAMFBMVEX////c3NwiIiJERESqqqqY\n",
       "mJh2dnZmZmYQEBDu7u4yMjJUVFTMzMyIiIi6uroAAAAs73DqAAAAAXRSTlMAQObYZgAAAb9JREFU\n",
       "OMtjYCAb8F3AKx2HU+Y0hDqERYpHgYGB/QC6KK/W+iZzIL0Swl2PRSPXByCxAN209w84828D9UNc\n",
       "yqo/ASLOKYBQE/QTSIShaQzYysDA8puBgQOiQaQeqoEF4WVG949AcgbUwFtKSiDLWSc0AMlqBoZX\n",
       "EPEL9x9gaOTl/QckmR3AnFOREEF2xg1Aci4DQxkkaCf4B2BofMnyFUiyFYBtt4QKTudLgDCWgsl5\n",
       "DOcvoGvkfMDzFyQADh1mmNePsUBt6AOTDxjkC9A18jEwfgdRID8xTIaJHuODavwHDuLdu/cboGs8\n",
       "vXv3Z5AcKE4YXigpQQJnMk8CkkY+YOiCRNlXrVrUtWrVBqgrGLrgGk/D43YCRJahBUQAA46pAc1G\n",
       "FiDWgDt1EkwjawJIIycDgykoyBygqQRZowg0ObGCA4c7AKbT9C2QeDSBIR1IzQIF209UjZwg9fYT\n",
       "YNHBqQfTyL35JudjYOQ8YmAQ7l/IwGr/qwBZI6PFLwGG4P/LgU6BpAypGpjO4/o/9gEpDgHUpMiC\n",
       "nsugSY7Be5ESSnpnTSCQPXNx5ceV+PM55wJcMtL4NXIL4JJhxF903MEhDgDvUHEZSPRjCgAAAABJ\n",
       "RU5ErkJggg==\n",
       "\" style=\"display:inline;vertical-align:middle;\" /></a></span></td></tr>\n",
       "<tr><td>&nbsp;</td><td colspan=4 style=\"text-align:left\"><span style=\"font-size:20px;\"><a class=\"ProveItLink\" href=\"../../../../__pv_it/07527342713064c87612d00d8557c53d53d5324a0/expr.ipynb\"><img src=\"data:image/png;base64,iVBORw0KGgoAAAANSUhEUgAAAAsAAAAJBAMAAAAWSsseAAAAMFBMVEX///8yMjKqqqrMzMzu7u4i\n",
       "IiJmZmaYmJhEREQQEBC6urp2dnaIiIhUVFTc3NwAAAD87Fq/AAAAAXRSTlMAQObYZgAAAEhJREFU\n",
       "CNdjYOC7s2seAwPDygccHxgY+L4zsDUwMPB+YGA9wMDA38Dgb8DA8P4Agz6DA4O/AsNFJgMGxgKm\n",
       "MG6gyjunLE4xAAAZTBA5TB6DCwAAAABJRU5ErkJggg==\n",
       "\" style=\"display:inline;vertical-align:middle;\" /></a> : <a class=\"ProveItLink\" href=\"../../../../__pv_it/2cbe72a7ad6f655694dd697106680215e8489b600/expr.ipynb\"><img src=\"data:image/png;base64,iVBORw0KGgoAAAANSUhEUgAAAA8AAAAOBAMAAAACpFvcAAAALVBMVEX///8QEBBERERUVFS6urqI\n",
       "iIhmZmaqqqrc3Nzu7u6YmJgyMjIiIiLMzMwAAADtIaYWAAAAAXRSTlMAQObYZgAAAFtJREFUCNdj\n",
       "YACBOwxQsA9Kc52bAGG05zVAGAFxDmCaZULdAjBjCsO9ADDDgaEvAUTzGhvbKYCVMDAwbgAxChgY\n",
       "eASANAeQwf0AyJgNxEwvGRia5HYwcOm9TgAA6BoR3jrzwFcAAAAASUVORK5CYII=\n",
       "\" style=\"display:inline;vertical-align:middle;\" /></a>, <a class=\"ProveItLink\" href=\"../../../../__pv_it/6840a4fa6c106149dc16a131294d0c5e44f1b0480/expr.ipynb\"><img src=\"data:image/png;base64,iVBORw0KGgoAAAANSUhEUgAAAAkAAAAOBAMAAAAPuiubAAAALVBMVEX///9mZmbMzMxERESYmJiI\n",
       "iIh2dna6urqqqqoyMjIiIiIQEBBUVFTu7u4AAAD9S1JeAAAAAXRSTlMAQObYZgAAAE1JREFUCNdj\n",
       "4D29gAEIOA+ASL4GEFl3AURmgQiGOaFHGBh4HzPwKTBwvGXgTmBgnMDAJ8DAJcBQ5wBSLncBJLWN\n",
       "gYGngRFoBO9REQYGAGrcDtUkVqASAAAAAElFTkSuQmCC\n",
       "\" style=\"display:inline;vertical-align:middle;\" /></a> : <a class=\"ProveItLink\" href=\"../../../../__pv_it/2cbe72a7ad6f655694dd697106680215e8489b600/expr.ipynb\"><img src=\"data:image/png;base64,iVBORw0KGgoAAAANSUhEUgAAAA8AAAAOBAMAAAACpFvcAAAALVBMVEX///8QEBBERERUVFS6urqI\n",
       "iIhmZmaqqqrc3Nzu7u6YmJgyMjIiIiLMzMwAAADtIaYWAAAAAXRSTlMAQObYZgAAAFtJREFUCNdj\n",
       "YACBOwxQsA9Kc52bAGG05zVAGAFxDmCaZULdAjBjCsO9ADDDgaEvAUTzGhvbKYCVMDAwbgAxChgY\n",
       "eASANAeQwf0AyJgNxEwvGRia5HYwcOm9TgAA6BoR3jrzwFcAAAAASUVORK5CYII=\n",
       "\" style=\"display:inline;vertical-align:middle;\" /></a></span></td></tr><tr><td>1</td><td>theorem</td><td></td><td><span style=\"font-size:20px;\"> <a class=\"ProveItLink\" href=\"../../_proofs_/addComplexClosureBin.ipynb\" style=\"text-decoration: none\">&#x22A2;&nbsp;</a><a class=\"ProveItLink\" href=\"../67897d4fffe99ec8bc86fcb9fe6bf9b0c34cb3ec0/expr.ipynb\"><img src=\"data:image/png;base64,iVBORw0KGgoAAAANSUhEUgAAALYAAAAWBAMAAACfwnvZAAAAMFBMVEX///8QEBC6urrMzMxUVFRm\n",
       "ZmZERETc3NwyMjKqqqp2dnaIiIiYmJgiIiLu7u4AAAAU9Wx4AAAAAXRSTlMAQObYZgAAAuZJREFU\n",
       "OMu1VVto01AY/tqkTdul6RBB9KlzgjKVFZEhQ2m9gMIUAkOQbWJR6RBF+jDdQMQie6hDS0EFYcKK\n",
       "MERECPOCOJSwJ9mgTMEJQiWKqMzL5h7mw2R6Ts5pYrqme9EfvpP//OfkOyf/LcB/FGP5LV6NoaqM\n",
       "udjlKDBJlYma3Fs5KkXZSV72xZbYn2Z/TKloB+7QWa4md85tRyBBhkyldcscphcSCABnyUxK1qKu\n",
       "0xhs+cSfkTwZxiudIerAUAJyAQHicF++FrfHYLBlkD+bqfUdd9DjUsn8hKKHDL4ElHrIt3t7z9d0\n",
       "yQaOpdz36OBnF9tW5Ea1h55EvvMEMJ9KvanJ3cEhtd1a5eTuH90PhFSqSqfLAVabuDYM7Aa6rWzL\n",
       "VuG+zNGQ9s86uJV5RGIImp7wp/luoXCTazeAdVDsUA+Xla8DBzq5uoJB+gVf0sEdXISnAG891T/C\n",
       "4t7EtQYgjDrd4r5Er/PwoC60GMIAt80xiLMIaw5uXwYRFYL5MQ2lEoulkmzl78VJeulhOwl+Ejxa\n",
       "/92QzwFNTu5IEjO0Tg5lsy+y2X6ihVU065zbrq2caHMrGWo/8+QY9ffCA0OmsWm8SpzA96xmuKBh\n",
       "iHeIQSu9jxjcJ98s7nGRtxLiE3TvIge8lhZpmUzKiQBdela0Y3mKYSaPfcGYgzuGNaRWzGiJll/9\n",
       "Y7T9vAWek8l10hVEVaCNxa/Jk62V3MMMAT34KuTwt5gnJcJzUHlp7d9z0nifMth7HnJOJFpHe4Mn\n",
       "5kvuSKVS2tpGm3szg9Q20jLizMG2LtpUouakr93KlMO/V1LbRdoAyBkzhr9IMjSCsP7BvNIX29+e\n",
       "NMPSujSF1zyuXSk52pZSb/WM+HajLx0mCS9SGqEjjdFy8ykw2LLx78ldl3IOldubt3OiC3Hd21mA\n",
       "cpQapqeOR5ftseb1Mi4Ln51TFusQ8bfD3MNRVcS0y8Jex0xw2SZpDFXlvlvXd/6P5H/8K/4Dmmu9\n",
       "vLXtqa4AAAAASUVORK5CYII=\n",
       "\" style=\"display:inline;vertical-align:middle;\" /></a></span></td></tr>\n",
       "<tr><td>&nbsp;</td><td colspan=4 style-\"text-align:left\"><a class=\"ProveItLink\" href=\"../../_proofs_/addComplexClosureBin.ipynb\">proveit.number.addition.addComplexClosureBin</a></td></tr><tr><td>2</td><td>assumption</td><td></td><td><span style=\"font-size:20px;\"><a class=\"ProveItLink\" href=\"../0b6eb785cd2edcc2b86989d54b41550759444b530/expr.ipynb\"><img src=\"data:image/png;base64,iVBORw0KGgoAAAANSUhEUgAAAEsAAAAVBAMAAAD85A5eAAAAMFBMVEX///9ERETc3NyqqqpUVFS6\n",
       "urrMzMwyMjIQEBCIiIh2dnYiIiLu7u5mZmaYmJgAAABJJ2g3AAAAAXRSTlMAQObYZgAAAUZJREFU\n",
       "KM9jYGDgu8eAD7CtUgBRPLsY8AO2ZhDJ+QHKzcZQMLv8x8YLDAzXQWyuBqhgPbqq1K8Mp346MDCs\n",
       "QFbGt/8Aqio+lgcMDPboypTvg53KwDN99+4CEOMNB5DgRVc2YX4AmE5/AzXtggpI0wRUZawH7B+A\n",
       "aCYZqCqeC1FQFlgZL9gGhqMM+RNANKMCLBwW2EFZ70FEBsSuAAb9CyD6IDy4FsRBWexAiZQ2iKCL\n",
       "i78AiBGxezfECzwCWTAd4kDnRCSAncbAwAG2PQUeIDUsUAb3AiDBApY1APLAfjkNV/YKrOwA1G1c\n",
       "G0D+AypjB8caywOYMsanQD+x7kEOkOMg4T/gcNgKN85F8sBRwQNIyhT7ixj45L+Dvap+De7X2/9b\n",
       "AhjQYgEOTKohkQUH2JVhALAyPoLKwOmNZyeh1NsKSVeLCecFAH4rVeSNuVHXAAAAAElFTkSuQmCC\n",
       "\" style=\"display:inline;vertical-align:middle;\" /></a> <a class=\"ProveItLink\" href=\"../43530a4b53d1dd6c6be3fa20b8afb19133b6d95c0/proof.ipynb\" style=\"text-decoration: none\">&#x22A2;&nbsp;</a><a class=\"ProveItLink\" href=\"../2c6478f5e8e1ce586fdde9d8472162e59b7d86cd0/expr.ipynb\"><img src=\"data:image/png;base64,iVBORw0KGgoAAAANSUhEUgAAADgAAAAPBAMAAABD1xE4AAAAMFBMVEX///92dnYQEBBERERUVFS6\n",
       "urqIiIhmZmaqqqrc3Nzu7u6YmJgyMjIiIiLMzMwAAACFkkdwAAAAAXRSTlMAQObYZgAAAOVJREFU\n",
       "GNNjYACBtwzoIPfMp8sFEOZ5dLmnXxkWfnMAM7nvL0CV42bZwMDQD5GcUT8BTHPl3L17AMTYxQQk\n",
       "2CGSCfkBYPrNLqjOgikgpQkgJuuC/g0gmtMKKsdVEAi3YSnDe7Ai5glQAT6BbrhkAMN8sKsXM8Al\n",
       "o+FMFxd/AxAj6O5diIO4DB7CJFkZGJjAbnwCN+sUC4zVwMDAqwBirIVLbgRLAj3PCZTk+QDisGyA\n",
       "STJvBbqQ9RYDwxoQ5xfYB1fhWl3MFiw1XsAwWf8kA7f9H7Bz59TBHVn7XyUALbxbzkKCDwoAE7E8\n",
       "zQq+AAsAAAAASUVORK5CYII=\n",
       "\" style=\"display:inline;vertical-align:middle;\" /></a></span></td></tr>\n",
       "</table>"
      ],
      "text/plain": [
       "<proveit._core_.proof._ShowProof at 0x7f94ebd2dac8>"
      ]
     },
     "execution_count": 1,
     "metadata": {},
     "output_type": "execute_result"
    }
   ],
   "source": [
    "import proveit\n",
    "%show_proof"
   ]
  },
  {
   "cell_type": "code",
   "execution_count": null,
   "metadata": {},
   "outputs": [],
   "source": []
  }
 ],
 "metadata": {
  "kernelspec": {
   "display_name": "Python 3",
   "language": "python",
   "name": "python3"
  }
 },
 "nbformat": 4,
 "nbformat_minor": 0
}
