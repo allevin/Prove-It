{
 "cells": [
  {
   "cell_type": "markdown",
   "metadata": {},
   "source": [
    "Expression of type <a class=\"ProveItLink\" href=\"../../../../../../doc/html/api/proveit.logic.InSet.html\">InSet</a>\n",
    "=======================\n",
    "# from context <a class=\"ProveItLink\" href=\"../../_context_.ipynb\">proveit.number.addition</a>"
   ]
  },
  {
   "cell_type": "code",
   "execution_count": 1,
   "metadata": {},
   "outputs": [],
   "source": [
    "# import Expression classes needed to build the expression\n",
    "from proveit.logic import InSet\n",
    "from proveit.number import Complexes, Exp, three, two"
   ]
  },
  {
   "cell_type": "code",
   "execution_count": 2,
   "metadata": {},
   "outputs": [
    {
     "data": {
      "text/html": [
       "<strong id=\"expr\">expr:</strong> <a class=\"ProveItLink\" href=\"expr.ipynb\"><img src=\"data:image/png;base64,iVBORw0KGgoAAAANSUhEUgAAAFwAAAAZBAMAAABOVFS0AAAAMFBMVEX////c3NwiIiJERESqqqqY\n",
       "mJh2dnZmZmYQEBDu7u4yMjJUVFTMzMyIiIi6uroAAAAs73DqAAAAAXRSTlMAQObYZgAAAcxJREFU\n",
       "OMuVkz9Iw0AUxr/Y1iY2TQMODnUoddLFijqJ2EFxtJPgIgWhgiIGBwUnETfBBgdxUYsoUl2yOKhL\n",
       "py6KFEFwcBBBB5eqqFhR6+X+pNhisYHc3Xv53cv77t0D/v+M95g10F7Tm6oBr9OlzxpwOap8o5bH\n",
       "XQC0XJlz9E+8IQ6cAtlEF7PVxFgU3kwFd7H/3mIAk2SZhmQgz37RBO0LqNB//o21LwseEtyfQ/0L\n",
       "AiHqn47iGRguoz2+GDBk4R5nkE24HXyI4usc29gOt9nziGyfuqV29R/hgX7JC712Mq4oE7LLi2gE\n",
       "yaDk5GLxEbPUc+CIt4B6gy4bOa0Y96XEdu04Exa3svY+N9PawX1qfKCEr9Dx6oabfmJrCzRoxMHv\n",
       "Sjirq1wQdtKE+khVLIbDVKoSyf7CpQxcr9RoBvpiHFdFgkj7SvgSsFXguFI0bZwnExLIMMWZ8G4g\n",
       "kELdEzU/gHYdHib1UOCuUXLMWitrESIvhnxcIfXBJbQ35yBXhXyc9JqbnSz6LXkH53agJHVyhHPz\n",
       "pEQNjJP2xF1TZ4rLfK+si3qKhXMJ3MfsEvy6P3GxcFxT1VokXY4rVRs4yGenqXx6NVwqb77rKvAP\n",
       "wNRxeAnl9hAAAAAASUVORK5CYII=\n",
       "\" style=\"display:inline;vertical-align:middle;\" /></a><br>"
      ],
      "text/plain": [
       "expr: (3 , 3) in Complexes^{2}"
      ]
     },
     "execution_count": 2,
     "metadata": {},
     "output_type": "execute_result"
    }
   ],
   "source": [
    "# build up the expression from sub-expressions\n",
    "expr = InSet([three, three], Exp(Complexes, two))"
   ]
  },
  {
   "cell_type": "code",
   "execution_count": 3,
   "metadata": {},
   "outputs": [
    {
     "name": "stdout",
     "output_type": "stream",
     "text": [
      "Passed sanity check: built 'expr' is the same as the stored Expression.\n"
     ]
    }
   ],
   "source": [
    "# check that the built expression is the same as the stored expression\n",
    "%check_expr"
   ]
  },
  {
   "cell_type": "code",
   "execution_count": 4,
   "metadata": {},
   "outputs": [
    {
     "data": {
      "text/html": [
       "<table><tr><th>&nbsp;</th><th>core type</th><th>sub-expressions</th><th>expression</th></tr>\n",
       "<tr><td>0</td><td>Operation</td><td>operator:&nbsp;1<br>operands:&nbsp;2<br></td><td><a class=\"ProveItLink\" href=\"expr.ipynb\"><img src=\"data:image/png;base64,iVBORw0KGgoAAAANSUhEUgAAAFwAAAAZBAMAAABOVFS0AAAAMFBMVEX////c3NwiIiJERESqqqqY\n",
       "mJh2dnZmZmYQEBDu7u4yMjJUVFTMzMyIiIi6uroAAAAs73DqAAAAAXRSTlMAQObYZgAAAcxJREFU\n",
       "OMuVkz9Iw0AUxr/Y1iY2TQMODnUoddLFijqJ2EFxtJPgIgWhgiIGBwUnETfBBgdxUYsoUl2yOKhL\n",
       "py6KFEFwcBBBB5eqqFhR6+X+pNhisYHc3Xv53cv77t0D/v+M95g10F7Tm6oBr9OlzxpwOap8o5bH\n",
       "XQC0XJlz9E+8IQ6cAtlEF7PVxFgU3kwFd7H/3mIAk2SZhmQgz37RBO0LqNB//o21LwseEtyfQ/0L\n",
       "AiHqn47iGRguoz2+GDBk4R5nkE24HXyI4usc29gOt9nziGyfuqV29R/hgX7JC712Mq4oE7LLi2gE\n",
       "yaDk5GLxEbPUc+CIt4B6gy4bOa0Y96XEdu04Exa3svY+N9PawX1qfKCEr9Dx6oabfmJrCzRoxMHv\n",
       "Sjirq1wQdtKE+khVLIbDVKoSyf7CpQxcr9RoBvpiHFdFgkj7SvgSsFXguFI0bZwnExLIMMWZ8G4g\n",
       "kELdEzU/gHYdHib1UOCuUXLMWitrESIvhnxcIfXBJbQ35yBXhXyc9JqbnSz6LXkH53agJHVyhHPz\n",
       "pEQNjJP2xF1TZ4rLfK+si3qKhXMJ3MfsEvy6P3GxcFxT1VokXY4rVRs4yGenqXx6NVwqb77rKvAP\n",
       "wNRxeAnl9hAAAAAASUVORK5CYII=\n",
       "\" style=\"display:inline;vertical-align:middle;\" /></a></td></tr>\n",
       "<tr><td>1</td><td>Literal</td><td></td><td><a class=\"ProveItLink\" href=\"../../../../logic/set_theory/membership/__pv_it/088cbc857536a28d4119ad9639a84270ccb0545d0/expr.ipynb\"><img src=\"data:image/png;base64,iVBORw0KGgoAAAANSUhEUgAAAAwAAAAMBAMAAACkW0HUAAAALVBMVEX///+qqqpmZmZUVFQQEBC6\n",
       "urpERETc3NyYmJjMzMwiIiIyMjKIiIju7u4AAACYsrA9AAAAAXRSTlMAQObYZgAAADxJREFUCNdj\n",
       "YOA9vWrVBgaG2b0MQMCeCyIZ2ArA1DUwyRCyahVIyWQI7xaEYm4AU7xLIdxqTQgtvGvVBgCkcQ7e\n",
       "geM/tQAAAABJRU5ErkJggg==\n",
       "\" style=\"display:inline;vertical-align:middle;\" /></a></td></tr>\n",
       "<tr><td>2</td><td>ExprTuple</td><td>3, 4</td><td><a class=\"ProveItLink\" href=\"../967b58d603ad47b1233ead82c1360b72e24bcfd30/expr.ipynb\"><img src=\"data:image/png;base64,iVBORw0KGgoAAAANSUhEUgAAAGAAAAAcBAMAAABsVqexAAAAMFBMVEX///+qqqp2dnYiIiJERESI\n",
       "iIhmZmYQEBDc3NyYmJgyMjLu7u5UVFTMzMy6uroAAACGxKilAAAAAXRSTlMAQObYZgAAAgVJREFU\n",
       "OMuVVD1IG2EYfvJnLl4uaZdCXRocHMTBoUhBBAN1KGQ4yJDFIVToUoR0F73BSRzS4tRCiYugKeVw\n",
       "zNBkcLCtQ8isRuxQ2sFEpKgEE9/v10vqcH7w3fu8937Pvb/fAX7XWMbFQ9aQO1SS8MwXIeQYN0gx\n",
       "ZNV8EaKPzC4OGar4DS3QQcQm+Z12wh4wxk7+JwxTQC8Ao0CYXDVG09LA0aLnZHbn8nkemCA4T9kT\n",
       "RBlGHi3hRqDhu/PHXez+qyHGMq66iJJzCi14juQktwvEzSK6eBF4VsMpjqhWRTRZBVwENEEgs6AI\n",
       "n6KsCzUr/fgnyVnkSP3LLS2dOUMqI+TX6WHa0V6vTe7a+EHqa275oqNmaExiM3/qyT/RQYbENuvf\n",
       "uGqgQCNKSz31EKwbbJFY5kpO156h35rwx0Mwupgi0RXN7+gxINRUIc02PATzXBGMOsLX4iMCKQLK\n",
       "8X4PLMF31JGOIkikQsIHTpADRxO7R+IVkCwhdMVfC4SP6lj4MxU5MS2rdIWsKGGkiFbKvIBEoqxc\n",
       "x8Gc++2l9EB9aJH4RfvJm02YK45EwFdG4Lq10FtSBQyWkKxTVRzVF0eXo9CvqxG3ESf3etJi2hK0\n",
       "+3W5qg6sST7eg4QK7iVsQEzZutTvLt7+gC7XDO01Vt5BS6R+77WOsdsWSPn/Oa3y53v/hLd4+LoF\n",
       "I+GI6oQigtAAAAAASUVORK5CYII=\n",
       "\" style=\"display:inline;vertical-align:middle;\" /></a></td></tr>\n",
       "<tr><td>3</td><td>ExprTuple</td><td>5, 5</td><td><a class=\"ProveItLink\" href=\"../c017262dc935bab7587f0744a3b31563e3ec1f2b0/expr.ipynb\"><img src=\"data:image/png;base64,iVBORw0KGgoAAAANSUhEUgAAACkAAAAVBAMAAAAp9toTAAAAMFBMVEX////c3NwiIiJERESqqqqY\n",
       "mJh2dnZmZmYQEBDu7u4yMjJUVFTMzMyIiIi6uroAAAAs73DqAAAAAXRSTlMAQObYZgAAAQ9JREFU\n",
       "GNNtkS1PA0EQhp+jvXIH7fUcAgT/AAOac0iqkKQJSUlICFU0QSHQ9CSOEyAIpj+hqgZTQ4JANEjM\n",
       "AQGSkvAxO909cWHFZt5nszPvzMD/JxqXwK657mDUWZ+BemcvYX4o0Q1el3z2YYnoGzJojKm901xV\n",
       "epTwBjsQpFQLuq30Ap5V5q6kyVBJOFZx6wwsDKDW5dqUPhhYODLP1YxzVQ8Tixuio1N+VARTl6Kf\n",
       "Un8x1BtS+VC0ApstQ8/gcmpp+JsaKhk2oJkx90oq+AvWYvyMfanQIm+HYp97ok919iRiq3dF2I/F\n",
       "U+8kEc8Tgth15QLTsd+2sV8M+FAnWaKhTJJlK4qVLJpUXnlDj/AHHh5B6Heel5EAAAAASUVORK5C\n",
       "YII=\n",
       "\" style=\"display:inline;vertical-align:middle;\" /></a></td></tr>\n",
       "<tr><td>4</td><td>Operation</td><td>operator:&nbsp;6<br>operands:&nbsp;7<br></td><td><a class=\"ProveItLink\" href=\"../e85e9ca78d1a4564103466d9cefc2e310cc417b30/expr.ipynb\"><img src=\"data:image/png;base64,iVBORw0KGgoAAAANSUhEUgAAABcAAAAUBAMAAACUkLs9AAAAMFBMVEX////c3NyqqqqYmJhUVFR2\n",
       "dnbu7u66urrMzMxmZmZEREQQEBAyMjIiIiKIiIgAAAB7fvZ0AAAAAXRSTlMAQObYZgAAAJRJREFU\n",
       "GNNjYIAC1lluDHAwjWEOgnORQb4BztnEkF+AkGLQT0DiHAURfHfO710JNM4ByOaoL2CLf8LAYAqS\n",
       "MHBmYGD6wsAewNHAwJywASgyhaFLSSWBgZMRpDaPYf///wwMmewBCANbmQyQOOxInCwOJGU8CQ4I\n",
       "DnMAiMMG5S2uAxK1UEeyeD1jq1oGU9h5/7c7hAUA0KsgFpNdq2UAAAAASUVORK5CYII=\n",
       "\" style=\"display:inline;vertical-align:middle;\" /></a></td></tr>\n",
       "<tr><td>5</td><td>Literal</td><td></td><td><a class=\"ProveItLink\" href=\"../../../numeral/__pv_it/9176d93c83afa2c995b614976e3cb49207102fa70/expr.ipynb\"><img src=\"data:image/png;base64,iVBORw0KGgoAAAANSUhEUgAAAAoAAAAOBAMAAADkjZCYAAAAMFBMVEX///+YmJju7u4QEBBUVFQy\n",
       "MjIiIiKIiIi6urpmZmbc3NyqqqpERER2dnbMzMwAAAB0GlNiAAAAAXRSTlMAQObYZgAAAE1JREFU\n",
       "CNdjYHh79zQDA9cEhv4CBt7fDPwJDNxgEgiAIkAQAsR8Vx1ATIbiBhDJ/ImB6wEDz0cG/U8gkj+A\n",
       "ge0XA7sAQ/8FBoadM6MZAEflFACalZ/OAAAAAElFTkSuQmCC\n",
       "\" style=\"display:inline;vertical-align:middle;\" /></a></td></tr>\n",
       "<tr><td>6</td><td>Literal</td><td></td><td><a class=\"ProveItLink\" href=\"../../../exponentiation/__pv_it/deb2bf23cbccdd6e6791e1b35b5b9794ce12dbd50/expr.ipynb\"><img src=\"data:image/png;base64,iVBORw0KGgoAAAANSUhEUgAAACgAAAASBAMAAADbMYGVAAAAMFBMVEX///8QEBAiIiKYmJjc3Nzu\n",
       "7u7MzMx2dnZmZma6urpERESqqqoyMjJUVFSIiIgAAAAoDOMTAAAAAXRSTlMAQObYZgAAAOBJREFU\n",
       "GNNjYGB4+//u3Tt/GNAASGAXmhjnPyDBgSbI/g1IxKEJ8nxgYGdgQRPkX8BgDKRY6q7s62OYvmze\n",
       "2wAgb/7ZO1+AVDiDkYEQQ0HTBr4DQF59AgOIKmB4z7CNbcNZBu6vQN55kEACQwDDLQYGVobfDHwg\n",
       "fb8YGBxYHwAZciD3fWXg+gB1JjvQcJZvQIXsCgz8F6DO9GBgMOH7wPCUgaeBwd4B7EwGNjUG7s9c\n",
       "AiwPgO5jkWRgiF3/9+5dfQUG1nWl5Y+B7pv+1gE9bBhqGLCAE1jEWH9jEbT5A3IwAC4sP/1L6Qlu\n",
       "AAAAAElFTkSuQmCC\n",
       "\" style=\"display:inline;vertical-align:middle;\" /></a></td></tr>\n",
       "<tr><td>7</td><td>ExprTuple</td><td>8, 9</td><td><a class=\"ProveItLink\" href=\"../2dcb921ccddaae86d4720128269a83fb07af52bb0/expr.ipynb\"><img src=\"data:image/png;base64,iVBORw0KGgoAAAANSUhEUgAAAC8AAAAVBAMAAAAk6KpUAAAAMFBMVEX////c3NwiIiJERESqqqqY\n",
       "mJh2dnZmZmYQEBDu7u4yMjJUVFTMzMyIiIi6uroAAAAs73DqAAAAAXRSTlMAQObYZgAAASlJREFU\n",
       "KM91kT9Iw0AUh79gY5s2KcXVxdklLkXc3Fw7OUqnOolFQQcHizg4yYGDXcSAODg1IA4u2kkHF1fR\n",
       "IdZNEP8gIgjWdz1JGqoHd/zu9717794d/DuK14PenF6uZHrjrY1J41mrBxHZtqgjcJ8jZ/HWgFG8\n",
       "dwgkWDJVTiDzZcAp+DALOYWtGuKsGbClOI9owiNkrVCcPQNaivWIoWlWYLdYTd3JVwzXOYSLTKXf\n",
       "dz+kYsC2gGIK5CekuQbfsOOmUi3rUy8a5FXY53uhAZtgV7V2fsEMVkmnKosuP8nSUT3k1rFL2AHz\n",
       "sikc3zgPU+yPiR6p1ZbQ1+3osEv/8wyar7qJbvdNykbkSknd+1g1deUEJO0smGcfAE7Q+4C4g1gV\n",
       "dH7rj6+9gx9TyUZLshpvbQAAAABJRU5ErkJggg==\n",
       "\" style=\"display:inline;vertical-align:middle;\" /></a></td></tr>\n",
       "<tr><td>8</td><td>Literal</td><td></td><td><a class=\"ProveItLink\" href=\"../../../sets/complex/__pv_it/c357845f93a5a2d9f649129d299e7ec28dda4b960/expr.ipynb\"><img src=\"data:image/png;base64,iVBORw0KGgoAAAANSUhEUgAAAA8AAAAOBAMAAAACpFvcAAAAMFBMVEX////c3NyqqqqYmJhUVFR2\n",
       "dnbu7u66urrMzMxmZmZEREQQEBAyMjIiIiKIiIgAAAB7fvZ0AAAAAXRSTlMAQObYZgAAAGVJREFU\n",
       "CNdjYGDgu3N+70oGBgaO+gK2+CdAhoEzAwPTFwYG5oQNQN4UBgZORgcgI4+BIZM9gAEMWpkMoAx2\n",
       "KCOLAyrFk+AAYTAHgBhsQLy4DkjUJjAwsHg9Y6taBpLsvP/bnYEBACkBFGQfBv8RAAAAAElFTkSu\n",
       "QmCC\n",
       "\" style=\"display:inline;vertical-align:middle;\" /></a></td></tr>\n",
       "<tr><td>9</td><td>Literal</td><td></td><td><a class=\"ProveItLink\" href=\"../../../numeral/__pv_it/77d407a64829263cdc16415becd4c2293f77a4bf0/expr.ipynb\"><img src=\"data:image/png;base64,iVBORw0KGgoAAAANSUhEUgAAAAkAAAAOBAMAAAAPuiubAAAAMFBMVEX///+YmJh2dnbMzMwQEBAi\n",
       "IiLu7u6qqqqIiIhUVFS6urpEREQyMjJmZmbc3NwAAACOMKdoAAAAAXRSTlMAQObYZgAAAFBJREFU\n",
       "CNdj4Lt7egEDw0sGju8MDNMYGOIZGFwSGOYvYDifwHAfKAEUSQASzJ9ATJ4NIPI2iOCYACJrGfge\n",
       "MDBfYGB8wPBUSekqUPH//18ZAIliFhc3zESNAAAAAElFTkSuQmCC\n",
       "\" style=\"display:inline;vertical-align:middle;\" /></a></td></tr>\n",
       "</table>\n"
      ],
      "text/plain": [
       "0. (3 , 3) in Complexes^{2}\n",
       "   core type: Operation\n",
       "   operator: 1\n",
       "   operands: 2\n",
       "1. in\n",
       "   core type: Literal\n",
       "   sub-expressions: \n",
       "2. ((3 , 3) , Complexes^{2})\n",
       "   core type: ExprTuple\n",
       "   sub-expressions: 3, 4\n",
       "3. (3 , 3)\n",
       "   core type: ExprTuple\n",
       "   sub-expressions: 5, 5\n",
       "4. Complexes^{2}\n",
       "   core type: Operation\n",
       "   operator: 6\n",
       "   operands: 7\n",
       "5. 3\n",
       "   core type: Literal\n",
       "   sub-expressions: \n",
       "6. Exp\n",
       "   core type: Literal\n",
       "   sub-expressions: \n",
       "7. (Complexes , 2)\n",
       "   core type: ExprTuple\n",
       "   sub-expressions: 8, 9\n",
       "8. Complexes\n",
       "   core type: Literal\n",
       "   sub-expressions: \n",
       "9. 2\n",
       "   core type: Literal\n",
       "   sub-expressions: "
      ]
     },
     "execution_count": 4,
     "metadata": {},
     "output_type": "execute_result"
    }
   ],
   "source": [
    "# display the expression information\n",
    "expr.exprInfo()"
   ]
  },
  {
   "cell_type": "code",
   "execution_count": null,
   "metadata": {},
   "outputs": [],
   "source": []
  }
 ],
 "metadata": {
  "kernelspec": {
   "display_name": "Python 3",
   "language": "python",
   "name": "python3"
  }
 },
 "nbformat": 4,
 "nbformat_minor": 0
}
