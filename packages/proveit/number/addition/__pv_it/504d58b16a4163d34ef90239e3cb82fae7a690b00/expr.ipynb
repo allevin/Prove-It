{
 "cells": [
  {
   "cell_type": "markdown",
   "metadata": {},
   "source": [
    "Expression of type <a class=\"ProveItLink\" href=\"../../../../../../doc/html/api/proveit.number.Add.html\">Add</a>\n",
    "=======================\n",
    "# from context <a class=\"ProveItLink\" href=\"../../_context_.ipynb\">proveit.number.addition</a>"
   ]
  },
  {
   "cell_type": "code",
   "execution_count": 1,
   "metadata": {},
   "outputs": [],
   "source": [
    "# import Expression classes needed to build the expression\n",
    "from proveit._common_ import A, B, C, a, b, c\n",
    "from proveit.number import Add, one, three"
   ]
  },
  {
   "cell_type": "code",
   "execution_count": 2,
   "metadata": {},
   "outputs": [
    {
     "data": {
      "text/html": [
       "<strong id=\"expr\">expr:</strong> <a class=\"ProveItLink\" href=\"expr.ipynb\"><img src=\"data:image/png;base64,iVBORw0KGgoAAAANSUhEUgAAAV8AAAAQBAMAAABD4mG/AAAAMFBMVEX////MzMx2dna6uroiIiKq\n",
       "qqrc3NyYmJgyMjIQEBBmZmaIiIhUVFTu7u5EREQAAACN3imBAAAAAXRSTlMAQObYZgAAAq9JREFU\n",
       "SMeVlc9r02AYx5+Std3SxhbxKGyKFxm6epwe5k2GyCJ487B4EESGzX9gwaERChsOZLf21m2HtXoR\n",
       "LLjdxBls/IFMENlNREbnsFpYu/qmabI8z9OSWMhL8833fZ5Pnvd53wDALoT6ncC3ypvL1BGvtcx3\n",
       "D6iqvNoqxYpB0SlE5PR5dQDDt3Y44AVyP7zJLCM7AOUMEc/qIK3qAcEZxF2QDvozfDVdr6Ixw2df\n",
       "+WYsbEupbN5oRVybWNy+JoYJrX8GV+AQEyr8ZlgOQ8L1RisM+ObR39tlDdumLDZvQ1juj2HxsW2b\n",
       "HJDBExjErAfsm+QwhASubGSw7QzLCj/ENW0hUW44C/y/wOC1hG+Sw8C9c88nNQosWbM6tuWrr2nE\n",
       "FsCdXSxmc/b4njg/jD8LBHb3iO8VHAbmlZ5CnVX4Y7dBfTblEFJpHDHSqr68QoKV9T4FjSzBfBDw\n",
       "8Tx7hR4D82Z1WGfAGcgWkS3ahhHSrok/AJ9IXWa0PsBfKvA9sMKJJar0GJi3BnCVAkdMs7aDbHIO\n",
       "UkUc8diiiPYXB+t0R4tlCO5hKFhkAXsMjlc2jPllw7DrcwjKL1taMYxpw3BWRhKHbA7ZhoowpaN5\n",
       "kBJjfB8HK3RzpmkGkpJD3AKok/AuA3252AFE9xRSYXHmDi0imziGy6QEoyJDskGKaXtkliGowkrH\n",
       "6gL7PS4D8zYgmbuOgWPCPLyHgdPwhGS1j2HnVDgSu9vkHOETbRMPaImm1/6u4jEw7yO4URzDwNt2\n",
       "h7aRLanK9NwRx3BkmbRrXFT8okYybAGcCgB+AdI+VlwGebVZwk/mqhd+ZhDwvcJDiNebaI8pb0sk\n",
       "x3rHNA2dLvbJ/JpKO0Aer5LPC4OIrq2oSEEMYb50g2195oUVuSuM4n1I+JNLYWxSJVywUFMDlX9Y\n",
       "LDMj/dE9yQAAAABJRU5ErkJggg==\n",
       "\" style=\"display:inline;vertical-align:middle;\" /></a><br>"
      ],
      "text/plain": [
       "expr: 1 + a + A + b + B + C + c + 1 + 3 + A"
      ]
     },
     "execution_count": 2,
     "metadata": {},
     "output_type": "execute_result"
    }
   ],
   "source": [
    "# build up the expression from sub-expressions\n",
    "expr = Add(one, a, A, b, B, C, c, one, three, A)"
   ]
  },
  {
   "cell_type": "code",
   "execution_count": 3,
   "metadata": {},
   "outputs": [
    {
     "name": "stdout",
     "output_type": "stream",
     "text": [
      "Passed sanity check: built 'expr' is the same as the stored Expression.\n"
     ]
    }
   ],
   "source": [
    "# check that the built expression is the same as the stored expression\n",
    "%check_expr"
   ]
  },
  {
   "cell_type": "code",
   "execution_count": 4,
   "metadata": {},
   "outputs": [
    {
     "data": {
      "text/html": [
       "<table><tr><th>&nbsp;</th><th>core type</th><th>sub-expressions</th><th>expression</th></tr>\n",
       "<tr><td>0</td><td>Operation</td><td>operator:&nbsp;1<br>operands:&nbsp;2<br></td><td><a class=\"ProveItLink\" href=\"expr.ipynb\"><img src=\"data:image/png;base64,iVBORw0KGgoAAAANSUhEUgAAAV8AAAAQBAMAAABD4mG/AAAAMFBMVEX////MzMx2dna6uroiIiKq\n",
       "qqrc3NyYmJgyMjIQEBBmZmaIiIhUVFTu7u5EREQAAACN3imBAAAAAXRSTlMAQObYZgAAAq9JREFU\n",
       "SMeVlc9r02AYx5+Std3SxhbxKGyKFxm6epwe5k2GyCJ487B4EESGzX9gwaERChsOZLf21m2HtXoR\n",
       "LLjdxBls/IFMENlNREbnsFpYu/qmabI8z9OSWMhL8833fZ5Pnvd53wDALoT6ncC3ypvL1BGvtcx3\n",
       "D6iqvNoqxYpB0SlE5PR5dQDDt3Y44AVyP7zJLCM7AOUMEc/qIK3qAcEZxF2QDvozfDVdr6Ixw2df\n",
       "+WYsbEupbN5oRVybWNy+JoYJrX8GV+AQEyr8ZlgOQ8L1RisM+ObR39tlDdumLDZvQ1juj2HxsW2b\n",
       "HJDBExjErAfsm+QwhASubGSw7QzLCj/ENW0hUW44C/y/wOC1hG+Sw8C9c88nNQosWbM6tuWrr2nE\n",
       "FsCdXSxmc/b4njg/jD8LBHb3iO8VHAbmlZ5CnVX4Y7dBfTblEFJpHDHSqr68QoKV9T4FjSzBfBDw\n",
       "8Tx7hR4D82Z1WGfAGcgWkS3ahhHSrok/AJ9IXWa0PsBfKvA9sMKJJar0GJi3BnCVAkdMs7aDbHIO\n",
       "UkUc8diiiPYXB+t0R4tlCO5hKFhkAXsMjlc2jPllw7DrcwjKL1taMYxpw3BWRhKHbA7ZhoowpaN5\n",
       "kBJjfB8HK3RzpmkGkpJD3AKok/AuA3252AFE9xRSYXHmDi0imziGy6QEoyJDskGKaXtkliGowkrH\n",
       "6gL7PS4D8zYgmbuOgWPCPLyHgdPwhGS1j2HnVDgSu9vkHOETbRMPaImm1/6u4jEw7yO4URzDwNt2\n",
       "h7aRLanK9NwRx3BkmbRrXFT8okYybAGcCgB+AdI+VlwGebVZwk/mqhd+ZhDwvcJDiNebaI8pb0sk\n",
       "x3rHNA2dLvbJ/JpKO0Aer5LPC4OIrq2oSEEMYb50g2195oUVuSuM4n1I+JNLYWxSJVywUFMDlX9Y\n",
       "LDMj/dE9yQAAAABJRU5ErkJggg==\n",
       "\" style=\"display:inline;vertical-align:middle;\" /></a></td></tr>\n",
       "<tr><td>1</td><td>Literal</td><td></td><td><a class=\"ProveItLink\" href=\"../3e6688136fa3c7aefbebe51301b7c3ebf0b69c440/expr.ipynb\"><img src=\"data:image/png;base64,iVBORw0KGgoAAAANSUhEUgAAAA4AAAAOBAMAAADtZjDiAAAAJFBMVEX///+6urpUVFQQEBAiIiIy\n",
       "MjJmZmaIiIiqqqrc3Nzu7u4AAACgHpL+AAAAAXRSTlMAQObYZgAAAB5JREFUCNdjYGBgWMkAAe2k\n",
       "0Kmhoc6hoUGk6BMHYgAHOwjcado9fwAAAABJRU5ErkJggg==\n",
       "\" style=\"display:inline;vertical-align:middle;\" /></a></td></tr>\n",
       "<tr><td>2</td><td>ExprTuple</td><td>8, 3, 10, 4, 5, 6, 7, 8, 9, 10</td><td><a class=\"ProveItLink\" href=\"../e1804aee25254596833d357d14af94356ad104150/expr.ipynb\"><img src=\"data:image/png;base64,iVBORw0KGgoAAAANSUhEUgAAANoAAAAVBAMAAADSje2JAAAAMFBMVEX////c3NwiIiJERESqqqqY\n",
       "mJh2dnZmZmYQEBDu7u4yMjJUVFTMzMyIiIi6uroAAAAs73DqAAAAAXRSTlMAQObYZgAAAxJJREFU\n",
       "SMe9Vk9IFFEY/43u7O7kzOxCggcDPQYRdkiwInbpEoTgULc6uBTUJWn7YxsRaJSBHdyFIKSozBAJ\n",
       "oewQhoOsdIjAg3upU4trlywCLdNwTe39nRln1usuO7u/9973+37v+977vl2gui+zUCUhtUQ+ZshT\n",
       "m6u0rDfzb+1ds5w6s2Xbh0ty9ORIxmrwsw5J9vlzSXf2PXlukeclcZeoqLZrSYJxZ+4OENkUONwH\n",
       "fOvzkR6sCdAAc8Odfk3dAEYBmp2vqHZSEmPOJnXiQF8XIQ8TVvjXds5jW5IuJfHbzWILsVVTiFKh\n",
       "uUpqynHpadFZNsiUuioi7qen3utjGVKtw6tW3xMn2+vFD+ykZhgyZWeduVrivKaf4x4asZLeSQ3e\n",
       "TBbm6GEfxPVtao2fF+LS4ntoRaCx4luZ03EoL7ixUmbpnOYLD7u+BNTc4zZzHRb5uoARr5p5Gwlp\n",
       "oZV0sTdtGTHhdHaqeMXiMLLivb4DGParfRhzlp9iltbZCQx41ZosXHX2A+UvR6E1RFMczsWh7eOw\n",
       "xns/BgtoDcRmDEhUQhPN+AI2vWp5YL+0mLHtZRHFEGLieNqoMQ8uxupDc4jBc0NWuNVtO3+AZma7\n",
       "2jK0f+5+cF9EkcaiSB+9/J08zihTa5fEgNoeIGHJNCE6xNTuetSUDYSWxG5D5NnrlFsPN9DpWeV5\n",
       "9dUxt2lJ9KtpWzlHjRBqelkmW6UaeWt/UDfUDua5njcAqk2uyD2eMlpu9C5qotAR5kSQXaicR9WY\n",
       "LTFriTOkJEVfOk1uJVfTaCmO4Fg6xZBGIycN7RlpkXXJyDgDrNw+klbHBp1JmJfBiRPARQaYGlv+\n",
       "BHOVo0eUucYq4Cv5zGRHLS1LCq2x+PNoiSKlrRzHqa1RDJJotKluMBBJrNuTtGToAPrkxDW6L0qM\n",
       "dBVzHNwod/PlUOZmkqHd2edQE2WS81eIymo2nbJ2EXnNB4B/YAY9zFc0JJ1LTcnG6bZQr18rAPwD\n",
       "NcizKhqGC+wXp0pq9PwaZeN0W6i3yQZAYFAIAKOy4Rt6P6v1T8GYxn+FyfJaAZqSxgAAAABJRU5E\n",
       "rkJggg==\n",
       "\" style=\"display:inline;vertical-align:middle;\" /></a></td></tr>\n",
       "<tr><td>3</td><td>Variable</td><td></td><td><a class=\"ProveItLink\" href=\"../../../../__pv_it/07527342713064c87612d00d8557c53d53d5324a0/expr.ipynb\"><img src=\"data:image/png;base64,iVBORw0KGgoAAAANSUhEUgAAAAsAAAAJBAMAAAAWSsseAAAAMFBMVEX///8yMjKqqqrMzMzu7u4i\n",
       "IiJmZmaYmJhEREQQEBC6urp2dnaIiIhUVFTc3NwAAAD87Fq/AAAAAXRSTlMAQObYZgAAAEhJREFU\n",
       "CNdjYOC7s2seAwPDygccHxgY+L4zsDUwMPB+YGA9wMDA38Dgb8DA8P4Agz6DA4O/AsNFJgMGxgKm\n",
       "MG6gyjunLE4xAAAZTBA5TB6DCwAAAABJRU5ErkJggg==\n",
       "\" style=\"display:inline;vertical-align:middle;\" /></a></td></tr>\n",
       "<tr><td>4</td><td>Variable</td><td></td><td><a class=\"ProveItLink\" href=\"../../../../__pv_it/6840a4fa6c106149dc16a131294d0c5e44f1b0480/expr.ipynb\"><img src=\"data:image/png;base64,iVBORw0KGgoAAAANSUhEUgAAAAkAAAAOBAMAAAAPuiubAAAALVBMVEX///9mZmbMzMxERESYmJiI\n",
       "iIh2dna6urqqqqoyMjIiIiIQEBBUVFTu7u4AAAD9S1JeAAAAAXRSTlMAQObYZgAAAE1JREFUCNdj\n",
       "4D29gAEIOA+ASL4GEFl3AURmgQiGOaFHGBh4HzPwKTBwvGXgTmBgnMDAJ8DAJcBQ5wBSLncBJLWN\n",
       "gYGngRFoBO9REQYGAGrcDtUkVqASAAAAAElFTkSuQmCC\n",
       "\" style=\"display:inline;vertical-align:middle;\" /></a></td></tr>\n",
       "<tr><td>5</td><td>Variable</td><td></td><td><a class=\"ProveItLink\" href=\"../../../../__pv_it/077b2ff79244fb4582cbe22c6e3356fa92a52f2f0/expr.ipynb\"><img src=\"data:image/png;base64,iVBORw0KGgoAAAANSUhEUgAAABAAAAAOBAMAAADUAYG5AAAAMFBMVEX///+qqqru7u4iIiJ2dnbc\n",
       "3NyIiIjMzMxmZmYQEBC6uroyMjJERERUVFSYmJgAAADLUcuvAAAAAXRSTlMAQObYZgAAAGpJREFU\n",
       "CNdjYGB4+//u3dMLGIBgDgMDxy8gzf4NiP8CGWxfGRj4vgAZPBMYGJgnARn8FxhY9ygAGfXX0pof\n",
       "gDTlBzAw2YIYJ0EckBBI53sHoBH/gIz7AhBjWH9DjancBLTl/N+7t/cxMAAA3u4f/5xagjYAAAAA\n",
       "SUVORK5CYII=\n",
       "\" style=\"display:inline;vertical-align:middle;\" /></a></td></tr>\n",
       "<tr><td>6</td><td>Variable</td><td></td><td><a class=\"ProveItLink\" href=\"../../../../__pv_it/985a1bdf1540838275dec15f4ad6de261cca93ce0/expr.ipynb\"><img src=\"data:image/png;base64,iVBORw0KGgoAAAANSUhEUgAAAA8AAAAOBAMAAAACpFvcAAAAMFBMVEX////MzMyqqqoiIiIyMjK6\n",
       "uroQEBB2dnbc3NyYmJhmZmZUVFRERESIiIju7u4AAAB204erAAAAAXRSTlMAQObYZgAAAGZJREFU\n",
       "CNdjYGDgu7NrJccCBgaGsgkMrMsmMDA8sQNy6hsYGNweABlhDAxcn4A0QxcDQ78DiPGQgWH9BAYI\n",
       "sG+AMv6DSaCGfBDNJMDAsB+kmwuI5S8AiTog5gSaEwXWIO29SgFIAQBC+RaDQlidVgAAAABJRU5E\n",
       "rkJggg==\n",
       "\" style=\"display:inline;vertical-align:middle;\" /></a></td></tr>\n",
       "<tr><td>7</td><td>Variable</td><td></td><td><a class=\"ProveItLink\" href=\"../../../../__pv_it/cbdfda466482236edba0ce44ac7ef39cda0af7a40/expr.ipynb\"><img src=\"data:image/png;base64,iVBORw0KGgoAAAANSUhEUgAAAAkAAAAJBAMAAAASvxsjAAAALVBMVEX///9mZmbc3NxUVFSYmJhE\n",
       "REQiIiIyMjK6uroQEBDMzMyIiIh2dnbu7u4AAABgFDGoAAAAAXRSTlMAQObYZgAAADZJREFUCNdj\n",
       "YOA9s3sBA8PKBvYEBt7ZDKwODMwPGICALwBE6m0Asx0YGIDiAgw8QJUyu/cyAAAmuwmycZ8WfQAA\n",
       "AABJRU5ErkJggg==\n",
       "\" style=\"display:inline;vertical-align:middle;\" /></a></td></tr>\n",
       "<tr><td>8</td><td>Literal</td><td></td><td><a class=\"ProveItLink\" href=\"../../../numeral/__pv_it/9be8badea4c35b9724062cecc501d17a3158d1d20/expr.ipynb\"><img src=\"data:image/png;base64,iVBORw0KGgoAAAANSUhEUgAAAAgAAAAPBAMAAAArJJMAAAAAHlBMVEX///+YmJgyMjIQEBBmZmaI\n",
       "iIhUVFTu7u5EREQAAAAw+MI4AAAAAXRSTlMAQObYZgAAACFJREFUCNdjYGBoZ2BgqJjOwFCWBiQY\n",
       "WEklWJwnOTKAAACjEQo8HvEr3AAAAABJRU5ErkJggg==\n",
       "\" style=\"display:inline;vertical-align:middle;\" /></a></td></tr>\n",
       "<tr><td>9</td><td>Literal</td><td></td><td><a class=\"ProveItLink\" href=\"../../../numeral/__pv_it/9176d93c83afa2c995b614976e3cb49207102fa70/expr.ipynb\"><img src=\"data:image/png;base64,iVBORw0KGgoAAAANSUhEUgAAAAoAAAAOBAMAAADkjZCYAAAAMFBMVEX///+YmJju7u4QEBBUVFQy\n",
       "MjIiIiKIiIi6urpmZmbc3NyqqqpERER2dnbMzMwAAAB0GlNiAAAAAXRSTlMAQObYZgAAAE1JREFU\n",
       "CNdjYHh79zQDA9cEhv4CBt7fDPwJDNxgEgiAIkAQAsR8Vx1ATIbiBhDJ/ImB6wEDz0cG/U8gkj+A\n",
       "ge0XA7sAQ/8FBoadM6MZAEflFACalZ/OAAAAAElFTkSuQmCC\n",
       "\" style=\"display:inline;vertical-align:middle;\" /></a></td></tr>\n",
       "<tr><td>10</td><td>Variable</td><td></td><td><a class=\"ProveItLink\" href=\"../../../../__pv_it/2cbe72a7ad6f655694dd697106680215e8489b600/expr.ipynb\"><img src=\"data:image/png;base64,iVBORw0KGgoAAAANSUhEUgAAAA8AAAAOBAMAAAACpFvcAAAALVBMVEX///8QEBBERERUVFS6urqI\n",
       "iIhmZmaqqqrc3Nzu7u6YmJgyMjIiIiLMzMwAAADtIaYWAAAAAXRSTlMAQObYZgAAAFtJREFUCNdj\n",
       "YACBOwxQsA9Kc52bAGG05zVAGAFxDmCaZULdAjBjCsO9ADDDgaEvAUTzGhvbKYCVMDAwbgAxChgY\n",
       "eASANAeQwf0AyJgNxEwvGRia5HYwcOm9TgAA6BoR3jrzwFcAAAAASUVORK5CYII=\n",
       "\" style=\"display:inline;vertical-align:middle;\" /></a></td></tr>\n",
       "</table>\n"
      ],
      "text/plain": [
       "0. 1 + a + A + b + B + C + c + 1 + 3 + A\n",
       "   core type: Operation\n",
       "   operator: 1\n",
       "   operands: 2\n",
       "1. +\n",
       "   core type: Literal\n",
       "   sub-expressions: \n",
       "2. (1 , a , A , b , B , C , c , 1 , 3 , A)\n",
       "   core type: ExprTuple\n",
       "   sub-expressions: 8, 3, 10, 4, 5, 6, 7, 8, 9, 10\n",
       "3. a\n",
       "   core type: Variable\n",
       "   sub-expressions: \n",
       "4. b\n",
       "   core type: Variable\n",
       "   sub-expressions: \n",
       "5. B\n",
       "   core type: Variable\n",
       "   sub-expressions: \n",
       "6. C\n",
       "   core type: Variable\n",
       "   sub-expressions: \n",
       "7. c\n",
       "   core type: Variable\n",
       "   sub-expressions: \n",
       "8. 1\n",
       "   core type: Literal\n",
       "   sub-expressions: \n",
       "9. 3\n",
       "   core type: Literal\n",
       "   sub-expressions: \n",
       "10. A\n",
       "    core type: Variable\n",
       "    sub-expressions: "
      ]
     },
     "execution_count": 4,
     "metadata": {},
     "output_type": "execute_result"
    }
   ],
   "source": [
    "# display the expression information\n",
    "expr.exprInfo()"
   ]
  },
  {
   "cell_type": "code",
   "execution_count": null,
   "metadata": {},
   "outputs": [],
   "source": []
  }
 ],
 "metadata": {
  "kernelspec": {
   "display_name": "Python 3",
   "language": "python",
   "name": "python3"
  }
 },
 "nbformat": 4,
 "nbformat_minor": 0
}
