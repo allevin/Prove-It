{
 "cells": [
  {
   "cell_type": "markdown",
   "metadata": {},
   "source": [
    "Expression of type <a class=\"ProveItLink\" href=\"../../../../../../doc/html/api/proveit.number.Add.html\">Add</a>\n",
    "=======================\n",
    "# from context <a class=\"ProveItLink\" href=\"../../_context_.ipynb\">proveit.number.addition</a>"
   ]
  },
  {
   "cell_type": "code",
   "execution_count": 1,
   "metadata": {},
   "outputs": [],
   "source": [
    "# import Expression classes needed to build the expression\n",
    "from proveit._common_ import a, b, c\n",
    "from proveit.number import Add, one, three, two"
   ]
  },
  {
   "cell_type": "code",
   "execution_count": 2,
   "metadata": {},
   "outputs": [
    {
     "data": {
      "text/html": [
       "<strong id=\"expr\">expr:</strong> <a class=\"ProveItLink\" href=\"expr.ipynb\"><img src=\"data:image/png;base64,iVBORw0KGgoAAAANSUhEUgAAAUUAAAAQBAMAAABzbnCeAAAAMFBMVEX///8yMjKqqqrMzMzu7u4i\n",
       "IiJmZmaYmJhEREQQEBC6urp2dnaIiIhUVFTc3NwAAAD87Fq/AAAAAXRSTlMAQObYZgAAAkRJREFU\n",
       "SMe11cFr01AcB/BvsyR2qU3MYeJlkD9AWE+iePBdRWZ7GogH28s8iJi/QHoTvAxBL1OcV0HYQBSx\n",
       "AwMbG4yOVQ+KUFlB2NHVrboxBzWpfe37/ZoRe+g7fgjf9+3LL6/AiNb0Ewb61wJ/Ji0Y7JQeUhir\n",
       "vPMwujXJIVXjredYR7uGLVppB9YxgesD++iNoaGXssfB8Sjo37YFlayA0STywcMvkn5+oKMWDA0y\n",
       "xWrx2EXB99liMv4Y2SMiUyPtmCnw2DdI6phqwTxiz3TetV1//5x6X2QDvVLN0UrXllfiobdffdOn\n",
       "sZPVLwkdw2W0mHSm+GUj3aTeF9ng0otUgcDYPCbiQabky9gnoB/CySV2vLJE5XL06dkHMMvEFek2\n",
       "0J8h7ZNKVwM8iIfeJAk8JaC1ML6U2PEcl9Pz4bfUhBEQV6TbINvk47d9IsiUEvCbgHkGTjGpozwc\n",
       "pfWCgFNGPnoFJde94brRyUoxXXfikevWOgICOIwHJWUG1gEBo4hFXwXZUZVNlvIdmPOxG2AKQu2u\n",
       "SPeUdgN2bPbxiSBT9mDS8Q+vx3si4Ry1In6oordF1DHv4aNGZlmRbgMn/P10HsMjOhUPMmVfTl+v\n",
       "Y44NaEzHC8B9Ij+BWw2kfG0mQ2+Nvsh5LCJD757PwOt4kCmfcJcWyHpmLaGjfbPytkBkHdaf6DLc\n",
       "uLhBn+yLbHCnukrBXK6KeJAp02s+LaDXb7NTm104S69Qo91u047abMkb3f/MMPBf8m+9GhArGBoG\n",
       "U5IhQf4CC0/SfrMx42YAAAAASUVORK5CYII=\n",
       "\" style=\"display:inline;vertical-align:middle;\" /></a><br>"
      ],
      "text/plain": [
       "expr: a + a + c + c + c + b + b + 1 + 2 + 3"
      ]
     },
     "execution_count": 2,
     "metadata": {},
     "output_type": "execute_result"
    }
   ],
   "source": [
    "# build up the expression from sub-expressions\n",
    "expr = Add(a, a, c, c, c, b, b, one, two, three)"
   ]
  },
  {
   "cell_type": "code",
   "execution_count": 3,
   "metadata": {},
   "outputs": [
    {
     "name": "stdout",
     "output_type": "stream",
     "text": [
      "Passed sanity check: built 'expr' is the same as the stored Expression.\n"
     ]
    }
   ],
   "source": [
    "# check that the built expression is the same as the stored expression\n",
    "%check_expr"
   ]
  },
  {
   "cell_type": "code",
   "execution_count": 4,
   "metadata": {},
   "outputs": [
    {
     "data": {
      "text/html": [
       "<table><tr><th>&nbsp;</th><th>core type</th><th>sub-expressions</th><th>expression</th></tr>\n",
       "<tr><td>0</td><td>Operation</td><td>operator:&nbsp;1<br>operands:&nbsp;2<br></td><td><a class=\"ProveItLink\" href=\"expr.ipynb\"><img src=\"data:image/png;base64,iVBORw0KGgoAAAANSUhEUgAAAUUAAAAQBAMAAABzbnCeAAAAMFBMVEX///8yMjKqqqrMzMzu7u4i\n",
       "IiJmZmaYmJhEREQQEBC6urp2dnaIiIhUVFTc3NwAAAD87Fq/AAAAAXRSTlMAQObYZgAAAkRJREFU\n",
       "SMe11cFr01AcB/BvsyR2qU3MYeJlkD9AWE+iePBdRWZ7GogH28s8iJi/QHoTvAxBL1OcV0HYQBSx\n",
       "AwMbG4yOVQ+KUFlB2NHVrboxBzWpfe37/ZoRe+g7fgjf9+3LL6/AiNb0Ewb61wJ/Ji0Y7JQeUhir\n",
       "vPMwujXJIVXjredYR7uGLVppB9YxgesD++iNoaGXssfB8Sjo37YFlayA0STywcMvkn5+oKMWDA0y\n",
       "xWrx2EXB99liMv4Y2SMiUyPtmCnw2DdI6phqwTxiz3TetV1//5x6X2QDvVLN0UrXllfiobdffdOn\n",
       "sZPVLwkdw2W0mHSm+GUj3aTeF9ng0otUgcDYPCbiQabky9gnoB/CySV2vLJE5XL06dkHMMvEFek2\n",
       "0J8h7ZNKVwM8iIfeJAk8JaC1ML6U2PEcl9Pz4bfUhBEQV6TbINvk47d9IsiUEvCbgHkGTjGpozwc\n",
       "pfWCgFNGPnoFJde94brRyUoxXXfikevWOgICOIwHJWUG1gEBo4hFXwXZUZVNlvIdmPOxG2AKQu2u\n",
       "SPeUdgN2bPbxiSBT9mDS8Q+vx3si4Ry1In6oordF1DHv4aNGZlmRbgMn/P10HsMjOhUPMmVfTl+v\n",
       "Y44NaEzHC8B9Ij+BWw2kfG0mQ2+Nvsh5LCJD757PwOt4kCmfcJcWyHpmLaGjfbPytkBkHdaf6DLc\n",
       "uLhBn+yLbHCnukrBXK6KeJAp02s+LaDXb7NTm104S69Qo91u047abMkb3f/MMPBf8m+9GhArGBoG\n",
       "U5IhQf4CC0/SfrMx42YAAAAASUVORK5CYII=\n",
       "\" style=\"display:inline;vertical-align:middle;\" /></a></td></tr>\n",
       "<tr><td>1</td><td>Literal</td><td></td><td><a class=\"ProveItLink\" href=\"../3e6688136fa3c7aefbebe51301b7c3ebf0b69c440/expr.ipynb\"><img src=\"data:image/png;base64,iVBORw0KGgoAAAANSUhEUgAAAA4AAAAOBAMAAADtZjDiAAAAJFBMVEX///+6urpUVFQQEBAiIiIy\n",
       "MjJmZmaIiIiqqqrc3Nzu7u4AAACgHpL+AAAAAXRSTlMAQObYZgAAAB5JREFUCNdjYGBgWMkAAe2k\n",
       "0Kmhoc6hoUGk6BMHYgAHOwjcado9fwAAAABJRU5ErkJggg==\n",
       "\" style=\"display:inline;vertical-align:middle;\" /></a></td></tr>\n",
       "<tr><td>2</td><td>ExprTuple</td><td>3, 3, 4, 4, 4, 5, 5, 6, 7, 8</td><td><a class=\"ProveItLink\" href=\"../44f9a5894b454d57f96f1f72ca92f6f6eaaaebd70/expr.ipynb\"><img src=\"data:image/png;base64,iVBORw0KGgoAAAANSUhEUgAAAMEAAAAVBAMAAAANw5eWAAAAMFBMVEX////c3NwiIiJERESqqqqY\n",
       "mJh2dnZmZmYQEBDu7u4yMjJUVFTMzMyIiIi6uroAAAAs73DqAAAAAXRSTlMAQObYZgAAAh1JREFU\n",
       "SMe11T1oE2Ecx/FvTNLk0uQ8XBwU7NYxWZybzTE3OUpBiIvRomCgDr4g4tTcJIEOCYqIONhBEJWS\n",
       "gODikkUc1BqdxCnGtlJpjc89d5fnuVwznJAbkk8uT/6/5563wOwvszfD4ufcl3exf7Z+exKQdLz3\n",
       "RP1h31O+er5Mpiv0JH7PnkZgLPkJJyhsezqOeQBtKPzHIG1Pwnjd8RNeQtHT5TJDOAtZJ/7M7U0C\n",
       "vvhl7jl0vGGqyIQm/Ij/CHMLk1AJzxxu9IMOiFFKlrnmTs/mpVv+RI3F/dqnKchtfrTDUAniKgbM\n",
       "bYhOrPBI8LuVHHg3lfJrPJiCVon9MPSE/K6Pt+46SLVZEx3fIVPyHmEsmj1OT0HF4W4YekKuFKgg\n",
       "aps3+QvzA454K0qJTtAuilX4HYaecFVNWMMhP3ATjpZodeUtJX4FzaJYxNwJQ0sobPg4CUu2m3AH\n",
       "TvWoIFsoJQ78hlGIXZDZC0NLOEPCkltk5LgJYpTE0LbKvEp1DXQhOpeWYVHsk10Ow0twlV8hbckC\n",
       "f8Sqski3uSDmxk4tztFa0MULuGgMD8VzrhOGTJA6Vq1e8Qq8x9yVq/Wbuwm23mzR/KmLTO2zYzSs\n",
       "w7D+wSYM6o3HtlRxNBp6BVL11bLoc5+sFQzvVyIyrRjQpEqJUyO9HHywiSgdB5pUqZp+es8iwWjL\n",
       "E91fyOPvlXpxoKQKzLsDl5jlv6g4Kv8B+O7UOHfSHiUAAAAASUVORK5CYII=\n",
       "\" style=\"display:inline;vertical-align:middle;\" /></a></td></tr>\n",
       "<tr><td>3</td><td>Variable</td><td></td><td><a class=\"ProveItLink\" href=\"../../../../__pv_it/07527342713064c87612d00d8557c53d53d5324a0/expr.ipynb\"><img src=\"data:image/png;base64,iVBORw0KGgoAAAANSUhEUgAAAAsAAAAJBAMAAAAWSsseAAAAMFBMVEX///8yMjKqqqrMzMzu7u4i\n",
       "IiJmZmaYmJhEREQQEBC6urp2dnaIiIhUVFTc3NwAAAD87Fq/AAAAAXRSTlMAQObYZgAAAEhJREFU\n",
       "CNdjYOC7s2seAwPDygccHxgY+L4zsDUwMPB+YGA9wMDA38Dgb8DA8P4Agz6DA4O/AsNFJgMGxgKm\n",
       "MG6gyjunLE4xAAAZTBA5TB6DCwAAAABJRU5ErkJggg==\n",
       "\" style=\"display:inline;vertical-align:middle;\" /></a></td></tr>\n",
       "<tr><td>4</td><td>Variable</td><td></td><td><a class=\"ProveItLink\" href=\"../../../../__pv_it/cbdfda466482236edba0ce44ac7ef39cda0af7a40/expr.ipynb\"><img src=\"data:image/png;base64,iVBORw0KGgoAAAANSUhEUgAAAAkAAAAJBAMAAAASvxsjAAAALVBMVEX///9mZmbc3NxUVFSYmJhE\n",
       "REQiIiIyMjK6uroQEBDMzMyIiIh2dnbu7u4AAABgFDGoAAAAAXRSTlMAQObYZgAAADZJREFUCNdj\n",
       "YOA9s3sBA8PKBvYEBt7ZDKwODMwPGICALwBE6m0Asx0YGIDiAgw8QJUyu/cyAAAmuwmycZ8WfQAA\n",
       "AABJRU5ErkJggg==\n",
       "\" style=\"display:inline;vertical-align:middle;\" /></a></td></tr>\n",
       "<tr><td>5</td><td>Variable</td><td></td><td><a class=\"ProveItLink\" href=\"../../../../__pv_it/6840a4fa6c106149dc16a131294d0c5e44f1b0480/expr.ipynb\"><img src=\"data:image/png;base64,iVBORw0KGgoAAAANSUhEUgAAAAkAAAAOBAMAAAAPuiubAAAALVBMVEX///9mZmbMzMxERESYmJiI\n",
       "iIh2dna6urqqqqoyMjIiIiIQEBBUVFTu7u4AAAD9S1JeAAAAAXRSTlMAQObYZgAAAE1JREFUCNdj\n",
       "4D29gAEIOA+ASL4GEFl3AURmgQiGOaFHGBh4HzPwKTBwvGXgTmBgnMDAJ8DAJcBQ5wBSLncBJLWN\n",
       "gYGngRFoBO9REQYGAGrcDtUkVqASAAAAAElFTkSuQmCC\n",
       "\" style=\"display:inline;vertical-align:middle;\" /></a></td></tr>\n",
       "<tr><td>6</td><td>Literal</td><td></td><td><a class=\"ProveItLink\" href=\"../../../numeral/__pv_it/9be8badea4c35b9724062cecc501d17a3158d1d20/expr.ipynb\"><img src=\"data:image/png;base64,iVBORw0KGgoAAAANSUhEUgAAAAgAAAAPBAMAAAArJJMAAAAAHlBMVEX///+YmJgyMjIQEBBmZmaI\n",
       "iIhUVFTu7u5EREQAAAAw+MI4AAAAAXRSTlMAQObYZgAAACFJREFUCNdjYGBoZ2BgqJjOwFCWBiQY\n",
       "WEklWJwnOTKAAACjEQo8HvEr3AAAAABJRU5ErkJggg==\n",
       "\" style=\"display:inline;vertical-align:middle;\" /></a></td></tr>\n",
       "<tr><td>7</td><td>Literal</td><td></td><td><a class=\"ProveItLink\" href=\"../../../numeral/__pv_it/77d407a64829263cdc16415becd4c2293f77a4bf0/expr.ipynb\"><img src=\"data:image/png;base64,iVBORw0KGgoAAAANSUhEUgAAAAkAAAAOBAMAAAAPuiubAAAAMFBMVEX///+YmJh2dnbMzMwQEBAi\n",
       "IiLu7u6qqqqIiIhUVFS6urpEREQyMjJmZmbc3NwAAACOMKdoAAAAAXRSTlMAQObYZgAAAFBJREFU\n",
       "CNdj4Lt7egEDw0sGju8MDNMYGOIZGFwSGOYvYDifwHAfKAEUSQASzJ9ATJ4NIPI2iOCYACJrGfge\n",
       "MDBfYGB8wPBUSekqUPH//18ZAIliFhc3zESNAAAAAElFTkSuQmCC\n",
       "\" style=\"display:inline;vertical-align:middle;\" /></a></td></tr>\n",
       "<tr><td>8</td><td>Literal</td><td></td><td><a class=\"ProveItLink\" href=\"../../../numeral/__pv_it/9176d93c83afa2c995b614976e3cb49207102fa70/expr.ipynb\"><img src=\"data:image/png;base64,iVBORw0KGgoAAAANSUhEUgAAAAoAAAAOBAMAAADkjZCYAAAAMFBMVEX///+YmJju7u4QEBBUVFQy\n",
       "MjIiIiKIiIi6urpmZmbc3NyqqqpERER2dnbMzMwAAAB0GlNiAAAAAXRSTlMAQObYZgAAAE1JREFU\n",
       "CNdjYHh79zQDA9cEhv4CBt7fDPwJDNxgEgiAIkAQAsR8Vx1ATIbiBhDJ/ImB6wEDz0cG/U8gkj+A\n",
       "ge0XA7sAQ/8FBoadM6MZAEflFACalZ/OAAAAAElFTkSuQmCC\n",
       "\" style=\"display:inline;vertical-align:middle;\" /></a></td></tr>\n",
       "</table>\n"
      ],
      "text/plain": [
       "0. a + a + c + c + c + b + b + 1 + 2 + 3\n",
       "   core type: Operation\n",
       "   operator: 1\n",
       "   operands: 2\n",
       "1. +\n",
       "   core type: Literal\n",
       "   sub-expressions: \n",
       "2. (a , a , c , c , c , b , b , 1 , 2 , 3)\n",
       "   core type: ExprTuple\n",
       "   sub-expressions: 3, 3, 4, 4, 4, 5, 5, 6, 7, 8\n",
       "3. a\n",
       "   core type: Variable\n",
       "   sub-expressions: \n",
       "4. c\n",
       "   core type: Variable\n",
       "   sub-expressions: \n",
       "5. b\n",
       "   core type: Variable\n",
       "   sub-expressions: \n",
       "6. 1\n",
       "   core type: Literal\n",
       "   sub-expressions: \n",
       "7. 2\n",
       "   core type: Literal\n",
       "   sub-expressions: \n",
       "8. 3\n",
       "   core type: Literal\n",
       "   sub-expressions: "
      ]
     },
     "execution_count": 4,
     "metadata": {},
     "output_type": "execute_result"
    }
   ],
   "source": [
    "# display the expression information\n",
    "expr.exprInfo()"
   ]
  },
  {
   "cell_type": "code",
   "execution_count": null,
   "metadata": {},
   "outputs": [],
   "source": []
  }
 ],
 "metadata": {
  "kernelspec": {
   "display_name": "Python 3",
   "language": "python",
   "name": "python3"
  }
 },
 "nbformat": 4,
 "nbformat_minor": 0
}
