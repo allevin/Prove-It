{
 "cells": [
  {
   "cell_type": "markdown",
   "metadata": {},
   "source": [
    "Expression of type <a class=\"ProveItLink\" href=\"../../../../../../doc/html/api/proveit.ExprTuple.html\">ExprTuple</a>\n",
    "=======================\n",
    "# from context <a class=\"ProveItLink\" href=\"../../_context_.ipynb\">proveit.number.addition</a>"
   ]
  },
  {
   "cell_type": "code",
   "execution_count": 1,
   "metadata": {},
   "outputs": [],
   "source": [
    "# import Expression classes needed to build the expression\n",
    "from proveit import ExprTuple\n",
    "from proveit._common_ import AA, m\n",
    "from proveit.logic import InSet\n",
    "from proveit.number import Exp, Reals"
   ]
  },
  {
   "cell_type": "code",
   "execution_count": 2,
   "metadata": {},
   "outputs": [
    {
     "data": {
      "text/html": [
       "<strong id=\"expr\">expr:</strong> <a class=\"ProveItLink\" href=\"expr.ipynb\"><img src=\"data:image/png;base64,iVBORw0KGgoAAAANSUhEUgAAAFYAAAAVBAMAAAAutAQGAAAAMFBMVEX////c3NwiIiJERESqqqqY\n",
       "mJh2dnZmZmYQEBDu7u4yMjJUVFTMzMyIiIi6uroAAAAs73DqAAAAAXRSTlMAQObYZgAAAZBJREFU\n",
       "KM9jYCAAWGvfZvNePgDh8F0AUzxfsKud+j6AaQPrBgbWB0DOaYgY0zc089Yb/1qxloFB8hYD/wG2\n",
       "AgaGGqDgSohc/m80A5kZN/CYLGRg2MtwgoHLgYGBi4GBF+qE/58w1BYwWAozMPQwXGaQ5wNalMDA\n",
       "MQEsw5X/H6KE85aS0gKY2hxmBsYPQJOD2YASDQyvIEoucfyHaDoViWQuUC2fAYMOw+FEoIAJQxlY\n",
       "gvEP1/8HYIYlsht2CiM5Kp1hKUSigP1/AJghgKSWT3Uhklovhj4wHcHA+78AxJiM5LcmpSXInn3B\n",
       "8A/soS8MfP8NwAJKSnC/1RVYIqs9D1HL/aOj/78CAyJmIG6oO42qtgVEeZycOfH/BxBrErJarrkB\n",
       "KG4wBTkBpEH/I9iGACS1PBv2IKmNAoYEA4M0yKn24MTDqYccZimIYAGF2SMGBv7/wHjY////H5CI\n",
       "VA087Xw+wGWFlPrWMXAIoKUD70WQcEAHwDgGJgniANsFeJokCGaBPEak2o2g1HKBKKW8BxgA+xNq\n",
       "6nIgCKQAAAAASUVORK5CYII=\n",
       "\" style=\"display:inline;vertical-align:middle;\" /></a><br>"
      ],
      "text/plain": [
       "expr: (A in Reals^{m})"
      ]
     },
     "execution_count": 2,
     "metadata": {},
     "output_type": "execute_result"
    }
   ],
   "source": [
    "# build up the expression from sub-expressions\n",
    "expr = ExprTuple(InSet(AA, Exp(Reals, m)))"
   ]
  },
  {
   "cell_type": "code",
   "execution_count": 3,
   "metadata": {},
   "outputs": [
    {
     "name": "stdout",
     "output_type": "stream",
     "text": [
      "Passed sanity check: built 'expr' is the same as the stored Expression.\n"
     ]
    }
   ],
   "source": [
    "# check that the built expression is the same as the stored expression\n",
    "%check_expr"
   ]
  },
  {
   "cell_type": "code",
   "execution_count": 4,
   "metadata": {},
   "outputs": [
    {
     "data": {
      "text/html": [
       "<table><tr><th>&nbsp;</th><th>core type</th><th>sub-expressions</th><th>expression</th></tr>\n",
       "<tr><td>0</td><td>ExprTuple</td><td>1</td><td><a class=\"ProveItLink\" href=\"expr.ipynb\"><img src=\"data:image/png;base64,iVBORw0KGgoAAAANSUhEUgAAAFYAAAAVBAMAAAAutAQGAAAAMFBMVEX////c3NwiIiJERESqqqqY\n",
       "mJh2dnZmZmYQEBDu7u4yMjJUVFTMzMyIiIi6uroAAAAs73DqAAAAAXRSTlMAQObYZgAAAZBJREFU\n",
       "KM9jYCAAWGvfZvNePgDh8F0AUzxfsKud+j6AaQPrBgbWB0DOaYgY0zc089Yb/1qxloFB8hYD/wG2\n",
       "AgaGGqDgSohc/m80A5kZN/CYLGRg2MtwgoHLgYGBi4GBF+qE/58w1BYwWAozMPQwXGaQ5wNalMDA\n",
       "MQEsw5X/H6KE85aS0gKY2hxmBsYPQJOD2YASDQyvIEoucfyHaDoViWQuUC2fAYMOw+FEoIAJQxlY\n",
       "gvEP1/8HYIYlsht2CiM5Kp1hKUSigP1/AJghgKSWT3Uhklovhj4wHcHA+78AxJiM5LcmpSXInn3B\n",
       "8A/soS8MfP8NwAJKSnC/1RVYIqs9D1HL/aOj/78CAyJmIG6oO42qtgVEeZycOfH/BxBrErJarrkB\n",
       "KG4wBTkBpEH/I9iGACS1PBv2IKmNAoYEA4M0yKn24MTDqYccZimIYAGF2SMGBv7/wHjY////H5CI\n",
       "VA087Xw+wGWFlPrWMXAIoKUD70WQcEAHwDgGJgniANsFeJokCGaBPEak2o2g1HKBKKW8BxgA+xNq\n",
       "6nIgCKQAAAAASUVORK5CYII=\n",
       "\" style=\"display:inline;vertical-align:middle;\" /></a></td></tr>\n",
       "<tr><td>1</td><td>Operation</td><td>operator:&nbsp;2<br>operands:&nbsp;3<br></td><td><a class=\"ProveItLink\" href=\"../22627afae72dbaa07521e2b326b149e57bdaf5800/expr.ipynb\"><img src=\"data:image/png;base64,iVBORw0KGgoAAAANSUhEUgAAAEgAAAARBAMAAACMQvdLAAAAMFBMVEX///+YmJhmZmZERES6urrc\n",
       "3Nzu7u4QEBCIiIgyMjJUVFR2dnYiIiKqqqrMzMwAAAD8et6HAAAAAXRSTlMAQObYZgAAASVJREFU\n",
       "KM9jYMAHGDU8dnE0P4Bw+P5iV5ToL8CzgHEBhMPzG82E+cY/p89gYAjrZOB/wK0AEdz/C80IZtYF\n",
       "fLZTGRhWMDxn4LwAse3/HwxFCgxmwQwMdQzNDPEsYCHO/f8hcmydZ85MgCnax8zA+gFoljA3WK6H\n",
       "/X8CmPFSDMkkoCIWA4ZzDI+3gkRY/3H+dwAzzJCtWxaM4gAFpv8CYEYAkiKWg1ORFYkzcPwHezMZ\n",
       "yeE1Z+Yiq2H7y8Dy3wDEcj9zBu5wFQUzZEVc38vr/x8AsV4hB4HKK2RF15+lpf7/AGLlICvizBBA\n",
       "sq0WSJz/CjZTAEkR34J1CEVRIOfYg2OY7QhyEOxFeJb/PzAg1////w/EidSDR/DnB5yWONLGrTkQ\n",
       "36ECACmhVGlCHLl0AAAAAElFTkSuQmCC\n",
       "\" style=\"display:inline;vertical-align:middle;\" /></a></td></tr>\n",
       "<tr><td>2</td><td>Literal</td><td></td><td><a class=\"ProveItLink\" href=\"../../../../logic/set_theory/membership/__pv_it/088cbc857536a28d4119ad9639a84270ccb0545d0/expr.ipynb\"><img src=\"data:image/png;base64,iVBORw0KGgoAAAANSUhEUgAAAAwAAAAMBAMAAACkW0HUAAAALVBMVEX///+qqqpmZmZUVFQQEBC6\n",
       "urpERETc3NyYmJjMzMwiIiIyMjKIiIju7u4AAACYsrA9AAAAAXRSTlMAQObYZgAAADxJREFUCNdj\n",
       "YOA9vWrVBgaG2b0MQMCeCyIZ2ArA1DUwyRCyahVIyWQI7xaEYm4AU7xLIdxqTQgtvGvVBgCkcQ7e\n",
       "geM/tQAAAABJRU5ErkJggg==\n",
       "\" style=\"display:inline;vertical-align:middle;\" /></a></td></tr>\n",
       "<tr><td>3</td><td>ExprTuple</td><td>4, 5</td><td><a class=\"ProveItLink\" href=\"../649f3351cb91d00f0cdbc0f69f55606e59ace0300/expr.ipynb\"><img src=\"data:image/png;base64,iVBORw0KGgoAAAANSUhEUgAAAEYAAAAVBAMAAAAJGoXuAAAAMFBMVEX////c3NwiIiJERESqqqqY\n",
       "mJh2dnZmZmYQEBDu7u4yMjJUVFTMzMyIiIi6uroAAAAs73DqAAAAAXRSTlMAQObYZgAAAXRJREFU\n",
       "KM9jYMABWGvfZvNePgDh8F0AUzxfUNVMfR/AtIF1AwPrAyDnNESM6RtU/3rjXyvWMjBI3mLgP8BW\n",
       "wMBQAxRcCZHL/w01gJlxA4/JQgaGvQwnGLgcGBi4GBh4oVb9/wRXU8BgKczA0MNwmUGeD2hwAgPH\n",
       "BLAMV/5/JDU5zAyMH4AmBbMxMHA2MLyCyFzi+D8BRQ2fAYMOw+FEoIAJQxlYgvEP1/8HCDU7hZF8\n",
       "mM6wFCJRwP4/AK6GT3Uhkhovhj4wHcHA+78ApqZJaQlySL1g+AeiOL8w8P03gKmpK7BEVnMeoob7\n",
       "R0f/fwW4XXWnUdW0gCiPkzMn/v8AV8M1NwDFLlOQVSCF+h8ZGCZA1PBs2IOkJgroMwYGaZBT7L8w\n",
       "cH6C+j2FWQDZ748YGPj/A8Nv////fzj7BUBx+vkAlxVSKljHwIGkg4FPADMhAeMCGGVICQtLYmO7\n",
       "AE8bONXMAjkYiX8Bi5qNoOi8wIAP8B5gAADgp2QHs2IDBQAAAABJRU5ErkJggg==\n",
       "\" style=\"display:inline;vertical-align:middle;\" /></a></td></tr>\n",
       "<tr><td>4</td><td>Variable</td><td></td><td><a class=\"ProveItLink\" href=\"../../../../__pv_it/eb438fefc4bd0ac977777d6dfd3e8a72dfbedbd50/expr.ipynb\"><img src=\"data:image/png;base64,iVBORw0KGgoAAAANSUhEUgAAABIAAAAPBAMAAAAbqIIhAAAAMFBMVEX///+YmJhmZmZERES6urrc\n",
       "3Nzu7u4QEBCIiIgyMjJUVFR2dnYiIiKqqqrMzMwAAAD8et6HAAAAAXRSTlMAQObYZgAAAGpJREFU\n",
       "CNdjYAABvr8MUMDzG8ba/wvK4Pv/B8ri3P8fyuph/58AZrD+4/zvAGYxKzD9FwCzxBk4/iuAGGx/\n",
       "GVj+G4BYXN/L6/8fALGuP0tL/f8BJFkLJM5/BRJRICX2QCfw/weauv7//38AzEYi08a6/oIAAAAA\n",
       "SUVORK5CYII=\n",
       "\" style=\"display:inline;vertical-align:middle;\" /></a></td></tr>\n",
       "<tr><td>5</td><td>Operation</td><td>operator:&nbsp;6<br>operands:&nbsp;7<br></td><td><a class=\"ProveItLink\" href=\"../9ab218f927efe32de4798d2016aa9eab05724f760/expr.ipynb\"><img src=\"data:image/png;base64,iVBORw0KGgoAAAANSUhEUgAAAB0AAAAQBAMAAAAYI2niAAAAMFBMVEX///8iIiK6urp2dnbu7u5m\n",
       "ZmaqqqrMzMxUVFTc3NyIiIgQEBBEREQyMjKYmJgAAAA9nvXMAAAAAXRSTlMAQObYZgAAAJdJREFU\n",
       "CNdjYICCp4sWN6w6DuMxsDz6xyDB8IKB4e2f83f3LmDg9LrA8J3BFChzYAZDTe4EBo4F7BsYroH4\n",
       "Uxl4PA8wcBdwHeD8oADmMxccYJgPVMF3wADO12FgLGA/PAHM5wCqhwMgX/HtBCT+bEHZBAZkeVUe\n",
       "BxQ+q3oDCp/hyjpUfgVHAQqfOeEknAv0z3GGO/dhNgAAPxY5mxLBNDsAAAAASUVORK5CYII=\n",
       "\" style=\"display:inline;vertical-align:middle;\" /></a></td></tr>\n",
       "<tr><td>6</td><td>Literal</td><td></td><td><a class=\"ProveItLink\" href=\"../../../exponentiation/__pv_it/deb2bf23cbccdd6e6791e1b35b5b9794ce12dbd50/expr.ipynb\"><img src=\"data:image/png;base64,iVBORw0KGgoAAAANSUhEUgAAACgAAAASBAMAAADbMYGVAAAAMFBMVEX///8QEBAiIiKYmJjc3Nzu\n",
       "7u7MzMx2dnZmZma6urpERESqqqoyMjJUVFSIiIgAAAAoDOMTAAAAAXRSTlMAQObYZgAAAOBJREFU\n",
       "GNNjYGB4+//u3Tt/GNAASGAXmhjnPyDBgSbI/g1IxKEJ8nxgYGdgQRPkX8BgDKRY6q7s62OYvmze\n",
       "2wAgb/7ZO1+AVDiDkYEQQ0HTBr4DQF59AgOIKmB4z7CNbcNZBu6vQN55kEACQwDDLQYGVobfDHwg\n",
       "fb8YGBxYHwAZciD3fWXg+gB1JjvQcJZvQIXsCgz8F6DO9GBgMOH7wPCUgaeBwd4B7EwGNjUG7s9c\n",
       "AiwPgO5jkWRgiF3/9+5dfQUG1nWl5Y+B7pv+1gE9bBhqGLCAE1jEWH9jEbT5A3IwAC4sP/1L6Qlu\n",
       "AAAAAElFTkSuQmCC\n",
       "\" style=\"display:inline;vertical-align:middle;\" /></a></td></tr>\n",
       "<tr><td>7</td><td>ExprTuple</td><td>8, 9</td><td><a class=\"ProveItLink\" href=\"../ccc87ac83eb8921e86d465c288efd713d31b44000/expr.ipynb\"><img src=\"data:image/png;base64,iVBORw0KGgoAAAANSUhEUgAAADcAAAAVBAMAAAAQkWtIAAAAMFBMVEX////c3NwiIiJERESqqqqY\n",
       "mJh2dnZmZmYQEBDu7u4yMjJUVFTMzMyIiIi6uroAAAAs73DqAAAAAXRSTlMAQObYZgAAAS9JREFU\n",
       "KM9jYMAL+C5gF48DEacZoj7br+rCUMJ+AEisZGAwkGY47CWALruAgYEXqMVAnIF5ogG6ZBgDA8cE\n",
       "sCTbAQzJGQwMrxhwSTI7MJRBJLlhxr41lL2d8PayAwMDWwHDUojkoyiogxJ2XeD89oDlAwMDywKG\n",
       "PpCkhJKWA9TXD5QZOP8ygCT5Ghj+gXU+Z54AkeTk/MfA8pOBHegPng9QSfY3G6DOAMkoMHAkgCVb\n",
       "IHauvAoLmAUMTAUM7wUmgIw1hUie5j7AwAmSBOqZ/4BhF2MAA+sChnSoPx0MGeYrANnyDxjiGRjW\n",
       "soG98ogBFPA2DIvXO8z4CJR8wcCQzMDgfYeBgesBAwdSgD9EDz7WBAQ3AEUyFxJlWCU5gV5lkIZz\n",
       "eVE0coPsY8SRTIBOAgDY+k4PvMVDtgAAAABJRU5ErkJggg==\n",
       "\" style=\"display:inline;vertical-align:middle;\" /></a></td></tr>\n",
       "<tr><td>8</td><td>Literal</td><td></td><td><a class=\"ProveItLink\" href=\"../../../sets/real/__pv_it/9e7645ee1117062e179dd6264898f99ed95b157c0/expr.ipynb\"><img src=\"data:image/png;base64,iVBORw0KGgoAAAANSUhEUgAAAA8AAAAOBAMAAAACpFvcAAAAMFBMVEX///8iIiK6urp2dnbu7u5m\n",
       "ZmaqqqrMzMxUVFTc3NyIiIgQEBBEREQyMjKYmJgAAAA9nvXMAAAAAXRSTlMAQObYZgAAAFJJREFU\n",
       "CNdjePvn/N29CxiA4MAMhprcCSDGVAYezwMQBnMBOoMDJqX4Fqx4tqBsAlj7VFUeBwiDVb0BwmC4\n",
       "sg7KqOAogJqTcJKBAWjpcYY79xMAyqEnfsw4ApEAAAAASUVORK5CYII=\n",
       "\" style=\"display:inline;vertical-align:middle;\" /></a></td></tr>\n",
       "<tr><td>9</td><td>Variable</td><td></td><td><a class=\"ProveItLink\" href=\"../../../../__pv_it/78af03acba5349fd70398a32ce59bae1da52f0870/expr.ipynb\"><img src=\"data:image/png;base64,iVBORw0KGgoAAAANSUhEUgAAABIAAAAJBAMAAADN8WE8AAAAMFBMVEX////MzMyYmJgQEBBmZmYi\n",
       "IiLu7u4yMjKqqqp2dnZUVFTc3NxERESIiIi6uroAAABe5jFNAAAAAXRSTlMAQObYZgAAAFtJREFU\n",
       "CNdj4Luz++5KvrsnGBg4uWoZ8ucx9DMwvGM9wJB/AcRKyH/A0J/A4M7AAKJcGRgsgSwgL4SB7zcb\n",
       "iMf2j4GrYBMD9z8Gpg8M7BcmMPAZMHAeYOBYKwAAtXMYHwtZnY0AAAAASUVORK5CYII=\n",
       "\" style=\"display:inline;vertical-align:middle;\" /></a></td></tr>\n",
       "</table>\n"
      ],
      "text/plain": [
       "0. (A in Reals^{m})\n",
       "   core type: ExprTuple\n",
       "   sub-expressions: 1\n",
       "1. A in Reals^{m}\n",
       "   core type: Operation\n",
       "   operator: 2\n",
       "   operands: 3\n",
       "2. in\n",
       "   core type: Literal\n",
       "   sub-expressions: \n",
       "3. (A , Reals^{m})\n",
       "   core type: ExprTuple\n",
       "   sub-expressions: 4, 5\n",
       "4. A\n",
       "   core type: Variable\n",
       "   sub-expressions: \n",
       "5. Reals^{m}\n",
       "   core type: Operation\n",
       "   operator: 6\n",
       "   operands: 7\n",
       "6. Exp\n",
       "   core type: Literal\n",
       "   sub-expressions: \n",
       "7. (Reals , m)\n",
       "   core type: ExprTuple\n",
       "   sub-expressions: 8, 9\n",
       "8. Reals\n",
       "   core type: Literal\n",
       "   sub-expressions: \n",
       "9. m\n",
       "   core type: Variable\n",
       "   sub-expressions: "
      ]
     },
     "execution_count": 4,
     "metadata": {},
     "output_type": "execute_result"
    }
   ],
   "source": [
    "# display the expression information\n",
    "expr.exprInfo()"
   ]
  },
  {
   "cell_type": "code",
   "execution_count": null,
   "metadata": {},
   "outputs": [],
   "source": []
  }
 ],
 "metadata": {
  "kernelspec": {
   "display_name": "Python 3",
   "language": "python",
   "name": "python3"
  }
 },
 "nbformat": 4,
 "nbformat_minor": 0
}
