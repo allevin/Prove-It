{
 "cells": [
  {
   "cell_type": "markdown",
   "metadata": {},
   "source": [
    "Expression of type <a class=\"ProveItLink\" href=\"../../../../../../doc/html/api/proveit.logic.Equals.html\">Equals</a>\n",
    "=======================\n",
    "# from context <a class=\"ProveItLink\" href=\"../../_context_.ipynb\">proveit.number.addition</a>"
   ]
  },
  {
   "cell_type": "code",
   "execution_count": 1,
   "metadata": {},
   "outputs": [],
   "source": [
    "# import Expression classes needed to build the expression\n",
    "from proveit._common_ import b\n",
    "from proveit.logic import Equals\n",
    "from proveit.number import Mult, two"
   ]
  },
  {
   "cell_type": "code",
   "execution_count": 2,
   "metadata": {},
   "outputs": [
    {
     "data": {
      "text/html": [
       "<strong id=\"expr\">expr:</strong> <a class=\"ProveItLink\" href=\"expr.ipynb\"><img src=\"data:image/png;base64,iVBORw0KGgoAAAANSUhEUgAAAH0AAAAVBAMAAACZCfwhAAAAMFBMVEX////c3NwiIiJERESqqqqY\n",
       "mJh2dnZmZmYQEBDu7u4yMjJUVFTMzMyIiIi6uroAAAAs73DqAAAAAXRSTlMAQObYZgAAAc9JREFU\n",
       "OMullD1Iw0AUx19sa/rd4lqEooNju7h3c9SpoxSHOgmlokId6heii2RUOlgQh9rBDAo6FLu7uDlo\n",
       "oTgKUqlfFIr1f5c0KbnLZCAH793vl9y9dwnRf6/og5hblHBvLtg9kbJx1h7mAjdJIrUpsGGdKjt2\n",
       "yBWO1YgSFPm0ZoI6hqrgBzWiuh0aCrAIln9LlLJmYhkMWcFv4bZfYirA/HjugUZ31gY6SNCx4B+i\n",
       "Uj07NBRgrwguNSpb/hIbPBlnlbHU8aQdGwqwdSNOacOZeusaaMHhqzmUoPG0MJKCAuzcqO63Vf8P\n",
       "ijXJywtYumAXr1oQ5mma+iMNgQLsyKhumo0nuL098ucouuV4vx/7m9do36RMBdgvD1b5q7tsoVWK\n",
       "FSj87vBj8EtEPyZlKsC4H9G5v4thrECdBbk/Q9EvkzIVYHssmCMlbre/rJnrL06xa5qvP8Par9od\n",
       "5AqwWfaYAvksv8k26XMeQA/q12eVGVaPK8CWEUzk88XhRCij6pL+scQVbVqxoSD7wjo5GHSt/jXW\n",
       "WHHbzvODs1N5tNtvKMD8cdlHLZ7fbRfMl5NNrAiZrBtWk+QD8u9XiiUkfkjclKK7YIrk//Useeak\n",
       "FPsDYgJ/9Yw4evAAAAAASUVORK5CYII=\n",
       "\" style=\"display:inline;vertical-align:middle;\" /></a><br>"
      ],
      "text/plain": [
       "expr: (2 * b) = (b * 2)"
      ]
     },
     "execution_count": 2,
     "metadata": {},
     "output_type": "execute_result"
    }
   ],
   "source": [
    "# build up the expression from sub-expressions\n",
    "expr = Equals(Mult(two, b), Mult(b, two))"
   ]
  },
  {
   "cell_type": "code",
   "execution_count": 3,
   "metadata": {},
   "outputs": [
    {
     "name": "stdout",
     "output_type": "stream",
     "text": [
      "Passed sanity check: built 'expr' is the same as the stored Expression.\n"
     ]
    }
   ],
   "source": [
    "# check that the built expression is the same as the stored expression\n",
    "%check_expr"
   ]
  },
  {
   "cell_type": "code",
   "execution_count": 4,
   "metadata": {},
   "outputs": [
    {
     "data": {
      "text/html": [
       "<table><tr><th>&nbsp;</th><th>core type</th><th>sub-expressions</th><th>expression</th></tr>\n",
       "<tr><td>0</td><td>Operation</td><td>operator:&nbsp;1<br>operands:&nbsp;2<br></td><td><a class=\"ProveItLink\" href=\"expr.ipynb\"><img src=\"data:image/png;base64,iVBORw0KGgoAAAANSUhEUgAAAH0AAAAVBAMAAACZCfwhAAAAMFBMVEX////c3NwiIiJERESqqqqY\n",
       "mJh2dnZmZmYQEBDu7u4yMjJUVFTMzMyIiIi6uroAAAAs73DqAAAAAXRSTlMAQObYZgAAAc9JREFU\n",
       "OMullD1Iw0AUx19sa/rd4lqEooNju7h3c9SpoxSHOgmlokId6heii2RUOlgQh9rBDAo6FLu7uDlo\n",
       "oTgKUqlfFIr1f5c0KbnLZCAH793vl9y9dwnRf6/og5hblHBvLtg9kbJx1h7mAjdJIrUpsGGdKjt2\n",
       "yBWO1YgSFPm0ZoI6hqrgBzWiuh0aCrAIln9LlLJmYhkMWcFv4bZfYirA/HjugUZ31gY6SNCx4B+i\n",
       "Uj07NBRgrwguNSpb/hIbPBlnlbHU8aQdGwqwdSNOacOZeusaaMHhqzmUoPG0MJKCAuzcqO63Vf8P\n",
       "ijXJywtYumAXr1oQ5mma+iMNgQLsyKhumo0nuL098ucouuV4vx/7m9do36RMBdgvD1b5q7tsoVWK\n",
       "FSj87vBj8EtEPyZlKsC4H9G5v4thrECdBbk/Q9EvkzIVYHssmCMlbre/rJnrL06xa5qvP8Par9od\n",
       "5AqwWfaYAvksv8k26XMeQA/q12eVGVaPK8CWEUzk88XhRCij6pL+scQVbVqxoSD7wjo5GHSt/jXW\n",
       "WHHbzvODs1N5tNtvKMD8cdlHLZ7fbRfMl5NNrAiZrBtWk+QD8u9XiiUkfkjclKK7YIrk//Useeak\n",
       "FPsDYgJ/9Yw4evAAAAAASUVORK5CYII=\n",
       "\" style=\"display:inline;vertical-align:middle;\" /></a></td></tr>\n",
       "<tr><td>1</td><td>Literal</td><td></td><td><a class=\"ProveItLink\" href=\"../../../../logic/equality/__pv_it/2fb26078095930560931daa0500ce419a39ea6cd0/expr.ipynb\"><img src=\"data:image/png;base64,iVBORw0KGgoAAAANSUhEUgAAAA4AAAAFBAMAAACHocAhAAAAFVBMVEX///9EREQiIiJUVFQyMjJm\n",
       "ZmYAAADubVkoAAAAAXRSTlMAQObYZgAAABRJREFUCNdjCHEBAWcGXCBICQQUAUpuAwlgGKrkAAAA\n",
       "AElFTkSuQmCC\n",
       "\" style=\"display:inline;vertical-align:middle;\" /></a></td></tr>\n",
       "<tr><td>2</td><td>ExprTuple</td><td>3, 4</td><td><a class=\"ProveItLink\" href=\"../c7f73bf57fb6b13fa5657d1e85732bde0773bfed0/expr.ipynb\"><img src=\"data:image/png;base64,iVBORw0KGgoAAAANSUhEUgAAAFkAAAAVBAMAAADfv1+LAAAAMFBMVEX////c3NwiIiJERESqqqqY\n",
       "mJh2dnZmZmYQEBDu7u4yMjJUVFTMzMyIiIi6uroAAAAs73DqAAAAAXRSTlMAQObYZgAAAXpJREFU\n",
       "KM+Vkz9IAlEcxz+a/02xloaWphp1aQ23xmxpDCedAikosKGIiFrqRsFBQRqiIYeWhqitoSG3BoOO\n",
       "xiYJKwTpeu/d3Qv1BvsO7z7v+3737vd+93vwPyVbYwauy+ERZspL2qseDIOQb6dhEr4XdIGvyWtW\n",
       "r1yOAMyS6EIdEi3iBv6OXumOANxAGtYgYhA5If6jj9EbBqFjgzuTCrxDrEdYR4fmhkHoymDPZCLL\n",
       "tpr69Uax23ZuEGylDUIlzhU/5V23lqE/CEqTXxCoc6omDTlEDTGsGBwpywFlii9lxEn2UQmHM2o3\n",
       "mWkZvtW6AzU7/S25f8eObiunIt9ZIPmpZg4ok0TTjj4Uj0CJqb8qh3uDILWMLyUzWRT8AKuu3yeS\n",
       "x3DBPWOJYIpgnaLogvlCURf3ml2iHw64mi4UNpEVfBPFtixLR1efc0TPUjboYluW2CBmEkl5dbGX\n",
       "Kf98MO/hBz0bfEN17JjR0brq3VF5Xqe4TM837k17gV8FR2bWXeSCxwAAAABJRU5ErkJggg==\n",
       "\" style=\"display:inline;vertical-align:middle;\" /></a></td></tr>\n",
       "<tr><td>3</td><td>Operation</td><td>operator:&nbsp;6<br>operands:&nbsp;5<br></td><td><a class=\"ProveItLink\" href=\"../4fa23b01b5b767887c70271cab015f5b5c98d38c0/expr.ipynb\"><img src=\"data:image/png;base64,iVBORw0KGgoAAAANSUhEUgAAACEAAAAOBAMAAABTMGi/AAAAMFBMVEX///+YmJh2dnbMzMwQEBAi\n",
       "IiLu7u6qqqqIiIhUVFS6urpEREQyMjJmZmbc3NwAAACOMKdoAAAAAXRSTlMAQObYZgAAAKBJREFU\n",
       "CNdj4Lt7egEDFLBNCQCSLxk4vsNEGHgmAIlpDAzxcBH+AiDhksAwH65tfQKQOJ/AcB8uogql4xNg\n",
       "Iic7JoIo5k9wu34z8BuALNgA4qUBMfs3BhYFIH0bLP0VSPAeYOC/wMDAMQEs4g0kWC8wrBdgYKhl\n",
       "4HuAcM79BAbmCwyMcBEDBicGhqdKSldhdnEW8AKNiP///yvc9hkXGRgAQ2knSfB0jgcAAAAASUVO\n",
       "RK5CYII=\n",
       "\" style=\"display:inline;vertical-align:middle;\" /></a></td></tr>\n",
       "<tr><td>4</td><td>Operation</td><td>operator:&nbsp;6<br>operands:&nbsp;7<br></td><td><a class=\"ProveItLink\" href=\"../5c70c335d8e3db65edf08834ff8736cfeecb75ba0/expr.ipynb\"><img src=\"data:image/png;base64,iVBORw0KGgoAAAANSUhEUgAAACEAAAAOBAMAAABTMGi/AAAAMFBMVEX////c3NxmZmbMzMxERESY\n",
       "mJiIiIh2dna6urqqqqoyMjIiIiIQEBBUVFTu7u4AAAAiO1wTAAAAAXRSTlMAQObYZgAAAKFJREFU\n",
       "CNdj4LuzgQEGGJWWNAAprgtwEVkGtp9Ain8CXOQeA8N+INX/AC5y5gHDfaC2argAw/oHDPpAkbVp\n",
       "VxFiDPsfMPB9YeA3gAswf2dg4PzHwFPAwMAHMY3LgYGBaQEDvwIDw3uIq1SAmFuBoT+AgeGNA0iA\n",
       "7QLEOfpw+ycxMAqAjD0ON1eBgVWAgXcCE9wb0uXl2kBLrqkiHPP//28GABUWJ1eCqV+2AAAAAElF\n",
       "TkSuQmCC\n",
       "\" style=\"display:inline;vertical-align:middle;\" /></a></td></tr>\n",
       "<tr><td>5</td><td>ExprTuple</td><td>9, 8</td><td><a class=\"ProveItLink\" href=\"../3a7fed3333ef42636d071b31cc212d3a8cbf468e0/expr.ipynb\"><img src=\"data:image/png;base64,iVBORw0KGgoAAAANSUhEUgAAACkAAAAVBAMAAAAp9toTAAAAMFBMVEX////c3NwiIiJERESqqqqY\n",
       "mJh2dnZmZmYQEBDu7u4yMjJUVFTMzMyIiIi6uroAAAAs73DqAAAAAXRSTlMAQObYZgAAARNJREFU\n",
       "GNNtkaFPw0AUxn8tK20prEMhMFVoDJb0TwCDJA2CKZIaEBgQhAQDlcgmBEEwNSQYkjkEgnlGIEjM\n",
       "FqZqKO/u2omGipf3/a737rvv4P+vO2yBXVVeYOV40wD/MQJ3IN0dVsFHbPBCISWHpSFBhj0xNFSr\n",
       "O+BleBcEv4aOMynX8C3bStya7qkyF3OklV0aev/+APMpt1q9JsbDlHBAJ+dSyxvza6fES+ieoge6\n",
       "64a6OWHK4sTQt/padsp4S9EztTFlubF7kqkJGyKeYRvlVI46ByenD9bafj/yf4QGsVtoZ18yraqq\n",
       "yL/qibOnQxXGJ16vSbRp1I2dpO6dWcAHOskW9SVJVmsxe5JAjbLaLzSCP9bMPeBRRV1aAAAAAElF\n",
       "TkSuQmCC\n",
       "\" style=\"display:inline;vertical-align:middle;\" /></a></td></tr>\n",
       "<tr><td>6</td><td>Literal</td><td></td><td><a class=\"ProveItLink\" href=\"../../../multiplication/__pv_it/21fd2079611555ecce512d99547a00d551e6b86b0/expr.ipynb\"><img src=\"data:image/png;base64,iVBORw0KGgoAAAANSUhEUgAAAAMAAAADBAMAAACkBqiMAAAAElBMVEX///9EREQQEBAiIiLu7u4A\n",
       "AABGBidwAAAAAXRSTlMAQObYZgAAABFJREFUCNdjYHFgcDVgcBIAAASWAQx4jI0xAAAAAElFTkSu\n",
       "QmCC\n",
       "\" style=\"display:inline;vertical-align:middle;\" /></a></td></tr>\n",
       "<tr><td>7</td><td>ExprTuple</td><td>8, 9</td><td><a class=\"ProveItLink\" href=\"../ee9ed5bbb8d5b5bbe3792ba63669476c61e6cf8c0/expr.ipynb\"><img src=\"data:image/png;base64,iVBORw0KGgoAAAANSUhEUgAAACkAAAAVBAMAAAAp9toTAAAAMFBMVEX////c3NwiIiJERESqqqqY\n",
       "mJh2dnZmZmYQEBDu7u4yMjJUVFTMzMyIiIi6uroAAAAs73DqAAAAAXRSTlMAQObYZgAAARBJREFU\n",
       "GNNtkb9Lw0AUgL+oMUlrTHB18T+oi3s2106OIg51EoKijnUQcZIbu3kgDuJgFkEHsbuLf0CF6Nil\n",
       "9QeCi/Vdcg1YvOFx7+N473vv4P8z/zQB1k14JLhdssA5OM/xunK7hFpm6SLhJ2gIpUCUWHoHDVgD\n",
       "X8FAWXqieMjpQF+SzXGja0U7ZzphX5Kr55vKoKGYTbmA4IOoa+HcF8xoTiV+429YWluWCQ75AU8T\n",
       "pZbumvdDQ6dSBs0ShllJjwrdtnVbxYlNhRVMq2OColeKG+NqtqCeeBlnZhcLrdYOxuxVzO73oPNm\n",
       "ZEejd/HI8WPb/aUaRCZ2x6bNim6Xm/xLA13stDStntZNTWfyh3rwCyiDPu7ObTC3AAAAAElFTkSu\n",
       "QmCC\n",
       "\" style=\"display:inline;vertical-align:middle;\" /></a></td></tr>\n",
       "<tr><td>8</td><td>Variable</td><td></td><td><a class=\"ProveItLink\" href=\"../../../../__pv_it/6840a4fa6c106149dc16a131294d0c5e44f1b0480/expr.ipynb\"><img src=\"data:image/png;base64,iVBORw0KGgoAAAANSUhEUgAAAAkAAAAOBAMAAAAPuiubAAAALVBMVEX///9mZmbMzMxERESYmJiI\n",
       "iIh2dna6urqqqqoyMjIiIiIQEBBUVFTu7u4AAAD9S1JeAAAAAXRSTlMAQObYZgAAAE1JREFUCNdj\n",
       "4D29gAEIOA+ASL4GEFl3AURmgQiGOaFHGBh4HzPwKTBwvGXgTmBgnMDAJ8DAJcBQ5wBSLncBJLWN\n",
       "gYGngRFoBO9REQYGAGrcDtUkVqASAAAAAElFTkSuQmCC\n",
       "\" style=\"display:inline;vertical-align:middle;\" /></a></td></tr>\n",
       "<tr><td>9</td><td>Literal</td><td></td><td><a class=\"ProveItLink\" href=\"../../../numeral/__pv_it/77d407a64829263cdc16415becd4c2293f77a4bf0/expr.ipynb\"><img src=\"data:image/png;base64,iVBORw0KGgoAAAANSUhEUgAAAAkAAAAOBAMAAAAPuiubAAAAMFBMVEX///+YmJh2dnbMzMwQEBAi\n",
       "IiLu7u6qqqqIiIhUVFS6urpEREQyMjJmZmbc3NwAAACOMKdoAAAAAXRSTlMAQObYZgAAAFBJREFU\n",
       "CNdj4Lt7egEDw0sGju8MDNMYGOIZGFwSGOYvYDifwHAfKAEUSQASzJ9ATJ4NIPI2iOCYACJrGfge\n",
       "MDBfYGB8wPBUSekqUPH//18ZAIliFhc3zESNAAAAAElFTkSuQmCC\n",
       "\" style=\"display:inline;vertical-align:middle;\" /></a></td></tr>\n",
       "</table>\n"
      ],
      "text/plain": [
       "0. (2 * b) = (b * 2)\n",
       "   core type: Operation\n",
       "   operator: 1\n",
       "   operands: 2\n",
       "1. =\n",
       "   core type: Literal\n",
       "   sub-expressions: \n",
       "2. (2 * b , b * 2)\n",
       "   core type: ExprTuple\n",
       "   sub-expressions: 3, 4\n",
       "3. 2 * b\n",
       "   core type: Operation\n",
       "   operator: 6\n",
       "   operands: 5\n",
       "4. b * 2\n",
       "   core type: Operation\n",
       "   operator: 6\n",
       "   operands: 7\n",
       "5. (2 , b)\n",
       "   core type: ExprTuple\n",
       "   sub-expressions: 9, 8\n",
       "6. *\n",
       "   core type: Literal\n",
       "   sub-expressions: \n",
       "7. (b , 2)\n",
       "   core type: ExprTuple\n",
       "   sub-expressions: 8, 9\n",
       "8. b\n",
       "   core type: Variable\n",
       "   sub-expressions: \n",
       "9. 2\n",
       "   core type: Literal\n",
       "   sub-expressions: "
      ]
     },
     "execution_count": 4,
     "metadata": {},
     "output_type": "execute_result"
    }
   ],
   "source": [
    "# display the expression information\n",
    "expr.exprInfo()"
   ]
  },
  {
   "cell_type": "code",
   "execution_count": null,
   "metadata": {},
   "outputs": [],
   "source": []
  }
 ],
 "metadata": {
  "kernelspec": {
   "display_name": "Python 3",
   "language": "python",
   "name": "python3"
  }
 },
 "nbformat": 4,
 "nbformat_minor": 0
}
