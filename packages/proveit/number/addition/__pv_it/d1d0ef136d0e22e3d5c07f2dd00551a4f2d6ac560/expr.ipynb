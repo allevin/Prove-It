{
 "cells": [
  {
   "cell_type": "markdown",
   "metadata": {},
   "source": [
    "Expression of type <a class=\"ProveItLink\" href=\"../../../../../../doc/html/api/proveit.logic.Equals.html\">Equals</a>\n",
    "=======================\n",
    "# from context <a class=\"ProveItLink\" href=\"../../_context_.ipynb\">proveit.number.addition</a>"
   ]
  },
  {
   "cell_type": "code",
   "execution_count": 1,
   "metadata": {},
   "outputs": [],
   "source": [
    "# import Expression classes needed to build the expression\n",
    "from proveit._common_ import x\n",
    "from proveit.logic import Equals\n",
    "from proveit.number import Mult, zero"
   ]
  },
  {
   "cell_type": "code",
   "execution_count": 2,
   "metadata": {},
   "outputs": [
    {
     "data": {
      "text/html": [
       "<strong id=\"expr\">expr:</strong> <a class=\"ProveItLink\" href=\"expr.ipynb\"><img src=\"data:image/png;base64,iVBORw0KGgoAAAANSUhEUgAAAFkAAAAVBAMAAADfv1+LAAAAMFBMVEX////c3NwiIiJERESqqqqY\n",
       "mJh2dnZmZmYQEBDu7u4yMjJUVFTMzMyIiIi6uroAAAAs73DqAAAAAXRSTlMAQObYZgAAAVtJREFU\n",
       "KM+Vk70vQ1EYh5/bD3rprbsbNNiIWIyS/gFEGYxyYyCGJo2hg2jSiBFpDNpNF0NZiNVgN7iRiPiK\n",
       "xmhRidZC45zW1Tg9d/AO5578fk9O3q8L/4uYqxEX/OgLKDyuK2L3uYqZ2RuplWGMXdUtqXSgYo6C\n",
       "5WLFsVR3XqWv4A4ieQLHxN4Us6jSI/Bq8wJ9aaLvihlMKMIHXCbIwIBD9MtTjdTJdBa60n9hoy5o\n",
       "l4MWXffkPeaSGxBqFrJ2KOPIox122rSZF4fDE1NiCjnN2w6Ndib7cXHkOZVutKrNpNGqsib7MN40\n",
       "tnV0s8okm8gOhtodND4xvUxWB2UM/XRwxmYCOZ2uuAfPWlVuIVzqnM4iLIvbMEVv8qFaMGe4nR0k\n",
       "kDC34FncCqmz3+WZXFm6Ft+eirpVmXvxYsTWbmZRv7BhRyunfPa7rBPNkg/drxN7bR/a0P1pD3r2\n",
       "G7j3WwDJiCtpAAAAAElFTkSuQmCC\n",
       "\" style=\"display:inline;vertical-align:middle;\" /></a><br>"
      ],
      "text/plain": [
       "expr: (0 * x) = 0"
      ]
     },
     "execution_count": 2,
     "metadata": {},
     "output_type": "execute_result"
    }
   ],
   "source": [
    "# build up the expression from sub-expressions\n",
    "expr = Equals(Mult(zero, x), zero)"
   ]
  },
  {
   "cell_type": "code",
   "execution_count": 3,
   "metadata": {},
   "outputs": [
    {
     "name": "stdout",
     "output_type": "stream",
     "text": [
      "Passed sanity check: built 'expr' is the same as the stored Expression.\n"
     ]
    }
   ],
   "source": [
    "# check that the built expression is the same as the stored expression\n",
    "%check_expr"
   ]
  },
  {
   "cell_type": "code",
   "execution_count": 4,
   "metadata": {},
   "outputs": [
    {
     "data": {
      "text/html": [
       "<table><tr><th>&nbsp;</th><th>core type</th><th>sub-expressions</th><th>expression</th></tr>\n",
       "<tr><td>0</td><td>Operation</td><td>operator:&nbsp;1<br>operands:&nbsp;2<br></td><td><a class=\"ProveItLink\" href=\"expr.ipynb\"><img src=\"data:image/png;base64,iVBORw0KGgoAAAANSUhEUgAAAFkAAAAVBAMAAADfv1+LAAAAMFBMVEX////c3NwiIiJERESqqqqY\n",
       "mJh2dnZmZmYQEBDu7u4yMjJUVFTMzMyIiIi6uroAAAAs73DqAAAAAXRSTlMAQObYZgAAAVtJREFU\n",
       "KM+Vk70vQ1EYh5/bD3rprbsbNNiIWIyS/gFEGYxyYyCGJo2hg2jSiBFpDNpNF0NZiNVgN7iRiPiK\n",
       "xmhRidZC45zW1Tg9d/AO5578fk9O3q8L/4uYqxEX/OgLKDyuK2L3uYqZ2RuplWGMXdUtqXSgYo6C\n",
       "5WLFsVR3XqWv4A4ieQLHxN4Us6jSI/Bq8wJ9aaLvihlMKMIHXCbIwIBD9MtTjdTJdBa60n9hoy5o\n",
       "l4MWXffkPeaSGxBqFrJ2KOPIox122rSZF4fDE1NiCjnN2w6Ndib7cXHkOZVutKrNpNGqsib7MN40\n",
       "tnV0s8okm8gOhtodND4xvUxWB2UM/XRwxmYCOZ2uuAfPWlVuIVzqnM4iLIvbMEVv8qFaMGe4nR0k\n",
       "kDC34FncCqmz3+WZXFm6Ft+eirpVmXvxYsTWbmZRv7BhRyunfPa7rBPNkg/drxN7bR/a0P1pD3r2\n",
       "G7j3WwDJiCtpAAAAAElFTkSuQmCC\n",
       "\" style=\"display:inline;vertical-align:middle;\" /></a></td></tr>\n",
       "<tr><td>1</td><td>Literal</td><td></td><td><a class=\"ProveItLink\" href=\"../../../../logic/equality/__pv_it/2fb26078095930560931daa0500ce419a39ea6cd0/expr.ipynb\"><img src=\"data:image/png;base64,iVBORw0KGgoAAAANSUhEUgAAAA4AAAAFBAMAAACHocAhAAAAFVBMVEX///9EREQiIiJUVFQyMjJm\n",
       "ZmYAAADubVkoAAAAAXRSTlMAQObYZgAAABRJREFUCNdjCHEBAWcGXCBICQQUAUpuAwlgGKrkAAAA\n",
       "AElFTkSuQmCC\n",
       "\" style=\"display:inline;vertical-align:middle;\" /></a></td></tr>\n",
       "<tr><td>2</td><td>ExprTuple</td><td>3, 6</td><td><a class=\"ProveItLink\" href=\"../6218990bf776c1d929cf18f722d73b92d850f80d0/expr.ipynb\"><img src=\"data:image/png;base64,iVBORw0KGgoAAAANSUhEUgAAAEUAAAAVBAMAAADiLT7tAAAAMFBMVEX////c3NwiIiJERESqqqqY\n",
       "mJh2dnZmZmYQEBDu7u4yMjJUVFTMzMyIiIi6uroAAAAs73DqAAAAAXRSTlMAQObYZgAAAU9JREFU\n",
       "KM+NkiFPw0AUx38b6+ixdVQQDCGbAAUhGBLkvsGqkKTBoJZMTUGCQBJoIGFz1CBwfABEPYIGwRIG\n",
       "YUFiGASGgnC3stvEZaHicvfe7/re/94f/vMV4rHpTbVcQ+Nxx5QWu62IyUjuLmCF48jApDtiGUJw\n",
       "YpwSTmhgbuEeNsAOSF9SeDMwS/Dq0oQXmK6R/zAwX3BTZqJMHYo++W+dmW3PtPpSUz3JxGRrnCdM\n",
       "T4vxrUW7pBmfTMjhkBGBXLI43Uw0whT2+BnWOlPXBbnV5I9/tfJdxaieP2WwmSTteKRnTzH7KO2Z\n",
       "Ee3FiGCgveKqWmuoN8yWBoTlPuEEfUq+4ZYMhGzLwwJNPYuKt8484l3NoiwOUNqf5aFRvdKVTu5O\n",
       "qx7iyJXt19vy6lQH2zU7RoflLCzfyFh6V028MY4RyhFzRkabM6eKpsZ79QF+AUokVw0bKHpvAAAA\n",
       "AElFTkSuQmCC\n",
       "\" style=\"display:inline;vertical-align:middle;\" /></a></td></tr>\n",
       "<tr><td>3</td><td>Operation</td><td>operator:&nbsp;4<br>operands:&nbsp;5<br></td><td><a class=\"ProveItLink\" href=\"../5bea483a26e89428fa16779811379be93f18462e0/expr.ipynb\"><img src=\"data:image/png;base64,iVBORw0KGgoAAAANSUhEUgAAACQAAAAOBAMAAAC1GaP7AAAAMFBMVEX///9EREQQEBCYmJh2dnaq\n",
       "qqrc3NxUVFQyMjK6uroiIiLMzMyIiIhmZmbu7u4AAADSWfX9AAAAAXRSTlMAQObYZgAAAI9JREFU\n",
       "GNNjYHh75jYDGljJ8GoDqgjPAgaeBlQhrgIGzm+oQvwXGLi/ogrlOzBw/4Fx2HzKYu6Ahb7AhJ4w\n",
       "WBlowYX4HgAJB4bzDNFwje8XAIkHDIVQ4z8D6UcCYK06EEewIhzB9puBD+RUlgUwETOeDwznGBiW\n",
       "MjyCeYj1M6MC2wEGhrc+1TBFfDJ+LocZADLRKPg/NeCkAAAAAElFTkSuQmCC\n",
       "\" style=\"display:inline;vertical-align:middle;\" /></a></td></tr>\n",
       "<tr><td>4</td><td>Literal</td><td></td><td><a class=\"ProveItLink\" href=\"../../../multiplication/__pv_it/21fd2079611555ecce512d99547a00d551e6b86b0/expr.ipynb\"><img src=\"data:image/png;base64,iVBORw0KGgoAAAANSUhEUgAAAAMAAAADBAMAAACkBqiMAAAAElBMVEX///9EREQQEBAiIiLu7u4A\n",
       "AABGBidwAAAAAXRSTlMAQObYZgAAABFJREFUCNdjYHFgcDVgcBIAAASWAQx4jI0xAAAAAElFTkSu\n",
       "QmCC\n",
       "\" style=\"display:inline;vertical-align:middle;\" /></a></td></tr>\n",
       "<tr><td>5</td><td>ExprTuple</td><td>6, 7</td><td><a class=\"ProveItLink\" href=\"../f6a2be2f6af2edb5f2690181669c831f8bf0db2c0/expr.ipynb\"><img src=\"data:image/png;base64,iVBORw0KGgoAAAANSUhEUgAAACwAAAAVBAMAAADP3xFXAAAAMFBMVEX////c3NwiIiJERESqqqqY\n",
       "mJh2dnZmZmYQEBDu7u4yMjJUVFTMzMyIiIi6uroAAAAs73DqAAAAAXRSTlMAQObYZgAAAQNJREFU\n",
       "GNNjYMAB+C6gi7A+ABKnGRim361BEQfxVjIw6DFMOoAszMXAwHuBgVeBgXcBiikJDBwTGJg2MPB9\n",
       "RBbmbGB4xcDAX8DA8wXFcBOGMgYG+QQGnr8QvthtketAl6UzLIUIf4PoTmBV5VBgYPBi6EMWZmPg\n",
       "/cACdNQLhn/IhnAycBuA6PMgYZCVX6GWcVyACLcwgBzIAnOg/AGGCSBDTBlA3mFTAPEYWAXuM/AC\n",
       "GVFAtzAwqDDMOMD5CcjwD7BgkGUAOfARkJyeu4eBs1+AgWHytWm5AUCBdQwcArAAFkD2PDBYoOGD\n",
       "8DvbBXDAogvPAmJpKBspkjYCMSNGpPEeYAAAkIc8ZGiP5oAAAAAASUVORK5CYII=\n",
       "\" style=\"display:inline;vertical-align:middle;\" /></a></td></tr>\n",
       "<tr><td>6</td><td>Literal</td><td></td><td><a class=\"ProveItLink\" href=\"../../../numeral/__pv_it/ec23fc7a1b4222a5f4948b495002b97d6fa18c3c0/expr.ipynb\"><img src=\"data:image/png;base64,iVBORw0KGgoAAAANSUhEUgAAAAoAAAAOBAMAAADkjZCYAAAALVBMVEX///8QEBCYmJh2dnaqqqrc\n",
       "3NxUVFQyMjK6uroiIiLMzMyIiIhmZmbu7u4AAAAZjyHdAAAAAXRSTlMAQObYZgAAAEpJREFUCNdj\n",
       "YLiz+xQDA8MMhpsLGLgnMHAXMHAmMHA8ZeA7wMD1hCHOgIHrNZh8jES+Bss+AqlkeQrSxTyBgWEK\n",
       "w8UFDAx3rLMYAMCjFldHSx/9AAAAAElFTkSuQmCC\n",
       "\" style=\"display:inline;vertical-align:middle;\" /></a></td></tr>\n",
       "<tr><td>7</td><td>Variable</td><td></td><td><a class=\"ProveItLink\" href=\"../../../../__pv_it/530be409e3083890784cf1d7b28c9e67e90af9360/expr.ipynb\"><img src=\"data:image/png;base64,iVBORw0KGgoAAAANSUhEUgAAAAsAAAAJBAMAAAAWSsseAAAAKlBMVEX///9ERETMzMwQEBAiIiKY\n",
       "mJju7u5mZmaqqqpUVFSIiIh2dnbc3NwAAAA/vyDhAAAAAXRSTlMAQObYZgAAAENJREFUCNdjYDi9\n",
       "8sTyBQxsG1hdmR0YuBm4LnAoMLAxcAowgADzAjB1VoEhgYH1wFoGrgSG3gBhhlMMDImrs3cFMAAA\n",
       "t0YN+iTRa+sAAAAASUVORK5CYII=\n",
       "\" style=\"display:inline;vertical-align:middle;\" /></a></td></tr>\n",
       "</table>\n"
      ],
      "text/plain": [
       "0. (0 * x) = 0\n",
       "   core type: Operation\n",
       "   operator: 1\n",
       "   operands: 2\n",
       "1. =\n",
       "   core type: Literal\n",
       "   sub-expressions: \n",
       "2. (0 * x , 0)\n",
       "   core type: ExprTuple\n",
       "   sub-expressions: 3, 6\n",
       "3. 0 * x\n",
       "   core type: Operation\n",
       "   operator: 4\n",
       "   operands: 5\n",
       "4. *\n",
       "   core type: Literal\n",
       "   sub-expressions: \n",
       "5. (0 , x)\n",
       "   core type: ExprTuple\n",
       "   sub-expressions: 6, 7\n",
       "6. 0\n",
       "   core type: Literal\n",
       "   sub-expressions: \n",
       "7. x\n",
       "   core type: Variable\n",
       "   sub-expressions: "
      ]
     },
     "execution_count": 4,
     "metadata": {},
     "output_type": "execute_result"
    }
   ],
   "source": [
    "# display the expression information\n",
    "expr.exprInfo()"
   ]
  },
  {
   "cell_type": "code",
   "execution_count": null,
   "metadata": {},
   "outputs": [],
   "source": []
  }
 ],
 "metadata": {
  "kernelspec": {
   "display_name": "Python 3",
   "language": "python",
   "name": "python3"
  }
 },
 "nbformat": 4,
 "nbformat_minor": 0
}
