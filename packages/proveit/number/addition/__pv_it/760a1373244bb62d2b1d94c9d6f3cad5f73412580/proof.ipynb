{
 "cells": [
  {
   "cell_type": "markdown",
   "metadata": {},
   "source": [
    "Show the Proof\n",
    "========"
   ]
  },
  {
   "cell_type": "code",
   "execution_count": 1,
   "metadata": {},
   "outputs": [
    {
     "data": {
      "text/html": [
       "<table><tr><th>&nbsp;</th><th>step type</th><th>requirements</th><th>statement</th></tr>\n",
       "<tr><td>0</td><td>specialization</td><td>1, 2</td><td><span style=\"font-size:20px;\"><a class=\"ProveItLink\" href=\"../0b6eb785cd2edcc2b86989d54b41550759444b530/expr.ipynb\"><img src=\"data:image/png;base64,iVBORw0KGgoAAAANSUhEUgAAAEsAAAAVBAMAAAD85A5eAAAAMFBMVEX///9ERETc3NyqqqpUVFS6\n",
       "urrMzMwyMjIQEBCIiIh2dnYiIiLu7u5mZmaYmJgAAABJJ2g3AAAAAXRSTlMAQObYZgAAAUZJREFU\n",
       "KM9jYGDgu8eAD7CtUgBRPLsY8AO2ZhDJ+QHKzcZQMLv8x8YLDAzXQWyuBqhgPbqq1K8Mp346MDCs\n",
       "QFbGt/8Aqio+lgcMDPboypTvg53KwDN99+4CEOMNB5DgRVc2YX4AmE5/AzXtggpI0wRUZawH7B+A\n",
       "aCYZqCqeC1FQFlgZL9gGhqMM+RNANKMCLBwW2EFZ70FEBsSuAAb9CyD6IDy4FsRBWexAiZQ2iKCL\n",
       "i78AiBGxezfECzwCWTAd4kDnRCSAncbAwAG2PQUeIDUsUAb3AiDBApY1APLAfjkNV/YKrOwA1G1c\n",
       "G0D+AypjB8caywOYMsanQD+x7kEOkOMg4T/gcNgKN85F8sBRwQNIyhT7ixj45L+Dvap+De7X2/9b\n",
       "AhjQYgEOTKohkQUH2JVhALAyPoLKwOmNZyeh1NsKSVeLCecFAH4rVeSNuVHXAAAAAElFTkSuQmCC\n",
       "\" style=\"display:inline;vertical-align:middle;\" /></a> <a class=\"ProveItLink\" href=\"proof.ipynb\" style=\"text-decoration: none\">&#x22A2;&nbsp;</a><a class=\"ProveItLink\" href=\"../2155942df6531d6ed304138f812bb263ceb4f9e80/expr.ipynb\"><img src=\"data:image/png;base64,iVBORw0KGgoAAAANSUhEUgAAAGYAAAAZBAMAAAAxhUZFAAAAMFBMVEX////c3NwiIiJERESqqqqY\n",
       "mJh2dnZmZmYQEBDu7u4yMjJUVFTMzMyIiIi6uroAAAAs73DqAAAAAXRSTlMAQObYZgAAAbZJREFU\n",
       "OMtjYCARpFtPIFUL+wT2BaTqYRJg/EOqHg4Hzn8MJAOWnwwMfBewybA+wKWHK4GB4TSEeQhJGMSu\n",
       "wVB8adUP5QIGhmwgcyVEZD2SLIjNha7l3D+GaX83MLACreGFOI1VHxHsYDZIDsWx3AEMDP4bGJ4x\n",
       "nGHggKgVqReAS4PZnA0QztxFSlogOpIDFDsbeExcdjK8gkhduI/wNIRtAmbzLIXaXyANJDgvcPz/\n",
       "/4GhDCzCN8E/AKYFyk4Hc4ShWjgLniHcuRRMzmM4Dw9yKNsLzDGECvIkuCL09IHJBwzyBTARKPsF\n",
       "2HgDuJ6nCD3glMCze/d+uCyUfR7sziYlJXAYcBocQ9PDB0xIsOQKY4P18GyAqVvJjdDTAiIcgAkW\n",
       "GrZwNsRtCjB1YWA9kBAxBWJGoDquDxARGJshCiy9FaaHOQ4YMHyakHwHxLNAYj8ZOD8h2LCwngSP\n",
       "tt22E+YZQ+x5BIyD/oUMrPa/Cjj7BeBsBoZ1YGnG5QdgYVP0vxtqAAcizTDwIbFhaYdlFyTtoKQ9\n",
       "pLTIiiTOdgFPvluJXc8sfHlVGsFENnojPj2MWB3BewC3DgDPOnKuKK0obwAAAABJRU5ErkJggg==\n",
       "\" style=\"display:inline;vertical-align:middle;\" /></a></span></td></tr>\n",
       "<tr><td>&nbsp;</td><td colspan=4 style=\"text-align:left\"><span style=\"font-size:20px;\"><a class=\"ProveItLink\" href=\"../../../../__pv_it/abeee18594afe51bfb1be95d9591fbba24ac53f30/expr.ipynb\"><img src=\"data:image/png;base64,iVBORw0KGgoAAAANSUhEUgAAAA0AAAAOBAMAAAAGUYvhAAAAMFBMVEX///8iIiIQEBCIiIjMzMzc\n",
       "3Nyqqqp2dnZEREQyMjK6urru7u5mZmZUVFSYmJgAAACI6eGPAAAAAXRSTlMAQObYZgAAAF1JREFU\n",
       "CNdjYGDgu3Nm3wIGBoZ5DNz9QIq3gIEhE0jHOzAwOAPp9QkMDC4g/megABAw///fCmbEXfq0Acxg\n",
       "qH8ANAVI7wfSe0BKAyBGnAXigwYMzA1A+sLau31ACgAz0hhbkhGHbwAAAABJRU5ErkJggg==\n",
       "\" style=\"display:inline;vertical-align:middle;\" /></a> : <a class=\"ProveItLink\" href=\"../../../sets/complex/__pv_it/c357845f93a5a2d9f649129d299e7ec28dda4b960/expr.ipynb\"><img src=\"data:image/png;base64,iVBORw0KGgoAAAANSUhEUgAAAA8AAAAOBAMAAAACpFvcAAAAMFBMVEX////c3NyqqqqYmJhUVFR2\n",
       "dnbu7u66urrMzMxmZmZEREQQEBAyMjIiIiKIiIgAAAB7fvZ0AAAAAXRSTlMAQObYZgAAAGVJREFU\n",
       "CNdjYGDgu3N+70oGBgaO+gK2+CdAhoEzAwPTFwYG5oQNQN4UBgZORgcgI4+BIZM9gAEMWpkMoAx2\n",
       "KCOLAyrFk+AAYTAHgBhsQLy4DkjUJjAwsHg9Y6taBpLsvP/bnYEBACkBFGQfBv8RAAAAAElFTkSu\n",
       "QmCC\n",
       "\" style=\"display:inline;vertical-align:middle;\" /></a>, <a class=\"ProveItLink\" href=\"../../../../__pv_it/07527342713064c87612d00d8557c53d53d5324a0/expr.ipynb\"><img src=\"data:image/png;base64,iVBORw0KGgoAAAANSUhEUgAAAAsAAAAJBAMAAAAWSsseAAAAMFBMVEX///8yMjKqqqrMzMzu7u4i\n",
       "IiJmZmaYmJhEREQQEBC6urp2dnaIiIhUVFTc3NwAAAD87Fq/AAAAAXRSTlMAQObYZgAAAEhJREFU\n",
       "CNdjYOC7s2seAwPDygccHxgY+L4zsDUwMPB+YGA9wMDA38Dgb8DA8P4Agz6DA4O/AsNFJgMGxgKm\n",
       "MG6gyjunLE4xAAAZTBA5TB6DCwAAAABJRU5ErkJggg==\n",
       "\" style=\"display:inline;vertical-align:middle;\" /></a> : <a class=\"ProveItLink\" href=\"../../../../__pv_it/2cbe72a7ad6f655694dd697106680215e8489b600/expr.ipynb\"><img src=\"data:image/png;base64,iVBORw0KGgoAAAANSUhEUgAAAA8AAAAOBAMAAAACpFvcAAAALVBMVEX///8QEBBERERUVFS6urqI\n",
       "iIhmZmaqqqrc3Nzu7u6YmJgyMjIiIiLMzMwAAADtIaYWAAAAAXRSTlMAQObYZgAAAFtJREFUCNdj\n",
       "YACBOwxQsA9Kc52bAGG05zVAGAFxDmCaZULdAjBjCsO9ADDDgaEvAUTzGhvbKYCVMDAwbgAxChgY\n",
       "eASANAeQwf0AyJgNxEwvGRia5HYwcOm9TgAA6BoR3jrzwFcAAAAASUVORK5CYII=\n",
       "\" style=\"display:inline;vertical-align:middle;\" /></a>, <a class=\"ProveItLink\" href=\"../../../../__pv_it/6840a4fa6c106149dc16a131294d0c5e44f1b0480/expr.ipynb\"><img src=\"data:image/png;base64,iVBORw0KGgoAAAANSUhEUgAAAAkAAAAOBAMAAAAPuiubAAAALVBMVEX///9mZmbMzMxERESYmJiI\n",
       "iIh2dna6urqqqqoyMjIiIiIQEBBUVFTu7u4AAAD9S1JeAAAAAXRSTlMAQObYZgAAAE1JREFUCNdj\n",
       "4D29gAEIOA+ASL4GEFl3AURmgQiGOaFHGBh4HzPwKTBwvGXgTmBgnMDAJ8DAJcBQ5wBSLncBJLWN\n",
       "gYGngRFoBO9REQYGAGrcDtUkVqASAAAAAElFTkSuQmCC\n",
       "\" style=\"display:inline;vertical-align:middle;\" /></a> : <a class=\"ProveItLink\" href=\"../../../../__pv_it/2cbe72a7ad6f655694dd697106680215e8489b600/expr.ipynb\"><img src=\"data:image/png;base64,iVBORw0KGgoAAAANSUhEUgAAAA8AAAAOBAMAAAACpFvcAAAALVBMVEX///8QEBBERERUVFS6urqI\n",
       "iIhmZmaqqqrc3Nzu7u6YmJgyMjIiIiLMzMwAAADtIaYWAAAAAXRSTlMAQObYZgAAAFtJREFUCNdj\n",
       "YACBOwxQsA9Kc52bAGG05zVAGAFxDmCaZULdAjBjCsO9ADDDgaEvAUTzGhvbKYCVMDAwbgAxChgY\n",
       "eASANAeQwf0AyJgNxEwvGRia5HYwcOm9TgAA6BoR3jrzwFcAAAAASUVORK5CYII=\n",
       "\" style=\"display:inline;vertical-align:middle;\" /></a></span></td></tr><tr><td>1</td><td>theorem</td><td></td><td><span style=\"font-size:20px;\"> <a class=\"ProveItLink\" href=\"../../../../logic/set_theory/membership/_proofs_/exp_set_2.ipynb\" style=\"text-decoration: none\">&#x22A2;&nbsp;</a><a class=\"ProveItLink\" href=\"../5cf16b13cffc17e2eec05624cd8addb28309c1580/expr.ipynb\"><img src=\"data:image/png;base64,iVBORw0KGgoAAAANSUhEUgAAAOMAAAAcBAMAAABhZBWzAAAAMFBMVEX///8QEBC6urrMzMxUVFRm\n",
       "ZmZERETc3NwyMjKqqqp2dnaIiIiYmJgiIiLu7u4AAAAU9Wx4AAAAAXRSTlMAQObYZgAAA+VJREFU\n",
       "SMe9Vl1IFFEUPs64juvujkIPkqFuP0IQ4T6kPUX2Z7/Uhq39i0SsiEk+iBtEuUQShMVCBfUQLUFF\n",
       "9WL086BGQ1mUkRjRD9XGEmaCmItLimRu59z52dlZHXZ7cGDvnrn33Pvd+53vnLkAc/LkVG+HOX5q\n",
       "YI/peGOoKZVlFqUB+RFaXRBEY3koONN4f0qr8BVpQM6HUSesIEuo+H/IoXBa1F4Lg61DhgzPBCmm\n",
       "sMY2apYZOu3O2dzPMnoZJDvSawOkg03vMEMU8ozkDhRiU5Xs2eOpeQo55PlAhrxNvecNkDkB/Ms2\n",
       "Zc7iTnI5TT1JjtkSDEagl8zRMINsIeRaAyTraDHlNYMo7EromiRqkgS5BcDq54K8C8AhMUjaqCVg\n",
       "lA8de68p5GpqivQ93DQ2Yp78Mnwu9EkOQBT57yi/cpFwahmk/ZbPdyJJsb0+n89cuPcIxJ9QYdiE\n",
       "ejmD2lXKOTw77yqOxYiCiJwk417v5yTIXK+3MWgKuYniSS7NnQvlypG99QESd4PZLVqQhdj9BB4I\n",
       "ch1AHb6W3el2xSEzXZCllaCl2mH4fXefKeZhWRnA5cNRuWe0FpDEy8yui+/tSWxcXYmPypBLQMQl\n",
       "OTeU6k7JVcBQnDG3apUAF1HMNkVCrRJUa8leALCQTFGnR6GnWA25MCZDOsAmUQtZ+urTD91xmZO6\n",
       "hj0H2Ii62Hv85SLkDoAvcg8W7t+KrLjCUEiRD215SjHESRnSJjnCLGXseshu+KZB5iIxtkMnf4GI\n",
       "sZAMkOMgRtUebkqB1JUI9BenDKcU/VRuHQXOhBo7RLOE/TcpvqVd2+E5G3l7PSHvMwIg/AFrRFTS\n",
       "0jKtEqupXcSgCBMqpBJLqFtLQztjAT1kVjNuYaSplZT3GHpAVtCP4knVqZKcJOIq03+BVeooZKCC\n",
       "X8YLMD1WnGhRz8xNKJCX5C015+khrQex2QCr6L0B3vBKxghrVKfHiq7a4ao7KP7Ft82wC9QkGVE5\n",
       "s2CgH2lFX8lLyMDyLTpBjCR8vBbgb4wVYpgH1fwHr7cBvmPMVSfSN4eezV2LG5xiMYZ74CHF+ZS8\n",
       "tTYl4zK59ZWSpiO/AmlHVqwB4GsTIPuA1HLkJ5oR+Coybq4AlGuaojXztSRXU08teNZNccXGpd+h\n",
       "+0Rj9Yunvhb7Ij7aJ5yBfgzIRnqv1uV4JlHdq1GmHcTsizfapIcs8+xOvhWUdD+U+Cko6QQYpOBU\n",
       "eTzavvh+/cdLgxwyK5IvUryIKKvdxFgmPPX6+drZNppBvksRcuUs849Rc9zQaXOZINrdKUJKsyxg\n",
       "DaZ7mW2Z/YYXSu0e+yr9+zPdYytg7p9/ajsM3M+WFooAAAAASUVORK5CYII=\n",
       "\" style=\"display:inline;vertical-align:middle;\" /></a></span></td></tr>\n",
       "<tr><td>&nbsp;</td><td colspan=4 style-\"text-align:left\"><a class=\"ProveItLink\" href=\"../../../../logic/set_theory/membership/_proofs_/exp_set_2.ipynb\">proveit.logic.set_theory.membership.exp_set_2</a></td></tr><tr><td>2</td><td>assumption</td><td></td><td><span style=\"font-size:20px;\"><a class=\"ProveItLink\" href=\"../0b6eb785cd2edcc2b86989d54b41550759444b530/expr.ipynb\"><img src=\"data:image/png;base64,iVBORw0KGgoAAAANSUhEUgAAAEsAAAAVBAMAAAD85A5eAAAAMFBMVEX///9ERETc3NyqqqpUVFS6\n",
       "urrMzMwyMjIQEBCIiIh2dnYiIiLu7u5mZmaYmJgAAABJJ2g3AAAAAXRSTlMAQObYZgAAAUZJREFU\n",
       "KM9jYGDgu8eAD7CtUgBRPLsY8AO2ZhDJ+QHKzcZQMLv8x8YLDAzXQWyuBqhgPbqq1K8Mp346MDCs\n",
       "QFbGt/8Aqio+lgcMDPboypTvg53KwDN99+4CEOMNB5DgRVc2YX4AmE5/AzXtggpI0wRUZawH7B+A\n",
       "aCYZqCqeC1FQFlgZL9gGhqMM+RNANKMCLBwW2EFZ70FEBsSuAAb9CyD6IDy4FsRBWexAiZQ2iKCL\n",
       "i78AiBGxezfECzwCWTAd4kDnRCSAncbAwAG2PQUeIDUsUAb3AiDBApY1APLAfjkNV/YKrOwA1G1c\n",
       "G0D+AypjB8caywOYMsanQD+x7kEOkOMg4T/gcNgKN85F8sBRwQNIyhT7ixj45L+Dvap+De7X2/9b\n",
       "AhjQYgEOTKohkQUH2JVhALAyPoLKwOmNZyeh1NsKSVeLCecFAH4rVeSNuVHXAAAAAElFTkSuQmCC\n",
       "\" style=\"display:inline;vertical-align:middle;\" /></a> <a class=\"ProveItLink\" href=\"../43530a4b53d1dd6c6be3fa20b8afb19133b6d95c0/proof.ipynb\" style=\"text-decoration: none\">&#x22A2;&nbsp;</a><a class=\"ProveItLink\" href=\"../2c6478f5e8e1ce586fdde9d8472162e59b7d86cd0/expr.ipynb\"><img src=\"data:image/png;base64,iVBORw0KGgoAAAANSUhEUgAAADgAAAAPBAMAAABD1xE4AAAAMFBMVEX///92dnYQEBBERERUVFS6\n",
       "urqIiIhmZmaqqqrc3Nzu7u6YmJgyMjIiIiLMzMwAAACFkkdwAAAAAXRSTlMAQObYZgAAAOVJREFU\n",
       "GNNjYACBtwzoIPfMp8sFEOZ5dLmnXxkWfnMAM7nvL0CV42bZwMDQD5GcUT8BTHPl3L17AMTYxQQk\n",
       "2CGSCfkBYPrNLqjOgikgpQkgJuuC/g0gmtMKKsdVEAi3YSnDe7Ai5glQAT6BbrhkAMN8sKsXM8Al\n",
       "o+FMFxd/AxAj6O5diIO4DB7CJFkZGJjAbnwCN+sUC4zVwMDAqwBirIVLbgRLAj3PCZTk+QDisGyA\n",
       "STJvBbqQ9RYDwxoQ5xfYB1fhWl3MFiw1XsAwWf8kA7f9H7Bz59TBHVn7XyUALbxbzkKCDwoAE7E8\n",
       "zQq+AAsAAAAASUVORK5CYII=\n",
       "\" style=\"display:inline;vertical-align:middle;\" /></a></span></td></tr>\n",
       "</table>"
      ],
      "text/plain": [
       "<proveit._core_.proof._ShowProof at 0x7f94ebb1d908>"
      ]
     },
     "execution_count": 1,
     "metadata": {},
     "output_type": "execute_result"
    }
   ],
   "source": [
    "import proveit\n",
    "%show_proof"
   ]
  },
  {
   "cell_type": "code",
   "execution_count": null,
   "metadata": {},
   "outputs": [],
   "source": []
  }
 ],
 "metadata": {
  "kernelspec": {
   "display_name": "Python 3",
   "language": "python",
   "name": "python3"
  }
 },
 "nbformat": 4,
 "nbformat_minor": 0
}
