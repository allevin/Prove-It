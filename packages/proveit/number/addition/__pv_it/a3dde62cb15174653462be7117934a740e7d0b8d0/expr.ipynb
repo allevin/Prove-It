{
 "cells": [
  {
   "cell_type": "markdown",
   "metadata": {},
   "source": [
    "Expression of type <a class=\"ProveItLink\" href=\"../../../../../../doc/html/api/proveit.ExprTuple.html\">ExprTuple</a>\n",
    "=======================\n",
    "# from context <a class=\"ProveItLink\" href=\"../../_context_.ipynb\">proveit.number.addition</a>"
   ]
  },
  {
   "cell_type": "code",
   "execution_count": 1,
   "metadata": {},
   "outputs": [],
   "source": [
    "# import Expression classes needed to build the expression\n",
    "from proveit import ExprTuple, Variable\n",
    "from proveit._common_ import A, B, C, a, b, c\n",
    "from proveit.number import Mult, two"
   ]
  },
  {
   "cell_type": "code",
   "execution_count": 2,
   "metadata": {},
   "outputs": [
    {
     "data": {
      "text/html": [
       "<strong id=\"expr\">expr:</strong> <a class=\"ProveItLink\" href=\"expr.ipynb\"><img src=\"data:image/png;base64,iVBORw0KGgoAAAANSUhEUgAAANEAAAAVBAMAAAAqbRZ+AAAAMFBMVEX////c3NwiIiJERESqqqqY\n",
       "mJh2dnZmZmYQEBDu7u4yMjJUVFTMzMyIiIi6uroAAAAs73DqAAAAAXRSTlMAQObYZgAAAulJREFU\n",
       "SMe9VU1oE0EU/jbNdrP5a0ShoId60eqpARH0oBa8Kkk9eNScWgtGA6KViiSKCAq2i4dSWjFREdSC\n",
       "VioUDCVFDx48JCBSpLapXhRP8SdKbDS+2ZndTLYt7cUOZPLemzfzzXvve7PA+o1gYR1AjrHptWxp\n",
       "7d/f6PJC/I9etixqbjE78djS9DeTZ5XEqkjaNE0PJYMyjmJng8sTSxizTZ4wkFwQyokoguejqweV\n",
       "AQJy8nwGXCXZQe0whPTDtuVpR36cyyM7aTodWh3pKN3QkHTPNfj+yg6bkuKUYMW2Fcl0PMblB2z3\n",
       "5zUUahj4IuveCrQGpEJRpKl5q23bQ78d/H6aGWnrGpCaOnGOlWfq1CXL5KrIvDQiogbeqVmrGovA\n",
       "5r1cbMuw+RZXhuLv5bOV+NPDF22tOYH7LPxQk12dfEzyvm0WhY10GFUu+RfnZraJ9aTEBf8A7spI\n",
       "QzgStQkLdwYDhF6GFrZM90zuiuItoE0wOGLgKpcCX4GbghAdEheGC9gtI8VQxKF6dlKgsvhKcFkM\n",
       "5JBpXhV/NpsTV+gHfomMpwitzOWaOfNr5RyVMTAhaf4SQ2oJIz0tLLP8fvz8ILExw+3tCIrTWyge\n",
       "9SeXB83E8L3fl7DgRiPSFaprARFxMXcCG+rL1MSulNVOmqBKnmrjE92VY7s0ToA/TiClCl3OHuU2\n",
       "3Ynn7mnT+groqrsSkrfEs1OFJ8Zvw9qJOKdbTYxe7kEhq5CasytQwrv6E5BBD50Wdbc3m7VRtnf3\n",
       "1BtnhFWlAv0b/T/DBS6wdvJfN3gpVYrtU4gvTAInuQfPTrkppRRkln9k7TT/ch7DxClXrVazkTYO\n",
       "3oF64HdCH6QoRmeiMIUztWz2ESWQudPzPNZHgZsLWnzOMIWDu2gY+r7e7reWQtEswGMT9cOK35WQ\n",
       "U3C6L+/heI1Uu1NXfJHVJYLTfXkPecTlr8b/RNJZs2wRSmDF17GwRHC6L+shDx/LqrIeX3d6e/8B\n",
       "gAXGe/HXae4AAAAASUVORK5CYII=\n",
       "\" style=\"display:inline;vertical-align:middle;\" /></a><br>"
      ],
      "text/plain": [
       "expr: (a , 2 * A , b , B , C , c , _x_)"
      ]
     },
     "execution_count": 2,
     "metadata": {},
     "output_type": "execute_result"
    }
   ],
   "source": [
    "# build up the expression from sub-expressions\n",
    "expr = ExprTuple(a, Mult(two, A), b, B, C, c, Variable(\"_x_\", latexFormat = r\"{_{-}x_{-}}\"))"
   ]
  },
  {
   "cell_type": "code",
   "execution_count": 3,
   "metadata": {},
   "outputs": [
    {
     "name": "stdout",
     "output_type": "stream",
     "text": [
      "Passed sanity check: built 'expr' is the same as the stored Expression.\n"
     ]
    }
   ],
   "source": [
    "# check that the built expression is the same as the stored expression\n",
    "%check_expr"
   ]
  },
  {
   "cell_type": "code",
   "execution_count": 4,
   "metadata": {},
   "outputs": [
    {
     "data": {
      "text/html": [
       "<table><tr><th>&nbsp;</th><th>core type</th><th>sub-expressions</th><th>expression</th></tr>\n",
       "<tr><td>0</td><td>ExprTuple</td><td>1, 2, 3, 4, 5, 6, 7</td><td><a class=\"ProveItLink\" href=\"expr.ipynb\"><img src=\"data:image/png;base64,iVBORw0KGgoAAAANSUhEUgAAANEAAAAVBAMAAAAqbRZ+AAAAMFBMVEX////c3NwiIiJERESqqqqY\n",
       "mJh2dnZmZmYQEBDu7u4yMjJUVFTMzMyIiIi6uroAAAAs73DqAAAAAXRSTlMAQObYZgAAAulJREFU\n",
       "SMe9VU1oE0EU/jbNdrP5a0ShoId60eqpARH0oBa8Kkk9eNScWgtGA6KViiSKCAq2i4dSWjFREdSC\n",
       "VioUDCVFDx48JCBSpLapXhRP8SdKbDS+2ZndTLYt7cUOZPLemzfzzXvve7PA+o1gYR1AjrHptWxp\n",
       "7d/f6PJC/I9etixqbjE78djS9DeTZ5XEqkjaNE0PJYMyjmJng8sTSxizTZ4wkFwQyokoguejqweV\n",
       "AQJy8nwGXCXZQe0whPTDtuVpR36cyyM7aTodWh3pKN3QkHTPNfj+yg6bkuKUYMW2Fcl0PMblB2z3\n",
       "5zUUahj4IuveCrQGpEJRpKl5q23bQ78d/H6aGWnrGpCaOnGOlWfq1CXL5KrIvDQiogbeqVmrGovA\n",
       "5r1cbMuw+RZXhuLv5bOV+NPDF22tOYH7LPxQk12dfEzyvm0WhY10GFUu+RfnZraJ9aTEBf8A7spI\n",
       "QzgStQkLdwYDhF6GFrZM90zuiuItoE0wOGLgKpcCX4GbghAdEheGC9gtI8VQxKF6dlKgsvhKcFkM\n",
       "5JBpXhV/NpsTV+gHfomMpwitzOWaOfNr5RyVMTAhaf4SQ2oJIz0tLLP8fvz8ILExw+3tCIrTWyge\n",
       "9SeXB83E8L3fl7DgRiPSFaprARFxMXcCG+rL1MSulNVOmqBKnmrjE92VY7s0ToA/TiClCl3OHuU2\n",
       "3Ynn7mnT+groqrsSkrfEs1OFJ8Zvw9qJOKdbTYxe7kEhq5CasytQwrv6E5BBD50Wdbc3m7VRtnf3\n",
       "1BtnhFWlAv0b/T/DBS6wdvJfN3gpVYrtU4gvTAInuQfPTrkppRRkln9k7TT/ch7DxClXrVazkTYO\n",
       "3oF64HdCH6QoRmeiMIUztWz2ESWQudPzPNZHgZsLWnzOMIWDu2gY+r7e7reWQtEswGMT9cOK35WQ\n",
       "U3C6L+/heI1Uu1NXfJHVJYLTfXkPecTlr8b/RNJZs2wRSmDF17GwRHC6L+shDx/LqrIeX3d6e/8B\n",
       "gAXGe/HXae4AAAAASUVORK5CYII=\n",
       "\" style=\"display:inline;vertical-align:middle;\" /></a></td></tr>\n",
       "<tr><td>1</td><td>Variable</td><td></td><td><a class=\"ProveItLink\" href=\"../../../../__pv_it/07527342713064c87612d00d8557c53d53d5324a0/expr.ipynb\"><img src=\"data:image/png;base64,iVBORw0KGgoAAAANSUhEUgAAAAsAAAAJBAMAAAAWSsseAAAAMFBMVEX///8yMjKqqqrMzMzu7u4i\n",
       "IiJmZmaYmJhEREQQEBC6urp2dnaIiIhUVFTc3NwAAAD87Fq/AAAAAXRSTlMAQObYZgAAAEhJREFU\n",
       "CNdjYOC7s2seAwPDygccHxgY+L4zsDUwMPB+YGA9wMDA38Dgb8DA8P4Agz6DA4O/AsNFJgMGxgKm\n",
       "MG6gyjunLE4xAAAZTBA5TB6DCwAAAABJRU5ErkJggg==\n",
       "\" style=\"display:inline;vertical-align:middle;\" /></a></td></tr>\n",
       "<tr><td>2</td><td>Operation</td><td>operator:&nbsp;8<br>operands:&nbsp;9<br></td><td><a class=\"ProveItLink\" href=\"../a8bfb4d28f783ce3dcf3052606176f6526e1de4b0/expr.ipynb\"><img src=\"data:image/png;base64,iVBORw0KGgoAAAANSUhEUgAAACgAAAAOBAMAAACvJUN1AAAAMFBMVEX///+YmJh2dnbMzMwQEBAi\n",
       "IiLu7u6qqqqIiIhUVFS6urpEREQyMjJmZmbc3NwAAACOMKdoAAAAAXRSTlMAQObYZgAAAKVJREFU\n",
       "GNNj4Lt7egEDMmAOYGB4ycDxHUWQ5wMDwzQGhngUQdFvDAwuCQzzkfXz1f5jYDifwHAfWZCD4xeY\n",
       "jk9AElzG/hFs3SckMbYFzD/A1m0AkWkQQS4Gvr8g+jZYxVeIoOXMmb9BJk8AC3pDBIF2+gCpWga+\n",
       "B3Aj2YE4BGjNBQZGhOBzID7PwPBUSekqwu4DQGJ/AkP8//9f4b7Z8ucBg/T/swC2DCzXRPftOwAA\n",
       "AABJRU5ErkJggg==\n",
       "\" style=\"display:inline;vertical-align:middle;\" /></a></td></tr>\n",
       "<tr><td>3</td><td>Variable</td><td></td><td><a class=\"ProveItLink\" href=\"../../../../__pv_it/6840a4fa6c106149dc16a131294d0c5e44f1b0480/expr.ipynb\"><img src=\"data:image/png;base64,iVBORw0KGgoAAAANSUhEUgAAAAkAAAAOBAMAAAAPuiubAAAALVBMVEX///9mZmbMzMxERESYmJiI\n",
       "iIh2dna6urqqqqoyMjIiIiIQEBBUVFTu7u4AAAD9S1JeAAAAAXRSTlMAQObYZgAAAE1JREFUCNdj\n",
       "4D29gAEIOA+ASL4GEFl3AURmgQiGOaFHGBh4HzPwKTBwvGXgTmBgnMDAJ8DAJcBQ5wBSLncBJLWN\n",
       "gYGngRFoBO9REQYGAGrcDtUkVqASAAAAAElFTkSuQmCC\n",
       "\" style=\"display:inline;vertical-align:middle;\" /></a></td></tr>\n",
       "<tr><td>4</td><td>Variable</td><td></td><td><a class=\"ProveItLink\" href=\"../../../../__pv_it/077b2ff79244fb4582cbe22c6e3356fa92a52f2f0/expr.ipynb\"><img src=\"data:image/png;base64,iVBORw0KGgoAAAANSUhEUgAAABAAAAAOBAMAAADUAYG5AAAAMFBMVEX///+qqqru7u4iIiJ2dnbc\n",
       "3NyIiIjMzMxmZmYQEBC6uroyMjJERERUVFSYmJgAAADLUcuvAAAAAXRSTlMAQObYZgAAAGpJREFU\n",
       "CNdjYGB4+//u3dMLGIBgDgMDxy8gzf4NiP8CGWxfGRj4vgAZPBMYGJgnARn8FxhY9ygAGfXX0pof\n",
       "gDTlBzAw2YIYJ0EckBBI53sHoBH/gIz7AhBjWH9DjancBLTl/N+7t/cxMAAA3u4f/5xagjYAAAAA\n",
       "SUVORK5CYII=\n",
       "\" style=\"display:inline;vertical-align:middle;\" /></a></td></tr>\n",
       "<tr><td>5</td><td>Variable</td><td></td><td><a class=\"ProveItLink\" href=\"../../../../__pv_it/985a1bdf1540838275dec15f4ad6de261cca93ce0/expr.ipynb\"><img src=\"data:image/png;base64,iVBORw0KGgoAAAANSUhEUgAAAA8AAAAOBAMAAAACpFvcAAAAMFBMVEX////MzMyqqqoiIiIyMjK6\n",
       "uroQEBB2dnbc3NyYmJhmZmZUVFRERESIiIju7u4AAAB204erAAAAAXRSTlMAQObYZgAAAGZJREFU\n",
       "CNdjYGDgu7NrJccCBgaGsgkMrMsmMDA8sQNy6hsYGNweABlhDAxcn4A0QxcDQ78DiPGQgWH9BAYI\n",
       "sG+AMv6DSaCGfBDNJMDAsB+kmwuI5S8AiTog5gSaEwXWIO29SgFIAQBC+RaDQlidVgAAAABJRU5E\n",
       "rkJggg==\n",
       "\" style=\"display:inline;vertical-align:middle;\" /></a></td></tr>\n",
       "<tr><td>6</td><td>Variable</td><td></td><td><a class=\"ProveItLink\" href=\"../../../../__pv_it/cbdfda466482236edba0ce44ac7ef39cda0af7a40/expr.ipynb\"><img src=\"data:image/png;base64,iVBORw0KGgoAAAANSUhEUgAAAAkAAAAJBAMAAAASvxsjAAAALVBMVEX///9mZmbc3NxUVFSYmJhE\n",
       "REQiIiIyMjK6uroQEBDMzMyIiIh2dnbu7u4AAABgFDGoAAAAAXRSTlMAQObYZgAAADZJREFUCNdj\n",
       "YOA9s3sBA8PKBvYEBt7ZDKwODMwPGICALwBE6m0Asx0YGIDiAgw8QJUyu/cyAAAmuwmycZ8WfQAA\n",
       "AABJRU5ErkJggg==\n",
       "\" style=\"display:inline;vertical-align:middle;\" /></a></td></tr>\n",
       "<tr><td>7</td><td>Variable</td><td></td><td><a class=\"ProveItLink\" href=\"../5144cf74ae6a683b49b974f1b9302b432abf7e930/expr.ipynb\"><img src=\"data:image/png;base64,iVBORw0KGgoAAAANSUhEUgAAACUAAAAJBAMAAABH3vh9AAAAKlBMVEX////MzMwQEBAiIiKYmJhm\n",
       "ZmZUVFSIiIh2dnbc3Nzu7u5ERESqqqoAAABwkVEpAAAAAXRSTlMAQObYZgAAAEtJREFUCNdjYIAA\n",
       "zvbM4+EMqGAFg7ODMppYA0Mtw0E0sQUM2QyYQB1TiPMiAxeakCf7BYYqVCGeK9wKnAUw3undQLCA\n",
       "a3tXRwmMAwC3+RVNp6j0GAAAAABJRU5ErkJggg==\n",
       "\" style=\"display:inline;vertical-align:middle;\" /></a></td></tr>\n",
       "<tr><td>8</td><td>Literal</td><td></td><td><a class=\"ProveItLink\" href=\"../../../multiplication/__pv_it/21fd2079611555ecce512d99547a00d551e6b86b0/expr.ipynb\"><img src=\"data:image/png;base64,iVBORw0KGgoAAAANSUhEUgAAAAMAAAADBAMAAACkBqiMAAAAElBMVEX///9EREQQEBAiIiLu7u4A\n",
       "AABGBidwAAAAAXRSTlMAQObYZgAAABFJREFUCNdjYHFgcDVgcBIAAASWAQx4jI0xAAAAAElFTkSu\n",
       "QmCC\n",
       "\" style=\"display:inline;vertical-align:middle;\" /></a></td></tr>\n",
       "<tr><td>9</td><td>ExprTuple</td><td>10, 11</td><td><a class=\"ProveItLink\" href=\"../b812e337269b73b87b29ca662f191e6a0b4f00470/expr.ipynb\"><img src=\"data:image/png;base64,iVBORw0KGgoAAAANSUhEUgAAADAAAAAVBAMAAADyTXAxAAAAMFBMVEX////c3NwiIiJERESqqqqY\n",
       "mJh2dnZmZmYQEBDu7u4yMjJUVFTMzMyIiIi6uroAAAAs73DqAAAAAXRSTlMAQObYZgAAARZJREFU\n",
       "KM9jYMAJ+C5girE+ABKnGRjEq+yQRA8BcQ0Qr2Rg3MBw3wEhsR6IuRgYeC8wcE9gYPqAMEZ/ApBI\n",
       "YOCYwMDRycD9Dy4hUi/AwMDZwPAKqO8nAztC4sJ9kM0mDGVgHtNPuCMn+AcAqXSGpWDu+QSYxDyG\n",
       "8yD3ezH0gbmL4SY9YJAvAFIvGMCGsxvAxHl2794P4pyHSNxGhAMDA8cCsEQLkGQpYBCESgA9ytQA\n",
       "NsoUSB5nYAhkmAASZwRKcIE8GwV0FwOjWlq6AucnkMQsIGb+CXbuI6De////K3D2Az0s3L+QgdX+\n",
       "F9BZ6xg4BGDWCiCFMDBIWGFeY0WOELYLoGDHIgGySxoWeMgSG0EuxBK1vAcYAFrtQKDSxP4BAAAA\n",
       "AElFTkSuQmCC\n",
       "\" style=\"display:inline;vertical-align:middle;\" /></a></td></tr>\n",
       "<tr><td>10</td><td>Literal</td><td></td><td><a class=\"ProveItLink\" href=\"../../../numeral/__pv_it/77d407a64829263cdc16415becd4c2293f77a4bf0/expr.ipynb\"><img src=\"data:image/png;base64,iVBORw0KGgoAAAANSUhEUgAAAAkAAAAOBAMAAAAPuiubAAAAMFBMVEX///+YmJh2dnbMzMwQEBAi\n",
       "IiLu7u6qqqqIiIhUVFS6urpEREQyMjJmZmbc3NwAAACOMKdoAAAAAXRSTlMAQObYZgAAAFBJREFU\n",
       "CNdj4Lt7egEDw0sGju8MDNMYGOIZGFwSGOYvYDifwHAfKAEUSQASzJ9ATJ4NIPI2iOCYACJrGfge\n",
       "MDBfYGB8wPBUSekqUPH//18ZAIliFhc3zESNAAAAAElFTkSuQmCC\n",
       "\" style=\"display:inline;vertical-align:middle;\" /></a></td></tr>\n",
       "<tr><td>11</td><td>Variable</td><td></td><td><a class=\"ProveItLink\" href=\"../../../../__pv_it/2cbe72a7ad6f655694dd697106680215e8489b600/expr.ipynb\"><img src=\"data:image/png;base64,iVBORw0KGgoAAAANSUhEUgAAAA8AAAAOBAMAAAACpFvcAAAALVBMVEX///8QEBBERERUVFS6urqI\n",
       "iIhmZmaqqqrc3Nzu7u6YmJgyMjIiIiLMzMwAAADtIaYWAAAAAXRSTlMAQObYZgAAAFtJREFUCNdj\n",
       "YACBOwxQsA9Kc52bAGG05zVAGAFxDmCaZULdAjBjCsO9ADDDgaEvAUTzGhvbKYCVMDAwbgAxChgY\n",
       "eASANAeQwf0AyJgNxEwvGRia5HYwcOm9TgAA6BoR3jrzwFcAAAAASUVORK5CYII=\n",
       "\" style=\"display:inline;vertical-align:middle;\" /></a></td></tr>\n",
       "</table>\n"
      ],
      "text/plain": [
       "0. (a , 2 * A , b , B , C , c , _x_)\n",
       "   core type: ExprTuple\n",
       "   sub-expressions: 1, 2, 3, 4, 5, 6, 7\n",
       "1. a\n",
       "   core type: Variable\n",
       "   sub-expressions: \n",
       "2. 2 * A\n",
       "   core type: Operation\n",
       "   operator: 8\n",
       "   operands: 9\n",
       "3. b\n",
       "   core type: Variable\n",
       "   sub-expressions: \n",
       "4. B\n",
       "   core type: Variable\n",
       "   sub-expressions: \n",
       "5. C\n",
       "   core type: Variable\n",
       "   sub-expressions: \n",
       "6. c\n",
       "   core type: Variable\n",
       "   sub-expressions: \n",
       "7. _x_\n",
       "   core type: Variable\n",
       "   sub-expressions: \n",
       "8. *\n",
       "   core type: Literal\n",
       "   sub-expressions: \n",
       "9. (2 , A)\n",
       "   core type: ExprTuple\n",
       "   sub-expressions: 10, 11\n",
       "10. 2\n",
       "    core type: Literal\n",
       "    sub-expressions: \n",
       "11. A\n",
       "    core type: Variable\n",
       "    sub-expressions: "
      ]
     },
     "execution_count": 4,
     "metadata": {},
     "output_type": "execute_result"
    }
   ],
   "source": [
    "# display the expression information\n",
    "expr.exprInfo()"
   ]
  },
  {
   "cell_type": "code",
   "execution_count": null,
   "metadata": {},
   "outputs": [],
   "source": []
  }
 ],
 "metadata": {
  "kernelspec": {
   "display_name": "Python 3",
   "language": "python",
   "name": "python3"
  }
 },
 "nbformat": 4,
 "nbformat_minor": 0
}
