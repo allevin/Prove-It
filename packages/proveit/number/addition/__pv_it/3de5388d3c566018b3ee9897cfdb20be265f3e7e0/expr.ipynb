{
 "cells": [
  {
   "cell_type": "markdown",
   "metadata": {},
   "source": [
    "Expression of type <a class=\"ProveItLink\" href=\"../../../../../../doc/html/api/proveit.ExprTuple.html\">ExprTuple</a>\n",
    "=======================\n",
    "# from context <a class=\"ProveItLink\" href=\"../../_context_.ipynb\">proveit.number.addition</a>"
   ]
  },
  {
   "cell_type": "code",
   "execution_count": 1,
   "metadata": {},
   "outputs": [],
   "source": [
    "# import Expression classes needed to build the expression\n",
    "from proveit import ExprTuple\n",
    "from proveit._common_ import a\n",
    "from proveit.number import Add, one"
   ]
  },
  {
   "cell_type": "code",
   "execution_count": 2,
   "metadata": {},
   "outputs": [
    {
     "data": {
      "text/html": [
       "<strong id=\"expr\">expr:</strong> <a class=\"ProveItLink\" href=\"expr.ipynb\"><img src=\"data:image/png;base64,iVBORw0KGgoAAAANSUhEUgAAAMsAAAAVBAMAAAAa4QdfAAAAMFBMVEX////c3NwiIiJERESqqqqY\n",
       "mJh2dnZmZmYQEBDu7u4yMjJUVFTMzMyIiIi6uroAAAAs73DqAAAAAXRSTlMAQObYZgAAAeZJREFU\n",
       "SMe9lT1Iw0AUx/+16UdaW7t30E0XoYMODqI4imImBwdxc1IE8QNxUHBy0IpL0aFBKNIIoqtFWnB0\n",
       "sJOTH9WpiEJFHRQV7xpDmuZdQkG8Ie/y7v3vd3m5ewf8U4sW/07hK1Hecf44JwXepBhzLh5atnl6\n",
       "gECB2SwVLvc5YLLioVC9Y/udPVQgYsmAHNNNLm9gtmxTkQojaxNW726OY0aBoGXZkjHFreEetmEE\n",
       "Cn36lTpvhGNSwAMaxQgUeuuiMN5+zDPjOZ1edcOYMQJF/LLMMjVJYfwzyDBTjnkrbhgzhlZEV9HH\n",
       "zCCFkVRssKW9IZBwwdTE0IpWBbOcT2GiK/gGwhU0FV0wNTG0Ig90MnNBYZorXNSSQJqfoICm7a1r\n",
       "2pGJWdK0Dk07gBmjYwjFC+TPX0ztPAZmjX1vESNIOn9NTQyp8HxBqsjipHUD6X6cSAVnjB4j8y6p\n",
       "kF8RVoeAMQrjU/kODClSu9/l3+gx6TZAoMhgYGZCvKHv+SG4ObuxDi9s7ivWnVaNST2zLq2IXz/2\n",
       "svp8aPUGFj/m2KpKCMYczrStCtzxYhNroNhUW8osdqKr5MnypsBZ4S9S3innsm5vistFsEPeKipP\n",
       "agOUiP4bxAHHlDPMs+xp+JIWKyIFynsF/ACf8sxMAxfZKgAAAABJRU5ErkJggg==\n",
       "\" style=\"display:inline;vertical-align:middle;\" /></a><br>"
      ],
      "text/plain": [
       "expr: (a + 1 + a , (a + a) + 1)"
      ]
     },
     "execution_count": 2,
     "metadata": {},
     "output_type": "execute_result"
    }
   ],
   "source": [
    "# build up the expression from sub-expressions\n",
    "expr = ExprTuple(Add(a, one, a), Add(Add(a, a), one))"
   ]
  },
  {
   "cell_type": "code",
   "execution_count": 3,
   "metadata": {},
   "outputs": [
    {
     "name": "stdout",
     "output_type": "stream",
     "text": [
      "Passed sanity check: built 'expr' is the same as the stored Expression.\n"
     ]
    }
   ],
   "source": [
    "# check that the built expression is the same as the stored expression\n",
    "%check_expr"
   ]
  },
  {
   "cell_type": "code",
   "execution_count": 4,
   "metadata": {},
   "outputs": [
    {
     "data": {
      "text/html": [
       "<table><tr><th>&nbsp;</th><th>core type</th><th>sub-expressions</th><th>expression</th></tr>\n",
       "<tr><td>0</td><td>ExprTuple</td><td>1, 2</td><td><a class=\"ProveItLink\" href=\"expr.ipynb\"><img src=\"data:image/png;base64,iVBORw0KGgoAAAANSUhEUgAAAMsAAAAVBAMAAAAa4QdfAAAAMFBMVEX////c3NwiIiJERESqqqqY\n",
       "mJh2dnZmZmYQEBDu7u4yMjJUVFTMzMyIiIi6uroAAAAs73DqAAAAAXRSTlMAQObYZgAAAeZJREFU\n",
       "SMe9lT1Iw0AUx/+16UdaW7t30E0XoYMODqI4imImBwdxc1IE8QNxUHBy0IpL0aFBKNIIoqtFWnB0\n",
       "sJOTH9WpiEJFHRQV7xpDmuZdQkG8Ie/y7v3vd3m5ewf8U4sW/07hK1Hecf44JwXepBhzLh5atnl6\n",
       "gECB2SwVLvc5YLLioVC9Y/udPVQgYsmAHNNNLm9gtmxTkQojaxNW726OY0aBoGXZkjHFreEetmEE\n",
       "Cn36lTpvhGNSwAMaxQgUeuuiMN5+zDPjOZ1edcOYMQJF/LLMMjVJYfwzyDBTjnkrbhgzhlZEV9HH\n",
       "zCCFkVRssKW9IZBwwdTE0IpWBbOcT2GiK/gGwhU0FV0wNTG0Ig90MnNBYZorXNSSQJqfoICm7a1r\n",
       "2pGJWdK0Dk07gBmjYwjFC+TPX0ztPAZmjX1vESNIOn9NTQyp8HxBqsjipHUD6X6cSAVnjB4j8y6p\n",
       "kF8RVoeAMQrjU/kODClSu9/l3+gx6TZAoMhgYGZCvKHv+SG4ObuxDi9s7ivWnVaNST2zLq2IXz/2\n",
       "svp8aPUGFj/m2KpKCMYczrStCtzxYhNroNhUW8osdqKr5MnypsBZ4S9S3innsm5vistFsEPeKipP\n",
       "agOUiP4bxAHHlDPMs+xp+JIWKyIFynsF/ACf8sxMAxfZKgAAAABJRU5ErkJggg==\n",
       "\" style=\"display:inline;vertical-align:middle;\" /></a></td></tr>\n",
       "<tr><td>1</td><td>Operation</td><td>operator:&nbsp;7<br>operands:&nbsp;3<br></td><td><a class=\"ProveItLink\" href=\"../a6bfab0184661b72440729a39caf8d5ccfe1f31e0/expr.ipynb\"><img src=\"data:image/png;base64,iVBORw0KGgoAAAANSUhEUgAAAFMAAAAQBAMAAACYUF7xAAAAMFBMVEX///8yMjKqqqrMzMzu7u4i\n",
       "IiJmZmaYmJhEREQQEBC6urp2dnaIiIhUVFTc3NwAAAD87Fq/AAAAAXRSTlMAQObYZgAAAJpJREFU\n",
       "KM9jYMAGWhiIBR5fCKlgeQChfe9+QRPBAEwHoAyeL+giJCvlu7NrHiGlUDUrH3B8IKQUoobvOwNb\n",
       "AwGlUDW8HxhYDxBQClXD38DgbwDksgkKik4UFLyAUIoQgap5f4BBn8EBv6lQNf4KDBeZDPArhaph\n",
       "LGAK4ybgVqgavjunLE6hKmXL/JiOGgIINTijEWfEch3AKwIAeutHnuyju9MAAAAASUVORK5CYII=\n",
       "\" style=\"display:inline;vertical-align:middle;\" /></a></td></tr>\n",
       "<tr><td>2</td><td>Operation</td><td>operator:&nbsp;7<br>operands:&nbsp;4<br></td><td><a class=\"ProveItLink\" href=\"../d7e0f2a675cae483a963a0732189fb78f2a77bf90/expr.ipynb\"><img src=\"data:image/png;base64,iVBORw0KGgoAAAANSUhEUgAAAGAAAAAVBAMAAABLWfZ5AAAAMFBMVEX////c3NwiIiJERESqqqqY\n",
       "mJh2dnZmZmYQEBDu7u4yMjJUVFTMzMyIiIi6uroAAAAs73DqAAAAAXRSTlMAQObYZgAAASdJREFU\n",
       "OMtjYCAZ8F3AJcP6AKvwadxm1WCIWALxStwauNAFJv9kYOBFcRGnAIqbElBFZ+8GauCYgKyEBVV7\n",
       "A5ooL1DDKwbcGhhMsGgoA9KMe/Ma0aSkr70AuiMdi4alQPqFAPMHVCm+RgZ7IOWFRUMf0IKvDOwG\n",
       "qFLyAQzFIJOwaPjHwMD9gYHpAqrUfgYGXSB1HrsGfgOG+QeAXPZVqxZ1rVq1Acj8zMD5B6oBSRSs\n",
       "oQVo/wUGf4YJyGYx/mVg+cCJ3UmmDAzzHRh2sRxAluL8wsC9wIeBIQqLBmDIcQWwqLOhSi1lcCpI\n",
       "wB6sj0DRcO/wPVQp6btvbIFpdR2qKHvFr1IGDgESkgZyAsOWOdguYBPFk7xnYRWVxq1hI1ZRRpxZ\n",
       "lPcAFkEAHRJkvoaFrGYAAAAASUVORK5CYII=\n",
       "\" style=\"display:inline;vertical-align:middle;\" /></a></td></tr>\n",
       "<tr><td>3</td><td>ExprTuple</td><td>9, 6, 9</td><td><a class=\"ProveItLink\" href=\"../f8dad92189ede12f024a4657cb637d1f1888168f0/expr.ipynb\"><img src=\"data:image/png;base64,iVBORw0KGgoAAAANSUhEUgAAAD8AAAAVBAMAAAADRiu8AAAAMFBMVEX////c3NwiIiJERESqqqqY\n",
       "mJh2dnZmZmYQEBDu7u4yMjJUVFTMzMyIiIi6uroAAAAs73DqAAAAAXRSTlMAQObYZgAAAQRJREFU\n",
       "KM9jYCAI+C7glosDEadRxSyROewHgMRKFPnJP1G4CxgYeFFsmL0bVUEYAwPHBBQRXlQFMxgYXjHg\n",
       "U8DswFAGpBj35jWiK4CIsRUwLAVyXggwf0BXABFjWcDQB1T8lYHdAE0BVIyvgeEfAwP3BwamC2gK\n",
       "oGI8H0AK+A0Y5h9AUwAVAypoYWCQv8DgzzABVQFUDGiFKQPDfAeGXSwHOOEKQCyIGAPrAoZ0Bgau\n",
       "ABZ1Nob5CjAFIBZEDOTNRyAv3zt8j2HGR1DsVPwqBbMgYgxcDxg4BGCh9pABkwUMatYEGCeAAZOV\n",
       "ixzdWBRwAqObQRoWAogIg7O4QfYz4klydxgYAOH3UHvrZQBnAAAAAElFTkSuQmCC\n",
       "\" style=\"display:inline;vertical-align:middle;\" /></a></td></tr>\n",
       "<tr><td>4</td><td>ExprTuple</td><td>5, 6</td><td><a class=\"ProveItLink\" href=\"../802b4a414a0085d0ce25268c7c0430391e82438f0/expr.ipynb\"><img src=\"data:image/png;base64,iVBORw0KGgoAAAANSUhEUgAAAE8AAAAVBAMAAAD1D64kAAAAMFBMVEX////c3NwiIiJERESqqqqY\n",
       "mJh2dnZmZmYQEBDu7u4yMjJUVFTMzMyIiIi6uroAAAAs73DqAAAAAXRSTlMAQObYZgAAATRJREFU\n",
       "KM9jYCAa8F0grCYORJwmpMqSgYH9AJBeSUDd5J9AYgEDAy+KzZwC6Opm7wYpDGNg4JiALMyC6WBe\n",
       "kMIZDAyvGIhRyOzAUAakGPfmNaIplL72QgBJIVsBw1Ig9UKA+QOqQr5GBntkE1kWMPQBDfzKwG6A\n",
       "qlA+gKEYWSFfA8M/BgbuDwxMF1AV7mdg0EVWyPMBpJDfgGE+KETZV61a1LVq1QYg8zMD5x80hS1A\n",
       "ey4w+DNMQDaR8S8DywdOVKtNGRjmOzDsYjmArJDzCwP3Ah+IZrBC1gUM6QwMXAEs6myoblzK4FSQ\n",
       "wPkJOXgegYLx3uF7qAql776xfcDZDwxK9opfpUCzHjBwCOCOGT64HDAKWRNwJ05WOCsXfzKDK+Rc\n",
       "AHIOboVw47lBbmAkIivcYWAAAGpoWYdc/GC6AAAAAElFTkSuQmCC\n",
       "\" style=\"display:inline;vertical-align:middle;\" /></a></td></tr>\n",
       "<tr><td>5</td><td>Operation</td><td>operator:&nbsp;7<br>operands:&nbsp;8<br></td><td><a class=\"ProveItLink\" href=\"../b80ee1f7a9870caeb12beba2eb78d298813e0b720/expr.ipynb\"><img src=\"data:image/png;base64,iVBORw0KGgoAAAANSUhEUgAAAC8AAAAOBAMAAABN+VgMAAAAMFBMVEX///8yMjKqqqrMzMzu7u4i\n",
       "IiJmZmaYmJhEREQQEBC6urp2dnaIiIhUVFTc3NwAAAD87Fq/AAAAAXRSTlMAQObYZgAAAHVJREFU\n",
       "GNNjYEAAlgcM2AHTAeIk+O7smocqARVZ+YDjA6oERITvOwNbA4oEVIT3AwPrARQJqAh/A4O/AZDL\n",
       "JigoOlFQ8AJc5P0BBn0GB2QdUBF/BYaLTAbIElARxgKmMG4UO6AifHdOWZxCdRVChFCQcCFLAABD\n",
       "Siw1qMdh/wAAAABJRU5ErkJggg==\n",
       "\" style=\"display:inline;vertical-align:middle;\" /></a></td></tr>\n",
       "<tr><td>6</td><td>Literal</td><td></td><td><a class=\"ProveItLink\" href=\"../../../numeral/__pv_it/9be8badea4c35b9724062cecc501d17a3158d1d20/expr.ipynb\"><img src=\"data:image/png;base64,iVBORw0KGgoAAAANSUhEUgAAAAgAAAAPBAMAAAArJJMAAAAAHlBMVEX///+YmJgyMjIQEBBmZmaI\n",
       "iIhUVFTu7u5EREQAAAAw+MI4AAAAAXRSTlMAQObYZgAAACFJREFUCNdjYGBoZ2BgqJjOwFCWBiQY\n",
       "WEklWJwnOTKAAACjEQo8HvEr3AAAAABJRU5ErkJggg==\n",
       "\" style=\"display:inline;vertical-align:middle;\" /></a></td></tr>\n",
       "<tr><td>7</td><td>Literal</td><td></td><td><a class=\"ProveItLink\" href=\"../3e6688136fa3c7aefbebe51301b7c3ebf0b69c440/expr.ipynb\"><img src=\"data:image/png;base64,iVBORw0KGgoAAAANSUhEUgAAAA4AAAAOBAMAAADtZjDiAAAAJFBMVEX///+6urpUVFQQEBAiIiIy\n",
       "MjJmZmaIiIiqqqrc3Nzu7u4AAACgHpL+AAAAAXRSTlMAQObYZgAAAB5JREFUCNdjYGBgWMkAAe2k\n",
       "0Kmhoc6hoUGk6BMHYgAHOwjcado9fwAAAABJRU5ErkJggg==\n",
       "\" style=\"display:inline;vertical-align:middle;\" /></a></td></tr>\n",
       "<tr><td>8</td><td>ExprTuple</td><td>9, 9</td><td><a class=\"ProveItLink\" href=\"../8d3c5434f530489588a15a4b183ce46d1affa7650/expr.ipynb\"><img src=\"data:image/png;base64,iVBORw0KGgoAAAANSUhEUgAAACsAAAAVBAMAAAAtAwouAAAAMFBMVEX////c3NwiIiJERESqqqqY\n",
       "mJh2dnZmZmYQEBDu7u4yMjJUVFTMzMyIiIi6uroAAAAs73DqAAAAAXRSTlMAQObYZgAAANtJREFU\n",
       "GNN1kL0OAUEURg/W/2+voNNq9N6ASik6FVGpSdSi1O02Cq8gkWyi1OwDiKAS1Sq0YsbsbMQwxcy5\n",
       "Jzc331z4cwret+nKa280Jl1xrc0BDuQ9U3cgtTD1Em4/UsSajMUT2Q6nSihKjFiJ4lqK+Uorshzm\n",
       "ouVBsq6aFRUmPCHrE1V5Asr5Uhfr2O5bByT0DCoeLd45AxJDGmA32VhuGk3EHfqQaVu1BHZVkwx4\n",
       "kWGPuyPLuyYyJ1Il/bfz5+fjPV20Qz34XGyo02KxlIMiHzZn5dyIsfADvABGHTxeG7dbswAAAABJ\n",
       "RU5ErkJggg==\n",
       "\" style=\"display:inline;vertical-align:middle;\" /></a></td></tr>\n",
       "<tr><td>9</td><td>Variable</td><td></td><td><a class=\"ProveItLink\" href=\"../../../../__pv_it/07527342713064c87612d00d8557c53d53d5324a0/expr.ipynb\"><img src=\"data:image/png;base64,iVBORw0KGgoAAAANSUhEUgAAAAsAAAAJBAMAAAAWSsseAAAAMFBMVEX///8yMjKqqqrMzMzu7u4i\n",
       "IiJmZmaYmJhEREQQEBC6urp2dnaIiIhUVFTc3NwAAAD87Fq/AAAAAXRSTlMAQObYZgAAAEhJREFU\n",
       "CNdjYOC7s2seAwPDygccHxgY+L4zsDUwMPB+YGA9wMDA38Dgb8DA8P4Agz6DA4O/AsNFJgMGxgKm\n",
       "MG6gyjunLE4xAAAZTBA5TB6DCwAAAABJRU5ErkJggg==\n",
       "\" style=\"display:inline;vertical-align:middle;\" /></a></td></tr>\n",
       "</table>\n"
      ],
      "text/plain": [
       "0. (a + 1 + a , (a + a) + 1)\n",
       "   core type: ExprTuple\n",
       "   sub-expressions: 1, 2\n",
       "1. a + 1 + a\n",
       "   core type: Operation\n",
       "   operator: 7\n",
       "   operands: 3\n",
       "2. (a + a) + 1\n",
       "   core type: Operation\n",
       "   operator: 7\n",
       "   operands: 4\n",
       "3. (a , 1 , a)\n",
       "   core type: ExprTuple\n",
       "   sub-expressions: 9, 6, 9\n",
       "4. (a + a , 1)\n",
       "   core type: ExprTuple\n",
       "   sub-expressions: 5, 6\n",
       "5. a + a\n",
       "   core type: Operation\n",
       "   operator: 7\n",
       "   operands: 8\n",
       "6. 1\n",
       "   core type: Literal\n",
       "   sub-expressions: \n",
       "7. +\n",
       "   core type: Literal\n",
       "   sub-expressions: \n",
       "8. (a , a)\n",
       "   core type: ExprTuple\n",
       "   sub-expressions: 9, 9\n",
       "9. a\n",
       "   core type: Variable\n",
       "   sub-expressions: "
      ]
     },
     "execution_count": 4,
     "metadata": {},
     "output_type": "execute_result"
    }
   ],
   "source": [
    "# display the expression information\n",
    "expr.exprInfo()"
   ]
  },
  {
   "cell_type": "code",
   "execution_count": null,
   "metadata": {},
   "outputs": [],
   "source": []
  }
 ],
 "metadata": {
  "kernelspec": {
   "display_name": "Python 3",
   "language": "python",
   "name": "python3"
  }
 },
 "nbformat": 4,
 "nbformat_minor": 0
}
