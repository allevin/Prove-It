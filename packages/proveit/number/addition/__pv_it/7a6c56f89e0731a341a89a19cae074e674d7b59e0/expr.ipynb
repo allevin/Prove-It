{
 "cells": [
  {
   "cell_type": "markdown",
   "metadata": {},
   "source": [
    "Expression of type <a class=\"ProveItLink\" href=\"../../../../../../doc/html/api/proveit.logic.Equals.html\">Equals</a>\n",
    "=======================\n",
    "# from context <a class=\"ProveItLink\" href=\"../../_context_.ipynb\">proveit.number.addition</a>"
   ]
  },
  {
   "cell_type": "code",
   "execution_count": 1,
   "metadata": {},
   "outputs": [],
   "source": [
    "# import Expression classes needed to build the expression\n",
    "from proveit._common_ import a, b, c\n",
    "from proveit.logic import Equals\n",
    "from proveit.number import Add"
   ]
  },
  {
   "cell_type": "code",
   "execution_count": 2,
   "metadata": {},
   "outputs": [
    {
     "data": {
      "text/html": [
       "<strong id=\"expr\">expr:</strong> <a class=\"ProveItLink\" href=\"expr.ipynb\"><img src=\"data:image/png;base64,iVBORw0KGgoAAAANSUhEUgAAAfIAAAAVBAMAAABPiXFtAAAAMFBMVEX////c3NwiIiJERESqqqqY\n",
       "mJh2dnZmZmYQEBDu7u4yMjJUVFTMzMyIiIi6uroAAAAs73DqAAAAAXRSTlMAQObYZgAAA2BJREFU\n",
       "WMPlWD9oE1EY/7VNcrmkTbIXMehQFyGDjmJwFEszdXCQ0MEuVoJihyrYiggKlnSRYoeGQgdTkAqK\n",
       "IhQDLoJDMyliU4JTEEsDbZFCFd9dkrv73vdydwmaxQdNyu9+7/f9ed/77r0A/++IlXts8IoC2+mx\n",
       "D8Gq+PioeKC/SXautnTPH08rMWhwvcsIvB1tw7gj/p6pHkS6cWXNJ6/AzeW7XTxvR9WMCDBEin2h\n",
       "+R1Pt1KWkHOYQDtkX1bhuuYYZ48r7hZcBC1HFzwZRDeYRZike7T5vdtCA3IXYICFxA5lFa5rjkX2\n",
       "+KG7BRdBy9FRTwbR1WfxXUmfQOeRh5I+Ix9Iy0220HXkE/CKvE0oZzAtPvs2rs9R+lrllUR/MrVF\n",
       "geFPtQRBIhtfM1TFoliIfrVSQign97ysSk8xnSOWo8SCj1AmsSr+rSUG6mS+vod4idAH57FCa3sO\n",
       "56nicgpHRMWmWG58qEaSCJhLPFM0htkVIxmVHp/OEdtRYsFHKBcxL5b8AFqKCAYOEc4S+mIZZwlw\n",
       "PIOb1NOxPB4QFZtiufEYAxnEZqU1D1dVenw6R2xHiQUfodTwG4jW0V8mgloB8Ryhv5N3iwBOU2QG\n",
       "+ElUbEoLiZqlNViXIo9XVXp8OkdsR4kFH6FsGpHHU1guNervVKP++nPYFZnTisWVR8Wi8ULca8g4\n",
       "Af2IIiOIHRCVJsWBxFNtI+d6fDpHmo7KFnyEson7oojKGEPemSjxDrybdyaq75e05gII1HWSy31o\n",
       "h850OyhWuZrURrXfOGGMk2a1pxV6fLpC0HaUWPARSs0o+eU03gZInxA94QEtPbGaQSeg7yNauEQo\n",
       "R60N1VRxUCxdkf0MgvIhTuxMrsenqwRLUm9pWPARymXR3UVrDYyE6H5Ma+uU/hq4RoBVXMjRzvES\n",
       "t2m6bYqlm0NI8VYzAK7HpysELUeJBR+hTOKb8Trffr9Ne/DGLamhaVMVUjMYrvw4VyXI0ucMjdym\n",
       "WO+c6coXkemqfJJJqvT4dI7YjhILPkJ5jnDC9bDUwRnOz5Grzel1ruszXAeAfHoNZl3vyez2zq/z\n",
       "HNlxv39PscfjHj8Y7Hgj3gDRDZXb3FL/5dD/5i212/HU2Dy9Nhrlt9C+9V478cKw2utfo7YU2LEe\n",
       "+zBUwh/Cyoj3BJ5anQAAAABJRU5ErkJggg==\n",
       "\" style=\"display:inline;vertical-align:middle;\" /></a><br>"
      ],
      "text/plain": [
       "expr: (a + b + c + a + b + a + c) = (a + a + a + b + c + b + c)"
      ]
     },
     "execution_count": 2,
     "metadata": {},
     "output_type": "execute_result"
    }
   ],
   "source": [
    "# build up the expression from sub-expressions\n",
    "expr = Equals(Add(a, b, c, a, b, a, c), Add(a, a, a, b, c, b, c))"
   ]
  },
  {
   "cell_type": "code",
   "execution_count": 3,
   "metadata": {},
   "outputs": [
    {
     "name": "stdout",
     "output_type": "stream",
     "text": [
      "Passed sanity check: built 'expr' is the same as the stored Expression.\n"
     ]
    }
   ],
   "source": [
    "# check that the built expression is the same as the stored expression\n",
    "%check_expr"
   ]
  },
  {
   "cell_type": "code",
   "execution_count": 4,
   "metadata": {},
   "outputs": [
    {
     "data": {
      "text/html": [
       "<table><tr><th>&nbsp;</th><th>core type</th><th>sub-expressions</th><th>expression</th></tr>\n",
       "<tr><td>0</td><td>Operation</td><td>operator:&nbsp;1<br>operands:&nbsp;2<br></td><td><a class=\"ProveItLink\" href=\"expr.ipynb\"><img src=\"data:image/png;base64,iVBORw0KGgoAAAANSUhEUgAAAfIAAAAVBAMAAABPiXFtAAAAMFBMVEX////c3NwiIiJERESqqqqY\n",
       "mJh2dnZmZmYQEBDu7u4yMjJUVFTMzMyIiIi6uroAAAAs73DqAAAAAXRSTlMAQObYZgAAA2BJREFU\n",
       "WMPlWD9oE1EY/7VNcrmkTbIXMehQFyGDjmJwFEszdXCQ0MEuVoJihyrYiggKlnSRYoeGQgdTkAqK\n",
       "IhQDLoJDMyliU4JTEEsDbZFCFd9dkrv73vdydwmaxQdNyu9+7/f9ed/77r0A/++IlXts8IoC2+mx\n",
       "D8Gq+PioeKC/SXautnTPH08rMWhwvcsIvB1tw7gj/p6pHkS6cWXNJ6/AzeW7XTxvR9WMCDBEin2h\n",
       "+R1Pt1KWkHOYQDtkX1bhuuYYZ48r7hZcBC1HFzwZRDeYRZike7T5vdtCA3IXYICFxA5lFa5rjkX2\n",
       "+KG7BRdBy9FRTwbR1WfxXUmfQOeRh5I+Ix9Iy0220HXkE/CKvE0oZzAtPvs2rs9R+lrllUR/MrVF\n",
       "geFPtQRBIhtfM1TFoliIfrVSQign97ysSk8xnSOWo8SCj1AmsSr+rSUG6mS+vod4idAH57FCa3sO\n",
       "56nicgpHRMWmWG58qEaSCJhLPFM0htkVIxmVHp/OEdtRYsFHKBcxL5b8AFqKCAYOEc4S+mIZZwlw\n",
       "PIOb1NOxPB4QFZtiufEYAxnEZqU1D1dVenw6R2xHiQUfodTwG4jW0V8mgloB8Ryhv5N3iwBOU2QG\n",
       "+ElUbEoLiZqlNViXIo9XVXp8OkdsR4kFH6FsGpHHU1guNervVKP++nPYFZnTisWVR8Wi8ULca8g4\n",
       "Af2IIiOIHRCVJsWBxFNtI+d6fDpHmo7KFnyEson7oojKGEPemSjxDrybdyaq75e05gII1HWSy31o\n",
       "h850OyhWuZrURrXfOGGMk2a1pxV6fLpC0HaUWPARSs0o+eU03gZInxA94QEtPbGaQSeg7yNauEQo\n",
       "R60N1VRxUCxdkf0MgvIhTuxMrsenqwRLUm9pWPARymXR3UVrDYyE6H5Ma+uU/hq4RoBVXMjRzvES\n",
       "t2m6bYqlm0NI8VYzAK7HpysELUeJBR+hTOKb8Trffr9Ne/DGLamhaVMVUjMYrvw4VyXI0ucMjdym\n",
       "WO+c6coXkemqfJJJqvT4dI7YjhILPkJ5jnDC9bDUwRnOz5Grzel1ruszXAeAfHoNZl3vyez2zq/z\n",
       "HNlxv39PscfjHj8Y7Hgj3gDRDZXb3FL/5dD/5i212/HU2Dy9Nhrlt9C+9V478cKw2utfo7YU2LEe\n",
       "+zBUwh/Cyoj3BJ5anQAAAABJRU5ErkJggg==\n",
       "\" style=\"display:inline;vertical-align:middle;\" /></a></td></tr>\n",
       "<tr><td>1</td><td>Literal</td><td></td><td><a class=\"ProveItLink\" href=\"../../../../logic/equality/__pv_it/2fb26078095930560931daa0500ce419a39ea6cd0/expr.ipynb\"><img src=\"data:image/png;base64,iVBORw0KGgoAAAANSUhEUgAAAA4AAAAFBAMAAACHocAhAAAAFVBMVEX///9EREQiIiJUVFQyMjJm\n",
       "ZmYAAADubVkoAAAAAXRSTlMAQObYZgAAABRJREFUCNdjCHEBAWcGXCBICQQUAUpuAwlgGKrkAAAA\n",
       "AElFTkSuQmCC\n",
       "\" style=\"display:inline;vertical-align:middle;\" /></a></td></tr>\n",
       "<tr><td>2</td><td>ExprTuple</td><td>3, 4</td><td><a class=\"ProveItLink\" href=\"../7be6a455cd11b1052975f47e6707fdd50315fe140/expr.ipynb\"><img src=\"data:image/png;base64,iVBORw0KGgoAAAANSUhEUgAAAc8AAAAVBAMAAADShHjlAAAAMFBMVEX////c3NwiIiJERESqqqqY\n",
       "mJh2dnZmZmYQEBDu7u4yMjJUVFTMzMyIiIi6uroAAAAs73DqAAAAAXRSTlMAQObYZgAAAutJREFU\n",
       "WMPlmD9oE1Ecx79pLrlc0ibZO5itLkIWRzE4K73JUYqDLkYCYoc6aEUcBEtcJNAhR6GDl6WDogjB\n",
       "AxfBJZMimhKdiiiNNEUCVXyX5r27373XhDuaDPaGJHze7/f9vv/vXYAT82Rb/38br7gf71Ul6/fD\n",
       "q0XJOXYL41VBQXWHfTxTJjQiVKMx+aEZb5HeUlELmCMz18gPf/SCAEcB4EkgRwA5RDUGeRyHBQe5\n",
       "kiriMpCq+oE2bHa2HwBShO+5FMjhQA5RPbJgJAsOdquqiBrwXemRLIRvqMiZXENHWHBwVRkRL2GZ\n",
       "fcWaN1epR7r52aSmT8tfKJj/sJMnkiJHeHi6nBjX2k6gSBYMYyEEOWi0XygikhVsst87+XiXutaL\n",
       "OCBgdg0bdHKv4jztO5EjPDxdTt510oVAkSwYxkIIDoGxh5wjR2gW1ljv7kMvUo/FKh4SUGvhLAGn\n",
       "TNyitRA5HPh0eTUeI24GimTBEBZCkAOtj9SSHJG9h79ApouZFvVYAX4T8Ca4gBg4Q2shcjjw6XpE\n",
       "KpIFw1nQCN1CriJHzHbdhuaKqLvDrdv2xiPbdg+iBWT3Cdg7lPEDYzCLVmz7tG03RI4PcF1ChoeA\n",
       "bDkUDG1BI2Yq2DXlCNbQB2yKtLCIKunMHvS+H8T+BEaUAa1rkM4UORz4dD0iFcmC4SzoiLJj9K7C\n",
       "kk1dtvLqJbzWHNLQAz7TOWAdmfADo4eMdZF4iByxdXi6vBqss00DKkufYAiLgSABTmAVH0YkLFxn\n",
       "m7apLSTp8niOOxS8BG4QsIkLFWoqcsRh4OnyBVNB0qkXlJaeYAiLgSABJX1LEcGOl2/umbb9dpu6\n",
       "rn80KdDLbTq559s/znWIpMgRu66ny/f65fYn1H4pLT3BEBYDQbLJNm+rItIdpPIjLyUhbkaj7kGE\n",
       "fI18M4oM2BUwsTTy5XQ8AH6OBZSYYwQjWYwG5SNf0yb5mFN3NCx3JUzbdW76/zBk3PUZOwF/pbD3\n",
       "kX+zJXO2sFLr1AAAAABJRU5ErkJggg==\n",
       "\" style=\"display:inline;vertical-align:middle;\" /></a></td></tr>\n",
       "<tr><td>3</td><td>Operation</td><td>operator:&nbsp;6<br>operands:&nbsp;5<br></td><td><a class=\"ProveItLink\" href=\"../9388f4cb52022d13aef71d5cfb1f6e9130e470570/expr.ipynb\"><img src=\"data:image/png;base64,iVBORw0KGgoAAAANSUhEUgAAAN0AAAAQBAMAAABgnGdDAAAAMFBMVEX///8yMjKqqqrMzMzu7u4i\n",
       "IiJmZmaYmJhEREQQEBC6urp2dnaIiIhUVFTc3NwAAAD87Fq/AAAAAXRSTlMAQObYZgAAAclJREFU\n",
       "OMudlD9Lw1AUxU9jGmuLbTOIk1AQN6EZdesqUu0kCA51UhAxH6GbiyAOLipFcBIEBXHRDgHFQSNU\n",
       "B0Uo2C9QLG2xHRxMbB99J8U/6V1e+HFzzn33vfuA3kjvwneorxn0HWN9/BMo+q+x3PmoeQF+AsBc\n",
       "Z40lPKA3xRuK1V7DDQ/oyZBisrOepjygN+Unv0imD78L/NMvWrrMs1qg9GCy/GzhmkHl/rjMYmP2\n",
       "C4OuriDqlW0Ax+VQlf3mc6gTGNjDCHc8j20uXm0hZpB6V1eQ6cNABtEmtBz7JVPYJzBjYZPAu4lV\n",
       "9lMaGDqTgaQrSjpAyMRwFUGL/ZaBDwJv3vNzwBL7aXHEsjKQdLvEvcc5zLuN0HR9ZEfX3SlaQLhJ\n",
       "oNWWlIH63fFlXV/UdXdcg1mcmjIQukTc1lhIIkXV16A1ZBD99OzPAUpVpeKd8dtIyUDS7RL3ciTw\n",
       "qBjkVxdHIYCz20EZqDUMx8fZz+icuQCSrkhx9m8iYCoLET6dJ6wzeAbOCYxiInvGh5PQigQkXZGS\n",
       "RcRwxuRu6o7l07cmA61gc8cr9tHWIV++0gpfIElXzMOaffP76+HnfQF8v2dhyzcATv4ERL4AvdOW\n",
       "5fw63AIAAAAASUVORK5CYII=\n",
       "\" style=\"display:inline;vertical-align:middle;\" /></a></td></tr>\n",
       "<tr><td>4</td><td>Operation</td><td>operator:&nbsp;6<br>operands:&nbsp;7<br></td><td><a class=\"ProveItLink\" href=\"../b62354a7e173d244580830e7e7b2a329a67beb6f0/expr.ipynb\"><img src=\"data:image/png;base64,iVBORw0KGgoAAAANSUhEUgAAAN0AAAAQBAMAAABgnGdDAAAAMFBMVEX///8yMjKqqqrMzMzu7u4i\n",
       "IiJmZmaYmJhEREQQEBC6urp2dnaIiIhUVFTc3NwAAAD87Fq/AAAAAXRSTlMAQObYZgAAAZ5JREFU\n",
       "OMutlDFLw0AUx/8JaagpSXqDOBUK4ia0o275ArWdCoJDOimImI/QDyCIg1OlFJwKQru46JJBHDRC\n",
       "dREhYL9AaWiL7eBgS3uaS3IEWm85+PF77+7l3Quw3CpcxhnSRwn/uDKxhtCJu1E3nmBvsQ+CIGTo\n",
       "WZ6xWKIdT7A935RRAIQMtAyescR5qVLsebfRhube1QPZe8/NLofQYMF9sdhs0r2TZ0DGeY8ymt2k\n",
       "x56n1HHOIzS4WMWQzbbbEEp+IE2g58OGNoZcZbP3LRzxCA3OGagxQLpC0vIDcYS1dthQPSRsNvsn\n",
       "cMAjNLgCfDFA9QLtktPQzbChV1GclS0Tsn5ByGxmJpCGkQQVQvYJmY1eGcqYAfr8I/2BhImWFTb6\n",
       "NnIw/NVo3xA9iUPoZQeQRwzo24H6puN3aoSNYhavYt6fXRpATW9yCA0e0ub8pp/WwvRv+lhqEYZg\n",
       "ieUU260NbJltDqHBbzhhy1FNpJjnqGblToShuU87T+x5Pef6rMEhNLjwaAWm+dh5YB+se8gzlvi/\n",
       "rAQWS7HjCW5WAz/674/dIzAwowAAAABJRU5ErkJggg==\n",
       "\" style=\"display:inline;vertical-align:middle;\" /></a></td></tr>\n",
       "<tr><td>5</td><td>ExprTuple</td><td>8, 9, 10, 8, 9, 8, 10</td><td><a class=\"ProveItLink\" href=\"../43099df92963bcddbe2ab81d55c2d24d891905a90/expr.ipynb\"><img src=\"data:image/png;base64,iVBORw0KGgoAAAANSUhEUgAAAIgAAAAVBAMAAABvbLv8AAAAMFBMVEX////c3NwiIiJERESqqqqY\n",
       "mJh2dnZmZmYQEBDu7u4yMjJUVFTMzMyIiIi6uroAAAAs73DqAAAAAXRSTlMAQObYZgAAAcVJREFU\n",
       "OMutlD9Iw0AUxr/apGla22R3qJuT0EFHsTiKYGan4qCLSkF0ElQQN7WTiEtFcBBB6iCKIBZcBAcz\n",
       "CYKR6iQiNP4bBBXf3SVa8c5BDTT8+n25997dexzwL0/a/dt6vUqv4zrB3G1Wfqz0Jui3Xi8kyuqU\n",
       "Ki8BpL7sxsqpg6g8PY94sV6oFdVBVJ45hZsvQv8PJ6j02jBO78j+yLT4v+FtB+EHvAoHiYem02tb\n",
       "0OLwOTCINcJrO+qLpQ+wxNqjakI0Q+Klp9EpYjTOYxXoxjwle4KR5aL2jHier5hD1OGFfPeQcTAq\n",
       "giy5aKc8eAOSPhpEj4wVWAUGST+oXOLhAGhFSPScsCBWFiVRaEMBNV6AlQ37+t3DA8wXBCSCzFB5\n",
       "LnpRDEZhkkMmnB6JF3mF5psB8WNjeyrlsKdVmEwnNwsOlNNhIPHMRyRXenjkJxo1oI/6g4SjtcRQ\n",
       "om4kc0ZZQAGxCgOJRw3tKuTNe6IdYIi1+IqNwsXhBZbuKMn+GDhg3DvjIPOavNuOqrlAo2IMe1TQ\n",
       "JuJ2OHiXapBJaftz7PV8qDpqkEl6CDG37ir4bZBltsOAU1CCTMLHFbLFmv3H6zFVwTsgPJZdl+BU\n",
       "EAAAAABJRU5ErkJggg==\n",
       "\" style=\"display:inline;vertical-align:middle;\" /></a></td></tr>\n",
       "<tr><td>6</td><td>Literal</td><td></td><td><a class=\"ProveItLink\" href=\"../3e6688136fa3c7aefbebe51301b7c3ebf0b69c440/expr.ipynb\"><img src=\"data:image/png;base64,iVBORw0KGgoAAAANSUhEUgAAAA4AAAAOBAMAAADtZjDiAAAAJFBMVEX///+6urpUVFQQEBAiIiIy\n",
       "MjJmZmaIiIiqqqrc3Nzu7u4AAACgHpL+AAAAAXRSTlMAQObYZgAAAB5JREFUCNdjYGBgWMkAAe2k\n",
       "0Kmhoc6hoUGk6BMHYgAHOwjcado9fwAAAABJRU5ErkJggg==\n",
       "\" style=\"display:inline;vertical-align:middle;\" /></a></td></tr>\n",
       "<tr><td>7</td><td>ExprTuple</td><td>8, 8, 8, 9, 10, 9, 10</td><td><a class=\"ProveItLink\" href=\"../18d93bcdcc0205a3233f432e668ff6cf85897c2e0/expr.ipynb\"><img src=\"data:image/png;base64,iVBORw0KGgoAAAANSUhEUgAAAIgAAAAVBAMAAABvbLv8AAAAMFBMVEX////c3NwiIiJERESqqqqY\n",
       "mJh2dnZmZmYQEBDu7u4yMjJUVFTMzMyIiIi6uroAAAAs73DqAAAAAXRSTlMAQObYZgAAAbpJREFU\n",
       "OMutlD9IAlEcx7/+Oc/T/LM35ObqULtzizc3SUMtGS45VNAfwi1zCsnBCBoiCIOiCCShJWjILaIU\n",
       "a4oWLZMQKvrde6dp9/Age/Aen/e9e7+/7w74l+EtDXZeqtJyZfKSchr4LWVXu3eLNPfMXLnyBmm/\n",
       "5zngMc3GFzZIbz35ROFMmxmpGd7wtnryXcazaeUmDYqjt0qjSNBqKcyu8L2I9svHusupcpFXoXCn\n",
       "cmkzdg9MY5fwyW+rc1FASgM+fvay6uIh5EL4YDCUwg4wjhQ5bUIOcfcCsrfgjDJr67DxACJpJBlk\n",
       "Shgjf/gC3HVYeY9EJG/DF9clfcwD7wzO2XqtGfGFkOMBi8gaR03VJX0E4W0yaOhG1oCREiJgfRQR\n",
       "XZOlttS5JjJrsuWTl0/LKRfGmb2oQExU1SQYUDyqBlRVqpJmmOKRgAnqD1yqPehALiAmd1jOc4jD\n",
       "UdQAR1iA8kpwAsxoLX7UrkTlooLMi5iUwhwYIFG+5ZC9UaFs+KnosTIFdACnv53pA/qQEbz+n2sv\n",
       "Rduqij5kBKnzEZS6fgV/NbJFc1hnT+ekgIyATsMPtWYP+Hv0FPEN162YTO1Qeb0AAAAASUVORK5C\n",
       "YII=\n",
       "\" style=\"display:inline;vertical-align:middle;\" /></a></td></tr>\n",
       "<tr><td>8</td><td>Variable</td><td></td><td><a class=\"ProveItLink\" href=\"../../../../__pv_it/07527342713064c87612d00d8557c53d53d5324a0/expr.ipynb\"><img src=\"data:image/png;base64,iVBORw0KGgoAAAANSUhEUgAAAAsAAAAJBAMAAAAWSsseAAAAMFBMVEX///8yMjKqqqrMzMzu7u4i\n",
       "IiJmZmaYmJhEREQQEBC6urp2dnaIiIhUVFTc3NwAAAD87Fq/AAAAAXRSTlMAQObYZgAAAEhJREFU\n",
       "CNdjYOC7s2seAwPDygccHxgY+L4zsDUwMPB+YGA9wMDA38Dgb8DA8P4Agz6DA4O/AsNFJgMGxgKm\n",
       "MG6gyjunLE4xAAAZTBA5TB6DCwAAAABJRU5ErkJggg==\n",
       "\" style=\"display:inline;vertical-align:middle;\" /></a></td></tr>\n",
       "<tr><td>9</td><td>Variable</td><td></td><td><a class=\"ProveItLink\" href=\"../../../../__pv_it/6840a4fa6c106149dc16a131294d0c5e44f1b0480/expr.ipynb\"><img src=\"data:image/png;base64,iVBORw0KGgoAAAANSUhEUgAAAAkAAAAOBAMAAAAPuiubAAAALVBMVEX///9mZmbMzMxERESYmJiI\n",
       "iIh2dna6urqqqqoyMjIiIiIQEBBUVFTu7u4AAAD9S1JeAAAAAXRSTlMAQObYZgAAAE1JREFUCNdj\n",
       "4D29gAEIOA+ASL4GEFl3AURmgQiGOaFHGBh4HzPwKTBwvGXgTmBgnMDAJ8DAJcBQ5wBSLncBJLWN\n",
       "gYGngRFoBO9REQYGAGrcDtUkVqASAAAAAElFTkSuQmCC\n",
       "\" style=\"display:inline;vertical-align:middle;\" /></a></td></tr>\n",
       "<tr><td>10</td><td>Variable</td><td></td><td><a class=\"ProveItLink\" href=\"../../../../__pv_it/cbdfda466482236edba0ce44ac7ef39cda0af7a40/expr.ipynb\"><img src=\"data:image/png;base64,iVBORw0KGgoAAAANSUhEUgAAAAkAAAAJBAMAAAASvxsjAAAALVBMVEX///9mZmbc3NxUVFSYmJhE\n",
       "REQiIiIyMjK6uroQEBDMzMyIiIh2dnbu7u4AAABgFDGoAAAAAXRSTlMAQObYZgAAADZJREFUCNdj\n",
       "YOA9s3sBA8PKBvYEBt7ZDKwODMwPGICALwBE6m0Asx0YGIDiAgw8QJUyu/cyAAAmuwmycZ8WfQAA\n",
       "AABJRU5ErkJggg==\n",
       "\" style=\"display:inline;vertical-align:middle;\" /></a></td></tr>\n",
       "</table>\n"
      ],
      "text/plain": [
       "0. (a + b + c + a + b + a + c) = (a + a + a + b + c + b + c)\n",
       "   core type: Operation\n",
       "   operator: 1\n",
       "   operands: 2\n",
       "1. =\n",
       "   core type: Literal\n",
       "   sub-expressions: \n",
       "2. (a + b + c + a + b + a + c , a + a + a + b + c + b + c)\n",
       "   core type: ExprTuple\n",
       "   sub-expressions: 3, 4\n",
       "3. a + b + c + a + b + a + c\n",
       "   core type: Operation\n",
       "   operator: 6\n",
       "   operands: 5\n",
       "4. a + a + a + b + c + b + c\n",
       "   core type: Operation\n",
       "   operator: 6\n",
       "   operands: 7\n",
       "5. (a , b , c , a , b , a , c)\n",
       "   core type: ExprTuple\n",
       "   sub-expressions: 8, 9, 10, 8, 9, 8, 10\n",
       "6. +\n",
       "   core type: Literal\n",
       "   sub-expressions: \n",
       "7. (a , a , a , b , c , b , c)\n",
       "   core type: ExprTuple\n",
       "   sub-expressions: 8, 8, 8, 9, 10, 9, 10\n",
       "8. a\n",
       "   core type: Variable\n",
       "   sub-expressions: \n",
       "9. b\n",
       "   core type: Variable\n",
       "   sub-expressions: \n",
       "10. c\n",
       "    core type: Variable\n",
       "    sub-expressions: "
      ]
     },
     "execution_count": 4,
     "metadata": {},
     "output_type": "execute_result"
    }
   ],
   "source": [
    "# display the expression information\n",
    "expr.exprInfo()"
   ]
  },
  {
   "cell_type": "code",
   "execution_count": null,
   "metadata": {},
   "outputs": [],
   "source": []
  }
 ],
 "metadata": {
  "kernelspec": {
   "display_name": "Python 3",
   "language": "python",
   "name": "python3"
  }
 },
 "nbformat": 4,
 "nbformat_minor": 0
}
