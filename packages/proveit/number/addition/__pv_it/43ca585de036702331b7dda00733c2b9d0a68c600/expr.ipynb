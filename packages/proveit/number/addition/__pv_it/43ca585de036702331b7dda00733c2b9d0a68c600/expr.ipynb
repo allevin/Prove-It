{
 "cells": [
  {
   "cell_type": "markdown",
   "metadata": {},
   "source": [
    "Expression of type <a class=\"ProveItLink\" href=\"../../../../../../doc/html/api/proveit.number.Add.html\">Add</a>\n",
    "=======================\n",
    "# from context <a class=\"ProveItLink\" href=\"../../_context_.ipynb\">proveit.number.addition</a>"
   ]
  },
  {
   "cell_type": "code",
   "execution_count": 1,
   "metadata": {},
   "outputs": [],
   "source": [
    "# import Expression classes needed to build the expression\n",
    "from proveit._common_ import c\n",
    "from proveit.number import Add, one, three, two"
   ]
  },
  {
   "cell_type": "code",
   "execution_count": 2,
   "metadata": {},
   "outputs": [
    {
     "data": {
      "text/html": [
       "<strong id=\"expr\">expr:</strong> <a class=\"ProveItLink\" href=\"expr.ipynb\"><img src=\"data:image/png;base64,iVBORw0KGgoAAAANSUhEUgAAAN0AAAAQBAMAAABgnGdDAAAAMFBMVEX///+qqqpmZmbc3NxUVFSY\n",
       "mJhEREQiIiIyMjK6uroQEBDMzMyIiIh2dnbu7u4AAAA4MM1YAAAAAXRSTlMAQObYZgAAAYlJREFU\n",
       "OMtjYMAC8tD4RhqZaCJ77yYyEAJsDxiIA8/+ofKZHRjOC6CKKDDMP0DAFL58AvbxGUDoJy7/UEVY\n",
       "HjCwf4CIPIZQvB8Z+AtQRDCM4XPxh9n3GLt9jDAX8/xDFeFax8DyEyIiA5VA2CeD05jzMPtkSLSP\n",
       "4x8D0090rbDwJNk+vrtnNuC3DwjY/6FrbUEzDNMYDPsgSnZN4CggaN/+C6hauW84oBmGaQyGfWAl\n",
       "fGsY2AII2teGETSnJqCIYDEG3T6IEpYPBOOPgYEpAcM+LtQQxmIMun0QJfwQo5g6OtpXdHQ4IOxD\n",
       "FjkCVqPR0VHV0QGKOOYNDGxfUUSwGAOxD12J/QHC/mNUYDBGcer7fxD7ECJYjEH3H0QJPzDUCcXf\n",
       "JgaGYBSt/A0M7J9RRTCNQbcPooRFgYGXQH5grr17CTV38wQwzEdNsViMwYg/iBLdM+dQfcOk9UMV\n",
       "RYT9////aKWJkFIjWgrCMEZpfVMADiXoqR+3CGbRJEOOJjDgPEBYZA4DQRH8mgD6YKdhwTvZsgAA\n",
       "AABJRU5ErkJggg==\n",
       "\" style=\"display:inline;vertical-align:middle;\" /></a><br>"
      ],
      "text/plain": [
       "expr: c + 1 + 2 + 3 + c + 1 + c"
      ]
     },
     "execution_count": 2,
     "metadata": {},
     "output_type": "execute_result"
    }
   ],
   "source": [
    "# build up the expression from sub-expressions\n",
    "expr = Add(c, one, two, three, c, one, c)"
   ]
  },
  {
   "cell_type": "code",
   "execution_count": 3,
   "metadata": {},
   "outputs": [
    {
     "name": "stdout",
     "output_type": "stream",
     "text": [
      "Passed sanity check: built 'expr' is the same as the stored Expression.\n"
     ]
    }
   ],
   "source": [
    "# check that the built expression is the same as the stored expression\n",
    "%check_expr"
   ]
  },
  {
   "cell_type": "code",
   "execution_count": 4,
   "metadata": {},
   "outputs": [
    {
     "data": {
      "text/html": [
       "<table><tr><th>&nbsp;</th><th>core type</th><th>sub-expressions</th><th>expression</th></tr>\n",
       "<tr><td>0</td><td>Operation</td><td>operator:&nbsp;1<br>operands:&nbsp;2<br></td><td><a class=\"ProveItLink\" href=\"expr.ipynb\"><img src=\"data:image/png;base64,iVBORw0KGgoAAAANSUhEUgAAAN0AAAAQBAMAAABgnGdDAAAAMFBMVEX///+qqqpmZmbc3NxUVFSY\n",
       "mJhEREQiIiIyMjK6uroQEBDMzMyIiIh2dnbu7u4AAAA4MM1YAAAAAXRSTlMAQObYZgAAAYlJREFU\n",
       "OMtjYMAC8tD4RhqZaCJ77yYyEAJsDxiIA8/+ofKZHRjOC6CKKDDMP0DAFL58AvbxGUDoJy7/UEVY\n",
       "HjCwf4CIPIZQvB8Z+AtQRDCM4XPxh9n3GLt9jDAX8/xDFeFax8DyEyIiA5VA2CeD05jzMPtkSLSP\n",
       "4x8D0090rbDwJNk+vrtnNuC3DwjY/6FrbUEzDNMYDPsgSnZN4CggaN/+C6hauW84oBmGaQyGfWAl\n",
       "fGsY2AII2teGETSnJqCIYDEG3T6IEpYPBOOPgYEpAcM+LtQQxmIMun0QJfwQo5g6OtpXdHQ4IOxD\n",
       "FjkCVqPR0VHV0QGKOOYNDGxfUUSwGAOxD12J/QHC/mNUYDBGcer7fxD7ECJYjEH3H0QJPzDUCcXf\n",
       "JgaGYBSt/A0M7J9RRTCNQbcPooRFgYGXQH5grr17CTV38wQwzEdNsViMwYg/iBLdM+dQfcOk9UMV\n",
       "RYT9////aKWJkFIjWgrCMEZpfVMADiXoqR+3CGbRJEOOJjDgPEBYZA4DQRH8mgD6YKdhwTvZsgAA\n",
       "AABJRU5ErkJggg==\n",
       "\" style=\"display:inline;vertical-align:middle;\" /></a></td></tr>\n",
       "<tr><td>1</td><td>Literal</td><td></td><td><a class=\"ProveItLink\" href=\"../3e6688136fa3c7aefbebe51301b7c3ebf0b69c440/expr.ipynb\"><img src=\"data:image/png;base64,iVBORw0KGgoAAAANSUhEUgAAAA4AAAAOBAMAAADtZjDiAAAAJFBMVEX///+6urpUVFQQEBAiIiIy\n",
       "MjJmZmaIiIiqqqrc3Nzu7u4AAACgHpL+AAAAAXRSTlMAQObYZgAAAB5JREFUCNdjYGBgWMkAAe2k\n",
       "0Kmhoc6hoUGk6BMHYgAHOwjcado9fwAAAABJRU5ErkJggg==\n",
       "\" style=\"display:inline;vertical-align:middle;\" /></a></td></tr>\n",
       "<tr><td>2</td><td>ExprTuple</td><td>6, 5, 3, 4, 6, 5, 6</td><td><a class=\"ProveItLink\" href=\"../7a6a1ba5db1d23201697fd155a883d0f98cd76eb0/expr.ipynb\"><img src=\"data:image/png;base64,iVBORw0KGgoAAAANSUhEUgAAAIgAAAAVBAMAAABvbLv8AAAAMFBMVEX////c3NwiIiJERESqqqqY\n",
       "mJh2dnZmZmYQEBDu7u4yMjJUVFTMzMyIiIi6uroAAAAs73DqAAAAAXRSTlMAQObYZgAAAdhJREFU\n",
       "OMutlDFIAlEYx/+mpnem2eRQkFNrDTW0lHNL19okBLokuaQRDQ0tDelBEFFDUEREEDU1OOhUQYO3\n",
       "NESJ2SRNVhQk6PXuvdd53guH6uDu/d//e+/He+/77gH/8gS0v813P5LPjdVxqlyElieY6InNRYSJ\n",
       "49bOCnmPLX1pkkMcZyizuSEEGnbG5qe1JwN+y26kXJ5DfCq6alQtRPBqY+zm2iDuKLyq1Sjznncd\n",
       "viZV0yIE/jaItIpn/ASRP+Fpfp98ozMEo0gZrFip0A4hT9f3SPmMi63Egx1CrTgOibx+lMMCpBhl\n",
       "7eUJN3oy2LdBmDWFDFnIBpyKADkwF59h7baGMRuEWVWQnftqwpkAnhHTzDIzL54Js4oGpHfkB8g9\n",
       "bweASbbMNxHyxiFrwKAmQlxJ9NH86SqHOBoChFtVY0+9ZJAimRDKuQJmqKoDw0EafCd1xYIGpGVh\n",
       "luQHviS6C3thDpGM2nIMxeJhqm4R+AANXgDz1KIQ0zJS/ER0qnSH7Rci0tkjRcoGSZHouh6mypVe\n",
       "jrCgJ1FSqeVZqi+2LOAU3iDfaMW8G4KiqnSwSNm7eU1BMX8oiErpYHVrravg15Ad8vbztJlRTVT+\n",
       "Tta5kYg/Xo/+Ar4AfW6V4ZVMoZcAAAAASUVORK5CYII=\n",
       "\" style=\"display:inline;vertical-align:middle;\" /></a></td></tr>\n",
       "<tr><td>3</td><td>Literal</td><td></td><td><a class=\"ProveItLink\" href=\"../../../numeral/__pv_it/77d407a64829263cdc16415becd4c2293f77a4bf0/expr.ipynb\"><img src=\"data:image/png;base64,iVBORw0KGgoAAAANSUhEUgAAAAkAAAAOBAMAAAAPuiubAAAAMFBMVEX///+YmJh2dnbMzMwQEBAi\n",
       "IiLu7u6qqqqIiIhUVFS6urpEREQyMjJmZmbc3NwAAACOMKdoAAAAAXRSTlMAQObYZgAAAFBJREFU\n",
       "CNdj4Lt7egEDw0sGju8MDNMYGOIZGFwSGOYvYDifwHAfKAEUSQASzJ9ATJ4NIPI2iOCYACJrGfge\n",
       "MDBfYGB8wPBUSekqUPH//18ZAIliFhc3zESNAAAAAElFTkSuQmCC\n",
       "\" style=\"display:inline;vertical-align:middle;\" /></a></td></tr>\n",
       "<tr><td>4</td><td>Literal</td><td></td><td><a class=\"ProveItLink\" href=\"../../../numeral/__pv_it/9176d93c83afa2c995b614976e3cb49207102fa70/expr.ipynb\"><img src=\"data:image/png;base64,iVBORw0KGgoAAAANSUhEUgAAAAoAAAAOBAMAAADkjZCYAAAAMFBMVEX///+YmJju7u4QEBBUVFQy\n",
       "MjIiIiKIiIi6urpmZmbc3NyqqqpERER2dnbMzMwAAAB0GlNiAAAAAXRSTlMAQObYZgAAAE1JREFU\n",
       "CNdjYHh79zQDA9cEhv4CBt7fDPwJDNxgEgiAIkAQAsR8Vx1ATIbiBhDJ/ImB6wEDz0cG/U8gkj+A\n",
       "ge0XA7sAQ/8FBoadM6MZAEflFACalZ/OAAAAAElFTkSuQmCC\n",
       "\" style=\"display:inline;vertical-align:middle;\" /></a></td></tr>\n",
       "<tr><td>5</td><td>Literal</td><td></td><td><a class=\"ProveItLink\" href=\"../../../numeral/__pv_it/9be8badea4c35b9724062cecc501d17a3158d1d20/expr.ipynb\"><img src=\"data:image/png;base64,iVBORw0KGgoAAAANSUhEUgAAAAgAAAAPBAMAAAArJJMAAAAAHlBMVEX///+YmJgyMjIQEBBmZmaI\n",
       "iIhUVFTu7u5EREQAAAAw+MI4AAAAAXRSTlMAQObYZgAAACFJREFUCNdjYGBoZ2BgqJjOwFCWBiQY\n",
       "WEklWJwnOTKAAACjEQo8HvEr3AAAAABJRU5ErkJggg==\n",
       "\" style=\"display:inline;vertical-align:middle;\" /></a></td></tr>\n",
       "<tr><td>6</td><td>Variable</td><td></td><td><a class=\"ProveItLink\" href=\"../../../../__pv_it/cbdfda466482236edba0ce44ac7ef39cda0af7a40/expr.ipynb\"><img src=\"data:image/png;base64,iVBORw0KGgoAAAANSUhEUgAAAAkAAAAJBAMAAAASvxsjAAAALVBMVEX///9mZmbc3NxUVFSYmJhE\n",
       "REQiIiIyMjK6uroQEBDMzMyIiIh2dnbu7u4AAABgFDGoAAAAAXRSTlMAQObYZgAAADZJREFUCNdj\n",
       "YOA9s3sBA8PKBvYEBt7ZDKwODMwPGICALwBE6m0Asx0YGIDiAgw8QJUyu/cyAAAmuwmycZ8WfQAA\n",
       "AABJRU5ErkJggg==\n",
       "\" style=\"display:inline;vertical-align:middle;\" /></a></td></tr>\n",
       "</table>\n"
      ],
      "text/plain": [
       "0. c + 1 + 2 + 3 + c + 1 + c\n",
       "   core type: Operation\n",
       "   operator: 1\n",
       "   operands: 2\n",
       "1. +\n",
       "   core type: Literal\n",
       "   sub-expressions: \n",
       "2. (c , 1 , 2 , 3 , c , 1 , c)\n",
       "   core type: ExprTuple\n",
       "   sub-expressions: 6, 5, 3, 4, 6, 5, 6\n",
       "3. 2\n",
       "   core type: Literal\n",
       "   sub-expressions: \n",
       "4. 3\n",
       "   core type: Literal\n",
       "   sub-expressions: \n",
       "5. 1\n",
       "   core type: Literal\n",
       "   sub-expressions: \n",
       "6. c\n",
       "   core type: Variable\n",
       "   sub-expressions: "
      ]
     },
     "execution_count": 4,
     "metadata": {},
     "output_type": "execute_result"
    }
   ],
   "source": [
    "# display the expression information\n",
    "expr.exprInfo()"
   ]
  },
  {
   "cell_type": "code",
   "execution_count": null,
   "metadata": {},
   "outputs": [],
   "source": []
  }
 ],
 "metadata": {
  "kernelspec": {
   "display_name": "Python 3",
   "language": "python",
   "name": "python3"
  }
 },
 "nbformat": 4,
 "nbformat_minor": 0
}
