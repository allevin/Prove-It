{
 "cells": [
  {
   "cell_type": "markdown",
   "metadata": {},
   "source": [
    "Expression of type <a class=\"ProveItLink\" href=\"../../../../../../doc/html/api/proveit.number.Add.html\">Add</a>\n",
    "=======================\n",
    "# from context <a class=\"ProveItLink\" href=\"../../_context_.ipynb\">proveit.number.addition</a>"
   ]
  },
  {
   "cell_type": "code",
   "execution_count": 1,
   "metadata": {},
   "outputs": [],
   "source": [
    "# import Expression classes needed to build the expression\n",
    "from proveit._common_ import c\n",
    "from proveit.number import Add, Mult, seven, three"
   ]
  },
  {
   "cell_type": "code",
   "execution_count": 2,
   "metadata": {},
   "outputs": [
    {
     "data": {
      "text/html": [
       "<strong id=\"expr\">expr:</strong> <a class=\"ProveItLink\" href=\"expr.ipynb\"><img src=\"data:image/png;base64,iVBORw0KGgoAAAANSUhEUgAAAFQAAAAVBAMAAAAqQdQ7AAAAMFBMVEX////c3NwiIiJERESqqqqY\n",
       "mJh2dnZmZmYQEBDu7u4yMjJUVFTMzMyIiIi6uroAAAAs73DqAAAAAXRSTlMAQObYZgAAAUtJREFU\n",
       "KM9jYCAB8F3AEGJ9gF3paQaGY2kmqGI1aGoOlaWlJTAwrGRgLGB4j2o0F5rS+P///29g4L3AwPaF\n",
       "gV8B1QUJUMZECJXJwMDNwMAxgYEFQylnA5ThC6GAOnMYGF6B2WgOYDBBVQrxfBmYtRqhalruHQaG\n",
       "dHSlk4F4KRDzZG2Aq+TpY1jEwOCFrrQEiPvArBugkOScACRmXGAwZWB4gaaU8wOQ+AdmcvwEEvNB\n",
       "ftsP5p9HU8q7AKKU8QAD81eQgQZA4jNCadWqVRqrVoG9wQRyYQvQtJ8QpSDA+BdMoTtgfgGQADqM\n",
       "fwED00eY+4F6WBkYotCUvgcpBQYLbwDDe1j0MGwHhzZ6YPmDlD4CYvfyJfDAYs+9CwyIdWhKzweA\n",
       "/C6AJbWhRyxaykAGbLB4fosivBKL0lnYk7Y0FrGN2JUyYmYY3gPYFAIA9YZToK1xpXsAAAAASUVO\n",
       "RK5CYII=\n",
       "\" style=\"display:inline;vertical-align:middle;\" /></a><br>"
      ],
      "text/plain": [
       "expr: (3 * c) + 7"
      ]
     },
     "execution_count": 2,
     "metadata": {},
     "output_type": "execute_result"
    }
   ],
   "source": [
    "# build up the expression from sub-expressions\n",
    "expr = Add(Mult(three, c), seven)"
   ]
  },
  {
   "cell_type": "code",
   "execution_count": 3,
   "metadata": {},
   "outputs": [
    {
     "name": "stdout",
     "output_type": "stream",
     "text": [
      "Passed sanity check: built 'expr' is the same as the stored Expression.\n"
     ]
    }
   ],
   "source": [
    "# check that the built expression is the same as the stored expression\n",
    "%check_expr"
   ]
  },
  {
   "cell_type": "code",
   "execution_count": 4,
   "metadata": {},
   "outputs": [
    {
     "data": {
      "text/html": [
       "<table><tr><th>&nbsp;</th><th>core type</th><th>sub-expressions</th><th>expression</th></tr>\n",
       "<tr><td>0</td><td>Operation</td><td>operator:&nbsp;1<br>operands:&nbsp;2<br></td><td><a class=\"ProveItLink\" href=\"expr.ipynb\"><img src=\"data:image/png;base64,iVBORw0KGgoAAAANSUhEUgAAAFQAAAAVBAMAAAAqQdQ7AAAAMFBMVEX////c3NwiIiJERESqqqqY\n",
       "mJh2dnZmZmYQEBDu7u4yMjJUVFTMzMyIiIi6uroAAAAs73DqAAAAAXRSTlMAQObYZgAAAUtJREFU\n",
       "KM9jYCAB8F3AEGJ9gF3paQaGY2kmqGI1aGoOlaWlJTAwrGRgLGB4j2o0F5rS+P///29g4L3AwPaF\n",
       "gV8B1QUJUMZECJXJwMDNwMAxgYEFQylnA5ThC6GAOnMYGF6B2WgOYDBBVQrxfBmYtRqhalruHQaG\n",
       "dHSlk4F4KRDzZG2Aq+TpY1jEwOCFrrQEiPvArBugkOScACRmXGAwZWB4gaaU8wOQ+AdmcvwEEvNB\n",
       "ftsP5p9HU8q7AKKU8QAD81eQgQZA4jNCadWqVRqrVoG9wQRyYQvQtJ8QpSDA+BdMoTtgfgGQADqM\n",
       "fwED00eY+4F6WBkYotCUvgcpBQYLbwDDe1j0MGwHhzZ6YPmDlD4CYvfyJfDAYs+9CwyIdWhKzweA\n",
       "/C6AJbWhRyxaykAGbLB4fosivBKL0lnYk7Y0FrGN2JUyYmYY3gPYFAIA9YZToK1xpXsAAAAASUVO\n",
       "RK5CYII=\n",
       "\" style=\"display:inline;vertical-align:middle;\" /></a></td></tr>\n",
       "<tr><td>1</td><td>Literal</td><td></td><td><a class=\"ProveItLink\" href=\"../3e6688136fa3c7aefbebe51301b7c3ebf0b69c440/expr.ipynb\"><img src=\"data:image/png;base64,iVBORw0KGgoAAAANSUhEUgAAAA4AAAAOBAMAAADtZjDiAAAAJFBMVEX///+6urpUVFQQEBAiIiIy\n",
       "MjJmZmaIiIiqqqrc3Nzu7u4AAACgHpL+AAAAAXRSTlMAQObYZgAAAB5JREFUCNdjYGBgWMkAAe2k\n",
       "0Kmhoc6hoUGk6BMHYgAHOwjcado9fwAAAABJRU5ErkJggg==\n",
       "\" style=\"display:inline;vertical-align:middle;\" /></a></td></tr>\n",
       "<tr><td>2</td><td>ExprTuple</td><td>3, 4</td><td><a class=\"ProveItLink\" href=\"../6131707827e6afd710b8cfeaf1e2fecab3a7c3ac0/expr.ipynb\"><img src=\"data:image/png;base64,iVBORw0KGgoAAAANSUhEUgAAAEEAAAAVBAMAAADrxp6XAAAAMFBMVEX////c3NwiIiJERESqqqqY\n",
       "mJh2dnZmZmYQEBDu7u4yMjJUVFTMzMyIiIi6uroAAAAs73DqAAAAAXRSTlMAQObYZgAAAT5JREFU\n",
       "KM9jYCAM+C7gkYwDEacZGI6lmWBKHipLS0tgPwBkrWRgLGB4j2lQ/P///zcwLGBg4L3AwPaFgV8B\n",
       "Q0UmAwM3A0MYAwPHBAYWrCoSGBhyGBhmMDC8AnPfX8DhB2YHhjIwZzVCfFruHShrMhCzFTAsBVI8\n",
       "WRvgCnj6GBZBmSVAzLKAoQ/MufEASHBOABIzLjCYQhRwfgDZ1MDwD8zj+Akk5oOcux9uGu8CkJEf\n",
       "QCoYDzAwfwVpNwASn+EqmDZAVLQA9f6EqAABxr9wFfMLILYALeVfwMD0ESYOVMrKMAEcAiAVrAsY\n",
       "0oEWBjC8T4Cp2A4MKM5PIJZ/AcS3j4CUe/kSuNnsuXcncPYLAFnnA4AE1wMGDgFsoQkXBIY6awIW\n",
       "FaxwVi449vGo4ASFiTQWFfB45AZZx4gvFQIjEQAeJE5FRy1+sAAAAABJRU5ErkJggg==\n",
       "\" style=\"display:inline;vertical-align:middle;\" /></a></td></tr>\n",
       "<tr><td>3</td><td>Operation</td><td>operator:&nbsp;5<br>operands:&nbsp;6<br></td><td><a class=\"ProveItLink\" href=\"../6ea99038828acf4f95344c36471089d895e211420/expr.ipynb\"><img src=\"data:image/png;base64,iVBORw0KGgoAAAANSUhEUgAAACIAAAAOBAMAAAC4B9O8AAAAMFBMVEX///+YmJju7u4QEBBUVFQy\n",
       "MjIiIiKIiIi6urpmZmbc3NyqqqpERER2dnbMzMwAAAB0GlNiAAAAAXRSTlMAQObYZgAAAIZJREFU\n",
       "CNdjYHh79zQDCuCawNBfgCLC+5uBPwFFhBtDBAjQdAFBCIKpe72OgYHvqgNcgM+CIQxEFzcACSYF\n",
       "IKFcwHAQJML8CUjog4z3B7vnAQPPR5D0ASDxBySi/wkiApb9DiL5AxjYfsFMBkoxMrALMPRfgIl4\n",
       "MjDcY2DYOTMabjvn9XIFAJAVHuIpDSmpAAAAAElFTkSuQmCC\n",
       "\" style=\"display:inline;vertical-align:middle;\" /></a></td></tr>\n",
       "<tr><td>4</td><td>Literal</td><td></td><td><a class=\"ProveItLink\" href=\"../../../numeral/__pv_it/44c347496acc279b31e97f8859fc6a0a1e31c26b0/expr.ipynb\"><img src=\"data:image/png;base64,iVBORw0KGgoAAAANSUhEUgAAAAoAAAAOBAMAAADkjZCYAAAAKlBMVEX///8yMjKqqqpERESIiIi6\n",
       "urru7u5UVFSYmJh2dnZmZmYiIiLMzMwAAACZcOxaAAAAAXRSTlMAQObYZgAAAEVJREFUCNdjOL1y\n",
       "5swJDL13794tYJjGwMDOwDCBgWEOAxCwOoDIZBDBsAhEsF0AkSwCIJK7AETmLgCRsWBSF0yebWBg\n",
       "AAAo0Q9n+lHhAQAAAABJRU5ErkJggg==\n",
       "\" style=\"display:inline;vertical-align:middle;\" /></a></td></tr>\n",
       "<tr><td>5</td><td>Literal</td><td></td><td><a class=\"ProveItLink\" href=\"../../../multiplication/__pv_it/21fd2079611555ecce512d99547a00d551e6b86b0/expr.ipynb\"><img src=\"data:image/png;base64,iVBORw0KGgoAAAANSUhEUgAAAAMAAAADBAMAAACkBqiMAAAAElBMVEX///9EREQQEBAiIiLu7u4A\n",
       "AABGBidwAAAAAXRSTlMAQObYZgAAABFJREFUCNdjYHFgcDVgcBIAAASWAQx4jI0xAAAAAElFTkSu\n",
       "QmCC\n",
       "\" style=\"display:inline;vertical-align:middle;\" /></a></td></tr>\n",
       "<tr><td>6</td><td>ExprTuple</td><td>7, 8</td><td><a class=\"ProveItLink\" href=\"../6006dd3ab434da37f2d3692f39e9e2b651e1a4720/expr.ipynb\"><img src=\"data:image/png;base64,iVBORw0KGgoAAAANSUhEUgAAACkAAAAVBAMAAAAp9toTAAAAMFBMVEX////c3NwiIiJERESqqqqY\n",
       "mJh2dnZmZmYQEBDu7u4yMjJUVFTMzMyIiIi6uroAAAAs73DqAAAAAXRSTlMAQObYZgAAAPtJREFU\n",
       "GNNjYMAO+C6gCcSBiNMMDMfSTJBE2Q8AiZUMjAUM75E1LGBg4L3AwPaFgV8BSTSMgYFjAgMLmugM\n",
       "BoZXYAaKCcwODGVgxmqoAGfa3QMMbAUMS4FsnqwNUNETD7gUGFgWMPSBeTceQJT2MjAHMPA1MPwD\n",
       "czl+ginuDyCS5wNIlPEAA/NXsCi/AVS0hYFh/k+YqDzYKUATTIEqFjAwfWSYAFIbwMAQwMC6gCEd\n",
       "6L0AhvcJnJ9A5hYwsIFd9gjIcS9fwsDZLwBkld29ycDA9YCBQwAWogJIPmZNgLJZ4T7OBYckmign\n",
       "MCQZpKEcePhwg4xiRI+hOwwMANqAO5LCdo8qAAAAAElFTkSuQmCC\n",
       "\" style=\"display:inline;vertical-align:middle;\" /></a></td></tr>\n",
       "<tr><td>7</td><td>Literal</td><td></td><td><a class=\"ProveItLink\" href=\"../../../numeral/__pv_it/9176d93c83afa2c995b614976e3cb49207102fa70/expr.ipynb\"><img src=\"data:image/png;base64,iVBORw0KGgoAAAANSUhEUgAAAAoAAAAOBAMAAADkjZCYAAAAMFBMVEX///+YmJju7u4QEBBUVFQy\n",
       "MjIiIiKIiIi6urpmZmbc3NyqqqpERER2dnbMzMwAAAB0GlNiAAAAAXRSTlMAQObYZgAAAE1JREFU\n",
       "CNdjYHh79zQDA9cEhv4CBt7fDPwJDNxgEgiAIkAQAsR8Vx1ATIbiBhDJ/ImB6wEDz0cG/U8gkj+A\n",
       "ge0XA7sAQ/8FBoadM6MZAEflFACalZ/OAAAAAElFTkSuQmCC\n",
       "\" style=\"display:inline;vertical-align:middle;\" /></a></td></tr>\n",
       "<tr><td>8</td><td>Variable</td><td></td><td><a class=\"ProveItLink\" href=\"../../../../__pv_it/cbdfda466482236edba0ce44ac7ef39cda0af7a40/expr.ipynb\"><img src=\"data:image/png;base64,iVBORw0KGgoAAAANSUhEUgAAAAkAAAAJBAMAAAASvxsjAAAALVBMVEX///9mZmbc3NxUVFSYmJhE\n",
       "REQiIiIyMjK6uroQEBDMzMyIiIh2dnbu7u4AAABgFDGoAAAAAXRSTlMAQObYZgAAADZJREFUCNdj\n",
       "YOA9s3sBA8PKBvYEBt7ZDKwODMwPGICALwBE6m0Asx0YGIDiAgw8QJUyu/cyAAAmuwmycZ8WfQAA\n",
       "AABJRU5ErkJggg==\n",
       "\" style=\"display:inline;vertical-align:middle;\" /></a></td></tr>\n",
       "</table>\n"
      ],
      "text/plain": [
       "0. (3 * c) + 7\n",
       "   core type: Operation\n",
       "   operator: 1\n",
       "   operands: 2\n",
       "1. +\n",
       "   core type: Literal\n",
       "   sub-expressions: \n",
       "2. (3 * c , 7)\n",
       "   core type: ExprTuple\n",
       "   sub-expressions: 3, 4\n",
       "3. 3 * c\n",
       "   core type: Operation\n",
       "   operator: 5\n",
       "   operands: 6\n",
       "4. 7\n",
       "   core type: Literal\n",
       "   sub-expressions: \n",
       "5. *\n",
       "   core type: Literal\n",
       "   sub-expressions: \n",
       "6. (3 , c)\n",
       "   core type: ExprTuple\n",
       "   sub-expressions: 7, 8\n",
       "7. 3\n",
       "   core type: Literal\n",
       "   sub-expressions: \n",
       "8. c\n",
       "   core type: Variable\n",
       "   sub-expressions: "
      ]
     },
     "execution_count": 4,
     "metadata": {},
     "output_type": "execute_result"
    }
   ],
   "source": [
    "# display the expression information\n",
    "expr.exprInfo()"
   ]
  },
  {
   "cell_type": "code",
   "execution_count": null,
   "metadata": {},
   "outputs": [],
   "source": []
  }
 ],
 "metadata": {
  "kernelspec": {
   "display_name": "Python 3",
   "language": "python",
   "name": "python3"
  }
 },
 "nbformat": 4,
 "nbformat_minor": 0
}
