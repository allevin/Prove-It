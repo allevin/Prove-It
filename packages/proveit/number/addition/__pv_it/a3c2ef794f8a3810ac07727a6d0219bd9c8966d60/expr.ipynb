{
 "cells": [
  {
   "cell_type": "markdown",
   "metadata": {},
   "source": [
    "Expression of type <a class=\"ProveItLink\" href=\"../../../../../../doc/html/api/proveit.logic.InSet.html\">InSet</a>\n",
    "=======================\n",
    "# from context <a class=\"ProveItLink\" href=\"../../_context_.ipynb\">proveit.number.addition</a>"
   ]
  },
  {
   "cell_type": "code",
   "execution_count": 1,
   "metadata": {},
   "outputs": [],
   "source": [
    "# import Expression classes needed to build the expression\n",
    "from proveit._common_ import AA, m\n",
    "from proveit.logic import InSet\n",
    "from proveit.number import Exp, RealsPos"
   ]
  },
  {
   "cell_type": "code",
   "execution_count": 2,
   "metadata": {},
   "outputs": [
    {
     "data": {
      "text/html": [
       "<strong id=\"expr\">expr:</strong> <a class=\"ProveItLink\" href=\"expr.ipynb\"><img src=\"data:image/png;base64,iVBORw0KGgoAAAANSUhEUgAAAGYAAAAYBAMAAAD62ZXgAAAAMFBMVEX///+YmJhmZmZERES6urrc\n",
       "3Nzu7u4QEBCIiIgyMjJUVFR2dnYiIiKqqqrMzMwAAAD8et6HAAAAAXRSTlMAQObYZgAAAbZJREFU\n",
       "OMtjYCACXGAgHRjQWQ+jhscujuYHEA7fXwx1Hmh6GB0YGBL9BXgWMC6ACPL8RtfCt4BxvvHP6TMQ\n",
       "9ugxMIR1MvA/4FaAqNj/C10PZwIDM+sCPtupDFwzZ1bOBOrlBIquYHjOwAkJRb7/f9D1dDAA9Sgw\n",
       "mAXD7WHcwMBQx9DMEM8CMXT/f4hKts4zZyaAWWUQPfuY4XrYChhYPwBtEuYGK+hh/58AZrwUg1rD\n",
       "MgFDD4MtA4sBwzmGx1tBHNZ/nP8dwAwzmNOYNkD0LEO4jWETstuZFZj+C4AZAfAgEADrYTk4FcSD\n",
       "hO5NZD3iDBz/wQGYDBdidwDpqTkzF0mZOxKb7S8Dy3+w9e5nzkDDgB+sR0XBDEndeyQ21/fy+v8H\n",
       "QKxXcDGIHgWVVzj0XH+Wlvr/A4iVg3DbBbAezgwBrG5jqwUS57+CbYSrYIaEAd+CdQiFkghmFMgr\n",
       "9uBEynYEJghKVKCw3osISqSw5v8PjM/1////A3Ei9WBxeoABmEY/P+C0RKT4KThyyq050LRTiiEF\n",
       "TDsEgDSGCHcDIT2cCegimQSzM+sCdJGlhMuACDQ+xwM4EwArLG0IYS2zCwAAAABJRU5ErkJggg==\n",
       "\" style=\"display:inline;vertical-align:middle;\" /></a><br>"
      ],
      "text/plain": [
       "expr: A in (RealsPos)^{m}"
      ]
     },
     "execution_count": 2,
     "metadata": {},
     "output_type": "execute_result"
    }
   ],
   "source": [
    "# build up the expression from sub-expressions\n",
    "expr = InSet(AA, Exp(RealsPos, m))"
   ]
  },
  {
   "cell_type": "code",
   "execution_count": 3,
   "metadata": {},
   "outputs": [
    {
     "name": "stdout",
     "output_type": "stream",
     "text": [
      "Passed sanity check: built 'expr' is the same as the stored Expression.\n"
     ]
    }
   ],
   "source": [
    "# check that the built expression is the same as the stored expression\n",
    "%check_expr"
   ]
  },
  {
   "cell_type": "code",
   "execution_count": 4,
   "metadata": {},
   "outputs": [
    {
     "data": {
      "text/html": [
       "<table><tr><th>&nbsp;</th><th>core type</th><th>sub-expressions</th><th>expression</th></tr>\n",
       "<tr><td>0</td><td>Operation</td><td>operator:&nbsp;1<br>operands:&nbsp;2<br></td><td><a class=\"ProveItLink\" href=\"expr.ipynb\"><img src=\"data:image/png;base64,iVBORw0KGgoAAAANSUhEUgAAAGYAAAAYBAMAAAD62ZXgAAAAMFBMVEX///+YmJhmZmZERES6urrc\n",
       "3Nzu7u4QEBCIiIgyMjJUVFR2dnYiIiKqqqrMzMwAAAD8et6HAAAAAXRSTlMAQObYZgAAAbZJREFU\n",
       "OMtjYCACXGAgHRjQWQ+jhscujuYHEA7fXwx1Hmh6GB0YGBL9BXgWMC6ACPL8RtfCt4BxvvHP6TMQ\n",
       "9ugxMIR1MvA/4FaAqNj/C10PZwIDM+sCPtupDFwzZ1bOBOrlBIquYHjOwAkJRb7/f9D1dDAA9Sgw\n",
       "mAXD7WHcwMBQx9DMEM8CMXT/f4hKts4zZyaAWWUQPfuY4XrYChhYPwBtEuYGK+hh/58AZrwUg1rD\n",
       "MgFDD4MtA4sBwzmGx1tBHNZ/nP8dwAwzmNOYNkD0LEO4jWETstuZFZj+C4AZAfAgEADrYTk4FcSD\n",
       "hO5NZD3iDBz/wQGYDBdidwDpqTkzF0mZOxKb7S8Dy3+w9e5nzkDDgB+sR0XBDEndeyQ21/fy+v8H\n",
       "QKxXcDGIHgWVVzj0XH+Wlvr/A4iVg3DbBbAezgwBrG5jqwUS57+CbYSrYIaEAd+CdQiFkghmFMgr\n",
       "9uBEynYEJghKVKCw3osISqSw5v8PjM/1////A3Ei9WBxeoABmEY/P+C0RKT4KThyyq050LRTiiEF\n",
       "TDsEgDSGCHcDIT2cCegimQSzM+sCdJGlhMuACDQ+xwM4EwArLG0IYS2zCwAAAABJRU5ErkJggg==\n",
       "\" style=\"display:inline;vertical-align:middle;\" /></a></td></tr>\n",
       "<tr><td>1</td><td>Literal</td><td></td><td><a class=\"ProveItLink\" href=\"../../../../logic/set_theory/membership/__pv_it/088cbc857536a28d4119ad9639a84270ccb0545d0/expr.ipynb\"><img src=\"data:image/png;base64,iVBORw0KGgoAAAANSUhEUgAAAAwAAAAMBAMAAACkW0HUAAAALVBMVEX///+qqqpmZmZUVFQQEBC6\n",
       "urpERETc3NyYmJjMzMwiIiIyMjKIiIju7u4AAACYsrA9AAAAAXRSTlMAQObYZgAAADxJREFUCNdj\n",
       "YOA9vWrVBgaG2b0MQMCeCyIZ2ArA1DUwyRCyahVIyWQI7xaEYm4AU7xLIdxqTQgtvGvVBgCkcQ7e\n",
       "geM/tQAAAABJRU5ErkJggg==\n",
       "\" style=\"display:inline;vertical-align:middle;\" /></a></td></tr>\n",
       "<tr><td>2</td><td>ExprTuple</td><td>3, 4</td><td><a class=\"ProveItLink\" href=\"../467b6577a7882f016a870b6daf3d378ce1b3350c0/expr.ipynb\"><img src=\"data:image/png;base64,iVBORw0KGgoAAAANSUhEUgAAAGYAAAAbBAMAAAB8TedOAAAAMFBMVEX///+qqqp2dnYiIiJERESI\n",
       "iIhmZmYQEBDc3NyYmJgyMjLu7u5UVFTMzMy6uroAAACGxKilAAAAAXRSTlMAQObYZgAAAiBJREFU\n",
       "OMudk01oE0EUx/9NNslusxv33NNe7DkgFBFLVw9SweKiFBH8KF49GE8FoXYPolAKqUU8FCmpiGIq\n",
       "NJcSsYfk4MVe3EOPhRYqIoI2pUVaQjK+2R13p5tajAM7+96b95v35s0b4PjRc7T553GMEjdYfDLq\n",
       "XTHrfPpQ+Sfm+a0r9dERIOWQ8kkYN8w/yzknxswD2fkDnMULUk4DakGsDllR+Lm9y+UHTsikPajL\n",
       "JbTQT8oN0scCxwQLz7UI2NNY63OxWn5TLhNbAnTHKGCBVmsVZDZFaiwvEJ6x/RjKezs8zyyQ8VK2\n",
       "2iDn5Aw2hOdL1hBSpuIzCS9iqkCRImk25Z+2cU1snp9sCuY7OhjFxBckPeO8C2gNrAaORW+pLZg7\n",
       "AaNLuSXGokrmmrgUSBdw70AY3wbM1hxtCj3ooFLEGC289gWtgNu/hPEhZ56cOmNKexciWW1jwBdq\n",
       "Jrb3hLHtx/mqSP1hNCI5uyOYz+PjbPcQk/5RP5qhOO/8fCdWVopMGO8H51m8/pfcWvjo159yTzIX\n",
       "Wa5cDJh13Qv9NKkGuX1c5SgHFWaixnuhX9yPORz6ybWm+9mmH2NN6Iwxr7pP2hZ4j47g1VJYud7N\n",
       "iEmUcMKTn8s33jtuxyuqSnKvA92SF2d4cKuDOSnJNRdGPs7wt3B4ZKUS4Bl95yQ95c/TcUaXsx2k\n",
       "b6ojE9WJGW5KssZL2GOhm/HIn592xdzFf43f6+eTUUNXUD4AAAAASUVORK5CYII=\n",
       "\" style=\"display:inline;vertical-align:middle;\" /></a></td></tr>\n",
       "<tr><td>3</td><td>Variable</td><td></td><td><a class=\"ProveItLink\" href=\"../../../../__pv_it/eb438fefc4bd0ac977777d6dfd3e8a72dfbedbd50/expr.ipynb\"><img src=\"data:image/png;base64,iVBORw0KGgoAAAANSUhEUgAAABIAAAAPBAMAAAAbqIIhAAAAMFBMVEX///+YmJhmZmZERES6urrc\n",
       "3Nzu7u4QEBCIiIgyMjJUVFR2dnYiIiKqqqrMzMwAAAD8et6HAAAAAXRSTlMAQObYZgAAAGpJREFU\n",
       "CNdjYAABvr8MUMDzG8ba/wvK4Pv/B8ri3P8fyuph/58AZrD+4/zvAGYxKzD9FwCzxBk4/iuAGGx/\n",
       "GVj+G4BYXN/L6/8fALGuP0tL/f8BJFkLJM5/BRJRICX2QCfw/weauv7//38AzEYi08a6/oIAAAAA\n",
       "SUVORK5CYII=\n",
       "\" style=\"display:inline;vertical-align:middle;\" /></a></td></tr>\n",
       "<tr><td>4</td><td>Operation</td><td>operator:&nbsp;5<br>operands:&nbsp;6<br></td><td><a class=\"ProveItLink\" href=\"../d15b5aff0927753293383b0ad3a53abc6bc2ca150/expr.ipynb\"><img src=\"data:image/png;base64,iVBORw0KGgoAAAANSUhEUgAAADkAAAAYBAMAAACyxkglAAAAMFBMVEX////c3NwiIiJERESqqqqY\n",
       "mJh2dnZmZmYQEBDu7u4yMjJUVFTMzMyIiIi6uroAAAAs73DqAAAAAXRSTlMAQObYZgAAARxJREFU\n",
       "KM9jYEAGLAz4ADM1ZMPvXdtw1wbI4LuAJhvHwMAZ95VBmyEayDnNEPXZflXXBbgs+wEGxrkLGP4w\n",
       "pAM5KxkYDKQZDnsJMOxatWLVKqCqBQwM3Bd4GhiWMDDwArkG4gzMEw3g9oYxMHAc4DVg/PCAgWMC\n",
       "WJbtAEJ2BgODPFA3q0ECwysGDFlmB4bHDEwHeMwEGMogstxIJrMVwD2xFCL7KEoAyOCGhOcCuGwf\n",
       "SFZCScsB4Wu+BjjzH1jvc+YJCFmeD2iy7G82YJVtgdi78ipWk00hsqe5D8CFWBGuSof618EQLoTk\n",
       "o0cMoFiwYVi8Hu5qrgdwWQ4BjFiegWCyJmDI5iKxV6JLci5A4kijy3Ij28V4AU32DoIJAIozRK2p\n",
       "cD5FAAAAAElFTkSuQmCC\n",
       "\" style=\"display:inline;vertical-align:middle;\" /></a></td></tr>\n",
       "<tr><td>5</td><td>Literal</td><td></td><td><a class=\"ProveItLink\" href=\"../../../exponentiation/__pv_it/deb2bf23cbccdd6e6791e1b35b5b9794ce12dbd50/expr.ipynb\"><img src=\"data:image/png;base64,iVBORw0KGgoAAAANSUhEUgAAACgAAAASBAMAAADbMYGVAAAAMFBMVEX///8QEBAiIiKYmJjc3Nzu\n",
       "7u7MzMx2dnZmZma6urpERESqqqoyMjJUVFSIiIgAAAAoDOMTAAAAAXRSTlMAQObYZgAAAOBJREFU\n",
       "GNNjYGB4+//u3Tt/GNAASGAXmhjnPyDBgSbI/g1IxKEJ8nxgYGdgQRPkX8BgDKRY6q7s62OYvmze\n",
       "2wAgb/7ZO1+AVDiDkYEQQ0HTBr4DQF59AgOIKmB4z7CNbcNZBu6vQN55kEACQwDDLQYGVobfDHwg\n",
       "fb8YGBxYHwAZciD3fWXg+gB1JjvQcJZvQIXsCgz8F6DO9GBgMOH7wPCUgaeBwd4B7EwGNjUG7s9c\n",
       "AiwPgO5jkWRgiF3/9+5dfQUG1nWl5Y+B7pv+1gE9bBhqGLCAE1jEWH9jEbT5A3IwAC4sP/1L6Qlu\n",
       "AAAAAElFTkSuQmCC\n",
       "\" style=\"display:inline;vertical-align:middle;\" /></a></td></tr>\n",
       "<tr><td>6</td><td>ExprTuple</td><td>7, 8</td><td><a class=\"ProveItLink\" href=\"../5a6e08864910b8720cd14f7a4fd5fa62f06142ef0/expr.ipynb\"><img src=\"data:image/png;base64,iVBORw0KGgoAAAANSUhEUgAAAEYAAAAbBAMAAAAzEOSeAAAAMFBMVEX///+qqqp2dnYiIiJERESI\n",
       "iIhmZmYQEBDc3NyYmJgyMjLu7u5UVFTMzMy6uroAAACGxKilAAAAAXRSTlMAQObYZgAAAW5JREFU\n",
       "KM+N0j1Lw0AYB/B/25gmTRP9AA4RXIWAIjoILTiIdSgouFTILhTBzamDLi5GcLcO1VIEs4jg0gwu\n",
       "VoR+gIJZik62FYViafEuicUzJvWBe7jjftzLcwcwMYG/4/VHP+WbVWmSrVDToOnWDDVjWZLuEWqw\n",
       "AAg7EK+WPy9KQSYH8DrACZacLiNZqexVSr9N1UTcpkZHZj9gnZiBJ7hmhgswfAqbo4zYRs0zD+xe\n",
       "zZWDnNrcIHVXelhzjbJYplPDeqq1rPRmR9qkxn2cO2Z39ozZQLHnIH2AGmGAecfk9QxjJGmASA98\n",
       "kXQ7ntHzDfakFGiIq846l65JXBvsjYuI6WgVTAh93LlGth6H+9BEVqjaqAkGlC7WvbtPcYXv4msk\n",
       "Hdk4BUpRpz4t0Dd9rydWO5656ZL0DEwDk1tAtIjxuq+yL8wokUVS9Rn29NUCZG2EOSEt7fud7HCJ\n",
       "tEOEhqjTiqqhxvkOOA412/hXfAGsslvfpjZkPgAAAABJRU5ErkJggg==\n",
       "\" style=\"display:inline;vertical-align:middle;\" /></a></td></tr>\n",
       "<tr><td>7</td><td>Literal</td><td></td><td><a class=\"ProveItLink\" href=\"../../../sets/real/__pv_it/399ccec6a6e90df280e82734a8711cdb89199bc00/expr.ipynb\"><img src=\"data:image/png;base64,iVBORw0KGgoAAAANSUhEUgAAABsAAAATBAMAAACTqWsLAAAAMFBMVEX///8iIiK6urp2dnbu7u5m\n",
       "ZmaqqqrMzMxUVFTc3NyIiIgQEBBEREQyMjKYmJgAAAA9nvXMAAAAAXRSTlMAQObYZgAAAGxJREFU\n",
       "GNNjYIADNgYUwEMy9+2f83f3LkDIHpjBUJM7gaH37u27d4HCB6Yy8HgeQMhOZWAuwMflQFWs+HYC\n",
       "kMEB4c4WlE1A2H5gqiqPAzKXVb0BmctwZR0Kt4KjAJnLnHASxgN64TjDnftQswFmaSyXIBgH2QAA\n",
       "AABJRU5ErkJggg==\n",
       "\" style=\"display:inline;vertical-align:middle;\" /></a></td></tr>\n",
       "<tr><td>8</td><td>Variable</td><td></td><td><a class=\"ProveItLink\" href=\"../../../../__pv_it/78af03acba5349fd70398a32ce59bae1da52f0870/expr.ipynb\"><img src=\"data:image/png;base64,iVBORw0KGgoAAAANSUhEUgAAABIAAAAJBAMAAADN8WE8AAAAMFBMVEX////MzMyYmJgQEBBmZmYi\n",
       "IiLu7u4yMjKqqqp2dnZUVFTc3NxERESIiIi6uroAAABe5jFNAAAAAXRSTlMAQObYZgAAAFtJREFU\n",
       "CNdj4Luz++5KvrsnGBg4uWoZ8ucx9DMwvGM9wJB/AcRKyH/A0J/A4M7AAKJcGRgsgSwgL4SB7zcb\n",
       "iMf2j4GrYBMD9z8Gpg8M7BcmMPAZMHAeYOBYKwAAtXMYHwtZnY0AAAAASUVORK5CYII=\n",
       "\" style=\"display:inline;vertical-align:middle;\" /></a></td></tr>\n",
       "</table>\n"
      ],
      "text/plain": [
       "0. A in (RealsPos)^{m}\n",
       "   core type: Operation\n",
       "   operator: 1\n",
       "   operands: 2\n",
       "1. in\n",
       "   core type: Literal\n",
       "   sub-expressions: \n",
       "2. (A , (RealsPos)^{m})\n",
       "   core type: ExprTuple\n",
       "   sub-expressions: 3, 4\n",
       "3. A\n",
       "   core type: Variable\n",
       "   sub-expressions: \n",
       "4. (RealsPos)^{m}\n",
       "   core type: Operation\n",
       "   operator: 5\n",
       "   operands: 6\n",
       "5. Exp\n",
       "   core type: Literal\n",
       "   sub-expressions: \n",
       "6. (RealsPos , m)\n",
       "   core type: ExprTuple\n",
       "   sub-expressions: 7, 8\n",
       "7. RealsPos\n",
       "   core type: Literal\n",
       "   sub-expressions: \n",
       "8. m\n",
       "   core type: Variable\n",
       "   sub-expressions: "
      ]
     },
     "execution_count": 4,
     "metadata": {},
     "output_type": "execute_result"
    }
   ],
   "source": [
    "# display the expression information\n",
    "expr.exprInfo()"
   ]
  },
  {
   "cell_type": "code",
   "execution_count": null,
   "metadata": {},
   "outputs": [],
   "source": []
  }
 ],
 "metadata": {
  "kernelspec": {
   "display_name": "Python 3",
   "language": "python",
   "name": "python3"
  }
 },
 "nbformat": 4,
 "nbformat_minor": 0
}
