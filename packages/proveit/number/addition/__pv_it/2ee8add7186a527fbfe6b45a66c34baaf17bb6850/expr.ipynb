{
 "cells": [
  {
   "cell_type": "markdown",
   "metadata": {},
   "source": [
    "Expression of type <a class=\"ProveItLink\" href=\"../../../../../../doc/html/api/proveit.logic.Set.html\">Set</a>\n",
    "=======================\n",
    "# from context <a class=\"ProveItLink\" href=\"../../_context_.ipynb\">proveit.number.addition</a>"
   ]
  },
  {
   "cell_type": "code",
   "execution_count": 1,
   "metadata": {},
   "outputs": [],
   "source": [
    "# import Expression classes needed to build the expression\n",
    "from proveit._common_ import d\n",
    "from proveit.logic import InSet, Set\n",
    "from proveit.number import Integers"
   ]
  },
  {
   "cell_type": "code",
   "execution_count": 2,
   "metadata": {},
   "outputs": [
    {
     "data": {
      "text/html": [
       "<strong id=\"expr\">expr:</strong> <a class=\"ProveItLink\" href=\"expr.ipynb\"><img src=\"data:image/png;base64,iVBORw0KGgoAAAANSUhEUgAAAEUAAAAVBAMAAADiLT7tAAAAMFBMVEX////c3NxERESqqqpUVFS6\n",
       "urrMzMwyMjIQEBCIiIh2dnYiIiLu7u5mZmaYmJgAAABXZE4RAAAAAXRSTlMAQObYZgAAAUhJREFU\n",
       "KM9jYGDgu8eAE7CtEgBRPLsY8AC2ZhDJ+QHMYdW4gCzHvP93eXfFAwaG6yAeVwNElN8AWQ1n7QGG\n",
       "AiYgYwWymvgDyGp4FzBwGSxFV7MaTJ6s3r0dRLMcYBBhc0BXUwt2Yh3CNB2mAyhqGD2XfgZxhBBK\n",
       "+Ca8Y4Cp4S0AEhECTH9AHEWEiw7xKICo9yAiIwBozD+IUogwBLixgIOPHRgkKW0gF35g4F4ACqTu\n",
       "3bshbmZgvRAFUasODKSIBGDYKDCcDwA52QFuDDsD0OCFDBC9LEC2/AQGewagc3k2wNUs5gJq2gB1\n",
       "DxeQcd6AwZ0ZaB6DH0wJo0MKxMtwv7M/YN7LBeKcDoCqYRLQYeC5pYCkhtFzatJUsPbaBIiaCPUm\n",
       "pfqmC2jhDI1vd6i/YACLGgwAVsOHXw04/fDsxJsOWyGRt5hAegYAd4VSBm6ZknEAAAAASUVORK5C\n",
       "YII=\n",
       "\" style=\"display:inline;vertical-align:middle;\" /></a><br>"
      ],
      "text/plain": [
       "expr: {d in Integers}"
      ]
     },
     "execution_count": 2,
     "metadata": {},
     "output_type": "execute_result"
    }
   ],
   "source": [
    "# build up the expression from sub-expressions\n",
    "expr = Set(InSet(d, Integers))"
   ]
  },
  {
   "cell_type": "code",
   "execution_count": 3,
   "metadata": {},
   "outputs": [
    {
     "name": "stdout",
     "output_type": "stream",
     "text": [
      "Passed sanity check: built 'expr' is the same as the stored Expression.\n"
     ]
    }
   ],
   "source": [
    "# check that the built expression is the same as the stored expression\n",
    "%check_expr"
   ]
  },
  {
   "cell_type": "code",
   "execution_count": 4,
   "metadata": {},
   "outputs": [
    {
     "data": {
      "text/html": [
       "<table><tr><th>&nbsp;</th><th>core type</th><th>sub-expressions</th><th>expression</th></tr>\n",
       "<tr><td>0</td><td>Operation</td><td>operator:&nbsp;1<br>operands:&nbsp;2<br></td><td><a class=\"ProveItLink\" href=\"expr.ipynb\"><img src=\"data:image/png;base64,iVBORw0KGgoAAAANSUhEUgAAAEUAAAAVBAMAAADiLT7tAAAAMFBMVEX////c3NxERESqqqpUVFS6\n",
       "urrMzMwyMjIQEBCIiIh2dnYiIiLu7u5mZmaYmJgAAABXZE4RAAAAAXRSTlMAQObYZgAAAUhJREFU\n",
       "KM9jYGDgu8eAE7CtEgBRPLsY8AC2ZhDJ+QHMYdW4gCzHvP93eXfFAwaG6yAeVwNElN8AWQ1n7QGG\n",
       "AiYgYwWymvgDyGp4FzBwGSxFV7MaTJ6s3r0dRLMcYBBhc0BXUwt2Yh3CNB2mAyhqGD2XfgZxhBBK\n",
       "+Ca8Y4Cp4S0AEhECTH9AHEWEiw7xKICo9yAiIwBozD+IUogwBLixgIOPHRgkKW0gF35g4F4ACqTu\n",
       "3bshbmZgvRAFUasODKSIBGDYKDCcDwA52QFuDDsD0OCFDBC9LEC2/AQGewagc3k2wNUs5gJq2gB1\n",
       "DxeQcd6AwZ0ZaB6DH0wJo0MKxMtwv7M/YN7LBeKcDoCqYRLQYeC5pYCkhtFzatJUsPbaBIiaCPUm\n",
       "pfqmC2jhDI1vd6i/YACLGgwAVsOHXw04/fDsxJsOWyGRt5hAegYAd4VSBm6ZknEAAAAASUVORK5C\n",
       "YII=\n",
       "\" style=\"display:inline;vertical-align:middle;\" /></a></td></tr>\n",
       "<tr><td>1</td><td>Literal</td><td></td><td><a class=\"ProveItLink\" href=\"../../../../logic/set_theory/enumeration/__pv_it/07381ed5b23806e8d7914b78cb6667769e3708dd0/expr.ipynb\"><img src=\"data:image/png;base64,iVBORw0KGgoAAAANSUhEUgAAAB4AAAAOBAMAAADKyLEKAAAAMFBMVEX///8iIiIQEBCIiIjMzMzc\n",
       "3Nyqqqp2dnZEREQyMjK6urru7u5mZmZUVFSYmJgAAACI6eGPAAAAAXRSTlMAQObYZgAAALRJREFU\n",
       "CNdjYGDgu3Nm3wIGBJjHwN0PZW5yYGDgLWBgyITy8zcwMMQDxZyh/INAvD6BgcEFypcB4vjPDiBm\n",
       "TPFRrhs/LjMwMP//38rAwCbKEMPA9gEkE3fp0waG+AUMRxh4JkC01T9guPTOOICBEWgVH5C//wHD\n",
       "H5D4fqCz9oCMDGD4DLaegRXslLMMDMpAgxlOMmQxHDRgYG5gYLBk4D7KcIe7gOHC2rt9QCXsh40Z\n",
       "GCKMGQDRkC8N/Ph1XAAAAABJRU5ErkJggg==\n",
       "\" style=\"display:inline;vertical-align:middle;\" /></a></td></tr>\n",
       "<tr><td>2</td><td>ExprTuple</td><td>3</td><td><a class=\"ProveItLink\" href=\"../1491e8b7f808e169e88ff21cf254ccecfcbb954d0/expr.ipynb\"><img src=\"data:image/png;base64,iVBORw0KGgoAAAANSUhEUgAAAD4AAAAVBAMAAADshECCAAAAMFBMVEX////c3NwiIiJERESqqqqY\n",
       "mJh2dnZmZmYQEBDu7u4yMjJUVFTMzMyIiIi6uroAAAAs73DqAAAAAXRSTlMAQObYZgAAAVJJREFU\n",
       "KM9jYCAE+C7glGJ9ACROgxVZFCBLsOh/WtW0IoChBsheCRbhd0CW510+gWEBMwMDF5AJMf79BGR5\n",
       "9gQGNoc8oAUJDBwQiSQwOXeRkhaI5p7AIM2zgYGBs4HhFUTHchDBsxRhiiUziG3CUAYkGffmfQGJ\n",
       "CSOkWS+Egqh0hqVA8oUA808QzxDhgsmcBiDKi6EPqP0rA/sCIAciBAF7uAVA1AuGf0DXfGBgSgAF\n",
       "QpOSEsR9DHwFz8D0eZA8vwHDfFBIgVwMBVwMQAMTQfItDAzyFxj8GYBO41SAy6ewATUogMw3ZWCY\n",
       "78Cwi+UAUHQrTJpxAzDU2RoYGKKAPmDgCmBRZwMJT3oAlWcWsGTgLDMA+e8RyPv3Dt8Da1t+ACL/\n",
       "wqrZeH0zMMrWMXAIIMfbLqj7oQAYvqwJeNIG2wVY/GIHs4BYGo/8RpCjcKcv3gMMAKWDTGaqEAuA\n",
       "AAAAAElFTkSuQmCC\n",
       "\" style=\"display:inline;vertical-align:middle;\" /></a></td></tr>\n",
       "<tr><td>3</td><td>Operation</td><td>operator:&nbsp;4<br>operands:&nbsp;5<br></td><td><a class=\"ProveItLink\" href=\"../5427ad2f07cb5652b81d8908f2b5e3f360155a150/expr.ipynb\"><img src=\"data:image/png;base64,iVBORw0KGgoAAAANSUhEUgAAADIAAAAPBAMAAABU9YHxAAAAMFBMVEX////MzMyYmJiIiIhUVFTc\n",
       "3NwyMjIiIiJ2dnbu7u6qqqpmZmYQEBBERES6uroAAABkyy6XAAAAAXRSTlMAQObYZgAAAOpJREFU\n",
       "GNNjYGBg4LuzgQEJcNV/TzueowBm8y9AlmHOnsCQwAthv5+ALMPdwMCxoA/CbgeTk9PLy0A0ywSG\n",
       "EEYHiEw2iGBMQui8yQtiszr3/QLxYhESTAZKIOpNAO9PEH0VYdNczgsgLZ8YuBOANJgDBY4sASD7\n",
       "PjCwN4A8dby8HOICBr4NL8B+ucAw/wHIAQ5wLWwMQENaGeINGNYzAC3nLIDLdHEAlRYwzF/A4MYl\n",
       "AOQ7wSRYHUQYGDgOMLApcFVzgASmP4DK8AbcZODccQHoHTtZO7DSbAGIzJtrZ+/mn0UOZC43qNsg\n",
       "AABahDh0K0FjhQAAAABJRU5ErkJggg==\n",
       "\" style=\"display:inline;vertical-align:middle;\" /></a></td></tr>\n",
       "<tr><td>4</td><td>Literal</td><td></td><td><a class=\"ProveItLink\" href=\"../../../../logic/set_theory/membership/__pv_it/088cbc857536a28d4119ad9639a84270ccb0545d0/expr.ipynb\"><img src=\"data:image/png;base64,iVBORw0KGgoAAAANSUhEUgAAAAwAAAAMBAMAAACkW0HUAAAALVBMVEX///+qqqpmZmZUVFQQEBC6\n",
       "urpERETc3NyYmJjMzMwiIiIyMjKIiIju7u4AAACYsrA9AAAAAXRSTlMAQObYZgAAADxJREFUCNdj\n",
       "YOA9vWrVBgaG2b0MQMCeCyIZ2ArA1DUwyRCyahVIyWQI7xaEYm4AU7xLIdxqTQgtvGvVBgCkcQ7e\n",
       "geM/tQAAAABJRU5ErkJggg==\n",
       "\" style=\"display:inline;vertical-align:middle;\" /></a></td></tr>\n",
       "<tr><td>5</td><td>ExprTuple</td><td>6, 7</td><td><a class=\"ProveItLink\" href=\"../c2b98f679cb37cb59170054a105a6671c859e6170/expr.ipynb\"><img src=\"data:image/png;base64,iVBORw0KGgoAAAANSUhEUgAAAC4AAAAVBAMAAADLKsFqAAAAMFBMVEX////c3NwiIiJERESqqqqY\n",
       "mJh2dnZmZmYQEBDu7u4yMjJUVFTMzMyIiIi6uroAAAAs73DqAAAAAXRSTlMAQObYZgAAAS1JREFU\n",
       "GNNjYMAF+C5gCLE+ABKnwZIWBSCKRf/TqqYVAQw1QPZKsBJ+BxDJu3wCwwJmBgYuIBNizPsJIJI9\n",
       "gYHNIQ9oUAIDB1iAIQlMck9gkObZwMDA2cDwCmLVcpidlswghSYMZUCScW/eF5hTLoSCqHSGpUDy\n",
       "hQDzT6j4ZE4DEOXF0AdU/pWBfQFUfA+3AIh6wfAPaNsHBqYEqCcLnoHp8yBxfgOG+Q8g4lwMQI2J\n",
       "IPEWBgb5Cwz+DBDnprABFSiAzDFlYJjvwLCL5QAnyGEbgKHC1sDAEAV0EQNXAIs6G8N8oDJmAUsG\n",
       "zjIDkDsfgZx/7/A9hhkfgdqtmo3XNwODcB0DhwDMpw8RAQ0MB9YEGCcAIc52ARbOqOKzgFgayuZF\n",
       "irCNILdhxiPvAQYAIXhFzpGvegsAAAAASUVORK5CYII=\n",
       "\" style=\"display:inline;vertical-align:middle;\" /></a></td></tr>\n",
       "<tr><td>6</td><td>Variable</td><td></td><td><a class=\"ProveItLink\" href=\"../../../../__pv_it/3a5de44ed6135dbbdbbeec6704c741e238f127300/expr.ipynb\"><img src=\"data:image/png;base64,iVBORw0KGgoAAAANSUhEUgAAAAsAAAAOBAMAAAALT/umAAAAMFBMVEX////MzMyYmJiIiIhUVFTc\n",
       "3NwyMjIiIiJ2dnbu7u6qqqpmZmYQEBBERES6uroAAABkyy6XAAAAAXRSTlMAQObYZgAAAFhJREFU\n",
       "CNdjYGBg4LuzgQEE+BeAqfcTwFQ7mGTIBmJW575fQOpNAO9PIOcTA3cCAwPLBwb2BqCeCwzzHzAw\n",
       "xBswrGeYwDB/AYMblwADmwJXNQdIm52sHQMAfyoTCZukXIEAAAAASUVORK5CYII=\n",
       "\" style=\"display:inline;vertical-align:middle;\" /></a></td></tr>\n",
       "<tr><td>7</td><td>Literal</td><td></td><td><a class=\"ProveItLink\" href=\"../../../sets/integer/__pv_it/7b9e51516f347f625fa636d7bb440e96498977000/expr.ipynb\"><img src=\"data:image/png;base64,iVBORw0KGgoAAAANSUhEUgAAAA4AAAAOBAMAAADtZjDiAAAAMFBMVEX////MzMzc3NxUVFS6urp2\n",
       "dnZERETu7u5mZmaIiIiYmJgQEBAyMjIiIiKqqqoAAAAf68ZqAAAAAXRSTlMAQObYZgAAAGlJREFU\n",
       "CNdj4Lv/98ze0wsYOE8UMBxgY2DgCGBgfRDCwMBcwKDMaMAAAulsBSCKa8IqMLeMPQFMGzIrgCiW\n",
       "Blcwl4fhAANDEANDHKsDA8MFBiYDYQYG1g0MbArpDOytCQzeOdvSzm9rAAAm6xY1AUf+1AAAAABJ\n",
       "RU5ErkJggg==\n",
       "\" style=\"display:inline;vertical-align:middle;\" /></a></td></tr>\n",
       "</table>\n"
      ],
      "text/plain": [
       "0. {d in Integers}\n",
       "   core type: Operation\n",
       "   operator: 1\n",
       "   operands: 2\n",
       "1. Set\n",
       "   core type: Literal\n",
       "   sub-expressions: \n",
       "2. (d in Integers)\n",
       "   core type: ExprTuple\n",
       "   sub-expressions: 3\n",
       "3. d in Integers\n",
       "   core type: Operation\n",
       "   operator: 4\n",
       "   operands: 5\n",
       "4. in\n",
       "   core type: Literal\n",
       "   sub-expressions: \n",
       "5. (d , Integers)\n",
       "   core type: ExprTuple\n",
       "   sub-expressions: 6, 7\n",
       "6. d\n",
       "   core type: Variable\n",
       "   sub-expressions: \n",
       "7. Integers\n",
       "   core type: Literal\n",
       "   sub-expressions: "
      ]
     },
     "execution_count": 4,
     "metadata": {},
     "output_type": "execute_result"
    }
   ],
   "source": [
    "# display the expression information\n",
    "expr.exprInfo()"
   ]
  },
  {
   "cell_type": "code",
   "execution_count": null,
   "metadata": {},
   "outputs": [],
   "source": []
  }
 ],
 "metadata": {
  "kernelspec": {
   "display_name": "Python 3",
   "language": "python",
   "name": "python3"
  }
 },
 "nbformat": 4,
 "nbformat_minor": 0
}
