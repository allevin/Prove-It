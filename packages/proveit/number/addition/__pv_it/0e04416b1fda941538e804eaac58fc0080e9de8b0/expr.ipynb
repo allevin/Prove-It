{
 "cells": [
  {
   "cell_type": "markdown",
   "metadata": {},
   "source": [
    "Expression of type <a class=\"ProveItLink\" href=\"../../../../../../doc/html/api/proveit.ExprTuple.html\">ExprTuple</a>\n",
    "=======================\n",
    "# from context <a class=\"ProveItLink\" href=\"../../_context_.ipynb\">proveit.number.addition</a>"
   ]
  },
  {
   "cell_type": "code",
   "execution_count": 1,
   "metadata": {},
   "outputs": [],
   "source": [
    "# import Expression classes needed to build the expression\n",
    "from proveit import ExprTuple\n",
    "from proveit._common_ import b, c"
   ]
  },
  {
   "cell_type": "code",
   "execution_count": 2,
   "metadata": {},
   "outputs": [
    {
     "data": {
      "text/html": [
       "<strong id=\"expr\">expr:</strong> <a class=\"ProveItLink\" href=\"expr.ipynb\"><img src=\"data:image/png;base64,iVBORw0KGgoAAAANSUhEUgAAAF4AAAAVBAMAAAA9Y0TyAAAAMFBMVEX////c3NwiIiJERESqqqqY\n",
       "mJh2dnZmZmYQEBDu7u4yMjJUVFTMzMyIiIi6uroAAAAs73DqAAAAAXRSTlMAQObYZgAAAVRJREFU\n",
       "KM+Vkz1IA0EQhT9/8k9y9hba2abQPrWNV1sFC23TmEIFRSSdklJMERsLESSCgk0gpZDCdCISiFZi\n",
       "E0VFAiLObE6EGzDxYPfefTMsbx578N8n0xq6NdKRrUnicjpUsITKtmwbso4hWQtXLeFEMaTFjpcL\n",
       "Fy3hTQ3liZehWw4XLcn01OcWT/JaModZEnUTzVJUa+2LYM7ldqNv1pBk/c6HFY6EveL14VUn6Y6x\n",
       "hGqWT5hnD8Z7xPOubZcxX4UlLJQpwSNfEDvEKyhLPQdmLWENPuBa+0cLdN0hXjYoWsIMmXft33Fh\n",
       "b7r8plq/8YeIxB/rqZ85dLQSCW2TM30nDJFhdaJFSYhULlajKjGkCkQbThjCOetong8SQn0V9l/k\n",
       "s9i+dcISKjc60CnxicDgPYOF3IdIPtA+g0W05e7z0P0Hsib7Mv3D/hCcyRoZ/n9MN/gG+Zlxfll0\n",
       "bSoAAAAASUVORK5CYII=\n",
       "\" style=\"display:inline;vertical-align:middle;\" /></a><br>"
      ],
      "text/plain": [
       "expr: (b , c , b , c , b)"
      ]
     },
     "execution_count": 2,
     "metadata": {},
     "output_type": "execute_result"
    }
   ],
   "source": [
    "# build up the expression from sub-expressions\n",
    "expr = ExprTuple(b, c, b, c, b)"
   ]
  },
  {
   "cell_type": "code",
   "execution_count": 3,
   "metadata": {},
   "outputs": [
    {
     "name": "stdout",
     "output_type": "stream",
     "text": [
      "Passed sanity check: built 'expr' is the same as the stored Expression.\n"
     ]
    }
   ],
   "source": [
    "# check that the built expression is the same as the stored expression\n",
    "%check_expr"
   ]
  },
  {
   "cell_type": "code",
   "execution_count": 4,
   "metadata": {},
   "outputs": [
    {
     "data": {
      "text/html": [
       "<table><tr><th>&nbsp;</th><th>core type</th><th>sub-expressions</th><th>expression</th></tr>\n",
       "<tr><td>0</td><td>ExprTuple</td><td>2, 1, 2, 1, 2</td><td><a class=\"ProveItLink\" href=\"expr.ipynb\"><img src=\"data:image/png;base64,iVBORw0KGgoAAAANSUhEUgAAAF4AAAAVBAMAAAA9Y0TyAAAAMFBMVEX////c3NwiIiJERESqqqqY\n",
       "mJh2dnZmZmYQEBDu7u4yMjJUVFTMzMyIiIi6uroAAAAs73DqAAAAAXRSTlMAQObYZgAAAVRJREFU\n",
       "KM+Vkz1IA0EQhT9/8k9y9hba2abQPrWNV1sFC23TmEIFRSSdklJMERsLESSCgk0gpZDCdCISiFZi\n",
       "E0VFAiLObE6EGzDxYPfefTMsbx578N8n0xq6NdKRrUnicjpUsITKtmwbso4hWQtXLeFEMaTFjpcL\n",
       "Fy3hTQ3liZehWw4XLcn01OcWT/JaModZEnUTzVJUa+2LYM7ldqNv1pBk/c6HFY6EveL14VUn6Y6x\n",
       "hGqWT5hnD8Z7xPOubZcxX4UlLJQpwSNfEDvEKyhLPQdmLWENPuBa+0cLdN0hXjYoWsIMmXft33Fh\n",
       "b7r8plq/8YeIxB/rqZ85dLQSCW2TM30nDJFhdaJFSYhULlajKjGkCkQbThjCOetong8SQn0V9l/k\n",
       "s9i+dcISKjc60CnxicDgPYOF3IdIPtA+g0W05e7z0P0Hsib7Mv3D/hCcyRoZ/n9MN/gG+Zlxfll0\n",
       "bSoAAAAASUVORK5CYII=\n",
       "\" style=\"display:inline;vertical-align:middle;\" /></a></td></tr>\n",
       "<tr><td>1</td><td>Variable</td><td></td><td><a class=\"ProveItLink\" href=\"../../../../__pv_it/cbdfda466482236edba0ce44ac7ef39cda0af7a40/expr.ipynb\"><img src=\"data:image/png;base64,iVBORw0KGgoAAAANSUhEUgAAAAkAAAAJBAMAAAASvxsjAAAALVBMVEX///9mZmbc3NxUVFSYmJhE\n",
       "REQiIiIyMjK6uroQEBDMzMyIiIh2dnbu7u4AAABgFDGoAAAAAXRSTlMAQObYZgAAADZJREFUCNdj\n",
       "YOA9s3sBA8PKBvYEBt7ZDKwODMwPGICALwBE6m0Asx0YGIDiAgw8QJUyu/cyAAAmuwmycZ8WfQAA\n",
       "AABJRU5ErkJggg==\n",
       "\" style=\"display:inline;vertical-align:middle;\" /></a></td></tr>\n",
       "<tr><td>2</td><td>Variable</td><td></td><td><a class=\"ProveItLink\" href=\"../../../../__pv_it/6840a4fa6c106149dc16a131294d0c5e44f1b0480/expr.ipynb\"><img src=\"data:image/png;base64,iVBORw0KGgoAAAANSUhEUgAAAAkAAAAOBAMAAAAPuiubAAAALVBMVEX///9mZmbMzMxERESYmJiI\n",
       "iIh2dna6urqqqqoyMjIiIiIQEBBUVFTu7u4AAAD9S1JeAAAAAXRSTlMAQObYZgAAAE1JREFUCNdj\n",
       "4D29gAEIOA+ASL4GEFl3AURmgQiGOaFHGBh4HzPwKTBwvGXgTmBgnMDAJ8DAJcBQ5wBSLncBJLWN\n",
       "gYGngRFoBO9REQYGAGrcDtUkVqASAAAAAElFTkSuQmCC\n",
       "\" style=\"display:inline;vertical-align:middle;\" /></a></td></tr>\n",
       "</table>\n"
      ],
      "text/plain": [
       "0. (b , c , b , c , b)\n",
       "   core type: ExprTuple\n",
       "   sub-expressions: 2, 1, 2, 1, 2\n",
       "1. c\n",
       "   core type: Variable\n",
       "   sub-expressions: \n",
       "2. b\n",
       "   core type: Variable\n",
       "   sub-expressions: "
      ]
     },
     "execution_count": 4,
     "metadata": {},
     "output_type": "execute_result"
    }
   ],
   "source": [
    "# display the expression information\n",
    "expr.exprInfo()"
   ]
  },
  {
   "cell_type": "code",
   "execution_count": null,
   "metadata": {},
   "outputs": [],
   "source": []
  }
 ],
 "metadata": {
  "kernelspec": {
   "display_name": "Python 3",
   "language": "python",
   "name": "python3"
  }
 },
 "nbformat": 4,
 "nbformat_minor": 0
}
