{
 "cells": [
  {
   "cell_type": "markdown",
   "metadata": {},
   "source": [
    "Expression of type <a class=\"ProveItLink\" href=\"../../../../../../doc/html/api/proveit.Lambda.html\">Lambda</a>\n",
    "=======================\n",
    "# from context <a class=\"ProveItLink\" href=\"../../_context_.ipynb\">proveit.number.addition</a>"
   ]
  },
  {
   "cell_type": "code",
   "execution_count": 1,
   "metadata": {},
   "outputs": [],
   "source": [
    "# import Expression classes needed to build the expression\n",
    "from proveit import Lambda\n",
    "from proveit._common_ import x\n",
    "from proveit.logic import Equals, InSet\n",
    "from proveit.number import Complexes, Mult, zero"
   ]
  },
  {
   "cell_type": "code",
   "execution_count": 2,
   "metadata": {},
   "outputs": [
    {
     "data": {
      "text/html": [
       "<strong id=\"expr\">expr:</strong> <a class=\"ProveItLink\" href=\"expr.ipynb\"><img src=\"data:image/png;base64,iVBORw0KGgoAAAANSUhEUgAAAOMAAAAVCAMAAACDm6l6AAAANlBMVEX///+6uroUFBQNDQ0yMjJE\n",
       "RETMzMwQEBAiIiKYmJju7u5mZmaqqqpUVFSIiIh2dnbc3NwAAACltDI1AAAAAXRSTlMAQObYZgAA\n",
       "AmRJREFUWMPVV9uu4yAMhF2u5v7/P7tJ2yR2TEM4Paq0PMStNBk8xtiOEP/BivXLG8pM7Xh5OUHf\n",
       "Axf5XYkmYQsh52BG74wRiKgD/pHG7JRq1ukw/6oCbN2yO7ihBDWkRUTqNzQa2VbG0nKaj07GNrvH\n",
       "cyjBl2HQDyIOntfoRfLPq9zmNVrA1j0IZBvVBLCjY0REHDzUCFm5Ze2x9iA2kjCtUSpi2yPZTYuj\n",
       "9/QAQYgYeKTRKA+0AIiadvnrs5acaswh929PxDuGgm1t5elap8RS1nJ98ykRAxONzF1RNZwLmJAk\n",
       "4WH5550X1u2JQ99IiEF5bHfX+HU7scYjbkGhlU4aywnMNXJ3hT5fFVNE9IRgvextYTZvNEI6OKzE\n",
       "lmkEeMMq7b1zLF0w1sjdBS24Rkk0rm4lAvv7x5Fl277H9qvJXq5Cc29YTZvIVQYm58jclXZzVB2q\n",
       "DUstSy7U6RxFOragGvdS4bfyqd+wDjRSokuN3F2Tek08sTCaV4R6GgNKdxuJfZb82O8dmBWlX8Ap\n",
       "oknveBFd5ip3F1yvHyd88L4+8lvkNxoNDpr2xD5bd3GdJkxZvbozA7yI/FXN4e5u7Z70Kr+P1Q6W\n",
       "2Hmhl8DVQwrtBKQub2V9sy6uGcpnuTNrGU2NmOiqd3TcXQ6S98+U9BIFkHrtK6BzgVKyvzcDOGoh\n",
       "LN2qM66eWdVwUkFEDIw0dt2tig/yJrjWbPrJNG8rtffWcJa7Bo/n1ZgUnuU+W9vAPJyyqZP5I/C3\n",
       "vx/pt9XNk5kJMPzKt9VHaxt268Q8n2YSuwP+tsa9otXb+ZfNBH0PnD/T+A+8mxw12ql7AAAAAABJ\n",
       "RU5ErkJggg==\n",
       "\" style=\"display:inline;vertical-align:middle;\" /></a><br>"
      ],
      "text/plain": [
       "expr: x -> ((0 * x) = 0) | x in Complexes"
      ]
     },
     "execution_count": 2,
     "metadata": {},
     "output_type": "execute_result"
    }
   ],
   "source": [
    "# build up the expression from sub-expressions\n",
    "expr = Lambda(x, Equals(Mult(zero, x), zero), conditions = [InSet(x, Complexes)])"
   ]
  },
  {
   "cell_type": "code",
   "execution_count": 3,
   "metadata": {},
   "outputs": [
    {
     "name": "stdout",
     "output_type": "stream",
     "text": [
      "Passed sanity check: built 'expr' is the same as the stored Expression.\n"
     ]
    }
   ],
   "source": [
    "# check that the built expression is the same as the stored expression\n",
    "%check_expr"
   ]
  },
  {
   "cell_type": "code",
   "execution_count": 4,
   "metadata": {},
   "outputs": [
    {
     "data": {
      "text/html": [
       "<table><tr><th>&nbsp;</th><th>core type</th><th>sub-expressions</th><th>expression</th></tr>\n",
       "<tr><td>0</td><td>Lambda</td><td>parameter:&nbsp;13<br>body:&nbsp;1<br>conditions:&nbsp;2<br></td><td><a class=\"ProveItLink\" href=\"expr.ipynb\"><img src=\"data:image/png;base64,iVBORw0KGgoAAAANSUhEUgAAAOMAAAAVCAMAAACDm6l6AAAANlBMVEX///+6uroUFBQNDQ0yMjJE\n",
       "RETMzMwQEBAiIiKYmJju7u5mZmaqqqpUVFSIiIh2dnbc3NwAAACltDI1AAAAAXRSTlMAQObYZgAA\n",
       "AmRJREFUWMPVV9uu4yAMhF2u5v7/P7tJ2yR2TEM4Paq0PMStNBk8xtiOEP/BivXLG8pM7Xh5OUHf\n",
       "Axf5XYkmYQsh52BG74wRiKgD/pHG7JRq1ukw/6oCbN2yO7ihBDWkRUTqNzQa2VbG0nKaj07GNrvH\n",
       "cyjBl2HQDyIOntfoRfLPq9zmNVrA1j0IZBvVBLCjY0REHDzUCFm5Ze2x9iA2kjCtUSpi2yPZTYuj\n",
       "9/QAQYgYeKTRKA+0AIiadvnrs5acaswh929PxDuGgm1t5elap8RS1nJ98ykRAxONzF1RNZwLmJAk\n",
       "4WH5550X1u2JQ99IiEF5bHfX+HU7scYjbkGhlU4aywnMNXJ3hT5fFVNE9IRgvextYTZvNEI6OKzE\n",
       "lmkEeMMq7b1zLF0w1sjdBS24Rkk0rm4lAvv7x5Fl277H9qvJXq5Cc29YTZvIVQYm58jclXZzVB2q\n",
       "DUstSy7U6RxFOragGvdS4bfyqd+wDjRSokuN3F2Tek08sTCaV4R6GgNKdxuJfZb82O8dmBWlX8Ap\n",
       "oknveBFd5ip3F1yvHyd88L4+8lvkNxoNDpr2xD5bd3GdJkxZvbozA7yI/FXN4e5u7Z70Kr+P1Q6W\n",
       "2Hmhl8DVQwrtBKQub2V9sy6uGcpnuTNrGU2NmOiqd3TcXQ6S98+U9BIFkHrtK6BzgVKyvzcDOGoh\n",
       "LN2qM66eWdVwUkFEDIw0dt2tig/yJrjWbPrJNG8rtffWcJa7Bo/n1ZgUnuU+W9vAPJyyqZP5I/C3\n",
       "vx/pt9XNk5kJMPzKt9VHaxt268Q8n2YSuwP+tsa9otXb+ZfNBH0PnD/T+A+8mxw12ql7AAAAAABJ\n",
       "RU5ErkJggg==\n",
       "\" style=\"display:inline;vertical-align:middle;\" /></a></td></tr>\n",
       "<tr><td>1</td><td>Operation</td><td>operator:&nbsp;3<br>operands:&nbsp;4<br></td><td><a class=\"ProveItLink\" href=\"../d1d0ef136d0e22e3d5c07f2dd00551a4f2d6ac560/expr.ipynb\"><img src=\"data:image/png;base64,iVBORw0KGgoAAAANSUhEUgAAAFkAAAAVBAMAAADfv1+LAAAAMFBMVEX////c3NwiIiJERESqqqqY\n",
       "mJh2dnZmZmYQEBDu7u4yMjJUVFTMzMyIiIi6uroAAAAs73DqAAAAAXRSTlMAQObYZgAAAVtJREFU\n",
       "KM+Vk70vQ1EYh5/bD3rprbsbNNiIWIyS/gFEGYxyYyCGJo2hg2jSiBFpDNpNF0NZiNVgN7iRiPiK\n",
       "xmhRidZC45zW1Tg9d/AO5578fk9O3q8L/4uYqxEX/OgLKDyuK2L3uYqZ2RuplWGMXdUtqXSgYo6C\n",
       "5WLFsVR3XqWv4A4ieQLHxN4Us6jSI/Bq8wJ9aaLvihlMKMIHXCbIwIBD9MtTjdTJdBa60n9hoy5o\n",
       "l4MWXffkPeaSGxBqFrJ2KOPIox122rSZF4fDE1NiCjnN2w6Ndib7cXHkOZVutKrNpNGqsib7MN40\n",
       "tnV0s8okm8gOhtodND4xvUxWB2UM/XRwxmYCOZ2uuAfPWlVuIVzqnM4iLIvbMEVv8qFaMGe4nR0k\n",
       "kDC34FncCqmz3+WZXFm6Ft+eirpVmXvxYsTWbmZRv7BhRyunfPa7rBPNkg/drxN7bR/a0P1pD3r2\n",
       "G7j3WwDJiCtpAAAAAElFTkSuQmCC\n",
       "\" style=\"display:inline;vertical-align:middle;\" /></a></td></tr>\n",
       "<tr><td>2</td><td>ExprTuple</td><td>5</td><td><a class=\"ProveItLink\" href=\"../5a8e6198b288b6e9759455d9bc8dcc166fdfb4880/expr.ipynb\"><img src=\"data:image/png;base64,iVBORw0KGgoAAAANSUhEUgAAAEAAAAAVBAMAAAAEBPWpAAAAMFBMVEX////c3NwiIiJERESqqqqY\n",
       "mJh2dnZmZmYQEBDu7u4yMjJUVFTMzMyIiIi6uroAAAAs73DqAAAAAXRSTlMAQObYZgAAATVJREFU\n",
       "KM9jYCAI+C7glmN9ACROY5e7tOqHcgFDDZC1Eqv8uX8M0/5uYOBiYODFagMrdwADg/8GBtYEBo4J\n",
       "SOKct5SUFoAYkRxAgn0DA2cDwytkjacioYwCaZByoOEmDGVAlthtkesgmxgtYSYVPIOy0hmWArkJ\n",
       "rKocCkAeswBUmCfBFcryYuhjYGBj4P3AcgDIm8wAV/AUynrB8A9oAgO3AYSnpARxJKfBMaiC8yAF\n",
       "DAwcEL8iwmwlN1xBC4iSP8AA8u0kuIIwsIIJICtMgaEicJ+BF6QAFDoQwBwHNJNPk4EhCugPBv8A\n",
       "CwZZsO/04Ebstp0wz3gCyJuPgI6/Ni0XoleqBu6Pov/doKhcx8AhgByU3osgQQ0P+wZQdOABbBdw\n",
       "RTcUzAJiaXwKNoJiCE+S4z3AAAC65Ec0MB1m6wAAAABJRU5ErkJggg==\n",
       "\" style=\"display:inline;vertical-align:middle;\" /></a></td></tr>\n",
       "<tr><td>3</td><td>Literal</td><td></td><td><a class=\"ProveItLink\" href=\"../../../../logic/equality/__pv_it/2fb26078095930560931daa0500ce419a39ea6cd0/expr.ipynb\"><img src=\"data:image/png;base64,iVBORw0KGgoAAAANSUhEUgAAAA4AAAAFBAMAAACHocAhAAAAFVBMVEX///9EREQiIiJUVFQyMjJm\n",
       "ZmYAAADubVkoAAAAAXRSTlMAQObYZgAAABRJREFUCNdjCHEBAWcGXCBICQQUAUpuAwlgGKrkAAAA\n",
       "AElFTkSuQmCC\n",
       "\" style=\"display:inline;vertical-align:middle;\" /></a></td></tr>\n",
       "<tr><td>4</td><td>ExprTuple</td><td>6, 12</td><td><a class=\"ProveItLink\" href=\"../6218990bf776c1d929cf18f722d73b92d850f80d0/expr.ipynb\"><img src=\"data:image/png;base64,iVBORw0KGgoAAAANSUhEUgAAAEUAAAAVBAMAAADiLT7tAAAAMFBMVEX////c3NwiIiJERESqqqqY\n",
       "mJh2dnZmZmYQEBDu7u4yMjJUVFTMzMyIiIi6uroAAAAs73DqAAAAAXRSTlMAQObYZgAAAU9JREFU\n",
       "KM+NkiFPw0AUx38b6+ixdVQQDCGbAAUhGBLkvsGqkKTBoJZMTUGCQBJoIGFz1CBwfABEPYIGwRIG\n",
       "YUFiGASGgnC3stvEZaHicvfe7/re/94f/vMV4rHpTbVcQ+Nxx5QWu62IyUjuLmCF48jApDtiGUJw\n",
       "YpwSTmhgbuEeNsAOSF9SeDMwS/Dq0oQXmK6R/zAwX3BTZqJMHYo++W+dmW3PtPpSUz3JxGRrnCdM\n",
       "T4vxrUW7pBmfTMjhkBGBXLI43Uw0whT2+BnWOlPXBbnV5I9/tfJdxaieP2WwmSTteKRnTzH7KO2Z\n",
       "Ee3FiGCgveKqWmuoN8yWBoTlPuEEfUq+4ZYMhGzLwwJNPYuKt8484l3NoiwOUNqf5aFRvdKVTu5O\n",
       "qx7iyJXt19vy6lQH2zU7RoflLCzfyFh6V028MY4RyhFzRkabM6eKpsZ79QF+AUokVw0bKHpvAAAA\n",
       "AElFTkSuQmCC\n",
       "\" style=\"display:inline;vertical-align:middle;\" /></a></td></tr>\n",
       "<tr><td>5</td><td>Operation</td><td>operator:&nbsp;7<br>operands:&nbsp;8<br></td><td><a class=\"ProveItLink\" href=\"../a1ab8e6c14fa7d97c10d512393343c354ee536080/expr.ipynb\"><img src=\"data:image/png;base64,iVBORw0KGgoAAAANSUhEUgAAADQAAAAPBAMAAABZ6/G2AAAAMFBMVEX///+6uroyMjJERETMzMwQ\n",
       "EBAiIiKYmJju7u5mZmaqqqpUVFSIiIh2dnbc3NwAAAAWgogoAAAAAXRSTlMAQObYZgAAAMxJREFU\n",
       "GNNjYMAGjil9TZ6AVcbxI0Pvnw3YZNi5CxgY1iNLcRxKS1MAMSpYgQQnspRTBZQx4TVI4QEGhren\n",
       "X50EUgx8FjDdE2ShjAvs6awJQAbzA6gUy4XlEAYvA88HLgcgo5kBLiUO1cXAbQBmiKalQZzBYeAL\n",
       "U8V6AEx5w92jwQ1jvXdgaABSbXCpWrBUAwP7g/MMPCApkD8hgLkQaA5jBsP6AlOGN2BLE+Hadts0\n",
       "NBo3MDSf7b0DUf9oCtyN0/5HC6CE3Wo1SEBBAQCOCzKzGibs5AAAAABJRU5ErkJggg==\n",
       "\" style=\"display:inline;vertical-align:middle;\" /></a></td></tr>\n",
       "<tr><td>6</td><td>Operation</td><td>operator:&nbsp;9<br>operands:&nbsp;10<br></td><td><a class=\"ProveItLink\" href=\"../5bea483a26e89428fa16779811379be93f18462e0/expr.ipynb\"><img src=\"data:image/png;base64,iVBORw0KGgoAAAANSUhEUgAAACQAAAAOBAMAAAC1GaP7AAAAMFBMVEX///9EREQQEBCYmJh2dnaq\n",
       "qqrc3NxUVFQyMjK6uroiIiLMzMyIiIhmZmbu7u4AAADSWfX9AAAAAXRSTlMAQObYZgAAAI9JREFU\n",
       "GNNjYHh75jYDGljJ8GoDqgjPAgaeBlQhrgIGzm+oQvwXGLi/ogrlOzBw/4Fx2HzKYu6Ahb7AhJ4w\n",
       "WBlowYX4HgAJB4bzDNFwje8XAIkHDIVQ4z8D6UcCYK06EEewIhzB9puBD+RUlgUwETOeDwznGBiW\n",
       "MjyCeYj1M6MC2wEGhrc+1TBFfDJ+LocZADLRKPg/NeCkAAAAAElFTkSuQmCC\n",
       "\" style=\"display:inline;vertical-align:middle;\" /></a></td></tr>\n",
       "<tr><td>7</td><td>Literal</td><td></td><td><a class=\"ProveItLink\" href=\"../../../../logic/set_theory/membership/__pv_it/088cbc857536a28d4119ad9639a84270ccb0545d0/expr.ipynb\"><img src=\"data:image/png;base64,iVBORw0KGgoAAAANSUhEUgAAAAwAAAAMBAMAAACkW0HUAAAALVBMVEX///+qqqpmZmZUVFQQEBC6\n",
       "urpERETc3NyYmJjMzMwiIiIyMjKIiIju7u4AAACYsrA9AAAAAXRSTlMAQObYZgAAADxJREFUCNdj\n",
       "YOA9vWrVBgaG2b0MQMCeCyIZ2ArA1DUwyRCyahVIyWQI7xaEYm4AU7xLIdxqTQgtvGvVBgCkcQ7e\n",
       "geM/tQAAAABJRU5ErkJggg==\n",
       "\" style=\"display:inline;vertical-align:middle;\" /></a></td></tr>\n",
       "<tr><td>8</td><td>ExprTuple</td><td>13, 11</td><td><a class=\"ProveItLink\" href=\"../825ea3ea1d551796a2a192c7dc817a686bc4aae80/expr.ipynb\"><img src=\"data:image/png;base64,iVBORw0KGgoAAAANSUhEUgAAADAAAAAVBAMAAADyTXAxAAAAMFBMVEX////c3NwiIiJERESqqqqY\n",
       "mJh2dnZmZmYQEBDu7u4yMjJUVFTMzMyIiIi6uroAAAAs73DqAAAAAXRSTlMAQObYZgAAARdJREFU\n",
       "KM9jYMAJ+C5girE+ABKnUcUurfqhXMBQA2StRBE/949h2t8NDFwMDLwoJrFyBzAw+G9gYE1g4JiA\n",
       "LBHJASTYNzBwNjC8QjGpQBpIcAINMWEoA7LEbotcB5vIWfAMqiKdYSmQm8CqyqEA4vIkuEIlvBj6\n",
       "GBjYGHg/sByASDyFSrxg+AfUwcBtAOFyGhyDSpwHSTAwcMDcvJIbLtECouQPMEBcHQaWmAAyyhTo\n",
       "K4H7DLwTwFLMcUC9fJoMDFFAdzH4B1gwyDJwfgIp3m07YZ7xBJBzHzEwTL42LTeAgbNfAOSuov/d\n",
       "oKBdx8AhAA9/AUQIAIMEGFywAEQKGrYLSMGOLDELiKVhHOTw3wjEjFiilvcAAwBMvUBRXVWnZwAA\n",
       "AABJRU5ErkJggg==\n",
       "\" style=\"display:inline;vertical-align:middle;\" /></a></td></tr>\n",
       "<tr><td>9</td><td>Literal</td><td></td><td><a class=\"ProveItLink\" href=\"../../../multiplication/__pv_it/21fd2079611555ecce512d99547a00d551e6b86b0/expr.ipynb\"><img src=\"data:image/png;base64,iVBORw0KGgoAAAANSUhEUgAAAAMAAAADBAMAAACkBqiMAAAAElBMVEX///9EREQQEBAiIiLu7u4A\n",
       "AABGBidwAAAAAXRSTlMAQObYZgAAABFJREFUCNdjYHFgcDVgcBIAAASWAQx4jI0xAAAAAElFTkSu\n",
       "QmCC\n",
       "\" style=\"display:inline;vertical-align:middle;\" /></a></td></tr>\n",
       "<tr><td>10</td><td>ExprTuple</td><td>12, 13</td><td><a class=\"ProveItLink\" href=\"../f6a2be2f6af2edb5f2690181669c831f8bf0db2c0/expr.ipynb\"><img src=\"data:image/png;base64,iVBORw0KGgoAAAANSUhEUgAAACwAAAAVBAMAAADP3xFXAAAAMFBMVEX////c3NwiIiJERESqqqqY\n",
       "mJh2dnZmZmYQEBDu7u4yMjJUVFTMzMyIiIi6uroAAAAs73DqAAAAAXRSTlMAQObYZgAAAQNJREFU\n",
       "GNNjYMAB+C6gi7A+ABKnGRim361BEQfxVjIw6DFMOoAszMXAwHuBgVeBgXcBiikJDBwTGJg2MPB9\n",
       "RBbmbGB4xcDAX8DA8wXFcBOGMgYG+QQGnr8QvthtketAl6UzLIUIf4PoTmBV5VBgYPBi6EMWZmPg\n",
       "/cACdNQLhn/IhnAycBuA6PMgYZCVX6GWcVyACLcwgBzIAnOg/AGGCSBDTBlA3mFTAPEYWAXuM/AC\n",
       "GVFAtzAwqDDMOMD5CcjwD7BgkGUAOfARkJyeu4eBs1+AgWHytWm5AUCBdQwcArAAFkD2PDBYoOGD\n",
       "8DvbBXDAogvPAmJpKBspkjYCMSNGpPEeYAAAkIc8ZGiP5oAAAAAASUVORK5CYII=\n",
       "\" style=\"display:inline;vertical-align:middle;\" /></a></td></tr>\n",
       "<tr><td>11</td><td>Literal</td><td></td><td><a class=\"ProveItLink\" href=\"../../../sets/complex/__pv_it/c357845f93a5a2d9f649129d299e7ec28dda4b960/expr.ipynb\"><img src=\"data:image/png;base64,iVBORw0KGgoAAAANSUhEUgAAAA8AAAAOBAMAAAACpFvcAAAAMFBMVEX////c3NyqqqqYmJhUVFR2\n",
       "dnbu7u66urrMzMxmZmZEREQQEBAyMjIiIiKIiIgAAAB7fvZ0AAAAAXRSTlMAQObYZgAAAGVJREFU\n",
       "CNdjYGDgu3N+70oGBgaO+gK2+CdAhoEzAwPTFwYG5oQNQN4UBgZORgcgI4+BIZM9gAEMWpkMoAx2\n",
       "KCOLAyrFk+AAYTAHgBhsQLy4DkjUJjAwsHg9Y6taBpLsvP/bnYEBACkBFGQfBv8RAAAAAElFTkSu\n",
       "QmCC\n",
       "\" style=\"display:inline;vertical-align:middle;\" /></a></td></tr>\n",
       "<tr><td>12</td><td>Literal</td><td></td><td><a class=\"ProveItLink\" href=\"../../../numeral/__pv_it/ec23fc7a1b4222a5f4948b495002b97d6fa18c3c0/expr.ipynb\"><img src=\"data:image/png;base64,iVBORw0KGgoAAAANSUhEUgAAAAoAAAAOBAMAAADkjZCYAAAALVBMVEX///8QEBCYmJh2dnaqqqrc\n",
       "3NxUVFQyMjK6uroiIiLMzMyIiIhmZmbu7u4AAAAZjyHdAAAAAXRSTlMAQObYZgAAAEpJREFUCNdj\n",
       "YLiz+xQDA8MMhpsLGLgnMHAXMHAmMHA8ZeA7wMD1hCHOgIHrNZh8jES+Bss+AqlkeQrSxTyBgWEK\n",
       "w8UFDAx3rLMYAMCjFldHSx/9AAAAAElFTkSuQmCC\n",
       "\" style=\"display:inline;vertical-align:middle;\" /></a></td></tr>\n",
       "<tr><td>13</td><td>Variable</td><td></td><td><a class=\"ProveItLink\" href=\"../../../../__pv_it/530be409e3083890784cf1d7b28c9e67e90af9360/expr.ipynb\"><img src=\"data:image/png;base64,iVBORw0KGgoAAAANSUhEUgAAAAsAAAAJBAMAAAAWSsseAAAAKlBMVEX///9ERETMzMwQEBAiIiKY\n",
       "mJju7u5mZmaqqqpUVFSIiIh2dnbc3NwAAAA/vyDhAAAAAXRSTlMAQObYZgAAAENJREFUCNdjYDi9\n",
       "8sTyBQxsG1hdmR0YuBm4LnAoMLAxcAowgADzAjB1VoEhgYH1wFoGrgSG3gBhhlMMDImrs3cFMAAA\n",
       "t0YN+iTRa+sAAAAASUVORK5CYII=\n",
       "\" style=\"display:inline;vertical-align:middle;\" /></a></td></tr>\n",
       "</table>\n"
      ],
      "text/plain": [
       "0. x -> ((0 * x) = 0) | x in Complexes\n",
       "   core type: Lambda\n",
       "   parameter: 13\n",
       "   body: 1\n",
       "   conditions: 2\\n1. (0 * x) = 0\n",
       "   core type: Operation\n",
       "   operator: 3\n",
       "   operands: 4\n",
       "2. (x in Complexes)\n",
       "   core type: ExprTuple\n",
       "   sub-expressions: 5\n",
       "3. =\n",
       "   core type: Literal\n",
       "   sub-expressions: \n",
       "4. (0 * x , 0)\n",
       "   core type: ExprTuple\n",
       "   sub-expressions: 6, 12\n",
       "5. x in Complexes\n",
       "   core type: Operation\n",
       "   operator: 7\n",
       "   operands: 8\n",
       "6. 0 * x\n",
       "   core type: Operation\n",
       "   operator: 9\n",
       "   operands: 10\n",
       "7. in\n",
       "   core type: Literal\n",
       "   sub-expressions: \n",
       "8. (x , Complexes)\n",
       "   core type: ExprTuple\n",
       "   sub-expressions: 13, 11\n",
       "9. *\n",
       "   core type: Literal\n",
       "   sub-expressions: \n",
       "10. (0 , x)\n",
       "    core type: ExprTuple\n",
       "    sub-expressions: 12, 13\n",
       "11. Complexes\n",
       "    core type: Literal\n",
       "    sub-expressions: \n",
       "12. 0\n",
       "    core type: Literal\n",
       "    sub-expressions: \n",
       "13. x\n",
       "    core type: Variable\n",
       "    sub-expressions: "
      ]
     },
     "execution_count": 4,
     "metadata": {},
     "output_type": "execute_result"
    }
   ],
   "source": [
    "# display the expression information\n",
    "expr.exprInfo()"
   ]
  },
  {
   "cell_type": "code",
   "execution_count": null,
   "metadata": {},
   "outputs": [],
   "source": []
  }
 ],
 "metadata": {
  "kernelspec": {
   "display_name": "Python 3",
   "language": "python",
   "name": "python3"
  }
 },
 "nbformat": 4,
 "nbformat_minor": 0
}
