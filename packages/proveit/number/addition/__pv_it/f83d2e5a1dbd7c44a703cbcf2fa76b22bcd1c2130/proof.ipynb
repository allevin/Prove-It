{
 "cells": [
  {
   "cell_type": "markdown",
   "metadata": {},
   "source": [
    "Show the Proof\n",
    "========"
   ]
  },
  {
   "cell_type": "code",
   "execution_count": 1,
   "metadata": {},
   "outputs": [
    {
     "data": {
      "text/html": [
       "<table><tr><th>&nbsp;</th><th>step type</th><th>requirements</th><th>statement</th></tr>\n",
       "<tr><td>0</td><td>assumption</td><td></td><td><span style=\"font-size:20px;\"><a class=\"ProveItLink\" href=\"../b462693897d9d180f3d895d59608e2d06507cb2a0/expr.ipynb\"><img src=\"data:image/png;base64,iVBORw0KGgoAAAANSUhEUgAAAEUAAAAVBAMAAADiLT7tAAAAMFBMVEX////c3NxERESqqqpUVFS6\n",
       "urrMzMwyMjIQEBCIiIh2dnYiIiLu7u5mZmaYmJgAAABXZE4RAAAAAXRSTlMAQObYZgAAAS5JREFU\n",
       "KM9jYGDgu8eAE7CtEgBRPLsY8AC2ZhDJ+QHMCepFluKrV/peUQliXQcRXA0Q4c8o+pkYHdiUC4GM\n",
       "FUhqWP+gqbnAoCOEpoZrA5g6Wb17O0zNMiY0NewXwE6sO4AwB02NyKx4AxBH6ACSXT5wu3gLgI5p\n",
       "ZNAHyyoiuYd1H8jN70G8jAAGBvkHED/yKCDUdO8uhrkhpQ3I8GdgAIcka/fu3TA3X72gA1at/oCB\n",
       "ISKBgeETA89XsJMdkOy6mgJicC8AEiwFDIw/GZg/8IDs2oCkhv3kA5h7gAHD8xmo0gzE8UNSw+bg\n",
       "huz3OgbrCyAzGU4HIPl9MZMAkhqRmWGaYFnG2gRYnH5KYFf/jBrOUMDsDvEXHGBRgwHAavjwq4GE\n",
       "7U686bAV4r7FBNIzAIAaVmhcn2uLAAAAAElFTkSuQmCC\n",
       "\" style=\"display:inline;vertical-align:middle;\" /></a> <a class=\"ProveItLink\" href=\"proof.ipynb\" style=\"text-decoration: none\">&#x22A2;&nbsp;</a><a class=\"ProveItLink\" href=\"../714f20798ff0fb8b803aa839e922edd909d0aae10/expr.ipynb\"><img src=\"data:image/png;base64,iVBORw0KGgoAAAANSUhEUgAAADMAAAAPBAMAAAC7N+rPAAAAMFBMVEX////MzMyYmJiIiIhUVFTc\n",
       "3NwyMjIiIiJ2dnbu7u6qqqpmZmYQEBBERES6uroAAABkyy6XAAAAAXRSTlMAQObYZgAAANZJREFU\n",
       "GNNjYGBg4LuzgQEJqP29n3bMAMrhX4AsxXAhhEF2WQCE/X4CqlQ0A+/UCxB2O5jkNCsvT4BKcQhA\n",
       "pbLBpJgmQhdEitW57xdIgPUmkoEsYAPfBPD+BAnwBiBJPVcD8lg/MXCDbZiLcEZMeRnIzSwfGNgb\n",
       "QAJvysvhznjNC3Iz/wWG+Q9AAiJIjud+6ACk4w0Y1jOA1ExH9lemEZCev4DBjUsAZLICkpQIC1CI\n",
       "TYGrmgPs4zokKY4FV0HespO1A4uEbYQH70WG3HyUcF2SDnEhFAAAeqxBW4KlCKcAAAAASUVORK5C\n",
       "YII=\n",
       "\" style=\"display:inline;vertical-align:middle;\" /></a></span></td></tr>\n",
       "</table>"
      ],
      "text/plain": [
       "<proveit._core_.proof._ShowProof at 0x7f950002d7f0>"
      ]
     },
     "execution_count": 1,
     "metadata": {},
     "output_type": "execute_result"
    }
   ],
   "source": [
    "import proveit\n",
    "%show_proof"
   ]
  },
  {
   "cell_type": "code",
   "execution_count": null,
   "metadata": {},
   "outputs": [],
   "source": []
  }
 ],
 "metadata": {
  "kernelspec": {
   "display_name": "Python 3",
   "language": "python",
   "name": "python3"
  }
 },
 "nbformat": 4,
 "nbformat_minor": 0
}
