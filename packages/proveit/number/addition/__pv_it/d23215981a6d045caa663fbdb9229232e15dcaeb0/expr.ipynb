{
 "cells": [
  {
   "cell_type": "markdown",
   "metadata": {},
   "source": [
    "Expression of type <a class=\"ProveItLink\" href=\"../../../../../../doc/html/api/proveit.ExprTuple.html\">ExprTuple</a>\n",
    "=======================\n",
    "# from context <a class=\"ProveItLink\" href=\"../../_context_.ipynb\">proveit.number.addition</a>"
   ]
  },
  {
   "cell_type": "code",
   "execution_count": 1,
   "metadata": {},
   "outputs": [],
   "source": [
    "# import Expression classes needed to build the expression\n",
    "from proveit import ExprTuple\n",
    "from proveit._common_ import a, b, c\n",
    "from proveit.number import Add, Mult, three"
   ]
  },
  {
   "cell_type": "code",
   "execution_count": 2,
   "metadata": {},
   "outputs": [
    {
     "data": {
      "text/html": [
       "<strong id=\"expr\">expr:</strong> <a class=\"ProveItLink\" href=\"expr.ipynb\"><img src=\"data:image/png;base64,iVBORw0KGgoAAAANSUhEUgAAAJkAAAAVBAMAAACnAFEqAAAAMFBMVEX////c3NwiIiJERESqqqqY\n",
       "mJh2dnZmZmYQEBDu7u4yMjJUVFTMzMyIiIi6uroAAAAs73DqAAAAAXRSTlMAQObYZgAAAfRJREFU\n",
       "OMutlD9Iw0AUxr/aPzatNu4OOroIDjqKxcVFoZOjFAcFQQiICi4qiIOg1s3NIDqYLl0EF7GTCC6d\n",
       "RMFCdRJRWv8NBRXf3aXJXUjs0huOe79cvnv38uUBrR2pUouEpth0DVzODPo81c56mwB1tBdpOkHI\n",
       "QNUvwUShGVCHCXSWEPuE7neqnrYXe17gptslBZNAPIdIgFo1Zy8mvMAZEflO+8Cz2Od302l41Kbx\n",
       "r1o4jSW+yLus++bJTj9fPlXVHKDNlIuKGgcxA8e07phzy5tax4i94wN6UVZzwVUl0auocRAxscOj\n",
       "2wrbzcrSk8GCfYs64llZzQHaNsIZWU2A1Bp+eRiv03TAzrsA+m3/mNANWc0ByZqnbgJ01JhaqIjw\n",
       "F/smAzR9QPsWO9vIhpTBimX1WVbeBeSUAaFuWYdbllVoAFLboJzqQo2N0A8iNa3hrtWcnJsDekqe\n",
       "3ASgmw7RLhNtbw07fiJpjoO9RBXfVL4pB+wknTJU6iZA1MQs/Q4ZVLON044xamS1d1aMdHtBUeOA\n",
       "FTdpIKY4RAByyCMFY8tHrt3KL8MVbZcsp50vqu7lYJ/dYql8p7qXg0QF8S7fNqXQCTl4+O/Pimb9\n",
       "1KJK9CoHmcDmOM87UlM1BKop/cRkhfJ7EtyPOwOfJFl1Qq3q5PfAH4xjlR/NHHaaAAAAAElFTkSu\n",
       "QmCC\n",
       "\" style=\"display:inline;vertical-align:middle;\" /></a><br>"
      ],
      "text/plain": [
       "expr: (3 * a , b + b , c + c)"
      ]
     },
     "execution_count": 2,
     "metadata": {},
     "output_type": "execute_result"
    }
   ],
   "source": [
    "# build up the expression from sub-expressions\n",
    "expr = ExprTuple(Mult(three, a), Add(b, b), Add(c, c))"
   ]
  },
  {
   "cell_type": "code",
   "execution_count": 3,
   "metadata": {},
   "outputs": [
    {
     "name": "stdout",
     "output_type": "stream",
     "text": [
      "Passed sanity check: built 'expr' is the same as the stored Expression.\n"
     ]
    }
   ],
   "source": [
    "# check that the built expression is the same as the stored expression\n",
    "%check_expr"
   ]
  },
  {
   "cell_type": "code",
   "execution_count": 4,
   "metadata": {},
   "outputs": [
    {
     "data": {
      "text/html": [
       "<table><tr><th>&nbsp;</th><th>core type</th><th>sub-expressions</th><th>expression</th></tr>\n",
       "<tr><td>0</td><td>ExprTuple</td><td>1, 2, 3</td><td><a class=\"ProveItLink\" href=\"expr.ipynb\"><img src=\"data:image/png;base64,iVBORw0KGgoAAAANSUhEUgAAAJkAAAAVBAMAAACnAFEqAAAAMFBMVEX////c3NwiIiJERESqqqqY\n",
       "mJh2dnZmZmYQEBDu7u4yMjJUVFTMzMyIiIi6uroAAAAs73DqAAAAAXRSTlMAQObYZgAAAfRJREFU\n",
       "OMutlD9Iw0AUxr/aPzatNu4OOroIDjqKxcVFoZOjFAcFQQiICi4qiIOg1s3NIDqYLl0EF7GTCC6d\n",
       "RMFCdRJRWv8NBRXf3aXJXUjs0huOe79cvnv38uUBrR2pUouEpth0DVzODPo81c56mwB1tBdpOkHI\n",
       "QNUvwUShGVCHCXSWEPuE7neqnrYXe17gptslBZNAPIdIgFo1Zy8mvMAZEflO+8Cz2Od302l41Kbx\n",
       "r1o4jSW+yLus++bJTj9fPlXVHKDNlIuKGgcxA8e07phzy5tax4i94wN6UVZzwVUl0auocRAxscOj\n",
       "2wrbzcrSk8GCfYs64llZzQHaNsIZWU2A1Bp+eRiv03TAzrsA+m3/mNANWc0ByZqnbgJ01JhaqIjw\n",
       "F/smAzR9QPsWO9vIhpTBimX1WVbeBeSUAaFuWYdbllVoAFLboJzqQo2N0A8iNa3hrtWcnJsDekqe\n",
       "3ASgmw7RLhNtbw07fiJpjoO9RBXfVL4pB+wknTJU6iZA1MQs/Q4ZVLON044xamS1d1aMdHtBUeOA\n",
       "FTdpIKY4RAByyCMFY8tHrt3KL8MVbZcsp50vqu7lYJ/dYql8p7qXg0QF8S7fNqXQCTl4+O/Pimb9\n",
       "1KJK9CoHmcDmOM87UlM1BKop/cRkhfJ7EtyPOwOfJFl1Qq3q5PfAH4xjlR/NHHaaAAAAAElFTkSu\n",
       "QmCC\n",
       "\" style=\"display:inline;vertical-align:middle;\" /></a></td></tr>\n",
       "<tr><td>1</td><td>Operation</td><td>operator:&nbsp;4<br>operands:&nbsp;5<br></td><td><a class=\"ProveItLink\" href=\"../7aee2b6e503c8f908ef2cdd0071f19aa9707ce430/expr.ipynb\"><img src=\"data:image/png;base64,iVBORw0KGgoAAAANSUhEUgAAACQAAAAOBAMAAAC1GaP7AAAAMFBMVEX///+YmJju7u4QEBBUVFQy\n",
       "MjIiIiKIiIi6urpmZmbc3NyqqqpERER2dnbMzMwAAAB0GlNiAAAAAXRSTlMAQObYZgAAAJVJREFU\n",
       "GNNjYHh79zQDKuCawNBfgCrE+5uBPwFViBtTCAjQNQJBCIK5pLZ5AQMD31UHuAiHFcN5MKO4AUgw\n",
       "KQCJ9QIMc8BCzJ+AhD7IDn8GhnSgux4w8HwE8pQPAIk/DEz/gLKfIEJgZ39n4P7AxMAfwMD2CyrE\n",
       "9JuBJWAfA7sAQ/8FmI2BDNsmADk7Z0YjnFXed7wBAA1QJloXxtArAAAAAElFTkSuQmCC\n",
       "\" style=\"display:inline;vertical-align:middle;\" /></a></td></tr>\n",
       "<tr><td>2</td><td>Operation</td><td>operator:&nbsp;7<br>operands:&nbsp;6<br></td><td><a class=\"ProveItLink\" href=\"../732aa98f927c988b9bfe1416d01ed36546be51dc0/expr.ipynb\"><img src=\"data:image/png;base64,iVBORw0KGgoAAAANSUhEUgAAACsAAAAQBAMAAAB9zpudAAAAMFBMVEX////c3NxmZmbMzMxERESY\n",
       "mJiIiIh2dna6urqqqqoyMjIiIiIQEBBUVFTu7u4AAAAiO1wTAAAAAXRSTlMAQObYZgAAAIlJREFU\n",
       "GNNj4LuzgQEFQAW4LqAKQwX4J8CUCUBoiED/A6gwZwKEhghUM6AJQwTWpl1FFQYL8H1h4DdAFoYI\n",
       "cP5j4ClAFoYIMC1g4FdAFoYIcCsw9AcAOatWrT61ahXQyRABoCv1HyCrhggAjT+O4hKIAO8Epgso\n",
       "whABvmuqqN5BCKB6Bw1wIAkDAINGK1mj6vv8AAAAAElFTkSuQmCC\n",
       "\" style=\"display:inline;vertical-align:middle;\" /></a></td></tr>\n",
       "<tr><td>3</td><td>Operation</td><td>operator:&nbsp;7<br>operands:&nbsp;8<br></td><td><a class=\"ProveItLink\" href=\"../835f51cc5f7c025f46a68077697f0e2a3c40db810/expr.ipynb\"><img src=\"data:image/png;base64,iVBORw0KGgoAAAANSUhEUgAAACsAAAAOBAMAAABEEvh2AAAAMFBMVEX///+qqqpmZmbc3NxUVFSY\n",
       "mJhEREQiIiIyMjK6uroQEBDMzMyIiIh2dnbu7u4AAAA4MM1YAAAAAXRSTlMAQObYZgAAAGRJREFU\n",
       "GNNjYIADPgMGbIDxABHCfHfPbEARhgjsmsBRgCIMFuBbw8AWgCwMEWD5gGY2RIA/Acxh6uhoX9HR\n",
       "4QATsD+AphoiwA80GMVsiACLAgMvigOhArpnzqF6By6A1/OcSMIAeQEiyOGBraQAAAAASUVORK5C\n",
       "YII=\n",
       "\" style=\"display:inline;vertical-align:middle;\" /></a></td></tr>\n",
       "<tr><td>4</td><td>Literal</td><td></td><td><a class=\"ProveItLink\" href=\"../../../multiplication/__pv_it/21fd2079611555ecce512d99547a00d551e6b86b0/expr.ipynb\"><img src=\"data:image/png;base64,iVBORw0KGgoAAAANSUhEUgAAAAMAAAADBAMAAACkBqiMAAAAElBMVEX///9EREQQEBAiIiLu7u4A\n",
       "AABGBidwAAAAAXRSTlMAQObYZgAAABFJREFUCNdjYHFgcDVgcBIAAASWAQx4jI0xAAAAAElFTkSu\n",
       "QmCC\n",
       "\" style=\"display:inline;vertical-align:middle;\" /></a></td></tr>\n",
       "<tr><td>5</td><td>ExprTuple</td><td>9, 10</td><td><a class=\"ProveItLink\" href=\"../0a7bc1f02b1a1289d815ad2d8102ad7ea9add3540/expr.ipynb\"><img src=\"data:image/png;base64,iVBORw0KGgoAAAANSUhEUgAAACsAAAAVBAMAAAAtAwouAAAAMFBMVEX////c3NwiIiJERESqqqqY\n",
       "mJh2dnZmZmYQEBDu7u4yMjJUVFTMzMyIiIi6uroAAAAs73DqAAAAAXRSTlMAQObYZgAAAQhJREFU\n",
       "GNNjYMAB+C6gi8SBiNMMDMfSTJCF2Q8AiZUMjAUM71G0LGBg4L3AwPaFgV8BWTiMgYFjAgMLuvAM\n",
       "BoZXYAaqIcwODGVgxmqoAOPevEYGBrYChqVADk/WBqjwCwHmDwwMLAsY+sDcGw8gir8ysBsAvdLA\n",
       "8A/M5/gJprg/MDABbeH5ABJmPMDA/BUszG/AMP8AWLiFgWH+T5iw/AUGf4YJIENMgWoWMDB9BPKA\n",
       "ChwYdrEcYGBdwJAO9GgAw/sEzk9AYa4AFnU2sAMfAXnu5UsYOPsFQM6+d/geUPYBA4cALIAFkD3P\n",
       "mgBlsyI8nwsOWHRhTmDAMkhDOYjA4gYZx4gRaXcYGAAIoUCpTBPJKQAAAABJRU5ErkJggg==\n",
       "\" style=\"display:inline;vertical-align:middle;\" /></a></td></tr>\n",
       "<tr><td>6</td><td>ExprTuple</td><td>11, 11</td><td><a class=\"ProveItLink\" href=\"../612e99e6fd74ee3c032efd8d15bfddfb9fc0af9e0/expr.ipynb\"><img src=\"data:image/png;base64,iVBORw0KGgoAAAANSUhEUgAAACcAAAAVBAMAAAA3P+qgAAAAMFBMVEX////c3NwiIiJERESqqqqY\n",
       "mJh2dnZmZmYQEBDu7u4yMjJUVFTMzMyIiIi6uroAAAAs73DqAAAAAXRSTlMAQObYZgAAAO5JREFU\n",
       "GNNtkaFuAkEQhr8WKHdQuHoML4G/R0BVElKDIjlDbStIJTmJ4wyCYDAkGBI8pg9QEoqsgaYK03R2\n",
       "dk5AemL32y+7O//swb9f/f1y3XHDlnDV9GuF8kZoBpWF7VLIoCano9ikwiMEKRxTkwpj+JLpKS+i\n",
       "UIh5lmm+W3qpcJcwlaI/RButrlDMGEHxTNB10kP9lV9JlhElTnq4Pzl5m3BsO+lB5FDTvaQWU0CO\n",
       "t3CXvxFiQCmjB9W4vGDSNHCRDpJkPZA+vg2o7AkerJvPvC1ps9Q1buey75/uQobydDQ81/KNVXff\n",
       "zdXv+IA/Uqw+FpHnSdwAAAAASUVORK5CYII=\n",
       "\" style=\"display:inline;vertical-align:middle;\" /></a></td></tr>\n",
       "<tr><td>7</td><td>Literal</td><td></td><td><a class=\"ProveItLink\" href=\"../3e6688136fa3c7aefbebe51301b7c3ebf0b69c440/expr.ipynb\"><img src=\"data:image/png;base64,iVBORw0KGgoAAAANSUhEUgAAAA4AAAAOBAMAAADtZjDiAAAAJFBMVEX///+6urpUVFQQEBAiIiIy\n",
       "MjJmZmaIiIiqqqrc3Nzu7u4AAACgHpL+AAAAAXRSTlMAQObYZgAAAB5JREFUCNdjYGBgWMkAAe2k\n",
       "0Kmhoc6hoUGk6BMHYgAHOwjcado9fwAAAABJRU5ErkJggg==\n",
       "\" style=\"display:inline;vertical-align:middle;\" /></a></td></tr>\n",
       "<tr><td>8</td><td>ExprTuple</td><td>12, 12</td><td><a class=\"ProveItLink\" href=\"../1c0bb617114f3df6312252662a222f4d927730940/expr.ipynb\"><img src=\"data:image/png;base64,iVBORw0KGgoAAAANSUhEUgAAACcAAAAVBAMAAAA3P+qgAAAAMFBMVEX////c3NwiIiJERESqqqqY\n",
       "mJh2dnZmZmYQEBDu7u4yMjJUVFTMzMyIiIi6uroAAAAs73DqAAAAAXRSTlMAQObYZgAAAM5JREFU\n",
       "GNNjYMAK+C6g8uNAxGk0RewHgMRKdK0LGBh4L6ALhjEwcExAF5zBwPAKw2ZmB4YyIMWZdvcAmA9m\n",
       "sBUwLAWyTzzgUgALghksCxj6gPK9DMwBYIVgBl8Dwz8GBu4PUNMgDJ4PIEF+A6gghAEUbGFgkIc5\n",
       "FcIAajcFKgAaGMDJAGUwsC5gSAcaVcDAdmC+ApQBctIjoIqyuzcZZnyEMhi4HjBwCEANfIjkTdYE\n",
       "KDsAJpiLFHQwQU5g0DFIQ9i8MIXcIPMY0QL0DgMDAOR2MjAvKGjTAAAAAElFTkSuQmCC\n",
       "\" style=\"display:inline;vertical-align:middle;\" /></a></td></tr>\n",
       "<tr><td>9</td><td>Literal</td><td></td><td><a class=\"ProveItLink\" href=\"../../../numeral/__pv_it/9176d93c83afa2c995b614976e3cb49207102fa70/expr.ipynb\"><img src=\"data:image/png;base64,iVBORw0KGgoAAAANSUhEUgAAAAoAAAAOBAMAAADkjZCYAAAAMFBMVEX///+YmJju7u4QEBBUVFQy\n",
       "MjIiIiKIiIi6urpmZmbc3NyqqqpERER2dnbMzMwAAAB0GlNiAAAAAXRSTlMAQObYZgAAAE1JREFU\n",
       "CNdjYHh79zQDA9cEhv4CBt7fDPwJDNxgEgiAIkAQAsR8Vx1ATIbiBhDJ/ImB6wEDz0cG/U8gkj+A\n",
       "ge0XA7sAQ/8FBoadM6MZAEflFACalZ/OAAAAAElFTkSuQmCC\n",
       "\" style=\"display:inline;vertical-align:middle;\" /></a></td></tr>\n",
       "<tr><td>10</td><td>Variable</td><td></td><td><a class=\"ProveItLink\" href=\"../../../../__pv_it/07527342713064c87612d00d8557c53d53d5324a0/expr.ipynb\"><img src=\"data:image/png;base64,iVBORw0KGgoAAAANSUhEUgAAAAsAAAAJBAMAAAAWSsseAAAAMFBMVEX///8yMjKqqqrMzMzu7u4i\n",
       "IiJmZmaYmJhEREQQEBC6urp2dnaIiIhUVFTc3NwAAAD87Fq/AAAAAXRSTlMAQObYZgAAAEhJREFU\n",
       "CNdjYOC7s2seAwPDygccHxgY+L4zsDUwMPB+YGA9wMDA38Dgb8DA8P4Agz6DA4O/AsNFJgMGxgKm\n",
       "MG6gyjunLE4xAAAZTBA5TB6DCwAAAABJRU5ErkJggg==\n",
       "\" style=\"display:inline;vertical-align:middle;\" /></a></td></tr>\n",
       "<tr><td>11</td><td>Variable</td><td></td><td><a class=\"ProveItLink\" href=\"../../../../__pv_it/6840a4fa6c106149dc16a131294d0c5e44f1b0480/expr.ipynb\"><img src=\"data:image/png;base64,iVBORw0KGgoAAAANSUhEUgAAAAkAAAAOBAMAAAAPuiubAAAALVBMVEX///9mZmbMzMxERESYmJiI\n",
       "iIh2dna6urqqqqoyMjIiIiIQEBBUVFTu7u4AAAD9S1JeAAAAAXRSTlMAQObYZgAAAE1JREFUCNdj\n",
       "4D29gAEIOA+ASL4GEFl3AURmgQiGOaFHGBh4HzPwKTBwvGXgTmBgnMDAJ8DAJcBQ5wBSLncBJLWN\n",
       "gYGngRFoBO9REQYGAGrcDtUkVqASAAAAAElFTkSuQmCC\n",
       "\" style=\"display:inline;vertical-align:middle;\" /></a></td></tr>\n",
       "<tr><td>12</td><td>Variable</td><td></td><td><a class=\"ProveItLink\" href=\"../../../../__pv_it/cbdfda466482236edba0ce44ac7ef39cda0af7a40/expr.ipynb\"><img src=\"data:image/png;base64,iVBORw0KGgoAAAANSUhEUgAAAAkAAAAJBAMAAAASvxsjAAAALVBMVEX///9mZmbc3NxUVFSYmJhE\n",
       "REQiIiIyMjK6uroQEBDMzMyIiIh2dnbu7u4AAABgFDGoAAAAAXRSTlMAQObYZgAAADZJREFUCNdj\n",
       "YOA9s3sBA8PKBvYEBt7ZDKwODMwPGICALwBE6m0Asx0YGIDiAgw8QJUyu/cyAAAmuwmycZ8WfQAA\n",
       "AABJRU5ErkJggg==\n",
       "\" style=\"display:inline;vertical-align:middle;\" /></a></td></tr>\n",
       "</table>\n"
      ],
      "text/plain": [
       "0. (3 * a , b + b , c + c)\n",
       "   core type: ExprTuple\n",
       "   sub-expressions: 1, 2, 3\n",
       "1. 3 * a\n",
       "   core type: Operation\n",
       "   operator: 4\n",
       "   operands: 5\n",
       "2. b + b\n",
       "   core type: Operation\n",
       "   operator: 7\n",
       "   operands: 6\n",
       "3. c + c\n",
       "   core type: Operation\n",
       "   operator: 7\n",
       "   operands: 8\n",
       "4. *\n",
       "   core type: Literal\n",
       "   sub-expressions: \n",
       "5. (3 , a)\n",
       "   core type: ExprTuple\n",
       "   sub-expressions: 9, 10\n",
       "6. (b , b)\n",
       "   core type: ExprTuple\n",
       "   sub-expressions: 11, 11\n",
       "7. +\n",
       "   core type: Literal\n",
       "   sub-expressions: \n",
       "8. (c , c)\n",
       "   core type: ExprTuple\n",
       "   sub-expressions: 12, 12\n",
       "9. 3\n",
       "   core type: Literal\n",
       "   sub-expressions: \n",
       "10. a\n",
       "    core type: Variable\n",
       "    sub-expressions: \n",
       "11. b\n",
       "    core type: Variable\n",
       "    sub-expressions: \n",
       "12. c\n",
       "    core type: Variable\n",
       "    sub-expressions: "
      ]
     },
     "execution_count": 4,
     "metadata": {},
     "output_type": "execute_result"
    }
   ],
   "source": [
    "# display the expression information\n",
    "expr.exprInfo()"
   ]
  },
  {
   "cell_type": "code",
   "execution_count": null,
   "metadata": {},
   "outputs": [],
   "source": []
  }
 ],
 "metadata": {
  "kernelspec": {
   "display_name": "Python 3",
   "language": "python",
   "name": "python3"
  }
 },
 "nbformat": 4,
 "nbformat_minor": 0
}
