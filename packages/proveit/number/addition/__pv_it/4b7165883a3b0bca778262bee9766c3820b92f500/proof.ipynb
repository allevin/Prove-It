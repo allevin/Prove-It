{
 "cells": [
  {
   "cell_type": "markdown",
   "metadata": {},
   "source": [
    "Show the Proof\n",
    "========"
   ]
  },
  {
   "cell_type": "code",
   "execution_count": 1,
   "metadata": {},
   "outputs": [
    {
     "data": {
      "text/html": [
       "<table><tr><th>&nbsp;</th><th>step type</th><th>requirements</th><th>statement</th></tr>\n",
       "<tr><td>0</td><td>assumption</td><td></td><td><span style=\"font-size:20px;\"><a class=\"ProveItLink\" href=\"../0d6f8239ff70b9a6f6714107b3b004c37c1dff100/expr.ipynb\"><img src=\"data:image/png;base64,iVBORw0KGgoAAAANSUhEUgAAAEMAAAAVBAMAAADvM06qAAAAMFBMVEX////c3NxERESqqqpUVFS6\n",
       "urrMzMwyMjIQEBCIiIh2dnYiIiLu7u5mZmaYmJgAAABXZE4RAAAAAXRSTlMAQObYZgAAASFJREFU\n",
       "KM9jYGDgu8eAC7CtEgBRPLsYcAO2ZhDJ+QFThqdeqYaBd/9mBobrIC5XAxbdTA+SGBj4gYwVOJWw\n",
       "bOOcwMCBVcnJ6t3bwUrCD7hhV8JWdwBqSprD8QOoSk6tnAZiCx2AWZRgyaYAV8JbANTdylANYivC\n",
       "3ZLAG/ASpOQ9iJcRwMBwYgKDHsivCgglDD4sGUAG+wUGhpQ2IMMfIsHavXs31LkJDEd4KkAs9QcM\n",
       "DBEJDAyfoK51QDKFbQHIFO4FIF4BA+NPaKBuQFLC8JgJ5hYuoPg/YGSC2H7ISriEkD3ty8CwDMQ+\n",
       "HQCLABDjOrIS3pUzwSHCWJsAcXd9E5A8jjUCmN0hPoID3NGIqoQPrxJweuHZiS/VtYIpvsX40y4A\n",
       "ljBJqowrDHgAAAAASUVORK5CYII=\n",
       "\" style=\"display:inline;vertical-align:middle;\" /></a> <a class=\"ProveItLink\" href=\"proof.ipynb\" style=\"text-decoration: none\">&#x22A2;&nbsp;</a><a class=\"ProveItLink\" href=\"../ba9998552628997a6486f781028ec6ef74e1596d0/expr.ipynb\"><img src=\"data:image/png;base64,iVBORw0KGgoAAAANSUhEUgAAADEAAAAPBAMAAAC/wjryAAAAMFBMVEX///+qqqpmZmbc3NxUVFSY\n",
       "mJhEREQiIiIyMjK6uroQEBDMzMyIiIh2dnbu7u4AAAA4MM1YAAAAAXRSTlMAQObYZgAAAMlJREFU\n",
       "GNNjYEAHL75lPGBQ/y7AgAlSuRMYGD5gkWBw33CGgWEBkgDfifLyBhDDs49lA4rMjjgow3sLXx9Y\n",
       "hu/umQ1AijkPpsSb8cA2sMyuCRwFQIrNAC7DoMl6ACjDt4aBLQDIf8aAkGF54A2UYYG6b1Z5OdQF\n",
       "3gx8Di+AMvwJEJktSHoY9nIDZewPQPjPkWVYBYDq+YGWgOxhCUCSYbgMlGFRYOAFuZqvEiaTCcRM\n",
       "IBt1z5wDC1hoQyRm/AKq52tADi+R9nJkPgCS3DPqFGZo4AAAAABJRU5ErkJggg==\n",
       "\" style=\"display:inline;vertical-align:middle;\" /></a></span></td></tr>\n",
       "</table>"
      ],
      "text/plain": [
       "<proveit._core_.proof._ShowProof at 0x7f94eaf604e0>"
      ]
     },
     "execution_count": 1,
     "metadata": {},
     "output_type": "execute_result"
    }
   ],
   "source": [
    "import proveit\n",
    "%show_proof"
   ]
  },
  {
   "cell_type": "code",
   "execution_count": null,
   "metadata": {},
   "outputs": [],
   "source": []
  }
 ],
 "metadata": {
  "kernelspec": {
   "display_name": "Python 3",
   "language": "python",
   "name": "python3"
  }
 },
 "nbformat": 4,
 "nbformat_minor": 0
}
