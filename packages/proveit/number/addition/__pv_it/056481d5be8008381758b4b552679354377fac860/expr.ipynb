{
 "cells": [
  {
   "cell_type": "markdown",
   "metadata": {},
   "source": [
    "Expression of type <a class=\"ProveItLink\" href=\"../../../../../../doc/html/api/proveit.ExprTuple.html\">ExprTuple</a>\n",
    "=======================\n",
    "# from context <a class=\"ProveItLink\" href=\"../../_context_.ipynb\">proveit.number.addition</a>"
   ]
  },
  {
   "cell_type": "code",
   "execution_count": 1,
   "metadata": {},
   "outputs": [],
   "source": [
    "# import Expression classes needed to build the expression\n",
    "from proveit import ExprTuple\n",
    "from proveit._common_ import a, b, c\n",
    "from proveit.number import Add"
   ]
  },
  {
   "cell_type": "code",
   "execution_count": 2,
   "metadata": {},
   "outputs": [
    {
     "data": {
      "text/html": [
       "<strong id=\"expr\">expr:</strong> <a class=\"ProveItLink\" href=\"expr.ipynb\"><img src=\"data:image/png;base64,iVBORw0KGgoAAAANSUhEUgAAAukAAAAVBAMAAAAJJW1zAAAAMFBMVEX////c3NwiIiJERESqqqqY\n",
       "mJh2dnZmZmYQEBDu7u4yMjJUVFTMzMyIiIi6uroAAAAs73DqAAAAAXRSTlMAQObYZgAAA7ZJREFU\n",
       "WMPtWUFoE0EU/W2TbDepyd57aG/1IvTiUQyeLc3Jo5Qe9GIlIPZQD1qRHgRrvEihh4ZCD24uPSiK\n",
       "UCx4EbzkpIhNKZ6KKA02RQpVnE2ys/Pnz0xmA0YDnUM2vP3z3n9/ZmdndwFO279o2eppDXrargY/\n",
       "7xUn3Ffj8dlW78fv05VQTxpx0xmwbM42+3mmOpPe7IKu0kWfroR60irxActWBjiDFpgn7WMuH05G\n",
       "T56dHuiQhsxCeWMI2UibFKwQCzd6e42O7tQ6VwCGS+LZqfbxIEQT8qpPAI5kj2UWyhtDyEbapGCF\n",
       "WLjR2jP4nTLqrAB8VYbPQvyqp8a7qPos/KdV52609gx+zVUfysM8Owxs3VzE4ZXaCxzuXqtt4/6j\n",
       "H/Y9hKS3PhcwCw/hCKfRCkW5cKWnczsaaYUC9WJCLNxo7VG/xB2pWhNIFWGD/d/3huqov3sIORz+\n",
       "bi89ji+4RbiIM1+bhBN8CfIQngan0QpFuYTIyDKsa6QVCsSLEbFwo7VHAOKOVq0JJMqwzIb+CJxJ\n",
       "1D9xDMMzYrj7CIbw0I8V4BbOc7oES4glCuFF5jQ6ISGXkHelCuc10lSBejEiFm609ghA3JGqtYDs\n",
       "PfgNkKnDYBX1d8qQK4rhmbq8Qr0BOIeRBYCfiCUKCZGIxiAU5iIo6aSVCpIXI2LhRmuPAMQdqVoL\n",
       "GKkHVc9NwlpwmS/4/lnfD3ahg0U4YIPk+P76Q9/fbIY0i8QBOAT3BCMTkD1CLO0QAWnTmIWauSAl\n",
       "tbROQfKiRyzcmOwRgLgjVWsBrOoP2OVVhWkoiYPEdtF3S+IgjVWlURv4BYm6iyZDA5xjcaiFEL7m\n",
       "VKXZoBIKc4mUdNJqBcmLEbFwo7NHAeKOVK0FsBWGLZlreXidQDdfdodbQuE5NiHxCtWATPkySusk\n",
       "XKLbLEII5+U0OiEhl5CXTaikQrqkVKBejIiFG509ClB3ctVaQLIM19kWqJCYSOEFKe9s4gWpCClc\n",
       "iw24VMRpPYc7eKijEM7LaXRCQi4h70uAG1Ta/aFUoF6MiIUbrT0CUHdy1VoA2zl+Cbavu2938d14\n",
       "67Z0B5uvfcLAaO3bhT2ErH4s4CyiEL6V4jQ6ISGXkNeZq5WotPvYUylQL0bEwo3WHgGIO1q1JpDe\n",
       "g2HP/qHK8hkyzrNpHF4MZL2/+mwax178NwLJGfHs945v3+nreIoQFop0FuoknYytqUBiq9qZMbub\n",
       "073p7YOW7NevGm45WNL6NPm+/QSWCZbGgdMveL1tOwB/AAMzTgHt/L8BAAAAAElFTkSuQmCC\n",
       "\" style=\"display:inline;vertical-align:middle;\" /></a><br>"
      ],
      "text/plain": [
       "expr: (a + b + c + a + b + a + c + b + a + c + a , a + a + a + a + a + b + b + b + c + c + c)"
      ]
     },
     "execution_count": 2,
     "metadata": {},
     "output_type": "execute_result"
    }
   ],
   "source": [
    "# build up the expression from sub-expressions\n",
    "expr = ExprTuple(Add(a, b, c, a, b, a, c, b, a, c, a), Add(a, a, a, a, a, b, b, b, c, c, c))"
   ]
  },
  {
   "cell_type": "code",
   "execution_count": 3,
   "metadata": {},
   "outputs": [
    {
     "name": "stdout",
     "output_type": "stream",
     "text": [
      "Passed sanity check: built 'expr' is the same as the stored Expression.\n"
     ]
    }
   ],
   "source": [
    "# check that the built expression is the same as the stored expression\n",
    "%check_expr"
   ]
  },
  {
   "cell_type": "code",
   "execution_count": 4,
   "metadata": {},
   "outputs": [
    {
     "data": {
      "text/html": [
       "<table><tr><th>&nbsp;</th><th>core type</th><th>sub-expressions</th><th>expression</th></tr>\n",
       "<tr><td>0</td><td>ExprTuple</td><td>1, 2</td><td><a class=\"ProveItLink\" href=\"expr.ipynb\"><img src=\"data:image/png;base64,iVBORw0KGgoAAAANSUhEUgAAAukAAAAVBAMAAAAJJW1zAAAAMFBMVEX////c3NwiIiJERESqqqqY\n",
       "mJh2dnZmZmYQEBDu7u4yMjJUVFTMzMyIiIi6uroAAAAs73DqAAAAAXRSTlMAQObYZgAAA7ZJREFU\n",
       "WMPtWUFoE0EU/W2TbDepyd57aG/1IvTiUQyeLc3Jo5Qe9GIlIPZQD1qRHgRrvEihh4ZCD24uPSiK\n",
       "UCx4EbzkpIhNKZ6KKA02RQpVnE2ys/Pnz0xmA0YDnUM2vP3z3n9/ZmdndwFO279o2eppDXrargY/\n",
       "7xUn3Ffj8dlW78fv05VQTxpx0xmwbM42+3mmOpPe7IKu0kWfroR60irxActWBjiDFpgn7WMuH05G\n",
       "T56dHuiQhsxCeWMI2UibFKwQCzd6e42O7tQ6VwCGS+LZqfbxIEQT8qpPAI5kj2UWyhtDyEbapGCF\n",
       "WLjR2jP4nTLqrAB8VYbPQvyqp8a7qPos/KdV52609gx+zVUfysM8Owxs3VzE4ZXaCxzuXqtt4/6j\n",
       "H/Y9hKS3PhcwCw/hCKfRCkW5cKWnczsaaYUC9WJCLNxo7VG/xB2pWhNIFWGD/d/3huqov3sIORz+\n",
       "bi89ji+4RbiIM1+bhBN8CfIQngan0QpFuYTIyDKsa6QVCsSLEbFwo7VHAOKOVq0JJMqwzIb+CJxJ\n",
       "1D9xDMMzYrj7CIbw0I8V4BbOc7oES4glCuFF5jQ6ISGXkHelCuc10lSBejEiFm609ghA3JGqtYDs\n",
       "PfgNkKnDYBX1d8qQK4rhmbq8Qr0BOIeRBYCfiCUKCZGIxiAU5iIo6aSVCpIXI2LhRmuPAMQdqVoL\n",
       "GKkHVc9NwlpwmS/4/lnfD3ahg0U4YIPk+P76Q9/fbIY0i8QBOAT3BCMTkD1CLO0QAWnTmIWauSAl\n",
       "tbROQfKiRyzcmOwRgLgjVWsBrOoP2OVVhWkoiYPEdtF3S+IgjVWlURv4BYm6iyZDA5xjcaiFEL7m\n",
       "VKXZoBIKc4mUdNJqBcmLEbFwo7NHAeKOVK0FsBWGLZlreXidQDdfdodbQuE5NiHxCtWATPkySusk\n",
       "XKLbLEII5+U0OiEhl5CXTaikQrqkVKBejIiFG509ClB3ctVaQLIM19kWqJCYSOEFKe9s4gWpCClc\n",
       "iw24VMRpPYc7eKijEM7LaXRCQi4h70uAG1Ta/aFUoF6MiIUbrT0CUHdy1VoA2zl+Cbavu2938d14\n",
       "67Z0B5uvfcLAaO3bhT2ErH4s4CyiEL6V4jQ6ISGXkNeZq5WotPvYUylQL0bEwo3WHgGIO1q1JpDe\n",
       "g2HP/qHK8hkyzrNpHF4MZL2/+mwax178NwLJGfHs945v3+nreIoQFop0FuoknYytqUBiq9qZMbub\n",
       "073p7YOW7NevGm45WNL6NPm+/QSWCZbGgdMveL1tOwB/AAMzTgHt/L8BAAAAAElFTkSuQmCC\n",
       "\" style=\"display:inline;vertical-align:middle;\" /></a></td></tr>\n",
       "<tr><td>1</td><td>Operation</td><td>operator:&nbsp;4<br>operands:&nbsp;3<br></td><td><a class=\"ProveItLink\" href=\"../bab95727a9575eabd6aee6afba3a9ae6970e66760/expr.ipynb\"><img src=\"data:image/png;base64,iVBORw0KGgoAAAANSUhEUgAAAWoAAAAQBAMAAADNOCjDAAAAMFBMVEX///8yMjKqqqrMzMzu7u4i\n",
       "IiJmZmaYmJhEREQQEBC6urp2dnaIiIhUVFTc3NwAAAD87Fq/AAAAAXRSTlMAQObYZgAAAgdJREFU\n",
       "SMe9lb9Kw1AUxr+GNGhLGzOIU6EgbkIddesLaDsVBId2UhAxj9AHEMTBSRHBSRB0cdElgzhoheoi\n",
       "QsG+QGlpi+3gYKuJzcnpSUwHzxL4OPf3fffm/gFYqW95hK7Vw/BjJjISK1KdYFDqv4y8tWZ/9bRH\n",
       "GK1OXVTaYgvHBBtxzBjuTy3a38usR/gtxZKUWFds4ZhgI44Zw6VjrxE+dTw/QWrZKDB1snZzQsem\n",
       "Kq9UUG8rS3Ro4/G8TpRI7ckUWjhGNBplcTCS9Xl9qkXGqn3olL5yGsnT/XCCfUrPldERWjhGNBpl\n",
       "cTCCdbIHrUzoShfTV4R+jCm6kE0TW5SeyeJIaOEYyciVxcZI1okWohahazPQi24h0fJurndggyol\n",
       "4ENo4RgfIyeLjZGs9TJyw99UMox1wxjeutEiLk23oP/MXzOM2QPDGN6xfagdqhQQ641r4Rh/o+8s\n",
       "I4xk3bSQQdY948EtukuEpuWZcPITSkslS9CG1hVaOMbHyMliYyTrXBrPCjkTgxNyROmDBSGbS20j\n",
       "MTNPUnecLcpbOEYycmWxMZJ1xFQKcbr/0lqVCkXE6fUzh4UiCYkX7EBo4RjJyJXF2deCdbL2sPxA\n",
       "z3pt03NlbVfuaKRG5WzvlCir96bUwjGSkSuLg/GxDnrD/vA2+r28i+GFEC/6RaAQswIV3vIHLhMC\n",
       "uF8uh/IdBFSamgAAAABJRU5ErkJggg==\n",
       "\" style=\"display:inline;vertical-align:middle;\" /></a></td></tr>\n",
       "<tr><td>2</td><td>Operation</td><td>operator:&nbsp;4<br>operands:&nbsp;5<br></td><td><a class=\"ProveItLink\" href=\"../9b7389976c8a2aad4900889e2b40eabbdc77c8e00/expr.ipynb\"><img src=\"data:image/png;base64,iVBORw0KGgoAAAANSUhEUgAAAWoAAAAQBAMAAADNOCjDAAAAMFBMVEX///8yMjKqqqrMzMzu7u4i\n",
       "IiJmZmaYmJhEREQQEBC6urp2dnaIiIhUVFTc3NwAAAD87Fq/AAAAAXRSTlMAQObYZgAAAhJJREFU\n",
       "SMfN1bFLG1EcB/Bvrs9TE5J4gzgFAsWtYMZ2u7UUNZNQ6BAnBSm9PyGbS6F06NIWEZyEgkLpUh0O\n",
       "FAd7hbSDpRBo/gExJKFmcPCi95L3e7+8O5sS8I0ffvf9vXvv3TtgfGPxnQbidzkB7sMo6JCqJcG/\n",
       "jyUmojGK9INaOuSLSWCOHdLnZjxiYvmjiAxKd/TkPTcJzLFD+oxl1pmynvwlEe4661z96xZ9ciCy\n",
       "kgvOv+02DCKDUvXvHk0uBL8SQBwEJRLLAM8Oj4DdxlSTPjkQWcklvYU3JpFBy1W0CYgu8qVYwJPt\n",
       "VJnEMnjwHrPIXcKukmxFokouuPCwbhIZtODiAwGrg+n9WBAfMeWpsQzw1Mcmsk1M+CRbkaiSC/4A\n",
       "L0wig1aBvwTsGeQrsZBtaseYQa9PePdUsdzbpFXHee44BUVsx5l96zi1YYIuRHuoKEErSF8SmKhg\n",
       "z4uF/O2WktbQ+/Q21scCXPV9FYnej0vuClZTGEQGtWB3CIS38ys3Fi58bWkZhH16n0wRPyzyRSgS\n",
       "VXIRLWRnHhpEBrXloe1PsqQddA7hypNjzADh9k0i5VkrGXphDSSq5II5zFf2DSKDfuIlPejZol1L\n",
       "gAoyZHkY4Az4HF7Fp49P6R0yELkrTHAe7LzeNogMWjzx6KxFfS0BsBEc00YM7MPAHee/8b/gzn/0\n",
       "T0zS/ijCg0YAFqvCNQdw8VobmEZtAAAAAElFTkSuQmCC\n",
       "\" style=\"display:inline;vertical-align:middle;\" /></a></td></tr>\n",
       "<tr><td>3</td><td>ExprTuple</td><td>6, 7, 8, 6, 7, 6, 8, 7, 6, 8, 6</td><td><a class=\"ProveItLink\" href=\"../98c02e530816a511bab2e4a805a7e6d438df201a0/expr.ipynb\"><img src=\"data:image/png;base64,iVBORw0KGgoAAAANSUhEUgAAANUAAAAVBAMAAAAjhrYEAAAAMFBMVEX////c3NwiIiJERESqqqqY\n",
       "mJh2dnZmZmYQEBDu7u4yMjJUVFTMzMyIiIi6uroAAAAs73DqAAAAAXRSTlMAQObYZgAAAlVJREFU\n",
       "SMe9Vj9oE1Ec/tJccnm5Jpe9Q7t1KmRxFIOz0JscJTjoYuRA7KCDVqSb9SYpOOQQOpQuHZQWIRhw\n",
       "EVwyKaJXUqciQqNpkUIU3597790fvMtiMly++74v34/3u997F2CWn/pgJmWuscv7KPP80b/dWRo5\n",
       "WMqpZfbpZSdG7WbYs7TqXt7CfKAWb+FphjtLs1t5ta4CFS/28M4zHmyGhhMvr9YW8C1GlDPanqXh\n",
       "eu5wFFtYo1+F3u31sO29z45AzzpfBFj4cNxIaIrSrt3glQA6i9wI+hGq7GKb3hw3iiOhd5uYcDC/\n",
       "iReic+u4lNA0pVxkDFsE66x3w+pShDJ8bNK6ZzCbQl/1sCG6O8AFDhYd3ElomlIu4xyVNl+DyiJP\n",
       "UHQiVP0h/gDWCHPhNN4DfnHwRraZgpW0toK4y/RhuwzoLCtcnqTmR6yW3URXNADLqJ9xMJYpY5BJ\n",
       "SpOUcs25OOGL0Fl2U24HQdFaj2lPBliFF24hk0924XdopMAYkaQWUsrFttcDnqCzFuXGDSnaQ9rv\n",
       "bguvjT7/9YS1nVnpCkoMkFNY/hVOSS1CSRcbjA2wBJ1l03U6mkLJx006zI6xXEaXDc1L3Af5ScE+\n",
       "cIuDbVx22xwpTVPKZbXMPZ6gsywX5b6m2Mx/ZfN/+PYQWz/Y+frRAXlKN4/ZCTwOFoLvF4ccKU1T\n",
       "ykV6d8ETIllrwacIheoQlYbs+ZE6jBpJMCWlEjQ6ip5Rpba8cSQopcCUlJNGmupE3yn/txbx2eEW\n",
       "3tSUcZAC01E6oZamLNbpwmz+A9Az+i+iVOAdG9M4OgAAAABJRU5ErkJggg==\n",
       "\" style=\"display:inline;vertical-align:middle;\" /></a></td></tr>\n",
       "<tr><td>4</td><td>Literal</td><td></td><td><a class=\"ProveItLink\" href=\"../3e6688136fa3c7aefbebe51301b7c3ebf0b69c440/expr.ipynb\"><img src=\"data:image/png;base64,iVBORw0KGgoAAAANSUhEUgAAAA4AAAAOBAMAAADtZjDiAAAAJFBMVEX///+6urpUVFQQEBAiIiIy\n",
       "MjJmZmaIiIiqqqrc3Nzu7u4AAACgHpL+AAAAAXRSTlMAQObYZgAAAB5JREFUCNdjYGBgWMkAAe2k\n",
       "0Kmhoc6hoUGk6BMHYgAHOwjcado9fwAAAABJRU5ErkJggg==\n",
       "\" style=\"display:inline;vertical-align:middle;\" /></a></td></tr>\n",
       "<tr><td>5</td><td>ExprTuple</td><td>6, 6, 6, 6, 6, 7, 7, 7, 8, 8, 8</td><td><a class=\"ProveItLink\" href=\"../9678e7a3a5664c120c8669faed2bd673b70954970/expr.ipynb\"><img src=\"data:image/png;base64,iVBORw0KGgoAAAANSUhEUgAAANUAAAAVBAMAAAAjhrYEAAAAMFBMVEX////c3NwiIiJERESqqqqY\n",
       "mJh2dnZmZmYQEBDu7u4yMjJUVFTMzMyIiIi6uroAAAAs73DqAAAAAXRSTlMAQObYZgAAAe9JREFU\n",
       "SMe91j1Iw0AUB/B/bdr0Gttkd7Cbk9DFUSzOgpkcpTjopAREBx38QNz8GAWHZnEQFwcFEYoFF8Gl\n",
       "kyJaqU4igtVWpKDiXZpaL1ebELAd0l8K917v3XtpgXa+4vm2pBlll3M/K7eXnSBHiZYr5By97Pr6\n",
       "mnsCovutV5hAzF8JKwLUVOsVI0Bk09chV53As0ugLeDR17bCCScw5rIkmMIsfQtkp5bsT7ouHjQP\n",
       "imavdR7YKxzaXTJeyDVB2MAO9YMWLNklWcKAF2WS+OBBylBrkc+K0UQTSCbW6bbeICdrMbp1THvR\n",
       "8CZWeUhVRNJW0jUE9SaIL+ILUErosLvxBOj1ojngnYdsQjUYFLtETnSWWC41iUxt+yiDfHhRD+Jv\n",
       "PDoMPFu7UJP1IeBBc63Q0uQxDKtjA5+QSsRddKrkKg86XgtWjO76wDpAa9hHzzeFYynHgpAKFHOI\n",
       "5W0t2g/0cDjQxlgFi6HS3ekiEDIxQftWl3rCyLCe2cGgkSavrjrAPHgoKXnfiqEYCOdEsJ6/Z+N1\n",
       "e3qLrRc2QIWn/iLZ0Ny0famDB8nOoBZjtnDVBIgWEdHqg33XeAJpniSiEUMEfUaF0vUb/SdXyJtE\n",
       "NGKImPz9m/K/uYjJjsi+iTUek3lvEhH7Gwqrc6A9/wFugG9D0d1rCQzwVwAAAABJRU5ErkJggg==\n",
       "\" style=\"display:inline;vertical-align:middle;\" /></a></td></tr>\n",
       "<tr><td>6</td><td>Variable</td><td></td><td><a class=\"ProveItLink\" href=\"../../../../__pv_it/07527342713064c87612d00d8557c53d53d5324a0/expr.ipynb\"><img src=\"data:image/png;base64,iVBORw0KGgoAAAANSUhEUgAAAAsAAAAJBAMAAAAWSsseAAAAMFBMVEX///8yMjKqqqrMzMzu7u4i\n",
       "IiJmZmaYmJhEREQQEBC6urp2dnaIiIhUVFTc3NwAAAD87Fq/AAAAAXRSTlMAQObYZgAAAEhJREFU\n",
       "CNdjYOC7s2seAwPDygccHxgY+L4zsDUwMPB+YGA9wMDA38Dgb8DA8P4Agz6DA4O/AsNFJgMGxgKm\n",
       "MG6gyjunLE4xAAAZTBA5TB6DCwAAAABJRU5ErkJggg==\n",
       "\" style=\"display:inline;vertical-align:middle;\" /></a></td></tr>\n",
       "<tr><td>7</td><td>Variable</td><td></td><td><a class=\"ProveItLink\" href=\"../../../../__pv_it/6840a4fa6c106149dc16a131294d0c5e44f1b0480/expr.ipynb\"><img src=\"data:image/png;base64,iVBORw0KGgoAAAANSUhEUgAAAAkAAAAOBAMAAAAPuiubAAAALVBMVEX///9mZmbMzMxERESYmJiI\n",
       "iIh2dna6urqqqqoyMjIiIiIQEBBUVFTu7u4AAAD9S1JeAAAAAXRSTlMAQObYZgAAAE1JREFUCNdj\n",
       "4D29gAEIOA+ASL4GEFl3AURmgQiGOaFHGBh4HzPwKTBwvGXgTmBgnMDAJ8DAJcBQ5wBSLncBJLWN\n",
       "gYGngRFoBO9REQYGAGrcDtUkVqASAAAAAElFTkSuQmCC\n",
       "\" style=\"display:inline;vertical-align:middle;\" /></a></td></tr>\n",
       "<tr><td>8</td><td>Variable</td><td></td><td><a class=\"ProveItLink\" href=\"../../../../__pv_it/cbdfda466482236edba0ce44ac7ef39cda0af7a40/expr.ipynb\"><img src=\"data:image/png;base64,iVBORw0KGgoAAAANSUhEUgAAAAkAAAAJBAMAAAASvxsjAAAALVBMVEX///9mZmbc3NxUVFSYmJhE\n",
       "REQiIiIyMjK6uroQEBDMzMyIiIh2dnbu7u4AAABgFDGoAAAAAXRSTlMAQObYZgAAADZJREFUCNdj\n",
       "YOA9s3sBA8PKBvYEBt7ZDKwODMwPGICALwBE6m0Asx0YGIDiAgw8QJUyu/cyAAAmuwmycZ8WfQAA\n",
       "AABJRU5ErkJggg==\n",
       "\" style=\"display:inline;vertical-align:middle;\" /></a></td></tr>\n",
       "</table>\n"
      ],
      "text/plain": [
       "0. (a + b + c + a + b + a + c + b + a + c + a , a + a + a + a + a + b + b + b + c + c + c)\n",
       "   core type: ExprTuple\n",
       "   sub-expressions: 1, 2\n",
       "1. a + b + c + a + b + a + c + b + a + c + a\n",
       "   core type: Operation\n",
       "   operator: 4\n",
       "   operands: 3\n",
       "2. a + a + a + a + a + b + b + b + c + c + c\n",
       "   core type: Operation\n",
       "   operator: 4\n",
       "   operands: 5\n",
       "3. (a , b , c , a , b , a , c , b , a , c , a)\n",
       "   core type: ExprTuple\n",
       "   sub-expressions: 6, 7, 8, 6, 7, 6, 8, 7, 6, 8, 6\n",
       "4. +\n",
       "   core type: Literal\n",
       "   sub-expressions: \n",
       "5. (a , a , a , a , a , b , b , b , c , c , c)\n",
       "   core type: ExprTuple\n",
       "   sub-expressions: 6, 6, 6, 6, 6, 7, 7, 7, 8, 8, 8\n",
       "6. a\n",
       "   core type: Variable\n",
       "   sub-expressions: \n",
       "7. b\n",
       "   core type: Variable\n",
       "   sub-expressions: \n",
       "8. c\n",
       "   core type: Variable\n",
       "   sub-expressions: "
      ]
     },
     "execution_count": 4,
     "metadata": {},
     "output_type": "execute_result"
    }
   ],
   "source": [
    "# display the expression information\n",
    "expr.exprInfo()"
   ]
  },
  {
   "cell_type": "code",
   "execution_count": null,
   "metadata": {},
   "outputs": [],
   "source": []
  }
 ],
 "metadata": {
  "kernelspec": {
   "display_name": "Python 3",
   "language": "python",
   "name": "python3"
  }
 },
 "nbformat": 4,
 "nbformat_minor": 0
}
