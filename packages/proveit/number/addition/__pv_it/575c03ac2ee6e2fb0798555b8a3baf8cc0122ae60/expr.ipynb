{
 "cells": [
  {
   "cell_type": "markdown",
   "metadata": {},
   "source": [
    "Expression of type <a class=\"ProveItLink\" href=\"../../../../../../doc/html/api/proveit.logic.InSet.html\">InSet</a>\n",
    "=======================\n",
    "# from context <a class=\"ProveItLink\" href=\"../../_context_.ipynb\">proveit.number.addition</a>"
   ]
  },
  {
   "cell_type": "code",
   "execution_count": 1,
   "metadata": {},
   "outputs": [],
   "source": [
    "# import Expression classes needed to build the expression\n",
    "from proveit._common_ import a, b, c, d\n",
    "from proveit.logic import InSet\n",
    "from proveit.number import Add, Integers"
   ]
  },
  {
   "cell_type": "code",
   "execution_count": 2,
   "metadata": {},
   "outputs": [
    {
     "data": {
      "text/html": [
       "<strong id=\"expr\">expr:</strong> <a class=\"ProveItLink\" href=\"expr.ipynb\"><img src=\"data:image/png;base64,iVBORw0KGgoAAAANSUhEUgAAAKkAAAAVBAMAAADP89MSAAAAMFBMVEX////c3NwiIiJERESqqqqY\n",
       "mJh2dnZmZmYQEBDu7u4yMjJUVFTMzMyIiIi6uroAAAAs73DqAAAAAXRSTlMAQObYZgAAAiVJREFU\n",
       "OMtjYKAN4LtAvl7WB7hkTmMTnN1EhJmP2xlq0ISc/mut0GoFMlZi1bGaGKd+YeBCE7lVCRQyYGDg\n",
       "RQkATgG4BjQBBkwBvp8MrAmosmUMDClswGDhmIAsynIBrgFVAEMFELApMHA2QJhzFylpgeidDIwb\n",
       "QEH6CqseoAbCpnIVMDCYgFk8S+FuY55gCXEzA+PevEZUPVx7bwegGjIt9w6qgPS19w4MDOlgtjDC\n",
       "w7GsII1LgfiFAPMHVFPnGzD8QRHg6WNYhBpGjQz2QLO8wBxDRLAbTAZRfUCnfmVgN0A11X8CQxuK\n",
       "wIwLDKYoAvIBDFUgB0GMgpvKfWAjiPoHZH1gYLqAaipQw3cUgf3o4QoUUANS58HublJSgsQWw3O+\n",
       "BKip/AYM8w8AmeyrVi3qWrVqA5CpzsD3FUXgM1gPigDnP5ipPBvgbl0ATMFsAgwtQM9cYPBnmIDi\n",
       "ki8M7D+RBRj/orkVKMDygRMWAgrwxOaQx8DAxAAKrfkODLtYDqCY+oeBIwFFAOhyVmQBzi8M3At8\n",
       "GBiiwLytMFOlQc7OACcNrgAWdTbUUNvCUI0qsJ2BIQdFYCmDU0ECLGVNgpUyhswTGKYnMzA8AiXX\n",
       "e4fvoRoy+3oAqgB77l3UMJK++8YWaNY6SHgsh3iVr3mFsdUPc2COFcCRc4gSgOVYll3QNAArIhPw\n",
       "FrYEBNhwFc4rKSnyZ+GSkKbE1I24JBgpqGF4D2AXBwCC4qRfCa721wAAAABJRU5ErkJggg==\n",
       "\" style=\"display:inline;vertical-align:middle;\" /></a><br>"
      ],
      "text/plain": [
       "expr: (a + b + c + d) in Integers"
      ]
     },
     "execution_count": 2,
     "metadata": {},
     "output_type": "execute_result"
    }
   ],
   "source": [
    "# build up the expression from sub-expressions\n",
    "expr = InSet(Add(a, b, c, d), Integers)"
   ]
  },
  {
   "cell_type": "code",
   "execution_count": 3,
   "metadata": {},
   "outputs": [
    {
     "name": "stdout",
     "output_type": "stream",
     "text": [
      "Passed sanity check: built 'expr' is the same as the stored Expression.\n"
     ]
    }
   ],
   "source": [
    "# check that the built expression is the same as the stored expression\n",
    "%check_expr"
   ]
  },
  {
   "cell_type": "code",
   "execution_count": 4,
   "metadata": {},
   "outputs": [
    {
     "data": {
      "text/html": [
       "<table><tr><th>&nbsp;</th><th>core type</th><th>sub-expressions</th><th>expression</th></tr>\n",
       "<tr><td>0</td><td>Operation</td><td>operator:&nbsp;1<br>operands:&nbsp;2<br></td><td><a class=\"ProveItLink\" href=\"expr.ipynb\"><img src=\"data:image/png;base64,iVBORw0KGgoAAAANSUhEUgAAAKkAAAAVBAMAAADP89MSAAAAMFBMVEX////c3NwiIiJERESqqqqY\n",
       "mJh2dnZmZmYQEBDu7u4yMjJUVFTMzMyIiIi6uroAAAAs73DqAAAAAXRSTlMAQObYZgAAAiVJREFU\n",
       "OMtjYKAN4LtAvl7WB7hkTmMTnN1EhJmP2xlq0ISc/mut0GoFMlZi1bGaGKd+YeBCE7lVCRQyYGDg\n",
       "RQkATgG4BjQBBkwBvp8MrAmosmUMDClswGDhmIAsynIBrgFVAEMFELApMHA2QJhzFylpgeidDIwb\n",
       "QEH6CqseoAbCpnIVMDCYgFk8S+FuY55gCXEzA+PevEZUPVx7bwegGjIt9w6qgPS19w4MDOlgtjDC\n",
       "w7GsII1LgfiFAPMHVFPnGzD8QRHg6WNYhBpGjQz2QLO8wBxDRLAbTAZRfUCnfmVgN0A11X8CQxuK\n",
       "wIwLDKYoAvIBDFUgB0GMgpvKfWAjiPoHZH1gYLqAaipQw3cUgf3o4QoUUANS58HublJSgsQWw3O+\n",
       "BKip/AYM8w8AmeyrVi3qWrVqA5CpzsD3FUXgM1gPigDnP5ipPBvgbl0ATMFsAgwtQM9cYPBnmIDi\n",
       "ki8M7D+RBRj/orkVKMDygRMWAgrwxOaQx8DAxAAKrfkODLtYDqCY+oeBIwFFAOhyVmQBzi8M3At8\n",
       "GBiiwLytMFOlQc7OACcNrgAWdTbUUNvCUI0qsJ2BIQdFYCmDU0ECLGVNgpUyhswTGKYnMzA8AiXX\n",
       "e4fvoRoy+3oAqgB77l3UMJK++8YWaNY6SHgsh3iVr3mFsdUPc2COFcCRc4gSgOVYll3QNAArIhPw\n",
       "FrYEBNhwFc4rKSnyZ+GSkKbE1I24JBgpqGF4D2AXBwCC4qRfCa721wAAAABJRU5ErkJggg==\n",
       "\" style=\"display:inline;vertical-align:middle;\" /></a></td></tr>\n",
       "<tr><td>1</td><td>Literal</td><td></td><td><a class=\"ProveItLink\" href=\"../../../../logic/set_theory/membership/__pv_it/088cbc857536a28d4119ad9639a84270ccb0545d0/expr.ipynb\"><img src=\"data:image/png;base64,iVBORw0KGgoAAAANSUhEUgAAAAwAAAAMBAMAAACkW0HUAAAALVBMVEX///+qqqpmZmZUVFQQEBC6\n",
       "urpERETc3NyYmJjMzMwiIiIyMjKIiIju7u4AAACYsrA9AAAAAXRSTlMAQObYZgAAADxJREFUCNdj\n",
       "YOA9vWrVBgaG2b0MQMCeCyIZ2ArA1DUwyRCyahVIyWQI7xaEYm4AU7xLIdxqTQgtvGvVBgCkcQ7e\n",
       "geM/tQAAAABJRU5ErkJggg==\n",
       "\" style=\"display:inline;vertical-align:middle;\" /></a></td></tr>\n",
       "<tr><td>2</td><td>ExprTuple</td><td>3, 4</td><td><a class=\"ProveItLink\" href=\"../2d7e656a8a6d20f1841dfe774b6a6ccf1266787b0/expr.ipynb\"><img src=\"data:image/png;base64,iVBORw0KGgoAAAANSUhEUgAAAJcAAAAVBAMAAAC5yWGZAAAAMFBMVEX////c3NwiIiJERESqqqqY\n",
       "mJh2dnZmZmYQEBDu7u4yMjJUVFTMzMyIiIi6uroAAAAs73DqAAAAAXRSTlMAQObYZgAAAf9JREFU\n",
       "OMutlE9IG0EUxr+YP5tN7HbvOehJIactIqWFYvAsmFNvSqCCHozkJNheqrUWeogLQivkkCUgaHpR\n",
       "EMSCGPDoZU8K/iPYQ0UKDTVShRj7ZrrQfUnUQDOHmZffvPnyzcvLAC0dmt0anWEx7Tbaycw0cfzb\n",
       "B7n030aXo++hFCheaZj4pRkzZTkfTCEEA7CAR+yWqs7yXAD1QLuWyyQwEigCL4Gg6U712SzvH6jL\n",
       "oBHolMsmPKuiVovAecNUJ+9+sVDKCbzmMzHHhEl4tiameWpo6zDOz35KHnEQ2fsZc8Ihv0gOpLBE\n",
       "y5nuLXGxrIEKA+1p5HghptHnVEg1FuSOhTQZu4RicLFBE3MMLNroZaAjjteOsXBhTcq/RZU+lNBm\n",
       "czHK+83Adm3NCHQ56LuWkOZLQuyxgazoOCWfz33M51cp7IZ2ycCFPMaAWnXErBAVTBdis+TYxiBM\n",
       "9r1lKNdu4LmpcUbAV1L//vKxCaBNXpMqkY3hq6/AxCoIJhggn343UMsIWwPSQqSdnI7RvoVR6oO4\n",
       "rzvAK7KONxxsAOMMLKE/lVB/UfTEa+LzK9kap6LNTnZO+NnMfpwDJXnMCxE5/vGiqM7r0N4t9zy/\n",
       "ekqeigjqd/R3U0Bznaa/kz9x7+P2APC74uSdT1CTwyWmWuLy/yPmshkWN/a06Nmmd+APf5idTzDP\n",
       "WvAAAAAASUVORK5CYII=\n",
       "\" style=\"display:inline;vertical-align:middle;\" /></a></td></tr>\n",
       "<tr><td>3</td><td>Operation</td><td>operator:&nbsp;5<br>operands:&nbsp;6<br></td><td><a class=\"ProveItLink\" href=\"../26d62fa137623ccd3b0fffe4eb8a51af8181e2d90/expr.ipynb\"><img src=\"data:image/png;base64,iVBORw0KGgoAAAANSUhEUgAAAHQAAAAQBAMAAAA10UZYAAAAMFBMVEX///8yMjKqqqrMzMzu7u4i\n",
       "IiJmZmaYmJhEREQQEBC6urp2dnaIiIhUVFTc3NwAAAD87Fq/AAAAAXRSTlMAQObYZgAAAUxJREFU\n",
       "KM9jYMAALDcDGAiDFdOwiTJeIEIrwydkjh+U5leA2f8A3UEIAa4vyBI6UHq9A5TBdABNK5IAdwA2\n",
       "rVsZiNDKmMDAwHdn1zxUrbJnrqOqZNl9xgBV69vT64G+WvmA4wOKVpYfDPyoKi0XMAagCHDNY+h3\n",
       "YOD7zsDWgKKV6QsD5wZklSxzGDgKULS+L2BIZGDg/cDAegBFK5sAA38CskreD+h+vc/AEA2MiQYG\n",
       "f5DzEgUFIwUFZYEs1gSG9UBL2AQFRScKCl4AKwEbCRdg+MHA8gto9wEGfQYHZFuB0ZrvgGzJ+wNo\n",
       "tvL9YWD6wMLgr8BwkckARasBw2wUlfxAN6D4leUTA6+AMgNjAVMYN4pfeRXYLqBo5U1g4EYNcnEG\n",
       "1YQNwGg9ZXEKNXLupKOFSvaZI6gCb88s7lmALTUxEJOaUMEadAGuA/gEAHrKWexyVHXqAAAAAElF\n",
       "TkSuQmCC\n",
       "\" style=\"display:inline;vertical-align:middle;\" /></a></td></tr>\n",
       "<tr><td>4</td><td>Literal</td><td></td><td><a class=\"ProveItLink\" href=\"../../../sets/integer/__pv_it/7b9e51516f347f625fa636d7bb440e96498977000/expr.ipynb\"><img src=\"data:image/png;base64,iVBORw0KGgoAAAANSUhEUgAAAA4AAAAOBAMAAADtZjDiAAAAMFBMVEX////MzMzc3NxUVFS6urp2\n",
       "dnZERETu7u5mZmaIiIiYmJgQEBAyMjIiIiKqqqoAAAAf68ZqAAAAAXRSTlMAQObYZgAAAGlJREFU\n",
       "CNdj4Lv/98ze0wsYOE8UMBxgY2DgCGBgfRDCwMBcwKDMaMAAAulsBSCKa8IqMLeMPQFMGzIrgCiW\n",
       "Blcwl4fhAANDEANDHKsDA8MFBiYDYQYG1g0MbArpDOytCQzeOdvSzm9rAAAm6xY1AUf+1AAAAABJ\n",
       "RU5ErkJggg==\n",
       "\" style=\"display:inline;vertical-align:middle;\" /></a></td></tr>\n",
       "<tr><td>5</td><td>Literal</td><td></td><td><a class=\"ProveItLink\" href=\"../3e6688136fa3c7aefbebe51301b7c3ebf0b69c440/expr.ipynb\"><img src=\"data:image/png;base64,iVBORw0KGgoAAAANSUhEUgAAAA4AAAAOBAMAAADtZjDiAAAAJFBMVEX///+6urpUVFQQEBAiIiIy\n",
       "MjJmZmaIiIiqqqrc3Nzu7u4AAACgHpL+AAAAAXRSTlMAQObYZgAAAB5JREFUCNdjYGBgWMkAAe2k\n",
       "0Kmhoc6hoUGk6BMHYgAHOwjcado9fwAAAABJRU5ErkJggg==\n",
       "\" style=\"display:inline;vertical-align:middle;\" /></a></td></tr>\n",
       "<tr><td>6</td><td>ExprTuple</td><td>7, 8, 9, 10</td><td><a class=\"ProveItLink\" href=\"../01f3547cb6e447be93e3bf9397d84951004f68d70/expr.ipynb\"><img src=\"data:image/png;base64,iVBORw0KGgoAAAANSUhEUgAAAFAAAAAVBAMAAAAjqnRBAAAAMFBMVEX////c3NwiIiJERESqqqqY\n",
       "mJh2dnZmZmYQEBDu7u4yMjJUVFTMzMyIiIi6uroAAAAs73DqAAAAAXRSTlMAQObYZgAAAXtJREFU\n",
       "KM+Nkz9Iw0AYxV/bJG0S2nTv0E66dtBRLI4imNkpOOgmWewgghZEJyWjuLSLgwhSB0GEYsBFcLCT\n",
       "4JBSdRERGmkdOlj87q6BFFJthuSXd+++f7kAE1+Z5v8euU23h5CgXhcibG8H2KbHWVjT6lEBe9CA\n",
       "9EhmoxRVXB+yhZQT1jpOhFEpQN3Fx4i2GpVZs4EZlIlijY2K0M69q2Fba54rKPfUoXrWcUr8nk34\n",
       "YrkLQ6zftzUxgEwF81TPIo4o4DeSRa5KfaQsvuMQCZNLeRNbLBYGgO4jLnpP1mDYDHQ/KPAWmKLH\n",
       "IzMaRVRFwriNDg9kFANjF+qAG/coehPLcIZj3OGQD6Yb+4Hkqyz1LFAt4UZyVWZ0sQ8OFNdkoPag\n",
       "15aAFeobmilNK6hSl3opWRdgQ3EZ0FQWbIuN55WNsXXXwvEX7W9sggPK3rOAnPc5R2fnAqlsUPbL\n",
       "eGCfULaCF3M8QGmGjtlfxhNWxJDTGAvAJZvUBL9C2sUvYK1jupu6jYwAAAAASUVORK5CYII=\n",
       "\" style=\"display:inline;vertical-align:middle;\" /></a></td></tr>\n",
       "<tr><td>7</td><td>Variable</td><td></td><td><a class=\"ProveItLink\" href=\"../../../../__pv_it/07527342713064c87612d00d8557c53d53d5324a0/expr.ipynb\"><img src=\"data:image/png;base64,iVBORw0KGgoAAAANSUhEUgAAAAsAAAAJBAMAAAAWSsseAAAAMFBMVEX///8yMjKqqqrMzMzu7u4i\n",
       "IiJmZmaYmJhEREQQEBC6urp2dnaIiIhUVFTc3NwAAAD87Fq/AAAAAXRSTlMAQObYZgAAAEhJREFU\n",
       "CNdjYOC7s2seAwPDygccHxgY+L4zsDUwMPB+YGA9wMDA38Dgb8DA8P4Agz6DA4O/AsNFJgMGxgKm\n",
       "MG6gyjunLE4xAAAZTBA5TB6DCwAAAABJRU5ErkJggg==\n",
       "\" style=\"display:inline;vertical-align:middle;\" /></a></td></tr>\n",
       "<tr><td>8</td><td>Variable</td><td></td><td><a class=\"ProveItLink\" href=\"../../../../__pv_it/6840a4fa6c106149dc16a131294d0c5e44f1b0480/expr.ipynb\"><img src=\"data:image/png;base64,iVBORw0KGgoAAAANSUhEUgAAAAkAAAAOBAMAAAAPuiubAAAALVBMVEX///9mZmbMzMxERESYmJiI\n",
       "iIh2dna6urqqqqoyMjIiIiIQEBBUVFTu7u4AAAD9S1JeAAAAAXRSTlMAQObYZgAAAE1JREFUCNdj\n",
       "4D29gAEIOA+ASL4GEFl3AURmgQiGOaFHGBh4HzPwKTBwvGXgTmBgnMDAJ8DAJcBQ5wBSLncBJLWN\n",
       "gYGngRFoBO9REQYGAGrcDtUkVqASAAAAAElFTkSuQmCC\n",
       "\" style=\"display:inline;vertical-align:middle;\" /></a></td></tr>\n",
       "<tr><td>9</td><td>Variable</td><td></td><td><a class=\"ProveItLink\" href=\"../../../../__pv_it/cbdfda466482236edba0ce44ac7ef39cda0af7a40/expr.ipynb\"><img src=\"data:image/png;base64,iVBORw0KGgoAAAANSUhEUgAAAAkAAAAJBAMAAAASvxsjAAAALVBMVEX///9mZmbc3NxUVFSYmJhE\n",
       "REQiIiIyMjK6uroQEBDMzMyIiIh2dnbu7u4AAABgFDGoAAAAAXRSTlMAQObYZgAAADZJREFUCNdj\n",
       "YOA9s3sBA8PKBvYEBt7ZDKwODMwPGICALwBE6m0Asx0YGIDiAgw8QJUyu/cyAAAmuwmycZ8WfQAA\n",
       "AABJRU5ErkJggg==\n",
       "\" style=\"display:inline;vertical-align:middle;\" /></a></td></tr>\n",
       "<tr><td>10</td><td>Variable</td><td></td><td><a class=\"ProveItLink\" href=\"../../../../__pv_it/3a5de44ed6135dbbdbbeec6704c741e238f127300/expr.ipynb\"><img src=\"data:image/png;base64,iVBORw0KGgoAAAANSUhEUgAAAAsAAAAOBAMAAAALT/umAAAAMFBMVEX////MzMyYmJiIiIhUVFTc\n",
       "3NwyMjIiIiJ2dnbu7u6qqqpmZmYQEBBERES6uroAAABkyy6XAAAAAXRSTlMAQObYZgAAAFhJREFU\n",
       "CNdjYGBg4LuzgQEE+BeAqfcTwFQ7mGTIBmJW575fQOpNAO9PIOcTA3cCAwPLBwb2BqCeCwzzHzAw\n",
       "xBswrGeYwDB/AYMblwADmwJXNQdIm52sHQMAfyoTCZukXIEAAAAASUVORK5CYII=\n",
       "\" style=\"display:inline;vertical-align:middle;\" /></a></td></tr>\n",
       "</table>\n"
      ],
      "text/plain": [
       "0. (a + b + c + d) in Integers\n",
       "   core type: Operation\n",
       "   operator: 1\n",
       "   operands: 2\n",
       "1. in\n",
       "   core type: Literal\n",
       "   sub-expressions: \n",
       "2. (a + b + c + d , Integers)\n",
       "   core type: ExprTuple\n",
       "   sub-expressions: 3, 4\n",
       "3. a + b + c + d\n",
       "   core type: Operation\n",
       "   operator: 5\n",
       "   operands: 6\n",
       "4. Integers\n",
       "   core type: Literal\n",
       "   sub-expressions: \n",
       "5. +\n",
       "   core type: Literal\n",
       "   sub-expressions: \n",
       "6. (a , b , c , d)\n",
       "   core type: ExprTuple\n",
       "   sub-expressions: 7, 8, 9, 10\n",
       "7. a\n",
       "   core type: Variable\n",
       "   sub-expressions: \n",
       "8. b\n",
       "   core type: Variable\n",
       "   sub-expressions: \n",
       "9. c\n",
       "   core type: Variable\n",
       "   sub-expressions: \n",
       "10. d\n",
       "    core type: Variable\n",
       "    sub-expressions: "
      ]
     },
     "execution_count": 4,
     "metadata": {},
     "output_type": "execute_result"
    }
   ],
   "source": [
    "# display the expression information\n",
    "expr.exprInfo()"
   ]
  },
  {
   "cell_type": "code",
   "execution_count": null,
   "metadata": {},
   "outputs": [],
   "source": []
  }
 ],
 "metadata": {
  "kernelspec": {
   "display_name": "Python 3",
   "language": "python",
   "name": "python3"
  }
 },
 "nbformat": 4,
 "nbformat_minor": 0
}
