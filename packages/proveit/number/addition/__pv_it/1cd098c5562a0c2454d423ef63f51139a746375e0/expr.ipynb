{
 "cells": [
  {
   "cell_type": "markdown",
   "metadata": {},
   "source": [
    "Expression of type <a class=\"ProveItLink\" href=\"../../../../../../doc/html/api/proveit.ExprTuple.html\">ExprTuple</a>\n",
    "=======================\n",
    "# from context <a class=\"ProveItLink\" href=\"../../_context_.ipynb\">proveit.number.addition</a>"
   ]
  },
  {
   "cell_type": "code",
   "execution_count": 1,
   "metadata": {},
   "outputs": [],
   "source": [
    "# import Expression classes needed to build the expression\n",
    "from proveit import ExprTuple\n",
    "from proveit._common_ import x\n",
    "from proveit.number import Add"
   ]
  },
  {
   "cell_type": "code",
   "execution_count": 2,
   "metadata": {},
   "outputs": [
    {
     "data": {
      "text/html": [
       "<strong id=\"expr\">expr:</strong> <a class=\"ProveItLink\" href=\"expr.ipynb\"><img src=\"data:image/png;base64,iVBORw0KGgoAAAANSUhEUgAAAGAAAAAVBAMAAABLWfZ5AAAAMFBMVEX////c3NwiIiJERESqqqqY\n",
       "mJh2dnZmZmYQEBDu7u4yMjJUVFTMzMyIiIi6uroAAAAs73DqAAAAAXRSTlMAQObYZgAAAZ1JREFU\n",
       "OMuVk79Lw0AUx7+hv5LUxAziIsUubiIOCi6CsyhWB4cOkklxqDg5KVRxUVALQhGnIjgYRFr8B7o7\n",
       "GAoqolJxEkEogpuILz8uZ++KYCC5e3fvk/fuve8B/35MF41zZuSH/OE9NBcE38Qzfa6AFb7kT7uq\n",
       "oZWqC8Q6vWcyoJeYWREAHTDc0EuzIuApcpgXc7KhlkKvuBsBO5HDkQBoRbxBAkyeSGxCIEawJgMp\n",
       "G1AKtekNILnKPHsfeu7IYwmnMqDngDLmclu0yIJpdmJAzQKT2JcBlapto4kpyq4YAkkYrTgV+RXf\n",
       "MtBNQAmXfkdaLALSw954HQIpxznZdZxqBAB7bQDFdQNgu0NKXmmUL/orTwnor1NYSmlUBmJ06Fmj\n",
       "hXtqlHdor+8JqwmDJnmqkwRQLeOfsaLiBmXVPmhtJjeGDLyyvnRoXBba+PLijVdhOo52QKI5vC0X\n",
       "KDAuoFqyNDbbpWFav6VBcgq8TA5wyRV8xXFlJN2/5a1VBOCY3j4ZUNgFSvvJuHy75u3SFR1kC43g\n",
       "imZC81HQqlHHD9X9b8gU9hFdAAAAAElFTkSuQmCC\n",
       "\" style=\"display:inline;vertical-align:middle;\" /></a><br>"
      ],
      "text/plain": [
       "expr: ([+](x) , x)"
      ]
     },
     "execution_count": 2,
     "metadata": {},
     "output_type": "execute_result"
    }
   ],
   "source": [
    "# build up the expression from sub-expressions\n",
    "expr = ExprTuple(Add(x), x)"
   ]
  },
  {
   "cell_type": "code",
   "execution_count": 3,
   "metadata": {},
   "outputs": [
    {
     "name": "stdout",
     "output_type": "stream",
     "text": [
      "Passed sanity check: built 'expr' is the same as the stored Expression.\n"
     ]
    }
   ],
   "source": [
    "# check that the built expression is the same as the stored expression\n",
    "%check_expr"
   ]
  },
  {
   "cell_type": "code",
   "execution_count": 4,
   "metadata": {},
   "outputs": [
    {
     "data": {
      "text/html": [
       "<table><tr><th>&nbsp;</th><th>core type</th><th>sub-expressions</th><th>expression</th></tr>\n",
       "<tr><td>0</td><td>ExprTuple</td><td>1, 4</td><td><a class=\"ProveItLink\" href=\"expr.ipynb\"><img src=\"data:image/png;base64,iVBORw0KGgoAAAANSUhEUgAAAGAAAAAVBAMAAABLWfZ5AAAAMFBMVEX////c3NwiIiJERESqqqqY\n",
       "mJh2dnZmZmYQEBDu7u4yMjJUVFTMzMyIiIi6uroAAAAs73DqAAAAAXRSTlMAQObYZgAAAZ1JREFU\n",
       "OMuVk79Lw0AUx7+hv5LUxAziIsUubiIOCi6CsyhWB4cOkklxqDg5KVRxUVALQhGnIjgYRFr8B7o7\n",
       "GAoqolJxEkEogpuILz8uZ++KYCC5e3fvk/fuve8B/35MF41zZuSH/OE9NBcE38Qzfa6AFb7kT7uq\n",
       "oZWqC8Q6vWcyoJeYWREAHTDc0EuzIuApcpgXc7KhlkKvuBsBO5HDkQBoRbxBAkyeSGxCIEawJgMp\n",
       "G1AKtekNILnKPHsfeu7IYwmnMqDngDLmclu0yIJpdmJAzQKT2JcBlapto4kpyq4YAkkYrTgV+RXf\n",
       "MtBNQAmXfkdaLALSw954HQIpxznZdZxqBAB7bQDFdQNgu0NKXmmUL/orTwnor1NYSmlUBmJ06Fmj\n",
       "hXtqlHdor+8JqwmDJnmqkwRQLeOfsaLiBmXVPmhtJjeGDLyyvnRoXBba+PLijVdhOo52QKI5vC0X\n",
       "KDAuoFqyNDbbpWFav6VBcgq8TA5wyRV8xXFlJN2/5a1VBOCY3j4ZUNgFSvvJuHy75u3SFR1kC43g\n",
       "imZC81HQqlHHD9X9b8gU9hFdAAAAAElFTkSuQmCC\n",
       "\" style=\"display:inline;vertical-align:middle;\" /></a></td></tr>\n",
       "<tr><td>1</td><td>Operation</td><td>operator:&nbsp;2<br>operands:&nbsp;3<br></td><td><a class=\"ProveItLink\" href=\"../04c5620a900273c331fa736dcde443e5ed3d45d60/expr.ipynb\"><img src=\"data:image/png;base64,iVBORw0KGgoAAAANSUhEUgAAADcAAAAVBAMAAAAQkWtIAAAAMFBMVEX///9ERESYmJhUVFQQEBBm\n",
       "Zmaqqqrc3Nzu7u66urp2dnbMzMwyMjIiIiKIiIgAAAC8mv5nAAAAAXRSTlMAQObYZgAAAOZJREFU\n",
       "KM9jYMAH3p6GsXRugql5UK4mEK9EqAMzuQ2gPNYNmJI8DTDuAagIRwFc8h1crRZUhO0BXNIDLtmC\n",
       "Icl5AC7JmIAuybqAgYF9nXleHAMDVwC6JI8CA0MXg66CL1DwALokywQGhgUM7xmygTY4oEvyAyUb\n",
       "GAzBPv4AFGE9c+asz5kzBnBJBgY/uCSqsQlAgv03Awc2YxmBDlLn+8DwgoGBCcNBQPezfWJ0YH+A\n",
       "zSucFxg45FasegTy1QSM4HPHCD5OhKQWXHIdnijjOIApyQ6LbGZgNL69DU8wkGRSB+W+ZmAAAPpn\n",
       "UA31NYeUAAAAAElFTkSuQmCC\n",
       "\" style=\"display:inline;vertical-align:middle;\" /></a></td></tr>\n",
       "<tr><td>2</td><td>Literal</td><td></td><td><a class=\"ProveItLink\" href=\"../3e6688136fa3c7aefbebe51301b7c3ebf0b69c440/expr.ipynb\"><img src=\"data:image/png;base64,iVBORw0KGgoAAAANSUhEUgAAAA4AAAAOBAMAAADtZjDiAAAAJFBMVEX///+6urpUVFQQEBAiIiIy\n",
       "MjJmZmaIiIiqqqrc3Nzu7u4AAACgHpL+AAAAAXRSTlMAQObYZgAAAB5JREFUCNdjYGBgWMkAAe2k\n",
       "0Kmhoc6hoUGk6BMHYgAHOwjcado9fwAAAABJRU5ErkJggg==\n",
       "\" style=\"display:inline;vertical-align:middle;\" /></a></td></tr>\n",
       "<tr><td>3</td><td>ExprTuple</td><td>4</td><td><a class=\"ProveItLink\" href=\"../89afe848f9909271372a46da8b9aa311d53c45ae0/expr.ipynb\"><img src=\"data:image/png;base64,iVBORw0KGgoAAAANSUhEUgAAABgAAAAVBAMAAACuxzMVAAAAMFBMVEX////c3NwiIiJERESqqqqY\n",
       "mJh2dnZmZmYQEBDu7u4yMjJUVFTMzMyIiIi6uroAAAAs73DqAAAAAXRSTlMAQObYZgAAAKxJREFU\n",
       "GNNjYEABfBcgNOsDIHEaJloDxCthHC4GBt4LMA5rAgPHBBiHs4HhFcIoE4YyICl2W+Q6UHU6w1Kg\n",
       "fAKrKocCA4MXQx8DAxsD7weWAwwMLxj+AWUYuA1Aes6DOAwMHBcgnBYQJX+AYQJImSnQNoH7DLxA\n",
       "ThTQPAb/AAsGWQaQ0Y8YGCZfm5YbAOSsY+AQQHIO0HlQwHYByQuzgFgaxtkIxIxQD/EeYAAAhW8k\n",
       "93ErH/0AAAAASUVORK5CYII=\n",
       "\" style=\"display:inline;vertical-align:middle;\" /></a></td></tr>\n",
       "<tr><td>4</td><td>Variable</td><td></td><td><a class=\"ProveItLink\" href=\"../../../../__pv_it/530be409e3083890784cf1d7b28c9e67e90af9360/expr.ipynb\"><img src=\"data:image/png;base64,iVBORw0KGgoAAAANSUhEUgAAAAsAAAAJBAMAAAAWSsseAAAAKlBMVEX///9ERETMzMwQEBAiIiKY\n",
       "mJju7u5mZmaqqqpUVFSIiIh2dnbc3NwAAAA/vyDhAAAAAXRSTlMAQObYZgAAAENJREFUCNdjYDi9\n",
       "8sTyBQxsG1hdmR0YuBm4LnAoMLAxcAowgADzAjB1VoEhgYH1wFoGrgSG3gBhhlMMDImrs3cFMAAA\n",
       "t0YN+iTRa+sAAAAASUVORK5CYII=\n",
       "\" style=\"display:inline;vertical-align:middle;\" /></a></td></tr>\n",
       "</table>\n"
      ],
      "text/plain": [
       "0. ([+](x) , x)\n",
       "   core type: ExprTuple\n",
       "   sub-expressions: 1, 4\n",
       "1. [+](x)\n",
       "   core type: Operation\n",
       "   operator: 2\n",
       "   operands: 3\n",
       "2. +\n",
       "   core type: Literal\n",
       "   sub-expressions: \n",
       "3. (x)\n",
       "   core type: ExprTuple\n",
       "   sub-expressions: 4\n",
       "4. x\n",
       "   core type: Variable\n",
       "   sub-expressions: "
      ]
     },
     "execution_count": 4,
     "metadata": {},
     "output_type": "execute_result"
    }
   ],
   "source": [
    "# display the expression information\n",
    "expr.exprInfo()"
   ]
  },
  {
   "cell_type": "code",
   "execution_count": null,
   "metadata": {},
   "outputs": [],
   "source": []
  }
 ],
 "metadata": {
  "kernelspec": {
   "display_name": "Python 3",
   "language": "python",
   "name": "python3"
  }
 },
 "nbformat": 4,
 "nbformat_minor": 0
}
