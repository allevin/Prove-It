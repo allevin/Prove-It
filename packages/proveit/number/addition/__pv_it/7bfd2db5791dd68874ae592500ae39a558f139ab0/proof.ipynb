{
 "cells": [
  {
   "cell_type": "markdown",
   "metadata": {},
   "source": [
    "Show the Proof\n",
    "========"
   ]
  },
  {
   "cell_type": "code",
   "execution_count": 1,
   "metadata": {},
   "outputs": [
    {
     "data": {
      "text/html": [
       "<table><tr><th>&nbsp;</th><th>step type</th><th>requirements</th><th>statement</th></tr>\n",
       "<tr><td>0</td><td>assumption</td><td></td><td><span style=\"font-size:20px;\"><a class=\"ProveItLink\" href=\"../12c4359c6776cc652e17867a64225eb310fd84500/expr.ipynb\"><img src=\"data:image/png;base64,iVBORw0KGgoAAAANSUhEUgAAAEMAAAAVBAMAAADvM06qAAAAMFBMVEX////c3NxERESqqqpUVFS6\n",
       "urrMzMwyMjIQEBCIiIh2dnYiIiLu7u5mZmaYmJgAAABXZE4RAAAAAXRSTlMAQObYZgAAATtJREFU\n",
       "KM9jYGDgu8eAC7CtEgBRPLsYcAO2ZhDJ+YGB4Ug3qgxPvVINA+/+zQwM10FcrgYgUYKmm+lBEgMD\n",
       "P5CxAq7kM5oSlm2cExg4kJWw/oFKnazevR2sJPyAG6oSrg1Q19UdgJqS5nD8AIoSds8pD0BsoQMw\n",
       "ixIs2RTgSngLGBjOKzB8A7EV4W5J4A14CVLyHsTLCGBgsD/A0AXyqwJCCYMPSwaQwX6BgSGljQHs\n",
       "+79AirV7926ocxMYjvBUgFjqQBdEJDAw7GVg/QdyrQOSKWwLQKZwLwDxCkDBwgvyNs8GJCUMj5lg\n",
       "bgF5+BsDB0g1gx+yEi4hZE87M1wBy5wOgEVAAMSFCCVH5oKDhYGxNgFMs9Y3AcnjKHEEA8zuEB/B\n",
       "AaYSDABWwodXCTi98OzEl+pawRTfYvxpFwBRGFL1dEH1yQAAAABJRU5ErkJggg==\n",
       "\" style=\"display:inline;vertical-align:middle;\" /></a> <a class=\"ProveItLink\" href=\"proof.ipynb\" style=\"text-decoration: none\">&#x22A2;&nbsp;</a><a class=\"ProveItLink\" href=\"../84b571b826355ca0e99ef28b2931c0a568576dec0/expr.ipynb\"><img src=\"data:image/png;base64,iVBORw0KGgoAAAANSUhEUgAAADEAAAAPBAMAAAC/wjryAAAAMFBMVEX////c3NxmZmbMzMxERESY\n",
       "mJiIiIh2dna6urqqqqoyMjIiIiIQEBBUVFTu7u4AAAAiO1wTAAAAAXRSTlMAQObYZgAAAOFJREFU\n",
       "GNNj4LuzgQEFvPri9YBB+/cEBgauC6gyDK7MDgwMH4AM/gloMrcN0hgYDgAZ/Q8gAnxZu3cvADFu\n",
       "rOM1AMtUQ5VaxUEZl2351oFl1qZdBfEZ/WCmXeZMMAHJ8H1h4DcA8lkE4DIMGqwJQBnOfww8BUD+\n",
       "EwaEDO+Dy0AZpgUM/ApAfs/u3VAXXGbgu/AKKMOtwNAfAOTbIulhMGc+APaOPsjdr5FlWCcAPQu0\n",
       "/jiIzxuAJMNQCJThncAEDh6+HTAZDwaw7Qx811QhAlLKELrrD1A93wLk8Jq7ejcyHwB5hj8sFLbi\n",
       "XAAAAABJRU5ErkJggg==\n",
       "\" style=\"display:inline;vertical-align:middle;\" /></a></span></td></tr>\n",
       "</table>"
      ],
      "text/plain": [
       "<proveit._core_.proof._ShowProof at 0x7f94e47b4048>"
      ]
     },
     "execution_count": 1,
     "metadata": {},
     "output_type": "execute_result"
    }
   ],
   "source": [
    "import proveit\n",
    "%show_proof"
   ]
  },
  {
   "cell_type": "code",
   "execution_count": null,
   "metadata": {},
   "outputs": [],
   "source": []
  }
 ],
 "metadata": {
  "kernelspec": {
   "display_name": "Python 3",
   "language": "python",
   "name": "python3"
  }
 },
 "nbformat": 4,
 "nbformat_minor": 0
}
