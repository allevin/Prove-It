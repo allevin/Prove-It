{
 "cells": [
  {
   "cell_type": "markdown",
   "metadata": {},
   "source": [
    "Expression of type <a class=\"ProveItLink\" href=\"../../../../../../doc/html/api/proveit.ExprTuple.html\">ExprTuple</a>\n",
    "=======================\n",
    "# from context <a class=\"ProveItLink\" href=\"../../_context_.ipynb\">proveit.number.addition</a>"
   ]
  },
  {
   "cell_type": "code",
   "execution_count": 1,
   "metadata": {},
   "outputs": [],
   "source": [
    "# import Expression classes needed to build the expression\n",
    "from proveit import ExprTuple\n",
    "from proveit._common_ import a, b, c\n",
    "from proveit.number import Add"
   ]
  },
  {
   "cell_type": "code",
   "execution_count": 2,
   "metadata": {},
   "outputs": [
    {
     "data": {
      "text/html": [
       "<strong id=\"expr\">expr:</strong> <a class=\"ProveItLink\" href=\"expr.ipynb\"><img src=\"data:image/png;base64,iVBORw0KGgoAAAANSUhEUgAAAc8AAAAVBAMAAADShHjlAAAAMFBMVEX////c3NwiIiJERESqqqqY\n",
       "mJh2dnZmZmYQEBDu7u4yMjJUVFTMzMyIiIi6uroAAAAs73DqAAAAAXRSTlMAQObYZgAAAw5JREFU\n",
       "WMPlmD9oE1Ecx79t01wvbZPsHcxWFyGLoxicld7kKMVBFysBsUMdtCIOgiUuEuiQUOjgZemgKEJp\n",
       "wEVwyaSIplSnIpZGkiKFKr7T/H53v3uX5KX/BntDEj7vvt/v7717791dgBNzJGv/fx+veB/voloW\n",
       "7/fvth/NAQ3tVxkjJ6uqPp5FNlX2UVjlsC9Eb8PEiplTGRgXM9dOt3+0wgCdAPAkpGGgnxJ1VdId\n",
       "SWdDAqmcWeRlYKQQBLF2t5O7IaCdETguhTQE9FOiDt1QK0KXE9gumEUWgW+RGfFM/x1lzWF1tIsh\n",
       "gauGkUM5zKqvgdWb8zIjsfrJkWU8nfkswcT7zbSwZA1n+L5E7Gv1aqhJN9SKYDkVwaBSf2EUGc9j\n",
       "Wf3eTA81ZGopiz0BxhawJOfVPM7LsWMNZ/i+RN5uJDKhJt1QK4LkXAQBu4lU1SQyVsaCGoUdWFmZ\n",
       "MVXAQwGKNZwV4JSDW7KjrCEQ8KXCHmPICTXphloRJOciCMR2MTJtEpm8h9/AaAODNZkxB/wUYC28\n",
       "gBQ4IzvKGgIBX59oTbqhVgTJ18IL0CojlTeJHGt4HU1lUfImgOW6S49c17s1TSK5I0Dzn3EQ2H/n\n",
       "1ZzrnnbdCmsCgHwFad8W9Mi2oVZEQN5sDwCDwTy2HZNI1dEHatLUMIWCGMwWrN0gGPgVuqIKxBq2\n",
       "GDvWEAj4+kRr0g21ItpyvwjyU7fRuwWTSDV11aQv5fA6VhUZezT3CaihHQ4Cu4XR8kWRyhrenXxf\n",
       "KkwNv2MjKjJgqBVBci6C/aqhVdwhEsNlXFfbuBObjMvl8Rx3JHgJ3BBgGRfysgzW8P3G96UFk0e8\n",
       "WspERvqGWhEk5yLYL2etmER6t5ev3r1n/c26TF384EhgzdTl5J6ofz+3ISxZw1ug70t7/Wz9I4o/\n",
       "IiN9Q60I3nuoCN5SV28bRSKxgZF018eUPp6Muj0HCfLF8Mmon4Tej4DD011fTnsDYKsnkMTpYaiT\n",
       "rYNGznR8TTvKwzn2RLvsrY3jTh0//n8YRr31OXAC/kpRrwJ/ACPsdQ+rEpUBAAAAAElFTkSuQmCC\n",
       "\" style=\"display:inline;vertical-align:middle;\" /></a><br>"
      ],
      "text/plain": [
       "expr: (a + b + c + a + b + a + c , a + a + b + c + b + a + c)"
      ]
     },
     "execution_count": 2,
     "metadata": {},
     "output_type": "execute_result"
    }
   ],
   "source": [
    "# build up the expression from sub-expressions\n",
    "expr = ExprTuple(Add(a, b, c, a, b, a, c), Add(a, a, b, c, b, a, c))"
   ]
  },
  {
   "cell_type": "code",
   "execution_count": 3,
   "metadata": {},
   "outputs": [
    {
     "name": "stdout",
     "output_type": "stream",
     "text": [
      "Passed sanity check: built 'expr' is the same as the stored Expression.\n"
     ]
    }
   ],
   "source": [
    "# check that the built expression is the same as the stored expression\n",
    "%check_expr"
   ]
  },
  {
   "cell_type": "code",
   "execution_count": 4,
   "metadata": {},
   "outputs": [
    {
     "data": {
      "text/html": [
       "<table><tr><th>&nbsp;</th><th>core type</th><th>sub-expressions</th><th>expression</th></tr>\n",
       "<tr><td>0</td><td>ExprTuple</td><td>1, 2</td><td><a class=\"ProveItLink\" href=\"expr.ipynb\"><img src=\"data:image/png;base64,iVBORw0KGgoAAAANSUhEUgAAAc8AAAAVBAMAAADShHjlAAAAMFBMVEX////c3NwiIiJERESqqqqY\n",
       "mJh2dnZmZmYQEBDu7u4yMjJUVFTMzMyIiIi6uroAAAAs73DqAAAAAXRSTlMAQObYZgAAAw5JREFU\n",
       "WMPlmD9oE1Ecx79t01wvbZPsHcxWFyGLoxicld7kKMVBFysBsUMdtCIOgiUuEuiQUOjgZemgKEJp\n",
       "wEVwyaSIplSnIpZGkiKFKr7T/H53v3uX5KX/BntDEj7vvt/v7717791dgBNzJGv/fx+veB/voloW\n",
       "7/fvth/NAQ3tVxkjJ6uqPp5FNlX2UVjlsC9Eb8PEiplTGRgXM9dOt3+0wgCdAPAkpGGgnxJ1VdId\n",
       "SWdDAqmcWeRlYKQQBLF2t5O7IaCdETguhTQE9FOiDt1QK0KXE9gumEUWgW+RGfFM/x1lzWF1tIsh\n",
       "gauGkUM5zKqvgdWb8zIjsfrJkWU8nfkswcT7zbSwZA1n+L5E7Gv1aqhJN9SKYDkVwaBSf2EUGc9j\n",
       "Wf3eTA81ZGopiz0BxhawJOfVPM7LsWMNZ/i+RN5uJDKhJt1QK4LkXAQBu4lU1SQyVsaCGoUdWFmZ\n",
       "MVXAQwGKNZwV4JSDW7KjrCEQ8KXCHmPICTXphloRJOciCMR2MTJtEpm8h9/AaAODNZkxB/wUYC28\n",
       "gBQ4IzvKGgIBX59oTbqhVgTJ18IL0CojlTeJHGt4HU1lUfImgOW6S49c17s1TSK5I0Dzn3EQ2H/n\n",
       "1ZzrnnbdCmsCgHwFad8W9Mi2oVZEQN5sDwCDwTy2HZNI1dEHatLUMIWCGMwWrN0gGPgVuqIKxBq2\n",
       "GDvWEAj4+kRr0g21ItpyvwjyU7fRuwWTSDV11aQv5fA6VhUZezT3CaihHQ4Cu4XR8kWRyhrenXxf\n",
       "KkwNv2MjKjJgqBVBci6C/aqhVdwhEsNlXFfbuBObjMvl8Rx3JHgJ3BBgGRfysgzW8P3G96UFk0e8\n",
       "WspERvqGWhEk5yLYL2etmER6t5ev3r1n/c26TF384EhgzdTl5J6ofz+3ISxZw1ug70t7/Wz9I4o/\n",
       "IiN9Q60I3nuoCN5SV28bRSKxgZF018eUPp6Muj0HCfLF8Mmon4Tej4DD011fTnsDYKsnkMTpYaiT\n",
       "rYNGznR8TTvKwzn2RLvsrY3jTh0//n8YRr31OXAC/kpRrwJ/ACPsdQ+rEpUBAAAAAElFTkSuQmCC\n",
       "\" style=\"display:inline;vertical-align:middle;\" /></a></td></tr>\n",
       "<tr><td>1</td><td>Operation</td><td>operator:&nbsp;4<br>operands:&nbsp;3<br></td><td><a class=\"ProveItLink\" href=\"../9388f4cb52022d13aef71d5cfb1f6e9130e470570/expr.ipynb\"><img src=\"data:image/png;base64,iVBORw0KGgoAAAANSUhEUgAAAN0AAAAQBAMAAABgnGdDAAAAMFBMVEX///8yMjKqqqrMzMzu7u4i\n",
       "IiJmZmaYmJhEREQQEBC6urp2dnaIiIhUVFTc3NwAAAD87Fq/AAAAAXRSTlMAQObYZgAAAclJREFU\n",
       "OMudlD9Lw1AUxU9jGmuLbTOIk1AQN6EZdesqUu0kCA51UhAxH6GbiyAOLipFcBIEBXHRDgHFQSNU\n",
       "B0Uo2C9QLG2xHRxMbB99J8U/6V1e+HFzzn33vfuA3kjvwneorxn0HWN9/BMo+q+x3PmoeQF+AsBc\n",
       "Z40lPKA3xRuK1V7DDQ/oyZBisrOepjygN+Unv0imD78L/NMvWrrMs1qg9GCy/GzhmkHl/rjMYmP2\n",
       "C4OuriDqlW0Ax+VQlf3mc6gTGNjDCHc8j20uXm0hZpB6V1eQ6cNABtEmtBz7JVPYJzBjYZPAu4lV\n",
       "9lMaGDqTgaQrSjpAyMRwFUGL/ZaBDwJv3vNzwBL7aXHEsjKQdLvEvcc5zLuN0HR9ZEfX3SlaQLhJ\n",
       "oNWWlIH63fFlXV/UdXdcg1mcmjIQukTc1lhIIkXV16A1ZBD99OzPAUpVpeKd8dtIyUDS7RL3ciTw\n",
       "qBjkVxdHIYCz20EZqDUMx8fZz+icuQCSrkhx9m8iYCoLET6dJ6wzeAbOCYxiInvGh5PQigQkXZGS\n",
       "RcRwxuRu6o7l07cmA61gc8cr9tHWIV++0gpfIElXzMOaffP76+HnfQF8v2dhyzcATv4ERL4AvdOW\n",
       "5fw63AIAAAAASUVORK5CYII=\n",
       "\" style=\"display:inline;vertical-align:middle;\" /></a></td></tr>\n",
       "<tr><td>2</td><td>Operation</td><td>operator:&nbsp;4<br>operands:&nbsp;5<br></td><td><a class=\"ProveItLink\" href=\"../9d5c4ad6998ac966a6625da24003bb6121f88bf20/expr.ipynb\"><img src=\"data:image/png;base64,iVBORw0KGgoAAAANSUhEUgAAAN0AAAAQBAMAAABgnGdDAAAAMFBMVEX///8yMjKqqqrMzMzu7u4i\n",
       "IiJmZmaYmJhEREQQEBC6urp2dnaIiIhUVFTc3NwAAAD87Fq/AAAAAXRSTlMAQObYZgAAAcJJREFU\n",
       "OMutlL9LAmEYx79e52VK6g3SJAjRJnhjbbdGmE5C0HBNBRHdn+DWEkRDS4UITUJgEC3lcFA02AXW\n",
       "UARC/gOSqKRDQx754vu8cp1B7/LChy+f98fzPi8wyUgfeSXktyz+ccQ9E77an6Vyw5W0XSOrwzmS\n",
       "EMB4RByS5UaCXddIcjiXdQGMRyZfL5T1XO8KE64Xrl8XBFnzodQgxFd/NGlkpXJLZXH7lYKRlxH5\n",
       "xtaAUiPQEm6vgANKMnl0CJg6RozI5D4iGrGPvIwsFX1ZhHtQ8tT+YWKLkpSOEwKWLewRmdTFzAUP\n",
       "OC/b0ikCJmZb8FvU/g6sU7IBfIoRWhwliojBA847Is47ziPjXISiqrFDVXW6qA+5Q0kOwZ4Q+dmH\n",
       "qq6pqtOcfgNlkwfMS4hzeRZS0PnNh78gtWRynDaUrhARzjdov12dB5x3RJynkMCTpPEyuY3Z6DxZ\n",
       "r8OKw8DgtNN0PW1YYQY4L4sMzm/CZ0q5EK3WHBYMqn/GDo28AJe0OAmlRgDnZREDIW3QJtXFKpU1\n",
       "7bP9IiHpe5NGlIqt08dX36QXzHlZP2zbdxP+L79Ekt6/l9t/FrQ8yXjk3BMQ8g32/ZblChA8MwAA\n",
       "AABJRU5ErkJggg==\n",
       "\" style=\"display:inline;vertical-align:middle;\" /></a></td></tr>\n",
       "<tr><td>3</td><td>ExprTuple</td><td>7, 6, 8, 7, 6, 7, 8</td><td><a class=\"ProveItLink\" href=\"../43099df92963bcddbe2ab81d55c2d24d891905a90/expr.ipynb\"><img src=\"data:image/png;base64,iVBORw0KGgoAAAANSUhEUgAAAIgAAAAVBAMAAABvbLv8AAAAMFBMVEX////c3NwiIiJERESqqqqY\n",
       "mJh2dnZmZmYQEBDu7u4yMjJUVFTMzMyIiIi6uroAAAAs73DqAAAAAXRSTlMAQObYZgAAAcVJREFU\n",
       "OMutlD9Iw0AUxr/apGla22R3qJuT0EFHsTiKYGan4qCLSkF0ElQQN7WTiEtFcBBB6iCKIBZcBAcz\n",
       "CYKR6iQiNP4bBBXf3SVa8c5BDTT8+n25997dexzwL0/a/dt6vUqv4zrB3G1Wfqz0Jui3Xi8kyuqU\n",
       "Ki8BpL7sxsqpg6g8PY94sV6oFdVBVJ45hZsvQv8PJ6j02jBO78j+yLT4v+FtB+EHvAoHiYem02tb\n",
       "0OLwOTCINcJrO+qLpQ+wxNqjakI0Q+Klp9EpYjTOYxXoxjwle4KR5aL2jHier5hD1OGFfPeQcTAq\n",
       "giy5aKc8eAOSPhpEj4wVWAUGST+oXOLhAGhFSPScsCBWFiVRaEMBNV6AlQ37+t3DA8wXBCSCzFB5\n",
       "LnpRDEZhkkMmnB6JF3mF5psB8WNjeyrlsKdVmEwnNwsOlNNhIPHMRyRXenjkJxo1oI/6g4SjtcRQ\n",
       "om4kc0ZZQAGxCgOJRw3tKuTNe6IdYIi1+IqNwsXhBZbuKMn+GDhg3DvjIPOavNuOqrlAo2IMe1TQ\n",
       "JuJ2OHiXapBJaftz7PV8qDpqkEl6CDG37ir4bZBltsOAU1CCTMLHFbLFmv3H6zFVwTsgPJZdl+BU\n",
       "EAAAAABJRU5ErkJggg==\n",
       "\" style=\"display:inline;vertical-align:middle;\" /></a></td></tr>\n",
       "<tr><td>4</td><td>Literal</td><td></td><td><a class=\"ProveItLink\" href=\"../3e6688136fa3c7aefbebe51301b7c3ebf0b69c440/expr.ipynb\"><img src=\"data:image/png;base64,iVBORw0KGgoAAAANSUhEUgAAAA4AAAAOBAMAAADtZjDiAAAAJFBMVEX///+6urpUVFQQEBAiIiIy\n",
       "MjJmZmaIiIiqqqrc3Nzu7u4AAACgHpL+AAAAAXRSTlMAQObYZgAAAB5JREFUCNdjYGBgWMkAAe2k\n",
       "0Kmhoc6hoUGk6BMHYgAHOwjcado9fwAAAABJRU5ErkJggg==\n",
       "\" style=\"display:inline;vertical-align:middle;\" /></a></td></tr>\n",
       "<tr><td>5</td><td>ExprTuple</td><td>7, 7, 6, 8, 6, 7, 8</td><td><a class=\"ProveItLink\" href=\"../927df0bed7bcb9ef0e6b78297f3f2beb50976b120/expr.ipynb\"><img src=\"data:image/png;base64,iVBORw0KGgoAAAANSUhEUgAAAIgAAAAVBAMAAABvbLv8AAAAMFBMVEX////c3NwiIiJERESqqqqY\n",
       "mJh2dnZmZmYQEBDu7u4yMjJUVFTMzMyIiIi6uroAAAAs73DqAAAAAXRSTlMAQObYZgAAAcBJREFU\n",
       "OMutlD1IAmEYx/9+e5qeu0NuTYFDjZE0RtDNTdJQS4YQOQUlRFvmFNKiBA0RhA1RBJLQEjTkFASd\n",
       "WJNEoGUOQUXP3ft65+Un2QN3/O733vv5PLzAv4S3MFh/W4leN22bhPNAT8NjjZ7D9k2ubG/DPeDp\n",
       "sBsx1Nvw/YThTLZvqiR7G77PDTx3OK/5PgyPMcTobcotx9m3TkfyKZ9oQc4bDfx3ZR+j3cgDsIgD\n",
       "wrLPUmVSI6EGkfW9LrkCRuONY5L9PpTAPjCNBE1fhyPIFqKR9QPOsNp3GxbJYDAsYYUNkipgnGbG\n",
       "N+CuwsxypJMjAzHKFYwGl8AoGkRxqwwiBpFmC9XJHEVF4gpGgxqET3Big2zS8gqYhZo/nago1htK\n",
       "KxNmTF+wVgVO6kEqe0qHcGHNK1onOsMtqECzSwYjvMOdmVHnqlOpAXOUH7gk64gd6UAzuUOOLIMo\n",
       "7HmDoYRORcPCG9EZsKSk+EkpjuJVEanXZhJyq1ABMfn+l/HLLxMlYYdKxRGRaUHHcPoahfeIFuoC\n",
       "8Pr0sreFG1ZCC3UB5TBY2AtNV8FfB9lTdsjZozV7+gBAu0JOlGQPeD168vgBIoaWXTdLjAIAAAAA\n",
       "SUVORK5CYII=\n",
       "\" style=\"display:inline;vertical-align:middle;\" /></a></td></tr>\n",
       "<tr><td>6</td><td>Variable</td><td></td><td><a class=\"ProveItLink\" href=\"../../../../__pv_it/6840a4fa6c106149dc16a131294d0c5e44f1b0480/expr.ipynb\"><img src=\"data:image/png;base64,iVBORw0KGgoAAAANSUhEUgAAAAkAAAAOBAMAAAAPuiubAAAALVBMVEX///9mZmbMzMxERESYmJiI\n",
       "iIh2dna6urqqqqoyMjIiIiIQEBBUVFTu7u4AAAD9S1JeAAAAAXRSTlMAQObYZgAAAE1JREFUCNdj\n",
       "4D29gAEIOA+ASL4GEFl3AURmgQiGOaFHGBh4HzPwKTBwvGXgTmBgnMDAJ8DAJcBQ5wBSLncBJLWN\n",
       "gYGngRFoBO9REQYGAGrcDtUkVqASAAAAAElFTkSuQmCC\n",
       "\" style=\"display:inline;vertical-align:middle;\" /></a></td></tr>\n",
       "<tr><td>7</td><td>Variable</td><td></td><td><a class=\"ProveItLink\" href=\"../../../../__pv_it/07527342713064c87612d00d8557c53d53d5324a0/expr.ipynb\"><img src=\"data:image/png;base64,iVBORw0KGgoAAAANSUhEUgAAAAsAAAAJBAMAAAAWSsseAAAAMFBMVEX///8yMjKqqqrMzMzu7u4i\n",
       "IiJmZmaYmJhEREQQEBC6urp2dnaIiIhUVFTc3NwAAAD87Fq/AAAAAXRSTlMAQObYZgAAAEhJREFU\n",
       "CNdjYOC7s2seAwPDygccHxgY+L4zsDUwMPB+YGA9wMDA38Dgb8DA8P4Agz6DA4O/AsNFJgMGxgKm\n",
       "MG6gyjunLE4xAAAZTBA5TB6DCwAAAABJRU5ErkJggg==\n",
       "\" style=\"display:inline;vertical-align:middle;\" /></a></td></tr>\n",
       "<tr><td>8</td><td>Variable</td><td></td><td><a class=\"ProveItLink\" href=\"../../../../__pv_it/cbdfda466482236edba0ce44ac7ef39cda0af7a40/expr.ipynb\"><img src=\"data:image/png;base64,iVBORw0KGgoAAAANSUhEUgAAAAkAAAAJBAMAAAASvxsjAAAALVBMVEX///9mZmbc3NxUVFSYmJhE\n",
       "REQiIiIyMjK6uroQEBDMzMyIiIh2dnbu7u4AAABgFDGoAAAAAXRSTlMAQObYZgAAADZJREFUCNdj\n",
       "YOA9s3sBA8PKBvYEBt7ZDKwODMwPGICALwBE6m0Asx0YGIDiAgw8QJUyu/cyAAAmuwmycZ8WfQAA\n",
       "AABJRU5ErkJggg==\n",
       "\" style=\"display:inline;vertical-align:middle;\" /></a></td></tr>\n",
       "</table>\n"
      ],
      "text/plain": [
       "0. (a + b + c + a + b + a + c , a + a + b + c + b + a + c)\n",
       "   core type: ExprTuple\n",
       "   sub-expressions: 1, 2\n",
       "1. a + b + c + a + b + a + c\n",
       "   core type: Operation\n",
       "   operator: 4\n",
       "   operands: 3\n",
       "2. a + a + b + c + b + a + c\n",
       "   core type: Operation\n",
       "   operator: 4\n",
       "   operands: 5\n",
       "3. (a , b , c , a , b , a , c)\n",
       "   core type: ExprTuple\n",
       "   sub-expressions: 7, 6, 8, 7, 6, 7, 8\n",
       "4. +\n",
       "   core type: Literal\n",
       "   sub-expressions: \n",
       "5. (a , a , b , c , b , a , c)\n",
       "   core type: ExprTuple\n",
       "   sub-expressions: 7, 7, 6, 8, 6, 7, 8\n",
       "6. b\n",
       "   core type: Variable\n",
       "   sub-expressions: \n",
       "7. a\n",
       "   core type: Variable\n",
       "   sub-expressions: \n",
       "8. c\n",
       "   core type: Variable\n",
       "   sub-expressions: "
      ]
     },
     "execution_count": 4,
     "metadata": {},
     "output_type": "execute_result"
    }
   ],
   "source": [
    "# display the expression information\n",
    "expr.exprInfo()"
   ]
  },
  {
   "cell_type": "code",
   "execution_count": null,
   "metadata": {},
   "outputs": [],
   "source": []
  }
 ],
 "metadata": {
  "kernelspec": {
   "display_name": "Python 3",
   "language": "python",
   "name": "python3"
  }
 },
 "nbformat": 4,
 "nbformat_minor": 0
}
