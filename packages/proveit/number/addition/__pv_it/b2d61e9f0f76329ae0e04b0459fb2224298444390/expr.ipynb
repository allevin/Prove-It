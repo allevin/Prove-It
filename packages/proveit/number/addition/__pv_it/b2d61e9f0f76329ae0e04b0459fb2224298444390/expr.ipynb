{
 "cells": [
  {
   "cell_type": "markdown",
   "metadata": {},
   "source": [
    "Expression of type <a class=\"ProveItLink\" href=\"../../../../../../doc/html/api/proveit.number.Add.html\">Add</a>\n",
    "=======================\n",
    "# from context <a class=\"ProveItLink\" href=\"../../_context_.ipynb\">proveit.number.addition</a>"
   ]
  },
  {
   "cell_type": "code",
   "execution_count": 1,
   "metadata": {},
   "outputs": [],
   "source": [
    "# import Expression classes needed to build the expression\n",
    "from proveit._common_ import a, b, c\n",
    "from proveit.number import Add"
   ]
  },
  {
   "cell_type": "code",
   "execution_count": 2,
   "metadata": {},
   "outputs": [
    {
     "data": {
      "text/html": [
       "<strong id=\"expr\">expr:</strong> <a class=\"ProveItLink\" href=\"expr.ipynb\"><img src=\"data:image/png;base64,iVBORw0KGgoAAAANSUhEUgAAAN0AAAAQBAMAAABgnGdDAAAAMFBMVEX///8yMjKqqqrMzMzu7u4i\n",
       "IiJmZmaYmJhEREQQEBC6urp2dnaIiIhUVFTc3NwAAAD87Fq/AAAAAXRSTlMAQObYZgAAAZhJREFU\n",
       "OMu11LFKw0AYB/B/QhpqSpPeIE6FgrgJzahbXqC2U0FwSCcFEfMIfQBBHJyUUnAqCO3ioksGcdAI\n",
       "1UWEgH2B0tIW28HBlvQkd+lRbfGWgx/8vy93HxdgsZU750B5L+A/V5oHqfnXEkprvmBnuvd4MDIc\n",
       "RCL8kt35gs1g0wYcoG5xwEeW6pco8NVu8Lt+un9b4aq3n2otgdCw5D87bLW098aCcueZM6DWinfZ\n",
       "floFpyKh4XwZfQaUEQy2/HZVKkRBH0Its9U7Dg5EQsNZCxcMyAOsNJgPuETciUKyi5jLVv8A9kRC\n",
       "wyXgkwE1BcMOQ7LLzS8Ao4z85B5UQlbPCJk8ohGU/kxBiZBdQiZPrwhtyEDMRt0JgxHcGg8dF1lY\n",
       "4dPoX5C7ikDox/agDhgYP79jKwwdlztfAPkMXmQzXF3pIZlaFwgN9+m0fvqZ3ECN8WmdKEiOXEyw\n",
       "01rDht0QCA2/4oibTkZtsmAjYUZB9x+3Htl+be/qpCoQGs49OGw/xd/nnvehdy+ABf4vS8F0ae58\n",
       "wfVy8A06eo/dWEdoHgAAAABJRU5ErkJggg==\n",
       "\" style=\"display:inline;vertical-align:middle;\" /></a><br>"
      ],
      "text/plain": [
       "expr: a + a + a + b + b + c + c"
      ]
     },
     "execution_count": 2,
     "metadata": {},
     "output_type": "execute_result"
    }
   ],
   "source": [
    "# build up the expression from sub-expressions\n",
    "expr = Add(a, a, a, b, b, c, c)"
   ]
  },
  {
   "cell_type": "code",
   "execution_count": 3,
   "metadata": {},
   "outputs": [
    {
     "name": "stdout",
     "output_type": "stream",
     "text": [
      "Passed sanity check: built 'expr' is the same as the stored Expression.\n"
     ]
    }
   ],
   "source": [
    "# check that the built expression is the same as the stored expression\n",
    "%check_expr"
   ]
  },
  {
   "cell_type": "code",
   "execution_count": 4,
   "metadata": {},
   "outputs": [
    {
     "data": {
      "text/html": [
       "<table><tr><th>&nbsp;</th><th>core type</th><th>sub-expressions</th><th>expression</th></tr>\n",
       "<tr><td>0</td><td>Operation</td><td>operator:&nbsp;1<br>operands:&nbsp;2<br></td><td><a class=\"ProveItLink\" href=\"expr.ipynb\"><img src=\"data:image/png;base64,iVBORw0KGgoAAAANSUhEUgAAAN0AAAAQBAMAAABgnGdDAAAAMFBMVEX///8yMjKqqqrMzMzu7u4i\n",
       "IiJmZmaYmJhEREQQEBC6urp2dnaIiIhUVFTc3NwAAAD87Fq/AAAAAXRSTlMAQObYZgAAAZhJREFU\n",
       "OMu11LFKw0AYB/B/QhpqSpPeIE6FgrgJzahbXqC2U0FwSCcFEfMIfQBBHJyUUnAqCO3ioksGcdAI\n",
       "1UWEgH2B0tIW28HBlvQkd+lRbfGWgx/8vy93HxdgsZU750B5L+A/V5oHqfnXEkprvmBnuvd4MDIc\n",
       "RCL8kt35gs1g0wYcoG5xwEeW6pco8NVu8Lt+un9b4aq3n2otgdCw5D87bLW098aCcueZM6DWinfZ\n",
       "floFpyKh4XwZfQaUEQy2/HZVKkRBH0Its9U7Dg5EQsNZCxcMyAOsNJgPuETciUKyi5jLVv8A9kRC\n",
       "wyXgkwE1BcMOQ7LLzS8Ao4z85B5UQlbPCJk8ohGU/kxBiZBdQiZPrwhtyEDMRt0JgxHcGg8dF1lY\n",
       "4dPoX5C7ikDox/agDhgYP79jKwwdlztfAPkMXmQzXF3pIZlaFwgN9+m0fvqZ3ECN8WmdKEiOXEyw\n",
       "01rDht0QCA2/4oibTkZtsmAjYUZB9x+3Htl+be/qpCoQGs49OGw/xd/nnvehdy+ABf4vS8F0ae58\n",
       "wfVy8A06eo/dWEdoHgAAAABJRU5ErkJggg==\n",
       "\" style=\"display:inline;vertical-align:middle;\" /></a></td></tr>\n",
       "<tr><td>1</td><td>Literal</td><td></td><td><a class=\"ProveItLink\" href=\"../3e6688136fa3c7aefbebe51301b7c3ebf0b69c440/expr.ipynb\"><img src=\"data:image/png;base64,iVBORw0KGgoAAAANSUhEUgAAAA4AAAAOBAMAAADtZjDiAAAAJFBMVEX///+6urpUVFQQEBAiIiIy\n",
       "MjJmZmaIiIiqqqrc3Nzu7u4AAACgHpL+AAAAAXRSTlMAQObYZgAAAB5JREFUCNdjYGBgWMkAAe2k\n",
       "0Kmhoc6hoUGk6BMHYgAHOwjcado9fwAAAABJRU5ErkJggg==\n",
       "\" style=\"display:inline;vertical-align:middle;\" /></a></td></tr>\n",
       "<tr><td>2</td><td>ExprTuple</td><td>3, 3, 3, 4, 4, 5, 5</td><td><a class=\"ProveItLink\" href=\"../21d328a7b1f29d8544bbc8619513c01c1fa433440/expr.ipynb\"><img src=\"data:image/png;base64,iVBORw0KGgoAAAANSUhEUgAAAIgAAAAVBAMAAABvbLv8AAAAMFBMVEX////c3NwiIiJERESqqqqY\n",
       "mJh2dnZmZmYQEBDu7u4yMjJUVFTMzMyIiIi6uroAAAAs73DqAAAAAXRSTlMAQObYZgAAAXdJREFU\n",
       "OMut1DFLw0AYBuC3tWmS1jTZHezm2kH3zi5mdgouLla66CSoII61kxSXiuAggtRBFKEYcHQwP8AW\n",
       "dSourYYODoqXXFJzl6MB68EdTy6573L3HQf8Syk4k42XnknzkPCRelPkwJUtUs+Spsq1eHDvAS1x\n",
       "NXqZB7ceC0o9KUi/zoNb7w7eEnduJQauzGOTtKn2+i59Fum8c8UBh5WnCFZxStgzpga0UyDVhW4z\n",
       "wHQNJxEsokYmHUIu0ekFynxCsRig4WAhgh6+gfwAaZojkeRj6FUGuAt3g+LRC6KX0KT/KVK6ir7J\n",
       "AG4YxA2C7AGzDpbgp08kcjq2WaS+ghgBet6ammXcZmwVYpHN3AcDDMkJ82fwgWWSH+TMzFwWzaJY\n",
       "+bLcYoFrYE39COCl+NU7Et37LhrvYqntDbCAXOnU1QODAriAYoS79IIxiqNg/B57yQp7TYxRHFKI\n",
       "rBO5Cv4a5IjUmcDaaKRAcWB0hVx6yZ7wetRs/AAPmpe2vWp2AgAAAABJRU5ErkJggg==\n",
       "\" style=\"display:inline;vertical-align:middle;\" /></a></td></tr>\n",
       "<tr><td>3</td><td>Variable</td><td></td><td><a class=\"ProveItLink\" href=\"../../../../__pv_it/07527342713064c87612d00d8557c53d53d5324a0/expr.ipynb\"><img src=\"data:image/png;base64,iVBORw0KGgoAAAANSUhEUgAAAAsAAAAJBAMAAAAWSsseAAAAMFBMVEX///8yMjKqqqrMzMzu7u4i\n",
       "IiJmZmaYmJhEREQQEBC6urp2dnaIiIhUVFTc3NwAAAD87Fq/AAAAAXRSTlMAQObYZgAAAEhJREFU\n",
       "CNdjYOC7s2seAwPDygccHxgY+L4zsDUwMPB+YGA9wMDA38Dgb8DA8P4Agz6DA4O/AsNFJgMGxgKm\n",
       "MG6gyjunLE4xAAAZTBA5TB6DCwAAAABJRU5ErkJggg==\n",
       "\" style=\"display:inline;vertical-align:middle;\" /></a></td></tr>\n",
       "<tr><td>4</td><td>Variable</td><td></td><td><a class=\"ProveItLink\" href=\"../../../../__pv_it/6840a4fa6c106149dc16a131294d0c5e44f1b0480/expr.ipynb\"><img src=\"data:image/png;base64,iVBORw0KGgoAAAANSUhEUgAAAAkAAAAOBAMAAAAPuiubAAAALVBMVEX///9mZmbMzMxERESYmJiI\n",
       "iIh2dna6urqqqqoyMjIiIiIQEBBUVFTu7u4AAAD9S1JeAAAAAXRSTlMAQObYZgAAAE1JREFUCNdj\n",
       "4D29gAEIOA+ASL4GEFl3AURmgQiGOaFHGBh4HzPwKTBwvGXgTmBgnMDAJ8DAJcBQ5wBSLncBJLWN\n",
       "gYGngRFoBO9REQYGAGrcDtUkVqASAAAAAElFTkSuQmCC\n",
       "\" style=\"display:inline;vertical-align:middle;\" /></a></td></tr>\n",
       "<tr><td>5</td><td>Variable</td><td></td><td><a class=\"ProveItLink\" href=\"../../../../__pv_it/cbdfda466482236edba0ce44ac7ef39cda0af7a40/expr.ipynb\"><img src=\"data:image/png;base64,iVBORw0KGgoAAAANSUhEUgAAAAkAAAAJBAMAAAASvxsjAAAALVBMVEX///9mZmbc3NxUVFSYmJhE\n",
       "REQiIiIyMjK6uroQEBDMzMyIiIh2dnbu7u4AAABgFDGoAAAAAXRSTlMAQObYZgAAADZJREFUCNdj\n",
       "YOA9s3sBA8PKBvYEBt7ZDKwODMwPGICALwBE6m0Asx0YGIDiAgw8QJUyu/cyAAAmuwmycZ8WfQAA\n",
       "AABJRU5ErkJggg==\n",
       "\" style=\"display:inline;vertical-align:middle;\" /></a></td></tr>\n",
       "</table>\n"
      ],
      "text/plain": [
       "0. a + a + a + b + b + c + c\n",
       "   core type: Operation\n",
       "   operator: 1\n",
       "   operands: 2\n",
       "1. +\n",
       "   core type: Literal\n",
       "   sub-expressions: \n",
       "2. (a , a , a , b , b , c , c)\n",
       "   core type: ExprTuple\n",
       "   sub-expressions: 3, 3, 3, 4, 4, 5, 5\n",
       "3. a\n",
       "   core type: Variable\n",
       "   sub-expressions: \n",
       "4. b\n",
       "   core type: Variable\n",
       "   sub-expressions: \n",
       "5. c\n",
       "   core type: Variable\n",
       "   sub-expressions: "
      ]
     },
     "execution_count": 4,
     "metadata": {},
     "output_type": "execute_result"
    }
   ],
   "source": [
    "# display the expression information\n",
    "expr.exprInfo()"
   ]
  },
  {
   "cell_type": "code",
   "execution_count": null,
   "metadata": {},
   "outputs": [],
   "source": []
  }
 ],
 "metadata": {
  "kernelspec": {
   "display_name": "Python 3",
   "language": "python",
   "name": "python3"
  }
 },
 "nbformat": 4,
 "nbformat_minor": 0
}
