{
 "cells": [
  {
   "cell_type": "markdown",
   "metadata": {},
   "source": [
    "Expression of type <a class=\"ProveItLink\" href=\"../../../../../../doc/html/api/proveit.logic.Equals.html\">Equals</a>\n",
    "=======================\n",
    "# from context <a class=\"ProveItLink\" href=\"../../_context_.ipynb\">proveit.number.addition</a>"
   ]
  },
  {
   "cell_type": "code",
   "execution_count": 1,
   "metadata": {},
   "outputs": [],
   "source": [
    "# import Expression classes needed to build the expression\n",
    "from proveit._common_ import a, b\n",
    "from proveit.logic import Equals\n",
    "from proveit.number import Add, Neg"
   ]
  },
  {
   "cell_type": "code",
   "execution_count": 2,
   "metadata": {},
   "outputs": [
    {
     "data": {
      "text/html": [
       "<strong id=\"expr\">expr:</strong> <a class=\"ProveItLink\" href=\"expr.ipynb\"><img src=\"data:image/png;base64,iVBORw0KGgoAAAANSUhEUgAAAOcAAAAVBAMAAABPgOQBAAAAMFBMVEX////c3NwiIiJERESqqqqY\n",
       "mJh2dnZmZmYQEBDu7u4yMjJUVFTMzMyIiIi6uroAAAAs73DqAAAAAXRSTlMAQObYZgAAAlJJREFU\n",
       "SMfFVjFoU1EUPWl/8vMTm/zdwdKlk5DBjmJwlEIzdXCQ4uKkBMQOKthKcXAofyw69FPIoIK0oCBC\n",
       "8IOjg5l00JbQKYjQQFukEIv/veun977/4jd28A3t57xz7uHe++57Af7LqnT+XZvvjh7vmvrzwbbz\n",
       "9GGmoabcT+Mn8bw3k3JLA24Ufz2zhnyRnaailNIwi1faNPY0EAIT9mocDPXyfEbJL5jbPF61bmg0\n",
       "MA8UA2ujj4aaOh1G8ZbMbR5vLzA0GlgDvlkjFyYzTYlywdzm8a6bGg2M17EY/8u1by0bxW9/aUjk\n",
       "7KeeLwIQ5YZpusi7vv1ammqg0EQr/u75430pXa9hIOu9jEsyAFGuqE/3uV762LRY9/dRjbiGACfE\n",
       "apzoIdyaNJ0L8EgA5xq4LU2J0jMzXWWNOEJxgWsIqCzhGCj3MabQ3MaUWmrg7wI/BPAOOC9NifLR\n",
       "ND0+kbkhqk2uIeBMX5GqNaxHUjqNyqEA9uENqJAbj6mQRLGZJmusib0G1xAQm67EpetgDoExpq4Y\n",
       "mtxPOH1PZEoUXV5XZzalW7QixvRBwDUExOWdiY9EHW8dmeog6UZyJg5QDmeFKVGumpnOMNMoORiJ\n",
       "qQbyoTrzpYYzXZDSV7gngRYuN8Wh+E1JjQwDynV3U5gSEI/MrhrTnfc7xm3+2RzT7e8Xu8KUKC9N\n",
       "011WnvYdeTkQUOqi6I/4nDn8srZcg36WZs12ZY/y/hZSz4U1ntDcHPq0/eV68senzf5KhapbpzHd\n",
       "SkNZ8cqq/rlT/FyZiNJYVryvwC/U6b7RWfhikAAAAABJRU5ErkJggg==\n",
       "\" style=\"display:inline;vertical-align:middle;\" /></a><br>"
      ],
      "text/plain": [
       "expr: (a - b - a + b) = (-b + b)"
      ]
     },
     "execution_count": 2,
     "metadata": {},
     "output_type": "execute_result"
    }
   ],
   "source": [
    "# build up the expression from sub-expressions\n",
    "subExpr1 = Neg(b)\n",
    "expr = Equals(Add(a, subExpr1, Neg(a), b), Add(subExpr1, b).withSubtractionAt(0,0))"
   ]
  },
  {
   "cell_type": "code",
   "execution_count": 3,
   "metadata": {},
   "outputs": [
    {
     "name": "stdout",
     "output_type": "stream",
     "text": [
      "Passed sanity check: built 'expr' is the same as the stored Expression.\n"
     ]
    }
   ],
   "source": [
    "# check that the built expression is the same as the stored expression\n",
    "%check_expr"
   ]
  },
  {
   "cell_type": "code",
   "execution_count": 4,
   "metadata": {},
   "outputs": [
    {
     "data": {
      "text/html": [
       "<table><tr><th>&nbsp;</th><th>core type</th><th>sub-expressions</th><th>expression</th></tr>\n",
       "<tr><td>0</td><td>Operation</td><td>operator:&nbsp;1<br>operands:&nbsp;2<br></td><td><a class=\"ProveItLink\" href=\"expr.ipynb\"><img src=\"data:image/png;base64,iVBORw0KGgoAAAANSUhEUgAAAOcAAAAVBAMAAABPgOQBAAAAMFBMVEX////c3NwiIiJERESqqqqY\n",
       "mJh2dnZmZmYQEBDu7u4yMjJUVFTMzMyIiIi6uroAAAAs73DqAAAAAXRSTlMAQObYZgAAAlJJREFU\n",
       "SMfFVjFoU1EUPWl/8vMTm/zdwdKlk5DBjmJwlEIzdXCQ4uKkBMQOKthKcXAofyw69FPIoIK0oCBC\n",
       "8IOjg5l00JbQKYjQQFukEIv/veun977/4jd28A3t57xz7uHe++57Af7LqnT+XZvvjh7vmvrzwbbz\n",
       "9GGmoabcT+Mn8bw3k3JLA24Ufz2zhnyRnaailNIwi1faNPY0EAIT9mocDPXyfEbJL5jbPF61bmg0\n",
       "MA8UA2ujj4aaOh1G8ZbMbR5vLzA0GlgDvlkjFyYzTYlywdzm8a6bGg2M17EY/8u1by0bxW9/aUjk\n",
       "7KeeLwIQ5YZpusi7vv1ammqg0EQr/u75430pXa9hIOu9jEsyAFGuqE/3uV762LRY9/dRjbiGACfE\n",
       "apzoIdyaNJ0L8EgA5xq4LU2J0jMzXWWNOEJxgWsIqCzhGCj3MabQ3MaUWmrg7wI/BPAOOC9NifLR\n",
       "ND0+kbkhqk2uIeBMX5GqNaxHUjqNyqEA9uENqJAbj6mQRLGZJmusib0G1xAQm67EpetgDoExpq4Y\n",
       "mtxPOH1PZEoUXV5XZzalW7QixvRBwDUExOWdiY9EHW8dmeog6UZyJg5QDmeFKVGumpnOMNMoORiJ\n",
       "qQbyoTrzpYYzXZDSV7gngRYuN8Wh+E1JjQwDynV3U5gSEI/MrhrTnfc7xm3+2RzT7e8Xu8KUKC9N\n",
       "011WnvYdeTkQUOqi6I/4nDn8srZcg36WZs12ZY/y/hZSz4U1ntDcHPq0/eV68senzf5KhapbpzHd\n",
       "SkNZ8cqq/rlT/FyZiNJYVryvwC/U6b7RWfhikAAAAABJRU5ErkJggg==\n",
       "\" style=\"display:inline;vertical-align:middle;\" /></a></td></tr>\n",
       "<tr><td>1</td><td>Literal</td><td></td><td><a class=\"ProveItLink\" href=\"../../../../logic/equality/__pv_it/2fb26078095930560931daa0500ce419a39ea6cd0/expr.ipynb\"><img src=\"data:image/png;base64,iVBORw0KGgoAAAANSUhEUgAAAA4AAAAFBAMAAACHocAhAAAAFVBMVEX///9EREQiIiJUVFQyMjJm\n",
       "ZmYAAADubVkoAAAAAXRSTlMAQObYZgAAABRJREFUCNdjCHEBAWcGXCBICQQUAUpuAwlgGKrkAAAA\n",
       "AElFTkSuQmCC\n",
       "\" style=\"display:inline;vertical-align:middle;\" /></a></td></tr>\n",
       "<tr><td>2</td><td>ExprTuple</td><td>3, 4</td><td><a class=\"ProveItLink\" href=\"../581c1bee956902df97a7505144ede14dedb59fb50/expr.ipynb\"><img src=\"data:image/png;base64,iVBORw0KGgoAAAANSUhEUgAAAMUAAAAVBAMAAAAEKDfsAAAAMFBMVEX////c3NwiIiJERESqqqqY\n",
       "mJh2dnZmZmYQEBDu7u4yMjJUVFTMzMyIiIi6uroAAAAs73DqAAAAAXRSTlMAQObYZgAAAdVJREFU\n",
       "SMe9lT1IAzEUx/9qv67VtruD4qKL4OIoFmeDnRxFXJyEguiggx9IR62b4OAhdLBdOii4FN1dnHRQ\n",
       "oTiJKIofSKGKSWO599ocZ5Ga4ZL875f3kpe8BPiPEj1vqfkp9Tkz/dld9xzcgFjHvQYheCpbB0YL\n",
       "ee8ZNiDhgkmwgS5zqN7cbW+7IbFEHVEVJoFQxrhJZXcfwg15ynBCCzvAvdFOoNfTRyMyU0dooSOB\n",
       "RVV3X9zFeSSLV0luwEGEG5K/OeI+qkIghaxa9hpGOb43hAoPnoMIF8R6ReyUElrw2diUnZ4k5rmP\n",
       "iQzSTCCIcEF8ZYSmKaGF6Cq+ZOcEGJRV236fKiXZXAI+mPCDEAsaIcOCNmIpSmih87nq4xUWXzb6\n",
       "EX1nQg1ZyuUGcrm8CWlP4SlJCS1IHxtyIp/wPVt16RFkR5MiwoyobFjJUEILMlbDcm/eELHHGV+p\n",
       "hba2nwQRBKHJJfc3zQgt+G3Myk4WYylmEodY5sEjiHAQ64UgkUSwwAgtyLN7q87+zcNIiV94l/Xp\n",
       "4SDCQawtklZWcYGfCi2ESwjFm72tBU2buBeh7hL/dLM+Hknb70lgzvVu/2XxexKWrSL9Fx/eb2hE\n",
       "RbOttW/tNfANSwqXk8r39aIAAAAASUVORK5CYII=\n",
       "\" style=\"display:inline;vertical-align:middle;\" /></a></td></tr>\n",
       "<tr><td>3</td><td>Operation</td><td>operator:&nbsp;6<br>operands:&nbsp;5<br></td><td><a class=\"ProveItLink\" href=\"../379aabe9450d41f81161b51bd149012d534e46a30/expr.ipynb\"><img src=\"data:image/png;base64,iVBORw0KGgoAAAANSUhEUgAAAHQAAAAQBAMAAAA10UZYAAAAMFBMVEX///8yMjKqqqrMzMzu7u4i\n",
       "IiJmZmaYmJhEREQQEBC6urp2dnaIiIhUVFTc3NwAAAD87Fq/AAAAAXRSTlMAQObYZgAAARxJREFU\n",
       "KM9jYMAALDcDGAgB36nYxRkvENTKIItdmF8Bpw6WB1DGJ+zy6x1wamU6AKG5vmCX38pAUCs3ODj4\n",
       "7uyah+aPM9dRBRBKYFoZ75wtYGBY+YDjA6p/fjDwG6CIIJTAtPo3MHxm4PvOwNaA6qgvDJwbUCxF\n",
       "KIFp1XdgmM3A+4GBFcR/GAoCUUAWmwADfwJQgyhYZAEDXAmS1kQGhm8M/A0M/qjOY01gWF+AEllQ\n",
       "JWyCgqITBQVBsR7GwPWd4f0BBn0GB7RozUcRQFICs/UTA9sXBn8FhotMKNYCw2g2ijOQlMC0fgYF\n",
       "B2MBUxg3ikpeBTbUlIikBKb1EkMuKM5OWZxCjZw76ejRClcC0+p7rICBRADTSgbgQtIKAPdhUUPP\n",
       "U6pnAAAAAElFTkSuQmCC\n",
       "\" style=\"display:inline;vertical-align:middle;\" /></a></td></tr>\n",
       "<tr><td>4</td><td>Operation</td><td>operator:&nbsp;6<br>operands:&nbsp;7<br></td><td><a class=\"ProveItLink\" href=\"../e4bc21decbebaacec46675833ad943f41eddd89d0/expr.ipynb\"><img src=\"data:image/png;base64,iVBORw0KGgoAAAANSUhEUgAAADoAAAAQBAMAAAC1onFLAAAAMFBMVEX///9mZmbMzMxERESYmJiI\n",
       "iIh2dnaqqqoQEBBUVFTu7u66uroiIiIyMjLc3NwAAABYXk/VAAAAAXRSTlMAQObYZgAAAJNJREFU\n",
       "GNNjYICClT0MqABV4CaaLKrAdxhjHboAEHD/grFK0QWAgO0AmixCAAh4p0Y6oMgiBIBgvQHDJxRZ\n",
       "hAAQ1C9gaEORBQu8PQMCpxlkGRg+osgiBIDgIAP3F5DY3bsn7t69iRCA+Y7xF4pehAAQfGLgSECR\n",
       "RQgAwXQGSVT/IgRAgR7ogCqLEEABpQz4wFYEEwBFYDRbHv6A2AAAAABJRU5ErkJggg==\n",
       "\" style=\"display:inline;vertical-align:middle;\" /></a></td></tr>\n",
       "<tr><td>5</td><td>ExprTuple</td><td>10, 9, 8, 12</td><td><a class=\"ProveItLink\" href=\"../4ddc4324494ceaa6fef46cdf16234d2afc6be78b0/expr.ipynb\"><img src=\"data:image/png;base64,iVBORw0KGgoAAAANSUhEUgAAAHAAAAAVBAMAAABs93eRAAAAMFBMVEX////c3NwiIiJERESqqqqY\n",
       "mJh2dnZmZmYQEBDu7u4yMjJUVFTMzMyIiIi6uroAAAAs73DqAAAAAXRSTlMAQObYZgAAAXVJREFU\n",
       "OMudVD1Iw0AYfa1pkqak6e6guHTNoHtnl2Z2Ki5u0kUHFfxBHCWj2KEiOIggFRREKAQcHczmIJbq\n",
       "JC6t2CKBIn5Xf+4uP0N7cMfxvvfuvvd9lwBjj7w/uibTpuUuJpC9nk4U1XZo2aB5Ghc1GsnXnbE4\n",
       "YMZmapWShT2WawW6GxfsuMk1CZiXLbzFRheTL1SH9mexSmuqubwd8vF0JQOcYjQfHWAJJ7R/LUx0\n",
       "5ap+wPIkhFPqNgbAPPbptD40W6IpAfSKdCGnlF3s0UH4AnJdpH9qmzqeYaOtHcGqigCnYA34BO6Z\n",
       "0LJRlxNLV9FxpPZwShH5PhPuAlM+ynBDbdyUAIHSgxawVOfIbgk3ipcVhR75EAGBMhjaX6C6wnCU\n",
       "ooq68DxzJa0hAQLlEutg7XhhPWrdtnDwLrSjuQIJECi1B+b+HHrhL/gcfiMRgCP05DL//XLCtAjA\n",
       "EdUXPqtRhIc0J3/3ZpgVAQTkgvke49dhevgGM1trKJxr5wEAAAAASUVORK5CYII=\n",
       "\" style=\"display:inline;vertical-align:middle;\" /></a></td></tr>\n",
       "<tr><td>6</td><td>Literal</td><td></td><td><a class=\"ProveItLink\" href=\"../3e6688136fa3c7aefbebe51301b7c3ebf0b69c440/expr.ipynb\"><img src=\"data:image/png;base64,iVBORw0KGgoAAAANSUhEUgAAAA4AAAAOBAMAAADtZjDiAAAAJFBMVEX///+6urpUVFQQEBAiIiIy\n",
       "MjJmZmaIiIiqqqrc3Nzu7u4AAACgHpL+AAAAAXRSTlMAQObYZgAAAB5JREFUCNdjYGBgWMkAAe2k\n",
       "0Kmhoc6hoUGk6BMHYgAHOwjcado9fwAAAABJRU5ErkJggg==\n",
       "\" style=\"display:inline;vertical-align:middle;\" /></a></td></tr>\n",
       "<tr><td>7</td><td>ExprTuple</td><td>9, 12</td><td><a class=\"ProveItLink\" href=\"../959eea0a1f8cbb7b671d05b41fe3945991bd2aad0/expr.ipynb\"><img src=\"data:image/png;base64,iVBORw0KGgoAAAANSUhEUgAAADcAAAAVBAMAAAAQkWtIAAAAMFBMVEX////c3NwiIiJERESqqqqY\n",
       "mJh2dnZmZmYQEBDu7u4yMjJUVFTMzMyIiIi6uroAAAAs73DqAAAAAXRSTlMAQObYZgAAAOpJREFU\n",
       "KM9jYMAL+C5gF48DEafhXM4dCkgM9gNA1kqEYq4NyIwFDAy8SKbyOyAzwhgYOCYgJN9PQGbMYGB4\n",
       "heSGJBQGswNDGZLk6rtbkRhsBQxLEXKcnxn4DyAYLAsY+hCSLD8ZOBIQDL4Ghn8MDIyLlEDgAfsC\n",
       "Bv4CkCSEwfMBJAkDTAUM7wMQDKBkC4o36ycgGEBjTZEkDzC0MXDCGAysCxjSEZLcDuwbGOYrQBkg\n",
       "rzxC8sreUmC4fIQyGLgeMHAIoEXVQxgDGHysCWiSATBGLmqUoUhyAqOMQRpVjhfuPJB9jDiSyR0G\n",
       "BgAQMkBDDyKY4AAAAABJRU5ErkJggg==\n",
       "\" style=\"display:inline;vertical-align:middle;\" /></a></td></tr>\n",
       "<tr><td>8</td><td>Operation</td><td>operator:&nbsp;11<br>operand:&nbsp;10<br></td><td><a class=\"ProveItLink\" href=\"../5bdd387ae2a10752c3ad16ba6b67c0e39d26b0ee0/expr.ipynb\"><img src=\"data:image/png;base64,iVBORw0KGgoAAAANSUhEUgAAABoAAAAJBAMAAADeJiHIAAAAMFBMVEX///+qqqrMzMzu7u5mZmaY\n",
       "mJhEREQQEBB2dnaIiIhUVFS6uroiIiIyMjLc3NwAAAAxFEmoAAAAAXRSTlMAQObYZgAAAExJREFU\n",
       "CNdjYICBVzO2P4BzuOsY8uEchvcBDG4MDG/PgMBphvUMDCcRct8YmD/BOXw/GRg/MMN4zB8ZuC4I\n",
       "wSWvMsg4NCCsm7kpcwMArzoXiK6Dv2MAAAAASUVORK5CYII=\n",
       "\" style=\"display:inline;vertical-align:middle;\" /></a></td></tr>\n",
       "<tr><td>9</td><td>Operation</td><td>operator:&nbsp;11<br>operand:&nbsp;12<br></td><td><a class=\"ProveItLink\" href=\"../74752f37113c2f2a910a8022bc04ee9e9dd06cc10/expr.ipynb\"><img src=\"data:image/png;base64,iVBORw0KGgoAAAANSUhEUgAAABgAAAAOBAMAAADH1sFNAAAAMFBMVEX///9mZmbMzMxERESYmJiI\n",
       "iIh2dnaqqqoQEBBUVFTu7u66uroiIiIyMjLc3NwAAABYXk/VAAAAAXRSTlMAQObYZgAAAFRJREFU\n",
       "CNdjYICClT0MSOAmMuc7Epv7FxKH7QASh3dqpAOcs96A4ROcU7+AoY3h7RkQOM0gy8DwES5zkIH7\n",
       "C5I1jAjDPzFwJMA50xkkEfasDHRgAABNpxc6/bk9/gAAAABJRU5ErkJggg==\n",
       "\" style=\"display:inline;vertical-align:middle;\" /></a></td></tr>\n",
       "<tr><td>10</td><td>Variable</td><td></td><td><a class=\"ProveItLink\" href=\"../../../../__pv_it/07527342713064c87612d00d8557c53d53d5324a0/expr.ipynb\"><img src=\"data:image/png;base64,iVBORw0KGgoAAAANSUhEUgAAAAsAAAAJBAMAAAAWSsseAAAAMFBMVEX///8yMjKqqqrMzMzu7u4i\n",
       "IiJmZmaYmJhEREQQEBC6urp2dnaIiIhUVFTc3NwAAAD87Fq/AAAAAXRSTlMAQObYZgAAAEhJREFU\n",
       "CNdjYOC7s2seAwPDygccHxgY+L4zsDUwMPB+YGA9wMDA38Dgb8DA8P4Agz6DA4O/AsNFJgMGxgKm\n",
       "MG6gyjunLE4xAAAZTBA5TB6DCwAAAABJRU5ErkJggg==\n",
       "\" style=\"display:inline;vertical-align:middle;\" /></a></td></tr>\n",
       "<tr><td>11</td><td>Literal</td><td></td><td><a class=\"ProveItLink\" href=\"../../../negation/__pv_it/3fc7a08bb9735faa20ef8e175f6ea95511acc9c70/expr.ipynb\"><img src=\"data:image/png;base64,iVBORw0KGgoAAAANSUhEUgAAAA4AAAACBAMAAACapPCZAAAAElBMVEX///+6uroiIiIyMjLc3NwA\n",
       "AAA6l9OrAAAAAXRSTlMAQObYZgAAABBJREFUCNdjcFYCAUUGKAAADR4BD8/TF5gAAAAASUVORK5C\n",
       "YII=\n",
       "\" style=\"display:inline;vertical-align:middle;\" /></a></td></tr>\n",
       "<tr><td>12</td><td>Variable</td><td></td><td><a class=\"ProveItLink\" href=\"../../../../__pv_it/6840a4fa6c106149dc16a131294d0c5e44f1b0480/expr.ipynb\"><img src=\"data:image/png;base64,iVBORw0KGgoAAAANSUhEUgAAAAkAAAAOBAMAAAAPuiubAAAALVBMVEX///9mZmbMzMxERESYmJiI\n",
       "iIh2dna6urqqqqoyMjIiIiIQEBBUVFTu7u4AAAD9S1JeAAAAAXRSTlMAQObYZgAAAE1JREFUCNdj\n",
       "4D29gAEIOA+ASL4GEFl3AURmgQiGOaFHGBh4HzPwKTBwvGXgTmBgnMDAJ8DAJcBQ5wBSLncBJLWN\n",
       "gYGngRFoBO9REQYGAGrcDtUkVqASAAAAAElFTkSuQmCC\n",
       "\" style=\"display:inline;vertical-align:middle;\" /></a></td></tr>\n",
       "</table>\n"
      ],
      "text/plain": [
       "0. (a - b - a + b) = (-b + b)\n",
       "   core type: Operation\n",
       "   operator: 1\n",
       "   operands: 2\n",
       "1. =\n",
       "   core type: Literal\n",
       "   sub-expressions: \n",
       "2. (a - b - a + b , -b + b)\n",
       "   core type: ExprTuple\n",
       "   sub-expressions: 3, 4\n",
       "3. a - b - a + b\n",
       "   core type: Operation\n",
       "   operator: 6\n",
       "   operands: 5\n",
       "4. -b + b\n",
       "   core type: Operation\n",
       "   operator: 6\n",
       "   operands: 7\n",
       "5. (a , -b , -a , b)\n",
       "   core type: ExprTuple\n",
       "   sub-expressions: 10, 9, 8, 12\n",
       "6. +\n",
       "   core type: Literal\n",
       "   sub-expressions: \n",
       "7. (-b , b)\n",
       "   core type: ExprTuple\n",
       "   sub-expressions: 9, 12\n",
       "8. -a\n",
       "   core type: Operation\n",
       "   operator: 11\n",
       "   operand: 10\n",
       "9. -b\n",
       "   core type: Operation\n",
       "   operator: 11\n",
       "   operand: 12\n",
       "10. a\n",
       "    core type: Variable\n",
       "    sub-expressions: \n",
       "11. -\n",
       "    core type: Literal\n",
       "    sub-expressions: \n",
       "12. b\n",
       "    core type: Variable\n",
       "    sub-expressions: "
      ]
     },
     "execution_count": 4,
     "metadata": {},
     "output_type": "execute_result"
    }
   ],
   "source": [
    "# display the expression information\n",
    "expr.exprInfo()"
   ]
  },
  {
   "cell_type": "code",
   "execution_count": null,
   "metadata": {},
   "outputs": [],
   "source": []
  }
 ],
 "metadata": {
  "kernelspec": {
   "display_name": "Python 3",
   "language": "python",
   "name": "python3"
  }
 },
 "nbformat": 4,
 "nbformat_minor": 0
}
