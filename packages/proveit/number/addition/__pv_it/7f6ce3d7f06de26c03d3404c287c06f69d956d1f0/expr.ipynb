{
 "cells": [
  {
   "cell_type": "markdown",
   "metadata": {},
   "source": [
    "Expression of type <a class=\"ProveItLink\" href=\"../../../../../../doc/html/api/proveit.logic.Equals.html\">Equals</a>\n",
    "=======================\n",
    "# from context <a class=\"ProveItLink\" href=\"../../_context_.ipynb\">proveit.number.addition</a>"
   ]
  },
  {
   "cell_type": "code",
   "execution_count": 1,
   "metadata": {},
   "outputs": [],
   "source": [
    "# import Expression classes needed to build the expression\n",
    "from proveit.logic import Equals\n",
    "from proveit.number import Add, three, two, zero"
   ]
  },
  {
   "cell_type": "code",
   "execution_count": 2,
   "metadata": {},
   "outputs": [
    {
     "data": {
      "text/html": [
       "<strong id=\"expr\">expr:</strong> <a class=\"ProveItLink\" href=\"expr.ipynb\"><img src=\"data:image/png;base64,iVBORw0KGgoAAAANSUhEUgAAAP8AAAAVBAMAAAB7+SUdAAAAMFBMVEX////c3NwiIiJERESqqqqY\n",
       "mJh2dnZmZmYQEBDu7u4yMjJUVFTMzMyIiIi6uroAAAAs73DqAAAAAXRSTlMAQObYZgAAAr9JREFU\n",
       "SMfFlk9oE0EUxr9NNt1NspusXjxUsYiIoJge9Kp766k0XnqUoJCCEAwKDQTFCh6sSF29tDeL1YPx\n",
       "4F4FwZzqwUODIIq1GDwKkioxEqFZZ/9kkze7aYk5OIcd9rfzzXwzb97MAv+9pGojiC+EsO9Dyt8C\n",
       "y1vXuS8Hymc5sp4/TUH8xocqpGqgU8WEUFqrczB/SR8kfwacwkPakWDiCxUIRTToUkXq8ZPAasBA\n",
       "wsA41CY3IaR2EC5Xa1AnoHodPXCrpIHINiFjTaQnCHkHfAJmAwa2gJdAxpun5tZXdPykxJfLbCwT\n",
       "qR8unnYreRHJDiFiz4BHTgANDSsBA4vAHQOv3RiI3qrN+Aa6xJd/A9JFKE3SeaINiRpgpRsCj/wG\n",
       "NnREdX5Ps7V8YeAmNQA/BF3iy+eBwzkoO/xwkTZPnqOfCC3WQw1jRc6AlHOqjMEZSJjEQE/+1DXQ\n",
       "4ofbyFGiXDaDBnIQnc0jVZxit0hkndYtOl+sd+33G3DkSwMMrIEnH+shBlIL3ArITqvEJGcA6lKY\n",
       "ASbvhIdAmgwYkNshIVC2OQNpx8A18AZw3wgJAZN33E34i8FypXK8UnHXatN59ohQRZS2sXdRdoAB\n",
       "1fQC8/iuG5iDwLksIb78Nuw0FGkaQixiHyGP2q4BkoYzmhcC6YhT7FWT7bSYgqD1zzduGY4Bmoau\n",
       "/Azsg2iM5jjeAOcJSa8iQk2yk+QiEOOPwigbRykiRgzgD8sLSnz5HHs5ipUq6Vw4lp+jltQsGjQv\n",
       "Inr8HoJpaIP9+fxVugfeI8XlhS//yl6WC6/olotYlsWtyVTpCW0Tn99krhN1/iBiuoxlceeeWCrr\n",
       "lPhyWeuXTwdO1j1I8Ci+1f8iBu56Spg8ltv9Lt+DFAKfZ3f/2aCk4F7H/17iodfxcPLxUQwktQAS\n",
       "zCHlwii/ZJ9D2KGh5H8BQNj7T1s2ZtcAAAAASUVORK5CYII=\n",
       "\" style=\"display:inline;vertical-align:middle;\" /></a><br>"
      ],
      "text/plain": [
       "expr: (0 + 2 + 3 + 0) = (2 + 3 + 0)"
      ]
     },
     "execution_count": 2,
     "metadata": {},
     "output_type": "execute_result"
    }
   ],
   "source": [
    "# build up the expression from sub-expressions\n",
    "expr = Equals(Add(zero, two, three, zero), Add(two, three, zero))"
   ]
  },
  {
   "cell_type": "code",
   "execution_count": 3,
   "metadata": {},
   "outputs": [
    {
     "name": "stdout",
     "output_type": "stream",
     "text": [
      "Passed sanity check: built 'expr' is the same as the stored Expression.\n"
     ]
    }
   ],
   "source": [
    "# check that the built expression is the same as the stored expression\n",
    "%check_expr"
   ]
  },
  {
   "cell_type": "code",
   "execution_count": 4,
   "metadata": {},
   "outputs": [
    {
     "data": {
      "text/html": [
       "<table><tr><th>&nbsp;</th><th>core type</th><th>sub-expressions</th><th>expression</th></tr>\n",
       "<tr><td>0</td><td>Operation</td><td>operator:&nbsp;1<br>operands:&nbsp;2<br></td><td><a class=\"ProveItLink\" href=\"expr.ipynb\"><img src=\"data:image/png;base64,iVBORw0KGgoAAAANSUhEUgAAAP8AAAAVBAMAAAB7+SUdAAAAMFBMVEX////c3NwiIiJERESqqqqY\n",
       "mJh2dnZmZmYQEBDu7u4yMjJUVFTMzMyIiIi6uroAAAAs73DqAAAAAXRSTlMAQObYZgAAAr9JREFU\n",
       "SMfFlk9oE0EUxr9NNt1NspusXjxUsYiIoJge9Kp766k0XnqUoJCCEAwKDQTFCh6sSF29tDeL1YPx\n",
       "4F4FwZzqwUODIIq1GDwKkioxEqFZZ/9kkze7aYk5OIcd9rfzzXwzb97MAv+9pGojiC+EsO9Dyt8C\n",
       "y1vXuS8Hymc5sp4/TUH8xocqpGqgU8WEUFqrczB/SR8kfwacwkPakWDiCxUIRTToUkXq8ZPAasBA\n",
       "wsA41CY3IaR2EC5Xa1AnoHodPXCrpIHINiFjTaQnCHkHfAJmAwa2gJdAxpun5tZXdPykxJfLbCwT\n",
       "qR8unnYreRHJDiFiz4BHTgANDSsBA4vAHQOv3RiI3qrN+Aa6xJd/A9JFKE3SeaINiRpgpRsCj/wG\n",
       "NnREdX5Ps7V8YeAmNQA/BF3iy+eBwzkoO/xwkTZPnqOfCC3WQw1jRc6AlHOqjMEZSJjEQE/+1DXQ\n",
       "4ofbyFGiXDaDBnIQnc0jVZxit0hkndYtOl+sd+33G3DkSwMMrIEnH+shBlIL3ArITqvEJGcA6lKY\n",
       "ASbvhIdAmgwYkNshIVC2OQNpx8A18AZw3wgJAZN33E34i8FypXK8UnHXatN59ohQRZS2sXdRdoAB\n",
       "1fQC8/iuG5iDwLksIb78Nuw0FGkaQixiHyGP2q4BkoYzmhcC6YhT7FWT7bSYgqD1zzduGY4Bmoau\n",
       "/Azsg2iM5jjeAOcJSa8iQk2yk+QiEOOPwigbRykiRgzgD8sLSnz5HHs5ipUq6Vw4lp+jltQsGjQv\n",
       "Inr8HoJpaIP9+fxVugfeI8XlhS//yl6WC6/olotYlsWtyVTpCW0Tn99krhN1/iBiuoxlceeeWCrr\n",
       "lPhyWeuXTwdO1j1I8Ci+1f8iBu56Spg8ltv9Lt+DFAKfZ3f/2aCk4F7H/17iodfxcPLxUQwktQAS\n",
       "zCHlwii/ZJ9D2KGh5H8BQNj7T1s2ZtcAAAAASUVORK5CYII=\n",
       "\" style=\"display:inline;vertical-align:middle;\" /></a></td></tr>\n",
       "<tr><td>1</td><td>Literal</td><td></td><td><a class=\"ProveItLink\" href=\"../../../../logic/equality/__pv_it/2fb26078095930560931daa0500ce419a39ea6cd0/expr.ipynb\"><img src=\"data:image/png;base64,iVBORw0KGgoAAAANSUhEUgAAAA4AAAAFBAMAAACHocAhAAAAFVBMVEX///9EREQiIiJUVFQyMjJm\n",
       "ZmYAAADubVkoAAAAAXRSTlMAQObYZgAAABRJREFUCNdjCHEBAWcGXCBICQQUAUpuAwlgGKrkAAAA\n",
       "AElFTkSuQmCC\n",
       "\" style=\"display:inline;vertical-align:middle;\" /></a></td></tr>\n",
       "<tr><td>2</td><td>ExprTuple</td><td>3, 4</td><td><a class=\"ProveItLink\" href=\"../d58abf707a8990e8e07d749273c0c1b9073f856c0/expr.ipynb\"><img src=\"data:image/png;base64,iVBORw0KGgoAAAANSUhEUgAAAN0AAAAVBAMAAAAwUfbwAAAAMFBMVEX////c3NwiIiJERESqqqqY\n",
       "mJh2dnZmZmYQEBDu7u4yMjJUVFTMzMyIiIi6uroAAAAs73DqAAAAAXRSTlMAQObYZgAAAoZJREFU\n",
       "SMe9lj9oE1Ecx793vfy55O56ujgo2EFEUGwHXfW2TqVxcZSgkIJQDAoNBEUHBxVpTxe7eVgdPAez\n",
       "CoKZ6uDQIIhiFYOjIKkSIxHa8717uVx+LwmhFPKGu8vn3e993/vm93vvgHE3qzY2qQv88g549PW6\n",
       "1HOgfEYi64VTEulGKaW1Ou0yCpccSvQbH6tIVdnTc+AkHlZJr1LBNxqgFNGQjOhGHYTZlKYLa5sS\n",
       "ta6fADzArMGcgukJ/EDcsi7ULUKSTUxOERJHvQKmO6uwxf2Kg9+UvAc+A+eBNBu6AuuXwHPilr6L\n",
       "7A4hWqzXIXHUHRdvhKFax4L5rl5EjgMNG6vAD2CyCKNJxsq0kaJ6rEV+dkgc9dLFTaqHrp8R+Qts\n",
       "OJhwsAQczsPYlkdX2zJ5AUJ6opifrqSXqRA9pcX0akgW8UxEtuTRN/KUGJcr/XqtqLNFV4P1aHK9\n",
       "enloHpaH6K1BJp/qQ/UyM5IezOVBetYt7Az2MzXTp5duD/XzGmQ9rLgD/DS2uB7/5/8wWPb9Y74v\n",
       "nNgMrzFRqpig70RRfDGh1Snff3LP9/nzIeBsjhCeLzmudzvMbI3WA7Qi9hHyuC30SD1EUbNQ7N7V\n",
       "6IEb6tF6mLe5n6fDyk3S2sJb4BzNfg8qnZOI4q4ZRSSIHv6xjKWE1ftFIOFhgf04gtUqGUs5Wlig\n",
       "MzBzaEgZy6N0Xtb7C4Wr9P/7AEvKWNXR74PXw3e+8y6+ptmhBkEgrXi29FTKIB6lr7BlTAeBtJto\n",
       "pbJDib60yZaUqSNt926rc31nyAhikXCt72yjhO1niXwv+Nk3+giSGHGWUrIozqM9tMRuXta98PTa\n",
       "S9vVx0GWm6+M73viC/AfRSPdj01VZ5AAAAAASUVORK5CYII=\n",
       "\" style=\"display:inline;vertical-align:middle;\" /></a></td></tr>\n",
       "<tr><td>3</td><td>Operation</td><td>operator:&nbsp;6<br>operands:&nbsp;5<br></td><td><a class=\"ProveItLink\" href=\"../d2b99dc3fe5bdacd00240e904a0b3bd83a0915960/expr.ipynb\"><img src=\"data:image/png;base64,iVBORw0KGgoAAAANSUhEUgAAAHUAAAAQBAMAAADaEy1mAAAAMFBMVEX///9EREQQEBCYmJh2dnaq\n",
       "qqrc3NxUVFQyMjK6uroiIiLMzMyIiIhmZmbu7u4AAADSWfX9AAAAAXRSTlMAQObYZgAAAVxJREFU\n",
       "KM+FkzFLw0AYhl/EpE2aRlcnV0XQTs4ROolifkChmVykmN1FJw8nf4BgEUXEwQyu0oJDRRQ7OBRU\n",
       "CA4OQkEwikptvOTa2u9S8Ya85OF7Lh/3XYDm1R3oKjXGKMjk52xKzPtrj8cRnj3CVRc3tLQErUVd\n",
       "fds8BowyjHUBnkSkfOgvhCzZ+Op8zxF5CVzwHVxo7wIURAxNI/VJSLHnKlWRh8Cug5E6Mm+kMt1G\n",
       "lrro9dx1v4GKjVULmZZUCb0tkbRLXDXgbjV2A9mtWJScbiLpWoPdDUjEmPzLlXvOjsouZvwBPUdn\n",
       "9cpfG4ztMSZ6q8XPX7ICjOf4loxtTTDmds4qF81IoTOCUsdyPzFDP3bpjIpOdDeGy9Q9A2YJ+QBO\n",
       "HOLyuzHP4wCPHqlU9/OLdLdzaAGdr26bUzyaC2v0ZPQwDKmrPDRs6pq3NfoTFCCvBOm6ibXzP9H6\n",
       "3R+LaXefNDRXJAAAAABJRU5ErkJggg==\n",
       "\" style=\"display:inline;vertical-align:middle;\" /></a></td></tr>\n",
       "<tr><td>4</td><td>Operation</td><td>operator:&nbsp;6<br>operands:&nbsp;7<br></td><td><a class=\"ProveItLink\" href=\"../6136e9f24a7fe85b60df47fc62004bb4710b25980/expr.ipynb\"><img src=\"data:image/png;base64,iVBORw0KGgoAAAANSUhEUgAAAFAAAAAQBAMAAABzZ+XyAAAAMFBMVEX///+YmJh2dnbMzMwQEBAi\n",
       "IiLu7u6qqqqIiIhUVFS6urpEREQyMjJmZmbc3NwAAACOMKdoAAAAAXRSTlMAQObYZgAAAQFJREFU\n",
       "KM9j4Lt7egEDCmBW0i5AFcntuMzA8JKB4zuq8FsGrh+oIlEMqQYM0xgY4iFctgcQWr+A4SuKCEcA\n",
       "A8cBBpcEhvkQu9kbINL1cIVQEdYJDFz/GM4nMNxHVcgAtxoqwn+BgRnsvPgENIU8E1AUvldgYAZp\n",
       "Zf7EgKrQ6CQDhkKQGp4NaAoZOLywKrzNgK6QwT8Bi9UcYAfxnjlz1OfMGRD7MQPDfgFkEZBnPjIw\n",
       "1DLwPUDWz/Y/AawQJXjY/zEwX2BgRFHI8AcYDigiwABnCmB4qqR0FdWNjQxcaOEQzpBiwBD//z9q\n",
       "PDCw371TgCqSqzEZOeqRfI1TBBJxDfhEAMG9V2/GmhRGAAAAAElFTkSuQmCC\n",
       "\" style=\"display:inline;vertical-align:middle;\" /></a></td></tr>\n",
       "<tr><td>5</td><td>ExprTuple</td><td>10, 8, 9, 10</td><td><a class=\"ProveItLink\" href=\"../0ca2a64168abc23945e3bc947d5f1d2a3f9aa2c50/expr.ipynb\"><img src=\"data:image/png;base64,iVBORw0KGgoAAAANSUhEUgAAAFEAAAAVBAMAAADMaB9/AAAAMFBMVEX////c3NwiIiJERESqqqqY\n",
       "mJh2dnZmZmYQEBDu7u4yMjJUVFTMzMyIiIi6uroAAAAs73DqAAAAAXRSTlMAQObYZgAAAaNJREFU\n",
       "KM+NkztLI1EYhp/ExGSSzDhWFgpOITaK2ti68w8Smy0lKGglpoogChY2gmiwMZ0BsVhs8gMsUmlh\n",
       "YVhYFjYrXkobL2hEwcRzmZl4KcwUc97zzgPf+d7zDbT/WNU2oCn5OoGds2XP6Vma0CI1O+NqZaz8\n",
       "rRCrCPULRtiuKDdU5lwDPVivmgxfGMNQArOK6WCWlJssEL5VasHlXpO/4R/8hLj4WMa6U258nWRD\n",
       "qXRADsGNTRGuoStH6kG5iWdiDb9Tr/oTnLp0uOShP0vq1e8y/OyJRFkfvS7IKp059jVZ98nTrF6P\n",
       "DmiRWSIlNj+Re74wN9+T1iqNj9VjY0HaW4V31VO3kpQdPXqfa97aBz8yQUcZSa4hU4rolIjk6FYX\n",
       "0yz4pEgpbcvq48jkOx1UrWOYVOoFRm3DS34aoiXmxGaAYsWQQYcGZ+ccpf5g1dl1ZGyusYFM6Ups\n",
       "duYPMbZs4TabTUepyOKSS1GeycjXxFAkLojb/p3YfFGXQRDiNqNe0kQDt6UygZrXU/c9achZ6/U2\n",
       "rdEPlBlYSXmgUDt/x394A9gLcdxmBSofAAAAAElFTkSuQmCC\n",
       "\" style=\"display:inline;vertical-align:middle;\" /></a></td></tr>\n",
       "<tr><td>6</td><td>Literal</td><td></td><td><a class=\"ProveItLink\" href=\"../3e6688136fa3c7aefbebe51301b7c3ebf0b69c440/expr.ipynb\"><img src=\"data:image/png;base64,iVBORw0KGgoAAAANSUhEUgAAAA4AAAAOBAMAAADtZjDiAAAAJFBMVEX///+6urpUVFQQEBAiIiIy\n",
       "MjJmZmaIiIiqqqrc3Nzu7u4AAACgHpL+AAAAAXRSTlMAQObYZgAAAB5JREFUCNdjYGBgWMkAAe2k\n",
       "0Kmhoc6hoUGk6BMHYgAHOwjcado9fwAAAABJRU5ErkJggg==\n",
       "\" style=\"display:inline;vertical-align:middle;\" /></a></td></tr>\n",
       "<tr><td>7</td><td>ExprTuple</td><td>8, 9, 10</td><td><a class=\"ProveItLink\" href=\"../d3378321f4cc70038417614a965491259f8579390/expr.ipynb\"><img src=\"data:image/png;base64,iVBORw0KGgoAAAANSUhEUgAAAD0AAAAVBAMAAAAHs/uBAAAAMFBMVEX////c3NwiIiJERESqqqqY\n",
       "mJh2dnZmZmYQEBDu7u4yMjJUVFTMzMyIiIi6uroAAAAs73DqAAAAAXRSTlMAQObYZgAAAVNJREFU\n",
       "KM+FkjtLw1AYhp+kt5xe4+Tg0slFBwddJZujdXGU4tCCIHSqIAgOLoJoRzcD6iAu/QmddHBocFGs\n",
       "YHF0aRUvZGk9Obm0IMUM4f3eB77rgf++vDMRbXi/O5jeXQ6cm8qiL8TeQ4tUS6ortCYvlnK1Gj0/\n",
       "nd4V82BDziHTQO8rN/lJoajUPTzBOhgNjEMyA+XGIz4HPZNTeIO0S2oQ9hTk/4G2Rcyi7pdzQ37t\n",
       "N/ItuUOyxqWK22WfZreaI14mbnOs4vNo5sfuGM/vowqnFiJuuGP5s32fdwKotYh9Rf2VPH7gjVVj\n",
       "SrlnbsjlfKuml39JBrewRkOKgo3+rpTczyYkbKoy62ylWhQf0s2V6JWV0i1xhDffq9TD4bAoTkxp\n",
       "r+xcoJSod+Rx0l0MM7yzyR8l95sINkMiGnGkttV9J3Ih78tMEIyeUaQyXiFt8vt6hl/CtF17Pxvb\n",
       "KAAAAABJRU5ErkJggg==\n",
       "\" style=\"display:inline;vertical-align:middle;\" /></a></td></tr>\n",
       "<tr><td>8</td><td>Literal</td><td></td><td><a class=\"ProveItLink\" href=\"../../../numeral/__pv_it/77d407a64829263cdc16415becd4c2293f77a4bf0/expr.ipynb\"><img src=\"data:image/png;base64,iVBORw0KGgoAAAANSUhEUgAAAAkAAAAOBAMAAAAPuiubAAAAMFBMVEX///+YmJh2dnbMzMwQEBAi\n",
       "IiLu7u6qqqqIiIhUVFS6urpEREQyMjJmZmbc3NwAAACOMKdoAAAAAXRSTlMAQObYZgAAAFBJREFU\n",
       "CNdj4Lt7egEDw0sGju8MDNMYGOIZGFwSGOYvYDifwHAfKAEUSQASzJ9ATJ4NIPI2iOCYACJrGfge\n",
       "MDBfYGB8wPBUSekqUPH//18ZAIliFhc3zESNAAAAAElFTkSuQmCC\n",
       "\" style=\"display:inline;vertical-align:middle;\" /></a></td></tr>\n",
       "<tr><td>9</td><td>Literal</td><td></td><td><a class=\"ProveItLink\" href=\"../../../numeral/__pv_it/9176d93c83afa2c995b614976e3cb49207102fa70/expr.ipynb\"><img src=\"data:image/png;base64,iVBORw0KGgoAAAANSUhEUgAAAAoAAAAOBAMAAADkjZCYAAAAMFBMVEX///+YmJju7u4QEBBUVFQy\n",
       "MjIiIiKIiIi6urpmZmbc3NyqqqpERER2dnbMzMwAAAB0GlNiAAAAAXRSTlMAQObYZgAAAE1JREFU\n",
       "CNdjYHh79zQDA9cEhv4CBt7fDPwJDNxgEgiAIkAQAsR8Vx1ATIbiBhDJ/ImB6wEDz0cG/U8gkj+A\n",
       "ge0XA7sAQ/8FBoadM6MZAEflFACalZ/OAAAAAElFTkSuQmCC\n",
       "\" style=\"display:inline;vertical-align:middle;\" /></a></td></tr>\n",
       "<tr><td>10</td><td>Literal</td><td></td><td><a class=\"ProveItLink\" href=\"../../../numeral/__pv_it/ec23fc7a1b4222a5f4948b495002b97d6fa18c3c0/expr.ipynb\"><img src=\"data:image/png;base64,iVBORw0KGgoAAAANSUhEUgAAAAoAAAAOBAMAAADkjZCYAAAALVBMVEX///8QEBCYmJh2dnaqqqrc\n",
       "3NxUVFQyMjK6uroiIiLMzMyIiIhmZmbu7u4AAAAZjyHdAAAAAXRSTlMAQObYZgAAAEpJREFUCNdj\n",
       "YLiz+xQDA8MMhpsLGLgnMHAXMHAmMHA8ZeA7wMD1hCHOgIHrNZh8jES+Bss+AqlkeQrSxTyBgWEK\n",
       "w8UFDAx3rLMYAMCjFldHSx/9AAAAAElFTkSuQmCC\n",
       "\" style=\"display:inline;vertical-align:middle;\" /></a></td></tr>\n",
       "</table>\n"
      ],
      "text/plain": [
       "0. (0 + 2 + 3 + 0) = (2 + 3 + 0)\n",
       "   core type: Operation\n",
       "   operator: 1\n",
       "   operands: 2\n",
       "1. =\n",
       "   core type: Literal\n",
       "   sub-expressions: \n",
       "2. (0 + 2 + 3 + 0 , 2 + 3 + 0)\n",
       "   core type: ExprTuple\n",
       "   sub-expressions: 3, 4\n",
       "3. 0 + 2 + 3 + 0\n",
       "   core type: Operation\n",
       "   operator: 6\n",
       "   operands: 5\n",
       "4. 2 + 3 + 0\n",
       "   core type: Operation\n",
       "   operator: 6\n",
       "   operands: 7\n",
       "5. (0 , 2 , 3 , 0)\n",
       "   core type: ExprTuple\n",
       "   sub-expressions: 10, 8, 9, 10\n",
       "6. +\n",
       "   core type: Literal\n",
       "   sub-expressions: \n",
       "7. (2 , 3 , 0)\n",
       "   core type: ExprTuple\n",
       "   sub-expressions: 8, 9, 10\n",
       "8. 2\n",
       "   core type: Literal\n",
       "   sub-expressions: \n",
       "9. 3\n",
       "   core type: Literal\n",
       "   sub-expressions: \n",
       "10. 0\n",
       "    core type: Literal\n",
       "    sub-expressions: "
      ]
     },
     "execution_count": 4,
     "metadata": {},
     "output_type": "execute_result"
    }
   ],
   "source": [
    "# display the expression information\n",
    "expr.exprInfo()"
   ]
  },
  {
   "cell_type": "code",
   "execution_count": null,
   "metadata": {},
   "outputs": [],
   "source": []
  }
 ],
 "metadata": {
  "kernelspec": {
   "display_name": "Python 3",
   "language": "python",
   "name": "python3"
  }
 },
 "nbformat": 4,
 "nbformat_minor": 0
}
