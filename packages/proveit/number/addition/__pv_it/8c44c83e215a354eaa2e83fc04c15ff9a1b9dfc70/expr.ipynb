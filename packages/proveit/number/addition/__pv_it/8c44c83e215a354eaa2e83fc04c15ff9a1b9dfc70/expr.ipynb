{
 "cells": [
  {
   "cell_type": "markdown",
   "metadata": {},
   "source": [
    "Expression of type <a class=\"ProveItLink\" href=\"../../../../../../doc/html/api/proveit.number.Add.html\">Add</a>\n",
    "=======================\n",
    "# from context <a class=\"ProveItLink\" href=\"../../_context_.ipynb\">proveit.number.addition</a>"
   ]
  },
  {
   "cell_type": "code",
   "execution_count": 1,
   "metadata": {},
   "outputs": [],
   "source": [
    "# import Expression classes needed to build the expression\n",
    "from proveit import Variable\n",
    "from proveit._common_ import b\n",
    "from proveit.number import Add, Mult, Neg, three"
   ]
  },
  {
   "cell_type": "code",
   "execution_count": 2,
   "metadata": {},
   "outputs": [
    {
     "data": {
      "text/html": [
       "<strong id=\"expr\">expr:</strong> <a class=\"ProveItLink\" href=\"expr.ipynb\"><img src=\"data:image/png;base64,iVBORw0KGgoAAAANSUhEUgAAALcAAAAVBAMAAAD2lGJJAAAAMFBMVEX///+6uroyMjLMzMwQEBAi\n",
       "IiKYmJhmZmZUVFSIiIh2dnbc3Nzu7u5ERESqqqoAAABZrPngAAAAAXRSTlMAQObYZgAAAeRJREFU\n",
       "OMtjYBhYwDgBQ4hNgFqGWzAwWK26B+eecAUSxWhqeFoCCAjgADoM3AUM8gjnawAxE7oipgZCAijg\n",
       "NJTmnMDA9Y+BH+GQf6BwWYCmiv8BmnYMARTwEkqzHGDgQzac8Q/I1w5oquQPoGnHEMBquBBELTxY\n",
       "uMDW3ENTtRRdO7IA98rul5VYDa+CBzQ0MDtnJDAwLEdTpTGzDdVwZIFTDKkJrlgNVwNi5kWI6Dl/\n",
       "geEzA8MjVFU8fxn4DVBSC7LAAob5DI+xGu4IJqeAUjYPKBzfH2DwYmAQQVXF94eBZQGybhSBAwy9\n",
       "OML8IyRaQdF4HhTcRQwM3xkY7FFVsSsw8BcwMGwKBYFAhAAMeCKbXKSkFKKkpAE1nNuAgfcbkHnk\n",
       "ApAIZ2D8BjUcoYoVmBMSkA1AFeD+zMCD1eV+QBf/gRgOTebsfzCCBZiq6w+gJXOEQDbnB4Y5WA2/\n",
       "BlSpwMD6Gyb+GRyYSWiGG4AiAtlwJAG+b7wO3BOwGg5MdJwJDPLw2OljqGDASIocD9hRsztE4O1d\n",
       "IDjAc3PNqmkwDqrhokD8vFwPUXBNB4WlIlpS7CxDK7jQBXBk/w1YJDGyP4lAElZ2L8AiyTUBTRW5\n",
       "QAeL2CFqVRY7sIh1U8twbsxqjtOAKJ0AA4CMzzDJ8wQAAAAASUVORK5CYII=\n",
       "\" style=\"display:inline;vertical-align:middle;\" /></a><br>"
      ],
      "text/plain": [
       "expr: _x_ + (3 * b) + b - b"
      ]
     },
     "execution_count": 2,
     "metadata": {},
     "output_type": "execute_result"
    }
   ],
   "source": [
    "# build up the expression from sub-expressions\n",
    "expr = Add(Variable(\"_x_\", latexFormat = r\"{_{-}x_{-}}\"), Mult(three, b), b, Neg(b))"
   ]
  },
  {
   "cell_type": "code",
   "execution_count": 3,
   "metadata": {},
   "outputs": [
    {
     "name": "stdout",
     "output_type": "stream",
     "text": [
      "Passed sanity check: built 'expr' is the same as the stored Expression.\n"
     ]
    }
   ],
   "source": [
    "# check that the built expression is the same as the stored expression\n",
    "%check_expr"
   ]
  },
  {
   "cell_type": "code",
   "execution_count": 4,
   "metadata": {},
   "outputs": [
    {
     "data": {
      "text/html": [
       "<table><tr><th>&nbsp;</th><th>core type</th><th>sub-expressions</th><th>expression</th></tr>\n",
       "<tr><td>0</td><td>Operation</td><td>operator:&nbsp;1<br>operands:&nbsp;2<br></td><td><a class=\"ProveItLink\" href=\"expr.ipynb\"><img src=\"data:image/png;base64,iVBORw0KGgoAAAANSUhEUgAAALcAAAAVBAMAAAD2lGJJAAAAMFBMVEX///+6uroyMjLMzMwQEBAi\n",
       "IiKYmJhmZmZUVFSIiIh2dnbc3Nzu7u5ERESqqqoAAABZrPngAAAAAXRSTlMAQObYZgAAAeRJREFU\n",
       "OMtjYBhYwDgBQ4hNgFqGWzAwWK26B+eecAUSxWhqeFoCCAjgADoM3AUM8gjnawAxE7oipgZCAijg\n",
       "NJTmnMDA9Y+BH+GQf6BwWYCmiv8BmnYMARTwEkqzHGDgQzac8Q/I1w5oquQPoGnHEMBquBBELTxY\n",
       "uMDW3ENTtRRdO7IA98rul5VYDa+CBzQ0MDtnJDAwLEdTpTGzDdVwZIFTDKkJrlgNVwNi5kWI6Dl/\n",
       "geEzA8MjVFU8fxn4DVBSC7LAAob5DI+xGu4IJqeAUjYPKBzfH2DwYmAQQVXF94eBZQGybhSBAwy9\n",
       "OML8IyRaQdF4HhTcRQwM3xkY7FFVsSsw8BcwMGwKBYFAhAAMeCKbXKSkFKKkpAE1nNuAgfcbkHnk\n",
       "ApAIZ2D8BjUcoYoVmBMSkA1AFeD+zMCD1eV+QBf/gRgOTebsfzCCBZiq6w+gJXOEQDbnB4Y5WA2/\n",
       "BlSpwMD6Gyb+GRyYSWiGG4AiAtlwJAG+b7wO3BOwGg5MdJwJDPLw2OljqGDASIocD9hRsztE4O1d\n",
       "IDjAc3PNqmkwDqrhokD8vFwPUXBNB4WlIlpS7CxDK7jQBXBk/w1YJDGyP4lAElZ2L8AiyTUBTRW5\n",
       "QAeL2CFqVRY7sIh1U8twbsxqjtOAKJ0AA4CMzzDJ8wQAAAAASUVORK5CYII=\n",
       "\" style=\"display:inline;vertical-align:middle;\" /></a></td></tr>\n",
       "<tr><td>1</td><td>Literal</td><td></td><td><a class=\"ProveItLink\" href=\"../3e6688136fa3c7aefbebe51301b7c3ebf0b69c440/expr.ipynb\"><img src=\"data:image/png;base64,iVBORw0KGgoAAAANSUhEUgAAAA4AAAAOBAMAAADtZjDiAAAAJFBMVEX///+6urpUVFQQEBAiIiIy\n",
       "MjJmZmaIiIiqqqrc3Nzu7u4AAACgHpL+AAAAAXRSTlMAQObYZgAAAB5JREFUCNdjYGBgWMkAAe2k\n",
       "0Kmhoc6hoUGk6BMHYgAHOwjcado9fwAAAABJRU5ErkJggg==\n",
       "\" style=\"display:inline;vertical-align:middle;\" /></a></td></tr>\n",
       "<tr><td>2</td><td>ExprTuple</td><td>3, 4, 10, 5</td><td><a class=\"ProveItLink\" href=\"../64c63828f318ad88e27245c6046a0d910c4317d70/expr.ipynb\"><img src=\"data:image/png;base64,iVBORw0KGgoAAAANSUhEUgAAAJQAAAAVBAMAAABS/tqaAAAAMFBMVEX////c3NwiIiJERESqqqqY\n",
       "mJh2dnZmZmYQEBDu7u4yMjJUVFTMzMyIiIi6uroAAAAs73DqAAAAAXRSTlMAQObYZgAAAcxJREFU\n",
       "OMutVDlIA0EUfUo0u8ZNUoiCBwZB7DSgglamtnFrq6CglZhGBRUMKpZmQRCPIjYWEhAFBRshlY2F\n",
       "Nmoh4lGJTbwl4jUT2D+TPQJCHszy5s/wdv77fwYoIvynxVApu2GfY/f1yqHBiMnVg5CFENZn2Wea\n",
       "jS13qRr4v2lSsWMlhBSPAlqB/EYjeKZJIGIlhFeeYRSK4S7VJ0tlDCsht7M87zgeCtdEJDhgIybK\n",
       "c+Z1YFyEqi+rLizpSr6krvYthDYdXurAMDYpokbLmpX86hylxOoLAuk8QkiG8QX0YlGcE9qjJ38T\n",
       "tNzyKhueLJQoZCIsNbAA3ONH/Be+sM2sBPNY5d57NxCIQSaobeJoxSTwAZxIUoBicaoe6GEuqHOM\n",
       "l8aQ0SETQgv8b1xqXoo1piEXWv01clJmN80YeURqK2+WJ9gprlHwGhpt4uQTaAuaUmlmiCoTwlfO\n",
       "vH5WQ3JP70IDnYj7cwb/uxnwRbw7SIYkQtjDFHgz3LGatDN0Y+l8eUQ3J2qCHcczMSmu8+EYsPIk\n",
       "EXGdL7gL21CCLn3uGL+1EfpVnF9D5wfIMarbCHXlqesj81+pNTbqnKUc3x7NRgi7bJQU5UHW0vgD\n",
       "uaB6U85Qv98AAAAASUVORK5CYII=\n",
       "\" style=\"display:inline;vertical-align:middle;\" /></a></td></tr>\n",
       "<tr><td>3</td><td>Variable</td><td></td><td><a class=\"ProveItLink\" href=\"../5144cf74ae6a683b49b974f1b9302b432abf7e930/expr.ipynb\"><img src=\"data:image/png;base64,iVBORw0KGgoAAAANSUhEUgAAACUAAAAJBAMAAABH3vh9AAAAKlBMVEX////MzMwQEBAiIiKYmJhm\n",
       "ZmZUVFSIiIh2dnbc3Nzu7u5ERESqqqoAAABwkVEpAAAAAXRSTlMAQObYZgAAAEtJREFUCNdjYIAA\n",
       "zvbM4+EMqGAFg7ODMppYA0Mtw0E0sQUM2QyYQB1TiPMiAxeakCf7BYYqVCGeK9wKnAUw3undQLCA\n",
       "a3tXRwmMAwC3+RVNp6j0GAAAAABJRU5ErkJggg==\n",
       "\" style=\"display:inline;vertical-align:middle;\" /></a></td></tr>\n",
       "<tr><td>4</td><td>Operation</td><td>operator:&nbsp;6<br>operands:&nbsp;7<br></td><td><a class=\"ProveItLink\" href=\"../1e631544db83ce4853cc0a486ec7448a56387f780/expr.ipynb\"><img src=\"data:image/png;base64,iVBORw0KGgoAAAANSUhEUgAAACIAAAAOBAMAAAC4B9O8AAAAMFBMVEX///+YmJju7u4QEBBUVFQy\n",
       "MjIiIiKIiIi6urpmZmbc3NyqqqpERER2dnbMzMwAAAB0GlNiAAAAAXRSTlMAQObYZgAAAJhJREFU\n",
       "CNdjYHh79zQDDKiYAQmuCQz9BXChECDm/c3AnwAX+Q3E3MgiHJ8gNEIXbwJCMwSwupcIMDDwXXWA\n",
       "i+gfYPgHoosbgASTApDYr8BgCxJhBpmnDzJiKgPDTwauBww8H4Ec5QNAIpOB4yOD/ieICNQ5nJ8Y\n",
       "+AMY2H7BRP4xMF9gYBdg6L8AE/FmmAIkd86MRvi0UoABAPL2JMAQl6zyAAAAAElFTkSuQmCC\n",
       "\" style=\"display:inline;vertical-align:middle;\" /></a></td></tr>\n",
       "<tr><td>5</td><td>Operation</td><td>operator:&nbsp;8<br>operand:&nbsp;10<br></td><td><a class=\"ProveItLink\" href=\"../74752f37113c2f2a910a8022bc04ee9e9dd06cc10/expr.ipynb\"><img src=\"data:image/png;base64,iVBORw0KGgoAAAANSUhEUgAAABgAAAAOBAMAAADH1sFNAAAAMFBMVEX///9mZmbMzMxERESYmJiI\n",
       "iIh2dnaqqqoQEBBUVFTu7u66uroiIiIyMjLc3NwAAABYXk/VAAAAAXRSTlMAQObYZgAAAFRJREFU\n",
       "CNdjYICClT0MSOAmMuc7Epv7FxKH7QASh3dqpAOcs96A4ROcU7+AoY3h7RkQOM0gy8DwES5zkIH7\n",
       "C5I1jAjDPzFwJMA50xkkEfasDHRgAABNpxc6/bk9/gAAAABJRU5ErkJggg==\n",
       "\" style=\"display:inline;vertical-align:middle;\" /></a></td></tr>\n",
       "<tr><td>6</td><td>Literal</td><td></td><td><a class=\"ProveItLink\" href=\"../../../multiplication/__pv_it/21fd2079611555ecce512d99547a00d551e6b86b0/expr.ipynb\"><img src=\"data:image/png;base64,iVBORw0KGgoAAAANSUhEUgAAAAMAAAADBAMAAACkBqiMAAAAElBMVEX///9EREQQEBAiIiLu7u4A\n",
       "AABGBidwAAAAAXRSTlMAQObYZgAAABFJREFUCNdjYHFgcDVgcBIAAASWAQx4jI0xAAAAAElFTkSu\n",
       "QmCC\n",
       "\" style=\"display:inline;vertical-align:middle;\" /></a></td></tr>\n",
       "<tr><td>7</td><td>ExprTuple</td><td>9, 10</td><td><a class=\"ProveItLink\" href=\"../ed5a6ec4c875d8d4dac8f1f17e42c24dc92561870/expr.ipynb\"><img src=\"data:image/png;base64,iVBORw0KGgoAAAANSUhEUgAAACkAAAAVBAMAAAAp9toTAAAAMFBMVEX////c3NwiIiJERESqqqqY\n",
       "mJh2dnZmZmYQEBDu7u4yMjJUVFTMzMyIiIi6uroAAAAs73DqAAAAAXRSTlMAQObYZgAAARBJREFU\n",
       "GNNtka9Pw0AcxT/d2rVlY53H7I8AX4edQpIGAQnJkhpAgiBIqMRRAYLM1JBgSKowmEkEJAtypvya\n",
       "qCF873odScOJd++95L737h38v/rThrGt4Aked9crw78fgpsLu8WKKcyBlUwghdUpnW+CYeUGocAW\n",
       "eAn2n1skApcwr5SZsKOgHXKo1cTcP3m9g07MjfDefmYyfBHk2CnnWj7P9GaXeBH9E3609Eq9uSlB\n",
       "TO9duVZOe6HdliQfKfcUrsralbjHiZqwITyl9YFKKledgZOyJ88bUUT+p7jd0M10sjcRm0fX+BcD\n",
       "SfZwoMqY4Q3qRmuiXuxEhjvLgse6yYbrS5OsGbH8kq4aZTV/6AV+AUvGQYW/r0RJAAAAAElFTkSu\n",
       "QmCC\n",
       "\" style=\"display:inline;vertical-align:middle;\" /></a></td></tr>\n",
       "<tr><td>8</td><td>Literal</td><td></td><td><a class=\"ProveItLink\" href=\"../../../negation/__pv_it/3fc7a08bb9735faa20ef8e175f6ea95511acc9c70/expr.ipynb\"><img src=\"data:image/png;base64,iVBORw0KGgoAAAANSUhEUgAAAA4AAAACBAMAAACapPCZAAAAElBMVEX///+6uroiIiIyMjLc3NwA\n",
       "AAA6l9OrAAAAAXRSTlMAQObYZgAAABBJREFUCNdjcFYCAUUGKAAADR4BD8/TF5gAAAAASUVORK5C\n",
       "YII=\n",
       "\" style=\"display:inline;vertical-align:middle;\" /></a></td></tr>\n",
       "<tr><td>9</td><td>Literal</td><td></td><td><a class=\"ProveItLink\" href=\"../../../numeral/__pv_it/9176d93c83afa2c995b614976e3cb49207102fa70/expr.ipynb\"><img src=\"data:image/png;base64,iVBORw0KGgoAAAANSUhEUgAAAAoAAAAOBAMAAADkjZCYAAAAMFBMVEX///+YmJju7u4QEBBUVFQy\n",
       "MjIiIiKIiIi6urpmZmbc3NyqqqpERER2dnbMzMwAAAB0GlNiAAAAAXRSTlMAQObYZgAAAE1JREFU\n",
       "CNdjYHh79zQDA9cEhv4CBt7fDPwJDNxgEgiAIkAQAsR8Vx1ATIbiBhDJ/ImB6wEDz0cG/U8gkj+A\n",
       "ge0XA7sAQ/8FBoadM6MZAEflFACalZ/OAAAAAElFTkSuQmCC\n",
       "\" style=\"display:inline;vertical-align:middle;\" /></a></td></tr>\n",
       "<tr><td>10</td><td>Variable</td><td></td><td><a class=\"ProveItLink\" href=\"../../../../__pv_it/6840a4fa6c106149dc16a131294d0c5e44f1b0480/expr.ipynb\"><img src=\"data:image/png;base64,iVBORw0KGgoAAAANSUhEUgAAAAkAAAAOBAMAAAAPuiubAAAALVBMVEX///9mZmbMzMxERESYmJiI\n",
       "iIh2dna6urqqqqoyMjIiIiIQEBBUVFTu7u4AAAD9S1JeAAAAAXRSTlMAQObYZgAAAE1JREFUCNdj\n",
       "4D29gAEIOA+ASL4GEFl3AURmgQiGOaFHGBh4HzPwKTBwvGXgTmBgnMDAJ8DAJcBQ5wBSLncBJLWN\n",
       "gYGngRFoBO9REQYGAGrcDtUkVqASAAAAAElFTkSuQmCC\n",
       "\" style=\"display:inline;vertical-align:middle;\" /></a></td></tr>\n",
       "</table>\n"
      ],
      "text/plain": [
       "0. _x_ + (3 * b) + b - b\n",
       "   core type: Operation\n",
       "   operator: 1\n",
       "   operands: 2\n",
       "1. +\n",
       "   core type: Literal\n",
       "   sub-expressions: \n",
       "2. (_x_ , 3 * b , b , -b)\n",
       "   core type: ExprTuple\n",
       "   sub-expressions: 3, 4, 10, 5\n",
       "3. _x_\n",
       "   core type: Variable\n",
       "   sub-expressions: \n",
       "4. 3 * b\n",
       "   core type: Operation\n",
       "   operator: 6\n",
       "   operands: 7\n",
       "5. -b\n",
       "   core type: Operation\n",
       "   operator: 8\n",
       "   operand: 10\n",
       "6. *\n",
       "   core type: Literal\n",
       "   sub-expressions: \n",
       "7. (3 , b)\n",
       "   core type: ExprTuple\n",
       "   sub-expressions: 9, 10\n",
       "8. -\n",
       "   core type: Literal\n",
       "   sub-expressions: \n",
       "9. 3\n",
       "   core type: Literal\n",
       "   sub-expressions: \n",
       "10. b\n",
       "    core type: Variable\n",
       "    sub-expressions: "
      ]
     },
     "execution_count": 4,
     "metadata": {},
     "output_type": "execute_result"
    }
   ],
   "source": [
    "# display the expression information\n",
    "expr.exprInfo()"
   ]
  },
  {
   "cell_type": "code",
   "execution_count": null,
   "metadata": {},
   "outputs": [],
   "source": []
  }
 ],
 "metadata": {
  "kernelspec": {
   "display_name": "Python 3",
   "language": "python",
   "name": "python3"
  }
 },
 "nbformat": 4,
 "nbformat_minor": 0
}
