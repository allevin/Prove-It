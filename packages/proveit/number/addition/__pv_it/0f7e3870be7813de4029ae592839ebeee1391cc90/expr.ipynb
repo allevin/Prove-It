{
 "cells": [
  {
   "cell_type": "markdown",
   "metadata": {},
   "source": [
    "Expression of type <a class=\"ProveItLink\" href=\"../../../../../../doc/html/api/proveit.number.Add.html\">Add</a>\n",
    "=======================\n",
    "# from context <a class=\"ProveItLink\" href=\"../../_context_.ipynb\">proveit.number.addition</a>"
   ]
  },
  {
   "cell_type": "code",
   "execution_count": 1,
   "metadata": {},
   "outputs": [],
   "source": [
    "# import Expression classes needed to build the expression\n",
    "from proveit._common_ import A, B, C, a, b, c\n",
    "from proveit.number import Add, one, three"
   ]
  },
  {
   "cell_type": "code",
   "execution_count": 2,
   "metadata": {},
   "outputs": [
    {
     "data": {
      "text/html": [
       "<strong id=\"expr\">expr:</strong> <a class=\"ProveItLink\" href=\"expr.ipynb\"><img src=\"data:image/png;base64,iVBORw0KGgoAAAANSUhEUgAAAXEAAAAVBAMAAABCu8NvAAAAMFBMVEX///8yMjKqqqrMzMzu7u4i\n",
       "IiJmZmaYmJhEREQQEBC6urp2dnaIiIhUVFTc3NwAAAD87Fq/AAAAAXRSTlMAQObYZgAAAzpJREFU\n",
       "SMfdV09IFGEUf7uz7rrjOjoHgwRru3QS1ksQhDgSQX8w9xCGJ5VA8xBOhyDo0BJCeFKhLgbqIQKh\n",
       "g1BEfwQHAgsx3DpIByc3g+gQ6K6bG7m2fd/M2u5737rjbpelhflm9vfe+97ve9/73psB+L9+j4tK\n",
       "fdMVS1yK2rdwAdkJdl0hWMd9YXFru+bHRop63q4MKL1O3ocdEenV82BhW5dm3zYLyI5yAQWbBDV/\n",
       "BGCI7s0LHeRB3YH42aQj8hXkNA5JLPuwZN9u7FlczAtmD1uVb5YYJOgM0GawK4rB9ktsmI8RTWLa\n",
       "YSYdkfkg/EDGbiP7cM8aleO/s/+bczrrQ8zaM4YN5CSdAZaZ2u1ZDB7mWzlDNalpIOmIhPZjLtfb\n",
       "BoFfInNjmafAHWxQExaYj7CrW0OgN2Hv9L8zBztblNWXk1jgtWP10J0SmMtaiOfpM2zgWn2nk6l3\n",
       "AT4PY60NKyCnCYkLc6/LYO7iiTgTq94kRCwanmkpLTA/byUwHMMGnRHYwlNLu0sLl4m/Ib1AiKUJ\n",
       "aCid+SleEpQUeCNY4LdqggzKtsB8GjZ6xWQNafCAOGNH5EwUa/XECjA/Z8DdMmIemACo3YQqAwvq\n",
       "LOatpvmTMpdMc40vsw0b9AFs46mr2RkOpLBWxho1DK6Vl+cwpUFdBDpbeHKrasO4qkb/MmfDuEVL\n",
       "VbtV1a7YMtuQ+izzPIMukFMIgDo2+naw1pTlnPiyg5NvavMsinwBGNVhw4AQ4CLg5w3KzYsDjTkT\n",
       "VI2J2ZIAbxIHpY3ldG2ChJd78eLwKekyYu7JaJx5ZxDeW4HIqVbzo7Se7Zf5zJVgtrFex3NvgZ+U\n",
       "bl7O7VqSA62z/ZTQYnvlKzlb4tahcenurhpSntkh9HC3oxpm3s6XlRSr4ge4Rpyxci6Nk5T2sT14\n",
       "FCMkVgCelMz8Dcg7vJwvnlwknSgMykg8BjczhxDzb1NHwDcaZ+tqxAYdCzoGrmZMU9Upg9am/iBN\n",
       "Du/cEulXg/EBcEDc/X3Bwm1skvS3ZvqOMebUCEsHRa2DIHsNck9wy+F1vcYgBsIMpYOi1kGQfd5y\n",
       "9/21V+yXhRItLv9UuV9z34tKAy2VwPEPUSkxqS55Yo0AAAAASUVORK5CYII=\n",
       "\" style=\"display:inline;vertical-align:middle;\" /></a><br>"
      ],
      "text/plain": [
       "expr: a + (A + A) + b + B + C + c + 1 + 1 + 3"
      ]
     },
     "execution_count": 2,
     "metadata": {},
     "output_type": "execute_result"
    }
   ],
   "source": [
    "# build up the expression from sub-expressions\n",
    "expr = Add(a, Add(A, A), b, B, C, c, one, one, three)"
   ]
  },
  {
   "cell_type": "code",
   "execution_count": 3,
   "metadata": {},
   "outputs": [
    {
     "name": "stdout",
     "output_type": "stream",
     "text": [
      "Passed sanity check: built 'expr' is the same as the stored Expression.\n"
     ]
    }
   ],
   "source": [
    "# check that the built expression is the same as the stored expression\n",
    "%check_expr"
   ]
  },
  {
   "cell_type": "code",
   "execution_count": 4,
   "metadata": {},
   "outputs": [
    {
     "data": {
      "text/html": [
       "<table><tr><th>&nbsp;</th><th>core type</th><th>sub-expressions</th><th>expression</th></tr>\n",
       "<tr><td>0</td><td>Operation</td><td>operator:&nbsp;10<br>operands:&nbsp;1<br></td><td><a class=\"ProveItLink\" href=\"expr.ipynb\"><img src=\"data:image/png;base64,iVBORw0KGgoAAAANSUhEUgAAAXEAAAAVBAMAAABCu8NvAAAAMFBMVEX///8yMjKqqqrMzMzu7u4i\n",
       "IiJmZmaYmJhEREQQEBC6urp2dnaIiIhUVFTc3NwAAAD87Fq/AAAAAXRSTlMAQObYZgAAAzpJREFU\n",
       "SMfdV09IFGEUf7uz7rrjOjoHgwRru3QS1ksQhDgSQX8w9xCGJ5VA8xBOhyDo0BJCeFKhLgbqIQKh\n",
       "g1BEfwQHAgsx3DpIByc3g+gQ6K6bG7m2fd/M2u5737rjbpelhflm9vfe+97ve9/73psB+L9+j4tK\n",
       "fdMVS1yK2rdwAdkJdl0hWMd9YXFru+bHRop63q4MKL1O3ocdEenV82BhW5dm3zYLyI5yAQWbBDV/\n",
       "BGCI7s0LHeRB3YH42aQj8hXkNA5JLPuwZN9u7FlczAtmD1uVb5YYJOgM0GawK4rB9ktsmI8RTWLa\n",
       "YSYdkfkg/EDGbiP7cM8aleO/s/+bczrrQ8zaM4YN5CSdAZaZ2u1ZDB7mWzlDNalpIOmIhPZjLtfb\n",
       "BoFfInNjmafAHWxQExaYj7CrW0OgN2Hv9L8zBztblNWXk1jgtWP10J0SmMtaiOfpM2zgWn2nk6l3\n",
       "AT4PY60NKyCnCYkLc6/LYO7iiTgTq94kRCwanmkpLTA/byUwHMMGnRHYwlNLu0sLl4m/Ib1AiKUJ\n",
       "aCid+SleEpQUeCNY4LdqggzKtsB8GjZ6xWQNafCAOGNH5EwUa/XECjA/Z8DdMmIemACo3YQqAwvq\n",
       "LOatpvmTMpdMc40vsw0b9AFs46mr2RkOpLBWxho1DK6Vl+cwpUFdBDpbeHKrasO4qkb/MmfDuEVL\n",
       "VbtV1a7YMtuQ+izzPIMukFMIgDo2+naw1pTlnPiyg5NvavMsinwBGNVhw4AQ4CLg5w3KzYsDjTkT\n",
       "VI2J2ZIAbxIHpY3ldG2ChJd78eLwKekyYu7JaJx5ZxDeW4HIqVbzo7Se7Zf5zJVgtrFex3NvgZ+U\n",
       "bl7O7VqSA62z/ZTQYnvlKzlb4tahcenurhpSntkh9HC3oxpm3s6XlRSr4ge4Rpyxci6Nk5T2sT14\n",
       "FCMkVgCelMz8Dcg7vJwvnlwknSgMykg8BjczhxDzb1NHwDcaZ+tqxAYdCzoGrmZMU9Upg9am/iBN\n",
       "Du/cEulXg/EBcEDc/X3Bwm1skvS3ZvqOMebUCEsHRa2DIHsNck9wy+F1vcYgBsIMpYOi1kGQfd5y\n",
       "9/21V+yXhRItLv9UuV9z34tKAy2VwPEPUSkxqS55Yo0AAAAASUVORK5CYII=\n",
       "\" style=\"display:inline;vertical-align:middle;\" /></a></td></tr>\n",
       "<tr><td>1</td><td>ExprTuple</td><td>2, 3, 4, 5, 6, 7, 8, 8, 9</td><td><a class=\"ProveItLink\" href=\"../cd76248f4fc922212c7198adec0f8263b80d541a0/expr.ipynb\"><img src=\"data:image/png;base64,iVBORw0KGgoAAAANSUhEUgAAAOkAAAAVBAMAAABRSdSyAAAAMFBMVEX////c3NwiIiJERESqqqqY\n",
       "mJh2dnZmZmYQEBDu7u4yMjJUVFTMzMyIiIi6uroAAAAs73DqAAAAAXRSTlMAQObYZgAAAxZJREFU\n",
       "SMfFVktoE1EUPZP/NJMPWOhCod0puGg2QtFFZudG6KDgRrBFoa7UKNqCm1S0Qgs2syyCNlakNF2Y\n",
       "jSgdSoOCFLrobFwIpk3d+Nk0trTSFq3vN5PkNZ+N1ECSkzdn7nn3vHvvBPg/r6h9yIKX6ceSvPqu\n",
       "DlPr4t/q2y5n6dK+ZZ0uOb+enhkyOqSbvKaMtIGrOoIFgmZkhVd1VNvKDsi7aw+A4B+BAyPA15Ha\n",
       "e9SkKaMORH8DWSAiG+zvFhQ1Xlk8vyNATHfTJ/dre4I6Re4J/KwVtRZMGd3UsQFcBEKmpNqeFmq+\n",
       "yn6Us07EdZceIUv+beHAKC2QYSnSqimjXqY6AfyQzbRXSwdUIxHHyiuVUyMinlGO09QBJdVSFcxh\n",
       "r45Byp+/cd9dNnuNA6rffVsCzRZfO17nobzg0ZRdZmSB+zlQLDRWpXURSOElgd/iXqda8AzLtqyq\n",
       "lughMrSJmIi5PF+8LfYX3KrKcLHU1tVQ9cMsDZzFONnqFoIJh1BCZ0pWjUL5JdZ2EOoXkeJQT3Lo\n",
       "qaoj9TG8RuNcI+OsAMiBhcvwOAqaZS0kZNUly9oUWWURE5vqodF4/BhzSmU4XG56rsiY0MpUNZbA\n",
       "ZMFNC6EsDZ/LTY3lcnmRP8ZEVimsi0xo0/TxvENM6RzfQaKJ6jEgaVDVh0CnjV6IdVKMnmEpVx95\n",
       "n3DbNc2ZGj3LBd69YdbN3INOu7Gqum9SVeLwKWBSx5yvwAxS9MocclXb+cCiBFJKj7iVtF1p7Zpi\n",
       "YCBgcgaxwlBdLbMGEX53HP4srhEZw3c8gElaeU9oI+7UqqrUcTLTKCGsB/OcSdt1cQbqBqX06Yje\n",
       "AmekECgwBtXil130EdFt1jlfaLuuvF/BBNn8kcxz+JO7qWpVpWc3jgv704ygzt8FA8HknjVHuk7N\n",
       "0Emmzb25A34Bg8VPHAxlpg1+2UW+oXvUzBJC7rRdk0aLT57Qa/WY0XhTRuVyBZGJ6O93fhitHrxG\n",
       "Paa/OcNfh3i9+klntHoc/yNVVidHnanRSjSCeky7OcM+iMLUauWw/8F8Bv4CqHICULdonKkAAAAA\n",
       "SUVORK5CYII=\n",
       "\" style=\"display:inline;vertical-align:middle;\" /></a></td></tr>\n",
       "<tr><td>2</td><td>Variable</td><td></td><td><a class=\"ProveItLink\" href=\"../../../../__pv_it/07527342713064c87612d00d8557c53d53d5324a0/expr.ipynb\"><img src=\"data:image/png;base64,iVBORw0KGgoAAAANSUhEUgAAAAsAAAAJBAMAAAAWSsseAAAAMFBMVEX///8yMjKqqqrMzMzu7u4i\n",
       "IiJmZmaYmJhEREQQEBC6urp2dnaIiIhUVFTc3NwAAAD87Fq/AAAAAXRSTlMAQObYZgAAAEhJREFU\n",
       "CNdjYOC7s2seAwPDygccHxgY+L4zsDUwMPB+YGA9wMDA38Dgb8DA8P4Agz6DA4O/AsNFJgMGxgKm\n",
       "MG6gyjunLE4xAAAZTBA5TB6DCwAAAABJRU5ErkJggg==\n",
       "\" style=\"display:inline;vertical-align:middle;\" /></a></td></tr>\n",
       "<tr><td>3</td><td>Operation</td><td>operator:&nbsp;10<br>operands:&nbsp;11<br></td><td><a class=\"ProveItLink\" href=\"../f0be581c6e6d918ea595a01b8fec4841ff7467570/expr.ipynb\"><img src=\"data:image/png;base64,iVBORw0KGgoAAAANSUhEUgAAADgAAAAQBAMAAACxV6F2AAAALVBMVEX///8QEBBERERUVFS6urqI\n",
       "iIhmZmaqqqrc3Nzu7u6YmJgyMjIiIiLMzMwAAADtIaYWAAAAAXRSTlMAQObYZgAAAL1JREFUGNNj\n",
       "YACBOwyYgPcAlLEPiyT3AwjNdW4CVGQGQnLNSwjdntcAFSmFy3GUvYAwAuIcMCRZWZ+AaZYJdQsw\n",
       "JD3ZX4HpKQz3AtAlOR14n4IZDgx9CeiSLAwcz8AeMja2U0CXvGxs/AiiiIFxA4iRvXv3wd27N0NN\n",
       "Y5AG0QUMDDwCaDrZgfggyEMFiNCAS7ZDg202EDO9RJXkBFmjN4GhSW4HA5fe6wRkSQ7F1w0Mi95t\n",
       "QwvtUgY8wBWFBwArpC9pNjgDvAAAAABJRU5ErkJggg==\n",
       "\" style=\"display:inline;vertical-align:middle;\" /></a></td></tr>\n",
       "<tr><td>4</td><td>Variable</td><td></td><td><a class=\"ProveItLink\" href=\"../../../../__pv_it/6840a4fa6c106149dc16a131294d0c5e44f1b0480/expr.ipynb\"><img src=\"data:image/png;base64,iVBORw0KGgoAAAANSUhEUgAAAAkAAAAOBAMAAAAPuiubAAAALVBMVEX///9mZmbMzMxERESYmJiI\n",
       "iIh2dna6urqqqqoyMjIiIiIQEBBUVFTu7u4AAAD9S1JeAAAAAXRSTlMAQObYZgAAAE1JREFUCNdj\n",
       "4D29gAEIOA+ASL4GEFl3AURmgQiGOaFHGBh4HzPwKTBwvGXgTmBgnMDAJ8DAJcBQ5wBSLncBJLWN\n",
       "gYGngRFoBO9REQYGAGrcDtUkVqASAAAAAElFTkSuQmCC\n",
       "\" style=\"display:inline;vertical-align:middle;\" /></a></td></tr>\n",
       "<tr><td>5</td><td>Variable</td><td></td><td><a class=\"ProveItLink\" href=\"../../../../__pv_it/077b2ff79244fb4582cbe22c6e3356fa92a52f2f0/expr.ipynb\"><img src=\"data:image/png;base64,iVBORw0KGgoAAAANSUhEUgAAABAAAAAOBAMAAADUAYG5AAAAMFBMVEX///+qqqru7u4iIiJ2dnbc\n",
       "3NyIiIjMzMxmZmYQEBC6uroyMjJERERUVFSYmJgAAADLUcuvAAAAAXRSTlMAQObYZgAAAGpJREFU\n",
       "CNdjYGB4+//u3dMLGIBgDgMDxy8gzf4NiP8CGWxfGRj4vgAZPBMYGJgnARn8FxhY9ygAGfXX0pof\n",
       "gDTlBzAw2YIYJ0EckBBI53sHoBH/gIz7AhBjWH9DjancBLTl/N+7t/cxMAAA3u4f/5xagjYAAAAA\n",
       "SUVORK5CYII=\n",
       "\" style=\"display:inline;vertical-align:middle;\" /></a></td></tr>\n",
       "<tr><td>6</td><td>Variable</td><td></td><td><a class=\"ProveItLink\" href=\"../../../../__pv_it/985a1bdf1540838275dec15f4ad6de261cca93ce0/expr.ipynb\"><img src=\"data:image/png;base64,iVBORw0KGgoAAAANSUhEUgAAAA8AAAAOBAMAAAACpFvcAAAAMFBMVEX////MzMyqqqoiIiIyMjK6\n",
       "uroQEBB2dnbc3NyYmJhmZmZUVFRERESIiIju7u4AAAB204erAAAAAXRSTlMAQObYZgAAAGZJREFU\n",
       "CNdjYGDgu7NrJccCBgaGsgkMrMsmMDA8sQNy6hsYGNweABlhDAxcn4A0QxcDQ78DiPGQgWH9BAYI\n",
       "sG+AMv6DSaCGfBDNJMDAsB+kmwuI5S8AiTog5gSaEwXWIO29SgFIAQBC+RaDQlidVgAAAABJRU5E\n",
       "rkJggg==\n",
       "\" style=\"display:inline;vertical-align:middle;\" /></a></td></tr>\n",
       "<tr><td>7</td><td>Variable</td><td></td><td><a class=\"ProveItLink\" href=\"../../../../__pv_it/cbdfda466482236edba0ce44ac7ef39cda0af7a40/expr.ipynb\"><img src=\"data:image/png;base64,iVBORw0KGgoAAAANSUhEUgAAAAkAAAAJBAMAAAASvxsjAAAALVBMVEX///9mZmbc3NxUVFSYmJhE\n",
       "REQiIiIyMjK6uroQEBDMzMyIiIh2dnbu7u4AAABgFDGoAAAAAXRSTlMAQObYZgAAADZJREFUCNdj\n",
       "YOA9s3sBA8PKBvYEBt7ZDKwODMwPGICALwBE6m0Asx0YGIDiAgw8QJUyu/cyAAAmuwmycZ8WfQAA\n",
       "AABJRU5ErkJggg==\n",
       "\" style=\"display:inline;vertical-align:middle;\" /></a></td></tr>\n",
       "<tr><td>8</td><td>Literal</td><td></td><td><a class=\"ProveItLink\" href=\"../../../numeral/__pv_it/9be8badea4c35b9724062cecc501d17a3158d1d20/expr.ipynb\"><img src=\"data:image/png;base64,iVBORw0KGgoAAAANSUhEUgAAAAgAAAAPBAMAAAArJJMAAAAAHlBMVEX///+YmJgyMjIQEBBmZmaI\n",
       "iIhUVFTu7u5EREQAAAAw+MI4AAAAAXRSTlMAQObYZgAAACFJREFUCNdjYGBoZ2BgqJjOwFCWBiQY\n",
       "WEklWJwnOTKAAACjEQo8HvEr3AAAAABJRU5ErkJggg==\n",
       "\" style=\"display:inline;vertical-align:middle;\" /></a></td></tr>\n",
       "<tr><td>9</td><td>Literal</td><td></td><td><a class=\"ProveItLink\" href=\"../../../numeral/__pv_it/9176d93c83afa2c995b614976e3cb49207102fa70/expr.ipynb\"><img src=\"data:image/png;base64,iVBORw0KGgoAAAANSUhEUgAAAAoAAAAOBAMAAADkjZCYAAAAMFBMVEX///+YmJju7u4QEBBUVFQy\n",
       "MjIiIiKIiIi6urpmZmbc3NyqqqpERER2dnbMzMwAAAB0GlNiAAAAAXRSTlMAQObYZgAAAE1JREFU\n",
       "CNdjYHh79zQDA9cEhv4CBt7fDPwJDNxgEgiAIkAQAsR8Vx1ATIbiBhDJ/ImB6wEDz0cG/U8gkj+A\n",
       "ge0XA7sAQ/8FBoadM6MZAEflFACalZ/OAAAAAElFTkSuQmCC\n",
       "\" style=\"display:inline;vertical-align:middle;\" /></a></td></tr>\n",
       "<tr><td>10</td><td>Literal</td><td></td><td><a class=\"ProveItLink\" href=\"../3e6688136fa3c7aefbebe51301b7c3ebf0b69c440/expr.ipynb\"><img src=\"data:image/png;base64,iVBORw0KGgoAAAANSUhEUgAAAA4AAAAOBAMAAADtZjDiAAAAJFBMVEX///+6urpUVFQQEBAiIiIy\n",
       "MjJmZmaIiIiqqqrc3Nzu7u4AAACgHpL+AAAAAXRSTlMAQObYZgAAAB5JREFUCNdjYGBgWMkAAe2k\n",
       "0Kmhoc6hoUGk6BMHYgAHOwjcado9fwAAAABJRU5ErkJggg==\n",
       "\" style=\"display:inline;vertical-align:middle;\" /></a></td></tr>\n",
       "<tr><td>11</td><td>ExprTuple</td><td>12, 12</td><td><a class=\"ProveItLink\" href=\"../28adaa1d2294f84e02699b4685e77bbb787705a40/expr.ipynb\"><img src=\"data:image/png;base64,iVBORw0KGgoAAAANSUhEUgAAADUAAAAVBAMAAAAUZLt1AAAAMFBMVEX////c3NwiIiJERESqqqqY\n",
       "mJh2dnZmZmYQEBDu7u4yMjJUVFTMzMyIiIi6uroAAAAs73DqAAAAAXRSTlMAQObYZgAAAPdJREFU\n",
       "KM9jYMAH+C5gFY4DEachbB4FhDiIzX4AyFgJ4XN9QMiB2QsYGHihRgb9RMiB2WEMDBwTwFxG949w\n",
       "KQh7BgPDKwifl/cfXA7CZnZgKIPwX7J8hctB2GwFDEvBXM4HPH9hUlA2ywKGPognGRi/wz0MYfM1\n",
       "MECsOb1792eYHJTN8wEq94CBoQsmB2UD5VpAXBYg1oBKwdhAM01BfBEgXg90BRKbgXUBQzrIZcDw\n",
       "YbCfwDBfAcEG+eERMBwsfgkwBP9fzjDjI4LNwPWAgUMAKWIeIrGBYcaagMQPQGLnIuIIXQ5srzSC\n",
       "z4ukjBtkFyP2NHGHgQEAuPBD0qeALkIAAAAASUVORK5CYII=\n",
       "\" style=\"display:inline;vertical-align:middle;\" /></a></td></tr>\n",
       "<tr><td>12</td><td>Variable</td><td></td><td><a class=\"ProveItLink\" href=\"../../../../__pv_it/2cbe72a7ad6f655694dd697106680215e8489b600/expr.ipynb\"><img src=\"data:image/png;base64,iVBORw0KGgoAAAANSUhEUgAAAA8AAAAOBAMAAAACpFvcAAAALVBMVEX///8QEBBERERUVFS6urqI\n",
       "iIhmZmaqqqrc3Nzu7u6YmJgyMjIiIiLMzMwAAADtIaYWAAAAAXRSTlMAQObYZgAAAFtJREFUCNdj\n",
       "YACBOwxQsA9Kc52bAGG05zVAGAFxDmCaZULdAjBjCsO9ADDDgaEvAUTzGhvbKYCVMDAwbgAxChgY\n",
       "eASANAeQwf0AyJgNxEwvGRia5HYwcOm9TgAA6BoR3jrzwFcAAAAASUVORK5CYII=\n",
       "\" style=\"display:inline;vertical-align:middle;\" /></a></td></tr>\n",
       "</table>\n"
      ],
      "text/plain": [
       "0. a + (A + A) + b + B + C + c + 1 + 1 + 3\n",
       "   core type: Operation\n",
       "   operator: 10\n",
       "   operands: 1\n",
       "1. (a , A + A , b , B , C , c , 1 , 1 , 3)\n",
       "   core type: ExprTuple\n",
       "   sub-expressions: 2, 3, 4, 5, 6, 7, 8, 8, 9\n",
       "2. a\n",
       "   core type: Variable\n",
       "   sub-expressions: \n",
       "3. A + A\n",
       "   core type: Operation\n",
       "   operator: 10\n",
       "   operands: 11\n",
       "4. b\n",
       "   core type: Variable\n",
       "   sub-expressions: \n",
       "5. B\n",
       "   core type: Variable\n",
       "   sub-expressions: \n",
       "6. C\n",
       "   core type: Variable\n",
       "   sub-expressions: \n",
       "7. c\n",
       "   core type: Variable\n",
       "   sub-expressions: \n",
       "8. 1\n",
       "   core type: Literal\n",
       "   sub-expressions: \n",
       "9. 3\n",
       "   core type: Literal\n",
       "   sub-expressions: \n",
       "10. +\n",
       "    core type: Literal\n",
       "    sub-expressions: \n",
       "11. (A , A)\n",
       "    core type: ExprTuple\n",
       "    sub-expressions: 12, 12\n",
       "12. A\n",
       "    core type: Variable\n",
       "    sub-expressions: "
      ]
     },
     "execution_count": 4,
     "metadata": {},
     "output_type": "execute_result"
    }
   ],
   "source": [
    "# display the expression information\n",
    "expr.exprInfo()"
   ]
  },
  {
   "cell_type": "code",
   "execution_count": null,
   "metadata": {},
   "outputs": [],
   "source": []
  }
 ],
 "metadata": {
  "kernelspec": {
   "display_name": "Python 3",
   "language": "python",
   "name": "python3"
  }
 },
 "nbformat": 4,
 "nbformat_minor": 0
}
