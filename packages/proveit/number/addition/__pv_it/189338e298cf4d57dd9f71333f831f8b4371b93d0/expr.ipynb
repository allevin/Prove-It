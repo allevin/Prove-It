{
 "cells": [
  {
   "cell_type": "markdown",
   "metadata": {},
   "source": [
    "Expression of type <a class=\"ProveItLink\" href=\"../../../../../../doc/html/api/proveit.logic.Set.html\">Set</a>\n",
    "=======================\n",
    "# from context <a class=\"ProveItLink\" href=\"../../_context_.ipynb\">proveit.number.addition</a>"
   ]
  },
  {
   "cell_type": "code",
   "execution_count": 1,
   "metadata": {},
   "outputs": [],
   "source": [
    "# import Expression classes needed to build the expression\n",
    "from proveit._common_ import c\n",
    "from proveit.logic import InSet, Set\n",
    "from proveit.number import Complexes"
   ]
  },
  {
   "cell_type": "code",
   "execution_count": 2,
   "metadata": {},
   "outputs": [
    {
     "data": {
      "text/html": [
       "<strong id=\"expr\">expr:</strong> <a class=\"ProveItLink\" href=\"expr.ipynb\"><img src=\"data:image/png;base64,iVBORw0KGgoAAAANSUhEUgAAAEMAAAAVBAMAAADvM06qAAAAMFBMVEX////c3NxERESqqqpUVFS6\n",
       "urrMzMwyMjIQEBCIiIh2dnYiIiLu7u5mZmaYmJgAAABXZE4RAAAAAXRSTlMAQObYZgAAASBJREFU\n",
       "KM9jYGDgu8eAC7CtEgBRPLsYcAO2ZhDJ+QGr5OzyH5suMDBcB7G5GrCpSP3KcOqnAwPDCpxK+Fge\n",
       "MDDYY1Vysnr3dhD9hgNI8GJTwlZ3AMK4IALyyARkJadWTgOxhaAqeC5EQTWBlfAWAHW3MlSD2Iow\n",
       "0xbYQVnvQURGAAPDiQkMeiDNCnAlcVAWO9DjKW1Ahj+Ez9q9ezfYuTwKWTDnqQO9FpHAwPAJqtkB\n",
       "JlHDAmVwLwASLAUMjD+hrtwAU/IKrOQA1C1cQPF/wMACsf1gSpieAj3MugfJ074MDMtA7NMBMDUu\n",
       "mgeOKh1AUsK7ciY4RBhrE2B+uv2/JYABWwQwu0MiAA5wRyOqEj68SsDphWcnvlTXCkkbi/GnXQDb\n",
       "NU35Uq2JoQAAAABJRU5ErkJggg==\n",
       "\" style=\"display:inline;vertical-align:middle;\" /></a><br>"
      ],
      "text/plain": [
       "expr: {c in Complexes}"
      ]
     },
     "execution_count": 2,
     "metadata": {},
     "output_type": "execute_result"
    }
   ],
   "source": [
    "# build up the expression from sub-expressions\n",
    "expr = Set(InSet(c, Complexes))"
   ]
  },
  {
   "cell_type": "code",
   "execution_count": 3,
   "metadata": {},
   "outputs": [
    {
     "name": "stdout",
     "output_type": "stream",
     "text": [
      "Passed sanity check: built 'expr' is the same as the stored Expression.\n"
     ]
    }
   ],
   "source": [
    "# check that the built expression is the same as the stored expression\n",
    "%check_expr"
   ]
  },
  {
   "cell_type": "code",
   "execution_count": 4,
   "metadata": {},
   "outputs": [
    {
     "data": {
      "text/html": [
       "<table><tr><th>&nbsp;</th><th>core type</th><th>sub-expressions</th><th>expression</th></tr>\n",
       "<tr><td>0</td><td>Operation</td><td>operator:&nbsp;1<br>operands:&nbsp;2<br></td><td><a class=\"ProveItLink\" href=\"expr.ipynb\"><img src=\"data:image/png;base64,iVBORw0KGgoAAAANSUhEUgAAAEMAAAAVBAMAAADvM06qAAAAMFBMVEX////c3NxERESqqqpUVFS6\n",
       "urrMzMwyMjIQEBCIiIh2dnYiIiLu7u5mZmaYmJgAAABXZE4RAAAAAXRSTlMAQObYZgAAASBJREFU\n",
       "KM9jYGDgu8eAC7CtEgBRPLsYcAO2ZhDJ+QGr5OzyH5suMDBcB7G5GrCpSP3KcOqnAwPDCpxK+Fge\n",
       "MDDYY1Vysnr3dhD9hgNI8GJTwlZ3AMK4IALyyARkJadWTgOxhaAqeC5EQTWBlfAWAHW3MlSD2Iow\n",
       "0xbYQVnvQURGAAPDiQkMeiDNCnAlcVAWO9DjKW1Ahj+Ez9q9ezfYuTwKWTDnqQO9FpHAwPAJqtkB\n",
       "JlHDAmVwLwASLAUMjD+hrtwAU/IKrOQA1C1cQPF/wMACsf1gSpieAj3MugfJ074MDMtA7NMBMDUu\n",
       "mgeOKh1AUsK7ciY4RBhrE2B+uv2/JYABWwQwu0MiAA5wRyOqEj68SsDphWcnvlTXCkkbi/GnXQDb\n",
       "NU35Uq2JoQAAAABJRU5ErkJggg==\n",
       "\" style=\"display:inline;vertical-align:middle;\" /></a></td></tr>\n",
       "<tr><td>1</td><td>Literal</td><td></td><td><a class=\"ProveItLink\" href=\"../../../../logic/set_theory/enumeration/__pv_it/07381ed5b23806e8d7914b78cb6667769e3708dd0/expr.ipynb\"><img src=\"data:image/png;base64,iVBORw0KGgoAAAANSUhEUgAAAB4AAAAOBAMAAADKyLEKAAAAMFBMVEX///8iIiIQEBCIiIjMzMzc\n",
       "3Nyqqqp2dnZEREQyMjK6urru7u5mZmZUVFSYmJgAAACI6eGPAAAAAXRSTlMAQObYZgAAALRJREFU\n",
       "CNdjYGDgu3Nm3wIGBJjHwN0PZW5yYGDgLWBgyITy8zcwMMQDxZyh/INAvD6BgcEFypcB4vjPDiBm\n",
       "TPFRrhs/LjMwMP//38rAwCbKEMPA9gEkE3fp0waG+AUMRxh4JkC01T9guPTOOICBEWgVH5C//wHD\n",
       "H5D4fqCz9oCMDGD4DLaegRXslLMMDMpAgxlOMmQxHDRgYG5gYLBk4D7KcIe7gOHC2rt9QCXsh40Z\n",
       "GCKMGQDRkC8N/Ph1XAAAAABJRU5ErkJggg==\n",
       "\" style=\"display:inline;vertical-align:middle;\" /></a></td></tr>\n",
       "<tr><td>2</td><td>ExprTuple</td><td>3</td><td><a class=\"ProveItLink\" href=\"../ff969639657a9b7b776c685b89391d7c08899b030/expr.ipynb\"><img src=\"data:image/png;base64,iVBORw0KGgoAAAANSUhEUgAAAD0AAAAVBAMAAAAHs/uBAAAAMFBMVEX////c3NwiIiJERESqqqqY\n",
       "mJh2dnZmZmYQEBDu7u4yMjJUVFTMzMyIiIi6uroAAAAs73DqAAAAAXRSTlMAQObYZgAAATJJREFU\n",
       "KM9jYCAE+C7glIoDEaexyfBqrW8yZ2A/AGSuxCLN8/4BZ/5tBoYFQJXYjA/YysDA8puBIYyBgWMC\n",
       "QpjzlpISUAsD64QGIFnNwDCDgeEVkrZTkRCanXEDkJzLwMDswFAG0pd2F+QSRkuouul8CRAGWwHD\n",
       "UiB14gGXApBiFoDKH2MJgDBYFjD0AbX3MjCDBCbD7DnGB5Xna2D4x8DA/QHCe6GkBHHfZB6o+Twf\n",
       "QPL8BhAePKS4JmyAy7cwMMhDg2ASTJ41ASTPCTbfFKgfaBvIQu4AmALTt0Di0QQG1gUM6UDxAgY2\n",
       "kP849WDy3Jtvcj62BPvvEZBbdvcmWFiqBqbguP6PfSCHPGDgEEAKQO9FYPfDwQyQW/CkjVwc8QuL\n",
       "L5Bh0rjluUF2M+JOX3cYGACYe0WveBKblwAAAABJRU5ErkJggg==\n",
       "\" style=\"display:inline;vertical-align:middle;\" /></a></td></tr>\n",
       "<tr><td>3</td><td>Operation</td><td>operator:&nbsp;4<br>operands:&nbsp;5<br></td><td><a class=\"ProveItLink\" href=\"../c13cb7484c5c8cfdbfcfc08314313cc92059f30d0/expr.ipynb\"><img src=\"data:image/png;base64,iVBORw0KGgoAAAANSUhEUgAAADEAAAAPBAMAAAC/wjryAAAAMFBMVEX///+qqqpmZmbc3NxUVFSY\n",
       "mJhEREQiIiIyMjK6uroQEBDMzMyIiIh2dnbu7u4AAAA4MM1YAAAAAXRSTlMAQObYZgAAAMRJREFU\n",
       "GNNjYMAEPBX9y5OwiDNwz5/Ad/8INpkAVwYGxi9IAnwnyssbgDTrgwVAUgVJZkcchGZidgCSb0Bq\n",
       "757ZAKSY86AqHnFegLJ2TeAoAFJsBlD+XsYAqPFrGNhAzGcwU/dyQmVYPkDoWeXlEBc844aaxp8A\n",
       "obfA9HA8cIAw7A9A6OcwGdYLIBk+oB6gqSCDWQJgUqlzgMT0BwwsCgy8IFfzVcJkWNzO8U0D+UH3\n",
       "zDmwgIU2TGpT/S9PlPASaQe7DQYAhwcvp2pfo0QAAAAASUVORK5CYII=\n",
       "\" style=\"display:inline;vertical-align:middle;\" /></a></td></tr>\n",
       "<tr><td>4</td><td>Literal</td><td></td><td><a class=\"ProveItLink\" href=\"../../../../logic/set_theory/membership/__pv_it/088cbc857536a28d4119ad9639a84270ccb0545d0/expr.ipynb\"><img src=\"data:image/png;base64,iVBORw0KGgoAAAANSUhEUgAAAAwAAAAMBAMAAACkW0HUAAAALVBMVEX///+qqqpmZmZUVFQQEBC6\n",
       "urpERETc3NyYmJjMzMwiIiIyMjKIiIju7u4AAACYsrA9AAAAAXRSTlMAQObYZgAAADxJREFUCNdj\n",
       "YOA9vWrVBgaG2b0MQMCeCyIZ2ArA1DUwyRCyahVIyWQI7xaEYm4AU7xLIdxqTQgtvGvVBgCkcQ7e\n",
       "geM/tQAAAABJRU5ErkJggg==\n",
       "\" style=\"display:inline;vertical-align:middle;\" /></a></td></tr>\n",
       "<tr><td>5</td><td>ExprTuple</td><td>6, 7</td><td><a class=\"ProveItLink\" href=\"../abce21c686dae58084decd9daf4aa671823af84e0/expr.ipynb\"><img src=\"data:image/png;base64,iVBORw0KGgoAAAANSUhEUgAAAC0AAAAVBAMAAAAgHXppAAAAMFBMVEX////c3NwiIiJERESqqqqY\n",
       "mJh2dnZmZmYQEBDu7u4yMjJUVFTMzMyIiIi6uroAAAAs73DqAAAAAXRSTlMAQObYZgAAARJJREFU\n",
       "GNNjYMAF+C5gCMWBiNPIIrxa65vMGdgPAJkrkYR53j/gzL/NwLAAqALZmICtDAwsvxkYwhgYOCYg\n",
       "hFknNADJagaGGQwMr5CUszNuAJJzGRiYHRjKgCzOtLsgmxim8yVAFLAVMCwFUicecCmAuMdYAiDi\n",
       "LAsY+oDKexmYwQLH+KDifA0M/xgYuD9AzZ/MAzWH5wNInN8AKs41YQNcvIWBQR7mBdYEkDgn2BxT\n",
       "oHqgqQGcIAnTt0Di0QQG1gUM6UDzCxjYDswHuYh7803Ox5Zgdz4Ccsvu3mSY8RGk4bj+j30gix4w\n",
       "cAhADX+I5PEZILtgYYYknosUzkjinMBwZpCGxgiScm6Q2YyY8XiHgQEAaaE/gGyRZnYAAAAASUVO\n",
       "RK5CYII=\n",
       "\" style=\"display:inline;vertical-align:middle;\" /></a></td></tr>\n",
       "<tr><td>6</td><td>Variable</td><td></td><td><a class=\"ProveItLink\" href=\"../../../../__pv_it/cbdfda466482236edba0ce44ac7ef39cda0af7a40/expr.ipynb\"><img src=\"data:image/png;base64,iVBORw0KGgoAAAANSUhEUgAAAAkAAAAJBAMAAAASvxsjAAAALVBMVEX///9mZmbc3NxUVFSYmJhE\n",
       "REQiIiIyMjK6uroQEBDMzMyIiIh2dnbu7u4AAABgFDGoAAAAAXRSTlMAQObYZgAAADZJREFUCNdj\n",
       "YOA9s3sBA8PKBvYEBt7ZDKwODMwPGICALwBE6m0Asx0YGIDiAgw8QJUyu/cyAAAmuwmycZ8WfQAA\n",
       "AABJRU5ErkJggg==\n",
       "\" style=\"display:inline;vertical-align:middle;\" /></a></td></tr>\n",
       "<tr><td>7</td><td>Literal</td><td></td><td><a class=\"ProveItLink\" href=\"../../../sets/complex/__pv_it/c357845f93a5a2d9f649129d299e7ec28dda4b960/expr.ipynb\"><img src=\"data:image/png;base64,iVBORw0KGgoAAAANSUhEUgAAAA8AAAAOBAMAAAACpFvcAAAAMFBMVEX////c3NyqqqqYmJhUVFR2\n",
       "dnbu7u66urrMzMxmZmZEREQQEBAyMjIiIiKIiIgAAAB7fvZ0AAAAAXRSTlMAQObYZgAAAGVJREFU\n",
       "CNdjYGDgu3N+70oGBgaO+gK2+CdAhoEzAwPTFwYG5oQNQN4UBgZORgcgI4+BIZM9gAEMWpkMoAx2\n",
       "KCOLAyrFk+AAYTAHgBhsQLy4DkjUJjAwsHg9Y6taBpLsvP/bnYEBACkBFGQfBv8RAAAAAElFTkSu\n",
       "QmCC\n",
       "\" style=\"display:inline;vertical-align:middle;\" /></a></td></tr>\n",
       "</table>\n"
      ],
      "text/plain": [
       "0. {c in Complexes}\n",
       "   core type: Operation\n",
       "   operator: 1\n",
       "   operands: 2\n",
       "1. Set\n",
       "   core type: Literal\n",
       "   sub-expressions: \n",
       "2. (c in Complexes)\n",
       "   core type: ExprTuple\n",
       "   sub-expressions: 3\n",
       "3. c in Complexes\n",
       "   core type: Operation\n",
       "   operator: 4\n",
       "   operands: 5\n",
       "4. in\n",
       "   core type: Literal\n",
       "   sub-expressions: \n",
       "5. (c , Complexes)\n",
       "   core type: ExprTuple\n",
       "   sub-expressions: 6, 7\n",
       "6. c\n",
       "   core type: Variable\n",
       "   sub-expressions: \n",
       "7. Complexes\n",
       "   core type: Literal\n",
       "   sub-expressions: "
      ]
     },
     "execution_count": 4,
     "metadata": {},
     "output_type": "execute_result"
    }
   ],
   "source": [
    "# display the expression information\n",
    "expr.exprInfo()"
   ]
  },
  {
   "cell_type": "code",
   "execution_count": null,
   "metadata": {},
   "outputs": [],
   "source": []
  }
 ],
 "metadata": {
  "kernelspec": {
   "display_name": "Python 3",
   "language": "python",
   "name": "python3"
  }
 },
 "nbformat": 4,
 "nbformat_minor": 0
}
