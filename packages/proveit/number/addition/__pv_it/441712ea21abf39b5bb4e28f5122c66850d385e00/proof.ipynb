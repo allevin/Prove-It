{
 "cells": [
  {
   "cell_type": "markdown",
   "metadata": {},
   "source": [
    "Show the Proof\n",
    "========"
   ]
  },
  {
   "cell_type": "code",
   "execution_count": 1,
   "metadata": {},
   "outputs": [
    {
     "data": {
      "text/html": [
       "<table><tr><th>&nbsp;</th><th>step type</th><th>requirements</th><th>statement</th></tr>\n",
       "<tr><td>0</td><td>assumption</td><td></td><td><span style=\"font-size:20px;\"><a class=\"ProveItLink\" href=\"../f03245ba91235f870fb6c22ea2cd0683d8b1c8280/expr.ipynb\"><img src=\"data:image/png;base64,iVBORw0KGgoAAAANSUhEUgAAAEUAAAAVBAMAAADiLT7tAAAAMFBMVEX////c3NxERESqqqpUVFS6\n",
       "urrMzMwyMjIQEBCIiIh2dnYiIiLu7u5mZmaYmJgAAABXZE4RAAAAAXRSTlMAQObYZgAAAT9JREFU\n",
       "KM9jYGDgu8eAE7CtEgBRPLsY8AC2ZhDJ+QHMCepFk51d/mPTBQaG6yA2VwNE7DOqktSvDKd+OjAw\n",
       "rEBSw/oHRQkfywMGBns0NVwbwNTJ6t3bQfQbDiDBi6aG/QLYiXUHIOZcEAF5ZwKyGpFZ8QYgjhBU\n",
       "Cc+FKKilYDW8BUDHNDLog2UVYV5eYAdlvQcRGQEMDPIPIH7kUYCriYOyQG5IaQMy/BkYwCHJ2r17\n",
       "N9jNPApZMB+qAz0YkcDA8ImB5ytYuwNMpoYFyuBeACRYChgYfzIwf+ABad8AU/MKrOYA1D3AgOH5\n",
       "DFRpBuL4wdQwPQX6m3UPkt/rGKwvgMxkOB0AU+SieeCo0gEkNSIzwzTBsoy1CTCf3f7fEsCAGs5Q\n",
       "wOwOiQs4wKIGA4DV8OFXAwnbnXjTYSskqSwmkJ4BTvxWShLh2B8AAAAASUVORK5CYII=\n",
       "\" style=\"display:inline;vertical-align:middle;\" /></a> <a class=\"ProveItLink\" href=\"proof.ipynb\" style=\"text-decoration: none\">&#x22A2;&nbsp;</a><a class=\"ProveItLink\" href=\"../807f2df5759235bf0006f027b2f5148ee01534cb0/expr.ipynb\"><img src=\"data:image/png;base64,iVBORw0KGgoAAAANSUhEUgAAADMAAAAPBAMAAAC7N+rPAAAAMFBMVEX////MzMyYmJiIiIhUVFTc\n",
       "3NwyMjIiIiJ2dnbu7u6qqqpmZmYQEBBERES6uroAAABkyy6XAAAAAXRSTlMAQObYZgAAAOZJREFU\n",
       "GNNjYGBg4LuzgQEFMJflH78NYfIvQJFhfP+As98Ewn4/AUVKwYmBgesLhN0OJjnNyssTgDTThANA\n",
       "cgtEKhtMimlCeNysDkByMhCzOvf9Aomw3oSaN5uvAcp6E8D7E0TzBkAFJLgUIAzWTwzcIBsY5sJc\n",
       "IcEHlWL5wMAONuBNeTnEGXMZoQbyX2CY/wDEEIHpYpvgAGHEGzCsZwD5azpMiqkBJMXJwDB/AYMb\n",
       "lwDIZAWY3KXHQOL5BAY2Ba5qDrCP62BSLL6WnG9vgrxlJ2sHFgnbCJOTrv/jhxrgS9LBLoQBAJkt\n",
       "M1xsY3iNAAAAAElFTkSuQmCC\n",
       "\" style=\"display:inline;vertical-align:middle;\" /></a></span></td></tr>\n",
       "</table>"
      ],
      "text/plain": [
       "<proveit._core_.proof._ShowProof at 0x7f94e56c86d8>"
      ]
     },
     "execution_count": 1,
     "metadata": {},
     "output_type": "execute_result"
    }
   ],
   "source": [
    "import proveit\n",
    "%show_proof"
   ]
  },
  {
   "cell_type": "code",
   "execution_count": null,
   "metadata": {},
   "outputs": [],
   "source": []
  }
 ],
 "metadata": {
  "kernelspec": {
   "display_name": "Python 3",
   "language": "python",
   "name": "python3"
  }
 },
 "nbformat": 4,
 "nbformat_minor": 0
}
