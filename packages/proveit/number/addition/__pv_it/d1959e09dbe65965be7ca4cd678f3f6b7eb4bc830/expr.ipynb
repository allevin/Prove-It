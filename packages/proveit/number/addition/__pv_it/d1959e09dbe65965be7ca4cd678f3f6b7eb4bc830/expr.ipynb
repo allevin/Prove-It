{
 "cells": [
  {
   "cell_type": "markdown",
   "metadata": {},
   "source": [
    "Expression of type <a class=\"ProveItLink\" href=\"../../../../../../doc/html/api/proveit.ExprTuple.html\">ExprTuple</a>\n",
    "=======================\n",
    "# from context <a class=\"ProveItLink\" href=\"../../_context_.ipynb\">proveit.number.addition</a>"
   ]
  },
  {
   "cell_type": "code",
   "execution_count": 1,
   "metadata": {},
   "outputs": [],
   "source": [
    "# import Expression classes needed to build the expression\n",
    "from proveit import ExprTuple\n",
    "from proveit._common_ import a, b, c\n",
    "from proveit.number import Add"
   ]
  },
  {
   "cell_type": "code",
   "execution_count": 2,
   "metadata": {},
   "outputs": [
    {
     "data": {
      "text/html": [
       "<strong id=\"expr\">expr:</strong> <a class=\"ProveItLink\" href=\"expr.ipynb\"><img src=\"data:image/png;base64,iVBORw0KGgoAAAANSUhEUgAAAukAAAAVBAMAAAAJJW1zAAAAMFBMVEX////c3NwiIiJERESqqqqY\n",
       "mJh2dnZmZmYQEBDu7u4yMjJUVFTMzMyIiIi6uroAAAAs73DqAAAAAXRSTlMAQObYZgAAA7lJREFU\n",
       "WMPtWT9oE1Ec/rX5c71Ek9s7tFtdhC6OYnC2NJOjlA66WAmIHepgK9JBsKaLFDo0FDp4XTooihAs\n",
       "uAgumRSxKcWpiNJgW6RQxbsk79373e+9d++CRgO5IQlfvvv+vHf37i4B6G//YsvV+mPQ1e2a//JO\n",
       "8oX9cjS+2ur9+Pt0ZNSVLbpNNEPeztr2Xp7K+JmtDoJudrBPR0Zd2Tb/AEPergJwFi0wy+33fIFN\n",
       "lxOePwdUyFFYherGMDKx1jkYIQZtKGU5sq++3VWAobJIn2i/HzA0GV71CcCR3ElYherGMDKx1jkY\n",
       "IQZtKGUisq++3QrAFyl9GuKPenq0g1Gfhv901Hkb5ahr+urbJQow670NVG8tYPpm/Tmm29fr23j/\n",
       "4ff7DkIy1U9FrMIpHOEySqMgC3d6MrOjsJY40C46xKANicFkaN/odk1GugQb3ud9J9FA+9uHkMeD\n",
       "/HYvM4rPwAW4hBXXxuEUn4KcwmNwGaVRkIUhZ5ZgXWEtcSBdtIhBGxKDyZC+Bu2ajGQFlrypPwZr\n",
       "HO2fPIGhKZFuP4IEnvqRItzGOSfLsIhUAgqPwWVURkIWprtSgwsKa+pAu2gRgzYkBpMhfaPbtRi5\n",
       "efgFkG3AYA3tb1UgXxLp2UZ4hXoNcB4jcwA/kEpAYUggozFiWQQnlbXUIdRFixi0ITGYDOlr1M4/\n",
       "axr+qOfHYc0/EeZc95zr+nehgyU48GbNct31h6671aQ0ZTgAh2CfYmQMcsdIpU0RkLaM3qiZBTnJ\n",
       "rVUOoS5qxKANiSHIkL5G7Vqj/sA7vWowCWVxkrz7zHtlcZJGaqEDbuAnJBs2OhiOwDoRp1qg8DWn\n",
       "FjoaZEYsS+CkspY7hLpoEYM2JAaTCfc1a+dfROb9tWqtAK+S6OLrXQMWUdO8N2VoXbePIFu5gnKe\n",
       "skWsrSJQuC6XURkJWZiud0ClJNZlqQPtokUM2pAYTCbc16Bdi5GqwA3vFqiYHEvjFapgbSF6tgRp\n",
       "PBYbcLmEYz2Du3iqAwrX5TIqIyEL030BcJNa29+lDrSLFjFoQ2IwGdI3ul2L4d05fvZvX3ff7OKr\n",
       "cfVO6Ao2W/+IgeH614t7CFn9UMQpAgq/t+IyKiMhC9O1Zuplam0/dmQOtIsWMWhDYjAZ0je6XYuR\n",
       "2YMhR/v0FuPZNNZTYbRRlHXO+avPpnHqxWy34q1VU+K33yJ/fac/x1OEqFAk2ijKOhXbU4LEdjUr\n",
       "o283o/qltwe2VK/+q2FX/CWtR8P37F9gWX9pHOj/g9fdbQfgN1imTWt6dd35AAAAAElFTkSuQmCC\n",
       "\" style=\"display:inline;vertical-align:middle;\" /></a><br>"
      ],
      "text/plain": [
       "expr: (a + b + c + a + b + a + c + b + a + c + a , a + a + a + a + a + b + c + b + c + b + c)"
      ]
     },
     "execution_count": 2,
     "metadata": {},
     "output_type": "execute_result"
    }
   ],
   "source": [
    "# build up the expression from sub-expressions\n",
    "expr = ExprTuple(Add(a, b, c, a, b, a, c, b, a, c, a), Add(a, a, a, a, a, b, c, b, c, b, c))"
   ]
  },
  {
   "cell_type": "code",
   "execution_count": 3,
   "metadata": {},
   "outputs": [
    {
     "name": "stdout",
     "output_type": "stream",
     "text": [
      "Passed sanity check: built 'expr' is the same as the stored Expression.\n"
     ]
    }
   ],
   "source": [
    "# check that the built expression is the same as the stored expression\n",
    "%check_expr"
   ]
  },
  {
   "cell_type": "code",
   "execution_count": 4,
   "metadata": {},
   "outputs": [
    {
     "data": {
      "text/html": [
       "<table><tr><th>&nbsp;</th><th>core type</th><th>sub-expressions</th><th>expression</th></tr>\n",
       "<tr><td>0</td><td>ExprTuple</td><td>1, 2</td><td><a class=\"ProveItLink\" href=\"expr.ipynb\"><img src=\"data:image/png;base64,iVBORw0KGgoAAAANSUhEUgAAAukAAAAVBAMAAAAJJW1zAAAAMFBMVEX////c3NwiIiJERESqqqqY\n",
       "mJh2dnZmZmYQEBDu7u4yMjJUVFTMzMyIiIi6uroAAAAs73DqAAAAAXRSTlMAQObYZgAAA7lJREFU\n",
       "WMPtWT9oE1Ec/rX5c71Ek9s7tFtdhC6OYnC2NJOjlA66WAmIHepgK9JBsKaLFDo0FDp4XTooihAs\n",
       "uAgumRSxKcWpiNJgW6RQxbsk79373e+9d++CRgO5IQlfvvv+vHf37i4B6G//YsvV+mPQ1e2a//JO\n",
       "8oX9cjS+2ur9+Pt0ZNSVLbpNNEPeztr2Xp7K+JmtDoJudrBPR0Zd2Tb/AEPergJwFi0wy+33fIFN\n",
       "lxOePwdUyFFYherGMDKx1jkYIQZtKGU5sq++3VWAobJIn2i/HzA0GV71CcCR3ElYherGMDKx1jkY\n",
       "IQZtKGUisq++3QrAFyl9GuKPenq0g1Gfhv901Hkb5ahr+urbJQow670NVG8tYPpm/Tmm29fr23j/\n",
       "4ff7DkIy1U9FrMIpHOEySqMgC3d6MrOjsJY40C46xKANicFkaN/odk1GugQb3ud9J9FA+9uHkMeD\n",
       "/HYvM4rPwAW4hBXXxuEUn4KcwmNwGaVRkIUhZ5ZgXWEtcSBdtIhBGxKDyZC+Bu2ajGQFlrypPwZr\n",
       "HO2fPIGhKZFuP4IEnvqRItzGOSfLsIhUAgqPwWVURkIWprtSgwsKa+pAu2gRgzYkBpMhfaPbtRi5\n",
       "efgFkG3AYA3tb1UgXxLp2UZ4hXoNcB4jcwA/kEpAYUggozFiWQQnlbXUIdRFixi0ITGYDOlr1M4/\n",
       "axr+qOfHYc0/EeZc95zr+nehgyU48GbNct31h6671aQ0ZTgAh2CfYmQMcsdIpU0RkLaM3qiZBTnJ\n",
       "rVUOoS5qxKANiSHIkL5G7Vqj/sA7vWowCWVxkrz7zHtlcZJGaqEDbuAnJBs2OhiOwDoRp1qg8DWn\n",
       "FjoaZEYsS+CkspY7hLpoEYM2JAaTCfc1a+dfROb9tWqtAK+S6OLrXQMWUdO8N2VoXbePIFu5gnKe\n",
       "skWsrSJQuC6XURkJWZiud0ClJNZlqQPtokUM2pAYTCbc16Bdi5GqwA3vFqiYHEvjFapgbSF6tgRp\n",
       "PBYbcLmEYz2Du3iqAwrX5TIqIyEL030BcJNa29+lDrSLFjFoQ2IwGdI3ul2L4d05fvZvX3ff7OKr\n",
       "cfVO6Ao2W/+IgeH614t7CFn9UMQpAgq/t+IyKiMhC9O1Zuplam0/dmQOtIsWMWhDYjAZ0je6XYuR\n",
       "2YMhR/v0FuPZNNZTYbRRlHXO+avPpnHqxWy34q1VU+K33yJ/fac/x1OEqFAk2ijKOhXbU4LEdjUr\n",
       "o283o/qltwe2VK/+q2FX/CWtR8P37F9gWX9pHOj/g9fdbQfgN1imTWt6dd35AAAAAElFTkSuQmCC\n",
       "\" style=\"display:inline;vertical-align:middle;\" /></a></td></tr>\n",
       "<tr><td>1</td><td>Operation</td><td>operator:&nbsp;4<br>operands:&nbsp;3<br></td><td><a class=\"ProveItLink\" href=\"../bab95727a9575eabd6aee6afba3a9ae6970e66760/expr.ipynb\"><img src=\"data:image/png;base64,iVBORw0KGgoAAAANSUhEUgAAAWoAAAAQBAMAAADNOCjDAAAAMFBMVEX///8yMjKqqqrMzMzu7u4i\n",
       "IiJmZmaYmJhEREQQEBC6urp2dnaIiIhUVFTc3NwAAAD87Fq/AAAAAXRSTlMAQObYZgAAAgdJREFU\n",
       "SMe9lb9Kw1AUxr+GNGhLGzOIU6EgbkIddesLaDsVBId2UhAxj9AHEMTBSRHBSRB0cdElgzhoheoi\n",
       "QsG+QGlpi+3gYKuJzcnpSUwHzxL4OPf3fffm/gFYqW95hK7Vw/BjJjISK1KdYFDqv4y8tWZ/9bRH\n",
       "GK1OXVTaYgvHBBtxzBjuTy3a38usR/gtxZKUWFds4ZhgI44Zw6VjrxE+dTw/QWrZKDB1snZzQsem\n",
       "Kq9UUG8rS3Ro4/G8TpRI7ckUWjhGNBplcTCS9Xl9qkXGqn3olL5yGsnT/XCCfUrPldERWjhGNBpl\n",
       "cTCCdbIHrUzoShfTV4R+jCm6kE0TW5SeyeJIaOEYyciVxcZI1okWohahazPQi24h0fJurndggyol\n",
       "4ENo4RgfIyeLjZGs9TJyw99UMox1wxjeutEiLk23oP/MXzOM2QPDGN6xfagdqhQQ641r4Rh/o+8s\n",
       "I4xk3bSQQdY948EtukuEpuWZcPITSkslS9CG1hVaOMbHyMliYyTrXBrPCjkTgxNyROmDBSGbS20j\n",
       "MTNPUnecLcpbOEYycmWxMZJ1xFQKcbr/0lqVCkXE6fUzh4UiCYkX7EBo4RjJyJXF2deCdbL2sPxA\n",
       "z3pt03NlbVfuaKRG5WzvlCir96bUwjGSkSuLg/GxDnrD/vA2+r28i+GFEC/6RaAQswIV3vIHLhMC\n",
       "uF8uh/IdBFSamgAAAABJRU5ErkJggg==\n",
       "\" style=\"display:inline;vertical-align:middle;\" /></a></td></tr>\n",
       "<tr><td>2</td><td>Operation</td><td>operator:&nbsp;4<br>operands:&nbsp;5<br></td><td><a class=\"ProveItLink\" href=\"../06e0b1dab0b4c1184634af94c49563c83afc32080/expr.ipynb\"><img src=\"data:image/png;base64,iVBORw0KGgoAAAANSUhEUgAAAWoAAAAQBAMAAADNOCjDAAAAMFBMVEX///8yMjKqqqrMzMzu7u4i\n",
       "IiJmZmaYmJhEREQQEBC6urp2dnaIiIhUVFTc3NwAAAD87Fq/AAAAAXRSTlMAQObYZgAAAi5JREFU\n",
       "SMe1lbFLG1Ecx785z6smJPEGcQoExK2gY7vdWoqaSSg4xEmhiPcnZHMplA5dahGhk1BQKF2qw0FL\n",
       "B3uF1EEpBJp/QBqSoA4OXuz93r1f3v0IJM2NH773+b37vXe/B4zvWX47KGH/rowu+d9PaWAiUx9Z\n",
       "smL2ojkMUaK2aCZQLEsJpW3LdR6exwaxgmEIibJd0UzgyJMSpFWSlDpjWXWuMnDVnzFo1UrC6xQa\n",
       "X/b5mwmhpElw9eOwKRASZRo/fW62T8IlBkrhpZAgrZKoOs9PvwKHzakWfzMhlDRJdh+vJUKi1Ro6\n",
       "3Pz0IFPRgX2L4lJ6grRKQmDiHWZRuIFTY26NxEmT4K+PLYmQaNHDHgP2e0z5OrC6mD5OT5BWSQg8\n",
       "C7CLfAuTAXNrJE6aBH+AdYmQaAO47jfzhDODYjU9QVol0epEs6eG1d4mbbjuC9ctacRx3dk3rltP\n",
       "I7iF3UklmmgN2Zt+M09MVnHkpyQ07T8Jq9Pb2ACL8PTv1Uj8fSYp3MFq2QIhURtOF31m3utoXO94\n",
       "6QlqrZIkdXqnvYxfFvsjNBInTWK3kZ+ZFwiJOnRo1SKjvrJzHf2Ke0KCVq0kBKLOP0LGt9ZyfGAl\n",
       "JE6aBHNYqB4LhETn2OatzVeRYw3Kl526kCCtkhC4AD5Fo/jsyRmfIQmhXTEIrsIPrw4EQqLl737f\n",
       "HfIy/MaHSmNTSpBWSQg4p6E3zrtxJGBopRv9o0GywTDEFA0BDK0O7gGXVPQMhHokQQAAAABJRU5E\n",
       "rkJggg==\n",
       "\" style=\"display:inline;vertical-align:middle;\" /></a></td></tr>\n",
       "<tr><td>3</td><td>ExprTuple</td><td>6, 7, 8, 6, 7, 6, 8, 7, 6, 8, 6</td><td><a class=\"ProveItLink\" href=\"../98c02e530816a511bab2e4a805a7e6d438df201a0/expr.ipynb\"><img src=\"data:image/png;base64,iVBORw0KGgoAAAANSUhEUgAAANUAAAAVBAMAAAAjhrYEAAAAMFBMVEX////c3NwiIiJERESqqqqY\n",
       "mJh2dnZmZmYQEBDu7u4yMjJUVFTMzMyIiIi6uroAAAAs73DqAAAAAXRSTlMAQObYZgAAAlVJREFU\n",
       "SMe9Vj9oE1Ec/tJccnm5Jpe9Q7t1KmRxFIOz0JscJTjoYuRA7KCDVqSb9SYpOOQQOpQuHZQWIRhw\n",
       "EVwyKaJXUqciQqNpkUIU3597790fvMtiMly++74v34/3u997F2CWn/pgJmWuscv7KPP80b/dWRo5\n",
       "WMqpZfbpZSdG7WbYs7TqXt7CfKAWb+FphjtLs1t5ta4CFS/28M4zHmyGhhMvr9YW8C1GlDPanqXh\n",
       "eu5wFFtYo1+F3u31sO29z45AzzpfBFj4cNxIaIrSrt3glQA6i9wI+hGq7GKb3hw3iiOhd5uYcDC/\n",
       "iReic+u4lNA0pVxkDFsE66x3w+pShDJ8bNK6ZzCbQl/1sCG6O8AFDhYd3ElomlIu4xyVNl+DyiJP\n",
       "UHQiVP0h/gDWCHPhNN4DfnHwRraZgpW0toK4y/RhuwzoLCtcnqTmR6yW3URXNADLqJ9xMJYpY5BJ\n",
       "SpOUcs25OOGL0Fl2U24HQdFaj2lPBliFF24hk0924XdopMAYkaQWUsrFttcDnqCzFuXGDSnaQ9rv\n",
       "bguvjT7/9YS1nVnpCkoMkFNY/hVOSS1CSRcbjA2wBJ1l03U6mkLJx006zI6xXEaXDc1L3Af5ScE+\n",
       "cIuDbVx22xwpTVPKZbXMPZ6gsywX5b6m2Mx/ZfN/+PYQWz/Y+frRAXlKN4/ZCTwOFoLvF4ccKU1T\n",
       "ykV6d8ETIllrwacIheoQlYbs+ZE6jBpJMCWlEjQ6ip5Rpba8cSQopcCUlJNGmupE3yn/txbx2eEW\n",
       "3tSUcZAC01E6oZamLNbpwmz+A9Az+i+iVOAdG9M4OgAAAABJRU5ErkJggg==\n",
       "\" style=\"display:inline;vertical-align:middle;\" /></a></td></tr>\n",
       "<tr><td>4</td><td>Literal</td><td></td><td><a class=\"ProveItLink\" href=\"../3e6688136fa3c7aefbebe51301b7c3ebf0b69c440/expr.ipynb\"><img src=\"data:image/png;base64,iVBORw0KGgoAAAANSUhEUgAAAA4AAAAOBAMAAADtZjDiAAAAJFBMVEX///+6urpUVFQQEBAiIiIy\n",
       "MjJmZmaIiIiqqqrc3Nzu7u4AAACgHpL+AAAAAXRSTlMAQObYZgAAAB5JREFUCNdjYGBgWMkAAe2k\n",
       "0Kmhoc6hoUGk6BMHYgAHOwjcado9fwAAAABJRU5ErkJggg==\n",
       "\" style=\"display:inline;vertical-align:middle;\" /></a></td></tr>\n",
       "<tr><td>5</td><td>ExprTuple</td><td>6, 6, 6, 6, 6, 7, 8, 7, 8, 7, 8</td><td><a class=\"ProveItLink\" href=\"../479fc843c2d500fdb9222234fc40406f00c1f8f40/expr.ipynb\"><img src=\"data:image/png;base64,iVBORw0KGgoAAAANSUhEUgAAANUAAAAVBAMAAAAjhrYEAAAAMFBMVEX////c3NwiIiJERESqqqqY\n",
       "mJh2dnZmZmYQEBDu7u4yMjJUVFTMzMyIiIi6uroAAAAs73DqAAAAAXRSTlMAQObYZgAAAhVJREFU\n",
       "SMe9ljFoE1EYx/9pLrm8XJO73aHZMglZHEuDs9CbHCU46NLIgdhBB61It9ZMUuiQQ+hQXDooihAM\n",
       "uAguN7UUvRCdigg9bYsEqvR771486zsvx4G54fK7H+T78n3ve+8CTPOqelNJc43f3mf55ubDvw17\n",
       "VUs0ep9u25l+5jPFlHeSjQtUsrXwWDFmM9lcBUqdTIs8UtRhJ9lsAF8ylVWsKer6BJNvYpk+cr1b\n",
       "K9Jc2D2wUlC598EO1ZP2R7mC/gs5Ezf8fowpOtgiPrDygezNChbSULeBUwGz63gaxjuCGaZ4NyzX\n",
       "YozmYp3KOoHeCGPM2bidhhY7WA1XwcMlAdoIpZZIsYa8HWOqD/ALMALMyGl8A1xMQ3eBH2Ml948L\n",
       "0+FgBPFmNuC5zAa6YbE4AjtNQ3VUT6SS14yDQ1GO2Yg3lOsRtcbDIsR85n5CC9hkou2lj6SKNtN9\n",
       "EWPOizfUQ+p2t4nXWp8HYccw3Cs8bzLRYNBScKDqCgJoDFbBY5hUi80Ug4KLmzTAtlYvosuHZwuX\n",
       "nRb7PpGe4x4EvASWBBhNfUfEMBwU+wLOGT7zn/n2GrwdYOMb30D+1/khe2xNos09GwL0tt8RwHp3\n",
       "EMZY9vcFnDcoD1Gyxh3/FJ1AVipSIYqhAp1Rhdb4wf6dq5COVIhiqND+853yf3Mxly+RfKhEx6SX\n",
       "jlSo/BsM3ufcdP4D0Al9BgFr3NVHfMmEAAAAAElFTkSuQmCC\n",
       "\" style=\"display:inline;vertical-align:middle;\" /></a></td></tr>\n",
       "<tr><td>6</td><td>Variable</td><td></td><td><a class=\"ProveItLink\" href=\"../../../../__pv_it/07527342713064c87612d00d8557c53d53d5324a0/expr.ipynb\"><img src=\"data:image/png;base64,iVBORw0KGgoAAAANSUhEUgAAAAsAAAAJBAMAAAAWSsseAAAAMFBMVEX///8yMjKqqqrMzMzu7u4i\n",
       "IiJmZmaYmJhEREQQEBC6urp2dnaIiIhUVFTc3NwAAAD87Fq/AAAAAXRSTlMAQObYZgAAAEhJREFU\n",
       "CNdjYOC7s2seAwPDygccHxgY+L4zsDUwMPB+YGA9wMDA38Dgb8DA8P4Agz6DA4O/AsNFJgMGxgKm\n",
       "MG6gyjunLE4xAAAZTBA5TB6DCwAAAABJRU5ErkJggg==\n",
       "\" style=\"display:inline;vertical-align:middle;\" /></a></td></tr>\n",
       "<tr><td>7</td><td>Variable</td><td></td><td><a class=\"ProveItLink\" href=\"../../../../__pv_it/6840a4fa6c106149dc16a131294d0c5e44f1b0480/expr.ipynb\"><img src=\"data:image/png;base64,iVBORw0KGgoAAAANSUhEUgAAAAkAAAAOBAMAAAAPuiubAAAALVBMVEX///9mZmbMzMxERESYmJiI\n",
       "iIh2dna6urqqqqoyMjIiIiIQEBBUVFTu7u4AAAD9S1JeAAAAAXRSTlMAQObYZgAAAE1JREFUCNdj\n",
       "4D29gAEIOA+ASL4GEFl3AURmgQiGOaFHGBh4HzPwKTBwvGXgTmBgnMDAJ8DAJcBQ5wBSLncBJLWN\n",
       "gYGngRFoBO9REQYGAGrcDtUkVqASAAAAAElFTkSuQmCC\n",
       "\" style=\"display:inline;vertical-align:middle;\" /></a></td></tr>\n",
       "<tr><td>8</td><td>Variable</td><td></td><td><a class=\"ProveItLink\" href=\"../../../../__pv_it/cbdfda466482236edba0ce44ac7ef39cda0af7a40/expr.ipynb\"><img src=\"data:image/png;base64,iVBORw0KGgoAAAANSUhEUgAAAAkAAAAJBAMAAAASvxsjAAAALVBMVEX///9mZmbc3NxUVFSYmJhE\n",
       "REQiIiIyMjK6uroQEBDMzMyIiIh2dnbu7u4AAABgFDGoAAAAAXRSTlMAQObYZgAAADZJREFUCNdj\n",
       "YOA9s3sBA8PKBvYEBt7ZDKwODMwPGICALwBE6m0Asx0YGIDiAgw8QJUyu/cyAAAmuwmycZ8WfQAA\n",
       "AABJRU5ErkJggg==\n",
       "\" style=\"display:inline;vertical-align:middle;\" /></a></td></tr>\n",
       "</table>\n"
      ],
      "text/plain": [
       "0. (a + b + c + a + b + a + c + b + a + c + a , a + a + a + a + a + b + c + b + c + b + c)\n",
       "   core type: ExprTuple\n",
       "   sub-expressions: 1, 2\n",
       "1. a + b + c + a + b + a + c + b + a + c + a\n",
       "   core type: Operation\n",
       "   operator: 4\n",
       "   operands: 3\n",
       "2. a + a + a + a + a + b + c + b + c + b + c\n",
       "   core type: Operation\n",
       "   operator: 4\n",
       "   operands: 5\n",
       "3. (a , b , c , a , b , a , c , b , a , c , a)\n",
       "   core type: ExprTuple\n",
       "   sub-expressions: 6, 7, 8, 6, 7, 6, 8, 7, 6, 8, 6\n",
       "4. +\n",
       "   core type: Literal\n",
       "   sub-expressions: \n",
       "5. (a , a , a , a , a , b , c , b , c , b , c)\n",
       "   core type: ExprTuple\n",
       "   sub-expressions: 6, 6, 6, 6, 6, 7, 8, 7, 8, 7, 8\n",
       "6. a\n",
       "   core type: Variable\n",
       "   sub-expressions: \n",
       "7. b\n",
       "   core type: Variable\n",
       "   sub-expressions: \n",
       "8. c\n",
       "   core type: Variable\n",
       "   sub-expressions: "
      ]
     },
     "execution_count": 4,
     "metadata": {},
     "output_type": "execute_result"
    }
   ],
   "source": [
    "# display the expression information\n",
    "expr.exprInfo()"
   ]
  },
  {
   "cell_type": "code",
   "execution_count": null,
   "metadata": {},
   "outputs": [],
   "source": []
  }
 ],
 "metadata": {
  "kernelspec": {
   "display_name": "Python 3",
   "language": "python",
   "name": "python3"
  }
 },
 "nbformat": 4,
 "nbformat_minor": 0
}
