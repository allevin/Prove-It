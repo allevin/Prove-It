{
 "cells": [
  {
   "cell_type": "markdown",
   "metadata": {},
   "source": [
    "Expression of type <a class=\"ProveItLink\" href=\"../../../../../../doc/html/api/proveit.number.Add.html\">Add</a>\n",
    "=======================\n",
    "# from context <a class=\"ProveItLink\" href=\"../../_context_.ipynb\">proveit.number.addition</a>"
   ]
  },
  {
   "cell_type": "code",
   "execution_count": 1,
   "metadata": {},
   "outputs": [],
   "source": [
    "# import Expression classes needed to build the expression\n",
    "from proveit._common_ import a, b, c\n",
    "from proveit.number import Add, Mult, six, three, two"
   ]
  },
  {
   "cell_type": "code",
   "execution_count": 2,
   "metadata": {},
   "outputs": [
    {
     "data": {
      "text/html": [
       "<strong id=\"expr\">expr:</strong> <a class=\"ProveItLink\" href=\"expr.ipynb\"><img src=\"data:image/png;base64,iVBORw0KGgoAAAANSUhEUgAAAO0AAAAVBAMAAABYonTIAAAAMFBMVEX////c3NwiIiJERESqqqqY\n",
       "mJh2dnZmZmYQEBDu7u4yMjJUVFTMzMyIiIi6uroAAAAs73DqAAAAAXRSTlMAQObYZgAAAphJREFU\n",
       "SMfFlk1oE0EUx/9p0mQ3aT48eShiLn4cFIrUoxq8CKJ0vXjw4p5akBYDQoTEgxUVeinrRYo9NKgF\n",
       "TUGiCJ7EnvQg4p6sUIPBUylKa02RLdX07We7b4a6N+cwMzv57f+/+96bnQD/q+VMca23HQWTUD8i\n",
       "aTntPbC3epIt3pBhb4cH/0H1NcNi07dk1P3KKPVPEWviayn8U1rwJayMFXN3Km0wsTkJFTuCF0DW\n",
       "RMZAzyoLju5N7nkjYckO8sXdqRaYWEdC9ehoAIoBZQKZv2Ff9aY3Oe+NhCUEX4GaQFgsZ0moy4bd\n",
       "L1MgLKSYLwaZ4rLTszhzKldnYsmihHri9BX33a1Aq//TUgEYYb6VIF1+cYx9EaiUzsTSrxc1gdr4\n",
       "sEAFMOvMP+pBaMZxioazzNfG+q40tyt3Eg8FKq0xsZkBbHJKXdNwAJh0Lh45K3bg92u4RsMS83Wx\n",
       "z20fmzJxXKCUNhMbMnCXU2oXuGrAyUVqwHk6OxtvgKP2MzNfN2WKtQMTqXybiVWB35xS16i0Sq7g\n",
       "orMyZd/wC+qmr1htNA43GnOeb2we8fVtDCLl+u4QO4TcukBtkK+J2zRLlLHH39R/kFhVxTgTNmO5\n",
       "vh4GMRtKKSxG2zdlCdQx530pS3gHXPC3ZAeZ+jngEvMlLF9Hz09fkR6gV6DiWliMikrRBWrIyS8V\n",
       "eezg8EjwQZjF6bIu7iO6zmpYCSr1FTAqUMkyE3uJGgQqrqt3gG+037rdboD2t76foDQ9Y76E4cz1\n",
       "x8E+So21DIHKFZnY9IIdAa5Vq5GBUpAdUuJ3shCFGo+kFf62h1rSZAeqFBOoi5G0/ANO0h5IzsEI\n",
       "VNqIpOUmVLb4PBImULFmJC2XlfzPyc5HwSTUvkha1LYAq5/gGnFeO6UAAAAASUVORK5CYII=\n",
       "\" style=\"display:inline;vertical-align:middle;\" /></a><br>"
      ],
      "text/plain": [
       "expr: (2 * a) + (3 * c) + (2 * b) + 6"
      ]
     },
     "execution_count": 2,
     "metadata": {},
     "output_type": "execute_result"
    }
   ],
   "source": [
    "# build up the expression from sub-expressions\n",
    "expr = Add(Mult(two, a), Mult(three, c), Mult(two, b), six)"
   ]
  },
  {
   "cell_type": "code",
   "execution_count": 3,
   "metadata": {},
   "outputs": [
    {
     "name": "stdout",
     "output_type": "stream",
     "text": [
      "Passed sanity check: built 'expr' is the same as the stored Expression.\n"
     ]
    }
   ],
   "source": [
    "# check that the built expression is the same as the stored expression\n",
    "%check_expr"
   ]
  },
  {
   "cell_type": "code",
   "execution_count": 4,
   "metadata": {},
   "outputs": [
    {
     "data": {
      "text/html": [
       "<table><tr><th>&nbsp;</th><th>core type</th><th>sub-expressions</th><th>expression</th></tr>\n",
       "<tr><td>0</td><td>Operation</td><td>operator:&nbsp;1<br>operands:&nbsp;2<br></td><td><a class=\"ProveItLink\" href=\"expr.ipynb\"><img src=\"data:image/png;base64,iVBORw0KGgoAAAANSUhEUgAAAO0AAAAVBAMAAABYonTIAAAAMFBMVEX////c3NwiIiJERESqqqqY\n",
       "mJh2dnZmZmYQEBDu7u4yMjJUVFTMzMyIiIi6uroAAAAs73DqAAAAAXRSTlMAQObYZgAAAphJREFU\n",
       "SMfFlk1oE0EUx/9p0mQ3aT48eShiLn4cFIrUoxq8CKJ0vXjw4p5akBYDQoTEgxUVeinrRYo9NKgF\n",
       "TUGiCJ7EnvQg4p6sUIPBUylKa02RLdX07We7b4a6N+cwMzv57f+/+96bnQD/q+VMca23HQWTUD8i\n",
       "aTntPbC3epIt3pBhb4cH/0H1NcNi07dk1P3KKPVPEWviayn8U1rwJayMFXN3Km0wsTkJFTuCF0DW\n",
       "RMZAzyoLju5N7nkjYckO8sXdqRaYWEdC9ehoAIoBZQKZv2Ff9aY3Oe+NhCUEX4GaQFgsZ0moy4bd\n",
       "L1MgLKSYLwaZ4rLTszhzKldnYsmihHri9BX33a1Aq//TUgEYYb6VIF1+cYx9EaiUzsTSrxc1gdr4\n",
       "sEAFMOvMP+pBaMZxioazzNfG+q40tyt3Eg8FKq0xsZkBbHJKXdNwAJh0Lh45K3bg92u4RsMS83Wx\n",
       "z20fmzJxXKCUNhMbMnCXU2oXuGrAyUVqwHk6OxtvgKP2MzNfN2WKtQMTqXybiVWB35xS16i0Sq7g\n",
       "orMyZd/wC+qmr1htNA43GnOeb2we8fVtDCLl+u4QO4TcukBtkK+J2zRLlLHH39R/kFhVxTgTNmO5\n",
       "vh4GMRtKKSxG2zdlCdQx530pS3gHXPC3ZAeZ+jngEvMlLF9Hz09fkR6gV6DiWliMikrRBWrIyS8V\n",
       "eezg8EjwQZjF6bIu7iO6zmpYCSr1FTAqUMkyE3uJGgQqrqt3gG+037rdboD2t76foDQ9Y76E4cz1\n",
       "x8E+So21DIHKFZnY9IIdAa5Vq5GBUpAdUuJ3shCFGo+kFf62h1rSZAeqFBOoi5G0/ANO0h5IzsEI\n",
       "VNqIpOUmVLb4PBImULFmJC2XlfzPyc5HwSTUvkha1LYAq5/gGnFeO6UAAAAASUVORK5CYII=\n",
       "\" style=\"display:inline;vertical-align:middle;\" /></a></td></tr>\n",
       "<tr><td>1</td><td>Literal</td><td></td><td><a class=\"ProveItLink\" href=\"../3e6688136fa3c7aefbebe51301b7c3ebf0b69c440/expr.ipynb\"><img src=\"data:image/png;base64,iVBORw0KGgoAAAANSUhEUgAAAA4AAAAOBAMAAADtZjDiAAAAJFBMVEX///+6urpUVFQQEBAiIiIy\n",
       "MjJmZmaIiIiqqqrc3Nzu7u4AAACgHpL+AAAAAXRSTlMAQObYZgAAAB5JREFUCNdjYGBgWMkAAe2k\n",
       "0Kmhoc6hoUGk6BMHYgAHOwjcado9fwAAAABJRU5ErkJggg==\n",
       "\" style=\"display:inline;vertical-align:middle;\" /></a></td></tr>\n",
       "<tr><td>2</td><td>ExprTuple</td><td>3, 4, 5, 6</td><td><a class=\"ProveItLink\" href=\"../60e4ce173c399612aedb1234510bea572bcd17740/expr.ipynb\"><img src=\"data:image/png;base64,iVBORw0KGgoAAAANSUhEUgAAAJsAAAAVBAMAAACj9YEXAAAAMFBMVEX////c3NwiIiJERESqqqqY\n",
       "mJh2dnZmZmYQEBDu7u4yMjJUVFTMzMyIiIi6uroAAAAs73DqAAAAAXRSTlMAQObYZgAAAlZJREFU\n",
       "OMutVE1oE0EU/jbJJrtJNo1ePHiwF+1FSBC9Sm49Zr14tDmlII0GhRaag/9FL3VPJcVDFqvgz8Ei\n",
       "giiUBgQ9iLi3CtUaPYmXxtookdp15m1nFtwhp+zh7XvfzvvmzbdvHjDkJ+cNi+kMN2+BA7MnVZ9f\n",
       "V49HQW1mqSODO1eFtzA9hVSbOQ+hLeNzSZFYx2a08oOwtsPosVh7FE8BF7A8ZBzEulG65DZGRiPo\n",
       "C6AQRoI5VsEj4DRgODBuIbMbpUso6W46WJWnzfX3nAmH2ybwHUj3kdpViqs47BMHlyRdUmz3gGy8\n",
       "hOmg2H4o2cq5K/9Lw7WufRRuwRFeemXdJufPuzWmfrKO+xS+r8i8b/n4npDZs8sSzc7jrnB/SbRV\n",
       "xA5/m1s2DjN5XMwTvkQg31XrIVUUyz90BNz0cEKURJ8XuSk7mKNMHzjvIHcZJFpA0OJKZLqIScWM\n",
       "voBXw2NfDOrhdhb4LaKJErLdgG6d1jU56UgRrXYgYhvxnoB/SjaLFDCvcTuGXC/QjtF5nO46b4k6\n",
       "9onVhzyUQVq3+gEdUf+VdOPQ8mHbpYJ/eIyqY4flirwBTkl1S3iZaJu8ThexHwJmvDrtkq1Dl3Q7\n",
       "MCqElkk73cUk2/pIdVL2a9pOjCVJL8vGpvzhz4Ep0mt/tXpBVvoMjUDFeMW8QY3ylTWd7/ujYdtt\n",
       "vNpAk5c1PnNPJqZqnxzzNiur4Ptb4QhYs0EoGg3WBOkOjLzyPnxRzrL8YJRdMr2ipLNVoI7BaI0G\n",
       "1LDoTJcGmOKxlIneYDTDT60NbbizGfEPaVyitDAV5hAAAAAASUVORK5CYII=\n",
       "\" style=\"display:inline;vertical-align:middle;\" /></a></td></tr>\n",
       "<tr><td>3</td><td>Operation</td><td>operator:&nbsp;9<br>operands:&nbsp;7<br></td><td><a class=\"ProveItLink\" href=\"../bcb109db2c8fde300a6e6bc5d9744dc20415a7630/expr.ipynb\"><img src=\"data:image/png;base64,iVBORw0KGgoAAAANSUhEUgAAACMAAAAOBAMAAABXxbiCAAAAMFBMVEX///+YmJh2dnbMzMwQEBAi\n",
       "IiLu7u6qqqqIiIhUVFS6urpEREQyMjJmZmbc3NwAAACOMKdoAAAAAXRSTlMAQObYZgAAAJVJREFU\n",
       "GNNj4Lt7egEDKnjJwPEdTWgaA0M8mpBLAsN8NJ3nExjuoxsG1JgAY/HN0PID0cyf4JJLHnB/ANE8\n",
       "G0BkGkjRRwZeMOc2iGD7CiQ4PzCwNgBpjglgIW8gwb+BId8ASNcy8D2AGvW+gaGeIYGB+QIDI0wo\n",
       "v4BhDrsBw1MlpaswC3kE2GOZgI76//8rwlld1l0MADJIJnXb25zTAAAAAElFTkSuQmCC\n",
       "\" style=\"display:inline;vertical-align:middle;\" /></a></td></tr>\n",
       "<tr><td>4</td><td>Operation</td><td>operator:&nbsp;9<br>operands:&nbsp;8<br></td><td><a class=\"ProveItLink\" href=\"../6ea99038828acf4f95344c36471089d895e211420/expr.ipynb\"><img src=\"data:image/png;base64,iVBORw0KGgoAAAANSUhEUgAAACIAAAAOBAMAAAC4B9O8AAAAMFBMVEX///+YmJju7u4QEBBUVFQy\n",
       "MjIiIiKIiIi6urpmZmbc3NyqqqpERER2dnbMzMwAAAB0GlNiAAAAAXRSTlMAQObYZgAAAIZJREFU\n",
       "CNdjYHh79zQDCuCawNBfgCLC+5uBPwFFhBtDBAjQdAFBCIKpe72OgYHvqgNcgM+CIQxEFzcACSYF\n",
       "IKFcwHAQJML8CUjog4z3B7vnAQPPR5D0ASDxBySi/wkiApb9DiL5AxjYfsFMBkoxMrALMPRfgIl4\n",
       "MjDcY2DYOTMabjvn9XIFAJAVHuIpDSmpAAAAAElFTkSuQmCC\n",
       "\" style=\"display:inline;vertical-align:middle;\" /></a></td></tr>\n",
       "<tr><td>5</td><td>Operation</td><td>operator:&nbsp;9<br>operands:&nbsp;10<br></td><td><a class=\"ProveItLink\" href=\"../4fa23b01b5b767887c70271cab015f5b5c98d38c0/expr.ipynb\"><img src=\"data:image/png;base64,iVBORw0KGgoAAAANSUhEUgAAACEAAAAOBAMAAABTMGi/AAAAMFBMVEX///+YmJh2dnbMzMwQEBAi\n",
       "IiLu7u6qqqqIiIhUVFS6urpEREQyMjJmZmbc3NwAAACOMKdoAAAAAXRSTlMAQObYZgAAAKBJREFU\n",
       "CNdj4Lt7egEDFLBNCQCSLxk4vsNEGHgmAIlpDAzxcBH+AiDhksAwH65tfQKQOJ/AcB8uogql4xNg\n",
       "Iic7JoIo5k9wu34z8BuALNgA4qUBMfs3BhYFIH0bLP0VSPAeYOC/wMDAMQEs4g0kWC8wrBdgYKhl\n",
       "4HuAcM79BAbmCwyMcBEDBicGhqdKSldhdnEW8AKNiP///yvc9hkXGRgAQ2knSfB0jgcAAAAASUVO\n",
       "RK5CYII=\n",
       "\" style=\"display:inline;vertical-align:middle;\" /></a></td></tr>\n",
       "<tr><td>6</td><td>Literal</td><td></td><td><a class=\"ProveItLink\" href=\"../../../numeral/__pv_it/09b499e53e24cf89c2513ba78b501f0314edaa680/expr.ipynb\"><img src=\"data:image/png;base64,iVBORw0KGgoAAAANSUhEUgAAAAoAAAAOBAMAAADkjZCYAAAAMFBMVEX///+6urpERESqqqqIiIgQ\n",
       "EBCYmJgyMjJUVFQiIiLc3NzMzMxmZmZ2dnbu7u4AAABf+mkYAAAAAXRSTlMAQObYZgAAAFNJREFU\n",
       "CNdjYOC7c3cDA8PKDRwTGBjmMrAXMLD9YwAC9gAQyV/tcpiB4f00Bs4EhvcfGHj/MbyfwMD2mYEf\n",
       "qOwLAxOYzQwWZ9BleJrAwMDT08gAANMyF0ZGTeKAAAAAAElFTkSuQmCC\n",
       "\" style=\"display:inline;vertical-align:middle;\" /></a></td></tr>\n",
       "<tr><td>7</td><td>ExprTuple</td><td>14, 11</td><td><a class=\"ProveItLink\" href=\"../b5379faab47abff4b5f281502db718a96e183d9f0/expr.ipynb\"><img src=\"data:image/png;base64,iVBORw0KGgoAAAANSUhEUgAAACsAAAAVBAMAAAAtAwouAAAAMFBMVEX////c3NwiIiJERESqqqqY\n",
       "mJh2dnZmZmYQEBDu7u4yMjJUVFTMzMyIiIi6uroAAAAs73DqAAAAAXRSTlMAQObYZgAAAQ5JREFU\n",
       "GNNjYMAB+C6gi8SBiNMMDOJVdsjC7AeAxEoGxg0M9x2QxRcwMPBeYOCewMD0AVk4jIGBYwIDRycD\n",
       "9z9k4RkMDK8YGLh+MrCjCDM7MJSBGUw/IQKMe/MaGRjYChiWgrnnEyDCLwSYgbawLGDoA3MXQxV/\n",
       "ZWA3AHqlgQFsKIgNAtwfGJiAvuP5ABG+DbWL34Bh/gGwcAuQx1LAIAgWlr/A4M8wAWSIKZB3nIEh\n",
       "EMhjYJjvwLCL5QAD6wKGdKBFamnpCpyfgMJcASzqbGAHPgI6+v///wqc/QIgZ987fA8o+4CBQwAW\n",
       "wALInmeFeoSBFeH5XHDAogtzAgOWQRrKQUQSN8g4RoxIu8PAAABqUT0EX21vWwAAAABJRU5ErkJg\n",
       "gg==\n",
       "\" style=\"display:inline;vertical-align:middle;\" /></a></td></tr>\n",
       "<tr><td>8</td><td>ExprTuple</td><td>12, 13</td><td><a class=\"ProveItLink\" href=\"../6006dd3ab434da37f2d3692f39e9e2b651e1a4720/expr.ipynb\"><img src=\"data:image/png;base64,iVBORw0KGgoAAAANSUhEUgAAACkAAAAVBAMAAAAp9toTAAAAMFBMVEX////c3NwiIiJERESqqqqY\n",
       "mJh2dnZmZmYQEBDu7u4yMjJUVFTMzMyIiIi6uroAAAAs73DqAAAAAXRSTlMAQObYZgAAAPtJREFU\n",
       "GNNjYMAO+C6gCcSBiNMMDMfSTJBE2Q8AiZUMjAUM75E1LGBg4L3AwPaFgV8BSTSMgYFjAgMLmugM\n",
       "BoZXYAaKCcwODGVgxmqoAGfa3QMMbAUMS4FsnqwNUNETD7gUGFgWMPSBeTceQJT2MjAHMPA1MPwD\n",
       "czl+ginuDyCS5wNIlPEAA/NXsCi/AVS0hYFh/k+YqDzYKUATTIEqFjAwfWSYAFIbwMAQwMC6gCEd\n",
       "6L0AhvcJnJ9A5hYwsIFd9gjIcS9fwsDZLwBkld29ycDA9YCBQwAWogJIPmZNgLJZ4T7OBYckmign\n",
       "MCQZpKEcePhwg4xiRI+hOwwMANqAO5LCdo8qAAAAAElFTkSuQmCC\n",
       "\" style=\"display:inline;vertical-align:middle;\" /></a></td></tr>\n",
       "<tr><td>9</td><td>Literal</td><td></td><td><a class=\"ProveItLink\" href=\"../../../multiplication/__pv_it/21fd2079611555ecce512d99547a00d551e6b86b0/expr.ipynb\"><img src=\"data:image/png;base64,iVBORw0KGgoAAAANSUhEUgAAAAMAAAADBAMAAACkBqiMAAAAElBMVEX///9EREQQEBAiIiLu7u4A\n",
       "AABGBidwAAAAAXRSTlMAQObYZgAAABFJREFUCNdjYHFgcDVgcBIAAASWAQx4jI0xAAAAAElFTkSu\n",
       "QmCC\n",
       "\" style=\"display:inline;vertical-align:middle;\" /></a></td></tr>\n",
       "<tr><td>10</td><td>ExprTuple</td><td>14, 15</td><td><a class=\"ProveItLink\" href=\"../3a7fed3333ef42636d071b31cc212d3a8cbf468e0/expr.ipynb\"><img src=\"data:image/png;base64,iVBORw0KGgoAAAANSUhEUgAAACkAAAAVBAMAAAAp9toTAAAAMFBMVEX////c3NwiIiJERESqqqqY\n",
       "mJh2dnZmZmYQEBDu7u4yMjJUVFTMzMyIiIi6uroAAAAs73DqAAAAAXRSTlMAQObYZgAAARNJREFU\n",
       "GNNtkaFPw0AUxn8tK20prEMhMFVoDJb0TwCDJA2CKZIaEBgQhAQDlcgmBEEwNSQYkjkEgnlGIEjM\n",
       "FqZqKO/u2omGipf3/a737rvv4P+vO2yBXVVeYOV40wD/MQJ3IN0dVsFHbPBCISWHpSFBhj0xNFSr\n",
       "O+BleBcEv4aOMynX8C3bStya7qkyF3OklV0aev/+APMpt1q9JsbDlHBAJ+dSyxvza6fES+ieoge6\n",
       "64a6OWHK4sTQt/padsp4S9EztTFlubF7kqkJGyKeYRvlVI46ByenD9bafj/yf4QGsVtoZ18yraqq\n",
       "yL/qibOnQxXGJ16vSbRp1I2dpO6dWcAHOskW9SVJVmsxe5JAjbLaLzSCP9bMPeBRRV1aAAAAAElF\n",
       "TkSuQmCC\n",
       "\" style=\"display:inline;vertical-align:middle;\" /></a></td></tr>\n",
       "<tr><td>11</td><td>Variable</td><td></td><td><a class=\"ProveItLink\" href=\"../../../../__pv_it/07527342713064c87612d00d8557c53d53d5324a0/expr.ipynb\"><img src=\"data:image/png;base64,iVBORw0KGgoAAAANSUhEUgAAAAsAAAAJBAMAAAAWSsseAAAAMFBMVEX///8yMjKqqqrMzMzu7u4i\n",
       "IiJmZmaYmJhEREQQEBC6urp2dnaIiIhUVFTc3NwAAAD87Fq/AAAAAXRSTlMAQObYZgAAAEhJREFU\n",
       "CNdjYOC7s2seAwPDygccHxgY+L4zsDUwMPB+YGA9wMDA38Dgb8DA8P4Agz6DA4O/AsNFJgMGxgKm\n",
       "MG6gyjunLE4xAAAZTBA5TB6DCwAAAABJRU5ErkJggg==\n",
       "\" style=\"display:inline;vertical-align:middle;\" /></a></td></tr>\n",
       "<tr><td>12</td><td>Literal</td><td></td><td><a class=\"ProveItLink\" href=\"../../../numeral/__pv_it/9176d93c83afa2c995b614976e3cb49207102fa70/expr.ipynb\"><img src=\"data:image/png;base64,iVBORw0KGgoAAAANSUhEUgAAAAoAAAAOBAMAAADkjZCYAAAAMFBMVEX///+YmJju7u4QEBBUVFQy\n",
       "MjIiIiKIiIi6urpmZmbc3NyqqqpERER2dnbMzMwAAAB0GlNiAAAAAXRSTlMAQObYZgAAAE1JREFU\n",
       "CNdjYHh79zQDA9cEhv4CBt7fDPwJDNxgEgiAIkAQAsR8Vx1ATIbiBhDJ/ImB6wEDz0cG/U8gkj+A\n",
       "ge0XA7sAQ/8FBoadM6MZAEflFACalZ/OAAAAAElFTkSuQmCC\n",
       "\" style=\"display:inline;vertical-align:middle;\" /></a></td></tr>\n",
       "<tr><td>13</td><td>Variable</td><td></td><td><a class=\"ProveItLink\" href=\"../../../../__pv_it/cbdfda466482236edba0ce44ac7ef39cda0af7a40/expr.ipynb\"><img src=\"data:image/png;base64,iVBORw0KGgoAAAANSUhEUgAAAAkAAAAJBAMAAAASvxsjAAAALVBMVEX///9mZmbc3NxUVFSYmJhE\n",
       "REQiIiIyMjK6uroQEBDMzMyIiIh2dnbu7u4AAABgFDGoAAAAAXRSTlMAQObYZgAAADZJREFUCNdj\n",
       "YOA9s3sBA8PKBvYEBt7ZDKwODMwPGICALwBE6m0Asx0YGIDiAgw8QJUyu/cyAAAmuwmycZ8WfQAA\n",
       "AABJRU5ErkJggg==\n",
       "\" style=\"display:inline;vertical-align:middle;\" /></a></td></tr>\n",
       "<tr><td>14</td><td>Literal</td><td></td><td><a class=\"ProveItLink\" href=\"../../../numeral/__pv_it/77d407a64829263cdc16415becd4c2293f77a4bf0/expr.ipynb\"><img src=\"data:image/png;base64,iVBORw0KGgoAAAANSUhEUgAAAAkAAAAOBAMAAAAPuiubAAAAMFBMVEX///+YmJh2dnbMzMwQEBAi\n",
       "IiLu7u6qqqqIiIhUVFS6urpEREQyMjJmZmbc3NwAAACOMKdoAAAAAXRSTlMAQObYZgAAAFBJREFU\n",
       "CNdj4Lt7egEDw0sGju8MDNMYGOIZGFwSGOYvYDifwHAfKAEUSQASzJ9ATJ4NIPI2iOCYACJrGfge\n",
       "MDBfYGB8wPBUSekqUPH//18ZAIliFhc3zESNAAAAAElFTkSuQmCC\n",
       "\" style=\"display:inline;vertical-align:middle;\" /></a></td></tr>\n",
       "<tr><td>15</td><td>Variable</td><td></td><td><a class=\"ProveItLink\" href=\"../../../../__pv_it/6840a4fa6c106149dc16a131294d0c5e44f1b0480/expr.ipynb\"><img src=\"data:image/png;base64,iVBORw0KGgoAAAANSUhEUgAAAAkAAAAOBAMAAAAPuiubAAAALVBMVEX///9mZmbMzMxERESYmJiI\n",
       "iIh2dna6urqqqqoyMjIiIiIQEBBUVFTu7u4AAAD9S1JeAAAAAXRSTlMAQObYZgAAAE1JREFUCNdj\n",
       "4D29gAEIOA+ASL4GEFl3AURmgQiGOaFHGBh4HzPwKTBwvGXgTmBgnMDAJ8DAJcBQ5wBSLncBJLWN\n",
       "gYGngRFoBO9REQYGAGrcDtUkVqASAAAAAElFTkSuQmCC\n",
       "\" style=\"display:inline;vertical-align:middle;\" /></a></td></tr>\n",
       "</table>\n"
      ],
      "text/plain": [
       "0. (2 * a) + (3 * c) + (2 * b) + 6\n",
       "   core type: Operation\n",
       "   operator: 1\n",
       "   operands: 2\n",
       "1. +\n",
       "   core type: Literal\n",
       "   sub-expressions: \n",
       "2. (2 * a , 3 * c , 2 * b , 6)\n",
       "   core type: ExprTuple\n",
       "   sub-expressions: 3, 4, 5, 6\n",
       "3. 2 * a\n",
       "   core type: Operation\n",
       "   operator: 9\n",
       "   operands: 7\n",
       "4. 3 * c\n",
       "   core type: Operation\n",
       "   operator: 9\n",
       "   operands: 8\n",
       "5. 2 * b\n",
       "   core type: Operation\n",
       "   operator: 9\n",
       "   operands: 10\n",
       "6. 6\n",
       "   core type: Literal\n",
       "   sub-expressions: \n",
       "7. (2 , a)\n",
       "   core type: ExprTuple\n",
       "   sub-expressions: 14, 11\n",
       "8. (3 , c)\n",
       "   core type: ExprTuple\n",
       "   sub-expressions: 12, 13\n",
       "9. *\n",
       "   core type: Literal\n",
       "   sub-expressions: \n",
       "10. (2 , b)\n",
       "    core type: ExprTuple\n",
       "    sub-expressions: 14, 15\n",
       "11. a\n",
       "    core type: Variable\n",
       "    sub-expressions: \n",
       "12. 3\n",
       "    core type: Literal\n",
       "    sub-expressions: \n",
       "13. c\n",
       "    core type: Variable\n",
       "    sub-expressions: \n",
       "14. 2\n",
       "    core type: Literal\n",
       "    sub-expressions: \n",
       "15. b\n",
       "    core type: Variable\n",
       "    sub-expressions: "
      ]
     },
     "execution_count": 4,
     "metadata": {},
     "output_type": "execute_result"
    }
   ],
   "source": [
    "# display the expression information\n",
    "expr.exprInfo()"
   ]
  },
  {
   "cell_type": "code",
   "execution_count": null,
   "metadata": {},
   "outputs": [],
   "source": []
  }
 ],
 "metadata": {
  "kernelspec": {
   "display_name": "Python 3",
   "language": "python",
   "name": "python3"
  }
 },
 "nbformat": 4,
 "nbformat_minor": 0
}
