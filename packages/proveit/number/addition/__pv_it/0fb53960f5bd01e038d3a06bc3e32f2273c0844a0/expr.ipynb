{
 "cells": [
  {
   "cell_type": "markdown",
   "metadata": {},
   "source": [
    "Expression of type <a class=\"ProveItLink\" href=\"../../../../../../doc/html/api/proveit.logic.InSet.html\">InSet</a>\n",
    "=======================\n",
    "# from context <a class=\"ProveItLink\" href=\"../../_context_.ipynb\">proveit.number.addition</a>"
   ]
  },
  {
   "cell_type": "code",
   "execution_count": 1,
   "metadata": {},
   "outputs": [],
   "source": [
    "# import Expression classes needed to build the expression\n",
    "from proveit._common_ import b\n",
    "from proveit.logic import InSet\n",
    "from proveit.number import Complexes, Exp, four, one, two"
   ]
  },
  {
   "cell_type": "code",
   "execution_count": 2,
   "metadata": {},
   "outputs": [
    {
     "data": {
      "text/html": [
       "<strong id=\"expr\">expr:</strong> <a class=\"ProveItLink\" href=\"expr.ipynb\"><img src=\"data:image/png;base64,iVBORw0KGgoAAAANSUhEUgAAAIAAAAAZBAMAAAALeTtzAAAAMFBMVEX////c3NwiIiJERESqqqqY\n",
       "mJh2dnZmZmYQEBDu7u4yMjJUVFTMzMyIiIi6uroAAAAs73DqAAAAAXRSTlMAQObYZgAAAg9JREFU\n",
       "OMtjYKAIcDFQCPwnUKafM59CA3jnU2jAEZABfBcIqmN9gEMiAWTAaSCDGeoSxvLFULWzmxiQGDUY\n",
       "Wi+t+qFcwCoAMmAlMCzsoQZIM/B+gapYzYDEwIitc/8Ypv3dMJcBaADvBQbO3fuhBuxkYNCHKoEZ\n",
       "BGawJqD5iTsAGIUb3MvrSxk4QHrvQw3omMCwH+IHvp9QtWAGZwOEM3eRkhaIjuQAEuwbGBjkJzC8\n",
       "YkAyYP0EhnqIAWwKUAMgDBMwm2cpVF2BNMjUCwys+7cwlCEbAAT6ECbX3tsBSIx0MFsYqoyz4BnC\n",
       "O0tRDeD5BqHnGzD8QWJ4gdmGMEUJrggD+lAN4DKAJ/I2JMYLsMUGcAOeIgz4h2pAMZSuYmD4jsQ4\n",
       "Dw7PJiUlcCByGhzDZQDvBihDnYHvKxIDbAAPTJJhJTfCgBYUA9wZGAWgsc/+E4kB8QIsZhjCwAZA\n",
       "NJnCDABxeQoYWAU4QSJ/GDgSwEJgBkMUWO1WmAHMccAMxKcJZqdDDeD8BKSF0tKKGOaDLNrCUA0R\n",
       "AjFg0TgJnql2206YZwxxwSMgLu9fHsDZD3S7/v//nxhmfATloesBDGAhEIOBYR0kry0/AIuHov/d\n",
       "UNM4BGBpFsZgeMiALgRLyiy7IEkZJV/A8gkrXCiAAV2IDV+ZsZIIA2bhK26koTTcEl64FFxoIz4D\n",
       "GAkXabwHcMsBAFbtm/ayJVocAAAAAElFTkSuQmCC\n",
       "\" style=\"display:inline;vertical-align:middle;\" /></a><br>"
      ],
      "text/plain": [
       "expr: (1 , 2 , b , b) in Complexes^{4}"
      ]
     },
     "execution_count": 2,
     "metadata": {},
     "output_type": "execute_result"
    }
   ],
   "source": [
    "# build up the expression from sub-expressions\n",
    "expr = InSet([one, two, b, b], Exp(Complexes, four))"
   ]
  },
  {
   "cell_type": "code",
   "execution_count": 3,
   "metadata": {},
   "outputs": [
    {
     "name": "stdout",
     "output_type": "stream",
     "text": [
      "Passed sanity check: built 'expr' is the same as the stored Expression.\n"
     ]
    }
   ],
   "source": [
    "# check that the built expression is the same as the stored expression\n",
    "%check_expr"
   ]
  },
  {
   "cell_type": "code",
   "execution_count": 4,
   "metadata": {},
   "outputs": [
    {
     "data": {
      "text/html": [
       "<table><tr><th>&nbsp;</th><th>core type</th><th>sub-expressions</th><th>expression</th></tr>\n",
       "<tr><td>0</td><td>Operation</td><td>operator:&nbsp;1<br>operands:&nbsp;2<br></td><td><a class=\"ProveItLink\" href=\"expr.ipynb\"><img src=\"data:image/png;base64,iVBORw0KGgoAAAANSUhEUgAAAIAAAAAZBAMAAAALeTtzAAAAMFBMVEX////c3NwiIiJERESqqqqY\n",
       "mJh2dnZmZmYQEBDu7u4yMjJUVFTMzMyIiIi6uroAAAAs73DqAAAAAXRSTlMAQObYZgAAAg9JREFU\n",
       "OMtjYKAIcDFQCPwnUKafM59CA3jnU2jAEZABfBcIqmN9gEMiAWTAaSCDGeoSxvLFULWzmxiQGDUY\n",
       "Wi+t+qFcwCoAMmAlMCzsoQZIM/B+gapYzYDEwIitc/8Ypv3dMJcBaADvBQbO3fuhBuxkYNCHKoEZ\n",
       "BGawJqD5iTsAGIUb3MvrSxk4QHrvQw3omMCwH+IHvp9QtWAGZwOEM3eRkhaIjuQAEuwbGBjkJzC8\n",
       "YkAyYP0EhnqIAWwKUAMgDBMwm2cpVF2BNMjUCwys+7cwlCEbAAT6ECbX3tsBSIx0MFsYqoyz4BnC\n",
       "O0tRDeD5BqHnGzD8QWJ4gdmGMEUJrggD+lAN4DKAJ/I2JMYLsMUGcAOeIgz4h2pAMZSuYmD4jsQ4\n",
       "Dw7PJiUlcCByGhzDZQDvBihDnYHvKxIDbAAPTJJhJTfCgBYUA9wZGAWgsc/+E4kB8QIsZhjCwAZA\n",
       "NJnCDABxeQoYWAU4QSJ/GDgSwEJgBkMUWO1WmAHMccAMxKcJZqdDDeD8BKSF0tKKGOaDLNrCUA0R\n",
       "AjFg0TgJnql2206YZwxxwSMgLu9fHsDZD3S7/v//nxhmfATloesBDGAhEIOBYR0kry0/AIuHov/d\n",
       "UNM4BGBpFsZgeMiALgRLyiy7IEkZJV/A8gkrXCiAAV2IDV+ZsZIIA2bhK26koTTcEl64FFxoIz4D\n",
       "GAkXabwHcMsBAFbtm/ayJVocAAAAAElFTkSuQmCC\n",
       "\" style=\"display:inline;vertical-align:middle;\" /></a></td></tr>\n",
       "<tr><td>1</td><td>Literal</td><td></td><td><a class=\"ProveItLink\" href=\"../../../../logic/set_theory/membership/__pv_it/088cbc857536a28d4119ad9639a84270ccb0545d0/expr.ipynb\"><img src=\"data:image/png;base64,iVBORw0KGgoAAAANSUhEUgAAAAwAAAAMBAMAAACkW0HUAAAALVBMVEX///+qqqpmZmZUVFQQEBC6\n",
       "urpERETc3NyYmJjMzMwiIiIyMjKIiIju7u4AAACYsrA9AAAAAXRSTlMAQObYZgAAADxJREFUCNdj\n",
       "YOA9vWrVBgaG2b0MQMCeCyIZ2ArA1DUwyRCyahVIyWQI7xaEYm4AU7xLIdxqTQgtvGvVBgCkcQ7e\n",
       "geM/tQAAAABJRU5ErkJggg==\n",
       "\" style=\"display:inline;vertical-align:middle;\" /></a></td></tr>\n",
       "<tr><td>2</td><td>ExprTuple</td><td>3, 4</td><td><a class=\"ProveItLink\" href=\"../741f6457eb6100191d3e816d91239b31bd730ed10/expr.ipynb\"><img src=\"data:image/png;base64,iVBORw0KGgoAAAANSUhEUgAAAIQAAAAcBAMAAABSXwq6AAAAMFBMVEX///+qqqp2dnYiIiJERESI\n",
       "iIhmZmYQEBDc3NyYmJgyMjLu7u5UVFTMzMy6uroAAACGxKilAAAAAXRSTlMAQObYZgAAAmNJREFU\n",
       "OMutlU9oE0EUxr8mzW42uxs9CXpx8dCrQaQIIkTQgyC6UNBLoItCwapY9ajYPYiUUjCKB1EQD1LQ\n",
       "FlkEL6WYFBRUCq0ePIkRPYgetEX8R0jSNzszm9kkEEh8MDvfzM775c3OexOgD8ugb9seCPG9V4K5\n",
       "M4DDhF3uFZEqBXjPxELQK+INIVIuiVfUsm7X9cbHtimHENgDpCdowMIZlNFcGz/CxeJFKOKs4jzy\n",
       "6M9uz/AZogBoHk3N0bc5KhDpMkY3czkvXebjJ/ihjie/yk/BENR0CpA2ZC6vCIQVILnG5br0YcJw\n",
       "oj1ZRTrQ8paxc6eAZBEVmtOZ96hA6Jdg1UOVrQqfUJgTEnFXp4dGB3mdXLQ8jtPwGxREpgqNIxI5\n",
       "4cPFfonwZhjRhbGyRCGt4TUNT6gIsiT/+cyLQlERQzKjvE/Kl6UID1P3sAVR4dsu5VFTxDbx1na2\n",
       "Kgi7hlnqrrQgHkQlcEERXyLEVwWRrmOYunocQV8otHHgtyIqciP5t2qhrHdCFEQ/jOw/RUgE5qx4\n",
       "FCxrzscQAx6mRDZoVUXIjeBmiJCZWMNz6g5JRDj9Drgdqhp0pylwRzoO3qOSyu4VJ/IXIxDHRQjz\n",
       "J8Pu2jGUC9USziASfFU4xPLB4NkBEQXlxQ/qPlMbm5wtmpM+JUWj0ciFavFYEZEAHjMEG8I+2bgs\n",
       "CzdxH5tWKad9mSc+WlUkeII3V8j704XlKBVkNK+HNpFw4yuElXzYOV7sXREL6Ii4JapnRoybl5fb\n",
       "Jl62rBC2j9o0O4XuF19qtfN9yG6sAaefv5Kr4fNGP4jT+B+2AUegsWOImZ5cAAAAAElFTkSuQmCC\n",
       "\" style=\"display:inline;vertical-align:middle;\" /></a></td></tr>\n",
       "<tr><td>3</td><td>ExprTuple</td><td>5, 6, 7, 7</td><td><a class=\"ProveItLink\" href=\"../94d47dccaaeab40bc2f44df62ccfed2f489568e30/expr.ipynb\"><img src=\"data:image/png;base64,iVBORw0KGgoAAAANSUhEUgAAAE4AAAAVBAMAAAAazcUaAAAAMFBMVEX////c3NwiIiJERESqqqqY\n",
       "mJh2dnZmZmYQEBDu7u4yMjJUVFTMzMyIiIi6uroAAAAs73DqAAAAAXRSTlMAQObYZgAAAVBJREFU\n",
       "KM+Nkj1Iw0AYht8iqbnQhODq0s0xHXR2FFzM7NSprmLBggqKiDjZjKJDBxERwR9wEZG6OzSbg4PV\n",
       "qbhZ/KFQrHf33YVLlnhwdw9vnnDJfR/w3+HFuYrV5csjn2MRBYXGcZfoaBsGbPB5BrBZ5U3C/VTP\n",
       "z2GAA7gx2F1bebdAoB5rX4JVhS2UF+XtRWjTwd5Af74AtoV3GN5lhE3yimXlEUxj1fT4CAid++fQ\n",
       "gCWcpL3SN+2tCoYGzGM/7TkV2hci7BrQw2/aq6t9DfgxoJPx3CsFU/C+DOhgJ+XNoeCrWxsfGNDD\n",
       "jPaEWlqG5TORDGFXZSQBi/yPyWN9vk/UaitoiRu7wTpFAsS9vPG10TwNWZMfGIxGfRx8iPI/hZCR\n",
       "AOACtq8LpAGvyEa8brzEqsmSkoTIRsVY9lWudyh7jkbS1m7yQhJdix7O73v3AX882Wu47tUeRwAA\n",
       "AABJRU5ErkJggg==\n",
       "\" style=\"display:inline;vertical-align:middle;\" /></a></td></tr>\n",
       "<tr><td>4</td><td>Operation</td><td>operator:&nbsp;8<br>operands:&nbsp;9<br></td><td><a class=\"ProveItLink\" href=\"../ac094b0dfa02191d356d43d28021b9ef452b8a820/expr.ipynb\"><img src=\"data:image/png;base64,iVBORw0KGgoAAAANSUhEUgAAABcAAAAUBAMAAACUkLs9AAAAMFBMVEX////c3NyqqqqYmJhUVFR2\n",
       "dnbu7u66urrMzMxmZmZEREQQEBAyMjIiIiKIiIgAAAB7fvZ0AAAAAXRSTlMAQObYZgAAAIhJREFU\n",
       "GNNjYICDAwgmA9M3JE4qMucZEodDDYnDygbm8N05v3clgyGYw1FfwBb/hO0BmGPgDDT2C9PMmT8N\n",
       "GJgTNgBFpjAwMAJlOBkdgJw8BgaTLwoMmewBCCNbmQyQOOxInCwOJGU8CQ4IDnMAiMMG5S2uAxK1\n",
       "CRAOi9cztqplMIWd93+7Q1gA8EUjI107FbAAAAAASUVORK5CYII=\n",
       "\" style=\"display:inline;vertical-align:middle;\" /></a></td></tr>\n",
       "<tr><td>5</td><td>Literal</td><td></td><td><a class=\"ProveItLink\" href=\"../../../numeral/__pv_it/9be8badea4c35b9724062cecc501d17a3158d1d20/expr.ipynb\"><img src=\"data:image/png;base64,iVBORw0KGgoAAAANSUhEUgAAAAgAAAAPBAMAAAArJJMAAAAAHlBMVEX///+YmJgyMjIQEBBmZmaI\n",
       "iIhUVFTu7u5EREQAAAAw+MI4AAAAAXRSTlMAQObYZgAAACFJREFUCNdjYGBoZ2BgqJjOwFCWBiQY\n",
       "WEklWJwnOTKAAACjEQo8HvEr3AAAAABJRU5ErkJggg==\n",
       "\" style=\"display:inline;vertical-align:middle;\" /></a></td></tr>\n",
       "<tr><td>6</td><td>Literal</td><td></td><td><a class=\"ProveItLink\" href=\"../../../numeral/__pv_it/77d407a64829263cdc16415becd4c2293f77a4bf0/expr.ipynb\"><img src=\"data:image/png;base64,iVBORw0KGgoAAAANSUhEUgAAAAkAAAAOBAMAAAAPuiubAAAAMFBMVEX///+YmJh2dnbMzMwQEBAi\n",
       "IiLu7u6qqqqIiIhUVFS6urpEREQyMjJmZmbc3NwAAACOMKdoAAAAAXRSTlMAQObYZgAAAFBJREFU\n",
       "CNdj4Lt7egEDw0sGju8MDNMYGOIZGFwSGOYvYDifwHAfKAEUSQASzJ9ATJ4NIPI2iOCYACJrGfge\n",
       "MDBfYGB8wPBUSekqUPH//18ZAIliFhc3zESNAAAAAElFTkSuQmCC\n",
       "\" style=\"display:inline;vertical-align:middle;\" /></a></td></tr>\n",
       "<tr><td>7</td><td>Variable</td><td></td><td><a class=\"ProveItLink\" href=\"../../../../__pv_it/6840a4fa6c106149dc16a131294d0c5e44f1b0480/expr.ipynb\"><img src=\"data:image/png;base64,iVBORw0KGgoAAAANSUhEUgAAAAkAAAAOBAMAAAAPuiubAAAALVBMVEX///9mZmbMzMxERESYmJiI\n",
       "iIh2dna6urqqqqoyMjIiIiIQEBBUVFTu7u4AAAD9S1JeAAAAAXRSTlMAQObYZgAAAE1JREFUCNdj\n",
       "4D29gAEIOA+ASL4GEFl3AURmgQiGOaFHGBh4HzPwKTBwvGXgTmBgnMDAJ8DAJcBQ5wBSLncBJLWN\n",
       "gYGngRFoBO9REQYGAGrcDtUkVqASAAAAAElFTkSuQmCC\n",
       "\" style=\"display:inline;vertical-align:middle;\" /></a></td></tr>\n",
       "<tr><td>8</td><td>Literal</td><td></td><td><a class=\"ProveItLink\" href=\"../../../exponentiation/__pv_it/deb2bf23cbccdd6e6791e1b35b5b9794ce12dbd50/expr.ipynb\"><img src=\"data:image/png;base64,iVBORw0KGgoAAAANSUhEUgAAACgAAAASBAMAAADbMYGVAAAAMFBMVEX///8QEBAiIiKYmJjc3Nzu\n",
       "7u7MzMx2dnZmZma6urpERESqqqoyMjJUVFSIiIgAAAAoDOMTAAAAAXRSTlMAQObYZgAAAOBJREFU\n",
       "GNNjYGB4+//u3Tt/GNAASGAXmhjnPyDBgSbI/g1IxKEJ8nxgYGdgQRPkX8BgDKRY6q7s62OYvmze\n",
       "2wAgb/7ZO1+AVDiDkYEQQ0HTBr4DQF59AgOIKmB4z7CNbcNZBu6vQN55kEACQwDDLQYGVobfDHwg\n",
       "fb8YGBxYHwAZciD3fWXg+gB1JjvQcJZvQIXsCgz8F6DO9GBgMOH7wPCUgaeBwd4B7EwGNjUG7s9c\n",
       "AiwPgO5jkWRgiF3/9+5dfQUG1nWl5Y+B7pv+1gE9bBhqGLCAE1jEWH9jEbT5A3IwAC4sP/1L6Qlu\n",
       "AAAAAElFTkSuQmCC\n",
       "\" style=\"display:inline;vertical-align:middle;\" /></a></td></tr>\n",
       "<tr><td>9</td><td>ExprTuple</td><td>10, 11</td><td><a class=\"ProveItLink\" href=\"../15b4a43204f9952d371095f486ed6d4e815af8560/expr.ipynb\"><img src=\"data:image/png;base64,iVBORw0KGgoAAAANSUhEUgAAAC8AAAAVBAMAAAAk6KpUAAAAMFBMVEX////c3NwiIiJERESqqqqY\n",
       "mJh2dnZmZmYQEBDu7u4yMjJUVFTMzMyIiIi6uroAAAAs73DqAAAAAXRSTlMAQObYZgAAARpJREFU\n",
       "KM9jYMAJ+C5gisWBiNNAzKu1vskcJsqzgYH9AJBeCWS+f8CZfxsmwWTAwLAAqBhoUsBWBgaW3zCJ\n",
       "G0CJMAYGjgkMrBMagPxqqDhjFFBiBgPDKwYGdsYNQIG5UAk2LqAEswNDGQPDdL4EJBcFgiTYChiW\n",
       "MjAcYwlAiHNeAEmwLGDoA0rwIUmwMYAk+BoY/jEwTOZBMsoHLMHzASTBNWEDwqQEmEQLAwNrAkiC\n",
       "EyzBsnv3/u4LIKNMgTzTt0Di0QSIFAMHUAfrAoZ0IJN7803Ox5YM8xXgEkDnPgKxj+v/2Af07kew\n",
       "s/Z/D2DgesDAIYBw0UM4awbIZoQEwju5kGDHkOAEBjuDNFycF87iBpnPiCVq7zAwAAA1wEBM4bd1\n",
       "1AAAAABJRU5ErkJggg==\n",
       "\" style=\"display:inline;vertical-align:middle;\" /></a></td></tr>\n",
       "<tr><td>10</td><td>Literal</td><td></td><td><a class=\"ProveItLink\" href=\"../../../sets/complex/__pv_it/c357845f93a5a2d9f649129d299e7ec28dda4b960/expr.ipynb\"><img src=\"data:image/png;base64,iVBORw0KGgoAAAANSUhEUgAAAA8AAAAOBAMAAAACpFvcAAAAMFBMVEX////c3NyqqqqYmJhUVFR2\n",
       "dnbu7u66urrMzMxmZmZEREQQEBAyMjIiIiKIiIgAAAB7fvZ0AAAAAXRSTlMAQObYZgAAAGVJREFU\n",
       "CNdjYGDgu3N+70oGBgaO+gK2+CdAhoEzAwPTFwYG5oQNQN4UBgZORgcgI4+BIZM9gAEMWpkMoAx2\n",
       "KCOLAyrFk+AAYTAHgBhsQLy4DkjUJjAwsHg9Y6taBpLsvP/bnYEBACkBFGQfBv8RAAAAAElFTkSu\n",
       "QmCC\n",
       "\" style=\"display:inline;vertical-align:middle;\" /></a></td></tr>\n",
       "<tr><td>11</td><td>Literal</td><td></td><td><a class=\"ProveItLink\" href=\"../../../numeral/__pv_it/23412ce59ea7e77353d2f9225e02248e73651ca00/expr.ipynb\"><img src=\"data:image/png;base64,iVBORw0KGgoAAAANSUhEUgAAAAoAAAAPBAMAAAAv0UM9AAAALVBMVEX///9mZmaqqqru7u52dnYy\n",
       "MjKYmJjc3NwQEBCIiIhEREQiIiJUVFTMzMwAAACUDTcXAAAAAXRSTlMAQObYZgAAAD5JREFUCNdj\n",
       "YGBguMMAArtABGcXiCyLApEOIJKtAERaMoBIBxDJdAFEmjCASJ0zZ16cBCkF64KQPu/EwBwGACv6\n",
       "DSRgin9qAAAAAElFTkSuQmCC\n",
       "\" style=\"display:inline;vertical-align:middle;\" /></a></td></tr>\n",
       "</table>\n"
      ],
      "text/plain": [
       "0. (1 , 2 , b , b) in Complexes^{4}\n",
       "   core type: Operation\n",
       "   operator: 1\n",
       "   operands: 2\n",
       "1. in\n",
       "   core type: Literal\n",
       "   sub-expressions: \n",
       "2. ((1 , 2 , b , b) , Complexes^{4})\n",
       "   core type: ExprTuple\n",
       "   sub-expressions: 3, 4\n",
       "3. (1 , 2 , b , b)\n",
       "   core type: ExprTuple\n",
       "   sub-expressions: 5, 6, 7, 7\n",
       "4. Complexes^{4}\n",
       "   core type: Operation\n",
       "   operator: 8\n",
       "   operands: 9\n",
       "5. 1\n",
       "   core type: Literal\n",
       "   sub-expressions: \n",
       "6. 2\n",
       "   core type: Literal\n",
       "   sub-expressions: \n",
       "7. b\n",
       "   core type: Variable\n",
       "   sub-expressions: \n",
       "8. Exp\n",
       "   core type: Literal\n",
       "   sub-expressions: \n",
       "9. (Complexes , 4)\n",
       "   core type: ExprTuple\n",
       "   sub-expressions: 10, 11\n",
       "10. Complexes\n",
       "    core type: Literal\n",
       "    sub-expressions: \n",
       "11. 4\n",
       "    core type: Literal\n",
       "    sub-expressions: "
      ]
     },
     "execution_count": 4,
     "metadata": {},
     "output_type": "execute_result"
    }
   ],
   "source": [
    "# display the expression information\n",
    "expr.exprInfo()"
   ]
  },
  {
   "cell_type": "code",
   "execution_count": null,
   "metadata": {},
   "outputs": [],
   "source": []
  }
 ],
 "metadata": {
  "kernelspec": {
   "display_name": "Python 3",
   "language": "python",
   "name": "python3"
  }
 },
 "nbformat": 4,
 "nbformat_minor": 0
}
