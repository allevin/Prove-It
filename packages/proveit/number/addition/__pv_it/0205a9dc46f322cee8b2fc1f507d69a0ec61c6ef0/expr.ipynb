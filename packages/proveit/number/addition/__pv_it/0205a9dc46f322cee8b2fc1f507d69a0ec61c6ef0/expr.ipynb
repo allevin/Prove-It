{
 "cells": [
  {
   "cell_type": "markdown",
   "metadata": {},
   "source": [
    "Expression of type <a class=\"ProveItLink\" href=\"../../../../../../doc/html/api/proveit.ExprTuple.html\">ExprTuple</a>\n",
    "=======================\n",
    "# from context <a class=\"ProveItLink\" href=\"../../_context_.ipynb\">proveit.number.addition</a>"
   ]
  },
  {
   "cell_type": "code",
   "execution_count": 1,
   "metadata": {},
   "outputs": [],
   "source": [
    "# import Expression classes needed to build the expression\n",
    "from proveit import ExprTuple\n",
    "from proveit.number import Add, Neg, one, three, two"
   ]
  },
  {
   "cell_type": "code",
   "execution_count": 2,
   "metadata": {},
   "outputs": [
    {
     "data": {
      "text/html": [
       "<strong id=\"expr\">expr:</strong> <a class=\"ProveItLink\" href=\"expr.ipynb\"><img src=\"data:image/png;base64,iVBORw0KGgoAAAANSUhEUgAAAKUAAAAVBAMAAADVzzOcAAAAMFBMVEX////c3NwiIiJERESqqqqY\n",
       "mJh2dnZmZmYQEBDu7u4yMjJUVFTMzMyIiIi6uroAAAAs73DqAAAAAXRSTlMAQObYZgAAAcpJREFU\n",
       "OMu11T9IQkEcB/Dv80/61Kc2BdUgDdFUDTW0pFuTZEtjCIFCELmU4dTQ0pIvWoQGpT9Etrg75GRD\n",
       "Qy1BUKA1BqFFBU9Iu3vmnzt5zyC74d3Pux8ff7/jeQL/MZw3PeWW6OOqbcEocxkDsVluJR+a4pmZ\n",
       "n9kRWvbBkiPRWWtT9HKmkEHBx65EUOIa21caBcD5BaQAqZUhZi840y7DUK6He/Wp7x0uD5NzkG2Y\n",
       "az68AYuAtZ0pcKZ1B/ZqPfTXJ1OHCalhzqtmAniGjmlTYGFNMvjemybU3o0+bOiZZBgU3jyHpmnL\n",
       "kNOJ4KSLeR1kTcdKRtPM068zpbDbxTwCX+ddUbNOiWjOLZDjEg5H6Cg2zEH147iaZZnsMK0Km9Nm\n",
       "Ii7DUUZVv8579RlLp8fSadqZkIPxQ6POYcAboOa2rmmKoJ+pM6lommJNpibpfVrXvAQWGNOVguG1\n",
       "0xRpUAEm3DCnENYzhdFQ2MOYUgClYKeZpFm3cH6q79JT2240fhpgX85arcaamIses6Rls7KOBK3d\n",
       "FI2Ry8FWhNX9uzvMr7/92IzIb9Mc/J35or/d6m+Vvev+MJqmSO46DPWClFrXIz1Lobf/HQ/ANx0j\n",
       "hPvqCBWCAAAAAElFTkSuQmCC\n",
       "\" style=\"display:inline;vertical-align:middle;\" /></a><br>"
      ],
      "text/plain": [
       "expr: (-1 - 2 + 3 - 1 , 3)"
      ]
     },
     "execution_count": 2,
     "metadata": {},
     "output_type": "execute_result"
    }
   ],
   "source": [
    "# build up the expression from sub-expressions\n",
    "subExpr1 = Neg(one)\n",
    "expr = ExprTuple(Add(subExpr1, Neg(two), three, subExpr1), three)"
   ]
  },
  {
   "cell_type": "code",
   "execution_count": 3,
   "metadata": {},
   "outputs": [
    {
     "name": "stdout",
     "output_type": "stream",
     "text": [
      "Passed sanity check: built 'expr' is the same as the stored Expression.\n"
     ]
    }
   ],
   "source": [
    "# check that the built expression is the same as the stored expression\n",
    "%check_expr"
   ]
  },
  {
   "cell_type": "code",
   "execution_count": 4,
   "metadata": {},
   "outputs": [
    {
     "data": {
      "text/html": [
       "<table><tr><th>&nbsp;</th><th>core type</th><th>sub-expressions</th><th>expression</th></tr>\n",
       "<tr><td>0</td><td>ExprTuple</td><td>1, 5</td><td><a class=\"ProveItLink\" href=\"expr.ipynb\"><img src=\"data:image/png;base64,iVBORw0KGgoAAAANSUhEUgAAAKUAAAAVBAMAAADVzzOcAAAAMFBMVEX////c3NwiIiJERESqqqqY\n",
       "mJh2dnZmZmYQEBDu7u4yMjJUVFTMzMyIiIi6uroAAAAs73DqAAAAAXRSTlMAQObYZgAAAcpJREFU\n",
       "OMu11T9IQkEcB/Dv80/61Kc2BdUgDdFUDTW0pFuTZEtjCIFCELmU4dTQ0pIvWoQGpT9Etrg75GRD\n",
       "Qy1BUKA1BqFFBU9Iu3vmnzt5zyC74d3Pux8ff7/jeQL/MZw3PeWW6OOqbcEocxkDsVluJR+a4pmZ\n",
       "n9kRWvbBkiPRWWtT9HKmkEHBx65EUOIa21caBcD5BaQAqZUhZi840y7DUK6He/Wp7x0uD5NzkG2Y\n",
       "az68AYuAtZ0pcKZ1B/ZqPfTXJ1OHCalhzqtmAniGjmlTYGFNMvjemybU3o0+bOiZZBgU3jyHpmnL\n",
       "kNOJ4KSLeR1kTcdKRtPM068zpbDbxTwCX+ddUbNOiWjOLZDjEg5H6Cg2zEH147iaZZnsMK0Km9Nm\n",
       "Ii7DUUZVv8579RlLp8fSadqZkIPxQ6POYcAboOa2rmmKoJ+pM6lommJNpibpfVrXvAQWGNOVguG1\n",
       "0xRpUAEm3DCnENYzhdFQ2MOYUgClYKeZpFm3cH6q79JT2240fhpgX85arcaamIses6Rls7KOBK3d\n",
       "FI2Ry8FWhNX9uzvMr7/92IzIb9Mc/J35or/d6m+Vvev+MJqmSO46DPWClFrXIz1Lobf/HQ/ANx0j\n",
       "hPvqCBWCAAAAAElFTkSuQmCC\n",
       "\" style=\"display:inline;vertical-align:middle;\" /></a></td></tr>\n",
       "<tr><td>1</td><td>Operation</td><td>operator:&nbsp;2<br>operands:&nbsp;3<br></td><td><a class=\"ProveItLink\" href=\"../d34d6b5aea1ab12b69601889156e295265bac8d00/expr.ipynb\"><img src=\"data:image/png;base64,iVBORw0KGgoAAAANSUhEUgAAAIMAAAAQBAMAAADHQdG4AAAAMFBMVEX///92dnbMzMyqqqqYmJgQ\n",
       "EBBmZmaIiIhUVFTu7u5ERES6uroiIiIyMjLc3NwAAAArcALEAAAAAXRSTlMAQObYZgAAAQVJREFU\n",
       "OMtjYICDlQyogC/t1gZUEUXBxWhqGLgmIHFm/USTfcHA/hnVzASG/QWoajjXIxkxowPdiE4GhvNQ\n",
       "hQ/AFONnBv4DqCZ09CO7gh3diNAJDP0QnzBD7GbGMIKBoR6vEfcnMOSjGAEE6B4hYAQQnJ+AZsQN\n",
       "BhKNYPrIgGIEk2wDqUbwLmBAc0XpBixGvD0DAqdhRvDdAfMhKrMY0I1gBSmCayHsCnaws9nu3r0T\n",
       "e/cukM2nwMD1hTSPmDHwPUB2xfyfpBrBlMDAgmIE/wUGnn8kGfFGUDAHJSzYHRj2C+Axgi31bwpa\n",
       "ovj//w9qcJqlXUYzIS3+mgMDMYC5gIFSwI3XCADyEmUlA9lNXgAAAABJRU5ErkJggg==\n",
       "\" style=\"display:inline;vertical-align:middle;\" /></a></td></tr>\n",
       "<tr><td>2</td><td>Literal</td><td></td><td><a class=\"ProveItLink\" href=\"../3e6688136fa3c7aefbebe51301b7c3ebf0b69c440/expr.ipynb\"><img src=\"data:image/png;base64,iVBORw0KGgoAAAANSUhEUgAAAA4AAAAOBAMAAADtZjDiAAAAJFBMVEX///+6urpUVFQQEBAiIiIy\n",
       "MjJmZmaIiIiqqqrc3Nzu7u4AAACgHpL+AAAAAXRSTlMAQObYZgAAAB5JREFUCNdjYGBgWMkAAe2k\n",
       "0Kmhoc6hoUGk6BMHYgAHOwjcado9fwAAAABJRU5ErkJggg==\n",
       "\" style=\"display:inline;vertical-align:middle;\" /></a></td></tr>\n",
       "<tr><td>3</td><td>ExprTuple</td><td>6, 4, 5, 6</td><td><a class=\"ProveItLink\" href=\"../681bf2b3fa0eb2c37fc23f971e9a5bb7eef506d80/expr.ipynb\"><img src=\"data:image/png;base64,iVBORw0KGgoAAAANSUhEUgAAAIEAAAAVBAMAAACTeZA2AAAAMFBMVEX////c3NwiIiJERESqqqqY\n",
       "mJh2dnZmZmYQEBDu7u4yMjJUVFTMzMyIiIi6uroAAAAs73DqAAAAAXRSTlMAQObYZgAAAYZJREFU\n",
       "OMtjYKAc8F2gQHMciDiNJMA8AU2FeJUdhMGTluyArt2SgYH9AJBeiRDitEczgXEDw32IRnEGvr9o\n",
       "Bkz+CSQWMDDwIjzBuXs/mgncExiYPoBZ+Q4Mn1DlZu8GmRDGwMCBrOk+mgkcnQzc/8AsfwwTGHhB\n",
       "JsxgYHjFgMcErp8M7P9gIf4XmwnMDgxl+EwAAqafMNM2YDOBrYBhKQETzidA6GOrGbCZwLKAoY+A\n",
       "CYvhGvqwmcDXwAD0JuMiJRB4gDABIcJuANfRD5GUAkvpQU3g+cDwD78bbkNpGQYG+wAsbgCa0ILX\n",
       "BJYCBkFwUvk/AbsJQF+YopuAYshxBoZAsMgvBgZ9AU5ME1gXMKSjmcCJnHAY1dLSFcAiVxn4vjHM\n",
       "V8AWm4+QxMr7lwdw9gsgJYb///8rgEVYyqscGGZ8RFLMXvGrFJhKHjBwCKDndgEGnCIPMSIbmKpZ\n",
       "E9DEWDFUIUQCMORyUXM36SZwAnM3gzSaIGaRBRfhxZDiBnmQkZJS7g4DAwBch26oBtfk2wAAAABJ\n",
       "RU5ErkJggg==\n",
       "\" style=\"display:inline;vertical-align:middle;\" /></a></td></tr>\n",
       "<tr><td>4</td><td>Operation</td><td>operator:&nbsp;8<br>operand:&nbsp;7<br></td><td><a class=\"ProveItLink\" href=\"../9cd64560928a3eea5b8bd346c0fe76e791b1ec050/expr.ipynb\"><img src=\"data:image/png;base64,iVBORw0KGgoAAAANSUhEUgAAABkAAAAOBAMAAAAoFKpzAAAAMFBMVEX///+YmJh2dnbMzMwQEBDu\n",
       "7u6qqqqIiIhUVFRERERmZma6uroiIiIyMjLc3NwAAABSazM2AAAAAXRSTlMAQObYZgAAAFtJREFU\n",
       "CNdjYIACvlU3NzDAwQsG9m8IXisDw3kEzyWAoR+h9H4Aw3okjUCVAUgc5k/IUrwTGBjengGB00De\n",
       "SmQp9gZkXhYD3wOEGQsYGBG8N0pKa5As+///DwMAyBMb8hv9jf4AAAAASUVORK5CYII=\n",
       "\" style=\"display:inline;vertical-align:middle;\" /></a></td></tr>\n",
       "<tr><td>5</td><td>Literal</td><td></td><td><a class=\"ProveItLink\" href=\"../../../numeral/__pv_it/9176d93c83afa2c995b614976e3cb49207102fa70/expr.ipynb\"><img src=\"data:image/png;base64,iVBORw0KGgoAAAANSUhEUgAAAAoAAAAOBAMAAADkjZCYAAAAMFBMVEX///+YmJju7u4QEBBUVFQy\n",
       "MjIiIiKIiIi6urpmZmbc3NyqqqpERER2dnbMzMwAAAB0GlNiAAAAAXRSTlMAQObYZgAAAE1JREFU\n",
       "CNdjYHh79zQDA9cEhv4CBt7fDPwJDNxgEgiAIkAQAsR8Vx1ATIbiBhDJ/ImB6wEDz0cG/U8gkj+A\n",
       "ge0XA7sAQ/8FBoadM6MZAEflFACalZ/OAAAAAElFTkSuQmCC\n",
       "\" style=\"display:inline;vertical-align:middle;\" /></a></td></tr>\n",
       "<tr><td>6</td><td>Operation</td><td>operator:&nbsp;8<br>operand:&nbsp;9<br></td><td><a class=\"ProveItLink\" href=\"../27bb768acc4707a63c4de5a0b22e13dfe76b5c980/expr.ipynb\"><img src=\"data:image/png;base64,iVBORw0KGgoAAAANSUhEUgAAABgAAAAPBAMAAAAMihLoAAAAJ1BMVEX///+YmJgQEBBmZmaIiIhU\n",
       "VFTu7u5ERES6uroiIiIyMjLc3NwAAAAKCT4sAAAAAXRSTlMAQObYZgAAACpJREFUCNdjYICDMgST\n",
       "If0Ygp0aisRhYCGTs2smCMwg3wAYYDY6ZciADABBShCHMIgXsAAAAABJRU5ErkJggg==\n",
       "\" style=\"display:inline;vertical-align:middle;\" /></a></td></tr>\n",
       "<tr><td>7</td><td>Literal</td><td></td><td><a class=\"ProveItLink\" href=\"../../../numeral/__pv_it/77d407a64829263cdc16415becd4c2293f77a4bf0/expr.ipynb\"><img src=\"data:image/png;base64,iVBORw0KGgoAAAANSUhEUgAAAAkAAAAOBAMAAAAPuiubAAAAMFBMVEX///+YmJh2dnbMzMwQEBAi\n",
       "IiLu7u6qqqqIiIhUVFS6urpEREQyMjJmZmbc3NwAAACOMKdoAAAAAXRSTlMAQObYZgAAAFBJREFU\n",
       "CNdj4Lt7egEDw0sGju8MDNMYGOIZGFwSGOYvYDifwHAfKAEUSQASzJ9ATJ4NIPI2iOCYACJrGfge\n",
       "MDBfYGB8wPBUSekqUPH//18ZAIliFhc3zESNAAAAAElFTkSuQmCC\n",
       "\" style=\"display:inline;vertical-align:middle;\" /></a></td></tr>\n",
       "<tr><td>8</td><td>Literal</td><td></td><td><a class=\"ProveItLink\" href=\"../../../negation/__pv_it/3fc7a08bb9735faa20ef8e175f6ea95511acc9c70/expr.ipynb\"><img src=\"data:image/png;base64,iVBORw0KGgoAAAANSUhEUgAAAA4AAAACBAMAAACapPCZAAAAElBMVEX///+6uroiIiIyMjLc3NwA\n",
       "AAA6l9OrAAAAAXRSTlMAQObYZgAAABBJREFUCNdjcFYCAUUGKAAADR4BD8/TF5gAAAAASUVORK5C\n",
       "YII=\n",
       "\" style=\"display:inline;vertical-align:middle;\" /></a></td></tr>\n",
       "<tr><td>9</td><td>Literal</td><td></td><td><a class=\"ProveItLink\" href=\"../../../numeral/__pv_it/9be8badea4c35b9724062cecc501d17a3158d1d20/expr.ipynb\"><img src=\"data:image/png;base64,iVBORw0KGgoAAAANSUhEUgAAAAgAAAAPBAMAAAArJJMAAAAAHlBMVEX///+YmJgyMjIQEBBmZmaI\n",
       "iIhUVFTu7u5EREQAAAAw+MI4AAAAAXRSTlMAQObYZgAAACFJREFUCNdjYGBoZ2BgqJjOwFCWBiQY\n",
       "WEklWJwnOTKAAACjEQo8HvEr3AAAAABJRU5ErkJggg==\n",
       "\" style=\"display:inline;vertical-align:middle;\" /></a></td></tr>\n",
       "</table>\n"
      ],
      "text/plain": [
       "0. (-1 - 2 + 3 - 1 , 3)\n",
       "   core type: ExprTuple\n",
       "   sub-expressions: 1, 5\n",
       "1. -1 - 2 + 3 - 1\n",
       "   core type: Operation\n",
       "   operator: 2\n",
       "   operands: 3\n",
       "2. +\n",
       "   core type: Literal\n",
       "   sub-expressions: \n",
       "3. (-1 , -2 , 3 , -1)\n",
       "   core type: ExprTuple\n",
       "   sub-expressions: 6, 4, 5, 6\n",
       "4. -2\n",
       "   core type: Operation\n",
       "   operator: 8\n",
       "   operand: 7\n",
       "5. 3\n",
       "   core type: Literal\n",
       "   sub-expressions: \n",
       "6. -1\n",
       "   core type: Operation\n",
       "   operator: 8\n",
       "   operand: 9\n",
       "7. 2\n",
       "   core type: Literal\n",
       "   sub-expressions: \n",
       "8. -\n",
       "   core type: Literal\n",
       "   sub-expressions: \n",
       "9. 1\n",
       "   core type: Literal\n",
       "   sub-expressions: "
      ]
     },
     "execution_count": 4,
     "metadata": {},
     "output_type": "execute_result"
    }
   ],
   "source": [
    "# display the expression information\n",
    "expr.exprInfo()"
   ]
  },
  {
   "cell_type": "code",
   "execution_count": null,
   "metadata": {},
   "outputs": [],
   "source": []
  }
 ],
 "metadata": {
  "kernelspec": {
   "display_name": "Python 3",
   "language": "python",
   "name": "python3"
  }
 },
 "nbformat": 4,
 "nbformat_minor": 0
}
