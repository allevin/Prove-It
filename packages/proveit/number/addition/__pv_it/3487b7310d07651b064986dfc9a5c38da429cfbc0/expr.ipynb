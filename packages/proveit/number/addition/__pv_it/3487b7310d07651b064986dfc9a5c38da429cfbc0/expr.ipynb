{
 "cells": [
  {
   "cell_type": "markdown",
   "metadata": {},
   "source": [
    "Expression of type <a class=\"ProveItLink\" href=\"../../../../../../doc/html/api/proveit.number.Add.html\">Add</a>\n",
    "=======================\n",
    "# from context <a class=\"ProveItLink\" href=\"../../_context_.ipynb\">proveit.number.addition</a>"
   ]
  },
  {
   "cell_type": "code",
   "execution_count": 1,
   "metadata": {},
   "outputs": [],
   "source": [
    "# import Expression classes needed to build the expression\n",
    "from proveit._common_ import b, c\n",
    "from proveit.number import Add, Mult, three, two"
   ]
  },
  {
   "cell_type": "code",
   "execution_count": 2,
   "metadata": {},
   "outputs": [
    {
     "data": {
      "text/html": [
       "<strong id=\"expr\">expr:</strong> <a class=\"ProveItLink\" href=\"expr.ipynb\"><img src=\"data:image/png;base64,iVBORw0KGgoAAAANSUhEUgAAAQkAAAAVBAMAAACnJQYDAAAAMFBMVEX////c3NxmZmbMzMxERESY\n",
       "mJiIiIh2dna6urqqqqoyMjIiIiIQEBBUVFTu7u4AAAAiO1wTAAAAAXRSTlMAQObYZgAAArNJREFU\n",
       "SMfVlj9oE1Ecx7+5NGlySe5iBRcpHkUR4tDQpYtiF8HNOtUxIGZTQxEzOJipgx16OHQ1Q11Oqtlc\n",
       "hCiI/5CaRSfRcy+aQWy1kPPd7+6S/N49kmAnH+QlfPN9n/vee79374D/ua3FpSsxJVOZxOU343NL\n",
       "UhJzW41xIZIdJOu3bAbRyrLrHDBTuogxLmp6RxJmkf49LoXuYgaZXxzSlF2Pkejgpj3GRc2MXEYx\n",
       "+P4CtLkyuJtIqAJ3bRxwyIrkSldQcJHrql3fGHnDDX9kw1V87+Jrgyn91hd2gAfDKQiyK7nyLvI7\n",
       "KOyrXZuMfEe+xBMX82NSZGhah1aEIFM2d90Ta9CDtq928RTb1Y+Qr9l2mWLUq2UmaDWpoggybXHQ\n",
       "aepzPbUrSkFw4yfMspQiucdxZxt6iwn6sugWtwf1QpBskw97SP35mtoVpSB4tod8TUqhLzGc8QpT\n",
       "y3zFacXSb/z+u68TJPOcp6C/sUUIN+YKUwRwrQnTklKc5GVQ6Mp1YQZ180GwDb9EA0iyy11UEBrd\n",
       "0Y9WzBWmCOA5CxviRjXHefTOcWil09QPFDOYmiGLn+IocEkMNF72IcQfclGK6zR2d4m7So7zzHH8\n",
       "JQ3gYg/P81rEfSSKw8qJijwXeRuG51IKDCDyirz1f1s4AqUrnIsALurlNR+ctJBiKUxxMV4Xfpn8\n",
       "EVspeogFkJRUnRfEZwG4DKUrTBHAC7bW4YOP1+tneF1YmObbyN9t15DZi/gBRN6pq+JMelpfbald\n",
       "UV0Q3Ph0SprutucdSBu/ekN6aglydq40OM0Ioje4a12Ugud5LbUr2ql9ONRPyhFP8BeqEyn2BC+O\n",
       "cm2qz8n420BM6QsrKsBtyZWqjXKtHf4lR3cVbyqKk30S17+3RCeuFWILMItJXIdox+LS1XjWyiQu\n",
       "0f4CGV3f80iobYUAAAAASUVORK5CYII=\n",
       "\" style=\"display:inline;vertical-align:middle;\" /></a><br>"
      ],
      "text/plain": [
       "expr: b + 2 + c + (3 * b) + (2 * b) + c"
      ]
     },
     "execution_count": 2,
     "metadata": {},
     "output_type": "execute_result"
    }
   ],
   "source": [
    "# build up the expression from sub-expressions\n",
    "expr = Add(b, two, c, Mult(three, b), Mult(two, b), c)"
   ]
  },
  {
   "cell_type": "code",
   "execution_count": 3,
   "metadata": {},
   "outputs": [
    {
     "name": "stdout",
     "output_type": "stream",
     "text": [
      "Passed sanity check: built 'expr' is the same as the stored Expression.\n"
     ]
    }
   ],
   "source": [
    "# check that the built expression is the same as the stored expression\n",
    "%check_expr"
   ]
  },
  {
   "cell_type": "code",
   "execution_count": 4,
   "metadata": {},
   "outputs": [
    {
     "data": {
      "text/html": [
       "<table><tr><th>&nbsp;</th><th>core type</th><th>sub-expressions</th><th>expression</th></tr>\n",
       "<tr><td>0</td><td>Operation</td><td>operator:&nbsp;1<br>operands:&nbsp;2<br></td><td><a class=\"ProveItLink\" href=\"expr.ipynb\"><img src=\"data:image/png;base64,iVBORw0KGgoAAAANSUhEUgAAAQkAAAAVBAMAAACnJQYDAAAAMFBMVEX////c3NxmZmbMzMxERESY\n",
       "mJiIiIh2dna6urqqqqoyMjIiIiIQEBBUVFTu7u4AAAAiO1wTAAAAAXRSTlMAQObYZgAAArNJREFU\n",
       "SMfVlj9oE1Ecx7+5NGlySe5iBRcpHkUR4tDQpYtiF8HNOtUxIGZTQxEzOJipgx16OHQ1Q11Oqtlc\n",
       "hCiI/5CaRSfRcy+aQWy1kPPd7+6S/N49kmAnH+QlfPN9n/vee79374D/ua3FpSsxJVOZxOU343NL\n",
       "UhJzW41xIZIdJOu3bAbRyrLrHDBTuogxLmp6RxJmkf49LoXuYgaZXxzSlF2Pkejgpj3GRc2MXEYx\n",
       "+P4CtLkyuJtIqAJ3bRxwyIrkSldQcJHrql3fGHnDDX9kw1V87+Jrgyn91hd2gAfDKQiyK7nyLvI7\n",
       "KOyrXZuMfEe+xBMX82NSZGhah1aEIFM2d90Ta9CDtq928RTb1Y+Qr9l2mWLUq2UmaDWpoggybXHQ\n",
       "aepzPbUrSkFw4yfMspQiucdxZxt6iwn6sugWtwf1QpBskw97SP35mtoVpSB4tod8TUqhLzGc8QpT\n",
       "y3zFacXSb/z+u68TJPOcp6C/sUUIN+YKUwRwrQnTklKc5GVQ6Mp1YQZ180GwDb9EA0iyy11UEBrd\n",
       "0Y9WzBWmCOA5CxviRjXHefTOcWil09QPFDOYmiGLn+IocEkMNF72IcQfclGK6zR2d4m7So7zzHH8\n",
       "JQ3gYg/P81rEfSSKw8qJijwXeRuG51IKDCDyirz1f1s4AqUrnIsALurlNR+ctJBiKUxxMV4Xfpn8\n",
       "EVspeogFkJRUnRfEZwG4DKUrTBHAC7bW4YOP1+tneF1YmObbyN9t15DZi/gBRN6pq+JMelpfbald\n",
       "UV0Q3Ph0SprutucdSBu/ekN6aglydq40OM0Ioje4a12Ugud5LbUr2ql9ONRPyhFP8BeqEyn2BC+O\n",
       "cm2qz8n420BM6QsrKsBtyZWqjXKtHf4lR3cVbyqKk30S17+3RCeuFWILMItJXIdox+LS1XjWyiQu\n",
       "0f4CGV3f80iobYUAAAAASUVORK5CYII=\n",
       "\" style=\"display:inline;vertical-align:middle;\" /></a></td></tr>\n",
       "<tr><td>1</td><td>Literal</td><td></td><td><a class=\"ProveItLink\" href=\"../3e6688136fa3c7aefbebe51301b7c3ebf0b69c440/expr.ipynb\"><img src=\"data:image/png;base64,iVBORw0KGgoAAAANSUhEUgAAAA4AAAAOBAMAAADtZjDiAAAAJFBMVEX///+6urpUVFQQEBAiIiIy\n",
       "MjJmZmaIiIiqqqrc3Nzu7u4AAACgHpL+AAAAAXRSTlMAQObYZgAAAB5JREFUCNdjYGBgWMkAAe2k\n",
       "0Kmhoc6hoUGk6BMHYgAHOwjcado9fwAAAABJRU5ErkJggg==\n",
       "\" style=\"display:inline;vertical-align:middle;\" /></a></td></tr>\n",
       "<tr><td>2</td><td>ExprTuple</td><td>11, 10, 5, 3, 4, 5</td><td><a class=\"ProveItLink\" href=\"../86e1a4be6ca9375ba0ff36892fcf6e71e8d1ad060/expr.ipynb\"><img src=\"data:image/png;base64,iVBORw0KGgoAAAANSUhEUgAAAKQAAAAVBAMAAAA6DViiAAAAMFBMVEX////c3NwiIiJERESqqqqY\n",
       "mJh2dnZmZmYQEBDu7u4yMjJUVFTMzMyIiIi6uroAAAAs73DqAAAAAXRSTlMAQObYZgAAAlJJREFU\n",
       "OMu1VTFsEzEUfbn2cndJLhe6dOiSCcZkKCvqVomFsDJFDKlUtVIEgkoFqQhQBUu5qQI6tGphQEgQ\n",
       "JBDtUDUTDAzNBlKpCEwVS6BpQZFKD/vbvtzFUlnCl3L+fvZ/9n/+doD/YNlGP9nMJvt8gLOel8Dw\n",
       "7LneOe8qo6G/dFs6iZm1po6S3WS/Z0CqJmfW8GUszpiootVN47lsR+AeQEPJUoDLAjzJk/Zh/IhT\n",
       "Jg/g5cOe4tkACtBQkXkZtg+0fNG17yN9HKccjFJmO9K552OrqaFkzi18Z81ltekOrGNN8W7iSUX+\n",
       "0sdcU0OFjeI6F2P3jQIMueTi9GddqtTmTkn5BV9HKWgCT9le2/Dqcny7TE1mAasCyEzWQsrlIo6k\n",
       "m/mloyLoPBaYXh3YZTm+JpqHDZxVIZ94ig7f1AUf82prRf59hCgqgvbAtLNW4FXFTKso2q2IODbX\n",
       "YpkLNgv8luBVOop9RFERtM0pDVZ7Uo0dGdEO67KOgUO+A77WGWQPBeySGs4dRNG2pLxLZTknxB6s\n",
       "4hQR/QmF6ghKWYCWPL1xJHK9qAza49mzs5mHw7vvgYvg7IzFJMdbgfFTBR9xzTmaqcLMaSgF4RI7\n",
       "c6THrBqJlThdmciTQG+BKXLcElrq6PAaN4R+Q5XKFWgoD+JF9I1JsnmNicX2YgRBkHcesPWt6V2f\n",
       "HIzPPOk+EB9LILQQBPs6yoOAF7BVAl/DC5brdeKP4ckou5CmSiu8F6bmxF/Ek9Fkgx63flI+prdP\n",
       "VFo42tCcmP0DfcXLqa9/FG4dfwFYXLDnJtcDdQAAAABJRU5ErkJggg==\n",
       "\" style=\"display:inline;vertical-align:middle;\" /></a></td></tr>\n",
       "<tr><td>3</td><td>Operation</td><td>operator:&nbsp;7<br>operands:&nbsp;6<br></td><td><a class=\"ProveItLink\" href=\"../1e631544db83ce4853cc0a486ec7448a56387f780/expr.ipynb\"><img src=\"data:image/png;base64,iVBORw0KGgoAAAANSUhEUgAAACIAAAAOBAMAAAC4B9O8AAAAMFBMVEX///+YmJju7u4QEBBUVFQy\n",
       "MjIiIiKIiIi6urpmZmbc3NyqqqpERER2dnbMzMwAAAB0GlNiAAAAAXRSTlMAQObYZgAAAJhJREFU\n",
       "CNdjYHh79zQDDKiYAQmuCQz9BXChECDm/c3AnwAX+Q3E3MgiHJ8gNEIXbwJCMwSwupcIMDDwXXWA\n",
       "i+gfYPgHoosbgASTApDYr8BgCxJhBpmnDzJiKgPDTwauBww8H4Ec5QNAIpOB4yOD/ieICNQ5nJ8Y\n",
       "+AMY2H7BRP4xMF9gYBdg6L8AE/FmmAIkd86MRvi0UoABAPL2JMAQl6zyAAAAAElFTkSuQmCC\n",
       "\" style=\"display:inline;vertical-align:middle;\" /></a></td></tr>\n",
       "<tr><td>4</td><td>Operation</td><td>operator:&nbsp;7<br>operands:&nbsp;8<br></td><td><a class=\"ProveItLink\" href=\"../4fa23b01b5b767887c70271cab015f5b5c98d38c0/expr.ipynb\"><img src=\"data:image/png;base64,iVBORw0KGgoAAAANSUhEUgAAACEAAAAOBAMAAABTMGi/AAAAMFBMVEX///+YmJh2dnbMzMwQEBAi\n",
       "IiLu7u6qqqqIiIhUVFS6urpEREQyMjJmZmbc3NwAAACOMKdoAAAAAXRSTlMAQObYZgAAAKBJREFU\n",
       "CNdj4Lt7egEDFLBNCQCSLxk4vsNEGHgmAIlpDAzxcBH+AiDhksAwH65tfQKQOJ/AcB8uogql4xNg\n",
       "Iic7JoIo5k9wu34z8BuALNgA4qUBMfs3BhYFIH0bLP0VSPAeYOC/wMDAMQEs4g0kWC8wrBdgYKhl\n",
       "4HuAcM79BAbmCwyMcBEDBicGhqdKSldhdnEW8AKNiP///yvc9hkXGRgAQ2knSfB0jgcAAAAASUVO\n",
       "RK5CYII=\n",
       "\" style=\"display:inline;vertical-align:middle;\" /></a></td></tr>\n",
       "<tr><td>5</td><td>Variable</td><td></td><td><a class=\"ProveItLink\" href=\"../../../../__pv_it/cbdfda466482236edba0ce44ac7ef39cda0af7a40/expr.ipynb\"><img src=\"data:image/png;base64,iVBORw0KGgoAAAANSUhEUgAAAAkAAAAJBAMAAAASvxsjAAAALVBMVEX///9mZmbc3NxUVFSYmJhE\n",
       "REQiIiIyMjK6uroQEBDMzMyIiIh2dnbu7u4AAABgFDGoAAAAAXRSTlMAQObYZgAAADZJREFUCNdj\n",
       "YOA9s3sBA8PKBvYEBt7ZDKwODMwPGICALwBE6m0Asx0YGIDiAgw8QJUyu/cyAAAmuwmycZ8WfQAA\n",
       "AABJRU5ErkJggg==\n",
       "\" style=\"display:inline;vertical-align:middle;\" /></a></td></tr>\n",
       "<tr><td>6</td><td>ExprTuple</td><td>9, 11</td><td><a class=\"ProveItLink\" href=\"../ed5a6ec4c875d8d4dac8f1f17e42c24dc92561870/expr.ipynb\"><img src=\"data:image/png;base64,iVBORw0KGgoAAAANSUhEUgAAACkAAAAVBAMAAAAp9toTAAAAMFBMVEX////c3NwiIiJERESqqqqY\n",
       "mJh2dnZmZmYQEBDu7u4yMjJUVFTMzMyIiIi6uroAAAAs73DqAAAAAXRSTlMAQObYZgAAARBJREFU\n",
       "GNNtka9Pw0AcxT/d2rVlY53H7I8AX4edQpIGAQnJkhpAgiBIqMRRAYLM1JBgSKowmEkEJAtypvya\n",
       "qCF873odScOJd++95L737h38v/rThrGt4Aked9crw78fgpsLu8WKKcyBlUwghdUpnW+CYeUGocAW\n",
       "eAn2n1skApcwr5SZsKOgHXKo1cTcP3m9g07MjfDefmYyfBHk2CnnWj7P9GaXeBH9E3609Eq9uSlB\n",
       "TO9duVZOe6HdliQfKfcUrsralbjHiZqwITyl9YFKKledgZOyJ88bUUT+p7jd0M10sjcRm0fX+BcD\n",
       "SfZwoMqY4Q3qRmuiXuxEhjvLgse6yYbrS5OsGbH8kq4aZTV/6AV+AUvGQYW/r0RJAAAAAElFTkSu\n",
       "QmCC\n",
       "\" style=\"display:inline;vertical-align:middle;\" /></a></td></tr>\n",
       "<tr><td>7</td><td>Literal</td><td></td><td><a class=\"ProveItLink\" href=\"../../../multiplication/__pv_it/21fd2079611555ecce512d99547a00d551e6b86b0/expr.ipynb\"><img src=\"data:image/png;base64,iVBORw0KGgoAAAANSUhEUgAAAAMAAAADBAMAAACkBqiMAAAAElBMVEX///9EREQQEBAiIiLu7u4A\n",
       "AABGBidwAAAAAXRSTlMAQObYZgAAABFJREFUCNdjYHFgcDVgcBIAAASWAQx4jI0xAAAAAElFTkSu\n",
       "QmCC\n",
       "\" style=\"display:inline;vertical-align:middle;\" /></a></td></tr>\n",
       "<tr><td>8</td><td>ExprTuple</td><td>10, 11</td><td><a class=\"ProveItLink\" href=\"../3a7fed3333ef42636d071b31cc212d3a8cbf468e0/expr.ipynb\"><img src=\"data:image/png;base64,iVBORw0KGgoAAAANSUhEUgAAACkAAAAVBAMAAAAp9toTAAAAMFBMVEX////c3NwiIiJERESqqqqY\n",
       "mJh2dnZmZmYQEBDu7u4yMjJUVFTMzMyIiIi6uroAAAAs73DqAAAAAXRSTlMAQObYZgAAARNJREFU\n",
       "GNNtkaFPw0AUxn8tK20prEMhMFVoDJb0TwCDJA2CKZIaEBgQhAQDlcgmBEEwNSQYkjkEgnlGIEjM\n",
       "FqZqKO/u2omGipf3/a737rvv4P+vO2yBXVVeYOV40wD/MQJ3IN0dVsFHbPBCISWHpSFBhj0xNFSr\n",
       "O+BleBcEv4aOMynX8C3bStya7qkyF3OklV0aev/+APMpt1q9JsbDlHBAJ+dSyxvza6fES+ieoge6\n",
       "64a6OWHK4sTQt/padsp4S9EztTFlubF7kqkJGyKeYRvlVI46ByenD9bafj/yf4QGsVtoZ18yraqq\n",
       "yL/qibOnQxXGJ16vSbRp1I2dpO6dWcAHOskW9SVJVmsxe5JAjbLaLzSCP9bMPeBRRV1aAAAAAElF\n",
       "TkSuQmCC\n",
       "\" style=\"display:inline;vertical-align:middle;\" /></a></td></tr>\n",
       "<tr><td>9</td><td>Literal</td><td></td><td><a class=\"ProveItLink\" href=\"../../../numeral/__pv_it/9176d93c83afa2c995b614976e3cb49207102fa70/expr.ipynb\"><img src=\"data:image/png;base64,iVBORw0KGgoAAAANSUhEUgAAAAoAAAAOBAMAAADkjZCYAAAAMFBMVEX///+YmJju7u4QEBBUVFQy\n",
       "MjIiIiKIiIi6urpmZmbc3NyqqqpERER2dnbMzMwAAAB0GlNiAAAAAXRSTlMAQObYZgAAAE1JREFU\n",
       "CNdjYHh79zQDA9cEhv4CBt7fDPwJDNxgEgiAIkAQAsR8Vx1ATIbiBhDJ/ImB6wEDz0cG/U8gkj+A\n",
       "ge0XA7sAQ/8FBoadM6MZAEflFACalZ/OAAAAAElFTkSuQmCC\n",
       "\" style=\"display:inline;vertical-align:middle;\" /></a></td></tr>\n",
       "<tr><td>10</td><td>Literal</td><td></td><td><a class=\"ProveItLink\" href=\"../../../numeral/__pv_it/77d407a64829263cdc16415becd4c2293f77a4bf0/expr.ipynb\"><img src=\"data:image/png;base64,iVBORw0KGgoAAAANSUhEUgAAAAkAAAAOBAMAAAAPuiubAAAAMFBMVEX///+YmJh2dnbMzMwQEBAi\n",
       "IiLu7u6qqqqIiIhUVFS6urpEREQyMjJmZmbc3NwAAACOMKdoAAAAAXRSTlMAQObYZgAAAFBJREFU\n",
       "CNdj4Lt7egEDw0sGju8MDNMYGOIZGFwSGOYvYDifwHAfKAEUSQASzJ9ATJ4NIPI2iOCYACJrGfge\n",
       "MDBfYGB8wPBUSekqUPH//18ZAIliFhc3zESNAAAAAElFTkSuQmCC\n",
       "\" style=\"display:inline;vertical-align:middle;\" /></a></td></tr>\n",
       "<tr><td>11</td><td>Variable</td><td></td><td><a class=\"ProveItLink\" href=\"../../../../__pv_it/6840a4fa6c106149dc16a131294d0c5e44f1b0480/expr.ipynb\"><img src=\"data:image/png;base64,iVBORw0KGgoAAAANSUhEUgAAAAkAAAAOBAMAAAAPuiubAAAALVBMVEX///9mZmbMzMxERESYmJiI\n",
       "iIh2dna6urqqqqoyMjIiIiIQEBBUVFTu7u4AAAD9S1JeAAAAAXRSTlMAQObYZgAAAE1JREFUCNdj\n",
       "4D29gAEIOA+ASL4GEFl3AURmgQiGOaFHGBh4HzPwKTBwvGXgTmBgnMDAJ8DAJcBQ5wBSLncBJLWN\n",
       "gYGngRFoBO9REQYGAGrcDtUkVqASAAAAAElFTkSuQmCC\n",
       "\" style=\"display:inline;vertical-align:middle;\" /></a></td></tr>\n",
       "</table>\n"
      ],
      "text/plain": [
       "0. b + 2 + c + (3 * b) + (2 * b) + c\n",
       "   core type: Operation\n",
       "   operator: 1\n",
       "   operands: 2\n",
       "1. +\n",
       "   core type: Literal\n",
       "   sub-expressions: \n",
       "2. (b , 2 , c , 3 * b , 2 * b , c)\n",
       "   core type: ExprTuple\n",
       "   sub-expressions: 11, 10, 5, 3, 4, 5\n",
       "3. 3 * b\n",
       "   core type: Operation\n",
       "   operator: 7\n",
       "   operands: 6\n",
       "4. 2 * b\n",
       "   core type: Operation\n",
       "   operator: 7\n",
       "   operands: 8\n",
       "5. c\n",
       "   core type: Variable\n",
       "   sub-expressions: \n",
       "6. (3 , b)\n",
       "   core type: ExprTuple\n",
       "   sub-expressions: 9, 11\n",
       "7. *\n",
       "   core type: Literal\n",
       "   sub-expressions: \n",
       "8. (2 , b)\n",
       "   core type: ExprTuple\n",
       "   sub-expressions: 10, 11\n",
       "9. 3\n",
       "   core type: Literal\n",
       "   sub-expressions: \n",
       "10. 2\n",
       "    core type: Literal\n",
       "    sub-expressions: \n",
       "11. b\n",
       "    core type: Variable\n",
       "    sub-expressions: "
      ]
     },
     "execution_count": 4,
     "metadata": {},
     "output_type": "execute_result"
    }
   ],
   "source": [
    "# display the expression information\n",
    "expr.exprInfo()"
   ]
  },
  {
   "cell_type": "code",
   "execution_count": null,
   "metadata": {},
   "outputs": [],
   "source": []
  }
 ],
 "metadata": {
  "kernelspec": {
   "display_name": "Python 3",
   "language": "python",
   "name": "python3"
  }
 },
 "nbformat": 4,
 "nbformat_minor": 0
}
