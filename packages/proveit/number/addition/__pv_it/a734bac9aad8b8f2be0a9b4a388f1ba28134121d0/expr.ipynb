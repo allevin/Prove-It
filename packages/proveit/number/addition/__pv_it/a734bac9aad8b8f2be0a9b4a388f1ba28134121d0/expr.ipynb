{
 "cells": [
  {
   "cell_type": "markdown",
   "metadata": {},
   "source": [
    "Expression of type <a class=\"ProveItLink\" href=\"../../../../../../doc/html/api/proveit.number.Add.html\">Add</a>\n",
    "=======================\n",
    "# from context <a class=\"ProveItLink\" href=\"../../_context_.ipynb\">proveit.number.addition</a>"
   ]
  },
  {
   "cell_type": "code",
   "execution_count": 1,
   "metadata": {},
   "outputs": [],
   "source": [
    "# import Expression classes needed to build the expression\n",
    "from proveit._common_ import a, b, c\n",
    "from proveit.number import Add, one, three, two"
   ]
  },
  {
   "cell_type": "code",
   "execution_count": 2,
   "metadata": {},
   "outputs": [
    {
     "data": {
      "text/html": [
       "<strong id=\"expr\">expr:</strong> <a class=\"ProveItLink\" href=\"expr.ipynb\"><img src=\"data:image/png;base64,iVBORw0KGgoAAAANSUhEUgAAAUUAAAAQBAMAAABzbnCeAAAAMFBMVEX///8yMjKqqqrMzMzu7u4i\n",
       "IiJmZmaYmJhEREQQEBC6urp2dnaIiIhUVFTc3NwAAAD87Fq/AAAAAXRSTlMAQObYZgAAAjlJREFU\n",
       "SMellUFrE0EYht9ss9s2mqR7aOklsD9AaE4ieHCuUrA9CeKhyaUezS+Q3gQvRfBUwZ6FQgtSEVvo\n",
       "ggehVBovSqElgUKPGiHSooWY6Hwz882knaTOKTy8+8y7u5NvgT5rTFjgpPoMl6/swTz+P+Kska13\n",
       "SX/ZstWxUMd+4rFl6t4NB4jY6wS5cwbuyYpHDcFJXiBsMeJchGKCCxLINq0IASfhaHcS/GT8Bv3Y\n",
       "F5yMv0D+l5WxL1oXuCCBILUiBJyEo50ZuGOmjcjXcRPejpsYuiP+vevC4ftXno7dFbY5md3+wEFp\n",
       "7ysH2ksNVERVIosD9M5/D/Hr5ljL3/HOBiMjK5hkIHuGYpldo72ygY5QJWVxgLLcLvVu9xTRkr/j\n",
       "NCd3UzxlIGhjfMMEhlc20BGqpCwO0DtfX+n+Z1sIU29H2o5Iwz440QSKFRMYXtlAR6hSwz6PDfc8\n",
       "YlWguIS53huoxvGDOC4ZHU3yCZycwQJhBes1E5A3iuPJ53FcVxENpMUBhuUYWK7he4oZCM9zDCr4\n",
       "ZpLCuX3D3dn3mFkMr3xKOiKBtjhAWrId0es4l+BzUPZ0vAk8YeQUGOUdy3jJgOGljipCr1ZZHECW\n",
       "H8BCE5lacP+a5zwWHm69nWfkC/CGgXwS1flM1V7ZQEeokrI4gCwfkfvdG2O7t3Z5x8XVqRojYafT\n",
       "4R2j7T3BZ8/hI+u+tJdmj4pQJWVxgBoXi9Wk/2wfhvjBAJ+VS74z1lq7CvED5NKhAbP8Adn90ESs\n",
       "UqeXAAAAAElFTkSuQmCC\n",
       "\" style=\"display:inline;vertical-align:middle;\" /></a><br>"
      ],
      "text/plain": [
       "expr: a + 1 + 2 + c + b + a + b + c + c + 3"
      ]
     },
     "execution_count": 2,
     "metadata": {},
     "output_type": "execute_result"
    }
   ],
   "source": [
    "# build up the expression from sub-expressions\n",
    "expr = Add(a, one, two, c, b, a, b, c, c, three)"
   ]
  },
  {
   "cell_type": "code",
   "execution_count": 3,
   "metadata": {},
   "outputs": [
    {
     "name": "stdout",
     "output_type": "stream",
     "text": [
      "Passed sanity check: built 'expr' is the same as the stored Expression.\n"
     ]
    }
   ],
   "source": [
    "# check that the built expression is the same as the stored expression\n",
    "%check_expr"
   ]
  },
  {
   "cell_type": "code",
   "execution_count": 4,
   "metadata": {},
   "outputs": [
    {
     "data": {
      "text/html": [
       "<table><tr><th>&nbsp;</th><th>core type</th><th>sub-expressions</th><th>expression</th></tr>\n",
       "<tr><td>0</td><td>Operation</td><td>operator:&nbsp;1<br>operands:&nbsp;2<br></td><td><a class=\"ProveItLink\" href=\"expr.ipynb\"><img src=\"data:image/png;base64,iVBORw0KGgoAAAANSUhEUgAAAUUAAAAQBAMAAABzbnCeAAAAMFBMVEX///8yMjKqqqrMzMzu7u4i\n",
       "IiJmZmaYmJhEREQQEBC6urp2dnaIiIhUVFTc3NwAAAD87Fq/AAAAAXRSTlMAQObYZgAAAjlJREFU\n",
       "SMellUFrE0EYht9ss9s2mqR7aOklsD9AaE4ieHCuUrA9CeKhyaUezS+Q3gQvRfBUwZ6FQgtSEVvo\n",
       "ggehVBovSqElgUKPGiHSooWY6Hwz882knaTOKTy8+8y7u5NvgT5rTFjgpPoMl6/swTz+P+Kska13\n",
       "SX/ZstWxUMd+4rFl6t4NB4jY6wS5cwbuyYpHDcFJXiBsMeJchGKCCxLINq0IASfhaHcS/GT8Bv3Y\n",
       "F5yMv0D+l5WxL1oXuCCBILUiBJyEo50ZuGOmjcjXcRPejpsYuiP+vevC4ftXno7dFbY5md3+wEFp\n",
       "7ysH2ksNVERVIosD9M5/D/Hr5ljL3/HOBiMjK5hkIHuGYpldo72ygY5QJWVxgLLcLvVu9xTRkr/j\n",
       "NCd3UzxlIGhjfMMEhlc20BGqpCwO0DtfX+n+Z1sIU29H2o5Iwz440QSKFRMYXtlAR6hSwz6PDfc8\n",
       "YlWguIS53huoxvGDOC4ZHU3yCZycwQJhBes1E5A3iuPJ53FcVxENpMUBhuUYWK7he4oZCM9zDCr4\n",
       "ZpLCuX3D3dn3mFkMr3xKOiKBtjhAWrId0es4l+BzUPZ0vAk8YeQUGOUdy3jJgOGljipCr1ZZHECW\n",
       "H8BCE5lacP+a5zwWHm69nWfkC/CGgXwS1flM1V7ZQEeokrI4gCwfkfvdG2O7t3Z5x8XVqRojYafT\n",
       "4R2j7T3BZ8/hI+u+tJdmj4pQJWVxgBoXi9Wk/2wfhvjBAJ+VS74z1lq7CvED5NKhAbP8Adn90ESs\n",
       "UqeXAAAAAElFTkSuQmCC\n",
       "\" style=\"display:inline;vertical-align:middle;\" /></a></td></tr>\n",
       "<tr><td>1</td><td>Literal</td><td></td><td><a class=\"ProveItLink\" href=\"../3e6688136fa3c7aefbebe51301b7c3ebf0b69c440/expr.ipynb\"><img src=\"data:image/png;base64,iVBORw0KGgoAAAANSUhEUgAAAA4AAAAOBAMAAADtZjDiAAAAJFBMVEX///+6urpUVFQQEBAiIiIy\n",
       "MjJmZmaIiIiqqqrc3Nzu7u4AAACgHpL+AAAAAXRSTlMAQObYZgAAAB5JREFUCNdjYGBgWMkAAe2k\n",
       "0Kmhoc6hoUGk6BMHYgAHOwjcado9fwAAAABJRU5ErkJggg==\n",
       "\" style=\"display:inline;vertical-align:middle;\" /></a></td></tr>\n",
       "<tr><td>2</td><td>ExprTuple</td><td>5, 3, 4, 7, 6, 5, 6, 7, 7, 8</td><td><a class=\"ProveItLink\" href=\"../34a732b1ef6d867b14d17ef42c0bf51307a3d33a0/expr.ipynb\"><img src=\"data:image/png;base64,iVBORw0KGgoAAAANSUhEUgAAAMEAAAAVBAMAAAANw5eWAAAAMFBMVEX////c3NwiIiJERESqqqqY\n",
       "mJh2dnZmZmYQEBDu7u4yMjJUVFTMzMyIiIi6uroAAAAs73DqAAAAAXRSTlMAQObYZgAAAmtJREFU\n",
       "SMe1Vb9v00AYfU2cOI6T2EwdQGomGOnCSv0f1CyMqCpSuhDwQit1ASSExEDjCWVLBEIIdcmCQKCq\n",
       "lpAAiQEvDAjSH0yIpaFVkYJUwt3l7uz4TjDlG5zn5/d97/zd5wsw/ajFUyx+hV4+TFD5kIPZ9YsZ\n",
       "tfWyjv9TMiqNqx7MiKBnEykL3GGmh10vk1PuKWU0lIhZ1E6ALlBNN8l6vc0d7BC5QSbH8ZQyGkrE\n",
       "DQ+HwGWgFE7wu/y2dB/2n0zOQaiU0VAiFplDG/gBrUN5CDPrsKyWWf7nDJEu5T2s0qZvXb+TcSCR\n",
       "G/LWNfoRA5v953yTpF5SUoSHza+pTSoGeELgdzc/UB0+Lo1/3++V2cRYR3DGVaQ+oYQIlQ08Gue9\n",
       "3SQXo4sNsqRjmPOqw2O+ugfI+xQYQ5SYaaKXlBShHeMCL1AltWu3QZptD5CLFQdhaovXM7twAs5w\n",
       "fZrisZ3aiFaIyoA6OPPoRIrDFzGQ4vVyAQ58znB9muJxJMAZYMGnDneBuRiLCDMORoBTDMzFyezf\n",
       "CjnD9WmKD8GJ+LRGIXUgXSJN63h4ZUSWdGA574BLDDlkkT59SPb0HihI9JKSIhwDBZb3GzjvotDF\n",
       "Cpkq3zhXRKfOHaxDupazjZU6Q3aAYkQf2p7ZY6pELykpwgvgGsv7hNovNq3f6HjvvNlB+yeh11pP\n",
       "favlkg6PRqM6Q1jtf2YPra2bYCDRS0qKYDb7Icsz1tbJkVLeQ8kVW7Mvv0VXRfsK0FCaCuTUKCyJ\n",
       "G1+AAlTkK0BDaSo006f3NBwscnrjtPgCZWqsoqoCNJSmgk3bNTPNf1FyCP4FK6bTZkeJcJIAAAAA\n",
       "SUVORK5CYII=\n",
       "\" style=\"display:inline;vertical-align:middle;\" /></a></td></tr>\n",
       "<tr><td>3</td><td>Literal</td><td></td><td><a class=\"ProveItLink\" href=\"../../../numeral/__pv_it/9be8badea4c35b9724062cecc501d17a3158d1d20/expr.ipynb\"><img src=\"data:image/png;base64,iVBORw0KGgoAAAANSUhEUgAAAAgAAAAPBAMAAAArJJMAAAAAHlBMVEX///+YmJgyMjIQEBBmZmaI\n",
       "iIhUVFTu7u5EREQAAAAw+MI4AAAAAXRSTlMAQObYZgAAACFJREFUCNdjYGBoZ2BgqJjOwFCWBiQY\n",
       "WEklWJwnOTKAAACjEQo8HvEr3AAAAABJRU5ErkJggg==\n",
       "\" style=\"display:inline;vertical-align:middle;\" /></a></td></tr>\n",
       "<tr><td>4</td><td>Literal</td><td></td><td><a class=\"ProveItLink\" href=\"../../../numeral/__pv_it/77d407a64829263cdc16415becd4c2293f77a4bf0/expr.ipynb\"><img src=\"data:image/png;base64,iVBORw0KGgoAAAANSUhEUgAAAAkAAAAOBAMAAAAPuiubAAAAMFBMVEX///+YmJh2dnbMzMwQEBAi\n",
       "IiLu7u6qqqqIiIhUVFS6urpEREQyMjJmZmbc3NwAAACOMKdoAAAAAXRSTlMAQObYZgAAAFBJREFU\n",
       "CNdj4Lt7egEDw0sGju8MDNMYGOIZGFwSGOYvYDifwHAfKAEUSQASzJ9ATJ4NIPI2iOCYACJrGfge\n",
       "MDBfYGB8wPBUSekqUPH//18ZAIliFhc3zESNAAAAAElFTkSuQmCC\n",
       "\" style=\"display:inline;vertical-align:middle;\" /></a></td></tr>\n",
       "<tr><td>5</td><td>Variable</td><td></td><td><a class=\"ProveItLink\" href=\"../../../../__pv_it/07527342713064c87612d00d8557c53d53d5324a0/expr.ipynb\"><img src=\"data:image/png;base64,iVBORw0KGgoAAAANSUhEUgAAAAsAAAAJBAMAAAAWSsseAAAAMFBMVEX///8yMjKqqqrMzMzu7u4i\n",
       "IiJmZmaYmJhEREQQEBC6urp2dnaIiIhUVFTc3NwAAAD87Fq/AAAAAXRSTlMAQObYZgAAAEhJREFU\n",
       "CNdjYOC7s2seAwPDygccHxgY+L4zsDUwMPB+YGA9wMDA38Dgb8DA8P4Agz6DA4O/AsNFJgMGxgKm\n",
       "MG6gyjunLE4xAAAZTBA5TB6DCwAAAABJRU5ErkJggg==\n",
       "\" style=\"display:inline;vertical-align:middle;\" /></a></td></tr>\n",
       "<tr><td>6</td><td>Variable</td><td></td><td><a class=\"ProveItLink\" href=\"../../../../__pv_it/6840a4fa6c106149dc16a131294d0c5e44f1b0480/expr.ipynb\"><img src=\"data:image/png;base64,iVBORw0KGgoAAAANSUhEUgAAAAkAAAAOBAMAAAAPuiubAAAALVBMVEX///9mZmbMzMxERESYmJiI\n",
       "iIh2dna6urqqqqoyMjIiIiIQEBBUVFTu7u4AAAD9S1JeAAAAAXRSTlMAQObYZgAAAE1JREFUCNdj\n",
       "4D29gAEIOA+ASL4GEFl3AURmgQiGOaFHGBh4HzPwKTBwvGXgTmBgnMDAJ8DAJcBQ5wBSLncBJLWN\n",
       "gYGngRFoBO9REQYGAGrcDtUkVqASAAAAAElFTkSuQmCC\n",
       "\" style=\"display:inline;vertical-align:middle;\" /></a></td></tr>\n",
       "<tr><td>7</td><td>Variable</td><td></td><td><a class=\"ProveItLink\" href=\"../../../../__pv_it/cbdfda466482236edba0ce44ac7ef39cda0af7a40/expr.ipynb\"><img src=\"data:image/png;base64,iVBORw0KGgoAAAANSUhEUgAAAAkAAAAJBAMAAAASvxsjAAAALVBMVEX///9mZmbc3NxUVFSYmJhE\n",
       "REQiIiIyMjK6uroQEBDMzMyIiIh2dnbu7u4AAABgFDGoAAAAAXRSTlMAQObYZgAAADZJREFUCNdj\n",
       "YOA9s3sBA8PKBvYEBt7ZDKwODMwPGICALwBE6m0Asx0YGIDiAgw8QJUyu/cyAAAmuwmycZ8WfQAA\n",
       "AABJRU5ErkJggg==\n",
       "\" style=\"display:inline;vertical-align:middle;\" /></a></td></tr>\n",
       "<tr><td>8</td><td>Literal</td><td></td><td><a class=\"ProveItLink\" href=\"../../../numeral/__pv_it/9176d93c83afa2c995b614976e3cb49207102fa70/expr.ipynb\"><img src=\"data:image/png;base64,iVBORw0KGgoAAAANSUhEUgAAAAoAAAAOBAMAAADkjZCYAAAAMFBMVEX///+YmJju7u4QEBBUVFQy\n",
       "MjIiIiKIiIi6urpmZmbc3NyqqqpERER2dnbMzMwAAAB0GlNiAAAAAXRSTlMAQObYZgAAAE1JREFU\n",
       "CNdjYHh79zQDA9cEhv4CBt7fDPwJDNxgEgiAIkAQAsR8Vx1ATIbiBhDJ/ImB6wEDz0cG/U8gkj+A\n",
       "ge0XA7sAQ/8FBoadM6MZAEflFACalZ/OAAAAAElFTkSuQmCC\n",
       "\" style=\"display:inline;vertical-align:middle;\" /></a></td></tr>\n",
       "</table>\n"
      ],
      "text/plain": [
       "0. a + 1 + 2 + c + b + a + b + c + c + 3\n",
       "   core type: Operation\n",
       "   operator: 1\n",
       "   operands: 2\n",
       "1. +\n",
       "   core type: Literal\n",
       "   sub-expressions: \n",
       "2. (a , 1 , 2 , c , b , a , b , c , c , 3)\n",
       "   core type: ExprTuple\n",
       "   sub-expressions: 5, 3, 4, 7, 6, 5, 6, 7, 7, 8\n",
       "3. 1\n",
       "   core type: Literal\n",
       "   sub-expressions: \n",
       "4. 2\n",
       "   core type: Literal\n",
       "   sub-expressions: \n",
       "5. a\n",
       "   core type: Variable\n",
       "   sub-expressions: \n",
       "6. b\n",
       "   core type: Variable\n",
       "   sub-expressions: \n",
       "7. c\n",
       "   core type: Variable\n",
       "   sub-expressions: \n",
       "8. 3\n",
       "   core type: Literal\n",
       "   sub-expressions: "
      ]
     },
     "execution_count": 4,
     "metadata": {},
     "output_type": "execute_result"
    }
   ],
   "source": [
    "# display the expression information\n",
    "expr.exprInfo()"
   ]
  },
  {
   "cell_type": "code",
   "execution_count": null,
   "metadata": {},
   "outputs": [],
   "source": []
  }
 ],
 "metadata": {
  "kernelspec": {
   "display_name": "Python 3",
   "language": "python",
   "name": "python3"
  }
 },
 "nbformat": 4,
 "nbformat_minor": 0
}
