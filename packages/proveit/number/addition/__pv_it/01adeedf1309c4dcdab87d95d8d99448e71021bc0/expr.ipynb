{
 "cells": [
  {
   "cell_type": "markdown",
   "metadata": {},
   "source": [
    "Expression of type <a class=\"ProveItLink\" href=\"../../../../../../doc/html/api/proveit.logic.Equals.html\">Equals</a>\n",
    "=======================\n",
    "# from context <a class=\"ProveItLink\" href=\"../../_context_.ipynb\">proveit.number.addition</a>"
   ]
  },
  {
   "cell_type": "code",
   "execution_count": 1,
   "metadata": {},
   "outputs": [],
   "source": [
    "# import Expression classes needed to build the expression\n",
    "from proveit._common_ import d\n",
    "from proveit.logic import Equals\n",
    "from proveit.number import Mult, zero"
   ]
  },
  {
   "cell_type": "code",
   "execution_count": 2,
   "metadata": {},
   "outputs": [
    {
     "data": {
      "text/html": [
       "<strong id=\"expr\">expr:</strong> <a class=\"ProveItLink\" href=\"expr.ipynb\"><img src=\"data:image/png;base64,iVBORw0KGgoAAAANSUhEUgAAAFgAAAAVBAMAAAAwfTS1AAAAMFBMVEX////c3NwiIiJERESqqqqY\n",
       "mJh2dnZmZmYQEBDu7u4yMjJUVFTMzMyIiIi6uroAAAAs73DqAAAAAXRSTlMAQObYZgAAAUhJREFU\n",
       "KM9jYCAJ8F3AFGN9gEPxaQaG6XdrkEUetzPUYCiDqFnJwKDHMOkAssQXBi4MxWA1vBcYeBUYeBcg\n",
       "O+wnA2sCmlqIGo4JDEwbGPg+IkmwKTBwNqAphqh5xcDAX8DA8wVJgquAgcEETTFETRkDg3wCA89f\n",
       "uLD0tfcODAzpaIohapZCGN/gDm5ksJ/AwOAFYrOvAoMNDDA1fQjFnBNAogEMVUDqBRaTvzH8Qzhj\n",
       "vgKQ2M/AoAakzmN1xj+I478CBWYYAInPDJz/sCiGqGkBBwsLLOgY/zKwfOCEOoNdCQwMGGBqTMEB\n",
       "zqYAVcz5hYF7gQ8DQxRmpADVgMJIhWEGPLqXMjgVJGAGHUTNI1Aiyd2DCOa7b2yBaW4dRkICqeEQ\n",
       "wJYUMaIbmnQTsImyXcCenldiE5yFI/FLYxPciEMxIxYbeQ9gVQoAZjpcSWhJrcsAAAAASUVORK5C\n",
       "YII=\n",
       "\" style=\"display:inline;vertical-align:middle;\" /></a><br>"
      ],
      "text/plain": [
       "expr: (0 * d) = 0"
      ]
     },
     "execution_count": 2,
     "metadata": {},
     "output_type": "execute_result"
    }
   ],
   "source": [
    "# build up the expression from sub-expressions\n",
    "expr = Equals(Mult(zero, d), zero)"
   ]
  },
  {
   "cell_type": "code",
   "execution_count": 3,
   "metadata": {},
   "outputs": [
    {
     "name": "stdout",
     "output_type": "stream",
     "text": [
      "Passed sanity check: built 'expr' is the same as the stored Expression.\n"
     ]
    }
   ],
   "source": [
    "# check that the built expression is the same as the stored expression\n",
    "%check_expr"
   ]
  },
  {
   "cell_type": "code",
   "execution_count": 4,
   "metadata": {},
   "outputs": [
    {
     "data": {
      "text/html": [
       "<table><tr><th>&nbsp;</th><th>core type</th><th>sub-expressions</th><th>expression</th></tr>\n",
       "<tr><td>0</td><td>Operation</td><td>operator:&nbsp;1<br>operands:&nbsp;2<br></td><td><a class=\"ProveItLink\" href=\"expr.ipynb\"><img src=\"data:image/png;base64,iVBORw0KGgoAAAANSUhEUgAAAFgAAAAVBAMAAAAwfTS1AAAAMFBMVEX////c3NwiIiJERESqqqqY\n",
       "mJh2dnZmZmYQEBDu7u4yMjJUVFTMzMyIiIi6uroAAAAs73DqAAAAAXRSTlMAQObYZgAAAUhJREFU\n",
       "KM9jYCAJ8F3AFGN9gEPxaQaG6XdrkEUetzPUYCiDqFnJwKDHMOkAssQXBi4MxWA1vBcYeBUYeBcg\n",
       "O+wnA2sCmlqIGo4JDEwbGPg+IkmwKTBwNqAphqh5xcDAX8DA8wVJgquAgcEETTFETRkDg3wCA89f\n",
       "uLD0tfcODAzpaIohapZCGN/gDm5ksJ/AwOAFYrOvAoMNDDA1fQjFnBNAogEMVUDqBRaTvzH8Qzhj\n",
       "vgKQ2M/AoAakzmN1xj+I478CBWYYAInPDJz/sCiGqGkBBwsLLOgY/zKwfOCEOoNdCQwMGGBqTMEB\n",
       "zqYAVcz5hYF7gQ8DQxRmpADVgMJIhWEGPLqXMjgVJGAGHUTNI1Aiyd2DCOa7b2yBaW4dRkICqeEQ\n",
       "wJYUMaIbmnQTsImyXcCenldiE5yFI/FLYxPciEMxIxYbeQ9gVQoAZjpcSWhJrcsAAAAASUVORK5C\n",
       "YII=\n",
       "\" style=\"display:inline;vertical-align:middle;\" /></a></td></tr>\n",
       "<tr><td>1</td><td>Literal</td><td></td><td><a class=\"ProveItLink\" href=\"../../../../logic/equality/__pv_it/2fb26078095930560931daa0500ce419a39ea6cd0/expr.ipynb\"><img src=\"data:image/png;base64,iVBORw0KGgoAAAANSUhEUgAAAA4AAAAFBAMAAACHocAhAAAAFVBMVEX///9EREQiIiJUVFQyMjJm\n",
       "ZmYAAADubVkoAAAAAXRSTlMAQObYZgAAABRJREFUCNdjCHEBAWcGXCBICQQUAUpuAwlgGKrkAAAA\n",
       "AElFTkSuQmCC\n",
       "\" style=\"display:inline;vertical-align:middle;\" /></a></td></tr>\n",
       "<tr><td>2</td><td>ExprTuple</td><td>3, 6</td><td><a class=\"ProveItLink\" href=\"../8cddeac12a6db9b7ec043819d6f44c10656f76890/expr.ipynb\"><img src=\"data:image/png;base64,iVBORw0KGgoAAAANSUhEUgAAAEMAAAAVBAMAAADvM06qAAAAMFBMVEX////c3NwiIiJERESqqqqY\n",
       "mJh2dnZmZmYQEBDu7u4yMjJUVFTMzMyIiIi6uroAAAAs73DqAAAAAXRSTlMAQObYZgAAAVlJREFU\n",
       "KM+Nkr9LQkEcwD+amuev3u6gQ7QU0dIYPZqDnBrj0dIkvMkhCgqClihp0a23OLT1BwS5NyQNBZUg\n",
       "tUWglRkNSnfPPG8Q6Ybv9+57n7vvT/jHStXG3W4ocQ2l+o5pfjn0ldi9rzJZlbtzmOe0ajJtXwYb\n",
       "Yg48SNZIZkl6pusfX93CA6xDtEjwgtS7gUSyvpqFpkUZXmHKJdE2kJjrq2+4sZmwKUDGIdHVQPqu\n",
       "aSsd6EikRsSl0kc6OpB9losacQh5HA8Roa4yObYxkNQevaGjMxXmFcxgOEq0FKLC/ZLG8oIUn4ge\n",
       "OtycQg5QSYcGSQe6hFpikPSapRwtokr3VwoZT5u4t0qxX7pNCHtsycM0Zd2ACiuuIz5UA2xxhEr6\n",
       "WR5K+cthWepvSw1xYskPC4/yYaxB1Bo5IdoqGxB2RiFhvcv3h2EMItQIpEchehLjymNg7GA+wS/z\n",
       "O14F69bPTgAAAABJRU5ErkJggg==\n",
       "\" style=\"display:inline;vertical-align:middle;\" /></a></td></tr>\n",
       "<tr><td>3</td><td>Operation</td><td>operator:&nbsp;4<br>operands:&nbsp;5<br></td><td><a class=\"ProveItLink\" href=\"../125ec959f8e8bb3b3b37cc24972925842fd2a9380/expr.ipynb\"><img src=\"data:image/png;base64,iVBORw0KGgoAAAANSUhEUgAAACQAAAAOBAMAAAC1GaP7AAAAMFBMVEX///9EREQQEBCYmJh2dnaq\n",
       "qqrc3NxUVFQyMjK6uroiIiLMzMyIiIhmZmbu7u4AAADSWfX9AAAAAXRSTlMAQObYZgAAAKRJREFU\n",
       "GNNjYHh75jYDEpioy8CwkuHVBmSxrww8Cxh4GpBEOP8xcBUwcH5DEmJZwMB/gYH7K5IQxwWGfAcG\n",
       "7j9wgfQj8wPAQl/gBqkxyD+AC/E9ABL5Bgw3GOAa3y8AEvUMDEsYwMZ/BvIeCQCJjwx8PxlAjmCF\n",
       "OYLtDwPrBz6QU1kWQIX4vjKwN0QzMCxleAT3UDND1AUHBoa3PtUIZ52ZLTMBAE8MMI0/Le+HAAAA\n",
       "AElFTkSuQmCC\n",
       "\" style=\"display:inline;vertical-align:middle;\" /></a></td></tr>\n",
       "<tr><td>4</td><td>Literal</td><td></td><td><a class=\"ProveItLink\" href=\"../../../multiplication/__pv_it/21fd2079611555ecce512d99547a00d551e6b86b0/expr.ipynb\"><img src=\"data:image/png;base64,iVBORw0KGgoAAAANSUhEUgAAAAMAAAADBAMAAACkBqiMAAAAElBMVEX///9EREQQEBAiIiLu7u4A\n",
       "AABGBidwAAAAAXRSTlMAQObYZgAAABFJREFUCNdjYHFgcDVgcBIAAASWAQx4jI0xAAAAAElFTkSu\n",
       "QmCC\n",
       "\" style=\"display:inline;vertical-align:middle;\" /></a></td></tr>\n",
       "<tr><td>5</td><td>ExprTuple</td><td>6, 7</td><td><a class=\"ProveItLink\" href=\"../f3b4dfc42a58594335e490cd96af8dc6b261100a0/expr.ipynb\"><img src=\"data:image/png;base64,iVBORw0KGgoAAAANSUhEUgAAACsAAAAVBAMAAAAtAwouAAAAMFBMVEX////c3NwiIiJERESqqqqY\n",
       "mJh2dnZmZmYQEBDu7u4yMjJUVFTMzMyIiIi6uroAAAAs73DqAAAAAXRSTlMAQObYZgAAARNJREFU\n",
       "GNN1kT1LA0EQhp+7XD7WmJjeQjsLLWwEy/0HucpSQhorJVU6wcJS5Mp0d42If0EQDiwtDDaCSjit\n",
       "JE0i+IGNOLvJLSHiFsu8zwyz78zCP6fenye75roBdXifuqrtTtmIC/AzteFqlzQJ1KTHHTw4PIrY\n",
       "gUoE6yIaOW5DD4YSfcGtzvE5FDRd8D4FT/x4VwfvUOpwNsUti18bhW8IEk5nsfdBWWzUj/iZbVId\n",
       "40t+cWywfTK0njeJM4uPsQab1uBKnyaRabKFHaeNkiDWXAYpxYQ9Ub5WJ8SrsBAGayVr8EWw6j6m\n",
       "9N6M7cH1QLIZFTf1s1uLDF9s5SJ0eH+y2DmsZCKWp6Lmiqumr/fn057gF57TSLFuZ8eVAAAAAElF\n",
       "TkSuQmCC\n",
       "\" style=\"display:inline;vertical-align:middle;\" /></a></td></tr>\n",
       "<tr><td>6</td><td>Literal</td><td></td><td><a class=\"ProveItLink\" href=\"../../../numeral/__pv_it/ec23fc7a1b4222a5f4948b495002b97d6fa18c3c0/expr.ipynb\"><img src=\"data:image/png;base64,iVBORw0KGgoAAAANSUhEUgAAAAoAAAAOBAMAAADkjZCYAAAALVBMVEX///8QEBCYmJh2dnaqqqrc\n",
       "3NxUVFQyMjK6uroiIiLMzMyIiIhmZmbu7u4AAAAZjyHdAAAAAXRSTlMAQObYZgAAAEpJREFUCNdj\n",
       "YLiz+xQDA8MMhpsLGLgnMHAXMHAmMHA8ZeA7wMD1hCHOgIHrNZh8jES+Bss+AqlkeQrSxTyBgWEK\n",
       "w8UFDAx3rLMYAMCjFldHSx/9AAAAAElFTkSuQmCC\n",
       "\" style=\"display:inline;vertical-align:middle;\" /></a></td></tr>\n",
       "<tr><td>7</td><td>Variable</td><td></td><td><a class=\"ProveItLink\" href=\"../../../../__pv_it/3a5de44ed6135dbbdbbeec6704c741e238f127300/expr.ipynb\"><img src=\"data:image/png;base64,iVBORw0KGgoAAAANSUhEUgAAAAsAAAAOBAMAAAALT/umAAAAMFBMVEX////MzMyYmJiIiIhUVFTc\n",
       "3NwyMjIiIiJ2dnbu7u6qqqpmZmYQEBBERES6uroAAABkyy6XAAAAAXRSTlMAQObYZgAAAFhJREFU\n",
       "CNdjYGBg4LuzgQEE+BeAqfcTwFQ7mGTIBmJW575fQOpNAO9PIOcTA3cCAwPLBwb2BqCeCwzzHzAw\n",
       "xBswrGeYwDB/AYMblwADmwJXNQdIm52sHQMAfyoTCZukXIEAAAAASUVORK5CYII=\n",
       "\" style=\"display:inline;vertical-align:middle;\" /></a></td></tr>\n",
       "</table>\n"
      ],
      "text/plain": [
       "0. (0 * d) = 0\n",
       "   core type: Operation\n",
       "   operator: 1\n",
       "   operands: 2\n",
       "1. =\n",
       "   core type: Literal\n",
       "   sub-expressions: \n",
       "2. (0 * d , 0)\n",
       "   core type: ExprTuple\n",
       "   sub-expressions: 3, 6\n",
       "3. 0 * d\n",
       "   core type: Operation\n",
       "   operator: 4\n",
       "   operands: 5\n",
       "4. *\n",
       "   core type: Literal\n",
       "   sub-expressions: \n",
       "5. (0 , d)\n",
       "   core type: ExprTuple\n",
       "   sub-expressions: 6, 7\n",
       "6. 0\n",
       "   core type: Literal\n",
       "   sub-expressions: \n",
       "7. d\n",
       "   core type: Variable\n",
       "   sub-expressions: "
      ]
     },
     "execution_count": 4,
     "metadata": {},
     "output_type": "execute_result"
    }
   ],
   "source": [
    "# display the expression information\n",
    "expr.exprInfo()"
   ]
  },
  {
   "cell_type": "code",
   "execution_count": null,
   "metadata": {},
   "outputs": [],
   "source": []
  }
 ],
 "metadata": {
  "kernelspec": {
   "display_name": "Python 3",
   "language": "python",
   "name": "python3"
  }
 },
 "nbformat": 4,
 "nbformat_minor": 0
}
