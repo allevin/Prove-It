{
 "cells": [
  {
   "cell_type": "markdown",
   "metadata": {},
   "source": [
    "Show the Proof\n",
    "========"
   ]
  },
  {
   "cell_type": "code",
   "execution_count": 1,
   "metadata": {},
   "outputs": [
    {
     "data": {
      "text/html": [
       "<table><tr><th>&nbsp;</th><th>step type</th><th>requirements</th><th>statement</th></tr>\n",
       "<tr><td>0</td><td>specialization</td><td>1, 2, 3</td><td><span style=\"font-size:20px;\"><a class=\"ProveItLink\" href=\"../a435544efa27340605408b102a7964824aa64c650/expr.ipynb\"><img src=\"data:image/png;base64,iVBORw0KGgoAAAANSUhEUgAAAIEAAAAVBAMAAACTeZA2AAAAMFBMVEX///9ERETc3NyqqqpUVFS6\n",
       "urrMzMwyMjIQEBCIiIh2dnYiIiLu7u5mZmaYmJgAAABJJ2g3AAAAAXRSTlMAQObYZgAAAdxJREFU\n",
       "OMtjYGDgu8dAJmBbpQCieHYxkA3YmkEk5wdscs8/ype3T4CweTw2oEry1Qt+r6gEsa6DCK4GrMYL\n",
       "qDAkmitA2OwOaJKMTA5swkVAxgp8JugyMB4SgLD5DTBMuMAgo4jdBJ7pu3cXQE3gSoCaEH8ATRJk\n",
       "wjJG7Cakv0G4AW7CanRJLCYweS5tAnGYZJB8wQLzRclMP1RJkAk+cF/wgtwVocAIjhJGBSQTop9D\n",
       "eDwfGfgTUCSBJrDuA4XkexAvIwBo+j8GXrB9BxEhqbF7OzQAmf8wcCxAkWRk6t5dDI6lCwwMKW1A\n",
       "BssHBm5w5Efs3g0PyVhGaAACXcl/AUWSkenqBYiXxB8AxYEO5BdgOA9yJ0MKUmzyhkGTAfcFhvgH\n",
       "KJJAX1wF87hBbmMBmqo/gcGeAWTjaeT0UDMPnhzuo0oCTWA/+QAWDlzAJHvegMGdGeQIlgdIJqSw\n",
       "JDDwgExIYOhiQJEEmsDm4IYcm+wPmPdygYN9K5IJXAZCDOeB5rMY8DqgSoJiczEoauAmMHlOTZwK\n",
       "llO/Bs9ZYgyF9QYnPgF1ekLzP0wSmLM+JrCLf8aeL0yqIcENA0H4JPHmLBh4gFcWbAIfJSaAywee\n",
       "nfiUcOIvo1oh4bKYonISAK+diKFubep1AAAAAElFTkSuQmCC\n",
       "\" style=\"display:inline;vertical-align:middle;\" /></a> <a class=\"ProveItLink\" href=\"proof.ipynb\" style=\"text-decoration: none\">&#x22A2;&nbsp;</a><a class=\"ProveItLink\" href=\"../24a2631f29c413460a25764f3a1c8820e75d9cef0/expr.ipynb\"><img src=\"data:image/png;base64,iVBORw0KGgoAAAANSUhEUgAAAGQAAAAVBAMAAABCslYDAAAAMFBMVEX////c3NwiIiJERESqqqqY\n",
       "mJh2dnZmZmYQEBDu7u4yMjJUVFTMzMyIiIi6uroAAAAs73DqAAAAAXRSTlMAQObYZgAAAZtJREFU\n",
       "OMtjYCAD8F3AIRGHU8tpLGKcOxQYGNgPoAqyrjf+tWItiLUSmzlcG4DEAjRBZsYNPCYLGRh4Udw1\n",
       "EUrzOwCJMAwtBQyWwgwMHBOQRX2h9HuQ6AyoK28pKS2AaclhZmB4xYBNSxJYiQOYfSoSyRaQljIg\n",
       "m3FvXiOqltV3tzIwsBWAmIyWyA7bCXTYUiD7hQDzBxQtnJ8Z+A8wsECcI4CkhU8V6P0+oDlfGdgN\n",
       "ULSw/GTgSGDgawCxJyN5v0lpCZD+x8DA/YGB6QKKFvYFDPwFDDxgq18oKcG9X1dgCdHCb8AwHxRt\n",
       "VatWaaxatRrIYipgeB8A1XIaOZDrQLwWBgb5Cwz+DBOQbQFGS/0EqMMmIWvhmhvAwGDKwDDfgWEX\n",
       "ywEULQcY2oApBOwc7gAkLTwb9jAwpANTRwCLOhuKX7gd2DfAAplTDzmQU4AB+AgULfcO30MN5L2l\n",
       "oIT2AMyRqoEny88HuKy+MHAIYIt9MIAmGAbvRUooKZQ1AZn3FpmTiyu/rMQlwbkAl4w0LgluAVwy\n",
       "jLgy8h0c4gCJAmJM97TSNAAAAABJRU5ErkJggg==\n",
       "\" style=\"display:inline;vertical-align:middle;\" /></a></span></td></tr>\n",
       "<tr><td>&nbsp;</td><td colspan=4 style=\"text-align:left\"><span style=\"font-size:20px;\"><a class=\"ProveItLink\" href=\"../../../../__pv_it/07527342713064c87612d00d8557c53d53d5324a0/expr.ipynb\"><img src=\"data:image/png;base64,iVBORw0KGgoAAAANSUhEUgAAAAsAAAAJBAMAAAAWSsseAAAAMFBMVEX///8yMjKqqqrMzMzu7u4i\n",
       "IiJmZmaYmJhEREQQEBC6urp2dnaIiIhUVFTc3NwAAAD87Fq/AAAAAXRSTlMAQObYZgAAAEhJREFU\n",
       "CNdjYOC7s2seAwPDygccHxgY+L4zsDUwMPB+YGA9wMDA38Dgb8DA8P4Agz6DA4O/AsNFJgMGxgKm\n",
       "MG6gyjunLE4xAAAZTBA5TB6DCwAAAABJRU5ErkJggg==\n",
       "\" style=\"display:inline;vertical-align:middle;\" /></a> : <a class=\"ProveItLink\" href=\"../../../../__pv_it/07527342713064c87612d00d8557c53d53d5324a0/expr.ipynb\"><img src=\"data:image/png;base64,iVBORw0KGgoAAAANSUhEUgAAAAsAAAAJBAMAAAAWSsseAAAAMFBMVEX///8yMjKqqqrMzMzu7u4i\n",
       "IiJmZmaYmJhEREQQEBC6urp2dnaIiIhUVFTc3NwAAAD87Fq/AAAAAXRSTlMAQObYZgAAAEhJREFU\n",
       "CNdjYOC7s2seAwPDygccHxgY+L4zsDUwMPB+YGA9wMDA38Dgb8DA8P4Agz6DA4O/AsNFJgMGxgKm\n",
       "MG6gyjunLE4xAAAZTBA5TB6DCwAAAABJRU5ErkJggg==\n",
       "\" style=\"display:inline;vertical-align:middle;\" /></a>, <a class=\"ProveItLink\" href=\"../../../../__pv_it/6840a4fa6c106149dc16a131294d0c5e44f1b0480/expr.ipynb\"><img src=\"data:image/png;base64,iVBORw0KGgoAAAANSUhEUgAAAAkAAAAOBAMAAAAPuiubAAAALVBMVEX///9mZmbMzMxERESYmJiI\n",
       "iIh2dna6urqqqqoyMjIiIiIQEBBUVFTu7u4AAAD9S1JeAAAAAXRSTlMAQObYZgAAAE1JREFUCNdj\n",
       "4D29gAEIOA+ASL4GEFl3AURmgQiGOaFHGBh4HzPwKTBwvGXgTmBgnMDAJ8DAJcBQ5wBSLncBJLWN\n",
       "gYGngRFoBO9REQYGAGrcDtUkVqASAAAAAElFTkSuQmCC\n",
       "\" style=\"display:inline;vertical-align:middle;\" /></a> : <a class=\"ProveItLink\" href=\"../../../../__pv_it/6840a4fa6c106149dc16a131294d0c5e44f1b0480/expr.ipynb\"><img src=\"data:image/png;base64,iVBORw0KGgoAAAANSUhEUgAAAAkAAAAOBAMAAAAPuiubAAAALVBMVEX///9mZmbMzMxERESYmJiI\n",
       "iIh2dna6urqqqqoyMjIiIiIQEBBUVFTu7u4AAAD9S1JeAAAAAXRSTlMAQObYZgAAAE1JREFUCNdj\n",
       "4D29gAEIOA+ASL4GEFl3AURmgQiGOaFHGBh4HzPwKTBwvGXgTmBgnMDAJ8DAJcBQ5wBSLncBJLWN\n",
       "gYGngRFoBO9REQYGAGrcDtUkVqASAAAAAElFTkSuQmCC\n",
       "\" style=\"display:inline;vertical-align:middle;\" /></a></span></td></tr><tr><td>1</td><td>theorem</td><td></td><td><span style=\"font-size:20px;\"> <a class=\"ProveItLink\" href=\"../../_proofs_/addRealClosureBin.ipynb\" style=\"text-decoration: none\">&#x22A2;&nbsp;</a><a class=\"ProveItLink\" href=\"../fa318744a46d50b030be8629d7a93ab6427a3f770/expr.ipynb\"><img src=\"data:image/png;base64,iVBORw0KGgoAAAANSUhEUgAAALYAAAAWBAMAAACfwnvZAAAAMFBMVEX///8QEBC6urrMzMxUVFRm\n",
       "ZmZERETc3NwyMjKqqqp2dnaIiIiYmJgiIiLu7u4AAAAU9Wx4AAAAAXRSTlMAQObYZgAAAuFJREFU\n",
       "OMu1VV1o01AU/vqTpj9pOnwRBWEDQUFkfRgiQ1n9AYWJhI2JuIFFoXMgow/qBiJWGViZzj4oDPZg\n",
       "UYYOcYT5gyhI0BdxUKYgoliIMFQQ3fBhKsrw3NybNtma+qIHvuTcc2++3Hzn3BPgP5r59yV+naOm\n",
       "PfGIK43ADHOm63K3CCw1dRs9LCWXcF7K/DgzTE4nMMECI3W5R7xWhFN0yS0JhuRUoO8cTQInaCin\n",
       "61HHdI6qfRT3RIEuz5dxa+gnVqWIMAkuFepx+0yOqo2JezOLvhcCPSiXczb39RAFGqDcGBg4VVeS\n",
       "9QLLuW9bXHxjm0uOfTNu9AELmczbutwHBOT2ayvd3EOP9gBRjblyv1OTvUzpcWAH0FuptnwN7gsC\n",
       "TdnQvItbXUAiiQhXIuvg9r+jXGIUWAu1mupxcR+92TVsx1ZwyL8hpV3ckUX4ivA3MP+DI5dryueZ\n",
       "0wTEETMqEyyo3usyYlFMaiL2jSM4j7ju4pZySGgIWB/TVC5XctmhWQK1UXkZ8WoRfCfcX/fVJO5S\n",
       "yc2dSGOOnZP9+fyLfH6IvLiGZkNwtzhrsKNFcKs55h1/eJjp/euuqbD9Mu7HYvEqjtM6rooOMVYp\n",
       "74Om0OSLkzv82eCaoHc7veC1vMgoZ5RUGJy7oygWH+WYK2B3JOniTmI1nRFLiaDh4A6kqEDwjHCF\n",
       "ukJQC7DGEtKVmVaLW9r5xplfQtiIvIq69A4WpJRdg+pLZw1OsLJhz/koQ4nGGOsNvqSU3prJZPRY\n",
       "9ORTe/FGDrl9atOUuwbbe1hTabQGg52VXrWQDB/5CZxlIxJxzgyV6FUJxI1Zrkmk1c6wL8ux/Fxa\n",
       "Js48Ll8su9qW2lDpGW1bzMFsnAo+mOV6T9p6U9OxULUNzsEtj+Mctdubv3u6B22Gv7sI9ZB1diZn\n",
       "95l/67HW9nIeE5/cQ57rKOntCh8TqGnBrMfELtco4LFM1jlq2h2vru/+Hyn/+Ff8B9ppvxR4Yp/F\n",
       "AAAAAElFTkSuQmCC\n",
       "\" style=\"display:inline;vertical-align:middle;\" /></a></span></td></tr>\n",
       "<tr><td>&nbsp;</td><td colspan=4 style-\"text-align:left\"><a class=\"ProveItLink\" href=\"../../_proofs_/addRealClosureBin.ipynb\">proveit.number.addition.addRealClosureBin</a></td></tr><tr><td>2</td><td>assumption</td><td></td><td><span style=\"font-size:20px;\"><a class=\"ProveItLink\" href=\"../5b23fab0a039c6862ecf13daaaddef585af6804c0/expr.ipynb\"><img src=\"data:image/png;base64,iVBORw0KGgoAAAANSUhEUgAAAEUAAAAVBAMAAADiLT7tAAAAMFBMVEX///9ERETc3NyqqqpUVFS6\n",
       "urrMzMwyMjIQEBCIiIh2dnYiIiLu7u5mZmaYmJgAAABJJ2g3AAAAAXRSTlMAQObYZgAAASJJREFU\n",
       "KM9jYGDgu8eAE7CtUgBRPLsY8AC2ZhDJ+QGLFF+94PeKShDrOojgasCmn5HJgU24CMhYgU/NBQYZ\n",
       "RexqTlbv3g5Ts4wRqxq2ugMIc9DUqMyKAHtS8QCSXT5wu3gLGBhYmxjkwVJCSO5h3Qdy83sQLyOA\n",
       "gUH/AcNFcFgJINR07y4GMdgvMDCktAEZ/gwMO0ECrN27d8PcfPWCDFi1+AMGhogEBoaPDDzfwE52\n",
       "QLLragqIwb0ASLAUMDD9ZGD+wAOyawOSGvaTD2Du4drAwPMZqNIMxPFDUsPm4Ibs9zoG6wsgMxlO\n",
       "ByD5fTGjApIalZlhkmBZptoEWJx+TGAX/4w1LpjdIf6CAzxxiqqGD78acPrh2Yk3HbZC3LeYQHoG\n",
       "AFXdUQMIkxIhAAAAAElFTkSuQmCC\n",
       "\" style=\"display:inline;vertical-align:middle;\" /></a> <a class=\"ProveItLink\" href=\"../9da929137155f565233b0410d61cd226d33ddd650/proof.ipynb\" style=\"text-decoration: none\">&#x22A2;&nbsp;</a><a class=\"ProveItLink\" href=\"../12e1039409d0a183701ae59c5c952745fb6478810/expr.ipynb\"><img src=\"data:image/png;base64,iVBORw0KGgoAAAANSUhEUgAAADMAAAAPBAMAAAC7N+rPAAAAMFBMVEX///8yMjKqqqrMzMzu7u4i\n",
       "IiJmZmaYmJhEREQQEBC6urp2dnaIiIhUVFTc3NwAAAD87Fq/AAAAAXRSTlMAQObYZgAAAMNJREFU\n",
       "GNNjYMAAhT/6BSceYMAKGt4yWCg+wC71jIHDrwFZhOVgaKgAVIrbAEXKsAShCyLFd2fXPJAAXwuS\n",
       "gbxgA1c+4PgAEuB4gCS1tBDI4/vOwAY21wPhjJehgQpAmvcDAyvYEytDQ+HOWMbhAKT5Gxj8DUAC\n",
       "tkiOZ1t8AUi/P8CgzwBS44rsL5HjQNpfgeEiE0gbbwGSlC0vUIixgCmMG+zjKCQpboU+kLdOWZwC\n",
       "izxMhgdvM4OEvAJycOiKQlwIBQB1/jwDBuYV5wAAAABJRU5ErkJggg==\n",
       "\" style=\"display:inline;vertical-align:middle;\" /></a></span></td></tr>\n",
       "<tr><td>3</td><td>assumption</td><td></td><td><span style=\"font-size:20px;\"><a class=\"ProveItLink\" href=\"../6e7546580b7298c4ad1641741f4202cb42da400b0/expr.ipynb\"><img src=\"data:image/png;base64,iVBORw0KGgoAAAANSUhEUgAAAEMAAAAVBAMAAADvM06qAAAAMFBMVEX////c3NxERESqqqpUVFS6\n",
       "urrMzMwyMjIQEBCIiIh2dnYiIiLu7u5mZmaYmJgAAABXZE4RAAAAAXRSTlMAQObYZgAAAStJREFU\n",
       "KM9jYGDgu8eAC7CtEgBRPLsYcAO2ZhDJ+YGB4Ug3qgxfvdL3ikoQ6zqI4GoAEiVoupkYHdiUC4GM\n",
       "FXAlnzGUXGDQEUJWwvoHKnWyevd2mJJlTMhKuDZAXVd3AGEKqhJ2zykPQGyhA0gW+cAt4i1gYDiv\n",
       "wPANxFZEcgvrPpBz34N4GQEMDPYHGLpAQaSAUNK9uxjEYL/AwJDSBvH9XyDF2r17N8y5Vy/ogBWr\n",
       "A10QkcDAsJeB9R/ItQ5IFl1NATG4FwAJlgJQsPCCvM2zAUkJ+8kHMLeAPPyNgQOkmsEPSQmbgxuy\n",
       "p50ZroBlTgcgeXoxkwCSkiNzwcHCwFibAIvGTwns6p+R4wgGmN0hPoIDTCUYAKyED68ScHrh2Ykv\n",
       "1bVC3LYYf9oFANsbV2KI395CAAAAAElFTkSuQmCC\n",
       "\" style=\"display:inline;vertical-align:middle;\" /></a> <a class=\"ProveItLink\" href=\"../ba7570b55f2909bb818b93dc646bd579c259bc120/proof.ipynb\" style=\"text-decoration: none\">&#x22A2;&nbsp;</a><a class=\"ProveItLink\" href=\"../15fb2bb12930eb9e83d19f307ca8613a31e6e8120/expr.ipynb\"><img src=\"data:image/png;base64,iVBORw0KGgoAAAANSUhEUgAAADEAAAAPBAMAAAC/wjryAAAAMFBMVEX////c3NxmZmbMzMxERESY\n",
       "mJiIiIh2dna6urqqqqoyMjIiIiIQEBBUVFTu7u4AAAAiO1wTAAAAAXRSTlMAQObYZgAAAM1JREFU\n",
       "GNNj4LuzgQEFRH3xX3UqAcTiuoAqw+Agy2AySwDI4J+ALiPEwPLQAcjofwAR4MvavXsBVIbdACRT\n",
       "DVVqFYfQA5FZm3YVxGf0QzKNF2Qa3xcGfgMgn0UASaY7Csjj/MfAUwDkP0G4QGb3LpCrmBYw8CsA\n",
       "6Z7du+EuaGIBuYpbgaE/AEjbIrmaqfkCxDv6IBWvkf2zLhUkY8BwHMTnDUCSseUFOop3AhM4ePh2\n",
       "IMmwT3AEilxThQhIKcND1JlhyXrkMJu7GuI2KAAAUFI1u0jGT1kAAAAASUVORK5CYII=\n",
       "\" style=\"display:inline;vertical-align:middle;\" /></a></span></td></tr>\n",
       "</table>"
      ],
      "text/plain": [
       "<proveit._core_.proof._ShowProof at 0x7f94eb24d400>"
      ]
     },
     "execution_count": 1,
     "metadata": {},
     "output_type": "execute_result"
    }
   ],
   "source": [
    "import proveit\n",
    "%show_proof"
   ]
  },
  {
   "cell_type": "code",
   "execution_count": null,
   "metadata": {},
   "outputs": [],
   "source": []
  }
 ],
 "metadata": {
  "kernelspec": {
   "display_name": "Python 3",
   "language": "python",
   "name": "python3"
  }
 },
 "nbformat": 4,
 "nbformat_minor": 0
}
