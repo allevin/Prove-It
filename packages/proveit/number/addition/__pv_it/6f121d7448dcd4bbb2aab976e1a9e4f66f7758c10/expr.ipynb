{
 "cells": [
  {
   "cell_type": "markdown",
   "metadata": {},
   "source": [
    "Expression of type <a class=\"ProveItLink\" href=\"../../../../../../doc/html/api/proveit.ExprTuple.html\">ExprTuple</a>\n",
    "=======================\n",
    "# from context <a class=\"ProveItLink\" href=\"../../_context_.ipynb\">proveit.number.addition</a>"
   ]
  },
  {
   "cell_type": "code",
   "execution_count": 1,
   "metadata": {},
   "outputs": [],
   "source": [
    "# import Expression classes needed to build the expression\n",
    "from proveit import ExprTuple\n",
    "from proveit._common_ import a, b, c\n",
    "from proveit.number import Add"
   ]
  },
  {
   "cell_type": "code",
   "execution_count": 2,
   "metadata": {},
   "outputs": [
    {
     "data": {
      "text/html": [
       "<strong id=\"expr\">expr:</strong> <a class=\"ProveItLink\" href=\"expr.ipynb\"><img src=\"data:image/png;base64,iVBORw0KGgoAAAANSUhEUgAAAukAAAAVBAMAAAAJJW1zAAAAMFBMVEX////c3NwiIiJERESqqqqY\n",
       "mJh2dnZmZmYQEBDu7u4yMjJUVFTMzMyIiIi6uroAAAAs73DqAAAAAXRSTlMAQObYZgAAA8NJREFU\n",
       "WMPtmT9oE1Ecx39tk1wvqUn2Dnari9DFUQzOhmZylOKgi5WA2KEOWhEHwZosUujQUOjgdemgKEKx\n",
       "4CK4ZFLEphSnIpYG2yKFKr5r7vXud9/37h9ptdA3JOTL7z7f3/fd3cu7hOh0/IuRb57OwbGOa/bL\n",
       "x0il5puhsJLZh/E7iIDt/uhKliRpO8NYES8votVml0JLFhO0EAHb/dGVLIuJ7RtEZ9gCU8cLo9h5\n",
       "L5R8AlTQjp5S1wl6bICRatRjKDGyoGc9QVpOuUrUX/MKZSCknLOyVfMJUJHf01PKOkGP1RspRzmG\n",
       "EiMLepYTpOWUGaLvFG3Wr4dORmYowazrsUc46zGyaGc9VlpO6SvRhHjrWb49xetdRR6w2HrlIzwf\n",
       "X2VCdvlrhVMGP20UuWLeaK0wAbDoDEYeLjoEZdGaHrYFWaAJCcG06APYTkmmSgviw0axr83rXcU5\n",
       "wNymAicMTNM8E+ZGaJ/fhFN0yXf2P6xnh7wCYsEZjVyuwiEoi9b0sC3IAk1ICKRVOAO2U5Jq0LQ4\n",
       "A7tkjLB6j+IckNqj/jFGmGnSBSaM1ugxo5yt0B0+J+ZT6qt4BcCiMxq5XHQIzKIzdduCLNCEhEBa\n",
       "9AGsU5J/QH+Icm3qbbJ6j+IcYDSoUGV9vPMvWpNEvxhFVJwnP5cLgEVnNHK5Sgd9lgBTXRZoQkIg\n",
       "rdKZY52SgbY964URmrPvuEnLOmdZ9j5UKoZlzT+xLLG97a3SVsUr0HYngSsMU36XUbbJPLgJGZcL\n",
       "gEVnNJJcjYMmS7CpMgs04YFAWqUzxzolYtYfifu0SaNUY2uDqzinSWxx7zOh57f/+tghY897rkVF\n",
       "qm2Sj8uvGMCiMxi5XLWDPkuAqS4LNCEh/rRqZ451SsQKI1aruRK9TbGthUeRs74ilzHZmDjTaSbs\n",
       "y9XSoZg7lGtc4ZMsLjG2rgMWncHI4daUDoFZdKZuW5AFmpAQf1qVjx/rlKQbdFNsgiqp4QzfFrmK\n",
       "XJJKxhKf9ddEt5jwku7xy2GBLld5Z7kqZVhjgEVnNDrgmj+VDoFZdKZuW5AFmpAQSKvw8WOdErFz\n",
       "/GbvItfer/HvY1eRF9jyXd9NaIy32G1Ks58rvI/B1o+L63wvNdH6wr/m/Vh0RqMDrvmsqHIIzKIz\n",
       "dduCLNCEhEBa9AGsU5Jdp/5itGfTOI+MMZ5NKfGzab6Y+Nm0u+GS/CKQHvMKm+E/v4cLCspmqICU\n",
       "EKN0bM8IpknCxfYZj/5L73830if1Xw2zYa+SJ7T5E/sXWM5eGntO/8E73rFK9Bd7cE/D21S4mwAA\n",
       "AABJRU5ErkJggg==\n",
       "\" style=\"display:inline;vertical-align:middle;\" /></a><br>"
      ],
      "text/plain": [
       "expr: (a + a + b + c + b + a + c + b + a + c + a , a + a + a + b + c + b + c + b + a + c + a)"
      ]
     },
     "execution_count": 2,
     "metadata": {},
     "output_type": "execute_result"
    }
   ],
   "source": [
    "# build up the expression from sub-expressions\n",
    "expr = ExprTuple(Add(a, a, b, c, b, a, c, b, a, c, a), Add(a, a, a, b, c, b, c, b, a, c, a))"
   ]
  },
  {
   "cell_type": "code",
   "execution_count": 3,
   "metadata": {},
   "outputs": [
    {
     "name": "stdout",
     "output_type": "stream",
     "text": [
      "Passed sanity check: built 'expr' is the same as the stored Expression.\n"
     ]
    }
   ],
   "source": [
    "# check that the built expression is the same as the stored expression\n",
    "%check_expr"
   ]
  },
  {
   "cell_type": "code",
   "execution_count": 4,
   "metadata": {},
   "outputs": [
    {
     "data": {
      "text/html": [
       "<table><tr><th>&nbsp;</th><th>core type</th><th>sub-expressions</th><th>expression</th></tr>\n",
       "<tr><td>0</td><td>ExprTuple</td><td>1, 2</td><td><a class=\"ProveItLink\" href=\"expr.ipynb\"><img src=\"data:image/png;base64,iVBORw0KGgoAAAANSUhEUgAAAukAAAAVBAMAAAAJJW1zAAAAMFBMVEX////c3NwiIiJERESqqqqY\n",
       "mJh2dnZmZmYQEBDu7u4yMjJUVFTMzMyIiIi6uroAAAAs73DqAAAAAXRSTlMAQObYZgAAA8NJREFU\n",
       "WMPtmT9oE1Ecx39tk1wvqUn2Dnari9DFUQzOhmZylOKgi5WA2KEOWhEHwZosUujQUOjgdemgKEKx\n",
       "4CK4ZFLEphSnIpYG2yKFKr5r7vXud9/37h9ptdA3JOTL7z7f3/fd3cu7hOh0/IuRb57OwbGOa/bL\n",
       "x0il5puhsJLZh/E7iIDt/uhKliRpO8NYES8votVml0JLFhO0EAHb/dGVLIuJ7RtEZ9gCU8cLo9h5\n",
       "L5R8AlTQjp5S1wl6bICRatRjKDGyoGc9QVpOuUrUX/MKZSCknLOyVfMJUJHf01PKOkGP1RspRzmG\n",
       "EiMLepYTpOWUGaLvFG3Wr4dORmYowazrsUc46zGyaGc9VlpO6SvRhHjrWb49xetdRR6w2HrlIzwf\n",
       "X2VCdvlrhVMGP20UuWLeaK0wAbDoDEYeLjoEZdGaHrYFWaAJCcG06APYTkmmSgviw0axr83rXcU5\n",
       "wNymAicMTNM8E+ZGaJ/fhFN0yXf2P6xnh7wCYsEZjVyuwiEoi9b0sC3IAk1ICKRVOAO2U5Jq0LQ4\n",
       "A7tkjLB6j+IckNqj/jFGmGnSBSaM1ugxo5yt0B0+J+ZT6qt4BcCiMxq5XHQIzKIzdduCLNCEhEBa\n",
       "9AGsU5J/QH+Icm3qbbJ6j+IcYDSoUGV9vPMvWpNEvxhFVJwnP5cLgEVnNHK5Sgd9lgBTXRZoQkIg\n",
       "rdKZY52SgbY964URmrPvuEnLOmdZ9j5UKoZlzT+xLLG97a3SVsUr0HYngSsMU36XUbbJPLgJGZcL\n",
       "gEVnNJJcjYMmS7CpMgs04YFAWqUzxzolYtYfifu0SaNUY2uDqzinSWxx7zOh57f/+tghY897rkVF\n",
       "qm2Sj8uvGMCiMxi5XLWDPkuAqS4LNCEh/rRqZ451SsQKI1aruRK9TbGthUeRs74ilzHZmDjTaSbs\n",
       "y9XSoZg7lGtc4ZMsLjG2rgMWncHI4daUDoFZdKZuW5AFmpAQf1qVjx/rlKQbdFNsgiqp4QzfFrmK\n",
       "XJJKxhKf9ddEt5jwku7xy2GBLld5Z7kqZVhjgEVnNDrgmj+VDoFZdKZuW5AFmpAQSKvw8WOdErFz\n",
       "/GbvItfer/HvY1eRF9jyXd9NaIy32G1Ks58rvI/B1o+L63wvNdH6wr/m/Vh0RqMDrvmsqHIIzKIz\n",
       "dduCLNCEhEBa9AGsU5Jdp/5itGfTOI+MMZ5NKfGzab6Y+Nm0u+GS/CKQHvMKm+E/v4cLCspmqICU\n",
       "EKN0bM8IpknCxfYZj/5L73830if1Xw2zYa+SJ7T5E/sXWM5eGntO/8E73rFK9Bd7cE/D21S4mwAA\n",
       "AABJRU5ErkJggg==\n",
       "\" style=\"display:inline;vertical-align:middle;\" /></a></td></tr>\n",
       "<tr><td>1</td><td>Operation</td><td>operator:&nbsp;4<br>operands:&nbsp;3<br></td><td><a class=\"ProveItLink\" href=\"../aa187cdaa4db2aada5a55c7c0fd56f3bb19f88120/expr.ipynb\"><img src=\"data:image/png;base64,iVBORw0KGgoAAAANSUhEUgAAAWoAAAAQBAMAAADNOCjDAAAAMFBMVEX///8yMjKqqqrMzMzu7u4i\n",
       "IiJmZmaYmJhEREQQEBC6urp2dnaIiIhUVFTc3NwAAAD87Fq/AAAAAXRSTlMAQObYZgAAAjdJREFU\n",
       "SMe1lb9LG2EYx785z9MmmHhD6CQEipugo25ZS9FkCggOcWqhlN6fkM1FKB1crIjQSRAUShZ1OFAc\n",
       "7BXUoVIINP+AGGKoDh0azd297/e9vL38wHcJfPg+n+e99568B/SwzF/FuMjiBvpePWiHWomL2MjU\n",
       "82jj11L0NOqd30xOAZEEmrpEF28AQq2+sx4EayZCDLfzu59XQCSRbOkSXbwBCLX6znoQv+tqrCxV\n",
       "HGDXVQy863TtcJtrBQmiU961Uvvm+IRAovbD4cTN9906e80jb45AqNV3DmsU7259vMG1gvhR8wEZ\n",
       "rh3ZRJZAoYI7HpltfFJOcmEnUZSB0Go7ixr2pu9hVcguET9qtPDigGpfu1gjMJvHFwK3Dt7xrs0t\n",
       "jDsyEFptZ1HD3okGRl2yS8SPWpPIlKn2tzpuq8AfNbEC1ctAaLWdRQ17MxUUHl/Tqm0v2/bjrRsQ\n",
       "y7azn227faeOlrHvyAAPnbYClJC8VxLm08iQl4Gv/V9nvybivXUxi7z8xBLxH7B9r34kkP6rHkET\n",
       "VktJGA0TipfPWmi1nUUNews5XBr0n5BIsOs5f2jDTbbPdYzAnTL5ZhMTk694k+1zpbkWWn3nsIa9\n",
       "CccopahWIsF05awL3vVP4BuBK3zgxEtMlw94rstI0fEIrb5zWMPedO18/pzvEEGCB6y9VQbCOvbo\n",
       "TWLxzOHEjfd1fYdvvvfeKV8qoVbbWdR08Q7+Xe3lyzvTP+jji74XIUl3eNDFuzds539ANvkl8YP5\n",
       "wgAAAABJRU5ErkJggg==\n",
       "\" style=\"display:inline;vertical-align:middle;\" /></a></td></tr>\n",
       "<tr><td>2</td><td>Operation</td><td>operator:&nbsp;4<br>operands:&nbsp;5<br></td><td><a class=\"ProveItLink\" href=\"../901231d90fbac2e4f2c5736b6da06c181da8248c0/expr.ipynb\"><img src=\"data:image/png;base64,iVBORw0KGgoAAAANSUhEUgAAAWoAAAAQBAMAAADNOCjDAAAAMFBMVEX///8yMjKqqqrMzMzu7u4i\n",
       "IiJmZmaYmJhEREQQEBC6urp2dnaIiIhUVFTc3NwAAAD87Fq/AAAAAXRSTlMAQObYZgAAAi1JREFU\n",
       "SMe9lTFLHFEUhc+O40R32axTiJWwEOwELbXbNgSzWwmCxVopSMj8hO1shJAiTSIiWAmCQrBJLAYi\n",
       "FmaE1cIQWNA/IC66xC1S5Inz3rw7dybPHcUpP8495743d+4A2Z6ZT49X2L9reOZn9AkUueYTNPKW\n",
       "38ZFKrlOkzAF95WgVH54Mm8lfMYZsfw0ku+kSZiC+0qwU3l4Mm8lQ9eFmsleKdK73kPmrl+2vq3T\n",
       "2ohIKSe51rFH3d7s/0hWKF/7ezBJwGjwy5SsalTO5c8tMSxbFwNtWhsRKeWk2sANAX2fMZysUL7T\n",
       "G7maDuwuSpOGZFWjBm8dH8TxbuE0iLtGQiknmKjgCwGvfawkK1STaxjwdGB1MLj7/+SoRtpeeVgC\n",
       "im30+8RdI6GUEywAfwg4jw+gUmi+dIydIZTqxuSYrciZF9ungerda1pw3TnXvduxkjiuO/zRdZtJ\n",
       "BLPI3xLQvW8krqC+IKC/jh3PmByz7cIWg3flYwIV/cQaCQ/IiVjGTocM0d/4pSiF5kvvWqzr9+Zk\n",
       "aityrLaNahknFvkmNBJKOREfWjiSEoh7fZGsUE2KeyVzLT5FOvk8J6qRg36N4tAr5DxrtkBqNRJK\n",
       "OcEp3lFwBnxNVqipraNArqdYdpqG5KhG2o5grL4rVuTR1BHdIRGRr4URzBx6FDj7QSVZofbacnBA\n",
       "l0prEYbkqEaCy2BzdSPrv7GXX+9476CHP/o2I3nfSMyA+25nSCbgH/Ne+py4sfjpAAAAAElFTkSu\n",
       "QmCC\n",
       "\" style=\"display:inline;vertical-align:middle;\" /></a></td></tr>\n",
       "<tr><td>3</td><td>ExprTuple</td><td>8, 8, 6, 7, 6, 8, 7, 6, 8, 7, 8</td><td><a class=\"ProveItLink\" href=\"../5e246e0e85e9995cc9c2c84db8d230386f3e76fc0/expr.ipynb\"><img src=\"data:image/png;base64,iVBORw0KGgoAAAANSUhEUgAAANUAAAAVBAMAAAAjhrYEAAAAMFBMVEX////c3NwiIiJERESqqqqY\n",
       "mJh2dnZmZmYQEBDu7u4yMjJUVFTMzMyIiIi6uroAAAAs73DqAAAAAXRSTlMAQObYZgAAAlBJREFU\n",
       "SMe9lj9oE3EUx79pLrn8ck0uu0OzdSpkcRSDs9CbHCU46GLkQOygg1akmzWTFDrkEDqULh2UFiEY\n",
       "cBFcMimiV1KnIkKjbZFAFX//7vfuTMJlMb/h8u7zXr6P3/u990uAWa5ybyZprovH+/G+zcfphBbb\n",
       "r6bksrv8sT3BuTMFoVXcTdtYAJQmlfB0CkLLraflugYUWhOOcZhOYuu4lZZrA/g2wZWvppPYupHa\n",
       "HNk6VvhHpnNnVZMLH44q6gA6nz2Fnje//ENMkPFhJ3ylDNJiN8NuDOV9bPGXo0p2oOu0isvKatdw\n",
       "Lo35dbxIEgoyPnYCVwmT1rt+sRpDVoB1nvcMdk35FzzcVdZyC2uqzj1cTBIKMj5riEJD7sFosafI\n",
       "ejFUfoQ/gDPAnO7GN8CSsu4DvyI0SpaQ9NkBXF8YpOXo7UVofiByuTW0VQFwAqbqhEWUzzTCCImC\n",
       "jG/Ox7HcBGm5tWgcFOK5nvCa9LAM2bOZ37AGTA+TPdTIjJchOoh8fLweSgXSWogGVyNeQ17vdh2v\n",
       "ra74NjuFE1yVsefiAITB95JLkFiQ8fHGWINQIC2X79MjhFyAW7yZPWsxj7Zomi1c8RvsJ7de4gGk\n",
       "sQfcThIKMj6nbu9KBdJyfOS7hETPfxX9f/D2ABs/xOSE3y/12TM+PZsfPUjDboatJKEg42Ode5AK\n",
       "Ma2V8FMModhHoRLV/JBuo0q6MQ6RwuEo4ndUrhG9eAbnpjDGIW/UItSM/6b831wsEEekX0p0Tfam\n",
       "MMYgUiiNIkdUOjOb/wD8jv4LhzTgHXse0zUAAAAASUVORK5CYII=\n",
       "\" style=\"display:inline;vertical-align:middle;\" /></a></td></tr>\n",
       "<tr><td>4</td><td>Literal</td><td></td><td><a class=\"ProveItLink\" href=\"../3e6688136fa3c7aefbebe51301b7c3ebf0b69c440/expr.ipynb\"><img src=\"data:image/png;base64,iVBORw0KGgoAAAANSUhEUgAAAA4AAAAOBAMAAADtZjDiAAAAJFBMVEX///+6urpUVFQQEBAiIiIy\n",
       "MjJmZmaIiIiqqqrc3Nzu7u4AAACgHpL+AAAAAXRSTlMAQObYZgAAAB5JREFUCNdjYGBgWMkAAe2k\n",
       "0Kmhoc6hoUGk6BMHYgAHOwjcado9fwAAAABJRU5ErkJggg==\n",
       "\" style=\"display:inline;vertical-align:middle;\" /></a></td></tr>\n",
       "<tr><td>5</td><td>ExprTuple</td><td>8, 8, 8, 6, 7, 6, 7, 6, 8, 7, 8</td><td><a class=\"ProveItLink\" href=\"../5419325ea9231c45ad5ae0c1301d806de094128e0/expr.ipynb\"><img src=\"data:image/png;base64,iVBORw0KGgoAAAANSUhEUgAAANUAAAAVBAMAAAAjhrYEAAAAMFBMVEX////c3NwiIiJERESqqqqY\n",
       "mJh2dnZmZmYQEBDu7u4yMjJUVFTMzMyIiIi6uroAAAAs73DqAAAAAXRSTlMAQObYZgAAAi9JREFU\n",
       "SMe9ljFoE1EYx/9pLrm8XJO73aHZOglZHMXgLPQmRwkOuhg5EDvooBXpZs0khQ45hA6lSwelRQgG\n",
       "XASXTIroldSpiNBoWyRQxe+9u8t7veN4t5gMl//75fi9vO++9xJglq/6cCbT3OCXD7q7Np7oCdtr\n",
       "aCzmgC5b2q+0nYNUd3QWH6jpS3iSg9gtneU6UOlqH+hET3Ck1awD37XLKjf0BDe1mmILy/RW6N9d\n",
       "iciFj4dOIlX7X9wQveh8zSDYDl6HQbrYrWCgoLKHTRocOsVxVJ0VXEmmXhNnIsyv4WUGYcewQ7F0\n",
       "vR9VGwoyfKzRvKcwm+HnCy7uJdNSF6thxYe4lEGMCSptsYapiz1D0VVQ/TH+AtYYc1E3vgUuJtMD\n",
       "4HeMsojpw/Z4kC4rWl6M5sd8LruJXlgAHIOdJdMi6qcRQhaZ83AkFiFddjPeDiGiuZ5SuYZYgujZ\n",
       "wh8YY3Y+0WYyJxGabq8koe31SBikayHeuBGiGlK9ey28MQZczE5g+df4vTJRG9Cj4IHWUsog1Bir\n",
       "4AbpsmmdrkQo+bhNLewai2X0eNNs4qrXZr/OpVd4CBF2gTsZxGqZO8IgXZaH8kAi3vPfeP/vv9vH\n",
       "+k++qYIfl0fsuaOmjU8uRDA7QTeDsP59CIPiWg4+KwjVESpOXPMDeQY5qZQnKIaDNKIzqtSOB+4U\n",
       "l9IpT1AMbhp11N+U/zsX8/kjigY1eUwO0ylPkIZaGlm80oXZ/AegM/ofPdfgHUTZzvcAAAAASUVO\n",
       "RK5CYII=\n",
       "\" style=\"display:inline;vertical-align:middle;\" /></a></td></tr>\n",
       "<tr><td>6</td><td>Variable</td><td></td><td><a class=\"ProveItLink\" href=\"../../../../__pv_it/6840a4fa6c106149dc16a131294d0c5e44f1b0480/expr.ipynb\"><img src=\"data:image/png;base64,iVBORw0KGgoAAAANSUhEUgAAAAkAAAAOBAMAAAAPuiubAAAALVBMVEX///9mZmbMzMxERESYmJiI\n",
       "iIh2dna6urqqqqoyMjIiIiIQEBBUVFTu7u4AAAD9S1JeAAAAAXRSTlMAQObYZgAAAE1JREFUCNdj\n",
       "4D29gAEIOA+ASL4GEFl3AURmgQiGOaFHGBh4HzPwKTBwvGXgTmBgnMDAJ8DAJcBQ5wBSLncBJLWN\n",
       "gYGngRFoBO9REQYGAGrcDtUkVqASAAAAAElFTkSuQmCC\n",
       "\" style=\"display:inline;vertical-align:middle;\" /></a></td></tr>\n",
       "<tr><td>7</td><td>Variable</td><td></td><td><a class=\"ProveItLink\" href=\"../../../../__pv_it/cbdfda466482236edba0ce44ac7ef39cda0af7a40/expr.ipynb\"><img src=\"data:image/png;base64,iVBORw0KGgoAAAANSUhEUgAAAAkAAAAJBAMAAAASvxsjAAAALVBMVEX///9mZmbc3NxUVFSYmJhE\n",
       "REQiIiIyMjK6uroQEBDMzMyIiIh2dnbu7u4AAABgFDGoAAAAAXRSTlMAQObYZgAAADZJREFUCNdj\n",
       "YOA9s3sBA8PKBvYEBt7ZDKwODMwPGICALwBE6m0Asx0YGIDiAgw8QJUyu/cyAAAmuwmycZ8WfQAA\n",
       "AABJRU5ErkJggg==\n",
       "\" style=\"display:inline;vertical-align:middle;\" /></a></td></tr>\n",
       "<tr><td>8</td><td>Variable</td><td></td><td><a class=\"ProveItLink\" href=\"../../../../__pv_it/07527342713064c87612d00d8557c53d53d5324a0/expr.ipynb\"><img src=\"data:image/png;base64,iVBORw0KGgoAAAANSUhEUgAAAAsAAAAJBAMAAAAWSsseAAAAMFBMVEX///8yMjKqqqrMzMzu7u4i\n",
       "IiJmZmaYmJhEREQQEBC6urp2dnaIiIhUVFTc3NwAAAD87Fq/AAAAAXRSTlMAQObYZgAAAEhJREFU\n",
       "CNdjYOC7s2seAwPDygccHxgY+L4zsDUwMPB+YGA9wMDA38Dgb8DA8P4Agz6DA4O/AsNFJgMGxgKm\n",
       "MG6gyjunLE4xAAAZTBA5TB6DCwAAAABJRU5ErkJggg==\n",
       "\" style=\"display:inline;vertical-align:middle;\" /></a></td></tr>\n",
       "</table>\n"
      ],
      "text/plain": [
       "0. (a + a + b + c + b + a + c + b + a + c + a , a + a + a + b + c + b + c + b + a + c + a)\n",
       "   core type: ExprTuple\n",
       "   sub-expressions: 1, 2\n",
       "1. a + a + b + c + b + a + c + b + a + c + a\n",
       "   core type: Operation\n",
       "   operator: 4\n",
       "   operands: 3\n",
       "2. a + a + a + b + c + b + c + b + a + c + a\n",
       "   core type: Operation\n",
       "   operator: 4\n",
       "   operands: 5\n",
       "3. (a , a , b , c , b , a , c , b , a , c , a)\n",
       "   core type: ExprTuple\n",
       "   sub-expressions: 8, 8, 6, 7, 6, 8, 7, 6, 8, 7, 8\n",
       "4. +\n",
       "   core type: Literal\n",
       "   sub-expressions: \n",
       "5. (a , a , a , b , c , b , c , b , a , c , a)\n",
       "   core type: ExprTuple\n",
       "   sub-expressions: 8, 8, 8, 6, 7, 6, 7, 6, 8, 7, 8\n",
       "6. b\n",
       "   core type: Variable\n",
       "   sub-expressions: \n",
       "7. c\n",
       "   core type: Variable\n",
       "   sub-expressions: \n",
       "8. a\n",
       "   core type: Variable\n",
       "   sub-expressions: "
      ]
     },
     "execution_count": 4,
     "metadata": {},
     "output_type": "execute_result"
    }
   ],
   "source": [
    "# display the expression information\n",
    "expr.exprInfo()"
   ]
  },
  {
   "cell_type": "code",
   "execution_count": null,
   "metadata": {},
   "outputs": [],
   "source": []
  }
 ],
 "metadata": {
  "kernelspec": {
   "display_name": "Python 3",
   "language": "python",
   "name": "python3"
  }
 },
 "nbformat": 4,
 "nbformat_minor": 0
}
