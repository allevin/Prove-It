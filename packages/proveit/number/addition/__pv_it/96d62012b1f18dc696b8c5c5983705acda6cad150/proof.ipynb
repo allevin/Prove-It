{
 "cells": [
  {
   "cell_type": "markdown",
   "metadata": {},
   "source": [
    "Show the Proof\n",
    "========"
   ]
  },
  {
   "cell_type": "code",
   "execution_count": 1,
   "metadata": {},
   "outputs": [
    {
     "data": {
      "text/html": [
       "<table><tr><th>&nbsp;</th><th>step type</th><th>requirements</th><th>statement</th></tr>\n",
       "<tr><td>0</td><td>assumption</td><td></td><td><span style=\"font-size:20px;\"><a class=\"ProveItLink\" href=\"../1d659012f409ee1731fcf99ce089e1b61f514e8a0/expr.ipynb\"><img src=\"data:image/png;base64,iVBORw0KGgoAAAANSUhEUgAAAEMAAAAVBAMAAADvM06qAAAAMFBMVEX////c3NxERESqqqpUVFS6\n",
       "urrMzMwyMjIQEBCIiIh2dnYiIiLu7u5mZmaYmJgAAABXZE4RAAAAAXRSTlMAQObYZgAAASlJREFU\n",
       "KM9jYGDgu8eAC7CtEgBRPLsYcAO2ZhDJ+QGLFPP+3+XdFQ8YGK6DeFwNWJRw1h5gKGACMlbgVMK7\n",
       "gIHLYClWJSerd28H0SwHGETYHLApYas7AGfrMB1AUcKzamYCkBJCqOCb8I4BpoS3AEhkBLBvAFKK\n",
       "CAMP8SiAqPcMYFmgIZ0MTEAfQkQhwI0FHGrsFxgYUtpAroOEDWv37t0Q5zKwXoiCKFUHao0AOoIf\n",
       "oh3sBwhgZwDav5CBgXsByAQgW34CWJxnA1zJYi6g/RugbuECMviBpgERgx9MBaNDCsSvcE+zXGDg\n",
       "Ann6dABUCZOADgPPLQXkcLk1cw5Yc20CREmEepNSfdMFbBHA7A71EQzgjkZUJXx4lYDTC89OfKmu\n",
       "FRJhi/GnXQDALUt3En3BcwAAAABJRU5ErkJggg==\n",
       "\" style=\"display:inline;vertical-align:middle;\" /></a> <a class=\"ProveItLink\" href=\"proof.ipynb\" style=\"text-decoration: none\">&#x22A2;&nbsp;</a><a class=\"ProveItLink\" href=\"../3f798d5be9a78678bd6b3d46f4fa53830eb88cf50/expr.ipynb\"><img src=\"data:image/png;base64,iVBORw0KGgoAAAANSUhEUgAAADAAAAAPBAMAAABQAFHMAAAAMFBMVEX///+qqqpmZmbc3NxUVFSY\n",
       "mJhEREQiIiIyMjK6uroQEBDMzMyIiIh2dnbu7u4AAAA4MM1YAAAAAXRSTlMAQObYZgAAAMxJREFU\n",
       "GNNjYEAHjPXfO5Z3BWCIM/A0PWBoYMMUZ2C6wMArcBNJ4E17eQWIZnnAYMLtgBDnbn0AZ+exgdh8\n",
       "d89sAFJmCHHWA6EgatcEjgIglYzQ/IwvAaRhDQMb0G1gNhR4sxiA7PoA5nAuLy+HWM7AqTAXRPFD\n",
       "lCK5g4OhgYHhMoP9ATCPrwAucZF3AgNDAQM/0AKQ/11h4swOWxgYeBcwsCgw8IKc+3wCVILNII+B\n",
       "Txdoge6Zc2CFTRsgErMylqX1L1NAClUPqKsgAAAt6C9QaLEFtwAAAABJRU5ErkJggg==\n",
       "\" style=\"display:inline;vertical-align:middle;\" /></a></span></td></tr>\n",
       "</table>"
      ],
      "text/plain": [
       "<proveit._core_.proof._ShowProof at 0x7f94eb97cba8>"
      ]
     },
     "execution_count": 1,
     "metadata": {},
     "output_type": "execute_result"
    }
   ],
   "source": [
    "import proveit\n",
    "%show_proof"
   ]
  },
  {
   "cell_type": "code",
   "execution_count": null,
   "metadata": {},
   "outputs": [],
   "source": []
  }
 ],
 "metadata": {
  "kernelspec": {
   "display_name": "Python 3",
   "language": "python",
   "name": "python3"
  }
 },
 "nbformat": 4,
 "nbformat_minor": 0
}
