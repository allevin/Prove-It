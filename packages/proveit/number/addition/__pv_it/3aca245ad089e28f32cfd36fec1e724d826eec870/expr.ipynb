{
 "cells": [
  {
   "cell_type": "markdown",
   "metadata": {},
   "source": [
    "Expression of type <a class=\"ProveItLink\" href=\"../../../../../../doc/html/api/proveit.number.Add.html\">Add</a>\n",
    "=======================\n",
    "# from context <a class=\"ProveItLink\" href=\"../../_context_.ipynb\">proveit.number.addition</a>"
   ]
  },
  {
   "cell_type": "code",
   "execution_count": 1,
   "metadata": {},
   "outputs": [],
   "source": [
    "# import Expression classes needed to build the expression\n",
    "from proveit._common_ import a, b, c\n",
    "from proveit.number import Add, Mult, five, three"
   ]
  },
  {
   "cell_type": "code",
   "execution_count": 2,
   "metadata": {},
   "outputs": [
    {
     "data": {
      "text/html": [
       "<strong id=\"expr\">expr:</strong> <a class=\"ProveItLink\" href=\"expr.ipynb\"><img src=\"data:image/png;base64,iVBORw0KGgoAAAANSUhEUgAAAMgAAAAVBAMAAADx1rxcAAAAMFBMVEX////c3NwiIiJERESqqqqY\n",
       "mJh2dnZmZmYQEBDu7u4yMjJUVFTMzMyIiIi6uroAAAAs73DqAAAAAXRSTlMAQObYZgAAAmtJREFU\n",
       "SMe9lT9oE1Ecx79n0vuTNpdMOlQxmy5ihzo4SIuLIkozOTgFhApiMSBYSB2siuDSnotUHRLEIE1A\n",
       "UhCdajPVwaFZ/AMaKE5FlPonVSKp9ffu7t3l7r2bDrzh/bvP7/1+9/299zvgvzxmS1wbWBeWvsai\n",
       "XgNVa/d48M21MDrUAFYnR735wxsR1NDkeclei8D8zq8QnQqbpywoRWz6X12PoPbA3Bb2SpPdk+fN\n",
       "8DcW3MFdt28DageZnEd0IqjL4/gh7KVbQEMQ0rjuDs64/R0g2e/E7EZQE4IToj5D5gSjQXOzYne+\n",
       "XGoukgrLRdRVapfbL/2l4bcbWeBC0FwreIlwhV7+kI+gUn0x35v6yKgqDY+i7J1GcxZj1J0Kmqfy\n",
       "7Oxc9M3LI+jJqdV632mbwyNGzdmzQaauQenB/jyuULcRNNedIN6vc2zCwu0IKm1veZ81Cy0cYdRf\n",
       "R+Iei47pvAIcom4taJ5xnOhdjpWA31HUPEVh2NlfsedrzEkiB5X5Whih5ieMHndSqtUO1mp111xp\n",
       "IrHFsQMwt6TUXmCMVDNuwt7McXKL4stB++7GpGwj+c0QhaBbXO46TtxronVllLFj2U74ZrClJ800\n",
       "SlmFH+oOBiungXNB8wTZZSrYxWOhrOsFKfUHOJzlFMU0wCg6hVQvTnrrVRwvFoTDqRYpoXls8iuO\n",
       "Z5iBlHoD069RL4BLjPpE41czS/41aX85RtI+DV0zluwT04/9AvmOaSKhktMlv0BqU22LUXpWVv+F\n",
       "gjEbi/KKXOBRW6EfxNl41KLsxQNJEY9DDcucLIUXlEYsSpH8ftNNYWlfDOofHEfDl2eV5RQAAAAA\n",
       "SUVORK5CYII=\n",
       "\" style=\"display:inline;vertical-align:middle;\" /></a><br>"
      ],
      "text/plain": [
       "expr: (5 * a) + (3 * b) + (3 * c)"
      ]
     },
     "execution_count": 2,
     "metadata": {},
     "output_type": "execute_result"
    }
   ],
   "source": [
    "# build up the expression from sub-expressions\n",
    "expr = Add(Mult(five, a), Mult(three, b), Mult(three, c))"
   ]
  },
  {
   "cell_type": "code",
   "execution_count": 3,
   "metadata": {},
   "outputs": [
    {
     "name": "stdout",
     "output_type": "stream",
     "text": [
      "Passed sanity check: built 'expr' is the same as the stored Expression.\n"
     ]
    }
   ],
   "source": [
    "# check that the built expression is the same as the stored expression\n",
    "%check_expr"
   ]
  },
  {
   "cell_type": "code",
   "execution_count": 4,
   "metadata": {},
   "outputs": [
    {
     "data": {
      "text/html": [
       "<table><tr><th>&nbsp;</th><th>core type</th><th>sub-expressions</th><th>expression</th></tr>\n",
       "<tr><td>0</td><td>Operation</td><td>operator:&nbsp;1<br>operands:&nbsp;2<br></td><td><a class=\"ProveItLink\" href=\"expr.ipynb\"><img src=\"data:image/png;base64,iVBORw0KGgoAAAANSUhEUgAAAMgAAAAVBAMAAADx1rxcAAAAMFBMVEX////c3NwiIiJERESqqqqY\n",
       "mJh2dnZmZmYQEBDu7u4yMjJUVFTMzMyIiIi6uroAAAAs73DqAAAAAXRSTlMAQObYZgAAAmtJREFU\n",
       "SMe9lT9oE1Ecx79n0vuTNpdMOlQxmy5ihzo4SIuLIkozOTgFhApiMSBYSB2siuDSnotUHRLEIE1A\n",
       "UhCdajPVwaFZ/AMaKE5FlPonVSKp9ffu7t3l7r2bDrzh/bvP7/1+9/299zvgvzxmS1wbWBeWvsai\n",
       "XgNVa/d48M21MDrUAFYnR735wxsR1NDkeclei8D8zq8QnQqbpywoRWz6X12PoPbA3Bb2SpPdk+fN\n",
       "8DcW3MFdt28DageZnEd0IqjL4/gh7KVbQEMQ0rjuDs64/R0g2e/E7EZQE4IToj5D5gSjQXOzYne+\n",
       "XGoukgrLRdRVapfbL/2l4bcbWeBC0FwreIlwhV7+kI+gUn0x35v6yKgqDY+i7J1GcxZj1J0Kmqfy\n",
       "7Oxc9M3LI+jJqdV632mbwyNGzdmzQaauQenB/jyuULcRNNedIN6vc2zCwu0IKm1veZ81Cy0cYdRf\n",
       "R+Iei47pvAIcom4taJ5xnOhdjpWA31HUPEVh2NlfsedrzEkiB5X5Whih5ieMHndSqtUO1mp111xp\n",
       "IrHFsQMwt6TUXmCMVDNuwt7McXKL4stB++7GpGwj+c0QhaBbXO46TtxronVllLFj2U74ZrClJ800\n",
       "SlmFH+oOBiungXNB8wTZZSrYxWOhrOsFKfUHOJzlFMU0wCg6hVQvTnrrVRwvFoTDqRYpoXls8iuO\n",
       "Z5iBlHoD069RL4BLjPpE41czS/41aX85RtI+DV0zluwT04/9AvmOaSKhktMlv0BqU22LUXpWVv+F\n",
       "gjEbi/KKXOBRW6EfxNl41KLsxQNJEY9DDcucLIUXlEYsSpH8ftNNYWlfDOofHEfDl2eV5RQAAAAA\n",
       "SUVORK5CYII=\n",
       "\" style=\"display:inline;vertical-align:middle;\" /></a></td></tr>\n",
       "<tr><td>1</td><td>Literal</td><td></td><td><a class=\"ProveItLink\" href=\"../3e6688136fa3c7aefbebe51301b7c3ebf0b69c440/expr.ipynb\"><img src=\"data:image/png;base64,iVBORw0KGgoAAAANSUhEUgAAAA4AAAAOBAMAAADtZjDiAAAAJFBMVEX///+6urpUVFQQEBAiIiIy\n",
       "MjJmZmaIiIiqqqrc3Nzu7u4AAACgHpL+AAAAAXRSTlMAQObYZgAAAB5JREFUCNdjYGBgWMkAAe2k\n",
       "0Kmhoc6hoUGk6BMHYgAHOwjcado9fwAAAABJRU5ErkJggg==\n",
       "\" style=\"display:inline;vertical-align:middle;\" /></a></td></tr>\n",
       "<tr><td>2</td><td>ExprTuple</td><td>3, 4, 5</td><td><a class=\"ProveItLink\" href=\"../56a8a58a9a59bab1601f39b411357f3b01c9fdf90/expr.ipynb\"><img src=\"data:image/png;base64,iVBORw0KGgoAAAANSUhEUgAAAIcAAAAVBAMAAACeZ+BxAAAAMFBMVEX////c3NwiIiJERESqqqqY\n",
       "mJh2dnZmZmYQEBDu7u4yMjJUVFTMzMyIiIi6uroAAAAs73DqAAAAAXRSTlMAQObYZgAAAhFJREFU\n",
       "OMutVD9oU0EY/6VJXvLyzEsnHSIkWycxQx06lIQuOgh9k6MEhAiCGBBSSJZaxc0mY4tD3tAg4qIg\n",
       "bmkzqeDi4j808HCSIiS2qRKxxu/u3b1r6gkt8Ya773733e/u+33fHfBfmv16sv2XWfcKaDVOFjTL\n",
       "z0uzgX1/RRgnSlfGfWMd6h4C9dF3DUeojJ665SMxnoK9P+7nAknye/CsoyExBkhlg9lAjDcK2Bn3\n",
       "uwTEG8BjbbCRgyT2UBiLf5GsAdv4Fwk1FY6h7nQ4nHABFRra3U2Fpd9+mT4sBJBof3Skqc40S90O\n",
       "jDJaZM+h6QXn3EJeJuKacm/m8EvkTDHjpZfIIuJilc+sZcZL8iDj4Gbg9N6T8GIDdwWY5FvW2co9\n",
       "hB3Yy/jth8yOabK4t4AzAUl8KOEq8EOidWI1mbpWn1+4z0jCWRiMay1H3S5Mce9QB+E9Cc/A3uPo\n",
       "aSBP6pi3yU7lBMkdOi+L2DdZYfuI9E1fhqFPIsokxpNsjhqchLcMTx6Fc44KlxR3pd4DWO5FMBlS\n",
       "LqYkN6kaL3L0J3BWZi9FbA6iLq7y+r4QZLWFhXKRR5x00CtK+Clqvg5vYAdvxCrD4Cn+TJMXtSeq\n",
       "TLpf5z2zzkjPL22oB/jOAUcjS1X1ACvdDxSFh/i09n84BkplHy3qFqI4Onrd/womIjFZTtK6Ff1v\n",
       "p0UtFmNowu/xE/AHMAmKbyie/hkAAAAASUVORK5CYII=\n",
       "\" style=\"display:inline;vertical-align:middle;\" /></a></td></tr>\n",
       "<tr><td>3</td><td>Operation</td><td>operator:&nbsp;8<br>operands:&nbsp;6<br></td><td><a class=\"ProveItLink\" href=\"../961b8288556f381e3ebecb71263cd21c43393b600/expr.ipynb\"><img src=\"data:image/png;base64,iVBORw0KGgoAAAANSUhEUgAAACMAAAAOBAMAAABXxbiCAAAAMFBMVEX///8iIiJERES6urqIiIjM\n",
       "zMxUVFRmZmYQEBCqqqp2dnbc3Nzu7u6YmJgyMjIAAADYGhJvAAAAAXRSTlMAQObYZgAAAJRJREFU\n",
       "GNNj4LvDvZIBFXD8/78ATYivbCmaCAMbAwMxQi5uBnAOd8ribgYGpgM8n+FCFhuYPoAZGSDiDEjR\n",
       "XwZ2BbDQ+gAGBp6PIEM+MDA6MDAoAoWAhvE0AYX4FRjOA6UbGRjqN0CN2u/AMJ/hAEMBA8M7mOnn\n",
       "JzDkcQYwbGfg7Ib75AKnOBcDA2t52gaEs5yDnBkAMJggomhF7f4AAAAASUVORK5CYII=\n",
       "\" style=\"display:inline;vertical-align:middle;\" /></a></td></tr>\n",
       "<tr><td>4</td><td>Operation</td><td>operator:&nbsp;8<br>operands:&nbsp;7<br></td><td><a class=\"ProveItLink\" href=\"../1e631544db83ce4853cc0a486ec7448a56387f780/expr.ipynb\"><img src=\"data:image/png;base64,iVBORw0KGgoAAAANSUhEUgAAACIAAAAOBAMAAAC4B9O8AAAAMFBMVEX///+YmJju7u4QEBBUVFQy\n",
       "MjIiIiKIiIi6urpmZmbc3NyqqqpERER2dnbMzMwAAAB0GlNiAAAAAXRSTlMAQObYZgAAAJhJREFU\n",
       "CNdjYHh79zQDDKiYAQmuCQz9BXChECDm/c3AnwAX+Q3E3MgiHJ8gNEIXbwJCMwSwupcIMDDwXXWA\n",
       "i+gfYPgHoosbgASTApDYr8BgCxJhBpmnDzJiKgPDTwauBww8H4Ec5QNAIpOB4yOD/ieICNQ5nJ8Y\n",
       "+AMY2H7BRP4xMF9gYBdg6L8AE/FmmAIkd86MRvi0UoABAPL2JMAQl6zyAAAAAElFTkSuQmCC\n",
       "\" style=\"display:inline;vertical-align:middle;\" /></a></td></tr>\n",
       "<tr><td>5</td><td>Operation</td><td>operator:&nbsp;8<br>operands:&nbsp;9<br></td><td><a class=\"ProveItLink\" href=\"../6ea99038828acf4f95344c36471089d895e211420/expr.ipynb\"><img src=\"data:image/png;base64,iVBORw0KGgoAAAANSUhEUgAAACIAAAAOBAMAAAC4B9O8AAAAMFBMVEX///+YmJju7u4QEBBUVFQy\n",
       "MjIiIiKIiIi6urpmZmbc3NyqqqpERER2dnbMzMwAAAB0GlNiAAAAAXRSTlMAQObYZgAAAIZJREFU\n",
       "CNdjYHh79zQDCuCawNBfgCLC+5uBPwFFhBtDBAjQdAFBCIKpe72OgYHvqgNcgM+CIQxEFzcACSYF\n",
       "IKFcwHAQJML8CUjog4z3B7vnAQPPR5D0ASDxBySi/wkiApb9DiL5AxjYfsFMBkoxMrALMPRfgIl4\n",
       "MjDcY2DYOTMabjvn9XIFAJAVHuIpDSmpAAAAAElFTkSuQmCC\n",
       "\" style=\"display:inline;vertical-align:middle;\" /></a></td></tr>\n",
       "<tr><td>6</td><td>ExprTuple</td><td>10, 11</td><td><a class=\"ProveItLink\" href=\"../a896dd146faef7a3f900b031bdf13488ed57a8d50/expr.ipynb\"><img src=\"data:image/png;base64,iVBORw0KGgoAAAANSUhEUgAAACsAAAAVBAMAAAAtAwouAAAAMFBMVEX////c3NwiIiJERESqqqqY\n",
       "mJh2dnZmZmYQEBDu7u4yMjJUVFTMzMyIiIi6uroAAAAs73DqAAAAAXRSTlMAQObYZgAAAQxJREFU\n",
       "GNN1katPA0EQh79yr17LYxUGQR22BoE7iQOFJHUoSBUGUxI0PYm7Mw3BgUGQlFyCQGD6B0DToAjq\n",
       "IAFFgNndI22vYcXs/r6ZzM4D/jmLgzLZ1eYBevFyNIGDTMwFdH8+p8JTWJAc59fZFN6BagyXpeRn\n",
       "8MosdiIO5eo/3Rag0j84Br9NT8QGycjiF+Xk4KacGlnv2OAPgqa00uHbaP/LenPmpLL5XGOngW+9\n",
       "S02SzOATqbFB8Gbw6oAtYp1kXZqFWioKkogbN8NL2ZOP2myq8F1wbdtd802Bz6Luj64Iu0qXPbwb\n",
       "indEVf0NWE0277WKtzduft8OtoRDGSwrhRgvqa7TVWaW9gi/LzQ+ZKhqzy4AAAAASUVORK5CYII=\n",
       "\" style=\"display:inline;vertical-align:middle;\" /></a></td></tr>\n",
       "<tr><td>7</td><td>ExprTuple</td><td>13, 12</td><td><a class=\"ProveItLink\" href=\"../ed5a6ec4c875d8d4dac8f1f17e42c24dc92561870/expr.ipynb\"><img src=\"data:image/png;base64,iVBORw0KGgoAAAANSUhEUgAAACkAAAAVBAMAAAAp9toTAAAAMFBMVEX////c3NwiIiJERESqqqqY\n",
       "mJh2dnZmZmYQEBDu7u4yMjJUVFTMzMyIiIi6uroAAAAs73DqAAAAAXRSTlMAQObYZgAAARBJREFU\n",
       "GNNtka9Pw0AcxT/d2rVlY53H7I8AX4edQpIGAQnJkhpAgiBIqMRRAYLM1JBgSKowmEkEJAtypvya\n",
       "qCF873odScOJd++95L737h38v/rThrGt4Aked9crw78fgpsLu8WKKcyBlUwghdUpnW+CYeUGocAW\n",
       "eAn2n1skApcwr5SZsKOgHXKo1cTcP3m9g07MjfDefmYyfBHk2CnnWj7P9GaXeBH9E3609Eq9uSlB\n",
       "TO9duVZOe6HdliQfKfcUrsralbjHiZqwITyl9YFKKledgZOyJ88bUUT+p7jd0M10sjcRm0fX+BcD\n",
       "SfZwoMqY4Q3qRmuiXuxEhjvLgse6yYbrS5OsGbH8kq4aZTV/6AV+AUvGQYW/r0RJAAAAAElFTkSu\n",
       "QmCC\n",
       "\" style=\"display:inline;vertical-align:middle;\" /></a></td></tr>\n",
       "<tr><td>8</td><td>Literal</td><td></td><td><a class=\"ProveItLink\" href=\"../../../multiplication/__pv_it/21fd2079611555ecce512d99547a00d551e6b86b0/expr.ipynb\"><img src=\"data:image/png;base64,iVBORw0KGgoAAAANSUhEUgAAAAMAAAADBAMAAACkBqiMAAAAElBMVEX///9EREQQEBAiIiLu7u4A\n",
       "AABGBidwAAAAAXRSTlMAQObYZgAAABFJREFUCNdjYHFgcDVgcBIAAASWAQx4jI0xAAAAAElFTkSu\n",
       "QmCC\n",
       "\" style=\"display:inline;vertical-align:middle;\" /></a></td></tr>\n",
       "<tr><td>9</td><td>ExprTuple</td><td>13, 14</td><td><a class=\"ProveItLink\" href=\"../6006dd3ab434da37f2d3692f39e9e2b651e1a4720/expr.ipynb\"><img src=\"data:image/png;base64,iVBORw0KGgoAAAANSUhEUgAAACkAAAAVBAMAAAAp9toTAAAAMFBMVEX////c3NwiIiJERESqqqqY\n",
       "mJh2dnZmZmYQEBDu7u4yMjJUVFTMzMyIiIi6uroAAAAs73DqAAAAAXRSTlMAQObYZgAAAPtJREFU\n",
       "GNNjYMAO+C6gCcSBiNMMDMfSTJBE2Q8AiZUMjAUM75E1LGBg4L3AwPaFgV8BSTSMgYFjAgMLmugM\n",
       "BoZXYAaKCcwODGVgxmqoAGfa3QMMbAUMS4FsnqwNUNETD7gUGFgWMPSBeTceQJT2MjAHMPA1MPwD\n",
       "czl+ginuDyCS5wNIlPEAA/NXsCi/AVS0hYFh/k+YqDzYKUATTIEqFjAwfWSYAFIbwMAQwMC6gCEd\n",
       "6L0AhvcJnJ9A5hYwsIFd9gjIcS9fwsDZLwBkld29ycDA9YCBQwAWogJIPmZNgLJZ4T7OBYckmign\n",
       "MCQZpKEcePhwg4xiRI+hOwwMANqAO5LCdo8qAAAAAElFTkSuQmCC\n",
       "\" style=\"display:inline;vertical-align:middle;\" /></a></td></tr>\n",
       "<tr><td>10</td><td>Literal</td><td></td><td><a class=\"ProveItLink\" href=\"../../../numeral/__pv_it/aaeeaca7d86eb2b7cdc49e25c3108b81b52ec5400/expr.ipynb\"><img src=\"data:image/png;base64,iVBORw0KGgoAAAANSUhEUgAAAAkAAAAOBAMAAAAPuiubAAAAMFBMVEX///8iIiJERES6urqIiIjM\n",
       "zMxUVFRmZmYQEBCqqqp2dnbc3Nzu7u6YmJgyMjIAAADYGhJvAAAAAXRSTlMAQObYZgAAAE1JREFU\n",
       "CNdj4LvDvZKBgeP//wUMDHxlSxkYGNgYGBCki5sBAwPTAZ7PYG4GmFwfwKAIJA0YGhkY6jcwFDAw\n",
       "vGNg2M7A2c3AwFqetoEBAKS8EE1WXEJLAAAAAElFTkSuQmCC\n",
       "\" style=\"display:inline;vertical-align:middle;\" /></a></td></tr>\n",
       "<tr><td>11</td><td>Variable</td><td></td><td><a class=\"ProveItLink\" href=\"../../../../__pv_it/07527342713064c87612d00d8557c53d53d5324a0/expr.ipynb\"><img src=\"data:image/png;base64,iVBORw0KGgoAAAANSUhEUgAAAAsAAAAJBAMAAAAWSsseAAAAMFBMVEX///8yMjKqqqrMzMzu7u4i\n",
       "IiJmZmaYmJhEREQQEBC6urp2dnaIiIhUVFTc3NwAAAD87Fq/AAAAAXRSTlMAQObYZgAAAEhJREFU\n",
       "CNdjYOC7s2seAwPDygccHxgY+L4zsDUwMPB+YGA9wMDA38Dgb8DA8P4Agz6DA4O/AsNFJgMGxgKm\n",
       "MG6gyjunLE4xAAAZTBA5TB6DCwAAAABJRU5ErkJggg==\n",
       "\" style=\"display:inline;vertical-align:middle;\" /></a></td></tr>\n",
       "<tr><td>12</td><td>Variable</td><td></td><td><a class=\"ProveItLink\" href=\"../../../../__pv_it/6840a4fa6c106149dc16a131294d0c5e44f1b0480/expr.ipynb\"><img src=\"data:image/png;base64,iVBORw0KGgoAAAANSUhEUgAAAAkAAAAOBAMAAAAPuiubAAAALVBMVEX///9mZmbMzMxERESYmJiI\n",
       "iIh2dna6urqqqqoyMjIiIiIQEBBUVFTu7u4AAAD9S1JeAAAAAXRSTlMAQObYZgAAAE1JREFUCNdj\n",
       "4D29gAEIOA+ASL4GEFl3AURmgQiGOaFHGBh4HzPwKTBwvGXgTmBgnMDAJ8DAJcBQ5wBSLncBJLWN\n",
       "gYGngRFoBO9REQYGAGrcDtUkVqASAAAAAElFTkSuQmCC\n",
       "\" style=\"display:inline;vertical-align:middle;\" /></a></td></tr>\n",
       "<tr><td>13</td><td>Literal</td><td></td><td><a class=\"ProveItLink\" href=\"../../../numeral/__pv_it/9176d93c83afa2c995b614976e3cb49207102fa70/expr.ipynb\"><img src=\"data:image/png;base64,iVBORw0KGgoAAAANSUhEUgAAAAoAAAAOBAMAAADkjZCYAAAAMFBMVEX///+YmJju7u4QEBBUVFQy\n",
       "MjIiIiKIiIi6urpmZmbc3NyqqqpERER2dnbMzMwAAAB0GlNiAAAAAXRSTlMAQObYZgAAAE1JREFU\n",
       "CNdjYHh79zQDA9cEhv4CBt7fDPwJDNxgEgiAIkAQAsR8Vx1ATIbiBhDJ/ImB6wEDz0cG/U8gkj+A\n",
       "ge0XA7sAQ/8FBoadM6MZAEflFACalZ/OAAAAAElFTkSuQmCC\n",
       "\" style=\"display:inline;vertical-align:middle;\" /></a></td></tr>\n",
       "<tr><td>14</td><td>Variable</td><td></td><td><a class=\"ProveItLink\" href=\"../../../../__pv_it/cbdfda466482236edba0ce44ac7ef39cda0af7a40/expr.ipynb\"><img src=\"data:image/png;base64,iVBORw0KGgoAAAANSUhEUgAAAAkAAAAJBAMAAAASvxsjAAAALVBMVEX///9mZmbc3NxUVFSYmJhE\n",
       "REQiIiIyMjK6uroQEBDMzMyIiIh2dnbu7u4AAABgFDGoAAAAAXRSTlMAQObYZgAAADZJREFUCNdj\n",
       "YOA9s3sBA8PKBvYEBt7ZDKwODMwPGICALwBE6m0Asx0YGIDiAgw8QJUyu/cyAAAmuwmycZ8WfQAA\n",
       "AABJRU5ErkJggg==\n",
       "\" style=\"display:inline;vertical-align:middle;\" /></a></td></tr>\n",
       "</table>\n"
      ],
      "text/plain": [
       "0. (5 * a) + (3 * b) + (3 * c)\n",
       "   core type: Operation\n",
       "   operator: 1\n",
       "   operands: 2\n",
       "1. +\n",
       "   core type: Literal\n",
       "   sub-expressions: \n",
       "2. (5 * a , 3 * b , 3 * c)\n",
       "   core type: ExprTuple\n",
       "   sub-expressions: 3, 4, 5\n",
       "3. 5 * a\n",
       "   core type: Operation\n",
       "   operator: 8\n",
       "   operands: 6\n",
       "4. 3 * b\n",
       "   core type: Operation\n",
       "   operator: 8\n",
       "   operands: 7\n",
       "5. 3 * c\n",
       "   core type: Operation\n",
       "   operator: 8\n",
       "   operands: 9\n",
       "6. (5 , a)\n",
       "   core type: ExprTuple\n",
       "   sub-expressions: 10, 11\n",
       "7. (3 , b)\n",
       "   core type: ExprTuple\n",
       "   sub-expressions: 13, 12\n",
       "8. *\n",
       "   core type: Literal\n",
       "   sub-expressions: \n",
       "9. (3 , c)\n",
       "   core type: ExprTuple\n",
       "   sub-expressions: 13, 14\n",
       "10. 5\n",
       "    core type: Literal\n",
       "    sub-expressions: \n",
       "11. a\n",
       "    core type: Variable\n",
       "    sub-expressions: \n",
       "12. b\n",
       "    core type: Variable\n",
       "    sub-expressions: \n",
       "13. 3\n",
       "    core type: Literal\n",
       "    sub-expressions: \n",
       "14. c\n",
       "    core type: Variable\n",
       "    sub-expressions: "
      ]
     },
     "execution_count": 4,
     "metadata": {},
     "output_type": "execute_result"
    }
   ],
   "source": [
    "# display the expression information\n",
    "expr.exprInfo()"
   ]
  },
  {
   "cell_type": "code",
   "execution_count": null,
   "metadata": {},
   "outputs": [],
   "source": []
  }
 ],
 "metadata": {
  "kernelspec": {
   "display_name": "Python 3",
   "language": "python",
   "name": "python3"
  }
 },
 "nbformat": 4,
 "nbformat_minor": 0
}
