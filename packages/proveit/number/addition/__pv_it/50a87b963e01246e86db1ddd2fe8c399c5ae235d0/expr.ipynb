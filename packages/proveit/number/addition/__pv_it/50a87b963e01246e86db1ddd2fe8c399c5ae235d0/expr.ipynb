{
 "cells": [
  {
   "cell_type": "markdown",
   "metadata": {},
   "source": [
    "Expression of type <a class=\"ProveItLink\" href=\"../../../../../../doc/html/api/proveit.ExprTuple.html\">ExprTuple</a>\n",
    "=======================\n",
    "# from context <a class=\"ProveItLink\" href=\"../../_context_.ipynb\">proveit.number.addition</a>"
   ]
  },
  {
   "cell_type": "code",
   "execution_count": 1,
   "metadata": {},
   "outputs": [],
   "source": [
    "# import Expression classes needed to build the expression\n",
    "from proveit import ExprTuple\n",
    "from proveit.number import Add, one, three, two"
   ]
  },
  {
   "cell_type": "code",
   "execution_count": 2,
   "metadata": {},
   "outputs": [
    {
     "data": {
      "text/html": [
       "<strong id=\"expr\">expr:</strong> <a class=\"ProveItLink\" href=\"expr.ipynb\"><img src=\"data:image/png;base64,iVBORw0KGgoAAAANSUhEUgAAAKUAAAAVBAMAAADVzzOcAAAAMFBMVEX////c3NwiIiJERESqqqqY\n",
       "mJh2dnZmZmYQEBDu7u4yMjJUVFTMzMyIiIi6uroAAAAs73DqAAAAAXRSTlMAQObYZgAAAi1JREFU\n",
       "OMu1lT9oU0Ecx78veUney7/GqYMOncRNh3a1bxOEYlwcHKQgJFAQMzUQHDp00SF5bqVLQ7WIT5A4\n",
       "O5hJBwffIggKLZ1KQVJFhQg2/u7u3Uvu3r2hQ3/wy/3ue7lPfvfvF+A8rBoKN1ru4Ky4e+zjY+RZ\n",
       "Xxud71wHHulz3jcWRVBu3PfUIa4UhhS9FO4ua0xrgH0PRQ1ptTASi5pH9Z+WBFf6QCXk7r59J5lP\n",
       "RVPykTlBblVV878wt8Cjhx5+Cs2tYUa5Azi+cOxL5oponMconcLdUFU7Zt6KmXZ0GkLZAo4hPMEs\n",
       "jlE4BRZVlWwkD1Su3Y5PmClZD+sUrpuYZJkx0Eyor2RQHOhMpuRb2KNwL4X5iTbzpqaW1wbyBkh4\n",
       "zOSK3UeXmm4K8xn5UUL9Iu9spavnyZTqBmjLuBuYhWss1wTTGcuo52tMppRPdGYnCK4EgVjVV0jm\n",
       "VLWGyP7mo5eA5Tr9cBDsPgmCQawQc5M6m8Y87RYuJNa+M46Y7sTnzGmekUJrX6LekpH5AbgN3FXV\n",
       "uT4yP8C++he4WlPWLpRcn9+VpolpXW40FxJ3qVLHaNVll/0zqn/UMxIK3aVD6jBv917UldmZyWRC\n",
       "zNda9jfaz+H2KEG73fFUplCKB3Bo2KnNloKV2Y7+NqP3okywlUpJb5MVibhQcPs+28mHJjWXqMBT\n",
       "ezCtdSm2bS7V6TXZpVqHi5Gb7Y1RDdOZJbYtVijcaJXhWf87vgH/AS6wsLbKF5BUAAAAAElFTkSu\n",
       "QmCC\n",
       "\" style=\"display:inline;vertical-align:middle;\" /></a><br>"
      ],
      "text/plain": [
       "expr: ((1 + 2) + 3 , 3 + 3)"
      ]
     },
     "execution_count": 2,
     "metadata": {},
     "output_type": "execute_result"
    }
   ],
   "source": [
    "# build up the expression from sub-expressions\n",
    "expr = ExprTuple(Add(Add(one, two), three), Add(three, three))"
   ]
  },
  {
   "cell_type": "code",
   "execution_count": 3,
   "metadata": {},
   "outputs": [
    {
     "name": "stdout",
     "output_type": "stream",
     "text": [
      "Passed sanity check: built 'expr' is the same as the stored Expression.\n"
     ]
    }
   ],
   "source": [
    "# check that the built expression is the same as the stored expression\n",
    "%check_expr"
   ]
  },
  {
   "cell_type": "code",
   "execution_count": 4,
   "metadata": {},
   "outputs": [
    {
     "data": {
      "text/html": [
       "<table><tr><th>&nbsp;</th><th>core type</th><th>sub-expressions</th><th>expression</th></tr>\n",
       "<tr><td>0</td><td>ExprTuple</td><td>1, 2</td><td><a class=\"ProveItLink\" href=\"expr.ipynb\"><img src=\"data:image/png;base64,iVBORw0KGgoAAAANSUhEUgAAAKUAAAAVBAMAAADVzzOcAAAAMFBMVEX////c3NwiIiJERESqqqqY\n",
       "mJh2dnZmZmYQEBDu7u4yMjJUVFTMzMyIiIi6uroAAAAs73DqAAAAAXRSTlMAQObYZgAAAi1JREFU\n",
       "OMu1lT9oU0Ecx78veUney7/GqYMOncRNh3a1bxOEYlwcHKQgJFAQMzUQHDp00SF5bqVLQ7WIT5A4\n",
       "O5hJBwffIggKLZ1KQVJFhQg2/u7u3Uvu3r2hQ3/wy/3ue7lPfvfvF+A8rBoKN1ru4Ky4e+zjY+RZ\n",
       "Xxud71wHHulz3jcWRVBu3PfUIa4UhhS9FO4ua0xrgH0PRQ1ptTASi5pH9Z+WBFf6QCXk7r59J5lP\n",
       "RVPykTlBblVV878wt8Cjhx5+Cs2tYUa5Azi+cOxL5oponMconcLdUFU7Zt6KmXZ0GkLZAo4hPMEs\n",
       "jlE4BRZVlWwkD1Su3Y5PmClZD+sUrpuYZJkx0Eyor2RQHOhMpuRb2KNwL4X5iTbzpqaW1wbyBkh4\n",
       "zOSK3UeXmm4K8xn5UUL9Iu9spavnyZTqBmjLuBuYhWss1wTTGcuo52tMppRPdGYnCK4EgVjVV0jm\n",
       "VLWGyP7mo5eA5Tr9cBDsPgmCQawQc5M6m8Y87RYuJNa+M46Y7sTnzGmekUJrX6LekpH5AbgN3FXV\n",
       "uT4yP8C++he4WlPWLpRcn9+VpolpXW40FxJ3qVLHaNVll/0zqn/UMxIK3aVD6jBv917UldmZyWRC\n",
       "zNda9jfaz+H2KEG73fFUplCKB3Bo2KnNloKV2Y7+NqP3okywlUpJb5MVibhQcPs+28mHJjWXqMBT\n",
       "ezCtdSm2bS7V6TXZpVqHi5Gb7Y1RDdOZJbYtVijcaJXhWf87vgH/AS6wsLbKF5BUAAAAAElFTkSu\n",
       "QmCC\n",
       "\" style=\"display:inline;vertical-align:middle;\" /></a></td></tr>\n",
       "<tr><td>1</td><td>Operation</td><td>operator:&nbsp;7<br>operands:&nbsp;3<br></td><td><a class=\"ProveItLink\" href=\"../3ac22318e51a51c3091e9f096f31a0c3ecb35ce20/expr.ipynb\"><img src=\"data:image/png;base64,iVBORw0KGgoAAAANSUhEUgAAAF8AAAAVBAMAAADSoS/MAAAAMFBMVEX////c3NwiIiJERESqqqqY\n",
       "mJh2dnZmZmYQEBDu7u4yMjJUVFTMzMyIiIi6uroAAAAs73DqAAAAAXRSTlMAQObYZgAAAUZJREFU\n",
       "OMtjYCAZ8F3AIcH6ALv4aSBmnoAmKF5lx8BQgybIk5bsAKRWMjBw2qNpYNzAcN+BgQvdFAa+vwwM\n",
       "vBcYOHfvh2mYCKG4JzAwfWBgTUAVzXdg+MTAwAFSex+mwRdCcXQycP9j4GxAFfUHa3jFgEUD108G\n",
       "9n8MDCaoogxgJ5Vh0wAETD8ZGNLRRbk2MDAsxaHhPNADXmiix1YDiT4cGhYD8Qt0UV6g6n/YNbAb\n",
       "gGzBMKZ/ArKGqlWrNFatWg2Wuc0A04AQlWFgsA9gaMFqA0sBgyC6kzj/TwBpMMWq4TgDQyADQxSq\n",
       "6C8GBn0BSNCha2BUS0tXwAjWqwx83xgYHgFZ5f3LA1CkmP7//w/UsA5VA0t5FTDxcQggpy9fZA56\n",
       "0oCm+gRk3ltkDtsFbKKg5I0DzMIuLI1Tw0bswoy4sijvAWyiABYOYDEft/uQAAAAAElFTkSuQmCC\n",
       "\" style=\"display:inline;vertical-align:middle;\" /></a></td></tr>\n",
       "<tr><td>2</td><td>Operation</td><td>operator:&nbsp;7<br>operands:&nbsp;4<br></td><td><a class=\"ProveItLink\" href=\"../699a1d509d4351b084cb142424605f66aca456f80/expr.ipynb\"><img src=\"data:image/png;base64,iVBORw0KGgoAAAANSUhEUgAAAC0AAAAQBAMAAABw0OvaAAAAMFBMVEX///+YmJju7u4QEBBUVFQy\n",
       "MjIiIiKIiIi6urpmZmbc3NyqqqpERER2dnbMzMwAAAB0GlNiAAAAAXRSTlMAQObYZgAAALRJREFU\n",
       "GNNjYHh79zQDCuC7e2cDAwPXBIb+AhTxlQwc3xkYeH8z8CdABLQg1P0NDN8YGLgR4tsh1H6wOBDA\n",
       "zNkOMwlkDhCEMKCJszqArL/qgCb+FqqwuAFNPbsFmGL+hCbOYK/AwPWAgecjkDk1NDQ5NBRkwjoG\n",
       "hvMCDPqfIOJw9Uz/FUDi/AEMbL9QzPnKwJC/gIFdgKH/Aop4IQPHXyC1c2Y0qju5Z07dgBJg2xmw\n",
       "g3YkNgCAPTRKDcxu7AAAAABJRU5ErkJggg==\n",
       "\" style=\"display:inline;vertical-align:middle;\" /></a></td></tr>\n",
       "<tr><td>3</td><td>ExprTuple</td><td>5, 6</td><td><a class=\"ProveItLink\" href=\"../2e71801f62d2693dd98b1b686f6edfd90fbc306f0/expr.ipynb\"><img src=\"data:image/png;base64,iVBORw0KGgoAAAANSUhEUgAAAE0AAAAVBAMAAADx+n4ZAAAAMFBMVEX////c3NwiIiJERESqqqqY\n",
       "mJh2dnZmZmYQEBDu7u4yMjJUVFTMzMyIiIi6uroAAAAs73DqAAAAAXRSTlMAQObYZgAAAVBJREFU\n",
       "KM9jYCAW8F0gqCQORJwGYuYJaDLiVXYQBk9asgMD+wEgayUDA6c9mjrGDQz3HSAaGPj+MjAsYGDg\n",
       "vcDAuXs/TN1ECMU9gYHpA5iV78DwiYEhjIGBA6TkPkydL4Ti6GTg/gdm+YPVzWBgeMWARR3XTwb2\n",
       "fzB/Au1ldmAow6YOCJh+QhlcGxgY2AoYluJQdz4BQh9bDSRYFjD04VC3GMbgBarga2D4h10duwFc\n",
       "R/8EBp4PyOqqVq3SWLVqNVjyNlSRDAODfQBIXQtW81gKGARBNOf/CSB1QHtNsao7zsAQyAAS/MXA\n",
       "oC/AwLqAIR2bOka1tHQFTmAAM1xl4PsGDpdHQE55//IAFHVM////V+DsFwA6oLwKGNFcDxg4BJAT\n",
       "gC9KioNLAeONNQFZ6i0yhxXOyoWkKxwAro4TmK4YpHGqgyd0bpADGAmn+zsMDABFllrWZ8cBbgAA\n",
       "AABJRU5ErkJggg==\n",
       "\" style=\"display:inline;vertical-align:middle;\" /></a></td></tr>\n",
       "<tr><td>4</td><td>ExprTuple</td><td>6, 6</td><td><a class=\"ProveItLink\" href=\"../c017262dc935bab7587f0744a3b31563e3ec1f2b0/expr.ipynb\"><img src=\"data:image/png;base64,iVBORw0KGgoAAAANSUhEUgAAACkAAAAVBAMAAAAp9toTAAAAMFBMVEX////c3NwiIiJERESqqqqY\n",
       "mJh2dnZmZmYQEBDu7u4yMjJUVFTMzMyIiIi6uroAAAAs73DqAAAAAXRSTlMAQObYZgAAAQ9JREFU\n",
       "GNNtkS1PA0EQhp+jvXIH7fUcAgT/AAOac0iqkKQJSUlICFU0QSHQ9CSOEyAIpj+hqgZTQ4JANEjM\n",
       "AQGSkvAxO909cWHFZt5nszPvzMD/JxqXwK657mDUWZ+BemcvYX4o0Q1el3z2YYnoGzJojKm901xV\n",
       "epTwBjsQpFQLuq30Ap5V5q6kyVBJOFZx6wwsDKDW5dqUPhhYODLP1YxzVQ8Tixuio1N+VARTl6Kf\n",
       "Un8x1BtS+VC0ApstQ8/gcmpp+JsaKhk2oJkx90oq+AvWYvyMfanQIm+HYp97ok919iRiq3dF2I/F\n",
       "U+8kEc8Tgth15QLTsd+2sV8M+FAnWaKhTJJlK4qVLJpUXnlDj/AHHh5B6Heel5EAAAAASUVORK5C\n",
       "YII=\n",
       "\" style=\"display:inline;vertical-align:middle;\" /></a></td></tr>\n",
       "<tr><td>5</td><td>Operation</td><td>operator:&nbsp;7<br>operands:&nbsp;8<br></td><td><a class=\"ProveItLink\" href=\"../ad2bc678c5d08c4efa59158842cce49a130372c40/expr.ipynb\"><img src=\"data:image/png;base64,iVBORw0KGgoAAAANSUhEUgAAACwAAAAQBAMAAACfEoDkAAAAMFBMVEX///92dnbMzMy6uroiIiKq\n",
       "qqrc3NyYmJgyMjIQEBBmZmaIiIhUVFTu7u5EREQAAADaqMZ6AAAAAXRSTlMAQObYZgAAAIlJREFU\n",
       "GNNjYGB4y4AKslY8BpL3/qKKsh1g2B/AcOcMTJg3AUzxXGBg+cDAwA0TZt0ApjjnMvB8xhTm+MvA\n",
       "hUUYCFj+YhXWF8Aq3MeATZjrAVyYq6OjZUZHxwEQew8DNtWsCxjSsAhrMTCUYQqzOQpKOTBwrfyx\n",
       "HEWY5f///w5IYYRwIApgRhIGADJwMVDOY1gjAAAAAElFTkSuQmCC\n",
       "\" style=\"display:inline;vertical-align:middle;\" /></a></td></tr>\n",
       "<tr><td>6</td><td>Literal</td><td></td><td><a class=\"ProveItLink\" href=\"../../../numeral/__pv_it/9176d93c83afa2c995b614976e3cb49207102fa70/expr.ipynb\"><img src=\"data:image/png;base64,iVBORw0KGgoAAAANSUhEUgAAAAoAAAAOBAMAAADkjZCYAAAAMFBMVEX///+YmJju7u4QEBBUVFQy\n",
       "MjIiIiKIiIi6urpmZmbc3NyqqqpERER2dnbMzMwAAAB0GlNiAAAAAXRSTlMAQObYZgAAAE1JREFU\n",
       "CNdjYHh79zQDA9cEhv4CBt7fDPwJDNxgEgiAIkAQAsR8Vx1ATIbiBhDJ/ImB6wEDz0cG/U8gkj+A\n",
       "ge0XA7sAQ/8FBoadM6MZAEflFACalZ/OAAAAAElFTkSuQmCC\n",
       "\" style=\"display:inline;vertical-align:middle;\" /></a></td></tr>\n",
       "<tr><td>7</td><td>Literal</td><td></td><td><a class=\"ProveItLink\" href=\"../3e6688136fa3c7aefbebe51301b7c3ebf0b69c440/expr.ipynb\"><img src=\"data:image/png;base64,iVBORw0KGgoAAAANSUhEUgAAAA4AAAAOBAMAAADtZjDiAAAAJFBMVEX///+6urpUVFQQEBAiIiIy\n",
       "MjJmZmaIiIiqqqrc3Nzu7u4AAACgHpL+AAAAAXRSTlMAQObYZgAAAB5JREFUCNdjYGBgWMkAAe2k\n",
       "0Kmhoc6hoUGk6BMHYgAHOwjcado9fwAAAABJRU5ErkJggg==\n",
       "\" style=\"display:inline;vertical-align:middle;\" /></a></td></tr>\n",
       "<tr><td>8</td><td>ExprTuple</td><td>9, 10</td><td><a class=\"ProveItLink\" href=\"../ae02dd48deb37365fce54e88fb6bdda021f4c6730/expr.ipynb\"><img src=\"data:image/png;base64,iVBORw0KGgoAAAANSUhEUgAAACkAAAAVBAMAAAAp9toTAAAAMFBMVEX////c3NwiIiJERESqqqqY\n",
       "mJh2dnZmZmYQEBDu7u4yMjJUVFTMzMyIiIi6uroAAAAs73DqAAAAAXRSTlMAQObYZgAAAOtJREFU\n",
       "GNNjYMAO+C6gCcSBiNNAzDwBIsBYvvgBA/sBIGslAwOnPVRUmoH3CwPDAgYG3gsMnLv3Q0V3MjDo\n",
       "MzCEMTBwgATuQ0U7JjDsf8Awg4HhFQOS6PoJDPUPGJgdGMqQRYFAfwIDWwHDUlRRnm8MDCwLGPpQ\n",
       "RbkMgD5oYPiHKloMUv8BTZR3A0S0BUXUnYFRAGSCKUwUJMFTwMAqwMC6gCEdKsr5CUgLpaUVMYBc\n",
       "9gjIKe9fHsDZLwB07P//QEmuBwwcArAQhTFAPmZNgLJZ4d7LhYQkqijnAnCYQgA8SrhBRjGix9Ad\n",
       "BgYAyE9BDPXceaYAAAAASUVORK5CYII=\n",
       "\" style=\"display:inline;vertical-align:middle;\" /></a></td></tr>\n",
       "<tr><td>9</td><td>Literal</td><td></td><td><a class=\"ProveItLink\" href=\"../../../numeral/__pv_it/9be8badea4c35b9724062cecc501d17a3158d1d20/expr.ipynb\"><img src=\"data:image/png;base64,iVBORw0KGgoAAAANSUhEUgAAAAgAAAAPBAMAAAArJJMAAAAAHlBMVEX///+YmJgyMjIQEBBmZmaI\n",
       "iIhUVFTu7u5EREQAAAAw+MI4AAAAAXRSTlMAQObYZgAAACFJREFUCNdjYGBoZ2BgqJjOwFCWBiQY\n",
       "WEklWJwnOTKAAACjEQo8HvEr3AAAAABJRU5ErkJggg==\n",
       "\" style=\"display:inline;vertical-align:middle;\" /></a></td></tr>\n",
       "<tr><td>10</td><td>Literal</td><td></td><td><a class=\"ProveItLink\" href=\"../../../numeral/__pv_it/77d407a64829263cdc16415becd4c2293f77a4bf0/expr.ipynb\"><img src=\"data:image/png;base64,iVBORw0KGgoAAAANSUhEUgAAAAkAAAAOBAMAAAAPuiubAAAAMFBMVEX///+YmJh2dnbMzMwQEBAi\n",
       "IiLu7u6qqqqIiIhUVFS6urpEREQyMjJmZmbc3NwAAACOMKdoAAAAAXRSTlMAQObYZgAAAFBJREFU\n",
       "CNdj4Lt7egEDw0sGju8MDNMYGOIZGFwSGOYvYDifwHAfKAEUSQASzJ9ATJ4NIPI2iOCYACJrGfge\n",
       "MDBfYGB8wPBUSekqUPH//18ZAIliFhc3zESNAAAAAElFTkSuQmCC\n",
       "\" style=\"display:inline;vertical-align:middle;\" /></a></td></tr>\n",
       "</table>\n"
      ],
      "text/plain": [
       "0. ((1 + 2) + 3 , 3 + 3)\n",
       "   core type: ExprTuple\n",
       "   sub-expressions: 1, 2\n",
       "1. (1 + 2) + 3\n",
       "   core type: Operation\n",
       "   operator: 7\n",
       "   operands: 3\n",
       "2. 3 + 3\n",
       "   core type: Operation\n",
       "   operator: 7\n",
       "   operands: 4\n",
       "3. (1 + 2 , 3)\n",
       "   core type: ExprTuple\n",
       "   sub-expressions: 5, 6\n",
       "4. (3 , 3)\n",
       "   core type: ExprTuple\n",
       "   sub-expressions: 6, 6\n",
       "5. 1 + 2\n",
       "   core type: Operation\n",
       "   operator: 7\n",
       "   operands: 8\n",
       "6. 3\n",
       "   core type: Literal\n",
       "   sub-expressions: \n",
       "7. +\n",
       "   core type: Literal\n",
       "   sub-expressions: \n",
       "8. (1 , 2)\n",
       "   core type: ExprTuple\n",
       "   sub-expressions: 9, 10\n",
       "9. 1\n",
       "   core type: Literal\n",
       "   sub-expressions: \n",
       "10. 2\n",
       "    core type: Literal\n",
       "    sub-expressions: "
      ]
     },
     "execution_count": 4,
     "metadata": {},
     "output_type": "execute_result"
    }
   ],
   "source": [
    "# display the expression information\n",
    "expr.exprInfo()"
   ]
  },
  {
   "cell_type": "code",
   "execution_count": null,
   "metadata": {},
   "outputs": [],
   "source": []
  }
 ],
 "metadata": {
  "kernelspec": {
   "display_name": "Python 3",
   "language": "python",
   "name": "python3"
  }
 },
 "nbformat": 4,
 "nbformat_minor": 0
}
