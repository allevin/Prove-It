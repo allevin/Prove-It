{
 "cells": [
  {
   "cell_type": "markdown",
   "metadata": {},
   "source": [
    "Expression of type <a class=\"ProveItLink\" href=\"../../../../../../doc/html/api/proveit.number.Add.html\">Add</a>\n",
    "=======================\n",
    "# from context <a class=\"ProveItLink\" href=\"../../_context_.ipynb\">proveit.number.addition</a>"
   ]
  },
  {
   "cell_type": "code",
   "execution_count": 1,
   "metadata": {},
   "outputs": [],
   "source": [
    "# import Expression classes needed to build the expression\n",
    "from proveit._common_ import a, b, c\n",
    "from proveit.number import Add"
   ]
  },
  {
   "cell_type": "code",
   "execution_count": 2,
   "metadata": {},
   "outputs": [
    {
     "data": {
      "text/html": [
       "<strong id=\"expr\">expr:</strong> <a class=\"ProveItLink\" href=\"expr.ipynb\"><img src=\"data:image/png;base64,iVBORw0KGgoAAAANSUhEUgAAAWoAAAAQBAMAAADNOCjDAAAAMFBMVEX///8yMjKqqqrMzMzu7u4i\n",
       "IiJmZmaYmJhEREQQEBC6urp2dnaIiIhUVFTc3NwAAAD87Fq/AAAAAXRSTlMAQObYZgAAAhJJREFU\n",
       "SMfN1bFLG1EcB/Bvrs9TE5J4gzgFAsWtYMZ2u7UUNZNQ6BAnBSm9PyGbS6F06NIWEZyEgkLpUh0O\n",
       "FAd7hbSDpRBo/gExJKFmcPCi95L3e7+8O5sS8I0ffvf9vXvv3TtgfGPxnQbidzkB7sMo6JCqJcG/\n",
       "jyUmojGK9INaOuSLSWCOHdLnZjxiYvmjiAxKd/TkPTcJzLFD+oxl1pmynvwlEe4661z96xZ9ciCy\n",
       "kgvOv+02DCKDUvXvHk0uBL8SQBwEJRLLAM8Oj4DdxlSTPjkQWcklvYU3JpFBy1W0CYgu8qVYwJPt\n",
       "VJnEMnjwHrPIXcKukmxFokouuPCwbhIZtODiAwGrg+n9WBAfMeWpsQzw1Mcmsk1M+CRbkaiSC/4A\n",
       "L0wig1aBvwTsGeQrsZBtaseYQa9PePdUsdzbpFXHee44BUVsx5l96zi1YYIuRHuoKEErSF8SmKhg\n",
       "z4uF/O2WktbQ+/Q21scCXPV9FYnej0vuClZTGEQGtWB3CIS38ys3Fi58bWkZhH16n0wRPyzyRSgS\n",
       "VXIRLWRnHhpEBrXloe1PsqQddA7hypNjzADh9k0i5VkrGXphDSSq5II5zFf2DSKDfuIlPejZol1L\n",
       "gAoyZHkY4Az4HF7Fp49P6R0yELkrTHAe7LzeNogMWjzx6KxFfS0BsBEc00YM7MPAHee/8b/gzn/0\n",
       "T0zS/ijCg0YAFqvCNQdw8VobmEZtAAAAAElFTkSuQmCC\n",
       "\" style=\"display:inline;vertical-align:middle;\" /></a><br>"
      ],
      "text/plain": [
       "expr: a + a + a + a + a + b + b + b + c + c + c"
      ]
     },
     "execution_count": 2,
     "metadata": {},
     "output_type": "execute_result"
    }
   ],
   "source": [
    "# build up the expression from sub-expressions\n",
    "expr = Add(a, a, a, a, a, b, b, b, c, c, c)"
   ]
  },
  {
   "cell_type": "code",
   "execution_count": 3,
   "metadata": {},
   "outputs": [
    {
     "name": "stdout",
     "output_type": "stream",
     "text": [
      "Passed sanity check: built 'expr' is the same as the stored Expression.\n"
     ]
    }
   ],
   "source": [
    "# check that the built expression is the same as the stored expression\n",
    "%check_expr"
   ]
  },
  {
   "cell_type": "code",
   "execution_count": 4,
   "metadata": {},
   "outputs": [
    {
     "data": {
      "text/html": [
       "<table><tr><th>&nbsp;</th><th>core type</th><th>sub-expressions</th><th>expression</th></tr>\n",
       "<tr><td>0</td><td>Operation</td><td>operator:&nbsp;1<br>operands:&nbsp;2<br></td><td><a class=\"ProveItLink\" href=\"expr.ipynb\"><img src=\"data:image/png;base64,iVBORw0KGgoAAAANSUhEUgAAAWoAAAAQBAMAAADNOCjDAAAAMFBMVEX///8yMjKqqqrMzMzu7u4i\n",
       "IiJmZmaYmJhEREQQEBC6urp2dnaIiIhUVFTc3NwAAAD87Fq/AAAAAXRSTlMAQObYZgAAAhJJREFU\n",
       "SMfN1bFLG1EcB/Bvrs9TE5J4gzgFAsWtYMZ2u7UUNZNQ6BAnBSm9PyGbS6F06NIWEZyEgkLpUh0O\n",
       "FAd7hbSDpRBo/gExJKFmcPCi95L3e7+8O5sS8I0ffvf9vXvv3TtgfGPxnQbidzkB7sMo6JCqJcG/\n",
       "jyUmojGK9INaOuSLSWCOHdLnZjxiYvmjiAxKd/TkPTcJzLFD+oxl1pmynvwlEe4661z96xZ9ciCy\n",
       "kgvOv+02DCKDUvXvHk0uBL8SQBwEJRLLAM8Oj4DdxlSTPjkQWcklvYU3JpFBy1W0CYgu8qVYwJPt\n",
       "VJnEMnjwHrPIXcKukmxFokouuPCwbhIZtODiAwGrg+n9WBAfMeWpsQzw1Mcmsk1M+CRbkaiSC/4A\n",
       "L0wig1aBvwTsGeQrsZBtaseYQa9PePdUsdzbpFXHee44BUVsx5l96zi1YYIuRHuoKEErSF8SmKhg\n",
       "z4uF/O2WktbQ+/Q21scCXPV9FYnej0vuClZTGEQGtWB3CIS38ys3Fi58bWkZhH16n0wRPyzyRSgS\n",
       "VXIRLWRnHhpEBrXloe1PsqQddA7hypNjzADh9k0i5VkrGXphDSSq5II5zFf2DSKDfuIlPejZol1L\n",
       "gAoyZHkY4Az4HF7Fp49P6R0yELkrTHAe7LzeNogMWjzx6KxFfS0BsBEc00YM7MPAHee/8b/gzn/0\n",
       "T0zS/ijCg0YAFqvCNQdw8VobmEZtAAAAAElFTkSuQmCC\n",
       "\" style=\"display:inline;vertical-align:middle;\" /></a></td></tr>\n",
       "<tr><td>1</td><td>Literal</td><td></td><td><a class=\"ProveItLink\" href=\"../3e6688136fa3c7aefbebe51301b7c3ebf0b69c440/expr.ipynb\"><img src=\"data:image/png;base64,iVBORw0KGgoAAAANSUhEUgAAAA4AAAAOBAMAAADtZjDiAAAAJFBMVEX///+6urpUVFQQEBAiIiIy\n",
       "MjJmZmaIiIiqqqrc3Nzu7u4AAACgHpL+AAAAAXRSTlMAQObYZgAAAB5JREFUCNdjYGBgWMkAAe2k\n",
       "0Kmhoc6hoUGk6BMHYgAHOwjcado9fwAAAABJRU5ErkJggg==\n",
       "\" style=\"display:inline;vertical-align:middle;\" /></a></td></tr>\n",
       "<tr><td>2</td><td>ExprTuple</td><td>3, 3, 3, 3, 3, 4, 4, 4, 5, 5, 5</td><td><a class=\"ProveItLink\" href=\"../9678e7a3a5664c120c8669faed2bd673b70954970/expr.ipynb\"><img src=\"data:image/png;base64,iVBORw0KGgoAAAANSUhEUgAAANUAAAAVBAMAAAAjhrYEAAAAMFBMVEX////c3NwiIiJERESqqqqY\n",
       "mJh2dnZmZmYQEBDu7u4yMjJUVFTMzMyIiIi6uroAAAAs73DqAAAAAXRSTlMAQObYZgAAAe9JREFU\n",
       "SMe91j1Iw0AUB/B/bdr0Gttkd7Cbk9DFUSzOgpkcpTjopAREBx38QNz8GAWHZnEQFwcFEYoFF8Gl\n",
       "kyJaqU4igtVWpKDiXZpaL1ebELAd0l8K917v3XtpgXa+4vm2pBlll3M/K7eXnSBHiZYr5By97Pr6\n",
       "mnsCovutV5hAzF8JKwLUVOsVI0Bk09chV53As0ugLeDR17bCCScw5rIkmMIsfQtkp5bsT7ouHjQP\n",
       "imavdR7YKxzaXTJeyDVB2MAO9YMWLNklWcKAF2WS+OBBylBrkc+K0UQTSCbW6bbeICdrMbp1THvR\n",
       "8CZWeUhVRNJW0jUE9SaIL+ILUErosLvxBOj1ojngnYdsQjUYFLtETnSWWC41iUxt+yiDfHhRD+Jv\n",
       "PDoMPFu7UJP1IeBBc63Q0uQxDKtjA5+QSsRddKrkKg86XgtWjO76wDpAa9hHzzeFYynHgpAKFHOI\n",
       "5W0t2g/0cDjQxlgFi6HS3ekiEDIxQftWl3rCyLCe2cGgkSavrjrAPHgoKXnfiqEYCOdEsJ6/Z+N1\n",
       "e3qLrRc2QIWn/iLZ0Ny0famDB8nOoBZjtnDVBIgWEdHqg33XeAJpniSiEUMEfUaF0vUb/SdXyJtE\n",
       "NGKImPz9m/K/uYjJjsi+iTUek3lvEhH7Gwqrc6A9/wFugG9D0d1rCQzwVwAAAABJRU5ErkJggg==\n",
       "\" style=\"display:inline;vertical-align:middle;\" /></a></td></tr>\n",
       "<tr><td>3</td><td>Variable</td><td></td><td><a class=\"ProveItLink\" href=\"../../../../__pv_it/07527342713064c87612d00d8557c53d53d5324a0/expr.ipynb\"><img src=\"data:image/png;base64,iVBORw0KGgoAAAANSUhEUgAAAAsAAAAJBAMAAAAWSsseAAAAMFBMVEX///8yMjKqqqrMzMzu7u4i\n",
       "IiJmZmaYmJhEREQQEBC6urp2dnaIiIhUVFTc3NwAAAD87Fq/AAAAAXRSTlMAQObYZgAAAEhJREFU\n",
       "CNdjYOC7s2seAwPDygccHxgY+L4zsDUwMPB+YGA9wMDA38Dgb8DA8P4Agz6DA4O/AsNFJgMGxgKm\n",
       "MG6gyjunLE4xAAAZTBA5TB6DCwAAAABJRU5ErkJggg==\n",
       "\" style=\"display:inline;vertical-align:middle;\" /></a></td></tr>\n",
       "<tr><td>4</td><td>Variable</td><td></td><td><a class=\"ProveItLink\" href=\"../../../../__pv_it/6840a4fa6c106149dc16a131294d0c5e44f1b0480/expr.ipynb\"><img src=\"data:image/png;base64,iVBORw0KGgoAAAANSUhEUgAAAAkAAAAOBAMAAAAPuiubAAAALVBMVEX///9mZmbMzMxERESYmJiI\n",
       "iIh2dna6urqqqqoyMjIiIiIQEBBUVFTu7u4AAAD9S1JeAAAAAXRSTlMAQObYZgAAAE1JREFUCNdj\n",
       "4D29gAEIOA+ASL4GEFl3AURmgQiGOaFHGBh4HzPwKTBwvGXgTmBgnMDAJ8DAJcBQ5wBSLncBJLWN\n",
       "gYGngRFoBO9REQYGAGrcDtUkVqASAAAAAElFTkSuQmCC\n",
       "\" style=\"display:inline;vertical-align:middle;\" /></a></td></tr>\n",
       "<tr><td>5</td><td>Variable</td><td></td><td><a class=\"ProveItLink\" href=\"../../../../__pv_it/cbdfda466482236edba0ce44ac7ef39cda0af7a40/expr.ipynb\"><img src=\"data:image/png;base64,iVBORw0KGgoAAAANSUhEUgAAAAkAAAAJBAMAAAASvxsjAAAALVBMVEX///9mZmbc3NxUVFSYmJhE\n",
       "REQiIiIyMjK6uroQEBDMzMyIiIh2dnbu7u4AAABgFDGoAAAAAXRSTlMAQObYZgAAADZJREFUCNdj\n",
       "YOA9s3sBA8PKBvYEBt7ZDKwODMwPGICALwBE6m0Asx0YGIDiAgw8QJUyu/cyAAAmuwmycZ8WfQAA\n",
       "AABJRU5ErkJggg==\n",
       "\" style=\"display:inline;vertical-align:middle;\" /></a></td></tr>\n",
       "</table>\n"
      ],
      "text/plain": [
       "0. a + a + a + a + a + b + b + b + c + c + c\n",
       "   core type: Operation\n",
       "   operator: 1\n",
       "   operands: 2\n",
       "1. +\n",
       "   core type: Literal\n",
       "   sub-expressions: \n",
       "2. (a , a , a , a , a , b , b , b , c , c , c)\n",
       "   core type: ExprTuple\n",
       "   sub-expressions: 3, 3, 3, 3, 3, 4, 4, 4, 5, 5, 5\n",
       "3. a\n",
       "   core type: Variable\n",
       "   sub-expressions: \n",
       "4. b\n",
       "   core type: Variable\n",
       "   sub-expressions: \n",
       "5. c\n",
       "   core type: Variable\n",
       "   sub-expressions: "
      ]
     },
     "execution_count": 4,
     "metadata": {},
     "output_type": "execute_result"
    }
   ],
   "source": [
    "# display the expression information\n",
    "expr.exprInfo()"
   ]
  },
  {
   "cell_type": "code",
   "execution_count": null,
   "metadata": {},
   "outputs": [],
   "source": []
  }
 ],
 "metadata": {
  "kernelspec": {
   "display_name": "Python 3",
   "language": "python",
   "name": "python3"
  }
 },
 "nbformat": 4,
 "nbformat_minor": 0
}
