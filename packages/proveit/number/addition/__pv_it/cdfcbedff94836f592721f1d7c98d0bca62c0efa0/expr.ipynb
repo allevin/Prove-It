{
 "cells": [
  {
   "cell_type": "markdown",
   "metadata": {},
   "source": [
    "Expression of type <a class=\"ProveItLink\" href=\"../../../../../../doc/html/api/proveit.logic.InSet.html\">InSet</a>\n",
    "=======================\n",
    "# from context <a class=\"ProveItLink\" href=\"../../_context_.ipynb\">proveit.number.addition</a>"
   ]
  },
  {
   "cell_type": "code",
   "execution_count": 1,
   "metadata": {},
   "outputs": [],
   "source": [
    "# import Expression classes needed to build the expression\n",
    "from proveit._common_ import A, B, C, a, b\n",
    "from proveit.logic import InSet\n",
    "from proveit.number import Complexes, Exp, six"
   ]
  },
  {
   "cell_type": "code",
   "execution_count": 2,
   "metadata": {},
   "outputs": [
    {
     "data": {
      "text/html": [
       "<strong id=\"expr\">expr:</strong> <a class=\"ProveItLink\" href=\"expr.ipynb\"><img src=\"data:image/png;base64,iVBORw0KGgoAAAANSUhEUgAAAMAAAAAZBAMAAACVwzzTAAAAMFBMVEX////c3NwiIiJERESqqqqY\n",
       "mJh2dnZmZmYQEBDu7u4yMjJUVFTMzMyIiIi6uroAAAAs73DqAAAAAXRSTlMAQObYZgAAAyBJREFU\n",
       "SMe1VUtIVFEY/macOzN3nhcUWrhQbNFr0UQFUoSziSAKh4KigpQ2roqb9NgE2sPAgry0qBBSM0Sm\n",
       "oqaFFHMRh4IIhBzatDLHoLI2amalonbed5xKFzYX7p3/nPPP//2v7z9AMZ/bJxNFtY9HoYmi2vea\n",
       "en1RAfzx4iYIFfvfGUAku2pDWu7v+0P1oUpgsHD7RZ5MFeijP6+UW8cWbXuHsnh35/nEGlz4w/bb\n",
       "B7/WmhU5fAeShWdP8uSA7IJASu1dBnwLsowtwOcWBAptvFnArflUNIN5hAszpG22nMWBGSFEVb1C\n",
       "8+SdE4F1E13vJLSCZtGCpP9rU4E4FuC3CgDKmgwlu/ZMCmlcqYXJlvZDxNVKPpFm6M0iYd1VG+nv\n",
       "ET/5+FKeVKQSXwujy444JQuHZS5OqL0SYszdyuUmGpfLBLbx4HqEG2Y5DS+Lww0WzlGV/lMX5f8j\n",
       "Vq1D7y+eaSE9HO6TyUrBdZ8bcs2yPGWABrYuFfZ185PjcA95x4wSRekODKmq6DmacCZNgVSM917/\n",
       "cKNwwSfhsZd9t8gy1e92AG4QR6bhi8l1DhWmigaun1zyzMAvCjliQN/ERbesEMaYFzEF8NEBIEkO\n",
       "TsAtvQ7Z9oACG7TtKeFrF6ICt5qC8BCiLG6dhsX8uVRVxYqsx14tAYjG0JlRTsPf5USDa8JXE+Mi\n",
       "L7RD63g0fgawTwKEFFeSQQfgChkZWdRC1Ie0hVv0HDzkXa9o0MQ1QjTvA5wVQcYSU6VIsf0QA+B/\n",
       "2A50xpH2ZHTWF3HOXnZWxmlND0iFrzKB0YB2jyU4By+VjjJbfaqVj5OURzYwmTRYIOFZ50UnxW+n\n",
       "pzPQv1GHaKpqLHYQjPtSXIPS4HWSa6AujshpYYU8NxWD7F1Wx1YewQdKg/cv3+MOca207R60mllT\n",
       "bzPgqp41cHCxlx3o/WfBBF/NnJ0mrU01SAjpZ2eYlcecF72ylKHGxesCza8Gw2genSNG3mJ0RQ05\n",
       "KjxpPiqWzCU1p/LvZy1fJbGihne5OyX5HwDal7uOyuVgWzLx8uQwVtLA0+UAXKu/MsOZf5/9Bit4\n",
       "1Rz2Sw4iAAAAAElFTkSuQmCC\n",
       "\" style=\"display:inline;vertical-align:middle;\" /></a><br>"
      ],
      "text/plain": [
       "expr: (a , A , A , b , B , C) in Complexes^{6}"
      ]
     },
     "execution_count": 2,
     "metadata": {},
     "output_type": "execute_result"
    }
   ],
   "source": [
    "# build up the expression from sub-expressions\n",
    "expr = InSet([a, A, A, b, B, C], Exp(Complexes, six))"
   ]
  },
  {
   "cell_type": "code",
   "execution_count": 3,
   "metadata": {},
   "outputs": [
    {
     "name": "stdout",
     "output_type": "stream",
     "text": [
      "Passed sanity check: built 'expr' is the same as the stored Expression.\n"
     ]
    }
   ],
   "source": [
    "# check that the built expression is the same as the stored expression\n",
    "%check_expr"
   ]
  },
  {
   "cell_type": "code",
   "execution_count": 4,
   "metadata": {},
   "outputs": [
    {
     "data": {
      "text/html": [
       "<table><tr><th>&nbsp;</th><th>core type</th><th>sub-expressions</th><th>expression</th></tr>\n",
       "<tr><td>0</td><td>Operation</td><td>operator:&nbsp;1<br>operands:&nbsp;2<br></td><td><a class=\"ProveItLink\" href=\"expr.ipynb\"><img src=\"data:image/png;base64,iVBORw0KGgoAAAANSUhEUgAAAMAAAAAZBAMAAACVwzzTAAAAMFBMVEX////c3NwiIiJERESqqqqY\n",
       "mJh2dnZmZmYQEBDu7u4yMjJUVFTMzMyIiIi6uroAAAAs73DqAAAAAXRSTlMAQObYZgAAAyBJREFU\n",
       "SMe1VUtIVFEY/macOzN3nhcUWrhQbNFr0UQFUoSziSAKh4KigpQ2roqb9NgE2sPAgry0qBBSM0Sm\n",
       "oqaFFHMRh4IIhBzatDLHoLI2amalonbed5xKFzYX7p3/nPPP//2v7z9AMZ/bJxNFtY9HoYmi2vea\n",
       "en1RAfzx4iYIFfvfGUAku2pDWu7v+0P1oUpgsHD7RZ5MFeijP6+UW8cWbXuHsnh35/nEGlz4w/bb\n",
       "B7/WmhU5fAeShWdP8uSA7IJASu1dBnwLsowtwOcWBAptvFnArflUNIN5hAszpG22nMWBGSFEVb1C\n",
       "8+SdE4F1E13vJLSCZtGCpP9rU4E4FuC3CgDKmgwlu/ZMCmlcqYXJlvZDxNVKPpFm6M0iYd1VG+nv\n",
       "ET/5+FKeVKQSXwujy444JQuHZS5OqL0SYszdyuUmGpfLBLbx4HqEG2Y5DS+Lww0WzlGV/lMX5f8j\n",
       "Vq1D7y+eaSE9HO6TyUrBdZ8bcs2yPGWABrYuFfZ185PjcA95x4wSRekODKmq6DmacCZNgVSM917/\n",
       "cKNwwSfhsZd9t8gy1e92AG4QR6bhi8l1DhWmigaun1zyzMAvCjliQN/ERbesEMaYFzEF8NEBIEkO\n",
       "TsAtvQ7Z9oACG7TtKeFrF6ICt5qC8BCiLG6dhsX8uVRVxYqsx14tAYjG0JlRTsPf5USDa8JXE+Mi\n",
       "L7RD63g0fgawTwKEFFeSQQfgChkZWdRC1Ie0hVv0HDzkXa9o0MQ1QjTvA5wVQcYSU6VIsf0QA+B/\n",
       "2A50xpH2ZHTWF3HOXnZWxmlND0iFrzKB0YB2jyU4By+VjjJbfaqVj5OURzYwmTRYIOFZ50UnxW+n\n",
       "pzPQv1GHaKpqLHYQjPtSXIPS4HWSa6AujshpYYU8NxWD7F1Wx1YewQdKg/cv3+MOca207R60mllT\n",
       "bzPgqp41cHCxlx3o/WfBBF/NnJ0mrU01SAjpZ2eYlcecF72ylKHGxesCza8Gw2genSNG3mJ0RQ05\n",
       "KjxpPiqWzCU1p/LvZy1fJbGihne5OyX5HwDal7uOyuVgWzLx8uQwVtLA0+UAXKu/MsOZf5/9Bit4\n",
       "1Rz2Sw4iAAAAAElFTkSuQmCC\n",
       "\" style=\"display:inline;vertical-align:middle;\" /></a></td></tr>\n",
       "<tr><td>1</td><td>Literal</td><td></td><td><a class=\"ProveItLink\" href=\"../../../../logic/set_theory/membership/__pv_it/088cbc857536a28d4119ad9639a84270ccb0545d0/expr.ipynb\"><img src=\"data:image/png;base64,iVBORw0KGgoAAAANSUhEUgAAAAwAAAAMBAMAAACkW0HUAAAALVBMVEX///+qqqpmZmZUVFQQEBC6\n",
       "urpERETc3NyYmJjMzMwiIiIyMjKIiIju7u4AAACYsrA9AAAAAXRSTlMAQObYZgAAADxJREFUCNdj\n",
       "YOA9vWrVBgaG2b0MQMCeCyIZ2ArA1DUwyRCyahVIyWQI7xaEYm4AU7xLIdxqTQgtvGvVBgCkcQ7e\n",
       "geM/tQAAAABJRU5ErkJggg==\n",
       "\" style=\"display:inline;vertical-align:middle;\" /></a></td></tr>\n",
       "<tr><td>2</td><td>ExprTuple</td><td>3, 4</td><td><a class=\"ProveItLink\" href=\"../f09549f42a6e479c1c93ebe7140af3bf4f57a7630/expr.ipynb\"><img src=\"data:image/png;base64,iVBORw0KGgoAAAANSUhEUgAAAMQAAAAcBAMAAADM5Q0aAAAAMFBMVEX///+qqqp2dnYiIiJERESI\n",
       "iIhmZmYQEBDc3NyYmJgyMjLu7u5UVFTMzMy6uroAAACGxKilAAAAAXRSTlMAQObYZgAAA3xJREFU\n",
       "SMe9VkloE1EY/pI0ySST7aKgIA2IHsWDqKBiBaUohQZK9SI6Kogi0ioe3LBTKB6k0KjFg4otKEWt\n",
       "SxBU6MHmYF3CgEEFL8UGBVsVbF2qbdPF/22TScxN44OZ97/3/v99/z4DVG48WJJEhcft8JikvlQI\n",
       "wW3occQZFU5XCMIfo9cgo/pSFYLomLfVhDdB1HN6Iom/vjCQK90ZioeXA6sBrVmZ4xyvHDRjZEN/\n",
       "ulxtXZ6zrC32nffr9iZP46BDpOHmrxVGRw5fge2Az6Ct3lKIuw46qPIiWIjaERKcVWE9Bnw4hmBB\n",
       "4u0s7o2no1mMA/0p+EkZb6mfAusdATqfl0Q0ZhtGsuFpadxV4nVPIBC3pUNUD9XpYAykhSeJIRb7\n",
       "0oi3Npk2rc2fkNSozealrcA3adsJFsxm6M3q9JKfXr60Kx0hz/pqsI2Wn0r9lNhZCJ7Xqzyy2N6r\n",
       "ous8JwTdxGzTyN0b1KnRzoxL4MJS0ikwhgwtdzOmgWVHFU8kVV0o/c+uSUndanyuXJaGdk3YpE1x\n",
       "b2WBpfJQN945tI3kUUfTDXqGzSoVVjzCkB0dPcccz6kfoAiKfBxo3COV8CkFsFAFKr7AmY8z6KHp\n",
       "FCkzybwmRw4dhq0FtJ+CcuXhlyHdaUJfK0iPihSGbYiPDghtFitpImeHxuBRmoct64UNN2hZP6S+\n",
       "3YhK5FoGI8yIctt1Zpqyu+alA0L/qiCiNejP2orD312wCMelvgZGpXdYvnYJi/wcYpEDAr2hYitu\n",
       "0XSIGkoC1ZBJSSniURnoomeVXRZNgiPM/P9CVEmIV43hcBTOcQh5mTaDxzRtpiKMIePK6nwzJiqa\n",
       "87SKUmcHFOvDnOBlwTJJl1UIN+O9qC6uukIuj6yRLplAA3i6BZOulW70sy7Ux7jy0L8zTzKH1af4\n",
       "QSjmSwsOVhZvqOnwRVcMkX0QtwghWJtSjzZKK6guRml6z8pix+sdeEjqtbVcR6B+ytBbTGi1UyY6\n",
       "53r4gT6wH5zw1U9bGZbobIFw5skuftkdBtHC2kJ4z9xJVbvubp7qfrtdjDiLxnQsRspxFC1EAykS\n",
       "4v0lgRAlRqGDOb/nASdnshxH0cKd+EOIjX5TfA16/wFEH8pCdEJ0r3bV8op6oYP2ohxH0eLZH0J8\n",
       "rKPnDMvTv/+werPlv7esYlzxSv5LtfH32UpCHMD/GL8BQvTy5VagsDwAAAAASUVORK5CYII=\n",
       "\" style=\"display:inline;vertical-align:middle;\" /></a></td></tr>\n",
       "<tr><td>3</td><td>ExprTuple</td><td>5, 6, 6, 7, 8, 9</td><td><a class=\"ProveItLink\" href=\"../4a347ac74ec67b086f7722f35820c6e1635b31f40/expr.ipynb\"><img src=\"data:image/png;base64,iVBORw0KGgoAAAANSUhEUgAAAI4AAAAVBAMAAABicsu7AAAAMFBMVEX////c3NwiIiJERESqqqqY\n",
       "mJh2dnZmZmYQEBDu7u4yMjJUVFTMzMyIiIi6uroAAAAs73DqAAAAAXRSTlMAQObYZgAAAl1JREFU\n",
       "OMutVD1oU1EYPUnzXvLy1wcWBB3SRepmBoWKQ7MJIuShm0uzdZOIoqBCotiCHezDSSyaKoioUBUF\n",
       "oY/SoGOHZOsgtqmL1alRoySp1vvz3duXR7YYSHK+89177vd3L/C/Pun6wBJGg/2sBtn3Ppwclf/z\n",
       "N/Wela73ZlEveHDiirMf1xl6FtR56cPxbQIvNBXLAqUGGeY08GUacSAVTMs44u4ZZ9oEfmqqxjbU\n",
       "XklsPWZrzSaMAmJuQGekZGscOtmkIrY1t8HckwUK9zb3lWGV8S2YVn2joXEq9ZfiH9XcOPsepsNL\n",
       "OX5YETiKyxwtn7+h2+fmHb3na6RFBy9/VGwXOHCcwu2I5KrAFJ4wtGUPqXrioSgApd9I/pGoksUO\n",
       "dbD7ae0Q+aMttfIU7jDZFqJZxTSQKerYEPotUd7FDKXKKnaXyhxuqpVbYAVIbCOsYkh63orWXPW8\n",
       "HxJdBUhxqMy0KI5hkYXFm8h1hrOoVHUIiC3sxYZZicaQVntZLMYvGiWhc1ro3AIydeRBHWANCJdJ\n",
       "JsI7o8YnSp2vsXonaJoSgiuKvI6xIuawFKlaogM5OcNCdUQON3fsIFaQJB+fzIJcIbpgcnSOdQxx\n",
       "JzJmosJH5D6vQBvWd543z2/CFY63uCZJPj7JWZeMyRzSFziYwmc+Pusf1nGPFX/f3CMYE52iNWcj\n",
       "NN6xcXb3qXDMrzngJC7uet5zlpowkFx6d0lkuIiYvgWb/sfE9hmb/cgeg90Lo6AMx39Z/TfF6Uf2\n",
       "GGbd924MoMPLelDdyZ7L6sOpfmSv8Zq3evB3NVXFPyt6pV77FNAOAAAAAElFTkSuQmCC\n",
       "\" style=\"display:inline;vertical-align:middle;\" /></a></td></tr>\n",
       "<tr><td>4</td><td>Operation</td><td>operator:&nbsp;10<br>operands:&nbsp;11<br></td><td><a class=\"ProveItLink\" href=\"../caa58a6d37528bfa4e8e607325cf0a3bdcd3bb190/expr.ipynb\"><img src=\"data:image/png;base64,iVBORw0KGgoAAAANSUhEUgAAABcAAAAUBAMAAACUkLs9AAAAMFBMVEX////c3NyqqqqYmJhUVFR2\n",
       "dnbu7u66urrMzMxmZmZEREQQEBAyMjIiIiKIiIgAAAB7fvZ0AAAAAXRSTlMAQObYZgAAAJpJREFU\n",
       "GNNjYIACtqmPGeCAp6EfwYlkSEVwNiGYDIyf3k2Eczi+MvSCaL475/euZPzOwK8AFKsvYIt/wvCD\n",
       "gf8BA4OBMwMD0xeGQwz8BQzMCRuASqcwqDDUMjBwMjoAOXkMzFOnMTBksgcgLGhlMkDisCNxsjiQ\n",
       "lPEkOCA4zAEgDhuUt7gOSNQmQDgsXs/YqpbBFHbe/+0OYQEA3N0ih75gypAAAAAASUVORK5CYII=\n",
       "\" style=\"display:inline;vertical-align:middle;\" /></a></td></tr>\n",
       "<tr><td>5</td><td>Variable</td><td></td><td><a class=\"ProveItLink\" href=\"../../../../__pv_it/07527342713064c87612d00d8557c53d53d5324a0/expr.ipynb\"><img src=\"data:image/png;base64,iVBORw0KGgoAAAANSUhEUgAAAAsAAAAJBAMAAAAWSsseAAAAMFBMVEX///8yMjKqqqrMzMzu7u4i\n",
       "IiJmZmaYmJhEREQQEBC6urp2dnaIiIhUVFTc3NwAAAD87Fq/AAAAAXRSTlMAQObYZgAAAEhJREFU\n",
       "CNdjYOC7s2seAwPDygccHxgY+L4zsDUwMPB+YGA9wMDA38Dgb8DA8P4Agz6DA4O/AsNFJgMGxgKm\n",
       "MG6gyjunLE4xAAAZTBA5TB6DCwAAAABJRU5ErkJggg==\n",
       "\" style=\"display:inline;vertical-align:middle;\" /></a></td></tr>\n",
       "<tr><td>6</td><td>Variable</td><td></td><td><a class=\"ProveItLink\" href=\"../../../../__pv_it/2cbe72a7ad6f655694dd697106680215e8489b600/expr.ipynb\"><img src=\"data:image/png;base64,iVBORw0KGgoAAAANSUhEUgAAAA8AAAAOBAMAAAACpFvcAAAALVBMVEX///8QEBBERERUVFS6urqI\n",
       "iIhmZmaqqqrc3Nzu7u6YmJgyMjIiIiLMzMwAAADtIaYWAAAAAXRSTlMAQObYZgAAAFtJREFUCNdj\n",
       "YACBOwxQsA9Kc52bAGG05zVAGAFxDmCaZULdAjBjCsO9ADDDgaEvAUTzGhvbKYCVMDAwbgAxChgY\n",
       "eASANAeQwf0AyJgNxEwvGRia5HYwcOm9TgAA6BoR3jrzwFcAAAAASUVORK5CYII=\n",
       "\" style=\"display:inline;vertical-align:middle;\" /></a></td></tr>\n",
       "<tr><td>7</td><td>Variable</td><td></td><td><a class=\"ProveItLink\" href=\"../../../../__pv_it/6840a4fa6c106149dc16a131294d0c5e44f1b0480/expr.ipynb\"><img src=\"data:image/png;base64,iVBORw0KGgoAAAANSUhEUgAAAAkAAAAOBAMAAAAPuiubAAAALVBMVEX///9mZmbMzMxERESYmJiI\n",
       "iIh2dna6urqqqqoyMjIiIiIQEBBUVFTu7u4AAAD9S1JeAAAAAXRSTlMAQObYZgAAAE1JREFUCNdj\n",
       "4D29gAEIOA+ASL4GEFl3AURmgQiGOaFHGBh4HzPwKTBwvGXgTmBgnMDAJ8DAJcBQ5wBSLncBJLWN\n",
       "gYGngRFoBO9REQYGAGrcDtUkVqASAAAAAElFTkSuQmCC\n",
       "\" style=\"display:inline;vertical-align:middle;\" /></a></td></tr>\n",
       "<tr><td>8</td><td>Variable</td><td></td><td><a class=\"ProveItLink\" href=\"../../../../__pv_it/077b2ff79244fb4582cbe22c6e3356fa92a52f2f0/expr.ipynb\"><img src=\"data:image/png;base64,iVBORw0KGgoAAAANSUhEUgAAABAAAAAOBAMAAADUAYG5AAAAMFBMVEX///+qqqru7u4iIiJ2dnbc\n",
       "3NyIiIjMzMxmZmYQEBC6uroyMjJERERUVFSYmJgAAADLUcuvAAAAAXRSTlMAQObYZgAAAGpJREFU\n",
       "CNdjYGB4+//u3dMLGIBgDgMDxy8gzf4NiP8CGWxfGRj4vgAZPBMYGJgnARn8FxhY9ygAGfXX0pof\n",
       "gDTlBzAw2YIYJ0EckBBI53sHoBH/gIz7AhBjWH9DjancBLTl/N+7t/cxMAAA3u4f/5xagjYAAAAA\n",
       "SUVORK5CYII=\n",
       "\" style=\"display:inline;vertical-align:middle;\" /></a></td></tr>\n",
       "<tr><td>9</td><td>Variable</td><td></td><td><a class=\"ProveItLink\" href=\"../../../../__pv_it/985a1bdf1540838275dec15f4ad6de261cca93ce0/expr.ipynb\"><img src=\"data:image/png;base64,iVBORw0KGgoAAAANSUhEUgAAAA8AAAAOBAMAAAACpFvcAAAAMFBMVEX////MzMyqqqoiIiIyMjK6\n",
       "uroQEBB2dnbc3NyYmJhmZmZUVFRERESIiIju7u4AAAB204erAAAAAXRSTlMAQObYZgAAAGZJREFU\n",
       "CNdjYGDgu7NrJccCBgaGsgkMrMsmMDA8sQNy6hsYGNweABlhDAxcn4A0QxcDQ78DiPGQgWH9BAYI\n",
       "sG+AMv6DSaCGfBDNJMDAsB+kmwuI5S8AiTog5gSaEwXWIO29SgFIAQBC+RaDQlidVgAAAABJRU5E\n",
       "rkJggg==\n",
       "\" style=\"display:inline;vertical-align:middle;\" /></a></td></tr>\n",
       "<tr><td>10</td><td>Literal</td><td></td><td><a class=\"ProveItLink\" href=\"../../../exponentiation/__pv_it/deb2bf23cbccdd6e6791e1b35b5b9794ce12dbd50/expr.ipynb\"><img src=\"data:image/png;base64,iVBORw0KGgoAAAANSUhEUgAAACgAAAASBAMAAADbMYGVAAAAMFBMVEX///8QEBAiIiKYmJjc3Nzu\n",
       "7u7MzMx2dnZmZma6urpERESqqqoyMjJUVFSIiIgAAAAoDOMTAAAAAXRSTlMAQObYZgAAAOBJREFU\n",
       "GNNjYGB4+//u3Tt/GNAASGAXmhjnPyDBgSbI/g1IxKEJ8nxgYGdgQRPkX8BgDKRY6q7s62OYvmze\n",
       "2wAgb/7ZO1+AVDiDkYEQQ0HTBr4DQF59AgOIKmB4z7CNbcNZBu6vQN55kEACQwDDLQYGVobfDHwg\n",
       "fb8YGBxYHwAZciD3fWXg+gB1JjvQcJZvQIXsCgz8F6DO9GBgMOH7wPCUgaeBwd4B7EwGNjUG7s9c\n",
       "AiwPgO5jkWRgiF3/9+5dfQUG1nWl5Y+B7pv+1gE9bBhqGLCAE1jEWH9jEbT5A3IwAC4sP/1L6Qlu\n",
       "AAAAAElFTkSuQmCC\n",
       "\" style=\"display:inline;vertical-align:middle;\" /></a></td></tr>\n",
       "<tr><td>11</td><td>ExprTuple</td><td>12, 13</td><td><a class=\"ProveItLink\" href=\"../e291b8cc1d145060c3954e47279c1a346a2a8f2d0/expr.ipynb\"><img src=\"data:image/png;base64,iVBORw0KGgoAAAANSUhEUgAAAC8AAAAVBAMAAAAk6KpUAAAAMFBMVEX////c3NwiIiJERESqqqqY\n",
       "mJh2dnZmZmYQEBDu7u4yMjJUVFTMzMyIiIi6uroAAAAs73DqAAAAAXRSTlMAQObYZgAAASpJREFU\n",
       "KM91kb9Lw0AUxz/RxjY2De4uLi4iCEIRt/wHZnLUbC5KnbpkKaKrHAjaRcwiqItFcRUnHUToJqJD\n",
       "rZsg/phEQX2XkyRQPbjHu+/n7n3v3cG/w2v3anM6XMqsjB2uTP2Km/VFimeS7IP73HFqt0a3xjmC\n",
       "WDZLpeAECp8G9IUcwCyUFLZqiBIZMK90bMIjFK2W5NsG7CWx36cOW16YXejj6tqHgWV24bwQpLrz\n",
       "FjAqjjHrArwc+IaawmvwBRtumDsh/j7uiwaDqpXzENDWYBXsUAPHgMnkhJSqyqL6JKGrEjSTeNgx\n",
       "C7IoH984D9PsjOgOQmctuW5Xb7uYeD+Vdl91HkUdse1QGsqM79OsqZ0zkLWzZJ69Bzjy7AyneiXN\n",
       "yrq+9cfX3sEPlLVIbOnCRWQAAAAASUVORK5CYII=\n",
       "\" style=\"display:inline;vertical-align:middle;\" /></a></td></tr>\n",
       "<tr><td>12</td><td>Literal</td><td></td><td><a class=\"ProveItLink\" href=\"../../../sets/complex/__pv_it/c357845f93a5a2d9f649129d299e7ec28dda4b960/expr.ipynb\"><img src=\"data:image/png;base64,iVBORw0KGgoAAAANSUhEUgAAAA8AAAAOBAMAAAACpFvcAAAAMFBMVEX////c3NyqqqqYmJhUVFR2\n",
       "dnbu7u66urrMzMxmZmZEREQQEBAyMjIiIiKIiIgAAAB7fvZ0AAAAAXRSTlMAQObYZgAAAGVJREFU\n",
       "CNdjYGDgu3N+70oGBgaO+gK2+CdAhoEzAwPTFwYG5oQNQN4UBgZORgcgI4+BIZM9gAEMWpkMoAx2\n",
       "KCOLAyrFk+AAYTAHgBhsQLy4DkjUJjAwsHg9Y6taBpLsvP/bnYEBACkBFGQfBv8RAAAAAElFTkSu\n",
       "QmCC\n",
       "\" style=\"display:inline;vertical-align:middle;\" /></a></td></tr>\n",
       "<tr><td>13</td><td>Literal</td><td></td><td><a class=\"ProveItLink\" href=\"../../../numeral/__pv_it/09b499e53e24cf89c2513ba78b501f0314edaa680/expr.ipynb\"><img src=\"data:image/png;base64,iVBORw0KGgoAAAANSUhEUgAAAAoAAAAOBAMAAADkjZCYAAAAMFBMVEX///+6urpERESqqqqIiIgQ\n",
       "EBCYmJgyMjJUVFQiIiLc3NzMzMxmZmZ2dnbu7u4AAABf+mkYAAAAAXRSTlMAQObYZgAAAFNJREFU\n",
       "CNdjYOC7c3cDA8PKDRwTGBjmMrAXMLD9YwAC9gAQyV/tcpiB4f00Bs4EhvcfGHj/MbyfwMD2mYEf\n",
       "qOwLAxOYzQwWZ9BleJrAwMDT08gAANMyF0ZGTeKAAAAAAElFTkSuQmCC\n",
       "\" style=\"display:inline;vertical-align:middle;\" /></a></td></tr>\n",
       "</table>\n"
      ],
      "text/plain": [
       "0. (a , A , A , b , B , C) in Complexes^{6}\n",
       "   core type: Operation\n",
       "   operator: 1\n",
       "   operands: 2\n",
       "1. in\n",
       "   core type: Literal\n",
       "   sub-expressions: \n",
       "2. ((a , A , A , b , B , C) , Complexes^{6})\n",
       "   core type: ExprTuple\n",
       "   sub-expressions: 3, 4\n",
       "3. (a , A , A , b , B , C)\n",
       "   core type: ExprTuple\n",
       "   sub-expressions: 5, 6, 6, 7, 8, 9\n",
       "4. Complexes^{6}\n",
       "   core type: Operation\n",
       "   operator: 10\n",
       "   operands: 11\n",
       "5. a\n",
       "   core type: Variable\n",
       "   sub-expressions: \n",
       "6. A\n",
       "   core type: Variable\n",
       "   sub-expressions: \n",
       "7. b\n",
       "   core type: Variable\n",
       "   sub-expressions: \n",
       "8. B\n",
       "   core type: Variable\n",
       "   sub-expressions: \n",
       "9. C\n",
       "   core type: Variable\n",
       "   sub-expressions: \n",
       "10. Exp\n",
       "    core type: Literal\n",
       "    sub-expressions: \n",
       "11. (Complexes , 6)\n",
       "    core type: ExprTuple\n",
       "    sub-expressions: 12, 13\n",
       "12. Complexes\n",
       "    core type: Literal\n",
       "    sub-expressions: \n",
       "13. 6\n",
       "    core type: Literal\n",
       "    sub-expressions: "
      ]
     },
     "execution_count": 4,
     "metadata": {},
     "output_type": "execute_result"
    }
   ],
   "source": [
    "# display the expression information\n",
    "expr.exprInfo()"
   ]
  },
  {
   "cell_type": "code",
   "execution_count": null,
   "metadata": {},
   "outputs": [],
   "source": []
  }
 ],
 "metadata": {
  "kernelspec": {
   "display_name": "Python 3",
   "language": "python",
   "name": "python3"
  }
 },
 "nbformat": 4,
 "nbformat_minor": 0
}
