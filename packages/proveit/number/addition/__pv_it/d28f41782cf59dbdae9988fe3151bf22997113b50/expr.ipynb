{
 "cells": [
  {
   "cell_type": "markdown",
   "metadata": {},
   "source": [
    "Expression of type <a class=\"ProveItLink\" href=\"../../../../../../doc/html/api/proveit.number.Add.html\">Add</a>\n",
    "=======================\n",
    "# from context <a class=\"ProveItLink\" href=\"../../_context_.ipynb\">proveit.number.addition</a>"
   ]
  },
  {
   "cell_type": "code",
   "execution_count": 1,
   "metadata": {},
   "outputs": [],
   "source": [
    "# import Expression classes needed to build the expression\n",
    "from proveit._common_ import A, B, C, a, b, c\n",
    "from proveit.number import Add, one, three"
   ]
  },
  {
   "cell_type": "code",
   "execution_count": 2,
   "metadata": {},
   "outputs": [
    {
     "data": {
      "text/html": [
       "<strong id=\"expr\">expr:</strong> <a class=\"ProveItLink\" href=\"expr.ipynb\"><img src=\"data:image/png;base64,iVBORw0KGgoAAAANSUhEUgAAAWEAAAAQBAMAAAA12NM0AAAAMFBMVEX///8yMjKqqqrMzMzu7u4i\n",
       "IiJmZmaYmJhEREQQEBC6urp2dnaIiIhUVFTc3NwAAAD87Fq/AAAAAXRSTlMAQObYZgAAAs1JREFU\n",
       "SMellT9oE3EUx1/u0vy5JJfeoKAQzeRUiIugSOkVEUSIySCVTk2X1iKSWwQ3M3TplGZwUTEZRCg4\n",
       "ODioHZpBqpRIo4M49MhZQdzyp7ER2xjvLonJe3fp79CDHJfv7/N+v++9e7/3A7C/+KSNeI78j9+n\n",
       "hLfSVj+fpKr73adFMUXEZWBeFOHXX0ZHwq6ajXiaChEL4s8ApAtEfKWAsKRg7UqTadiCfAPhEKdC\n",
       "Gzzf6dPXhhI4JxOwYYmcKuq/Mhanr+u3DQ2JcbVpsyoD2YjCD4Ryxb+P4pnfvaeJwfhuWsOg0LRE\n",
       "buvIvedYPGG86Bohg9ZYYCGxIxwHg7+sjovbBQwGkpbIFf03KyPR0+h+0f93DN2qEHdeP7bEPuFa\n",
       "FseCHFMw6Np5r5DINsCXZUxVx437JZYd93rpLNOxyyi4Nc1XowPuAn9ocXzVLNJhMJGBPRzJt0ub\n",
       "N8g6acVRAi8UXEmW44vGVhdb4MlYkg/ivsVxAaopUlcyPCSL6OV/uYypOc2JY/cj8CnMHAcfAIRq\n",
       "MFakA5Oq+pM65lW1Ql5tHmAfR/pW9VlbmOqYd5nhOFRzUseQlyGcgYRRPx5JOpaTpHIvnZAzLUnS\n",
       "rCRFenkH/zgGZ0Bo4ciwfvceYCpvLkrX6NoZKOFuNo5C4CtAVoFqEWKANzdwxoanOdZPm7FV/M4N\n",
       "8DRx5JT+YUMNTFWM2T2sBFaL7MLpyIbjRBQ+cGST7g6db33HYnRwEPbBPfCT1mu0425vGIjmfn3B\n",
       "shPW35VVx3VzU7gUbiZA+oyxZFbGjqeNKm1i8CPcJj70dsznSMl69Zw/1ViOQykIsLrbWxAOjHa8\n",
       "dX4LDYgrdQ3udo4jx9/zp8CbrafQDPFN0qBvdlRVUqi5ychClH5yz1J9ESu3Sm9YCLcwHx115g2u\n",
       "CRtt9DH1D6KDyWxnMruB3cAzJ6BtpEPRwWRI+QPzQxzFKC/y4AAAAABJRU5ErkJggg==\n",
       "\" style=\"display:inline;vertical-align:middle;\" /></a><br>"
      ],
      "text/plain": [
       "expr: a + A + A + b + B + C + 1 + c + 1 + 3"
      ]
     },
     "execution_count": 2,
     "metadata": {},
     "output_type": "execute_result"
    }
   ],
   "source": [
    "# build up the expression from sub-expressions\n",
    "expr = Add(a, A, A, b, B, C, one, c, one, three)"
   ]
  },
  {
   "cell_type": "code",
   "execution_count": 3,
   "metadata": {},
   "outputs": [
    {
     "name": "stdout",
     "output_type": "stream",
     "text": [
      "Passed sanity check: built 'expr' is the same as the stored Expression.\n"
     ]
    }
   ],
   "source": [
    "# check that the built expression is the same as the stored expression\n",
    "%check_expr"
   ]
  },
  {
   "cell_type": "code",
   "execution_count": 4,
   "metadata": {},
   "outputs": [
    {
     "data": {
      "text/html": [
       "<table><tr><th>&nbsp;</th><th>core type</th><th>sub-expressions</th><th>expression</th></tr>\n",
       "<tr><td>0</td><td>Operation</td><td>operator:&nbsp;1<br>operands:&nbsp;2<br></td><td><a class=\"ProveItLink\" href=\"expr.ipynb\"><img src=\"data:image/png;base64,iVBORw0KGgoAAAANSUhEUgAAAWEAAAAQBAMAAAA12NM0AAAAMFBMVEX///8yMjKqqqrMzMzu7u4i\n",
       "IiJmZmaYmJhEREQQEBC6urp2dnaIiIhUVFTc3NwAAAD87Fq/AAAAAXRSTlMAQObYZgAAAs1JREFU\n",
       "SMellT9oE3EUx1/u0vy5JJfeoKAQzeRUiIugSOkVEUSIySCVTk2X1iKSWwQ3M3TplGZwUTEZRCg4\n",
       "ODioHZpBqpRIo4M49MhZQdzyp7ER2xjvLonJe3fp79CDHJfv7/N+v++9e7/3A7C/+KSNeI78j9+n\n",
       "hLfSVj+fpKr73adFMUXEZWBeFOHXX0ZHwq6ajXiaChEL4s8ApAtEfKWAsKRg7UqTadiCfAPhEKdC\n",
       "Gzzf6dPXhhI4JxOwYYmcKuq/Mhanr+u3DQ2JcbVpsyoD2YjCD4Ryxb+P4pnfvaeJwfhuWsOg0LRE\n",
       "buvIvedYPGG86Bohg9ZYYCGxIxwHg7+sjovbBQwGkpbIFf03KyPR0+h+0f93DN2qEHdeP7bEPuFa\n",
       "FseCHFMw6Np5r5DINsCXZUxVx437JZYd93rpLNOxyyi4Nc1XowPuAn9ocXzVLNJhMJGBPRzJt0ub\n",
       "N8g6acVRAi8UXEmW44vGVhdb4MlYkg/ivsVxAaopUlcyPCSL6OV/uYypOc2JY/cj8CnMHAcfAIRq\n",
       "MFakA5Oq+pM65lW1Ql5tHmAfR/pW9VlbmOqYd5nhOFRzUseQlyGcgYRRPx5JOpaTpHIvnZAzLUnS\n",
       "rCRFenkH/zgGZ0Bo4ciwfvceYCpvLkrX6NoZKOFuNo5C4CtAVoFqEWKANzdwxoanOdZPm7FV/M4N\n",
       "8DRx5JT+YUMNTFWM2T2sBFaL7MLpyIbjRBQ+cGST7g6db33HYnRwEPbBPfCT1mu0425vGIjmfn3B\n",
       "shPW35VVx3VzU7gUbiZA+oyxZFbGjqeNKm1i8CPcJj70dsznSMl69Zw/1ViOQykIsLrbWxAOjHa8\n",
       "dX4LDYgrdQ3udo4jx9/zp8CbrafQDPFN0qBvdlRVUqi5ychClH5yz1J9ESu3Sm9YCLcwHx115g2u\n",
       "CRtt9DH1D6KDyWxnMruB3cAzJ6BtpEPRwWRI+QPzQxzFKC/y4AAAAABJRU5ErkJggg==\n",
       "\" style=\"display:inline;vertical-align:middle;\" /></a></td></tr>\n",
       "<tr><td>1</td><td>Literal</td><td></td><td><a class=\"ProveItLink\" href=\"../3e6688136fa3c7aefbebe51301b7c3ebf0b69c440/expr.ipynb\"><img src=\"data:image/png;base64,iVBORw0KGgoAAAANSUhEUgAAAA4AAAAOBAMAAADtZjDiAAAAJFBMVEX///+6urpUVFQQEBAiIiIy\n",
       "MjJmZmaIiIiqqqrc3Nzu7u4AAACgHpL+AAAAAXRSTlMAQObYZgAAAB5JREFUCNdjYGBgWMkAAe2k\n",
       "0Kmhoc6hoUGk6BMHYgAHOwjcado9fwAAAABJRU5ErkJggg==\n",
       "\" style=\"display:inline;vertical-align:middle;\" /></a></td></tr>\n",
       "<tr><td>2</td><td>ExprTuple</td><td>3, 4, 4, 5, 6, 7, 9, 8, 9, 10</td><td><a class=\"ProveItLink\" href=\"../a36e53705a00d87d37919741d078f988465f88670/expr.ipynb\"><img src=\"data:image/png;base64,iVBORw0KGgoAAAANSUhEUgAAANkAAAAVBAMAAAA5ulaKAAAAMFBMVEX////c3NwiIiJERESqqqqY\n",
       "mJh2dnZmZmYQEBDu7u4yMjJUVFTMzMyIiIi6uroAAAAs73DqAAAAAXRSTlMAQObYZgAAAwFJREFU\n",
       "SMe9Vk1IVFEU/t78P+fNDyS4KNCdQQtnE0gt5u3aBD4K2gQpBLaqpggFW9ifgUHOW0pSTkWItMhF\n",
       "EPgQh4IQXDibiCh1bNPParQ0/Cm759773jzvPGiVAzPvu98993z3nHvOfQPs7ydd2Sehc/Qzr7Kv\n",
       "fdhoE8+xWx51dtdxjlXd0cPj/VaLgGG7QcCljN7zJuJlhiZVkxc+3FST4Hmduw3E/0gcGwK+DHGo\n",
       "5xvUPKoF6d9ACUipiYx2+Fad2pTgZz1cts7Ylu6eMNvYKofOrKpWpy6bWAPOAAnVpnkw62HtxKo8\n",
       "3E2PSzEquiFDH6a5G2Kw3JhJl+riaqPAd9Wislyte07JlMXa6mfBnIeGBR40aUuFf6qBZzJsoo/s\n",
       "Zy7d9Gi7y/Ksv0XWZRAzH102MwXtqfCibfGElRXXeu+iSqFpim25gGcMfs2G3WrAIyx4J6lX6ZDo\n",
       "M57DjiQXZhavSuX4emAgc9WmNoV6S1UWKWGEbXEd8Zy7porWghcntF8y8Tbuuk6z0I8IGFoNUtPv\n",
       "I2ypsaVG+AGzg0nWEHLjMRxn1lOed5wfAg0AUhed5EV4y/CM6IpashZwbijaMGqklslhvOyFg0Sp\n",
       "HifuCdSOtJs1Kv7uHg4T3O9JxXUm16B2CMhbpHYHaK2gC5JnRRaSFY0I+x522y0ue8Ag1VlTRMG5\n",
       "guK6taKq6bs2qbFMHmUlYGI6UuYJ0Uxxf3CrZnGx0MQOEj2CpHajWrRloyNmy1ySa2IzLM3WXorZ\n",
       "d2QRLeECc29F2mMYpzp6QA21CX2NdkQZZXcPTbzEdUHydpublINuE+krEEvJNWeTBcTKe6l3SG/w\n",
       "DvhM7bb0ZgmjbNMHio8RzW8V9GIWWudWFqd3J/jE2HsLRCKe33amWdfwAYzpV9fYgyzQX5ywBNu3\n",
       "+EGhIv0DlLQqEt49teJ/DWV9g5UgMtDCxwZQ7OaK9rgDy381+xvJCiIDLXxsAHXR/8b532q8Dg66\n",
       "3b7navbhVBAZbFFnA6gkpVTbr38Kn4C/KMr3CjdgOIEAAAAASUVORK5CYII=\n",
       "\" style=\"display:inline;vertical-align:middle;\" /></a></td></tr>\n",
       "<tr><td>3</td><td>Variable</td><td></td><td><a class=\"ProveItLink\" href=\"../../../../__pv_it/07527342713064c87612d00d8557c53d53d5324a0/expr.ipynb\"><img src=\"data:image/png;base64,iVBORw0KGgoAAAANSUhEUgAAAAsAAAAJBAMAAAAWSsseAAAAMFBMVEX///8yMjKqqqrMzMzu7u4i\n",
       "IiJmZmaYmJhEREQQEBC6urp2dnaIiIhUVFTc3NwAAAD87Fq/AAAAAXRSTlMAQObYZgAAAEhJREFU\n",
       "CNdjYOC7s2seAwPDygccHxgY+L4zsDUwMPB+YGA9wMDA38Dgb8DA8P4Agz6DA4O/AsNFJgMGxgKm\n",
       "MG6gyjunLE4xAAAZTBA5TB6DCwAAAABJRU5ErkJggg==\n",
       "\" style=\"display:inline;vertical-align:middle;\" /></a></td></tr>\n",
       "<tr><td>4</td><td>Variable</td><td></td><td><a class=\"ProveItLink\" href=\"../../../../__pv_it/2cbe72a7ad6f655694dd697106680215e8489b600/expr.ipynb\"><img src=\"data:image/png;base64,iVBORw0KGgoAAAANSUhEUgAAAA8AAAAOBAMAAAACpFvcAAAALVBMVEX///8QEBBERERUVFS6urqI\n",
       "iIhmZmaqqqrc3Nzu7u6YmJgyMjIiIiLMzMwAAADtIaYWAAAAAXRSTlMAQObYZgAAAFtJREFUCNdj\n",
       "YACBOwxQsA9Kc52bAGG05zVAGAFxDmCaZULdAjBjCsO9ADDDgaEvAUTzGhvbKYCVMDAwbgAxChgY\n",
       "eASANAeQwf0AyJgNxEwvGRia5HYwcOm9TgAA6BoR3jrzwFcAAAAASUVORK5CYII=\n",
       "\" style=\"display:inline;vertical-align:middle;\" /></a></td></tr>\n",
       "<tr><td>5</td><td>Variable</td><td></td><td><a class=\"ProveItLink\" href=\"../../../../__pv_it/6840a4fa6c106149dc16a131294d0c5e44f1b0480/expr.ipynb\"><img src=\"data:image/png;base64,iVBORw0KGgoAAAANSUhEUgAAAAkAAAAOBAMAAAAPuiubAAAALVBMVEX///9mZmbMzMxERESYmJiI\n",
       "iIh2dna6urqqqqoyMjIiIiIQEBBUVFTu7u4AAAD9S1JeAAAAAXRSTlMAQObYZgAAAE1JREFUCNdj\n",
       "4D29gAEIOA+ASL4GEFl3AURmgQiGOaFHGBh4HzPwKTBwvGXgTmBgnMDAJ8DAJcBQ5wBSLncBJLWN\n",
       "gYGngRFoBO9REQYGAGrcDtUkVqASAAAAAElFTkSuQmCC\n",
       "\" style=\"display:inline;vertical-align:middle;\" /></a></td></tr>\n",
       "<tr><td>6</td><td>Variable</td><td></td><td><a class=\"ProveItLink\" href=\"../../../../__pv_it/077b2ff79244fb4582cbe22c6e3356fa92a52f2f0/expr.ipynb\"><img src=\"data:image/png;base64,iVBORw0KGgoAAAANSUhEUgAAABAAAAAOBAMAAADUAYG5AAAAMFBMVEX///+qqqru7u4iIiJ2dnbc\n",
       "3NyIiIjMzMxmZmYQEBC6uroyMjJERERUVFSYmJgAAADLUcuvAAAAAXRSTlMAQObYZgAAAGpJREFU\n",
       "CNdjYGB4+//u3dMLGIBgDgMDxy8gzf4NiP8CGWxfGRj4vgAZPBMYGJgnARn8FxhY9ygAGfXX0pof\n",
       "gDTlBzAw2YIYJ0EckBBI53sHoBH/gIz7AhBjWH9DjancBLTl/N+7t/cxMAAA3u4f/5xagjYAAAAA\n",
       "SUVORK5CYII=\n",
       "\" style=\"display:inline;vertical-align:middle;\" /></a></td></tr>\n",
       "<tr><td>7</td><td>Variable</td><td></td><td><a class=\"ProveItLink\" href=\"../../../../__pv_it/985a1bdf1540838275dec15f4ad6de261cca93ce0/expr.ipynb\"><img src=\"data:image/png;base64,iVBORw0KGgoAAAANSUhEUgAAAA8AAAAOBAMAAAACpFvcAAAAMFBMVEX////MzMyqqqoiIiIyMjK6\n",
       "uroQEBB2dnbc3NyYmJhmZmZUVFRERESIiIju7u4AAAB204erAAAAAXRSTlMAQObYZgAAAGZJREFU\n",
       "CNdjYGDgu7NrJccCBgaGsgkMrMsmMDA8sQNy6hsYGNweABlhDAxcn4A0QxcDQ78DiPGQgWH9BAYI\n",
       "sG+AMv6DSaCGfBDNJMDAsB+kmwuI5S8AiTog5gSaEwXWIO29SgFIAQBC+RaDQlidVgAAAABJRU5E\n",
       "rkJggg==\n",
       "\" style=\"display:inline;vertical-align:middle;\" /></a></td></tr>\n",
       "<tr><td>8</td><td>Variable</td><td></td><td><a class=\"ProveItLink\" href=\"../../../../__pv_it/cbdfda466482236edba0ce44ac7ef39cda0af7a40/expr.ipynb\"><img src=\"data:image/png;base64,iVBORw0KGgoAAAANSUhEUgAAAAkAAAAJBAMAAAASvxsjAAAALVBMVEX///9mZmbc3NxUVFSYmJhE\n",
       "REQiIiIyMjK6uroQEBDMzMyIiIh2dnbu7u4AAABgFDGoAAAAAXRSTlMAQObYZgAAADZJREFUCNdj\n",
       "YOA9s3sBA8PKBvYEBt7ZDKwODMwPGICALwBE6m0Asx0YGIDiAgw8QJUyu/cyAAAmuwmycZ8WfQAA\n",
       "AABJRU5ErkJggg==\n",
       "\" style=\"display:inline;vertical-align:middle;\" /></a></td></tr>\n",
       "<tr><td>9</td><td>Literal</td><td></td><td><a class=\"ProveItLink\" href=\"../../../numeral/__pv_it/9be8badea4c35b9724062cecc501d17a3158d1d20/expr.ipynb\"><img src=\"data:image/png;base64,iVBORw0KGgoAAAANSUhEUgAAAAgAAAAPBAMAAAArJJMAAAAAHlBMVEX///+YmJgyMjIQEBBmZmaI\n",
       "iIhUVFTu7u5EREQAAAAw+MI4AAAAAXRSTlMAQObYZgAAACFJREFUCNdjYGBoZ2BgqJjOwFCWBiQY\n",
       "WEklWJwnOTKAAACjEQo8HvEr3AAAAABJRU5ErkJggg==\n",
       "\" style=\"display:inline;vertical-align:middle;\" /></a></td></tr>\n",
       "<tr><td>10</td><td>Literal</td><td></td><td><a class=\"ProveItLink\" href=\"../../../numeral/__pv_it/9176d93c83afa2c995b614976e3cb49207102fa70/expr.ipynb\"><img src=\"data:image/png;base64,iVBORw0KGgoAAAANSUhEUgAAAAoAAAAOBAMAAADkjZCYAAAAMFBMVEX///+YmJju7u4QEBBUVFQy\n",
       "MjIiIiKIiIi6urpmZmbc3NyqqqpERER2dnbMzMwAAAB0GlNiAAAAAXRSTlMAQObYZgAAAE1JREFU\n",
       "CNdjYHh79zQDA9cEhv4CBt7fDPwJDNxgEgiAIkAQAsR8Vx1ATIbiBhDJ/ImB6wEDz0cG/U8gkj+A\n",
       "ge0XA7sAQ/8FBoadM6MZAEflFACalZ/OAAAAAElFTkSuQmCC\n",
       "\" style=\"display:inline;vertical-align:middle;\" /></a></td></tr>\n",
       "</table>\n"
      ],
      "text/plain": [
       "0. a + A + A + b + B + C + 1 + c + 1 + 3\n",
       "   core type: Operation\n",
       "   operator: 1\n",
       "   operands: 2\n",
       "1. +\n",
       "   core type: Literal\n",
       "   sub-expressions: \n",
       "2. (a , A , A , b , B , C , 1 , c , 1 , 3)\n",
       "   core type: ExprTuple\n",
       "   sub-expressions: 3, 4, 4, 5, 6, 7, 9, 8, 9, 10\n",
       "3. a\n",
       "   core type: Variable\n",
       "   sub-expressions: \n",
       "4. A\n",
       "   core type: Variable\n",
       "   sub-expressions: \n",
       "5. b\n",
       "   core type: Variable\n",
       "   sub-expressions: \n",
       "6. B\n",
       "   core type: Variable\n",
       "   sub-expressions: \n",
       "7. C\n",
       "   core type: Variable\n",
       "   sub-expressions: \n",
       "8. c\n",
       "   core type: Variable\n",
       "   sub-expressions: \n",
       "9. 1\n",
       "   core type: Literal\n",
       "   sub-expressions: \n",
       "10. 3\n",
       "    core type: Literal\n",
       "    sub-expressions: "
      ]
     },
     "execution_count": 4,
     "metadata": {},
     "output_type": "execute_result"
    }
   ],
   "source": [
    "# display the expression information\n",
    "expr.exprInfo()"
   ]
  },
  {
   "cell_type": "code",
   "execution_count": null,
   "metadata": {},
   "outputs": [],
   "source": []
  }
 ],
 "metadata": {
  "kernelspec": {
   "display_name": "Python 3",
   "language": "python",
   "name": "python3"
  }
 },
 "nbformat": 4,
 "nbformat_minor": 0
}
