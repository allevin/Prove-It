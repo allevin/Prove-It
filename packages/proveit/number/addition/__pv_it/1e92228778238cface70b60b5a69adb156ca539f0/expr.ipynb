{
 "cells": [
  {
   "cell_type": "markdown",
   "metadata": {},
   "source": [
    "Expression of type <a class=\"ProveItLink\" href=\"../../../../../../doc/html/api/proveit.ExprTuple.html\">ExprTuple</a>\n",
    "=======================\n",
    "# from context <a class=\"ProveItLink\" href=\"../../_context_.ipynb\">proveit.number.addition</a>"
   ]
  },
  {
   "cell_type": "code",
   "execution_count": 1,
   "metadata": {},
   "outputs": [],
   "source": [
    "# import Expression classes needed to build the expression\n",
    "from proveit import ExprTuple\n",
    "from proveit._common_ import b, c\n",
    "from proveit.number import Add"
   ]
  },
  {
   "cell_type": "code",
   "execution_count": 2,
   "metadata": {},
   "outputs": [
    {
     "data": {
      "text/html": [
       "<strong id=\"expr\">expr:</strong> <a class=\"ProveItLink\" href=\"expr.ipynb\"><img src=\"data:image/png;base64,iVBORw0KGgoAAAANSUhEUgAAAI4AAAAVBAMAAABicsu7AAAAMFBMVEX////c3NwiIiJERESqqqqY\n",
       "mJh2dnZmZmYQEBDu7u4yMjJUVFTMzMyIiIi6uroAAAAs73DqAAAAAXRSTlMAQObYZgAAAa1JREFU\n",
       "OMutlDFIAzEUhn+17fVa2nN30E3HDrp3Foo3OxUHXbvYoQqKiIOg1E3sUBEcTEEqVHAp3Cg4eJuI\n",
       "FKqTCFJFRQoivrS5Jndn7XAeJLz7kvcnLy95wH99STuwRLhJ3ZX81y8m3BMGA5Q2qFuldqLAWNUz\n",
       "azBAhVMgoYZlpIWx5wX6aB+Adx5YFtGiotNyfjJeELL7gGSbi67jSd3jAjw6PeC4+UCkc2DTyHO5\n",
       "xYbVjbVx7tbpAcfNB2L1OxNYwjHZl81YR1V/g2GpOhIINx9AOYUvYBa7NLiDEbMz1kY0q+pIINx8\n",
       "AHNFbAGP+AbiLyIK7RBGTtWRQLj5AArAJ3DNdYyU0BnOoUUbKzA2xVhFAo2xo23Gqr8ATCL5wXU2\n",
       "gXFb3pa1orofCcTyPkDXR2vzuGZokFYwdT7L4rGqOj3g6HgBHTI/sHnKGOI5RKwyZSye1qouHQmE\n",
       "mw+ghhXwvD9Qn2/cYv+VEldfdt9DCZy8ewFKNzzVp4g67+RevdgZ72sM2X8BehfhrLBNddbzwCrl\n",
       "AhFb1g0zQCE7oDbWNRNBCuIZtaHgdTVh4QfzRpHS4mdWjgAAAABJRU5ErkJggg==\n",
       "\" style=\"display:inline;vertical-align:middle;\" /></a><br>"
      ],
      "text/plain": [
       "expr: (c , b + b + b + b)"
      ]
     },
     "execution_count": 2,
     "metadata": {},
     "output_type": "execute_result"
    }
   ],
   "source": [
    "# build up the expression from sub-expressions\n",
    "expr = ExprTuple(c, Add(b, b, b, b))"
   ]
  },
  {
   "cell_type": "code",
   "execution_count": 3,
   "metadata": {},
   "outputs": [
    {
     "name": "stdout",
     "output_type": "stream",
     "text": [
      "Passed sanity check: built 'expr' is the same as the stored Expression.\n"
     ]
    }
   ],
   "source": [
    "# check that the built expression is the same as the stored expression\n",
    "%check_expr"
   ]
  },
  {
   "cell_type": "code",
   "execution_count": 4,
   "metadata": {},
   "outputs": [
    {
     "data": {
      "text/html": [
       "<table><tr><th>&nbsp;</th><th>core type</th><th>sub-expressions</th><th>expression</th></tr>\n",
       "<tr><td>0</td><td>ExprTuple</td><td>1, 2</td><td><a class=\"ProveItLink\" href=\"expr.ipynb\"><img src=\"data:image/png;base64,iVBORw0KGgoAAAANSUhEUgAAAI4AAAAVBAMAAABicsu7AAAAMFBMVEX////c3NwiIiJERESqqqqY\n",
       "mJh2dnZmZmYQEBDu7u4yMjJUVFTMzMyIiIi6uroAAAAs73DqAAAAAXRSTlMAQObYZgAAAa1JREFU\n",
       "OMutlDFIAzEUhn+17fVa2nN30E3HDrp3Foo3OxUHXbvYoQqKiIOg1E3sUBEcTEEqVHAp3Cg4eJuI\n",
       "FKqTCFJFRQoivrS5Jndn7XAeJLz7kvcnLy95wH99STuwRLhJ3ZX81y8m3BMGA5Q2qFuldqLAWNUz\n",
       "azBAhVMgoYZlpIWx5wX6aB+Adx5YFtGiotNyfjJeELL7gGSbi67jSd3jAjw6PeC4+UCkc2DTyHO5\n",
       "xYbVjbVx7tbpAcfNB2L1OxNYwjHZl81YR1V/g2GpOhIINx9AOYUvYBa7NLiDEbMz1kY0q+pIINx8\n",
       "AHNFbAGP+AbiLyIK7RBGTtWRQLj5AArAJ3DNdYyU0BnOoUUbKzA2xVhFAo2xo23Gqr8ATCL5wXU2\n",
       "gXFb3pa1orofCcTyPkDXR2vzuGZokFYwdT7L4rGqOj3g6HgBHTI/sHnKGOI5RKwyZSye1qouHQmE\n",
       "mw+ghhXwvD9Qn2/cYv+VEldfdt9DCZy8ewFKNzzVp4g67+RevdgZ72sM2X8BehfhrLBNddbzwCrl\n",
       "AhFb1g0zQCE7oDbWNRNBCuIZtaHgdTVh4QfzRpHS4mdWjgAAAABJRU5ErkJggg==\n",
       "\" style=\"display:inline;vertical-align:middle;\" /></a></td></tr>\n",
       "<tr><td>1</td><td>Variable</td><td></td><td><a class=\"ProveItLink\" href=\"../../../../__pv_it/cbdfda466482236edba0ce44ac7ef39cda0af7a40/expr.ipynb\"><img src=\"data:image/png;base64,iVBORw0KGgoAAAANSUhEUgAAAAkAAAAJBAMAAAASvxsjAAAALVBMVEX///9mZmbc3NxUVFSYmJhE\n",
       "REQiIiIyMjK6uroQEBDMzMyIiIh2dnbu7u4AAABgFDGoAAAAAXRSTlMAQObYZgAAADZJREFUCNdj\n",
       "YOA9s3sBA8PKBvYEBt7ZDKwODMwPGICALwBE6m0Asx0YGIDiAgw8QJUyu/cyAAAmuwmycZ8WfQAA\n",
       "AABJRU5ErkJggg==\n",
       "\" style=\"display:inline;vertical-align:middle;\" /></a></td></tr>\n",
       "<tr><td>2</td><td>Operation</td><td>operator:&nbsp;3<br>operands:&nbsp;4<br></td><td><a class=\"ProveItLink\" href=\"../d2b70c5dcd579633860820f72be60c0f3cc36d3b0/expr.ipynb\"><img src=\"data:image/png;base64,iVBORw0KGgoAAAANSUhEUgAAAHAAAAAQBAMAAAA8OuYiAAAAMFBMVEX////c3NxmZmbMzMxERESY\n",
       "mJiIiIh2dna6urqqqqoyMjIiIiIQEBBUVFTu7u4AAAAiO1wTAAAAAXRSTlMAQObYZgAAAQ5JREFU\n",
       "KM+F0r1OwzAQB/C/spCEkvQRsrAgVe0j8Ah5hIqhW6Xu7KzJ1JXORpUQc/dKsGQhEhJD+gBRpZYO\n",
       "XSJsOMdfhHg42z/dybLPiD6fYYx+QP0mYlhY3A9YixDntNvR3EI07ACcRcgq2i1pbiGYdoDfiHgP\n",
       "q7AFmefAxc+l17N3s7AFmedAWM5TRF+IJ3qhAspzAPtbHBE0GCz0QgWU5wAeK2zhrRAneqECynMA\n",
       "N8ABlwmylK8Z2zAm+kPgMfb0yljxB+AF/kk0aVzpJyqgAxzgbfQace+t8aoKZKEN/GX4pa9yrzAK\n",
       "FVCeA/jAiD92eW1+AAWyHTagvkv1n7u0v7LM64bf8WCDP/0HvgEUv2YNvSAbzwAAAABJRU5ErkJg\n",
       "gg==\n",
       "\" style=\"display:inline;vertical-align:middle;\" /></a></td></tr>\n",
       "<tr><td>3</td><td>Literal</td><td></td><td><a class=\"ProveItLink\" href=\"../3e6688136fa3c7aefbebe51301b7c3ebf0b69c440/expr.ipynb\"><img src=\"data:image/png;base64,iVBORw0KGgoAAAANSUhEUgAAAA4AAAAOBAMAAADtZjDiAAAAJFBMVEX///+6urpUVFQQEBAiIiIy\n",
       "MjJmZmaIiIiqqqrc3Nzu7u4AAACgHpL+AAAAAXRSTlMAQObYZgAAAB5JREFUCNdjYGBgWMkAAe2k\n",
       "0Kmhoc6hoUGk6BMHYgAHOwjcado9fwAAAABJRU5ErkJggg==\n",
       "\" style=\"display:inline;vertical-align:middle;\" /></a></td></tr>\n",
       "<tr><td>4</td><td>ExprTuple</td><td>5, 5, 5, 5</td><td><a class=\"ProveItLink\" href=\"../2ba62e3eb23f89e07b64daca83f78eae52d7d4f00/expr.ipynb\"><img src=\"data:image/png;base64,iVBORw0KGgoAAAANSUhEUgAAAEsAAAAVBAMAAAD85A5eAAAAMFBMVEX////c3NwiIiJERESqqqqY\n",
       "mJh2dnZmZmYQEBDu7u4yMjJUVFTMzMyIiIi6uroAAAAs73DqAAAAAXRSTlMAQObYZgAAAPpJREFU\n",
       "KM+NkqFOA0EQhj/KtXfXo736mr4E/h7hFJJcMKgmZ8AWQZDNSRxrEARTQ4Ihqcf0AUoCSEzboDCE\n",
       "2dutKpPrit1v/53Nzvw7sOfoL5oiTu30Svw8cnsFwrnQA3Rn/p4CBnryZpp5UYETiCpYVV5U4Ba+\n",
       "ZDnbJqvAYcalLI9vT05UoFNyL+V8k87ruhQIDFMIfogKK2rQv+JXfDGkpRU1OFrbsFbJKreiBhJ2\n",
       "XXszqbxJ/4I8eoxN8oYYFWgbziHJwhl3IxWsIZ9S9cuFOL1Rge470cD7/YEK8lntwnOOCmPXSA1h\n",
       "sTQSQ8e97eEuJDavg8YmX8IfHm5n0mx9gwgAAAAASUVORK5CYII=\n",
       "\" style=\"display:inline;vertical-align:middle;\" /></a></td></tr>\n",
       "<tr><td>5</td><td>Variable</td><td></td><td><a class=\"ProveItLink\" href=\"../../../../__pv_it/6840a4fa6c106149dc16a131294d0c5e44f1b0480/expr.ipynb\"><img src=\"data:image/png;base64,iVBORw0KGgoAAAANSUhEUgAAAAkAAAAOBAMAAAAPuiubAAAALVBMVEX///9mZmbMzMxERESYmJiI\n",
       "iIh2dna6urqqqqoyMjIiIiIQEBBUVFTu7u4AAAD9S1JeAAAAAXRSTlMAQObYZgAAAE1JREFUCNdj\n",
       "4D29gAEIOA+ASL4GEFl3AURmgQiGOaFHGBh4HzPwKTBwvGXgTmBgnMDAJ8DAJcBQ5wBSLncBJLWN\n",
       "gYGngRFoBO9REQYGAGrcDtUkVqASAAAAAElFTkSuQmCC\n",
       "\" style=\"display:inline;vertical-align:middle;\" /></a></td></tr>\n",
       "</table>\n"
      ],
      "text/plain": [
       "0. (c , b + b + b + b)\n",
       "   core type: ExprTuple\n",
       "   sub-expressions: 1, 2\n",
       "1. c\n",
       "   core type: Variable\n",
       "   sub-expressions: \n",
       "2. b + b + b + b\n",
       "   core type: Operation\n",
       "   operator: 3\n",
       "   operands: 4\n",
       "3. +\n",
       "   core type: Literal\n",
       "   sub-expressions: \n",
       "4. (b , b , b , b)\n",
       "   core type: ExprTuple\n",
       "   sub-expressions: 5, 5, 5, 5\n",
       "5. b\n",
       "   core type: Variable\n",
       "   sub-expressions: "
      ]
     },
     "execution_count": 4,
     "metadata": {},
     "output_type": "execute_result"
    }
   ],
   "source": [
    "# display the expression information\n",
    "expr.exprInfo()"
   ]
  },
  {
   "cell_type": "code",
   "execution_count": null,
   "metadata": {},
   "outputs": [],
   "source": []
  }
 ],
 "metadata": {
  "kernelspec": {
   "display_name": "Python 3",
   "language": "python",
   "name": "python3"
  }
 },
 "nbformat": 4,
 "nbformat_minor": 0
}
