{
 "cells": [
  {
   "cell_type": "markdown",
   "metadata": {},
   "source": [
    "Expression of type <a class=\"ProveItLink\" href=\"../../../../../../doc/html/api/proveit.number.Add.html\">Add</a>\n",
    "=======================\n",
    "# from context <a class=\"ProveItLink\" href=\"../../_context_.ipynb\">proveit.number.addition</a>"
   ]
  },
  {
   "cell_type": "code",
   "execution_count": 1,
   "metadata": {},
   "outputs": [],
   "source": [
    "# import Expression classes needed to build the expression\n",
    "from proveit import Variable\n",
    "from proveit._common_ import b, c\n",
    "from proveit.number import Add, one, three, two"
   ]
  },
  {
   "cell_type": "code",
   "execution_count": 2,
   "metadata": {},
   "outputs": [
    {
     "data": {
      "text/html": [
       "<strong id=\"expr\">expr:</strong> <a class=\"ProveItLink\" href=\"../201451251feedff98e0514358bfd336a8ca65ecb0/expr.ipynb\"><img src=\"data:image/png;base64,iVBORw0KGgoAAAANSUhEUgAAAWwAAAAVBAMAAACQ68k3AAAAMFBMVEX///+6uroyMjLMzMwQEBAi\n",
       "IiKYmJhmZmZUVFSIiIh2dnbc3Nzu7u5ERESqqqoAAABZrPngAAAAAXRSTlMAQObYZgAAAwVJREFU\n",
       "SMfdlz9oE1Ecx3/Nv0tyl1wQHTrlPKhmULlBUFyaCg4ViRmcnKLgokuoYNHFDOIfivSgIgYKCYqE\n",
       "BIdsCg4ekqkO1kVwsAYdJIMQEQpianx3l/Tu997PcMTNB6HJh/e9zzfH67sXgP91zJgBJ8YygbMX\n",
       "preQHmIcD3y9q0RWuVXEyAGSQVlSFgefL73jyInWFuUhxqHAtUNUNlThZ9lAI2Yqn7jacgVqXUzK\n",
       "kDUJj++utN2/CZOANIjVR2/egJdVuxx0wGXRotxdtfDUuAXRPiLJ36AWPQ8x0qO6EYuANFDyozc9\n",
       "8LJZi4MO6FCWGjc1cgbi3xFJO7V3PRNq74HAtWGLa2hnnwIHHZDqEha+dmgAEq5tf2vT84DcXOld\n",
       "JwvdsG9jq2rglhvNNQI0uIZ2Nle9jaEDkmXRItRmIzrgSQ48D2zApdIpsvYB9jqaCRURDC/AHAE+\n",
       "c1qWVXZANfzQBWlNtFC15+uYhB/b/9BjD9ShBl/I2gvMtAipEoIdE94TYC+nZdn0ACJ1tDwdMJMX\n",
       "LGTtwwJ5kPE8YMH9v6xatrjifR6u0mCek7CspIFa9kMXhPuChaotbQq1IwPPw8aiv7Ok63Mndb3i\n",
       "XlDd5OEODZzLLen6OV3PjcpE2U5b8kMXOLWxZVzbl4dHgIlsQGrbX1v+AQp5twsAr0wOyj9pwC+S\n",
       "grNL37T80AX8IimQdztdhpeIvB04tXcXyZVEH9bJ2mzJqux24bXNojECXOS0dtaA0wi6IKYJFqL2\n",
       "MVYMhzWI/vI86e1UXjbJ2myziZchiTfAOwBPCMBvgHa2K1UQdAG/ATao2vL5VqOISKIE2bo9+9tH\n",
       "Nizlw7PWQxh9wBfcZ++q1XUMpWbVIsB+rjbLKveuYeiCUEa0LJ89WEJTo8PhENeGr8tHwPNMeri3\n",
       "/+Hh7s/2/LnOJAueKpJJD/fxARidW4RTMQLJ8YdZILKz/lxzkgVPFUkyyNk8+MH1deCsok1voTzE\n",
       "eBH4ciuBs/H29BbKQww56M+lhBE4uza9xfH8AQJ5HzjUi6VUAAAAAElFTkSuQmCC\n",
       "\" style=\"display:inline;vertical-align:middle;\" /></a><br>"
      ],
      "text/plain": [
       "expr: _x_ + (c + c + c) + (b + b) + (1 + 2 + 3)"
      ]
     },
     "execution_count": 2,
     "metadata": {},
     "output_type": "execute_result"
    }
   ],
   "source": [
    "# build up the expression from sub-expressions\n",
    "expr = Add(Variable(\"_x_\", latexFormat = r\"{_{-}x_{-}}\"), Add(c, c, c), Add(b, b), Add(one, two, three))"
   ]
  },
  {
   "cell_type": "code",
   "execution_count": 3,
   "metadata": {},
   "outputs": [
    {
     "name": "stdout",
     "output_type": "stream",
     "text": [
      "Passed sanity check: built 'expr' is the same as the stored Expression.\n"
     ]
    }
   ],
   "source": [
    "# check that the built expression is the same as the stored expression\n",
    "%check_expr"
   ]
  },
  {
   "cell_type": "code",
   "execution_count": 4,
   "metadata": {},
   "outputs": [
    {
     "data": {
      "text/html": [
       "<table><tr><th>&nbsp;</th><th>core type</th><th>sub-expressions</th><th>expression</th></tr>\n",
       "<tr><td>0</td><td>Operation</td><td>operator:&nbsp;8<br>operands:&nbsp;1<br></td><td><a class=\"ProveItLink\" href=\"../201451251feedff98e0514358bfd336a8ca65ecb0/expr.ipynb\"><img src=\"data:image/png;base64,iVBORw0KGgoAAAANSUhEUgAAAWwAAAAVBAMAAACQ68k3AAAAMFBMVEX///+6uroyMjLMzMwQEBAi\n",
       "IiKYmJhmZmZUVFSIiIh2dnbc3Nzu7u5ERESqqqoAAABZrPngAAAAAXRSTlMAQObYZgAAAwVJREFU\n",
       "SMfdlz9oE1Ecx3/Nv0tyl1wQHTrlPKhmULlBUFyaCg4ViRmcnKLgokuoYNHFDOIfivSgIgYKCYqE\n",
       "BIdsCg4ekqkO1kVwsAYdJIMQEQpianx3l/Tu997PcMTNB6HJh/e9zzfH67sXgP91zJgBJ8YygbMX\n",
       "preQHmIcD3y9q0RWuVXEyAGSQVlSFgefL73jyInWFuUhxqHAtUNUNlThZ9lAI2Yqn7jacgVqXUzK\n",
       "kDUJj++utN2/CZOANIjVR2/egJdVuxx0wGXRotxdtfDUuAXRPiLJ36AWPQ8x0qO6EYuANFDyozc9\n",
       "8LJZi4MO6FCWGjc1cgbi3xFJO7V3PRNq74HAtWGLa2hnnwIHHZDqEha+dmgAEq5tf2vT84DcXOld\n",
       "JwvdsG9jq2rglhvNNQI0uIZ2Nle9jaEDkmXRItRmIzrgSQ48D2zApdIpsvYB9jqaCRURDC/AHAE+\n",
       "c1qWVXZANfzQBWlNtFC15+uYhB/b/9BjD9ShBl/I2gvMtAipEoIdE94TYC+nZdn0ACJ1tDwdMJMX\n",
       "LGTtwwJ5kPE8YMH9v6xatrjifR6u0mCek7CspIFa9kMXhPuChaotbQq1IwPPw8aiv7Ok63Mndb3i\n",
       "XlDd5OEODZzLLen6OV3PjcpE2U5b8kMXOLWxZVzbl4dHgIlsQGrbX1v+AQp5twsAr0wOyj9pwC+S\n",
       "grNL37T80AX8IimQdztdhpeIvB04tXcXyZVEH9bJ2mzJqux24bXNojECXOS0dtaA0wi6IKYJFqL2\n",
       "MVYMhzWI/vI86e1UXjbJ2myziZchiTfAOwBPCMBvgHa2K1UQdAG/ATao2vL5VqOISKIE2bo9+9tH\n",
       "Nizlw7PWQxh9wBfcZ++q1XUMpWbVIsB+rjbLKveuYeiCUEa0LJ89WEJTo8PhENeGr8tHwPNMeri3\n",
       "/+Hh7s/2/LnOJAueKpJJD/fxARidW4RTMQLJ8YdZILKz/lxzkgVPFUkyyNk8+MH1deCsok1voTzE\n",
       "eBH4ciuBs/H29BbKQww56M+lhBE4uza9xfH8AQJ5HzjUi6VUAAAAAElFTkSuQmCC\n",
       "\" style=\"display:inline;vertical-align:middle;\" /></a></td></tr>\n",
       "<tr><td>1</td><td>ExprTuple</td><td>2, 3, 4, 5</td><td><a class=\"ProveItLink\" href=\"../8a20d2aca5210321e14281e828c58c1f0b4da4390/expr.ipynb\"><img src=\"data:image/png;base64,iVBORw0KGgoAAAANSUhEUgAAARoAAAAVBAMAAABrvDzoAAAAMFBMVEX////c3NwiIiJERESqqqqY\n",
       "mJh2dnZmZmYQEBDu7u4yMjJUVFTMzMyIiIi6uroAAAAs73DqAAAAAXRSTlMAQObYZgAAAphJREFU\n",
       "SMfNlk9oE0EUxr+YbpKN2SR49WBuekvBevDgyUNBLK4ePe0poiAExVaqYhERKVRXBBF7iPjn4BY0\n",
       "RS8iYk4ieDAX0SLF1VMRpH9IlEiwzqzZmX2TXU0gh8xh6f6+8t73dt5MHjBcK1sfEiOayx5vBxNr\n",
       "/lI02KtIsan7LiWvS2PAefbHowGVthAJbrYUZTuMBrVXxmodacDoaaNuqEDPq6ShKj6Yf9FSpOdA\n",
       "kZBEA7kCNAspuxc3EyoYUYvIthRFABiqdNXGKzdIRjw3+gy+YTBuEgVFEaDbzRMbF10lDNspjGEy\n",
       "sHsnFycu0P0oLdeIGwH8MAKkX34yiSJAtxu2irZCeJcdw0OZ+xaOmPRkvHHTBeJGAD+MAJVRtIki\n",
       "QJibzA9KMieq7HkA12RuC59xkHyaOcTNoBsJOmEkOGTjCkkgQJib9KhKPrKtW8FvmdzGU9oLW9eU\n",
       "vpGgE0aCaeAnSSBAmJvTXSTF/uld0A0wR93k/lYw7Ti7HGdBgqTj3Jt1nKoAbO1EthlUOkC6CUgw\n",
       "qpTEaog3uZvLwUuoDT3oZkdd+TYSdIqSoIFki5QrQMi3GUcsHySVludmBXtk8sPGGpbktrHKWUuQ\n",
       "vpGgE8YDXgVtpCyS0gN2qJtMGRpxk7uLLevAUXaqRLnN+EzMd69v8K4oI0FOuAR+33BQ4afqGc7R\n",
       "lBx4UbrdbCuVThFimFi1+An/yl7272bL1vcdL70XL9e5+cnlJXr7CeAH5uD2Or//P5hU4cCLkjz7\n",
       "6wyVipubG5SMTz1gz8dI5SMGjXzvd/GXSIVG6brAKWG/DJoVMW2Qt+//nIrMSEX7zyhFSKIeOVFo\n",
       "fQwTZvQE1c9McscbNkJXHxOhES31NVcu8ktmWCZRo4Y/S2LzRRyiK2oAAAAASUVORK5CYII=\n",
       "\" style=\"display:inline;vertical-align:middle;\" /></a></td></tr>\n",
       "<tr><td>2</td><td>Variable</td><td></td><td><a class=\"ProveItLink\" href=\"../../../../logic/__pv_it/5144cf74ae6a683b49b974f1b9302b432abf7e930/expr.ipynb\"><img src=\"data:image/png;base64,iVBORw0KGgoAAAANSUhEUgAAACUAAAAJBAMAAABH3vh9AAAAKlBMVEX////MzMwQEBAiIiKYmJhm\n",
       "ZmZUVFSIiIh2dnbc3Nzu7u5ERESqqqoAAABwkVEpAAAAAXRSTlMAQObYZgAAAEtJREFUCNdjYIAA\n",
       "zvbM4+EMqGAFg7ODMppYA0Mtw0E0sQUM2QyYQB1TiPMiAxeakCf7BYYqVCGeK9wKnAUw3undQLCA\n",
       "a3tXRwmMAwC3+RVNp6j0GAAAAABJRU5ErkJggg==\n",
       "\" style=\"display:inline;vertical-align:middle;\" /></a></td></tr>\n",
       "<tr><td>3</td><td>Operation</td><td>operator:&nbsp;8<br>operands:&nbsp;6<br></td><td><a class=\"ProveItLink\" href=\"../794b7170b8a2a7f3a9488eaf29c486ed5d13a4530/expr.ipynb\"><img src=\"data:image/png;base64,iVBORw0KGgoAAAANSUhEUgAAAE4AAAAOBAMAAABz3DdCAAAAMFBMVEX///+qqqpmZmbc3NxUVFSY\n",
       "mJhEREQiIiIyMjK6uroQEBDMzMyIiIh2dnbu7u4AAAA4MM1YAAAAAXRSTlMAQObYZgAAALFJREFU\n",
       "KM9jYICDxwxogM+AARuQQRdgPECOOr67ZzagqIMLwNW9vXOagWHXBI4CFHVwAZg67pUM7Qx8axjY\n",
       "ApDVIQRg6l4dYEhlYPmA5j6EAEydP4jgTwCzNTo6qjo6WhACTB0d7Ss6OhyAzG8gvv0BNPMQAlDz\n",
       "mP+AzQO6BcV9CAGYvV8ZGFgZWBQYeFHCBSEAU+fEwHCbgUH3zDnUcIYLwNQx3TnzgIx4m4MuwImk\n",
       "DgDaMTWEahh+dwAAAABJRU5ErkJggg==\n",
       "\" style=\"display:inline;vertical-align:middle;\" /></a></td></tr>\n",
       "<tr><td>4</td><td>Operation</td><td>operator:&nbsp;8<br>operands:&nbsp;7<br></td><td><a class=\"ProveItLink\" href=\"../732aa98f927c988b9bfe1416d01ed36546be51dc0/expr.ipynb\"><img src=\"data:image/png;base64,iVBORw0KGgoAAAANSUhEUgAAACsAAAAQBAMAAAB9zpudAAAAMFBMVEX////c3NxmZmbMzMxERESY\n",
       "mJiIiIh2dna6urqqqqoyMjIiIiIQEBBUVFTu7u4AAAAiO1wTAAAAAXRSTlMAQObYZgAAAIlJREFU\n",
       "GNNj4LuzgQEFQAW4LqAKQwX4J8CUCUBoiED/A6gwZwKEhghUM6AJQwTWpl1FFQYL8H1h4DdAFoYI\n",
       "cP5j4ClAFoYIMC1g4FdAFoYIcCsw9AcAOatWrT61ahXQyRABoCv1HyCrhggAjT+O4hKIAO8Epgso\n",
       "whABvmuqqN5BCKB6Bw1wIAkDAINGK1mj6vv8AAAAAElFTkSuQmCC\n",
       "\" style=\"display:inline;vertical-align:middle;\" /></a></td></tr>\n",
       "<tr><td>5</td><td>Operation</td><td>operator:&nbsp;8<br>operands:&nbsp;9<br></td><td><a class=\"ProveItLink\" href=\"../cf5c32e9fce0698a0b1721414282f182cca2e0d20/expr.ipynb\"><img src=\"data:image/png;base64,iVBORw0KGgoAAAANSUhEUgAAAFAAAAAQBAMAAABzZ+XyAAAAMFBMVEX///92dnbMzMy6uroiIiKq\n",
       "qqrc3NyYmJgyMjIQEBBmZmaIiIhUVFTu7u5EREQAAADaqMZ6AAAAAXRSTlMAQObYZgAAANZJREFU\n",
       "KM9jYGB4y4AK2Fb1GaCKKAo+BZL3/qIpzGHg/oqqcwGD/QaGO2dgCnkTIPRZBgZ/FBHGrwz8DgwM\n",
       "3DCFrBsg9MwLDOcNkEVYcSjsv8CwHkUhEACtxlQIBP4X0ER6GLAqZPqIKsIkcQC7Qo4H6CI7DbAq\n",
       "XIchwvkXppCro6NlRkcHyAoG7gOoImwKDHzfsZkYxcCWgCxy/y92hUwLGNhRFPI3MLB8w6IwRVBw\n",
       "CYoIdwGDvQAD18ofy1EV+v///wVVJGpVK3LcIwU4ThEwYN6ATwQAGHxQk/uP+u0AAAAASUVORK5C\n",
       "YII=\n",
       "\" style=\"display:inline;vertical-align:middle;\" /></a></td></tr>\n",
       "<tr><td>6</td><td>ExprTuple</td><td>10, 10, 10</td><td><a class=\"ProveItLink\" href=\"../86a607d788a57bb994e75964e5003873eaa726b10/expr.ipynb\"><img src=\"data:image/png;base64,iVBORw0KGgoAAAANSUhEUgAAADkAAAAVBAMAAAAOWFv7AAAAMFBMVEX////c3NwiIiJERESqqqqY\n",
       "mJh2dnZmZmYQEBDu7u4yMjJUVFTMzMyIiIi6uroAAAAs73DqAAAAAXRSTlMAQObYZgAAANZJREFU\n",
       "KM9jYMAP+C7gkIgDEadxaWM/ACRW4jR1AQMD7wWcsmEMDBwTcMrOYGB4hdu9zA4MZUCKM+3uATAf\n",
       "lcFWwLAUyD7xgEsBLIjKYFnA0AdU2MvAHADWgcrga2D4x8DA/QFqERqD5wNIlt8AKojGAMq2MDDI\n",
       "w7yMxgCabApUCbQrgJMBncHAuoAhHWhLAQPbgfkK6AyQjx4BlZbdvckw4yM6g4HrAQOHANSuhwzo\n",
       "DGBIsiZA2QEM6IxcpBjEkOUExiCDNITNC5OEM7hBdjLiiuA7DAwAx3NBG0TfR+4AAAAASUVORK5C\n",
       "YII=\n",
       "\" style=\"display:inline;vertical-align:middle;\" /></a></td></tr>\n",
       "<tr><td>7</td><td>ExprTuple</td><td>11, 11</td><td><a class=\"ProveItLink\" href=\"../612e99e6fd74ee3c032efd8d15bfddfb9fc0af9e0/expr.ipynb\"><img src=\"data:image/png;base64,iVBORw0KGgoAAAANSUhEUgAAACcAAAAVBAMAAAA3P+qgAAAAMFBMVEX////c3NwiIiJERESqqqqY\n",
       "mJh2dnZmZmYQEBDu7u4yMjJUVFTMzMyIiIi6uroAAAAs73DqAAAAAXRSTlMAQObYZgAAAO5JREFU\n",
       "GNNtkaFuAkEQhr8WKHdQuHoML4G/R0BVElKDIjlDbStIJTmJ4wyCYDAkGBI8pg9QEoqsgaYK03R2\n",
       "dk5AemL32y+7O//swb9f/f1y3XHDlnDV9GuF8kZoBpWF7VLIoCano9ikwiMEKRxTkwpj+JLpKS+i\n",
       "UIh5lmm+W3qpcJcwlaI/RButrlDMGEHxTNB10kP9lV9JlhElTnq4Pzl5m3BsO+lB5FDTvaQWU0CO\n",
       "t3CXvxFiQCmjB9W4vGDSNHCRDpJkPZA+vg2o7AkerJvPvC1ps9Q1buey75/uQobydDQ81/KNVXff\n",
       "zdXv+IA/Uqw+FpHnSdwAAAAASUVORK5CYII=\n",
       "\" style=\"display:inline;vertical-align:middle;\" /></a></td></tr>\n",
       "<tr><td>8</td><td>Literal</td><td></td><td><a class=\"ProveItLink\" href=\"../3e6688136fa3c7aefbebe51301b7c3ebf0b69c440/expr.ipynb\"><img src=\"data:image/png;base64,iVBORw0KGgoAAAANSUhEUgAAAA4AAAAOBAMAAADtZjDiAAAAJFBMVEX///+6urpUVFQQEBAiIiIy\n",
       "MjJmZmaIiIiqqqrc3Nzu7u4AAACgHpL+AAAAAXRSTlMAQObYZgAAAB5JREFUCNdjYGBgWMkAAe2k\n",
       "0Kmhoc6hoUGk6BMHYgAHOwjcado9fwAAAABJRU5ErkJggg==\n",
       "\" style=\"display:inline;vertical-align:middle;\" /></a></td></tr>\n",
       "<tr><td>9</td><td>ExprTuple</td><td>12, 13, 14</td><td><a class=\"ProveItLink\" href=\"../27b2b00aa8293e71ce1853061768c278c28515e00/expr.ipynb\"><img src=\"data:image/png;base64,iVBORw0KGgoAAAANSUhEUgAAAD0AAAAVBAMAAAAHs/uBAAAAMFBMVEX////c3NwiIiJERESqqqqY\n",
       "mJh2dnZmZmYQEBDu7u4yMjJUVFTMzMyIiIi6uroAAAAs73DqAAAAAXRSTlMAQObYZgAAAThJREFU\n",
       "KM+Fkj1Lw0AYgJ9+2Xy0IU4OOnRy1cXV5h9YF0cRhHYSO1no5ODiYjM6BkREXLo76KSDg12cFCqO\n",
       "TqWDUMHGu8ulH5HgQe59Ls/LJe97B/8Np5eqduX0JJ6cr98stTcjKNX3PYr3gq7BrGqf6dL3okSc\n",
       "Hwig3MO8vdPe9skOFB16DGEHDKn62hun2GNFW8qfwycz3hpRHMf/LfbPeRzNejGyIw1WFxaaXCb8\n",
       "814UH27ElA84S/iLGMrCOMeM531xfZLZ8SkNkv5VxxWo1qQ/mfP5JosymqEvvdh/I/Yq5RG2FX3D\n",
       "mkshoKG9OZT9Xa03KopecL5UfR9i0epc1cyOK4oPw7CiKN9qi4Ow3jHcuF8uf0j0t6D7QWFS2JQO\n",
       "ovNN86Y4X5b1YnqNJmTLD2XS79cb/AL1c1U/qE0NaAAAAABJRU5ErkJggg==\n",
       "\" style=\"display:inline;vertical-align:middle;\" /></a></td></tr>\n",
       "<tr><td>10</td><td>Variable</td><td></td><td><a class=\"ProveItLink\" href=\"../../../../__pv_it/cbdfda466482236edba0ce44ac7ef39cda0af7a40/expr.ipynb\"><img src=\"data:image/png;base64,iVBORw0KGgoAAAANSUhEUgAAAAkAAAAJBAMAAAASvxsjAAAALVBMVEX///9mZmbc3NxUVFSYmJhE\n",
       "REQiIiIyMjK6uroQEBDMzMyIiIh2dnbu7u4AAABgFDGoAAAAAXRSTlMAQObYZgAAADZJREFUCNdj\n",
       "YOA9s3sBA8PKBvYEBt7ZDKwODMwPGICALwBE6m0Asx0YGIDiAgw8QJUyu/cyAAAmuwmycZ8WfQAA\n",
       "AABJRU5ErkJggg==\n",
       "\" style=\"display:inline;vertical-align:middle;\" /></a></td></tr>\n",
       "<tr><td>11</td><td>Variable</td><td></td><td><a class=\"ProveItLink\" href=\"../../../../__pv_it/6840a4fa6c106149dc16a131294d0c5e44f1b0480/expr.ipynb\"><img src=\"data:image/png;base64,iVBORw0KGgoAAAANSUhEUgAAAAkAAAAOBAMAAAAPuiubAAAALVBMVEX///9mZmbMzMxERESYmJiI\n",
       "iIh2dna6urqqqqoyMjIiIiIQEBBUVFTu7u4AAAD9S1JeAAAAAXRSTlMAQObYZgAAAE1JREFUCNdj\n",
       "4D29gAEIOA+ASL4GEFl3AURmgQiGOaFHGBh4HzPwKTBwvGXgTmBgnMDAJ8DAJcBQ5wBSLncBJLWN\n",
       "gYGngRFoBO9REQYGAGrcDtUkVqASAAAAAElFTkSuQmCC\n",
       "\" style=\"display:inline;vertical-align:middle;\" /></a></td></tr>\n",
       "<tr><td>12</td><td>Literal</td><td></td><td><a class=\"ProveItLink\" href=\"../../../numeral/__pv_it/9be8badea4c35b9724062cecc501d17a3158d1d20/expr.ipynb\"><img src=\"data:image/png;base64,iVBORw0KGgoAAAANSUhEUgAAAAgAAAAPBAMAAAArJJMAAAAAHlBMVEX///+YmJgyMjIQEBBmZmaI\n",
       "iIhUVFTu7u5EREQAAAAw+MI4AAAAAXRSTlMAQObYZgAAACFJREFUCNdjYGBoZ2BgqJjOwFCWBiQY\n",
       "WEklWJwnOTKAAACjEQo8HvEr3AAAAABJRU5ErkJggg==\n",
       "\" style=\"display:inline;vertical-align:middle;\" /></a></td></tr>\n",
       "<tr><td>13</td><td>Literal</td><td></td><td><a class=\"ProveItLink\" href=\"../../../numeral/__pv_it/77d407a64829263cdc16415becd4c2293f77a4bf0/expr.ipynb\"><img src=\"data:image/png;base64,iVBORw0KGgoAAAANSUhEUgAAAAkAAAAOBAMAAAAPuiubAAAAMFBMVEX///+YmJh2dnbMzMwQEBAi\n",
       "IiLu7u6qqqqIiIhUVFS6urpEREQyMjJmZmbc3NwAAACOMKdoAAAAAXRSTlMAQObYZgAAAFBJREFU\n",
       "CNdj4Lt7egEDw0sGju8MDNMYGOIZGFwSGOYvYDifwHAfKAEUSQASzJ9ATJ4NIPI2iOCYACJrGfge\n",
       "MDBfYGB8wPBUSekqUPH//18ZAIliFhc3zESNAAAAAElFTkSuQmCC\n",
       "\" style=\"display:inline;vertical-align:middle;\" /></a></td></tr>\n",
       "<tr><td>14</td><td>Literal</td><td></td><td><a class=\"ProveItLink\" href=\"../../../numeral/__pv_it/9176d93c83afa2c995b614976e3cb49207102fa70/expr.ipynb\"><img src=\"data:image/png;base64,iVBORw0KGgoAAAANSUhEUgAAAAoAAAAOBAMAAADkjZCYAAAAMFBMVEX///+YmJju7u4QEBBUVFQy\n",
       "MjIiIiKIiIi6urpmZmbc3NyqqqpERER2dnbMzMwAAAB0GlNiAAAAAXRSTlMAQObYZgAAAE1JREFU\n",
       "CNdjYHh79zQDA9cEhv4CBt7fDPwJDNxgEgiAIkAQAsR8Vx1ATIbiBhDJ/ImB6wEDz0cG/U8gkj+A\n",
       "ge0XA7sAQ/8FBoadM6MZAEflFACalZ/OAAAAAElFTkSuQmCC\n",
       "\" style=\"display:inline;vertical-align:middle;\" /></a></td></tr>\n",
       "</table>\n"
      ],
      "text/plain": [
       "0. _x_ + (c + c + c) + (b + b) + (1 + 2 + 3)\n",
       "   core type: Operation\n",
       "   operator: 8\n",
       "   operands: 1\n",
       "1. (_x_ , c + c + c , b + b , 1 + 2 + 3)\n",
       "   core type: ExprTuple\n",
       "   sub-expressions: 2, 3, 4, 5\n",
       "2. _x_\n",
       "   core type: Variable\n",
       "   sub-expressions: \n",
       "3. c + c + c\n",
       "   core type: Operation\n",
       "   operator: 8\n",
       "   operands: 6\n",
       "4. b + b\n",
       "   core type: Operation\n",
       "   operator: 8\n",
       "   operands: 7\n",
       "5. 1 + 2 + 3\n",
       "   core type: Operation\n",
       "   operator: 8\n",
       "   operands: 9\n",
       "6. (c , c , c)\n",
       "   core type: ExprTuple\n",
       "   sub-expressions: 10, 10, 10\n",
       "7. (b , b)\n",
       "   core type: ExprTuple\n",
       "   sub-expressions: 11, 11\n",
       "8. +\n",
       "   core type: Literal\n",
       "   sub-expressions: \n",
       "9. (1 , 2 , 3)\n",
       "   core type: ExprTuple\n",
       "   sub-expressions: 12, 13, 14\n",
       "10. c\n",
       "    core type: Variable\n",
       "    sub-expressions: \n",
       "11. b\n",
       "    core type: Variable\n",
       "    sub-expressions: \n",
       "12. 1\n",
       "    core type: Literal\n",
       "    sub-expressions: \n",
       "13. 2\n",
       "    core type: Literal\n",
       "    sub-expressions: \n",
       "14. 3\n",
       "    core type: Literal\n",
       "    sub-expressions: "
      ]
     },
     "execution_count": 4,
     "metadata": {},
     "output_type": "execute_result"
    }
   ],
   "source": [
    "# display the expression information\n",
    "expr.exprInfo()"
   ]
  },
  {
   "cell_type": "code",
   "execution_count": null,
   "metadata": {},
   "outputs": [],
   "source": []
  }
 ],
 "metadata": {
  "kernelspec": {
   "display_name": "Python 3",
   "language": "python",
   "name": "python3"
  }
 },
 "nbformat": 4,
 "nbformat_minor": 0
}
