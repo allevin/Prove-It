{
 "cells": [
  {
   "cell_type": "markdown",
   "metadata": {},
   "source": [
    "Expression of type <a class=\"ProveItLink\" href=\"../../../../../../doc/html/api/proveit.logic.Set.html\">Set</a>\n",
    "=======================\n",
    "# from context <a class=\"ProveItLink\" href=\"../../_context_.ipynb\">proveit.number.addition</a>"
   ]
  },
  {
   "cell_type": "code",
   "execution_count": 1,
   "metadata": {},
   "outputs": [],
   "source": [
    "# import Expression classes needed to build the expression\n",
    "from proveit.logic import InSet, Set\n",
    "from proveit.number import RealsPos, two"
   ]
  },
  {
   "cell_type": "code",
   "execution_count": 2,
   "metadata": {},
   "outputs": [
    {
     "data": {
      "text/html": [
       "<strong id=\"expr\">expr:</strong> <a class=\"ProveItLink\" href=\"expr.ipynb\"><img src=\"data:image/png;base64,iVBORw0KGgoAAAANSUhEUgAAAFUAAAAbBAMAAAD/id51AAAAMFBMVEX///+6urp2dnaqqqoiIiIQ\n",
       "EBBERETu7u6IiIjc3NwyMjJUVFSYmJhmZmbMzMwAAAD0pS5FAAAAAXRSTlMAQObYZgAAAVhJREFU\n",
       "OMtjYCAEmJE5fHfwqmUDa7gI4eyaQFgtw7QEEMnxnYEItQyxIIJ7AVFqs+Bq595KRFVx6lv+qqgG\n",
       "JLW7YGo5NzD0G6AqTpjN8MxqAsOuVUtXrWpAVstdwMDyAU3tXAa2ygQs5rKGM3B/BAuxd7m4LICq\n",
       "ZXqATS3XdwZeiNpXxxHmYqplA4ccAws46DjTkdzAjeEGVrBvGd4rgDVOQFIrcgrE44bwzxcATVoN\n",
       "YS8Dk2UIv0118UIOGt6VDAxHHkCYEJeIurjA/SbLVoAcMFMaGJg9wKxuiMBrpDDjlduApJTHGUjU\n",
       "HwClowsMM0EiJcjhu7wHSa39BFg4vGVgOAkOwANIal9zP0CoRcSxk5KuAzgqHJHUMhlkYlHL8v//\n",
       "f7Bahln34Gknj2HZegNMtUjAeokL1kS6i5j0Sw+1TAFEqfUGB9NqYpTyukNibw9hpcw5DKQBAKeX\n",
       "Z788Z10NAAAAAElFTkSuQmCC\n",
       "\" style=\"display:inline;vertical-align:middle;\" /></a><br>"
      ],
      "text/plain": [
       "expr: {2 in RealsPos}"
      ]
     },
     "execution_count": 2,
     "metadata": {},
     "output_type": "execute_result"
    }
   ],
   "source": [
    "# build up the expression from sub-expressions\n",
    "expr = Set(InSet(two, RealsPos))"
   ]
  },
  {
   "cell_type": "code",
   "execution_count": 3,
   "metadata": {},
   "outputs": [
    {
     "name": "stdout",
     "output_type": "stream",
     "text": [
      "Passed sanity check: built 'expr' is the same as the stored Expression.\n"
     ]
    }
   ],
   "source": [
    "# check that the built expression is the same as the stored expression\n",
    "%check_expr"
   ]
  },
  {
   "cell_type": "code",
   "execution_count": 4,
   "metadata": {},
   "outputs": [
    {
     "data": {
      "text/html": [
       "<table><tr><th>&nbsp;</th><th>core type</th><th>sub-expressions</th><th>expression</th></tr>\n",
       "<tr><td>0</td><td>Operation</td><td>operator:&nbsp;1<br>operands:&nbsp;2<br></td><td><a class=\"ProveItLink\" href=\"expr.ipynb\"><img src=\"data:image/png;base64,iVBORw0KGgoAAAANSUhEUgAAAFUAAAAbBAMAAAD/id51AAAAMFBMVEX///+6urp2dnaqqqoiIiIQ\n",
       "EBBERETu7u6IiIjc3NwyMjJUVFSYmJhmZmbMzMwAAAD0pS5FAAAAAXRSTlMAQObYZgAAAVhJREFU\n",
       "OMtjYCAEmJE5fHfwqmUDa7gI4eyaQFgtw7QEEMnxnYEItQyxIIJ7AVFqs+Bq595KRFVx6lv+qqgG\n",
       "JLW7YGo5NzD0G6AqTpjN8MxqAsOuVUtXrWpAVstdwMDyAU3tXAa2ygQs5rKGM3B/BAuxd7m4LICq\n",
       "ZXqATS3XdwZeiNpXxxHmYqplA4ccAws46DjTkdzAjeEGVrBvGd4rgDVOQFIrcgrE44bwzxcATVoN\n",
       "YS8Dk2UIv0118UIOGt6VDAxHHkCYEJeIurjA/SbLVoAcMFMaGJg9wKxuiMBrpDDjlduApJTHGUjU\n",
       "HwClowsMM0EiJcjhu7wHSa39BFg4vGVgOAkOwANIal9zP0CoRcSxk5KuAzgqHJHUMhlkYlHL8v//\n",
       "f7Bahln34Gknj2HZegNMtUjAeokL1kS6i5j0Sw+1TAFEqfUGB9NqYpTyukNibw9hpcw5DKQBAKeX\n",
       "Z788Z10NAAAAAElFTkSuQmCC\n",
       "\" style=\"display:inline;vertical-align:middle;\" /></a></td></tr>\n",
       "<tr><td>1</td><td>Literal</td><td></td><td><a class=\"ProveItLink\" href=\"../../../../logic/set_theory/enumeration/__pv_it/07381ed5b23806e8d7914b78cb6667769e3708dd0/expr.ipynb\"><img src=\"data:image/png;base64,iVBORw0KGgoAAAANSUhEUgAAAB4AAAAOBAMAAADKyLEKAAAAMFBMVEX///8iIiIQEBCIiIjMzMzc\n",
       "3Nyqqqp2dnZEREQyMjK6urru7u5mZmZUVFSYmJgAAACI6eGPAAAAAXRSTlMAQObYZgAAALRJREFU\n",
       "CNdjYGDgu3Nm3wIGBJjHwN0PZW5yYGDgLWBgyITy8zcwMMQDxZyh/INAvD6BgcEFypcB4vjPDiBm\n",
       "TPFRrhs/LjMwMP//38rAwCbKEMPA9gEkE3fp0waG+AUMRxh4JkC01T9guPTOOICBEWgVH5C//wHD\n",
       "H5D4fqCz9oCMDGD4DLaegRXslLMMDMpAgxlOMmQxHDRgYG5gYLBk4D7KcIe7gOHC2rt9QCXsh40Z\n",
       "GCKMGQDRkC8N/Ph1XAAAAABJRU5ErkJggg==\n",
       "\" style=\"display:inline;vertical-align:middle;\" /></a></td></tr>\n",
       "<tr><td>2</td><td>ExprTuple</td><td>3</td><td><a class=\"ProveItLink\" href=\"../3af6acb3b26698b76faae928727b1d378c65b3c50/expr.ipynb\"><img src=\"data:image/png;base64,iVBORw0KGgoAAAANSUhEUgAAAE4AAAAbBAMAAAAgx6RqAAAAMFBMVEX///+qqqp2dnYiIiJERESI\n",
       "iIhmZmYQEBDc3NyYmJgyMjLu7u5UVFTMzMy6uroAAACGxKilAAAAAXRSTlMAQObYZgAAAX5JREFU\n",
       "OMtjYMAPGBHMd/jUsYAIBRDBe4CgujsgYtcGgupYA4DESQaC6hgsGBg4ChgY2rL8UGVnffFfVRWA\n",
       "UBfDwMCWwMBxgCFeAFWhQw/DFakGhlOrlq9aBVS/fwMD+wMGng0MzB/Q1LUxsOxwgJvHPIHhPgMD\n",
       "ezUDzz8wnzvK2HgBVB3TBYQ6NgeGcAYGrt8MbBB1t2YjzENWx/mB4RTE4N8gksMbyV4eJHv5fjP4\n",
       "gBn3wUHO0oCk7vEsEI8HzOX9y7AMzFgCJrcg/NFubIUUBBz/GMyg7gSB58bGcH88Y0GKJ+6PEHUx\n",
       "EO4dpHBhe3sAxbw1oMSTwNAB4m5GDr/VkUjq/jIcAVLXGBhmgLg8E5DU3eG5AFfH94MhGKjaSEnN\n",
       "AOwMOyR1TAIecHXA8HsPDLz///+D1TF05cLTgS/DkvVwHzMtYOC/gByvMosh/kUDXAEMPAoMhMH+\n",
       "BgZeAyLUTQFiRyLU2YLcTlgZZwIokAk7sAVMTiSoLpuBaAAA2whfrrAnJe8AAAAASUVORK5CYII=\n",
       "\" style=\"display:inline;vertical-align:middle;\" /></a></td></tr>\n",
       "<tr><td>3</td><td>Operation</td><td>operator:&nbsp;4<br>operands:&nbsp;5<br></td><td><a class=\"ProveItLink\" href=\"../22c9ea512dd69d082142345fcceef9b3ded57fc90/expr.ipynb\"><img src=\"data:image/png;base64,iVBORw0KGgoAAAANSUhEUgAAAD4AAAAUBAMAAAAn2JMnAAAAMFBMVEX///+YmJh2dnbMzMwQEBAi\n",
       "IiLu7u6qqqqIiIhUVFS6urpEREQyMjJmZmbc3NwAAACOMKdoAAAAAXRSTlMAQObYZgAAAOlJREFU\n",
       "KM9jYMADChjwgw10kOe7e3oBiiDj+d1/jpyAy79k4PiOqoubbwLz9nMMnGfO+Jw5wTCNgSEeXf4C\n",
       "w7bXMP0uCQzzIRZkHA2Ngckrc8Pkzycw3AfLMx9MQOhHyANBPFjidQKS+dNeI+SZP4GpfUj2cwWe\n",
       "A7EmgPk8YGVsGxDyrqHHkdx7G0xyuYaGwtx368I2hDQHxBTmCUjm37JEyNcy8D0AmR+AJM+TIQDj\n",
       "MV9gYATJM0xEkmeeMBnGe6qkdBXMSF2A5D917gdQXvz//1/BDL6zBrD4+W3As+c7Rmyyz4G4HwUA\n",
       "AC4MTGT+qtFHAAAAAElFTkSuQmCC\n",
       "\" style=\"display:inline;vertical-align:middle;\" /></a></td></tr>\n",
       "<tr><td>4</td><td>Literal</td><td></td><td><a class=\"ProveItLink\" href=\"../../../../logic/set_theory/membership/__pv_it/088cbc857536a28d4119ad9639a84270ccb0545d0/expr.ipynb\"><img src=\"data:image/png;base64,iVBORw0KGgoAAAANSUhEUgAAAAwAAAAMBAMAAACkW0HUAAAALVBMVEX///+qqqpmZmZUVFQQEBC6\n",
       "urpERETc3NyYmJjMzMwiIiIyMjKIiIju7u4AAACYsrA9AAAAAXRSTlMAQObYZgAAADxJREFUCNdj\n",
       "YOA9vWrVBgaG2b0MQMCeCyIZ2ArA1DUwyRCyahVIyWQI7xaEYm4AU7xLIdxqTQgtvGvVBgCkcQ7e\n",
       "geM/tQAAAABJRU5ErkJggg==\n",
       "\" style=\"display:inline;vertical-align:middle;\" /></a></td></tr>\n",
       "<tr><td>5</td><td>ExprTuple</td><td>6, 7</td><td><a class=\"ProveItLink\" href=\"../0bab134a3b9ccc22b97947855451018844ad44880/expr.ipynb\"><img src=\"data:image/png;base64,iVBORw0KGgoAAAANSUhEUgAAAD4AAAAbBAMAAADWjiHyAAAAMFBMVEX///+qqqp2dnYiIiJERESI\n",
       "iIhmZmYQEBDc3NyYmJgyMjLu7u5UVFTMzMy6uroAAACGxKilAAAAAXRSTlMAQObYZgAAAVhJREFU\n",
       "KM9jYMAOGBHMd9jkWUCEAojgPYBT/g6I2LUBpzxrAJA4yYBTnsGCgYGjAIjTljwA82d98V9VFYCQ\n",
       "j2FgYEtgYOhhYP0I0ebQw3BFqoHh1Krlq1YB1e3fwMAO1HmagcEeKt/GwLLDAa6feQLDfSBVvoHh\n",
       "/AOYPNMFhDybA0M4kFq/gSEfqzznB4ZTEIPtN8DkeZDM5/vN4ANm8H6C2/94VgOQwQMR/suwDMzg\n",
       "coDKtxtbCSBCgeMfgxmYkcIA0/+MBSk8uT9C5FkPwOXZ3h5A0b8GRIsxcDTA7F8diST/l+EIyBkJ\n",
       "DJwN3FD5OzwX4PJ8PxiCgVSzklIyw34DqP8FPODyQP+/B3n+///PDNt/gOPHl2HJergPmBYw8MNN\n",
       "e4EZy1wBDDwKMM4ETPn9DQy8BnjkpwCxI5TNiiUV2QJxFwNOwJkASukKOOVbwOREnPLZDAQBAFBe\n",
       "WsXO8/hlAAAAAElFTkSuQmCC\n",
       "\" style=\"display:inline;vertical-align:middle;\" /></a></td></tr>\n",
       "<tr><td>6</td><td>Literal</td><td></td><td><a class=\"ProveItLink\" href=\"../../../numeral/__pv_it/77d407a64829263cdc16415becd4c2293f77a4bf0/expr.ipynb\"><img src=\"data:image/png;base64,iVBORw0KGgoAAAANSUhEUgAAAAkAAAAOBAMAAAAPuiubAAAAMFBMVEX///+YmJh2dnbMzMwQEBAi\n",
       "IiLu7u6qqqqIiIhUVFS6urpEREQyMjJmZmbc3NwAAACOMKdoAAAAAXRSTlMAQObYZgAAAFBJREFU\n",
       "CNdj4Lt7egEDw0sGju8MDNMYGOIZGFwSGOYvYDifwHAfKAEUSQASzJ9ATJ4NIPI2iOCYACJrGfge\n",
       "MDBfYGB8wPBUSekqUPH//18ZAIliFhc3zESNAAAAAElFTkSuQmCC\n",
       "\" style=\"display:inline;vertical-align:middle;\" /></a></td></tr>\n",
       "<tr><td>7</td><td>Literal</td><td></td><td><a class=\"ProveItLink\" href=\"../../../sets/real/__pv_it/399ccec6a6e90df280e82734a8711cdb89199bc00/expr.ipynb\"><img src=\"data:image/png;base64,iVBORw0KGgoAAAANSUhEUgAAABsAAAATBAMAAACTqWsLAAAAMFBMVEX///8iIiK6urp2dnbu7u5m\n",
       "ZmaqqqrMzMxUVFTc3NyIiIgQEBBEREQyMjKYmJgAAAA9nvXMAAAAAXRSTlMAQObYZgAAAGxJREFU\n",
       "GNNjYIADNgYUwEMy9+2f83f3LkDIHpjBUJM7gaH37u27d4HCB6Yy8HgeQMhOZWAuwMflQFWs+HYC\n",
       "kMEB4c4WlE1A2H5gqiqPAzKXVb0BmctwZR0Kt4KjAJnLnHASxgN64TjDnftQswFmaSyXIBgH2QAA\n",
       "AABJRU5ErkJggg==\n",
       "\" style=\"display:inline;vertical-align:middle;\" /></a></td></tr>\n",
       "</table>\n"
      ],
      "text/plain": [
       "0. {2 in RealsPos}\n",
       "   core type: Operation\n",
       "   operator: 1\n",
       "   operands: 2\n",
       "1. Set\n",
       "   core type: Literal\n",
       "   sub-expressions: \n",
       "2. (2 in RealsPos)\n",
       "   core type: ExprTuple\n",
       "   sub-expressions: 3\n",
       "3. 2 in RealsPos\n",
       "   core type: Operation\n",
       "   operator: 4\n",
       "   operands: 5\n",
       "4. in\n",
       "   core type: Literal\n",
       "   sub-expressions: \n",
       "5. (2 , RealsPos)\n",
       "   core type: ExprTuple\n",
       "   sub-expressions: 6, 7\n",
       "6. 2\n",
       "   core type: Literal\n",
       "   sub-expressions: \n",
       "7. RealsPos\n",
       "   core type: Literal\n",
       "   sub-expressions: "
      ]
     },
     "execution_count": 4,
     "metadata": {},
     "output_type": "execute_result"
    }
   ],
   "source": [
    "# display the expression information\n",
    "expr.exprInfo()"
   ]
  },
  {
   "cell_type": "code",
   "execution_count": null,
   "metadata": {},
   "outputs": [],
   "source": []
  }
 ],
 "metadata": {
  "kernelspec": {
   "display_name": "Python 3",
   "language": "python",
   "name": "python3"
  }
 },
 "nbformat": 4,
 "nbformat_minor": 0
}
