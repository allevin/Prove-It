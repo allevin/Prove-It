{
 "cells": [
  {
   "cell_type": "markdown",
   "metadata": {},
   "source": [
    "Expression of type <a class=\"ProveItLink\" href=\"../../../../../../doc/html/api/proveit.ExprTuple.html\">ExprTuple</a>\n",
    "=======================\n",
    "# from context <a class=\"ProveItLink\" href=\"../../_context_.ipynb\">proveit.number.addition</a>"
   ]
  },
  {
   "cell_type": "code",
   "execution_count": 1,
   "metadata": {},
   "outputs": [],
   "source": [
    "# import Expression classes needed to build the expression\n",
    "from proveit import ExprTuple\n",
    "from proveit._common_ import CC, n\n",
    "from proveit.number import Exp, RealsNeg"
   ]
  },
  {
   "cell_type": "code",
   "execution_count": 2,
   "metadata": {},
   "outputs": [
    {
     "data": {
      "text/html": [
       "<strong id=\"expr\">expr:</strong> <a class=\"ProveItLink\" href=\"expr.ipynb\"><img src=\"data:image/png;base64,iVBORw0KGgoAAAANSUhEUgAAAGIAAAAaBAMAAAC++pSRAAAAMFBMVEX///+qqqp2dnYiIiJERESI\n",
       "iIhmZmYQEBDc3NyYmJgyMjLu7u5UVFTMzMy6uroAAACGxKilAAAAAXRSTlMAQObYZgAAAgtJREFU\n",
       "OMtjYGB4x0A8UAARvAdI0HEHROzaQJTaaXFBQKNZA4DMk2CBZ/bfT3BCbeMLQFM9j4GBe95PBlsg\n",
       "04KBgaMAJPb41wzu6f4BMKtnffFfVYXQx3aBgWPrAoYfQGYMkJcApJn+CwCN/n8BomA1A4NDD8MV\n",
       "qQYGERcgALp6AQMDTwAfyOz9GxjYHwBp/X8gleshGkBudWhjYNnhALdkEgMD+wW2BKBS5gkM94EC\n",
       "jP9BFjGkQKTZN4B1MF1A6NjOwNDPwH4P6AY2B4ZwkJr/DSDxQIj0KwYMHSwCDE8Y2DSBLM4PDKeA\n",
       "lPwX5JBJgujgQXIVUwKMxfebwQdInf+JrGMlRMfjWQ1wIcYFMBbvX4ZlIC//RdZRB9LRbmwlgBAC\n",
       "BxMYcPxjMANS9r/BwlAz/4HteMaClBZ4P8BY3B/BOtaDBdhRdLC9PYBNB9CONUAqHuwqHahgIcQf\n",
       "qyOxuuovwxFQcIPCihXoO26QoCdExx2eC3AdnHCf8/1gCAZptF+4oRPkvP0GQEINGh8CHlhCFxgf\n",
       "78G0+38zkC+2gxLbYwZQSvRlWLIeHlpcD+B6FzDwX0AO2RdIIYAEtsNZXAEMPArIUhNAFipg6FCF\n",
       "s/Y3MPAaoOsApXZUwA33OMMUIHZEkmIFkz3oOngQ7gTlwy4MN3Cg59pYRDCDAo1RgYSypAVMTiRB\n",
       "RzYDGQAAUv6JgpbFxgQAAAAASUVORK5CYII=\n",
       "\" style=\"display:inline;vertical-align:middle;\" /></a><br>"
      ],
      "text/plain": [
       "expr: (C , (RealsNeg)^{n})"
      ]
     },
     "execution_count": 2,
     "metadata": {},
     "output_type": "execute_result"
    }
   ],
   "source": [
    "# build up the expression from sub-expressions\n",
    "expr = ExprTuple(CC, Exp(RealsNeg, n))"
   ]
  },
  {
   "cell_type": "code",
   "execution_count": 3,
   "metadata": {},
   "outputs": [
    {
     "name": "stdout",
     "output_type": "stream",
     "text": [
      "Passed sanity check: built 'expr' is the same as the stored Expression.\n"
     ]
    }
   ],
   "source": [
    "# check that the built expression is the same as the stored expression\n",
    "%check_expr"
   ]
  },
  {
   "cell_type": "code",
   "execution_count": 4,
   "metadata": {},
   "outputs": [
    {
     "data": {
      "text/html": [
       "<table><tr><th>&nbsp;</th><th>core type</th><th>sub-expressions</th><th>expression</th></tr>\n",
       "<tr><td>0</td><td>ExprTuple</td><td>1, 2</td><td><a class=\"ProveItLink\" href=\"expr.ipynb\"><img src=\"data:image/png;base64,iVBORw0KGgoAAAANSUhEUgAAAGIAAAAaBAMAAAC++pSRAAAAMFBMVEX///+qqqp2dnYiIiJERESI\n",
       "iIhmZmYQEBDc3NyYmJgyMjLu7u5UVFTMzMy6uroAAACGxKilAAAAAXRSTlMAQObYZgAAAgtJREFU\n",
       "OMtjYGB4x0A8UAARvAdI0HEHROzaQJTaaXFBQKNZA4DMk2CBZ/bfT3BCbeMLQFM9j4GBe95PBlsg\n",
       "04KBgaMAJPb41wzu6f4BMKtnffFfVYXQx3aBgWPrAoYfQGYMkJcApJn+CwCN/n8BomA1A4NDD8MV\n",
       "qQYGERcgALp6AQMDTwAfyOz9GxjYHwBp/X8gleshGkBudWhjYNnhALdkEgMD+wW2BKBS5gkM94EC\n",
       "jP9BFjGkQKTZN4B1MF1A6NjOwNDPwH4P6AY2B4ZwkJr/DSDxQIj0KwYMHSwCDE8Y2DSBLM4PDKeA\n",
       "lPwX5JBJgujgQXIVUwKMxfebwQdInf+JrGMlRMfjWQ1wIcYFMBbvX4ZlIC//RdZRB9LRbmwlgBAC\n",
       "BxMYcPxjMANS9r/BwlAz/4HteMaClBZ4P8BY3B/BOtaDBdhRdLC9PYBNB9CONUAqHuwqHahgIcQf\n",
       "qyOxuuovwxFQcIPCihXoO26QoCdExx2eC3AdnHCf8/1gCAZptF+4oRPkvP0GQEINGh8CHlhCFxgf\n",
       "78G0+38zkC+2gxLbYwZQSvRlWLIeHlpcD+B6FzDwX0AO2RdIIYAEtsNZXAEMPArIUhNAFipg6FCF\n",
       "s/Y3MPAaoOsApXZUwA33OMMUIHZEkmIFkz3oOngQ7gTlwy4MN3Cg59pYRDCDAo1RgYSypAVMTiRB\n",
       "RzYDGQAAUv6JgpbFxgQAAAAASUVORK5CYII=\n",
       "\" style=\"display:inline;vertical-align:middle;\" /></a></td></tr>\n",
       "<tr><td>1</td><td>Variable</td><td></td><td><a class=\"ProveItLink\" href=\"../../../../__pv_it/9242e69d4f2c65d04fc0527b82418c7c22c6da370/expr.ipynb\"><img src=\"data:image/png;base64,iVBORw0KGgoAAAANSUhEUgAAABEAAAAPBAMAAADwnzkiAAAAMFBMVEX////MzMyqqqp2dnaIiIhE\n",
       "RETu7u4yMjKYmJjc3NxUVFQQEBAiIiJmZma6uroAAACABxMuAAAAAXRSTlMAQObYZgAAAHRJREFU\n",
       "CNdjYGBgeHv+90qOBUDGm++dbN3xDgwMzP8VGBj4/gswMNj/A4oz1DMwMP2/AGJdZWDg/j8BxHJi\n",
       "YND/ygAF63/AWPUfYazz30AkH1Bx/QcQixvI8gfLWgFxNkgvSwGQ4DxflDDjLFgLR/T/syDDAbB9\n",
       "IeZrCwgeAAAAAElFTkSuQmCC\n",
       "\" style=\"display:inline;vertical-align:middle;\" /></a></td></tr>\n",
       "<tr><td>2</td><td>Operation</td><td>operator:&nbsp;3<br>operands:&nbsp;4<br></td><td><a class=\"ProveItLink\" href=\"../3a607a0422740abf39c50e8a16cf993a67a9e3bb0/expr.ipynb\"><img src=\"data:image/png;base64,iVBORw0KGgoAAAANSUhEUgAAADYAAAAVBAMAAAD/UwB2AAAAMFBMVEX////c3NwiIiJERESqqqqY\n",
       "mJh2dnZmZmYQEBDu7u4yMjJUVFTMzMyIiIi6uroAAAAs73DqAAAAAXRSTlMAQObYZgAAAPhJREFU\n",
       "KM9jYMAKWGvfZgMpvgvo4g8YGKa+D2A6wMBwmiHqs/2qLiQVNQwMkrcY+AUYGFYyMBhIMxz2EmBw\n",
       "NgaCCQwMXED5vQwvGBh4gRoMxBmYJxogDE1gYOhhKOdj4JgAlmM7gJDjbGBg/MDQ84bhFQOGHIMJ\n",
       "A58BQ1kAQxlEjhvJTIZ0KL0UIvcoSgAh5wWl+0ByEkpaDkg+fAGl/4H1PWeegCR3HkWO/c0GLHIt\n",
       "EPtWXsVipilE7jT3AYRcFJJ7Qf5zMMT0wyMGUFjbMCxej3DpOijNIYARecAwQwQsGmCDx9dKDLlZ\n",
       "cJY0htxGOIsRPU3wwnwDAAuMPJ0jflbIAAAAAElFTkSuQmCC\n",
       "\" style=\"display:inline;vertical-align:middle;\" /></a></td></tr>\n",
       "<tr><td>3</td><td>Literal</td><td></td><td><a class=\"ProveItLink\" href=\"../../../exponentiation/__pv_it/deb2bf23cbccdd6e6791e1b35b5b9794ce12dbd50/expr.ipynb\"><img src=\"data:image/png;base64,iVBORw0KGgoAAAANSUhEUgAAACgAAAASBAMAAADbMYGVAAAAMFBMVEX///8QEBAiIiKYmJjc3Nzu\n",
       "7u7MzMx2dnZmZma6urpERESqqqoyMjJUVFSIiIgAAAAoDOMTAAAAAXRSTlMAQObYZgAAAOBJREFU\n",
       "GNNjYGB4+//u3Tt/GNAASGAXmhjnPyDBgSbI/g1IxKEJ8nxgYGdgQRPkX8BgDKRY6q7s62OYvmze\n",
       "2wAgb/7ZO1+AVDiDkYEQQ0HTBr4DQF59AgOIKmB4z7CNbcNZBu6vQN55kEACQwDDLQYGVobfDHwg\n",
       "fb8YGBxYHwAZciD3fWXg+gB1JjvQcJZvQIXsCgz8F6DO9GBgMOH7wPCUgaeBwd4B7EwGNjUG7s9c\n",
       "AiwPgO5jkWRgiF3/9+5dfQUG1nWl5Y+B7pv+1gE9bBhqGLCAE1jEWH9jEbT5A3IwAC4sP/1L6Qlu\n",
       "AAAAAElFTkSuQmCC\n",
       "\" style=\"display:inline;vertical-align:middle;\" /></a></td></tr>\n",
       "<tr><td>4</td><td>ExprTuple</td><td>5, 6</td><td><a class=\"ProveItLink\" href=\"../31b720270b2eeaf478d0784a717b696d2e65f4970/expr.ipynb\"><img src=\"data:image/png;base64,iVBORw0KGgoAAAANSUhEUgAAAEAAAAAaBAMAAAD1Ukd8AAAAMFBMVEX///+qqqp2dnYiIiJERESI\n",
       "iIhmZmYQEBDc3NyYmJgyMjLu7u5UVFTMzMy6uroAAACGxKilAAAAAXRSTlMAQObYZgAAAUVJREFU\n",
       "KM9jYGB4x4ATKIAI3gO4FdwBEbs24FbAGgAkTjLgARYMDBwFDLO++K+qCsCqIIaBgS2BgcGhh+GK\n",
       "VAODiAsQoFq4fwMD+wOggjYGlh0O2ExgnsBwnwGsgOkCVgVsDgzheBVwfmA4BVHAg2bFU4/WGGAw\n",
       "8f1m8IEoeDyrATUMTwVw/wWG4l+GZSAF7cZWAijyfA9MGLj/AQPhH4MZ2IRnLKje4wbKMv4G0h+h\n",
       "CtjeosUIUJZnAdiENRA3rI5E898CBv4JGxg4/jIcgSi4w3MBbjyIYFdgmL9BgYHvB0MwNBwEPODB\n",
       "awAk+h8wqDBeAIXDewZQZPkyLFkP88f2H0DiOQNDSyADAxPQpgsYwfcCweQKYOBRwFAwASk2Gxh4\n",
       "DfApmALEjhjpDIltC8RdeFIcZwIozBRwK2gBkxNxK8hmIAwAz9NXViiR83QAAAAASUVORK5CYII=\n",
       "\" style=\"display:inline;vertical-align:middle;\" /></a></td></tr>\n",
       "<tr><td>5</td><td>Literal</td><td></td><td><a class=\"ProveItLink\" href=\"../../../sets/real/__pv_it/ae6abf015b290ff2a5b5ccb58f19177a82c6074b0/expr.ipynb\"><img src=\"data:image/png;base64,iVBORw0KGgoAAAANSUhEUgAAABsAAAAOBAMAAAAs4XpOAAAAMFBMVEX///8iIiK6urp2dnbu7u5m\n",
       "ZmaqqqrMzMxUVFTc3NyIiIgQEBBEREQyMjKYmJgAAAA9nvXMAAAAAXRSTlMAQObYZgAAAF1JREFU\n",
       "CNdjePvn/N29Cxjg4MAMhprcCQw5Z4DAAcidysDjeQAhO5WBuQAflwNVseLbCQjubEHZBCSLpqry\n",
       "OCBzWdUbkLkMV9ahcCs4ClDsTTgJ4wG9cJzhzn2o2QB/7ytaZzHgkAAAAABJRU5ErkJggg==\n",
       "\" style=\"display:inline;vertical-align:middle;\" /></a></td></tr>\n",
       "<tr><td>6</td><td>Variable</td><td></td><td><a class=\"ProveItLink\" href=\"../../../../__pv_it/39dbcd3ca0390345b51c6ef7785756419e2c14390/expr.ipynb\"><img src=\"data:image/png;base64,iVBORw0KGgoAAAANSUhEUgAAAAwAAAAJBAMAAAD0ltBnAAAAMFBMVEX///8QEBCYmJhmZmaqqqoi\n",
       "IiLMzMzu7u4yMjJ2dnZUVFTc3NxERESIiIi6uroAAABbPXqjAAAAAXRSTlMAQObYZgAAAERJREFU\n",
       "CNdj4Luz++5KBgZOrl6G+gSGd6wHGOofMBQAsX8BAwivYGBgsGBg+MTOwCDJwPSdk4H7HwPnATcG\n",
       "PgEG7rMOAGtQEUwHZIDZAAAAAElFTkSuQmCC\n",
       "\" style=\"display:inline;vertical-align:middle;\" /></a></td></tr>\n",
       "</table>\n"
      ],
      "text/plain": [
       "0. (C , (RealsNeg)^{n})\n",
       "   core type: ExprTuple\n",
       "   sub-expressions: 1, 2\n",
       "1. C\n",
       "   core type: Variable\n",
       "   sub-expressions: \n",
       "2. (RealsNeg)^{n}\n",
       "   core type: Operation\n",
       "   operator: 3\n",
       "   operands: 4\n",
       "3. Exp\n",
       "   core type: Literal\n",
       "   sub-expressions: \n",
       "4. (RealsNeg , n)\n",
       "   core type: ExprTuple\n",
       "   sub-expressions: 5, 6\n",
       "5. RealsNeg\n",
       "   core type: Literal\n",
       "   sub-expressions: \n",
       "6. n\n",
       "   core type: Variable\n",
       "   sub-expressions: "
      ]
     },
     "execution_count": 4,
     "metadata": {},
     "output_type": "execute_result"
    }
   ],
   "source": [
    "# display the expression information\n",
    "expr.exprInfo()"
   ]
  },
  {
   "cell_type": "code",
   "execution_count": null,
   "metadata": {},
   "outputs": [],
   "source": []
  }
 ],
 "metadata": {
  "kernelspec": {
   "display_name": "Python 3",
   "language": "python",
   "name": "python3"
  }
 },
 "nbformat": 4,
 "nbformat_minor": 0
}
