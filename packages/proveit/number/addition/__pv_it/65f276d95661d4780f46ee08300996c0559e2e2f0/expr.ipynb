{
 "cells": [
  {
   "cell_type": "markdown",
   "metadata": {},
   "source": [
    "Expression of type <a class=\"ProveItLink\" href=\"../../../../../../doc/html/api/proveit.number.Add.html\">Add</a>\n",
    "=======================\n",
    "# from context <a class=\"ProveItLink\" href=\"../../_context_.ipynb\">proveit.number.addition</a>"
   ]
  },
  {
   "cell_type": "code",
   "execution_count": 1,
   "metadata": {},
   "outputs": [],
   "source": [
    "# import Expression classes needed to build the expression\n",
    "from proveit import Variable\n",
    "from proveit._common_ import c\n",
    "from proveit.number import Add, Mult, three"
   ]
  },
  {
   "cell_type": "code",
   "execution_count": 2,
   "metadata": {},
   "outputs": [
    {
     "data": {
      "text/html": [
       "<strong id=\"expr\">expr:</strong> <a class=\"ProveItLink\" href=\"../c0247b8956cdacf9d784fe1549711d87fc4fbaba0/expr.ipynb\"><img src=\"data:image/png;base64,iVBORw0KGgoAAAANSUhEUgAAAHAAAAAVBAMAAABs93eRAAAAMFBMVEX////c3NwiIiJERESqqqqY\n",
       "mJh2dnZmZmYQEBDu7u4yMjJUVFTMzMyIiIi6uroAAAAs73DqAAAAAXRSTlMAQObYZgAAAVRJREFU\n",
       "OMtjYCAb8F3AEGJ9QIzG0wwMx9JMUMVqiNG4koGxgOE9qrVcROjjvcDA9oWBXwHVrQlQxkTcGjkm\n",
       "MLBgaORsgDJ8cWt8BSbRnMpgQlhjGZhcjRCYlnuHgSEdu0ax2yLXYVYsBWKerA1wOZ4+hkUMDF5Y\n",
       "NXImsKpywDzVByZvgGKOcwKQmHGBwZSB4QVWjWwMvB9YDkA5/yBB9BNIzAcZth/MP4/dRgZuAzgH\n",
       "qJHxAAPzV5BlINHPCI1Vq1ZprFq1GiUOEIHYArTpJ0QjCDD+BVMvcISq/AGGCVAm0EP8CxiYPsKk\n",
       "gCawMjBEYdXIKnCfgRemERjwvAEM72FJhWE7A0MOrujwD7BgkIVxHgGxe/kSuCR77l2gmetQNbIY\n",
       "A4Elw+Rr03IDYBwOASypgpgkB0/PKBEGC7y3eLMVJphFTH6UxiK2kRiNjJhFB+8BwtoA0rlScz0R\n",
       "3LAAAAAASUVORK5CYII=\n",
       "\" style=\"display:inline;vertical-align:middle;\" /></a><br>"
      ],
      "text/plain": [
       "expr: (3 * c) + _x_"
      ]
     },
     "execution_count": 2,
     "metadata": {},
     "output_type": "execute_result"
    }
   ],
   "source": [
    "# build up the expression from sub-expressions\n",
    "expr = Add(Mult(three, c), Variable(\"_x_\", latexFormat = r\"{_{-}x_{-}}\"))"
   ]
  },
  {
   "cell_type": "code",
   "execution_count": 3,
   "metadata": {},
   "outputs": [
    {
     "name": "stdout",
     "output_type": "stream",
     "text": [
      "Passed sanity check: built 'expr' is the same as the stored Expression.\n"
     ]
    }
   ],
   "source": [
    "# check that the built expression is the same as the stored expression\n",
    "%check_expr"
   ]
  },
  {
   "cell_type": "code",
   "execution_count": 4,
   "metadata": {},
   "outputs": [
    {
     "data": {
      "text/html": [
       "<table><tr><th>&nbsp;</th><th>core type</th><th>sub-expressions</th><th>expression</th></tr>\n",
       "<tr><td>0</td><td>Operation</td><td>operator:&nbsp;1<br>operands:&nbsp;2<br></td><td><a class=\"ProveItLink\" href=\"../c0247b8956cdacf9d784fe1549711d87fc4fbaba0/expr.ipynb\"><img src=\"data:image/png;base64,iVBORw0KGgoAAAANSUhEUgAAAHAAAAAVBAMAAABs93eRAAAAMFBMVEX////c3NwiIiJERESqqqqY\n",
       "mJh2dnZmZmYQEBDu7u4yMjJUVFTMzMyIiIi6uroAAAAs73DqAAAAAXRSTlMAQObYZgAAAVRJREFU\n",
       "OMtjYCAb8F3AEGJ9QIzG0wwMx9JMUMVqiNG4koGxgOE9qrVcROjjvcDA9oWBXwHVrQlQxkTcGjkm\n",
       "MLBgaORsgDJ8cWt8BSbRnMpgQlhjGZhcjRCYlnuHgSEdu0ax2yLXYVYsBWKerA1wOZ4+hkUMDF5Y\n",
       "NXImsKpywDzVByZvgGKOcwKQmHGBwZSB4QVWjWwMvB9YDkA5/yBB9BNIzAcZth/MP4/dRgZuAzgH\n",
       "qJHxAAPzV5BlINHPCI1Vq1ZprFq1GiUOEIHYArTpJ0QjCDD+BVMvcISq/AGGCVAm0EP8CxiYPsKk\n",
       "gCawMjBEYdXIKnCfgRemERjwvAEM72FJhWE7A0MOrujwD7BgkIVxHgGxe/kSuCR77l2gmetQNbIY\n",
       "A4Elw+Rr03IDYBwOASypgpgkB0/PKBEGC7y3eLMVJphFTH6UxiK2kRiNjJhFB+8BwtoA0rlScz0R\n",
       "3LAAAAAASUVORK5CYII=\n",
       "\" style=\"display:inline;vertical-align:middle;\" /></a></td></tr>\n",
       "<tr><td>1</td><td>Literal</td><td></td><td><a class=\"ProveItLink\" href=\"../3e6688136fa3c7aefbebe51301b7c3ebf0b69c440/expr.ipynb\"><img src=\"data:image/png;base64,iVBORw0KGgoAAAANSUhEUgAAAA4AAAAOBAMAAADtZjDiAAAAJFBMVEX///+6urpUVFQQEBAiIiIy\n",
       "MjJmZmaIiIiqqqrc3Nzu7u4AAACgHpL+AAAAAXRSTlMAQObYZgAAAB5JREFUCNdjYGBgWMkAAe2k\n",
       "0Kmhoc6hoUGk6BMHYgAHOwjcado9fwAAAABJRU5ErkJggg==\n",
       "\" style=\"display:inline;vertical-align:middle;\" /></a></td></tr>\n",
       "<tr><td>2</td><td>ExprTuple</td><td>3, 4</td><td><a class=\"ProveItLink\" href=\"../2e32baed9d327d6145f453889ec46daf4f259c890/expr.ipynb\"><img src=\"data:image/png;base64,iVBORw0KGgoAAAANSUhEUgAAAF8AAAAVBAMAAADSoS/MAAAAMFBMVEX////c3NwiIiJERESqqqqY\n",
       "mJh2dnZmZmYQEBDu7u4yMjJUVFTMzMyIiIi6uroAAAAs73DqAAAAAXRSTlMAQObYZgAAAUtJREFU\n",
       "OMtjYCAZ8F0gXm0ciDjNwHAszYQ4DewHgMRKBsYChvdEWrOAgYH3AgPbFwZ+BeI0hDEwcExgYCFe\n",
       "wwwGhldgBrFOYnZgKAMzViPEpuXeQVEjdlvkOtw4tgKGpUCKJ2sDXJ6nj2ERsnrOBFZVDriDWRYw\n",
       "9IEZNx6A5CaAXHmBwRRZAxsD7weWA/BIa2D4B2Zw/AQS80EG7UdzNScDtwGCx/MBpIHxAAPzV5Dh\n",
       "IJnPGB7luICioQVo8k+IBhBg/IuhQf4AwwQkJwEdzL+AgekjTAiokxWhAMgRuM/AC+ezLmBIB0Z2\n",
       "AMP7BJjQdgaGHM5PCA3+ARYMsgxIwfoISLmXL0Gkr9y7Ezj7BYAhaAwElgyTr03LDYBxGLgeMHAI\n",
       "YEvyAriTBmsCFnFWXEkjF5y8idfACUzeDNJYJHAlRW6QUxlJyKLAZAkAF3hNGNzcXkEAAAAASUVO\n",
       "RK5CYII=\n",
       "\" style=\"display:inline;vertical-align:middle;\" /></a></td></tr>\n",
       "<tr><td>3</td><td>Operation</td><td>operator:&nbsp;5<br>operands:&nbsp;6<br></td><td><a class=\"ProveItLink\" href=\"../6ea99038828acf4f95344c36471089d895e211420/expr.ipynb\"><img src=\"data:image/png;base64,iVBORw0KGgoAAAANSUhEUgAAACIAAAAOBAMAAAC4B9O8AAAAMFBMVEX///+YmJju7u4QEBBUVFQy\n",
       "MjIiIiKIiIi6urpmZmbc3NyqqqpERER2dnbMzMwAAAB0GlNiAAAAAXRSTlMAQObYZgAAAIZJREFU\n",
       "CNdjYHh79zQDCuCawNBfgCLC+5uBPwFFhBtDBAjQdAFBCIKpe72OgYHvqgNcgM+CIQxEFzcACSYF\n",
       "IKFcwHAQJML8CUjog4z3B7vnAQPPR5D0ASDxBySi/wkiApb9DiL5AxjYfsFMBkoxMrALMPRfgIl4\n",
       "MjDcY2DYOTMabjvn9XIFAJAVHuIpDSmpAAAAAElFTkSuQmCC\n",
       "\" style=\"display:inline;vertical-align:middle;\" /></a></td></tr>\n",
       "<tr><td>4</td><td>Variable</td><td></td><td><a class=\"ProveItLink\" href=\"../../../../logic/__pv_it/5144cf74ae6a683b49b974f1b9302b432abf7e930/expr.ipynb\"><img src=\"data:image/png;base64,iVBORw0KGgoAAAANSUhEUgAAACUAAAAJBAMAAABH3vh9AAAAKlBMVEX////MzMwQEBAiIiKYmJhm\n",
       "ZmZUVFSIiIh2dnbc3Nzu7u5ERESqqqoAAABwkVEpAAAAAXRSTlMAQObYZgAAAEtJREFUCNdjYIAA\n",
       "zvbM4+EMqGAFg7ODMppYA0Mtw0E0sQUM2QyYQB1TiPMiAxeakCf7BYYqVCGeK9wKnAUw3undQLCA\n",
       "a3tXRwmMAwC3+RVNp6j0GAAAAABJRU5ErkJggg==\n",
       "\" style=\"display:inline;vertical-align:middle;\" /></a></td></tr>\n",
       "<tr><td>5</td><td>Literal</td><td></td><td><a class=\"ProveItLink\" href=\"../../../multiplication/__pv_it/21fd2079611555ecce512d99547a00d551e6b86b0/expr.ipynb\"><img src=\"data:image/png;base64,iVBORw0KGgoAAAANSUhEUgAAAAMAAAADBAMAAACkBqiMAAAAElBMVEX///9EREQQEBAiIiLu7u4A\n",
       "AABGBidwAAAAAXRSTlMAQObYZgAAABFJREFUCNdjYHFgcDVgcBIAAASWAQx4jI0xAAAAAElFTkSu\n",
       "QmCC\n",
       "\" style=\"display:inline;vertical-align:middle;\" /></a></td></tr>\n",
       "<tr><td>6</td><td>ExprTuple</td><td>7, 8</td><td><a class=\"ProveItLink\" href=\"../6006dd3ab434da37f2d3692f39e9e2b651e1a4720/expr.ipynb\"><img src=\"data:image/png;base64,iVBORw0KGgoAAAANSUhEUgAAACkAAAAVBAMAAAAp9toTAAAAMFBMVEX////c3NwiIiJERESqqqqY\n",
       "mJh2dnZmZmYQEBDu7u4yMjJUVFTMzMyIiIi6uroAAAAs73DqAAAAAXRSTlMAQObYZgAAAPtJREFU\n",
       "GNNjYMAO+C6gCcSBiNMMDMfSTJBE2Q8AiZUMjAUM75E1LGBg4L3AwPaFgV8BSTSMgYFjAgMLmugM\n",
       "BoZXYAaKCcwODGVgxmqoAGfa3QMMbAUMS4FsnqwNUNETD7gUGFgWMPSBeTceQJT2MjAHMPA1MPwD\n",
       "czl+ginuDyCS5wNIlPEAA/NXsCi/AVS0hYFh/k+YqDzYKUATTIEqFjAwfWSYAFIbwMAQwMC6gCEd\n",
       "6L0AhvcJnJ9A5hYwsIFd9gjIcS9fwsDZLwBkld29ycDA9YCBQwAWogJIPmZNgLJZ4T7OBYckmign\n",
       "MCQZpKEcePhwg4xiRI+hOwwMANqAO5LCdo8qAAAAAElFTkSuQmCC\n",
       "\" style=\"display:inline;vertical-align:middle;\" /></a></td></tr>\n",
       "<tr><td>7</td><td>Literal</td><td></td><td><a class=\"ProveItLink\" href=\"../../../numeral/__pv_it/9176d93c83afa2c995b614976e3cb49207102fa70/expr.ipynb\"><img src=\"data:image/png;base64,iVBORw0KGgoAAAANSUhEUgAAAAoAAAAOBAMAAADkjZCYAAAAMFBMVEX///+YmJju7u4QEBBUVFQy\n",
       "MjIiIiKIiIi6urpmZmbc3NyqqqpERER2dnbMzMwAAAB0GlNiAAAAAXRSTlMAQObYZgAAAE1JREFU\n",
       "CNdjYHh79zQDA9cEhv4CBt7fDPwJDNxgEgiAIkAQAsR8Vx1ATIbiBhDJ/ImB6wEDz0cG/U8gkj+A\n",
       "ge0XA7sAQ/8FBoadM6MZAEflFACalZ/OAAAAAElFTkSuQmCC\n",
       "\" style=\"display:inline;vertical-align:middle;\" /></a></td></tr>\n",
       "<tr><td>8</td><td>Variable</td><td></td><td><a class=\"ProveItLink\" href=\"../../../../__pv_it/cbdfda466482236edba0ce44ac7ef39cda0af7a40/expr.ipynb\"><img src=\"data:image/png;base64,iVBORw0KGgoAAAANSUhEUgAAAAkAAAAJBAMAAAASvxsjAAAALVBMVEX///9mZmbc3NxUVFSYmJhE\n",
       "REQiIiIyMjK6uroQEBDMzMyIiIh2dnbu7u4AAABgFDGoAAAAAXRSTlMAQObYZgAAADZJREFUCNdj\n",
       "YOA9s3sBA8PKBvYEBt7ZDKwODMwPGICALwBE6m0Asx0YGIDiAgw8QJUyu/cyAAAmuwmycZ8WfQAA\n",
       "AABJRU5ErkJggg==\n",
       "\" style=\"display:inline;vertical-align:middle;\" /></a></td></tr>\n",
       "</table>\n"
      ],
      "text/plain": [
       "0. (3 * c) + _x_\n",
       "   core type: Operation\n",
       "   operator: 1\n",
       "   operands: 2\n",
       "1. +\n",
       "   core type: Literal\n",
       "   sub-expressions: \n",
       "2. (3 * c , _x_)\n",
       "   core type: ExprTuple\n",
       "   sub-expressions: 3, 4\n",
       "3. 3 * c\n",
       "   core type: Operation\n",
       "   operator: 5\n",
       "   operands: 6\n",
       "4. _x_\n",
       "   core type: Variable\n",
       "   sub-expressions: \n",
       "5. *\n",
       "   core type: Literal\n",
       "   sub-expressions: \n",
       "6. (3 , c)\n",
       "   core type: ExprTuple\n",
       "   sub-expressions: 7, 8\n",
       "7. 3\n",
       "   core type: Literal\n",
       "   sub-expressions: \n",
       "8. c\n",
       "   core type: Variable\n",
       "   sub-expressions: "
      ]
     },
     "execution_count": 4,
     "metadata": {},
     "output_type": "execute_result"
    }
   ],
   "source": [
    "# display the expression information\n",
    "expr.exprInfo()"
   ]
  },
  {
   "cell_type": "code",
   "execution_count": null,
   "metadata": {},
   "outputs": [],
   "source": []
  }
 ],
 "metadata": {
  "kernelspec": {
   "display_name": "Python 3",
   "language": "python",
   "name": "python3"
  }
 },
 "nbformat": 4,
 "nbformat_minor": 0
}
