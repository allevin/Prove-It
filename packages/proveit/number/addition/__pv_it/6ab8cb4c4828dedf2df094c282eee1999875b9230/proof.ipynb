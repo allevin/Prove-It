{
 "cells": [
  {
   "cell_type": "markdown",
   "metadata": {},
   "source": [
    "Show the Proof\n",
    "========"
   ]
  },
  {
   "cell_type": "code",
   "execution_count": 1,
   "metadata": {},
   "outputs": [
    {
     "data": {
      "text/html": [
       "<table><tr><th>&nbsp;</th><th>step type</th><th>requirements</th><th>statement</th></tr>\n",
       "<tr><td>0</td><td>assumption</td><td></td><td><span style=\"font-size:20px;\"><a class=\"ProveItLink\" href=\"../a528d30b1d68833aec6c9c281831260e3812d8e30/expr.ipynb\"><img src=\"data:image/png;base64,iVBORw0KGgoAAAANSUhEUgAAAEsAAAAVBAMAAAD85A5eAAAAMFBMVEX////c3NxERESqqqpUVFS6\n",
       "urrMzMwyMjIQEBCIiIh2dnYiIiLu7u5mZmaYmJgAAABXZE4RAAAAAXRSTlMAQObYZgAAAU5JREFU\n",
       "KM9jYGDgu8eAD7CtEgBRPLsY8AO2ZhDJ+QGseJLvPcYLaApml//YBBS7DmJzNYDIFQ8YWG88QFWV\n",
       "+pXh1E8HoBxc2fE9QGK9AIoqPhagNnsUZRUHgEQEWJZn+u7dBSDGGw4gwYusjPcziCULVpb+Bmra\n",
       "BRGQpglIyuTB2o+BCEYdqCqeC1FQFlgZL1DJfYTjmWAOZFtgB2W9BxEZAQwM+xGOPwQPrgVxUBY7\n",
       "MFBS2oCM/2AuyBsMEbt3Q7zAo5AF06EOtCwigYGhH8RhTgCRKXBza1igDO4FQIIFqNUfZBAvWOw0\n",
       "XNkrFqgVYLdxbWBgyAd6m2ENWJIF7hump0BR1j1IAcIHDLdYiDd4tsKNc9E8cFTpAHIspJTcNYBK\n",
       "il+D+/X2/5YABmRlyMCkGhJZcIBdGQYAK+MjqAyc3nh2Ekq9rZB0tZhwXgAA9/dbLUdhO64AAAAA\n",
       "SUVORK5CYII=\n",
       "\" style=\"display:inline;vertical-align:middle;\" /></a> <a class=\"ProveItLink\" href=\"proof.ipynb\" style=\"text-decoration: none\">&#x22A2;&nbsp;</a><a class=\"ProveItLink\" href=\"../855d9527ffc0c8a7617618867554f5dfd2bf28d00/expr.ipynb\"><img src=\"data:image/png;base64,iVBORw0KGgoAAAANSUhEUgAAADgAAAAPBAMAAABD1xE4AAAAMFBMVEX////MzMyqqqoiIiIyMjK6\n",
       "uroQEBB2dnbc3NyYmJhmZmZUVFRERESIiIju7u4AAAB204erAAAAAXRSTlMAQObYZgAAAOhJREFU\n",
       "GNNjYGDgu7NrJccCBlRw2eWbDUisbAID67IJqHKiXxme/93AwPDEDsipb0CR4+QGKtYHSro9APLC\n",
       "wGJ8V4yNHUCMeWxAgmsDA9cnEK8LLCkyD6pzQTdI6QWGfrDShyCC4xxUjm9BOISxHuEUHpjFjAWa\n",
       "EIY9wilvGOCSkRDGfzAJchRDmLExxEF8B8QhkvkggkkARErDzfDjhtD7QZq4wMzHcMnp3BDj5C8A\n",
       "qTqwEDfcbTxTgaKsdgycQH9GQRzFZwrXuvvsg6dngGZKe69SgAq1LIS7d/H/7AC0uNB2hgQfFAAA\n",
       "uj859LfS99oAAAAASUVORK5CYII=\n",
       "\" style=\"display:inline;vertical-align:middle;\" /></a></span></td></tr>\n",
       "</table>"
      ],
      "text/plain": [
       "<proveit._core_.proof._ShowProof at 0x7f94eaea7470>"
      ]
     },
     "execution_count": 1,
     "metadata": {},
     "output_type": "execute_result"
    }
   ],
   "source": [
    "import proveit\n",
    "%show_proof"
   ]
  },
  {
   "cell_type": "code",
   "execution_count": null,
   "metadata": {},
   "outputs": [],
   "source": []
  }
 ],
 "metadata": {
  "kernelspec": {
   "display_name": "Python 3",
   "language": "python",
   "name": "python3"
  }
 },
 "nbformat": 4,
 "nbformat_minor": 0
}
