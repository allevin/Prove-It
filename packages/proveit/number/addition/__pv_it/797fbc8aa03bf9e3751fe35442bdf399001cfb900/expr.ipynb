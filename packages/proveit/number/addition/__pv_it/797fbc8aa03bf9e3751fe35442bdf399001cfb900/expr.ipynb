{
 "cells": [
  {
   "cell_type": "markdown",
   "metadata": {},
   "source": [
    "Expression of type <a class=\"ProveItLink\" href=\"../../../../../../doc/html/api/proveit.logic.Equals.html\">Equals</a>\n",
    "=======================\n",
    "# from context <a class=\"ProveItLink\" href=\"../../_context_.ipynb\">proveit.number.addition</a>"
   ]
  },
  {
   "cell_type": "code",
   "execution_count": 1,
   "metadata": {},
   "outputs": [],
   "source": [
    "# import Expression classes needed to build the expression\n",
    "from proveit.logic import Equals\n",
    "from proveit.number import Add, one, three"
   ]
  },
  {
   "cell_type": "code",
   "execution_count": 2,
   "metadata": {},
   "outputs": [
    {
     "data": {
      "text/html": [
       "<strong id=\"expr\">expr:</strong> <a class=\"ProveItLink\" href=\"expr.ipynb\"><img src=\"data:image/png;base64,iVBORw0KGgoAAAANSUhEUgAAAOsAAAAVBAMAAABVvASPAAAAMFBMVEX////c3NwiIiJERESqqqqY\n",
       "mJh2dnZmZmYQEBDu7u4yMjJUVFTMzMyIiIi6uroAAAAs73DqAAAAAXRSTlMAQObYZgAAAfhJREFU\n",
       "SMfFlrFLAlEcx3/i2XmX2m0NFURTWy0OTfoPSE6NIgQ5SS1pOBW41KAXLUGLBBKdi7tDTS0tt7QZ\n",
       "SWMQREOQkPXeee9Of+/e+bYe+MDvve/ny/vdz/cE+KeRsqWXFgK09zBEQaw+kk/UxI+wktjbzYJ6\n",
       "zyESXSFiC3iDj7kF0DLYwymLkPoBaHGxuilCXHwDb/AwSRu03h3znLupnLKfhU+AHS72GQSIqx6N\n",
       "ZQbNQJg4Xf7CPDmGw8q2s/6Siz0FESJJY5lBsRHmDaRiwalONIv7kVYxGOHEMoNiI0xFNlYnzTN3\n",
       "gGLVIpkq4lhm8GNdTFsy9qFD3U6LqJYzaA/reTK1xbFKC8UyTEN2t0myMnWMdhsfkKkhjmUGf7cu\n",
       "ZiQbC00TEh8odoHGjsSxzODHupgJT82y1i2rA0HKMkAmPzt2AuHHkpdyfTZ+KR6mLrVb7dek68c1\n",
       "U9ecsUmLTDu1Ll1kH5OWK/IQYMOAGD51orSl0uLYGGopD1OSi32C1FfAD8gRSvI/IA/zSr5Umzf5\n",
       "aQ+nKNUaqac+wMfFKpkCEerR8NA3sFgPEzcmMTnu9JtS+MPxhL5gY6ZBsZEaK+Lbk79PvVHmHtOz\n",
       "PgRRDrzUy+NbS3Zo4otP2sDUJfnYeYOTIt0wRICBqRH5PzX9AG0lDNEXqX+4v+Sq1JSfAAAAAABJ\n",
       "RU5ErkJggg==\n",
       "\" style=\"display:inline;vertical-align:middle;\" /></a><br>"
      ],
      "text/plain": [
       "expr: (1 + 1 + 3) = ((1 + 1) + 3)"
      ]
     },
     "execution_count": 2,
     "metadata": {},
     "output_type": "execute_result"
    }
   ],
   "source": [
    "# build up the expression from sub-expressions\n",
    "expr = Equals(Add(one, one, three), Add(Add(one, one), three))"
   ]
  },
  {
   "cell_type": "code",
   "execution_count": 3,
   "metadata": {},
   "outputs": [
    {
     "name": "stdout",
     "output_type": "stream",
     "text": [
      "Passed sanity check: built 'expr' is the same as the stored Expression.\n"
     ]
    }
   ],
   "source": [
    "# check that the built expression is the same as the stored expression\n",
    "%check_expr"
   ]
  },
  {
   "cell_type": "code",
   "execution_count": 4,
   "metadata": {},
   "outputs": [
    {
     "data": {
      "text/html": [
       "<table><tr><th>&nbsp;</th><th>core type</th><th>sub-expressions</th><th>expression</th></tr>\n",
       "<tr><td>0</td><td>Operation</td><td>operator:&nbsp;1<br>operands:&nbsp;2<br></td><td><a class=\"ProveItLink\" href=\"expr.ipynb\"><img src=\"data:image/png;base64,iVBORw0KGgoAAAANSUhEUgAAAOsAAAAVBAMAAABVvASPAAAAMFBMVEX////c3NwiIiJERESqqqqY\n",
       "mJh2dnZmZmYQEBDu7u4yMjJUVFTMzMyIiIi6uroAAAAs73DqAAAAAXRSTlMAQObYZgAAAfhJREFU\n",
       "SMfFlrFLAlEcx3/i2XmX2m0NFURTWy0OTfoPSE6NIgQ5SS1pOBW41KAXLUGLBBKdi7tDTS0tt7QZ\n",
       "SWMQREOQkPXeee9Of+/e+bYe+MDvve/ny/vdz/cE+KeRsqWXFgK09zBEQaw+kk/UxI+wktjbzYJ6\n",
       "zyESXSFiC3iDj7kF0DLYwymLkPoBaHGxuilCXHwDb/AwSRu03h3znLupnLKfhU+AHS72GQSIqx6N\n",
       "ZQbNQJg4Xf7CPDmGw8q2s/6Siz0FESJJY5lBsRHmDaRiwalONIv7kVYxGOHEMoNiI0xFNlYnzTN3\n",
       "gGLVIpkq4lhm8GNdTFsy9qFD3U6LqJYzaA/reTK1xbFKC8UyTEN2t0myMnWMdhsfkKkhjmUGf7cu\n",
       "ZiQbC00TEh8odoHGjsSxzODHupgJT82y1i2rA0HKMkAmPzt2AuHHkpdyfTZ+KR6mLrVb7dek68c1\n",
       "U9ecsUmLTDu1Ll1kH5OWK/IQYMOAGD51orSl0uLYGGopD1OSi32C1FfAD8gRSvI/IA/zSr5Umzf5\n",
       "aQ+nKNUaqac+wMfFKpkCEerR8NA3sFgPEzcmMTnu9JtS+MPxhL5gY6ZBsZEaK+Lbk79PvVHmHtOz\n",
       "PgRRDrzUy+NbS3Zo4otP2sDUJfnYeYOTIt0wRICBqRH5PzX9AG0lDNEXqX+4v+Sq1JSfAAAAAABJ\n",
       "RU5ErkJggg==\n",
       "\" style=\"display:inline;vertical-align:middle;\" /></a></td></tr>\n",
       "<tr><td>1</td><td>Literal</td><td></td><td><a class=\"ProveItLink\" href=\"../../../../logic/equality/__pv_it/2fb26078095930560931daa0500ce419a39ea6cd0/expr.ipynb\"><img src=\"data:image/png;base64,iVBORw0KGgoAAAANSUhEUgAAAA4AAAAFBAMAAACHocAhAAAAFVBMVEX///9EREQiIiJUVFQyMjJm\n",
       "ZmYAAADubVkoAAAAAXRSTlMAQObYZgAAABRJREFUCNdjCHEBAWcGXCBICQQUAUpuAwlgGKrkAAAA\n",
       "AElFTkSuQmCC\n",
       "\" style=\"display:inline;vertical-align:middle;\" /></a></td></tr>\n",
       "<tr><td>2</td><td>ExprTuple</td><td>3, 4</td><td><a class=\"ProveItLink\" href=\"../58e139d8ee29be1f18d15a86ffb12b1ca347eea80/expr.ipynb\"><img src=\"data:image/png;base64,iVBORw0KGgoAAAANSUhEUgAAAMkAAAAVBAMAAAAeFNdiAAAAMFBMVEX////c3NwiIiJERESqqqqY\n",
       "mJh2dnZmZmYQEBDu7u4yMjJUVFTMzMyIiIi6uroAAAAs73DqAAAAAXRSTlMAQObYZgAAAeVJREFU\n",
       "SMe9lT1Iw0AUgF9s2iS1Tbs5qODo5qKDU7M5FTM5SkGoIIhdtNJJwUWHtuJScDCIIk2X7B3s1MWl\n",
       "i+CgWBwFqRYVWvDncslhcumV6+JBcsn3kvfl7sI7gP9pamvUN15YgVU2vUFHqEyHAqSZnXevYhY6\n",
       "LQaSISI1KBbLrmkOrQIoKTpngAg56LiDjqLQSY+WYGJQcALUL0zjLVDq1yTnsSsJkMg7JGacyweA\n",
       "0zqxKEmnd8gKRbc06GIq2+keSc40+QqaiH+WQ3TEiUUkq4pJhaLL2ILoM3BZUHNnTDXYlpBGUTxj\n",
       "iO5wW2pOJ2XYlkiOtkQtTC85LbENy31PZ1tEg6LNmkOL3GO5a+NObrMt6h49lngR029ui+xkTgyx\n",
       "xF5pC5TKNvVYCqY5a5o1GESEBoQ+aItkmudHpmn5LR46BZDSbXrAN5azHrHIGveMKT9l24LoAp8l\n",
       "YcDYG9gwNGT1w9Tq9wHmkjZd57PEdehklC75Wzn/5FtQPzF9Qjf50pXutwTJUv4ClBKqHCoqAdJu\n",
       "f9ufzyHRtp+K+YKGqZz0lrd0oNT6iGo/vO8lom/fqLBoODN86/CRMHhK4oDdaZNJqyPsX2FS+Qc3\n",
       "xWDSyREs+BMFixUeTzKpMPKOPM0K3LPoL/dxz/CISMGYAAAAAElFTkSuQmCC\n",
       "\" style=\"display:inline;vertical-align:middle;\" /></a></td></tr>\n",
       "<tr><td>3</td><td>Operation</td><td>operator:&nbsp;9<br>operands:&nbsp;5<br></td><td><a class=\"ProveItLink\" href=\"../46607f0c120fde56305f47811ff1fd5cf39c9d5f0/expr.ipynb\"><img src=\"data:image/png;base64,iVBORw0KGgoAAAANSUhEUgAAAFAAAAAQBAMAAABzZ+XyAAAAMFBMVEX///92dnbMzMy6uroiIiKq\n",
       "qqrc3NyYmJgyMjIQEBBmZmaIiIhUVFTu7u5EREQAAADaqMZ6AAAAAXRSTlMAQObYZgAAAJZJREFU\n",
       "KM9jYGB4y4AO0EUUBZ8CyXt/0dWhi7AtYLDfwHDnDEyYNwFCY4gwfmXgd2Bg4IYJs26AMtBFWIlV\n",
       "CARAq4lT2MNAlEImiQMMRJq404BIhZx/YcJcHR0tMzo6DiAUIkTYFBj4vhNj4v2/RCrkb2Bg+UaM\n",
       "Qu4CBnsBBq6VP5ajKsQUiVrVihz3CD/iFgED5g34RADQ3U9fwaTGEQAAAABJRU5ErkJggg==\n",
       "\" style=\"display:inline;vertical-align:middle;\" /></a></td></tr>\n",
       "<tr><td>4</td><td>Operation</td><td>operator:&nbsp;9<br>operands:&nbsp;6<br></td><td><a class=\"ProveItLink\" href=\"../40676108ab9a654f5191b107c53a7c87a10f08eb0/expr.ipynb\"><img src=\"data:image/png;base64,iVBORw0KGgoAAAANSUhEUgAAAF8AAAAVBAMAAADSoS/MAAAAMFBMVEX////c3NwiIiJERESqqqqY\n",
       "mJh2dnZmZmYQEBDu7u4yMjJUVFTMzMyIiIi6uroAAAAs73DqAAAAAXRSTlMAQObYZgAAAQdJREFU\n",
       "OMtjYCAZ8F3AIcH6ALv4aSBmnoAuChKpQRPjSUt2AFIrGRg47dE1gEW40ATFGfj+MjDwXmDg3L0f\n",
       "pmEiVD1YhDUBVTTfgeETAwMHSO19mAZfmGkgEc4GVFF/sIZXDDg1MJigi4KcVIZHQzq6KNcGBoal\n",
       "eDR4oYkeWw0k+vBoeIEuygtU/Q+PhvPoogz9E5A1VK1apbFq1Wo0DQhRGQYG+wCGFqKdxPl/AkiD\n",
       "KR4NUaiivxgY9AUgQUdcsF5l4PvGwPAIyCrvXx6AqgEisg5VA0t5FTDxcQggpy9flBTYgE0UnsLA\n",
       "4C0yh+0CNlFQ8sYBZmEXlsapYSN2YUZcWZT3ADZRAMUFYoWVJavvAAAAAElFTkSuQmCC\n",
       "\" style=\"display:inline;vertical-align:middle;\" /></a></td></tr>\n",
       "<tr><td>5</td><td>ExprTuple</td><td>11, 11, 8</td><td><a class=\"ProveItLink\" href=\"../fd889ee7e03cc2b9a48cfaca3abd4ef8b27e362e0/expr.ipynb\"><img src=\"data:image/png;base64,iVBORw0KGgoAAAANSUhEUgAAAD0AAAAVBAMAAAAHs/uBAAAAMFBMVEX////c3NwiIiJERESqqqqY\n",
       "mJh2dnZmZmYQEBDu7u4yMjJUVFTMzMyIiIi6uroAAAAs73DqAAAAAXRSTlMAQObYZgAAAP1JREFU\n",
       "KM9jYCAE+C7glIoDEaeBmHkCTAjG4klLdmBgPwBkrWRg4LSHycNZ4gx8fxkYFjAw8F5g4Ny9HyqK\n",
       "YOU7MHxiYAhjYOAACdyHmw9j+YPlZzAwvGLAKs8ANp/ZgaEMlzzXBgYGtgKGpTjkj60GEiwLGPpw\n",
       "6ecFyvA1MPzDJc/QP4GB5wMueRkGBvsAkHwLVnnO/xNA8kDzTWGiExiQWb8YGPQFGFgXMKRDRTk/\n",
       "MSCzrjLwfQP77xGQU96/PICzXwCZxVJe5QAMgwcMHAKw8BJgwGABw5c1AcpmhXsMwcqFxC8ueU5g\n",
       "/DJIQzmIZARncYMsYsSdvu4wMAAAXVRXk7Z367QAAAAASUVORK5CYII=\n",
       "\" style=\"display:inline;vertical-align:middle;\" /></a></td></tr>\n",
       "<tr><td>6</td><td>ExprTuple</td><td>7, 8</td><td><a class=\"ProveItLink\" href=\"../0082af803057536c94be963f43014ffe83b90fbb0/expr.ipynb\"><img src=\"data:image/png;base64,iVBORw0KGgoAAAANSUhEUgAAAE0AAAAVBAMAAADx+n4ZAAAAMFBMVEX////c3NwiIiJERESqqqqY\n",
       "mJh2dnZmZmYQEBDu7u4yMjJUVFTMzMyIiIi6uroAAAAs73DqAAAAAXRSTlMAQObYZgAAARRJREFU\n",
       "KM9jYCAW8F0gqCQORJwGYuYJ6FIwEZ60ZAcG9gNA1koGBk57dHVwEXEGvr8MDAsYGHgvMHDu3g9T\n",
       "NxGqDC6S78DwiYEhjIGBAyRwH6bOF2YgTMQfrG4GA8MrBrzqGMD2MjswlBFSx7WBgYGtgGEpAXXH\n",
       "VgMJlgUMfYTM4wWq4Gtg+EdIHUP/BAaeD8jqqlat0li1ajWKOhkGBvsAkLoWvOZx/p8AUge01xS3\n",
       "OpDgLwYGfQEG1gUM6TjVcQIDmOEqA983cLg8AnLK+5cHoKoDiXD2CwBDpLzKARiGDxg4BJDj3xcl\n",
       "xcGlgPHGmoAs9RaZwwpn5ULSFQ4AV8cJTFcM0jjVwRM6N8gBjITT/R0GBgA9h10qg7pY4gAAAABJ\n",
       "RU5ErkJggg==\n",
       "\" style=\"display:inline;vertical-align:middle;\" /></a></td></tr>\n",
       "<tr><td>7</td><td>Operation</td><td>operator:&nbsp;9<br>operands:&nbsp;10<br></td><td><a class=\"ProveItLink\" href=\"../2d86c629ba17e16ade8deb174f23e70e439554b90/expr.ipynb\"><img src=\"data:image/png;base64,iVBORw0KGgoAAAANSUhEUgAAACsAAAAQBAMAAAB9zpudAAAAKlBMVEX///+6uroiIiKqqqrc3NyY\n",
       "mJgyMjIQEBBmZmaIiIhUVFTu7u5EREQAAACV7Se0AAAAAXRSTlMAQObYZgAAAE9JREFUGNNjYGA4\n",
       "zYAGeDYAiT230US5zwKFd62CCXM7QKhVa0GqOWHCzBOgjLkDKsyRlpZUlpa2gKpmc7Rfa0UV7qjN\n",
       "CEAKIrhqVMCIJAwACQQszoJput4AAAAASUVORK5CYII=\n",
       "\" style=\"display:inline;vertical-align:middle;\" /></a></td></tr>\n",
       "<tr><td>8</td><td>Literal</td><td></td><td><a class=\"ProveItLink\" href=\"../../../numeral/__pv_it/9176d93c83afa2c995b614976e3cb49207102fa70/expr.ipynb\"><img src=\"data:image/png;base64,iVBORw0KGgoAAAANSUhEUgAAAAoAAAAOBAMAAADkjZCYAAAAMFBMVEX///+YmJju7u4QEBBUVFQy\n",
       "MjIiIiKIiIi6urpmZmbc3NyqqqpERER2dnbMzMwAAAB0GlNiAAAAAXRSTlMAQObYZgAAAE1JREFU\n",
       "CNdjYHh79zQDA9cEhv4CBt7fDPwJDNxgEgiAIkAQAsR8Vx1ATIbiBhDJ/ImB6wEDz0cG/U8gkj+A\n",
       "ge0XA7sAQ/8FBoadM6MZAEflFACalZ/OAAAAAElFTkSuQmCC\n",
       "\" style=\"display:inline;vertical-align:middle;\" /></a></td></tr>\n",
       "<tr><td>9</td><td>Literal</td><td></td><td><a class=\"ProveItLink\" href=\"../3e6688136fa3c7aefbebe51301b7c3ebf0b69c440/expr.ipynb\"><img src=\"data:image/png;base64,iVBORw0KGgoAAAANSUhEUgAAAA4AAAAOBAMAAADtZjDiAAAAJFBMVEX///+6urpUVFQQEBAiIiIy\n",
       "MjJmZmaIiIiqqqrc3Nzu7u4AAACgHpL+AAAAAXRSTlMAQObYZgAAAB5JREFUCNdjYGBgWMkAAe2k\n",
       "0Kmhoc6hoUGk6BMHYgAHOwjcado9fwAAAABJRU5ErkJggg==\n",
       "\" style=\"display:inline;vertical-align:middle;\" /></a></td></tr>\n",
       "<tr><td>10</td><td>ExprTuple</td><td>11, 11</td><td><a class=\"ProveItLink\" href=\"../71c9c782a9b8c913a0129f505682fe99210fc82a0/expr.ipynb\"><img src=\"data:image/png;base64,iVBORw0KGgoAAAANSUhEUgAAACkAAAAVBAMAAAAp9toTAAAAMFBMVEX////c3NwiIiJERESqqqqY\n",
       "mJh2dnZmZmYQEBDu7u4yMjJUVFTMzMyIiIi6uroAAAAs73DqAAAAAXRSTlMAQObYZgAAALpJREFU\n",
       "GNNjYMAO+C6gCcSBiNNAzDwBJmTJwMB+AEivZGDgtIeJTv4JJBYwMPBeYODcvR8qOns3SDSMgYED\n",
       "JHAfppYXJDqDgeEVA4YoswNDGaYoWwHDUkxRlgUMfZiifA0M/zBFeT7gEG3BaoIpTHQCXJR1AUM6\n",
       "VJTzE7LLHgGp8v7lAZz9AsCAqfhVysDA9YCBQwAWojAGyMesCVA2KzyAcyEhiSrKCQxJBmkoBx4l\n",
       "3CCjGNFj6A4DAwBkHj9zZVlc6AAAAABJRU5ErkJggg==\n",
       "\" style=\"display:inline;vertical-align:middle;\" /></a></td></tr>\n",
       "<tr><td>11</td><td>Literal</td><td></td><td><a class=\"ProveItLink\" href=\"../../../numeral/__pv_it/9be8badea4c35b9724062cecc501d17a3158d1d20/expr.ipynb\"><img src=\"data:image/png;base64,iVBORw0KGgoAAAANSUhEUgAAAAgAAAAPBAMAAAArJJMAAAAAHlBMVEX///+YmJgyMjIQEBBmZmaI\n",
       "iIhUVFTu7u5EREQAAAAw+MI4AAAAAXRSTlMAQObYZgAAACFJREFUCNdjYGBoZ2BgqJjOwFCWBiQY\n",
       "WEklWJwnOTKAAACjEQo8HvEr3AAAAABJRU5ErkJggg==\n",
       "\" style=\"display:inline;vertical-align:middle;\" /></a></td></tr>\n",
       "</table>\n"
      ],
      "text/plain": [
       "0. (1 + 1 + 3) = ((1 + 1) + 3)\n",
       "   core type: Operation\n",
       "   operator: 1\n",
       "   operands: 2\n",
       "1. =\n",
       "   core type: Literal\n",
       "   sub-expressions: \n",
       "2. (1 + 1 + 3 , (1 + 1) + 3)\n",
       "   core type: ExprTuple\n",
       "   sub-expressions: 3, 4\n",
       "3. 1 + 1 + 3\n",
       "   core type: Operation\n",
       "   operator: 9\n",
       "   operands: 5\n",
       "4. (1 + 1) + 3\n",
       "   core type: Operation\n",
       "   operator: 9\n",
       "   operands: 6\n",
       "5. (1 , 1 , 3)\n",
       "   core type: ExprTuple\n",
       "   sub-expressions: 11, 11, 8\n",
       "6. (1 + 1 , 3)\n",
       "   core type: ExprTuple\n",
       "   sub-expressions: 7, 8\n",
       "7. 1 + 1\n",
       "   core type: Operation\n",
       "   operator: 9\n",
       "   operands: 10\n",
       "8. 3\n",
       "   core type: Literal\n",
       "   sub-expressions: \n",
       "9. +\n",
       "   core type: Literal\n",
       "   sub-expressions: \n",
       "10. (1 , 1)\n",
       "    core type: ExprTuple\n",
       "    sub-expressions: 11, 11\n",
       "11. 1\n",
       "    core type: Literal\n",
       "    sub-expressions: "
      ]
     },
     "execution_count": 4,
     "metadata": {},
     "output_type": "execute_result"
    }
   ],
   "source": [
    "# display the expression information\n",
    "expr.exprInfo()"
   ]
  },
  {
   "cell_type": "code",
   "execution_count": null,
   "metadata": {},
   "outputs": [],
   "source": []
  }
 ],
 "metadata": {
  "kernelspec": {
   "display_name": "Python 3",
   "language": "python",
   "name": "python3"
  }
 },
 "nbformat": 4,
 "nbformat_minor": 0
}
