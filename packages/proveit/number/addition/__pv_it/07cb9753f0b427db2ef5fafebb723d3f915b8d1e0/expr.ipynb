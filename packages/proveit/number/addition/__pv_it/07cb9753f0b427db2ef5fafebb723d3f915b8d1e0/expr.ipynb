{
 "cells": [
  {
   "cell_type": "markdown",
   "metadata": {},
   "source": [
    "Expression of type <a class=\"ProveItLink\" href=\"../../../../../../doc/html/api/proveit.ExprTuple.html\">ExprTuple</a>\n",
    "=======================\n",
    "# from context <a class=\"ProveItLink\" href=\"../../_context_.ipynb\">proveit.number.addition</a>"
   ]
  },
  {
   "cell_type": "code",
   "execution_count": 1,
   "metadata": {},
   "outputs": [],
   "source": [
    "# import Expression classes needed to build the expression\n",
    "from proveit import ExprTuple\n",
    "from proveit._common_ import a\n",
    "from proveit.number import Add"
   ]
  },
  {
   "cell_type": "code",
   "execution_count": 2,
   "metadata": {},
   "outputs": [
    {
     "data": {
      "text/html": [
       "<strong id=\"expr\">expr:</strong> <a class=\"ProveItLink\" href=\"expr.ipynb\"><img src=\"data:image/png;base64,iVBORw0KGgoAAAANSUhEUgAAAGAAAAAVBAMAAABLWfZ5AAAAMFBMVEX////c3NwiIiJERESqqqqY\n",
       "mJh2dnZmZmYQEBDu7u4yMjJUVFTMzMyIiIi6uroAAAAs73DqAAAAAXRSTlMAQObYZgAAATdJREFU\n",
       "OMtjYCAZ8F0gXi3rAyBxmhTTa4B4JSkauBgYeFFcNBFDCacAipsSGDgmIAv4YmhgQTGQs4HhFQMp\n",
       "GhhMGMqAJOPevEZUDQgRuAbpay+ArktnWApkvxBg/oCqASEC08DXyGAPpLwY+oDGfWVgN0DRgCQC\n",
       "0yAfwFAMMonhHwMD9wcGpgsoGpBEYBr2MzDoAqnzIA38BgzzDwA5VatWaaxatZoBIcK+atWirlWr\n",
       "NgCZnxk4/4A1tABtu8DgzzAB2QYkEagNjH8ZWD5wgpxkysAw34FhF8sBZA1IIlANnF8YuBf4MDBE\n",
       "AcOJgSuARZ0NxQ9IIjA/LGVwKkgABesjUKDfO3wPNZQQIjAN0nff2ALT6joGDgESkwYwOSGBtwSy\n",
       "C9sFEpP3LJDjSNGwEeRBErIo7wEGAKaVXse0b6H5AAAAAElFTkSuQmCC\n",
       "\" style=\"display:inline;vertical-align:middle;\" /></a><br>"
      ],
      "text/plain": [
       "expr: (a + a + a)"
      ]
     },
     "execution_count": 2,
     "metadata": {},
     "output_type": "execute_result"
    }
   ],
   "source": [
    "# build up the expression from sub-expressions\n",
    "expr = ExprTuple(Add(a, a, a))"
   ]
  },
  {
   "cell_type": "code",
   "execution_count": 3,
   "metadata": {},
   "outputs": [
    {
     "name": "stdout",
     "output_type": "stream",
     "text": [
      "Passed sanity check: built 'expr' is the same as the stored Expression.\n"
     ]
    }
   ],
   "source": [
    "# check that the built expression is the same as the stored expression\n",
    "%check_expr"
   ]
  },
  {
   "cell_type": "code",
   "execution_count": 4,
   "metadata": {},
   "outputs": [
    {
     "data": {
      "text/html": [
       "<table><tr><th>&nbsp;</th><th>core type</th><th>sub-expressions</th><th>expression</th></tr>\n",
       "<tr><td>0</td><td>ExprTuple</td><td>1</td><td><a class=\"ProveItLink\" href=\"expr.ipynb\"><img src=\"data:image/png;base64,iVBORw0KGgoAAAANSUhEUgAAAGAAAAAVBAMAAABLWfZ5AAAAMFBMVEX////c3NwiIiJERESqqqqY\n",
       "mJh2dnZmZmYQEBDu7u4yMjJUVFTMzMyIiIi6uroAAAAs73DqAAAAAXRSTlMAQObYZgAAATdJREFU\n",
       "OMtjYCAZ8F0gXi3rAyBxmhTTa4B4JSkauBgYeFFcNBFDCacAipsSGDgmIAv4YmhgQTGQs4HhFQMp\n",
       "GhhMGMqAJOPevEZUDQgRuAbpay+ArktnWApkvxBg/oCqASEC08DXyGAPpLwY+oDGfWVgN0DRgCQC\n",
       "0yAfwFAMMonhHwMD9wcGpgsoGpBEYBr2MzDoAqnzIA38BgzzDwA5VatWaaxatZoBIcK+atWirlWr\n",
       "NgCZnxk4/4A1tABtu8DgzzAB2QYkEagNjH8ZWD5wgpxkysAw34FhF8sBZA1IIlANnF8YuBf4MDBE\n",
       "AcOJgSuARZ0NxQ9IIjA/LGVwKkgABesjUKDfO3wPNZQQIjAN0nff2ALT6joGDgESkwYwOSGBtwSy\n",
       "C9sFEpP3LJDjSNGwEeRBErIo7wEGAKaVXse0b6H5AAAAAElFTkSuQmCC\n",
       "\" style=\"display:inline;vertical-align:middle;\" /></a></td></tr>\n",
       "<tr><td>1</td><td>Operation</td><td>operator:&nbsp;2<br>operands:&nbsp;3<br></td><td><a class=\"ProveItLink\" href=\"../8b02a79cc69ba0e06d7974414b19accbdafb48490/expr.ipynb\"><img src=\"data:image/png;base64,iVBORw0KGgoAAAANSUhEUgAAAFQAAAAOBAMAAABDUCZjAAAAMFBMVEX///8yMjKqqqrMzMzu7u4i\n",
       "IiJmZmaYmJhEREQQEBC6urp2dnaIiIhUVFTc3NwAAAD87Fq/AAAAAXRSTlMAQObYZgAAANBJREFU\n",
       "KM9jYEAAPwZ0wPKAATvQwRBhOkCuUr47u+ahKkWIwJW+Pb0S6JaVDzg+oCpFiMCUcs1j6Aca8Z2B\n",
       "rQFFKZIITOn7AoYMBgbeDwysB1CUIonAlN5nYIhhYOBvYPA3APISBQUjBQVlGRAibIKCohMFBS8A\n",
       "mT8YWD4DzT7AoM/ggGwqkgjUVL4/DEwfWBj8FRguMhkgK0USgSpl+cTAK6DMwFjAFMaN4lYkEZhb\n",
       "xRlUEzYAA/GUxSnUEECIwJS+PbO4ZwGZEbsGQ4QLWSkAC35BoQnyJ2sAAAAASUVORK5CYII=\n",
       "\" style=\"display:inline;vertical-align:middle;\" /></a></td></tr>\n",
       "<tr><td>2</td><td>Literal</td><td></td><td><a class=\"ProveItLink\" href=\"../3e6688136fa3c7aefbebe51301b7c3ebf0b69c440/expr.ipynb\"><img src=\"data:image/png;base64,iVBORw0KGgoAAAANSUhEUgAAAA4AAAAOBAMAAADtZjDiAAAAJFBMVEX///+6urpUVFQQEBAiIiIy\n",
       "MjJmZmaIiIiqqqrc3Nzu7u4AAACgHpL+AAAAAXRSTlMAQObYZgAAAB5JREFUCNdjYGBgWMkAAe2k\n",
       "0Kmhoc6hoUGk6BMHYgAHOwjcado9fwAAAABJRU5ErkJggg==\n",
       "\" style=\"display:inline;vertical-align:middle;\" /></a></td></tr>\n",
       "<tr><td>3</td><td>ExprTuple</td><td>4, 4, 4</td><td><a class=\"ProveItLink\" href=\"../edfb82f8668947a0fcc19434b7739192318390e30/expr.ipynb\"><img src=\"data:image/png;base64,iVBORw0KGgoAAAANSUhEUgAAAD8AAAAVBAMAAAADRiu8AAAAMFBMVEX////c3NwiIiJERESqqqqY\n",
       "mJh2dnZmZmYQEBDu7u4yMjJUVFTMzMyIiIi6uroAAAAs73DqAAAAAXRSTlMAQObYZgAAAOVJREFU\n",
       "KM+FkrsOAUEUhj+s+7VX0Gk1em9ApRSdiqjUJGpR6nYbhVeQSDZRavYBRFCJahVaMWPdssOY4sx3\n",
       "zvwzk//MwN+RcX6vNWVYazZHbRHmuuMtSDs6QQNiE51gCietg1CVvpgCy+7QK/gp0mMmkmMu5Hpl\n",
       "PxkWYyG+EC172/yUGXCFpEvQ86JQypWCbBnTvpcVEoIRFBxq3N0qJK6ogFllYdhxVCJs0YZE3ShF\n",
       "MIsqSZsHaXm72jI9q0RiRyz37NoelUSrw61nUkelzudzfxHExXOTfyTp1/qbkvL+gOZDbOAGRR1Q\n",
       "YNKXtD8AAAAASUVORK5CYII=\n",
       "\" style=\"display:inline;vertical-align:middle;\" /></a></td></tr>\n",
       "<tr><td>4</td><td>Variable</td><td></td><td><a class=\"ProveItLink\" href=\"../../../../__pv_it/07527342713064c87612d00d8557c53d53d5324a0/expr.ipynb\"><img src=\"data:image/png;base64,iVBORw0KGgoAAAANSUhEUgAAAAsAAAAJBAMAAAAWSsseAAAAMFBMVEX///8yMjKqqqrMzMzu7u4i\n",
       "IiJmZmaYmJhEREQQEBC6urp2dnaIiIhUVFTc3NwAAAD87Fq/AAAAAXRSTlMAQObYZgAAAEhJREFU\n",
       "CNdjYOC7s2seAwPDygccHxgY+L4zsDUwMPB+YGA9wMDA38Dgb8DA8P4Agz6DA4O/AsNFJgMGxgKm\n",
       "MG6gyjunLE4xAAAZTBA5TB6DCwAAAABJRU5ErkJggg==\n",
       "\" style=\"display:inline;vertical-align:middle;\" /></a></td></tr>\n",
       "</table>\n"
      ],
      "text/plain": [
       "0. (a + a + a)\n",
       "   core type: ExprTuple\n",
       "   sub-expressions: 1\n",
       "1. a + a + a\n",
       "   core type: Operation\n",
       "   operator: 2\n",
       "   operands: 3\n",
       "2. +\n",
       "   core type: Literal\n",
       "   sub-expressions: \n",
       "3. (a , a , a)\n",
       "   core type: ExprTuple\n",
       "   sub-expressions: 4, 4, 4\n",
       "4. a\n",
       "   core type: Variable\n",
       "   sub-expressions: "
      ]
     },
     "execution_count": 4,
     "metadata": {},
     "output_type": "execute_result"
    }
   ],
   "source": [
    "# display the expression information\n",
    "expr.exprInfo()"
   ]
  },
  {
   "cell_type": "code",
   "execution_count": null,
   "metadata": {},
   "outputs": [],
   "source": []
  }
 ],
 "metadata": {
  "kernelspec": {
   "display_name": "Python 3",
   "language": "python",
   "name": "python3"
  }
 },
 "nbformat": 4,
 "nbformat_minor": 0
}
