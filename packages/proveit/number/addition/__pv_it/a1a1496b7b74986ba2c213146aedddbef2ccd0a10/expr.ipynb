{
 "cells": [
  {
   "cell_type": "markdown",
   "metadata": {},
   "source": [
    "Expression of type <a class=\"ProveItLink\" href=\"../../../../../../doc/html/api/proveit.logic.Equals.html\">Equals</a>\n",
    "=======================\n",
    "# from context <a class=\"ProveItLink\" href=\"../../_context_.ipynb\">proveit.number.addition</a>"
   ]
  },
  {
   "cell_type": "code",
   "execution_count": 1,
   "metadata": {},
   "outputs": [],
   "source": [
    "# import Expression classes needed to build the expression\n",
    "from proveit._common_ import b\n",
    "from proveit.logic import Equals\n",
    "from proveit.number import Add, Mult, three"
   ]
  },
  {
   "cell_type": "code",
   "execution_count": 2,
   "metadata": {},
   "outputs": [
    {
     "data": {
      "text/html": [
       "<strong id=\"expr\">expr:</strong> <a class=\"ProveItLink\" href=\"expr.ipynb\"><img src=\"data:image/png;base64,iVBORw0KGgoAAAANSUhEUgAAAKgAAAAVBAMAAAAgMbgsAAAAMFBMVEX////c3NwiIiJERESqqqqY\n",
       "mJh2dnZmZmYQEBDu7u4yMjJUVFTMzMyIiIi6uroAAAAs73DqAAAAAXRSTlMAQObYZgAAAi9JREFU\n",
       "OMu1lT1oFEEUx/+au9vby93edRZGEC2000JrtxZCUqWwkENBK8khqHAKxg8CWiSbzo/CIFi4B7KC\n",
       "QprAVTYWXiMpkkCwEkEifnISP96bnd2ZnRnkGgd2lvvd7G/nzXszC/yXFgxGHHjawT7aqLxF3Wv4\n",
       "K/uL3A28viWoJ6ifOxvmvx/epO4aXU+BWmIMdoNlS1qLsAfBLwV6DIEGRd/M3rUk7znwWxqYsaSb\n",
       "wGyIzwp85fjbqEbAdiTZpLznoDTQwD1LegeY0qXBkCcyhw90OwNDmoNMKsBYaOZYLIgWfkXk4hgu\n",
       "80psvixKc5BJBah0DKnXNhJQW12fBs7jCc33C5p9XaqAlKagJCbWjbn1hIMMeNVTb3l0FDvASSzQ\n",
       "k0NU27pUASlNQTBnzLTKJYnGAvf3uZuKMA+8x2+KYhnNji5VQEpTUP9kSJtCikXKoi+y1QV+AG9Y\n",
       "uruD7WkR1+E0Lgm8OH58N46TDDilE8AJGuvfYnAIwTeW3hZFeD3SZ6qAnGkK0vAvHuB2UIQfwv8T\n",
       "CWlWpt6Qwz8OzsF8IfsKZFIByuaWGiPbT+BIKwM7IhenKP8YD72kIFVASlNglRSDtwi+5+AFroJL\n",
       "6h2tx+qlYvErkJWUALUts/ip1ktXutqBssYr8QzVljZq0tyHJf1ctLfpDdcRSdu03P7X8Vg4bC9Y\n",
       "z8+4pJWBOPpGa77z6LPbA7r2jiodb1loV+IY95z/GPVzsuFg+2zU6OMviiikq79XSEsAAAAASUVO\n",
       "RK5CYII=\n",
       "\" style=\"display:inline;vertical-align:middle;\" /></a><br>"
      ],
      "text/plain": [
       "expr: (b + b + b) = (3 * b)"
      ]
     },
     "execution_count": 2,
     "metadata": {},
     "output_type": "execute_result"
    }
   ],
   "source": [
    "# build up the expression from sub-expressions\n",
    "expr = Equals(Add(b, b, b), Mult(three, b))"
   ]
  },
  {
   "cell_type": "code",
   "execution_count": 3,
   "metadata": {},
   "outputs": [
    {
     "name": "stdout",
     "output_type": "stream",
     "text": [
      "Passed sanity check: built 'expr' is the same as the stored Expression.\n"
     ]
    }
   ],
   "source": [
    "# check that the built expression is the same as the stored expression\n",
    "%check_expr"
   ]
  },
  {
   "cell_type": "code",
   "execution_count": 4,
   "metadata": {},
   "outputs": [
    {
     "data": {
      "text/html": [
       "<table><tr><th>&nbsp;</th><th>core type</th><th>sub-expressions</th><th>expression</th></tr>\n",
       "<tr><td>0</td><td>Operation</td><td>operator:&nbsp;1<br>operands:&nbsp;2<br></td><td><a class=\"ProveItLink\" href=\"expr.ipynb\"><img src=\"data:image/png;base64,iVBORw0KGgoAAAANSUhEUgAAAKgAAAAVBAMAAAAgMbgsAAAAMFBMVEX////c3NwiIiJERESqqqqY\n",
       "mJh2dnZmZmYQEBDu7u4yMjJUVFTMzMyIiIi6uroAAAAs73DqAAAAAXRSTlMAQObYZgAAAi9JREFU\n",
       "OMu1lT1oFEEUx/+au9vby93edRZGEC2000JrtxZCUqWwkENBK8khqHAKxg8CWiSbzo/CIFi4B7KC\n",
       "QprAVTYWXiMpkkCwEkEifnISP96bnd2ZnRnkGgd2lvvd7G/nzXszC/yXFgxGHHjawT7aqLxF3Wv4\n",
       "K/uL3A28viWoJ6ifOxvmvx/epO4aXU+BWmIMdoNlS1qLsAfBLwV6DIEGRd/M3rUk7znwWxqYsaSb\n",
       "wGyIzwp85fjbqEbAdiTZpLznoDTQwD1LegeY0qXBkCcyhw90OwNDmoNMKsBYaOZYLIgWfkXk4hgu\n",
       "80psvixKc5BJBah0DKnXNhJQW12fBs7jCc33C5p9XaqAlKagJCbWjbn1hIMMeNVTb3l0FDvASSzQ\n",
       "k0NU27pUASlNQTBnzLTKJYnGAvf3uZuKMA+8x2+KYhnNji5VQEpTUP9kSJtCikXKoi+y1QV+AG9Y\n",
       "uruD7WkR1+E0Lgm8OH58N46TDDilE8AJGuvfYnAIwTeW3hZFeD3SZ6qAnGkK0vAvHuB2UIQfwv8T\n",
       "CWlWpt6Qwz8OzsF8IfsKZFIByuaWGiPbT+BIKwM7IhenKP8YD72kIFVASlNglRSDtwi+5+AFroJL\n",
       "6h2tx+qlYvErkJWUALUts/ip1ktXutqBssYr8QzVljZq0tyHJf1ctLfpDdcRSdu03P7X8Vg4bC9Y\n",
       "z8+4pJWBOPpGa77z6LPbA7r2jiodb1loV+IY95z/GPVzsuFg+2zU6OMviiikq79XSEsAAAAASUVO\n",
       "RK5CYII=\n",
       "\" style=\"display:inline;vertical-align:middle;\" /></a></td></tr>\n",
       "<tr><td>1</td><td>Literal</td><td></td><td><a class=\"ProveItLink\" href=\"../../../../logic/equality/__pv_it/2fb26078095930560931daa0500ce419a39ea6cd0/expr.ipynb\"><img src=\"data:image/png;base64,iVBORw0KGgoAAAANSUhEUgAAAA4AAAAFBAMAAACHocAhAAAAFVBMVEX///9EREQiIiJUVFQyMjJm\n",
       "ZmYAAADubVkoAAAAAXRSTlMAQObYZgAAABRJREFUCNdjCHEBAWcGXCBICQQUAUpuAwlgGKrkAAAA\n",
       "AElFTkSuQmCC\n",
       "\" style=\"display:inline;vertical-align:middle;\" /></a></td></tr>\n",
       "<tr><td>2</td><td>ExprTuple</td><td>3, 4</td><td><a class=\"ProveItLink\" href=\"../4b5f69312036d797d2023a6726b327b7e7aa17d70/expr.ipynb\"><img src=\"data:image/png;base64,iVBORw0KGgoAAAANSUhEUgAAAIUAAAAVBAMAAACakjBMAAAAMFBMVEX////c3NwiIiJERESqqqqY\n",
       "mJh2dnZmZmYQEBDu7u4yMjJUVFTMzMyIiIi6uroAAAAs73DqAAAAAXRSTlMAQObYZgAAAbFJREFU\n",
       "OMutlL9PwkAUx79qoRSwsDnowOaoi7P9D2ByNEQTnYwsaoKDRg2DA3TUMNiYOFgXBk1cSJhcXFyM\n",
       "g5oYRxeMogaDP95dKXDlakjwhvbybT/f9r137wH/sfSrvvBZdrmEdp7wPChu+QnRhXnDFTmnVmh3\n",
       "DIRLXvcTP2EE+ldL5JwFDFMoMddaizc3NT9h2cBLy4NzM0DIBKpmU1SaudHrfkKy04Nze8AT3ebg\n",
       "QYIJPwGdsXBuyMAqC/b+TETC5duUXBCSx7lgBkcU9CtiFQE5mERDLuCinW6HUyzk6cU6QmkBSZrI\n",
       "yQUqQp5d9+Fy+ia+qcQWYhkByQIfcoFWgTKpscQ6XPSZeQxmUKVoVds+3LVtFu449DeJQGsMmKZ3\n",
       "tW24HHns8DJvmMJna1DrUkH7MbmHezyIo1imwBKTE+vS8CaIC+w7n8CEe+4cLmBhEYgYakn0OMV6\n",
       "t8BzcA393U2Mw1FtH+kHyyueI1W8SXULWoF+QFnLtnuOc+EHhOIdnaV454Ag6HFZ89NZD6T/miWC\n",
       "EJAOkCWn93tcUg+Neh+jPXtIB16EBTjQ3yy8A34BTMOR/nI1NuIAAAAASUVORK5CYII=\n",
       "\" style=\"display:inline;vertical-align:middle;\" /></a></td></tr>\n",
       "<tr><td>3</td><td>Operation</td><td>operator:&nbsp;5<br>operands:&nbsp;6<br></td><td><a class=\"ProveItLink\" href=\"../336a4b1a600d4796004751577b8948b03b87d7190/expr.ipynb\"><img src=\"data:image/png;base64,iVBORw0KGgoAAAANSUhEUgAAAE4AAAAQBAMAAABKAFSpAAAAMFBMVEX////c3NxmZmbMzMxERESY\n",
       "mJiIiIh2dna6urqqqqoyMjIiIiIQEBBUVFTu7u4AAAAiO1wTAAAAAXRSTlMAQObYZgAAAO1JREFU\n",
       "KM9lkTsKwkAQhn/SGKMmHsHGRhA9gkfIEcTCTrC3t42VrdYrgljbC9rYKAgW8QAi+CjSBDO6k324\n",
       "xczux8cy+y/8ywrG+gO47al6Bwv/ASypBBN5usqeA78qNwmVKJanqew5KHZ/3U2pjmB5OWCv8B14\n",
       "2T+aXg7Y806DEP4LQVv3FGDv3sETxRTloe4pwN4sxhbOHEFN9xRgrwE8UKohCrO9EBshKCgJHCEW\n",
       "OyEoyzXcN6XVivX7FOD7Ejgpzbw13qsAe08auDJxDoanAHtnNLMYTnUzZwXYu/VC/ben9vezZ62x\n",
       "DVzN+wB3W0tlHU5/FgAAAABJRU5ErkJggg==\n",
       "\" style=\"display:inline;vertical-align:middle;\" /></a></td></tr>\n",
       "<tr><td>4</td><td>Operation</td><td>operator:&nbsp;7<br>operands:&nbsp;8<br></td><td><a class=\"ProveItLink\" href=\"../1e631544db83ce4853cc0a486ec7448a56387f780/expr.ipynb\"><img src=\"data:image/png;base64,iVBORw0KGgoAAAANSUhEUgAAACIAAAAOBAMAAAC4B9O8AAAAMFBMVEX///+YmJju7u4QEBBUVFQy\n",
       "MjIiIiKIiIi6urpmZmbc3NyqqqpERER2dnbMzMwAAAB0GlNiAAAAAXRSTlMAQObYZgAAAJhJREFU\n",
       "CNdjYHh79zQDDKiYAQmuCQz9BXChECDm/c3AnwAX+Q3E3MgiHJ8gNEIXbwJCMwSwupcIMDDwXXWA\n",
       "i+gfYPgHoosbgASTApDYr8BgCxJhBpmnDzJiKgPDTwauBww8H4Ec5QNAIpOB4yOD/ieICNQ5nJ8Y\n",
       "+AMY2H7BRP4xMF9gYBdg6L8AE/FmmAIkd86MRvi0UoABAPL2JMAQl6zyAAAAAElFTkSuQmCC\n",
       "\" style=\"display:inline;vertical-align:middle;\" /></a></td></tr>\n",
       "<tr><td>5</td><td>Literal</td><td></td><td><a class=\"ProveItLink\" href=\"../3e6688136fa3c7aefbebe51301b7c3ebf0b69c440/expr.ipynb\"><img src=\"data:image/png;base64,iVBORw0KGgoAAAANSUhEUgAAAA4AAAAOBAMAAADtZjDiAAAAJFBMVEX///+6urpUVFQQEBAiIiIy\n",
       "MjJmZmaIiIiqqqrc3Nzu7u4AAACgHpL+AAAAAXRSTlMAQObYZgAAAB5JREFUCNdjYGBgWMkAAe2k\n",
       "0Kmhoc6hoUGk6BMHYgAHOwjcado9fwAAAABJRU5ErkJggg==\n",
       "\" style=\"display:inline;vertical-align:middle;\" /></a></td></tr>\n",
       "<tr><td>6</td><td>ExprTuple</td><td>10, 10, 10</td><td><a class=\"ProveItLink\" href=\"../c21a0a21f22a50fe9404b3289ace12ef9be60db90/expr.ipynb\"><img src=\"data:image/png;base64,iVBORw0KGgoAAAANSUhEUgAAADkAAAAVBAMAAAAOWFv7AAAAMFBMVEX////c3NwiIiJERESqqqqY\n",
       "mJh2dnZmZmYQEBDu7u4yMjJUVFTMzMyIiIi6uroAAAAs73DqAAAAAXRSTlMAQObYZgAAAPlJREFU\n",
       "KM9jYMAP+C7gkIgDEacZOHcoQPioDPYDQNZKBgauDVDlqIwFDAy8QIP5HaCCqIwwBgaOCQwM7ydA\n",
       "BVEZMxgYXgGpJJhDUBnMDgxlQGr13a0QQVQGWwHDUqALPzPwHwA7FZXBsoChj4GB5ScDRwJIEI3B\n",
       "18DwD+ixBQz8BSBBNAbPB5AsUwHD+wCQIBoDKNsC9lz9BKgvkRlAk00ZQA5oY+BkQGcwsC5gSGdg\n",
       "4HZg38AwXwGdAfLRI6D795YCA+YjOoOB6wEDhwA0eB4yoDOAIcmaAGUHMKAzciExiF2WExiDDNIQ\n",
       "Ni9MEs7gBtnJiCvl3GFgAACyJ1L0n4kkiAAAAABJRU5ErkJggg==\n",
       "\" style=\"display:inline;vertical-align:middle;\" /></a></td></tr>\n",
       "<tr><td>7</td><td>Literal</td><td></td><td><a class=\"ProveItLink\" href=\"../../../multiplication/__pv_it/21fd2079611555ecce512d99547a00d551e6b86b0/expr.ipynb\"><img src=\"data:image/png;base64,iVBORw0KGgoAAAANSUhEUgAAAAMAAAADBAMAAACkBqiMAAAAElBMVEX///9EREQQEBAiIiLu7u4A\n",
       "AABGBidwAAAAAXRSTlMAQObYZgAAABFJREFUCNdjYHFgcDVgcBIAAASWAQx4jI0xAAAAAElFTkSu\n",
       "QmCC\n",
       "\" style=\"display:inline;vertical-align:middle;\" /></a></td></tr>\n",
       "<tr><td>8</td><td>ExprTuple</td><td>9, 10</td><td><a class=\"ProveItLink\" href=\"../ed5a6ec4c875d8d4dac8f1f17e42c24dc92561870/expr.ipynb\"><img src=\"data:image/png;base64,iVBORw0KGgoAAAANSUhEUgAAACkAAAAVBAMAAAAp9toTAAAAMFBMVEX////c3NwiIiJERESqqqqY\n",
       "mJh2dnZmZmYQEBDu7u4yMjJUVFTMzMyIiIi6uroAAAAs73DqAAAAAXRSTlMAQObYZgAAARBJREFU\n",
       "GNNtka9Pw0AcxT/d2rVlY53H7I8AX4edQpIGAQnJkhpAgiBIqMRRAYLM1JBgSKowmEkEJAtypvya\n",
       "qCF873odScOJd++95L737h38v/rThrGt4Aked9crw78fgpsLu8WKKcyBlUwghdUpnW+CYeUGocAW\n",
       "eAn2n1skApcwr5SZsKOgHXKo1cTcP3m9g07MjfDefmYyfBHk2CnnWj7P9GaXeBH9E3609Eq9uSlB\n",
       "TO9duVZOe6HdliQfKfcUrsralbjHiZqwITyl9YFKKledgZOyJ88bUUT+p7jd0M10sjcRm0fX+BcD\n",
       "SfZwoMqY4Q3qRmuiXuxEhjvLgse6yYbrS5OsGbH8kq4aZTV/6AV+AUvGQYW/r0RJAAAAAElFTkSu\n",
       "QmCC\n",
       "\" style=\"display:inline;vertical-align:middle;\" /></a></td></tr>\n",
       "<tr><td>9</td><td>Literal</td><td></td><td><a class=\"ProveItLink\" href=\"../../../numeral/__pv_it/9176d93c83afa2c995b614976e3cb49207102fa70/expr.ipynb\"><img src=\"data:image/png;base64,iVBORw0KGgoAAAANSUhEUgAAAAoAAAAOBAMAAADkjZCYAAAAMFBMVEX///+YmJju7u4QEBBUVFQy\n",
       "MjIiIiKIiIi6urpmZmbc3NyqqqpERER2dnbMzMwAAAB0GlNiAAAAAXRSTlMAQObYZgAAAE1JREFU\n",
       "CNdjYHh79zQDA9cEhv4CBt7fDPwJDNxgEgiAIkAQAsR8Vx1ATIbiBhDJ/ImB6wEDz0cG/U8gkj+A\n",
       "ge0XA7sAQ/8FBoadM6MZAEflFACalZ/OAAAAAElFTkSuQmCC\n",
       "\" style=\"display:inline;vertical-align:middle;\" /></a></td></tr>\n",
       "<tr><td>10</td><td>Variable</td><td></td><td><a class=\"ProveItLink\" href=\"../../../../__pv_it/6840a4fa6c106149dc16a131294d0c5e44f1b0480/expr.ipynb\"><img src=\"data:image/png;base64,iVBORw0KGgoAAAANSUhEUgAAAAkAAAAOBAMAAAAPuiubAAAALVBMVEX///9mZmbMzMxERESYmJiI\n",
       "iIh2dna6urqqqqoyMjIiIiIQEBBUVFTu7u4AAAD9S1JeAAAAAXRSTlMAQObYZgAAAE1JREFUCNdj\n",
       "4D29gAEIOA+ASL4GEFl3AURmgQiGOaFHGBh4HzPwKTBwvGXgTmBgnMDAJ8DAJcBQ5wBSLncBJLWN\n",
       "gYGngRFoBO9REQYGAGrcDtUkVqASAAAAAElFTkSuQmCC\n",
       "\" style=\"display:inline;vertical-align:middle;\" /></a></td></tr>\n",
       "</table>\n"
      ],
      "text/plain": [
       "0. (b + b + b) = (3 * b)\n",
       "   core type: Operation\n",
       "   operator: 1\n",
       "   operands: 2\n",
       "1. =\n",
       "   core type: Literal\n",
       "   sub-expressions: \n",
       "2. (b + b + b , 3 * b)\n",
       "   core type: ExprTuple\n",
       "   sub-expressions: 3, 4\n",
       "3. b + b + b\n",
       "   core type: Operation\n",
       "   operator: 5\n",
       "   operands: 6\n",
       "4. 3 * b\n",
       "   core type: Operation\n",
       "   operator: 7\n",
       "   operands: 8\n",
       "5. +\n",
       "   core type: Literal\n",
       "   sub-expressions: \n",
       "6. (b , b , b)\n",
       "   core type: ExprTuple\n",
       "   sub-expressions: 10, 10, 10\n",
       "7. *\n",
       "   core type: Literal\n",
       "   sub-expressions: \n",
       "8. (3 , b)\n",
       "   core type: ExprTuple\n",
       "   sub-expressions: 9, 10\n",
       "9. 3\n",
       "   core type: Literal\n",
       "   sub-expressions: \n",
       "10. b\n",
       "    core type: Variable\n",
       "    sub-expressions: "
      ]
     },
     "execution_count": 4,
     "metadata": {},
     "output_type": "execute_result"
    }
   ],
   "source": [
    "# display the expression information\n",
    "expr.exprInfo()"
   ]
  },
  {
   "cell_type": "code",
   "execution_count": null,
   "metadata": {},
   "outputs": [],
   "source": []
  }
 ],
 "metadata": {
  "kernelspec": {
   "display_name": "Python 3",
   "language": "python",
   "name": "python3"
  }
 },
 "nbformat": 4,
 "nbformat_minor": 0
}
