{
 "cells": [
  {
   "cell_type": "markdown",
   "metadata": {},
   "source": [
    "Expression of type <a class=\"ProveItLink\" href=\"../../../../../../doc/html/api/proveit.logic.InSet.html\">InSet</a>\n",
    "=======================\n",
    "# from context <a class=\"ProveItLink\" href=\"../../_context_.ipynb\">proveit.number.addition</a>"
   ]
  },
  {
   "cell_type": "code",
   "execution_count": 1,
   "metadata": {},
   "outputs": [],
   "source": [
    "# import Expression classes needed to build the expression\n",
    "from proveit._common_ import a, b, c\n",
    "from proveit.logic import InSet\n",
    "from proveit.number import Complexes, Exp, five"
   ]
  },
  {
   "cell_type": "code",
   "execution_count": 2,
   "metadata": {},
   "outputs": [
    {
     "data": {
      "text/html": [
       "<strong id=\"expr\">expr:</strong> <a class=\"ProveItLink\" href=\"expr.ipynb\"><img src=\"data:image/png;base64,iVBORw0KGgoAAAANSUhEUgAAAJQAAAAZBAMAAAAlPBrhAAAAMFBMVEX////c3NwiIiJERESqqqqY\n",
       "mJh2dnZmZmYQEBDu7u4yMjJUVFTMzMyIiIi6uroAAAAs73DqAAAAAXRSTlMAQObYZgAAAmtJREFU\n",
       "OMutlE1oE0EUx//bbLO72XyBxxyUeBAFIaIei0HwIkL3JOihBA/1YmVVzEnRFvEi1kWwFEETCkWi\n",
       "IOuhKJXggiCCoMGDIphSBaWI0NZYUDSpb2b2I0abJZBAdv77Zub33sx7b4G+/JKnbtTQJ9T6L/QL\n",
       "NZLuG2oRfUOdf2vRs5f7GtzAu5SWy8CLwKA92hLGOveP5fXdH1tN2vsbqLSZY3YYKtZpeNnCVNOO\n",
       "OWgh0X6+VD70hIWOd90Ahm3VkVahWm0Ty1YYSrsoxlsz2R1sPKLSQ7GjVsLGl/aFx8Ivfg9/xmdd\n",
       "p2aG8WsYLQJFJkfrDp+4V59zM1I9Oe7unRp7L0TmzRLV4XGuN7kkzfwceJml//PFGE+d1kBKMJfS\n",
       "kRUxH5/EjCidceyj4SB/2eXujhcOBKhJIlxFxGBa/gmVX6u0BiUn5qdr2MvFZgNnmBPuM+ejPgWo\n",
       "FqC7AUApI2UyQZYBN7NPvIUkdtLwikc4kc3ya9dyz/5CpTwfAyaWeXhkKYmTouEtbPAqFKi4X38V\n",
       "PUBdotBrQVld4PdJlmFwJTW91mhCXtG8A/pdcZijRBLoIlIUiaExlIPLYKKUx7zsMIU1KkO2VPsO\n",
       "vXwIOMp3zXmoyAjFkdzONSVXNxF1SuRIzys2mIgZ8rYoV3gInNC+8VTvNwteMVz32/rxkHV7t4jq\n",
       "I/2L9XeYXiXP1bPgQqouPF3gCspY3dKuUUFl6l+HCHBfHPeO4+Xw9PoVl6t6n78P6BSBSqY7G0ee\n",
       "F43z3/400CkCNeibot2+bpWeUDe79WdGDAnv3RdtKgjlQTeU1MsHOeFsPPcHH46e1qSs7UkAAAAA\n",
       "SUVORK5CYII=\n",
       "\" style=\"display:inline;vertical-align:middle;\" /></a><br>"
      ],
      "text/plain": [
       "expr: (c , b , a , c , a) in Complexes^{5}"
      ]
     },
     "execution_count": 2,
     "metadata": {},
     "output_type": "execute_result"
    }
   ],
   "source": [
    "# build up the expression from sub-expressions\n",
    "expr = InSet([c, b, a, c, a], Exp(Complexes, five))"
   ]
  },
  {
   "cell_type": "code",
   "execution_count": 3,
   "metadata": {},
   "outputs": [
    {
     "name": "stdout",
     "output_type": "stream",
     "text": [
      "Passed sanity check: built 'expr' is the same as the stored Expression.\n"
     ]
    }
   ],
   "source": [
    "# check that the built expression is the same as the stored expression\n",
    "%check_expr"
   ]
  },
  {
   "cell_type": "code",
   "execution_count": 4,
   "metadata": {},
   "outputs": [
    {
     "data": {
      "text/html": [
       "<table><tr><th>&nbsp;</th><th>core type</th><th>sub-expressions</th><th>expression</th></tr>\n",
       "<tr><td>0</td><td>Operation</td><td>operator:&nbsp;1<br>operands:&nbsp;2<br></td><td><a class=\"ProveItLink\" href=\"expr.ipynb\"><img src=\"data:image/png;base64,iVBORw0KGgoAAAANSUhEUgAAAJQAAAAZBAMAAAAlPBrhAAAAMFBMVEX////c3NwiIiJERESqqqqY\n",
       "mJh2dnZmZmYQEBDu7u4yMjJUVFTMzMyIiIi6uroAAAAs73DqAAAAAXRSTlMAQObYZgAAAmtJREFU\n",
       "OMutlE1oE0EUx//bbLO72XyBxxyUeBAFIaIei0HwIkL3JOihBA/1YmVVzEnRFvEi1kWwFEETCkWi\n",
       "IOuhKJXggiCCoMGDIphSBaWI0NZYUDSpb2b2I0abJZBAdv77Zub33sx7b4G+/JKnbtTQJ9T6L/QL\n",
       "NZLuG2oRfUOdf2vRs5f7GtzAu5SWy8CLwKA92hLGOveP5fXdH1tN2vsbqLSZY3YYKtZpeNnCVNOO\n",
       "OWgh0X6+VD70hIWOd90Ahm3VkVahWm0Ty1YYSrsoxlsz2R1sPKLSQ7GjVsLGl/aFx8Ivfg9/xmdd\n",
       "p2aG8WsYLQJFJkfrDp+4V59zM1I9Oe7unRp7L0TmzRLV4XGuN7kkzfwceJml//PFGE+d1kBKMJfS\n",
       "kRUxH5/EjCidceyj4SB/2eXujhcOBKhJIlxFxGBa/gmVX6u0BiUn5qdr2MvFZgNnmBPuM+ejPgWo\n",
       "FqC7AUApI2UyQZYBN7NPvIUkdtLwikc4kc3ya9dyz/5CpTwfAyaWeXhkKYmTouEtbPAqFKi4X38V\n",
       "PUBdotBrQVld4PdJlmFwJTW91mhCXtG8A/pdcZijRBLoIlIUiaExlIPLYKKUx7zsMIU1KkO2VPsO\n",
       "vXwIOMp3zXmoyAjFkdzONSVXNxF1SuRIzys2mIgZ8rYoV3gInNC+8VTvNwteMVz32/rxkHV7t4jq\n",
       "I/2L9XeYXiXP1bPgQqouPF3gCspY3dKuUUFl6l+HCHBfHPeO4+Xw9PoVl6t6n78P6BSBSqY7G0ee\n",
       "F43z3/400CkCNeibot2+bpWeUDe79WdGDAnv3RdtKgjlQTeU1MsHOeFsPPcHH46e1qSs7UkAAAAA\n",
       "SUVORK5CYII=\n",
       "\" style=\"display:inline;vertical-align:middle;\" /></a></td></tr>\n",
       "<tr><td>1</td><td>Literal</td><td></td><td><a class=\"ProveItLink\" href=\"../../../../logic/set_theory/membership/__pv_it/088cbc857536a28d4119ad9639a84270ccb0545d0/expr.ipynb\"><img src=\"data:image/png;base64,iVBORw0KGgoAAAANSUhEUgAAAAwAAAAMBAMAAACkW0HUAAAALVBMVEX///+qqqpmZmZUVFQQEBC6\n",
       "urpERETc3NyYmJjMzMwiIiIyMjKIiIju7u4AAACYsrA9AAAAAXRSTlMAQObYZgAAADxJREFUCNdj\n",
       "YOA9vWrVBgaG2b0MQMCeCyIZ2ArA1DUwyRCyahVIyWQI7xaEYm4AU7xLIdxqTQgtvGvVBgCkcQ7e\n",
       "geM/tQAAAABJRU5ErkJggg==\n",
       "\" style=\"display:inline;vertical-align:middle;\" /></a></td></tr>\n",
       "<tr><td>2</td><td>ExprTuple</td><td>3, 4</td><td><a class=\"ProveItLink\" href=\"../5a58e788e3c5a5cd7fdfdbe039698055eeff3eb20/expr.ipynb\"><img src=\"data:image/png;base64,iVBORw0KGgoAAAANSUhEUgAAAJgAAAAcBAMAAABvzWvcAAAAMFBMVEX///+qqqp2dnYiIiJERESI\n",
       "iIhmZmYQEBDc3NyYmJgyMjLu7u5UVFTMzMy6uroAAACGxKilAAAAAXRSTlMAQObYZgAAApBJREFU\n",
       "SMetVU1oE0EYfYlNNs3uJgdPCtKlUG9CD1oEESLYgyC4WFIPVgj+gPgDVRE8SM3BkwRcxZNCCQiC\n",
       "VmTppVjERFBREQxevIgNeqgKaopWI5rUb/6yk6YQSzKwO+97M/vyzXxvJkAXWuLofRfdaomlvwp+\n",
       "7VxsMgs4DNnFzsXK9HrL0KzfudiRUR8Rtm3PWbSa/estL2di2VAe2EpgXKUo24Mz7dROanjkzq/N\n",
       "GcCsAWNAlCCm9Ll324nFA/iujunFYryEOlDwYVDSkaZVLrRdp9NAlgf0FY1SrAqs8TBHnKHXIPGn\n",
       "nZg5rtANg17RYtiPkCWiKeyj8LM+NTzYtgQ7FMjkmLaL/oMszQpeUMeg2Z8uiR15MuaJqbm981mB\n",
       "pgcO6NRGlWLmffOSdlN3m5435bhIqZBCTQyewx4xzZ7ATZ1aLz+3nXWamF3DLeom6EfOokck1Ofj\n",
       "NAeXPRwW02Zc7NKp+YbYJ91tdQxRR3W1Koo7Bvzk4BWwBQpBp+bUMlOv9bosKLFkSnFDSPzm4Ae3\n",
       "okCATikxTFnNmTGLnqIFuIHNotwcsUWEKqZEcrqk1DJxlYtJY8VqeEwdbUiSNszjn9ZgOGycsrby\n",
       "G/hMyrRXo3BdSfRMUg6JbbKaVYyAl9rKIFwqsHo+wgmY33mN12Ycjp4CmwJKWIPHeDnsP9wpMyOf\n",
       "faPuA/Naej9mquygj3owL5Cbcukvw2WOogNpP6CAe0yMxbAPLZ1Xl0g4jyRZ1ZDexMeGAbMtKKDE\n",
       "cQpidf5dWI52cr3GCUYLCqiw2xzLVsjCHtSuoP8Tm8WKYtfkqc2JMNIYcFtRQD1bFsu2nZ5LzCKr\n",
       "ubYjpZVvOXbLhpzu/Hle5O8r3RE7ju62f0EytPFXN0HdAAAAAElFTkSuQmCC\n",
       "\" style=\"display:inline;vertical-align:middle;\" /></a></td></tr>\n",
       "<tr><td>3</td><td>ExprTuple</td><td>6, 5, 7, 6, 7</td><td><a class=\"ProveItLink\" href=\"../797e07acfd65d12032b05a394b1d0ad4c2baf5af0/expr.ipynb\"><img src=\"data:image/png;base64,iVBORw0KGgoAAAANSUhEUgAAAGIAAAAVBAMAAABPrCZEAAAAMFBMVEX////c3NwiIiJERESqqqqY\n",
       "mJh2dnZmZmYQEBDu7u4yMjJUVFTMzMyIiIi6uroAAAAs73DqAAAAAXRSTlMAQObYZgAAAYpJREFU\n",
       "OMuVUz1Iw0AU/tqmP5fQpnsH3ZyEDjqKxVEEMzsFB90kIHYStCBuSkdxaRcHEaQOggjBgIvgYCfB\n",
       "IaU6FRFaqQ6Ciu/ukjSUQmwgue9933vvXr5cgPGvXHOM5GSbHveDmF1NRpVs030aitVGVIUKZMND\n",
       "6aXIsUxkqqG4W42qYLt4Dcer0e8+gzIvXHMdEZ65l5KP2RsVr6mvofDYyQPrOCF811aFSawPXcqd\n",
       "fKIn83wNuQrmaVnEISUeIGFwUvlCxhRbfCJdlFv4GiYMbPJe+AU0rx3SdegWB8TEpYeBhhtgmpYH\n",
       "XqEXPTJuoSsaElOT4wUa+mDfomKP9msOPseO8JeYZfjI8+IHSo/xqWYpkfoajFc42AcHtRKuFUdQ\n",
       "vsY+oNWXgBVyC5qFlFMjR7RSugEOVEOZSgkUaGTqgmVyd18oKLtPOHqnPvYWBIjZrduWQIGGgvs2\n",
       "Ryf3HJm8N+gzhsEoik5J0vSwgWEwiko1B6f9fxXHfD4Jsz4XgFEULrjR4/y1WQd/tl5t16nI2fQA\n",
       "AAAASUVORK5CYII=\n",
       "\" style=\"display:inline;vertical-align:middle;\" /></a></td></tr>\n",
       "<tr><td>4</td><td>Operation</td><td>operator:&nbsp;8<br>operands:&nbsp;9<br></td><td><a class=\"ProveItLink\" href=\"../1d5ca85bb291b50723080d0d449bfc191044913a0/expr.ipynb\"><img src=\"data:image/png;base64,iVBORw0KGgoAAAANSUhEUgAAABcAAAAUBAMAAACUkLs9AAAAMFBMVEX////c3NyqqqqYmJhUVFR2\n",
       "dnbu7u66urrMzMxmZmZEREQQEBAyMjIiIiKIiIgAAAB7fvZ0AAAAAXRSTlMAQObYZgAAAJZJREFU\n",
       "GNNjYICCSjE7Bjio/++A4BQXItgM5Uhshsp30xAcQQYdEMV35/zelUA6v4GBgaO+gC3+CcMJBv4C\n",
       "BgYDZwYGpi8MOxjkBRiYEzYAlUxhCGN4wsDAyQiyLI+BNTKAgSGTPQBhZCuTARKHHYmTxYGkjCcB\n",
       "ybXMASAOG5S3uA5I1CZAOCxez9iqlsEUdt7/7Q5hAQDDzB+JAiNuCgAAAABJRU5ErkJggg==\n",
       "\" style=\"display:inline;vertical-align:middle;\" /></a></td></tr>\n",
       "<tr><td>5</td><td>Variable</td><td></td><td><a class=\"ProveItLink\" href=\"../../../../__pv_it/6840a4fa6c106149dc16a131294d0c5e44f1b0480/expr.ipynb\"><img src=\"data:image/png;base64,iVBORw0KGgoAAAANSUhEUgAAAAkAAAAOBAMAAAAPuiubAAAALVBMVEX///9mZmbMzMxERESYmJiI\n",
       "iIh2dna6urqqqqoyMjIiIiIQEBBUVFTu7u4AAAD9S1JeAAAAAXRSTlMAQObYZgAAAE1JREFUCNdj\n",
       "4D29gAEIOA+ASL4GEFl3AURmgQiGOaFHGBh4HzPwKTBwvGXgTmBgnMDAJ8DAJcBQ5wBSLncBJLWN\n",
       "gYGngRFoBO9REQYGAGrcDtUkVqASAAAAAElFTkSuQmCC\n",
       "\" style=\"display:inline;vertical-align:middle;\" /></a></td></tr>\n",
       "<tr><td>6</td><td>Variable</td><td></td><td><a class=\"ProveItLink\" href=\"../../../../__pv_it/cbdfda466482236edba0ce44ac7ef39cda0af7a40/expr.ipynb\"><img src=\"data:image/png;base64,iVBORw0KGgoAAAANSUhEUgAAAAkAAAAJBAMAAAASvxsjAAAALVBMVEX///9mZmbc3NxUVFSYmJhE\n",
       "REQiIiIyMjK6uroQEBDMzMyIiIh2dnbu7u4AAABgFDGoAAAAAXRSTlMAQObYZgAAADZJREFUCNdj\n",
       "YOA9s3sBA8PKBvYEBt7ZDKwODMwPGICALwBE6m0Asx0YGIDiAgw8QJUyu/cyAAAmuwmycZ8WfQAA\n",
       "AABJRU5ErkJggg==\n",
       "\" style=\"display:inline;vertical-align:middle;\" /></a></td></tr>\n",
       "<tr><td>7</td><td>Variable</td><td></td><td><a class=\"ProveItLink\" href=\"../../../../__pv_it/07527342713064c87612d00d8557c53d53d5324a0/expr.ipynb\"><img src=\"data:image/png;base64,iVBORw0KGgoAAAANSUhEUgAAAAsAAAAJBAMAAAAWSsseAAAAMFBMVEX///8yMjKqqqrMzMzu7u4i\n",
       "IiJmZmaYmJhEREQQEBC6urp2dnaIiIhUVFTc3NwAAAD87Fq/AAAAAXRSTlMAQObYZgAAAEhJREFU\n",
       "CNdjYOC7s2seAwPDygccHxgY+L4zsDUwMPB+YGA9wMDA38Dgb8DA8P4Agz6DA4O/AsNFJgMGxgKm\n",
       "MG6gyjunLE4xAAAZTBA5TB6DCwAAAABJRU5ErkJggg==\n",
       "\" style=\"display:inline;vertical-align:middle;\" /></a></td></tr>\n",
       "<tr><td>8</td><td>Literal</td><td></td><td><a class=\"ProveItLink\" href=\"../../../exponentiation/__pv_it/deb2bf23cbccdd6e6791e1b35b5b9794ce12dbd50/expr.ipynb\"><img src=\"data:image/png;base64,iVBORw0KGgoAAAANSUhEUgAAACgAAAASBAMAAADbMYGVAAAAMFBMVEX///8QEBAiIiKYmJjc3Nzu\n",
       "7u7MzMx2dnZmZma6urpERESqqqoyMjJUVFSIiIgAAAAoDOMTAAAAAXRSTlMAQObYZgAAAOBJREFU\n",
       "GNNjYGB4+//u3Tt/GNAASGAXmhjnPyDBgSbI/g1IxKEJ8nxgYGdgQRPkX8BgDKRY6q7s62OYvmze\n",
       "2wAgb/7ZO1+AVDiDkYEQQ0HTBr4DQF59AgOIKmB4z7CNbcNZBu6vQN55kEACQwDDLQYGVobfDHwg\n",
       "fb8YGBxYHwAZciD3fWXg+gB1JjvQcJZvQIXsCgz8F6DO9GBgMOH7wPCUgaeBwd4B7EwGNjUG7s9c\n",
       "AiwPgO5jkWRgiF3/9+5dfQUG1nWl5Y+B7pv+1gE9bBhqGLCAE1jEWH9jEbT5A3IwAC4sP/1L6Qlu\n",
       "AAAAAElFTkSuQmCC\n",
       "\" style=\"display:inline;vertical-align:middle;\" /></a></td></tr>\n",
       "<tr><td>9</td><td>ExprTuple</td><td>10, 11</td><td><a class=\"ProveItLink\" href=\"../7b5508e04b247401485fb3cbfb9e6c01a4389fb40/expr.ipynb\"><img src=\"data:image/png;base64,iVBORw0KGgoAAAANSUhEUgAAAC8AAAAVBAMAAAAk6KpUAAAAMFBMVEX////c3NwiIiJERESqqqqY\n",
       "mJh2dnZmZmYQEBDu7u4yMjJUVFTMzMyIiIi6uroAAAAs73DqAAAAAXRSTlMAQObYZgAAASRJREFU\n",
       "KM9jYMAJ+C5gisWBiNNAzKu1vskcIsYVyZjCwH4AyFrJwMDz/gFn/m2IBMf//wkMDAuAioEmBWxl\n",
       "YGD5DdVRnQMkw4AqJjCwTmgAsqshEtxgcgYDwysGBnbGDUD2XGQJZgeGMgaG6XwJCAdx3739gIGB\n",
       "rYBhKQPDMZYAhATzBM5/QBsXMPQBJfgCUHyxA+i5Bgag9GSeBBSJ/AMMPB9AElwTNiBEjYASD0AS\n",
       "LQwMrAkgCU6IRBMDQ70AyChTIMf0LZB4NAEsVcDAsAqodgFDOsiJm29yPrZkmK8AZIszsDSCnfsI\n",
       "pOy4/o99QO9+BDJ5yncLAK19wMAhgLD4IZw1A2QzQgLhnVxIsGNIcAKDnUEaLs6LCDCQ+YxYovYO\n",
       "AwMAlNdEY4sgu8kAAAAASUVORK5CYII=\n",
       "\" style=\"display:inline;vertical-align:middle;\" /></a></td></tr>\n",
       "<tr><td>10</td><td>Literal</td><td></td><td><a class=\"ProveItLink\" href=\"../../../sets/complex/__pv_it/c357845f93a5a2d9f649129d299e7ec28dda4b960/expr.ipynb\"><img src=\"data:image/png;base64,iVBORw0KGgoAAAANSUhEUgAAAA8AAAAOBAMAAAACpFvcAAAAMFBMVEX////c3NyqqqqYmJhUVFR2\n",
       "dnbu7u66urrMzMxmZmZEREQQEBAyMjIiIiKIiIgAAAB7fvZ0AAAAAXRSTlMAQObYZgAAAGVJREFU\n",
       "CNdjYGDgu3N+70oGBgaO+gK2+CdAhoEzAwPTFwYG5oQNQN4UBgZORgcgI4+BIZM9gAEMWpkMoAx2\n",
       "KCOLAyrFk+AAYTAHgBhsQLy4DkjUJjAwsHg9Y6taBpLsvP/bnYEBACkBFGQfBv8RAAAAAElFTkSu\n",
       "QmCC\n",
       "\" style=\"display:inline;vertical-align:middle;\" /></a></td></tr>\n",
       "<tr><td>11</td><td>Literal</td><td></td><td><a class=\"ProveItLink\" href=\"../../../numeral/__pv_it/aaeeaca7d86eb2b7cdc49e25c3108b81b52ec5400/expr.ipynb\"><img src=\"data:image/png;base64,iVBORw0KGgoAAAANSUhEUgAAAAkAAAAOBAMAAAAPuiubAAAAMFBMVEX///8iIiJERES6urqIiIjM\n",
       "zMxUVFRmZmYQEBCqqqp2dnbc3Nzu7u6YmJgyMjIAAADYGhJvAAAAAXRSTlMAQObYZgAAAE1JREFU\n",
       "CNdj4LvDvZKBgeP//wUMDHxlSxkYGNgYGBCki5sBAwPTAZ7PYG4GmFwfwKAIJA0YGhkY6jcwFDAw\n",
       "vGNg2M7A2c3AwFqetoEBAKS8EE1WXEJLAAAAAElFTkSuQmCC\n",
       "\" style=\"display:inline;vertical-align:middle;\" /></a></td></tr>\n",
       "</table>\n"
      ],
      "text/plain": [
       "0. (c , b , a , c , a) in Complexes^{5}\n",
       "   core type: Operation\n",
       "   operator: 1\n",
       "   operands: 2\n",
       "1. in\n",
       "   core type: Literal\n",
       "   sub-expressions: \n",
       "2. ((c , b , a , c , a) , Complexes^{5})\n",
       "   core type: ExprTuple\n",
       "   sub-expressions: 3, 4\n",
       "3. (c , b , a , c , a)\n",
       "   core type: ExprTuple\n",
       "   sub-expressions: 6, 5, 7, 6, 7\n",
       "4. Complexes^{5}\n",
       "   core type: Operation\n",
       "   operator: 8\n",
       "   operands: 9\n",
       "5. b\n",
       "   core type: Variable\n",
       "   sub-expressions: \n",
       "6. c\n",
       "   core type: Variable\n",
       "   sub-expressions: \n",
       "7. a\n",
       "   core type: Variable\n",
       "   sub-expressions: \n",
       "8. Exp\n",
       "   core type: Literal\n",
       "   sub-expressions: \n",
       "9. (Complexes , 5)\n",
       "   core type: ExprTuple\n",
       "   sub-expressions: 10, 11\n",
       "10. Complexes\n",
       "    core type: Literal\n",
       "    sub-expressions: \n",
       "11. 5\n",
       "    core type: Literal\n",
       "    sub-expressions: "
      ]
     },
     "execution_count": 4,
     "metadata": {},
     "output_type": "execute_result"
    }
   ],
   "source": [
    "# display the expression information\n",
    "expr.exprInfo()"
   ]
  },
  {
   "cell_type": "code",
   "execution_count": null,
   "metadata": {},
   "outputs": [],
   "source": []
  }
 ],
 "metadata": {
  "kernelspec": {
   "display_name": "Python 3",
   "language": "python",
   "name": "python3"
  }
 },
 "nbformat": 4,
 "nbformat_minor": 0
}
