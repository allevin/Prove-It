{
 "cells": [
  {
   "cell_type": "markdown",
   "metadata": {},
   "source": [
    "Expression of type <a class=\"ProveItLink\" href=\"../../../../../../doc/html/api/proveit.ExprTuple.html\">ExprTuple</a>\n",
    "=======================\n",
    "# from context <a class=\"ProveItLink\" href=\"../../_context_.ipynb\">proveit.number.addition</a>"
   ]
  },
  {
   "cell_type": "code",
   "execution_count": 1,
   "metadata": {},
   "outputs": [],
   "source": [
    "# import Expression classes needed to build the expression\n",
    "from proveit import ExprTuple\n",
    "from proveit._common_ import b, c\n",
    "from proveit.logic import InSet\n",
    "from proveit.number import Complexes"
   ]
  },
  {
   "cell_type": "code",
   "execution_count": 2,
   "metadata": {},
   "outputs": [
    {
     "data": {
      "text/html": [
       "<strong id=\"expr\">expr:</strong> <a class=\"ProveItLink\" href=\"expr.ipynb\"><img src=\"data:image/png;base64,iVBORw0KGgoAAAANSUhEUgAAAHgAAAAVBAMAAAB/IDdlAAAAMFBMVEX////c3NwiIiJERESqqqqY\n",
       "mJh2dnZmZmYQEBDu7u4yMjJUVFTMzMyIiIi6uroAAAAs73DqAAAAAXRSTlMAQObYZgAAAglJREFU\n",
       "OMtjYKAI8F0gTx/rAyBxmoFzhwK6DK/W+iZznPourfqhXMBQA2StZGDg2oAmy/P+AWf+bVx6z/1j\n",
       "mPZ3AwMX0A6gq/kd0KQDtjIwsPzG5V7uAAYG/w0MrAkMHBMYGN5PgAjPXaSkBZae0AAkq1H1cN5S\n",
       "UloAYkRyAAn2DQycDQyvgKwkqGOXQg1hZwT5Yy6q5lORUEaBNMgooINNGMqArNV3t4JEhaF6Gabz\n",
       "JSDZmHb3AJBitITxC55BWekMS4Hczwz8IHlDmPpjLAEIzScecIEig1kAFpgJrlCWF0MfMGh+MnAA\n",
       "reI0gGvmQ2jm7GVgBvEmw2Mi4SmU9YLhH9CLCxj4C4CppUlJCRJgk3kQzub+AFUJlAQHGKfBMajU\n",
       "eZBmpgKG90DDeeCxzTUBEfH8UPechous5IZrbgFHcz0wrDjh6Yw1AaSZE8yWh6beSXDNYWDNE0DO\n",
       "NmUAhVYbiL8VLm/6Fkg8mgDSzg90E8jP3PBgYI4DmsenycAQBQxvBm4HdrAzJz2Ae3TzTc7Hlgzz\n",
       "gW7hLmBgA0UFpx7c6N22E+YZTwBF1SOg+N5SsCDj8gMw+eP6P/YxMMz4CGSW3b0JFpKqgYd30f9u\n",
       "kD3rGDgEEFHKsgsS2nDwEJnjvQiSPOGR2ABK3rhBAL4MzXYBnCXJ0zwLiKVxS/PiLUo2goKJzGKI\n",
       "9wADAJaOfPftFJt8AAAAAElFTkSuQmCC\n",
       "\" style=\"display:inline;vertical-align:middle;\" /></a><br>"
      ],
      "text/plain": [
       "expr: (b in Complexes , c in Complexes)"
      ]
     },
     "execution_count": 2,
     "metadata": {},
     "output_type": "execute_result"
    }
   ],
   "source": [
    "# build up the expression from sub-expressions\n",
    "expr = ExprTuple(InSet(b, Complexes), InSet(c, Complexes))"
   ]
  },
  {
   "cell_type": "code",
   "execution_count": 3,
   "metadata": {},
   "outputs": [
    {
     "name": "stdout",
     "output_type": "stream",
     "text": [
      "Passed sanity check: built 'expr' is the same as the stored Expression.\n"
     ]
    }
   ],
   "source": [
    "# check that the built expression is the same as the stored expression\n",
    "%check_expr"
   ]
  },
  {
   "cell_type": "code",
   "execution_count": 4,
   "metadata": {},
   "outputs": [
    {
     "data": {
      "text/html": [
       "<table><tr><th>&nbsp;</th><th>core type</th><th>sub-expressions</th><th>expression</th></tr>\n",
       "<tr><td>0</td><td>ExprTuple</td><td>1, 2</td><td><a class=\"ProveItLink\" href=\"expr.ipynb\"><img src=\"data:image/png;base64,iVBORw0KGgoAAAANSUhEUgAAAHgAAAAVBAMAAAB/IDdlAAAAMFBMVEX////c3NwiIiJERESqqqqY\n",
       "mJh2dnZmZmYQEBDu7u4yMjJUVFTMzMyIiIi6uroAAAAs73DqAAAAAXRSTlMAQObYZgAAAglJREFU\n",
       "OMtjYKAI8F0gTx/rAyBxmoFzhwK6DK/W+iZznPourfqhXMBQA2StZGDg2oAmy/P+AWf+bVx6z/1j\n",
       "mPZ3AwMX0A6gq/kd0KQDtjIwsPzG5V7uAAYG/w0MrAkMHBMYGN5PgAjPXaSkBZae0AAkq1H1cN5S\n",
       "UloAYkRyAAn2DQycDQyvgKwkqGOXQg1hZwT5Yy6q5lORUEaBNMgooINNGMqArNV3t4JEhaF6Gabz\n",
       "JSDZmHb3AJBitITxC55BWekMS4Hczwz8IHlDmPpjLAEIzScecIEig1kAFpgJrlCWF0MfMGh+MnAA\n",
       "reI0gGvmQ2jm7GVgBvEmw2Mi4SmU9YLhH9CLCxj4C4CppUlJCRJgk3kQzub+AFUJlAQHGKfBMajU\n",
       "eZBmpgKG90DDeeCxzTUBEfH8UPechous5IZrbgFHcz0wrDjh6Yw1AaSZE8yWh6beSXDNYWDNE0DO\n",
       "NmUAhVYbiL8VLm/6Fkg8mgDSzg90E8jP3PBgYI4DmsenycAQBQxvBm4HdrAzJz2Ae3TzTc7Hlgzz\n",
       "gW7hLmBgA0UFpx7c6N22E+YZTwBF1SOg+N5SsCDj8gMw+eP6P/YxMMz4CGSW3b0JFpKqgYd30f9u\n",
       "kD3rGDgEEFHKsgsS2nDwEJnjvQiSPOGR2ABK3rhBAL4MzXYBnCXJ0zwLiKVxS/PiLUo2goKJzGKI\n",
       "9wADAJaOfPftFJt8AAAAAElFTkSuQmCC\n",
       "\" style=\"display:inline;vertical-align:middle;\" /></a></td></tr>\n",
       "<tr><td>1</td><td>Operation</td><td>operator:&nbsp;4<br>operands:&nbsp;3<br></td><td><a class=\"ProveItLink\" href=\"../56e4bf9d0dc4ab15750dbfaaa220f8ca1295f3ab0/expr.ipynb\"><img src=\"data:image/png;base64,iVBORw0KGgoAAAANSUhEUgAAADEAAAAPBAMAAAC/wjryAAAAMFBMVEX////c3NxmZmbMzMxERESY\n",
       "mJiIiIh2dna6urqqqqoyMjIiIiIQEBBUVFTu7u4AAAAiO1wTAAAAAXRSTlMAQObYZgAAANpJREFU\n",
       "GNNj4LuzgQENsO1af9oJSHNdQJNg7m/gq88FMvgnoMkEXGVg4PwLZPQ/gAjwZe3evQBIsz44ACR1\n",
       "gbgaqtQqDkIzMYKMfwbEa9OuggQY/aAqHnEUQA35wsBvAKRZBKAy5pwBEAbnPwYekKInMAeYc0Bl\n",
       "mBYw8CsA6Z7duyEueMIMNY1bgaEfpMgWpofrAdSDQO/og9z9GibDWgCS4WMAWX8cJMAbAJNybQMS\n",
       "3Q8YeCcwgXXz7YDJ8F7J42sB+oHvmipEQEoZJmW0/88NlPCauxrsNhgAAF6vNqYvGVTbAAAAAElF\n",
       "TkSuQmCC\n",
       "\" style=\"display:inline;vertical-align:middle;\" /></a></td></tr>\n",
       "<tr><td>2</td><td>Operation</td><td>operator:&nbsp;4<br>operands:&nbsp;5<br></td><td><a class=\"ProveItLink\" href=\"../c13cb7484c5c8cfdbfcfc08314313cc92059f30d0/expr.ipynb\"><img src=\"data:image/png;base64,iVBORw0KGgoAAAANSUhEUgAAADEAAAAPBAMAAAC/wjryAAAAMFBMVEX///+qqqpmZmbc3NxUVFSY\n",
       "mJhEREQiIiIyMjK6uroQEBDMzMyIiIh2dnbu7u4AAAA4MM1YAAAAAXRSTlMAQObYZgAAAMRJREFU\n",
       "GNNjYMAEPBX9y5OwiDNwz5/Ad/8INpkAVwYGxi9IAnwnyssbgDTrgwVAUgVJZkcchGZidgCSb0Bq\n",
       "757ZAKSY86AqHnFegLJ2TeAoAFJsBlD+XsYAqPFrGNhAzGcwU/dyQmVYPkDoWeXlEBc844aaxp8A\n",
       "obfA9HA8cIAw7A9A6OcwGdYLIBk+oB6gqSCDWQJgUqlzgMT0BwwsCgy8IFfzVcJkWNzO8U0D+UH3\n",
       "zDmwgIU2TGpT/S9PlPASaQe7DQYAhwcvp2pfo0QAAAAASUVORK5CYII=\n",
       "\" style=\"display:inline;vertical-align:middle;\" /></a></td></tr>\n",
       "<tr><td>3</td><td>ExprTuple</td><td>6, 8</td><td><a class=\"ProveItLink\" href=\"../f33a637244d78aac01d603f401a379e61b9aa1660/expr.ipynb\"><img src=\"data:image/png;base64,iVBORw0KGgoAAAANSUhEUgAAAC0AAAAVBAMAAAAgHXppAAAAMFBMVEX////c3NwiIiJERESqqqqY\n",
       "mJh2dnZmZmYQEBDu7u4yMjJUVFTMzMyIiIi6uroAAAAs73DqAAAAAXRSTlMAQObYZgAAASdJREFU\n",
       "GNN1kbFLw1AQh79qYpImJu4uzi5ORdzyJ3RylOLiJHbRxcEi4igBB7uIWRzEwYAUXBSnOri4igq1\n",
       "boJEcVEE8d3LqwSLbzjuPn7vd/fuwX8nvBlCCxKu8c6mBmR8+mRzFudSpUdQzQwO8p63cgepUiib\n",
       "KDa83gHrC+bBTSBPCmwnLRXXoQ3PKls0cqcihvswGrOmsuOHjuZ7YaMQjDU5BO+dSCaga9ULbqXs\n",
       "qPiJq4Xd0PCwxbeyTYmaUu4Gxid4FT7SJNfCapL98i09/oae1G4I97RPDWm6LRXUXlToJ9gpS+DH\n",
       "TsaB7Mg/vfWe5vScfXXxfFU98U0uXM18XEijHu6EeexjadFt6TXYWYkvF3v+yz21ZybNj5TkvnhX\n",
       "hv/xHn4AzB1Fc5V7R3cAAAAASUVORK5CYII=\n",
       "\" style=\"display:inline;vertical-align:middle;\" /></a></td></tr>\n",
       "<tr><td>4</td><td>Literal</td><td></td><td><a class=\"ProveItLink\" href=\"../../../../logic/set_theory/membership/__pv_it/088cbc857536a28d4119ad9639a84270ccb0545d0/expr.ipynb\"><img src=\"data:image/png;base64,iVBORw0KGgoAAAANSUhEUgAAAAwAAAAMBAMAAACkW0HUAAAALVBMVEX///+qqqpmZmZUVFQQEBC6\n",
       "urpERETc3NyYmJjMzMwiIiIyMjKIiIju7u4AAACYsrA9AAAAAXRSTlMAQObYZgAAADxJREFUCNdj\n",
       "YOA9vWrVBgaG2b0MQMCeCyIZ2ArA1DUwyRCyahVIyWQI7xaEYm4AU7xLIdxqTQgtvGvVBgCkcQ7e\n",
       "geM/tQAAAABJRU5ErkJggg==\n",
       "\" style=\"display:inline;vertical-align:middle;\" /></a></td></tr>\n",
       "<tr><td>5</td><td>ExprTuple</td><td>7, 8</td><td><a class=\"ProveItLink\" href=\"../abce21c686dae58084decd9daf4aa671823af84e0/expr.ipynb\"><img src=\"data:image/png;base64,iVBORw0KGgoAAAANSUhEUgAAAC0AAAAVBAMAAAAgHXppAAAAMFBMVEX////c3NwiIiJERESqqqqY\n",
       "mJh2dnZmZmYQEBDu7u4yMjJUVFTMzMyIiIi6uroAAAAs73DqAAAAAXRSTlMAQObYZgAAARJJREFU\n",
       "GNNjYMAF+C5gCMWBiNPIIrxa65vMGdgPAJkrkYR53j/gzL/NwLAAqALZmICtDAwsvxkYwhgYOCYg\n",
       "hFknNADJagaGGQwMr5CUszNuAJJzGRiYHRjKgCzOtLsgmxim8yVAFLAVMCwFUicecCmAuMdYAiDi\n",
       "LAsY+oDKexmYwQLH+KDifA0M/xgYuD9AzZ/MAzWH5wNInN8AKs41YQNcvIWBQR7mBdYEkDgn2BxT\n",
       "oHqgqQGcIAnTt0Di0QQG1gUM6UDzCxjYDswHuYh7803Ox5Zgdz4Ccsvu3mSY8RGk4bj+j30gix4w\n",
       "cAhADX+I5PEZILtgYYYknosUzkjinMBwZpCGxgiScm6Q2YyY8XiHgQEAaaE/gGyRZnYAAAAASUVO\n",
       "RK5CYII=\n",
       "\" style=\"display:inline;vertical-align:middle;\" /></a></td></tr>\n",
       "<tr><td>6</td><td>Variable</td><td></td><td><a class=\"ProveItLink\" href=\"../../../../__pv_it/6840a4fa6c106149dc16a131294d0c5e44f1b0480/expr.ipynb\"><img src=\"data:image/png;base64,iVBORw0KGgoAAAANSUhEUgAAAAkAAAAOBAMAAAAPuiubAAAALVBMVEX///9mZmbMzMxERESYmJiI\n",
       "iIh2dna6urqqqqoyMjIiIiIQEBBUVFTu7u4AAAD9S1JeAAAAAXRSTlMAQObYZgAAAE1JREFUCNdj\n",
       "4D29gAEIOA+ASL4GEFl3AURmgQiGOaFHGBh4HzPwKTBwvGXgTmBgnMDAJ8DAJcBQ5wBSLncBJLWN\n",
       "gYGngRFoBO9REQYGAGrcDtUkVqASAAAAAElFTkSuQmCC\n",
       "\" style=\"display:inline;vertical-align:middle;\" /></a></td></tr>\n",
       "<tr><td>7</td><td>Variable</td><td></td><td><a class=\"ProveItLink\" href=\"../../../../__pv_it/cbdfda466482236edba0ce44ac7ef39cda0af7a40/expr.ipynb\"><img src=\"data:image/png;base64,iVBORw0KGgoAAAANSUhEUgAAAAkAAAAJBAMAAAASvxsjAAAALVBMVEX///9mZmbc3NxUVFSYmJhE\n",
       "REQiIiIyMjK6uroQEBDMzMyIiIh2dnbu7u4AAABgFDGoAAAAAXRSTlMAQObYZgAAADZJREFUCNdj\n",
       "YOA9s3sBA8PKBvYEBt7ZDKwODMwPGICALwBE6m0Asx0YGIDiAgw8QJUyu/cyAAAmuwmycZ8WfQAA\n",
       "AABJRU5ErkJggg==\n",
       "\" style=\"display:inline;vertical-align:middle;\" /></a></td></tr>\n",
       "<tr><td>8</td><td>Literal</td><td></td><td><a class=\"ProveItLink\" href=\"../../../sets/complex/__pv_it/c357845f93a5a2d9f649129d299e7ec28dda4b960/expr.ipynb\"><img src=\"data:image/png;base64,iVBORw0KGgoAAAANSUhEUgAAAA8AAAAOBAMAAAACpFvcAAAAMFBMVEX////c3NyqqqqYmJhUVFR2\n",
       "dnbu7u66urrMzMxmZmZEREQQEBAyMjIiIiKIiIgAAAB7fvZ0AAAAAXRSTlMAQObYZgAAAGVJREFU\n",
       "CNdjYGDgu3N+70oGBgaO+gK2+CdAhoEzAwPTFwYG5oQNQN4UBgZORgcgI4+BIZM9gAEMWpkMoAx2\n",
       "KCOLAyrFk+AAYTAHgBhsQLy4DkjUJjAwsHg9Y6taBpLsvP/bnYEBACkBFGQfBv8RAAAAAElFTkSu\n",
       "QmCC\n",
       "\" style=\"display:inline;vertical-align:middle;\" /></a></td></tr>\n",
       "</table>\n"
      ],
      "text/plain": [
       "0. (b in Complexes , c in Complexes)\n",
       "   core type: ExprTuple\n",
       "   sub-expressions: 1, 2\n",
       "1. b in Complexes\n",
       "   core type: Operation\n",
       "   operator: 4\n",
       "   operands: 3\n",
       "2. c in Complexes\n",
       "   core type: Operation\n",
       "   operator: 4\n",
       "   operands: 5\n",
       "3. (b , Complexes)\n",
       "   core type: ExprTuple\n",
       "   sub-expressions: 6, 8\n",
       "4. in\n",
       "   core type: Literal\n",
       "   sub-expressions: \n",
       "5. (c , Complexes)\n",
       "   core type: ExprTuple\n",
       "   sub-expressions: 7, 8\n",
       "6. b\n",
       "   core type: Variable\n",
       "   sub-expressions: \n",
       "7. c\n",
       "   core type: Variable\n",
       "   sub-expressions: \n",
       "8. Complexes\n",
       "   core type: Literal\n",
       "   sub-expressions: "
      ]
     },
     "execution_count": 4,
     "metadata": {},
     "output_type": "execute_result"
    }
   ],
   "source": [
    "# display the expression information\n",
    "expr.exprInfo()"
   ]
  },
  {
   "cell_type": "code",
   "execution_count": null,
   "metadata": {},
   "outputs": [],
   "source": []
  }
 ],
 "metadata": {
  "kernelspec": {
   "display_name": "Python 3",
   "language": "python",
   "name": "python3"
  }
 },
 "nbformat": 4,
 "nbformat_minor": 0
}
