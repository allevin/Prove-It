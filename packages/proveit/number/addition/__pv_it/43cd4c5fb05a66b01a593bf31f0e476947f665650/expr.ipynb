{
 "cells": [
  {
   "cell_type": "markdown",
   "metadata": {},
   "source": [
    "Expression of type <a class=\"ProveItLink\" href=\"../../../../../../doc/html/api/proveit.ExprTuple.html\">ExprTuple</a>\n",
    "=======================\n",
    "# from context <a class=\"ProveItLink\" href=\"../../_context_.ipynb\">proveit.number.addition</a>"
   ]
  },
  {
   "cell_type": "code",
   "execution_count": 1,
   "metadata": {},
   "outputs": [],
   "source": [
    "# import Expression classes needed to build the expression\n",
    "from proveit import ExprTuple\n",
    "from proveit.number import Add, four, three, two"
   ]
  },
  {
   "cell_type": "code",
   "execution_count": 2,
   "metadata": {},
   "outputs": [
    {
     "data": {
      "text/html": [
       "<strong id=\"expr\">expr:</strong> <a class=\"ProveItLink\" href=\"expr.ipynb\"><img src=\"data:image/png;base64,iVBORw0KGgoAAAANSUhEUgAAAMkAAAAVBAMAAAAeFNdiAAAAMFBMVEX////c3NwiIiJERESqqqqY\n",
       "mJh2dnZmZmYQEBDu7u4yMjJUVFTMzMyIiIi6uroAAAAs73DqAAAAAXRSTlMAQObYZgAAAppJREFU\n",
       "SMe9lT2IE0EUx/+bbJLdfGyiIFecgiCIXVJoq+mu0GBsrrCQBSEHihgUDaRR0cJT8NZGrhGD0eLW\n",
       "wrQSJKnO4grTCAcqBktB7gznaQRvnY/NJW/WFdKYIrPze2/ff97bNzPA//lZvWnf+BpmOBdO14CZ\n",
       "+nHFslo5GvBe88d0C1qt2afGdOV8EYlu4CXmLOgKtBY+FYlNq2IjkOIhf0w6mEVmixpnYP0GGgGV\n",
       "SEHQTA8pB5FNCR/KIb6F7EFCmONt/+Ej8ArIy4mZk+PlIgbAPCgF1guCGg6MRaR2JCzJQR+rlEb+\n",
       "+5r+wyJw10FHlkz3Uz4tVJZ9lxGFdrYg6BdWgiESO0rM3YrtEttXsVgBXjq4QVUgKhYtKirxZEHQ\n",
       "67J8Q1XlBSiJ5XyVhC2GvKOoJFssaFVROcNVGH0uZm9tGjN9oaWoPIavkiwLh20l3ipflt6g1Oxx\n",
       "FUYfiGkTai7rfUrskY8hDPxtmkuGRbJuUhoXfoyKD5IoBFQMWkO9O1LJCpWr6ncGlhykNyk9JVQY\n",
       "FSrvBau77hHX5ZlrXUS/E/IIRCUjCppw3af3XJc/7wdOlKXKmJr2SOUOl65iD1n5k6FUGZOT7fbP\n",
       "1zJJ3kdz0HKTqzY9h6soFdPb7c79HqfH2OwNawYSM9tA5JtaQ7YreV9F2ddPV1nPkdr8Yl2XQ6yh\n",
       "1tFguTC6wOpzuLJA92CmjA07qGIOILt1b6VyhcZ7B2v7L50sVBj9zDaL53nKTp+rPVP74aJ3zVxi\n",
       "CVjMNe95AxpPr9VZJZN9dVd2fpQ5NXKTh1spcNwRYnHnW5NEJ4fqchiN2f++OgiJ8b/58NvpUihd\n",
       "meL+ivknf8jPbITS2SlUxBK1Vpg5lQul2tQ38oEww4cw+gczg8Ytg2zpVwAAAABJRU5ErkJggg==\n",
       "\" style=\"display:inline;vertical-align:middle;\" /></a><br>"
      ],
      "text/plain": [
       "expr: (2 + 3 + 4 , (2 + 3) + 4)"
      ]
     },
     "execution_count": 2,
     "metadata": {},
     "output_type": "execute_result"
    }
   ],
   "source": [
    "# build up the expression from sub-expressions\n",
    "expr = ExprTuple(Add(two, three, four), Add(Add(two, three), four))"
   ]
  },
  {
   "cell_type": "code",
   "execution_count": 3,
   "metadata": {},
   "outputs": [
    {
     "name": "stdout",
     "output_type": "stream",
     "text": [
      "Passed sanity check: built 'expr' is the same as the stored Expression.\n"
     ]
    }
   ],
   "source": [
    "# check that the built expression is the same as the stored expression\n",
    "%check_expr"
   ]
  },
  {
   "cell_type": "code",
   "execution_count": 4,
   "metadata": {},
   "outputs": [
    {
     "data": {
      "text/html": [
       "<table><tr><th>&nbsp;</th><th>core type</th><th>sub-expressions</th><th>expression</th></tr>\n",
       "<tr><td>0</td><td>ExprTuple</td><td>1, 2</td><td><a class=\"ProveItLink\" href=\"expr.ipynb\"><img src=\"data:image/png;base64,iVBORw0KGgoAAAANSUhEUgAAAMkAAAAVBAMAAAAeFNdiAAAAMFBMVEX////c3NwiIiJERESqqqqY\n",
       "mJh2dnZmZmYQEBDu7u4yMjJUVFTMzMyIiIi6uroAAAAs73DqAAAAAXRSTlMAQObYZgAAAppJREFU\n",
       "SMe9lT2IE0EUx/+bbJLdfGyiIFecgiCIXVJoq+mu0GBsrrCQBSEHihgUDaRR0cJT8NZGrhGD0eLW\n",
       "wrQSJKnO4grTCAcqBktB7gznaQRvnY/NJW/WFdKYIrPze2/ff97bNzPA//lZvWnf+BpmOBdO14CZ\n",
       "+nHFslo5GvBe88d0C1qt2afGdOV8EYlu4CXmLOgKtBY+FYlNq2IjkOIhf0w6mEVmixpnYP0GGgGV\n",
       "SEHQTA8pB5FNCR/KIb6F7EFCmONt/+Ej8ArIy4mZk+PlIgbAPCgF1guCGg6MRaR2JCzJQR+rlEb+\n",
       "+5r+wyJw10FHlkz3Uz4tVJZ9lxGFdrYg6BdWgiESO0rM3YrtEttXsVgBXjq4QVUgKhYtKirxZEHQ\n",
       "67J8Q1XlBSiJ5XyVhC2GvKOoJFssaFVROcNVGH0uZm9tGjN9oaWoPIavkiwLh20l3ipflt6g1Oxx\n",
       "FUYfiGkTai7rfUrskY8hDPxtmkuGRbJuUhoXfoyKD5IoBFQMWkO9O1LJCpWr6ncGlhykNyk9JVQY\n",
       "FSrvBau77hHX5ZlrXUS/E/IIRCUjCppw3af3XJc/7wdOlKXKmJr2SOUOl65iD1n5k6FUGZOT7fbP\n",
       "1zJJ3kdz0HKTqzY9h6soFdPb7c79HqfH2OwNawYSM9tA5JtaQ7YreV9F2ddPV1nPkdr8Yl2XQ6yh\n",
       "1tFguTC6wOpzuLJA92CmjA07qGIOILt1b6VyhcZ7B2v7L50sVBj9zDaL53nKTp+rPVP74aJ3zVxi\n",
       "CVjMNe95AxpPr9VZJZN9dVd2fpQ5NXKTh1spcNwRYnHnW5NEJ4fqchiN2f++OgiJ8b/58NvpUihd\n",
       "meL+ivknf8jPbITS2SlUxBK1Vpg5lQul2tQ38oEww4cw+gczg8Ytg2zpVwAAAABJRU5ErkJggg==\n",
       "\" style=\"display:inline;vertical-align:middle;\" /></a></td></tr>\n",
       "<tr><td>1</td><td>Operation</td><td>operator:&nbsp;7<br>operands:&nbsp;3<br></td><td><a class=\"ProveItLink\" href=\"../b384a36784fa78888d1b559f9410904a6e04c8e90/expr.ipynb\"><img src=\"data:image/png;base64,iVBORw0KGgoAAAANSUhEUgAAAFAAAAAQBAMAAABzZ+XyAAAAMFBMVEX///+YmJh2dnbMzMwQEBAi\n",
       "IiLu7u6qqqqIiIhUVFS6urpEREQyMjJmZmbc3NwAAACOMKdoAAAAAXRSTlMAQObYZgAAAPlJREFU\n",
       "KM9j4Lt7egEDCmBW0i5gQAOWDAwvGTi+owq+ZeD6ga4wmoFhGgNDPITD9gBC6xcwfEUVYeDwZmBw\n",
       "SWCYD7GbvQEiWg9XCBNheHiageF8AsN9VIUMcKvhIgqnwVR8AppCngmoChkfgBUyf0LTb3SSAVUk\n",
       "gwGskGcDmkIGDi9UEQWIwtsM6AoZ/FEcw24AVsgBdhDvmTNHfc6cAbEfMzDsF0AWSWIAK6xl4HuA\n",
       "rJ/tfwJYIUKkcubMLzMYmC8APYVi9R9gODxAcwwwwJ8qKV1FdWMjAxd6OIAUxv//jxYP7HfvFKAp\n",
       "1Px/ESnikXyNUwQScQ34RACBpVEZou4rGgAAAABJRU5ErkJggg==\n",
       "\" style=\"display:inline;vertical-align:middle;\" /></a></td></tr>\n",
       "<tr><td>2</td><td>Operation</td><td>operator:&nbsp;7<br>operands:&nbsp;4<br></td><td><a class=\"ProveItLink\" href=\"../6196a66340ea655c5aafc393c9d2c4db0969f2100/expr.ipynb\"><img src=\"data:image/png;base64,iVBORw0KGgoAAAANSUhEUgAAAF8AAAAVBAMAAADSoS/MAAAAMFBMVEX////c3NwiIiJERESqqqqY\n",
       "mJh2dnZmZmYQEBDu7u4yMjJUVFTMzMyIiIi6uroAAAAs73DqAAAAAXRSTlMAQObYZgAAAWhJREFU\n",
       "OMuVkzFIw0AUhv/UNk3Sxurk4NJJHDPUVdwEsVDXTplacOqkUBwcXESQurooqIMRpM4d2kkHh2Ys\n",
       "OChOIkgVFMlifLmI5l2SwYPk7r6XL3m8ewH+PSbdlEDuIZnfAjPtRQleNyrAVuzZYpdu51C6uF9i\n",
       "AaWFsQsjJmQswHRR6CDzGpKDcFLfUSojZ4NRYESC1oG2i8JXSKrhlBWCvg1GodRJeAYMD3ku0KCU\n",
       "UJEE1SBhI0zOk4ULupqSsBYIZ2I5tHmouB7UY4ULuhsI+2J9AvkLIzqFJ05VBIJIPm/FBI2SHHK6\n",
       "+ifcCdB2nHnHCZJXBpj4+BF+qW4LYSeoYgvT7F1HnhB4Stler7/nYoGWN1QAJpSOkXkD6nKimiVK\n",
       "p8w1mmUWMmsY2/GyCuGRDsH3fS5gefOU7pfywfU/a9Cmot1VjW5irRF2vR3dvUQ3qptEqb3TxmEy\n",
       "nk0VrpKxkvaLmoMk+g1JnVv4C5VmpgAAAABJRU5ErkJggg==\n",
       "\" style=\"display:inline;vertical-align:middle;\" /></a></td></tr>\n",
       "<tr><td>3</td><td>ExprTuple</td><td>9, 10, 6</td><td><a class=\"ProveItLink\" href=\"../fd479056cc2ee7215be10058a7ebcbd9e086ea210/expr.ipynb\"><img src=\"data:image/png;base64,iVBORw0KGgoAAAANSUhEUgAAAD0AAAAVBAMAAAAHs/uBAAAAMFBMVEX////c3NwiIiJERESqqqqY\n",
       "mJh2dnZmZmYQEBDu7u4yMjJUVFTMzMyIiIi6uroAAAAs73DqAAAAAXRSTlMAQObYZgAAAVFJREFU\n",
       "KM+Fki9Mw0AUxr92W9eu+4dCYKbQE2DJHAYxDAJBqraEhGQKEhQCQ0igEkcTQBDM/MSmQCCoXAIJ\n",
       "CxKzQSCkZuXdu7tWkIaK3vfeL/e9e/cO+O+rhploR/wegcXDNZW576xoWO6jOKL1FkYfry3OGT1M\n",
       "tZ3ZBAKgEsL1Yc44Z32h1lB8THwLsH3YJ3DnnMun3NgmfgG8A6UIxbkuq/2tEvFcC/uyWKT5nVo3\n",
       "Bbd6uOHoyVOH3u1L4YSC5wOccXiV9DyeSHsIXj0CFy42E27LShvMyzPJnxU0Rsh9s72n+bFoq4cF\n",
       "5peR4vnBYHgaCv9Vih7ouPBJ1AKYH6yoEO0vBOiS63Kn23A+KVdpY+qxkpz6e6Pm4zhuOOd1Sq4f\n",
       "XEMqa/jTRmkCu67nXMcfRfdbUDeDQtJiqvZ4vpncofliSQXpM0qUKwoZ2e/rBfgF0xZRBsRkoUUA\n",
       "AAAASUVORK5CYII=\n",
       "\" style=\"display:inline;vertical-align:middle;\" /></a></td></tr>\n",
       "<tr><td>4</td><td>ExprTuple</td><td>5, 6</td><td><a class=\"ProveItLink\" href=\"../0b4079f8be144baef79872dc81725472e83531430/expr.ipynb\"><img src=\"data:image/png;base64,iVBORw0KGgoAAAANSUhEUgAAAE0AAAAVBAMAAADx+n4ZAAAAMFBMVEX////c3NwiIiJERESqqqqY\n",
       "mJh2dnZmZmYQEBDu7u4yMjJUVFTMzMyIiIi6uroAAAAs73DqAAAAAXRSTlMAQObYZgAAAWhJREFU\n",
       "KM+Nkj1Iw1AQx/9pm682/XBycOkkjh10lW4uFuri4CCZWhCETAqdHFxE0Li5GVAH49K9Qzvp4GDG\n",
       "goLFUZBWUaSL9d57TeyrlHpD7uvH3b3LAf+VTDAV2WSfO2C2tjyWuakshqZVh94ifQWljqeihCkO\n",
       "umGbWAHwgHSAlItYTwRPhNI+kM0PuTZx64DhwjhA6lsES0Ilfjllg7hT4AVI9qHLHEnYV0sSFy9i\n",
       "RwzRH+euh3qNcZqDS+7d2zJnbdWFYQaMS3g44u45xuu1O6ItGJfZAx9ML/zhDDHJKuesnuAeeKzm\n",
       "+wu+zwZTWoh/8rZ2yO2zNTiYkeqd9YdcotFoHgas7xJ5t/Qsict6iL3BFQNQPdVDlbrMV6p5iUuX\n",
       "0bXN94ijvTzT8gaDgcxhZfcC5nGOPbj5VUayAyM3egAl6eKiFP031R5NvY46amRt87uaJBFn0l1h\n",
       "biIXHXqKDaBMv/tH4AdSg1ad1oCY/AAAAABJRU5ErkJggg==\n",
       "\" style=\"display:inline;vertical-align:middle;\" /></a></td></tr>\n",
       "<tr><td>5</td><td>Operation</td><td>operator:&nbsp;7<br>operands:&nbsp;8<br></td><td><a class=\"ProveItLink\" href=\"../b3da72475f2e5820f90b445dc3397d522d6d2e280/expr.ipynb\"><img src=\"data:image/png;base64,iVBORw0KGgoAAAANSUhEUgAAACwAAAAQBAMAAACfEoDkAAAAMFBMVEX///+YmJh2dnbMzMwQEBAi\n",
       "IiLu7u6qqqqIiIhUVFS6urpEREQyMjJmZmbc3NwAAACOMKdoAAAAAXRSTlMAQObYZgAAALNJREFU\n",
       "GNNj4Lt7egEDCjBS2s7A8JKB4zuKKN8FhvUNDNMYGOIhfLYHYIrpOwN/AINLAsN8iCnsDRAKLHw+\n",
       "geE+ijAQrAez4hPQhE+CCOZPDCjCzDoTQBTPBgY01S0gU28zoAuzfGNg4ABr4T1z5qjPmTNANp8B\n",
       "A/dHBoZaBr4HyKrzv4GEmS8wMKII8x9gYP3H8FRJ6SqK2RwCDOsVGOL///+KamXt3ePIYYRwCQrg\n",
       "QhIGAAaPNUmGC4MkAAAAAElFTkSuQmCC\n",
       "\" style=\"display:inline;vertical-align:middle;\" /></a></td></tr>\n",
       "<tr><td>6</td><td>Literal</td><td></td><td><a class=\"ProveItLink\" href=\"../../../numeral/__pv_it/23412ce59ea7e77353d2f9225e02248e73651ca00/expr.ipynb\"><img src=\"data:image/png;base64,iVBORw0KGgoAAAANSUhEUgAAAAoAAAAPBAMAAAAv0UM9AAAALVBMVEX///9mZmaqqqru7u52dnYy\n",
       "MjKYmJjc3NwQEBCIiIhEREQiIiJUVFTMzMwAAACUDTcXAAAAAXRSTlMAQObYZgAAAD5JREFUCNdj\n",
       "YGBguMMAArtABGcXiCyLApEOIJKtAERaMoBIBxDJdAFEmjCASJ0zZ16cBCkF64KQPu/EwBwGACv6\n",
       "DSRgin9qAAAAAElFTkSuQmCC\n",
       "\" style=\"display:inline;vertical-align:middle;\" /></a></td></tr>\n",
       "<tr><td>7</td><td>Literal</td><td></td><td><a class=\"ProveItLink\" href=\"../3e6688136fa3c7aefbebe51301b7c3ebf0b69c440/expr.ipynb\"><img src=\"data:image/png;base64,iVBORw0KGgoAAAANSUhEUgAAAA4AAAAOBAMAAADtZjDiAAAAJFBMVEX///+6urpUVFQQEBAiIiIy\n",
       "MjJmZmaIiIiqqqrc3Nzu7u4AAACgHpL+AAAAAXRSTlMAQObYZgAAAB5JREFUCNdjYGBgWMkAAe2k\n",
       "0Kmhoc6hoUGk6BMHYgAHOwjcado9fwAAAABJRU5ErkJggg==\n",
       "\" style=\"display:inline;vertical-align:middle;\" /></a></td></tr>\n",
       "<tr><td>8</td><td>ExprTuple</td><td>9, 10</td><td><a class=\"ProveItLink\" href=\"../9333281ed4be3d0d1796509ff962cccc430da5be0/expr.ipynb\"><img src=\"data:image/png;base64,iVBORw0KGgoAAAANSUhEUgAAACkAAAAVBAMAAAAp9toTAAAAMFBMVEX////c3NwiIiJERESqqqqY\n",
       "mJh2dnZmZmYQEBDu7u4yMjJUVFTMzMyIiIi6uroAAAAs73DqAAAAAXRSTlMAQObYZgAAARBJREFU\n",
       "GNNtkStPA1EQhb8tLPtqN4uqAFGFBYOF/QeAQRISklYRqiCpQmAwdCVyE4IgmP4EFAgENShIIEhU\n",
       "gyApCV3mzj7Ehismcz5x7pkZ+P+F4xrYM+UR2oONHDS7BzHOnXQ3WCPeYqVtwl9IoTUmSGhMlB7F\n",
       "fMEuuAnuOcFM6ZbSS/gEf4ozK/8Wh7mYYxWNaUH9ESz0uVbxtJ/D+1sp8ykXqq7KsC3R4Slq6KxV\n",
       "MwwTmpOcvhRoGTa3DT0zRn0WDfSyxFBxWBf1ADsk0vzAaoSd0gNrpdvreBKfZ8JvTfYhYbMs63jD\n",
       "SKxOBrIQ/x03KqcqGzOxXeTHrsId6iZr1JNNslSI6iSBsbLqF3qFP6kkPkM9+LMtAAAAAElFTkSu\n",
       "QmCC\n",
       "\" style=\"display:inline;vertical-align:middle;\" /></a></td></tr>\n",
       "<tr><td>9</td><td>Literal</td><td></td><td><a class=\"ProveItLink\" href=\"../../../numeral/__pv_it/77d407a64829263cdc16415becd4c2293f77a4bf0/expr.ipynb\"><img src=\"data:image/png;base64,iVBORw0KGgoAAAANSUhEUgAAAAkAAAAOBAMAAAAPuiubAAAAMFBMVEX///+YmJh2dnbMzMwQEBAi\n",
       "IiLu7u6qqqqIiIhUVFS6urpEREQyMjJmZmbc3NwAAACOMKdoAAAAAXRSTlMAQObYZgAAAFBJREFU\n",
       "CNdj4Lt7egEDw0sGju8MDNMYGOIZGFwSGOYvYDifwHAfKAEUSQASzJ9ATJ4NIPI2iOCYACJrGfge\n",
       "MDBfYGB8wPBUSekqUPH//18ZAIliFhc3zESNAAAAAElFTkSuQmCC\n",
       "\" style=\"display:inline;vertical-align:middle;\" /></a></td></tr>\n",
       "<tr><td>10</td><td>Literal</td><td></td><td><a class=\"ProveItLink\" href=\"../../../numeral/__pv_it/9176d93c83afa2c995b614976e3cb49207102fa70/expr.ipynb\"><img src=\"data:image/png;base64,iVBORw0KGgoAAAANSUhEUgAAAAoAAAAOBAMAAADkjZCYAAAAMFBMVEX///+YmJju7u4QEBBUVFQy\n",
       "MjIiIiKIiIi6urpmZmbc3NyqqqpERER2dnbMzMwAAAB0GlNiAAAAAXRSTlMAQObYZgAAAE1JREFU\n",
       "CNdjYHh79zQDA9cEhv4CBt7fDPwJDNxgEgiAIkAQAsR8Vx1ATIbiBhDJ/ImB6wEDz0cG/U8gkj+A\n",
       "ge0XA7sAQ/8FBoadM6MZAEflFACalZ/OAAAAAElFTkSuQmCC\n",
       "\" style=\"display:inline;vertical-align:middle;\" /></a></td></tr>\n",
       "</table>\n"
      ],
      "text/plain": [
       "0. (2 + 3 + 4 , (2 + 3) + 4)\n",
       "   core type: ExprTuple\n",
       "   sub-expressions: 1, 2\n",
       "1. 2 + 3 + 4\n",
       "   core type: Operation\n",
       "   operator: 7\n",
       "   operands: 3\n",
       "2. (2 + 3) + 4\n",
       "   core type: Operation\n",
       "   operator: 7\n",
       "   operands: 4\n",
       "3. (2 , 3 , 4)\n",
       "   core type: ExprTuple\n",
       "   sub-expressions: 9, 10, 6\n",
       "4. (2 + 3 , 4)\n",
       "   core type: ExprTuple\n",
       "   sub-expressions: 5, 6\n",
       "5. 2 + 3\n",
       "   core type: Operation\n",
       "   operator: 7\n",
       "   operands: 8\n",
       "6. 4\n",
       "   core type: Literal\n",
       "   sub-expressions: \n",
       "7. +\n",
       "   core type: Literal\n",
       "   sub-expressions: \n",
       "8. (2 , 3)\n",
       "   core type: ExprTuple\n",
       "   sub-expressions: 9, 10\n",
       "9. 2\n",
       "   core type: Literal\n",
       "   sub-expressions: \n",
       "10. 3\n",
       "    core type: Literal\n",
       "    sub-expressions: "
      ]
     },
     "execution_count": 4,
     "metadata": {},
     "output_type": "execute_result"
    }
   ],
   "source": [
    "# display the expression information\n",
    "expr.exprInfo()"
   ]
  },
  {
   "cell_type": "code",
   "execution_count": null,
   "metadata": {},
   "outputs": [],
   "source": []
  }
 ],
 "metadata": {
  "kernelspec": {
   "display_name": "Python 3",
   "language": "python",
   "name": "python3"
  }
 },
 "nbformat": 4,
 "nbformat_minor": 0
}
