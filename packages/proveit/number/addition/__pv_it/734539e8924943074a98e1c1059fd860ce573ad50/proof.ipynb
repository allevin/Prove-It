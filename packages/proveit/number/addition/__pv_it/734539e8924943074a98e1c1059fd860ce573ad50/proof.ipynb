{
 "cells": [
  {
   "cell_type": "markdown",
   "metadata": {},
   "source": [
    "Show the Proof\n",
    "========"
   ]
  },
  {
   "cell_type": "code",
   "execution_count": 1,
   "metadata": {},
   "outputs": [
    {
     "data": {
      "text/html": [
       "<table><tr><th>&nbsp;</th><th>step type</th><th>requirements</th><th>statement</th></tr>\n",
       "<tr><td>0</td><td>assumption</td><td></td><td><span style=\"font-size:20px;\"><a class=\"ProveItLink\" href=\"../b76cb04e1aa7c1c24491efff4252334af15d7e9d0/expr.ipynb\"><img src=\"data:image/png;base64,iVBORw0KGgoAAAANSUhEUgAAAHUAAAAaBAMAAAB7iA4AAAAAMFBMVEX///+6urp2dnaqqqoiIiIQ\n",
       "EBBERETu7u6IiIjc3NwyMjJUVFSYmJhmZmbMzMwAAAD0pS5FAAAAAXRSTlMAQObYZgAAAcFJREFU\n",
       "OMtjYGDgu8NAMmC+CKF3TSBdL8O0BBDJ8Z2BHBALIrgXgEjGBhQZHgFCerMQel8jROfeSmRguIem\n",
       "9NS3/FVRyObvQuhdDhfk3MDQb8DAhW5PwmyGZ1YTGMzSgKAARS8HwkjuAgaWDww8Cuh65zKwVSZg\n",
       "s5e1AC7IGs7A/ZGBPQDCY+9ycVkA1cv0AKteKYQg13cG3o8MDMkQ3qvjCHsx9bKBBC6huI8FGG26\n",
       "EM+nI7mZG8PNrCCvrkHR+x7oWSswi20Ckl6RU0ip6DzQl5yrQaxAFL3LgFgUzCpDhNVUFy8DJDW8\n",
       "KxkYjjwAsYAe5FziAgLARMELctp7sApRkBA0rGTZCpAtmNLAwOwB1YsA3Qxwva+R4ohXbgNyynMG\n",
       "EvUHgEQwch65wDAT5uYS5Phd3oOkyn4CLJxzkETfMjCcBCZCSEI5gKT3NfcDbPGrixDkdFLSdYCJ\n",
       "sDsi6WUyyMSmVwQpcv///w/UuxDCm3UPnhfyGJatN8CWJtHzPyxNMlgvgYQzOkDoxUj6TA0E8i/W\n",
       "PAgBVQzE652NJrWTKL1MYJ9xorqR4wEhvd7gUFlNTlHH6w5JXXvIKJ9zGCgDACT0ezmOfuZJAAAA\n",
       "AElFTkSuQmCC\n",
       "\" style=\"display:inline;vertical-align:middle;\" /></a> <a class=\"ProveItLink\" href=\"proof.ipynb\" style=\"text-decoration: none\">&#x22A2;&nbsp;</a><a class=\"ProveItLink\" href=\"../ac644326b018894104724dfb5574be66dc509ce40/expr.ipynb\"><img src=\"data:image/png;base64,iVBORw0KGgoAAAANSUhEUgAAAF0AAAAVBAMAAADWVP/xAAAAMFBMVEX////c3NwiIiJERESqqqqY\n",
       "mJh2dnZmZmYQEBDu7u4yMjJUVFTMzMyIiIi6uroAAAAs73DqAAAAAXRSTlMAQObYZgAAAVdJREFU\n",
       "KM9jYCAV8F1A4bI+IKD+NIIpXmXHwFCDJh/12X5VF5KZK+Esxg0M9x0YuNANNJBmOOwlwOBsDAQT\n",
       "GHgRWrknMDB9YGBNQFcvzsA80QDG45gAl+DoZOD+x8DZAOFx3lJSWgBVz3YArv4VwiCunwzs/xgY\n",
       "TCC8U5EI85HUl6HYzfSTgSEd4hlLJPdwI9yzFEX9eaDjvcAsZgEk9Y+i4Lw+FPWLgfgFmDUZ4V8J\n",
       "JS0HOA/oYMZFSiAAjCh2kLXnweIvQEJQ/z5nnoCsHgFuM8DVn0YKT/Y3G+C8FiTlLAUMgjD3TEIO\n",
       "/5VX4TxTJPXHGRgCgQkAEnkBSOpPcx+A8dIRyhnV0tIVYCKcekjq2RwMYbxHSIH///9/oPp1EJ5U\n",
       "DTy92TAsXg8LIQ4BtOQCSw8M3osg4YMKMJIX2wX86X8lGn8WgfwijcbfSEA9I6r9vAfwqgYAf55O\n",
       "sM051vsAAAAASUVORK5CYII=\n",
       "\" style=\"display:inline;vertical-align:middle;\" /></a></span></td></tr>\n",
       "</table>"
      ],
      "text/plain": [
       "<proveit._core_.proof._ShowProof at 0x7f94eb0be710>"
      ]
     },
     "execution_count": 1,
     "metadata": {},
     "output_type": "execute_result"
    }
   ],
   "source": [
    "import proveit\n",
    "%show_proof"
   ]
  },
  {
   "cell_type": "code",
   "execution_count": null,
   "metadata": {},
   "outputs": [],
   "source": []
  }
 ],
 "metadata": {
  "kernelspec": {
   "display_name": "Python 3",
   "language": "python",
   "name": "python3"
  }
 },
 "nbformat": 4,
 "nbformat_minor": 0
}
