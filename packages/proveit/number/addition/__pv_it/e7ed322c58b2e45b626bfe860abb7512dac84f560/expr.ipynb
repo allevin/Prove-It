{
 "cells": [
  {
   "cell_type": "markdown",
   "metadata": {},
   "source": [
    "Expression of type <a class=\"ProveItLink\" href=\"../../../../../../doc/html/api/proveit.logic.InSet.html\">InSet</a>\n",
    "=======================\n",
    "# from context <a class=\"ProveItLink\" href=\"../../_context_.ipynb\">proveit.number.addition</a>"
   ]
  },
  {
   "cell_type": "code",
   "execution_count": 1,
   "metadata": {},
   "outputs": [],
   "source": [
    "# import Expression classes needed to build the expression\n",
    "from proveit._common_ import c\n",
    "from proveit.logic import InSet\n",
    "from proveit.number import Complexes, Exp, five, one, three, two"
   ]
  },
  {
   "cell_type": "code",
   "execution_count": 2,
   "metadata": {},
   "outputs": [
    {
     "data": {
      "text/html": [
       "<strong id=\"expr\">expr:</strong> <a class=\"ProveItLink\" href=\"expr.ipynb\"><img src=\"data:image/png;base64,iVBORw0KGgoAAAANSUhEUgAAAJQAAAAZBAMAAAAlPBrhAAAAMFBMVEX////c3NwiIiJERESqqqqY\n",
       "mJh2dnZmZmYQEBDu7u4yMjJUVFTMzMyIiIi6uroAAAAs73DqAAAAAXRSTlMAQObYZgAAAkhJREFU\n",
       "OMutlE1oE0EUx/9bk2Y3yS4pHnpoDyGCoBcj6qGHai5evDReBD2UgpBeLEbBKkVBxIsU2kWxFEUt\n",
       "LUVSQdaDCPZgTvUg2CCIBxU/QBFP1qLYarLOvvnYdrcJBDaQmXn/N/ubmTfzHhDJzzpzs4aIUO5f\n",
       "RIUazESG+ojIUJfe2KxtJ17xJqtrmdgM8ALoHjvIlXTpZCE0rW+jcTHkfrXwZ0cZMP4BFWgOPnBC\n",
       "N6x6cOqNtY1WMuh+2cBU3UlW0YBZQ8pGxw/STxfwMzD19uImVHwocOJUERhw9Kq2At2Gfg2pBjkG\n",
       "wiiYm1DGZd7fmc3t9vrjOmsSTqdtOvjONr2GRENeRb01Cvt5UOdtbpZ7PH4NpVFglJQOOT/piMHU\n",
       "yLsgiqRhGm4XJKP81V9lntplEYKlB0JOT2A2gOLSERrvldrQYR81Qe2cOg63MV3DgQCKS99oM3mF\n",
       "+uKjKEiJvLIn+dafhWPFpWWK6JVcjsJu5JcCqLfC6AUOFWm0Gkat+qi0jCgqKR91lf1jZXTRvl1b\n",
       "oLR6CCUkfsCs9B4jFD+JF5HnwFEy14E9GcOTf7HXx2d4KF/CCfrqsURtG2QpbO2iMbtcbWdpOGt4\n",
       "b/M1rN+45y35BDhFEqGUJB/DdZXWi/323X18V5/Zo3JdN2tMsuIVOz9WwPSKdxEj722SEhfWz/kS\n",
       "8JCf9n5V3uFZd1xwdVn+LFUHP6G5JBMn9pQnzpb5GVdSEc2lzlbVrdIW6larwtgjerWcqVxbSI9a\n",
       "obR2CrJZbe77Dyr6oVOzAiY+AAAAAElFTkSuQmCC\n",
       "\" style=\"display:inline;vertical-align:middle;\" /></a><br>"
      ],
      "text/plain": [
       "expr: (2 , 3 , c , 1 , c) in Complexes^{5}"
      ]
     },
     "execution_count": 2,
     "metadata": {},
     "output_type": "execute_result"
    }
   ],
   "source": [
    "# build up the expression from sub-expressions\n",
    "expr = InSet([two, three, c, one, c], Exp(Complexes, five))"
   ]
  },
  {
   "cell_type": "code",
   "execution_count": 3,
   "metadata": {},
   "outputs": [
    {
     "name": "stdout",
     "output_type": "stream",
     "text": [
      "Passed sanity check: built 'expr' is the same as the stored Expression.\n"
     ]
    }
   ],
   "source": [
    "# check that the built expression is the same as the stored expression\n",
    "%check_expr"
   ]
  },
  {
   "cell_type": "code",
   "execution_count": 4,
   "metadata": {},
   "outputs": [
    {
     "data": {
      "text/html": [
       "<table><tr><th>&nbsp;</th><th>core type</th><th>sub-expressions</th><th>expression</th></tr>\n",
       "<tr><td>0</td><td>Operation</td><td>operator:&nbsp;1<br>operands:&nbsp;2<br></td><td><a class=\"ProveItLink\" href=\"expr.ipynb\"><img src=\"data:image/png;base64,iVBORw0KGgoAAAANSUhEUgAAAJQAAAAZBAMAAAAlPBrhAAAAMFBMVEX////c3NwiIiJERESqqqqY\n",
       "mJh2dnZmZmYQEBDu7u4yMjJUVFTMzMyIiIi6uroAAAAs73DqAAAAAXRSTlMAQObYZgAAAkhJREFU\n",
       "OMutlE1oE0EUx/9bk2Y3yS4pHnpoDyGCoBcj6qGHai5evDReBD2UgpBeLEbBKkVBxIsU2kWxFEUt\n",
       "LUVSQdaDCPZgTvUg2CCIBxU/QBFP1qLYarLOvvnYdrcJBDaQmXn/N/ubmTfzHhDJzzpzs4aIUO5f\n",
       "RIUazESG+ojIUJfe2KxtJ17xJqtrmdgM8ALoHjvIlXTpZCE0rW+jcTHkfrXwZ0cZMP4BFWgOPnBC\n",
       "N6x6cOqNtY1WMuh+2cBU3UlW0YBZQ8pGxw/STxfwMzD19uImVHwocOJUERhw9Kq2At2Gfg2pBjkG\n",
       "wiiYm1DGZd7fmc3t9vrjOmsSTqdtOvjONr2GRENeRb01Cvt5UOdtbpZ7PH4NpVFglJQOOT/piMHU\n",
       "yLsgiqRhGm4XJKP81V9lntplEYKlB0JOT2A2gOLSERrvldrQYR81Qe2cOg63MV3DgQCKS99oM3mF\n",
       "+uKjKEiJvLIn+dafhWPFpWWK6JVcjsJu5JcCqLfC6AUOFWm0Gkat+qi0jCgqKR91lf1jZXTRvl1b\n",
       "oLR6CCUkfsCs9B4jFD+JF5HnwFEy14E9GcOTf7HXx2d4KF/CCfrqsURtG2QpbO2iMbtcbWdpOGt4\n",
       "b/M1rN+45y35BDhFEqGUJB/DdZXWi/323X18V5/Zo3JdN2tMsuIVOz9WwPSKdxEj722SEhfWz/kS\n",
       "8JCf9n5V3uFZd1xwdVn+LFUHP6G5JBMn9pQnzpb5GVdSEc2lzlbVrdIW6larwtgjerWcqVxbSI9a\n",
       "obR2CrJZbe77Dyr6oVOzAiY+AAAAAElFTkSuQmCC\n",
       "\" style=\"display:inline;vertical-align:middle;\" /></a></td></tr>\n",
       "<tr><td>1</td><td>Literal</td><td></td><td><a class=\"ProveItLink\" href=\"../../../../logic/set_theory/membership/__pv_it/088cbc857536a28d4119ad9639a84270ccb0545d0/expr.ipynb\"><img src=\"data:image/png;base64,iVBORw0KGgoAAAANSUhEUgAAAAwAAAAMBAMAAACkW0HUAAAALVBMVEX///+qqqpmZmZUVFQQEBC6\n",
       "urpERETc3NyYmJjMzMwiIiIyMjKIiIju7u4AAACYsrA9AAAAAXRSTlMAQObYZgAAADxJREFUCNdj\n",
       "YOA9vWrVBgaG2b0MQMCeCyIZ2ArA1DUwyRCyahVIyWQI7xaEYm4AU7xLIdxqTQgtvGvVBgCkcQ7e\n",
       "geM/tQAAAABJRU5ErkJggg==\n",
       "\" style=\"display:inline;vertical-align:middle;\" /></a></td></tr>\n",
       "<tr><td>2</td><td>ExprTuple</td><td>3, 4</td><td><a class=\"ProveItLink\" href=\"../290a7d34437234c67e225898ad8a329e297df91f0/expr.ipynb\"><img src=\"data:image/png;base64,iVBORw0KGgoAAAANSUhEUgAAAJgAAAAcBAMAAABvzWvcAAAAMFBMVEX///+qqqp2dnYiIiJERESI\n",
       "iIhmZmYQEBDc3NyYmJgyMjLu7u5UVFTMzMy6uroAAACGxKilAAAAAXRSTlMAQObYZgAAApRJREFU\n",
       "SMetlU1oE0EUx//53jTZxJOgF5dAexCEICKCCBX0IIgGivZSaahYRBHqWWlzEBHpIYoHUSgRpaAV\n",
       "WXoRezA5iKgUGnrwJKboQfRgWmwxkmbjm6/NZjc9hGQgO2/+b/jNmzdvJkAfWuLymwz61RLNbWX+\n",
       "7h02lwMMZuml3mFr9PnCrCWzd9il8yZCLG0f2aib/EXX3IqW8xWAI2RMiRBvXzkjXaup4x5A0Bn+\n",
       "NYc98uLvoSwQawBjQJhMLEArYXyXWCaLqjvQ2FknbKBlfrWwuFUaKMMCiiYiFDRtN24isM79/g0k\n",
       "0y7W8ooTFjVsK54H9pUiZa0GBPKokBYh5g3ELT7B54UB405YbEpZjyP0CZf8ZohKIjyMURr+otDr\n",
       "CFtqjmeb7TDYOc3OMnYGqQkW5jo+UTfBPYG6mvNS9ouDF9wwLg2pELPfnAVSx2nqnvNBRaZC3y/L\n",
       "WJ/GUxdMSHulqht7HDC9gXnqpvngmS2Pikp6ncEpF0xIP2zYT2e1WThMHU8W5U+1iNjwijdnQqqo\n",
       "bQ6vOs9lowUbUwuUEfzHrU0vbLMNhoV4e2Qs2ddZRWRxh2vFuoRpWx6YlNQ2cZ/D5EJaA++oY5n5\n",
       "DDzkcrKAQI1bhIzKmQxmS3ikEME5KqLEUXmaNYyAH7V2MDWUjv2hQSiPqsGt98ABbnCYLYnSEI7l\n",
       "k+bbEzIyqrMqdd+pyJrNZjo2Q48cdk8+AbfCg+dMIU3OzOdtCXjFYNyhX2zeVI+Iv4BkmU4vp+ou\n",
       "B7fVQRLXqeVQ959uuOG4udHWZcbOkj/T7pCtmIOe5k9QN7AldIQ9kLd2Vo5bFzyDnaUPLodsx+h3\n",
       "l5VIN892qNz5NWevrM/oz5/nLf691x/YVfS3/QdPY7gwwh2KhgAAAABJRU5ErkJggg==\n",
       "\" style=\"display:inline;vertical-align:middle;\" /></a></td></tr>\n",
       "<tr><td>3</td><td>ExprTuple</td><td>5, 6, 8, 7, 8</td><td><a class=\"ProveItLink\" href=\"../07539e01f9cfe1a6ddd212ab91a127b1e66e7b6d0/expr.ipynb\"><img src=\"data:image/png;base64,iVBORw0KGgoAAAANSUhEUgAAAGIAAAAVBAMAAABPrCZEAAAAMFBMVEX////c3NwiIiJERESqqqqY\n",
       "mJh2dnZmZmYQEBDu7u4yMjJUVFTMzMyIiIi6uroAAAAs73DqAAAAAXRSTlMAQObYZgAAAYVJREFU\n",
       "OMtjYCAd8F0gQTHrAyBxmoFBvMoOIsCTluyAocoSmVMDxCsZGDcw3IcoFGfg+4uuYfJPZB4XAwPv\n",
       "BQbuCQxMH8D8fAeGT2gaZu9G0cGawMAxgYGjk4H7H5jvj6mDgRdFB2cDwyugTT8Z2P/BwuEvfh0M\n",
       "JgxlYJoJJsy1AcqYlnsHXQdYKJ1hKZhzPgEieGw1VJanj2ERmg6IkBdDH5i3GO4GCJ9hxgUGUzQd\n",
       "EKEXDGAPsBvA3dk/AUztx/QHROg8RMdtqKAMA4N9AJj1GVPHZ6iOFiDJUsAgCA66/xOgOhj/YuiA\n",
       "Cr0Au/Y4A0MgA8g1vxgY9AU4QRJfgZEFFgLrQAgxRAFDi4FRLS1dgRMUdVcZ+L4xzFcAsrYzMOSA\n",
       "hcA64EKg0H0EjIz///8rcPYLAJ1XXuXAMOMjKCxy704AC7FX/CpFCDEwrGPgEIDFNozB8JABtxAw\n",
       "lbAmwNIY3K8BDLiF2C6AUjspOmYBsTSUDc+KvHB1WIQ2gsKZlFzLe4ABAAS9b/r6iLTPAAAAAElF\n",
       "TkSuQmCC\n",
       "\" style=\"display:inline;vertical-align:middle;\" /></a></td></tr>\n",
       "<tr><td>4</td><td>Operation</td><td>operator:&nbsp;9<br>operands:&nbsp;10<br></td><td><a class=\"ProveItLink\" href=\"../1d5ca85bb291b50723080d0d449bfc191044913a0/expr.ipynb\"><img src=\"data:image/png;base64,iVBORw0KGgoAAAANSUhEUgAAABcAAAAUBAMAAACUkLs9AAAAMFBMVEX////c3NyqqqqYmJhUVFR2\n",
       "dnbu7u66urrMzMxmZmZEREQQEBAyMjIiIiKIiIgAAAB7fvZ0AAAAAXRSTlMAQObYZgAAAJZJREFU\n",
       "GNNjYICCSjE7Bjio/++A4BQXItgM5Uhshsp30xAcQQYdEMV35/zelUA6v4GBgaO+gC3+CcMJBv4C\n",
       "BgYDZwYGpi8MOxjkBRiYEzYAlUxhCGN4wsDAyQiyLI+BNTKAgSGTPQBhZCuTARKHHYmTxYGkjCcB\n",
       "ybXMASAOG5S3uA5I1CZAOCxez9iqlsEUdt7/7Q5hAQDDzB+JAiNuCgAAAABJRU5ErkJggg==\n",
       "\" style=\"display:inline;vertical-align:middle;\" /></a></td></tr>\n",
       "<tr><td>5</td><td>Literal</td><td></td><td><a class=\"ProveItLink\" href=\"../../../numeral/__pv_it/77d407a64829263cdc16415becd4c2293f77a4bf0/expr.ipynb\"><img src=\"data:image/png;base64,iVBORw0KGgoAAAANSUhEUgAAAAkAAAAOBAMAAAAPuiubAAAAMFBMVEX///+YmJh2dnbMzMwQEBAi\n",
       "IiLu7u6qqqqIiIhUVFS6urpEREQyMjJmZmbc3NwAAACOMKdoAAAAAXRSTlMAQObYZgAAAFBJREFU\n",
       "CNdj4Lt7egEDw0sGju8MDNMYGOIZGFwSGOYvYDifwHAfKAEUSQASzJ9ATJ4NIPI2iOCYACJrGfge\n",
       "MDBfYGB8wPBUSekqUPH//18ZAIliFhc3zESNAAAAAElFTkSuQmCC\n",
       "\" style=\"display:inline;vertical-align:middle;\" /></a></td></tr>\n",
       "<tr><td>6</td><td>Literal</td><td></td><td><a class=\"ProveItLink\" href=\"../../../numeral/__pv_it/9176d93c83afa2c995b614976e3cb49207102fa70/expr.ipynb\"><img src=\"data:image/png;base64,iVBORw0KGgoAAAANSUhEUgAAAAoAAAAOBAMAAADkjZCYAAAAMFBMVEX///+YmJju7u4QEBBUVFQy\n",
       "MjIiIiKIiIi6urpmZmbc3NyqqqpERER2dnbMzMwAAAB0GlNiAAAAAXRSTlMAQObYZgAAAE1JREFU\n",
       "CNdjYHh79zQDA9cEhv4CBt7fDPwJDNxgEgiAIkAQAsR8Vx1ATIbiBhDJ/ImB6wEDz0cG/U8gkj+A\n",
       "ge0XA7sAQ/8FBoadM6MZAEflFACalZ/OAAAAAElFTkSuQmCC\n",
       "\" style=\"display:inline;vertical-align:middle;\" /></a></td></tr>\n",
       "<tr><td>7</td><td>Literal</td><td></td><td><a class=\"ProveItLink\" href=\"../../../numeral/__pv_it/9be8badea4c35b9724062cecc501d17a3158d1d20/expr.ipynb\"><img src=\"data:image/png;base64,iVBORw0KGgoAAAANSUhEUgAAAAgAAAAPBAMAAAArJJMAAAAAHlBMVEX///+YmJgyMjIQEBBmZmaI\n",
       "iIhUVFTu7u5EREQAAAAw+MI4AAAAAXRSTlMAQObYZgAAACFJREFUCNdjYGBoZ2BgqJjOwFCWBiQY\n",
       "WEklWJwnOTKAAACjEQo8HvEr3AAAAABJRU5ErkJggg==\n",
       "\" style=\"display:inline;vertical-align:middle;\" /></a></td></tr>\n",
       "<tr><td>8</td><td>Variable</td><td></td><td><a class=\"ProveItLink\" href=\"../../../../__pv_it/cbdfda466482236edba0ce44ac7ef39cda0af7a40/expr.ipynb\"><img src=\"data:image/png;base64,iVBORw0KGgoAAAANSUhEUgAAAAkAAAAJBAMAAAASvxsjAAAALVBMVEX///9mZmbc3NxUVFSYmJhE\n",
       "REQiIiIyMjK6uroQEBDMzMyIiIh2dnbu7u4AAABgFDGoAAAAAXRSTlMAQObYZgAAADZJREFUCNdj\n",
       "YOA9s3sBA8PKBvYEBt7ZDKwODMwPGICALwBE6m0Asx0YGIDiAgw8QJUyu/cyAAAmuwmycZ8WfQAA\n",
       "AABJRU5ErkJggg==\n",
       "\" style=\"display:inline;vertical-align:middle;\" /></a></td></tr>\n",
       "<tr><td>9</td><td>Literal</td><td></td><td><a class=\"ProveItLink\" href=\"../../../exponentiation/__pv_it/deb2bf23cbccdd6e6791e1b35b5b9794ce12dbd50/expr.ipynb\"><img src=\"data:image/png;base64,iVBORw0KGgoAAAANSUhEUgAAACgAAAASBAMAAADbMYGVAAAAMFBMVEX///8QEBAiIiKYmJjc3Nzu\n",
       "7u7MzMx2dnZmZma6urpERESqqqoyMjJUVFSIiIgAAAAoDOMTAAAAAXRSTlMAQObYZgAAAOBJREFU\n",
       "GNNjYGB4+//u3Tt/GNAASGAXmhjnPyDBgSbI/g1IxKEJ8nxgYGdgQRPkX8BgDKRY6q7s62OYvmze\n",
       "2wAgb/7ZO1+AVDiDkYEQQ0HTBr4DQF59AgOIKmB4z7CNbcNZBu6vQN55kEACQwDDLQYGVobfDHwg\n",
       "fb8YGBxYHwAZciD3fWXg+gB1JjvQcJZvQIXsCgz8F6DO9GBgMOH7wPCUgaeBwd4B7EwGNjUG7s9c\n",
       "AiwPgO5jkWRgiF3/9+5dfQUG1nWl5Y+B7pv+1gE9bBhqGLCAE1jEWH9jEbT5A3IwAC4sP/1L6Qlu\n",
       "AAAAAElFTkSuQmCC\n",
       "\" style=\"display:inline;vertical-align:middle;\" /></a></td></tr>\n",
       "<tr><td>10</td><td>ExprTuple</td><td>11, 12</td><td><a class=\"ProveItLink\" href=\"../7b5508e04b247401485fb3cbfb9e6c01a4389fb40/expr.ipynb\"><img src=\"data:image/png;base64,iVBORw0KGgoAAAANSUhEUgAAAC8AAAAVBAMAAAAk6KpUAAAAMFBMVEX////c3NwiIiJERESqqqqY\n",
       "mJh2dnZmZmYQEBDu7u4yMjJUVFTMzMyIiIi6uroAAAAs73DqAAAAAXRSTlMAQObYZgAAASRJREFU\n",
       "KM9jYMAJ+C5gisWBiNNAzKu1vskcIsYVyZjCwH4AyFrJwMDz/gFn/m2IBMf//wkMDAuAioEmBWxl\n",
       "YGD5DdVRnQMkw4AqJjCwTmgAsqshEtxgcgYDwysGBnbGDUD2XGQJZgeGMgaG6XwJCAdx3739gIGB\n",
       "rYBhKQPDMZYAhATzBM5/QBsXMPQBJfgCUHyxA+i5Bgag9GSeBBSJ/AMMPB9AElwTNiBEjYASD0AS\n",
       "LQwMrAkgCU6IRBMDQ70AyChTIMf0LZB4NAEsVcDAsAqodgFDOsiJm29yPrZkmK8AZIszsDSCnfsI\n",
       "pOy4/o99QO9+BDJ5yncLAK19wMAhgLD4IZw1A2QzQgLhnVxIsGNIcAKDnUEaLs6LCDCQ+YxYovYO\n",
       "AwMAlNdEY4sgu8kAAAAASUVORK5CYII=\n",
       "\" style=\"display:inline;vertical-align:middle;\" /></a></td></tr>\n",
       "<tr><td>11</td><td>Literal</td><td></td><td><a class=\"ProveItLink\" href=\"../../../sets/complex/__pv_it/c357845f93a5a2d9f649129d299e7ec28dda4b960/expr.ipynb\"><img src=\"data:image/png;base64,iVBORw0KGgoAAAANSUhEUgAAAA8AAAAOBAMAAAACpFvcAAAAMFBMVEX////c3NyqqqqYmJhUVFR2\n",
       "dnbu7u66urrMzMxmZmZEREQQEBAyMjIiIiKIiIgAAAB7fvZ0AAAAAXRSTlMAQObYZgAAAGVJREFU\n",
       "CNdjYGDgu3N+70oGBgaO+gK2+CdAhoEzAwPTFwYG5oQNQN4UBgZORgcgI4+BIZM9gAEMWpkMoAx2\n",
       "KCOLAyrFk+AAYTAHgBhsQLy4DkjUJjAwsHg9Y6taBpLsvP/bnYEBACkBFGQfBv8RAAAAAElFTkSu\n",
       "QmCC\n",
       "\" style=\"display:inline;vertical-align:middle;\" /></a></td></tr>\n",
       "<tr><td>12</td><td>Literal</td><td></td><td><a class=\"ProveItLink\" href=\"../../../numeral/__pv_it/aaeeaca7d86eb2b7cdc49e25c3108b81b52ec5400/expr.ipynb\"><img src=\"data:image/png;base64,iVBORw0KGgoAAAANSUhEUgAAAAkAAAAOBAMAAAAPuiubAAAAMFBMVEX///8iIiJERES6urqIiIjM\n",
       "zMxUVFRmZmYQEBCqqqp2dnbc3Nzu7u6YmJgyMjIAAADYGhJvAAAAAXRSTlMAQObYZgAAAE1JREFU\n",
       "CNdj4LvDvZKBgeP//wUMDHxlSxkYGNgYGBCki5sBAwPTAZ7PYG4GmFwfwKAIJA0YGhkY6jcwFDAw\n",
       "vGNg2M7A2c3AwFqetoEBAKS8EE1WXEJLAAAAAElFTkSuQmCC\n",
       "\" style=\"display:inline;vertical-align:middle;\" /></a></td></tr>\n",
       "</table>\n"
      ],
      "text/plain": [
       "0. (2 , 3 , c , 1 , c) in Complexes^{5}\n",
       "   core type: Operation\n",
       "   operator: 1\n",
       "   operands: 2\n",
       "1. in\n",
       "   core type: Literal\n",
       "   sub-expressions: \n",
       "2. ((2 , 3 , c , 1 , c) , Complexes^{5})\n",
       "   core type: ExprTuple\n",
       "   sub-expressions: 3, 4\n",
       "3. (2 , 3 , c , 1 , c)\n",
       "   core type: ExprTuple\n",
       "   sub-expressions: 5, 6, 8, 7, 8\n",
       "4. Complexes^{5}\n",
       "   core type: Operation\n",
       "   operator: 9\n",
       "   operands: 10\n",
       "5. 2\n",
       "   core type: Literal\n",
       "   sub-expressions: \n",
       "6. 3\n",
       "   core type: Literal\n",
       "   sub-expressions: \n",
       "7. 1\n",
       "   core type: Literal\n",
       "   sub-expressions: \n",
       "8. c\n",
       "   core type: Variable\n",
       "   sub-expressions: \n",
       "9. Exp\n",
       "   core type: Literal\n",
       "   sub-expressions: \n",
       "10. (Complexes , 5)\n",
       "    core type: ExprTuple\n",
       "    sub-expressions: 11, 12\n",
       "11. Complexes\n",
       "    core type: Literal\n",
       "    sub-expressions: \n",
       "12. 5\n",
       "    core type: Literal\n",
       "    sub-expressions: "
      ]
     },
     "execution_count": 4,
     "metadata": {},
     "output_type": "execute_result"
    }
   ],
   "source": [
    "# display the expression information\n",
    "expr.exprInfo()"
   ]
  },
  {
   "cell_type": "code",
   "execution_count": null,
   "metadata": {},
   "outputs": [],
   "source": []
  }
 ],
 "metadata": {
  "kernelspec": {
   "display_name": "Python 3",
   "language": "python",
   "name": "python3"
  }
 },
 "nbformat": 4,
 "nbformat_minor": 0
}
