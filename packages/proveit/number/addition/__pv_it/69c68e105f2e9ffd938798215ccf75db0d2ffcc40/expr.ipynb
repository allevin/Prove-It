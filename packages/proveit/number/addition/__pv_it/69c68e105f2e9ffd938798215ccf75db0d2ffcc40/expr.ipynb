{
 "cells": [
  {
   "cell_type": "markdown",
   "metadata": {},
   "source": [
    "Expression of type <a class=\"ProveItLink\" href=\"../../../../../../doc/html/api/proveit.number.Add.html\">Add</a>\n",
    "=======================\n",
    "# from context <a class=\"ProveItLink\" href=\"../../_context_.ipynb\">proveit.number.addition</a>"
   ]
  },
  {
   "cell_type": "code",
   "execution_count": 1,
   "metadata": {},
   "outputs": [],
   "source": [
    "# import Expression classes needed to build the expression\n",
    "from proveit._common_ import a, b, c\n",
    "from proveit.number import Add, Mult, three, two"
   ]
  },
  {
   "cell_type": "code",
   "execution_count": 2,
   "metadata": {},
   "outputs": [
    {
     "data": {
      "text/html": [
       "<strong id=\"expr\">expr:</strong> <a class=\"ProveItLink\" href=\"expr.ipynb\"><img src=\"data:image/png;base64,iVBORw0KGgoAAAANSUhEUgAAANEAAAAVBAMAAAAqbRZ+AAAAMFBMVEX////c3NwiIiJERESqqqqY\n",
       "mJh2dnZmZmYQEBDu7u4yMjJUVFTMzMyIiIi6uroAAAAs73DqAAAAAXRSTlMAQObYZgAAAoRJREFU\n",
       "SMe9lT1oU1EUx/8vec3He00TJwcHO1nHDHWVbEKhNF0cHMQpBUHJVCE6VCmCg5JuYocEtIMpSAtO\n",
       "QuGBoIKD2VRqa3ASoTRCgzwoxnPvfe8m96PlTV7Iu7nn/vI/J+ecex/w/8ZU12K8ngSb6CUTi/U+\n",
       "Au9qs9pONtBZws42Lsvl+gN63IOFsg6u9xJOHYd6LG2dJWwL3ytyvUkfDyZ1wiC9QheZIxSntZ2r\n",
       "0bwWzYT5TaT6Ejhi6bthUqOxpunlmnAtnp5G83w0E5Z7BP+vLEhIj/yKSY3GvKb3i38xspeuqDhh\n",
       "Xois9JThoc3CoE7wRHrLMuvRcHZu3yeluooLLBXGlLezWwWWYFL52l6gGLmB9Dbo++TNrZGnn6U0\n",
       "VcNtqxob/PkpLgxaZRwDczCpDz1vWjFyA+k94asv7GjkWZadAbJlqsOKqiGw54ixhSYeUlQwqPxj\n",
       "pKvjRmEgPZH5HEtLi8Xi95Giok32VQ2OsRAirAH8of8Ig/L7Wp2EgfRo0wmQHrD+YELFMlpB5KnR\n",
       "6VzsdDalp13RRgybwdQg8qRSRR7NmFEYSG+VggyFJz7Od7GAppE9wuDWcWZ0nLKhmb1V/nvVKAyk\n",
       "d4m8tpH6LUtdwRs3wITWEYThPbAYY8fIUXdcg0EVqUhKnYSB9KhRC1Ucyqbyqu5MxuxywpwLtSV5\n",
       "wF/jLswup7VfR0bpcmEgvR+0uHLnxdhx2n+7Tw57qgZhqeFwKD2tf2aBv4JBYXnvq3bImIH0ciXr\n",
       "jWjcRjbMvI1Kp9xG8pZUx61oPojfRTYs0z2NOtD1rBd9vp3kffAs8VuD652z7fhGsmzYNpJQUs+x\n",
       "vZC/GRYLVgiSULHeP6Xpxbz+vJojAAAAAElFTkSuQmCC\n",
       "\" style=\"display:inline;vertical-align:middle;\" /></a><br>"
      ],
      "text/plain": [
       "expr: (3 * a) + (2 * b) + (c + c)"
      ]
     },
     "execution_count": 2,
     "metadata": {},
     "output_type": "execute_result"
    }
   ],
   "source": [
    "# build up the expression from sub-expressions\n",
    "expr = Add(Mult(three, a), Mult(two, b), Add(c, c))"
   ]
  },
  {
   "cell_type": "code",
   "execution_count": 3,
   "metadata": {},
   "outputs": [
    {
     "name": "stdout",
     "output_type": "stream",
     "text": [
      "Passed sanity check: built 'expr' is the same as the stored Expression.\n"
     ]
    }
   ],
   "source": [
    "# check that the built expression is the same as the stored expression\n",
    "%check_expr"
   ]
  },
  {
   "cell_type": "code",
   "execution_count": 4,
   "metadata": {},
   "outputs": [
    {
     "data": {
      "text/html": [
       "<table><tr><th>&nbsp;</th><th>core type</th><th>sub-expressions</th><th>expression</th></tr>\n",
       "<tr><td>0</td><td>Operation</td><td>operator:&nbsp;8<br>operands:&nbsp;1<br></td><td><a class=\"ProveItLink\" href=\"expr.ipynb\"><img src=\"data:image/png;base64,iVBORw0KGgoAAAANSUhEUgAAANEAAAAVBAMAAAAqbRZ+AAAAMFBMVEX////c3NwiIiJERESqqqqY\n",
       "mJh2dnZmZmYQEBDu7u4yMjJUVFTMzMyIiIi6uroAAAAs73DqAAAAAXRSTlMAQObYZgAAAoRJREFU\n",
       "SMe9lT1oU1EUx/8vec3He00TJwcHO1nHDHWVbEKhNF0cHMQpBUHJVCE6VCmCg5JuYocEtIMpSAtO\n",
       "QuGBoIKD2VRqa3ASoTRCgzwoxnPvfe8m96PlTV7Iu7nn/vI/J+ecex/w/8ZU12K8ngSb6CUTi/U+\n",
       "Au9qs9pONtBZws42Lsvl+gN63IOFsg6u9xJOHYd6LG2dJWwL3ytyvUkfDyZ1wiC9QheZIxSntZ2r\n",
       "0bwWzYT5TaT6Ejhi6bthUqOxpunlmnAtnp5G83w0E5Z7BP+vLEhIj/yKSY3GvKb3i38xspeuqDhh\n",
       "Xois9JThoc3CoE7wRHrLMuvRcHZu3yeluooLLBXGlLezWwWWYFL52l6gGLmB9Dbo++TNrZGnn6U0\n",
       "VcNtqxob/PkpLgxaZRwDczCpDz1vWjFyA+k94asv7GjkWZadAbJlqsOKqiGw54ixhSYeUlQwqPxj\n",
       "pKvjRmEgPZH5HEtLi8Xi95Giok32VQ2OsRAirAH8of8Ig/L7Wp2EgfRo0wmQHrD+YELFMlpB5KnR\n",
       "6VzsdDalp13RRgybwdQg8qRSRR7NmFEYSG+VggyFJz7Od7GAppE9wuDWcWZ0nLKhmb1V/nvVKAyk\n",
       "d4m8tpH6LUtdwRs3wITWEYThPbAYY8fIUXdcg0EVqUhKnYSB9KhRC1Ucyqbyqu5MxuxywpwLtSV5\n",
       "wF/jLswup7VfR0bpcmEgvR+0uHLnxdhx2n+7Tw57qgZhqeFwKD2tf2aBv4JBYXnvq3bImIH0ciXr\n",
       "jWjcRjbMvI1Kp9xG8pZUx61oPojfRTYs0z2NOtD1rBd9vp3kffAs8VuD652z7fhGsmzYNpJQUs+x\n",
       "vZC/GRYLVgiSULHeP6Xpxbz+vJojAAAAAElFTkSuQmCC\n",
       "\" style=\"display:inline;vertical-align:middle;\" /></a></td></tr>\n",
       "<tr><td>1</td><td>ExprTuple</td><td>2, 3, 4</td><td><a class=\"ProveItLink\" href=\"../28130ad57ae24a23d116e0bd005c338ee2d3826a0/expr.ipynb\"><img src=\"data:image/png;base64,iVBORw0KGgoAAAANSUhEUgAAAJEAAAAVBAMAAAC01xHeAAAAMFBMVEX////c3NwiIiJERESqqqqY\n",
       "mJh2dnZmZmYQEBDu7u4yMjJUVFTMzMyIiIi6uroAAAAs73DqAAAAAXRSTlMAQObYZgAAAglJREFU\n",
       "OMutVL1LI1EQ/+U7mzWbWFkomEqvM42t7j8g2WssJSDESk0VITZ6HIKFunYBiwTE4pLG4qoDISCo\n",
       "YKGNiMT4VYkg5A4/iHiXex/uy655ppC8YnfmN29+M2/evAE6t7TjDpBM0M8h0JWa1CXmnuyIkDe+\n",
       "tWUKlMnnB3GB9rfV6trGZTNAqX1SBSBMDjer40+rUTXhrgntocW+blfGgaAJJKRMwWWo/0Q16y32\n",
       "MbuSA+74RsnpQnUEBJM/1p7JoyPDvbab5dmZWbRkt8gktFMxuKSkqmUHEwP8aWxRZc9Wz9uoR1Tn\n",
       "KGlJ+TheuXRwFYo5mBjgLWCVaWH6U0ya0iMCcct/ExacMLHEM1iBx7AzcUBbwFsl1sj2PI2l1uC2\n",
       "epVTMjgLPPMbrb2rEwe6aoypDxglcXLUMRJHvvy2t8KvhcKD0B6ZFuEJZ4vFL8ViSQCE6TvJr2Ey\n",
       "Jrb6j5GAyURvGt3NdgrULbszJw6Q0w2T3wswFLVKq+OXt6xQcR/4arm9IphkASIkpKNOHPAVMEWU\n",
       "E2hP4roN76Cf1cY1kJoSXfQT81Bo+6pp+B1dwAHSBTf0GHNZvdlOF7sXyP0mzdRoNATTxqkBZY0m\n",
       "nqmeOTuTAaErBKPSF3ktHUDRdq/Fl5QyGTLQ59Du7co0nyqfY7IvhUwV9MosYen+j6erSs/t6sT0\n",
       "PQf+A8/6h05nscO+AAAAAElFTkSuQmCC\n",
       "\" style=\"display:inline;vertical-align:middle;\" /></a></td></tr>\n",
       "<tr><td>2</td><td>Operation</td><td>operator:&nbsp;6<br>operands:&nbsp;5<br></td><td><a class=\"ProveItLink\" href=\"../7aee2b6e503c8f908ef2cdd0071f19aa9707ce430/expr.ipynb\"><img src=\"data:image/png;base64,iVBORw0KGgoAAAANSUhEUgAAACQAAAAOBAMAAAC1GaP7AAAAMFBMVEX///+YmJju7u4QEBBUVFQy\n",
       "MjIiIiKIiIi6urpmZmbc3NyqqqpERER2dnbMzMwAAAB0GlNiAAAAAXRSTlMAQObYZgAAAJVJREFU\n",
       "GNNjYHh79zQDKuCawNBfgCrE+5uBPwFViBtTCAjQNQJBCIK5pLZ5AQMD31UHuAiHFcN5MKO4AUgw\n",
       "KQCJ9QIMc8BCzJ+AhD7IDn8GhnSgux4w8HwE8pQPAIk/DEz/gLKfIEJgZ39n4P7AxMAfwMD2CyrE\n",
       "9JuBJWAfA7sAQ/8FmI2BDNsmADk7Z0YjnFXed7wBAA1QJloXxtArAAAAAElFTkSuQmCC\n",
       "\" style=\"display:inline;vertical-align:middle;\" /></a></td></tr>\n",
       "<tr><td>3</td><td>Operation</td><td>operator:&nbsp;6<br>operands:&nbsp;7<br></td><td><a class=\"ProveItLink\" href=\"../4fa23b01b5b767887c70271cab015f5b5c98d38c0/expr.ipynb\"><img src=\"data:image/png;base64,iVBORw0KGgoAAAANSUhEUgAAACEAAAAOBAMAAABTMGi/AAAAMFBMVEX///+YmJh2dnbMzMwQEBAi\n",
       "IiLu7u6qqqqIiIhUVFS6urpEREQyMjJmZmbc3NwAAACOMKdoAAAAAXRSTlMAQObYZgAAAKBJREFU\n",
       "CNdj4Lt7egEDFLBNCQCSLxk4vsNEGHgmAIlpDAzxcBH+AiDhksAwH65tfQKQOJ/AcB8uogql4xNg\n",
       "Iic7JoIo5k9wu34z8BuALNgA4qUBMfs3BhYFIH0bLP0VSPAeYOC/wMDAMQEs4g0kWC8wrBdgYKhl\n",
       "4HuAcM79BAbmCwyMcBEDBicGhqdKSldhdnEW8AKNiP///yvc9hkXGRgAQ2knSfB0jgcAAAAASUVO\n",
       "RK5CYII=\n",
       "\" style=\"display:inline;vertical-align:middle;\" /></a></td></tr>\n",
       "<tr><td>4</td><td>Operation</td><td>operator:&nbsp;8<br>operands:&nbsp;9<br></td><td><a class=\"ProveItLink\" href=\"../835f51cc5f7c025f46a68077697f0e2a3c40db810/expr.ipynb\"><img src=\"data:image/png;base64,iVBORw0KGgoAAAANSUhEUgAAACsAAAAOBAMAAABEEvh2AAAAMFBMVEX///+qqqpmZmbc3NxUVFSY\n",
       "mJhEREQiIiIyMjK6uroQEBDMzMyIiIh2dnbu7u4AAAA4MM1YAAAAAXRSTlMAQObYZgAAAGRJREFU\n",
       "GNNjYIADPgMGbIDxABHCfHfPbEARhgjsmsBRgCIMFuBbw8AWgCwMEWD5gGY2RIA/Acxh6uhoX9HR\n",
       "4QATsD+AphoiwA80GMVsiACLAgMvigOhArpnzqF6By6A1/OcSMIAeQEiyOGBraQAAAAASUVORK5C\n",
       "YII=\n",
       "\" style=\"display:inline;vertical-align:middle;\" /></a></td></tr>\n",
       "<tr><td>5</td><td>ExprTuple</td><td>10, 11</td><td><a class=\"ProveItLink\" href=\"../0a7bc1f02b1a1289d815ad2d8102ad7ea9add3540/expr.ipynb\"><img src=\"data:image/png;base64,iVBORw0KGgoAAAANSUhEUgAAACsAAAAVBAMAAAAtAwouAAAAMFBMVEX////c3NwiIiJERESqqqqY\n",
       "mJh2dnZmZmYQEBDu7u4yMjJUVFTMzMyIiIi6uroAAAAs73DqAAAAAXRSTlMAQObYZgAAAQhJREFU\n",
       "GNNjYMAB+C6gi8SBiNMMDMfSTJCF2Q8AiZUMjAUM71G0LGBg4L3AwPaFgV8BWTiMgYFjAgMLuvAM\n",
       "BoZXYAaqIcwODGVgxmqoAOPevEYGBrYChqVADk/WBqjwCwHmDwwMLAsY+sDcGw8gir8ysBsAvdLA\n",
       "8A/M5/gJprg/MDABbeH5ABJmPMDA/BUszG/AMP8AWLiFgWH+T5iw/AUGf4YJIENMgWoWMDB9BPKA\n",
       "ChwYdrEcYGBdwJAO9GgAw/sEzk9AYa4AFnU2sAMfAXnu5UsYOPsFQM6+d/geUPYBA4cALIAFkD3P\n",
       "mgBlsyI8nwsOWHRhTmDAMkhDOYjA4gYZx4gRaXcYGAAIoUCpTBPJKQAAAABJRU5ErkJggg==\n",
       "\" style=\"display:inline;vertical-align:middle;\" /></a></td></tr>\n",
       "<tr><td>6</td><td>Literal</td><td></td><td><a class=\"ProveItLink\" href=\"../../../multiplication/__pv_it/21fd2079611555ecce512d99547a00d551e6b86b0/expr.ipynb\"><img src=\"data:image/png;base64,iVBORw0KGgoAAAANSUhEUgAAAAMAAAADBAMAAACkBqiMAAAAElBMVEX///9EREQQEBAiIiLu7u4A\n",
       "AABGBidwAAAAAXRSTlMAQObYZgAAABFJREFUCNdjYHFgcDVgcBIAAASWAQx4jI0xAAAAAElFTkSu\n",
       "QmCC\n",
       "\" style=\"display:inline;vertical-align:middle;\" /></a></td></tr>\n",
       "<tr><td>7</td><td>ExprTuple</td><td>12, 13</td><td><a class=\"ProveItLink\" href=\"../3a7fed3333ef42636d071b31cc212d3a8cbf468e0/expr.ipynb\"><img src=\"data:image/png;base64,iVBORw0KGgoAAAANSUhEUgAAACkAAAAVBAMAAAAp9toTAAAAMFBMVEX////c3NwiIiJERESqqqqY\n",
       "mJh2dnZmZmYQEBDu7u4yMjJUVFTMzMyIiIi6uroAAAAs73DqAAAAAXRSTlMAQObYZgAAARNJREFU\n",
       "GNNtkaFPw0AUxn8tK20prEMhMFVoDJb0TwCDJA2CKZIaEBgQhAQDlcgmBEEwNSQYkjkEgnlGIEjM\n",
       "FqZqKO/u2omGipf3/a737rvv4P+vO2yBXVVeYOV40wD/MQJ3IN0dVsFHbPBCISWHpSFBhj0xNFSr\n",
       "O+BleBcEv4aOMynX8C3bStya7qkyF3OklV0aev/+APMpt1q9JsbDlHBAJ+dSyxvza6fES+ieoge6\n",
       "64a6OWHK4sTQt/padsp4S9EztTFlubF7kqkJGyKeYRvlVI46ByenD9bafj/yf4QGsVtoZ18yraqq\n",
       "yL/qibOnQxXGJ16vSbRp1I2dpO6dWcAHOskW9SVJVmsxe5JAjbLaLzSCP9bMPeBRRV1aAAAAAElF\n",
       "TkSuQmCC\n",
       "\" style=\"display:inline;vertical-align:middle;\" /></a></td></tr>\n",
       "<tr><td>8</td><td>Literal</td><td></td><td><a class=\"ProveItLink\" href=\"../3e6688136fa3c7aefbebe51301b7c3ebf0b69c440/expr.ipynb\"><img src=\"data:image/png;base64,iVBORw0KGgoAAAANSUhEUgAAAA4AAAAOBAMAAADtZjDiAAAAJFBMVEX///+6urpUVFQQEBAiIiIy\n",
       "MjJmZmaIiIiqqqrc3Nzu7u4AAACgHpL+AAAAAXRSTlMAQObYZgAAAB5JREFUCNdjYGBgWMkAAe2k\n",
       "0Kmhoc6hoUGk6BMHYgAHOwjcado9fwAAAABJRU5ErkJggg==\n",
       "\" style=\"display:inline;vertical-align:middle;\" /></a></td></tr>\n",
       "<tr><td>9</td><td>ExprTuple</td><td>14, 14</td><td><a class=\"ProveItLink\" href=\"../1c0bb617114f3df6312252662a222f4d927730940/expr.ipynb\"><img src=\"data:image/png;base64,iVBORw0KGgoAAAANSUhEUgAAACcAAAAVBAMAAAA3P+qgAAAAMFBMVEX////c3NwiIiJERESqqqqY\n",
       "mJh2dnZmZmYQEBDu7u4yMjJUVFTMzMyIiIi6uroAAAAs73DqAAAAAXRSTlMAQObYZgAAAM5JREFU\n",
       "GNNjYMAK+C6g8uNAxGk0RewHgMRKdK0LGBh4L6ALhjEwcExAF5zBwPAKw2ZmB4YyIMWZdvcAmA9m\n",
       "sBUwLAWyTzzgUgALghksCxj6gPK9DMwBYIVgBl8Dwz8GBu4PUNMgDJ4PIEF+A6gghAEUbGFgkIc5\n",
       "FcIAajcFKgAaGMDJAGUwsC5gSAcaVcDAdmC+ApQBctIjoIqyuzcZZnyEMhi4HjBwCEANfIjkTdYE\n",
       "KDsAJpiLFHQwQU5g0DFIQ9i8MIXcIPMY0QL0DgMDAOR2MjAvKGjTAAAAAElFTkSuQmCC\n",
       "\" style=\"display:inline;vertical-align:middle;\" /></a></td></tr>\n",
       "<tr><td>10</td><td>Literal</td><td></td><td><a class=\"ProveItLink\" href=\"../../../numeral/__pv_it/9176d93c83afa2c995b614976e3cb49207102fa70/expr.ipynb\"><img src=\"data:image/png;base64,iVBORw0KGgoAAAANSUhEUgAAAAoAAAAOBAMAAADkjZCYAAAAMFBMVEX///+YmJju7u4QEBBUVFQy\n",
       "MjIiIiKIiIi6urpmZmbc3NyqqqpERER2dnbMzMwAAAB0GlNiAAAAAXRSTlMAQObYZgAAAE1JREFU\n",
       "CNdjYHh79zQDA9cEhv4CBt7fDPwJDNxgEgiAIkAQAsR8Vx1ATIbiBhDJ/ImB6wEDz0cG/U8gkj+A\n",
       "ge0XA7sAQ/8FBoadM6MZAEflFACalZ/OAAAAAElFTkSuQmCC\n",
       "\" style=\"display:inline;vertical-align:middle;\" /></a></td></tr>\n",
       "<tr><td>11</td><td>Variable</td><td></td><td><a class=\"ProveItLink\" href=\"../../../../__pv_it/07527342713064c87612d00d8557c53d53d5324a0/expr.ipynb\"><img src=\"data:image/png;base64,iVBORw0KGgoAAAANSUhEUgAAAAsAAAAJBAMAAAAWSsseAAAAMFBMVEX///8yMjKqqqrMzMzu7u4i\n",
       "IiJmZmaYmJhEREQQEBC6urp2dnaIiIhUVFTc3NwAAAD87Fq/AAAAAXRSTlMAQObYZgAAAEhJREFU\n",
       "CNdjYOC7s2seAwPDygccHxgY+L4zsDUwMPB+YGA9wMDA38Dgb8DA8P4Agz6DA4O/AsNFJgMGxgKm\n",
       "MG6gyjunLE4xAAAZTBA5TB6DCwAAAABJRU5ErkJggg==\n",
       "\" style=\"display:inline;vertical-align:middle;\" /></a></td></tr>\n",
       "<tr><td>12</td><td>Literal</td><td></td><td><a class=\"ProveItLink\" href=\"../../../numeral/__pv_it/77d407a64829263cdc16415becd4c2293f77a4bf0/expr.ipynb\"><img src=\"data:image/png;base64,iVBORw0KGgoAAAANSUhEUgAAAAkAAAAOBAMAAAAPuiubAAAAMFBMVEX///+YmJh2dnbMzMwQEBAi\n",
       "IiLu7u6qqqqIiIhUVFS6urpEREQyMjJmZmbc3NwAAACOMKdoAAAAAXRSTlMAQObYZgAAAFBJREFU\n",
       "CNdj4Lt7egEDw0sGju8MDNMYGOIZGFwSGOYvYDifwHAfKAEUSQASzJ9ATJ4NIPI2iOCYACJrGfge\n",
       "MDBfYGB8wPBUSekqUPH//18ZAIliFhc3zESNAAAAAElFTkSuQmCC\n",
       "\" style=\"display:inline;vertical-align:middle;\" /></a></td></tr>\n",
       "<tr><td>13</td><td>Variable</td><td></td><td><a class=\"ProveItLink\" href=\"../../../../__pv_it/6840a4fa6c106149dc16a131294d0c5e44f1b0480/expr.ipynb\"><img src=\"data:image/png;base64,iVBORw0KGgoAAAANSUhEUgAAAAkAAAAOBAMAAAAPuiubAAAALVBMVEX///9mZmbMzMxERESYmJiI\n",
       "iIh2dna6urqqqqoyMjIiIiIQEBBUVFTu7u4AAAD9S1JeAAAAAXRSTlMAQObYZgAAAE1JREFUCNdj\n",
       "4D29gAEIOA+ASL4GEFl3AURmgQiGOaFHGBh4HzPwKTBwvGXgTmBgnMDAJ8DAJcBQ5wBSLncBJLWN\n",
       "gYGngRFoBO9REQYGAGrcDtUkVqASAAAAAElFTkSuQmCC\n",
       "\" style=\"display:inline;vertical-align:middle;\" /></a></td></tr>\n",
       "<tr><td>14</td><td>Variable</td><td></td><td><a class=\"ProveItLink\" href=\"../../../../__pv_it/cbdfda466482236edba0ce44ac7ef39cda0af7a40/expr.ipynb\"><img src=\"data:image/png;base64,iVBORw0KGgoAAAANSUhEUgAAAAkAAAAJBAMAAAASvxsjAAAALVBMVEX///9mZmbc3NxUVFSYmJhE\n",
       "REQiIiIyMjK6uroQEBDMzMyIiIh2dnbu7u4AAABgFDGoAAAAAXRSTlMAQObYZgAAADZJREFUCNdj\n",
       "YOA9s3sBA8PKBvYEBt7ZDKwODMwPGICALwBE6m0Asx0YGIDiAgw8QJUyu/cyAAAmuwmycZ8WfQAA\n",
       "AABJRU5ErkJggg==\n",
       "\" style=\"display:inline;vertical-align:middle;\" /></a></td></tr>\n",
       "</table>\n"
      ],
      "text/plain": [
       "0. (3 * a) + (2 * b) + (c + c)\n",
       "   core type: Operation\n",
       "   operator: 8\n",
       "   operands: 1\n",
       "1. (3 * a , 2 * b , c + c)\n",
       "   core type: ExprTuple\n",
       "   sub-expressions: 2, 3, 4\n",
       "2. 3 * a\n",
       "   core type: Operation\n",
       "   operator: 6\n",
       "   operands: 5\n",
       "3. 2 * b\n",
       "   core type: Operation\n",
       "   operator: 6\n",
       "   operands: 7\n",
       "4. c + c\n",
       "   core type: Operation\n",
       "   operator: 8\n",
       "   operands: 9\n",
       "5. (3 , a)\n",
       "   core type: ExprTuple\n",
       "   sub-expressions: 10, 11\n",
       "6. *\n",
       "   core type: Literal\n",
       "   sub-expressions: \n",
       "7. (2 , b)\n",
       "   core type: ExprTuple\n",
       "   sub-expressions: 12, 13\n",
       "8. +\n",
       "   core type: Literal\n",
       "   sub-expressions: \n",
       "9. (c , c)\n",
       "   core type: ExprTuple\n",
       "   sub-expressions: 14, 14\n",
       "10. 3\n",
       "    core type: Literal\n",
       "    sub-expressions: \n",
       "11. a\n",
       "    core type: Variable\n",
       "    sub-expressions: \n",
       "12. 2\n",
       "    core type: Literal\n",
       "    sub-expressions: \n",
       "13. b\n",
       "    core type: Variable\n",
       "    sub-expressions: \n",
       "14. c\n",
       "    core type: Variable\n",
       "    sub-expressions: "
      ]
     },
     "execution_count": 4,
     "metadata": {},
     "output_type": "execute_result"
    }
   ],
   "source": [
    "# display the expression information\n",
    "expr.exprInfo()"
   ]
  },
  {
   "cell_type": "code",
   "execution_count": null,
   "metadata": {},
   "outputs": [],
   "source": []
  }
 ],
 "metadata": {
  "kernelspec": {
   "display_name": "Python 3",
   "language": "python",
   "name": "python3"
  }
 },
 "nbformat": 4,
 "nbformat_minor": 0
}
