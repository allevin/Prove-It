{
 "cells": [
  {
   "cell_type": "markdown",
   "metadata": {},
   "source": [
    "Expression of type <a class=\"ProveItLink\" href=\"../../../../../../doc/html/api/proveit.ExprTuple.html\">ExprTuple</a>\n",
    "=======================\n",
    "# from context <a class=\"ProveItLink\" href=\"../../_context_.ipynb\">proveit.number.addition</a>"
   ]
  },
  {
   "cell_type": "code",
   "execution_count": 1,
   "metadata": {},
   "outputs": [],
   "source": [
    "# import Expression classes needed to build the expression\n",
    "from proveit import ExprTuple\n",
    "from proveit._common_ import a\n",
    "from proveit.number import Add, one"
   ]
  },
  {
   "cell_type": "code",
   "execution_count": 2,
   "metadata": {},
   "outputs": [
    {
     "data": {
      "text/html": [
       "<strong id=\"expr\">expr:</strong> <a class=\"ProveItLink\" href=\"expr.ipynb\"><img src=\"data:image/png;base64,iVBORw0KGgoAAAANSUhEUgAAALsAAAAVBAMAAADsqILHAAAAMFBMVEX////c3NwiIiJERESqqqqY\n",
       "mJh2dnZmZmYQEBDu7u4yMjJUVFTMzMyIiIi6uroAAAAs73DqAAAAAXRSTlMAQObYZgAAAZ5JREFU\n",
       "OMu1lT1Iw0AUx/+1adNYW7N30E0XoYuDg7Q4K2ZylG5OSkH8wMmCk4NWXAoODUIRz8XZIi04umRy\n",
       "0lqdiihE1EFR8a41hNjXxFJywx15+d0vL4/7AHxuccMv87zoLslXwXyP7glArvLxmHqppHrU77/z\n",
       "TgdijtooamsoVyz9novjlyYiB2WhnwMijjQl62O3VnjGRS8ZHSMxoS8AD/BPH0xjlQ+B86Wcl95m\n",
       "CDpx1VAJfTiLEh8aatD00ttMOx3PIUVlL+nY4em8QU566G2GoIc0LFP6+Ca+gaiJPsNDbzMEXQHG\n",
       "KP2AKfSDSRTFDpAZO9xm7NTWbzA2ytgJbIakX6B8/plv6bf4vxmYRd49e5tppwNfkEyFLs44UEzj\n",
       "TKq661uMAopWXhHVpwl9SMcC0K9JI2GP2reY4jBJlzCVzdAL814s5NpFzTlhbfdIc66cJlN4JunE\n",
       "zeNk3RGR1z9WeCZ1RFT3fejctXf/3bXNxg+FUMb98H9yPGkeV4UzstjpQO7UtG5gRReF62JCrKsz\n",
       "PyrqHvDtMrwGfgDK3bRQrfM1TwAAAABJRU5ErkJggg==\n",
       "\" style=\"display:inline;vertical-align:middle;\" /></a><br>"
      ],
      "text/plain": [
       "expr: (a + 1 + a , a + a + 1)"
      ]
     },
     "execution_count": 2,
     "metadata": {},
     "output_type": "execute_result"
    }
   ],
   "source": [
    "# build up the expression from sub-expressions\n",
    "expr = ExprTuple(Add(a, one, a), Add(a, a, one))"
   ]
  },
  {
   "cell_type": "code",
   "execution_count": 3,
   "metadata": {},
   "outputs": [
    {
     "name": "stdout",
     "output_type": "stream",
     "text": [
      "Passed sanity check: built 'expr' is the same as the stored Expression.\n"
     ]
    }
   ],
   "source": [
    "# check that the built expression is the same as the stored expression\n",
    "%check_expr"
   ]
  },
  {
   "cell_type": "code",
   "execution_count": 4,
   "metadata": {},
   "outputs": [
    {
     "data": {
      "text/html": [
       "<table><tr><th>&nbsp;</th><th>core type</th><th>sub-expressions</th><th>expression</th></tr>\n",
       "<tr><td>0</td><td>ExprTuple</td><td>1, 2</td><td><a class=\"ProveItLink\" href=\"expr.ipynb\"><img src=\"data:image/png;base64,iVBORw0KGgoAAAANSUhEUgAAALsAAAAVBAMAAADsqILHAAAAMFBMVEX////c3NwiIiJERESqqqqY\n",
       "mJh2dnZmZmYQEBDu7u4yMjJUVFTMzMyIiIi6uroAAAAs73DqAAAAAXRSTlMAQObYZgAAAZ5JREFU\n",
       "OMu1lT1Iw0AUx/+1adNYW7N30E0XoYuDg7Q4K2ZylG5OSkH8wMmCk4NWXAoODUIRz8XZIi04umRy\n",
       "0lqdiihE1EFR8a41hNjXxFJywx15+d0vL4/7AHxuccMv87zoLslXwXyP7glArvLxmHqppHrU77/z\n",
       "TgdijtooamsoVyz9novjlyYiB2WhnwMijjQl62O3VnjGRS8ZHSMxoS8AD/BPH0xjlQ+B86Wcl95m\n",
       "CDpx1VAJfTiLEh8aatD00ttMOx3PIUVlL+nY4em8QU566G2GoIc0LFP6+Ca+gaiJPsNDbzMEXQHG\n",
       "KP2AKfSDSRTFDpAZO9xm7NTWbzA2ytgJbIakX6B8/plv6bf4vxmYRd49e5tppwNfkEyFLs44UEzj\n",
       "TKq661uMAopWXhHVpwl9SMcC0K9JI2GP2reY4jBJlzCVzdAL814s5NpFzTlhbfdIc66cJlN4JunE\n",
       "zeNk3RGR1z9WeCZ1RFT3fejctXf/3bXNxg+FUMb98H9yPGkeV4UzstjpQO7UtG5gRReF62JCrKsz\n",
       "PyrqHvDtMrwGfgDK3bRQrfM1TwAAAABJRU5ErkJggg==\n",
       "\" style=\"display:inline;vertical-align:middle;\" /></a></td></tr>\n",
       "<tr><td>1</td><td>Operation</td><td>operator:&nbsp;4<br>operands:&nbsp;3<br></td><td><a class=\"ProveItLink\" href=\"../a6bfab0184661b72440729a39caf8d5ccfe1f31e0/expr.ipynb\"><img src=\"data:image/png;base64,iVBORw0KGgoAAAANSUhEUgAAAFMAAAAQBAMAAACYUF7xAAAAMFBMVEX///8yMjKqqqrMzMzu7u4i\n",
       "IiJmZmaYmJhEREQQEBC6urp2dnaIiIhUVFTc3NwAAAD87Fq/AAAAAXRSTlMAQObYZgAAAJpJREFU\n",
       "KM9jYMAGWhiIBR5fCKlgeQChfe9+QRPBAEwHoAyeL+giJCvlu7NrHiGlUDUrH3B8IKQUoobvOwNb\n",
       "AwGlUDW8HxhYDxBQClXD38DgbwDksgkKik4UFLyAUIoQgap5f4BBn8EBv6lQNf4KDBeZDPArhaph\n",
       "LGAK4ybgVqgavjunLE6hKmXL/JiOGgIINTijEWfEch3AKwIAeutHnuyju9MAAAAASUVORK5CYII=\n",
       "\" style=\"display:inline;vertical-align:middle;\" /></a></td></tr>\n",
       "<tr><td>2</td><td>Operation</td><td>operator:&nbsp;4<br>operands:&nbsp;5<br></td><td><a class=\"ProveItLink\" href=\"../ed9996645c57692172e78965756493234383cb7e0/expr.ipynb\"><img src=\"data:image/png;base64,iVBORw0KGgoAAAANSUhEUgAAAFIAAAAQBAMAAAB3kjXPAAAAMFBMVEX///8yMjKqqqrMzMzu7u4i\n",
       "IiJmZmaYmJhEREQQEBC6urp2dnaIiIhUVFTc3NwAAAD87Fq/AAAAAXRSTlMAQObYZgAAAMFJREFU\n",
       "KM9jYCAOtBCpjsHjCwqX5QG6ApiI711UlUwH0FXCRXhIU8l3Z9c8NPG3p1c+wKJy5QOOD6gqueYx\n",
       "9GMxk+87A1sDqvj7AoYMLCp5PzCwHkAVv8/AEINFJX8Dg78BkM0mKCg6UVDwApD5g4HlM6oIWOX7\n",
       "Awz6DA7IJvD9YWD6wIJppr8Cw0UmA2Rxlk8MvALKmCoZC5jCuFFdJc6gmrABi9/vnLI4hary7ZnF\n",
       "PQtQRNgyP6YTGUdogOsAPhEA9WpI2Z2AetcAAAAASUVORK5CYII=\n",
       "\" style=\"display:inline;vertical-align:middle;\" /></a></td></tr>\n",
       "<tr><td>3</td><td>ExprTuple</td><td>6, 7, 6</td><td><a class=\"ProveItLink\" href=\"../f8dad92189ede12f024a4657cb637d1f1888168f0/expr.ipynb\"><img src=\"data:image/png;base64,iVBORw0KGgoAAAANSUhEUgAAAD8AAAAVBAMAAAADRiu8AAAAMFBMVEX////c3NwiIiJERESqqqqY\n",
       "mJh2dnZmZmYQEBDu7u4yMjJUVFTMzMyIiIi6uroAAAAs73DqAAAAAXRSTlMAQObYZgAAAQRJREFU\n",
       "KM9jYCAI+C7glosDEadRxSyROewHgMRKFPnJP1G4CxgYeFFsmL0bVUEYAwPHBBQRXlQFMxgYXjHg\n",
       "U8DswFAGpBj35jWiK4CIsRUwLAVyXggwf0BXABFjWcDQB1T8lYHdAE0BVIyvgeEfAwP3BwamC2gK\n",
       "oGI8H0AK+A0Y5h9AUwAVAypoYWCQv8DgzzABVQFUDGiFKQPDfAeGXSwHOOEKQCyIGAPrAoZ0Bgau\n",
       "ABZ1Nob5CjAFIBZEDOTNRyAv3zt8j2HGR1DsVPwqBbMgYgxcDxg4BGCh9pABkwUMatYEGCeAAZOV\n",
       "ixzdWBRwAqObQRoWAogIg7O4QfYz4klydxgYAOH3UHvrZQBnAAAAAElFTkSuQmCC\n",
       "\" style=\"display:inline;vertical-align:middle;\" /></a></td></tr>\n",
       "<tr><td>4</td><td>Literal</td><td></td><td><a class=\"ProveItLink\" href=\"../3e6688136fa3c7aefbebe51301b7c3ebf0b69c440/expr.ipynb\"><img src=\"data:image/png;base64,iVBORw0KGgoAAAANSUhEUgAAAA4AAAAOBAMAAADtZjDiAAAAJFBMVEX///+6urpUVFQQEBAiIiIy\n",
       "MjJmZmaIiIiqqqrc3Nzu7u4AAACgHpL+AAAAAXRSTlMAQObYZgAAAB5JREFUCNdjYGBgWMkAAe2k\n",
       "0Kmhoc6hoUGk6BMHYgAHOwjcado9fwAAAABJRU5ErkJggg==\n",
       "\" style=\"display:inline;vertical-align:middle;\" /></a></td></tr>\n",
       "<tr><td>5</td><td>ExprTuple</td><td>6, 6, 7</td><td><a class=\"ProveItLink\" href=\"../d753829bb10010ab2e64fc7712911503f0083e630/expr.ipynb\"><img src=\"data:image/png;base64,iVBORw0KGgoAAAANSUhEUgAAAD8AAAAVBAMAAAADRiu8AAAAMFBMVEX////c3NwiIiJERESqqqqY\n",
       "mJh2dnZmZmYQEBDu7u4yMjJUVFTMzMyIiIi6uroAAAAs73DqAAAAAXRSTlMAQObYZgAAASpJREFU\n",
       "KM9jYCAI+C7glosDEadxyVoyMLAfANIrcchP/gkkFjAw8OKwYfZukIIwBgaOCThM4AUpmMHA8IoB\n",
       "nwJmB4YyIMW4N68RKix97YUAkgK2AoalQOqFAPMHqJ8bGeyRTWBZwNAHNOArA7sBRFQ+gKEYWQFf\n",
       "A8M/BgbuDwxMUL/sZ2DQRVbA8wGkgN+AYf4BiOhnBs4/aApagOZeYPBnAPuW8S8DywdOVCtMGRjm\n",
       "OzDsYjkAEuf8wsC9wAeiGKyAdQFDOgMDVwCLOhvDfAWgwFIGp4IEzk/I3nwECoZ7h+8xzPgICoa7\n",
       "b2wfcPYDg4K94lcpUO8DBg4BWNA9RKQAuBgwqFkTYJwAuAJWOCsXObqxKOBcALIW5m9EPMFTADfI\n",
       "LkY8Se4OAwMAdiVOyLZj8rYAAAAASUVORK5CYII=\n",
       "\" style=\"display:inline;vertical-align:middle;\" /></a></td></tr>\n",
       "<tr><td>6</td><td>Variable</td><td></td><td><a class=\"ProveItLink\" href=\"../../../../__pv_it/07527342713064c87612d00d8557c53d53d5324a0/expr.ipynb\"><img src=\"data:image/png;base64,iVBORw0KGgoAAAANSUhEUgAAAAsAAAAJBAMAAAAWSsseAAAAMFBMVEX///8yMjKqqqrMzMzu7u4i\n",
       "IiJmZmaYmJhEREQQEBC6urp2dnaIiIhUVFTc3NwAAAD87Fq/AAAAAXRSTlMAQObYZgAAAEhJREFU\n",
       "CNdjYOC7s2seAwPDygccHxgY+L4zsDUwMPB+YGA9wMDA38Dgb8DA8P4Agz6DA4O/AsNFJgMGxgKm\n",
       "MG6gyjunLE4xAAAZTBA5TB6DCwAAAABJRU5ErkJggg==\n",
       "\" style=\"display:inline;vertical-align:middle;\" /></a></td></tr>\n",
       "<tr><td>7</td><td>Literal</td><td></td><td><a class=\"ProveItLink\" href=\"../../../numeral/__pv_it/9be8badea4c35b9724062cecc501d17a3158d1d20/expr.ipynb\"><img src=\"data:image/png;base64,iVBORw0KGgoAAAANSUhEUgAAAAgAAAAPBAMAAAArJJMAAAAAHlBMVEX///+YmJgyMjIQEBBmZmaI\n",
       "iIhUVFTu7u5EREQAAAAw+MI4AAAAAXRSTlMAQObYZgAAACFJREFUCNdjYGBoZ2BgqJjOwFCWBiQY\n",
       "WEklWJwnOTKAAACjEQo8HvEr3AAAAABJRU5ErkJggg==\n",
       "\" style=\"display:inline;vertical-align:middle;\" /></a></td></tr>\n",
       "</table>\n"
      ],
      "text/plain": [
       "0. (a + 1 + a , a + a + 1)\n",
       "   core type: ExprTuple\n",
       "   sub-expressions: 1, 2\n",
       "1. a + 1 + a\n",
       "   core type: Operation\n",
       "   operator: 4\n",
       "   operands: 3\n",
       "2. a + a + 1\n",
       "   core type: Operation\n",
       "   operator: 4\n",
       "   operands: 5\n",
       "3. (a , 1 , a)\n",
       "   core type: ExprTuple\n",
       "   sub-expressions: 6, 7, 6\n",
       "4. +\n",
       "   core type: Literal\n",
       "   sub-expressions: \n",
       "5. (a , a , 1)\n",
       "   core type: ExprTuple\n",
       "   sub-expressions: 6, 6, 7\n",
       "6. a\n",
       "   core type: Variable\n",
       "   sub-expressions: \n",
       "7. 1\n",
       "   core type: Literal\n",
       "   sub-expressions: "
      ]
     },
     "execution_count": 4,
     "metadata": {},
     "output_type": "execute_result"
    }
   ],
   "source": [
    "# display the expression information\n",
    "expr.exprInfo()"
   ]
  },
  {
   "cell_type": "code",
   "execution_count": null,
   "metadata": {},
   "outputs": [],
   "source": []
  }
 ],
 "metadata": {
  "kernelspec": {
   "display_name": "Python 3",
   "language": "python",
   "name": "python3"
  }
 },
 "nbformat": 4,
 "nbformat_minor": 0
}
