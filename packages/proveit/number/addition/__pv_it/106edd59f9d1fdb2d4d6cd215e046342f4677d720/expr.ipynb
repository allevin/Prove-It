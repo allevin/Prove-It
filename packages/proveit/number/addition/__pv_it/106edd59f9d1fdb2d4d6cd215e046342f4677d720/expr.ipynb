{
 "cells": [
  {
   "cell_type": "markdown",
   "metadata": {},
   "source": [
    "Expression of type <a class=\"ProveItLink\" href=\"../../../../../../doc/html/api/proveit.ExprTuple.html\">ExprTuple</a>\n",
    "=======================\n",
    "# from context <a class=\"ProveItLink\" href=\"../../_context_.ipynb\">proveit.number.addition</a>"
   ]
  },
  {
   "cell_type": "code",
   "execution_count": 1,
   "metadata": {},
   "outputs": [],
   "source": [
    "# import Expression classes needed to build the expression\n",
    "from proveit import ExprTuple\n",
    "from proveit._common_ import a, b\n",
    "from proveit.number import Add"
   ]
  },
  {
   "cell_type": "code",
   "execution_count": 2,
   "metadata": {},
   "outputs": [
    {
     "data": {
      "text/html": [
       "<strong id=\"expr\">expr:</strong> <a class=\"ProveItLink\" href=\"expr.ipynb\"><img src=\"data:image/png;base64,iVBORw0KGgoAAAANSUhEUgAAAP8AAAAVBAMAAAB7+SUdAAAAMFBMVEX////c3NwiIiJERESqqqqY\n",
       "mJh2dnZmZmYQEBDu7u4yMjJUVFTMzMyIiIi6uroAAAAs73DqAAAAAXRSTlMAQObYZgAAAfpJREFU\n",
       "SMfFlj1IAmEcxh/19DzNj92htloCl8ZImotuagxxaSqEqKGlhGhoCNvcPAKHzqUliEASGlucmlKs\n",
       "SaLQsIagovc+3nvvPUneQdHBj99zz/P/3/vlARN/xRuTq71hvN2PI1m5nhEBcp18uxjLvUUuhYAG\n",
       "xLgZUJID9yJAcDZAEhmP5ABqN8E6EC66fdLAghAhWB0g3aJHcgC1m6AEvGAsDeS8Us5rN0Eggz3y\n",
       "4attFzzhqYdOUpg4VVhQtXnFSw6gdhOE8qiQ751koMer8QKWxIlTxQlS+kjU3RIDtt0CkoZT0vcn\n",
       "5DQfPq1iR5zQKixI+kI465YYsO0WiB/iF4j24G/w4bfAvDihVViQrCGRd0sMSO4rpnpGA4k0ysbw\n",
       "yLp+fqLrxv7sQ/kWJNjX9Tldr4IFAf48uqpbsgGzW4A0cETGsoE1FN3t+X4g9RRhQm+TBZFNflB0\n",
       "SwzYdguQKVgAyhncSPwK+UBUWxEmtIoVZDRF1tcxJzFAGzBBUMMmORRVaTbEz28Fy/msMKFVrKAy\n",
       "OeSjGfmSXx4OsO0WINvw2di9rbsW30Cq+brYFibOLjCDSu9keGq7/PpkgA6gCSJthJMjPwmfhh6S\n",
       "nJ0cxcHs8IcDEYI37pf6v+S1b43l71gVf2zQjKkcdf2Y+KVRY/59E3wkewT+AJOU6MO2le4WAAAA\n",
       "AElFTkSuQmCC\n",
       "\" style=\"display:inline;vertical-align:middle;\" /></a><br>"
      ],
      "text/plain": [
       "expr: (a + a + a + a + a , b + b + b)"
      ]
     },
     "execution_count": 2,
     "metadata": {},
     "output_type": "execute_result"
    }
   ],
   "source": [
    "# build up the expression from sub-expressions\n",
    "expr = ExprTuple(Add(a, a, a, a, a), Add(b, b, b))"
   ]
  },
  {
   "cell_type": "code",
   "execution_count": 3,
   "metadata": {},
   "outputs": [
    {
     "name": "stdout",
     "output_type": "stream",
     "text": [
      "Passed sanity check: built 'expr' is the same as the stored Expression.\n"
     ]
    }
   ],
   "source": [
    "# check that the built expression is the same as the stored expression\n",
    "%check_expr"
   ]
  },
  {
   "cell_type": "code",
   "execution_count": 4,
   "metadata": {},
   "outputs": [
    {
     "data": {
      "text/html": [
       "<table><tr><th>&nbsp;</th><th>core type</th><th>sub-expressions</th><th>expression</th></tr>\n",
       "<tr><td>0</td><td>ExprTuple</td><td>1, 2</td><td><a class=\"ProveItLink\" href=\"expr.ipynb\"><img src=\"data:image/png;base64,iVBORw0KGgoAAAANSUhEUgAAAP8AAAAVBAMAAAB7+SUdAAAAMFBMVEX////c3NwiIiJERESqqqqY\n",
       "mJh2dnZmZmYQEBDu7u4yMjJUVFTMzMyIiIi6uroAAAAs73DqAAAAAXRSTlMAQObYZgAAAfpJREFU\n",
       "SMfFlj1IAmEcxh/19DzNj92htloCl8ZImotuagxxaSqEqKGlhGhoCNvcPAKHzqUliEASGlucmlKs\n",
       "SaLQsIagovc+3nvvPUneQdHBj99zz/P/3/vlARN/xRuTq71hvN2PI1m5nhEBcp18uxjLvUUuhYAG\n",
       "xLgZUJID9yJAcDZAEhmP5ABqN8E6EC66fdLAghAhWB0g3aJHcgC1m6AEvGAsDeS8Us5rN0Eggz3y\n",
       "4attFzzhqYdOUpg4VVhQtXnFSw6gdhOE8qiQ751koMer8QKWxIlTxQlS+kjU3RIDtt0CkoZT0vcn\n",
       "5DQfPq1iR5zQKixI+kI465YYsO0WiB/iF4j24G/w4bfAvDihVViQrCGRd0sMSO4rpnpGA4k0ysbw\n",
       "yLp+fqLrxv7sQ/kWJNjX9Tldr4IFAf48uqpbsgGzW4A0cETGsoE1FN3t+X4g9RRhQm+TBZFNflB0\n",
       "SwzYdguQKVgAyhncSPwK+UBUWxEmtIoVZDRF1tcxJzFAGzBBUMMmORRVaTbEz28Fy/msMKFVrKAy\n",
       "OeSjGfmSXx4OsO0WINvw2di9rbsW30Cq+brYFibOLjCDSu9keGq7/PpkgA6gCSJthJMjPwmfhh6S\n",
       "nJ0cxcHs8IcDEYI37pf6v+S1b43l71gVf2zQjKkcdf2Y+KVRY/59E3wkewT+AJOU6MO2le4WAAAA\n",
       "AElFTkSuQmCC\n",
       "\" style=\"display:inline;vertical-align:middle;\" /></a></td></tr>\n",
       "<tr><td>1</td><td>Operation</td><td>operator:&nbsp;4<br>operands:&nbsp;3<br></td><td><a class=\"ProveItLink\" href=\"../9229b91a5a32f43646dbad418ecba6f0710bb2640/expr.ipynb\"><img src=\"data:image/png;base64,iVBORw0KGgoAAAANSUhEUgAAAJwAAAAOBAMAAAAoOGg2AAAAMFBMVEX///8yMjKqqqrMzMzu7u4i\n",
       "IiJmZmaYmJhEREQQEBC6urp2dnaIiIhUVFTc3NwAAAD87Fq/AAAAAXRSTlMAQObYZgAAAONJREFU\n",
       "OMtjYEAAPwZ0gCnC8oCwCBToECHCdICwCDWN47uzax6qZnwicM1vT698gE1k5QOOD6ia8YnANHPN\n",
       "Y+jHJsL3nYGtAUUzXhGY5vcFDBnYRHg/MLAeQNGMVwSm+T4DQww2Ef4GBn8DIC9RUDBSUFCWAZ8I\n",
       "m6Cg6ERBwQtA5g8Gls/YRN4fYNBncEB2C14RqFv4/jAwfWDBIuKvwHCRyQBZM14RqGaWTwy8AspY\n",
       "RBgLmMK4UUIKrwgspMQZVBM2YBHhu3PK4hRqPOITgWl+e2ZxzwIcIrTJZGuIEOE6gFcEANifcwk6\n",
       "B+xgAAAAAElFTkSuQmCC\n",
       "\" style=\"display:inline;vertical-align:middle;\" /></a></td></tr>\n",
       "<tr><td>2</td><td>Operation</td><td>operator:&nbsp;4<br>operands:&nbsp;5<br></td><td><a class=\"ProveItLink\" href=\"../336a4b1a600d4796004751577b8948b03b87d7190/expr.ipynb\"><img src=\"data:image/png;base64,iVBORw0KGgoAAAANSUhEUgAAAE4AAAAQBAMAAABKAFSpAAAAMFBMVEX////c3NxmZmbMzMxERESY\n",
       "mJiIiIh2dna6urqqqqoyMjIiIiIQEBBUVFTu7u4AAAAiO1wTAAAAAXRSTlMAQObYZgAAAO1JREFU\n",
       "KM9lkTsKwkAQhn/SGKMmHsHGRhA9gkfIEcTCTrC3t42VrdYrgljbC9rYKAgW8QAi+CjSBDO6k324\n",
       "xczux8cy+y/8ywrG+gO47al6Bwv/ASypBBN5usqeA78qNwmVKJanqew5KHZ/3U2pjmB5OWCv8B14\n",
       "2T+aXg7Y806DEP4LQVv3FGDv3sETxRTloe4pwN4sxhbOHEFN9xRgrwE8UKohCrO9EBshKCgJHCEW\n",
       "OyEoyzXcN6XVivX7FOD7Ejgpzbw13qsAe08auDJxDoanAHtnNLMYTnUzZwXYu/VC/ben9vezZ62x\n",
       "DVzN+wB3W0tlHU5/FgAAAABJRU5ErkJggg==\n",
       "\" style=\"display:inline;vertical-align:middle;\" /></a></td></tr>\n",
       "<tr><td>3</td><td>ExprTuple</td><td>6, 6, 6, 6, 6</td><td><a class=\"ProveItLink\" href=\"../bd8b0c96bb43208ba58e7ac98902471d1fa576b90/expr.ipynb\"><img src=\"data:image/png;base64,iVBORw0KGgoAAAANSUhEUgAAAGgAAAAVBAMAAABYjraNAAAAMFBMVEX////c3NwiIiJERESqqqqY\n",
       "mJh2dnZmZmYQEBDu7u4yMjJUVFTMzMyIiIi6uroAAAAs73DqAAAAAXRSTlMAQObYZgAAARpJREFU\n",
       "OMtjYCAL8F0gTT3rAyBxmlRbaoB4JamauBgYeC+Qqok1gYFjAqmaOBsYXpEedCYMZUCScW9eI4SP\n",
       "n8Ugfe2FAANDOsNSIPuFAPMHiCh+Fl8jgz2Q8mLoAxr1lYHdAGIoXhaDfABDMcgUhn8MDNwfGJgg\n",
       "YYifxbCfgUEXSJ0HaeI3YJh/ACyKn8XwmYHzD1hTC9DWCwz+DOCQx89i/MvA8oET5DxTBob5Dgy7\n",
       "WA4AeQRYnF8YuBf4MDBEAcOPgSuARZ2NYb4CIRYwpJ0KEkBB/ggUEfcO32OY8ZEQi0H67htbYBpf\n",
       "x8AhAIvohwzEsYDJCJj8oCCAgTgW2wWkrEGsplkgh0LZvHBR/CyGjaDQJzFD8R5gAACT23cpa4ld\n",
       "/QAAAABJRU5ErkJggg==\n",
       "\" style=\"display:inline;vertical-align:middle;\" /></a></td></tr>\n",
       "<tr><td>4</td><td>Literal</td><td></td><td><a class=\"ProveItLink\" href=\"../3e6688136fa3c7aefbebe51301b7c3ebf0b69c440/expr.ipynb\"><img src=\"data:image/png;base64,iVBORw0KGgoAAAANSUhEUgAAAA4AAAAOBAMAAADtZjDiAAAAJFBMVEX///+6urpUVFQQEBAiIiIy\n",
       "MjJmZmaIiIiqqqrc3Nzu7u4AAACgHpL+AAAAAXRSTlMAQObYZgAAAB5JREFUCNdjYGBgWMkAAe2k\n",
       "0Kmhoc6hoUGk6BMHYgAHOwjcado9fwAAAABJRU5ErkJggg==\n",
       "\" style=\"display:inline;vertical-align:middle;\" /></a></td></tr>\n",
       "<tr><td>5</td><td>ExprTuple</td><td>7, 7, 7</td><td><a class=\"ProveItLink\" href=\"../c21a0a21f22a50fe9404b3289ace12ef9be60db90/expr.ipynb\"><img src=\"data:image/png;base64,iVBORw0KGgoAAAANSUhEUgAAADkAAAAVBAMAAAAOWFv7AAAAMFBMVEX////c3NwiIiJERESqqqqY\n",
       "mJh2dnZmZmYQEBDu7u4yMjJUVFTMzMyIiIi6uroAAAAs73DqAAAAAXRSTlMAQObYZgAAAPlJREFU\n",
       "KM9jYMAP+C7gkIgDEacZOHcoQPioDPYDQNZKBgauDVDlqIwFDAy8QIP5HaCCqIwwBgaOCQwM7ydA\n",
       "BVEZMxgYXgGpJJhDUBnMDgxlQGr13a0QQVQGWwHDUqALPzPwHwA7FZXBsoChj4GB5ScDRwJIEI3B\n",
       "18DwD+ixBQz8BSBBNAbPB5AsUwHD+wCQIBoDKNsC9lz9BKgvkRlAk00ZQA5oY+BkQGcwsC5gSGdg\n",
       "4HZg38AwXwGdAfLRI6D795YCA+YjOoOB6wEDhwA0eB4yoDOAIcmaAGUHMKAzciExiF2WExiDDNIQ\n",
       "Ni9MEs7gBtnJiCvl3GFgAACyJ1L0n4kkiAAAAABJRU5ErkJggg==\n",
       "\" style=\"display:inline;vertical-align:middle;\" /></a></td></tr>\n",
       "<tr><td>6</td><td>Variable</td><td></td><td><a class=\"ProveItLink\" href=\"../../../../__pv_it/07527342713064c87612d00d8557c53d53d5324a0/expr.ipynb\"><img src=\"data:image/png;base64,iVBORw0KGgoAAAANSUhEUgAAAAsAAAAJBAMAAAAWSsseAAAAMFBMVEX///8yMjKqqqrMzMzu7u4i\n",
       "IiJmZmaYmJhEREQQEBC6urp2dnaIiIhUVFTc3NwAAAD87Fq/AAAAAXRSTlMAQObYZgAAAEhJREFU\n",
       "CNdjYOC7s2seAwPDygccHxgY+L4zsDUwMPB+YGA9wMDA38Dgb8DA8P4Agz6DA4O/AsNFJgMGxgKm\n",
       "MG6gyjunLE4xAAAZTBA5TB6DCwAAAABJRU5ErkJggg==\n",
       "\" style=\"display:inline;vertical-align:middle;\" /></a></td></tr>\n",
       "<tr><td>7</td><td>Variable</td><td></td><td><a class=\"ProveItLink\" href=\"../../../../__pv_it/6840a4fa6c106149dc16a131294d0c5e44f1b0480/expr.ipynb\"><img src=\"data:image/png;base64,iVBORw0KGgoAAAANSUhEUgAAAAkAAAAOBAMAAAAPuiubAAAALVBMVEX///9mZmbMzMxERESYmJiI\n",
       "iIh2dna6urqqqqoyMjIiIiIQEBBUVFTu7u4AAAD9S1JeAAAAAXRSTlMAQObYZgAAAE1JREFUCNdj\n",
       "4D29gAEIOA+ASL4GEFl3AURmgQiGOaFHGBh4HzPwKTBwvGXgTmBgnMDAJ8DAJcBQ5wBSLncBJLWN\n",
       "gYGngRFoBO9REQYGAGrcDtUkVqASAAAAAElFTkSuQmCC\n",
       "\" style=\"display:inline;vertical-align:middle;\" /></a></td></tr>\n",
       "</table>\n"
      ],
      "text/plain": [
       "0. (a + a + a + a + a , b + b + b)\n",
       "   core type: ExprTuple\n",
       "   sub-expressions: 1, 2\n",
       "1. a + a + a + a + a\n",
       "   core type: Operation\n",
       "   operator: 4\n",
       "   operands: 3\n",
       "2. b + b + b\n",
       "   core type: Operation\n",
       "   operator: 4\n",
       "   operands: 5\n",
       "3. (a , a , a , a , a)\n",
       "   core type: ExprTuple\n",
       "   sub-expressions: 6, 6, 6, 6, 6\n",
       "4. +\n",
       "   core type: Literal\n",
       "   sub-expressions: \n",
       "5. (b , b , b)\n",
       "   core type: ExprTuple\n",
       "   sub-expressions: 7, 7, 7\n",
       "6. a\n",
       "   core type: Variable\n",
       "   sub-expressions: \n",
       "7. b\n",
       "   core type: Variable\n",
       "   sub-expressions: "
      ]
     },
     "execution_count": 4,
     "metadata": {},
     "output_type": "execute_result"
    }
   ],
   "source": [
    "# display the expression information\n",
    "expr.exprInfo()"
   ]
  },
  {
   "cell_type": "code",
   "execution_count": null,
   "metadata": {},
   "outputs": [],
   "source": []
  }
 ],
 "metadata": {
  "kernelspec": {
   "display_name": "Python 3",
   "language": "python",
   "name": "python3"
  }
 },
 "nbformat": 4,
 "nbformat_minor": 0
}
