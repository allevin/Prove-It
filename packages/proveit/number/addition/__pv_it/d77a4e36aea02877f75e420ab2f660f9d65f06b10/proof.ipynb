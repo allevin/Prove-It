{
 "cells": [
  {
   "cell_type": "markdown",
   "metadata": {},
   "source": [
    "Show the Proof\n",
    "========"
   ]
  },
  {
   "cell_type": "code",
   "execution_count": 1,
   "metadata": {},
   "outputs": [
    {
     "data": {
      "text/html": [
       "<table><tr><th>&nbsp;</th><th>step type</th><th>requirements</th><th>statement</th></tr>\n",
       "<tr><td>0</td><td>specialization</td><td>1, 2</td><td><span style=\"font-size:20px;\"> <a class=\"ProveItLink\" href=\"proof.ipynb\" style=\"text-decoration: none\">&#x22A2;&nbsp;</a><a class=\"ProveItLink\" href=\"../e25dc1b6d1af1bfb377b0bd4a6c7401ecccffb610/expr.ipynb\"><img src=\"data:image/png;base64,iVBORw0KGgoAAAANSUhEUgAAAMcAAAAVBAMAAAAA3efRAAAAMFBMVEX////c3NwiIiJERESqqqqY\n",
       "mJh2dnZmZmYQEBDu7u4yMjJUVFTMzMyIiIi6uroAAAAs73DqAAAAAXRSTlMAQObYZgAAAhZJREFU\n",
       "SMe9lTtIA0EQhifmccmZh9iKIIJiaaGCnZ0gCKksLMTKgCCk8IVYRLCxEcVGtEgKLTxFYmUhyFU2\n",
       "Fqa0UBArESQRYnGC4uzsceF2Z8XKgckkX/7d//Z2bw7gXyJbk8lG/ImjMwx7M81P4luZN3NDyr9E\n",
       "1rVBowCWq9F0FSBVmHMN4hPKSBHq4eVIYquz7Xn4UdFM7B2ATre9hxdnapSJJuR8xa4sksRnIUQP\n",
       "r8S4Kc3kEbMf7AovTu5Qxlomk7JIkipBiEJGjNvXTLZw/7zglyp+BZkQ3K7JQCvIEDcuOqaeHlyC\n",
       "XeJNULyMZZnIKagmghS4cYmiYmLhXc2dPS4axMdYRKbnq4pCkgluXIzuveVQCJWdByj3QVueF29j\n",
       "2SZy/6SuRJAXziRbUlaSRGW5AQmPF39j+ZZCTzUR5I4zSTcUk5wwwbPY5MW+ScSF6Ad+XXOcAccR\n",
       "m+ETMmnRX0xyFYh/8eJNLJhlT5q0LsMnv9wuq5diUKwZj1vUsBIUD2MZpstoew8pfDLNmcTVRz6K\n",
       "Ox4z7AmKC/KYZvJQnw0pfPK3I0xgBPbzvPgZi8jxlSNlOknOw9Ra/VzCE6s256zoFtbltUGc7ABK\n",
       "0B5XCq2tUOhtZQOMU6BYdMCgC+pvhkSNowuayZT55bIQtHpTHHAwxbd6Pkjc5ScfFxxs79BQpGqa\n",
       "gcSRmkw2Mi5HHxjWbTJB8Q9HxMXIXZFriQAAAABJRU5ErkJggg==\n",
       "\" style=\"display:inline;vertical-align:middle;\" /></a></span></td></tr>\n",
       "<tr><td>&nbsp;</td><td colspan=4 style=\"text-align:left\"><span style=\"font-size:20px;\"><a class=\"ProveItLink\" href=\"../25f6941e01c3f1a53c460cab763c2f3bbf4f84e30/expr.ipynb\"><img src=\"data:image/png;base64,iVBORw0KGgoAAAANSUhEUgAAAEUAAAAVBAMAAADiLT7tAAAAMFBMVEX///8yMjLMzMwQEBAiIiJm\n",
       "Zma6urqYmJiqqqp2dnZERETc3NyIiIhUVFTu7u4AAAAe+HC4AAAAAXRSTlMAQObYZgAAAQVJREFU\n",
       "KM9jYCAJ5GAVLYNQb89uAJJMF7CqYVUAUyv7C4Ak4wPsxguACL5vL0DUGRxOqAQRHB/AbDscah6D\n",
       "bXQAkWwCONRwNTAwsF/2DQCpnAAX5Z5zuycGzuMEyfIfADEZC+CiLxlKCkzgPA6QBfvBvmNOgItO\n",
       "YDjP0ATnsRkAiX4wkx+h5gHDLST3MIG8NAVdDQODDbqatWAmcwNCmPsTAx+qXRBNXAg3V/N8YDgH\n",
       "57ELgIIZ4UWIR75zGXAfQPE72z+IkcCQ7FoFBA/41sybeRzGAQYK0KE80AC2xh0XtTCHVOJQM4eB\n",
       "wfAJlI0jbfABramMhnkYexrj3YDM24NVzSEGBgDorz1wDkvJZwAAAABJRU5ErkJggg==\n",
       "\" style=\"display:inline;vertical-align:middle;\" /></a> : <a class=\"ProveItLink\" href=\"../e33ff6a75cb2898c8008a6e81c0b57b4e58a78440/expr.ipynb\"><img src=\"data:image/png;base64,iVBORw0KGgoAAAANSUhEUgAAAEkAAAAQBAMAAACo3E/QAAAAMFBMVEX///+6uroyMjLMzMwQEBAi\n",
       "IiKYmJhmZmZUVFSIiIh2dnbc3Nzu7u5ERESqqqoAAABZrPngAAAAAXRSTlMAQObYZgAAAHxJREFU\n",
       "KM9jYCAIeA8QVsPAcx+fqtNQRR39+FS9hDHmk6qKe2X3y0qCqk4xpCa4ElS1gGE+w2OCqg4w9BLl\n",
       "ek9kJUVKSiFKShoYqrg/M/AQNCub8wPDHEKq+L7xOnBPwK3q7V0gOMBzc82qaTAOqqpyf/UEIsIe\n",
       "L5BEYgMA9Gw58tGyq1wAAAAASUVORK5CYII=\n",
       "\" style=\"display:inline;vertical-align:middle;\" /></a>, <a class=\"ProveItLink\" href=\"../../../../__pv_it/530be409e3083890784cf1d7b28c9e67e90af9360/expr.ipynb\"><img src=\"data:image/png;base64,iVBORw0KGgoAAAANSUhEUgAAAAsAAAAJBAMAAAAWSsseAAAAKlBMVEX///9ERETMzMwQEBAiIiKY\n",
       "mJju7u5mZmaqqqpUVFSIiIh2dnbc3NwAAAA/vyDhAAAAAXRSTlMAQObYZgAAAENJREFUCNdjYDi9\n",
       "8sTyBQxsG1hdmR0YuBm4LnAoMLAxcAowgADzAjB1VoEhgYH1wFoGrgSG3gBhhlMMDImrs3cFMAAA\n",
       "t0YN+iTRa+sAAAAASUVORK5CYII=\n",
       "\" style=\"display:inline;vertical-align:middle;\" /></a> : <a class=\"ProveItLink\" href=\"../699a1d509d4351b084cb142424605f66aca456f80/expr.ipynb\"><img src=\"data:image/png;base64,iVBORw0KGgoAAAANSUhEUgAAAC0AAAAQBAMAAABw0OvaAAAAMFBMVEX///+YmJju7u4QEBBUVFQy\n",
       "MjIiIiKIiIi6urpmZmbc3NyqqqpERER2dnbMzMwAAAB0GlNiAAAAAXRSTlMAQObYZgAAALRJREFU\n",
       "GNNjYHh79zQDCuC7e2cDAwPXBIb+AhTxlQwc3xkYeH8z8CdABLQg1P0NDN8YGLgR4tsh1H6wOBDA\n",
       "zNkOMwlkDhCEMKCJszqArL/qgCb+FqqwuAFNPbsFmGL+hCbOYK/AwPWAgecjkDk1NDQ5NBRkwjoG\n",
       "hvMCDPqfIOJw9Uz/FUDi/AEMbL9QzPnKwJC/gIFdgKH/Aop4IQPHXyC1c2Y0qju5Z07dgBJg2xmw\n",
       "g3YkNgCAPTRKDcxu7AAAAABJRU5ErkJggg==\n",
       "\" style=\"display:inline;vertical-align:middle;\" /></a>, <a class=\"ProveItLink\" href=\"../../../../__pv_it/f8b9edf8e16034727f0aad55bb83e392c3db40d40/expr.ipynb\"><img src=\"data:image/png;base64,iVBORw0KGgoAAAANSUhEUgAAAAsAAAANBAMAAACN24kIAAAAMFBMVEX///+YmJhUVFQyMjIQEBBE\n",
       "REQiIiKqqqrMzMyIiIi6urrc3NxmZmZ2dnbu7u4AAADXeCicAAAAAXRSTlMAQObYZgAAAFhJREFU\n",
       "CNdj4LtzgWH/AwZerg8M8xkY2nkSGEIZGB6wTGD4ycDAUP+A4weQOszA6QCkbBhYFYDUIYb1AkDq\n",
       "6czzGxhA4BoQMyXwuQMptgusF4AU+8xTQBIAUqMVoSp/SLMAAAAASUVORK5CYII=\n",
       "\" style=\"display:inline;vertical-align:middle;\" /></a> : <a class=\"ProveItLink\" href=\"../../../numeral/__pv_it/09b499e53e24cf89c2513ba78b501f0314edaa680/expr.ipynb\"><img src=\"data:image/png;base64,iVBORw0KGgoAAAANSUhEUgAAAAoAAAAOBAMAAADkjZCYAAAAMFBMVEX///+6urpERESqqqqIiIgQ\n",
       "EBCYmJgyMjJUVFQiIiLc3NzMzMxmZmZ2dnbu7u4AAABf+mkYAAAAAXRSTlMAQObYZgAAAFNJREFU\n",
       "CNdjYOC7c3cDA8PKDRwTGBjmMrAXMLD9YwAC9gAQyV/tcpiB4f00Bs4EhvcfGHj/MbyfwMD2mYEf\n",
       "qOwLAxOYzQwWZ9BleJrAwMDT08gAANMyF0ZGTeKAAAAAAElFTkSuQmCC\n",
       "\" style=\"display:inline;vertical-align:middle;\" /></a></span></td></tr><tr><td>1</td><td>axiom</td><td></td><td><span style=\"font-size:20px;\"> <a class=\"ProveItLink\" href=\"../../../../logic/equality/_axioms_.ipynb#substitution\" style=\"text-decoration: none\">&#x22A2;&nbsp;</a><a class=\"ProveItLink\" href=\"../398f54eae8bb3b5e6faf9c5a7a2ed97d055770700/expr.ipynb\"><img src=\"data:image/png;base64,iVBORw0KGgoAAAANSUhEUgAAAO8AAAAXBAMAAAARnwX+AAAAMFBMVEX///8QEBC6urrMzMxUVFRm\n",
       "ZmZERETc3NwyMjKqqqp2dnaIiIiYmJgiIiLu7u4AAAAU9Wx4AAAAAXRSTlMAQObYZgAAAvdJREFU\n",
       "SMfFVj1oFEEUfvef293bHKayECJYpIk5wcYqRyRGTBPUQgyiNonCgVuI8QfNIggWEq5QsLttDglB\n",
       "OTAemhRZJIVoc7UorE0QLXIYMIUiznszO7O3uznJQfDBm/123jfzZt+99+YA/pd4vS5MNqLYGPw3\n",
       "/63QFr586MHxURzMyQmJUc7EEEOcTInrIr4s9OCY1mQXf3es74shhjk21xvskbu0e786RW7zcFVi\n",
       "irUTZYY577n2sR85U9294wQlRy2AKazFKDPM+cLVeDY3d7eHSA/ReCGASa5GmWFOtsr158zMxx4c\n",
       "n8dh/cC4j28v33rFolmPEBXHrDsw74E2BaTHAWYxSOON6O5dquMRjb98bDrGpwSrkKeUuA9JytDJ\n",
       "0ZJtWAPI21wPgYl5llmZiu7eJen24ZDb8rEGejvPiuRghKg4xzItmGEFXeRaAN1lhkLc13Vx/AOH\n",
       "fNvHJqSJPBohKo6XaODnp9pcdbeACdfv9eBYaymcaMQ7DnBqXmpLOTZt7CnGtWk0L40ts3glmyL7\n",
       "uWM+SW2vKctiPyVoWeH5ErZfCnXmMwlfHeCcA72oQg2zY2h4R6fzTiRYon/vt46oL6bJk5gtDWkA\n",
       "qKivRGxYa6B7YpvOgpcceECnMGyu8IRiQXWQ5Ml6bxiayrGY7DAI/uagj2vuZbgDceWkOHAWRlyQ\n",
       "5SSOVOG0bRpPwWTwN96Wu/gGgGEcRjwfb6x8W8IcvR9xrDiwsXrRYr1ykCsYniwPSBVT/GUg4Bgn\n",
       "r1CopYEdl20BrwN4p5bZwXmuWqa/4g/ATWtUszX2gIFkWzmmSSG+ga4Do1wJXw1auAsFOemWiSm2\n",
       "JBTEVzEP7sab6RfsAY+btnJMk0J8A11ziYVW8IpE+RpJrQCn4GQdoHZl2upk+Gu7HLs5K92IrWNp\n",
       "YHIdjLolsZCJsOMgJ796mj3TFldxga+zSk3x15SVdYbiG4g04CECUfWxXtq54/icl0LF/xEMuiEO\n",
       "yY7mxDuWhr2W8t5t/RfNBeNeS11EOAAAAABJRU5ErkJggg==\n",
       "\" style=\"display:inline;vertical-align:middle;\" /></a></span></td></tr>\n",
       "<tr><td>&nbsp;</td><td colspan=4 style-\"text-align:left\"><a class=\"ProveItLink\" href=\"../../../../logic/equality/_axioms_.ipynb#substitution\">proveit.logic.equality.substitution</a></td></tr><tr><td>2</td><td>theorem</td><td></td><td><span style=\"font-size:20px;\"> <a class=\"ProveItLink\" href=\"../../../numeral/deci/_proofs_/add_3_3.ipynb\" style=\"text-decoration: none\">&#x22A2;&nbsp;</a><a class=\"ProveItLink\" href=\"../c46b18d081ee2723724b40aa3e1b4d0e59824fd60/expr.ipynb\"><img src=\"data:image/png;base64,iVBORw0KGgoAAAANSUhEUgAAAGEAAAAVBAMAAACkm51HAAAAMFBMVEX////c3NwiIiJERESqqqqY\n",
       "mJh2dnZmZmYQEBDu7u4yMjJUVFTMzMyIiIi6uroAAAAs73DqAAAAAXRSTlMAQObYZgAAAYNJREFU\n",
       "OMtjYCAd8F3AIRGHS8dpBoZjaSaoYjxpyQ4M7Acw1E4rywGSKxkYCxjeo1okzsD3l4FhAboGRh2G\n",
       "TQwMvBcY2L4w8CtAxCZCqHwHhk8MDGHoOpgSGFYxMHBMYGBB6PCFUP5gHTPQdcRPAJGvwGyYq3zh\n",
       "4QF0FbMDmo4VYLIMTK5mQNPBtYGBga0ATcevs9eBhiwFBU3WBjQdx0BGsIC9zr4KDIAqOD8FMKgy\n",
       "MPSBVdx4gGYHL1CcrwHVCs7/wDCZwPAPzOH4iaaDoX8CA88HNB3A0Ih3AOlgPMDA/BUoUrVqlcaq\n",
       "VSD3yDAw2Adg6GD4BdRxgaGFgWH+T4gOuB2c/yeAdEBcxa4EBgZAphHYDlMGBv4FDEwfUVwFNExf\n",
       "gIEVPdL9wf5IB/oygOF9AoqOqwx837CELnMCZysDwyMgy718CWrospRXAQOe6wF6pFdXA4U4BJCF\n",
       "fJE5M7AndtYEZN5bZE4ujvyxElfG4VyAQ0Ialw5uARwSjLhy7R3swgD65GEt1qFtwwAAAABJRU5E\n",
       "rkJggg==\n",
       "\" style=\"display:inline;vertical-align:middle;\" /></a></span></td></tr>\n",
       "<tr><td>&nbsp;</td><td colspan=4 style-\"text-align:left\"><a class=\"ProveItLink\" href=\"../../../numeral/deci/_proofs_/add_3_3.ipynb\">proveit.number.numeral.deci.add_3_3</a></td></tr></table>"
      ],
      "text/plain": [
       "<proveit._core_.proof._ShowProof at 0x7f9500025cf8>"
      ]
     },
     "execution_count": 1,
     "metadata": {},
     "output_type": "execute_result"
    }
   ],
   "source": [
    "import proveit\n",
    "%show_proof"
   ]
  },
  {
   "cell_type": "code",
   "execution_count": null,
   "metadata": {},
   "outputs": [],
   "source": []
  }
 ],
 "metadata": {
  "kernelspec": {
   "display_name": "Python 3",
   "language": "python",
   "name": "python3"
  }
 },
 "nbformat": 4,
 "nbformat_minor": 0
}
