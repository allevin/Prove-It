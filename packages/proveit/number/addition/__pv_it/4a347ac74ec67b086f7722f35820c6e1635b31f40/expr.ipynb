{
 "cells": [
  {
   "cell_type": "markdown",
   "metadata": {},
   "source": [
    "Expression of type <a class=\"ProveItLink\" href=\"../../../../../../doc/html/api/proveit.ExprTuple.html\">ExprTuple</a>\n",
    "=======================\n",
    "# from context <a class=\"ProveItLink\" href=\"../../_context_.ipynb\">proveit.number.addition</a>"
   ]
  },
  {
   "cell_type": "code",
   "execution_count": 1,
   "metadata": {},
   "outputs": [],
   "source": [
    "# import Expression classes needed to build the expression\n",
    "from proveit import ExprTuple\n",
    "from proveit._common_ import A, B, C, a, b"
   ]
  },
  {
   "cell_type": "code",
   "execution_count": 2,
   "metadata": {},
   "outputs": [
    {
     "data": {
      "text/html": [
       "<strong id=\"expr\">expr:</strong> <a class=\"ProveItLink\" href=\"expr.ipynb\"><img src=\"data:image/png;base64,iVBORw0KGgoAAAANSUhEUgAAAI4AAAAVBAMAAABicsu7AAAAMFBMVEX////c3NwiIiJERESqqqqY\n",
       "mJh2dnZmZmYQEBDu7u4yMjJUVFTMzMyIiIi6uroAAAAs73DqAAAAAXRSTlMAQObYZgAAAl1JREFU\n",
       "OMutVD1oU1EYPUnzXvLy1wcWBB3SRepmBoWKQ7MJIuShm0uzdZOIoqBCotiCHezDSSyaKoioUBUF\n",
       "oY/SoGOHZOsgtqmL1alRoySp1vvz3duXR7YYSHK+89177vd3L/C/Pun6wBJGg/2sBtn3Ppwclf/z\n",
       "N/Wela73ZlEveHDiirMf1xl6FtR56cPxbQIvNBXLAqUGGeY08GUacSAVTMs44u4ZZ9oEfmqqxjbU\n",
       "XklsPWZrzSaMAmJuQGekZGscOtmkIrY1t8HckwUK9zb3lWGV8S2YVn2joXEq9ZfiH9XcOPsepsNL\n",
       "OX5YETiKyxwtn7+h2+fmHb3na6RFBy9/VGwXOHCcwu2I5KrAFJ4wtGUPqXrioSgApd9I/pGoksUO\n",
       "dbD7ae0Q+aMttfIU7jDZFqJZxTSQKerYEPotUd7FDKXKKnaXyhxuqpVbYAVIbCOsYkh63orWXPW8\n",
       "HxJdBUhxqMy0KI5hkYXFm8h1hrOoVHUIiC3sxYZZicaQVntZLMYvGiWhc1ro3AIydeRBHWANCJdJ\n",
       "JsI7o8YnSp2vsXonaJoSgiuKvI6xIuawFKlaogM5OcNCdUQON3fsIFaQJB+fzIJcIbpgcnSOdQxx\n",
       "JzJmosJH5D6vQBvWd543z2/CFY63uCZJPj7JWZeMyRzSFziYwmc+Pusf1nGPFX/f3CMYE52iNWcj\n",
       "NN6xcXb3qXDMrzngJC7uet5zlpowkFx6d0lkuIiYvgWb/sfE9hmb/cgeg90Lo6AMx39Z/TfF6Uf2\n",
       "GGbd924MoMPLelDdyZ7L6sOpfmSv8Zq3evB3NVXFPyt6pV77FNAOAAAAAElFTkSuQmCC\n",
       "\" style=\"display:inline;vertical-align:middle;\" /></a><br>"
      ],
      "text/plain": [
       "expr: (a , A , A , b , B , C)"
      ]
     },
     "execution_count": 2,
     "metadata": {},
     "output_type": "execute_result"
    }
   ],
   "source": [
    "# build up the expression from sub-expressions\n",
    "expr = ExprTuple(a, A, A, b, B, C)"
   ]
  },
  {
   "cell_type": "code",
   "execution_count": 3,
   "metadata": {},
   "outputs": [
    {
     "name": "stdout",
     "output_type": "stream",
     "text": [
      "Passed sanity check: built 'expr' is the same as the stored Expression.\n"
     ]
    }
   ],
   "source": [
    "# check that the built expression is the same as the stored expression\n",
    "%check_expr"
   ]
  },
  {
   "cell_type": "code",
   "execution_count": 4,
   "metadata": {},
   "outputs": [
    {
     "data": {
      "text/html": [
       "<table><tr><th>&nbsp;</th><th>core type</th><th>sub-expressions</th><th>expression</th></tr>\n",
       "<tr><td>0</td><td>ExprTuple</td><td>1, 2, 2, 3, 4, 5</td><td><a class=\"ProveItLink\" href=\"expr.ipynb\"><img src=\"data:image/png;base64,iVBORw0KGgoAAAANSUhEUgAAAI4AAAAVBAMAAABicsu7AAAAMFBMVEX////c3NwiIiJERESqqqqY\n",
       "mJh2dnZmZmYQEBDu7u4yMjJUVFTMzMyIiIi6uroAAAAs73DqAAAAAXRSTlMAQObYZgAAAl1JREFU\n",
       "OMutVD1oU1EYPUnzXvLy1wcWBB3SRepmBoWKQ7MJIuShm0uzdZOIoqBCotiCHezDSSyaKoioUBUF\n",
       "oY/SoGOHZOsgtqmL1alRoySp1vvz3duXR7YYSHK+89177vd3L/C/Pun6wBJGg/2sBtn3Ppwclf/z\n",
       "N/Wela73ZlEveHDiirMf1xl6FtR56cPxbQIvNBXLAqUGGeY08GUacSAVTMs44u4ZZ9oEfmqqxjbU\n",
       "XklsPWZrzSaMAmJuQGekZGscOtmkIrY1t8HckwUK9zb3lWGV8S2YVn2joXEq9ZfiH9XcOPsepsNL\n",
       "OX5YETiKyxwtn7+h2+fmHb3na6RFBy9/VGwXOHCcwu2I5KrAFJ4wtGUPqXrioSgApd9I/pGoksUO\n",
       "dbD7ae0Q+aMttfIU7jDZFqJZxTSQKerYEPotUd7FDKXKKnaXyhxuqpVbYAVIbCOsYkh63orWXPW8\n",
       "HxJdBUhxqMy0KI5hkYXFm8h1hrOoVHUIiC3sxYZZicaQVntZLMYvGiWhc1ro3AIydeRBHWANCJdJ\n",
       "JsI7o8YnSp2vsXonaJoSgiuKvI6xIuawFKlaogM5OcNCdUQON3fsIFaQJB+fzIJcIbpgcnSOdQxx\n",
       "JzJmosJH5D6vQBvWd543z2/CFY63uCZJPj7JWZeMyRzSFziYwmc+Pusf1nGPFX/f3CMYE52iNWcj\n",
       "NN6xcXb3qXDMrzngJC7uet5zlpowkFx6d0lkuIiYvgWb/sfE9hmb/cgeg90Lo6AMx39Z/TfF6Uf2\n",
       "GGbd924MoMPLelDdyZ7L6sOpfmSv8Zq3evB3NVXFPyt6pV77FNAOAAAAAElFTkSuQmCC\n",
       "\" style=\"display:inline;vertical-align:middle;\" /></a></td></tr>\n",
       "<tr><td>1</td><td>Variable</td><td></td><td><a class=\"ProveItLink\" href=\"../../../../__pv_it/07527342713064c87612d00d8557c53d53d5324a0/expr.ipynb\"><img src=\"data:image/png;base64,iVBORw0KGgoAAAANSUhEUgAAAAsAAAAJBAMAAAAWSsseAAAAMFBMVEX///8yMjKqqqrMzMzu7u4i\n",
       "IiJmZmaYmJhEREQQEBC6urp2dnaIiIhUVFTc3NwAAAD87Fq/AAAAAXRSTlMAQObYZgAAAEhJREFU\n",
       "CNdjYOC7s2seAwPDygccHxgY+L4zsDUwMPB+YGA9wMDA38Dgb8DA8P4Agz6DA4O/AsNFJgMGxgKm\n",
       "MG6gyjunLE4xAAAZTBA5TB6DCwAAAABJRU5ErkJggg==\n",
       "\" style=\"display:inline;vertical-align:middle;\" /></a></td></tr>\n",
       "<tr><td>2</td><td>Variable</td><td></td><td><a class=\"ProveItLink\" href=\"../../../../__pv_it/2cbe72a7ad6f655694dd697106680215e8489b600/expr.ipynb\"><img src=\"data:image/png;base64,iVBORw0KGgoAAAANSUhEUgAAAA8AAAAOBAMAAAACpFvcAAAALVBMVEX///8QEBBERERUVFS6urqI\n",
       "iIhmZmaqqqrc3Nzu7u6YmJgyMjIiIiLMzMwAAADtIaYWAAAAAXRSTlMAQObYZgAAAFtJREFUCNdj\n",
       "YACBOwxQsA9Kc52bAGG05zVAGAFxDmCaZULdAjBjCsO9ADDDgaEvAUTzGhvbKYCVMDAwbgAxChgY\n",
       "eASANAeQwf0AyJgNxEwvGRia5HYwcOm9TgAA6BoR3jrzwFcAAAAASUVORK5CYII=\n",
       "\" style=\"display:inline;vertical-align:middle;\" /></a></td></tr>\n",
       "<tr><td>3</td><td>Variable</td><td></td><td><a class=\"ProveItLink\" href=\"../../../../__pv_it/6840a4fa6c106149dc16a131294d0c5e44f1b0480/expr.ipynb\"><img src=\"data:image/png;base64,iVBORw0KGgoAAAANSUhEUgAAAAkAAAAOBAMAAAAPuiubAAAALVBMVEX///9mZmbMzMxERESYmJiI\n",
       "iIh2dna6urqqqqoyMjIiIiIQEBBUVFTu7u4AAAD9S1JeAAAAAXRSTlMAQObYZgAAAE1JREFUCNdj\n",
       "4D29gAEIOA+ASL4GEFl3AURmgQiGOaFHGBh4HzPwKTBwvGXgTmBgnMDAJ8DAJcBQ5wBSLncBJLWN\n",
       "gYGngRFoBO9REQYGAGrcDtUkVqASAAAAAElFTkSuQmCC\n",
       "\" style=\"display:inline;vertical-align:middle;\" /></a></td></tr>\n",
       "<tr><td>4</td><td>Variable</td><td></td><td><a class=\"ProveItLink\" href=\"../../../../__pv_it/077b2ff79244fb4582cbe22c6e3356fa92a52f2f0/expr.ipynb\"><img src=\"data:image/png;base64,iVBORw0KGgoAAAANSUhEUgAAABAAAAAOBAMAAADUAYG5AAAAMFBMVEX///+qqqru7u4iIiJ2dnbc\n",
       "3NyIiIjMzMxmZmYQEBC6uroyMjJERERUVFSYmJgAAADLUcuvAAAAAXRSTlMAQObYZgAAAGpJREFU\n",
       "CNdjYGB4+//u3dMLGIBgDgMDxy8gzf4NiP8CGWxfGRj4vgAZPBMYGJgnARn8FxhY9ygAGfXX0pof\n",
       "gDTlBzAw2YIYJ0EckBBI53sHoBH/gIz7AhBjWH9DjancBLTl/N+7t/cxMAAA3u4f/5xagjYAAAAA\n",
       "SUVORK5CYII=\n",
       "\" style=\"display:inline;vertical-align:middle;\" /></a></td></tr>\n",
       "<tr><td>5</td><td>Variable</td><td></td><td><a class=\"ProveItLink\" href=\"../../../../__pv_it/985a1bdf1540838275dec15f4ad6de261cca93ce0/expr.ipynb\"><img src=\"data:image/png;base64,iVBORw0KGgoAAAANSUhEUgAAAA8AAAAOBAMAAAACpFvcAAAAMFBMVEX////MzMyqqqoiIiIyMjK6\n",
       "uroQEBB2dnbc3NyYmJhmZmZUVFRERESIiIju7u4AAAB204erAAAAAXRSTlMAQObYZgAAAGZJREFU\n",
       "CNdjYGDgu7NrJccCBgaGsgkMrMsmMDA8sQNy6hsYGNweABlhDAxcn4A0QxcDQ78DiPGQgWH9BAYI\n",
       "sG+AMv6DSaCGfBDNJMDAsB+kmwuI5S8AiTog5gSaEwXWIO29SgFIAQBC+RaDQlidVgAAAABJRU5E\n",
       "rkJggg==\n",
       "\" style=\"display:inline;vertical-align:middle;\" /></a></td></tr>\n",
       "</table>\n"
      ],
      "text/plain": [
       "0. (a , A , A , b , B , C)\n",
       "   core type: ExprTuple\n",
       "   sub-expressions: 1, 2, 2, 3, 4, 5\n",
       "1. a\n",
       "   core type: Variable\n",
       "   sub-expressions: \n",
       "2. A\n",
       "   core type: Variable\n",
       "   sub-expressions: \n",
       "3. b\n",
       "   core type: Variable\n",
       "   sub-expressions: \n",
       "4. B\n",
       "   core type: Variable\n",
       "   sub-expressions: \n",
       "5. C\n",
       "   core type: Variable\n",
       "   sub-expressions: "
      ]
     },
     "execution_count": 4,
     "metadata": {},
     "output_type": "execute_result"
    }
   ],
   "source": [
    "# display the expression information\n",
    "expr.exprInfo()"
   ]
  },
  {
   "cell_type": "code",
   "execution_count": null,
   "metadata": {},
   "outputs": [],
   "source": []
  }
 ],
 "metadata": {
  "kernelspec": {
   "display_name": "Python 3",
   "language": "python",
   "name": "python3"
  }
 },
 "nbformat": 4,
 "nbformat_minor": 0
}
