{
 "cells": [
  {
   "cell_type": "markdown",
   "metadata": {},
   "source": [
    "Expression of type <a class=\"ProveItLink\" href=\"../../../../../../doc/html/api/proveit.number.Add.html\">Add</a>\n",
    "=======================\n",
    "# from context <a class=\"ProveItLink\" href=\"../../_context_.ipynb\">proveit.number.addition</a>"
   ]
  },
  {
   "cell_type": "code",
   "execution_count": 1,
   "metadata": {},
   "outputs": [],
   "source": [
    "# import Expression classes needed to build the expression\n",
    "from proveit._common_ import a, b, c\n",
    "from proveit.number import Add"
   ]
  },
  {
   "cell_type": "code",
   "execution_count": 2,
   "metadata": {},
   "outputs": [
    {
     "data": {
      "text/html": [
       "<strong id=\"expr\">expr:</strong> <a class=\"ProveItLink\" href=\"expr.ipynb\"><img src=\"data:image/png;base64,iVBORw0KGgoAAAANSUhEUgAAAWoAAAAQBAMAAADNOCjDAAAAMFBMVEX///8yMjKqqqrMzMzu7u4i\n",
       "IiJmZmaYmJhEREQQEBC6urp2dnaIiIhUVFTc3NwAAAD87Fq/AAAAAXRSTlMAQObYZgAAAi1JREFU\n",
       "SMe9lTFLHFEUhc+O40R32axTiJWwEOwELbXbNgSzWwmCxVopSMj8hO1shJAiTSIiWAmCQrBJLAYi\n",
       "FmaE1cIQWNA/IC66xC1S5Inz3rw7dybPHcUpP8495743d+4A2Z6ZT49X2L9reOZn9AkUueYTNPKW\n",
       "38ZFKrlOkzAF95WgVH54Mm8lfMYZsfw0ku+kSZiC+0qwU3l4Mm8lQ9eFmsleKdK73kPmrl+2vq3T\n",
       "2ohIKSe51rFH3d7s/0hWKF/7ezBJwGjwy5SsalTO5c8tMSxbFwNtWhsRKeWk2sANAX2fMZysUL7T\n",
       "G7maDuwuSpOGZFWjBm8dH8TxbuE0iLtGQiknmKjgCwGvfawkK1STaxjwdGB1MLj7/+SoRtpeeVgC\n",
       "im30+8RdI6GUEywAfwg4jw+gUmi+dIydIZTqxuSYrciZF9ungerda1pw3TnXvduxkjiuO/zRdZtJ\n",
       "BLPI3xLQvW8krqC+IKC/jh3PmByz7cIWg3flYwIV/cQaCQ/IiVjGTocM0d/4pSiF5kvvWqzr9+Zk\n",
       "aityrLaNahknFvkmNBJKOREfWjiSEoh7fZGsUE2KeyVzLT5FOvk8J6qRg36N4tAr5DxrtkBqNRJK\n",
       "OcEp3lFwBnxNVqipraNArqdYdpqG5KhG2o5grL4rVuTR1BHdIRGRr4URzBx6FDj7QSVZofbacnBA\n",
       "l0prEYbkqEaCy2BzdSPrv7GXX+9476CHP/o2I3nfSMyA+25nSCbgH/Ne+py4sfjpAAAAAElFTkSu\n",
       "QmCC\n",
       "\" style=\"display:inline;vertical-align:middle;\" /></a><br>"
      ],
      "text/plain": [
       "expr: a + a + a + b + c + b + c + b + a + c + a"
      ]
     },
     "execution_count": 2,
     "metadata": {},
     "output_type": "execute_result"
    }
   ],
   "source": [
    "# build up the expression from sub-expressions\n",
    "expr = Add(a, a, a, b, c, b, c, b, a, c, a)"
   ]
  },
  {
   "cell_type": "code",
   "execution_count": 3,
   "metadata": {},
   "outputs": [
    {
     "name": "stdout",
     "output_type": "stream",
     "text": [
      "Passed sanity check: built 'expr' is the same as the stored Expression.\n"
     ]
    }
   ],
   "source": [
    "# check that the built expression is the same as the stored expression\n",
    "%check_expr"
   ]
  },
  {
   "cell_type": "code",
   "execution_count": 4,
   "metadata": {},
   "outputs": [
    {
     "data": {
      "text/html": [
       "<table><tr><th>&nbsp;</th><th>core type</th><th>sub-expressions</th><th>expression</th></tr>\n",
       "<tr><td>0</td><td>Operation</td><td>operator:&nbsp;1<br>operands:&nbsp;2<br></td><td><a class=\"ProveItLink\" href=\"expr.ipynb\"><img src=\"data:image/png;base64,iVBORw0KGgoAAAANSUhEUgAAAWoAAAAQBAMAAADNOCjDAAAAMFBMVEX///8yMjKqqqrMzMzu7u4i\n",
       "IiJmZmaYmJhEREQQEBC6urp2dnaIiIhUVFTc3NwAAAD87Fq/AAAAAXRSTlMAQObYZgAAAi1JREFU\n",
       "SMe9lTFLHFEUhc+O40R32axTiJWwEOwELbXbNgSzWwmCxVopSMj8hO1shJAiTSIiWAmCQrBJLAYi\n",
       "FmaE1cIQWNA/IC66xC1S5Inz3rw7dybPHcUpP8495743d+4A2Z6ZT49X2L9reOZn9AkUueYTNPKW\n",
       "38ZFKrlOkzAF95WgVH54Mm8lfMYZsfw0ku+kSZiC+0qwU3l4Mm8lQ9eFmsleKdK73kPmrl+2vq3T\n",
       "2ohIKSe51rFH3d7s/0hWKF/7ezBJwGjwy5SsalTO5c8tMSxbFwNtWhsRKeWk2sANAX2fMZysUL7T\n",
       "G7maDuwuSpOGZFWjBm8dH8TxbuE0iLtGQiknmKjgCwGvfawkK1STaxjwdGB1MLj7/+SoRtpeeVgC\n",
       "im30+8RdI6GUEywAfwg4jw+gUmi+dIydIZTqxuSYrciZF9ungerda1pw3TnXvduxkjiuO/zRdZtJ\n",
       "BLPI3xLQvW8krqC+IKC/jh3PmByz7cIWg3flYwIV/cQaCQ/IiVjGTocM0d/4pSiF5kvvWqzr9+Zk\n",
       "aityrLaNahknFvkmNBJKOREfWjiSEoh7fZGsUE2KeyVzLT5FOvk8J6qRg36N4tAr5DxrtkBqNRJK\n",
       "OcEp3lFwBnxNVqipraNArqdYdpqG5KhG2o5grL4rVuTR1BHdIRGRr4URzBx6FDj7QSVZofbacnBA\n",
       "l0prEYbkqEaCy2BzdSPrv7GXX+9476CHP/o2I3nfSMyA+25nSCbgH/Ne+py4sfjpAAAAAElFTkSu\n",
       "QmCC\n",
       "\" style=\"display:inline;vertical-align:middle;\" /></a></td></tr>\n",
       "<tr><td>1</td><td>Literal</td><td></td><td><a class=\"ProveItLink\" href=\"../3e6688136fa3c7aefbebe51301b7c3ebf0b69c440/expr.ipynb\"><img src=\"data:image/png;base64,iVBORw0KGgoAAAANSUhEUgAAAA4AAAAOBAMAAADtZjDiAAAAJFBMVEX///+6urpUVFQQEBAiIiIy\n",
       "MjJmZmaIiIiqqqrc3Nzu7u4AAACgHpL+AAAAAXRSTlMAQObYZgAAAB5JREFUCNdjYGBgWMkAAe2k\n",
       "0Kmhoc6hoUGk6BMHYgAHOwjcado9fwAAAABJRU5ErkJggg==\n",
       "\" style=\"display:inline;vertical-align:middle;\" /></a></td></tr>\n",
       "<tr><td>2</td><td>ExprTuple</td><td>5, 5, 5, 3, 4, 3, 4, 3, 5, 4, 5</td><td><a class=\"ProveItLink\" href=\"../5419325ea9231c45ad5ae0c1301d806de094128e0/expr.ipynb\"><img src=\"data:image/png;base64,iVBORw0KGgoAAAANSUhEUgAAANUAAAAVBAMAAAAjhrYEAAAAMFBMVEX////c3NwiIiJERESqqqqY\n",
       "mJh2dnZmZmYQEBDu7u4yMjJUVFTMzMyIiIi6uroAAAAs73DqAAAAAXRSTlMAQObYZgAAAi9JREFU\n",
       "SMe9ljFoE1EYx/9pLrm8XJO73aHZOglZHMXgLPQmRwkOuhg5EDvooBXpZs0khQ45hA6lSwelRQgG\n",
       "XASXTIroldSpiNBoWyRQxe+9u8t7veN4t5gMl//75fi9vO++9xJglq/6cCbT3OCXD7q7Np7oCdtr\n",
       "aCzmgC5b2q+0nYNUd3QWH6jpS3iSg9gtneU6UOlqH+hET3Ck1awD37XLKjf0BDe1mmILy/RW6N9d\n",
       "iciFj4dOIlX7X9wQveh8zSDYDl6HQbrYrWCgoLKHTRocOsVxVJ0VXEmmXhNnIsyv4WUGYcewQ7F0\n",
       "vR9VGwoyfKzRvKcwm+HnCy7uJdNSF6thxYe4lEGMCSptsYapiz1D0VVQ/TH+AtYYc1E3vgUuJtMD\n",
       "4HeMsojpw/Z4kC4rWl6M5sd8LruJXlgAHIOdJdMi6qcRQhaZ83AkFiFddjPeDiGiuZ5SuYZYgujZ\n",
       "wh8YY3Y+0WYyJxGabq8koe31SBikayHeuBGiGlK9ey28MQZczE5g+df4vTJRG9Cj4IHWUsog1Bir\n",
       "4AbpsmmdrkQo+bhNLewai2X0eNNs4qrXZr/OpVd4CBF2gTsZxGqZO8IgXZaH8kAi3vPfeP/vv9vH\n",
       "+k++qYIfl0fsuaOmjU8uRDA7QTeDsP59CIPiWg4+KwjVESpOXPMDeQY5qZQnKIaDNKIzqtSOB+4U\n",
       "l9IpT1AMbhp11N+U/zsX8/kjigY1eUwO0ylPkIZaGlm80oXZ/AegM/ofPdfgHUTZzvcAAAAASUVO\n",
       "RK5CYII=\n",
       "\" style=\"display:inline;vertical-align:middle;\" /></a></td></tr>\n",
       "<tr><td>3</td><td>Variable</td><td></td><td><a class=\"ProveItLink\" href=\"../../../../__pv_it/6840a4fa6c106149dc16a131294d0c5e44f1b0480/expr.ipynb\"><img src=\"data:image/png;base64,iVBORw0KGgoAAAANSUhEUgAAAAkAAAAOBAMAAAAPuiubAAAALVBMVEX///9mZmbMzMxERESYmJiI\n",
       "iIh2dna6urqqqqoyMjIiIiIQEBBUVFTu7u4AAAD9S1JeAAAAAXRSTlMAQObYZgAAAE1JREFUCNdj\n",
       "4D29gAEIOA+ASL4GEFl3AURmgQiGOaFHGBh4HzPwKTBwvGXgTmBgnMDAJ8DAJcBQ5wBSLncBJLWN\n",
       "gYGngRFoBO9REQYGAGrcDtUkVqASAAAAAElFTkSuQmCC\n",
       "\" style=\"display:inline;vertical-align:middle;\" /></a></td></tr>\n",
       "<tr><td>4</td><td>Variable</td><td></td><td><a class=\"ProveItLink\" href=\"../../../../__pv_it/cbdfda466482236edba0ce44ac7ef39cda0af7a40/expr.ipynb\"><img src=\"data:image/png;base64,iVBORw0KGgoAAAANSUhEUgAAAAkAAAAJBAMAAAASvxsjAAAALVBMVEX///9mZmbc3NxUVFSYmJhE\n",
       "REQiIiIyMjK6uroQEBDMzMyIiIh2dnbu7u4AAABgFDGoAAAAAXRSTlMAQObYZgAAADZJREFUCNdj\n",
       "YOA9s3sBA8PKBvYEBt7ZDKwODMwPGICALwBE6m0Asx0YGIDiAgw8QJUyu/cyAAAmuwmycZ8WfQAA\n",
       "AABJRU5ErkJggg==\n",
       "\" style=\"display:inline;vertical-align:middle;\" /></a></td></tr>\n",
       "<tr><td>5</td><td>Variable</td><td></td><td><a class=\"ProveItLink\" href=\"../../../../__pv_it/07527342713064c87612d00d8557c53d53d5324a0/expr.ipynb\"><img src=\"data:image/png;base64,iVBORw0KGgoAAAANSUhEUgAAAAsAAAAJBAMAAAAWSsseAAAAMFBMVEX///8yMjKqqqrMzMzu7u4i\n",
       "IiJmZmaYmJhEREQQEBC6urp2dnaIiIhUVFTc3NwAAAD87Fq/AAAAAXRSTlMAQObYZgAAAEhJREFU\n",
       "CNdjYOC7s2seAwPDygccHxgY+L4zsDUwMPB+YGA9wMDA38Dgb8DA8P4Agz6DA4O/AsNFJgMGxgKm\n",
       "MG6gyjunLE4xAAAZTBA5TB6DCwAAAABJRU5ErkJggg==\n",
       "\" style=\"display:inline;vertical-align:middle;\" /></a></td></tr>\n",
       "</table>\n"
      ],
      "text/plain": [
       "0. a + a + a + b + c + b + c + b + a + c + a\n",
       "   core type: Operation\n",
       "   operator: 1\n",
       "   operands: 2\n",
       "1. +\n",
       "   core type: Literal\n",
       "   sub-expressions: \n",
       "2. (a , a , a , b , c , b , c , b , a , c , a)\n",
       "   core type: ExprTuple\n",
       "   sub-expressions: 5, 5, 5, 3, 4, 3, 4, 3, 5, 4, 5\n",
       "3. b\n",
       "   core type: Variable\n",
       "   sub-expressions: \n",
       "4. c\n",
       "   core type: Variable\n",
       "   sub-expressions: \n",
       "5. a\n",
       "   core type: Variable\n",
       "   sub-expressions: "
      ]
     },
     "execution_count": 4,
     "metadata": {},
     "output_type": "execute_result"
    }
   ],
   "source": [
    "# display the expression information\n",
    "expr.exprInfo()"
   ]
  },
  {
   "cell_type": "code",
   "execution_count": null,
   "metadata": {},
   "outputs": [],
   "source": []
  }
 ],
 "metadata": {
  "kernelspec": {
   "display_name": "Python 3",
   "language": "python",
   "name": "python3"
  }
 },
 "nbformat": 4,
 "nbformat_minor": 0
}
