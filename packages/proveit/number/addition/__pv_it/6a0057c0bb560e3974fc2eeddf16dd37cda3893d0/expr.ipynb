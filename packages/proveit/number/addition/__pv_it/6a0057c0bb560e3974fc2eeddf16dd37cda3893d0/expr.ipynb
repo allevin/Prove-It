{
 "cells": [
  {
   "cell_type": "markdown",
   "metadata": {},
   "source": [
    "Expression of type <a class=\"ProveItLink\" href=\"../../../../../../doc/html/api/proveit.ExprTuple.html\">ExprTuple</a>\n",
    "=======================\n",
    "# from context <a class=\"ProveItLink\" href=\"../../_context_.ipynb\">proveit.number.addition</a>"
   ]
  },
  {
   "cell_type": "code",
   "execution_count": 1,
   "metadata": {},
   "outputs": [],
   "source": [
    "# import Expression classes needed to build the expression\n",
    "from proveit import ExprTuple\n",
    "from proveit._common_ import a, b, c"
   ]
  },
  {
   "cell_type": "code",
   "execution_count": 2,
   "metadata": {},
   "outputs": [
    {
     "data": {
      "text/html": [
       "<strong id=\"expr\">expr:</strong> <a class=\"ProveItLink\" href=\"expr.ipynb\"><img src=\"data:image/png;base64,iVBORw0KGgoAAAANSUhEUgAAANUAAAAVBAMAAAAjhrYEAAAAMFBMVEX////c3NwiIiJERESqqqqY\n",
       "mJh2dnZmZmYQEBDu7u4yMjJUVFTMzMyIiIi6uroAAAAs73DqAAAAAXRSTlMAQObYZgAAAgBJREFU\n",
       "SMe9lj9I41Acx7+1adPX2Ca7g906CV1uFIuzYKYbj+KgkxKQc9DB8xA3taPg0CwO4uLgwXFQLuBy\n",
       "cEsnj0Mr9aYigvVPOQpVfM8mfXl9akPA/obk8/uF9/vl/f68BBikpCsDCfOJXX6HWbn7tRdkId8z\n",
       "Pk116GU/1GseSCBL8tCv2UAqXArvJZBFz/u1j0CiGKrIrV54Qa4F1zvAZahtxTO98ILMCFo0jyV6\n",
       "i5QX1lzLyEndCEDJ8qkpAshs1RHhoPrN9yhuYY9y3Yg23JSsYSIIlXJoi4BftWRGAHIH3eEWxcYW\n",
       "3VYTaq6zYNTEYhCaLmJDBLKJqCmA0kKiwC3pL3gEtAaG3G78CYwFoWXgvwiamxkOqg3d4pbhBoul\n",
       "51DqbBZ3IO0glEW6KYKe8zrdgyEL1ya30FjrNDUVTOO5PyMPUBqkP9GpUlsijHpz2gU6XqtFbqE5\n",
       "/EDrm8cPxWFOyD00e4rFfZtoP9BSCKDTLZhEAIeWsmtBzMYc7VtTycZRYs2zh0mrQG770hFWIIJm\n",
       "Ie4wHxzy6iG6Ftbz/9h4nR+fY+eGDVD1arxGto1+tPvHhAhYqv7t+PCAlD+DW5CsIWF4g33BTyAj\n",
       "EMnAfchAz6hYwVPMbqxYMJKB+5Bh3v9Ned9YxGYlcpUUPyYrwUiG1OugsTxHBvMPcAY8Adis3Wt9\n",
       "F1zOAAAAAElFTkSuQmCC\n",
       "\" style=\"display:inline;vertical-align:middle;\" /></a><br>"
      ],
      "text/plain": [
       "expr: (a , a , a , a , a , b , b , c , c , b , c)"
      ]
     },
     "execution_count": 2,
     "metadata": {},
     "output_type": "execute_result"
    }
   ],
   "source": [
    "# build up the expression from sub-expressions\n",
    "expr = ExprTuple(a, a, a, a, a, b, b, c, c, b, c)"
   ]
  },
  {
   "cell_type": "code",
   "execution_count": 3,
   "metadata": {},
   "outputs": [
    {
     "name": "stdout",
     "output_type": "stream",
     "text": [
      "Passed sanity check: built 'expr' is the same as the stored Expression.\n"
     ]
    }
   ],
   "source": [
    "# check that the built expression is the same as the stored expression\n",
    "%check_expr"
   ]
  },
  {
   "cell_type": "code",
   "execution_count": 4,
   "metadata": {},
   "outputs": [
    {
     "data": {
      "text/html": [
       "<table><tr><th>&nbsp;</th><th>core type</th><th>sub-expressions</th><th>expression</th></tr>\n",
       "<tr><td>0</td><td>ExprTuple</td><td>1, 1, 1, 1, 1, 2, 2, 3, 3, 2, 3</td><td><a class=\"ProveItLink\" href=\"expr.ipynb\"><img src=\"data:image/png;base64,iVBORw0KGgoAAAANSUhEUgAAANUAAAAVBAMAAAAjhrYEAAAAMFBMVEX////c3NwiIiJERESqqqqY\n",
       "mJh2dnZmZmYQEBDu7u4yMjJUVFTMzMyIiIi6uroAAAAs73DqAAAAAXRSTlMAQObYZgAAAgBJREFU\n",
       "SMe9lj9I41Acx7+1adPX2Ca7g906CV1uFIuzYKYbj+KgkxKQc9DB8xA3taPg0CwO4uLgwXFQLuBy\n",
       "cEsnj0Mr9aYigvVPOQpVfM8mfXl9akPA/obk8/uF9/vl/f68BBikpCsDCfOJXX6HWbn7tRdkId8z\n",
       "Pk116GU/1GseSCBL8tCv2UAqXArvJZBFz/u1j0CiGKrIrV54Qa4F1zvAZahtxTO98ILMCFo0jyV6\n",
       "i5QX1lzLyEndCEDJ8qkpAshs1RHhoPrN9yhuYY9y3Yg23JSsYSIIlXJoi4BftWRGAHIH3eEWxcYW\n",
       "3VYTaq6zYNTEYhCaLmJDBLKJqCmA0kKiwC3pL3gEtAaG3G78CYwFoWXgvwiamxkOqg3d4pbhBoul\n",
       "51DqbBZ3IO0glEW6KYKe8zrdgyEL1ya30FjrNDUVTOO5PyMPUBqkP9GpUlsijHpz2gU6XqtFbqE5\n",
       "/EDrm8cPxWFOyD00e4rFfZtoP9BSCKDTLZhEAIeWsmtBzMYc7VtTycZRYs2zh0mrQG770hFWIIJm\n",
       "Ie4wHxzy6iG6Ftbz/9h4nR+fY+eGDVD1arxGto1+tPvHhAhYqv7t+PCAlD+DW5CsIWF4g33BTyAj\n",
       "EMnAfchAz6hYwVPMbqxYMJKB+5Bh3v9Ned9YxGYlcpUUPyYrwUiG1OugsTxHBvMPcAY8Adis3Wt9\n",
       "F1zOAAAAAElFTkSuQmCC\n",
       "\" style=\"display:inline;vertical-align:middle;\" /></a></td></tr>\n",
       "<tr><td>1</td><td>Variable</td><td></td><td><a class=\"ProveItLink\" href=\"../../../../__pv_it/07527342713064c87612d00d8557c53d53d5324a0/expr.ipynb\"><img src=\"data:image/png;base64,iVBORw0KGgoAAAANSUhEUgAAAAsAAAAJBAMAAAAWSsseAAAAMFBMVEX///8yMjKqqqrMzMzu7u4i\n",
       "IiJmZmaYmJhEREQQEBC6urp2dnaIiIhUVFTc3NwAAAD87Fq/AAAAAXRSTlMAQObYZgAAAEhJREFU\n",
       "CNdjYOC7s2seAwPDygccHxgY+L4zsDUwMPB+YGA9wMDA38Dgb8DA8P4Agz6DA4O/AsNFJgMGxgKm\n",
       "MG6gyjunLE4xAAAZTBA5TB6DCwAAAABJRU5ErkJggg==\n",
       "\" style=\"display:inline;vertical-align:middle;\" /></a></td></tr>\n",
       "<tr><td>2</td><td>Variable</td><td></td><td><a class=\"ProveItLink\" href=\"../../../../__pv_it/6840a4fa6c106149dc16a131294d0c5e44f1b0480/expr.ipynb\"><img src=\"data:image/png;base64,iVBORw0KGgoAAAANSUhEUgAAAAkAAAAOBAMAAAAPuiubAAAALVBMVEX///9mZmbMzMxERESYmJiI\n",
       "iIh2dna6urqqqqoyMjIiIiIQEBBUVFTu7u4AAAD9S1JeAAAAAXRSTlMAQObYZgAAAE1JREFUCNdj\n",
       "4D29gAEIOA+ASL4GEFl3AURmgQiGOaFHGBh4HzPwKTBwvGXgTmBgnMDAJ8DAJcBQ5wBSLncBJLWN\n",
       "gYGngRFoBO9REQYGAGrcDtUkVqASAAAAAElFTkSuQmCC\n",
       "\" style=\"display:inline;vertical-align:middle;\" /></a></td></tr>\n",
       "<tr><td>3</td><td>Variable</td><td></td><td><a class=\"ProveItLink\" href=\"../../../../__pv_it/cbdfda466482236edba0ce44ac7ef39cda0af7a40/expr.ipynb\"><img src=\"data:image/png;base64,iVBORw0KGgoAAAANSUhEUgAAAAkAAAAJBAMAAAASvxsjAAAALVBMVEX///9mZmbc3NxUVFSYmJhE\n",
       "REQiIiIyMjK6uroQEBDMzMyIiIh2dnbu7u4AAABgFDGoAAAAAXRSTlMAQObYZgAAADZJREFUCNdj\n",
       "YOA9s3sBA8PKBvYEBt7ZDKwODMwPGICALwBE6m0Asx0YGIDiAgw8QJUyu/cyAAAmuwmycZ8WfQAA\n",
       "AABJRU5ErkJggg==\n",
       "\" style=\"display:inline;vertical-align:middle;\" /></a></td></tr>\n",
       "</table>\n"
      ],
      "text/plain": [
       "0. (a , a , a , a , a , b , b , c , c , b , c)\n",
       "   core type: ExprTuple\n",
       "   sub-expressions: 1, 1, 1, 1, 1, 2, 2, 3, 3, 2, 3\n",
       "1. a\n",
       "   core type: Variable\n",
       "   sub-expressions: \n",
       "2. b\n",
       "   core type: Variable\n",
       "   sub-expressions: \n",
       "3. c\n",
       "   core type: Variable\n",
       "   sub-expressions: "
      ]
     },
     "execution_count": 4,
     "metadata": {},
     "output_type": "execute_result"
    }
   ],
   "source": [
    "# display the expression information\n",
    "expr.exprInfo()"
   ]
  },
  {
   "cell_type": "code",
   "execution_count": null,
   "metadata": {},
   "outputs": [],
   "source": []
  }
 ],
 "metadata": {
  "kernelspec": {
   "display_name": "Python 3",
   "language": "python",
   "name": "python3"
  }
 },
 "nbformat": 4,
 "nbformat_minor": 0
}
