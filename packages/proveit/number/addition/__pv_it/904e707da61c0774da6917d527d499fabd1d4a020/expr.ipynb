{
 "cells": [
  {
   "cell_type": "markdown",
   "metadata": {},
   "source": [
    "Expression of type <a class=\"ProveItLink\" href=\"../../../../../../doc/html/api/proveit.logic.InSet.html\">InSet</a>\n",
    "=======================\n",
    "# from context <a class=\"ProveItLink\" href=\"../../_context_.ipynb\">proveit.number.addition</a>"
   ]
  },
  {
   "cell_type": "code",
   "execution_count": 1,
   "metadata": {},
   "outputs": [],
   "source": [
    "# import Expression classes needed to build the expression\n",
    "from proveit._common_ import c\n",
    "from proveit.logic import InSet\n",
    "from proveit.number import Add, Complexes"
   ]
  },
  {
   "cell_type": "code",
   "execution_count": 2,
   "metadata": {},
   "outputs": [
    {
     "data": {
      "text/html": [
       "<strong id=\"expr\">expr:</strong> <a class=\"ProveItLink\" href=\"expr.ipynb\"><img src=\"data:image/png;base64,iVBORw0KGgoAAAANSUhEUgAAAGIAAAAVBAMAAABPrCZEAAAAMFBMVEX////c3NwiIiJERESqqqqY\n",
       "mJh2dnZmZmYQEBDu7u4yMjJUVFTMzMyIiIi6uroAAAAs73DqAAAAAXRSTlMAQObYZgAAAWBJREFU\n",
       "OMtjYCAd8F3ALh6HU8dpHOLsBzCELq36oVzAwLASl1EL0AXO/WOY9ncDAy+yoyYiKwhD08DKHcDA\n",
       "4L+BgWMCkqAvsooZEIrzlpIS2LpIDpBbNzC8YsClg9kBTJ2KhPILpEH6LzCUgai0uwdQdIAF2ApA\n",
       "TEZLmFjBMwhjKRCfeMClgKIDLMACdguzAFSMJ8EVwugD6u5lYA5A1gER4GsAsSczwHU8hTD+MTBw\n",
       "f0DzB0SAB0y+UFKC+JzT4BhcB78BmFW1apXGqlWrGWACEB2ICF7JDaFbGBjkL6DZARGAuGoSIn7A\n",
       "OiYwmAKNBHoCxR8QAVawz7kD4KEdBzSIT5MhHShYwMCGEroQAUjocurBLdltO2Ge8QSGR0Bm2d2b\n",
       "qDEIFuB6AGZL1cBDq+h/N1CMQ4BAKmHwXqSEkihZE5A4b5FlcnElalypnXMBLh3SOMS5BXDpYMSR\n",
       "a+/gUA8AGzRZUCuK4Z0AAAAASUVORK5CYII=\n",
       "\" style=\"display:inline;vertical-align:middle;\" /></a><br>"
      ],
      "text/plain": [
       "expr: (c + c) in Complexes"
      ]
     },
     "execution_count": 2,
     "metadata": {},
     "output_type": "execute_result"
    }
   ],
   "source": [
    "# build up the expression from sub-expressions\n",
    "expr = InSet(Add(c, c), Complexes)"
   ]
  },
  {
   "cell_type": "code",
   "execution_count": 3,
   "metadata": {},
   "outputs": [
    {
     "name": "stdout",
     "output_type": "stream",
     "text": [
      "Passed sanity check: built 'expr' is the same as the stored Expression.\n"
     ]
    }
   ],
   "source": [
    "# check that the built expression is the same as the stored expression\n",
    "%check_expr"
   ]
  },
  {
   "cell_type": "code",
   "execution_count": 4,
   "metadata": {},
   "outputs": [
    {
     "data": {
      "text/html": [
       "<table><tr><th>&nbsp;</th><th>core type</th><th>sub-expressions</th><th>expression</th></tr>\n",
       "<tr><td>0</td><td>Operation</td><td>operator:&nbsp;1<br>operands:&nbsp;2<br></td><td><a class=\"ProveItLink\" href=\"expr.ipynb\"><img src=\"data:image/png;base64,iVBORw0KGgoAAAANSUhEUgAAAGIAAAAVBAMAAABPrCZEAAAAMFBMVEX////c3NwiIiJERESqqqqY\n",
       "mJh2dnZmZmYQEBDu7u4yMjJUVFTMzMyIiIi6uroAAAAs73DqAAAAAXRSTlMAQObYZgAAAWBJREFU\n",
       "OMtjYCAd8F3ALh6HU8dpHOLsBzCELq36oVzAwLASl1EL0AXO/WOY9ncDAy+yoyYiKwhD08DKHcDA\n",
       "4L+BgWMCkqAvsooZEIrzlpIS2LpIDpBbNzC8YsClg9kBTJ2KhPILpEH6LzCUgai0uwdQdIAF2ApA\n",
       "TEZLmFjBMwhjKRCfeMClgKIDLMACdguzAFSMJ8EVwugD6u5lYA5A1gER4GsAsSczwHU8hTD+MTBw\n",
       "f0DzB0SAB0y+UFKC+JzT4BhcB78BmFW1apXGqlWrGWACEB2ICF7JDaFbGBjkL6DZARGAuGoSIn7A\n",
       "OiYwmAKNBHoCxR8QAVawz7kD4KEdBzSIT5MhHShYwMCGEroQAUjocurBLdltO2Ge8QSGR0Bm2d2b\n",
       "qDEIFuB6AGZL1cBDq+h/N1CMQ4BAKmHwXqSEkihZE5A4b5FlcnElalypnXMBLh3SOMS5BXDpYMSR\n",
       "a+/gUA8AGzRZUCuK4Z0AAAAASUVORK5CYII=\n",
       "\" style=\"display:inline;vertical-align:middle;\" /></a></td></tr>\n",
       "<tr><td>1</td><td>Literal</td><td></td><td><a class=\"ProveItLink\" href=\"../../../../logic/set_theory/membership/__pv_it/088cbc857536a28d4119ad9639a84270ccb0545d0/expr.ipynb\"><img src=\"data:image/png;base64,iVBORw0KGgoAAAANSUhEUgAAAAwAAAAMBAMAAACkW0HUAAAALVBMVEX///+qqqpmZmZUVFQQEBC6\n",
       "urpERETc3NyYmJjMzMwiIiIyMjKIiIju7u4AAACYsrA9AAAAAXRSTlMAQObYZgAAADxJREFUCNdj\n",
       "YOA9vWrVBgaG2b0MQMCeCyIZ2ArA1DUwyRCyahVIyWQI7xaEYm4AU7xLIdxqTQgtvGvVBgCkcQ7e\n",
       "geM/tQAAAABJRU5ErkJggg==\n",
       "\" style=\"display:inline;vertical-align:middle;\" /></a></td></tr>\n",
       "<tr><td>2</td><td>ExprTuple</td><td>3, 4</td><td><a class=\"ProveItLink\" href=\"../cd4b8988eff8fb49b088981b69acec4169ceb5c90/expr.ipynb\"><img src=\"data:image/png;base64,iVBORw0KGgoAAAANSUhEUgAAAE8AAAAVBAMAAAD1D64kAAAAMFBMVEX////c3NwiIiJERESqqqqY\n",
       "mJh2dnZmZmYQEBDu7u4yMjJUVFTMzMyIiIi6uroAAAAs73DqAAAAAXRSTlMAQObYZgAAAUBJREFU\n",
       "KM9jYCAa8F0grCYORJzGq4RXa32TOQP7ASBzJT51PO8fcObfZmBYANSCbDOnAJrCgK0MDCy/GRjC\n",
       "GBg4JiCJs6C5l3VCA5CsZmCYwcDwigGPQnbGDUByLgMDswNDGcjGtLsHUBTCBKbzJUAE2AoYlgKp\n",
       "Ew+4FFAUwgSOsQRArVrA0AfU38vAHICsEC5wjA+qkK+B4R8DA/cHNDfCBSbzQK3m+QBSyG8Acfmq\n",
       "VYu6Vq3aABdgYOCasAGusIWBQf4CmolwAdYEkEJOsNWmQAOADkFxI1iAE8QyfQskHk1gYF3AkA50\n",
       "UgEDG0rwgAXmg/zNvfkm52NLcPA8AnLL7t5EDXCQwIyPINZx/R/7QI59wMAhgCtmHiKxZ4Dciytt\n",
       "BiCxc/ElMySFnMBkxiCNK8kisblB7mMkIivcYWAAALlTWSp4xoFcAAAAAElFTkSuQmCC\n",
       "\" style=\"display:inline;vertical-align:middle;\" /></a></td></tr>\n",
       "<tr><td>3</td><td>Operation</td><td>operator:&nbsp;5<br>operands:&nbsp;6<br></td><td><a class=\"ProveItLink\" href=\"../835f51cc5f7c025f46a68077697f0e2a3c40db810/expr.ipynb\"><img src=\"data:image/png;base64,iVBORw0KGgoAAAANSUhEUgAAACsAAAAOBAMAAABEEvh2AAAAMFBMVEX///+qqqpmZmbc3NxUVFSY\n",
       "mJhEREQiIiIyMjK6uroQEBDMzMyIiIh2dnbu7u4AAAA4MM1YAAAAAXRSTlMAQObYZgAAAGRJREFU\n",
       "GNNjYIADPgMGbIDxABHCfHfPbEARhgjsmsBRgCIMFuBbw8AWgCwMEWD5gGY2RIA/Acxh6uhoX9HR\n",
       "4QATsD+AphoiwA80GMVsiACLAgMvigOhArpnzqF6By6A1/OcSMIAeQEiyOGBraQAAAAASUVORK5C\n",
       "YII=\n",
       "\" style=\"display:inline;vertical-align:middle;\" /></a></td></tr>\n",
       "<tr><td>4</td><td>Literal</td><td></td><td><a class=\"ProveItLink\" href=\"../../../sets/complex/__pv_it/c357845f93a5a2d9f649129d299e7ec28dda4b960/expr.ipynb\"><img src=\"data:image/png;base64,iVBORw0KGgoAAAANSUhEUgAAAA8AAAAOBAMAAAACpFvcAAAAMFBMVEX////c3NyqqqqYmJhUVFR2\n",
       "dnbu7u66urrMzMxmZmZEREQQEBAyMjIiIiKIiIgAAAB7fvZ0AAAAAXRSTlMAQObYZgAAAGVJREFU\n",
       "CNdjYGDgu3N+70oGBgaO+gK2+CdAhoEzAwPTFwYG5oQNQN4UBgZORgcgI4+BIZM9gAEMWpkMoAx2\n",
       "KCOLAyrFk+AAYTAHgBhsQLy4DkjUJjAwsHg9Y6taBpLsvP/bnYEBACkBFGQfBv8RAAAAAElFTkSu\n",
       "QmCC\n",
       "\" style=\"display:inline;vertical-align:middle;\" /></a></td></tr>\n",
       "<tr><td>5</td><td>Literal</td><td></td><td><a class=\"ProveItLink\" href=\"../3e6688136fa3c7aefbebe51301b7c3ebf0b69c440/expr.ipynb\"><img src=\"data:image/png;base64,iVBORw0KGgoAAAANSUhEUgAAAA4AAAAOBAMAAADtZjDiAAAAJFBMVEX///+6urpUVFQQEBAiIiIy\n",
       "MjJmZmaIiIiqqqrc3Nzu7u4AAACgHpL+AAAAAXRSTlMAQObYZgAAAB5JREFUCNdjYGBgWMkAAe2k\n",
       "0Kmhoc6hoUGk6BMHYgAHOwjcado9fwAAAABJRU5ErkJggg==\n",
       "\" style=\"display:inline;vertical-align:middle;\" /></a></td></tr>\n",
       "<tr><td>6</td><td>ExprTuple</td><td>7, 7</td><td><a class=\"ProveItLink\" href=\"../1c0bb617114f3df6312252662a222f4d927730940/expr.ipynb\"><img src=\"data:image/png;base64,iVBORw0KGgoAAAANSUhEUgAAACcAAAAVBAMAAAA3P+qgAAAAMFBMVEX////c3NwiIiJERESqqqqY\n",
       "mJh2dnZmZmYQEBDu7u4yMjJUVFTMzMyIiIi6uroAAAAs73DqAAAAAXRSTlMAQObYZgAAAM5JREFU\n",
       "GNNjYMAK+C6g8uNAxGk0RewHgMRKdK0LGBh4L6ALhjEwcExAF5zBwPAKw2ZmB4YyIMWZdvcAmA9m\n",
       "sBUwLAWyTzzgUgALghksCxj6gPK9DMwBYIVgBl8Dwz8GBu4PUNMgDJ4PIEF+A6gghAEUbGFgkIc5\n",
       "FcIAajcFKgAaGMDJAGUwsC5gSAcaVcDAdmC+ApQBctIjoIqyuzcZZnyEMhi4HjBwCEANfIjkTdYE\n",
       "KDsAJpiLFHQwQU5g0DFIQ9i8MIXcIPMY0QL0DgMDAOR2MjAvKGjTAAAAAElFTkSuQmCC\n",
       "\" style=\"display:inline;vertical-align:middle;\" /></a></td></tr>\n",
       "<tr><td>7</td><td>Variable</td><td></td><td><a class=\"ProveItLink\" href=\"../../../../__pv_it/cbdfda466482236edba0ce44ac7ef39cda0af7a40/expr.ipynb\"><img src=\"data:image/png;base64,iVBORw0KGgoAAAANSUhEUgAAAAkAAAAJBAMAAAASvxsjAAAALVBMVEX///9mZmbc3NxUVFSYmJhE\n",
       "REQiIiIyMjK6uroQEBDMzMyIiIh2dnbu7u4AAABgFDGoAAAAAXRSTlMAQObYZgAAADZJREFUCNdj\n",
       "YOA9s3sBA8PKBvYEBt7ZDKwODMwPGICALwBE6m0Asx0YGIDiAgw8QJUyu/cyAAAmuwmycZ8WfQAA\n",
       "AABJRU5ErkJggg==\n",
       "\" style=\"display:inline;vertical-align:middle;\" /></a></td></tr>\n",
       "</table>\n"
      ],
      "text/plain": [
       "0. (c + c) in Complexes\n",
       "   core type: Operation\n",
       "   operator: 1\n",
       "   operands: 2\n",
       "1. in\n",
       "   core type: Literal\n",
       "   sub-expressions: \n",
       "2. (c + c , Complexes)\n",
       "   core type: ExprTuple\n",
       "   sub-expressions: 3, 4\n",
       "3. c + c\n",
       "   core type: Operation\n",
       "   operator: 5\n",
       "   operands: 6\n",
       "4. Complexes\n",
       "   core type: Literal\n",
       "   sub-expressions: \n",
       "5. +\n",
       "   core type: Literal\n",
       "   sub-expressions: \n",
       "6. (c , c)\n",
       "   core type: ExprTuple\n",
       "   sub-expressions: 7, 7\n",
       "7. c\n",
       "   core type: Variable\n",
       "   sub-expressions: "
      ]
     },
     "execution_count": 4,
     "metadata": {},
     "output_type": "execute_result"
    }
   ],
   "source": [
    "# display the expression information\n",
    "expr.exprInfo()"
   ]
  },
  {
   "cell_type": "code",
   "execution_count": null,
   "metadata": {},
   "outputs": [],
   "source": []
  }
 ],
 "metadata": {
  "kernelspec": {
   "display_name": "Python 3",
   "language": "python",
   "name": "python3"
  }
 },
 "nbformat": 4,
 "nbformat_minor": 0
}
