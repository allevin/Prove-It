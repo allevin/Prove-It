{
 "cells": [
  {
   "cell_type": "markdown",
   "metadata": {},
   "source": [
    "Expression of type <a class=\"ProveItLink\" href=\"../../../../../../doc/html/api/proveit.ExprTuple.html\">ExprTuple</a>\n",
    "=======================\n",
    "# from context <a class=\"ProveItLink\" href=\"../../_context_.ipynb\">proveit.number.addition</a>"
   ]
  },
  {
   "cell_type": "code",
   "execution_count": 1,
   "metadata": {},
   "outputs": [],
   "source": [
    "# import Expression classes needed to build the expression\n",
    "from proveit import ExprTuple\n",
    "from proveit._common_ import CC, n\n",
    "from proveit.logic import InSet\n",
    "from proveit.number import Exp, RealsPos"
   ]
  },
  {
   "cell_type": "code",
   "execution_count": 2,
   "metadata": {},
   "outputs": [
    {
     "data": {
      "text/html": [
       "<strong id=\"expr\">expr:</strong> <a class=\"ProveItLink\" href=\"expr.ipynb\"><img src=\"data:image/png;base64,iVBORw0KGgoAAAANSUhEUgAAAHIAAAAbBAMAAABSCMbcAAAAMFBMVEX///+qqqp2dnYiIiJERESI\n",
       "iIhmZmYQEBDc3NyYmJgyMjLu7u5UVFTMzMy6uroAAACGxKilAAAAAXRSTlMAQObYZgAAAjhJREFU\n",
       "OMtjYCAOMGITfEeMThZUrgKI4D1Ahs47IGLXBpJ0TosLAlrFGgBkngQLPLP/foITzXa+ADSd8xgY\n",
       "uOf9ZLAFMi0YGDgKQGKPf83gnu4fgO6kWV/8V1UFwHWyXWDg2LqA4QeQGQPkJQBppv8CQCv+X0DV\n",
       "uZqBwaGH4YpUA8OpVctXrQKasICBgSeAD2TX/g0M7A+AtP4/kMr1qBpBfnFoY2DZ4QD35yQGBvYL\n",
       "bAlALcwTGO6DIus/yGKGFLAsd5Sx8QIQg30DWCfTBYTO7QwM/Qzs94BuY3NgCAep+d8AEg8Ey96a\n",
       "DbXzFQOGThYBhicMbJpAFucHhlNASv4Lwo0c3jBWEkQnD5JrmRLg4f6bwQdInf+JFPwNMNZKiM7H\n",
       "s0AiPJA0uAAmyfuXYRkoaP4idG6Bs+pAOtuNrQSQYrgA7rR/DGZAyv43WBhs23NjY2gI/QPb+YwF\n",
       "KY3xfoCxuD+Cda4HC7A3wFMkA0In29sD2HQC7VwDpOLBrtUBC22GKyuE+HN1JFbX/mU4AoomUNiy\n",
       "QnzPMwEm6QnReYcHkbQ44SHE94MhGGSA/cINnWZQD9jBJNWg8SngAdeJiBVgfL4H0+7/zWCx0ZUL\n",
       "ZTxmAKV4X4Yl6+Ghy/UAbsYCBv4L6FlRZjE09TVg5NLtcBZXAAOPAq7MzIkpowpn7W9g4DXAWQ6s\n",
       "RhfghgcQwxQgdsSpswddgAfhflC50IVTJwdaGcEQi/AJKJAZFRhIBy1gciIZOrMZKAAAoXiSo7Zk\n",
       "RYkAAAAASUVORK5CYII=\n",
       "\" style=\"display:inline;vertical-align:middle;\" /></a><br>"
      ],
      "text/plain": [
       "expr: (C in (RealsPos)^{n})"
      ]
     },
     "execution_count": 2,
     "metadata": {},
     "output_type": "execute_result"
    }
   ],
   "source": [
    "# build up the expression from sub-expressions\n",
    "expr = ExprTuple(InSet(CC, Exp(RealsPos, n)))"
   ]
  },
  {
   "cell_type": "code",
   "execution_count": 3,
   "metadata": {},
   "outputs": [
    {
     "name": "stdout",
     "output_type": "stream",
     "text": [
      "Passed sanity check: built 'expr' is the same as the stored Expression.\n"
     ]
    }
   ],
   "source": [
    "# check that the built expression is the same as the stored expression\n",
    "%check_expr"
   ]
  },
  {
   "cell_type": "code",
   "execution_count": 4,
   "metadata": {},
   "outputs": [
    {
     "data": {
      "text/html": [
       "<table><tr><th>&nbsp;</th><th>core type</th><th>sub-expressions</th><th>expression</th></tr>\n",
       "<tr><td>0</td><td>ExprTuple</td><td>1</td><td><a class=\"ProveItLink\" href=\"expr.ipynb\"><img src=\"data:image/png;base64,iVBORw0KGgoAAAANSUhEUgAAAHIAAAAbBAMAAABSCMbcAAAAMFBMVEX///+qqqp2dnYiIiJERESI\n",
       "iIhmZmYQEBDc3NyYmJgyMjLu7u5UVFTMzMy6uroAAACGxKilAAAAAXRSTlMAQObYZgAAAjhJREFU\n",
       "OMtjYCAOMGITfEeMThZUrgKI4D1Ahs47IGLXBpJ0TosLAlrFGgBkngQLPLP/foITzXa+ADSd8xgY\n",
       "uOf9ZLAFMi0YGDgKQGKPf83gnu4fgO6kWV/8V1UFwHWyXWDg2LqA4QeQGQPkJQBppv8CQCv+X0DV\n",
       "uZqBwaGH4YpUA8OpVctXrQKasICBgSeAD2TX/g0M7A+AtP4/kMr1qBpBfnFoY2DZ4QD35yQGBvYL\n",
       "bAlALcwTGO6DIus/yGKGFLAsd5Sx8QIQg30DWCfTBYTO7QwM/Qzs94BuY3NgCAep+d8AEg8Ey96a\n",
       "DbXzFQOGThYBhicMbJpAFucHhlNASv4Lwo0c3jBWEkQnD5JrmRLg4f6bwQdInf+JFPwNMNZKiM7H\n",
       "s0AiPJA0uAAmyfuXYRkoaP4idG6Bs+pAOtuNrQSQYrgA7rR/DGZAyv43WBhs23NjY2gI/QPb+YwF\n",
       "KY3xfoCxuD+Cda4HC7A3wFMkA0In29sD2HQC7VwDpOLBrtUBC22GKyuE+HN1JFbX/mU4AoomUNiy\n",
       "QnzPMwEm6QnReYcHkbQ44SHE94MhGGSA/cINnWZQD9jBJNWg8SngAdeJiBVgfL4H0+7/zWCx0ZUL\n",
       "ZTxmAKV4X4Yl6+Ghy/UAbsYCBv4L6FlRZjE09TVg5NLtcBZXAAOPAq7MzIkpowpn7W9g4DXAWQ6s\n",
       "RhfghgcQwxQgdsSpswddgAfhflC50IVTJwdaGcEQi/AJKJAZFRhIBy1gciIZOrMZKAAAoXiSo7Zk\n",
       "RYkAAAAASUVORK5CYII=\n",
       "\" style=\"display:inline;vertical-align:middle;\" /></a></td></tr>\n",
       "<tr><td>1</td><td>Operation</td><td>operator:&nbsp;2<br>operands:&nbsp;3<br></td><td><a class=\"ProveItLink\" href=\"../f26da7ad91e1e0c6087495c8d7a4341584c04f870/expr.ipynb\"><img src=\"data:image/png;base64,iVBORw0KGgoAAAANSUhEUgAAAGEAAAAYBAMAAAAYBY6ZAAAAMFBMVEX////MzMyqqqp2dnaIiIhE\n",
       "RETu7u4yMjKYmJjc3NxUVFQQEBAiIiJmZma6uroAAACABxMuAAAAAXRSTlMAQObYZgAAAapJREFU\n",
       "OMtjYCAMmBhIBaz01NHr57wAzHh7/vdKjgWoqvgc0HT0MTCw9f1gOAhiv/neydYd74CqQ4qh/Wt8\n",
       "+XYHuA5eAQbOlAKGn0Am838FoJH/BVB1lDEwBMxiEFWfwLC8vLq8HKizgIGBy4FvA1DO/h9IRT2q\n",
       "BhagkoC5DKyZAXB/NDMwcAvwXnjAwPT/Aoh/FSzK5n7mTAGIwZ0A1sEsgNCRzcAwn4FbToCB+/8E\n",
       "EN8JLCreBrXjOQOGDlYFhqcMvBYMDPpfEW7hDIOxLkN0cCG5ivkCVG79D6RgnABjVUB0vGkHiXBB\n",
       "0koBVK7+I0JHKpy1D6Rj9pnjCkgxtAHKOP8NzAWb/vrMGajP/4HteMuagNDB+AFmB5jBPQESbTAA\n",
       "0cH7cAEWHf5gV1mB2Tlw6U0Qf5R5YHFVNiisWCC+4mqASUdAdEhxIZICB8znnOeLEmachbDZzsGk\n",
       "baHxoRAJ1wEPXQaO6P9nYaE6/SKU8YYBlBIDGUrr4aHF/gBrVtCqgaaSCRhS2fgzEYcBhpAJgXxX\n",
       "hi7AVkBAxyx0Aa4JBHRwouVJBkcYAwAEMnAv693VrgAAAABJRU5ErkJggg==\n",
       "\" style=\"display:inline;vertical-align:middle;\" /></a></td></tr>\n",
       "<tr><td>2</td><td>Literal</td><td></td><td><a class=\"ProveItLink\" href=\"../../../../logic/set_theory/membership/__pv_it/088cbc857536a28d4119ad9639a84270ccb0545d0/expr.ipynb\"><img src=\"data:image/png;base64,iVBORw0KGgoAAAANSUhEUgAAAAwAAAAMBAMAAACkW0HUAAAALVBMVEX///+qqqpmZmZUVFQQEBC6\n",
       "urpERETc3NyYmJjMzMwiIiIyMjKIiIju7u4AAACYsrA9AAAAAXRSTlMAQObYZgAAADxJREFUCNdj\n",
       "YOA9vWrVBgaG2b0MQMCeCyIZ2ArA1DUwyRCyahVIyWQI7xaEYm4AU7xLIdxqTQgtvGvVBgCkcQ7e\n",
       "geM/tQAAAABJRU5ErkJggg==\n",
       "\" style=\"display:inline;vertical-align:middle;\" /></a></td></tr>\n",
       "<tr><td>3</td><td>ExprTuple</td><td>4, 5</td><td><a class=\"ProveItLink\" href=\"../608d8cfd3c4952bfcc57112e968180aa1054dce00/expr.ipynb\"><img src=\"data:image/png;base64,iVBORw0KGgoAAAANSUhEUgAAAGIAAAAbBAMAAAB1pkc0AAAAMFBMVEX///+qqqp2dnYiIiJERESI\n",
       "iIhmZmYQEBDc3NyYmJgyMjLu7u5UVFTMzMy6uroAAACGxKilAAAAAXRSTlMAQObYZgAAAhdJREFU\n",
       "OMudk09oE1EQxr/GZDfpbtKcvZiLBaHQQqGIIImnKli66qEIaoN489Jee5AcRFECtiJt6aFEkIqp\n",
       "kFwk4iU9eNBe3IPH0hZSighqC4W2lmSdeS95+/KH0jqQN7Pz3m9n5tsX4Hjr6pT8fRwRbH5M8BJd\n",
       "OQWxxsun4omI2Xs36dUhh8KvIrGd3P8SqVeLOS3EImAtHuIyhReB8ATnKn/nrblRp1F6YW80P+Uo\n",
       "wnAR/pDDAYV36ClNPuDF6dWeK4llIJXF97MZrObf5vNE5gDbifG7y0WYm+T7a3yyIAHuNfUEwY8p\n",
       "NcdLwHSNNB09M40NFt3jQnggCbMoiIDrEyXgBcx16sFIYYzPeBnO35DET7QRwTi2YFygKLKDVXLn\n",
       "9nRB70vC1roKpBubsSNcJ/ftUCfeSaKywIVteVdyjc1oFUs8clUnHjHxdPBS3E8JmYSFaxgilzwS\n",
       "6YxM1kSN7aB2F6I7jcjaFURBJMwmwvi10omgGu/JjYuu+urJSTnH8u2OXVXxmeVmrUI0ncXJa5JY\n",
       "s11FRNTksQPcYjD5uviM2ysP0NJb/x7xq4rw1aXv8Uf4YW+IpyjxZauAb+II3hSUWt2bis2hx9WV\n",
       "/aEpoFlJRd0O7IS+Nc0FE23EeRWVM4gOtBJ825vNUoPjFf2uaFshsWZbCdvvk/+Hz9t6CDstibu+\n",
       "zCxaVwInt8dinTkF8RD/Yf8AshyLnu3WQ48AAAAASUVORK5CYII=\n",
       "\" style=\"display:inline;vertical-align:middle;\" /></a></td></tr>\n",
       "<tr><td>4</td><td>Variable</td><td></td><td><a class=\"ProveItLink\" href=\"../../../../__pv_it/9242e69d4f2c65d04fc0527b82418c7c22c6da370/expr.ipynb\"><img src=\"data:image/png;base64,iVBORw0KGgoAAAANSUhEUgAAABEAAAAPBAMAAADwnzkiAAAAMFBMVEX////MzMyqqqp2dnaIiIhE\n",
       "RETu7u4yMjKYmJjc3NxUVFQQEBAiIiJmZma6uroAAACABxMuAAAAAXRSTlMAQObYZgAAAHRJREFU\n",
       "CNdjYGBgeHv+90qOBUDGm++dbN3xDgwMzP8VGBj4/gswMNj/A4oz1DMwMP2/AGJdZWDg/j8BxHJi\n",
       "YND/ygAF63/AWPUfYazz30AkH1Bx/QcQixvI8gfLWgFxNkgvSwGQ4DxflDDjLFgLR/T/syDDAbB9\n",
       "IeZrCwgeAAAAAElFTkSuQmCC\n",
       "\" style=\"display:inline;vertical-align:middle;\" /></a></td></tr>\n",
       "<tr><td>5</td><td>Operation</td><td>operator:&nbsp;6<br>operands:&nbsp;7<br></td><td><a class=\"ProveItLink\" href=\"../64f358e838fa850f3be4ce0d4249c8d3042117980/expr.ipynb\"><img src=\"data:image/png;base64,iVBORw0KGgoAAAANSUhEUgAAADQAAAAYBAMAAABHOMOVAAAAMFBMVEX////c3NwiIiJERESqqqqY\n",
       "mJh2dnZmZmYQEBDu7u4yMjJUVFTMzMyIiIi6uroAAAAs73DqAAAAAXRSTlMAQObYZgAAAQpJREFU\n",
       "KM9jYEAGLAw4ATNFUqy1b7OBFN8FVCnWBwwMU98HMB1gYDjNEPXZflXXBbiuGgYGyVsM/AIMDCsZ\n",
       "GAykGQ57CTDsWrVi1aoLDFxA6b0MLxgYeIHKDcQZmCcawHSxJjAw9DCU8zFwTABLsR2AS3E2MDB+\n",
       "YOh5w/CKAV2KwYSBz4ChLIChDCLFjTCQIR3q3qUQqUdRQBcxcIOFvKBSfSApCSUtB4TvXkDpf2Bd\n",
       "z5knIKTOo0ixv9mAKdUCsWvlVUwDTSFSp7kPwKWioHQ61F8OhnApmOMfMYCC14Zh8Xq4G9dBaQ4B\n",
       "9EgDBhQ01hLQpdjgEbgSXWoWnCWNLrURzmK8gCrDC/MFABd8P1j8LZu8AAAAAElFTkSuQmCC\n",
       "\" style=\"display:inline;vertical-align:middle;\" /></a></td></tr>\n",
       "<tr><td>6</td><td>Literal</td><td></td><td><a class=\"ProveItLink\" href=\"../../../exponentiation/__pv_it/deb2bf23cbccdd6e6791e1b35b5b9794ce12dbd50/expr.ipynb\"><img src=\"data:image/png;base64,iVBORw0KGgoAAAANSUhEUgAAACgAAAASBAMAAADbMYGVAAAAMFBMVEX///8QEBAiIiKYmJjc3Nzu\n",
       "7u7MzMx2dnZmZma6urpERESqqqoyMjJUVFSIiIgAAAAoDOMTAAAAAXRSTlMAQObYZgAAAOBJREFU\n",
       "GNNjYGB4+//u3Tt/GNAASGAXmhjnPyDBgSbI/g1IxKEJ8nxgYGdgQRPkX8BgDKRY6q7s62OYvmze\n",
       "2wAgb/7ZO1+AVDiDkYEQQ0HTBr4DQF59AgOIKmB4z7CNbcNZBu6vQN55kEACQwDDLQYGVobfDHwg\n",
       "fb8YGBxYHwAZciD3fWXg+gB1JjvQcJZvQIXsCgz8F6DO9GBgMOH7wPCUgaeBwd4B7EwGNjUG7s9c\n",
       "AiwPgO5jkWRgiF3/9+5dfQUG1nWl5Y+B7pv+1gE9bBhqGLCAE1jEWH9jEbT5A3IwAC4sP/1L6Qlu\n",
       "AAAAAElFTkSuQmCC\n",
       "\" style=\"display:inline;vertical-align:middle;\" /></a></td></tr>\n",
       "<tr><td>7</td><td>ExprTuple</td><td>8, 9</td><td><a class=\"ProveItLink\" href=\"../a46c0680b2fa7a40e97f2e93d90e97f1251e23040/expr.ipynb\"><img src=\"data:image/png;base64,iVBORw0KGgoAAAANSUhEUgAAAD8AAAAbBAMAAAA5TErMAAAAMFBMVEX///+qqqp2dnYiIiJERESI\n",
       "iIhmZmYQEBDc3NyYmJgyMjLu7u5UVFTMzMy6uroAAACGxKilAAAAAXRSTlMAQObYZgAAAVlJREFU\n",
       "KM9jYEAGjAzYwDsEkwVVhglM8h7AqQAitWsDTgUMoSDiJANuBcwNDAwcBQyzvvivqgrApoAVaAdb\n",
       "AgODQw/DFakGhlOrlq9aFYCsgPs3AwP7A6CCNgaWHQ5YTGCwZGC4zwBWwHQBq4IUBoZwvArmMzCc\n",
       "gijgQbWCL6Qj9BCQfr+BwQei4PEsoI8YeOBhyLOUYf8FoAMuMCwDKWg3thJADX5mB4b9QOf3P2Aw\n",
       "A5vwjGUDioINQFl5oNB+AagCtrcHUF0HlAW5DmjCGogbVkeiKshiYPjJDVRwgeEIRMEdngvw4AMR\n",
       "RQycv4Gx/b6BIRgaDgIeMAX7DYAx9I+ByUEWHA7vGUCR5cuwZD3MH9t/AMOhgIHDFSigxcDAfwEj\n",
       "ib1AMJcCw0YBQ8EERGwCDeM1wKOAExT+jujyrEgpCmR/FwNuMA2cFxRwynM4gKmJOBWwbWAgDADZ\n",
       "SVpTulqMaAAAAABJRU5ErkJggg==\n",
       "\" style=\"display:inline;vertical-align:middle;\" /></a></td></tr>\n",
       "<tr><td>8</td><td>Literal</td><td></td><td><a class=\"ProveItLink\" href=\"../../../sets/real/__pv_it/399ccec6a6e90df280e82734a8711cdb89199bc00/expr.ipynb\"><img src=\"data:image/png;base64,iVBORw0KGgoAAAANSUhEUgAAABsAAAATBAMAAACTqWsLAAAAMFBMVEX///8iIiK6urp2dnbu7u5m\n",
       "ZmaqqqrMzMxUVFTc3NyIiIgQEBBEREQyMjKYmJgAAAA9nvXMAAAAAXRSTlMAQObYZgAAAGxJREFU\n",
       "GNNjYIADNgYUwEMy9+2f83f3LkDIHpjBUJM7gaH37u27d4HCB6Yy8HgeQMhOZWAuwMflQFWs+HYC\n",
       "kMEB4c4WlE1A2H5gqiqPAzKXVb0BmctwZR0Kt4KjAJnLnHASxgN64TjDnftQswFmaSyXIBgH2QAA\n",
       "AABJRU5ErkJggg==\n",
       "\" style=\"display:inline;vertical-align:middle;\" /></a></td></tr>\n",
       "<tr><td>9</td><td>Variable</td><td></td><td><a class=\"ProveItLink\" href=\"../../../../__pv_it/39dbcd3ca0390345b51c6ef7785756419e2c14390/expr.ipynb\"><img src=\"data:image/png;base64,iVBORw0KGgoAAAANSUhEUgAAAAwAAAAJBAMAAAD0ltBnAAAAMFBMVEX///8QEBCYmJhmZmaqqqoi\n",
       "IiLMzMzu7u4yMjJ2dnZUVFTc3NxERESIiIi6uroAAABbPXqjAAAAAXRSTlMAQObYZgAAAERJREFU\n",
       "CNdj4Luz++5KBgZOrl6G+gSGd6wHGOofMBQAsX8BAwivYGBgsGBg+MTOwCDJwPSdk4H7HwPnATcG\n",
       "PgEG7rMOAGtQEUwHZIDZAAAAAElFTkSuQmCC\n",
       "\" style=\"display:inline;vertical-align:middle;\" /></a></td></tr>\n",
       "</table>\n"
      ],
      "text/plain": [
       "0. (C in (RealsPos)^{n})\n",
       "   core type: ExprTuple\n",
       "   sub-expressions: 1\n",
       "1. C in (RealsPos)^{n}\n",
       "   core type: Operation\n",
       "   operator: 2\n",
       "   operands: 3\n",
       "2. in\n",
       "   core type: Literal\n",
       "   sub-expressions: \n",
       "3. (C , (RealsPos)^{n})\n",
       "   core type: ExprTuple\n",
       "   sub-expressions: 4, 5\n",
       "4. C\n",
       "   core type: Variable\n",
       "   sub-expressions: \n",
       "5. (RealsPos)^{n}\n",
       "   core type: Operation\n",
       "   operator: 6\n",
       "   operands: 7\n",
       "6. Exp\n",
       "   core type: Literal\n",
       "   sub-expressions: \n",
       "7. (RealsPos , n)\n",
       "   core type: ExprTuple\n",
       "   sub-expressions: 8, 9\n",
       "8. RealsPos\n",
       "   core type: Literal\n",
       "   sub-expressions: \n",
       "9. n\n",
       "   core type: Variable\n",
       "   sub-expressions: "
      ]
     },
     "execution_count": 4,
     "metadata": {},
     "output_type": "execute_result"
    }
   ],
   "source": [
    "# display the expression information\n",
    "expr.exprInfo()"
   ]
  },
  {
   "cell_type": "code",
   "execution_count": null,
   "metadata": {},
   "outputs": [],
   "source": []
  }
 ],
 "metadata": {
  "kernelspec": {
   "display_name": "Python 3",
   "language": "python",
   "name": "python3"
  }
 },
 "nbformat": 4,
 "nbformat_minor": 0
}
