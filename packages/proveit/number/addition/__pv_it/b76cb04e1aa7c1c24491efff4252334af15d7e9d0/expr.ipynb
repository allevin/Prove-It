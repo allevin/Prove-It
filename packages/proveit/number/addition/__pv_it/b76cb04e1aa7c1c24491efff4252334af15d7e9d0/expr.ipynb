{
 "cells": [
  {
   "cell_type": "markdown",
   "metadata": {},
   "source": [
    "Expression of type <a class=\"ProveItLink\" href=\"../../../../../../doc/html/api/proveit.logic.Set.html\">Set</a>\n",
    "=======================\n",
    "# from context <a class=\"ProveItLink\" href=\"../../_context_.ipynb\">proveit.number.addition</a>"
   ]
  },
  {
   "cell_type": "code",
   "execution_count": 1,
   "metadata": {},
   "outputs": [],
   "source": [
    "# import Expression classes needed to build the expression\n",
    "from proveit.logic import InSet, Set\n",
    "from proveit.number import Neg, RealsNeg, two"
   ]
  },
  {
   "cell_type": "code",
   "execution_count": 2,
   "metadata": {},
   "outputs": [
    {
     "data": {
      "text/html": [
       "<strong id=\"expr\">expr:</strong> <a class=\"ProveItLink\" href=\"expr.ipynb\"><img src=\"data:image/png;base64,iVBORw0KGgoAAAANSUhEUgAAAHUAAAAaBAMAAAB7iA4AAAAAMFBMVEX///+6urp2dnaqqqoiIiIQ\n",
       "EBBERETu7u6IiIjc3NwyMjJUVFSYmJhmZmbMzMwAAAD0pS5FAAAAAXRSTlMAQObYZgAAAcFJREFU\n",
       "OMtjYGDgu8NAMmC+CKF3TSBdL8O0BBDJ8Z2BHBALIrgXgEjGBhQZHgFCerMQel8jROfeSmRguIem\n",
       "9NS3/FVRyObvQuhdDhfk3MDQb8DAhW5PwmyGZ1YTGMzSgKAARS8HwkjuAgaWDww8Cuh65zKwVSZg\n",
       "s5e1AC7IGs7A/ZGBPQDCY+9ycVkA1cv0AKteKYQg13cG3o8MDMkQ3qvjCHsx9bKBBC6huI8FGG26\n",
       "EM+nI7mZG8PNrCCvrkHR+x7oWSswi20Ckl6RU0ip6DzQl5yrQaxAFL3LgFgUzCpDhNVUFy8DJDW8\n",
       "KxkYjjwAsYAe5FziAgLARMELctp7sApRkBA0rGTZCpAtmNLAwOwB1YsA3Qxwva+R4ohXbgNyynMG\n",
       "EvUHgEQwch65wDAT5uYS5Phd3oOkyn4CLJxzkETfMjCcBCZCSEI5gKT3NfcDbPGrixDkdFLSdYCJ\n",
       "sDsi6WUyyMSmVwQpcv///w/UuxDCm3UPnhfyGJatN8CWJtHzPyxNMlgvgYQzOkDoxUj6TA0E8i/W\n",
       "PAgBVQzE652NJrWTKL1MYJ9xorqR4wEhvd7gUFlNTlHH6w5JXXvIKJ9zGCgDACT0ezmOfuZJAAAA\n",
       "AElFTkSuQmCC\n",
       "\" style=\"display:inline;vertical-align:middle;\" /></a><br>"
      ],
      "text/plain": [
       "expr: {(-2) in RealsNeg}"
      ]
     },
     "execution_count": 2,
     "metadata": {},
     "output_type": "execute_result"
    }
   ],
   "source": [
    "# build up the expression from sub-expressions\n",
    "expr = Set(InSet(Neg(two), RealsNeg))"
   ]
  },
  {
   "cell_type": "code",
   "execution_count": 3,
   "metadata": {},
   "outputs": [
    {
     "name": "stdout",
     "output_type": "stream",
     "text": [
      "Passed sanity check: built 'expr' is the same as the stored Expression.\n"
     ]
    }
   ],
   "source": [
    "# check that the built expression is the same as the stored expression\n",
    "%check_expr"
   ]
  },
  {
   "cell_type": "code",
   "execution_count": 4,
   "metadata": {},
   "outputs": [
    {
     "data": {
      "text/html": [
       "<table><tr><th>&nbsp;</th><th>core type</th><th>sub-expressions</th><th>expression</th></tr>\n",
       "<tr><td>0</td><td>Operation</td><td>operator:&nbsp;1<br>operands:&nbsp;2<br></td><td><a class=\"ProveItLink\" href=\"expr.ipynb\"><img src=\"data:image/png;base64,iVBORw0KGgoAAAANSUhEUgAAAHUAAAAaBAMAAAB7iA4AAAAAMFBMVEX///+6urp2dnaqqqoiIiIQ\n",
       "EBBERETu7u6IiIjc3NwyMjJUVFSYmJhmZmbMzMwAAAD0pS5FAAAAAXRSTlMAQObYZgAAAcFJREFU\n",
       "OMtjYGDgu8NAMmC+CKF3TSBdL8O0BBDJ8Z2BHBALIrgXgEjGBhQZHgFCerMQel8jROfeSmRguIem\n",
       "9NS3/FVRyObvQuhdDhfk3MDQb8DAhW5PwmyGZ1YTGMzSgKAARS8HwkjuAgaWDww8Cuh65zKwVSZg\n",
       "s5e1AC7IGs7A/ZGBPQDCY+9ycVkA1cv0AKteKYQg13cG3o8MDMkQ3qvjCHsx9bKBBC6huI8FGG26\n",
       "EM+nI7mZG8PNrCCvrkHR+x7oWSswi20Ckl6RU0ip6DzQl5yrQaxAFL3LgFgUzCpDhNVUFy8DJDW8\n",
       "KxkYjjwAsYAe5FziAgLARMELctp7sApRkBA0rGTZCpAtmNLAwOwB1YsA3Qxwva+R4ohXbgNyynMG\n",
       "EvUHgEQwch65wDAT5uYS5Phd3oOkyn4CLJxzkETfMjCcBCZCSEI5gKT3NfcDbPGrixDkdFLSdYCJ\n",
       "sDsi6WUyyMSmVwQpcv///w/UuxDCm3UPnhfyGJatN8CWJtHzPyxNMlgvgYQzOkDoxUj6TA0E8i/W\n",
       "PAgBVQzE652NJrWTKL1MYJ9xorqR4wEhvd7gUFlNTlHH6w5JXXvIKJ9zGCgDACT0ezmOfuZJAAAA\n",
       "AElFTkSuQmCC\n",
       "\" style=\"display:inline;vertical-align:middle;\" /></a></td></tr>\n",
       "<tr><td>1</td><td>Literal</td><td></td><td><a class=\"ProveItLink\" href=\"../../../../logic/set_theory/enumeration/__pv_it/07381ed5b23806e8d7914b78cb6667769e3708dd0/expr.ipynb\"><img src=\"data:image/png;base64,iVBORw0KGgoAAAANSUhEUgAAAB4AAAAOBAMAAADKyLEKAAAAMFBMVEX///8iIiIQEBCIiIjMzMzc\n",
       "3Nyqqqp2dnZEREQyMjK6urru7u5mZmZUVFSYmJgAAACI6eGPAAAAAXRSTlMAQObYZgAAALRJREFU\n",
       "CNdjYGDgu3Nm3wIGBJjHwN0PZW5yYGDgLWBgyITy8zcwMMQDxZyh/INAvD6BgcEFypcB4vjPDiBm\n",
       "TPFRrhs/LjMwMP//38rAwCbKEMPA9gEkE3fp0waG+AUMRxh4JkC01T9guPTOOICBEWgVH5C//wHD\n",
       "H5D4fqCz9oCMDGD4DLaegRXslLMMDMpAgxlOMmQxHDRgYG5gYLBk4D7KcIe7gOHC2rt9QCXsh40Z\n",
       "GCKMGQDRkC8N/Ph1XAAAAABJRU5ErkJggg==\n",
       "\" style=\"display:inline;vertical-align:middle;\" /></a></td></tr>\n",
       "<tr><td>2</td><td>ExprTuple</td><td>3</td><td><a class=\"ProveItLink\" href=\"../ac9a747fd4f4e24b452103a08e75c39742cec70f0/expr.ipynb\"><img src=\"data:image/png;base64,iVBORw0KGgoAAAANSUhEUgAAAG4AAAAaBAMAAACkxnQfAAAAMFBMVEX///+qqqp2dnYiIiJERESI\n",
       "iIhmZmYQEBDc3NyYmJgyMjLu7u5UVFTMzMy6uroAAACGxKilAAAAAXRSTlMAQObYZgAAAeVJREFU\n",
       "OMudlDtIw1AUhn/7fqS1g1NxKA7OxYKIoFRwUHwVHEQRLI6KUFcF6SBVxEHBQepSUAStaEEHcbGD\n",
       "gzp1EAcptFBQEHyBg1BsPcltkpsIlngg9+Rc8t3zvAHwCqMSEBdP1jCXF5eLjGHOGqHlhh5vRLPv\n",
       "LNYBOwBHTHbMJDEzDMzpvkt+jhwucGdPArYo6bSy48hiygeX3kF4HXf+OJp6SSivywzsxVq8TIQM\n",
       "zO9wBvRcApbzsGKaN1AgZVdLY1+EUIE7xiz3RCiUqnGmnMrZwhgj9awe7CrDVgF6mPWwo/rjOec7\n",
       "bklNa2Iyl4FWluwAF6fAxektY5DUgYYrUHJ+6c0S57hSUrHg+cY+qSUNt0fPk/R2ptZlJdTpUz9x\n",
       "VNBOihJy7IZEKUo5Q6oW0eJWrS6PFm6u3B8yp+mpzOW5Ptheshp/R6TmOawhilU5zlO+f+lxjvvG\n",
       "Fal+jrsHtmmw2BBscFxeyKn1/MIo5Kqzk9paWoPyjrub40y+Pr5/b6RKXPOq1Spxx8xam1Pmegh7\n",
       "J0pFTSk0knd7XDeO8pyheZfVUyeuCATq8q8xNkX+vn+XcXiCmnvE5KLOvd0CG+F13f51Ha5LzF2s\n",
       "ojYua+5vzCne9YaA4f/SsrRuGuZm8W/5AZKcdiGYt4zMAAAAAElFTkSuQmCC\n",
       "\" style=\"display:inline;vertical-align:middle;\" /></a></td></tr>\n",
       "<tr><td>3</td><td>Operation</td><td>operator:&nbsp;4<br>operands:&nbsp;5<br></td><td><a class=\"ProveItLink\" href=\"../ac644326b018894104724dfb5574be66dc509ce40/expr.ipynb\"><img src=\"data:image/png;base64,iVBORw0KGgoAAAANSUhEUgAAAF0AAAAVBAMAAADWVP/xAAAAMFBMVEX////c3NwiIiJERESqqqqY\n",
       "mJh2dnZmZmYQEBDu7u4yMjJUVFTMzMyIiIi6uroAAAAs73DqAAAAAXRSTlMAQObYZgAAAVdJREFU\n",
       "KM9jYCAV8F1A4bI+IKD+NIIpXmXHwFCDJh/12X5VF5KZK+Esxg0M9x0YuNANNJBmOOwlwOBsDAQT\n",
       "GHgRWrknMDB9YGBNQFcvzsA80QDG45gAl+DoZOD+x8DZAOFx3lJSWgBVz3YArv4VwiCunwzs/xgY\n",
       "TCC8U5EI85HUl6HYzfSTgSEd4hlLJPdwI9yzFEX9eaDjvcAsZgEk9Y+i4Lw+FPWLgfgFmDUZ4V8J\n",
       "JS0HOA/oYMZFSiAAjCh2kLXnweIvQEJQ/z5nnoCsHgFuM8DVn0YKT/Y3G+C8FiTlLAUMgjD3TEIO\n",
       "/5VX4TxTJPXHGRgCgQkAEnkBSOpPcx+A8dIRyhnV0tIVYCKcekjq2RwMYbxHSIH///9/oPp1EJ5U\n",
       "DTy92TAsXg8LIQ4BtOQCSw8M3osg4YMKMJIX2wX86X8lGn8WgfwijcbfSEA9I6r9vAfwqgYAf55O\n",
       "sM051vsAAAAASUVORK5CYII=\n",
       "\" style=\"display:inline;vertical-align:middle;\" /></a></td></tr>\n",
       "<tr><td>4</td><td>Literal</td><td></td><td><a class=\"ProveItLink\" href=\"../../../../logic/set_theory/membership/__pv_it/088cbc857536a28d4119ad9639a84270ccb0545d0/expr.ipynb\"><img src=\"data:image/png;base64,iVBORw0KGgoAAAANSUhEUgAAAAwAAAAMBAMAAACkW0HUAAAALVBMVEX///+qqqpmZmZUVFQQEBC6\n",
       "urpERETc3NyYmJjMzMwiIiIyMjKIiIju7u4AAACYsrA9AAAAAXRSTlMAQObYZgAAADxJREFUCNdj\n",
       "YOA9vWrVBgaG2b0MQMCeCyIZ2ArA1DUwyRCyahVIyWQI7xaEYm4AU7xLIdxqTQgtvGvVBgCkcQ7e\n",
       "geM/tQAAAABJRU5ErkJggg==\n",
       "\" style=\"display:inline;vertical-align:middle;\" /></a></td></tr>\n",
       "<tr><td>5</td><td>ExprTuple</td><td>6, 7</td><td><a class=\"ProveItLink\" href=\"../bdfadc8021bf1a0aea4079424a86c9888019dd010/expr.ipynb\"><img src=\"data:image/png;base64,iVBORw0KGgoAAAANSUhEUgAAAE4AAAAaBAMAAADrm3fPAAAAMFBMVEX///+qqqp2dnYiIiJERESI\n",
       "iIhmZmYQEBDc3NyYmJgyMjLu7u5UVFTMzMy6uroAAACGxKilAAAAAXRSTlMAQObYZgAAAVxJREFU\n",
       "OMtjYGB4x0AIKIAI3gME1d0BEbs2EFTHGgAkTjIQBhYMDBwFCG5blh+EMeuL/6qqAIREDAMDWwKc\n",
       "x3GAIV4AwnToYbgi1cAg4gIEQHft38DA/gCujmcDA/MHqLo2BpYdDnAZ5gkM9xGms1cz8PyDq2O6\n",
       "gFDH5sAQjlDH9ZuBDbs6zg8Mp1A8xvwbro4HyV6+3ww+KOruK8DVPZ7VABfm/cuwDEXdEijt0G5s\n",
       "JYAQ5vjHYAYkFxuDwAOwe2HmPWNBiifujyB1KOEJU8f29gCKeWuQlDEmMHTA3bc6EkndX4YjSOqu\n",
       "MTDMYNgAVXeH5wLCvz8YgpF0GSmpGXB/hoWfgAdy+L1HCrz///8bcNc3gNOBL8OS9XAfMy1g4L+A\n",
       "lob4GjDTFVcAA48CmhgnlvS3v4GB14AIdVOA2BFNLACLOlsg7iKc7DlBaZlRgaC6FjA5kaC6bAai\n",
       "AQCz91gJBINLGgAAAABJRU5ErkJggg==\n",
       "\" style=\"display:inline;vertical-align:middle;\" /></a></td></tr>\n",
       "<tr><td>6</td><td>Operation</td><td>operator:&nbsp;8<br>operand:&nbsp;9<br></td><td><a class=\"ProveItLink\" href=\"../9cd64560928a3eea5b8bd346c0fe76e791b1ec050/expr.ipynb\"><img src=\"data:image/png;base64,iVBORw0KGgoAAAANSUhEUgAAABkAAAAOBAMAAAAoFKpzAAAAMFBMVEX///+YmJh2dnbMzMwQEBDu\n",
       "7u6qqqqIiIhUVFRERERmZma6uroiIiIyMjLc3NwAAABSazM2AAAAAXRSTlMAQObYZgAAAFtJREFU\n",
       "CNdjYIACvlU3NzDAwQsG9m8IXisDw3kEzyWAoR+h9H4Aw3okjUCVAUgc5k/IUrwTGBjengGB00De\n",
       "SmQp9gZkXhYD3wOEGQsYGBG8N0pKa5As+///DwMAyBMb8hv9jf4AAAAASUVORK5CYII=\n",
       "\" style=\"display:inline;vertical-align:middle;\" /></a></td></tr>\n",
       "<tr><td>7</td><td>Literal</td><td></td><td><a class=\"ProveItLink\" href=\"../../../sets/real/__pv_it/ae6abf015b290ff2a5b5ccb58f19177a82c6074b0/expr.ipynb\"><img src=\"data:image/png;base64,iVBORw0KGgoAAAANSUhEUgAAABsAAAAOBAMAAAAs4XpOAAAAMFBMVEX///8iIiK6urp2dnbu7u5m\n",
       "ZmaqqqrMzMxUVFTc3NyIiIgQEBBEREQyMjKYmJgAAAA9nvXMAAAAAXRSTlMAQObYZgAAAF1JREFU\n",
       "CNdjePvn/N29Cxjg4MAMhprcCQw5Z4DAAcidysDjeQAhO5WBuQAflwNVseLbCQjubEHZBCSLpqry\n",
       "OCBzWdUbkLkMV9ahcCs4ClDsTTgJ4wG9cJzhzn2o2QB/7ytaZzHgkAAAAABJRU5ErkJggg==\n",
       "\" style=\"display:inline;vertical-align:middle;\" /></a></td></tr>\n",
       "<tr><td>8</td><td>Literal</td><td></td><td><a class=\"ProveItLink\" href=\"../../../negation/__pv_it/3fc7a08bb9735faa20ef8e175f6ea95511acc9c70/expr.ipynb\"><img src=\"data:image/png;base64,iVBORw0KGgoAAAANSUhEUgAAAA4AAAACBAMAAACapPCZAAAAElBMVEX///+6uroiIiIyMjLc3NwA\n",
       "AAA6l9OrAAAAAXRSTlMAQObYZgAAABBJREFUCNdjcFYCAUUGKAAADR4BD8/TF5gAAAAASUVORK5C\n",
       "YII=\n",
       "\" style=\"display:inline;vertical-align:middle;\" /></a></td></tr>\n",
       "<tr><td>9</td><td>Literal</td><td></td><td><a class=\"ProveItLink\" href=\"../../../numeral/__pv_it/77d407a64829263cdc16415becd4c2293f77a4bf0/expr.ipynb\"><img src=\"data:image/png;base64,iVBORw0KGgoAAAANSUhEUgAAAAkAAAAOBAMAAAAPuiubAAAAMFBMVEX///+YmJh2dnbMzMwQEBAi\n",
       "IiLu7u6qqqqIiIhUVFS6urpEREQyMjJmZmbc3NwAAACOMKdoAAAAAXRSTlMAQObYZgAAAFBJREFU\n",
       "CNdj4Lt7egEDw0sGju8MDNMYGOIZGFwSGOYvYDifwHAfKAEUSQASzJ9ATJ4NIPI2iOCYACJrGfge\n",
       "MDBfYGB8wPBUSekqUPH//18ZAIliFhc3zESNAAAAAElFTkSuQmCC\n",
       "\" style=\"display:inline;vertical-align:middle;\" /></a></td></tr>\n",
       "</table>\n"
      ],
      "text/plain": [
       "0. {(-2) in RealsNeg}\n",
       "   core type: Operation\n",
       "   operator: 1\n",
       "   operands: 2\n",
       "1. Set\n",
       "   core type: Literal\n",
       "   sub-expressions: \n",
       "2. ((-2) in RealsNeg)\n",
       "   core type: ExprTuple\n",
       "   sub-expressions: 3\n",
       "3. (-2) in RealsNeg\n",
       "   core type: Operation\n",
       "   operator: 4\n",
       "   operands: 5\n",
       "4. in\n",
       "   core type: Literal\n",
       "   sub-expressions: \n",
       "5. (-2 , RealsNeg)\n",
       "   core type: ExprTuple\n",
       "   sub-expressions: 6, 7\n",
       "6. -2\n",
       "   core type: Operation\n",
       "   operator: 8\n",
       "   operand: 9\n",
       "7. RealsNeg\n",
       "   core type: Literal\n",
       "   sub-expressions: \n",
       "8. -\n",
       "   core type: Literal\n",
       "   sub-expressions: \n",
       "9. 2\n",
       "   core type: Literal\n",
       "   sub-expressions: "
      ]
     },
     "execution_count": 4,
     "metadata": {},
     "output_type": "execute_result"
    }
   ],
   "source": [
    "# display the expression information\n",
    "expr.exprInfo()"
   ]
  },
  {
   "cell_type": "code",
   "execution_count": null,
   "metadata": {},
   "outputs": [],
   "source": []
  }
 ],
 "metadata": {
  "kernelspec": {
   "display_name": "Python 3",
   "language": "python",
   "name": "python3"
  }
 },
 "nbformat": 4,
 "nbformat_minor": 0
}
