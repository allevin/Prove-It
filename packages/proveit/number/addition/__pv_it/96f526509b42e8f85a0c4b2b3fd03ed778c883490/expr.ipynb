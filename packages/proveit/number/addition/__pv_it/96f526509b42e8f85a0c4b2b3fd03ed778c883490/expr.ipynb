{
 "cells": [
  {
   "cell_type": "markdown",
   "metadata": {},
   "source": [
    "Expression of type <a class=\"ProveItLink\" href=\"../../../../../../doc/html/api/proveit.logic.Equals.html\">Equals</a>\n",
    "=======================\n",
    "# from context <a class=\"ProveItLink\" href=\"../../_context_.ipynb\">proveit.number.addition</a>"
   ]
  },
  {
   "cell_type": "code",
   "execution_count": 1,
   "metadata": {},
   "outputs": [],
   "source": [
    "# import Expression classes needed to build the expression\n",
    "from proveit.logic import Equals\n",
    "from proveit.number import Add, one, three, zero"
   ]
  },
  {
   "cell_type": "code",
   "execution_count": 2,
   "metadata": {},
   "outputs": [
    {
     "data": {
      "text/html": [
       "<strong id=\"expr\">expr:</strong> <a class=\"ProveItLink\" href=\"expr.ipynb\"><img src=\"data:image/png;base64,iVBORw0KGgoAAAANSUhEUgAAAQ8AAAAVBAMAAACqO3ZEAAAAMFBMVEX////c3NwiIiJERESqqqqY\n",
       "mJh2dnZmZmYQEBDu7u4yMjJUVFTMzMyIiIi6uroAAAAs73DqAAAAAXRSTlMAQObYZgAAAl1JREFU\n",
       "SMfNlj1oFEEUx//xPvZ2s7u5ziJKDrGwUgtTWOVqIeSqFBZyIJjqMI2JhBQnpNEiWbVIMM0RCJIN\n",
       "yKWO4FU2Fm5jZzCkCgHBiAYMJDo7s7uXnXl7O6UP3n68fb/Hn3k7H8B/Y24gnLTSvl6RB0Tsu74G\n",
       "jn+KvOBJX1f3FoFFBZLz7EcP6zB6Sp7dpYriLrLwLeHmhMzcxKseLLmQkncZ7hnQUYRYHlX09R9k\n",
       "4E7A3dz9EDMvxc2pwemg1ExH1bzHdfwEphUhe1Ty+m4sxKxKeMUTjm8xMylul7pwj2G201E1b4pX\n",
       "WlOEPKeS4cRCioGEH0G4wozMwv4F3MkTAj62hbo8Bzp6QhJ8jj3OUcxYEzZLmckXYrHfsjwrCTGa\n",
       "ukIifJM9bmYJOQHu5Qr5uB3W5QNg+NzC+WI1NIXE+DK7LQ8Qcpg/Ig7j3bY0IpV93RGJ8HP2eD6g\n",
       "NZ/zhWDFg/1DEjKiLSTCJSELvn/D97ejn/V3JKQfVfOuABONwUIu4EIIa+HGC9HCBF9iL0ugp2/x\n",
       "OL815l8vrCRaY1zjdjtsTV1rRPr4OHsbpxi2oJVrwP281pwCt6ooyUtrQfNnTfBwes6QzHWs9TSm\n",
       "7xe4J8T0FYF8IQl+wF5Cn19520gzq6337PpOqqTkFecXWBcseZt2a1Sy8fT0SVpIglfYml+pXiwx\n",
       "mdrj2lRUjahL/LPsZGnWCDzc1ZKdTT1HlIPM00Uq0lI+Tw8+nKSPQK3+MSDD3uidbEz6GKBrHB+N\n",
       "nLYdvUrDVSU01NUXwvGhQDhpTk+v0lcidlVfCMP/AZiIAYEyveBzAAAAAElFTkSuQmCC\n",
       "\" style=\"display:inline;vertical-align:middle;\" /></a><br>"
      ],
      "text/plain": [
       "expr: ((1 + 0) + 1 + 3) = (1 + 1 + 3)"
      ]
     },
     "execution_count": 2,
     "metadata": {},
     "output_type": "execute_result"
    }
   ],
   "source": [
    "# build up the expression from sub-expressions\n",
    "expr = Equals(Add(Add(one, zero), one, three), Add(one, one, three))"
   ]
  },
  {
   "cell_type": "code",
   "execution_count": 3,
   "metadata": {},
   "outputs": [
    {
     "name": "stdout",
     "output_type": "stream",
     "text": [
      "Passed sanity check: built 'expr' is the same as the stored Expression.\n"
     ]
    }
   ],
   "source": [
    "# check that the built expression is the same as the stored expression\n",
    "%check_expr"
   ]
  },
  {
   "cell_type": "code",
   "execution_count": 4,
   "metadata": {},
   "outputs": [
    {
     "data": {
      "text/html": [
       "<table><tr><th>&nbsp;</th><th>core type</th><th>sub-expressions</th><th>expression</th></tr>\n",
       "<tr><td>0</td><td>Operation</td><td>operator:&nbsp;1<br>operands:&nbsp;2<br></td><td><a class=\"ProveItLink\" href=\"expr.ipynb\"><img src=\"data:image/png;base64,iVBORw0KGgoAAAANSUhEUgAAAQ8AAAAVBAMAAACqO3ZEAAAAMFBMVEX////c3NwiIiJERESqqqqY\n",
       "mJh2dnZmZmYQEBDu7u4yMjJUVFTMzMyIiIi6uroAAAAs73DqAAAAAXRSTlMAQObYZgAAAl1JREFU\n",
       "SMfNlj1oFEEUx//xPvZ2s7u5ziJKDrGwUgtTWOVqIeSqFBZyIJjqMI2JhBQnpNEiWbVIMM0RCJIN\n",
       "yKWO4FU2Fm5jZzCkCgHBiAYMJDo7s7uXnXl7O6UP3n68fb/Hn3k7H8B/Y24gnLTSvl6RB0Tsu74G\n",
       "jn+KvOBJX1f3FoFFBZLz7EcP6zB6Sp7dpYriLrLwLeHmhMzcxKseLLmQkncZ7hnQUYRYHlX09R9k\n",
       "4E7A3dz9EDMvxc2pwemg1ExH1bzHdfwEphUhe1Ty+m4sxKxKeMUTjm8xMylul7pwj2G201E1b4pX\n",
       "WlOEPKeS4cRCioGEH0G4wozMwv4F3MkTAj62hbo8Bzp6QhJ8jj3OUcxYEzZLmckXYrHfsjwrCTGa\n",
       "ukIifJM9bmYJOQHu5Qr5uB3W5QNg+NzC+WI1NIXE+DK7LQ8Qcpg/Ig7j3bY0IpV93RGJ8HP2eD6g\n",
       "NZ/zhWDFg/1DEjKiLSTCJSELvn/D97ejn/V3JKQfVfOuABONwUIu4EIIa+HGC9HCBF9iL0ugp2/x\n",
       "OL815l8vrCRaY1zjdjtsTV1rRPr4OHsbpxi2oJVrwP281pwCt6ooyUtrQfNnTfBwes6QzHWs9TSm\n",
       "7xe4J8T0FYF8IQl+wF5Cn19520gzq6337PpOqqTkFecXWBcseZt2a1Sy8fT0SVpIglfYml+pXiwx\n",
       "mdrj2lRUjahL/LPsZGnWCDzc1ZKdTT1HlIPM00Uq0lI+Tw8+nKSPQK3+MSDD3uidbEz6GKBrHB+N\n",
       "nLYdvUrDVSU01NUXwvGhQDhpTk+v0lcidlVfCMP/AZiIAYEyveBzAAAAAElFTkSuQmCC\n",
       "\" style=\"display:inline;vertical-align:middle;\" /></a></td></tr>\n",
       "<tr><td>1</td><td>Literal</td><td></td><td><a class=\"ProveItLink\" href=\"../../../../logic/equality/__pv_it/2fb26078095930560931daa0500ce419a39ea6cd0/expr.ipynb\"><img src=\"data:image/png;base64,iVBORw0KGgoAAAANSUhEUgAAAA4AAAAFBAMAAACHocAhAAAAFVBMVEX///9EREQiIiJUVFQyMjJm\n",
       "ZmYAAADubVkoAAAAAXRSTlMAQObYZgAAABRJREFUCNdjCHEBAWcGXCBICQQUAUpuAwlgGKrkAAAA\n",
       "AElFTkSuQmCC\n",
       "\" style=\"display:inline;vertical-align:middle;\" /></a></td></tr>\n",
       "<tr><td>2</td><td>ExprTuple</td><td>3, 4</td><td><a class=\"ProveItLink\" href=\"../778de5557934e56142bcbdcd41a44ac47d114f160/expr.ipynb\"><img src=\"data:image/png;base64,iVBORw0KGgoAAAANSUhEUgAAAO0AAAAVBAMAAABYonTIAAAAMFBMVEX////c3NwiIiJERESqqqqY\n",
       "mJh2dnZmZmYQEBDu7u4yMjJUVFTMzMyIiIi6uroAAAAs73DqAAAAAXRSTlMAQObYZgAAAklJREFU\n",
       "SMfFlj9IG3EUx78xd0nO3l2ydbBQB4dO7aJDJ7MVCtJMHRwkUFAQpFlqijhkcOpgru2gtEMPUUpP\n",
       "KHG20JtcHLyl0KFicCpCsREVItT23T/N3e+X5HeD9MG7+/2+9+59cu/u93sB/pfpju9ck5s3gZxy\n",
       "D7uBp43Y1ZX9RWCRuYmJ25keDYcPmei4ok4/KyJr0+iT78p4PN99vLExGE/ExKUqOA7K9bYdj2aU\n",
       "29D/ACagOZ4r21/DfK/9kzYMzYRcjqpsXOYU+WFv9H47pCgFdFGeF3ECPAVyhu84CPNN+KeBBvQW\n",
       "lFpUZeOkKy60kCKF3wujPPG4q8ARfGfy5StQT4HRflyysM4CXHh1ThcxT8N5Xr67ZagUMiPA3UQC\n",
       "7mCD3k0FGzTc6MY9Bx735aqzjQTcHfdHSiaW6bTcg/tT4Hm/NxM8r0Y0vYZLGl72qPOeADfXTsBF\n",
       "3YD6O85dsKx7lrUZfFdnAfdaZeNSNtJnnZSsZa29sqwGV7kDjJdc7hJNlsBfR1JLoM4f2jFur+dV\n",
       "/houl+o8RrMxXj7aNzK0Lif7cfMmBlowBOt8ATwoQDa9dTLDfW8jWLUF1pFWwnFZORHkfoN+7q2j\n",
       "Q5q4Xq1/LEUJK3Nf6Pg5xmXjHlXXodRpH8y+vHgRpbCKVF0o0hpuIkc35AqdW/dEpA3UeCqr6JEU\n",
       "EtNXowrtk+7Gf7X5e/arc5JxeCqryExPRw9l7roPdrF3gq1cTtL3FeqDGAqcb1uCqZwk3FvuS0k5\n",
       "vnNNs2/if84P4B/gHu3GpoCX3gAAAABJRU5ErkJggg==\n",
       "\" style=\"display:inline;vertical-align:middle;\" /></a></td></tr>\n",
       "<tr><td>3</td><td>Operation</td><td>operator:&nbsp;9<br>operands:&nbsp;5<br></td><td><a class=\"ProveItLink\" href=\"../f2c09c8cae256fc26342f3f9655a0463dc56a63f0/expr.ipynb\"><img src=\"data:image/png;base64,iVBORw0KGgoAAAANSUhEUgAAAIMAAAAVBAMAAACXjEALAAAAMFBMVEX////c3NwiIiJERESqqqqY\n",
       "mJh2dnZmZmYQEBDu7u4yMjJUVFTMzMyIiIi6uroAAAAs73DqAAAAAXRSTlMAQObYZgAAAXdJREFU\n",
       "OMtjYKAC4LuAQ4L1AbFGnAZi5glogtPv1jAw1GCotUTj86QlOwCplQwMnPboRugxTDrAwIVuwuSf\n",
       "aALiDHx/GRh4LzBw7t4PM2IihOJVYOBdwMCagCo6ezfMCE4BCJ3vwPCJgYEDpPs+zAhfCMW0gYHv\n",
       "IwNnA6ooAy/MCBZo+PmDjXjFgMUI/gIGni8MDCaEjGAAe6QMmxHyCQw8QLl0wkZwbWBgWIrLiG8M\n",
       "DF4EjTi2Gkj04THiBWFX8AL1/8PjkfOEjWDon4BsRNWqVRqrVq2GBudXqBEIUagR7KtWLepatQoY\n",
       "CAwyDAz2AQwtDNgjleUjYY9w/p8AMsIUmxHApMWmwMAQRcgjvxgY9AUgEYduBIMKw4wDRETqVQY+\n",
       "YKg/ArLK+5cHoCqenrsHSK5DNYK94lcpqhEs5VXAbMYhgJxvfJE5GAkcDlhQCgh4XgKDt8gctgvY\n",
       "RLGUMStxliSziC1ypHHKbCTWCEZcBR/vAeIMAAAH14HSmbbPfwAAAABJRU5ErkJggg==\n",
       "\" style=\"display:inline;vertical-align:middle;\" /></a></td></tr>\n",
       "<tr><td>4</td><td>Operation</td><td>operator:&nbsp;9<br>operands:&nbsp;6<br></td><td><a class=\"ProveItLink\" href=\"../46607f0c120fde56305f47811ff1fd5cf39c9d5f0/expr.ipynb\"><img src=\"data:image/png;base64,iVBORw0KGgoAAAANSUhEUgAAAFAAAAAQBAMAAABzZ+XyAAAAMFBMVEX///92dnbMzMy6uroiIiKq\n",
       "qqrc3NyYmJgyMjIQEBBmZmaIiIhUVFTu7u5EREQAAADaqMZ6AAAAAXRSTlMAQObYZgAAAJZJREFU\n",
       "KM9jYGB4y4AO0EUUBZ8CyXt/0dWhi7AtYLDfwHDnDEyYNwFCY4gwfmXgd2Bg4IYJs26AMtBFWIlV\n",
       "CARAq4lT2MNAlEImiQMMRJq404BIhZx/YcJcHR0tMzo6DiAUIkTYFBj4vhNj4v2/RCrkb2Bg+UaM\n",
       "Qu4CBnsBBq6VP5ajKsQUiVrVihz3CD/iFgED5g34RADQ3U9fwaTGEQAAAABJRU5ErkJggg==\n",
       "\" style=\"display:inline;vertical-align:middle;\" /></a></td></tr>\n",
       "<tr><td>5</td><td>ExprTuple</td><td>7, 11, 8</td><td><a class=\"ProveItLink\" href=\"../0059f4b8c4d247f4531d2eb322df7f4d8188c8bd0/expr.ipynb\"><img src=\"data:image/png;base64,iVBORw0KGgoAAAANSUhEUgAAAGEAAAAVBAMAAACkm51HAAAAMFBMVEX////c3NwiIiJERESqqqqY\n",
       "mJh2dnZmZmYQEBDu7u4yMjJUVFTMzMyIiIi6uroAAAAs73DqAAAAAXRSTlMAQObYZgAAAXFJREFU\n",
       "OMuVk79Lw0AUx7/a9MdpErs5KJjBwUknB6fmHyh2cpSCoFOxi1aKg4OziTo04GAWkaZL9wp2cnHp\n",
       "4qb4YxQELVqwUPUuyYU0JtAc5N733r0PvLx7D4i/5E6M4HW23dIvoQduag/7XK64VtzcUJFuU1UH\n",
       "SC5ILOKk7ajTb9c1DXkAmIDUAWldc+LYMZICybTVWYsT2yq6wBqQYcGPnMg7ZrwJ+cOFObFqEwbw\n",
       "ihBiqgzxM0DAziqhYjeMmCtCHPwjJppAqoyLKKIXJG4adBNMHI1MQKKx8gF+Rs8Kmg7x3U9ULWvB\n",
       "shrun38FiFkgV2DEIcKrKwSqS351RtCslsMI+oIpBTonCBN9YCmLpImtMALzMNqky4lzhYo7yD27\n",
       "ui/0UNEuC8NErXQFomWB9F5/BwbLUKhUVfomT8hk/R2YH5oD7+rZ89EuSRb9QW/+Q9JTBU+VnG6P\n",
       "WCEEYR09E0l4wyl5rkmW6Ficqb0H/gDGcnG44u+txwAAAABJRU5ErkJggg==\n",
       "\" style=\"display:inline;vertical-align:middle;\" /></a></td></tr>\n",
       "<tr><td>6</td><td>ExprTuple</td><td>11, 11, 8</td><td><a class=\"ProveItLink\" href=\"../fd889ee7e03cc2b9a48cfaca3abd4ef8b27e362e0/expr.ipynb\"><img src=\"data:image/png;base64,iVBORw0KGgoAAAANSUhEUgAAAD0AAAAVBAMAAAAHs/uBAAAAMFBMVEX////c3NwiIiJERESqqqqY\n",
       "mJh2dnZmZmYQEBDu7u4yMjJUVFTMzMyIiIi6uroAAAAs73DqAAAAAXRSTlMAQObYZgAAAP1JREFU\n",
       "KM9jYCAE+C7glIoDEaeBmHkCTAjG4klLdmBgPwBkrWRg4LSHycNZ4gx8fxkYFjAw8F5g4Ny9HyqK\n",
       "YOU7MHxiYAhjYOAACdyHmw9j+YPlZzAwvGLAKs8ANp/ZgaEMlzzXBgYGtgKGpTjkj60GEiwLGPpw\n",
       "6ecFyvA1MPzDJc/QP4GB5wMueRkGBvsAkHwLVnnO/xNA8kDzTWGiExiQWb8YGPQFGFgXMKRDRTk/\n",
       "MSCzrjLwfQP77xGQU96/PICzXwCZxVJe5QAMgwcMHAKw8BJgwGABw5c1AcpmhXsMwcqFxC8ueU5g\n",
       "/DJIQzmIZARncYMsYsSdvu4wMAAAXVRXk7Z367QAAAAASUVORK5CYII=\n",
       "\" style=\"display:inline;vertical-align:middle;\" /></a></td></tr>\n",
       "<tr><td>7</td><td>Operation</td><td>operator:&nbsp;9<br>operands:&nbsp;10<br></td><td><a class=\"ProveItLink\" href=\"../f03fb019aa9c765a2589a4cf1993dde735141e480/expr.ipynb\"><img src=\"data:image/png;base64,iVBORw0KGgoAAAANSUhEUgAAACwAAAAQBAMAAACfEoDkAAAAMFBMVEX///92dnbMzMy6uroiIiKq\n",
       "qqrc3NyYmJgyMjIQEBBmZmaIiIhUVFTu7u5EREQAAADaqMZ6AAAAAXRSTlMAQObYZgAAAH1JREFU\n",
       "GNNjYGB4y4AKbu1eBCTv/UUTdma4osBw5wxMmDcBTHE7MHA3ACmYMOsGMMVygIH5G6Yw/wIGpq+Y\n",
       "wvkCDEy/sQt/JEkYbghXR0fLjI6OAxArv2N1ICsWBwK9w+iAKczgynBTgYFr5Y/lqMK3pA8hBxFM\n",
       "GA0wIwkDAHOKM2gkwxPnAAAAAElFTkSuQmCC\n",
       "\" style=\"display:inline;vertical-align:middle;\" /></a></td></tr>\n",
       "<tr><td>8</td><td>Literal</td><td></td><td><a class=\"ProveItLink\" href=\"../../../numeral/__pv_it/9176d93c83afa2c995b614976e3cb49207102fa70/expr.ipynb\"><img src=\"data:image/png;base64,iVBORw0KGgoAAAANSUhEUgAAAAoAAAAOBAMAAADkjZCYAAAAMFBMVEX///+YmJju7u4QEBBUVFQy\n",
       "MjIiIiKIiIi6urpmZmbc3NyqqqpERER2dnbMzMwAAAB0GlNiAAAAAXRSTlMAQObYZgAAAE1JREFU\n",
       "CNdjYHh79zQDA9cEhv4CBt7fDPwJDNxgEgiAIkAQAsR8Vx1ATIbiBhDJ/ImB6wEDz0cG/U8gkj+A\n",
       "ge0XA7sAQ/8FBoadM6MZAEflFACalZ/OAAAAAElFTkSuQmCC\n",
       "\" style=\"display:inline;vertical-align:middle;\" /></a></td></tr>\n",
       "<tr><td>9</td><td>Literal</td><td></td><td><a class=\"ProveItLink\" href=\"../3e6688136fa3c7aefbebe51301b7c3ebf0b69c440/expr.ipynb\"><img src=\"data:image/png;base64,iVBORw0KGgoAAAANSUhEUgAAAA4AAAAOBAMAAADtZjDiAAAAJFBMVEX///+6urpUVFQQEBAiIiIy\n",
       "MjJmZmaIiIiqqqrc3Nzu7u4AAACgHpL+AAAAAXRSTlMAQObYZgAAAB5JREFUCNdjYGBgWMkAAe2k\n",
       "0Kmhoc6hoUGk6BMHYgAHOwjcado9fwAAAABJRU5ErkJggg==\n",
       "\" style=\"display:inline;vertical-align:middle;\" /></a></td></tr>\n",
       "<tr><td>10</td><td>ExprTuple</td><td>11, 12</td><td><a class=\"ProveItLink\" href=\"../c36f3d09113341b3142bc662288ad6b85b3a940a0/expr.ipynb\"><img src=\"data:image/png;base64,iVBORw0KGgoAAAANSUhEUgAAACkAAAAVBAMAAAAp9toTAAAAMFBMVEX////c3NwiIiJERESqqqqY\n",
       "mJh2dnZmZmYQEBDu7u4yMjJUVFTMzMyIiIi6uroAAAAs73DqAAAAAXRSTlMAQObYZgAAAORJREFU\n",
       "GNNjYMAO+C6gCcSBiNNAzDwBIsBZe/0AA/sBIGslkGMPFWV6wKnDwLCAgYH3AgPn7v1Q0UsMDLcY\n",
       "GMIYGDhAAvehotoMDO8FGGYwMLxiQBL9zsBw3oGB2YGhDEmU8RtQ9AIDWwHDUnTRBAaWBQx9mKJ8\n",
       "DQz/ME3g+YAiCrYtACTawoDqMn8BkAmmMNEJEF8kMTCwLmBIh4pyfgL52IGzhwHkskdATnn/8gDO\n",
       "fgFggJTdBgYN1wMGDgFYiMIYIB+zJkDZrPAAzoWEJKooJzAkGaShHHiUcIOMYkSPoTsMDAA7aUeC\n",
       "nMq5UgAAAABJRU5ErkJggg==\n",
       "\" style=\"display:inline;vertical-align:middle;\" /></a></td></tr>\n",
       "<tr><td>11</td><td>Literal</td><td></td><td><a class=\"ProveItLink\" href=\"../../../numeral/__pv_it/9be8badea4c35b9724062cecc501d17a3158d1d20/expr.ipynb\"><img src=\"data:image/png;base64,iVBORw0KGgoAAAANSUhEUgAAAAgAAAAPBAMAAAArJJMAAAAAHlBMVEX///+YmJgyMjIQEBBmZmaI\n",
       "iIhUVFTu7u5EREQAAAAw+MI4AAAAAXRSTlMAQObYZgAAACFJREFUCNdjYGBoZ2BgqJjOwFCWBiQY\n",
       "WEklWJwnOTKAAACjEQo8HvEr3AAAAABJRU5ErkJggg==\n",
       "\" style=\"display:inline;vertical-align:middle;\" /></a></td></tr>\n",
       "<tr><td>12</td><td>Literal</td><td></td><td><a class=\"ProveItLink\" href=\"../../../numeral/__pv_it/ec23fc7a1b4222a5f4948b495002b97d6fa18c3c0/expr.ipynb\"><img src=\"data:image/png;base64,iVBORw0KGgoAAAANSUhEUgAAAAoAAAAOBAMAAADkjZCYAAAALVBMVEX///8QEBCYmJh2dnaqqqrc\n",
       "3NxUVFQyMjK6uroiIiLMzMyIiIhmZmbu7u4AAAAZjyHdAAAAAXRSTlMAQObYZgAAAEpJREFUCNdj\n",
       "YLiz+xQDA8MMhpsLGLgnMHAXMHAmMHA8ZeA7wMD1hCHOgIHrNZh8jES+Bss+AqlkeQrSxTyBgWEK\n",
       "w8UFDAx3rLMYAMCjFldHSx/9AAAAAElFTkSuQmCC\n",
       "\" style=\"display:inline;vertical-align:middle;\" /></a></td></tr>\n",
       "</table>\n"
      ],
      "text/plain": [
       "0. ((1 + 0) + 1 + 3) = (1 + 1 + 3)\n",
       "   core type: Operation\n",
       "   operator: 1\n",
       "   operands: 2\n",
       "1. =\n",
       "   core type: Literal\n",
       "   sub-expressions: \n",
       "2. ((1 + 0) + 1 + 3 , 1 + 1 + 3)\n",
       "   core type: ExprTuple\n",
       "   sub-expressions: 3, 4\n",
       "3. (1 + 0) + 1 + 3\n",
       "   core type: Operation\n",
       "   operator: 9\n",
       "   operands: 5\n",
       "4. 1 + 1 + 3\n",
       "   core type: Operation\n",
       "   operator: 9\n",
       "   operands: 6\n",
       "5. (1 + 0 , 1 , 3)\n",
       "   core type: ExprTuple\n",
       "   sub-expressions: 7, 11, 8\n",
       "6. (1 , 1 , 3)\n",
       "   core type: ExprTuple\n",
       "   sub-expressions: 11, 11, 8\n",
       "7. 1 + 0\n",
       "   core type: Operation\n",
       "   operator: 9\n",
       "   operands: 10\n",
       "8. 3\n",
       "   core type: Literal\n",
       "   sub-expressions: \n",
       "9. +\n",
       "   core type: Literal\n",
       "   sub-expressions: \n",
       "10. (1 , 0)\n",
       "    core type: ExprTuple\n",
       "    sub-expressions: 11, 12\n",
       "11. 1\n",
       "    core type: Literal\n",
       "    sub-expressions: \n",
       "12. 0\n",
       "    core type: Literal\n",
       "    sub-expressions: "
      ]
     },
     "execution_count": 4,
     "metadata": {},
     "output_type": "execute_result"
    }
   ],
   "source": [
    "# display the expression information\n",
    "expr.exprInfo()"
   ]
  },
  {
   "cell_type": "code",
   "execution_count": null,
   "metadata": {},
   "outputs": [],
   "source": []
  }
 ],
 "metadata": {
  "kernelspec": {
   "display_name": "Python 3",
   "language": "python",
   "name": "python3"
  }
 },
 "nbformat": 4,
 "nbformat_minor": 0
}
