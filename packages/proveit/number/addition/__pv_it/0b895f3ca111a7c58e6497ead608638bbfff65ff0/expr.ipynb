{
 "cells": [
  {
   "cell_type": "markdown",
   "metadata": {},
   "source": [
    "Expression of type <a class=\"ProveItLink\" href=\"../../../../../../doc/html/api/proveit.ExprTuple.html\">ExprTuple</a>\n",
    "=======================\n",
    "# from context <a class=\"ProveItLink\" href=\"../../_context_.ipynb\">proveit.number.addition</a>"
   ]
  },
  {
   "cell_type": "code",
   "execution_count": 1,
   "metadata": {},
   "outputs": [],
   "source": [
    "# import Expression classes needed to build the expression\n",
    "from proveit import ExprTuple\n",
    "from proveit._common_ import a, b, c\n",
    "from proveit.number import Mult, two"
   ]
  },
  {
   "cell_type": "code",
   "execution_count": 2,
   "metadata": {},
   "outputs": [
    {
     "data": {
      "text/html": [
       "<strong id=\"expr\">expr:</strong> <a class=\"ProveItLink\" href=\"expr.ipynb\"><img src=\"data:image/png;base64,iVBORw0KGgoAAAANSUhEUgAAAGcAAAAVBAMAAACphe0AAAAAMFBMVEX////c3NwiIiJERESqqqqY\n",
       "mJh2dnZmZmYQEBDu7u4yMjJUVFTMzMyIiIi6uroAAAAs73DqAAAAAXRSTlMAQObYZgAAAZFJREFU\n",
       "OMudk7FPwkAUxr+WQlsqFCcHB5l0ZXE1/Q+sC6MhDjBpusjgIibGxEHT0Y0mxsG4sJgYE5ImDpo4\n",
       "yGoURCfjAsY4sIjXO7yWKwu+4fq7L/3u3nt3B/wrsq3p/l8PhntgbmeFa/pVXgAhVJ8M55AaeLG4\n",
       "mG6IIIQHZFowXMh9rpmWCEIUAc2Fdgjjh2s9VwQhToAPkscAamjaiIEQCQtVCvKAaxftSwGk5tbe\n",
       "qDnlto+UgzM6eyjx7n3B9McA77nEqOS7bjoPxcMxnZ3S34IilAE0ugIH6RtqgS14hISNbA20GCbW\n",
       "g4NRPZgOomD0IbMLYNANZ/rM9MTaElhlBz0bUTALqLM8zcLItB9k4mA2cky77hgstLCKPwruXQ3L\n",
       "5HMLrHGTjwPoUahbuFZ8KpGdbSQ9VEili+UKv2eGpTZodRzStrKUYpKDFG35G8l+OBxyk97cJtV9\n",
       "RkBqdm46lFBtP5JFutByk079NQYhkWuULE0y2TEIaZM+jelMOnkamJ/gycQgJCOoR5ryuT8Dv/Qv\n",
       "dKAk0Vf2AAAAAElFTkSuQmCC\n",
       "\" style=\"display:inline;vertical-align:middle;\" /></a><br>"
      ],
      "text/plain": [
       "expr: (2 * b , b , a , c)"
      ]
     },
     "execution_count": 2,
     "metadata": {},
     "output_type": "execute_result"
    }
   ],
   "source": [
    "# build up the expression from sub-expressions\n",
    "expr = ExprTuple(Mult(two, b), b, a, c)"
   ]
  },
  {
   "cell_type": "code",
   "execution_count": 3,
   "metadata": {},
   "outputs": [
    {
     "name": "stdout",
     "output_type": "stream",
     "text": [
      "Passed sanity check: built 'expr' is the same as the stored Expression.\n"
     ]
    }
   ],
   "source": [
    "# check that the built expression is the same as the stored expression\n",
    "%check_expr"
   ]
  },
  {
   "cell_type": "code",
   "execution_count": 4,
   "metadata": {},
   "outputs": [
    {
     "data": {
      "text/html": [
       "<table><tr><th>&nbsp;</th><th>core type</th><th>sub-expressions</th><th>expression</th></tr>\n",
       "<tr><td>0</td><td>ExprTuple</td><td>1, 7, 2, 3</td><td><a class=\"ProveItLink\" href=\"expr.ipynb\"><img src=\"data:image/png;base64,iVBORw0KGgoAAAANSUhEUgAAAGcAAAAVBAMAAACphe0AAAAAMFBMVEX////c3NwiIiJERESqqqqY\n",
       "mJh2dnZmZmYQEBDu7u4yMjJUVFTMzMyIiIi6uroAAAAs73DqAAAAAXRSTlMAQObYZgAAAZFJREFU\n",
       "OMudk7FPwkAUxr+WQlsqFCcHB5l0ZXE1/Q+sC6MhDjBpusjgIibGxEHT0Y0mxsG4sJgYE5ImDpo4\n",
       "yGoURCfjAsY4sIjXO7yWKwu+4fq7L/3u3nt3B/wrsq3p/l8PhntgbmeFa/pVXgAhVJ8M55AaeLG4\n",
       "mG6IIIQHZFowXMh9rpmWCEIUAc2Fdgjjh2s9VwQhToAPkscAamjaiIEQCQtVCvKAaxftSwGk5tbe\n",
       "qDnlto+UgzM6eyjx7n3B9McA77nEqOS7bjoPxcMxnZ3S34IilAE0ugIH6RtqgS14hISNbA20GCbW\n",
       "g4NRPZgOomD0IbMLYNANZ/rM9MTaElhlBz0bUTALqLM8zcLItB9k4mA2cky77hgstLCKPwruXQ3L\n",
       "5HMLrHGTjwPoUahbuFZ8KpGdbSQ9VEili+UKv2eGpTZodRzStrKUYpKDFG35G8l+OBxyk97cJtV9\n",
       "RkBqdm46lFBtP5JFutByk079NQYhkWuULE0y2TEIaZM+jelMOnkamJ/gycQgJCOoR5ryuT8Dv/Qv\n",
       "dKAk0Vf2AAAAAElFTkSuQmCC\n",
       "\" style=\"display:inline;vertical-align:middle;\" /></a></td></tr>\n",
       "<tr><td>1</td><td>Operation</td><td>operator:&nbsp;4<br>operands:&nbsp;5<br></td><td><a class=\"ProveItLink\" href=\"../4fa23b01b5b767887c70271cab015f5b5c98d38c0/expr.ipynb\"><img src=\"data:image/png;base64,iVBORw0KGgoAAAANSUhEUgAAACEAAAAOBAMAAABTMGi/AAAAMFBMVEX///+YmJh2dnbMzMwQEBAi\n",
       "IiLu7u6qqqqIiIhUVFS6urpEREQyMjJmZmbc3NwAAACOMKdoAAAAAXRSTlMAQObYZgAAAKBJREFU\n",
       "CNdj4Lt7egEDFLBNCQCSLxk4vsNEGHgmAIlpDAzxcBH+AiDhksAwH65tfQKQOJ/AcB8uogql4xNg\n",
       "Iic7JoIo5k9wu34z8BuALNgA4qUBMfs3BhYFIH0bLP0VSPAeYOC/wMDAMQEs4g0kWC8wrBdgYKhl\n",
       "4HuAcM79BAbmCwyMcBEDBicGhqdKSldhdnEW8AKNiP///yvc9hkXGRgAQ2knSfB0jgcAAAAASUVO\n",
       "RK5CYII=\n",
       "\" style=\"display:inline;vertical-align:middle;\" /></a></td></tr>\n",
       "<tr><td>2</td><td>Variable</td><td></td><td><a class=\"ProveItLink\" href=\"../../../../__pv_it/07527342713064c87612d00d8557c53d53d5324a0/expr.ipynb\"><img src=\"data:image/png;base64,iVBORw0KGgoAAAANSUhEUgAAAAsAAAAJBAMAAAAWSsseAAAAMFBMVEX///8yMjKqqqrMzMzu7u4i\n",
       "IiJmZmaYmJhEREQQEBC6urp2dnaIiIhUVFTc3NwAAAD87Fq/AAAAAXRSTlMAQObYZgAAAEhJREFU\n",
       "CNdjYOC7s2seAwPDygccHxgY+L4zsDUwMPB+YGA9wMDA38Dgb8DA8P4Agz6DA4O/AsNFJgMGxgKm\n",
       "MG6gyjunLE4xAAAZTBA5TB6DCwAAAABJRU5ErkJggg==\n",
       "\" style=\"display:inline;vertical-align:middle;\" /></a></td></tr>\n",
       "<tr><td>3</td><td>Variable</td><td></td><td><a class=\"ProveItLink\" href=\"../../../../__pv_it/cbdfda466482236edba0ce44ac7ef39cda0af7a40/expr.ipynb\"><img src=\"data:image/png;base64,iVBORw0KGgoAAAANSUhEUgAAAAkAAAAJBAMAAAASvxsjAAAALVBMVEX///9mZmbc3NxUVFSYmJhE\n",
       "REQiIiIyMjK6uroQEBDMzMyIiIh2dnbu7u4AAABgFDGoAAAAAXRSTlMAQObYZgAAADZJREFUCNdj\n",
       "YOA9s3sBA8PKBvYEBt7ZDKwODMwPGICALwBE6m0Asx0YGIDiAgw8QJUyu/cyAAAmuwmycZ8WfQAA\n",
       "AABJRU5ErkJggg==\n",
       "\" style=\"display:inline;vertical-align:middle;\" /></a></td></tr>\n",
       "<tr><td>4</td><td>Literal</td><td></td><td><a class=\"ProveItLink\" href=\"../../../multiplication/__pv_it/21fd2079611555ecce512d99547a00d551e6b86b0/expr.ipynb\"><img src=\"data:image/png;base64,iVBORw0KGgoAAAANSUhEUgAAAAMAAAADBAMAAACkBqiMAAAAElBMVEX///9EREQQEBAiIiLu7u4A\n",
       "AABGBidwAAAAAXRSTlMAQObYZgAAABFJREFUCNdjYHFgcDVgcBIAAASWAQx4jI0xAAAAAElFTkSu\n",
       "QmCC\n",
       "\" style=\"display:inline;vertical-align:middle;\" /></a></td></tr>\n",
       "<tr><td>5</td><td>ExprTuple</td><td>6, 7</td><td><a class=\"ProveItLink\" href=\"../3a7fed3333ef42636d071b31cc212d3a8cbf468e0/expr.ipynb\"><img src=\"data:image/png;base64,iVBORw0KGgoAAAANSUhEUgAAACkAAAAVBAMAAAAp9toTAAAAMFBMVEX////c3NwiIiJERESqqqqY\n",
       "mJh2dnZmZmYQEBDu7u4yMjJUVFTMzMyIiIi6uroAAAAs73DqAAAAAXRSTlMAQObYZgAAARNJREFU\n",
       "GNNtkaFPw0AUxn8tK20prEMhMFVoDJb0TwCDJA2CKZIaEBgQhAQDlcgmBEEwNSQYkjkEgnlGIEjM\n",
       "FqZqKO/u2omGipf3/a737rvv4P+vO2yBXVVeYOV40wD/MQJ3IN0dVsFHbPBCISWHpSFBhj0xNFSr\n",
       "O+BleBcEv4aOMynX8C3bStya7qkyF3OklV0aev/+APMpt1q9JsbDlHBAJ+dSyxvza6fES+ieoge6\n",
       "64a6OWHK4sTQt/padsp4S9EztTFlubF7kqkJGyKeYRvlVI46ByenD9bafj/yf4QGsVtoZ18yraqq\n",
       "yL/qibOnQxXGJ16vSbRp1I2dpO6dWcAHOskW9SVJVmsxe5JAjbLaLzSCP9bMPeBRRV1aAAAAAElF\n",
       "TkSuQmCC\n",
       "\" style=\"display:inline;vertical-align:middle;\" /></a></td></tr>\n",
       "<tr><td>6</td><td>Literal</td><td></td><td><a class=\"ProveItLink\" href=\"../../../numeral/__pv_it/77d407a64829263cdc16415becd4c2293f77a4bf0/expr.ipynb\"><img src=\"data:image/png;base64,iVBORw0KGgoAAAANSUhEUgAAAAkAAAAOBAMAAAAPuiubAAAAMFBMVEX///+YmJh2dnbMzMwQEBAi\n",
       "IiLu7u6qqqqIiIhUVFS6urpEREQyMjJmZmbc3NwAAACOMKdoAAAAAXRSTlMAQObYZgAAAFBJREFU\n",
       "CNdj4Lt7egEDw0sGju8MDNMYGOIZGFwSGOYvYDifwHAfKAEUSQASzJ9ATJ4NIPI2iOCYACJrGfge\n",
       "MDBfYGB8wPBUSekqUPH//18ZAIliFhc3zESNAAAAAElFTkSuQmCC\n",
       "\" style=\"display:inline;vertical-align:middle;\" /></a></td></tr>\n",
       "<tr><td>7</td><td>Variable</td><td></td><td><a class=\"ProveItLink\" href=\"../../../../__pv_it/6840a4fa6c106149dc16a131294d0c5e44f1b0480/expr.ipynb\"><img src=\"data:image/png;base64,iVBORw0KGgoAAAANSUhEUgAAAAkAAAAOBAMAAAAPuiubAAAALVBMVEX///9mZmbMzMxERESYmJiI\n",
       "iIh2dna6urqqqqoyMjIiIiIQEBBUVFTu7u4AAAD9S1JeAAAAAXRSTlMAQObYZgAAAE1JREFUCNdj\n",
       "4D29gAEIOA+ASL4GEFl3AURmgQiGOaFHGBh4HzPwKTBwvGXgTmBgnMDAJ8DAJcBQ5wBSLncBJLWN\n",
       "gYGngRFoBO9REQYGAGrcDtUkVqASAAAAAElFTkSuQmCC\n",
       "\" style=\"display:inline;vertical-align:middle;\" /></a></td></tr>\n",
       "</table>\n"
      ],
      "text/plain": [
       "0. (2 * b , b , a , c)\n",
       "   core type: ExprTuple\n",
       "   sub-expressions: 1, 7, 2, 3\n",
       "1. 2 * b\n",
       "   core type: Operation\n",
       "   operator: 4\n",
       "   operands: 5\n",
       "2. a\n",
       "   core type: Variable\n",
       "   sub-expressions: \n",
       "3. c\n",
       "   core type: Variable\n",
       "   sub-expressions: \n",
       "4. *\n",
       "   core type: Literal\n",
       "   sub-expressions: \n",
       "5. (2 , b)\n",
       "   core type: ExprTuple\n",
       "   sub-expressions: 6, 7\n",
       "6. 2\n",
       "   core type: Literal\n",
       "   sub-expressions: \n",
       "7. b\n",
       "   core type: Variable\n",
       "   sub-expressions: "
      ]
     },
     "execution_count": 4,
     "metadata": {},
     "output_type": "execute_result"
    }
   ],
   "source": [
    "# display the expression information\n",
    "expr.exprInfo()"
   ]
  },
  {
   "cell_type": "code",
   "execution_count": null,
   "metadata": {},
   "outputs": [],
   "source": []
  }
 ],
 "metadata": {
  "kernelspec": {
   "display_name": "Python 3",
   "language": "python",
   "name": "python3"
  }
 },
 "nbformat": 4,
 "nbformat_minor": 0
}
